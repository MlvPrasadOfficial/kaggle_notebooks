{
 "cells": [
  {
   "cell_type": "markdown",
   "id": "426fff30",
   "metadata": {
    "papermill": {
     "duration": 0.007424,
     "end_time": "2023-07-22T11:55:34.919624",
     "exception": false,
     "start_time": "2023-07-22T11:55:34.912200",
     "status": "completed"
    },
    "tags": []
   },
   "source": [
    "\n",
    "200 examples in the public dataset leaves very little room for training!\n",
    "\n",
    "Using `gpt-3.5-turbo` I created another 500 high quality examples at my expense [that I share freely here](https://www.kaggle.com/datasets/radek1/additional-train-data-for-llm-science-exam). They are what (as of now) pushes this notebook to the highest achieved score across the public notebooks (`0.723`)!\n",
    "\n",
    "If you find the additional training examples useful, please upvote the dataset! 😊\n",
    "\n",
    "👉 [additional train data for LLM Science Exam 🥳](https://www.kaggle.com/datasets/radek1/additional-train-data-for-llm-science-exam)\n",
    "\n",
    "Thank you! Appreciate your help! 🙏🙏🙏\n",
    "\n",
    "This notebook builds on a [notebook](https://www.kaggle.com/code/leonidkulyk/lb-0-709-llm-se-deberta-v3-large-i-1k-wiki) by LEONID KULYK. Among some of the changes are:\n",
    "\n",
    "* use of a new high quality dataset for training\n",
    "* modified training procedure carried out in the notebook\n",
    "* general streamlining of code/training for readability"
   ]
  },
  {
   "cell_type": "markdown",
   "id": "d23fc07d",
   "metadata": {
    "papermill": {
     "duration": 0.00639,
     "end_time": "2023-07-22T11:55:34.932934",
     "exception": false,
     "start_time": "2023-07-22T11:55:34.926544",
     "status": "completed"
    },
    "tags": []
   },
   "source": [
    "# Preprocessing the dataset"
   ]
  },
  {
   "cell_type": "code",
   "execution_count": 1,
   "id": "4d38ec3c",
   "metadata": {
    "_kg_hide-input": true,
    "execution": {
     "iopub.execute_input": "2023-07-22T11:55:34.948730Z",
     "iopub.status.busy": "2023-07-22T11:55:34.947958Z",
     "iopub.status.idle": "2023-07-22T11:55:49.432301Z",
     "shell.execute_reply": "2023-07-22T11:55:49.431306Z"
    },
    "papermill": {
     "duration": 14.495008,
     "end_time": "2023-07-22T11:55:49.434700",
     "exception": false,
     "start_time": "2023-07-22T11:55:34.939692",
     "status": "completed"
    },
    "tags": []
   },
   "outputs": [
    {
     "name": "stderr",
     "output_type": "stream",
     "text": [
      "/opt/conda/lib/python3.10/site-packages/scipy/__init__.py:146: UserWarning: A NumPy version >=1.16.5 and <1.23.0 is required for this version of SciPy (detected version 1.23.5\n",
      "  warnings.warn(f\"A NumPy version >={np_minversion} and <{np_maxversion}\"\n",
      "/opt/conda/lib/python3.10/site-packages/tensorflow_io/python/ops/__init__.py:98: UserWarning: unable to load libtensorflow_io_plugins.so: unable to open file: libtensorflow_io_plugins.so, from paths: ['/opt/conda/lib/python3.10/site-packages/tensorflow_io/python/ops/libtensorflow_io_plugins.so']\n",
      "caused by: ['/opt/conda/lib/python3.10/site-packages/tensorflow_io/python/ops/libtensorflow_io_plugins.so: undefined symbol: _ZN3tsl6StatusC1EN10tensorflow5error4CodeESt17basic_string_viewIcSt11char_traitsIcEENS_14SourceLocationE']\n",
      "  warnings.warn(f\"unable to load libtensorflow_io_plugins.so: {e}\")\n",
      "/opt/conda/lib/python3.10/site-packages/tensorflow_io/python/ops/__init__.py:104: UserWarning: file system plugins are not loaded: unable to open file: libtensorflow_io.so, from paths: ['/opt/conda/lib/python3.10/site-packages/tensorflow_io/python/ops/libtensorflow_io.so']\n",
      "caused by: ['/opt/conda/lib/python3.10/site-packages/tensorflow_io/python/ops/libtensorflow_io.so: undefined symbol: _ZTVN10tensorflow13GcsFileSystemE']\n",
      "  warnings.warn(f\"file system plugins are not loaded: {e}\")\n"
     ]
    }
   ],
   "source": [
    "from typing import Optional, Union\n",
    "import pandas as pd\n",
    "import numpy as np\n",
    "import torch\n",
    "from datasets import Dataset\n",
    "from dataclasses import dataclass\n",
    "from transformers import AutoTokenizer\n",
    "from transformers.tokenization_utils_base import PreTrainedTokenizerBase, PaddingStrategy\n",
    "from transformers import AutoModelForMultipleChoice, TrainingArguments, Trainer, AutoModel\n",
    "\n",
    "deberta_v3_large = '/kaggle/input/deberta-v3-large-hf-weights'"
   ]
  },
  {
   "cell_type": "markdown",
   "id": "71a6cfb4",
   "metadata": {
    "papermill": {
     "duration": 0.00666,
     "end_time": "2023-07-22T11:55:49.448791",
     "exception": false,
     "start_time": "2023-07-22T11:55:49.442131",
     "status": "completed"
    },
    "tags": []
   },
   "source": [
    "We begin by loading and processing the train data."
   ]
  },
  {
   "cell_type": "code",
   "execution_count": 2,
   "id": "c77eae97",
   "metadata": {
    "execution": {
     "iopub.execute_input": "2023-07-22T11:55:49.464171Z",
     "iopub.status.busy": "2023-07-22T11:55:49.463835Z",
     "iopub.status.idle": "2023-07-22T11:55:49.491392Z",
     "shell.execute_reply": "2023-07-22T11:55:49.490366Z"
    },
    "papermill": {
     "duration": 0.037884,
     "end_time": "2023-07-22T11:55:49.493938",
     "exception": false,
     "start_time": "2023-07-22T11:55:49.456054",
     "status": "completed"
    },
    "tags": []
   },
   "outputs": [
    {
     "data": {
      "text/plain": [
       "(200, 7)"
      ]
     },
     "execution_count": 2,
     "metadata": {},
     "output_type": "execute_result"
    }
   ],
   "source": [
    "df_train = pd.read_csv('/kaggle/input/kaggle-llm-science-exam/train.csv')\n",
    "df_train = df_train.drop(columns=\"id\")\n",
    "df_train.shape"
   ]
  },
  {
   "cell_type": "markdown",
   "id": "08e79a03",
   "metadata": {
    "papermill": {
     "duration": 0.00688,
     "end_time": "2023-07-22T11:55:49.507899",
     "exception": false,
     "start_time": "2023-07-22T11:55:49.501019",
     "status": "completed"
    },
    "tags": []
   },
   "source": [
    "Let's add another 500 examples to the train set!"
   ]
  },
  {
   "cell_type": "code",
   "execution_count": 3,
   "id": "b71f88a9",
   "metadata": {
    "execution": {
     "iopub.execute_input": "2023-07-22T11:55:49.522876Z",
     "iopub.status.busy": "2023-07-22T11:55:49.522596Z",
     "iopub.status.idle": "2023-07-22T11:55:49.542815Z",
     "shell.execute_reply": "2023-07-22T11:55:49.541836Z"
    },
    "papermill": {
     "duration": 0.030142,
     "end_time": "2023-07-22T11:55:49.544877",
     "exception": false,
     "start_time": "2023-07-22T11:55:49.514735",
     "status": "completed"
    },
    "tags": []
   },
   "outputs": [
    {
     "data": {
      "text/plain": [
       "(700, 7)"
      ]
     },
     "execution_count": 3,
     "metadata": {},
     "output_type": "execute_result"
    }
   ],
   "source": [
    "df_train = pd.concat([\n",
    "    df_train,\n",
    "    pd.read_csv('/kaggle/input/additional-train-data-for-llm-science-exam/extra_train_set.csv'),\n",
    "])\n",
    "df_train.reset_index(inplace=True, drop=True)\n",
    "df_train.shape"
   ]
  },
  {
   "cell_type": "markdown",
   "id": "89706c25",
   "metadata": {
    "papermill": {
     "duration": 0.007173,
     "end_time": "2023-07-22T11:55:49.559450",
     "exception": false,
     "start_time": "2023-07-22T11:55:49.552277",
     "status": "completed"
    },
    "tags": []
   },
   "source": [
    "Now that we have gone from 200 -> 700 train examples, let us preprocess the data and begin training."
   ]
  },
  {
   "cell_type": "code",
   "execution_count": 4,
   "id": "4626c3ab",
   "metadata": {
    "execution": {
     "iopub.execute_input": "2023-07-22T11:55:49.575528Z",
     "iopub.status.busy": "2023-07-22T11:55:49.574717Z",
     "iopub.status.idle": "2023-07-22T11:55:49.586531Z",
     "shell.execute_reply": "2023-07-22T11:55:49.585533Z"
    },
    "papermill": {
     "duration": 0.021841,
     "end_time": "2023-07-22T11:55:49.588433",
     "exception": false,
     "start_time": "2023-07-22T11:55:49.566592",
     "status": "completed"
    },
    "tags": []
   },
   "outputs": [],
   "source": [
    "option_to_index = {option: idx for idx, option in enumerate('ABCDE')}\n",
    "index_to_option = {v: k for k,v in option_to_index.items()}\n",
    "\n",
    "def preprocess(example):\n",
    "    first_sentence = [example['prompt']] * 5\n",
    "    second_sentences = [example[option] for option in 'ABCDE']\n",
    "    tokenized_example = tokenizer(first_sentence, second_sentences, truncation=True)\n",
    "    tokenized_example['label'] = option_to_index[example['answer']]\n",
    "    \n",
    "    return tokenized_example\n",
    "\n",
    "@dataclass\n",
    "class DataCollatorForMultipleChoice:\n",
    "    tokenizer: PreTrainedTokenizerBase\n",
    "    padding: Union[bool, str, PaddingStrategy] = True\n",
    "    max_length: Optional[int] = None\n",
    "    pad_to_multiple_of: Optional[int] = None\n",
    "    \n",
    "    def __call__(self, features):\n",
    "        label_name = 'label' if 'label' in features[0].keys() else 'labels'\n",
    "        labels = [feature.pop(label_name) for feature in features]\n",
    "        batch_size = len(features)\n",
    "        num_choices = len(features[0]['input_ids'])\n",
    "        flattened_features = [\n",
    "            [{k: v[i] for k, v in feature.items()} for i in range(num_choices)] for feature in features\n",
    "        ]\n",
    "        flattened_features = sum(flattened_features, [])\n",
    "        \n",
    "        batch = self.tokenizer.pad(\n",
    "            flattened_features,\n",
    "            padding=self.padding,\n",
    "            max_length=self.max_length,\n",
    "            pad_to_multiple_of=self.pad_to_multiple_of,\n",
    "            return_tensors='pt',\n",
    "        )\n",
    "        batch = {k: v.view(batch_size, num_choices, -1) for k, v in batch.items()}\n",
    "        batch['labels'] = torch.tensor(labels, dtype=torch.int64)\n",
    "        return batch"
   ]
  },
  {
   "cell_type": "markdown",
   "id": "149d1b97",
   "metadata": {
    "execution": {
     "iopub.execute_input": "2023-07-21T03:38:13.805215Z",
     "iopub.status.busy": "2023-07-21T03:38:13.804849Z",
     "iopub.status.idle": "2023-07-21T03:38:13.814629Z",
     "shell.execute_reply": "2023-07-21T03:38:13.813302Z",
     "shell.execute_reply.started": "2023-07-21T03:38:13.805184Z"
    },
    "papermill": {
     "duration": 0.00681,
     "end_time": "2023-07-22T11:55:49.602173",
     "exception": false,
     "start_time": "2023-07-22T11:55:49.595363",
     "status": "completed"
    },
    "tags": []
   },
   "source": [
    "We first create a HuggingFace `Dataset`."
   ]
  },
  {
   "cell_type": "code",
   "execution_count": 5,
   "id": "75b2e2f6",
   "metadata": {
    "execution": {
     "iopub.execute_input": "2023-07-22T11:55:49.617653Z",
     "iopub.status.busy": "2023-07-22T11:55:49.617380Z",
     "iopub.status.idle": "2023-07-22T11:55:51.185110Z",
     "shell.execute_reply": "2023-07-22T11:55:51.184073Z"
    },
    "papermill": {
     "duration": 1.578721,
     "end_time": "2023-07-22T11:55:51.188011",
     "exception": false,
     "start_time": "2023-07-22T11:55:49.609290",
     "status": "completed"
    },
    "tags": []
   },
   "outputs": [
    {
     "name": "stderr",
     "output_type": "stream",
     "text": [
      "Special tokens have been added in the vocabulary, make sure the associated word embeddings are fine-tuned or trained.\n",
      "/opt/conda/lib/python3.10/site-packages/transformers/convert_slow_tokenizer.py:454: UserWarning: The sentencepiece tokenizer that you are converting to a fast tokenizer uses the byte fallback option which is not implemented in the fast tokenizers. In practice this means that the fast version of the tokenizer can produce unknown tokens whereas the sentencepiece version would have converted these unknown tokens into a sequence of byte tokens matching the original piece of text.\n",
      "  warnings.warn(\n",
      "Special tokens have been added in the vocabulary, make sure the associated word embeddings are fine-tuned or trained.\n"
     ]
    },
    {
     "data": {
      "text/plain": [
       "Dataset({\n",
       "    features: ['prompt', 'A', 'B', 'C', 'D', 'E', 'answer'],\n",
       "    num_rows: 700\n",
       "})"
      ]
     },
     "execution_count": 5,
     "metadata": {},
     "output_type": "execute_result"
    }
   ],
   "source": [
    "tokenizer = AutoTokenizer.from_pretrained(deberta_v3_large)\n",
    "\n",
    "dataset = Dataset.from_pandas(df_train)\n",
    "dataset"
   ]
  },
  {
   "cell_type": "markdown",
   "id": "d5129adf",
   "metadata": {
    "papermill": {
     "duration": 0.010298,
     "end_time": "2023-07-22T11:55:51.209681",
     "exception": false,
     "start_time": "2023-07-22T11:55:51.199383",
     "status": "completed"
    },
    "tags": []
   },
   "source": [
    "And let us now preprocess the examples for training."
   ]
  },
  {
   "cell_type": "code",
   "execution_count": 6,
   "id": "0b354859",
   "metadata": {
    "execution": {
     "iopub.execute_input": "2023-07-22T11:55:51.232116Z",
     "iopub.status.busy": "2023-07-22T11:55:51.231739Z",
     "iopub.status.idle": "2023-07-22T11:55:52.355959Z",
     "shell.execute_reply": "2023-07-22T11:55:52.354969Z"
    },
    "papermill": {
     "duration": 1.137896,
     "end_time": "2023-07-22T11:55:52.358245",
     "exception": false,
     "start_time": "2023-07-22T11:55:51.220349",
     "status": "completed"
    },
    "tags": []
   },
   "outputs": [
    {
     "data": {
      "application/vnd.jupyter.widget-view+json": {
       "model_id": "fd9fbb9ac7da492d9d4ac5643d401451",
       "version_major": 2,
       "version_minor": 0
      },
      "text/plain": [
       "  0%|          | 0/700 [00:00<?, ?ex/s]"
      ]
     },
     "metadata": {},
     "output_type": "display_data"
    },
    {
     "name": "stderr",
     "output_type": "stream",
     "text": [
      "Asking to truncate to max_length but no maximum length is provided and the model has no predefined maximum length. Default to no truncation.\n"
     ]
    },
    {
     "data": {
      "text/plain": [
       "Dataset({\n",
       "    features: ['input_ids', 'token_type_ids', 'attention_mask', 'label'],\n",
       "    num_rows: 700\n",
       "})"
      ]
     },
     "execution_count": 6,
     "metadata": {},
     "output_type": "execute_result"
    }
   ],
   "source": [
    "tokenized_dataset = dataset.map(preprocess, remove_columns=['prompt', 'A', 'B', 'C', 'D', 'E', 'answer'])\n",
    "tokenized_dataset"
   ]
  },
  {
   "cell_type": "markdown",
   "id": "3c351c0e",
   "metadata": {
    "papermill": {
     "duration": 0.007813,
     "end_time": "2023-07-22T11:55:52.374045",
     "exception": false,
     "start_time": "2023-07-22T11:55:52.366232",
     "status": "completed"
    },
    "tags": []
   },
   "source": [
    "# Training"
   ]
  },
  {
   "cell_type": "code",
   "execution_count": 7,
   "id": "4cec46cf",
   "metadata": {
    "execution": {
     "iopub.execute_input": "2023-07-22T11:55:52.390721Z",
     "iopub.status.busy": "2023-07-22T11:55:52.390424Z",
     "iopub.status.idle": "2023-07-22T12:06:00.445908Z",
     "shell.execute_reply": "2023-07-22T12:06:00.444970Z"
    },
    "papermill": {
     "duration": 608.066303,
     "end_time": "2023-07-22T12:06:00.448040",
     "exception": false,
     "start_time": "2023-07-22T11:55:52.381737",
     "status": "completed"
    },
    "tags": []
   },
   "outputs": [
    {
     "name": "stderr",
     "output_type": "stream",
     "text": [
      "Some weights of the model checkpoint at /kaggle/input/deberta-v3-large-hf-weights were not used when initializing DebertaV2ForMultipleChoice: ['lm_predictions.lm_head.dense.weight', 'lm_predictions.lm_head.bias', 'lm_predictions.lm_head.dense.bias', 'mask_predictions.LayerNorm.weight', 'mask_predictions.dense.bias', 'lm_predictions.lm_head.LayerNorm.bias', 'mask_predictions.classifier.weight', 'mask_predictions.dense.weight', 'mask_predictions.LayerNorm.bias', 'lm_predictions.lm_head.LayerNorm.weight', 'mask_predictions.classifier.bias']\n",
      "- This IS expected if you are initializing DebertaV2ForMultipleChoice from the checkpoint of a model trained on another task or with another architecture (e.g. initializing a BertForSequenceClassification model from a BertForPreTraining model).\n",
      "- This IS NOT expected if you are initializing DebertaV2ForMultipleChoice from the checkpoint of a model that you expect to be exactly identical (initializing a BertForSequenceClassification model from a BertForSequenceClassification model).\n",
      "Some weights of DebertaV2ForMultipleChoice were not initialized from the model checkpoint at /kaggle/input/deberta-v3-large-hf-weights and are newly initialized: ['pooler.dense.bias', 'classifier.bias', 'classifier.weight', 'pooler.dense.weight']\n",
      "You should probably TRAIN this model on a down-stream task to be able to use it for predictions and inference.\n",
      "/opt/conda/lib/python3.10/site-packages/transformers/optimization.py:411: FutureWarning: This implementation of AdamW is deprecated and will be removed in a future version. Use the PyTorch implementation torch.optim.AdamW instead, or set `no_deprecation_warning=True` to disable this warning\n",
      "  warnings.warn(\n",
      "You're using a DebertaV2TokenizerFast tokenizer. Please note that with a fast tokenizer, using the `__call__` method is faster than using a method to encode the text followed by a call to the `pad` method to get a padded encoding.\n"
     ]
    },
    {
     "data": {
      "text/html": [
       "\n",
       "    <div>\n",
       "      \n",
       "      <progress value='2100' max='2100' style='width:300px; height:20px; vertical-align: middle;'></progress>\n",
       "      [2100/2100 09:47, Epoch 3/3]\n",
       "    </div>\n",
       "    <table border=\"1\" class=\"dataframe\">\n",
       "  <thead>\n",
       " <tr style=\"text-align: left;\">\n",
       "      <th>Step</th>\n",
       "      <th>Training Loss</th>\n",
       "    </tr>\n",
       "  </thead>\n",
       "  <tbody>\n",
       "    <tr>\n",
       "      <td>500</td>\n",
       "      <td>1.617600</td>\n",
       "    </tr>\n",
       "    <tr>\n",
       "      <td>1000</td>\n",
       "      <td>1.597200</td>\n",
       "    </tr>\n",
       "    <tr>\n",
       "      <td>1500</td>\n",
       "      <td>1.396500</td>\n",
       "    </tr>\n",
       "    <tr>\n",
       "      <td>2000</td>\n",
       "      <td>1.158100</td>\n",
       "    </tr>\n",
       "  </tbody>\n",
       "</table><p>"
      ],
      "text/plain": [
       "<IPython.core.display.HTML object>"
      ]
     },
     "metadata": {},
     "output_type": "display_data"
    },
    {
     "data": {
      "text/plain": [
       "TrainOutput(global_step=2100, training_loss=1.4222768329438709, metrics={'train_runtime': 589.8081, 'train_samples_per_second': 3.56, 'train_steps_per_second': 3.56, 'total_flos': 823233082746960.0, 'train_loss': 1.4222768329438709, 'epoch': 3.0})"
      ]
     },
     "execution_count": 7,
     "metadata": {},
     "output_type": "execute_result"
    }
   ],
   "source": [
    "training_args = TrainingArguments(\n",
    "    warmup_ratio=0.8,\n",
    "    learning_rate=5e-6,\n",
    "    per_device_train_batch_size=1,\n",
    "    per_device_eval_batch_size=2,\n",
    "    num_train_epochs=3,\n",
    "    report_to='none',\n",
    "    output_dir='.'\n",
    ")\n",
    "\n",
    "model = AutoModelForMultipleChoice.from_pretrained(deberta_v3_large)\n",
    "\n",
    "trainer = Trainer(\n",
    "    model=model,\n",
    "    args=training_args,\n",
    "    tokenizer=tokenizer,\n",
    "    data_collator=DataCollatorForMultipleChoice(tokenizer=tokenizer),\n",
    "    train_dataset=tokenized_dataset,\n",
    ")\n",
    "\n",
    "trainer.train()"
   ]
  },
  {
   "cell_type": "markdown",
   "id": "29ab7a30",
   "metadata": {
    "papermill": {
     "duration": 0.00822,
     "end_time": "2023-07-22T12:06:00.465290",
     "exception": false,
     "start_time": "2023-07-22T12:06:00.457070",
     "status": "completed"
    },
    "tags": []
   },
   "source": [
    "# Predicting on the test set"
   ]
  },
  {
   "cell_type": "markdown",
   "id": "9063a5cb",
   "metadata": {
    "papermill": {
     "duration": 0.008143,
     "end_time": "2023-07-22T12:06:00.481749",
     "exception": false,
     "start_time": "2023-07-22T12:06:00.473606",
     "status": "completed"
    },
    "tags": []
   },
   "source": [
    "Now that we have trained our model, let us predict on the test set."
   ]
  },
  {
   "cell_type": "code",
   "execution_count": 8,
   "id": "0637c7cf",
   "metadata": {
    "execution": {
     "iopub.execute_input": "2023-07-22T12:06:00.500279Z",
     "iopub.status.busy": "2023-07-22T12:06:00.499492Z",
     "iopub.status.idle": "2023-07-22T12:06:00.792956Z",
     "shell.execute_reply": "2023-07-22T12:06:00.792037Z"
    },
    "papermill": {
     "duration": 0.304945,
     "end_time": "2023-07-22T12:06:00.795162",
     "exception": false,
     "start_time": "2023-07-22T12:06:00.490217",
     "status": "completed"
    },
    "tags": []
   },
   "outputs": [
    {
     "data": {
      "application/vnd.jupyter.widget-view+json": {
       "model_id": "a90dafc9b4154986b1aac401acecbdee",
       "version_major": 2,
       "version_minor": 0
      },
      "text/plain": [
       "  0%|          | 0/200 [00:00<?, ?ex/s]"
      ]
     },
     "metadata": {},
     "output_type": "display_data"
    }
   ],
   "source": [
    "test_df = pd.read_csv('/kaggle/input/kaggle-llm-science-exam/test.csv')\n",
    "test_df['answer'] = 'A' # dummy answer that allows us to preprocess the test dataset just like we preprocessed the train dataset\n",
    "\n",
    "tokenized_test_dataset = Dataset.from_pandas(test_df.drop(columns=['id'])).map(preprocess, remove_columns=['prompt', 'A', 'B', 'C', 'D', 'E'])"
   ]
  },
  {
   "cell_type": "code",
   "execution_count": 9,
   "id": "92aa94f5",
   "metadata": {
    "execution": {
     "iopub.execute_input": "2023-07-22T12:06:00.814556Z",
     "iopub.status.busy": "2023-07-22T12:06:00.813976Z",
     "iopub.status.idle": "2023-07-22T12:06:11.050352Z",
     "shell.execute_reply": "2023-07-22T12:06:11.049249Z"
    },
    "papermill": {
     "duration": 10.248488,
     "end_time": "2023-07-22T12:06:11.052393",
     "exception": false,
     "start_time": "2023-07-22T12:06:00.803905",
     "status": "completed"
    },
    "tags": []
   },
   "outputs": [
    {
     "data": {
      "text/html": [],
      "text/plain": [
       "<IPython.core.display.HTML object>"
      ]
     },
     "metadata": {},
     "output_type": "display_data"
    },
    {
     "data": {
      "text/plain": [
       "array([[-6.029471 ,  0.6205369, -6.0251913,  2.6177344, -5.8385563],\n",
       "       [ 1.8678833,  0.4370841, -5.280887 , -5.756734 , -3.9426568],\n",
       "       [-2.7334828, -6.206677 , -5.3680983, -6.1645784, -6.1036654],\n",
       "       [-5.5356154, -5.2587085,  2.1017332, -4.459503 , -4.5252066]],\n",
       "      dtype=float32)"
      ]
     },
     "execution_count": 9,
     "metadata": {},
     "output_type": "execute_result"
    }
   ],
   "source": [
    "test_predictions = trainer.predict(tokenized_test_dataset).predictions\n",
    "test_predictions[:4]"
   ]
  },
  {
   "cell_type": "markdown",
   "id": "0a4d98ff",
   "metadata": {
    "papermill": {
     "duration": 0.009798,
     "end_time": "2023-07-22T12:06:11.071508",
     "exception": false,
     "start_time": "2023-07-22T12:06:11.061710",
     "status": "completed"
    },
    "tags": []
   },
   "source": [
    "The predictions are values output from the last layer of our neural network.\n",
    "\n",
    "Let's obtain the predicted answer ids by sorting them from largest to the smallest."
   ]
  },
  {
   "cell_type": "code",
   "execution_count": 10,
   "id": "6577a5e7",
   "metadata": {
    "execution": {
     "iopub.execute_input": "2023-07-22T12:06:11.091511Z",
     "iopub.status.busy": "2023-07-22T12:06:11.089949Z",
     "iopub.status.idle": "2023-07-22T12:06:11.098588Z",
     "shell.execute_reply": "2023-07-22T12:06:11.097656Z"
    },
    "papermill": {
     "duration": 0.020374,
     "end_time": "2023-07-22T12:06:11.100724",
     "exception": false,
     "start_time": "2023-07-22T12:06:11.080350",
     "status": "completed"
    },
    "tags": []
   },
   "outputs": [
    {
     "data": {
      "text/plain": [
       "array([[3, 1, 4, 2, 0],\n",
       "       [0, 1, 4, 2, 3],\n",
       "       [0, 2, 4, 3, 1]])"
      ]
     },
     "execution_count": 10,
     "metadata": {},
     "output_type": "execute_result"
    }
   ],
   "source": [
    "predictions_as_ids = np.argsort(-test_predictions, 1)\n",
    "predictions_as_ids[:3]"
   ]
  },
  {
   "cell_type": "markdown",
   "id": "4dc54746",
   "metadata": {
    "papermill": {
     "duration": 0.008654,
     "end_time": "2023-07-22T12:06:11.118686",
     "exception": false,
     "start_time": "2023-07-22T12:06:11.110032",
     "status": "completed"
    },
    "tags": []
   },
   "source": [
    "Let us now assign a letter corresponding to each predicted id (0 -> 'A', 1 -> 'B', etc). "
   ]
  },
  {
   "cell_type": "code",
   "execution_count": 11,
   "id": "da7cb718",
   "metadata": {
    "execution": {
     "iopub.execute_input": "2023-07-22T12:06:11.138169Z",
     "iopub.status.busy": "2023-07-22T12:06:11.137356Z",
     "iopub.status.idle": "2023-07-22T12:06:11.144683Z",
     "shell.execute_reply": "2023-07-22T12:06:11.143690Z"
    },
    "papermill": {
     "duration": 0.019086,
     "end_time": "2023-07-22T12:06:11.146566",
     "exception": false,
     "start_time": "2023-07-22T12:06:11.127480",
     "status": "completed"
    },
    "tags": []
   },
   "outputs": [
    {
     "data": {
      "text/plain": [
       "array([['D', 'B', 'E', 'C', 'A'],\n",
       "       ['A', 'B', 'E', 'C', 'D'],\n",
       "       ['A', 'C', 'E', 'D', 'B']], dtype='<U1')"
      ]
     },
     "execution_count": 11,
     "metadata": {},
     "output_type": "execute_result"
    }
   ],
   "source": [
    "predictions_as_answer_letters = np.array(list('ABCDE'))[predictions_as_ids]\n",
    "predictions_as_answer_letters[:3]"
   ]
  },
  {
   "cell_type": "markdown",
   "id": "0e21ad9e",
   "metadata": {
    "papermill": {
     "duration": 0.008724,
     "end_time": "2023-07-22T12:06:11.164296",
     "exception": false,
     "start_time": "2023-07-22T12:06:11.155572",
     "status": "completed"
    },
    "tags": []
   },
   "source": [
    "And let us now go from this representation to outputting a string with 3 highest rated answers seperated by a space."
   ]
  },
  {
   "cell_type": "code",
   "execution_count": 12,
   "id": "2ffa29dc",
   "metadata": {
    "execution": {
     "iopub.execute_input": "2023-07-22T12:06:11.184108Z",
     "iopub.status.busy": "2023-07-22T12:06:11.183321Z",
     "iopub.status.idle": "2023-07-22T12:06:11.191423Z",
     "shell.execute_reply": "2023-07-22T12:06:11.190473Z"
    },
    "papermill": {
     "duration": 0.020121,
     "end_time": "2023-07-22T12:06:11.193402",
     "exception": false,
     "start_time": "2023-07-22T12:06:11.173281",
     "status": "completed"
    },
    "tags": []
   },
   "outputs": [
    {
     "data": {
      "text/plain": [
       "['D B E', 'A B E', 'A C E']"
      ]
     },
     "execution_count": 12,
     "metadata": {},
     "output_type": "execute_result"
    }
   ],
   "source": [
    "predictions_as_string = test_df['prediction'] = [\n",
    "    ' '.join(row) for row in predictions_as_answer_letters[:, :3]\n",
    "]\n",
    "predictions_as_string[:3]"
   ]
  },
  {
   "cell_type": "markdown",
   "id": "00a01d60",
   "metadata": {
    "papermill": {
     "duration": 0.008888,
     "end_time": "2023-07-22T12:06:11.211285",
     "exception": false,
     "start_time": "2023-07-22T12:06:11.202397",
     "status": "completed"
    },
    "tags": []
   },
   "source": [
    "And we are done! 🥳\n",
    "\n",
    "Let us now output our submission."
   ]
  },
  {
   "cell_type": "code",
   "execution_count": 13,
   "id": "c5908672",
   "metadata": {
    "execution": {
     "iopub.execute_input": "2023-07-22T12:06:11.231926Z",
     "iopub.status.busy": "2023-07-22T12:06:11.231053Z",
     "iopub.status.idle": "2023-07-22T12:06:11.255664Z",
     "shell.execute_reply": "2023-07-22T12:06:11.254710Z"
    },
    "papermill": {
     "duration": 0.037213,
     "end_time": "2023-07-22T12:06:11.257645",
     "exception": false,
     "start_time": "2023-07-22T12:06:11.220432",
     "status": "completed"
    },
    "tags": []
   },
   "outputs": [
    {
     "data": {
      "text/html": [
       "<div>\n",
       "<style scoped>\n",
       "    .dataframe tbody tr th:only-of-type {\n",
       "        vertical-align: middle;\n",
       "    }\n",
       "\n",
       "    .dataframe tbody tr th {\n",
       "        vertical-align: top;\n",
       "    }\n",
       "\n",
       "    .dataframe thead th {\n",
       "        text-align: right;\n",
       "    }\n",
       "</style>\n",
       "<table border=\"1\" class=\"dataframe\">\n",
       "  <thead>\n",
       "    <tr style=\"text-align: right;\">\n",
       "      <th></th>\n",
       "      <th>id</th>\n",
       "      <th>prediction</th>\n",
       "    </tr>\n",
       "  </thead>\n",
       "  <tbody>\n",
       "    <tr>\n",
       "      <th>0</th>\n",
       "      <td>0</td>\n",
       "      <td>D B E</td>\n",
       "    </tr>\n",
       "    <tr>\n",
       "      <th>1</th>\n",
       "      <td>1</td>\n",
       "      <td>A B E</td>\n",
       "    </tr>\n",
       "    <tr>\n",
       "      <th>2</th>\n",
       "      <td>2</td>\n",
       "      <td>A C E</td>\n",
       "    </tr>\n",
       "    <tr>\n",
       "      <th>3</th>\n",
       "      <td>3</td>\n",
       "      <td>C D E</td>\n",
       "    </tr>\n",
       "    <tr>\n",
       "      <th>4</th>\n",
       "      <td>4</td>\n",
       "      <td>D C A</td>\n",
       "    </tr>\n",
       "  </tbody>\n",
       "</table>\n",
       "</div>"
      ],
      "text/plain": [
       "   id prediction\n",
       "0   0      D B E\n",
       "1   1      A B E\n",
       "2   2      A C E\n",
       "3   3      C D E\n",
       "4   4      D C A"
      ]
     },
     "execution_count": 13,
     "metadata": {},
     "output_type": "execute_result"
    }
   ],
   "source": [
    "submission = test_df[['id', 'prediction']]\n",
    "submission.to_csv('submission.csv', index=False)\n",
    "\n",
    "pd.read_csv('submission.csv').head()"
   ]
  },
  {
   "cell_type": "markdown",
   "id": "b178f5ee",
   "metadata": {
    "papermill": {
     "duration": 0.009189,
     "end_time": "2023-07-22T12:06:11.276255",
     "exception": false,
     "start_time": "2023-07-22T12:06:11.267066",
     "status": "completed"
    },
    "tags": []
   },
   "source": [
    "I hope you enjoyed this notebook!\n",
    "\n",
    "If you found it useful, please upvote 👉 [the corresponding dataset with 500 new training examples](https://www.kaggle.com/datasets/radek1/additional-train-data-for-llm-science-exam) 👈\n",
    "\n",
    "Thank you, appreciate your help! 🙏😊\n",
    "\n",
    "Thank you for reading and happy Kaggling!"
   ]
  }
 ],
 "metadata": {
  "kernelspec": {
   "display_name": "Python 3",
   "language": "python",
   "name": "python3"
  },
  "language_info": {
   "codemirror_mode": {
    "name": "ipython",
    "version": 3
   },
   "file_extension": ".py",
   "mimetype": "text/x-python",
   "name": "python",
   "nbconvert_exporter": "python",
   "pygments_lexer": "ipython3",
   "version": "3.10.12"
  },
  "papermill": {
   "default_parameters": {},
   "duration": 650.118546,
   "end_time": "2023-07-22T12:06:14.760057",
   "environment_variables": {},
   "exception": null,
   "input_path": "__notebook__.ipynb",
   "output_path": "__notebook__.ipynb",
   "parameters": {},
   "start_time": "2023-07-22T11:55:24.641511",
   "version": "2.4.0"
  },
  "widgets": {
   "application/vnd.jupyter.widget-state+json": {
    "state": {
     "013228b045204fffb34b0b86c3e97bac": {
      "model_module": "@jupyter-widgets/base",
      "model_module_version": "1.2.0",
      "model_name": "LayoutModel",
      "state": {
       "_model_module": "@jupyter-widgets/base",
       "_model_module_version": "1.2.0",
       "_model_name": "LayoutModel",
       "_view_count": null,
       "_view_module": "@jupyter-widgets/base",
       "_view_module_version": "1.2.0",
       "_view_name": "LayoutView",
       "align_content": null,
       "align_items": null,
       "align_self": null,
       "border": null,
       "bottom": null,
       "display": null,
       "flex": null,
       "flex_flow": null,
       "grid_area": null,
       "grid_auto_columns": null,
       "grid_auto_flow": null,
       "grid_auto_rows": null,
       "grid_column": null,
       "grid_gap": null,
       "grid_row": null,
       "grid_template_areas": null,
       "grid_template_columns": null,
       "grid_template_rows": null,
       "height": null,
       "justify_content": null,
       "justify_items": null,
       "left": null,
       "margin": null,
       "max_height": null,
       "max_width": null,
       "min_height": null,
       "min_width": null,
       "object_fit": null,
       "object_position": null,
       "order": null,
       "overflow": null,
       "overflow_x": null,
       "overflow_y": null,
       "padding": null,
       "right": null,
       "top": null,
       "visibility": null,
       "width": null
      }
     },
     "2450ae6a1f23499d9b9ecb0a79b0f1c2": {
      "model_module": "@jupyter-widgets/base",
      "model_module_version": "1.2.0",
      "model_name": "LayoutModel",
      "state": {
       "_model_module": "@jupyter-widgets/base",
       "_model_module_version": "1.2.0",
       "_model_name": "LayoutModel",
       "_view_count": null,
       "_view_module": "@jupyter-widgets/base",
       "_view_module_version": "1.2.0",
       "_view_name": "LayoutView",
       "align_content": null,
       "align_items": null,
       "align_self": null,
       "border": null,
       "bottom": null,
       "display": null,
       "flex": null,
       "flex_flow": null,
       "grid_area": null,
       "grid_auto_columns": null,
       "grid_auto_flow": null,
       "grid_auto_rows": null,
       "grid_column": null,
       "grid_gap": null,
       "grid_row": null,
       "grid_template_areas": null,
       "grid_template_columns": null,
       "grid_template_rows": null,
       "height": null,
       "justify_content": null,
       "justify_items": null,
       "left": null,
       "margin": null,
       "max_height": null,
       "max_width": null,
       "min_height": null,
       "min_width": null,
       "object_fit": null,
       "object_position": null,
       "order": null,
       "overflow": null,
       "overflow_x": null,
       "overflow_y": null,
       "padding": null,
       "right": null,
       "top": null,
       "visibility": null,
       "width": null
      }
     },
     "286e58bc3e3a4631a6aee8811d1cdded": {
      "model_module": "@jupyter-widgets/controls",
      "model_module_version": "1.5.0",
      "model_name": "DescriptionStyleModel",
      "state": {
       "_model_module": "@jupyter-widgets/controls",
       "_model_module_version": "1.5.0",
       "_model_name": "DescriptionStyleModel",
       "_view_count": null,
       "_view_module": "@jupyter-widgets/base",
       "_view_module_version": "1.2.0",
       "_view_name": "StyleView",
       "description_width": ""
      }
     },
     "30c8251982cb49b29730718a79ef578f": {
      "model_module": "@jupyter-widgets/controls",
      "model_module_version": "1.5.0",
      "model_name": "HTMLModel",
      "state": {
       "_dom_classes": [],
       "_model_module": "@jupyter-widgets/controls",
       "_model_module_version": "1.5.0",
       "_model_name": "HTMLModel",
       "_view_count": null,
       "_view_module": "@jupyter-widgets/controls",
       "_view_module_version": "1.5.0",
       "_view_name": "HTMLView",
       "description": "",
       "description_tooltip": null,
       "layout": "IPY_MODEL_846962e265b84e308c7c70ada2302058",
       "placeholder": "​",
       "style": "IPY_MODEL_5c71f644a57c4e8c8aa97d5e0d4923b5",
       "value": "100%"
      }
     },
     "335533e5bd1f4033a0d73cc50da3baab": {
      "model_module": "@jupyter-widgets/controls",
      "model_module_version": "1.5.0",
      "model_name": "DescriptionStyleModel",
      "state": {
       "_model_module": "@jupyter-widgets/controls",
       "_model_module_version": "1.5.0",
       "_model_name": "DescriptionStyleModel",
       "_view_count": null,
       "_view_module": "@jupyter-widgets/base",
       "_view_module_version": "1.2.0",
       "_view_name": "StyleView",
       "description_width": ""
      }
     },
     "3699cfab55454a599e29b9ce692f78f2": {
      "model_module": "@jupyter-widgets/controls",
      "model_module_version": "1.5.0",
      "model_name": "ProgressStyleModel",
      "state": {
       "_model_module": "@jupyter-widgets/controls",
       "_model_module_version": "1.5.0",
       "_model_name": "ProgressStyleModel",
       "_view_count": null,
       "_view_module": "@jupyter-widgets/base",
       "_view_module_version": "1.2.0",
       "_view_name": "StyleView",
       "bar_color": null,
       "description_width": ""
      }
     },
     "4c093012f429444b9d963ccfa469464a": {
      "model_module": "@jupyter-widgets/base",
      "model_module_version": "1.2.0",
      "model_name": "LayoutModel",
      "state": {
       "_model_module": "@jupyter-widgets/base",
       "_model_module_version": "1.2.0",
       "_model_name": "LayoutModel",
       "_view_count": null,
       "_view_module": "@jupyter-widgets/base",
       "_view_module_version": "1.2.0",
       "_view_name": "LayoutView",
       "align_content": null,
       "align_items": null,
       "align_self": null,
       "border": null,
       "bottom": null,
       "display": null,
       "flex": null,
       "flex_flow": null,
       "grid_area": null,
       "grid_auto_columns": null,
       "grid_auto_flow": null,
       "grid_auto_rows": null,
       "grid_column": null,
       "grid_gap": null,
       "grid_row": null,
       "grid_template_areas": null,
       "grid_template_columns": null,
       "grid_template_rows": null,
       "height": null,
       "justify_content": null,
       "justify_items": null,
       "left": null,
       "margin": null,
       "max_height": null,
       "max_width": null,
       "min_height": null,
       "min_width": null,
       "object_fit": null,
       "object_position": null,
       "order": null,
       "overflow": null,
       "overflow_x": null,
       "overflow_y": null,
       "padding": null,
       "right": null,
       "top": null,
       "visibility": null,
       "width": null
      }
     },
     "556a5c0f7bf54bb994a3233e8ddf789d": {
      "model_module": "@jupyter-widgets/controls",
      "model_module_version": "1.5.0",
      "model_name": "FloatProgressModel",
      "state": {
       "_dom_classes": [],
       "_model_module": "@jupyter-widgets/controls",
       "_model_module_version": "1.5.0",
       "_model_name": "FloatProgressModel",
       "_view_count": null,
       "_view_module": "@jupyter-widgets/controls",
       "_view_module_version": "1.5.0",
       "_view_name": "ProgressView",
       "bar_style": "success",
       "description": "",
       "description_tooltip": null,
       "layout": "IPY_MODEL_4c093012f429444b9d963ccfa469464a",
       "max": 200.0,
       "min": 0.0,
       "orientation": "horizontal",
       "style": "IPY_MODEL_a61bafd799dc4a06a0f8ea16a87fcd13",
       "value": 200.0
      }
     },
     "5c36ee668e7044779c5830782c64309d": {
      "model_module": "@jupyter-widgets/base",
      "model_module_version": "1.2.0",
      "model_name": "LayoutModel",
      "state": {
       "_model_module": "@jupyter-widgets/base",
       "_model_module_version": "1.2.0",
       "_model_name": "LayoutModel",
       "_view_count": null,
       "_view_module": "@jupyter-widgets/base",
       "_view_module_version": "1.2.0",
       "_view_name": "LayoutView",
       "align_content": null,
       "align_items": null,
       "align_self": null,
       "border": null,
       "bottom": null,
       "display": null,
       "flex": null,
       "flex_flow": null,
       "grid_area": null,
       "grid_auto_columns": null,
       "grid_auto_flow": null,
       "grid_auto_rows": null,
       "grid_column": null,
       "grid_gap": null,
       "grid_row": null,
       "grid_template_areas": null,
       "grid_template_columns": null,
       "grid_template_rows": null,
       "height": null,
       "justify_content": null,
       "justify_items": null,
       "left": null,
       "margin": null,
       "max_height": null,
       "max_width": null,
       "min_height": null,
       "min_width": null,
       "object_fit": null,
       "object_position": null,
       "order": null,
       "overflow": null,
       "overflow_x": null,
       "overflow_y": null,
       "padding": null,
       "right": null,
       "top": null,
       "visibility": null,
       "width": null
      }
     },
     "5c71f644a57c4e8c8aa97d5e0d4923b5": {
      "model_module": "@jupyter-widgets/controls",
      "model_module_version": "1.5.0",
      "model_name": "DescriptionStyleModel",
      "state": {
       "_model_module": "@jupyter-widgets/controls",
       "_model_module_version": "1.5.0",
       "_model_name": "DescriptionStyleModel",
       "_view_count": null,
       "_view_module": "@jupyter-widgets/base",
       "_view_module_version": "1.2.0",
       "_view_name": "StyleView",
       "description_width": ""
      }
     },
     "846962e265b84e308c7c70ada2302058": {
      "model_module": "@jupyter-widgets/base",
      "model_module_version": "1.2.0",
      "model_name": "LayoutModel",
      "state": {
       "_model_module": "@jupyter-widgets/base",
       "_model_module_version": "1.2.0",
       "_model_name": "LayoutModel",
       "_view_count": null,
       "_view_module": "@jupyter-widgets/base",
       "_view_module_version": "1.2.0",
       "_view_name": "LayoutView",
       "align_content": null,
       "align_items": null,
       "align_self": null,
       "border": null,
       "bottom": null,
       "display": null,
       "flex": null,
       "flex_flow": null,
       "grid_area": null,
       "grid_auto_columns": null,
       "grid_auto_flow": null,
       "grid_auto_rows": null,
       "grid_column": null,
       "grid_gap": null,
       "grid_row": null,
       "grid_template_areas": null,
       "grid_template_columns": null,
       "grid_template_rows": null,
       "height": null,
       "justify_content": null,
       "justify_items": null,
       "left": null,
       "margin": null,
       "max_height": null,
       "max_width": null,
       "min_height": null,
       "min_width": null,
       "object_fit": null,
       "object_position": null,
       "order": null,
       "overflow": null,
       "overflow_x": null,
       "overflow_y": null,
       "padding": null,
       "right": null,
       "top": null,
       "visibility": null,
       "width": null
      }
     },
     "8f628c4f88f341bcb6882310be2decee": {
      "model_module": "@jupyter-widgets/controls",
      "model_module_version": "1.5.0",
      "model_name": "HTMLModel",
      "state": {
       "_dom_classes": [],
       "_model_module": "@jupyter-widgets/controls",
       "_model_module_version": "1.5.0",
       "_model_name": "HTMLModel",
       "_view_count": null,
       "_view_module": "@jupyter-widgets/controls",
       "_view_module_version": "1.5.0",
       "_view_name": "HTMLView",
       "description": "",
       "description_tooltip": null,
       "layout": "IPY_MODEL_5c36ee668e7044779c5830782c64309d",
       "placeholder": "​",
       "style": "IPY_MODEL_286e58bc3e3a4631a6aee8811d1cdded",
       "value": " 200/200 [00:00&lt;00:00, 933.04ex/s]"
      }
     },
     "95f10034d1a34c90a74c9590a69e7635": {
      "model_module": "@jupyter-widgets/base",
      "model_module_version": "1.2.0",
      "model_name": "LayoutModel",
      "state": {
       "_model_module": "@jupyter-widgets/base",
       "_model_module_version": "1.2.0",
       "_model_name": "LayoutModel",
       "_view_count": null,
       "_view_module": "@jupyter-widgets/base",
       "_view_module_version": "1.2.0",
       "_view_name": "LayoutView",
       "align_content": null,
       "align_items": null,
       "align_self": null,
       "border": null,
       "bottom": null,
       "display": null,
       "flex": null,
       "flex_flow": null,
       "grid_area": null,
       "grid_auto_columns": null,
       "grid_auto_flow": null,
       "grid_auto_rows": null,
       "grid_column": null,
       "grid_gap": null,
       "grid_row": null,
       "grid_template_areas": null,
       "grid_template_columns": null,
       "grid_template_rows": null,
       "height": null,
       "justify_content": null,
       "justify_items": null,
       "left": null,
       "margin": null,
       "max_height": null,
       "max_width": null,
       "min_height": null,
       "min_width": null,
       "object_fit": null,
       "object_position": null,
       "order": null,
       "overflow": null,
       "overflow_x": null,
       "overflow_y": null,
       "padding": null,
       "right": null,
       "top": null,
       "visibility": null,
       "width": null
      }
     },
     "9ae5aef2b2274ae8a6c205ce83c7017c": {
      "model_module": "@jupyter-widgets/controls",
      "model_module_version": "1.5.0",
      "model_name": "FloatProgressModel",
      "state": {
       "_dom_classes": [],
       "_model_module": "@jupyter-widgets/controls",
       "_model_module_version": "1.5.0",
       "_model_name": "FloatProgressModel",
       "_view_count": null,
       "_view_module": "@jupyter-widgets/controls",
       "_view_module_version": "1.5.0",
       "_view_name": "ProgressView",
       "bar_style": "success",
       "description": "",
       "description_tooltip": null,
       "layout": "IPY_MODEL_013228b045204fffb34b0b86c3e97bac",
       "max": 700.0,
       "min": 0.0,
       "orientation": "horizontal",
       "style": "IPY_MODEL_3699cfab55454a599e29b9ce692f78f2",
       "value": 700.0
      }
     },
     "9bb539e8d2774204bd99ff9aa37a3218": {
      "model_module": "@jupyter-widgets/controls",
      "model_module_version": "1.5.0",
      "model_name": "HTMLModel",
      "state": {
       "_dom_classes": [],
       "_model_module": "@jupyter-widgets/controls",
       "_model_module_version": "1.5.0",
       "_model_name": "HTMLModel",
       "_view_count": null,
       "_view_module": "@jupyter-widgets/controls",
       "_view_module_version": "1.5.0",
       "_view_name": "HTMLView",
       "description": "",
       "description_tooltip": null,
       "layout": "IPY_MODEL_d936644da2504f66a8acf6234d15524b",
       "placeholder": "​",
       "style": "IPY_MODEL_d01114a18c964ee9b285b38b2b103d4c",
       "value": "100%"
      }
     },
     "a2a9c519baaa4181af18e482b22360ae": {
      "model_module": "@jupyter-widgets/base",
      "model_module_version": "1.2.0",
      "model_name": "LayoutModel",
      "state": {
       "_model_module": "@jupyter-widgets/base",
       "_model_module_version": "1.2.0",
       "_model_name": "LayoutModel",
       "_view_count": null,
       "_view_module": "@jupyter-widgets/base",
       "_view_module_version": "1.2.0",
       "_view_name": "LayoutView",
       "align_content": null,
       "align_items": null,
       "align_self": null,
       "border": null,
       "bottom": null,
       "display": null,
       "flex": null,
       "flex_flow": null,
       "grid_area": null,
       "grid_auto_columns": null,
       "grid_auto_flow": null,
       "grid_auto_rows": null,
       "grid_column": null,
       "grid_gap": null,
       "grid_row": null,
       "grid_template_areas": null,
       "grid_template_columns": null,
       "grid_template_rows": null,
       "height": null,
       "justify_content": null,
       "justify_items": null,
       "left": null,
       "margin": null,
       "max_height": null,
       "max_width": null,
       "min_height": null,
       "min_width": null,
       "object_fit": null,
       "object_position": null,
       "order": null,
       "overflow": null,
       "overflow_x": null,
       "overflow_y": null,
       "padding": null,
       "right": null,
       "top": null,
       "visibility": null,
       "width": null
      }
     },
     "a61bafd799dc4a06a0f8ea16a87fcd13": {
      "model_module": "@jupyter-widgets/controls",
      "model_module_version": "1.5.0",
      "model_name": "ProgressStyleModel",
      "state": {
       "_model_module": "@jupyter-widgets/controls",
       "_model_module_version": "1.5.0",
       "_model_name": "ProgressStyleModel",
       "_view_count": null,
       "_view_module": "@jupyter-widgets/base",
       "_view_module_version": "1.2.0",
       "_view_name": "StyleView",
       "bar_color": null,
       "description_width": ""
      }
     },
     "a90dafc9b4154986b1aac401acecbdee": {
      "model_module": "@jupyter-widgets/controls",
      "model_module_version": "1.5.0",
      "model_name": "HBoxModel",
      "state": {
       "_dom_classes": [],
       "_model_module": "@jupyter-widgets/controls",
       "_model_module_version": "1.5.0",
       "_model_name": "HBoxModel",
       "_view_count": null,
       "_view_module": "@jupyter-widgets/controls",
       "_view_module_version": "1.5.0",
       "_view_name": "HBoxView",
       "box_style": "",
       "children": [
        "IPY_MODEL_30c8251982cb49b29730718a79ef578f",
        "IPY_MODEL_556a5c0f7bf54bb994a3233e8ddf789d",
        "IPY_MODEL_8f628c4f88f341bcb6882310be2decee"
       ],
       "layout": "IPY_MODEL_95f10034d1a34c90a74c9590a69e7635"
      }
     },
     "d01114a18c964ee9b285b38b2b103d4c": {
      "model_module": "@jupyter-widgets/controls",
      "model_module_version": "1.5.0",
      "model_name": "DescriptionStyleModel",
      "state": {
       "_model_module": "@jupyter-widgets/controls",
       "_model_module_version": "1.5.0",
       "_model_name": "DescriptionStyleModel",
       "_view_count": null,
       "_view_module": "@jupyter-widgets/base",
       "_view_module_version": "1.2.0",
       "_view_name": "StyleView",
       "description_width": ""
      }
     },
     "d936644da2504f66a8acf6234d15524b": {
      "model_module": "@jupyter-widgets/base",
      "model_module_version": "1.2.0",
      "model_name": "LayoutModel",
      "state": {
       "_model_module": "@jupyter-widgets/base",
       "_model_module_version": "1.2.0",
       "_model_name": "LayoutModel",
       "_view_count": null,
       "_view_module": "@jupyter-widgets/base",
       "_view_module_version": "1.2.0",
       "_view_name": "LayoutView",
       "align_content": null,
       "align_items": null,
       "align_self": null,
       "border": null,
       "bottom": null,
       "display": null,
       "flex": null,
       "flex_flow": null,
       "grid_area": null,
       "grid_auto_columns": null,
       "grid_auto_flow": null,
       "grid_auto_rows": null,
       "grid_column": null,
       "grid_gap": null,
       "grid_row": null,
       "grid_template_areas": null,
       "grid_template_columns": null,
       "grid_template_rows": null,
       "height": null,
       "justify_content": null,
       "justify_items": null,
       "left": null,
       "margin": null,
       "max_height": null,
       "max_width": null,
       "min_height": null,
       "min_width": null,
       "object_fit": null,
       "object_position": null,
       "order": null,
       "overflow": null,
       "overflow_x": null,
       "overflow_y": null,
       "padding": null,
       "right": null,
       "top": null,
       "visibility": null,
       "width": null
      }
     },
     "fba10d90747b43b48e89af26ffae3851": {
      "model_module": "@jupyter-widgets/controls",
      "model_module_version": "1.5.0",
      "model_name": "HTMLModel",
      "state": {
       "_dom_classes": [],
       "_model_module": "@jupyter-widgets/controls",
       "_model_module_version": "1.5.0",
       "_model_name": "HTMLModel",
       "_view_count": null,
       "_view_module": "@jupyter-widgets/controls",
       "_view_module_version": "1.5.0",
       "_view_name": "HTMLView",
       "description": "",
       "description_tooltip": null,
       "layout": "IPY_MODEL_2450ae6a1f23499d9b9ecb0a79b0f1c2",
       "placeholder": "​",
       "style": "IPY_MODEL_335533e5bd1f4033a0d73cc50da3baab",
       "value": " 700/700 [00:00&lt;00:00, 876.74ex/s]"
      }
     },
     "fd9fbb9ac7da492d9d4ac5643d401451": {
      "model_module": "@jupyter-widgets/controls",
      "model_module_version": "1.5.0",
      "model_name": "HBoxModel",
      "state": {
       "_dom_classes": [],
       "_model_module": "@jupyter-widgets/controls",
       "_model_module_version": "1.5.0",
       "_model_name": "HBoxModel",
       "_view_count": null,
       "_view_module": "@jupyter-widgets/controls",
       "_view_module_version": "1.5.0",
       "_view_name": "HBoxView",
       "box_style": "",
       "children": [
        "IPY_MODEL_9bb539e8d2774204bd99ff9aa37a3218",
        "IPY_MODEL_9ae5aef2b2274ae8a6c205ce83c7017c",
        "IPY_MODEL_fba10d90747b43b48e89af26ffae3851"
       ],
       "layout": "IPY_MODEL_a2a9c519baaa4181af18e482b22360ae"
      }
     }
    },
    "version_major": 2,
    "version_minor": 0
   }
  }
 },
 "nbformat": 4,
 "nbformat_minor": 5
}
