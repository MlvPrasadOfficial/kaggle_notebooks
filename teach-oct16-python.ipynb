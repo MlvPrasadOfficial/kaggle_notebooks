{
 "cells": [
  {
   "cell_type": "code",
   "execution_count": 1,
   "id": "ad0b3411",
   "metadata": {
    "_cell_guid": "b1076dfc-b9ad-4769-8c92-a6c4dae69d19",
    "_uuid": "8f2839f25d086af736a60e9eeb907d3b93b6e0e5",
    "execution": {
     "iopub.execute_input": "2023-11-16T15:52:00.431535Z",
     "iopub.status.busy": "2023-11-16T15:52:00.431172Z",
     "iopub.status.idle": "2023-11-16T15:52:00.442956Z",
     "shell.execute_reply": "2023-11-16T15:52:00.441673Z"
    },
    "papermill": {
     "duration": 0.134426,
     "end_time": "2023-11-16T15:52:00.445135",
     "exception": false,
     "start_time": "2023-11-16T15:52:00.310709",
     "status": "completed"
    },
    "tags": []
   },
   "outputs": [
    {
     "name": "stdout",
     "output_type": "stream",
     "text": [
      "6\n",
      "---\n",
      "6\n"
     ]
    }
   ],
   "source": [
    "a = 6\n",
    "print(a)\n",
    "print(\"---\")\n",
    "# a = \n",
    "print(a)"
   ]
  },
  {
   "cell_type": "code",
   "execution_count": null,
   "id": "0ceb5746",
   "metadata": {
    "papermill": {
     "duration": 0.115313,
     "end_time": "2023-11-16T15:52:00.674379",
     "exception": false,
     "start_time": "2023-11-16T15:52:00.559066",
     "status": "completed"
    },
    "tags": []
   },
   "outputs": [],
   "source": []
  },
  {
   "cell_type": "code",
   "execution_count": 2,
   "id": "94c1135b",
   "metadata": {
    "execution": {
     "iopub.execute_input": "2023-11-16T15:52:00.907241Z",
     "iopub.status.busy": "2023-11-16T15:52:00.906570Z",
     "iopub.status.idle": "2023-11-16T15:52:00.910853Z",
     "shell.execute_reply": "2023-11-16T15:52:00.909974Z"
    },
    "papermill": {
     "duration": 0.122192,
     "end_time": "2023-11-16T15:52:00.912746",
     "exception": false,
     "start_time": "2023-11-16T15:52:00.790554",
     "status": "completed"
    },
    "tags": []
   },
   "outputs": [],
   "source": [
    "a = 7"
   ]
  },
  {
   "cell_type": "markdown",
   "id": "122cc98e",
   "metadata": {
    "papermill": {
     "duration": 0.113981,
     "end_time": "2023-11-16T15:52:01.141330",
     "exception": false,
     "start_time": "2023-11-16T15:52:01.027349",
     "status": "completed"
    },
    "tags": []
   },
   "source": [
    "# data types"
   ]
  },
  {
   "cell_type": "code",
   "execution_count": 3,
   "id": "e9db82ef",
   "metadata": {
    "execution": {
     "iopub.execute_input": "2023-11-16T15:52:01.378809Z",
     "iopub.status.busy": "2023-11-16T15:52:01.377955Z",
     "iopub.status.idle": "2023-11-16T15:52:01.382752Z",
     "shell.execute_reply": "2023-11-16T15:52:01.381838Z"
    },
    "papermill": {
     "duration": 0.127192,
     "end_time": "2023-11-16T15:52:01.385155",
     "exception": false,
     "start_time": "2023-11-16T15:52:01.257963",
     "status": "completed"
    },
    "tags": []
   },
   "outputs": [
    {
     "name": "stdout",
     "output_type": "stream",
     "text": [
      "6\n"
     ]
    }
   ],
   "source": [
    "abhi = 6\n",
    "\n",
    "print(abhi)"
   ]
  },
  {
   "cell_type": "code",
   "execution_count": 4,
   "id": "b5b7dbc0",
   "metadata": {
    "execution": {
     "iopub.execute_input": "2023-11-16T15:52:01.622282Z",
     "iopub.status.busy": "2023-11-16T15:52:01.621967Z",
     "iopub.status.idle": "2023-11-16T15:52:01.629141Z",
     "shell.execute_reply": "2023-11-16T15:52:01.628301Z"
    },
    "papermill": {
     "duration": 0.126541,
     "end_time": "2023-11-16T15:52:01.631274",
     "exception": false,
     "start_time": "2023-11-16T15:52:01.504733",
     "status": "completed"
    },
    "tags": []
   },
   "outputs": [
    {
     "data": {
      "text/plain": [
       "int"
      ]
     },
     "execution_count": 4,
     "metadata": {},
     "output_type": "execute_result"
    }
   ],
   "source": [
    "type(abhi)"
   ]
  },
  {
   "cell_type": "code",
   "execution_count": 5,
   "id": "2dc75a34",
   "metadata": {
    "execution": {
     "iopub.execute_input": "2023-11-16T15:52:01.868643Z",
     "iopub.status.busy": "2023-11-16T15:52:01.867927Z",
     "iopub.status.idle": "2023-11-16T15:52:01.873981Z",
     "shell.execute_reply": "2023-11-16T15:52:01.873054Z"
    },
    "papermill": {
     "duration": 0.126595,
     "end_time": "2023-11-16T15:52:01.876154",
     "exception": false,
     "start_time": "2023-11-16T15:52:01.749559",
     "status": "completed"
    },
    "tags": []
   },
   "outputs": [
    {
     "data": {
      "text/plain": [
       "float"
      ]
     },
     "execution_count": 5,
     "metadata": {},
     "output_type": "execute_result"
    }
   ],
   "source": [
    "swa = 6.5\n",
    "type(swa)"
   ]
  },
  {
   "cell_type": "code",
   "execution_count": 6,
   "id": "6d9f26d0",
   "metadata": {
    "execution": {
     "iopub.execute_input": "2023-11-16T15:52:02.110177Z",
     "iopub.status.busy": "2023-11-16T15:52:02.109884Z",
     "iopub.status.idle": "2023-11-16T15:52:02.115743Z",
     "shell.execute_reply": "2023-11-16T15:52:02.114818Z"
    },
    "papermill": {
     "duration": 0.124472,
     "end_time": "2023-11-16T15:52:02.117723",
     "exception": false,
     "start_time": "2023-11-16T15:52:01.993251",
     "status": "completed"
    },
    "tags": []
   },
   "outputs": [
    {
     "data": {
      "text/plain": [
       "complex"
      ]
     },
     "execution_count": 6,
     "metadata": {},
     "output_type": "execute_result"
    }
   ],
   "source": [
    "pra = 3 + 2j\n",
    "\n",
    "type(pra)"
   ]
  },
  {
   "cell_type": "code",
   "execution_count": 7,
   "id": "10591b9e",
   "metadata": {
    "execution": {
     "iopub.execute_input": "2023-11-16T15:52:02.389635Z",
     "iopub.status.busy": "2023-11-16T15:52:02.389135Z",
     "iopub.status.idle": "2023-11-16T15:52:02.395518Z",
     "shell.execute_reply": "2023-11-16T15:52:02.394503Z"
    },
    "papermill": {
     "duration": 0.151956,
     "end_time": "2023-11-16T15:52:02.398003",
     "exception": false,
     "start_time": "2023-11-16T15:52:02.246047",
     "status": "completed"
    },
    "tags": []
   },
   "outputs": [
    {
     "data": {
      "text/plain": [
       "str"
      ]
     },
     "execution_count": 7,
     "metadata": {},
     "output_type": "execute_result"
    }
   ],
   "source": [
    "x = \"sush\"\n",
    "type(x)"
   ]
  },
  {
   "cell_type": "code",
   "execution_count": 8,
   "id": "e68e81c1",
   "metadata": {
    "execution": {
     "iopub.execute_input": "2023-11-16T15:52:02.655327Z",
     "iopub.status.busy": "2023-11-16T15:52:02.654422Z",
     "iopub.status.idle": "2023-11-16T15:52:02.661174Z",
     "shell.execute_reply": "2023-11-16T15:52:02.660258Z"
    },
    "papermill": {
     "duration": 0.136771,
     "end_time": "2023-11-16T15:52:02.663345",
     "exception": false,
     "start_time": "2023-11-16T15:52:02.526574",
     "status": "completed"
    },
    "tags": []
   },
   "outputs": [
    {
     "data": {
      "text/plain": [
       "int"
      ]
     },
     "execution_count": 8,
     "metadata": {},
     "output_type": "execute_result"
    }
   ],
   "source": [
    "z = 44 - 5 - 14\n",
    "z\n",
    "type(z)"
   ]
  },
  {
   "cell_type": "code",
   "execution_count": 9,
   "id": "c15097d9",
   "metadata": {
    "execution": {
     "iopub.execute_input": "2023-11-16T15:52:02.910902Z",
     "iopub.status.busy": "2023-11-16T15:52:02.910079Z",
     "iopub.status.idle": "2023-11-16T15:52:02.916535Z",
     "shell.execute_reply": "2023-11-16T15:52:02.915532Z"
    },
    "papermill": {
     "duration": 0.126475,
     "end_time": "2023-11-16T15:52:02.918622",
     "exception": false,
     "start_time": "2023-11-16T15:52:02.792147",
     "status": "completed"
    },
    "tags": []
   },
   "outputs": [
    {
     "data": {
      "text/plain": [
       "'44-5-14'"
      ]
     },
     "execution_count": 9,
     "metadata": {},
     "output_type": "execute_result"
    }
   ],
   "source": [
    "y = \"44-5-14\"\n",
    "y"
   ]
  },
  {
   "cell_type": "code",
   "execution_count": 10,
   "id": "212b2d16",
   "metadata": {
    "execution": {
     "iopub.execute_input": "2023-11-16T15:52:03.200651Z",
     "iopub.status.busy": "2023-11-16T15:52:03.200282Z",
     "iopub.status.idle": "2023-11-16T15:52:03.206535Z",
     "shell.execute_reply": "2023-11-16T15:52:03.205425Z"
    },
    "papermill": {
     "duration": 0.172322,
     "end_time": "2023-11-16T15:52:03.209602",
     "exception": false,
     "start_time": "2023-11-16T15:52:03.037280",
     "status": "completed"
    },
    "tags": []
   },
   "outputs": [
    {
     "data": {
      "text/plain": [
       "str"
      ]
     },
     "execution_count": 10,
     "metadata": {},
     "output_type": "execute_result"
    }
   ],
   "source": [
    "type(y)"
   ]
  },
  {
   "cell_type": "markdown",
   "id": "14bd83dd",
   "metadata": {
    "papermill": {
     "duration": 0.118609,
     "end_time": "2023-11-16T15:52:03.450701",
     "exception": false,
     "start_time": "2023-11-16T15:52:03.332092",
     "status": "completed"
    },
    "tags": []
   },
   "source": [
    "# type casting"
   ]
  },
  {
   "cell_type": "code",
   "execution_count": 11,
   "id": "63e1617d",
   "metadata": {
    "execution": {
     "iopub.execute_input": "2023-11-16T15:52:03.682383Z",
     "iopub.status.busy": "2023-11-16T15:52:03.681365Z",
     "iopub.status.idle": "2023-11-16T15:52:03.688287Z",
     "shell.execute_reply": "2023-11-16T15:52:03.687282Z"
    },
    "papermill": {
     "duration": 0.125075,
     "end_time": "2023-11-16T15:52:03.690254",
     "exception": false,
     "start_time": "2023-11-16T15:52:03.565179",
     "status": "completed"
    },
    "tags": []
   },
   "outputs": [
    {
     "data": {
      "text/plain": [
       "float"
      ]
     },
     "execution_count": 11,
     "metadata": {},
     "output_type": "execute_result"
    }
   ],
   "source": [
    "a = 6.5\n",
    "type(a)"
   ]
  },
  {
   "cell_type": "code",
   "execution_count": 12,
   "id": "7b9f184a",
   "metadata": {
    "execution": {
     "iopub.execute_input": "2023-11-16T15:52:03.925247Z",
     "iopub.status.busy": "2023-11-16T15:52:03.924518Z",
     "iopub.status.idle": "2023-11-16T15:52:03.930652Z",
     "shell.execute_reply": "2023-11-16T15:52:03.929784Z"
    },
    "papermill": {
     "duration": 0.126122,
     "end_time": "2023-11-16T15:52:03.932592",
     "exception": false,
     "start_time": "2023-11-16T15:52:03.806470",
     "status": "completed"
    },
    "tags": []
   },
   "outputs": [
    {
     "data": {
      "text/plain": [
       "6"
      ]
     },
     "execution_count": 12,
     "metadata": {},
     "output_type": "execute_result"
    }
   ],
   "source": [
    "b = int(a)\n",
    "b"
   ]
  },
  {
   "cell_type": "code",
   "execution_count": 13,
   "id": "5f72338f",
   "metadata": {
    "execution": {
     "iopub.execute_input": "2023-11-16T15:52:04.163260Z",
     "iopub.status.busy": "2023-11-16T15:52:04.162595Z",
     "iopub.status.idle": "2023-11-16T15:52:04.168369Z",
     "shell.execute_reply": "2023-11-16T15:52:04.167516Z"
    },
    "papermill": {
     "duration": 0.12212,
     "end_time": "2023-11-16T15:52:04.170394",
     "exception": false,
     "start_time": "2023-11-16T15:52:04.048274",
     "status": "completed"
    },
    "tags": []
   },
   "outputs": [
    {
     "data": {
      "text/plain": [
       "int"
      ]
     },
     "execution_count": 13,
     "metadata": {},
     "output_type": "execute_result"
    }
   ],
   "source": [
    "type(b)"
   ]
  },
  {
   "cell_type": "code",
   "execution_count": 14,
   "id": "608f3b5c",
   "metadata": {
    "execution": {
     "iopub.execute_input": "2023-11-16T15:52:04.411313Z",
     "iopub.status.busy": "2023-11-16T15:52:04.410498Z",
     "iopub.status.idle": "2023-11-16T15:52:04.416248Z",
     "shell.execute_reply": "2023-11-16T15:52:04.415297Z"
    },
    "papermill": {
     "duration": 0.12823,
     "end_time": "2023-11-16T15:52:04.418597",
     "exception": false,
     "start_time": "2023-11-16T15:52:04.290367",
     "status": "completed"
    },
    "tags": []
   },
   "outputs": [
    {
     "data": {
      "text/plain": [
       "6.0"
      ]
     },
     "execution_count": 14,
     "metadata": {},
     "output_type": "execute_result"
    }
   ],
   "source": [
    "c = float(b)\n",
    "c"
   ]
  },
  {
   "cell_type": "code",
   "execution_count": 15,
   "id": "4d7b6fe3",
   "metadata": {
    "execution": {
     "iopub.execute_input": "2023-11-16T15:52:04.652521Z",
     "iopub.status.busy": "2023-11-16T15:52:04.651896Z",
     "iopub.status.idle": "2023-11-16T15:52:04.657550Z",
     "shell.execute_reply": "2023-11-16T15:52:04.656709Z"
    },
    "papermill": {
     "duration": 0.123876,
     "end_time": "2023-11-16T15:52:04.659614",
     "exception": false,
     "start_time": "2023-11-16T15:52:04.535738",
     "status": "completed"
    },
    "tags": []
   },
   "outputs": [
    {
     "data": {
      "text/plain": [
       "float"
      ]
     },
     "execution_count": 15,
     "metadata": {},
     "output_type": "execute_result"
    }
   ],
   "source": [
    "type(c)"
   ]
  },
  {
   "cell_type": "code",
   "execution_count": 16,
   "id": "4af1b6d9",
   "metadata": {
    "execution": {
     "iopub.execute_input": "2023-11-16T15:52:04.895181Z",
     "iopub.status.busy": "2023-11-16T15:52:04.894859Z",
     "iopub.status.idle": "2023-11-16T15:52:04.901128Z",
     "shell.execute_reply": "2023-11-16T15:52:04.900245Z"
    },
    "papermill": {
     "duration": 0.128343,
     "end_time": "2023-11-16T15:52:04.903315",
     "exception": false,
     "start_time": "2023-11-16T15:52:04.774972",
     "status": "completed"
    },
    "tags": []
   },
   "outputs": [
    {
     "data": {
      "text/plain": [
       "'667'"
      ]
     },
     "execution_count": 16,
     "metadata": {},
     "output_type": "execute_result"
    }
   ],
   "source": [
    "g = \"66\"\n",
    "h = \"7\"\n",
    "\n",
    "g + h"
   ]
  },
  {
   "cell_type": "code",
   "execution_count": 17,
   "id": "e826dbb3",
   "metadata": {
    "execution": {
     "iopub.execute_input": "2023-11-16T15:52:05.141785Z",
     "iopub.status.busy": "2023-11-16T15:52:05.141139Z",
     "iopub.status.idle": "2023-11-16T15:52:05.147329Z",
     "shell.execute_reply": "2023-11-16T15:52:05.146346Z"
    },
    "papermill": {
     "duration": 0.127022,
     "end_time": "2023-11-16T15:52:05.149536",
     "exception": false,
     "start_time": "2023-11-16T15:52:05.022514",
     "status": "completed"
    },
    "tags": []
   },
   "outputs": [
    {
     "data": {
      "text/plain": [
       "73"
      ]
     },
     "execution_count": 17,
     "metadata": {},
     "output_type": "execute_result"
    }
   ],
   "source": [
    "i = 66\n",
    "j = 7\n",
    "i + j"
   ]
  },
  {
   "cell_type": "code",
   "execution_count": 18,
   "id": "5b2eaca2",
   "metadata": {
    "execution": {
     "iopub.execute_input": "2023-11-16T15:52:05.397771Z",
     "iopub.status.busy": "2023-11-16T15:52:05.397073Z",
     "iopub.status.idle": "2023-11-16T15:52:05.403335Z",
     "shell.execute_reply": "2023-11-16T15:52:05.402418Z"
    },
    "papermill": {
     "duration": 0.130534,
     "end_time": "2023-11-16T15:52:05.405279",
     "exception": false,
     "start_time": "2023-11-16T15:52:05.274745",
     "status": "completed"
    },
    "tags": []
   },
   "outputs": [
    {
     "data": {
      "text/plain": [
       "'667'"
      ]
     },
     "execution_count": 18,
     "metadata": {},
     "output_type": "execute_result"
    }
   ],
   "source": [
    "p = \"66\"\n",
    "q = 7\n",
    "# \"667\"\n",
    "p + str(q)"
   ]
  },
  {
   "cell_type": "code",
   "execution_count": 19,
   "id": "f342ce8d",
   "metadata": {
    "execution": {
     "iopub.execute_input": "2023-11-16T15:52:05.641554Z",
     "iopub.status.busy": "2023-11-16T15:52:05.640924Z",
     "iopub.status.idle": "2023-11-16T15:52:05.646792Z",
     "shell.execute_reply": "2023-11-16T15:52:05.645779Z"
    },
    "papermill": {
     "duration": 0.126173,
     "end_time": "2023-11-16T15:52:05.648972",
     "exception": false,
     "start_time": "2023-11-16T15:52:05.522799",
     "status": "completed"
    },
    "tags": []
   },
   "outputs": [
    {
     "data": {
      "text/plain": [
       "73"
      ]
     },
     "execution_count": 19,
     "metadata": {},
     "output_type": "execute_result"
    }
   ],
   "source": [
    "p = \"66\"\n",
    "q = 7\n",
    "int(p) + q"
   ]
  },
  {
   "cell_type": "code",
   "execution_count": 20,
   "id": "1240d40d",
   "metadata": {
    "execution": {
     "iopub.execute_input": "2023-11-16T15:52:05.880693Z",
     "iopub.status.busy": "2023-11-16T15:52:05.880285Z",
     "iopub.status.idle": "2023-11-16T15:52:05.886105Z",
     "shell.execute_reply": "2023-11-16T15:52:05.885166Z"
    },
    "papermill": {
     "duration": 0.124657,
     "end_time": "2023-11-16T15:52:05.888210",
     "exception": false,
     "start_time": "2023-11-16T15:52:05.763553",
     "status": "completed"
    },
    "tags": []
   },
   "outputs": [
    {
     "data": {
      "text/plain": [
       "8"
      ]
     },
     "execution_count": 20,
     "metadata": {},
     "output_type": "execute_result"
    }
   ],
   "source": [
    "a = 7\n",
    "b = 8\n",
    "b"
   ]
  },
  {
   "cell_type": "code",
   "execution_count": 21,
   "id": "cbdd9b3e",
   "metadata": {
    "execution": {
     "iopub.execute_input": "2023-11-16T15:52:06.124904Z",
     "iopub.status.busy": "2023-11-16T15:52:06.124569Z",
     "iopub.status.idle": "2023-11-16T15:52:06.130464Z",
     "shell.execute_reply": "2023-11-16T15:52:06.129601Z"
    },
    "papermill": {
     "duration": 0.125119,
     "end_time": "2023-11-16T15:52:06.132302",
     "exception": false,
     "start_time": "2023-11-16T15:52:06.007183",
     "status": "completed"
    },
    "tags": []
   },
   "outputs": [
    {
     "data": {
      "text/plain": [
       "8"
      ]
     },
     "execution_count": 21,
     "metadata": {},
     "output_type": "execute_result"
    }
   ],
   "source": [
    "a,b = 7,8\n",
    "b"
   ]
  },
  {
   "cell_type": "code",
   "execution_count": 22,
   "id": "977809fd",
   "metadata": {
    "execution": {
     "iopub.execute_input": "2023-11-16T15:52:06.376758Z",
     "iopub.status.busy": "2023-11-16T15:52:06.375975Z",
     "iopub.status.idle": "2023-11-16T15:52:06.382680Z",
     "shell.execute_reply": "2023-11-16T15:52:06.381729Z"
    },
    "papermill": {
     "duration": 0.134633,
     "end_time": "2023-11-16T15:52:06.384773",
     "exception": false,
     "start_time": "2023-11-16T15:52:06.250140",
     "status": "completed"
    },
    "tags": []
   },
   "outputs": [
    {
     "data": {
      "text/plain": [
       "7"
      ]
     },
     "execution_count": 22,
     "metadata": {},
     "output_type": "execute_result"
    }
   ],
   "source": [
    "abhi7 = 7\n",
    "abhi7"
   ]
  },
  {
   "cell_type": "code",
   "execution_count": 23,
   "id": "1ae274eb",
   "metadata": {
    "execution": {
     "iopub.execute_input": "2023-11-16T15:52:06.667532Z",
     "iopub.status.busy": "2023-11-16T15:52:06.666807Z",
     "iopub.status.idle": "2023-11-16T15:52:06.671397Z",
     "shell.execute_reply": "2023-11-16T15:52:06.670579Z"
    },
    "papermill": {
     "duration": 0.124959,
     "end_time": "2023-11-16T15:52:06.673807",
     "exception": false,
     "start_time": "2023-11-16T15:52:06.548848",
     "status": "completed"
    },
    "tags": []
   },
   "outputs": [
    {
     "name": "stdout",
     "output_type": "stream",
     "text": [
      "Sally\n"
     ]
    }
   ],
   "source": [
    "x = 4       # x is of type int\n",
    "x = \"Sally\" # x is now of type str\n",
    "print(x)"
   ]
  },
  {
   "cell_type": "code",
   "execution_count": 24,
   "id": "09af81dc",
   "metadata": {
    "execution": {
     "iopub.execute_input": "2023-11-16T15:52:06.910954Z",
     "iopub.status.busy": "2023-11-16T15:52:06.910162Z",
     "iopub.status.idle": "2023-11-16T15:52:06.914926Z",
     "shell.execute_reply": "2023-11-16T15:52:06.914062Z"
    },
    "papermill": {
     "duration": 0.124928,
     "end_time": "2023-11-16T15:52:06.917238",
     "exception": false,
     "start_time": "2023-11-16T15:52:06.792310",
     "status": "completed"
    },
    "tags": []
   },
   "outputs": [
    {
     "name": "stdout",
     "output_type": "stream",
     "text": [
      "4\n"
     ]
    }
   ],
   "source": [
    "x = 4       # x is of type int\n",
    "print(x)\n",
    "x = \"Sally\" # x is now of type str\n"
   ]
  },
  {
   "cell_type": "code",
   "execution_count": 25,
   "id": "60effc88",
   "metadata": {
    "execution": {
     "iopub.execute_input": "2023-11-16T15:52:07.157241Z",
     "iopub.status.busy": "2023-11-16T15:52:07.156952Z",
     "iopub.status.idle": "2023-11-16T15:52:07.162134Z",
     "shell.execute_reply": "2023-11-16T15:52:07.161034Z"
    },
    "papermill": {
     "duration": 0.129115,
     "end_time": "2023-11-16T15:52:07.164176",
     "exception": false,
     "start_time": "2023-11-16T15:52:07.035061",
     "status": "completed"
    },
    "tags": []
   },
   "outputs": [
    {
     "name": "stdout",
     "output_type": "stream",
     "text": [
      "7\n"
     ]
    }
   ],
   "source": [
    "# o/p\n",
    "a= 7\n",
    "print(a)"
   ]
  },
  {
   "cell_type": "code",
   "execution_count": 26,
   "id": "f24f4e30",
   "metadata": {
    "execution": {
     "iopub.execute_input": "2023-11-16T15:52:07.400172Z",
     "iopub.status.busy": "2023-11-16T15:52:07.399414Z",
     "iopub.status.idle": "2023-11-16T15:52:07.403156Z",
     "shell.execute_reply": "2023-11-16T15:52:07.402289Z"
    },
    "papermill": {
     "duration": 0.123131,
     "end_time": "2023-11-16T15:52:07.405134",
     "exception": false,
     "start_time": "2023-11-16T15:52:07.282003",
     "status": "completed"
    },
    "tags": []
   },
   "outputs": [],
   "source": [
    "# a = int(input())\n",
    "# print(a+1)"
   ]
  },
  {
   "cell_type": "code",
   "execution_count": 27,
   "id": "85202e97",
   "metadata": {
    "execution": {
     "iopub.execute_input": "2023-11-16T15:52:07.637964Z",
     "iopub.status.busy": "2023-11-16T15:52:07.637693Z",
     "iopub.status.idle": "2023-11-16T15:52:07.643342Z",
     "shell.execute_reply": "2023-11-16T15:52:07.642464Z"
    },
    "papermill": {
     "duration": 0.124739,
     "end_time": "2023-11-16T15:52:07.645187",
     "exception": false,
     "start_time": "2023-11-16T15:52:07.520448",
     "status": "completed"
    },
    "tags": []
   },
   "outputs": [
    {
     "data": {
      "text/plain": [
       "13"
      ]
     },
     "execution_count": 27,
     "metadata": {},
     "output_type": "execute_result"
    }
   ],
   "source": [
    "a = 6 + 7\n",
    "a"
   ]
  },
  {
   "cell_type": "code",
   "execution_count": 28,
   "id": "70f9b81c",
   "metadata": {
    "execution": {
     "iopub.execute_input": "2023-11-16T15:52:07.885926Z",
     "iopub.status.busy": "2023-11-16T15:52:07.885296Z",
     "iopub.status.idle": "2023-11-16T15:52:07.891563Z",
     "shell.execute_reply": "2023-11-16T15:52:07.890679Z"
    },
    "papermill": {
     "duration": 0.128715,
     "end_time": "2023-11-16T15:52:07.893482",
     "exception": false,
     "start_time": "2023-11-16T15:52:07.764767",
     "status": "completed"
    },
    "tags": []
   },
   "outputs": [
    {
     "data": {
      "text/plain": [
       "'da50'"
      ]
     },
     "execution_count": 28,
     "metadata": {},
     "output_type": "execute_result"
    }
   ],
   "source": [
    "b = \"da\" + str(50)\n",
    "b"
   ]
  },
  {
   "cell_type": "code",
   "execution_count": 29,
   "id": "5fd79680",
   "metadata": {
    "execution": {
     "iopub.execute_input": "2023-11-16T15:52:08.129953Z",
     "iopub.status.busy": "2023-11-16T15:52:08.129642Z",
     "iopub.status.idle": "2023-11-16T15:52:08.134260Z",
     "shell.execute_reply": "2023-11-16T15:52:08.133388Z"
    },
    "papermill": {
     "duration": 0.126364,
     "end_time": "2023-11-16T15:52:08.136439",
     "exception": false,
     "start_time": "2023-11-16T15:52:08.010075",
     "status": "completed"
    },
    "tags": []
   },
   "outputs": [
    {
     "name": "stdout",
     "output_type": "stream",
     "text": [
      "5 John\n"
     ]
    }
   ],
   "source": [
    "x = 5\n",
    "y = \"John\"\n",
    "print(x, y)"
   ]
  },
  {
   "cell_type": "code",
   "execution_count": 30,
   "id": "7449d4ce",
   "metadata": {
    "execution": {
     "iopub.execute_input": "2023-11-16T15:52:08.375361Z",
     "iopub.status.busy": "2023-11-16T15:52:08.375000Z",
     "iopub.status.idle": "2023-11-16T15:52:08.379439Z",
     "shell.execute_reply": "2023-11-16T15:52:08.378559Z"
    },
    "papermill": {
     "duration": 0.126853,
     "end_time": "2023-11-16T15:52:08.381751",
     "exception": false,
     "start_time": "2023-11-16T15:52:08.254898",
     "status": "completed"
    },
    "tags": []
   },
   "outputs": [],
   "source": [
    "a = 6 \n",
    "a = 7"
   ]
  },
  {
   "cell_type": "markdown",
   "id": "2d13a2ca",
   "metadata": {
    "papermill": {
     "duration": 0.128492,
     "end_time": "2023-11-16T15:52:08.642767",
     "exception": false,
     "start_time": "2023-11-16T15:52:08.514275",
     "status": "completed"
    },
    "tags": []
   },
   "source": [
    "# data  structures\n"
   ]
  },
  {
   "cell_type": "markdown",
   "id": "df4472bc",
   "metadata": {
    "papermill": {
     "duration": 0.121248,
     "end_time": "2023-11-16T15:52:08.888087",
     "exception": false,
     "start_time": "2023-11-16T15:52:08.766839",
     "status": "completed"
    },
    "tags": []
   },
   "source": [
    "# List  [ ] "
   ]
  },
  {
   "cell_type": "code",
   "execution_count": 31,
   "id": "90d9a72e",
   "metadata": {
    "execution": {
     "iopub.execute_input": "2023-11-16T15:52:09.129921Z",
     "iopub.status.busy": "2023-11-16T15:52:09.129585Z",
     "iopub.status.idle": "2023-11-16T15:52:09.135417Z",
     "shell.execute_reply": "2023-11-16T15:52:09.134552Z"
    },
    "papermill": {
     "duration": 0.129375,
     "end_time": "2023-11-16T15:52:09.137621",
     "exception": false,
     "start_time": "2023-11-16T15:52:09.008246",
     "status": "completed"
    },
    "tags": []
   },
   "outputs": [
    {
     "data": {
      "text/plain": [
       "11"
      ]
     },
     "execution_count": 31,
     "metadata": {},
     "output_type": "execute_result"
    }
   ],
   "source": [
    "a = [11,28,34,45,57]\n",
    "a[0]\n",
    "\n"
   ]
  },
  {
   "cell_type": "code",
   "execution_count": 32,
   "id": "801b895e",
   "metadata": {
    "execution": {
     "iopub.execute_input": "2023-11-16T15:52:09.384610Z",
     "iopub.status.busy": "2023-11-16T15:52:09.384275Z",
     "iopub.status.idle": "2023-11-16T15:52:09.390265Z",
     "shell.execute_reply": "2023-11-16T15:52:09.389429Z"
    },
    "papermill": {
     "duration": 0.131213,
     "end_time": "2023-11-16T15:52:09.392331",
     "exception": false,
     "start_time": "2023-11-16T15:52:09.261118",
     "status": "completed"
    },
    "tags": []
   },
   "outputs": [
    {
     "data": {
      "text/plain": [
       "57"
      ]
     },
     "execution_count": 32,
     "metadata": {},
     "output_type": "execute_result"
    }
   ],
   "source": [
    "a[4]"
   ]
  },
  {
   "cell_type": "code",
   "execution_count": 33,
   "id": "aaf36e4c",
   "metadata": {
    "execution": {
     "iopub.execute_input": "2023-11-16T15:52:09.636366Z",
     "iopub.status.busy": "2023-11-16T15:52:09.635543Z",
     "iopub.status.idle": "2023-11-16T15:52:09.641560Z",
     "shell.execute_reply": "2023-11-16T15:52:09.640783Z"
    },
    "papermill": {
     "duration": 0.129079,
     "end_time": "2023-11-16T15:52:09.643403",
     "exception": false,
     "start_time": "2023-11-16T15:52:09.514324",
     "status": "completed"
    },
    "tags": []
   },
   "outputs": [
    {
     "data": {
      "text/plain": [
       "[11, 28, 34, 45, 57]"
      ]
     },
     "execution_count": 33,
     "metadata": {},
     "output_type": "execute_result"
    }
   ],
   "source": [
    "a"
   ]
  },
  {
   "cell_type": "code",
   "execution_count": 34,
   "id": "031cd399",
   "metadata": {
    "execution": {
     "iopub.execute_input": "2023-11-16T15:52:09.926828Z",
     "iopub.status.busy": "2023-11-16T15:52:09.926002Z",
     "iopub.status.idle": "2023-11-16T15:52:09.931759Z",
     "shell.execute_reply": "2023-11-16T15:52:09.930887Z"
    },
    "papermill": {
     "duration": 0.127788,
     "end_time": "2023-11-16T15:52:09.934068",
     "exception": false,
     "start_time": "2023-11-16T15:52:09.806280",
     "status": "completed"
    },
    "tags": []
   },
   "outputs": [
    {
     "data": {
      "text/plain": [
       "57"
      ]
     },
     "execution_count": 34,
     "metadata": {},
     "output_type": "execute_result"
    }
   ],
   "source": [
    "a[-1]"
   ]
  },
  {
   "cell_type": "code",
   "execution_count": 35,
   "id": "4f5ee406",
   "metadata": {
    "execution": {
     "iopub.execute_input": "2023-11-16T15:52:10.171310Z",
     "iopub.status.busy": "2023-11-16T15:52:10.170715Z",
     "iopub.status.idle": "2023-11-16T15:52:10.176614Z",
     "shell.execute_reply": "2023-11-16T15:52:10.175707Z"
    },
    "papermill": {
     "duration": 0.126552,
     "end_time": "2023-11-16T15:52:10.178716",
     "exception": false,
     "start_time": "2023-11-16T15:52:10.052164",
     "status": "completed"
    },
    "tags": []
   },
   "outputs": [
    {
     "data": {
      "text/plain": [
       "11"
      ]
     },
     "execution_count": 35,
     "metadata": {},
     "output_type": "execute_result"
    }
   ],
   "source": [
    "a[-5]"
   ]
  },
  {
   "cell_type": "code",
   "execution_count": 36,
   "id": "7aacedb4",
   "metadata": {
    "execution": {
     "iopub.execute_input": "2023-11-16T15:52:10.417423Z",
     "iopub.status.busy": "2023-11-16T15:52:10.416841Z",
     "iopub.status.idle": "2023-11-16T15:52:10.422788Z",
     "shell.execute_reply": "2023-11-16T15:52:10.421786Z"
    },
    "papermill": {
     "duration": 0.125246,
     "end_time": "2023-11-16T15:52:10.424718",
     "exception": false,
     "start_time": "2023-11-16T15:52:10.299472",
     "status": "completed"
    },
    "tags": []
   },
   "outputs": [
    {
     "data": {
      "text/plain": [
       "[28, 34, 45]"
      ]
     },
     "execution_count": 36,
     "metadata": {},
     "output_type": "execute_result"
    }
   ],
   "source": [
    "a[1:4]"
   ]
  },
  {
   "cell_type": "code",
   "execution_count": 37,
   "id": "29150cc3",
   "metadata": {
    "execution": {
     "iopub.execute_input": "2023-11-16T15:52:10.661753Z",
     "iopub.status.busy": "2023-11-16T15:52:10.660948Z",
     "iopub.status.idle": "2023-11-16T15:52:10.665728Z",
     "shell.execute_reply": "2023-11-16T15:52:10.664636Z"
    },
    "papermill": {
     "duration": 0.126585,
     "end_time": "2023-11-16T15:52:10.668003",
     "exception": false,
     "start_time": "2023-11-16T15:52:10.541418",
     "status": "completed"
    },
    "tags": []
   },
   "outputs": [],
   "source": [
    "a = [10,20,30,40 ,50,60,70,80,90]"
   ]
  },
  {
   "cell_type": "code",
   "execution_count": 38,
   "id": "35ef7bc0",
   "metadata": {
    "execution": {
     "iopub.execute_input": "2023-11-16T15:52:10.906668Z",
     "iopub.status.busy": "2023-11-16T15:52:10.905846Z",
     "iopub.status.idle": "2023-11-16T15:52:10.912078Z",
     "shell.execute_reply": "2023-11-16T15:52:10.911242Z"
    },
    "papermill": {
     "duration": 0.126353,
     "end_time": "2023-11-16T15:52:10.914016",
     "exception": false,
     "start_time": "2023-11-16T15:52:10.787663",
     "status": "completed"
    },
    "tags": []
   },
   "outputs": [
    {
     "data": {
      "text/plain": [
       "[20, 30, 40, 50, 60, 70, 80]"
      ]
     },
     "execution_count": 38,
     "metadata": {},
     "output_type": "execute_result"
    }
   ],
   "source": [
    "# 2 property index - list = zero -index \n",
    "a[1:8]"
   ]
  },
  {
   "cell_type": "code",
   "execution_count": 39,
   "id": "2c4090aa",
   "metadata": {
    "execution": {
     "iopub.execute_input": "2023-11-16T15:52:11.153281Z",
     "iopub.status.busy": "2023-11-16T15:52:11.152963Z",
     "iopub.status.idle": "2023-11-16T15:52:11.159016Z",
     "shell.execute_reply": "2023-11-16T15:52:11.158209Z"
    },
    "papermill": {
     "duration": 0.128389,
     "end_time": "2023-11-16T15:52:11.160825",
     "exception": false,
     "start_time": "2023-11-16T15:52:11.032436",
     "status": "completed"
    },
    "tags": []
   },
   "outputs": [
    {
     "data": {
      "text/plain": [
       "[20, 40, 60, 80]"
      ]
     },
     "execution_count": 39,
     "metadata": {},
     "output_type": "execute_result"
    }
   ],
   "source": [
    "a[1:8:2]"
   ]
  },
  {
   "cell_type": "code",
   "execution_count": 40,
   "id": "f4f70c09",
   "metadata": {
    "execution": {
     "iopub.execute_input": "2023-11-16T15:52:11.402505Z",
     "iopub.status.busy": "2023-11-16T15:52:11.402100Z",
     "iopub.status.idle": "2023-11-16T15:52:11.409158Z",
     "shell.execute_reply": "2023-11-16T15:52:11.408072Z"
    },
    "papermill": {
     "duration": 0.130642,
     "end_time": "2023-11-16T15:52:11.411437",
     "exception": false,
     "start_time": "2023-11-16T15:52:11.280795",
     "status": "completed"
    },
    "tags": []
   },
   "outputs": [
    {
     "data": {
      "text/plain": [
       "[20, 50, 80]"
      ]
     },
     "execution_count": 40,
     "metadata": {},
     "output_type": "execute_result"
    }
   ],
   "source": [
    "a[1:-1:3]"
   ]
  },
  {
   "cell_type": "code",
   "execution_count": 41,
   "id": "96291304",
   "metadata": {
    "execution": {
     "iopub.execute_input": "2023-11-16T15:52:11.650141Z",
     "iopub.status.busy": "2023-11-16T15:52:11.649831Z",
     "iopub.status.idle": "2023-11-16T15:52:11.655912Z",
     "shell.execute_reply": "2023-11-16T15:52:11.655077Z"
    },
    "papermill": {
     "duration": 0.126886,
     "end_time": "2023-11-16T15:52:11.658050",
     "exception": false,
     "start_time": "2023-11-16T15:52:11.531164",
     "status": "completed"
    },
    "tags": []
   },
   "outputs": [
    {
     "data": {
      "text/plain": [
       "[10, 20, 30, 40, 50, 60, 70, 80, 90]"
      ]
     },
     "execution_count": 41,
     "metadata": {},
     "output_type": "execute_result"
    }
   ],
   "source": [
    "# property of 1 of list \n",
    "# mutabilty\n",
    "\n",
    "a "
   ]
  },
  {
   "cell_type": "code",
   "execution_count": 42,
   "id": "b80c9702",
   "metadata": {
    "execution": {
     "iopub.execute_input": "2023-11-16T15:52:11.898039Z",
     "iopub.status.busy": "2023-11-16T15:52:11.897304Z",
     "iopub.status.idle": "2023-11-16T15:52:11.903125Z",
     "shell.execute_reply": "2023-11-16T15:52:11.902318Z"
    },
    "papermill": {
     "duration": 0.127008,
     "end_time": "2023-11-16T15:52:11.905187",
     "exception": false,
     "start_time": "2023-11-16T15:52:11.778179",
     "status": "completed"
    },
    "tags": []
   },
   "outputs": [
    {
     "data": {
      "text/plain": [
       "10"
      ]
     },
     "execution_count": 42,
     "metadata": {},
     "output_type": "execute_result"
    }
   ],
   "source": [
    "a[0]"
   ]
  },
  {
   "cell_type": "code",
   "execution_count": 43,
   "id": "1c54b2ae",
   "metadata": {
    "execution": {
     "iopub.execute_input": "2023-11-16T15:52:12.143603Z",
     "iopub.status.busy": "2023-11-16T15:52:12.143266Z",
     "iopub.status.idle": "2023-11-16T15:52:12.149332Z",
     "shell.execute_reply": "2023-11-16T15:52:12.148528Z"
    },
    "papermill": {
     "duration": 0.127234,
     "end_time": "2023-11-16T15:52:12.151315",
     "exception": false,
     "start_time": "2023-11-16T15:52:12.024081",
     "status": "completed"
    },
    "tags": []
   },
   "outputs": [
    {
     "data": {
      "text/plain": [
       "[900, 20, 30, 40, 50, 60, 70, 80, 90]"
      ]
     },
     "execution_count": 43,
     "metadata": {},
     "output_type": "execute_result"
    }
   ],
   "source": [
    "a[0] = 900\n",
    "a"
   ]
  },
  {
   "cell_type": "code",
   "execution_count": 44,
   "id": "8f341448",
   "metadata": {
    "execution": {
     "iopub.execute_input": "2023-11-16T15:52:12.417939Z",
     "iopub.status.busy": "2023-11-16T15:52:12.417075Z",
     "iopub.status.idle": "2023-11-16T15:52:12.423003Z",
     "shell.execute_reply": "2023-11-16T15:52:12.422172Z"
    },
    "papermill": {
     "duration": 0.151193,
     "end_time": "2023-11-16T15:52:12.425047",
     "exception": false,
     "start_time": "2023-11-16T15:52:12.273854",
     "status": "completed"
    },
    "tags": []
   },
   "outputs": [
    {
     "data": {
      "text/plain": [
       "list"
      ]
     },
     "execution_count": 44,
     "metadata": {},
     "output_type": "execute_result"
    }
   ],
   "source": [
    "type(a)"
   ]
  },
  {
   "cell_type": "markdown",
   "id": "359a9f97",
   "metadata": {
    "papermill": {
     "duration": 0.119379,
     "end_time": "2023-11-16T15:52:12.661967",
     "exception": false,
     "start_time": "2023-11-16T15:52:12.542588",
     "status": "completed"
    },
    "tags": []
   },
   "source": [
    "# tuple  (  )"
   ]
  },
  {
   "cell_type": "code",
   "execution_count": 45,
   "id": "49ba8c07",
   "metadata": {
    "execution": {
     "iopub.execute_input": "2023-11-16T15:52:12.904402Z",
     "iopub.status.busy": "2023-11-16T15:52:12.904017Z",
     "iopub.status.idle": "2023-11-16T15:52:12.910330Z",
     "shell.execute_reply": "2023-11-16T15:52:12.909453Z"
    },
    "papermill": {
     "duration": 0.129469,
     "end_time": "2023-11-16T15:52:12.912242",
     "exception": false,
     "start_time": "2023-11-16T15:52:12.782773",
     "status": "completed"
    },
    "tags": []
   },
   "outputs": [
    {
     "data": {
      "text/plain": [
       "10"
      ]
     },
     "execution_count": 45,
     "metadata": {},
     "output_type": "execute_result"
    }
   ],
   "source": [
    "b = (10,20,30,40,50)\n",
    "b[0]"
   ]
  },
  {
   "cell_type": "code",
   "execution_count": 46,
   "id": "e9b0a5dd",
   "metadata": {
    "execution": {
     "iopub.execute_input": "2023-11-16T15:52:13.201715Z",
     "iopub.status.busy": "2023-11-16T15:52:13.201352Z",
     "iopub.status.idle": "2023-11-16T15:52:13.207245Z",
     "shell.execute_reply": "2023-11-16T15:52:13.206254Z"
    },
    "papermill": {
     "duration": 0.130485,
     "end_time": "2023-11-16T15:52:13.209217",
     "exception": false,
     "start_time": "2023-11-16T15:52:13.078732",
     "status": "completed"
    },
    "tags": []
   },
   "outputs": [
    {
     "data": {
      "text/plain": [
       "tuple"
      ]
     },
     "execution_count": 46,
     "metadata": {},
     "output_type": "execute_result"
    }
   ],
   "source": [
    "type(b)"
   ]
  },
  {
   "cell_type": "code",
   "execution_count": 47,
   "id": "5cc460a4",
   "metadata": {
    "execution": {
     "iopub.execute_input": "2023-11-16T15:52:13.495150Z",
     "iopub.status.busy": "2023-11-16T15:52:13.494814Z",
     "iopub.status.idle": "2023-11-16T15:52:13.500844Z",
     "shell.execute_reply": "2023-11-16T15:52:13.499954Z"
    },
    "papermill": {
     "duration": 0.158649,
     "end_time": "2023-11-16T15:52:13.503353",
     "exception": false,
     "start_time": "2023-11-16T15:52:13.344704",
     "status": "completed"
    },
    "tags": []
   },
   "outputs": [
    {
     "data": {
      "text/plain": [
       "50"
      ]
     },
     "execution_count": 47,
     "metadata": {},
     "output_type": "execute_result"
    }
   ],
   "source": [
    "b[4]"
   ]
  },
  {
   "cell_type": "code",
   "execution_count": 48,
   "id": "b4ab6c92",
   "metadata": {
    "execution": {
     "iopub.execute_input": "2023-11-16T15:52:13.768108Z",
     "iopub.status.busy": "2023-11-16T15:52:13.767287Z",
     "iopub.status.idle": "2023-11-16T15:52:13.773931Z",
     "shell.execute_reply": "2023-11-16T15:52:13.773058Z"
    },
    "papermill": {
     "duration": 0.137778,
     "end_time": "2023-11-16T15:52:13.776457",
     "exception": false,
     "start_time": "2023-11-16T15:52:13.638679",
     "status": "completed"
    },
    "tags": []
   },
   "outputs": [
    {
     "data": {
      "text/plain": [
       "50"
      ]
     },
     "execution_count": 48,
     "metadata": {},
     "output_type": "execute_result"
    }
   ],
   "source": [
    "b[-1]"
   ]
  },
  {
   "cell_type": "code",
   "execution_count": 49,
   "id": "8933a309",
   "metadata": {
    "execution": {
     "iopub.execute_input": "2023-11-16T15:52:14.023782Z",
     "iopub.status.busy": "2023-11-16T15:52:14.023371Z",
     "iopub.status.idle": "2023-11-16T15:52:14.027870Z",
     "shell.execute_reply": "2023-11-16T15:52:14.026870Z"
    },
    "papermill": {
     "duration": 0.129997,
     "end_time": "2023-11-16T15:52:14.029820",
     "exception": false,
     "start_time": "2023-11-16T15:52:13.899823",
     "status": "completed"
    },
    "tags": []
   },
   "outputs": [],
   "source": [
    "# property 2 of tuple - zero index "
   ]
  },
  {
   "cell_type": "code",
   "execution_count": 50,
   "id": "bd2430e7",
   "metadata": {
    "execution": {
     "iopub.execute_input": "2023-11-16T15:52:14.273364Z",
     "iopub.status.busy": "2023-11-16T15:52:14.273045Z",
     "iopub.status.idle": "2023-11-16T15:52:14.277563Z",
     "shell.execute_reply": "2023-11-16T15:52:14.276468Z"
    },
    "papermill": {
     "duration": 0.131646,
     "end_time": "2023-11-16T15:52:14.279659",
     "exception": false,
     "start_time": "2023-11-16T15:52:14.148013",
     "status": "completed"
    },
    "tags": []
   },
   "outputs": [],
   "source": [
    "# b[0] = 10"
   ]
  },
  {
   "cell_type": "code",
   "execution_count": 51,
   "id": "be7fe416",
   "metadata": {
    "execution": {
     "iopub.execute_input": "2023-11-16T15:52:14.539048Z",
     "iopub.status.busy": "2023-11-16T15:52:14.538734Z",
     "iopub.status.idle": "2023-11-16T15:52:14.542623Z",
     "shell.execute_reply": "2023-11-16T15:52:14.541799Z"
    },
    "papermill": {
     "duration": 0.137764,
     "end_time": "2023-11-16T15:52:14.544414",
     "exception": false,
     "start_time": "2023-11-16T15:52:14.406650",
     "status": "completed"
    },
    "tags": []
   },
   "outputs": [],
   "source": [
    "# property immutabilty - ypu cant change elements in a list"
   ]
  },
  {
   "cell_type": "code",
   "execution_count": 52,
   "id": "f9b5ca8e",
   "metadata": {
    "execution": {
     "iopub.execute_input": "2023-11-16T15:52:14.786006Z",
     "iopub.status.busy": "2023-11-16T15:52:14.785330Z",
     "iopub.status.idle": "2023-11-16T15:52:14.789362Z",
     "shell.execute_reply": "2023-11-16T15:52:14.788532Z"
    },
    "papermill": {
     "duration": 0.127301,
     "end_time": "2023-11-16T15:52:14.791175",
     "exception": false,
     "start_time": "2023-11-16T15:52:14.663874",
     "status": "completed"
    },
    "tags": []
   },
   "outputs": [],
   "source": [
    "# set "
   ]
  },
  {
   "cell_type": "markdown",
   "id": "03264110",
   "metadata": {
    "papermill": {
     "duration": 0.120924,
     "end_time": "2023-11-16T15:52:15.030175",
     "exception": false,
     "start_time": "2023-11-16T15:52:14.909251",
     "status": "completed"
    },
    "tags": []
   },
   "source": [
    "{ }"
   ]
  },
  {
   "cell_type": "code",
   "execution_count": 53,
   "id": "a24a2f3d",
   "metadata": {
    "execution": {
     "iopub.execute_input": "2023-11-16T15:52:15.273965Z",
     "iopub.status.busy": "2023-11-16T15:52:15.273244Z",
     "iopub.status.idle": "2023-11-16T15:52:15.277785Z",
     "shell.execute_reply": "2023-11-16T15:52:15.276832Z"
    },
    "papermill": {
     "duration": 0.127832,
     "end_time": "2023-11-16T15:52:15.279691",
     "exception": false,
     "start_time": "2023-11-16T15:52:15.151859",
     "status": "completed"
    },
    "tags": []
   },
   "outputs": [],
   "source": [
    "c = {10,20,30,40}"
   ]
  },
  {
   "cell_type": "code",
   "execution_count": 54,
   "id": "22450857",
   "metadata": {
    "execution": {
     "iopub.execute_input": "2023-11-16T15:52:15.521290Z",
     "iopub.status.busy": "2023-11-16T15:52:15.520967Z",
     "iopub.status.idle": "2023-11-16T15:52:15.526948Z",
     "shell.execute_reply": "2023-11-16T15:52:15.526065Z"
    },
    "papermill": {
     "duration": 0.126881,
     "end_time": "2023-11-16T15:52:15.528912",
     "exception": false,
     "start_time": "2023-11-16T15:52:15.402031",
     "status": "completed"
    },
    "tags": []
   },
   "outputs": [
    {
     "data": {
      "text/plain": [
       "{10, 20, 30, 40}"
      ]
     },
     "execution_count": 54,
     "metadata": {},
     "output_type": "execute_result"
    }
   ],
   "source": [
    "c"
   ]
  },
  {
   "cell_type": "code",
   "execution_count": 55,
   "id": "cd165525",
   "metadata": {
    "execution": {
     "iopub.execute_input": "2023-11-16T15:52:15.768928Z",
     "iopub.status.busy": "2023-11-16T15:52:15.768645Z",
     "iopub.status.idle": "2023-11-16T15:52:15.772559Z",
     "shell.execute_reply": "2023-11-16T15:52:15.771726Z"
    },
    "papermill": {
     "duration": 0.125894,
     "end_time": "2023-11-16T15:52:15.774350",
     "exception": false,
     "start_time": "2023-11-16T15:52:15.648456",
     "status": "completed"
    },
    "tags": []
   },
   "outputs": [],
   "source": [
    "d = {10,20,10,20}"
   ]
  },
  {
   "cell_type": "code",
   "execution_count": 56,
   "id": "485be61a",
   "metadata": {
    "execution": {
     "iopub.execute_input": "2023-11-16T15:52:16.011995Z",
     "iopub.status.busy": "2023-11-16T15:52:16.011641Z",
     "iopub.status.idle": "2023-11-16T15:52:16.017364Z",
     "shell.execute_reply": "2023-11-16T15:52:16.016424Z"
    },
    "papermill": {
     "duration": 0.12675,
     "end_time": "2023-11-16T15:52:16.019271",
     "exception": false,
     "start_time": "2023-11-16T15:52:15.892521",
     "status": "completed"
    },
    "tags": []
   },
   "outputs": [
    {
     "data": {
      "text/plain": [
       "{10, 20}"
      ]
     },
     "execution_count": 56,
     "metadata": {},
     "output_type": "execute_result"
    }
   ],
   "source": [
    "d"
   ]
  },
  {
   "cell_type": "code",
   "execution_count": 57,
   "id": "3fe6e617",
   "metadata": {
    "execution": {
     "iopub.execute_input": "2023-11-16T15:52:16.258300Z",
     "iopub.status.busy": "2023-11-16T15:52:16.258005Z",
     "iopub.status.idle": "2023-11-16T15:52:16.262371Z",
     "shell.execute_reply": "2023-11-16T15:52:16.261177Z"
    },
    "papermill": {
     "duration": 0.125862,
     "end_time": "2023-11-16T15:52:16.264461",
     "exception": false,
     "start_time": "2023-11-16T15:52:16.138599",
     "status": "completed"
    },
    "tags": []
   },
   "outputs": [],
   "source": [
    "# # property 1 \n",
    "\n",
    "# unique elements only "
   ]
  },
  {
   "cell_type": "code",
   "execution_count": 58,
   "id": "3c181cd7",
   "metadata": {
    "execution": {
     "iopub.execute_input": "2023-11-16T15:52:16.568601Z",
     "iopub.status.busy": "2023-11-16T15:52:16.568244Z",
     "iopub.status.idle": "2023-11-16T15:52:16.573864Z",
     "shell.execute_reply": "2023-11-16T15:52:16.573067Z"
    },
    "papermill": {
     "duration": 0.132888,
     "end_time": "2023-11-16T15:52:16.575731",
     "exception": false,
     "start_time": "2023-11-16T15:52:16.442843",
     "status": "completed"
    },
    "tags": []
   },
   "outputs": [
    {
     "data": {
      "text/plain": [
       "{10, 20}"
      ]
     },
     "execution_count": 58,
     "metadata": {},
     "output_type": "execute_result"
    }
   ],
   "source": [
    "# property \n",
    "# there is no index in set \n",
    "\n",
    "d"
   ]
  },
  {
   "cell_type": "code",
   "execution_count": 59,
   "id": "2a3e6a88",
   "metadata": {
    "execution": {
     "iopub.execute_input": "2023-11-16T15:52:16.816919Z",
     "iopub.status.busy": "2023-11-16T15:52:16.815976Z",
     "iopub.status.idle": "2023-11-16T15:52:16.820376Z",
     "shell.execute_reply": "2023-11-16T15:52:16.819473Z"
    },
    "papermill": {
     "duration": 0.127134,
     "end_time": "2023-11-16T15:52:16.822410",
     "exception": false,
     "start_time": "2023-11-16T15:52:16.695276",
     "status": "completed"
    },
    "tags": []
   },
   "outputs": [],
   "source": [
    "# d[0]"
   ]
  },
  {
   "cell_type": "markdown",
   "id": "032e3e82",
   "metadata": {
    "papermill": {
     "duration": 0.123523,
     "end_time": "2023-11-16T15:52:17.064646",
     "exception": false,
     "start_time": "2023-11-16T15:52:16.941123",
     "status": "completed"
    },
    "tags": []
   },
   "source": [
    "# dictionary  ( ) "
   ]
  },
  {
   "cell_type": "code",
   "execution_count": 60,
   "id": "0d8c8153",
   "metadata": {
    "execution": {
     "iopub.execute_input": "2023-11-16T15:52:17.312092Z",
     "iopub.status.busy": "2023-11-16T15:52:17.311169Z",
     "iopub.status.idle": "2023-11-16T15:52:17.315622Z",
     "shell.execute_reply": "2023-11-16T15:52:17.314909Z"
    },
    "papermill": {
     "duration": 0.130094,
     "end_time": "2023-11-16T15:52:17.317896",
     "exception": false,
     "start_time": "2023-11-16T15:52:17.187802",
     "status": "completed"
    },
    "tags": []
   },
   "outputs": [],
   "source": [
    "t = { \"beautiful\"   : \"swapna is a beautiful women\",\n",
    "    \"smart\" : \"tayyab is a smart person\",\n",
    "    \"clever\" : \"parth is clever\"}"
   ]
  },
  {
   "cell_type": "code",
   "execution_count": 61,
   "id": "099302c1",
   "metadata": {
    "execution": {
     "iopub.execute_input": "2023-11-16T15:52:17.556025Z",
     "iopub.status.busy": "2023-11-16T15:52:17.555722Z",
     "iopub.status.idle": "2023-11-16T15:52:17.559596Z",
     "shell.execute_reply": "2023-11-16T15:52:17.558771Z"
    },
    "papermill": {
     "duration": 0.124204,
     "end_time": "2023-11-16T15:52:17.561544",
     "exception": false,
     "start_time": "2023-11-16T15:52:17.437340",
     "status": "completed"
    },
    "tags": []
   },
   "outputs": [],
   "source": [
    "# property index - key index"
   ]
  },
  {
   "cell_type": "code",
   "execution_count": 62,
   "id": "6dbcea80",
   "metadata": {
    "execution": {
     "iopub.execute_input": "2023-11-16T15:52:17.802361Z",
     "iopub.status.busy": "2023-11-16T15:52:17.802076Z",
     "iopub.status.idle": "2023-11-16T15:52:17.808103Z",
     "shell.execute_reply": "2023-11-16T15:52:17.807252Z"
    },
    "papermill": {
     "duration": 0.12854,
     "end_time": "2023-11-16T15:52:17.810033",
     "exception": false,
     "start_time": "2023-11-16T15:52:17.681493",
     "status": "completed"
    },
    "tags": []
   },
   "outputs": [
    {
     "data": {
      "text/plain": [
       "dict_keys(['beautiful', 'smart', 'clever'])"
      ]
     },
     "execution_count": 62,
     "metadata": {},
     "output_type": "execute_result"
    }
   ],
   "source": [
    "t.keys()"
   ]
  },
  {
   "cell_type": "code",
   "execution_count": 63,
   "id": "a57beb83",
   "metadata": {
    "execution": {
     "iopub.execute_input": "2023-11-16T15:52:18.058120Z",
     "iopub.status.busy": "2023-11-16T15:52:18.057343Z",
     "iopub.status.idle": "2023-11-16T15:52:18.063612Z",
     "shell.execute_reply": "2023-11-16T15:52:18.062688Z"
    },
    "papermill": {
     "duration": 0.137676,
     "end_time": "2023-11-16T15:52:18.065751",
     "exception": false,
     "start_time": "2023-11-16T15:52:17.928075",
     "status": "completed"
    },
    "tags": []
   },
   "outputs": [
    {
     "data": {
      "text/plain": [
       "'swapna is a beautiful women'"
      ]
     },
     "execution_count": 63,
     "metadata": {},
     "output_type": "execute_result"
    }
   ],
   "source": [
    "t[\"beautiful\"]"
   ]
  },
  {
   "cell_type": "code",
   "execution_count": 64,
   "id": "c961dd9b",
   "metadata": {
    "execution": {
     "iopub.execute_input": "2023-11-16T15:52:18.311089Z",
     "iopub.status.busy": "2023-11-16T15:52:18.310340Z",
     "iopub.status.idle": "2023-11-16T15:52:18.316406Z",
     "shell.execute_reply": "2023-11-16T15:52:18.315528Z"
    },
    "papermill": {
     "duration": 0.133832,
     "end_time": "2023-11-16T15:52:18.318533",
     "exception": false,
     "start_time": "2023-11-16T15:52:18.184701",
     "status": "completed"
    },
    "tags": []
   },
   "outputs": [
    {
     "data": {
      "text/plain": [
       "'parth is clever'"
      ]
     },
     "execution_count": 64,
     "metadata": {},
     "output_type": "execute_result"
    }
   ],
   "source": [
    "t[\"clever\"]"
   ]
  },
  {
   "cell_type": "code",
   "execution_count": 65,
   "id": "1b9b17d0",
   "metadata": {
    "execution": {
     "iopub.execute_input": "2023-11-16T15:52:18.561443Z",
     "iopub.status.busy": "2023-11-16T15:52:18.561139Z",
     "iopub.status.idle": "2023-11-16T15:52:18.567036Z",
     "shell.execute_reply": "2023-11-16T15:52:18.566000Z"
    },
    "papermill": {
     "duration": 0.128841,
     "end_time": "2023-11-16T15:52:18.569042",
     "exception": false,
     "start_time": "2023-11-16T15:52:18.440201",
     "status": "completed"
    },
    "tags": []
   },
   "outputs": [
    {
     "data": {
      "text/plain": [
       "dict_keys(['beautiful', 'smart', 'clever'])"
      ]
     },
     "execution_count": 65,
     "metadata": {},
     "output_type": "execute_result"
    }
   ],
   "source": [
    "t.keys()"
   ]
  },
  {
   "cell_type": "code",
   "execution_count": 66,
   "id": "ee611025",
   "metadata": {
    "execution": {
     "iopub.execute_input": "2023-11-16T15:52:18.810403Z",
     "iopub.status.busy": "2023-11-16T15:52:18.810043Z",
     "iopub.status.idle": "2023-11-16T15:52:18.815892Z",
     "shell.execute_reply": "2023-11-16T15:52:18.815050Z"
    },
    "papermill": {
     "duration": 0.130188,
     "end_time": "2023-11-16T15:52:18.818098",
     "exception": false,
     "start_time": "2023-11-16T15:52:18.687910",
     "status": "completed"
    },
    "tags": []
   },
   "outputs": [
    {
     "data": {
      "text/plain": [
       "dict_values(['swapna is a beautiful women', 'tayyab is a smart person', 'parth is clever'])"
      ]
     },
     "execution_count": 66,
     "metadata": {},
     "output_type": "execute_result"
    }
   ],
   "source": [
    "t.values()"
   ]
  },
  {
   "cell_type": "code",
   "execution_count": 67,
   "id": "0a5bc74b",
   "metadata": {
    "execution": {
     "iopub.execute_input": "2023-11-16T15:52:19.067667Z",
     "iopub.status.busy": "2023-11-16T15:52:19.067303Z",
     "iopub.status.idle": "2023-11-16T15:52:19.073053Z",
     "shell.execute_reply": "2023-11-16T15:52:19.072268Z"
    },
    "papermill": {
     "duration": 0.132085,
     "end_time": "2023-11-16T15:52:19.074882",
     "exception": false,
     "start_time": "2023-11-16T15:52:18.942797",
     "status": "completed"
    },
    "tags": []
   },
   "outputs": [
    {
     "data": {
      "text/plain": [
       "dict_items([('beautiful', 'swapna is a beautiful women'), ('smart', 'tayyab is a smart person'), ('clever', 'parth is clever')])"
      ]
     },
     "execution_count": 67,
     "metadata": {},
     "output_type": "execute_result"
    }
   ],
   "source": [
    "t.items()"
   ]
  },
  {
   "cell_type": "code",
   "execution_count": 68,
   "id": "efde8141",
   "metadata": {
    "execution": {
     "iopub.execute_input": "2023-11-16T15:52:19.316935Z",
     "iopub.status.busy": "2023-11-16T15:52:19.316610Z",
     "iopub.status.idle": "2023-11-16T15:52:19.324020Z",
     "shell.execute_reply": "2023-11-16T15:52:19.323162Z"
    },
    "papermill": {
     "duration": 0.134097,
     "end_time": "2023-11-16T15:52:19.326042",
     "exception": false,
     "start_time": "2023-11-16T15:52:19.191945",
     "status": "completed"
    },
    "tags": []
   },
   "outputs": [
    {
     "data": {
      "text/plain": [
       "'4'"
      ]
     },
     "execution_count": 68,
     "metadata": {},
     "output_type": "execute_result"
    }
   ],
   "source": [
    "ch = { \"c1\" :\n",
    "                   {\"c1.1\" :  \"chapter1.1\",\n",
    "                    \n",
    "                    \"c1.2\" :  \n",
    "                             {\"c1.2.1\" : \"chapter mlv\",\n",
    "                              \"c1.2.2\" : [10,20,30,40]},\n",
    "                    \n",
    "                    \"c1.3\" :  \"chapter1.3\"},\n",
    "     \"c2\" : \"chapter2\",\n",
    "     \"c3\" : \"chapter3\"}\n",
    "\n",
    "list(str(ch[\"c1\"][\"c1.2\"][\"c1.2.2\"][3]))[0]"
   ]
  },
  {
   "cell_type": "code",
   "execution_count": 69,
   "id": "1ef1699b",
   "metadata": {
    "execution": {
     "iopub.execute_input": "2023-11-16T15:52:19.572722Z",
     "iopub.status.busy": "2023-11-16T15:52:19.572086Z",
     "iopub.status.idle": "2023-11-16T15:52:19.577842Z",
     "shell.execute_reply": "2023-11-16T15:52:19.576873Z"
    },
    "papermill": {
     "duration": 0.130403,
     "end_time": "2023-11-16T15:52:19.579718",
     "exception": false,
     "start_time": "2023-11-16T15:52:19.449315",
     "status": "completed"
    },
    "tags": []
   },
   "outputs": [
    {
     "data": {
      "text/plain": [
       "10"
      ]
     },
     "execution_count": 69,
     "metadata": {},
     "output_type": "execute_result"
    }
   ],
   "source": [
    "ch[\"c1\"][\"c1.2\"][\"c1.2.2\"][0]"
   ]
  },
  {
   "cell_type": "code",
   "execution_count": 70,
   "id": "016dd6ef",
   "metadata": {
    "execution": {
     "iopub.execute_input": "2023-11-16T15:52:19.869836Z",
     "iopub.status.busy": "2023-11-16T15:52:19.869466Z",
     "iopub.status.idle": "2023-11-16T15:52:19.873804Z",
     "shell.execute_reply": "2023-11-16T15:52:19.872919Z"
    },
    "papermill": {
     "duration": 0.12949,
     "end_time": "2023-11-16T15:52:19.875812",
     "exception": false,
     "start_time": "2023-11-16T15:52:19.746322",
     "status": "completed"
    },
    "tags": []
   },
   "outputs": [],
   "source": [
    "ch[\"c3\"] = \"sush\""
   ]
  },
  {
   "cell_type": "code",
   "execution_count": 71,
   "id": "7e16bea8",
   "metadata": {
    "execution": {
     "iopub.execute_input": "2023-11-16T15:52:20.115040Z",
     "iopub.status.busy": "2023-11-16T15:52:20.114284Z",
     "iopub.status.idle": "2023-11-16T15:52:20.120306Z",
     "shell.execute_reply": "2023-11-16T15:52:20.119371Z"
    },
    "papermill": {
     "duration": 0.128501,
     "end_time": "2023-11-16T15:52:20.122186",
     "exception": false,
     "start_time": "2023-11-16T15:52:19.993685",
     "status": "completed"
    },
    "tags": []
   },
   "outputs": [
    {
     "data": {
      "text/plain": [
       "3"
      ]
     },
     "execution_count": 71,
     "metadata": {},
     "output_type": "execute_result"
    }
   ],
   "source": [
    "len(ch.items())"
   ]
  },
  {
   "cell_type": "code",
   "execution_count": 72,
   "id": "a60aa08e",
   "metadata": {
    "execution": {
     "iopub.execute_input": "2023-11-16T15:52:20.361565Z",
     "iopub.status.busy": "2023-11-16T15:52:20.360998Z",
     "iopub.status.idle": "2023-11-16T15:52:20.366922Z",
     "shell.execute_reply": "2023-11-16T15:52:20.366025Z"
    },
    "papermill": {
     "duration": 0.128948,
     "end_time": "2023-11-16T15:52:20.368977",
     "exception": false,
     "start_time": "2023-11-16T15:52:20.240029",
     "status": "completed"
    },
    "tags": []
   },
   "outputs": [
    {
     "data": {
      "text/plain": [
       "{'c1': {'c1.1': 'chapter1.1',\n",
       "  'c1.2': {'c1.2.1': 'chapter mlv', 'c1.2.2': [10, 20, 30, 40]},\n",
       "  'c1.3': 'chapter1.3'},\n",
       " 'c2': 'chapter2',\n",
       " 'c3': 'sush'}"
      ]
     },
     "execution_count": 72,
     "metadata": {},
     "output_type": "execute_result"
    }
   ],
   "source": [
    "ch"
   ]
  },
  {
   "cell_type": "markdown",
   "id": "7a473055",
   "metadata": {
    "papermill": {
     "duration": 0.120787,
     "end_time": "2023-11-16T15:52:20.612525",
     "exception": false,
     "start_time": "2023-11-16T15:52:20.491738",
     "status": "completed"
    },
    "tags": []
   },
   "source": [
    "# type\n",
    "int()\n",
    "float()\n",
    "str()"
   ]
  },
  {
   "cell_type": "markdown",
   "id": "6a05b4d6",
   "metadata": {
    "papermill": {
     "duration": 0.11932,
     "end_time": "2023-11-16T15:52:20.857318",
     "exception": false,
     "start_time": "2023-11-16T15:52:20.737998",
     "status": "completed"
    },
    "tags": []
   },
   "source": [
    "# data structure casting\n",
    "## list()  tuple() set()  dict()"
   ]
  },
  {
   "cell_type": "code",
   "execution_count": 73,
   "id": "874e9ff0",
   "metadata": {
    "execution": {
     "iopub.execute_input": "2023-11-16T15:52:21.101886Z",
     "iopub.status.busy": "2023-11-16T15:52:21.101545Z",
     "iopub.status.idle": "2023-11-16T15:52:21.107822Z",
     "shell.execute_reply": "2023-11-16T15:52:21.106805Z"
    },
    "papermill": {
     "duration": 0.130577,
     "end_time": "2023-11-16T15:52:21.109673",
     "exception": false,
     "start_time": "2023-11-16T15:52:20.979096",
     "status": "completed"
    },
    "tags": []
   },
   "outputs": [
    {
     "data": {
      "text/plain": [
       "list"
      ]
     },
     "execution_count": 73,
     "metadata": {},
     "output_type": "execute_result"
    }
   ],
   "source": [
    "a = [10,20,30]\n",
    "type(a)"
   ]
  },
  {
   "cell_type": "code",
   "execution_count": 74,
   "id": "59329255",
   "metadata": {
    "execution": {
     "iopub.execute_input": "2023-11-16T15:52:21.355500Z",
     "iopub.status.busy": "2023-11-16T15:52:21.355173Z",
     "iopub.status.idle": "2023-11-16T15:52:21.361324Z",
     "shell.execute_reply": "2023-11-16T15:52:21.360429Z"
    },
    "papermill": {
     "duration": 0.133803,
     "end_time": "2023-11-16T15:52:21.363460",
     "exception": false,
     "start_time": "2023-11-16T15:52:21.229657",
     "status": "completed"
    },
    "tags": []
   },
   "outputs": [
    {
     "data": {
      "text/plain": [
       "(10, 20, 30)"
      ]
     },
     "execution_count": 74,
     "metadata": {},
     "output_type": "execute_result"
    }
   ],
   "source": [
    "b = tuple(a)\n",
    "b"
   ]
  },
  {
   "cell_type": "code",
   "execution_count": 75,
   "id": "41ba0112",
   "metadata": {
    "execution": {
     "iopub.execute_input": "2023-11-16T15:52:21.613914Z",
     "iopub.status.busy": "2023-11-16T15:52:21.613523Z",
     "iopub.status.idle": "2023-11-16T15:52:21.619518Z",
     "shell.execute_reply": "2023-11-16T15:52:21.618569Z"
    },
    "papermill": {
     "duration": 0.132778,
     "end_time": "2023-11-16T15:52:21.621611",
     "exception": false,
     "start_time": "2023-11-16T15:52:21.488833",
     "status": "completed"
    },
    "tags": []
   },
   "outputs": [
    {
     "data": {
      "text/plain": [
       "tuple"
      ]
     },
     "execution_count": 75,
     "metadata": {},
     "output_type": "execute_result"
    }
   ],
   "source": [
    "type(b)"
   ]
  },
  {
   "cell_type": "code",
   "execution_count": 76,
   "id": "a09e5007",
   "metadata": {
    "execution": {
     "iopub.execute_input": "2023-11-16T15:52:21.863346Z",
     "iopub.status.busy": "2023-11-16T15:52:21.862942Z",
     "iopub.status.idle": "2023-11-16T15:52:21.867501Z",
     "shell.execute_reply": "2023-11-16T15:52:21.866504Z"
    },
    "papermill": {
     "duration": 0.126972,
     "end_time": "2023-11-16T15:52:21.869536",
     "exception": false,
     "start_time": "2023-11-16T15:52:21.742564",
     "status": "completed"
    },
    "tags": []
   },
   "outputs": [],
   "source": [
    "gg = (\"sush@gmail.com\",2564856855)\n",
    "# gg[0] = \"sush@outlook.com\""
   ]
  },
  {
   "cell_type": "code",
   "execution_count": 77,
   "id": "4280dfce",
   "metadata": {
    "execution": {
     "iopub.execute_input": "2023-11-16T15:52:22.116285Z",
     "iopub.status.busy": "2023-11-16T15:52:22.115923Z",
     "iopub.status.idle": "2023-11-16T15:52:22.122094Z",
     "shell.execute_reply": "2023-11-16T15:52:22.121198Z"
    },
    "papermill": {
     "duration": 0.132811,
     "end_time": "2023-11-16T15:52:22.124195",
     "exception": false,
     "start_time": "2023-11-16T15:52:21.991384",
     "status": "completed"
    },
    "tags": []
   },
   "outputs": [
    {
     "data": {
      "text/plain": [
       "['sush@gmail.com', 2564856855]"
      ]
     },
     "execution_count": 77,
     "metadata": {},
     "output_type": "execute_result"
    }
   ],
   "source": [
    "gg = list(gg)\n",
    "gg"
   ]
  },
  {
   "cell_type": "code",
   "execution_count": 78,
   "id": "11781f09",
   "metadata": {
    "execution": {
     "iopub.execute_input": "2023-11-16T15:52:22.389898Z",
     "iopub.status.busy": "2023-11-16T15:52:22.389577Z",
     "iopub.status.idle": "2023-11-16T15:52:22.395367Z",
     "shell.execute_reply": "2023-11-16T15:52:22.394512Z"
    },
    "papermill": {
     "duration": 0.149457,
     "end_time": "2023-11-16T15:52:22.397584",
     "exception": false,
     "start_time": "2023-11-16T15:52:22.248127",
     "status": "completed"
    },
    "tags": []
   },
   "outputs": [
    {
     "data": {
      "text/plain": [
       "list"
      ]
     },
     "execution_count": 78,
     "metadata": {},
     "output_type": "execute_result"
    }
   ],
   "source": [
    "type(gg)"
   ]
  },
  {
   "cell_type": "code",
   "execution_count": 79,
   "id": "422cbb89",
   "metadata": {
    "execution": {
     "iopub.execute_input": "2023-11-16T15:52:22.642156Z",
     "iopub.status.busy": "2023-11-16T15:52:22.641841Z",
     "iopub.status.idle": "2023-11-16T15:52:22.649073Z",
     "shell.execute_reply": "2023-11-16T15:52:22.648273Z"
    },
    "papermill": {
     "duration": 0.130584,
     "end_time": "2023-11-16T15:52:22.651167",
     "exception": false,
     "start_time": "2023-11-16T15:52:22.520583",
     "status": "completed"
    },
    "tags": []
   },
   "outputs": [
    {
     "data": {
      "text/plain": [
       "['sush@outlook.com', 2564856855]"
      ]
     },
     "execution_count": 79,
     "metadata": {},
     "output_type": "execute_result"
    }
   ],
   "source": [
    "gg[0] = \"sush@outlook.com\"\n",
    "gg"
   ]
  },
  {
   "cell_type": "code",
   "execution_count": 80,
   "id": "0247aed5",
   "metadata": {
    "execution": {
     "iopub.execute_input": "2023-11-16T15:52:22.898546Z",
     "iopub.status.busy": "2023-11-16T15:52:22.898101Z",
     "iopub.status.idle": "2023-11-16T15:52:22.904084Z",
     "shell.execute_reply": "2023-11-16T15:52:22.903201Z"
    },
    "papermill": {
     "duration": 0.13105,
     "end_time": "2023-11-16T15:52:22.906349",
     "exception": false,
     "start_time": "2023-11-16T15:52:22.775299",
     "status": "completed"
    },
    "tags": []
   },
   "outputs": [
    {
     "data": {
      "text/plain": [
       "('sush@outlook.com', 2564856855)"
      ]
     },
     "execution_count": 80,
     "metadata": {},
     "output_type": "execute_result"
    }
   ],
   "source": [
    "gg = tuple(gg)\n",
    "gg"
   ]
  },
  {
   "cell_type": "code",
   "execution_count": 81,
   "id": "4c46230a",
   "metadata": {
    "execution": {
     "iopub.execute_input": "2023-11-16T15:52:23.200386Z",
     "iopub.status.busy": "2023-11-16T15:52:23.200035Z",
     "iopub.status.idle": "2023-11-16T15:52:23.206354Z",
     "shell.execute_reply": "2023-11-16T15:52:23.205605Z"
    },
    "papermill": {
     "duration": 0.135855,
     "end_time": "2023-11-16T15:52:23.208518",
     "exception": false,
     "start_time": "2023-11-16T15:52:23.072663",
     "status": "completed"
    },
    "tags": []
   },
   "outputs": [
    {
     "data": {
      "text/plain": [
       "('sush@outlook.com', 2564856855)"
      ]
     },
     "execution_count": 81,
     "metadata": {},
     "output_type": "execute_result"
    }
   ],
   "source": [
    "gg = (\"sush@gmail.com\",2564856855)\n",
    "gg = list(gg)\n",
    "gg[0] = \"sush@outlook.com\"\n",
    "gg = tuple(gg)\n",
    "gg"
   ]
  },
  {
   "cell_type": "code",
   "execution_count": 82,
   "id": "fc3d2225",
   "metadata": {
    "execution": {
     "iopub.execute_input": "2023-11-16T15:52:23.454640Z",
     "iopub.status.busy": "2023-11-16T15:52:23.454294Z",
     "iopub.status.idle": "2023-11-16T15:52:23.460377Z",
     "shell.execute_reply": "2023-11-16T15:52:23.459624Z"
    },
    "papermill": {
     "duration": 0.132896,
     "end_time": "2023-11-16T15:52:23.462472",
     "exception": false,
     "start_time": "2023-11-16T15:52:23.329576",
     "status": "completed"
    },
    "tags": []
   },
   "outputs": [
    {
     "data": {
      "text/plain": [
       "[10, 20, 30]"
      ]
     },
     "execution_count": 82,
     "metadata": {},
     "output_type": "execute_result"
    }
   ],
   "source": [
    "a = [10,20,30,10]\n",
    "a = list(set(a))\n",
    "a"
   ]
  },
  {
   "cell_type": "code",
   "execution_count": 83,
   "id": "d13c7217",
   "metadata": {
    "execution": {
     "iopub.execute_input": "2023-11-16T15:52:23.708468Z",
     "iopub.status.busy": "2023-11-16T15:52:23.708135Z",
     "iopub.status.idle": "2023-11-16T15:52:23.714080Z",
     "shell.execute_reply": "2023-11-16T15:52:23.713291Z"
    },
    "papermill": {
     "duration": 0.132366,
     "end_time": "2023-11-16T15:52:23.716097",
     "exception": false,
     "start_time": "2023-11-16T15:52:23.583731",
     "status": "completed"
    },
    "tags": []
   },
   "outputs": [
    {
     "data": {
      "text/plain": [
       "[10, 20, 30]"
      ]
     },
     "execution_count": 83,
     "metadata": {},
     "output_type": "execute_result"
    }
   ],
   "source": [
    "a = list(set(a))\n",
    "a"
   ]
  },
  {
   "cell_type": "code",
   "execution_count": 84,
   "id": "4c9a16a9",
   "metadata": {
    "execution": {
     "iopub.execute_input": "2023-11-16T15:52:23.969922Z",
     "iopub.status.busy": "2023-11-16T15:52:23.969103Z",
     "iopub.status.idle": "2023-11-16T15:52:23.975911Z",
     "shell.execute_reply": "2023-11-16T15:52:23.974998Z"
    },
    "papermill": {
     "duration": 0.13786,
     "end_time": "2023-11-16T15:52:23.978191",
     "exception": false,
     "start_time": "2023-11-16T15:52:23.840331",
     "status": "completed"
    },
    "tags": []
   },
   "outputs": [
    {
     "data": {
      "text/plain": [
       "{10, 20, 30}"
      ]
     },
     "execution_count": 84,
     "metadata": {},
     "output_type": "execute_result"
    }
   ],
   "source": [
    "c = { 10,20,30,30}\n",
    "c \n",
    "\n"
   ]
  },
  {
   "cell_type": "code",
   "execution_count": 85,
   "id": "681b125f",
   "metadata": {
    "execution": {
     "iopub.execute_input": "2023-11-16T15:52:24.222823Z",
     "iopub.status.busy": "2023-11-16T15:52:24.222378Z",
     "iopub.status.idle": "2023-11-16T15:52:24.227388Z",
     "shell.execute_reply": "2023-11-16T15:52:24.226421Z"
    },
    "papermill": {
     "duration": 0.130412,
     "end_time": "2023-11-16T15:52:24.229728",
     "exception": false,
     "start_time": "2023-11-16T15:52:24.099316",
     "status": "completed"
    },
    "tags": []
   },
   "outputs": [
    {
     "name": "stdout",
     "output_type": "stream",
     "text": [
      "3\n"
     ]
    }
   ],
   "source": [
    "thislist = [\"apple\", \"banana\", \"cherry\"]\n",
    "print(len(thislist))"
   ]
  },
  {
   "cell_type": "code",
   "execution_count": 86,
   "id": "b771776b",
   "metadata": {
    "execution": {
     "iopub.execute_input": "2023-11-16T15:52:24.478271Z",
     "iopub.status.busy": "2023-11-16T15:52:24.477958Z",
     "iopub.status.idle": "2023-11-16T15:52:24.482766Z",
     "shell.execute_reply": "2023-11-16T15:52:24.481901Z"
    },
    "papermill": {
     "duration": 0.129153,
     "end_time": "2023-11-16T15:52:24.484861",
     "exception": false,
     "start_time": "2023-11-16T15:52:24.355708",
     "status": "completed"
    },
    "tags": []
   },
   "outputs": [
    {
     "name": "stdout",
     "output_type": "stream",
     "text": [
      "['apple', 'banana', 'cherry']\n"
     ]
    }
   ],
   "source": [
    "thislist = list((\"apple\", \"banana\", \"cherry\")) # note the double round-brackets\n",
    "print(thislist)"
   ]
  },
  {
   "cell_type": "code",
   "execution_count": 87,
   "id": "7ae3b905",
   "metadata": {
    "execution": {
     "iopub.execute_input": "2023-11-16T15:52:24.731289Z",
     "iopub.status.busy": "2023-11-16T15:52:24.731002Z",
     "iopub.status.idle": "2023-11-16T15:52:24.735850Z",
     "shell.execute_reply": "2023-11-16T15:52:24.734956Z"
    },
    "papermill": {
     "duration": 0.132144,
     "end_time": "2023-11-16T15:52:24.738046",
     "exception": false,
     "start_time": "2023-11-16T15:52:24.605902",
     "status": "completed"
    },
    "tags": []
   },
   "outputs": [
    {
     "name": "stdout",
     "output_type": "stream",
     "text": [
      "['apple', 'banana', 'cherry', 'orange', 'kiwi', 'melon', 'mango']\n"
     ]
    }
   ],
   "source": [
    "thislist = [\"apple\", \"banana\", \"cherry\", \"orange\", \"kiwi\", \"melon\", \"mango\"]\n",
    "print(thislist[:])"
   ]
  },
  {
   "cell_type": "code",
   "execution_count": 88,
   "id": "c14a7970",
   "metadata": {
    "execution": {
     "iopub.execute_input": "2023-11-16T15:52:24.986474Z",
     "iopub.status.busy": "2023-11-16T15:52:24.986197Z",
     "iopub.status.idle": "2023-11-16T15:52:24.991371Z",
     "shell.execute_reply": "2023-11-16T15:52:24.990467Z"
    },
    "papermill": {
     "duration": 0.131672,
     "end_time": "2023-11-16T15:52:24.993647",
     "exception": false,
     "start_time": "2023-11-16T15:52:24.861975",
     "status": "completed"
    },
    "tags": []
   },
   "outputs": [
    {
     "name": "stdout",
     "output_type": "stream",
     "text": [
      "['orange', 'kiwi', 'melon']\n"
     ]
    }
   ],
   "source": [
    "thislist = [\"apple\", \"banana\", \"cherry\", \"orange\", \"kiwi\", \"melon\", \"mango\"]\n",
    "print(thislist[-4:-1])"
   ]
  },
  {
   "cell_type": "code",
   "execution_count": 89,
   "id": "d62acc1b",
   "metadata": {
    "execution": {
     "iopub.execute_input": "2023-11-16T15:52:25.238464Z",
     "iopub.status.busy": "2023-11-16T15:52:25.237832Z",
     "iopub.status.idle": "2023-11-16T15:52:25.242658Z",
     "shell.execute_reply": "2023-11-16T15:52:25.241808Z"
    },
    "papermill": {
     "duration": 0.129167,
     "end_time": "2023-11-16T15:52:25.245114",
     "exception": false,
     "start_time": "2023-11-16T15:52:25.115947",
     "status": "completed"
    },
    "tags": []
   },
   "outputs": [
    {
     "name": "stdout",
     "output_type": "stream",
     "text": [
      "['apple', 'blackcurrant', 'cherry']\n"
     ]
    }
   ],
   "source": [
    "thislist = [\"apple\", \"banana\", \"cherry\"]\n",
    "thislist[1] = \"blackcurrant\"\n",
    "print(thislist)"
   ]
  },
  {
   "cell_type": "code",
   "execution_count": 90,
   "id": "9fad0566",
   "metadata": {
    "execution": {
     "iopub.execute_input": "2023-11-16T15:52:25.496179Z",
     "iopub.status.busy": "2023-11-16T15:52:25.495843Z",
     "iopub.status.idle": "2023-11-16T15:52:25.502256Z",
     "shell.execute_reply": "2023-11-16T15:52:25.501341Z"
    },
    "papermill": {
     "duration": 0.1332,
     "end_time": "2023-11-16T15:52:25.504166",
     "exception": false,
     "start_time": "2023-11-16T15:52:25.370966",
     "status": "completed"
    },
    "tags": []
   },
   "outputs": [
    {
     "data": {
      "text/plain": [
       "['apple', 'banana', 'cherry', 'orange']"
      ]
     },
     "execution_count": 90,
     "metadata": {},
     "output_type": "execute_result"
    }
   ],
   "source": [
    "fruits = ['apple', 'banana', 'cherry']\n",
    "fruits.append(\"orange\")\n",
    "fruits"
   ]
  },
  {
   "cell_type": "code",
   "execution_count": 91,
   "id": "d85dbde2",
   "metadata": {
    "execution": {
     "iopub.execute_input": "2023-11-16T15:52:25.751839Z",
     "iopub.status.busy": "2023-11-16T15:52:25.751513Z",
     "iopub.status.idle": "2023-11-16T15:52:25.755469Z",
     "shell.execute_reply": "2023-11-16T15:52:25.754757Z"
    },
    "papermill": {
     "duration": 0.130936,
     "end_time": "2023-11-16T15:52:25.757563",
     "exception": false,
     "start_time": "2023-11-16T15:52:25.626627",
     "status": "completed"
    },
    "tags": []
   },
   "outputs": [],
   "source": [
    "fruits = ['apple', 'banana', 'cherry', 'orange']\n",
    "\n",
    "fruits.clear()"
   ]
  },
  {
   "cell_type": "code",
   "execution_count": 92,
   "id": "95101264",
   "metadata": {
    "execution": {
     "iopub.execute_input": "2023-11-16T15:52:26.003029Z",
     "iopub.status.busy": "2023-11-16T15:52:26.002337Z",
     "iopub.status.idle": "2023-11-16T15:52:26.008141Z",
     "shell.execute_reply": "2023-11-16T15:52:26.007168Z"
    },
    "papermill": {
     "duration": 0.13184,
     "end_time": "2023-11-16T15:52:26.010248",
     "exception": false,
     "start_time": "2023-11-16T15:52:25.878408",
     "status": "completed"
    },
    "tags": []
   },
   "outputs": [
    {
     "data": {
      "text/plain": [
       "[]"
      ]
     },
     "execution_count": 92,
     "metadata": {},
     "output_type": "execute_result"
    }
   ],
   "source": [
    "fruits "
   ]
  },
  {
   "cell_type": "code",
   "execution_count": 93,
   "id": "2cd6c86f",
   "metadata": {
    "execution": {
     "iopub.execute_input": "2023-11-16T15:52:26.256717Z",
     "iopub.status.busy": "2023-11-16T15:52:26.256125Z",
     "iopub.status.idle": "2023-11-16T15:52:26.262392Z",
     "shell.execute_reply": "2023-11-16T15:52:26.261527Z"
    },
    "papermill": {
     "duration": 0.130228,
     "end_time": "2023-11-16T15:52:26.264243",
     "exception": false,
     "start_time": "2023-11-16T15:52:26.134015",
     "status": "completed"
    },
    "tags": []
   },
   "outputs": [
    {
     "data": {
      "text/plain": [
       "2"
      ]
     },
     "execution_count": 93,
     "metadata": {},
     "output_type": "execute_result"
    }
   ],
   "source": [
    "tay = ['sush', 'sush', 'cherry']\n",
    "\n",
    "tay.count(\"sush\")"
   ]
  },
  {
   "cell_type": "code",
   "execution_count": 94,
   "id": "ac87dd34",
   "metadata": {
    "execution": {
     "iopub.execute_input": "2023-11-16T15:52:26.564854Z",
     "iopub.status.busy": "2023-11-16T15:52:26.564512Z",
     "iopub.status.idle": "2023-11-16T15:52:26.571426Z",
     "shell.execute_reply": "2023-11-16T15:52:26.570551Z"
    },
    "papermill": {
     "duration": 0.181393,
     "end_time": "2023-11-16T15:52:26.573939",
     "exception": false,
     "start_time": "2023-11-16T15:52:26.392546",
     "status": "completed"
    },
    "tags": []
   },
   "outputs": [
    {
     "data": {
      "text/plain": [
       "1"
      ]
     },
     "execution_count": 94,
     "metadata": {},
     "output_type": "execute_result"
    }
   ],
   "source": [
    "fruits = ['apple', 'banana', 'cherry']\n",
    "\n",
    "points = (1, 4, 5, 9)\n",
    "\n",
    "fruits.extend(points)\n",
    "fruits[3]"
   ]
  },
  {
   "cell_type": "code",
   "execution_count": 95,
   "id": "fb6da26f",
   "metadata": {
    "execution": {
     "iopub.execute_input": "2023-11-16T15:52:26.831459Z",
     "iopub.status.busy": "2023-11-16T15:52:26.831118Z",
     "iopub.status.idle": "2023-11-16T15:52:26.837815Z",
     "shell.execute_reply": "2023-11-16T15:52:26.836855Z"
    },
    "papermill": {
     "duration": 0.139077,
     "end_time": "2023-11-16T15:52:26.840137",
     "exception": false,
     "start_time": "2023-11-16T15:52:26.701060",
     "status": "completed"
    },
    "tags": []
   },
   "outputs": [
    {
     "data": {
      "text/plain": [
       "['apple', 'banana', 'cherry', (1, 4, 5, 9)]"
      ]
     },
     "execution_count": 95,
     "metadata": {},
     "output_type": "execute_result"
    }
   ],
   "source": [
    "fruits = ['apple', 'banana', 'cherry']\n",
    "\n",
    "points = (1, 4, 5, 9)\n",
    "\n",
    "fruits.append(points)\n",
    "fruits"
   ]
  },
  {
   "cell_type": "code",
   "execution_count": 96,
   "id": "856a8d1d",
   "metadata": {
    "execution": {
     "iopub.execute_input": "2023-11-16T15:52:27.091629Z",
     "iopub.status.busy": "2023-11-16T15:52:27.091303Z",
     "iopub.status.idle": "2023-11-16T15:52:27.097132Z",
     "shell.execute_reply": "2023-11-16T15:52:27.096200Z"
    },
    "papermill": {
     "duration": 0.135416,
     "end_time": "2023-11-16T15:52:27.099164",
     "exception": false,
     "start_time": "2023-11-16T15:52:26.963748",
     "status": "completed"
    },
    "tags": []
   },
   "outputs": [
    {
     "data": {
      "text/plain": [
       "(1, 4, 5, 9)"
      ]
     },
     "execution_count": 96,
     "metadata": {},
     "output_type": "execute_result"
    }
   ],
   "source": [
    "fruits[3]"
   ]
  },
  {
   "cell_type": "code",
   "execution_count": 97,
   "id": "4da09970",
   "metadata": {
    "execution": {
     "iopub.execute_input": "2023-11-16T15:52:27.348550Z",
     "iopub.status.busy": "2023-11-16T15:52:27.347689Z",
     "iopub.status.idle": "2023-11-16T15:52:27.353822Z",
     "shell.execute_reply": "2023-11-16T15:52:27.352903Z"
    },
    "papermill": {
     "duration": 0.133545,
     "end_time": "2023-11-16T15:52:27.355842",
     "exception": false,
     "start_time": "2023-11-16T15:52:27.222297",
     "status": "completed"
    },
    "tags": []
   },
   "outputs": [
    {
     "data": {
      "text/plain": [
       "0"
      ]
     },
     "execution_count": 97,
     "metadata": {},
     "output_type": "execute_result"
    }
   ],
   "source": [
    "fruits = ['c001asha', 'coo2swapna', 'c001asha']\n",
    "\n",
    "fruits.index(\"c001asha\")"
   ]
  },
  {
   "cell_type": "code",
   "execution_count": 98,
   "id": "f59136eb",
   "metadata": {
    "execution": {
     "iopub.execute_input": "2023-11-16T15:52:27.606573Z",
     "iopub.status.busy": "2023-11-16T15:52:27.606220Z",
     "iopub.status.idle": "2023-11-16T15:52:27.612631Z",
     "shell.execute_reply": "2023-11-16T15:52:27.611725Z"
    },
    "papermill": {
     "duration": 0.134514,
     "end_time": "2023-11-16T15:52:27.614613",
     "exception": false,
     "start_time": "2023-11-16T15:52:27.480099",
     "status": "completed"
    },
    "tags": []
   },
   "outputs": [
    {
     "data": {
      "text/plain": [
       "['apple', 'banana', 'orange', 'cherry']"
      ]
     },
     "execution_count": 98,
     "metadata": {},
     "output_type": "execute_result"
    }
   ],
   "source": [
    "fruits = ['apple', 'banana', 'cherry']\n",
    "\n",
    "fruits.insert(2, \"orange\")\n",
    "fruits"
   ]
  },
  {
   "cell_type": "code",
   "execution_count": 99,
   "id": "b95821cd",
   "metadata": {
    "execution": {
     "iopub.execute_input": "2023-11-16T15:52:27.865119Z",
     "iopub.status.busy": "2023-11-16T15:52:27.864769Z",
     "iopub.status.idle": "2023-11-16T15:52:27.871042Z",
     "shell.execute_reply": "2023-11-16T15:52:27.870150Z"
    },
    "papermill": {
     "duration": 0.133796,
     "end_time": "2023-11-16T15:52:27.873048",
     "exception": false,
     "start_time": "2023-11-16T15:52:27.739252",
     "status": "completed"
    },
    "tags": []
   },
   "outputs": [
    {
     "data": {
      "text/plain": [
       "'apple'"
      ]
     },
     "execution_count": 99,
     "metadata": {},
     "output_type": "execute_result"
    }
   ],
   "source": [
    "fruits = ['apple', 'banana', 'cherry']\n",
    "a = fruits.pop(0)\n",
    "a"
   ]
  },
  {
   "cell_type": "code",
   "execution_count": 100,
   "id": "cd5e8074",
   "metadata": {
    "execution": {
     "iopub.execute_input": "2023-11-16T15:52:28.124161Z",
     "iopub.status.busy": "2023-11-16T15:52:28.123868Z",
     "iopub.status.idle": "2023-11-16T15:52:28.129984Z",
     "shell.execute_reply": "2023-11-16T15:52:28.129217Z"
    },
    "papermill": {
     "duration": 0.133752,
     "end_time": "2023-11-16T15:52:28.132134",
     "exception": false,
     "start_time": "2023-11-16T15:52:27.998382",
     "status": "completed"
    },
    "tags": []
   },
   "outputs": [
    {
     "data": {
      "text/plain": [
       "0"
      ]
     },
     "execution_count": 100,
     "metadata": {},
     "output_type": "execute_result"
    }
   ],
   "source": [
    "fruits = ['apple', 'banana', 'cherry']\n",
    "a = fruits.index(\"apple\")\n",
    "a"
   ]
  },
  {
   "cell_type": "code",
   "execution_count": 101,
   "id": "7566b7cf",
   "metadata": {
    "execution": {
     "iopub.execute_input": "2023-11-16T15:52:28.387500Z",
     "iopub.status.busy": "2023-11-16T15:52:28.387104Z",
     "iopub.status.idle": "2023-11-16T15:52:28.393605Z",
     "shell.execute_reply": "2023-11-16T15:52:28.392646Z"
    },
    "papermill": {
     "duration": 0.137594,
     "end_time": "2023-11-16T15:52:28.395698",
     "exception": false,
     "start_time": "2023-11-16T15:52:28.258104",
     "status": "completed"
    },
    "tags": []
   },
   "outputs": [
    {
     "data": {
      "text/plain": [
       "['apple', 'banana', 'banana']"
      ]
     },
     "execution_count": 101,
     "metadata": {},
     "output_type": "execute_result"
    }
   ],
   "source": [
    "fruits = ['banana', \"apple\",'banana', 'banana']\n",
    "\n",
    "fruits.remove(\"banana\")\n",
    "fruits \n",
    "\n",
    "# ctr a\n",
    "#  ctr /"
   ]
  },
  {
   "cell_type": "code",
   "execution_count": 102,
   "id": "790169e7",
   "metadata": {
    "execution": {
     "iopub.execute_input": "2023-11-16T15:52:28.644416Z",
     "iopub.status.busy": "2023-11-16T15:52:28.644083Z",
     "iopub.status.idle": "2023-11-16T15:52:28.650404Z",
     "shell.execute_reply": "2023-11-16T15:52:28.649644Z"
    },
    "papermill": {
     "duration": 0.131615,
     "end_time": "2023-11-16T15:52:28.652344",
     "exception": false,
     "start_time": "2023-11-16T15:52:28.520729",
     "status": "completed"
    },
    "tags": []
   },
   "outputs": [
    {
     "data": {
      "text/plain": [
       "['cherry', 'banana', 'apple']"
      ]
     },
     "execution_count": 102,
     "metadata": {},
     "output_type": "execute_result"
    }
   ],
   "source": [
    "fruits = ['apple', 'banana', 'cherry']\n",
    "\n",
    "fruits.reverse()\n",
    "fruits"
   ]
  },
  {
   "cell_type": "code",
   "execution_count": 103,
   "id": "d4d2a300",
   "metadata": {
    "execution": {
     "iopub.execute_input": "2023-11-16T15:52:28.902044Z",
     "iopub.status.busy": "2023-11-16T15:52:28.901720Z",
     "iopub.status.idle": "2023-11-16T15:52:28.907739Z",
     "shell.execute_reply": "2023-11-16T15:52:28.906797Z"
    },
    "papermill": {
     "duration": 0.13352,
     "end_time": "2023-11-16T15:52:28.909650",
     "exception": false,
     "start_time": "2023-11-16T15:52:28.776130",
     "status": "completed"
    },
    "tags": []
   },
   "outputs": [
    {
     "data": {
      "text/plain": [
       "[20, 11, 9, 30]"
      ]
     },
     "execution_count": 103,
     "metadata": {},
     "output_type": "execute_result"
    }
   ],
   "source": [
    "a= [20,11,9,30]\n",
    "a"
   ]
  },
  {
   "cell_type": "code",
   "execution_count": 104,
   "id": "a9e65f63",
   "metadata": {
    "execution": {
     "iopub.execute_input": "2023-11-16T15:52:29.160681Z",
     "iopub.status.busy": "2023-11-16T15:52:29.160029Z",
     "iopub.status.idle": "2023-11-16T15:52:29.165946Z",
     "shell.execute_reply": "2023-11-16T15:52:29.165045Z"
    },
    "papermill": {
     "duration": 0.131625,
     "end_time": "2023-11-16T15:52:29.167978",
     "exception": false,
     "start_time": "2023-11-16T15:52:29.036353",
     "status": "completed"
    },
    "tags": []
   },
   "outputs": [
    {
     "data": {
      "text/plain": [
       "[30, 20, 11, 9]"
      ]
     },
     "execution_count": 104,
     "metadata": {},
     "output_type": "execute_result"
    }
   ],
   "source": [
    "a.sort(reverse = True)\n",
    "a"
   ]
  },
  {
   "cell_type": "code",
   "execution_count": 105,
   "id": "c67ab143",
   "metadata": {
    "execution": {
     "iopub.execute_input": "2023-11-16T15:52:29.420362Z",
     "iopub.status.busy": "2023-11-16T15:52:29.419809Z",
     "iopub.status.idle": "2023-11-16T15:52:29.426185Z",
     "shell.execute_reply": "2023-11-16T15:52:29.425333Z"
    },
    "papermill": {
     "duration": 0.135814,
     "end_time": "2023-11-16T15:52:29.428252",
     "exception": false,
     "start_time": "2023-11-16T15:52:29.292438",
     "status": "completed"
    },
    "tags": []
   },
   "outputs": [
    {
     "data": {
      "text/plain": [
       "[10, 20, 30, [40, 50, 60]]"
      ]
     },
     "execution_count": 105,
     "metadata": {},
     "output_type": "execute_result"
    }
   ],
   "source": [
    "d = [10,20,30]\n",
    "d.append([40,50,60])\n",
    "d"
   ]
  },
  {
   "cell_type": "code",
   "execution_count": 106,
   "id": "7b3de0f8",
   "metadata": {
    "execution": {
     "iopub.execute_input": "2023-11-16T15:52:29.679132Z",
     "iopub.status.busy": "2023-11-16T15:52:29.678809Z",
     "iopub.status.idle": "2023-11-16T15:52:29.684931Z",
     "shell.execute_reply": "2023-11-16T15:52:29.684081Z"
    },
    "papermill": {
     "duration": 0.134162,
     "end_time": "2023-11-16T15:52:29.686776",
     "exception": false,
     "start_time": "2023-11-16T15:52:29.552614",
     "status": "completed"
    },
    "tags": []
   },
   "outputs": [
    {
     "data": {
      "text/plain": [
       "[10, 20, 30, 40, 50, 60]"
      ]
     },
     "execution_count": 106,
     "metadata": {},
     "output_type": "execute_result"
    }
   ],
   "source": [
    "e = [10,20,30]\n",
    "e.extend([40,50,60])\n",
    "e"
   ]
  },
  {
   "cell_type": "code",
   "execution_count": 107,
   "id": "285ea655",
   "metadata": {
    "execution": {
     "iopub.execute_input": "2023-11-16T15:52:29.939732Z",
     "iopub.status.busy": "2023-11-16T15:52:29.939382Z",
     "iopub.status.idle": "2023-11-16T15:52:29.945369Z",
     "shell.execute_reply": "2023-11-16T15:52:29.944621Z"
    },
    "papermill": {
     "duration": 0.134725,
     "end_time": "2023-11-16T15:52:29.947267",
     "exception": false,
     "start_time": "2023-11-16T15:52:29.812542",
     "status": "completed"
    },
    "tags": []
   },
   "outputs": [
    {
     "data": {
      "text/plain": [
       "[2, 3, 4]"
      ]
     },
     "execution_count": 107,
     "metadata": {},
     "output_type": "execute_result"
    }
   ],
   "source": [
    "a = [2,3,4,4]\n",
    "a = list(set(a))\n",
    "a"
   ]
  },
  {
   "cell_type": "code",
   "execution_count": 108,
   "id": "b3225a54",
   "metadata": {
    "execution": {
     "iopub.execute_input": "2023-11-16T15:52:30.199578Z",
     "iopub.status.busy": "2023-11-16T15:52:30.199224Z",
     "iopub.status.idle": "2023-11-16T15:52:30.204375Z",
     "shell.execute_reply": "2023-11-16T15:52:30.203365Z"
    },
    "papermill": {
     "duration": 0.134258,
     "end_time": "2023-11-16T15:52:30.206720",
     "exception": false,
     "start_time": "2023-11-16T15:52:30.072462",
     "status": "completed"
    },
    "tags": []
   },
   "outputs": [
    {
     "name": "stdout",
     "output_type": "stream",
     "text": [
      "yes\n",
      "tayyab\n",
      "prasad\n"
     ]
    }
   ],
   "source": [
    "if 9 > 6 : \n",
    "    print(\"yes\")\n",
    "    print(\"tayyab\")\n",
    "    \n",
    "print(\"prasad\")\n"
   ]
  },
  {
   "cell_type": "code",
   "execution_count": 109,
   "id": "a64b5f78",
   "metadata": {
    "execution": {
     "iopub.execute_input": "2023-11-16T15:52:30.470307Z",
     "iopub.status.busy": "2023-11-16T15:52:30.469960Z",
     "iopub.status.idle": "2023-11-16T15:52:30.474960Z",
     "shell.execute_reply": "2023-11-16T15:52:30.474084Z"
    },
    "papermill": {
     "duration": 0.137998,
     "end_time": "2023-11-16T15:52:30.477340",
     "exception": false,
     "start_time": "2023-11-16T15:52:30.339342",
     "status": "completed"
    },
    "tags": []
   },
   "outputs": [
    {
     "name": "stdout",
     "output_type": "stream",
     "text": [
      "prasad\n"
     ]
    }
   ],
   "source": [
    "if 9 > 16 : \n",
    "    print(\"yes\")\n",
    "    print(\"tayyab\")\n",
    "    \n",
    "print(\"prasad\")"
   ]
  },
  {
   "cell_type": "code",
   "execution_count": 110,
   "id": "37f56d23",
   "metadata": {
    "execution": {
     "iopub.execute_input": "2023-11-16T15:52:30.734198Z",
     "iopub.status.busy": "2023-11-16T15:52:30.733335Z",
     "iopub.status.idle": "2023-11-16T15:52:30.737407Z",
     "shell.execute_reply": "2023-11-16T15:52:30.736641Z"
    },
    "papermill": {
     "duration": 0.136473,
     "end_time": "2023-11-16T15:52:30.739396",
     "exception": false,
     "start_time": "2023-11-16T15:52:30.602923",
     "status": "completed"
    },
    "tags": []
   },
   "outputs": [],
   "source": [
    "# select *\n",
    "#             from table1"
   ]
  },
  {
   "cell_type": "code",
   "execution_count": 111,
   "id": "a6d5715f",
   "metadata": {
    "execution": {
     "iopub.execute_input": "2023-11-16T15:52:31.042133Z",
     "iopub.status.busy": "2023-11-16T15:52:31.041779Z",
     "iopub.status.idle": "2023-11-16T15:52:31.048015Z",
     "shell.execute_reply": "2023-11-16T15:52:31.046974Z"
    },
    "papermill": {
     "duration": 0.135056,
     "end_time": "2023-11-16T15:52:31.050071",
     "exception": false,
     "start_time": "2023-11-16T15:52:30.915015",
     "status": "completed"
    },
    "tags": []
   },
   "outputs": [
    {
     "name": "stdout",
     "output_type": "stream",
     "text": [
      "the girl got distinction\n",
      "distinction\n"
     ]
    }
   ],
   "source": [
    "marks = 80\n",
    "gender = \"female\"\n",
    "\n",
    "\n",
    "if marks > 75 :  \n",
    "    if gender == \"male\" :\n",
    "        print(\"the boy got distinction\")\n",
    "    else :\n",
    "        print(\"the girl got distinction\")        \n",
    "    print(\"distinction\")\n",
    "elif marks > 50 :\n",
    "    print(\"pass\")\n",
    "else :\n",
    "    print(\"fail\")"
   ]
  },
  {
   "cell_type": "code",
   "execution_count": 112,
   "id": "4ff9903e",
   "metadata": {
    "execution": {
     "iopub.execute_input": "2023-11-16T15:52:31.299134Z",
     "iopub.status.busy": "2023-11-16T15:52:31.298809Z",
     "iopub.status.idle": "2023-11-16T15:52:31.304035Z",
     "shell.execute_reply": "2023-11-16T15:52:31.303191Z"
    },
    "papermill": {
     "duration": 0.131367,
     "end_time": "2023-11-16T15:52:31.306282",
     "exception": false,
     "start_time": "2023-11-16T15:52:31.174915",
     "status": "completed"
    },
    "tags": []
   },
   "outputs": [
    {
     "name": "stdout",
     "output_type": "stream",
     "text": [
      "mlv 100\n",
      "mlv 97\n",
      "mlv 94\n",
      "mlv 91\n"
     ]
    }
   ],
   "source": [
    "salary = 100\n",
    "\n",
    "while salary > 90 :\n",
    "    print(\"mlv\",salary )\n",
    "    salary = salary - 3"
   ]
  },
  {
   "cell_type": "code",
   "execution_count": 113,
   "id": "6400011c",
   "metadata": {
    "execution": {
     "iopub.execute_input": "2023-11-16T15:52:31.563166Z",
     "iopub.status.busy": "2023-11-16T15:52:31.562806Z",
     "iopub.status.idle": "2023-11-16T15:52:31.567785Z",
     "shell.execute_reply": "2023-11-16T15:52:31.566832Z"
    },
    "papermill": {
     "duration": 0.134434,
     "end_time": "2023-11-16T15:52:31.570033",
     "exception": false,
     "start_time": "2023-11-16T15:52:31.435599",
     "status": "completed"
    },
    "tags": []
   },
   "outputs": [
    {
     "name": "stdout",
     "output_type": "stream",
     "text": [
      "10\n",
      "----\n",
      "13\n",
      "----\n",
      "16\n",
      "----\n",
      "19\n",
      "----\n"
     ]
    }
   ],
   "source": [
    "for i in  range(10,20,3) :\n",
    "    print(i)\n",
    "    print(\"----\")"
   ]
  },
  {
   "cell_type": "code",
   "execution_count": 114,
   "id": "8acb092e",
   "metadata": {
    "execution": {
     "iopub.execute_input": "2023-11-16T15:52:31.823658Z",
     "iopub.status.busy": "2023-11-16T15:52:31.823312Z",
     "iopub.status.idle": "2023-11-16T15:52:31.828576Z",
     "shell.execute_reply": "2023-11-16T15:52:31.827622Z"
    },
    "papermill": {
     "duration": 0.132317,
     "end_time": "2023-11-16T15:52:31.830428",
     "exception": false,
     "start_time": "2023-11-16T15:52:31.698111",
     "status": "completed"
    },
    "tags": []
   },
   "outputs": [
    {
     "name": "stdout",
     "output_type": "stream",
     "text": [
      "10\n",
      "----\n",
      "husna\n",
      "13\n",
      "----\n",
      "husna\n",
      "16\n",
      "----\n",
      "husna\n",
      "19\n",
      "----\n",
      "husna\n"
     ]
    }
   ],
   "source": [
    "for i in  [10,13,16,19] :\n",
    "    print(i)\n",
    "    print(\"----\")\n",
    "    print(\"husna\")"
   ]
  },
  {
   "cell_type": "code",
   "execution_count": 115,
   "id": "c8bd23b6",
   "metadata": {
    "execution": {
     "iopub.execute_input": "2023-11-16T15:52:32.088704Z",
     "iopub.status.busy": "2023-11-16T15:52:32.088340Z",
     "iopub.status.idle": "2023-11-16T15:52:32.093627Z",
     "shell.execute_reply": "2023-11-16T15:52:32.092687Z"
    },
    "papermill": {
     "duration": 0.139279,
     "end_time": "2023-11-16T15:52:32.095862",
     "exception": false,
     "start_time": "2023-11-16T15:52:31.956583",
     "status": "completed"
    },
    "tags": []
   },
   "outputs": [
    {
     "name": "stdout",
     "output_type": "stream",
     "text": [
      "the element is  10\n",
      "the element is  20\n",
      "the element is  30\n",
      "the element is  40\n",
      "the element is  50\n"
     ]
    }
   ],
   "source": [
    "a = [10,20,30,40,50]\n",
    "\n",
    "for  abhi  in a :\n",
    "    print(\"the element is \",abhi)"
   ]
  },
  {
   "cell_type": "code",
   "execution_count": 116,
   "id": "015166de",
   "metadata": {
    "execution": {
     "iopub.execute_input": "2023-11-16T15:52:32.372610Z",
     "iopub.status.busy": "2023-11-16T15:52:32.372260Z",
     "iopub.status.idle": "2023-11-16T15:52:32.378120Z",
     "shell.execute_reply": "2023-11-16T15:52:32.376745Z"
    },
    "papermill": {
     "duration": 0.152399,
     "end_time": "2023-11-16T15:52:32.380051",
     "exception": false,
     "start_time": "2023-11-16T15:52:32.227652",
     "status": "completed"
    },
    "tags": []
   },
   "outputs": [
    {
     "name": "stdout",
     "output_type": "stream",
     "text": [
      "the element is  10\n",
      "the element is  20\n",
      "the element is  30\n",
      "the element is  40\n",
      "the element is  50\n"
     ]
    }
   ],
   "source": [
    "a = [10,20,30,40,50]\n",
    "\n",
    "for abhi in range(len(a)) : # [ 0,1,2,3,4]\n",
    "    print(\"the element is \",a[abhi])\n",
    "    "
   ]
  },
  {
   "cell_type": "code",
   "execution_count": 117,
   "id": "ae8caa2c",
   "metadata": {
    "execution": {
     "iopub.execute_input": "2023-11-16T15:52:32.631433Z",
     "iopub.status.busy": "2023-11-16T15:52:32.631070Z",
     "iopub.status.idle": "2023-11-16T15:52:32.635865Z",
     "shell.execute_reply": "2023-11-16T15:52:32.634959Z"
    },
    "papermill": {
     "duration": 0.134184,
     "end_time": "2023-11-16T15:52:32.638213",
     "exception": false,
     "start_time": "2023-11-16T15:52:32.504029",
     "status": "completed"
    },
    "tags": []
   },
   "outputs": [
    {
     "name": "stdout",
     "output_type": "stream",
     "text": [
      "1\n",
      "2\n",
      "3\n",
      "4\n"
     ]
    }
   ],
   "source": [
    "for i in range(1,5):\n",
    "    print(i)"
   ]
  },
  {
   "cell_type": "markdown",
   "id": "412b1f32",
   "metadata": {
    "papermill": {
     "duration": 0.125763,
     "end_time": "2023-11-16T15:52:32.891470",
     "exception": false,
     "start_time": "2023-11-16T15:52:32.765707",
     "status": "completed"
    },
    "tags": []
   },
   "source": [
    "### "
   ]
  },
  {
   "cell_type": "code",
   "execution_count": 118,
   "id": "cf0e8436",
   "metadata": {
    "execution": {
     "iopub.execute_input": "2023-11-16T15:52:33.145352Z",
     "iopub.status.busy": "2023-11-16T15:52:33.145009Z",
     "iopub.status.idle": "2023-11-16T15:52:33.150102Z",
     "shell.execute_reply": "2023-11-16T15:52:33.149239Z"
    },
    "papermill": {
     "duration": 0.134013,
     "end_time": "2023-11-16T15:52:33.152395",
     "exception": false,
     "start_time": "2023-11-16T15:52:33.018382",
     "status": "completed"
    },
    "tags": []
   },
   "outputs": [
    {
     "name": "stdout",
     "output_type": "stream",
     "text": [
      "{'banana', 'cherry', 'orange', 'apple'}\n"
     ]
    }
   ],
   "source": [
    "fruits = {\"apple\", \"banana\", \"cherry\"}\n",
    "\n",
    "fruits.add(\"orange\")\n",
    "\n",
    "print(fruits)"
   ]
  },
  {
   "cell_type": "code",
   "execution_count": 119,
   "id": "bfb10f13",
   "metadata": {
    "execution": {
     "iopub.execute_input": "2023-11-16T15:52:33.404932Z",
     "iopub.status.busy": "2023-11-16T15:52:33.404624Z",
     "iopub.status.idle": "2023-11-16T15:52:33.409588Z",
     "shell.execute_reply": "2023-11-16T15:52:33.408728Z"
    },
    "papermill": {
     "duration": 0.134776,
     "end_time": "2023-11-16T15:52:33.411739",
     "exception": false,
     "start_time": "2023-11-16T15:52:33.276963",
     "status": "completed"
    },
    "tags": []
   },
   "outputs": [
    {
     "name": "stdout",
     "output_type": "stream",
     "text": [
      "{'tayyab'}\n"
     ]
    }
   ],
   "source": [
    "fruits = {\"apple\", \"banana\", \"cherry\"}\n",
    "\n",
    "fruits.clear()\n",
    "\n",
    "fruits.add(\"tayyab\")\n",
    "\n",
    "print(fruits)"
   ]
  },
  {
   "cell_type": "code",
   "execution_count": 120,
   "id": "9bea5cbe",
   "metadata": {
    "execution": {
     "iopub.execute_input": "2023-11-16T15:52:33.667106Z",
     "iopub.status.busy": "2023-11-16T15:52:33.666421Z",
     "iopub.status.idle": "2023-11-16T15:52:33.672061Z",
     "shell.execute_reply": "2023-11-16T15:52:33.671153Z"
    },
    "papermill": {
     "duration": 0.137604,
     "end_time": "2023-11-16T15:52:33.674167",
     "exception": false,
     "start_time": "2023-11-16T15:52:33.536563",
     "status": "completed"
    },
    "tags": []
   },
   "outputs": [
    {
     "name": "stdout",
     "output_type": "stream",
     "text": [
      "{'banana', 'cherry'}\n"
     ]
    }
   ],
   "source": [
    "x = {\"apple\", \"banana\", \"cherry\"}\n",
    "y = {\"google\", \"microsoft\", \"apple\"}\n",
    "\n",
    "z = x.difference(y)\n",
    "\n",
    "print(z)"
   ]
  },
  {
   "cell_type": "code",
   "execution_count": 121,
   "id": "a91a5bbd",
   "metadata": {
    "execution": {
     "iopub.execute_input": "2023-11-16T15:52:33.929157Z",
     "iopub.status.busy": "2023-11-16T15:52:33.928602Z",
     "iopub.status.idle": "2023-11-16T15:52:33.934307Z",
     "shell.execute_reply": "2023-11-16T15:52:33.933361Z"
    },
    "papermill": {
     "duration": 0.137521,
     "end_time": "2023-11-16T15:52:33.936679",
     "exception": false,
     "start_time": "2023-11-16T15:52:33.799158",
     "status": "completed"
    },
    "tags": []
   },
   "outputs": [
    {
     "name": "stdout",
     "output_type": "stream",
     "text": [
      "{'apple'}\n"
     ]
    }
   ],
   "source": [
    "x = {\"apple\", \"banana\", \"cherry\"}\n",
    "y = {\"google\", \"microsoft\", \"apple\"}\n",
    "\n",
    "z = y.intersection(x)\n",
    "\n",
    "print(z)"
   ]
  },
  {
   "cell_type": "code",
   "execution_count": 122,
   "id": "40d2973d",
   "metadata": {
    "execution": {
     "iopub.execute_input": "2023-11-16T15:52:34.196495Z",
     "iopub.status.busy": "2023-11-16T15:52:34.196155Z",
     "iopub.status.idle": "2023-11-16T15:52:34.201261Z",
     "shell.execute_reply": "2023-11-16T15:52:34.200404Z"
    },
    "papermill": {
     "duration": 0.137196,
     "end_time": "2023-11-16T15:52:34.203365",
     "exception": false,
     "start_time": "2023-11-16T15:52:34.066169",
     "status": "completed"
    },
    "tags": []
   },
   "outputs": [
    {
     "name": "stdout",
     "output_type": "stream",
     "text": [
      "False\n"
     ]
    }
   ],
   "source": [
    "x = {\"apple\", \"google\", \"cherry\"}\n",
    "y = {\"google\", \"microsoft\", \"facebook\"}\n",
    "\n",
    "z = x.isdisjoint(y)\n",
    "\n",
    "print(z)\n"
   ]
  },
  {
   "cell_type": "code",
   "execution_count": 123,
   "id": "7989298a",
   "metadata": {
    "execution": {
     "iopub.execute_input": "2023-11-16T15:52:34.459924Z",
     "iopub.status.busy": "2023-11-16T15:52:34.459593Z",
     "iopub.status.idle": "2023-11-16T15:52:34.464605Z",
     "shell.execute_reply": "2023-11-16T15:52:34.463782Z"
    },
    "papermill": {
     "duration": 0.136604,
     "end_time": "2023-11-16T15:52:34.466955",
     "exception": false,
     "start_time": "2023-11-16T15:52:34.330351",
     "status": "completed"
    },
    "tags": []
   },
   "outputs": [
    {
     "name": "stdout",
     "output_type": "stream",
     "text": [
      "False\n"
     ]
    }
   ],
   "source": [
    "x = {\"a\", \"b\", \"h\"}\n",
    "y = {\"f\", \"e\", \"d\", \"c\", \"b\", \"a\"}\n",
    "\n",
    "z = x.issubset(y)\n",
    "\n",
    "print(z)"
   ]
  },
  {
   "cell_type": "code",
   "execution_count": 124,
   "id": "033b55c6",
   "metadata": {
    "execution": {
     "iopub.execute_input": "2023-11-16T15:52:34.723121Z",
     "iopub.status.busy": "2023-11-16T15:52:34.722723Z",
     "iopub.status.idle": "2023-11-16T15:52:34.728073Z",
     "shell.execute_reply": "2023-11-16T15:52:34.727163Z"
    },
    "papermill": {
     "duration": 0.138245,
     "end_time": "2023-11-16T15:52:34.730568",
     "exception": false,
     "start_time": "2023-11-16T15:52:34.592323",
     "status": "completed"
    },
    "tags": []
   },
   "outputs": [
    {
     "name": "stdout",
     "output_type": "stream",
     "text": [
      "False\n"
     ]
    }
   ],
   "source": [
    "x = {\"f\", \"e\", \"d\", \"c\", \"b\", \"a\"}\n",
    "y = {\"a\", \"b\", \"z\"}\n",
    "\n",
    "z = x.issuperset(y)\n",
    "\n",
    "print(z)"
   ]
  },
  {
   "cell_type": "code",
   "execution_count": 125,
   "id": "b71ff523",
   "metadata": {
    "execution": {
     "iopub.execute_input": "2023-11-16T15:52:34.990699Z",
     "iopub.status.busy": "2023-11-16T15:52:34.990371Z",
     "iopub.status.idle": "2023-11-16T15:52:34.995122Z",
     "shell.execute_reply": "2023-11-16T15:52:34.994201Z"
    },
    "papermill": {
     "duration": 0.138768,
     "end_time": "2023-11-16T15:52:34.997271",
     "exception": false,
     "start_time": "2023-11-16T15:52:34.858503",
     "status": "completed"
    },
    "tags": []
   },
   "outputs": [
    {
     "name": "stdout",
     "output_type": "stream",
     "text": [
      "{'cherry', 'apple'}\n"
     ]
    }
   ],
   "source": [
    "fruits = {\"apple\", \"banana\", \"cherry\"}\n",
    "\n",
    "fruits.pop()\n",
    "\n",
    "print(fruits)"
   ]
  },
  {
   "cell_type": "code",
   "execution_count": 126,
   "id": "d266a014",
   "metadata": {
    "execution": {
     "iopub.execute_input": "2023-11-16T15:52:35.257059Z",
     "iopub.status.busy": "2023-11-16T15:52:35.256723Z",
     "iopub.status.idle": "2023-11-16T15:52:35.262140Z",
     "shell.execute_reply": "2023-11-16T15:52:35.261225Z"
    },
    "papermill": {
     "duration": 0.140374,
     "end_time": "2023-11-16T15:52:35.264386",
     "exception": false,
     "start_time": "2023-11-16T15:52:35.124012",
     "status": "completed"
    },
    "tags": []
   },
   "outputs": [
    {
     "name": "stdout",
     "output_type": "stream",
     "text": [
      "{'banana', 'cherry', 'apple'}\n"
     ]
    }
   ],
   "source": [
    "x = {\"apple\", \"banana\", \"cherry\"}\n",
    "y = {\"google\", \"microsoft\", \"apple\"}\n",
    "\n",
    "z = x.union(y)\n",
    "\n",
    "print(x)"
   ]
  },
  {
   "cell_type": "code",
   "execution_count": 127,
   "id": "d072ec3c",
   "metadata": {
    "execution": {
     "iopub.execute_input": "2023-11-16T15:52:35.518767Z",
     "iopub.status.busy": "2023-11-16T15:52:35.518369Z",
     "iopub.status.idle": "2023-11-16T15:52:35.523483Z",
     "shell.execute_reply": "2023-11-16T15:52:35.522639Z"
    },
    "papermill": {
     "duration": 0.133149,
     "end_time": "2023-11-16T15:52:35.525994",
     "exception": false,
     "start_time": "2023-11-16T15:52:35.392845",
     "status": "completed"
    },
    "tags": []
   },
   "outputs": [
    {
     "name": "stdout",
     "output_type": "stream",
     "text": [
      "{'google', 'banana', 'cherry', 'microsoft', 'apple'}\n"
     ]
    }
   ],
   "source": [
    "x = {\"apple\", \"banana\", \"cherry\"}\n",
    "y = {\"google\", \"microsoft\", \"apple\"}\n",
    "\n",
    "x.update(y)\n",
    "\n",
    "print(x)"
   ]
  },
  {
   "cell_type": "code",
   "execution_count": 128,
   "id": "9a0f8a9f",
   "metadata": {
    "execution": {
     "iopub.execute_input": "2023-11-16T15:52:35.782155Z",
     "iopub.status.busy": "2023-11-16T15:52:35.781371Z",
     "iopub.status.idle": "2023-11-16T15:52:35.786573Z",
     "shell.execute_reply": "2023-11-16T15:52:35.785751Z"
    },
    "papermill": {
     "duration": 0.134663,
     "end_time": "2023-11-16T15:52:35.789018",
     "exception": false,
     "start_time": "2023-11-16T15:52:35.654355",
     "status": "completed"
    },
    "tags": []
   },
   "outputs": [
    {
     "name": "stdout",
     "output_type": "stream",
     "text": [
      "{'key 1': 'sush', 'key 2': 'sush', 'key 3': 'sush'}\n"
     ]
    }
   ],
   "source": [
    "x = ('key 1', 'key 2', 'key 3')\n",
    "y = \"sush\"\n",
    "\n",
    "thisdict = dict.fromkeys(x, y)\n",
    "\n",
    "print(thisdict)"
   ]
  },
  {
   "cell_type": "code",
   "execution_count": 129,
   "id": "170a745b",
   "metadata": {
    "execution": {
     "iopub.execute_input": "2023-11-16T15:52:36.043985Z",
     "iopub.status.busy": "2023-11-16T15:52:36.043652Z",
     "iopub.status.idle": "2023-11-16T15:52:36.049953Z",
     "shell.execute_reply": "2023-11-16T15:52:36.049141Z"
    },
    "papermill": {
     "duration": 0.137166,
     "end_time": "2023-11-16T15:52:36.052035",
     "exception": false,
     "start_time": "2023-11-16T15:52:35.914869",
     "status": "completed"
    },
    "tags": []
   },
   "outputs": [
    {
     "data": {
      "text/plain": [
       "{'key 1': 'sush', 'key 2': 'sush', 'key 3 ': 'sush'}"
      ]
     },
     "execution_count": 129,
     "metadata": {},
     "output_type": "execute_result"
    }
   ],
   "source": [
    "thisdict  = { \"key 1\" : \"sush\",\n",
    "            \"key 2\" : \"sush\",\n",
    "            \"key 3 \" : \"sush\"}\n",
    "thisdict"
   ]
  },
  {
   "cell_type": "code",
   "execution_count": 130,
   "id": "d0ca9583",
   "metadata": {
    "execution": {
     "iopub.execute_input": "2023-11-16T15:52:36.311403Z",
     "iopub.status.busy": "2023-11-16T15:52:36.311052Z",
     "iopub.status.idle": "2023-11-16T15:52:36.315429Z",
     "shell.execute_reply": "2023-11-16T15:52:36.314530Z"
    },
    "papermill": {
     "duration": 0.136624,
     "end_time": "2023-11-16T15:52:36.317367",
     "exception": false,
     "start_time": "2023-11-16T15:52:36.180743",
     "status": "completed"
    },
    "tags": []
   },
   "outputs": [],
   "source": [
    "x = ('st 1', 'st 2', 'st 3')\n",
    "y = 0 "
   ]
  },
  {
   "cell_type": "code",
   "execution_count": 131,
   "id": "9c3ea55b",
   "metadata": {
    "execution": {
     "iopub.execute_input": "2023-11-16T15:52:36.586211Z",
     "iopub.status.busy": "2023-11-16T15:52:36.585863Z",
     "iopub.status.idle": "2023-11-16T15:52:36.592186Z",
     "shell.execute_reply": "2023-11-16T15:52:36.591334Z"
    },
    "papermill": {
     "duration": 0.142393,
     "end_time": "2023-11-16T15:52:36.594211",
     "exception": false,
     "start_time": "2023-11-16T15:52:36.451818",
     "status": "completed"
    },
    "tags": []
   },
   "outputs": [
    {
     "data": {
      "text/plain": [
       "'Mustang'"
      ]
     },
     "execution_count": 131,
     "metadata": {},
     "output_type": "execute_result"
    }
   ],
   "source": [
    "car = {\n",
    "  \"brand\": \"Ford\",\n",
    "  \"model\": \"Mustang\",\n",
    "  \"year\": 1964\n",
    "}\n",
    "\n",
    "car.get(\"model\")\n",
    "\n"
   ]
  },
  {
   "cell_type": "code",
   "execution_count": 132,
   "id": "70ebb6b9",
   "metadata": {
    "execution": {
     "iopub.execute_input": "2023-11-16T15:52:36.901376Z",
     "iopub.status.busy": "2023-11-16T15:52:36.900518Z",
     "iopub.status.idle": "2023-11-16T15:52:36.906938Z",
     "shell.execute_reply": "2023-11-16T15:52:36.906046Z"
    },
    "papermill": {
     "duration": 0.185598,
     "end_time": "2023-11-16T15:52:36.908968",
     "exception": false,
     "start_time": "2023-11-16T15:52:36.723370",
     "status": "completed"
    },
    "tags": []
   },
   "outputs": [
    {
     "data": {
      "text/plain": [
       "'Mustang'"
      ]
     },
     "execution_count": 132,
     "metadata": {},
     "output_type": "execute_result"
    }
   ],
   "source": [
    "car = {\n",
    "  \"brand\": \"Ford\",\n",
    "  \"model\": \"Mustang\",\n",
    "  \"year\": 1964\n",
    "}\n",
    "car[\"model\"]"
   ]
  },
  {
   "cell_type": "code",
   "execution_count": 133,
   "id": "237dcecb",
   "metadata": {
    "execution": {
     "iopub.execute_input": "2023-11-16T15:52:37.167289Z",
     "iopub.status.busy": "2023-11-16T15:52:37.166935Z",
     "iopub.status.idle": "2023-11-16T15:52:37.173042Z",
     "shell.execute_reply": "2023-11-16T15:52:37.172203Z"
    },
    "papermill": {
     "duration": 0.137924,
     "end_time": "2023-11-16T15:52:37.174985",
     "exception": false,
     "start_time": "2023-11-16T15:52:37.037061",
     "status": "completed"
    },
    "tags": []
   },
   "outputs": [
    {
     "data": {
      "text/plain": [
       "dict_keys(['brand', 'model', 'year'])"
      ]
     },
     "execution_count": 133,
     "metadata": {},
     "output_type": "execute_result"
    }
   ],
   "source": [
    "car = {\n",
    "  \"brand\": \"Ford\",\n",
    "  \"model\": \"Mustang\",\n",
    "  \"year\": 1964\n",
    "}\n",
    "\n",
    "car.keys()"
   ]
  },
  {
   "cell_type": "code",
   "execution_count": 134,
   "id": "41689347",
   "metadata": {
    "execution": {
     "iopub.execute_input": "2023-11-16T15:52:37.430639Z",
     "iopub.status.busy": "2023-11-16T15:52:37.430300Z",
     "iopub.status.idle": "2023-11-16T15:52:37.436232Z",
     "shell.execute_reply": "2023-11-16T15:52:37.435427Z"
    },
    "papermill": {
     "duration": 0.137254,
     "end_time": "2023-11-16T15:52:37.438343",
     "exception": false,
     "start_time": "2023-11-16T15:52:37.301089",
     "status": "completed"
    },
    "tags": []
   },
   "outputs": [
    {
     "data": {
      "text/plain": [
       "dict_values(['Ford', 'Mustang', 1964])"
      ]
     },
     "execution_count": 134,
     "metadata": {},
     "output_type": "execute_result"
    }
   ],
   "source": [
    "car.values()"
   ]
  },
  {
   "cell_type": "code",
   "execution_count": 135,
   "id": "0c7d623f",
   "metadata": {
    "execution": {
     "iopub.execute_input": "2023-11-16T15:52:37.695688Z",
     "iopub.status.busy": "2023-11-16T15:52:37.695358Z",
     "iopub.status.idle": "2023-11-16T15:52:37.701132Z",
     "shell.execute_reply": "2023-11-16T15:52:37.700326Z"
    },
    "papermill": {
     "duration": 0.137058,
     "end_time": "2023-11-16T15:52:37.702930",
     "exception": false,
     "start_time": "2023-11-16T15:52:37.565872",
     "status": "completed"
    },
    "tags": []
   },
   "outputs": [
    {
     "data": {
      "text/plain": [
       "dict_items([('brand', 'Ford'), ('model', 'Mustang'), ('year', 1964)])"
      ]
     },
     "execution_count": 135,
     "metadata": {},
     "output_type": "execute_result"
    }
   ],
   "source": [
    "car.items()"
   ]
  },
  {
   "cell_type": "code",
   "execution_count": 136,
   "id": "5bbb6bd6",
   "metadata": {
    "execution": {
     "iopub.execute_input": "2023-11-16T15:52:37.958260Z",
     "iopub.status.busy": "2023-11-16T15:52:37.957662Z",
     "iopub.status.idle": "2023-11-16T15:52:37.962914Z",
     "shell.execute_reply": "2023-11-16T15:52:37.961954Z"
    },
    "papermill": {
     "duration": 0.134608,
     "end_time": "2023-11-16T15:52:37.964861",
     "exception": false,
     "start_time": "2023-11-16T15:52:37.830253",
     "status": "completed"
    },
    "tags": []
   },
   "outputs": [
    {
     "name": "stdout",
     "output_type": "stream",
     "text": [
      "{'brand': 'Ford', 'year': 1964}\n"
     ]
    }
   ],
   "source": [
    "car = {\n",
    "  \"brand\": \"Ford\",\n",
    "  \"model\": \"Mustang\",\n",
    "  \"year\": 1964\n",
    "}\n",
    "\n",
    "car.pop(\"model\")\n",
    "\n",
    "print(car)"
   ]
  },
  {
   "cell_type": "code",
   "execution_count": 137,
   "id": "e40d6094",
   "metadata": {
    "execution": {
     "iopub.execute_input": "2023-11-16T15:52:38.220135Z",
     "iopub.status.busy": "2023-11-16T15:52:38.219366Z",
     "iopub.status.idle": "2023-11-16T15:52:38.224654Z",
     "shell.execute_reply": "2023-11-16T15:52:38.223873Z"
    },
    "papermill": {
     "duration": 0.135625,
     "end_time": "2023-11-16T15:52:38.226868",
     "exception": false,
     "start_time": "2023-11-16T15:52:38.091243",
     "status": "completed"
    },
    "tags": []
   },
   "outputs": [
    {
     "name": "stdout",
     "output_type": "stream",
     "text": [
      "{'brand': 'Ford', 'model': 'Mustang'}\n"
     ]
    }
   ],
   "source": [
    "car = {\n",
    "  \"brand\": \"Ford\",\n",
    "  \"model\": \"Mustang\",\n",
    "  \"year\": 1964\n",
    "}\n",
    "\n",
    "car.popitem()\n",
    "\n",
    "print(car)"
   ]
  },
  {
   "cell_type": "code",
   "execution_count": 138,
   "id": "9891d437",
   "metadata": {
    "execution": {
     "iopub.execute_input": "2023-11-16T15:52:38.486019Z",
     "iopub.status.busy": "2023-11-16T15:52:38.485327Z",
     "iopub.status.idle": "2023-11-16T15:52:38.490692Z",
     "shell.execute_reply": "2023-11-16T15:52:38.489661Z"
    },
    "papermill": {
     "duration": 0.13628,
     "end_time": "2023-11-16T15:52:38.493079",
     "exception": false,
     "start_time": "2023-11-16T15:52:38.356799",
     "status": "completed"
    },
    "tags": []
   },
   "outputs": [
    {
     "name": "stdout",
     "output_type": "stream",
     "text": [
      "None\n"
     ]
    }
   ],
   "source": [
    "car = {\n",
    "  \"brand\": \"Ford\",\n",
    "    \"model\" : None ,\n",
    "\n",
    "  \"year\": 1964\n",
    "}\n",
    "\n",
    "x = car.setdefault(\"model\", \"Bronco\")\n",
    "\n",
    "print(x)"
   ]
  },
  {
   "cell_type": "code",
   "execution_count": 139,
   "id": "cbd1ff59",
   "metadata": {
    "execution": {
     "iopub.execute_input": "2023-11-16T15:52:38.772082Z",
     "iopub.status.busy": "2023-11-16T15:52:38.771723Z",
     "iopub.status.idle": "2023-11-16T15:52:38.777435Z",
     "shell.execute_reply": "2023-11-16T15:52:38.776390Z"
    },
    "papermill": {
     "duration": 0.151758,
     "end_time": "2023-11-16T15:52:38.779957",
     "exception": false,
     "start_time": "2023-11-16T15:52:38.628199",
     "status": "completed"
    },
    "tags": []
   },
   "outputs": [
    {
     "name": "stdout",
     "output_type": "stream",
     "text": [
      "{'brand': 'Ford', 'model': 'Mustang', 'year': 1964, 'color': 'White'}\n"
     ]
    }
   ],
   "source": [
    "car = {\n",
    "  \"brand\": \"Ford\",\n",
    "  \"model\": \"Mustang\",\n",
    "  \"year\": 1964\n",
    "}\n",
    "\n",
    "\n",
    "car.update({\"color\": \"White\"})\n",
    "print(car)\n",
    "\n"
   ]
  },
  {
   "cell_type": "code",
   "execution_count": 140,
   "id": "25065662",
   "metadata": {
    "execution": {
     "iopub.execute_input": "2023-11-16T15:52:39.056693Z",
     "iopub.status.busy": "2023-11-16T15:52:39.056283Z",
     "iopub.status.idle": "2023-11-16T15:52:39.060705Z",
     "shell.execute_reply": "2023-11-16T15:52:39.059771Z"
    },
    "papermill": {
     "duration": 0.145878,
     "end_time": "2023-11-16T15:52:39.062703",
     "exception": false,
     "start_time": "2023-11-16T15:52:38.916825",
     "status": "completed"
    },
    "tags": []
   },
   "outputs": [],
   "source": [
    "# *"
   ]
  },
  {
   "cell_type": "code",
   "execution_count": 141,
   "id": "789659b6",
   "metadata": {
    "execution": {
     "iopub.execute_input": "2023-11-16T15:52:39.325869Z",
     "iopub.status.busy": "2023-11-16T15:52:39.325017Z",
     "iopub.status.idle": "2023-11-16T15:52:39.329906Z",
     "shell.execute_reply": "2023-11-16T15:52:39.329050Z"
    },
    "papermill": {
     "duration": 0.139776,
     "end_time": "2023-11-16T15:52:39.332052",
     "exception": false,
     "start_time": "2023-11-16T15:52:39.192276",
     "status": "completed"
    },
    "tags": []
   },
   "outputs": [
    {
     "name": "stdout",
     "output_type": "stream",
     "text": [
      "*\n"
     ]
    }
   ],
   "source": [
    "print(\"*\")"
   ]
  },
  {
   "cell_type": "code",
   "execution_count": 142,
   "id": "8ebe035a",
   "metadata": {
    "execution": {
     "iopub.execute_input": "2023-11-16T15:52:39.593253Z",
     "iopub.status.busy": "2023-11-16T15:52:39.592943Z",
     "iopub.status.idle": "2023-11-16T15:52:39.596812Z",
     "shell.execute_reply": "2023-11-16T15:52:39.595930Z"
    },
    "papermill": {
     "duration": 0.137589,
     "end_time": "2023-11-16T15:52:39.598895",
     "exception": false,
     "start_time": "2023-11-16T15:52:39.461306",
     "status": "completed"
    },
    "tags": []
   },
   "outputs": [],
   "source": [
    "# *\n",
    "# **"
   ]
  },
  {
   "cell_type": "code",
   "execution_count": 143,
   "id": "fd89efeb",
   "metadata": {
    "execution": {
     "iopub.execute_input": "2023-11-16T15:52:39.859902Z",
     "iopub.status.busy": "2023-11-16T15:52:39.859319Z",
     "iopub.status.idle": "2023-11-16T15:52:39.864079Z",
     "shell.execute_reply": "2023-11-16T15:52:39.863314Z"
    },
    "papermill": {
     "duration": 0.13778,
     "end_time": "2023-11-16T15:52:39.866225",
     "exception": false,
     "start_time": "2023-11-16T15:52:39.728445",
     "status": "completed"
    },
    "tags": []
   },
   "outputs": [
    {
     "name": "stdout",
     "output_type": "stream",
     "text": [
      "*\n",
      "**\n"
     ]
    }
   ],
   "source": [
    "print(\"*\")\n",
    "print(\"**\")"
   ]
  },
  {
   "cell_type": "code",
   "execution_count": 144,
   "id": "4e8fc1eb",
   "metadata": {
    "execution": {
     "iopub.execute_input": "2023-11-16T15:52:40.122031Z",
     "iopub.status.busy": "2023-11-16T15:52:40.121709Z",
     "iopub.status.idle": "2023-11-16T15:52:40.125835Z",
     "shell.execute_reply": "2023-11-16T15:52:40.124952Z"
    },
    "papermill": {
     "duration": 0.135205,
     "end_time": "2023-11-16T15:52:40.127856",
     "exception": false,
     "start_time": "2023-11-16T15:52:39.992651",
     "status": "completed"
    },
    "tags": []
   },
   "outputs": [],
   "source": [
    "# *\n",
    "# **\n",
    "# ***\n",
    "# ****"
   ]
  },
  {
   "cell_type": "code",
   "execution_count": 145,
   "id": "28df0341",
   "metadata": {
    "execution": {
     "iopub.execute_input": "2023-11-16T15:52:40.390328Z",
     "iopub.status.busy": "2023-11-16T15:52:40.390007Z",
     "iopub.status.idle": "2023-11-16T15:52:40.396435Z",
     "shell.execute_reply": "2023-11-16T15:52:40.395421Z"
    },
    "papermill": {
     "duration": 0.140734,
     "end_time": "2023-11-16T15:52:40.398572",
     "exception": false,
     "start_time": "2023-11-16T15:52:40.257838",
     "status": "completed"
    },
    "tags": []
   },
   "outputs": [
    {
     "name": "stdout",
     "output_type": "stream",
     "text": [
      "   *\n",
      "  **\n",
      " ***\n",
      "****\n",
      " ***\n",
      "  **\n",
      "   *\n"
     ]
    }
   ],
   "source": [
    "for i in range(4) :\n",
    "    print(\" \"*(3-i),end=\"\")\n",
    "    print(\"*\"* (i+1))\n",
    "#     print(\"--\")\n",
    "for j in range(3):\n",
    "    print(\" \"*(j+1),end=\"\")\n",
    "    print(\"*\"*(3-j))"
   ]
  },
  {
   "cell_type": "code",
   "execution_count": 146,
   "id": "762b4e27",
   "metadata": {
    "execution": {
     "iopub.execute_input": "2023-11-16T15:52:40.660300Z",
     "iopub.status.busy": "2023-11-16T15:52:40.659361Z",
     "iopub.status.idle": "2023-11-16T15:52:40.663779Z",
     "shell.execute_reply": "2023-11-16T15:52:40.662892Z"
    },
    "papermill": {
     "duration": 0.138237,
     "end_time": "2023-11-16T15:52:40.665781",
     "exception": false,
     "start_time": "2023-11-16T15:52:40.527544",
     "status": "completed"
    },
    "tags": []
   },
   "outputs": [],
   "source": [
    "#    *\n",
    "#   ***\n",
    "#  *****\n",
    "# *******\n",
    "\n",
    "#  *****\n",
    "#   ***\n",
    "#    *"
   ]
  },
  {
   "cell_type": "code",
   "execution_count": 147,
   "id": "389b9895",
   "metadata": {
    "execution": {
     "iopub.execute_input": "2023-11-16T15:52:40.924865Z",
     "iopub.status.busy": "2023-11-16T15:52:40.924467Z",
     "iopub.status.idle": "2023-11-16T15:52:40.928662Z",
     "shell.execute_reply": "2023-11-16T15:52:40.927715Z"
    },
    "papermill": {
     "duration": 0.134616,
     "end_time": "2023-11-16T15:52:40.930643",
     "exception": false,
     "start_time": "2023-11-16T15:52:40.796027",
     "status": "completed"
    },
    "tags": []
   },
   "outputs": [],
   "source": [
    "# *\n",
    "# ***\n",
    "# *****\n",
    "# *******\n",
    "\n",
    "\n",
    "# *****\n",
    "# ***\n",
    "# *"
   ]
  },
  {
   "cell_type": "code",
   "execution_count": 148,
   "id": "726672a2",
   "metadata": {
    "execution": {
     "iopub.execute_input": "2023-11-16T15:52:41.191588Z",
     "iopub.status.busy": "2023-11-16T15:52:41.191170Z",
     "iopub.status.idle": "2023-11-16T15:52:41.197039Z",
     "shell.execute_reply": "2023-11-16T15:52:41.196070Z"
    },
    "papermill": {
     "duration": 0.139139,
     "end_time": "2023-11-16T15:52:41.199447",
     "exception": false,
     "start_time": "2023-11-16T15:52:41.060308",
     "status": "completed"
    },
    "tags": []
   },
   "outputs": [
    {
     "name": "stdout",
     "output_type": "stream",
     "text": [
      "*\n",
      "***\n",
      "*****\n",
      "*******\n",
      "*\n",
      "*\n",
      "*\n"
     ]
    }
   ],
   "source": [
    "for i in range(4):\n",
    "    print(\"*\"* ((2*i)+1))\n",
    "for j in range(3):\n",
    "    print(\"*\")"
   ]
  },
  {
   "cell_type": "code",
   "execution_count": 149,
   "id": "36bbc9ba",
   "metadata": {
    "execution": {
     "iopub.execute_input": "2023-11-16T15:52:41.475457Z",
     "iopub.status.busy": "2023-11-16T15:52:41.475115Z",
     "iopub.status.idle": "2023-11-16T15:52:41.479175Z",
     "shell.execute_reply": "2023-11-16T15:52:41.478210Z"
    },
    "papermill": {
     "duration": 0.143043,
     "end_time": "2023-11-16T15:52:41.481257",
     "exception": false,
     "start_time": "2023-11-16T15:52:41.338214",
     "status": "completed"
    },
    "tags": []
   },
   "outputs": [],
   "source": [
    "#     *\n",
    "#    ***\n",
    "#   *****\n",
    "#  *******\n",
    "# *********\n",
    "#  *******\n",
    "#   *****\n",
    "#    ***\n",
    "#     *"
   ]
  },
  {
   "cell_type": "code",
   "execution_count": 150,
   "id": "8012efda",
   "metadata": {
    "execution": {
     "iopub.execute_input": "2023-11-16T15:52:41.757289Z",
     "iopub.status.busy": "2023-11-16T15:52:41.756929Z",
     "iopub.status.idle": "2023-11-16T15:52:41.765393Z",
     "shell.execute_reply": "2023-11-16T15:52:41.764328Z"
    },
    "papermill": {
     "duration": 0.150487,
     "end_time": "2023-11-16T15:52:41.767915",
     "exception": false,
     "start_time": "2023-11-16T15:52:41.617428",
     "status": "completed"
    },
    "tags": []
   },
   "outputs": [
    {
     "name": "stdout",
     "output_type": "stream",
     "text": [
      "                        *\n",
      "                       ***\n",
      "                      *****\n",
      "                     *******\n",
      "                    *********\n",
      "                   ***********\n",
      "                  *************\n",
      "                 ***************\n",
      "                *****************\n",
      "               *******************\n",
      "              *********************\n",
      "             ***********************\n",
      "            *************************\n",
      "           ***************************\n",
      "          *****************************\n",
      "         *******************************\n",
      "        *********************************\n",
      "       ***********************************\n",
      "      *************************************\n",
      "     ***************************************\n",
      "    *****************************************\n",
      "   *******************************************\n",
      "  *********************************************\n",
      " ***********************************************\n",
      "*************************************************\n",
      " ***********************************************\n",
      "  *********************************************\n",
      "   *******************************************\n",
      "    *****************************************\n",
      "     ***************************************\n",
      "      *************************************\n",
      "       ***********************************\n",
      "        *********************************\n",
      "         *******************************\n",
      "          *****************************\n",
      "           ***************************\n",
      "            *************************\n",
      "             ***********************\n",
      "              *********************\n",
      "               *******************\n",
      "                *****************\n",
      "                 ***************\n",
      "                  *************\n",
      "                   ***********\n",
      "                    *********\n",
      "                     *******\n",
      "                      *****\n",
      "                       ***\n",
      "                        *\n"
     ]
    }
   ],
   "source": [
    "n =25\n",
    "\n",
    "for i in range(n):\n",
    "    print(\" \"*(n-1-i),end=\"\")\n",
    "    print(\"*\"*((2*i)+1))\n",
    "for j in range(n-1):\n",
    "    print(\" \"*(j+1),end=\"\")\n",
    "    print(\"*\"*((2*(n-2-j))+1))"
   ]
  },
  {
   "cell_type": "markdown",
   "id": "d661708a",
   "metadata": {
    "papermill": {
     "duration": 0.131065,
     "end_time": "2023-11-16T15:52:42.029752",
     "exception": false,
     "start_time": "2023-11-16T15:52:41.898687",
     "status": "completed"
    },
    "tags": []
   },
   "source": [
    "# "
   ]
  },
  {
   "cell_type": "code",
   "execution_count": 151,
   "id": "9d4972a8",
   "metadata": {
    "execution": {
     "iopub.execute_input": "2023-11-16T15:52:42.300700Z",
     "iopub.status.busy": "2023-11-16T15:52:42.299408Z",
     "iopub.status.idle": "2023-11-16T15:52:42.305116Z",
     "shell.execute_reply": "2023-11-16T15:52:42.303810Z"
    },
    "papermill": {
     "duration": 0.14985,
     "end_time": "2023-11-16T15:52:42.307806",
     "exception": false,
     "start_time": "2023-11-16T15:52:42.157956",
     "status": "completed"
    },
    "tags": []
   },
   "outputs": [],
   "source": [
    "#    *    \n",
    "#   * *\n",
    "#  *   *\n",
    "# *     *\n",
    "#  *   *\n",
    "#   * *\n",
    "\n",
    "\n",
    "#    *"
   ]
  },
  {
   "cell_type": "code",
   "execution_count": 152,
   "id": "43f8cced",
   "metadata": {
    "execution": {
     "iopub.execute_input": "2023-11-16T15:52:42.581151Z",
     "iopub.status.busy": "2023-11-16T15:52:42.580809Z",
     "iopub.status.idle": "2023-11-16T15:52:42.587873Z",
     "shell.execute_reply": "2023-11-16T15:52:42.586916Z"
    },
    "papermill": {
     "duration": 0.140161,
     "end_time": "2023-11-16T15:52:42.590387",
     "exception": false,
     "start_time": "2023-11-16T15:52:42.450226",
     "status": "completed"
    },
    "tags": []
   },
   "outputs": [
    {
     "name": "stdout",
     "output_type": "stream",
     "text": [
      "           *\n",
      "          * *\n",
      "         *   *\n",
      "        *     *\n",
      "       *       *\n",
      "      *         *\n",
      "     *           *\n",
      "    *             *\n",
      "   *               *\n",
      "  *                 *\n",
      " *                   *\n",
      "  *                 *\n",
      "   *               *\n",
      "    *             *\n",
      "     *           *\n",
      "      *         *\n",
      "       *       *\n",
      "        *     *\n",
      "         *   *\n",
      "          * *\n",
      "           *\n"
     ]
    }
   ],
   "source": [
    "n = 11\n",
    "# n = 4\n",
    "print(\" \"*(n-1),\"*\")\n",
    "for i in range((n-1)):\n",
    "    print(\" \"*(n-2-i),\"*\"+\" \"*((2*i )+1)+\"*\")\n",
    "for j in range(n-2):\n",
    "    print(\" \"*(j+1),\"*\"+\" \"*((2*(n-2-j))-1)+\"*\")\n",
    "    \n",
    "\n",
    "    \n",
    "print(\" \"*(n-1),\"*\")"
   ]
  },
  {
   "cell_type": "code",
   "execution_count": 153,
   "id": "27882d5a",
   "metadata": {
    "execution": {
     "iopub.execute_input": "2023-11-16T15:52:42.854659Z",
     "iopub.status.busy": "2023-11-16T15:52:42.854265Z",
     "iopub.status.idle": "2023-11-16T15:52:42.858256Z",
     "shell.execute_reply": "2023-11-16T15:52:42.857366Z"
    },
    "papermill": {
     "duration": 0.138367,
     "end_time": "2023-11-16T15:52:42.860707",
     "exception": false,
     "start_time": "2023-11-16T15:52:42.722340",
     "status": "completed"
    },
    "tags": []
   },
   "outputs": [],
   "source": [
    "# 1\n",
    "# 1 1\n",
    "# 1 1 1\n",
    "# 1 1 1 1\n",
    "# 1 1 1 1 1"
   ]
  },
  {
   "cell_type": "code",
   "execution_count": 154,
   "id": "9b82581d",
   "metadata": {
    "execution": {
     "iopub.execute_input": "2023-11-16T15:52:43.129373Z",
     "iopub.status.busy": "2023-11-16T15:52:43.129019Z",
     "iopub.status.idle": "2023-11-16T15:52:43.133903Z",
     "shell.execute_reply": "2023-11-16T15:52:43.133019Z"
    },
    "papermill": {
     "duration": 0.141385,
     "end_time": "2023-11-16T15:52:43.136188",
     "exception": false,
     "start_time": "2023-11-16T15:52:42.994803",
     "status": "completed"
    },
    "tags": []
   },
   "outputs": [
    {
     "name": "stdout",
     "output_type": "stream",
     "text": [
      "1 \n",
      "1 1 \n",
      "1 1 1 \n",
      "1 1 1 1 \n",
      "1 1 1 1 1 \n"
     ]
    }
   ],
   "source": [
    "for i in range(5):\n",
    "    print(\"1 \"*(i+1))"
   ]
  },
  {
   "cell_type": "code",
   "execution_count": 155,
   "id": "e47eb5fb",
   "metadata": {
    "execution": {
     "iopub.execute_input": "2023-11-16T15:52:43.399561Z",
     "iopub.status.busy": "2023-11-16T15:52:43.399229Z",
     "iopub.status.idle": "2023-11-16T15:52:43.402917Z",
     "shell.execute_reply": "2023-11-16T15:52:43.402028Z"
    },
    "papermill": {
     "duration": 0.138844,
     "end_time": "2023-11-16T15:52:43.405054",
     "exception": false,
     "start_time": "2023-11-16T15:52:43.266210",
     "status": "completed"
    },
    "tags": []
   },
   "outputs": [],
   "source": [
    "# 1\n",
    "# 1 2\n",
    "# 1 2 3\n",
    "# 1 2 3 4\n",
    "# 1 2 3 4 5"
   ]
  },
  {
   "cell_type": "code",
   "execution_count": 156,
   "id": "b4c5ffca",
   "metadata": {
    "execution": {
     "iopub.execute_input": "2023-11-16T15:52:43.666359Z",
     "iopub.status.busy": "2023-11-16T15:52:43.665205Z",
     "iopub.status.idle": "2023-11-16T15:52:43.671529Z",
     "shell.execute_reply": "2023-11-16T15:52:43.670316Z"
    },
    "papermill": {
     "duration": 0.138922,
     "end_time": "2023-11-16T15:52:43.673623",
     "exception": false,
     "start_time": "2023-11-16T15:52:43.534701",
     "status": "completed"
    },
    "tags": []
   },
   "outputs": [
    {
     "name": "stdout",
     "output_type": "stream",
     "text": [
      "1 \n",
      "1 2 \n",
      "1 2 3 \n",
      "1 2 3 4 \n",
      "1 2 3 4 5 \n"
     ]
    }
   ],
   "source": [
    "for i in range(5):\n",
    "    for j in range(i+1) :\n",
    "        print(j+1,end=\" \")\n",
    "    print()"
   ]
  },
  {
   "cell_type": "code",
   "execution_count": 157,
   "id": "621d234f",
   "metadata": {
    "execution": {
     "iopub.execute_input": "2023-11-16T15:52:43.932212Z",
     "iopub.status.busy": "2023-11-16T15:52:43.931522Z",
     "iopub.status.idle": "2023-11-16T15:52:43.935773Z",
     "shell.execute_reply": "2023-11-16T15:52:43.934886Z"
    },
    "papermill": {
     "duration": 0.136873,
     "end_time": "2023-11-16T15:52:43.937943",
     "exception": false,
     "start_time": "2023-11-16T15:52:43.801070",
     "status": "completed"
    },
    "tags": []
   },
   "outputs": [],
   "source": [
    "#       1\n",
    "#     1 2 1\n",
    "#   1 2 3 2 1 \n",
    "# 1 2 3 4 3 2 1\n",
    "#   1 2 3 2 1\n",
    "#     1 2 1\n",
    "#       1"
   ]
  },
  {
   "cell_type": "code",
   "execution_count": 158,
   "id": "34035718",
   "metadata": {
    "execution": {
     "iopub.execute_input": "2023-11-16T15:52:44.201543Z",
     "iopub.status.busy": "2023-11-16T15:52:44.201227Z",
     "iopub.status.idle": "2023-11-16T15:52:44.210492Z",
     "shell.execute_reply": "2023-11-16T15:52:44.209659Z"
    },
    "papermill": {
     "duration": 0.144507,
     "end_time": "2023-11-16T15:52:44.212701",
     "exception": false,
     "start_time": "2023-11-16T15:52:44.068194",
     "status": "completed"
    },
    "tags": []
   },
   "outputs": [
    {
     "name": "stdout",
     "output_type": "stream",
     "text": [
      "              1 \n",
      "            1 2 1 \n",
      "          1 2 3 2 1 \n",
      "        1 2 3 4 3 2 1 \n",
      "      1 2 3 4 5 4 3 2 1 \n",
      "    1 2 3 4 5 6 5 4 3 2 1 \n",
      "  1 2 3 4 5 6 7 6 5 4 3 2 1 \n",
      "1 2 3 4 5 6 7 8 7 6 5 4 3 2 1 \n",
      "  1 2 3 4 5 6 7 6 5 4 3 2 1 \n",
      "    1 2 3 4 5 6 5 4 3 2 1 \n",
      "      1 2 3 4 5 4 3 2 1 \n",
      "        1 2 3 4 3 2 1 \n",
      "          1 2 3 2 1 \n",
      "            1 2 1 \n",
      "              1 \n"
     ]
    }
   ],
   "source": [
    "n = 8\n",
    "# 4\n",
    "for i in range(n):\n",
    "    print(\" \"*(2*(n-1-i)),end=\"\")\n",
    "    for j in range(i+1):\n",
    "        print(j+1 ,end=\" \")\n",
    "    for k in range(i-1,-1,-1):\n",
    "        print(k+1 ,end=\" \")\n",
    "    print()\n",
    "for p in range(n-1) : # 0 13\n",
    "    print(\" \"*(2*(p+1)),end=\"\")\n",
    "    for q in range(n-1-p) :\n",
    "        print(q+1,end=\" \")        \n",
    "    for r in range(n-p-3,-1,-1):\n",
    "        print(r+1,end=\" \")\n",
    "    print()"
   ]
  },
  {
   "cell_type": "markdown",
   "id": "3b831476",
   "metadata": {
    "execution": {
     "iopub.execute_input": "2023-10-20T17:08:22.412842Z",
     "iopub.status.busy": "2023-10-20T17:08:22.412393Z",
     "iopub.status.idle": "2023-10-20T17:08:22.418210Z",
     "shell.execute_reply": "2023-10-20T17:08:22.417396Z",
     "shell.execute_reply.started": "2023-10-20T17:08:22.412813Z"
    },
    "papermill": {
     "duration": 0.131216,
     "end_time": "2023-11-16T15:52:44.476039",
     "exception": false,
     "start_time": "2023-11-16T15:52:44.344823",
     "status": "completed"
    },
    "tags": []
   },
   "source": [
    "# for i in range(4):\n",
    "    print(i, end=\" \")"
   ]
  },
  {
   "cell_type": "code",
   "execution_count": 159,
   "id": "0e5ee531",
   "metadata": {
    "execution": {
     "iopub.execute_input": "2023-11-16T15:52:44.762232Z",
     "iopub.status.busy": "2023-11-16T15:52:44.761863Z",
     "iopub.status.idle": "2023-11-16T15:52:44.767625Z",
     "shell.execute_reply": "2023-11-16T15:52:44.766500Z"
    },
    "papermill": {
     "duration": 0.162235,
     "end_time": "2023-11-16T15:52:44.769858",
     "exception": false,
     "start_time": "2023-11-16T15:52:44.607623",
     "status": "completed"
    },
    "tags": []
   },
   "outputs": [
    {
     "name": "stdout",
     "output_type": "stream",
     "text": [
      "3 2 1 0 "
     ]
    }
   ],
   "source": [
    "for i in range(3,-1,-1):\n",
    "    print(i, end=\" \")"
   ]
  },
  {
   "cell_type": "code",
   "execution_count": 160,
   "id": "b9e2d174",
   "metadata": {
    "execution": {
     "iopub.execute_input": "2023-11-16T15:52:45.055016Z",
     "iopub.status.busy": "2023-11-16T15:52:45.054005Z",
     "iopub.status.idle": "2023-11-16T15:52:45.058743Z",
     "shell.execute_reply": "2023-11-16T15:52:45.057827Z"
    },
    "papermill": {
     "duration": 0.150701,
     "end_time": "2023-11-16T15:52:45.060898",
     "exception": false,
     "start_time": "2023-11-16T15:52:44.910197",
     "status": "completed"
    },
    "tags": []
   },
   "outputs": [],
   "source": [
    "# 0  \n",
    "\n",
    "# 0 1  \n",
    "\n",
    "# 0 2 4  \n",
    "\n",
    "# 0 3 6 9  \n",
    "\n",
    "# 0 4 8 12 16  \n",
    "\n",
    "# 0 5 10 15 20 25  \n",
    "\n",
    "# 0 6 12 18 24 30 36"
   ]
  },
  {
   "cell_type": "code",
   "execution_count": 161,
   "id": "816fbefe",
   "metadata": {
    "execution": {
     "iopub.execute_input": "2023-11-16T15:52:45.324190Z",
     "iopub.status.busy": "2023-11-16T15:52:45.323248Z",
     "iopub.status.idle": "2023-11-16T15:52:45.331055Z",
     "shell.execute_reply": "2023-11-16T15:52:45.330093Z"
    },
    "papermill": {
     "duration": 0.141452,
     "end_time": "2023-11-16T15:52:45.333002",
     "exception": false,
     "start_time": "2023-11-16T15:52:45.191550",
     "status": "completed"
    },
    "tags": []
   },
   "outputs": [
    {
     "name": "stdout",
     "output_type": "stream",
     "text": [
      "0 \n",
      "0 1 \n",
      "0 2 4 \n",
      "0 3 6 9 \n",
      "0 4 8 12 16 \n",
      "0 5 10 15 20 25 \n",
      "0 6 12 18 24 30 36 \n",
      "0 7 14 21 28 35 42 49 \n",
      "0 8 16 24 32 40 48 56 64 \n",
      "0 9 18 27 36 45 54 63 72 81 \n",
      "0 10 20 30 40 50 60 70 80 90 100 \n",
      "0 11 22 33 44 55 66 77 88 99 110 121 \n",
      "0 12 24 36 48 60 72 84 96 108 120 132 144 \n",
      "0 13 26 39 52 65 78 91 104 117 130 143 156 169 \n",
      "0 14 28 42 56 70 84 98 112 126 140 154 168 182 196 \n",
      "0 15 30 45 60 75 90 105 120 135 150 165 180 195 210 225 \n"
     ]
    }
   ],
   "source": [
    "n = 15\n",
    "# 6\n",
    "for i in range(n+1):\n",
    "    for j in range(i+1):\n",
    "        print(j*i,end=\" \")\n",
    "    print()"
   ]
  },
  {
   "cell_type": "code",
   "execution_count": 162,
   "id": "3c8ea734",
   "metadata": {
    "execution": {
     "iopub.execute_input": "2023-11-16T15:52:45.592971Z",
     "iopub.status.busy": "2023-11-16T15:52:45.592569Z",
     "iopub.status.idle": "2023-11-16T15:52:45.597087Z",
     "shell.execute_reply": "2023-11-16T15:52:45.596141Z"
    },
    "papermill": {
     "duration": 0.136342,
     "end_time": "2023-11-16T15:52:45.599374",
     "exception": false,
     "start_time": "2023-11-16T15:52:45.463032",
     "status": "completed"
    },
    "tags": []
   },
   "outputs": [],
   "source": [
    "# 1 \n",
    "\n",
    "# 3 3 \n",
    "\n",
    "# 5 5 5 \n",
    "\n",
    "# 7 7 7 7 \n",
    "\n",
    "# 9 9 9 9 9"
   ]
  },
  {
   "cell_type": "code",
   "execution_count": 163,
   "id": "500e619b",
   "metadata": {
    "execution": {
     "iopub.execute_input": "2023-11-16T15:52:45.863024Z",
     "iopub.status.busy": "2023-11-16T15:52:45.862703Z",
     "iopub.status.idle": "2023-11-16T15:52:45.868599Z",
     "shell.execute_reply": "2023-11-16T15:52:45.867557Z"
    },
    "papermill": {
     "duration": 0.137947,
     "end_time": "2023-11-16T15:52:45.871192",
     "exception": false,
     "start_time": "2023-11-16T15:52:45.733245",
     "status": "completed"
    },
    "tags": []
   },
   "outputs": [
    {
     "name": "stdout",
     "output_type": "stream",
     "text": [
      "1 \n",
      "3 3 \n",
      "5 5 5 \n",
      "7 7 7 7 \n",
      "9 9 9 9 9 \n"
     ]
    }
   ],
   "source": [
    "\n",
    "n = 5\n",
    "for i in range(n):\n",
    "    for j in range(i+1):\n",
    "        print((2*i)+1,end=\" \")\n",
    "    print()"
   ]
  },
  {
   "cell_type": "code",
   "execution_count": 164,
   "id": "6cc8557b",
   "metadata": {
    "execution": {
     "iopub.execute_input": "2023-11-16T15:52:46.128539Z",
     "iopub.status.busy": "2023-11-16T15:52:46.128178Z",
     "iopub.status.idle": "2023-11-16T15:52:46.132158Z",
     "shell.execute_reply": "2023-11-16T15:52:46.131287Z"
    },
    "papermill": {
     "duration": 0.134336,
     "end_time": "2023-11-16T15:52:46.134058",
     "exception": false,
     "start_time": "2023-11-16T15:52:45.999722",
     "status": "completed"
    },
    "tags": []
   },
   "outputs": [],
   "source": [
    "# ******\n",
    "#     *\n",
    "#    *\n",
    "#   *\n",
    "#  *\n",
    "# ******"
   ]
  },
  {
   "cell_type": "code",
   "execution_count": 165,
   "id": "d41131a7",
   "metadata": {
    "execution": {
     "iopub.execute_input": "2023-11-16T15:52:46.399234Z",
     "iopub.status.busy": "2023-11-16T15:52:46.398866Z",
     "iopub.status.idle": "2023-11-16T15:52:46.404537Z",
     "shell.execute_reply": "2023-11-16T15:52:46.403646Z"
    },
    "papermill": {
     "duration": 0.142914,
     "end_time": "2023-11-16T15:52:46.406969",
     "exception": false,
     "start_time": "2023-11-16T15:52:46.264055",
     "status": "completed"
    },
    "tags": []
   },
   "outputs": [
    {
     "name": "stdout",
     "output_type": "stream",
     "text": [
      "************\n",
      "          *\n",
      "         *\n",
      "        *\n",
      "       *\n",
      "      *\n",
      "     *\n",
      "    *\n",
      "   *\n",
      "  *\n",
      " *\n",
      "************\n"
     ]
    }
   ],
   "source": [
    "n = 12\n",
    "print(\"*\"*n)\n",
    "for i in range(n-2):\n",
    "    print(\" \"*(n-2-i),end=\"\")\n",
    "    print(\"*\")\n",
    "print(\"*\"*n)"
   ]
  },
  {
   "cell_type": "code",
   "execution_count": 166,
   "id": "7476a8d3",
   "metadata": {
    "execution": {
     "iopub.execute_input": "2023-11-16T15:52:46.683118Z",
     "iopub.status.busy": "2023-11-16T15:52:46.682419Z",
     "iopub.status.idle": "2023-11-16T15:52:46.686927Z",
     "shell.execute_reply": "2023-11-16T15:52:46.685927Z"
    },
    "papermill": {
     "duration": 0.146856,
     "end_time": "2023-11-16T15:52:46.689018",
     "exception": false,
     "start_time": "2023-11-16T15:52:46.542162",
     "status": "completed"
    },
    "tags": []
   },
   "outputs": [],
   "source": [
    "# 1 2 3 * * * N\n",
    "#           *\n",
    "#         *\n",
    "#       *\n",
    "#     3\n",
    "#   2\n",
    "# 1 2 3 * * * N\n"
   ]
  },
  {
   "cell_type": "code",
   "execution_count": 167,
   "id": "8d0d5d6a",
   "metadata": {
    "execution": {
     "iopub.execute_input": "2023-11-16T15:52:46.952331Z",
     "iopub.status.busy": "2023-11-16T15:52:46.951509Z",
     "iopub.status.idle": "2023-11-16T15:52:46.959302Z",
     "shell.execute_reply": "2023-11-16T15:52:46.958313Z"
    },
    "papermill": {
     "duration": 0.140514,
     "end_time": "2023-11-16T15:52:46.961639",
     "exception": false,
     "start_time": "2023-11-16T15:52:46.821125",
     "status": "completed"
    },
    "tags": []
   },
   "outputs": [
    {
     "name": "stdout",
     "output_type": "stream",
     "text": [
      "1 2 3 * * * N\n",
      "\n",
      "          *\n",
      "        *\n",
      "      *\n",
      "    3\n",
      "  2\n",
      "1 2 3 * * * N\n"
     ]
    }
   ],
   "source": [
    "for i in range(3):\n",
    "    print(i+1, end=\" \")\n",
    "for j in range(3):\n",
    "    print(\"* \",end=\"\")\n",
    "print(\"N\")\n",
    "\n",
    "print()\n",
    "for k in range(3):\n",
    "    print(\" \"*(2*(5-k)),end=\"\")\n",
    "    print(\"*\")\n",
    "for m in range(2):\n",
    "    print(\" \"*(2*(2-m)),end=\"\")\n",
    "    print(3-m)   \n",
    "    \n",
    "    \n",
    "for i in range(3):\n",
    "    print(i+1, end=\" \")\n",
    "for j in range(3):\n",
    "    print(\"* \",end=\"\")\n",
    "print(\"N\")"
   ]
  },
  {
   "cell_type": "code",
   "execution_count": 168,
   "id": "dbf51d54",
   "metadata": {
    "execution": {
     "iopub.execute_input": "2023-11-16T15:52:47.224272Z",
     "iopub.status.busy": "2023-11-16T15:52:47.223448Z",
     "iopub.status.idle": "2023-11-16T15:52:47.229331Z",
     "shell.execute_reply": "2023-11-16T15:52:47.228322Z"
    },
    "papermill": {
     "duration": 0.136624,
     "end_time": "2023-11-16T15:52:47.231417",
     "exception": false,
     "start_time": "2023-11-16T15:52:47.094793",
     "status": "completed"
    },
    "tags": []
   },
   "outputs": [
    {
     "name": "stdout",
     "output_type": "stream",
     "text": [
      "prasad  is not eligible\n"
     ]
    }
   ],
   "source": [
    "m1 = 80\n",
    "m2 = 40\n",
    "student = \"prasad\"\n",
    "\n",
    "\n",
    "if m1 > 50 and m2 > 50 :\n",
    "    print(student , \" is eligible\")\n",
    "else :\n",
    "    print(student,\" is not eligible\")"
   ]
  },
  {
   "cell_type": "code",
   "execution_count": 169,
   "id": "edfebb2d",
   "metadata": {
    "execution": {
     "iopub.execute_input": "2023-11-16T15:52:47.490025Z",
     "iopub.status.busy": "2023-11-16T15:52:47.489704Z",
     "iopub.status.idle": "2023-11-16T15:52:47.494906Z",
     "shell.execute_reply": "2023-11-16T15:52:47.494085Z"
    },
    "papermill": {
     "duration": 0.137179,
     "end_time": "2023-11-16T15:52:47.497097",
     "exception": false,
     "start_time": "2023-11-16T15:52:47.359918",
     "status": "completed"
    },
    "tags": []
   },
   "outputs": [
    {
     "name": "stdout",
     "output_type": "stream",
     "text": [
      "sushmitha  is eligible\n"
     ]
    }
   ],
   "source": [
    "m1 = 70\n",
    "m2 = 80\n",
    "student = \"sushmitha\"\n",
    "if m1 > 50 and m2 > 50 :\n",
    "    print(student , \" is eligible\")\n",
    "else :\n",
    "    print(student,\" is not eligible\")\n"
   ]
  },
  {
   "cell_type": "code",
   "execution_count": 170,
   "id": "968af783",
   "metadata": {
    "execution": {
     "iopub.execute_input": "2023-11-16T15:52:47.755000Z",
     "iopub.status.busy": "2023-11-16T15:52:47.754660Z",
     "iopub.status.idle": "2023-11-16T15:52:47.759574Z",
     "shell.execute_reply": "2023-11-16T15:52:47.758547Z"
    },
    "papermill": {
     "duration": 0.136941,
     "end_time": "2023-11-16T15:52:47.761612",
     "exception": false,
     "start_time": "2023-11-16T15:52:47.624671",
     "status": "completed"
    },
    "tags": []
   },
   "outputs": [],
   "source": [
    "def level(a,b,student) :\n",
    "    c = a+b\n",
    "    print(student,\" got \", c ,\" marks\")"
   ]
  },
  {
   "cell_type": "code",
   "execution_count": 171,
   "id": "a075ba68",
   "metadata": {
    "execution": {
     "iopub.execute_input": "2023-11-16T15:52:48.029293Z",
     "iopub.status.busy": "2023-11-16T15:52:48.028905Z",
     "iopub.status.idle": "2023-11-16T15:52:48.033992Z",
     "shell.execute_reply": "2023-11-16T15:52:48.032888Z"
    },
    "papermill": {
     "duration": 0.141878,
     "end_time": "2023-11-16T15:52:48.036130",
     "exception": false,
     "start_time": "2023-11-16T15:52:47.894252",
     "status": "completed"
    },
    "tags": []
   },
   "outputs": [
    {
     "name": "stdout",
     "output_type": "stream",
     "text": [
      "prasad  got  90  marks\n"
     ]
    }
   ],
   "source": [
    "level(40,50,\"prasad\")"
   ]
  },
  {
   "cell_type": "code",
   "execution_count": 172,
   "id": "0411fbe8",
   "metadata": {
    "execution": {
     "iopub.execute_input": "2023-11-16T15:52:48.293074Z",
     "iopub.status.busy": "2023-11-16T15:52:48.292785Z",
     "iopub.status.idle": "2023-11-16T15:52:48.297419Z",
     "shell.execute_reply": "2023-11-16T15:52:48.296526Z"
    },
    "papermill": {
     "duration": 0.133906,
     "end_time": "2023-11-16T15:52:48.299736",
     "exception": false,
     "start_time": "2023-11-16T15:52:48.165830",
     "status": "completed"
    },
    "tags": []
   },
   "outputs": [
    {
     "name": "stdout",
     "output_type": "stream",
     "text": [
      "sush  got  130  marks\n"
     ]
    }
   ],
   "source": [
    "level(80,50,\"sush\")"
   ]
  },
  {
   "cell_type": "code",
   "execution_count": 173,
   "id": "5368f6a5",
   "metadata": {
    "execution": {
     "iopub.execute_input": "2023-11-16T15:52:48.559919Z",
     "iopub.status.busy": "2023-11-16T15:52:48.558837Z",
     "iopub.status.idle": "2023-11-16T15:52:48.565295Z",
     "shell.execute_reply": "2023-11-16T15:52:48.564330Z"
    },
    "papermill": {
     "duration": 0.13933,
     "end_time": "2023-11-16T15:52:48.567376",
     "exception": false,
     "start_time": "2023-11-16T15:52:48.428046",
     "status": "completed"
    },
    "tags": []
   },
   "outputs": [
    {
     "name": "stdout",
     "output_type": "stream",
     "text": [
      "--\n",
      "50\n",
      "def  is not eligible\n"
     ]
    }
   ],
   "source": [
    "\n",
    "\n",
    "def marks (m1,m2,student=\"def\"):\n",
    "    print(m1)\n",
    "    if m1 > 50 and m2 > 50 :\n",
    "        print(student , \" is eligible\")\n",
    "    else :\n",
    "        print(student,\" is not eligible\")\n",
    "        \n",
    "        \n",
    "        \n",
    "print(\"--\")\n",
    "\n",
    "        \n",
    "        \n",
    "        \n",
    "        \n",
    "marks(m1=50,m2=40)"
   ]
  },
  {
   "cell_type": "code",
   "execution_count": 174,
   "id": "e457eb11",
   "metadata": {
    "execution": {
     "iopub.execute_input": "2023-11-16T15:52:48.829714Z",
     "iopub.status.busy": "2023-11-16T15:52:48.829338Z",
     "iopub.status.idle": "2023-11-16T15:52:48.834399Z",
     "shell.execute_reply": "2023-11-16T15:52:48.833430Z"
    },
    "papermill": {
     "duration": 0.138995,
     "end_time": "2023-11-16T15:52:48.836413",
     "exception": false,
     "start_time": "2023-11-16T15:52:48.697418",
     "status": "completed"
    },
    "tags": []
   },
   "outputs": [
    {
     "name": "stdout",
     "output_type": "stream",
     "text": [
      "80\n",
      "swapna  is eligible\n"
     ]
    }
   ],
   "source": [
    "marks(student = \"swapna\",m2=90,m1=80)"
   ]
  },
  {
   "cell_type": "code",
   "execution_count": 175,
   "id": "ee799aea",
   "metadata": {
    "execution": {
     "iopub.execute_input": "2023-11-16T15:52:49.095339Z",
     "iopub.status.busy": "2023-11-16T15:52:49.094982Z",
     "iopub.status.idle": "2023-11-16T15:52:49.099346Z",
     "shell.execute_reply": "2023-11-16T15:52:49.098531Z"
    },
    "papermill": {
     "duration": 0.137591,
     "end_time": "2023-11-16T15:52:49.101572",
     "exception": false,
     "start_time": "2023-11-16T15:52:48.963981",
     "status": "completed"
    },
    "tags": []
   },
   "outputs": [],
   "source": [
    "# marks(\"student\",90,80)"
   ]
  },
  {
   "cell_type": "code",
   "execution_count": 176,
   "id": "5f66db9b",
   "metadata": {
    "execution": {
     "iopub.execute_input": "2023-11-16T15:52:49.394427Z",
     "iopub.status.busy": "2023-11-16T15:52:49.394089Z",
     "iopub.status.idle": "2023-11-16T15:52:49.398468Z",
     "shell.execute_reply": "2023-11-16T15:52:49.397519Z"
    },
    "papermill": {
     "duration": 0.153006,
     "end_time": "2023-11-16T15:52:49.401104",
     "exception": false,
     "start_time": "2023-11-16T15:52:49.248098",
     "status": "completed"
    },
    "tags": []
   },
   "outputs": [
    {
     "name": "stdout",
     "output_type": "stream",
     "text": [
      "30\n",
      "parth  is not eligible\n"
     ]
    }
   ],
   "source": [
    "marks(30,30,\"parth\")"
   ]
  },
  {
   "cell_type": "code",
   "execution_count": 177,
   "id": "70fcabf0",
   "metadata": {
    "execution": {
     "iopub.execute_input": "2023-11-16T15:52:49.661559Z",
     "iopub.status.busy": "2023-11-16T15:52:49.661202Z",
     "iopub.status.idle": "2023-11-16T15:52:49.665923Z",
     "shell.execute_reply": "2023-11-16T15:52:49.665043Z"
    },
    "papermill": {
     "duration": 0.136547,
     "end_time": "2023-11-16T15:52:49.668422",
     "exception": false,
     "start_time": "2023-11-16T15:52:49.531875",
     "status": "completed"
    },
    "tags": []
   },
   "outputs": [
    {
     "name": "stdout",
     "output_type": "stream",
     "text": [
      "90\n",
      "tayyab  is eligible\n"
     ]
    }
   ],
   "source": [
    "marks(90,90,\"tayyab\")"
   ]
  },
  {
   "cell_type": "code",
   "execution_count": 178,
   "id": "ca8551d9",
   "metadata": {
    "execution": {
     "iopub.execute_input": "2023-11-16T15:52:49.927308Z",
     "iopub.status.busy": "2023-11-16T15:52:49.926966Z",
     "iopub.status.idle": "2023-11-16T15:52:49.932645Z",
     "shell.execute_reply": "2023-11-16T15:52:49.931823Z"
    },
    "papermill": {
     "duration": 0.138812,
     "end_time": "2023-11-16T15:52:49.934819",
     "exception": false,
     "start_time": "2023-11-16T15:52:49.796007",
     "status": "completed"
    },
    "tags": []
   },
   "outputs": [
    {
     "name": "stdout",
     "output_type": "stream",
     "text": [
      "0\n",
      "st  is not eligible\n"
     ]
    }
   ],
   "source": [
    "\n",
    "\n",
    "def marks (m1=0,m2=0,student=\"st\") :\n",
    "    print(m1)\n",
    "    if m1 > 50 and m2 > 50 :\n",
    "        print(student , \" is eligible\")\n",
    "    else :\n",
    "        print(student,\" is not eligible\")\n",
    "        \n",
    "marks()"
   ]
  },
  {
   "cell_type": "code",
   "execution_count": 179,
   "id": "ad2b30dc",
   "metadata": {
    "execution": {
     "iopub.execute_input": "2023-11-16T15:52:50.195216Z",
     "iopub.status.busy": "2023-11-16T15:52:50.194896Z",
     "iopub.status.idle": "2023-11-16T15:52:50.198982Z",
     "shell.execute_reply": "2023-11-16T15:52:50.197897Z"
    },
    "papermill": {
     "duration": 0.136858,
     "end_time": "2023-11-16T15:52:50.201076",
     "exception": false,
     "start_time": "2023-11-16T15:52:50.064218",
     "status": "completed"
    },
    "tags": []
   },
   "outputs": [],
   "source": [
    "# print \n",
    "# return"
   ]
  },
  {
   "cell_type": "code",
   "execution_count": 180,
   "id": "14755675",
   "metadata": {
    "execution": {
     "iopub.execute_input": "2023-11-16T15:52:50.462222Z",
     "iopub.status.busy": "2023-11-16T15:52:50.461908Z",
     "iopub.status.idle": "2023-11-16T15:52:50.466847Z",
     "shell.execute_reply": "2023-11-16T15:52:50.465959Z"
    },
    "papermill": {
     "duration": 0.138591,
     "end_time": "2023-11-16T15:52:50.469218",
     "exception": false,
     "start_time": "2023-11-16T15:52:50.330627",
     "status": "completed"
    },
    "tags": []
   },
   "outputs": [
    {
     "name": "stdout",
     "output_type": "stream",
     "text": [
      "---- 15\n"
     ]
    }
   ],
   "source": [
    "def add (a,b) :\n",
    "    c = a+b\n",
    "    return c\n",
    "\n",
    "p= add(5,10)\n",
    "print(\"----\",p)"
   ]
  },
  {
   "cell_type": "code",
   "execution_count": 181,
   "id": "65f66117",
   "metadata": {
    "execution": {
     "iopub.execute_input": "2023-11-16T15:52:50.727202Z",
     "iopub.status.busy": "2023-11-16T15:52:50.726892Z",
     "iopub.status.idle": "2023-11-16T15:52:50.732414Z",
     "shell.execute_reply": "2023-11-16T15:52:50.731541Z"
    },
    "papermill": {
     "duration": 0.13796,
     "end_time": "2023-11-16T15:52:50.734643",
     "exception": false,
     "start_time": "2023-11-16T15:52:50.596683",
     "status": "completed"
    },
    "tags": []
   },
   "outputs": [
    {
     "name": "stdout",
     "output_type": "stream",
     "text": [
      "15\n",
      "---- None\n"
     ]
    }
   ],
   "source": [
    "def add (a,b) :\n",
    "    c = a+b\n",
    "    print(c)\n",
    "\n",
    "p = add(5,10)\n",
    "print(\"----\",p)"
   ]
  },
  {
   "cell_type": "code",
   "execution_count": 182,
   "id": "b78a2756",
   "metadata": {
    "execution": {
     "iopub.execute_input": "2023-11-16T15:52:50.997968Z",
     "iopub.status.busy": "2023-11-16T15:52:50.997624Z",
     "iopub.status.idle": "2023-11-16T15:52:51.002045Z",
     "shell.execute_reply": "2023-11-16T15:52:51.001131Z"
    },
    "papermill": {
     "duration": 0.139978,
     "end_time": "2023-11-16T15:52:51.004012",
     "exception": false,
     "start_time": "2023-11-16T15:52:50.864034",
     "status": "completed"
    },
    "tags": []
   },
   "outputs": [],
   "source": [
    "# if add(5,10 ) > 10 :\n",
    "#     print(\"eligible\")\n",
    "# else :\n",
    "#     print(\"not eligible\")"
   ]
  },
  {
   "cell_type": "code",
   "execution_count": 183,
   "id": "10ce0305",
   "metadata": {
    "execution": {
     "iopub.execute_input": "2023-11-16T15:52:51.289123Z",
     "iopub.status.busy": "2023-11-16T15:52:51.288772Z",
     "iopub.status.idle": "2023-11-16T15:52:51.295540Z",
     "shell.execute_reply": "2023-11-16T15:52:51.294470Z"
    },
    "papermill": {
     "duration": 0.144225,
     "end_time": "2023-11-16T15:52:51.297430",
     "exception": false,
     "start_time": "2023-11-16T15:52:51.153205",
     "status": "completed"
    },
    "tags": []
   },
   "outputs": [
    {
     "data": {
      "text/plain": [
       "15"
      ]
     },
     "execution_count": 183,
     "metadata": {},
     "output_type": "execute_result"
    }
   ],
   "source": [
    "def add (a,b) :\n",
    "    c = a+b\n",
    "    return c\n",
    "\n",
    "add(5,10)"
   ]
  },
  {
   "cell_type": "code",
   "execution_count": 184,
   "id": "39f9880c",
   "metadata": {
    "execution": {
     "iopub.execute_input": "2023-11-16T15:52:51.567392Z",
     "iopub.status.busy": "2023-11-16T15:52:51.566644Z",
     "iopub.status.idle": "2023-11-16T15:52:51.572958Z",
     "shell.execute_reply": "2023-11-16T15:52:51.572120Z"
    },
    "papermill": {
     "duration": 0.142262,
     "end_time": "2023-11-16T15:52:51.574922",
     "exception": false,
     "start_time": "2023-11-16T15:52:51.432660",
     "status": "completed"
    },
    "tags": []
   },
   "outputs": [
    {
     "data": {
      "text/plain": [
       "17"
      ]
     },
     "execution_count": 184,
     "metadata": {},
     "output_type": "execute_result"
    }
   ],
   "source": [
    "add = lambda  a,b : a+b\n",
    "add(7,10)"
   ]
  },
  {
   "cell_type": "code",
   "execution_count": 185,
   "id": "c41c31c7",
   "metadata": {
    "execution": {
     "iopub.execute_input": "2023-11-16T15:52:51.846403Z",
     "iopub.status.busy": "2023-11-16T15:52:51.845996Z",
     "iopub.status.idle": "2023-11-16T15:52:51.853321Z",
     "shell.execute_reply": "2023-11-16T15:52:51.852267Z"
    },
    "papermill": {
     "duration": 0.147161,
     "end_time": "2023-11-16T15:52:51.855368",
     "exception": false,
     "start_time": "2023-11-16T15:52:51.708207",
     "status": "completed"
    },
    "tags": []
   },
   "outputs": [
    {
     "data": {
      "text/plain": [
       "30"
      ]
     },
     "execution_count": 185,
     "metadata": {},
     "output_type": "execute_result"
    }
   ],
   "source": [
    "add(10,20)"
   ]
  },
  {
   "cell_type": "code",
   "execution_count": 186,
   "id": "7bc9dbd2",
   "metadata": {
    "execution": {
     "iopub.execute_input": "2023-11-16T15:52:52.125529Z",
     "iopub.status.busy": "2023-11-16T15:52:52.125152Z",
     "iopub.status.idle": "2023-11-16T15:52:52.129375Z",
     "shell.execute_reply": "2023-11-16T15:52:52.128417Z"
    },
    "papermill": {
     "duration": 0.142911,
     "end_time": "2023-11-16T15:52:52.131543",
     "exception": false,
     "start_time": "2023-11-16T15:52:51.988632",
     "status": "completed"
    },
    "tags": []
   },
   "outputs": [],
   "source": [
    "# list comprehenison :  list + for loop / any loop"
   ]
  },
  {
   "cell_type": "code",
   "execution_count": 187,
   "id": "bf56a47f",
   "metadata": {
    "execution": {
     "iopub.execute_input": "2023-11-16T15:52:52.430809Z",
     "iopub.status.busy": "2023-11-16T15:52:52.430080Z",
     "iopub.status.idle": "2023-11-16T15:52:52.437320Z",
     "shell.execute_reply": "2023-11-16T15:52:52.436416Z"
    },
    "papermill": {
     "duration": 0.160926,
     "end_time": "2023-11-16T15:52:52.439328",
     "exception": false,
     "start_time": "2023-11-16T15:52:52.278402",
     "status": "completed"
    },
    "tags": []
   },
   "outputs": [
    {
     "data": {
      "text/plain": [
       "[20, 30]"
      ]
     },
     "execution_count": 187,
     "metadata": {},
     "output_type": "execute_result"
    }
   ],
   "source": [
    "a = [20 ,25,30,35]\n",
    "\n",
    "even = []\n",
    "\n",
    "for i in a :\n",
    "    if i%2 == 0 :\n",
    "        even.append(i)\n",
    "        \n",
    "        \n",
    "        \n",
    "even"
   ]
  },
  {
   "cell_type": "code",
   "execution_count": 188,
   "id": "f011bc2b",
   "metadata": {
    "execution": {
     "iopub.execute_input": "2023-11-16T15:52:52.708956Z",
     "iopub.status.busy": "2023-11-16T15:52:52.708177Z",
     "iopub.status.idle": "2023-11-16T15:52:52.714818Z",
     "shell.execute_reply": "2023-11-16T15:52:52.713862Z"
    },
    "papermill": {
     "duration": 0.1446,
     "end_time": "2023-11-16T15:52:52.716712",
     "exception": false,
     "start_time": "2023-11-16T15:52:52.572112",
     "status": "completed"
    },
    "tags": []
   },
   "outputs": [
    {
     "data": {
      "text/plain": [
       "[20, 30]"
      ]
     },
     "execution_count": 188,
     "metadata": {},
     "output_type": "execute_result"
    }
   ],
   "source": [
    "a = [20 ,25,30,35]\n",
    "\n",
    "even = [  i  for i in a  if i%2 == 0   ]       \n",
    "        \n",
    "        \n",
    "even"
   ]
  },
  {
   "cell_type": "code",
   "execution_count": 189,
   "id": "28521e3c",
   "metadata": {
    "execution": {
     "iopub.execute_input": "2023-11-16T15:52:52.987063Z",
     "iopub.status.busy": "2023-11-16T15:52:52.986295Z",
     "iopub.status.idle": "2023-11-16T15:52:52.993203Z",
     "shell.execute_reply": "2023-11-16T15:52:52.992251Z"
    },
    "papermill": {
     "duration": 0.146009,
     "end_time": "2023-11-16T15:52:52.995200",
     "exception": false,
     "start_time": "2023-11-16T15:52:52.849191",
     "status": "completed"
    },
    "tags": []
   },
   "outputs": [
    {
     "data": {
      "text/plain": [
       "{20: 'Abhi', 30: 'Abhi'}"
      ]
     },
     "execution_count": 189,
     "metadata": {},
     "output_type": "execute_result"
    }
   ],
   "source": [
    "a = [20 ,25,30,35]\n",
    "\n",
    "even = { i: \"Abhi\"  for i in a  if i%2 == 0   }       \n",
    "        \n",
    "        \n",
    "even"
   ]
  },
  {
   "cell_type": "code",
   "execution_count": 190,
   "id": "620e440a",
   "metadata": {
    "execution": {
     "iopub.execute_input": "2023-11-16T15:52:53.266399Z",
     "iopub.status.busy": "2023-11-16T15:52:53.265829Z",
     "iopub.status.idle": "2023-11-16T15:52:53.270291Z",
     "shell.execute_reply": "2023-11-16T15:52:53.269068Z"
    },
    "papermill": {
     "duration": 0.141028,
     "end_time": "2023-11-16T15:52:53.272250",
     "exception": false,
     "start_time": "2023-11-16T15:52:53.131222",
     "status": "completed"
    },
    "tags": []
   },
   "outputs": [],
   "source": [
    "# break continue pass"
   ]
  },
  {
   "cell_type": "code",
   "execution_count": 191,
   "id": "1cfeaf8b",
   "metadata": {
    "execution": {
     "iopub.execute_input": "2023-11-16T15:52:53.543601Z",
     "iopub.status.busy": "2023-11-16T15:52:53.542808Z",
     "iopub.status.idle": "2023-11-16T15:52:53.547447Z",
     "shell.execute_reply": "2023-11-16T15:52:53.546462Z"
    },
    "papermill": {
     "duration": 0.141269,
     "end_time": "2023-11-16T15:52:53.549562",
     "exception": false,
     "start_time": "2023-11-16T15:52:53.408293",
     "status": "completed"
    },
    "tags": []
   },
   "outputs": [],
   "source": [
    "def add(a,b):\n",
    "    pass\n",
    "    \n",
    "add(8,9)"
   ]
  },
  {
   "cell_type": "code",
   "execution_count": 192,
   "id": "3efde68a",
   "metadata": {
    "execution": {
     "iopub.execute_input": "2023-11-16T15:52:53.815574Z",
     "iopub.status.busy": "2023-11-16T15:52:53.815220Z",
     "iopub.status.idle": "2023-11-16T15:52:53.820327Z",
     "shell.execute_reply": "2023-11-16T15:52:53.819371Z"
    },
    "papermill": {
     "duration": 0.140885,
     "end_time": "2023-11-16T15:52:53.822420",
     "exception": false,
     "start_time": "2023-11-16T15:52:53.681535",
     "status": "completed"
    },
    "tags": []
   },
   "outputs": [
    {
     "name": "stdout",
     "output_type": "stream",
     "text": [
      "0\n",
      "1\n",
      "2\n"
     ]
    }
   ],
   "source": [
    "for i in range(5):\n",
    "    if i == 3 :\n",
    "        break\n",
    "    print(i)"
   ]
  },
  {
   "cell_type": "code",
   "execution_count": 193,
   "id": "8f16ca5a",
   "metadata": {
    "execution": {
     "iopub.execute_input": "2023-11-16T15:52:54.091096Z",
     "iopub.status.busy": "2023-11-16T15:52:54.090741Z",
     "iopub.status.idle": "2023-11-16T15:52:54.095843Z",
     "shell.execute_reply": "2023-11-16T15:52:54.095073Z"
    },
    "papermill": {
     "duration": 0.141961,
     "end_time": "2023-11-16T15:52:54.097997",
     "exception": false,
     "start_time": "2023-11-16T15:52:53.956036",
     "status": "completed"
    },
    "tags": []
   },
   "outputs": [
    {
     "name": "stdout",
     "output_type": "stream",
     "text": [
      "0\n",
      "1\n",
      "2\n",
      "4\n"
     ]
    }
   ],
   "source": [
    "for i in range(5):\n",
    "    if i == 3 :\n",
    "        continue\n",
    "    print(i)"
   ]
  },
  {
   "cell_type": "code",
   "execution_count": 194,
   "id": "72ac8820",
   "metadata": {
    "execution": {
     "iopub.execute_input": "2023-11-16T15:52:54.365347Z",
     "iopub.status.busy": "2023-11-16T15:52:54.364680Z",
     "iopub.status.idle": "2023-11-16T15:52:54.368899Z",
     "shell.execute_reply": "2023-11-16T15:52:54.367937Z"
    },
    "papermill": {
     "duration": 0.142009,
     "end_time": "2023-11-16T15:52:54.370929",
     "exception": false,
     "start_time": "2023-11-16T15:52:54.228920",
     "status": "completed"
    },
    "tags": []
   },
   "outputs": [],
   "source": [
    "# \\n = new line \\t tab"
   ]
  },
  {
   "cell_type": "code",
   "execution_count": 195,
   "id": "5edd451b",
   "metadata": {
    "execution": {
     "iopub.execute_input": "2023-11-16T15:52:54.636685Z",
     "iopub.status.busy": "2023-11-16T15:52:54.636367Z",
     "iopub.status.idle": "2023-11-16T15:52:54.641348Z",
     "shell.execute_reply": "2023-11-16T15:52:54.640411Z"
    },
    "papermill": {
     "duration": 0.14031,
     "end_time": "2023-11-16T15:52:54.643773",
     "exception": false,
     "start_time": "2023-11-16T15:52:54.503463",
     "status": "completed"
    },
    "tags": []
   },
   "outputs": [
    {
     "name": "stdout",
     "output_type": "stream",
     "text": [
      "mlv\n",
      "prasad\n"
     ]
    }
   ],
   "source": [
    "print(\"mlv\")\n",
    "print(\"prasad\")"
   ]
  },
  {
   "cell_type": "code",
   "execution_count": 196,
   "id": "d8e4c553",
   "metadata": {
    "execution": {
     "iopub.execute_input": "2023-11-16T15:52:54.916074Z",
     "iopub.status.busy": "2023-11-16T15:52:54.915271Z",
     "iopub.status.idle": "2023-11-16T15:52:54.920445Z",
     "shell.execute_reply": "2023-11-16T15:52:54.919520Z"
    },
    "papermill": {
     "duration": 0.143609,
     "end_time": "2023-11-16T15:52:54.922470",
     "exception": false,
     "start_time": "2023-11-16T15:52:54.778861",
     "status": "completed"
    },
    "tags": []
   },
   "outputs": [
    {
     "name": "stdout",
     "output_type": "stream",
     "text": [
      "mlv\n",
      "prasad\n"
     ]
    }
   ],
   "source": [
    "print(\"mlv\\nprasad\")"
   ]
  },
  {
   "cell_type": "code",
   "execution_count": 197,
   "id": "18d36f15",
   "metadata": {
    "execution": {
     "iopub.execute_input": "2023-11-16T15:52:55.195067Z",
     "iopub.status.busy": "2023-11-16T15:52:55.194199Z",
     "iopub.status.idle": "2023-11-16T15:52:55.199604Z",
     "shell.execute_reply": "2023-11-16T15:52:55.198347Z"
    },
    "papermill": {
     "duration": 0.143483,
     "end_time": "2023-11-16T15:52:55.201607",
     "exception": false,
     "start_time": "2023-11-16T15:52:55.058124",
     "status": "completed"
    },
    "tags": []
   },
   "outputs": [
    {
     "name": "stdout",
     "output_type": "stream",
     "text": [
      "mlv    prasad    is    a    good    boy\n"
     ]
    }
   ],
   "source": [
    "print(\"mlv    prasad    is    a    good    boy\")"
   ]
  },
  {
   "cell_type": "code",
   "execution_count": 198,
   "id": "50e4a160",
   "metadata": {
    "execution": {
     "iopub.execute_input": "2023-11-16T15:52:55.468010Z",
     "iopub.status.busy": "2023-11-16T15:52:55.467327Z",
     "iopub.status.idle": "2023-11-16T15:52:55.472132Z",
     "shell.execute_reply": "2023-11-16T15:52:55.471335Z"
    },
    "papermill": {
     "duration": 0.139336,
     "end_time": "2023-11-16T15:52:55.474203",
     "exception": false,
     "start_time": "2023-11-16T15:52:55.334867",
     "status": "completed"
    },
    "tags": []
   },
   "outputs": [
    {
     "name": "stdout",
     "output_type": "stream",
     "text": [
      "mlv\tprasad\tis\ta\tgood\tboy\n"
     ]
    }
   ],
   "source": [
    "print(\"mlv\\tprasad\\tis\\ta\\tgood\\tboy\")"
   ]
  },
  {
   "cell_type": "code",
   "execution_count": 199,
   "id": "86bb5531",
   "metadata": {
    "execution": {
     "iopub.execute_input": "2023-11-16T15:52:55.738915Z",
     "iopub.status.busy": "2023-11-16T15:52:55.738254Z",
     "iopub.status.idle": "2023-11-16T15:52:55.742390Z",
     "shell.execute_reply": "2023-11-16T15:52:55.741594Z"
    },
    "papermill": {
     "duration": 0.139611,
     "end_time": "2023-11-16T15:52:55.744302",
     "exception": false,
     "start_time": "2023-11-16T15:52:55.604691",
     "status": "completed"
    },
    "tags": []
   },
   "outputs": [],
   "source": [
    "# * * * * *\n",
    "# * * * *\n",
    "# * * * \n",
    "# * * \n",
    "# *"
   ]
  },
  {
   "cell_type": "code",
   "execution_count": 200,
   "id": "69511b00",
   "metadata": {
    "execution": {
     "iopub.execute_input": "2023-11-16T15:52:56.009644Z",
     "iopub.status.busy": "2023-11-16T15:52:56.009269Z",
     "iopub.status.idle": "2023-11-16T15:52:56.014044Z",
     "shell.execute_reply": "2023-11-16T15:52:56.013190Z"
    },
    "papermill": {
     "duration": 0.140535,
     "end_time": "2023-11-16T15:52:56.016057",
     "exception": false,
     "start_time": "2023-11-16T15:52:55.875522",
     "status": "completed"
    },
    "tags": []
   },
   "outputs": [
    {
     "name": "stdout",
     "output_type": "stream",
     "text": [
      "* * * * * \n",
      "* * * * \n",
      "* * * \n",
      "* * \n",
      "* \n"
     ]
    }
   ],
   "source": [
    "for i in range(5):\n",
    "    print(\"* \"*(5-i))"
   ]
  },
  {
   "cell_type": "code",
   "execution_count": null,
   "id": "06647939",
   "metadata": {
    "papermill": {
     "duration": 0.13168,
     "end_time": "2023-11-16T15:52:56.279897",
     "exception": false,
     "start_time": "2023-11-16T15:52:56.148217",
     "status": "completed"
    },
    "tags": []
   },
   "outputs": [],
   "source": []
  },
  {
   "cell_type": "markdown",
   "id": "83b83158",
   "metadata": {
    "papermill": {
     "duration": 0.132253,
     "end_time": "2023-11-16T15:52:56.547379",
     "exception": false,
     "start_time": "2023-11-16T15:52:56.415126",
     "status": "completed"
    },
    "tags": []
   },
   "source": [
    "## filter\n",
    "## reduce\n",
    "## map\n",
    "## zip"
   ]
  },
  {
   "cell_type": "code",
   "execution_count": 201,
   "id": "031d2765",
   "metadata": {
    "execution": {
     "iopub.execute_input": "2023-11-16T15:52:56.814067Z",
     "iopub.status.busy": "2023-11-16T15:52:56.813254Z",
     "iopub.status.idle": "2023-11-16T15:52:56.817691Z",
     "shell.execute_reply": "2023-11-16T15:52:56.816809Z"
    },
    "papermill": {
     "duration": 0.140458,
     "end_time": "2023-11-16T15:52:56.819877",
     "exception": false,
     "start_time": "2023-11-16T15:52:56.679419",
     "status": "completed"
    },
    "tags": []
   },
   "outputs": [],
   "source": [
    "# filter "
   ]
  },
  {
   "cell_type": "code",
   "execution_count": 202,
   "id": "a6e7190f",
   "metadata": {
    "execution": {
     "iopub.execute_input": "2023-11-16T15:52:57.093643Z",
     "iopub.status.busy": "2023-11-16T15:52:57.092814Z",
     "iopub.status.idle": "2023-11-16T15:52:57.100422Z",
     "shell.execute_reply": "2023-11-16T15:52:57.099439Z"
    },
    "papermill": {
     "duration": 0.145581,
     "end_time": "2023-11-16T15:52:57.102426",
     "exception": false,
     "start_time": "2023-11-16T15:52:56.956845",
     "status": "completed"
    },
    "tags": []
   },
   "outputs": [
    {
     "data": {
      "text/plain": [
       "[10, 12, 14, 16]"
      ]
     },
     "execution_count": 202,
     "metadata": {},
     "output_type": "execute_result"
    }
   ],
   "source": [
    "a  =  [10,11,12,13,14,15,16]\n",
    "\n",
    "\n",
    "b = []\n",
    "for i in range(len(a)) :\n",
    "    if a[i] % 2 == 0 :\n",
    "        b.append(a[i])\n",
    "        \n",
    "b"
   ]
  },
  {
   "cell_type": "code",
   "execution_count": 203,
   "id": "618b080c",
   "metadata": {
    "execution": {
     "iopub.execute_input": "2023-11-16T15:52:57.369052Z",
     "iopub.status.busy": "2023-11-16T15:52:57.368294Z",
     "iopub.status.idle": "2023-11-16T15:52:57.375130Z",
     "shell.execute_reply": "2023-11-16T15:52:57.374337Z"
    },
    "papermill": {
     "duration": 0.141203,
     "end_time": "2023-11-16T15:52:57.377076",
     "exception": false,
     "start_time": "2023-11-16T15:52:57.235873",
     "status": "completed"
    },
    "tags": []
   },
   "outputs": [
    {
     "data": {
      "text/plain": [
       "[40, 12, 14, 16]"
      ]
     },
     "execution_count": 203,
     "metadata": {},
     "output_type": "execute_result"
    }
   ],
   "source": [
    "a  =  [40,11,12,13,14,15,16]\n",
    "\n",
    "def even(i) :\n",
    "    return i % 2 == 0\n",
    "\n",
    "\n",
    "b = list(filter(even,a))\n",
    "b"
   ]
  },
  {
   "cell_type": "code",
   "execution_count": 204,
   "id": "debd7b9c",
   "metadata": {
    "execution": {
     "iopub.execute_input": "2023-11-16T15:52:57.645718Z",
     "iopub.status.busy": "2023-11-16T15:52:57.645350Z",
     "iopub.status.idle": "2023-11-16T15:52:57.652831Z",
     "shell.execute_reply": "2023-11-16T15:52:57.651891Z"
    },
    "papermill": {
     "duration": 0.143346,
     "end_time": "2023-11-16T15:52:57.654871",
     "exception": false,
     "start_time": "2023-11-16T15:52:57.511525",
     "status": "completed"
    },
    "tags": []
   },
   "outputs": [
    {
     "data": {
      "text/plain": [
       "[40, 12, 14, 16]"
      ]
     },
     "execution_count": 204,
     "metadata": {},
     "output_type": "execute_result"
    }
   ],
   "source": [
    "a  =  [40,11,12,13,14,15,16]\n",
    "\n",
    "b = list(filter(lambda p : p%2== 0,a))\n",
    "b"
   ]
  },
  {
   "cell_type": "code",
   "execution_count": 205,
   "id": "e5a1c061",
   "metadata": {
    "execution": {
     "iopub.execute_input": "2023-11-16T15:52:57.923993Z",
     "iopub.status.busy": "2023-11-16T15:52:57.923318Z",
     "iopub.status.idle": "2023-11-16T15:52:57.930461Z",
     "shell.execute_reply": "2023-11-16T15:52:57.929461Z"
    },
    "papermill": {
     "duration": 0.143863,
     "end_time": "2023-11-16T15:52:57.932301",
     "exception": false,
     "start_time": "2023-11-16T15:52:57.788438",
     "status": "completed"
    },
    "tags": []
   },
   "outputs": [
    {
     "data": {
      "text/plain": [
       "['swapna', 'saraswati']"
      ]
     },
     "execution_count": 205,
     "metadata": {},
     "output_type": "execute_result"
    }
   ],
   "source": [
    "a = [\"swapna\",\"saraswati\",\"abhi\"]\n",
    "\n",
    "b = list(filter(lambda i : i[0] != \"a\"   and  i[0] != \"i\"  and  i[0] != \"o\", a))\n",
    "b"
   ]
  },
  {
   "cell_type": "code",
   "execution_count": 206,
   "id": "3abbf4f5",
   "metadata": {
    "execution": {
     "iopub.execute_input": "2023-11-16T15:52:58.205325Z",
     "iopub.status.busy": "2023-11-16T15:52:58.204397Z",
     "iopub.status.idle": "2023-11-16T15:52:58.211294Z",
     "shell.execute_reply": "2023-11-16T15:52:58.210506Z"
    },
    "papermill": {
     "duration": 0.146369,
     "end_time": "2023-11-16T15:52:58.213180",
     "exception": false,
     "start_time": "2023-11-16T15:52:58.066811",
     "status": "completed"
    },
    "tags": []
   },
   "outputs": [
    {
     "data": {
      "text/plain": [
       "[0, 10, 30]"
      ]
     },
     "execution_count": 206,
     "metadata": {},
     "output_type": "execute_result"
    }
   ],
   "source": [
    "a = {10,30,-10,0,30}\n",
    "b = list(filter(lambda i : i >= 0 , a))\n",
    "b"
   ]
  },
  {
   "cell_type": "code",
   "execution_count": 207,
   "id": "f3feabb6",
   "metadata": {
    "execution": {
     "iopub.execute_input": "2023-11-16T15:52:58.482904Z",
     "iopub.status.busy": "2023-11-16T15:52:58.482117Z",
     "iopub.status.idle": "2023-11-16T15:52:58.486445Z",
     "shell.execute_reply": "2023-11-16T15:52:58.485653Z"
    },
    "papermill": {
     "duration": 0.142604,
     "end_time": "2023-11-16T15:52:58.488579",
     "exception": false,
     "start_time": "2023-11-16T15:52:58.345975",
     "status": "completed"
    },
    "tags": []
   },
   "outputs": [],
   "source": [
    "a = [\"swapna\",\"abhinav\"]"
   ]
  },
  {
   "cell_type": "code",
   "execution_count": 208,
   "id": "7fdeb48f",
   "metadata": {
    "execution": {
     "iopub.execute_input": "2023-11-16T15:52:58.756290Z",
     "iopub.status.busy": "2023-11-16T15:52:58.755950Z",
     "iopub.status.idle": "2023-11-16T15:52:58.762409Z",
     "shell.execute_reply": "2023-11-16T15:52:58.761520Z"
    },
    "papermill": {
     "duration": 0.142831,
     "end_time": "2023-11-16T15:52:58.764380",
     "exception": false,
     "start_time": "2023-11-16T15:52:58.621549",
     "status": "completed"
    },
    "tags": []
   },
   "outputs": [
    {
     "data": {
      "text/plain": [
       "150"
      ]
     },
     "execution_count": 208,
     "metadata": {},
     "output_type": "execute_result"
    }
   ],
   "source": [
    "# reduce \n",
    "from functools import reduce\n",
    "\n",
    "a = [10,20,30,40,50]\n",
    "b = 0\n",
    "for i in a :\n",
    "    b = b + i\n",
    "    \n",
    "b"
   ]
  },
  {
   "cell_type": "code",
   "execution_count": 209,
   "id": "6aaf0ce6",
   "metadata": {
    "execution": {
     "iopub.execute_input": "2023-11-16T15:52:59.032909Z",
     "iopub.status.busy": "2023-11-16T15:52:59.032560Z",
     "iopub.status.idle": "2023-11-16T15:52:59.039133Z",
     "shell.execute_reply": "2023-11-16T15:52:59.038378Z"
    },
    "papermill": {
     "duration": 0.144996,
     "end_time": "2023-11-16T15:52:59.041194",
     "exception": false,
     "start_time": "2023-11-16T15:52:58.896198",
     "status": "completed"
    },
    "tags": []
   },
   "outputs": [
    {
     "data": {
      "text/plain": [
       "150"
      ]
     },
     "execution_count": 209,
     "metadata": {},
     "output_type": "execute_result"
    }
   ],
   "source": [
    "\n",
    "c = [10,20,30,40,50]\n",
    "\n",
    "\n",
    "def add(p,q) :\n",
    "    return p + q\n",
    "# ini = 100 \n",
    "d = reduce(add,c)\n",
    "d"
   ]
  },
  {
   "cell_type": "code",
   "execution_count": 210,
   "id": "f81041df",
   "metadata": {
    "execution": {
     "iopub.execute_input": "2023-11-16T15:52:59.359276Z",
     "iopub.status.busy": "2023-11-16T15:52:59.358895Z",
     "iopub.status.idle": "2023-11-16T15:52:59.365195Z",
     "shell.execute_reply": "2023-11-16T15:52:59.364279Z"
    },
    "papermill": {
     "duration": 0.146157,
     "end_time": "2023-11-16T15:52:59.367199",
     "exception": false,
     "start_time": "2023-11-16T15:52:59.221042",
     "status": "completed"
    },
    "tags": []
   },
   "outputs": [
    {
     "data": {
      "text/plain": [
       "50"
      ]
     },
     "execution_count": 210,
     "metadata": {},
     "output_type": "execute_result"
    }
   ],
   "source": [
    "c = [10,20,30,40,50]\n",
    "\n",
    "mx = c[0]\n",
    "for i in c :\n",
    "    if i > mx :\n",
    "        mx = i\n",
    "mx"
   ]
  },
  {
   "cell_type": "code",
   "execution_count": 211,
   "id": "0d2224d1",
   "metadata": {
    "execution": {
     "iopub.execute_input": "2023-11-16T15:52:59.634098Z",
     "iopub.status.busy": "2023-11-16T15:52:59.633755Z",
     "iopub.status.idle": "2023-11-16T15:52:59.640922Z",
     "shell.execute_reply": "2023-11-16T15:52:59.640038Z"
    },
    "papermill": {
     "duration": 0.143354,
     "end_time": "2023-11-16T15:52:59.642976",
     "exception": false,
     "start_time": "2023-11-16T15:52:59.499622",
     "status": "completed"
    },
    "tags": []
   },
   "outputs": [
    {
     "data": {
      "text/plain": [
       "770"
      ]
     },
     "execution_count": 211,
     "metadata": {},
     "output_type": "execute_result"
    }
   ],
   "source": [
    "c = [10,770,30,40,50]\n",
    "ini = int(c[0])\n",
    "def maxx(p,q):\n",
    "    if p > q :\n",
    "        return p \n",
    "    else :\n",
    "        return q\n",
    "\n",
    "    \n",
    "        \n",
    "    \n",
    "# ini = c[0]\n",
    "d = reduce(maxx,c)\n",
    "d"
   ]
  },
  {
   "cell_type": "code",
   "execution_count": 212,
   "id": "bbfbc869",
   "metadata": {
    "execution": {
     "iopub.execute_input": "2023-11-16T15:52:59.915670Z",
     "iopub.status.busy": "2023-11-16T15:52:59.915290Z",
     "iopub.status.idle": "2023-11-16T15:52:59.922788Z",
     "shell.execute_reply": "2023-11-16T15:52:59.921818Z"
    },
    "papermill": {
     "duration": 0.144694,
     "end_time": "2023-11-16T15:52:59.924844",
     "exception": false,
     "start_time": "2023-11-16T15:52:59.780150",
     "status": "completed"
    },
    "tags": []
   },
   "outputs": [
    {
     "data": {
      "text/plain": [
       "'c001mlv c001prasad c001mentor'"
      ]
     },
     "execution_count": 212,
     "metadata": {},
     "output_type": "execute_result"
    }
   ],
   "source": [
    "d = [\"mlv\",\"prasad\",\"mentor\"]\n",
    "# d = [\"mlv prasad\",\"mentor\"]\n",
    "\n",
    "def con (p,q) :\n",
    "    if p != \"c001\":\n",
    "        return p + \" c001\" + q\n",
    "    else :\n",
    "        return p + q\n",
    "\n",
    "e = reduce(con, d,\"c001\")\n",
    "e"
   ]
  },
  {
   "cell_type": "code",
   "execution_count": 213,
   "id": "93e19e26",
   "metadata": {
    "execution": {
     "iopub.execute_input": "2023-11-16T15:53:00.201193Z",
     "iopub.status.busy": "2023-11-16T15:53:00.200617Z",
     "iopub.status.idle": "2023-11-16T15:53:00.207196Z",
     "shell.execute_reply": "2023-11-16T15:53:00.206231Z"
    },
    "papermill": {
     "duration": 0.148313,
     "end_time": "2023-11-16T15:53:00.209320",
     "exception": false,
     "start_time": "2023-11-16T15:53:00.061007",
     "status": "completed"
    },
    "tags": []
   },
   "outputs": [
    {
     "data": {
      "text/plain": [
       "[10]"
      ]
     },
     "execution_count": 213,
     "metadata": {},
     "output_type": "execute_result"
    }
   ],
   "source": [
    "a = [10,29,32]\n",
    "\n",
    "b = list(filter( lambda x : x < 15  , a))\n",
    "b"
   ]
  },
  {
   "cell_type": "code",
   "execution_count": 214,
   "id": "6b43c3a4",
   "metadata": {
    "execution": {
     "iopub.execute_input": "2023-11-16T15:53:00.487180Z",
     "iopub.status.busy": "2023-11-16T15:53:00.486272Z",
     "iopub.status.idle": "2023-11-16T15:53:00.492801Z",
     "shell.execute_reply": "2023-11-16T15:53:00.491991Z"
    },
    "papermill": {
     "duration": 0.146848,
     "end_time": "2023-11-16T15:53:00.494838",
     "exception": false,
     "start_time": "2023-11-16T15:53:00.347990",
     "status": "completed"
    },
    "tags": []
   },
   "outputs": [
    {
     "data": {
      "text/plain": [
       "'mlv prasad mentor'"
      ]
     },
     "execution_count": 214,
     "metadata": {},
     "output_type": "execute_result"
    }
   ],
   "source": [
    "d = [\"mlv\",\"prasad\",\"mentor\"]\n",
    "e = reduce(lambda x,y : x + \" \" + y, d)\n",
    "e"
   ]
  },
  {
   "cell_type": "code",
   "execution_count": 215,
   "id": "bf2944fb",
   "metadata": {
    "execution": {
     "iopub.execute_input": "2023-11-16T15:53:00.765299Z",
     "iopub.status.busy": "2023-11-16T15:53:00.764695Z",
     "iopub.status.idle": "2023-11-16T15:53:00.771951Z",
     "shell.execute_reply": "2023-11-16T15:53:00.771100Z"
    },
    "papermill": {
     "duration": 0.145466,
     "end_time": "2023-11-16T15:53:00.773758",
     "exception": false,
     "start_time": "2023-11-16T15:53:00.628292",
     "status": "completed"
    },
    "tags": []
   },
   "outputs": [
    {
     "data": {
      "text/plain": [
       "[100, 625, 900, 1225, 2500]"
      ]
     },
     "execution_count": 215,
     "metadata": {},
     "output_type": "execute_result"
    }
   ],
   "source": [
    "#map\n",
    "\n",
    "a = [10,25,30,35,50]\n",
    "\n",
    "# fil  = [10,30,50]\n",
    "\n",
    "# reduce = one final ans \n",
    "\n",
    "#map - apply some function on all elememts\n",
    "\n",
    "\n",
    "b = []\n",
    "for i in a :\n",
    "    b.append(i**2)\n",
    "b\n",
    "\n"
   ]
  },
  {
   "cell_type": "code",
   "execution_count": 216,
   "id": "63d81ca3",
   "metadata": {
    "execution": {
     "iopub.execute_input": "2023-11-16T15:53:01.094629Z",
     "iopub.status.busy": "2023-11-16T15:53:01.093805Z",
     "iopub.status.idle": "2023-11-16T15:53:01.100706Z",
     "shell.execute_reply": "2023-11-16T15:53:01.099806Z"
    },
    "papermill": {
     "duration": 0.148163,
     "end_time": "2023-11-16T15:53:01.102629",
     "exception": false,
     "start_time": "2023-11-16T15:53:00.954466",
     "status": "completed"
    },
    "tags": []
   },
   "outputs": [
    {
     "data": {
      "text/plain": [
       "[100, 625, 900, 1225, 2500]"
      ]
     },
     "execution_count": 216,
     "metadata": {},
     "output_type": "execute_result"
    }
   ],
   "source": [
    "c = [10,25,30,35,50]\n",
    "def sq(x) :\n",
    "    return x**2\n",
    "d = list(map(sq, c))\n",
    "d"
   ]
  },
  {
   "cell_type": "code",
   "execution_count": 217,
   "id": "21f7d51e",
   "metadata": {
    "execution": {
     "iopub.execute_input": "2023-11-16T15:53:01.379049Z",
     "iopub.status.busy": "2023-11-16T15:53:01.378329Z",
     "iopub.status.idle": "2023-11-16T15:53:01.385062Z",
     "shell.execute_reply": "2023-11-16T15:53:01.384201Z"
    },
    "papermill": {
     "duration": 0.148259,
     "end_time": "2023-11-16T15:53:01.387206",
     "exception": false,
     "start_time": "2023-11-16T15:53:01.238947",
     "status": "completed"
    },
    "tags": []
   },
   "outputs": [
    {
     "data": {
      "text/plain": [
       "[100, 625, 900, 1225, 2500]"
      ]
     },
     "execution_count": 217,
     "metadata": {},
     "output_type": "execute_result"
    }
   ],
   "source": [
    "c = [10,25,30,35,50]\n",
    "\n",
    "d = list(map(lambda i : i **2 , c))\n",
    "d"
   ]
  },
  {
   "cell_type": "code",
   "execution_count": 218,
   "id": "5f6a66e1",
   "metadata": {
    "execution": {
     "iopub.execute_input": "2023-11-16T15:53:01.661465Z",
     "iopub.status.busy": "2023-11-16T15:53:01.660743Z",
     "iopub.status.idle": "2023-11-16T15:53:01.667540Z",
     "shell.execute_reply": "2023-11-16T15:53:01.666505Z"
    },
    "papermill": {
     "duration": 0.145314,
     "end_time": "2023-11-16T15:53:01.669681",
     "exception": false,
     "start_time": "2023-11-16T15:53:01.524367",
     "status": "completed"
    },
    "tags": []
   },
   "outputs": [
    {
     "data": {
      "text/plain": [
       "['swapna', 'sush']"
      ]
     },
     "execution_count": 218,
     "metadata": {},
     "output_type": "execute_result"
    }
   ],
   "source": [
    "a = [\"swapna\",\"sush\",\"ghosh\"]\n",
    "b = list(filter(lambda x : x[0]==\"s\",a))\n",
    "b"
   ]
  },
  {
   "cell_type": "code",
   "execution_count": 219,
   "id": "1ad505e2",
   "metadata": {
    "execution": {
     "iopub.execute_input": "2023-11-16T15:53:01.953452Z",
     "iopub.status.busy": "2023-11-16T15:53:01.953070Z",
     "iopub.status.idle": "2023-11-16T15:53:01.960150Z",
     "shell.execute_reply": "2023-11-16T15:53:01.959188Z"
    },
    "papermill": {
     "duration": 0.157228,
     "end_time": "2023-11-16T15:53:01.962426",
     "exception": false,
     "start_time": "2023-11-16T15:53:01.805198",
     "status": "completed"
    },
    "tags": []
   },
   "outputs": [
    {
     "data": {
      "text/plain": [
       "['student swapna', 'student sush', 'student ghosh']"
      ]
     },
     "execution_count": 219,
     "metadata": {},
     "output_type": "execute_result"
    }
   ],
   "source": [
    "a = [\"swapna\",\"sush\",\"ghosh\"]\n",
    "b = list(map(lambda i : \"student \"+ i,a))\n",
    "b"
   ]
  },
  {
   "cell_type": "code",
   "execution_count": 220,
   "id": "61d3abd5",
   "metadata": {
    "execution": {
     "iopub.execute_input": "2023-11-16T15:53:02.241777Z",
     "iopub.status.busy": "2023-11-16T15:53:02.241101Z",
     "iopub.status.idle": "2023-11-16T15:53:02.247913Z",
     "shell.execute_reply": "2023-11-16T15:53:02.247083Z"
    },
    "papermill": {
     "duration": 0.145751,
     "end_time": "2023-11-16T15:53:02.249782",
     "exception": false,
     "start_time": "2023-11-16T15:53:02.104031",
     "status": "completed"
    },
    "tags": []
   },
   "outputs": [
    {
     "data": {
      "text/plain": [
       "[('swapna', 100), ('prasad', 200), ('ghosh', 300)]"
      ]
     },
     "execution_count": 220,
     "metadata": {},
     "output_type": "execute_result"
    }
   ],
   "source": [
    "a = [\"swapna\",\"prasad\",\"ghosh\"]\n",
    "b = [100,200,300]\n",
    "\n",
    "\n",
    "c = [  ( a[i] , b[i]) for i in range(len(a))]\n",
    "c"
   ]
  },
  {
   "cell_type": "code",
   "execution_count": 221,
   "id": "ad7069d8",
   "metadata": {
    "execution": {
     "iopub.execute_input": "2023-11-16T15:53:02.547013Z",
     "iopub.status.busy": "2023-11-16T15:53:02.546417Z",
     "iopub.status.idle": "2023-11-16T15:53:02.551731Z",
     "shell.execute_reply": "2023-11-16T15:53:02.550865Z"
    },
    "papermill": {
     "duration": 0.143717,
     "end_time": "2023-11-16T15:53:02.554032",
     "exception": false,
     "start_time": "2023-11-16T15:53:02.410315",
     "status": "completed"
    },
    "tags": []
   },
   "outputs": [
    {
     "name": "stdout",
     "output_type": "stream",
     "text": [
      "swapna 100\n",
      "prasad 200\n",
      "ghosh 300\n"
     ]
    }
   ],
   "source": [
    "for i in range(len(a) ) :\n",
    "    print(a[i],b[i])\n",
    "    "
   ]
  },
  {
   "cell_type": "code",
   "execution_count": 222,
   "id": "13e8145e",
   "metadata": {
    "execution": {
     "iopub.execute_input": "2023-11-16T15:53:02.830154Z",
     "iopub.status.busy": "2023-11-16T15:53:02.829263Z",
     "iopub.status.idle": "2023-11-16T15:53:02.834785Z",
     "shell.execute_reply": "2023-11-16T15:53:02.833851Z"
    },
    "papermill": {
     "duration": 0.14763,
     "end_time": "2023-11-16T15:53:02.837253",
     "exception": false,
     "start_time": "2023-11-16T15:53:02.689623",
     "status": "completed"
    },
    "tags": []
   },
   "outputs": [
    {
     "name": "stdout",
     "output_type": "stream",
     "text": [
      "('swapna', 100) --\n",
      "('prasad', 200) --\n",
      "('ghosh', 300) --\n"
     ]
    }
   ],
   "source": [
    "for i in zip(a,b) :\n",
    "    print(i,\"--\")"
   ]
  },
  {
   "cell_type": "code",
   "execution_count": 223,
   "id": "38615743",
   "metadata": {
    "execution": {
     "iopub.execute_input": "2023-11-16T15:53:03.111375Z",
     "iopub.status.busy": "2023-11-16T15:53:03.110699Z",
     "iopub.status.idle": "2023-11-16T15:53:03.115983Z",
     "shell.execute_reply": "2023-11-16T15:53:03.115049Z"
    },
    "papermill": {
     "duration": 0.146044,
     "end_time": "2023-11-16T15:53:03.117897",
     "exception": false,
     "start_time": "2023-11-16T15:53:02.971853",
     "status": "completed"
    },
    "tags": []
   },
   "outputs": [
    {
     "name": "stdout",
     "output_type": "stream",
     "text": [
      "swapna -- 100\n",
      "prasad -- 200\n",
      "ghosh -- 300\n"
     ]
    }
   ],
   "source": [
    "for i,j in zip(a,b) :\n",
    "    print(i,\"--\",j)"
   ]
  },
  {
   "cell_type": "code",
   "execution_count": 224,
   "id": "47805b74",
   "metadata": {
    "execution": {
     "iopub.execute_input": "2023-11-16T15:53:03.391010Z",
     "iopub.status.busy": "2023-11-16T15:53:03.390661Z",
     "iopub.status.idle": "2023-11-16T15:53:03.397270Z",
     "shell.execute_reply": "2023-11-16T15:53:03.396418Z"
    },
    "papermill": {
     "duration": 0.148039,
     "end_time": "2023-11-16T15:53:03.399123",
     "exception": false,
     "start_time": "2023-11-16T15:53:03.251084",
     "status": "completed"
    },
    "tags": []
   },
   "outputs": [
    {
     "data": {
      "text/plain": [
       "[('swapna', 100, 1)]"
      ]
     },
     "execution_count": 224,
     "metadata": {},
     "output_type": "execute_result"
    }
   ],
   "source": [
    "a = [\"swapna\"]\n",
    "b = [100,200,300]\n",
    "c= [1,2]\n",
    "\n",
    "\n",
    "c = list(zip(a,b,c))\n",
    "c"
   ]
  },
  {
   "cell_type": "code",
   "execution_count": 225,
   "id": "29e7e089",
   "metadata": {
    "execution": {
     "iopub.execute_input": "2023-11-16T15:53:03.668054Z",
     "iopub.status.busy": "2023-11-16T15:53:03.667305Z",
     "iopub.status.idle": "2023-11-16T15:53:03.672872Z",
     "shell.execute_reply": "2023-11-16T15:53:03.672015Z"
    },
    "papermill": {
     "duration": 0.142688,
     "end_time": "2023-11-16T15:53:03.675049",
     "exception": false,
     "start_time": "2023-11-16T15:53:03.532361",
     "status": "completed"
    },
    "tags": []
   },
   "outputs": [
    {
     "name": "stdout",
     "output_type": "stream",
     "text": [
      "yes\n"
     ]
    }
   ],
   "source": [
    "a = \"malayalam\"\n",
    "b = a[::-1]\n",
    "b\n",
    "\n",
    "if a == b :\n",
    "    print(\"yes\")\n",
    "else :\n",
    "    print(\"no\")"
   ]
  },
  {
   "cell_type": "code",
   "execution_count": null,
   "id": "f1508ee9",
   "metadata": {
    "papermill": {
     "duration": 0.177919,
     "end_time": "2023-11-16T15:53:03.987707",
     "exception": false,
     "start_time": "2023-11-16T15:53:03.809788",
     "status": "completed"
    },
    "tags": []
   },
   "outputs": [],
   "source": []
  },
  {
   "cell_type": "code",
   "execution_count": 226,
   "id": "cde2e846",
   "metadata": {
    "execution": {
     "iopub.execute_input": "2023-11-16T15:53:04.258905Z",
     "iopub.status.busy": "2023-11-16T15:53:04.258011Z",
     "iopub.status.idle": "2023-11-16T15:53:04.264073Z",
     "shell.execute_reply": "2023-11-16T15:53:04.263220Z"
    },
    "papermill": {
     "duration": 0.142811,
     "end_time": "2023-11-16T15:53:04.265920",
     "exception": false,
     "start_time": "2023-11-16T15:53:04.123109",
     "status": "completed"
    },
    "tags": []
   },
   "outputs": [],
   "source": [
    "class BluePrint() :\n",
    "    \n",
    "    def __init__ (self,a ): # constructor\n",
    "        self.b = a + 100\n",
    "        self.designed = \"mlv prasad\"\n",
    "        self.country  = \"india\"\n",
    "        \n",
    "\n",
    "\n",
    "    \n",
    "\n",
    "    def color(self):\n",
    "#         b = self.designed\n",
    "        return f\"home is designed by {self.designed} for  and is 100 ft and color \"\n",
    "\n",
    "    def interior(self):\n",
    "        return \"home is italian \"\n",
    "    \n",
    "ghosh = BluePrint(100.5)\n",
    "# int(ghosh)"
   ]
  },
  {
   "cell_type": "code",
   "execution_count": 227,
   "id": "907fe521",
   "metadata": {
    "execution": {
     "iopub.execute_input": "2023-11-16T15:53:04.544369Z",
     "iopub.status.busy": "2023-11-16T15:53:04.544037Z",
     "iopub.status.idle": "2023-11-16T15:53:04.548128Z",
     "shell.execute_reply": "2023-11-16T15:53:04.547173Z"
    },
    "papermill": {
     "duration": 0.144074,
     "end_time": "2023-11-16T15:53:04.550259",
     "exception": false,
     "start_time": "2023-11-16T15:53:04.406185",
     "status": "completed"
    },
    "tags": []
   },
   "outputs": [],
   "source": [
    "# swapna = BluePrint()\n",
    "# swapna.color()"
   ]
  },
  {
   "cell_type": "code",
   "execution_count": 228,
   "id": "f929e43a",
   "metadata": {
    "execution": {
     "iopub.execute_input": "2023-11-16T15:53:04.821965Z",
     "iopub.status.busy": "2023-11-16T15:53:04.821157Z",
     "iopub.status.idle": "2023-11-16T15:53:04.827049Z",
     "shell.execute_reply": "2023-11-16T15:53:04.826167Z"
    },
    "papermill": {
     "duration": 0.144906,
     "end_time": "2023-11-16T15:53:04.829087",
     "exception": false,
     "start_time": "2023-11-16T15:53:04.684181",
     "status": "completed"
    },
    "tags": []
   },
   "outputs": [
    {
     "data": {
      "text/plain": [
       "'9'"
      ]
     },
     "execution_count": 228,
     "metadata": {},
     "output_type": "execute_result"
    }
   ],
   "source": [
    "a = 9\n",
    "b = str(a)\n",
    "b"
   ]
  },
  {
   "cell_type": "code",
   "execution_count": 229,
   "id": "af51c476",
   "metadata": {
    "execution": {
     "iopub.execute_input": "2023-11-16T15:53:05.099847Z",
     "iopub.status.busy": "2023-11-16T15:53:05.099104Z",
     "iopub.status.idle": "2023-11-16T15:53:05.107495Z",
     "shell.execute_reply": "2023-11-16T15:53:05.106546Z"
    },
    "papermill": {
     "duration": 0.146054,
     "end_time": "2023-11-16T15:53:05.109249",
     "exception": false,
     "start_time": "2023-11-16T15:53:04.963195",
     "status": "completed"
    },
    "tags": []
   },
   "outputs": [
    {
     "data": {
      "text/plain": [
       "0"
      ]
     },
     "execution_count": 229,
     "metadata": {},
     "output_type": "execute_result"
    }
   ],
   "source": [
    "class Student() :\n",
    "    \n",
    "    def __init__(self,name,age):\n",
    "        self.studname = f\"the student name is {name}\"\n",
    "        self.studage = f\"the student age is {age}\"\n",
    "        self.courses= []\n",
    "    \n",
    "    def enroll(self, course= 0 ) :\n",
    "        self.courses.append(course)\n",
    "        \n",
    "    def total_course(self):\n",
    "        return len(self.courses)\n",
    "    \n",
    "    \n",
    "    \n",
    "joy =  Student(\"joyce\",\"30\")\n",
    "joy.total_course()\n",
    "\n",
    "\n",
    "\n"
   ]
  },
  {
   "cell_type": "code",
   "execution_count": 230,
   "id": "d8a04efd",
   "metadata": {
    "execution": {
     "iopub.execute_input": "2023-11-16T15:53:05.398899Z",
     "iopub.status.busy": "2023-11-16T15:53:05.398533Z",
     "iopub.status.idle": "2023-11-16T15:53:05.404619Z",
     "shell.execute_reply": "2023-11-16T15:53:05.403772Z"
    },
    "papermill": {
     "duration": 0.151558,
     "end_time": "2023-11-16T15:53:05.406364",
     "exception": false,
     "start_time": "2023-11-16T15:53:05.254806",
     "status": "completed"
    },
    "tags": []
   },
   "outputs": [
    {
     "data": {
      "text/plain": [
       "[]"
      ]
     },
     "execution_count": 230,
     "metadata": {},
     "output_type": "execute_result"
    }
   ],
   "source": [
    "sw = Student(\"swapna\",\"35\")\n",
    "sw.courses"
   ]
  },
  {
   "cell_type": "code",
   "execution_count": 231,
   "id": "f6d27af2",
   "metadata": {
    "execution": {
     "iopub.execute_input": "2023-11-16T15:53:05.678038Z",
     "iopub.status.busy": "2023-11-16T15:53:05.677236Z",
     "iopub.status.idle": "2023-11-16T15:53:05.683128Z",
     "shell.execute_reply": "2023-11-16T15:53:05.682260Z"
    },
    "papermill": {
     "duration": 0.142819,
     "end_time": "2023-11-16T15:53:05.685043",
     "exception": false,
     "start_time": "2023-11-16T15:53:05.542224",
     "status": "completed"
    },
    "tags": []
   },
   "outputs": [
    {
     "data": {
      "text/plain": [
       "[]"
      ]
     },
     "execution_count": 231,
     "metadata": {},
     "output_type": "execute_result"
    }
   ],
   "source": [
    "joy.courses\n",
    "\n",
    "# joy.enroll(\"sql\")"
   ]
  },
  {
   "cell_type": "code",
   "execution_count": 232,
   "id": "e843e1fc",
   "metadata": {
    "execution": {
     "iopub.execute_input": "2023-11-16T15:53:05.954914Z",
     "iopub.status.busy": "2023-11-16T15:53:05.954556Z",
     "iopub.status.idle": "2023-11-16T15:53:05.958814Z",
     "shell.execute_reply": "2023-11-16T15:53:05.957941Z"
    },
    "papermill": {
     "duration": 0.141596,
     "end_time": "2023-11-16T15:53:05.960894",
     "exception": false,
     "start_time": "2023-11-16T15:53:05.819298",
     "status": "completed"
    },
    "tags": []
   },
   "outputs": [],
   "source": [
    "sw.enroll(\"sql\")"
   ]
  },
  {
   "cell_type": "code",
   "execution_count": 233,
   "id": "fab9d707",
   "metadata": {
    "execution": {
     "iopub.execute_input": "2023-11-16T15:53:06.231005Z",
     "iopub.status.busy": "2023-11-16T15:53:06.230315Z",
     "iopub.status.idle": "2023-11-16T15:53:06.236176Z",
     "shell.execute_reply": "2023-11-16T15:53:06.235334Z"
    },
    "papermill": {
     "duration": 0.143369,
     "end_time": "2023-11-16T15:53:06.238070",
     "exception": false,
     "start_time": "2023-11-16T15:53:06.094701",
     "status": "completed"
    },
    "tags": []
   },
   "outputs": [
    {
     "data": {
      "text/plain": [
       "[]"
      ]
     },
     "execution_count": 233,
     "metadata": {},
     "output_type": "execute_result"
    }
   ],
   "source": [
    "joy.courses"
   ]
  },
  {
   "cell_type": "code",
   "execution_count": 234,
   "id": "379404a2",
   "metadata": {
    "execution": {
     "iopub.execute_input": "2023-11-16T15:53:06.514594Z",
     "iopub.status.busy": "2023-11-16T15:53:06.513856Z",
     "iopub.status.idle": "2023-11-16T15:53:06.518459Z",
     "shell.execute_reply": "2023-11-16T15:53:06.517446Z"
    },
    "papermill": {
     "duration": 0.145794,
     "end_time": "2023-11-16T15:53:06.520700",
     "exception": false,
     "start_time": "2023-11-16T15:53:06.374906",
     "status": "completed"
    },
    "tags": []
   },
   "outputs": [],
   "source": [
    "joy.enroll(\"python\")"
   ]
  },
  {
   "cell_type": "code",
   "execution_count": 235,
   "id": "9992bb43",
   "metadata": {
    "execution": {
     "iopub.execute_input": "2023-11-16T15:53:06.800701Z",
     "iopub.status.busy": "2023-11-16T15:53:06.799944Z",
     "iopub.status.idle": "2023-11-16T15:53:06.805860Z",
     "shell.execute_reply": "2023-11-16T15:53:06.805006Z"
    },
    "papermill": {
     "duration": 0.149487,
     "end_time": "2023-11-16T15:53:06.808000",
     "exception": false,
     "start_time": "2023-11-16T15:53:06.658513",
     "status": "completed"
    },
    "tags": []
   },
   "outputs": [
    {
     "data": {
      "text/plain": [
       "['python']"
      ]
     },
     "execution_count": 235,
     "metadata": {},
     "output_type": "execute_result"
    }
   ],
   "source": [
    "joy.courses"
   ]
  },
  {
   "cell_type": "code",
   "execution_count": 236,
   "id": "e66f80ad",
   "metadata": {
    "execution": {
     "iopub.execute_input": "2023-11-16T15:53:07.128169Z",
     "iopub.status.busy": "2023-11-16T15:53:07.127776Z",
     "iopub.status.idle": "2023-11-16T15:53:07.134691Z",
     "shell.execute_reply": "2023-11-16T15:53:07.133419Z"
    },
    "papermill": {
     "duration": 0.192866,
     "end_time": "2023-11-16T15:53:07.136839",
     "exception": false,
     "start_time": "2023-11-16T15:53:06.943973",
     "status": "completed"
    },
    "tags": []
   },
   "outputs": [
    {
     "data": {
      "text/plain": [
       "1"
      ]
     },
     "execution_count": 236,
     "metadata": {},
     "output_type": "execute_result"
    }
   ],
   "source": [
    "joy.total_course()"
   ]
  },
  {
   "cell_type": "code",
   "execution_count": 237,
   "id": "62d6efe0",
   "metadata": {
    "execution": {
     "iopub.execute_input": "2023-11-16T15:53:07.409689Z",
     "iopub.status.busy": "2023-11-16T15:53:07.408926Z",
     "iopub.status.idle": "2023-11-16T15:53:07.414638Z",
     "shell.execute_reply": "2023-11-16T15:53:07.413751Z"
    },
    "papermill": {
     "duration": 0.143573,
     "end_time": "2023-11-16T15:53:07.416502",
     "exception": false,
     "start_time": "2023-11-16T15:53:07.272929",
     "status": "completed"
    },
    "tags": []
   },
   "outputs": [
    {
     "data": {
      "text/plain": [
       "['sql']"
      ]
     },
     "execution_count": 237,
     "metadata": {},
     "output_type": "execute_result"
    }
   ],
   "source": [
    "sw.courses"
   ]
  },
  {
   "cell_type": "code",
   "execution_count": 238,
   "id": "9519823a",
   "metadata": {
    "execution": {
     "iopub.execute_input": "2023-11-16T15:53:07.687598Z",
     "iopub.status.busy": "2023-11-16T15:53:07.687243Z",
     "iopub.status.idle": "2023-11-16T15:53:07.693383Z",
     "shell.execute_reply": "2023-11-16T15:53:07.692368Z"
    },
    "papermill": {
     "duration": 0.145396,
     "end_time": "2023-11-16T15:53:07.695407",
     "exception": false,
     "start_time": "2023-11-16T15:53:07.550011",
     "status": "completed"
    },
    "tags": []
   },
   "outputs": [
    {
     "data": {
      "text/plain": [
       "1"
      ]
     },
     "execution_count": 238,
     "metadata": {},
     "output_type": "execute_result"
    }
   ],
   "source": [
    "sw.total_course()"
   ]
  },
  {
   "cell_type": "code",
   "execution_count": 239,
   "id": "7aad391c",
   "metadata": {
    "execution": {
     "iopub.execute_input": "2023-11-16T15:53:07.964232Z",
     "iopub.status.busy": "2023-11-16T15:53:07.963920Z",
     "iopub.status.idle": "2023-11-16T15:53:07.971176Z",
     "shell.execute_reply": "2023-11-16T15:53:07.970224Z"
    },
    "papermill": {
     "duration": 0.144582,
     "end_time": "2023-11-16T15:53:07.973208",
     "exception": false,
     "start_time": "2023-11-16T15:53:07.828626",
     "status": "completed"
    },
    "tags": []
   },
   "outputs": [
    {
     "name": "stdout",
     "output_type": "stream",
     "text": [
      "the owner brand is TYT and number of doors is 6\n"
     ]
    }
   ],
   "source": [
    "class Vehicle :\n",
    "    \n",
    "    def __init__ (self,brand,model ):\n",
    "        self.brand = brand\n",
    "        self.model = model\n",
    "        \n",
    "    def info(self):\n",
    "        return f\"the owner brand is {self.brand}\"\n",
    "    \n",
    "    \n",
    "    \n",
    "class Toyato(Vehicle):\n",
    "    def __init__(self,brand,model,doors) : \n",
    "        super().__init__(brand,model)\n",
    "        self.doors= doors\n",
    "    def info(self):\n",
    "        return f\"{super().info()} and number of doors is {self.doors}\"\n",
    "    \n",
    "swapna = Toyato(\"TYT\",\"fortuner\",6)\n",
    "\n",
    "print(swapna.info())\n"
   ]
  },
  {
   "cell_type": "code",
   "execution_count": 240,
   "id": "11c389ac",
   "metadata": {
    "execution": {
     "iopub.execute_input": "2023-11-16T15:53:08.245773Z",
     "iopub.status.busy": "2023-11-16T15:53:08.245416Z",
     "iopub.status.idle": "2023-11-16T15:53:08.251155Z",
     "shell.execute_reply": "2023-11-16T15:53:08.250207Z"
    },
    "papermill": {
     "duration": 0.145951,
     "end_time": "2023-11-16T15:53:08.253338",
     "exception": false,
     "start_time": "2023-11-16T15:53:08.107387",
     "status": "completed"
    },
    "tags": []
   },
   "outputs": [
    {
     "name": "stdout",
     "output_type": "stream",
     "text": [
      "1\n",
      "1\n",
      "2\n",
      "3\n",
      "5\n",
      "8\n",
      "13\n",
      "21\n",
      "34\n",
      "55\n",
      "89\n",
      "144\n",
      "233\n"
     ]
    }
   ],
   "source": [
    "def fibonaci ()  :\n",
    "    a,b = 1,1\n",
    "    while True :\n",
    "        yield a \n",
    "        a,b = b, a+b # 2 3 \n",
    "        \n",
    "joy =  fibonaci()\n",
    "for i in range(13) :\n",
    "    print(next(joy))"
   ]
  },
  {
   "cell_type": "code",
   "execution_count": 241,
   "id": "b7eee60d",
   "metadata": {
    "execution": {
     "iopub.execute_input": "2023-11-16T15:53:08.525529Z",
     "iopub.status.busy": "2023-11-16T15:53:08.525206Z",
     "iopub.status.idle": "2023-11-16T15:53:08.529115Z",
     "shell.execute_reply": "2023-11-16T15:53:08.528248Z"
    },
    "papermill": {
     "duration": 0.143353,
     "end_time": "2023-11-16T15:53:08.531098",
     "exception": false,
     "start_time": "2023-11-16T15:53:08.387745",
     "status": "completed"
    },
    "tags": []
   },
   "outputs": [],
   "source": [
    "#poly morphism"
   ]
  },
  {
   "cell_type": "code",
   "execution_count": 242,
   "id": "50e2eff1",
   "metadata": {
    "execution": {
     "iopub.execute_input": "2023-11-16T15:53:08.804207Z",
     "iopub.status.busy": "2023-11-16T15:53:08.803872Z",
     "iopub.status.idle": "2023-11-16T15:53:08.810608Z",
     "shell.execute_reply": "2023-11-16T15:53:08.809697Z"
    },
    "papermill": {
     "duration": 0.147116,
     "end_time": "2023-11-16T15:53:08.813000",
     "exception": false,
     "start_time": "2023-11-16T15:53:08.665884",
     "status": "completed"
    },
    "tags": []
   },
   "outputs": [
    {
     "name": "stdout",
     "output_type": "stream",
     "text": [
      "catty\n",
      "doggy\n"
     ]
    }
   ],
   "source": [
    "class Animal() :\n",
    "    def speak(self) :\n",
    "        pass\n",
    "class Dog(Animal) :\n",
    "    def speak(self) :\n",
    "        return \"doggy\"\n",
    "class Cat(Animal) :\n",
    "    def speak( self) :\n",
    "        return \"catty\"\n",
    "    \n",
    "def sound(Animal) :\n",
    "    return    Animal.speak()\n",
    "\n",
    "dog = Dog()\n",
    "cat = Cat()\n",
    "\n",
    "print(sound(cat))\n",
    "print(sound(dog))"
   ]
  },
  {
   "cell_type": "code",
   "execution_count": 243,
   "id": "b285f826",
   "metadata": {
    "execution": {
     "iopub.execute_input": "2023-11-16T15:53:09.085221Z",
     "iopub.status.busy": "2023-11-16T15:53:09.084833Z",
     "iopub.status.idle": "2023-11-16T15:53:09.092719Z",
     "shell.execute_reply": "2023-11-16T15:53:09.091808Z"
    },
    "papermill": {
     "duration": 0.146691,
     "end_time": "2023-11-16T15:53:09.094881",
     "exception": false,
     "start_time": "2023-11-16T15:53:08.948190",
     "status": "completed"
    },
    "tags": []
   },
   "outputs": [
    {
     "name": "stdout",
     "output_type": "stream",
     "text": [
      "swa\n",
      "300\n",
      "ghosh\n",
      "300\n"
     ]
    }
   ],
   "source": [
    "class Student :\n",
    "    def __init__(self, name, rno) :\n",
    "        self.a = 10\n",
    "        self.__name = name\n",
    "        self._roll_no = rno\n",
    "        \n",
    "    def getname (self) :\n",
    "        return self.__name\n",
    "    def setname(self,name ) :\n",
    "        if len(name) >= 3 :\n",
    "            self.__name = name\n",
    "        else :\n",
    "            print(\"Name is too shot\")\n",
    "        \n",
    "    def display(self) :\n",
    "        print(self.__name)\n",
    "        print(self._roll_no)\n",
    "        \n",
    "swapna = Student(\"swa\",300)\n",
    "swapna.display()\n",
    "swapna.setname(\"ghosh\")\n",
    "swapna.display()\n"
   ]
  },
  {
   "cell_type": "code",
   "execution_count": 244,
   "id": "8bfbd296",
   "metadata": {
    "execution": {
     "iopub.execute_input": "2023-11-16T15:53:09.392028Z",
     "iopub.status.busy": "2023-11-16T15:53:09.391285Z",
     "iopub.status.idle": "2023-11-16T15:53:09.397038Z",
     "shell.execute_reply": "2023-11-16T15:53:09.396244Z"
    },
    "papermill": {
     "duration": 0.155894,
     "end_time": "2023-11-16T15:53:09.399198",
     "exception": false,
     "start_time": "2023-11-16T15:53:09.243304",
     "status": "completed"
    },
    "tags": []
   },
   "outputs": [
    {
     "data": {
      "text/plain": [
       "10"
      ]
     },
     "execution_count": 244,
     "metadata": {},
     "output_type": "execute_result"
    }
   ],
   "source": [
    "# swapna.__name\n",
    "swapna.a"
   ]
  },
  {
   "cell_type": "code",
   "execution_count": 245,
   "id": "cdb5bd7f",
   "metadata": {
    "execution": {
     "iopub.execute_input": "2023-11-16T15:53:09.678761Z",
     "iopub.status.busy": "2023-11-16T15:53:09.677951Z",
     "iopub.status.idle": "2023-11-16T15:53:09.682457Z",
     "shell.execute_reply": "2023-11-16T15:53:09.681538Z"
    },
    "papermill": {
     "duration": 0.146016,
     "end_time": "2023-11-16T15:53:09.684455",
     "exception": false,
     "start_time": "2023-11-16T15:53:09.538439",
     "status": "completed"
    },
    "tags": []
   },
   "outputs": [],
   "source": [
    "# ##### Write a Python program that accepts a sequence of c\n",
    "# # omma-separated numbers from the user and generates a list and a tuple of those numbers.\n",
    "# # Sample data : 3, 5, 7, 23\n",
    "# ls = []\n",
    "# for i in range(4):\n",
    "#     a =int(input())\n",
    "#     ls.append(a)\n",
    "# print(f\"the required answer is {ls} and {tuple(ls)}\")"
   ]
  },
  {
   "cell_type": "code",
   "execution_count": 246,
   "id": "58105ddb",
   "metadata": {
    "execution": {
     "iopub.execute_input": "2023-11-16T15:53:09.958132Z",
     "iopub.status.busy": "2023-11-16T15:53:09.957828Z",
     "iopub.status.idle": "2023-11-16T15:53:09.962030Z",
     "shell.execute_reply": "2023-11-16T15:53:09.961138Z"
    },
    "papermill": {
     "duration": 0.14207,
     "end_time": "2023-11-16T15:53:09.963965",
     "exception": false,
     "start_time": "2023-11-16T15:53:09.821895",
     "status": "completed"
    },
    "tags": []
   },
   "outputs": [],
   "source": [
    "# Write a Python program to display the examination schedule. \n",
    "# (extract the date from exam_st_date).\n",
    "# exam_st_date = (11, 12, 2014)\n",
    "# Sample Output : The examination will start from : 11 / 12 / 2014"
   ]
  },
  {
   "cell_type": "code",
   "execution_count": 247,
   "id": "4a0ef581",
   "metadata": {
    "execution": {
     "iopub.execute_input": "2023-11-16T15:53:10.278396Z",
     "iopub.status.busy": "2023-11-16T15:53:10.277691Z",
     "iopub.status.idle": "2023-11-16T15:53:10.283252Z",
     "shell.execute_reply": "2023-11-16T15:53:10.282270Z"
    },
    "papermill": {
     "duration": 0.186401,
     "end_time": "2023-11-16T15:53:10.285476",
     "exception": false,
     "start_time": "2023-11-16T15:53:10.099075",
     "status": "completed"
    },
    "tags": []
   },
   "outputs": [
    {
     "name": "stdout",
     "output_type": "stream",
     "text": [
      "The examination will start from : 6/5/ 2023\n"
     ]
    }
   ],
   "source": [
    "exam_st_date = (6, 5, 2023)\n",
    "for i in range(1):\n",
    "    print(f\"The examination will start from : {exam_st_date[i] }/{ exam_st_date[i+1] }/ {exam_st_date[i+2]}\")"
   ]
  },
  {
   "cell_type": "code",
   "execution_count": 248,
   "id": "5c189bd3",
   "metadata": {
    "execution": {
     "iopub.execute_input": "2023-11-16T15:53:10.564301Z",
     "iopub.status.busy": "2023-11-16T15:53:10.563707Z",
     "iopub.status.idle": "2023-11-16T15:53:10.568744Z",
     "shell.execute_reply": "2023-11-16T15:53:10.567902Z"
    },
    "papermill": {
     "duration": 0.147419,
     "end_time": "2023-11-16T15:53:10.571140",
     "exception": false,
     "start_time": "2023-11-16T15:53:10.423721",
     "status": "completed"
    },
    "tags": []
   },
   "outputs": [
    {
     "name": "stdout",
     "output_type": "stream",
     "text": [
      "score of a is 10 score of b is  20\n",
      "score of a is 10 score of b is 20\n"
     ]
    }
   ],
   "source": [
    "a = 10\n",
    "b = 20\n",
    "\n",
    "print(\"score of a is\",a, \"score of b is \",b)\n",
    "print(f\"score of a is {a} score of b is {b}\")"
   ]
  },
  {
   "cell_type": "code",
   "execution_count": 249,
   "id": "feeec23f",
   "metadata": {
    "execution": {
     "iopub.execute_input": "2023-11-16T15:53:10.854212Z",
     "iopub.status.busy": "2023-11-16T15:53:10.853777Z",
     "iopub.status.idle": "2023-11-16T15:53:10.858402Z",
     "shell.execute_reply": "2023-11-16T15:53:10.857459Z"
    },
    "papermill": {
     "duration": 0.147834,
     "end_time": "2023-11-16T15:53:10.860342",
     "exception": false,
     "start_time": "2023-11-16T15:53:10.712508",
     "status": "completed"
    },
    "tags": []
   },
   "outputs": [],
   "source": [
    "# # Sample data : 3, 5, 7, 23\n",
    "# ls = []\n",
    "# for i in range(1):\n",
    "#     a =input()\n",
    "#     ls.append(a)\n",
    "# print(f\"the required answer is {ls} and {tuple(ls)}\")"
   ]
  },
  {
   "cell_type": "code",
   "execution_count": 250,
   "id": "9387dbaf",
   "metadata": {
    "execution": {
     "iopub.execute_input": "2023-11-16T15:53:11.133519Z",
     "iopub.status.busy": "2023-11-16T15:53:11.133158Z",
     "iopub.status.idle": "2023-11-16T15:53:11.139288Z",
     "shell.execute_reply": "2023-11-16T15:53:11.138394Z"
    },
    "papermill": {
     "duration": 0.146892,
     "end_time": "2023-11-16T15:53:11.141366",
     "exception": false,
     "start_time": "2023-11-16T15:53:10.994474",
     "status": "completed"
    },
    "tags": []
   },
   "outputs": [
    {
     "data": {
      "text/plain": [
       "['my name ', ' mlv prasad and ', ' am a good boy']"
      ]
     },
     "execution_count": 250,
     "metadata": {},
     "output_type": "execute_result"
    }
   ],
   "source": [
    "a = \"my name is mlv prasad and is am a good boy\"\n",
    "b = a.split(\"is\")\n",
    "b"
   ]
  },
  {
   "cell_type": "code",
   "execution_count": 251,
   "id": "b537078a",
   "metadata": {
    "execution": {
     "iopub.execute_input": "2023-11-16T15:53:11.423172Z",
     "iopub.status.busy": "2023-11-16T15:53:11.422589Z",
     "iopub.status.idle": "2023-11-16T15:53:11.428197Z",
     "shell.execute_reply": "2023-11-16T15:53:11.427290Z"
    },
    "papermill": {
     "duration": 0.152225,
     "end_time": "2023-11-16T15:53:11.430552",
     "exception": false,
     "start_time": "2023-11-16T15:53:11.278327",
     "status": "completed"
    },
    "tags": []
   },
   "outputs": [
    {
     "name": "stdout",
     "output_type": "stream",
     "text": [
      "                * \n",
      "            * * * \n",
      "        * * * * * \n",
      "    * * * * * * * \n",
      "* * * * * * * * * \n"
     ]
    }
   ],
   "source": [
    "for i in range(5):\n",
    "    print(\"  \"*(2*(4-i)),end=\"\")\n",
    "    print(\"* \"* ( (2*i)+1) )\n",
    "    "
   ]
  },
  {
   "cell_type": "code",
   "execution_count": 252,
   "id": "ce86086c",
   "metadata": {
    "execution": {
     "iopub.execute_input": "2023-11-16T15:53:11.704944Z",
     "iopub.status.busy": "2023-11-16T15:53:11.704343Z",
     "iopub.status.idle": "2023-11-16T15:53:11.712635Z",
     "shell.execute_reply": "2023-11-16T15:53:11.711795Z"
    },
    "papermill": {
     "duration": 0.146464,
     "end_time": "2023-11-16T15:53:11.714888",
     "exception": false,
     "start_time": "2023-11-16T15:53:11.568424",
     "status": "completed"
    },
    "tags": []
   },
   "outputs": [
    {
     "name": "stdout",
     "output_type": "stream",
     "text": [
      "45\n",
      "12\n"
     ]
    }
   ],
   "source": [
    "#                 * \n",
    "#             * * * \n",
    "#         * * * * * \n",
    "#     * * * * * * * \n",
    "# * * * * * * * * * \n",
    "\n",
    "from abc import ABC , abstractmethod\n",
    "\n",
    "class mlv(ABC):\n",
    "    @abstractmethod\n",
    "    def marks(self) :\n",
    "        pass\n",
    "#     @abstractmethod \n",
    "#     def classes(self) :\n",
    "#         pass\n",
    "    \n",
    "class Mentor(mlv) :\n",
    "    def __init__(self,teach):\n",
    "        self.teach = teach\n",
    "        \n",
    "    def marks(self) :\n",
    "        return 9 * self.teach\n",
    "    \n",
    "    \n",
    "class Instructor(mlv) :\n",
    "    def __init__(self,cltime, months) :\n",
    "        self.cltime = cltime\n",
    "        self.month = months\n",
    "        \n",
    "    def marks(self) :\n",
    "        return self.cltime * self.month\n",
    "c1 = Mentor(5)\n",
    "c2 = Instructor(4,3)\n",
    "shapes = [c1, c2]\n",
    "for c3 in shapes :\n",
    "    print(c3.marks())"
   ]
  },
  {
   "cell_type": "code",
   "execution_count": null,
   "id": "d2129622",
   "metadata": {
    "papermill": {
     "duration": 0.1373,
     "end_time": "2023-11-16T15:53:11.985459",
     "exception": false,
     "start_time": "2023-11-16T15:53:11.848159",
     "status": "completed"
    },
    "tags": []
   },
   "outputs": [],
   "source": []
  },
  {
   "cell_type": "code",
   "execution_count": null,
   "id": "4662a865",
   "metadata": {
    "papermill": {
     "duration": 0.137671,
     "end_time": "2023-11-16T15:53:12.260294",
     "exception": false,
     "start_time": "2023-11-16T15:53:12.122623",
     "status": "completed"
    },
    "tags": []
   },
   "outputs": [],
   "source": []
  },
  {
   "cell_type": "code",
   "execution_count": null,
   "id": "ef732d43",
   "metadata": {
    "papermill": {
     "duration": 0.182279,
     "end_time": "2023-11-16T15:53:12.599024",
     "exception": false,
     "start_time": "2023-11-16T15:53:12.416745",
     "status": "completed"
    },
    "tags": []
   },
   "outputs": [],
   "source": []
  },
  {
   "cell_type": "code",
   "execution_count": 253,
   "id": "fc34970d",
   "metadata": {
    "execution": {
     "iopub.execute_input": "2023-11-16T15:53:12.880031Z",
     "iopub.status.busy": "2023-11-16T15:53:12.879286Z",
     "iopub.status.idle": "2023-11-16T15:53:12.883940Z",
     "shell.execute_reply": "2023-11-16T15:53:12.883043Z"
    },
    "papermill": {
     "duration": 0.14762,
     "end_time": "2023-11-16T15:53:12.885955",
     "exception": false,
     "start_time": "2023-11-16T15:53:12.738335",
     "status": "completed"
    },
    "tags": []
   },
   "outputs": [],
   "source": [
    "a = \"english\"\n",
    "\n",
    "b = \"hsilgne\"\n",
    "\n",
    "\n",
    "c = \"malayalam\"\n",
    "d = \"malayalam\"\n",
    "\n",
    "# palindrome"
   ]
  },
  {
   "cell_type": "code",
   "execution_count": 254,
   "id": "4801da63",
   "metadata": {
    "execution": {
     "iopub.execute_input": "2023-11-16T15:53:13.167219Z",
     "iopub.status.busy": "2023-11-16T15:53:13.166895Z",
     "iopub.status.idle": "2023-11-16T15:53:13.173276Z",
     "shell.execute_reply": "2023-11-16T15:53:13.172372Z"
    },
    "papermill": {
     "duration": 0.148902,
     "end_time": "2023-11-16T15:53:13.175325",
     "exception": false,
     "start_time": "2023-11-16T15:53:13.026423",
     "status": "completed"
    },
    "tags": []
   },
   "outputs": [
    {
     "data": {
      "text/plain": [
       "['c', 'b', 'a']"
      ]
     },
     "execution_count": 254,
     "metadata": {},
     "output_type": "execute_result"
    }
   ],
   "source": [
    "a = [\"a\",\"b\",\"c\"]\n",
    "b = a[::-1]\n",
    "b"
   ]
  },
  {
   "cell_type": "code",
   "execution_count": 255,
   "id": "d855aa0d",
   "metadata": {
    "execution": {
     "iopub.execute_input": "2023-11-16T15:53:13.454003Z",
     "iopub.status.busy": "2023-11-16T15:53:13.453319Z",
     "iopub.status.idle": "2023-11-16T15:53:13.458973Z",
     "shell.execute_reply": "2023-11-16T15:53:13.458203Z"
    },
    "papermill": {
     "duration": 0.147333,
     "end_time": "2023-11-16T15:53:13.461061",
     "exception": false,
     "start_time": "2023-11-16T15:53:13.313728",
     "status": "completed"
    },
    "tags": []
   },
   "outputs": [
    {
     "data": {
      "text/plain": [
       "'dasarp'"
      ]
     },
     "execution_count": 255,
     "metadata": {},
     "output_type": "execute_result"
    }
   ],
   "source": [
    "c = \"prasad\"\n",
    "c[::-1]"
   ]
  },
  {
   "cell_type": "code",
   "execution_count": 256,
   "id": "8cddcc54",
   "metadata": {
    "execution": {
     "iopub.execute_input": "2023-11-16T15:53:13.739249Z",
     "iopub.status.busy": "2023-11-16T15:53:13.738451Z",
     "iopub.status.idle": "2023-11-16T15:53:13.742611Z",
     "shell.execute_reply": "2023-11-16T15:53:13.741755Z"
    },
    "papermill": {
     "duration": 0.145179,
     "end_time": "2023-11-16T15:53:13.744610",
     "exception": false,
     "start_time": "2023-11-16T15:53:13.599431",
     "status": "completed"
    },
    "tags": []
   },
   "outputs": [],
   "source": [
    "\n",
    "\n",
    "# a  = input()\n",
    "# b = a[::-1]\n",
    "\n",
    "\n",
    "# if a == b :\n",
    "#     print(\"palindrome\")\n",
    "# else :\n",
    "#     print(\"not a palindrome\")"
   ]
  },
  {
   "cell_type": "code",
   "execution_count": 257,
   "id": "ce764836",
   "metadata": {
    "execution": {
     "iopub.execute_input": "2023-11-16T15:53:14.028273Z",
     "iopub.status.busy": "2023-11-16T15:53:14.027581Z",
     "iopub.status.idle": "2023-11-16T15:53:14.034372Z",
     "shell.execute_reply": "2023-11-16T15:53:14.033517Z"
    },
    "papermill": {
     "duration": 0.152108,
     "end_time": "2023-11-16T15:53:14.036279",
     "exception": false,
     "start_time": "2023-11-16T15:53:13.884171",
     "status": "completed"
    },
    "tags": []
   },
   "outputs": [
    {
     "data": {
      "text/plain": [
       "'mentor a is prasad mlv'"
      ]
     },
     "execution_count": 257,
     "metadata": {},
     "output_type": "execute_result"
    }
   ],
   "source": [
    "a = \"mlv prasad is a mentor\"\n",
    "\n",
    "# b = \"mentor a is prasad mlv\"\n",
    "b = a.split()\n",
    "c = b[::-1]\n",
    "c\n",
    "\n",
    "d =  \" \".join(c)\n",
    "d"
   ]
  },
  {
   "cell_type": "code",
   "execution_count": 258,
   "id": "0acb4f61",
   "metadata": {
    "execution": {
     "iopub.execute_input": "2023-11-16T15:53:14.315162Z",
     "iopub.status.busy": "2023-11-16T15:53:14.314372Z",
     "iopub.status.idle": "2023-11-16T15:53:14.320431Z",
     "shell.execute_reply": "2023-11-16T15:53:14.319491Z"
    },
    "papermill": {
     "duration": 0.148519,
     "end_time": "2023-11-16T15:53:14.322596",
     "exception": false,
     "start_time": "2023-11-16T15:53:14.174077",
     "status": "completed"
    },
    "tags": []
   },
   "outputs": [
    {
     "data": {
      "text/plain": [
       "['mlv', 'prasad', 'is', 'a', 'mentor']"
      ]
     },
     "execution_count": 258,
     "metadata": {},
     "output_type": "execute_result"
    }
   ],
   "source": [
    "a = \"mlv prasad is a mentor\"\n",
    "\n",
    "# b = \"mentor a is prasad mlv\"\n",
    "b = a.split()\n",
    "b "
   ]
  },
  {
   "cell_type": "code",
   "execution_count": 259,
   "id": "dce7167b",
   "metadata": {
    "execution": {
     "iopub.execute_input": "2023-11-16T15:53:14.599830Z",
     "iopub.status.busy": "2023-11-16T15:53:14.599499Z",
     "iopub.status.idle": "2023-11-16T15:53:14.604546Z",
     "shell.execute_reply": "2023-11-16T15:53:14.603527Z"
    },
    "papermill": {
     "duration": 0.146334,
     "end_time": "2023-11-16T15:53:14.606660",
     "exception": false,
     "start_time": "2023-11-16T15:53:14.460326",
     "status": "completed"
    },
    "tags": []
   },
   "outputs": [
    {
     "name": "stdout",
     "output_type": "stream",
     "text": [
      "the student name is  swapna and she is a  good student\n"
     ]
    }
   ],
   "source": [
    "a = \"swapna\"\n",
    "print(\"the student name is \", a,\"and she is a  good student\")"
   ]
  },
  {
   "cell_type": "code",
   "execution_count": 260,
   "id": "6cdbe3c2",
   "metadata": {
    "execution": {
     "iopub.execute_input": "2023-11-16T15:53:14.887072Z",
     "iopub.status.busy": "2023-11-16T15:53:14.886616Z",
     "iopub.status.idle": "2023-11-16T15:53:14.891505Z",
     "shell.execute_reply": "2023-11-16T15:53:14.890634Z"
    },
    "papermill": {
     "duration": 0.146489,
     "end_time": "2023-11-16T15:53:14.893769",
     "exception": false,
     "start_time": "2023-11-16T15:53:14.747280",
     "status": "completed"
    },
    "tags": []
   },
   "outputs": [
    {
     "name": "stdout",
     "output_type": "stream",
     "text": [
      "the student name is  swapna  and she is a  good student\n"
     ]
    }
   ],
   "source": [
    "print(f\"the student name is  {a}  and she is a  good student\")"
   ]
  },
  {
   "cell_type": "code",
   "execution_count": 261,
   "id": "777c34b1",
   "metadata": {
    "execution": {
     "iopub.execute_input": "2023-11-16T15:53:15.179001Z",
     "iopub.status.busy": "2023-11-16T15:53:15.178330Z",
     "iopub.status.idle": "2023-11-16T15:53:15.183175Z",
     "shell.execute_reply": "2023-11-16T15:53:15.182304Z"
    },
    "papermill": {
     "duration": 0.149253,
     "end_time": "2023-11-16T15:53:15.185369",
     "exception": false,
     "start_time": "2023-11-16T15:53:15.036116",
     "status": "completed"
    },
    "tags": []
   },
   "outputs": [
    {
     "name": "stdout",
     "output_type": "stream",
     "text": [
      "the student name is  swapna  and she is a  good student\n"
     ]
    }
   ],
   "source": [
    "txt = \"the student name is  {}  and she is a  good student\"\n",
    "print(txt.format(a))"
   ]
  },
  {
   "cell_type": "code",
   "execution_count": 262,
   "id": "728650d5",
   "metadata": {
    "execution": {
     "iopub.execute_input": "2023-11-16T15:53:15.507781Z",
     "iopub.status.busy": "2023-11-16T15:53:15.507388Z",
     "iopub.status.idle": "2023-11-16T15:53:15.511895Z",
     "shell.execute_reply": "2023-11-16T15:53:15.511003Z"
    },
    "papermill": {
     "duration": 0.147816,
     "end_time": "2023-11-16T15:53:15.513809",
     "exception": false,
     "start_time": "2023-11-16T15:53:15.365993",
     "status": "completed"
    },
    "tags": []
   },
   "outputs": [],
   "source": [
    "# 9. Write a Python program to display the examination schedule. (extract the date from exam_st_date).\n",
    "# exam_st_date = (11, 12, 2014)\n",
    "# Sample Output : The examination will start from : 11 / 12 / 2014\n",
    "\n",
    "\n",
    "# 10. Write a Python program that accepts an integer (n) and computes the value of n+nn+nnn.\n",
    "# Sample value of n is 5\n",
    "# Expected Result : 615\n",
    "\n",
    "# 11. Write a Python program to print the documents (syntax, description etc.) of Python built-in function(s).\n",
    "# Sample function : abs()\n",
    "# Expected Result :\n",
    "# abs(number) -> number\n",
    "# Return the absolute value of the argument."
   ]
  },
  {
   "cell_type": "code",
   "execution_count": 263,
   "id": "d5467898",
   "metadata": {
    "execution": {
     "iopub.execute_input": "2023-11-16T15:53:15.791769Z",
     "iopub.status.busy": "2023-11-16T15:53:15.791426Z",
     "iopub.status.idle": "2023-11-16T15:53:15.796521Z",
     "shell.execute_reply": "2023-11-16T15:53:15.795619Z"
    },
    "papermill": {
     "duration": 0.147628,
     "end_time": "2023-11-16T15:53:15.798673",
     "exception": false,
     "start_time": "2023-11-16T15:53:15.651045",
     "status": "completed"
    },
    "tags": []
   },
   "outputs": [
    {
     "name": "stdout",
     "output_type": "stream",
     "text": [
      "Sample Output : The examination will start from : 15 / 3 / 2022\n"
     ]
    }
   ],
   "source": [
    "exam_st_date = (15, 3, 2022)\n",
    "a, b ,c = exam_st_date \n",
    "print(f\"Sample Output : The examination will start from : {a} / {b} / {c}\")"
   ]
  },
  {
   "cell_type": "code",
   "execution_count": 264,
   "id": "074c1510",
   "metadata": {
    "execution": {
     "iopub.execute_input": "2023-11-16T15:53:16.099737Z",
     "iopub.status.busy": "2023-11-16T15:53:16.099054Z",
     "iopub.status.idle": "2023-11-16T15:53:16.108266Z",
     "shell.execute_reply": "2023-11-16T15:53:16.107308Z"
    },
    "papermill": {
     "duration": 0.165636,
     "end_time": "2023-11-16T15:53:16.111684",
     "exception": false,
     "start_time": "2023-11-16T15:53:15.946048",
     "status": "completed"
    },
    "tags": []
   },
   "outputs": [
    {
     "name": "stdout",
     "output_type": "stream",
     "text": [
      "7\n",
      "77\n",
      "777\n"
     ]
    },
    {
     "data": {
      "text/plain": [
       "861"
      ]
     },
     "execution_count": 264,
     "metadata": {},
     "output_type": "execute_result"
    }
   ],
   "source": [
    "# 10. Write a Python program that accepts an integer (n) and computes the value of n+nn+nnn.\n",
    "# Sample value of n is 5\n",
    "# Expected Result : 615\n",
    "\n",
    "\n",
    "# 7 \n",
    "\n",
    "# 7 + 77 + 777\n",
    "\n",
    "n = 7 \n",
    "sum = 0\n",
    "for i in range(3):\n",
    "    a  = str(7)*(i+1)\n",
    "    print(a)\n",
    "    sum = sum + int(a)\n",
    "    \n",
    "sum    "
   ]
  },
  {
   "cell_type": "code",
   "execution_count": 265,
   "id": "f4f46780",
   "metadata": {
    "execution": {
     "iopub.execute_input": "2023-11-16T15:53:16.409619Z",
     "iopub.status.busy": "2023-11-16T15:53:16.408807Z",
     "iopub.status.idle": "2023-11-16T15:53:16.413524Z",
     "shell.execute_reply": "2023-11-16T15:53:16.412526Z"
    },
    "papermill": {
     "duration": 0.162091,
     "end_time": "2023-11-16T15:53:16.415521",
     "exception": false,
     "start_time": "2023-11-16T15:53:16.253430",
     "status": "completed"
    },
    "tags": []
   },
   "outputs": [],
   "source": [
    "# 7 + 77 + 777"
   ]
  },
  {
   "cell_type": "code",
   "execution_count": 266,
   "id": "7319f4b4",
   "metadata": {
    "execution": {
     "iopub.execute_input": "2023-11-16T15:53:16.698122Z",
     "iopub.status.busy": "2023-11-16T15:53:16.697153Z",
     "iopub.status.idle": "2023-11-16T15:53:16.703619Z",
     "shell.execute_reply": "2023-11-16T15:53:16.702534Z"
    },
    "papermill": {
     "duration": 0.149844,
     "end_time": "2023-11-16T15:53:16.705582",
     "exception": false,
     "start_time": "2023-11-16T15:53:16.555738",
     "status": "completed"
    },
    "tags": []
   },
   "outputs": [
    {
     "name": "stdout",
     "output_type": "stream",
     "text": [
      "Help on built-in function abs in module builtins:\n",
      "\n",
      "abs(x, /)\n",
      "    Return the absolute value of the argument.\n",
      "\n"
     ]
    }
   ],
   "source": [
    "help(abs)"
   ]
  },
  {
   "cell_type": "code",
   "execution_count": 267,
   "id": "d1011563",
   "metadata": {
    "execution": {
     "iopub.execute_input": "2023-11-16T15:53:17.012785Z",
     "iopub.status.busy": "2023-11-16T15:53:17.011907Z",
     "iopub.status.idle": "2023-11-16T15:53:17.039990Z",
     "shell.execute_reply": "2023-11-16T15:53:17.039027Z"
    },
    "papermill": {
     "duration": 0.187594,
     "end_time": "2023-11-16T15:53:17.043231",
     "exception": false,
     "start_time": "2023-11-16T15:53:16.855637",
     "status": "completed"
    },
    "tags": []
   },
   "outputs": [
    {
     "name": "stdout",
     "output_type": "stream",
     "text": [
      "Help on class str in module builtins:\n",
      "\n",
      "class str(object)\n",
      " |  str(object='') -> str\n",
      " |  str(bytes_or_buffer[, encoding[, errors]]) -> str\n",
      " |  \n",
      " |  Create a new string object from the given object. If encoding or\n",
      " |  errors is specified, then the object must expose a data buffer\n",
      " |  that will be decoded using the given encoding and error handler.\n",
      " |  Otherwise, returns the result of object.__str__() (if defined)\n",
      " |  or repr(object).\n",
      " |  encoding defaults to sys.getdefaultencoding().\n",
      " |  errors defaults to 'strict'.\n",
      " |  \n",
      " |  Methods defined here:\n",
      " |  \n",
      " |  __add__(self, value, /)\n",
      " |      Return self+value.\n",
      " |  \n",
      " |  __contains__(self, key, /)\n",
      " |      Return key in self.\n",
      " |  \n",
      " |  __eq__(self, value, /)\n",
      " |      Return self==value.\n",
      " |  \n",
      " |  __format__(self, format_spec, /)\n",
      " |      Return a formatted version of the string as described by format_spec.\n",
      " |  \n",
      " |  __ge__(self, value, /)\n",
      " |      Return self>=value.\n",
      " |  \n",
      " |  __getattribute__(self, name, /)\n",
      " |      Return getattr(self, name).\n",
      " |  \n",
      " |  __getitem__(self, key, /)\n",
      " |      Return self[key].\n",
      " |  \n",
      " |  __getnewargs__(...)\n",
      " |  \n",
      " |  __gt__(self, value, /)\n",
      " |      Return self>value.\n",
      " |  \n",
      " |  __hash__(self, /)\n",
      " |      Return hash(self).\n",
      " |  \n",
      " |  __iter__(self, /)\n",
      " |      Implement iter(self).\n",
      " |  \n",
      " |  __le__(self, value, /)\n",
      " |      Return self<=value.\n",
      " |  \n",
      " |  __len__(self, /)\n",
      " |      Return len(self).\n",
      " |  \n",
      " |  __lt__(self, value, /)\n",
      " |      Return self<value.\n",
      " |  \n",
      " |  __mod__(self, value, /)\n",
      " |      Return self%value.\n",
      " |  \n",
      " |  __mul__(self, value, /)\n",
      " |      Return self*value.\n",
      " |  \n",
      " |  __ne__(self, value, /)\n",
      " |      Return self!=value.\n",
      " |  \n",
      " |  __repr__(self, /)\n",
      " |      Return repr(self).\n",
      " |  \n",
      " |  __rmod__(self, value, /)\n",
      " |      Return value%self.\n",
      " |  \n",
      " |  __rmul__(self, value, /)\n",
      " |      Return value*self.\n",
      " |  \n",
      " |  __sizeof__(self, /)\n",
      " |      Return the size of the string in memory, in bytes.\n",
      " |  \n",
      " |  __str__(self, /)\n",
      " |      Return str(self).\n",
      " |  \n",
      " |  capitalize(self, /)\n",
      " |      Return a capitalized version of the string.\n",
      " |      \n",
      " |      More specifically, make the first character have upper case and the rest lower\n",
      " |      case.\n",
      " |  \n",
      " |  casefold(self, /)\n",
      " |      Return a version of the string suitable for caseless comparisons.\n",
      " |  \n",
      " |  center(self, width, fillchar=' ', /)\n",
      " |      Return a centered string of length width.\n",
      " |      \n",
      " |      Padding is done using the specified fill character (default is a space).\n",
      " |  \n",
      " |  count(...)\n",
      " |      S.count(sub[, start[, end]]) -> int\n",
      " |      \n",
      " |      Return the number of non-overlapping occurrences of substring sub in\n",
      " |      string S[start:end].  Optional arguments start and end are\n",
      " |      interpreted as in slice notation.\n",
      " |  \n",
      " |  encode(self, /, encoding='utf-8', errors='strict')\n",
      " |      Encode the string using the codec registered for encoding.\n",
      " |      \n",
      " |      encoding\n",
      " |        The encoding in which to encode the string.\n",
      " |      errors\n",
      " |        The error handling scheme to use for encoding errors.\n",
      " |        The default is 'strict' meaning that encoding errors raise a\n",
      " |        UnicodeEncodeError.  Other possible values are 'ignore', 'replace' and\n",
      " |        'xmlcharrefreplace' as well as any other name registered with\n",
      " |        codecs.register_error that can handle UnicodeEncodeErrors.\n",
      " |  \n",
      " |  endswith(...)\n",
      " |      S.endswith(suffix[, start[, end]]) -> bool\n",
      " |      \n",
      " |      Return True if S ends with the specified suffix, False otherwise.\n",
      " |      With optional start, test S beginning at that position.\n",
      " |      With optional end, stop comparing S at that position.\n",
      " |      suffix can also be a tuple of strings to try.\n",
      " |  \n",
      " |  expandtabs(self, /, tabsize=8)\n",
      " |      Return a copy where all tab characters are expanded using spaces.\n",
      " |      \n",
      " |      If tabsize is not given, a tab size of 8 characters is assumed.\n",
      " |  \n",
      " |  find(...)\n",
      " |      S.find(sub[, start[, end]]) -> int\n",
      " |      \n",
      " |      Return the lowest index in S where substring sub is found,\n",
      " |      such that sub is contained within S[start:end].  Optional\n",
      " |      arguments start and end are interpreted as in slice notation.\n",
      " |      \n",
      " |      Return -1 on failure.\n",
      " |  \n",
      " |  format(...)\n",
      " |      S.format(*args, **kwargs) -> str\n",
      " |      \n",
      " |      Return a formatted version of S, using substitutions from args and kwargs.\n",
      " |      The substitutions are identified by braces ('{' and '}').\n",
      " |  \n",
      " |  format_map(...)\n",
      " |      S.format_map(mapping) -> str\n",
      " |      \n",
      " |      Return a formatted version of S, using substitutions from mapping.\n",
      " |      The substitutions are identified by braces ('{' and '}').\n",
      " |  \n",
      " |  index(...)\n",
      " |      S.index(sub[, start[, end]]) -> int\n",
      " |      \n",
      " |      Return the lowest index in S where substring sub is found,\n",
      " |      such that sub is contained within S[start:end].  Optional\n",
      " |      arguments start and end are interpreted as in slice notation.\n",
      " |      \n",
      " |      Raises ValueError when the substring is not found.\n",
      " |  \n",
      " |  isalnum(self, /)\n",
      " |      Return True if the string is an alpha-numeric string, False otherwise.\n",
      " |      \n",
      " |      A string is alpha-numeric if all characters in the string are alpha-numeric and\n",
      " |      there is at least one character in the string.\n",
      " |  \n",
      " |  isalpha(self, /)\n",
      " |      Return True if the string is an alphabetic string, False otherwise.\n",
      " |      \n",
      " |      A string is alphabetic if all characters in the string are alphabetic and there\n",
      " |      is at least one character in the string.\n",
      " |  \n",
      " |  isascii(self, /)\n",
      " |      Return True if all characters in the string are ASCII, False otherwise.\n",
      " |      \n",
      " |      ASCII characters have code points in the range U+0000-U+007F.\n",
      " |      Empty string is ASCII too.\n",
      " |  \n",
      " |  isdecimal(self, /)\n",
      " |      Return True if the string is a decimal string, False otherwise.\n",
      " |      \n",
      " |      A string is a decimal string if all characters in the string are decimal and\n",
      " |      there is at least one character in the string.\n",
      " |  \n",
      " |  isdigit(self, /)\n",
      " |      Return True if the string is a digit string, False otherwise.\n",
      " |      \n",
      " |      A string is a digit string if all characters in the string are digits and there\n",
      " |      is at least one character in the string.\n",
      " |  \n",
      " |  isidentifier(self, /)\n",
      " |      Return True if the string is a valid Python identifier, False otherwise.\n",
      " |      \n",
      " |      Call keyword.iskeyword(s) to test whether string s is a reserved identifier,\n",
      " |      such as \"def\" or \"class\".\n",
      " |  \n",
      " |  islower(self, /)\n",
      " |      Return True if the string is a lowercase string, False otherwise.\n",
      " |      \n",
      " |      A string is lowercase if all cased characters in the string are lowercase and\n",
      " |      there is at least one cased character in the string.\n",
      " |  \n",
      " |  isnumeric(self, /)\n",
      " |      Return True if the string is a numeric string, False otherwise.\n",
      " |      \n",
      " |      A string is numeric if all characters in the string are numeric and there is at\n",
      " |      least one character in the string.\n",
      " |  \n",
      " |  isprintable(self, /)\n",
      " |      Return True if the string is printable, False otherwise.\n",
      " |      \n",
      " |      A string is printable if all of its characters are considered printable in\n",
      " |      repr() or if it is empty.\n",
      " |  \n",
      " |  isspace(self, /)\n",
      " |      Return True if the string is a whitespace string, False otherwise.\n",
      " |      \n",
      " |      A string is whitespace if all characters in the string are whitespace and there\n",
      " |      is at least one character in the string.\n",
      " |  \n",
      " |  istitle(self, /)\n",
      " |      Return True if the string is a title-cased string, False otherwise.\n",
      " |      \n",
      " |      In a title-cased string, upper- and title-case characters may only\n",
      " |      follow uncased characters and lowercase characters only cased ones.\n",
      " |  \n",
      " |  isupper(self, /)\n",
      " |      Return True if the string is an uppercase string, False otherwise.\n",
      " |      \n",
      " |      A string is uppercase if all cased characters in the string are uppercase and\n",
      " |      there is at least one cased character in the string.\n",
      " |  \n",
      " |  join(self, iterable, /)\n",
      " |      Concatenate any number of strings.\n",
      " |      \n",
      " |      The string whose method is called is inserted in between each given string.\n",
      " |      The result is returned as a new string.\n",
      " |      \n",
      " |      Example: '.'.join(['ab', 'pq', 'rs']) -> 'ab.pq.rs'\n",
      " |  \n",
      " |  ljust(self, width, fillchar=' ', /)\n",
      " |      Return a left-justified string of length width.\n",
      " |      \n",
      " |      Padding is done using the specified fill character (default is a space).\n",
      " |  \n",
      " |  lower(self, /)\n",
      " |      Return a copy of the string converted to lowercase.\n",
      " |  \n",
      " |  lstrip(self, chars=None, /)\n",
      " |      Return a copy of the string with leading whitespace removed.\n",
      " |      \n",
      " |      If chars is given and not None, remove characters in chars instead.\n",
      " |  \n",
      " |  partition(self, sep, /)\n",
      " |      Partition the string into three parts using the given separator.\n",
      " |      \n",
      " |      This will search for the separator in the string.  If the separator is found,\n",
      " |      returns a 3-tuple containing the part before the separator, the separator\n",
      " |      itself, and the part after it.\n",
      " |      \n",
      " |      If the separator is not found, returns a 3-tuple containing the original string\n",
      " |      and two empty strings.\n",
      " |  \n",
      " |  removeprefix(self, prefix, /)\n",
      " |      Return a str with the given prefix string removed if present.\n",
      " |      \n",
      " |      If the string starts with the prefix string, return string[len(prefix):].\n",
      " |      Otherwise, return a copy of the original string.\n",
      " |  \n",
      " |  removesuffix(self, suffix, /)\n",
      " |      Return a str with the given suffix string removed if present.\n",
      " |      \n",
      " |      If the string ends with the suffix string and that suffix is not empty,\n",
      " |      return string[:-len(suffix)]. Otherwise, return a copy of the original\n",
      " |      string.\n",
      " |  \n",
      " |  replace(self, old, new, count=-1, /)\n",
      " |      Return a copy with all occurrences of substring old replaced by new.\n",
      " |      \n",
      " |        count\n",
      " |          Maximum number of occurrences to replace.\n",
      " |          -1 (the default value) means replace all occurrences.\n",
      " |      \n",
      " |      If the optional argument count is given, only the first count occurrences are\n",
      " |      replaced.\n",
      " |  \n",
      " |  rfind(...)\n",
      " |      S.rfind(sub[, start[, end]]) -> int\n",
      " |      \n",
      " |      Return the highest index in S where substring sub is found,\n",
      " |      such that sub is contained within S[start:end].  Optional\n",
      " |      arguments start and end are interpreted as in slice notation.\n",
      " |      \n",
      " |      Return -1 on failure.\n",
      " |  \n",
      " |  rindex(...)\n",
      " |      S.rindex(sub[, start[, end]]) -> int\n",
      " |      \n",
      " |      Return the highest index in S where substring sub is found,\n",
      " |      such that sub is contained within S[start:end].  Optional\n",
      " |      arguments start and end are interpreted as in slice notation.\n",
      " |      \n",
      " |      Raises ValueError when the substring is not found.\n",
      " |  \n",
      " |  rjust(self, width, fillchar=' ', /)\n",
      " |      Return a right-justified string of length width.\n",
      " |      \n",
      " |      Padding is done using the specified fill character (default is a space).\n",
      " |  \n",
      " |  rpartition(self, sep, /)\n",
      " |      Partition the string into three parts using the given separator.\n",
      " |      \n",
      " |      This will search for the separator in the string, starting at the end. If\n",
      " |      the separator is found, returns a 3-tuple containing the part before the\n",
      " |      separator, the separator itself, and the part after it.\n",
      " |      \n",
      " |      If the separator is not found, returns a 3-tuple containing two empty strings\n",
      " |      and the original string.\n",
      " |  \n",
      " |  rsplit(self, /, sep=None, maxsplit=-1)\n",
      " |      Return a list of the substrings in the string, using sep as the separator string.\n",
      " |      \n",
      " |        sep\n",
      " |          The separator used to split the string.\n",
      " |      \n",
      " |          When set to None (the default value), will split on any whitespace\n",
      " |          character (including \\\\n \\\\r \\\\t \\\\f and spaces) and will discard\n",
      " |          empty strings from the result.\n",
      " |        maxsplit\n",
      " |          Maximum number of splits (starting from the left).\n",
      " |          -1 (the default value) means no limit.\n",
      " |      \n",
      " |      Splitting starts at the end of the string and works to the front.\n",
      " |  \n",
      " |  rstrip(self, chars=None, /)\n",
      " |      Return a copy of the string with trailing whitespace removed.\n",
      " |      \n",
      " |      If chars is given and not None, remove characters in chars instead.\n",
      " |  \n",
      " |  split(self, /, sep=None, maxsplit=-1)\n",
      " |      Return a list of the substrings in the string, using sep as the separator string.\n",
      " |      \n",
      " |        sep\n",
      " |          The separator used to split the string.\n",
      " |      \n",
      " |          When set to None (the default value), will split on any whitespace\n",
      " |          character (including \\\\n \\\\r \\\\t \\\\f and spaces) and will discard\n",
      " |          empty strings from the result.\n",
      " |        maxsplit\n",
      " |          Maximum number of splits (starting from the left).\n",
      " |          -1 (the default value) means no limit.\n",
      " |      \n",
      " |      Note, str.split() is mainly useful for data that has been intentionally\n",
      " |      delimited.  With natural text that includes punctuation, consider using\n",
      " |      the regular expression module.\n",
      " |  \n",
      " |  splitlines(self, /, keepends=False)\n",
      " |      Return a list of the lines in the string, breaking at line boundaries.\n",
      " |      \n",
      " |      Line breaks are not included in the resulting list unless keepends is given and\n",
      " |      true.\n",
      " |  \n",
      " |  startswith(...)\n",
      " |      S.startswith(prefix[, start[, end]]) -> bool\n",
      " |      \n",
      " |      Return True if S starts with the specified prefix, False otherwise.\n",
      " |      With optional start, test S beginning at that position.\n",
      " |      With optional end, stop comparing S at that position.\n",
      " |      prefix can also be a tuple of strings to try.\n",
      " |  \n",
      " |  strip(self, chars=None, /)\n",
      " |      Return a copy of the string with leading and trailing whitespace removed.\n",
      " |      \n",
      " |      If chars is given and not None, remove characters in chars instead.\n",
      " |  \n",
      " |  swapcase(self, /)\n",
      " |      Convert uppercase characters to lowercase and lowercase characters to uppercase.\n",
      " |  \n",
      " |  title(self, /)\n",
      " |      Return a version of the string where each word is titlecased.\n",
      " |      \n",
      " |      More specifically, words start with uppercased characters and all remaining\n",
      " |      cased characters have lower case.\n",
      " |  \n",
      " |  translate(self, table, /)\n",
      " |      Replace each character in the string using the given translation table.\n",
      " |      \n",
      " |        table\n",
      " |          Translation table, which must be a mapping of Unicode ordinals to\n",
      " |          Unicode ordinals, strings, or None.\n",
      " |      \n",
      " |      The table must implement lookup/indexing via __getitem__, for instance a\n",
      " |      dictionary or list.  If this operation raises LookupError, the character is\n",
      " |      left untouched.  Characters mapped to None are deleted.\n",
      " |  \n",
      " |  upper(self, /)\n",
      " |      Return a copy of the string converted to uppercase.\n",
      " |  \n",
      " |  zfill(self, width, /)\n",
      " |      Pad a numeric string with zeros on the left, to fill a field of the given width.\n",
      " |      \n",
      " |      The string is never truncated.\n",
      " |  \n",
      " |  ----------------------------------------------------------------------\n",
      " |  Static methods defined here:\n",
      " |  \n",
      " |  __new__(*args, **kwargs) from builtins.type\n",
      " |      Create and return a new object.  See help(type) for accurate signature.\n",
      " |  \n",
      " |  maketrans(...)\n",
      " |      Return a translation table usable for str.translate().\n",
      " |      \n",
      " |      If there is only one argument, it must be a dictionary mapping Unicode\n",
      " |      ordinals (integers) or characters to Unicode ordinals, strings or None.\n",
      " |      Character keys will be then converted to ordinals.\n",
      " |      If there are two arguments, they must be strings of equal length, and\n",
      " |      in the resulting dictionary, each character in x will be mapped to the\n",
      " |      character at the same position in y. If there is a third argument, it\n",
      " |      must be a string, whose characters will be mapped to None in the result.\n",
      "\n"
     ]
    }
   ],
   "source": [
    "help(str)"
   ]
  },
  {
   "cell_type": "code",
   "execution_count": 268,
   "id": "be733f4c",
   "metadata": {
    "execution": {
     "iopub.execute_input": "2023-11-16T15:53:17.328288Z",
     "iopub.status.busy": "2023-11-16T15:53:17.327959Z",
     "iopub.status.idle": "2023-11-16T15:53:17.350532Z",
     "shell.execute_reply": "2023-11-16T15:53:17.349413Z"
    },
    "papermill": {
     "duration": 0.166063,
     "end_time": "2023-11-16T15:53:17.353312",
     "exception": false,
     "start_time": "2023-11-16T15:53:17.187249",
     "status": "completed"
    },
    "tags": []
   },
   "outputs": [
    {
     "name": "stdout",
     "output_type": "stream",
     "text": [
      "Help on class int in module builtins:\n",
      "\n",
      "class int(object)\n",
      " |  int([x]) -> integer\n",
      " |  int(x, base=10) -> integer\n",
      " |  \n",
      " |  Convert a number or string to an integer, or return 0 if no arguments\n",
      " |  are given.  If x is a number, return x.__int__().  For floating point\n",
      " |  numbers, this truncates towards zero.\n",
      " |  \n",
      " |  If x is not a number or if base is given, then x must be a string,\n",
      " |  bytes, or bytearray instance representing an integer literal in the\n",
      " |  given base.  The literal can be preceded by '+' or '-' and be surrounded\n",
      " |  by whitespace.  The base defaults to 10.  Valid bases are 0 and 2-36.\n",
      " |  Base 0 means to interpret the base from the string as an integer literal.\n",
      " |  >>> int('0b100', base=0)\n",
      " |  4\n",
      " |  \n",
      " |  Built-in subclasses:\n",
      " |      bool\n",
      " |  \n",
      " |  Methods defined here:\n",
      " |  \n",
      " |  __abs__(self, /)\n",
      " |      abs(self)\n",
      " |  \n",
      " |  __add__(self, value, /)\n",
      " |      Return self+value.\n",
      " |  \n",
      " |  __and__(self, value, /)\n",
      " |      Return self&value.\n",
      " |  \n",
      " |  __bool__(self, /)\n",
      " |      True if self else False\n",
      " |  \n",
      " |  __ceil__(...)\n",
      " |      Ceiling of an Integral returns itself.\n",
      " |  \n",
      " |  __divmod__(self, value, /)\n",
      " |      Return divmod(self, value).\n",
      " |  \n",
      " |  __eq__(self, value, /)\n",
      " |      Return self==value.\n",
      " |  \n",
      " |  __float__(self, /)\n",
      " |      float(self)\n",
      " |  \n",
      " |  __floor__(...)\n",
      " |      Flooring an Integral returns itself.\n",
      " |  \n",
      " |  __floordiv__(self, value, /)\n",
      " |      Return self//value.\n",
      " |  \n",
      " |  __format__(self, format_spec, /)\n",
      " |      Default object formatter.\n",
      " |  \n",
      " |  __ge__(self, value, /)\n",
      " |      Return self>=value.\n",
      " |  \n",
      " |  __getattribute__(self, name, /)\n",
      " |      Return getattr(self, name).\n",
      " |  \n",
      " |  __getnewargs__(self, /)\n",
      " |  \n",
      " |  __gt__(self, value, /)\n",
      " |      Return self>value.\n",
      " |  \n",
      " |  __hash__(self, /)\n",
      " |      Return hash(self).\n",
      " |  \n",
      " |  __index__(self, /)\n",
      " |      Return self converted to an integer, if self is suitable for use as an index into a list.\n",
      " |  \n",
      " |  __int__(self, /)\n",
      " |      int(self)\n",
      " |  \n",
      " |  __invert__(self, /)\n",
      " |      ~self\n",
      " |  \n",
      " |  __le__(self, value, /)\n",
      " |      Return self<=value.\n",
      " |  \n",
      " |  __lshift__(self, value, /)\n",
      " |      Return self<<value.\n",
      " |  \n",
      " |  __lt__(self, value, /)\n",
      " |      Return self<value.\n",
      " |  \n",
      " |  __mod__(self, value, /)\n",
      " |      Return self%value.\n",
      " |  \n",
      " |  __mul__(self, value, /)\n",
      " |      Return self*value.\n",
      " |  \n",
      " |  __ne__(self, value, /)\n",
      " |      Return self!=value.\n",
      " |  \n",
      " |  __neg__(self, /)\n",
      " |      -self\n",
      " |  \n",
      " |  __or__(self, value, /)\n",
      " |      Return self|value.\n",
      " |  \n",
      " |  __pos__(self, /)\n",
      " |      +self\n",
      " |  \n",
      " |  __pow__(self, value, mod=None, /)\n",
      " |      Return pow(self, value, mod).\n",
      " |  \n",
      " |  __radd__(self, value, /)\n",
      " |      Return value+self.\n",
      " |  \n",
      " |  __rand__(self, value, /)\n",
      " |      Return value&self.\n",
      " |  \n",
      " |  __rdivmod__(self, value, /)\n",
      " |      Return divmod(value, self).\n",
      " |  \n",
      " |  __repr__(self, /)\n",
      " |      Return repr(self).\n",
      " |  \n",
      " |  __rfloordiv__(self, value, /)\n",
      " |      Return value//self.\n",
      " |  \n",
      " |  __rlshift__(self, value, /)\n",
      " |      Return value<<self.\n",
      " |  \n",
      " |  __rmod__(self, value, /)\n",
      " |      Return value%self.\n",
      " |  \n",
      " |  __rmul__(self, value, /)\n",
      " |      Return value*self.\n",
      " |  \n",
      " |  __ror__(self, value, /)\n",
      " |      Return value|self.\n",
      " |  \n",
      " |  __round__(...)\n",
      " |      Rounding an Integral returns itself.\n",
      " |      \n",
      " |      Rounding with an ndigits argument also returns an integer.\n",
      " |  \n",
      " |  __rpow__(self, value, mod=None, /)\n",
      " |      Return pow(value, self, mod).\n",
      " |  \n",
      " |  __rrshift__(self, value, /)\n",
      " |      Return value>>self.\n",
      " |  \n",
      " |  __rshift__(self, value, /)\n",
      " |      Return self>>value.\n",
      " |  \n",
      " |  __rsub__(self, value, /)\n",
      " |      Return value-self.\n",
      " |  \n",
      " |  __rtruediv__(self, value, /)\n",
      " |      Return value/self.\n",
      " |  \n",
      " |  __rxor__(self, value, /)\n",
      " |      Return value^self.\n",
      " |  \n",
      " |  __sizeof__(self, /)\n",
      " |      Returns size in memory, in bytes.\n",
      " |  \n",
      " |  __sub__(self, value, /)\n",
      " |      Return self-value.\n",
      " |  \n",
      " |  __truediv__(self, value, /)\n",
      " |      Return self/value.\n",
      " |  \n",
      " |  __trunc__(...)\n",
      " |      Truncating an Integral returns itself.\n",
      " |  \n",
      " |  __xor__(self, value, /)\n",
      " |      Return self^value.\n",
      " |  \n",
      " |  as_integer_ratio(self, /)\n",
      " |      Return integer ratio.\n",
      " |      \n",
      " |      Return a pair of integers, whose ratio is exactly equal to the original int\n",
      " |      and with a positive denominator.\n",
      " |      \n",
      " |      >>> (10).as_integer_ratio()\n",
      " |      (10, 1)\n",
      " |      >>> (-10).as_integer_ratio()\n",
      " |      (-10, 1)\n",
      " |      >>> (0).as_integer_ratio()\n",
      " |      (0, 1)\n",
      " |  \n",
      " |  bit_count(self, /)\n",
      " |      Number of ones in the binary representation of the absolute value of self.\n",
      " |      \n",
      " |      Also known as the population count.\n",
      " |      \n",
      " |      >>> bin(13)\n",
      " |      '0b1101'\n",
      " |      >>> (13).bit_count()\n",
      " |      3\n",
      " |  \n",
      " |  bit_length(self, /)\n",
      " |      Number of bits necessary to represent self in binary.\n",
      " |      \n",
      " |      >>> bin(37)\n",
      " |      '0b100101'\n",
      " |      >>> (37).bit_length()\n",
      " |      6\n",
      " |  \n",
      " |  conjugate(...)\n",
      " |      Returns self, the complex conjugate of any int.\n",
      " |  \n",
      " |  to_bytes(self, /, length, byteorder, *, signed=False)\n",
      " |      Return an array of bytes representing an integer.\n",
      " |      \n",
      " |      length\n",
      " |        Length of bytes object to use.  An OverflowError is raised if the\n",
      " |        integer is not representable with the given number of bytes.\n",
      " |      byteorder\n",
      " |        The byte order used to represent the integer.  If byteorder is 'big',\n",
      " |        the most significant byte is at the beginning of the byte array.  If\n",
      " |        byteorder is 'little', the most significant byte is at the end of the\n",
      " |        byte array.  To request the native byte order of the host system, use\n",
      " |        `sys.byteorder' as the byte order value.\n",
      " |      signed\n",
      " |        Determines whether two's complement is used to represent the integer.\n",
      " |        If signed is False and a negative integer is given, an OverflowError\n",
      " |        is raised.\n",
      " |  \n",
      " |  ----------------------------------------------------------------------\n",
      " |  Class methods defined here:\n",
      " |  \n",
      " |  from_bytes(bytes, byteorder, *, signed=False) from builtins.type\n",
      " |      Return the integer represented by the given array of bytes.\n",
      " |      \n",
      " |      bytes\n",
      " |        Holds the array of bytes to convert.  The argument must either\n",
      " |        support the buffer protocol or be an iterable object producing bytes.\n",
      " |        Bytes and bytearray are examples of built-in objects that support the\n",
      " |        buffer protocol.\n",
      " |      byteorder\n",
      " |        The byte order used to represent the integer.  If byteorder is 'big',\n",
      " |        the most significant byte is at the beginning of the byte array.  If\n",
      " |        byteorder is 'little', the most significant byte is at the end of the\n",
      " |        byte array.  To request the native byte order of the host system, use\n",
      " |        `sys.byteorder' as the byte order value.\n",
      " |      signed\n",
      " |        Indicates whether two's complement is used to represent the integer.\n",
      " |  \n",
      " |  ----------------------------------------------------------------------\n",
      " |  Static methods defined here:\n",
      " |  \n",
      " |  __new__(*args, **kwargs) from builtins.type\n",
      " |      Create and return a new object.  See help(type) for accurate signature.\n",
      " |  \n",
      " |  ----------------------------------------------------------------------\n",
      " |  Data descriptors defined here:\n",
      " |  \n",
      " |  denominator\n",
      " |      the denominator of a rational number in lowest terms\n",
      " |  \n",
      " |  imag\n",
      " |      the imaginary part of a complex number\n",
      " |  \n",
      " |  numerator\n",
      " |      the numerator of a rational number in lowest terms\n",
      " |  \n",
      " |  real\n",
      " |      the real part of a complex number\n",
      "\n"
     ]
    }
   ],
   "source": [
    "help(int)"
   ]
  },
  {
   "cell_type": "code",
   "execution_count": 269,
   "id": "a9069366",
   "metadata": {
    "execution": {
     "iopub.execute_input": "2023-11-16T15:53:17.679090Z",
     "iopub.status.busy": "2023-11-16T15:53:17.678752Z",
     "iopub.status.idle": "2023-11-16T15:53:17.684146Z",
     "shell.execute_reply": "2023-11-16T15:53:17.683018Z"
    },
    "papermill": {
     "duration": 0.192337,
     "end_time": "2023-11-16T15:53:17.686059",
     "exception": false,
     "start_time": "2023-11-16T15:53:17.493722",
     "status": "completed"
    },
    "tags": []
   },
   "outputs": [
    {
     "name": "stdout",
     "output_type": "stream",
     "text": [
      "9 10\n"
     ]
    }
   ],
   "source": [
    "a = -9\n",
    "\n",
    "b = 10\n",
    "\n",
    "print(abs(a),abs(b))"
   ]
  },
  {
   "cell_type": "code",
   "execution_count": 270,
   "id": "3ee15927",
   "metadata": {
    "execution": {
     "iopub.execute_input": "2023-11-16T15:53:17.972177Z",
     "iopub.status.busy": "2023-11-16T15:53:17.971268Z",
     "iopub.status.idle": "2023-11-16T15:53:17.978174Z",
     "shell.execute_reply": "2023-11-16T15:53:17.977215Z"
    },
    "papermill": {
     "duration": 0.152527,
     "end_time": "2023-11-16T15:53:17.980225",
     "exception": false,
     "start_time": "2023-11-16T15:53:17.827698",
     "status": "completed"
    },
    "tags": []
   },
   "outputs": [
    {
     "data": {
      "text/plain": [
       "dict_keys(['beautiful', 'great', 'maths'])"
      ]
     },
     "execution_count": 270,
     "metadata": {},
     "output_type": "execute_result"
    }
   ],
   "source": [
    "dt = {\"beautiful\": \"which is glorious\",\n",
    "     \"great\": \" to do some extraordinary\",\n",
    "     \"maths\": \"study of numericals\"}\n",
    "dt.keys()"
   ]
  },
  {
   "cell_type": "code",
   "execution_count": 271,
   "id": "936bb4ab",
   "metadata": {
    "execution": {
     "iopub.execute_input": "2023-11-16T15:53:18.269029Z",
     "iopub.status.busy": "2023-11-16T15:53:18.268354Z",
     "iopub.status.idle": "2023-11-16T15:53:18.274009Z",
     "shell.execute_reply": "2023-11-16T15:53:18.273176Z"
    },
    "papermill": {
     "duration": 0.146673,
     "end_time": "2023-11-16T15:53:18.275816",
     "exception": false,
     "start_time": "2023-11-16T15:53:18.129143",
     "status": "completed"
    },
    "tags": []
   },
   "outputs": [
    {
     "data": {
      "text/plain": [
       "dict_values(['which is glorious', ' to do some extraordinary', 'study of numericals'])"
      ]
     },
     "execution_count": 271,
     "metadata": {},
     "output_type": "execute_result"
    }
   ],
   "source": [
    "dt.values()"
   ]
  },
  {
   "cell_type": "code",
   "execution_count": 272,
   "id": "d2946f3d",
   "metadata": {
    "execution": {
     "iopub.execute_input": "2023-11-16T15:53:18.560287Z",
     "iopub.status.busy": "2023-11-16T15:53:18.559468Z",
     "iopub.status.idle": "2023-11-16T15:53:18.565626Z",
     "shell.execute_reply": "2023-11-16T15:53:18.564665Z"
    },
    "papermill": {
     "duration": 0.150484,
     "end_time": "2023-11-16T15:53:18.567764",
     "exception": false,
     "start_time": "2023-11-16T15:53:18.417280",
     "status": "completed"
    },
    "tags": []
   },
   "outputs": [
    {
     "data": {
      "text/plain": [
       "dict_items([('beautiful', 'which is glorious'), ('great', ' to do some extraordinary'), ('maths', 'study of numericals')])"
      ]
     },
     "execution_count": 272,
     "metadata": {},
     "output_type": "execute_result"
    }
   ],
   "source": [
    "dt.items()"
   ]
  },
  {
   "cell_type": "code",
   "execution_count": 273,
   "id": "b3ffb820",
   "metadata": {
    "execution": {
     "iopub.execute_input": "2023-11-16T15:53:18.851885Z",
     "iopub.status.busy": "2023-11-16T15:53:18.850945Z",
     "iopub.status.idle": "2023-11-16T15:53:18.857391Z",
     "shell.execute_reply": "2023-11-16T15:53:18.856523Z"
    },
    "papermill": {
     "duration": 0.151039,
     "end_time": "2023-11-16T15:53:18.859176",
     "exception": false,
     "start_time": "2023-11-16T15:53:18.708137",
     "status": "completed"
    },
    "tags": []
   },
   "outputs": [
    {
     "data": {
      "text/plain": [
       "'study'"
      ]
     },
     "execution_count": 273,
     "metadata": {},
     "output_type": "execute_result"
    }
   ],
   "source": [
    "dt[\"maths\"].split()[0]"
   ]
  },
  {
   "cell_type": "code",
   "execution_count": 274,
   "id": "f6b1614c",
   "metadata": {
    "execution": {
     "iopub.execute_input": "2023-11-16T15:53:19.143931Z",
     "iopub.status.busy": "2023-11-16T15:53:19.143185Z",
     "iopub.status.idle": "2023-11-16T15:53:19.150116Z",
     "shell.execute_reply": "2023-11-16T15:53:19.149286Z"
    },
    "papermill": {
     "duration": 0.152198,
     "end_time": "2023-11-16T15:53:19.152286",
     "exception": false,
     "start_time": "2023-11-16T15:53:19.000088",
     "status": "completed"
    },
    "tags": []
   },
   "outputs": [
    {
     "data": {
      "text/plain": [
       "{'a': 'ddddd', 'b': 'eeeee', 'c': 'fffff'}"
      ]
     },
     "execution_count": 274,
     "metadata": {},
     "output_type": "execute_result"
    }
   ],
   "source": [
    "p= [\"a\",\"b\",\"c\"]\n",
    "q = [\"ddddd\",\"eeeee\",\"fffff\"]\n",
    "\n",
    "ans = {  p[i] : q[i]    for i in range(len(p))}\n",
    "ans"
   ]
  },
  {
   "cell_type": "code",
   "execution_count": 275,
   "id": "e0efa0eb",
   "metadata": {
    "execution": {
     "iopub.execute_input": "2023-11-16T15:53:19.434187Z",
     "iopub.status.busy": "2023-11-16T15:53:19.433352Z",
     "iopub.status.idle": "2023-11-16T15:53:19.438421Z",
     "shell.execute_reply": "2023-11-16T15:53:19.437525Z"
    },
    "papermill": {
     "duration": 0.146832,
     "end_time": "2023-11-16T15:53:19.440705",
     "exception": false,
     "start_time": "2023-11-16T15:53:19.293873",
     "status": "completed"
    },
    "tags": []
   },
   "outputs": [
    {
     "name": "stdout",
     "output_type": "stream",
     "text": [
      "{'brand': 'Ford', 'model': 'Mustang'}\n"
     ]
    }
   ],
   "source": [
    "car = {\n",
    "  \"brand\": \"Ford\",\n",
    "  \"model\": \"Mustang\",\n",
    "  \"year\": 1964\n",
    "}\n",
    "\n",
    "car.popitem()\n",
    "\n",
    "print(car)"
   ]
  },
  {
   "cell_type": "code",
   "execution_count": 276,
   "id": "09aaa87b",
   "metadata": {
    "execution": {
     "iopub.execute_input": "2023-11-16T15:53:19.723335Z",
     "iopub.status.busy": "2023-11-16T15:53:19.722523Z",
     "iopub.status.idle": "2023-11-16T15:53:19.728714Z",
     "shell.execute_reply": "2023-11-16T15:53:19.727746Z"
    },
    "papermill": {
     "duration": 0.150134,
     "end_time": "2023-11-16T15:53:19.730816",
     "exception": false,
     "start_time": "2023-11-16T15:53:19.580682",
     "status": "completed"
    },
    "tags": []
   },
   "outputs": [
    {
     "data": {
      "text/plain": [
       "'prasad'"
      ]
     },
     "execution_count": 276,
     "metadata": {},
     "output_type": "execute_result"
    }
   ],
   "source": [
    "a = [\"suhs\",\"mlv\",\"prasad\"]\n",
    "a.pop()"
   ]
  },
  {
   "cell_type": "code",
   "execution_count": 277,
   "id": "f7807852",
   "metadata": {
    "execution": {
     "iopub.execute_input": "2023-11-16T15:53:20.008094Z",
     "iopub.status.busy": "2023-11-16T15:53:20.007366Z",
     "iopub.status.idle": "2023-11-16T15:53:20.011608Z",
     "shell.execute_reply": "2023-11-16T15:53:20.010611Z"
    },
    "papermill": {
     "duration": 0.145601,
     "end_time": "2023-11-16T15:53:20.013602",
     "exception": false,
     "start_time": "2023-11-16T15:53:19.868001",
     "status": "completed"
    },
    "tags": []
   },
   "outputs": [],
   "source": [
    "# numpy\n",
    "\n",
    "# numerical python\n"
   ]
  },
  {
   "cell_type": "code",
   "execution_count": 278,
   "id": "02ed7cc2",
   "metadata": {
    "execution": {
     "iopub.execute_input": "2023-11-16T15:53:20.292923Z",
     "iopub.status.busy": "2023-11-16T15:53:20.292116Z",
     "iopub.status.idle": "2023-11-16T15:53:20.298178Z",
     "shell.execute_reply": "2023-11-16T15:53:20.297162Z"
    },
    "papermill": {
     "duration": 0.149136,
     "end_time": "2023-11-16T15:53:20.300248",
     "exception": false,
     "start_time": "2023-11-16T15:53:20.151112",
     "status": "completed"
    },
    "tags": []
   },
   "outputs": [
    {
     "data": {
      "text/plain": [
       "[10, 20, 30]"
      ]
     },
     "execution_count": 278,
     "metadata": {},
     "output_type": "execute_result"
    }
   ],
   "source": [
    "a = [10,20,30]\n",
    "a"
   ]
  },
  {
   "cell_type": "code",
   "execution_count": 279,
   "id": "1360361e",
   "metadata": {
    "execution": {
     "iopub.execute_input": "2023-11-16T15:53:20.626451Z",
     "iopub.status.busy": "2023-11-16T15:53:20.625841Z",
     "iopub.status.idle": "2023-11-16T15:53:20.632627Z",
     "shell.execute_reply": "2023-11-16T15:53:20.631684Z"
    },
    "papermill": {
     "duration": 0.151965,
     "end_time": "2023-11-16T15:53:20.634732",
     "exception": false,
     "start_time": "2023-11-16T15:53:20.482767",
     "status": "completed"
    },
    "tags": []
   },
   "outputs": [
    {
     "data": {
      "text/plain": [
       "array([10, 20, 30])"
      ]
     },
     "execution_count": 279,
     "metadata": {},
     "output_type": "execute_result"
    }
   ],
   "source": [
    "import numpy as np\n",
    "\n",
    "\n",
    "b = np.array([10,20,30])\n",
    "b"
   ]
  },
  {
   "cell_type": "code",
   "execution_count": 280,
   "id": "93cbe095",
   "metadata": {
    "execution": {
     "iopub.execute_input": "2023-11-16T15:53:20.930286Z",
     "iopub.status.busy": "2023-11-16T15:53:20.929961Z",
     "iopub.status.idle": "2023-11-16T15:53:20.936378Z",
     "shell.execute_reply": "2023-11-16T15:53:20.935507Z"
    },
    "papermill": {
     "duration": 0.149032,
     "end_time": "2023-11-16T15:53:20.938357",
     "exception": false,
     "start_time": "2023-11-16T15:53:20.789325",
     "status": "completed"
    },
    "tags": []
   },
   "outputs": [
    {
     "data": {
      "text/plain": [
       "10"
      ]
     },
     "execution_count": 280,
     "metadata": {},
     "output_type": "execute_result"
    }
   ],
   "source": [
    "b[0]"
   ]
  },
  {
   "cell_type": "code",
   "execution_count": 281,
   "id": "f8ba0427",
   "metadata": {
    "execution": {
     "iopub.execute_input": "2023-11-16T15:53:21.216628Z",
     "iopub.status.busy": "2023-11-16T15:53:21.216279Z",
     "iopub.status.idle": "2023-11-16T15:53:21.222359Z",
     "shell.execute_reply": "2023-11-16T15:53:21.221428Z"
    },
    "papermill": {
     "duration": 0.147145,
     "end_time": "2023-11-16T15:53:21.224345",
     "exception": false,
     "start_time": "2023-11-16T15:53:21.077200",
     "status": "completed"
    },
    "tags": []
   },
   "outputs": [
    {
     "data": {
      "text/plain": [
       "30"
      ]
     },
     "execution_count": 281,
     "metadata": {},
     "output_type": "execute_result"
    }
   ],
   "source": [
    "b[-1]"
   ]
  },
  {
   "cell_type": "code",
   "execution_count": 282,
   "id": "37365baf",
   "metadata": {
    "execution": {
     "iopub.execute_input": "2023-11-16T15:53:21.507032Z",
     "iopub.status.busy": "2023-11-16T15:53:21.506224Z",
     "iopub.status.idle": "2023-11-16T15:53:21.512697Z",
     "shell.execute_reply": "2023-11-16T15:53:21.511832Z"
    },
    "papermill": {
     "duration": 0.152214,
     "end_time": "2023-11-16T15:53:21.514739",
     "exception": false,
     "start_time": "2023-11-16T15:53:21.362525",
     "status": "completed"
    },
    "tags": []
   },
   "outputs": [
    {
     "data": {
      "text/plain": [
       "array([10, 20])"
      ]
     },
     "execution_count": 282,
     "metadata": {},
     "output_type": "execute_result"
    }
   ],
   "source": [
    "b[0:2]"
   ]
  },
  {
   "cell_type": "code",
   "execution_count": 283,
   "id": "da956e14",
   "metadata": {
    "execution": {
     "iopub.execute_input": "2023-11-16T15:53:21.805592Z",
     "iopub.status.busy": "2023-11-16T15:53:21.804889Z",
     "iopub.status.idle": "2023-11-16T15:53:21.811471Z",
     "shell.execute_reply": "2023-11-16T15:53:21.810451Z"
    },
    "papermill": {
     "duration": 0.156161,
     "end_time": "2023-11-16T15:53:21.813772",
     "exception": false,
     "start_time": "2023-11-16T15:53:21.657611",
     "status": "completed"
    },
    "tags": []
   },
   "outputs": [
    {
     "data": {
      "text/plain": [
       "array([10, 20, 30])"
      ]
     },
     "execution_count": 283,
     "metadata": {},
     "output_type": "execute_result"
    }
   ],
   "source": [
    "c = [10,20,30]\n",
    "\n",
    "d = np.array(c)\n",
    "d"
   ]
  },
  {
   "cell_type": "code",
   "execution_count": 284,
   "id": "364c9b17",
   "metadata": {
    "execution": {
     "iopub.execute_input": "2023-11-16T15:53:22.103386Z",
     "iopub.status.busy": "2023-11-16T15:53:22.102738Z",
     "iopub.status.idle": "2023-11-16T15:53:22.109711Z",
     "shell.execute_reply": "2023-11-16T15:53:22.108672Z"
    },
    "papermill": {
     "duration": 0.15422,
     "end_time": "2023-11-16T15:53:22.111806",
     "exception": false,
     "start_time": "2023-11-16T15:53:21.957586",
     "status": "completed"
    },
    "tags": []
   },
   "outputs": [
    {
     "data": {
      "text/plain": [
       "array([[0., 0., 0., 0., 0.],\n",
       "       [0., 0., 0., 0., 0.],\n",
       "       [0., 0., 0., 0., 0.],\n",
       "       [0., 0., 0., 0., 0.],\n",
       "       [0., 0., 0., 0., 0.]])"
      ]
     },
     "execution_count": 284,
     "metadata": {},
     "output_type": "execute_result"
    }
   ],
   "source": [
    "e = np.zeros((5,5))  \n",
    "e"
   ]
  },
  {
   "cell_type": "code",
   "execution_count": 285,
   "id": "f07277ef",
   "metadata": {
    "execution": {
     "iopub.execute_input": "2023-11-16T15:53:22.411795Z",
     "iopub.status.busy": "2023-11-16T15:53:22.411319Z",
     "iopub.status.idle": "2023-11-16T15:53:22.418393Z",
     "shell.execute_reply": "2023-11-16T15:53:22.417531Z"
    },
    "papermill": {
     "duration": 0.166334,
     "end_time": "2023-11-16T15:53:22.420740",
     "exception": false,
     "start_time": "2023-11-16T15:53:22.254406",
     "status": "completed"
    },
    "tags": []
   },
   "outputs": [
    {
     "data": {
      "text/plain": [
       "array([[1., 1., 1., 1., 1., 1.],\n",
       "       [1., 1., 1., 1., 1., 1.]])"
      ]
     },
     "execution_count": 285,
     "metadata": {},
     "output_type": "execute_result"
    }
   ],
   "source": [
    "f = np.ones((2,6))\n",
    "f"
   ]
  },
  {
   "cell_type": "code",
   "execution_count": 286,
   "id": "7b1cb5d3",
   "metadata": {
    "execution": {
     "iopub.execute_input": "2023-11-16T15:53:22.760291Z",
     "iopub.status.busy": "2023-11-16T15:53:22.759508Z",
     "iopub.status.idle": "2023-11-16T15:53:22.766167Z",
     "shell.execute_reply": "2023-11-16T15:53:22.765299Z"
    },
    "papermill": {
     "duration": 0.196029,
     "end_time": "2023-11-16T15:53:22.768188",
     "exception": false,
     "start_time": "2023-11-16T15:53:22.572159",
     "status": "completed"
    },
    "tags": []
   },
   "outputs": [
    {
     "data": {
      "text/plain": [
       "array([[22, 22, 22, 22, 22, 22, 22, 22],\n",
       "       [22, 22, 22, 22, 22, 22, 22, 22],\n",
       "       [22, 22, 22, 22, 22, 22, 22, 22],\n",
       "       [22, 22, 22, 22, 22, 22, 22, 22],\n",
       "       [22, 22, 22, 22, 22, 22, 22, 22]])"
      ]
     },
     "execution_count": 286,
     "metadata": {},
     "output_type": "execute_result"
    }
   ],
   "source": [
    "import numpy as np\n",
    "g = np.full((5,8),22)\n",
    "g"
   ]
  },
  {
   "cell_type": "code",
   "execution_count": 287,
   "id": "a156e6a7",
   "metadata": {
    "execution": {
     "iopub.execute_input": "2023-11-16T15:53:23.055552Z",
     "iopub.status.busy": "2023-11-16T15:53:23.054895Z",
     "iopub.status.idle": "2023-11-16T15:53:23.061008Z",
     "shell.execute_reply": "2023-11-16T15:53:23.060144Z"
    },
    "papermill": {
     "duration": 0.150107,
     "end_time": "2023-11-16T15:53:23.063033",
     "exception": false,
     "start_time": "2023-11-16T15:53:22.912926",
     "status": "completed"
    },
    "tags": []
   },
   "outputs": [
    {
     "data": {
      "text/plain": [
       "array([2, 3, 4])"
      ]
     },
     "execution_count": 287,
     "metadata": {},
     "output_type": "execute_result"
    }
   ],
   "source": [
    "# range(5) = [0,1,2,3,4]\n",
    "\n",
    "h = np.arange(2,5)\n",
    "h"
   ]
  },
  {
   "cell_type": "code",
   "execution_count": 288,
   "id": "18fa896e",
   "metadata": {
    "execution": {
     "iopub.execute_input": "2023-11-16T15:53:23.357556Z",
     "iopub.status.busy": "2023-11-16T15:53:23.356818Z",
     "iopub.status.idle": "2023-11-16T15:53:23.363706Z",
     "shell.execute_reply": "2023-11-16T15:53:23.362851Z"
    },
    "papermill": {
     "duration": 0.155728,
     "end_time": "2023-11-16T15:53:23.365839",
     "exception": false,
     "start_time": "2023-11-16T15:53:23.210111",
     "status": "completed"
    },
    "tags": []
   },
   "outputs": [
    {
     "data": {
      "text/plain": [
       "array([ 2,  4,  6,  8, 10, 12])"
      ]
     },
     "execution_count": 288,
     "metadata": {},
     "output_type": "execute_result"
    }
   ],
   "source": [
    "i = np.linspace(2,12,6).astype(\"int\")\n",
    "i"
   ]
  },
  {
   "cell_type": "code",
   "execution_count": 289,
   "id": "5eb5e0a3",
   "metadata": {
    "execution": {
     "iopub.execute_input": "2023-11-16T15:53:23.663633Z",
     "iopub.status.busy": "2023-11-16T15:53:23.662940Z",
     "iopub.status.idle": "2023-11-16T15:53:23.669940Z",
     "shell.execute_reply": "2023-11-16T15:53:23.669024Z"
    },
    "papermill": {
     "duration": 0.153221,
     "end_time": "2023-11-16T15:53:23.672287",
     "exception": false,
     "start_time": "2023-11-16T15:53:23.519066",
     "status": "completed"
    },
    "tags": []
   },
   "outputs": [
    {
     "data": {
      "text/plain": [
       "array([[19.88907673, 74.41483933, 57.79263519, 37.30350629, 60.49935743],\n",
       "       [61.44528441, 12.35505127, 12.43180928, 32.58892416, 12.05715709],\n",
       "       [10.30527946, 24.69413112,  5.19413926, 56.55037526, 27.92703492],\n",
       "       [29.721327  , 49.61976794, 99.31500734, 87.44701711, 84.07704429],\n",
       "       [19.34948765, 96.24519272, 90.79234511, 98.01479834, 69.64936108]])"
      ]
     },
     "execution_count": 289,
     "metadata": {},
     "output_type": "execute_result"
    }
   ],
   "source": [
    "a = np.random.rand(5,5)* 100 # 0 - 1\n",
    "a"
   ]
  },
  {
   "cell_type": "code",
   "execution_count": 290,
   "id": "e7d3e4a8",
   "metadata": {
    "execution": {
     "iopub.execute_input": "2023-11-16T15:53:23.959362Z",
     "iopub.status.busy": "2023-11-16T15:53:23.958683Z",
     "iopub.status.idle": "2023-11-16T15:53:23.966771Z",
     "shell.execute_reply": "2023-11-16T15:53:23.965802Z"
    },
    "papermill": {
     "duration": 0.154166,
     "end_time": "2023-11-16T15:53:23.969034",
     "exception": false,
     "start_time": "2023-11-16T15:53:23.814868",
     "status": "completed"
    },
    "tags": []
   },
   "outputs": [
    {
     "data": {
      "text/plain": [
       "array([[16, 19, 13],\n",
       "       [18, 11, 14]])"
      ]
     },
     "execution_count": 290,
     "metadata": {},
     "output_type": "execute_result"
    }
   ],
   "source": [
    "b = np.random.randint(10,20,(2,3))\n",
    "b"
   ]
  },
  {
   "cell_type": "code",
   "execution_count": 291,
   "id": "e3d556e2",
   "metadata": {
    "execution": {
     "iopub.execute_input": "2023-11-16T15:53:24.258445Z",
     "iopub.status.busy": "2023-11-16T15:53:24.257663Z",
     "iopub.status.idle": "2023-11-16T15:53:24.264146Z",
     "shell.execute_reply": "2023-11-16T15:53:24.263234Z"
    },
    "papermill": {
     "duration": 0.150382,
     "end_time": "2023-11-16T15:53:24.266098",
     "exception": false,
     "start_time": "2023-11-16T15:53:24.115716",
     "status": "completed"
    },
    "tags": []
   },
   "outputs": [
    {
     "data": {
      "text/plain": [
       "[[1, 2, 3], [4, 5, 6]]"
      ]
     },
     "execution_count": 291,
     "metadata": {},
     "output_type": "execute_result"
    }
   ],
   "source": [
    "a = [[1,2,3],[4,5,6]]\n",
    "a"
   ]
  },
  {
   "cell_type": "code",
   "execution_count": 292,
   "id": "9ff8a2b3",
   "metadata": {
    "execution": {
     "iopub.execute_input": "2023-11-16T15:53:24.552952Z",
     "iopub.status.busy": "2023-11-16T15:53:24.552150Z",
     "iopub.status.idle": "2023-11-16T15:53:24.558401Z",
     "shell.execute_reply": "2023-11-16T15:53:24.557527Z"
    },
    "papermill": {
     "duration": 0.150702,
     "end_time": "2023-11-16T15:53:24.560401",
     "exception": false,
     "start_time": "2023-11-16T15:53:24.409699",
     "status": "completed"
    },
    "tags": []
   },
   "outputs": [
    {
     "data": {
      "text/plain": [
       "array([[1, 2, 3],\n",
       "       [4, 5, 6]])"
      ]
     },
     "execution_count": 292,
     "metadata": {},
     "output_type": "execute_result"
    }
   ],
   "source": [
    "b = np.array(a)\n",
    "b"
   ]
  },
  {
   "cell_type": "code",
   "execution_count": 293,
   "id": "e6083f2f",
   "metadata": {
    "execution": {
     "iopub.execute_input": "2023-11-16T15:53:24.848116Z",
     "iopub.status.busy": "2023-11-16T15:53:24.847757Z",
     "iopub.status.idle": "2023-11-16T15:53:24.852126Z",
     "shell.execute_reply": "2023-11-16T15:53:24.851095Z"
    },
    "papermill": {
     "duration": 0.151697,
     "end_time": "2023-11-16T15:53:24.854076",
     "exception": false,
     "start_time": "2023-11-16T15:53:24.702379",
     "status": "completed"
    },
    "tags": []
   },
   "outputs": [],
   "source": [
    "a = np.zeros((10,10))\n",
    "b = a[:5,:]"
   ]
  },
  {
   "cell_type": "code",
   "execution_count": 294,
   "id": "b496adcb",
   "metadata": {
    "execution": {
     "iopub.execute_input": "2023-11-16T15:53:25.145196Z",
     "iopub.status.busy": "2023-11-16T15:53:25.144839Z",
     "iopub.status.idle": "2023-11-16T15:53:25.150856Z",
     "shell.execute_reply": "2023-11-16T15:53:25.150021Z"
    },
    "papermill": {
     "duration": 0.153166,
     "end_time": "2023-11-16T15:53:25.153061",
     "exception": false,
     "start_time": "2023-11-16T15:53:24.999895",
     "status": "completed"
    },
    "tags": []
   },
   "outputs": [
    {
     "data": {
      "text/plain": [
       "10"
      ]
     },
     "execution_count": 294,
     "metadata": {},
     "output_type": "execute_result"
    }
   ],
   "source": [
    "b.shape[1]"
   ]
  },
  {
   "cell_type": "code",
   "execution_count": 295,
   "id": "3fb44439",
   "metadata": {
    "execution": {
     "iopub.execute_input": "2023-11-16T15:53:25.441202Z",
     "iopub.status.busy": "2023-11-16T15:53:25.440588Z",
     "iopub.status.idle": "2023-11-16T15:53:25.447841Z",
     "shell.execute_reply": "2023-11-16T15:53:25.446865Z"
    },
    "papermill": {
     "duration": 0.154003,
     "end_time": "2023-11-16T15:53:25.449677",
     "exception": false,
     "start_time": "2023-11-16T15:53:25.295674",
     "status": "completed"
    },
    "tags": []
   },
   "outputs": [
    {
     "data": {
      "text/plain": [
       "array([[0, 0, 0, 0, 0, 0, 0, 0]])"
      ]
     },
     "execution_count": 295,
     "metadata": {},
     "output_type": "execute_result"
    }
   ],
   "source": [
    "a = [[0,0,0,0],[0,0,0,0]]\n",
    "b = np.array(a)\n",
    "b.reshape((1,8))"
   ]
  },
  {
   "cell_type": "code",
   "execution_count": 296,
   "id": "7b7d594d",
   "metadata": {
    "execution": {
     "iopub.execute_input": "2023-11-16T15:53:25.782845Z",
     "iopub.status.busy": "2023-11-16T15:53:25.781969Z",
     "iopub.status.idle": "2023-11-16T15:53:25.789158Z",
     "shell.execute_reply": "2023-11-16T15:53:25.787997Z"
    },
    "papermill": {
     "duration": 0.153113,
     "end_time": "2023-11-16T15:53:25.791171",
     "exception": false,
     "start_time": "2023-11-16T15:53:25.638058",
     "status": "completed"
    },
    "tags": []
   },
   "outputs": [
    {
     "data": {
      "text/plain": [
       "array([[0],\n",
       "       [0],\n",
       "       [0],\n",
       "       [0]])"
      ]
     },
     "execution_count": 296,
     "metadata": {},
     "output_type": "execute_result"
    }
   ],
   "source": [
    "a = [0,0,0,0]\n",
    "b = np.array(a)\n",
    "b= b[:,np.newaxis]\n",
    "b"
   ]
  },
  {
   "cell_type": "code",
   "execution_count": 297,
   "id": "1bda987e",
   "metadata": {
    "execution": {
     "iopub.execute_input": "2023-11-16T15:53:26.078516Z",
     "iopub.status.busy": "2023-11-16T15:53:26.077836Z",
     "iopub.status.idle": "2023-11-16T15:53:26.083674Z",
     "shell.execute_reply": "2023-11-16T15:53:26.082828Z"
    },
    "papermill": {
     "duration": 0.150998,
     "end_time": "2023-11-16T15:53:26.085584",
     "exception": false,
     "start_time": "2023-11-16T15:53:25.934586",
     "status": "completed"
    },
    "tags": []
   },
   "outputs": [
    {
     "data": {
      "text/plain": [
       "dtype('int64')"
      ]
     },
     "execution_count": 297,
     "metadata": {},
     "output_type": "execute_result"
    }
   ],
   "source": [
    "b.dtype"
   ]
  },
  {
   "cell_type": "code",
   "execution_count": 298,
   "id": "a599e8ac",
   "metadata": {
    "execution": {
     "iopub.execute_input": "2023-11-16T15:53:26.379877Z",
     "iopub.status.busy": "2023-11-16T15:53:26.379525Z",
     "iopub.status.idle": "2023-11-16T15:53:26.386417Z",
     "shell.execute_reply": "2023-11-16T15:53:26.385532Z"
    },
    "papermill": {
     "duration": 0.156468,
     "end_time": "2023-11-16T15:53:26.388732",
     "exception": false,
     "start_time": "2023-11-16T15:53:26.232264",
     "status": "completed"
    },
    "tags": []
   },
   "outputs": [
    {
     "data": {
      "text/plain": [
       "array([0., 1., 0., 0.])"
      ]
     },
     "execution_count": 298,
     "metadata": {},
     "output_type": "execute_result"
    }
   ],
   "source": [
    "a = [0,1,0,0]\n",
    "b = np.array(a,dtype= float)\n",
    "b"
   ]
  },
  {
   "cell_type": "code",
   "execution_count": 299,
   "id": "9e363f0c",
   "metadata": {
    "execution": {
     "iopub.execute_input": "2023-11-16T15:53:26.682037Z",
     "iopub.status.busy": "2023-11-16T15:53:26.681388Z",
     "iopub.status.idle": "2023-11-16T15:53:26.688097Z",
     "shell.execute_reply": "2023-11-16T15:53:26.687207Z"
    },
    "papermill": {
     "duration": 0.153072,
     "end_time": "2023-11-16T15:53:26.690113",
     "exception": false,
     "start_time": "2023-11-16T15:53:26.537041",
     "status": "completed"
    },
    "tags": []
   },
   "outputs": [
    {
     "data": {
      "text/plain": [
       "[100, 120, 115, 140, 10, 10, 10, 10]"
      ]
     },
     "execution_count": 299,
     "metadata": {},
     "output_type": "execute_result"
    }
   ],
   "source": [
    "a = [100,120,115,140]\n",
    "b = [10,10,10,10]\n",
    "a + b"
   ]
  },
  {
   "cell_type": "code",
   "execution_count": 300,
   "id": "161f1aee",
   "metadata": {
    "execution": {
     "iopub.execute_input": "2023-11-16T15:53:26.985623Z",
     "iopub.status.busy": "2023-11-16T15:53:26.984709Z",
     "iopub.status.idle": "2023-11-16T15:53:26.992681Z",
     "shell.execute_reply": "2023-11-16T15:53:26.991539Z"
    },
    "papermill": {
     "duration": 0.157001,
     "end_time": "2023-11-16T15:53:26.995176",
     "exception": false,
     "start_time": "2023-11-16T15:53:26.838175",
     "status": "completed"
    },
    "tags": []
   },
   "outputs": [
    {
     "data": {
      "text/plain": [
       "array([110. , 132. , 126.5, 154. ])"
      ]
     },
     "execution_count": 300,
     "metadata": {},
     "output_type": "execute_result"
    }
   ],
   "source": [
    "a = np.array([100,120,115,140])\n",
    "b = np.array([1.1,1.1,1.1,1.1])\n",
    "a * b"
   ]
  },
  {
   "cell_type": "code",
   "execution_count": 301,
   "id": "11a234b5",
   "metadata": {
    "execution": {
     "iopub.execute_input": "2023-11-16T15:53:27.285152Z",
     "iopub.status.busy": "2023-11-16T15:53:27.284348Z",
     "iopub.status.idle": "2023-11-16T15:53:27.291548Z",
     "shell.execute_reply": "2023-11-16T15:53:27.290603Z"
    },
    "papermill": {
     "duration": 0.152505,
     "end_time": "2023-11-16T15:53:27.293579",
     "exception": false,
     "start_time": "2023-11-16T15:53:27.141074",
     "status": "completed"
    },
    "tags": []
   },
   "outputs": [
    {
     "data": {
      "text/plain": [
       "array([110. , 132. , 126.5, 154. ])"
      ]
     },
     "execution_count": 301,
     "metadata": {},
     "output_type": "execute_result"
    }
   ],
   "source": [
    "a = np.array([100,120,115,140])\n",
    "b = 1.1\n",
    "a * b"
   ]
  },
  {
   "cell_type": "code",
   "execution_count": 302,
   "id": "8f62c3bc",
   "metadata": {
    "execution": {
     "iopub.execute_input": "2023-11-16T15:53:27.588957Z",
     "iopub.status.busy": "2023-11-16T15:53:27.588630Z",
     "iopub.status.idle": "2023-11-16T15:53:27.595045Z",
     "shell.execute_reply": "2023-11-16T15:53:27.594215Z"
    },
    "papermill": {
     "duration": 0.153789,
     "end_time": "2023-11-16T15:53:27.597029",
     "exception": false,
     "start_time": "2023-11-16T15:53:27.443240",
     "status": "completed"
    },
    "tags": []
   },
   "outputs": [
    {
     "data": {
      "text/plain": [
       "475"
      ]
     },
     "execution_count": 302,
     "metadata": {},
     "output_type": "execute_result"
    }
   ],
   "source": [
    "a = np.array([100,120,115,140])\n",
    "\n",
    "np.sum(a)"
   ]
  },
  {
   "cell_type": "code",
   "execution_count": 303,
   "id": "aa408621",
   "metadata": {
    "execution": {
     "iopub.execute_input": "2023-11-16T15:53:27.890722Z",
     "iopub.status.busy": "2023-11-16T15:53:27.890367Z",
     "iopub.status.idle": "2023-11-16T15:53:27.896933Z",
     "shell.execute_reply": "2023-11-16T15:53:27.895782Z"
    },
    "papermill": {
     "duration": 0.156598,
     "end_time": "2023-11-16T15:53:27.899250",
     "exception": false,
     "start_time": "2023-11-16T15:53:27.742652",
     "status": "completed"
    },
    "tags": []
   },
   "outputs": [
    {
     "data": {
      "text/plain": [
       "140"
      ]
     },
     "execution_count": 303,
     "metadata": {},
     "output_type": "execute_result"
    }
   ],
   "source": [
    "np.max(a)"
   ]
  },
  {
   "cell_type": "code",
   "execution_count": 304,
   "id": "ef86d11f",
   "metadata": {
    "execution": {
     "iopub.execute_input": "2023-11-16T15:53:28.198291Z",
     "iopub.status.busy": "2023-11-16T15:53:28.197949Z",
     "iopub.status.idle": "2023-11-16T15:53:28.204196Z",
     "shell.execute_reply": "2023-11-16T15:53:28.203261Z"
    },
    "papermill": {
     "duration": 0.153792,
     "end_time": "2023-11-16T15:53:28.206143",
     "exception": false,
     "start_time": "2023-11-16T15:53:28.052351",
     "status": "completed"
    },
    "tags": []
   },
   "outputs": [
    {
     "data": {
      "text/plain": [
       "100"
      ]
     },
     "execution_count": 304,
     "metadata": {},
     "output_type": "execute_result"
    }
   ],
   "source": [
    "np.min(a)"
   ]
  },
  {
   "cell_type": "code",
   "execution_count": 305,
   "id": "c105c084",
   "metadata": {
    "execution": {
     "iopub.execute_input": "2023-11-16T15:53:28.536300Z",
     "iopub.status.busy": "2023-11-16T15:53:28.535409Z",
     "iopub.status.idle": "2023-11-16T15:53:28.541801Z",
     "shell.execute_reply": "2023-11-16T15:53:28.540871Z"
    },
    "papermill": {
     "duration": 0.195575,
     "end_time": "2023-11-16T15:53:28.543808",
     "exception": false,
     "start_time": "2023-11-16T15:53:28.348233",
     "status": "completed"
    },
    "tags": []
   },
   "outputs": [
    {
     "data": {
      "text/plain": [
       "204.6875"
      ]
     },
     "execution_count": 305,
     "metadata": {},
     "output_type": "execute_result"
    }
   ],
   "source": [
    "np.var(a)"
   ]
  },
  {
   "cell_type": "code",
   "execution_count": 306,
   "id": "9bf04ea5",
   "metadata": {
    "execution": {
     "iopub.execute_input": "2023-11-16T15:53:28.841724Z",
     "iopub.status.busy": "2023-11-16T15:53:28.841012Z",
     "iopub.status.idle": "2023-11-16T15:53:28.847809Z",
     "shell.execute_reply": "2023-11-16T15:53:28.846860Z"
    },
    "papermill": {
     "duration": 0.158039,
     "end_time": "2023-11-16T15:53:28.849840",
     "exception": false,
     "start_time": "2023-11-16T15:53:28.691801",
     "status": "completed"
    },
    "tags": []
   },
   "outputs": [
    {
     "data": {
      "text/plain": [
       "14.306903927824496"
      ]
     },
     "execution_count": 306,
     "metadata": {},
     "output_type": "execute_result"
    }
   ],
   "source": [
    "np.std(a)"
   ]
  },
  {
   "cell_type": "code",
   "execution_count": 307,
   "id": "e49e6f0b",
   "metadata": {
    "execution": {
     "iopub.execute_input": "2023-11-16T15:53:29.141953Z",
     "iopub.status.busy": "2023-11-16T15:53:29.141558Z",
     "iopub.status.idle": "2023-11-16T15:53:29.148171Z",
     "shell.execute_reply": "2023-11-16T15:53:29.147244Z"
    },
    "papermill": {
     "duration": 0.154956,
     "end_time": "2023-11-16T15:53:29.150359",
     "exception": false,
     "start_time": "2023-11-16T15:53:28.995403",
     "status": "completed"
    },
    "tags": []
   },
   "outputs": [
    {
     "data": {
      "text/plain": [
       "array([10.        , 10.95445115, 10.72380529, 11.83215957])"
      ]
     },
     "execution_count": 307,
     "metadata": {},
     "output_type": "execute_result"
    }
   ],
   "source": [
    "np.sqrt(a)"
   ]
  },
  {
   "cell_type": "code",
   "execution_count": 308,
   "id": "ace7ee2c",
   "metadata": {
    "execution": {
     "iopub.execute_input": "2023-11-16T15:53:29.456395Z",
     "iopub.status.busy": "2023-11-16T15:53:29.456049Z",
     "iopub.status.idle": "2023-11-16T15:53:29.462933Z",
     "shell.execute_reply": "2023-11-16T15:53:29.461929Z"
    },
    "papermill": {
     "duration": 0.161622,
     "end_time": "2023-11-16T15:53:29.465262",
     "exception": false,
     "start_time": "2023-11-16T15:53:29.303640",
     "status": "completed"
    },
    "tags": []
   },
   "outputs": [
    {
     "data": {
      "text/plain": [
       "array([ 0.86231887,  0.81418097, -0.32580981, -0.19781357])"
      ]
     },
     "execution_count": 308,
     "metadata": {},
     "output_type": "execute_result"
    }
   ],
   "source": [
    "np.cos(a)"
   ]
  },
  {
   "cell_type": "code",
   "execution_count": 309,
   "id": "76e1f96c",
   "metadata": {
    "execution": {
     "iopub.execute_input": "2023-11-16T15:53:29.767715Z",
     "iopub.status.busy": "2023-11-16T15:53:29.766829Z",
     "iopub.status.idle": "2023-11-16T15:53:29.773856Z",
     "shell.execute_reply": "2023-11-16T15:53:29.772913Z"
    },
    "papermill": {
     "duration": 0.156246,
     "end_time": "2023-11-16T15:53:29.776163",
     "exception": false,
     "start_time": "2023-11-16T15:53:29.619917",
     "status": "completed"
    },
    "tags": []
   },
   "outputs": [
    {
     "data": {
      "text/plain": [
       "array([2.68811714e+43, 1.30418088e+52, 8.78750164e+49, 6.32743171e+60])"
      ]
     },
     "execution_count": 309,
     "metadata": {},
     "output_type": "execute_result"
    }
   ],
   "source": [
    "np.exp(a)"
   ]
  },
  {
   "cell_type": "code",
   "execution_count": 310,
   "id": "004ee19e",
   "metadata": {
    "execution": {
     "iopub.execute_input": "2023-11-16T15:53:30.064219Z",
     "iopub.status.busy": "2023-11-16T15:53:30.063584Z",
     "iopub.status.idle": "2023-11-16T15:53:30.069881Z",
     "shell.execute_reply": "2023-11-16T15:53:30.068961Z"
    },
    "papermill": {
     "duration": 0.151048,
     "end_time": "2023-11-16T15:53:30.071911",
     "exception": false,
     "start_time": "2023-11-16T15:53:29.920863",
     "status": "completed"
    },
    "tags": []
   },
   "outputs": [
    {
     "data": {
      "text/plain": [
       "118.75"
      ]
     },
     "execution_count": 310,
     "metadata": {},
     "output_type": "execute_result"
    }
   ],
   "source": [
    "np.mean(a)"
   ]
  },
  {
   "cell_type": "code",
   "execution_count": 311,
   "id": "b368d97c",
   "metadata": {
    "execution": {
     "iopub.execute_input": "2023-11-16T15:53:30.371465Z",
     "iopub.status.busy": "2023-11-16T15:53:30.370644Z",
     "iopub.status.idle": "2023-11-16T15:53:30.379989Z",
     "shell.execute_reply": "2023-11-16T15:53:30.378749Z"
    },
    "papermill": {
     "duration": 0.164355,
     "end_time": "2023-11-16T15:53:30.382115",
     "exception": false,
     "start_time": "2023-11-16T15:53:30.217760",
     "status": "completed"
    },
    "tags": []
   },
   "outputs": [
    {
     "data": {
      "text/plain": [
       "117.5"
      ]
     },
     "execution_count": 311,
     "metadata": {},
     "output_type": "execute_result"
    }
   ],
   "source": [
    "np.median(a)"
   ]
  },
  {
   "cell_type": "code",
   "execution_count": 312,
   "id": "be4943e0",
   "metadata": {
    "execution": {
     "iopub.execute_input": "2023-11-16T15:53:30.677944Z",
     "iopub.status.busy": "2023-11-16T15:53:30.677585Z",
     "iopub.status.idle": "2023-11-16T15:53:30.684199Z",
     "shell.execute_reply": "2023-11-16T15:53:30.683318Z"
    },
    "papermill": {
     "duration": 0.154082,
     "end_time": "2023-11-16T15:53:30.686040",
     "exception": false,
     "start_time": "2023-11-16T15:53:30.531958",
     "status": "completed"
    },
    "tags": []
   },
   "outputs": [
    {
     "data": {
      "text/plain": [
       "array([100, 115, 120, 140])"
      ]
     },
     "execution_count": 312,
     "metadata": {},
     "output_type": "execute_result"
    }
   ],
   "source": [
    "np.sort(a)"
   ]
  },
  {
   "cell_type": "code",
   "execution_count": 313,
   "id": "05ba4411",
   "metadata": {
    "execution": {
     "iopub.execute_input": "2023-11-16T15:53:30.981128Z",
     "iopub.status.busy": "2023-11-16T15:53:30.980790Z",
     "iopub.status.idle": "2023-11-16T15:53:30.984928Z",
     "shell.execute_reply": "2023-11-16T15:53:30.984047Z"
    },
    "papermill": {
     "duration": 0.154335,
     "end_time": "2023-11-16T15:53:30.986944",
     "exception": false,
     "start_time": "2023-11-16T15:53:30.832609",
     "status": "completed"
    },
    "tags": []
   },
   "outputs": [],
   "source": [
    "# np.sort(a,reverse = True)"
   ]
  },
  {
   "cell_type": "code",
   "execution_count": 314,
   "id": "a7700582",
   "metadata": {
    "execution": {
     "iopub.execute_input": "2023-11-16T15:53:31.273615Z",
     "iopub.status.busy": "2023-11-16T15:53:31.273238Z",
     "iopub.status.idle": "2023-11-16T15:53:31.277336Z",
     "shell.execute_reply": "2023-11-16T15:53:31.276475Z"
    },
    "papermill": {
     "duration": 0.150068,
     "end_time": "2023-11-16T15:53:31.279295",
     "exception": false,
     "start_time": "2023-11-16T15:53:31.129227",
     "status": "completed"
    },
    "tags": []
   },
   "outputs": [],
   "source": [
    "# help(np.sort(a))"
   ]
  },
  {
   "cell_type": "code",
   "execution_count": 315,
   "id": "c0515af0",
   "metadata": {
    "execution": {
     "iopub.execute_input": "2023-11-16T15:53:31.625895Z",
     "iopub.status.busy": "2023-11-16T15:53:31.625534Z",
     "iopub.status.idle": "2023-11-16T15:53:31.631914Z",
     "shell.execute_reply": "2023-11-16T15:53:31.631012Z"
    },
    "papermill": {
     "duration": 0.158573,
     "end_time": "2023-11-16T15:53:31.633985",
     "exception": false,
     "start_time": "2023-11-16T15:53:31.475412",
     "status": "completed"
    },
    "tags": []
   },
   "outputs": [
    {
     "data": {
      "text/plain": [
       "array([140, 120, 115, 100])"
      ]
     },
     "execution_count": 315,
     "metadata": {},
     "output_type": "execute_result"
    }
   ],
   "source": [
    "np.sort(a)[::-1]"
   ]
  },
  {
   "cell_type": "code",
   "execution_count": 316,
   "id": "39124312",
   "metadata": {
    "execution": {
     "iopub.execute_input": "2023-11-16T15:53:31.925260Z",
     "iopub.status.busy": "2023-11-16T15:53:31.924919Z",
     "iopub.status.idle": "2023-11-16T15:53:31.931030Z",
     "shell.execute_reply": "2023-11-16T15:53:31.930135Z"
    },
    "papermill": {
     "duration": 0.15457,
     "end_time": "2023-11-16T15:53:31.933200",
     "exception": false,
     "start_time": "2023-11-16T15:53:31.778630",
     "status": "completed"
    },
    "tags": []
   },
   "outputs": [
    {
     "data": {
      "text/plain": [
       "[20, 15, 10]"
      ]
     },
     "execution_count": 316,
     "metadata": {},
     "output_type": "execute_result"
    }
   ],
   "source": [
    "a = [10,20,15]\n",
    "sorted(a,reverse = True)\n"
   ]
  },
  {
   "cell_type": "code",
   "execution_count": 317,
   "id": "d7978885",
   "metadata": {
    "execution": {
     "iopub.execute_input": "2023-11-16T15:53:32.228551Z",
     "iopub.status.busy": "2023-11-16T15:53:32.228193Z",
     "iopub.status.idle": "2023-11-16T15:53:32.233171Z",
     "shell.execute_reply": "2023-11-16T15:53:32.232260Z"
    },
    "papermill": {
     "duration": 0.155257,
     "end_time": "2023-11-16T15:53:32.235594",
     "exception": false,
     "start_time": "2023-11-16T15:53:32.080337",
     "status": "completed"
    },
    "tags": []
   },
   "outputs": [
    {
     "name": "stdout",
     "output_type": "stream",
     "text": [
      "None\n"
     ]
    }
   ],
   "source": [
    "a = [10,20,30,15]\n",
    "print(a.sort())\n"
   ]
  },
  {
   "cell_type": "code",
   "execution_count": 318,
   "id": "4d245d7b",
   "metadata": {
    "execution": {
     "iopub.execute_input": "2023-11-16T15:53:32.549559Z",
     "iopub.status.busy": "2023-11-16T15:53:32.548967Z",
     "iopub.status.idle": "2023-11-16T15:53:32.555627Z",
     "shell.execute_reply": "2023-11-16T15:53:32.554681Z"
    },
    "papermill": {
     "duration": 0.157177,
     "end_time": "2023-11-16T15:53:32.558840",
     "exception": false,
     "start_time": "2023-11-16T15:53:32.401663",
     "status": "completed"
    },
    "tags": []
   },
   "outputs": [
    {
     "data": {
      "text/plain": [
       "[10, 15, 20, 30]"
      ]
     },
     "execution_count": 318,
     "metadata": {},
     "output_type": "execute_result"
    }
   ],
   "source": [
    "sorted(a)"
   ]
  },
  {
   "cell_type": "code",
   "execution_count": 319,
   "id": "9c7c7d94",
   "metadata": {
    "execution": {
     "iopub.execute_input": "2023-11-16T15:53:32.855329Z",
     "iopub.status.busy": "2023-11-16T15:53:32.854985Z",
     "iopub.status.idle": "2023-11-16T15:53:32.860949Z",
     "shell.execute_reply": "2023-11-16T15:53:32.860131Z"
    },
    "papermill": {
     "duration": 0.158103,
     "end_time": "2023-11-16T15:53:32.863019",
     "exception": false,
     "start_time": "2023-11-16T15:53:32.704916",
     "status": "completed"
    },
    "tags": []
   },
   "outputs": [
    {
     "data": {
      "text/plain": [
       "[9, 10]"
      ]
     },
     "execution_count": 319,
     "metadata": {},
     "output_type": "execute_result"
    }
   ],
   "source": [
    "b = [10,9]\n",
    "b.sort()\n",
    "b"
   ]
  },
  {
   "cell_type": "code",
   "execution_count": 320,
   "id": "84f69037",
   "metadata": {
    "execution": {
     "iopub.execute_input": "2023-11-16T15:53:33.158369Z",
     "iopub.status.busy": "2023-11-16T15:53:33.158020Z",
     "iopub.status.idle": "2023-11-16T15:53:33.161983Z",
     "shell.execute_reply": "2023-11-16T15:53:33.161050Z"
    },
    "papermill": {
     "duration": 0.153274,
     "end_time": "2023-11-16T15:53:33.164084",
     "exception": false,
     "start_time": "2023-11-16T15:53:33.010810",
     "status": "completed"
    },
    "tags": []
   },
   "outputs": [],
   "source": [
    "# sort  inplace\n",
    "# soerted new list\n",
    "\n",
    "\n",
    "# np.sort()  new list "
   ]
  },
  {
   "cell_type": "code",
   "execution_count": 321,
   "id": "5c688af5",
   "metadata": {
    "execution": {
     "iopub.execute_input": "2023-11-16T15:53:33.458157Z",
     "iopub.status.busy": "2023-11-16T15:53:33.457369Z",
     "iopub.status.idle": "2023-11-16T15:53:33.464791Z",
     "shell.execute_reply": "2023-11-16T15:53:33.463762Z"
    },
    "papermill": {
     "duration": 0.156665,
     "end_time": "2023-11-16T15:53:33.466774",
     "exception": false,
     "start_time": "2023-11-16T15:53:33.310109",
     "status": "completed"
    },
    "tags": []
   },
   "outputs": [
    {
     "data": {
      "text/plain": [
       "(array([0, 1, 4]),)"
      ]
     },
     "execution_count": 321,
     "metadata": {},
     "output_type": "execute_result"
    }
   ],
   "source": [
    "import numpy as np\n",
    "\n",
    "a = np.array([90,85,60,79,90])\n",
    "\n",
    "\n",
    "np.where ( a > 80)\n"
   ]
  },
  {
   "cell_type": "code",
   "execution_count": 322,
   "id": "49145cb5",
   "metadata": {
    "execution": {
     "iopub.execute_input": "2023-11-16T15:53:33.766691Z",
     "iopub.status.busy": "2023-11-16T15:53:33.766345Z",
     "iopub.status.idle": "2023-11-16T15:53:33.773390Z",
     "shell.execute_reply": "2023-11-16T15:53:33.772441Z"
    },
    "papermill": {
     "duration": 0.158707,
     "end_time": "2023-11-16T15:53:33.775405",
     "exception": false,
     "start_time": "2023-11-16T15:53:33.616698",
     "status": "completed"
    },
    "tags": []
   },
   "outputs": [
    {
     "data": {
      "text/plain": [
       "array([[0.52191572, 0.69940637, 0.26986897],\n",
       "       [0.67448187, 0.90807208, 0.6851502 ]])"
      ]
     },
     "execution_count": 322,
     "metadata": {},
     "output_type": "execute_result"
    }
   ],
   "source": [
    "#seed\n",
    "np.random.seed(80)\n",
    "a = np.random.rand(2,3)\n",
    "a"
   ]
  },
  {
   "cell_type": "code",
   "execution_count": 323,
   "id": "5af69f0b",
   "metadata": {
    "execution": {
     "iopub.execute_input": "2023-11-16T15:53:34.075167Z",
     "iopub.status.busy": "2023-11-16T15:53:34.074765Z",
     "iopub.status.idle": "2023-11-16T15:53:34.081375Z",
     "shell.execute_reply": "2023-11-16T15:53:34.080448Z"
    },
    "papermill": {
     "duration": 0.159671,
     "end_time": "2023-11-16T15:53:34.083556",
     "exception": false,
     "start_time": "2023-11-16T15:53:33.923885",
     "status": "completed"
    },
    "tags": []
   },
   "outputs": [
    {
     "data": {
      "text/plain": [
       "array([[0.21165334, 0.31726607, 0.2672994 ],\n",
       "       [0.12050632, 0.9968569 , 0.08043969]])"
      ]
     },
     "execution_count": 323,
     "metadata": {},
     "output_type": "execute_result"
    }
   ],
   "source": [
    "a = np.random.rand(2,3)\n",
    "a"
   ]
  },
  {
   "cell_type": "code",
   "execution_count": 324,
   "id": "bd7dd129",
   "metadata": {
    "execution": {
     "iopub.execute_input": "2023-11-16T15:53:34.420213Z",
     "iopub.status.busy": "2023-11-16T15:53:34.419385Z",
     "iopub.status.idle": "2023-11-16T15:53:34.426068Z",
     "shell.execute_reply": "2023-11-16T15:53:34.425218Z"
    },
    "papermill": {
     "duration": 0.200423,
     "end_time": "2023-11-16T15:53:34.428395",
     "exception": false,
     "start_time": "2023-11-16T15:53:34.227972",
     "status": "completed"
    },
    "tags": []
   },
   "outputs": [
    {
     "data": {
      "text/plain": [
       "array([[0.52191572, 0.69940637, 0.26986897],\n",
       "       [0.67448187, 0.90807208, 0.6851502 ]])"
      ]
     },
     "execution_count": 324,
     "metadata": {},
     "output_type": "execute_result"
    }
   ],
   "source": [
    "np.random.seed(80)\n",
    "a = np.random.rand(2,3)\n",
    "a"
   ]
  },
  {
   "cell_type": "code",
   "execution_count": 325,
   "id": "73086479",
   "metadata": {
    "execution": {
     "iopub.execute_input": "2023-11-16T15:53:34.733436Z",
     "iopub.status.busy": "2023-11-16T15:53:34.733111Z",
     "iopub.status.idle": "2023-11-16T15:53:34.739392Z",
     "shell.execute_reply": "2023-11-16T15:53:34.738547Z"
    },
    "papermill": {
     "duration": 0.153965,
     "end_time": "2023-11-16T15:53:34.741595",
     "exception": false,
     "start_time": "2023-11-16T15:53:34.587630",
     "status": "completed"
    },
    "tags": []
   },
   "outputs": [
    {
     "data": {
      "text/plain": [
       "array([20., 28., 36., 44., 52., 60.])"
      ]
     },
     "execution_count": 325,
     "metadata": {},
     "output_type": "execute_result"
    }
   ],
   "source": [
    "np.linspace(20,60,6)"
   ]
  },
  {
   "cell_type": "code",
   "execution_count": 326,
   "id": "462605de",
   "metadata": {
    "execution": {
     "iopub.execute_input": "2023-11-16T15:53:35.049225Z",
     "iopub.status.busy": "2023-11-16T15:53:35.048853Z",
     "iopub.status.idle": "2023-11-16T15:53:35.055470Z",
     "shell.execute_reply": "2023-11-16T15:53:35.054608Z"
    },
    "papermill": {
     "duration": 0.156347,
     "end_time": "2023-11-16T15:53:35.057405",
     "exception": false,
     "start_time": "2023-11-16T15:53:34.901058",
     "status": "completed"
    },
    "tags": []
   },
   "outputs": [
    {
     "data": {
      "text/plain": [
       "array([[1., 1., 1.],\n",
       "       [1., 1., 1.],\n",
       "       [1., 1., 1.]])"
      ]
     },
     "execution_count": 326,
     "metadata": {},
     "output_type": "execute_result"
    }
   ],
   "source": [
    "a = np.ones((3,3))\n",
    "a"
   ]
  },
  {
   "cell_type": "code",
   "execution_count": 327,
   "id": "75c18b8c",
   "metadata": {
    "execution": {
     "iopub.execute_input": "2023-11-16T15:53:35.358653Z",
     "iopub.status.busy": "2023-11-16T15:53:35.358290Z",
     "iopub.status.idle": "2023-11-16T15:53:35.365119Z",
     "shell.execute_reply": "2023-11-16T15:53:35.364265Z"
    },
    "papermill": {
     "duration": 0.157439,
     "end_time": "2023-11-16T15:53:35.367363",
     "exception": false,
     "start_time": "2023-11-16T15:53:35.209924",
     "status": "completed"
    },
    "tags": []
   },
   "outputs": [
    {
     "data": {
      "text/plain": [
       "array([[0., 0., 0.],\n",
       "       [0., 0., 0.],\n",
       "       [0., 0., 0.]])"
      ]
     },
     "execution_count": 327,
     "metadata": {},
     "output_type": "execute_result"
    }
   ],
   "source": [
    "b = np.zeros((3,3))\n",
    "b"
   ]
  },
  {
   "cell_type": "code",
   "execution_count": 328,
   "id": "ffd2ff14",
   "metadata": {
    "execution": {
     "iopub.execute_input": "2023-11-16T15:53:35.662183Z",
     "iopub.status.busy": "2023-11-16T15:53:35.661460Z",
     "iopub.status.idle": "2023-11-16T15:53:35.668832Z",
     "shell.execute_reply": "2023-11-16T15:53:35.667826Z"
    },
    "papermill": {
     "duration": 0.156881,
     "end_time": "2023-11-16T15:53:35.670753",
     "exception": false,
     "start_time": "2023-11-16T15:53:35.513872",
     "status": "completed"
    },
    "tags": []
   },
   "outputs": [
    {
     "data": {
      "text/plain": [
       "array([[1., 1., 1.],\n",
       "       [1., 1., 1.],\n",
       "       [1., 1., 1.],\n",
       "       [0., 0., 0.],\n",
       "       [0., 0., 0.],\n",
       "       [0., 0., 0.]])"
      ]
     },
     "execution_count": 328,
     "metadata": {},
     "output_type": "execute_result"
    }
   ],
   "source": [
    "c  = np.vstack((a,b))\n",
    "c"
   ]
  },
  {
   "cell_type": "code",
   "execution_count": 329,
   "id": "296f4221",
   "metadata": {
    "execution": {
     "iopub.execute_input": "2023-11-16T15:53:35.968373Z",
     "iopub.status.busy": "2023-11-16T15:53:35.967406Z",
     "iopub.status.idle": "2023-11-16T15:53:35.972061Z",
     "shell.execute_reply": "2023-11-16T15:53:35.970972Z"
    },
    "papermill": {
     "duration": 0.155396,
     "end_time": "2023-11-16T15:53:35.974078",
     "exception": false,
     "start_time": "2023-11-16T15:53:35.818682",
     "status": "completed"
    },
    "tags": []
   },
   "outputs": [],
   "source": [
    "# d  = np.hstack((a,b))\n",
    "# e = np."
   ]
  },
  {
   "cell_type": "code",
   "execution_count": 330,
   "id": "e3cfb142",
   "metadata": {
    "execution": {
     "iopub.execute_input": "2023-11-16T15:53:36.268301Z",
     "iopub.status.busy": "2023-11-16T15:53:36.267965Z",
     "iopub.status.idle": "2023-11-16T15:53:36.274379Z",
     "shell.execute_reply": "2023-11-16T15:53:36.273525Z"
    },
    "papermill": {
     "duration": 0.156251,
     "end_time": "2023-11-16T15:53:36.276473",
     "exception": false,
     "start_time": "2023-11-16T15:53:36.120222",
     "status": "completed"
    },
    "tags": []
   },
   "outputs": [
    {
     "data": {
      "text/plain": [
       "array([[0., 0., 0.],\n",
       "       [0., 0., 0.],\n",
       "       [0., 0., 0.]])"
      ]
     },
     "execution_count": 330,
     "metadata": {},
     "output_type": "execute_result"
    }
   ],
   "source": [
    "b = np.zeros((3,3))\n",
    "b"
   ]
  },
  {
   "cell_type": "code",
   "execution_count": 331,
   "id": "017e55d2",
   "metadata": {
    "execution": {
     "iopub.execute_input": "2023-11-16T15:53:36.578920Z",
     "iopub.status.busy": "2023-11-16T15:53:36.578240Z",
     "iopub.status.idle": "2023-11-16T15:53:36.582508Z",
     "shell.execute_reply": "2023-11-16T15:53:36.581513Z"
    },
    "papermill": {
     "duration": 0.156723,
     "end_time": "2023-11-16T15:53:36.584633",
     "exception": false,
     "start_time": "2023-11-16T15:53:36.427910",
     "status": "completed"
    },
    "tags": []
   },
   "outputs": [],
   "source": [
    "# np.genfromtxt(\"a.csv\")"
   ]
  },
  {
   "cell_type": "code",
   "execution_count": 332,
   "id": "f42695be",
   "metadata": {
    "execution": {
     "iopub.execute_input": "2023-11-16T15:53:36.883912Z",
     "iopub.status.busy": "2023-11-16T15:53:36.883050Z",
     "iopub.status.idle": "2023-11-16T15:53:36.887760Z",
     "shell.execute_reply": "2023-11-16T15:53:36.886932Z"
    },
    "papermill": {
     "duration": 0.156341,
     "end_time": "2023-11-16T15:53:36.889764",
     "exception": false,
     "start_time": "2023-11-16T15:53:36.733423",
     "status": "completed"
    },
    "tags": []
   },
   "outputs": [],
   "source": [
    "np.save(\"parth.npy\",b)"
   ]
  },
  {
   "cell_type": "code",
   "execution_count": 333,
   "id": "cb6e2245",
   "metadata": {
    "execution": {
     "iopub.execute_input": "2023-11-16T15:53:37.184863Z",
     "iopub.status.busy": "2023-11-16T15:53:37.184555Z",
     "iopub.status.idle": "2023-11-16T15:53:37.191435Z",
     "shell.execute_reply": "2023-11-16T15:53:37.190516Z"
    },
    "papermill": {
     "duration": 0.155207,
     "end_time": "2023-11-16T15:53:37.193658",
     "exception": false,
     "start_time": "2023-11-16T15:53:37.038451",
     "status": "completed"
    },
    "tags": []
   },
   "outputs": [
    {
     "data": {
      "text/plain": [
       "array([[0., 0., 0.],\n",
       "       [0., 0., 0.],\n",
       "       [0., 0., 0.]])"
      ]
     },
     "execution_count": 333,
     "metadata": {},
     "output_type": "execute_result"
    }
   ],
   "source": [
    "np.load(\"parth.npy\")"
   ]
  },
  {
   "cell_type": "code",
   "execution_count": 334,
   "id": "7741b8cb",
   "metadata": {
    "execution": {
     "iopub.execute_input": "2023-11-16T15:53:37.530597Z",
     "iopub.status.busy": "2023-11-16T15:53:37.530220Z",
     "iopub.status.idle": "2023-11-16T15:53:37.537209Z",
     "shell.execute_reply": "2023-11-16T15:53:37.536335Z"
    },
    "papermill": {
     "duration": 0.157207,
     "end_time": "2023-11-16T15:53:37.539206",
     "exception": false,
     "start_time": "2023-11-16T15:53:37.381999",
     "status": "completed"
    },
    "tags": []
   },
   "outputs": [
    {
     "data": {
      "text/plain": [
       "array([[1., 1., 1., ..., 1., 1., 1.],\n",
       "       [1., 1., 1., ..., 1., 1., 1.],\n",
       "       [1., 1., 1., ..., 1., 1., 1.],\n",
       "       ...,\n",
       "       [1., 1., 1., ..., 1., 1., 1.],\n",
       "       [1., 1., 1., ..., 1., 1., 1.],\n",
       "       [1., 1., 1., ..., 1., 1., 1.]])"
      ]
     },
     "execution_count": 334,
     "metadata": {},
     "output_type": "execute_result"
    }
   ],
   "source": [
    "a = np.ones((8,240))\n",
    "a"
   ]
  },
  {
   "cell_type": "code",
   "execution_count": 335,
   "id": "a0973591",
   "metadata": {
    "execution": {
     "iopub.execute_input": "2023-11-16T15:53:37.837030Z",
     "iopub.status.busy": "2023-11-16T15:53:37.836681Z",
     "iopub.status.idle": "2023-11-16T15:53:37.843715Z",
     "shell.execute_reply": "2023-11-16T15:53:37.842646Z"
    },
    "papermill": {
     "duration": 0.158835,
     "end_time": "2023-11-16T15:53:37.845808",
     "exception": false,
     "start_time": "2023-11-16T15:53:37.686973",
     "status": "completed"
    },
    "tags": []
   },
   "outputs": [
    {
     "data": {
      "text/plain": [
       "array([[1., 1., 1., ..., 1., 1., 1.]])"
      ]
     },
     "execution_count": 335,
     "metadata": {},
     "output_type": "execute_result"
    }
   ],
   "source": [
    "a.reshape(1,-1)\n"
   ]
  },
  {
   "cell_type": "code",
   "execution_count": 336,
   "id": "15054788",
   "metadata": {
    "execution": {
     "iopub.execute_input": "2023-11-16T15:53:38.140802Z",
     "iopub.status.busy": "2023-11-16T15:53:38.140454Z",
     "iopub.status.idle": "2023-11-16T15:53:38.146900Z",
     "shell.execute_reply": "2023-11-16T15:53:38.145947Z"
    },
    "papermill": {
     "duration": 0.154985,
     "end_time": "2023-11-16T15:53:38.149058",
     "exception": false,
     "start_time": "2023-11-16T15:53:37.994073",
     "status": "completed"
    },
    "tags": []
   },
   "outputs": [
    {
     "data": {
      "text/plain": [
       "array([1., 1., 1., ..., 1., 1., 1.])"
      ]
     },
     "execution_count": 336,
     "metadata": {},
     "output_type": "execute_result"
    }
   ],
   "source": [
    "a.flatten()"
   ]
  },
  {
   "cell_type": "code",
   "execution_count": 337,
   "id": "6a7a8039",
   "metadata": {
    "execution": {
     "iopub.execute_input": "2023-11-16T15:53:38.442709Z",
     "iopub.status.busy": "2023-11-16T15:53:38.441760Z",
     "iopub.status.idle": "2023-11-16T15:53:38.446466Z",
     "shell.execute_reply": "2023-11-16T15:53:38.445605Z"
    },
    "papermill": {
     "duration": 0.153558,
     "end_time": "2023-11-16T15:53:38.448573",
     "exception": false,
     "start_time": "2023-11-16T15:53:38.295015",
     "status": "completed"
    },
    "tags": []
   },
   "outputs": [],
   "source": [
    "a = np.zeros((4,4))"
   ]
  },
  {
   "cell_type": "code",
   "execution_count": 338,
   "id": "78bc1314",
   "metadata": {
    "execution": {
     "iopub.execute_input": "2023-11-16T15:53:38.752706Z",
     "iopub.status.busy": "2023-11-16T15:53:38.752314Z",
     "iopub.status.idle": "2023-11-16T15:53:38.758656Z",
     "shell.execute_reply": "2023-11-16T15:53:38.757845Z"
    },
    "papermill": {
     "duration": 0.161225,
     "end_time": "2023-11-16T15:53:38.760725",
     "exception": false,
     "start_time": "2023-11-16T15:53:38.599500",
     "status": "completed"
    },
    "tags": []
   },
   "outputs": [
    {
     "data": {
      "text/plain": [
       "(2, 8)"
      ]
     },
     "execution_count": 338,
     "metadata": {},
     "output_type": "execute_result"
    }
   ],
   "source": [
    "a = a.reshape(2,8)\n",
    "a.shape"
   ]
  },
  {
   "cell_type": "code",
   "execution_count": 339,
   "id": "50673a63",
   "metadata": {
    "execution": {
     "iopub.execute_input": "2023-11-16T15:53:39.069185Z",
     "iopub.status.busy": "2023-11-16T15:53:39.068803Z",
     "iopub.status.idle": "2023-11-16T15:53:39.074987Z",
     "shell.execute_reply": "2023-11-16T15:53:39.074095Z"
    },
    "papermill": {
     "duration": 0.16174,
     "end_time": "2023-11-16T15:53:39.076968",
     "exception": false,
     "start_time": "2023-11-16T15:53:38.915228",
     "status": "completed"
    },
    "tags": []
   },
   "outputs": [
    {
     "data": {
      "text/plain": [
       "(2, 8)"
      ]
     },
     "execution_count": 339,
     "metadata": {},
     "output_type": "execute_result"
    }
   ],
   "source": [
    "a = a.reshape(2,-1)\n",
    "a.shape"
   ]
  },
  {
   "cell_type": "code",
   "execution_count": 340,
   "id": "74909791",
   "metadata": {
    "execution": {
     "iopub.execute_input": "2023-11-16T15:53:39.382425Z",
     "iopub.status.busy": "2023-11-16T15:53:39.381379Z",
     "iopub.status.idle": "2023-11-16T15:53:39.389236Z",
     "shell.execute_reply": "2023-11-16T15:53:39.388269Z"
    },
    "papermill": {
     "duration": 0.166742,
     "end_time": "2023-11-16T15:53:39.391678",
     "exception": false,
     "start_time": "2023-11-16T15:53:39.224936",
     "status": "completed"
    },
    "tags": []
   },
   "outputs": [
    {
     "data": {
      "text/plain": [
       "array([ 9,  8,  6, 88, 99])"
      ]
     },
     "execution_count": 340,
     "metadata": {},
     "output_type": "execute_result"
    }
   ],
   "source": [
    "c = np.array([9,8,6])\n",
    "b = np.append(c,[88,99])\n",
    "b"
   ]
  },
  {
   "cell_type": "code",
   "execution_count": 341,
   "id": "37dfb8a3",
   "metadata": {
    "execution": {
     "iopub.execute_input": "2023-11-16T15:53:39.748667Z",
     "iopub.status.busy": "2023-11-16T15:53:39.748256Z",
     "iopub.status.idle": "2023-11-16T15:53:39.755759Z",
     "shell.execute_reply": "2023-11-16T15:53:39.754845Z"
    },
    "papermill": {
     "duration": 0.208617,
     "end_time": "2023-11-16T15:53:39.757939",
     "exception": false,
     "start_time": "2023-11-16T15:53:39.549322",
     "status": "completed"
    },
    "tags": []
   },
   "outputs": [
    {
     "data": {
      "text/plain": [
       "array([ 9, 88, 99,  8,  6])"
      ]
     },
     "execution_count": 341,
     "metadata": {},
     "output_type": "execute_result"
    }
   ],
   "source": [
    "c = np.array([9,8,6])\n",
    "b = np.insert(c,1,[88,99])\n",
    "b"
   ]
  },
  {
   "cell_type": "code",
   "execution_count": 342,
   "id": "05287490",
   "metadata": {
    "execution": {
     "iopub.execute_input": "2023-11-16T15:53:40.064001Z",
     "iopub.status.busy": "2023-11-16T15:53:40.063663Z",
     "iopub.status.idle": "2023-11-16T15:53:40.070389Z",
     "shell.execute_reply": "2023-11-16T15:53:40.069541Z"
    },
    "papermill": {
     "duration": 0.162747,
     "end_time": "2023-11-16T15:53:40.072591",
     "exception": false,
     "start_time": "2023-11-16T15:53:39.909844",
     "status": "completed"
    },
    "tags": []
   },
   "outputs": [
    {
     "data": {
      "text/plain": [
       "array([9, 8])"
      ]
     },
     "execution_count": 342,
     "metadata": {},
     "output_type": "execute_result"
    }
   ],
   "source": [
    "c = np.array([9,8,6])\n",
    "b = np.delete(c,2)\n",
    "b"
   ]
  },
  {
   "cell_type": "code",
   "execution_count": 343,
   "id": "81276386",
   "metadata": {
    "execution": {
     "iopub.execute_input": "2023-11-16T15:53:40.373214Z",
     "iopub.status.busy": "2023-11-16T15:53:40.372831Z",
     "iopub.status.idle": "2023-11-16T15:53:40.379936Z",
     "shell.execute_reply": "2023-11-16T15:53:40.378991Z"
    },
    "papermill": {
     "duration": 0.16093,
     "end_time": "2023-11-16T15:53:40.381755",
     "exception": false,
     "start_time": "2023-11-16T15:53:40.220825",
     "status": "completed"
    },
    "tags": []
   },
   "outputs": [
    {
     "data": {
      "text/plain": [
       "array([[1., 1.],\n",
       "       [1., 1.],\n",
       "       [1., 1.],\n",
       "       [1., 1.],\n",
       "       [1., 1.],\n",
       "       [1., 1.],\n",
       "       [1., 1.],\n",
       "       [1., 1.]])"
      ]
     },
     "execution_count": 343,
     "metadata": {},
     "output_type": "execute_result"
    }
   ],
   "source": [
    "a= np.ones((4,4))\n",
    "a = a.reshape((8,-1))\n",
    "a"
   ]
  },
  {
   "cell_type": "code",
   "execution_count": 344,
   "id": "ed5e00db",
   "metadata": {
    "execution": {
     "iopub.execute_input": "2023-11-16T15:53:40.684828Z",
     "iopub.status.busy": "2023-11-16T15:53:40.684452Z",
     "iopub.status.idle": "2023-11-16T15:53:40.691628Z",
     "shell.execute_reply": "2023-11-16T15:53:40.690666Z"
    },
    "papermill": {
     "duration": 0.161561,
     "end_time": "2023-11-16T15:53:40.693710",
     "exception": false,
     "start_time": "2023-11-16T15:53:40.532149",
     "status": "completed"
    },
    "tags": []
   },
   "outputs": [
    {
     "data": {
      "text/plain": [
       "array([[1., 1.],\n",
       "       [1., 1.],\n",
       "       [1., 1.],\n",
       "       [1., 1.],\n",
       "       [1., 1.],\n",
       "       [1., 1.],\n",
       "       [1., 1.],\n",
       "       [1., 1.]])"
      ]
     },
     "execution_count": 344,
     "metadata": {},
     "output_type": "execute_result"
    }
   ],
   "source": [
    "a= np.ones((4,4))\n",
    "a.resize((8,2))\n",
    "a"
   ]
  },
  {
   "cell_type": "code",
   "execution_count": 345,
   "id": "7d9b54a1",
   "metadata": {
    "execution": {
     "iopub.execute_input": "2023-11-16T15:53:41.009141Z",
     "iopub.status.busy": "2023-11-16T15:53:41.008749Z",
     "iopub.status.idle": "2023-11-16T15:53:41.015698Z",
     "shell.execute_reply": "2023-11-16T15:53:41.014869Z"
    },
    "papermill": {
     "duration": 0.166421,
     "end_time": "2023-11-16T15:53:41.017748",
     "exception": false,
     "start_time": "2023-11-16T15:53:40.851327",
     "status": "completed"
    },
    "tags": []
   },
   "outputs": [
    {
     "data": {
      "text/plain": [
       "array([False,  True, False, False])"
      ]
     },
     "execution_count": 345,
     "metadata": {},
     "output_type": "execute_result"
    }
   ],
   "source": [
    "a = np.array([True, True, True, False])\n",
    "b = np.array([False, True,False, False])\n",
    "\n",
    "c = np.logical_and(a,b)\n",
    "c"
   ]
  },
  {
   "cell_type": "code",
   "execution_count": 346,
   "id": "b738f25b",
   "metadata": {
    "execution": {
     "iopub.execute_input": "2023-11-16T15:53:41.316303Z",
     "iopub.status.busy": "2023-11-16T15:53:41.315971Z",
     "iopub.status.idle": "2023-11-16T15:53:41.323384Z",
     "shell.execute_reply": "2023-11-16T15:53:41.322532Z"
    },
    "papermill": {
     "duration": 0.160254,
     "end_time": "2023-11-16T15:53:41.325240",
     "exception": false,
     "start_time": "2023-11-16T15:53:41.164986",
     "status": "completed"
    },
    "tags": []
   },
   "outputs": [
    {
     "data": {
      "text/plain": [
       "array([ True,  True,  True, False])"
      ]
     },
     "execution_count": 346,
     "metadata": {},
     "output_type": "execute_result"
    }
   ],
   "source": [
    "a = np.array([True, True, True, False])\n",
    "b = np.array([False, True,False, False])\n",
    "\n",
    "c = np.logical_or(a,b)\n",
    "c"
   ]
  },
  {
   "cell_type": "code",
   "execution_count": 347,
   "id": "43470fb8",
   "metadata": {
    "execution": {
     "iopub.execute_input": "2023-11-16T15:53:41.636308Z",
     "iopub.status.busy": "2023-11-16T15:53:41.635953Z",
     "iopub.status.idle": "2023-11-16T15:53:41.642025Z",
     "shell.execute_reply": "2023-11-16T15:53:41.641262Z"
    },
    "papermill": {
     "duration": 0.161644,
     "end_time": "2023-11-16T15:53:41.644074",
     "exception": false,
     "start_time": "2023-11-16T15:53:41.482430",
     "status": "completed"
    },
    "tags": []
   },
   "outputs": [
    {
     "data": {
      "text/plain": [
       "array([False, False, False,  True])"
      ]
     },
     "execution_count": 347,
     "metadata": {},
     "output_type": "execute_result"
    }
   ],
   "source": [
    "a = np.array([True, True, True, False])\n",
    "b = np.logical_not(a)\n",
    "b"
   ]
  },
  {
   "cell_type": "code",
   "execution_count": 348,
   "id": "16c774b8",
   "metadata": {
    "execution": {
     "iopub.execute_input": "2023-11-16T15:53:41.942903Z",
     "iopub.status.busy": "2023-11-16T15:53:41.942556Z",
     "iopub.status.idle": "2023-11-16T15:53:41.949052Z",
     "shell.execute_reply": "2023-11-16T15:53:41.948256Z"
    },
    "papermill": {
     "duration": 0.157391,
     "end_time": "2023-11-16T15:53:41.951033",
     "exception": false,
     "start_time": "2023-11-16T15:53:41.793642",
     "status": "completed"
    },
    "tags": []
   },
   "outputs": [
    {
     "data": {
      "text/plain": [
       "array([20, 30])"
      ]
     },
     "execution_count": 348,
     "metadata": {},
     "output_type": "execute_result"
    }
   ],
   "source": [
    "a = np.array([10,20,30])\n",
    "a[np.where ( a > 15)]\n"
   ]
  },
  {
   "cell_type": "code",
   "execution_count": 349,
   "id": "b4ea50fd",
   "metadata": {
    "execution": {
     "iopub.execute_input": "2023-11-16T15:53:42.255419Z",
     "iopub.status.busy": "2023-11-16T15:53:42.255093Z",
     "iopub.status.idle": "2023-11-16T15:53:42.259193Z",
     "shell.execute_reply": "2023-11-16T15:53:42.258316Z"
    },
    "papermill": {
     "duration": 0.158509,
     "end_time": "2023-11-16T15:53:42.261113",
     "exception": false,
     "start_time": "2023-11-16T15:53:42.102604",
     "status": "completed"
    },
    "tags": []
   },
   "outputs": [],
   "source": [
    "import numpy as np"
   ]
  },
  {
   "cell_type": "code",
   "execution_count": 350,
   "id": "98f9e10d",
   "metadata": {
    "execution": {
     "iopub.execute_input": "2023-11-16T15:53:42.627895Z",
     "iopub.status.busy": "2023-11-16T15:53:42.627471Z",
     "iopub.status.idle": "2023-11-16T15:53:42.634388Z",
     "shell.execute_reply": "2023-11-16T15:53:42.633528Z"
    },
    "papermill": {
     "duration": 0.20863,
     "end_time": "2023-11-16T15:53:42.636449",
     "exception": false,
     "start_time": "2023-11-16T15:53:42.427819",
     "status": "completed"
    },
    "tags": []
   },
   "outputs": [
    {
     "data": {
      "text/plain": [
       "array([False,  True, False, False])"
      ]
     },
     "execution_count": 350,
     "metadata": {},
     "output_type": "execute_result"
    }
   ],
   "source": [
    "a = np.array([True, True, True, False])\n",
    "b = np.array([False, True,False, False])\n",
    "\n",
    "c =  a & b\n",
    "c"
   ]
  },
  {
   "cell_type": "code",
   "execution_count": 351,
   "id": "3bfd2aa4",
   "metadata": {
    "execution": {
     "iopub.execute_input": "2023-11-16T15:53:42.946077Z",
     "iopub.status.busy": "2023-11-16T15:53:42.945706Z",
     "iopub.status.idle": "2023-11-16T15:53:42.952661Z",
     "shell.execute_reply": "2023-11-16T15:53:42.951709Z"
    },
    "papermill": {
     "duration": 0.16528,
     "end_time": "2023-11-16T15:53:42.954720",
     "exception": false,
     "start_time": "2023-11-16T15:53:42.789440",
     "status": "completed"
    },
    "tags": []
   },
   "outputs": [
    {
     "data": {
      "text/plain": [
       "array([ True,  True,  True, False])"
      ]
     },
     "execution_count": 351,
     "metadata": {},
     "output_type": "execute_result"
    }
   ],
   "source": [
    "a = np.array([True, True, True, False])\n",
    "b = np.array([False, True,False, False])\n",
    "\n",
    "c =  a | b # or \n",
    "c"
   ]
  },
  {
   "cell_type": "code",
   "execution_count": 352,
   "id": "d8876fcd",
   "metadata": {
    "execution": {
     "iopub.execute_input": "2023-11-16T15:53:43.260147Z",
     "iopub.status.busy": "2023-11-16T15:53:43.259809Z",
     "iopub.status.idle": "2023-11-16T15:53:43.266369Z",
     "shell.execute_reply": "2023-11-16T15:53:43.265448Z"
    },
    "papermill": {
     "duration": 0.161967,
     "end_time": "2023-11-16T15:53:43.268403",
     "exception": false,
     "start_time": "2023-11-16T15:53:43.106436",
     "status": "completed"
    },
    "tags": []
   },
   "outputs": [
    {
     "data": {
      "text/plain": [
       "array([False, False, False,  True])"
      ]
     },
     "execution_count": 352,
     "metadata": {},
     "output_type": "execute_result"
    }
   ],
   "source": [
    "a = np.array([True, True, True, False])\n",
    "c = ~a\n",
    "c"
   ]
  },
  {
   "cell_type": "code",
   "execution_count": 353,
   "id": "c4a1c737",
   "metadata": {
    "execution": {
     "iopub.execute_input": "2023-11-16T15:53:43.567122Z",
     "iopub.status.busy": "2023-11-16T15:53:43.566748Z",
     "iopub.status.idle": "2023-11-16T15:53:43.576143Z",
     "shell.execute_reply": "2023-11-16T15:53:43.575196Z"
    },
    "papermill": {
     "duration": 0.158723,
     "end_time": "2023-11-16T15:53:43.578077",
     "exception": false,
     "start_time": "2023-11-16T15:53:43.419354",
     "status": "completed"
    },
    "tags": []
   },
   "outputs": [
    {
     "data": {
      "text/plain": [
       "array([[15., 15., 15., 15., 15.],\n",
       "       [15., 15., 15., 15., 15.],\n",
       "       [15., 15., 15., 15., 15.],\n",
       "       [15., 15., 15., 15., 15.],\n",
       "       [15., 15., 15., 15., 15.]])"
      ]
     },
     "execution_count": 353,
     "metadata": {},
     "output_type": "execute_result"
    }
   ],
   "source": [
    "a = np.ones((5,5))\n",
    "b = np.full((5,5), 3)\n",
    "c = np.dot(a,b)\n",
    "c"
   ]
  },
  {
   "cell_type": "code",
   "execution_count": 354,
   "id": "4cf39ce4",
   "metadata": {
    "execution": {
     "iopub.execute_input": "2023-11-16T15:53:43.886345Z",
     "iopub.status.busy": "2023-11-16T15:53:43.885446Z",
     "iopub.status.idle": "2023-11-16T15:53:43.892609Z",
     "shell.execute_reply": "2023-11-16T15:53:43.891540Z"
    },
    "papermill": {
     "duration": 0.165103,
     "end_time": "2023-11-16T15:53:43.894883",
     "exception": false,
     "start_time": "2023-11-16T15:53:43.729780",
     "status": "completed"
    },
    "tags": []
   },
   "outputs": [
    {
     "data": {
      "text/plain": [
       "array([[1, 2],\n",
       "       [3, 4]])"
      ]
     },
     "execution_count": 354,
     "metadata": {},
     "output_type": "execute_result"
    }
   ],
   "source": [
    "a = np.array([[1,2],[3,4]])\n",
    "a"
   ]
  },
  {
   "cell_type": "code",
   "execution_count": 355,
   "id": "3504a338",
   "metadata": {
    "execution": {
     "iopub.execute_input": "2023-11-16T15:53:44.202223Z",
     "iopub.status.busy": "2023-11-16T15:53:44.201868Z",
     "iopub.status.idle": "2023-11-16T15:53:44.209013Z",
     "shell.execute_reply": "2023-11-16T15:53:44.207988Z"
    },
    "papermill": {
     "duration": 0.163331,
     "end_time": "2023-11-16T15:53:44.210978",
     "exception": false,
     "start_time": "2023-11-16T15:53:44.047647",
     "status": "completed"
    },
    "tags": []
   },
   "outputs": [
    {
     "data": {
      "text/plain": [
       "array([[1, 3],\n",
       "       [2, 4]])"
      ]
     },
     "execution_count": 355,
     "metadata": {},
     "output_type": "execute_result"
    }
   ],
   "source": [
    "b = np.transpose(a)\n",
    "b"
   ]
  },
  {
   "cell_type": "code",
   "execution_count": 356,
   "id": "45187176",
   "metadata": {
    "execution": {
     "iopub.execute_input": "2023-11-16T15:53:44.531836Z",
     "iopub.status.busy": "2023-11-16T15:53:44.531449Z",
     "iopub.status.idle": "2023-11-16T15:53:44.538697Z",
     "shell.execute_reply": "2023-11-16T15:53:44.537723Z"
    },
    "papermill": {
     "duration": 0.163294,
     "end_time": "2023-11-16T15:53:44.541036",
     "exception": false,
     "start_time": "2023-11-16T15:53:44.377742",
     "status": "completed"
    },
    "tags": []
   },
   "outputs": [
    {
     "data": {
      "text/plain": [
       "array([[-0.66136743, -1.04361074, -0.58114897],\n",
       "       [-0.356353  ,  0.29407381, -1.79697064],\n",
       "       [-0.38949016,  0.44914091, -0.47389926]])"
      ]
     },
     "execution_count": 356,
     "metadata": {},
     "output_type": "execute_result"
    }
   ],
   "source": [
    "a = np.random.normal(0,1,(3,3))\n",
    "a"
   ]
  },
  {
   "cell_type": "code",
   "execution_count": 357,
   "id": "d378814b",
   "metadata": {
    "execution": {
     "iopub.execute_input": "2023-11-16T15:53:44.871388Z",
     "iopub.status.busy": "2023-11-16T15:53:44.870679Z",
     "iopub.status.idle": "2023-11-16T15:53:44.877885Z",
     "shell.execute_reply": "2023-11-16T15:53:44.876894Z"
    },
    "papermill": {
     "duration": 0.166901,
     "end_time": "2023-11-16T15:53:44.880085",
     "exception": false,
     "start_time": "2023-11-16T15:53:44.713184",
     "status": "completed"
    },
    "tags": []
   },
   "outputs": [
    {
     "data": {
      "text/plain": [
       "array([[54.04820621, 50.05997631, 53.34034706],\n",
       "       [51.45262098, 51.61359903, 52.08854957],\n",
       "       [52.43197998, 54.7133926 , 53.66073862]])"
      ]
     },
     "execution_count": 357,
     "metadata": {},
     "output_type": "execute_result"
    }
   ],
   "source": [
    "b = np.random.uniform(50,55,(3,3))\n",
    "b"
   ]
  },
  {
   "cell_type": "code",
   "execution_count": 358,
   "id": "27a175f1",
   "metadata": {
    "execution": {
     "iopub.execute_input": "2023-11-16T15:53:45.197744Z",
     "iopub.status.busy": "2023-11-16T15:53:45.197381Z",
     "iopub.status.idle": "2023-11-16T15:53:45.204659Z",
     "shell.execute_reply": "2023-11-16T15:53:45.203739Z"
    },
    "papermill": {
     "duration": 0.163717,
     "end_time": "2023-11-16T15:53:45.206652",
     "exception": false,
     "start_time": "2023-11-16T15:53:45.042935",
     "status": "completed"
    },
    "tags": []
   },
   "outputs": [
    {
     "data": {
      "text/plain": [
       "array([[51, 54, 50],\n",
       "       [51, 53, 54],\n",
       "       [51, 50, 51]])"
      ]
     },
     "execution_count": 358,
     "metadata": {},
     "output_type": "execute_result"
    }
   ],
   "source": [
    "np.random.seed(10)\n",
    "\n",
    "c = np.random.randint(50,55,(3,3))\n",
    "c"
   ]
  },
  {
   "cell_type": "code",
   "execution_count": 359,
   "id": "2b5ab4a3",
   "metadata": {
    "execution": {
     "iopub.execute_input": "2023-11-16T15:53:45.567729Z",
     "iopub.status.busy": "2023-11-16T15:53:45.567368Z",
     "iopub.status.idle": "2023-11-16T15:53:45.574625Z",
     "shell.execute_reply": "2023-11-16T15:53:45.573469Z"
    },
    "papermill": {
     "duration": 0.20628,
     "end_time": "2023-11-16T15:53:45.576584",
     "exception": false,
     "start_time": "2023-11-16T15:53:45.370304",
     "status": "completed"
    },
    "tags": []
   },
   "outputs": [
    {
     "data": {
      "text/plain": [
       "array([[51, 54, 50],\n",
       "       [51, 53, 54],\n",
       "       [51, 50, 51]])"
      ]
     },
     "execution_count": 359,
     "metadata": {},
     "output_type": "execute_result"
    }
   ],
   "source": [
    "np.random.seed(10)\n",
    "\n",
    "c = np.random.randint(50,55,(3,3))\n",
    "c"
   ]
  },
  {
   "cell_type": "code",
   "execution_count": 360,
   "id": "b4c32ea7",
   "metadata": {
    "execution": {
     "iopub.execute_input": "2023-11-16T15:53:45.893246Z",
     "iopub.status.busy": "2023-11-16T15:53:45.892867Z",
     "iopub.status.idle": "2023-11-16T15:53:45.902374Z",
     "shell.execute_reply": "2023-11-16T15:53:45.901413Z"
    },
    "papermill": {
     "duration": 0.173493,
     "end_time": "2023-11-16T15:53:45.904551",
     "exception": false,
     "start_time": "2023-11-16T15:53:45.731058",
     "status": "completed"
    },
    "tags": []
   },
   "outputs": [
    {
     "data": {
      "text/plain": [
       "array([5, 9, 9, 9, 5, 5, 8, 5, 9, 9])"
      ]
     },
     "execution_count": 360,
     "metadata": {},
     "output_type": "execute_result"
    }
   ],
   "source": [
    "# c = np.random.randint(50,55,(1,3))\n",
    "c = np.array([9,8,7,6,5])\n",
    "\n",
    "d = np.random.choice( c,size =  10, replace = True ,p=[0.32, 0.02, 0.02, 0.04, 0.6])\n",
    "d\n",
    "# d"
   ]
  },
  {
   "cell_type": "code",
   "execution_count": 361,
   "id": "9ae52fe2",
   "metadata": {
    "execution": {
     "iopub.execute_input": "2023-11-16T15:53:46.211952Z",
     "iopub.status.busy": "2023-11-16T15:53:46.211589Z",
     "iopub.status.idle": "2023-11-16T15:53:46.215917Z",
     "shell.execute_reply": "2023-11-16T15:53:46.214946Z"
    },
    "papermill": {
     "duration": 0.160884,
     "end_time": "2023-11-16T15:53:46.217768",
     "exception": false,
     "start_time": "2023-11-16T15:53:46.056884",
     "status": "completed"
    },
    "tags": []
   },
   "outputs": [],
   "source": [
    "# c = [9,8,6,5]\n",
    "# np.random.choice(c, 3, p=[0.5, 0.1, 0.1, 0.3])"
   ]
  },
  {
   "cell_type": "code",
   "execution_count": 362,
   "id": "f6549c5d",
   "metadata": {
    "execution": {
     "iopub.execute_input": "2023-11-16T15:53:46.532567Z",
     "iopub.status.busy": "2023-11-16T15:53:46.532160Z",
     "iopub.status.idle": "2023-11-16T15:53:46.536533Z",
     "shell.execute_reply": "2023-11-16T15:53:46.535526Z"
    },
    "papermill": {
     "duration": 0.164941,
     "end_time": "2023-11-16T15:53:46.538666",
     "exception": false,
     "start_time": "2023-11-16T15:53:46.373725",
     "status": "completed"
    },
    "tags": []
   },
   "outputs": [],
   "source": [
    "# 9,8,7,6,5\n",
    "\n",
    "# 6\n",
    "\n",
    "# 9,8,7,5"
   ]
  },
  {
   "cell_type": "code",
   "execution_count": 363,
   "id": "2215c818",
   "metadata": {
    "execution": {
     "iopub.execute_input": "2023-11-16T15:53:46.851218Z",
     "iopub.status.busy": "2023-11-16T15:53:46.850283Z",
     "iopub.status.idle": "2023-11-16T15:53:46.857594Z",
     "shell.execute_reply": "2023-11-16T15:53:46.856719Z"
    },
    "papermill": {
     "duration": 0.16688,
     "end_time": "2023-11-16T15:53:46.859643",
     "exception": false,
     "start_time": "2023-11-16T15:53:46.692763",
     "status": "completed"
    },
    "tags": []
   },
   "outputs": [
    {
     "data": {
      "text/plain": [
       "array([[1, 2],\n",
       "       [3, 4]])"
      ]
     },
     "execution_count": 363,
     "metadata": {},
     "output_type": "execute_result"
    }
   ],
   "source": [
    "a = np.array([[1,2],[3,4]])\n",
    "a\n",
    "    "
   ]
  },
  {
   "cell_type": "code",
   "execution_count": 364,
   "id": "8f3428f0",
   "metadata": {
    "execution": {
     "iopub.execute_input": "2023-11-16T15:53:47.181731Z",
     "iopub.status.busy": "2023-11-16T15:53:47.181364Z",
     "iopub.status.idle": "2023-11-16T15:53:47.188399Z",
     "shell.execute_reply": "2023-11-16T15:53:47.187335Z"
    },
    "papermill": {
     "duration": 0.174154,
     "end_time": "2023-11-16T15:53:47.190540",
     "exception": false,
     "start_time": "2023-11-16T15:53:47.016386",
     "status": "completed"
    },
    "tags": []
   },
   "outputs": [
    {
     "data": {
      "text/plain": [
       "array([[0., 0.],\n",
       "       [0., 0.]])"
      ]
     },
     "execution_count": 364,
     "metadata": {},
     "output_type": "execute_result"
    }
   ],
   "source": [
    "np.zeros(a.shape)"
   ]
  },
  {
   "cell_type": "code",
   "execution_count": 365,
   "id": "91ebe218",
   "metadata": {
    "execution": {
     "iopub.execute_input": "2023-11-16T15:53:47.525887Z",
     "iopub.status.busy": "2023-11-16T15:53:47.525471Z",
     "iopub.status.idle": "2023-11-16T15:53:47.532662Z",
     "shell.execute_reply": "2023-11-16T15:53:47.531727Z"
    },
    "papermill": {
     "duration": 0.172865,
     "end_time": "2023-11-16T15:53:47.535455",
     "exception": false,
     "start_time": "2023-11-16T15:53:47.362590",
     "status": "completed"
    },
    "tags": []
   },
   "outputs": [
    {
     "data": {
      "text/plain": [
       "array([[0, 0],\n",
       "       [0, 0]])"
      ]
     },
     "execution_count": 365,
     "metadata": {},
     "output_type": "execute_result"
    }
   ],
   "source": [
    "np.zeros_like(a)"
   ]
  },
  {
   "cell_type": "code",
   "execution_count": 366,
   "id": "350711fe",
   "metadata": {
    "execution": {
     "iopub.execute_input": "2023-11-16T15:53:47.924268Z",
     "iopub.status.busy": "2023-11-16T15:53:47.923807Z",
     "iopub.status.idle": "2023-11-16T15:53:47.929146Z",
     "shell.execute_reply": "2023-11-16T15:53:47.927970Z"
    },
    "papermill": {
     "duration": 0.164503,
     "end_time": "2023-11-16T15:53:47.931639",
     "exception": false,
     "start_time": "2023-11-16T15:53:47.767136",
     "status": "completed"
    },
    "tags": []
   },
   "outputs": [],
   "source": [
    "c = np.ones_like(a)"
   ]
  },
  {
   "cell_type": "code",
   "execution_count": 367,
   "id": "5a3f996c",
   "metadata": {
    "execution": {
     "iopub.execute_input": "2023-11-16T15:53:48.248572Z",
     "iopub.status.busy": "2023-11-16T15:53:48.247648Z",
     "iopub.status.idle": "2023-11-16T15:53:48.254914Z",
     "shell.execute_reply": "2023-11-16T15:53:48.253991Z"
    },
    "papermill": {
     "duration": 0.164642,
     "end_time": "2023-11-16T15:53:48.257345",
     "exception": false,
     "start_time": "2023-11-16T15:53:48.092703",
     "status": "completed"
    },
    "tags": []
   },
   "outputs": [
    {
     "data": {
      "text/plain": [
       "array([[3, 3],\n",
       "       [3, 3]])"
      ]
     },
     "execution_count": 367,
     "metadata": {},
     "output_type": "execute_result"
    }
   ],
   "source": [
    "c = np.ones_like(a)\n",
    "d = c + 2\n",
    "d"
   ]
  },
  {
   "cell_type": "code",
   "execution_count": 368,
   "id": "0c201cf5",
   "metadata": {
    "execution": {
     "iopub.execute_input": "2023-11-16T15:53:48.576149Z",
     "iopub.status.busy": "2023-11-16T15:53:48.575329Z",
     "iopub.status.idle": "2023-11-16T15:53:48.579645Z",
     "shell.execute_reply": "2023-11-16T15:53:48.578777Z"
    },
    "papermill": {
     "duration": 0.161494,
     "end_time": "2023-11-16T15:53:48.581511",
     "exception": false,
     "start_time": "2023-11-16T15:53:48.420017",
     "status": "completed"
    },
    "tags": []
   },
   "outputs": [],
   "source": [
    "# help(int)"
   ]
  },
  {
   "cell_type": "code",
   "execution_count": 369,
   "id": "6c234f52",
   "metadata": {
    "execution": {
     "iopub.execute_input": "2023-11-16T15:53:48.892893Z",
     "iopub.status.busy": "2023-11-16T15:53:48.892501Z",
     "iopub.status.idle": "2023-11-16T15:53:48.899233Z",
     "shell.execute_reply": "2023-11-16T15:53:48.898379Z"
    },
    "papermill": {
     "duration": 0.162577,
     "end_time": "2023-11-16T15:53:48.901164",
     "exception": false,
     "start_time": "2023-11-16T15:53:48.738587",
     "status": "completed"
    },
    "tags": []
   },
   "outputs": [
    {
     "data": {
      "text/plain": [
       "dtype('int64')"
      ]
     },
     "execution_count": 369,
     "metadata": {},
     "output_type": "execute_result"
    }
   ],
   "source": [
    "import numpy as np\n",
    "\n",
    "arr1= np.array([4, 11, 53, 2, 9, ])\n",
    "arr1.dtype"
   ]
  },
  {
   "cell_type": "code",
   "execution_count": 370,
   "id": "7ba33bf3",
   "metadata": {
    "execution": {
     "iopub.execute_input": "2023-11-16T15:53:49.219632Z",
     "iopub.status.busy": "2023-11-16T15:53:49.219277Z",
     "iopub.status.idle": "2023-11-16T15:53:49.226806Z",
     "shell.execute_reply": "2023-11-16T15:53:49.225818Z"
    },
    "papermill": {
     "duration": 0.170713,
     "end_time": "2023-11-16T15:53:49.228945",
     "exception": false,
     "start_time": "2023-11-16T15:53:49.058232",
     "status": "completed"
    },
    "tags": []
   },
   "outputs": [
    {
     "data": {
      "text/plain": [
       "array([[ 2.,  7., 11.],\n",
       "       [ 4.,  8.,  2.]])"
      ]
     },
     "execution_count": 370,
     "metadata": {},
     "output_type": "execute_result"
    }
   ],
   "source": [
    "arr2 = np.array([[2, 7 , 11], [4, 8 , 2]],\n",
    "dtype= float)\n",
    "arr2.dtype\n",
    "arr2"
   ]
  },
  {
   "cell_type": "code",
   "execution_count": 371,
   "id": "1563eeea",
   "metadata": {
    "execution": {
     "iopub.execute_input": "2023-11-16T15:53:49.554190Z",
     "iopub.status.busy": "2023-11-16T15:53:49.553852Z",
     "iopub.status.idle": "2023-11-16T15:53:49.560549Z",
     "shell.execute_reply": "2023-11-16T15:53:49.559630Z"
    },
    "papermill": {
     "duration": 0.165634,
     "end_time": "2023-11-16T15:53:49.562445",
     "exception": false,
     "start_time": "2023-11-16T15:53:49.396811",
     "status": "completed"
    },
    "tags": []
   },
   "outputs": [
    {
     "name": "stdout",
     "output_type": "stream",
     "text": [
      "[1 3 2 4 0]\n"
     ]
    }
   ],
   "source": [
    "import numpy as np\n",
    "first_names =    ('Margery', 'Betsey', 'Shelley', 'Lanell', 'Genesis')\n",
    "last_names = ('Woolum', 'Battle', 'Plotner', 'Brien', 'Stahl')\n",
    "x = np.lexsort((first_names, last_names))\n",
    "print(x)"
   ]
  },
  {
   "cell_type": "markdown",
   "id": "170451fe",
   "metadata": {
    "papermill": {
     "duration": 0.153682,
     "end_time": "2023-11-16T15:53:49.866827",
     "exception": false,
     "start_time": "2023-11-16T15:53:49.713145",
     "status": "completed"
    },
    "tags": []
   },
   "source": [
    "# pandas"
   ]
  },
  {
   "cell_type": "code",
   "execution_count": 372,
   "id": "0616982e",
   "metadata": {
    "execution": {
     "iopub.execute_input": "2023-11-16T15:53:50.167532Z",
     "iopub.status.busy": "2023-11-16T15:53:50.166338Z",
     "iopub.status.idle": "2023-11-16T15:54:03.717382Z",
     "shell.execute_reply": "2023-11-16T15:54:03.716357Z"
    },
    "papermill": {
     "duration": 13.703618,
     "end_time": "2023-11-16T15:54:03.719927",
     "exception": false,
     "start_time": "2023-11-16T15:53:50.016309",
     "status": "completed"
    },
    "tags": []
   },
   "outputs": [
    {
     "name": "stdout",
     "output_type": "stream",
     "text": [
      "Requirement already satisfied: pandas in /opt/conda/lib/python3.10/site-packages (2.0.2)\r\n",
      "Requirement already satisfied: python-dateutil>=2.8.2 in /opt/conda/lib/python3.10/site-packages (from pandas) (2.8.2)\r\n",
      "Requirement already satisfied: pytz>=2020.1 in /opt/conda/lib/python3.10/site-packages (from pandas) (2023.3)\r\n",
      "Requirement already satisfied: tzdata>=2022.1 in /opt/conda/lib/python3.10/site-packages (from pandas) (2023.3)\r\n",
      "Requirement already satisfied: numpy>=1.21.0 in /opt/conda/lib/python3.10/site-packages (from pandas) (1.23.5)\r\n",
      "Requirement already satisfied: six>=1.5 in /opt/conda/lib/python3.10/site-packages (from python-dateutil>=2.8.2->pandas) (1.16.0)\r\n"
     ]
    }
   ],
   "source": [
    "!pip install pandas"
   ]
  },
  {
   "cell_type": "code",
   "execution_count": 373,
   "id": "69131167",
   "metadata": {
    "execution": {
     "iopub.execute_input": "2023-11-16T15:54:04.074425Z",
     "iopub.status.busy": "2023-11-16T15:54:04.074025Z",
     "iopub.status.idle": "2023-11-16T15:54:04.918252Z",
     "shell.execute_reply": "2023-11-16T15:54:04.917013Z"
    },
    "papermill": {
     "duration": 0.998495,
     "end_time": "2023-11-16T15:54:04.920532",
     "exception": false,
     "start_time": "2023-11-16T15:54:03.922037",
     "status": "completed"
    },
    "tags": []
   },
   "outputs": [
    {
     "name": "stdout",
     "output_type": "stream",
     "text": [
      "2.0.3\n"
     ]
    }
   ],
   "source": [
    "import pandas as pd\n",
    "\n",
    "\n",
    "print(pd.__version__)"
   ]
  },
  {
   "cell_type": "code",
   "execution_count": 374,
   "id": "e296e633",
   "metadata": {
    "execution": {
     "iopub.execute_input": "2023-11-16T15:54:05.234999Z",
     "iopub.status.busy": "2023-11-16T15:54:05.234419Z",
     "iopub.status.idle": "2023-11-16T15:54:05.285039Z",
     "shell.execute_reply": "2023-11-16T15:54:05.283985Z"
    },
    "papermill": {
     "duration": 0.211902,
     "end_time": "2023-11-16T15:54:05.287275",
     "exception": false,
     "start_time": "2023-11-16T15:54:05.075373",
     "status": "completed"
    },
    "tags": []
   },
   "outputs": [
    {
     "data": {
      "text/html": [
       "<div>\n",
       "<style scoped>\n",
       "    .dataframe tbody tr th:only-of-type {\n",
       "        vertical-align: middle;\n",
       "    }\n",
       "\n",
       "    .dataframe tbody tr th {\n",
       "        vertical-align: top;\n",
       "    }\n",
       "\n",
       "    .dataframe thead th {\n",
       "        text-align: right;\n",
       "    }\n",
       "</style>\n",
       "<table border=\"1\" class=\"dataframe\">\n",
       "  <thead>\n",
       "    <tr style=\"text-align: right;\">\n",
       "      <th></th>\n",
       "      <th>No.</th>\n",
       "      <th>Company</th>\n",
       "      <th>Sector</th>\n",
       "      <th>Entry Valuation^^ ($B)</th>\n",
       "      <th>Valuation ($B)</th>\n",
       "      <th>Entry</th>\n",
       "      <th>Location</th>\n",
       "      <th>Select Investors</th>\n",
       "    </tr>\n",
       "  </thead>\n",
       "  <tbody>\n",
       "    <tr>\n",
       "      <th>0</th>\n",
       "      <td>1</td>\n",
       "      <td>InMobi</td>\n",
       "      <td>Adtech - Mobile Ads</td>\n",
       "      <td>1.00</td>\n",
       "      <td>1.00</td>\n",
       "      <td>Sep/2011</td>\n",
       "      <td>Bangalore/Singapore</td>\n",
       "      <td>KPCB, Sherpalo Ventures, SoftBank</td>\n",
       "    </tr>\n",
       "    <tr>\n",
       "      <th>1</th>\n",
       "      <td>2</td>\n",
       "      <td>Flipkart^</td>\n",
       "      <td>E-Commerce</td>\n",
       "      <td>1.00</td>\n",
       "      <td>37.60</td>\n",
       "      <td>Feb/2012</td>\n",
       "      <td>Bangalore/Singapore</td>\n",
       "      <td>Accel, Tiger Global, Naspers, SoftBank, Tencent</td>\n",
       "    </tr>\n",
       "    <tr>\n",
       "      <th>2</th>\n",
       "      <td>3</td>\n",
       "      <td>Mu Sigma</td>\n",
       "      <td>SaaS - Analytics</td>\n",
       "      <td>1.00</td>\n",
       "      <td>1.50</td>\n",
       "      <td>Feb/2013</td>\n",
       "      <td>Bangalore/Chicago</td>\n",
       "      <td>Accel, Sequoia Capital, General Atlantic</td>\n",
       "    </tr>\n",
       "    <tr>\n",
       "      <th>3</th>\n",
       "      <td>4</td>\n",
       "      <td>Snapdeal*</td>\n",
       "      <td>E-Commerce</td>\n",
       "      <td>1.80</td>\n",
       "      <td>2.40</td>\n",
       "      <td>Oct/2014</td>\n",
       "      <td>Delhi</td>\n",
       "      <td>Kalaari Capital, Nexus Ventures, Bessemer, Sof...</td>\n",
       "    </tr>\n",
       "    <tr>\n",
       "      <th>4</th>\n",
       "      <td>5</td>\n",
       "      <td>PayTM^</td>\n",
       "      <td>Fintech - Payments &amp; Wallet</td>\n",
       "      <td>1.70</td>\n",
       "      <td>16.00</td>\n",
       "      <td>Feb/2015</td>\n",
       "      <td>Noida</td>\n",
       "      <td>Saama Capital, Elevation Capital, Alibaba, Ber...</td>\n",
       "    </tr>\n",
       "    <tr>\n",
       "      <th>...</th>\n",
       "      <td>...</td>\n",
       "      <td>...</td>\n",
       "      <td>...</td>\n",
       "      <td>...</td>\n",
       "      <td>...</td>\n",
       "      <td>...</td>\n",
       "      <td>...</td>\n",
       "      <td>...</td>\n",
       "    </tr>\n",
       "    <tr>\n",
       "      <th>97</th>\n",
       "      <td>98</td>\n",
       "      <td>Purplle</td>\n",
       "      <td>E-Commerce - Personal Care &amp; Cosmetics</td>\n",
       "      <td>1.10</td>\n",
       "      <td>1.10</td>\n",
       "      <td>Jun/2022</td>\n",
       "      <td>Mumbai</td>\n",
       "      <td>JSW Ventures, IvyCap Ventures, Blume Ventures,...</td>\n",
       "    </tr>\n",
       "    <tr>\n",
       "      <th>98</th>\n",
       "      <td>99</td>\n",
       "      <td>Leadsquared</td>\n",
       "      <td>SaaS - CRM</td>\n",
       "      <td>1.00</td>\n",
       "      <td>1.00</td>\n",
       "      <td>Jun/2022</td>\n",
       "      <td>Bangalore</td>\n",
       "      <td>Stakeboat Capital, Gaja Capital, WestBridge</td>\n",
       "    </tr>\n",
       "    <tr>\n",
       "      <th>99</th>\n",
       "      <td>100</td>\n",
       "      <td>OneCard</td>\n",
       "      <td>Fintech - Credit Cards</td>\n",
       "      <td>1.30</td>\n",
       "      <td>1.30</td>\n",
       "      <td>Jul/2022</td>\n",
       "      <td>Pune</td>\n",
       "      <td>QED Investors, Matrix Partners India, Sequoia ...</td>\n",
       "    </tr>\n",
       "    <tr>\n",
       "      <th>100</th>\n",
       "      <td>101</td>\n",
       "      <td>Shiprocket</td>\n",
       "      <td>Aggregator - Logistics Services</td>\n",
       "      <td>1.23</td>\n",
       "      <td>1.23</td>\n",
       "      <td>Aug/2022</td>\n",
       "      <td>Delhi</td>\n",
       "      <td>Lightrock India, Info Edge, Tribe Capital, Tem...</td>\n",
       "    </tr>\n",
       "    <tr>\n",
       "      <th>101</th>\n",
       "      <td>102</td>\n",
       "      <td>Molbio Diagnostics</td>\n",
       "      <td>Healthtech - Diagnostics</td>\n",
       "      <td>1.53</td>\n",
       "      <td>1.53</td>\n",
       "      <td>Sep/2022</td>\n",
       "      <td>Goa</td>\n",
       "      <td>Temasek, Motilal Oswal</td>\n",
       "    </tr>\n",
       "  </tbody>\n",
       "</table>\n",
       "<p>102 rows × 8 columns</p>\n",
       "</div>"
      ],
      "text/plain": [
       "     No.             Company                                  Sector  \\\n",
       "0      1              InMobi                     Adtech - Mobile Ads   \n",
       "1      2           Flipkart^                              E-Commerce   \n",
       "2      3            Mu Sigma                        SaaS - Analytics   \n",
       "3      4           Snapdeal*                              E-Commerce   \n",
       "4      5              PayTM^             Fintech - Payments & Wallet   \n",
       "..   ...                 ...                                     ...   \n",
       "97    98             Purplle  E-Commerce - Personal Care & Cosmetics   \n",
       "98    99         Leadsquared                              SaaS - CRM   \n",
       "99   100             OneCard                  Fintech - Credit Cards   \n",
       "100  101          Shiprocket         Aggregator - Logistics Services   \n",
       "101  102  Molbio Diagnostics                Healthtech - Diagnostics   \n",
       "\n",
       "     Entry Valuation^^ ($B)  Valuation ($B)     Entry             Location  \\\n",
       "0                      1.00            1.00  Sep/2011  Bangalore/Singapore   \n",
       "1                      1.00           37.60  Feb/2012  Bangalore/Singapore   \n",
       "2                      1.00            1.50  Feb/2013    Bangalore/Chicago   \n",
       "3                      1.80            2.40  Oct/2014                Delhi   \n",
       "4                      1.70           16.00  Feb/2015                Noida   \n",
       "..                      ...             ...       ...                  ...   \n",
       "97                     1.10            1.10  Jun/2022               Mumbai   \n",
       "98                     1.00            1.00  Jun/2022            Bangalore   \n",
       "99                     1.30            1.30  Jul/2022                 Pune   \n",
       "100                    1.23            1.23  Aug/2022                Delhi   \n",
       "101                    1.53            1.53  Sep/2022                  Goa   \n",
       "\n",
       "                                      Select Investors  \n",
       "0                    KPCB, Sherpalo Ventures, SoftBank  \n",
       "1      Accel, Tiger Global, Naspers, SoftBank, Tencent  \n",
       "2             Accel, Sequoia Capital, General Atlantic  \n",
       "3    Kalaari Capital, Nexus Ventures, Bessemer, Sof...  \n",
       "4    Saama Capital, Elevation Capital, Alibaba, Ber...  \n",
       "..                                                 ...  \n",
       "97   JSW Ventures, IvyCap Ventures, Blume Ventures,...  \n",
       "98         Stakeboat Capital, Gaja Capital, WestBridge  \n",
       "99   QED Investors, Matrix Partners India, Sequoia ...  \n",
       "100  Lightrock India, Info Edge, Tribe Capital, Tem...  \n",
       "101                             Temasek, Motilal Oswal  \n",
       "\n",
       "[102 rows x 8 columns]"
      ]
     },
     "execution_count": 374,
     "metadata": {},
     "output_type": "execute_result"
    }
   ],
   "source": [
    "df = pd.read_csv(\"/kaggle/input/indian-unicorn-startups-2023-june-updated/Indian Unicorn startups 2023 updated.csv\")\n",
    "df"
   ]
  },
  {
   "cell_type": "code",
   "execution_count": 375,
   "id": "c68a28ca",
   "metadata": {
    "execution": {
     "iopub.execute_input": "2023-11-16T15:54:05.590387Z",
     "iopub.status.busy": "2023-11-16T15:54:05.590041Z",
     "iopub.status.idle": "2023-11-16T15:54:05.601222Z",
     "shell.execute_reply": "2023-11-16T15:54:05.600258Z"
    },
    "papermill": {
     "duration": 0.165237,
     "end_time": "2023-11-16T15:54:05.603564",
     "exception": false,
     "start_time": "2023-11-16T15:54:05.438327",
     "status": "completed"
    },
    "tags": []
   },
   "outputs": [
    {
     "data": {
      "text/html": [
       "<div>\n",
       "<style scoped>\n",
       "    .dataframe tbody tr th:only-of-type {\n",
       "        vertical-align: middle;\n",
       "    }\n",
       "\n",
       "    .dataframe tbody tr th {\n",
       "        vertical-align: top;\n",
       "    }\n",
       "\n",
       "    .dataframe thead th {\n",
       "        text-align: right;\n",
       "    }\n",
       "</style>\n",
       "<table border=\"1\" class=\"dataframe\">\n",
       "  <thead>\n",
       "    <tr style=\"text-align: right;\">\n",
       "      <th></th>\n",
       "      <th>sno</th>\n",
       "      <th>names</th>\n",
       "      <th>marks</th>\n",
       "    </tr>\n",
       "  </thead>\n",
       "  <tbody>\n",
       "    <tr>\n",
       "      <th>0</th>\n",
       "      <td>1</td>\n",
       "      <td>mlv</td>\n",
       "      <td>10</td>\n",
       "    </tr>\n",
       "    <tr>\n",
       "      <th>1</th>\n",
       "      <td>2</td>\n",
       "      <td>abhi</td>\n",
       "      <td>20</td>\n",
       "    </tr>\n",
       "    <tr>\n",
       "      <th>2</th>\n",
       "      <td>3</td>\n",
       "      <td>joy</td>\n",
       "      <td>30</td>\n",
       "    </tr>\n",
       "  </tbody>\n",
       "</table>\n",
       "</div>"
      ],
      "text/plain": [
       "   sno names  marks\n",
       "0    1   mlv     10\n",
       "1    2  abhi     20\n",
       "2    3   joy     30"
      ]
     },
     "execution_count": 375,
     "metadata": {},
     "output_type": "execute_result"
    }
   ],
   "source": [
    "af = pd.DataFrame({ \"sno\"  :    [1,2,3],\n",
    "                   \"names\"  : [\"mlv\",\"abhi\",\"joy\"],\n",
    "                   \"marks\" : [10,20,30]\n",
    "    \n",
    "                \n",
    "                   })\n",
    "\n",
    "\n",
    "af"
   ]
  },
  {
   "cell_type": "code",
   "execution_count": 376,
   "id": "189a44cf",
   "metadata": {
    "execution": {
     "iopub.execute_input": "2023-11-16T15:54:05.930999Z",
     "iopub.status.busy": "2023-11-16T15:54:05.930670Z",
     "iopub.status.idle": "2023-11-16T15:54:05.940345Z",
     "shell.execute_reply": "2023-11-16T15:54:05.939193Z"
    },
    "papermill": {
     "duration": 0.168289,
     "end_time": "2023-11-16T15:54:05.942372",
     "exception": false,
     "start_time": "2023-11-16T15:54:05.774083",
     "status": "completed"
    },
    "tags": []
   },
   "outputs": [
    {
     "data": {
      "text/html": [
       "<div>\n",
       "<style scoped>\n",
       "    .dataframe tbody tr th:only-of-type {\n",
       "        vertical-align: middle;\n",
       "    }\n",
       "\n",
       "    .dataframe tbody tr th {\n",
       "        vertical-align: top;\n",
       "    }\n",
       "\n",
       "    .dataframe thead th {\n",
       "        text-align: right;\n",
       "    }\n",
       "</style>\n",
       "<table border=\"1\" class=\"dataframe\">\n",
       "  <thead>\n",
       "    <tr style=\"text-align: right;\">\n",
       "      <th></th>\n",
       "      <th>sno</th>\n",
       "      <th>names</th>\n",
       "      <th>marks</th>\n",
       "    </tr>\n",
       "  </thead>\n",
       "  <tbody>\n",
       "    <tr>\n",
       "      <th>0</th>\n",
       "      <td>1</td>\n",
       "      <td>mlv</td>\n",
       "      <td>10</td>\n",
       "    </tr>\n",
       "    <tr>\n",
       "      <th>1</th>\n",
       "      <td>2</td>\n",
       "      <td>abhi</td>\n",
       "      <td>20</td>\n",
       "    </tr>\n",
       "    <tr>\n",
       "      <th>2</th>\n",
       "      <td>3</td>\n",
       "      <td>joy</td>\n",
       "      <td>30</td>\n",
       "    </tr>\n",
       "  </tbody>\n",
       "</table>\n",
       "</div>"
      ],
      "text/plain": [
       "   sno names  marks\n",
       "0    1   mlv     10\n",
       "1    2  abhi     20\n",
       "2    3   joy     30"
      ]
     },
     "execution_count": 376,
     "metadata": {},
     "output_type": "execute_result"
    }
   ],
   "source": [
    "# select * from af\n",
    "\n",
    "af"
   ]
  },
  {
   "cell_type": "code",
   "execution_count": 377,
   "id": "11847819",
   "metadata": {
    "execution": {
     "iopub.execute_input": "2023-11-16T15:54:06.251843Z",
     "iopub.status.busy": "2023-11-16T15:54:06.251476Z",
     "iopub.status.idle": "2023-11-16T15:54:06.267019Z",
     "shell.execute_reply": "2023-11-16T15:54:06.265893Z"
    },
    "papermill": {
     "duration": 0.173394,
     "end_time": "2023-11-16T15:54:06.269107",
     "exception": false,
     "start_time": "2023-11-16T15:54:06.095713",
     "status": "completed"
    },
    "tags": []
   },
   "outputs": [
    {
     "data": {
      "text/html": [
       "<div>\n",
       "<style scoped>\n",
       "    .dataframe tbody tr th:only-of-type {\n",
       "        vertical-align: middle;\n",
       "    }\n",
       "\n",
       "    .dataframe tbody tr th {\n",
       "        vertical-align: top;\n",
       "    }\n",
       "\n",
       "    .dataframe thead th {\n",
       "        text-align: right;\n",
       "    }\n",
       "</style>\n",
       "<table border=\"1\" class=\"dataframe\">\n",
       "  <thead>\n",
       "    <tr style=\"text-align: right;\">\n",
       "      <th></th>\n",
       "      <th>names</th>\n",
       "      <th>marks</th>\n",
       "    </tr>\n",
       "  </thead>\n",
       "  <tbody>\n",
       "    <tr>\n",
       "      <th>0</th>\n",
       "      <td>mlv</td>\n",
       "      <td>10</td>\n",
       "    </tr>\n",
       "    <tr>\n",
       "      <th>1</th>\n",
       "      <td>abhi</td>\n",
       "      <td>20</td>\n",
       "    </tr>\n",
       "    <tr>\n",
       "      <th>2</th>\n",
       "      <td>joy</td>\n",
       "      <td>30</td>\n",
       "    </tr>\n",
       "  </tbody>\n",
       "</table>\n",
       "</div>"
      ],
      "text/plain": [
       "  names  marks\n",
       "0   mlv     10\n",
       "1  abhi     20\n",
       "2   joy     30"
      ]
     },
     "execution_count": 377,
     "metadata": {},
     "output_type": "execute_result"
    }
   ],
   "source": [
    "# select names, marks from af\n",
    "\n",
    "\n",
    "af[[\"names\",\"marks\"]]"
   ]
  },
  {
   "cell_type": "code",
   "execution_count": 378,
   "id": "e8acc051",
   "metadata": {
    "execution": {
     "iopub.execute_input": "2023-11-16T15:54:06.587318Z",
     "iopub.status.busy": "2023-11-16T15:54:06.586607Z",
     "iopub.status.idle": "2023-11-16T15:54:06.593822Z",
     "shell.execute_reply": "2023-11-16T15:54:06.592814Z"
    },
    "papermill": {
     "duration": 0.168237,
     "end_time": "2023-11-16T15:54:06.595910",
     "exception": false,
     "start_time": "2023-11-16T15:54:06.427673",
     "status": "completed"
    },
    "tags": []
   },
   "outputs": [
    {
     "data": {
      "text/plain": [
       "Index(['sno', 'names', 'marks'], dtype='object')"
      ]
     },
     "execution_count": 378,
     "metadata": {},
     "output_type": "execute_result"
    }
   ],
   "source": [
    "# desc af\n",
    "\n",
    "\n",
    "af.columns"
   ]
  },
  {
   "cell_type": "code",
   "execution_count": 379,
   "id": "c4511ef4",
   "metadata": {
    "execution": {
     "iopub.execute_input": "2023-11-16T15:54:06.912774Z",
     "iopub.status.busy": "2023-11-16T15:54:06.911902Z",
     "iopub.status.idle": "2023-11-16T15:54:06.918210Z",
     "shell.execute_reply": "2023-11-16T15:54:06.917376Z"
    },
    "papermill": {
     "duration": 0.167381,
     "end_time": "2023-11-16T15:54:06.920252",
     "exception": false,
     "start_time": "2023-11-16T15:54:06.752871",
     "status": "completed"
    },
    "tags": []
   },
   "outputs": [
    {
     "data": {
      "text/plain": [
       "(3, 3)"
      ]
     },
     "execution_count": 379,
     "metadata": {},
     "output_type": "execute_result"
    }
   ],
   "source": [
    "af.shape"
   ]
  },
  {
   "cell_type": "code",
   "execution_count": 380,
   "id": "672f3ce2",
   "metadata": {
    "execution": {
     "iopub.execute_input": "2023-11-16T15:54:07.272833Z",
     "iopub.status.busy": "2023-11-16T15:54:07.272455Z",
     "iopub.status.idle": "2023-11-16T15:54:07.294081Z",
     "shell.execute_reply": "2023-11-16T15:54:07.293149Z"
    },
    "papermill": {
     "duration": 0.221471,
     "end_time": "2023-11-16T15:54:07.296583",
     "exception": false,
     "start_time": "2023-11-16T15:54:07.075112",
     "status": "completed"
    },
    "tags": []
   },
   "outputs": [
    {
     "name": "stdout",
     "output_type": "stream",
     "text": [
      "<class 'pandas.core.frame.DataFrame'>\n",
      "RangeIndex: 3 entries, 0 to 2\n",
      "Data columns (total 3 columns):\n",
      " #   Column  Non-Null Count  Dtype \n",
      "---  ------  --------------  ----- \n",
      " 0   sno     3 non-null      int64 \n",
      " 1   names   3 non-null      object\n",
      " 2   marks   3 non-null      int64 \n",
      "dtypes: int64(2), object(1)\n",
      "memory usage: 200.0+ bytes\n"
     ]
    }
   ],
   "source": [
    "af.info()"
   ]
  },
  {
   "cell_type": "code",
   "execution_count": 381,
   "id": "0c140902",
   "metadata": {
    "execution": {
     "iopub.execute_input": "2023-11-16T15:54:07.601930Z",
     "iopub.status.busy": "2023-11-16T15:54:07.601596Z",
     "iopub.status.idle": "2023-11-16T15:54:07.618428Z",
     "shell.execute_reply": "2023-11-16T15:54:07.617538Z"
    },
    "papermill": {
     "duration": 0.169338,
     "end_time": "2023-11-16T15:54:07.620297",
     "exception": false,
     "start_time": "2023-11-16T15:54:07.450959",
     "status": "completed"
    },
    "tags": []
   },
   "outputs": [
    {
     "data": {
      "text/html": [
       "<div>\n",
       "<style scoped>\n",
       "    .dataframe tbody tr th:only-of-type {\n",
       "        vertical-align: middle;\n",
       "    }\n",
       "\n",
       "    .dataframe tbody tr th {\n",
       "        vertical-align: top;\n",
       "    }\n",
       "\n",
       "    .dataframe thead th {\n",
       "        text-align: right;\n",
       "    }\n",
       "</style>\n",
       "<table border=\"1\" class=\"dataframe\">\n",
       "  <thead>\n",
       "    <tr style=\"text-align: right;\">\n",
       "      <th></th>\n",
       "      <th>sno</th>\n",
       "      <th>marks</th>\n",
       "    </tr>\n",
       "  </thead>\n",
       "  <tbody>\n",
       "    <tr>\n",
       "      <th>count</th>\n",
       "      <td>3.0</td>\n",
       "      <td>3.0</td>\n",
       "    </tr>\n",
       "    <tr>\n",
       "      <th>mean</th>\n",
       "      <td>2.0</td>\n",
       "      <td>20.0</td>\n",
       "    </tr>\n",
       "    <tr>\n",
       "      <th>std</th>\n",
       "      <td>1.0</td>\n",
       "      <td>10.0</td>\n",
       "    </tr>\n",
       "    <tr>\n",
       "      <th>min</th>\n",
       "      <td>1.0</td>\n",
       "      <td>10.0</td>\n",
       "    </tr>\n",
       "    <tr>\n",
       "      <th>25%</th>\n",
       "      <td>1.5</td>\n",
       "      <td>15.0</td>\n",
       "    </tr>\n",
       "    <tr>\n",
       "      <th>50%</th>\n",
       "      <td>2.0</td>\n",
       "      <td>20.0</td>\n",
       "    </tr>\n",
       "    <tr>\n",
       "      <th>75%</th>\n",
       "      <td>2.5</td>\n",
       "      <td>25.0</td>\n",
       "    </tr>\n",
       "    <tr>\n",
       "      <th>max</th>\n",
       "      <td>3.0</td>\n",
       "      <td>30.0</td>\n",
       "    </tr>\n",
       "  </tbody>\n",
       "</table>\n",
       "</div>"
      ],
      "text/plain": [
       "       sno  marks\n",
       "count  3.0    3.0\n",
       "mean   2.0   20.0\n",
       "std    1.0   10.0\n",
       "min    1.0   10.0\n",
       "25%    1.5   15.0\n",
       "50%    2.0   20.0\n",
       "75%    2.5   25.0\n",
       "max    3.0   30.0"
      ]
     },
     "execution_count": 381,
     "metadata": {},
     "output_type": "execute_result"
    }
   ],
   "source": [
    "# str - object - category \n",
    "af.describe()"
   ]
  },
  {
   "cell_type": "code",
   "execution_count": 382,
   "id": "bd8d70ad",
   "metadata": {
    "execution": {
     "iopub.execute_input": "2023-11-16T15:54:07.930438Z",
     "iopub.status.busy": "2023-11-16T15:54:07.930071Z",
     "iopub.status.idle": "2023-11-16T15:54:07.935975Z",
     "shell.execute_reply": "2023-11-16T15:54:07.935096Z"
    },
    "papermill": {
     "duration": 0.162238,
     "end_time": "2023-11-16T15:54:07.938013",
     "exception": false,
     "start_time": "2023-11-16T15:54:07.775775",
     "status": "completed"
    },
    "tags": []
   },
   "outputs": [
    {
     "data": {
      "text/plain": [
       "(102, 8)"
      ]
     },
     "execution_count": 382,
     "metadata": {},
     "output_type": "execute_result"
    }
   ],
   "source": [
    "df.shape"
   ]
  },
  {
   "cell_type": "code",
   "execution_count": 383,
   "id": "4409e1fa",
   "metadata": {
    "execution": {
     "iopub.execute_input": "2023-11-16T15:54:08.244044Z",
     "iopub.status.busy": "2023-11-16T15:54:08.243674Z",
     "iopub.status.idle": "2023-11-16T15:54:08.259770Z",
     "shell.execute_reply": "2023-11-16T15:54:08.258879Z"
    },
    "papermill": {
     "duration": 0.169936,
     "end_time": "2023-11-16T15:54:08.261687",
     "exception": false,
     "start_time": "2023-11-16T15:54:08.091751",
     "status": "completed"
    },
    "tags": []
   },
   "outputs": [
    {
     "data": {
      "text/html": [
       "<div>\n",
       "<style scoped>\n",
       "    .dataframe tbody tr th:only-of-type {\n",
       "        vertical-align: middle;\n",
       "    }\n",
       "\n",
       "    .dataframe tbody tr th {\n",
       "        vertical-align: top;\n",
       "    }\n",
       "\n",
       "    .dataframe thead th {\n",
       "        text-align: right;\n",
       "    }\n",
       "</style>\n",
       "<table border=\"1\" class=\"dataframe\">\n",
       "  <thead>\n",
       "    <tr style=\"text-align: right;\">\n",
       "      <th></th>\n",
       "      <th>No.</th>\n",
       "      <th>Company</th>\n",
       "      <th>Sector</th>\n",
       "      <th>Entry Valuation^^ ($B)</th>\n",
       "      <th>Valuation ($B)</th>\n",
       "      <th>Entry</th>\n",
       "      <th>Location</th>\n",
       "      <th>Select Investors</th>\n",
       "    </tr>\n",
       "  </thead>\n",
       "  <tbody>\n",
       "    <tr>\n",
       "      <th>0</th>\n",
       "      <td>1</td>\n",
       "      <td>InMobi</td>\n",
       "      <td>Adtech - Mobile Ads</td>\n",
       "      <td>1.0</td>\n",
       "      <td>1.0</td>\n",
       "      <td>Sep/2011</td>\n",
       "      <td>Bangalore/Singapore</td>\n",
       "      <td>KPCB, Sherpalo Ventures, SoftBank</td>\n",
       "    </tr>\n",
       "    <tr>\n",
       "      <th>1</th>\n",
       "      <td>2</td>\n",
       "      <td>Flipkart^</td>\n",
       "      <td>E-Commerce</td>\n",
       "      <td>1.0</td>\n",
       "      <td>37.6</td>\n",
       "      <td>Feb/2012</td>\n",
       "      <td>Bangalore/Singapore</td>\n",
       "      <td>Accel, Tiger Global, Naspers, SoftBank, Tencent</td>\n",
       "    </tr>\n",
       "    <tr>\n",
       "      <th>2</th>\n",
       "      <td>3</td>\n",
       "      <td>Mu Sigma</td>\n",
       "      <td>SaaS - Analytics</td>\n",
       "      <td>1.0</td>\n",
       "      <td>1.5</td>\n",
       "      <td>Feb/2013</td>\n",
       "      <td>Bangalore/Chicago</td>\n",
       "      <td>Accel, Sequoia Capital, General Atlantic</td>\n",
       "    </tr>\n",
       "    <tr>\n",
       "      <th>3</th>\n",
       "      <td>4</td>\n",
       "      <td>Snapdeal*</td>\n",
       "      <td>E-Commerce</td>\n",
       "      <td>1.8</td>\n",
       "      <td>2.4</td>\n",
       "      <td>Oct/2014</td>\n",
       "      <td>Delhi</td>\n",
       "      <td>Kalaari Capital, Nexus Ventures, Bessemer, Sof...</td>\n",
       "    </tr>\n",
       "    <tr>\n",
       "      <th>4</th>\n",
       "      <td>5</td>\n",
       "      <td>PayTM^</td>\n",
       "      <td>Fintech - Payments &amp; Wallet</td>\n",
       "      <td>1.7</td>\n",
       "      <td>16.0</td>\n",
       "      <td>Feb/2015</td>\n",
       "      <td>Noida</td>\n",
       "      <td>Saama Capital, Elevation Capital, Alibaba, Ber...</td>\n",
       "    </tr>\n",
       "    <tr>\n",
       "      <th>5</th>\n",
       "      <td>6</td>\n",
       "      <td>Ola Cabs</td>\n",
       "      <td>Mobility - Ride Aggregator</td>\n",
       "      <td>1.6</td>\n",
       "      <td>7.3</td>\n",
       "      <td>Mar/2015</td>\n",
       "      <td>Bangalore</td>\n",
       "      <td>Tiger Global, Matrix Partners, Steadview, Soft...</td>\n",
       "    </tr>\n",
       "    <tr>\n",
       "      <th>6</th>\n",
       "      <td>7</td>\n",
       "      <td>Quikr*</td>\n",
       "      <td>Marketplace - Classifieds</td>\n",
       "      <td>1.0</td>\n",
       "      <td>1.5</td>\n",
       "      <td>Apr/2015</td>\n",
       "      <td>Bangalore</td>\n",
       "      <td>Matrix Partners, Omidyar Network, Norwest, Kin...</td>\n",
       "    </tr>\n",
       "    <tr>\n",
       "      <th>7</th>\n",
       "      <td>8</td>\n",
       "      <td>Zomato^</td>\n",
       "      <td>Foodtech</td>\n",
       "      <td>1.0</td>\n",
       "      <td>5.4</td>\n",
       "      <td>Sep/2015</td>\n",
       "      <td>Gurgaon</td>\n",
       "      <td>Info Edge, Sequoia Capital, Vy Capital, Alibab...</td>\n",
       "    </tr>\n",
       "    <tr>\n",
       "      <th>8</th>\n",
       "      <td>9</td>\n",
       "      <td>ShopClues*</td>\n",
       "      <td>E-Commerce</td>\n",
       "      <td>1.1</td>\n",
       "      <td>1.1</td>\n",
       "      <td>Jan/2016</td>\n",
       "      <td>Gurgaon</td>\n",
       "      <td>Nexus Ventures, Helion Ventures, Beenos, Tiger...</td>\n",
       "    </tr>\n",
       "    <tr>\n",
       "      <th>9</th>\n",
       "      <td>10</td>\n",
       "      <td>Hike*</td>\n",
       "      <td>Social Media - Messaging</td>\n",
       "      <td>1.4</td>\n",
       "      <td>1.4</td>\n",
       "      <td>Aug/2016</td>\n",
       "      <td>Delhi</td>\n",
       "      <td>Tiger Global, Tencent, Foxconn</td>\n",
       "    </tr>\n",
       "  </tbody>\n",
       "</table>\n",
       "</div>"
      ],
      "text/plain": [
       "   No.     Company                       Sector  Entry Valuation^^ ($B)  \\\n",
       "0    1      InMobi          Adtech - Mobile Ads                     1.0   \n",
       "1    2   Flipkart^                   E-Commerce                     1.0   \n",
       "2    3    Mu Sigma             SaaS - Analytics                     1.0   \n",
       "3    4   Snapdeal*                   E-Commerce                     1.8   \n",
       "4    5      PayTM^  Fintech - Payments & Wallet                     1.7   \n",
       "5    6    Ola Cabs   Mobility - Ride Aggregator                     1.6   \n",
       "6    7      Quikr*    Marketplace - Classifieds                     1.0   \n",
       "7    8     Zomato^                     Foodtech                     1.0   \n",
       "8    9  ShopClues*                   E-Commerce                     1.1   \n",
       "9   10       Hike*     Social Media - Messaging                     1.4   \n",
       "\n",
       "   Valuation ($B)     Entry             Location  \\\n",
       "0             1.0  Sep/2011  Bangalore/Singapore   \n",
       "1            37.6  Feb/2012  Bangalore/Singapore   \n",
       "2             1.5  Feb/2013    Bangalore/Chicago   \n",
       "3             2.4  Oct/2014                Delhi   \n",
       "4            16.0  Feb/2015                Noida   \n",
       "5             7.3  Mar/2015            Bangalore   \n",
       "6             1.5  Apr/2015            Bangalore   \n",
       "7             5.4  Sep/2015              Gurgaon   \n",
       "8             1.1  Jan/2016              Gurgaon   \n",
       "9             1.4  Aug/2016                Delhi   \n",
       "\n",
       "                                    Select Investors  \n",
       "0                  KPCB, Sherpalo Ventures, SoftBank  \n",
       "1    Accel, Tiger Global, Naspers, SoftBank, Tencent  \n",
       "2           Accel, Sequoia Capital, General Atlantic  \n",
       "3  Kalaari Capital, Nexus Ventures, Bessemer, Sof...  \n",
       "4  Saama Capital, Elevation Capital, Alibaba, Ber...  \n",
       "5  Tiger Global, Matrix Partners, Steadview, Soft...  \n",
       "6  Matrix Partners, Omidyar Network, Norwest, Kin...  \n",
       "7  Info Edge, Sequoia Capital, Vy Capital, Alibab...  \n",
       "8  Nexus Ventures, Helion Ventures, Beenos, Tiger...  \n",
       "9                     Tiger Global, Tencent, Foxconn  "
      ]
     },
     "execution_count": 383,
     "metadata": {},
     "output_type": "execute_result"
    }
   ],
   "source": [
    "# select * from af limit 10\n",
    "\n",
    "df.head(10)"
   ]
  },
  {
   "cell_type": "code",
   "execution_count": 384,
   "id": "d5a77420",
   "metadata": {
    "execution": {
     "iopub.execute_input": "2023-11-16T15:54:08.571309Z",
     "iopub.status.busy": "2023-11-16T15:54:08.570970Z",
     "iopub.status.idle": "2023-11-16T15:54:08.587586Z",
     "shell.execute_reply": "2023-11-16T15:54:08.586558Z"
    },
    "papermill": {
     "duration": 0.175825,
     "end_time": "2023-11-16T15:54:08.589687",
     "exception": false,
     "start_time": "2023-11-16T15:54:08.413862",
     "status": "completed"
    },
    "tags": []
   },
   "outputs": [
    {
     "data": {
      "text/html": [
       "<div>\n",
       "<style scoped>\n",
       "    .dataframe tbody tr th:only-of-type {\n",
       "        vertical-align: middle;\n",
       "    }\n",
       "\n",
       "    .dataframe tbody tr th {\n",
       "        vertical-align: top;\n",
       "    }\n",
       "\n",
       "    .dataframe thead th {\n",
       "        text-align: right;\n",
       "    }\n",
       "</style>\n",
       "<table border=\"1\" class=\"dataframe\">\n",
       "  <thead>\n",
       "    <tr style=\"text-align: right;\">\n",
       "      <th></th>\n",
       "      <th>No.</th>\n",
       "      <th>Company</th>\n",
       "      <th>Sector</th>\n",
       "      <th>Entry Valuation^^ ($B)</th>\n",
       "      <th>Valuation ($B)</th>\n",
       "      <th>Entry</th>\n",
       "      <th>Location</th>\n",
       "      <th>Select Investors</th>\n",
       "    </tr>\n",
       "  </thead>\n",
       "  <tbody>\n",
       "    <tr>\n",
       "      <th>92</th>\n",
       "      <td>93</td>\n",
       "      <td>Amagi Media Labs</td>\n",
       "      <td>SaaS - Local Ads Targeting</td>\n",
       "      <td>1.00</td>\n",
       "      <td>1.00</td>\n",
       "      <td>Mar/2022</td>\n",
       "      <td>Bangalore</td>\n",
       "      <td>Avataar Venture Partners, PremjiInvest, Accel ...</td>\n",
       "    </tr>\n",
       "    <tr>\n",
       "      <th>93</th>\n",
       "      <td>94</td>\n",
       "      <td>Oxyzo Financial Services</td>\n",
       "      <td>Fintech - Marketplace - SME Lending</td>\n",
       "      <td>1.00</td>\n",
       "      <td>1.00</td>\n",
       "      <td>Mar/2022</td>\n",
       "      <td>Gurgaon</td>\n",
       "      <td>Alpha Wave Global, Matrix Partners India, Tige...</td>\n",
       "    </tr>\n",
       "    <tr>\n",
       "      <th>94</th>\n",
       "      <td>95</td>\n",
       "      <td>Games24x7</td>\n",
       "      <td>Gaming</td>\n",
       "      <td>2.50</td>\n",
       "      <td>2.50</td>\n",
       "      <td>Mar/2022</td>\n",
       "      <td>Mumbai</td>\n",
       "      <td>Tiger Global, Malabar Investments,  The Raine ...</td>\n",
       "    </tr>\n",
       "    <tr>\n",
       "      <th>95</th>\n",
       "      <td>96</td>\n",
       "      <td>Open Financial Technologies</td>\n",
       "      <td>Fintech - Neo Bank</td>\n",
       "      <td>1.00</td>\n",
       "      <td>1.00</td>\n",
       "      <td>May/2022</td>\n",
       "      <td>Bangalore</td>\n",
       "      <td>3ONE4 Capital, Tiger Global, Temasek, Speedinvest</td>\n",
       "    </tr>\n",
       "    <tr>\n",
       "      <th>96</th>\n",
       "      <td>97</td>\n",
       "      <td>PhysicsWallah</td>\n",
       "      <td>Edtech</td>\n",
       "      <td>1.10</td>\n",
       "      <td>1.10</td>\n",
       "      <td>Jun/2022</td>\n",
       "      <td>Noida</td>\n",
       "      <td>GSV Ventures, WestBridge</td>\n",
       "    </tr>\n",
       "    <tr>\n",
       "      <th>97</th>\n",
       "      <td>98</td>\n",
       "      <td>Purplle</td>\n",
       "      <td>E-Commerce - Personal Care &amp; Cosmetics</td>\n",
       "      <td>1.10</td>\n",
       "      <td>1.10</td>\n",
       "      <td>Jun/2022</td>\n",
       "      <td>Mumbai</td>\n",
       "      <td>JSW Ventures, IvyCap Ventures, Blume Ventures,...</td>\n",
       "    </tr>\n",
       "    <tr>\n",
       "      <th>98</th>\n",
       "      <td>99</td>\n",
       "      <td>Leadsquared</td>\n",
       "      <td>SaaS - CRM</td>\n",
       "      <td>1.00</td>\n",
       "      <td>1.00</td>\n",
       "      <td>Jun/2022</td>\n",
       "      <td>Bangalore</td>\n",
       "      <td>Stakeboat Capital, Gaja Capital, WestBridge</td>\n",
       "    </tr>\n",
       "    <tr>\n",
       "      <th>99</th>\n",
       "      <td>100</td>\n",
       "      <td>OneCard</td>\n",
       "      <td>Fintech - Credit Cards</td>\n",
       "      <td>1.30</td>\n",
       "      <td>1.30</td>\n",
       "      <td>Jul/2022</td>\n",
       "      <td>Pune</td>\n",
       "      <td>QED Investors, Matrix Partners India, Sequoia ...</td>\n",
       "    </tr>\n",
       "    <tr>\n",
       "      <th>100</th>\n",
       "      <td>101</td>\n",
       "      <td>Shiprocket</td>\n",
       "      <td>Aggregator - Logistics Services</td>\n",
       "      <td>1.23</td>\n",
       "      <td>1.23</td>\n",
       "      <td>Aug/2022</td>\n",
       "      <td>Delhi</td>\n",
       "      <td>Lightrock India, Info Edge, Tribe Capital, Tem...</td>\n",
       "    </tr>\n",
       "    <tr>\n",
       "      <th>101</th>\n",
       "      <td>102</td>\n",
       "      <td>Molbio Diagnostics</td>\n",
       "      <td>Healthtech - Diagnostics</td>\n",
       "      <td>1.53</td>\n",
       "      <td>1.53</td>\n",
       "      <td>Sep/2022</td>\n",
       "      <td>Goa</td>\n",
       "      <td>Temasek, Motilal Oswal</td>\n",
       "    </tr>\n",
       "  </tbody>\n",
       "</table>\n",
       "</div>"
      ],
      "text/plain": [
       "     No.                      Company                                  Sector  \\\n",
       "92    93             Amagi Media Labs              SaaS - Local Ads Targeting   \n",
       "93    94     Oxyzo Financial Services     Fintech - Marketplace - SME Lending   \n",
       "94    95                    Games24x7                                  Gaming   \n",
       "95    96  Open Financial Technologies                      Fintech - Neo Bank   \n",
       "96    97                PhysicsWallah                                  Edtech   \n",
       "97    98                      Purplle  E-Commerce - Personal Care & Cosmetics   \n",
       "98    99                  Leadsquared                              SaaS - CRM   \n",
       "99   100                      OneCard                  Fintech - Credit Cards   \n",
       "100  101                   Shiprocket         Aggregator - Logistics Services   \n",
       "101  102           Molbio Diagnostics                Healthtech - Diagnostics   \n",
       "\n",
       "     Entry Valuation^^ ($B)  Valuation ($B)     Entry   Location  \\\n",
       "92                     1.00            1.00  Mar/2022  Bangalore   \n",
       "93                     1.00            1.00  Mar/2022    Gurgaon   \n",
       "94                     2.50            2.50  Mar/2022     Mumbai   \n",
       "95                     1.00            1.00  May/2022  Bangalore   \n",
       "96                     1.10            1.10  Jun/2022      Noida   \n",
       "97                     1.10            1.10  Jun/2022     Mumbai   \n",
       "98                     1.00            1.00  Jun/2022  Bangalore   \n",
       "99                     1.30            1.30  Jul/2022       Pune   \n",
       "100                    1.23            1.23  Aug/2022      Delhi   \n",
       "101                    1.53            1.53  Sep/2022        Goa   \n",
       "\n",
       "                                      Select Investors  \n",
       "92   Avataar Venture Partners, PremjiInvest, Accel ...  \n",
       "93   Alpha Wave Global, Matrix Partners India, Tige...  \n",
       "94   Tiger Global, Malabar Investments,  The Raine ...  \n",
       "95   3ONE4 Capital, Tiger Global, Temasek, Speedinvest  \n",
       "96                            GSV Ventures, WestBridge  \n",
       "97   JSW Ventures, IvyCap Ventures, Blume Ventures,...  \n",
       "98         Stakeboat Capital, Gaja Capital, WestBridge  \n",
       "99   QED Investors, Matrix Partners India, Sequoia ...  \n",
       "100  Lightrock India, Info Edge, Tribe Capital, Tem...  \n",
       "101                             Temasek, Motilal Oswal  "
      ]
     },
     "execution_count": 384,
     "metadata": {},
     "output_type": "execute_result"
    }
   ],
   "source": [
    "df.tail(10)"
   ]
  },
  {
   "cell_type": "code",
   "execution_count": 385,
   "id": "8e843cd3",
   "metadata": {
    "execution": {
     "iopub.execute_input": "2023-11-16T15:54:08.909046Z",
     "iopub.status.busy": "2023-11-16T15:54:08.908671Z",
     "iopub.status.idle": "2023-11-16T15:54:08.912901Z",
     "shell.execute_reply": "2023-11-16T15:54:08.911935Z"
    },
    "papermill": {
     "duration": 0.160527,
     "end_time": "2023-11-16T15:54:08.915068",
     "exception": false,
     "start_time": "2023-11-16T15:54:08.754541",
     "status": "completed"
    },
    "tags": []
   },
   "outputs": [],
   "source": [
    "# a = [1,2,34,5]\n",
    "# a[1:3]"
   ]
  },
  {
   "cell_type": "code",
   "execution_count": 386,
   "id": "963037ac",
   "metadata": {
    "execution": {
     "iopub.execute_input": "2023-11-16T15:54:09.222340Z",
     "iopub.status.busy": "2023-11-16T15:54:09.221650Z",
     "iopub.status.idle": "2023-11-16T15:54:09.231901Z",
     "shell.execute_reply": "2023-11-16T15:54:09.230896Z"
    },
    "papermill": {
     "duration": 0.166272,
     "end_time": "2023-11-16T15:54:09.233914",
     "exception": false,
     "start_time": "2023-11-16T15:54:09.067642",
     "status": "completed"
    },
    "tags": []
   },
   "outputs": [
    {
     "data": {
      "text/html": [
       "<div>\n",
       "<style scoped>\n",
       "    .dataframe tbody tr th:only-of-type {\n",
       "        vertical-align: middle;\n",
       "    }\n",
       "\n",
       "    .dataframe tbody tr th {\n",
       "        vertical-align: top;\n",
       "    }\n",
       "\n",
       "    .dataframe thead th {\n",
       "        text-align: right;\n",
       "    }\n",
       "</style>\n",
       "<table border=\"1\" class=\"dataframe\">\n",
       "  <thead>\n",
       "    <tr style=\"text-align: right;\">\n",
       "      <th></th>\n",
       "      <th>Entry</th>\n",
       "      <th>Location</th>\n",
       "    </tr>\n",
       "  </thead>\n",
       "  <tbody>\n",
       "    <tr>\n",
       "      <th>2</th>\n",
       "      <td>Feb/2013</td>\n",
       "      <td>Bangalore/Chicago</td>\n",
       "    </tr>\n",
       "    <tr>\n",
       "      <th>3</th>\n",
       "      <td>Oct/2014</td>\n",
       "      <td>Delhi</td>\n",
       "    </tr>\n",
       "    <tr>\n",
       "      <th>4</th>\n",
       "      <td>Feb/2015</td>\n",
       "      <td>Noida</td>\n",
       "    </tr>\n",
       "    <tr>\n",
       "      <th>5</th>\n",
       "      <td>Mar/2015</td>\n",
       "      <td>Bangalore</td>\n",
       "    </tr>\n",
       "    <tr>\n",
       "      <th>6</th>\n",
       "      <td>Apr/2015</td>\n",
       "      <td>Bangalore</td>\n",
       "    </tr>\n",
       "    <tr>\n",
       "      <th>7</th>\n",
       "      <td>Sep/2015</td>\n",
       "      <td>Gurgaon</td>\n",
       "    </tr>\n",
       "    <tr>\n",
       "      <th>8</th>\n",
       "      <td>Jan/2016</td>\n",
       "      <td>Gurgaon</td>\n",
       "    </tr>\n",
       "    <tr>\n",
       "      <th>9</th>\n",
       "      <td>Aug/2016</td>\n",
       "      <td>Delhi</td>\n",
       "    </tr>\n",
       "  </tbody>\n",
       "</table>\n",
       "</div>"
      ],
      "text/plain": [
       "      Entry           Location\n",
       "2  Feb/2013  Bangalore/Chicago\n",
       "3  Oct/2014              Delhi\n",
       "4  Feb/2015              Noida\n",
       "5  Mar/2015          Bangalore\n",
       "6  Apr/2015          Bangalore\n",
       "7  Sep/2015            Gurgaon\n",
       "8  Jan/2016            Gurgaon\n",
       "9  Aug/2016              Delhi"
      ]
     },
     "execution_count": 386,
     "metadata": {},
     "output_type": "execute_result"
    }
   ],
   "source": [
    "df.iloc[2:10,5:7]"
   ]
  },
  {
   "cell_type": "code",
   "execution_count": 387,
   "id": "8d22c3a4",
   "metadata": {
    "execution": {
     "iopub.execute_input": "2023-11-16T15:54:09.542238Z",
     "iopub.status.busy": "2023-11-16T15:54:09.541401Z",
     "iopub.status.idle": "2023-11-16T15:54:09.552296Z",
     "shell.execute_reply": "2023-11-16T15:54:09.551406Z"
    },
    "papermill": {
     "duration": 0.168457,
     "end_time": "2023-11-16T15:54:09.554631",
     "exception": false,
     "start_time": "2023-11-16T15:54:09.386174",
     "status": "completed"
    },
    "tags": []
   },
   "outputs": [
    {
     "data": {
      "text/html": [
       "<div>\n",
       "<style scoped>\n",
       "    .dataframe tbody tr th:only-of-type {\n",
       "        vertical-align: middle;\n",
       "    }\n",
       "\n",
       "    .dataframe tbody tr th {\n",
       "        vertical-align: top;\n",
       "    }\n",
       "\n",
       "    .dataframe thead th {\n",
       "        text-align: right;\n",
       "    }\n",
       "</style>\n",
       "<table border=\"1\" class=\"dataframe\">\n",
       "  <thead>\n",
       "    <tr style=\"text-align: right;\">\n",
       "      <th></th>\n",
       "      <th>Entry</th>\n",
       "      <th>Location</th>\n",
       "    </tr>\n",
       "  </thead>\n",
       "  <tbody>\n",
       "    <tr>\n",
       "      <th>2</th>\n",
       "      <td>Feb/2013</td>\n",
       "      <td>Bangalore/Chicago</td>\n",
       "    </tr>\n",
       "    <tr>\n",
       "      <th>3</th>\n",
       "      <td>Oct/2014</td>\n",
       "      <td>Delhi</td>\n",
       "    </tr>\n",
       "    <tr>\n",
       "      <th>4</th>\n",
       "      <td>Feb/2015</td>\n",
       "      <td>Noida</td>\n",
       "    </tr>\n",
       "    <tr>\n",
       "      <th>5</th>\n",
       "      <td>Mar/2015</td>\n",
       "      <td>Bangalore</td>\n",
       "    </tr>\n",
       "    <tr>\n",
       "      <th>6</th>\n",
       "      <td>Apr/2015</td>\n",
       "      <td>Bangalore</td>\n",
       "    </tr>\n",
       "    <tr>\n",
       "      <th>7</th>\n",
       "      <td>Sep/2015</td>\n",
       "      <td>Gurgaon</td>\n",
       "    </tr>\n",
       "    <tr>\n",
       "      <th>8</th>\n",
       "      <td>Jan/2016</td>\n",
       "      <td>Gurgaon</td>\n",
       "    </tr>\n",
       "    <tr>\n",
       "      <th>9</th>\n",
       "      <td>Aug/2016</td>\n",
       "      <td>Delhi</td>\n",
       "    </tr>\n",
       "  </tbody>\n",
       "</table>\n",
       "</div>"
      ],
      "text/plain": [
       "      Entry           Location\n",
       "2  Feb/2013  Bangalore/Chicago\n",
       "3  Oct/2014              Delhi\n",
       "4  Feb/2015              Noida\n",
       "5  Mar/2015          Bangalore\n",
       "6  Apr/2015          Bangalore\n",
       "7  Sep/2015            Gurgaon\n",
       "8  Jan/2016            Gurgaon\n",
       "9  Aug/2016              Delhi"
      ]
     },
     "execution_count": 387,
     "metadata": {},
     "output_type": "execute_result"
    }
   ],
   "source": [
    "df.loc[2:9,[\"Entry\",\"Location\"]]"
   ]
  },
  {
   "cell_type": "code",
   "execution_count": 388,
   "id": "db3adc4b",
   "metadata": {
    "execution": {
     "iopub.execute_input": "2023-11-16T15:54:09.870640Z",
     "iopub.status.busy": "2023-11-16T15:54:09.869895Z",
     "iopub.status.idle": "2023-11-16T15:54:09.886249Z",
     "shell.execute_reply": "2023-11-16T15:54:09.885156Z"
    },
    "papermill": {
     "duration": 0.174887,
     "end_time": "2023-11-16T15:54:09.888432",
     "exception": false,
     "start_time": "2023-11-16T15:54:09.713545",
     "status": "completed"
    },
    "tags": []
   },
   "outputs": [
    {
     "data": {
      "text/html": [
       "<div>\n",
       "<style scoped>\n",
       "    .dataframe tbody tr th:only-of-type {\n",
       "        vertical-align: middle;\n",
       "    }\n",
       "\n",
       "    .dataframe tbody tr th {\n",
       "        vertical-align: top;\n",
       "    }\n",
       "\n",
       "    .dataframe thead th {\n",
       "        text-align: right;\n",
       "    }\n",
       "</style>\n",
       "<table border=\"1\" class=\"dataframe\">\n",
       "  <thead>\n",
       "    <tr style=\"text-align: right;\">\n",
       "      <th></th>\n",
       "      <th>No.</th>\n",
       "      <th>Company</th>\n",
       "      <th>Sector</th>\n",
       "      <th>Entry Valuation^^ ($B)</th>\n",
       "      <th>Valuation ($B)</th>\n",
       "      <th>Entry</th>\n",
       "      <th>Location</th>\n",
       "      <th>Select Investors</th>\n",
       "    </tr>\n",
       "  </thead>\n",
       "  <tbody>\n",
       "    <tr>\n",
       "      <th>3</th>\n",
       "      <td>4</td>\n",
       "      <td>Snapdeal*</td>\n",
       "      <td>E-Commerce</td>\n",
       "      <td>1.8</td>\n",
       "      <td>2.4</td>\n",
       "      <td>Oct/2014</td>\n",
       "      <td>Delhi</td>\n",
       "      <td>Kalaari Capital, Nexus Ventures, Bessemer, Sof...</td>\n",
       "    </tr>\n",
       "    <tr>\n",
       "      <th>9</th>\n",
       "      <td>10</td>\n",
       "      <td>Hike*</td>\n",
       "      <td>Social Media - Messaging</td>\n",
       "      <td>1.4</td>\n",
       "      <td>1.4</td>\n",
       "      <td>Aug/2016</td>\n",
       "      <td>Delhi</td>\n",
       "      <td>Tiger Global, Tencent, Foxconn</td>\n",
       "    </tr>\n",
       "    <tr>\n",
       "      <th>26</th>\n",
       "      <td>27</td>\n",
       "      <td>Lenskart</td>\n",
       "      <td>E-Commerce - Eyewear</td>\n",
       "      <td>1.1</td>\n",
       "      <td>4.5</td>\n",
       "      <td>Sep/2019</td>\n",
       "      <td>Delhi</td>\n",
       "      <td>SoftBank, Kedaara Capital, TPG, Chiratae Ventu...</td>\n",
       "    </tr>\n",
       "  </tbody>\n",
       "</table>\n",
       "</div>"
      ],
      "text/plain": [
       "    No.    Company                    Sector  Entry Valuation^^ ($B)  \\\n",
       "3     4  Snapdeal*                E-Commerce                     1.8   \n",
       "9    10      Hike*  Social Media - Messaging                     1.4   \n",
       "26   27   Lenskart      E-Commerce - Eyewear                     1.1   \n",
       "\n",
       "    Valuation ($B)     Entry Location  \\\n",
       "3              2.4  Oct/2014    Delhi   \n",
       "9              1.4  Aug/2016    Delhi   \n",
       "26             4.5  Sep/2019    Delhi   \n",
       "\n",
       "                                     Select Investors  \n",
       "3   Kalaari Capital, Nexus Ventures, Bessemer, Sof...  \n",
       "9                      Tiger Global, Tencent, Foxconn  \n",
       "26  SoftBank, Kedaara Capital, TPG, Chiratae Ventu...  "
      ]
     },
     "execution_count": 388,
     "metadata": {},
     "output_type": "execute_result"
    }
   ],
   "source": [
    "# iloc  \n",
    "\n",
    "\n",
    "# select * from df \n",
    "# where location = \"delhi\" and no < 50\n",
    "\n",
    "\n",
    "df[  (df[\"Location\"] == \"Delhi\" )   &   ( df[\"No.\"]  < 50)]"
   ]
  },
  {
   "cell_type": "code",
   "execution_count": 389,
   "id": "5e81d71b",
   "metadata": {
    "execution": {
     "iopub.execute_input": "2023-11-16T15:54:10.264186Z",
     "iopub.status.busy": "2023-11-16T15:54:10.263789Z",
     "iopub.status.idle": "2023-11-16T15:54:10.298283Z",
     "shell.execute_reply": "2023-11-16T15:54:10.297199Z"
    },
    "papermill": {
     "duration": 0.243355,
     "end_time": "2023-11-16T15:54:10.300368",
     "exception": false,
     "start_time": "2023-11-16T15:54:10.057013",
     "status": "completed"
    },
    "tags": []
   },
   "outputs": [
    {
     "data": {
      "text/html": [
       "<div>\n",
       "<style scoped>\n",
       "    .dataframe tbody tr th:only-of-type {\n",
       "        vertical-align: middle;\n",
       "    }\n",
       "\n",
       "    .dataframe tbody tr th {\n",
       "        vertical-align: top;\n",
       "    }\n",
       "\n",
       "    .dataframe thead th {\n",
       "        text-align: right;\n",
       "    }\n",
       "</style>\n",
       "<table border=\"1\" class=\"dataframe\">\n",
       "  <thead>\n",
       "    <tr style=\"text-align: right;\">\n",
       "      <th></th>\n",
       "      <th>No.</th>\n",
       "      <th>Company</th>\n",
       "      <th>Sector</th>\n",
       "      <th>Entry Valuation^^ ($B)</th>\n",
       "      <th>Valuation ($B)</th>\n",
       "      <th>Entry</th>\n",
       "      <th>Location</th>\n",
       "      <th>Select Investors</th>\n",
       "    </tr>\n",
       "  </thead>\n",
       "  <tbody>\n",
       "    <tr>\n",
       "      <th>0</th>\n",
       "      <td>1</td>\n",
       "      <td>InMobi</td>\n",
       "      <td>Adtech - Mobile Ads</td>\n",
       "      <td>1.00</td>\n",
       "      <td>1.00</td>\n",
       "      <td>Sep/2011</td>\n",
       "      <td>Bangalore/Singapore</td>\n",
       "      <td>KPCB, Sherpalo Ventures, SoftBank</td>\n",
       "    </tr>\n",
       "    <tr>\n",
       "      <th>1</th>\n",
       "      <td>2</td>\n",
       "      <td>Flipkart^</td>\n",
       "      <td>E-Commerce</td>\n",
       "      <td>1.00</td>\n",
       "      <td>37.60</td>\n",
       "      <td>Feb/2012</td>\n",
       "      <td>Bangalore/Singapore</td>\n",
       "      <td>Accel, Tiger Global, Naspers, SoftBank, Tencent</td>\n",
       "    </tr>\n",
       "    <tr>\n",
       "      <th>2</th>\n",
       "      <td>3</td>\n",
       "      <td>Mu Sigma</td>\n",
       "      <td>SaaS - Analytics</td>\n",
       "      <td>1.00</td>\n",
       "      <td>1.50</td>\n",
       "      <td>Feb/2013</td>\n",
       "      <td>Bangalore/Chicago</td>\n",
       "      <td>Accel, Sequoia Capital, General Atlantic</td>\n",
       "    </tr>\n",
       "    <tr>\n",
       "      <th>3</th>\n",
       "      <td>4</td>\n",
       "      <td>Snapdeal*</td>\n",
       "      <td>E-Commerce</td>\n",
       "      <td>1.80</td>\n",
       "      <td>2.40</td>\n",
       "      <td>Oct/2014</td>\n",
       "      <td>Delhi</td>\n",
       "      <td>Kalaari Capital, Nexus Ventures, Bessemer, Sof...</td>\n",
       "    </tr>\n",
       "    <tr>\n",
       "      <th>4</th>\n",
       "      <td>5</td>\n",
       "      <td>PayTM^</td>\n",
       "      <td>Fintech - Payments &amp; Wallet</td>\n",
       "      <td>1.70</td>\n",
       "      <td>16.00</td>\n",
       "      <td>Feb/2015</td>\n",
       "      <td>Noida</td>\n",
       "      <td>Saama Capital, Elevation Capital, Alibaba, Ber...</td>\n",
       "    </tr>\n",
       "    <tr>\n",
       "      <th>5</th>\n",
       "      <td>6</td>\n",
       "      <td>Ola Cabs</td>\n",
       "      <td>Mobility - Ride Aggregator</td>\n",
       "      <td>1.60</td>\n",
       "      <td>7.30</td>\n",
       "      <td>Mar/2015</td>\n",
       "      <td>Bangalore</td>\n",
       "      <td>Tiger Global, Matrix Partners, Steadview, Soft...</td>\n",
       "    </tr>\n",
       "    <tr>\n",
       "      <th>6</th>\n",
       "      <td>7</td>\n",
       "      <td>Quikr*</td>\n",
       "      <td>Marketplace - Classifieds</td>\n",
       "      <td>1.00</td>\n",
       "      <td>1.50</td>\n",
       "      <td>Apr/2015</td>\n",
       "      <td>Bangalore</td>\n",
       "      <td>Matrix Partners, Omidyar Network, Norwest, Kin...</td>\n",
       "    </tr>\n",
       "    <tr>\n",
       "      <th>7</th>\n",
       "      <td>8</td>\n",
       "      <td>Zomato^</td>\n",
       "      <td>Foodtech</td>\n",
       "      <td>1.00</td>\n",
       "      <td>5.40</td>\n",
       "      <td>Sep/2015</td>\n",
       "      <td>Gurgaon</td>\n",
       "      <td>Info Edge, Sequoia Capital, Vy Capital, Alibab...</td>\n",
       "    </tr>\n",
       "    <tr>\n",
       "      <th>8</th>\n",
       "      <td>9</td>\n",
       "      <td>ShopClues*</td>\n",
       "      <td>E-Commerce</td>\n",
       "      <td>1.10</td>\n",
       "      <td>1.10</td>\n",
       "      <td>Jan/2016</td>\n",
       "      <td>Gurgaon</td>\n",
       "      <td>Nexus Ventures, Helion Ventures, Beenos, Tiger...</td>\n",
       "    </tr>\n",
       "    <tr>\n",
       "      <th>9</th>\n",
       "      <td>10</td>\n",
       "      <td>Hike*</td>\n",
       "      <td>Social Media - Messaging</td>\n",
       "      <td>1.40</td>\n",
       "      <td>1.40</td>\n",
       "      <td>Aug/2016</td>\n",
       "      <td>Delhi</td>\n",
       "      <td>Tiger Global, Tencent, Foxconn</td>\n",
       "    </tr>\n",
       "    <tr>\n",
       "      <th>10</th>\n",
       "      <td>11</td>\n",
       "      <td>BYJUS</td>\n",
       "      <td>Edtech</td>\n",
       "      <td>1.00</td>\n",
       "      <td>22.00</td>\n",
       "      <td>Jan/2018</td>\n",
       "      <td>Bangalore</td>\n",
       "      <td>Aarin Capital, Sequoia Capital, Lightspeed Ven...</td>\n",
       "    </tr>\n",
       "    <tr>\n",
       "      <th>11</th>\n",
       "      <td>12</td>\n",
       "      <td>PayTM Mall*</td>\n",
       "      <td>E-Commerce</td>\n",
       "      <td>1.90</td>\n",
       "      <td>3.00</td>\n",
       "      <td>Apr/2018</td>\n",
       "      <td>Noida</td>\n",
       "      <td>Elevation Capital, Alibaba, SoftBank, eBay</td>\n",
       "    </tr>\n",
       "    <tr>\n",
       "      <th>12</th>\n",
       "      <td>13</td>\n",
       "      <td>Swiggy</td>\n",
       "      <td>Foodtech</td>\n",
       "      <td>1.40</td>\n",
       "      <td>10.70</td>\n",
       "      <td>Jun/2018</td>\n",
       "      <td>Bangalore</td>\n",
       "      <td>Accel, Elevation Capital, Norwest, Naspers, Te...</td>\n",
       "    </tr>\n",
       "    <tr>\n",
       "      <th>13</th>\n",
       "      <td>14</td>\n",
       "      <td>PolicyBazaar^</td>\n",
       "      <td>Fintech - Insurance</td>\n",
       "      <td>1.00</td>\n",
       "      <td>2.40</td>\n",
       "      <td>Jun/2018</td>\n",
       "      <td>Gurgaon</td>\n",
       "      <td>Info Edge, Intel, Inventus Capital, Tiger Glob...</td>\n",
       "    </tr>\n",
       "    <tr>\n",
       "      <th>14</th>\n",
       "      <td>15</td>\n",
       "      <td>Freshworks^</td>\n",
       "      <td>SaaS - CRM</td>\n",
       "      <td>1.50</td>\n",
       "      <td>3.50</td>\n",
       "      <td>Jul/2018</td>\n",
       "      <td>Chennai/San Mateo</td>\n",
       "      <td>Accel, Tiger Global, Google, Sequoia Capital, ...</td>\n",
       "    </tr>\n",
       "    <tr>\n",
       "      <th>15</th>\n",
       "      <td>16</td>\n",
       "      <td>OYO Rooms</td>\n",
       "      <td>Proptech - Hotel Booking</td>\n",
       "      <td>4.90</td>\n",
       "      <td>9.60</td>\n",
       "      <td>Sep/2018</td>\n",
       "      <td>Gurgaon</td>\n",
       "      <td>Lightspeed Ventures, Sequoia Capital, SoftBank</td>\n",
       "    </tr>\n",
       "    <tr>\n",
       "      <th>16</th>\n",
       "      <td>17</td>\n",
       "      <td>Udaan</td>\n",
       "      <td>B2B E-Commerce</td>\n",
       "      <td>1.00</td>\n",
       "      <td>3.10</td>\n",
       "      <td>Sep/2018</td>\n",
       "      <td>Bangalore</td>\n",
       "      <td>Lightspeed Ventures, DST Global, Tencent</td>\n",
       "    </tr>\n",
       "    <tr>\n",
       "      <th>17</th>\n",
       "      <td>18</td>\n",
       "      <td>BillDesk</td>\n",
       "      <td>Fintech - B2B Payments</td>\n",
       "      <td>1.60</td>\n",
       "      <td>1.60</td>\n",
       "      <td>Nov/2018</td>\n",
       "      <td>Mumbai</td>\n",
       "      <td>SIDBI VC, TA Associates, General Atlantic</td>\n",
       "    </tr>\n",
       "    <tr>\n",
       "      <th>18</th>\n",
       "      <td>19</td>\n",
       "      <td>Delhivery^</td>\n",
       "      <td>Logistics Services</td>\n",
       "      <td>1.60</td>\n",
       "      <td>3.00</td>\n",
       "      <td>Jan/2019</td>\n",
       "      <td>Gurgaon</td>\n",
       "      <td>Nexus Ventures, Multiples PE, Tiger Global, Ca...</td>\n",
       "    </tr>\n",
       "    <tr>\n",
       "      <th>19</th>\n",
       "      <td>20</td>\n",
       "      <td>Rivigo</td>\n",
       "      <td>Logistics Services - Trucks</td>\n",
       "      <td>1.10</td>\n",
       "      <td>1.10</td>\n",
       "      <td>Feb/2019</td>\n",
       "      <td>Gurgaon</td>\n",
       "      <td>Elevation Capital, Warburg Pincus</td>\n",
       "    </tr>\n",
       "    <tr>\n",
       "      <th>20</th>\n",
       "      <td>21</td>\n",
       "      <td>BigBasket</td>\n",
       "      <td>E-Commerce - Groceries</td>\n",
       "      <td>1.10</td>\n",
       "      <td>2.00</td>\n",
       "      <td>Mar/2019</td>\n",
       "      <td>Bangalore</td>\n",
       "      <td>Ascent Capital, Helion Ventures, Bessemer, IFC...</td>\n",
       "    </tr>\n",
       "    <tr>\n",
       "      <th>21</th>\n",
       "      <td>22</td>\n",
       "      <td>Dream11</td>\n",
       "      <td>Gaming</td>\n",
       "      <td>1.00</td>\n",
       "      <td>8.00</td>\n",
       "      <td>Apr/2019</td>\n",
       "      <td>Mumbai</td>\n",
       "      <td>Kalaari Capital, Tencent, Multiples PE, Steadv...</td>\n",
       "    </tr>\n",
       "    <tr>\n",
       "      <th>22</th>\n",
       "      <td>23</td>\n",
       "      <td>Druva Software</td>\n",
       "      <td>SaaS - Data Management</td>\n",
       "      <td>1.00</td>\n",
       "      <td>2.00</td>\n",
       "      <td>Jun/2019</td>\n",
       "      <td>Pune/Sunnyvale</td>\n",
       "      <td>WestBridge, Nexus Ventures, Sequoia Capital</td>\n",
       "    </tr>\n",
       "    <tr>\n",
       "      <th>23</th>\n",
       "      <td>24</td>\n",
       "      <td>Icertis</td>\n",
       "      <td>SaaS - Contract Management</td>\n",
       "      <td>1.00</td>\n",
       "      <td>5.00</td>\n",
       "      <td>Jul/2019</td>\n",
       "      <td>Pune/Bellevue</td>\n",
       "      <td>Eight Roads, B Capital, PremjiInvest</td>\n",
       "    </tr>\n",
       "    <tr>\n",
       "      <th>24</th>\n",
       "      <td>25</td>\n",
       "      <td>CitiusTech</td>\n",
       "      <td>IT Services - Healthcare</td>\n",
       "      <td>1.10</td>\n",
       "      <td>1.10</td>\n",
       "      <td>Jul/2019</td>\n",
       "      <td>Mumbai/Princeton</td>\n",
       "      <td>General Atlantic, Baring Asia</td>\n",
       "    </tr>\n",
       "    <tr>\n",
       "      <th>25</th>\n",
       "      <td>26</td>\n",
       "      <td>Ola Electric</td>\n",
       "      <td>Mobility - Electric</td>\n",
       "      <td>1.10</td>\n",
       "      <td>5.00</td>\n",
       "      <td>Jul/2019</td>\n",
       "      <td>Bangalore</td>\n",
       "      <td>SoftBank, Tiger Global, Matrix Partners</td>\n",
       "    </tr>\n",
       "    <tr>\n",
       "      <th>26</th>\n",
       "      <td>27</td>\n",
       "      <td>Lenskart</td>\n",
       "      <td>E-Commerce - Eyewear</td>\n",
       "      <td>1.10</td>\n",
       "      <td>4.50</td>\n",
       "      <td>Sep/2019</td>\n",
       "      <td>Delhi</td>\n",
       "      <td>SoftBank, Kedaara Capital, TPG, Chiratae Ventu...</td>\n",
       "    </tr>\n",
       "    <tr>\n",
       "      <th>27</th>\n",
       "      <td>28</td>\n",
       "      <td>Pine Labs</td>\n",
       "      <td>Fintech - PoS Payment Solutions</td>\n",
       "      <td>1.60</td>\n",
       "      <td>5.00</td>\n",
       "      <td>Jan/2020</td>\n",
       "      <td>Noida</td>\n",
       "      <td>Sequoia Capital India, New Atlantic Ventures, ...</td>\n",
       "    </tr>\n",
       "    <tr>\n",
       "      <th>28</th>\n",
       "      <td>29</td>\n",
       "      <td>Nykaa^</td>\n",
       "      <td>E-Commerce - Personal Care &amp; Cosmetics</td>\n",
       "      <td>1.20</td>\n",
       "      <td>1.80</td>\n",
       "      <td>Mar/2020</td>\n",
       "      <td>Mumbai</td>\n",
       "      <td>Techpro Ventures, TVS Capital, Sharrp Ventures...</td>\n",
       "    </tr>\n",
       "    <tr>\n",
       "      <th>29</th>\n",
       "      <td>30</td>\n",
       "      <td>Postman</td>\n",
       "      <td>SaaS - API Development &amp; Testing</td>\n",
       "      <td>2.00</td>\n",
       "      <td>5.60</td>\n",
       "      <td>Jun/2020</td>\n",
       "      <td>Bangalore/San Francisco</td>\n",
       "      <td>Nexus Ventures, Charles River Ventures, Insigh...</td>\n",
       "    </tr>\n",
       "    <tr>\n",
       "      <th>30</th>\n",
       "      <td>31</td>\n",
       "      <td>Unacademy</td>\n",
       "      <td>Edtech</td>\n",
       "      <td>1.40</td>\n",
       "      <td>3.40</td>\n",
       "      <td>Sep/2020</td>\n",
       "      <td>Bangalore</td>\n",
       "      <td>Blume Ventures, Nexus Venture Partners, Sequoi...</td>\n",
       "    </tr>\n",
       "    <tr>\n",
       "      <th>31</th>\n",
       "      <td>32</td>\n",
       "      <td>RazorPay</td>\n",
       "      <td>Fintech - Payment Gateway</td>\n",
       "      <td>1.00</td>\n",
       "      <td>7.50</td>\n",
       "      <td>Oct/2020</td>\n",
       "      <td>Bangalore</td>\n",
       "      <td>Matrix Partners India, Tiger Global, Sequoia C...</td>\n",
       "    </tr>\n",
       "    <tr>\n",
       "      <th>32</th>\n",
       "      <td>33</td>\n",
       "      <td>Cars24</td>\n",
       "      <td>Marketplace - Used Cars</td>\n",
       "      <td>1.00</td>\n",
       "      <td>3.30</td>\n",
       "      <td>Nov/2020</td>\n",
       "      <td>Gurgaon</td>\n",
       "      <td>Asia Venture Group, Apoletto, Unbound, DST Glo...</td>\n",
       "    </tr>\n",
       "    <tr>\n",
       "      <th>33</th>\n",
       "      <td>34</td>\n",
       "      <td>PhonePe^</td>\n",
       "      <td>Fintech - Payments</td>\n",
       "      <td>5.50</td>\n",
       "      <td>12.00</td>\n",
       "      <td>Dec/2020</td>\n",
       "      <td>Bangalore</td>\n",
       "      <td>Tiger Global, Tencent</td>\n",
       "    </tr>\n",
       "    <tr>\n",
       "      <th>34</th>\n",
       "      <td>35</td>\n",
       "      <td>Zenoti</td>\n",
       "      <td>SaaS - Salon &amp; Spa Management</td>\n",
       "      <td>1.00</td>\n",
       "      <td>1.50</td>\n",
       "      <td>Dec/2020</td>\n",
       "      <td>Hyderabad/Bellevue</td>\n",
       "      <td>Accel India, Norwest, Tiger Global, Steadview ...</td>\n",
       "    </tr>\n",
       "    <tr>\n",
       "      <th>35</th>\n",
       "      <td>36</td>\n",
       "      <td>Dailyhunt</td>\n",
       "      <td>Content - News</td>\n",
       "      <td>1.00</td>\n",
       "      <td>5.00</td>\n",
       "      <td>Dec/2020</td>\n",
       "      <td>Bangalore</td>\n",
       "      <td>Matrix Partners India, Omidyar Network, Sequoi...</td>\n",
       "    </tr>\n",
       "    <tr>\n",
       "      <th>36</th>\n",
       "      <td>37</td>\n",
       "      <td>Glance InMobi</td>\n",
       "      <td>Content - Lockscreen</td>\n",
       "      <td>1.00</td>\n",
       "      <td>2.00</td>\n",
       "      <td>Dec/2020</td>\n",
       "      <td>Bangalore/Singapore</td>\n",
       "      <td>Mithril Capital, Google</td>\n",
       "    </tr>\n",
       "    <tr>\n",
       "      <th>37</th>\n",
       "      <td>38</td>\n",
       "      <td>Digit</td>\n",
       "      <td>Fintech - General Insurance</td>\n",
       "      <td>1.90</td>\n",
       "      <td>4.00</td>\n",
       "      <td>Jan/2021</td>\n",
       "      <td>Bangalore</td>\n",
       "      <td>Fairfax Holdings, A91 Partners, Faering Capita...</td>\n",
       "    </tr>\n",
       "    <tr>\n",
       "      <th>38</th>\n",
       "      <td>39</td>\n",
       "      <td>Innovaccer</td>\n",
       "      <td>SaaS - Healthcare Data Analytics</td>\n",
       "      <td>1.30</td>\n",
       "      <td>3.20</td>\n",
       "      <td>Feb/2021</td>\n",
       "      <td>Noida/San Francisco</td>\n",
       "      <td>WestBridge, Lightspeed Ventures, M12 (Microsof...</td>\n",
       "    </tr>\n",
       "    <tr>\n",
       "      <th>39</th>\n",
       "      <td>40</td>\n",
       "      <td>Infra.Market</td>\n",
       "      <td>B2B E-Commerce - Construction Materials</td>\n",
       "      <td>1.00</td>\n",
       "      <td>2.50</td>\n",
       "      <td>Feb/2021</td>\n",
       "      <td>Thane</td>\n",
       "      <td>Accel India, Nexus Venture Partners, Tiger Glo...</td>\n",
       "    </tr>\n",
       "    <tr>\n",
       "      <th>40</th>\n",
       "      <td>41</td>\n",
       "      <td>Five Star Business Finance^</td>\n",
       "      <td>NBFC</td>\n",
       "      <td>1.40</td>\n",
       "      <td>1.40</td>\n",
       "      <td>Mar/2021</td>\n",
       "      <td>Chennai</td>\n",
       "      <td>Matrix Partners India, Sequoia Capital India, ...</td>\n",
       "    </tr>\n",
       "    <tr>\n",
       "      <th>41</th>\n",
       "      <td>42</td>\n",
       "      <td>FirstCry</td>\n",
       "      <td>E-Commerce - Baby Care Products</td>\n",
       "      <td>1.70</td>\n",
       "      <td>1.70</td>\n",
       "      <td>Mar/2021</td>\n",
       "      <td>Pune</td>\n",
       "      <td>Chiratae Ventures, Elevation Capital, Vertex, ...</td>\n",
       "    </tr>\n",
       "    <tr>\n",
       "      <th>42</th>\n",
       "      <td>43</td>\n",
       "      <td>Meesho</td>\n",
       "      <td>E-Commerce - Social Commerce</td>\n",
       "      <td>2.10</td>\n",
       "      <td>4.90</td>\n",
       "      <td>Apr/2021</td>\n",
       "      <td>Bangalore</td>\n",
       "      <td>Sequoia Capital India, Elevation Capital, Soft...</td>\n",
       "    </tr>\n",
       "    <tr>\n",
       "      <th>43</th>\n",
       "      <td>44</td>\n",
       "      <td>CRED</td>\n",
       "      <td>Fintech - Payments &amp; Credit Card Rewards</td>\n",
       "      <td>2.20</td>\n",
       "      <td>6.40</td>\n",
       "      <td>Apr/2021</td>\n",
       "      <td>Bangalore</td>\n",
       "      <td>Sequoia Capital India, Ribbit Capital, DST Glo...</td>\n",
       "    </tr>\n",
       "    <tr>\n",
       "      <th>44</th>\n",
       "      <td>45</td>\n",
       "      <td>PharmEasy</td>\n",
       "      <td>E-Commerce - Online Pharmacy</td>\n",
       "      <td>1.50</td>\n",
       "      <td>5.60</td>\n",
       "      <td>Apr/2021</td>\n",
       "      <td>Mumbai</td>\n",
       "      <td>Orios VP, Eight Roads Ventures, Temasek, Naspe...</td>\n",
       "    </tr>\n",
       "    <tr>\n",
       "      <th>45</th>\n",
       "      <td>46</td>\n",
       "      <td>Groww</td>\n",
       "      <td>Fintech - Brokerage &amp; Mutual Funds</td>\n",
       "      <td>1.00</td>\n",
       "      <td>3.00</td>\n",
       "      <td>Apr/2021</td>\n",
       "      <td>Bangalore</td>\n",
       "      <td>Sequoia Capital India, Y Combinator, Tiger Glo...</td>\n",
       "    </tr>\n",
       "    <tr>\n",
       "      <th>46</th>\n",
       "      <td>47</td>\n",
       "      <td>ShareChat</td>\n",
       "      <td>Social Media</td>\n",
       "      <td>2.10</td>\n",
       "      <td>4.90</td>\n",
       "      <td>Apr/2021</td>\n",
       "      <td>Bangalore</td>\n",
       "      <td>India Quotient, Elevation Capital, Lightspeed ...</td>\n",
       "    </tr>\n",
       "    <tr>\n",
       "      <th>47</th>\n",
       "      <td>48</td>\n",
       "      <td>Gupshup</td>\n",
       "      <td>Conversational Messaging</td>\n",
       "      <td>1.40</td>\n",
       "      <td>1.40</td>\n",
       "      <td>Apr/2021</td>\n",
       "      <td>Mumbai/San Francisco</td>\n",
       "      <td>Tiger Global, Charles River Ventures, Helion V...</td>\n",
       "    </tr>\n",
       "    <tr>\n",
       "      <th>48</th>\n",
       "      <td>49</td>\n",
       "      <td>ChargeBee</td>\n",
       "      <td>SaaS - Subscription Billing Solution</td>\n",
       "      <td>1.40</td>\n",
       "      <td>3.50</td>\n",
       "      <td>Apr/2021</td>\n",
       "      <td>Chennai/San Francisco</td>\n",
       "      <td>Tiger Global, Steadview Capital, Sapphire Vent...</td>\n",
       "    </tr>\n",
       "    <tr>\n",
       "      <th>49</th>\n",
       "      <td>50</td>\n",
       "      <td>Urban Company</td>\n",
       "      <td>Marketplace - Handyman Services</td>\n",
       "      <td>2.10</td>\n",
       "      <td>2.10</td>\n",
       "      <td>Apr/2021</td>\n",
       "      <td>Delhi</td>\n",
       "      <td>Tiger Global, Steadview Capital, Accel India, ...</td>\n",
       "    </tr>\n",
       "    <tr>\n",
       "      <th>56</th>\n",
       "      <td>57</td>\n",
       "      <td>BharatPe</td>\n",
       "      <td>Fintech - Payments</td>\n",
       "      <td>2.80</td>\n",
       "      <td>2.80</td>\n",
       "      <td>Aug/2021</td>\n",
       "      <td>Delhi</td>\n",
       "      <td>Beenext, Sequoia Capital India, Tiger Global, ...</td>\n",
       "    </tr>\n",
       "    <tr>\n",
       "      <th>80</th>\n",
       "      <td>81</td>\n",
       "      <td>GlobalBees</td>\n",
       "      <td>Aggregator - Consumer Brands</td>\n",
       "      <td>1.10</td>\n",
       "      <td>1.10</td>\n",
       "      <td>Dec/2021</td>\n",
       "      <td>Delhi</td>\n",
       "      <td>PremjiInvest, SoftBank Corp, TPG Capital, Stea...</td>\n",
       "    </tr>\n",
       "    <tr>\n",
       "      <th>100</th>\n",
       "      <td>101</td>\n",
       "      <td>Shiprocket</td>\n",
       "      <td>Aggregator - Logistics Services</td>\n",
       "      <td>1.23</td>\n",
       "      <td>1.23</td>\n",
       "      <td>Aug/2022</td>\n",
       "      <td>Delhi</td>\n",
       "      <td>Lightrock India, Info Edge, Tribe Capital, Tem...</td>\n",
       "    </tr>\n",
       "  </tbody>\n",
       "</table>\n",
       "</div>"
      ],
      "text/plain": [
       "     No.                      Company  \\\n",
       "0      1                       InMobi   \n",
       "1      2                    Flipkart^   \n",
       "2      3                     Mu Sigma   \n",
       "3      4                    Snapdeal*   \n",
       "4      5                       PayTM^   \n",
       "5      6                     Ola Cabs   \n",
       "6      7                       Quikr*   \n",
       "7      8                      Zomato^   \n",
       "8      9                   ShopClues*   \n",
       "9     10                        Hike*   \n",
       "10    11                        BYJUS   \n",
       "11    12                  PayTM Mall*   \n",
       "12    13                       Swiggy   \n",
       "13    14                PolicyBazaar^   \n",
       "14    15                  Freshworks^   \n",
       "15    16                    OYO Rooms   \n",
       "16    17                        Udaan   \n",
       "17    18                     BillDesk   \n",
       "18    19                   Delhivery^   \n",
       "19    20                       Rivigo   \n",
       "20    21                    BigBasket   \n",
       "21    22                      Dream11   \n",
       "22    23               Druva Software   \n",
       "23    24                      Icertis   \n",
       "24    25                   CitiusTech   \n",
       "25    26                 Ola Electric   \n",
       "26    27                     Lenskart   \n",
       "27    28                    Pine Labs   \n",
       "28    29                       Nykaa^   \n",
       "29    30                      Postman   \n",
       "30    31                    Unacademy   \n",
       "31    32                     RazorPay   \n",
       "32    33                       Cars24   \n",
       "33    34                     PhonePe^   \n",
       "34    35                       Zenoti   \n",
       "35    36                    Dailyhunt   \n",
       "36    37                Glance InMobi   \n",
       "37    38                        Digit   \n",
       "38    39                   Innovaccer   \n",
       "39    40                 Infra.Market   \n",
       "40    41  Five Star Business Finance^   \n",
       "41    42                     FirstCry   \n",
       "42    43                       Meesho   \n",
       "43    44                         CRED   \n",
       "44    45                    PharmEasy   \n",
       "45    46                        Groww   \n",
       "46    47                    ShareChat   \n",
       "47    48                      Gupshup   \n",
       "48    49                    ChargeBee   \n",
       "49    50                Urban Company   \n",
       "56    57                     BharatPe   \n",
       "80    81                   GlobalBees   \n",
       "100  101                   Shiprocket   \n",
       "\n",
       "                                       Sector  Entry Valuation^^ ($B)  \\\n",
       "0                         Adtech - Mobile Ads                    1.00   \n",
       "1                                  E-Commerce                    1.00   \n",
       "2                            SaaS - Analytics                    1.00   \n",
       "3                                  E-Commerce                    1.80   \n",
       "4                 Fintech - Payments & Wallet                    1.70   \n",
       "5                  Mobility - Ride Aggregator                    1.60   \n",
       "6                   Marketplace - Classifieds                    1.00   \n",
       "7                                    Foodtech                    1.00   \n",
       "8                                  E-Commerce                    1.10   \n",
       "9                    Social Media - Messaging                    1.40   \n",
       "10                                     Edtech                    1.00   \n",
       "11                                 E-Commerce                    1.90   \n",
       "12                                   Foodtech                    1.40   \n",
       "13                        Fintech - Insurance                    1.00   \n",
       "14                                 SaaS - CRM                    1.50   \n",
       "15                   Proptech - Hotel Booking                    4.90   \n",
       "16                             B2B E-Commerce                    1.00   \n",
       "17                     Fintech - B2B Payments                    1.60   \n",
       "18                         Logistics Services                    1.60   \n",
       "19                Logistics Services - Trucks                    1.10   \n",
       "20                     E-Commerce - Groceries                    1.10   \n",
       "21                                     Gaming                    1.00   \n",
       "22                     SaaS - Data Management                    1.00   \n",
       "23                 SaaS - Contract Management                    1.00   \n",
       "24                   IT Services - Healthcare                    1.10   \n",
       "25                        Mobility - Electric                    1.10   \n",
       "26                       E-Commerce - Eyewear                    1.10   \n",
       "27            Fintech - PoS Payment Solutions                    1.60   \n",
       "28     E-Commerce - Personal Care & Cosmetics                    1.20   \n",
       "29           SaaS - API Development & Testing                    2.00   \n",
       "30                                     Edtech                    1.40   \n",
       "31                  Fintech - Payment Gateway                    1.00   \n",
       "32                    Marketplace - Used Cars                    1.00   \n",
       "33                         Fintech - Payments                    5.50   \n",
       "34              SaaS - Salon & Spa Management                    1.00   \n",
       "35                             Content - News                    1.00   \n",
       "36                       Content - Lockscreen                    1.00   \n",
       "37                Fintech - General Insurance                    1.90   \n",
       "38           SaaS - Healthcare Data Analytics                    1.30   \n",
       "39    B2B E-Commerce - Construction Materials                    1.00   \n",
       "40                                       NBFC                    1.40   \n",
       "41            E-Commerce - Baby Care Products                    1.70   \n",
       "42               E-Commerce - Social Commerce                    2.10   \n",
       "43   Fintech - Payments & Credit Card Rewards                    2.20   \n",
       "44               E-Commerce - Online Pharmacy                    1.50   \n",
       "45         Fintech - Brokerage & Mutual Funds                    1.00   \n",
       "46                               Social Media                    2.10   \n",
       "47                   Conversational Messaging                    1.40   \n",
       "48       SaaS - Subscription Billing Solution                    1.40   \n",
       "49            Marketplace - Handyman Services                    2.10   \n",
       "56                         Fintech - Payments                    2.80   \n",
       "80               Aggregator - Consumer Brands                    1.10   \n",
       "100           Aggregator - Logistics Services                    1.23   \n",
       "\n",
       "     Valuation ($B)     Entry                 Location  \\\n",
       "0              1.00  Sep/2011      Bangalore/Singapore   \n",
       "1             37.60  Feb/2012      Bangalore/Singapore   \n",
       "2              1.50  Feb/2013        Bangalore/Chicago   \n",
       "3              2.40  Oct/2014                    Delhi   \n",
       "4             16.00  Feb/2015                    Noida   \n",
       "5              7.30  Mar/2015                Bangalore   \n",
       "6              1.50  Apr/2015                Bangalore   \n",
       "7              5.40  Sep/2015                  Gurgaon   \n",
       "8              1.10  Jan/2016                  Gurgaon   \n",
       "9              1.40  Aug/2016                    Delhi   \n",
       "10            22.00  Jan/2018                Bangalore   \n",
       "11             3.00  Apr/2018                    Noida   \n",
       "12            10.70  Jun/2018                Bangalore   \n",
       "13             2.40  Jun/2018                  Gurgaon   \n",
       "14             3.50  Jul/2018        Chennai/San Mateo   \n",
       "15             9.60  Sep/2018                  Gurgaon   \n",
       "16             3.10  Sep/2018                Bangalore   \n",
       "17             1.60  Nov/2018                   Mumbai   \n",
       "18             3.00  Jan/2019                  Gurgaon   \n",
       "19             1.10  Feb/2019                  Gurgaon   \n",
       "20             2.00  Mar/2019                Bangalore   \n",
       "21             8.00  Apr/2019                   Mumbai   \n",
       "22             2.00  Jun/2019           Pune/Sunnyvale   \n",
       "23             5.00  Jul/2019            Pune/Bellevue   \n",
       "24             1.10  Jul/2019         Mumbai/Princeton   \n",
       "25             5.00  Jul/2019                Bangalore   \n",
       "26             4.50  Sep/2019                    Delhi   \n",
       "27             5.00  Jan/2020                    Noida   \n",
       "28             1.80  Mar/2020                   Mumbai   \n",
       "29             5.60  Jun/2020  Bangalore/San Francisco   \n",
       "30             3.40  Sep/2020                Bangalore   \n",
       "31             7.50  Oct/2020                Bangalore   \n",
       "32             3.30  Nov/2020                  Gurgaon   \n",
       "33            12.00  Dec/2020                Bangalore   \n",
       "34             1.50  Dec/2020       Hyderabad/Bellevue   \n",
       "35             5.00  Dec/2020                Bangalore   \n",
       "36             2.00  Dec/2020      Bangalore/Singapore   \n",
       "37             4.00  Jan/2021                Bangalore   \n",
       "38             3.20  Feb/2021      Noida/San Francisco   \n",
       "39             2.50  Feb/2021                    Thane   \n",
       "40             1.40  Mar/2021                  Chennai   \n",
       "41             1.70  Mar/2021                     Pune   \n",
       "42             4.90  Apr/2021                Bangalore   \n",
       "43             6.40  Apr/2021                Bangalore   \n",
       "44             5.60  Apr/2021                   Mumbai   \n",
       "45             3.00  Apr/2021                Bangalore   \n",
       "46             4.90  Apr/2021                Bangalore   \n",
       "47             1.40  Apr/2021     Mumbai/San Francisco   \n",
       "48             3.50  Apr/2021    Chennai/San Francisco   \n",
       "49             2.10  Apr/2021                    Delhi   \n",
       "56             2.80  Aug/2021                    Delhi   \n",
       "80             1.10  Dec/2021                    Delhi   \n",
       "100            1.23  Aug/2022                    Delhi   \n",
       "\n",
       "                                      Select Investors  \n",
       "0                    KPCB, Sherpalo Ventures, SoftBank  \n",
       "1      Accel, Tiger Global, Naspers, SoftBank, Tencent  \n",
       "2             Accel, Sequoia Capital, General Atlantic  \n",
       "3    Kalaari Capital, Nexus Ventures, Bessemer, Sof...  \n",
       "4    Saama Capital, Elevation Capital, Alibaba, Ber...  \n",
       "5    Tiger Global, Matrix Partners, Steadview, Soft...  \n",
       "6    Matrix Partners, Omidyar Network, Norwest, Kin...  \n",
       "7    Info Edge, Sequoia Capital, Vy Capital, Alibab...  \n",
       "8    Nexus Ventures, Helion Ventures, Beenos, Tiger...  \n",
       "9                       Tiger Global, Tencent, Foxconn  \n",
       "10   Aarin Capital, Sequoia Capital, Lightspeed Ven...  \n",
       "11          Elevation Capital, Alibaba, SoftBank, eBay  \n",
       "12   Accel, Elevation Capital, Norwest, Naspers, Te...  \n",
       "13   Info Edge, Intel, Inventus Capital, Tiger Glob...  \n",
       "14   Accel, Tiger Global, Google, Sequoia Capital, ...  \n",
       "15      Lightspeed Ventures, Sequoia Capital, SoftBank  \n",
       "16            Lightspeed Ventures, DST Global, Tencent  \n",
       "17           SIDBI VC, TA Associates, General Atlantic  \n",
       "18   Nexus Ventures, Multiples PE, Tiger Global, Ca...  \n",
       "19                   Elevation Capital, Warburg Pincus  \n",
       "20   Ascent Capital, Helion Ventures, Bessemer, IFC...  \n",
       "21   Kalaari Capital, Tencent, Multiples PE, Steadv...  \n",
       "22         WestBridge, Nexus Ventures, Sequoia Capital  \n",
       "23                Eight Roads, B Capital, PremjiInvest  \n",
       "24                       General Atlantic, Baring Asia  \n",
       "25             SoftBank, Tiger Global, Matrix Partners  \n",
       "26   SoftBank, Kedaara Capital, TPG, Chiratae Ventu...  \n",
       "27   Sequoia Capital India, New Atlantic Ventures, ...  \n",
       "28   Techpro Ventures, TVS Capital, Sharrp Ventures...  \n",
       "29   Nexus Ventures, Charles River Ventures, Insigh...  \n",
       "30   Blume Ventures, Nexus Venture Partners, Sequoi...  \n",
       "31   Matrix Partners India, Tiger Global, Sequoia C...  \n",
       "32   Asia Venture Group, Apoletto, Unbound, DST Glo...  \n",
       "33                               Tiger Global, Tencent  \n",
       "34   Accel India, Norwest, Tiger Global, Steadview ...  \n",
       "35   Matrix Partners India, Omidyar Network, Sequoi...  \n",
       "36                             Mithril Capital, Google  \n",
       "37   Fairfax Holdings, A91 Partners, Faering Capita...  \n",
       "38   WestBridge, Lightspeed Ventures, M12 (Microsof...  \n",
       "39   Accel India, Nexus Venture Partners, Tiger Glo...  \n",
       "40   Matrix Partners India, Sequoia Capital India, ...  \n",
       "41   Chiratae Ventures, Elevation Capital, Vertex, ...  \n",
       "42   Sequoia Capital India, Elevation Capital, Soft...  \n",
       "43   Sequoia Capital India, Ribbit Capital, DST Glo...  \n",
       "44   Orios VP, Eight Roads Ventures, Temasek, Naspe...  \n",
       "45   Sequoia Capital India, Y Combinator, Tiger Glo...  \n",
       "46   India Quotient, Elevation Capital, Lightspeed ...  \n",
       "47   Tiger Global, Charles River Ventures, Helion V...  \n",
       "48   Tiger Global, Steadview Capital, Sapphire Vent...  \n",
       "49   Tiger Global, Steadview Capital, Accel India, ...  \n",
       "56   Beenext, Sequoia Capital India, Tiger Global, ...  \n",
       "80   PremjiInvest, SoftBank Corp, TPG Capital, Stea...  \n",
       "100  Lightrock India, Info Edge, Tribe Capital, Tem...  "
      ]
     },
     "execution_count": 389,
     "metadata": {},
     "output_type": "execute_result"
    }
   ],
   "source": [
    "\n",
    "\n",
    "# select * from df \n",
    "# where location = \"delhi\" or no < 50\n",
    "df[  (df[\"Location\"] == \"Delhi\" )  |  ( df[\"No.\"]  < 50)]\n",
    "\n",
    "\n"
   ]
  },
  {
   "cell_type": "code",
   "execution_count": 390,
   "id": "ead0db93",
   "metadata": {
    "execution": {
     "iopub.execute_input": "2023-11-16T15:54:10.603965Z",
     "iopub.status.busy": "2023-11-16T15:54:10.603618Z",
     "iopub.status.idle": "2023-11-16T15:54:10.622450Z",
     "shell.execute_reply": "2023-11-16T15:54:10.621548Z"
    },
    "papermill": {
     "duration": 0.173783,
     "end_time": "2023-11-16T15:54:10.624910",
     "exception": false,
     "start_time": "2023-11-16T15:54:10.451127",
     "status": "completed"
    },
    "tags": []
   },
   "outputs": [
    {
     "data": {
      "text/html": [
       "<div>\n",
       "<style scoped>\n",
       "    .dataframe tbody tr th:only-of-type {\n",
       "        vertical-align: middle;\n",
       "    }\n",
       "\n",
       "    .dataframe tbody tr th {\n",
       "        vertical-align: top;\n",
       "    }\n",
       "\n",
       "    .dataframe thead th {\n",
       "        text-align: right;\n",
       "    }\n",
       "</style>\n",
       "<table border=\"1\" class=\"dataframe\">\n",
       "  <thead>\n",
       "    <tr style=\"text-align: right;\">\n",
       "      <th></th>\n",
       "      <th>No.</th>\n",
       "      <th>Company</th>\n",
       "      <th>Sector</th>\n",
       "      <th>Entry Valuation^^ ($B)</th>\n",
       "      <th>Valuation ($B)</th>\n",
       "      <th>Entry</th>\n",
       "      <th>Location</th>\n",
       "      <th>Select Investors</th>\n",
       "    </tr>\n",
       "  </thead>\n",
       "  <tbody>\n",
       "    <tr>\n",
       "      <th>0</th>\n",
       "      <td>1</td>\n",
       "      <td>InMobi</td>\n",
       "      <td>Adtech - Mobile Ads</td>\n",
       "      <td>1.00</td>\n",
       "      <td>1.00</td>\n",
       "      <td>Sep/2011</td>\n",
       "      <td>Bangalore/Singapore</td>\n",
       "      <td>KPCB, Sherpalo Ventures, SoftBank</td>\n",
       "    </tr>\n",
       "    <tr>\n",
       "      <th>1</th>\n",
       "      <td>2</td>\n",
       "      <td>Flipkart^</td>\n",
       "      <td>E-Commerce</td>\n",
       "      <td>1.00</td>\n",
       "      <td>37.60</td>\n",
       "      <td>Feb/2012</td>\n",
       "      <td>Bangalore/Singapore</td>\n",
       "      <td>Accel, Tiger Global, Naspers, SoftBank, Tencent</td>\n",
       "    </tr>\n",
       "    <tr>\n",
       "      <th>2</th>\n",
       "      <td>3</td>\n",
       "      <td>Mu Sigma</td>\n",
       "      <td>SaaS - Analytics</td>\n",
       "      <td>1.00</td>\n",
       "      <td>1.50</td>\n",
       "      <td>Feb/2013</td>\n",
       "      <td>Bangalore/Chicago</td>\n",
       "      <td>Accel, Sequoia Capital, General Atlantic</td>\n",
       "    </tr>\n",
       "    <tr>\n",
       "      <th>3</th>\n",
       "      <td>4</td>\n",
       "      <td>Snapdeal*</td>\n",
       "      <td>E-Commerce</td>\n",
       "      <td>1.80</td>\n",
       "      <td>2.40</td>\n",
       "      <td>Oct/2014</td>\n",
       "      <td>Delhi</td>\n",
       "      <td>Kalaari Capital, Nexus Ventures, Bessemer, Sof...</td>\n",
       "    </tr>\n",
       "    <tr>\n",
       "      <th>4</th>\n",
       "      <td>5</td>\n",
       "      <td>PayTM^</td>\n",
       "      <td>Fintech - Payments &amp; Wallet</td>\n",
       "      <td>1.70</td>\n",
       "      <td>16.00</td>\n",
       "      <td>Feb/2015</td>\n",
       "      <td>Noida</td>\n",
       "      <td>Saama Capital, Elevation Capital, Alibaba, Ber...</td>\n",
       "    </tr>\n",
       "    <tr>\n",
       "      <th>...</th>\n",
       "      <td>...</td>\n",
       "      <td>...</td>\n",
       "      <td>...</td>\n",
       "      <td>...</td>\n",
       "      <td>...</td>\n",
       "      <td>...</td>\n",
       "      <td>...</td>\n",
       "      <td>...</td>\n",
       "    </tr>\n",
       "    <tr>\n",
       "      <th>97</th>\n",
       "      <td>98</td>\n",
       "      <td>Purplle</td>\n",
       "      <td>E-Commerce - Personal Care &amp; Cosmetics</td>\n",
       "      <td>1.10</td>\n",
       "      <td>1.10</td>\n",
       "      <td>Jun/2022</td>\n",
       "      <td>Mumbai</td>\n",
       "      <td>JSW Ventures, IvyCap Ventures, Blume Ventures,...</td>\n",
       "    </tr>\n",
       "    <tr>\n",
       "      <th>98</th>\n",
       "      <td>99</td>\n",
       "      <td>Leadsquared</td>\n",
       "      <td>SaaS - CRM</td>\n",
       "      <td>1.00</td>\n",
       "      <td>1.00</td>\n",
       "      <td>Jun/2022</td>\n",
       "      <td>Bangalore</td>\n",
       "      <td>Stakeboat Capital, Gaja Capital, WestBridge</td>\n",
       "    </tr>\n",
       "    <tr>\n",
       "      <th>99</th>\n",
       "      <td>100</td>\n",
       "      <td>OneCard</td>\n",
       "      <td>Fintech - Credit Cards</td>\n",
       "      <td>1.30</td>\n",
       "      <td>1.30</td>\n",
       "      <td>Jul/2022</td>\n",
       "      <td>Pune</td>\n",
       "      <td>QED Investors, Matrix Partners India, Sequoia ...</td>\n",
       "    </tr>\n",
       "    <tr>\n",
       "      <th>100</th>\n",
       "      <td>101</td>\n",
       "      <td>Shiprocket</td>\n",
       "      <td>Aggregator - Logistics Services</td>\n",
       "      <td>1.23</td>\n",
       "      <td>1.23</td>\n",
       "      <td>Aug/2022</td>\n",
       "      <td>Delhi</td>\n",
       "      <td>Lightrock India, Info Edge, Tribe Capital, Tem...</td>\n",
       "    </tr>\n",
       "    <tr>\n",
       "      <th>101</th>\n",
       "      <td>102</td>\n",
       "      <td>Molbio Diagnostics</td>\n",
       "      <td>Healthtech - Diagnostics</td>\n",
       "      <td>1.53</td>\n",
       "      <td>1.53</td>\n",
       "      <td>Sep/2022</td>\n",
       "      <td>Goa</td>\n",
       "      <td>Temasek, Motilal Oswal</td>\n",
       "    </tr>\n",
       "  </tbody>\n",
       "</table>\n",
       "<p>102 rows × 8 columns</p>\n",
       "</div>"
      ],
      "text/plain": [
       "     No.             Company                                  Sector  \\\n",
       "0      1              InMobi                     Adtech - Mobile Ads   \n",
       "1      2           Flipkart^                              E-Commerce   \n",
       "2      3            Mu Sigma                        SaaS - Analytics   \n",
       "3      4           Snapdeal*                              E-Commerce   \n",
       "4      5              PayTM^             Fintech - Payments & Wallet   \n",
       "..   ...                 ...                                     ...   \n",
       "97    98             Purplle  E-Commerce - Personal Care & Cosmetics   \n",
       "98    99         Leadsquared                              SaaS - CRM   \n",
       "99   100             OneCard                  Fintech - Credit Cards   \n",
       "100  101          Shiprocket         Aggregator - Logistics Services   \n",
       "101  102  Molbio Diagnostics                Healthtech - Diagnostics   \n",
       "\n",
       "     Entry Valuation^^ ($B)  Valuation ($B)     Entry             Location  \\\n",
       "0                      1.00            1.00  Sep/2011  Bangalore/Singapore   \n",
       "1                      1.00           37.60  Feb/2012  Bangalore/Singapore   \n",
       "2                      1.00            1.50  Feb/2013    Bangalore/Chicago   \n",
       "3                      1.80            2.40  Oct/2014                Delhi   \n",
       "4                      1.70           16.00  Feb/2015                Noida   \n",
       "..                      ...             ...       ...                  ...   \n",
       "97                     1.10            1.10  Jun/2022               Mumbai   \n",
       "98                     1.00            1.00  Jun/2022            Bangalore   \n",
       "99                     1.30            1.30  Jul/2022                 Pune   \n",
       "100                    1.23            1.23  Aug/2022                Delhi   \n",
       "101                    1.53            1.53  Sep/2022                  Goa   \n",
       "\n",
       "                                      Select Investors  \n",
       "0                    KPCB, Sherpalo Ventures, SoftBank  \n",
       "1      Accel, Tiger Global, Naspers, SoftBank, Tencent  \n",
       "2             Accel, Sequoia Capital, General Atlantic  \n",
       "3    Kalaari Capital, Nexus Ventures, Bessemer, Sof...  \n",
       "4    Saama Capital, Elevation Capital, Alibaba, Ber...  \n",
       "..                                                 ...  \n",
       "97   JSW Ventures, IvyCap Ventures, Blume Ventures,...  \n",
       "98         Stakeboat Capital, Gaja Capital, WestBridge  \n",
       "99   QED Investors, Matrix Partners India, Sequoia ...  \n",
       "100  Lightrock India, Info Edge, Tribe Capital, Tem...  \n",
       "101                             Temasek, Motilal Oswal  \n",
       "\n",
       "[102 rows x 8 columns]"
      ]
     },
     "execution_count": 390,
     "metadata": {},
     "output_type": "execute_result"
    }
   ],
   "source": [
    "df"
   ]
  },
  {
   "cell_type": "code",
   "execution_count": 391,
   "id": "29e9426d",
   "metadata": {
    "execution": {
     "iopub.execute_input": "2023-11-16T15:54:10.945838Z",
     "iopub.status.busy": "2023-11-16T15:54:10.945510Z",
     "iopub.status.idle": "2023-11-16T15:54:10.963844Z",
     "shell.execute_reply": "2023-11-16T15:54:10.962747Z"
    },
    "papermill": {
     "duration": 0.180976,
     "end_time": "2023-11-16T15:54:10.966094",
     "exception": false,
     "start_time": "2023-11-16T15:54:10.785118",
     "status": "completed"
    },
    "tags": []
   },
   "outputs": [
    {
     "data": {
      "text/html": [
       "<div>\n",
       "<style scoped>\n",
       "    .dataframe tbody tr th:only-of-type {\n",
       "        vertical-align: middle;\n",
       "    }\n",
       "\n",
       "    .dataframe tbody tr th {\n",
       "        vertical-align: top;\n",
       "    }\n",
       "\n",
       "    .dataframe thead th {\n",
       "        text-align: right;\n",
       "    }\n",
       "</style>\n",
       "<table border=\"1\" class=\"dataframe\">\n",
       "  <thead>\n",
       "    <tr style=\"text-align: right;\">\n",
       "      <th></th>\n",
       "      <th>No.</th>\n",
       "      <th>Company</th>\n",
       "      <th>Sector</th>\n",
       "      <th>Entry Valuation^^ ($B)</th>\n",
       "      <th>Valuation ($B)</th>\n",
       "      <th>Entry</th>\n",
       "      <th>Location</th>\n",
       "      <th>Select Investors</th>\n",
       "    </tr>\n",
       "  </thead>\n",
       "  <tbody>\n",
       "    <tr>\n",
       "      <th>3</th>\n",
       "      <td>4</td>\n",
       "      <td>Snapdeal*</td>\n",
       "      <td>E-Commerce</td>\n",
       "      <td>1.80</td>\n",
       "      <td>2.40</td>\n",
       "      <td>Oct/2014</td>\n",
       "      <td>Delhi</td>\n",
       "      <td>Kalaari Capital, Nexus Ventures, Bessemer, Sof...</td>\n",
       "    </tr>\n",
       "    <tr>\n",
       "      <th>9</th>\n",
       "      <td>10</td>\n",
       "      <td>Hike*</td>\n",
       "      <td>Social Media - Messaging</td>\n",
       "      <td>1.40</td>\n",
       "      <td>1.40</td>\n",
       "      <td>Aug/2016</td>\n",
       "      <td>Delhi</td>\n",
       "      <td>Tiger Global, Tencent, Foxconn</td>\n",
       "    </tr>\n",
       "    <tr>\n",
       "      <th>26</th>\n",
       "      <td>27</td>\n",
       "      <td>Lenskart</td>\n",
       "      <td>E-Commerce - Eyewear</td>\n",
       "      <td>1.10</td>\n",
       "      <td>4.50</td>\n",
       "      <td>Sep/2019</td>\n",
       "      <td>Delhi</td>\n",
       "      <td>SoftBank, Kedaara Capital, TPG, Chiratae Ventu...</td>\n",
       "    </tr>\n",
       "    <tr>\n",
       "      <th>41</th>\n",
       "      <td>42</td>\n",
       "      <td>FirstCry</td>\n",
       "      <td>E-Commerce - Baby Care Products</td>\n",
       "      <td>1.70</td>\n",
       "      <td>1.70</td>\n",
       "      <td>Mar/2021</td>\n",
       "      <td>Pune</td>\n",
       "      <td>Chiratae Ventures, Elevation Capital, Vertex, ...</td>\n",
       "    </tr>\n",
       "    <tr>\n",
       "      <th>49</th>\n",
       "      <td>50</td>\n",
       "      <td>Urban Company</td>\n",
       "      <td>Marketplace - Handyman Services</td>\n",
       "      <td>2.10</td>\n",
       "      <td>2.10</td>\n",
       "      <td>Apr/2021</td>\n",
       "      <td>Delhi</td>\n",
       "      <td>Tiger Global, Steadview Capital, Accel India, ...</td>\n",
       "    </tr>\n",
       "    <tr>\n",
       "      <th>56</th>\n",
       "      <td>57</td>\n",
       "      <td>BharatPe</td>\n",
       "      <td>Fintech - Payments</td>\n",
       "      <td>2.80</td>\n",
       "      <td>2.80</td>\n",
       "      <td>Aug/2021</td>\n",
       "      <td>Delhi</td>\n",
       "      <td>Beenext, Sequoia Capital India, Tiger Global, ...</td>\n",
       "    </tr>\n",
       "    <tr>\n",
       "      <th>80</th>\n",
       "      <td>81</td>\n",
       "      <td>GlobalBees</td>\n",
       "      <td>Aggregator - Consumer Brands</td>\n",
       "      <td>1.10</td>\n",
       "      <td>1.10</td>\n",
       "      <td>Dec/2021</td>\n",
       "      <td>Delhi</td>\n",
       "      <td>PremjiInvest, SoftBank Corp, TPG Capital, Stea...</td>\n",
       "    </tr>\n",
       "    <tr>\n",
       "      <th>86</th>\n",
       "      <td>87</td>\n",
       "      <td>ElasticRun</td>\n",
       "      <td>Logistics Services</td>\n",
       "      <td>1.40</td>\n",
       "      <td>1.40</td>\n",
       "      <td>Feb/2022</td>\n",
       "      <td>Pune</td>\n",
       "      <td>SoftBank, Goldman Sachs, Prosus Ventures, Kala...</td>\n",
       "    </tr>\n",
       "    <tr>\n",
       "      <th>88</th>\n",
       "      <td>89</td>\n",
       "      <td>XpressBees Logistics</td>\n",
       "      <td>Logistics Services</td>\n",
       "      <td>1.20</td>\n",
       "      <td>1.20</td>\n",
       "      <td>Feb/2022</td>\n",
       "      <td>Pune</td>\n",
       "      <td>InvestCorp Group, Norwest, Gaja Capital, TPG G...</td>\n",
       "    </tr>\n",
       "    <tr>\n",
       "      <th>99</th>\n",
       "      <td>100</td>\n",
       "      <td>OneCard</td>\n",
       "      <td>Fintech - Credit Cards</td>\n",
       "      <td>1.30</td>\n",
       "      <td>1.30</td>\n",
       "      <td>Jul/2022</td>\n",
       "      <td>Pune</td>\n",
       "      <td>QED Investors, Matrix Partners India, Sequoia ...</td>\n",
       "    </tr>\n",
       "    <tr>\n",
       "      <th>100</th>\n",
       "      <td>101</td>\n",
       "      <td>Shiprocket</td>\n",
       "      <td>Aggregator - Logistics Services</td>\n",
       "      <td>1.23</td>\n",
       "      <td>1.23</td>\n",
       "      <td>Aug/2022</td>\n",
       "      <td>Delhi</td>\n",
       "      <td>Lightrock India, Info Edge, Tribe Capital, Tem...</td>\n",
       "    </tr>\n",
       "  </tbody>\n",
       "</table>\n",
       "</div>"
      ],
      "text/plain": [
       "     No.               Company                           Sector  \\\n",
       "3      4             Snapdeal*                       E-Commerce   \n",
       "9     10                 Hike*         Social Media - Messaging   \n",
       "26    27              Lenskart             E-Commerce - Eyewear   \n",
       "41    42              FirstCry  E-Commerce - Baby Care Products   \n",
       "49    50         Urban Company  Marketplace - Handyman Services   \n",
       "56    57              BharatPe               Fintech - Payments   \n",
       "80    81            GlobalBees     Aggregator - Consumer Brands   \n",
       "86    87            ElasticRun               Logistics Services   \n",
       "88    89  XpressBees Logistics               Logistics Services   \n",
       "99   100               OneCard           Fintech - Credit Cards   \n",
       "100  101            Shiprocket  Aggregator - Logistics Services   \n",
       "\n",
       "     Entry Valuation^^ ($B)  Valuation ($B)     Entry Location  \\\n",
       "3                      1.80            2.40  Oct/2014    Delhi   \n",
       "9                      1.40            1.40  Aug/2016    Delhi   \n",
       "26                     1.10            4.50  Sep/2019    Delhi   \n",
       "41                     1.70            1.70  Mar/2021     Pune   \n",
       "49                     2.10            2.10  Apr/2021    Delhi   \n",
       "56                     2.80            2.80  Aug/2021    Delhi   \n",
       "80                     1.10            1.10  Dec/2021    Delhi   \n",
       "86                     1.40            1.40  Feb/2022     Pune   \n",
       "88                     1.20            1.20  Feb/2022     Pune   \n",
       "99                     1.30            1.30  Jul/2022     Pune   \n",
       "100                    1.23            1.23  Aug/2022    Delhi   \n",
       "\n",
       "                                      Select Investors  \n",
       "3    Kalaari Capital, Nexus Ventures, Bessemer, Sof...  \n",
       "9                       Tiger Global, Tencent, Foxconn  \n",
       "26   SoftBank, Kedaara Capital, TPG, Chiratae Ventu...  \n",
       "41   Chiratae Ventures, Elevation Capital, Vertex, ...  \n",
       "49   Tiger Global, Steadview Capital, Accel India, ...  \n",
       "56   Beenext, Sequoia Capital India, Tiger Global, ...  \n",
       "80   PremjiInvest, SoftBank Corp, TPG Capital, Stea...  \n",
       "86   SoftBank, Goldman Sachs, Prosus Ventures, Kala...  \n",
       "88   InvestCorp Group, Norwest, Gaja Capital, TPG G...  \n",
       "99   QED Investors, Matrix Partners India, Sequoia ...  \n",
       "100  Lightrock India, Info Edge, Tribe Capital, Tem...  "
      ]
     },
     "execution_count": 391,
     "metadata": {},
     "output_type": "execute_result"
    }
   ],
   "source": [
    "\n",
    "\n",
    "# select * from df \n",
    "# where location = \"Delhi\" or location = \"Pune\"\n",
    "# where location in (\"delhi,Pune\")\n",
    "\n",
    "df[df[\"Location\"].isin([\"Delhi\",\"Pune\"])]"
   ]
  },
  {
   "cell_type": "code",
   "execution_count": 392,
   "id": "f7c2b79e",
   "metadata": {
    "execution": {
     "iopub.execute_input": "2023-11-16T15:54:11.280135Z",
     "iopub.status.busy": "2023-11-16T15:54:11.279328Z",
     "iopub.status.idle": "2023-11-16T15:54:11.296885Z",
     "shell.execute_reply": "2023-11-16T15:54:11.295864Z"
    },
    "papermill": {
     "duration": 0.175511,
     "end_time": "2023-11-16T15:54:11.299448",
     "exception": false,
     "start_time": "2023-11-16T15:54:11.123937",
     "status": "completed"
    },
    "tags": []
   },
   "outputs": [
    {
     "data": {
      "text/html": [
       "<div>\n",
       "<style scoped>\n",
       "    .dataframe tbody tr th:only-of-type {\n",
       "        vertical-align: middle;\n",
       "    }\n",
       "\n",
       "    .dataframe tbody tr th {\n",
       "        vertical-align: top;\n",
       "    }\n",
       "\n",
       "    .dataframe thead th {\n",
       "        text-align: right;\n",
       "    }\n",
       "</style>\n",
       "<table border=\"1\" class=\"dataframe\">\n",
       "  <thead>\n",
       "    <tr style=\"text-align: right;\">\n",
       "      <th></th>\n",
       "      <th>No.</th>\n",
       "      <th>Company</th>\n",
       "      <th>Sector</th>\n",
       "      <th>Entry Valuation^^ ($B)</th>\n",
       "      <th>Valuation ($B)</th>\n",
       "      <th>Entry</th>\n",
       "      <th>Location</th>\n",
       "      <th>Select Investors</th>\n",
       "    </tr>\n",
       "  </thead>\n",
       "  <tbody>\n",
       "    <tr>\n",
       "      <th>18</th>\n",
       "      <td>19</td>\n",
       "      <td>Delhivery^</td>\n",
       "      <td>Logistics Services</td>\n",
       "      <td>1.60</td>\n",
       "      <td>3.00</td>\n",
       "      <td>Jan/2019</td>\n",
       "      <td>Gurgaon</td>\n",
       "      <td>Nexus Ventures, Multiples PE, Tiger Global, Ca...</td>\n",
       "    </tr>\n",
       "    <tr>\n",
       "      <th>19</th>\n",
       "      <td>20</td>\n",
       "      <td>Rivigo</td>\n",
       "      <td>Logistics Services - Trucks</td>\n",
       "      <td>1.10</td>\n",
       "      <td>1.10</td>\n",
       "      <td>Feb/2019</td>\n",
       "      <td>Gurgaon</td>\n",
       "      <td>Elevation Capital, Warburg Pincus</td>\n",
       "    </tr>\n",
       "    <tr>\n",
       "      <th>24</th>\n",
       "      <td>25</td>\n",
       "      <td>CitiusTech</td>\n",
       "      <td>IT Services - Healthcare</td>\n",
       "      <td>1.10</td>\n",
       "      <td>1.10</td>\n",
       "      <td>Jul/2019</td>\n",
       "      <td>Mumbai/Princeton</td>\n",
       "      <td>General Atlantic, Baring Asia</td>\n",
       "    </tr>\n",
       "    <tr>\n",
       "      <th>49</th>\n",
       "      <td>50</td>\n",
       "      <td>Urban Company</td>\n",
       "      <td>Marketplace - Handyman Services</td>\n",
       "      <td>2.10</td>\n",
       "      <td>2.10</td>\n",
       "      <td>Apr/2021</td>\n",
       "      <td>Delhi</td>\n",
       "      <td>Tiger Global, Steadview Capital, Accel India, ...</td>\n",
       "    </tr>\n",
       "    <tr>\n",
       "      <th>53</th>\n",
       "      <td>54</td>\n",
       "      <td>BlackBuck</td>\n",
       "      <td>Logistics Services</td>\n",
       "      <td>1.00</td>\n",
       "      <td>1.00</td>\n",
       "      <td>Jul/2021</td>\n",
       "      <td>Bangalore</td>\n",
       "      <td>Accel India, Sequoia Capital India, Sands Capi...</td>\n",
       "    </tr>\n",
       "    <tr>\n",
       "      <th>62</th>\n",
       "      <td>63</td>\n",
       "      <td>Zetwerk</td>\n",
       "      <td>Marketplace - Manufacturing Services</td>\n",
       "      <td>1.00</td>\n",
       "      <td>2.50</td>\n",
       "      <td>Aug/2021</td>\n",
       "      <td>Bangalore</td>\n",
       "      <td>Kae Capital, Sequoia Capital India, Accel Indi...</td>\n",
       "    </tr>\n",
       "    <tr>\n",
       "      <th>78</th>\n",
       "      <td>79</td>\n",
       "      <td>Pristyn Care</td>\n",
       "      <td>Healthtech - Elective Surgery Services</td>\n",
       "      <td>1.40</td>\n",
       "      <td>1.40</td>\n",
       "      <td>Dec/2021</td>\n",
       "      <td>Gurgaon</td>\n",
       "      <td>Tiger Global, Sequoia Capital India, Hummingbi...</td>\n",
       "    </tr>\n",
       "    <tr>\n",
       "      <th>86</th>\n",
       "      <td>87</td>\n",
       "      <td>ElasticRun</td>\n",
       "      <td>Logistics Services</td>\n",
       "      <td>1.40</td>\n",
       "      <td>1.40</td>\n",
       "      <td>Feb/2022</td>\n",
       "      <td>Pune</td>\n",
       "      <td>SoftBank, Goldman Sachs, Prosus Ventures, Kala...</td>\n",
       "    </tr>\n",
       "    <tr>\n",
       "      <th>88</th>\n",
       "      <td>89</td>\n",
       "      <td>XpressBees Logistics</td>\n",
       "      <td>Logistics Services</td>\n",
       "      <td>1.20</td>\n",
       "      <td>1.20</td>\n",
       "      <td>Feb/2022</td>\n",
       "      <td>Pune</td>\n",
       "      <td>InvestCorp Group, Norwest, Gaja Capital, TPG G...</td>\n",
       "    </tr>\n",
       "    <tr>\n",
       "      <th>100</th>\n",
       "      <td>101</td>\n",
       "      <td>Shiprocket</td>\n",
       "      <td>Aggregator - Logistics Services</td>\n",
       "      <td>1.23</td>\n",
       "      <td>1.23</td>\n",
       "      <td>Aug/2022</td>\n",
       "      <td>Delhi</td>\n",
       "      <td>Lightrock India, Info Edge, Tribe Capital, Tem...</td>\n",
       "    </tr>\n",
       "  </tbody>\n",
       "</table>\n",
       "</div>"
      ],
      "text/plain": [
       "     No.               Company                                  Sector  \\\n",
       "18    19            Delhivery^                      Logistics Services   \n",
       "19    20                Rivigo             Logistics Services - Trucks   \n",
       "24    25            CitiusTech                IT Services - Healthcare   \n",
       "49    50         Urban Company         Marketplace - Handyman Services   \n",
       "53    54             BlackBuck                      Logistics Services   \n",
       "62    63               Zetwerk    Marketplace - Manufacturing Services   \n",
       "78    79          Pristyn Care  Healthtech - Elective Surgery Services   \n",
       "86    87            ElasticRun                      Logistics Services   \n",
       "88    89  XpressBees Logistics                      Logistics Services   \n",
       "100  101            Shiprocket         Aggregator - Logistics Services   \n",
       "\n",
       "     Entry Valuation^^ ($B)  Valuation ($B)     Entry          Location  \\\n",
       "18                     1.60            3.00  Jan/2019           Gurgaon   \n",
       "19                     1.10            1.10  Feb/2019           Gurgaon   \n",
       "24                     1.10            1.10  Jul/2019  Mumbai/Princeton   \n",
       "49                     2.10            2.10  Apr/2021             Delhi   \n",
       "53                     1.00            1.00  Jul/2021         Bangalore   \n",
       "62                     1.00            2.50  Aug/2021         Bangalore   \n",
       "78                     1.40            1.40  Dec/2021           Gurgaon   \n",
       "86                     1.40            1.40  Feb/2022              Pune   \n",
       "88                     1.20            1.20  Feb/2022              Pune   \n",
       "100                    1.23            1.23  Aug/2022             Delhi   \n",
       "\n",
       "                                      Select Investors  \n",
       "18   Nexus Ventures, Multiples PE, Tiger Global, Ca...  \n",
       "19                   Elevation Capital, Warburg Pincus  \n",
       "24                       General Atlantic, Baring Asia  \n",
       "49   Tiger Global, Steadview Capital, Accel India, ...  \n",
       "53   Accel India, Sequoia Capital India, Sands Capi...  \n",
       "62   Kae Capital, Sequoia Capital India, Accel Indi...  \n",
       "78   Tiger Global, Sequoia Capital India, Hummingbi...  \n",
       "86   SoftBank, Goldman Sachs, Prosus Ventures, Kala...  \n",
       "88   InvestCorp Group, Norwest, Gaja Capital, TPG G...  \n",
       "100  Lightrock India, Info Edge, Tribe Capital, Tem...  "
      ]
     },
     "execution_count": 392,
     "metadata": {},
     "output_type": "execute_result"
    }
   ],
   "source": [
    "\n",
    "# select * from df \n",
    "# where Sector like \"%services%\"\n",
    "df[df[\"Sector\"].str.contains(\"Services\")]"
   ]
  },
  {
   "cell_type": "code",
   "execution_count": 393,
   "id": "6dd77ddc",
   "metadata": {
    "execution": {
     "iopub.execute_input": "2023-11-16T15:54:11.618850Z",
     "iopub.status.busy": "2023-11-16T15:54:11.618185Z",
     "iopub.status.idle": "2023-11-16T15:54:11.634192Z",
     "shell.execute_reply": "2023-11-16T15:54:11.633236Z"
    },
    "papermill": {
     "duration": 0.173407,
     "end_time": "2023-11-16T15:54:11.636484",
     "exception": false,
     "start_time": "2023-11-16T15:54:11.463077",
     "status": "completed"
    },
    "tags": []
   },
   "outputs": [
    {
     "data": {
      "text/html": [
       "<div>\n",
       "<style scoped>\n",
       "    .dataframe tbody tr th:only-of-type {\n",
       "        vertical-align: middle;\n",
       "    }\n",
       "\n",
       "    .dataframe tbody tr th {\n",
       "        vertical-align: top;\n",
       "    }\n",
       "\n",
       "    .dataframe thead th {\n",
       "        text-align: right;\n",
       "    }\n",
       "</style>\n",
       "<table border=\"1\" class=\"dataframe\">\n",
       "  <thead>\n",
       "    <tr style=\"text-align: right;\">\n",
       "      <th></th>\n",
       "      <th>No.</th>\n",
       "      <th>Company</th>\n",
       "      <th>Sector</th>\n",
       "      <th>Entry Valuation^^ ($B)</th>\n",
       "      <th>Valuation ($B)</th>\n",
       "      <th>Entry</th>\n",
       "      <th>Location</th>\n",
       "      <th>Select Investors</th>\n",
       "    </tr>\n",
       "  </thead>\n",
       "  <tbody>\n",
       "    <tr>\n",
       "      <th>18</th>\n",
       "      <td>19</td>\n",
       "      <td>Delhivery^</td>\n",
       "      <td>Logistics Services</td>\n",
       "      <td>1.60</td>\n",
       "      <td>3.00</td>\n",
       "      <td>Jan/2019</td>\n",
       "      <td>Gurgaon</td>\n",
       "      <td>Nexus Ventures, Multiples PE, Tiger Global, Ca...</td>\n",
       "    </tr>\n",
       "    <tr>\n",
       "      <th>49</th>\n",
       "      <td>50</td>\n",
       "      <td>Urban Company</td>\n",
       "      <td>Marketplace - Handyman Services</td>\n",
       "      <td>2.10</td>\n",
       "      <td>2.10</td>\n",
       "      <td>Apr/2021</td>\n",
       "      <td>Delhi</td>\n",
       "      <td>Tiger Global, Steadview Capital, Accel India, ...</td>\n",
       "    </tr>\n",
       "    <tr>\n",
       "      <th>53</th>\n",
       "      <td>54</td>\n",
       "      <td>BlackBuck</td>\n",
       "      <td>Logistics Services</td>\n",
       "      <td>1.00</td>\n",
       "      <td>1.00</td>\n",
       "      <td>Jul/2021</td>\n",
       "      <td>Bangalore</td>\n",
       "      <td>Accel India, Sequoia Capital India, Sands Capi...</td>\n",
       "    </tr>\n",
       "    <tr>\n",
       "      <th>62</th>\n",
       "      <td>63</td>\n",
       "      <td>Zetwerk</td>\n",
       "      <td>Marketplace - Manufacturing Services</td>\n",
       "      <td>1.00</td>\n",
       "      <td>2.50</td>\n",
       "      <td>Aug/2021</td>\n",
       "      <td>Bangalore</td>\n",
       "      <td>Kae Capital, Sequoia Capital India, Accel Indi...</td>\n",
       "    </tr>\n",
       "    <tr>\n",
       "      <th>78</th>\n",
       "      <td>79</td>\n",
       "      <td>Pristyn Care</td>\n",
       "      <td>Healthtech - Elective Surgery Services</td>\n",
       "      <td>1.40</td>\n",
       "      <td>1.40</td>\n",
       "      <td>Dec/2021</td>\n",
       "      <td>Gurgaon</td>\n",
       "      <td>Tiger Global, Sequoia Capital India, Hummingbi...</td>\n",
       "    </tr>\n",
       "    <tr>\n",
       "      <th>86</th>\n",
       "      <td>87</td>\n",
       "      <td>ElasticRun</td>\n",
       "      <td>Logistics Services</td>\n",
       "      <td>1.40</td>\n",
       "      <td>1.40</td>\n",
       "      <td>Feb/2022</td>\n",
       "      <td>Pune</td>\n",
       "      <td>SoftBank, Goldman Sachs, Prosus Ventures, Kala...</td>\n",
       "    </tr>\n",
       "    <tr>\n",
       "      <th>88</th>\n",
       "      <td>89</td>\n",
       "      <td>XpressBees Logistics</td>\n",
       "      <td>Logistics Services</td>\n",
       "      <td>1.20</td>\n",
       "      <td>1.20</td>\n",
       "      <td>Feb/2022</td>\n",
       "      <td>Pune</td>\n",
       "      <td>InvestCorp Group, Norwest, Gaja Capital, TPG G...</td>\n",
       "    </tr>\n",
       "    <tr>\n",
       "      <th>100</th>\n",
       "      <td>101</td>\n",
       "      <td>Shiprocket</td>\n",
       "      <td>Aggregator - Logistics Services</td>\n",
       "      <td>1.23</td>\n",
       "      <td>1.23</td>\n",
       "      <td>Aug/2022</td>\n",
       "      <td>Delhi</td>\n",
       "      <td>Lightrock India, Info Edge, Tribe Capital, Tem...</td>\n",
       "    </tr>\n",
       "  </tbody>\n",
       "</table>\n",
       "</div>"
      ],
      "text/plain": [
       "     No.               Company                                  Sector  \\\n",
       "18    19            Delhivery^                      Logistics Services   \n",
       "49    50         Urban Company         Marketplace - Handyman Services   \n",
       "53    54             BlackBuck                      Logistics Services   \n",
       "62    63               Zetwerk    Marketplace - Manufacturing Services   \n",
       "78    79          Pristyn Care  Healthtech - Elective Surgery Services   \n",
       "86    87            ElasticRun                      Logistics Services   \n",
       "88    89  XpressBees Logistics                      Logistics Services   \n",
       "100  101            Shiprocket         Aggregator - Logistics Services   \n",
       "\n",
       "     Entry Valuation^^ ($B)  Valuation ($B)     Entry   Location  \\\n",
       "18                     1.60            3.00  Jan/2019    Gurgaon   \n",
       "49                     2.10            2.10  Apr/2021      Delhi   \n",
       "53                     1.00            1.00  Jul/2021  Bangalore   \n",
       "62                     1.00            2.50  Aug/2021  Bangalore   \n",
       "78                     1.40            1.40  Dec/2021    Gurgaon   \n",
       "86                     1.40            1.40  Feb/2022       Pune   \n",
       "88                     1.20            1.20  Feb/2022       Pune   \n",
       "100                    1.23            1.23  Aug/2022      Delhi   \n",
       "\n",
       "                                      Select Investors  \n",
       "18   Nexus Ventures, Multiples PE, Tiger Global, Ca...  \n",
       "49   Tiger Global, Steadview Capital, Accel India, ...  \n",
       "53   Accel India, Sequoia Capital India, Sands Capi...  \n",
       "62   Kae Capital, Sequoia Capital India, Accel Indi...  \n",
       "78   Tiger Global, Sequoia Capital India, Hummingbi...  \n",
       "86   SoftBank, Goldman Sachs, Prosus Ventures, Kala...  \n",
       "88   InvestCorp Group, Norwest, Gaja Capital, TPG G...  \n",
       "100  Lightrock India, Info Edge, Tribe Capital, Tem...  "
      ]
     },
     "execution_count": 393,
     "metadata": {},
     "output_type": "execute_result"
    }
   ],
   "source": [
    "\n",
    "# select * from df \n",
    "# where Sector like \"%services\"\n",
    "df[df[\"Sector\"].str.endswith(\"Services\")]"
   ]
  },
  {
   "cell_type": "code",
   "execution_count": 394,
   "id": "d96b1561",
   "metadata": {
    "execution": {
     "iopub.execute_input": "2023-11-16T15:54:11.951697Z",
     "iopub.status.busy": "2023-11-16T15:54:11.951236Z",
     "iopub.status.idle": "2023-11-16T15:54:11.961459Z",
     "shell.execute_reply": "2023-11-16T15:54:11.960601Z"
    },
    "papermill": {
     "duration": 0.169636,
     "end_time": "2023-11-16T15:54:11.963228",
     "exception": false,
     "start_time": "2023-11-16T15:54:11.793592",
     "status": "completed"
    },
    "tags": []
   },
   "outputs": [
    {
     "data": {
      "text/html": [
       "<div>\n",
       "<style scoped>\n",
       "    .dataframe tbody tr th:only-of-type {\n",
       "        vertical-align: middle;\n",
       "    }\n",
       "\n",
       "    .dataframe tbody tr th {\n",
       "        vertical-align: top;\n",
       "    }\n",
       "\n",
       "    .dataframe thead th {\n",
       "        text-align: right;\n",
       "    }\n",
       "</style>\n",
       "<table border=\"1\" class=\"dataframe\">\n",
       "  <thead>\n",
       "    <tr style=\"text-align: right;\">\n",
       "      <th></th>\n",
       "      <th>No.</th>\n",
       "      <th>Company</th>\n",
       "      <th>Sector</th>\n",
       "      <th>Entry Valuation^^ ($B)</th>\n",
       "      <th>Valuation ($B)</th>\n",
       "      <th>Entry</th>\n",
       "      <th>Location</th>\n",
       "      <th>Select Investors</th>\n",
       "    </tr>\n",
       "  </thead>\n",
       "  <tbody>\n",
       "  </tbody>\n",
       "</table>\n",
       "</div>"
      ],
      "text/plain": [
       "Empty DataFrame\n",
       "Columns: [No., Company, Sector, Entry Valuation^^ ($B), Valuation ($B), Entry, Location, Select Investors]\n",
       "Index: []"
      ]
     },
     "execution_count": 394,
     "metadata": {},
     "output_type": "execute_result"
    }
   ],
   "source": [
    "df[df[\"Sector\"].str.startswith(\"Services\")]"
   ]
  },
  {
   "cell_type": "code",
   "execution_count": 395,
   "id": "d706fcda",
   "metadata": {
    "execution": {
     "iopub.execute_input": "2023-11-16T15:54:12.280195Z",
     "iopub.status.busy": "2023-11-16T15:54:12.279863Z",
     "iopub.status.idle": "2023-11-16T15:54:12.309191Z",
     "shell.execute_reply": "2023-11-16T15:54:12.308468Z"
    },
    "papermill": {
     "duration": 0.187906,
     "end_time": "2023-11-16T15:54:12.311615",
     "exception": false,
     "start_time": "2023-11-16T15:54:12.123709",
     "status": "completed"
    },
    "tags": []
   },
   "outputs": [
    {
     "data": {
      "text/html": [
       "<div>\n",
       "<style scoped>\n",
       "    .dataframe tbody tr th:only-of-type {\n",
       "        vertical-align: middle;\n",
       "    }\n",
       "\n",
       "    .dataframe tbody tr th {\n",
       "        vertical-align: top;\n",
       "    }\n",
       "\n",
       "    .dataframe thead th {\n",
       "        text-align: right;\n",
       "    }\n",
       "</style>\n",
       "<table border=\"1\" class=\"dataframe\">\n",
       "  <thead>\n",
       "    <tr style=\"text-align: right;\">\n",
       "      <th></th>\n",
       "      <th>No.</th>\n",
       "      <th>Company</th>\n",
       "      <th>Sector</th>\n",
       "      <th>Entry Valuation^^ ($B)</th>\n",
       "      <th>Valuation ($B)</th>\n",
       "      <th>Entry</th>\n",
       "      <th>Location</th>\n",
       "      <th>Select Investors</th>\n",
       "    </tr>\n",
       "  </thead>\n",
       "  <tbody>\n",
       "    <tr>\n",
       "      <th>39</th>\n",
       "      <td>40</td>\n",
       "      <td>Infra.Market</td>\n",
       "      <td>B2B E-Commerce - Construction Materials</td>\n",
       "      <td>1.0</td>\n",
       "      <td>2.5</td>\n",
       "      <td>Feb/2021</td>\n",
       "      <td>Thane</td>\n",
       "      <td>Accel India, Nexus Venture Partners, Tiger Glo...</td>\n",
       "    </tr>\n",
       "    <tr>\n",
       "      <th>22</th>\n",
       "      <td>23</td>\n",
       "      <td>Druva Software</td>\n",
       "      <td>SaaS - Data Management</td>\n",
       "      <td>1.0</td>\n",
       "      <td>2.0</td>\n",
       "      <td>Jun/2019</td>\n",
       "      <td>Pune/Sunnyvale</td>\n",
       "      <td>WestBridge, Nexus Ventures, Sequoia Capital</td>\n",
       "    </tr>\n",
       "    <tr>\n",
       "      <th>23</th>\n",
       "      <td>24</td>\n",
       "      <td>Icertis</td>\n",
       "      <td>SaaS - Contract Management</td>\n",
       "      <td>1.0</td>\n",
       "      <td>5.0</td>\n",
       "      <td>Jul/2019</td>\n",
       "      <td>Pune/Bellevue</td>\n",
       "      <td>Eight Roads, B Capital, PremjiInvest</td>\n",
       "    </tr>\n",
       "    <tr>\n",
       "      <th>41</th>\n",
       "      <td>42</td>\n",
       "      <td>FirstCry</td>\n",
       "      <td>E-Commerce - Baby Care Products</td>\n",
       "      <td>1.7</td>\n",
       "      <td>1.7</td>\n",
       "      <td>Mar/2021</td>\n",
       "      <td>Pune</td>\n",
       "      <td>Chiratae Ventures, Elevation Capital, Vertex, ...</td>\n",
       "    </tr>\n",
       "    <tr>\n",
       "      <th>99</th>\n",
       "      <td>100</td>\n",
       "      <td>OneCard</td>\n",
       "      <td>Fintech - Credit Cards</td>\n",
       "      <td>1.3</td>\n",
       "      <td>1.3</td>\n",
       "      <td>Jul/2022</td>\n",
       "      <td>Pune</td>\n",
       "      <td>QED Investors, Matrix Partners India, Sequoia ...</td>\n",
       "    </tr>\n",
       "    <tr>\n",
       "      <th>...</th>\n",
       "      <td>...</td>\n",
       "      <td>...</td>\n",
       "      <td>...</td>\n",
       "      <td>...</td>\n",
       "      <td>...</td>\n",
       "      <td>...</td>\n",
       "      <td>...</td>\n",
       "      <td>...</td>\n",
       "    </tr>\n",
       "    <tr>\n",
       "      <th>98</th>\n",
       "      <td>99</td>\n",
       "      <td>Leadsquared</td>\n",
       "      <td>SaaS - CRM</td>\n",
       "      <td>1.0</td>\n",
       "      <td>1.0</td>\n",
       "      <td>Jun/2022</td>\n",
       "      <td>Bangalore</td>\n",
       "      <td>Stakeboat Capital, Gaja Capital, WestBridge</td>\n",
       "    </tr>\n",
       "    <tr>\n",
       "      <th>92</th>\n",
       "      <td>93</td>\n",
       "      <td>Amagi Media Labs</td>\n",
       "      <td>SaaS - Local Ads Targeting</td>\n",
       "      <td>1.0</td>\n",
       "      <td>1.0</td>\n",
       "      <td>Mar/2022</td>\n",
       "      <td>Bangalore</td>\n",
       "      <td>Avataar Venture Partners, PremjiInvest, Accel ...</td>\n",
       "    </tr>\n",
       "    <tr>\n",
       "      <th>90</th>\n",
       "      <td>91</td>\n",
       "      <td>Hasura</td>\n",
       "      <td>SaaS - Programming Tools</td>\n",
       "      <td>1.0</td>\n",
       "      <td>1.0</td>\n",
       "      <td>Feb/2022</td>\n",
       "      <td>Bangalore</td>\n",
       "      <td>Lightspeed Ventures, Nexus Venture Partners, V...</td>\n",
       "    </tr>\n",
       "    <tr>\n",
       "      <th>46</th>\n",
       "      <td>47</td>\n",
       "      <td>ShareChat</td>\n",
       "      <td>Social Media</td>\n",
       "      <td>2.1</td>\n",
       "      <td>4.9</td>\n",
       "      <td>Apr/2021</td>\n",
       "      <td>Bangalore</td>\n",
       "      <td>India Quotient, Elevation Capital, Lightspeed ...</td>\n",
       "    </tr>\n",
       "    <tr>\n",
       "      <th>85</th>\n",
       "      <td>86</td>\n",
       "      <td>Polygon</td>\n",
       "      <td>Web3 Infrastructure - Dapps</td>\n",
       "      <td>10.0</td>\n",
       "      <td>10.0</td>\n",
       "      <td>Feb/2022</td>\n",
       "      <td>Bangalore</td>\n",
       "      <td>Coinbase Ventures, Sequoia Capital India, Tige...</td>\n",
       "    </tr>\n",
       "  </tbody>\n",
       "</table>\n",
       "<p>102 rows × 8 columns</p>\n",
       "</div>"
      ],
      "text/plain": [
       "    No.           Company                                   Sector  \\\n",
       "39   40      Infra.Market  B2B E-Commerce - Construction Materials   \n",
       "22   23    Druva Software                   SaaS - Data Management   \n",
       "23   24           Icertis               SaaS - Contract Management   \n",
       "41   42          FirstCry          E-Commerce - Baby Care Products   \n",
       "99  100           OneCard                   Fintech - Credit Cards   \n",
       "..  ...               ...                                      ...   \n",
       "98   99       Leadsquared                               SaaS - CRM   \n",
       "92   93  Amagi Media Labs               SaaS - Local Ads Targeting   \n",
       "90   91            Hasura                 SaaS - Programming Tools   \n",
       "46   47         ShareChat                             Social Media   \n",
       "85   86           Polygon              Web3 Infrastructure - Dapps   \n",
       "\n",
       "    Entry Valuation^^ ($B)  Valuation ($B)     Entry        Location  \\\n",
       "39                     1.0             2.5  Feb/2021           Thane   \n",
       "22                     1.0             2.0  Jun/2019  Pune/Sunnyvale   \n",
       "23                     1.0             5.0  Jul/2019   Pune/Bellevue   \n",
       "41                     1.7             1.7  Mar/2021            Pune   \n",
       "99                     1.3             1.3  Jul/2022            Pune   \n",
       "..                     ...             ...       ...             ...   \n",
       "98                     1.0             1.0  Jun/2022       Bangalore   \n",
       "92                     1.0             1.0  Mar/2022       Bangalore   \n",
       "90                     1.0             1.0  Feb/2022       Bangalore   \n",
       "46                     2.1             4.9  Apr/2021       Bangalore   \n",
       "85                    10.0            10.0  Feb/2022       Bangalore   \n",
       "\n",
       "                                     Select Investors  \n",
       "39  Accel India, Nexus Venture Partners, Tiger Glo...  \n",
       "22        WestBridge, Nexus Ventures, Sequoia Capital  \n",
       "23               Eight Roads, B Capital, PremjiInvest  \n",
       "41  Chiratae Ventures, Elevation Capital, Vertex, ...  \n",
       "99  QED Investors, Matrix Partners India, Sequoia ...  \n",
       "..                                                ...  \n",
       "98        Stakeboat Capital, Gaja Capital, WestBridge  \n",
       "92  Avataar Venture Partners, PremjiInvest, Accel ...  \n",
       "90  Lightspeed Ventures, Nexus Venture Partners, V...  \n",
       "46  India Quotient, Elevation Capital, Lightspeed ...  \n",
       "85  Coinbase Ventures, Sequoia Capital India, Tige...  \n",
       "\n",
       "[102 rows x 8 columns]"
      ]
     },
     "execution_count": 395,
     "metadata": {},
     "output_type": "execute_result"
    }
   ],
   "source": [
    "# select * from fd order by Location desc, sector asc\n",
    "df.sort_values([\"Location\",\"Sector\"], ascending = [False,True])"
   ]
  },
  {
   "cell_type": "code",
   "execution_count": 396,
   "id": "0e50311f",
   "metadata": {
    "execution": {
     "iopub.execute_input": "2023-11-16T15:54:12.686547Z",
     "iopub.status.busy": "2023-11-16T15:54:12.685930Z",
     "iopub.status.idle": "2023-11-16T15:54:12.709475Z",
     "shell.execute_reply": "2023-11-16T15:54:12.708510Z"
    },
    "papermill": {
     "duration": 0.232565,
     "end_time": "2023-11-16T15:54:12.711562",
     "exception": false,
     "start_time": "2023-11-16T15:54:12.478997",
     "status": "completed"
    },
    "tags": []
   },
   "outputs": [
    {
     "data": {
      "text/html": [
       "<div>\n",
       "<style scoped>\n",
       "    .dataframe tbody tr th:only-of-type {\n",
       "        vertical-align: middle;\n",
       "    }\n",
       "\n",
       "    .dataframe tbody tr th {\n",
       "        vertical-align: top;\n",
       "    }\n",
       "\n",
       "    .dataframe thead th {\n",
       "        text-align: right;\n",
       "    }\n",
       "</style>\n",
       "<table border=\"1\" class=\"dataframe\">\n",
       "  <thead>\n",
       "    <tr style=\"text-align: right;\">\n",
       "      <th></th>\n",
       "      <th>No.</th>\n",
       "      <th>Company</th>\n",
       "      <th>Sector</th>\n",
       "      <th>Entry Valuation^^ ($B)</th>\n",
       "      <th>Valuation ($B)</th>\n",
       "      <th>Entry</th>\n",
       "      <th>Location</th>\n",
       "      <th>Select Investors</th>\n",
       "      <th>aa</th>\n",
       "    </tr>\n",
       "  </thead>\n",
       "  <tbody>\n",
       "    <tr>\n",
       "      <th>0</th>\n",
       "      <td>1</td>\n",
       "      <td>InMobi</td>\n",
       "      <td>Adtech - Mobile Ads</td>\n",
       "      <td>1.00</td>\n",
       "      <td>1.00</td>\n",
       "      <td>Sep/2011</td>\n",
       "      <td>Bangalore/Singapore</td>\n",
       "      <td>KPCB, Sherpalo Ventures, SoftBank</td>\n",
       "      <td>12.00</td>\n",
       "    </tr>\n",
       "    <tr>\n",
       "      <th>1</th>\n",
       "      <td>2</td>\n",
       "      <td>Flipkart^</td>\n",
       "      <td>E-Commerce</td>\n",
       "      <td>1.00</td>\n",
       "      <td>37.60</td>\n",
       "      <td>Feb/2012</td>\n",
       "      <td>Bangalore/Singapore</td>\n",
       "      <td>Accel, Tiger Global, Naspers, SoftBank, Tencent</td>\n",
       "      <td>85.20</td>\n",
       "    </tr>\n",
       "    <tr>\n",
       "      <th>2</th>\n",
       "      <td>3</td>\n",
       "      <td>Mu Sigma</td>\n",
       "      <td>SaaS - Analytics</td>\n",
       "      <td>1.00</td>\n",
       "      <td>1.50</td>\n",
       "      <td>Feb/2013</td>\n",
       "      <td>Bangalore/Chicago</td>\n",
       "      <td>Accel, Sequoia Capital, General Atlantic</td>\n",
       "      <td>13.00</td>\n",
       "    </tr>\n",
       "    <tr>\n",
       "      <th>3</th>\n",
       "      <td>4</td>\n",
       "      <td>Snapdeal*</td>\n",
       "      <td>E-Commerce</td>\n",
       "      <td>1.80</td>\n",
       "      <td>2.40</td>\n",
       "      <td>Oct/2014</td>\n",
       "      <td>Delhi</td>\n",
       "      <td>Kalaari Capital, Nexus Ventures, Bessemer, Sof...</td>\n",
       "      <td>14.80</td>\n",
       "    </tr>\n",
       "    <tr>\n",
       "      <th>4</th>\n",
       "      <td>5</td>\n",
       "      <td>PayTM^</td>\n",
       "      <td>Fintech - Payments &amp; Wallet</td>\n",
       "      <td>1.70</td>\n",
       "      <td>16.00</td>\n",
       "      <td>Feb/2015</td>\n",
       "      <td>Noida</td>\n",
       "      <td>Saama Capital, Elevation Capital, Alibaba, Ber...</td>\n",
       "      <td>42.00</td>\n",
       "    </tr>\n",
       "    <tr>\n",
       "      <th>...</th>\n",
       "      <td>...</td>\n",
       "      <td>...</td>\n",
       "      <td>...</td>\n",
       "      <td>...</td>\n",
       "      <td>...</td>\n",
       "      <td>...</td>\n",
       "      <td>...</td>\n",
       "      <td>...</td>\n",
       "      <td>...</td>\n",
       "    </tr>\n",
       "    <tr>\n",
       "      <th>97</th>\n",
       "      <td>98</td>\n",
       "      <td>Purplle</td>\n",
       "      <td>E-Commerce - Personal Care &amp; Cosmetics</td>\n",
       "      <td>1.10</td>\n",
       "      <td>1.10</td>\n",
       "      <td>Jun/2022</td>\n",
       "      <td>Mumbai</td>\n",
       "      <td>JSW Ventures, IvyCap Ventures, Blume Ventures,...</td>\n",
       "      <td>12.20</td>\n",
       "    </tr>\n",
       "    <tr>\n",
       "      <th>98</th>\n",
       "      <td>99</td>\n",
       "      <td>Leadsquared</td>\n",
       "      <td>SaaS - CRM</td>\n",
       "      <td>1.00</td>\n",
       "      <td>1.00</td>\n",
       "      <td>Jun/2022</td>\n",
       "      <td>Bangalore</td>\n",
       "      <td>Stakeboat Capital, Gaja Capital, WestBridge</td>\n",
       "      <td>12.00</td>\n",
       "    </tr>\n",
       "    <tr>\n",
       "      <th>99</th>\n",
       "      <td>100</td>\n",
       "      <td>OneCard</td>\n",
       "      <td>Fintech - Credit Cards</td>\n",
       "      <td>1.30</td>\n",
       "      <td>1.30</td>\n",
       "      <td>Jul/2022</td>\n",
       "      <td>Pune</td>\n",
       "      <td>QED Investors, Matrix Partners India, Sequoia ...</td>\n",
       "      <td>12.60</td>\n",
       "    </tr>\n",
       "    <tr>\n",
       "      <th>100</th>\n",
       "      <td>101</td>\n",
       "      <td>Shiprocket</td>\n",
       "      <td>Aggregator - Logistics Services</td>\n",
       "      <td>1.23</td>\n",
       "      <td>1.23</td>\n",
       "      <td>Aug/2022</td>\n",
       "      <td>Delhi</td>\n",
       "      <td>Lightrock India, Info Edge, Tribe Capital, Tem...</td>\n",
       "      <td>12.46</td>\n",
       "    </tr>\n",
       "    <tr>\n",
       "      <th>101</th>\n",
       "      <td>102</td>\n",
       "      <td>Molbio Diagnostics</td>\n",
       "      <td>Healthtech - Diagnostics</td>\n",
       "      <td>1.53</td>\n",
       "      <td>1.53</td>\n",
       "      <td>Sep/2022</td>\n",
       "      <td>Goa</td>\n",
       "      <td>Temasek, Motilal Oswal</td>\n",
       "      <td>13.06</td>\n",
       "    </tr>\n",
       "  </tbody>\n",
       "</table>\n",
       "<p>102 rows × 9 columns</p>\n",
       "</div>"
      ],
      "text/plain": [
       "     No.             Company                                  Sector  \\\n",
       "0      1              InMobi                     Adtech - Mobile Ads   \n",
       "1      2           Flipkart^                              E-Commerce   \n",
       "2      3            Mu Sigma                        SaaS - Analytics   \n",
       "3      4           Snapdeal*                              E-Commerce   \n",
       "4      5              PayTM^             Fintech - Payments & Wallet   \n",
       "..   ...                 ...                                     ...   \n",
       "97    98             Purplle  E-Commerce - Personal Care & Cosmetics   \n",
       "98    99         Leadsquared                              SaaS - CRM   \n",
       "99   100             OneCard                  Fintech - Credit Cards   \n",
       "100  101          Shiprocket         Aggregator - Logistics Services   \n",
       "101  102  Molbio Diagnostics                Healthtech - Diagnostics   \n",
       "\n",
       "     Entry Valuation^^ ($B)  Valuation ($B)     Entry             Location  \\\n",
       "0                      1.00            1.00  Sep/2011  Bangalore/Singapore   \n",
       "1                      1.00           37.60  Feb/2012  Bangalore/Singapore   \n",
       "2                      1.00            1.50  Feb/2013    Bangalore/Chicago   \n",
       "3                      1.80            2.40  Oct/2014                Delhi   \n",
       "4                      1.70           16.00  Feb/2015                Noida   \n",
       "..                      ...             ...       ...                  ...   \n",
       "97                     1.10            1.10  Jun/2022               Mumbai   \n",
       "98                     1.00            1.00  Jun/2022            Bangalore   \n",
       "99                     1.30            1.30  Jul/2022                 Pune   \n",
       "100                    1.23            1.23  Aug/2022                Delhi   \n",
       "101                    1.53            1.53  Sep/2022                  Goa   \n",
       "\n",
       "                                      Select Investors     aa  \n",
       "0                    KPCB, Sherpalo Ventures, SoftBank  12.00  \n",
       "1      Accel, Tiger Global, Naspers, SoftBank, Tencent  85.20  \n",
       "2             Accel, Sequoia Capital, General Atlantic  13.00  \n",
       "3    Kalaari Capital, Nexus Ventures, Bessemer, Sof...  14.80  \n",
       "4    Saama Capital, Elevation Capital, Alibaba, Ber...  42.00  \n",
       "..                                                 ...    ...  \n",
       "97   JSW Ventures, IvyCap Ventures, Blume Ventures,...  12.20  \n",
       "98         Stakeboat Capital, Gaja Capital, WestBridge  12.00  \n",
       "99   QED Investors, Matrix Partners India, Sequoia ...  12.60  \n",
       "100  Lightrock India, Info Edge, Tribe Capital, Tem...  12.46  \n",
       "101                             Temasek, Motilal Oswal  13.06  \n",
       "\n",
       "[102 rows x 9 columns]"
      ]
     },
     "execution_count": 396,
     "metadata": {},
     "output_type": "execute_result"
    }
   ],
   "source": [
    "# select val + 2  as joyce from af\n",
    "df[\"aa\"] = df[\"Valuation ($B)\"].apply(lambda x : x * 2 + 10)\n",
    "df"
   ]
  },
  {
   "cell_type": "code",
   "execution_count": 397,
   "id": "1c4a3e99",
   "metadata": {
    "execution": {
     "iopub.execute_input": "2023-11-16T15:54:13.036657Z",
     "iopub.status.busy": "2023-11-16T15:54:13.035967Z",
     "iopub.status.idle": "2023-11-16T15:54:13.042389Z",
     "shell.execute_reply": "2023-11-16T15:54:13.041534Z"
    },
    "papermill": {
     "duration": 0.170668,
     "end_time": "2023-11-16T15:54:13.044350",
     "exception": false,
     "start_time": "2023-11-16T15:54:12.873682",
     "status": "completed"
    },
    "tags": []
   },
   "outputs": [
    {
     "data": {
      "text/plain": [
       "Index(['No.', 'Company', 'Sector', 'Entry Valuation^^ ($B)', 'Valuation ($B)',\n",
       "       'Entry', 'Location', 'Select Investors', 'aa'],\n",
       "      dtype='object')"
      ]
     },
     "execution_count": 397,
     "metadata": {},
     "output_type": "execute_result"
    }
   ],
   "source": [
    "df.columns"
   ]
  },
  {
   "cell_type": "code",
   "execution_count": 398,
   "id": "cf8efd5b",
   "metadata": {
    "execution": {
     "iopub.execute_input": "2023-11-16T15:54:13.363594Z",
     "iopub.status.busy": "2023-11-16T15:54:13.362820Z",
     "iopub.status.idle": "2023-11-16T15:54:13.382295Z",
     "shell.execute_reply": "2023-11-16T15:54:13.381460Z"
    },
    "papermill": {
     "duration": 0.180842,
     "end_time": "2023-11-16T15:54:13.384385",
     "exception": false,
     "start_time": "2023-11-16T15:54:13.203543",
     "status": "completed"
    },
    "tags": []
   },
   "outputs": [
    {
     "data": {
      "text/html": [
       "<div>\n",
       "<style scoped>\n",
       "    .dataframe tbody tr th:only-of-type {\n",
       "        vertical-align: middle;\n",
       "    }\n",
       "\n",
       "    .dataframe tbody tr th {\n",
       "        vertical-align: top;\n",
       "    }\n",
       "\n",
       "    .dataframe thead th {\n",
       "        text-align: right;\n",
       "    }\n",
       "</style>\n",
       "<table border=\"1\" class=\"dataframe\">\n",
       "  <thead>\n",
       "    <tr style=\"text-align: right;\">\n",
       "      <th></th>\n",
       "      <th>No.</th>\n",
       "      <th>Company</th>\n",
       "      <th>Sector</th>\n",
       "      <th>Entry Valuation^^ ($B)</th>\n",
       "      <th>Valuation ($B)</th>\n",
       "      <th>Entry</th>\n",
       "      <th>Location</th>\n",
       "      <th>Select Investors</th>\n",
       "      <th>aa</th>\n",
       "    </tr>\n",
       "  </thead>\n",
       "  <tbody>\n",
       "    <tr>\n",
       "      <th>0</th>\n",
       "      <td>1</td>\n",
       "      <td>InMobi</td>\n",
       "      <td>Adtech - Mobile Ads</td>\n",
       "      <td>1.00</td>\n",
       "      <td>1.00</td>\n",
       "      <td>Sep/2011</td>\n",
       "      <td>Bangalore/Singapore</td>\n",
       "      <td>KPCB, Sherpalo Ventures, SoftBank</td>\n",
       "      <td>12.00</td>\n",
       "    </tr>\n",
       "    <tr>\n",
       "      <th>1</th>\n",
       "      <td>2</td>\n",
       "      <td>Flipkart^</td>\n",
       "      <td>E-Commerce</td>\n",
       "      <td>1.00</td>\n",
       "      <td>37.60</td>\n",
       "      <td>Feb/2012</td>\n",
       "      <td>Bangalore/Singapore</td>\n",
       "      <td>Accel, Tiger Global, Naspers, SoftBank, Tencent</td>\n",
       "      <td>85.20</td>\n",
       "    </tr>\n",
       "    <tr>\n",
       "      <th>2</th>\n",
       "      <td>3</td>\n",
       "      <td>Mu Sigma</td>\n",
       "      <td>SaaS - Analytics</td>\n",
       "      <td>1.00</td>\n",
       "      <td>1.50</td>\n",
       "      <td>Feb/2013</td>\n",
       "      <td>Bangalore/Chicago</td>\n",
       "      <td>Accel, Sequoia Capital, General Atlantic</td>\n",
       "      <td>13.00</td>\n",
       "    </tr>\n",
       "    <tr>\n",
       "      <th>3</th>\n",
       "      <td>4</td>\n",
       "      <td>Snapdeal*</td>\n",
       "      <td>E-Commerce</td>\n",
       "      <td>1.80</td>\n",
       "      <td>2.40</td>\n",
       "      <td>Oct/2014</td>\n",
       "      <td>Delhi</td>\n",
       "      <td>Kalaari Capital, Nexus Ventures, Bessemer, Sof...</td>\n",
       "      <td>14.80</td>\n",
       "    </tr>\n",
       "    <tr>\n",
       "      <th>4</th>\n",
       "      <td>5</td>\n",
       "      <td>PayTM^</td>\n",
       "      <td>Fintech - Payments &amp; Wallet</td>\n",
       "      <td>1.70</td>\n",
       "      <td>16.00</td>\n",
       "      <td>Feb/2015</td>\n",
       "      <td>Noida</td>\n",
       "      <td>Saama Capital, Elevation Capital, Alibaba, Ber...</td>\n",
       "      <td>42.00</td>\n",
       "    </tr>\n",
       "    <tr>\n",
       "      <th>...</th>\n",
       "      <td>...</td>\n",
       "      <td>...</td>\n",
       "      <td>...</td>\n",
       "      <td>...</td>\n",
       "      <td>...</td>\n",
       "      <td>...</td>\n",
       "      <td>...</td>\n",
       "      <td>...</td>\n",
       "      <td>...</td>\n",
       "    </tr>\n",
       "    <tr>\n",
       "      <th>97</th>\n",
       "      <td>98</td>\n",
       "      <td>Purplle</td>\n",
       "      <td>E-Commerce - Personal Care &amp; Cosmetics</td>\n",
       "      <td>1.10</td>\n",
       "      <td>1.10</td>\n",
       "      <td>Jun/2022</td>\n",
       "      <td>Mumbai</td>\n",
       "      <td>JSW Ventures, IvyCap Ventures, Blume Ventures,...</td>\n",
       "      <td>12.20</td>\n",
       "    </tr>\n",
       "    <tr>\n",
       "      <th>98</th>\n",
       "      <td>99</td>\n",
       "      <td>Leadsquared</td>\n",
       "      <td>SaaS - CRM</td>\n",
       "      <td>1.00</td>\n",
       "      <td>1.00</td>\n",
       "      <td>Jun/2022</td>\n",
       "      <td>Bangalore</td>\n",
       "      <td>Stakeboat Capital, Gaja Capital, WestBridge</td>\n",
       "      <td>12.00</td>\n",
       "    </tr>\n",
       "    <tr>\n",
       "      <th>99</th>\n",
       "      <td>100</td>\n",
       "      <td>OneCard</td>\n",
       "      <td>Fintech - Credit Cards</td>\n",
       "      <td>1.30</td>\n",
       "      <td>1.30</td>\n",
       "      <td>Jul/2022</td>\n",
       "      <td>Pune</td>\n",
       "      <td>QED Investors, Matrix Partners India, Sequoia ...</td>\n",
       "      <td>12.60</td>\n",
       "    </tr>\n",
       "    <tr>\n",
       "      <th>100</th>\n",
       "      <td>101</td>\n",
       "      <td>Shiprocket</td>\n",
       "      <td>Aggregator - Logistics Services</td>\n",
       "      <td>1.23</td>\n",
       "      <td>1.23</td>\n",
       "      <td>Aug/2022</td>\n",
       "      <td>Delhi</td>\n",
       "      <td>Lightrock India, Info Edge, Tribe Capital, Tem...</td>\n",
       "      <td>12.46</td>\n",
       "    </tr>\n",
       "    <tr>\n",
       "      <th>101</th>\n",
       "      <td>102</td>\n",
       "      <td>Molbio Diagnostics</td>\n",
       "      <td>Healthtech - Diagnostics</td>\n",
       "      <td>1.53</td>\n",
       "      <td>1.53</td>\n",
       "      <td>Sep/2022</td>\n",
       "      <td>Goa</td>\n",
       "      <td>Temasek, Motilal Oswal</td>\n",
       "      <td>13.06</td>\n",
       "    </tr>\n",
       "  </tbody>\n",
       "</table>\n",
       "<p>102 rows × 9 columns</p>\n",
       "</div>"
      ],
      "text/plain": [
       "     No.             Company                                  Sector  \\\n",
       "0      1              InMobi                     Adtech - Mobile Ads   \n",
       "1      2           Flipkart^                              E-Commerce   \n",
       "2      3            Mu Sigma                        SaaS - Analytics   \n",
       "3      4           Snapdeal*                              E-Commerce   \n",
       "4      5              PayTM^             Fintech - Payments & Wallet   \n",
       "..   ...                 ...                                     ...   \n",
       "97    98             Purplle  E-Commerce - Personal Care & Cosmetics   \n",
       "98    99         Leadsquared                              SaaS - CRM   \n",
       "99   100             OneCard                  Fintech - Credit Cards   \n",
       "100  101          Shiprocket         Aggregator - Logistics Services   \n",
       "101  102  Molbio Diagnostics                Healthtech - Diagnostics   \n",
       "\n",
       "     Entry Valuation^^ ($B)  Valuation ($B)     Entry             Location  \\\n",
       "0                      1.00            1.00  Sep/2011  Bangalore/Singapore   \n",
       "1                      1.00           37.60  Feb/2012  Bangalore/Singapore   \n",
       "2                      1.00            1.50  Feb/2013    Bangalore/Chicago   \n",
       "3                      1.80            2.40  Oct/2014                Delhi   \n",
       "4                      1.70           16.00  Feb/2015                Noida   \n",
       "..                      ...             ...       ...                  ...   \n",
       "97                     1.10            1.10  Jun/2022               Mumbai   \n",
       "98                     1.00            1.00  Jun/2022            Bangalore   \n",
       "99                     1.30            1.30  Jul/2022                 Pune   \n",
       "100                    1.23            1.23  Aug/2022                Delhi   \n",
       "101                    1.53            1.53  Sep/2022                  Goa   \n",
       "\n",
       "                                      Select Investors     aa  \n",
       "0                    KPCB, Sherpalo Ventures, SoftBank  12.00  \n",
       "1      Accel, Tiger Global, Naspers, SoftBank, Tencent  85.20  \n",
       "2             Accel, Sequoia Capital, General Atlantic  13.00  \n",
       "3    Kalaari Capital, Nexus Ventures, Bessemer, Sof...  14.80  \n",
       "4    Saama Capital, Elevation Capital, Alibaba, Ber...  42.00  \n",
       "..                                                 ...    ...  \n",
       "97   JSW Ventures, IvyCap Ventures, Blume Ventures,...  12.20  \n",
       "98         Stakeboat Capital, Gaja Capital, WestBridge  12.00  \n",
       "99   QED Investors, Matrix Partners India, Sequoia ...  12.60  \n",
       "100  Lightrock India, Info Edge, Tribe Capital, Tem...  12.46  \n",
       "101                             Temasek, Motilal Oswal  13.06  \n",
       "\n",
       "[102 rows x 9 columns]"
      ]
     },
     "execution_count": 398,
     "metadata": {},
     "output_type": "execute_result"
    }
   ],
   "source": [
    "df"
   ]
  },
  {
   "cell_type": "code",
   "execution_count": 399,
   "id": "7ab9bc08",
   "metadata": {
    "execution": {
     "iopub.execute_input": "2023-11-16T15:54:13.705967Z",
     "iopub.status.busy": "2023-11-16T15:54:13.705360Z",
     "iopub.status.idle": "2023-11-16T15:54:13.711247Z",
     "shell.execute_reply": "2023-11-16T15:54:13.710345Z"
    },
    "papermill": {
     "duration": 0.169791,
     "end_time": "2023-11-16T15:54:13.713241",
     "exception": false,
     "start_time": "2023-11-16T15:54:13.543450",
     "status": "completed"
    },
    "tags": []
   },
   "outputs": [],
   "source": [
    "df.drop(\"aa\",axis = 1,inplace = True)"
   ]
  },
  {
   "cell_type": "code",
   "execution_count": 400,
   "id": "251a0c3e",
   "metadata": {
    "execution": {
     "iopub.execute_input": "2023-11-16T15:54:14.035834Z",
     "iopub.status.busy": "2023-11-16T15:54:14.035463Z",
     "iopub.status.idle": "2023-11-16T15:54:14.053810Z",
     "shell.execute_reply": "2023-11-16T15:54:14.052929Z"
    },
    "papermill": {
     "duration": 0.183121,
     "end_time": "2023-11-16T15:54:14.056103",
     "exception": false,
     "start_time": "2023-11-16T15:54:13.872982",
     "status": "completed"
    },
    "tags": []
   },
   "outputs": [
    {
     "data": {
      "text/html": [
       "<div>\n",
       "<style scoped>\n",
       "    .dataframe tbody tr th:only-of-type {\n",
       "        vertical-align: middle;\n",
       "    }\n",
       "\n",
       "    .dataframe tbody tr th {\n",
       "        vertical-align: top;\n",
       "    }\n",
       "\n",
       "    .dataframe thead th {\n",
       "        text-align: right;\n",
       "    }\n",
       "</style>\n",
       "<table border=\"1\" class=\"dataframe\">\n",
       "  <thead>\n",
       "    <tr style=\"text-align: right;\">\n",
       "      <th></th>\n",
       "      <th>No.</th>\n",
       "      <th>Company</th>\n",
       "      <th>Sector</th>\n",
       "      <th>Entry Valuation^^ ($B)</th>\n",
       "      <th>Valuation ($B)</th>\n",
       "      <th>Entry</th>\n",
       "      <th>Location</th>\n",
       "      <th>Select Investors</th>\n",
       "    </tr>\n",
       "  </thead>\n",
       "  <tbody>\n",
       "    <tr>\n",
       "      <th>0</th>\n",
       "      <td>1</td>\n",
       "      <td>InMobi</td>\n",
       "      <td>Adtech - Mobile Ads</td>\n",
       "      <td>1.00</td>\n",
       "      <td>1.00</td>\n",
       "      <td>Sep/2011</td>\n",
       "      <td>Bangalore/Singapore</td>\n",
       "      <td>KPCB, Sherpalo Ventures, SoftBank</td>\n",
       "    </tr>\n",
       "    <tr>\n",
       "      <th>1</th>\n",
       "      <td>2</td>\n",
       "      <td>Flipkart^</td>\n",
       "      <td>E-Commerce</td>\n",
       "      <td>1.00</td>\n",
       "      <td>37.60</td>\n",
       "      <td>Feb/2012</td>\n",
       "      <td>Bangalore/Singapore</td>\n",
       "      <td>Accel, Tiger Global, Naspers, SoftBank, Tencent</td>\n",
       "    </tr>\n",
       "    <tr>\n",
       "      <th>2</th>\n",
       "      <td>3</td>\n",
       "      <td>Mu Sigma</td>\n",
       "      <td>SaaS - Analytics</td>\n",
       "      <td>1.00</td>\n",
       "      <td>1.50</td>\n",
       "      <td>Feb/2013</td>\n",
       "      <td>Bangalore/Chicago</td>\n",
       "      <td>Accel, Sequoia Capital, General Atlantic</td>\n",
       "    </tr>\n",
       "    <tr>\n",
       "      <th>3</th>\n",
       "      <td>4</td>\n",
       "      <td>Snapdeal*</td>\n",
       "      <td>E-Commerce</td>\n",
       "      <td>1.80</td>\n",
       "      <td>2.40</td>\n",
       "      <td>Oct/2014</td>\n",
       "      <td>Delhi</td>\n",
       "      <td>Kalaari Capital, Nexus Ventures, Bessemer, Sof...</td>\n",
       "    </tr>\n",
       "    <tr>\n",
       "      <th>4</th>\n",
       "      <td>5</td>\n",
       "      <td>PayTM^</td>\n",
       "      <td>Fintech - Payments &amp; Wallet</td>\n",
       "      <td>1.70</td>\n",
       "      <td>16.00</td>\n",
       "      <td>Feb/2015</td>\n",
       "      <td>Noida</td>\n",
       "      <td>Saama Capital, Elevation Capital, Alibaba, Ber...</td>\n",
       "    </tr>\n",
       "    <tr>\n",
       "      <th>...</th>\n",
       "      <td>...</td>\n",
       "      <td>...</td>\n",
       "      <td>...</td>\n",
       "      <td>...</td>\n",
       "      <td>...</td>\n",
       "      <td>...</td>\n",
       "      <td>...</td>\n",
       "      <td>...</td>\n",
       "    </tr>\n",
       "    <tr>\n",
       "      <th>97</th>\n",
       "      <td>98</td>\n",
       "      <td>Purplle</td>\n",
       "      <td>E-Commerce - Personal Care &amp; Cosmetics</td>\n",
       "      <td>1.10</td>\n",
       "      <td>1.10</td>\n",
       "      <td>Jun/2022</td>\n",
       "      <td>Mumbai</td>\n",
       "      <td>JSW Ventures, IvyCap Ventures, Blume Ventures,...</td>\n",
       "    </tr>\n",
       "    <tr>\n",
       "      <th>98</th>\n",
       "      <td>99</td>\n",
       "      <td>Leadsquared</td>\n",
       "      <td>SaaS - CRM</td>\n",
       "      <td>1.00</td>\n",
       "      <td>1.00</td>\n",
       "      <td>Jun/2022</td>\n",
       "      <td>Bangalore</td>\n",
       "      <td>Stakeboat Capital, Gaja Capital, WestBridge</td>\n",
       "    </tr>\n",
       "    <tr>\n",
       "      <th>99</th>\n",
       "      <td>100</td>\n",
       "      <td>OneCard</td>\n",
       "      <td>Fintech - Credit Cards</td>\n",
       "      <td>1.30</td>\n",
       "      <td>1.30</td>\n",
       "      <td>Jul/2022</td>\n",
       "      <td>Pune</td>\n",
       "      <td>QED Investors, Matrix Partners India, Sequoia ...</td>\n",
       "    </tr>\n",
       "    <tr>\n",
       "      <th>100</th>\n",
       "      <td>101</td>\n",
       "      <td>Shiprocket</td>\n",
       "      <td>Aggregator - Logistics Services</td>\n",
       "      <td>1.23</td>\n",
       "      <td>1.23</td>\n",
       "      <td>Aug/2022</td>\n",
       "      <td>Delhi</td>\n",
       "      <td>Lightrock India, Info Edge, Tribe Capital, Tem...</td>\n",
       "    </tr>\n",
       "    <tr>\n",
       "      <th>101</th>\n",
       "      <td>102</td>\n",
       "      <td>Molbio Diagnostics</td>\n",
       "      <td>Healthtech - Diagnostics</td>\n",
       "      <td>1.53</td>\n",
       "      <td>1.53</td>\n",
       "      <td>Sep/2022</td>\n",
       "      <td>Goa</td>\n",
       "      <td>Temasek, Motilal Oswal</td>\n",
       "    </tr>\n",
       "  </tbody>\n",
       "</table>\n",
       "<p>102 rows × 8 columns</p>\n",
       "</div>"
      ],
      "text/plain": [
       "     No.             Company                                  Sector  \\\n",
       "0      1              InMobi                     Adtech - Mobile Ads   \n",
       "1      2           Flipkart^                              E-Commerce   \n",
       "2      3            Mu Sigma                        SaaS - Analytics   \n",
       "3      4           Snapdeal*                              E-Commerce   \n",
       "4      5              PayTM^             Fintech - Payments & Wallet   \n",
       "..   ...                 ...                                     ...   \n",
       "97    98             Purplle  E-Commerce - Personal Care & Cosmetics   \n",
       "98    99         Leadsquared                              SaaS - CRM   \n",
       "99   100             OneCard                  Fintech - Credit Cards   \n",
       "100  101          Shiprocket         Aggregator - Logistics Services   \n",
       "101  102  Molbio Diagnostics                Healthtech - Diagnostics   \n",
       "\n",
       "     Entry Valuation^^ ($B)  Valuation ($B)     Entry             Location  \\\n",
       "0                      1.00            1.00  Sep/2011  Bangalore/Singapore   \n",
       "1                      1.00           37.60  Feb/2012  Bangalore/Singapore   \n",
       "2                      1.00            1.50  Feb/2013    Bangalore/Chicago   \n",
       "3                      1.80            2.40  Oct/2014                Delhi   \n",
       "4                      1.70           16.00  Feb/2015                Noida   \n",
       "..                      ...             ...       ...                  ...   \n",
       "97                     1.10            1.10  Jun/2022               Mumbai   \n",
       "98                     1.00            1.00  Jun/2022            Bangalore   \n",
       "99                     1.30            1.30  Jul/2022                 Pune   \n",
       "100                    1.23            1.23  Aug/2022                Delhi   \n",
       "101                    1.53            1.53  Sep/2022                  Goa   \n",
       "\n",
       "                                      Select Investors  \n",
       "0                    KPCB, Sherpalo Ventures, SoftBank  \n",
       "1      Accel, Tiger Global, Naspers, SoftBank, Tencent  \n",
       "2             Accel, Sequoia Capital, General Atlantic  \n",
       "3    Kalaari Capital, Nexus Ventures, Bessemer, Sof...  \n",
       "4    Saama Capital, Elevation Capital, Alibaba, Ber...  \n",
       "..                                                 ...  \n",
       "97   JSW Ventures, IvyCap Ventures, Blume Ventures,...  \n",
       "98         Stakeboat Capital, Gaja Capital, WestBridge  \n",
       "99   QED Investors, Matrix Partners India, Sequoia ...  \n",
       "100  Lightrock India, Info Edge, Tribe Capital, Tem...  \n",
       "101                             Temasek, Motilal Oswal  \n",
       "\n",
       "[102 rows x 8 columns]"
      ]
     },
     "execution_count": 400,
     "metadata": {},
     "output_type": "execute_result"
    }
   ],
   "source": [
    "df"
   ]
  },
  {
   "cell_type": "code",
   "execution_count": 401,
   "id": "03409184",
   "metadata": {
    "execution": {
     "iopub.execute_input": "2023-11-16T15:54:14.378051Z",
     "iopub.status.busy": "2023-11-16T15:54:14.377420Z",
     "iopub.status.idle": "2023-11-16T15:54:14.385047Z",
     "shell.execute_reply": "2023-11-16T15:54:14.383989Z"
    },
    "papermill": {
     "duration": 0.171167,
     "end_time": "2023-11-16T15:54:14.387247",
     "exception": false,
     "start_time": "2023-11-16T15:54:14.216080",
     "status": "completed"
    },
    "tags": []
   },
   "outputs": [
    {
     "data": {
      "text/plain": [
       "0"
      ]
     },
     "execution_count": 401,
     "metadata": {},
     "output_type": "execute_result"
    }
   ],
   "source": [
    "# select count(*) from af where entry is null\n",
    "\n",
    "df.isnull().sum().sum()"
   ]
  },
  {
   "cell_type": "code",
   "execution_count": 402,
   "id": "92af213b",
   "metadata": {
    "execution": {
     "iopub.execute_input": "2023-11-16T15:54:14.718572Z",
     "iopub.status.busy": "2023-11-16T15:54:14.717592Z",
     "iopub.status.idle": "2023-11-16T15:54:14.722885Z",
     "shell.execute_reply": "2023-11-16T15:54:14.721911Z"
    },
    "papermill": {
     "duration": 0.169387,
     "end_time": "2023-11-16T15:54:14.725295",
     "exception": false,
     "start_time": "2023-11-16T15:54:14.555908",
     "status": "completed"
    },
    "tags": []
   },
   "outputs": [
    {
     "name": "stdout",
     "output_type": "stream",
     "text": [
      "1\n"
     ]
    }
   ],
   "source": [
    "print(int(True))"
   ]
  },
  {
   "cell_type": "code",
   "execution_count": 403,
   "id": "bf38874c",
   "metadata": {
    "execution": {
     "iopub.execute_input": "2023-11-16T15:54:15.098021Z",
     "iopub.status.busy": "2023-11-16T15:54:15.097371Z",
     "iopub.status.idle": "2023-11-16T15:54:15.106292Z",
     "shell.execute_reply": "2023-11-16T15:54:15.105458Z"
    },
    "papermill": {
     "duration": 0.221172,
     "end_time": "2023-11-16T15:54:15.108549",
     "exception": false,
     "start_time": "2023-11-16T15:54:14.887377",
     "status": "completed"
    },
    "tags": []
   },
   "outputs": [
    {
     "data": {
      "text/html": [
       "<div>\n",
       "<style scoped>\n",
       "    .dataframe tbody tr th:only-of-type {\n",
       "        vertical-align: middle;\n",
       "    }\n",
       "\n",
       "    .dataframe tbody tr th {\n",
       "        vertical-align: top;\n",
       "    }\n",
       "\n",
       "    .dataframe thead th {\n",
       "        text-align: right;\n",
       "    }\n",
       "</style>\n",
       "<table border=\"1\" class=\"dataframe\">\n",
       "  <thead>\n",
       "    <tr style=\"text-align: right;\">\n",
       "      <th></th>\n",
       "      <th>sno</th>\n",
       "      <th>names</th>\n",
       "      <th>marks</th>\n",
       "    </tr>\n",
       "  </thead>\n",
       "  <tbody>\n",
       "    <tr>\n",
       "      <th>0</th>\n",
       "      <td>1</td>\n",
       "      <td>mlv</td>\n",
       "      <td>10</td>\n",
       "    </tr>\n",
       "    <tr>\n",
       "      <th>1</th>\n",
       "      <td>2</td>\n",
       "      <td>abhi</td>\n",
       "      <td>20</td>\n",
       "    </tr>\n",
       "    <tr>\n",
       "      <th>2</th>\n",
       "      <td>3</td>\n",
       "      <td>joy</td>\n",
       "      <td>30</td>\n",
       "    </tr>\n",
       "  </tbody>\n",
       "</table>\n",
       "</div>"
      ],
      "text/plain": [
       "   sno names  marks\n",
       "0    1   mlv     10\n",
       "1    2  abhi     20\n",
       "2    3   joy     30"
      ]
     },
     "execution_count": 403,
     "metadata": {},
     "output_type": "execute_result"
    }
   ],
   "source": [
    "af"
   ]
  },
  {
   "cell_type": "code",
   "execution_count": 404,
   "id": "e07bac15",
   "metadata": {
    "execution": {
     "iopub.execute_input": "2023-11-16T15:54:15.425972Z",
     "iopub.status.busy": "2023-11-16T15:54:15.425580Z",
     "iopub.status.idle": "2023-11-16T15:54:15.437346Z",
     "shell.execute_reply": "2023-11-16T15:54:15.436453Z"
    },
    "papermill": {
     "duration": 0.172447,
     "end_time": "2023-11-16T15:54:15.439284",
     "exception": false,
     "start_time": "2023-11-16T15:54:15.266837",
     "status": "completed"
    },
    "tags": []
   },
   "outputs": [
    {
     "data": {
      "text/html": [
       "<div>\n",
       "<style scoped>\n",
       "    .dataframe tbody tr th:only-of-type {\n",
       "        vertical-align: middle;\n",
       "    }\n",
       "\n",
       "    .dataframe tbody tr th {\n",
       "        vertical-align: top;\n",
       "    }\n",
       "\n",
       "    .dataframe thead th {\n",
       "        text-align: right;\n",
       "    }\n",
       "</style>\n",
       "<table border=\"1\" class=\"dataframe\">\n",
       "  <thead>\n",
       "    <tr style=\"text-align: right;\">\n",
       "      <th></th>\n",
       "      <th>sno</th>\n",
       "      <th>names</th>\n",
       "      <th>marks</th>\n",
       "    </tr>\n",
       "  </thead>\n",
       "  <tbody>\n",
       "    <tr>\n",
       "      <th>0</th>\n",
       "      <td>1</td>\n",
       "      <td>abhi</td>\n",
       "      <td>10.0</td>\n",
       "    </tr>\n",
       "    <tr>\n",
       "      <th>1</th>\n",
       "      <td>1</td>\n",
       "      <td>abhi</td>\n",
       "      <td>10.0</td>\n",
       "    </tr>\n",
       "    <tr>\n",
       "      <th>2</th>\n",
       "      <td>3</td>\n",
       "      <td>joy</td>\n",
       "      <td>NaN</td>\n",
       "    </tr>\n",
       "  </tbody>\n",
       "</table>\n",
       "</div>"
      ],
      "text/plain": [
       "   sno names  marks\n",
       "0    1  abhi   10.0\n",
       "1    1  abhi   10.0\n",
       "2    3   joy    NaN"
      ]
     },
     "execution_count": 404,
     "metadata": {},
     "output_type": "execute_result"
    }
   ],
   "source": [
    "af = pd.DataFrame({ \"sno\"  :    [1,1,3],\n",
    "                   \"names\"  : [\"abhi\",\"abhi\",\"joy\"],\n",
    "                   \"marks\" : [10,10,None]\n",
    "    \n",
    "                \n",
    "                   })\n",
    "\n",
    "\n",
    "af"
   ]
  },
  {
   "cell_type": "code",
   "execution_count": 405,
   "id": "5c71dff8",
   "metadata": {
    "execution": {
     "iopub.execute_input": "2023-11-16T15:54:15.763742Z",
     "iopub.status.busy": "2023-11-16T15:54:15.762942Z",
     "iopub.status.idle": "2023-11-16T15:54:15.770426Z",
     "shell.execute_reply": "2023-11-16T15:54:15.769521Z"
    },
    "papermill": {
     "duration": 0.171068,
     "end_time": "2023-11-16T15:54:15.772597",
     "exception": false,
     "start_time": "2023-11-16T15:54:15.601529",
     "status": "completed"
    },
    "tags": []
   },
   "outputs": [
    {
     "data": {
      "text/plain": [
       "1"
      ]
     },
     "execution_count": 405,
     "metadata": {},
     "output_type": "execute_result"
    }
   ],
   "source": [
    "af.isnull().sum().sum()"
   ]
  },
  {
   "cell_type": "code",
   "execution_count": 406,
   "id": "4c9eb70c",
   "metadata": {
    "execution": {
     "iopub.execute_input": "2023-11-16T15:54:16.101115Z",
     "iopub.status.busy": "2023-11-16T15:54:16.100779Z",
     "iopub.status.idle": "2023-11-16T15:54:16.108698Z",
     "shell.execute_reply": "2023-11-16T15:54:16.107736Z"
    },
    "papermill": {
     "duration": 0.170393,
     "end_time": "2023-11-16T15:54:16.110639",
     "exception": false,
     "start_time": "2023-11-16T15:54:15.940246",
     "status": "completed"
    },
    "tags": []
   },
   "outputs": [
    {
     "data": {
      "text/plain": [
       "names\n",
       "abhi    2\n",
       "joy     1\n",
       "Name: count, dtype: int64"
      ]
     },
     "execution_count": 406,
     "metadata": {},
     "output_type": "execute_result"
    }
   ],
   "source": [
    "af[\"names\"].value_counts()"
   ]
  },
  {
   "cell_type": "code",
   "execution_count": 407,
   "id": "7e06c323",
   "metadata": {
    "execution": {
     "iopub.execute_input": "2023-11-16T15:54:16.434134Z",
     "iopub.status.busy": "2023-11-16T15:54:16.433302Z",
     "iopub.status.idle": "2023-11-16T15:54:16.439892Z",
     "shell.execute_reply": "2023-11-16T15:54:16.438998Z"
    },
    "papermill": {
     "duration": 0.171757,
     "end_time": "2023-11-16T15:54:16.441907",
     "exception": false,
     "start_time": "2023-11-16T15:54:16.270150",
     "status": "completed"
    },
    "tags": []
   },
   "outputs": [
    {
     "data": {
      "text/plain": [
       "array(['abhi', 'joy'], dtype=object)"
      ]
     },
     "execution_count": 407,
     "metadata": {},
     "output_type": "execute_result"
    }
   ],
   "source": [
    "af[\"names\"].unique()"
   ]
  },
  {
   "cell_type": "code",
   "execution_count": 408,
   "id": "e26a181f",
   "metadata": {
    "execution": {
     "iopub.execute_input": "2023-11-16T15:54:16.764595Z",
     "iopub.status.busy": "2023-11-16T15:54:16.764200Z",
     "iopub.status.idle": "2023-11-16T15:54:16.770679Z",
     "shell.execute_reply": "2023-11-16T15:54:16.769790Z"
    },
    "papermill": {
     "duration": 0.172017,
     "end_time": "2023-11-16T15:54:16.772601",
     "exception": false,
     "start_time": "2023-11-16T15:54:16.600584",
     "status": "completed"
    },
    "tags": []
   },
   "outputs": [
    {
     "data": {
      "text/plain": [
       "2"
      ]
     },
     "execution_count": 408,
     "metadata": {},
     "output_type": "execute_result"
    }
   ],
   "source": [
    "af[\"names\"].nunique()"
   ]
  },
  {
   "cell_type": "code",
   "execution_count": 409,
   "id": "f86e21e5",
   "metadata": {
    "execution": {
     "iopub.execute_input": "2023-11-16T15:54:17.098916Z",
     "iopub.status.busy": "2023-11-16T15:54:17.098554Z",
     "iopub.status.idle": "2023-11-16T15:54:17.108465Z",
     "shell.execute_reply": "2023-11-16T15:54:17.107550Z"
    },
    "papermill": {
     "duration": 0.175188,
     "end_time": "2023-11-16T15:54:17.110257",
     "exception": false,
     "start_time": "2023-11-16T15:54:16.935069",
     "status": "completed"
    },
    "tags": []
   },
   "outputs": [
    {
     "data": {
      "text/html": [
       "<div>\n",
       "<style scoped>\n",
       "    .dataframe tbody tr th:only-of-type {\n",
       "        vertical-align: middle;\n",
       "    }\n",
       "\n",
       "    .dataframe tbody tr th {\n",
       "        vertical-align: top;\n",
       "    }\n",
       "\n",
       "    .dataframe thead th {\n",
       "        text-align: right;\n",
       "    }\n",
       "</style>\n",
       "<table border=\"1\" class=\"dataframe\">\n",
       "  <thead>\n",
       "    <tr style=\"text-align: right;\">\n",
       "      <th></th>\n",
       "      <th>sno</th>\n",
       "      <th>names</th>\n",
       "      <th>marks</th>\n",
       "    </tr>\n",
       "  </thead>\n",
       "  <tbody>\n",
       "    <tr>\n",
       "      <th>0</th>\n",
       "      <td>1</td>\n",
       "      <td>abhi</td>\n",
       "      <td>10.0</td>\n",
       "    </tr>\n",
       "    <tr>\n",
       "      <th>1</th>\n",
       "      <td>1</td>\n",
       "      <td>abhi</td>\n",
       "      <td>10.0</td>\n",
       "    </tr>\n",
       "    <tr>\n",
       "      <th>2</th>\n",
       "      <td>3</td>\n",
       "      <td>joy</td>\n",
       "      <td>NaN</td>\n",
       "    </tr>\n",
       "  </tbody>\n",
       "</table>\n",
       "</div>"
      ],
      "text/plain": [
       "   sno names  marks\n",
       "0    1  abhi   10.0\n",
       "1    1  abhi   10.0\n",
       "2    3   joy    NaN"
      ]
     },
     "execution_count": 409,
     "metadata": {},
     "output_type": "execute_result"
    }
   ],
   "source": [
    "af"
   ]
  },
  {
   "cell_type": "code",
   "execution_count": 410,
   "id": "d1798399",
   "metadata": {
    "execution": {
     "iopub.execute_input": "2023-11-16T15:54:17.440608Z",
     "iopub.status.busy": "2023-11-16T15:54:17.439679Z",
     "iopub.status.idle": "2023-11-16T15:54:17.451567Z",
     "shell.execute_reply": "2023-11-16T15:54:17.450553Z"
    },
    "papermill": {
     "duration": 0.18173,
     "end_time": "2023-11-16T15:54:17.453680",
     "exception": false,
     "start_time": "2023-11-16T15:54:17.271950",
     "status": "completed"
    },
    "tags": []
   },
   "outputs": [
    {
     "data": {
      "text/html": [
       "<div>\n",
       "<style scoped>\n",
       "    .dataframe tbody tr th:only-of-type {\n",
       "        vertical-align: middle;\n",
       "    }\n",
       "\n",
       "    .dataframe tbody tr th {\n",
       "        vertical-align: top;\n",
       "    }\n",
       "\n",
       "    .dataframe thead th {\n",
       "        text-align: right;\n",
       "    }\n",
       "</style>\n",
       "<table border=\"1\" class=\"dataframe\">\n",
       "  <thead>\n",
       "    <tr style=\"text-align: right;\">\n",
       "      <th></th>\n",
       "      <th>sno</th>\n",
       "      <th>names</th>\n",
       "      <th>marks</th>\n",
       "    </tr>\n",
       "  </thead>\n",
       "  <tbody>\n",
       "    <tr>\n",
       "      <th>0</th>\n",
       "      <td>1</td>\n",
       "      <td>abhi</td>\n",
       "      <td>10.0</td>\n",
       "    </tr>\n",
       "    <tr>\n",
       "      <th>2</th>\n",
       "      <td>3</td>\n",
       "      <td>joy</td>\n",
       "      <td>NaN</td>\n",
       "    </tr>\n",
       "  </tbody>\n",
       "</table>\n",
       "</div>"
      ],
      "text/plain": [
       "   sno names  marks\n",
       "0    1  abhi   10.0\n",
       "2    3   joy    NaN"
      ]
     },
     "execution_count": 410,
     "metadata": {},
     "output_type": "execute_result"
    }
   ],
   "source": [
    "af.drop_duplicates()"
   ]
  },
  {
   "cell_type": "code",
   "execution_count": 411,
   "id": "52ea3b1b",
   "metadata": {
    "execution": {
     "iopub.execute_input": "2023-11-16T15:54:17.819577Z",
     "iopub.status.busy": "2023-11-16T15:54:17.818978Z",
     "iopub.status.idle": "2023-11-16T15:54:17.828986Z",
     "shell.execute_reply": "2023-11-16T15:54:17.828112Z"
    },
    "papermill": {
     "duration": 0.218582,
     "end_time": "2023-11-16T15:54:17.830897",
     "exception": false,
     "start_time": "2023-11-16T15:54:17.612315",
     "status": "completed"
    },
    "tags": []
   },
   "outputs": [
    {
     "data": {
      "text/html": [
       "<div>\n",
       "<style scoped>\n",
       "    .dataframe tbody tr th:only-of-type {\n",
       "        vertical-align: middle;\n",
       "    }\n",
       "\n",
       "    .dataframe tbody tr th {\n",
       "        vertical-align: top;\n",
       "    }\n",
       "\n",
       "    .dataframe thead th {\n",
       "        text-align: right;\n",
       "    }\n",
       "</style>\n",
       "<table border=\"1\" class=\"dataframe\">\n",
       "  <thead>\n",
       "    <tr style=\"text-align: right;\">\n",
       "      <th></th>\n",
       "      <th>sno</th>\n",
       "      <th>names</th>\n",
       "      <th>marks</th>\n",
       "    </tr>\n",
       "  </thead>\n",
       "  <tbody>\n",
       "    <tr>\n",
       "      <th>0</th>\n",
       "      <td>1</td>\n",
       "      <td>abhi</td>\n",
       "      <td>10.0</td>\n",
       "    </tr>\n",
       "    <tr>\n",
       "      <th>1</th>\n",
       "      <td>1</td>\n",
       "      <td>abhi</td>\n",
       "      <td>10.0</td>\n",
       "    </tr>\n",
       "    <tr>\n",
       "      <th>2</th>\n",
       "      <td>3</td>\n",
       "      <td>joy</td>\n",
       "      <td>NaN</td>\n",
       "    </tr>\n",
       "  </tbody>\n",
       "</table>\n",
       "</div>"
      ],
      "text/plain": [
       "   sno names  marks\n",
       "0    1  abhi   10.0\n",
       "1    1  abhi   10.0\n",
       "2    3   joy    NaN"
      ]
     },
     "execution_count": 411,
     "metadata": {},
     "output_type": "execute_result"
    }
   ],
   "source": [
    "af"
   ]
  },
  {
   "cell_type": "code",
   "execution_count": 412,
   "id": "5970d9f3",
   "metadata": {
    "execution": {
     "iopub.execute_input": "2023-11-16T15:54:18.153398Z",
     "iopub.status.busy": "2023-11-16T15:54:18.152715Z",
     "iopub.status.idle": "2023-11-16T15:54:18.163503Z",
     "shell.execute_reply": "2023-11-16T15:54:18.162550Z"
    },
    "papermill": {
     "duration": 0.174496,
     "end_time": "2023-11-16T15:54:18.165887",
     "exception": false,
     "start_time": "2023-11-16T15:54:17.991391",
     "status": "completed"
    },
    "tags": []
   },
   "outputs": [
    {
     "data": {
      "text/html": [
       "<div>\n",
       "<style scoped>\n",
       "    .dataframe tbody tr th:only-of-type {\n",
       "        vertical-align: middle;\n",
       "    }\n",
       "\n",
       "    .dataframe tbody tr th {\n",
       "        vertical-align: top;\n",
       "    }\n",
       "\n",
       "    .dataframe thead th {\n",
       "        text-align: right;\n",
       "    }\n",
       "</style>\n",
       "<table border=\"1\" class=\"dataframe\">\n",
       "  <thead>\n",
       "    <tr style=\"text-align: right;\">\n",
       "      <th></th>\n",
       "      <th>sno</th>\n",
       "      <th>names</th>\n",
       "      <th>marks</th>\n",
       "    </tr>\n",
       "  </thead>\n",
       "  <tbody>\n",
       "    <tr>\n",
       "      <th>0</th>\n",
       "      <td>1</td>\n",
       "      <td>abhi</td>\n",
       "      <td>10.0</td>\n",
       "    </tr>\n",
       "    <tr>\n",
       "      <th>2</th>\n",
       "      <td>3</td>\n",
       "      <td>joy</td>\n",
       "      <td>NaN</td>\n",
       "    </tr>\n",
       "  </tbody>\n",
       "</table>\n",
       "</div>"
      ],
      "text/plain": [
       "   sno names  marks\n",
       "0    1  abhi   10.0\n",
       "2    3   joy    NaN"
      ]
     },
     "execution_count": 412,
     "metadata": {},
     "output_type": "execute_result"
    }
   ],
   "source": [
    "af.drop_duplicates(inplace = True)\n",
    "af"
   ]
  },
  {
   "cell_type": "code",
   "execution_count": 413,
   "id": "23c3ccfe",
   "metadata": {
    "execution": {
     "iopub.execute_input": "2023-11-16T15:54:18.493677Z",
     "iopub.status.busy": "2023-11-16T15:54:18.493080Z",
     "iopub.status.idle": "2023-11-16T15:54:18.498760Z",
     "shell.execute_reply": "2023-11-16T15:54:18.497923Z"
    },
    "papermill": {
     "duration": 0.166003,
     "end_time": "2023-11-16T15:54:18.500802",
     "exception": false,
     "start_time": "2023-11-16T15:54:18.334799",
     "status": "completed"
    },
    "tags": []
   },
   "outputs": [],
   "source": [
    "af = pd.DataFrame({ \"sno\"  :    [1,1,3],\n",
    "                   \"names\"  : [\"abhi\",\"abhi\",\"joy\"],\n",
    "                   \"marks\" : [10,10,20]\n",
    "    \n",
    "                \n",
    "                   })\n",
    "\n",
    "\n"
   ]
  },
  {
   "cell_type": "code",
   "execution_count": 414,
   "id": "38c32148",
   "metadata": {
    "execution": {
     "iopub.execute_input": "2023-11-16T15:54:18.854593Z",
     "iopub.status.busy": "2023-11-16T15:54:18.853812Z",
     "iopub.status.idle": "2023-11-16T15:54:18.865150Z",
     "shell.execute_reply": "2023-11-16T15:54:18.864265Z"
    },
    "papermill": {
     "duration": 0.189005,
     "end_time": "2023-11-16T15:54:18.870000",
     "exception": false,
     "start_time": "2023-11-16T15:54:18.680995",
     "status": "completed"
    },
    "tags": []
   },
   "outputs": [
    {
     "name": "stdout",
     "output_type": "stream",
     "text": [
      "<class 'pandas.core.frame.DataFrame'>\n",
      "RangeIndex: 3 entries, 0 to 2\n",
      "Data columns (total 3 columns):\n",
      " #   Column  Non-Null Count  Dtype \n",
      "---  ------  --------------  ----- \n",
      " 0   sno     3 non-null      int64 \n",
      " 1   names   3 non-null      object\n",
      " 2   marks   3 non-null      int64 \n",
      "dtypes: int64(2), object(1)\n",
      "memory usage: 200.0+ bytes\n"
     ]
    }
   ],
   "source": [
    "af.info()"
   ]
  },
  {
   "cell_type": "code",
   "execution_count": 415,
   "id": "aea9b38d",
   "metadata": {
    "execution": {
     "iopub.execute_input": "2023-11-16T15:54:19.209276Z",
     "iopub.status.busy": "2023-11-16T15:54:19.208376Z",
     "iopub.status.idle": "2023-11-16T15:54:19.222029Z",
     "shell.execute_reply": "2023-11-16T15:54:19.221168Z"
    },
    "papermill": {
     "duration": 0.177741,
     "end_time": "2023-11-16T15:54:19.224834",
     "exception": false,
     "start_time": "2023-11-16T15:54:19.047093",
     "status": "completed"
    },
    "tags": []
   },
   "outputs": [
    {
     "name": "stdout",
     "output_type": "stream",
     "text": [
      "<class 'pandas.core.frame.DataFrame'>\n",
      "RangeIndex: 3 entries, 0 to 2\n",
      "Data columns (total 3 columns):\n",
      " #   Column  Non-Null Count  Dtype  \n",
      "---  ------  --------------  -----  \n",
      " 0   sno     3 non-null      float64\n",
      " 1   names   3 non-null      object \n",
      " 2   marks   3 non-null      int64  \n",
      "dtypes: float64(1), int64(1), object(1)\n",
      "memory usage: 200.0+ bytes\n"
     ]
    }
   ],
   "source": [
    "af[\"sno\"] = af[\"sno\"].astype(\"float\")\n",
    "af.info()"
   ]
  },
  {
   "cell_type": "code",
   "execution_count": 416,
   "id": "9b65b96a",
   "metadata": {
    "execution": {
     "iopub.execute_input": "2023-11-16T15:54:19.567433Z",
     "iopub.status.busy": "2023-11-16T15:54:19.566420Z",
     "iopub.status.idle": "2023-11-16T15:54:19.581239Z",
     "shell.execute_reply": "2023-11-16T15:54:19.580225Z"
    },
    "papermill": {
     "duration": 0.183531,
     "end_time": "2023-11-16T15:54:19.583220",
     "exception": false,
     "start_time": "2023-11-16T15:54:19.399689",
     "status": "completed"
    },
    "tags": []
   },
   "outputs": [
    {
     "name": "stdout",
     "output_type": "stream",
     "text": [
      "<class 'pandas.core.frame.DataFrame'>\n",
      "RangeIndex: 3 entries, 0 to 2\n",
      "Data columns (total 3 columns):\n",
      " #   Column  Non-Null Count  Dtype  \n",
      "---  ------  --------------  -----  \n",
      " 0   sno     3 non-null      float64\n",
      " 1   names   3 non-null      object \n",
      " 2   marks   3 non-null      int64  \n",
      "dtypes: float64(1), int64(1), object(1)\n",
      "memory usage: 200.0+ bytes\n"
     ]
    }
   ],
   "source": [
    "af = af.astype({\"sno\":\"float\",\"marks\" : \"int\" })\n",
    "af.info()"
   ]
  },
  {
   "cell_type": "code",
   "execution_count": 417,
   "id": "30d19316",
   "metadata": {
    "execution": {
     "iopub.execute_input": "2023-11-16T15:54:19.908467Z",
     "iopub.status.busy": "2023-11-16T15:54:19.908139Z",
     "iopub.status.idle": "2023-11-16T15:54:19.919884Z",
     "shell.execute_reply": "2023-11-16T15:54:19.918988Z"
    },
    "papermill": {
     "duration": 0.173545,
     "end_time": "2023-11-16T15:54:19.921999",
     "exception": false,
     "start_time": "2023-11-16T15:54:19.748454",
     "status": "completed"
    },
    "tags": []
   },
   "outputs": [
    {
     "data": {
      "text/html": [
       "<div>\n",
       "<style scoped>\n",
       "    .dataframe tbody tr th:only-of-type {\n",
       "        vertical-align: middle;\n",
       "    }\n",
       "\n",
       "    .dataframe tbody tr th {\n",
       "        vertical-align: top;\n",
       "    }\n",
       "\n",
       "    .dataframe thead th {\n",
       "        text-align: right;\n",
       "    }\n",
       "</style>\n",
       "<table border=\"1\" class=\"dataframe\">\n",
       "  <thead>\n",
       "    <tr style=\"text-align: right;\">\n",
       "      <th></th>\n",
       "      <th>sno</th>\n",
       "      <th>names</th>\n",
       "      <th>marks</th>\n",
       "    </tr>\n",
       "  </thead>\n",
       "  <tbody>\n",
       "    <tr>\n",
       "      <th>0</th>\n",
       "      <td>1.0</td>\n",
       "      <td>abhi</td>\n",
       "      <td>-0.577350</td>\n",
       "    </tr>\n",
       "    <tr>\n",
       "      <th>1</th>\n",
       "      <td>1.0</td>\n",
       "      <td>abhi</td>\n",
       "      <td>-0.577350</td>\n",
       "    </tr>\n",
       "    <tr>\n",
       "      <th>2</th>\n",
       "      <td>3.0</td>\n",
       "      <td>joy</td>\n",
       "      <td>1.154701</td>\n",
       "    </tr>\n",
       "  </tbody>\n",
       "</table>\n",
       "</div>"
      ],
      "text/plain": [
       "   sno names     marks\n",
       "0  1.0  abhi -0.577350\n",
       "1  1.0  abhi -0.577350\n",
       "2  3.0   joy  1.154701"
      ]
     },
     "execution_count": 417,
     "metadata": {},
     "output_type": "execute_result"
    }
   ],
   "source": [
    "af[\"marks\" ] = (af[\"marks\"] - af[\"marks\"].mean())/af[\"marks\"].std()\n",
    "af"
   ]
  },
  {
   "cell_type": "code",
   "execution_count": null,
   "id": "d8f82d97",
   "metadata": {
    "papermill": {
     "duration": 0.159133,
     "end_time": "2023-11-16T15:54:20.241755",
     "exception": false,
     "start_time": "2023-11-16T15:54:20.082622",
     "status": "completed"
    },
    "tags": []
   },
   "outputs": [],
   "source": [
    "\n"
   ]
  },
  {
   "cell_type": "code",
   "execution_count": 418,
   "id": "2ae4dfe1",
   "metadata": {
    "execution": {
     "iopub.execute_input": "2023-11-16T15:54:20.601720Z",
     "iopub.status.busy": "2023-11-16T15:54:20.601378Z",
     "iopub.status.idle": "2023-11-16T15:54:20.607927Z",
     "shell.execute_reply": "2023-11-16T15:54:20.606924Z"
    },
    "papermill": {
     "duration": 0.166124,
     "end_time": "2023-11-16T15:54:20.609806",
     "exception": false,
     "start_time": "2023-11-16T15:54:20.443682",
     "status": "completed"
    },
    "tags": []
   },
   "outputs": [],
   "source": [
    "import pandas as pd\n",
    "\n",
    "data = {\n",
    "    'Date': ['2023-01-01', '2023-01-01', '2023-01-02', '2023-01-02', '2023-01-01'],\n",
    "    'Region': ['East', 'West', 'East', 'West', 'East'],\n",
    "    'Product': ['Apple', 'Orange', 'Apple', 'Orange', 'Apple'],\n",
    "    'Sales': [100, 150, 200, 120, 180]\n",
    "}\n",
    "\n",
    "df = pd.DataFrame(data)\n"
   ]
  },
  {
   "cell_type": "code",
   "execution_count": 419,
   "id": "c1069177",
   "metadata": {
    "execution": {
     "iopub.execute_input": "2023-11-16T15:54:20.933808Z",
     "iopub.status.busy": "2023-11-16T15:54:20.933424Z",
     "iopub.status.idle": "2023-11-16T15:54:20.956806Z",
     "shell.execute_reply": "2023-11-16T15:54:20.955814Z"
    },
    "papermill": {
     "duration": 0.185702,
     "end_time": "2023-11-16T15:54:20.958667",
     "exception": false,
     "start_time": "2023-11-16T15:54:20.772965",
     "status": "completed"
    },
    "tags": []
   },
   "outputs": [
    {
     "name": "stdout",
     "output_type": "stream",
     "text": [
      "Product  Apple  Orange\n",
      "Region                \n",
      "East     160.0     NaN\n",
      "West       NaN   135.0\n"
     ]
    }
   ],
   "source": [
    "pivot = df.pivot_table(values='Sales', index='Region', columns='Product', aggfunc='mean')\n",
    "print(pivot)\n"
   ]
  },
  {
   "cell_type": "code",
   "execution_count": 420,
   "id": "48882160",
   "metadata": {
    "execution": {
     "iopub.execute_input": "2023-11-16T15:54:21.282887Z",
     "iopub.status.busy": "2023-11-16T15:54:21.282157Z",
     "iopub.status.idle": "2023-11-16T15:54:21.286734Z",
     "shell.execute_reply": "2023-11-16T15:54:21.285850Z"
    },
    "papermill": {
     "duration": 0.168303,
     "end_time": "2023-11-16T15:54:21.288827",
     "exception": false,
     "start_time": "2023-11-16T15:54:21.120524",
     "status": "completed"
    },
    "tags": []
   },
   "outputs": [],
   "source": [
    "# <!-- pivot_table(data, values=None, index=None, columns=None, aggfunc='mean', fill_value=None)\n",
    "# data: The DataFrame to be used.\n",
    "# values: The column to aggregate.\n",
    "# index: Columns to group data by (will become rows in the pivot table).\n",
    "# columns: Columns to group data by (will become columns in the pivot table).\n",
    "# aggfunc: The function used for aggregation (default is 'mean').\n",
    "# fill_value: Replace missing values in the pivot table. -->"
   ]
  },
  {
   "cell_type": "code",
   "execution_count": 421,
   "id": "05957a20",
   "metadata": {
    "execution": {
     "iopub.execute_input": "2023-11-16T15:54:21.610033Z",
     "iopub.status.busy": "2023-11-16T15:54:21.609378Z",
     "iopub.status.idle": "2023-11-16T15:54:21.626177Z",
     "shell.execute_reply": "2023-11-16T15:54:21.624943Z"
    },
    "papermill": {
     "duration": 0.179403,
     "end_time": "2023-11-16T15:54:21.628447",
     "exception": false,
     "start_time": "2023-11-16T15:54:21.449044",
     "status": "completed"
    },
    "tags": []
   },
   "outputs": [
    {
     "name": "stdout",
     "output_type": "stream",
     "text": [
      "Product  Apple  Orange\n",
      "Region                \n",
      "East       480       0\n",
      "West         0     270\n"
     ]
    }
   ],
   "source": [
    "import pandas as pd\n",
    "import numpy as np\n",
    "\n",
    "data = {\n",
    "    'Date': ['2023-01-01', '2023-01-01', '2023-01-02', '2023-01-02', '2023-01-01'],\n",
    "    'Region': ['East', 'West', 'East', 'West', 'East'],\n",
    "    'Product': ['Apple', 'Orange', 'Apple', 'Orange', 'Apple'],\n",
    "    'Sales': [100, 150, 200, 120, 180]\n",
    "}\n",
    "\n",
    "df = pd.DataFrame(data)\n",
    "pivot = df.pivot_table(values='Sales', index='Region', columns='Product', aggfunc=np.sum, fill_value=0)\n",
    "print(pivot)\n"
   ]
  },
  {
   "cell_type": "code",
   "execution_count": 422,
   "id": "d57a85da",
   "metadata": {
    "execution": {
     "iopub.execute_input": "2023-11-16T15:54:21.951165Z",
     "iopub.status.busy": "2023-11-16T15:54:21.950354Z",
     "iopub.status.idle": "2023-11-16T15:54:21.969841Z",
     "shell.execute_reply": "2023-11-16T15:54:21.968753Z"
    },
    "papermill": {
     "duration": 0.180435,
     "end_time": "2023-11-16T15:54:21.971824",
     "exception": false,
     "start_time": "2023-11-16T15:54:21.791389",
     "status": "completed"
    },
    "tags": []
   },
   "outputs": [
    {
     "name": "stdout",
     "output_type": "stream",
     "text": [
      "                  Profit        Sales       \n",
      "Product            Apple Orange Apple Orange\n",
      "Region Date                                 \n",
      "East   2023-01-01     28      0   280      0\n",
      "       2023-01-02     20      0   200      0\n",
      "West   2023-01-01      0     15     0    150\n",
      "       2023-01-02      0     12     0    120\n"
     ]
    }
   ],
   "source": [
    "import numpy as np\n",
    "\n",
    "data = {\n",
    "    'Date': ['2023-01-01', '2023-01-01', '2023-01-02', '2023-01-02', '2023-01-01'],\n",
    "    'Region': ['East', 'West', 'East', 'West', 'East'],\n",
    "    'Product': ['Apple', 'Orange', 'Apple', 'Orange', 'Apple'],\n",
    "    'Sales': [100, 150, 200, 120, 180],\n",
    "    'Profit': [10, 15, 20, 12, 18]\n",
    "}\n",
    "\n",
    "df = pd.DataFrame(data)\n",
    "\n",
    "pivot = df.pivot_table(values=['Sales', 'Profit'], index=['Region', 'Date'], columns='Product', aggfunc=np.sum, fill_value=0)\n",
    "print(pivot)\n"
   ]
  },
  {
   "cell_type": "code",
   "execution_count": 423,
   "id": "958500ad",
   "metadata": {
    "execution": {
     "iopub.execute_input": "2023-11-16T15:54:22.307967Z",
     "iopub.status.busy": "2023-11-16T15:54:22.307481Z",
     "iopub.status.idle": "2023-11-16T15:54:22.317004Z",
     "shell.execute_reply": "2023-11-16T15:54:22.315711Z"
    },
    "papermill": {
     "duration": 0.186349,
     "end_time": "2023-11-16T15:54:22.319915",
     "exception": false,
     "start_time": "2023-11-16T15:54:22.133566",
     "status": "completed"
    },
    "tags": []
   },
   "outputs": [
    {
     "name": "stdout",
     "output_type": "stream",
     "text": [
      "   A  B\n",
      "0  1  3\n",
      "1  2  4\n",
      "0  5  7\n",
      "1  6  8\n"
     ]
    }
   ],
   "source": [
    "# Example 1: Concatenating DataFrames along Rows (axis=0)\n",
    "\n",
    "import pandas as pd\n",
    "\n",
    "# Sample DataFrames\n",
    "data1 = {'A': [1, 2], 'B': [3, 4]}\n",
    "data2 = {'A': [5, 6], 'B': [7, 8]}\n",
    "df1 = pd.DataFrame(data1)\n",
    "df2 = pd.DataFrame(data2)\n",
    "\n",
    "# Concatenating along rows (axis=0)\n",
    "result = pd.concat([df1, df2])\n",
    "print(result)"
   ]
  },
  {
   "cell_type": "code",
   "execution_count": 424,
   "id": "888c106e",
   "metadata": {
    "execution": {
     "iopub.execute_input": "2023-11-16T15:54:22.672230Z",
     "iopub.status.busy": "2023-11-16T15:54:22.671879Z",
     "iopub.status.idle": "2023-11-16T15:54:22.679974Z",
     "shell.execute_reply": "2023-11-16T15:54:22.678919Z"
    },
    "papermill": {
     "duration": 0.182219,
     "end_time": "2023-11-16T15:54:22.682763",
     "exception": false,
     "start_time": "2023-11-16T15:54:22.500544",
     "status": "completed"
    },
    "tags": []
   },
   "outputs": [
    {
     "name": "stdout",
     "output_type": "stream",
     "text": [
      "   A  B  A  B\n",
      "0  1  3  5  7\n",
      "1  2  4  6  8\n"
     ]
    }
   ],
   "source": [
    "# Example 2: Concatenating DataFrames along Columns (axis=1)\n",
    "\n",
    "\n",
    "# Concatenating along columns (axis=1)\n",
    "result = pd.concat([df1, df2], axis=1)\n",
    "print(result)"
   ]
  },
  {
   "cell_type": "code",
   "execution_count": 425,
   "id": "8a7d2339",
   "metadata": {
    "execution": {
     "iopub.execute_input": "2023-11-16T15:54:23.065810Z",
     "iopub.status.busy": "2023-11-16T15:54:23.064978Z",
     "iopub.status.idle": "2023-11-16T15:54:23.072542Z",
     "shell.execute_reply": "2023-11-16T15:54:23.071538Z"
    },
    "papermill": {
     "duration": 0.220496,
     "end_time": "2023-11-16T15:54:23.074553",
     "exception": false,
     "start_time": "2023-11-16T15:54:22.854057",
     "status": "completed"
    },
    "tags": []
   },
   "outputs": [
    {
     "name": "stdout",
     "output_type": "stream",
     "text": [
      "   A  B\n",
      "0  1  3\n",
      "1  2  4\n",
      "2  5  7\n",
      "3  6  8\n"
     ]
    }
   ],
   "source": [
    "# Handling Indexes during Concatenation\n",
    "# By default, concat preserves the original indices. Use ignore_index=True to reset the index.\n",
    "result = pd.concat([df1, df2], ignore_index=True)\n",
    "print(result)\n"
   ]
  },
  {
   "cell_type": "code",
   "execution_count": 426,
   "id": "2ffb2434",
   "metadata": {
    "execution": {
     "iopub.execute_input": "2023-11-16T15:54:23.396632Z",
     "iopub.status.busy": "2023-11-16T15:54:23.396234Z",
     "iopub.status.idle": "2023-11-16T15:54:23.404515Z",
     "shell.execute_reply": "2023-11-16T15:54:23.403476Z"
    },
    "papermill": {
     "duration": 0.174601,
     "end_time": "2023-11-16T15:54:23.407588",
     "exception": false,
     "start_time": "2023-11-16T15:54:23.232987",
     "status": "completed"
    },
    "tags": []
   },
   "outputs": [
    {
     "name": "stdout",
     "output_type": "stream",
     "text": [
      "   A  B   C\n",
      "0  1  3   9\n",
      "1  2  4  10\n"
     ]
    }
   ],
   "source": [
    "# Concatenating DataFrames with Different Columns\n",
    "# Concatenating DataFrames with differing columns will result in NaN values where the columns don't match.\n",
    "data3 = {'C': [9, 10]}\n",
    "df3 = pd.DataFrame(data3)\n",
    "\n",
    "result = pd.concat([df1, df3], axis=1)\n",
    "print(result)\n"
   ]
  },
  {
   "cell_type": "code",
   "execution_count": 427,
   "id": "f0beb4e8",
   "metadata": {
    "execution": {
     "iopub.execute_input": "2023-11-16T15:54:23.762054Z",
     "iopub.status.busy": "2023-11-16T15:54:23.761721Z",
     "iopub.status.idle": "2023-11-16T15:54:23.769415Z",
     "shell.execute_reply": "2023-11-16T15:54:23.768540Z"
    },
    "papermill": {
     "duration": 0.171133,
     "end_time": "2023-11-16T15:54:23.771900",
     "exception": false,
     "start_time": "2023-11-16T15:54:23.600767",
     "status": "completed"
    },
    "tags": []
   },
   "outputs": [
    {
     "name": "stdout",
     "output_type": "stream",
     "text": [
      "       A  B\n",
      "df1 0  1  3\n",
      "    1  2  4\n",
      "df2 0  5  7\n",
      "    1  6  8\n"
     ]
    }
   ],
   "source": [
    "# Concatenating Along Columns with Keys (Multi-level Index)\n",
    "# Using keys parameter to create a hierarchical index:\n",
    "result = pd.concat([df1, df2], keys=['df1', 'df2'])\n",
    "print(result)\n"
   ]
  },
  {
   "cell_type": "code",
   "execution_count": 428,
   "id": "27d8241e",
   "metadata": {
    "execution": {
     "iopub.execute_input": "2023-11-16T15:54:24.110680Z",
     "iopub.status.busy": "2023-11-16T15:54:24.110330Z",
     "iopub.status.idle": "2023-11-16T15:54:24.125474Z",
     "shell.execute_reply": "2023-11-16T15:54:24.124542Z"
    },
    "papermill": {
     "duration": 0.179127,
     "end_time": "2023-11-16T15:54:24.128234",
     "exception": false,
     "start_time": "2023-11-16T15:54:23.949107",
     "status": "completed"
    },
    "tags": []
   },
   "outputs": [
    {
     "name": "stdout",
     "output_type": "stream",
     "text": [
      "   ID   Name  Age\n",
      "0   1  Alice   25\n",
      "1   2    Bob   30\n"
     ]
    }
   ],
   "source": [
    "# Pandas provides the merge function to combine DataFrames based on one or more keys. \n",
    "# Here are various examples demonstrating different types of merges:\n",
    "\n",
    "# Inner Join\n",
    "# Performing an inner join on a common column between two DataFrames:\n",
    "\n",
    "import pandas as pd\n",
    "\n",
    "# Sample DataFrames\n",
    "data1 = {'ID': [1, 2, 3], 'Name': ['Alice', 'Bob', 'Charlie']}\n",
    "data2 = {'ID': [1, 2, 4], 'Age': [25, 30, 28]}\n",
    "df1 = pd.DataFrame(data1)\n",
    "df2 = pd.DataFrame(data2)\n",
    "\n",
    "# Inner join based on 'ID'\n",
    "result_inner = pd.merge(df1, df2, on='ID', how='inner')\n",
    "print(result_inner)\n"
   ]
  },
  {
   "cell_type": "code",
   "execution_count": 429,
   "id": "4fe2e287",
   "metadata": {
    "execution": {
     "iopub.execute_input": "2023-11-16T15:54:24.467808Z",
     "iopub.status.busy": "2023-11-16T15:54:24.466753Z",
     "iopub.status.idle": "2023-11-16T15:54:24.478271Z",
     "shell.execute_reply": "2023-11-16T15:54:24.477147Z"
    },
    "papermill": {
     "duration": 0.175362,
     "end_time": "2023-11-16T15:54:24.480439",
     "exception": false,
     "start_time": "2023-11-16T15:54:24.305077",
     "status": "completed"
    },
    "tags": []
   },
   "outputs": [
    {
     "name": "stdout",
     "output_type": "stream",
     "text": [
      "   ID     Name   Age\n",
      "0   1    Alice  25.0\n",
      "1   2      Bob  30.0\n",
      "2   3  Charlie   NaN\n"
     ]
    }
   ],
   "source": [
    "#  Left Join\n",
    "# Performing a left join:\n",
    "    # Left join based on 'ID'\n",
    "result_left = pd.merge(df1, df2, on='ID', how='left')\n",
    "print(result_left)\n"
   ]
  },
  {
   "cell_type": "code",
   "execution_count": 430,
   "id": "722d6c82",
   "metadata": {
    "execution": {
     "iopub.execute_input": "2023-11-16T15:54:24.813551Z",
     "iopub.status.busy": "2023-11-16T15:54:24.812863Z",
     "iopub.status.idle": "2023-11-16T15:54:24.823325Z",
     "shell.execute_reply": "2023-11-16T15:54:24.822013Z"
    },
    "papermill": {
     "duration": 0.176807,
     "end_time": "2023-11-16T15:54:24.825648",
     "exception": false,
     "start_time": "2023-11-16T15:54:24.648841",
     "status": "completed"
    },
    "tags": []
   },
   "outputs": [
    {
     "name": "stdout",
     "output_type": "stream",
     "text": [
      "   ID   Name  Age\n",
      "0   1  Alice   25\n",
      "1   2    Bob   30\n",
      "2   4    NaN   28\n"
     ]
    }
   ],
   "source": [
    "# Right Join\n",
    "# Performing a right join:\n",
    "    # Right join based on 'ID'\n",
    "result_right = pd.merge(df1, df2, on='ID', how='right')\n",
    "print(result_right)\n",
    "\n"
   ]
  },
  {
   "cell_type": "code",
   "execution_count": 431,
   "id": "00966ded",
   "metadata": {
    "execution": {
     "iopub.execute_input": "2023-11-16T15:54:25.157172Z",
     "iopub.status.busy": "2023-11-16T15:54:25.156390Z",
     "iopub.status.idle": "2023-11-16T15:54:25.166656Z",
     "shell.execute_reply": "2023-11-16T15:54:25.165517Z"
    },
    "papermill": {
     "duration": 0.176347,
     "end_time": "2023-11-16T15:54:25.168677",
     "exception": false,
     "start_time": "2023-11-16T15:54:24.992330",
     "status": "completed"
    },
    "tags": []
   },
   "outputs": [
    {
     "name": "stdout",
     "output_type": "stream",
     "text": [
      "   ID     Name   Age\n",
      "0   1    Alice  25.0\n",
      "1   2      Bob  30.0\n",
      "2   3  Charlie   NaN\n",
      "3   4      NaN  28.0\n"
     ]
    }
   ],
   "source": [
    "# Outer Join\n",
    "# Performing an outer join:\n",
    "    # Outer join based on 'ID'\n",
    "result_outer = pd.merge(df1, df2, on='ID', how='outer')\n",
    "print(result_outer)\n"
   ]
  },
  {
   "cell_type": "code",
   "execution_count": 432,
   "id": "69e82f75",
   "metadata": {
    "execution": {
     "iopub.execute_input": "2023-11-16T15:54:25.493594Z",
     "iopub.status.busy": "2023-11-16T15:54:25.493254Z",
     "iopub.status.idle": "2023-11-16T15:54:25.507798Z",
     "shell.execute_reply": "2023-11-16T15:54:25.506755Z"
    },
    "papermill": {
     "duration": 0.174854,
     "end_time": "2023-11-16T15:54:25.509854",
     "exception": false,
     "start_time": "2023-11-16T15:54:25.335000",
     "status": "completed"
    },
    "tags": []
   },
   "outputs": [
    {
     "name": "stdout",
     "output_type": "stream",
     "text": [
      "   ID           City  Population\n",
      "0   1       New York   8000000.0\n",
      "1   2  San Francisco    900000.0\n",
      "2   3        Seattle         NaN\n",
      "3   4          Miami    500000.0\n"
     ]
    }
   ],
   "source": [
    "# Merging on Multiple Columns\n",
    "# Merging based on multiple columns:\n",
    "# Sample DataFrames\n",
    "data1 = {'ID': [1, 2, 3], 'City': ['New York', 'San Francisco', 'Seattle']}\n",
    "data2 = {'ID': [1, 2, 4], 'City': ['New York', 'San Francisco', 'Miami'], 'Population': [8000000, 900000, 500000]}\n",
    "df1 = pd.DataFrame(data1)\n",
    "df2 = pd.DataFrame(data2)\n",
    "\n",
    "# Merging on multiple columns 'ID' and 'City'\n",
    "result_multi_col = pd.merge(df1, df2, on=['ID', 'City'], how='outer')\n",
    "print(result_multi_col)\n"
   ]
  },
  {
   "cell_type": "code",
   "execution_count": 433,
   "id": "6df62ca5",
   "metadata": {
    "execution": {
     "iopub.execute_input": "2023-11-16T15:54:25.876854Z",
     "iopub.status.busy": "2023-11-16T15:54:25.876418Z",
     "iopub.status.idle": "2023-11-16T15:54:25.880854Z",
     "shell.execute_reply": "2023-11-16T15:54:25.879894Z"
    },
    "papermill": {
     "duration": 0.214368,
     "end_time": "2023-11-16T15:54:25.882972",
     "exception": false,
     "start_time": "2023-11-16T15:54:25.668604",
     "status": "completed"
    },
    "tags": []
   },
   "outputs": [],
   "source": [
    "# stacking refers to reorganizing or reshaping data from a wide format to a long format, \n",
    "# often involving pivoting columns into rows. You can perform stacking using the stack() function. Here are some examples:"
   ]
  },
  {
   "cell_type": "code",
   "execution_count": 434,
   "id": "01d9d90c",
   "metadata": {
    "execution": {
     "iopub.execute_input": "2023-11-16T15:54:26.208955Z",
     "iopub.status.busy": "2023-11-16T15:54:26.208597Z",
     "iopub.status.idle": "2023-11-16T15:54:26.215994Z",
     "shell.execute_reply": "2023-11-16T15:54:26.214894Z"
    },
    "papermill": {
     "duration": 0.172086,
     "end_time": "2023-11-16T15:54:26.218280",
     "exception": false,
     "start_time": "2023-11-16T15:54:26.046194",
     "status": "completed"
    },
    "tags": []
   },
   "outputs": [
    {
     "name": "stdout",
     "output_type": "stream",
     "text": [
      "   A  B\n",
      "0  1  3\n",
      "1  2  4\n"
     ]
    }
   ],
   "source": [
    "# Stacking a Simple DataFrame\n",
    "# Consider a simple DataFrame:\n",
    "import pandas as pd\n",
    "\n",
    "data = {\n",
    "    'A': [1, 2],\n",
    "    'B': [3, 4]\n",
    "}\n",
    "\n",
    "df = pd.DataFrame(data)\n",
    "print(df)\n"
   ]
  },
  {
   "cell_type": "code",
   "execution_count": 435,
   "id": "08693236",
   "metadata": {
    "execution": {
     "iopub.execute_input": "2023-11-16T15:54:26.544962Z",
     "iopub.status.busy": "2023-11-16T15:54:26.544137Z",
     "iopub.status.idle": "2023-11-16T15:54:26.550318Z",
     "shell.execute_reply": "2023-11-16T15:54:26.549520Z"
    },
    "papermill": {
     "duration": 0.170536,
     "end_time": "2023-11-16T15:54:26.552674",
     "exception": false,
     "start_time": "2023-11-16T15:54:26.382138",
     "status": "completed"
    },
    "tags": []
   },
   "outputs": [
    {
     "name": "stdout",
     "output_type": "stream",
     "text": [
      "0  A    1\n",
      "   B    3\n",
      "1  A    2\n",
      "   B    4\n",
      "dtype: int64\n"
     ]
    }
   ],
   "source": [
    "stacked = df.stack()\n",
    "print(stacked)\n"
   ]
  },
  {
   "cell_type": "code",
   "execution_count": 436,
   "id": "0c55ba92",
   "metadata": {
    "execution": {
     "iopub.execute_input": "2023-11-16T15:54:26.885388Z",
     "iopub.status.busy": "2023-11-16T15:54:26.884641Z",
     "iopub.status.idle": "2023-11-16T15:54:26.893809Z",
     "shell.execute_reply": "2023-11-16T15:54:26.892869Z"
    },
    "papermill": {
     "duration": 0.181975,
     "end_time": "2023-11-16T15:54:26.896157",
     "exception": false,
     "start_time": "2023-11-16T15:54:26.714182",
     "status": "completed"
    },
    "tags": []
   },
   "outputs": [
    {
     "name": "stdout",
     "output_type": "stream",
     "text": [
      "              A  B\n",
      "first second      \n",
      "X     1       1  3\n",
      "      2       2  4\n"
     ]
    }
   ],
   "source": [
    "# Stacking a DataFrame with Multi-level Index\n",
    "data = {\n",
    "    'A': [1, 2],\n",
    "    'B': [3, 4]\n",
    "}\n",
    "\n",
    "index = pd.MultiIndex.from_tuples([('X', 1), ('X', 2)], names=['first', 'second'])\n",
    "\n",
    "df = pd.DataFrame(data, index=index)\n",
    "print(df)\n"
   ]
  },
  {
   "cell_type": "code",
   "execution_count": 437,
   "id": "ba567257",
   "metadata": {
    "execution": {
     "iopub.execute_input": "2023-11-16T15:54:27.235439Z",
     "iopub.status.busy": "2023-11-16T15:54:27.235053Z",
     "iopub.status.idle": "2023-11-16T15:54:27.242087Z",
     "shell.execute_reply": "2023-11-16T15:54:27.241009Z"
    },
    "papermill": {
     "duration": 0.173947,
     "end_time": "2023-11-16T15:54:27.244066",
     "exception": false,
     "start_time": "2023-11-16T15:54:27.070119",
     "status": "completed"
    },
    "tags": []
   },
   "outputs": [
    {
     "name": "stdout",
     "output_type": "stream",
     "text": [
      "first  second   \n",
      "X      1       A    1\n",
      "               B    3\n",
      "       2       A    2\n",
      "               B    4\n",
      "dtype: int64\n"
     ]
    }
   ],
   "source": [
    "stacked = df.stack()\n",
    "print(stacked)\n"
   ]
  },
  {
   "cell_type": "code",
   "execution_count": 438,
   "id": "3f4391f3",
   "metadata": {
    "execution": {
     "iopub.execute_input": "2023-11-16T15:54:27.571340Z",
     "iopub.status.busy": "2023-11-16T15:54:27.571028Z",
     "iopub.status.idle": "2023-11-16T15:54:27.576591Z",
     "shell.execute_reply": "2023-11-16T15:54:27.575541Z"
    },
    "papermill": {
     "duration": 0.167788,
     "end_time": "2023-11-16T15:54:27.578458",
     "exception": false,
     "start_time": "2023-11-16T15:54:27.410670",
     "status": "completed"
    },
    "tags": []
   },
   "outputs": [],
   "source": [
    "#  Basic Grouping and Aggregation\n",
    "import pandas as pd\n",
    "\n",
    "# Sample DataFrame\n",
    "data = {\n",
    "    'Category': ['A', 'B', 'A', 'B', 'A'],\n",
    "    'Value': [10, 15, 20, 25, 30]\n",
    "}\n",
    "\n",
    "df = pd.DataFrame(data)\n",
    "\n",
    "\n",
    "\n"
   ]
  },
  {
   "cell_type": "code",
   "execution_count": 439,
   "id": "794002e2",
   "metadata": {
    "execution": {
     "iopub.execute_input": "2023-11-16T15:54:27.910816Z",
     "iopub.status.busy": "2023-11-16T15:54:27.910432Z",
     "iopub.status.idle": "2023-11-16T15:54:27.918827Z",
     "shell.execute_reply": "2023-11-16T15:54:27.917753Z"
    },
    "papermill": {
     "duration": 0.180188,
     "end_time": "2023-11-16T15:54:27.921152",
     "exception": false,
     "start_time": "2023-11-16T15:54:27.740964",
     "status": "completed"
    },
    "tags": []
   },
   "outputs": [
    {
     "name": "stdout",
     "output_type": "stream",
     "text": [
      "          Value\n",
      "Category       \n",
      "A            60\n",
      "B            40\n"
     ]
    }
   ],
   "source": [
    "\n",
    "\n",
    "# Grouping by 'Category' and calculating the sum\n",
    "grouped = df.groupby('Category').sum()\n",
    "print(grouped)"
   ]
  },
  {
   "cell_type": "code",
   "execution_count": 440,
   "id": "78f9a5e3",
   "metadata": {
    "execution": {
     "iopub.execute_input": "2023-11-16T15:54:28.245652Z",
     "iopub.status.busy": "2023-11-16T15:54:28.245240Z",
     "iopub.status.idle": "2023-11-16T15:54:28.256137Z",
     "shell.execute_reply": "2023-11-16T15:54:28.255089Z"
    },
    "papermill": {
     "duration": 0.17664,
     "end_time": "2023-11-16T15:54:28.258937",
     "exception": false,
     "start_time": "2023-11-16T15:54:28.082297",
     "status": "completed"
    },
    "tags": []
   },
   "outputs": [
    {
     "name": "stdout",
     "output_type": "stream",
     "text": [
      "         Value          \n",
      "           sum  mean max\n",
      "Category                \n",
      "A           60  20.0  30\n",
      "B           40  20.0  25\n"
     ]
    }
   ],
   "source": [
    "\n",
    "# Grouping by 'Category' and applying multiple aggregation functions\n",
    "grouped_multi = df.groupby('Category').agg({'Value': ['sum', 'mean', 'max']})\n",
    "print(grouped_multi)"
   ]
  },
  {
   "cell_type": "code",
   "execution_count": 441,
   "id": "f25f7057",
   "metadata": {
    "execution": {
     "iopub.execute_input": "2023-11-16T15:54:28.636238Z",
     "iopub.status.busy": "2023-11-16T15:54:28.635871Z",
     "iopub.status.idle": "2023-11-16T15:54:28.647593Z",
     "shell.execute_reply": "2023-11-16T15:54:28.646566Z"
    },
    "papermill": {
     "duration": 0.17463,
     "end_time": "2023-11-16T15:54:28.650614",
     "exception": false,
     "start_time": "2023-11-16T15:54:28.475984",
     "status": "completed"
    },
    "tags": []
   },
   "outputs": [
    {
     "name": "stdout",
     "output_type": "stream",
     "text": [
      "                      Value\n",
      "Category Subcategory       \n",
      "A        X             20.0\n",
      "B        Y             20.0\n"
     ]
    }
   ],
   "source": [
    "\n",
    "#  Grouping with Multiple Columns\n",
    "\n",
    "# Grouping by multiple columns and calculating the mean\n",
    "data_multi_col = {\n",
    "    'Category': ['A', 'B', 'A', 'B', 'A'],\n",
    "    'Subcategory': ['X', 'Y', 'X', 'Y', 'X'],\n",
    "    'Value': [10, 15, 20, 25, 30]\n",
    "}\n",
    "\n",
    "df_multi_col = pd.DataFrame(data_multi_col)\n",
    "\n",
    "grouped_multi_col = df_multi_col.groupby(['Category', 'Subcategory']).mean()\n",
    "print(grouped_multi_col)"
   ]
  },
  {
   "cell_type": "code",
   "execution_count": 442,
   "id": "31de2418",
   "metadata": {
    "execution": {
     "iopub.execute_input": "2023-11-16T15:54:28.995343Z",
     "iopub.status.busy": "2023-11-16T15:54:28.994982Z",
     "iopub.status.idle": "2023-11-16T15:54:29.003977Z",
     "shell.execute_reply": "2023-11-16T15:54:29.002942Z"
    },
    "papermill": {
     "duration": 0.177731,
     "end_time": "2023-11-16T15:54:29.006350",
     "exception": false,
     "start_time": "2023-11-16T15:54:28.828619",
     "status": "completed"
    },
    "tags": []
   },
   "outputs": [
    {
     "name": "stdout",
     "output_type": "stream",
     "text": [
      "Category\n",
      "A    20\n",
      "B    10\n",
      "dtype: int64\n"
     ]
    }
   ],
   "source": [
    "#  Applying Custom Functions\n",
    "\n",
    "# Applying a custom function during grouping\n",
    "def custom_function(group):\n",
    "    return group['Value'].max() - group['Value'].min()\n",
    "\n",
    "custom_result = df.groupby('Category').apply(custom_function)\n",
    "print(custom_result)"
   ]
  },
  {
   "cell_type": "code",
   "execution_count": 443,
   "id": "a29d6c18",
   "metadata": {
    "execution": {
     "iopub.execute_input": "2023-11-16T15:54:29.329677Z",
     "iopub.status.busy": "2023-11-16T15:54:29.329336Z",
     "iopub.status.idle": "2023-11-16T15:54:29.339793Z",
     "shell.execute_reply": "2023-11-16T15:54:29.338834Z"
    },
    "papermill": {
     "duration": 0.175963,
     "end_time": "2023-11-16T15:54:29.341726",
     "exception": false,
     "start_time": "2023-11-16T15:54:29.165763",
     "status": "completed"
    },
    "tags": []
   },
   "outputs": [
    {
     "name": "stdout",
     "output_type": "stream",
     "text": [
      "0   -1.000000\n",
      "1   -0.707107\n",
      "2    0.000000\n",
      "3    0.707107\n",
      "4    1.000000\n",
      "Name: Value, dtype: float64\n"
     ]
    }
   ],
   "source": [
    "#  Grouping and Transformation\n",
    "\n",
    "# Transforming data based on groups\n",
    "normalized = df.groupby('Category')['Value'].transform(lambda x: (x - x.mean()) / x.std())\n",
    "print(normalized)"
   ]
  },
  {
   "cell_type": "code",
   "execution_count": 444,
   "id": "50ad9166",
   "metadata": {
    "execution": {
     "iopub.execute_input": "2023-11-16T15:54:29.666639Z",
     "iopub.status.busy": "2023-11-16T15:54:29.666205Z",
     "iopub.status.idle": "2023-11-16T15:54:29.676248Z",
     "shell.execute_reply": "2023-11-16T15:54:29.674980Z"
    },
    "papermill": {
     "duration": 0.177361,
     "end_time": "2023-11-16T15:54:29.678248",
     "exception": false,
     "start_time": "2023-11-16T15:54:29.500887",
     "status": "completed"
    },
    "tags": []
   },
   "outputs": [
    {
     "name": "stdout",
     "output_type": "stream",
     "text": [
      "              Values\n",
      "First Second        \n",
      "A     1           10\n",
      "      2           20\n",
      "B     1           30\n",
      "      2           40\n"
     ]
    }
   ],
   "source": [
    "\n",
    "# Creating a DataFrame with Multi-level Index\n",
    "\n",
    "import pandas as pd\n",
    "\n",
    "# Creating a DataFrame with a MultiIndex\n",
    "arrays = [\n",
    "    ['A', 'A', 'B', 'B'],\n",
    "    [1, 2, 1, 2]\n",
    "]\n",
    "\n",
    "index = pd.MultiIndex.from_arrays(arrays, names=('First', 'Second'))\n",
    "\n",
    "data = {'Values': [10, 20, 30, 40]}\n",
    "df = pd.DataFrame(data, index=index)\n",
    "print(df)\n",
    "\n",
    "\n"
   ]
  },
  {
   "cell_type": "code",
   "execution_count": 445,
   "id": "0f41a6c5",
   "metadata": {
    "execution": {
     "iopub.execute_input": "2023-11-16T15:54:30.016287Z",
     "iopub.status.busy": "2023-11-16T15:54:30.015910Z",
     "iopub.status.idle": "2023-11-16T15:54:30.022895Z",
     "shell.execute_reply": "2023-11-16T15:54:30.021881Z"
    },
    "papermill": {
     "duration": 0.173135,
     "end_time": "2023-11-16T15:54:30.024811",
     "exception": false,
     "start_time": "2023-11-16T15:54:29.851676",
     "status": "completed"
    },
    "tags": []
   },
   "outputs": [
    {
     "name": "stdout",
     "output_type": "stream",
     "text": [
      "        Values\n",
      "Second        \n",
      "1           10\n",
      "2           20\n"
     ]
    }
   ],
   "source": [
    "# Accessing Data with MultiIndex\n",
    "# Accessing a specific level of the index:\n",
    "# Accessing data from the first level of the index\n",
    "print(df.loc['A'])\n"
   ]
  },
  {
   "cell_type": "code",
   "execution_count": 446,
   "id": "14514371",
   "metadata": {
    "execution": {
     "iopub.execute_input": "2023-11-16T15:54:30.357939Z",
     "iopub.status.busy": "2023-11-16T15:54:30.357552Z",
     "iopub.status.idle": "2023-11-16T15:54:30.364162Z",
     "shell.execute_reply": "2023-11-16T15:54:30.363255Z"
    },
    "papermill": {
     "duration": 0.18111,
     "end_time": "2023-11-16T15:54:30.366815",
     "exception": false,
     "start_time": "2023-11-16T15:54:30.185705",
     "status": "completed"
    },
    "tags": []
   },
   "outputs": [
    {
     "name": "stdout",
     "output_type": "stream",
     "text": [
      "Values    10\n",
      "Name: (A, 1), dtype: int64\n"
     ]
    }
   ],
   "source": [
    "# Accessing data from a specific index combination\n",
    "print(df.loc[('A', 1)])\n"
   ]
  },
  {
   "cell_type": "code",
   "execution_count": 447,
   "id": "0794de86",
   "metadata": {
    "execution": {
     "iopub.execute_input": "2023-11-16T15:54:30.694143Z",
     "iopub.status.busy": "2023-11-16T15:54:30.693809Z",
     "iopub.status.idle": "2023-11-16T15:54:30.703033Z",
     "shell.execute_reply": "2023-11-16T15:54:30.702168Z"
    },
    "papermill": {
     "duration": 0.17205,
     "end_time": "2023-11-16T15:54:30.705328",
     "exception": false,
     "start_time": "2023-11-16T15:54:30.533278",
     "status": "completed"
    },
    "tags": []
   },
   "outputs": [
    {
     "name": "stdout",
     "output_type": "stream",
     "text": [
      "              Values\n",
      "First Second        \n",
      "X     1           10\n",
      "      2           20\n",
      "Y     1           30\n",
      "      2           40\n"
     ]
    }
   ],
   "source": [
    "# Creating MultiIndex from Cartesian Product\n",
    "# Creating a MultiIndex from Cartesian product of two lists\n",
    "index = pd.MultiIndex.from_product([['X', 'Y'], [1, 2]], names=('First', 'Second'))\n",
    "df_cartesian = pd.DataFrame({'Values': [10, 20, 30, 40]}, index=index)\n",
    "print(df_cartesian)"
   ]
  },
  {
   "cell_type": "code",
   "execution_count": 448,
   "id": "5c3c7997",
   "metadata": {
    "execution": {
     "iopub.execute_input": "2023-11-16T15:54:31.075624Z",
     "iopub.status.busy": "2023-11-16T15:54:31.075183Z",
     "iopub.status.idle": "2023-11-16T15:54:31.084473Z",
     "shell.execute_reply": "2023-11-16T15:54:31.083373Z"
    },
    "papermill": {
     "duration": 0.220626,
     "end_time": "2023-11-16T15:54:31.086873",
     "exception": false,
     "start_time": "2023-11-16T15:54:30.866247",
     "status": "completed"
    },
    "tags": []
   },
   "outputs": [
    {
     "name": "stdout",
     "output_type": "stream",
     "text": [
      "       Values    \n",
      "Second      1   2\n",
      "First            \n",
      "A          10  20\n",
      "B          30  40\n"
     ]
    }
   ],
   "source": [
    "# Using unstack() and stack() to Reshape Data\n",
    "# Unstacking to pivot a level of the index into columns:\n",
    "# Unstacking the DataFrame\n",
    "unstacked = df.unstack()\n",
    "print(unstacked)\n"
   ]
  },
  {
   "cell_type": "code",
   "execution_count": 449,
   "id": "b5042149",
   "metadata": {
    "execution": {
     "iopub.execute_input": "2023-11-16T15:54:31.424029Z",
     "iopub.status.busy": "2023-11-16T15:54:31.423669Z",
     "iopub.status.idle": "2023-11-16T15:54:31.433611Z",
     "shell.execute_reply": "2023-11-16T15:54:31.432694Z"
    },
    "papermill": {
     "duration": 0.180538,
     "end_time": "2023-11-16T15:54:31.436348",
     "exception": false,
     "start_time": "2023-11-16T15:54:31.255810",
     "status": "completed"
    },
    "tags": []
   },
   "outputs": [
    {
     "name": "stdout",
     "output_type": "stream",
     "text": [
      "              Values\n",
      "First Second        \n",
      "A     1           10\n",
      "      2           20\n",
      "B     1           30\n",
      "      2           40\n"
     ]
    }
   ],
   "source": [
    "# Stacking to convert columns back into a MultiIndex:\n",
    "# Stacking the DataFrame\n",
    "stacked = unstacked.stack()\n",
    "print(stacked)\n"
   ]
  },
  {
   "cell_type": "code",
   "execution_count": 450,
   "id": "c1fb272f",
   "metadata": {
    "execution": {
     "iopub.execute_input": "2023-11-16T15:54:31.765597Z",
     "iopub.status.busy": "2023-11-16T15:54:31.764706Z",
     "iopub.status.idle": "2023-11-16T15:54:31.775680Z",
     "shell.execute_reply": "2023-11-16T15:54:31.774684Z"
    },
    "papermill": {
     "duration": 0.176582,
     "end_time": "2023-11-16T15:54:31.778017",
     "exception": false,
     "start_time": "2023-11-16T15:54:31.601435",
     "status": "completed"
    },
    "tags": []
   },
   "outputs": [
    {
     "name": "stdout",
     "output_type": "stream",
     "text": [
      "              Values\n",
      "First Second        \n",
      "A     1           10\n",
      "      2           20\n",
      "B     1           30\n",
      "      2           40\n"
     ]
    }
   ],
   "source": [
    "# Creating MultiIndex from DataFrame columns\n",
    "# Creating a MultiIndex from DataFrame columns\n",
    "data = {\n",
    "    'First': ['A', 'A', 'B', 'B'],\n",
    "    'Second': [1, 2, 1, 2],\n",
    "    'Values': [10, 20, 30, 40]\n",
    "}\n",
    "\n",
    "df_from_columns = pd.DataFrame(data)\n",
    "df_from_columns.set_index(['First', 'Second'], inplace=True)\n",
    "print(df_from_columns)\n"
   ]
  },
  {
   "cell_type": "code",
   "execution_count": 451,
   "id": "66a1404f",
   "metadata": {
    "execution": {
     "iopub.execute_input": "2023-11-16T15:54:32.103352Z",
     "iopub.status.busy": "2023-11-16T15:54:32.102979Z",
     "iopub.status.idle": "2023-11-16T15:54:32.107180Z",
     "shell.execute_reply": "2023-11-16T15:54:32.106260Z"
    },
    "papermill": {
     "duration": 0.169685,
     "end_time": "2023-11-16T15:54:32.109219",
     "exception": false,
     "start_time": "2023-11-16T15:54:31.939534",
     "status": "completed"
    },
    "tags": []
   },
   "outputs": [],
   "source": [
    "\n",
    "# date time functions\n",
    "\n"
   ]
  },
  {
   "cell_type": "code",
   "execution_count": null,
   "id": "34e8df48",
   "metadata": {
    "papermill": {
     "duration": 0.177905,
     "end_time": "2023-11-16T15:54:32.452739",
     "exception": false,
     "start_time": "2023-11-16T15:54:32.274834",
     "status": "completed"
    },
    "tags": []
   },
   "outputs": [],
   "source": []
  },
  {
   "cell_type": "code",
   "execution_count": null,
   "id": "a48b2bdd",
   "metadata": {
    "papermill": {
     "duration": 0.163768,
     "end_time": "2023-11-16T15:54:32.779324",
     "exception": false,
     "start_time": "2023-11-16T15:54:32.615556",
     "status": "completed"
    },
    "tags": []
   },
   "outputs": [],
   "source": []
  },
  {
   "cell_type": "code",
   "execution_count": null,
   "id": "5cb658d0",
   "metadata": {
    "papermill": {
     "duration": 0.164307,
     "end_time": "2023-11-16T15:54:33.107606",
     "exception": false,
     "start_time": "2023-11-16T15:54:32.943299",
     "status": "completed"
    },
    "tags": []
   },
   "outputs": [],
   "source": []
  },
  {
   "cell_type": "code",
   "execution_count": null,
   "id": "649859af",
   "metadata": {
    "papermill": {
     "duration": 0.163608,
     "end_time": "2023-11-16T15:54:33.430894",
     "exception": false,
     "start_time": "2023-11-16T15:54:33.267286",
     "status": "completed"
    },
    "tags": []
   },
   "outputs": [],
   "source": []
  },
  {
   "cell_type": "code",
   "execution_count": null,
   "id": "9da8b99e",
   "metadata": {
    "papermill": {
     "duration": 0.207255,
     "end_time": "2023-11-16T15:54:33.802685",
     "exception": false,
     "start_time": "2023-11-16T15:54:33.595430",
     "status": "completed"
    },
    "tags": []
   },
   "outputs": [],
   "source": []
  },
  {
   "cell_type": "code",
   "execution_count": null,
   "id": "d615b4a3",
   "metadata": {
    "papermill": {
     "duration": 0.164127,
     "end_time": "2023-11-16T15:54:34.133879",
     "exception": false,
     "start_time": "2023-11-16T15:54:33.969752",
     "status": "completed"
    },
    "tags": []
   },
   "outputs": [],
   "source": []
  },
  {
   "cell_type": "code",
   "execution_count": null,
   "id": "756fe299",
   "metadata": {
    "papermill": {
     "duration": 0.162097,
     "end_time": "2023-11-16T15:54:34.459526",
     "exception": false,
     "start_time": "2023-11-16T15:54:34.297429",
     "status": "completed"
    },
    "tags": []
   },
   "outputs": [],
   "source": []
  },
  {
   "cell_type": "code",
   "execution_count": null,
   "id": "cf7961c2",
   "metadata": {
    "papermill": {
     "duration": 0.167658,
     "end_time": "2023-11-16T15:54:34.786912",
     "exception": false,
     "start_time": "2023-11-16T15:54:34.619254",
     "status": "completed"
    },
    "tags": []
   },
   "outputs": [],
   "source": []
  },
  {
   "cell_type": "code",
   "execution_count": null,
   "id": "ec745ed6",
   "metadata": {
    "papermill": {
     "duration": 0.162927,
     "end_time": "2023-11-16T15:54:35.113944",
     "exception": false,
     "start_time": "2023-11-16T15:54:34.951017",
     "status": "completed"
    },
    "tags": []
   },
   "outputs": [],
   "source": []
  },
  {
   "cell_type": "code",
   "execution_count": null,
   "id": "5a16793e",
   "metadata": {
    "papermill": {
     "duration": 0.163047,
     "end_time": "2023-11-16T15:54:35.449938",
     "exception": false,
     "start_time": "2023-11-16T15:54:35.286891",
     "status": "completed"
    },
    "tags": []
   },
   "outputs": [],
   "source": []
  }
 ],
 "metadata": {
  "kaggle": {
   "accelerator": "nvidiaTeslaT4",
   "dataSources": [
    {
     "datasetId": 3436702,
     "sourceId": 5998998,
     "sourceType": "datasetVersion"
    }
   ],
   "dockerImageVersionId": 30558,
   "isGpuEnabled": true,
   "isInternetEnabled": true,
   "language": "python",
   "sourceType": "notebook"
  },
  "kernelspec": {
   "display_name": "Python 3",
   "language": "python",
   "name": "python3"
  },
  "language_info": {
   "codemirror_mode": {
    "name": "ipython",
    "version": 3
   },
   "file_extension": ".py",
   "mimetype": "text/x-python",
   "name": "python",
   "nbconvert_exporter": "python",
   "pygments_lexer": "ipython3",
   "version": "3.10.12"
  },
  "papermill": {
   "default_parameters": {},
   "duration": 159.553211,
   "end_time": "2023-11-16T15:54:35.927984",
   "environment_variables": {},
   "exception": null,
   "input_path": "__notebook__.ipynb",
   "output_path": "__notebook__.ipynb",
   "parameters": {},
   "start_time": "2023-11-16T15:51:56.374773",
   "version": "2.4.0"
  }
 },
 "nbformat": 4,
 "nbformat_minor": 5
}
