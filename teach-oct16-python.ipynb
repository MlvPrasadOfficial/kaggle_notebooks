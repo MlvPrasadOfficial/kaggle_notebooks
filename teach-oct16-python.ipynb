{
 "cells": [
  {
   "cell_type": "code",
   "execution_count": 1,
   "id": "027a1d7a",
   "metadata": {
    "_cell_guid": "b1076dfc-b9ad-4769-8c92-a6c4dae69d19",
    "_uuid": "8f2839f25d086af736a60e9eeb907d3b93b6e0e5",
    "execution": {
     "iopub.execute_input": "2023-10-17T17:49:24.607879Z",
     "iopub.status.busy": "2023-10-17T17:49:24.607455Z",
     "iopub.status.idle": "2023-10-17T17:49:24.617288Z",
     "shell.execute_reply": "2023-10-17T17:49:24.616418Z"
    },
    "papermill": {
     "duration": 0.0203,
     "end_time": "2023-10-17T17:49:24.619287",
     "exception": false,
     "start_time": "2023-10-17T17:49:24.598987",
     "status": "completed"
    },
    "tags": []
   },
   "outputs": [
    {
     "name": "stdout",
     "output_type": "stream",
     "text": [
      "6\n",
      "---\n",
      "6\n"
     ]
    }
   ],
   "source": [
    "a = 6\n",
    "print(a)\n",
    "print(\"---\")\n",
    "# a = \n",
    "print(a)"
   ]
  },
  {
   "cell_type": "code",
   "execution_count": 2,
   "id": "2e60660f",
   "metadata": {
    "execution": {
     "iopub.execute_input": "2023-10-17T17:49:24.633668Z",
     "iopub.status.busy": "2023-10-17T17:49:24.633309Z",
     "iopub.status.idle": "2023-10-17T17:49:24.639547Z",
     "shell.execute_reply": "2023-10-17T17:49:24.638858Z"
    },
    "papermill": {
     "duration": 0.015785,
     "end_time": "2023-10-17T17:49:24.641507",
     "exception": false,
     "start_time": "2023-10-17T17:49:24.625722",
     "status": "completed"
    },
    "tags": []
   },
   "outputs": [
    {
     "data": {
      "text/plain": [
       "6"
      ]
     },
     "execution_count": 2,
     "metadata": {},
     "output_type": "execute_result"
    }
   ],
   "source": [
    "a"
   ]
  },
  {
   "cell_type": "code",
   "execution_count": 3,
   "id": "dda6bbfa",
   "metadata": {
    "execution": {
     "iopub.execute_input": "2023-10-17T17:49:24.656384Z",
     "iopub.status.busy": "2023-10-17T17:49:24.655605Z",
     "iopub.status.idle": "2023-10-17T17:49:24.659470Z",
     "shell.execute_reply": "2023-10-17T17:49:24.658748Z"
    },
    "papermill": {
     "duration": 0.013555,
     "end_time": "2023-10-17T17:49:24.661487",
     "exception": false,
     "start_time": "2023-10-17T17:49:24.647932",
     "status": "completed"
    },
    "tags": []
   },
   "outputs": [],
   "source": [
    "a = 7"
   ]
  },
  {
   "cell_type": "markdown",
   "id": "bbc9086d",
   "metadata": {
    "papermill": {
     "duration": 0.006388,
     "end_time": "2023-10-17T17:49:24.674430",
     "exception": false,
     "start_time": "2023-10-17T17:49:24.668042",
     "status": "completed"
    },
    "tags": []
   },
   "source": [
    "# data types"
   ]
  },
  {
   "cell_type": "code",
   "execution_count": 4,
   "id": "ce3f8366",
   "metadata": {
    "execution": {
     "iopub.execute_input": "2023-10-17T17:49:24.689459Z",
     "iopub.status.busy": "2023-10-17T17:49:24.688801Z",
     "iopub.status.idle": "2023-10-17T17:49:24.694010Z",
     "shell.execute_reply": "2023-10-17T17:49:24.692814Z"
    },
    "papermill": {
     "duration": 0.015685,
     "end_time": "2023-10-17T17:49:24.696694",
     "exception": false,
     "start_time": "2023-10-17T17:49:24.681009",
     "status": "completed"
    },
    "tags": []
   },
   "outputs": [
    {
     "name": "stdout",
     "output_type": "stream",
     "text": [
      "6\n"
     ]
    }
   ],
   "source": [
    "abhi = 6\n",
    "\n",
    "print(abhi)"
   ]
  },
  {
   "cell_type": "code",
   "execution_count": 5,
   "id": "ebb0e41c",
   "metadata": {
    "execution": {
     "iopub.execute_input": "2023-10-17T17:49:24.712667Z",
     "iopub.status.busy": "2023-10-17T17:49:24.711104Z",
     "iopub.status.idle": "2023-10-17T17:49:24.719561Z",
     "shell.execute_reply": "2023-10-17T17:49:24.718777Z"
    },
    "papermill": {
     "duration": 0.018509,
     "end_time": "2023-10-17T17:49:24.721722",
     "exception": false,
     "start_time": "2023-10-17T17:49:24.703213",
     "status": "completed"
    },
    "tags": []
   },
   "outputs": [
    {
     "data": {
      "text/plain": [
       "int"
      ]
     },
     "execution_count": 5,
     "metadata": {},
     "output_type": "execute_result"
    }
   ],
   "source": [
    "type(abhi)"
   ]
  },
  {
   "cell_type": "code",
   "execution_count": 6,
   "id": "0b706fd3",
   "metadata": {
    "execution": {
     "iopub.execute_input": "2023-10-17T17:49:24.736500Z",
     "iopub.status.busy": "2023-10-17T17:49:24.736158Z",
     "iopub.status.idle": "2023-10-17T17:49:24.742119Z",
     "shell.execute_reply": "2023-10-17T17:49:24.741068Z"
    },
    "papermill": {
     "duration": 0.015854,
     "end_time": "2023-10-17T17:49:24.744411",
     "exception": false,
     "start_time": "2023-10-17T17:49:24.728557",
     "status": "completed"
    },
    "tags": []
   },
   "outputs": [
    {
     "data": {
      "text/plain": [
       "float"
      ]
     },
     "execution_count": 6,
     "metadata": {},
     "output_type": "execute_result"
    }
   ],
   "source": [
    "swa = 6.5\n",
    "type(swa)"
   ]
  },
  {
   "cell_type": "code",
   "execution_count": 7,
   "id": "1a615634",
   "metadata": {
    "execution": {
     "iopub.execute_input": "2023-10-17T17:49:24.760448Z",
     "iopub.status.busy": "2023-10-17T17:49:24.759803Z",
     "iopub.status.idle": "2023-10-17T17:49:24.766523Z",
     "shell.execute_reply": "2023-10-17T17:49:24.765716Z"
    },
    "papermill": {
     "duration": 0.0172,
     "end_time": "2023-10-17T17:49:24.768883",
     "exception": false,
     "start_time": "2023-10-17T17:49:24.751683",
     "status": "completed"
    },
    "tags": []
   },
   "outputs": [
    {
     "data": {
      "text/plain": [
       "complex"
      ]
     },
     "execution_count": 7,
     "metadata": {},
     "output_type": "execute_result"
    }
   ],
   "source": [
    "pra = 3 + 2j\n",
    "\n",
    "type(pra)"
   ]
  },
  {
   "cell_type": "code",
   "execution_count": 8,
   "id": "456abfc8",
   "metadata": {
    "execution": {
     "iopub.execute_input": "2023-10-17T17:49:24.784010Z",
     "iopub.status.busy": "2023-10-17T17:49:24.783635Z",
     "iopub.status.idle": "2023-10-17T17:49:24.790222Z",
     "shell.execute_reply": "2023-10-17T17:49:24.789178Z"
    },
    "papermill": {
     "duration": 0.01676,
     "end_time": "2023-10-17T17:49:24.792322",
     "exception": false,
     "start_time": "2023-10-17T17:49:24.775562",
     "status": "completed"
    },
    "tags": []
   },
   "outputs": [
    {
     "data": {
      "text/plain": [
       "str"
      ]
     },
     "execution_count": 8,
     "metadata": {},
     "output_type": "execute_result"
    }
   ],
   "source": [
    "x = \"sush\"\n",
    "type(x)"
   ]
  },
  {
   "cell_type": "code",
   "execution_count": 9,
   "id": "b2cb7f59",
   "metadata": {
    "execution": {
     "iopub.execute_input": "2023-10-17T17:49:24.808280Z",
     "iopub.status.busy": "2023-10-17T17:49:24.807479Z",
     "iopub.status.idle": "2023-10-17T17:49:24.814057Z",
     "shell.execute_reply": "2023-10-17T17:49:24.813084Z"
    },
    "papermill": {
     "duration": 0.016952,
     "end_time": "2023-10-17T17:49:24.816194",
     "exception": false,
     "start_time": "2023-10-17T17:49:24.799242",
     "status": "completed"
    },
    "tags": []
   },
   "outputs": [
    {
     "data": {
      "text/plain": [
       "int"
      ]
     },
     "execution_count": 9,
     "metadata": {},
     "output_type": "execute_result"
    }
   ],
   "source": [
    "z = 44 - 5 - 14\n",
    "z\n",
    "type(z)"
   ]
  },
  {
   "cell_type": "code",
   "execution_count": 10,
   "id": "e28504e6",
   "metadata": {
    "execution": {
     "iopub.execute_input": "2023-10-17T17:49:24.833613Z",
     "iopub.status.busy": "2023-10-17T17:49:24.832854Z",
     "iopub.status.idle": "2023-10-17T17:49:24.839502Z",
     "shell.execute_reply": "2023-10-17T17:49:24.838684Z"
    },
    "papermill": {
     "duration": 0.01821,
     "end_time": "2023-10-17T17:49:24.841510",
     "exception": false,
     "start_time": "2023-10-17T17:49:24.823300",
     "status": "completed"
    },
    "tags": []
   },
   "outputs": [
    {
     "data": {
      "text/plain": [
       "'44-5-14'"
      ]
     },
     "execution_count": 10,
     "metadata": {},
     "output_type": "execute_result"
    }
   ],
   "source": [
    "y = \"44-5-14\"\n",
    "y"
   ]
  },
  {
   "cell_type": "code",
   "execution_count": 11,
   "id": "2b464acb",
   "metadata": {
    "execution": {
     "iopub.execute_input": "2023-10-17T17:49:24.857885Z",
     "iopub.status.busy": "2023-10-17T17:49:24.857149Z",
     "iopub.status.idle": "2023-10-17T17:49:24.863537Z",
     "shell.execute_reply": "2023-10-17T17:49:24.862453Z"
    },
    "papermill": {
     "duration": 0.016844,
     "end_time": "2023-10-17T17:49:24.865608",
     "exception": false,
     "start_time": "2023-10-17T17:49:24.848764",
     "status": "completed"
    },
    "tags": []
   },
   "outputs": [
    {
     "data": {
      "text/plain": [
       "str"
      ]
     },
     "execution_count": 11,
     "metadata": {},
     "output_type": "execute_result"
    }
   ],
   "source": [
    "type(y)"
   ]
  },
  {
   "cell_type": "markdown",
   "id": "794d0234",
   "metadata": {
    "papermill": {
     "duration": 0.00668,
     "end_time": "2023-10-17T17:49:24.879271",
     "exception": false,
     "start_time": "2023-10-17T17:49:24.872591",
     "status": "completed"
    },
    "tags": []
   },
   "source": [
    "# type casting"
   ]
  },
  {
   "cell_type": "code",
   "execution_count": 12,
   "id": "4053101a",
   "metadata": {
    "execution": {
     "iopub.execute_input": "2023-10-17T17:49:24.896366Z",
     "iopub.status.busy": "2023-10-17T17:49:24.895562Z",
     "iopub.status.idle": "2023-10-17T17:49:24.903114Z",
     "shell.execute_reply": "2023-10-17T17:49:24.902058Z"
    },
    "papermill": {
     "duration": 0.018819,
     "end_time": "2023-10-17T17:49:24.905248",
     "exception": false,
     "start_time": "2023-10-17T17:49:24.886429",
     "status": "completed"
    },
    "tags": []
   },
   "outputs": [
    {
     "data": {
      "text/plain": [
       "float"
      ]
     },
     "execution_count": 12,
     "metadata": {},
     "output_type": "execute_result"
    }
   ],
   "source": [
    "a = 6.5\n",
    "type(a)"
   ]
  },
  {
   "cell_type": "code",
   "execution_count": 13,
   "id": "9cf86221",
   "metadata": {
    "execution": {
     "iopub.execute_input": "2023-10-17T17:49:24.921358Z",
     "iopub.status.busy": "2023-10-17T17:49:24.921010Z",
     "iopub.status.idle": "2023-10-17T17:49:24.927098Z",
     "shell.execute_reply": "2023-10-17T17:49:24.925903Z"
    },
    "papermill": {
     "duration": 0.017059,
     "end_time": "2023-10-17T17:49:24.929499",
     "exception": false,
     "start_time": "2023-10-17T17:49:24.912440",
     "status": "completed"
    },
    "tags": []
   },
   "outputs": [
    {
     "data": {
      "text/plain": [
       "6"
      ]
     },
     "execution_count": 13,
     "metadata": {},
     "output_type": "execute_result"
    }
   ],
   "source": [
    "b = int(a)\n",
    "b"
   ]
  },
  {
   "cell_type": "code",
   "execution_count": 14,
   "id": "e49b965a",
   "metadata": {
    "execution": {
     "iopub.execute_input": "2023-10-17T17:49:24.946608Z",
     "iopub.status.busy": "2023-10-17T17:49:24.946249Z",
     "iopub.status.idle": "2023-10-17T17:49:24.952482Z",
     "shell.execute_reply": "2023-10-17T17:49:24.951782Z"
    },
    "papermill": {
     "duration": 0.016976,
     "end_time": "2023-10-17T17:49:24.954600",
     "exception": false,
     "start_time": "2023-10-17T17:49:24.937624",
     "status": "completed"
    },
    "tags": []
   },
   "outputs": [
    {
     "data": {
      "text/plain": [
       "int"
      ]
     },
     "execution_count": 14,
     "metadata": {},
     "output_type": "execute_result"
    }
   ],
   "source": [
    "type(b)"
   ]
  },
  {
   "cell_type": "code",
   "execution_count": 15,
   "id": "366d9940",
   "metadata": {
    "execution": {
     "iopub.execute_input": "2023-10-17T17:49:24.971278Z",
     "iopub.status.busy": "2023-10-17T17:49:24.970478Z",
     "iopub.status.idle": "2023-10-17T17:49:24.977317Z",
     "shell.execute_reply": "2023-10-17T17:49:24.976374Z"
    },
    "papermill": {
     "duration": 0.017452,
     "end_time": "2023-10-17T17:49:24.979486",
     "exception": false,
     "start_time": "2023-10-17T17:49:24.962034",
     "status": "completed"
    },
    "tags": []
   },
   "outputs": [
    {
     "data": {
      "text/plain": [
       "6.0"
      ]
     },
     "execution_count": 15,
     "metadata": {},
     "output_type": "execute_result"
    }
   ],
   "source": [
    "c = float(b)\n",
    "c"
   ]
  },
  {
   "cell_type": "code",
   "execution_count": 16,
   "id": "504d0216",
   "metadata": {
    "execution": {
     "iopub.execute_input": "2023-10-17T17:49:24.996197Z",
     "iopub.status.busy": "2023-10-17T17:49:24.995238Z",
     "iopub.status.idle": "2023-10-17T17:49:25.002283Z",
     "shell.execute_reply": "2023-10-17T17:49:25.001290Z"
    },
    "papermill": {
     "duration": 0.017474,
     "end_time": "2023-10-17T17:49:25.004341",
     "exception": false,
     "start_time": "2023-10-17T17:49:24.986867",
     "status": "completed"
    },
    "tags": []
   },
   "outputs": [
    {
     "data": {
      "text/plain": [
       "float"
      ]
     },
     "execution_count": 16,
     "metadata": {},
     "output_type": "execute_result"
    }
   ],
   "source": [
    "type(c)"
   ]
  },
  {
   "cell_type": "code",
   "execution_count": 17,
   "id": "169fc412",
   "metadata": {
    "execution": {
     "iopub.execute_input": "2023-10-17T17:49:25.021984Z",
     "iopub.status.busy": "2023-10-17T17:49:25.021102Z",
     "iopub.status.idle": "2023-10-17T17:49:25.028009Z",
     "shell.execute_reply": "2023-10-17T17:49:25.026646Z"
    },
    "papermill": {
     "duration": 0.018443,
     "end_time": "2023-10-17T17:49:25.030928",
     "exception": false,
     "start_time": "2023-10-17T17:49:25.012485",
     "status": "completed"
    },
    "tags": []
   },
   "outputs": [
    {
     "data": {
      "text/plain": [
       "'667'"
      ]
     },
     "execution_count": 17,
     "metadata": {},
     "output_type": "execute_result"
    }
   ],
   "source": [
    "g = \"66\"\n",
    "h = \"7\"\n",
    "\n",
    "g + h"
   ]
  },
  {
   "cell_type": "code",
   "execution_count": 18,
   "id": "f4991fff",
   "metadata": {
    "execution": {
     "iopub.execute_input": "2023-10-17T17:49:25.050258Z",
     "iopub.status.busy": "2023-10-17T17:49:25.049912Z",
     "iopub.status.idle": "2023-10-17T17:49:25.056342Z",
     "shell.execute_reply": "2023-10-17T17:49:25.055245Z"
    },
    "papermill": {
     "duration": 0.018464,
     "end_time": "2023-10-17T17:49:25.058424",
     "exception": false,
     "start_time": "2023-10-17T17:49:25.039960",
     "status": "completed"
    },
    "tags": []
   },
   "outputs": [
    {
     "data": {
      "text/plain": [
       "73"
      ]
     },
     "execution_count": 18,
     "metadata": {},
     "output_type": "execute_result"
    }
   ],
   "source": [
    "i = 66\n",
    "j = 7\n",
    "i + j"
   ]
  },
  {
   "cell_type": "code",
   "execution_count": 19,
   "id": "4989bc5b",
   "metadata": {
    "execution": {
     "iopub.execute_input": "2023-10-17T17:49:25.075198Z",
     "iopub.status.busy": "2023-10-17T17:49:25.074862Z",
     "iopub.status.idle": "2023-10-17T17:49:25.081441Z",
     "shell.execute_reply": "2023-10-17T17:49:25.080452Z"
    },
    "papermill": {
     "duration": 0.017372,
     "end_time": "2023-10-17T17:49:25.083436",
     "exception": false,
     "start_time": "2023-10-17T17:49:25.066064",
     "status": "completed"
    },
    "tags": []
   },
   "outputs": [
    {
     "data": {
      "text/plain": [
       "'667'"
      ]
     },
     "execution_count": 19,
     "metadata": {},
     "output_type": "execute_result"
    }
   ],
   "source": [
    "p = \"66\"\n",
    "q = 7\n",
    "# \"667\"\n",
    "p + str(q)"
   ]
  },
  {
   "cell_type": "code",
   "execution_count": 20,
   "id": "f62d71ab",
   "metadata": {
    "execution": {
     "iopub.execute_input": "2023-10-17T17:49:25.101217Z",
     "iopub.status.busy": "2023-10-17T17:49:25.100864Z",
     "iopub.status.idle": "2023-10-17T17:49:25.108826Z",
     "shell.execute_reply": "2023-10-17T17:49:25.107536Z"
    },
    "papermill": {
     "duration": 0.019403,
     "end_time": "2023-10-17T17:49:25.111049",
     "exception": false,
     "start_time": "2023-10-17T17:49:25.091646",
     "status": "completed"
    },
    "tags": []
   },
   "outputs": [
    {
     "data": {
      "text/plain": [
       "73"
      ]
     },
     "execution_count": 20,
     "metadata": {},
     "output_type": "execute_result"
    }
   ],
   "source": [
    "p = \"66\"\n",
    "q = 7\n",
    "int(p) + q"
   ]
  },
  {
   "cell_type": "code",
   "execution_count": 21,
   "id": "923b9d16",
   "metadata": {
    "execution": {
     "iopub.execute_input": "2023-10-17T17:49:25.133017Z",
     "iopub.status.busy": "2023-10-17T17:49:25.131819Z",
     "iopub.status.idle": "2023-10-17T17:49:25.140033Z",
     "shell.execute_reply": "2023-10-17T17:49:25.138224Z"
    },
    "papermill": {
     "duration": 0.021502,
     "end_time": "2023-10-17T17:49:25.142662",
     "exception": false,
     "start_time": "2023-10-17T17:49:25.121160",
     "status": "completed"
    },
    "tags": []
   },
   "outputs": [
    {
     "data": {
      "text/plain": [
       "8"
      ]
     },
     "execution_count": 21,
     "metadata": {},
     "output_type": "execute_result"
    }
   ],
   "source": [
    "a = 7\n",
    "b = 8\n",
    "b"
   ]
  },
  {
   "cell_type": "code",
   "execution_count": 22,
   "id": "9f65bd27",
   "metadata": {
    "execution": {
     "iopub.execute_input": "2023-10-17T17:49:25.162360Z",
     "iopub.status.busy": "2023-10-17T17:49:25.162009Z",
     "iopub.status.idle": "2023-10-17T17:49:25.169016Z",
     "shell.execute_reply": "2023-10-17T17:49:25.167674Z"
    },
    "papermill": {
     "duration": 0.019775,
     "end_time": "2023-10-17T17:49:25.171264",
     "exception": false,
     "start_time": "2023-10-17T17:49:25.151489",
     "status": "completed"
    },
    "tags": []
   },
   "outputs": [
    {
     "data": {
      "text/plain": [
       "8"
      ]
     },
     "execution_count": 22,
     "metadata": {},
     "output_type": "execute_result"
    }
   ],
   "source": [
    "a,b = 7,8\n",
    "b"
   ]
  },
  {
   "cell_type": "code",
   "execution_count": 23,
   "id": "15b39d6f",
   "metadata": {
    "execution": {
     "iopub.execute_input": "2023-10-17T17:49:25.189589Z",
     "iopub.status.busy": "2023-10-17T17:49:25.189047Z",
     "iopub.status.idle": "2023-10-17T17:49:25.194289Z",
     "shell.execute_reply": "2023-10-17T17:49:25.193537Z"
    },
    "papermill": {
     "duration": 0.017198,
     "end_time": "2023-10-17T17:49:25.196847",
     "exception": false,
     "start_time": "2023-10-17T17:49:25.179649",
     "status": "completed"
    },
    "tags": []
   },
   "outputs": [
    {
     "data": {
      "text/plain": [
       "7"
      ]
     },
     "execution_count": 23,
     "metadata": {},
     "output_type": "execute_result"
    }
   ],
   "source": [
    "abhi7 = 7\n",
    "abhi7"
   ]
  },
  {
   "cell_type": "code",
   "execution_count": 24,
   "id": "9613bd44",
   "metadata": {
    "execution": {
     "iopub.execute_input": "2023-10-17T17:49:25.218175Z",
     "iopub.status.busy": "2023-10-17T17:49:25.217602Z",
     "iopub.status.idle": "2023-10-17T17:49:25.221955Z",
     "shell.execute_reply": "2023-10-17T17:49:25.221109Z"
    },
    "papermill": {
     "duration": 0.017055,
     "end_time": "2023-10-17T17:49:25.223802",
     "exception": false,
     "start_time": "2023-10-17T17:49:25.206747",
     "status": "completed"
    },
    "tags": []
   },
   "outputs": [
    {
     "name": "stdout",
     "output_type": "stream",
     "text": [
      "Sally\n"
     ]
    }
   ],
   "source": [
    "x = 4       # x is of type int\n",
    "x = \"Sally\" # x is now of type str\n",
    "print(x)"
   ]
  },
  {
   "cell_type": "code",
   "execution_count": 25,
   "id": "b020a4a3",
   "metadata": {
    "execution": {
     "iopub.execute_input": "2023-10-17T17:49:25.303799Z",
     "iopub.status.busy": "2023-10-17T17:49:25.303402Z",
     "iopub.status.idle": "2023-10-17T17:49:25.308154Z",
     "shell.execute_reply": "2023-10-17T17:49:25.307135Z"
    },
    "papermill": {
     "duration": 0.01688,
     "end_time": "2023-10-17T17:49:25.310480",
     "exception": false,
     "start_time": "2023-10-17T17:49:25.293600",
     "status": "completed"
    },
    "tags": []
   },
   "outputs": [
    {
     "name": "stdout",
     "output_type": "stream",
     "text": [
      "4\n"
     ]
    }
   ],
   "source": [
    "x = 4       # x is of type int\n",
    "print(x)\n",
    "x = \"Sally\" # x is now of type str\n"
   ]
  },
  {
   "cell_type": "code",
   "execution_count": 26,
   "id": "e3ccc65c",
   "metadata": {
    "execution": {
     "iopub.execute_input": "2023-10-17T17:49:25.330788Z",
     "iopub.status.busy": "2023-10-17T17:49:25.330142Z",
     "iopub.status.idle": "2023-10-17T17:49:25.334939Z",
     "shell.execute_reply": "2023-10-17T17:49:25.333926Z"
    },
    "papermill": {
     "duration": 0.017173,
     "end_time": "2023-10-17T17:49:25.337114",
     "exception": false,
     "start_time": "2023-10-17T17:49:25.319941",
     "status": "completed"
    },
    "tags": []
   },
   "outputs": [
    {
     "name": "stdout",
     "output_type": "stream",
     "text": [
      "7\n"
     ]
    }
   ],
   "source": [
    "# o/p\n",
    "a= 7\n",
    "print(a)"
   ]
  },
  {
   "cell_type": "code",
   "execution_count": 27,
   "id": "4e4eac8b",
   "metadata": {
    "execution": {
     "iopub.execute_input": "2023-10-17T17:49:25.355765Z",
     "iopub.status.busy": "2023-10-17T17:49:25.355402Z",
     "iopub.status.idle": "2023-10-17T17:49:25.359450Z",
     "shell.execute_reply": "2023-10-17T17:49:25.358360Z"
    },
    "papermill": {
     "duration": 0.015855,
     "end_time": "2023-10-17T17:49:25.361483",
     "exception": false,
     "start_time": "2023-10-17T17:49:25.345628",
     "status": "completed"
    },
    "tags": []
   },
   "outputs": [],
   "source": [
    "# a = int(input())\n",
    "# print(a+1)"
   ]
  },
  {
   "cell_type": "code",
   "execution_count": 28,
   "id": "1b265289",
   "metadata": {
    "execution": {
     "iopub.execute_input": "2023-10-17T17:49:25.379554Z",
     "iopub.status.busy": "2023-10-17T17:49:25.379242Z",
     "iopub.status.idle": "2023-10-17T17:49:25.384865Z",
     "shell.execute_reply": "2023-10-17T17:49:25.383784Z"
    },
    "papermill": {
     "duration": 0.017692,
     "end_time": "2023-10-17T17:49:25.387523",
     "exception": false,
     "start_time": "2023-10-17T17:49:25.369831",
     "status": "completed"
    },
    "tags": []
   },
   "outputs": [
    {
     "data": {
      "text/plain": [
       "13"
      ]
     },
     "execution_count": 28,
     "metadata": {},
     "output_type": "execute_result"
    }
   ],
   "source": [
    "a = 6 + 7\n",
    "a"
   ]
  },
  {
   "cell_type": "code",
   "execution_count": 29,
   "id": "76cc7ba6",
   "metadata": {
    "execution": {
     "iopub.execute_input": "2023-10-17T17:49:25.408571Z",
     "iopub.status.busy": "2023-10-17T17:49:25.407985Z",
     "iopub.status.idle": "2023-10-17T17:49:25.412919Z",
     "shell.execute_reply": "2023-10-17T17:49:25.412146Z"
    },
    "papermill": {
     "duration": 0.017402,
     "end_time": "2023-10-17T17:49:25.414991",
     "exception": false,
     "start_time": "2023-10-17T17:49:25.397589",
     "status": "completed"
    },
    "tags": []
   },
   "outputs": [
    {
     "data": {
      "text/plain": [
       "'da50'"
      ]
     },
     "execution_count": 29,
     "metadata": {},
     "output_type": "execute_result"
    }
   ],
   "source": [
    "b = \"da\" + str(50)\n",
    "b"
   ]
  },
  {
   "cell_type": "code",
   "execution_count": 30,
   "id": "63107e2a",
   "metadata": {
    "execution": {
     "iopub.execute_input": "2023-10-17T17:49:25.434356Z",
     "iopub.status.busy": "2023-10-17T17:49:25.433781Z",
     "iopub.status.idle": "2023-10-17T17:49:25.438041Z",
     "shell.execute_reply": "2023-10-17T17:49:25.437138Z"
    },
    "papermill": {
     "duration": 0.016307,
     "end_time": "2023-10-17T17:49:25.440134",
     "exception": false,
     "start_time": "2023-10-17T17:49:25.423827",
     "status": "completed"
    },
    "tags": []
   },
   "outputs": [
    {
     "name": "stdout",
     "output_type": "stream",
     "text": [
      "5 John\n"
     ]
    }
   ],
   "source": [
    "x = 5\n",
    "y = \"John\"\n",
    "print(x, y)"
   ]
  },
  {
   "cell_type": "code",
   "execution_count": null,
   "id": "efc72a35",
   "metadata": {
    "papermill": {
     "duration": 0.008112,
     "end_time": "2023-10-17T17:49:25.456869",
     "exception": false,
     "start_time": "2023-10-17T17:49:25.448757",
     "status": "completed"
    },
    "tags": []
   },
   "outputs": [],
   "source": []
  }
 ],
 "metadata": {
  "kernelspec": {
   "display_name": "Python 3",
   "language": "python",
   "name": "python3"
  },
  "language_info": {
   "codemirror_mode": {
    "name": "ipython",
    "version": 3
   },
   "file_extension": ".py",
   "mimetype": "text/x-python",
   "name": "python",
   "nbconvert_exporter": "python",
   "pygments_lexer": "ipython3",
   "version": "3.10.12"
  },
  "papermill": {
   "default_parameters": {},
   "duration": 4.458791,
   "end_time": "2023-10-17T17:49:25.884638",
   "environment_variables": {},
   "exception": null,
   "input_path": "__notebook__.ipynb",
   "output_path": "__notebook__.ipynb",
   "parameters": {},
   "start_time": "2023-10-17T17:49:21.425847",
   "version": "2.4.0"
  }
 },
 "nbformat": 4,
 "nbformat_minor": 5
}
