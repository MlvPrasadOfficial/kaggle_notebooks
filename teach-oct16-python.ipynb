{
 "cells": [
  {
   "cell_type": "code",
   "execution_count": 1,
   "id": "fbaa9e03",
   "metadata": {
    "_cell_guid": "b1076dfc-b9ad-4769-8c92-a6c4dae69d19",
    "_uuid": "8f2839f25d086af736a60e9eeb907d3b93b6e0e5",
    "execution": {
     "iopub.execute_input": "2023-10-25T17:37:09.699269Z",
     "iopub.status.busy": "2023-10-25T17:37:09.698453Z",
     "iopub.status.idle": "2023-10-25T17:37:09.711243Z",
     "shell.execute_reply": "2023-10-25T17:37:09.710441Z"
    },
    "papermill": {
     "duration": 0.08341,
     "end_time": "2023-10-25T17:37:09.713941",
     "exception": false,
     "start_time": "2023-10-25T17:37:09.630531",
     "status": "completed"
    },
    "tags": []
   },
   "outputs": [
    {
     "name": "stdout",
     "output_type": "stream",
     "text": [
      "6\n",
      "---\n",
      "6\n"
     ]
    }
   ],
   "source": [
    "a = 6\n",
    "print(a)\n",
    "print(\"---\")\n",
    "# a = \n",
    "print(a)"
   ]
  },
  {
   "cell_type": "code",
   "execution_count": null,
   "id": "9fdb27b1",
   "metadata": {
    "papermill": {
     "duration": 0.065299,
     "end_time": "2023-10-25T17:37:09.915421",
     "exception": false,
     "start_time": "2023-10-25T17:37:09.850122",
     "status": "completed"
    },
    "tags": []
   },
   "outputs": [],
   "source": []
  },
  {
   "cell_type": "code",
   "execution_count": 2,
   "id": "ff634113",
   "metadata": {
    "execution": {
     "iopub.execute_input": "2023-10-25T17:37:10.054286Z",
     "iopub.status.busy": "2023-10-25T17:37:10.053534Z",
     "iopub.status.idle": "2023-10-25T17:37:10.057721Z",
     "shell.execute_reply": "2023-10-25T17:37:10.056977Z"
    },
    "papermill": {
     "duration": 0.076317,
     "end_time": "2023-10-25T17:37:10.059955",
     "exception": false,
     "start_time": "2023-10-25T17:37:09.983638",
     "status": "completed"
    },
    "tags": []
   },
   "outputs": [],
   "source": [
    "a = 7"
   ]
  },
  {
   "cell_type": "markdown",
   "id": "5714ac9c",
   "metadata": {
    "papermill": {
     "duration": 0.06628,
     "end_time": "2023-10-25T17:37:10.193494",
     "exception": false,
     "start_time": "2023-10-25T17:37:10.127214",
     "status": "completed"
    },
    "tags": []
   },
   "source": [
    "# data types"
   ]
  },
  {
   "cell_type": "code",
   "execution_count": 3,
   "id": "8af6f680",
   "metadata": {
    "execution": {
     "iopub.execute_input": "2023-10-25T17:37:10.332699Z",
     "iopub.status.busy": "2023-10-25T17:37:10.332259Z",
     "iopub.status.idle": "2023-10-25T17:37:10.338444Z",
     "shell.execute_reply": "2023-10-25T17:37:10.336864Z"
    },
    "papermill": {
     "duration": 0.080832,
     "end_time": "2023-10-25T17:37:10.340929",
     "exception": false,
     "start_time": "2023-10-25T17:37:10.260097",
     "status": "completed"
    },
    "tags": []
   },
   "outputs": [
    {
     "name": "stdout",
     "output_type": "stream",
     "text": [
      "6\n"
     ]
    }
   ],
   "source": [
    "abhi = 6\n",
    "\n",
    "print(abhi)"
   ]
  },
  {
   "cell_type": "code",
   "execution_count": 4,
   "id": "4a412f3f",
   "metadata": {
    "execution": {
     "iopub.execute_input": "2023-10-25T17:37:10.477425Z",
     "iopub.status.busy": "2023-10-25T17:37:10.476578Z",
     "iopub.status.idle": "2023-10-25T17:37:10.484666Z",
     "shell.execute_reply": "2023-10-25T17:37:10.483602Z"
    },
    "papermill": {
     "duration": 0.07864,
     "end_time": "2023-10-25T17:37:10.487104",
     "exception": false,
     "start_time": "2023-10-25T17:37:10.408464",
     "status": "completed"
    },
    "tags": []
   },
   "outputs": [
    {
     "data": {
      "text/plain": [
       "int"
      ]
     },
     "execution_count": 4,
     "metadata": {},
     "output_type": "execute_result"
    }
   ],
   "source": [
    "type(abhi)"
   ]
  },
  {
   "cell_type": "code",
   "execution_count": 5,
   "id": "996ef48a",
   "metadata": {
    "execution": {
     "iopub.execute_input": "2023-10-25T17:37:10.620144Z",
     "iopub.status.busy": "2023-10-25T17:37:10.619534Z",
     "iopub.status.idle": "2023-10-25T17:37:10.626454Z",
     "shell.execute_reply": "2023-10-25T17:37:10.625362Z"
    },
    "papermill": {
     "duration": 0.076236,
     "end_time": "2023-10-25T17:37:10.628877",
     "exception": false,
     "start_time": "2023-10-25T17:37:10.552641",
     "status": "completed"
    },
    "tags": []
   },
   "outputs": [
    {
     "data": {
      "text/plain": [
       "float"
      ]
     },
     "execution_count": 5,
     "metadata": {},
     "output_type": "execute_result"
    }
   ],
   "source": [
    "swa = 6.5\n",
    "type(swa)"
   ]
  },
  {
   "cell_type": "code",
   "execution_count": 6,
   "id": "ed58b953",
   "metadata": {
    "execution": {
     "iopub.execute_input": "2023-10-25T17:37:10.761961Z",
     "iopub.status.busy": "2023-10-25T17:37:10.761595Z",
     "iopub.status.idle": "2023-10-25T17:37:10.767563Z",
     "shell.execute_reply": "2023-10-25T17:37:10.766774Z"
    },
    "papermill": {
     "duration": 0.075464,
     "end_time": "2023-10-25T17:37:10.769894",
     "exception": false,
     "start_time": "2023-10-25T17:37:10.694430",
     "status": "completed"
    },
    "tags": []
   },
   "outputs": [
    {
     "data": {
      "text/plain": [
       "complex"
      ]
     },
     "execution_count": 6,
     "metadata": {},
     "output_type": "execute_result"
    }
   ],
   "source": [
    "pra = 3 + 2j\n",
    "\n",
    "type(pra)"
   ]
  },
  {
   "cell_type": "code",
   "execution_count": 7,
   "id": "fd2e4ddd",
   "metadata": {
    "execution": {
     "iopub.execute_input": "2023-10-25T17:37:10.905649Z",
     "iopub.status.busy": "2023-10-25T17:37:10.904875Z",
     "iopub.status.idle": "2023-10-25T17:37:10.911695Z",
     "shell.execute_reply": "2023-10-25T17:37:10.910670Z"
    },
    "papermill": {
     "duration": 0.077273,
     "end_time": "2023-10-25T17:37:10.914142",
     "exception": false,
     "start_time": "2023-10-25T17:37:10.836869",
     "status": "completed"
    },
    "tags": []
   },
   "outputs": [
    {
     "data": {
      "text/plain": [
       "str"
      ]
     },
     "execution_count": 7,
     "metadata": {},
     "output_type": "execute_result"
    }
   ],
   "source": [
    "x = \"sush\"\n",
    "type(x)"
   ]
  },
  {
   "cell_type": "code",
   "execution_count": 8,
   "id": "c9b5b073",
   "metadata": {
    "execution": {
     "iopub.execute_input": "2023-10-25T17:37:11.052231Z",
     "iopub.status.busy": "2023-10-25T17:37:11.051561Z",
     "iopub.status.idle": "2023-10-25T17:37:11.058028Z",
     "shell.execute_reply": "2023-10-25T17:37:11.056946Z"
    },
    "papermill": {
     "duration": 0.078559,
     "end_time": "2023-10-25T17:37:11.060258",
     "exception": false,
     "start_time": "2023-10-25T17:37:10.981699",
     "status": "completed"
    },
    "tags": []
   },
   "outputs": [
    {
     "data": {
      "text/plain": [
       "int"
      ]
     },
     "execution_count": 8,
     "metadata": {},
     "output_type": "execute_result"
    }
   ],
   "source": [
    "z = 44 - 5 - 14\n",
    "z\n",
    "type(z)"
   ]
  },
  {
   "cell_type": "code",
   "execution_count": 9,
   "id": "5b4f272d",
   "metadata": {
    "execution": {
     "iopub.execute_input": "2023-10-25T17:37:11.198082Z",
     "iopub.status.busy": "2023-10-25T17:37:11.197675Z",
     "iopub.status.idle": "2023-10-25T17:37:11.203026Z",
     "shell.execute_reply": "2023-10-25T17:37:11.202323Z"
    },
    "papermill": {
     "duration": 0.077233,
     "end_time": "2023-10-25T17:37:11.205352",
     "exception": false,
     "start_time": "2023-10-25T17:37:11.128119",
     "status": "completed"
    },
    "tags": []
   },
   "outputs": [
    {
     "data": {
      "text/plain": [
       "'44-5-14'"
      ]
     },
     "execution_count": 9,
     "metadata": {},
     "output_type": "execute_result"
    }
   ],
   "source": [
    "y = \"44-5-14\"\n",
    "y"
   ]
  },
  {
   "cell_type": "code",
   "execution_count": 10,
   "id": "48dd8974",
   "metadata": {
    "execution": {
     "iopub.execute_input": "2023-10-25T17:37:11.344322Z",
     "iopub.status.busy": "2023-10-25T17:37:11.343927Z",
     "iopub.status.idle": "2023-10-25T17:37:11.350496Z",
     "shell.execute_reply": "2023-10-25T17:37:11.349332Z"
    },
    "papermill": {
     "duration": 0.080595,
     "end_time": "2023-10-25T17:37:11.352948",
     "exception": false,
     "start_time": "2023-10-25T17:37:11.272353",
     "status": "completed"
    },
    "tags": []
   },
   "outputs": [
    {
     "data": {
      "text/plain": [
       "str"
      ]
     },
     "execution_count": 10,
     "metadata": {},
     "output_type": "execute_result"
    }
   ],
   "source": [
    "type(y)"
   ]
  },
  {
   "cell_type": "markdown",
   "id": "ac8be310",
   "metadata": {
    "papermill": {
     "duration": 0.066294,
     "end_time": "2023-10-25T17:37:11.486918",
     "exception": false,
     "start_time": "2023-10-25T17:37:11.420624",
     "status": "completed"
    },
    "tags": []
   },
   "source": [
    "# type casting"
   ]
  },
  {
   "cell_type": "code",
   "execution_count": 11,
   "id": "d322e41f",
   "metadata": {
    "execution": {
     "iopub.execute_input": "2023-10-25T17:37:11.621466Z",
     "iopub.status.busy": "2023-10-25T17:37:11.620984Z",
     "iopub.status.idle": "2023-10-25T17:37:11.628234Z",
     "shell.execute_reply": "2023-10-25T17:37:11.627084Z"
    },
    "papermill": {
     "duration": 0.077229,
     "end_time": "2023-10-25T17:37:11.630443",
     "exception": false,
     "start_time": "2023-10-25T17:37:11.553214",
     "status": "completed"
    },
    "tags": []
   },
   "outputs": [
    {
     "data": {
      "text/plain": [
       "float"
      ]
     },
     "execution_count": 11,
     "metadata": {},
     "output_type": "execute_result"
    }
   ],
   "source": [
    "a = 6.5\n",
    "type(a)"
   ]
  },
  {
   "cell_type": "code",
   "execution_count": 12,
   "id": "b59fd151",
   "metadata": {
    "execution": {
     "iopub.execute_input": "2023-10-25T17:37:11.766563Z",
     "iopub.status.busy": "2023-10-25T17:37:11.766090Z",
     "iopub.status.idle": "2023-10-25T17:37:11.773247Z",
     "shell.execute_reply": "2023-10-25T17:37:11.772197Z"
    },
    "papermill": {
     "duration": 0.078205,
     "end_time": "2023-10-25T17:37:11.775642",
     "exception": false,
     "start_time": "2023-10-25T17:37:11.697437",
     "status": "completed"
    },
    "tags": []
   },
   "outputs": [
    {
     "data": {
      "text/plain": [
       "6"
      ]
     },
     "execution_count": 12,
     "metadata": {},
     "output_type": "execute_result"
    }
   ],
   "source": [
    "b = int(a)\n",
    "b"
   ]
  },
  {
   "cell_type": "code",
   "execution_count": 13,
   "id": "ed95cfeb",
   "metadata": {
    "execution": {
     "iopub.execute_input": "2023-10-25T17:37:11.912884Z",
     "iopub.status.busy": "2023-10-25T17:37:11.912416Z",
     "iopub.status.idle": "2023-10-25T17:37:11.918882Z",
     "shell.execute_reply": "2023-10-25T17:37:11.918043Z"
    },
    "papermill": {
     "duration": 0.078206,
     "end_time": "2023-10-25T17:37:11.921094",
     "exception": false,
     "start_time": "2023-10-25T17:37:11.842888",
     "status": "completed"
    },
    "tags": []
   },
   "outputs": [
    {
     "data": {
      "text/plain": [
       "int"
      ]
     },
     "execution_count": 13,
     "metadata": {},
     "output_type": "execute_result"
    }
   ],
   "source": [
    "type(b)"
   ]
  },
  {
   "cell_type": "code",
   "execution_count": 14,
   "id": "1950867b",
   "metadata": {
    "execution": {
     "iopub.execute_input": "2023-10-25T17:37:12.060005Z",
     "iopub.status.busy": "2023-10-25T17:37:12.059594Z",
     "iopub.status.idle": "2023-10-25T17:37:12.065918Z",
     "shell.execute_reply": "2023-10-25T17:37:12.065032Z"
    },
    "papermill": {
     "duration": 0.079501,
     "end_time": "2023-10-25T17:37:12.068080",
     "exception": false,
     "start_time": "2023-10-25T17:37:11.988579",
     "status": "completed"
    },
    "tags": []
   },
   "outputs": [
    {
     "data": {
      "text/plain": [
       "6.0"
      ]
     },
     "execution_count": 14,
     "metadata": {},
     "output_type": "execute_result"
    }
   ],
   "source": [
    "c = float(b)\n",
    "c"
   ]
  },
  {
   "cell_type": "code",
   "execution_count": 15,
   "id": "679f2448",
   "metadata": {
    "execution": {
     "iopub.execute_input": "2023-10-25T17:37:12.206481Z",
     "iopub.status.busy": "2023-10-25T17:37:12.206112Z",
     "iopub.status.idle": "2023-10-25T17:37:12.211914Z",
     "shell.execute_reply": "2023-10-25T17:37:12.211164Z"
    },
    "papermill": {
     "duration": 0.077795,
     "end_time": "2023-10-25T17:37:12.213935",
     "exception": false,
     "start_time": "2023-10-25T17:37:12.136140",
     "status": "completed"
    },
    "tags": []
   },
   "outputs": [
    {
     "data": {
      "text/plain": [
       "float"
      ]
     },
     "execution_count": 15,
     "metadata": {},
     "output_type": "execute_result"
    }
   ],
   "source": [
    "type(c)"
   ]
  },
  {
   "cell_type": "code",
   "execution_count": 16,
   "id": "edb1b8cd",
   "metadata": {
    "execution": {
     "iopub.execute_input": "2023-10-25T17:37:12.354019Z",
     "iopub.status.busy": "2023-10-25T17:37:12.353597Z",
     "iopub.status.idle": "2023-10-25T17:37:12.360158Z",
     "shell.execute_reply": "2023-10-25T17:37:12.359079Z"
    },
    "papermill": {
     "duration": 0.081158,
     "end_time": "2023-10-25T17:37:12.362844",
     "exception": false,
     "start_time": "2023-10-25T17:37:12.281686",
     "status": "completed"
    },
    "tags": []
   },
   "outputs": [
    {
     "data": {
      "text/plain": [
       "'667'"
      ]
     },
     "execution_count": 16,
     "metadata": {},
     "output_type": "execute_result"
    }
   ],
   "source": [
    "g = \"66\"\n",
    "h = \"7\"\n",
    "\n",
    "g + h"
   ]
  },
  {
   "cell_type": "code",
   "execution_count": 17,
   "id": "c4489d92",
   "metadata": {
    "execution": {
     "iopub.execute_input": "2023-10-25T17:37:12.501690Z",
     "iopub.status.busy": "2023-10-25T17:37:12.501001Z",
     "iopub.status.idle": "2023-10-25T17:37:12.508456Z",
     "shell.execute_reply": "2023-10-25T17:37:12.507205Z"
    },
    "papermill": {
     "duration": 0.079261,
     "end_time": "2023-10-25T17:37:12.510645",
     "exception": false,
     "start_time": "2023-10-25T17:37:12.431384",
     "status": "completed"
    },
    "tags": []
   },
   "outputs": [
    {
     "data": {
      "text/plain": [
       "73"
      ]
     },
     "execution_count": 17,
     "metadata": {},
     "output_type": "execute_result"
    }
   ],
   "source": [
    "i = 66\n",
    "j = 7\n",
    "i + j"
   ]
  },
  {
   "cell_type": "code",
   "execution_count": 18,
   "id": "b76bfd60",
   "metadata": {
    "execution": {
     "iopub.execute_input": "2023-10-25T17:37:12.648902Z",
     "iopub.status.busy": "2023-10-25T17:37:12.648523Z",
     "iopub.status.idle": "2023-10-25T17:37:12.655066Z",
     "shell.execute_reply": "2023-10-25T17:37:12.654011Z"
    },
    "papermill": {
     "duration": 0.079216,
     "end_time": "2023-10-25T17:37:12.657888",
     "exception": false,
     "start_time": "2023-10-25T17:37:12.578672",
     "status": "completed"
    },
    "tags": []
   },
   "outputs": [
    {
     "data": {
      "text/plain": [
       "'667'"
      ]
     },
     "execution_count": 18,
     "metadata": {},
     "output_type": "execute_result"
    }
   ],
   "source": [
    "p = \"66\"\n",
    "q = 7\n",
    "# \"667\"\n",
    "p + str(q)"
   ]
  },
  {
   "cell_type": "code",
   "execution_count": 19,
   "id": "af68c767",
   "metadata": {
    "execution": {
     "iopub.execute_input": "2023-10-25T17:37:12.797778Z",
     "iopub.status.busy": "2023-10-25T17:37:12.796568Z",
     "iopub.status.idle": "2023-10-25T17:37:12.804180Z",
     "shell.execute_reply": "2023-10-25T17:37:12.803150Z"
    },
    "papermill": {
     "duration": 0.080064,
     "end_time": "2023-10-25T17:37:12.806328",
     "exception": false,
     "start_time": "2023-10-25T17:37:12.726264",
     "status": "completed"
    },
    "tags": []
   },
   "outputs": [
    {
     "data": {
      "text/plain": [
       "73"
      ]
     },
     "execution_count": 19,
     "metadata": {},
     "output_type": "execute_result"
    }
   ],
   "source": [
    "p = \"66\"\n",
    "q = 7\n",
    "int(p) + q"
   ]
  },
  {
   "cell_type": "code",
   "execution_count": 20,
   "id": "7c2dfbc9",
   "metadata": {
    "execution": {
     "iopub.execute_input": "2023-10-25T17:37:12.951415Z",
     "iopub.status.busy": "2023-10-25T17:37:12.950124Z",
     "iopub.status.idle": "2023-10-25T17:37:12.957551Z",
     "shell.execute_reply": "2023-10-25T17:37:12.956513Z"
    },
    "papermill": {
     "duration": 0.081766,
     "end_time": "2023-10-25T17:37:12.959719",
     "exception": false,
     "start_time": "2023-10-25T17:37:12.877953",
     "status": "completed"
    },
    "tags": []
   },
   "outputs": [
    {
     "data": {
      "text/plain": [
       "8"
      ]
     },
     "execution_count": 20,
     "metadata": {},
     "output_type": "execute_result"
    }
   ],
   "source": [
    "a = 7\n",
    "b = 8\n",
    "b"
   ]
  },
  {
   "cell_type": "code",
   "execution_count": 21,
   "id": "28e896a8",
   "metadata": {
    "execution": {
     "iopub.execute_input": "2023-10-25T17:37:13.100253Z",
     "iopub.status.busy": "2023-10-25T17:37:13.099574Z",
     "iopub.status.idle": "2023-10-25T17:37:13.106367Z",
     "shell.execute_reply": "2023-10-25T17:37:13.105351Z"
    },
    "papermill": {
     "duration": 0.079443,
     "end_time": "2023-10-25T17:37:13.108498",
     "exception": false,
     "start_time": "2023-10-25T17:37:13.029055",
     "status": "completed"
    },
    "tags": []
   },
   "outputs": [
    {
     "data": {
      "text/plain": [
       "8"
      ]
     },
     "execution_count": 21,
     "metadata": {},
     "output_type": "execute_result"
    }
   ],
   "source": [
    "a,b = 7,8\n",
    "b"
   ]
  },
  {
   "cell_type": "code",
   "execution_count": 22,
   "id": "af44e11a",
   "metadata": {
    "execution": {
     "iopub.execute_input": "2023-10-25T17:37:13.249334Z",
     "iopub.status.busy": "2023-10-25T17:37:13.248620Z",
     "iopub.status.idle": "2023-10-25T17:37:13.255457Z",
     "shell.execute_reply": "2023-10-25T17:37:13.254364Z"
    },
    "papermill": {
     "duration": 0.080018,
     "end_time": "2023-10-25T17:37:13.257580",
     "exception": false,
     "start_time": "2023-10-25T17:37:13.177562",
     "status": "completed"
    },
    "tags": []
   },
   "outputs": [
    {
     "data": {
      "text/plain": [
       "7"
      ]
     },
     "execution_count": 22,
     "metadata": {},
     "output_type": "execute_result"
    }
   ],
   "source": [
    "abhi7 = 7\n",
    "abhi7"
   ]
  },
  {
   "cell_type": "code",
   "execution_count": 23,
   "id": "b9106022",
   "metadata": {
    "execution": {
     "iopub.execute_input": "2023-10-25T17:37:13.401113Z",
     "iopub.status.busy": "2023-10-25T17:37:13.399859Z",
     "iopub.status.idle": "2023-10-25T17:37:13.406758Z",
     "shell.execute_reply": "2023-10-25T17:37:13.405424Z"
    },
    "papermill": {
     "duration": 0.082002,
     "end_time": "2023-10-25T17:37:13.409261",
     "exception": false,
     "start_time": "2023-10-25T17:37:13.327259",
     "status": "completed"
    },
    "tags": []
   },
   "outputs": [
    {
     "name": "stdout",
     "output_type": "stream",
     "text": [
      "Sally\n"
     ]
    }
   ],
   "source": [
    "x = 4       # x is of type int\n",
    "x = \"Sally\" # x is now of type str\n",
    "print(x)"
   ]
  },
  {
   "cell_type": "code",
   "execution_count": 24,
   "id": "2ee58cd7",
   "metadata": {
    "execution": {
     "iopub.execute_input": "2023-10-25T17:37:13.550574Z",
     "iopub.status.busy": "2023-10-25T17:37:13.550121Z",
     "iopub.status.idle": "2023-10-25T17:37:13.556462Z",
     "shell.execute_reply": "2023-10-25T17:37:13.555081Z"
    },
    "papermill": {
     "duration": 0.080467,
     "end_time": "2023-10-25T17:37:13.559191",
     "exception": false,
     "start_time": "2023-10-25T17:37:13.478724",
     "status": "completed"
    },
    "tags": []
   },
   "outputs": [
    {
     "name": "stdout",
     "output_type": "stream",
     "text": [
      "4\n"
     ]
    }
   ],
   "source": [
    "x = 4       # x is of type int\n",
    "print(x)\n",
    "x = \"Sally\" # x is now of type str\n"
   ]
  },
  {
   "cell_type": "code",
   "execution_count": 25,
   "id": "0a763608",
   "metadata": {
    "execution": {
     "iopub.execute_input": "2023-10-25T17:37:13.699532Z",
     "iopub.status.busy": "2023-10-25T17:37:13.698878Z",
     "iopub.status.idle": "2023-10-25T17:37:13.705052Z",
     "shell.execute_reply": "2023-10-25T17:37:13.703753Z"
    },
    "papermill": {
     "duration": 0.078789,
     "end_time": "2023-10-25T17:37:13.707238",
     "exception": false,
     "start_time": "2023-10-25T17:37:13.628449",
     "status": "completed"
    },
    "tags": []
   },
   "outputs": [
    {
     "name": "stdout",
     "output_type": "stream",
     "text": [
      "7\n"
     ]
    }
   ],
   "source": [
    "# o/p\n",
    "a= 7\n",
    "print(a)"
   ]
  },
  {
   "cell_type": "code",
   "execution_count": 26,
   "id": "ac34c0cf",
   "metadata": {
    "execution": {
     "iopub.execute_input": "2023-10-25T17:37:13.850124Z",
     "iopub.status.busy": "2023-10-25T17:37:13.849749Z",
     "iopub.status.idle": "2023-10-25T17:37:13.854409Z",
     "shell.execute_reply": "2023-10-25T17:37:13.853187Z"
    },
    "papermill": {
     "duration": 0.079319,
     "end_time": "2023-10-25T17:37:13.856811",
     "exception": false,
     "start_time": "2023-10-25T17:37:13.777492",
     "status": "completed"
    },
    "tags": []
   },
   "outputs": [],
   "source": [
    "# a = int(input())\n",
    "# print(a+1)"
   ]
  },
  {
   "cell_type": "code",
   "execution_count": 27,
   "id": "075ead9a",
   "metadata": {
    "execution": {
     "iopub.execute_input": "2023-10-25T17:37:14.000058Z",
     "iopub.status.busy": "2023-10-25T17:37:13.999693Z",
     "iopub.status.idle": "2023-10-25T17:37:14.005240Z",
     "shell.execute_reply": "2023-10-25T17:37:14.004506Z"
    },
    "papermill": {
     "duration": 0.080505,
     "end_time": "2023-10-25T17:37:14.007491",
     "exception": false,
     "start_time": "2023-10-25T17:37:13.926986",
     "status": "completed"
    },
    "tags": []
   },
   "outputs": [
    {
     "data": {
      "text/plain": [
       "13"
      ]
     },
     "execution_count": 27,
     "metadata": {},
     "output_type": "execute_result"
    }
   ],
   "source": [
    "a = 6 + 7\n",
    "a"
   ]
  },
  {
   "cell_type": "code",
   "execution_count": 28,
   "id": "572208b2",
   "metadata": {
    "execution": {
     "iopub.execute_input": "2023-10-25T17:37:14.151571Z",
     "iopub.status.busy": "2023-10-25T17:37:14.151202Z",
     "iopub.status.idle": "2023-10-25T17:37:14.157536Z",
     "shell.execute_reply": "2023-10-25T17:37:14.156526Z"
    },
    "papermill": {
     "duration": 0.080495,
     "end_time": "2023-10-25T17:37:14.159683",
     "exception": false,
     "start_time": "2023-10-25T17:37:14.079188",
     "status": "completed"
    },
    "tags": []
   },
   "outputs": [
    {
     "data": {
      "text/plain": [
       "'da50'"
      ]
     },
     "execution_count": 28,
     "metadata": {},
     "output_type": "execute_result"
    }
   ],
   "source": [
    "b = \"da\" + str(50)\n",
    "b"
   ]
  },
  {
   "cell_type": "code",
   "execution_count": 29,
   "id": "093c3cf9",
   "metadata": {
    "execution": {
     "iopub.execute_input": "2023-10-25T17:37:14.304360Z",
     "iopub.status.busy": "2023-10-25T17:37:14.303753Z",
     "iopub.status.idle": "2023-10-25T17:37:14.311021Z",
     "shell.execute_reply": "2023-10-25T17:37:14.309790Z"
    },
    "papermill": {
     "duration": 0.086912,
     "end_time": "2023-10-25T17:37:14.316980",
     "exception": false,
     "start_time": "2023-10-25T17:37:14.230068",
     "status": "completed"
    },
    "tags": []
   },
   "outputs": [
    {
     "name": "stdout",
     "output_type": "stream",
     "text": [
      "5 John\n"
     ]
    }
   ],
   "source": [
    "x = 5\n",
    "y = \"John\"\n",
    "print(x, y)"
   ]
  },
  {
   "cell_type": "code",
   "execution_count": 30,
   "id": "7548864e",
   "metadata": {
    "execution": {
     "iopub.execute_input": "2023-10-25T17:37:14.476175Z",
     "iopub.status.busy": "2023-10-25T17:37:14.475821Z",
     "iopub.status.idle": "2023-10-25T17:37:14.480193Z",
     "shell.execute_reply": "2023-10-25T17:37:14.479195Z"
    },
    "papermill": {
     "duration": 0.084333,
     "end_time": "2023-10-25T17:37:14.482362",
     "exception": false,
     "start_time": "2023-10-25T17:37:14.398029",
     "status": "completed"
    },
    "tags": []
   },
   "outputs": [],
   "source": [
    "a = 6 \n",
    "a = 7"
   ]
  },
  {
   "cell_type": "markdown",
   "id": "1faf88c0",
   "metadata": {
    "papermill": {
     "duration": 0.072818,
     "end_time": "2023-10-25T17:37:14.644364",
     "exception": false,
     "start_time": "2023-10-25T17:37:14.571546",
     "status": "completed"
    },
    "tags": []
   },
   "source": [
    "# data  structures\n"
   ]
  },
  {
   "cell_type": "markdown",
   "id": "e677d164",
   "metadata": {
    "papermill": {
     "duration": 0.073032,
     "end_time": "2023-10-25T17:37:14.792146",
     "exception": false,
     "start_time": "2023-10-25T17:37:14.719114",
     "status": "completed"
    },
    "tags": []
   },
   "source": [
    "# List  [ ] "
   ]
  },
  {
   "cell_type": "code",
   "execution_count": 31,
   "id": "56b8ecf6",
   "metadata": {
    "execution": {
     "iopub.execute_input": "2023-10-25T17:37:14.937377Z",
     "iopub.status.busy": "2023-10-25T17:37:14.936965Z",
     "iopub.status.idle": "2023-10-25T17:37:14.943390Z",
     "shell.execute_reply": "2023-10-25T17:37:14.942561Z"
    },
    "papermill": {
     "duration": 0.081878,
     "end_time": "2023-10-25T17:37:14.945559",
     "exception": false,
     "start_time": "2023-10-25T17:37:14.863681",
     "status": "completed"
    },
    "tags": []
   },
   "outputs": [
    {
     "data": {
      "text/plain": [
       "11"
      ]
     },
     "execution_count": 31,
     "metadata": {},
     "output_type": "execute_result"
    }
   ],
   "source": [
    "a = [11,28,34,45,57]\n",
    "a[0]\n",
    "\n"
   ]
  },
  {
   "cell_type": "code",
   "execution_count": 32,
   "id": "9216684d",
   "metadata": {
    "execution": {
     "iopub.execute_input": "2023-10-25T17:37:15.090373Z",
     "iopub.status.busy": "2023-10-25T17:37:15.089965Z",
     "iopub.status.idle": "2023-10-25T17:37:15.096197Z",
     "shell.execute_reply": "2023-10-25T17:37:15.095144Z"
    },
    "papermill": {
     "duration": 0.081476,
     "end_time": "2023-10-25T17:37:15.098482",
     "exception": false,
     "start_time": "2023-10-25T17:37:15.017006",
     "status": "completed"
    },
    "tags": []
   },
   "outputs": [
    {
     "data": {
      "text/plain": [
       "57"
      ]
     },
     "execution_count": 32,
     "metadata": {},
     "output_type": "execute_result"
    }
   ],
   "source": [
    "a[4]"
   ]
  },
  {
   "cell_type": "code",
   "execution_count": 33,
   "id": "0fec7473",
   "metadata": {
    "execution": {
     "iopub.execute_input": "2023-10-25T17:37:15.242595Z",
     "iopub.status.busy": "2023-10-25T17:37:15.242189Z",
     "iopub.status.idle": "2023-10-25T17:37:15.248853Z",
     "shell.execute_reply": "2023-10-25T17:37:15.247815Z"
    },
    "papermill": {
     "duration": 0.082075,
     "end_time": "2023-10-25T17:37:15.251175",
     "exception": false,
     "start_time": "2023-10-25T17:37:15.169100",
     "status": "completed"
    },
    "tags": []
   },
   "outputs": [
    {
     "data": {
      "text/plain": [
       "[11, 28, 34, 45, 57]"
      ]
     },
     "execution_count": 33,
     "metadata": {},
     "output_type": "execute_result"
    }
   ],
   "source": [
    "a"
   ]
  },
  {
   "cell_type": "code",
   "execution_count": 34,
   "id": "cb111cb5",
   "metadata": {
    "execution": {
     "iopub.execute_input": "2023-10-25T17:37:15.397445Z",
     "iopub.status.busy": "2023-10-25T17:37:15.397051Z",
     "iopub.status.idle": "2023-10-25T17:37:15.402799Z",
     "shell.execute_reply": "2023-10-25T17:37:15.402041Z"
    },
    "papermill": {
     "duration": 0.08233,
     "end_time": "2023-10-25T17:37:15.404809",
     "exception": false,
     "start_time": "2023-10-25T17:37:15.322479",
     "status": "completed"
    },
    "tags": []
   },
   "outputs": [
    {
     "data": {
      "text/plain": [
       "57"
      ]
     },
     "execution_count": 34,
     "metadata": {},
     "output_type": "execute_result"
    }
   ],
   "source": [
    "a[-1]"
   ]
  },
  {
   "cell_type": "code",
   "execution_count": 35,
   "id": "9c96abcf",
   "metadata": {
    "execution": {
     "iopub.execute_input": "2023-10-25T17:37:15.549949Z",
     "iopub.status.busy": "2023-10-25T17:37:15.549557Z",
     "iopub.status.idle": "2023-10-25T17:37:15.555748Z",
     "shell.execute_reply": "2023-10-25T17:37:15.554741Z"
    },
    "papermill": {
     "duration": 0.081712,
     "end_time": "2023-10-25T17:37:15.558106",
     "exception": false,
     "start_time": "2023-10-25T17:37:15.476394",
     "status": "completed"
    },
    "tags": []
   },
   "outputs": [
    {
     "data": {
      "text/plain": [
       "11"
      ]
     },
     "execution_count": 35,
     "metadata": {},
     "output_type": "execute_result"
    }
   ],
   "source": [
    "a[-5]"
   ]
  },
  {
   "cell_type": "code",
   "execution_count": 36,
   "id": "6a134f8a",
   "metadata": {
    "execution": {
     "iopub.execute_input": "2023-10-25T17:37:15.703556Z",
     "iopub.status.busy": "2023-10-25T17:37:15.703150Z",
     "iopub.status.idle": "2023-10-25T17:37:15.709570Z",
     "shell.execute_reply": "2023-10-25T17:37:15.708486Z"
    },
    "papermill": {
     "duration": 0.081798,
     "end_time": "2023-10-25T17:37:15.711924",
     "exception": false,
     "start_time": "2023-10-25T17:37:15.630126",
     "status": "completed"
    },
    "tags": []
   },
   "outputs": [
    {
     "data": {
      "text/plain": [
       "[28, 34, 45]"
      ]
     },
     "execution_count": 36,
     "metadata": {},
     "output_type": "execute_result"
    }
   ],
   "source": [
    "a[1:4]"
   ]
  },
  {
   "cell_type": "code",
   "execution_count": 37,
   "id": "a3bbea6e",
   "metadata": {
    "execution": {
     "iopub.execute_input": "2023-10-25T17:37:15.854949Z",
     "iopub.status.busy": "2023-10-25T17:37:15.854527Z",
     "iopub.status.idle": "2023-10-25T17:37:15.860092Z",
     "shell.execute_reply": "2023-10-25T17:37:15.859229Z"
    },
    "papermill": {
     "duration": 0.079691,
     "end_time": "2023-10-25T17:37:15.862212",
     "exception": false,
     "start_time": "2023-10-25T17:37:15.782521",
     "status": "completed"
    },
    "tags": []
   },
   "outputs": [],
   "source": [
    "a = [10,20,30,40 ,50,60,70,80,90]"
   ]
  },
  {
   "cell_type": "code",
   "execution_count": 38,
   "id": "a4f09699",
   "metadata": {
    "execution": {
     "iopub.execute_input": "2023-10-25T17:37:16.007471Z",
     "iopub.status.busy": "2023-10-25T17:37:16.006485Z",
     "iopub.status.idle": "2023-10-25T17:37:16.014659Z",
     "shell.execute_reply": "2023-10-25T17:37:16.013244Z"
    },
    "papermill": {
     "duration": 0.082917,
     "end_time": "2023-10-25T17:37:16.017042",
     "exception": false,
     "start_time": "2023-10-25T17:37:15.934125",
     "status": "completed"
    },
    "tags": []
   },
   "outputs": [
    {
     "data": {
      "text/plain": [
       "[20, 30, 40, 50, 60, 70, 80]"
      ]
     },
     "execution_count": 38,
     "metadata": {},
     "output_type": "execute_result"
    }
   ],
   "source": [
    "# 2 property index - list = zero -index \n",
    "a[1:8]"
   ]
  },
  {
   "cell_type": "code",
   "execution_count": 39,
   "id": "7249b658",
   "metadata": {
    "execution": {
     "iopub.execute_input": "2023-10-25T17:37:16.163426Z",
     "iopub.status.busy": "2023-10-25T17:37:16.163017Z",
     "iopub.status.idle": "2023-10-25T17:37:16.170213Z",
     "shell.execute_reply": "2023-10-25T17:37:16.169133Z"
    },
    "papermill": {
     "duration": 0.082614,
     "end_time": "2023-10-25T17:37:16.172527",
     "exception": false,
     "start_time": "2023-10-25T17:37:16.089913",
     "status": "completed"
    },
    "tags": []
   },
   "outputs": [
    {
     "data": {
      "text/plain": [
       "[20, 40, 60, 80]"
      ]
     },
     "execution_count": 39,
     "metadata": {},
     "output_type": "execute_result"
    }
   ],
   "source": [
    "a[1:8:2]"
   ]
  },
  {
   "cell_type": "code",
   "execution_count": 40,
   "id": "bd563af2",
   "metadata": {
    "execution": {
     "iopub.execute_input": "2023-10-25T17:37:16.316800Z",
     "iopub.status.busy": "2023-10-25T17:37:16.315916Z",
     "iopub.status.idle": "2023-10-25T17:37:16.323584Z",
     "shell.execute_reply": "2023-10-25T17:37:16.322533Z"
    },
    "papermill": {
     "duration": 0.082471,
     "end_time": "2023-10-25T17:37:16.325988",
     "exception": false,
     "start_time": "2023-10-25T17:37:16.243517",
     "status": "completed"
    },
    "tags": []
   },
   "outputs": [
    {
     "data": {
      "text/plain": [
       "[20, 50, 80]"
      ]
     },
     "execution_count": 40,
     "metadata": {},
     "output_type": "execute_result"
    }
   ],
   "source": [
    "a[1:-1:3]"
   ]
  },
  {
   "cell_type": "code",
   "execution_count": 41,
   "id": "693419ba",
   "metadata": {
    "execution": {
     "iopub.execute_input": "2023-10-25T17:37:16.474632Z",
     "iopub.status.busy": "2023-10-25T17:37:16.474202Z",
     "iopub.status.idle": "2023-10-25T17:37:16.480411Z",
     "shell.execute_reply": "2023-10-25T17:37:16.479562Z"
    },
    "papermill": {
     "duration": 0.081845,
     "end_time": "2023-10-25T17:37:16.482477",
     "exception": false,
     "start_time": "2023-10-25T17:37:16.400632",
     "status": "completed"
    },
    "tags": []
   },
   "outputs": [
    {
     "data": {
      "text/plain": [
       "[10, 20, 30, 40, 50, 60, 70, 80, 90]"
      ]
     },
     "execution_count": 41,
     "metadata": {},
     "output_type": "execute_result"
    }
   ],
   "source": [
    "# property of 1 of list \n",
    "# mutabilty\n",
    "\n",
    "a "
   ]
  },
  {
   "cell_type": "code",
   "execution_count": 42,
   "id": "ab6cbb10",
   "metadata": {
    "execution": {
     "iopub.execute_input": "2023-10-25T17:37:16.626083Z",
     "iopub.status.busy": "2023-10-25T17:37:16.625371Z",
     "iopub.status.idle": "2023-10-25T17:37:16.631811Z",
     "shell.execute_reply": "2023-10-25T17:37:16.630366Z"
    },
    "papermill": {
     "duration": 0.080645,
     "end_time": "2023-10-25T17:37:16.633898",
     "exception": false,
     "start_time": "2023-10-25T17:37:16.553253",
     "status": "completed"
    },
    "tags": []
   },
   "outputs": [
    {
     "data": {
      "text/plain": [
       "10"
      ]
     },
     "execution_count": 42,
     "metadata": {},
     "output_type": "execute_result"
    }
   ],
   "source": [
    "a[0]"
   ]
  },
  {
   "cell_type": "code",
   "execution_count": 43,
   "id": "519aa5b3",
   "metadata": {
    "execution": {
     "iopub.execute_input": "2023-10-25T17:37:16.778534Z",
     "iopub.status.busy": "2023-10-25T17:37:16.778138Z",
     "iopub.status.idle": "2023-10-25T17:37:16.785702Z",
     "shell.execute_reply": "2023-10-25T17:37:16.784686Z"
    },
    "papermill": {
     "duration": 0.083059,
     "end_time": "2023-10-25T17:37:16.787994",
     "exception": false,
     "start_time": "2023-10-25T17:37:16.704935",
     "status": "completed"
    },
    "tags": []
   },
   "outputs": [
    {
     "data": {
      "text/plain": [
       "[900, 20, 30, 40, 50, 60, 70, 80, 90]"
      ]
     },
     "execution_count": 43,
     "metadata": {},
     "output_type": "execute_result"
    }
   ],
   "source": [
    "a[0] = 900\n",
    "a"
   ]
  },
  {
   "cell_type": "code",
   "execution_count": 44,
   "id": "118bd2c2",
   "metadata": {
    "execution": {
     "iopub.execute_input": "2023-10-25T17:37:16.935134Z",
     "iopub.status.busy": "2023-10-25T17:37:16.934749Z",
     "iopub.status.idle": "2023-10-25T17:37:16.941370Z",
     "shell.execute_reply": "2023-10-25T17:37:16.940259Z"
    },
    "papermill": {
     "duration": 0.082022,
     "end_time": "2023-10-25T17:37:16.943643",
     "exception": false,
     "start_time": "2023-10-25T17:37:16.861621",
     "status": "completed"
    },
    "tags": []
   },
   "outputs": [
    {
     "data": {
      "text/plain": [
       "list"
      ]
     },
     "execution_count": 44,
     "metadata": {},
     "output_type": "execute_result"
    }
   ],
   "source": [
    "type(a)"
   ]
  },
  {
   "cell_type": "markdown",
   "id": "1470583d",
   "metadata": {
    "papermill": {
     "duration": 0.072314,
     "end_time": "2023-10-25T17:37:17.089489",
     "exception": false,
     "start_time": "2023-10-25T17:37:17.017175",
     "status": "completed"
    },
    "tags": []
   },
   "source": [
    "# tuple  (  )"
   ]
  },
  {
   "cell_type": "code",
   "execution_count": 45,
   "id": "6b20602f",
   "metadata": {
    "execution": {
     "iopub.execute_input": "2023-10-25T17:37:17.235527Z",
     "iopub.status.busy": "2023-10-25T17:37:17.235155Z",
     "iopub.status.idle": "2023-10-25T17:37:17.241452Z",
     "shell.execute_reply": "2023-10-25T17:37:17.240615Z"
    },
    "papermill": {
     "duration": 0.082122,
     "end_time": "2023-10-25T17:37:17.243588",
     "exception": false,
     "start_time": "2023-10-25T17:37:17.161466",
     "status": "completed"
    },
    "tags": []
   },
   "outputs": [
    {
     "data": {
      "text/plain": [
       "10"
      ]
     },
     "execution_count": 45,
     "metadata": {},
     "output_type": "execute_result"
    }
   ],
   "source": [
    "b = (10,20,30,40,50)\n",
    "b[0]"
   ]
  },
  {
   "cell_type": "code",
   "execution_count": 46,
   "id": "41c9e94a",
   "metadata": {
    "execution": {
     "iopub.execute_input": "2023-10-25T17:37:17.391223Z",
     "iopub.status.busy": "2023-10-25T17:37:17.390862Z",
     "iopub.status.idle": "2023-10-25T17:37:17.397947Z",
     "shell.execute_reply": "2023-10-25T17:37:17.396788Z"
    },
    "papermill": {
     "duration": 0.084196,
     "end_time": "2023-10-25T17:37:17.400370",
     "exception": false,
     "start_time": "2023-10-25T17:37:17.316174",
     "status": "completed"
    },
    "tags": []
   },
   "outputs": [
    {
     "data": {
      "text/plain": [
       "tuple"
      ]
     },
     "execution_count": 46,
     "metadata": {},
     "output_type": "execute_result"
    }
   ],
   "source": [
    "type(b)"
   ]
  },
  {
   "cell_type": "code",
   "execution_count": 47,
   "id": "fd6aa5ac",
   "metadata": {
    "execution": {
     "iopub.execute_input": "2023-10-25T17:37:17.549524Z",
     "iopub.status.busy": "2023-10-25T17:37:17.549099Z",
     "iopub.status.idle": "2023-10-25T17:37:17.555610Z",
     "shell.execute_reply": "2023-10-25T17:37:17.554845Z"
    },
    "papermill": {
     "duration": 0.083832,
     "end_time": "2023-10-25T17:37:17.557732",
     "exception": false,
     "start_time": "2023-10-25T17:37:17.473900",
     "status": "completed"
    },
    "tags": []
   },
   "outputs": [
    {
     "data": {
      "text/plain": [
       "50"
      ]
     },
     "execution_count": 47,
     "metadata": {},
     "output_type": "execute_result"
    }
   ],
   "source": [
    "b[4]"
   ]
  },
  {
   "cell_type": "code",
   "execution_count": 48,
   "id": "a84945b4",
   "metadata": {
    "execution": {
     "iopub.execute_input": "2023-10-25T17:37:17.706139Z",
     "iopub.status.busy": "2023-10-25T17:37:17.705767Z",
     "iopub.status.idle": "2023-10-25T17:37:17.713355Z",
     "shell.execute_reply": "2023-10-25T17:37:17.712095Z"
    },
    "papermill": {
     "duration": 0.084255,
     "end_time": "2023-10-25T17:37:17.715813",
     "exception": false,
     "start_time": "2023-10-25T17:37:17.631558",
     "status": "completed"
    },
    "tags": []
   },
   "outputs": [
    {
     "data": {
      "text/plain": [
       "50"
      ]
     },
     "execution_count": 48,
     "metadata": {},
     "output_type": "execute_result"
    }
   ],
   "source": [
    "b[-1]"
   ]
  },
  {
   "cell_type": "code",
   "execution_count": 49,
   "id": "b61843cf",
   "metadata": {
    "execution": {
     "iopub.execute_input": "2023-10-25T17:37:17.860802Z",
     "iopub.status.busy": "2023-10-25T17:37:17.860403Z",
     "iopub.status.idle": "2023-10-25T17:37:17.865808Z",
     "shell.execute_reply": "2023-10-25T17:37:17.864515Z"
    },
    "papermill": {
     "duration": 0.080894,
     "end_time": "2023-10-25T17:37:17.868248",
     "exception": false,
     "start_time": "2023-10-25T17:37:17.787354",
     "status": "completed"
    },
    "tags": []
   },
   "outputs": [],
   "source": [
    "# property 2 of tuple - zero index "
   ]
  },
  {
   "cell_type": "code",
   "execution_count": 50,
   "id": "e96db007",
   "metadata": {
    "execution": {
     "iopub.execute_input": "2023-10-25T17:37:18.110460Z",
     "iopub.status.busy": "2023-10-25T17:37:18.109135Z",
     "iopub.status.idle": "2023-10-25T17:37:18.113927Z",
     "shell.execute_reply": "2023-10-25T17:37:18.113051Z"
    },
    "papermill": {
     "duration": 0.082045,
     "end_time": "2023-10-25T17:37:18.116156",
     "exception": false,
     "start_time": "2023-10-25T17:37:18.034111",
     "status": "completed"
    },
    "tags": []
   },
   "outputs": [],
   "source": [
    "# b[0] = 10"
   ]
  },
  {
   "cell_type": "code",
   "execution_count": 51,
   "id": "1cf85959",
   "metadata": {
    "execution": {
     "iopub.execute_input": "2023-10-25T17:37:18.266331Z",
     "iopub.status.busy": "2023-10-25T17:37:18.265884Z",
     "iopub.status.idle": "2023-10-25T17:37:18.270886Z",
     "shell.execute_reply": "2023-10-25T17:37:18.269570Z"
    },
    "papermill": {
     "duration": 0.083068,
     "end_time": "2023-10-25T17:37:18.273467",
     "exception": false,
     "start_time": "2023-10-25T17:37:18.190399",
     "status": "completed"
    },
    "tags": []
   },
   "outputs": [],
   "source": [
    "# property immutabilty - ypu cant change elements in a list"
   ]
  },
  {
   "cell_type": "code",
   "execution_count": 52,
   "id": "30053451",
   "metadata": {
    "execution": {
     "iopub.execute_input": "2023-10-25T17:37:18.424236Z",
     "iopub.status.busy": "2023-10-25T17:37:18.422983Z",
     "iopub.status.idle": "2023-10-25T17:37:18.427489Z",
     "shell.execute_reply": "2023-10-25T17:37:18.426733Z"
    },
    "papermill": {
     "duration": 0.082599,
     "end_time": "2023-10-25T17:37:18.429609",
     "exception": false,
     "start_time": "2023-10-25T17:37:18.347010",
     "status": "completed"
    },
    "tags": []
   },
   "outputs": [],
   "source": [
    "# set "
   ]
  },
  {
   "cell_type": "markdown",
   "id": "6031eaef",
   "metadata": {
    "papermill": {
     "duration": 0.072701,
     "end_time": "2023-10-25T17:37:18.576723",
     "exception": false,
     "start_time": "2023-10-25T17:37:18.504022",
     "status": "completed"
    },
    "tags": []
   },
   "source": [
    "{ }"
   ]
  },
  {
   "cell_type": "code",
   "execution_count": 53,
   "id": "fdcc622b",
   "metadata": {
    "execution": {
     "iopub.execute_input": "2023-10-25T17:37:18.724296Z",
     "iopub.status.busy": "2023-10-25T17:37:18.723532Z",
     "iopub.status.idle": "2023-10-25T17:37:18.727925Z",
     "shell.execute_reply": "2023-10-25T17:37:18.727143Z"
    },
    "papermill": {
     "duration": 0.08049,
     "end_time": "2023-10-25T17:37:18.730059",
     "exception": false,
     "start_time": "2023-10-25T17:37:18.649569",
     "status": "completed"
    },
    "tags": []
   },
   "outputs": [],
   "source": [
    "c = {10,20,30,40}"
   ]
  },
  {
   "cell_type": "code",
   "execution_count": 54,
   "id": "2329acd6",
   "metadata": {
    "execution": {
     "iopub.execute_input": "2023-10-25T17:37:18.878548Z",
     "iopub.status.busy": "2023-10-25T17:37:18.877813Z",
     "iopub.status.idle": "2023-10-25T17:37:18.883557Z",
     "shell.execute_reply": "2023-10-25T17:37:18.882728Z"
    },
    "papermill": {
     "duration": 0.0821,
     "end_time": "2023-10-25T17:37:18.885661",
     "exception": false,
     "start_time": "2023-10-25T17:37:18.803561",
     "status": "completed"
    },
    "tags": []
   },
   "outputs": [
    {
     "data": {
      "text/plain": [
       "{10, 20, 30, 40}"
      ]
     },
     "execution_count": 54,
     "metadata": {},
     "output_type": "execute_result"
    }
   ],
   "source": [
    "c"
   ]
  },
  {
   "cell_type": "code",
   "execution_count": 55,
   "id": "6b8b7e7d",
   "metadata": {
    "execution": {
     "iopub.execute_input": "2023-10-25T17:37:19.036113Z",
     "iopub.status.busy": "2023-10-25T17:37:19.035363Z",
     "iopub.status.idle": "2023-10-25T17:37:19.039771Z",
     "shell.execute_reply": "2023-10-25T17:37:19.038961Z"
    },
    "papermill": {
     "duration": 0.083499,
     "end_time": "2023-10-25T17:37:19.041866",
     "exception": false,
     "start_time": "2023-10-25T17:37:18.958367",
     "status": "completed"
    },
    "tags": []
   },
   "outputs": [],
   "source": [
    "d = {10,20,10,20}"
   ]
  },
  {
   "cell_type": "code",
   "execution_count": 56,
   "id": "462b495d",
   "metadata": {
    "execution": {
     "iopub.execute_input": "2023-10-25T17:37:19.189819Z",
     "iopub.status.busy": "2023-10-25T17:37:19.189071Z",
     "iopub.status.idle": "2023-10-25T17:37:19.194902Z",
     "shell.execute_reply": "2023-10-25T17:37:19.193965Z"
    },
    "papermill": {
     "duration": 0.082352,
     "end_time": "2023-10-25T17:37:19.196982",
     "exception": false,
     "start_time": "2023-10-25T17:37:19.114630",
     "status": "completed"
    },
    "tags": []
   },
   "outputs": [
    {
     "data": {
      "text/plain": [
       "{10, 20}"
      ]
     },
     "execution_count": 56,
     "metadata": {},
     "output_type": "execute_result"
    }
   ],
   "source": [
    "d"
   ]
  },
  {
   "cell_type": "code",
   "execution_count": 57,
   "id": "39ddc5fd",
   "metadata": {
    "execution": {
     "iopub.execute_input": "2023-10-25T17:37:19.344521Z",
     "iopub.status.busy": "2023-10-25T17:37:19.343526Z",
     "iopub.status.idle": "2023-10-25T17:37:19.348041Z",
     "shell.execute_reply": "2023-10-25T17:37:19.347219Z"
    },
    "papermill": {
     "duration": 0.080572,
     "end_time": "2023-10-25T17:37:19.350221",
     "exception": false,
     "start_time": "2023-10-25T17:37:19.269649",
     "status": "completed"
    },
    "tags": []
   },
   "outputs": [],
   "source": [
    "# # property 1 \n",
    "\n",
    "# unique elements only "
   ]
  },
  {
   "cell_type": "code",
   "execution_count": 58,
   "id": "6b55358c",
   "metadata": {
    "execution": {
     "iopub.execute_input": "2023-10-25T17:37:19.499542Z",
     "iopub.status.busy": "2023-10-25T17:37:19.498807Z",
     "iopub.status.idle": "2023-10-25T17:37:19.504534Z",
     "shell.execute_reply": "2023-10-25T17:37:19.503469Z"
    },
    "papermill": {
     "duration": 0.082809,
     "end_time": "2023-10-25T17:37:19.506744",
     "exception": false,
     "start_time": "2023-10-25T17:37:19.423935",
     "status": "completed"
    },
    "tags": []
   },
   "outputs": [
    {
     "data": {
      "text/plain": [
       "{10, 20}"
      ]
     },
     "execution_count": 58,
     "metadata": {},
     "output_type": "execute_result"
    }
   ],
   "source": [
    "# property \n",
    "# there is no index in set \n",
    "\n",
    "d"
   ]
  },
  {
   "cell_type": "code",
   "execution_count": 59,
   "id": "385fb7b2",
   "metadata": {
    "execution": {
     "iopub.execute_input": "2023-10-25T17:37:19.654417Z",
     "iopub.status.busy": "2023-10-25T17:37:19.653708Z",
     "iopub.status.idle": "2023-10-25T17:37:19.658146Z",
     "shell.execute_reply": "2023-10-25T17:37:19.656750Z"
    },
    "papermill": {
     "duration": 0.081313,
     "end_time": "2023-10-25T17:37:19.660507",
     "exception": false,
     "start_time": "2023-10-25T17:37:19.579194",
     "status": "completed"
    },
    "tags": []
   },
   "outputs": [],
   "source": [
    "# d[0]"
   ]
  },
  {
   "cell_type": "markdown",
   "id": "88d32901",
   "metadata": {
    "papermill": {
     "duration": 0.073503,
     "end_time": "2023-10-25T17:37:19.806529",
     "exception": false,
     "start_time": "2023-10-25T17:37:19.733026",
     "status": "completed"
    },
    "tags": []
   },
   "source": [
    "# dictionary  ( ) "
   ]
  },
  {
   "cell_type": "code",
   "execution_count": 60,
   "id": "e56808f6",
   "metadata": {
    "execution": {
     "iopub.execute_input": "2023-10-25T17:37:19.956005Z",
     "iopub.status.busy": "2023-10-25T17:37:19.955300Z",
     "iopub.status.idle": "2023-10-25T17:37:19.959711Z",
     "shell.execute_reply": "2023-10-25T17:37:19.958824Z"
    },
    "papermill": {
     "duration": 0.082132,
     "end_time": "2023-10-25T17:37:19.961865",
     "exception": false,
     "start_time": "2023-10-25T17:37:19.879733",
     "status": "completed"
    },
    "tags": []
   },
   "outputs": [],
   "source": [
    "t = { \"beautiful\"   : \"swapna is a beautiful women\",\n",
    "    \"smart\" : \"tayyab is a smart person\",\n",
    "    \"clever\" : \"parth is clever\"}"
   ]
  },
  {
   "cell_type": "code",
   "execution_count": 61,
   "id": "e85a5272",
   "metadata": {
    "execution": {
     "iopub.execute_input": "2023-10-25T17:37:20.112530Z",
     "iopub.status.busy": "2023-10-25T17:37:20.111903Z",
     "iopub.status.idle": "2023-10-25T17:37:20.115852Z",
     "shell.execute_reply": "2023-10-25T17:37:20.115140Z"
    },
    "papermill": {
     "duration": 0.081223,
     "end_time": "2023-10-25T17:37:20.117935",
     "exception": false,
     "start_time": "2023-10-25T17:37:20.036712",
     "status": "completed"
    },
    "tags": []
   },
   "outputs": [],
   "source": [
    "# property index - key index"
   ]
  },
  {
   "cell_type": "code",
   "execution_count": 62,
   "id": "a92477df",
   "metadata": {
    "execution": {
     "iopub.execute_input": "2023-10-25T17:37:20.265500Z",
     "iopub.status.busy": "2023-10-25T17:37:20.265124Z",
     "iopub.status.idle": "2023-10-25T17:37:20.271855Z",
     "shell.execute_reply": "2023-10-25T17:37:20.270822Z"
    },
    "papermill": {
     "duration": 0.08321,
     "end_time": "2023-10-25T17:37:20.274063",
     "exception": false,
     "start_time": "2023-10-25T17:37:20.190853",
     "status": "completed"
    },
    "tags": []
   },
   "outputs": [
    {
     "data": {
      "text/plain": [
       "dict_keys(['beautiful', 'smart', 'clever'])"
      ]
     },
     "execution_count": 62,
     "metadata": {},
     "output_type": "execute_result"
    }
   ],
   "source": [
    "t.keys()"
   ]
  },
  {
   "cell_type": "code",
   "execution_count": 63,
   "id": "bb14c1b3",
   "metadata": {
    "execution": {
     "iopub.execute_input": "2023-10-25T17:37:20.424521Z",
     "iopub.status.busy": "2023-10-25T17:37:20.424129Z",
     "iopub.status.idle": "2023-10-25T17:37:20.430893Z",
     "shell.execute_reply": "2023-10-25T17:37:20.429794Z"
    },
    "papermill": {
     "duration": 0.08607,
     "end_time": "2023-10-25T17:37:20.433425",
     "exception": false,
     "start_time": "2023-10-25T17:37:20.347355",
     "status": "completed"
    },
    "tags": []
   },
   "outputs": [
    {
     "data": {
      "text/plain": [
       "'swapna is a beautiful women'"
      ]
     },
     "execution_count": 63,
     "metadata": {},
     "output_type": "execute_result"
    }
   ],
   "source": [
    "t[\"beautiful\"]"
   ]
  },
  {
   "cell_type": "code",
   "execution_count": 64,
   "id": "7e440126",
   "metadata": {
    "execution": {
     "iopub.execute_input": "2023-10-25T17:37:20.582123Z",
     "iopub.status.busy": "2023-10-25T17:37:20.581326Z",
     "iopub.status.idle": "2023-10-25T17:37:20.588595Z",
     "shell.execute_reply": "2023-10-25T17:37:20.587366Z"
    },
    "papermill": {
     "duration": 0.083665,
     "end_time": "2023-10-25T17:37:20.590992",
     "exception": false,
     "start_time": "2023-10-25T17:37:20.507327",
     "status": "completed"
    },
    "tags": []
   },
   "outputs": [
    {
     "data": {
      "text/plain": [
       "'parth is clever'"
      ]
     },
     "execution_count": 64,
     "metadata": {},
     "output_type": "execute_result"
    }
   ],
   "source": [
    "t[\"clever\"]"
   ]
  },
  {
   "cell_type": "code",
   "execution_count": 65,
   "id": "d8c59097",
   "metadata": {
    "execution": {
     "iopub.execute_input": "2023-10-25T17:37:20.738703Z",
     "iopub.status.busy": "2023-10-25T17:37:20.737813Z",
     "iopub.status.idle": "2023-10-25T17:37:20.745009Z",
     "shell.execute_reply": "2023-10-25T17:37:20.743924Z"
    },
    "papermill": {
     "duration": 0.083873,
     "end_time": "2023-10-25T17:37:20.747345",
     "exception": false,
     "start_time": "2023-10-25T17:37:20.663472",
     "status": "completed"
    },
    "tags": []
   },
   "outputs": [
    {
     "data": {
      "text/plain": [
       "dict_keys(['beautiful', 'smart', 'clever'])"
      ]
     },
     "execution_count": 65,
     "metadata": {},
     "output_type": "execute_result"
    }
   ],
   "source": [
    "t.keys()"
   ]
  },
  {
   "cell_type": "code",
   "execution_count": 66,
   "id": "a7c11f4a",
   "metadata": {
    "execution": {
     "iopub.execute_input": "2023-10-25T17:37:20.896217Z",
     "iopub.status.busy": "2023-10-25T17:37:20.895476Z",
     "iopub.status.idle": "2023-10-25T17:37:20.902198Z",
     "shell.execute_reply": "2023-10-25T17:37:20.901256Z"
    },
    "papermill": {
     "duration": 0.08321,
     "end_time": "2023-10-25T17:37:20.904461",
     "exception": false,
     "start_time": "2023-10-25T17:37:20.821251",
     "status": "completed"
    },
    "tags": []
   },
   "outputs": [
    {
     "data": {
      "text/plain": [
       "dict_values(['swapna is a beautiful women', 'tayyab is a smart person', 'parth is clever'])"
      ]
     },
     "execution_count": 66,
     "metadata": {},
     "output_type": "execute_result"
    }
   ],
   "source": [
    "t.values()"
   ]
  },
  {
   "cell_type": "code",
   "execution_count": 67,
   "id": "e622c951",
   "metadata": {
    "execution": {
     "iopub.execute_input": "2023-10-25T17:37:21.051789Z",
     "iopub.status.busy": "2023-10-25T17:37:21.050949Z",
     "iopub.status.idle": "2023-10-25T17:37:21.057796Z",
     "shell.execute_reply": "2023-10-25T17:37:21.056864Z"
    },
    "papermill": {
     "duration": 0.082937,
     "end_time": "2023-10-25T17:37:21.060076",
     "exception": false,
     "start_time": "2023-10-25T17:37:20.977139",
     "status": "completed"
    },
    "tags": []
   },
   "outputs": [
    {
     "data": {
      "text/plain": [
       "dict_items([('beautiful', 'swapna is a beautiful women'), ('smart', 'tayyab is a smart person'), ('clever', 'parth is clever')])"
      ]
     },
     "execution_count": 67,
     "metadata": {},
     "output_type": "execute_result"
    }
   ],
   "source": [
    "t.items()"
   ]
  },
  {
   "cell_type": "code",
   "execution_count": 68,
   "id": "575081ff",
   "metadata": {
    "execution": {
     "iopub.execute_input": "2023-10-25T17:37:21.210732Z",
     "iopub.status.busy": "2023-10-25T17:37:21.209915Z",
     "iopub.status.idle": "2023-10-25T17:37:21.219193Z",
     "shell.execute_reply": "2023-10-25T17:37:21.218019Z"
    },
    "papermill": {
     "duration": 0.087994,
     "end_time": "2023-10-25T17:37:21.221840",
     "exception": false,
     "start_time": "2023-10-25T17:37:21.133846",
     "status": "completed"
    },
    "tags": []
   },
   "outputs": [
    {
     "data": {
      "text/plain": [
       "3"
      ]
     },
     "execution_count": 68,
     "metadata": {},
     "output_type": "execute_result"
    }
   ],
   "source": [
    "ch = { \"c1\" :\n",
    "                   {\"c1.1\" :  \"chapter1.1\",\n",
    "                    \n",
    "                    \"c1.2\" :  \n",
    "                             {\"c1.2.1\" : \"chapter mlv\",\n",
    "                              \"c1.2.2\" : [10,20,30,40]},\n",
    "                    \n",
    "                    \"c1.3\" :  \"chapter1.3\"},\n",
    "     \"c2\" : \"chapter2\",\n",
    "     \"c3\" : \"chapter3\"}\n",
    "\n",
    "len(ch)"
   ]
  },
  {
   "cell_type": "code",
   "execution_count": 69,
   "id": "513f01df",
   "metadata": {
    "execution": {
     "iopub.execute_input": "2023-10-25T17:37:21.371586Z",
     "iopub.status.busy": "2023-10-25T17:37:21.370794Z",
     "iopub.status.idle": "2023-10-25T17:37:21.377796Z",
     "shell.execute_reply": "2023-10-25T17:37:21.376676Z"
    },
    "papermill": {
     "duration": 0.08511,
     "end_time": "2023-10-25T17:37:21.379969",
     "exception": false,
     "start_time": "2023-10-25T17:37:21.294859",
     "status": "completed"
    },
    "tags": []
   },
   "outputs": [
    {
     "data": {
      "text/plain": [
       "10"
      ]
     },
     "execution_count": 69,
     "metadata": {},
     "output_type": "execute_result"
    }
   ],
   "source": [
    "ch[\"c1\"][\"c1.2\"][\"c1.2.2\"][0]"
   ]
  },
  {
   "cell_type": "code",
   "execution_count": 70,
   "id": "60c7c135",
   "metadata": {
    "execution": {
     "iopub.execute_input": "2023-10-25T17:37:21.529113Z",
     "iopub.status.busy": "2023-10-25T17:37:21.528370Z",
     "iopub.status.idle": "2023-10-25T17:37:21.532880Z",
     "shell.execute_reply": "2023-10-25T17:37:21.532112Z"
    },
    "papermill": {
     "duration": 0.082104,
     "end_time": "2023-10-25T17:37:21.534989",
     "exception": false,
     "start_time": "2023-10-25T17:37:21.452885",
     "status": "completed"
    },
    "tags": []
   },
   "outputs": [],
   "source": [
    "ch[\"c3\"] = \"sush\""
   ]
  },
  {
   "cell_type": "code",
   "execution_count": 71,
   "id": "d9d53fe3",
   "metadata": {
    "execution": {
     "iopub.execute_input": "2023-10-25T17:37:21.683205Z",
     "iopub.status.busy": "2023-10-25T17:37:21.682475Z",
     "iopub.status.idle": "2023-10-25T17:37:21.688817Z",
     "shell.execute_reply": "2023-10-25T17:37:21.687747Z"
    },
    "papermill": {
     "duration": 0.083277,
     "end_time": "2023-10-25T17:37:21.691181",
     "exception": false,
     "start_time": "2023-10-25T17:37:21.607904",
     "status": "completed"
    },
    "tags": []
   },
   "outputs": [
    {
     "data": {
      "text/plain": [
       "3"
      ]
     },
     "execution_count": 71,
     "metadata": {},
     "output_type": "execute_result"
    }
   ],
   "source": [
    "len(ch.items())"
   ]
  },
  {
   "cell_type": "code",
   "execution_count": 72,
   "id": "66ec5172",
   "metadata": {
    "execution": {
     "iopub.execute_input": "2023-10-25T17:37:21.841641Z",
     "iopub.status.busy": "2023-10-25T17:37:21.841152Z",
     "iopub.status.idle": "2023-10-25T17:37:21.847730Z",
     "shell.execute_reply": "2023-10-25T17:37:21.846978Z"
    },
    "papermill": {
     "duration": 0.084232,
     "end_time": "2023-10-25T17:37:21.850059",
     "exception": false,
     "start_time": "2023-10-25T17:37:21.765827",
     "status": "completed"
    },
    "tags": []
   },
   "outputs": [
    {
     "data": {
      "text/plain": [
       "{'c1': {'c1.1': 'chapter1.1',\n",
       "  'c1.2': {'c1.2.1': 'chapter mlv', 'c1.2.2': [10, 20, 30, 40]},\n",
       "  'c1.3': 'chapter1.3'},\n",
       " 'c2': 'chapter2',\n",
       " 'c3': 'sush'}"
      ]
     },
     "execution_count": 72,
     "metadata": {},
     "output_type": "execute_result"
    }
   ],
   "source": [
    "ch"
   ]
  },
  {
   "cell_type": "markdown",
   "id": "16c58b76",
   "metadata": {
    "papermill": {
     "duration": 0.074381,
     "end_time": "2023-10-25T17:37:21.998707",
     "exception": false,
     "start_time": "2023-10-25T17:37:21.924326",
     "status": "completed"
    },
    "tags": []
   },
   "source": [
    "# type\n",
    "int()\n",
    "float()\n",
    "str()"
   ]
  },
  {
   "cell_type": "markdown",
   "id": "198a2632",
   "metadata": {
    "papermill": {
     "duration": 0.073415,
     "end_time": "2023-10-25T17:37:22.145946",
     "exception": false,
     "start_time": "2023-10-25T17:37:22.072531",
     "status": "completed"
    },
    "tags": []
   },
   "source": [
    "# data structure casting\n",
    "## list()  tuple() set()  dict()"
   ]
  },
  {
   "cell_type": "code",
   "execution_count": 73,
   "id": "736c6456",
   "metadata": {
    "execution": {
     "iopub.execute_input": "2023-10-25T17:37:22.296342Z",
     "iopub.status.busy": "2023-10-25T17:37:22.295654Z",
     "iopub.status.idle": "2023-10-25T17:37:22.301898Z",
     "shell.execute_reply": "2023-10-25T17:37:22.300800Z"
    },
    "papermill": {
     "duration": 0.085138,
     "end_time": "2023-10-25T17:37:22.304073",
     "exception": false,
     "start_time": "2023-10-25T17:37:22.218935",
     "status": "completed"
    },
    "tags": []
   },
   "outputs": [
    {
     "data": {
      "text/plain": [
       "list"
      ]
     },
     "execution_count": 73,
     "metadata": {},
     "output_type": "execute_result"
    }
   ],
   "source": [
    "a = [10,20,30]\n",
    "type(a)"
   ]
  },
  {
   "cell_type": "code",
   "execution_count": 74,
   "id": "c322e2bb",
   "metadata": {
    "execution": {
     "iopub.execute_input": "2023-10-25T17:37:22.457291Z",
     "iopub.status.busy": "2023-10-25T17:37:22.456620Z",
     "iopub.status.idle": "2023-10-25T17:37:22.462310Z",
     "shell.execute_reply": "2023-10-25T17:37:22.461448Z"
    },
    "papermill": {
     "duration": 0.083979,
     "end_time": "2023-10-25T17:37:22.464421",
     "exception": false,
     "start_time": "2023-10-25T17:37:22.380442",
     "status": "completed"
    },
    "tags": []
   },
   "outputs": [
    {
     "data": {
      "text/plain": [
       "(10, 20, 30)"
      ]
     },
     "execution_count": 74,
     "metadata": {},
     "output_type": "execute_result"
    }
   ],
   "source": [
    "b = tuple(a)\n",
    "b"
   ]
  },
  {
   "cell_type": "code",
   "execution_count": 75,
   "id": "0f067413",
   "metadata": {
    "execution": {
     "iopub.execute_input": "2023-10-25T17:37:22.616447Z",
     "iopub.status.busy": "2023-10-25T17:37:22.615741Z",
     "iopub.status.idle": "2023-10-25T17:37:22.621317Z",
     "shell.execute_reply": "2023-10-25T17:37:22.620466Z"
    },
    "papermill": {
     "duration": 0.084403,
     "end_time": "2023-10-25T17:37:22.623454",
     "exception": false,
     "start_time": "2023-10-25T17:37:22.539051",
     "status": "completed"
    },
    "tags": []
   },
   "outputs": [
    {
     "data": {
      "text/plain": [
       "tuple"
      ]
     },
     "execution_count": 75,
     "metadata": {},
     "output_type": "execute_result"
    }
   ],
   "source": [
    "type(b)"
   ]
  },
  {
   "cell_type": "code",
   "execution_count": 76,
   "id": "fefc85fe",
   "metadata": {
    "execution": {
     "iopub.execute_input": "2023-10-25T17:37:22.775460Z",
     "iopub.status.busy": "2023-10-25T17:37:22.774750Z",
     "iopub.status.idle": "2023-10-25T17:37:22.779128Z",
     "shell.execute_reply": "2023-10-25T17:37:22.778356Z"
    },
    "papermill": {
     "duration": 0.083179,
     "end_time": "2023-10-25T17:37:22.781358",
     "exception": false,
     "start_time": "2023-10-25T17:37:22.698179",
     "status": "completed"
    },
    "tags": []
   },
   "outputs": [],
   "source": [
    "gg = (\"sush@gmail.com\",2564856855)\n",
    "# gg[0] = \"sush@outlook.com\""
   ]
  },
  {
   "cell_type": "code",
   "execution_count": 77,
   "id": "de1447e2",
   "metadata": {
    "execution": {
     "iopub.execute_input": "2023-10-25T17:37:22.933567Z",
     "iopub.status.busy": "2023-10-25T17:37:22.932840Z",
     "iopub.status.idle": "2023-10-25T17:37:22.938618Z",
     "shell.execute_reply": "2023-10-25T17:37:22.937650Z"
    },
    "papermill": {
     "duration": 0.08473,
     "end_time": "2023-10-25T17:37:22.940955",
     "exception": false,
     "start_time": "2023-10-25T17:37:22.856225",
     "status": "completed"
    },
    "tags": []
   },
   "outputs": [
    {
     "data": {
      "text/plain": [
       "['sush@gmail.com', 2564856855]"
      ]
     },
     "execution_count": 77,
     "metadata": {},
     "output_type": "execute_result"
    }
   ],
   "source": [
    "gg = list(gg)\n",
    "gg"
   ]
  },
  {
   "cell_type": "code",
   "execution_count": 78,
   "id": "acfaa793",
   "metadata": {
    "execution": {
     "iopub.execute_input": "2023-10-25T17:37:23.097981Z",
     "iopub.status.busy": "2023-10-25T17:37:23.097209Z",
     "iopub.status.idle": "2023-10-25T17:37:23.103891Z",
     "shell.execute_reply": "2023-10-25T17:37:23.102699Z"
    },
    "papermill": {
     "duration": 0.087834,
     "end_time": "2023-10-25T17:37:23.106236",
     "exception": false,
     "start_time": "2023-10-25T17:37:23.018402",
     "status": "completed"
    },
    "tags": []
   },
   "outputs": [
    {
     "data": {
      "text/plain": [
       "list"
      ]
     },
     "execution_count": 78,
     "metadata": {},
     "output_type": "execute_result"
    }
   ],
   "source": [
    "type(gg)"
   ]
  },
  {
   "cell_type": "code",
   "execution_count": 79,
   "id": "8efc1131",
   "metadata": {
    "execution": {
     "iopub.execute_input": "2023-10-25T17:37:23.259495Z",
     "iopub.status.busy": "2023-10-25T17:37:23.259068Z",
     "iopub.status.idle": "2023-10-25T17:37:23.265847Z",
     "shell.execute_reply": "2023-10-25T17:37:23.265002Z"
    },
    "papermill": {
     "duration": 0.086336,
     "end_time": "2023-10-25T17:37:23.268265",
     "exception": false,
     "start_time": "2023-10-25T17:37:23.181929",
     "status": "completed"
    },
    "tags": []
   },
   "outputs": [
    {
     "data": {
      "text/plain": [
       "['sush@outlook.com', 2564856855]"
      ]
     },
     "execution_count": 79,
     "metadata": {},
     "output_type": "execute_result"
    }
   ],
   "source": [
    "gg[0] = \"sush@outlook.com\"\n",
    "gg"
   ]
  },
  {
   "cell_type": "code",
   "execution_count": 80,
   "id": "2fca6834",
   "metadata": {
    "execution": {
     "iopub.execute_input": "2023-10-25T17:37:23.426043Z",
     "iopub.status.busy": "2023-10-25T17:37:23.425452Z",
     "iopub.status.idle": "2023-10-25T17:37:23.431585Z",
     "shell.execute_reply": "2023-10-25T17:37:23.430352Z"
    },
    "papermill": {
     "duration": 0.088437,
     "end_time": "2023-10-25T17:37:23.434059",
     "exception": false,
     "start_time": "2023-10-25T17:37:23.345622",
     "status": "completed"
    },
    "tags": []
   },
   "outputs": [
    {
     "data": {
      "text/plain": [
       "('sush@outlook.com', 2564856855)"
      ]
     },
     "execution_count": 80,
     "metadata": {},
     "output_type": "execute_result"
    }
   ],
   "source": [
    "gg = tuple(gg)\n",
    "gg"
   ]
  },
  {
   "cell_type": "code",
   "execution_count": 81,
   "id": "40df8916",
   "metadata": {
    "execution": {
     "iopub.execute_input": "2023-10-25T17:37:23.593869Z",
     "iopub.status.busy": "2023-10-25T17:37:23.593354Z",
     "iopub.status.idle": "2023-10-25T17:37:23.601139Z",
     "shell.execute_reply": "2023-10-25T17:37:23.600039Z"
    },
    "papermill": {
     "duration": 0.089152,
     "end_time": "2023-10-25T17:37:23.603412",
     "exception": false,
     "start_time": "2023-10-25T17:37:23.514260",
     "status": "completed"
    },
    "tags": []
   },
   "outputs": [
    {
     "data": {
      "text/plain": [
       "('sush@outlook.com', 2564856855)"
      ]
     },
     "execution_count": 81,
     "metadata": {},
     "output_type": "execute_result"
    }
   ],
   "source": [
    "gg = (\"sush@gmail.com\",2564856855)\n",
    "gg = list(gg)\n",
    "gg[0] = \"sush@outlook.com\"\n",
    "gg = tuple(gg)\n",
    "gg"
   ]
  },
  {
   "cell_type": "code",
   "execution_count": 82,
   "id": "3f27ff64",
   "metadata": {
    "execution": {
     "iopub.execute_input": "2023-10-25T17:37:23.760109Z",
     "iopub.status.busy": "2023-10-25T17:37:23.759406Z",
     "iopub.status.idle": "2023-10-25T17:37:23.765662Z",
     "shell.execute_reply": "2023-10-25T17:37:23.764832Z"
    },
    "papermill": {
     "duration": 0.086701,
     "end_time": "2023-10-25T17:37:23.767681",
     "exception": false,
     "start_time": "2023-10-25T17:37:23.680980",
     "status": "completed"
    },
    "tags": []
   },
   "outputs": [
    {
     "data": {
      "text/plain": [
       "[10, 20, 30]"
      ]
     },
     "execution_count": 82,
     "metadata": {},
     "output_type": "execute_result"
    }
   ],
   "source": [
    "a = [10,20,30,10]\n",
    "a = list(set(a))\n",
    "a"
   ]
  },
  {
   "cell_type": "code",
   "execution_count": 83,
   "id": "cc908b77",
   "metadata": {
    "execution": {
     "iopub.execute_input": "2023-10-25T17:37:23.923166Z",
     "iopub.status.busy": "2023-10-25T17:37:23.922483Z",
     "iopub.status.idle": "2023-10-25T17:37:23.928224Z",
     "shell.execute_reply": "2023-10-25T17:37:23.927365Z"
    },
    "papermill": {
     "duration": 0.086151,
     "end_time": "2023-10-25T17:37:23.930306",
     "exception": false,
     "start_time": "2023-10-25T17:37:23.844155",
     "status": "completed"
    },
    "tags": []
   },
   "outputs": [
    {
     "data": {
      "text/plain": [
       "[10, 20, 30]"
      ]
     },
     "execution_count": 83,
     "metadata": {},
     "output_type": "execute_result"
    }
   ],
   "source": [
    "a = list(set(a))\n",
    "a"
   ]
  },
  {
   "cell_type": "code",
   "execution_count": 84,
   "id": "581ad8de",
   "metadata": {
    "execution": {
     "iopub.execute_input": "2023-10-25T17:37:24.183375Z",
     "iopub.status.busy": "2023-10-25T17:37:24.182921Z",
     "iopub.status.idle": "2023-10-25T17:37:24.189243Z",
     "shell.execute_reply": "2023-10-25T17:37:24.188388Z"
    },
    "papermill": {
     "duration": 0.184228,
     "end_time": "2023-10-25T17:37:24.191683",
     "exception": false,
     "start_time": "2023-10-25T17:37:24.007455",
     "status": "completed"
    },
    "tags": []
   },
   "outputs": [
    {
     "data": {
      "text/plain": [
       "{10, 20, 30}"
      ]
     },
     "execution_count": 84,
     "metadata": {},
     "output_type": "execute_result"
    }
   ],
   "source": [
    "c = { 10,20,30,30}\n",
    "c \n",
    "\n"
   ]
  },
  {
   "cell_type": "code",
   "execution_count": 85,
   "id": "c3a9b873",
   "metadata": {
    "execution": {
     "iopub.execute_input": "2023-10-25T17:37:24.352015Z",
     "iopub.status.busy": "2023-10-25T17:37:24.350829Z",
     "iopub.status.idle": "2023-10-25T17:37:24.358743Z",
     "shell.execute_reply": "2023-10-25T17:37:24.357197Z"
    },
    "papermill": {
     "duration": 0.092966,
     "end_time": "2023-10-25T17:37:24.361053",
     "exception": false,
     "start_time": "2023-10-25T17:37:24.268087",
     "status": "completed"
    },
    "tags": []
   },
   "outputs": [
    {
     "name": "stdout",
     "output_type": "stream",
     "text": [
      "3\n"
     ]
    }
   ],
   "source": [
    "thislist = [\"apple\", \"banana\", \"cherry\"]\n",
    "print(len(thislist))"
   ]
  },
  {
   "cell_type": "code",
   "execution_count": 86,
   "id": "4d4cb9bf",
   "metadata": {
    "execution": {
     "iopub.execute_input": "2023-10-25T17:37:24.526462Z",
     "iopub.status.busy": "2023-10-25T17:37:24.525448Z",
     "iopub.status.idle": "2023-10-25T17:37:24.535521Z",
     "shell.execute_reply": "2023-10-25T17:37:24.534135Z"
    },
    "papermill": {
     "duration": 0.098882,
     "end_time": "2023-10-25T17:37:24.538496",
     "exception": false,
     "start_time": "2023-10-25T17:37:24.439614",
     "status": "completed"
    },
    "tags": []
   },
   "outputs": [
    {
     "name": "stdout",
     "output_type": "stream",
     "text": [
      "['apple', 'banana', 'cherry']\n"
     ]
    }
   ],
   "source": [
    "thislist = list((\"apple\", \"banana\", \"cherry\")) # note the double round-brackets\n",
    "print(thislist)"
   ]
  },
  {
   "cell_type": "code",
   "execution_count": 87,
   "id": "7a796092",
   "metadata": {
    "execution": {
     "iopub.execute_input": "2023-10-25T17:37:24.710830Z",
     "iopub.status.busy": "2023-10-25T17:37:24.709612Z",
     "iopub.status.idle": "2023-10-25T17:37:24.716315Z",
     "shell.execute_reply": "2023-10-25T17:37:24.715215Z"
    },
    "papermill": {
     "duration": 0.08797,
     "end_time": "2023-10-25T17:37:24.719027",
     "exception": false,
     "start_time": "2023-10-25T17:37:24.631057",
     "status": "completed"
    },
    "tags": []
   },
   "outputs": [
    {
     "name": "stdout",
     "output_type": "stream",
     "text": [
      "['apple', 'banana', 'cherry', 'orange', 'kiwi', 'melon', 'mango']\n"
     ]
    }
   ],
   "source": [
    "thislist = [\"apple\", \"banana\", \"cherry\", \"orange\", \"kiwi\", \"melon\", \"mango\"]\n",
    "print(thislist[:])"
   ]
  },
  {
   "cell_type": "code",
   "execution_count": 88,
   "id": "1a097d37",
   "metadata": {
    "execution": {
     "iopub.execute_input": "2023-10-25T17:37:24.881675Z",
     "iopub.status.busy": "2023-10-25T17:37:24.880183Z",
     "iopub.status.idle": "2023-10-25T17:37:24.887568Z",
     "shell.execute_reply": "2023-10-25T17:37:24.886117Z"
    },
    "papermill": {
     "duration": 0.091527,
     "end_time": "2023-10-25T17:37:24.889890",
     "exception": false,
     "start_time": "2023-10-25T17:37:24.798363",
     "status": "completed"
    },
    "tags": []
   },
   "outputs": [
    {
     "name": "stdout",
     "output_type": "stream",
     "text": [
      "['orange', 'kiwi', 'melon']\n"
     ]
    }
   ],
   "source": [
    "thislist = [\"apple\", \"banana\", \"cherry\", \"orange\", \"kiwi\", \"melon\", \"mango\"]\n",
    "print(thislist[-4:-1])"
   ]
  },
  {
   "cell_type": "code",
   "execution_count": 89,
   "id": "c40ae259",
   "metadata": {
    "execution": {
     "iopub.execute_input": "2023-10-25T17:37:25.046726Z",
     "iopub.status.busy": "2023-10-25T17:37:25.046303Z",
     "iopub.status.idle": "2023-10-25T17:37:25.052610Z",
     "shell.execute_reply": "2023-10-25T17:37:25.051354Z"
    },
    "papermill": {
     "duration": 0.088239,
     "end_time": "2023-10-25T17:37:25.055150",
     "exception": false,
     "start_time": "2023-10-25T17:37:24.966911",
     "status": "completed"
    },
    "tags": []
   },
   "outputs": [
    {
     "name": "stdout",
     "output_type": "stream",
     "text": [
      "['apple', 'blackcurrant', 'cherry']\n"
     ]
    }
   ],
   "source": [
    "thislist = [\"apple\", \"banana\", \"cherry\"]\n",
    "thislist[1] = \"blackcurrant\"\n",
    "print(thislist)"
   ]
  },
  {
   "cell_type": "code",
   "execution_count": 90,
   "id": "c112ef9e",
   "metadata": {
    "execution": {
     "iopub.execute_input": "2023-10-25T17:37:25.208095Z",
     "iopub.status.busy": "2023-10-25T17:37:25.207624Z",
     "iopub.status.idle": "2023-10-25T17:37:25.215820Z",
     "shell.execute_reply": "2023-10-25T17:37:25.214585Z"
    },
    "papermill": {
     "duration": 0.087715,
     "end_time": "2023-10-25T17:37:25.218230",
     "exception": false,
     "start_time": "2023-10-25T17:37:25.130515",
     "status": "completed"
    },
    "tags": []
   },
   "outputs": [
    {
     "data": {
      "text/plain": [
       "['apple', 'banana', 'cherry', 'orange']"
      ]
     },
     "execution_count": 90,
     "metadata": {},
     "output_type": "execute_result"
    }
   ],
   "source": [
    "fruits = ['apple', 'banana', 'cherry']\n",
    "fruits.append(\"orange\")\n",
    "fruits"
   ]
  },
  {
   "cell_type": "code",
   "execution_count": 91,
   "id": "b829f5be",
   "metadata": {
    "execution": {
     "iopub.execute_input": "2023-10-25T17:37:25.376064Z",
     "iopub.status.busy": "2023-10-25T17:37:25.375683Z",
     "iopub.status.idle": "2023-10-25T17:37:25.381222Z",
     "shell.execute_reply": "2023-10-25T17:37:25.380134Z"
    },
    "papermill": {
     "duration": 0.086933,
     "end_time": "2023-10-25T17:37:25.383679",
     "exception": false,
     "start_time": "2023-10-25T17:37:25.296746",
     "status": "completed"
    },
    "tags": []
   },
   "outputs": [],
   "source": [
    "fruits = ['apple', 'banana', 'cherry', 'orange']\n",
    "\n",
    "fruits.clear()"
   ]
  },
  {
   "cell_type": "code",
   "execution_count": 92,
   "id": "bd55f4d5",
   "metadata": {
    "execution": {
     "iopub.execute_input": "2023-10-25T17:37:25.542764Z",
     "iopub.status.busy": "2023-10-25T17:37:25.542343Z",
     "iopub.status.idle": "2023-10-25T17:37:25.549422Z",
     "shell.execute_reply": "2023-10-25T17:37:25.548625Z"
    },
    "papermill": {
     "duration": 0.089187,
     "end_time": "2023-10-25T17:37:25.551429",
     "exception": false,
     "start_time": "2023-10-25T17:37:25.462242",
     "status": "completed"
    },
    "tags": []
   },
   "outputs": [
    {
     "data": {
      "text/plain": [
       "[]"
      ]
     },
     "execution_count": 92,
     "metadata": {},
     "output_type": "execute_result"
    }
   ],
   "source": [
    "fruits "
   ]
  },
  {
   "cell_type": "code",
   "execution_count": 93,
   "id": "8326c511",
   "metadata": {
    "execution": {
     "iopub.execute_input": "2023-10-25T17:37:25.707041Z",
     "iopub.status.busy": "2023-10-25T17:37:25.706380Z",
     "iopub.status.idle": "2023-10-25T17:37:25.713154Z",
     "shell.execute_reply": "2023-10-25T17:37:25.712007Z"
    },
    "papermill": {
     "duration": 0.087005,
     "end_time": "2023-10-25T17:37:25.715688",
     "exception": false,
     "start_time": "2023-10-25T17:37:25.628683",
     "status": "completed"
    },
    "tags": []
   },
   "outputs": [
    {
     "data": {
      "text/plain": [
       "2"
      ]
     },
     "execution_count": 93,
     "metadata": {},
     "output_type": "execute_result"
    }
   ],
   "source": [
    "tay = ['sush', 'sush', 'cherry']\n",
    "\n",
    "tay.count(\"sush\")"
   ]
  },
  {
   "cell_type": "code",
   "execution_count": 94,
   "id": "700bb2f1",
   "metadata": {
    "execution": {
     "iopub.execute_input": "2023-10-25T17:37:25.871659Z",
     "iopub.status.busy": "2023-10-25T17:37:25.870975Z",
     "iopub.status.idle": "2023-10-25T17:37:25.879027Z",
     "shell.execute_reply": "2023-10-25T17:37:25.877950Z"
    },
    "papermill": {
     "duration": 0.088829,
     "end_time": "2023-10-25T17:37:25.881367",
     "exception": false,
     "start_time": "2023-10-25T17:37:25.792538",
     "status": "completed"
    },
    "tags": []
   },
   "outputs": [
    {
     "data": {
      "text/plain": [
       "1"
      ]
     },
     "execution_count": 94,
     "metadata": {},
     "output_type": "execute_result"
    }
   ],
   "source": [
    "fruits = ['apple', 'banana', 'cherry']\n",
    "\n",
    "points = (1, 4, 5, 9)\n",
    "\n",
    "fruits.extend(points)\n",
    "fruits[3]"
   ]
  },
  {
   "cell_type": "code",
   "execution_count": 95,
   "id": "a9d2c900",
   "metadata": {
    "execution": {
     "iopub.execute_input": "2023-10-25T17:37:26.037480Z",
     "iopub.status.busy": "2023-10-25T17:37:26.036679Z",
     "iopub.status.idle": "2023-10-25T17:37:26.043974Z",
     "shell.execute_reply": "2023-10-25T17:37:26.042870Z"
    },
    "papermill": {
     "duration": 0.088841,
     "end_time": "2023-10-25T17:37:26.046394",
     "exception": false,
     "start_time": "2023-10-25T17:37:25.957553",
     "status": "completed"
    },
    "tags": []
   },
   "outputs": [
    {
     "data": {
      "text/plain": [
       "['apple', 'banana', 'cherry', (1, 4, 5, 9)]"
      ]
     },
     "execution_count": 95,
     "metadata": {},
     "output_type": "execute_result"
    }
   ],
   "source": [
    "fruits = ['apple', 'banana', 'cherry']\n",
    "\n",
    "points = (1, 4, 5, 9)\n",
    "\n",
    "fruits.append(points)\n",
    "fruits"
   ]
  },
  {
   "cell_type": "code",
   "execution_count": 96,
   "id": "fb17c9d7",
   "metadata": {
    "execution": {
     "iopub.execute_input": "2023-10-25T17:37:26.202596Z",
     "iopub.status.busy": "2023-10-25T17:37:26.201763Z",
     "iopub.status.idle": "2023-10-25T17:37:26.208189Z",
     "shell.execute_reply": "2023-10-25T17:37:26.207348Z"
    },
    "papermill": {
     "duration": 0.087234,
     "end_time": "2023-10-25T17:37:26.210365",
     "exception": false,
     "start_time": "2023-10-25T17:37:26.123131",
     "status": "completed"
    },
    "tags": []
   },
   "outputs": [
    {
     "data": {
      "text/plain": [
       "(1, 4, 5, 9)"
      ]
     },
     "execution_count": 96,
     "metadata": {},
     "output_type": "execute_result"
    }
   ],
   "source": [
    "fruits[3]"
   ]
  },
  {
   "cell_type": "code",
   "execution_count": 97,
   "id": "ea5a9884",
   "metadata": {
    "execution": {
     "iopub.execute_input": "2023-10-25T17:37:26.369377Z",
     "iopub.status.busy": "2023-10-25T17:37:26.368639Z",
     "iopub.status.idle": "2023-10-25T17:37:26.375190Z",
     "shell.execute_reply": "2023-10-25T17:37:26.374326Z"
    },
    "papermill": {
     "duration": 0.089857,
     "end_time": "2023-10-25T17:37:26.377380",
     "exception": false,
     "start_time": "2023-10-25T17:37:26.287523",
     "status": "completed"
    },
    "tags": []
   },
   "outputs": [
    {
     "data": {
      "text/plain": [
       "0"
      ]
     },
     "execution_count": 97,
     "metadata": {},
     "output_type": "execute_result"
    }
   ],
   "source": [
    "fruits = ['c001asha', 'coo2swapna', 'c001asha']\n",
    "\n",
    "fruits.index(\"c001asha\")"
   ]
  },
  {
   "cell_type": "code",
   "execution_count": 98,
   "id": "7c26a16e",
   "metadata": {
    "execution": {
     "iopub.execute_input": "2023-10-25T17:37:26.539294Z",
     "iopub.status.busy": "2023-10-25T17:37:26.538562Z",
     "iopub.status.idle": "2023-10-25T17:37:26.545822Z",
     "shell.execute_reply": "2023-10-25T17:37:26.544761Z"
    },
    "papermill": {
     "duration": 0.091437,
     "end_time": "2023-10-25T17:37:26.549089",
     "exception": false,
     "start_time": "2023-10-25T17:37:26.457652",
     "status": "completed"
    },
    "tags": []
   },
   "outputs": [
    {
     "data": {
      "text/plain": [
       "['apple', 'banana', 'orange', 'cherry']"
      ]
     },
     "execution_count": 98,
     "metadata": {},
     "output_type": "execute_result"
    }
   ],
   "source": [
    "fruits = ['apple', 'banana', 'cherry']\n",
    "\n",
    "fruits.insert(2, \"orange\")\n",
    "fruits"
   ]
  },
  {
   "cell_type": "code",
   "execution_count": 99,
   "id": "ab455c31",
   "metadata": {
    "execution": {
     "iopub.execute_input": "2023-10-25T17:37:26.707138Z",
     "iopub.status.busy": "2023-10-25T17:37:26.706348Z",
     "iopub.status.idle": "2023-10-25T17:37:26.713731Z",
     "shell.execute_reply": "2023-10-25T17:37:26.712747Z"
    },
    "papermill": {
     "duration": 0.089131,
     "end_time": "2023-10-25T17:37:26.716082",
     "exception": false,
     "start_time": "2023-10-25T17:37:26.626951",
     "status": "completed"
    },
    "tags": []
   },
   "outputs": [
    {
     "data": {
      "text/plain": [
       "'apple'"
      ]
     },
     "execution_count": 99,
     "metadata": {},
     "output_type": "execute_result"
    }
   ],
   "source": [
    "fruits = ['apple', 'banana', 'cherry']\n",
    "a = fruits.pop(0)\n",
    "a"
   ]
  },
  {
   "cell_type": "code",
   "execution_count": 100,
   "id": "bebd159b",
   "metadata": {
    "execution": {
     "iopub.execute_input": "2023-10-25T17:37:26.873441Z",
     "iopub.status.busy": "2023-10-25T17:37:26.872697Z",
     "iopub.status.idle": "2023-10-25T17:37:26.879791Z",
     "shell.execute_reply": "2023-10-25T17:37:26.878846Z"
    },
    "papermill": {
     "duration": 0.088246,
     "end_time": "2023-10-25T17:37:26.882015",
     "exception": false,
     "start_time": "2023-10-25T17:37:26.793769",
     "status": "completed"
    },
    "tags": []
   },
   "outputs": [
    {
     "data": {
      "text/plain": [
       "0"
      ]
     },
     "execution_count": 100,
     "metadata": {},
     "output_type": "execute_result"
    }
   ],
   "source": [
    "fruits = ['apple', 'banana', 'cherry']\n",
    "a = fruits.index(\"apple\")\n",
    "a"
   ]
  },
  {
   "cell_type": "code",
   "execution_count": 101,
   "id": "2b3a7413",
   "metadata": {
    "execution": {
     "iopub.execute_input": "2023-10-25T17:37:27.040249Z",
     "iopub.status.busy": "2023-10-25T17:37:27.039868Z",
     "iopub.status.idle": "2023-10-25T17:37:27.046726Z",
     "shell.execute_reply": "2023-10-25T17:37:27.045684Z"
    },
    "papermill": {
     "duration": 0.089752,
     "end_time": "2023-10-25T17:37:27.049170",
     "exception": false,
     "start_time": "2023-10-25T17:37:26.959418",
     "status": "completed"
    },
    "tags": []
   },
   "outputs": [
    {
     "data": {
      "text/plain": [
       "['apple', 'banana', 'banana']"
      ]
     },
     "execution_count": 101,
     "metadata": {},
     "output_type": "execute_result"
    }
   ],
   "source": [
    "fruits = ['banana', \"apple\",'banana', 'banana']\n",
    "\n",
    "fruits.remove(\"banana\")\n",
    "fruits \n",
    "\n",
    "# ctr a\n",
    "#  ctr /"
   ]
  },
  {
   "cell_type": "code",
   "execution_count": 102,
   "id": "2586f2d1",
   "metadata": {
    "execution": {
     "iopub.execute_input": "2023-10-25T17:37:27.208063Z",
     "iopub.status.busy": "2023-10-25T17:37:27.207561Z",
     "iopub.status.idle": "2023-10-25T17:37:27.214549Z",
     "shell.execute_reply": "2023-10-25T17:37:27.213664Z"
    },
    "papermill": {
     "duration": 0.089427,
     "end_time": "2023-10-25T17:37:27.216671",
     "exception": false,
     "start_time": "2023-10-25T17:37:27.127244",
     "status": "completed"
    },
    "tags": []
   },
   "outputs": [
    {
     "data": {
      "text/plain": [
       "['cherry', 'banana', 'apple']"
      ]
     },
     "execution_count": 102,
     "metadata": {},
     "output_type": "execute_result"
    }
   ],
   "source": [
    "fruits = ['apple', 'banana', 'cherry']\n",
    "\n",
    "fruits.reverse()\n",
    "fruits"
   ]
  },
  {
   "cell_type": "code",
   "execution_count": 103,
   "id": "55d47ef4",
   "metadata": {
    "execution": {
     "iopub.execute_input": "2023-10-25T17:37:27.376418Z",
     "iopub.status.busy": "2023-10-25T17:37:27.375772Z",
     "iopub.status.idle": "2023-10-25T17:37:27.381927Z",
     "shell.execute_reply": "2023-10-25T17:37:27.380763Z"
    },
    "papermill": {
     "duration": 0.090128,
     "end_time": "2023-10-25T17:37:27.384153",
     "exception": false,
     "start_time": "2023-10-25T17:37:27.294025",
     "status": "completed"
    },
    "tags": []
   },
   "outputs": [
    {
     "data": {
      "text/plain": [
       "[20, 11, 9, 30]"
      ]
     },
     "execution_count": 103,
     "metadata": {},
     "output_type": "execute_result"
    }
   ],
   "source": [
    "a= [20,11,9,30]\n",
    "a"
   ]
  },
  {
   "cell_type": "code",
   "execution_count": 104,
   "id": "b4766f92",
   "metadata": {
    "execution": {
     "iopub.execute_input": "2023-10-25T17:37:27.547344Z",
     "iopub.status.busy": "2023-10-25T17:37:27.546649Z",
     "iopub.status.idle": "2023-10-25T17:37:27.552306Z",
     "shell.execute_reply": "2023-10-25T17:37:27.551560Z"
    },
    "papermill": {
     "duration": 0.089493,
     "end_time": "2023-10-25T17:37:27.554364",
     "exception": false,
     "start_time": "2023-10-25T17:37:27.464871",
     "status": "completed"
    },
    "tags": []
   },
   "outputs": [
    {
     "data": {
      "text/plain": [
       "[30, 20, 11, 9]"
      ]
     },
     "execution_count": 104,
     "metadata": {},
     "output_type": "execute_result"
    }
   ],
   "source": [
    "a.sort(reverse = True)\n",
    "a"
   ]
  },
  {
   "cell_type": "code",
   "execution_count": 105,
   "id": "e83d9042",
   "metadata": {
    "execution": {
     "iopub.execute_input": "2023-10-25T17:37:27.715224Z",
     "iopub.status.busy": "2023-10-25T17:37:27.714525Z",
     "iopub.status.idle": "2023-10-25T17:37:27.721448Z",
     "shell.execute_reply": "2023-10-25T17:37:27.720651Z"
    },
    "papermill": {
     "duration": 0.090175,
     "end_time": "2023-10-25T17:37:27.723492",
     "exception": false,
     "start_time": "2023-10-25T17:37:27.633317",
     "status": "completed"
    },
    "tags": []
   },
   "outputs": [
    {
     "data": {
      "text/plain": [
       "[10, 20, 30, [40, 50, 60]]"
      ]
     },
     "execution_count": 105,
     "metadata": {},
     "output_type": "execute_result"
    }
   ],
   "source": [
    "d = [10,20,30]\n",
    "d.append([40,50,60])\n",
    "d"
   ]
  },
  {
   "cell_type": "code",
   "execution_count": 106,
   "id": "fd8de8a2",
   "metadata": {
    "execution": {
     "iopub.execute_input": "2023-10-25T17:37:27.884486Z",
     "iopub.status.busy": "2023-10-25T17:37:27.883765Z",
     "iopub.status.idle": "2023-10-25T17:37:27.891200Z",
     "shell.execute_reply": "2023-10-25T17:37:27.889978Z"
    },
    "papermill": {
     "duration": 0.090682,
     "end_time": "2023-10-25T17:37:27.893501",
     "exception": false,
     "start_time": "2023-10-25T17:37:27.802819",
     "status": "completed"
    },
    "tags": []
   },
   "outputs": [
    {
     "data": {
      "text/plain": [
       "[10, 20, 30, 40, 50, 60]"
      ]
     },
     "execution_count": 106,
     "metadata": {},
     "output_type": "execute_result"
    }
   ],
   "source": [
    "e = [10,20,30]\n",
    "e.extend([40,50,60])\n",
    "e"
   ]
  },
  {
   "cell_type": "code",
   "execution_count": 107,
   "id": "011cbb2b",
   "metadata": {
    "execution": {
     "iopub.execute_input": "2023-10-25T17:37:28.057458Z",
     "iopub.status.busy": "2023-10-25T17:37:28.056731Z",
     "iopub.status.idle": "2023-10-25T17:37:28.063159Z",
     "shell.execute_reply": "2023-10-25T17:37:28.062437Z"
    },
    "papermill": {
     "duration": 0.091036,
     "end_time": "2023-10-25T17:37:28.065485",
     "exception": false,
     "start_time": "2023-10-25T17:37:27.974449",
     "status": "completed"
    },
    "tags": []
   },
   "outputs": [
    {
     "data": {
      "text/plain": [
       "[2, 3, 4]"
      ]
     },
     "execution_count": 107,
     "metadata": {},
     "output_type": "execute_result"
    }
   ],
   "source": [
    "a = [2,3,4,4]\n",
    "a = list(set(a))\n",
    "a"
   ]
  },
  {
   "cell_type": "code",
   "execution_count": 108,
   "id": "099e4332",
   "metadata": {
    "execution": {
     "iopub.execute_input": "2023-10-25T17:37:28.226479Z",
     "iopub.status.busy": "2023-10-25T17:37:28.226047Z",
     "iopub.status.idle": "2023-10-25T17:37:28.233592Z",
     "shell.execute_reply": "2023-10-25T17:37:28.231747Z"
    },
    "papermill": {
     "duration": 0.091023,
     "end_time": "2023-10-25T17:37:28.236006",
     "exception": false,
     "start_time": "2023-10-25T17:37:28.144983",
     "status": "completed"
    },
    "tags": []
   },
   "outputs": [
    {
     "name": "stdout",
     "output_type": "stream",
     "text": [
      "yes\n",
      "tayyab\n",
      "prasad\n"
     ]
    }
   ],
   "source": [
    "if 9 > 6 : \n",
    "    print(\"yes\")\n",
    "    print(\"tayyab\")\n",
    "    \n",
    "print(\"prasad\")\n"
   ]
  },
  {
   "cell_type": "code",
   "execution_count": 109,
   "id": "9afbd191",
   "metadata": {
    "execution": {
     "iopub.execute_input": "2023-10-25T17:37:28.398820Z",
     "iopub.status.busy": "2023-10-25T17:37:28.397537Z",
     "iopub.status.idle": "2023-10-25T17:37:28.405469Z",
     "shell.execute_reply": "2023-10-25T17:37:28.404107Z"
    },
    "papermill": {
     "duration": 0.092399,
     "end_time": "2023-10-25T17:37:28.407910",
     "exception": false,
     "start_time": "2023-10-25T17:37:28.315511",
     "status": "completed"
    },
    "tags": []
   },
   "outputs": [
    {
     "name": "stdout",
     "output_type": "stream",
     "text": [
      "prasad\n"
     ]
    }
   ],
   "source": [
    "if 9 > 16 : \n",
    "    print(\"yes\")\n",
    "    print(\"tayyab\")\n",
    "    \n",
    "print(\"prasad\")"
   ]
  },
  {
   "cell_type": "code",
   "execution_count": 110,
   "id": "710be168",
   "metadata": {
    "execution": {
     "iopub.execute_input": "2023-10-25T17:37:28.570721Z",
     "iopub.status.busy": "2023-10-25T17:37:28.570338Z",
     "iopub.status.idle": "2023-10-25T17:37:28.574895Z",
     "shell.execute_reply": "2023-10-25T17:37:28.573837Z"
    },
    "papermill": {
     "duration": 0.089942,
     "end_time": "2023-10-25T17:37:28.577761",
     "exception": false,
     "start_time": "2023-10-25T17:37:28.487819",
     "status": "completed"
    },
    "tags": []
   },
   "outputs": [],
   "source": [
    "# select *\n",
    "#             from table1"
   ]
  },
  {
   "cell_type": "code",
   "execution_count": 111,
   "id": "6ab383c6",
   "metadata": {
    "execution": {
     "iopub.execute_input": "2023-10-25T17:37:28.739982Z",
     "iopub.status.busy": "2023-10-25T17:37:28.739587Z",
     "iopub.status.idle": "2023-10-25T17:37:28.747297Z",
     "shell.execute_reply": "2023-10-25T17:37:28.746177Z"
    },
    "papermill": {
     "duration": 0.091527,
     "end_time": "2023-10-25T17:37:28.749996",
     "exception": false,
     "start_time": "2023-10-25T17:37:28.658469",
     "status": "completed"
    },
    "tags": []
   },
   "outputs": [
    {
     "name": "stdout",
     "output_type": "stream",
     "text": [
      "the girl got distinction\n",
      "distinction\n"
     ]
    }
   ],
   "source": [
    "marks = 80\n",
    "gender = \"female\"\n",
    "\n",
    "\n",
    "if marks > 75 :  \n",
    "    if gender == \"male\" :\n",
    "        print(\"the boy got distinction\")\n",
    "    else :\n",
    "        print(\"the girl got distinction\")        \n",
    "    print(\"distinction\")\n",
    "elif marks > 50 :\n",
    "    print(\"pass\")\n",
    "else :\n",
    "    print(\"fail\")"
   ]
  },
  {
   "cell_type": "code",
   "execution_count": 112,
   "id": "04f42a5f",
   "metadata": {
    "execution": {
     "iopub.execute_input": "2023-10-25T17:37:28.914374Z",
     "iopub.status.busy": "2023-10-25T17:37:28.913670Z",
     "iopub.status.idle": "2023-10-25T17:37:28.920175Z",
     "shell.execute_reply": "2023-10-25T17:37:28.918854Z"
    },
    "papermill": {
     "duration": 0.09165,
     "end_time": "2023-10-25T17:37:28.922638",
     "exception": false,
     "start_time": "2023-10-25T17:37:28.830988",
     "status": "completed"
    },
    "tags": []
   },
   "outputs": [
    {
     "name": "stdout",
     "output_type": "stream",
     "text": [
      "mlv 100\n",
      "mlv 97\n",
      "mlv 94\n",
      "mlv 91\n"
     ]
    }
   ],
   "source": [
    "salary = 100\n",
    "\n",
    "while salary > 90 :\n",
    "    print(\"mlv\",salary )\n",
    "    salary = salary - 3"
   ]
  },
  {
   "cell_type": "code",
   "execution_count": 113,
   "id": "9ecbcc81",
   "metadata": {
    "execution": {
     "iopub.execute_input": "2023-10-25T17:37:29.086547Z",
     "iopub.status.busy": "2023-10-25T17:37:29.085076Z",
     "iopub.status.idle": "2023-10-25T17:37:29.092426Z",
     "shell.execute_reply": "2023-10-25T17:37:29.090975Z"
    },
    "papermill": {
     "duration": 0.09291,
     "end_time": "2023-10-25T17:37:29.095368",
     "exception": false,
     "start_time": "2023-10-25T17:37:29.002458",
     "status": "completed"
    },
    "tags": []
   },
   "outputs": [
    {
     "name": "stdout",
     "output_type": "stream",
     "text": [
      "10\n",
      "----\n",
      "13\n",
      "----\n",
      "16\n",
      "----\n",
      "19\n",
      "----\n"
     ]
    }
   ],
   "source": [
    "for i in  range(10,20,3) :\n",
    "    print(i)\n",
    "    print(\"----\")"
   ]
  },
  {
   "cell_type": "code",
   "execution_count": 114,
   "id": "fbb37364",
   "metadata": {
    "execution": {
     "iopub.execute_input": "2023-10-25T17:37:29.258043Z",
     "iopub.status.busy": "2023-10-25T17:37:29.257607Z",
     "iopub.status.idle": "2023-10-25T17:37:29.264434Z",
     "shell.execute_reply": "2023-10-25T17:37:29.263089Z"
    },
    "papermill": {
     "duration": 0.091654,
     "end_time": "2023-10-25T17:37:29.267210",
     "exception": false,
     "start_time": "2023-10-25T17:37:29.175556",
     "status": "completed"
    },
    "tags": []
   },
   "outputs": [
    {
     "name": "stdout",
     "output_type": "stream",
     "text": [
      "10\n",
      "----\n",
      "husna\n",
      "13\n",
      "----\n",
      "husna\n",
      "16\n",
      "----\n",
      "husna\n",
      "19\n",
      "----\n",
      "husna\n"
     ]
    }
   ],
   "source": [
    "for i in  [10,13,16,19] :\n",
    "    print(i)\n",
    "    print(\"----\")\n",
    "    print(\"husna\")"
   ]
  },
  {
   "cell_type": "code",
   "execution_count": 115,
   "id": "d3d963a9",
   "metadata": {
    "execution": {
     "iopub.execute_input": "2023-10-25T17:37:29.431976Z",
     "iopub.status.busy": "2023-10-25T17:37:29.431613Z",
     "iopub.status.idle": "2023-10-25T17:37:29.437554Z",
     "shell.execute_reply": "2023-10-25T17:37:29.436330Z"
    },
    "papermill": {
     "duration": 0.092621,
     "end_time": "2023-10-25T17:37:29.440331",
     "exception": false,
     "start_time": "2023-10-25T17:37:29.347710",
     "status": "completed"
    },
    "tags": []
   },
   "outputs": [
    {
     "name": "stdout",
     "output_type": "stream",
     "text": [
      "the element is  10\n",
      "the element is  20\n",
      "the element is  30\n",
      "the element is  40\n",
      "the element is  50\n"
     ]
    }
   ],
   "source": [
    "a = [10,20,30,40,50]\n",
    "\n",
    "for  abhi  in a :\n",
    "    print(\"the element is \",abhi)"
   ]
  },
  {
   "cell_type": "code",
   "execution_count": 116,
   "id": "59826bc8",
   "metadata": {
    "execution": {
     "iopub.execute_input": "2023-10-25T17:37:29.603885Z",
     "iopub.status.busy": "2023-10-25T17:37:29.603485Z",
     "iopub.status.idle": "2023-10-25T17:37:29.609930Z",
     "shell.execute_reply": "2023-10-25T17:37:29.608863Z"
    },
    "papermill": {
     "duration": 0.092276,
     "end_time": "2023-10-25T17:37:29.613007",
     "exception": false,
     "start_time": "2023-10-25T17:37:29.520731",
     "status": "completed"
    },
    "tags": []
   },
   "outputs": [
    {
     "name": "stdout",
     "output_type": "stream",
     "text": [
      "the element is  10\n",
      "the element is  20\n",
      "the element is  30\n",
      "the element is  40\n",
      "the element is  50\n"
     ]
    }
   ],
   "source": [
    "a = [10,20,30,40,50]\n",
    "\n",
    "for abhi in range(len(a)) : # [ 0,1,2,3,4]\n",
    "    print(\"the element is \",a[abhi])\n",
    "    "
   ]
  },
  {
   "cell_type": "code",
   "execution_count": 117,
   "id": "68b9f9b9",
   "metadata": {
    "execution": {
     "iopub.execute_input": "2023-10-25T17:37:29.774157Z",
     "iopub.status.busy": "2023-10-25T17:37:29.773449Z",
     "iopub.status.idle": "2023-10-25T17:37:29.779970Z",
     "shell.execute_reply": "2023-10-25T17:37:29.778238Z"
    },
    "papermill": {
     "duration": 0.090797,
     "end_time": "2023-10-25T17:37:29.782708",
     "exception": false,
     "start_time": "2023-10-25T17:37:29.691911",
     "status": "completed"
    },
    "tags": []
   },
   "outputs": [
    {
     "name": "stdout",
     "output_type": "stream",
     "text": [
      "1\n",
      "2\n",
      "3\n",
      "4\n"
     ]
    }
   ],
   "source": [
    "for i in range(1,5):\n",
    "    print(i)"
   ]
  },
  {
   "cell_type": "markdown",
   "id": "47809516",
   "metadata": {
    "papermill": {
     "duration": 0.177541,
     "end_time": "2023-10-25T17:37:30.041401",
     "exception": false,
     "start_time": "2023-10-25T17:37:29.863860",
     "status": "completed"
    },
    "tags": []
   },
   "source": [
    "### "
   ]
  },
  {
   "cell_type": "code",
   "execution_count": 118,
   "id": "b0ab809b",
   "metadata": {
    "execution": {
     "iopub.execute_input": "2023-10-25T17:37:30.205479Z",
     "iopub.status.busy": "2023-10-25T17:37:30.204740Z",
     "iopub.status.idle": "2023-10-25T17:37:30.210728Z",
     "shell.execute_reply": "2023-10-25T17:37:30.209634Z"
    },
    "papermill": {
     "duration": 0.090888,
     "end_time": "2023-10-25T17:37:30.213386",
     "exception": false,
     "start_time": "2023-10-25T17:37:30.122498",
     "status": "completed"
    },
    "tags": []
   },
   "outputs": [
    {
     "name": "stdout",
     "output_type": "stream",
     "text": [
      "{'cherry', 'orange', 'apple', 'banana'}\n"
     ]
    }
   ],
   "source": [
    "fruits = {\"apple\", \"banana\", \"cherry\"}\n",
    "\n",
    "fruits.add(\"orange\")\n",
    "\n",
    "print(fruits)"
   ]
  },
  {
   "cell_type": "code",
   "execution_count": 119,
   "id": "b0f90b81",
   "metadata": {
    "execution": {
     "iopub.execute_input": "2023-10-25T17:37:30.375545Z",
     "iopub.status.busy": "2023-10-25T17:37:30.375159Z",
     "iopub.status.idle": "2023-10-25T17:37:30.381389Z",
     "shell.execute_reply": "2023-10-25T17:37:30.379853Z"
    },
    "papermill": {
     "duration": 0.09093,
     "end_time": "2023-10-25T17:37:30.384360",
     "exception": false,
     "start_time": "2023-10-25T17:37:30.293430",
     "status": "completed"
    },
    "tags": []
   },
   "outputs": [
    {
     "name": "stdout",
     "output_type": "stream",
     "text": [
      "{'tayyab'}\n"
     ]
    }
   ],
   "source": [
    "fruits = {\"apple\", \"banana\", \"cherry\"}\n",
    "\n",
    "fruits.clear()\n",
    "\n",
    "fruits.add(\"tayyab\")\n",
    "\n",
    "print(fruits)"
   ]
  },
  {
   "cell_type": "code",
   "execution_count": 120,
   "id": "beba5068",
   "metadata": {
    "execution": {
     "iopub.execute_input": "2023-10-25T17:37:30.550960Z",
     "iopub.status.busy": "2023-10-25T17:37:30.550575Z",
     "iopub.status.idle": "2023-10-25T17:37:30.557502Z",
     "shell.execute_reply": "2023-10-25T17:37:30.556161Z"
    },
    "papermill": {
     "duration": 0.091987,
     "end_time": "2023-10-25T17:37:30.560101",
     "exception": false,
     "start_time": "2023-10-25T17:37:30.468114",
     "status": "completed"
    },
    "tags": []
   },
   "outputs": [
    {
     "name": "stdout",
     "output_type": "stream",
     "text": [
      "{'cherry', 'banana'}\n"
     ]
    }
   ],
   "source": [
    "x = {\"apple\", \"banana\", \"cherry\"}\n",
    "y = {\"google\", \"microsoft\", \"apple\"}\n",
    "\n",
    "z = x.difference(y)\n",
    "\n",
    "print(z)"
   ]
  },
  {
   "cell_type": "code",
   "execution_count": 121,
   "id": "d2c26acf",
   "metadata": {
    "execution": {
     "iopub.execute_input": "2023-10-25T17:37:30.725886Z",
     "iopub.status.busy": "2023-10-25T17:37:30.725513Z",
     "iopub.status.idle": "2023-10-25T17:37:30.732062Z",
     "shell.execute_reply": "2023-10-25T17:37:30.730855Z"
    },
    "papermill": {
     "duration": 0.09279,
     "end_time": "2023-10-25T17:37:30.734533",
     "exception": false,
     "start_time": "2023-10-25T17:37:30.641743",
     "status": "completed"
    },
    "tags": []
   },
   "outputs": [
    {
     "name": "stdout",
     "output_type": "stream",
     "text": [
      "{'apple'}\n"
     ]
    }
   ],
   "source": [
    "x = {\"apple\", \"banana\", \"cherry\"}\n",
    "y = {\"google\", \"microsoft\", \"apple\"}\n",
    "\n",
    "z = y.intersection(x)\n",
    "\n",
    "print(z)"
   ]
  },
  {
   "cell_type": "code",
   "execution_count": 122,
   "id": "8ff21e7c",
   "metadata": {
    "execution": {
     "iopub.execute_input": "2023-10-25T17:37:30.901102Z",
     "iopub.status.busy": "2023-10-25T17:37:30.900122Z",
     "iopub.status.idle": "2023-10-25T17:37:30.907430Z",
     "shell.execute_reply": "2023-10-25T17:37:30.906354Z"
    },
    "papermill": {
     "duration": 0.093712,
     "end_time": "2023-10-25T17:37:30.909936",
     "exception": false,
     "start_time": "2023-10-25T17:37:30.816224",
     "status": "completed"
    },
    "tags": []
   },
   "outputs": [
    {
     "name": "stdout",
     "output_type": "stream",
     "text": [
      "False\n"
     ]
    }
   ],
   "source": [
    "x = {\"apple\", \"google\", \"cherry\"}\n",
    "y = {\"google\", \"microsoft\", \"facebook\"}\n",
    "\n",
    "z = x.isdisjoint(y)\n",
    "\n",
    "print(z)\n"
   ]
  },
  {
   "cell_type": "code",
   "execution_count": 123,
   "id": "a9da0702",
   "metadata": {
    "execution": {
     "iopub.execute_input": "2023-10-25T17:37:31.077218Z",
     "iopub.status.busy": "2023-10-25T17:37:31.076803Z",
     "iopub.status.idle": "2023-10-25T17:37:31.083165Z",
     "shell.execute_reply": "2023-10-25T17:37:31.082055Z"
    },
    "papermill": {
     "duration": 0.092653,
     "end_time": "2023-10-25T17:37:31.086004",
     "exception": false,
     "start_time": "2023-10-25T17:37:30.993351",
     "status": "completed"
    },
    "tags": []
   },
   "outputs": [
    {
     "name": "stdout",
     "output_type": "stream",
     "text": [
      "False\n"
     ]
    }
   ],
   "source": [
    "x = {\"a\", \"b\", \"h\"}\n",
    "y = {\"f\", \"e\", \"d\", \"c\", \"b\", \"a\"}\n",
    "\n",
    "z = x.issubset(y)\n",
    "\n",
    "print(z)"
   ]
  },
  {
   "cell_type": "code",
   "execution_count": 124,
   "id": "e91a0e10",
   "metadata": {
    "execution": {
     "iopub.execute_input": "2023-10-25T17:37:31.250283Z",
     "iopub.status.busy": "2023-10-25T17:37:31.249857Z",
     "iopub.status.idle": "2023-10-25T17:37:31.256841Z",
     "shell.execute_reply": "2023-10-25T17:37:31.255502Z"
    },
    "papermill": {
     "duration": 0.092783,
     "end_time": "2023-10-25T17:37:31.259639",
     "exception": false,
     "start_time": "2023-10-25T17:37:31.166856",
     "status": "completed"
    },
    "tags": []
   },
   "outputs": [
    {
     "name": "stdout",
     "output_type": "stream",
     "text": [
      "False\n"
     ]
    }
   ],
   "source": [
    "x = {\"f\", \"e\", \"d\", \"c\", \"b\", \"a\"}\n",
    "y = {\"a\", \"b\", \"z\"}\n",
    "\n",
    "z = x.issuperset(y)\n",
    "\n",
    "print(z)"
   ]
  },
  {
   "cell_type": "code",
   "execution_count": 125,
   "id": "e2173818",
   "metadata": {
    "execution": {
     "iopub.execute_input": "2023-10-25T17:37:31.429209Z",
     "iopub.status.busy": "2023-10-25T17:37:31.428821Z",
     "iopub.status.idle": "2023-10-25T17:37:31.435518Z",
     "shell.execute_reply": "2023-10-25T17:37:31.434359Z"
    },
    "papermill": {
     "duration": 0.095883,
     "end_time": "2023-10-25T17:37:31.438051",
     "exception": false,
     "start_time": "2023-10-25T17:37:31.342168",
     "status": "completed"
    },
    "tags": []
   },
   "outputs": [
    {
     "name": "stdout",
     "output_type": "stream",
     "text": [
      "{'apple', 'banana'}\n"
     ]
    }
   ],
   "source": [
    "fruits = {\"apple\", \"banana\", \"cherry\"}\n",
    "\n",
    "fruits.pop()\n",
    "\n",
    "print(fruits)"
   ]
  },
  {
   "cell_type": "code",
   "execution_count": 126,
   "id": "343ba8b1",
   "metadata": {
    "execution": {
     "iopub.execute_input": "2023-10-25T17:37:31.605149Z",
     "iopub.status.busy": "2023-10-25T17:37:31.604783Z",
     "iopub.status.idle": "2023-10-25T17:37:31.611591Z",
     "shell.execute_reply": "2023-10-25T17:37:31.610254Z"
    },
    "papermill": {
     "duration": 0.092646,
     "end_time": "2023-10-25T17:37:31.614069",
     "exception": false,
     "start_time": "2023-10-25T17:37:31.521423",
     "status": "completed"
    },
    "tags": []
   },
   "outputs": [
    {
     "name": "stdout",
     "output_type": "stream",
     "text": [
      "{'cherry', 'apple', 'banana'}\n"
     ]
    }
   ],
   "source": [
    "x = {\"apple\", \"banana\", \"cherry\"}\n",
    "y = {\"google\", \"microsoft\", \"apple\"}\n",
    "\n",
    "z = x.union(y)\n",
    "\n",
    "print(x)"
   ]
  },
  {
   "cell_type": "code",
   "execution_count": 127,
   "id": "e5f560f6",
   "metadata": {
    "execution": {
     "iopub.execute_input": "2023-10-25T17:37:31.777045Z",
     "iopub.status.busy": "2023-10-25T17:37:31.776593Z",
     "iopub.status.idle": "2023-10-25T17:37:31.782639Z",
     "shell.execute_reply": "2023-10-25T17:37:31.781812Z"
    },
    "papermill": {
     "duration": 0.090805,
     "end_time": "2023-10-25T17:37:31.784883",
     "exception": false,
     "start_time": "2023-10-25T17:37:31.694078",
     "status": "completed"
    },
    "tags": []
   },
   "outputs": [
    {
     "name": "stdout",
     "output_type": "stream",
     "text": [
      "{'cherry', 'google', 'microsoft', 'apple', 'banana'}\n"
     ]
    }
   ],
   "source": [
    "x = {\"apple\", \"banana\", \"cherry\"}\n",
    "y = {\"google\", \"microsoft\", \"apple\"}\n",
    "\n",
    "x.update(y)\n",
    "\n",
    "print(x)"
   ]
  },
  {
   "cell_type": "code",
   "execution_count": 128,
   "id": "6433fea3",
   "metadata": {
    "execution": {
     "iopub.execute_input": "2023-10-25T17:37:31.946530Z",
     "iopub.status.busy": "2023-10-25T17:37:31.946051Z",
     "iopub.status.idle": "2023-10-25T17:37:31.953384Z",
     "shell.execute_reply": "2023-10-25T17:37:31.952021Z"
    },
    "papermill": {
     "duration": 0.091296,
     "end_time": "2023-10-25T17:37:31.956001",
     "exception": false,
     "start_time": "2023-10-25T17:37:31.864705",
     "status": "completed"
    },
    "tags": []
   },
   "outputs": [
    {
     "name": "stdout",
     "output_type": "stream",
     "text": [
      "{'key 1': 'sush', 'key 2': 'sush', 'key 3': 'sush'}\n"
     ]
    }
   ],
   "source": [
    "x = ('key 1', 'key 2', 'key 3')\n",
    "y = \"sush\"\n",
    "\n",
    "thisdict = dict.fromkeys(x, y)\n",
    "\n",
    "print(thisdict)"
   ]
  },
  {
   "cell_type": "code",
   "execution_count": 129,
   "id": "3e5fc0fb",
   "metadata": {
    "execution": {
     "iopub.execute_input": "2023-10-25T17:37:32.117779Z",
     "iopub.status.busy": "2023-10-25T17:37:32.117348Z",
     "iopub.status.idle": "2023-10-25T17:37:32.125494Z",
     "shell.execute_reply": "2023-10-25T17:37:32.124321Z"
    },
    "papermill": {
     "duration": 0.091795,
     "end_time": "2023-10-25T17:37:32.127720",
     "exception": false,
     "start_time": "2023-10-25T17:37:32.035925",
     "status": "completed"
    },
    "tags": []
   },
   "outputs": [
    {
     "data": {
      "text/plain": [
       "{'key 1': 'sush', 'key 2': 'sush', 'key 3 ': 'sush'}"
      ]
     },
     "execution_count": 129,
     "metadata": {},
     "output_type": "execute_result"
    }
   ],
   "source": [
    "thisdict  = { \"key 1\" : \"sush\",\n",
    "            \"key 2\" : \"sush\",\n",
    "            \"key 3 \" : \"sush\"}\n",
    "thisdict"
   ]
  },
  {
   "cell_type": "code",
   "execution_count": 130,
   "id": "3c8465a2",
   "metadata": {
    "execution": {
     "iopub.execute_input": "2023-10-25T17:37:32.289683Z",
     "iopub.status.busy": "2023-10-25T17:37:32.289236Z",
     "iopub.status.idle": "2023-10-25T17:37:32.294878Z",
     "shell.execute_reply": "2023-10-25T17:37:32.293726Z"
    },
    "papermill": {
     "duration": 0.089385,
     "end_time": "2023-10-25T17:37:32.297252",
     "exception": false,
     "start_time": "2023-10-25T17:37:32.207867",
     "status": "completed"
    },
    "tags": []
   },
   "outputs": [],
   "source": [
    "x = ('st 1', 'st 2', 'st 3')\n",
    "y = 0 "
   ]
  },
  {
   "cell_type": "code",
   "execution_count": 131,
   "id": "4f52c9ac",
   "metadata": {
    "execution": {
     "iopub.execute_input": "2023-10-25T17:37:32.461126Z",
     "iopub.status.busy": "2023-10-25T17:37:32.460438Z",
     "iopub.status.idle": "2023-10-25T17:37:32.468918Z",
     "shell.execute_reply": "2023-10-25T17:37:32.467775Z"
    },
    "papermill": {
     "duration": 0.094235,
     "end_time": "2023-10-25T17:37:32.471373",
     "exception": false,
     "start_time": "2023-10-25T17:37:32.377138",
     "status": "completed"
    },
    "tags": []
   },
   "outputs": [
    {
     "data": {
      "text/plain": [
       "'Mustang'"
      ]
     },
     "execution_count": 131,
     "metadata": {},
     "output_type": "execute_result"
    }
   ],
   "source": [
    "car = {\n",
    "  \"brand\": \"Ford\",\n",
    "  \"model\": \"Mustang\",\n",
    "  \"year\": 1964\n",
    "}\n",
    "\n",
    "car.get(\"model\")\n",
    "\n"
   ]
  },
  {
   "cell_type": "code",
   "execution_count": 132,
   "id": "72036957",
   "metadata": {
    "execution": {
     "iopub.execute_input": "2023-10-25T17:37:32.634406Z",
     "iopub.status.busy": "2023-10-25T17:37:32.633976Z",
     "iopub.status.idle": "2023-10-25T17:37:32.640804Z",
     "shell.execute_reply": "2023-10-25T17:37:32.639969Z"
    },
    "papermill": {
     "duration": 0.091426,
     "end_time": "2023-10-25T17:37:32.642849",
     "exception": false,
     "start_time": "2023-10-25T17:37:32.551423",
     "status": "completed"
    },
    "tags": []
   },
   "outputs": [
    {
     "data": {
      "text/plain": [
       "'Mustang'"
      ]
     },
     "execution_count": 132,
     "metadata": {},
     "output_type": "execute_result"
    }
   ],
   "source": [
    "car = {\n",
    "  \"brand\": \"Ford\",\n",
    "  \"model\": \"Mustang\",\n",
    "  \"year\": 1964\n",
    "}\n",
    "car[\"model\"]"
   ]
  },
  {
   "cell_type": "code",
   "execution_count": 133,
   "id": "e937136f",
   "metadata": {
    "execution": {
     "iopub.execute_input": "2023-10-25T17:37:32.806828Z",
     "iopub.status.busy": "2023-10-25T17:37:32.806371Z",
     "iopub.status.idle": "2023-10-25T17:37:32.813647Z",
     "shell.execute_reply": "2023-10-25T17:37:32.812834Z"
    },
    "papermill": {
     "duration": 0.092072,
     "end_time": "2023-10-25T17:37:32.815752",
     "exception": false,
     "start_time": "2023-10-25T17:37:32.723680",
     "status": "completed"
    },
    "tags": []
   },
   "outputs": [
    {
     "data": {
      "text/plain": [
       "dict_keys(['brand', 'model', 'year'])"
      ]
     },
     "execution_count": 133,
     "metadata": {},
     "output_type": "execute_result"
    }
   ],
   "source": [
    "car = {\n",
    "  \"brand\": \"Ford\",\n",
    "  \"model\": \"Mustang\",\n",
    "  \"year\": 1964\n",
    "}\n",
    "\n",
    "car.keys()"
   ]
  },
  {
   "cell_type": "code",
   "execution_count": 134,
   "id": "055c21ff",
   "metadata": {
    "execution": {
     "iopub.execute_input": "2023-10-25T17:37:32.979822Z",
     "iopub.status.busy": "2023-10-25T17:37:32.979397Z",
     "iopub.status.idle": "2023-10-25T17:37:32.986023Z",
     "shell.execute_reply": "2023-10-25T17:37:32.985231Z"
    },
    "papermill": {
     "duration": 0.092369,
     "end_time": "2023-10-25T17:37:32.988200",
     "exception": false,
     "start_time": "2023-10-25T17:37:32.895831",
     "status": "completed"
    },
    "tags": []
   },
   "outputs": [
    {
     "data": {
      "text/plain": [
       "dict_values(['Ford', 'Mustang', 1964])"
      ]
     },
     "execution_count": 134,
     "metadata": {},
     "output_type": "execute_result"
    }
   ],
   "source": [
    "car.values()"
   ]
  },
  {
   "cell_type": "code",
   "execution_count": 135,
   "id": "8aa6e0d2",
   "metadata": {
    "execution": {
     "iopub.execute_input": "2023-10-25T17:37:33.152879Z",
     "iopub.status.busy": "2023-10-25T17:37:33.152451Z",
     "iopub.status.idle": "2023-10-25T17:37:33.158293Z",
     "shell.execute_reply": "2023-10-25T17:37:33.157446Z"
    },
    "papermill": {
     "duration": 0.090703,
     "end_time": "2023-10-25T17:37:33.160449",
     "exception": false,
     "start_time": "2023-10-25T17:37:33.069746",
     "status": "completed"
    },
    "tags": []
   },
   "outputs": [
    {
     "data": {
      "text/plain": [
       "dict_items([('brand', 'Ford'), ('model', 'Mustang'), ('year', 1964)])"
      ]
     },
     "execution_count": 135,
     "metadata": {},
     "output_type": "execute_result"
    }
   ],
   "source": [
    "car.items()"
   ]
  },
  {
   "cell_type": "code",
   "execution_count": 136,
   "id": "f3300ae2",
   "metadata": {
    "execution": {
     "iopub.execute_input": "2023-10-25T17:37:33.324762Z",
     "iopub.status.busy": "2023-10-25T17:37:33.324260Z",
     "iopub.status.idle": "2023-10-25T17:37:33.330831Z",
     "shell.execute_reply": "2023-10-25T17:37:33.329725Z"
    },
    "papermill": {
     "duration": 0.091475,
     "end_time": "2023-10-25T17:37:33.333084",
     "exception": false,
     "start_time": "2023-10-25T17:37:33.241609",
     "status": "completed"
    },
    "tags": []
   },
   "outputs": [
    {
     "name": "stdout",
     "output_type": "stream",
     "text": [
      "{'brand': 'Ford', 'year': 1964}\n"
     ]
    }
   ],
   "source": [
    "car = {\n",
    "  \"brand\": \"Ford\",\n",
    "  \"model\": \"Mustang\",\n",
    "  \"year\": 1964\n",
    "}\n",
    "\n",
    "car.pop(\"model\")\n",
    "\n",
    "print(car)"
   ]
  },
  {
   "cell_type": "code",
   "execution_count": 137,
   "id": "9fdbb487",
   "metadata": {
    "execution": {
     "iopub.execute_input": "2023-10-25T17:37:33.499795Z",
     "iopub.status.busy": "2023-10-25T17:37:33.499375Z",
     "iopub.status.idle": "2023-10-25T17:37:33.504804Z",
     "shell.execute_reply": "2023-10-25T17:37:33.504064Z"
    },
    "papermill": {
     "duration": 0.094206,
     "end_time": "2023-10-25T17:37:33.507930",
     "exception": false,
     "start_time": "2023-10-25T17:37:33.413724",
     "status": "completed"
    },
    "tags": []
   },
   "outputs": [
    {
     "name": "stdout",
     "output_type": "stream",
     "text": [
      "{'brand': 'Ford', 'model': 'Mustang'}\n"
     ]
    }
   ],
   "source": [
    "car = {\n",
    "  \"brand\": \"Ford\",\n",
    "  \"model\": \"Mustang\",\n",
    "  \"year\": 1964\n",
    "}\n",
    "\n",
    "car.popitem()\n",
    "\n",
    "print(car)"
   ]
  },
  {
   "cell_type": "code",
   "execution_count": 138,
   "id": "045a4d90",
   "metadata": {
    "execution": {
     "iopub.execute_input": "2023-10-25T17:37:33.675610Z",
     "iopub.status.busy": "2023-10-25T17:37:33.675208Z",
     "iopub.status.idle": "2023-10-25T17:37:33.681664Z",
     "shell.execute_reply": "2023-10-25T17:37:33.680299Z"
    },
    "papermill": {
     "duration": 0.092885,
     "end_time": "2023-10-25T17:37:33.683946",
     "exception": false,
     "start_time": "2023-10-25T17:37:33.591061",
     "status": "completed"
    },
    "tags": []
   },
   "outputs": [
    {
     "name": "stdout",
     "output_type": "stream",
     "text": [
      "None\n"
     ]
    }
   ],
   "source": [
    "car = {\n",
    "  \"brand\": \"Ford\",\n",
    "    \"model\" : None ,\n",
    "\n",
    "  \"year\": 1964\n",
    "}\n",
    "\n",
    "x = car.setdefault(\"model\", \"Bronco\")\n",
    "\n",
    "print(x)"
   ]
  },
  {
   "cell_type": "code",
   "execution_count": 139,
   "id": "4de31445",
   "metadata": {
    "execution": {
     "iopub.execute_input": "2023-10-25T17:37:33.854127Z",
     "iopub.status.busy": "2023-10-25T17:37:33.853738Z",
     "iopub.status.idle": "2023-10-25T17:37:33.860191Z",
     "shell.execute_reply": "2023-10-25T17:37:33.858845Z"
    },
    "papermill": {
     "duration": 0.093667,
     "end_time": "2023-10-25T17:37:33.863034",
     "exception": false,
     "start_time": "2023-10-25T17:37:33.769367",
     "status": "completed"
    },
    "tags": []
   },
   "outputs": [
    {
     "name": "stdout",
     "output_type": "stream",
     "text": [
      "{'brand': 'Ford', 'model': 'Mustang', 'year': 1964, 'color': 'White'}\n"
     ]
    }
   ],
   "source": [
    "car = {\n",
    "  \"brand\": \"Ford\",\n",
    "  \"model\": \"Mustang\",\n",
    "  \"year\": 1964\n",
    "}\n",
    "\n",
    "\n",
    "car.update({\"color\": \"White\"})\n",
    "print(car)\n",
    "\n"
   ]
  },
  {
   "cell_type": "code",
   "execution_count": 140,
   "id": "c640aa3f",
   "metadata": {
    "execution": {
     "iopub.execute_input": "2023-10-25T17:37:34.028290Z",
     "iopub.status.busy": "2023-10-25T17:37:34.027883Z",
     "iopub.status.idle": "2023-10-25T17:37:34.032398Z",
     "shell.execute_reply": "2023-10-25T17:37:34.031354Z"
    },
    "papermill": {
     "duration": 0.089863,
     "end_time": "2023-10-25T17:37:34.034593",
     "exception": false,
     "start_time": "2023-10-25T17:37:33.944730",
     "status": "completed"
    },
    "tags": []
   },
   "outputs": [],
   "source": [
    "# *"
   ]
  },
  {
   "cell_type": "code",
   "execution_count": 141,
   "id": "65736357",
   "metadata": {
    "execution": {
     "iopub.execute_input": "2023-10-25T17:37:34.198456Z",
     "iopub.status.busy": "2023-10-25T17:37:34.198081Z",
     "iopub.status.idle": "2023-10-25T17:37:34.203421Z",
     "shell.execute_reply": "2023-10-25T17:37:34.202356Z"
    },
    "papermill": {
     "duration": 0.090688,
     "end_time": "2023-10-25T17:37:34.206110",
     "exception": false,
     "start_time": "2023-10-25T17:37:34.115422",
     "status": "completed"
    },
    "tags": []
   },
   "outputs": [
    {
     "name": "stdout",
     "output_type": "stream",
     "text": [
      "*\n"
     ]
    }
   ],
   "source": [
    "print(\"*\")"
   ]
  },
  {
   "cell_type": "code",
   "execution_count": 142,
   "id": "b48adf37",
   "metadata": {
    "execution": {
     "iopub.execute_input": "2023-10-25T17:37:34.372943Z",
     "iopub.status.busy": "2023-10-25T17:37:34.372598Z",
     "iopub.status.idle": "2023-10-25T17:37:34.376774Z",
     "shell.execute_reply": "2023-10-25T17:37:34.375654Z"
    },
    "papermill": {
     "duration": 0.092073,
     "end_time": "2023-10-25T17:37:34.378927",
     "exception": false,
     "start_time": "2023-10-25T17:37:34.286854",
     "status": "completed"
    },
    "tags": []
   },
   "outputs": [],
   "source": [
    "# *\n",
    "# **"
   ]
  },
  {
   "cell_type": "code",
   "execution_count": 143,
   "id": "fbd183ab",
   "metadata": {
    "execution": {
     "iopub.execute_input": "2023-10-25T17:37:34.564215Z",
     "iopub.status.busy": "2023-10-25T17:37:34.563190Z",
     "iopub.status.idle": "2023-10-25T17:37:34.571041Z",
     "shell.execute_reply": "2023-10-25T17:37:34.569362Z"
    },
    "papermill": {
     "duration": 0.11376,
     "end_time": "2023-10-25T17:37:34.575804",
     "exception": false,
     "start_time": "2023-10-25T17:37:34.462044",
     "status": "completed"
    },
    "tags": []
   },
   "outputs": [
    {
     "name": "stdout",
     "output_type": "stream",
     "text": [
      "*\n",
      "**\n"
     ]
    }
   ],
   "source": [
    "print(\"*\")\n",
    "print(\"**\")"
   ]
  },
  {
   "cell_type": "code",
   "execution_count": 144,
   "id": "b4e1b968",
   "metadata": {
    "execution": {
     "iopub.execute_input": "2023-10-25T17:37:34.747814Z",
     "iopub.status.busy": "2023-10-25T17:37:34.747418Z",
     "iopub.status.idle": "2023-10-25T17:37:34.752553Z",
     "shell.execute_reply": "2023-10-25T17:37:34.751163Z"
    },
    "papermill": {
     "duration": 0.092178,
     "end_time": "2023-10-25T17:37:34.754778",
     "exception": false,
     "start_time": "2023-10-25T17:37:34.662600",
     "status": "completed"
    },
    "tags": []
   },
   "outputs": [],
   "source": [
    "# *\n",
    "# **\n",
    "# ***\n",
    "# ****"
   ]
  },
  {
   "cell_type": "code",
   "execution_count": 145,
   "id": "86347c7c",
   "metadata": {
    "execution": {
     "iopub.execute_input": "2023-10-25T17:37:34.924099Z",
     "iopub.status.busy": "2023-10-25T17:37:34.923604Z",
     "iopub.status.idle": "2023-10-25T17:37:34.932146Z",
     "shell.execute_reply": "2023-10-25T17:37:34.930874Z"
    },
    "papermill": {
     "duration": 0.09633,
     "end_time": "2023-10-25T17:37:34.934806",
     "exception": false,
     "start_time": "2023-10-25T17:37:34.838476",
     "status": "completed"
    },
    "tags": []
   },
   "outputs": [
    {
     "name": "stdout",
     "output_type": "stream",
     "text": [
      "   *\n",
      "  **\n",
      " ***\n",
      "****\n",
      " ***\n",
      "  **\n",
      "   *\n"
     ]
    }
   ],
   "source": [
    "for i in range(4) :\n",
    "    print(\" \"*(3-i),end=\"\")\n",
    "    print(\"*\"* (i+1))\n",
    "#     print(\"--\")\n",
    "for j in range(3):\n",
    "    print(\" \"*(j+1),end=\"\")\n",
    "    print(\"*\"*(3-j))"
   ]
  },
  {
   "cell_type": "code",
   "execution_count": 146,
   "id": "e31ed557",
   "metadata": {
    "execution": {
     "iopub.execute_input": "2023-10-25T17:37:35.106521Z",
     "iopub.status.busy": "2023-10-25T17:37:35.105792Z",
     "iopub.status.idle": "2023-10-25T17:37:35.110562Z",
     "shell.execute_reply": "2023-10-25T17:37:35.109700Z"
    },
    "papermill": {
     "duration": 0.0932,
     "end_time": "2023-10-25T17:37:35.112830",
     "exception": false,
     "start_time": "2023-10-25T17:37:35.019630",
     "status": "completed"
    },
    "tags": []
   },
   "outputs": [],
   "source": [
    "#    *\n",
    "#   ***\n",
    "#  *****\n",
    "# *******\n",
    "\n",
    "#  *****\n",
    "#   ***\n",
    "#    *"
   ]
  },
  {
   "cell_type": "code",
   "execution_count": 147,
   "id": "dc6e0edc",
   "metadata": {
    "execution": {
     "iopub.execute_input": "2023-10-25T17:37:35.304192Z",
     "iopub.status.busy": "2023-10-25T17:37:35.303333Z",
     "iopub.status.idle": "2023-10-25T17:37:35.308349Z",
     "shell.execute_reply": "2023-10-25T17:37:35.307557Z"
    },
    "papermill": {
     "duration": 0.102493,
     "end_time": "2023-10-25T17:37:35.310727",
     "exception": false,
     "start_time": "2023-10-25T17:37:35.208234",
     "status": "completed"
    },
    "tags": []
   },
   "outputs": [],
   "source": [
    "# *\n",
    "# ***\n",
    "# *****\n",
    "# *******\n",
    "\n",
    "\n",
    "# *****\n",
    "# ***\n",
    "# *"
   ]
  },
  {
   "cell_type": "code",
   "execution_count": 148,
   "id": "914abe94",
   "metadata": {
    "execution": {
     "iopub.execute_input": "2023-10-25T17:37:35.486091Z",
     "iopub.status.busy": "2023-10-25T17:37:35.485205Z",
     "iopub.status.idle": "2023-10-25T17:37:35.492495Z",
     "shell.execute_reply": "2023-10-25T17:37:35.491135Z"
    },
    "papermill": {
     "duration": 0.095704,
     "end_time": "2023-10-25T17:37:35.494748",
     "exception": false,
     "start_time": "2023-10-25T17:37:35.399044",
     "status": "completed"
    },
    "tags": []
   },
   "outputs": [
    {
     "name": "stdout",
     "output_type": "stream",
     "text": [
      "*\n",
      "***\n",
      "*****\n",
      "*******\n",
      "*\n",
      "*\n",
      "*\n"
     ]
    }
   ],
   "source": [
    "for i in range(4):\n",
    "    print(\"*\"* ((2*i)+1))\n",
    "for j in range(3):\n",
    "    print(\"*\")"
   ]
  },
  {
   "cell_type": "code",
   "execution_count": 149,
   "id": "30a58b10",
   "metadata": {
    "execution": {
     "iopub.execute_input": "2023-10-25T17:37:35.683391Z",
     "iopub.status.busy": "2023-10-25T17:37:35.682527Z",
     "iopub.status.idle": "2023-10-25T17:37:35.687326Z",
     "shell.execute_reply": "2023-10-25T17:37:35.686546Z"
    },
    "papermill": {
     "duration": 0.100511,
     "end_time": "2023-10-25T17:37:35.689572",
     "exception": false,
     "start_time": "2023-10-25T17:37:35.589061",
     "status": "completed"
    },
    "tags": []
   },
   "outputs": [],
   "source": [
    "#     *\n",
    "#    ***\n",
    "#   *****\n",
    "#  *******\n",
    "# *********\n",
    "#  *******\n",
    "#   *****\n",
    "#    ***\n",
    "#     *"
   ]
  },
  {
   "cell_type": "code",
   "execution_count": 150,
   "id": "6ef605c9",
   "metadata": {
    "execution": {
     "iopub.execute_input": "2023-10-25T17:37:35.858449Z",
     "iopub.status.busy": "2023-10-25T17:37:35.857625Z",
     "iopub.status.idle": "2023-10-25T17:37:35.866632Z",
     "shell.execute_reply": "2023-10-25T17:37:35.865359Z"
    },
    "papermill": {
     "duration": 0.097139,
     "end_time": "2023-10-25T17:37:35.869586",
     "exception": false,
     "start_time": "2023-10-25T17:37:35.772447",
     "status": "completed"
    },
    "tags": []
   },
   "outputs": [
    {
     "name": "stdout",
     "output_type": "stream",
     "text": [
      "                        *\n",
      "                       ***\n",
      "                      *****\n",
      "                     *******\n",
      "                    *********\n",
      "                   ***********\n",
      "                  *************\n",
      "                 ***************\n",
      "                *****************\n",
      "               *******************\n",
      "              *********************\n",
      "             ***********************\n",
      "            *************************\n",
      "           ***************************\n",
      "          *****************************\n",
      "         *******************************\n",
      "        *********************************\n",
      "       ***********************************\n",
      "      *************************************\n",
      "     ***************************************\n",
      "    *****************************************\n",
      "   *******************************************\n",
      "  *********************************************\n",
      " ***********************************************\n",
      "*************************************************\n",
      " ***********************************************\n",
      "  *********************************************\n",
      "   *******************************************\n",
      "    *****************************************\n",
      "     ***************************************\n",
      "      *************************************\n",
      "       ***********************************\n",
      "        *********************************\n",
      "         *******************************\n",
      "          *****************************\n",
      "           ***************************\n",
      "            *************************\n",
      "             ***********************\n",
      "              *********************\n",
      "               *******************\n",
      "                *****************\n",
      "                 ***************\n",
      "                  *************\n",
      "                   ***********\n",
      "                    *********\n",
      "                     *******\n",
      "                      *****\n",
      "                       ***\n",
      "                        *\n"
     ]
    }
   ],
   "source": [
    "n =25\n",
    "\n",
    "for i in range(n):\n",
    "    print(\" \"*(n-1-i),end=\"\")\n",
    "    print(\"*\"*((2*i)+1))\n",
    "for j in range(n-1):\n",
    "    print(\" \"*(j+1),end=\"\")\n",
    "    print(\"*\"*((2*(n-2-j))+1))"
   ]
  },
  {
   "cell_type": "markdown",
   "id": "1f5b510b",
   "metadata": {
    "papermill": {
     "duration": 0.08395,
     "end_time": "2023-10-25T17:37:36.037369",
     "exception": false,
     "start_time": "2023-10-25T17:37:35.953419",
     "status": "completed"
    },
    "tags": []
   },
   "source": [
    "# "
   ]
  },
  {
   "cell_type": "code",
   "execution_count": 151,
   "id": "2cf2f913",
   "metadata": {
    "execution": {
     "iopub.execute_input": "2023-10-25T17:37:36.208527Z",
     "iopub.status.busy": "2023-10-25T17:37:36.208083Z",
     "iopub.status.idle": "2023-10-25T17:37:36.212626Z",
     "shell.execute_reply": "2023-10-25T17:37:36.211538Z"
    },
    "papermill": {
     "duration": 0.091772,
     "end_time": "2023-10-25T17:37:36.214931",
     "exception": false,
     "start_time": "2023-10-25T17:37:36.123159",
     "status": "completed"
    },
    "tags": []
   },
   "outputs": [],
   "source": [
    "#    *    \n",
    "#   * *\n",
    "#  *   *\n",
    "# *     *\n",
    "#  *   *\n",
    "#   * *\n",
    "\n",
    "\n",
    "#    *"
   ]
  },
  {
   "cell_type": "code",
   "execution_count": 152,
   "id": "8a62f46f",
   "metadata": {
    "execution": {
     "iopub.execute_input": "2023-10-25T17:37:36.386975Z",
     "iopub.status.busy": "2023-10-25T17:37:36.386127Z",
     "iopub.status.idle": "2023-10-25T17:37:36.395636Z",
     "shell.execute_reply": "2023-10-25T17:37:36.394007Z"
    },
    "papermill": {
     "duration": 0.097112,
     "end_time": "2023-10-25T17:37:36.398006",
     "exception": false,
     "start_time": "2023-10-25T17:37:36.300894",
     "status": "completed"
    },
    "tags": []
   },
   "outputs": [
    {
     "name": "stdout",
     "output_type": "stream",
     "text": [
      "           *\n",
      "          * *\n",
      "         *   *\n",
      "        *     *\n",
      "       *       *\n",
      "      *         *\n",
      "     *           *\n",
      "    *             *\n",
      "   *               *\n",
      "  *                 *\n",
      " *                   *\n",
      "  *                 *\n",
      "   *               *\n",
      "    *             *\n",
      "     *           *\n",
      "      *         *\n",
      "       *       *\n",
      "        *     *\n",
      "         *   *\n",
      "          * *\n",
      "           *\n"
     ]
    }
   ],
   "source": [
    "n = 11\n",
    "# n = 4\n",
    "print(\" \"*(n-1),\"*\")\n",
    "for i in range((n-1)):\n",
    "    print(\" \"*(n-2-i),\"*\"+\" \"*((2*i )+1)+\"*\")\n",
    "for j in range(n-2):\n",
    "    print(\" \"*(j+1),\"*\"+\" \"*((2*(n-2-j))-1)+\"*\")\n",
    "    \n",
    "\n",
    "    \n",
    "print(\" \"*(n-1),\"*\")"
   ]
  },
  {
   "cell_type": "code",
   "execution_count": 153,
   "id": "c4c9bbba",
   "metadata": {
    "execution": {
     "iopub.execute_input": "2023-10-25T17:37:36.569230Z",
     "iopub.status.busy": "2023-10-25T17:37:36.568085Z",
     "iopub.status.idle": "2023-10-25T17:37:36.572557Z",
     "shell.execute_reply": "2023-10-25T17:37:36.571762Z"
    },
    "papermill": {
     "duration": 0.091582,
     "end_time": "2023-10-25T17:37:36.574828",
     "exception": false,
     "start_time": "2023-10-25T17:37:36.483246",
     "status": "completed"
    },
    "tags": []
   },
   "outputs": [],
   "source": [
    "# 1\n",
    "# 1 1\n",
    "# 1 1 1\n",
    "# 1 1 1 1\n",
    "# 1 1 1 1 1"
   ]
  },
  {
   "cell_type": "code",
   "execution_count": 154,
   "id": "a854ebef",
   "metadata": {
    "execution": {
     "iopub.execute_input": "2023-10-25T17:37:36.747502Z",
     "iopub.status.busy": "2023-10-25T17:37:36.746182Z",
     "iopub.status.idle": "2023-10-25T17:37:36.753191Z",
     "shell.execute_reply": "2023-10-25T17:37:36.751674Z"
    },
    "papermill": {
     "duration": 0.096351,
     "end_time": "2023-10-25T17:37:36.755507",
     "exception": false,
     "start_time": "2023-10-25T17:37:36.659156",
     "status": "completed"
    },
    "tags": []
   },
   "outputs": [
    {
     "name": "stdout",
     "output_type": "stream",
     "text": [
      "1 \n",
      "1 1 \n",
      "1 1 1 \n",
      "1 1 1 1 \n",
      "1 1 1 1 1 \n"
     ]
    }
   ],
   "source": [
    "for i in range(5):\n",
    "    print(\"1 \"*(i+1))"
   ]
  },
  {
   "cell_type": "code",
   "execution_count": 155,
   "id": "7574c456",
   "metadata": {
    "execution": {
     "iopub.execute_input": "2023-10-25T17:37:36.929173Z",
     "iopub.status.busy": "2023-10-25T17:37:36.928253Z",
     "iopub.status.idle": "2023-10-25T17:37:36.933004Z",
     "shell.execute_reply": "2023-10-25T17:37:36.931860Z"
    },
    "papermill": {
     "duration": 0.093464,
     "end_time": "2023-10-25T17:37:36.935334",
     "exception": false,
     "start_time": "2023-10-25T17:37:36.841870",
     "status": "completed"
    },
    "tags": []
   },
   "outputs": [],
   "source": [
    "# 1\n",
    "# 1 2\n",
    "# 1 2 3\n",
    "# 1 2 3 4\n",
    "# 1 2 3 4 5"
   ]
  },
  {
   "cell_type": "code",
   "execution_count": 156,
   "id": "cf598f22",
   "metadata": {
    "execution": {
     "iopub.execute_input": "2023-10-25T17:37:37.108306Z",
     "iopub.status.busy": "2023-10-25T17:37:37.107615Z",
     "iopub.status.idle": "2023-10-25T17:37:37.113714Z",
     "shell.execute_reply": "2023-10-25T17:37:37.112653Z"
    },
    "papermill": {
     "duration": 0.095821,
     "end_time": "2023-10-25T17:37:37.116162",
     "exception": false,
     "start_time": "2023-10-25T17:37:37.020341",
     "status": "completed"
    },
    "tags": []
   },
   "outputs": [
    {
     "name": "stdout",
     "output_type": "stream",
     "text": [
      "1 \n",
      "1 2 \n",
      "1 2 3 \n",
      "1 2 3 4 \n",
      "1 2 3 4 5 \n"
     ]
    }
   ],
   "source": [
    "for i in range(5):\n",
    "    for j in range(i+1) :\n",
    "        print(j+1,end=\" \")\n",
    "    print()"
   ]
  },
  {
   "cell_type": "code",
   "execution_count": 157,
   "id": "7c8b57a1",
   "metadata": {
    "execution": {
     "iopub.execute_input": "2023-10-25T17:37:37.282053Z",
     "iopub.status.busy": "2023-10-25T17:37:37.281005Z",
     "iopub.status.idle": "2023-10-25T17:37:37.285429Z",
     "shell.execute_reply": "2023-10-25T17:37:37.284612Z"
    },
    "papermill": {
     "duration": 0.089599,
     "end_time": "2023-10-25T17:37:37.287576",
     "exception": false,
     "start_time": "2023-10-25T17:37:37.197977",
     "status": "completed"
    },
    "tags": []
   },
   "outputs": [],
   "source": [
    "#       1\n",
    "#     1 2 1\n",
    "#   1 2 3 2 1 \n",
    "# 1 2 3 4 3 2 1\n",
    "#   1 2 3 2 1\n",
    "#     1 2 1\n",
    "#       1"
   ]
  },
  {
   "cell_type": "code",
   "execution_count": 158,
   "id": "9c7fb51e",
   "metadata": {
    "execution": {
     "iopub.execute_input": "2023-10-25T17:37:37.455726Z",
     "iopub.status.busy": "2023-10-25T17:37:37.455000Z",
     "iopub.status.idle": "2023-10-25T17:37:37.465762Z",
     "shell.execute_reply": "2023-10-25T17:37:37.464452Z"
    },
    "papermill": {
     "duration": 0.099866,
     "end_time": "2023-10-25T17:37:37.468909",
     "exception": false,
     "start_time": "2023-10-25T17:37:37.369043",
     "status": "completed"
    },
    "tags": []
   },
   "outputs": [
    {
     "name": "stdout",
     "output_type": "stream",
     "text": [
      "              1 \n",
      "            1 2 1 \n",
      "          1 2 3 2 1 \n",
      "        1 2 3 4 3 2 1 \n",
      "      1 2 3 4 5 4 3 2 1 \n",
      "    1 2 3 4 5 6 5 4 3 2 1 \n",
      "  1 2 3 4 5 6 7 6 5 4 3 2 1 \n",
      "1 2 3 4 5 6 7 8 7 6 5 4 3 2 1 \n",
      "  1 2 3 4 5 6 7 6 5 4 3 2 1 \n",
      "    1 2 3 4 5 6 5 4 3 2 1 \n",
      "      1 2 3 4 5 4 3 2 1 \n",
      "        1 2 3 4 3 2 1 \n",
      "          1 2 3 2 1 \n",
      "            1 2 1 \n",
      "              1 \n"
     ]
    }
   ],
   "source": [
    "n = 8\n",
    "# 4\n",
    "for i in range(n):\n",
    "    print(\" \"*(2*(n-1-i)),end=\"\")\n",
    "    for j in range(i+1):\n",
    "        print(j+1 ,end=\" \")\n",
    "    for k in range(i-1,-1,-1):\n",
    "        print(k+1 ,end=\" \")\n",
    "    print()\n",
    "for p in range(n-1) : # 0 13\n",
    "    print(\" \"*(2*(p+1)),end=\"\")\n",
    "    for q in range(n-1-p) :\n",
    "        print(q+1,end=\" \")        \n",
    "    for r in range(n-p-3,-1,-1):\n",
    "        print(r+1,end=\" \")\n",
    "    print()"
   ]
  },
  {
   "cell_type": "markdown",
   "id": "7c02d4fa",
   "metadata": {
    "execution": {
     "iopub.execute_input": "2023-10-20T17:08:22.412842Z",
     "iopub.status.busy": "2023-10-20T17:08:22.412393Z",
     "iopub.status.idle": "2023-10-20T17:08:22.418210Z",
     "shell.execute_reply": "2023-10-20T17:08:22.417396Z",
     "shell.execute_reply.started": "2023-10-20T17:08:22.412813Z"
    },
    "papermill": {
     "duration": 0.084645,
     "end_time": "2023-10-25T17:37:37.635532",
     "exception": false,
     "start_time": "2023-10-25T17:37:37.550887",
     "status": "completed"
    },
    "tags": []
   },
   "source": [
    "# for i in range(4):\n",
    "    print(i, end=\" \")"
   ]
  },
  {
   "cell_type": "code",
   "execution_count": 159,
   "id": "c8779f3f",
   "metadata": {
    "execution": {
     "iopub.execute_input": "2023-10-25T17:37:37.804539Z",
     "iopub.status.busy": "2023-10-25T17:37:37.804166Z",
     "iopub.status.idle": "2023-10-25T17:37:37.809692Z",
     "shell.execute_reply": "2023-10-25T17:37:37.808738Z"
    },
    "papermill": {
     "duration": 0.092603,
     "end_time": "2023-10-25T17:37:37.811689",
     "exception": false,
     "start_time": "2023-10-25T17:37:37.719086",
     "status": "completed"
    },
    "tags": []
   },
   "outputs": [
    {
     "name": "stdout",
     "output_type": "stream",
     "text": [
      "3 2 1 0 "
     ]
    }
   ],
   "source": [
    "for i in range(3,-1,-1):\n",
    "    print(i, end=\" \")"
   ]
  },
  {
   "cell_type": "code",
   "execution_count": 160,
   "id": "7efc039b",
   "metadata": {
    "execution": {
     "iopub.execute_input": "2023-10-25T17:37:37.980831Z",
     "iopub.status.busy": "2023-10-25T17:37:37.979660Z",
     "iopub.status.idle": "2023-10-25T17:37:37.984014Z",
     "shell.execute_reply": "2023-10-25T17:37:37.983312Z"
    },
    "papermill": {
     "duration": 0.091185,
     "end_time": "2023-10-25T17:37:37.986063",
     "exception": false,
     "start_time": "2023-10-25T17:37:37.894878",
     "status": "completed"
    },
    "tags": []
   },
   "outputs": [],
   "source": [
    "# 0  \n",
    "\n",
    "# 0 1  \n",
    "\n",
    "# 0 2 4  \n",
    "\n",
    "# 0 3 6 9  \n",
    "\n",
    "# 0 4 8 12 16  \n",
    "\n",
    "# 0 5 10 15 20 25  \n",
    "\n",
    "# 0 6 12 18 24 30 36"
   ]
  },
  {
   "cell_type": "code",
   "execution_count": 161,
   "id": "00154319",
   "metadata": {
    "execution": {
     "iopub.execute_input": "2023-10-25T17:37:38.155718Z",
     "iopub.status.busy": "2023-10-25T17:37:38.155310Z",
     "iopub.status.idle": "2023-10-25T17:37:38.162379Z",
     "shell.execute_reply": "2023-10-25T17:37:38.161336Z"
    },
    "papermill": {
     "duration": 0.095043,
     "end_time": "2023-10-25T17:37:38.164723",
     "exception": false,
     "start_time": "2023-10-25T17:37:38.069680",
     "status": "completed"
    },
    "tags": []
   },
   "outputs": [
    {
     "name": "stdout",
     "output_type": "stream",
     "text": [
      "0 \n",
      "0 1 \n",
      "0 2 4 \n",
      "0 3 6 9 \n",
      "0 4 8 12 16 \n",
      "0 5 10 15 20 25 \n",
      "0 6 12 18 24 30 36 \n",
      "0 7 14 21 28 35 42 49 \n",
      "0 8 16 24 32 40 48 56 64 \n",
      "0 9 18 27 36 45 54 63 72 81 \n",
      "0 10 20 30 40 50 60 70 80 90 100 \n",
      "0 11 22 33 44 55 66 77 88 99 110 121 \n",
      "0 12 24 36 48 60 72 84 96 108 120 132 144 \n",
      "0 13 26 39 52 65 78 91 104 117 130 143 156 169 \n",
      "0 14 28 42 56 70 84 98 112 126 140 154 168 182 196 \n",
      "0 15 30 45 60 75 90 105 120 135 150 165 180 195 210 225 \n"
     ]
    }
   ],
   "source": [
    "n = 15\n",
    "# 6\n",
    "for i in range(n+1):\n",
    "    for j in range(i+1):\n",
    "        print(j*i,end=\" \")\n",
    "    print()"
   ]
  },
  {
   "cell_type": "code",
   "execution_count": 162,
   "id": "ebd4a2cd",
   "metadata": {
    "execution": {
     "iopub.execute_input": "2023-10-25T17:37:38.334505Z",
     "iopub.status.busy": "2023-10-25T17:37:38.334104Z",
     "iopub.status.idle": "2023-10-25T17:37:38.338438Z",
     "shell.execute_reply": "2023-10-25T17:37:38.337426Z"
    },
    "papermill": {
     "duration": 0.09187,
     "end_time": "2023-10-25T17:37:38.340462",
     "exception": false,
     "start_time": "2023-10-25T17:37:38.248592",
     "status": "completed"
    },
    "tags": []
   },
   "outputs": [],
   "source": [
    "# 1 \n",
    "\n",
    "# 3 3 \n",
    "\n",
    "# 5 5 5 \n",
    "\n",
    "# 7 7 7 7 \n",
    "\n",
    "# 9 9 9 9 9"
   ]
  },
  {
   "cell_type": "code",
   "execution_count": 163,
   "id": "c37d75fa",
   "metadata": {
    "execution": {
     "iopub.execute_input": "2023-10-25T17:37:38.511568Z",
     "iopub.status.busy": "2023-10-25T17:37:38.511170Z",
     "iopub.status.idle": "2023-10-25T17:37:38.517338Z",
     "shell.execute_reply": "2023-10-25T17:37:38.516314Z"
    },
    "papermill": {
     "duration": 0.095413,
     "end_time": "2023-10-25T17:37:38.520214",
     "exception": false,
     "start_time": "2023-10-25T17:37:38.424801",
     "status": "completed"
    },
    "tags": []
   },
   "outputs": [
    {
     "name": "stdout",
     "output_type": "stream",
     "text": [
      "1 \n",
      "3 3 \n",
      "5 5 5 \n",
      "7 7 7 7 \n",
      "9 9 9 9 9 \n"
     ]
    }
   ],
   "source": [
    "\n",
    "n = 5\n",
    "for i in range(n):\n",
    "    for j in range(i+1):\n",
    "        print((2*i)+1,end=\" \")\n",
    "    print()"
   ]
  },
  {
   "cell_type": "code",
   "execution_count": 164,
   "id": "d2be7956",
   "metadata": {
    "execution": {
     "iopub.execute_input": "2023-10-25T17:37:38.691751Z",
     "iopub.status.busy": "2023-10-25T17:37:38.691267Z",
     "iopub.status.idle": "2023-10-25T17:37:38.696675Z",
     "shell.execute_reply": "2023-10-25T17:37:38.695696Z"
    },
    "papermill": {
     "duration": 0.09607,
     "end_time": "2023-10-25T17:37:38.699021",
     "exception": false,
     "start_time": "2023-10-25T17:37:38.602951",
     "status": "completed"
    },
    "tags": []
   },
   "outputs": [],
   "source": [
    "# ******\n",
    "#     *\n",
    "#    *\n",
    "#   *\n",
    "#  *\n",
    "# ******"
   ]
  },
  {
   "cell_type": "code",
   "execution_count": 165,
   "id": "f0060b11",
   "metadata": {
    "execution": {
     "iopub.execute_input": "2023-10-25T17:37:38.870880Z",
     "iopub.status.busy": "2023-10-25T17:37:38.870445Z",
     "iopub.status.idle": "2023-10-25T17:37:38.877464Z",
     "shell.execute_reply": "2023-10-25T17:37:38.876336Z"
    },
    "papermill": {
     "duration": 0.096418,
     "end_time": "2023-10-25T17:37:38.880377",
     "exception": false,
     "start_time": "2023-10-25T17:37:38.783959",
     "status": "completed"
    },
    "tags": []
   },
   "outputs": [
    {
     "name": "stdout",
     "output_type": "stream",
     "text": [
      "************\n",
      "          *\n",
      "         *\n",
      "        *\n",
      "       *\n",
      "      *\n",
      "     *\n",
      "    *\n",
      "   *\n",
      "  *\n",
      " *\n",
      "************\n"
     ]
    }
   ],
   "source": [
    "n = 12\n",
    "print(\"*\"*n)\n",
    "for i in range(n-2):\n",
    "    print(\" \"*(n-2-i),end=\"\")\n",
    "    print(\"*\")\n",
    "print(\"*\"*n)"
   ]
  },
  {
   "cell_type": "code",
   "execution_count": 166,
   "id": "8a38bb5c",
   "metadata": {
    "execution": {
     "iopub.execute_input": "2023-10-25T17:37:39.053893Z",
     "iopub.status.busy": "2023-10-25T17:37:39.053440Z",
     "iopub.status.idle": "2023-10-25T17:37:39.058390Z",
     "shell.execute_reply": "2023-10-25T17:37:39.057253Z"
    },
    "papermill": {
     "duration": 0.095889,
     "end_time": "2023-10-25T17:37:39.060615",
     "exception": false,
     "start_time": "2023-10-25T17:37:38.964726",
     "status": "completed"
    },
    "tags": []
   },
   "outputs": [],
   "source": [
    "# 1 2 3 * * * N\n",
    "#           *\n",
    "#         *\n",
    "#       *\n",
    "#     3\n",
    "#   2\n",
    "# 1 2 3 * * * N\n"
   ]
  },
  {
   "cell_type": "code",
   "execution_count": 167,
   "id": "1ed2985b",
   "metadata": {
    "execution": {
     "iopub.execute_input": "2023-10-25T17:37:39.231204Z",
     "iopub.status.busy": "2023-10-25T17:37:39.230806Z",
     "iopub.status.idle": "2023-10-25T17:37:39.240365Z",
     "shell.execute_reply": "2023-10-25T17:37:39.238995Z"
    },
    "papermill": {
     "duration": 0.097744,
     "end_time": "2023-10-25T17:37:39.242852",
     "exception": false,
     "start_time": "2023-10-25T17:37:39.145108",
     "status": "completed"
    },
    "tags": []
   },
   "outputs": [
    {
     "name": "stdout",
     "output_type": "stream",
     "text": [
      "1 2 3 * * * N\n",
      "\n",
      "          *\n",
      "        *\n",
      "      *\n",
      "    3\n",
      "  2\n",
      "1 2 3 * * * N\n"
     ]
    }
   ],
   "source": [
    "for i in range(3):\n",
    "    print(i+1, end=\" \")\n",
    "for j in range(3):\n",
    "    print(\"* \",end=\"\")\n",
    "print(\"N\")\n",
    "\n",
    "print()\n",
    "for k in range(3):\n",
    "    print(\" \"*(2*(5-k)),end=\"\")\n",
    "    print(\"*\")\n",
    "for m in range(2):\n",
    "    print(\" \"*(2*(2-m)),end=\"\")\n",
    "    print(3-m)   \n",
    "    \n",
    "    \n",
    "for i in range(3):\n",
    "    print(i+1, end=\" \")\n",
    "for j in range(3):\n",
    "    print(\"* \",end=\"\")\n",
    "print(\"N\")"
   ]
  },
  {
   "cell_type": "code",
   "execution_count": 168,
   "id": "4c3ea1c9",
   "metadata": {
    "execution": {
     "iopub.execute_input": "2023-10-25T17:37:39.414071Z",
     "iopub.status.busy": "2023-10-25T17:37:39.413686Z",
     "iopub.status.idle": "2023-10-25T17:37:39.420682Z",
     "shell.execute_reply": "2023-10-25T17:37:39.419349Z"
    },
    "papermill": {
     "duration": 0.095805,
     "end_time": "2023-10-25T17:37:39.423393",
     "exception": false,
     "start_time": "2023-10-25T17:37:39.327588",
     "status": "completed"
    },
    "tags": []
   },
   "outputs": [
    {
     "name": "stdout",
     "output_type": "stream",
     "text": [
      "prasad  is not eligible\n"
     ]
    }
   ],
   "source": [
    "m1 = 80\n",
    "m2 = 40\n",
    "student = \"prasad\"\n",
    "\n",
    "\n",
    "if m1 > 50 and m2 > 50 :\n",
    "    print(student , \" is eligible\")\n",
    "else :\n",
    "    print(student,\" is not eligible\")"
   ]
  },
  {
   "cell_type": "code",
   "execution_count": 169,
   "id": "e6b3ede3",
   "metadata": {
    "execution": {
     "iopub.execute_input": "2023-10-25T17:37:39.595467Z",
     "iopub.status.busy": "2023-10-25T17:37:39.595047Z",
     "iopub.status.idle": "2023-10-25T17:37:39.601177Z",
     "shell.execute_reply": "2023-10-25T17:37:39.600303Z"
    },
    "papermill": {
     "duration": 0.094201,
     "end_time": "2023-10-25T17:37:39.603653",
     "exception": false,
     "start_time": "2023-10-25T17:37:39.509452",
     "status": "completed"
    },
    "tags": []
   },
   "outputs": [
    {
     "name": "stdout",
     "output_type": "stream",
     "text": [
      "sushmitha  is eligible\n"
     ]
    }
   ],
   "source": [
    "m1 = 70\n",
    "m2 = 80\n",
    "student = \"sushmitha\"\n",
    "if m1 > 50 and m2 > 50 :\n",
    "    print(student , \" is eligible\")\n",
    "else :\n",
    "    print(student,\" is not eligible\")\n"
   ]
  },
  {
   "cell_type": "code",
   "execution_count": 170,
   "id": "4b41dc27",
   "metadata": {
    "execution": {
     "iopub.execute_input": "2023-10-25T17:37:39.774615Z",
     "iopub.status.busy": "2023-10-25T17:37:39.774224Z",
     "iopub.status.idle": "2023-10-25T17:37:39.779812Z",
     "shell.execute_reply": "2023-10-25T17:37:39.778592Z"
    },
    "papermill": {
     "duration": 0.093839,
     "end_time": "2023-10-25T17:37:39.782034",
     "exception": false,
     "start_time": "2023-10-25T17:37:39.688195",
     "status": "completed"
    },
    "tags": []
   },
   "outputs": [],
   "source": [
    "def level(a,b,student) :\n",
    "    c = a+b\n",
    "    print(student,\" got \", c ,\" marks\")"
   ]
  },
  {
   "cell_type": "code",
   "execution_count": 171,
   "id": "9df0a1be",
   "metadata": {
    "execution": {
     "iopub.execute_input": "2023-10-25T17:37:39.952424Z",
     "iopub.status.busy": "2023-10-25T17:37:39.951918Z",
     "iopub.status.idle": "2023-10-25T17:37:39.958053Z",
     "shell.execute_reply": "2023-10-25T17:37:39.956933Z"
    },
    "papermill": {
     "duration": 0.09401,
     "end_time": "2023-10-25T17:37:39.960142",
     "exception": false,
     "start_time": "2023-10-25T17:37:39.866132",
     "status": "completed"
    },
    "tags": []
   },
   "outputs": [
    {
     "name": "stdout",
     "output_type": "stream",
     "text": [
      "prasad  got  90  marks\n"
     ]
    }
   ],
   "source": [
    "level(40,50,\"prasad\")"
   ]
  },
  {
   "cell_type": "code",
   "execution_count": 172,
   "id": "29bb6f56",
   "metadata": {
    "execution": {
     "iopub.execute_input": "2023-10-25T17:37:40.133123Z",
     "iopub.status.busy": "2023-10-25T17:37:40.132746Z",
     "iopub.status.idle": "2023-10-25T17:37:40.139072Z",
     "shell.execute_reply": "2023-10-25T17:37:40.137668Z"
    },
    "papermill": {
     "duration": 0.095818,
     "end_time": "2023-10-25T17:37:40.141443",
     "exception": false,
     "start_time": "2023-10-25T17:37:40.045625",
     "status": "completed"
    },
    "tags": []
   },
   "outputs": [
    {
     "name": "stdout",
     "output_type": "stream",
     "text": [
      "sush  got  130  marks\n"
     ]
    }
   ],
   "source": [
    "level(80,50,\"sush\")"
   ]
  },
  {
   "cell_type": "code",
   "execution_count": 173,
   "id": "2a6b0e06",
   "metadata": {
    "execution": {
     "iopub.execute_input": "2023-10-25T17:37:40.314476Z",
     "iopub.status.busy": "2023-10-25T17:37:40.314047Z",
     "iopub.status.idle": "2023-10-25T17:37:40.321910Z",
     "shell.execute_reply": "2023-10-25T17:37:40.320579Z"
    },
    "papermill": {
     "duration": 0.097861,
     "end_time": "2023-10-25T17:37:40.324715",
     "exception": false,
     "start_time": "2023-10-25T17:37:40.226854",
     "status": "completed"
    },
    "tags": []
   },
   "outputs": [
    {
     "name": "stdout",
     "output_type": "stream",
     "text": [
      "--\n",
      "50\n",
      "def  is not eligible\n"
     ]
    }
   ],
   "source": [
    "\n",
    "\n",
    "def marks (m1,m2,student=\"def\"):\n",
    "    print(m1)\n",
    "    if m1 > 50 and m2 > 50 :\n",
    "        print(student , \" is eligible\")\n",
    "    else :\n",
    "        print(student,\" is not eligible\")\n",
    "        \n",
    "        \n",
    "        \n",
    "print(\"--\")\n",
    "\n",
    "        \n",
    "        \n",
    "        \n",
    "        \n",
    "marks(m1=50,m2=40)"
   ]
  },
  {
   "cell_type": "code",
   "execution_count": 174,
   "id": "92193e53",
   "metadata": {
    "execution": {
     "iopub.execute_input": "2023-10-25T17:37:40.497756Z",
     "iopub.status.busy": "2023-10-25T17:37:40.497387Z",
     "iopub.status.idle": "2023-10-25T17:37:40.504001Z",
     "shell.execute_reply": "2023-10-25T17:37:40.502614Z"
    },
    "papermill": {
     "duration": 0.096865,
     "end_time": "2023-10-25T17:37:40.506901",
     "exception": false,
     "start_time": "2023-10-25T17:37:40.410036",
     "status": "completed"
    },
    "tags": []
   },
   "outputs": [
    {
     "name": "stdout",
     "output_type": "stream",
     "text": [
      "80\n",
      "swapna  is eligible\n"
     ]
    }
   ],
   "source": [
    "marks(student = \"swapna\",m2=90,m1=80)"
   ]
  },
  {
   "cell_type": "code",
   "execution_count": 175,
   "id": "f7a5875b",
   "metadata": {
    "execution": {
     "iopub.execute_input": "2023-10-25T17:37:40.681488Z",
     "iopub.status.busy": "2023-10-25T17:37:40.681092Z",
     "iopub.status.idle": "2023-10-25T17:37:40.686315Z",
     "shell.execute_reply": "2023-10-25T17:37:40.684989Z"
    },
    "papermill": {
     "duration": 0.095932,
     "end_time": "2023-10-25T17:37:40.688684",
     "exception": false,
     "start_time": "2023-10-25T17:37:40.592752",
     "status": "completed"
    },
    "tags": []
   },
   "outputs": [],
   "source": [
    "# marks(\"student\",90,80)"
   ]
  },
  {
   "cell_type": "code",
   "execution_count": 176,
   "id": "1f239e2a",
   "metadata": {
    "execution": {
     "iopub.execute_input": "2023-10-25T17:37:40.862251Z",
     "iopub.status.busy": "2023-10-25T17:37:40.861833Z",
     "iopub.status.idle": "2023-10-25T17:37:40.867669Z",
     "shell.execute_reply": "2023-10-25T17:37:40.866481Z"
    },
    "papermill": {
     "duration": 0.095992,
     "end_time": "2023-10-25T17:37:40.870244",
     "exception": false,
     "start_time": "2023-10-25T17:37:40.774252",
     "status": "completed"
    },
    "tags": []
   },
   "outputs": [
    {
     "name": "stdout",
     "output_type": "stream",
     "text": [
      "30\n",
      "parth  is not eligible\n"
     ]
    }
   ],
   "source": [
    "marks(30,30,\"parth\")"
   ]
  },
  {
   "cell_type": "code",
   "execution_count": 177,
   "id": "599188ee",
   "metadata": {
    "execution": {
     "iopub.execute_input": "2023-10-25T17:37:41.044479Z",
     "iopub.status.busy": "2023-10-25T17:37:41.044010Z",
     "iopub.status.idle": "2023-10-25T17:37:41.050258Z",
     "shell.execute_reply": "2023-10-25T17:37:41.049155Z"
    },
    "papermill": {
     "duration": 0.095976,
     "end_time": "2023-10-25T17:37:41.052580",
     "exception": false,
     "start_time": "2023-10-25T17:37:40.956604",
     "status": "completed"
    },
    "tags": []
   },
   "outputs": [
    {
     "name": "stdout",
     "output_type": "stream",
     "text": [
      "90\n",
      "tayyab  is eligible\n"
     ]
    }
   ],
   "source": [
    "marks(90,90,\"tayyab\")"
   ]
  },
  {
   "cell_type": "code",
   "execution_count": 178,
   "id": "1c3e22bf",
   "metadata": {
    "execution": {
     "iopub.execute_input": "2023-10-25T17:37:41.224186Z",
     "iopub.status.busy": "2023-10-25T17:37:41.223793Z",
     "iopub.status.idle": "2023-10-25T17:37:41.231614Z",
     "shell.execute_reply": "2023-10-25T17:37:41.230147Z"
    },
    "papermill": {
     "duration": 0.096934,
     "end_time": "2023-10-25T17:37:41.234574",
     "exception": false,
     "start_time": "2023-10-25T17:37:41.137640",
     "status": "completed"
    },
    "tags": []
   },
   "outputs": [
    {
     "name": "stdout",
     "output_type": "stream",
     "text": [
      "0\n",
      "st  is not eligible\n"
     ]
    }
   ],
   "source": [
    "\n",
    "\n",
    "def marks (m1=0,m2=0,student=\"st\") :\n",
    "    print(m1)\n",
    "    if m1 > 50 and m2 > 50 :\n",
    "        print(student , \" is eligible\")\n",
    "    else :\n",
    "        print(student,\" is not eligible\")\n",
    "        \n",
    "marks()"
   ]
  },
  {
   "cell_type": "code",
   "execution_count": 179,
   "id": "789a36dc",
   "metadata": {
    "execution": {
     "iopub.execute_input": "2023-10-25T17:37:41.405361Z",
     "iopub.status.busy": "2023-10-25T17:37:41.404961Z",
     "iopub.status.idle": "2023-10-25T17:37:41.410180Z",
     "shell.execute_reply": "2023-10-25T17:37:41.408786Z"
    },
    "papermill": {
     "duration": 0.092567,
     "end_time": "2023-10-25T17:37:41.412724",
     "exception": false,
     "start_time": "2023-10-25T17:37:41.320157",
     "status": "completed"
    },
    "tags": []
   },
   "outputs": [],
   "source": [
    "# print \n",
    "# return"
   ]
  },
  {
   "cell_type": "code",
   "execution_count": 180,
   "id": "adc288b2",
   "metadata": {
    "execution": {
     "iopub.execute_input": "2023-10-25T17:37:41.583176Z",
     "iopub.status.busy": "2023-10-25T17:37:41.582816Z",
     "iopub.status.idle": "2023-10-25T17:37:41.589478Z",
     "shell.execute_reply": "2023-10-25T17:37:41.588211Z"
    },
    "papermill": {
     "duration": 0.09402,
     "end_time": "2023-10-25T17:37:41.591971",
     "exception": false,
     "start_time": "2023-10-25T17:37:41.497951",
     "status": "completed"
    },
    "tags": []
   },
   "outputs": [
    {
     "name": "stdout",
     "output_type": "stream",
     "text": [
      "---- 15\n"
     ]
    }
   ],
   "source": [
    "def add (a,b) :\n",
    "    c = a+b\n",
    "    return c\n",
    "\n",
    "p= add(5,10)\n",
    "print(\"----\",p)"
   ]
  },
  {
   "cell_type": "code",
   "execution_count": 181,
   "id": "c6c90486",
   "metadata": {
    "execution": {
     "iopub.execute_input": "2023-10-25T17:37:41.765610Z",
     "iopub.status.busy": "2023-10-25T17:37:41.765233Z",
     "iopub.status.idle": "2023-10-25T17:37:41.771183Z",
     "shell.execute_reply": "2023-10-25T17:37:41.769949Z"
    },
    "papermill": {
     "duration": 0.098598,
     "end_time": "2023-10-25T17:37:41.773912",
     "exception": false,
     "start_time": "2023-10-25T17:37:41.675314",
     "status": "completed"
    },
    "tags": []
   },
   "outputs": [
    {
     "name": "stdout",
     "output_type": "stream",
     "text": [
      "15\n",
      "---- None\n"
     ]
    }
   ],
   "source": [
    "def add (a,b) :\n",
    "    c = a+b\n",
    "    print(c)\n",
    "\n",
    "p = add(5,10)\n",
    "print(\"----\",p)"
   ]
  },
  {
   "cell_type": "code",
   "execution_count": 182,
   "id": "ba6747df",
   "metadata": {
    "execution": {
     "iopub.execute_input": "2023-10-25T17:37:41.946401Z",
     "iopub.status.busy": "2023-10-25T17:37:41.946008Z",
     "iopub.status.idle": "2023-10-25T17:37:41.950881Z",
     "shell.execute_reply": "2023-10-25T17:37:41.949736Z"
    },
    "papermill": {
     "duration": 0.093993,
     "end_time": "2023-10-25T17:37:41.953157",
     "exception": false,
     "start_time": "2023-10-25T17:37:41.859164",
     "status": "completed"
    },
    "tags": []
   },
   "outputs": [],
   "source": [
    "# if add(5,10 ) > 10 :\n",
    "#     print(\"eligible\")\n",
    "# else :\n",
    "#     print(\"not eligible\")"
   ]
  },
  {
   "cell_type": "code",
   "execution_count": 183,
   "id": "16faccd0",
   "metadata": {
    "execution": {
     "iopub.execute_input": "2023-10-25T17:37:42.127975Z",
     "iopub.status.busy": "2023-10-25T17:37:42.127589Z",
     "iopub.status.idle": "2023-10-25T17:37:42.135740Z",
     "shell.execute_reply": "2023-10-25T17:37:42.134323Z"
    },
    "papermill": {
     "duration": 0.098334,
     "end_time": "2023-10-25T17:37:42.138479",
     "exception": false,
     "start_time": "2023-10-25T17:37:42.040145",
     "status": "completed"
    },
    "tags": []
   },
   "outputs": [
    {
     "data": {
      "text/plain": [
       "15"
      ]
     },
     "execution_count": 183,
     "metadata": {},
     "output_type": "execute_result"
    }
   ],
   "source": [
    "def add (a,b) :\n",
    "    c = a+b\n",
    "    return c\n",
    "\n",
    "add(5,10)"
   ]
  },
  {
   "cell_type": "code",
   "execution_count": 184,
   "id": "20d95131",
   "metadata": {
    "execution": {
     "iopub.execute_input": "2023-10-25T17:37:42.308583Z",
     "iopub.status.busy": "2023-10-25T17:37:42.307833Z",
     "iopub.status.idle": "2023-10-25T17:37:42.315645Z",
     "shell.execute_reply": "2023-10-25T17:37:42.314496Z"
    },
    "papermill": {
     "duration": 0.095227,
     "end_time": "2023-10-25T17:37:42.318013",
     "exception": false,
     "start_time": "2023-10-25T17:37:42.222786",
     "status": "completed"
    },
    "tags": []
   },
   "outputs": [
    {
     "data": {
      "text/plain": [
       "17"
      ]
     },
     "execution_count": 184,
     "metadata": {},
     "output_type": "execute_result"
    }
   ],
   "source": [
    "add = lambda  a,b : a+b\n",
    "add(7,10)"
   ]
  },
  {
   "cell_type": "code",
   "execution_count": 185,
   "id": "43ec8814",
   "metadata": {
    "execution": {
     "iopub.execute_input": "2023-10-25T17:37:42.488906Z",
     "iopub.status.busy": "2023-10-25T17:37:42.488148Z",
     "iopub.status.idle": "2023-10-25T17:37:42.494600Z",
     "shell.execute_reply": "2023-10-25T17:37:42.493712Z"
    },
    "papermill": {
     "duration": 0.095183,
     "end_time": "2023-10-25T17:37:42.496699",
     "exception": false,
     "start_time": "2023-10-25T17:37:42.401516",
     "status": "completed"
    },
    "tags": []
   },
   "outputs": [
    {
     "data": {
      "text/plain": [
       "30"
      ]
     },
     "execution_count": 185,
     "metadata": {},
     "output_type": "execute_result"
    }
   ],
   "source": [
    "add(10,20)"
   ]
  },
  {
   "cell_type": "code",
   "execution_count": 186,
   "id": "51d1fee3",
   "metadata": {
    "execution": {
     "iopub.execute_input": "2023-10-25T17:37:42.665399Z",
     "iopub.status.busy": "2023-10-25T17:37:42.664785Z",
     "iopub.status.idle": "2023-10-25T17:37:42.669366Z",
     "shell.execute_reply": "2023-10-25T17:37:42.668421Z"
    },
    "papermill": {
     "duration": 0.091047,
     "end_time": "2023-10-25T17:37:42.671460",
     "exception": false,
     "start_time": "2023-10-25T17:37:42.580413",
     "status": "completed"
    },
    "tags": []
   },
   "outputs": [],
   "source": [
    "# list comprehenison :  list + for loop / any loop"
   ]
  },
  {
   "cell_type": "code",
   "execution_count": 187,
   "id": "b8db3ab9",
   "metadata": {
    "execution": {
     "iopub.execute_input": "2023-10-25T17:37:42.844246Z",
     "iopub.status.busy": "2023-10-25T17:37:42.843874Z",
     "iopub.status.idle": "2023-10-25T17:37:42.852422Z",
     "shell.execute_reply": "2023-10-25T17:37:42.851192Z"
    },
    "papermill": {
     "duration": 0.097583,
     "end_time": "2023-10-25T17:37:42.854724",
     "exception": false,
     "start_time": "2023-10-25T17:37:42.757141",
     "status": "completed"
    },
    "tags": []
   },
   "outputs": [
    {
     "data": {
      "text/plain": [
       "[20, 30]"
      ]
     },
     "execution_count": 187,
     "metadata": {},
     "output_type": "execute_result"
    }
   ],
   "source": [
    "a = [20 ,25,30,35]\n",
    "\n",
    "even = []\n",
    "\n",
    "for i in a :\n",
    "    if i%2 == 0 :\n",
    "        even.append(i)\n",
    "        \n",
    "        \n",
    "        \n",
    "even"
   ]
  },
  {
   "cell_type": "code",
   "execution_count": 188,
   "id": "de39a8a0",
   "metadata": {
    "execution": {
     "iopub.execute_input": "2023-10-25T17:37:43.033155Z",
     "iopub.status.busy": "2023-10-25T17:37:43.032091Z",
     "iopub.status.idle": "2023-10-25T17:37:43.040695Z",
     "shell.execute_reply": "2023-10-25T17:37:43.039750Z"
    },
    "papermill": {
     "duration": 0.10064,
     "end_time": "2023-10-25T17:37:43.042952",
     "exception": false,
     "start_time": "2023-10-25T17:37:42.942312",
     "status": "completed"
    },
    "tags": []
   },
   "outputs": [
    {
     "data": {
      "text/plain": [
       "[20, 30]"
      ]
     },
     "execution_count": 188,
     "metadata": {},
     "output_type": "execute_result"
    }
   ],
   "source": [
    "a = [20 ,25,30,35]\n",
    "\n",
    "even = [  i  for i in a  if i%2 == 0   ]       \n",
    "        \n",
    "        \n",
    "even"
   ]
  },
  {
   "cell_type": "code",
   "execution_count": 189,
   "id": "114c55b1",
   "metadata": {
    "execution": {
     "iopub.execute_input": "2023-10-25T17:37:43.217746Z",
     "iopub.status.busy": "2023-10-25T17:37:43.216889Z",
     "iopub.status.idle": "2023-10-25T17:37:43.225589Z",
     "shell.execute_reply": "2023-10-25T17:37:43.224334Z"
    },
    "papermill": {
     "duration": 0.098578,
     "end_time": "2023-10-25T17:37:43.227941",
     "exception": false,
     "start_time": "2023-10-25T17:37:43.129363",
     "status": "completed"
    },
    "tags": []
   },
   "outputs": [
    {
     "data": {
      "text/plain": [
       "{20: 'Abhi', 30: 'Abhi'}"
      ]
     },
     "execution_count": 189,
     "metadata": {},
     "output_type": "execute_result"
    }
   ],
   "source": [
    "a = [20 ,25,30,35]\n",
    "\n",
    "even = { i: \"Abhi\"  for i in a  if i%2 == 0   }       \n",
    "        \n",
    "        \n",
    "even"
   ]
  },
  {
   "cell_type": "code",
   "execution_count": 190,
   "id": "1803e1d8",
   "metadata": {
    "execution": {
     "iopub.execute_input": "2023-10-25T17:37:43.501647Z",
     "iopub.status.busy": "2023-10-25T17:37:43.501260Z",
     "iopub.status.idle": "2023-10-25T17:37:43.506260Z",
     "shell.execute_reply": "2023-10-25T17:37:43.505058Z"
    },
    "papermill": {
     "duration": 0.19292,
     "end_time": "2023-10-25T17:37:43.508575",
     "exception": false,
     "start_time": "2023-10-25T17:37:43.315655",
     "status": "completed"
    },
    "tags": []
   },
   "outputs": [],
   "source": [
    "# break continue pass"
   ]
  },
  {
   "cell_type": "code",
   "execution_count": 191,
   "id": "5e7cc7d6",
   "metadata": {
    "execution": {
     "iopub.execute_input": "2023-10-25T17:37:43.684687Z",
     "iopub.status.busy": "2023-10-25T17:37:43.684300Z",
     "iopub.status.idle": "2023-10-25T17:37:43.689896Z",
     "shell.execute_reply": "2023-10-25T17:37:43.688744Z"
    },
    "papermill": {
     "duration": 0.096284,
     "end_time": "2023-10-25T17:37:43.692201",
     "exception": false,
     "start_time": "2023-10-25T17:37:43.595917",
     "status": "completed"
    },
    "tags": []
   },
   "outputs": [],
   "source": [
    "def add(a,b):\n",
    "    pass\n",
    "    \n",
    "add(8,9)"
   ]
  },
  {
   "cell_type": "code",
   "execution_count": 192,
   "id": "c94c82f3",
   "metadata": {
    "execution": {
     "iopub.execute_input": "2023-10-25T17:37:43.867660Z",
     "iopub.status.busy": "2023-10-25T17:37:43.867293Z",
     "iopub.status.idle": "2023-10-25T17:37:43.873824Z",
     "shell.execute_reply": "2023-10-25T17:37:43.872467Z"
    },
    "papermill": {
     "duration": 0.097016,
     "end_time": "2023-10-25T17:37:43.876151",
     "exception": false,
     "start_time": "2023-10-25T17:37:43.779135",
     "status": "completed"
    },
    "tags": []
   },
   "outputs": [
    {
     "name": "stdout",
     "output_type": "stream",
     "text": [
      "0\n",
      "1\n",
      "2\n"
     ]
    }
   ],
   "source": [
    "for i in range(5):\n",
    "    if i == 3 :\n",
    "        break\n",
    "    print(i)"
   ]
  },
  {
   "cell_type": "code",
   "execution_count": 193,
   "id": "ef7d5f43",
   "metadata": {
    "execution": {
     "iopub.execute_input": "2023-10-25T17:37:44.053175Z",
     "iopub.status.busy": "2023-10-25T17:37:44.052777Z",
     "iopub.status.idle": "2023-10-25T17:37:44.058847Z",
     "shell.execute_reply": "2023-10-25T17:37:44.057830Z"
    },
    "papermill": {
     "duration": 0.097469,
     "end_time": "2023-10-25T17:37:44.061410",
     "exception": false,
     "start_time": "2023-10-25T17:37:43.963941",
     "status": "completed"
    },
    "tags": []
   },
   "outputs": [
    {
     "name": "stdout",
     "output_type": "stream",
     "text": [
      "0\n",
      "1\n",
      "2\n",
      "4\n"
     ]
    }
   ],
   "source": [
    "for i in range(5):\n",
    "    if i == 3 :\n",
    "        continue\n",
    "    print(i)"
   ]
  },
  {
   "cell_type": "code",
   "execution_count": 194,
   "id": "e2635b5c",
   "metadata": {
    "execution": {
     "iopub.execute_input": "2023-10-25T17:37:44.239816Z",
     "iopub.status.busy": "2023-10-25T17:37:44.238581Z",
     "iopub.status.idle": "2023-10-25T17:37:44.243738Z",
     "shell.execute_reply": "2023-10-25T17:37:44.242752Z"
    },
    "papermill": {
     "duration": 0.09608,
     "end_time": "2023-10-25T17:37:44.246062",
     "exception": false,
     "start_time": "2023-10-25T17:37:44.149982",
     "status": "completed"
    },
    "tags": []
   },
   "outputs": [],
   "source": [
    "# \\n = new line \\t tab"
   ]
  },
  {
   "cell_type": "code",
   "execution_count": 195,
   "id": "0c6a1ca4",
   "metadata": {
    "execution": {
     "iopub.execute_input": "2023-10-25T17:37:44.424995Z",
     "iopub.status.busy": "2023-10-25T17:37:44.423671Z",
     "iopub.status.idle": "2023-10-25T17:37:44.430110Z",
     "shell.execute_reply": "2023-10-25T17:37:44.429017Z"
    },
    "papermill": {
     "duration": 0.097151,
     "end_time": "2023-10-25T17:37:44.432665",
     "exception": false,
     "start_time": "2023-10-25T17:37:44.335514",
     "status": "completed"
    },
    "tags": []
   },
   "outputs": [
    {
     "name": "stdout",
     "output_type": "stream",
     "text": [
      "mlv\n",
      "prasad\n"
     ]
    }
   ],
   "source": [
    "print(\"mlv\")\n",
    "print(\"prasad\")"
   ]
  },
  {
   "cell_type": "code",
   "execution_count": 196,
   "id": "942180ae",
   "metadata": {
    "execution": {
     "iopub.execute_input": "2023-10-25T17:37:44.638521Z",
     "iopub.status.busy": "2023-10-25T17:37:44.637879Z",
     "iopub.status.idle": "2023-10-25T17:37:44.643411Z",
     "shell.execute_reply": "2023-10-25T17:37:44.642343Z"
    },
    "papermill": {
     "duration": 0.112045,
     "end_time": "2023-10-25T17:37:44.645978",
     "exception": false,
     "start_time": "2023-10-25T17:37:44.533933",
     "status": "completed"
    },
    "tags": []
   },
   "outputs": [
    {
     "name": "stdout",
     "output_type": "stream",
     "text": [
      "mlv\n",
      "prasad\n"
     ]
    }
   ],
   "source": [
    "print(\"mlv\\nprasad\")"
   ]
  },
  {
   "cell_type": "code",
   "execution_count": 197,
   "id": "258ae3c5",
   "metadata": {
    "execution": {
     "iopub.execute_input": "2023-10-25T17:37:44.824242Z",
     "iopub.status.busy": "2023-10-25T17:37:44.823530Z",
     "iopub.status.idle": "2023-10-25T17:37:44.829108Z",
     "shell.execute_reply": "2023-10-25T17:37:44.827817Z"
    },
    "papermill": {
     "duration": 0.096377,
     "end_time": "2023-10-25T17:37:44.831456",
     "exception": false,
     "start_time": "2023-10-25T17:37:44.735079",
     "status": "completed"
    },
    "tags": []
   },
   "outputs": [
    {
     "name": "stdout",
     "output_type": "stream",
     "text": [
      "mlv    prasad    is    a    good    boy\n"
     ]
    }
   ],
   "source": [
    "print(\"mlv    prasad    is    a    good    boy\")"
   ]
  },
  {
   "cell_type": "code",
   "execution_count": 198,
   "id": "0377d1b6",
   "metadata": {
    "execution": {
     "iopub.execute_input": "2023-10-25T17:37:45.012003Z",
     "iopub.status.busy": "2023-10-25T17:37:45.011577Z",
     "iopub.status.idle": "2023-10-25T17:37:45.018973Z",
     "shell.execute_reply": "2023-10-25T17:37:45.017443Z"
    },
    "papermill": {
     "duration": 0.100621,
     "end_time": "2023-10-25T17:37:45.021517",
     "exception": false,
     "start_time": "2023-10-25T17:37:44.920896",
     "status": "completed"
    },
    "tags": []
   },
   "outputs": [
    {
     "name": "stdout",
     "output_type": "stream",
     "text": [
      "mlv\tprasad\tis\ta\tgood\tboy\n"
     ]
    }
   ],
   "source": [
    "print(\"mlv\\tprasad\\tis\\ta\\tgood\\tboy\")"
   ]
  },
  {
   "cell_type": "code",
   "execution_count": 199,
   "id": "b085641c",
   "metadata": {
    "execution": {
     "iopub.execute_input": "2023-10-25T17:37:45.200197Z",
     "iopub.status.busy": "2023-10-25T17:37:45.199003Z",
     "iopub.status.idle": "2023-10-25T17:37:45.204243Z",
     "shell.execute_reply": "2023-10-25T17:37:45.203457Z"
    },
    "papermill": {
     "duration": 0.096018,
     "end_time": "2023-10-25T17:37:45.206375",
     "exception": false,
     "start_time": "2023-10-25T17:37:45.110357",
     "status": "completed"
    },
    "tags": []
   },
   "outputs": [],
   "source": [
    "# * * * * *\n",
    "# * * * *\n",
    "# * * * \n",
    "# * * \n",
    "# *"
   ]
  },
  {
   "cell_type": "code",
   "execution_count": 200,
   "id": "e19d7def",
   "metadata": {
    "execution": {
     "iopub.execute_input": "2023-10-25T17:37:45.382375Z",
     "iopub.status.busy": "2023-10-25T17:37:45.381926Z",
     "iopub.status.idle": "2023-10-25T17:37:45.387933Z",
     "shell.execute_reply": "2023-10-25T17:37:45.386649Z"
    },
    "papermill": {
     "duration": 0.097967,
     "end_time": "2023-10-25T17:37:45.391038",
     "exception": false,
     "start_time": "2023-10-25T17:37:45.293071",
     "status": "completed"
    },
    "tags": []
   },
   "outputs": [
    {
     "name": "stdout",
     "output_type": "stream",
     "text": [
      "* * * * * \n",
      "* * * * \n",
      "* * * \n",
      "* * \n",
      "* \n"
     ]
    }
   ],
   "source": [
    "for i in range(5):\n",
    "    print(\"* \"*(5-i))"
   ]
  },
  {
   "cell_type": "code",
   "execution_count": null,
   "id": "223d325a",
   "metadata": {
    "papermill": {
     "duration": 0.08718,
     "end_time": "2023-10-25T17:37:45.566562",
     "exception": false,
     "start_time": "2023-10-25T17:37:45.479382",
     "status": "completed"
    },
    "tags": []
   },
   "outputs": [],
   "source": []
  },
  {
   "cell_type": "markdown",
   "id": "5cffc0d6",
   "metadata": {
    "papermill": {
     "duration": 0.087512,
     "end_time": "2023-10-25T17:37:45.741606",
     "exception": false,
     "start_time": "2023-10-25T17:37:45.654094",
     "status": "completed"
    },
    "tags": []
   },
   "source": [
    "## filter\n",
    "## reduce\n",
    "## map\n",
    "## zip"
   ]
  },
  {
   "cell_type": "code",
   "execution_count": 201,
   "id": "b72aa612",
   "metadata": {
    "execution": {
     "iopub.execute_input": "2023-10-25T17:37:45.933180Z",
     "iopub.status.busy": "2023-10-25T17:37:45.932785Z",
     "iopub.status.idle": "2023-10-25T17:37:45.937814Z",
     "shell.execute_reply": "2023-10-25T17:37:45.936493Z"
    },
    "papermill": {
     "duration": 0.097564,
     "end_time": "2023-10-25T17:37:45.940192",
     "exception": false,
     "start_time": "2023-10-25T17:37:45.842628",
     "status": "completed"
    },
    "tags": []
   },
   "outputs": [],
   "source": [
    "# filter "
   ]
  },
  {
   "cell_type": "code",
   "execution_count": 202,
   "id": "0ee5d0c0",
   "metadata": {
    "execution": {
     "iopub.execute_input": "2023-10-25T17:37:46.117521Z",
     "iopub.status.busy": "2023-10-25T17:37:46.116810Z",
     "iopub.status.idle": "2023-10-25T17:37:46.125293Z",
     "shell.execute_reply": "2023-10-25T17:37:46.124175Z"
    },
    "papermill": {
     "duration": 0.100569,
     "end_time": "2023-10-25T17:37:46.128152",
     "exception": false,
     "start_time": "2023-10-25T17:37:46.027583",
     "status": "completed"
    },
    "tags": []
   },
   "outputs": [
    {
     "data": {
      "text/plain": [
       "[10, 12, 14, 16]"
      ]
     },
     "execution_count": 202,
     "metadata": {},
     "output_type": "execute_result"
    }
   ],
   "source": [
    "a  =  [10,11,12,13,14,15,16]\n",
    "\n",
    "\n",
    "b = []\n",
    "for i in range(len(a)) :\n",
    "    if a[i] % 2 == 0 :\n",
    "        b.append(a[i])\n",
    "        \n",
    "b"
   ]
  },
  {
   "cell_type": "code",
   "execution_count": 203,
   "id": "5a673807",
   "metadata": {
    "execution": {
     "iopub.execute_input": "2023-10-25T17:37:46.303663Z",
     "iopub.status.busy": "2023-10-25T17:37:46.302982Z",
     "iopub.status.idle": "2023-10-25T17:37:46.310951Z",
     "shell.execute_reply": "2023-10-25T17:37:46.309992Z"
    },
    "papermill": {
     "duration": 0.09768,
     "end_time": "2023-10-25T17:37:46.313171",
     "exception": false,
     "start_time": "2023-10-25T17:37:46.215491",
     "status": "completed"
    },
    "tags": []
   },
   "outputs": [
    {
     "data": {
      "text/plain": [
       "[40, 12, 14, 16]"
      ]
     },
     "execution_count": 203,
     "metadata": {},
     "output_type": "execute_result"
    }
   ],
   "source": [
    "a  =  [40,11,12,13,14,15,16]\n",
    "\n",
    "def even(i) :\n",
    "    return i % 2 == 0\n",
    "\n",
    "\n",
    "b = list(filter(even,a))\n",
    "b"
   ]
  },
  {
   "cell_type": "code",
   "execution_count": 204,
   "id": "6b52e9f0",
   "metadata": {
    "execution": {
     "iopub.execute_input": "2023-10-25T17:37:46.487088Z",
     "iopub.status.busy": "2023-10-25T17:37:46.486029Z",
     "iopub.status.idle": "2023-10-25T17:37:46.494006Z",
     "shell.execute_reply": "2023-10-25T17:37:46.493137Z"
    },
    "papermill": {
     "duration": 0.098039,
     "end_time": "2023-10-25T17:37:46.496207",
     "exception": false,
     "start_time": "2023-10-25T17:37:46.398168",
     "status": "completed"
    },
    "tags": []
   },
   "outputs": [
    {
     "data": {
      "text/plain": [
       "[40, 12, 14, 16]"
      ]
     },
     "execution_count": 204,
     "metadata": {},
     "output_type": "execute_result"
    }
   ],
   "source": [
    "a  =  [40,11,12,13,14,15,16]\n",
    "\n",
    "b = list(filter(lambda p : p%2== 0,a))\n",
    "b"
   ]
  },
  {
   "cell_type": "code",
   "execution_count": 205,
   "id": "bf1c48e8",
   "metadata": {
    "execution": {
     "iopub.execute_input": "2023-10-25T17:37:46.669992Z",
     "iopub.status.busy": "2023-10-25T17:37:46.669226Z",
     "iopub.status.idle": "2023-10-25T17:37:46.677042Z",
     "shell.execute_reply": "2023-10-25T17:37:46.676168Z"
    },
    "papermill": {
     "duration": 0.097242,
     "end_time": "2023-10-25T17:37:46.679212",
     "exception": false,
     "start_time": "2023-10-25T17:37:46.581970",
     "status": "completed"
    },
    "tags": []
   },
   "outputs": [
    {
     "data": {
      "text/plain": [
       "['swapna', 'saraswati']"
      ]
     },
     "execution_count": 205,
     "metadata": {},
     "output_type": "execute_result"
    }
   ],
   "source": [
    "a = [\"swapna\",\"saraswati\",\"abhi\"]\n",
    "\n",
    "b = list(filter(lambda i : i[0] != \"a\"   and  i[0] != \"i\"  and  i[0] != \"o\", a))\n",
    "b"
   ]
  },
  {
   "cell_type": "code",
   "execution_count": 206,
   "id": "74b56bec",
   "metadata": {
    "execution": {
     "iopub.execute_input": "2023-10-25T17:37:46.856614Z",
     "iopub.status.busy": "2023-10-25T17:37:46.856197Z",
     "iopub.status.idle": "2023-10-25T17:37:46.864639Z",
     "shell.execute_reply": "2023-10-25T17:37:46.863341Z"
    },
    "papermill": {
     "duration": 0.101693,
     "end_time": "2023-10-25T17:37:46.867311",
     "exception": false,
     "start_time": "2023-10-25T17:37:46.765618",
     "status": "completed"
    },
    "tags": []
   },
   "outputs": [
    {
     "data": {
      "text/plain": [
       "[0, 10, 30]"
      ]
     },
     "execution_count": 206,
     "metadata": {},
     "output_type": "execute_result"
    }
   ],
   "source": [
    "a = {10,30,-10,0,30}\n",
    "b = list(filter(lambda i : i >= 0 , a))\n",
    "b"
   ]
  },
  {
   "cell_type": "code",
   "execution_count": 207,
   "id": "1a2bb30b",
   "metadata": {
    "execution": {
     "iopub.execute_input": "2023-10-25T17:37:47.049243Z",
     "iopub.status.busy": "2023-10-25T17:37:47.048407Z",
     "iopub.status.idle": "2023-10-25T17:37:47.054077Z",
     "shell.execute_reply": "2023-10-25T17:37:47.053125Z"
    },
    "papermill": {
     "duration": 0.099606,
     "end_time": "2023-10-25T17:37:47.056966",
     "exception": false,
     "start_time": "2023-10-25T17:37:46.957360",
     "status": "completed"
    },
    "tags": []
   },
   "outputs": [],
   "source": [
    "a = [\"swapna\",\"abhinav\"]"
   ]
  },
  {
   "cell_type": "code",
   "execution_count": 208,
   "id": "14c919dc",
   "metadata": {
    "execution": {
     "iopub.execute_input": "2023-10-25T17:37:47.240914Z",
     "iopub.status.busy": "2023-10-25T17:37:47.240021Z",
     "iopub.status.idle": "2023-10-25T17:37:47.248169Z",
     "shell.execute_reply": "2023-10-25T17:37:47.247065Z"
    },
    "papermill": {
     "duration": 0.10222,
     "end_time": "2023-10-25T17:37:47.250382",
     "exception": false,
     "start_time": "2023-10-25T17:37:47.148162",
     "status": "completed"
    },
    "tags": []
   },
   "outputs": [
    {
     "data": {
      "text/plain": [
       "150"
      ]
     },
     "execution_count": 208,
     "metadata": {},
     "output_type": "execute_result"
    }
   ],
   "source": [
    "# reduce \n",
    "from functools import reduce\n",
    "\n",
    "a = [10,20,30,40,50]\n",
    "b = 0\n",
    "for i in a :\n",
    "    b = b + i\n",
    "    \n",
    "b"
   ]
  },
  {
   "cell_type": "code",
   "execution_count": 209,
   "id": "3ee381c3",
   "metadata": {
    "execution": {
     "iopub.execute_input": "2023-10-25T17:37:47.432698Z",
     "iopub.status.busy": "2023-10-25T17:37:47.432257Z",
     "iopub.status.idle": "2023-10-25T17:37:47.440864Z",
     "shell.execute_reply": "2023-10-25T17:37:47.439609Z"
    },
    "papermill": {
     "duration": 0.103847,
     "end_time": "2023-10-25T17:37:47.443606",
     "exception": false,
     "start_time": "2023-10-25T17:37:47.339759",
     "status": "completed"
    },
    "tags": []
   },
   "outputs": [
    {
     "data": {
      "text/plain": [
       "250"
      ]
     },
     "execution_count": 209,
     "metadata": {},
     "output_type": "execute_result"
    }
   ],
   "source": [
    "c = [10,20,30,40,50]\n",
    "\n",
    "\n",
    "def add(p,q) :\n",
    "    return p + q\n",
    "ini = 100 \n",
    "d = reduce(add,c,ini)\n",
    "d"
   ]
  },
  {
   "cell_type": "code",
   "execution_count": 210,
   "id": "bda7309c",
   "metadata": {
    "execution": {
     "iopub.execute_input": "2023-10-25T17:37:47.722855Z",
     "iopub.status.busy": "2023-10-25T17:37:47.722443Z",
     "iopub.status.idle": "2023-10-25T17:37:47.730219Z",
     "shell.execute_reply": "2023-10-25T17:37:47.729372Z"
    },
    "papermill": {
     "duration": 0.198463,
     "end_time": "2023-10-25T17:37:47.732422",
     "exception": false,
     "start_time": "2023-10-25T17:37:47.533959",
     "status": "completed"
    },
    "tags": []
   },
   "outputs": [
    {
     "data": {
      "text/plain": [
       "50"
      ]
     },
     "execution_count": 210,
     "metadata": {},
     "output_type": "execute_result"
    }
   ],
   "source": [
    "c = [10,20,30,40,50]\n",
    "\n",
    "mx = c[0]\n",
    "for i in c :\n",
    "    if i > mx :\n",
    "        mx = i\n",
    "mx"
   ]
  },
  {
   "cell_type": "code",
   "execution_count": 211,
   "id": "7a9e5446",
   "metadata": {
    "execution": {
     "iopub.execute_input": "2023-10-25T17:37:47.916564Z",
     "iopub.status.busy": "2023-10-25T17:37:47.915747Z",
     "iopub.status.idle": "2023-10-25T17:37:47.924558Z",
     "shell.execute_reply": "2023-10-25T17:37:47.923339Z"
    },
    "papermill": {
     "duration": 0.103551,
     "end_time": "2023-10-25T17:37:47.926702",
     "exception": false,
     "start_time": "2023-10-25T17:37:47.823151",
     "status": "completed"
    },
    "tags": []
   },
   "outputs": [
    {
     "data": {
      "text/plain": [
       "770"
      ]
     },
     "execution_count": 211,
     "metadata": {},
     "output_type": "execute_result"
    }
   ],
   "source": [
    "c = [10,770,30,40,50]\n",
    "ini = int(c[0])\n",
    "def maxx(p,q):\n",
    "    if p > q :\n",
    "        return p \n",
    "    else :\n",
    "        return q\n",
    "\n",
    "    \n",
    "        \n",
    "    \n",
    "# ini = c[0]\n",
    "d = reduce(maxx,c)\n",
    "d"
   ]
  },
  {
   "cell_type": "code",
   "execution_count": 212,
   "id": "46eb4232",
   "metadata": {
    "execution": {
     "iopub.execute_input": "2023-10-25T17:37:48.110028Z",
     "iopub.status.busy": "2023-10-25T17:37:48.109339Z",
     "iopub.status.idle": "2023-10-25T17:37:48.116739Z",
     "shell.execute_reply": "2023-10-25T17:37:48.115725Z"
    },
    "papermill": {
     "duration": 0.101817,
     "end_time": "2023-10-25T17:37:48.119016",
     "exception": false,
     "start_time": "2023-10-25T17:37:48.017199",
     "status": "completed"
    },
    "tags": []
   },
   "outputs": [
    {
     "data": {
      "text/plain": [
       "'c001mlv c001prasad c001mentor'"
      ]
     },
     "execution_count": 212,
     "metadata": {},
     "output_type": "execute_result"
    }
   ],
   "source": [
    "d = [\"mlv\",\"prasad\",\"mentor\"]\n",
    "# d = [\"mlv prasad\",\"mentor\"]\n",
    "\n",
    "def con (p,q) :\n",
    "    if p != \"c001\":\n",
    "        return p + \" c001\" + q\n",
    "    else :\n",
    "        return p + q\n",
    "\n",
    "e = reduce(con, d,\"c001\")\n",
    "e"
   ]
  },
  {
   "cell_type": "code",
   "execution_count": 213,
   "id": "948db5bb",
   "metadata": {
    "execution": {
     "iopub.execute_input": "2023-10-25T17:37:48.302326Z",
     "iopub.status.busy": "2023-10-25T17:37:48.301897Z",
     "iopub.status.idle": "2023-10-25T17:37:48.310010Z",
     "shell.execute_reply": "2023-10-25T17:37:48.308763Z"
    },
    "papermill": {
     "duration": 0.103785,
     "end_time": "2023-10-25T17:37:48.312428",
     "exception": false,
     "start_time": "2023-10-25T17:37:48.208643",
     "status": "completed"
    },
    "tags": []
   },
   "outputs": [
    {
     "data": {
      "text/plain": [
       "'mlv prasad mentor'"
      ]
     },
     "execution_count": 213,
     "metadata": {},
     "output_type": "execute_result"
    }
   ],
   "source": [
    "d = [\"mlv\",\"prasad\",\"mentor\"]\n",
    "e = reduce(lambda x,y : x + \" \" + y, d)\n",
    "e"
   ]
  },
  {
   "cell_type": "code",
   "execution_count": 214,
   "id": "e4eb002f",
   "metadata": {
    "execution": {
     "iopub.execute_input": "2023-10-25T17:37:48.492312Z",
     "iopub.status.busy": "2023-10-25T17:37:48.491609Z",
     "iopub.status.idle": "2023-10-25T17:37:48.500015Z",
     "shell.execute_reply": "2023-10-25T17:37:48.498995Z"
    },
    "papermill": {
     "duration": 0.102417,
     "end_time": "2023-10-25T17:37:48.502880",
     "exception": false,
     "start_time": "2023-10-25T17:37:48.400463",
     "status": "completed"
    },
    "tags": []
   },
   "outputs": [
    {
     "data": {
      "text/plain": [
       "[100, 625, 900, 1225, 2500]"
      ]
     },
     "execution_count": 214,
     "metadata": {},
     "output_type": "execute_result"
    }
   ],
   "source": [
    "#map\n",
    "\n",
    "a = [10,25,30,35,50]\n",
    "\n",
    "# fil  = [10,30,50]\n",
    "\n",
    "# reduce = one final ans \n",
    "\n",
    "#map - apply some function on all elememts\n",
    "\n",
    "\n",
    "b = []\n",
    "for i in a :\n",
    "    b.append(i**2)\n",
    "b\n",
    "\n"
   ]
  },
  {
   "cell_type": "code",
   "execution_count": 215,
   "id": "b940e15c",
   "metadata": {
    "execution": {
     "iopub.execute_input": "2023-10-25T17:37:48.685620Z",
     "iopub.status.busy": "2023-10-25T17:37:48.685171Z",
     "iopub.status.idle": "2023-10-25T17:37:48.693719Z",
     "shell.execute_reply": "2023-10-25T17:37:48.692363Z"
    },
    "papermill": {
     "duration": 0.101727,
     "end_time": "2023-10-25T17:37:48.696197",
     "exception": false,
     "start_time": "2023-10-25T17:37:48.594470",
     "status": "completed"
    },
    "tags": []
   },
   "outputs": [
    {
     "data": {
      "text/plain": [
       "[100, 625, 900, 1225, 2500]"
      ]
     },
     "execution_count": 215,
     "metadata": {},
     "output_type": "execute_result"
    }
   ],
   "source": [
    "c = [10,25,30,35,50]\n",
    "def sq(x) :\n",
    "    return x**2\n",
    "d = list(map(sq, c))\n",
    "d"
   ]
  },
  {
   "cell_type": "code",
   "execution_count": 216,
   "id": "832bb13e",
   "metadata": {
    "execution": {
     "iopub.execute_input": "2023-10-25T17:37:48.880594Z",
     "iopub.status.busy": "2023-10-25T17:37:48.880144Z",
     "iopub.status.idle": "2023-10-25T17:37:48.888307Z",
     "shell.execute_reply": "2023-10-25T17:37:48.887086Z"
    },
    "papermill": {
     "duration": 0.104019,
     "end_time": "2023-10-25T17:37:48.890549",
     "exception": false,
     "start_time": "2023-10-25T17:37:48.786530",
     "status": "completed"
    },
    "tags": []
   },
   "outputs": [
    {
     "data": {
      "text/plain": [
       "[100, 625, 900, 1225, 2500]"
      ]
     },
     "execution_count": 216,
     "metadata": {},
     "output_type": "execute_result"
    }
   ],
   "source": [
    "c = [10,25,30,35,50]\n",
    "\n",
    "d = list(map(lambda i : i **2 , c))\n",
    "d"
   ]
  },
  {
   "cell_type": "code",
   "execution_count": null,
   "id": "fe915247",
   "metadata": {
    "papermill": {
     "duration": 0.090603,
     "end_time": "2023-10-25T17:37:49.071234",
     "exception": false,
     "start_time": "2023-10-25T17:37:48.980631",
     "status": "completed"
    },
    "tags": []
   },
   "outputs": [],
   "source": []
  },
  {
   "cell_type": "code",
   "execution_count": null,
   "id": "e4d19c10",
   "metadata": {
    "papermill": {
     "duration": 0.089316,
     "end_time": "2023-10-25T17:37:49.250191",
     "exception": false,
     "start_time": "2023-10-25T17:37:49.160875",
     "status": "completed"
    },
    "tags": []
   },
   "outputs": [],
   "source": []
  },
  {
   "cell_type": "code",
   "execution_count": null,
   "id": "fea85c8a",
   "metadata": {
    "execution": {
     "iopub.execute_input": "2023-10-25T16:16:26.730333Z",
     "iopub.status.busy": "2023-10-25T16:16:26.729903Z",
     "iopub.status.idle": "2023-10-25T16:16:26.738798Z",
     "shell.execute_reply": "2023-10-25T16:16:26.737527Z",
     "shell.execute_reply.started": "2023-10-25T16:16:26.730300Z"
    },
    "papermill": {
     "duration": 0.090524,
     "end_time": "2023-10-25T17:37:49.430096",
     "exception": false,
     "start_time": "2023-10-25T17:37:49.339572",
     "status": "completed"
    },
    "tags": []
   },
   "outputs": [],
   "source": []
  },
  {
   "cell_type": "code",
   "execution_count": null,
   "id": "b2fa1f71",
   "metadata": {
    "papermill": {
     "duration": 0.090318,
     "end_time": "2023-10-25T17:37:49.612215",
     "exception": false,
     "start_time": "2023-10-25T17:37:49.521897",
     "status": "completed"
    },
    "tags": []
   },
   "outputs": [],
   "source": []
  }
 ],
 "metadata": {
  "kernelspec": {
   "display_name": "Python 3",
   "language": "python",
   "name": "python3"
  },
  "language_info": {
   "codemirror_mode": {
    "name": "ipython",
    "version": 3
   },
   "file_extension": ".py",
   "mimetype": "text/x-python",
   "name": "python",
   "nbconvert_exporter": "python",
   "pygments_lexer": "ipython3",
   "version": "3.10.12"
  },
  "papermill": {
   "default_parameters": {},
   "duration": 44.337333,
   "end_time": "2023-10-25T17:37:50.124104",
   "environment_variables": {},
   "exception": null,
   "input_path": "__notebook__.ipynb",
   "output_path": "__notebook__.ipynb",
   "parameters": {},
   "start_time": "2023-10-25T17:37:05.786771",
   "version": "2.4.0"
  }
 },
 "nbformat": 4,
 "nbformat_minor": 5
}
