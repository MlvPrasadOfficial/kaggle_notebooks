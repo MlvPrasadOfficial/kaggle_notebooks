{
 "cells": [
  {
   "cell_type": "code",
   "execution_count": 1,
   "id": "9916fe41",
   "metadata": {
    "_cell_guid": "b1076dfc-b9ad-4769-8c92-a6c4dae69d19",
    "_uuid": "8f2839f25d086af736a60e9eeb907d3b93b6e0e5",
    "execution": {
     "iopub.execute_input": "2023-10-18T18:01:28.482456Z",
     "iopub.status.busy": "2023-10-18T18:01:28.481727Z",
     "iopub.status.idle": "2023-10-18T18:01:28.492250Z",
     "shell.execute_reply": "2023-10-18T18:01:28.491236Z"
    },
    "papermill": {
     "duration": 0.033386,
     "end_time": "2023-10-18T18:01:28.494498",
     "exception": false,
     "start_time": "2023-10-18T18:01:28.461112",
     "status": "completed"
    },
    "tags": []
   },
   "outputs": [
    {
     "name": "stdout",
     "output_type": "stream",
     "text": [
      "6\n",
      "---\n",
      "6\n"
     ]
    }
   ],
   "source": [
    "a = 6\n",
    "print(a)\n",
    "print(\"---\")\n",
    "# a = \n",
    "print(a)"
   ]
  },
  {
   "cell_type": "code",
   "execution_count": 2,
   "id": "fdc32249",
   "metadata": {
    "execution": {
     "iopub.execute_input": "2023-10-18T18:01:28.535375Z",
     "iopub.status.busy": "2023-10-18T18:01:28.534787Z",
     "iopub.status.idle": "2023-10-18T18:01:28.541611Z",
     "shell.execute_reply": "2023-10-18T18:01:28.540606Z"
    },
    "papermill": {
     "duration": 0.030767,
     "end_time": "2023-10-18T18:01:28.543804",
     "exception": false,
     "start_time": "2023-10-18T18:01:28.513037",
     "status": "completed"
    },
    "tags": []
   },
   "outputs": [
    {
     "data": {
      "text/plain": [
       "6"
      ]
     },
     "execution_count": 2,
     "metadata": {},
     "output_type": "execute_result"
    }
   ],
   "source": [
    "a"
   ]
  },
  {
   "cell_type": "code",
   "execution_count": 3,
   "id": "22a3091e",
   "metadata": {
    "execution": {
     "iopub.execute_input": "2023-10-18T18:01:28.582485Z",
     "iopub.status.busy": "2023-10-18T18:01:28.582178Z",
     "iopub.status.idle": "2023-10-18T18:01:28.585979Z",
     "shell.execute_reply": "2023-10-18T18:01:28.584945Z"
    },
    "papermill": {
     "duration": 0.025513,
     "end_time": "2023-10-18T18:01:28.587973",
     "exception": false,
     "start_time": "2023-10-18T18:01:28.562460",
     "status": "completed"
    },
    "tags": []
   },
   "outputs": [],
   "source": [
    "a = 7"
   ]
  },
  {
   "cell_type": "markdown",
   "id": "c90a4307",
   "metadata": {
    "papermill": {
     "duration": 0.018068,
     "end_time": "2023-10-18T18:01:28.624772",
     "exception": false,
     "start_time": "2023-10-18T18:01:28.606704",
     "status": "completed"
    },
    "tags": []
   },
   "source": [
    "# data types"
   ]
  },
  {
   "cell_type": "code",
   "execution_count": 4,
   "id": "982e3176",
   "metadata": {
    "execution": {
     "iopub.execute_input": "2023-10-18T18:01:28.724396Z",
     "iopub.status.busy": "2023-10-18T18:01:28.723555Z",
     "iopub.status.idle": "2023-10-18T18:01:28.728326Z",
     "shell.execute_reply": "2023-10-18T18:01:28.727662Z"
    },
    "papermill": {
     "duration": 0.086362,
     "end_time": "2023-10-18T18:01:28.730272",
     "exception": false,
     "start_time": "2023-10-18T18:01:28.643910",
     "status": "completed"
    },
    "tags": []
   },
   "outputs": [
    {
     "name": "stdout",
     "output_type": "stream",
     "text": [
      "6\n"
     ]
    }
   ],
   "source": [
    "abhi = 6\n",
    "\n",
    "print(abhi)"
   ]
  },
  {
   "cell_type": "code",
   "execution_count": 5,
   "id": "f45313dc",
   "metadata": {
    "execution": {
     "iopub.execute_input": "2023-10-18T18:01:28.772733Z",
     "iopub.status.busy": "2023-10-18T18:01:28.772083Z",
     "iopub.status.idle": "2023-10-18T18:01:28.777438Z",
     "shell.execute_reply": "2023-10-18T18:01:28.776349Z"
    },
    "papermill": {
     "duration": 0.030793,
     "end_time": "2023-10-18T18:01:28.779657",
     "exception": false,
     "start_time": "2023-10-18T18:01:28.748864",
     "status": "completed"
    },
    "tags": []
   },
   "outputs": [
    {
     "data": {
      "text/plain": [
       "int"
      ]
     },
     "execution_count": 5,
     "metadata": {},
     "output_type": "execute_result"
    }
   ],
   "source": [
    "type(abhi)"
   ]
  },
  {
   "cell_type": "code",
   "execution_count": 6,
   "id": "64b91355",
   "metadata": {
    "execution": {
     "iopub.execute_input": "2023-10-18T18:01:28.818874Z",
     "iopub.status.busy": "2023-10-18T18:01:28.818285Z",
     "iopub.status.idle": "2023-10-18T18:01:28.823856Z",
     "shell.execute_reply": "2023-10-18T18:01:28.822810Z"
    },
    "papermill": {
     "duration": 0.027302,
     "end_time": "2023-10-18T18:01:28.825873",
     "exception": false,
     "start_time": "2023-10-18T18:01:28.798571",
     "status": "completed"
    },
    "tags": []
   },
   "outputs": [
    {
     "data": {
      "text/plain": [
       "float"
      ]
     },
     "execution_count": 6,
     "metadata": {},
     "output_type": "execute_result"
    }
   ],
   "source": [
    "swa = 6.5\n",
    "type(swa)"
   ]
  },
  {
   "cell_type": "code",
   "execution_count": 7,
   "id": "107f14ee",
   "metadata": {
    "execution": {
     "iopub.execute_input": "2023-10-18T18:01:28.874942Z",
     "iopub.status.busy": "2023-10-18T18:01:28.874374Z",
     "iopub.status.idle": "2023-10-18T18:01:28.879753Z",
     "shell.execute_reply": "2023-10-18T18:01:28.879083Z"
    },
    "papermill": {
     "duration": 0.027762,
     "end_time": "2023-10-18T18:01:28.881611",
     "exception": false,
     "start_time": "2023-10-18T18:01:28.853849",
     "status": "completed"
    },
    "tags": []
   },
   "outputs": [
    {
     "data": {
      "text/plain": [
       "complex"
      ]
     },
     "execution_count": 7,
     "metadata": {},
     "output_type": "execute_result"
    }
   ],
   "source": [
    "pra = 3 + 2j\n",
    "\n",
    "type(pra)"
   ]
  },
  {
   "cell_type": "code",
   "execution_count": 8,
   "id": "9865b606",
   "metadata": {
    "execution": {
     "iopub.execute_input": "2023-10-18T18:01:28.921183Z",
     "iopub.status.busy": "2023-10-18T18:01:28.920516Z",
     "iopub.status.idle": "2023-10-18T18:01:28.926004Z",
     "shell.execute_reply": "2023-10-18T18:01:28.925206Z"
    },
    "papermill": {
     "duration": 0.027199,
     "end_time": "2023-10-18T18:01:28.927941",
     "exception": false,
     "start_time": "2023-10-18T18:01:28.900742",
     "status": "completed"
    },
    "tags": []
   },
   "outputs": [
    {
     "data": {
      "text/plain": [
       "str"
      ]
     },
     "execution_count": 8,
     "metadata": {},
     "output_type": "execute_result"
    }
   ],
   "source": [
    "x = \"sush\"\n",
    "type(x)"
   ]
  },
  {
   "cell_type": "code",
   "execution_count": 9,
   "id": "7e4d779e",
   "metadata": {
    "execution": {
     "iopub.execute_input": "2023-10-18T18:01:28.970209Z",
     "iopub.status.busy": "2023-10-18T18:01:28.969555Z",
     "iopub.status.idle": "2023-10-18T18:01:28.974784Z",
     "shell.execute_reply": "2023-10-18T18:01:28.974001Z"
    },
    "papermill": {
     "duration": 0.027869,
     "end_time": "2023-10-18T18:01:28.976695",
     "exception": false,
     "start_time": "2023-10-18T18:01:28.948826",
     "status": "completed"
    },
    "tags": []
   },
   "outputs": [
    {
     "data": {
      "text/plain": [
       "int"
      ]
     },
     "execution_count": 9,
     "metadata": {},
     "output_type": "execute_result"
    }
   ],
   "source": [
    "z = 44 - 5 - 14\n",
    "z\n",
    "type(z)"
   ]
  },
  {
   "cell_type": "code",
   "execution_count": 10,
   "id": "d0db4156",
   "metadata": {
    "execution": {
     "iopub.execute_input": "2023-10-18T18:01:29.016865Z",
     "iopub.status.busy": "2023-10-18T18:01:29.016215Z",
     "iopub.status.idle": "2023-10-18T18:01:29.021155Z",
     "shell.execute_reply": "2023-10-18T18:01:29.020437Z"
    },
    "papermill": {
     "duration": 0.027072,
     "end_time": "2023-10-18T18:01:29.022909",
     "exception": false,
     "start_time": "2023-10-18T18:01:28.995837",
     "status": "completed"
    },
    "tags": []
   },
   "outputs": [
    {
     "data": {
      "text/plain": [
       "'44-5-14'"
      ]
     },
     "execution_count": 10,
     "metadata": {},
     "output_type": "execute_result"
    }
   ],
   "source": [
    "y = \"44-5-14\"\n",
    "y"
   ]
  },
  {
   "cell_type": "code",
   "execution_count": 11,
   "id": "ca1fcc3a",
   "metadata": {
    "execution": {
     "iopub.execute_input": "2023-10-18T18:01:29.063282Z",
     "iopub.status.busy": "2023-10-18T18:01:29.062746Z",
     "iopub.status.idle": "2023-10-18T18:01:29.068012Z",
     "shell.execute_reply": "2023-10-18T18:01:29.067044Z"
    },
    "papermill": {
     "duration": 0.027587,
     "end_time": "2023-10-18T18:01:29.070020",
     "exception": false,
     "start_time": "2023-10-18T18:01:29.042433",
     "status": "completed"
    },
    "tags": []
   },
   "outputs": [
    {
     "data": {
      "text/plain": [
       "str"
      ]
     },
     "execution_count": 11,
     "metadata": {},
     "output_type": "execute_result"
    }
   ],
   "source": [
    "type(y)"
   ]
  },
  {
   "cell_type": "markdown",
   "id": "e8245232",
   "metadata": {
    "papermill": {
     "duration": 0.018828,
     "end_time": "2023-10-18T18:01:29.108312",
     "exception": false,
     "start_time": "2023-10-18T18:01:29.089484",
     "status": "completed"
    },
    "tags": []
   },
   "source": [
    "# type casting"
   ]
  },
  {
   "cell_type": "code",
   "execution_count": 12,
   "id": "c28a34e9",
   "metadata": {
    "execution": {
     "iopub.execute_input": "2023-10-18T18:01:29.149277Z",
     "iopub.status.busy": "2023-10-18T18:01:29.148918Z",
     "iopub.status.idle": "2023-10-18T18:01:29.154972Z",
     "shell.execute_reply": "2023-10-18T18:01:29.154021Z"
    },
    "papermill": {
     "duration": 0.028375,
     "end_time": "2023-10-18T18:01:29.156744",
     "exception": false,
     "start_time": "2023-10-18T18:01:29.128369",
     "status": "completed"
    },
    "tags": []
   },
   "outputs": [
    {
     "data": {
      "text/plain": [
       "float"
      ]
     },
     "execution_count": 12,
     "metadata": {},
     "output_type": "execute_result"
    }
   ],
   "source": [
    "a = 6.5\n",
    "type(a)"
   ]
  },
  {
   "cell_type": "code",
   "execution_count": 13,
   "id": "1403dc5c",
   "metadata": {
    "execution": {
     "iopub.execute_input": "2023-10-18T18:01:29.197548Z",
     "iopub.status.busy": "2023-10-18T18:01:29.196866Z",
     "iopub.status.idle": "2023-10-18T18:01:29.203201Z",
     "shell.execute_reply": "2023-10-18T18:01:29.202256Z"
    },
    "papermill": {
     "duration": 0.028843,
     "end_time": "2023-10-18T18:01:29.205142",
     "exception": false,
     "start_time": "2023-10-18T18:01:29.176299",
     "status": "completed"
    },
    "tags": []
   },
   "outputs": [
    {
     "data": {
      "text/plain": [
       "6"
      ]
     },
     "execution_count": 13,
     "metadata": {},
     "output_type": "execute_result"
    }
   ],
   "source": [
    "b = int(a)\n",
    "b"
   ]
  },
  {
   "cell_type": "code",
   "execution_count": 14,
   "id": "57ddfd83",
   "metadata": {
    "execution": {
     "iopub.execute_input": "2023-10-18T18:01:29.245594Z",
     "iopub.status.busy": "2023-10-18T18:01:29.245211Z",
     "iopub.status.idle": "2023-10-18T18:01:29.251753Z",
     "shell.execute_reply": "2023-10-18T18:01:29.250307Z"
    },
    "papermill": {
     "duration": 0.029528,
     "end_time": "2023-10-18T18:01:29.253995",
     "exception": false,
     "start_time": "2023-10-18T18:01:29.224467",
     "status": "completed"
    },
    "tags": []
   },
   "outputs": [
    {
     "data": {
      "text/plain": [
       "int"
      ]
     },
     "execution_count": 14,
     "metadata": {},
     "output_type": "execute_result"
    }
   ],
   "source": [
    "type(b)"
   ]
  },
  {
   "cell_type": "code",
   "execution_count": 15,
   "id": "00b920ae",
   "metadata": {
    "execution": {
     "iopub.execute_input": "2023-10-18T18:01:29.294482Z",
     "iopub.status.busy": "2023-10-18T18:01:29.293738Z",
     "iopub.status.idle": "2023-10-18T18:01:29.299608Z",
     "shell.execute_reply": "2023-10-18T18:01:29.298637Z"
    },
    "papermill": {
     "duration": 0.028108,
     "end_time": "2023-10-18T18:01:29.301423",
     "exception": false,
     "start_time": "2023-10-18T18:01:29.273315",
     "status": "completed"
    },
    "tags": []
   },
   "outputs": [
    {
     "data": {
      "text/plain": [
       "6.0"
      ]
     },
     "execution_count": 15,
     "metadata": {},
     "output_type": "execute_result"
    }
   ],
   "source": [
    "c = float(b)\n",
    "c"
   ]
  },
  {
   "cell_type": "code",
   "execution_count": 16,
   "id": "358447c4",
   "metadata": {
    "execution": {
     "iopub.execute_input": "2023-10-18T18:01:29.342080Z",
     "iopub.status.busy": "2023-10-18T18:01:29.341059Z",
     "iopub.status.idle": "2023-10-18T18:01:29.347123Z",
     "shell.execute_reply": "2023-10-18T18:01:29.346003Z"
    },
    "papermill": {
     "duration": 0.028356,
     "end_time": "2023-10-18T18:01:29.349178",
     "exception": false,
     "start_time": "2023-10-18T18:01:29.320822",
     "status": "completed"
    },
    "tags": []
   },
   "outputs": [
    {
     "data": {
      "text/plain": [
       "float"
      ]
     },
     "execution_count": 16,
     "metadata": {},
     "output_type": "execute_result"
    }
   ],
   "source": [
    "type(c)"
   ]
  },
  {
   "cell_type": "code",
   "execution_count": 17,
   "id": "36b486b1",
   "metadata": {
    "execution": {
     "iopub.execute_input": "2023-10-18T18:01:29.392403Z",
     "iopub.status.busy": "2023-10-18T18:01:29.391703Z",
     "iopub.status.idle": "2023-10-18T18:01:29.397201Z",
     "shell.execute_reply": "2023-10-18T18:01:29.396577Z"
    },
    "papermill": {
     "duration": 0.029142,
     "end_time": "2023-10-18T18:01:29.399004",
     "exception": false,
     "start_time": "2023-10-18T18:01:29.369862",
     "status": "completed"
    },
    "tags": []
   },
   "outputs": [
    {
     "data": {
      "text/plain": [
       "'667'"
      ]
     },
     "execution_count": 17,
     "metadata": {},
     "output_type": "execute_result"
    }
   ],
   "source": [
    "g = \"66\"\n",
    "h = \"7\"\n",
    "\n",
    "g + h"
   ]
  },
  {
   "cell_type": "code",
   "execution_count": 18,
   "id": "8362a9cc",
   "metadata": {
    "execution": {
     "iopub.execute_input": "2023-10-18T18:01:29.440633Z",
     "iopub.status.busy": "2023-10-18T18:01:29.439823Z",
     "iopub.status.idle": "2023-10-18T18:01:29.446457Z",
     "shell.execute_reply": "2023-10-18T18:01:29.445416Z"
    },
    "papermill": {
     "duration": 0.029342,
     "end_time": "2023-10-18T18:01:29.448512",
     "exception": false,
     "start_time": "2023-10-18T18:01:29.419170",
     "status": "completed"
    },
    "tags": []
   },
   "outputs": [
    {
     "data": {
      "text/plain": [
       "73"
      ]
     },
     "execution_count": 18,
     "metadata": {},
     "output_type": "execute_result"
    }
   ],
   "source": [
    "i = 66\n",
    "j = 7\n",
    "i + j"
   ]
  },
  {
   "cell_type": "code",
   "execution_count": 19,
   "id": "fe0d2b62",
   "metadata": {
    "execution": {
     "iopub.execute_input": "2023-10-18T18:01:29.490128Z",
     "iopub.status.busy": "2023-10-18T18:01:29.489499Z",
     "iopub.status.idle": "2023-10-18T18:01:29.494516Z",
     "shell.execute_reply": "2023-10-18T18:01:29.493702Z"
    },
    "papermill": {
     "duration": 0.027541,
     "end_time": "2023-10-18T18:01:29.496313",
     "exception": false,
     "start_time": "2023-10-18T18:01:29.468772",
     "status": "completed"
    },
    "tags": []
   },
   "outputs": [
    {
     "data": {
      "text/plain": [
       "'667'"
      ]
     },
     "execution_count": 19,
     "metadata": {},
     "output_type": "execute_result"
    }
   ],
   "source": [
    "p = \"66\"\n",
    "q = 7\n",
    "# \"667\"\n",
    "p + str(q)"
   ]
  },
  {
   "cell_type": "code",
   "execution_count": 20,
   "id": "f14ad9fb",
   "metadata": {
    "execution": {
     "iopub.execute_input": "2023-10-18T18:01:29.538116Z",
     "iopub.status.busy": "2023-10-18T18:01:29.537451Z",
     "iopub.status.idle": "2023-10-18T18:01:29.543433Z",
     "shell.execute_reply": "2023-10-18T18:01:29.542369Z"
    },
    "papermill": {
     "duration": 0.029315,
     "end_time": "2023-10-18T18:01:29.545431",
     "exception": false,
     "start_time": "2023-10-18T18:01:29.516116",
     "status": "completed"
    },
    "tags": []
   },
   "outputs": [
    {
     "data": {
      "text/plain": [
       "73"
      ]
     },
     "execution_count": 20,
     "metadata": {},
     "output_type": "execute_result"
    }
   ],
   "source": [
    "p = \"66\"\n",
    "q = 7\n",
    "int(p) + q"
   ]
  },
  {
   "cell_type": "code",
   "execution_count": 21,
   "id": "8bffba77",
   "metadata": {
    "execution": {
     "iopub.execute_input": "2023-10-18T18:01:29.587099Z",
     "iopub.status.busy": "2023-10-18T18:01:29.586595Z",
     "iopub.status.idle": "2023-10-18T18:01:29.591146Z",
     "shell.execute_reply": "2023-10-18T18:01:29.590393Z"
    },
    "papermill": {
     "duration": 0.027276,
     "end_time": "2023-10-18T18:01:29.592863",
     "exception": false,
     "start_time": "2023-10-18T18:01:29.565587",
     "status": "completed"
    },
    "tags": []
   },
   "outputs": [
    {
     "data": {
      "text/plain": [
       "8"
      ]
     },
     "execution_count": 21,
     "metadata": {},
     "output_type": "execute_result"
    }
   ],
   "source": [
    "a = 7\n",
    "b = 8\n",
    "b"
   ]
  },
  {
   "cell_type": "code",
   "execution_count": 22,
   "id": "ec701b12",
   "metadata": {
    "execution": {
     "iopub.execute_input": "2023-10-18T18:01:29.635506Z",
     "iopub.status.busy": "2023-10-18T18:01:29.634988Z",
     "iopub.status.idle": "2023-10-18T18:01:29.640205Z",
     "shell.execute_reply": "2023-10-18T18:01:29.639303Z"
    },
    "papermill": {
     "duration": 0.029556,
     "end_time": "2023-10-18T18:01:29.642310",
     "exception": false,
     "start_time": "2023-10-18T18:01:29.612754",
     "status": "completed"
    },
    "tags": []
   },
   "outputs": [
    {
     "data": {
      "text/plain": [
       "8"
      ]
     },
     "execution_count": 22,
     "metadata": {},
     "output_type": "execute_result"
    }
   ],
   "source": [
    "a,b = 7,8\n",
    "b"
   ]
  },
  {
   "cell_type": "code",
   "execution_count": 23,
   "id": "fed2b356",
   "metadata": {
    "execution": {
     "iopub.execute_input": "2023-10-18T18:01:29.686125Z",
     "iopub.status.busy": "2023-10-18T18:01:29.685797Z",
     "iopub.status.idle": "2023-10-18T18:01:29.691756Z",
     "shell.execute_reply": "2023-10-18T18:01:29.690628Z"
    },
    "papermill": {
     "duration": 0.029906,
     "end_time": "2023-10-18T18:01:29.693685",
     "exception": false,
     "start_time": "2023-10-18T18:01:29.663779",
     "status": "completed"
    },
    "tags": []
   },
   "outputs": [
    {
     "data": {
      "text/plain": [
       "7"
      ]
     },
     "execution_count": 23,
     "metadata": {},
     "output_type": "execute_result"
    }
   ],
   "source": [
    "abhi7 = 7\n",
    "abhi7"
   ]
  },
  {
   "cell_type": "code",
   "execution_count": 24,
   "id": "02ba991b",
   "metadata": {
    "execution": {
     "iopub.execute_input": "2023-10-18T18:01:29.736490Z",
     "iopub.status.busy": "2023-10-18T18:01:29.736175Z",
     "iopub.status.idle": "2023-10-18T18:01:29.741251Z",
     "shell.execute_reply": "2023-10-18T18:01:29.740240Z"
    },
    "papermill": {
     "duration": 0.029172,
     "end_time": "2023-10-18T18:01:29.743208",
     "exception": false,
     "start_time": "2023-10-18T18:01:29.714036",
     "status": "completed"
    },
    "tags": []
   },
   "outputs": [
    {
     "name": "stdout",
     "output_type": "stream",
     "text": [
      "Sally\n"
     ]
    }
   ],
   "source": [
    "x = 4       # x is of type int\n",
    "x = \"Sally\" # x is now of type str\n",
    "print(x)"
   ]
  },
  {
   "cell_type": "code",
   "execution_count": 25,
   "id": "04cad25d",
   "metadata": {
    "execution": {
     "iopub.execute_input": "2023-10-18T18:01:29.784392Z",
     "iopub.status.busy": "2023-10-18T18:01:29.784068Z",
     "iopub.status.idle": "2023-10-18T18:01:29.789700Z",
     "shell.execute_reply": "2023-10-18T18:01:29.788569Z"
    },
    "papermill": {
     "duration": 0.028541,
     "end_time": "2023-10-18T18:01:29.791666",
     "exception": false,
     "start_time": "2023-10-18T18:01:29.763125",
     "status": "completed"
    },
    "tags": []
   },
   "outputs": [
    {
     "name": "stdout",
     "output_type": "stream",
     "text": [
      "4\n"
     ]
    }
   ],
   "source": [
    "x = 4       # x is of type int\n",
    "print(x)\n",
    "x = \"Sally\" # x is now of type str\n"
   ]
  },
  {
   "cell_type": "code",
   "execution_count": 26,
   "id": "9ffa8cf3",
   "metadata": {
    "execution": {
     "iopub.execute_input": "2023-10-18T18:01:29.834205Z",
     "iopub.status.busy": "2023-10-18T18:01:29.833278Z",
     "iopub.status.idle": "2023-10-18T18:01:29.838638Z",
     "shell.execute_reply": "2023-10-18T18:01:29.837579Z"
    },
    "papermill": {
     "duration": 0.028471,
     "end_time": "2023-10-18T18:01:29.840606",
     "exception": false,
     "start_time": "2023-10-18T18:01:29.812135",
     "status": "completed"
    },
    "tags": []
   },
   "outputs": [
    {
     "name": "stdout",
     "output_type": "stream",
     "text": [
      "7\n"
     ]
    }
   ],
   "source": [
    "# o/p\n",
    "a= 7\n",
    "print(a)"
   ]
  },
  {
   "cell_type": "code",
   "execution_count": 27,
   "id": "5ac2b5aa",
   "metadata": {
    "execution": {
     "iopub.execute_input": "2023-10-18T18:01:29.884138Z",
     "iopub.status.busy": "2023-10-18T18:01:29.883009Z",
     "iopub.status.idle": "2023-10-18T18:01:29.887214Z",
     "shell.execute_reply": "2023-10-18T18:01:29.886499Z"
    },
    "papermill": {
     "duration": 0.027481,
     "end_time": "2023-10-18T18:01:29.889031",
     "exception": false,
     "start_time": "2023-10-18T18:01:29.861550",
     "status": "completed"
    },
    "tags": []
   },
   "outputs": [],
   "source": [
    "# a = int(input())\n",
    "# print(a+1)"
   ]
  },
  {
   "cell_type": "code",
   "execution_count": 28,
   "id": "4700a87e",
   "metadata": {
    "execution": {
     "iopub.execute_input": "2023-10-18T18:01:29.932232Z",
     "iopub.status.busy": "2023-10-18T18:01:29.931558Z",
     "iopub.status.idle": "2023-10-18T18:01:29.937869Z",
     "shell.execute_reply": "2023-10-18T18:01:29.936612Z"
    },
    "papermill": {
     "duration": 0.031012,
     "end_time": "2023-10-18T18:01:29.940130",
     "exception": false,
     "start_time": "2023-10-18T18:01:29.909118",
     "status": "completed"
    },
    "tags": []
   },
   "outputs": [
    {
     "data": {
      "text/plain": [
       "13"
      ]
     },
     "execution_count": 28,
     "metadata": {},
     "output_type": "execute_result"
    }
   ],
   "source": [
    "a = 6 + 7\n",
    "a"
   ]
  },
  {
   "cell_type": "code",
   "execution_count": 29,
   "id": "e370a647",
   "metadata": {
    "execution": {
     "iopub.execute_input": "2023-10-18T18:01:29.983760Z",
     "iopub.status.busy": "2023-10-18T18:01:29.983396Z",
     "iopub.status.idle": "2023-10-18T18:01:29.988798Z",
     "shell.execute_reply": "2023-10-18T18:01:29.987837Z"
    },
    "papermill": {
     "duration": 0.029556,
     "end_time": "2023-10-18T18:01:29.990850",
     "exception": false,
     "start_time": "2023-10-18T18:01:29.961294",
     "status": "completed"
    },
    "tags": []
   },
   "outputs": [
    {
     "data": {
      "text/plain": [
       "'da50'"
      ]
     },
     "execution_count": 29,
     "metadata": {},
     "output_type": "execute_result"
    }
   ],
   "source": [
    "b = \"da\" + str(50)\n",
    "b"
   ]
  },
  {
   "cell_type": "code",
   "execution_count": 30,
   "id": "b7a853e6",
   "metadata": {
    "execution": {
     "iopub.execute_input": "2023-10-18T18:01:30.032711Z",
     "iopub.status.busy": "2023-10-18T18:01:30.032143Z",
     "iopub.status.idle": "2023-10-18T18:01:30.037081Z",
     "shell.execute_reply": "2023-10-18T18:01:30.036043Z"
    },
    "papermill": {
     "duration": 0.028063,
     "end_time": "2023-10-18T18:01:30.039153",
     "exception": false,
     "start_time": "2023-10-18T18:01:30.011090",
     "status": "completed"
    },
    "tags": []
   },
   "outputs": [
    {
     "name": "stdout",
     "output_type": "stream",
     "text": [
      "5 John\n"
     ]
    }
   ],
   "source": [
    "x = 5\n",
    "y = \"John\"\n",
    "print(x, y)"
   ]
  },
  {
   "cell_type": "code",
   "execution_count": 31,
   "id": "5a55c88e",
   "metadata": {
    "execution": {
     "iopub.execute_input": "2023-10-18T18:01:30.081911Z",
     "iopub.status.busy": "2023-10-18T18:01:30.081117Z",
     "iopub.status.idle": "2023-10-18T18:01:30.085500Z",
     "shell.execute_reply": "2023-10-18T18:01:30.084832Z"
    },
    "papermill": {
     "duration": 0.027654,
     "end_time": "2023-10-18T18:01:30.087343",
     "exception": false,
     "start_time": "2023-10-18T18:01:30.059689",
     "status": "completed"
    },
    "tags": []
   },
   "outputs": [],
   "source": [
    "a = 6 \n",
    "a = 7"
   ]
  },
  {
   "cell_type": "markdown",
   "id": "87f66268",
   "metadata": {
    "papermill": {
     "duration": 0.020297,
     "end_time": "2023-10-18T18:01:30.127871",
     "exception": false,
     "start_time": "2023-10-18T18:01:30.107574",
     "status": "completed"
    },
    "tags": []
   },
   "source": [
    "# data  structures\n"
   ]
  },
  {
   "cell_type": "markdown",
   "id": "6ce54490",
   "metadata": {
    "papermill": {
     "duration": 0.019986,
     "end_time": "2023-10-18T18:01:30.169255",
     "exception": false,
     "start_time": "2023-10-18T18:01:30.149269",
     "status": "completed"
    },
    "tags": []
   },
   "source": [
    "# List  [ ] "
   ]
  },
  {
   "cell_type": "code",
   "execution_count": 32,
   "id": "afb04fc3",
   "metadata": {
    "execution": {
     "iopub.execute_input": "2023-10-18T18:01:30.211810Z",
     "iopub.status.busy": "2023-10-18T18:01:30.211222Z",
     "iopub.status.idle": "2023-10-18T18:01:30.217104Z",
     "shell.execute_reply": "2023-10-18T18:01:30.216371Z"
    },
    "papermill": {
     "duration": 0.029221,
     "end_time": "2023-10-18T18:01:30.218895",
     "exception": false,
     "start_time": "2023-10-18T18:01:30.189674",
     "status": "completed"
    },
    "tags": []
   },
   "outputs": [
    {
     "data": {
      "text/plain": [
       "11"
      ]
     },
     "execution_count": 32,
     "metadata": {},
     "output_type": "execute_result"
    }
   ],
   "source": [
    "a = [11,28,34,45,57]\n",
    "a[0]\n",
    "\n"
   ]
  },
  {
   "cell_type": "code",
   "execution_count": 33,
   "id": "5289e725",
   "metadata": {
    "execution": {
     "iopub.execute_input": "2023-10-18T18:01:30.261982Z",
     "iopub.status.busy": "2023-10-18T18:01:30.261575Z",
     "iopub.status.idle": "2023-10-18T18:01:30.267684Z",
     "shell.execute_reply": "2023-10-18T18:01:30.266606Z"
    },
    "papermill": {
     "duration": 0.029806,
     "end_time": "2023-10-18T18:01:30.269622",
     "exception": false,
     "start_time": "2023-10-18T18:01:30.239816",
     "status": "completed"
    },
    "tags": []
   },
   "outputs": [
    {
     "data": {
      "text/plain": [
       "57"
      ]
     },
     "execution_count": 33,
     "metadata": {},
     "output_type": "execute_result"
    }
   ],
   "source": [
    "a[4]"
   ]
  },
  {
   "cell_type": "code",
   "execution_count": 34,
   "id": "eb4979ec",
   "metadata": {
    "execution": {
     "iopub.execute_input": "2023-10-18T18:01:30.312684Z",
     "iopub.status.busy": "2023-10-18T18:01:30.312319Z",
     "iopub.status.idle": "2023-10-18T18:01:30.318238Z",
     "shell.execute_reply": "2023-10-18T18:01:30.317199Z"
    },
    "papermill": {
     "duration": 0.029596,
     "end_time": "2023-10-18T18:01:30.320111",
     "exception": false,
     "start_time": "2023-10-18T18:01:30.290515",
     "status": "completed"
    },
    "tags": []
   },
   "outputs": [
    {
     "data": {
      "text/plain": [
       "[11, 28, 34, 45, 57]"
      ]
     },
     "execution_count": 34,
     "metadata": {},
     "output_type": "execute_result"
    }
   ],
   "source": [
    "a"
   ]
  },
  {
   "cell_type": "code",
   "execution_count": 35,
   "id": "f622fbf4",
   "metadata": {
    "execution": {
     "iopub.execute_input": "2023-10-18T18:01:30.363730Z",
     "iopub.status.busy": "2023-10-18T18:01:30.363352Z",
     "iopub.status.idle": "2023-10-18T18:01:30.369386Z",
     "shell.execute_reply": "2023-10-18T18:01:30.368401Z"
    },
    "papermill": {
     "duration": 0.030566,
     "end_time": "2023-10-18T18:01:30.371329",
     "exception": false,
     "start_time": "2023-10-18T18:01:30.340763",
     "status": "completed"
    },
    "tags": []
   },
   "outputs": [
    {
     "data": {
      "text/plain": [
       "57"
      ]
     },
     "execution_count": 35,
     "metadata": {},
     "output_type": "execute_result"
    }
   ],
   "source": [
    "a[-1]"
   ]
  },
  {
   "cell_type": "code",
   "execution_count": 36,
   "id": "7be4e6d2",
   "metadata": {
    "execution": {
     "iopub.execute_input": "2023-10-18T18:01:30.414251Z",
     "iopub.status.busy": "2023-10-18T18:01:30.413898Z",
     "iopub.status.idle": "2023-10-18T18:01:30.419833Z",
     "shell.execute_reply": "2023-10-18T18:01:30.418858Z"
    },
    "papermill": {
     "duration": 0.029739,
     "end_time": "2023-10-18T18:01:30.421700",
     "exception": false,
     "start_time": "2023-10-18T18:01:30.391961",
     "status": "completed"
    },
    "tags": []
   },
   "outputs": [
    {
     "data": {
      "text/plain": [
       "11"
      ]
     },
     "execution_count": 36,
     "metadata": {},
     "output_type": "execute_result"
    }
   ],
   "source": [
    "a[-5]"
   ]
  },
  {
   "cell_type": "code",
   "execution_count": 37,
   "id": "764f8192",
   "metadata": {
    "execution": {
     "iopub.execute_input": "2023-10-18T18:01:30.465933Z",
     "iopub.status.busy": "2023-10-18T18:01:30.465584Z",
     "iopub.status.idle": "2023-10-18T18:01:30.470772Z",
     "shell.execute_reply": "2023-10-18T18:01:30.470062Z"
    },
    "papermill": {
     "duration": 0.030183,
     "end_time": "2023-10-18T18:01:30.472758",
     "exception": false,
     "start_time": "2023-10-18T18:01:30.442575",
     "status": "completed"
    },
    "tags": []
   },
   "outputs": [
    {
     "data": {
      "text/plain": [
       "[28, 34, 45]"
      ]
     },
     "execution_count": 37,
     "metadata": {},
     "output_type": "execute_result"
    }
   ],
   "source": [
    "a[1:4]"
   ]
  },
  {
   "cell_type": "code",
   "execution_count": 38,
   "id": "2c1124d2",
   "metadata": {
    "execution": {
     "iopub.execute_input": "2023-10-18T18:01:30.516938Z",
     "iopub.status.busy": "2023-10-18T18:01:30.516607Z",
     "iopub.status.idle": "2023-10-18T18:01:30.521167Z",
     "shell.execute_reply": "2023-10-18T18:01:30.520078Z"
    },
    "papermill": {
     "duration": 0.028914,
     "end_time": "2023-10-18T18:01:30.523213",
     "exception": false,
     "start_time": "2023-10-18T18:01:30.494299",
     "status": "completed"
    },
    "tags": []
   },
   "outputs": [],
   "source": [
    "a = [10,20,30,40 ,50,60,70,80,90]"
   ]
  },
  {
   "cell_type": "code",
   "execution_count": 39,
   "id": "26653f73",
   "metadata": {
    "execution": {
     "iopub.execute_input": "2023-10-18T18:01:30.566258Z",
     "iopub.status.busy": "2023-10-18T18:01:30.565884Z",
     "iopub.status.idle": "2023-10-18T18:01:30.571949Z",
     "shell.execute_reply": "2023-10-18T18:01:30.570977Z"
    },
    "papermill": {
     "duration": 0.029814,
     "end_time": "2023-10-18T18:01:30.573903",
     "exception": false,
     "start_time": "2023-10-18T18:01:30.544089",
     "status": "completed"
    },
    "tags": []
   },
   "outputs": [
    {
     "data": {
      "text/plain": [
       "[20, 30, 40, 50, 60, 70, 80]"
      ]
     },
     "execution_count": 39,
     "metadata": {},
     "output_type": "execute_result"
    }
   ],
   "source": [
    "# 2 property index - list = zero -index \n",
    "a[1:8]"
   ]
  },
  {
   "cell_type": "code",
   "execution_count": 40,
   "id": "2fd4881b",
   "metadata": {
    "execution": {
     "iopub.execute_input": "2023-10-18T18:01:30.617517Z",
     "iopub.status.busy": "2023-10-18T18:01:30.617192Z",
     "iopub.status.idle": "2023-10-18T18:01:30.622927Z",
     "shell.execute_reply": "2023-10-18T18:01:30.621981Z"
    },
    "papermill": {
     "duration": 0.030126,
     "end_time": "2023-10-18T18:01:30.625064",
     "exception": false,
     "start_time": "2023-10-18T18:01:30.594938",
     "status": "completed"
    },
    "tags": []
   },
   "outputs": [
    {
     "data": {
      "text/plain": [
       "[20, 40, 60, 80]"
      ]
     },
     "execution_count": 40,
     "metadata": {},
     "output_type": "execute_result"
    }
   ],
   "source": [
    "a[1:8:2]"
   ]
  },
  {
   "cell_type": "code",
   "execution_count": 41,
   "id": "4e6f7bb9",
   "metadata": {
    "execution": {
     "iopub.execute_input": "2023-10-18T18:01:30.670877Z",
     "iopub.status.busy": "2023-10-18T18:01:30.670512Z",
     "iopub.status.idle": "2023-10-18T18:01:30.676712Z",
     "shell.execute_reply": "2023-10-18T18:01:30.675612Z"
    },
    "papermill": {
     "duration": 0.031684,
     "end_time": "2023-10-18T18:01:30.678749",
     "exception": false,
     "start_time": "2023-10-18T18:01:30.647065",
     "status": "completed"
    },
    "tags": []
   },
   "outputs": [
    {
     "data": {
      "text/plain": [
       "[20, 50, 80]"
      ]
     },
     "execution_count": 41,
     "metadata": {},
     "output_type": "execute_result"
    }
   ],
   "source": [
    "a[1:-1:3]"
   ]
  },
  {
   "cell_type": "code",
   "execution_count": 42,
   "id": "12833ef9",
   "metadata": {
    "execution": {
     "iopub.execute_input": "2023-10-18T18:01:30.724878Z",
     "iopub.status.busy": "2023-10-18T18:01:30.724502Z",
     "iopub.status.idle": "2023-10-18T18:01:30.730386Z",
     "shell.execute_reply": "2023-10-18T18:01:30.729424Z"
    },
    "papermill": {
     "duration": 0.031894,
     "end_time": "2023-10-18T18:01:30.732641",
     "exception": false,
     "start_time": "2023-10-18T18:01:30.700747",
     "status": "completed"
    },
    "tags": []
   },
   "outputs": [
    {
     "data": {
      "text/plain": [
       "[10, 20, 30, 40, 50, 60, 70, 80, 90]"
      ]
     },
     "execution_count": 42,
     "metadata": {},
     "output_type": "execute_result"
    }
   ],
   "source": [
    "# property of 1 of list \n",
    "# mutabilty\n",
    "\n",
    "a "
   ]
  },
  {
   "cell_type": "code",
   "execution_count": 43,
   "id": "128814f0",
   "metadata": {
    "execution": {
     "iopub.execute_input": "2023-10-18T18:01:30.777747Z",
     "iopub.status.busy": "2023-10-18T18:01:30.777246Z",
     "iopub.status.idle": "2023-10-18T18:01:30.783988Z",
     "shell.execute_reply": "2023-10-18T18:01:30.782979Z"
    },
    "papermill": {
     "duration": 0.032282,
     "end_time": "2023-10-18T18:01:30.786257",
     "exception": false,
     "start_time": "2023-10-18T18:01:30.753975",
     "status": "completed"
    },
    "tags": []
   },
   "outputs": [
    {
     "data": {
      "text/plain": [
       "10"
      ]
     },
     "execution_count": 43,
     "metadata": {},
     "output_type": "execute_result"
    }
   ],
   "source": [
    "a[0]"
   ]
  },
  {
   "cell_type": "code",
   "execution_count": 44,
   "id": "1e6c89d8",
   "metadata": {
    "execution": {
     "iopub.execute_input": "2023-10-18T18:01:30.830574Z",
     "iopub.status.busy": "2023-10-18T18:01:30.830192Z",
     "iopub.status.idle": "2023-10-18T18:01:30.835465Z",
     "shell.execute_reply": "2023-10-18T18:01:30.834764Z"
    },
    "papermill": {
     "duration": 0.029478,
     "end_time": "2023-10-18T18:01:30.837361",
     "exception": false,
     "start_time": "2023-10-18T18:01:30.807883",
     "status": "completed"
    },
    "tags": []
   },
   "outputs": [
    {
     "data": {
      "text/plain": [
       "[900, 20, 30, 40, 50, 60, 70, 80, 90]"
      ]
     },
     "execution_count": 44,
     "metadata": {},
     "output_type": "execute_result"
    }
   ],
   "source": [
    "a[0] = 900\n",
    "a"
   ]
  },
  {
   "cell_type": "code",
   "execution_count": 45,
   "id": "343ba29d",
   "metadata": {
    "execution": {
     "iopub.execute_input": "2023-10-18T18:01:30.881574Z",
     "iopub.status.busy": "2023-10-18T18:01:30.881181Z",
     "iopub.status.idle": "2023-10-18T18:01:30.887313Z",
     "shell.execute_reply": "2023-10-18T18:01:30.886141Z"
    },
    "papermill": {
     "duration": 0.030711,
     "end_time": "2023-10-18T18:01:30.889218",
     "exception": false,
     "start_time": "2023-10-18T18:01:30.858507",
     "status": "completed"
    },
    "tags": []
   },
   "outputs": [
    {
     "data": {
      "text/plain": [
       "list"
      ]
     },
     "execution_count": 45,
     "metadata": {},
     "output_type": "execute_result"
    }
   ],
   "source": [
    "type(a)"
   ]
  },
  {
   "cell_type": "markdown",
   "id": "8ab1cc39",
   "metadata": {
    "papermill": {
     "duration": 0.021989,
     "end_time": "2023-10-18T18:01:30.932829",
     "exception": false,
     "start_time": "2023-10-18T18:01:30.910840",
     "status": "completed"
    },
    "tags": []
   },
   "source": [
    "# tuple  (  )"
   ]
  },
  {
   "cell_type": "code",
   "execution_count": 46,
   "id": "ae00c60e",
   "metadata": {
    "execution": {
     "iopub.execute_input": "2023-10-18T18:01:30.978104Z",
     "iopub.status.busy": "2023-10-18T18:01:30.977780Z",
     "iopub.status.idle": "2023-10-18T18:01:30.983917Z",
     "shell.execute_reply": "2023-10-18T18:01:30.982787Z"
    },
    "papermill": {
     "duration": 0.03099,
     "end_time": "2023-10-18T18:01:30.985714",
     "exception": false,
     "start_time": "2023-10-18T18:01:30.954724",
     "status": "completed"
    },
    "tags": []
   },
   "outputs": [
    {
     "data": {
      "text/plain": [
       "10"
      ]
     },
     "execution_count": 46,
     "metadata": {},
     "output_type": "execute_result"
    }
   ],
   "source": [
    "b = (10,20,30,40,50)\n",
    "b[0]"
   ]
  },
  {
   "cell_type": "code",
   "execution_count": 47,
   "id": "b7ccec0a",
   "metadata": {
    "execution": {
     "iopub.execute_input": "2023-10-18T18:01:31.030370Z",
     "iopub.status.busy": "2023-10-18T18:01:31.030035Z",
     "iopub.status.idle": "2023-10-18T18:01:31.035912Z",
     "shell.execute_reply": "2023-10-18T18:01:31.034845Z"
    },
    "papermill": {
     "duration": 0.030389,
     "end_time": "2023-10-18T18:01:31.037769",
     "exception": false,
     "start_time": "2023-10-18T18:01:31.007380",
     "status": "completed"
    },
    "tags": []
   },
   "outputs": [
    {
     "data": {
      "text/plain": [
       "tuple"
      ]
     },
     "execution_count": 47,
     "metadata": {},
     "output_type": "execute_result"
    }
   ],
   "source": [
    "type(b)"
   ]
  },
  {
   "cell_type": "code",
   "execution_count": 48,
   "id": "b8da66a1",
   "metadata": {
    "execution": {
     "iopub.execute_input": "2023-10-18T18:01:31.082901Z",
     "iopub.status.busy": "2023-10-18T18:01:31.082017Z",
     "iopub.status.idle": "2023-10-18T18:01:31.087974Z",
     "shell.execute_reply": "2023-10-18T18:01:31.087146Z"
    },
    "papermill": {
     "duration": 0.030437,
     "end_time": "2023-10-18T18:01:31.089865",
     "exception": false,
     "start_time": "2023-10-18T18:01:31.059428",
     "status": "completed"
    },
    "tags": []
   },
   "outputs": [
    {
     "data": {
      "text/plain": [
       "50"
      ]
     },
     "execution_count": 48,
     "metadata": {},
     "output_type": "execute_result"
    }
   ],
   "source": [
    "b[4]"
   ]
  },
  {
   "cell_type": "code",
   "execution_count": 49,
   "id": "906f5d55",
   "metadata": {
    "execution": {
     "iopub.execute_input": "2023-10-18T18:01:31.135122Z",
     "iopub.status.busy": "2023-10-18T18:01:31.134806Z",
     "iopub.status.idle": "2023-10-18T18:01:31.140826Z",
     "shell.execute_reply": "2023-10-18T18:01:31.139872Z"
    },
    "papermill": {
     "duration": 0.031271,
     "end_time": "2023-10-18T18:01:31.142834",
     "exception": false,
     "start_time": "2023-10-18T18:01:31.111563",
     "status": "completed"
    },
    "tags": []
   },
   "outputs": [
    {
     "data": {
      "text/plain": [
       "50"
      ]
     },
     "execution_count": 49,
     "metadata": {},
     "output_type": "execute_result"
    }
   ],
   "source": [
    "b[-1]"
   ]
  },
  {
   "cell_type": "code",
   "execution_count": 50,
   "id": "11c20a6c",
   "metadata": {
    "execution": {
     "iopub.execute_input": "2023-10-18T18:01:31.188303Z",
     "iopub.status.busy": "2023-10-18T18:01:31.187974Z",
     "iopub.status.idle": "2023-10-18T18:01:31.192196Z",
     "shell.execute_reply": "2023-10-18T18:01:31.191289Z"
    },
    "papermill": {
     "duration": 0.029341,
     "end_time": "2023-10-18T18:01:31.194131",
     "exception": false,
     "start_time": "2023-10-18T18:01:31.164790",
     "status": "completed"
    },
    "tags": []
   },
   "outputs": [],
   "source": [
    "# property 2 of tuple - zero index "
   ]
  },
  {
   "cell_type": "code",
   "execution_count": 51,
   "id": "e94f4f88",
   "metadata": {
    "execution": {
     "iopub.execute_input": "2023-10-18T18:01:31.240855Z",
     "iopub.status.busy": "2023-10-18T18:01:31.240030Z",
     "iopub.status.idle": "2023-10-18T18:01:31.244204Z",
     "shell.execute_reply": "2023-10-18T18:01:31.243436Z"
    },
    "papermill": {
     "duration": 0.029761,
     "end_time": "2023-10-18T18:01:31.245845",
     "exception": false,
     "start_time": "2023-10-18T18:01:31.216084",
     "status": "completed"
    },
    "tags": []
   },
   "outputs": [],
   "source": [
    "# b[0] = 10"
   ]
  },
  {
   "cell_type": "code",
   "execution_count": 52,
   "id": "9ef23090",
   "metadata": {
    "execution": {
     "iopub.execute_input": "2023-10-18T18:01:31.291518Z",
     "iopub.status.busy": "2023-10-18T18:01:31.290901Z",
     "iopub.status.idle": "2023-10-18T18:01:31.294276Z",
     "shell.execute_reply": "2023-10-18T18:01:31.293645Z"
    },
    "papermill": {
     "duration": 0.028241,
     "end_time": "2023-10-18T18:01:31.295894",
     "exception": false,
     "start_time": "2023-10-18T18:01:31.267653",
     "status": "completed"
    },
    "tags": []
   },
   "outputs": [],
   "source": [
    "# property immutabilty - ypu cant change elements in a list"
   ]
  },
  {
   "cell_type": "code",
   "execution_count": 53,
   "id": "36037076",
   "metadata": {
    "execution": {
     "iopub.execute_input": "2023-10-18T18:01:31.341567Z",
     "iopub.status.busy": "2023-10-18T18:01:31.340619Z",
     "iopub.status.idle": "2023-10-18T18:01:31.345160Z",
     "shell.execute_reply": "2023-10-18T18:01:31.344397Z"
    },
    "papermill": {
     "duration": 0.029294,
     "end_time": "2023-10-18T18:01:31.347015",
     "exception": false,
     "start_time": "2023-10-18T18:01:31.317721",
     "status": "completed"
    },
    "tags": []
   },
   "outputs": [],
   "source": [
    "# set "
   ]
  },
  {
   "cell_type": "markdown",
   "id": "531cb63a",
   "metadata": {
    "papermill": {
     "duration": 0.021794,
     "end_time": "2023-10-18T18:01:31.390772",
     "exception": false,
     "start_time": "2023-10-18T18:01:31.368978",
     "status": "completed"
    },
    "tags": []
   },
   "source": [
    "{ }"
   ]
  },
  {
   "cell_type": "code",
   "execution_count": 54,
   "id": "6277eab0",
   "metadata": {
    "execution": {
     "iopub.execute_input": "2023-10-18T18:01:31.436987Z",
     "iopub.status.busy": "2023-10-18T18:01:31.436016Z",
     "iopub.status.idle": "2023-10-18T18:01:31.440696Z",
     "shell.execute_reply": "2023-10-18T18:01:31.439913Z"
    },
    "papermill": {
     "duration": 0.029347,
     "end_time": "2023-10-18T18:01:31.442471",
     "exception": false,
     "start_time": "2023-10-18T18:01:31.413124",
     "status": "completed"
    },
    "tags": []
   },
   "outputs": [],
   "source": [
    "c = {10,20,30,40}"
   ]
  },
  {
   "cell_type": "code",
   "execution_count": 55,
   "id": "bfb7e0d3",
   "metadata": {
    "execution": {
     "iopub.execute_input": "2023-10-18T18:01:31.489564Z",
     "iopub.status.busy": "2023-10-18T18:01:31.488924Z",
     "iopub.status.idle": "2023-10-18T18:01:31.493809Z",
     "shell.execute_reply": "2023-10-18T18:01:31.493059Z"
    },
    "papermill": {
     "duration": 0.029688,
     "end_time": "2023-10-18T18:01:31.495510",
     "exception": false,
     "start_time": "2023-10-18T18:01:31.465822",
     "status": "completed"
    },
    "tags": []
   },
   "outputs": [
    {
     "data": {
      "text/plain": [
       "{10, 20, 30, 40}"
      ]
     },
     "execution_count": 55,
     "metadata": {},
     "output_type": "execute_result"
    }
   ],
   "source": [
    "c"
   ]
  },
  {
   "cell_type": "code",
   "execution_count": 56,
   "id": "3d8ba589",
   "metadata": {
    "execution": {
     "iopub.execute_input": "2023-10-18T18:01:31.542559Z",
     "iopub.status.busy": "2023-10-18T18:01:31.542187Z",
     "iopub.status.idle": "2023-10-18T18:01:31.546340Z",
     "shell.execute_reply": "2023-10-18T18:01:31.545615Z"
    },
    "papermill": {
     "duration": 0.029623,
     "end_time": "2023-10-18T18:01:31.548035",
     "exception": false,
     "start_time": "2023-10-18T18:01:31.518412",
     "status": "completed"
    },
    "tags": []
   },
   "outputs": [],
   "source": [
    "d = {10,20,10,20}"
   ]
  },
  {
   "cell_type": "code",
   "execution_count": 57,
   "id": "faf1cbef",
   "metadata": {
    "execution": {
     "iopub.execute_input": "2023-10-18T18:01:31.594259Z",
     "iopub.status.busy": "2023-10-18T18:01:31.593899Z",
     "iopub.status.idle": "2023-10-18T18:01:31.599934Z",
     "shell.execute_reply": "2023-10-18T18:01:31.598915Z"
    },
    "papermill": {
     "duration": 0.031872,
     "end_time": "2023-10-18T18:01:31.602133",
     "exception": false,
     "start_time": "2023-10-18T18:01:31.570261",
     "status": "completed"
    },
    "tags": []
   },
   "outputs": [
    {
     "data": {
      "text/plain": [
       "{10, 20}"
      ]
     },
     "execution_count": 57,
     "metadata": {},
     "output_type": "execute_result"
    }
   ],
   "source": [
    "d"
   ]
  },
  {
   "cell_type": "code",
   "execution_count": 58,
   "id": "b321655c",
   "metadata": {
    "execution": {
     "iopub.execute_input": "2023-10-18T18:01:31.649785Z",
     "iopub.status.busy": "2023-10-18T18:01:31.649372Z",
     "iopub.status.idle": "2023-10-18T18:01:31.653303Z",
     "shell.execute_reply": "2023-10-18T18:01:31.652234Z"
    },
    "papermill": {
     "duration": 0.030156,
     "end_time": "2023-10-18T18:01:31.655291",
     "exception": false,
     "start_time": "2023-10-18T18:01:31.625135",
     "status": "completed"
    },
    "tags": []
   },
   "outputs": [],
   "source": [
    "# # property 1 \n",
    "\n",
    "# unique elements only "
   ]
  },
  {
   "cell_type": "code",
   "execution_count": 59,
   "id": "0665ccd3",
   "metadata": {
    "execution": {
     "iopub.execute_input": "2023-10-18T18:01:31.702150Z",
     "iopub.status.busy": "2023-10-18T18:01:31.701399Z",
     "iopub.status.idle": "2023-10-18T18:01:31.707510Z",
     "shell.execute_reply": "2023-10-18T18:01:31.706566Z"
    },
    "papermill": {
     "duration": 0.030896,
     "end_time": "2023-10-18T18:01:31.709416",
     "exception": false,
     "start_time": "2023-10-18T18:01:31.678520",
     "status": "completed"
    },
    "tags": []
   },
   "outputs": [
    {
     "data": {
      "text/plain": [
       "{10, 20}"
      ]
     },
     "execution_count": 59,
     "metadata": {},
     "output_type": "execute_result"
    }
   ],
   "source": [
    "# property \n",
    "# there is no index in set \n",
    "\n",
    "d"
   ]
  },
  {
   "cell_type": "code",
   "execution_count": 60,
   "id": "5178ffd4",
   "metadata": {
    "execution": {
     "iopub.execute_input": "2023-10-18T18:01:31.755135Z",
     "iopub.status.busy": "2023-10-18T18:01:31.754775Z",
     "iopub.status.idle": "2023-10-18T18:01:31.759196Z",
     "shell.execute_reply": "2023-10-18T18:01:31.758230Z"
    },
    "papermill": {
     "duration": 0.029755,
     "end_time": "2023-10-18T18:01:31.761253",
     "exception": false,
     "start_time": "2023-10-18T18:01:31.731498",
     "status": "completed"
    },
    "tags": []
   },
   "outputs": [],
   "source": [
    "# d[0]"
   ]
  },
  {
   "cell_type": "markdown",
   "id": "c008e6ae",
   "metadata": {
    "papermill": {
     "duration": 0.0242,
     "end_time": "2023-10-18T18:01:31.808108",
     "exception": false,
     "start_time": "2023-10-18T18:01:31.783908",
     "status": "completed"
    },
    "tags": []
   },
   "source": [
    "# dictionary  ( ) "
   ]
  },
  {
   "cell_type": "code",
   "execution_count": 61,
   "id": "6561ce4c",
   "metadata": {
    "execution": {
     "iopub.execute_input": "2023-10-18T18:01:31.853883Z",
     "iopub.status.busy": "2023-10-18T18:01:31.853509Z",
     "iopub.status.idle": "2023-10-18T18:01:31.857355Z",
     "shell.execute_reply": "2023-10-18T18:01:31.856692Z"
    },
    "papermill": {
     "duration": 0.028901,
     "end_time": "2023-10-18T18:01:31.859175",
     "exception": false,
     "start_time": "2023-10-18T18:01:31.830274",
     "status": "completed"
    },
    "tags": []
   },
   "outputs": [],
   "source": [
    "t = { \"beautiful\"   : \"swapna is a beautiful women\",\n",
    "    \"smart\" : \"tayyab is a smart person\",\n",
    "    \"clever\" : \"parth is clever\"}"
   ]
  },
  {
   "cell_type": "code",
   "execution_count": 62,
   "id": "e1673c99",
   "metadata": {
    "execution": {
     "iopub.execute_input": "2023-10-18T18:01:31.905359Z",
     "iopub.status.busy": "2023-10-18T18:01:31.905004Z",
     "iopub.status.idle": "2023-10-18T18:01:31.909809Z",
     "shell.execute_reply": "2023-10-18T18:01:31.908768Z"
    },
    "papermill": {
     "duration": 0.030622,
     "end_time": "2023-10-18T18:01:31.911843",
     "exception": false,
     "start_time": "2023-10-18T18:01:31.881221",
     "status": "completed"
    },
    "tags": []
   },
   "outputs": [],
   "source": [
    "# property index - key index"
   ]
  },
  {
   "cell_type": "code",
   "execution_count": 63,
   "id": "6ea9dae2",
   "metadata": {
    "execution": {
     "iopub.execute_input": "2023-10-18T18:01:31.957823Z",
     "iopub.status.busy": "2023-10-18T18:01:31.957425Z",
     "iopub.status.idle": "2023-10-18T18:01:31.963915Z",
     "shell.execute_reply": "2023-10-18T18:01:31.962957Z"
    },
    "papermill": {
     "duration": 0.031785,
     "end_time": "2023-10-18T18:01:31.965789",
     "exception": false,
     "start_time": "2023-10-18T18:01:31.934004",
     "status": "completed"
    },
    "tags": []
   },
   "outputs": [
    {
     "data": {
      "text/plain": [
       "dict_keys(['beautiful', 'smart', 'clever'])"
      ]
     },
     "execution_count": 63,
     "metadata": {},
     "output_type": "execute_result"
    }
   ],
   "source": [
    "t.keys()"
   ]
  },
  {
   "cell_type": "code",
   "execution_count": 64,
   "id": "2d495b94",
   "metadata": {
    "execution": {
     "iopub.execute_input": "2023-10-18T18:01:32.011990Z",
     "iopub.status.busy": "2023-10-18T18:01:32.011678Z",
     "iopub.status.idle": "2023-10-18T18:01:32.017565Z",
     "shell.execute_reply": "2023-10-18T18:01:32.016559Z"
    },
    "papermill": {
     "duration": 0.031075,
     "end_time": "2023-10-18T18:01:32.019356",
     "exception": false,
     "start_time": "2023-10-18T18:01:31.988281",
     "status": "completed"
    },
    "tags": []
   },
   "outputs": [
    {
     "data": {
      "text/plain": [
       "'swapna is a beautiful women'"
      ]
     },
     "execution_count": 64,
     "metadata": {},
     "output_type": "execute_result"
    }
   ],
   "source": [
    "t[\"beautiful\"]"
   ]
  },
  {
   "cell_type": "code",
   "execution_count": 65,
   "id": "9920417a",
   "metadata": {
    "execution": {
     "iopub.execute_input": "2023-10-18T18:01:32.065821Z",
     "iopub.status.busy": "2023-10-18T18:01:32.065451Z",
     "iopub.status.idle": "2023-10-18T18:01:32.071160Z",
     "shell.execute_reply": "2023-10-18T18:01:32.070194Z"
    },
    "papermill": {
     "duration": 0.030946,
     "end_time": "2023-10-18T18:01:32.072928",
     "exception": false,
     "start_time": "2023-10-18T18:01:32.041982",
     "status": "completed"
    },
    "tags": []
   },
   "outputs": [
    {
     "data": {
      "text/plain": [
       "'parth is clever'"
      ]
     },
     "execution_count": 65,
     "metadata": {},
     "output_type": "execute_result"
    }
   ],
   "source": [
    "t[\"clever\"]"
   ]
  },
  {
   "cell_type": "code",
   "execution_count": 66,
   "id": "c88d1d94",
   "metadata": {
    "execution": {
     "iopub.execute_input": "2023-10-18T18:01:32.119828Z",
     "iopub.status.busy": "2023-10-18T18:01:32.119209Z",
     "iopub.status.idle": "2023-10-18T18:01:32.125343Z",
     "shell.execute_reply": "2023-10-18T18:01:32.124335Z"
    },
    "papermill": {
     "duration": 0.031685,
     "end_time": "2023-10-18T18:01:32.127277",
     "exception": false,
     "start_time": "2023-10-18T18:01:32.095592",
     "status": "completed"
    },
    "tags": []
   },
   "outputs": [
    {
     "data": {
      "text/plain": [
       "dict_keys(['beautiful', 'smart', 'clever'])"
      ]
     },
     "execution_count": 66,
     "metadata": {},
     "output_type": "execute_result"
    }
   ],
   "source": [
    "t.keys()"
   ]
  },
  {
   "cell_type": "code",
   "execution_count": 67,
   "id": "fe1bd054",
   "metadata": {
    "execution": {
     "iopub.execute_input": "2023-10-18T18:01:32.174818Z",
     "iopub.status.busy": "2023-10-18T18:01:32.174365Z",
     "iopub.status.idle": "2023-10-18T18:01:32.180332Z",
     "shell.execute_reply": "2023-10-18T18:01:32.179345Z"
    },
    "papermill": {
     "duration": 0.03219,
     "end_time": "2023-10-18T18:01:32.182333",
     "exception": false,
     "start_time": "2023-10-18T18:01:32.150143",
     "status": "completed"
    },
    "tags": []
   },
   "outputs": [
    {
     "data": {
      "text/plain": [
       "dict_values(['swapna is a beautiful women', 'tayyab is a smart person', 'parth is clever'])"
      ]
     },
     "execution_count": 67,
     "metadata": {},
     "output_type": "execute_result"
    }
   ],
   "source": [
    "t.values()"
   ]
  },
  {
   "cell_type": "code",
   "execution_count": 68,
   "id": "97b2b790",
   "metadata": {
    "execution": {
     "iopub.execute_input": "2023-10-18T18:01:32.229146Z",
     "iopub.status.busy": "2023-10-18T18:01:32.228562Z",
     "iopub.status.idle": "2023-10-18T18:01:32.233293Z",
     "shell.execute_reply": "2023-10-18T18:01:32.232629Z"
    },
    "papermill": {
     "duration": 0.030057,
     "end_time": "2023-10-18T18:01:32.235045",
     "exception": false,
     "start_time": "2023-10-18T18:01:32.204988",
     "status": "completed"
    },
    "tags": []
   },
   "outputs": [
    {
     "data": {
      "text/plain": [
       "dict_items([('beautiful', 'swapna is a beautiful women'), ('smart', 'tayyab is a smart person'), ('clever', 'parth is clever')])"
      ]
     },
     "execution_count": 68,
     "metadata": {},
     "output_type": "execute_result"
    }
   ],
   "source": [
    "t.items()"
   ]
  },
  {
   "cell_type": "code",
   "execution_count": 69,
   "id": "03a2e862",
   "metadata": {
    "execution": {
     "iopub.execute_input": "2023-10-18T18:01:32.283458Z",
     "iopub.status.busy": "2023-10-18T18:01:32.282874Z",
     "iopub.status.idle": "2023-10-18T18:01:32.288729Z",
     "shell.execute_reply": "2023-10-18T18:01:32.287906Z"
    },
    "papermill": {
     "duration": 0.03225,
     "end_time": "2023-10-18T18:01:32.290628",
     "exception": false,
     "start_time": "2023-10-18T18:01:32.258378",
     "status": "completed"
    },
    "tags": []
   },
   "outputs": [
    {
     "data": {
      "text/plain": [
       "3"
      ]
     },
     "execution_count": 69,
     "metadata": {},
     "output_type": "execute_result"
    }
   ],
   "source": [
    "ch = { \"c1\" :\n",
    "                   {\"c1.1\" :  \"chapter1.1\",\n",
    "                    \n",
    "                    \"c1.2\" :  \n",
    "                             {\"c1.2.1\" : \"chapter mlv\",\n",
    "                              \"c1.2.2\" : [10,20,30,40]},\n",
    "                    \n",
    "                    \"c1.3\" :  \"chapter1.3\"},\n",
    "     \"c2\" : \"chapter2\",\n",
    "     \"c3\" : \"chapter3\"}\n",
    "\n",
    "len(ch)"
   ]
  },
  {
   "cell_type": "code",
   "execution_count": 70,
   "id": "510bbea4",
   "metadata": {
    "execution": {
     "iopub.execute_input": "2023-10-18T18:01:32.340750Z",
     "iopub.status.busy": "2023-10-18T18:01:32.340155Z",
     "iopub.status.idle": "2023-10-18T18:01:32.345994Z",
     "shell.execute_reply": "2023-10-18T18:01:32.344926Z"
    },
    "papermill": {
     "duration": 0.033228,
     "end_time": "2023-10-18T18:01:32.348033",
     "exception": false,
     "start_time": "2023-10-18T18:01:32.314805",
     "status": "completed"
    },
    "tags": []
   },
   "outputs": [
    {
     "data": {
      "text/plain": [
       "10"
      ]
     },
     "execution_count": 70,
     "metadata": {},
     "output_type": "execute_result"
    }
   ],
   "source": [
    "ch[\"c1\"][\"c1.2\"][\"c1.2.2\"][0]"
   ]
  },
  {
   "cell_type": "code",
   "execution_count": 71,
   "id": "8bde5a1d",
   "metadata": {
    "execution": {
     "iopub.execute_input": "2023-10-18T18:01:32.395964Z",
     "iopub.status.busy": "2023-10-18T18:01:32.395335Z",
     "iopub.status.idle": "2023-10-18T18:01:32.399759Z",
     "shell.execute_reply": "2023-10-18T18:01:32.398809Z"
    },
    "papermill": {
     "duration": 0.030353,
     "end_time": "2023-10-18T18:01:32.401456",
     "exception": false,
     "start_time": "2023-10-18T18:01:32.371103",
     "status": "completed"
    },
    "tags": []
   },
   "outputs": [],
   "source": [
    "ch[\"c3\"] = \"sush\""
   ]
  },
  {
   "cell_type": "code",
   "execution_count": 72,
   "id": "b1c7e137",
   "metadata": {
    "execution": {
     "iopub.execute_input": "2023-10-18T18:01:32.448724Z",
     "iopub.status.busy": "2023-10-18T18:01:32.448350Z",
     "iopub.status.idle": "2023-10-18T18:01:32.454232Z",
     "shell.execute_reply": "2023-10-18T18:01:32.453235Z"
    },
    "papermill": {
     "duration": 0.031998,
     "end_time": "2023-10-18T18:01:32.456302",
     "exception": false,
     "start_time": "2023-10-18T18:01:32.424304",
     "status": "completed"
    },
    "tags": []
   },
   "outputs": [
    {
     "data": {
      "text/plain": [
       "3"
      ]
     },
     "execution_count": 72,
     "metadata": {},
     "output_type": "execute_result"
    }
   ],
   "source": [
    "len(ch.items())"
   ]
  },
  {
   "cell_type": "code",
   "execution_count": 73,
   "id": "017fdd27",
   "metadata": {
    "execution": {
     "iopub.execute_input": "2023-10-18T18:01:32.504294Z",
     "iopub.status.busy": "2023-10-18T18:01:32.503930Z",
     "iopub.status.idle": "2023-10-18T18:01:32.510120Z",
     "shell.execute_reply": "2023-10-18T18:01:32.508974Z"
    },
    "papermill": {
     "duration": 0.032846,
     "end_time": "2023-10-18T18:01:32.512596",
     "exception": false,
     "start_time": "2023-10-18T18:01:32.479750",
     "status": "completed"
    },
    "tags": []
   },
   "outputs": [
    {
     "data": {
      "text/plain": [
       "{'c1': {'c1.1': 'chapter1.1',\n",
       "  'c1.2': {'c1.2.1': 'chapter mlv', 'c1.2.2': [10, 20, 30, 40]},\n",
       "  'c1.3': 'chapter1.3'},\n",
       " 'c2': 'chapter2',\n",
       " 'c3': 'sush'}"
      ]
     },
     "execution_count": 73,
     "metadata": {},
     "output_type": "execute_result"
    }
   ],
   "source": [
    "ch"
   ]
  },
  {
   "cell_type": "markdown",
   "id": "d69d4bb0",
   "metadata": {
    "papermill": {
     "duration": 0.02275,
     "end_time": "2023-10-18T18:01:32.558904",
     "exception": false,
     "start_time": "2023-10-18T18:01:32.536154",
     "status": "completed"
    },
    "tags": []
   },
   "source": [
    "# type\n",
    "int()\n",
    "float()\n",
    "str()"
   ]
  },
  {
   "cell_type": "markdown",
   "id": "82e774f2",
   "metadata": {
    "papermill": {
     "duration": 0.024643,
     "end_time": "2023-10-18T18:01:32.606705",
     "exception": false,
     "start_time": "2023-10-18T18:01:32.582062",
     "status": "completed"
    },
    "tags": []
   },
   "source": [
    "# data structure casting\n",
    "## list()  tuple() set()  dict()"
   ]
  },
  {
   "cell_type": "code",
   "execution_count": 74,
   "id": "528c7e3d",
   "metadata": {
    "execution": {
     "iopub.execute_input": "2023-10-18T18:01:32.653966Z",
     "iopub.status.busy": "2023-10-18T18:01:32.653636Z",
     "iopub.status.idle": "2023-10-18T18:01:32.658782Z",
     "shell.execute_reply": "2023-10-18T18:01:32.657795Z"
    },
    "papermill": {
     "duration": 0.031151,
     "end_time": "2023-10-18T18:01:32.660759",
     "exception": false,
     "start_time": "2023-10-18T18:01:32.629608",
     "status": "completed"
    },
    "tags": []
   },
   "outputs": [
    {
     "data": {
      "text/plain": [
       "list"
      ]
     },
     "execution_count": 74,
     "metadata": {},
     "output_type": "execute_result"
    }
   ],
   "source": [
    "a = [10,20,30]\n",
    "type(a)"
   ]
  },
  {
   "cell_type": "code",
   "execution_count": 75,
   "id": "0b2509f5",
   "metadata": {
    "execution": {
     "iopub.execute_input": "2023-10-18T18:01:32.710255Z",
     "iopub.status.busy": "2023-10-18T18:01:32.709885Z",
     "iopub.status.idle": "2023-10-18T18:01:32.715313Z",
     "shell.execute_reply": "2023-10-18T18:01:32.714684Z"
    },
    "papermill": {
     "duration": 0.032672,
     "end_time": "2023-10-18T18:01:32.716894",
     "exception": false,
     "start_time": "2023-10-18T18:01:32.684222",
     "status": "completed"
    },
    "tags": []
   },
   "outputs": [
    {
     "data": {
      "text/plain": [
       "(10, 20, 30)"
      ]
     },
     "execution_count": 75,
     "metadata": {},
     "output_type": "execute_result"
    }
   ],
   "source": [
    "b = tuple(a)\n",
    "b"
   ]
  },
  {
   "cell_type": "code",
   "execution_count": 76,
   "id": "6a149f4f",
   "metadata": {
    "execution": {
     "iopub.execute_input": "2023-10-18T18:01:32.764604Z",
     "iopub.status.busy": "2023-10-18T18:01:32.764225Z",
     "iopub.status.idle": "2023-10-18T18:01:32.770573Z",
     "shell.execute_reply": "2023-10-18T18:01:32.769545Z"
    },
    "papermill": {
     "duration": 0.032374,
     "end_time": "2023-10-18T18:01:32.772448",
     "exception": false,
     "start_time": "2023-10-18T18:01:32.740074",
     "status": "completed"
    },
    "tags": []
   },
   "outputs": [
    {
     "data": {
      "text/plain": [
       "tuple"
      ]
     },
     "execution_count": 76,
     "metadata": {},
     "output_type": "execute_result"
    }
   ],
   "source": [
    "type(b)"
   ]
  },
  {
   "cell_type": "code",
   "execution_count": 77,
   "id": "109db300",
   "metadata": {
    "execution": {
     "iopub.execute_input": "2023-10-18T18:01:32.820750Z",
     "iopub.status.busy": "2023-10-18T18:01:32.820405Z",
     "iopub.status.idle": "2023-10-18T18:01:32.824729Z",
     "shell.execute_reply": "2023-10-18T18:01:32.823765Z"
    },
    "papermill": {
     "duration": 0.030314,
     "end_time": "2023-10-18T18:01:32.826637",
     "exception": false,
     "start_time": "2023-10-18T18:01:32.796323",
     "status": "completed"
    },
    "tags": []
   },
   "outputs": [],
   "source": [
    "gg = (\"sush@gmail.com\",2564856855)\n",
    "# gg[0] = \"sush@outlook.com\""
   ]
  },
  {
   "cell_type": "code",
   "execution_count": 78,
   "id": "80f650e0",
   "metadata": {
    "execution": {
     "iopub.execute_input": "2023-10-18T18:01:32.874151Z",
     "iopub.status.busy": "2023-10-18T18:01:32.873796Z",
     "iopub.status.idle": "2023-10-18T18:01:32.879959Z",
     "shell.execute_reply": "2023-10-18T18:01:32.878998Z"
    },
    "papermill": {
     "duration": 0.032359,
     "end_time": "2023-10-18T18:01:32.881930",
     "exception": false,
     "start_time": "2023-10-18T18:01:32.849571",
     "status": "completed"
    },
    "tags": []
   },
   "outputs": [
    {
     "data": {
      "text/plain": [
       "['sush@gmail.com', 2564856855]"
      ]
     },
     "execution_count": 78,
     "metadata": {},
     "output_type": "execute_result"
    }
   ],
   "source": [
    "gg = list(gg)\n",
    "gg"
   ]
  },
  {
   "cell_type": "code",
   "execution_count": 79,
   "id": "b32d7702",
   "metadata": {
    "execution": {
     "iopub.execute_input": "2023-10-18T18:01:32.930910Z",
     "iopub.status.busy": "2023-10-18T18:01:32.930509Z",
     "iopub.status.idle": "2023-10-18T18:01:32.937422Z",
     "shell.execute_reply": "2023-10-18T18:01:32.936352Z"
    },
    "papermill": {
     "duration": 0.033189,
     "end_time": "2023-10-18T18:01:32.939496",
     "exception": false,
     "start_time": "2023-10-18T18:01:32.906307",
     "status": "completed"
    },
    "tags": []
   },
   "outputs": [
    {
     "data": {
      "text/plain": [
       "list"
      ]
     },
     "execution_count": 79,
     "metadata": {},
     "output_type": "execute_result"
    }
   ],
   "source": [
    "type(gg)"
   ]
  },
  {
   "cell_type": "code",
   "execution_count": 80,
   "id": "03c04d6b",
   "metadata": {
    "execution": {
     "iopub.execute_input": "2023-10-18T18:01:32.987663Z",
     "iopub.status.busy": "2023-10-18T18:01:32.987286Z",
     "iopub.status.idle": "2023-10-18T18:01:32.993461Z",
     "shell.execute_reply": "2023-10-18T18:01:32.992409Z"
    },
    "papermill": {
     "duration": 0.03244,
     "end_time": "2023-10-18T18:01:32.995502",
     "exception": false,
     "start_time": "2023-10-18T18:01:32.963062",
     "status": "completed"
    },
    "tags": []
   },
   "outputs": [
    {
     "data": {
      "text/plain": [
       "['sush@outlook.com', 2564856855]"
      ]
     },
     "execution_count": 80,
     "metadata": {},
     "output_type": "execute_result"
    }
   ],
   "source": [
    "gg[0] = \"sush@outlook.com\"\n",
    "gg"
   ]
  },
  {
   "cell_type": "code",
   "execution_count": 81,
   "id": "fd8add44",
   "metadata": {
    "execution": {
     "iopub.execute_input": "2023-10-18T18:01:33.043827Z",
     "iopub.status.busy": "2023-10-18T18:01:33.043345Z",
     "iopub.status.idle": "2023-10-18T18:01:33.049899Z",
     "shell.execute_reply": "2023-10-18T18:01:33.048852Z"
    },
    "papermill": {
     "duration": 0.032896,
     "end_time": "2023-10-18T18:01:33.051914",
     "exception": false,
     "start_time": "2023-10-18T18:01:33.019018",
     "status": "completed"
    },
    "tags": []
   },
   "outputs": [
    {
     "data": {
      "text/plain": [
       "('sush@outlook.com', 2564856855)"
      ]
     },
     "execution_count": 81,
     "metadata": {},
     "output_type": "execute_result"
    }
   ],
   "source": [
    "gg = tuple(gg)\n",
    "gg"
   ]
  },
  {
   "cell_type": "code",
   "execution_count": 82,
   "id": "2a56a4dc",
   "metadata": {
    "execution": {
     "iopub.execute_input": "2023-10-18T18:01:33.101288Z",
     "iopub.status.busy": "2023-10-18T18:01:33.100956Z",
     "iopub.status.idle": "2023-10-18T18:01:33.107185Z",
     "shell.execute_reply": "2023-10-18T18:01:33.106302Z"
    },
    "papermill": {
     "duration": 0.032723,
     "end_time": "2023-10-18T18:01:33.109156",
     "exception": false,
     "start_time": "2023-10-18T18:01:33.076433",
     "status": "completed"
    },
    "tags": []
   },
   "outputs": [
    {
     "data": {
      "text/plain": [
       "('sush@outlook.com', 2564856855)"
      ]
     },
     "execution_count": 82,
     "metadata": {},
     "output_type": "execute_result"
    }
   ],
   "source": [
    "gg = (\"sush@gmail.com\",2564856855)\n",
    "gg = list(gg)\n",
    "gg[0] = \"sush@outlook.com\"\n",
    "gg = tuple(gg)\n",
    "gg"
   ]
  },
  {
   "cell_type": "code",
   "execution_count": 83,
   "id": "05616dcf",
   "metadata": {
    "execution": {
     "iopub.execute_input": "2023-10-18T18:01:33.159559Z",
     "iopub.status.busy": "2023-10-18T18:01:33.159175Z",
     "iopub.status.idle": "2023-10-18T18:01:33.165688Z",
     "shell.execute_reply": "2023-10-18T18:01:33.164724Z"
    },
    "papermill": {
     "duration": 0.034072,
     "end_time": "2023-10-18T18:01:33.167371",
     "exception": false,
     "start_time": "2023-10-18T18:01:33.133299",
     "status": "completed"
    },
    "tags": []
   },
   "outputs": [
    {
     "data": {
      "text/plain": [
       "[10, 20, 30]"
      ]
     },
     "execution_count": 83,
     "metadata": {},
     "output_type": "execute_result"
    }
   ],
   "source": [
    "a = [10,20,30,10]\n",
    "a = list(set(a))\n",
    "a"
   ]
  },
  {
   "cell_type": "code",
   "execution_count": 84,
   "id": "abb9528c",
   "metadata": {
    "execution": {
     "iopub.execute_input": "2023-10-18T18:01:33.216300Z",
     "iopub.status.busy": "2023-10-18T18:01:33.215968Z",
     "iopub.status.idle": "2023-10-18T18:01:33.221972Z",
     "shell.execute_reply": "2023-10-18T18:01:33.220962Z"
    },
    "papermill": {
     "duration": 0.032773,
     "end_time": "2023-10-18T18:01:33.223928",
     "exception": false,
     "start_time": "2023-10-18T18:01:33.191155",
     "status": "completed"
    },
    "tags": []
   },
   "outputs": [
    {
     "data": {
      "text/plain": [
       "[10, 20, 30]"
      ]
     },
     "execution_count": 84,
     "metadata": {},
     "output_type": "execute_result"
    }
   ],
   "source": [
    "a = list(set(a))\n",
    "a"
   ]
  },
  {
   "cell_type": "code",
   "execution_count": 85,
   "id": "27f6bf82",
   "metadata": {
    "execution": {
     "iopub.execute_input": "2023-10-18T18:01:33.276117Z",
     "iopub.status.busy": "2023-10-18T18:01:33.275785Z",
     "iopub.status.idle": "2023-10-18T18:01:33.281269Z",
     "shell.execute_reply": "2023-10-18T18:01:33.280442Z"
    },
    "papermill": {
     "duration": 0.033262,
     "end_time": "2023-10-18T18:01:33.283126",
     "exception": false,
     "start_time": "2023-10-18T18:01:33.249864",
     "status": "completed"
    },
    "tags": []
   },
   "outputs": [
    {
     "data": {
      "text/plain": [
       "{10, 20, 30}"
      ]
     },
     "execution_count": 85,
     "metadata": {},
     "output_type": "execute_result"
    }
   ],
   "source": [
    "c = { 10,20,30,30}\n",
    "c \n",
    "\n"
   ]
  },
  {
   "cell_type": "code",
   "execution_count": 86,
   "id": "9f91e6a1",
   "metadata": {
    "execution": {
     "iopub.execute_input": "2023-10-18T18:01:33.333074Z",
     "iopub.status.busy": "2023-10-18T18:01:33.332706Z",
     "iopub.status.idle": "2023-10-18T18:01:33.338081Z",
     "shell.execute_reply": "2023-10-18T18:01:33.336835Z"
    },
    "papermill": {
     "duration": 0.032565,
     "end_time": "2023-10-18T18:01:33.340157",
     "exception": false,
     "start_time": "2023-10-18T18:01:33.307592",
     "status": "completed"
    },
    "tags": []
   },
   "outputs": [
    {
     "name": "stdout",
     "output_type": "stream",
     "text": [
      "3\n"
     ]
    }
   ],
   "source": [
    "thislist = [\"apple\", \"banana\", \"cherry\"]\n",
    "print(len(thislist))"
   ]
  },
  {
   "cell_type": "code",
   "execution_count": 87,
   "id": "5d8df865",
   "metadata": {
    "execution": {
     "iopub.execute_input": "2023-10-18T18:01:33.393593Z",
     "iopub.status.busy": "2023-10-18T18:01:33.392455Z",
     "iopub.status.idle": "2023-10-18T18:01:33.398569Z",
     "shell.execute_reply": "2023-10-18T18:01:33.397572Z"
    },
    "papermill": {
     "duration": 0.034656,
     "end_time": "2023-10-18T18:01:33.400463",
     "exception": false,
     "start_time": "2023-10-18T18:01:33.365807",
     "status": "completed"
    },
    "tags": []
   },
   "outputs": [
    {
     "name": "stdout",
     "output_type": "stream",
     "text": [
      "['apple', 'banana', 'cherry']\n"
     ]
    }
   ],
   "source": [
    "thislist = list((\"apple\", \"banana\", \"cherry\")) # note the double round-brackets\n",
    "print(thislist)"
   ]
  },
  {
   "cell_type": "code",
   "execution_count": 88,
   "id": "ed287a43",
   "metadata": {
    "execution": {
     "iopub.execute_input": "2023-10-18T18:01:33.450233Z",
     "iopub.status.busy": "2023-10-18T18:01:33.449897Z",
     "iopub.status.idle": "2023-10-18T18:01:33.455351Z",
     "shell.execute_reply": "2023-10-18T18:01:33.454372Z"
    },
    "papermill": {
     "duration": 0.033193,
     "end_time": "2023-10-18T18:01:33.457592",
     "exception": false,
     "start_time": "2023-10-18T18:01:33.424399",
     "status": "completed"
    },
    "tags": []
   },
   "outputs": [
    {
     "name": "stdout",
     "output_type": "stream",
     "text": [
      "['apple', 'banana', 'cherry', 'orange', 'kiwi', 'melon', 'mango']\n"
     ]
    }
   ],
   "source": [
    "thislist = [\"apple\", \"banana\", \"cherry\", \"orange\", \"kiwi\", \"melon\", \"mango\"]\n",
    "print(thislist[:])"
   ]
  },
  {
   "cell_type": "code",
   "execution_count": 89,
   "id": "66b2bd99",
   "metadata": {
    "execution": {
     "iopub.execute_input": "2023-10-18T18:01:33.507708Z",
     "iopub.status.busy": "2023-10-18T18:01:33.507012Z",
     "iopub.status.idle": "2023-10-18T18:01:33.513053Z",
     "shell.execute_reply": "2023-10-18T18:01:33.511704Z"
    },
    "papermill": {
     "duration": 0.033598,
     "end_time": "2023-10-18T18:01:33.515106",
     "exception": false,
     "start_time": "2023-10-18T18:01:33.481508",
     "status": "completed"
    },
    "tags": []
   },
   "outputs": [
    {
     "name": "stdout",
     "output_type": "stream",
     "text": [
      "['orange', 'kiwi', 'melon']\n"
     ]
    }
   ],
   "source": [
    "thislist = [\"apple\", \"banana\", \"cherry\", \"orange\", \"kiwi\", \"melon\", \"mango\"]\n",
    "print(thislist[-4:-1])"
   ]
  },
  {
   "cell_type": "code",
   "execution_count": 90,
   "id": "aa5816e8",
   "metadata": {
    "execution": {
     "iopub.execute_input": "2023-10-18T18:01:33.566344Z",
     "iopub.status.busy": "2023-10-18T18:01:33.565655Z",
     "iopub.status.idle": "2023-10-18T18:01:33.571478Z",
     "shell.execute_reply": "2023-10-18T18:01:33.570374Z"
    },
    "papermill": {
     "duration": 0.033302,
     "end_time": "2023-10-18T18:01:33.573395",
     "exception": false,
     "start_time": "2023-10-18T18:01:33.540093",
     "status": "completed"
    },
    "tags": []
   },
   "outputs": [
    {
     "name": "stdout",
     "output_type": "stream",
     "text": [
      "['apple', 'blackcurrant', 'cherry']\n"
     ]
    }
   ],
   "source": [
    "thislist = [\"apple\", \"banana\", \"cherry\"]\n",
    "thislist[1] = \"blackcurrant\"\n",
    "print(thislist)"
   ]
  },
  {
   "cell_type": "code",
   "execution_count": 91,
   "id": "98669381",
   "metadata": {
    "execution": {
     "iopub.execute_input": "2023-10-18T18:01:33.623639Z",
     "iopub.status.busy": "2023-10-18T18:01:33.622951Z",
     "iopub.status.idle": "2023-10-18T18:01:33.629771Z",
     "shell.execute_reply": "2023-10-18T18:01:33.628961Z"
    },
    "papermill": {
     "duration": 0.034011,
     "end_time": "2023-10-18T18:01:33.631666",
     "exception": false,
     "start_time": "2023-10-18T18:01:33.597655",
     "status": "completed"
    },
    "tags": []
   },
   "outputs": [
    {
     "data": {
      "text/plain": [
       "['apple', 'banana', 'cherry', 'orange']"
      ]
     },
     "execution_count": 91,
     "metadata": {},
     "output_type": "execute_result"
    }
   ],
   "source": [
    "fruits = ['apple', 'banana', 'cherry']\n",
    "fruits.append(\"orange\")\n",
    "fruits"
   ]
  },
  {
   "cell_type": "code",
   "execution_count": 92,
   "id": "2fae0674",
   "metadata": {
    "execution": {
     "iopub.execute_input": "2023-10-18T18:01:33.682758Z",
     "iopub.status.busy": "2023-10-18T18:01:33.682205Z",
     "iopub.status.idle": "2023-10-18T18:01:33.687267Z",
     "shell.execute_reply": "2023-10-18T18:01:33.686310Z"
    },
    "papermill": {
     "duration": 0.033265,
     "end_time": "2023-10-18T18:01:33.689164",
     "exception": false,
     "start_time": "2023-10-18T18:01:33.655899",
     "status": "completed"
    },
    "tags": []
   },
   "outputs": [],
   "source": [
    "fruits = ['apple', 'banana', 'cherry', 'orange']\n",
    "\n",
    "fruits.clear()"
   ]
  },
  {
   "cell_type": "code",
   "execution_count": 93,
   "id": "b73b1821",
   "metadata": {
    "execution": {
     "iopub.execute_input": "2023-10-18T18:01:33.740726Z",
     "iopub.status.busy": "2023-10-18T18:01:33.740326Z",
     "iopub.status.idle": "2023-10-18T18:01:33.746076Z",
     "shell.execute_reply": "2023-10-18T18:01:33.745197Z"
    },
    "papermill": {
     "duration": 0.033337,
     "end_time": "2023-10-18T18:01:33.747904",
     "exception": false,
     "start_time": "2023-10-18T18:01:33.714567",
     "status": "completed"
    },
    "tags": []
   },
   "outputs": [
    {
     "data": {
      "text/plain": [
       "[]"
      ]
     },
     "execution_count": 93,
     "metadata": {},
     "output_type": "execute_result"
    }
   ],
   "source": [
    "fruits "
   ]
  },
  {
   "cell_type": "code",
   "execution_count": 94,
   "id": "3a19d27f",
   "metadata": {
    "execution": {
     "iopub.execute_input": "2023-10-18T18:01:33.798821Z",
     "iopub.status.busy": "2023-10-18T18:01:33.798386Z",
     "iopub.status.idle": "2023-10-18T18:01:33.804785Z",
     "shell.execute_reply": "2023-10-18T18:01:33.803721Z"
    },
    "papermill": {
     "duration": 0.034399,
     "end_time": "2023-10-18T18:01:33.806758",
     "exception": false,
     "start_time": "2023-10-18T18:01:33.772359",
     "status": "completed"
    },
    "tags": []
   },
   "outputs": [
    {
     "data": {
      "text/plain": [
       "2"
      ]
     },
     "execution_count": 94,
     "metadata": {},
     "output_type": "execute_result"
    }
   ],
   "source": [
    "tay = ['sush', 'sush', 'cherry']\n",
    "\n",
    "tay.count(\"sush\")"
   ]
  },
  {
   "cell_type": "code",
   "execution_count": 95,
   "id": "d4b8b6c5",
   "metadata": {
    "execution": {
     "iopub.execute_input": "2023-10-18T18:01:33.857544Z",
     "iopub.status.busy": "2023-10-18T18:01:33.856869Z",
     "iopub.status.idle": "2023-10-18T18:01:33.862846Z",
     "shell.execute_reply": "2023-10-18T18:01:33.861653Z"
    },
    "papermill": {
     "duration": 0.033499,
     "end_time": "2023-10-18T18:01:33.864654",
     "exception": false,
     "start_time": "2023-10-18T18:01:33.831155",
     "status": "completed"
    },
    "tags": []
   },
   "outputs": [
    {
     "data": {
      "text/plain": [
       "1"
      ]
     },
     "execution_count": 95,
     "metadata": {},
     "output_type": "execute_result"
    }
   ],
   "source": [
    "fruits = ['apple', 'banana', 'cherry']\n",
    "\n",
    "points = (1, 4, 5, 9)\n",
    "\n",
    "fruits.extend(points)\n",
    "fruits[3]"
   ]
  },
  {
   "cell_type": "code",
   "execution_count": 96,
   "id": "865faee8",
   "metadata": {
    "execution": {
     "iopub.execute_input": "2023-10-18T18:01:33.915801Z",
     "iopub.status.busy": "2023-10-18T18:01:33.915130Z",
     "iopub.status.idle": "2023-10-18T18:01:33.922033Z",
     "shell.execute_reply": "2023-10-18T18:01:33.921173Z"
    },
    "papermill": {
     "duration": 0.034261,
     "end_time": "2023-10-18T18:01:33.923889",
     "exception": false,
     "start_time": "2023-10-18T18:01:33.889628",
     "status": "completed"
    },
    "tags": []
   },
   "outputs": [
    {
     "data": {
      "text/plain": [
       "['apple', 'banana', 'cherry', (1, 4, 5, 9)]"
      ]
     },
     "execution_count": 96,
     "metadata": {},
     "output_type": "execute_result"
    }
   ],
   "source": [
    "fruits = ['apple', 'banana', 'cherry']\n",
    "\n",
    "points = (1, 4, 5, 9)\n",
    "\n",
    "fruits.append(points)\n",
    "fruits"
   ]
  },
  {
   "cell_type": "code",
   "execution_count": 97,
   "id": "075b6b7e",
   "metadata": {
    "execution": {
     "iopub.execute_input": "2023-10-18T18:01:33.975754Z",
     "iopub.status.busy": "2023-10-18T18:01:33.975195Z",
     "iopub.status.idle": "2023-10-18T18:01:33.980487Z",
     "shell.execute_reply": "2023-10-18T18:01:33.979883Z"
    },
    "papermill": {
     "duration": 0.033266,
     "end_time": "2023-10-18T18:01:33.982163",
     "exception": false,
     "start_time": "2023-10-18T18:01:33.948897",
     "status": "completed"
    },
    "tags": []
   },
   "outputs": [
    {
     "data": {
      "text/plain": [
       "(1, 4, 5, 9)"
      ]
     },
     "execution_count": 97,
     "metadata": {},
     "output_type": "execute_result"
    }
   ],
   "source": [
    "fruits[3]"
   ]
  },
  {
   "cell_type": "code",
   "execution_count": 98,
   "id": "4badf01e",
   "metadata": {
    "execution": {
     "iopub.execute_input": "2023-10-18T18:01:34.034063Z",
     "iopub.status.busy": "2023-10-18T18:01:34.032955Z",
     "iopub.status.idle": "2023-10-18T18:01:34.039343Z",
     "shell.execute_reply": "2023-10-18T18:01:34.038217Z"
    },
    "papermill": {
     "duration": 0.034582,
     "end_time": "2023-10-18T18:01:34.041350",
     "exception": false,
     "start_time": "2023-10-18T18:01:34.006768",
     "status": "completed"
    },
    "tags": []
   },
   "outputs": [
    {
     "data": {
      "text/plain": [
       "0"
      ]
     },
     "execution_count": 98,
     "metadata": {},
     "output_type": "execute_result"
    }
   ],
   "source": [
    "fruits = ['c001asha', 'coo2swapna', 'c001asha']\n",
    "\n",
    "fruits.index(\"c001asha\")"
   ]
  },
  {
   "cell_type": "code",
   "execution_count": 99,
   "id": "0c320db5",
   "metadata": {
    "execution": {
     "iopub.execute_input": "2023-10-18T18:01:34.094129Z",
     "iopub.status.busy": "2023-10-18T18:01:34.093758Z",
     "iopub.status.idle": "2023-10-18T18:01:34.100889Z",
     "shell.execute_reply": "2023-10-18T18:01:34.099785Z"
    },
    "papermill": {
     "duration": 0.035252,
     "end_time": "2023-10-18T18:01:34.102698",
     "exception": false,
     "start_time": "2023-10-18T18:01:34.067446",
     "status": "completed"
    },
    "tags": []
   },
   "outputs": [
    {
     "data": {
      "text/plain": [
       "['apple', 'banana', 'orange', 'cherry']"
      ]
     },
     "execution_count": 99,
     "metadata": {},
     "output_type": "execute_result"
    }
   ],
   "source": [
    "fruits = ['apple', 'banana', 'cherry']\n",
    "\n",
    "fruits.insert(2, \"orange\")\n",
    "fruits"
   ]
  },
  {
   "cell_type": "code",
   "execution_count": 100,
   "id": "86c48e8c",
   "metadata": {
    "execution": {
     "iopub.execute_input": "2023-10-18T18:01:34.157252Z",
     "iopub.status.busy": "2023-10-18T18:01:34.156589Z",
     "iopub.status.idle": "2023-10-18T18:01:34.163674Z",
     "shell.execute_reply": "2023-10-18T18:01:34.162402Z"
    },
    "papermill": {
     "duration": 0.035679,
     "end_time": "2023-10-18T18:01:34.165882",
     "exception": false,
     "start_time": "2023-10-18T18:01:34.130203",
     "status": "completed"
    },
    "tags": []
   },
   "outputs": [
    {
     "data": {
      "text/plain": [
       "'apple'"
      ]
     },
     "execution_count": 100,
     "metadata": {},
     "output_type": "execute_result"
    }
   ],
   "source": [
    "fruits = ['apple', 'banana', 'cherry']\n",
    "a = fruits.pop(0)\n",
    "a"
   ]
  },
  {
   "cell_type": "code",
   "execution_count": 101,
   "id": "d74fd1b8",
   "metadata": {
    "execution": {
     "iopub.execute_input": "2023-10-18T18:01:34.219295Z",
     "iopub.status.busy": "2023-10-18T18:01:34.218787Z",
     "iopub.status.idle": "2023-10-18T18:01:34.224476Z",
     "shell.execute_reply": "2023-10-18T18:01:34.223367Z"
    },
    "papermill": {
     "duration": 0.034851,
     "end_time": "2023-10-18T18:01:34.226577",
     "exception": false,
     "start_time": "2023-10-18T18:01:34.191726",
     "status": "completed"
    },
    "tags": []
   },
   "outputs": [
    {
     "data": {
      "text/plain": [
       "0"
      ]
     },
     "execution_count": 101,
     "metadata": {},
     "output_type": "execute_result"
    }
   ],
   "source": [
    "fruits = ['apple', 'banana', 'cherry']\n",
    "a = fruits.index(\"apple\")\n",
    "a"
   ]
  },
  {
   "cell_type": "code",
   "execution_count": 102,
   "id": "93711f25",
   "metadata": {
    "execution": {
     "iopub.execute_input": "2023-10-18T18:01:34.280542Z",
     "iopub.status.busy": "2023-10-18T18:01:34.280116Z",
     "iopub.status.idle": "2023-10-18T18:01:34.285347Z",
     "shell.execute_reply": "2023-10-18T18:01:34.284626Z"
    },
    "papermill": {
     "duration": 0.033731,
     "end_time": "2023-10-18T18:01:34.287117",
     "exception": false,
     "start_time": "2023-10-18T18:01:34.253386",
     "status": "completed"
    },
    "tags": []
   },
   "outputs": [
    {
     "data": {
      "text/plain": [
       "['apple', 'banana', 'banana']"
      ]
     },
     "execution_count": 102,
     "metadata": {},
     "output_type": "execute_result"
    }
   ],
   "source": [
    "fruits = ['banana', \"apple\",'banana', 'banana']\n",
    "\n",
    "fruits.remove(\"banana\")\n",
    "fruits \n",
    "\n",
    "# ctr a\n",
    "#  ctr /"
   ]
  },
  {
   "cell_type": "code",
   "execution_count": 103,
   "id": "6531e46c",
   "metadata": {
    "execution": {
     "iopub.execute_input": "2023-10-18T18:01:34.339213Z",
     "iopub.status.busy": "2023-10-18T18:01:34.338690Z",
     "iopub.status.idle": "2023-10-18T18:01:34.343632Z",
     "shell.execute_reply": "2023-10-18T18:01:34.342887Z"
    },
    "papermill": {
     "duration": 0.033168,
     "end_time": "2023-10-18T18:01:34.345276",
     "exception": false,
     "start_time": "2023-10-18T18:01:34.312108",
     "status": "completed"
    },
    "tags": []
   },
   "outputs": [
    {
     "data": {
      "text/plain": [
       "['cherry', 'banana', 'apple']"
      ]
     },
     "execution_count": 103,
     "metadata": {},
     "output_type": "execute_result"
    }
   ],
   "source": [
    "fruits = ['apple', 'banana', 'cherry']\n",
    "\n",
    "fruits.reverse()\n",
    "fruits"
   ]
  },
  {
   "cell_type": "code",
   "execution_count": 104,
   "id": "d9300bf6",
   "metadata": {
    "execution": {
     "iopub.execute_input": "2023-10-18T18:01:34.398194Z",
     "iopub.status.busy": "2023-10-18T18:01:34.397665Z",
     "iopub.status.idle": "2023-10-18T18:01:34.403068Z",
     "shell.execute_reply": "2023-10-18T18:01:34.402333Z"
    },
    "papermill": {
     "duration": 0.034213,
     "end_time": "2023-10-18T18:01:34.404879",
     "exception": false,
     "start_time": "2023-10-18T18:01:34.370666",
     "status": "completed"
    },
    "tags": []
   },
   "outputs": [
    {
     "data": {
      "text/plain": [
       "[20, 11, 9, 30]"
      ]
     },
     "execution_count": 104,
     "metadata": {},
     "output_type": "execute_result"
    }
   ],
   "source": [
    "a= [20,11,9,30]\n",
    "a"
   ]
  },
  {
   "cell_type": "code",
   "execution_count": 105,
   "id": "607fed4e",
   "metadata": {
    "execution": {
     "iopub.execute_input": "2023-10-18T18:01:34.457640Z",
     "iopub.status.busy": "2023-10-18T18:01:34.457291Z",
     "iopub.status.idle": "2023-10-18T18:01:34.463709Z",
     "shell.execute_reply": "2023-10-18T18:01:34.462345Z"
    },
    "papermill": {
     "duration": 0.035431,
     "end_time": "2023-10-18T18:01:34.465880",
     "exception": false,
     "start_time": "2023-10-18T18:01:34.430449",
     "status": "completed"
    },
    "tags": []
   },
   "outputs": [
    {
     "data": {
      "text/plain": [
       "[30, 20, 11, 9]"
      ]
     },
     "execution_count": 105,
     "metadata": {},
     "output_type": "execute_result"
    }
   ],
   "source": [
    "a.sort(reverse = True)\n",
    "a"
   ]
  },
  {
   "cell_type": "code",
   "execution_count": null,
   "id": "78e68e04",
   "metadata": {
    "papermill": {
     "duration": 0.025253,
     "end_time": "2023-10-18T18:01:34.517460",
     "exception": false,
     "start_time": "2023-10-18T18:01:34.492207",
     "status": "completed"
    },
    "tags": []
   },
   "outputs": [],
   "source": []
  },
  {
   "cell_type": "code",
   "execution_count": null,
   "id": "b2344ba2",
   "metadata": {
    "papermill": {
     "duration": 0.025834,
     "end_time": "2023-10-18T18:01:34.569594",
     "exception": false,
     "start_time": "2023-10-18T18:01:34.543760",
     "status": "completed"
    },
    "tags": []
   },
   "outputs": [],
   "source": []
  },
  {
   "cell_type": "code",
   "execution_count": null,
   "id": "85cf7675",
   "metadata": {
    "papermill": {
     "duration": 0.02554,
     "end_time": "2023-10-18T18:01:34.621105",
     "exception": false,
     "start_time": "2023-10-18T18:01:34.595565",
     "status": "completed"
    },
    "tags": []
   },
   "outputs": [],
   "source": []
  }
 ],
 "metadata": {
  "kernelspec": {
   "display_name": "Python 3",
   "language": "python",
   "name": "python3"
  },
  "language_info": {
   "codemirror_mode": {
    "name": "ipython",
    "version": 3
   },
   "file_extension": ".py",
   "mimetype": "text/x-python",
   "name": "python",
   "nbconvert_exporter": "python",
   "pygments_lexer": "ipython3",
   "version": "3.10.12"
  },
  "papermill": {
   "default_parameters": {},
   "duration": 9.639171,
   "end_time": "2023-10-18T18:01:34.965869",
   "environment_variables": {},
   "exception": null,
   "input_path": "__notebook__.ipynb",
   "output_path": "__notebook__.ipynb",
   "parameters": {},
   "start_time": "2023-10-18T18:01:25.326698",
   "version": "2.4.0"
  }
 },
 "nbformat": 4,
 "nbformat_minor": 5
}
