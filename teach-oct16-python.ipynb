{
 "cells": [
  {
   "cell_type": "code",
   "execution_count": 1,
   "id": "a0a4cf50",
   "metadata": {
    "_cell_guid": "b1076dfc-b9ad-4769-8c92-a6c4dae69d19",
    "_uuid": "8f2839f25d086af736a60e9eeb907d3b93b6e0e5",
    "execution": {
     "iopub.execute_input": "2023-10-19T18:15:33.872495Z",
     "iopub.status.busy": "2023-10-19T18:15:33.871994Z",
     "iopub.status.idle": "2023-10-19T18:15:33.882700Z",
     "shell.execute_reply": "2023-10-19T18:15:33.880937Z"
    },
    "papermill": {
     "duration": 0.037758,
     "end_time": "2023-10-19T18:15:33.884821",
     "exception": false,
     "start_time": "2023-10-19T18:15:33.847063",
     "status": "completed"
    },
    "tags": []
   },
   "outputs": [
    {
     "name": "stdout",
     "output_type": "stream",
     "text": [
      "6\n",
      "---\n",
      "6\n"
     ]
    }
   ],
   "source": [
    "a = 6\n",
    "print(a)\n",
    "print(\"---\")\n",
    "# a = \n",
    "print(a)"
   ]
  },
  {
   "cell_type": "code",
   "execution_count": 2,
   "id": "7a4947db",
   "metadata": {
    "execution": {
     "iopub.execute_input": "2023-10-19T18:15:33.929508Z",
     "iopub.status.busy": "2023-10-19T18:15:33.929141Z",
     "iopub.status.idle": "2023-10-19T18:15:33.936787Z",
     "shell.execute_reply": "2023-10-19T18:15:33.935662Z"
    },
    "papermill": {
     "duration": 0.031778,
     "end_time": "2023-10-19T18:15:33.938873",
     "exception": false,
     "start_time": "2023-10-19T18:15:33.907095",
     "status": "completed"
    },
    "tags": []
   },
   "outputs": [
    {
     "data": {
      "text/plain": [
       "6"
      ]
     },
     "execution_count": 2,
     "metadata": {},
     "output_type": "execute_result"
    }
   ],
   "source": [
    "a"
   ]
  },
  {
   "cell_type": "code",
   "execution_count": 3,
   "id": "be5242bc",
   "metadata": {
    "execution": {
     "iopub.execute_input": "2023-10-19T18:15:33.982661Z",
     "iopub.status.busy": "2023-10-19T18:15:33.982208Z",
     "iopub.status.idle": "2023-10-19T18:15:33.986746Z",
     "shell.execute_reply": "2023-10-19T18:15:33.985498Z"
    },
    "papermill": {
     "duration": 0.028982,
     "end_time": "2023-10-19T18:15:33.988752",
     "exception": false,
     "start_time": "2023-10-19T18:15:33.959770",
     "status": "completed"
    },
    "tags": []
   },
   "outputs": [],
   "source": [
    "a = 7"
   ]
  },
  {
   "cell_type": "markdown",
   "id": "654d2aa0",
   "metadata": {
    "papermill": {
     "duration": 0.020988,
     "end_time": "2023-10-19T18:15:34.093144",
     "exception": false,
     "start_time": "2023-10-19T18:15:34.072156",
     "status": "completed"
    },
    "tags": []
   },
   "source": [
    "# data types"
   ]
  },
  {
   "cell_type": "code",
   "execution_count": 4,
   "id": "aa31480d",
   "metadata": {
    "execution": {
     "iopub.execute_input": "2023-10-19T18:15:34.136976Z",
     "iopub.status.busy": "2023-10-19T18:15:34.136631Z",
     "iopub.status.idle": "2023-10-19T18:15:34.141029Z",
     "shell.execute_reply": "2023-10-19T18:15:34.140198Z"
    },
    "papermill": {
     "duration": 0.029294,
     "end_time": "2023-10-19T18:15:34.143422",
     "exception": false,
     "start_time": "2023-10-19T18:15:34.114128",
     "status": "completed"
    },
    "tags": []
   },
   "outputs": [
    {
     "name": "stdout",
     "output_type": "stream",
     "text": [
      "6\n"
     ]
    }
   ],
   "source": [
    "abhi = 6\n",
    "\n",
    "print(abhi)"
   ]
  },
  {
   "cell_type": "code",
   "execution_count": 5,
   "id": "a8fa379e",
   "metadata": {
    "execution": {
     "iopub.execute_input": "2023-10-19T18:15:34.187773Z",
     "iopub.status.busy": "2023-10-19T18:15:34.187424Z",
     "iopub.status.idle": "2023-10-19T18:15:34.192293Z",
     "shell.execute_reply": "2023-10-19T18:15:34.191540Z"
    },
    "papermill": {
     "duration": 0.029829,
     "end_time": "2023-10-19T18:15:34.194586",
     "exception": false,
     "start_time": "2023-10-19T18:15:34.164757",
     "status": "completed"
    },
    "tags": []
   },
   "outputs": [
    {
     "data": {
      "text/plain": [
       "int"
      ]
     },
     "execution_count": 5,
     "metadata": {},
     "output_type": "execute_result"
    }
   ],
   "source": [
    "type(abhi)"
   ]
  },
  {
   "cell_type": "code",
   "execution_count": 6,
   "id": "cdfacee7",
   "metadata": {
    "execution": {
     "iopub.execute_input": "2023-10-19T18:15:34.241293Z",
     "iopub.status.busy": "2023-10-19T18:15:34.240917Z",
     "iopub.status.idle": "2023-10-19T18:15:34.247605Z",
     "shell.execute_reply": "2023-10-19T18:15:34.246160Z"
    },
    "papermill": {
     "duration": 0.033432,
     "end_time": "2023-10-19T18:15:34.249947",
     "exception": false,
     "start_time": "2023-10-19T18:15:34.216515",
     "status": "completed"
    },
    "tags": []
   },
   "outputs": [
    {
     "data": {
      "text/plain": [
       "float"
      ]
     },
     "execution_count": 6,
     "metadata": {},
     "output_type": "execute_result"
    }
   ],
   "source": [
    "swa = 6.5\n",
    "type(swa)"
   ]
  },
  {
   "cell_type": "code",
   "execution_count": 7,
   "id": "488c1be4",
   "metadata": {
    "execution": {
     "iopub.execute_input": "2023-10-19T18:15:34.296764Z",
     "iopub.status.busy": "2023-10-19T18:15:34.296333Z",
     "iopub.status.idle": "2023-10-19T18:15:34.303120Z",
     "shell.execute_reply": "2023-10-19T18:15:34.302097Z"
    },
    "papermill": {
     "duration": 0.032177,
     "end_time": "2023-10-19T18:15:34.305412",
     "exception": false,
     "start_time": "2023-10-19T18:15:34.273235",
     "status": "completed"
    },
    "tags": []
   },
   "outputs": [
    {
     "data": {
      "text/plain": [
       "complex"
      ]
     },
     "execution_count": 7,
     "metadata": {},
     "output_type": "execute_result"
    }
   ],
   "source": [
    "pra = 3 + 2j\n",
    "\n",
    "type(pra)"
   ]
  },
  {
   "cell_type": "code",
   "execution_count": 8,
   "id": "c36f99cb",
   "metadata": {
    "execution": {
     "iopub.execute_input": "2023-10-19T18:15:34.353203Z",
     "iopub.status.busy": "2023-10-19T18:15:34.352858Z",
     "iopub.status.idle": "2023-10-19T18:15:34.360183Z",
     "shell.execute_reply": "2023-10-19T18:15:34.359005Z"
    },
    "papermill": {
     "duration": 0.03296,
     "end_time": "2023-10-19T18:15:34.362620",
     "exception": false,
     "start_time": "2023-10-19T18:15:34.329660",
     "status": "completed"
    },
    "tags": []
   },
   "outputs": [
    {
     "data": {
      "text/plain": [
       "str"
      ]
     },
     "execution_count": 8,
     "metadata": {},
     "output_type": "execute_result"
    }
   ],
   "source": [
    "x = \"sush\"\n",
    "type(x)"
   ]
  },
  {
   "cell_type": "code",
   "execution_count": 9,
   "id": "36554257",
   "metadata": {
    "execution": {
     "iopub.execute_input": "2023-10-19T18:15:34.410126Z",
     "iopub.status.busy": "2023-10-19T18:15:34.408755Z",
     "iopub.status.idle": "2023-10-19T18:15:34.418030Z",
     "shell.execute_reply": "2023-10-19T18:15:34.416638Z"
    },
    "papermill": {
     "duration": 0.035373,
     "end_time": "2023-10-19T18:15:34.420372",
     "exception": false,
     "start_time": "2023-10-19T18:15:34.384999",
     "status": "completed"
    },
    "tags": []
   },
   "outputs": [
    {
     "data": {
      "text/plain": [
       "int"
      ]
     },
     "execution_count": 9,
     "metadata": {},
     "output_type": "execute_result"
    }
   ],
   "source": [
    "z = 44 - 5 - 14\n",
    "z\n",
    "type(z)"
   ]
  },
  {
   "cell_type": "code",
   "execution_count": 10,
   "id": "b77572c0",
   "metadata": {
    "execution": {
     "iopub.execute_input": "2023-10-19T18:15:34.468242Z",
     "iopub.status.busy": "2023-10-19T18:15:34.467866Z",
     "iopub.status.idle": "2023-10-19T18:15:34.474756Z",
     "shell.execute_reply": "2023-10-19T18:15:34.473512Z"
    },
    "papermill": {
     "duration": 0.033441,
     "end_time": "2023-10-19T18:15:34.476987",
     "exception": false,
     "start_time": "2023-10-19T18:15:34.443546",
     "status": "completed"
    },
    "tags": []
   },
   "outputs": [
    {
     "data": {
      "text/plain": [
       "'44-5-14'"
      ]
     },
     "execution_count": 10,
     "metadata": {},
     "output_type": "execute_result"
    }
   ],
   "source": [
    "y = \"44-5-14\"\n",
    "y"
   ]
  },
  {
   "cell_type": "code",
   "execution_count": 11,
   "id": "f573e78d",
   "metadata": {
    "execution": {
     "iopub.execute_input": "2023-10-19T18:15:34.522404Z",
     "iopub.status.busy": "2023-10-19T18:15:34.522074Z",
     "iopub.status.idle": "2023-10-19T18:15:34.527885Z",
     "shell.execute_reply": "2023-10-19T18:15:34.526887Z"
    },
    "papermill": {
     "duration": 0.031172,
     "end_time": "2023-10-19T18:15:34.530023",
     "exception": false,
     "start_time": "2023-10-19T18:15:34.498851",
     "status": "completed"
    },
    "tags": []
   },
   "outputs": [
    {
     "data": {
      "text/plain": [
       "str"
      ]
     },
     "execution_count": 11,
     "metadata": {},
     "output_type": "execute_result"
    }
   ],
   "source": [
    "type(y)"
   ]
  },
  {
   "cell_type": "markdown",
   "id": "1ad4e802",
   "metadata": {
    "papermill": {
     "duration": 0.022849,
     "end_time": "2023-10-19T18:15:34.575922",
     "exception": false,
     "start_time": "2023-10-19T18:15:34.553073",
     "status": "completed"
    },
    "tags": []
   },
   "source": [
    "# type casting"
   ]
  },
  {
   "cell_type": "code",
   "execution_count": 12,
   "id": "b2e8faf4",
   "metadata": {
    "execution": {
     "iopub.execute_input": "2023-10-19T18:15:34.622278Z",
     "iopub.status.busy": "2023-10-19T18:15:34.621379Z",
     "iopub.status.idle": "2023-10-19T18:15:34.628032Z",
     "shell.execute_reply": "2023-10-19T18:15:34.626982Z"
    },
    "papermill": {
     "duration": 0.032156,
     "end_time": "2023-10-19T18:15:34.630198",
     "exception": false,
     "start_time": "2023-10-19T18:15:34.598042",
     "status": "completed"
    },
    "tags": []
   },
   "outputs": [
    {
     "data": {
      "text/plain": [
       "float"
      ]
     },
     "execution_count": 12,
     "metadata": {},
     "output_type": "execute_result"
    }
   ],
   "source": [
    "a = 6.5\n",
    "type(a)"
   ]
  },
  {
   "cell_type": "code",
   "execution_count": 13,
   "id": "dcac857e",
   "metadata": {
    "execution": {
     "iopub.execute_input": "2023-10-19T18:15:34.679106Z",
     "iopub.status.busy": "2023-10-19T18:15:34.678608Z",
     "iopub.status.idle": "2023-10-19T18:15:34.685524Z",
     "shell.execute_reply": "2023-10-19T18:15:34.684474Z"
    },
    "papermill": {
     "duration": 0.034341,
     "end_time": "2023-10-19T18:15:34.687817",
     "exception": false,
     "start_time": "2023-10-19T18:15:34.653476",
     "status": "completed"
    },
    "tags": []
   },
   "outputs": [
    {
     "data": {
      "text/plain": [
       "6"
      ]
     },
     "execution_count": 13,
     "metadata": {},
     "output_type": "execute_result"
    }
   ],
   "source": [
    "b = int(a)\n",
    "b"
   ]
  },
  {
   "cell_type": "code",
   "execution_count": 14,
   "id": "6b3871f9",
   "metadata": {
    "execution": {
     "iopub.execute_input": "2023-10-19T18:15:34.735512Z",
     "iopub.status.busy": "2023-10-19T18:15:34.735066Z",
     "iopub.status.idle": "2023-10-19T18:15:34.742100Z",
     "shell.execute_reply": "2023-10-19T18:15:34.740945Z"
    },
    "papermill": {
     "duration": 0.033296,
     "end_time": "2023-10-19T18:15:34.744469",
     "exception": false,
     "start_time": "2023-10-19T18:15:34.711173",
     "status": "completed"
    },
    "tags": []
   },
   "outputs": [
    {
     "data": {
      "text/plain": [
       "int"
      ]
     },
     "execution_count": 14,
     "metadata": {},
     "output_type": "execute_result"
    }
   ],
   "source": [
    "type(b)"
   ]
  },
  {
   "cell_type": "code",
   "execution_count": 15,
   "id": "bbf0fc9f",
   "metadata": {
    "execution": {
     "iopub.execute_input": "2023-10-19T18:15:34.791591Z",
     "iopub.status.busy": "2023-10-19T18:15:34.791160Z",
     "iopub.status.idle": "2023-10-19T18:15:34.797670Z",
     "shell.execute_reply": "2023-10-19T18:15:34.796627Z"
    },
    "papermill": {
     "duration": 0.032064,
     "end_time": "2023-10-19T18:15:34.799616",
     "exception": false,
     "start_time": "2023-10-19T18:15:34.767552",
     "status": "completed"
    },
    "tags": []
   },
   "outputs": [
    {
     "data": {
      "text/plain": [
       "6.0"
      ]
     },
     "execution_count": 15,
     "metadata": {},
     "output_type": "execute_result"
    }
   ],
   "source": [
    "c = float(b)\n",
    "c"
   ]
  },
  {
   "cell_type": "code",
   "execution_count": 16,
   "id": "582b3e02",
   "metadata": {
    "execution": {
     "iopub.execute_input": "2023-10-19T18:15:34.847538Z",
     "iopub.status.busy": "2023-10-19T18:15:34.847163Z",
     "iopub.status.idle": "2023-10-19T18:15:34.853679Z",
     "shell.execute_reply": "2023-10-19T18:15:34.852662Z"
    },
    "papermill": {
     "duration": 0.032809,
     "end_time": "2023-10-19T18:15:34.855608",
     "exception": false,
     "start_time": "2023-10-19T18:15:34.822799",
     "status": "completed"
    },
    "tags": []
   },
   "outputs": [
    {
     "data": {
      "text/plain": [
       "float"
      ]
     },
     "execution_count": 16,
     "metadata": {},
     "output_type": "execute_result"
    }
   ],
   "source": [
    "type(c)"
   ]
  },
  {
   "cell_type": "code",
   "execution_count": 17,
   "id": "5e989197",
   "metadata": {
    "execution": {
     "iopub.execute_input": "2023-10-19T18:15:34.902378Z",
     "iopub.status.busy": "2023-10-19T18:15:34.902004Z",
     "iopub.status.idle": "2023-10-19T18:15:34.908191Z",
     "shell.execute_reply": "2023-10-19T18:15:34.907104Z"
    },
    "papermill": {
     "duration": 0.031921,
     "end_time": "2023-10-19T18:15:34.910142",
     "exception": false,
     "start_time": "2023-10-19T18:15:34.878221",
     "status": "completed"
    },
    "tags": []
   },
   "outputs": [
    {
     "data": {
      "text/plain": [
       "'667'"
      ]
     },
     "execution_count": 17,
     "metadata": {},
     "output_type": "execute_result"
    }
   ],
   "source": [
    "g = \"66\"\n",
    "h = \"7\"\n",
    "\n",
    "g + h"
   ]
  },
  {
   "cell_type": "code",
   "execution_count": 18,
   "id": "af6acf6b",
   "metadata": {
    "execution": {
     "iopub.execute_input": "2023-10-19T18:15:34.958427Z",
     "iopub.status.busy": "2023-10-19T18:15:34.958027Z",
     "iopub.status.idle": "2023-10-19T18:15:34.964292Z",
     "shell.execute_reply": "2023-10-19T18:15:34.963612Z"
    },
    "papermill": {
     "duration": 0.032976,
     "end_time": "2023-10-19T18:15:34.966247",
     "exception": false,
     "start_time": "2023-10-19T18:15:34.933271",
     "status": "completed"
    },
    "tags": []
   },
   "outputs": [
    {
     "data": {
      "text/plain": [
       "73"
      ]
     },
     "execution_count": 18,
     "metadata": {},
     "output_type": "execute_result"
    }
   ],
   "source": [
    "i = 66\n",
    "j = 7\n",
    "i + j"
   ]
  },
  {
   "cell_type": "code",
   "execution_count": 19,
   "id": "16d42131",
   "metadata": {
    "execution": {
     "iopub.execute_input": "2023-10-19T18:15:35.014328Z",
     "iopub.status.busy": "2023-10-19T18:15:35.013945Z",
     "iopub.status.idle": "2023-10-19T18:15:35.020902Z",
     "shell.execute_reply": "2023-10-19T18:15:35.019739Z"
    },
    "papermill": {
     "duration": 0.033742,
     "end_time": "2023-10-19T18:15:35.023076",
     "exception": false,
     "start_time": "2023-10-19T18:15:34.989334",
     "status": "completed"
    },
    "tags": []
   },
   "outputs": [
    {
     "data": {
      "text/plain": [
       "'667'"
      ]
     },
     "execution_count": 19,
     "metadata": {},
     "output_type": "execute_result"
    }
   ],
   "source": [
    "p = \"66\"\n",
    "q = 7\n",
    "# \"667\"\n",
    "p + str(q)"
   ]
  },
  {
   "cell_type": "code",
   "execution_count": 20,
   "id": "d8521345",
   "metadata": {
    "execution": {
     "iopub.execute_input": "2023-10-19T18:15:35.072932Z",
     "iopub.status.busy": "2023-10-19T18:15:35.072542Z",
     "iopub.status.idle": "2023-10-19T18:15:35.077908Z",
     "shell.execute_reply": "2023-10-19T18:15:35.077033Z"
    },
    "papermill": {
     "duration": 0.032767,
     "end_time": "2023-10-19T18:15:35.079841",
     "exception": false,
     "start_time": "2023-10-19T18:15:35.047074",
     "status": "completed"
    },
    "tags": []
   },
   "outputs": [
    {
     "data": {
      "text/plain": [
       "73"
      ]
     },
     "execution_count": 20,
     "metadata": {},
     "output_type": "execute_result"
    }
   ],
   "source": [
    "p = \"66\"\n",
    "q = 7\n",
    "int(p) + q"
   ]
  },
  {
   "cell_type": "code",
   "execution_count": 21,
   "id": "ad4b3b5b",
   "metadata": {
    "execution": {
     "iopub.execute_input": "2023-10-19T18:15:35.128153Z",
     "iopub.status.busy": "2023-10-19T18:15:35.127386Z",
     "iopub.status.idle": "2023-10-19T18:15:35.132781Z",
     "shell.execute_reply": "2023-10-19T18:15:35.132040Z"
    },
    "papermill": {
     "duration": 0.031641,
     "end_time": "2023-10-19T18:15:35.134641",
     "exception": false,
     "start_time": "2023-10-19T18:15:35.103000",
     "status": "completed"
    },
    "tags": []
   },
   "outputs": [
    {
     "data": {
      "text/plain": [
       "8"
      ]
     },
     "execution_count": 21,
     "metadata": {},
     "output_type": "execute_result"
    }
   ],
   "source": [
    "a = 7\n",
    "b = 8\n",
    "b"
   ]
  },
  {
   "cell_type": "code",
   "execution_count": 22,
   "id": "3c8dca90",
   "metadata": {
    "execution": {
     "iopub.execute_input": "2023-10-19T18:15:35.183524Z",
     "iopub.status.busy": "2023-10-19T18:15:35.182936Z",
     "iopub.status.idle": "2023-10-19T18:15:35.188685Z",
     "shell.execute_reply": "2023-10-19T18:15:35.187586Z"
    },
    "papermill": {
     "duration": 0.032851,
     "end_time": "2023-10-19T18:15:35.190833",
     "exception": false,
     "start_time": "2023-10-19T18:15:35.157982",
     "status": "completed"
    },
    "tags": []
   },
   "outputs": [
    {
     "data": {
      "text/plain": [
       "8"
      ]
     },
     "execution_count": 22,
     "metadata": {},
     "output_type": "execute_result"
    }
   ],
   "source": [
    "a,b = 7,8\n",
    "b"
   ]
  },
  {
   "cell_type": "code",
   "execution_count": 23,
   "id": "6607d993",
   "metadata": {
    "execution": {
     "iopub.execute_input": "2023-10-19T18:15:35.243117Z",
     "iopub.status.busy": "2023-10-19T18:15:35.241349Z",
     "iopub.status.idle": "2023-10-19T18:15:35.247985Z",
     "shell.execute_reply": "2023-10-19T18:15:35.246913Z"
    },
    "papermill": {
     "duration": 0.035481,
     "end_time": "2023-10-19T18:15:35.250017",
     "exception": false,
     "start_time": "2023-10-19T18:15:35.214536",
     "status": "completed"
    },
    "tags": []
   },
   "outputs": [
    {
     "data": {
      "text/plain": [
       "7"
      ]
     },
     "execution_count": 23,
     "metadata": {},
     "output_type": "execute_result"
    }
   ],
   "source": [
    "abhi7 = 7\n",
    "abhi7"
   ]
  },
  {
   "cell_type": "code",
   "execution_count": 24,
   "id": "d0546d27",
   "metadata": {
    "execution": {
     "iopub.execute_input": "2023-10-19T18:15:35.298973Z",
     "iopub.status.busy": "2023-10-19T18:15:35.297945Z",
     "iopub.status.idle": "2023-10-19T18:15:35.304077Z",
     "shell.execute_reply": "2023-10-19T18:15:35.302964Z"
    },
    "papermill": {
     "duration": 0.032761,
     "end_time": "2023-10-19T18:15:35.306106",
     "exception": false,
     "start_time": "2023-10-19T18:15:35.273345",
     "status": "completed"
    },
    "tags": []
   },
   "outputs": [
    {
     "name": "stdout",
     "output_type": "stream",
     "text": [
      "Sally\n"
     ]
    }
   ],
   "source": [
    "x = 4       # x is of type int\n",
    "x = \"Sally\" # x is now of type str\n",
    "print(x)"
   ]
  },
  {
   "cell_type": "code",
   "execution_count": 25,
   "id": "119fce52",
   "metadata": {
    "execution": {
     "iopub.execute_input": "2023-10-19T18:15:35.355717Z",
     "iopub.status.busy": "2023-10-19T18:15:35.355018Z",
     "iopub.status.idle": "2023-10-19T18:15:35.360392Z",
     "shell.execute_reply": "2023-10-19T18:15:35.359367Z"
    },
    "papermill": {
     "duration": 0.032646,
     "end_time": "2023-10-19T18:15:35.362606",
     "exception": false,
     "start_time": "2023-10-19T18:15:35.329960",
     "status": "completed"
    },
    "tags": []
   },
   "outputs": [
    {
     "name": "stdout",
     "output_type": "stream",
     "text": [
      "4\n"
     ]
    }
   ],
   "source": [
    "x = 4       # x is of type int\n",
    "print(x)\n",
    "x = \"Sally\" # x is now of type str\n"
   ]
  },
  {
   "cell_type": "code",
   "execution_count": 26,
   "id": "7268a99f",
   "metadata": {
    "execution": {
     "iopub.execute_input": "2023-10-19T18:15:35.412041Z",
     "iopub.status.busy": "2023-10-19T18:15:35.411110Z",
     "iopub.status.idle": "2023-10-19T18:15:35.417543Z",
     "shell.execute_reply": "2023-10-19T18:15:35.416427Z"
    },
    "papermill": {
     "duration": 0.033344,
     "end_time": "2023-10-19T18:15:35.419571",
     "exception": false,
     "start_time": "2023-10-19T18:15:35.386227",
     "status": "completed"
    },
    "tags": []
   },
   "outputs": [
    {
     "name": "stdout",
     "output_type": "stream",
     "text": [
      "7\n"
     ]
    }
   ],
   "source": [
    "# o/p\n",
    "a= 7\n",
    "print(a)"
   ]
  },
  {
   "cell_type": "code",
   "execution_count": 27,
   "id": "6eef68b5",
   "metadata": {
    "execution": {
     "iopub.execute_input": "2023-10-19T18:15:35.470263Z",
     "iopub.status.busy": "2023-10-19T18:15:35.469719Z",
     "iopub.status.idle": "2023-10-19T18:15:35.473403Z",
     "shell.execute_reply": "2023-10-19T18:15:35.472503Z"
    },
    "papermill": {
     "duration": 0.031537,
     "end_time": "2023-10-19T18:15:35.475747",
     "exception": false,
     "start_time": "2023-10-19T18:15:35.444210",
     "status": "completed"
    },
    "tags": []
   },
   "outputs": [],
   "source": [
    "# a = int(input())\n",
    "# print(a+1)"
   ]
  },
  {
   "cell_type": "code",
   "execution_count": 28,
   "id": "7eb5a467",
   "metadata": {
    "execution": {
     "iopub.execute_input": "2023-10-19T18:15:35.526869Z",
     "iopub.status.busy": "2023-10-19T18:15:35.526517Z",
     "iopub.status.idle": "2023-10-19T18:15:35.531760Z",
     "shell.execute_reply": "2023-10-19T18:15:35.531028Z"
    },
    "papermill": {
     "duration": 0.032737,
     "end_time": "2023-10-19T18:15:35.533413",
     "exception": false,
     "start_time": "2023-10-19T18:15:35.500676",
     "status": "completed"
    },
    "tags": []
   },
   "outputs": [
    {
     "data": {
      "text/plain": [
       "13"
      ]
     },
     "execution_count": 28,
     "metadata": {},
     "output_type": "execute_result"
    }
   ],
   "source": [
    "a = 6 + 7\n",
    "a"
   ]
  },
  {
   "cell_type": "code",
   "execution_count": 29,
   "id": "90e19085",
   "metadata": {
    "execution": {
     "iopub.execute_input": "2023-10-19T18:15:35.584958Z",
     "iopub.status.busy": "2023-10-19T18:15:35.584164Z",
     "iopub.status.idle": "2023-10-19T18:15:35.589795Z",
     "shell.execute_reply": "2023-10-19T18:15:35.588857Z"
    },
    "papermill": {
     "duration": 0.034171,
     "end_time": "2023-10-19T18:15:35.591694",
     "exception": false,
     "start_time": "2023-10-19T18:15:35.557523",
     "status": "completed"
    },
    "tags": []
   },
   "outputs": [
    {
     "data": {
      "text/plain": [
       "'da50'"
      ]
     },
     "execution_count": 29,
     "metadata": {},
     "output_type": "execute_result"
    }
   ],
   "source": [
    "b = \"da\" + str(50)\n",
    "b"
   ]
  },
  {
   "cell_type": "code",
   "execution_count": 30,
   "id": "f61c7940",
   "metadata": {
    "execution": {
     "iopub.execute_input": "2023-10-19T18:15:35.642582Z",
     "iopub.status.busy": "2023-10-19T18:15:35.641941Z",
     "iopub.status.idle": "2023-10-19T18:15:35.646345Z",
     "shell.execute_reply": "2023-10-19T18:15:35.645508Z"
    },
    "papermill": {
     "duration": 0.032221,
     "end_time": "2023-10-19T18:15:35.648250",
     "exception": false,
     "start_time": "2023-10-19T18:15:35.616029",
     "status": "completed"
    },
    "tags": []
   },
   "outputs": [
    {
     "name": "stdout",
     "output_type": "stream",
     "text": [
      "5 John\n"
     ]
    }
   ],
   "source": [
    "x = 5\n",
    "y = \"John\"\n",
    "print(x, y)"
   ]
  },
  {
   "cell_type": "code",
   "execution_count": 31,
   "id": "2ec3b1d3",
   "metadata": {
    "execution": {
     "iopub.execute_input": "2023-10-19T18:15:35.699218Z",
     "iopub.status.busy": "2023-10-19T18:15:35.698578Z",
     "iopub.status.idle": "2023-10-19T18:15:35.702146Z",
     "shell.execute_reply": "2023-10-19T18:15:35.701478Z"
    },
    "papermill": {
     "duration": 0.031693,
     "end_time": "2023-10-19T18:15:35.703945",
     "exception": false,
     "start_time": "2023-10-19T18:15:35.672252",
     "status": "completed"
    },
    "tags": []
   },
   "outputs": [],
   "source": [
    "a = 6 \n",
    "a = 7"
   ]
  },
  {
   "cell_type": "markdown",
   "id": "2b056717",
   "metadata": {
    "papermill": {
     "duration": 0.023593,
     "end_time": "2023-10-19T18:15:35.751577",
     "exception": false,
     "start_time": "2023-10-19T18:15:35.727984",
     "status": "completed"
    },
    "tags": []
   },
   "source": [
    "# data  structures\n"
   ]
  },
  {
   "cell_type": "markdown",
   "id": "ab919055",
   "metadata": {
    "papermill": {
     "duration": 0.023444,
     "end_time": "2023-10-19T18:15:35.798963",
     "exception": false,
     "start_time": "2023-10-19T18:15:35.775519",
     "status": "completed"
    },
    "tags": []
   },
   "source": [
    "# List  [ ] "
   ]
  },
  {
   "cell_type": "code",
   "execution_count": 32,
   "id": "e5dfb676",
   "metadata": {
    "execution": {
     "iopub.execute_input": "2023-10-19T18:15:35.848517Z",
     "iopub.status.busy": "2023-10-19T18:15:35.848141Z",
     "iopub.status.idle": "2023-10-19T18:15:35.854233Z",
     "shell.execute_reply": "2023-10-19T18:15:35.853318Z"
    },
    "papermill": {
     "duration": 0.032913,
     "end_time": "2023-10-19T18:15:35.855936",
     "exception": false,
     "start_time": "2023-10-19T18:15:35.823023",
     "status": "completed"
    },
    "tags": []
   },
   "outputs": [
    {
     "data": {
      "text/plain": [
       "11"
      ]
     },
     "execution_count": 32,
     "metadata": {},
     "output_type": "execute_result"
    }
   ],
   "source": [
    "a = [11,28,34,45,57]\n",
    "a[0]\n",
    "\n"
   ]
  },
  {
   "cell_type": "code",
   "execution_count": 33,
   "id": "77613b43",
   "metadata": {
    "execution": {
     "iopub.execute_input": "2023-10-19T18:15:35.906529Z",
     "iopub.status.busy": "2023-10-19T18:15:35.905766Z",
     "iopub.status.idle": "2023-10-19T18:15:35.912630Z",
     "shell.execute_reply": "2023-10-19T18:15:35.911701Z"
    },
    "papermill": {
     "duration": 0.034522,
     "end_time": "2023-10-19T18:15:35.914577",
     "exception": false,
     "start_time": "2023-10-19T18:15:35.880055",
     "status": "completed"
    },
    "tags": []
   },
   "outputs": [
    {
     "data": {
      "text/plain": [
       "57"
      ]
     },
     "execution_count": 33,
     "metadata": {},
     "output_type": "execute_result"
    }
   ],
   "source": [
    "a[4]"
   ]
  },
  {
   "cell_type": "code",
   "execution_count": 34,
   "id": "30d8fe0d",
   "metadata": {
    "execution": {
     "iopub.execute_input": "2023-10-19T18:15:35.965381Z",
     "iopub.status.busy": "2023-10-19T18:15:35.964795Z",
     "iopub.status.idle": "2023-10-19T18:15:35.969505Z",
     "shell.execute_reply": "2023-10-19T18:15:35.968836Z"
    },
    "papermill": {
     "duration": 0.032029,
     "end_time": "2023-10-19T18:15:35.971220",
     "exception": false,
     "start_time": "2023-10-19T18:15:35.939191",
     "status": "completed"
    },
    "tags": []
   },
   "outputs": [
    {
     "data": {
      "text/plain": [
       "[11, 28, 34, 45, 57]"
      ]
     },
     "execution_count": 34,
     "metadata": {},
     "output_type": "execute_result"
    }
   ],
   "source": [
    "a"
   ]
  },
  {
   "cell_type": "code",
   "execution_count": 35,
   "id": "3f077623",
   "metadata": {
    "execution": {
     "iopub.execute_input": "2023-10-19T18:15:36.022004Z",
     "iopub.status.busy": "2023-10-19T18:15:36.021400Z",
     "iopub.status.idle": "2023-10-19T18:15:36.026189Z",
     "shell.execute_reply": "2023-10-19T18:15:36.025496Z"
    },
    "papermill": {
     "duration": 0.032504,
     "end_time": "2023-10-19T18:15:36.028073",
     "exception": false,
     "start_time": "2023-10-19T18:15:35.995569",
     "status": "completed"
    },
    "tags": []
   },
   "outputs": [
    {
     "data": {
      "text/plain": [
       "57"
      ]
     },
     "execution_count": 35,
     "metadata": {},
     "output_type": "execute_result"
    }
   ],
   "source": [
    "a[-1]"
   ]
  },
  {
   "cell_type": "code",
   "execution_count": 36,
   "id": "ca5e50f2",
   "metadata": {
    "execution": {
     "iopub.execute_input": "2023-10-19T18:15:36.080320Z",
     "iopub.status.busy": "2023-10-19T18:15:36.079764Z",
     "iopub.status.idle": "2023-10-19T18:15:36.084776Z",
     "shell.execute_reply": "2023-10-19T18:15:36.083831Z"
    },
    "papermill": {
     "duration": 0.033406,
     "end_time": "2023-10-19T18:15:36.086621",
     "exception": false,
     "start_time": "2023-10-19T18:15:36.053215",
     "status": "completed"
    },
    "tags": []
   },
   "outputs": [
    {
     "data": {
      "text/plain": [
       "11"
      ]
     },
     "execution_count": 36,
     "metadata": {},
     "output_type": "execute_result"
    }
   ],
   "source": [
    "a[-5]"
   ]
  },
  {
   "cell_type": "code",
   "execution_count": 37,
   "id": "1f2d3f8f",
   "metadata": {
    "execution": {
     "iopub.execute_input": "2023-10-19T18:15:36.139584Z",
     "iopub.status.busy": "2023-10-19T18:15:36.138961Z",
     "iopub.status.idle": "2023-10-19T18:15:36.144825Z",
     "shell.execute_reply": "2023-10-19T18:15:36.143823Z"
    },
    "papermill": {
     "duration": 0.034487,
     "end_time": "2023-10-19T18:15:36.146700",
     "exception": false,
     "start_time": "2023-10-19T18:15:36.112213",
     "status": "completed"
    },
    "tags": []
   },
   "outputs": [
    {
     "data": {
      "text/plain": [
       "[28, 34, 45]"
      ]
     },
     "execution_count": 37,
     "metadata": {},
     "output_type": "execute_result"
    }
   ],
   "source": [
    "a[1:4]"
   ]
  },
  {
   "cell_type": "code",
   "execution_count": 38,
   "id": "ec3c87bd",
   "metadata": {
    "execution": {
     "iopub.execute_input": "2023-10-19T18:15:36.198610Z",
     "iopub.status.busy": "2023-10-19T18:15:36.197982Z",
     "iopub.status.idle": "2023-10-19T18:15:36.202290Z",
     "shell.execute_reply": "2023-10-19T18:15:36.201547Z"
    },
    "papermill": {
     "duration": 0.032588,
     "end_time": "2023-10-19T18:15:36.204221",
     "exception": false,
     "start_time": "2023-10-19T18:15:36.171633",
     "status": "completed"
    },
    "tags": []
   },
   "outputs": [],
   "source": [
    "a = [10,20,30,40 ,50,60,70,80,90]"
   ]
  },
  {
   "cell_type": "code",
   "execution_count": 39,
   "id": "3ff8b62c",
   "metadata": {
    "execution": {
     "iopub.execute_input": "2023-10-19T18:15:36.259766Z",
     "iopub.status.busy": "2023-10-19T18:15:36.259376Z",
     "iopub.status.idle": "2023-10-19T18:15:36.265907Z",
     "shell.execute_reply": "2023-10-19T18:15:36.264617Z"
    },
    "papermill": {
     "duration": 0.038976,
     "end_time": "2023-10-19T18:15:36.268207",
     "exception": false,
     "start_time": "2023-10-19T18:15:36.229231",
     "status": "completed"
    },
    "tags": []
   },
   "outputs": [
    {
     "data": {
      "text/plain": [
       "[20, 30, 40, 50, 60, 70, 80]"
      ]
     },
     "execution_count": 39,
     "metadata": {},
     "output_type": "execute_result"
    }
   ],
   "source": [
    "# 2 property index - list = zero -index \n",
    "a[1:8]"
   ]
  },
  {
   "cell_type": "code",
   "execution_count": 40,
   "id": "61af4055",
   "metadata": {
    "execution": {
     "iopub.execute_input": "2023-10-19T18:15:36.321004Z",
     "iopub.status.busy": "2023-10-19T18:15:36.319822Z",
     "iopub.status.idle": "2023-10-19T18:15:36.325539Z",
     "shell.execute_reply": "2023-10-19T18:15:36.324768Z"
    },
    "papermill": {
     "duration": 0.033588,
     "end_time": "2023-10-19T18:15:36.327248",
     "exception": false,
     "start_time": "2023-10-19T18:15:36.293660",
     "status": "completed"
    },
    "tags": []
   },
   "outputs": [
    {
     "data": {
      "text/plain": [
       "[20, 40, 60, 80]"
      ]
     },
     "execution_count": 40,
     "metadata": {},
     "output_type": "execute_result"
    }
   ],
   "source": [
    "a[1:8:2]"
   ]
  },
  {
   "cell_type": "code",
   "execution_count": 41,
   "id": "dba083e1",
   "metadata": {
    "execution": {
     "iopub.execute_input": "2023-10-19T18:15:36.379263Z",
     "iopub.status.busy": "2023-10-19T18:15:36.378478Z",
     "iopub.status.idle": "2023-10-19T18:15:36.385411Z",
     "shell.execute_reply": "2023-10-19T18:15:36.384366Z"
    },
    "papermill": {
     "duration": 0.03503,
     "end_time": "2023-10-19T18:15:36.387501",
     "exception": false,
     "start_time": "2023-10-19T18:15:36.352471",
     "status": "completed"
    },
    "tags": []
   },
   "outputs": [
    {
     "data": {
      "text/plain": [
       "[20, 50, 80]"
      ]
     },
     "execution_count": 41,
     "metadata": {},
     "output_type": "execute_result"
    }
   ],
   "source": [
    "a[1:-1:3]"
   ]
  },
  {
   "cell_type": "code",
   "execution_count": 42,
   "id": "3e6fa385",
   "metadata": {
    "execution": {
     "iopub.execute_input": "2023-10-19T18:15:36.442803Z",
     "iopub.status.busy": "2023-10-19T18:15:36.441784Z",
     "iopub.status.idle": "2023-10-19T18:15:36.447319Z",
     "shell.execute_reply": "2023-10-19T18:15:36.446559Z"
    },
    "papermill": {
     "duration": 0.035252,
     "end_time": "2023-10-19T18:15:36.449323",
     "exception": false,
     "start_time": "2023-10-19T18:15:36.414071",
     "status": "completed"
    },
    "tags": []
   },
   "outputs": [
    {
     "data": {
      "text/plain": [
       "[10, 20, 30, 40, 50, 60, 70, 80, 90]"
      ]
     },
     "execution_count": 42,
     "metadata": {},
     "output_type": "execute_result"
    }
   ],
   "source": [
    "# property of 1 of list \n",
    "# mutabilty\n",
    "\n",
    "a "
   ]
  },
  {
   "cell_type": "code",
   "execution_count": 43,
   "id": "dc19ae8c",
   "metadata": {
    "execution": {
     "iopub.execute_input": "2023-10-19T18:15:36.504865Z",
     "iopub.status.busy": "2023-10-19T18:15:36.502795Z",
     "iopub.status.idle": "2023-10-19T18:15:36.510223Z",
     "shell.execute_reply": "2023-10-19T18:15:36.509405Z"
    },
    "papermill": {
     "duration": 0.036083,
     "end_time": "2023-10-19T18:15:36.512146",
     "exception": false,
     "start_time": "2023-10-19T18:15:36.476063",
     "status": "completed"
    },
    "tags": []
   },
   "outputs": [
    {
     "data": {
      "text/plain": [
       "10"
      ]
     },
     "execution_count": 43,
     "metadata": {},
     "output_type": "execute_result"
    }
   ],
   "source": [
    "a[0]"
   ]
  },
  {
   "cell_type": "code",
   "execution_count": 44,
   "id": "5f3cf657",
   "metadata": {
    "execution": {
     "iopub.execute_input": "2023-10-19T18:15:36.566118Z",
     "iopub.status.busy": "2023-10-19T18:15:36.564991Z",
     "iopub.status.idle": "2023-10-19T18:15:36.571705Z",
     "shell.execute_reply": "2023-10-19T18:15:36.570828Z"
    },
    "papermill": {
     "duration": 0.035575,
     "end_time": "2023-10-19T18:15:36.573621",
     "exception": false,
     "start_time": "2023-10-19T18:15:36.538046",
     "status": "completed"
    },
    "tags": []
   },
   "outputs": [
    {
     "data": {
      "text/plain": [
       "[900, 20, 30, 40, 50, 60, 70, 80, 90]"
      ]
     },
     "execution_count": 44,
     "metadata": {},
     "output_type": "execute_result"
    }
   ],
   "source": [
    "a[0] = 900\n",
    "a"
   ]
  },
  {
   "cell_type": "code",
   "execution_count": 45,
   "id": "eefa201c",
   "metadata": {
    "execution": {
     "iopub.execute_input": "2023-10-19T18:15:36.629001Z",
     "iopub.status.busy": "2023-10-19T18:15:36.628090Z",
     "iopub.status.idle": "2023-10-19T18:15:36.633359Z",
     "shell.execute_reply": "2023-10-19T18:15:36.632684Z"
    },
    "papermill": {
     "duration": 0.035142,
     "end_time": "2023-10-19T18:15:36.635483",
     "exception": false,
     "start_time": "2023-10-19T18:15:36.600341",
     "status": "completed"
    },
    "tags": []
   },
   "outputs": [
    {
     "data": {
      "text/plain": [
       "list"
      ]
     },
     "execution_count": 45,
     "metadata": {},
     "output_type": "execute_result"
    }
   ],
   "source": [
    "type(a)"
   ]
  },
  {
   "cell_type": "markdown",
   "id": "f7bbfb5e",
   "metadata": {
    "papermill": {
     "duration": 0.025467,
     "end_time": "2023-10-19T18:15:36.687406",
     "exception": false,
     "start_time": "2023-10-19T18:15:36.661939",
     "status": "completed"
    },
    "tags": []
   },
   "source": [
    "# tuple  (  )"
   ]
  },
  {
   "cell_type": "code",
   "execution_count": 46,
   "id": "19c6f306",
   "metadata": {
    "execution": {
     "iopub.execute_input": "2023-10-19T18:15:36.741481Z",
     "iopub.status.busy": "2023-10-19T18:15:36.740814Z",
     "iopub.status.idle": "2023-10-19T18:15:36.746360Z",
     "shell.execute_reply": "2023-10-19T18:15:36.745539Z"
    },
    "papermill": {
     "duration": 0.03505,
     "end_time": "2023-10-19T18:15:36.748604",
     "exception": false,
     "start_time": "2023-10-19T18:15:36.713554",
     "status": "completed"
    },
    "tags": []
   },
   "outputs": [
    {
     "data": {
      "text/plain": [
       "10"
      ]
     },
     "execution_count": 46,
     "metadata": {},
     "output_type": "execute_result"
    }
   ],
   "source": [
    "b = (10,20,30,40,50)\n",
    "b[0]"
   ]
  },
  {
   "cell_type": "code",
   "execution_count": 47,
   "id": "43e13bbc",
   "metadata": {
    "execution": {
     "iopub.execute_input": "2023-10-19T18:15:36.802980Z",
     "iopub.status.busy": "2023-10-19T18:15:36.802603Z",
     "iopub.status.idle": "2023-10-19T18:15:36.809255Z",
     "shell.execute_reply": "2023-10-19T18:15:36.808043Z"
    },
    "papermill": {
     "duration": 0.036414,
     "end_time": "2023-10-19T18:15:36.811587",
     "exception": false,
     "start_time": "2023-10-19T18:15:36.775173",
     "status": "completed"
    },
    "tags": []
   },
   "outputs": [
    {
     "data": {
      "text/plain": [
       "tuple"
      ]
     },
     "execution_count": 47,
     "metadata": {},
     "output_type": "execute_result"
    }
   ],
   "source": [
    "type(b)"
   ]
  },
  {
   "cell_type": "code",
   "execution_count": 48,
   "id": "755e9964",
   "metadata": {
    "execution": {
     "iopub.execute_input": "2023-10-19T18:15:36.867380Z",
     "iopub.status.busy": "2023-10-19T18:15:36.867029Z",
     "iopub.status.idle": "2023-10-19T18:15:36.873657Z",
     "shell.execute_reply": "2023-10-19T18:15:36.872556Z"
    },
    "papermill": {
     "duration": 0.037497,
     "end_time": "2023-10-19T18:15:36.875741",
     "exception": false,
     "start_time": "2023-10-19T18:15:36.838244",
     "status": "completed"
    },
    "tags": []
   },
   "outputs": [
    {
     "data": {
      "text/plain": [
       "50"
      ]
     },
     "execution_count": 48,
     "metadata": {},
     "output_type": "execute_result"
    }
   ],
   "source": [
    "b[4]"
   ]
  },
  {
   "cell_type": "code",
   "execution_count": 49,
   "id": "cd6cd79a",
   "metadata": {
    "execution": {
     "iopub.execute_input": "2023-10-19T18:15:36.931706Z",
     "iopub.status.busy": "2023-10-19T18:15:36.930654Z",
     "iopub.status.idle": "2023-10-19T18:15:36.938013Z",
     "shell.execute_reply": "2023-10-19T18:15:36.936901Z"
    },
    "papermill": {
     "duration": 0.037005,
     "end_time": "2023-10-19T18:15:36.939934",
     "exception": false,
     "start_time": "2023-10-19T18:15:36.902929",
     "status": "completed"
    },
    "tags": []
   },
   "outputs": [
    {
     "data": {
      "text/plain": [
       "50"
      ]
     },
     "execution_count": 49,
     "metadata": {},
     "output_type": "execute_result"
    }
   ],
   "source": [
    "b[-1]"
   ]
  },
  {
   "cell_type": "code",
   "execution_count": 50,
   "id": "701a4df0",
   "metadata": {
    "execution": {
     "iopub.execute_input": "2023-10-19T18:15:36.994529Z",
     "iopub.status.busy": "2023-10-19T18:15:36.994104Z",
     "iopub.status.idle": "2023-10-19T18:15:36.998387Z",
     "shell.execute_reply": "2023-10-19T18:15:36.997326Z"
    },
    "papermill": {
     "duration": 0.034472,
     "end_time": "2023-10-19T18:15:37.000679",
     "exception": false,
     "start_time": "2023-10-19T18:15:36.966207",
     "status": "completed"
    },
    "tags": []
   },
   "outputs": [],
   "source": [
    "# property 2 of tuple - zero index "
   ]
  },
  {
   "cell_type": "code",
   "execution_count": 51,
   "id": "9458aed9",
   "metadata": {
    "execution": {
     "iopub.execute_input": "2023-10-19T18:15:37.056898Z",
     "iopub.status.busy": "2023-10-19T18:15:37.056475Z",
     "iopub.status.idle": "2023-10-19T18:15:37.060426Z",
     "shell.execute_reply": "2023-10-19T18:15:37.059644Z"
    },
    "papermill": {
     "duration": 0.034083,
     "end_time": "2023-10-19T18:15:37.062569",
     "exception": false,
     "start_time": "2023-10-19T18:15:37.028486",
     "status": "completed"
    },
    "tags": []
   },
   "outputs": [],
   "source": [
    "# b[0] = 10"
   ]
  },
  {
   "cell_type": "code",
   "execution_count": 52,
   "id": "bf3f6102",
   "metadata": {
    "execution": {
     "iopub.execute_input": "2023-10-19T18:15:37.118628Z",
     "iopub.status.busy": "2023-10-19T18:15:37.118172Z",
     "iopub.status.idle": "2023-10-19T18:15:37.122406Z",
     "shell.execute_reply": "2023-10-19T18:15:37.121223Z"
    },
    "papermill": {
     "duration": 0.034333,
     "end_time": "2023-10-19T18:15:37.124491",
     "exception": false,
     "start_time": "2023-10-19T18:15:37.090158",
     "status": "completed"
    },
    "tags": []
   },
   "outputs": [],
   "source": [
    "# property immutabilty - ypu cant change elements in a list"
   ]
  },
  {
   "cell_type": "code",
   "execution_count": 53,
   "id": "006379e7",
   "metadata": {
    "execution": {
     "iopub.execute_input": "2023-10-19T18:15:37.182064Z",
     "iopub.status.busy": "2023-10-19T18:15:37.181722Z",
     "iopub.status.idle": "2023-10-19T18:15:37.186022Z",
     "shell.execute_reply": "2023-10-19T18:15:37.184841Z"
    },
    "papermill": {
     "duration": 0.035266,
     "end_time": "2023-10-19T18:15:37.187955",
     "exception": false,
     "start_time": "2023-10-19T18:15:37.152689",
     "status": "completed"
    },
    "tags": []
   },
   "outputs": [],
   "source": [
    "# set "
   ]
  },
  {
   "cell_type": "markdown",
   "id": "e715d569",
   "metadata": {
    "papermill": {
     "duration": 0.029947,
     "end_time": "2023-10-19T18:15:37.244314",
     "exception": false,
     "start_time": "2023-10-19T18:15:37.214367",
     "status": "completed"
    },
    "tags": []
   },
   "source": [
    "{ }"
   ]
  },
  {
   "cell_type": "code",
   "execution_count": 54,
   "id": "b51be25e",
   "metadata": {
    "execution": {
     "iopub.execute_input": "2023-10-19T18:15:37.303166Z",
     "iopub.status.busy": "2023-10-19T18:15:37.302780Z",
     "iopub.status.idle": "2023-10-19T18:15:37.307667Z",
     "shell.execute_reply": "2023-10-19T18:15:37.306296Z"
    },
    "papermill": {
     "duration": 0.037626,
     "end_time": "2023-10-19T18:15:37.309876",
     "exception": false,
     "start_time": "2023-10-19T18:15:37.272250",
     "status": "completed"
    },
    "tags": []
   },
   "outputs": [],
   "source": [
    "c = {10,20,30,40}"
   ]
  },
  {
   "cell_type": "code",
   "execution_count": 55,
   "id": "7a1b115a",
   "metadata": {
    "execution": {
     "iopub.execute_input": "2023-10-19T18:15:37.367329Z",
     "iopub.status.busy": "2023-10-19T18:15:37.366983Z",
     "iopub.status.idle": "2023-10-19T18:15:37.373822Z",
     "shell.execute_reply": "2023-10-19T18:15:37.372593Z"
    },
    "papermill": {
     "duration": 0.038363,
     "end_time": "2023-10-19T18:15:37.376062",
     "exception": false,
     "start_time": "2023-10-19T18:15:37.337699",
     "status": "completed"
    },
    "tags": []
   },
   "outputs": [
    {
     "data": {
      "text/plain": [
       "{10, 20, 30, 40}"
      ]
     },
     "execution_count": 55,
     "metadata": {},
     "output_type": "execute_result"
    }
   ],
   "source": [
    "c"
   ]
  },
  {
   "cell_type": "code",
   "execution_count": 56,
   "id": "2317dfde",
   "metadata": {
    "execution": {
     "iopub.execute_input": "2023-10-19T18:15:37.432807Z",
     "iopub.status.busy": "2023-10-19T18:15:37.432414Z",
     "iopub.status.idle": "2023-10-19T18:15:37.436368Z",
     "shell.execute_reply": "2023-10-19T18:15:37.435491Z"
    },
    "papermill": {
     "duration": 0.035857,
     "end_time": "2023-10-19T18:15:37.438612",
     "exception": false,
     "start_time": "2023-10-19T18:15:37.402755",
     "status": "completed"
    },
    "tags": []
   },
   "outputs": [],
   "source": [
    "d = {10,20,10,20}"
   ]
  },
  {
   "cell_type": "code",
   "execution_count": 57,
   "id": "50f98727",
   "metadata": {
    "execution": {
     "iopub.execute_input": "2023-10-19T18:15:37.499126Z",
     "iopub.status.busy": "2023-10-19T18:15:37.498753Z",
     "iopub.status.idle": "2023-10-19T18:15:37.504321Z",
     "shell.execute_reply": "2023-10-19T18:15:37.503520Z"
    },
    "papermill": {
     "duration": 0.037297,
     "end_time": "2023-10-19T18:15:37.506393",
     "exception": false,
     "start_time": "2023-10-19T18:15:37.469096",
     "status": "completed"
    },
    "tags": []
   },
   "outputs": [
    {
     "data": {
      "text/plain": [
       "{10, 20}"
      ]
     },
     "execution_count": 57,
     "metadata": {},
     "output_type": "execute_result"
    }
   ],
   "source": [
    "d"
   ]
  },
  {
   "cell_type": "code",
   "execution_count": 58,
   "id": "5081e4f3",
   "metadata": {
    "execution": {
     "iopub.execute_input": "2023-10-19T18:15:37.564117Z",
     "iopub.status.busy": "2023-10-19T18:15:37.563768Z",
     "iopub.status.idle": "2023-10-19T18:15:37.567719Z",
     "shell.execute_reply": "2023-10-19T18:15:37.566544Z"
    },
    "papermill": {
     "duration": 0.03514,
     "end_time": "2023-10-19T18:15:37.569569",
     "exception": false,
     "start_time": "2023-10-19T18:15:37.534429",
     "status": "completed"
    },
    "tags": []
   },
   "outputs": [],
   "source": [
    "# # property 1 \n",
    "\n",
    "# unique elements only "
   ]
  },
  {
   "cell_type": "code",
   "execution_count": 59,
   "id": "ef9921ec",
   "metadata": {
    "execution": {
     "iopub.execute_input": "2023-10-19T18:15:37.625050Z",
     "iopub.status.busy": "2023-10-19T18:15:37.624339Z",
     "iopub.status.idle": "2023-10-19T18:15:37.629412Z",
     "shell.execute_reply": "2023-10-19T18:15:37.628677Z"
    },
    "papermill": {
     "duration": 0.03517,
     "end_time": "2023-10-19T18:15:37.631396",
     "exception": false,
     "start_time": "2023-10-19T18:15:37.596226",
     "status": "completed"
    },
    "tags": []
   },
   "outputs": [
    {
     "data": {
      "text/plain": [
       "{10, 20}"
      ]
     },
     "execution_count": 59,
     "metadata": {},
     "output_type": "execute_result"
    }
   ],
   "source": [
    "# property \n",
    "# there is no index in set \n",
    "\n",
    "d"
   ]
  },
  {
   "cell_type": "code",
   "execution_count": 60,
   "id": "79ba6939",
   "metadata": {
    "execution": {
     "iopub.execute_input": "2023-10-19T18:15:37.690244Z",
     "iopub.status.busy": "2023-10-19T18:15:37.689564Z",
     "iopub.status.idle": "2023-10-19T18:15:37.693264Z",
     "shell.execute_reply": "2023-10-19T18:15:37.692573Z"
    },
    "papermill": {
     "duration": 0.036272,
     "end_time": "2023-10-19T18:15:37.695386",
     "exception": false,
     "start_time": "2023-10-19T18:15:37.659114",
     "status": "completed"
    },
    "tags": []
   },
   "outputs": [],
   "source": [
    "# d[0]"
   ]
  },
  {
   "cell_type": "markdown",
   "id": "6484e4f0",
   "metadata": {
    "papermill": {
     "duration": 0.027494,
     "end_time": "2023-10-19T18:15:37.752219",
     "exception": false,
     "start_time": "2023-10-19T18:15:37.724725",
     "status": "completed"
    },
    "tags": []
   },
   "source": [
    "# dictionary  ( ) "
   ]
  },
  {
   "cell_type": "code",
   "execution_count": 61,
   "id": "c4c05aa3",
   "metadata": {
    "execution": {
     "iopub.execute_input": "2023-10-19T18:15:37.809213Z",
     "iopub.status.busy": "2023-10-19T18:15:37.808542Z",
     "iopub.status.idle": "2023-10-19T18:15:37.812412Z",
     "shell.execute_reply": "2023-10-19T18:15:37.811707Z"
    },
    "papermill": {
     "duration": 0.03479,
     "end_time": "2023-10-19T18:15:37.814311",
     "exception": false,
     "start_time": "2023-10-19T18:15:37.779521",
     "status": "completed"
    },
    "tags": []
   },
   "outputs": [],
   "source": [
    "t = { \"beautiful\"   : \"swapna is a beautiful women\",\n",
    "    \"smart\" : \"tayyab is a smart person\",\n",
    "    \"clever\" : \"parth is clever\"}"
   ]
  },
  {
   "cell_type": "code",
   "execution_count": 62,
   "id": "774878f4",
   "metadata": {
    "execution": {
     "iopub.execute_input": "2023-10-19T18:15:37.873870Z",
     "iopub.status.busy": "2023-10-19T18:15:37.873065Z",
     "iopub.status.idle": "2023-10-19T18:15:37.876935Z",
     "shell.execute_reply": "2023-10-19T18:15:37.876086Z"
    },
    "papermill": {
     "duration": 0.037295,
     "end_time": "2023-10-19T18:15:37.879267",
     "exception": false,
     "start_time": "2023-10-19T18:15:37.841972",
     "status": "completed"
    },
    "tags": []
   },
   "outputs": [],
   "source": [
    "# property index - key index"
   ]
  },
  {
   "cell_type": "code",
   "execution_count": 63,
   "id": "62cf74f5",
   "metadata": {
    "execution": {
     "iopub.execute_input": "2023-10-19T18:15:37.936738Z",
     "iopub.status.busy": "2023-10-19T18:15:37.936334Z",
     "iopub.status.idle": "2023-10-19T18:15:37.942713Z",
     "shell.execute_reply": "2023-10-19T18:15:37.941595Z"
    },
    "papermill": {
     "duration": 0.037594,
     "end_time": "2023-10-19T18:15:37.945142",
     "exception": false,
     "start_time": "2023-10-19T18:15:37.907548",
     "status": "completed"
    },
    "tags": []
   },
   "outputs": [
    {
     "data": {
      "text/plain": [
       "dict_keys(['beautiful', 'smart', 'clever'])"
      ]
     },
     "execution_count": 63,
     "metadata": {},
     "output_type": "execute_result"
    }
   ],
   "source": [
    "t.keys()"
   ]
  },
  {
   "cell_type": "code",
   "execution_count": 64,
   "id": "6d10032f",
   "metadata": {
    "execution": {
     "iopub.execute_input": "2023-10-19T18:15:38.002901Z",
     "iopub.status.busy": "2023-10-19T18:15:38.002551Z",
     "iopub.status.idle": "2023-10-19T18:15:38.009234Z",
     "shell.execute_reply": "2023-10-19T18:15:38.007990Z"
    },
    "papermill": {
     "duration": 0.03849,
     "end_time": "2023-10-19T18:15:38.011359",
     "exception": false,
     "start_time": "2023-10-19T18:15:37.972869",
     "status": "completed"
    },
    "tags": []
   },
   "outputs": [
    {
     "data": {
      "text/plain": [
       "'swapna is a beautiful women'"
      ]
     },
     "execution_count": 64,
     "metadata": {},
     "output_type": "execute_result"
    }
   ],
   "source": [
    "t[\"beautiful\"]"
   ]
  },
  {
   "cell_type": "code",
   "execution_count": 65,
   "id": "427aee44",
   "metadata": {
    "execution": {
     "iopub.execute_input": "2023-10-19T18:15:38.070853Z",
     "iopub.status.busy": "2023-10-19T18:15:38.070502Z",
     "iopub.status.idle": "2023-10-19T18:15:38.077828Z",
     "shell.execute_reply": "2023-10-19T18:15:38.076668Z"
    },
    "papermill": {
     "duration": 0.041025,
     "end_time": "2023-10-19T18:15:38.080037",
     "exception": false,
     "start_time": "2023-10-19T18:15:38.039012",
     "status": "completed"
    },
    "tags": []
   },
   "outputs": [
    {
     "data": {
      "text/plain": [
       "'parth is clever'"
      ]
     },
     "execution_count": 65,
     "metadata": {},
     "output_type": "execute_result"
    }
   ],
   "source": [
    "t[\"clever\"]"
   ]
  },
  {
   "cell_type": "code",
   "execution_count": 66,
   "id": "cb045236",
   "metadata": {
    "execution": {
     "iopub.execute_input": "2023-10-19T18:15:38.137549Z",
     "iopub.status.busy": "2023-10-19T18:15:38.137148Z",
     "iopub.status.idle": "2023-10-19T18:15:38.144164Z",
     "shell.execute_reply": "2023-10-19T18:15:38.142784Z"
    },
    "papermill": {
     "duration": 0.038645,
     "end_time": "2023-10-19T18:15:38.146295",
     "exception": false,
     "start_time": "2023-10-19T18:15:38.107650",
     "status": "completed"
    },
    "tags": []
   },
   "outputs": [
    {
     "data": {
      "text/plain": [
       "dict_keys(['beautiful', 'smart', 'clever'])"
      ]
     },
     "execution_count": 66,
     "metadata": {},
     "output_type": "execute_result"
    }
   ],
   "source": [
    "t.keys()"
   ]
  },
  {
   "cell_type": "code",
   "execution_count": 67,
   "id": "3c2c8bdd",
   "metadata": {
    "execution": {
     "iopub.execute_input": "2023-10-19T18:15:38.204359Z",
     "iopub.status.busy": "2023-10-19T18:15:38.203983Z",
     "iopub.status.idle": "2023-10-19T18:15:38.210989Z",
     "shell.execute_reply": "2023-10-19T18:15:38.209750Z"
    },
    "papermill": {
     "duration": 0.038178,
     "end_time": "2023-10-19T18:15:38.213206",
     "exception": false,
     "start_time": "2023-10-19T18:15:38.175028",
     "status": "completed"
    },
    "tags": []
   },
   "outputs": [
    {
     "data": {
      "text/plain": [
       "dict_values(['swapna is a beautiful women', 'tayyab is a smart person', 'parth is clever'])"
      ]
     },
     "execution_count": 67,
     "metadata": {},
     "output_type": "execute_result"
    }
   ],
   "source": [
    "t.values()"
   ]
  },
  {
   "cell_type": "code",
   "execution_count": 68,
   "id": "884faffd",
   "metadata": {
    "execution": {
     "iopub.execute_input": "2023-10-19T18:15:38.273706Z",
     "iopub.status.busy": "2023-10-19T18:15:38.273316Z",
     "iopub.status.idle": "2023-10-19T18:15:38.280234Z",
     "shell.execute_reply": "2023-10-19T18:15:38.279078Z"
    },
    "papermill": {
     "duration": 0.039911,
     "end_time": "2023-10-19T18:15:38.282503",
     "exception": false,
     "start_time": "2023-10-19T18:15:38.242592",
     "status": "completed"
    },
    "tags": []
   },
   "outputs": [
    {
     "data": {
      "text/plain": [
       "dict_items([('beautiful', 'swapna is a beautiful women'), ('smart', 'tayyab is a smart person'), ('clever', 'parth is clever')])"
      ]
     },
     "execution_count": 68,
     "metadata": {},
     "output_type": "execute_result"
    }
   ],
   "source": [
    "t.items()"
   ]
  },
  {
   "cell_type": "code",
   "execution_count": 69,
   "id": "92917907",
   "metadata": {
    "execution": {
     "iopub.execute_input": "2023-10-19T18:15:38.340798Z",
     "iopub.status.busy": "2023-10-19T18:15:38.340385Z",
     "iopub.status.idle": "2023-10-19T18:15:38.348529Z",
     "shell.execute_reply": "2023-10-19T18:15:38.347350Z"
    },
    "papermill": {
     "duration": 0.040192,
     "end_time": "2023-10-19T18:15:38.350968",
     "exception": false,
     "start_time": "2023-10-19T18:15:38.310776",
     "status": "completed"
    },
    "tags": []
   },
   "outputs": [
    {
     "data": {
      "text/plain": [
       "3"
      ]
     },
     "execution_count": 69,
     "metadata": {},
     "output_type": "execute_result"
    }
   ],
   "source": [
    "ch = { \"c1\" :\n",
    "                   {\"c1.1\" :  \"chapter1.1\",\n",
    "                    \n",
    "                    \"c1.2\" :  \n",
    "                             {\"c1.2.1\" : \"chapter mlv\",\n",
    "                              \"c1.2.2\" : [10,20,30,40]},\n",
    "                    \n",
    "                    \"c1.3\" :  \"chapter1.3\"},\n",
    "     \"c2\" : \"chapter2\",\n",
    "     \"c3\" : \"chapter3\"}\n",
    "\n",
    "len(ch)"
   ]
  },
  {
   "cell_type": "code",
   "execution_count": 70,
   "id": "b84a742b",
   "metadata": {
    "execution": {
     "iopub.execute_input": "2023-10-19T18:15:38.414620Z",
     "iopub.status.busy": "2023-10-19T18:15:38.414073Z",
     "iopub.status.idle": "2023-10-19T18:15:38.421653Z",
     "shell.execute_reply": "2023-10-19T18:15:38.420522Z"
    },
    "papermill": {
     "duration": 0.046641,
     "end_time": "2023-10-19T18:15:38.425810",
     "exception": false,
     "start_time": "2023-10-19T18:15:38.379169",
     "status": "completed"
    },
    "tags": []
   },
   "outputs": [
    {
     "data": {
      "text/plain": [
       "10"
      ]
     },
     "execution_count": 70,
     "metadata": {},
     "output_type": "execute_result"
    }
   ],
   "source": [
    "ch[\"c1\"][\"c1.2\"][\"c1.2.2\"][0]"
   ]
  },
  {
   "cell_type": "code",
   "execution_count": 71,
   "id": "9ee6d810",
   "metadata": {
    "execution": {
     "iopub.execute_input": "2023-10-19T18:15:38.526955Z",
     "iopub.status.busy": "2023-10-19T18:15:38.526557Z",
     "iopub.status.idle": "2023-10-19T18:15:38.531211Z",
     "shell.execute_reply": "2023-10-19T18:15:38.530048Z"
    },
    "papermill": {
     "duration": 0.066131,
     "end_time": "2023-10-19T18:15:38.534371",
     "exception": false,
     "start_time": "2023-10-19T18:15:38.468240",
     "status": "completed"
    },
    "tags": []
   },
   "outputs": [],
   "source": [
    "ch[\"c3\"] = \"sush\""
   ]
  },
  {
   "cell_type": "code",
   "execution_count": 72,
   "id": "fe2a2cdb",
   "metadata": {
    "execution": {
     "iopub.execute_input": "2023-10-19T18:15:38.601887Z",
     "iopub.status.busy": "2023-10-19T18:15:38.601547Z",
     "iopub.status.idle": "2023-10-19T18:15:38.607568Z",
     "shell.execute_reply": "2023-10-19T18:15:38.606501Z"
    },
    "papermill": {
     "duration": 0.03915,
     "end_time": "2023-10-19T18:15:38.609815",
     "exception": false,
     "start_time": "2023-10-19T18:15:38.570665",
     "status": "completed"
    },
    "tags": []
   },
   "outputs": [
    {
     "data": {
      "text/plain": [
       "3"
      ]
     },
     "execution_count": 72,
     "metadata": {},
     "output_type": "execute_result"
    }
   ],
   "source": [
    "len(ch.items())"
   ]
  },
  {
   "cell_type": "code",
   "execution_count": 73,
   "id": "160d4f7d",
   "metadata": {
    "execution": {
     "iopub.execute_input": "2023-10-19T18:15:38.707909Z",
     "iopub.status.busy": "2023-10-19T18:15:38.705429Z",
     "iopub.status.idle": "2023-10-19T18:15:38.715699Z",
     "shell.execute_reply": "2023-10-19T18:15:38.714881Z"
    },
    "papermill": {
     "duration": 0.056651,
     "end_time": "2023-10-19T18:15:38.717929",
     "exception": false,
     "start_time": "2023-10-19T18:15:38.661278",
     "status": "completed"
    },
    "tags": []
   },
   "outputs": [
    {
     "data": {
      "text/plain": [
       "{'c1': {'c1.1': 'chapter1.1',\n",
       "  'c1.2': {'c1.2.1': 'chapter mlv', 'c1.2.2': [10, 20, 30, 40]},\n",
       "  'c1.3': 'chapter1.3'},\n",
       " 'c2': 'chapter2',\n",
       " 'c3': 'sush'}"
      ]
     },
     "execution_count": 73,
     "metadata": {},
     "output_type": "execute_result"
    }
   ],
   "source": [
    "ch"
   ]
  },
  {
   "cell_type": "markdown",
   "id": "429299a7",
   "metadata": {
    "papermill": {
     "duration": 0.029226,
     "end_time": "2023-10-19T18:15:38.777643",
     "exception": false,
     "start_time": "2023-10-19T18:15:38.748417",
     "status": "completed"
    },
    "tags": []
   },
   "source": [
    "# type\n",
    "int()\n",
    "float()\n",
    "str()"
   ]
  },
  {
   "cell_type": "markdown",
   "id": "dd3ae96c",
   "metadata": {
    "papermill": {
     "duration": 0.029409,
     "end_time": "2023-10-19T18:15:38.843521",
     "exception": false,
     "start_time": "2023-10-19T18:15:38.814112",
     "status": "completed"
    },
    "tags": []
   },
   "source": [
    "# data structure casting\n",
    "## list()  tuple() set()  dict()"
   ]
  },
  {
   "cell_type": "code",
   "execution_count": 74,
   "id": "a73202c1",
   "metadata": {
    "execution": {
     "iopub.execute_input": "2023-10-19T18:15:38.916462Z",
     "iopub.status.busy": "2023-10-19T18:15:38.915542Z",
     "iopub.status.idle": "2023-10-19T18:15:38.923023Z",
     "shell.execute_reply": "2023-10-19T18:15:38.922044Z"
    },
    "papermill": {
     "duration": 0.044598,
     "end_time": "2023-10-19T18:15:38.925219",
     "exception": false,
     "start_time": "2023-10-19T18:15:38.880621",
     "status": "completed"
    },
    "tags": []
   },
   "outputs": [
    {
     "data": {
      "text/plain": [
       "list"
      ]
     },
     "execution_count": 74,
     "metadata": {},
     "output_type": "execute_result"
    }
   ],
   "source": [
    "a = [10,20,30]\n",
    "type(a)"
   ]
  },
  {
   "cell_type": "code",
   "execution_count": 75,
   "id": "b23a44c2",
   "metadata": {
    "execution": {
     "iopub.execute_input": "2023-10-19T18:15:38.986339Z",
     "iopub.status.busy": "2023-10-19T18:15:38.985410Z",
     "iopub.status.idle": "2023-10-19T18:15:38.992586Z",
     "shell.execute_reply": "2023-10-19T18:15:38.991577Z"
    },
    "papermill": {
     "duration": 0.039978,
     "end_time": "2023-10-19T18:15:38.994793",
     "exception": false,
     "start_time": "2023-10-19T18:15:38.954815",
     "status": "completed"
    },
    "tags": []
   },
   "outputs": [
    {
     "data": {
      "text/plain": [
       "(10, 20, 30)"
      ]
     },
     "execution_count": 75,
     "metadata": {},
     "output_type": "execute_result"
    }
   ],
   "source": [
    "b = tuple(a)\n",
    "b"
   ]
  },
  {
   "cell_type": "code",
   "execution_count": 76,
   "id": "8ab86977",
   "metadata": {
    "execution": {
     "iopub.execute_input": "2023-10-19T18:15:39.057961Z",
     "iopub.status.busy": "2023-10-19T18:15:39.057011Z",
     "iopub.status.idle": "2023-10-19T18:15:39.064519Z",
     "shell.execute_reply": "2023-10-19T18:15:39.063396Z"
    },
    "papermill": {
     "duration": 0.04172,
     "end_time": "2023-10-19T18:15:39.066779",
     "exception": false,
     "start_time": "2023-10-19T18:15:39.025059",
     "status": "completed"
    },
    "tags": []
   },
   "outputs": [
    {
     "data": {
      "text/plain": [
       "tuple"
      ]
     },
     "execution_count": 76,
     "metadata": {},
     "output_type": "execute_result"
    }
   ],
   "source": [
    "type(b)"
   ]
  },
  {
   "cell_type": "code",
   "execution_count": 77,
   "id": "8f2b121c",
   "metadata": {
    "execution": {
     "iopub.execute_input": "2023-10-19T18:15:39.129278Z",
     "iopub.status.busy": "2023-10-19T18:15:39.128376Z",
     "iopub.status.idle": "2023-10-19T18:15:39.133822Z",
     "shell.execute_reply": "2023-10-19T18:15:39.132696Z"
    },
    "papermill": {
     "duration": 0.038526,
     "end_time": "2023-10-19T18:15:39.136151",
     "exception": false,
     "start_time": "2023-10-19T18:15:39.097625",
     "status": "completed"
    },
    "tags": []
   },
   "outputs": [],
   "source": [
    "gg = (\"sush@gmail.com\",2564856855)\n",
    "# gg[0] = \"sush@outlook.com\""
   ]
  },
  {
   "cell_type": "code",
   "execution_count": 78,
   "id": "8431b434",
   "metadata": {
    "execution": {
     "iopub.execute_input": "2023-10-19T18:15:39.200360Z",
     "iopub.status.busy": "2023-10-19T18:15:39.199375Z",
     "iopub.status.idle": "2023-10-19T18:15:39.207989Z",
     "shell.execute_reply": "2023-10-19T18:15:39.206770Z"
    },
    "papermill": {
     "duration": 0.044845,
     "end_time": "2023-10-19T18:15:39.210902",
     "exception": false,
     "start_time": "2023-10-19T18:15:39.166057",
     "status": "completed"
    },
    "tags": []
   },
   "outputs": [
    {
     "data": {
      "text/plain": [
       "['sush@gmail.com', 2564856855]"
      ]
     },
     "execution_count": 78,
     "metadata": {},
     "output_type": "execute_result"
    }
   ],
   "source": [
    "gg = list(gg)\n",
    "gg"
   ]
  },
  {
   "cell_type": "code",
   "execution_count": 79,
   "id": "e89ae4d6",
   "metadata": {
    "execution": {
     "iopub.execute_input": "2023-10-19T18:15:39.304203Z",
     "iopub.status.busy": "2023-10-19T18:15:39.303544Z",
     "iopub.status.idle": "2023-10-19T18:15:39.309825Z",
     "shell.execute_reply": "2023-10-19T18:15:39.308980Z"
    },
    "papermill": {
     "duration": 0.047152,
     "end_time": "2023-10-19T18:15:39.311768",
     "exception": false,
     "start_time": "2023-10-19T18:15:39.264616",
     "status": "completed"
    },
    "tags": []
   },
   "outputs": [
    {
     "data": {
      "text/plain": [
       "list"
      ]
     },
     "execution_count": 79,
     "metadata": {},
     "output_type": "execute_result"
    }
   ],
   "source": [
    "type(gg)"
   ]
  },
  {
   "cell_type": "code",
   "execution_count": 80,
   "id": "b8dda8b0",
   "metadata": {
    "execution": {
     "iopub.execute_input": "2023-10-19T18:15:39.376164Z",
     "iopub.status.busy": "2023-10-19T18:15:39.374493Z",
     "iopub.status.idle": "2023-10-19T18:15:39.381833Z",
     "shell.execute_reply": "2023-10-19T18:15:39.381018Z"
    },
    "papermill": {
     "duration": 0.042408,
     "end_time": "2023-10-19T18:15:39.383830",
     "exception": false,
     "start_time": "2023-10-19T18:15:39.341422",
     "status": "completed"
    },
    "tags": []
   },
   "outputs": [
    {
     "data": {
      "text/plain": [
       "['sush@outlook.com', 2564856855]"
      ]
     },
     "execution_count": 80,
     "metadata": {},
     "output_type": "execute_result"
    }
   ],
   "source": [
    "gg[0] = \"sush@outlook.com\"\n",
    "gg"
   ]
  },
  {
   "cell_type": "code",
   "execution_count": 81,
   "id": "4c6561f8",
   "metadata": {
    "execution": {
     "iopub.execute_input": "2023-10-19T18:15:39.496580Z",
     "iopub.status.busy": "2023-10-19T18:15:39.494281Z",
     "iopub.status.idle": "2023-10-19T18:15:39.507129Z",
     "shell.execute_reply": "2023-10-19T18:15:39.505823Z"
    },
    "papermill": {
     "duration": 0.078349,
     "end_time": "2023-10-19T18:15:39.511138",
     "exception": false,
     "start_time": "2023-10-19T18:15:39.432789",
     "status": "completed"
    },
    "tags": []
   },
   "outputs": [
    {
     "data": {
      "text/plain": [
       "('sush@outlook.com', 2564856855)"
      ]
     },
     "execution_count": 81,
     "metadata": {},
     "output_type": "execute_result"
    }
   ],
   "source": [
    "gg = tuple(gg)\n",
    "gg"
   ]
  },
  {
   "cell_type": "code",
   "execution_count": 82,
   "id": "fa7ed5da",
   "metadata": {
    "execution": {
     "iopub.execute_input": "2023-10-19T18:15:39.602522Z",
     "iopub.status.busy": "2023-10-19T18:15:39.601587Z",
     "iopub.status.idle": "2023-10-19T18:15:39.610846Z",
     "shell.execute_reply": "2023-10-19T18:15:39.608954Z"
    },
    "papermill": {
     "duration": 0.04601,
     "end_time": "2023-10-19T18:15:39.614092",
     "exception": false,
     "start_time": "2023-10-19T18:15:39.568082",
     "status": "completed"
    },
    "tags": []
   },
   "outputs": [
    {
     "data": {
      "text/plain": [
       "('sush@outlook.com', 2564856855)"
      ]
     },
     "execution_count": 82,
     "metadata": {},
     "output_type": "execute_result"
    }
   ],
   "source": [
    "gg = (\"sush@gmail.com\",2564856855)\n",
    "gg = list(gg)\n",
    "gg[0] = \"sush@outlook.com\"\n",
    "gg = tuple(gg)\n",
    "gg"
   ]
  },
  {
   "cell_type": "code",
   "execution_count": 83,
   "id": "9283fd27",
   "metadata": {
    "execution": {
     "iopub.execute_input": "2023-10-19T18:15:39.679764Z",
     "iopub.status.busy": "2023-10-19T18:15:39.679324Z",
     "iopub.status.idle": "2023-10-19T18:15:39.687504Z",
     "shell.execute_reply": "2023-10-19T18:15:39.685787Z"
    },
    "papermill": {
     "duration": 0.045235,
     "end_time": "2023-10-19T18:15:39.690632",
     "exception": false,
     "start_time": "2023-10-19T18:15:39.645397",
     "status": "completed"
    },
    "tags": []
   },
   "outputs": [
    {
     "data": {
      "text/plain": [
       "[10, 20, 30]"
      ]
     },
     "execution_count": 83,
     "metadata": {},
     "output_type": "execute_result"
    }
   ],
   "source": [
    "a = [10,20,30,10]\n",
    "a = list(set(a))\n",
    "a"
   ]
  },
  {
   "cell_type": "code",
   "execution_count": 84,
   "id": "a5ca6a71",
   "metadata": {
    "execution": {
     "iopub.execute_input": "2023-10-19T18:15:39.759522Z",
     "iopub.status.busy": "2023-10-19T18:15:39.758228Z",
     "iopub.status.idle": "2023-10-19T18:15:39.765862Z",
     "shell.execute_reply": "2023-10-19T18:15:39.764864Z"
    },
    "papermill": {
     "duration": 0.043973,
     "end_time": "2023-10-19T18:15:39.768070",
     "exception": false,
     "start_time": "2023-10-19T18:15:39.724097",
     "status": "completed"
    },
    "tags": []
   },
   "outputs": [
    {
     "data": {
      "text/plain": [
       "[10, 20, 30]"
      ]
     },
     "execution_count": 84,
     "metadata": {},
     "output_type": "execute_result"
    }
   ],
   "source": [
    "a = list(set(a))\n",
    "a"
   ]
  },
  {
   "cell_type": "code",
   "execution_count": 85,
   "id": "e471c133",
   "metadata": {
    "execution": {
     "iopub.execute_input": "2023-10-19T18:15:39.833748Z",
     "iopub.status.busy": "2023-10-19T18:15:39.833319Z",
     "iopub.status.idle": "2023-10-19T18:15:39.840597Z",
     "shell.execute_reply": "2023-10-19T18:15:39.839290Z"
    },
    "papermill": {
     "duration": 0.041205,
     "end_time": "2023-10-19T18:15:39.842756",
     "exception": false,
     "start_time": "2023-10-19T18:15:39.801551",
     "status": "completed"
    },
    "tags": []
   },
   "outputs": [
    {
     "data": {
      "text/plain": [
       "{10, 20, 30}"
      ]
     },
     "execution_count": 85,
     "metadata": {},
     "output_type": "execute_result"
    }
   ],
   "source": [
    "c = { 10,20,30,30}\n",
    "c \n",
    "\n"
   ]
  },
  {
   "cell_type": "code",
   "execution_count": 86,
   "id": "9a424246",
   "metadata": {
    "execution": {
     "iopub.execute_input": "2023-10-19T18:15:39.906130Z",
     "iopub.status.busy": "2023-10-19T18:15:39.905516Z",
     "iopub.status.idle": "2023-10-19T18:15:39.910796Z",
     "shell.execute_reply": "2023-10-19T18:15:39.909800Z"
    },
    "papermill": {
     "duration": 0.03975,
     "end_time": "2023-10-19T18:15:39.912788",
     "exception": false,
     "start_time": "2023-10-19T18:15:39.873038",
     "status": "completed"
    },
    "tags": []
   },
   "outputs": [
    {
     "name": "stdout",
     "output_type": "stream",
     "text": [
      "3\n"
     ]
    }
   ],
   "source": [
    "thislist = [\"apple\", \"banana\", \"cherry\"]\n",
    "print(len(thislist))"
   ]
  },
  {
   "cell_type": "code",
   "execution_count": 87,
   "id": "299cdca3",
   "metadata": {
    "execution": {
     "iopub.execute_input": "2023-10-19T18:15:39.976279Z",
     "iopub.status.busy": "2023-10-19T18:15:39.975719Z",
     "iopub.status.idle": "2023-10-19T18:15:39.980325Z",
     "shell.execute_reply": "2023-10-19T18:15:39.979187Z"
    },
    "papermill": {
     "duration": 0.038806,
     "end_time": "2023-10-19T18:15:39.982308",
     "exception": false,
     "start_time": "2023-10-19T18:15:39.943502",
     "status": "completed"
    },
    "tags": []
   },
   "outputs": [
    {
     "name": "stdout",
     "output_type": "stream",
     "text": [
      "['apple', 'banana', 'cherry']\n"
     ]
    }
   ],
   "source": [
    "thislist = list((\"apple\", \"banana\", \"cherry\")) # note the double round-brackets\n",
    "print(thislist)"
   ]
  },
  {
   "cell_type": "code",
   "execution_count": 88,
   "id": "a47ef49a",
   "metadata": {
    "execution": {
     "iopub.execute_input": "2023-10-19T18:15:40.044460Z",
     "iopub.status.busy": "2023-10-19T18:15:40.044038Z",
     "iopub.status.idle": "2023-10-19T18:15:40.050142Z",
     "shell.execute_reply": "2023-10-19T18:15:40.048909Z"
    },
    "papermill": {
     "duration": 0.039977,
     "end_time": "2023-10-19T18:15:40.052289",
     "exception": false,
     "start_time": "2023-10-19T18:15:40.012312",
     "status": "completed"
    },
    "tags": []
   },
   "outputs": [
    {
     "name": "stdout",
     "output_type": "stream",
     "text": [
      "['apple', 'banana', 'cherry', 'orange', 'kiwi', 'melon', 'mango']\n"
     ]
    }
   ],
   "source": [
    "thislist = [\"apple\", \"banana\", \"cherry\", \"orange\", \"kiwi\", \"melon\", \"mango\"]\n",
    "print(thislist[:])"
   ]
  },
  {
   "cell_type": "code",
   "execution_count": 89,
   "id": "66cd7172",
   "metadata": {
    "execution": {
     "iopub.execute_input": "2023-10-19T18:15:40.116901Z",
     "iopub.status.busy": "2023-10-19T18:15:40.115989Z",
     "iopub.status.idle": "2023-10-19T18:15:40.122479Z",
     "shell.execute_reply": "2023-10-19T18:15:40.121253Z"
    },
    "papermill": {
     "duration": 0.04086,
     "end_time": "2023-10-19T18:15:40.124668",
     "exception": false,
     "start_time": "2023-10-19T18:15:40.083808",
     "status": "completed"
    },
    "tags": []
   },
   "outputs": [
    {
     "name": "stdout",
     "output_type": "stream",
     "text": [
      "['orange', 'kiwi', 'melon']\n"
     ]
    }
   ],
   "source": [
    "thislist = [\"apple\", \"banana\", \"cherry\", \"orange\", \"kiwi\", \"melon\", \"mango\"]\n",
    "print(thislist[-4:-1])"
   ]
  },
  {
   "cell_type": "code",
   "execution_count": 90,
   "id": "f52ecdc9",
   "metadata": {
    "execution": {
     "iopub.execute_input": "2023-10-19T18:15:40.187112Z",
     "iopub.status.busy": "2023-10-19T18:15:40.186777Z",
     "iopub.status.idle": "2023-10-19T18:15:40.193239Z",
     "shell.execute_reply": "2023-10-19T18:15:40.191603Z"
    },
    "papermill": {
     "duration": 0.040238,
     "end_time": "2023-10-19T18:15:40.195461",
     "exception": false,
     "start_time": "2023-10-19T18:15:40.155223",
     "status": "completed"
    },
    "tags": []
   },
   "outputs": [
    {
     "name": "stdout",
     "output_type": "stream",
     "text": [
      "['apple', 'blackcurrant', 'cherry']\n"
     ]
    }
   ],
   "source": [
    "thislist = [\"apple\", \"banana\", \"cherry\"]\n",
    "thislist[1] = \"blackcurrant\"\n",
    "print(thislist)"
   ]
  },
  {
   "cell_type": "code",
   "execution_count": 91,
   "id": "a72c3574",
   "metadata": {
    "execution": {
     "iopub.execute_input": "2023-10-19T18:15:40.265264Z",
     "iopub.status.busy": "2023-10-19T18:15:40.264909Z",
     "iopub.status.idle": "2023-10-19T18:15:40.272128Z",
     "shell.execute_reply": "2023-10-19T18:15:40.270615Z"
    },
    "papermill": {
     "duration": 0.046854,
     "end_time": "2023-10-19T18:15:40.274512",
     "exception": false,
     "start_time": "2023-10-19T18:15:40.227658",
     "status": "completed"
    },
    "tags": []
   },
   "outputs": [
    {
     "data": {
      "text/plain": [
       "['apple', 'banana', 'cherry', 'orange']"
      ]
     },
     "execution_count": 91,
     "metadata": {},
     "output_type": "execute_result"
    }
   ],
   "source": [
    "fruits = ['apple', 'banana', 'cherry']\n",
    "fruits.append(\"orange\")\n",
    "fruits"
   ]
  },
  {
   "cell_type": "code",
   "execution_count": 92,
   "id": "ffb3abf2",
   "metadata": {
    "execution": {
     "iopub.execute_input": "2023-10-19T18:15:40.342493Z",
     "iopub.status.busy": "2023-10-19T18:15:40.342061Z",
     "iopub.status.idle": "2023-10-19T18:15:40.347296Z",
     "shell.execute_reply": "2023-10-19T18:15:40.346504Z"
    },
    "papermill": {
     "duration": 0.042377,
     "end_time": "2023-10-19T18:15:40.349540",
     "exception": false,
     "start_time": "2023-10-19T18:15:40.307163",
     "status": "completed"
    },
    "tags": []
   },
   "outputs": [],
   "source": [
    "fruits = ['apple', 'banana', 'cherry', 'orange']\n",
    "\n",
    "fruits.clear()"
   ]
  },
  {
   "cell_type": "code",
   "execution_count": 93,
   "id": "3c6fd31e",
   "metadata": {
    "execution": {
     "iopub.execute_input": "2023-10-19T18:15:40.415826Z",
     "iopub.status.busy": "2023-10-19T18:15:40.415453Z",
     "iopub.status.idle": "2023-10-19T18:15:40.423407Z",
     "shell.execute_reply": "2023-10-19T18:15:40.422119Z"
    },
    "papermill": {
     "duration": 0.044109,
     "end_time": "2023-10-19T18:15:40.425794",
     "exception": false,
     "start_time": "2023-10-19T18:15:40.381685",
     "status": "completed"
    },
    "tags": []
   },
   "outputs": [
    {
     "data": {
      "text/plain": [
       "[]"
      ]
     },
     "execution_count": 93,
     "metadata": {},
     "output_type": "execute_result"
    }
   ],
   "source": [
    "fruits "
   ]
  },
  {
   "cell_type": "code",
   "execution_count": 94,
   "id": "d9106cc9",
   "metadata": {
    "execution": {
     "iopub.execute_input": "2023-10-19T18:15:40.492233Z",
     "iopub.status.busy": "2023-10-19T18:15:40.491870Z",
     "iopub.status.idle": "2023-10-19T18:15:40.499017Z",
     "shell.execute_reply": "2023-10-19T18:15:40.497985Z"
    },
    "papermill": {
     "duration": 0.041687,
     "end_time": "2023-10-19T18:15:40.501394",
     "exception": false,
     "start_time": "2023-10-19T18:15:40.459707",
     "status": "completed"
    },
    "tags": []
   },
   "outputs": [
    {
     "data": {
      "text/plain": [
       "2"
      ]
     },
     "execution_count": 94,
     "metadata": {},
     "output_type": "execute_result"
    }
   ],
   "source": [
    "tay = ['sush', 'sush', 'cherry']\n",
    "\n",
    "tay.count(\"sush\")"
   ]
  },
  {
   "cell_type": "code",
   "execution_count": 95,
   "id": "14ed6e16",
   "metadata": {
    "execution": {
     "iopub.execute_input": "2023-10-19T18:15:40.568050Z",
     "iopub.status.busy": "2023-10-19T18:15:40.567697Z",
     "iopub.status.idle": "2023-10-19T18:15:40.575157Z",
     "shell.execute_reply": "2023-10-19T18:15:40.574137Z"
    },
    "papermill": {
     "duration": 0.045021,
     "end_time": "2023-10-19T18:15:40.577562",
     "exception": false,
     "start_time": "2023-10-19T18:15:40.532541",
     "status": "completed"
    },
    "tags": []
   },
   "outputs": [
    {
     "data": {
      "text/plain": [
       "1"
      ]
     },
     "execution_count": 95,
     "metadata": {},
     "output_type": "execute_result"
    }
   ],
   "source": [
    "fruits = ['apple', 'banana', 'cherry']\n",
    "\n",
    "points = (1, 4, 5, 9)\n",
    "\n",
    "fruits.extend(points)\n",
    "fruits[3]"
   ]
  },
  {
   "cell_type": "code",
   "execution_count": 96,
   "id": "05d294e9",
   "metadata": {
    "execution": {
     "iopub.execute_input": "2023-10-19T18:15:40.642248Z",
     "iopub.status.busy": "2023-10-19T18:15:40.641904Z",
     "iopub.status.idle": "2023-10-19T18:15:40.649744Z",
     "shell.execute_reply": "2023-10-19T18:15:40.648257Z"
    },
    "papermill": {
     "duration": 0.042637,
     "end_time": "2023-10-19T18:15:40.651906",
     "exception": false,
     "start_time": "2023-10-19T18:15:40.609269",
     "status": "completed"
    },
    "tags": []
   },
   "outputs": [
    {
     "data": {
      "text/plain": [
       "['apple', 'banana', 'cherry', (1, 4, 5, 9)]"
      ]
     },
     "execution_count": 96,
     "metadata": {},
     "output_type": "execute_result"
    }
   ],
   "source": [
    "fruits = ['apple', 'banana', 'cherry']\n",
    "\n",
    "points = (1, 4, 5, 9)\n",
    "\n",
    "fruits.append(points)\n",
    "fruits"
   ]
  },
  {
   "cell_type": "code",
   "execution_count": 97,
   "id": "ec6f0d91",
   "metadata": {
    "execution": {
     "iopub.execute_input": "2023-10-19T18:15:40.721080Z",
     "iopub.status.busy": "2023-10-19T18:15:40.720716Z",
     "iopub.status.idle": "2023-10-19T18:15:40.727255Z",
     "shell.execute_reply": "2023-10-19T18:15:40.726118Z"
    },
    "papermill": {
     "duration": 0.045541,
     "end_time": "2023-10-19T18:15:40.729345",
     "exception": false,
     "start_time": "2023-10-19T18:15:40.683804",
     "status": "completed"
    },
    "tags": []
   },
   "outputs": [
    {
     "data": {
      "text/plain": [
       "(1, 4, 5, 9)"
      ]
     },
     "execution_count": 97,
     "metadata": {},
     "output_type": "execute_result"
    }
   ],
   "source": [
    "fruits[3]"
   ]
  },
  {
   "cell_type": "code",
   "execution_count": 98,
   "id": "5eb8da96",
   "metadata": {
    "execution": {
     "iopub.execute_input": "2023-10-19T18:15:40.793683Z",
     "iopub.status.busy": "2023-10-19T18:15:40.793289Z",
     "iopub.status.idle": "2023-10-19T18:15:40.799826Z",
     "shell.execute_reply": "2023-10-19T18:15:40.798752Z"
    },
    "papermill": {
     "duration": 0.04114,
     "end_time": "2023-10-19T18:15:40.801899",
     "exception": false,
     "start_time": "2023-10-19T18:15:40.760759",
     "status": "completed"
    },
    "tags": []
   },
   "outputs": [
    {
     "data": {
      "text/plain": [
       "0"
      ]
     },
     "execution_count": 98,
     "metadata": {},
     "output_type": "execute_result"
    }
   ],
   "source": [
    "fruits = ['c001asha', 'coo2swapna', 'c001asha']\n",
    "\n",
    "fruits.index(\"c001asha\")"
   ]
  },
  {
   "cell_type": "code",
   "execution_count": 99,
   "id": "c6479ef7",
   "metadata": {
    "execution": {
     "iopub.execute_input": "2023-10-19T18:15:40.867242Z",
     "iopub.status.busy": "2023-10-19T18:15:40.866874Z",
     "iopub.status.idle": "2023-10-19T18:15:40.873376Z",
     "shell.execute_reply": "2023-10-19T18:15:40.872245Z"
    },
    "papermill": {
     "duration": 0.042352,
     "end_time": "2023-10-19T18:15:40.875851",
     "exception": false,
     "start_time": "2023-10-19T18:15:40.833499",
     "status": "completed"
    },
    "tags": []
   },
   "outputs": [
    {
     "data": {
      "text/plain": [
       "['apple', 'banana', 'orange', 'cherry']"
      ]
     },
     "execution_count": 99,
     "metadata": {},
     "output_type": "execute_result"
    }
   ],
   "source": [
    "fruits = ['apple', 'banana', 'cherry']\n",
    "\n",
    "fruits.insert(2, \"orange\")\n",
    "fruits"
   ]
  },
  {
   "cell_type": "code",
   "execution_count": 100,
   "id": "01dd7032",
   "metadata": {
    "execution": {
     "iopub.execute_input": "2023-10-19T18:15:40.942022Z",
     "iopub.status.busy": "2023-10-19T18:15:40.941650Z",
     "iopub.status.idle": "2023-10-19T18:15:40.948776Z",
     "shell.execute_reply": "2023-10-19T18:15:40.947571Z"
    },
    "papermill": {
     "duration": 0.041987,
     "end_time": "2023-10-19T18:15:40.950932",
     "exception": false,
     "start_time": "2023-10-19T18:15:40.908945",
     "status": "completed"
    },
    "tags": []
   },
   "outputs": [
    {
     "data": {
      "text/plain": [
       "'apple'"
      ]
     },
     "execution_count": 100,
     "metadata": {},
     "output_type": "execute_result"
    }
   ],
   "source": [
    "fruits = ['apple', 'banana', 'cherry']\n",
    "a = fruits.pop(0)\n",
    "a"
   ]
  },
  {
   "cell_type": "code",
   "execution_count": 101,
   "id": "840009a8",
   "metadata": {
    "execution": {
     "iopub.execute_input": "2023-10-19T18:15:41.015676Z",
     "iopub.status.busy": "2023-10-19T18:15:41.015308Z",
     "iopub.status.idle": "2023-10-19T18:15:41.021714Z",
     "shell.execute_reply": "2023-10-19T18:15:41.020518Z"
    },
    "papermill": {
     "duration": 0.042364,
     "end_time": "2023-10-19T18:15:41.024654",
     "exception": false,
     "start_time": "2023-10-19T18:15:40.982290",
     "status": "completed"
    },
    "tags": []
   },
   "outputs": [
    {
     "data": {
      "text/plain": [
       "0"
      ]
     },
     "execution_count": 101,
     "metadata": {},
     "output_type": "execute_result"
    }
   ],
   "source": [
    "fruits = ['apple', 'banana', 'cherry']\n",
    "a = fruits.index(\"apple\")\n",
    "a"
   ]
  },
  {
   "cell_type": "code",
   "execution_count": 102,
   "id": "22913105",
   "metadata": {
    "execution": {
     "iopub.execute_input": "2023-10-19T18:15:41.090101Z",
     "iopub.status.busy": "2023-10-19T18:15:41.089752Z",
     "iopub.status.idle": "2023-10-19T18:15:41.096866Z",
     "shell.execute_reply": "2023-10-19T18:15:41.095812Z"
    },
    "papermill": {
     "duration": 0.042354,
     "end_time": "2023-10-19T18:15:41.098983",
     "exception": false,
     "start_time": "2023-10-19T18:15:41.056629",
     "status": "completed"
    },
    "tags": []
   },
   "outputs": [
    {
     "data": {
      "text/plain": [
       "['apple', 'banana', 'banana']"
      ]
     },
     "execution_count": 102,
     "metadata": {},
     "output_type": "execute_result"
    }
   ],
   "source": [
    "fruits = ['banana', \"apple\",'banana', 'banana']\n",
    "\n",
    "fruits.remove(\"banana\")\n",
    "fruits \n",
    "\n",
    "# ctr a\n",
    "#  ctr /"
   ]
  },
  {
   "cell_type": "code",
   "execution_count": 103,
   "id": "08e7025a",
   "metadata": {
    "execution": {
     "iopub.execute_input": "2023-10-19T18:15:41.164137Z",
     "iopub.status.busy": "2023-10-19T18:15:41.163782Z",
     "iopub.status.idle": "2023-10-19T18:15:41.170505Z",
     "shell.execute_reply": "2023-10-19T18:15:41.169385Z"
    },
    "papermill": {
     "duration": 0.041882,
     "end_time": "2023-10-19T18:15:41.172615",
     "exception": false,
     "start_time": "2023-10-19T18:15:41.130733",
     "status": "completed"
    },
    "tags": []
   },
   "outputs": [
    {
     "data": {
      "text/plain": [
       "['cherry', 'banana', 'apple']"
      ]
     },
     "execution_count": 103,
     "metadata": {},
     "output_type": "execute_result"
    }
   ],
   "source": [
    "fruits = ['apple', 'banana', 'cherry']\n",
    "\n",
    "fruits.reverse()\n",
    "fruits"
   ]
  },
  {
   "cell_type": "code",
   "execution_count": 104,
   "id": "adbca453",
   "metadata": {
    "execution": {
     "iopub.execute_input": "2023-10-19T18:15:41.239233Z",
     "iopub.status.busy": "2023-10-19T18:15:41.238850Z",
     "iopub.status.idle": "2023-10-19T18:15:41.246037Z",
     "shell.execute_reply": "2023-10-19T18:15:41.244652Z"
    },
    "papermill": {
     "duration": 0.043461,
     "end_time": "2023-10-19T18:15:41.248239",
     "exception": false,
     "start_time": "2023-10-19T18:15:41.204778",
     "status": "completed"
    },
    "tags": []
   },
   "outputs": [
    {
     "data": {
      "text/plain": [
       "[20, 11, 9, 30]"
      ]
     },
     "execution_count": 104,
     "metadata": {},
     "output_type": "execute_result"
    }
   ],
   "source": [
    "a= [20,11,9,30]\n",
    "a"
   ]
  },
  {
   "cell_type": "code",
   "execution_count": 105,
   "id": "2bdd8397",
   "metadata": {
    "execution": {
     "iopub.execute_input": "2023-10-19T18:15:41.315898Z",
     "iopub.status.busy": "2023-10-19T18:15:41.315548Z",
     "iopub.status.idle": "2023-10-19T18:15:41.321662Z",
     "shell.execute_reply": "2023-10-19T18:15:41.320465Z"
    },
    "papermill": {
     "duration": 0.042565,
     "end_time": "2023-10-19T18:15:41.323889",
     "exception": false,
     "start_time": "2023-10-19T18:15:41.281324",
     "status": "completed"
    },
    "tags": []
   },
   "outputs": [
    {
     "data": {
      "text/plain": [
       "[30, 20, 11, 9]"
      ]
     },
     "execution_count": 105,
     "metadata": {},
     "output_type": "execute_result"
    }
   ],
   "source": [
    "a.sort(reverse = True)\n",
    "a"
   ]
  },
  {
   "cell_type": "code",
   "execution_count": 106,
   "id": "3ab4e9d5",
   "metadata": {
    "execution": {
     "iopub.execute_input": "2023-10-19T18:15:41.390876Z",
     "iopub.status.busy": "2023-10-19T18:15:41.390488Z",
     "iopub.status.idle": "2023-10-19T18:15:41.397601Z",
     "shell.execute_reply": "2023-10-19T18:15:41.396255Z"
    },
    "papermill": {
     "duration": 0.043761,
     "end_time": "2023-10-19T18:15:41.399977",
     "exception": false,
     "start_time": "2023-10-19T18:15:41.356216",
     "status": "completed"
    },
    "tags": []
   },
   "outputs": [
    {
     "data": {
      "text/plain": [
       "[10, 20, 30, [40, 50, 60]]"
      ]
     },
     "execution_count": 106,
     "metadata": {},
     "output_type": "execute_result"
    }
   ],
   "source": [
    "d = [10,20,30]\n",
    "d.append([40,50,60])\n",
    "d"
   ]
  },
  {
   "cell_type": "code",
   "execution_count": 107,
   "id": "7500a634",
   "metadata": {
    "execution": {
     "iopub.execute_input": "2023-10-19T18:15:41.466544Z",
     "iopub.status.busy": "2023-10-19T18:15:41.466052Z",
     "iopub.status.idle": "2023-10-19T18:15:41.472970Z",
     "shell.execute_reply": "2023-10-19T18:15:41.471923Z"
    },
    "papermill": {
     "duration": 0.042764,
     "end_time": "2023-10-19T18:15:41.474985",
     "exception": false,
     "start_time": "2023-10-19T18:15:41.432221",
     "status": "completed"
    },
    "tags": []
   },
   "outputs": [
    {
     "data": {
      "text/plain": [
       "[10, 20, 30, 40, 50, 60]"
      ]
     },
     "execution_count": 107,
     "metadata": {},
     "output_type": "execute_result"
    }
   ],
   "source": [
    "e = [10,20,30]\n",
    "e.extend([40,50,60])\n",
    "e"
   ]
  },
  {
   "cell_type": "code",
   "execution_count": 108,
   "id": "fd5b5661",
   "metadata": {
    "execution": {
     "iopub.execute_input": "2023-10-19T18:15:41.542723Z",
     "iopub.status.busy": "2023-10-19T18:15:41.542230Z",
     "iopub.status.idle": "2023-10-19T18:15:41.549667Z",
     "shell.execute_reply": "2023-10-19T18:15:41.548528Z"
    },
    "papermill": {
     "duration": 0.044689,
     "end_time": "2023-10-19T18:15:41.551966",
     "exception": false,
     "start_time": "2023-10-19T18:15:41.507277",
     "status": "completed"
    },
    "tags": []
   },
   "outputs": [
    {
     "data": {
      "text/plain": [
       "[2, 3, 4]"
      ]
     },
     "execution_count": 108,
     "metadata": {},
     "output_type": "execute_result"
    }
   ],
   "source": [
    "a = [2,3,4,4]\n",
    "a = list(set(a))\n",
    "a"
   ]
  },
  {
   "cell_type": "code",
   "execution_count": 109,
   "id": "318fbc43",
   "metadata": {
    "execution": {
     "iopub.execute_input": "2023-10-19T18:15:41.684631Z",
     "iopub.status.busy": "2023-10-19T18:15:41.684253Z",
     "iopub.status.idle": "2023-10-19T18:15:41.690047Z",
     "shell.execute_reply": "2023-10-19T18:15:41.689022Z"
    },
    "papermill": {
     "duration": 0.106663,
     "end_time": "2023-10-19T18:15:41.692296",
     "exception": false,
     "start_time": "2023-10-19T18:15:41.585633",
     "status": "completed"
    },
    "tags": []
   },
   "outputs": [
    {
     "name": "stdout",
     "output_type": "stream",
     "text": [
      "yes\n",
      "tayyab\n",
      "prasad\n"
     ]
    }
   ],
   "source": [
    "if 9 > 6 : \n",
    "    print(\"yes\")\n",
    "    print(\"tayyab\")\n",
    "    \n",
    "print(\"prasad\")\n"
   ]
  },
  {
   "cell_type": "code",
   "execution_count": 110,
   "id": "752703ee",
   "metadata": {
    "execution": {
     "iopub.execute_input": "2023-10-19T18:15:41.761971Z",
     "iopub.status.busy": "2023-10-19T18:15:41.761616Z",
     "iopub.status.idle": "2023-10-19T18:15:41.767995Z",
     "shell.execute_reply": "2023-10-19T18:15:41.766701Z"
    },
    "papermill": {
     "duration": 0.042523,
     "end_time": "2023-10-19T18:15:41.770149",
     "exception": false,
     "start_time": "2023-10-19T18:15:41.727626",
     "status": "completed"
    },
    "tags": []
   },
   "outputs": [
    {
     "name": "stdout",
     "output_type": "stream",
     "text": [
      "prasad\n"
     ]
    }
   ],
   "source": [
    "if 9 > 16 : \n",
    "    print(\"yes\")\n",
    "    print(\"tayyab\")\n",
    "    \n",
    "print(\"prasad\")"
   ]
  },
  {
   "cell_type": "code",
   "execution_count": 111,
   "id": "859da8fe",
   "metadata": {
    "execution": {
     "iopub.execute_input": "2023-10-19T18:15:41.837650Z",
     "iopub.status.busy": "2023-10-19T18:15:41.837239Z",
     "iopub.status.idle": "2023-10-19T18:15:41.842101Z",
     "shell.execute_reply": "2023-10-19T18:15:41.841241Z"
    },
    "papermill": {
     "duration": 0.041242,
     "end_time": "2023-10-19T18:15:41.844182",
     "exception": false,
     "start_time": "2023-10-19T18:15:41.802940",
     "status": "completed"
    },
    "tags": []
   },
   "outputs": [],
   "source": [
    "# select *\n",
    "#             from table1"
   ]
  },
  {
   "cell_type": "code",
   "execution_count": 112,
   "id": "6f0b6f47",
   "metadata": {
    "execution": {
     "iopub.execute_input": "2023-10-19T18:15:41.911354Z",
     "iopub.status.busy": "2023-10-19T18:15:41.911028Z",
     "iopub.status.idle": "2023-10-19T18:15:41.917248Z",
     "shell.execute_reply": "2023-10-19T18:15:41.916157Z"
    },
    "papermill": {
     "duration": 0.042431,
     "end_time": "2023-10-19T18:15:41.919501",
     "exception": false,
     "start_time": "2023-10-19T18:15:41.877070",
     "status": "completed"
    },
    "tags": []
   },
   "outputs": [
    {
     "name": "stdout",
     "output_type": "stream",
     "text": [
      "the girl got distinction\n",
      "distinction\n"
     ]
    }
   ],
   "source": [
    "marks = 80\n",
    "gender = \"female\"\n",
    "\n",
    "\n",
    "if marks > 75 :  \n",
    "    if gender == \"male\" :\n",
    "        print(\"the boy got distinction\")\n",
    "    else :\n",
    "        print(\"the girl got distinction\")        \n",
    "    print(\"distinction\")\n",
    "elif marks > 50 :\n",
    "    print(\"pass\")\n",
    "else :\n",
    "    print(\"fail\")"
   ]
  },
  {
   "cell_type": "code",
   "execution_count": 113,
   "id": "c610bd98",
   "metadata": {
    "execution": {
     "iopub.execute_input": "2023-10-19T18:15:41.987173Z",
     "iopub.status.busy": "2023-10-19T18:15:41.986527Z",
     "iopub.status.idle": "2023-10-19T18:15:41.991739Z",
     "shell.execute_reply": "2023-10-19T18:15:41.991019Z"
    },
    "papermill": {
     "duration": 0.041473,
     "end_time": "2023-10-19T18:15:41.993741",
     "exception": false,
     "start_time": "2023-10-19T18:15:41.952268",
     "status": "completed"
    },
    "tags": []
   },
   "outputs": [
    {
     "name": "stdout",
     "output_type": "stream",
     "text": [
      "mlv 100\n",
      "mlv 97\n",
      "mlv 94\n",
      "mlv 91\n"
     ]
    }
   ],
   "source": [
    "salary = 100\n",
    "\n",
    "while salary > 90 :\n",
    "    print(\"mlv\",salary )\n",
    "    salary = salary - 3"
   ]
  },
  {
   "cell_type": "code",
   "execution_count": 114,
   "id": "e4b7c42a",
   "metadata": {
    "execution": {
     "iopub.execute_input": "2023-10-19T18:15:42.061215Z",
     "iopub.status.busy": "2023-10-19T18:15:42.060496Z",
     "iopub.status.idle": "2023-10-19T18:15:42.066196Z",
     "shell.execute_reply": "2023-10-19T18:15:42.064944Z"
    },
    "papermill": {
     "duration": 0.042007,
     "end_time": "2023-10-19T18:15:42.068365",
     "exception": false,
     "start_time": "2023-10-19T18:15:42.026358",
     "status": "completed"
    },
    "tags": []
   },
   "outputs": [
    {
     "name": "stdout",
     "output_type": "stream",
     "text": [
      "10\n",
      "----\n",
      "13\n",
      "----\n",
      "16\n",
      "----\n",
      "19\n",
      "----\n"
     ]
    }
   ],
   "source": [
    "for i in  range(10,20,3) :\n",
    "    print(i)\n",
    "    print(\"----\")"
   ]
  },
  {
   "cell_type": "code",
   "execution_count": 115,
   "id": "e4a9c1c1",
   "metadata": {
    "execution": {
     "iopub.execute_input": "2023-10-19T18:15:42.136323Z",
     "iopub.status.busy": "2023-10-19T18:15:42.135965Z",
     "iopub.status.idle": "2023-10-19T18:15:42.141896Z",
     "shell.execute_reply": "2023-10-19T18:15:42.140695Z"
    },
    "papermill": {
     "duration": 0.042504,
     "end_time": "2023-10-19T18:15:42.144181",
     "exception": false,
     "start_time": "2023-10-19T18:15:42.101677",
     "status": "completed"
    },
    "tags": []
   },
   "outputs": [
    {
     "name": "stdout",
     "output_type": "stream",
     "text": [
      "10\n",
      "----\n",
      "husna\n",
      "13\n",
      "----\n",
      "husna\n",
      "16\n",
      "----\n",
      "husna\n",
      "19\n",
      "----\n",
      "husna\n"
     ]
    }
   ],
   "source": [
    "for i in  [10,13,16,19] :\n",
    "    print(i)\n",
    "    print(\"----\")\n",
    "    print(\"husna\")"
   ]
  },
  {
   "cell_type": "code",
   "execution_count": 116,
   "id": "56840410",
   "metadata": {
    "execution": {
     "iopub.execute_input": "2023-10-19T18:15:42.212296Z",
     "iopub.status.busy": "2023-10-19T18:15:42.211243Z",
     "iopub.status.idle": "2023-10-19T18:15:42.216885Z",
     "shell.execute_reply": "2023-10-19T18:15:42.215862Z"
    },
    "papermill": {
     "duration": 0.041856,
     "end_time": "2023-10-19T18:15:42.218851",
     "exception": false,
     "start_time": "2023-10-19T18:15:42.176995",
     "status": "completed"
    },
    "tags": []
   },
   "outputs": [
    {
     "name": "stdout",
     "output_type": "stream",
     "text": [
      "the element is  10\n",
      "the element is  20\n",
      "the element is  30\n",
      "the element is  40\n",
      "the element is  50\n"
     ]
    }
   ],
   "source": [
    "a = [10,20,30,40,50]\n",
    "\n",
    "for  abhi  in a :\n",
    "    print(\"the element is \",abhi)"
   ]
  },
  {
   "cell_type": "code",
   "execution_count": 117,
   "id": "64332005",
   "metadata": {
    "execution": {
     "iopub.execute_input": "2023-10-19T18:15:42.291160Z",
     "iopub.status.busy": "2023-10-19T18:15:42.290781Z",
     "iopub.status.idle": "2023-10-19T18:15:42.296604Z",
     "shell.execute_reply": "2023-10-19T18:15:42.295503Z"
    },
    "papermill": {
     "duration": 0.045741,
     "end_time": "2023-10-19T18:15:42.298774",
     "exception": false,
     "start_time": "2023-10-19T18:15:42.253033",
     "status": "completed"
    },
    "tags": []
   },
   "outputs": [
    {
     "name": "stdout",
     "output_type": "stream",
     "text": [
      "the element is  10\n",
      "the element is  20\n",
      "the element is  30\n",
      "the element is  40\n",
      "the element is  50\n"
     ]
    }
   ],
   "source": [
    "a = [10,20,30,40,50]\n",
    "\n",
    "for abhi in range(len(a)) : # [ 0,1,2,3,4]\n",
    "    print(\"the element is \",a[abhi])\n",
    "    "
   ]
  },
  {
   "cell_type": "code",
   "execution_count": 118,
   "id": "deae67a7",
   "metadata": {
    "execution": {
     "iopub.execute_input": "2023-10-19T18:15:42.366959Z",
     "iopub.status.busy": "2023-10-19T18:15:42.366569Z",
     "iopub.status.idle": "2023-10-19T18:15:42.371975Z",
     "shell.execute_reply": "2023-10-19T18:15:42.370992Z"
    },
    "papermill": {
     "duration": 0.042564,
     "end_time": "2023-10-19T18:15:42.374671",
     "exception": false,
     "start_time": "2023-10-19T18:15:42.332107",
     "status": "completed"
    },
    "tags": []
   },
   "outputs": [
    {
     "name": "stdout",
     "output_type": "stream",
     "text": [
      "1\n",
      "2\n",
      "3\n",
      "4\n"
     ]
    }
   ],
   "source": [
    "for i in range(1,5):\n",
    "    print(i)"
   ]
  },
  {
   "cell_type": "markdown",
   "id": "4dd3665b",
   "metadata": {
    "papermill": {
     "duration": 0.034037,
     "end_time": "2023-10-19T18:15:42.441933",
     "exception": false,
     "start_time": "2023-10-19T18:15:42.407896",
     "status": "completed"
    },
    "tags": []
   },
   "source": [
    "### "
   ]
  },
  {
   "cell_type": "code",
   "execution_count": 119,
   "id": "12828fe8",
   "metadata": {
    "execution": {
     "iopub.execute_input": "2023-10-19T18:15:42.510514Z",
     "iopub.status.busy": "2023-10-19T18:15:42.510077Z",
     "iopub.status.idle": "2023-10-19T18:15:42.516120Z",
     "shell.execute_reply": "2023-10-19T18:15:42.514888Z"
    },
    "papermill": {
     "duration": 0.043234,
     "end_time": "2023-10-19T18:15:42.518224",
     "exception": false,
     "start_time": "2023-10-19T18:15:42.474990",
     "status": "completed"
    },
    "tags": []
   },
   "outputs": [
    {
     "name": "stdout",
     "output_type": "stream",
     "text": [
      "{'apple', 'banana', 'orange', 'cherry'}\n"
     ]
    }
   ],
   "source": [
    "fruits = {\"apple\", \"banana\", \"cherry\"}\n",
    "\n",
    "fruits.add(\"orange\")\n",
    "\n",
    "print(fruits)"
   ]
  },
  {
   "cell_type": "code",
   "execution_count": 120,
   "id": "20508711",
   "metadata": {
    "execution": {
     "iopub.execute_input": "2023-10-19T18:15:42.588836Z",
     "iopub.status.busy": "2023-10-19T18:15:42.588362Z",
     "iopub.status.idle": "2023-10-19T18:15:42.593830Z",
     "shell.execute_reply": "2023-10-19T18:15:42.592640Z"
    },
    "papermill": {
     "duration": 0.042873,
     "end_time": "2023-10-19T18:15:42.595902",
     "exception": false,
     "start_time": "2023-10-19T18:15:42.553029",
     "status": "completed"
    },
    "tags": []
   },
   "outputs": [
    {
     "name": "stdout",
     "output_type": "stream",
     "text": [
      "{'tayyab'}\n"
     ]
    }
   ],
   "source": [
    "fruits = {\"apple\", \"banana\", \"cherry\"}\n",
    "\n",
    "fruits.clear()\n",
    "\n",
    "fruits.add(\"tayyab\")\n",
    "\n",
    "print(fruits)"
   ]
  },
  {
   "cell_type": "code",
   "execution_count": 121,
   "id": "65074274",
   "metadata": {
    "execution": {
     "iopub.execute_input": "2023-10-19T18:15:42.665153Z",
     "iopub.status.busy": "2023-10-19T18:15:42.664718Z",
     "iopub.status.idle": "2023-10-19T18:15:42.670496Z",
     "shell.execute_reply": "2023-10-19T18:15:42.669597Z"
    },
    "papermill": {
     "duration": 0.04383,
     "end_time": "2023-10-19T18:15:42.672629",
     "exception": false,
     "start_time": "2023-10-19T18:15:42.628799",
     "status": "completed"
    },
    "tags": []
   },
   "outputs": [
    {
     "name": "stdout",
     "output_type": "stream",
     "text": [
      "{'banana', 'cherry'}\n"
     ]
    }
   ],
   "source": [
    "x = {\"apple\", \"banana\", \"cherry\"}\n",
    "y = {\"google\", \"microsoft\", \"apple\"}\n",
    "\n",
    "z = x.difference(y)\n",
    "\n",
    "print(z)"
   ]
  },
  {
   "cell_type": "code",
   "execution_count": 122,
   "id": "be08338b",
   "metadata": {
    "execution": {
     "iopub.execute_input": "2023-10-19T18:15:42.740742Z",
     "iopub.status.busy": "2023-10-19T18:15:42.740357Z",
     "iopub.status.idle": "2023-10-19T18:15:42.746059Z",
     "shell.execute_reply": "2023-10-19T18:15:42.744830Z"
    },
    "papermill": {
     "duration": 0.042577,
     "end_time": "2023-10-19T18:15:42.748376",
     "exception": false,
     "start_time": "2023-10-19T18:15:42.705799",
     "status": "completed"
    },
    "tags": []
   },
   "outputs": [
    {
     "name": "stdout",
     "output_type": "stream",
     "text": [
      "{'apple'}\n"
     ]
    }
   ],
   "source": [
    "x = {\"apple\", \"banana\", \"cherry\"}\n",
    "y = {\"google\", \"microsoft\", \"apple\"}\n",
    "\n",
    "z = y.intersection(x)\n",
    "\n",
    "print(z)"
   ]
  },
  {
   "cell_type": "code",
   "execution_count": 123,
   "id": "f3a5347f",
   "metadata": {
    "execution": {
     "iopub.execute_input": "2023-10-19T18:15:42.817328Z",
     "iopub.status.busy": "2023-10-19T18:15:42.816238Z",
     "iopub.status.idle": "2023-10-19T18:15:42.822527Z",
     "shell.execute_reply": "2023-10-19T18:15:42.821514Z"
    },
    "papermill": {
     "duration": 0.042512,
     "end_time": "2023-10-19T18:15:42.824427",
     "exception": false,
     "start_time": "2023-10-19T18:15:42.781915",
     "status": "completed"
    },
    "tags": []
   },
   "outputs": [
    {
     "name": "stdout",
     "output_type": "stream",
     "text": [
      "False\n"
     ]
    }
   ],
   "source": [
    "x = {\"apple\", \"google\", \"cherry\"}\n",
    "y = {\"google\", \"microsoft\", \"facebook\"}\n",
    "\n",
    "z = x.isdisjoint(y)\n",
    "\n",
    "print(z)\n"
   ]
  },
  {
   "cell_type": "code",
   "execution_count": 124,
   "id": "a5cfd95b",
   "metadata": {
    "execution": {
     "iopub.execute_input": "2023-10-19T18:15:42.893238Z",
     "iopub.status.busy": "2023-10-19T18:15:42.892903Z",
     "iopub.status.idle": "2023-10-19T18:15:42.898691Z",
     "shell.execute_reply": "2023-10-19T18:15:42.897513Z"
    },
    "papermill": {
     "duration": 0.043314,
     "end_time": "2023-10-19T18:15:42.900889",
     "exception": false,
     "start_time": "2023-10-19T18:15:42.857575",
     "status": "completed"
    },
    "tags": []
   },
   "outputs": [
    {
     "name": "stdout",
     "output_type": "stream",
     "text": [
      "False\n"
     ]
    }
   ],
   "source": [
    "x = {\"a\", \"b\", \"h\"}\n",
    "y = {\"f\", \"e\", \"d\", \"c\", \"b\", \"a\"}\n",
    "\n",
    "z = x.issubset(y)\n",
    "\n",
    "print(z)"
   ]
  },
  {
   "cell_type": "code",
   "execution_count": 125,
   "id": "7ef41a04",
   "metadata": {
    "execution": {
     "iopub.execute_input": "2023-10-19T18:15:42.971470Z",
     "iopub.status.busy": "2023-10-19T18:15:42.970157Z",
     "iopub.status.idle": "2023-10-19T18:15:42.976652Z",
     "shell.execute_reply": "2023-10-19T18:15:42.975508Z"
    },
    "papermill": {
     "duration": 0.044189,
     "end_time": "2023-10-19T18:15:42.978743",
     "exception": false,
     "start_time": "2023-10-19T18:15:42.934554",
     "status": "completed"
    },
    "tags": []
   },
   "outputs": [
    {
     "name": "stdout",
     "output_type": "stream",
     "text": [
      "False\n"
     ]
    }
   ],
   "source": [
    "x = {\"f\", \"e\", \"d\", \"c\", \"b\", \"a\"}\n",
    "y = {\"a\", \"b\", \"z\"}\n",
    "\n",
    "z = x.issuperset(y)\n",
    "\n",
    "print(z)"
   ]
  },
  {
   "cell_type": "code",
   "execution_count": 126,
   "id": "da6346e3",
   "metadata": {
    "execution": {
     "iopub.execute_input": "2023-10-19T18:15:43.048728Z",
     "iopub.status.busy": "2023-10-19T18:15:43.048307Z",
     "iopub.status.idle": "2023-10-19T18:15:43.054236Z",
     "shell.execute_reply": "2023-10-19T18:15:43.053022Z"
    },
    "papermill": {
     "duration": 0.04465,
     "end_time": "2023-10-19T18:15:43.056841",
     "exception": false,
     "start_time": "2023-10-19T18:15:43.012191",
     "status": "completed"
    },
    "tags": []
   },
   "outputs": [
    {
     "name": "stdout",
     "output_type": "stream",
     "text": [
      "{'banana', 'cherry'}\n"
     ]
    }
   ],
   "source": [
    "fruits = {\"apple\", \"banana\", \"cherry\"}\n",
    "\n",
    "fruits.pop()\n",
    "\n",
    "print(fruits)"
   ]
  },
  {
   "cell_type": "code",
   "execution_count": 127,
   "id": "b45d0e8d",
   "metadata": {
    "execution": {
     "iopub.execute_input": "2023-10-19T18:15:43.130322Z",
     "iopub.status.busy": "2023-10-19T18:15:43.129205Z",
     "iopub.status.idle": "2023-10-19T18:15:43.135765Z",
     "shell.execute_reply": "2023-10-19T18:15:43.134617Z"
    },
    "papermill": {
     "duration": 0.046855,
     "end_time": "2023-10-19T18:15:43.137664",
     "exception": false,
     "start_time": "2023-10-19T18:15:43.090809",
     "status": "completed"
    },
    "tags": []
   },
   "outputs": [
    {
     "name": "stdout",
     "output_type": "stream",
     "text": [
      "{'apple', 'banana', 'cherry'}\n"
     ]
    }
   ],
   "source": [
    "x = {\"apple\", \"banana\", \"cherry\"}\n",
    "y = {\"google\", \"microsoft\", \"apple\"}\n",
    "\n",
    "z = x.union(y)\n",
    "\n",
    "print(x)"
   ]
  },
  {
   "cell_type": "code",
   "execution_count": 128,
   "id": "1601d898",
   "metadata": {
    "execution": {
     "iopub.execute_input": "2023-10-19T18:15:43.209359Z",
     "iopub.status.busy": "2023-10-19T18:15:43.208098Z",
     "iopub.status.idle": "2023-10-19T18:15:43.215247Z",
     "shell.execute_reply": "2023-10-19T18:15:43.213764Z"
    },
    "papermill": {
     "duration": 0.044659,
     "end_time": "2023-10-19T18:15:43.217577",
     "exception": false,
     "start_time": "2023-10-19T18:15:43.172918",
     "status": "completed"
    },
    "tags": []
   },
   "outputs": [
    {
     "name": "stdout",
     "output_type": "stream",
     "text": [
      "{'google', 'microsoft', 'apple', 'banana', 'cherry'}\n"
     ]
    }
   ],
   "source": [
    "x = {\"apple\", \"banana\", \"cherry\"}\n",
    "y = {\"google\", \"microsoft\", \"apple\"}\n",
    "\n",
    "x.update(y)\n",
    "\n",
    "print(x)"
   ]
  },
  {
   "cell_type": "code",
   "execution_count": 129,
   "id": "b223b37c",
   "metadata": {
    "execution": {
     "iopub.execute_input": "2023-10-19T18:15:43.292035Z",
     "iopub.status.busy": "2023-10-19T18:15:43.290724Z",
     "iopub.status.idle": "2023-10-19T18:15:43.296729Z",
     "shell.execute_reply": "2023-10-19T18:15:43.295896Z"
    },
    "papermill": {
     "duration": 0.047491,
     "end_time": "2023-10-19T18:15:43.299042",
     "exception": false,
     "start_time": "2023-10-19T18:15:43.251551",
     "status": "completed"
    },
    "tags": []
   },
   "outputs": [
    {
     "name": "stdout",
     "output_type": "stream",
     "text": [
      "{'key 1': 'sush', 'key 2': 'sush', 'key 3': 'sush'}\n"
     ]
    }
   ],
   "source": [
    "x = ('key 1', 'key 2', 'key 3')\n",
    "y = \"sush\"\n",
    "\n",
    "thisdict = dict.fromkeys(x, y)\n",
    "\n",
    "print(thisdict)"
   ]
  },
  {
   "cell_type": "code",
   "execution_count": 130,
   "id": "d0c51ed3",
   "metadata": {
    "execution": {
     "iopub.execute_input": "2023-10-19T18:15:43.369893Z",
     "iopub.status.busy": "2023-10-19T18:15:43.369543Z",
     "iopub.status.idle": "2023-10-19T18:15:43.376636Z",
     "shell.execute_reply": "2023-10-19T18:15:43.375551Z"
    },
    "papermill": {
     "duration": 0.045011,
     "end_time": "2023-10-19T18:15:43.378613",
     "exception": false,
     "start_time": "2023-10-19T18:15:43.333602",
     "status": "completed"
    },
    "tags": []
   },
   "outputs": [
    {
     "data": {
      "text/plain": [
       "{'key 1': 'sush', 'key 2': 'sush', 'key 3 ': 'sush'}"
      ]
     },
     "execution_count": 130,
     "metadata": {},
     "output_type": "execute_result"
    }
   ],
   "source": [
    "thisdict  = { \"key 1\" : \"sush\",\n",
    "            \"key 2\" : \"sush\",\n",
    "            \"key 3 \" : \"sush\"}\n",
    "thisdict"
   ]
  },
  {
   "cell_type": "code",
   "execution_count": 131,
   "id": "0cd0ce4b",
   "metadata": {
    "execution": {
     "iopub.execute_input": "2023-10-19T18:15:43.449523Z",
     "iopub.status.busy": "2023-10-19T18:15:43.448920Z",
     "iopub.status.idle": "2023-10-19T18:15:43.452812Z",
     "shell.execute_reply": "2023-10-19T18:15:43.451923Z"
    },
    "papermill": {
     "duration": 0.042434,
     "end_time": "2023-10-19T18:15:43.454853",
     "exception": false,
     "start_time": "2023-10-19T18:15:43.412419",
     "status": "completed"
    },
    "tags": []
   },
   "outputs": [],
   "source": [
    "x = ('st 1', 'st 2', 'st 3')\n",
    "y = 0 "
   ]
  },
  {
   "cell_type": "code",
   "execution_count": 132,
   "id": "70bd4230",
   "metadata": {
    "execution": {
     "iopub.execute_input": "2023-10-19T18:15:43.526900Z",
     "iopub.status.busy": "2023-10-19T18:15:43.526264Z",
     "iopub.status.idle": "2023-10-19T18:15:43.531757Z",
     "shell.execute_reply": "2023-10-19T18:15:43.530815Z"
    },
    "papermill": {
     "duration": 0.043966,
     "end_time": "2023-10-19T18:15:43.533766",
     "exception": false,
     "start_time": "2023-10-19T18:15:43.489800",
     "status": "completed"
    },
    "tags": []
   },
   "outputs": [
    {
     "data": {
      "text/plain": [
       "'Mustang'"
      ]
     },
     "execution_count": 132,
     "metadata": {},
     "output_type": "execute_result"
    }
   ],
   "source": [
    "car = {\n",
    "  \"brand\": \"Ford\",\n",
    "  \"model\": \"Mustang\",\n",
    "  \"year\": 1964\n",
    "}\n",
    "\n",
    "car.get(\"model\")\n",
    "\n"
   ]
  },
  {
   "cell_type": "code",
   "execution_count": 133,
   "id": "4b353e05",
   "metadata": {
    "execution": {
     "iopub.execute_input": "2023-10-19T18:15:43.605325Z",
     "iopub.status.busy": "2023-10-19T18:15:43.604748Z",
     "iopub.status.idle": "2023-10-19T18:15:43.610219Z",
     "shell.execute_reply": "2023-10-19T18:15:43.609576Z"
    },
    "papermill": {
     "duration": 0.043965,
     "end_time": "2023-10-19T18:15:43.611950",
     "exception": false,
     "start_time": "2023-10-19T18:15:43.567985",
     "status": "completed"
    },
    "tags": []
   },
   "outputs": [
    {
     "data": {
      "text/plain": [
       "'Mustang'"
      ]
     },
     "execution_count": 133,
     "metadata": {},
     "output_type": "execute_result"
    }
   ],
   "source": [
    "car = {\n",
    "  \"brand\": \"Ford\",\n",
    "  \"model\": \"Mustang\",\n",
    "  \"year\": 1964\n",
    "}\n",
    "car[\"model\"]"
   ]
  },
  {
   "cell_type": "code",
   "execution_count": 134,
   "id": "d9eeca31",
   "metadata": {
    "execution": {
     "iopub.execute_input": "2023-10-19T18:15:43.682038Z",
     "iopub.status.busy": "2023-10-19T18:15:43.681049Z",
     "iopub.status.idle": "2023-10-19T18:15:43.687812Z",
     "shell.execute_reply": "2023-10-19T18:15:43.686849Z"
    },
    "papermill": {
     "duration": 0.044256,
     "end_time": "2023-10-19T18:15:43.690046",
     "exception": false,
     "start_time": "2023-10-19T18:15:43.645790",
     "status": "completed"
    },
    "tags": []
   },
   "outputs": [
    {
     "data": {
      "text/plain": [
       "dict_keys(['brand', 'model', 'year'])"
      ]
     },
     "execution_count": 134,
     "metadata": {},
     "output_type": "execute_result"
    }
   ],
   "source": [
    "car = {\n",
    "  \"brand\": \"Ford\",\n",
    "  \"model\": \"Mustang\",\n",
    "  \"year\": 1964\n",
    "}\n",
    "\n",
    "car.keys()"
   ]
  },
  {
   "cell_type": "code",
   "execution_count": 135,
   "id": "de70c50f",
   "metadata": {
    "execution": {
     "iopub.execute_input": "2023-10-19T18:15:43.764833Z",
     "iopub.status.busy": "2023-10-19T18:15:43.764314Z",
     "iopub.status.idle": "2023-10-19T18:15:43.771128Z",
     "shell.execute_reply": "2023-10-19T18:15:43.770337Z"
    },
    "papermill": {
     "duration": 0.044283,
     "end_time": "2023-10-19T18:15:43.773102",
     "exception": false,
     "start_time": "2023-10-19T18:15:43.728819",
     "status": "completed"
    },
    "tags": []
   },
   "outputs": [
    {
     "data": {
      "text/plain": [
       "dict_values(['Ford', 'Mustang', 1964])"
      ]
     },
     "execution_count": 135,
     "metadata": {},
     "output_type": "execute_result"
    }
   ],
   "source": [
    "car.values()"
   ]
  },
  {
   "cell_type": "code",
   "execution_count": 136,
   "id": "4f5fd8c2",
   "metadata": {
    "execution": {
     "iopub.execute_input": "2023-10-19T18:15:43.845196Z",
     "iopub.status.busy": "2023-10-19T18:15:43.844497Z",
     "iopub.status.idle": "2023-10-19T18:15:43.850474Z",
     "shell.execute_reply": "2023-10-19T18:15:43.849710Z"
    },
    "papermill": {
     "duration": 0.04453,
     "end_time": "2023-10-19T18:15:43.852332",
     "exception": false,
     "start_time": "2023-10-19T18:15:43.807802",
     "status": "completed"
    },
    "tags": []
   },
   "outputs": [
    {
     "data": {
      "text/plain": [
       "dict_items([('brand', 'Ford'), ('model', 'Mustang'), ('year', 1964)])"
      ]
     },
     "execution_count": 136,
     "metadata": {},
     "output_type": "execute_result"
    }
   ],
   "source": [
    "car.items()"
   ]
  },
  {
   "cell_type": "code",
   "execution_count": 137,
   "id": "4824925d",
   "metadata": {
    "execution": {
     "iopub.execute_input": "2023-10-19T18:15:43.926376Z",
     "iopub.status.busy": "2023-10-19T18:15:43.926055Z",
     "iopub.status.idle": "2023-10-19T18:15:43.931304Z",
     "shell.execute_reply": "2023-10-19T18:15:43.930005Z"
    },
    "papermill": {
     "duration": 0.045606,
     "end_time": "2023-10-19T18:15:43.934402",
     "exception": false,
     "start_time": "2023-10-19T18:15:43.888796",
     "status": "completed"
    },
    "tags": []
   },
   "outputs": [
    {
     "name": "stdout",
     "output_type": "stream",
     "text": [
      "{'brand': 'Ford', 'year': 1964}\n"
     ]
    }
   ],
   "source": [
    "car = {\n",
    "  \"brand\": \"Ford\",\n",
    "  \"model\": \"Mustang\",\n",
    "  \"year\": 1964\n",
    "}\n",
    "\n",
    "car.pop(\"model\")\n",
    "\n",
    "print(car)"
   ]
  },
  {
   "cell_type": "code",
   "execution_count": 138,
   "id": "3c8afe3a",
   "metadata": {
    "execution": {
     "iopub.execute_input": "2023-10-19T18:15:44.006398Z",
     "iopub.status.busy": "2023-10-19T18:15:44.006026Z",
     "iopub.status.idle": "2023-10-19T18:15:44.011417Z",
     "shell.execute_reply": "2023-10-19T18:15:44.010529Z"
    },
    "papermill": {
     "duration": 0.043635,
     "end_time": "2023-10-19T18:15:44.013775",
     "exception": false,
     "start_time": "2023-10-19T18:15:43.970140",
     "status": "completed"
    },
    "tags": []
   },
   "outputs": [
    {
     "name": "stdout",
     "output_type": "stream",
     "text": [
      "{'brand': 'Ford', 'model': 'Mustang'}\n"
     ]
    }
   ],
   "source": [
    "car = {\n",
    "  \"brand\": \"Ford\",\n",
    "  \"model\": \"Mustang\",\n",
    "  \"year\": 1964\n",
    "}\n",
    "\n",
    "car.popitem()\n",
    "\n",
    "print(car)"
   ]
  },
  {
   "cell_type": "code",
   "execution_count": 139,
   "id": "a738f3e6",
   "metadata": {
    "execution": {
     "iopub.execute_input": "2023-10-19T18:15:44.087210Z",
     "iopub.status.busy": "2023-10-19T18:15:44.085883Z",
     "iopub.status.idle": "2023-10-19T18:15:44.092886Z",
     "shell.execute_reply": "2023-10-19T18:15:44.091585Z"
    },
    "papermill": {
     "duration": 0.046093,
     "end_time": "2023-10-19T18:15:44.095118",
     "exception": false,
     "start_time": "2023-10-19T18:15:44.049025",
     "status": "completed"
    },
    "tags": []
   },
   "outputs": [
    {
     "name": "stdout",
     "output_type": "stream",
     "text": [
      "None\n"
     ]
    }
   ],
   "source": [
    "car = {\n",
    "  \"brand\": \"Ford\",\n",
    "    \"model\" : None ,\n",
    "\n",
    "  \"year\": 1964\n",
    "}\n",
    "\n",
    "x = car.setdefault(\"model\", \"Bronco\")\n",
    "\n",
    "print(x)"
   ]
  },
  {
   "cell_type": "code",
   "execution_count": 140,
   "id": "11c9b50e",
   "metadata": {
    "execution": {
     "iopub.execute_input": "2023-10-19T18:15:44.170664Z",
     "iopub.status.busy": "2023-10-19T18:15:44.170284Z",
     "iopub.status.idle": "2023-10-19T18:15:44.176175Z",
     "shell.execute_reply": "2023-10-19T18:15:44.175400Z"
    },
    "papermill": {
     "duration": 0.046397,
     "end_time": "2023-10-19T18:15:44.178568",
     "exception": false,
     "start_time": "2023-10-19T18:15:44.132171",
     "status": "completed"
    },
    "tags": []
   },
   "outputs": [
    {
     "name": "stdout",
     "output_type": "stream",
     "text": [
      "{'brand': 'Ford', 'model': 'Mustang', 'year': 1964, 'color': 'White'}\n"
     ]
    }
   ],
   "source": [
    "car = {\n",
    "  \"brand\": \"Ford\",\n",
    "  \"model\": \"Mustang\",\n",
    "  \"year\": 1964\n",
    "}\n",
    "\n",
    "\n",
    "car.update({\"color\": \"White\"})\n",
    "print(car)\n",
    "\n"
   ]
  },
  {
   "cell_type": "code",
   "execution_count": 141,
   "id": "5c2abc1e",
   "metadata": {
    "execution": {
     "iopub.execute_input": "2023-10-19T18:15:44.250852Z",
     "iopub.status.busy": "2023-10-19T18:15:44.250366Z",
     "iopub.status.idle": "2023-10-19T18:15:44.255191Z",
     "shell.execute_reply": "2023-10-19T18:15:44.253905Z"
    },
    "papermill": {
     "duration": 0.042928,
     "end_time": "2023-10-19T18:15:44.257333",
     "exception": false,
     "start_time": "2023-10-19T18:15:44.214405",
     "status": "completed"
    },
    "tags": []
   },
   "outputs": [],
   "source": [
    "# *"
   ]
  },
  {
   "cell_type": "code",
   "execution_count": 142,
   "id": "430858f8",
   "metadata": {
    "execution": {
     "iopub.execute_input": "2023-10-19T18:15:44.333048Z",
     "iopub.status.busy": "2023-10-19T18:15:44.332046Z",
     "iopub.status.idle": "2023-10-19T18:15:44.337999Z",
     "shell.execute_reply": "2023-10-19T18:15:44.336725Z"
    },
    "papermill": {
     "duration": 0.045523,
     "end_time": "2023-10-19T18:15:44.340337",
     "exception": false,
     "start_time": "2023-10-19T18:15:44.294814",
     "status": "completed"
    },
    "tags": []
   },
   "outputs": [
    {
     "name": "stdout",
     "output_type": "stream",
     "text": [
      "*\n"
     ]
    }
   ],
   "source": [
    "print(\"*\")"
   ]
  },
  {
   "cell_type": "code",
   "execution_count": 143,
   "id": "b671c189",
   "metadata": {
    "execution": {
     "iopub.execute_input": "2023-10-19T18:15:44.414909Z",
     "iopub.status.busy": "2023-10-19T18:15:44.414564Z",
     "iopub.status.idle": "2023-10-19T18:15:44.419619Z",
     "shell.execute_reply": "2023-10-19T18:15:44.418337Z"
    },
    "papermill": {
     "duration": 0.044661,
     "end_time": "2023-10-19T18:15:44.422041",
     "exception": false,
     "start_time": "2023-10-19T18:15:44.377380",
     "status": "completed"
    },
    "tags": []
   },
   "outputs": [],
   "source": [
    "# *\n",
    "# **"
   ]
  },
  {
   "cell_type": "code",
   "execution_count": 144,
   "id": "e496f447",
   "metadata": {
    "execution": {
     "iopub.execute_input": "2023-10-19T18:15:44.496518Z",
     "iopub.status.busy": "2023-10-19T18:15:44.496132Z",
     "iopub.status.idle": "2023-10-19T18:15:44.501156Z",
     "shell.execute_reply": "2023-10-19T18:15:44.499992Z"
    },
    "papermill": {
     "duration": 0.045851,
     "end_time": "2023-10-19T18:15:44.503948",
     "exception": false,
     "start_time": "2023-10-19T18:15:44.458097",
     "status": "completed"
    },
    "tags": []
   },
   "outputs": [
    {
     "name": "stdout",
     "output_type": "stream",
     "text": [
      "*\n",
      "**\n"
     ]
    }
   ],
   "source": [
    "print(\"*\")\n",
    "print(\"**\")"
   ]
  },
  {
   "cell_type": "code",
   "execution_count": 145,
   "id": "ee56d4cb",
   "metadata": {
    "execution": {
     "iopub.execute_input": "2023-10-19T18:15:44.577637Z",
     "iopub.status.busy": "2023-10-19T18:15:44.577234Z",
     "iopub.status.idle": "2023-10-19T18:15:44.581724Z",
     "shell.execute_reply": "2023-10-19T18:15:44.580654Z"
    },
    "papermill": {
     "duration": 0.044846,
     "end_time": "2023-10-19T18:15:44.583646",
     "exception": false,
     "start_time": "2023-10-19T18:15:44.538800",
     "status": "completed"
    },
    "tags": []
   },
   "outputs": [],
   "source": [
    "# *\n",
    "# **\n",
    "# ***\n",
    "# ****"
   ]
  },
  {
   "cell_type": "code",
   "execution_count": 146,
   "id": "55a094a2",
   "metadata": {
    "execution": {
     "iopub.execute_input": "2023-10-19T18:15:44.655916Z",
     "iopub.status.busy": "2023-10-19T18:15:44.655498Z",
     "iopub.status.idle": "2023-10-19T18:15:44.662642Z",
     "shell.execute_reply": "2023-10-19T18:15:44.661255Z"
    },
    "papermill": {
     "duration": 0.045715,
     "end_time": "2023-10-19T18:15:44.664667",
     "exception": false,
     "start_time": "2023-10-19T18:15:44.618952",
     "status": "completed"
    },
    "tags": []
   },
   "outputs": [
    {
     "name": "stdout",
     "output_type": "stream",
     "text": [
      "   *\n",
      "  **\n",
      " ***\n",
      "****\n",
      " ***\n",
      "  **\n",
      "   *\n"
     ]
    }
   ],
   "source": [
    "for i in range(4) :\n",
    "    print(\" \"*(3-i),end=\"\")\n",
    "    print(\"*\"* (i+1))\n",
    "#     print(\"--\")\n",
    "for j in range(3):\n",
    "    print(\" \"*(j+1),end=\"\")\n",
    "    print(\"*\"*(3-j))"
   ]
  },
  {
   "cell_type": "code",
   "execution_count": 147,
   "id": "412b6755",
   "metadata": {
    "execution": {
     "iopub.execute_input": "2023-10-19T18:15:44.738836Z",
     "iopub.status.busy": "2023-10-19T18:15:44.738400Z",
     "iopub.status.idle": "2023-10-19T18:15:44.742735Z",
     "shell.execute_reply": "2023-10-19T18:15:44.741739Z"
    },
    "papermill": {
     "duration": 0.044633,
     "end_time": "2023-10-19T18:15:44.744687",
     "exception": false,
     "start_time": "2023-10-19T18:15:44.700054",
     "status": "completed"
    },
    "tags": []
   },
   "outputs": [],
   "source": [
    "#    *\n",
    "#   ***\n",
    "#  *****\n",
    "# *******\n",
    "\n",
    "#  *****\n",
    "#   ***\n",
    "#    *"
   ]
  },
  {
   "cell_type": "code",
   "execution_count": 148,
   "id": "7c364f35",
   "metadata": {
    "execution": {
     "iopub.execute_input": "2023-10-19T18:15:44.827311Z",
     "iopub.status.busy": "2023-10-19T18:15:44.826901Z",
     "iopub.status.idle": "2023-10-19T18:15:44.831953Z",
     "shell.execute_reply": "2023-10-19T18:15:44.830782Z"
    },
    "papermill": {
     "duration": 0.04398,
     "end_time": "2023-10-19T18:15:44.834125",
     "exception": false,
     "start_time": "2023-10-19T18:15:44.790145",
     "status": "completed"
    },
    "tags": []
   },
   "outputs": [],
   "source": [
    "# *\n",
    "# ***\n",
    "# *****\n",
    "# *******\n",
    "\n",
    "\n",
    "# *****\n",
    "# ***\n",
    "# *"
   ]
  },
  {
   "cell_type": "code",
   "execution_count": 149,
   "id": "5d19b24e",
   "metadata": {
    "execution": {
     "iopub.execute_input": "2023-10-19T18:15:44.911150Z",
     "iopub.status.busy": "2023-10-19T18:15:44.910792Z",
     "iopub.status.idle": "2023-10-19T18:15:44.917027Z",
     "shell.execute_reply": "2023-10-19T18:15:44.915779Z"
    },
    "papermill": {
     "duration": 0.047179,
     "end_time": "2023-10-19T18:15:44.919265",
     "exception": false,
     "start_time": "2023-10-19T18:15:44.872086",
     "status": "completed"
    },
    "tags": []
   },
   "outputs": [
    {
     "name": "stdout",
     "output_type": "stream",
     "text": [
      "*\n",
      "***\n",
      "*****\n",
      "*******\n",
      "*\n",
      "*\n",
      "*\n"
     ]
    }
   ],
   "source": [
    "for i in range(4):\n",
    "    print(\"*\"* ((2*i)+1))\n",
    "for j in range(3):\n",
    "    print(\"*\")"
   ]
  },
  {
   "cell_type": "markdown",
   "id": "bbbbab20",
   "metadata": {
    "papermill": {
     "duration": 0.034781,
     "end_time": "2023-10-19T18:15:44.989572",
     "exception": false,
     "start_time": "2023-10-19T18:15:44.954791",
     "status": "completed"
    },
    "tags": []
   },
   "source": [
    "# "
   ]
  }
 ],
 "metadata": {
  "kernelspec": {
   "display_name": "Python 3",
   "language": "python",
   "name": "python3"
  },
  "language_info": {
   "codemirror_mode": {
    "name": "ipython",
    "version": 3
   },
   "file_extension": ".py",
   "mimetype": "text/x-python",
   "name": "python",
   "nbconvert_exporter": "python",
   "pygments_lexer": "ipython3",
   "version": "3.10.12"
  },
  "papermill": {
   "default_parameters": {},
   "duration": 14.996282,
   "end_time": "2023-10-19T18:15:45.448057",
   "environment_variables": {},
   "exception": null,
   "input_path": "__notebook__.ipynb",
   "output_path": "__notebook__.ipynb",
   "parameters": {},
   "start_time": "2023-10-19T18:15:30.451775",
   "version": "2.4.0"
  }
 },
 "nbformat": 4,
 "nbformat_minor": 5
}
