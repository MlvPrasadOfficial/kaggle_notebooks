{
 "cells": [
  {
   "cell_type": "code",
   "execution_count": 1,
   "id": "ed10525b",
   "metadata": {
    "_cell_guid": "b1076dfc-b9ad-4769-8c92-a6c4dae69d19",
    "_uuid": "8f2839f25d086af736a60e9eeb907d3b93b6e0e5",
    "execution": {
     "iopub.execute_input": "2023-10-26T17:46:35.076206Z",
     "iopub.status.busy": "2023-10-26T17:46:35.075582Z",
     "iopub.status.idle": "2023-10-26T17:46:35.088527Z",
     "shell.execute_reply": "2023-10-26T17:46:35.086967Z"
    },
    "papermill": {
     "duration": 0.09302,
     "end_time": "2023-10-26T17:46:35.091457",
     "exception": false,
     "start_time": "2023-10-26T17:46:34.998437",
     "status": "completed"
    },
    "tags": []
   },
   "outputs": [
    {
     "name": "stdout",
     "output_type": "stream",
     "text": [
      "6\n",
      "---\n",
      "6\n"
     ]
    }
   ],
   "source": [
    "a = 6\n",
    "print(a)\n",
    "print(\"---\")\n",
    "# a = \n",
    "print(a)"
   ]
  },
  {
   "cell_type": "code",
   "execution_count": null,
   "id": "7b35564d",
   "metadata": {
    "papermill": {
     "duration": 0.071818,
     "end_time": "2023-10-26T17:46:35.302447",
     "exception": false,
     "start_time": "2023-10-26T17:46:35.230629",
     "status": "completed"
    },
    "tags": []
   },
   "outputs": [],
   "source": []
  },
  {
   "cell_type": "code",
   "execution_count": 2,
   "id": "c3fd4bd4",
   "metadata": {
    "execution": {
     "iopub.execute_input": "2023-10-26T17:46:35.450197Z",
     "iopub.status.busy": "2023-10-26T17:46:35.449768Z",
     "iopub.status.idle": "2023-10-26T17:46:35.455227Z",
     "shell.execute_reply": "2023-10-26T17:46:35.453822Z"
    },
    "papermill": {
     "duration": 0.083181,
     "end_time": "2023-10-26T17:46:35.457973",
     "exception": false,
     "start_time": "2023-10-26T17:46:35.374792",
     "status": "completed"
    },
    "tags": []
   },
   "outputs": [],
   "source": [
    "a = 7"
   ]
  },
  {
   "cell_type": "markdown",
   "id": "63ffff68",
   "metadata": {
    "papermill": {
     "duration": 0.073571,
     "end_time": "2023-10-26T17:46:35.605893",
     "exception": false,
     "start_time": "2023-10-26T17:46:35.532322",
     "status": "completed"
    },
    "tags": []
   },
   "source": [
    "# data types"
   ]
  },
  {
   "cell_type": "code",
   "execution_count": 3,
   "id": "2488ceaf",
   "metadata": {
    "execution": {
     "iopub.execute_input": "2023-10-26T17:46:35.752408Z",
     "iopub.status.busy": "2023-10-26T17:46:35.751931Z",
     "iopub.status.idle": "2023-10-26T17:46:35.757804Z",
     "shell.execute_reply": "2023-10-26T17:46:35.756720Z"
    },
    "papermill": {
     "duration": 0.08245,
     "end_time": "2023-10-26T17:46:35.760477",
     "exception": false,
     "start_time": "2023-10-26T17:46:35.678027",
     "status": "completed"
    },
    "tags": []
   },
   "outputs": [
    {
     "name": "stdout",
     "output_type": "stream",
     "text": [
      "6\n"
     ]
    }
   ],
   "source": [
    "abhi = 6\n",
    "\n",
    "print(abhi)"
   ]
  },
  {
   "cell_type": "code",
   "execution_count": 4,
   "id": "b24bf3f3",
   "metadata": {
    "execution": {
     "iopub.execute_input": "2023-10-26T17:46:35.905712Z",
     "iopub.status.busy": "2023-10-26T17:46:35.905306Z",
     "iopub.status.idle": "2023-10-26T17:46:35.913061Z",
     "shell.execute_reply": "2023-10-26T17:46:35.912254Z"
    },
    "papermill": {
     "duration": 0.083401,
     "end_time": "2023-10-26T17:46:35.915467",
     "exception": false,
     "start_time": "2023-10-26T17:46:35.832066",
     "status": "completed"
    },
    "tags": []
   },
   "outputs": [
    {
     "data": {
      "text/plain": [
       "int"
      ]
     },
     "execution_count": 4,
     "metadata": {},
     "output_type": "execute_result"
    }
   ],
   "source": [
    "type(abhi)"
   ]
  },
  {
   "cell_type": "code",
   "execution_count": 5,
   "id": "8121d40f",
   "metadata": {
    "execution": {
     "iopub.execute_input": "2023-10-26T17:46:36.061723Z",
     "iopub.status.busy": "2023-10-26T17:46:36.061306Z",
     "iopub.status.idle": "2023-10-26T17:46:36.068055Z",
     "shell.execute_reply": "2023-10-26T17:46:36.066928Z"
    },
    "papermill": {
     "duration": 0.083535,
     "end_time": "2023-10-26T17:46:36.070390",
     "exception": false,
     "start_time": "2023-10-26T17:46:35.986855",
     "status": "completed"
    },
    "tags": []
   },
   "outputs": [
    {
     "data": {
      "text/plain": [
       "float"
      ]
     },
     "execution_count": 5,
     "metadata": {},
     "output_type": "execute_result"
    }
   ],
   "source": [
    "swa = 6.5\n",
    "type(swa)"
   ]
  },
  {
   "cell_type": "code",
   "execution_count": 6,
   "id": "cafb0aae",
   "metadata": {
    "execution": {
     "iopub.execute_input": "2023-10-26T17:46:36.215751Z",
     "iopub.status.busy": "2023-10-26T17:46:36.215314Z",
     "iopub.status.idle": "2023-10-26T17:46:36.222880Z",
     "shell.execute_reply": "2023-10-26T17:46:36.221682Z"
    },
    "papermill": {
     "duration": 0.084132,
     "end_time": "2023-10-26T17:46:36.225552",
     "exception": false,
     "start_time": "2023-10-26T17:46:36.141420",
     "status": "completed"
    },
    "tags": []
   },
   "outputs": [
    {
     "data": {
      "text/plain": [
       "complex"
      ]
     },
     "execution_count": 6,
     "metadata": {},
     "output_type": "execute_result"
    }
   ],
   "source": [
    "pra = 3 + 2j\n",
    "\n",
    "type(pra)"
   ]
  },
  {
   "cell_type": "code",
   "execution_count": 7,
   "id": "26541d7c",
   "metadata": {
    "execution": {
     "iopub.execute_input": "2023-10-26T17:46:36.373865Z",
     "iopub.status.busy": "2023-10-26T17:46:36.373030Z",
     "iopub.status.idle": "2023-10-26T17:46:36.380903Z",
     "shell.execute_reply": "2023-10-26T17:46:36.379701Z"
    },
    "papermill": {
     "duration": 0.084751,
     "end_time": "2023-10-26T17:46:36.383590",
     "exception": false,
     "start_time": "2023-10-26T17:46:36.298839",
     "status": "completed"
    },
    "tags": []
   },
   "outputs": [
    {
     "data": {
      "text/plain": [
       "str"
      ]
     },
     "execution_count": 7,
     "metadata": {},
     "output_type": "execute_result"
    }
   ],
   "source": [
    "x = \"sush\"\n",
    "type(x)"
   ]
  },
  {
   "cell_type": "code",
   "execution_count": 8,
   "id": "d0e84c7e",
   "metadata": {
    "execution": {
     "iopub.execute_input": "2023-10-26T17:46:36.536645Z",
     "iopub.status.busy": "2023-10-26T17:46:36.535801Z",
     "iopub.status.idle": "2023-10-26T17:46:36.543398Z",
     "shell.execute_reply": "2023-10-26T17:46:36.542234Z"
    },
    "papermill": {
     "duration": 0.087881,
     "end_time": "2023-10-26T17:46:36.545793",
     "exception": false,
     "start_time": "2023-10-26T17:46:36.457912",
     "status": "completed"
    },
    "tags": []
   },
   "outputs": [
    {
     "data": {
      "text/plain": [
       "int"
      ]
     },
     "execution_count": 8,
     "metadata": {},
     "output_type": "execute_result"
    }
   ],
   "source": [
    "z = 44 - 5 - 14\n",
    "z\n",
    "type(z)"
   ]
  },
  {
   "cell_type": "code",
   "execution_count": 9,
   "id": "6a5cf458",
   "metadata": {
    "execution": {
     "iopub.execute_input": "2023-10-26T17:46:36.701974Z",
     "iopub.status.busy": "2023-10-26T17:46:36.701150Z",
     "iopub.status.idle": "2023-10-26T17:46:36.707533Z",
     "shell.execute_reply": "2023-10-26T17:46:36.706357Z"
    },
    "papermill": {
     "duration": 0.087621,
     "end_time": "2023-10-26T17:46:36.710096",
     "exception": false,
     "start_time": "2023-10-26T17:46:36.622475",
     "status": "completed"
    },
    "tags": []
   },
   "outputs": [
    {
     "data": {
      "text/plain": [
       "'44-5-14'"
      ]
     },
     "execution_count": 9,
     "metadata": {},
     "output_type": "execute_result"
    }
   ],
   "source": [
    "y = \"44-5-14\"\n",
    "y"
   ]
  },
  {
   "cell_type": "code",
   "execution_count": 10,
   "id": "e9540a68",
   "metadata": {
    "execution": {
     "iopub.execute_input": "2023-10-26T17:46:36.859739Z",
     "iopub.status.busy": "2023-10-26T17:46:36.859332Z",
     "iopub.status.idle": "2023-10-26T17:46:36.866338Z",
     "shell.execute_reply": "2023-10-26T17:46:36.865276Z"
    },
    "papermill": {
     "duration": 0.084348,
     "end_time": "2023-10-26T17:46:36.869060",
     "exception": false,
     "start_time": "2023-10-26T17:46:36.784712",
     "status": "completed"
    },
    "tags": []
   },
   "outputs": [
    {
     "data": {
      "text/plain": [
       "str"
      ]
     },
     "execution_count": 10,
     "metadata": {},
     "output_type": "execute_result"
    }
   ],
   "source": [
    "type(y)"
   ]
  },
  {
   "cell_type": "markdown",
   "id": "d356a00a",
   "metadata": {
    "papermill": {
     "duration": 0.07383,
     "end_time": "2023-10-26T17:46:37.016143",
     "exception": false,
     "start_time": "2023-10-26T17:46:36.942313",
     "status": "completed"
    },
    "tags": []
   },
   "source": [
    "# type casting"
   ]
  },
  {
   "cell_type": "code",
   "execution_count": 11,
   "id": "b7a0d0c6",
   "metadata": {
    "execution": {
     "iopub.execute_input": "2023-10-26T17:46:37.163674Z",
     "iopub.status.busy": "2023-10-26T17:46:37.162804Z",
     "iopub.status.idle": "2023-10-26T17:46:37.169814Z",
     "shell.execute_reply": "2023-10-26T17:46:37.168823Z"
    },
    "papermill": {
     "duration": 0.083447,
     "end_time": "2023-10-26T17:46:37.172130",
     "exception": false,
     "start_time": "2023-10-26T17:46:37.088683",
     "status": "completed"
    },
    "tags": []
   },
   "outputs": [
    {
     "data": {
      "text/plain": [
       "float"
      ]
     },
     "execution_count": 11,
     "metadata": {},
     "output_type": "execute_result"
    }
   ],
   "source": [
    "a = 6.5\n",
    "type(a)"
   ]
  },
  {
   "cell_type": "code",
   "execution_count": 12,
   "id": "3577ee4d",
   "metadata": {
    "execution": {
     "iopub.execute_input": "2023-10-26T17:46:37.319319Z",
     "iopub.status.busy": "2023-10-26T17:46:37.318684Z",
     "iopub.status.idle": "2023-10-26T17:46:37.325869Z",
     "shell.execute_reply": "2023-10-26T17:46:37.324759Z"
    },
    "papermill": {
     "duration": 0.083647,
     "end_time": "2023-10-26T17:46:37.328142",
     "exception": false,
     "start_time": "2023-10-26T17:46:37.244495",
     "status": "completed"
    },
    "tags": []
   },
   "outputs": [
    {
     "data": {
      "text/plain": [
       "6"
      ]
     },
     "execution_count": 12,
     "metadata": {},
     "output_type": "execute_result"
    }
   ],
   "source": [
    "b = int(a)\n",
    "b"
   ]
  },
  {
   "cell_type": "code",
   "execution_count": 13,
   "id": "3ffa6fb3",
   "metadata": {
    "execution": {
     "iopub.execute_input": "2023-10-26T17:46:37.476412Z",
     "iopub.status.busy": "2023-10-26T17:46:37.476004Z",
     "iopub.status.idle": "2023-10-26T17:46:37.483376Z",
     "shell.execute_reply": "2023-10-26T17:46:37.481998Z"
    },
    "papermill": {
     "duration": 0.084553,
     "end_time": "2023-10-26T17:46:37.486205",
     "exception": false,
     "start_time": "2023-10-26T17:46:37.401652",
     "status": "completed"
    },
    "tags": []
   },
   "outputs": [
    {
     "data": {
      "text/plain": [
       "int"
      ]
     },
     "execution_count": 13,
     "metadata": {},
     "output_type": "execute_result"
    }
   ],
   "source": [
    "type(b)"
   ]
  },
  {
   "cell_type": "code",
   "execution_count": 14,
   "id": "3cbc3e2e",
   "metadata": {
    "execution": {
     "iopub.execute_input": "2023-10-26T17:46:37.635199Z",
     "iopub.status.busy": "2023-10-26T17:46:37.634832Z",
     "iopub.status.idle": "2023-10-26T17:46:37.640750Z",
     "shell.execute_reply": "2023-10-26T17:46:37.639612Z"
    },
    "papermill": {
     "duration": 0.083493,
     "end_time": "2023-10-26T17:46:37.643111",
     "exception": false,
     "start_time": "2023-10-26T17:46:37.559618",
     "status": "completed"
    },
    "tags": []
   },
   "outputs": [
    {
     "data": {
      "text/plain": [
       "6.0"
      ]
     },
     "execution_count": 14,
     "metadata": {},
     "output_type": "execute_result"
    }
   ],
   "source": [
    "c = float(b)\n",
    "c"
   ]
  },
  {
   "cell_type": "code",
   "execution_count": 15,
   "id": "e27161b4",
   "metadata": {
    "execution": {
     "iopub.execute_input": "2023-10-26T17:46:37.793550Z",
     "iopub.status.busy": "2023-10-26T17:46:37.793124Z",
     "iopub.status.idle": "2023-10-26T17:46:37.799580Z",
     "shell.execute_reply": "2023-10-26T17:46:37.798707Z"
    },
    "papermill": {
     "duration": 0.084774,
     "end_time": "2023-10-26T17:46:37.801995",
     "exception": false,
     "start_time": "2023-10-26T17:46:37.717221",
     "status": "completed"
    },
    "tags": []
   },
   "outputs": [
    {
     "data": {
      "text/plain": [
       "float"
      ]
     },
     "execution_count": 15,
     "metadata": {},
     "output_type": "execute_result"
    }
   ],
   "source": [
    "type(c)"
   ]
  },
  {
   "cell_type": "code",
   "execution_count": 16,
   "id": "6f8ea2f5",
   "metadata": {
    "execution": {
     "iopub.execute_input": "2023-10-26T17:46:37.950443Z",
     "iopub.status.busy": "2023-10-26T17:46:37.949237Z",
     "iopub.status.idle": "2023-10-26T17:46:37.957262Z",
     "shell.execute_reply": "2023-10-26T17:46:37.956004Z"
    },
    "papermill": {
     "duration": 0.085294,
     "end_time": "2023-10-26T17:46:37.959884",
     "exception": false,
     "start_time": "2023-10-26T17:46:37.874590",
     "status": "completed"
    },
    "tags": []
   },
   "outputs": [
    {
     "data": {
      "text/plain": [
       "'667'"
      ]
     },
     "execution_count": 16,
     "metadata": {},
     "output_type": "execute_result"
    }
   ],
   "source": [
    "g = \"66\"\n",
    "h = \"7\"\n",
    "\n",
    "g + h"
   ]
  },
  {
   "cell_type": "code",
   "execution_count": 17,
   "id": "2e074153",
   "metadata": {
    "execution": {
     "iopub.execute_input": "2023-10-26T17:46:38.109404Z",
     "iopub.status.busy": "2023-10-26T17:46:38.108047Z",
     "iopub.status.idle": "2023-10-26T17:46:38.115414Z",
     "shell.execute_reply": "2023-10-26T17:46:38.114359Z"
    },
    "papermill": {
     "duration": 0.08417,
     "end_time": "2023-10-26T17:46:38.117615",
     "exception": false,
     "start_time": "2023-10-26T17:46:38.033445",
     "status": "completed"
    },
    "tags": []
   },
   "outputs": [
    {
     "data": {
      "text/plain": [
       "73"
      ]
     },
     "execution_count": 17,
     "metadata": {},
     "output_type": "execute_result"
    }
   ],
   "source": [
    "i = 66\n",
    "j = 7\n",
    "i + j"
   ]
  },
  {
   "cell_type": "code",
   "execution_count": 18,
   "id": "ca9acb9d",
   "metadata": {
    "execution": {
     "iopub.execute_input": "2023-10-26T17:46:38.267476Z",
     "iopub.status.busy": "2023-10-26T17:46:38.266175Z",
     "iopub.status.idle": "2023-10-26T17:46:38.274186Z",
     "shell.execute_reply": "2023-10-26T17:46:38.273072Z"
    },
    "papermill": {
     "duration": 0.086238,
     "end_time": "2023-10-26T17:46:38.277078",
     "exception": false,
     "start_time": "2023-10-26T17:46:38.190840",
     "status": "completed"
    },
    "tags": []
   },
   "outputs": [
    {
     "data": {
      "text/plain": [
       "'667'"
      ]
     },
     "execution_count": 18,
     "metadata": {},
     "output_type": "execute_result"
    }
   ],
   "source": [
    "p = \"66\"\n",
    "q = 7\n",
    "# \"667\"\n",
    "p + str(q)"
   ]
  },
  {
   "cell_type": "code",
   "execution_count": 19,
   "id": "8a0ba4c7",
   "metadata": {
    "execution": {
     "iopub.execute_input": "2023-10-26T17:46:38.434307Z",
     "iopub.status.busy": "2023-10-26T17:46:38.433628Z",
     "iopub.status.idle": "2023-10-26T17:46:38.440779Z",
     "shell.execute_reply": "2023-10-26T17:46:38.439562Z"
    },
    "papermill": {
     "duration": 0.088164,
     "end_time": "2023-10-26T17:46:38.443060",
     "exception": false,
     "start_time": "2023-10-26T17:46:38.354896",
     "status": "completed"
    },
    "tags": []
   },
   "outputs": [
    {
     "data": {
      "text/plain": [
       "73"
      ]
     },
     "execution_count": 19,
     "metadata": {},
     "output_type": "execute_result"
    }
   ],
   "source": [
    "p = \"66\"\n",
    "q = 7\n",
    "int(p) + q"
   ]
  },
  {
   "cell_type": "code",
   "execution_count": 20,
   "id": "873557b2",
   "metadata": {
    "execution": {
     "iopub.execute_input": "2023-10-26T17:46:38.592972Z",
     "iopub.status.busy": "2023-10-26T17:46:38.592350Z",
     "iopub.status.idle": "2023-10-26T17:46:38.599103Z",
     "shell.execute_reply": "2023-10-26T17:46:38.597967Z"
    },
    "papermill": {
     "duration": 0.084342,
     "end_time": "2023-10-26T17:46:38.601374",
     "exception": false,
     "start_time": "2023-10-26T17:46:38.517032",
     "status": "completed"
    },
    "tags": []
   },
   "outputs": [
    {
     "data": {
      "text/plain": [
       "8"
      ]
     },
     "execution_count": 20,
     "metadata": {},
     "output_type": "execute_result"
    }
   ],
   "source": [
    "a = 7\n",
    "b = 8\n",
    "b"
   ]
  },
  {
   "cell_type": "code",
   "execution_count": 21,
   "id": "1bd19c02",
   "metadata": {
    "execution": {
     "iopub.execute_input": "2023-10-26T17:46:38.756988Z",
     "iopub.status.busy": "2023-10-26T17:46:38.756555Z",
     "iopub.status.idle": "2023-10-26T17:46:38.763729Z",
     "shell.execute_reply": "2023-10-26T17:46:38.762888Z"
    },
    "papermill": {
     "duration": 0.09016,
     "end_time": "2023-10-26T17:46:38.766036",
     "exception": false,
     "start_time": "2023-10-26T17:46:38.675876",
     "status": "completed"
    },
    "tags": []
   },
   "outputs": [
    {
     "data": {
      "text/plain": [
       "8"
      ]
     },
     "execution_count": 21,
     "metadata": {},
     "output_type": "execute_result"
    }
   ],
   "source": [
    "a,b = 7,8\n",
    "b"
   ]
  },
  {
   "cell_type": "code",
   "execution_count": 22,
   "id": "e755c95f",
   "metadata": {
    "execution": {
     "iopub.execute_input": "2023-10-26T17:46:38.917235Z",
     "iopub.status.busy": "2023-10-26T17:46:38.916826Z",
     "iopub.status.idle": "2023-10-26T17:46:38.923488Z",
     "shell.execute_reply": "2023-10-26T17:46:38.922458Z"
    },
    "papermill": {
     "duration": 0.08515,
     "end_time": "2023-10-26T17:46:38.925750",
     "exception": false,
     "start_time": "2023-10-26T17:46:38.840600",
     "status": "completed"
    },
    "tags": []
   },
   "outputs": [
    {
     "data": {
      "text/plain": [
       "7"
      ]
     },
     "execution_count": 22,
     "metadata": {},
     "output_type": "execute_result"
    }
   ],
   "source": [
    "abhi7 = 7\n",
    "abhi7"
   ]
  },
  {
   "cell_type": "code",
   "execution_count": 23,
   "id": "5b140067",
   "metadata": {
    "execution": {
     "iopub.execute_input": "2023-10-26T17:46:39.079140Z",
     "iopub.status.busy": "2023-10-26T17:46:39.078715Z",
     "iopub.status.idle": "2023-10-26T17:46:39.085052Z",
     "shell.execute_reply": "2023-10-26T17:46:39.083311Z"
    },
    "papermill": {
     "duration": 0.087489,
     "end_time": "2023-10-26T17:46:39.087372",
     "exception": false,
     "start_time": "2023-10-26T17:46:38.999883",
     "status": "completed"
    },
    "tags": []
   },
   "outputs": [
    {
     "name": "stdout",
     "output_type": "stream",
     "text": [
      "Sally\n"
     ]
    }
   ],
   "source": [
    "x = 4       # x is of type int\n",
    "x = \"Sally\" # x is now of type str\n",
    "print(x)"
   ]
  },
  {
   "cell_type": "code",
   "execution_count": 24,
   "id": "c106bbea",
   "metadata": {
    "execution": {
     "iopub.execute_input": "2023-10-26T17:46:39.239091Z",
     "iopub.status.busy": "2023-10-26T17:46:39.238349Z",
     "iopub.status.idle": "2023-10-26T17:46:39.243927Z",
     "shell.execute_reply": "2023-10-26T17:46:39.242730Z"
    },
    "papermill": {
     "duration": 0.08405,
     "end_time": "2023-10-26T17:46:39.246132",
     "exception": false,
     "start_time": "2023-10-26T17:46:39.162082",
     "status": "completed"
    },
    "tags": []
   },
   "outputs": [
    {
     "name": "stdout",
     "output_type": "stream",
     "text": [
      "4\n"
     ]
    }
   ],
   "source": [
    "x = 4       # x is of type int\n",
    "print(x)\n",
    "x = \"Sally\" # x is now of type str\n"
   ]
  },
  {
   "cell_type": "code",
   "execution_count": 25,
   "id": "f220e814",
   "metadata": {
    "execution": {
     "iopub.execute_input": "2023-10-26T17:46:39.396576Z",
     "iopub.status.busy": "2023-10-26T17:46:39.396129Z",
     "iopub.status.idle": "2023-10-26T17:46:39.402082Z",
     "shell.execute_reply": "2023-10-26T17:46:39.400583Z"
    },
    "papermill": {
     "duration": 0.084378,
     "end_time": "2023-10-26T17:46:39.404630",
     "exception": false,
     "start_time": "2023-10-26T17:46:39.320252",
     "status": "completed"
    },
    "tags": []
   },
   "outputs": [
    {
     "name": "stdout",
     "output_type": "stream",
     "text": [
      "7\n"
     ]
    }
   ],
   "source": [
    "# o/p\n",
    "a= 7\n",
    "print(a)"
   ]
  },
  {
   "cell_type": "code",
   "execution_count": 26,
   "id": "2ee4bb4e",
   "metadata": {
    "execution": {
     "iopub.execute_input": "2023-10-26T17:46:39.556130Z",
     "iopub.status.busy": "2023-10-26T17:46:39.555258Z",
     "iopub.status.idle": "2023-10-26T17:46:39.560305Z",
     "shell.execute_reply": "2023-10-26T17:46:39.559292Z"
    },
    "papermill": {
     "duration": 0.083539,
     "end_time": "2023-10-26T17:46:39.562664",
     "exception": false,
     "start_time": "2023-10-26T17:46:39.479125",
     "status": "completed"
    },
    "tags": []
   },
   "outputs": [],
   "source": [
    "# a = int(input())\n",
    "# print(a+1)"
   ]
  },
  {
   "cell_type": "code",
   "execution_count": 27,
   "id": "c085c0ea",
   "metadata": {
    "execution": {
     "iopub.execute_input": "2023-10-26T17:46:39.730424Z",
     "iopub.status.busy": "2023-10-26T17:46:39.729413Z",
     "iopub.status.idle": "2023-10-26T17:46:39.737845Z",
     "shell.execute_reply": "2023-10-26T17:46:39.736873Z"
    },
    "papermill": {
     "duration": 0.101352,
     "end_time": "2023-10-26T17:46:39.740161",
     "exception": false,
     "start_time": "2023-10-26T17:46:39.638809",
     "status": "completed"
    },
    "tags": []
   },
   "outputs": [
    {
     "data": {
      "text/plain": [
       "13"
      ]
     },
     "execution_count": 27,
     "metadata": {},
     "output_type": "execute_result"
    }
   ],
   "source": [
    "a = 6 + 7\n",
    "a"
   ]
  },
  {
   "cell_type": "code",
   "execution_count": 28,
   "id": "ef94be66",
   "metadata": {
    "execution": {
     "iopub.execute_input": "2023-10-26T17:46:39.921002Z",
     "iopub.status.busy": "2023-10-26T17:46:39.920018Z",
     "iopub.status.idle": "2023-10-26T17:46:39.928419Z",
     "shell.execute_reply": "2023-10-26T17:46:39.927314Z"
    },
    "papermill": {
     "duration": 0.11098,
     "end_time": "2023-10-26T17:46:39.930944",
     "exception": false,
     "start_time": "2023-10-26T17:46:39.819964",
     "status": "completed"
    },
    "tags": []
   },
   "outputs": [
    {
     "data": {
      "text/plain": [
       "'da50'"
      ]
     },
     "execution_count": 28,
     "metadata": {},
     "output_type": "execute_result"
    }
   ],
   "source": [
    "b = \"da\" + str(50)\n",
    "b"
   ]
  },
  {
   "cell_type": "code",
   "execution_count": 29,
   "id": "c1625cc0",
   "metadata": {
    "execution": {
     "iopub.execute_input": "2023-10-26T17:46:40.094340Z",
     "iopub.status.busy": "2023-10-26T17:46:40.092986Z",
     "iopub.status.idle": "2023-10-26T17:46:40.102139Z",
     "shell.execute_reply": "2023-10-26T17:46:40.099546Z"
    },
    "papermill": {
     "duration": 0.09548,
     "end_time": "2023-10-26T17:46:40.104632",
     "exception": false,
     "start_time": "2023-10-26T17:46:40.009152",
     "status": "completed"
    },
    "tags": []
   },
   "outputs": [
    {
     "name": "stdout",
     "output_type": "stream",
     "text": [
      "5 John\n"
     ]
    }
   ],
   "source": [
    "x = 5\n",
    "y = \"John\"\n",
    "print(x, y)"
   ]
  },
  {
   "cell_type": "code",
   "execution_count": 30,
   "id": "72618324",
   "metadata": {
    "execution": {
     "iopub.execute_input": "2023-10-26T17:46:40.257401Z",
     "iopub.status.busy": "2023-10-26T17:46:40.256578Z",
     "iopub.status.idle": "2023-10-26T17:46:40.261359Z",
     "shell.execute_reply": "2023-10-26T17:46:40.260514Z"
    },
    "papermill": {
     "duration": 0.083936,
     "end_time": "2023-10-26T17:46:40.263594",
     "exception": false,
     "start_time": "2023-10-26T17:46:40.179658",
     "status": "completed"
    },
    "tags": []
   },
   "outputs": [],
   "source": [
    "a = 6 \n",
    "a = 7"
   ]
  },
  {
   "cell_type": "markdown",
   "id": "7dfc80e7",
   "metadata": {
    "papermill": {
     "duration": 0.074519,
     "end_time": "2023-10-26T17:46:40.412667",
     "exception": false,
     "start_time": "2023-10-26T17:46:40.338148",
     "status": "completed"
    },
    "tags": []
   },
   "source": [
    "# data  structures\n"
   ]
  },
  {
   "cell_type": "markdown",
   "id": "c5216f8f",
   "metadata": {
    "papermill": {
     "duration": 0.075215,
     "end_time": "2023-10-26T17:46:40.563191",
     "exception": false,
     "start_time": "2023-10-26T17:46:40.487976",
     "status": "completed"
    },
    "tags": []
   },
   "source": [
    "# List  [ ] "
   ]
  },
  {
   "cell_type": "code",
   "execution_count": 31,
   "id": "03b39be7",
   "metadata": {
    "execution": {
     "iopub.execute_input": "2023-10-26T17:46:40.717791Z",
     "iopub.status.busy": "2023-10-26T17:46:40.716962Z",
     "iopub.status.idle": "2023-10-26T17:46:40.723959Z",
     "shell.execute_reply": "2023-10-26T17:46:40.722805Z"
    },
    "papermill": {
     "duration": 0.08753,
     "end_time": "2023-10-26T17:46:40.726293",
     "exception": false,
     "start_time": "2023-10-26T17:46:40.638763",
     "status": "completed"
    },
    "tags": []
   },
   "outputs": [
    {
     "data": {
      "text/plain": [
       "11"
      ]
     },
     "execution_count": 31,
     "metadata": {},
     "output_type": "execute_result"
    }
   ],
   "source": [
    "a = [11,28,34,45,57]\n",
    "a[0]\n",
    "\n"
   ]
  },
  {
   "cell_type": "code",
   "execution_count": 32,
   "id": "c6a2a1a9",
   "metadata": {
    "execution": {
     "iopub.execute_input": "2023-10-26T17:46:40.882367Z",
     "iopub.status.busy": "2023-10-26T17:46:40.881551Z",
     "iopub.status.idle": "2023-10-26T17:46:40.888627Z",
     "shell.execute_reply": "2023-10-26T17:46:40.887632Z"
    },
    "papermill": {
     "duration": 0.08761,
     "end_time": "2023-10-26T17:46:40.890970",
     "exception": false,
     "start_time": "2023-10-26T17:46:40.803360",
     "status": "completed"
    },
    "tags": []
   },
   "outputs": [
    {
     "data": {
      "text/plain": [
       "57"
      ]
     },
     "execution_count": 32,
     "metadata": {},
     "output_type": "execute_result"
    }
   ],
   "source": [
    "a[4]"
   ]
  },
  {
   "cell_type": "code",
   "execution_count": 33,
   "id": "74e832c4",
   "metadata": {
    "execution": {
     "iopub.execute_input": "2023-10-26T17:46:41.046030Z",
     "iopub.status.busy": "2023-10-26T17:46:41.044891Z",
     "iopub.status.idle": "2023-10-26T17:46:41.052576Z",
     "shell.execute_reply": "2023-10-26T17:46:41.051355Z"
    },
    "papermill": {
     "duration": 0.088986,
     "end_time": "2023-10-26T17:46:41.055407",
     "exception": false,
     "start_time": "2023-10-26T17:46:40.966421",
     "status": "completed"
    },
    "tags": []
   },
   "outputs": [
    {
     "data": {
      "text/plain": [
       "[11, 28, 34, 45, 57]"
      ]
     },
     "execution_count": 33,
     "metadata": {},
     "output_type": "execute_result"
    }
   ],
   "source": [
    "a"
   ]
  },
  {
   "cell_type": "code",
   "execution_count": 34,
   "id": "348115a2",
   "metadata": {
    "execution": {
     "iopub.execute_input": "2023-10-26T17:46:41.214237Z",
     "iopub.status.busy": "2023-10-26T17:46:41.213108Z",
     "iopub.status.idle": "2023-10-26T17:46:41.220486Z",
     "shell.execute_reply": "2023-10-26T17:46:41.219339Z"
    },
    "papermill": {
     "duration": 0.086916,
     "end_time": "2023-10-26T17:46:41.222741",
     "exception": false,
     "start_time": "2023-10-26T17:46:41.135825",
     "status": "completed"
    },
    "tags": []
   },
   "outputs": [
    {
     "data": {
      "text/plain": [
       "57"
      ]
     },
     "execution_count": 34,
     "metadata": {},
     "output_type": "execute_result"
    }
   ],
   "source": [
    "a[-1]"
   ]
  },
  {
   "cell_type": "code",
   "execution_count": 35,
   "id": "4b2b621b",
   "metadata": {
    "execution": {
     "iopub.execute_input": "2023-10-26T17:46:41.376827Z",
     "iopub.status.busy": "2023-10-26T17:46:41.375886Z",
     "iopub.status.idle": "2023-10-26T17:46:41.382398Z",
     "shell.execute_reply": "2023-10-26T17:46:41.381233Z"
    },
    "papermill": {
     "duration": 0.085946,
     "end_time": "2023-10-26T17:46:41.384862",
     "exception": false,
     "start_time": "2023-10-26T17:46:41.298916",
     "status": "completed"
    },
    "tags": []
   },
   "outputs": [
    {
     "data": {
      "text/plain": [
       "11"
      ]
     },
     "execution_count": 35,
     "metadata": {},
     "output_type": "execute_result"
    }
   ],
   "source": [
    "a[-5]"
   ]
  },
  {
   "cell_type": "code",
   "execution_count": 36,
   "id": "2892356a",
   "metadata": {
    "execution": {
     "iopub.execute_input": "2023-10-26T17:46:41.538734Z",
     "iopub.status.busy": "2023-10-26T17:46:41.538313Z",
     "iopub.status.idle": "2023-10-26T17:46:41.545981Z",
     "shell.execute_reply": "2023-10-26T17:46:41.544669Z"
    },
    "papermill": {
     "duration": 0.087893,
     "end_time": "2023-10-26T17:46:41.548503",
     "exception": false,
     "start_time": "2023-10-26T17:46:41.460610",
     "status": "completed"
    },
    "tags": []
   },
   "outputs": [
    {
     "data": {
      "text/plain": [
       "[28, 34, 45]"
      ]
     },
     "execution_count": 36,
     "metadata": {},
     "output_type": "execute_result"
    }
   ],
   "source": [
    "a[1:4]"
   ]
  },
  {
   "cell_type": "code",
   "execution_count": 37,
   "id": "f8b28f3f",
   "metadata": {
    "execution": {
     "iopub.execute_input": "2023-10-26T17:46:41.704390Z",
     "iopub.status.busy": "2023-10-26T17:46:41.703964Z",
     "iopub.status.idle": "2023-10-26T17:46:41.709643Z",
     "shell.execute_reply": "2023-10-26T17:46:41.708466Z"
    },
    "papermill": {
     "duration": 0.086604,
     "end_time": "2023-10-26T17:46:41.713147",
     "exception": false,
     "start_time": "2023-10-26T17:46:41.626543",
     "status": "completed"
    },
    "tags": []
   },
   "outputs": [],
   "source": [
    "a = [10,20,30,40 ,50,60,70,80,90]"
   ]
  },
  {
   "cell_type": "code",
   "execution_count": 38,
   "id": "f6907c0f",
   "metadata": {
    "execution": {
     "iopub.execute_input": "2023-10-26T17:46:41.868428Z",
     "iopub.status.busy": "2023-10-26T17:46:41.867999Z",
     "iopub.status.idle": "2023-10-26T17:46:41.875475Z",
     "shell.execute_reply": "2023-10-26T17:46:41.874297Z"
    },
    "papermill": {
     "duration": 0.086745,
     "end_time": "2023-10-26T17:46:41.877941",
     "exception": false,
     "start_time": "2023-10-26T17:46:41.791196",
     "status": "completed"
    },
    "tags": []
   },
   "outputs": [
    {
     "data": {
      "text/plain": [
       "[20, 30, 40, 50, 60, 70, 80]"
      ]
     },
     "execution_count": 38,
     "metadata": {},
     "output_type": "execute_result"
    }
   ],
   "source": [
    "# 2 property index - list = zero -index \n",
    "a[1:8]"
   ]
  },
  {
   "cell_type": "code",
   "execution_count": 39,
   "id": "21061485",
   "metadata": {
    "execution": {
     "iopub.execute_input": "2023-10-26T17:46:42.035652Z",
     "iopub.status.busy": "2023-10-26T17:46:42.035215Z",
     "iopub.status.idle": "2023-10-26T17:46:42.042607Z",
     "shell.execute_reply": "2023-10-26T17:46:42.041450Z"
    },
    "papermill": {
     "duration": 0.089736,
     "end_time": "2023-10-26T17:46:42.045051",
     "exception": false,
     "start_time": "2023-10-26T17:46:41.955315",
     "status": "completed"
    },
    "tags": []
   },
   "outputs": [
    {
     "data": {
      "text/plain": [
       "[20, 40, 60, 80]"
      ]
     },
     "execution_count": 39,
     "metadata": {},
     "output_type": "execute_result"
    }
   ],
   "source": [
    "a[1:8:2]"
   ]
  },
  {
   "cell_type": "code",
   "execution_count": 40,
   "id": "c9d135b9",
   "metadata": {
    "execution": {
     "iopub.execute_input": "2023-10-26T17:46:42.199835Z",
     "iopub.status.busy": "2023-10-26T17:46:42.199451Z",
     "iopub.status.idle": "2023-10-26T17:46:42.206556Z",
     "shell.execute_reply": "2023-10-26T17:46:42.205409Z"
    },
    "papermill": {
     "duration": 0.087437,
     "end_time": "2023-10-26T17:46:42.209035",
     "exception": false,
     "start_time": "2023-10-26T17:46:42.121598",
     "status": "completed"
    },
    "tags": []
   },
   "outputs": [
    {
     "data": {
      "text/plain": [
       "[20, 50, 80]"
      ]
     },
     "execution_count": 40,
     "metadata": {},
     "output_type": "execute_result"
    }
   ],
   "source": [
    "a[1:-1:3]"
   ]
  },
  {
   "cell_type": "code",
   "execution_count": 41,
   "id": "008ef060",
   "metadata": {
    "execution": {
     "iopub.execute_input": "2023-10-26T17:46:42.363205Z",
     "iopub.status.busy": "2023-10-26T17:46:42.362767Z",
     "iopub.status.idle": "2023-10-26T17:46:42.370493Z",
     "shell.execute_reply": "2023-10-26T17:46:42.369148Z"
    },
    "papermill": {
     "duration": 0.087772,
     "end_time": "2023-10-26T17:46:42.372918",
     "exception": false,
     "start_time": "2023-10-26T17:46:42.285146",
     "status": "completed"
    },
    "tags": []
   },
   "outputs": [
    {
     "data": {
      "text/plain": [
       "[10, 20, 30, 40, 50, 60, 70, 80, 90]"
      ]
     },
     "execution_count": 41,
     "metadata": {},
     "output_type": "execute_result"
    }
   ],
   "source": [
    "# property of 1 of list \n",
    "# mutabilty\n",
    "\n",
    "a "
   ]
  },
  {
   "cell_type": "code",
   "execution_count": 42,
   "id": "12c03609",
   "metadata": {
    "execution": {
     "iopub.execute_input": "2023-10-26T17:46:42.532584Z",
     "iopub.status.busy": "2023-10-26T17:46:42.532184Z",
     "iopub.status.idle": "2023-10-26T17:46:42.539079Z",
     "shell.execute_reply": "2023-10-26T17:46:42.537914Z"
    },
    "papermill": {
     "duration": 0.089601,
     "end_time": "2023-10-26T17:46:42.541408",
     "exception": false,
     "start_time": "2023-10-26T17:46:42.451807",
     "status": "completed"
    },
    "tags": []
   },
   "outputs": [
    {
     "data": {
      "text/plain": [
       "10"
      ]
     },
     "execution_count": 42,
     "metadata": {},
     "output_type": "execute_result"
    }
   ],
   "source": [
    "a[0]"
   ]
  },
  {
   "cell_type": "code",
   "execution_count": 43,
   "id": "983c0f58",
   "metadata": {
    "execution": {
     "iopub.execute_input": "2023-10-26T17:46:42.699881Z",
     "iopub.status.busy": "2023-10-26T17:46:42.699491Z",
     "iopub.status.idle": "2023-10-26T17:46:42.707097Z",
     "shell.execute_reply": "2023-10-26T17:46:42.705845Z"
    },
    "papermill": {
     "duration": 0.08896,
     "end_time": "2023-10-26T17:46:42.709393",
     "exception": false,
     "start_time": "2023-10-26T17:46:42.620433",
     "status": "completed"
    },
    "tags": []
   },
   "outputs": [
    {
     "data": {
      "text/plain": [
       "[900, 20, 30, 40, 50, 60, 70, 80, 90]"
      ]
     },
     "execution_count": 43,
     "metadata": {},
     "output_type": "execute_result"
    }
   ],
   "source": [
    "a[0] = 900\n",
    "a"
   ]
  },
  {
   "cell_type": "code",
   "execution_count": 44,
   "id": "2e847411",
   "metadata": {
    "execution": {
     "iopub.execute_input": "2023-10-26T17:46:42.870598Z",
     "iopub.status.busy": "2023-10-26T17:46:42.870194Z",
     "iopub.status.idle": "2023-10-26T17:46:42.876580Z",
     "shell.execute_reply": "2023-10-26T17:46:42.875780Z"
    },
    "papermill": {
     "duration": 0.085935,
     "end_time": "2023-10-26T17:46:42.878749",
     "exception": false,
     "start_time": "2023-10-26T17:46:42.792814",
     "status": "completed"
    },
    "tags": []
   },
   "outputs": [
    {
     "data": {
      "text/plain": [
       "list"
      ]
     },
     "execution_count": 44,
     "metadata": {},
     "output_type": "execute_result"
    }
   ],
   "source": [
    "type(a)"
   ]
  },
  {
   "cell_type": "markdown",
   "id": "af23a536",
   "metadata": {
    "papermill": {
     "duration": 0.078417,
     "end_time": "2023-10-26T17:46:43.033563",
     "exception": false,
     "start_time": "2023-10-26T17:46:42.955146",
     "status": "completed"
    },
    "tags": []
   },
   "source": [
    "# tuple  (  )"
   ]
  },
  {
   "cell_type": "code",
   "execution_count": 45,
   "id": "a4c35123",
   "metadata": {
    "execution": {
     "iopub.execute_input": "2023-10-26T17:46:43.256381Z",
     "iopub.status.busy": "2023-10-26T17:46:43.255594Z",
     "iopub.status.idle": "2023-10-26T17:46:43.262147Z",
     "shell.execute_reply": "2023-10-26T17:46:43.260966Z"
    },
    "papermill": {
     "duration": 0.15433,
     "end_time": "2023-10-26T17:46:43.264434",
     "exception": false,
     "start_time": "2023-10-26T17:46:43.110104",
     "status": "completed"
    },
    "tags": []
   },
   "outputs": [
    {
     "data": {
      "text/plain": [
       "10"
      ]
     },
     "execution_count": 45,
     "metadata": {},
     "output_type": "execute_result"
    }
   ],
   "source": [
    "b = (10,20,30,40,50)\n",
    "b[0]"
   ]
  },
  {
   "cell_type": "code",
   "execution_count": 46,
   "id": "3da19916",
   "metadata": {
    "execution": {
     "iopub.execute_input": "2023-10-26T17:46:43.423948Z",
     "iopub.status.busy": "2023-10-26T17:46:43.423082Z",
     "iopub.status.idle": "2023-10-26T17:46:43.429324Z",
     "shell.execute_reply": "2023-10-26T17:46:43.428347Z"
    },
    "papermill": {
     "duration": 0.08693,
     "end_time": "2023-10-26T17:46:43.431487",
     "exception": false,
     "start_time": "2023-10-26T17:46:43.344557",
     "status": "completed"
    },
    "tags": []
   },
   "outputs": [
    {
     "data": {
      "text/plain": [
       "tuple"
      ]
     },
     "execution_count": 46,
     "metadata": {},
     "output_type": "execute_result"
    }
   ],
   "source": [
    "type(b)"
   ]
  },
  {
   "cell_type": "code",
   "execution_count": 47,
   "id": "7044de59",
   "metadata": {
    "execution": {
     "iopub.execute_input": "2023-10-26T17:46:43.589345Z",
     "iopub.status.busy": "2023-10-26T17:46:43.588575Z",
     "iopub.status.idle": "2023-10-26T17:46:43.594700Z",
     "shell.execute_reply": "2023-10-26T17:46:43.593626Z"
    },
    "papermill": {
     "duration": 0.087835,
     "end_time": "2023-10-26T17:46:43.597394",
     "exception": false,
     "start_time": "2023-10-26T17:46:43.509559",
     "status": "completed"
    },
    "tags": []
   },
   "outputs": [
    {
     "data": {
      "text/plain": [
       "50"
      ]
     },
     "execution_count": 47,
     "metadata": {},
     "output_type": "execute_result"
    }
   ],
   "source": [
    "b[4]"
   ]
  },
  {
   "cell_type": "code",
   "execution_count": 48,
   "id": "4e3ffe4a",
   "metadata": {
    "execution": {
     "iopub.execute_input": "2023-10-26T17:46:43.756289Z",
     "iopub.status.busy": "2023-10-26T17:46:43.755566Z",
     "iopub.status.idle": "2023-10-26T17:46:43.761187Z",
     "shell.execute_reply": "2023-10-26T17:46:43.760458Z"
    },
    "papermill": {
     "duration": 0.08834,
     "end_time": "2023-10-26T17:46:43.763650",
     "exception": false,
     "start_time": "2023-10-26T17:46:43.675310",
     "status": "completed"
    },
    "tags": []
   },
   "outputs": [
    {
     "data": {
      "text/plain": [
       "50"
      ]
     },
     "execution_count": 48,
     "metadata": {},
     "output_type": "execute_result"
    }
   ],
   "source": [
    "b[-1]"
   ]
  },
  {
   "cell_type": "code",
   "execution_count": 49,
   "id": "7b109492",
   "metadata": {
    "execution": {
     "iopub.execute_input": "2023-10-26T17:46:43.922500Z",
     "iopub.status.busy": "2023-10-26T17:46:43.921810Z",
     "iopub.status.idle": "2023-10-26T17:46:43.925650Z",
     "shell.execute_reply": "2023-10-26T17:46:43.924887Z"
    },
    "papermill": {
     "duration": 0.084793,
     "end_time": "2023-10-26T17:46:43.927942",
     "exception": false,
     "start_time": "2023-10-26T17:46:43.843149",
     "status": "completed"
    },
    "tags": []
   },
   "outputs": [],
   "source": [
    "# property 2 of tuple - zero index "
   ]
  },
  {
   "cell_type": "code",
   "execution_count": 50,
   "id": "26b585e8",
   "metadata": {
    "execution": {
     "iopub.execute_input": "2023-10-26T17:46:44.085484Z",
     "iopub.status.busy": "2023-10-26T17:46:44.084784Z",
     "iopub.status.idle": "2023-10-26T17:46:44.088852Z",
     "shell.execute_reply": "2023-10-26T17:46:44.087905Z"
    },
    "papermill": {
     "duration": 0.085289,
     "end_time": "2023-10-26T17:46:44.091205",
     "exception": false,
     "start_time": "2023-10-26T17:46:44.005916",
     "status": "completed"
    },
    "tags": []
   },
   "outputs": [],
   "source": [
    "# b[0] = 10"
   ]
  },
  {
   "cell_type": "code",
   "execution_count": 51,
   "id": "acbddc8f",
   "metadata": {
    "execution": {
     "iopub.execute_input": "2023-10-26T17:46:44.247297Z",
     "iopub.status.busy": "2023-10-26T17:46:44.246684Z",
     "iopub.status.idle": "2023-10-26T17:46:44.252082Z",
     "shell.execute_reply": "2023-10-26T17:46:44.250793Z"
    },
    "papermill": {
     "duration": 0.086515,
     "end_time": "2023-10-26T17:46:44.254552",
     "exception": false,
     "start_time": "2023-10-26T17:46:44.168037",
     "status": "completed"
    },
    "tags": []
   },
   "outputs": [],
   "source": [
    "# property immutabilty - ypu cant change elements in a list"
   ]
  },
  {
   "cell_type": "code",
   "execution_count": 52,
   "id": "8bc5fa5e",
   "metadata": {
    "execution": {
     "iopub.execute_input": "2023-10-26T17:46:44.414169Z",
     "iopub.status.busy": "2023-10-26T17:46:44.413739Z",
     "iopub.status.idle": "2023-10-26T17:46:44.419223Z",
     "shell.execute_reply": "2023-10-26T17:46:44.418047Z"
    },
    "papermill": {
     "duration": 0.086945,
     "end_time": "2023-10-26T17:46:44.421977",
     "exception": false,
     "start_time": "2023-10-26T17:46:44.335032",
     "status": "completed"
    },
    "tags": []
   },
   "outputs": [],
   "source": [
    "# set "
   ]
  },
  {
   "cell_type": "markdown",
   "id": "c5a911d6",
   "metadata": {
    "papermill": {
     "duration": 0.078032,
     "end_time": "2023-10-26T17:46:44.578721",
     "exception": false,
     "start_time": "2023-10-26T17:46:44.500689",
     "status": "completed"
    },
    "tags": []
   },
   "source": [
    "{ }"
   ]
  },
  {
   "cell_type": "code",
   "execution_count": 53,
   "id": "2ccca4a3",
   "metadata": {
    "execution": {
     "iopub.execute_input": "2023-10-26T17:46:44.741637Z",
     "iopub.status.busy": "2023-10-26T17:46:44.741176Z",
     "iopub.status.idle": "2023-10-26T17:46:44.746746Z",
     "shell.execute_reply": "2023-10-26T17:46:44.745583Z"
    },
    "papermill": {
     "duration": 0.090457,
     "end_time": "2023-10-26T17:46:44.749222",
     "exception": false,
     "start_time": "2023-10-26T17:46:44.658765",
     "status": "completed"
    },
    "tags": []
   },
   "outputs": [],
   "source": [
    "c = {10,20,30,40}"
   ]
  },
  {
   "cell_type": "code",
   "execution_count": 54,
   "id": "33bd9efa",
   "metadata": {
    "execution": {
     "iopub.execute_input": "2023-10-26T17:46:44.910018Z",
     "iopub.status.busy": "2023-10-26T17:46:44.909620Z",
     "iopub.status.idle": "2023-10-26T17:46:44.916723Z",
     "shell.execute_reply": "2023-10-26T17:46:44.915648Z"
    },
    "papermill": {
     "duration": 0.091119,
     "end_time": "2023-10-26T17:46:44.919408",
     "exception": false,
     "start_time": "2023-10-26T17:46:44.828289",
     "status": "completed"
    },
    "tags": []
   },
   "outputs": [
    {
     "data": {
      "text/plain": [
       "{10, 20, 30, 40}"
      ]
     },
     "execution_count": 54,
     "metadata": {},
     "output_type": "execute_result"
    }
   ],
   "source": [
    "c"
   ]
  },
  {
   "cell_type": "code",
   "execution_count": 55,
   "id": "5f3c5e81",
   "metadata": {
    "execution": {
     "iopub.execute_input": "2023-10-26T17:46:45.079717Z",
     "iopub.status.busy": "2023-10-26T17:46:45.079332Z",
     "iopub.status.idle": "2023-10-26T17:46:45.085325Z",
     "shell.execute_reply": "2023-10-26T17:46:45.083311Z"
    },
    "papermill": {
     "duration": 0.090049,
     "end_time": "2023-10-26T17:46:45.087995",
     "exception": false,
     "start_time": "2023-10-26T17:46:44.997946",
     "status": "completed"
    },
    "tags": []
   },
   "outputs": [],
   "source": [
    "d = {10,20,10,20}"
   ]
  },
  {
   "cell_type": "code",
   "execution_count": 56,
   "id": "043189f3",
   "metadata": {
    "execution": {
     "iopub.execute_input": "2023-10-26T17:46:45.246897Z",
     "iopub.status.busy": "2023-10-26T17:46:45.246480Z",
     "iopub.status.idle": "2023-10-26T17:46:45.252429Z",
     "shell.execute_reply": "2023-10-26T17:46:45.251513Z"
    },
    "papermill": {
     "duration": 0.08916,
     "end_time": "2023-10-26T17:46:45.254726",
     "exception": false,
     "start_time": "2023-10-26T17:46:45.165566",
     "status": "completed"
    },
    "tags": []
   },
   "outputs": [
    {
     "data": {
      "text/plain": [
       "{10, 20}"
      ]
     },
     "execution_count": 56,
     "metadata": {},
     "output_type": "execute_result"
    }
   ],
   "source": [
    "d"
   ]
  },
  {
   "cell_type": "code",
   "execution_count": 57,
   "id": "9073f4da",
   "metadata": {
    "execution": {
     "iopub.execute_input": "2023-10-26T17:46:45.412853Z",
     "iopub.status.busy": "2023-10-26T17:46:45.412229Z",
     "iopub.status.idle": "2023-10-26T17:46:45.415980Z",
     "shell.execute_reply": "2023-10-26T17:46:45.415137Z"
    },
    "papermill": {
     "duration": 0.085646,
     "end_time": "2023-10-26T17:46:45.418193",
     "exception": false,
     "start_time": "2023-10-26T17:46:45.332547",
     "status": "completed"
    },
    "tags": []
   },
   "outputs": [],
   "source": [
    "# # property 1 \n",
    "\n",
    "# unique elements only "
   ]
  },
  {
   "cell_type": "code",
   "execution_count": 58,
   "id": "a702c945",
   "metadata": {
    "execution": {
     "iopub.execute_input": "2023-10-26T17:46:45.578569Z",
     "iopub.status.busy": "2023-10-26T17:46:45.578142Z",
     "iopub.status.idle": "2023-10-26T17:46:45.583760Z",
     "shell.execute_reply": "2023-10-26T17:46:45.582875Z"
    },
    "papermill": {
     "duration": 0.08812,
     "end_time": "2023-10-26T17:46:45.585899",
     "exception": false,
     "start_time": "2023-10-26T17:46:45.497779",
     "status": "completed"
    },
    "tags": []
   },
   "outputs": [
    {
     "data": {
      "text/plain": [
       "{10, 20}"
      ]
     },
     "execution_count": 58,
     "metadata": {},
     "output_type": "execute_result"
    }
   ],
   "source": [
    "# property \n",
    "# there is no index in set \n",
    "\n",
    "d"
   ]
  },
  {
   "cell_type": "code",
   "execution_count": 59,
   "id": "eb43470f",
   "metadata": {
    "execution": {
     "iopub.execute_input": "2023-10-26T17:46:45.743893Z",
     "iopub.status.busy": "2023-10-26T17:46:45.743484Z",
     "iopub.status.idle": "2023-10-26T17:46:45.748125Z",
     "shell.execute_reply": "2023-10-26T17:46:45.747064Z"
    },
    "papermill": {
     "duration": 0.08741,
     "end_time": "2023-10-26T17:46:45.750442",
     "exception": false,
     "start_time": "2023-10-26T17:46:45.663032",
     "status": "completed"
    },
    "tags": []
   },
   "outputs": [],
   "source": [
    "# d[0]"
   ]
  },
  {
   "cell_type": "markdown",
   "id": "cb486fff",
   "metadata": {
    "papermill": {
     "duration": 0.079489,
     "end_time": "2023-10-26T17:46:45.909041",
     "exception": false,
     "start_time": "2023-10-26T17:46:45.829552",
     "status": "completed"
    },
    "tags": []
   },
   "source": [
    "# dictionary  ( ) "
   ]
  },
  {
   "cell_type": "code",
   "execution_count": 60,
   "id": "cdf796fa",
   "metadata": {
    "execution": {
     "iopub.execute_input": "2023-10-26T17:46:46.068567Z",
     "iopub.status.busy": "2023-10-26T17:46:46.068142Z",
     "iopub.status.idle": "2023-10-26T17:46:46.073497Z",
     "shell.execute_reply": "2023-10-26T17:46:46.072215Z"
    },
    "papermill": {
     "duration": 0.087011,
     "end_time": "2023-10-26T17:46:46.075963",
     "exception": false,
     "start_time": "2023-10-26T17:46:45.988952",
     "status": "completed"
    },
    "tags": []
   },
   "outputs": [],
   "source": [
    "t = { \"beautiful\"   : \"swapna is a beautiful women\",\n",
    "    \"smart\" : \"tayyab is a smart person\",\n",
    "    \"clever\" : \"parth is clever\"}"
   ]
  },
  {
   "cell_type": "code",
   "execution_count": 61,
   "id": "4e5ef250",
   "metadata": {
    "execution": {
     "iopub.execute_input": "2023-10-26T17:46:46.234348Z",
     "iopub.status.busy": "2023-10-26T17:46:46.233921Z",
     "iopub.status.idle": "2023-10-26T17:46:46.239276Z",
     "shell.execute_reply": "2023-10-26T17:46:46.237933Z"
    },
    "papermill": {
     "duration": 0.087107,
     "end_time": "2023-10-26T17:46:46.241535",
     "exception": false,
     "start_time": "2023-10-26T17:46:46.154428",
     "status": "completed"
    },
    "tags": []
   },
   "outputs": [],
   "source": [
    "# property index - key index"
   ]
  },
  {
   "cell_type": "code",
   "execution_count": 62,
   "id": "7476e676",
   "metadata": {
    "execution": {
     "iopub.execute_input": "2023-10-26T17:46:46.401057Z",
     "iopub.status.busy": "2023-10-26T17:46:46.399975Z",
     "iopub.status.idle": "2023-10-26T17:46:46.406193Z",
     "shell.execute_reply": "2023-10-26T17:46:46.405396Z"
    },
    "papermill": {
     "duration": 0.087517,
     "end_time": "2023-10-26T17:46:46.408444",
     "exception": false,
     "start_time": "2023-10-26T17:46:46.320927",
     "status": "completed"
    },
    "tags": []
   },
   "outputs": [
    {
     "data": {
      "text/plain": [
       "dict_keys(['beautiful', 'smart', 'clever'])"
      ]
     },
     "execution_count": 62,
     "metadata": {},
     "output_type": "execute_result"
    }
   ],
   "source": [
    "t.keys()"
   ]
  },
  {
   "cell_type": "code",
   "execution_count": 63,
   "id": "db2a42f3",
   "metadata": {
    "execution": {
     "iopub.execute_input": "2023-10-26T17:46:46.567462Z",
     "iopub.status.busy": "2023-10-26T17:46:46.566985Z",
     "iopub.status.idle": "2023-10-26T17:46:46.575579Z",
     "shell.execute_reply": "2023-10-26T17:46:46.573544Z"
    },
    "papermill": {
     "duration": 0.091305,
     "end_time": "2023-10-26T17:46:46.579009",
     "exception": false,
     "start_time": "2023-10-26T17:46:46.487704",
     "status": "completed"
    },
    "tags": []
   },
   "outputs": [
    {
     "data": {
      "text/plain": [
       "'swapna is a beautiful women'"
      ]
     },
     "execution_count": 63,
     "metadata": {},
     "output_type": "execute_result"
    }
   ],
   "source": [
    "t[\"beautiful\"]"
   ]
  },
  {
   "cell_type": "code",
   "execution_count": 64,
   "id": "00d45d6a",
   "metadata": {
    "execution": {
     "iopub.execute_input": "2023-10-26T17:46:46.742223Z",
     "iopub.status.busy": "2023-10-26T17:46:46.741381Z",
     "iopub.status.idle": "2023-10-26T17:46:46.749034Z",
     "shell.execute_reply": "2023-10-26T17:46:46.748023Z"
    },
    "papermill": {
     "duration": 0.093094,
     "end_time": "2023-10-26T17:46:46.751574",
     "exception": false,
     "start_time": "2023-10-26T17:46:46.658480",
     "status": "completed"
    },
    "tags": []
   },
   "outputs": [
    {
     "data": {
      "text/plain": [
       "'parth is clever'"
      ]
     },
     "execution_count": 64,
     "metadata": {},
     "output_type": "execute_result"
    }
   ],
   "source": [
    "t[\"clever\"]"
   ]
  },
  {
   "cell_type": "code",
   "execution_count": 65,
   "id": "5a2d6e13",
   "metadata": {
    "execution": {
     "iopub.execute_input": "2023-10-26T17:46:46.912044Z",
     "iopub.status.busy": "2023-10-26T17:46:46.911650Z",
     "iopub.status.idle": "2023-10-26T17:46:46.918975Z",
     "shell.execute_reply": "2023-10-26T17:46:46.917891Z"
    },
    "papermill": {
     "duration": 0.08884,
     "end_time": "2023-10-26T17:46:46.921284",
     "exception": false,
     "start_time": "2023-10-26T17:46:46.832444",
     "status": "completed"
    },
    "tags": []
   },
   "outputs": [
    {
     "data": {
      "text/plain": [
       "dict_keys(['beautiful', 'smart', 'clever'])"
      ]
     },
     "execution_count": 65,
     "metadata": {},
     "output_type": "execute_result"
    }
   ],
   "source": [
    "t.keys()"
   ]
  },
  {
   "cell_type": "code",
   "execution_count": 66,
   "id": "529b56a2",
   "metadata": {
    "execution": {
     "iopub.execute_input": "2023-10-26T17:46:47.083071Z",
     "iopub.status.busy": "2023-10-26T17:46:47.082651Z",
     "iopub.status.idle": "2023-10-26T17:46:47.090193Z",
     "shell.execute_reply": "2023-10-26T17:46:47.089005Z"
    },
    "papermill": {
     "duration": 0.092438,
     "end_time": "2023-10-26T17:46:47.092655",
     "exception": false,
     "start_time": "2023-10-26T17:46:47.000217",
     "status": "completed"
    },
    "tags": []
   },
   "outputs": [
    {
     "data": {
      "text/plain": [
       "dict_values(['swapna is a beautiful women', 'tayyab is a smart person', 'parth is clever'])"
      ]
     },
     "execution_count": 66,
     "metadata": {},
     "output_type": "execute_result"
    }
   ],
   "source": [
    "t.values()"
   ]
  },
  {
   "cell_type": "code",
   "execution_count": 67,
   "id": "335e9b4c",
   "metadata": {
    "execution": {
     "iopub.execute_input": "2023-10-26T17:46:47.251664Z",
     "iopub.status.busy": "2023-10-26T17:46:47.250932Z",
     "iopub.status.idle": "2023-10-26T17:46:47.258564Z",
     "shell.execute_reply": "2023-10-26T17:46:47.257340Z"
    },
    "papermill": {
     "duration": 0.090388,
     "end_time": "2023-10-26T17:46:47.261162",
     "exception": false,
     "start_time": "2023-10-26T17:46:47.170774",
     "status": "completed"
    },
    "tags": []
   },
   "outputs": [
    {
     "data": {
      "text/plain": [
       "dict_items([('beautiful', 'swapna is a beautiful women'), ('smart', 'tayyab is a smart person'), ('clever', 'parth is clever')])"
      ]
     },
     "execution_count": 67,
     "metadata": {},
     "output_type": "execute_result"
    }
   ],
   "source": [
    "t.items()"
   ]
  },
  {
   "cell_type": "code",
   "execution_count": 68,
   "id": "d5cf544c",
   "metadata": {
    "execution": {
     "iopub.execute_input": "2023-10-26T17:46:47.424228Z",
     "iopub.status.busy": "2023-10-26T17:46:47.423840Z",
     "iopub.status.idle": "2023-10-26T17:46:47.432477Z",
     "shell.execute_reply": "2023-10-26T17:46:47.431220Z"
    },
    "papermill": {
     "duration": 0.09367,
     "end_time": "2023-10-26T17:46:47.434825",
     "exception": false,
     "start_time": "2023-10-26T17:46:47.341155",
     "status": "completed"
    },
    "tags": []
   },
   "outputs": [
    {
     "data": {
      "text/plain": [
       "3"
      ]
     },
     "execution_count": 68,
     "metadata": {},
     "output_type": "execute_result"
    }
   ],
   "source": [
    "ch = { \"c1\" :\n",
    "                   {\"c1.1\" :  \"chapter1.1\",\n",
    "                    \n",
    "                    \"c1.2\" :  \n",
    "                             {\"c1.2.1\" : \"chapter mlv\",\n",
    "                              \"c1.2.2\" : [10,20,30,40]},\n",
    "                    \n",
    "                    \"c1.3\" :  \"chapter1.3\"},\n",
    "     \"c2\" : \"chapter2\",\n",
    "     \"c3\" : \"chapter3\"}\n",
    "\n",
    "len(ch)"
   ]
  },
  {
   "cell_type": "code",
   "execution_count": 69,
   "id": "95d001a7",
   "metadata": {
    "execution": {
     "iopub.execute_input": "2023-10-26T17:46:47.594654Z",
     "iopub.status.busy": "2023-10-26T17:46:47.594240Z",
     "iopub.status.idle": "2023-10-26T17:46:47.601538Z",
     "shell.execute_reply": "2023-10-26T17:46:47.600532Z"
    },
    "papermill": {
     "duration": 0.089582,
     "end_time": "2023-10-26T17:46:47.603827",
     "exception": false,
     "start_time": "2023-10-26T17:46:47.514245",
     "status": "completed"
    },
    "tags": []
   },
   "outputs": [
    {
     "data": {
      "text/plain": [
       "10"
      ]
     },
     "execution_count": 69,
     "metadata": {},
     "output_type": "execute_result"
    }
   ],
   "source": [
    "ch[\"c1\"][\"c1.2\"][\"c1.2.2\"][0]"
   ]
  },
  {
   "cell_type": "code",
   "execution_count": 70,
   "id": "ef052f0e",
   "metadata": {
    "execution": {
     "iopub.execute_input": "2023-10-26T17:46:47.765511Z",
     "iopub.status.busy": "2023-10-26T17:46:47.765110Z",
     "iopub.status.idle": "2023-10-26T17:46:47.770103Z",
     "shell.execute_reply": "2023-10-26T17:46:47.769244Z"
    },
    "papermill": {
     "duration": 0.088761,
     "end_time": "2023-10-26T17:46:47.772168",
     "exception": false,
     "start_time": "2023-10-26T17:46:47.683407",
     "status": "completed"
    },
    "tags": []
   },
   "outputs": [],
   "source": [
    "ch[\"c3\"] = \"sush\""
   ]
  },
  {
   "cell_type": "code",
   "execution_count": 71,
   "id": "5585040a",
   "metadata": {
    "execution": {
     "iopub.execute_input": "2023-10-26T17:46:47.934831Z",
     "iopub.status.busy": "2023-10-26T17:46:47.933761Z",
     "iopub.status.idle": "2023-10-26T17:46:47.940440Z",
     "shell.execute_reply": "2023-10-26T17:46:47.939358Z"
    },
    "papermill": {
     "duration": 0.089849,
     "end_time": "2023-10-26T17:46:47.942652",
     "exception": false,
     "start_time": "2023-10-26T17:46:47.852803",
     "status": "completed"
    },
    "tags": []
   },
   "outputs": [
    {
     "data": {
      "text/plain": [
       "3"
      ]
     },
     "execution_count": 71,
     "metadata": {},
     "output_type": "execute_result"
    }
   ],
   "source": [
    "len(ch.items())"
   ]
  },
  {
   "cell_type": "code",
   "execution_count": 72,
   "id": "cb141dc8",
   "metadata": {
    "execution": {
     "iopub.execute_input": "2023-10-26T17:46:48.102441Z",
     "iopub.status.busy": "2023-10-26T17:46:48.101458Z",
     "iopub.status.idle": "2023-10-26T17:46:48.108488Z",
     "shell.execute_reply": "2023-10-26T17:46:48.107738Z"
    },
    "papermill": {
     "duration": 0.08918,
     "end_time": "2023-10-26T17:46:48.110631",
     "exception": false,
     "start_time": "2023-10-26T17:46:48.021451",
     "status": "completed"
    },
    "tags": []
   },
   "outputs": [
    {
     "data": {
      "text/plain": [
       "{'c1': {'c1.1': 'chapter1.1',\n",
       "  'c1.2': {'c1.2.1': 'chapter mlv', 'c1.2.2': [10, 20, 30, 40]},\n",
       "  'c1.3': 'chapter1.3'},\n",
       " 'c2': 'chapter2',\n",
       " 'c3': 'sush'}"
      ]
     },
     "execution_count": 72,
     "metadata": {},
     "output_type": "execute_result"
    }
   ],
   "source": [
    "ch"
   ]
  },
  {
   "cell_type": "markdown",
   "id": "76f18ec7",
   "metadata": {
    "papermill": {
     "duration": 0.078897,
     "end_time": "2023-10-26T17:46:48.268111",
     "exception": false,
     "start_time": "2023-10-26T17:46:48.189214",
     "status": "completed"
    },
    "tags": []
   },
   "source": [
    "# type\n",
    "int()\n",
    "float()\n",
    "str()"
   ]
  },
  {
   "cell_type": "markdown",
   "id": "a3ce81a9",
   "metadata": {
    "papermill": {
     "duration": 0.080051,
     "end_time": "2023-10-26T17:46:48.430625",
     "exception": false,
     "start_time": "2023-10-26T17:46:48.350574",
     "status": "completed"
    },
    "tags": []
   },
   "source": [
    "# data structure casting\n",
    "## list()  tuple() set()  dict()"
   ]
  },
  {
   "cell_type": "code",
   "execution_count": 73,
   "id": "4b779b31",
   "metadata": {
    "execution": {
     "iopub.execute_input": "2023-10-26T17:46:48.590915Z",
     "iopub.status.busy": "2023-10-26T17:46:48.590095Z",
     "iopub.status.idle": "2023-10-26T17:46:48.596849Z",
     "shell.execute_reply": "2023-10-26T17:46:48.595700Z"
    },
    "papermill": {
     "duration": 0.089615,
     "end_time": "2023-10-26T17:46:48.599347",
     "exception": false,
     "start_time": "2023-10-26T17:46:48.509732",
     "status": "completed"
    },
    "tags": []
   },
   "outputs": [
    {
     "data": {
      "text/plain": [
       "list"
      ]
     },
     "execution_count": 73,
     "metadata": {},
     "output_type": "execute_result"
    }
   ],
   "source": [
    "a = [10,20,30]\n",
    "type(a)"
   ]
  },
  {
   "cell_type": "code",
   "execution_count": 74,
   "id": "175b4508",
   "metadata": {
    "execution": {
     "iopub.execute_input": "2023-10-26T17:46:48.759787Z",
     "iopub.status.busy": "2023-10-26T17:46:48.759346Z",
     "iopub.status.idle": "2023-10-26T17:46:48.766383Z",
     "shell.execute_reply": "2023-10-26T17:46:48.765334Z"
    },
    "papermill": {
     "duration": 0.090668,
     "end_time": "2023-10-26T17:46:48.768845",
     "exception": false,
     "start_time": "2023-10-26T17:46:48.678177",
     "status": "completed"
    },
    "tags": []
   },
   "outputs": [
    {
     "data": {
      "text/plain": [
       "(10, 20, 30)"
      ]
     },
     "execution_count": 74,
     "metadata": {},
     "output_type": "execute_result"
    }
   ],
   "source": [
    "b = tuple(a)\n",
    "b"
   ]
  },
  {
   "cell_type": "code",
   "execution_count": 75,
   "id": "f670cb3d",
   "metadata": {
    "execution": {
     "iopub.execute_input": "2023-10-26T17:46:48.930790Z",
     "iopub.status.busy": "2023-10-26T17:46:48.930408Z",
     "iopub.status.idle": "2023-10-26T17:46:48.937418Z",
     "shell.execute_reply": "2023-10-26T17:46:48.936137Z"
    },
    "papermill": {
     "duration": 0.091628,
     "end_time": "2023-10-26T17:46:48.940073",
     "exception": false,
     "start_time": "2023-10-26T17:46:48.848445",
     "status": "completed"
    },
    "tags": []
   },
   "outputs": [
    {
     "data": {
      "text/plain": [
       "tuple"
      ]
     },
     "execution_count": 75,
     "metadata": {},
     "output_type": "execute_result"
    }
   ],
   "source": [
    "type(b)"
   ]
  },
  {
   "cell_type": "code",
   "execution_count": 76,
   "id": "561c59e5",
   "metadata": {
    "execution": {
     "iopub.execute_input": "2023-10-26T17:46:49.104987Z",
     "iopub.status.busy": "2023-10-26T17:46:49.104619Z",
     "iopub.status.idle": "2023-10-26T17:46:49.109749Z",
     "shell.execute_reply": "2023-10-26T17:46:49.108515Z"
    },
    "papermill": {
     "duration": 0.090894,
     "end_time": "2023-10-26T17:46:49.112101",
     "exception": false,
     "start_time": "2023-10-26T17:46:49.021207",
     "status": "completed"
    },
    "tags": []
   },
   "outputs": [],
   "source": [
    "gg = (\"sush@gmail.com\",2564856855)\n",
    "# gg[0] = \"sush@outlook.com\""
   ]
  },
  {
   "cell_type": "code",
   "execution_count": 77,
   "id": "d1bd6ce2",
   "metadata": {
    "execution": {
     "iopub.execute_input": "2023-10-26T17:46:49.274845Z",
     "iopub.status.busy": "2023-10-26T17:46:49.274446Z",
     "iopub.status.idle": "2023-10-26T17:46:49.281722Z",
     "shell.execute_reply": "2023-10-26T17:46:49.280486Z"
    },
    "papermill": {
     "duration": 0.092208,
     "end_time": "2023-10-26T17:46:49.284241",
     "exception": false,
     "start_time": "2023-10-26T17:46:49.192033",
     "status": "completed"
    },
    "tags": []
   },
   "outputs": [
    {
     "data": {
      "text/plain": [
       "['sush@gmail.com', 2564856855]"
      ]
     },
     "execution_count": 77,
     "metadata": {},
     "output_type": "execute_result"
    }
   ],
   "source": [
    "gg = list(gg)\n",
    "gg"
   ]
  },
  {
   "cell_type": "code",
   "execution_count": 78,
   "id": "04bcc193",
   "metadata": {
    "execution": {
     "iopub.execute_input": "2023-10-26T17:46:49.456650Z",
     "iopub.status.busy": "2023-10-26T17:46:49.456246Z",
     "iopub.status.idle": "2023-10-26T17:46:49.463031Z",
     "shell.execute_reply": "2023-10-26T17:46:49.461941Z"
    },
    "papermill": {
     "duration": 0.095286,
     "end_time": "2023-10-26T17:46:49.465863",
     "exception": false,
     "start_time": "2023-10-26T17:46:49.370577",
     "status": "completed"
    },
    "tags": []
   },
   "outputs": [
    {
     "data": {
      "text/plain": [
       "list"
      ]
     },
     "execution_count": 78,
     "metadata": {},
     "output_type": "execute_result"
    }
   ],
   "source": [
    "type(gg)"
   ]
  },
  {
   "cell_type": "code",
   "execution_count": 79,
   "id": "f4ffd5d7",
   "metadata": {
    "execution": {
     "iopub.execute_input": "2023-10-26T17:46:49.634697Z",
     "iopub.status.busy": "2023-10-26T17:46:49.634315Z",
     "iopub.status.idle": "2023-10-26T17:46:49.641443Z",
     "shell.execute_reply": "2023-10-26T17:46:49.640100Z"
    },
    "papermill": {
     "duration": 0.092571,
     "end_time": "2023-10-26T17:46:49.643887",
     "exception": false,
     "start_time": "2023-10-26T17:46:49.551316",
     "status": "completed"
    },
    "tags": []
   },
   "outputs": [
    {
     "data": {
      "text/plain": [
       "['sush@outlook.com', 2564856855]"
      ]
     },
     "execution_count": 79,
     "metadata": {},
     "output_type": "execute_result"
    }
   ],
   "source": [
    "gg[0] = \"sush@outlook.com\"\n",
    "gg"
   ]
  },
  {
   "cell_type": "code",
   "execution_count": 80,
   "id": "eb15cad5",
   "metadata": {
    "execution": {
     "iopub.execute_input": "2023-10-26T17:46:49.811335Z",
     "iopub.status.busy": "2023-10-26T17:46:49.810381Z",
     "iopub.status.idle": "2023-10-26T17:46:49.824814Z",
     "shell.execute_reply": "2023-10-26T17:46:49.823623Z"
    },
    "papermill": {
     "duration": 0.099964,
     "end_time": "2023-10-26T17:46:49.827899",
     "exception": false,
     "start_time": "2023-10-26T17:46:49.727935",
     "status": "completed"
    },
    "tags": []
   },
   "outputs": [
    {
     "data": {
      "text/plain": [
       "('sush@outlook.com', 2564856855)"
      ]
     },
     "execution_count": 80,
     "metadata": {},
     "output_type": "execute_result"
    }
   ],
   "source": [
    "gg = tuple(gg)\n",
    "gg"
   ]
  },
  {
   "cell_type": "code",
   "execution_count": 81,
   "id": "271fe186",
   "metadata": {
    "execution": {
     "iopub.execute_input": "2023-10-26T17:46:50.010410Z",
     "iopub.status.busy": "2023-10-26T17:46:50.009639Z",
     "iopub.status.idle": "2023-10-26T17:46:50.016785Z",
     "shell.execute_reply": "2023-10-26T17:46:50.015885Z"
    },
    "papermill": {
     "duration": 0.093434,
     "end_time": "2023-10-26T17:46:50.019029",
     "exception": false,
     "start_time": "2023-10-26T17:46:49.925595",
     "status": "completed"
    },
    "tags": []
   },
   "outputs": [
    {
     "data": {
      "text/plain": [
       "('sush@outlook.com', 2564856855)"
      ]
     },
     "execution_count": 81,
     "metadata": {},
     "output_type": "execute_result"
    }
   ],
   "source": [
    "gg = (\"sush@gmail.com\",2564856855)\n",
    "gg = list(gg)\n",
    "gg[0] = \"sush@outlook.com\"\n",
    "gg = tuple(gg)\n",
    "gg"
   ]
  },
  {
   "cell_type": "code",
   "execution_count": 82,
   "id": "7678b7a2",
   "metadata": {
    "execution": {
     "iopub.execute_input": "2023-10-26T17:46:50.186039Z",
     "iopub.status.busy": "2023-10-26T17:46:50.185355Z",
     "iopub.status.idle": "2023-10-26T17:46:50.192530Z",
     "shell.execute_reply": "2023-10-26T17:46:50.191670Z"
    },
    "papermill": {
     "duration": 0.093068,
     "end_time": "2023-10-26T17:46:50.195217",
     "exception": false,
     "start_time": "2023-10-26T17:46:50.102149",
     "status": "completed"
    },
    "tags": []
   },
   "outputs": [
    {
     "data": {
      "text/plain": [
       "[10, 20, 30]"
      ]
     },
     "execution_count": 82,
     "metadata": {},
     "output_type": "execute_result"
    }
   ],
   "source": [
    "a = [10,20,30,10]\n",
    "a = list(set(a))\n",
    "a"
   ]
  },
  {
   "cell_type": "code",
   "execution_count": 83,
   "id": "5498fc16",
   "metadata": {
    "execution": {
     "iopub.execute_input": "2023-10-26T17:46:50.366479Z",
     "iopub.status.busy": "2023-10-26T17:46:50.365415Z",
     "iopub.status.idle": "2023-10-26T17:46:50.371909Z",
     "shell.execute_reply": "2023-10-26T17:46:50.371014Z"
    },
    "papermill": {
     "duration": 0.094164,
     "end_time": "2023-10-26T17:46:50.374156",
     "exception": false,
     "start_time": "2023-10-26T17:46:50.279992",
     "status": "completed"
    },
    "tags": []
   },
   "outputs": [
    {
     "data": {
      "text/plain": [
       "[10, 20, 30]"
      ]
     },
     "execution_count": 83,
     "metadata": {},
     "output_type": "execute_result"
    }
   ],
   "source": [
    "a = list(set(a))\n",
    "a"
   ]
  },
  {
   "cell_type": "code",
   "execution_count": 84,
   "id": "d168cfde",
   "metadata": {
    "execution": {
     "iopub.execute_input": "2023-10-26T17:46:50.539966Z",
     "iopub.status.busy": "2023-10-26T17:46:50.539221Z",
     "iopub.status.idle": "2023-10-26T17:46:50.545630Z",
     "shell.execute_reply": "2023-10-26T17:46:50.544837Z"
    },
    "papermill": {
     "duration": 0.0914,
     "end_time": "2023-10-26T17:46:50.547829",
     "exception": false,
     "start_time": "2023-10-26T17:46:50.456429",
     "status": "completed"
    },
    "tags": []
   },
   "outputs": [
    {
     "data": {
      "text/plain": [
       "{10, 20, 30}"
      ]
     },
     "execution_count": 84,
     "metadata": {},
     "output_type": "execute_result"
    }
   ],
   "source": [
    "c = { 10,20,30,30}\n",
    "c \n",
    "\n"
   ]
  },
  {
   "cell_type": "code",
   "execution_count": 85,
   "id": "a60a7a9b",
   "metadata": {
    "execution": {
     "iopub.execute_input": "2023-10-26T17:46:50.711964Z",
     "iopub.status.busy": "2023-10-26T17:46:50.711212Z",
     "iopub.status.idle": "2023-10-26T17:46:50.717044Z",
     "shell.execute_reply": "2023-10-26T17:46:50.715893Z"
    },
    "papermill": {
     "duration": 0.090658,
     "end_time": "2023-10-26T17:46:50.719286",
     "exception": false,
     "start_time": "2023-10-26T17:46:50.628628",
     "status": "completed"
    },
    "tags": []
   },
   "outputs": [
    {
     "name": "stdout",
     "output_type": "stream",
     "text": [
      "3\n"
     ]
    }
   ],
   "source": [
    "thislist = [\"apple\", \"banana\", \"cherry\"]\n",
    "print(len(thislist))"
   ]
  },
  {
   "cell_type": "code",
   "execution_count": 86,
   "id": "80f1ac06",
   "metadata": {
    "execution": {
     "iopub.execute_input": "2023-10-26T17:46:50.888310Z",
     "iopub.status.busy": "2023-10-26T17:46:50.887598Z",
     "iopub.status.idle": "2023-10-26T17:46:50.894213Z",
     "shell.execute_reply": "2023-10-26T17:46:50.892665Z"
    },
    "papermill": {
     "duration": 0.0955,
     "end_time": "2023-10-26T17:46:50.897161",
     "exception": false,
     "start_time": "2023-10-26T17:46:50.801661",
     "status": "completed"
    },
    "tags": []
   },
   "outputs": [
    {
     "name": "stdout",
     "output_type": "stream",
     "text": [
      "['apple', 'banana', 'cherry']\n"
     ]
    }
   ],
   "source": [
    "thislist = list((\"apple\", \"banana\", \"cherry\")) # note the double round-brackets\n",
    "print(thislist)"
   ]
  },
  {
   "cell_type": "code",
   "execution_count": 87,
   "id": "6d4b4c4c",
   "metadata": {
    "execution": {
     "iopub.execute_input": "2023-10-26T17:46:51.066579Z",
     "iopub.status.busy": "2023-10-26T17:46:51.066132Z",
     "iopub.status.idle": "2023-10-26T17:46:51.072437Z",
     "shell.execute_reply": "2023-10-26T17:46:51.071120Z"
    },
    "papermill": {
     "duration": 0.094527,
     "end_time": "2023-10-26T17:46:51.074997",
     "exception": false,
     "start_time": "2023-10-26T17:46:50.980470",
     "status": "completed"
    },
    "tags": []
   },
   "outputs": [
    {
     "name": "stdout",
     "output_type": "stream",
     "text": [
      "['apple', 'banana', 'cherry', 'orange', 'kiwi', 'melon', 'mango']\n"
     ]
    }
   ],
   "source": [
    "thislist = [\"apple\", \"banana\", \"cherry\", \"orange\", \"kiwi\", \"melon\", \"mango\"]\n",
    "print(thislist[:])"
   ]
  },
  {
   "cell_type": "code",
   "execution_count": 88,
   "id": "ddca172e",
   "metadata": {
    "execution": {
     "iopub.execute_input": "2023-10-26T17:46:51.308334Z",
     "iopub.status.busy": "2023-10-26T17:46:51.307871Z",
     "iopub.status.idle": "2023-10-26T17:46:51.314121Z",
     "shell.execute_reply": "2023-10-26T17:46:51.312781Z"
    },
    "papermill": {
     "duration": 0.157633,
     "end_time": "2023-10-26T17:46:51.316635",
     "exception": false,
     "start_time": "2023-10-26T17:46:51.159002",
     "status": "completed"
    },
    "tags": []
   },
   "outputs": [
    {
     "name": "stdout",
     "output_type": "stream",
     "text": [
      "['orange', 'kiwi', 'melon']\n"
     ]
    }
   ],
   "source": [
    "thislist = [\"apple\", \"banana\", \"cherry\", \"orange\", \"kiwi\", \"melon\", \"mango\"]\n",
    "print(thislist[-4:-1])"
   ]
  },
  {
   "cell_type": "code",
   "execution_count": 89,
   "id": "692740db",
   "metadata": {
    "execution": {
     "iopub.execute_input": "2023-10-26T17:46:51.485059Z",
     "iopub.status.busy": "2023-10-26T17:46:51.484644Z",
     "iopub.status.idle": "2023-10-26T17:46:51.490257Z",
     "shell.execute_reply": "2023-10-26T17:46:51.489472Z"
    },
    "papermill": {
     "duration": 0.09232,
     "end_time": "2023-10-26T17:46:51.492830",
     "exception": false,
     "start_time": "2023-10-26T17:46:51.400510",
     "status": "completed"
    },
    "tags": []
   },
   "outputs": [
    {
     "name": "stdout",
     "output_type": "stream",
     "text": [
      "['apple', 'blackcurrant', 'cherry']\n"
     ]
    }
   ],
   "source": [
    "thislist = [\"apple\", \"banana\", \"cherry\"]\n",
    "thislist[1] = \"blackcurrant\"\n",
    "print(thislist)"
   ]
  },
  {
   "cell_type": "code",
   "execution_count": 90,
   "id": "dcb28bfa",
   "metadata": {
    "execution": {
     "iopub.execute_input": "2023-10-26T17:46:51.660305Z",
     "iopub.status.busy": "2023-10-26T17:46:51.659849Z",
     "iopub.status.idle": "2023-10-26T17:46:51.667671Z",
     "shell.execute_reply": "2023-10-26T17:46:51.666519Z"
    },
    "papermill": {
     "duration": 0.094616,
     "end_time": "2023-10-26T17:46:51.670058",
     "exception": false,
     "start_time": "2023-10-26T17:46:51.575442",
     "status": "completed"
    },
    "tags": []
   },
   "outputs": [
    {
     "data": {
      "text/plain": [
       "['apple', 'banana', 'cherry', 'orange']"
      ]
     },
     "execution_count": 90,
     "metadata": {},
     "output_type": "execute_result"
    }
   ],
   "source": [
    "fruits = ['apple', 'banana', 'cherry']\n",
    "fruits.append(\"orange\")\n",
    "fruits"
   ]
  },
  {
   "cell_type": "code",
   "execution_count": 91,
   "id": "7e11ef3c",
   "metadata": {
    "execution": {
     "iopub.execute_input": "2023-10-26T17:46:51.836078Z",
     "iopub.status.busy": "2023-10-26T17:46:51.835709Z",
     "iopub.status.idle": "2023-10-26T17:46:51.841066Z",
     "shell.execute_reply": "2023-10-26T17:46:51.839837Z"
    },
    "papermill": {
     "duration": 0.091589,
     "end_time": "2023-10-26T17:46:51.843488",
     "exception": false,
     "start_time": "2023-10-26T17:46:51.751899",
     "status": "completed"
    },
    "tags": []
   },
   "outputs": [],
   "source": [
    "fruits = ['apple', 'banana', 'cherry', 'orange']\n",
    "\n",
    "fruits.clear()"
   ]
  },
  {
   "cell_type": "code",
   "execution_count": 92,
   "id": "100e6e53",
   "metadata": {
    "execution": {
     "iopub.execute_input": "2023-10-26T17:46:52.011010Z",
     "iopub.status.busy": "2023-10-26T17:46:52.010634Z",
     "iopub.status.idle": "2023-10-26T17:46:52.017045Z",
     "shell.execute_reply": "2023-10-26T17:46:52.016072Z"
    },
    "papermill": {
     "duration": 0.092991,
     "end_time": "2023-10-26T17:46:52.019801",
     "exception": false,
     "start_time": "2023-10-26T17:46:51.926810",
     "status": "completed"
    },
    "tags": []
   },
   "outputs": [
    {
     "data": {
      "text/plain": [
       "[]"
      ]
     },
     "execution_count": 92,
     "metadata": {},
     "output_type": "execute_result"
    }
   ],
   "source": [
    "fruits "
   ]
  },
  {
   "cell_type": "code",
   "execution_count": 93,
   "id": "858840e7",
   "metadata": {
    "execution": {
     "iopub.execute_input": "2023-10-26T17:46:52.186568Z",
     "iopub.status.busy": "2023-10-26T17:46:52.186129Z",
     "iopub.status.idle": "2023-10-26T17:46:52.194487Z",
     "shell.execute_reply": "2023-10-26T17:46:52.193356Z"
    },
    "papermill": {
     "duration": 0.094312,
     "end_time": "2023-10-26T17:46:52.196841",
     "exception": false,
     "start_time": "2023-10-26T17:46:52.102529",
     "status": "completed"
    },
    "tags": []
   },
   "outputs": [
    {
     "data": {
      "text/plain": [
       "2"
      ]
     },
     "execution_count": 93,
     "metadata": {},
     "output_type": "execute_result"
    }
   ],
   "source": [
    "tay = ['sush', 'sush', 'cherry']\n",
    "\n",
    "tay.count(\"sush\")"
   ]
  },
  {
   "cell_type": "code",
   "execution_count": 94,
   "id": "c3eb5077",
   "metadata": {
    "execution": {
     "iopub.execute_input": "2023-10-26T17:46:52.365257Z",
     "iopub.status.busy": "2023-10-26T17:46:52.364871Z",
     "iopub.status.idle": "2023-10-26T17:46:52.372911Z",
     "shell.execute_reply": "2023-10-26T17:46:52.371556Z"
    },
    "papermill": {
     "duration": 0.095559,
     "end_time": "2023-10-26T17:46:52.375368",
     "exception": false,
     "start_time": "2023-10-26T17:46:52.279809",
     "status": "completed"
    },
    "tags": []
   },
   "outputs": [
    {
     "data": {
      "text/plain": [
       "1"
      ]
     },
     "execution_count": 94,
     "metadata": {},
     "output_type": "execute_result"
    }
   ],
   "source": [
    "fruits = ['apple', 'banana', 'cherry']\n",
    "\n",
    "points = (1, 4, 5, 9)\n",
    "\n",
    "fruits.extend(points)\n",
    "fruits[3]"
   ]
  },
  {
   "cell_type": "code",
   "execution_count": 95,
   "id": "1bfe9cb2",
   "metadata": {
    "execution": {
     "iopub.execute_input": "2023-10-26T17:46:52.545633Z",
     "iopub.status.busy": "2023-10-26T17:46:52.545114Z",
     "iopub.status.idle": "2023-10-26T17:46:52.553124Z",
     "shell.execute_reply": "2023-10-26T17:46:52.551986Z"
    },
    "papermill": {
     "duration": 0.094755,
     "end_time": "2023-10-26T17:46:52.555413",
     "exception": false,
     "start_time": "2023-10-26T17:46:52.460658",
     "status": "completed"
    },
    "tags": []
   },
   "outputs": [
    {
     "data": {
      "text/plain": [
       "['apple', 'banana', 'cherry', (1, 4, 5, 9)]"
      ]
     },
     "execution_count": 95,
     "metadata": {},
     "output_type": "execute_result"
    }
   ],
   "source": [
    "fruits = ['apple', 'banana', 'cherry']\n",
    "\n",
    "points = (1, 4, 5, 9)\n",
    "\n",
    "fruits.append(points)\n",
    "fruits"
   ]
  },
  {
   "cell_type": "code",
   "execution_count": 96,
   "id": "b975dbcc",
   "metadata": {
    "execution": {
     "iopub.execute_input": "2023-10-26T17:46:52.723818Z",
     "iopub.status.busy": "2023-10-26T17:46:52.723395Z",
     "iopub.status.idle": "2023-10-26T17:46:52.729789Z",
     "shell.execute_reply": "2023-10-26T17:46:52.728946Z"
    },
    "papermill": {
     "duration": 0.092279,
     "end_time": "2023-10-26T17:46:52.731816",
     "exception": false,
     "start_time": "2023-10-26T17:46:52.639537",
     "status": "completed"
    },
    "tags": []
   },
   "outputs": [
    {
     "data": {
      "text/plain": [
       "(1, 4, 5, 9)"
      ]
     },
     "execution_count": 96,
     "metadata": {},
     "output_type": "execute_result"
    }
   ],
   "source": [
    "fruits[3]"
   ]
  },
  {
   "cell_type": "code",
   "execution_count": 97,
   "id": "d7932745",
   "metadata": {
    "execution": {
     "iopub.execute_input": "2023-10-26T17:46:52.899377Z",
     "iopub.status.busy": "2023-10-26T17:46:52.898950Z",
     "iopub.status.idle": "2023-10-26T17:46:52.906150Z",
     "shell.execute_reply": "2023-10-26T17:46:52.904996Z"
    },
    "papermill": {
     "duration": 0.09357,
     "end_time": "2023-10-26T17:46:52.908688",
     "exception": false,
     "start_time": "2023-10-26T17:46:52.815118",
     "status": "completed"
    },
    "tags": []
   },
   "outputs": [
    {
     "data": {
      "text/plain": [
       "0"
      ]
     },
     "execution_count": 97,
     "metadata": {},
     "output_type": "execute_result"
    }
   ],
   "source": [
    "fruits = ['c001asha', 'coo2swapna', 'c001asha']\n",
    "\n",
    "fruits.index(\"c001asha\")"
   ]
  },
  {
   "cell_type": "code",
   "execution_count": 98,
   "id": "e4ebb823",
   "metadata": {
    "execution": {
     "iopub.execute_input": "2023-10-26T17:46:53.077192Z",
     "iopub.status.busy": "2023-10-26T17:46:53.076511Z",
     "iopub.status.idle": "2023-10-26T17:46:53.084188Z",
     "shell.execute_reply": "2023-10-26T17:46:53.083034Z"
    },
    "papermill": {
     "duration": 0.094106,
     "end_time": "2023-10-26T17:46:53.086503",
     "exception": false,
     "start_time": "2023-10-26T17:46:52.992397",
     "status": "completed"
    },
    "tags": []
   },
   "outputs": [
    {
     "data": {
      "text/plain": [
       "['apple', 'banana', 'orange', 'cherry']"
      ]
     },
     "execution_count": 98,
     "metadata": {},
     "output_type": "execute_result"
    }
   ],
   "source": [
    "fruits = ['apple', 'banana', 'cherry']\n",
    "\n",
    "fruits.insert(2, \"orange\")\n",
    "fruits"
   ]
  },
  {
   "cell_type": "code",
   "execution_count": 99,
   "id": "b55594a2",
   "metadata": {
    "execution": {
     "iopub.execute_input": "2023-10-26T17:46:53.254894Z",
     "iopub.status.busy": "2023-10-26T17:46:53.254504Z",
     "iopub.status.idle": "2023-10-26T17:46:53.262427Z",
     "shell.execute_reply": "2023-10-26T17:46:53.261009Z"
    },
    "papermill": {
     "duration": 0.09578,
     "end_time": "2023-10-26T17:46:53.265217",
     "exception": false,
     "start_time": "2023-10-26T17:46:53.169437",
     "status": "completed"
    },
    "tags": []
   },
   "outputs": [
    {
     "data": {
      "text/plain": [
       "'apple'"
      ]
     },
     "execution_count": 99,
     "metadata": {},
     "output_type": "execute_result"
    }
   ],
   "source": [
    "fruits = ['apple', 'banana', 'cherry']\n",
    "a = fruits.pop(0)\n",
    "a"
   ]
  },
  {
   "cell_type": "code",
   "execution_count": 100,
   "id": "c3fc615c",
   "metadata": {
    "execution": {
     "iopub.execute_input": "2023-10-26T17:46:53.443573Z",
     "iopub.status.busy": "2023-10-26T17:46:53.443139Z",
     "iopub.status.idle": "2023-10-26T17:46:53.450229Z",
     "shell.execute_reply": "2023-10-26T17:46:53.449348Z"
    },
    "papermill": {
     "duration": 0.098958,
     "end_time": "2023-10-26T17:46:53.452827",
     "exception": false,
     "start_time": "2023-10-26T17:46:53.353869",
     "status": "completed"
    },
    "tags": []
   },
   "outputs": [
    {
     "data": {
      "text/plain": [
       "0"
      ]
     },
     "execution_count": 100,
     "metadata": {},
     "output_type": "execute_result"
    }
   ],
   "source": [
    "fruits = ['apple', 'banana', 'cherry']\n",
    "a = fruits.index(\"apple\")\n",
    "a"
   ]
  },
  {
   "cell_type": "code",
   "execution_count": 101,
   "id": "4e932634",
   "metadata": {
    "execution": {
     "iopub.execute_input": "2023-10-26T17:46:53.626904Z",
     "iopub.status.busy": "2023-10-26T17:46:53.626502Z",
     "iopub.status.idle": "2023-10-26T17:46:53.634704Z",
     "shell.execute_reply": "2023-10-26T17:46:53.633503Z"
    },
    "papermill": {
     "duration": 0.097717,
     "end_time": "2023-10-26T17:46:53.637076",
     "exception": false,
     "start_time": "2023-10-26T17:46:53.539359",
     "status": "completed"
    },
    "tags": []
   },
   "outputs": [
    {
     "data": {
      "text/plain": [
       "['apple', 'banana', 'banana']"
      ]
     },
     "execution_count": 101,
     "metadata": {},
     "output_type": "execute_result"
    }
   ],
   "source": [
    "fruits = ['banana', \"apple\",'banana', 'banana']\n",
    "\n",
    "fruits.remove(\"banana\")\n",
    "fruits \n",
    "\n",
    "# ctr a\n",
    "#  ctr /"
   ]
  },
  {
   "cell_type": "code",
   "execution_count": 102,
   "id": "26c6250b",
   "metadata": {
    "execution": {
     "iopub.execute_input": "2023-10-26T17:46:53.811515Z",
     "iopub.status.busy": "2023-10-26T17:46:53.811134Z",
     "iopub.status.idle": "2023-10-26T17:46:53.818450Z",
     "shell.execute_reply": "2023-10-26T17:46:53.817307Z"
    },
    "papermill": {
     "duration": 0.098381,
     "end_time": "2023-10-26T17:46:53.820883",
     "exception": false,
     "start_time": "2023-10-26T17:46:53.722502",
     "status": "completed"
    },
    "tags": []
   },
   "outputs": [
    {
     "data": {
      "text/plain": [
       "['cherry', 'banana', 'apple']"
      ]
     },
     "execution_count": 102,
     "metadata": {},
     "output_type": "execute_result"
    }
   ],
   "source": [
    "fruits = ['apple', 'banana', 'cherry']\n",
    "\n",
    "fruits.reverse()\n",
    "fruits"
   ]
  },
  {
   "cell_type": "code",
   "execution_count": 103,
   "id": "4b152fe6",
   "metadata": {
    "execution": {
     "iopub.execute_input": "2023-10-26T17:46:53.994836Z",
     "iopub.status.busy": "2023-10-26T17:46:53.994385Z",
     "iopub.status.idle": "2023-10-26T17:46:54.001796Z",
     "shell.execute_reply": "2023-10-26T17:46:54.000894Z"
    },
    "papermill": {
     "duration": 0.095596,
     "end_time": "2023-10-26T17:46:54.004245",
     "exception": false,
     "start_time": "2023-10-26T17:46:53.908649",
     "status": "completed"
    },
    "tags": []
   },
   "outputs": [
    {
     "data": {
      "text/plain": [
       "[20, 11, 9, 30]"
      ]
     },
     "execution_count": 103,
     "metadata": {},
     "output_type": "execute_result"
    }
   ],
   "source": [
    "a= [20,11,9,30]\n",
    "a"
   ]
  },
  {
   "cell_type": "code",
   "execution_count": 104,
   "id": "99db9c30",
   "metadata": {
    "execution": {
     "iopub.execute_input": "2023-10-26T17:46:54.179917Z",
     "iopub.status.busy": "2023-10-26T17:46:54.179494Z",
     "iopub.status.idle": "2023-10-26T17:46:54.186910Z",
     "shell.execute_reply": "2023-10-26T17:46:54.185826Z"
    },
    "papermill": {
     "duration": 0.098246,
     "end_time": "2023-10-26T17:46:54.189190",
     "exception": false,
     "start_time": "2023-10-26T17:46:54.090944",
     "status": "completed"
    },
    "tags": []
   },
   "outputs": [
    {
     "data": {
      "text/plain": [
       "[30, 20, 11, 9]"
      ]
     },
     "execution_count": 104,
     "metadata": {},
     "output_type": "execute_result"
    }
   ],
   "source": [
    "a.sort(reverse = True)\n",
    "a"
   ]
  },
  {
   "cell_type": "code",
   "execution_count": 105,
   "id": "764d86e8",
   "metadata": {
    "execution": {
     "iopub.execute_input": "2023-10-26T17:46:54.371671Z",
     "iopub.status.busy": "2023-10-26T17:46:54.371135Z",
     "iopub.status.idle": "2023-10-26T17:46:54.382957Z",
     "shell.execute_reply": "2023-10-26T17:46:54.381640Z"
    },
    "papermill": {
     "duration": 0.109872,
     "end_time": "2023-10-26T17:46:54.385487",
     "exception": false,
     "start_time": "2023-10-26T17:46:54.275615",
     "status": "completed"
    },
    "tags": []
   },
   "outputs": [
    {
     "data": {
      "text/plain": [
       "[10, 20, 30, [40, 50, 60]]"
      ]
     },
     "execution_count": 105,
     "metadata": {},
     "output_type": "execute_result"
    }
   ],
   "source": [
    "d = [10,20,30]\n",
    "d.append([40,50,60])\n",
    "d"
   ]
  },
  {
   "cell_type": "code",
   "execution_count": 106,
   "id": "d7b7c64f",
   "metadata": {
    "execution": {
     "iopub.execute_input": "2023-10-26T17:46:54.567879Z",
     "iopub.status.busy": "2023-10-26T17:46:54.567508Z",
     "iopub.status.idle": "2023-10-26T17:46:54.575385Z",
     "shell.execute_reply": "2023-10-26T17:46:54.574241Z"
    },
    "papermill": {
     "duration": 0.101943,
     "end_time": "2023-10-26T17:46:54.577793",
     "exception": false,
     "start_time": "2023-10-26T17:46:54.475850",
     "status": "completed"
    },
    "tags": []
   },
   "outputs": [
    {
     "data": {
      "text/plain": [
       "[10, 20, 30, 40, 50, 60]"
      ]
     },
     "execution_count": 106,
     "metadata": {},
     "output_type": "execute_result"
    }
   ],
   "source": [
    "e = [10,20,30]\n",
    "e.extend([40,50,60])\n",
    "e"
   ]
  },
  {
   "cell_type": "code",
   "execution_count": 107,
   "id": "01c4b338",
   "metadata": {
    "execution": {
     "iopub.execute_input": "2023-10-26T17:46:54.759715Z",
     "iopub.status.busy": "2023-10-26T17:46:54.759202Z",
     "iopub.status.idle": "2023-10-26T17:46:54.770707Z",
     "shell.execute_reply": "2023-10-26T17:46:54.768210Z"
    },
    "papermill": {
     "duration": 0.110057,
     "end_time": "2023-10-26T17:46:54.776794",
     "exception": false,
     "start_time": "2023-10-26T17:46:54.666737",
     "status": "completed"
    },
    "tags": []
   },
   "outputs": [
    {
     "data": {
      "text/plain": [
       "[2, 3, 4]"
      ]
     },
     "execution_count": 107,
     "metadata": {},
     "output_type": "execute_result"
    }
   ],
   "source": [
    "a = [2,3,4,4]\n",
    "a = list(set(a))\n",
    "a"
   ]
  },
  {
   "cell_type": "code",
   "execution_count": 108,
   "id": "e611ac47",
   "metadata": {
    "execution": {
     "iopub.execute_input": "2023-10-26T17:46:54.953884Z",
     "iopub.status.busy": "2023-10-26T17:46:54.953423Z",
     "iopub.status.idle": "2023-10-26T17:46:54.959883Z",
     "shell.execute_reply": "2023-10-26T17:46:54.958684Z"
    },
    "papermill": {
     "duration": 0.098326,
     "end_time": "2023-10-26T17:46:54.962808",
     "exception": false,
     "start_time": "2023-10-26T17:46:54.864482",
     "status": "completed"
    },
    "tags": []
   },
   "outputs": [
    {
     "name": "stdout",
     "output_type": "stream",
     "text": [
      "yes\n",
      "tayyab\n",
      "prasad\n"
     ]
    }
   ],
   "source": [
    "if 9 > 6 : \n",
    "    print(\"yes\")\n",
    "    print(\"tayyab\")\n",
    "    \n",
    "print(\"prasad\")\n"
   ]
  },
  {
   "cell_type": "code",
   "execution_count": 109,
   "id": "e931b88e",
   "metadata": {
    "execution": {
     "iopub.execute_input": "2023-10-26T17:46:55.135443Z",
     "iopub.status.busy": "2023-10-26T17:46:55.134926Z",
     "iopub.status.idle": "2023-10-26T17:46:55.141434Z",
     "shell.execute_reply": "2023-10-26T17:46:55.140152Z"
    },
    "papermill": {
     "duration": 0.095442,
     "end_time": "2023-10-26T17:46:55.143989",
     "exception": false,
     "start_time": "2023-10-26T17:46:55.048547",
     "status": "completed"
    },
    "tags": []
   },
   "outputs": [
    {
     "name": "stdout",
     "output_type": "stream",
     "text": [
      "prasad\n"
     ]
    }
   ],
   "source": [
    "if 9 > 16 : \n",
    "    print(\"yes\")\n",
    "    print(\"tayyab\")\n",
    "    \n",
    "print(\"prasad\")"
   ]
  },
  {
   "cell_type": "code",
   "execution_count": 110,
   "id": "729223e2",
   "metadata": {
    "execution": {
     "iopub.execute_input": "2023-10-26T17:46:55.323292Z",
     "iopub.status.busy": "2023-10-26T17:46:55.322785Z",
     "iopub.status.idle": "2023-10-26T17:46:55.327511Z",
     "shell.execute_reply": "2023-10-26T17:46:55.326356Z"
    },
    "papermill": {
     "duration": 0.098129,
     "end_time": "2023-10-26T17:46:55.330252",
     "exception": false,
     "start_time": "2023-10-26T17:46:55.232123",
     "status": "completed"
    },
    "tags": []
   },
   "outputs": [],
   "source": [
    "# select *\n",
    "#             from table1"
   ]
  },
  {
   "cell_type": "code",
   "execution_count": 111,
   "id": "460906ba",
   "metadata": {
    "execution": {
     "iopub.execute_input": "2023-10-26T17:46:55.505432Z",
     "iopub.status.busy": "2023-10-26T17:46:55.504575Z",
     "iopub.status.idle": "2023-10-26T17:46:55.513439Z",
     "shell.execute_reply": "2023-10-26T17:46:55.512082Z"
    },
    "papermill": {
     "duration": 0.099389,
     "end_time": "2023-10-26T17:46:55.516111",
     "exception": false,
     "start_time": "2023-10-26T17:46:55.416722",
     "status": "completed"
    },
    "tags": []
   },
   "outputs": [
    {
     "name": "stdout",
     "output_type": "stream",
     "text": [
      "the girl got distinction\n",
      "distinction\n"
     ]
    }
   ],
   "source": [
    "marks = 80\n",
    "gender = \"female\"\n",
    "\n",
    "\n",
    "if marks > 75 :  \n",
    "    if gender == \"male\" :\n",
    "        print(\"the boy got distinction\")\n",
    "    else :\n",
    "        print(\"the girl got distinction\")        \n",
    "    print(\"distinction\")\n",
    "elif marks > 50 :\n",
    "    print(\"pass\")\n",
    "else :\n",
    "    print(\"fail\")"
   ]
  },
  {
   "cell_type": "code",
   "execution_count": 112,
   "id": "df58683e",
   "metadata": {
    "execution": {
     "iopub.execute_input": "2023-10-26T17:46:55.689161Z",
     "iopub.status.busy": "2023-10-26T17:46:55.688783Z",
     "iopub.status.idle": "2023-10-26T17:46:55.694095Z",
     "shell.execute_reply": "2023-10-26T17:46:55.692938Z"
    },
    "papermill": {
     "duration": 0.095665,
     "end_time": "2023-10-26T17:46:55.698013",
     "exception": false,
     "start_time": "2023-10-26T17:46:55.602348",
     "status": "completed"
    },
    "tags": []
   },
   "outputs": [
    {
     "name": "stdout",
     "output_type": "stream",
     "text": [
      "mlv 100\n",
      "mlv 97\n",
      "mlv 94\n",
      "mlv 91\n"
     ]
    }
   ],
   "source": [
    "salary = 100\n",
    "\n",
    "while salary > 90 :\n",
    "    print(\"mlv\",salary )\n",
    "    salary = salary - 3"
   ]
  },
  {
   "cell_type": "code",
   "execution_count": 113,
   "id": "214ccf1f",
   "metadata": {
    "execution": {
     "iopub.execute_input": "2023-10-26T17:46:55.871735Z",
     "iopub.status.busy": "2023-10-26T17:46:55.871360Z",
     "iopub.status.idle": "2023-10-26T17:46:55.877397Z",
     "shell.execute_reply": "2023-10-26T17:46:55.876105Z"
    },
    "papermill": {
     "duration": 0.096462,
     "end_time": "2023-10-26T17:46:55.880032",
     "exception": false,
     "start_time": "2023-10-26T17:46:55.783570",
     "status": "completed"
    },
    "tags": []
   },
   "outputs": [
    {
     "name": "stdout",
     "output_type": "stream",
     "text": [
      "10\n",
      "----\n",
      "13\n",
      "----\n",
      "16\n",
      "----\n",
      "19\n",
      "----\n"
     ]
    }
   ],
   "source": [
    "for i in  range(10,20,3) :\n",
    "    print(i)\n",
    "    print(\"----\")"
   ]
  },
  {
   "cell_type": "code",
   "execution_count": 114,
   "id": "9ac3c355",
   "metadata": {
    "execution": {
     "iopub.execute_input": "2023-10-26T17:46:56.055200Z",
     "iopub.status.busy": "2023-10-26T17:46:56.054670Z",
     "iopub.status.idle": "2023-10-26T17:46:56.061350Z",
     "shell.execute_reply": "2023-10-26T17:46:56.060037Z"
    },
    "papermill": {
     "duration": 0.098347,
     "end_time": "2023-10-26T17:46:56.064186",
     "exception": false,
     "start_time": "2023-10-26T17:46:55.965839",
     "status": "completed"
    },
    "tags": []
   },
   "outputs": [
    {
     "name": "stdout",
     "output_type": "stream",
     "text": [
      "10\n",
      "----\n",
      "husna\n",
      "13\n",
      "----\n",
      "husna\n",
      "16\n",
      "----\n",
      "husna\n",
      "19\n",
      "----\n",
      "husna\n"
     ]
    }
   ],
   "source": [
    "for i in  [10,13,16,19] :\n",
    "    print(i)\n",
    "    print(\"----\")\n",
    "    print(\"husna\")"
   ]
  },
  {
   "cell_type": "code",
   "execution_count": 115,
   "id": "339bca09",
   "metadata": {
    "execution": {
     "iopub.execute_input": "2023-10-26T17:46:56.236550Z",
     "iopub.status.busy": "2023-10-26T17:46:56.236133Z",
     "iopub.status.idle": "2023-10-26T17:46:56.242733Z",
     "shell.execute_reply": "2023-10-26T17:46:56.241067Z"
    },
    "papermill": {
     "duration": 0.094533,
     "end_time": "2023-10-26T17:46:56.245016",
     "exception": false,
     "start_time": "2023-10-26T17:46:56.150483",
     "status": "completed"
    },
    "tags": []
   },
   "outputs": [
    {
     "name": "stdout",
     "output_type": "stream",
     "text": [
      "the element is  10\n",
      "the element is  20\n",
      "the element is  30\n",
      "the element is  40\n",
      "the element is  50\n"
     ]
    }
   ],
   "source": [
    "a = [10,20,30,40,50]\n",
    "\n",
    "for  abhi  in a :\n",
    "    print(\"the element is \",abhi)"
   ]
  },
  {
   "cell_type": "code",
   "execution_count": 116,
   "id": "f6137a23",
   "metadata": {
    "execution": {
     "iopub.execute_input": "2023-10-26T17:46:56.420087Z",
     "iopub.status.busy": "2023-10-26T17:46:56.419694Z",
     "iopub.status.idle": "2023-10-26T17:46:56.426085Z",
     "shell.execute_reply": "2023-10-26T17:46:56.424881Z"
    },
    "papermill": {
     "duration": 0.097155,
     "end_time": "2023-10-26T17:46:56.428686",
     "exception": false,
     "start_time": "2023-10-26T17:46:56.331531",
     "status": "completed"
    },
    "tags": []
   },
   "outputs": [
    {
     "name": "stdout",
     "output_type": "stream",
     "text": [
      "the element is  10\n",
      "the element is  20\n",
      "the element is  30\n",
      "the element is  40\n",
      "the element is  50\n"
     ]
    }
   ],
   "source": [
    "a = [10,20,30,40,50]\n",
    "\n",
    "for abhi in range(len(a)) : # [ 0,1,2,3,4]\n",
    "    print(\"the element is \",a[abhi])\n",
    "    "
   ]
  },
  {
   "cell_type": "code",
   "execution_count": 117,
   "id": "2aa816b4",
   "metadata": {
    "execution": {
     "iopub.execute_input": "2023-10-26T17:46:56.602328Z",
     "iopub.status.busy": "2023-10-26T17:46:56.601920Z",
     "iopub.status.idle": "2023-10-26T17:46:56.608258Z",
     "shell.execute_reply": "2023-10-26T17:46:56.606445Z"
    },
    "papermill": {
     "duration": 0.095741,
     "end_time": "2023-10-26T17:46:56.610646",
     "exception": false,
     "start_time": "2023-10-26T17:46:56.514905",
     "status": "completed"
    },
    "tags": []
   },
   "outputs": [
    {
     "name": "stdout",
     "output_type": "stream",
     "text": [
      "1\n",
      "2\n",
      "3\n",
      "4\n"
     ]
    }
   ],
   "source": [
    "for i in range(1,5):\n",
    "    print(i)"
   ]
  },
  {
   "cell_type": "markdown",
   "id": "8d8c5c3e",
   "metadata": {
    "papermill": {
     "duration": 0.084877,
     "end_time": "2023-10-26T17:46:56.780750",
     "exception": false,
     "start_time": "2023-10-26T17:46:56.695873",
     "status": "completed"
    },
    "tags": []
   },
   "source": [
    "### "
   ]
  },
  {
   "cell_type": "code",
   "execution_count": 118,
   "id": "9c6aa689",
   "metadata": {
    "execution": {
     "iopub.execute_input": "2023-10-26T17:46:56.954476Z",
     "iopub.status.busy": "2023-10-26T17:46:56.954022Z",
     "iopub.status.idle": "2023-10-26T17:46:56.961559Z",
     "shell.execute_reply": "2023-10-26T17:46:56.959637Z"
    },
    "papermill": {
     "duration": 0.097551,
     "end_time": "2023-10-26T17:46:56.963950",
     "exception": false,
     "start_time": "2023-10-26T17:46:56.866399",
     "status": "completed"
    },
    "tags": []
   },
   "outputs": [
    {
     "name": "stdout",
     "output_type": "stream",
     "text": [
      "{'apple', 'orange', 'banana', 'cherry'}\n"
     ]
    }
   ],
   "source": [
    "fruits = {\"apple\", \"banana\", \"cherry\"}\n",
    "\n",
    "fruits.add(\"orange\")\n",
    "\n",
    "print(fruits)"
   ]
  },
  {
   "cell_type": "code",
   "execution_count": 119,
   "id": "b11b882a",
   "metadata": {
    "execution": {
     "iopub.execute_input": "2023-10-26T17:46:57.136735Z",
     "iopub.status.busy": "2023-10-26T17:46:57.136324Z",
     "iopub.status.idle": "2023-10-26T17:46:57.143114Z",
     "shell.execute_reply": "2023-10-26T17:46:57.141996Z"
    },
    "papermill": {
     "duration": 0.095706,
     "end_time": "2023-10-26T17:46:57.145452",
     "exception": false,
     "start_time": "2023-10-26T17:46:57.049746",
     "status": "completed"
    },
    "tags": []
   },
   "outputs": [
    {
     "name": "stdout",
     "output_type": "stream",
     "text": [
      "{'tayyab'}\n"
     ]
    }
   ],
   "source": [
    "fruits = {\"apple\", \"banana\", \"cherry\"}\n",
    "\n",
    "fruits.clear()\n",
    "\n",
    "fruits.add(\"tayyab\")\n",
    "\n",
    "print(fruits)"
   ]
  },
  {
   "cell_type": "code",
   "execution_count": 120,
   "id": "d43caa94",
   "metadata": {
    "execution": {
     "iopub.execute_input": "2023-10-26T17:46:57.316893Z",
     "iopub.status.busy": "2023-10-26T17:46:57.315993Z",
     "iopub.status.idle": "2023-10-26T17:46:57.322856Z",
     "shell.execute_reply": "2023-10-26T17:46:57.321550Z"
    },
    "papermill": {
     "duration": 0.095392,
     "end_time": "2023-10-26T17:46:57.325354",
     "exception": false,
     "start_time": "2023-10-26T17:46:57.229962",
     "status": "completed"
    },
    "tags": []
   },
   "outputs": [
    {
     "name": "stdout",
     "output_type": "stream",
     "text": [
      "{'banana', 'cherry'}\n"
     ]
    }
   ],
   "source": [
    "x = {\"apple\", \"banana\", \"cherry\"}\n",
    "y = {\"google\", \"microsoft\", \"apple\"}\n",
    "\n",
    "z = x.difference(y)\n",
    "\n",
    "print(z)"
   ]
  },
  {
   "cell_type": "code",
   "execution_count": 121,
   "id": "4cea3d79",
   "metadata": {
    "execution": {
     "iopub.execute_input": "2023-10-26T17:46:57.499610Z",
     "iopub.status.busy": "2023-10-26T17:46:57.499194Z",
     "iopub.status.idle": "2023-10-26T17:46:57.506023Z",
     "shell.execute_reply": "2023-10-26T17:46:57.504866Z"
    },
    "papermill": {
     "duration": 0.097489,
     "end_time": "2023-10-26T17:46:57.508423",
     "exception": false,
     "start_time": "2023-10-26T17:46:57.410934",
     "status": "completed"
    },
    "tags": []
   },
   "outputs": [
    {
     "name": "stdout",
     "output_type": "stream",
     "text": [
      "{'apple'}\n"
     ]
    }
   ],
   "source": [
    "x = {\"apple\", \"banana\", \"cherry\"}\n",
    "y = {\"google\", \"microsoft\", \"apple\"}\n",
    "\n",
    "z = y.intersection(x)\n",
    "\n",
    "print(z)"
   ]
  },
  {
   "cell_type": "code",
   "execution_count": 122,
   "id": "4cac9184",
   "metadata": {
    "execution": {
     "iopub.execute_input": "2023-10-26T17:46:57.680284Z",
     "iopub.status.busy": "2023-10-26T17:46:57.679868Z",
     "iopub.status.idle": "2023-10-26T17:46:57.686314Z",
     "shell.execute_reply": "2023-10-26T17:46:57.685063Z"
    },
    "papermill": {
     "duration": 0.095631,
     "end_time": "2023-10-26T17:46:57.689094",
     "exception": false,
     "start_time": "2023-10-26T17:46:57.593463",
     "status": "completed"
    },
    "tags": []
   },
   "outputs": [
    {
     "name": "stdout",
     "output_type": "stream",
     "text": [
      "False\n"
     ]
    }
   ],
   "source": [
    "x = {\"apple\", \"google\", \"cherry\"}\n",
    "y = {\"google\", \"microsoft\", \"facebook\"}\n",
    "\n",
    "z = x.isdisjoint(y)\n",
    "\n",
    "print(z)\n"
   ]
  },
  {
   "cell_type": "code",
   "execution_count": 123,
   "id": "5355c3d8",
   "metadata": {
    "execution": {
     "iopub.execute_input": "2023-10-26T17:46:57.864202Z",
     "iopub.status.busy": "2023-10-26T17:46:57.863840Z",
     "iopub.status.idle": "2023-10-26T17:46:57.870047Z",
     "shell.execute_reply": "2023-10-26T17:46:57.868630Z"
    },
    "papermill": {
     "duration": 0.097765,
     "end_time": "2023-10-26T17:46:57.872637",
     "exception": false,
     "start_time": "2023-10-26T17:46:57.774872",
     "status": "completed"
    },
    "tags": []
   },
   "outputs": [
    {
     "name": "stdout",
     "output_type": "stream",
     "text": [
      "False\n"
     ]
    }
   ],
   "source": [
    "x = {\"a\", \"b\", \"h\"}\n",
    "y = {\"f\", \"e\", \"d\", \"c\", \"b\", \"a\"}\n",
    "\n",
    "z = x.issubset(y)\n",
    "\n",
    "print(z)"
   ]
  },
  {
   "cell_type": "code",
   "execution_count": 124,
   "id": "7a782037",
   "metadata": {
    "execution": {
     "iopub.execute_input": "2023-10-26T17:46:58.048658Z",
     "iopub.status.busy": "2023-10-26T17:46:58.048200Z",
     "iopub.status.idle": "2023-10-26T17:46:58.054437Z",
     "shell.execute_reply": "2023-10-26T17:46:58.053290Z"
    },
    "papermill": {
     "duration": 0.097195,
     "end_time": "2023-10-26T17:46:58.057075",
     "exception": false,
     "start_time": "2023-10-26T17:46:57.959880",
     "status": "completed"
    },
    "tags": []
   },
   "outputs": [
    {
     "name": "stdout",
     "output_type": "stream",
     "text": [
      "False\n"
     ]
    }
   ],
   "source": [
    "x = {\"f\", \"e\", \"d\", \"c\", \"b\", \"a\"}\n",
    "y = {\"a\", \"b\", \"z\"}\n",
    "\n",
    "z = x.issuperset(y)\n",
    "\n",
    "print(z)"
   ]
  },
  {
   "cell_type": "code",
   "execution_count": 125,
   "id": "4631f453",
   "metadata": {
    "execution": {
     "iopub.execute_input": "2023-10-26T17:46:58.232767Z",
     "iopub.status.busy": "2023-10-26T17:46:58.232312Z",
     "iopub.status.idle": "2023-10-26T17:46:58.238453Z",
     "shell.execute_reply": "2023-10-26T17:46:58.237306Z"
    },
    "papermill": {
     "duration": 0.097659,
     "end_time": "2023-10-26T17:46:58.240899",
     "exception": false,
     "start_time": "2023-10-26T17:46:58.143240",
     "status": "completed"
    },
    "tags": []
   },
   "outputs": [
    {
     "name": "stdout",
     "output_type": "stream",
     "text": [
      "{'banana', 'cherry'}\n"
     ]
    }
   ],
   "source": [
    "fruits = {\"apple\", \"banana\", \"cherry\"}\n",
    "\n",
    "fruits.pop()\n",
    "\n",
    "print(fruits)"
   ]
  },
  {
   "cell_type": "code",
   "execution_count": 126,
   "id": "f88e9866",
   "metadata": {
    "execution": {
     "iopub.execute_input": "2023-10-26T17:46:58.416697Z",
     "iopub.status.busy": "2023-10-26T17:46:58.415981Z",
     "iopub.status.idle": "2023-10-26T17:46:58.422351Z",
     "shell.execute_reply": "2023-10-26T17:46:58.420877Z"
    },
    "papermill": {
     "duration": 0.096806,
     "end_time": "2023-10-26T17:46:58.424824",
     "exception": false,
     "start_time": "2023-10-26T17:46:58.328018",
     "status": "completed"
    },
    "tags": []
   },
   "outputs": [
    {
     "name": "stdout",
     "output_type": "stream",
     "text": [
      "{'apple', 'banana', 'cherry'}\n"
     ]
    }
   ],
   "source": [
    "x = {\"apple\", \"banana\", \"cherry\"}\n",
    "y = {\"google\", \"microsoft\", \"apple\"}\n",
    "\n",
    "z = x.union(y)\n",
    "\n",
    "print(x)"
   ]
  },
  {
   "cell_type": "code",
   "execution_count": 127,
   "id": "421e5717",
   "metadata": {
    "execution": {
     "iopub.execute_input": "2023-10-26T17:46:58.604300Z",
     "iopub.status.busy": "2023-10-26T17:46:58.603095Z",
     "iopub.status.idle": "2023-10-26T17:46:58.609690Z",
     "shell.execute_reply": "2023-10-26T17:46:58.608347Z"
    },
    "papermill": {
     "duration": 0.098311,
     "end_time": "2023-10-26T17:46:58.612087",
     "exception": false,
     "start_time": "2023-10-26T17:46:58.513776",
     "status": "completed"
    },
    "tags": []
   },
   "outputs": [
    {
     "name": "stdout",
     "output_type": "stream",
     "text": [
      "{'google', 'apple', 'microsoft', 'banana', 'cherry'}\n"
     ]
    }
   ],
   "source": [
    "x = {\"apple\", \"banana\", \"cherry\"}\n",
    "y = {\"google\", \"microsoft\", \"apple\"}\n",
    "\n",
    "x.update(y)\n",
    "\n",
    "print(x)"
   ]
  },
  {
   "cell_type": "code",
   "execution_count": 128,
   "id": "1719766b",
   "metadata": {
    "execution": {
     "iopub.execute_input": "2023-10-26T17:46:58.787719Z",
     "iopub.status.busy": "2023-10-26T17:46:58.787233Z",
     "iopub.status.idle": "2023-10-26T17:46:58.795292Z",
     "shell.execute_reply": "2023-10-26T17:46:58.794052Z"
    },
    "papermill": {
     "duration": 0.098575,
     "end_time": "2023-10-26T17:46:58.797793",
     "exception": false,
     "start_time": "2023-10-26T17:46:58.699218",
     "status": "completed"
    },
    "tags": []
   },
   "outputs": [
    {
     "name": "stdout",
     "output_type": "stream",
     "text": [
      "{'key 1': 'sush', 'key 2': 'sush', 'key 3': 'sush'}\n"
     ]
    }
   ],
   "source": [
    "x = ('key 1', 'key 2', 'key 3')\n",
    "y = \"sush\"\n",
    "\n",
    "thisdict = dict.fromkeys(x, y)\n",
    "\n",
    "print(thisdict)"
   ]
  },
  {
   "cell_type": "code",
   "execution_count": 129,
   "id": "8aa58d80",
   "metadata": {
    "execution": {
     "iopub.execute_input": "2023-10-26T17:46:58.976194Z",
     "iopub.status.busy": "2023-10-26T17:46:58.975118Z",
     "iopub.status.idle": "2023-10-26T17:46:58.983057Z",
     "shell.execute_reply": "2023-10-26T17:46:58.981803Z"
    },
    "papermill": {
     "duration": 0.100921,
     "end_time": "2023-10-26T17:46:58.985572",
     "exception": false,
     "start_time": "2023-10-26T17:46:58.884651",
     "status": "completed"
    },
    "tags": []
   },
   "outputs": [
    {
     "data": {
      "text/plain": [
       "{'key 1': 'sush', 'key 2': 'sush', 'key 3 ': 'sush'}"
      ]
     },
     "execution_count": 129,
     "metadata": {},
     "output_type": "execute_result"
    }
   ],
   "source": [
    "thisdict  = { \"key 1\" : \"sush\",\n",
    "            \"key 2\" : \"sush\",\n",
    "            \"key 3 \" : \"sush\"}\n",
    "thisdict"
   ]
  },
  {
   "cell_type": "code",
   "execution_count": 130,
   "id": "7fe51a6c",
   "metadata": {
    "execution": {
     "iopub.execute_input": "2023-10-26T17:46:59.162821Z",
     "iopub.status.busy": "2023-10-26T17:46:59.162430Z",
     "iopub.status.idle": "2023-10-26T17:46:59.167499Z",
     "shell.execute_reply": "2023-10-26T17:46:59.166356Z"
    },
    "papermill": {
     "duration": 0.098651,
     "end_time": "2023-10-26T17:46:59.169949",
     "exception": false,
     "start_time": "2023-10-26T17:46:59.071298",
     "status": "completed"
    },
    "tags": []
   },
   "outputs": [],
   "source": [
    "x = ('st 1', 'st 2', 'st 3')\n",
    "y = 0 "
   ]
  },
  {
   "cell_type": "code",
   "execution_count": 131,
   "id": "0a1226e7",
   "metadata": {
    "execution": {
     "iopub.execute_input": "2023-10-26T17:46:59.352055Z",
     "iopub.status.busy": "2023-10-26T17:46:59.351669Z",
     "iopub.status.idle": "2023-10-26T17:46:59.359585Z",
     "shell.execute_reply": "2023-10-26T17:46:59.358219Z"
    },
    "papermill": {
     "duration": 0.102013,
     "end_time": "2023-10-26T17:46:59.362060",
     "exception": false,
     "start_time": "2023-10-26T17:46:59.260047",
     "status": "completed"
    },
    "tags": []
   },
   "outputs": [
    {
     "data": {
      "text/plain": [
       "'Mustang'"
      ]
     },
     "execution_count": 131,
     "metadata": {},
     "output_type": "execute_result"
    }
   ],
   "source": [
    "car = {\n",
    "  \"brand\": \"Ford\",\n",
    "  \"model\": \"Mustang\",\n",
    "  \"year\": 1964\n",
    "}\n",
    "\n",
    "car.get(\"model\")\n",
    "\n"
   ]
  },
  {
   "cell_type": "code",
   "execution_count": 132,
   "id": "3c4cc98b",
   "metadata": {
    "execution": {
     "iopub.execute_input": "2023-10-26T17:46:59.539784Z",
     "iopub.status.busy": "2023-10-26T17:46:59.539094Z",
     "iopub.status.idle": "2023-10-26T17:46:59.546567Z",
     "shell.execute_reply": "2023-10-26T17:46:59.545422Z"
    },
    "papermill": {
     "duration": 0.098822,
     "end_time": "2023-10-26T17:46:59.548913",
     "exception": false,
     "start_time": "2023-10-26T17:46:59.450091",
     "status": "completed"
    },
    "tags": []
   },
   "outputs": [
    {
     "data": {
      "text/plain": [
       "'Mustang'"
      ]
     },
     "execution_count": 132,
     "metadata": {},
     "output_type": "execute_result"
    }
   ],
   "source": [
    "car = {\n",
    "  \"brand\": \"Ford\",\n",
    "  \"model\": \"Mustang\",\n",
    "  \"year\": 1964\n",
    "}\n",
    "car[\"model\"]"
   ]
  },
  {
   "cell_type": "code",
   "execution_count": 133,
   "id": "920d9649",
   "metadata": {
    "execution": {
     "iopub.execute_input": "2023-10-26T17:46:59.727008Z",
     "iopub.status.busy": "2023-10-26T17:46:59.726642Z",
     "iopub.status.idle": "2023-10-26T17:46:59.734162Z",
     "shell.execute_reply": "2023-10-26T17:46:59.733043Z"
    },
    "papermill": {
     "duration": 0.099988,
     "end_time": "2023-10-26T17:46:59.736696",
     "exception": false,
     "start_time": "2023-10-26T17:46:59.636708",
     "status": "completed"
    },
    "tags": []
   },
   "outputs": [
    {
     "data": {
      "text/plain": [
       "dict_keys(['brand', 'model', 'year'])"
      ]
     },
     "execution_count": 133,
     "metadata": {},
     "output_type": "execute_result"
    }
   ],
   "source": [
    "car = {\n",
    "  \"brand\": \"Ford\",\n",
    "  \"model\": \"Mustang\",\n",
    "  \"year\": 1964\n",
    "}\n",
    "\n",
    "car.keys()"
   ]
  },
  {
   "cell_type": "code",
   "execution_count": 134,
   "id": "522bf16a",
   "metadata": {
    "execution": {
     "iopub.execute_input": "2023-10-26T17:46:59.936204Z",
     "iopub.status.busy": "2023-10-26T17:46:59.935808Z",
     "iopub.status.idle": "2023-10-26T17:46:59.941985Z",
     "shell.execute_reply": "2023-10-26T17:46:59.941078Z"
    },
    "papermill": {
     "duration": 0.113512,
     "end_time": "2023-10-26T17:46:59.944123",
     "exception": false,
     "start_time": "2023-10-26T17:46:59.830611",
     "status": "completed"
    },
    "tags": []
   },
   "outputs": [
    {
     "data": {
      "text/plain": [
       "dict_values(['Ford', 'Mustang', 1964])"
      ]
     },
     "execution_count": 134,
     "metadata": {},
     "output_type": "execute_result"
    }
   ],
   "source": [
    "car.values()"
   ]
  },
  {
   "cell_type": "code",
   "execution_count": 135,
   "id": "dd6c3c22",
   "metadata": {
    "execution": {
     "iopub.execute_input": "2023-10-26T17:47:00.123642Z",
     "iopub.status.busy": "2023-10-26T17:47:00.122937Z",
     "iopub.status.idle": "2023-10-26T17:47:00.130326Z",
     "shell.execute_reply": "2023-10-26T17:47:00.129321Z"
    },
    "papermill": {
     "duration": 0.097924,
     "end_time": "2023-10-26T17:47:00.132568",
     "exception": false,
     "start_time": "2023-10-26T17:47:00.034644",
     "status": "completed"
    },
    "tags": []
   },
   "outputs": [
    {
     "data": {
      "text/plain": [
       "dict_items([('brand', 'Ford'), ('model', 'Mustang'), ('year', 1964)])"
      ]
     },
     "execution_count": 135,
     "metadata": {},
     "output_type": "execute_result"
    }
   ],
   "source": [
    "car.items()"
   ]
  },
  {
   "cell_type": "code",
   "execution_count": 136,
   "id": "0fa08d31",
   "metadata": {
    "execution": {
     "iopub.execute_input": "2023-10-26T17:47:00.309357Z",
     "iopub.status.busy": "2023-10-26T17:47:00.308931Z",
     "iopub.status.idle": "2023-10-26T17:47:00.314954Z",
     "shell.execute_reply": "2023-10-26T17:47:00.313920Z"
    },
    "papermill": {
     "duration": 0.097729,
     "end_time": "2023-10-26T17:47:00.317118",
     "exception": false,
     "start_time": "2023-10-26T17:47:00.219389",
     "status": "completed"
    },
    "tags": []
   },
   "outputs": [
    {
     "name": "stdout",
     "output_type": "stream",
     "text": [
      "{'brand': 'Ford', 'year': 1964}\n"
     ]
    }
   ],
   "source": [
    "car = {\n",
    "  \"brand\": \"Ford\",\n",
    "  \"model\": \"Mustang\",\n",
    "  \"year\": 1964\n",
    "}\n",
    "\n",
    "car.pop(\"model\")\n",
    "\n",
    "print(car)"
   ]
  },
  {
   "cell_type": "code",
   "execution_count": 137,
   "id": "ac7c157d",
   "metadata": {
    "execution": {
     "iopub.execute_input": "2023-10-26T17:47:00.492984Z",
     "iopub.status.busy": "2023-10-26T17:47:00.492540Z",
     "iopub.status.idle": "2023-10-26T17:47:00.499006Z",
     "shell.execute_reply": "2023-10-26T17:47:00.497782Z"
    },
    "papermill": {
     "duration": 0.09707,
     "end_time": "2023-10-26T17:47:00.501629",
     "exception": false,
     "start_time": "2023-10-26T17:47:00.404559",
     "status": "completed"
    },
    "tags": []
   },
   "outputs": [
    {
     "name": "stdout",
     "output_type": "stream",
     "text": [
      "{'brand': 'Ford', 'model': 'Mustang'}\n"
     ]
    }
   ],
   "source": [
    "car = {\n",
    "  \"brand\": \"Ford\",\n",
    "  \"model\": \"Mustang\",\n",
    "  \"year\": 1964\n",
    "}\n",
    "\n",
    "car.popitem()\n",
    "\n",
    "print(car)"
   ]
  },
  {
   "cell_type": "code",
   "execution_count": 138,
   "id": "49ef2259",
   "metadata": {
    "execution": {
     "iopub.execute_input": "2023-10-26T17:47:00.677498Z",
     "iopub.status.busy": "2023-10-26T17:47:00.677097Z",
     "iopub.status.idle": "2023-10-26T17:47:00.683545Z",
     "shell.execute_reply": "2023-10-26T17:47:00.682320Z"
    },
    "papermill": {
     "duration": 0.097535,
     "end_time": "2023-10-26T17:47:00.686112",
     "exception": false,
     "start_time": "2023-10-26T17:47:00.588577",
     "status": "completed"
    },
    "tags": []
   },
   "outputs": [
    {
     "name": "stdout",
     "output_type": "stream",
     "text": [
      "None\n"
     ]
    }
   ],
   "source": [
    "car = {\n",
    "  \"brand\": \"Ford\",\n",
    "    \"model\" : None ,\n",
    "\n",
    "  \"year\": 1964\n",
    "}\n",
    "\n",
    "x = car.setdefault(\"model\", \"Bronco\")\n",
    "\n",
    "print(x)"
   ]
  },
  {
   "cell_type": "code",
   "execution_count": 139,
   "id": "f80da488",
   "metadata": {
    "execution": {
     "iopub.execute_input": "2023-10-26T17:47:00.867589Z",
     "iopub.status.busy": "2023-10-26T17:47:00.867149Z",
     "iopub.status.idle": "2023-10-26T17:47:00.873793Z",
     "shell.execute_reply": "2023-10-26T17:47:00.872336Z"
    },
    "papermill": {
     "duration": 0.102223,
     "end_time": "2023-10-26T17:47:00.876351",
     "exception": false,
     "start_time": "2023-10-26T17:47:00.774128",
     "status": "completed"
    },
    "tags": []
   },
   "outputs": [
    {
     "name": "stdout",
     "output_type": "stream",
     "text": [
      "{'brand': 'Ford', 'model': 'Mustang', 'year': 1964, 'color': 'White'}\n"
     ]
    }
   ],
   "source": [
    "car = {\n",
    "  \"brand\": \"Ford\",\n",
    "  \"model\": \"Mustang\",\n",
    "  \"year\": 1964\n",
    "}\n",
    "\n",
    "\n",
    "car.update({\"color\": \"White\"})\n",
    "print(car)\n",
    "\n"
   ]
  },
  {
   "cell_type": "code",
   "execution_count": 140,
   "id": "e76cdff7",
   "metadata": {
    "execution": {
     "iopub.execute_input": "2023-10-26T17:47:01.057754Z",
     "iopub.status.busy": "2023-10-26T17:47:01.057367Z",
     "iopub.status.idle": "2023-10-26T17:47:01.062153Z",
     "shell.execute_reply": "2023-10-26T17:47:01.060936Z"
    },
    "papermill": {
     "duration": 0.098013,
     "end_time": "2023-10-26T17:47:01.064569",
     "exception": false,
     "start_time": "2023-10-26T17:47:00.966556",
     "status": "completed"
    },
    "tags": []
   },
   "outputs": [],
   "source": [
    "# *"
   ]
  },
  {
   "cell_type": "code",
   "execution_count": 141,
   "id": "f8e112e8",
   "metadata": {
    "execution": {
     "iopub.execute_input": "2023-10-26T17:47:01.244124Z",
     "iopub.status.busy": "2023-10-26T17:47:01.243750Z",
     "iopub.status.idle": "2023-10-26T17:47:01.249746Z",
     "shell.execute_reply": "2023-10-26T17:47:01.248318Z"
    },
    "papermill": {
     "duration": 0.098995,
     "end_time": "2023-10-26T17:47:01.252728",
     "exception": false,
     "start_time": "2023-10-26T17:47:01.153733",
     "status": "completed"
    },
    "tags": []
   },
   "outputs": [
    {
     "name": "stdout",
     "output_type": "stream",
     "text": [
      "*\n"
     ]
    }
   ],
   "source": [
    "print(\"*\")"
   ]
  },
  {
   "cell_type": "code",
   "execution_count": 142,
   "id": "edb0aae4",
   "metadata": {
    "execution": {
     "iopub.execute_input": "2023-10-26T17:47:01.431774Z",
     "iopub.status.busy": "2023-10-26T17:47:01.431311Z",
     "iopub.status.idle": "2023-10-26T17:47:01.436754Z",
     "shell.execute_reply": "2023-10-26T17:47:01.435411Z"
    },
    "papermill": {
     "duration": 0.097758,
     "end_time": "2023-10-26T17:47:01.439146",
     "exception": false,
     "start_time": "2023-10-26T17:47:01.341388",
     "status": "completed"
    },
    "tags": []
   },
   "outputs": [],
   "source": [
    "# *\n",
    "# **"
   ]
  },
  {
   "cell_type": "code",
   "execution_count": 143,
   "id": "0fbe2ac6",
   "metadata": {
    "execution": {
     "iopub.execute_input": "2023-10-26T17:47:01.616876Z",
     "iopub.status.busy": "2023-10-26T17:47:01.616518Z",
     "iopub.status.idle": "2023-10-26T17:47:01.622005Z",
     "shell.execute_reply": "2023-10-26T17:47:01.620706Z"
    },
    "papermill": {
     "duration": 0.096463,
     "end_time": "2023-10-26T17:47:01.624369",
     "exception": false,
     "start_time": "2023-10-26T17:47:01.527906",
     "status": "completed"
    },
    "tags": []
   },
   "outputs": [
    {
     "name": "stdout",
     "output_type": "stream",
     "text": [
      "*\n",
      "**\n"
     ]
    }
   ],
   "source": [
    "print(\"*\")\n",
    "print(\"**\")"
   ]
  },
  {
   "cell_type": "code",
   "execution_count": 144,
   "id": "bd7bf626",
   "metadata": {
    "execution": {
     "iopub.execute_input": "2023-10-26T17:47:01.808973Z",
     "iopub.status.busy": "2023-10-26T17:47:01.808294Z",
     "iopub.status.idle": "2023-10-26T17:47:01.813526Z",
     "shell.execute_reply": "2023-10-26T17:47:01.812143Z"
    },
    "papermill": {
     "duration": 0.10141,
     "end_time": "2023-10-26T17:47:01.816245",
     "exception": false,
     "start_time": "2023-10-26T17:47:01.714835",
     "status": "completed"
    },
    "tags": []
   },
   "outputs": [],
   "source": [
    "# *\n",
    "# **\n",
    "# ***\n",
    "# ****"
   ]
  },
  {
   "cell_type": "code",
   "execution_count": 145,
   "id": "47a14c9a",
   "metadata": {
    "execution": {
     "iopub.execute_input": "2023-10-26T17:47:01.998308Z",
     "iopub.status.busy": "2023-10-26T17:47:01.997913Z",
     "iopub.status.idle": "2023-10-26T17:47:02.006564Z",
     "shell.execute_reply": "2023-10-26T17:47:02.004524Z"
    },
    "papermill": {
     "duration": 0.103766,
     "end_time": "2023-10-26T17:47:02.009185",
     "exception": false,
     "start_time": "2023-10-26T17:47:01.905419",
     "status": "completed"
    },
    "tags": []
   },
   "outputs": [
    {
     "name": "stdout",
     "output_type": "stream",
     "text": [
      "   *\n",
      "  **\n",
      " ***\n",
      "****\n",
      " ***\n",
      "  **\n",
      "   *\n"
     ]
    }
   ],
   "source": [
    "for i in range(4) :\n",
    "    print(\" \"*(3-i),end=\"\")\n",
    "    print(\"*\"* (i+1))\n",
    "#     print(\"--\")\n",
    "for j in range(3):\n",
    "    print(\" \"*(j+1),end=\"\")\n",
    "    print(\"*\"*(3-j))"
   ]
  },
  {
   "cell_type": "code",
   "execution_count": 146,
   "id": "cba0bdea",
   "metadata": {
    "execution": {
     "iopub.execute_input": "2023-10-26T17:47:02.185864Z",
     "iopub.status.busy": "2023-10-26T17:47:02.185494Z",
     "iopub.status.idle": "2023-10-26T17:47:02.189881Z",
     "shell.execute_reply": "2023-10-26T17:47:02.188750Z"
    },
    "papermill": {
     "duration": 0.095815,
     "end_time": "2023-10-26T17:47:02.192300",
     "exception": false,
     "start_time": "2023-10-26T17:47:02.096485",
     "status": "completed"
    },
    "tags": []
   },
   "outputs": [],
   "source": [
    "#    *\n",
    "#   ***\n",
    "#  *****\n",
    "# *******\n",
    "\n",
    "#  *****\n",
    "#   ***\n",
    "#    *"
   ]
  },
  {
   "cell_type": "code",
   "execution_count": 147,
   "id": "bcdcf2de",
   "metadata": {
    "execution": {
     "iopub.execute_input": "2023-10-26T17:47:02.371328Z",
     "iopub.status.busy": "2023-10-26T17:47:02.370588Z",
     "iopub.status.idle": "2023-10-26T17:47:02.375336Z",
     "shell.execute_reply": "2023-10-26T17:47:02.374455Z"
    },
    "papermill": {
     "duration": 0.097871,
     "end_time": "2023-10-26T17:47:02.377663",
     "exception": false,
     "start_time": "2023-10-26T17:47:02.279792",
     "status": "completed"
    },
    "tags": []
   },
   "outputs": [],
   "source": [
    "# *\n",
    "# ***\n",
    "# *****\n",
    "# *******\n",
    "\n",
    "\n",
    "# *****\n",
    "# ***\n",
    "# *"
   ]
  },
  {
   "cell_type": "code",
   "execution_count": 148,
   "id": "e44f8a24",
   "metadata": {
    "execution": {
     "iopub.execute_input": "2023-10-26T17:47:02.557911Z",
     "iopub.status.busy": "2023-10-26T17:47:02.557176Z",
     "iopub.status.idle": "2023-10-26T17:47:02.563719Z",
     "shell.execute_reply": "2023-10-26T17:47:02.562608Z"
    },
    "papermill": {
     "duration": 0.100232,
     "end_time": "2023-10-26T17:47:02.566005",
     "exception": false,
     "start_time": "2023-10-26T17:47:02.465773",
     "status": "completed"
    },
    "tags": []
   },
   "outputs": [
    {
     "name": "stdout",
     "output_type": "stream",
     "text": [
      "*\n",
      "***\n",
      "*****\n",
      "*******\n",
      "*\n",
      "*\n",
      "*\n"
     ]
    }
   ],
   "source": [
    "for i in range(4):\n",
    "    print(\"*\"* ((2*i)+1))\n",
    "for j in range(3):\n",
    "    print(\"*\")"
   ]
  },
  {
   "cell_type": "code",
   "execution_count": 149,
   "id": "f108395f",
   "metadata": {
    "execution": {
     "iopub.execute_input": "2023-10-26T17:47:02.743250Z",
     "iopub.status.busy": "2023-10-26T17:47:02.742616Z",
     "iopub.status.idle": "2023-10-26T17:47:02.747107Z",
     "shell.execute_reply": "2023-10-26T17:47:02.746354Z"
    },
    "papermill": {
     "duration": 0.095171,
     "end_time": "2023-10-26T17:47:02.749396",
     "exception": false,
     "start_time": "2023-10-26T17:47:02.654225",
     "status": "completed"
    },
    "tags": []
   },
   "outputs": [],
   "source": [
    "#     *\n",
    "#    ***\n",
    "#   *****\n",
    "#  *******\n",
    "# *********\n",
    "#  *******\n",
    "#   *****\n",
    "#    ***\n",
    "#     *"
   ]
  },
  {
   "cell_type": "code",
   "execution_count": 150,
   "id": "547a8dd5",
   "metadata": {
    "execution": {
     "iopub.execute_input": "2023-10-26T17:47:02.930361Z",
     "iopub.status.busy": "2023-10-26T17:47:02.929700Z",
     "iopub.status.idle": "2023-10-26T17:47:02.938344Z",
     "shell.execute_reply": "2023-10-26T17:47:02.937281Z"
    },
    "papermill": {
     "duration": 0.102038,
     "end_time": "2023-10-26T17:47:02.940721",
     "exception": false,
     "start_time": "2023-10-26T17:47:02.838683",
     "status": "completed"
    },
    "tags": []
   },
   "outputs": [
    {
     "name": "stdout",
     "output_type": "stream",
     "text": [
      "                        *\n",
      "                       ***\n",
      "                      *****\n",
      "                     *******\n",
      "                    *********\n",
      "                   ***********\n",
      "                  *************\n",
      "                 ***************\n",
      "                *****************\n",
      "               *******************\n",
      "              *********************\n",
      "             ***********************\n",
      "            *************************\n",
      "           ***************************\n",
      "          *****************************\n",
      "         *******************************\n",
      "        *********************************\n",
      "       ***********************************\n",
      "      *************************************\n",
      "     ***************************************\n",
      "    *****************************************\n",
      "   *******************************************\n",
      "  *********************************************\n",
      " ***********************************************\n",
      "*************************************************\n",
      " ***********************************************\n",
      "  *********************************************\n",
      "   *******************************************\n",
      "    *****************************************\n",
      "     ***************************************\n",
      "      *************************************\n",
      "       ***********************************\n",
      "        *********************************\n",
      "         *******************************\n",
      "          *****************************\n",
      "           ***************************\n",
      "            *************************\n",
      "             ***********************\n",
      "              *********************\n",
      "               *******************\n",
      "                *****************\n",
      "                 ***************\n",
      "                  *************\n",
      "                   ***********\n",
      "                    *********\n",
      "                     *******\n",
      "                      *****\n",
      "                       ***\n",
      "                        *\n"
     ]
    }
   ],
   "source": [
    "n =25\n",
    "\n",
    "for i in range(n):\n",
    "    print(\" \"*(n-1-i),end=\"\")\n",
    "    print(\"*\"*((2*i)+1))\n",
    "for j in range(n-1):\n",
    "    print(\" \"*(j+1),end=\"\")\n",
    "    print(\"*\"*((2*(n-2-j))+1))"
   ]
  },
  {
   "cell_type": "markdown",
   "id": "b8fc18e2",
   "metadata": {
    "papermill": {
     "duration": 0.090106,
     "end_time": "2023-10-26T17:47:03.121745",
     "exception": false,
     "start_time": "2023-10-26T17:47:03.031639",
     "status": "completed"
    },
    "tags": []
   },
   "source": [
    "# "
   ]
  },
  {
   "cell_type": "code",
   "execution_count": 151,
   "id": "31baeb74",
   "metadata": {
    "execution": {
     "iopub.execute_input": "2023-10-26T17:47:03.303461Z",
     "iopub.status.busy": "2023-10-26T17:47:03.302564Z",
     "iopub.status.idle": "2023-10-26T17:47:03.307579Z",
     "shell.execute_reply": "2023-10-26T17:47:03.306764Z"
    },
    "papermill": {
     "duration": 0.097881,
     "end_time": "2023-10-26T17:47:03.310048",
     "exception": false,
     "start_time": "2023-10-26T17:47:03.212167",
     "status": "completed"
    },
    "tags": []
   },
   "outputs": [],
   "source": [
    "#    *    \n",
    "#   * *\n",
    "#  *   *\n",
    "# *     *\n",
    "#  *   *\n",
    "#   * *\n",
    "\n",
    "\n",
    "#    *"
   ]
  },
  {
   "cell_type": "code",
   "execution_count": 152,
   "id": "c87a7dad",
   "metadata": {
    "execution": {
     "iopub.execute_input": "2023-10-26T17:47:03.488870Z",
     "iopub.status.busy": "2023-10-26T17:47:03.488155Z",
     "iopub.status.idle": "2023-10-26T17:47:03.496509Z",
     "shell.execute_reply": "2023-10-26T17:47:03.495058Z"
    },
    "papermill": {
     "duration": 0.101148,
     "end_time": "2023-10-26T17:47:03.498794",
     "exception": false,
     "start_time": "2023-10-26T17:47:03.397646",
     "status": "completed"
    },
    "tags": []
   },
   "outputs": [
    {
     "name": "stdout",
     "output_type": "stream",
     "text": [
      "           *\n",
      "          * *\n",
      "         *   *\n",
      "        *     *\n",
      "       *       *\n",
      "      *         *\n",
      "     *           *\n",
      "    *             *\n",
      "   *               *\n",
      "  *                 *\n",
      " *                   *\n",
      "  *                 *\n",
      "   *               *\n",
      "    *             *\n",
      "     *           *\n",
      "      *         *\n",
      "       *       *\n",
      "        *     *\n",
      "         *   *\n",
      "          * *\n",
      "           *\n"
     ]
    }
   ],
   "source": [
    "n = 11\n",
    "# n = 4\n",
    "print(\" \"*(n-1),\"*\")\n",
    "for i in range((n-1)):\n",
    "    print(\" \"*(n-2-i),\"*\"+\" \"*((2*i )+1)+\"*\")\n",
    "for j in range(n-2):\n",
    "    print(\" \"*(j+1),\"*\"+\" \"*((2*(n-2-j))-1)+\"*\")\n",
    "    \n",
    "\n",
    "    \n",
    "print(\" \"*(n-1),\"*\")"
   ]
  },
  {
   "cell_type": "code",
   "execution_count": 153,
   "id": "0dc14341",
   "metadata": {
    "execution": {
     "iopub.execute_input": "2023-10-26T17:47:03.680235Z",
     "iopub.status.busy": "2023-10-26T17:47:03.679558Z",
     "iopub.status.idle": "2023-10-26T17:47:03.683336Z",
     "shell.execute_reply": "2023-10-26T17:47:03.682568Z"
    },
    "papermill": {
     "duration": 0.09805,
     "end_time": "2023-10-26T17:47:03.685646",
     "exception": false,
     "start_time": "2023-10-26T17:47:03.587596",
     "status": "completed"
    },
    "tags": []
   },
   "outputs": [],
   "source": [
    "# 1\n",
    "# 1 1\n",
    "# 1 1 1\n",
    "# 1 1 1 1\n",
    "# 1 1 1 1 1"
   ]
  },
  {
   "cell_type": "code",
   "execution_count": 154,
   "id": "b84e6a27",
   "metadata": {
    "execution": {
     "iopub.execute_input": "2023-10-26T17:47:03.867397Z",
     "iopub.status.busy": "2023-10-26T17:47:03.866707Z",
     "iopub.status.idle": "2023-10-26T17:47:03.872513Z",
     "shell.execute_reply": "2023-10-26T17:47:03.871408Z"
    },
    "papermill": {
     "duration": 0.100082,
     "end_time": "2023-10-26T17:47:03.874948",
     "exception": false,
     "start_time": "2023-10-26T17:47:03.774866",
     "status": "completed"
    },
    "tags": []
   },
   "outputs": [
    {
     "name": "stdout",
     "output_type": "stream",
     "text": [
      "1 \n",
      "1 1 \n",
      "1 1 1 \n",
      "1 1 1 1 \n",
      "1 1 1 1 1 \n"
     ]
    }
   ],
   "source": [
    "for i in range(5):\n",
    "    print(\"1 \"*(i+1))"
   ]
  },
  {
   "cell_type": "code",
   "execution_count": 155,
   "id": "bacd3191",
   "metadata": {
    "execution": {
     "iopub.execute_input": "2023-10-26T17:47:04.054167Z",
     "iopub.status.busy": "2023-10-26T17:47:04.053411Z",
     "iopub.status.idle": "2023-10-26T17:47:04.057767Z",
     "shell.execute_reply": "2023-10-26T17:47:04.056677Z"
    },
    "papermill": {
     "duration": 0.097276,
     "end_time": "2023-10-26T17:47:04.060155",
     "exception": false,
     "start_time": "2023-10-26T17:47:03.962879",
     "status": "completed"
    },
    "tags": []
   },
   "outputs": [],
   "source": [
    "# 1\n",
    "# 1 2\n",
    "# 1 2 3\n",
    "# 1 2 3 4\n",
    "# 1 2 3 4 5"
   ]
  },
  {
   "cell_type": "code",
   "execution_count": 156,
   "id": "8fc402bb",
   "metadata": {
    "execution": {
     "iopub.execute_input": "2023-10-26T17:47:04.304396Z",
     "iopub.status.busy": "2023-10-26T17:47:04.303664Z",
     "iopub.status.idle": "2023-10-26T17:47:04.309261Z",
     "shell.execute_reply": "2023-10-26T17:47:04.308371Z"
    },
    "papermill": {
     "duration": 0.097248,
     "end_time": "2023-10-26T17:47:04.311561",
     "exception": false,
     "start_time": "2023-10-26T17:47:04.214313",
     "status": "completed"
    },
    "tags": []
   },
   "outputs": [
    {
     "name": "stdout",
     "output_type": "stream",
     "text": [
      "1 \n",
      "1 2 \n",
      "1 2 3 \n",
      "1 2 3 4 \n",
      "1 2 3 4 5 \n"
     ]
    }
   ],
   "source": [
    "for i in range(5):\n",
    "    for j in range(i+1) :\n",
    "        print(j+1,end=\" \")\n",
    "    print()"
   ]
  },
  {
   "cell_type": "code",
   "execution_count": 157,
   "id": "0d903e5b",
   "metadata": {
    "execution": {
     "iopub.execute_input": "2023-10-26T17:47:04.499248Z",
     "iopub.status.busy": "2023-10-26T17:47:04.498635Z",
     "iopub.status.idle": "2023-10-26T17:47:04.502802Z",
     "shell.execute_reply": "2023-10-26T17:47:04.501632Z"
    },
    "papermill": {
     "duration": 0.098617,
     "end_time": "2023-10-26T17:47:04.505074",
     "exception": false,
     "start_time": "2023-10-26T17:47:04.406457",
     "status": "completed"
    },
    "tags": []
   },
   "outputs": [],
   "source": [
    "#       1\n",
    "#     1 2 1\n",
    "#   1 2 3 2 1 \n",
    "# 1 2 3 4 3 2 1\n",
    "#   1 2 3 2 1\n",
    "#     1 2 1\n",
    "#       1"
   ]
  },
  {
   "cell_type": "code",
   "execution_count": 158,
   "id": "2c6e01c7",
   "metadata": {
    "execution": {
     "iopub.execute_input": "2023-10-26T17:47:04.686528Z",
     "iopub.status.busy": "2023-10-26T17:47:04.686095Z",
     "iopub.status.idle": "2023-10-26T17:47:04.698129Z",
     "shell.execute_reply": "2023-10-26T17:47:04.697220Z"
    },
    "papermill": {
     "duration": 0.106583,
     "end_time": "2023-10-26T17:47:04.700467",
     "exception": false,
     "start_time": "2023-10-26T17:47:04.593884",
     "status": "completed"
    },
    "tags": []
   },
   "outputs": [
    {
     "name": "stdout",
     "output_type": "stream",
     "text": [
      "              1 \n",
      "            1 2 1 \n",
      "          1 2 3 2 1 \n",
      "        1 2 3 4 3 2 1 \n",
      "      1 2 3 4 5 4 3 2 1 \n",
      "    1 2 3 4 5 6 5 4 3 2 1 \n",
      "  1 2 3 4 5 6 7 6 5 4 3 2 1 \n",
      "1 2 3 4 5 6 7 8 7 6 5 4 3 2 1 \n",
      "  1 2 3 4 5 6 7 6 5 4 3 2 1 \n",
      "    1 2 3 4 5 6 5 4 3 2 1 \n",
      "      1 2 3 4 5 4 3 2 1 \n",
      "        1 2 3 4 3 2 1 \n",
      "          1 2 3 2 1 \n",
      "            1 2 1 \n",
      "              1 \n"
     ]
    }
   ],
   "source": [
    "n = 8\n",
    "# 4\n",
    "for i in range(n):\n",
    "    print(\" \"*(2*(n-1-i)),end=\"\")\n",
    "    for j in range(i+1):\n",
    "        print(j+1 ,end=\" \")\n",
    "    for k in range(i-1,-1,-1):\n",
    "        print(k+1 ,end=\" \")\n",
    "    print()\n",
    "for p in range(n-1) : # 0 13\n",
    "    print(\" \"*(2*(p+1)),end=\"\")\n",
    "    for q in range(n-1-p) :\n",
    "        print(q+1,end=\" \")        \n",
    "    for r in range(n-p-3,-1,-1):\n",
    "        print(r+1,end=\" \")\n",
    "    print()"
   ]
  },
  {
   "cell_type": "markdown",
   "id": "a5d92766",
   "metadata": {
    "execution": {
     "iopub.execute_input": "2023-10-20T17:08:22.412842Z",
     "iopub.status.busy": "2023-10-20T17:08:22.412393Z",
     "iopub.status.idle": "2023-10-20T17:08:22.418210Z",
     "shell.execute_reply": "2023-10-20T17:08:22.417396Z",
     "shell.execute_reply.started": "2023-10-20T17:08:22.412813Z"
    },
    "papermill": {
     "duration": 0.090999,
     "end_time": "2023-10-26T17:47:04.881993",
     "exception": false,
     "start_time": "2023-10-26T17:47:04.790994",
     "status": "completed"
    },
    "tags": []
   },
   "source": [
    "# for i in range(4):\n",
    "    print(i, end=\" \")"
   ]
  },
  {
   "cell_type": "code",
   "execution_count": 159,
   "id": "4cb7cd77",
   "metadata": {
    "execution": {
     "iopub.execute_input": "2023-10-26T17:47:05.064102Z",
     "iopub.status.busy": "2023-10-26T17:47:05.062726Z",
     "iopub.status.idle": "2023-10-26T17:47:05.069555Z",
     "shell.execute_reply": "2023-10-26T17:47:05.068361Z"
    },
    "papermill": {
     "duration": 0.101376,
     "end_time": "2023-10-26T17:47:05.072301",
     "exception": false,
     "start_time": "2023-10-26T17:47:04.970925",
     "status": "completed"
    },
    "tags": []
   },
   "outputs": [
    {
     "name": "stdout",
     "output_type": "stream",
     "text": [
      "3 2 1 0 "
     ]
    }
   ],
   "source": [
    "for i in range(3,-1,-1):\n",
    "    print(i, end=\" \")"
   ]
  },
  {
   "cell_type": "code",
   "execution_count": 160,
   "id": "0678835e",
   "metadata": {
    "execution": {
     "iopub.execute_input": "2023-10-26T17:47:05.254547Z",
     "iopub.status.busy": "2023-10-26T17:47:05.253772Z",
     "iopub.status.idle": "2023-10-26T17:47:05.258247Z",
     "shell.execute_reply": "2023-10-26T17:47:05.257353Z"
    },
    "papermill": {
     "duration": 0.096595,
     "end_time": "2023-10-26T17:47:05.260743",
     "exception": false,
     "start_time": "2023-10-26T17:47:05.164148",
     "status": "completed"
    },
    "tags": []
   },
   "outputs": [],
   "source": [
    "# 0  \n",
    "\n",
    "# 0 1  \n",
    "\n",
    "# 0 2 4  \n",
    "\n",
    "# 0 3 6 9  \n",
    "\n",
    "# 0 4 8 12 16  \n",
    "\n",
    "# 0 5 10 15 20 25  \n",
    "\n",
    "# 0 6 12 18 24 30 36"
   ]
  },
  {
   "cell_type": "code",
   "execution_count": 161,
   "id": "de98b70c",
   "metadata": {
    "execution": {
     "iopub.execute_input": "2023-10-26T17:47:05.442020Z",
     "iopub.status.busy": "2023-10-26T17:47:05.441207Z",
     "iopub.status.idle": "2023-10-26T17:47:05.448172Z",
     "shell.execute_reply": "2023-10-26T17:47:05.447322Z"
    },
    "papermill": {
     "duration": 0.09951,
     "end_time": "2023-10-26T17:47:05.450386",
     "exception": false,
     "start_time": "2023-10-26T17:47:05.350876",
     "status": "completed"
    },
    "tags": []
   },
   "outputs": [
    {
     "name": "stdout",
     "output_type": "stream",
     "text": [
      "0 \n",
      "0 1 \n",
      "0 2 4 \n",
      "0 3 6 9 \n",
      "0 4 8 12 16 \n",
      "0 5 10 15 20 25 \n",
      "0 6 12 18 24 30 36 \n",
      "0 7 14 21 28 35 42 49 \n",
      "0 8 16 24 32 40 48 56 64 \n",
      "0 9 18 27 36 45 54 63 72 81 \n",
      "0 10 20 30 40 50 60 70 80 90 100 \n",
      "0 11 22 33 44 55 66 77 88 99 110 121 \n",
      "0 12 24 36 48 60 72 84 96 108 120 132 144 \n",
      "0 13 26 39 52 65 78 91 104 117 130 143 156 169 \n",
      "0 14 28 42 56 70 84 98 112 126 140 154 168 182 196 \n",
      "0 15 30 45 60 75 90 105 120 135 150 165 180 195 210 225 \n"
     ]
    }
   ],
   "source": [
    "n = 15\n",
    "# 6\n",
    "for i in range(n+1):\n",
    "    for j in range(i+1):\n",
    "        print(j*i,end=\" \")\n",
    "    print()"
   ]
  },
  {
   "cell_type": "code",
   "execution_count": 162,
   "id": "34f7e936",
   "metadata": {
    "execution": {
     "iopub.execute_input": "2023-10-26T17:47:05.632592Z",
     "iopub.status.busy": "2023-10-26T17:47:05.631223Z",
     "iopub.status.idle": "2023-10-26T17:47:05.636722Z",
     "shell.execute_reply": "2023-10-26T17:47:05.635666Z"
    },
    "papermill": {
     "duration": 0.099361,
     "end_time": "2023-10-26T17:47:05.639045",
     "exception": false,
     "start_time": "2023-10-26T17:47:05.539684",
     "status": "completed"
    },
    "tags": []
   },
   "outputs": [],
   "source": [
    "# 1 \n",
    "\n",
    "# 3 3 \n",
    "\n",
    "# 5 5 5 \n",
    "\n",
    "# 7 7 7 7 \n",
    "\n",
    "# 9 9 9 9 9"
   ]
  },
  {
   "cell_type": "code",
   "execution_count": 163,
   "id": "80e30322",
   "metadata": {
    "execution": {
     "iopub.execute_input": "2023-10-26T17:47:05.822327Z",
     "iopub.status.busy": "2023-10-26T17:47:05.821900Z",
     "iopub.status.idle": "2023-10-26T17:47:05.828838Z",
     "shell.execute_reply": "2023-10-26T17:47:05.827528Z"
    },
    "papermill": {
     "duration": 0.102892,
     "end_time": "2023-10-26T17:47:05.831657",
     "exception": false,
     "start_time": "2023-10-26T17:47:05.728765",
     "status": "completed"
    },
    "tags": []
   },
   "outputs": [
    {
     "name": "stdout",
     "output_type": "stream",
     "text": [
      "1 \n",
      "3 3 \n",
      "5 5 5 \n",
      "7 7 7 7 \n",
      "9 9 9 9 9 \n"
     ]
    }
   ],
   "source": [
    "\n",
    "n = 5\n",
    "for i in range(n):\n",
    "    for j in range(i+1):\n",
    "        print((2*i)+1,end=\" \")\n",
    "    print()"
   ]
  },
  {
   "cell_type": "code",
   "execution_count": 164,
   "id": "2d80ee4b",
   "metadata": {
    "execution": {
     "iopub.execute_input": "2023-10-26T17:47:06.014245Z",
     "iopub.status.busy": "2023-10-26T17:47:06.013827Z",
     "iopub.status.idle": "2023-10-26T17:47:06.018950Z",
     "shell.execute_reply": "2023-10-26T17:47:06.017804Z"
    },
    "papermill": {
     "duration": 0.099204,
     "end_time": "2023-10-26T17:47:06.021290",
     "exception": false,
     "start_time": "2023-10-26T17:47:05.922086",
     "status": "completed"
    },
    "tags": []
   },
   "outputs": [],
   "source": [
    "# ******\n",
    "#     *\n",
    "#    *\n",
    "#   *\n",
    "#  *\n",
    "# ******"
   ]
  },
  {
   "cell_type": "code",
   "execution_count": 165,
   "id": "a0cb5f64",
   "metadata": {
    "execution": {
     "iopub.execute_input": "2023-10-26T17:47:06.202786Z",
     "iopub.status.busy": "2023-10-26T17:47:06.202377Z",
     "iopub.status.idle": "2023-10-26T17:47:06.209259Z",
     "shell.execute_reply": "2023-10-26T17:47:06.208106Z"
    },
    "papermill": {
     "duration": 0.101022,
     "end_time": "2023-10-26T17:47:06.211965",
     "exception": false,
     "start_time": "2023-10-26T17:47:06.110943",
     "status": "completed"
    },
    "tags": []
   },
   "outputs": [
    {
     "name": "stdout",
     "output_type": "stream",
     "text": [
      "************\n",
      "          *\n",
      "         *\n",
      "        *\n",
      "       *\n",
      "      *\n",
      "     *\n",
      "    *\n",
      "   *\n",
      "  *\n",
      " *\n",
      "************\n"
     ]
    }
   ],
   "source": [
    "n = 12\n",
    "print(\"*\"*n)\n",
    "for i in range(n-2):\n",
    "    print(\" \"*(n-2-i),end=\"\")\n",
    "    print(\"*\")\n",
    "print(\"*\"*n)"
   ]
  },
  {
   "cell_type": "code",
   "execution_count": 166,
   "id": "7043baaa",
   "metadata": {
    "execution": {
     "iopub.execute_input": "2023-10-26T17:47:06.392204Z",
     "iopub.status.busy": "2023-10-26T17:47:06.391741Z",
     "iopub.status.idle": "2023-10-26T17:47:06.397399Z",
     "shell.execute_reply": "2023-10-26T17:47:06.396054Z"
    },
    "papermill": {
     "duration": 0.097999,
     "end_time": "2023-10-26T17:47:06.400061",
     "exception": false,
     "start_time": "2023-10-26T17:47:06.302062",
     "status": "completed"
    },
    "tags": []
   },
   "outputs": [],
   "source": [
    "# 1 2 3 * * * N\n",
    "#           *\n",
    "#         *\n",
    "#       *\n",
    "#     3\n",
    "#   2\n",
    "# 1 2 3 * * * N\n"
   ]
  },
  {
   "cell_type": "code",
   "execution_count": 167,
   "id": "7d2b4a86",
   "metadata": {
    "execution": {
     "iopub.execute_input": "2023-10-26T17:47:06.583653Z",
     "iopub.status.busy": "2023-10-26T17:47:06.583206Z",
     "iopub.status.idle": "2023-10-26T17:47:06.593877Z",
     "shell.execute_reply": "2023-10-26T17:47:06.592527Z"
    },
    "papermill": {
     "duration": 0.105669,
     "end_time": "2023-10-26T17:47:06.596646",
     "exception": false,
     "start_time": "2023-10-26T17:47:06.490977",
     "status": "completed"
    },
    "tags": []
   },
   "outputs": [
    {
     "name": "stdout",
     "output_type": "stream",
     "text": [
      "1 2 3 * * * N\n",
      "\n",
      "          *\n",
      "        *\n",
      "      *\n",
      "    3\n",
      "  2\n",
      "1 2 3 * * * N\n"
     ]
    }
   ],
   "source": [
    "for i in range(3):\n",
    "    print(i+1, end=\" \")\n",
    "for j in range(3):\n",
    "    print(\"* \",end=\"\")\n",
    "print(\"N\")\n",
    "\n",
    "print()\n",
    "for k in range(3):\n",
    "    print(\" \"*(2*(5-k)),end=\"\")\n",
    "    print(\"*\")\n",
    "for m in range(2):\n",
    "    print(\" \"*(2*(2-m)),end=\"\")\n",
    "    print(3-m)   \n",
    "    \n",
    "    \n",
    "for i in range(3):\n",
    "    print(i+1, end=\" \")\n",
    "for j in range(3):\n",
    "    print(\"* \",end=\"\")\n",
    "print(\"N\")"
   ]
  },
  {
   "cell_type": "code",
   "execution_count": 168,
   "id": "1e3063e5",
   "metadata": {
    "execution": {
     "iopub.execute_input": "2023-10-26T17:47:06.779367Z",
     "iopub.status.busy": "2023-10-26T17:47:06.778914Z",
     "iopub.status.idle": "2023-10-26T17:47:06.786138Z",
     "shell.execute_reply": "2023-10-26T17:47:06.784767Z"
    },
    "papermill": {
     "duration": 0.102709,
     "end_time": "2023-10-26T17:47:06.789028",
     "exception": false,
     "start_time": "2023-10-26T17:47:06.686319",
     "status": "completed"
    },
    "tags": []
   },
   "outputs": [
    {
     "name": "stdout",
     "output_type": "stream",
     "text": [
      "prasad  is not eligible\n"
     ]
    }
   ],
   "source": [
    "m1 = 80\n",
    "m2 = 40\n",
    "student = \"prasad\"\n",
    "\n",
    "\n",
    "if m1 > 50 and m2 > 50 :\n",
    "    print(student , \" is eligible\")\n",
    "else :\n",
    "    print(student,\" is not eligible\")"
   ]
  },
  {
   "cell_type": "code",
   "execution_count": 169,
   "id": "d0cdc40a",
   "metadata": {
    "execution": {
     "iopub.execute_input": "2023-10-26T17:47:06.970324Z",
     "iopub.status.busy": "2023-10-26T17:47:06.969872Z",
     "iopub.status.idle": "2023-10-26T17:47:06.977378Z",
     "shell.execute_reply": "2023-10-26T17:47:06.975775Z"
    },
    "papermill": {
     "duration": 0.100432,
     "end_time": "2023-10-26T17:47:06.979827",
     "exception": false,
     "start_time": "2023-10-26T17:47:06.879395",
     "status": "completed"
    },
    "tags": []
   },
   "outputs": [
    {
     "name": "stdout",
     "output_type": "stream",
     "text": [
      "sushmitha  is eligible\n"
     ]
    }
   ],
   "source": [
    "m1 = 70\n",
    "m2 = 80\n",
    "student = \"sushmitha\"\n",
    "if m1 > 50 and m2 > 50 :\n",
    "    print(student , \" is eligible\")\n",
    "else :\n",
    "    print(student,\" is not eligible\")\n"
   ]
  },
  {
   "cell_type": "code",
   "execution_count": 170,
   "id": "182986a9",
   "metadata": {
    "execution": {
     "iopub.execute_input": "2023-10-26T17:47:07.164251Z",
     "iopub.status.busy": "2023-10-26T17:47:07.163828Z",
     "iopub.status.idle": "2023-10-26T17:47:07.169667Z",
     "shell.execute_reply": "2023-10-26T17:47:07.168355Z"
    },
    "papermill": {
     "duration": 0.100101,
     "end_time": "2023-10-26T17:47:07.171941",
     "exception": false,
     "start_time": "2023-10-26T17:47:07.071840",
     "status": "completed"
    },
    "tags": []
   },
   "outputs": [],
   "source": [
    "def level(a,b,student) :\n",
    "    c = a+b\n",
    "    print(student,\" got \", c ,\" marks\")"
   ]
  },
  {
   "cell_type": "code",
   "execution_count": 171,
   "id": "5f97a149",
   "metadata": {
    "execution": {
     "iopub.execute_input": "2023-10-26T17:47:07.354503Z",
     "iopub.status.busy": "2023-10-26T17:47:07.354060Z",
     "iopub.status.idle": "2023-10-26T17:47:07.360856Z",
     "shell.execute_reply": "2023-10-26T17:47:07.359204Z"
    },
    "papermill": {
     "duration": 0.100837,
     "end_time": "2023-10-26T17:47:07.363444",
     "exception": false,
     "start_time": "2023-10-26T17:47:07.262607",
     "status": "completed"
    },
    "tags": []
   },
   "outputs": [
    {
     "name": "stdout",
     "output_type": "stream",
     "text": [
      "prasad  got  90  marks\n"
     ]
    }
   ],
   "source": [
    "level(40,50,\"prasad\")"
   ]
  },
  {
   "cell_type": "code",
   "execution_count": 172,
   "id": "aaefe6c0",
   "metadata": {
    "execution": {
     "iopub.execute_input": "2023-10-26T17:47:07.544259Z",
     "iopub.status.busy": "2023-10-26T17:47:07.543852Z",
     "iopub.status.idle": "2023-10-26T17:47:07.549605Z",
     "shell.execute_reply": "2023-10-26T17:47:07.548440Z"
    },
    "papermill": {
     "duration": 0.099125,
     "end_time": "2023-10-26T17:47:07.551981",
     "exception": false,
     "start_time": "2023-10-26T17:47:07.452856",
     "status": "completed"
    },
    "tags": []
   },
   "outputs": [
    {
     "name": "stdout",
     "output_type": "stream",
     "text": [
      "sush  got  130  marks\n"
     ]
    }
   ],
   "source": [
    "level(80,50,\"sush\")"
   ]
  },
  {
   "cell_type": "code",
   "execution_count": 173,
   "id": "3468fefc",
   "metadata": {
    "execution": {
     "iopub.execute_input": "2023-10-26T17:47:07.735822Z",
     "iopub.status.busy": "2023-10-26T17:47:07.735385Z",
     "iopub.status.idle": "2023-10-26T17:47:07.742829Z",
     "shell.execute_reply": "2023-10-26T17:47:07.741439Z"
    },
    "papermill": {
     "duration": 0.101969,
     "end_time": "2023-10-26T17:47:07.745683",
     "exception": false,
     "start_time": "2023-10-26T17:47:07.643714",
     "status": "completed"
    },
    "tags": []
   },
   "outputs": [
    {
     "name": "stdout",
     "output_type": "stream",
     "text": [
      "--\n",
      "50\n",
      "def  is not eligible\n"
     ]
    }
   ],
   "source": [
    "\n",
    "\n",
    "def marks (m1,m2,student=\"def\"):\n",
    "    print(m1)\n",
    "    if m1 > 50 and m2 > 50 :\n",
    "        print(student , \" is eligible\")\n",
    "    else :\n",
    "        print(student,\" is not eligible\")\n",
    "        \n",
    "        \n",
    "        \n",
    "print(\"--\")\n",
    "\n",
    "        \n",
    "        \n",
    "        \n",
    "        \n",
    "marks(m1=50,m2=40)"
   ]
  },
  {
   "cell_type": "code",
   "execution_count": 174,
   "id": "0137a56c",
   "metadata": {
    "execution": {
     "iopub.execute_input": "2023-10-26T17:47:07.928778Z",
     "iopub.status.busy": "2023-10-26T17:47:07.928396Z",
     "iopub.status.idle": "2023-10-26T17:47:07.934425Z",
     "shell.execute_reply": "2023-10-26T17:47:07.933138Z"
    },
    "papermill": {
     "duration": 0.099505,
     "end_time": "2023-10-26T17:47:07.937037",
     "exception": false,
     "start_time": "2023-10-26T17:47:07.837532",
     "status": "completed"
    },
    "tags": []
   },
   "outputs": [
    {
     "name": "stdout",
     "output_type": "stream",
     "text": [
      "80\n",
      "swapna  is eligible\n"
     ]
    }
   ],
   "source": [
    "marks(student = \"swapna\",m2=90,m1=80)"
   ]
  },
  {
   "cell_type": "code",
   "execution_count": 175,
   "id": "0b3ff345",
   "metadata": {
    "execution": {
     "iopub.execute_input": "2023-10-26T17:47:08.120684Z",
     "iopub.status.busy": "2023-10-26T17:47:08.120297Z",
     "iopub.status.idle": "2023-10-26T17:47:08.124680Z",
     "shell.execute_reply": "2023-10-26T17:47:08.123587Z"
    },
    "papermill": {
     "duration": 0.098485,
     "end_time": "2023-10-26T17:47:08.126933",
     "exception": false,
     "start_time": "2023-10-26T17:47:08.028448",
     "status": "completed"
    },
    "tags": []
   },
   "outputs": [],
   "source": [
    "# marks(\"student\",90,80)"
   ]
  },
  {
   "cell_type": "code",
   "execution_count": 176,
   "id": "563dc10b",
   "metadata": {
    "execution": {
     "iopub.execute_input": "2023-10-26T17:47:08.311460Z",
     "iopub.status.busy": "2023-10-26T17:47:08.311050Z",
     "iopub.status.idle": "2023-10-26T17:47:08.317044Z",
     "shell.execute_reply": "2023-10-26T17:47:08.315790Z"
    },
    "papermill": {
     "duration": 0.102065,
     "end_time": "2023-10-26T17:47:08.319556",
     "exception": false,
     "start_time": "2023-10-26T17:47:08.217491",
     "status": "completed"
    },
    "tags": []
   },
   "outputs": [
    {
     "name": "stdout",
     "output_type": "stream",
     "text": [
      "30\n",
      "parth  is not eligible\n"
     ]
    }
   ],
   "source": [
    "marks(30,30,\"parth\")"
   ]
  },
  {
   "cell_type": "code",
   "execution_count": 177,
   "id": "25ad806b",
   "metadata": {
    "execution": {
     "iopub.execute_input": "2023-10-26T17:47:08.504248Z",
     "iopub.status.busy": "2023-10-26T17:47:08.503843Z",
     "iopub.status.idle": "2023-10-26T17:47:08.510167Z",
     "shell.execute_reply": "2023-10-26T17:47:08.508809Z"
    },
    "papermill": {
     "duration": 0.100229,
     "end_time": "2023-10-26T17:47:08.512555",
     "exception": false,
     "start_time": "2023-10-26T17:47:08.412326",
     "status": "completed"
    },
    "tags": []
   },
   "outputs": [
    {
     "name": "stdout",
     "output_type": "stream",
     "text": [
      "90\n",
      "tayyab  is eligible\n"
     ]
    }
   ],
   "source": [
    "marks(90,90,\"tayyab\")"
   ]
  },
  {
   "cell_type": "code",
   "execution_count": 178,
   "id": "30d88a08",
   "metadata": {
    "execution": {
     "iopub.execute_input": "2023-10-26T17:47:08.692775Z",
     "iopub.status.busy": "2023-10-26T17:47:08.692394Z",
     "iopub.status.idle": "2023-10-26T17:47:08.699552Z",
     "shell.execute_reply": "2023-10-26T17:47:08.698207Z"
    },
    "papermill": {
     "duration": 0.100128,
     "end_time": "2023-10-26T17:47:08.702200",
     "exception": false,
     "start_time": "2023-10-26T17:47:08.602072",
     "status": "completed"
    },
    "tags": []
   },
   "outputs": [
    {
     "name": "stdout",
     "output_type": "stream",
     "text": [
      "0\n",
      "st  is not eligible\n"
     ]
    }
   ],
   "source": [
    "\n",
    "\n",
    "def marks (m1=0,m2=0,student=\"st\") :\n",
    "    print(m1)\n",
    "    if m1 > 50 and m2 > 50 :\n",
    "        print(student , \" is eligible\")\n",
    "    else :\n",
    "        print(student,\" is not eligible\")\n",
    "        \n",
    "marks()"
   ]
  },
  {
   "cell_type": "code",
   "execution_count": 179,
   "id": "c460afa2",
   "metadata": {
    "execution": {
     "iopub.execute_input": "2023-10-26T17:47:08.885772Z",
     "iopub.status.busy": "2023-10-26T17:47:08.885323Z",
     "iopub.status.idle": "2023-10-26T17:47:08.890721Z",
     "shell.execute_reply": "2023-10-26T17:47:08.889724Z"
    },
    "papermill": {
     "duration": 0.101388,
     "end_time": "2023-10-26T17:47:08.893367",
     "exception": false,
     "start_time": "2023-10-26T17:47:08.791979",
     "status": "completed"
    },
    "tags": []
   },
   "outputs": [],
   "source": [
    "# print \n",
    "# return"
   ]
  },
  {
   "cell_type": "code",
   "execution_count": 180,
   "id": "a9b6f22a",
   "metadata": {
    "execution": {
     "iopub.execute_input": "2023-10-26T17:47:09.077048Z",
     "iopub.status.busy": "2023-10-26T17:47:09.076620Z",
     "iopub.status.idle": "2023-10-26T17:47:09.083199Z",
     "shell.execute_reply": "2023-10-26T17:47:09.081777Z"
    },
    "papermill": {
     "duration": 0.101388,
     "end_time": "2023-10-26T17:47:09.085886",
     "exception": false,
     "start_time": "2023-10-26T17:47:08.984498",
     "status": "completed"
    },
    "tags": []
   },
   "outputs": [
    {
     "name": "stdout",
     "output_type": "stream",
     "text": [
      "---- 15\n"
     ]
    }
   ],
   "source": [
    "def add (a,b) :\n",
    "    c = a+b\n",
    "    return c\n",
    "\n",
    "p= add(5,10)\n",
    "print(\"----\",p)"
   ]
  },
  {
   "cell_type": "code",
   "execution_count": 181,
   "id": "3563aacc",
   "metadata": {
    "execution": {
     "iopub.execute_input": "2023-10-26T17:47:09.269180Z",
     "iopub.status.busy": "2023-10-26T17:47:09.268737Z",
     "iopub.status.idle": "2023-10-26T17:47:09.275236Z",
     "shell.execute_reply": "2023-10-26T17:47:09.273953Z"
    },
    "papermill": {
     "duration": 0.102759,
     "end_time": "2023-10-26T17:47:09.277849",
     "exception": false,
     "start_time": "2023-10-26T17:47:09.175090",
     "status": "completed"
    },
    "tags": []
   },
   "outputs": [
    {
     "name": "stdout",
     "output_type": "stream",
     "text": [
      "15\n",
      "---- None\n"
     ]
    }
   ],
   "source": [
    "def add (a,b) :\n",
    "    c = a+b\n",
    "    print(c)\n",
    "\n",
    "p = add(5,10)\n",
    "print(\"----\",p)"
   ]
  },
  {
   "cell_type": "code",
   "execution_count": 182,
   "id": "66fd6c7d",
   "metadata": {
    "execution": {
     "iopub.execute_input": "2023-10-26T17:47:09.459361Z",
     "iopub.status.busy": "2023-10-26T17:47:09.458927Z",
     "iopub.status.idle": "2023-10-26T17:47:09.463578Z",
     "shell.execute_reply": "2023-10-26T17:47:09.462686Z"
    },
    "papermill": {
     "duration": 0.097335,
     "end_time": "2023-10-26T17:47:09.465596",
     "exception": false,
     "start_time": "2023-10-26T17:47:09.368261",
     "status": "completed"
    },
    "tags": []
   },
   "outputs": [],
   "source": [
    "# if add(5,10 ) > 10 :\n",
    "#     print(\"eligible\")\n",
    "# else :\n",
    "#     print(\"not eligible\")"
   ]
  },
  {
   "cell_type": "code",
   "execution_count": 183,
   "id": "bd50c970",
   "metadata": {
    "execution": {
     "iopub.execute_input": "2023-10-26T17:47:09.650870Z",
     "iopub.status.busy": "2023-10-26T17:47:09.649789Z",
     "iopub.status.idle": "2023-10-26T17:47:09.657961Z",
     "shell.execute_reply": "2023-10-26T17:47:09.656675Z"
    },
    "papermill": {
     "duration": 0.104491,
     "end_time": "2023-10-26T17:47:09.660220",
     "exception": false,
     "start_time": "2023-10-26T17:47:09.555729",
     "status": "completed"
    },
    "tags": []
   },
   "outputs": [
    {
     "data": {
      "text/plain": [
       "15"
      ]
     },
     "execution_count": 183,
     "metadata": {},
     "output_type": "execute_result"
    }
   ],
   "source": [
    "def add (a,b) :\n",
    "    c = a+b\n",
    "    return c\n",
    "\n",
    "add(5,10)"
   ]
  },
  {
   "cell_type": "code",
   "execution_count": 184,
   "id": "94161eb6",
   "metadata": {
    "execution": {
     "iopub.execute_input": "2023-10-26T17:47:09.931358Z",
     "iopub.status.busy": "2023-10-26T17:47:09.930904Z",
     "iopub.status.idle": "2023-10-26T17:47:09.937770Z",
     "shell.execute_reply": "2023-10-26T17:47:09.936847Z"
    },
    "papermill": {
     "duration": 0.119238,
     "end_time": "2023-10-26T17:47:09.940007",
     "exception": false,
     "start_time": "2023-10-26T17:47:09.820769",
     "status": "completed"
    },
    "tags": []
   },
   "outputs": [
    {
     "data": {
      "text/plain": [
       "17"
      ]
     },
     "execution_count": 184,
     "metadata": {},
     "output_type": "execute_result"
    }
   ],
   "source": [
    "add = lambda  a,b : a+b\n",
    "add(7,10)"
   ]
  },
  {
   "cell_type": "code",
   "execution_count": 185,
   "id": "aaae3397",
   "metadata": {
    "execution": {
     "iopub.execute_input": "2023-10-26T17:47:10.124974Z",
     "iopub.status.busy": "2023-10-26T17:47:10.124577Z",
     "iopub.status.idle": "2023-10-26T17:47:10.131585Z",
     "shell.execute_reply": "2023-10-26T17:47:10.130437Z"
    },
    "papermill": {
     "duration": 0.101744,
     "end_time": "2023-10-26T17:47:10.134089",
     "exception": false,
     "start_time": "2023-10-26T17:47:10.032345",
     "status": "completed"
    },
    "tags": []
   },
   "outputs": [
    {
     "data": {
      "text/plain": [
       "30"
      ]
     },
     "execution_count": 185,
     "metadata": {},
     "output_type": "execute_result"
    }
   ],
   "source": [
    "add(10,20)"
   ]
  },
  {
   "cell_type": "code",
   "execution_count": 186,
   "id": "d6cbb7c8",
   "metadata": {
    "execution": {
     "iopub.execute_input": "2023-10-26T17:47:10.318060Z",
     "iopub.status.busy": "2023-10-26T17:47:10.317680Z",
     "iopub.status.idle": "2023-10-26T17:47:10.321972Z",
     "shell.execute_reply": "2023-10-26T17:47:10.321121Z"
    },
    "papermill": {
     "duration": 0.098175,
     "end_time": "2023-10-26T17:47:10.324078",
     "exception": false,
     "start_time": "2023-10-26T17:47:10.225903",
     "status": "completed"
    },
    "tags": []
   },
   "outputs": [],
   "source": [
    "# list comprehenison :  list + for loop / any loop"
   ]
  },
  {
   "cell_type": "code",
   "execution_count": 187,
   "id": "94eede90",
   "metadata": {
    "execution": {
     "iopub.execute_input": "2023-10-26T17:47:10.509208Z",
     "iopub.status.busy": "2023-10-26T17:47:10.508840Z",
     "iopub.status.idle": "2023-10-26T17:47:10.516616Z",
     "shell.execute_reply": "2023-10-26T17:47:10.515496Z"
    },
    "papermill": {
     "duration": 0.103351,
     "end_time": "2023-10-26T17:47:10.518998",
     "exception": false,
     "start_time": "2023-10-26T17:47:10.415647",
     "status": "completed"
    },
    "tags": []
   },
   "outputs": [
    {
     "data": {
      "text/plain": [
       "[20, 30]"
      ]
     },
     "execution_count": 187,
     "metadata": {},
     "output_type": "execute_result"
    }
   ],
   "source": [
    "a = [20 ,25,30,35]\n",
    "\n",
    "even = []\n",
    "\n",
    "for i in a :\n",
    "    if i%2 == 0 :\n",
    "        even.append(i)\n",
    "        \n",
    "        \n",
    "        \n",
    "even"
   ]
  },
  {
   "cell_type": "code",
   "execution_count": 188,
   "id": "a73d9c4f",
   "metadata": {
    "execution": {
     "iopub.execute_input": "2023-10-26T17:47:10.704321Z",
     "iopub.status.busy": "2023-10-26T17:47:10.703917Z",
     "iopub.status.idle": "2023-10-26T17:47:10.711565Z",
     "shell.execute_reply": "2023-10-26T17:47:10.710452Z"
    },
    "papermill": {
     "duration": 0.102162,
     "end_time": "2023-10-26T17:47:10.713807",
     "exception": false,
     "start_time": "2023-10-26T17:47:10.611645",
     "status": "completed"
    },
    "tags": []
   },
   "outputs": [
    {
     "data": {
      "text/plain": [
       "[20, 30]"
      ]
     },
     "execution_count": 188,
     "metadata": {},
     "output_type": "execute_result"
    }
   ],
   "source": [
    "a = [20 ,25,30,35]\n",
    "\n",
    "even = [  i  for i in a  if i%2 == 0   ]       \n",
    "        \n",
    "        \n",
    "even"
   ]
  },
  {
   "cell_type": "code",
   "execution_count": 189,
   "id": "962d588a",
   "metadata": {
    "execution": {
     "iopub.execute_input": "2023-10-26T17:47:10.901070Z",
     "iopub.status.busy": "2023-10-26T17:47:10.900685Z",
     "iopub.status.idle": "2023-10-26T17:47:10.907683Z",
     "shell.execute_reply": "2023-10-26T17:47:10.906809Z"
    },
    "papermill": {
     "duration": 0.105524,
     "end_time": "2023-10-26T17:47:10.910145",
     "exception": false,
     "start_time": "2023-10-26T17:47:10.804621",
     "status": "completed"
    },
    "tags": []
   },
   "outputs": [
    {
     "data": {
      "text/plain": [
       "{20: 'Abhi', 30: 'Abhi'}"
      ]
     },
     "execution_count": 189,
     "metadata": {},
     "output_type": "execute_result"
    }
   ],
   "source": [
    "a = [20 ,25,30,35]\n",
    "\n",
    "even = { i: \"Abhi\"  for i in a  if i%2 == 0   }       \n",
    "        \n",
    "        \n",
    "even"
   ]
  },
  {
   "cell_type": "code",
   "execution_count": 190,
   "id": "1214d2f5",
   "metadata": {
    "execution": {
     "iopub.execute_input": "2023-10-26T17:47:11.100973Z",
     "iopub.status.busy": "2023-10-26T17:47:11.100588Z",
     "iopub.status.idle": "2023-10-26T17:47:11.106153Z",
     "shell.execute_reply": "2023-10-26T17:47:11.104612Z"
    },
    "papermill": {
     "duration": 0.10364,
     "end_time": "2023-10-26T17:47:11.108866",
     "exception": false,
     "start_time": "2023-10-26T17:47:11.005226",
     "status": "completed"
    },
    "tags": []
   },
   "outputs": [],
   "source": [
    "# break continue pass"
   ]
  },
  {
   "cell_type": "code",
   "execution_count": 191,
   "id": "42f99f85",
   "metadata": {
    "execution": {
     "iopub.execute_input": "2023-10-26T17:47:11.296504Z",
     "iopub.status.busy": "2023-10-26T17:47:11.296096Z",
     "iopub.status.idle": "2023-10-26T17:47:11.301535Z",
     "shell.execute_reply": "2023-10-26T17:47:11.300406Z"
    },
    "papermill": {
     "duration": 0.102613,
     "end_time": "2023-10-26T17:47:11.304088",
     "exception": false,
     "start_time": "2023-10-26T17:47:11.201475",
     "status": "completed"
    },
    "tags": []
   },
   "outputs": [],
   "source": [
    "def add(a,b):\n",
    "    pass\n",
    "    \n",
    "add(8,9)"
   ]
  },
  {
   "cell_type": "code",
   "execution_count": 192,
   "id": "da8a3081",
   "metadata": {
    "execution": {
     "iopub.execute_input": "2023-10-26T17:47:11.494723Z",
     "iopub.status.busy": "2023-10-26T17:47:11.494335Z",
     "iopub.status.idle": "2023-10-26T17:47:11.501359Z",
     "shell.execute_reply": "2023-10-26T17:47:11.500043Z"
    },
    "papermill": {
     "duration": 0.108056,
     "end_time": "2023-10-26T17:47:11.504056",
     "exception": false,
     "start_time": "2023-10-26T17:47:11.396000",
     "status": "completed"
    },
    "tags": []
   },
   "outputs": [
    {
     "name": "stdout",
     "output_type": "stream",
     "text": [
      "0\n",
      "1\n",
      "2\n"
     ]
    }
   ],
   "source": [
    "for i in range(5):\n",
    "    if i == 3 :\n",
    "        break\n",
    "    print(i)"
   ]
  },
  {
   "cell_type": "code",
   "execution_count": 193,
   "id": "2a143bfc",
   "metadata": {
    "execution": {
     "iopub.execute_input": "2023-10-26T17:47:11.690217Z",
     "iopub.status.busy": "2023-10-26T17:47:11.689790Z",
     "iopub.status.idle": "2023-10-26T17:47:11.695983Z",
     "shell.execute_reply": "2023-10-26T17:47:11.694741Z"
    },
    "papermill": {
     "duration": 0.102938,
     "end_time": "2023-10-26T17:47:11.698602",
     "exception": false,
     "start_time": "2023-10-26T17:47:11.595664",
     "status": "completed"
    },
    "tags": []
   },
   "outputs": [
    {
     "name": "stdout",
     "output_type": "stream",
     "text": [
      "0\n",
      "1\n",
      "2\n",
      "4\n"
     ]
    }
   ],
   "source": [
    "for i in range(5):\n",
    "    if i == 3 :\n",
    "        continue\n",
    "    print(i)"
   ]
  },
  {
   "cell_type": "code",
   "execution_count": 194,
   "id": "d0a2eebe",
   "metadata": {
    "execution": {
     "iopub.execute_input": "2023-10-26T17:47:11.884169Z",
     "iopub.status.busy": "2023-10-26T17:47:11.883749Z",
     "iopub.status.idle": "2023-10-26T17:47:11.888893Z",
     "shell.execute_reply": "2023-10-26T17:47:11.887828Z"
    },
    "papermill": {
     "duration": 0.101138,
     "end_time": "2023-10-26T17:47:11.891257",
     "exception": false,
     "start_time": "2023-10-26T17:47:11.790119",
     "status": "completed"
    },
    "tags": []
   },
   "outputs": [],
   "source": [
    "# \\n = new line \\t tab"
   ]
  },
  {
   "cell_type": "code",
   "execution_count": 195,
   "id": "70bab8b4",
   "metadata": {
    "execution": {
     "iopub.execute_input": "2023-10-26T17:47:12.077636Z",
     "iopub.status.busy": "2023-10-26T17:47:12.077232Z",
     "iopub.status.idle": "2023-10-26T17:47:12.083704Z",
     "shell.execute_reply": "2023-10-26T17:47:12.082082Z"
    },
    "papermill": {
     "duration": 0.102725,
     "end_time": "2023-10-26T17:47:12.086429",
     "exception": false,
     "start_time": "2023-10-26T17:47:11.983704",
     "status": "completed"
    },
    "tags": []
   },
   "outputs": [
    {
     "name": "stdout",
     "output_type": "stream",
     "text": [
      "mlv\n",
      "prasad\n"
     ]
    }
   ],
   "source": [
    "print(\"mlv\")\n",
    "print(\"prasad\")"
   ]
  },
  {
   "cell_type": "code",
   "execution_count": 196,
   "id": "3eb6d3d1",
   "metadata": {
    "execution": {
     "iopub.execute_input": "2023-10-26T17:47:12.275939Z",
     "iopub.status.busy": "2023-10-26T17:47:12.275562Z",
     "iopub.status.idle": "2023-10-26T17:47:12.281294Z",
     "shell.execute_reply": "2023-10-26T17:47:12.279946Z"
    },
    "papermill": {
     "duration": 0.103557,
     "end_time": "2023-10-26T17:47:12.283887",
     "exception": false,
     "start_time": "2023-10-26T17:47:12.180330",
     "status": "completed"
    },
    "tags": []
   },
   "outputs": [
    {
     "name": "stdout",
     "output_type": "stream",
     "text": [
      "mlv\n",
      "prasad\n"
     ]
    }
   ],
   "source": [
    "print(\"mlv\\nprasad\")"
   ]
  },
  {
   "cell_type": "code",
   "execution_count": 197,
   "id": "9417da21",
   "metadata": {
    "execution": {
     "iopub.execute_input": "2023-10-26T17:47:12.477820Z",
     "iopub.status.busy": "2023-10-26T17:47:12.477421Z",
     "iopub.status.idle": "2023-10-26T17:47:12.483561Z",
     "shell.execute_reply": "2023-10-26T17:47:12.482320Z"
    },
    "papermill": {
     "duration": 0.103998,
     "end_time": "2023-10-26T17:47:12.486221",
     "exception": false,
     "start_time": "2023-10-26T17:47:12.382223",
     "status": "completed"
    },
    "tags": []
   },
   "outputs": [
    {
     "name": "stdout",
     "output_type": "stream",
     "text": [
      "mlv    prasad    is    a    good    boy\n"
     ]
    }
   ],
   "source": [
    "print(\"mlv    prasad    is    a    good    boy\")"
   ]
  },
  {
   "cell_type": "code",
   "execution_count": 198,
   "id": "0ea1d105",
   "metadata": {
    "execution": {
     "iopub.execute_input": "2023-10-26T17:47:12.677249Z",
     "iopub.status.busy": "2023-10-26T17:47:12.676859Z",
     "iopub.status.idle": "2023-10-26T17:47:12.682830Z",
     "shell.execute_reply": "2023-10-26T17:47:12.681569Z"
    },
    "papermill": {
     "duration": 0.105082,
     "end_time": "2023-10-26T17:47:12.685459",
     "exception": false,
     "start_time": "2023-10-26T17:47:12.580377",
     "status": "completed"
    },
    "tags": []
   },
   "outputs": [
    {
     "name": "stdout",
     "output_type": "stream",
     "text": [
      "mlv\tprasad\tis\ta\tgood\tboy\n"
     ]
    }
   ],
   "source": [
    "print(\"mlv\\tprasad\\tis\\ta\\tgood\\tboy\")"
   ]
  },
  {
   "cell_type": "code",
   "execution_count": 199,
   "id": "90954d65",
   "metadata": {
    "execution": {
     "iopub.execute_input": "2023-10-26T17:47:12.878181Z",
     "iopub.status.busy": "2023-10-26T17:47:12.877823Z",
     "iopub.status.idle": "2023-10-26T17:47:12.882335Z",
     "shell.execute_reply": "2023-10-26T17:47:12.880968Z"
    },
    "papermill": {
     "duration": 0.104369,
     "end_time": "2023-10-26T17:47:12.884684",
     "exception": false,
     "start_time": "2023-10-26T17:47:12.780315",
     "status": "completed"
    },
    "tags": []
   },
   "outputs": [],
   "source": [
    "# * * * * *\n",
    "# * * * *\n",
    "# * * * \n",
    "# * * \n",
    "# *"
   ]
  },
  {
   "cell_type": "code",
   "execution_count": 200,
   "id": "fcb3f425",
   "metadata": {
    "execution": {
     "iopub.execute_input": "2023-10-26T17:47:13.076992Z",
     "iopub.status.busy": "2023-10-26T17:47:13.076604Z",
     "iopub.status.idle": "2023-10-26T17:47:13.083307Z",
     "shell.execute_reply": "2023-10-26T17:47:13.081905Z"
    },
    "papermill": {
     "duration": 0.106877,
     "end_time": "2023-10-26T17:47:13.085824",
     "exception": false,
     "start_time": "2023-10-26T17:47:12.978947",
     "status": "completed"
    },
    "tags": []
   },
   "outputs": [
    {
     "name": "stdout",
     "output_type": "stream",
     "text": [
      "* * * * * \n",
      "* * * * \n",
      "* * * \n",
      "* * \n",
      "* \n"
     ]
    }
   ],
   "source": [
    "for i in range(5):\n",
    "    print(\"* \"*(5-i))"
   ]
  },
  {
   "cell_type": "code",
   "execution_count": null,
   "id": "3f69219f",
   "metadata": {
    "papermill": {
     "duration": 0.093063,
     "end_time": "2023-10-26T17:47:13.274859",
     "exception": false,
     "start_time": "2023-10-26T17:47:13.181796",
     "status": "completed"
    },
    "tags": []
   },
   "outputs": [],
   "source": []
  },
  {
   "cell_type": "markdown",
   "id": "dffa6a05",
   "metadata": {
    "papermill": {
     "duration": 0.101004,
     "end_time": "2023-10-26T17:47:13.476787",
     "exception": false,
     "start_time": "2023-10-26T17:47:13.375783",
     "status": "completed"
    },
    "tags": []
   },
   "source": [
    "## filter\n",
    "## reduce\n",
    "## map\n",
    "## zip"
   ]
  },
  {
   "cell_type": "code",
   "execution_count": 201,
   "id": "5efcdb3d",
   "metadata": {
    "execution": {
     "iopub.execute_input": "2023-10-26T17:47:13.677964Z",
     "iopub.status.busy": "2023-10-26T17:47:13.677579Z",
     "iopub.status.idle": "2023-10-26T17:47:13.682698Z",
     "shell.execute_reply": "2023-10-26T17:47:13.681366Z"
    },
    "papermill": {
     "duration": 0.109902,
     "end_time": "2023-10-26T17:47:13.685133",
     "exception": false,
     "start_time": "2023-10-26T17:47:13.575231",
     "status": "completed"
    },
    "tags": []
   },
   "outputs": [],
   "source": [
    "# filter "
   ]
  },
  {
   "cell_type": "code",
   "execution_count": 202,
   "id": "45ab32b8",
   "metadata": {
    "execution": {
     "iopub.execute_input": "2023-10-26T17:47:13.875632Z",
     "iopub.status.busy": "2023-10-26T17:47:13.875198Z",
     "iopub.status.idle": "2023-10-26T17:47:13.884063Z",
     "shell.execute_reply": "2023-10-26T17:47:13.882736Z"
    },
    "papermill": {
     "duration": 0.107543,
     "end_time": "2023-10-26T17:47:13.886755",
     "exception": false,
     "start_time": "2023-10-26T17:47:13.779212",
     "status": "completed"
    },
    "tags": []
   },
   "outputs": [
    {
     "data": {
      "text/plain": [
       "[10, 12, 14, 16]"
      ]
     },
     "execution_count": 202,
     "metadata": {},
     "output_type": "execute_result"
    }
   ],
   "source": [
    "a  =  [10,11,12,13,14,15,16]\n",
    "\n",
    "\n",
    "b = []\n",
    "for i in range(len(a)) :\n",
    "    if a[i] % 2 == 0 :\n",
    "        b.append(a[i])\n",
    "        \n",
    "b"
   ]
  },
  {
   "cell_type": "code",
   "execution_count": 203,
   "id": "4cc20c20",
   "metadata": {
    "execution": {
     "iopub.execute_input": "2023-10-26T17:47:14.077325Z",
     "iopub.status.busy": "2023-10-26T17:47:14.076920Z",
     "iopub.status.idle": "2023-10-26T17:47:14.084040Z",
     "shell.execute_reply": "2023-10-26T17:47:14.083304Z"
    },
    "papermill": {
     "duration": 0.104788,
     "end_time": "2023-10-26T17:47:14.086240",
     "exception": false,
     "start_time": "2023-10-26T17:47:13.981452",
     "status": "completed"
    },
    "tags": []
   },
   "outputs": [
    {
     "data": {
      "text/plain": [
       "[40, 12, 14, 16]"
      ]
     },
     "execution_count": 203,
     "metadata": {},
     "output_type": "execute_result"
    }
   ],
   "source": [
    "a  =  [40,11,12,13,14,15,16]\n",
    "\n",
    "def even(i) :\n",
    "    return i % 2 == 0\n",
    "\n",
    "\n",
    "b = list(filter(even,a))\n",
    "b"
   ]
  },
  {
   "cell_type": "code",
   "execution_count": 204,
   "id": "41380348",
   "metadata": {
    "execution": {
     "iopub.execute_input": "2023-10-26T17:47:14.276563Z",
     "iopub.status.busy": "2023-10-26T17:47:14.276079Z",
     "iopub.status.idle": "2023-10-26T17:47:14.285335Z",
     "shell.execute_reply": "2023-10-26T17:47:14.284041Z"
    },
    "papermill": {
     "duration": 0.110619,
     "end_time": "2023-10-26T17:47:14.288611",
     "exception": false,
     "start_time": "2023-10-26T17:47:14.177992",
     "status": "completed"
    },
    "tags": []
   },
   "outputs": [
    {
     "data": {
      "text/plain": [
       "[40, 12, 14, 16]"
      ]
     },
     "execution_count": 204,
     "metadata": {},
     "output_type": "execute_result"
    }
   ],
   "source": [
    "a  =  [40,11,12,13,14,15,16]\n",
    "\n",
    "b = list(filter(lambda p : p%2== 0,a))\n",
    "b"
   ]
  },
  {
   "cell_type": "code",
   "execution_count": 205,
   "id": "ba5703e5",
   "metadata": {
    "execution": {
     "iopub.execute_input": "2023-10-26T17:47:14.492648Z",
     "iopub.status.busy": "2023-10-26T17:47:14.492109Z",
     "iopub.status.idle": "2023-10-26T17:47:14.503770Z",
     "shell.execute_reply": "2023-10-26T17:47:14.502186Z"
    },
    "papermill": {
     "duration": 0.120702,
     "end_time": "2023-10-26T17:47:14.508310",
     "exception": false,
     "start_time": "2023-10-26T17:47:14.387608",
     "status": "completed"
    },
    "tags": []
   },
   "outputs": [
    {
     "data": {
      "text/plain": [
       "['swapna', 'saraswati']"
      ]
     },
     "execution_count": 205,
     "metadata": {},
     "output_type": "execute_result"
    }
   ],
   "source": [
    "a = [\"swapna\",\"saraswati\",\"abhi\"]\n",
    "\n",
    "b = list(filter(lambda i : i[0] != \"a\"   and  i[0] != \"i\"  and  i[0] != \"o\", a))\n",
    "b"
   ]
  },
  {
   "cell_type": "code",
   "execution_count": 206,
   "id": "2368f59f",
   "metadata": {
    "execution": {
     "iopub.execute_input": "2023-10-26T17:47:14.713942Z",
     "iopub.status.busy": "2023-10-26T17:47:14.713472Z",
     "iopub.status.idle": "2023-10-26T17:47:14.722140Z",
     "shell.execute_reply": "2023-10-26T17:47:14.720831Z"
    },
    "papermill": {
     "duration": 0.110691,
     "end_time": "2023-10-26T17:47:14.725016",
     "exception": false,
     "start_time": "2023-10-26T17:47:14.614325",
     "status": "completed"
    },
    "tags": []
   },
   "outputs": [
    {
     "data": {
      "text/plain": [
       "[0, 10, 30]"
      ]
     },
     "execution_count": 206,
     "metadata": {},
     "output_type": "execute_result"
    }
   ],
   "source": [
    "a = {10,30,-10,0,30}\n",
    "b = list(filter(lambda i : i >= 0 , a))\n",
    "b"
   ]
  },
  {
   "cell_type": "code",
   "execution_count": 207,
   "id": "5b76b5e0",
   "metadata": {
    "execution": {
     "iopub.execute_input": "2023-10-26T17:47:14.920464Z",
     "iopub.status.busy": "2023-10-26T17:47:14.920055Z",
     "iopub.status.idle": "2023-10-26T17:47:14.925051Z",
     "shell.execute_reply": "2023-10-26T17:47:14.923911Z"
    },
    "papermill": {
     "duration": 0.105329,
     "end_time": "2023-10-26T17:47:14.927921",
     "exception": false,
     "start_time": "2023-10-26T17:47:14.822592",
     "status": "completed"
    },
    "tags": []
   },
   "outputs": [],
   "source": [
    "a = [\"swapna\",\"abhinav\"]"
   ]
  },
  {
   "cell_type": "code",
   "execution_count": 208,
   "id": "13a7fc20",
   "metadata": {
    "execution": {
     "iopub.execute_input": "2023-10-26T17:47:15.119216Z",
     "iopub.status.busy": "2023-10-26T17:47:15.118802Z",
     "iopub.status.idle": "2023-10-26T17:47:15.127160Z",
     "shell.execute_reply": "2023-10-26T17:47:15.126013Z"
    },
    "papermill": {
     "duration": 0.107819,
     "end_time": "2023-10-26T17:47:15.129514",
     "exception": false,
     "start_time": "2023-10-26T17:47:15.021695",
     "status": "completed"
    },
    "tags": []
   },
   "outputs": [
    {
     "data": {
      "text/plain": [
       "150"
      ]
     },
     "execution_count": 208,
     "metadata": {},
     "output_type": "execute_result"
    }
   ],
   "source": [
    "# reduce \n",
    "from functools import reduce\n",
    "\n",
    "a = [10,20,30,40,50]\n",
    "b = 0\n",
    "for i in a :\n",
    "    b = b + i\n",
    "    \n",
    "b"
   ]
  },
  {
   "cell_type": "code",
   "execution_count": 209,
   "id": "f2e81dcb",
   "metadata": {
    "execution": {
     "iopub.execute_input": "2023-10-26T17:47:15.326152Z",
     "iopub.status.busy": "2023-10-26T17:47:15.325779Z",
     "iopub.status.idle": "2023-10-26T17:47:15.334767Z",
     "shell.execute_reply": "2023-10-26T17:47:15.333482Z"
    },
    "papermill": {
     "duration": 0.107933,
     "end_time": "2023-10-26T17:47:15.337120",
     "exception": false,
     "start_time": "2023-10-26T17:47:15.229187",
     "status": "completed"
    },
    "tags": []
   },
   "outputs": [
    {
     "data": {
      "text/plain": [
       "250"
      ]
     },
     "execution_count": 209,
     "metadata": {},
     "output_type": "execute_result"
    }
   ],
   "source": [
    "c = [10,20,30,40,50]\n",
    "\n",
    "\n",
    "def add(p,q) :\n",
    "    return p + q\n",
    "ini = 100 \n",
    "d = reduce(add,c,ini)\n",
    "d"
   ]
  },
  {
   "cell_type": "code",
   "execution_count": 210,
   "id": "f52db2f9",
   "metadata": {
    "execution": {
     "iopub.execute_input": "2023-10-26T17:47:15.529314Z",
     "iopub.status.busy": "2023-10-26T17:47:15.528893Z",
     "iopub.status.idle": "2023-10-26T17:47:15.535963Z",
     "shell.execute_reply": "2023-10-26T17:47:15.534933Z"
    },
    "papermill": {
     "duration": 0.107448,
     "end_time": "2023-10-26T17:47:15.538032",
     "exception": false,
     "start_time": "2023-10-26T17:47:15.430584",
     "status": "completed"
    },
    "tags": []
   },
   "outputs": [
    {
     "data": {
      "text/plain": [
       "50"
      ]
     },
     "execution_count": 210,
     "metadata": {},
     "output_type": "execute_result"
    }
   ],
   "source": [
    "c = [10,20,30,40,50]\n",
    "\n",
    "mx = c[0]\n",
    "for i in c :\n",
    "    if i > mx :\n",
    "        mx = i\n",
    "mx"
   ]
  },
  {
   "cell_type": "code",
   "execution_count": 211,
   "id": "3b93fd7c",
   "metadata": {
    "execution": {
     "iopub.execute_input": "2023-10-26T17:47:15.725683Z",
     "iopub.status.busy": "2023-10-26T17:47:15.725232Z",
     "iopub.status.idle": "2023-10-26T17:47:15.733805Z",
     "shell.execute_reply": "2023-10-26T17:47:15.732920Z"
    },
    "papermill": {
     "duration": 0.105121,
     "end_time": "2023-10-26T17:47:15.736173",
     "exception": false,
     "start_time": "2023-10-26T17:47:15.631052",
     "status": "completed"
    },
    "tags": []
   },
   "outputs": [
    {
     "data": {
      "text/plain": [
       "770"
      ]
     },
     "execution_count": 211,
     "metadata": {},
     "output_type": "execute_result"
    }
   ],
   "source": [
    "c = [10,770,30,40,50]\n",
    "ini = int(c[0])\n",
    "def maxx(p,q):\n",
    "    if p > q :\n",
    "        return p \n",
    "    else :\n",
    "        return q\n",
    "\n",
    "    \n",
    "        \n",
    "    \n",
    "# ini = c[0]\n",
    "d = reduce(maxx,c)\n",
    "d"
   ]
  },
  {
   "cell_type": "code",
   "execution_count": 212,
   "id": "bbd93fc8",
   "metadata": {
    "execution": {
     "iopub.execute_input": "2023-10-26T17:47:15.995374Z",
     "iopub.status.busy": "2023-10-26T17:47:15.994941Z",
     "iopub.status.idle": "2023-10-26T17:47:16.003340Z",
     "shell.execute_reply": "2023-10-26T17:47:16.002192Z"
    },
    "papermill": {
     "duration": 0.106475,
     "end_time": "2023-10-26T17:47:16.006157",
     "exception": false,
     "start_time": "2023-10-26T17:47:15.899682",
     "status": "completed"
    },
    "tags": []
   },
   "outputs": [
    {
     "data": {
      "text/plain": [
       "'c001mlv c001prasad c001mentor'"
      ]
     },
     "execution_count": 212,
     "metadata": {},
     "output_type": "execute_result"
    }
   ],
   "source": [
    "d = [\"mlv\",\"prasad\",\"mentor\"]\n",
    "# d = [\"mlv prasad\",\"mentor\"]\n",
    "\n",
    "def con (p,q) :\n",
    "    if p != \"c001\":\n",
    "        return p + \" c001\" + q\n",
    "    else :\n",
    "        return p + q\n",
    "\n",
    "e = reduce(con, d,\"c001\")\n",
    "e"
   ]
  },
  {
   "cell_type": "code",
   "execution_count": 213,
   "id": "a97a4cee",
   "metadata": {
    "execution": {
     "iopub.execute_input": "2023-10-26T17:47:16.194923Z",
     "iopub.status.busy": "2023-10-26T17:47:16.194493Z",
     "iopub.status.idle": "2023-10-26T17:47:16.202446Z",
     "shell.execute_reply": "2023-10-26T17:47:16.201358Z"
    },
    "papermill": {
     "duration": 0.104486,
     "end_time": "2023-10-26T17:47:16.204688",
     "exception": false,
     "start_time": "2023-10-26T17:47:16.100202",
     "status": "completed"
    },
    "tags": []
   },
   "outputs": [
    {
     "data": {
      "text/plain": [
       "'mlv prasad mentor'"
      ]
     },
     "execution_count": 213,
     "metadata": {},
     "output_type": "execute_result"
    }
   ],
   "source": [
    "d = [\"mlv\",\"prasad\",\"mentor\"]\n",
    "e = reduce(lambda x,y : x + \" \" + y, d)\n",
    "e"
   ]
  },
  {
   "cell_type": "code",
   "execution_count": 214,
   "id": "b59e27b0",
   "metadata": {
    "execution": {
     "iopub.execute_input": "2023-10-26T17:47:16.395209Z",
     "iopub.status.busy": "2023-10-26T17:47:16.394839Z",
     "iopub.status.idle": "2023-10-26T17:47:16.402882Z",
     "shell.execute_reply": "2023-10-26T17:47:16.401819Z"
    },
    "papermill": {
     "duration": 0.107191,
     "end_time": "2023-10-26T17:47:16.405510",
     "exception": false,
     "start_time": "2023-10-26T17:47:16.298319",
     "status": "completed"
    },
    "tags": []
   },
   "outputs": [
    {
     "data": {
      "text/plain": [
       "[100, 625, 900, 1225, 2500]"
      ]
     },
     "execution_count": 214,
     "metadata": {},
     "output_type": "execute_result"
    }
   ],
   "source": [
    "#map\n",
    "\n",
    "a = [10,25,30,35,50]\n",
    "\n",
    "# fil  = [10,30,50]\n",
    "\n",
    "# reduce = one final ans \n",
    "\n",
    "#map - apply some function on all elememts\n",
    "\n",
    "\n",
    "b = []\n",
    "for i in a :\n",
    "    b.append(i**2)\n",
    "b\n",
    "\n"
   ]
  },
  {
   "cell_type": "code",
   "execution_count": 215,
   "id": "5ffb47b8",
   "metadata": {
    "execution": {
     "iopub.execute_input": "2023-10-26T17:47:16.597757Z",
     "iopub.status.busy": "2023-10-26T17:47:16.597379Z",
     "iopub.status.idle": "2023-10-26T17:47:16.606098Z",
     "shell.execute_reply": "2023-10-26T17:47:16.604709Z"
    },
    "papermill": {
     "duration": 0.107846,
     "end_time": "2023-10-26T17:47:16.608758",
     "exception": false,
     "start_time": "2023-10-26T17:47:16.500912",
     "status": "completed"
    },
    "tags": []
   },
   "outputs": [
    {
     "data": {
      "text/plain": [
       "[100, 625, 900, 1225, 2500]"
      ]
     },
     "execution_count": 215,
     "metadata": {},
     "output_type": "execute_result"
    }
   ],
   "source": [
    "c = [10,25,30,35,50]\n",
    "def sq(x) :\n",
    "    return x**2\n",
    "d = list(map(sq, c))\n",
    "d"
   ]
  },
  {
   "cell_type": "code",
   "execution_count": 216,
   "id": "21aa0cbd",
   "metadata": {
    "execution": {
     "iopub.execute_input": "2023-10-26T17:47:16.801886Z",
     "iopub.status.busy": "2023-10-26T17:47:16.801462Z",
     "iopub.status.idle": "2023-10-26T17:47:16.809282Z",
     "shell.execute_reply": "2023-10-26T17:47:16.808423Z"
    },
    "papermill": {
     "duration": 0.106657,
     "end_time": "2023-10-26T17:47:16.811519",
     "exception": false,
     "start_time": "2023-10-26T17:47:16.704862",
     "status": "completed"
    },
    "tags": []
   },
   "outputs": [
    {
     "data": {
      "text/plain": [
       "[100, 625, 900, 1225, 2500]"
      ]
     },
     "execution_count": 216,
     "metadata": {},
     "output_type": "execute_result"
    }
   ],
   "source": [
    "c = [10,25,30,35,50]\n",
    "\n",
    "d = list(map(lambda i : i **2 , c))\n",
    "d"
   ]
  },
  {
   "cell_type": "code",
   "execution_count": null,
   "id": "1bfb240f",
   "metadata": {
    "papermill": {
     "duration": 0.093535,
     "end_time": "2023-10-26T17:47:17.001635",
     "exception": false,
     "start_time": "2023-10-26T17:47:16.908100",
     "status": "completed"
    },
    "tags": []
   },
   "outputs": [],
   "source": []
  },
  {
   "cell_type": "code",
   "execution_count": null,
   "id": "aeea7968",
   "metadata": {
    "papermill": {
     "duration": 0.094113,
     "end_time": "2023-10-26T17:47:17.193011",
     "exception": false,
     "start_time": "2023-10-26T17:47:17.098898",
     "status": "completed"
    },
    "tags": []
   },
   "outputs": [],
   "source": []
  },
  {
   "cell_type": "code",
   "execution_count": 217,
   "id": "a4e19e7a",
   "metadata": {
    "execution": {
     "iopub.execute_input": "2023-10-26T17:47:17.389926Z",
     "iopub.status.busy": "2023-10-26T17:47:17.389500Z",
     "iopub.status.idle": "2023-10-26T17:47:17.395756Z",
     "shell.execute_reply": "2023-10-26T17:47:17.394233Z"
    },
    "papermill": {
     "duration": 0.109383,
     "end_time": "2023-10-26T17:47:17.398484",
     "exception": false,
     "start_time": "2023-10-26T17:47:17.289101",
     "status": "completed"
    },
    "tags": []
   },
   "outputs": [],
   "source": [
    "a = [\"swapna\",\"prasad\",\"ghosh\"]\n",
    "b = [100,200,300]"
   ]
  },
  {
   "cell_type": "code",
   "execution_count": 218,
   "id": "d0f88bc4",
   "metadata": {
    "execution": {
     "iopub.execute_input": "2023-10-26T17:47:17.592400Z",
     "iopub.status.busy": "2023-10-26T17:47:17.591951Z",
     "iopub.status.idle": "2023-10-26T17:47:17.600339Z",
     "shell.execute_reply": "2023-10-26T17:47:17.598822Z"
    },
    "papermill": {
     "duration": 0.108498,
     "end_time": "2023-10-26T17:47:17.603135",
     "exception": false,
     "start_time": "2023-10-26T17:47:17.494637",
     "status": "completed"
    },
    "tags": []
   },
   "outputs": [
    {
     "name": "stdout",
     "output_type": "stream",
     "text": [
      "swapna 100\n",
      "prasad 200\n",
      "ghosh 300\n"
     ]
    }
   ],
   "source": [
    "for i in range(len(a) ) :\n",
    "    print(a[i],b[i])\n",
    "    "
   ]
  },
  {
   "cell_type": "code",
   "execution_count": 219,
   "id": "870d1719",
   "metadata": {
    "execution": {
     "iopub.execute_input": "2023-10-26T17:47:17.797823Z",
     "iopub.status.busy": "2023-10-26T17:47:17.797428Z",
     "iopub.status.idle": "2023-10-26T17:47:17.803318Z",
     "shell.execute_reply": "2023-10-26T17:47:17.802211Z"
    },
    "papermill": {
     "duration": 0.103682,
     "end_time": "2023-10-26T17:47:17.805812",
     "exception": false,
     "start_time": "2023-10-26T17:47:17.702130",
     "status": "completed"
    },
    "tags": []
   },
   "outputs": [
    {
     "name": "stdout",
     "output_type": "stream",
     "text": [
      "('swapna', 100) --\n",
      "('prasad', 200) --\n",
      "('ghosh', 300) --\n"
     ]
    }
   ],
   "source": [
    "for i in zip(a,b) :\n",
    "    print(i,\"--\")"
   ]
  },
  {
   "cell_type": "code",
   "execution_count": 220,
   "id": "5a0133a9",
   "metadata": {
    "execution": {
     "iopub.execute_input": "2023-10-26T17:47:17.997840Z",
     "iopub.status.busy": "2023-10-26T17:47:17.997471Z",
     "iopub.status.idle": "2023-10-26T17:47:18.003413Z",
     "shell.execute_reply": "2023-10-26T17:47:18.001956Z"
    },
    "papermill": {
     "duration": 0.104061,
     "end_time": "2023-10-26T17:47:18.006044",
     "exception": false,
     "start_time": "2023-10-26T17:47:17.901983",
     "status": "completed"
    },
    "tags": []
   },
   "outputs": [
    {
     "name": "stdout",
     "output_type": "stream",
     "text": [
      "swapna -- 100\n",
      "prasad -- 200\n",
      "ghosh -- 300\n"
     ]
    }
   ],
   "source": [
    "for i,j in zip(a,b) :\n",
    "    print(i,\"--\",j)"
   ]
  },
  {
   "cell_type": "code",
   "execution_count": 221,
   "id": "590ed8a9",
   "metadata": {
    "execution": {
     "iopub.execute_input": "2023-10-26T17:47:18.196147Z",
     "iopub.status.busy": "2023-10-26T17:47:18.195717Z",
     "iopub.status.idle": "2023-10-26T17:47:18.204423Z",
     "shell.execute_reply": "2023-10-26T17:47:18.203029Z"
    },
    "papermill": {
     "duration": 0.105676,
     "end_time": "2023-10-26T17:47:18.206752",
     "exception": false,
     "start_time": "2023-10-26T17:47:18.101076",
     "status": "completed"
    },
    "tags": []
   },
   "outputs": [
    {
     "data": {
      "text/plain": [
       "[('swapna', 100, 1)]"
      ]
     },
     "execution_count": 221,
     "metadata": {},
     "output_type": "execute_result"
    }
   ],
   "source": [
    "a = [\"swapna\"]\n",
    "b = [100,200,300]\n",
    "c= [1,2]\n",
    "\n",
    "\n",
    "c = list(zip(a,b,c))\n",
    "c"
   ]
  },
  {
   "cell_type": "code",
   "execution_count": 222,
   "id": "bd783787",
   "metadata": {
    "execution": {
     "iopub.execute_input": "2023-10-26T17:47:18.402533Z",
     "iopub.status.busy": "2023-10-26T17:47:18.402121Z",
     "iopub.status.idle": "2023-10-26T17:47:18.408570Z",
     "shell.execute_reply": "2023-10-26T17:47:18.407594Z"
    },
    "papermill": {
     "duration": 0.108246,
     "end_time": "2023-10-26T17:47:18.411111",
     "exception": false,
     "start_time": "2023-10-26T17:47:18.302865",
     "status": "completed"
    },
    "tags": []
   },
   "outputs": [],
   "source": [
    "class BluePrint() :\n",
    "    \n",
    "    def __init__ (self,a ): # constructor\n",
    "        self.b = a + 100\n",
    "        self.designed = \"mlv prasad\"\n",
    "        self.country  = \"india\"\n",
    "        \n",
    "\n",
    "\n",
    "    \n",
    "\n",
    "    def color(self):\n",
    "#         b = self.designed\n",
    "        return f\"home is designed {self.designed} for  and is 100 ft and color \"\n",
    "\n",
    "    def interior(self):\n",
    "        return \"home is italian \"\n",
    "    \n",
    "ghosh = BluePrint(100.5)\n",
    "# int(ghosh)"
   ]
  },
  {
   "cell_type": "code",
   "execution_count": 223,
   "id": "83e6ffc7",
   "metadata": {
    "execution": {
     "iopub.execute_input": "2023-10-26T17:47:18.610144Z",
     "iopub.status.busy": "2023-10-26T17:47:18.609718Z",
     "iopub.status.idle": "2023-10-26T17:47:18.614383Z",
     "shell.execute_reply": "2023-10-26T17:47:18.613196Z"
    },
    "papermill": {
     "duration": 0.105359,
     "end_time": "2023-10-26T17:47:18.616844",
     "exception": false,
     "start_time": "2023-10-26T17:47:18.511485",
     "status": "completed"
    },
    "tags": []
   },
   "outputs": [],
   "source": [
    "# swapna = BluePrint()\n",
    "# swapna.color()"
   ]
  },
  {
   "cell_type": "code",
   "execution_count": 224,
   "id": "8fdada3b",
   "metadata": {
    "execution": {
     "iopub.execute_input": "2023-10-26T17:47:18.812322Z",
     "iopub.status.busy": "2023-10-26T17:47:18.811914Z",
     "iopub.status.idle": "2023-10-26T17:47:18.819168Z",
     "shell.execute_reply": "2023-10-26T17:47:18.818061Z"
    },
    "papermill": {
     "duration": 0.105364,
     "end_time": "2023-10-26T17:47:18.821501",
     "exception": false,
     "start_time": "2023-10-26T17:47:18.716137",
     "status": "completed"
    },
    "tags": []
   },
   "outputs": [
    {
     "data": {
      "text/plain": [
       "'9'"
      ]
     },
     "execution_count": 224,
     "metadata": {},
     "output_type": "execute_result"
    }
   ],
   "source": [
    "a = 9\n",
    "b = str(a)\n",
    "b"
   ]
  },
  {
   "cell_type": "code",
   "execution_count": 225,
   "id": "b7822894",
   "metadata": {
    "execution": {
     "iopub.execute_input": "2023-10-26T17:47:19.017394Z",
     "iopub.status.busy": "2023-10-26T17:47:19.016958Z",
     "iopub.status.idle": "2023-10-26T17:47:19.026464Z",
     "shell.execute_reply": "2023-10-26T17:47:19.025398Z"
    },
    "papermill": {
     "duration": 0.109961,
     "end_time": "2023-10-26T17:47:19.028833",
     "exception": false,
     "start_time": "2023-10-26T17:47:18.918872",
     "status": "completed"
    },
    "tags": []
   },
   "outputs": [
    {
     "data": {
      "text/plain": [
       "0"
      ]
     },
     "execution_count": 225,
     "metadata": {},
     "output_type": "execute_result"
    }
   ],
   "source": [
    "class Student() :\n",
    "    \n",
    "    def __init__(self,name,age):\n",
    "        self.studname = f\"the student name is {name}\"\n",
    "        self.studage = f\"the student age is {age}\"\n",
    "        self.courses= []\n",
    "    \n",
    "    def enroll(self, course= 0 ) :\n",
    "        self.courses.append(course)\n",
    "        \n",
    "    def total_course(self):\n",
    "        return len(self.courses)\n",
    "    \n",
    "    \n",
    "    \n",
    "joy =  Student(\"joyce\",\"30\")\n",
    "joy.total_course()\n",
    "\n",
    "\n",
    "\n"
   ]
  },
  {
   "cell_type": "code",
   "execution_count": 226,
   "id": "58ea3481",
   "metadata": {
    "execution": {
     "iopub.execute_input": "2023-10-26T17:47:19.220651Z",
     "iopub.status.busy": "2023-10-26T17:47:19.220251Z",
     "iopub.status.idle": "2023-10-26T17:47:19.227197Z",
     "shell.execute_reply": "2023-10-26T17:47:19.226014Z"
    },
    "papermill": {
     "duration": 0.105236,
     "end_time": "2023-10-26T17:47:19.229613",
     "exception": false,
     "start_time": "2023-10-26T17:47:19.124377",
     "status": "completed"
    },
    "tags": []
   },
   "outputs": [
    {
     "data": {
      "text/plain": [
       "[]"
      ]
     },
     "execution_count": 226,
     "metadata": {},
     "output_type": "execute_result"
    }
   ],
   "source": [
    "sw = Student(\"swapna\",\"35\")\n",
    "sw.courses"
   ]
  },
  {
   "cell_type": "code",
   "execution_count": 227,
   "id": "d2dba389",
   "metadata": {
    "execution": {
     "iopub.execute_input": "2023-10-26T17:47:19.436234Z",
     "iopub.status.busy": "2023-10-26T17:47:19.435853Z",
     "iopub.status.idle": "2023-10-26T17:47:19.442054Z",
     "shell.execute_reply": "2023-10-26T17:47:19.441256Z"
    },
    "papermill": {
     "duration": 0.116457,
     "end_time": "2023-10-26T17:47:19.444691",
     "exception": false,
     "start_time": "2023-10-26T17:47:19.328234",
     "status": "completed"
    },
    "tags": []
   },
   "outputs": [
    {
     "data": {
      "text/plain": [
       "[]"
      ]
     },
     "execution_count": 227,
     "metadata": {},
     "output_type": "execute_result"
    }
   ],
   "source": [
    "joy.courses\n",
    "\n",
    "# joy.enroll(\"sql\")"
   ]
  },
  {
   "cell_type": "code",
   "execution_count": 228,
   "id": "aa2b0009",
   "metadata": {
    "execution": {
     "iopub.execute_input": "2023-10-26T17:47:19.649283Z",
     "iopub.status.busy": "2023-10-26T17:47:19.648049Z",
     "iopub.status.idle": "2023-10-26T17:47:19.654371Z",
     "shell.execute_reply": "2023-10-26T17:47:19.653108Z"
    },
    "papermill": {
     "duration": 0.111202,
     "end_time": "2023-10-26T17:47:19.657284",
     "exception": false,
     "start_time": "2023-10-26T17:47:19.546082",
     "status": "completed"
    },
    "tags": []
   },
   "outputs": [],
   "source": [
    "sw.enroll(\"sql\")"
   ]
  },
  {
   "cell_type": "code",
   "execution_count": 229,
   "id": "96e2aa1b",
   "metadata": {
    "execution": {
     "iopub.execute_input": "2023-10-26T17:47:19.880047Z",
     "iopub.status.busy": "2023-10-26T17:47:19.878698Z",
     "iopub.status.idle": "2023-10-26T17:47:19.888378Z",
     "shell.execute_reply": "2023-10-26T17:47:19.887525Z"
    },
    "papermill": {
     "duration": 0.134005,
     "end_time": "2023-10-26T17:47:19.891106",
     "exception": false,
     "start_time": "2023-10-26T17:47:19.757101",
     "status": "completed"
    },
    "tags": []
   },
   "outputs": [
    {
     "data": {
      "text/plain": [
       "[]"
      ]
     },
     "execution_count": 229,
     "metadata": {},
     "output_type": "execute_result"
    }
   ],
   "source": [
    "joy.courses"
   ]
  },
  {
   "cell_type": "code",
   "execution_count": 230,
   "id": "c7e8aea0",
   "metadata": {
    "execution": {
     "iopub.execute_input": "2023-10-26T17:47:20.088714Z",
     "iopub.status.busy": "2023-10-26T17:47:20.088308Z",
     "iopub.status.idle": "2023-10-26T17:47:20.093565Z",
     "shell.execute_reply": "2023-10-26T17:47:20.092282Z"
    },
    "papermill": {
     "duration": 0.105606,
     "end_time": "2023-10-26T17:47:20.095939",
     "exception": false,
     "start_time": "2023-10-26T17:47:19.990333",
     "status": "completed"
    },
    "tags": []
   },
   "outputs": [],
   "source": [
    "joy.enroll(\"python\")"
   ]
  },
  {
   "cell_type": "code",
   "execution_count": 231,
   "id": "b7654c2d",
   "metadata": {
    "execution": {
     "iopub.execute_input": "2023-10-26T17:47:20.287201Z",
     "iopub.status.busy": "2023-10-26T17:47:20.286747Z",
     "iopub.status.idle": "2023-10-26T17:47:20.294084Z",
     "shell.execute_reply": "2023-10-26T17:47:20.292876Z"
    },
    "papermill": {
     "duration": 0.105987,
     "end_time": "2023-10-26T17:47:20.296490",
     "exception": false,
     "start_time": "2023-10-26T17:47:20.190503",
     "status": "completed"
    },
    "tags": []
   },
   "outputs": [
    {
     "data": {
      "text/plain": [
       "['python']"
      ]
     },
     "execution_count": 231,
     "metadata": {},
     "output_type": "execute_result"
    }
   ],
   "source": [
    "joy.courses"
   ]
  },
  {
   "cell_type": "code",
   "execution_count": 232,
   "id": "98ae2373",
   "metadata": {
    "execution": {
     "iopub.execute_input": "2023-10-26T17:47:20.487803Z",
     "iopub.status.busy": "2023-10-26T17:47:20.487435Z",
     "iopub.status.idle": "2023-10-26T17:47:20.494704Z",
     "shell.execute_reply": "2023-10-26T17:47:20.493440Z"
    },
    "papermill": {
     "duration": 0.106362,
     "end_time": "2023-10-26T17:47:20.497880",
     "exception": false,
     "start_time": "2023-10-26T17:47:20.391518",
     "status": "completed"
    },
    "tags": []
   },
   "outputs": [
    {
     "data": {
      "text/plain": [
       "1"
      ]
     },
     "execution_count": 232,
     "metadata": {},
     "output_type": "execute_result"
    }
   ],
   "source": [
    "joy.total_course()"
   ]
  },
  {
   "cell_type": "code",
   "execution_count": 233,
   "id": "fca07dc8",
   "metadata": {
    "execution": {
     "iopub.execute_input": "2023-10-26T17:47:20.690530Z",
     "iopub.status.busy": "2023-10-26T17:47:20.690137Z",
     "iopub.status.idle": "2023-10-26T17:47:20.696714Z",
     "shell.execute_reply": "2023-10-26T17:47:20.695509Z"
    },
    "papermill": {
     "duration": 0.105927,
     "end_time": "2023-10-26T17:47:20.698979",
     "exception": false,
     "start_time": "2023-10-26T17:47:20.593052",
     "status": "completed"
    },
    "tags": []
   },
   "outputs": [
    {
     "data": {
      "text/plain": [
       "['sql']"
      ]
     },
     "execution_count": 233,
     "metadata": {},
     "output_type": "execute_result"
    }
   ],
   "source": [
    "sw.courses"
   ]
  },
  {
   "cell_type": "code",
   "execution_count": 234,
   "id": "30ead9c7",
   "metadata": {
    "execution": {
     "iopub.execute_input": "2023-10-26T17:47:20.893294Z",
     "iopub.status.busy": "2023-10-26T17:47:20.892833Z",
     "iopub.status.idle": "2023-10-26T17:47:20.900619Z",
     "shell.execute_reply": "2023-10-26T17:47:20.899232Z"
    },
    "papermill": {
     "duration": 0.109021,
     "end_time": "2023-10-26T17:47:20.902901",
     "exception": false,
     "start_time": "2023-10-26T17:47:20.793880",
     "status": "completed"
    },
    "tags": []
   },
   "outputs": [
    {
     "data": {
      "text/plain": [
       "1"
      ]
     },
     "execution_count": 234,
     "metadata": {},
     "output_type": "execute_result"
    }
   ],
   "source": [
    "sw.total_course()"
   ]
  },
  {
   "cell_type": "code",
   "execution_count": 235,
   "id": "57aca30e",
   "metadata": {
    "execution": {
     "iopub.execute_input": "2023-10-26T17:47:21.108347Z",
     "iopub.status.busy": "2023-10-26T17:47:21.107904Z",
     "iopub.status.idle": "2023-10-26T17:47:21.116986Z",
     "shell.execute_reply": "2023-10-26T17:47:21.115669Z"
    },
    "papermill": {
     "duration": 0.117663,
     "end_time": "2023-10-26T17:47:21.119313",
     "exception": false,
     "start_time": "2023-10-26T17:47:21.001650",
     "status": "completed"
    },
    "tags": []
   },
   "outputs": [
    {
     "name": "stdout",
     "output_type": "stream",
     "text": [
      "the owner brand is TYT and number of doors is 6\n"
     ]
    }
   ],
   "source": [
    "class Vehicle :\n",
    "    \n",
    "    def __init__ (self,brand,model ):\n",
    "        self.brand = brand\n",
    "        self.model = model\n",
    "        \n",
    "    def info(self):\n",
    "        return f\"the owner brand is {self.brand}\"\n",
    "    \n",
    "    \n",
    "    \n",
    "class Toyato(Vehicle):\n",
    "    def __init__(self,brand,model,doors) : \n",
    "        super().__init__(brand,model)\n",
    "        self.doors= doors\n",
    "    def info(self):\n",
    "        return f\"{super().info()} and number of doors is {self.doors}\"\n",
    "    \n",
    "swapna = Toyato(\"TYT\",\"fortuner\",6)\n",
    "\n",
    "print(swapna.info())\n"
   ]
  },
  {
   "cell_type": "code",
   "execution_count": null,
   "id": "0da9929c",
   "metadata": {
    "papermill": {
     "duration": 0.099067,
     "end_time": "2023-10-26T17:47:21.317021",
     "exception": false,
     "start_time": "2023-10-26T17:47:21.217954",
     "status": "completed"
    },
    "tags": []
   },
   "outputs": [],
   "source": []
  },
  {
   "cell_type": "code",
   "execution_count": null,
   "id": "642af2a4",
   "metadata": {
    "papermill": {
     "duration": 0.096873,
     "end_time": "2023-10-26T17:47:21.513984",
     "exception": false,
     "start_time": "2023-10-26T17:47:21.417111",
     "status": "completed"
    },
    "tags": []
   },
   "outputs": [],
   "source": []
  }
 ],
 "metadata": {
  "kernelspec": {
   "display_name": "Python 3",
   "language": "python",
   "name": "python3"
  },
  "language_info": {
   "codemirror_mode": {
    "name": "ipython",
    "version": 3
   },
   "file_extension": ".py",
   "mimetype": "text/x-python",
   "name": "python",
   "nbconvert_exporter": "python",
   "pygments_lexer": "ipython3",
   "version": "3.10.12"
  },
  "papermill": {
   "default_parameters": {},
   "duration": 50.909771,
   "end_time": "2023-10-26T17:47:22.034826",
   "environment_variables": {},
   "exception": null,
   "input_path": "__notebook__.ipynb",
   "output_path": "__notebook__.ipynb",
   "parameters": {},
   "start_time": "2023-10-26T17:46:31.125055",
   "version": "2.4.0"
  }
 },
 "nbformat": 4,
 "nbformat_minor": 5
}
