{
 "cells": [
  {
   "cell_type": "code",
   "execution_count": 1,
   "id": "ef2028ad",
   "metadata": {
    "_cell_guid": "b1076dfc-b9ad-4769-8c92-a6c4dae69d19",
    "_uuid": "8f2839f25d086af736a60e9eeb907d3b93b6e0e5",
    "execution": {
     "iopub.execute_input": "2023-11-07T17:48:04.745052Z",
     "iopub.status.busy": "2023-11-07T17:48:04.744662Z",
     "iopub.status.idle": "2023-11-07T17:48:04.757993Z",
     "shell.execute_reply": "2023-11-07T17:48:04.757060Z"
    },
    "papermill": {
     "duration": 0.211044,
     "end_time": "2023-11-07T17:48:04.760800",
     "exception": false,
     "start_time": "2023-11-07T17:48:04.549756",
     "status": "completed"
    },
    "tags": []
   },
   "outputs": [
    {
     "name": "stdout",
     "output_type": "stream",
     "text": [
      "6\n",
      "---\n",
      "6\n"
     ]
    }
   ],
   "source": [
    "a = 6\n",
    "print(a)\n",
    "print(\"---\")\n",
    "# a = \n",
    "print(a)"
   ]
  },
  {
   "cell_type": "code",
   "execution_count": null,
   "id": "49283298",
   "metadata": {
    "papermill": {
     "duration": 0.107836,
     "end_time": "2023-11-07T17:48:04.979525",
     "exception": false,
     "start_time": "2023-11-07T17:48:04.871689",
     "status": "completed"
    },
    "tags": []
   },
   "outputs": [],
   "source": []
  },
  {
   "cell_type": "code",
   "execution_count": 2,
   "id": "9d337073",
   "metadata": {
    "execution": {
     "iopub.execute_input": "2023-11-07T17:48:05.204701Z",
     "iopub.status.busy": "2023-11-07T17:48:05.204241Z",
     "iopub.status.idle": "2023-11-07T17:48:05.211518Z",
     "shell.execute_reply": "2023-11-07T17:48:05.209925Z"
    },
    "papermill": {
     "duration": 0.121804,
     "end_time": "2023-11-07T17:48:05.214330",
     "exception": false,
     "start_time": "2023-11-07T17:48:05.092526",
     "status": "completed"
    },
    "tags": []
   },
   "outputs": [],
   "source": [
    "a = 7"
   ]
  },
  {
   "cell_type": "markdown",
   "id": "4c633a5f",
   "metadata": {
    "papermill": {
     "duration": 0.108525,
     "end_time": "2023-11-07T17:48:05.435881",
     "exception": false,
     "start_time": "2023-11-07T17:48:05.327356",
     "status": "completed"
    },
    "tags": []
   },
   "source": [
    "# data types"
   ]
  },
  {
   "cell_type": "code",
   "execution_count": 3,
   "id": "d5157da6",
   "metadata": {
    "execution": {
     "iopub.execute_input": "2023-11-07T17:48:05.653017Z",
     "iopub.status.busy": "2023-11-07T17:48:05.652623Z",
     "iopub.status.idle": "2023-11-07T17:48:05.658646Z",
     "shell.execute_reply": "2023-11-07T17:48:05.657408Z"
    },
    "papermill": {
     "duration": 0.114201,
     "end_time": "2023-11-07T17:48:05.661272",
     "exception": false,
     "start_time": "2023-11-07T17:48:05.547071",
     "status": "completed"
    },
    "tags": []
   },
   "outputs": [
    {
     "name": "stdout",
     "output_type": "stream",
     "text": [
      "6\n"
     ]
    }
   ],
   "source": [
    "abhi = 6\n",
    "\n",
    "print(abhi)"
   ]
  },
  {
   "cell_type": "code",
   "execution_count": 4,
   "id": "e0f3d426",
   "metadata": {
    "execution": {
     "iopub.execute_input": "2023-11-07T17:48:05.873586Z",
     "iopub.status.busy": "2023-11-07T17:48:05.872737Z",
     "iopub.status.idle": "2023-11-07T17:48:05.882558Z",
     "shell.execute_reply": "2023-11-07T17:48:05.880752Z"
    },
    "papermill": {
     "duration": 0.121396,
     "end_time": "2023-11-07T17:48:05.886511",
     "exception": false,
     "start_time": "2023-11-07T17:48:05.765115",
     "status": "completed"
    },
    "tags": []
   },
   "outputs": [
    {
     "data": {
      "text/plain": [
       "int"
      ]
     },
     "execution_count": 4,
     "metadata": {},
     "output_type": "execute_result"
    }
   ],
   "source": [
    "type(abhi)"
   ]
  },
  {
   "cell_type": "code",
   "execution_count": 5,
   "id": "8089742c",
   "metadata": {
    "execution": {
     "iopub.execute_input": "2023-11-07T17:48:06.096477Z",
     "iopub.status.busy": "2023-11-07T17:48:06.096058Z",
     "iopub.status.idle": "2023-11-07T17:48:06.103145Z",
     "shell.execute_reply": "2023-11-07T17:48:06.101822Z"
    },
    "papermill": {
     "duration": 0.117087,
     "end_time": "2023-11-07T17:48:06.105840",
     "exception": false,
     "start_time": "2023-11-07T17:48:05.988753",
     "status": "completed"
    },
    "tags": []
   },
   "outputs": [
    {
     "data": {
      "text/plain": [
       "float"
      ]
     },
     "execution_count": 5,
     "metadata": {},
     "output_type": "execute_result"
    }
   ],
   "source": [
    "swa = 6.5\n",
    "type(swa)"
   ]
  },
  {
   "cell_type": "code",
   "execution_count": 6,
   "id": "639656a1",
   "metadata": {
    "execution": {
     "iopub.execute_input": "2023-11-07T17:48:06.308468Z",
     "iopub.status.busy": "2023-11-07T17:48:06.308057Z",
     "iopub.status.idle": "2023-11-07T17:48:06.314378Z",
     "shell.execute_reply": "2023-11-07T17:48:06.313360Z"
    },
    "papermill": {
     "duration": 0.110705,
     "end_time": "2023-11-07T17:48:06.317055",
     "exception": false,
     "start_time": "2023-11-07T17:48:06.206350",
     "status": "completed"
    },
    "tags": []
   },
   "outputs": [
    {
     "data": {
      "text/plain": [
       "complex"
      ]
     },
     "execution_count": 6,
     "metadata": {},
     "output_type": "execute_result"
    }
   ],
   "source": [
    "pra = 3 + 2j\n",
    "\n",
    "type(pra)"
   ]
  },
  {
   "cell_type": "code",
   "execution_count": 7,
   "id": "55a460f1",
   "metadata": {
    "execution": {
     "iopub.execute_input": "2023-11-07T17:48:06.521922Z",
     "iopub.status.busy": "2023-11-07T17:48:06.521547Z",
     "iopub.status.idle": "2023-11-07T17:48:06.528101Z",
     "shell.execute_reply": "2023-11-07T17:48:06.526618Z"
    },
    "papermill": {
     "duration": 0.11258,
     "end_time": "2023-11-07T17:48:06.530831",
     "exception": false,
     "start_time": "2023-11-07T17:48:06.418251",
     "status": "completed"
    },
    "tags": []
   },
   "outputs": [
    {
     "data": {
      "text/plain": [
       "str"
      ]
     },
     "execution_count": 7,
     "metadata": {},
     "output_type": "execute_result"
    }
   ],
   "source": [
    "x = \"sush\"\n",
    "type(x)"
   ]
  },
  {
   "cell_type": "code",
   "execution_count": 8,
   "id": "b58ae59a",
   "metadata": {
    "execution": {
     "iopub.execute_input": "2023-11-07T17:48:06.736055Z",
     "iopub.status.busy": "2023-11-07T17:48:06.735681Z",
     "iopub.status.idle": "2023-11-07T17:48:06.742345Z",
     "shell.execute_reply": "2023-11-07T17:48:06.741038Z"
    },
    "papermill": {
     "duration": 0.109641,
     "end_time": "2023-11-07T17:48:06.744801",
     "exception": false,
     "start_time": "2023-11-07T17:48:06.635160",
     "status": "completed"
    },
    "tags": []
   },
   "outputs": [
    {
     "data": {
      "text/plain": [
       "int"
      ]
     },
     "execution_count": 8,
     "metadata": {},
     "output_type": "execute_result"
    }
   ],
   "source": [
    "z = 44 - 5 - 14\n",
    "z\n",
    "type(z)"
   ]
  },
  {
   "cell_type": "code",
   "execution_count": 9,
   "id": "aef2faca",
   "metadata": {
    "execution": {
     "iopub.execute_input": "2023-11-07T17:48:06.945312Z",
     "iopub.status.busy": "2023-11-07T17:48:06.944780Z",
     "iopub.status.idle": "2023-11-07T17:48:06.952455Z",
     "shell.execute_reply": "2023-11-07T17:48:06.951529Z"
    },
    "papermill": {
     "duration": 0.111071,
     "end_time": "2023-11-07T17:48:06.955041",
     "exception": false,
     "start_time": "2023-11-07T17:48:06.843970",
     "status": "completed"
    },
    "tags": []
   },
   "outputs": [
    {
     "data": {
      "text/plain": [
       "'44-5-14'"
      ]
     },
     "execution_count": 9,
     "metadata": {},
     "output_type": "execute_result"
    }
   ],
   "source": [
    "y = \"44-5-14\"\n",
    "y"
   ]
  },
  {
   "cell_type": "code",
   "execution_count": 10,
   "id": "1937775d",
   "metadata": {
    "execution": {
     "iopub.execute_input": "2023-11-07T17:48:07.171749Z",
     "iopub.status.busy": "2023-11-07T17:48:07.170993Z",
     "iopub.status.idle": "2023-11-07T17:48:07.178765Z",
     "shell.execute_reply": "2023-11-07T17:48:07.177548Z"
    },
    "papermill": {
     "duration": 0.122601,
     "end_time": "2023-11-07T17:48:07.181213",
     "exception": false,
     "start_time": "2023-11-07T17:48:07.058612",
     "status": "completed"
    },
    "tags": []
   },
   "outputs": [
    {
     "data": {
      "text/plain": [
       "str"
      ]
     },
     "execution_count": 10,
     "metadata": {},
     "output_type": "execute_result"
    }
   ],
   "source": [
    "type(y)"
   ]
  },
  {
   "cell_type": "markdown",
   "id": "26fb0386",
   "metadata": {
    "papermill": {
     "duration": 0.105141,
     "end_time": "2023-11-07T17:48:07.396717",
     "exception": false,
     "start_time": "2023-11-07T17:48:07.291576",
     "status": "completed"
    },
    "tags": []
   },
   "source": [
    "# type casting"
   ]
  },
  {
   "cell_type": "code",
   "execution_count": 11,
   "id": "63cc13be",
   "metadata": {
    "execution": {
     "iopub.execute_input": "2023-11-07T17:48:07.620050Z",
     "iopub.status.busy": "2023-11-07T17:48:07.619624Z",
     "iopub.status.idle": "2023-11-07T17:48:07.627594Z",
     "shell.execute_reply": "2023-11-07T17:48:07.626571Z"
    },
    "papermill": {
     "duration": 0.12483,
     "end_time": "2023-11-07T17:48:07.630738",
     "exception": false,
     "start_time": "2023-11-07T17:48:07.505908",
     "status": "completed"
    },
    "tags": []
   },
   "outputs": [
    {
     "data": {
      "text/plain": [
       "float"
      ]
     },
     "execution_count": 11,
     "metadata": {},
     "output_type": "execute_result"
    }
   ],
   "source": [
    "a = 6.5\n",
    "type(a)"
   ]
  },
  {
   "cell_type": "code",
   "execution_count": 12,
   "id": "264ddce5",
   "metadata": {
    "execution": {
     "iopub.execute_input": "2023-11-07T17:48:07.836603Z",
     "iopub.status.busy": "2023-11-07T17:48:07.836144Z",
     "iopub.status.idle": "2023-11-07T17:48:07.844244Z",
     "shell.execute_reply": "2023-11-07T17:48:07.842601Z"
    },
    "papermill": {
     "duration": 0.114373,
     "end_time": "2023-11-07T17:48:07.847184",
     "exception": false,
     "start_time": "2023-11-07T17:48:07.732811",
     "status": "completed"
    },
    "tags": []
   },
   "outputs": [
    {
     "data": {
      "text/plain": [
       "6"
      ]
     },
     "execution_count": 12,
     "metadata": {},
     "output_type": "execute_result"
    }
   ],
   "source": [
    "b = int(a)\n",
    "b"
   ]
  },
  {
   "cell_type": "code",
   "execution_count": 13,
   "id": "81c43a57",
   "metadata": {
    "execution": {
     "iopub.execute_input": "2023-11-07T17:48:08.070584Z",
     "iopub.status.busy": "2023-11-07T17:48:08.069719Z",
     "iopub.status.idle": "2023-11-07T17:48:08.079017Z",
     "shell.execute_reply": "2023-11-07T17:48:08.077847Z"
    },
    "papermill": {
     "duration": 0.123561,
     "end_time": "2023-11-07T17:48:08.081745",
     "exception": false,
     "start_time": "2023-11-07T17:48:07.958184",
     "status": "completed"
    },
    "tags": []
   },
   "outputs": [
    {
     "data": {
      "text/plain": [
       "int"
      ]
     },
     "execution_count": 13,
     "metadata": {},
     "output_type": "execute_result"
    }
   ],
   "source": [
    "type(b)"
   ]
  },
  {
   "cell_type": "code",
   "execution_count": 14,
   "id": "2dff2605",
   "metadata": {
    "execution": {
     "iopub.execute_input": "2023-11-07T17:48:08.299841Z",
     "iopub.status.busy": "2023-11-07T17:48:08.299434Z",
     "iopub.status.idle": "2023-11-07T17:48:08.305729Z",
     "shell.execute_reply": "2023-11-07T17:48:08.304869Z"
    },
    "papermill": {
     "duration": 0.116678,
     "end_time": "2023-11-07T17:48:08.308184",
     "exception": false,
     "start_time": "2023-11-07T17:48:08.191506",
     "status": "completed"
    },
    "tags": []
   },
   "outputs": [
    {
     "data": {
      "text/plain": [
       "6.0"
      ]
     },
     "execution_count": 14,
     "metadata": {},
     "output_type": "execute_result"
    }
   ],
   "source": [
    "c = float(b)\n",
    "c"
   ]
  },
  {
   "cell_type": "code",
   "execution_count": 15,
   "id": "a9bc8170",
   "metadata": {
    "execution": {
     "iopub.execute_input": "2023-11-07T17:48:08.594874Z",
     "iopub.status.busy": "2023-11-07T17:48:08.594459Z",
     "iopub.status.idle": "2023-11-07T17:48:08.601536Z",
     "shell.execute_reply": "2023-11-07T17:48:08.600204Z"
    },
    "papermill": {
     "duration": 0.120444,
     "end_time": "2023-11-07T17:48:08.604137",
     "exception": false,
     "start_time": "2023-11-07T17:48:08.483693",
     "status": "completed"
    },
    "tags": []
   },
   "outputs": [
    {
     "data": {
      "text/plain": [
       "float"
      ]
     },
     "execution_count": 15,
     "metadata": {},
     "output_type": "execute_result"
    }
   ],
   "source": [
    "type(c)"
   ]
  },
  {
   "cell_type": "code",
   "execution_count": 16,
   "id": "4bbfb134",
   "metadata": {
    "execution": {
     "iopub.execute_input": "2023-11-07T17:48:08.812173Z",
     "iopub.status.busy": "2023-11-07T17:48:08.811800Z",
     "iopub.status.idle": "2023-11-07T17:48:08.818586Z",
     "shell.execute_reply": "2023-11-07T17:48:08.817490Z"
    },
    "papermill": {
     "duration": 0.113334,
     "end_time": "2023-11-07T17:48:08.820949",
     "exception": false,
     "start_time": "2023-11-07T17:48:08.707615",
     "status": "completed"
    },
    "tags": []
   },
   "outputs": [
    {
     "data": {
      "text/plain": [
       "'667'"
      ]
     },
     "execution_count": 16,
     "metadata": {},
     "output_type": "execute_result"
    }
   ],
   "source": [
    "g = \"66\"\n",
    "h = \"7\"\n",
    "\n",
    "g + h"
   ]
  },
  {
   "cell_type": "code",
   "execution_count": 17,
   "id": "f517fac4",
   "metadata": {
    "execution": {
     "iopub.execute_input": "2023-11-07T17:48:09.028203Z",
     "iopub.status.busy": "2023-11-07T17:48:09.027369Z",
     "iopub.status.idle": "2023-11-07T17:48:09.034656Z",
     "shell.execute_reply": "2023-11-07T17:48:09.033575Z"
    },
    "papermill": {
     "duration": 0.115395,
     "end_time": "2023-11-07T17:48:09.038202",
     "exception": false,
     "start_time": "2023-11-07T17:48:08.922807",
     "status": "completed"
    },
    "tags": []
   },
   "outputs": [
    {
     "data": {
      "text/plain": [
       "73"
      ]
     },
     "execution_count": 17,
     "metadata": {},
     "output_type": "execute_result"
    }
   ],
   "source": [
    "i = 66\n",
    "j = 7\n",
    "i + j"
   ]
  },
  {
   "cell_type": "code",
   "execution_count": 18,
   "id": "c34a359b",
   "metadata": {
    "execution": {
     "iopub.execute_input": "2023-11-07T17:48:09.249167Z",
     "iopub.status.busy": "2023-11-07T17:48:09.248081Z",
     "iopub.status.idle": "2023-11-07T17:48:09.256887Z",
     "shell.execute_reply": "2023-11-07T17:48:09.255343Z"
    },
    "papermill": {
     "duration": 0.117022,
     "end_time": "2023-11-07T17:48:09.259591",
     "exception": false,
     "start_time": "2023-11-07T17:48:09.142569",
     "status": "completed"
    },
    "tags": []
   },
   "outputs": [
    {
     "data": {
      "text/plain": [
       "'667'"
      ]
     },
     "execution_count": 18,
     "metadata": {},
     "output_type": "execute_result"
    }
   ],
   "source": [
    "p = \"66\"\n",
    "q = 7\n",
    "# \"667\"\n",
    "p + str(q)"
   ]
  },
  {
   "cell_type": "code",
   "execution_count": 19,
   "id": "28be64a4",
   "metadata": {
    "execution": {
     "iopub.execute_input": "2023-11-07T17:48:09.474974Z",
     "iopub.status.busy": "2023-11-07T17:48:09.474577Z",
     "iopub.status.idle": "2023-11-07T17:48:09.482271Z",
     "shell.execute_reply": "2023-11-07T17:48:09.481119Z"
    },
    "papermill": {
     "duration": 0.117397,
     "end_time": "2023-11-07T17:48:09.484957",
     "exception": false,
     "start_time": "2023-11-07T17:48:09.367560",
     "status": "completed"
    },
    "tags": []
   },
   "outputs": [
    {
     "data": {
      "text/plain": [
       "73"
      ]
     },
     "execution_count": 19,
     "metadata": {},
     "output_type": "execute_result"
    }
   ],
   "source": [
    "p = \"66\"\n",
    "q = 7\n",
    "int(p) + q"
   ]
  },
  {
   "cell_type": "code",
   "execution_count": 20,
   "id": "27e1ca38",
   "metadata": {
    "execution": {
     "iopub.execute_input": "2023-11-07T17:48:09.692791Z",
     "iopub.status.busy": "2023-11-07T17:48:09.692378Z",
     "iopub.status.idle": "2023-11-07T17:48:09.699384Z",
     "shell.execute_reply": "2023-11-07T17:48:09.698228Z"
    },
    "papermill": {
     "duration": 0.113721,
     "end_time": "2023-11-07T17:48:09.701960",
     "exception": false,
     "start_time": "2023-11-07T17:48:09.588239",
     "status": "completed"
    },
    "tags": []
   },
   "outputs": [
    {
     "data": {
      "text/plain": [
       "8"
      ]
     },
     "execution_count": 20,
     "metadata": {},
     "output_type": "execute_result"
    }
   ],
   "source": [
    "a = 7\n",
    "b = 8\n",
    "b"
   ]
  },
  {
   "cell_type": "code",
   "execution_count": 21,
   "id": "70d27a21",
   "metadata": {
    "execution": {
     "iopub.execute_input": "2023-11-07T17:48:09.914343Z",
     "iopub.status.busy": "2023-11-07T17:48:09.913926Z",
     "iopub.status.idle": "2023-11-07T17:48:09.921933Z",
     "shell.execute_reply": "2023-11-07T17:48:09.920638Z"
    },
    "papermill": {
     "duration": 0.116992,
     "end_time": "2023-11-07T17:48:09.924481",
     "exception": false,
     "start_time": "2023-11-07T17:48:09.807489",
     "status": "completed"
    },
    "tags": []
   },
   "outputs": [
    {
     "data": {
      "text/plain": [
       "8"
      ]
     },
     "execution_count": 21,
     "metadata": {},
     "output_type": "execute_result"
    }
   ],
   "source": [
    "a,b = 7,8\n",
    "b"
   ]
  },
  {
   "cell_type": "code",
   "execution_count": 22,
   "id": "529d798e",
   "metadata": {
    "execution": {
     "iopub.execute_input": "2023-11-07T17:48:10.175324Z",
     "iopub.status.busy": "2023-11-07T17:48:10.173322Z",
     "iopub.status.idle": "2023-11-07T17:48:10.182606Z",
     "shell.execute_reply": "2023-11-07T17:48:10.181041Z"
    },
    "papermill": {
     "duration": 0.146994,
     "end_time": "2023-11-07T17:48:10.185321",
     "exception": false,
     "start_time": "2023-11-07T17:48:10.038327",
     "status": "completed"
    },
    "tags": []
   },
   "outputs": [
    {
     "data": {
      "text/plain": [
       "7"
      ]
     },
     "execution_count": 22,
     "metadata": {},
     "output_type": "execute_result"
    }
   ],
   "source": [
    "abhi7 = 7\n",
    "abhi7"
   ]
  },
  {
   "cell_type": "code",
   "execution_count": 23,
   "id": "c2079085",
   "metadata": {
    "execution": {
     "iopub.execute_input": "2023-11-07T17:48:10.400530Z",
     "iopub.status.busy": "2023-11-07T17:48:10.400033Z",
     "iopub.status.idle": "2023-11-07T17:48:10.406533Z",
     "shell.execute_reply": "2023-11-07T17:48:10.405015Z"
    },
    "papermill": {
     "duration": 0.120571,
     "end_time": "2023-11-07T17:48:10.410271",
     "exception": false,
     "start_time": "2023-11-07T17:48:10.289700",
     "status": "completed"
    },
    "tags": []
   },
   "outputs": [
    {
     "name": "stdout",
     "output_type": "stream",
     "text": [
      "Sally\n"
     ]
    }
   ],
   "source": [
    "x = 4       # x is of type int\n",
    "x = \"Sally\" # x is now of type str\n",
    "print(x)"
   ]
  },
  {
   "cell_type": "code",
   "execution_count": 24,
   "id": "244f56e7",
   "metadata": {
    "execution": {
     "iopub.execute_input": "2023-11-07T17:48:10.629787Z",
     "iopub.status.busy": "2023-11-07T17:48:10.629407Z",
     "iopub.status.idle": "2023-11-07T17:48:10.635039Z",
     "shell.execute_reply": "2023-11-07T17:48:10.633933Z"
    },
    "papermill": {
     "duration": 0.123229,
     "end_time": "2023-11-07T17:48:10.637696",
     "exception": false,
     "start_time": "2023-11-07T17:48:10.514467",
     "status": "completed"
    },
    "tags": []
   },
   "outputs": [
    {
     "name": "stdout",
     "output_type": "stream",
     "text": [
      "4\n"
     ]
    }
   ],
   "source": [
    "x = 4       # x is of type int\n",
    "print(x)\n",
    "x = \"Sally\" # x is now of type str\n"
   ]
  },
  {
   "cell_type": "code",
   "execution_count": 25,
   "id": "ac02eaba",
   "metadata": {
    "execution": {
     "iopub.execute_input": "2023-11-07T17:48:10.847541Z",
     "iopub.status.busy": "2023-11-07T17:48:10.847150Z",
     "iopub.status.idle": "2023-11-07T17:48:10.852450Z",
     "shell.execute_reply": "2023-11-07T17:48:10.851365Z"
    },
    "papermill": {
     "duration": 0.112042,
     "end_time": "2023-11-07T17:48:10.855066",
     "exception": false,
     "start_time": "2023-11-07T17:48:10.743024",
     "status": "completed"
    },
    "tags": []
   },
   "outputs": [
    {
     "name": "stdout",
     "output_type": "stream",
     "text": [
      "7\n"
     ]
    }
   ],
   "source": [
    "# o/p\n",
    "a= 7\n",
    "print(a)"
   ]
  },
  {
   "cell_type": "code",
   "execution_count": 26,
   "id": "f5ff58ce",
   "metadata": {
    "execution": {
     "iopub.execute_input": "2023-11-07T17:48:11.076528Z",
     "iopub.status.busy": "2023-11-07T17:48:11.075327Z",
     "iopub.status.idle": "2023-11-07T17:48:11.080807Z",
     "shell.execute_reply": "2023-11-07T17:48:11.079708Z"
    },
    "papermill": {
     "duration": 0.123881,
     "end_time": "2023-11-07T17:48:11.083777",
     "exception": false,
     "start_time": "2023-11-07T17:48:10.959896",
     "status": "completed"
    },
    "tags": []
   },
   "outputs": [],
   "source": [
    "# a = int(input())\n",
    "# print(a+1)"
   ]
  },
  {
   "cell_type": "code",
   "execution_count": 27,
   "id": "444d6b51",
   "metadata": {
    "execution": {
     "iopub.execute_input": "2023-11-07T17:48:11.297504Z",
     "iopub.status.busy": "2023-11-07T17:48:11.296412Z",
     "iopub.status.idle": "2023-11-07T17:48:11.303852Z",
     "shell.execute_reply": "2023-11-07T17:48:11.302870Z"
    },
    "papermill": {
     "duration": 0.115372,
     "end_time": "2023-11-07T17:48:11.306269",
     "exception": false,
     "start_time": "2023-11-07T17:48:11.190897",
     "status": "completed"
    },
    "tags": []
   },
   "outputs": [
    {
     "data": {
      "text/plain": [
       "13"
      ]
     },
     "execution_count": 27,
     "metadata": {},
     "output_type": "execute_result"
    }
   ],
   "source": [
    "a = 6 + 7\n",
    "a"
   ]
  },
  {
   "cell_type": "code",
   "execution_count": 28,
   "id": "f1534afc",
   "metadata": {
    "execution": {
     "iopub.execute_input": "2023-11-07T17:48:11.517020Z",
     "iopub.status.busy": "2023-11-07T17:48:11.516175Z",
     "iopub.status.idle": "2023-11-07T17:48:11.524101Z",
     "shell.execute_reply": "2023-11-07T17:48:11.522735Z"
    },
    "papermill": {
     "duration": 0.114397,
     "end_time": "2023-11-07T17:48:11.526589",
     "exception": false,
     "start_time": "2023-11-07T17:48:11.412192",
     "status": "completed"
    },
    "tags": []
   },
   "outputs": [
    {
     "data": {
      "text/plain": [
       "'da50'"
      ]
     },
     "execution_count": 28,
     "metadata": {},
     "output_type": "execute_result"
    }
   ],
   "source": [
    "b = \"da\" + str(50)\n",
    "b"
   ]
  },
  {
   "cell_type": "code",
   "execution_count": 29,
   "id": "5a1f4d1f",
   "metadata": {
    "execution": {
     "iopub.execute_input": "2023-11-07T17:48:11.738702Z",
     "iopub.status.busy": "2023-11-07T17:48:11.738300Z",
     "iopub.status.idle": "2023-11-07T17:48:11.743824Z",
     "shell.execute_reply": "2023-11-07T17:48:11.742617Z"
    },
    "papermill": {
     "duration": 0.11533,
     "end_time": "2023-11-07T17:48:11.747671",
     "exception": false,
     "start_time": "2023-11-07T17:48:11.632341",
     "status": "completed"
    },
    "tags": []
   },
   "outputs": [
    {
     "name": "stdout",
     "output_type": "stream",
     "text": [
      "5 John\n"
     ]
    }
   ],
   "source": [
    "x = 5\n",
    "y = \"John\"\n",
    "print(x, y)"
   ]
  },
  {
   "cell_type": "code",
   "execution_count": 30,
   "id": "9be5818e",
   "metadata": {
    "execution": {
     "iopub.execute_input": "2023-11-07T17:48:11.954584Z",
     "iopub.status.busy": "2023-11-07T17:48:11.954172Z",
     "iopub.status.idle": "2023-11-07T17:48:11.959173Z",
     "shell.execute_reply": "2023-11-07T17:48:11.957716Z"
    },
    "papermill": {
     "duration": 0.113605,
     "end_time": "2023-11-07T17:48:11.962506",
     "exception": false,
     "start_time": "2023-11-07T17:48:11.848901",
     "status": "completed"
    },
    "tags": []
   },
   "outputs": [],
   "source": [
    "a = 6 \n",
    "a = 7"
   ]
  },
  {
   "cell_type": "markdown",
   "id": "70c98abd",
   "metadata": {
    "papermill": {
     "duration": 0.104289,
     "end_time": "2023-11-07T17:48:12.174613",
     "exception": false,
     "start_time": "2023-11-07T17:48:12.070324",
     "status": "completed"
    },
    "tags": []
   },
   "source": [
    "# data  structures\n"
   ]
  },
  {
   "cell_type": "markdown",
   "id": "5a0d09f7",
   "metadata": {
    "papermill": {
     "duration": 0.104181,
     "end_time": "2023-11-07T17:48:12.383422",
     "exception": false,
     "start_time": "2023-11-07T17:48:12.279241",
     "status": "completed"
    },
    "tags": []
   },
   "source": [
    "# List  [ ] "
   ]
  },
  {
   "cell_type": "code",
   "execution_count": 31,
   "id": "566306a4",
   "metadata": {
    "execution": {
     "iopub.execute_input": "2023-11-07T17:48:12.589928Z",
     "iopub.status.busy": "2023-11-07T17:48:12.589560Z",
     "iopub.status.idle": "2023-11-07T17:48:12.595867Z",
     "shell.execute_reply": "2023-11-07T17:48:12.594968Z"
    },
    "papermill": {
     "duration": 0.11213,
     "end_time": "2023-11-07T17:48:12.598014",
     "exception": false,
     "start_time": "2023-11-07T17:48:12.485884",
     "status": "completed"
    },
    "tags": []
   },
   "outputs": [
    {
     "data": {
      "text/plain": [
       "11"
      ]
     },
     "execution_count": 31,
     "metadata": {},
     "output_type": "execute_result"
    }
   ],
   "source": [
    "a = [11,28,34,45,57]\n",
    "a[0]\n",
    "\n"
   ]
  },
  {
   "cell_type": "code",
   "execution_count": 32,
   "id": "556392fa",
   "metadata": {
    "execution": {
     "iopub.execute_input": "2023-11-07T17:48:12.808443Z",
     "iopub.status.busy": "2023-11-07T17:48:12.807957Z",
     "iopub.status.idle": "2023-11-07T17:48:12.816514Z",
     "shell.execute_reply": "2023-11-07T17:48:12.814693Z"
    },
    "papermill": {
     "duration": 0.115831,
     "end_time": "2023-11-07T17:48:12.819245",
     "exception": false,
     "start_time": "2023-11-07T17:48:12.703414",
     "status": "completed"
    },
    "tags": []
   },
   "outputs": [
    {
     "data": {
      "text/plain": [
       "57"
      ]
     },
     "execution_count": 32,
     "metadata": {},
     "output_type": "execute_result"
    }
   ],
   "source": [
    "a[4]"
   ]
  },
  {
   "cell_type": "code",
   "execution_count": 33,
   "id": "6c14f836",
   "metadata": {
    "execution": {
     "iopub.execute_input": "2023-11-07T17:48:13.098034Z",
     "iopub.status.busy": "2023-11-07T17:48:13.097583Z",
     "iopub.status.idle": "2023-11-07T17:48:13.106630Z",
     "shell.execute_reply": "2023-11-07T17:48:13.104719Z"
    },
    "papermill": {
     "duration": 0.185125,
     "end_time": "2023-11-07T17:48:13.109441",
     "exception": false,
     "start_time": "2023-11-07T17:48:12.924316",
     "status": "completed"
    },
    "tags": []
   },
   "outputs": [
    {
     "data": {
      "text/plain": [
       "[11, 28, 34, 45, 57]"
      ]
     },
     "execution_count": 33,
     "metadata": {},
     "output_type": "execute_result"
    }
   ],
   "source": [
    "a"
   ]
  },
  {
   "cell_type": "code",
   "execution_count": 34,
   "id": "55b7542c",
   "metadata": {
    "execution": {
     "iopub.execute_input": "2023-11-07T17:48:13.323836Z",
     "iopub.status.busy": "2023-11-07T17:48:13.323457Z",
     "iopub.status.idle": "2023-11-07T17:48:13.330931Z",
     "shell.execute_reply": "2023-11-07T17:48:13.329741Z"
    },
    "papermill": {
     "duration": 0.117881,
     "end_time": "2023-11-07T17:48:13.333529",
     "exception": false,
     "start_time": "2023-11-07T17:48:13.215648",
     "status": "completed"
    },
    "tags": []
   },
   "outputs": [
    {
     "data": {
      "text/plain": [
       "57"
      ]
     },
     "execution_count": 34,
     "metadata": {},
     "output_type": "execute_result"
    }
   ],
   "source": [
    "a[-1]"
   ]
  },
  {
   "cell_type": "code",
   "execution_count": 35,
   "id": "764d56a5",
   "metadata": {
    "execution": {
     "iopub.execute_input": "2023-11-07T17:48:13.548447Z",
     "iopub.status.busy": "2023-11-07T17:48:13.547996Z",
     "iopub.status.idle": "2023-11-07T17:48:13.555898Z",
     "shell.execute_reply": "2023-11-07T17:48:13.554763Z"
    },
    "papermill": {
     "duration": 0.117223,
     "end_time": "2023-11-07T17:48:13.558492",
     "exception": false,
     "start_time": "2023-11-07T17:48:13.441269",
     "status": "completed"
    },
    "tags": []
   },
   "outputs": [
    {
     "data": {
      "text/plain": [
       "11"
      ]
     },
     "execution_count": 35,
     "metadata": {},
     "output_type": "execute_result"
    }
   ],
   "source": [
    "a[-5]"
   ]
  },
  {
   "cell_type": "code",
   "execution_count": 36,
   "id": "7778c8e4",
   "metadata": {
    "execution": {
     "iopub.execute_input": "2023-11-07T17:48:13.780569Z",
     "iopub.status.busy": "2023-11-07T17:48:13.779985Z",
     "iopub.status.idle": "2023-11-07T17:48:13.786256Z",
     "shell.execute_reply": "2023-11-07T17:48:13.785409Z"
    },
    "papermill": {
     "duration": 0.122653,
     "end_time": "2023-11-07T17:48:13.788681",
     "exception": false,
     "start_time": "2023-11-07T17:48:13.666028",
     "status": "completed"
    },
    "tags": []
   },
   "outputs": [
    {
     "data": {
      "text/plain": [
       "[28, 34, 45]"
      ]
     },
     "execution_count": 36,
     "metadata": {},
     "output_type": "execute_result"
    }
   ],
   "source": [
    "a[1:4]"
   ]
  },
  {
   "cell_type": "code",
   "execution_count": 37,
   "id": "f9a1c16d",
   "metadata": {
    "execution": {
     "iopub.execute_input": "2023-11-07T17:48:14.001884Z",
     "iopub.status.busy": "2023-11-07T17:48:14.001446Z",
     "iopub.status.idle": "2023-11-07T17:48:14.009621Z",
     "shell.execute_reply": "2023-11-07T17:48:14.007513Z"
    },
    "papermill": {
     "duration": 0.120307,
     "end_time": "2023-11-07T17:48:14.012852",
     "exception": false,
     "start_time": "2023-11-07T17:48:13.892545",
     "status": "completed"
    },
    "tags": []
   },
   "outputs": [],
   "source": [
    "a = [10,20,30,40 ,50,60,70,80,90]"
   ]
  },
  {
   "cell_type": "code",
   "execution_count": 38,
   "id": "6aef9a8e",
   "metadata": {
    "execution": {
     "iopub.execute_input": "2023-11-07T17:48:14.226594Z",
     "iopub.status.busy": "2023-11-07T17:48:14.226177Z",
     "iopub.status.idle": "2023-11-07T17:48:14.232737Z",
     "shell.execute_reply": "2023-11-07T17:48:14.231858Z"
    },
    "papermill": {
     "duration": 0.11379,
     "end_time": "2023-11-07T17:48:14.234981",
     "exception": false,
     "start_time": "2023-11-07T17:48:14.121191",
     "status": "completed"
    },
    "tags": []
   },
   "outputs": [
    {
     "data": {
      "text/plain": [
       "[20, 30, 40, 50, 60, 70, 80]"
      ]
     },
     "execution_count": 38,
     "metadata": {},
     "output_type": "execute_result"
    }
   ],
   "source": [
    "# 2 property index - list = zero -index \n",
    "a[1:8]"
   ]
  },
  {
   "cell_type": "code",
   "execution_count": 39,
   "id": "652b9200",
   "metadata": {
    "execution": {
     "iopub.execute_input": "2023-11-07T17:48:14.448610Z",
     "iopub.status.busy": "2023-11-07T17:48:14.447763Z",
     "iopub.status.idle": "2023-11-07T17:48:14.455146Z",
     "shell.execute_reply": "2023-11-07T17:48:14.453890Z"
    },
    "papermill": {
     "duration": 0.117182,
     "end_time": "2023-11-07T17:48:14.458049",
     "exception": false,
     "start_time": "2023-11-07T17:48:14.340867",
     "status": "completed"
    },
    "tags": []
   },
   "outputs": [
    {
     "data": {
      "text/plain": [
       "[20, 40, 60, 80]"
      ]
     },
     "execution_count": 39,
     "metadata": {},
     "output_type": "execute_result"
    }
   ],
   "source": [
    "a[1:8:2]"
   ]
  },
  {
   "cell_type": "code",
   "execution_count": 40,
   "id": "33a06089",
   "metadata": {
    "execution": {
     "iopub.execute_input": "2023-11-07T17:48:14.682049Z",
     "iopub.status.busy": "2023-11-07T17:48:14.681135Z",
     "iopub.status.idle": "2023-11-07T17:48:14.690957Z",
     "shell.execute_reply": "2023-11-07T17:48:14.689454Z"
    },
    "papermill": {
     "duration": 0.124469,
     "end_time": "2023-11-07T17:48:14.693624",
     "exception": false,
     "start_time": "2023-11-07T17:48:14.569155",
     "status": "completed"
    },
    "tags": []
   },
   "outputs": [
    {
     "data": {
      "text/plain": [
       "[20, 50, 80]"
      ]
     },
     "execution_count": 40,
     "metadata": {},
     "output_type": "execute_result"
    }
   ],
   "source": [
    "a[1:-1:3]"
   ]
  },
  {
   "cell_type": "code",
   "execution_count": 41,
   "id": "365cc14f",
   "metadata": {
    "execution": {
     "iopub.execute_input": "2023-11-07T17:48:14.909195Z",
     "iopub.status.busy": "2023-11-07T17:48:14.907804Z",
     "iopub.status.idle": "2023-11-07T17:48:14.916891Z",
     "shell.execute_reply": "2023-11-07T17:48:14.915357Z"
    },
    "papermill": {
     "duration": 0.122314,
     "end_time": "2023-11-07T17:48:14.920475",
     "exception": false,
     "start_time": "2023-11-07T17:48:14.798161",
     "status": "completed"
    },
    "tags": []
   },
   "outputs": [
    {
     "data": {
      "text/plain": [
       "[10, 20, 30, 40, 50, 60, 70, 80, 90]"
      ]
     },
     "execution_count": 41,
     "metadata": {},
     "output_type": "execute_result"
    }
   ],
   "source": [
    "# property of 1 of list \n",
    "# mutabilty\n",
    "\n",
    "a "
   ]
  },
  {
   "cell_type": "code",
   "execution_count": 42,
   "id": "6c014c98",
   "metadata": {
    "execution": {
     "iopub.execute_input": "2023-11-07T17:48:15.132526Z",
     "iopub.status.busy": "2023-11-07T17:48:15.131861Z",
     "iopub.status.idle": "2023-11-07T17:48:15.138992Z",
     "shell.execute_reply": "2023-11-07T17:48:15.137871Z"
    },
    "papermill": {
     "duration": 0.115996,
     "end_time": "2023-11-07T17:48:15.141606",
     "exception": false,
     "start_time": "2023-11-07T17:48:15.025610",
     "status": "completed"
    },
    "tags": []
   },
   "outputs": [
    {
     "data": {
      "text/plain": [
       "10"
      ]
     },
     "execution_count": 42,
     "metadata": {},
     "output_type": "execute_result"
    }
   ],
   "source": [
    "a[0]"
   ]
  },
  {
   "cell_type": "code",
   "execution_count": 43,
   "id": "f06c8f99",
   "metadata": {
    "execution": {
     "iopub.execute_input": "2023-11-07T17:48:15.360679Z",
     "iopub.status.busy": "2023-11-07T17:48:15.359993Z",
     "iopub.status.idle": "2023-11-07T17:48:15.369008Z",
     "shell.execute_reply": "2023-11-07T17:48:15.367766Z"
    },
    "papermill": {
     "duration": 0.120139,
     "end_time": "2023-11-07T17:48:15.371536",
     "exception": false,
     "start_time": "2023-11-07T17:48:15.251397",
     "status": "completed"
    },
    "tags": []
   },
   "outputs": [
    {
     "data": {
      "text/plain": [
       "[900, 20, 30, 40, 50, 60, 70, 80, 90]"
      ]
     },
     "execution_count": 43,
     "metadata": {},
     "output_type": "execute_result"
    }
   ],
   "source": [
    "a[0] = 900\n",
    "a"
   ]
  },
  {
   "cell_type": "code",
   "execution_count": 44,
   "id": "f91767dd",
   "metadata": {
    "execution": {
     "iopub.execute_input": "2023-11-07T17:48:15.586974Z",
     "iopub.status.busy": "2023-11-07T17:48:15.586187Z",
     "iopub.status.idle": "2023-11-07T17:48:15.594363Z",
     "shell.execute_reply": "2023-11-07T17:48:15.593087Z"
    },
    "papermill": {
     "duration": 0.117648,
     "end_time": "2023-11-07T17:48:15.596906",
     "exception": false,
     "start_time": "2023-11-07T17:48:15.479258",
     "status": "completed"
    },
    "tags": []
   },
   "outputs": [
    {
     "data": {
      "text/plain": [
       "list"
      ]
     },
     "execution_count": 44,
     "metadata": {},
     "output_type": "execute_result"
    }
   ],
   "source": [
    "type(a)"
   ]
  },
  {
   "cell_type": "markdown",
   "id": "d6abc371",
   "metadata": {
    "papermill": {
     "duration": 0.105954,
     "end_time": "2023-11-07T17:48:15.806940",
     "exception": false,
     "start_time": "2023-11-07T17:48:15.700986",
     "status": "completed"
    },
    "tags": []
   },
   "source": [
    "# tuple  (  )"
   ]
  },
  {
   "cell_type": "code",
   "execution_count": 45,
   "id": "7e670ed9",
   "metadata": {
    "execution": {
     "iopub.execute_input": "2023-11-07T17:48:16.018827Z",
     "iopub.status.busy": "2023-11-07T17:48:16.018429Z",
     "iopub.status.idle": "2023-11-07T17:48:16.027199Z",
     "shell.execute_reply": "2023-11-07T17:48:16.025993Z"
    },
    "papermill": {
     "duration": 0.117798,
     "end_time": "2023-11-07T17:48:16.029810",
     "exception": false,
     "start_time": "2023-11-07T17:48:15.912012",
     "status": "completed"
    },
    "tags": []
   },
   "outputs": [
    {
     "data": {
      "text/plain": [
       "10"
      ]
     },
     "execution_count": 45,
     "metadata": {},
     "output_type": "execute_result"
    }
   ],
   "source": [
    "b = (10,20,30,40,50)\n",
    "b[0]"
   ]
  },
  {
   "cell_type": "code",
   "execution_count": 46,
   "id": "02b8d9b1",
   "metadata": {
    "execution": {
     "iopub.execute_input": "2023-11-07T17:48:16.268550Z",
     "iopub.status.busy": "2023-11-07T17:48:16.268043Z",
     "iopub.status.idle": "2023-11-07T17:48:16.275461Z",
     "shell.execute_reply": "2023-11-07T17:48:16.274360Z"
    },
    "papermill": {
     "duration": 0.12498,
     "end_time": "2023-11-07T17:48:16.279409",
     "exception": false,
     "start_time": "2023-11-07T17:48:16.154429",
     "status": "completed"
    },
    "tags": []
   },
   "outputs": [
    {
     "data": {
      "text/plain": [
       "tuple"
      ]
     },
     "execution_count": 46,
     "metadata": {},
     "output_type": "execute_result"
    }
   ],
   "source": [
    "type(b)"
   ]
  },
  {
   "cell_type": "code",
   "execution_count": 47,
   "id": "7d544a9b",
   "metadata": {
    "execution": {
     "iopub.execute_input": "2023-11-07T17:48:16.521452Z",
     "iopub.status.busy": "2023-11-07T17:48:16.520502Z",
     "iopub.status.idle": "2023-11-07T17:48:16.529024Z",
     "shell.execute_reply": "2023-11-07T17:48:16.528057Z"
    },
    "papermill": {
     "duration": 0.135718,
     "end_time": "2023-11-07T17:48:16.534575",
     "exception": false,
     "start_time": "2023-11-07T17:48:16.398857",
     "status": "completed"
    },
    "tags": []
   },
   "outputs": [
    {
     "data": {
      "text/plain": [
       "50"
      ]
     },
     "execution_count": 47,
     "metadata": {},
     "output_type": "execute_result"
    }
   ],
   "source": [
    "b[4]"
   ]
  },
  {
   "cell_type": "code",
   "execution_count": 48,
   "id": "5eb64ef2",
   "metadata": {
    "execution": {
     "iopub.execute_input": "2023-11-07T17:48:16.773183Z",
     "iopub.status.busy": "2023-11-07T17:48:16.772245Z",
     "iopub.status.idle": "2023-11-07T17:48:16.781723Z",
     "shell.execute_reply": "2023-11-07T17:48:16.780520Z"
    },
    "papermill": {
     "duration": 0.129146,
     "end_time": "2023-11-07T17:48:16.784463",
     "exception": false,
     "start_time": "2023-11-07T17:48:16.655317",
     "status": "completed"
    },
    "tags": []
   },
   "outputs": [
    {
     "data": {
      "text/plain": [
       "50"
      ]
     },
     "execution_count": 48,
     "metadata": {},
     "output_type": "execute_result"
    }
   ],
   "source": [
    "b[-1]"
   ]
  },
  {
   "cell_type": "code",
   "execution_count": 49,
   "id": "42e68258",
   "metadata": {
    "execution": {
     "iopub.execute_input": "2023-11-07T17:48:16.998081Z",
     "iopub.status.busy": "2023-11-07T17:48:16.997435Z",
     "iopub.status.idle": "2023-11-07T17:48:17.001925Z",
     "shell.execute_reply": "2023-11-07T17:48:17.001077Z"
    },
    "papermill": {
     "duration": 0.112315,
     "end_time": "2023-11-07T17:48:17.004159",
     "exception": false,
     "start_time": "2023-11-07T17:48:16.891844",
     "status": "completed"
    },
    "tags": []
   },
   "outputs": [],
   "source": [
    "# property 2 of tuple - zero index "
   ]
  },
  {
   "cell_type": "code",
   "execution_count": 50,
   "id": "1010f032",
   "metadata": {
    "execution": {
     "iopub.execute_input": "2023-11-07T17:48:17.225717Z",
     "iopub.status.busy": "2023-11-07T17:48:17.225358Z",
     "iopub.status.idle": "2023-11-07T17:48:17.230231Z",
     "shell.execute_reply": "2023-11-07T17:48:17.229039Z"
    },
    "papermill": {
     "duration": 0.117955,
     "end_time": "2023-11-07T17:48:17.232643",
     "exception": false,
     "start_time": "2023-11-07T17:48:17.114688",
     "status": "completed"
    },
    "tags": []
   },
   "outputs": [],
   "source": [
    "# b[0] = 10"
   ]
  },
  {
   "cell_type": "code",
   "execution_count": 51,
   "id": "d3379a01",
   "metadata": {
    "execution": {
     "iopub.execute_input": "2023-11-07T17:48:17.450793Z",
     "iopub.status.busy": "2023-11-07T17:48:17.450368Z",
     "iopub.status.idle": "2023-11-07T17:48:17.455207Z",
     "shell.execute_reply": "2023-11-07T17:48:17.453967Z"
    },
    "papermill": {
     "duration": 0.115893,
     "end_time": "2023-11-07T17:48:17.457896",
     "exception": false,
     "start_time": "2023-11-07T17:48:17.342003",
     "status": "completed"
    },
    "tags": []
   },
   "outputs": [],
   "source": [
    "# property immutabilty - ypu cant change elements in a list"
   ]
  },
  {
   "cell_type": "code",
   "execution_count": 52,
   "id": "a0ecefd5",
   "metadata": {
    "execution": {
     "iopub.execute_input": "2023-11-07T17:48:17.671099Z",
     "iopub.status.busy": "2023-11-07T17:48:17.670694Z",
     "iopub.status.idle": "2023-11-07T17:48:17.676024Z",
     "shell.execute_reply": "2023-11-07T17:48:17.674825Z"
    },
    "papermill": {
     "duration": 0.11427,
     "end_time": "2023-11-07T17:48:17.678742",
     "exception": false,
     "start_time": "2023-11-07T17:48:17.564472",
     "status": "completed"
    },
    "tags": []
   },
   "outputs": [],
   "source": [
    "# set "
   ]
  },
  {
   "cell_type": "markdown",
   "id": "65e2e782",
   "metadata": {
    "papermill": {
     "duration": 0.105968,
     "end_time": "2023-11-07T17:48:17.891804",
     "exception": false,
     "start_time": "2023-11-07T17:48:17.785836",
     "status": "completed"
    },
    "tags": []
   },
   "source": [
    "{ }"
   ]
  },
  {
   "cell_type": "code",
   "execution_count": 53,
   "id": "f05230a7",
   "metadata": {
    "execution": {
     "iopub.execute_input": "2023-11-07T17:48:18.110593Z",
     "iopub.status.busy": "2023-11-07T17:48:18.109793Z",
     "iopub.status.idle": "2023-11-07T17:48:18.114835Z",
     "shell.execute_reply": "2023-11-07T17:48:18.113725Z"
    },
    "papermill": {
     "duration": 0.116287,
     "end_time": "2023-11-07T17:48:18.117238",
     "exception": false,
     "start_time": "2023-11-07T17:48:18.000951",
     "status": "completed"
    },
    "tags": []
   },
   "outputs": [],
   "source": [
    "c = {10,20,30,40}"
   ]
  },
  {
   "cell_type": "code",
   "execution_count": 54,
   "id": "884130e2",
   "metadata": {
    "execution": {
     "iopub.execute_input": "2023-11-07T17:48:18.334817Z",
     "iopub.status.busy": "2023-11-07T17:48:18.334396Z",
     "iopub.status.idle": "2023-11-07T17:48:18.343559Z",
     "shell.execute_reply": "2023-11-07T17:48:18.342261Z"
    },
    "papermill": {
     "duration": 0.117397,
     "end_time": "2023-11-07T17:48:18.346072",
     "exception": false,
     "start_time": "2023-11-07T17:48:18.228675",
     "status": "completed"
    },
    "tags": []
   },
   "outputs": [
    {
     "data": {
      "text/plain": [
       "{10, 20, 30, 40}"
      ]
     },
     "execution_count": 54,
     "metadata": {},
     "output_type": "execute_result"
    }
   ],
   "source": [
    "c"
   ]
  },
  {
   "cell_type": "code",
   "execution_count": 55,
   "id": "75e1ce40",
   "metadata": {
    "execution": {
     "iopub.execute_input": "2023-11-07T17:48:18.570009Z",
     "iopub.status.busy": "2023-11-07T17:48:18.569626Z",
     "iopub.status.idle": "2023-11-07T17:48:18.574637Z",
     "shell.execute_reply": "2023-11-07T17:48:18.573272Z"
    },
    "papermill": {
     "duration": 0.120781,
     "end_time": "2023-11-07T17:48:18.577137",
     "exception": false,
     "start_time": "2023-11-07T17:48:18.456356",
     "status": "completed"
    },
    "tags": []
   },
   "outputs": [],
   "source": [
    "d = {10,20,10,20}"
   ]
  },
  {
   "cell_type": "code",
   "execution_count": 56,
   "id": "1662897b",
   "metadata": {
    "execution": {
     "iopub.execute_input": "2023-11-07T17:48:18.804693Z",
     "iopub.status.busy": "2023-11-07T17:48:18.804270Z",
     "iopub.status.idle": "2023-11-07T17:48:18.812621Z",
     "shell.execute_reply": "2023-11-07T17:48:18.811040Z"
    },
    "papermill": {
     "duration": 0.124883,
     "end_time": "2023-11-07T17:48:18.815076",
     "exception": false,
     "start_time": "2023-11-07T17:48:18.690193",
     "status": "completed"
    },
    "tags": []
   },
   "outputs": [
    {
     "data": {
      "text/plain": [
       "{10, 20}"
      ]
     },
     "execution_count": 56,
     "metadata": {},
     "output_type": "execute_result"
    }
   ],
   "source": [
    "d"
   ]
  },
  {
   "cell_type": "code",
   "execution_count": 57,
   "id": "9d21cbf0",
   "metadata": {
    "execution": {
     "iopub.execute_input": "2023-11-07T17:48:19.036258Z",
     "iopub.status.busy": "2023-11-07T17:48:19.035844Z",
     "iopub.status.idle": "2023-11-07T17:48:19.040264Z",
     "shell.execute_reply": "2023-11-07T17:48:19.039387Z"
    },
    "papermill": {
     "duration": 0.115796,
     "end_time": "2023-11-07T17:48:19.042907",
     "exception": false,
     "start_time": "2023-11-07T17:48:18.927111",
     "status": "completed"
    },
    "tags": []
   },
   "outputs": [],
   "source": [
    "# # property 1 \n",
    "\n",
    "# unique elements only "
   ]
  },
  {
   "cell_type": "code",
   "execution_count": 58,
   "id": "330ccf85",
   "metadata": {
    "execution": {
     "iopub.execute_input": "2023-11-07T17:48:19.258982Z",
     "iopub.status.busy": "2023-11-07T17:48:19.258621Z",
     "iopub.status.idle": "2023-11-07T17:48:19.265821Z",
     "shell.execute_reply": "2023-11-07T17:48:19.264964Z"
    },
    "papermill": {
     "duration": 0.117126,
     "end_time": "2023-11-07T17:48:19.268322",
     "exception": false,
     "start_time": "2023-11-07T17:48:19.151196",
     "status": "completed"
    },
    "tags": []
   },
   "outputs": [
    {
     "data": {
      "text/plain": [
       "{10, 20}"
      ]
     },
     "execution_count": 58,
     "metadata": {},
     "output_type": "execute_result"
    }
   ],
   "source": [
    "# property \n",
    "# there is no index in set \n",
    "\n",
    "d"
   ]
  },
  {
   "cell_type": "code",
   "execution_count": 59,
   "id": "19e107dc",
   "metadata": {
    "execution": {
     "iopub.execute_input": "2023-11-07T17:48:19.556057Z",
     "iopub.status.busy": "2023-11-07T17:48:19.555641Z",
     "iopub.status.idle": "2023-11-07T17:48:19.560501Z",
     "shell.execute_reply": "2023-11-07T17:48:19.559388Z"
    },
    "papermill": {
     "duration": 0.185236,
     "end_time": "2023-11-07T17:48:19.563004",
     "exception": false,
     "start_time": "2023-11-07T17:48:19.377768",
     "status": "completed"
    },
    "tags": []
   },
   "outputs": [],
   "source": [
    "# d[0]"
   ]
  },
  {
   "cell_type": "markdown",
   "id": "8678550c",
   "metadata": {
    "papermill": {
     "duration": 0.105286,
     "end_time": "2023-11-07T17:48:19.774389",
     "exception": false,
     "start_time": "2023-11-07T17:48:19.669103",
     "status": "completed"
    },
    "tags": []
   },
   "source": [
    "# dictionary  ( ) "
   ]
  },
  {
   "cell_type": "code",
   "execution_count": 60,
   "id": "cc818bfc",
   "metadata": {
    "execution": {
     "iopub.execute_input": "2023-11-07T17:48:19.991182Z",
     "iopub.status.busy": "2023-11-07T17:48:19.990728Z",
     "iopub.status.idle": "2023-11-07T17:48:19.997017Z",
     "shell.execute_reply": "2023-11-07T17:48:19.995311Z"
    },
    "papermill": {
     "duration": 0.120679,
     "end_time": "2023-11-07T17:48:20.001701",
     "exception": false,
     "start_time": "2023-11-07T17:48:19.881022",
     "status": "completed"
    },
    "tags": []
   },
   "outputs": [],
   "source": [
    "t = { \"beautiful\"   : \"swapna is a beautiful women\",\n",
    "    \"smart\" : \"tayyab is a smart person\",\n",
    "    \"clever\" : \"parth is clever\"}"
   ]
  },
  {
   "cell_type": "code",
   "execution_count": 61,
   "id": "92782b54",
   "metadata": {
    "execution": {
     "iopub.execute_input": "2023-11-07T17:48:20.258786Z",
     "iopub.status.busy": "2023-11-07T17:48:20.258411Z",
     "iopub.status.idle": "2023-11-07T17:48:20.263700Z",
     "shell.execute_reply": "2023-11-07T17:48:20.262085Z"
    },
    "papermill": {
     "duration": 0.13523,
     "end_time": "2023-11-07T17:48:20.266207",
     "exception": false,
     "start_time": "2023-11-07T17:48:20.130977",
     "status": "completed"
    },
    "tags": []
   },
   "outputs": [],
   "source": [
    "# property index - key index"
   ]
  },
  {
   "cell_type": "code",
   "execution_count": 62,
   "id": "486b850f",
   "metadata": {
    "execution": {
     "iopub.execute_input": "2023-11-07T17:48:20.482212Z",
     "iopub.status.busy": "2023-11-07T17:48:20.481843Z",
     "iopub.status.idle": "2023-11-07T17:48:20.489333Z",
     "shell.execute_reply": "2023-11-07T17:48:20.488055Z"
    },
    "papermill": {
     "duration": 0.119596,
     "end_time": "2023-11-07T17:48:20.492371",
     "exception": false,
     "start_time": "2023-11-07T17:48:20.372775",
     "status": "completed"
    },
    "tags": []
   },
   "outputs": [
    {
     "data": {
      "text/plain": [
       "dict_keys(['beautiful', 'smart', 'clever'])"
      ]
     },
     "execution_count": 62,
     "metadata": {},
     "output_type": "execute_result"
    }
   ],
   "source": [
    "t.keys()"
   ]
  },
  {
   "cell_type": "code",
   "execution_count": 63,
   "id": "36ac3a01",
   "metadata": {
    "execution": {
     "iopub.execute_input": "2023-11-07T17:48:20.709077Z",
     "iopub.status.busy": "2023-11-07T17:48:20.708684Z",
     "iopub.status.idle": "2023-11-07T17:48:20.716877Z",
     "shell.execute_reply": "2023-11-07T17:48:20.715772Z"
    },
    "papermill": {
     "duration": 0.117706,
     "end_time": "2023-11-07T17:48:20.719181",
     "exception": false,
     "start_time": "2023-11-07T17:48:20.601475",
     "status": "completed"
    },
    "tags": []
   },
   "outputs": [
    {
     "data": {
      "text/plain": [
       "'swapna is a beautiful women'"
      ]
     },
     "execution_count": 63,
     "metadata": {},
     "output_type": "execute_result"
    }
   ],
   "source": [
    "t[\"beautiful\"]"
   ]
  },
  {
   "cell_type": "code",
   "execution_count": 64,
   "id": "715bb010",
   "metadata": {
    "execution": {
     "iopub.execute_input": "2023-11-07T17:48:20.936157Z",
     "iopub.status.busy": "2023-11-07T17:48:20.935769Z",
     "iopub.status.idle": "2023-11-07T17:48:20.942780Z",
     "shell.execute_reply": "2023-11-07T17:48:20.941057Z"
    },
    "papermill": {
     "duration": 0.118749,
     "end_time": "2023-11-07T17:48:20.946186",
     "exception": false,
     "start_time": "2023-11-07T17:48:20.827437",
     "status": "completed"
    },
    "tags": []
   },
   "outputs": [
    {
     "data": {
      "text/plain": [
       "'parth is clever'"
      ]
     },
     "execution_count": 64,
     "metadata": {},
     "output_type": "execute_result"
    }
   ],
   "source": [
    "t[\"clever\"]"
   ]
  },
  {
   "cell_type": "code",
   "execution_count": 65,
   "id": "57cb374f",
   "metadata": {
    "execution": {
     "iopub.execute_input": "2023-11-07T17:48:21.166148Z",
     "iopub.status.busy": "2023-11-07T17:48:21.164233Z",
     "iopub.status.idle": "2023-11-07T17:48:21.174383Z",
     "shell.execute_reply": "2023-11-07T17:48:21.173025Z"
    },
    "papermill": {
     "duration": 0.124103,
     "end_time": "2023-11-07T17:48:21.176977",
     "exception": false,
     "start_time": "2023-11-07T17:48:21.052874",
     "status": "completed"
    },
    "tags": []
   },
   "outputs": [
    {
     "data": {
      "text/plain": [
       "dict_keys(['beautiful', 'smart', 'clever'])"
      ]
     },
     "execution_count": 65,
     "metadata": {},
     "output_type": "execute_result"
    }
   ],
   "source": [
    "t.keys()"
   ]
  },
  {
   "cell_type": "code",
   "execution_count": 66,
   "id": "75a4db18",
   "metadata": {
    "execution": {
     "iopub.execute_input": "2023-11-07T17:48:21.396348Z",
     "iopub.status.busy": "2023-11-07T17:48:21.395886Z",
     "iopub.status.idle": "2023-11-07T17:48:21.402966Z",
     "shell.execute_reply": "2023-11-07T17:48:21.401655Z"
    },
    "papermill": {
     "duration": 0.119538,
     "end_time": "2023-11-07T17:48:21.405511",
     "exception": false,
     "start_time": "2023-11-07T17:48:21.285973",
     "status": "completed"
    },
    "tags": []
   },
   "outputs": [
    {
     "data": {
      "text/plain": [
       "dict_values(['swapna is a beautiful women', 'tayyab is a smart person', 'parth is clever'])"
      ]
     },
     "execution_count": 66,
     "metadata": {},
     "output_type": "execute_result"
    }
   ],
   "source": [
    "t.values()"
   ]
  },
  {
   "cell_type": "code",
   "execution_count": 67,
   "id": "030654e7",
   "metadata": {
    "execution": {
     "iopub.execute_input": "2023-11-07T17:48:21.619731Z",
     "iopub.status.busy": "2023-11-07T17:48:21.619315Z",
     "iopub.status.idle": "2023-11-07T17:48:21.627123Z",
     "shell.execute_reply": "2023-11-07T17:48:21.625955Z"
    },
    "papermill": {
     "duration": 0.117953,
     "end_time": "2023-11-07T17:48:21.629626",
     "exception": false,
     "start_time": "2023-11-07T17:48:21.511673",
     "status": "completed"
    },
    "tags": []
   },
   "outputs": [
    {
     "data": {
      "text/plain": [
       "dict_items([('beautiful', 'swapna is a beautiful women'), ('smart', 'tayyab is a smart person'), ('clever', 'parth is clever')])"
      ]
     },
     "execution_count": 67,
     "metadata": {},
     "output_type": "execute_result"
    }
   ],
   "source": [
    "t.items()"
   ]
  },
  {
   "cell_type": "code",
   "execution_count": 68,
   "id": "f296592b",
   "metadata": {
    "execution": {
     "iopub.execute_input": "2023-11-07T17:48:21.847216Z",
     "iopub.status.busy": "2023-11-07T17:48:21.846831Z",
     "iopub.status.idle": "2023-11-07T17:48:21.858098Z",
     "shell.execute_reply": "2023-11-07T17:48:21.856456Z"
    },
    "papermill": {
     "duration": 0.124662,
     "end_time": "2023-11-07T17:48:21.861198",
     "exception": false,
     "start_time": "2023-11-07T17:48:21.736536",
     "status": "completed"
    },
    "tags": []
   },
   "outputs": [
    {
     "data": {
      "text/plain": [
       "'4'"
      ]
     },
     "execution_count": 68,
     "metadata": {},
     "output_type": "execute_result"
    }
   ],
   "source": [
    "ch = { \"c1\" :\n",
    "                   {\"c1.1\" :  \"chapter1.1\",\n",
    "                    \n",
    "                    \"c1.2\" :  \n",
    "                             {\"c1.2.1\" : \"chapter mlv\",\n",
    "                              \"c1.2.2\" : [10,20,30,40]},\n",
    "                    \n",
    "                    \"c1.3\" :  \"chapter1.3\"},\n",
    "     \"c2\" : \"chapter2\",\n",
    "     \"c3\" : \"chapter3\"}\n",
    "\n",
    "list(str(ch[\"c1\"][\"c1.2\"][\"c1.2.2\"][3]))[0]"
   ]
  },
  {
   "cell_type": "code",
   "execution_count": 69,
   "id": "b76ddbb7",
   "metadata": {
    "execution": {
     "iopub.execute_input": "2023-11-07T17:48:22.098638Z",
     "iopub.status.busy": "2023-11-07T17:48:22.097781Z",
     "iopub.status.idle": "2023-11-07T17:48:22.106033Z",
     "shell.execute_reply": "2023-11-07T17:48:22.104541Z"
    },
    "papermill": {
     "duration": 0.131363,
     "end_time": "2023-11-07T17:48:22.109345",
     "exception": false,
     "start_time": "2023-11-07T17:48:21.977982",
     "status": "completed"
    },
    "tags": []
   },
   "outputs": [
    {
     "data": {
      "text/plain": [
       "10"
      ]
     },
     "execution_count": 69,
     "metadata": {},
     "output_type": "execute_result"
    }
   ],
   "source": [
    "ch[\"c1\"][\"c1.2\"][\"c1.2.2\"][0]"
   ]
  },
  {
   "cell_type": "code",
   "execution_count": 70,
   "id": "d2fa4ab6",
   "metadata": {
    "execution": {
     "iopub.execute_input": "2023-11-07T17:48:22.335471Z",
     "iopub.status.busy": "2023-11-07T17:48:22.335058Z",
     "iopub.status.idle": "2023-11-07T17:48:22.341206Z",
     "shell.execute_reply": "2023-11-07T17:48:22.339437Z"
    },
    "papermill": {
     "duration": 0.120672,
     "end_time": "2023-11-07T17:48:22.344095",
     "exception": false,
     "start_time": "2023-11-07T17:48:22.223423",
     "status": "completed"
    },
    "tags": []
   },
   "outputs": [],
   "source": [
    "ch[\"c3\"] = \"sush\""
   ]
  },
  {
   "cell_type": "code",
   "execution_count": 71,
   "id": "4b2cc24c",
   "metadata": {
    "execution": {
     "iopub.execute_input": "2023-11-07T17:48:22.570078Z",
     "iopub.status.busy": "2023-11-07T17:48:22.569096Z",
     "iopub.status.idle": "2023-11-07T17:48:22.577880Z",
     "shell.execute_reply": "2023-11-07T17:48:22.577032Z"
    },
    "papermill": {
     "duration": 0.121257,
     "end_time": "2023-11-07T17:48:22.580820",
     "exception": false,
     "start_time": "2023-11-07T17:48:22.459563",
     "status": "completed"
    },
    "tags": []
   },
   "outputs": [
    {
     "data": {
      "text/plain": [
       "3"
      ]
     },
     "execution_count": 71,
     "metadata": {},
     "output_type": "execute_result"
    }
   ],
   "source": [
    "len(ch.items())"
   ]
  },
  {
   "cell_type": "code",
   "execution_count": 72,
   "id": "20e71ae0",
   "metadata": {
    "execution": {
     "iopub.execute_input": "2023-11-07T17:48:22.807454Z",
     "iopub.status.busy": "2023-11-07T17:48:22.806994Z",
     "iopub.status.idle": "2023-11-07T17:48:22.815200Z",
     "shell.execute_reply": "2023-11-07T17:48:22.814064Z"
    },
    "papermill": {
     "duration": 0.12673,
     "end_time": "2023-11-07T17:48:22.817972",
     "exception": false,
     "start_time": "2023-11-07T17:48:22.691242",
     "status": "completed"
    },
    "tags": []
   },
   "outputs": [
    {
     "data": {
      "text/plain": [
       "{'c1': {'c1.1': 'chapter1.1',\n",
       "  'c1.2': {'c1.2.1': 'chapter mlv', 'c1.2.2': [10, 20, 30, 40]},\n",
       "  'c1.3': 'chapter1.3'},\n",
       " 'c2': 'chapter2',\n",
       " 'c3': 'sush'}"
      ]
     },
     "execution_count": 72,
     "metadata": {},
     "output_type": "execute_result"
    }
   ],
   "source": [
    "ch"
   ]
  },
  {
   "cell_type": "markdown",
   "id": "e9e7a5d7",
   "metadata": {
    "papermill": {
     "duration": 0.111362,
     "end_time": "2023-11-07T17:48:23.040514",
     "exception": false,
     "start_time": "2023-11-07T17:48:22.929152",
     "status": "completed"
    },
    "tags": []
   },
   "source": [
    "# type\n",
    "int()\n",
    "float()\n",
    "str()"
   ]
  },
  {
   "cell_type": "markdown",
   "id": "f10199b5",
   "metadata": {
    "papermill": {
     "duration": 0.107935,
     "end_time": "2023-11-07T17:48:23.259843",
     "exception": false,
     "start_time": "2023-11-07T17:48:23.151908",
     "status": "completed"
    },
    "tags": []
   },
   "source": [
    "# data structure casting\n",
    "## list()  tuple() set()  dict()"
   ]
  },
  {
   "cell_type": "code",
   "execution_count": 73,
   "id": "e0fe88ca",
   "metadata": {
    "execution": {
     "iopub.execute_input": "2023-11-07T17:48:23.552066Z",
     "iopub.status.busy": "2023-11-07T17:48:23.551630Z",
     "iopub.status.idle": "2023-11-07T17:48:23.557745Z",
     "shell.execute_reply": "2023-11-07T17:48:23.556881Z"
    },
    "papermill": {
     "duration": 0.19189,
     "end_time": "2023-11-07T17:48:23.559727",
     "exception": false,
     "start_time": "2023-11-07T17:48:23.367837",
     "status": "completed"
    },
    "tags": []
   },
   "outputs": [
    {
     "data": {
      "text/plain": [
       "list"
      ]
     },
     "execution_count": 73,
     "metadata": {},
     "output_type": "execute_result"
    }
   ],
   "source": [
    "a = [10,20,30]\n",
    "type(a)"
   ]
  },
  {
   "cell_type": "code",
   "execution_count": 74,
   "id": "85841613",
   "metadata": {
    "execution": {
     "iopub.execute_input": "2023-11-07T17:48:23.776613Z",
     "iopub.status.busy": "2023-11-07T17:48:23.776204Z",
     "iopub.status.idle": "2023-11-07T17:48:23.783751Z",
     "shell.execute_reply": "2023-11-07T17:48:23.782267Z"
    },
    "papermill": {
     "duration": 0.120232,
     "end_time": "2023-11-07T17:48:23.786797",
     "exception": false,
     "start_time": "2023-11-07T17:48:23.666565",
     "status": "completed"
    },
    "tags": []
   },
   "outputs": [
    {
     "data": {
      "text/plain": [
       "(10, 20, 30)"
      ]
     },
     "execution_count": 74,
     "metadata": {},
     "output_type": "execute_result"
    }
   ],
   "source": [
    "b = tuple(a)\n",
    "b"
   ]
  },
  {
   "cell_type": "code",
   "execution_count": 75,
   "id": "9e08ccf7",
   "metadata": {
    "execution": {
     "iopub.execute_input": "2023-11-07T17:48:24.012355Z",
     "iopub.status.busy": "2023-11-07T17:48:24.011875Z",
     "iopub.status.idle": "2023-11-07T17:48:24.019563Z",
     "shell.execute_reply": "2023-11-07T17:48:24.018386Z"
    },
    "papermill": {
     "duration": 0.121365,
     "end_time": "2023-11-07T17:48:24.021966",
     "exception": false,
     "start_time": "2023-11-07T17:48:23.900601",
     "status": "completed"
    },
    "tags": []
   },
   "outputs": [
    {
     "data": {
      "text/plain": [
       "tuple"
      ]
     },
     "execution_count": 75,
     "metadata": {},
     "output_type": "execute_result"
    }
   ],
   "source": [
    "type(b)"
   ]
  },
  {
   "cell_type": "code",
   "execution_count": 76,
   "id": "41639c34",
   "metadata": {
    "execution": {
     "iopub.execute_input": "2023-11-07T17:48:24.246598Z",
     "iopub.status.busy": "2023-11-07T17:48:24.246182Z",
     "iopub.status.idle": "2023-11-07T17:48:24.251674Z",
     "shell.execute_reply": "2023-11-07T17:48:24.250259Z"
    },
    "papermill": {
     "duration": 0.119407,
     "end_time": "2023-11-07T17:48:24.254149",
     "exception": false,
     "start_time": "2023-11-07T17:48:24.134742",
     "status": "completed"
    },
    "tags": []
   },
   "outputs": [],
   "source": [
    "gg = (\"sush@gmail.com\",2564856855)\n",
    "# gg[0] = \"sush@outlook.com\""
   ]
  },
  {
   "cell_type": "code",
   "execution_count": 77,
   "id": "c7f0c12b",
   "metadata": {
    "execution": {
     "iopub.execute_input": "2023-11-07T17:48:24.474701Z",
     "iopub.status.busy": "2023-11-07T17:48:24.474299Z",
     "iopub.status.idle": "2023-11-07T17:48:24.481586Z",
     "shell.execute_reply": "2023-11-07T17:48:24.480275Z"
    },
    "papermill": {
     "duration": 0.122492,
     "end_time": "2023-11-07T17:48:24.484360",
     "exception": false,
     "start_time": "2023-11-07T17:48:24.361868",
     "status": "completed"
    },
    "tags": []
   },
   "outputs": [
    {
     "data": {
      "text/plain": [
       "['sush@gmail.com', 2564856855]"
      ]
     },
     "execution_count": 77,
     "metadata": {},
     "output_type": "execute_result"
    }
   ],
   "source": [
    "gg = list(gg)\n",
    "gg"
   ]
  },
  {
   "cell_type": "code",
   "execution_count": 78,
   "id": "d5d47adc",
   "metadata": {
    "execution": {
     "iopub.execute_input": "2023-11-07T17:48:24.702249Z",
     "iopub.status.busy": "2023-11-07T17:48:24.701873Z",
     "iopub.status.idle": "2023-11-07T17:48:24.709484Z",
     "shell.execute_reply": "2023-11-07T17:48:24.708221Z"
    },
    "papermill": {
     "duration": 0.120546,
     "end_time": "2023-11-07T17:48:24.712811",
     "exception": false,
     "start_time": "2023-11-07T17:48:24.592265",
     "status": "completed"
    },
    "tags": []
   },
   "outputs": [
    {
     "data": {
      "text/plain": [
       "list"
      ]
     },
     "execution_count": 78,
     "metadata": {},
     "output_type": "execute_result"
    }
   ],
   "source": [
    "type(gg)"
   ]
  },
  {
   "cell_type": "code",
   "execution_count": 79,
   "id": "7388a49a",
   "metadata": {
    "execution": {
     "iopub.execute_input": "2023-11-07T17:48:24.933234Z",
     "iopub.status.busy": "2023-11-07T17:48:24.932825Z",
     "iopub.status.idle": "2023-11-07T17:48:24.939364Z",
     "shell.execute_reply": "2023-11-07T17:48:24.938534Z"
    },
    "papermill": {
     "duration": 0.118667,
     "end_time": "2023-11-07T17:48:24.941560",
     "exception": false,
     "start_time": "2023-11-07T17:48:24.822893",
     "status": "completed"
    },
    "tags": []
   },
   "outputs": [
    {
     "data": {
      "text/plain": [
       "['sush@outlook.com', 2564856855]"
      ]
     },
     "execution_count": 79,
     "metadata": {},
     "output_type": "execute_result"
    }
   ],
   "source": [
    "gg[0] = \"sush@outlook.com\"\n",
    "gg"
   ]
  },
  {
   "cell_type": "code",
   "execution_count": 80,
   "id": "e5180a69",
   "metadata": {
    "execution": {
     "iopub.execute_input": "2023-11-07T17:48:25.171177Z",
     "iopub.status.busy": "2023-11-07T17:48:25.170684Z",
     "iopub.status.idle": "2023-11-07T17:48:25.178129Z",
     "shell.execute_reply": "2023-11-07T17:48:25.177067Z"
    },
    "papermill": {
     "duration": 0.125916,
     "end_time": "2023-11-07T17:48:25.180563",
     "exception": false,
     "start_time": "2023-11-07T17:48:25.054647",
     "status": "completed"
    },
    "tags": []
   },
   "outputs": [
    {
     "data": {
      "text/plain": [
       "('sush@outlook.com', 2564856855)"
      ]
     },
     "execution_count": 80,
     "metadata": {},
     "output_type": "execute_result"
    }
   ],
   "source": [
    "gg = tuple(gg)\n",
    "gg"
   ]
  },
  {
   "cell_type": "code",
   "execution_count": 81,
   "id": "7721c932",
   "metadata": {
    "execution": {
     "iopub.execute_input": "2023-11-07T17:48:25.401581Z",
     "iopub.status.busy": "2023-11-07T17:48:25.400110Z",
     "iopub.status.idle": "2023-11-07T17:48:25.408231Z",
     "shell.execute_reply": "2023-11-07T17:48:25.407413Z"
    },
    "papermill": {
     "duration": 0.123145,
     "end_time": "2023-11-07T17:48:25.411540",
     "exception": false,
     "start_time": "2023-11-07T17:48:25.288395",
     "status": "completed"
    },
    "tags": []
   },
   "outputs": [
    {
     "data": {
      "text/plain": [
       "('sush@outlook.com', 2564856855)"
      ]
     },
     "execution_count": 81,
     "metadata": {},
     "output_type": "execute_result"
    }
   ],
   "source": [
    "gg = (\"sush@gmail.com\",2564856855)\n",
    "gg = list(gg)\n",
    "gg[0] = \"sush@outlook.com\"\n",
    "gg = tuple(gg)\n",
    "gg"
   ]
  },
  {
   "cell_type": "code",
   "execution_count": 82,
   "id": "5b1738f2",
   "metadata": {
    "execution": {
     "iopub.execute_input": "2023-11-07T17:48:25.647198Z",
     "iopub.status.busy": "2023-11-07T17:48:25.646793Z",
     "iopub.status.idle": "2023-11-07T17:48:25.653990Z",
     "shell.execute_reply": "2023-11-07T17:48:25.652879Z"
    },
    "papermill": {
     "duration": 0.128695,
     "end_time": "2023-11-07T17:48:25.656312",
     "exception": false,
     "start_time": "2023-11-07T17:48:25.527617",
     "status": "completed"
    },
    "tags": []
   },
   "outputs": [
    {
     "data": {
      "text/plain": [
       "[10, 20, 30]"
      ]
     },
     "execution_count": 82,
     "metadata": {},
     "output_type": "execute_result"
    }
   ],
   "source": [
    "a = [10,20,30,10]\n",
    "a = list(set(a))\n",
    "a"
   ]
  },
  {
   "cell_type": "code",
   "execution_count": 83,
   "id": "334013d6",
   "metadata": {
    "execution": {
     "iopub.execute_input": "2023-11-07T17:48:25.890616Z",
     "iopub.status.busy": "2023-11-07T17:48:25.890159Z",
     "iopub.status.idle": "2023-11-07T17:48:25.898022Z",
     "shell.execute_reply": "2023-11-07T17:48:25.896631Z"
    },
    "papermill": {
     "duration": 0.129099,
     "end_time": "2023-11-07T17:48:25.900566",
     "exception": false,
     "start_time": "2023-11-07T17:48:25.771467",
     "status": "completed"
    },
    "tags": []
   },
   "outputs": [
    {
     "data": {
      "text/plain": [
       "[10, 20, 30]"
      ]
     },
     "execution_count": 83,
     "metadata": {},
     "output_type": "execute_result"
    }
   ],
   "source": [
    "a = list(set(a))\n",
    "a"
   ]
  },
  {
   "cell_type": "code",
   "execution_count": 84,
   "id": "5db91bab",
   "metadata": {
    "execution": {
     "iopub.execute_input": "2023-11-07T17:48:26.144835Z",
     "iopub.status.busy": "2023-11-07T17:48:26.144058Z",
     "iopub.status.idle": "2023-11-07T17:48:26.153073Z",
     "shell.execute_reply": "2023-11-07T17:48:26.151524Z"
    },
    "papermill": {
     "duration": 0.132891,
     "end_time": "2023-11-07T17:48:26.156438",
     "exception": false,
     "start_time": "2023-11-07T17:48:26.023547",
     "status": "completed"
    },
    "tags": []
   },
   "outputs": [
    {
     "data": {
      "text/plain": [
       "{10, 20, 30}"
      ]
     },
     "execution_count": 84,
     "metadata": {},
     "output_type": "execute_result"
    }
   ],
   "source": [
    "c = { 10,20,30,30}\n",
    "c \n",
    "\n"
   ]
  },
  {
   "cell_type": "code",
   "execution_count": 85,
   "id": "4d182610",
   "metadata": {
    "execution": {
     "iopub.execute_input": "2023-11-07T17:48:26.383037Z",
     "iopub.status.busy": "2023-11-07T17:48:26.382650Z",
     "iopub.status.idle": "2023-11-07T17:48:26.389186Z",
     "shell.execute_reply": "2023-11-07T17:48:26.387966Z"
    },
    "papermill": {
     "duration": 0.122103,
     "end_time": "2023-11-07T17:48:26.392141",
     "exception": false,
     "start_time": "2023-11-07T17:48:26.270038",
     "status": "completed"
    },
    "tags": []
   },
   "outputs": [
    {
     "name": "stdout",
     "output_type": "stream",
     "text": [
      "3\n"
     ]
    }
   ],
   "source": [
    "thislist = [\"apple\", \"banana\", \"cherry\"]\n",
    "print(len(thislist))"
   ]
  },
  {
   "cell_type": "code",
   "execution_count": 86,
   "id": "6e6ac529",
   "metadata": {
    "execution": {
     "iopub.execute_input": "2023-11-07T17:48:26.627533Z",
     "iopub.status.busy": "2023-11-07T17:48:26.627148Z",
     "iopub.status.idle": "2023-11-07T17:48:26.632544Z",
     "shell.execute_reply": "2023-11-07T17:48:26.631382Z"
    },
    "papermill": {
     "duration": 0.126546,
     "end_time": "2023-11-07T17:48:26.635398",
     "exception": false,
     "start_time": "2023-11-07T17:48:26.508852",
     "status": "completed"
    },
    "tags": []
   },
   "outputs": [
    {
     "name": "stdout",
     "output_type": "stream",
     "text": [
      "['apple', 'banana', 'cherry']\n"
     ]
    }
   ],
   "source": [
    "thislist = list((\"apple\", \"banana\", \"cherry\")) # note the double round-brackets\n",
    "print(thislist)"
   ]
  },
  {
   "cell_type": "code",
   "execution_count": 87,
   "id": "19ffb14b",
   "metadata": {
    "execution": {
     "iopub.execute_input": "2023-11-07T17:48:26.865936Z",
     "iopub.status.busy": "2023-11-07T17:48:26.865537Z",
     "iopub.status.idle": "2023-11-07T17:48:26.872157Z",
     "shell.execute_reply": "2023-11-07T17:48:26.870492Z"
    },
    "papermill": {
     "duration": 0.125616,
     "end_time": "2023-11-07T17:48:26.875122",
     "exception": false,
     "start_time": "2023-11-07T17:48:26.749506",
     "status": "completed"
    },
    "tags": []
   },
   "outputs": [
    {
     "name": "stdout",
     "output_type": "stream",
     "text": [
      "['apple', 'banana', 'cherry', 'orange', 'kiwi', 'melon', 'mango']\n"
     ]
    }
   ],
   "source": [
    "thislist = [\"apple\", \"banana\", \"cherry\", \"orange\", \"kiwi\", \"melon\", \"mango\"]\n",
    "print(thislist[:])"
   ]
  },
  {
   "cell_type": "code",
   "execution_count": 88,
   "id": "b7ffe862",
   "metadata": {
    "execution": {
     "iopub.execute_input": "2023-11-07T17:48:27.107754Z",
     "iopub.status.busy": "2023-11-07T17:48:27.107383Z",
     "iopub.status.idle": "2023-11-07T17:48:27.114239Z",
     "shell.execute_reply": "2023-11-07T17:48:27.112870Z"
    },
    "papermill": {
     "duration": 0.125367,
     "end_time": "2023-11-07T17:48:27.117414",
     "exception": false,
     "start_time": "2023-11-07T17:48:26.992047",
     "status": "completed"
    },
    "tags": []
   },
   "outputs": [
    {
     "name": "stdout",
     "output_type": "stream",
     "text": [
      "['orange', 'kiwi', 'melon']\n"
     ]
    }
   ],
   "source": [
    "thislist = [\"apple\", \"banana\", \"cherry\", \"orange\", \"kiwi\", \"melon\", \"mango\"]\n",
    "print(thislist[-4:-1])"
   ]
  },
  {
   "cell_type": "code",
   "execution_count": 89,
   "id": "4a0b8aff",
   "metadata": {
    "execution": {
     "iopub.execute_input": "2023-11-07T17:48:27.342669Z",
     "iopub.status.busy": "2023-11-07T17:48:27.341971Z",
     "iopub.status.idle": "2023-11-07T17:48:27.349421Z",
     "shell.execute_reply": "2023-11-07T17:48:27.347735Z"
    },
    "papermill": {
     "duration": 0.123474,
     "end_time": "2023-11-07T17:48:27.352655",
     "exception": false,
     "start_time": "2023-11-07T17:48:27.229181",
     "status": "completed"
    },
    "tags": []
   },
   "outputs": [
    {
     "name": "stdout",
     "output_type": "stream",
     "text": [
      "['apple', 'blackcurrant', 'cherry']\n"
     ]
    }
   ],
   "source": [
    "thislist = [\"apple\", \"banana\", \"cherry\"]\n",
    "thislist[1] = \"blackcurrant\"\n",
    "print(thislist)"
   ]
  },
  {
   "cell_type": "code",
   "execution_count": 90,
   "id": "3652ddbf",
   "metadata": {
    "execution": {
     "iopub.execute_input": "2023-11-07T17:48:27.580600Z",
     "iopub.status.busy": "2023-11-07T17:48:27.580180Z",
     "iopub.status.idle": "2023-11-07T17:48:27.588295Z",
     "shell.execute_reply": "2023-11-07T17:48:27.586827Z"
    },
    "papermill": {
     "duration": 0.125,
     "end_time": "2023-11-07T17:48:27.591007",
     "exception": false,
     "start_time": "2023-11-07T17:48:27.466007",
     "status": "completed"
    },
    "tags": []
   },
   "outputs": [
    {
     "data": {
      "text/plain": [
       "['apple', 'banana', 'cherry', 'orange']"
      ]
     },
     "execution_count": 90,
     "metadata": {},
     "output_type": "execute_result"
    }
   ],
   "source": [
    "fruits = ['apple', 'banana', 'cherry']\n",
    "fruits.append(\"orange\")\n",
    "fruits"
   ]
  },
  {
   "cell_type": "code",
   "execution_count": 91,
   "id": "644be2ce",
   "metadata": {
    "execution": {
     "iopub.execute_input": "2023-11-07T17:48:27.818197Z",
     "iopub.status.busy": "2023-11-07T17:48:27.817803Z",
     "iopub.status.idle": "2023-11-07T17:48:27.823239Z",
     "shell.execute_reply": "2023-11-07T17:48:27.821746Z"
    },
    "papermill": {
     "duration": 0.12538,
     "end_time": "2023-11-07T17:48:27.826025",
     "exception": false,
     "start_time": "2023-11-07T17:48:27.700645",
     "status": "completed"
    },
    "tags": []
   },
   "outputs": [],
   "source": [
    "fruits = ['apple', 'banana', 'cherry', 'orange']\n",
    "\n",
    "fruits.clear()"
   ]
  },
  {
   "cell_type": "code",
   "execution_count": 92,
   "id": "8e12b372",
   "metadata": {
    "execution": {
     "iopub.execute_input": "2023-11-07T17:48:28.058344Z",
     "iopub.status.busy": "2023-11-07T17:48:28.057823Z",
     "iopub.status.idle": "2023-11-07T17:48:28.064339Z",
     "shell.execute_reply": "2023-11-07T17:48:28.063428Z"
    },
    "papermill": {
     "duration": 0.1264,
     "end_time": "2023-11-07T17:48:28.067873",
     "exception": false,
     "start_time": "2023-11-07T17:48:27.941473",
     "status": "completed"
    },
    "tags": []
   },
   "outputs": [
    {
     "data": {
      "text/plain": [
       "[]"
      ]
     },
     "execution_count": 92,
     "metadata": {},
     "output_type": "execute_result"
    }
   ],
   "source": [
    "fruits "
   ]
  },
  {
   "cell_type": "code",
   "execution_count": 93,
   "id": "695282ff",
   "metadata": {
    "execution": {
     "iopub.execute_input": "2023-11-07T17:48:28.301226Z",
     "iopub.status.busy": "2023-11-07T17:48:28.300458Z",
     "iopub.status.idle": "2023-11-07T17:48:28.308315Z",
     "shell.execute_reply": "2023-11-07T17:48:28.306609Z"
    },
    "papermill": {
     "duration": 0.126979,
     "end_time": "2023-11-07T17:48:28.311691",
     "exception": false,
     "start_time": "2023-11-07T17:48:28.184712",
     "status": "completed"
    },
    "tags": []
   },
   "outputs": [
    {
     "data": {
      "text/plain": [
       "2"
      ]
     },
     "execution_count": 93,
     "metadata": {},
     "output_type": "execute_result"
    }
   ],
   "source": [
    "tay = ['sush', 'sush', 'cherry']\n",
    "\n",
    "tay.count(\"sush\")"
   ]
  },
  {
   "cell_type": "code",
   "execution_count": 94,
   "id": "e0b6ae22",
   "metadata": {
    "execution": {
     "iopub.execute_input": "2023-11-07T17:48:28.539657Z",
     "iopub.status.busy": "2023-11-07T17:48:28.538643Z",
     "iopub.status.idle": "2023-11-07T17:48:28.547521Z",
     "shell.execute_reply": "2023-11-07T17:48:28.546381Z"
    },
    "papermill": {
     "duration": 0.126167,
     "end_time": "2023-11-07T17:48:28.550194",
     "exception": false,
     "start_time": "2023-11-07T17:48:28.424027",
     "status": "completed"
    },
    "tags": []
   },
   "outputs": [
    {
     "data": {
      "text/plain": [
       "1"
      ]
     },
     "execution_count": 94,
     "metadata": {},
     "output_type": "execute_result"
    }
   ],
   "source": [
    "fruits = ['apple', 'banana', 'cherry']\n",
    "\n",
    "points = (1, 4, 5, 9)\n",
    "\n",
    "fruits.extend(points)\n",
    "fruits[3]"
   ]
  },
  {
   "cell_type": "code",
   "execution_count": 95,
   "id": "c4b76fe3",
   "metadata": {
    "execution": {
     "iopub.execute_input": "2023-11-07T17:48:28.774236Z",
     "iopub.status.busy": "2023-11-07T17:48:28.773808Z",
     "iopub.status.idle": "2023-11-07T17:48:28.781236Z",
     "shell.execute_reply": "2023-11-07T17:48:28.780352Z"
    },
    "papermill": {
     "duration": 0.12275,
     "end_time": "2023-11-07T17:48:28.785232",
     "exception": false,
     "start_time": "2023-11-07T17:48:28.662482",
     "status": "completed"
    },
    "tags": []
   },
   "outputs": [
    {
     "data": {
      "text/plain": [
       "['apple', 'banana', 'cherry', (1, 4, 5, 9)]"
      ]
     },
     "execution_count": 95,
     "metadata": {},
     "output_type": "execute_result"
    }
   ],
   "source": [
    "fruits = ['apple', 'banana', 'cherry']\n",
    "\n",
    "points = (1, 4, 5, 9)\n",
    "\n",
    "fruits.append(points)\n",
    "fruits"
   ]
  },
  {
   "cell_type": "code",
   "execution_count": 96,
   "id": "8d21a780",
   "metadata": {
    "execution": {
     "iopub.execute_input": "2023-11-07T17:48:29.011979Z",
     "iopub.status.busy": "2023-11-07T17:48:29.011512Z",
     "iopub.status.idle": "2023-11-07T17:48:29.019969Z",
     "shell.execute_reply": "2023-11-07T17:48:29.018804Z"
    },
    "papermill": {
     "duration": 0.124551,
     "end_time": "2023-11-07T17:48:29.022569",
     "exception": false,
     "start_time": "2023-11-07T17:48:28.898018",
     "status": "completed"
    },
    "tags": []
   },
   "outputs": [
    {
     "data": {
      "text/plain": [
       "(1, 4, 5, 9)"
      ]
     },
     "execution_count": 96,
     "metadata": {},
     "output_type": "execute_result"
    }
   ],
   "source": [
    "fruits[3]"
   ]
  },
  {
   "cell_type": "code",
   "execution_count": 97,
   "id": "5afdb684",
   "metadata": {
    "execution": {
     "iopub.execute_input": "2023-11-07T17:48:29.261200Z",
     "iopub.status.busy": "2023-11-07T17:48:29.260814Z",
     "iopub.status.idle": "2023-11-07T17:48:29.268392Z",
     "shell.execute_reply": "2023-11-07T17:48:29.267388Z"
    },
    "papermill": {
     "duration": 0.132098,
     "end_time": "2023-11-07T17:48:29.271161",
     "exception": false,
     "start_time": "2023-11-07T17:48:29.139063",
     "status": "completed"
    },
    "tags": []
   },
   "outputs": [
    {
     "data": {
      "text/plain": [
       "0"
      ]
     },
     "execution_count": 97,
     "metadata": {},
     "output_type": "execute_result"
    }
   ],
   "source": [
    "fruits = ['c001asha', 'coo2swapna', 'c001asha']\n",
    "\n",
    "fruits.index(\"c001asha\")"
   ]
  },
  {
   "cell_type": "code",
   "execution_count": 98,
   "id": "c7de6b32",
   "metadata": {
    "execution": {
     "iopub.execute_input": "2023-11-07T17:48:29.507075Z",
     "iopub.status.busy": "2023-11-07T17:48:29.506594Z",
     "iopub.status.idle": "2023-11-07T17:48:29.516226Z",
     "shell.execute_reply": "2023-11-07T17:48:29.514788Z"
    },
    "papermill": {
     "duration": 0.13239,
     "end_time": "2023-11-07T17:48:29.519525",
     "exception": false,
     "start_time": "2023-11-07T17:48:29.387135",
     "status": "completed"
    },
    "tags": []
   },
   "outputs": [
    {
     "data": {
      "text/plain": [
       "['apple', 'banana', 'orange', 'cherry']"
      ]
     },
     "execution_count": 98,
     "metadata": {},
     "output_type": "execute_result"
    }
   ],
   "source": [
    "fruits = ['apple', 'banana', 'cherry']\n",
    "\n",
    "fruits.insert(2, \"orange\")\n",
    "fruits"
   ]
  },
  {
   "cell_type": "code",
   "execution_count": 99,
   "id": "4b35624c",
   "metadata": {
    "execution": {
     "iopub.execute_input": "2023-11-07T17:48:29.773486Z",
     "iopub.status.busy": "2023-11-07T17:48:29.773058Z",
     "iopub.status.idle": "2023-11-07T17:48:29.781234Z",
     "shell.execute_reply": "2023-11-07T17:48:29.779895Z"
    },
    "papermill": {
     "duration": 0.139924,
     "end_time": "2023-11-07T17:48:29.784747",
     "exception": false,
     "start_time": "2023-11-07T17:48:29.644823",
     "status": "completed"
    },
    "tags": []
   },
   "outputs": [
    {
     "data": {
      "text/plain": [
       "'apple'"
      ]
     },
     "execution_count": 99,
     "metadata": {},
     "output_type": "execute_result"
    }
   ],
   "source": [
    "fruits = ['apple', 'banana', 'cherry']\n",
    "a = fruits.pop(0)\n",
    "a"
   ]
  },
  {
   "cell_type": "code",
   "execution_count": 100,
   "id": "79dca347",
   "metadata": {
    "execution": {
     "iopub.execute_input": "2023-11-07T17:48:30.146236Z",
     "iopub.status.busy": "2023-11-07T17:48:30.145157Z",
     "iopub.status.idle": "2023-11-07T17:48:30.156194Z",
     "shell.execute_reply": "2023-11-07T17:48:30.154675Z"
    },
    "papermill": {
     "duration": 0.250781,
     "end_time": "2023-11-07T17:48:30.158765",
     "exception": false,
     "start_time": "2023-11-07T17:48:29.907984",
     "status": "completed"
    },
    "tags": []
   },
   "outputs": [
    {
     "data": {
      "text/plain": [
       "0"
      ]
     },
     "execution_count": 100,
     "metadata": {},
     "output_type": "execute_result"
    }
   ],
   "source": [
    "fruits = ['apple', 'banana', 'cherry']\n",
    "a = fruits.index(\"apple\")\n",
    "a"
   ]
  },
  {
   "cell_type": "code",
   "execution_count": 101,
   "id": "cbdd5d31",
   "metadata": {
    "execution": {
     "iopub.execute_input": "2023-11-07T17:48:30.399232Z",
     "iopub.status.busy": "2023-11-07T17:48:30.398857Z",
     "iopub.status.idle": "2023-11-07T17:48:30.407155Z",
     "shell.execute_reply": "2023-11-07T17:48:30.406120Z"
    },
    "papermill": {
     "duration": 0.126089,
     "end_time": "2023-11-07T17:48:30.409652",
     "exception": false,
     "start_time": "2023-11-07T17:48:30.283563",
     "status": "completed"
    },
    "tags": []
   },
   "outputs": [
    {
     "data": {
      "text/plain": [
       "['apple', 'banana', 'banana']"
      ]
     },
     "execution_count": 101,
     "metadata": {},
     "output_type": "execute_result"
    }
   ],
   "source": [
    "fruits = ['banana', \"apple\",'banana', 'banana']\n",
    "\n",
    "fruits.remove(\"banana\")\n",
    "fruits \n",
    "\n",
    "# ctr a\n",
    "#  ctr /"
   ]
  },
  {
   "cell_type": "code",
   "execution_count": 102,
   "id": "a1142e20",
   "metadata": {
    "execution": {
     "iopub.execute_input": "2023-11-07T17:48:30.651160Z",
     "iopub.status.busy": "2023-11-07T17:48:30.650537Z",
     "iopub.status.idle": "2023-11-07T17:48:30.658632Z",
     "shell.execute_reply": "2023-11-07T17:48:30.657351Z"
    },
    "papermill": {
     "duration": 0.130886,
     "end_time": "2023-11-07T17:48:30.661767",
     "exception": false,
     "start_time": "2023-11-07T17:48:30.530881",
     "status": "completed"
    },
    "tags": []
   },
   "outputs": [
    {
     "data": {
      "text/plain": [
       "['cherry', 'banana', 'apple']"
      ]
     },
     "execution_count": 102,
     "metadata": {},
     "output_type": "execute_result"
    }
   ],
   "source": [
    "fruits = ['apple', 'banana', 'cherry']\n",
    "\n",
    "fruits.reverse()\n",
    "fruits"
   ]
  },
  {
   "cell_type": "code",
   "execution_count": 103,
   "id": "c397908e",
   "metadata": {
    "execution": {
     "iopub.execute_input": "2023-11-07T17:48:30.901918Z",
     "iopub.status.busy": "2023-11-07T17:48:30.901489Z",
     "iopub.status.idle": "2023-11-07T17:48:30.909776Z",
     "shell.execute_reply": "2023-11-07T17:48:30.908206Z"
    },
    "papermill": {
     "duration": 0.133269,
     "end_time": "2023-11-07T17:48:30.912239",
     "exception": false,
     "start_time": "2023-11-07T17:48:30.778970",
     "status": "completed"
    },
    "tags": []
   },
   "outputs": [
    {
     "data": {
      "text/plain": [
       "[20, 11, 9, 30]"
      ]
     },
     "execution_count": 103,
     "metadata": {},
     "output_type": "execute_result"
    }
   ],
   "source": [
    "a= [20,11,9,30]\n",
    "a"
   ]
  },
  {
   "cell_type": "code",
   "execution_count": 104,
   "id": "bc070467",
   "metadata": {
    "execution": {
     "iopub.execute_input": "2023-11-07T17:48:31.155676Z",
     "iopub.status.busy": "2023-11-07T17:48:31.155214Z",
     "iopub.status.idle": "2023-11-07T17:48:31.163646Z",
     "shell.execute_reply": "2023-11-07T17:48:31.162182Z"
    },
    "papermill": {
     "duration": 0.133716,
     "end_time": "2023-11-07T17:48:31.166400",
     "exception": false,
     "start_time": "2023-11-07T17:48:31.032684",
     "status": "completed"
    },
    "tags": []
   },
   "outputs": [
    {
     "data": {
      "text/plain": [
       "[30, 20, 11, 9]"
      ]
     },
     "execution_count": 104,
     "metadata": {},
     "output_type": "execute_result"
    }
   ],
   "source": [
    "a.sort(reverse = True)\n",
    "a"
   ]
  },
  {
   "cell_type": "code",
   "execution_count": 105,
   "id": "8a9e991a",
   "metadata": {
    "execution": {
     "iopub.execute_input": "2023-11-07T17:48:31.394227Z",
     "iopub.status.busy": "2023-11-07T17:48:31.393801Z",
     "iopub.status.idle": "2023-11-07T17:48:31.403129Z",
     "shell.execute_reply": "2023-11-07T17:48:31.401699Z"
    },
    "papermill": {
     "duration": 0.127591,
     "end_time": "2023-11-07T17:48:31.405665",
     "exception": false,
     "start_time": "2023-11-07T17:48:31.278074",
     "status": "completed"
    },
    "tags": []
   },
   "outputs": [
    {
     "data": {
      "text/plain": [
       "[10, 20, 30, [40, 50, 60]]"
      ]
     },
     "execution_count": 105,
     "metadata": {},
     "output_type": "execute_result"
    }
   ],
   "source": [
    "d = [10,20,30]\n",
    "d.append([40,50,60])\n",
    "d"
   ]
  },
  {
   "cell_type": "code",
   "execution_count": 106,
   "id": "f630d301",
   "metadata": {
    "execution": {
     "iopub.execute_input": "2023-11-07T17:48:31.637496Z",
     "iopub.status.busy": "2023-11-07T17:48:31.637035Z",
     "iopub.status.idle": "2023-11-07T17:48:31.647200Z",
     "shell.execute_reply": "2023-11-07T17:48:31.645612Z"
    },
    "papermill": {
     "duration": 0.130519,
     "end_time": "2023-11-07T17:48:31.649985",
     "exception": false,
     "start_time": "2023-11-07T17:48:31.519466",
     "status": "completed"
    },
    "tags": []
   },
   "outputs": [
    {
     "data": {
      "text/plain": [
       "[10, 20, 30, 40, 50, 60]"
      ]
     },
     "execution_count": 106,
     "metadata": {},
     "output_type": "execute_result"
    }
   ],
   "source": [
    "e = [10,20,30]\n",
    "e.extend([40,50,60])\n",
    "e"
   ]
  },
  {
   "cell_type": "code",
   "execution_count": 107,
   "id": "62659226",
   "metadata": {
    "execution": {
     "iopub.execute_input": "2023-11-07T17:48:31.876246Z",
     "iopub.status.busy": "2023-11-07T17:48:31.875811Z",
     "iopub.status.idle": "2023-11-07T17:48:31.885269Z",
     "shell.execute_reply": "2023-11-07T17:48:31.883714Z"
    },
    "papermill": {
     "duration": 0.127342,
     "end_time": "2023-11-07T17:48:31.889349",
     "exception": false,
     "start_time": "2023-11-07T17:48:31.762007",
     "status": "completed"
    },
    "tags": []
   },
   "outputs": [
    {
     "data": {
      "text/plain": [
       "[2, 3, 4]"
      ]
     },
     "execution_count": 107,
     "metadata": {},
     "output_type": "execute_result"
    }
   ],
   "source": [
    "a = [2,3,4,4]\n",
    "a = list(set(a))\n",
    "a"
   ]
  },
  {
   "cell_type": "code",
   "execution_count": 108,
   "id": "b3da8610",
   "metadata": {
    "execution": {
     "iopub.execute_input": "2023-11-07T17:48:32.119820Z",
     "iopub.status.busy": "2023-11-07T17:48:32.119400Z",
     "iopub.status.idle": "2023-11-07T17:48:32.127089Z",
     "shell.execute_reply": "2023-11-07T17:48:32.125220Z"
    },
    "papermill": {
     "duration": 0.127945,
     "end_time": "2023-11-07T17:48:32.129776",
     "exception": false,
     "start_time": "2023-11-07T17:48:32.001831",
     "status": "completed"
    },
    "tags": []
   },
   "outputs": [
    {
     "name": "stdout",
     "output_type": "stream",
     "text": [
      "yes\n",
      "tayyab\n",
      "prasad\n"
     ]
    }
   ],
   "source": [
    "if 9 > 6 : \n",
    "    print(\"yes\")\n",
    "    print(\"tayyab\")\n",
    "    \n",
    "print(\"prasad\")\n"
   ]
  },
  {
   "cell_type": "code",
   "execution_count": 109,
   "id": "44d55dba",
   "metadata": {
    "execution": {
     "iopub.execute_input": "2023-11-07T17:48:32.360121Z",
     "iopub.status.busy": "2023-11-07T17:48:32.359143Z",
     "iopub.status.idle": "2023-11-07T17:48:32.366139Z",
     "shell.execute_reply": "2023-11-07T17:48:32.365213Z"
    },
    "papermill": {
     "duration": 0.12494,
     "end_time": "2023-11-07T17:48:32.368524",
     "exception": false,
     "start_time": "2023-11-07T17:48:32.243584",
     "status": "completed"
    },
    "tags": []
   },
   "outputs": [
    {
     "name": "stdout",
     "output_type": "stream",
     "text": [
      "prasad\n"
     ]
    }
   ],
   "source": [
    "if 9 > 16 : \n",
    "    print(\"yes\")\n",
    "    print(\"tayyab\")\n",
    "    \n",
    "print(\"prasad\")"
   ]
  },
  {
   "cell_type": "code",
   "execution_count": 110,
   "id": "9262862a",
   "metadata": {
    "execution": {
     "iopub.execute_input": "2023-11-07T17:48:32.599643Z",
     "iopub.status.busy": "2023-11-07T17:48:32.599098Z",
     "iopub.status.idle": "2023-11-07T17:48:32.606837Z",
     "shell.execute_reply": "2023-11-07T17:48:32.605618Z"
    },
    "papermill": {
     "duration": 0.127548,
     "end_time": "2023-11-07T17:48:32.609349",
     "exception": false,
     "start_time": "2023-11-07T17:48:32.481801",
     "status": "completed"
    },
    "tags": []
   },
   "outputs": [],
   "source": [
    "# select *\n",
    "#             from table1"
   ]
  },
  {
   "cell_type": "code",
   "execution_count": 111,
   "id": "2ff94ee7",
   "metadata": {
    "execution": {
     "iopub.execute_input": "2023-11-07T17:48:32.849966Z",
     "iopub.status.busy": "2023-11-07T17:48:32.849144Z",
     "iopub.status.idle": "2023-11-07T17:48:32.857564Z",
     "shell.execute_reply": "2023-11-07T17:48:32.856154Z"
    },
    "papermill": {
     "duration": 0.133875,
     "end_time": "2023-11-07T17:48:32.859915",
     "exception": false,
     "start_time": "2023-11-07T17:48:32.726040",
     "status": "completed"
    },
    "tags": []
   },
   "outputs": [
    {
     "name": "stdout",
     "output_type": "stream",
     "text": [
      "the girl got distinction\n",
      "distinction\n"
     ]
    }
   ],
   "source": [
    "marks = 80\n",
    "gender = \"female\"\n",
    "\n",
    "\n",
    "if marks > 75 :  \n",
    "    if gender == \"male\" :\n",
    "        print(\"the boy got distinction\")\n",
    "    else :\n",
    "        print(\"the girl got distinction\")        \n",
    "    print(\"distinction\")\n",
    "elif marks > 50 :\n",
    "    print(\"pass\")\n",
    "else :\n",
    "    print(\"fail\")"
   ]
  },
  {
   "cell_type": "code",
   "execution_count": 112,
   "id": "a7c44368",
   "metadata": {
    "execution": {
     "iopub.execute_input": "2023-11-07T17:48:33.104212Z",
     "iopub.status.busy": "2023-11-07T17:48:33.103452Z",
     "iopub.status.idle": "2023-11-07T17:48:33.109334Z",
     "shell.execute_reply": "2023-11-07T17:48:33.108548Z"
    },
    "papermill": {
     "duration": 0.130711,
     "end_time": "2023-11-07T17:48:33.111519",
     "exception": false,
     "start_time": "2023-11-07T17:48:32.980808",
     "status": "completed"
    },
    "tags": []
   },
   "outputs": [
    {
     "name": "stdout",
     "output_type": "stream",
     "text": [
      "mlv 100\n",
      "mlv 97\n",
      "mlv 94\n",
      "mlv 91\n"
     ]
    }
   ],
   "source": [
    "salary = 100\n",
    "\n",
    "while salary > 90 :\n",
    "    print(\"mlv\",salary )\n",
    "    salary = salary - 3"
   ]
  },
  {
   "cell_type": "code",
   "execution_count": 113,
   "id": "2688add5",
   "metadata": {
    "execution": {
     "iopub.execute_input": "2023-11-07T17:48:33.352413Z",
     "iopub.status.busy": "2023-11-07T17:48:33.351766Z",
     "iopub.status.idle": "2023-11-07T17:48:33.357051Z",
     "shell.execute_reply": "2023-11-07T17:48:33.355935Z"
    },
    "papermill": {
     "duration": 0.121437,
     "end_time": "2023-11-07T17:48:33.359546",
     "exception": false,
     "start_time": "2023-11-07T17:48:33.238109",
     "status": "completed"
    },
    "tags": []
   },
   "outputs": [
    {
     "name": "stdout",
     "output_type": "stream",
     "text": [
      "10\n",
      "----\n",
      "13\n",
      "----\n",
      "16\n",
      "----\n",
      "19\n",
      "----\n"
     ]
    }
   ],
   "source": [
    "for i in  range(10,20,3) :\n",
    "    print(i)\n",
    "    print(\"----\")"
   ]
  },
  {
   "cell_type": "code",
   "execution_count": 114,
   "id": "40ce5484",
   "metadata": {
    "execution": {
     "iopub.execute_input": "2023-11-07T17:48:33.591012Z",
     "iopub.status.busy": "2023-11-07T17:48:33.589687Z",
     "iopub.status.idle": "2023-11-07T17:48:33.598065Z",
     "shell.execute_reply": "2023-11-07T17:48:33.596516Z"
    },
    "papermill": {
     "duration": 0.126364,
     "end_time": "2023-11-07T17:48:33.600564",
     "exception": false,
     "start_time": "2023-11-07T17:48:33.474200",
     "status": "completed"
    },
    "tags": []
   },
   "outputs": [
    {
     "name": "stdout",
     "output_type": "stream",
     "text": [
      "10\n",
      "----\n",
      "husna\n",
      "13\n",
      "----\n",
      "husna\n",
      "16\n",
      "----\n",
      "husna\n",
      "19\n",
      "----\n",
      "husna\n"
     ]
    }
   ],
   "source": [
    "for i in  [10,13,16,19] :\n",
    "    print(i)\n",
    "    print(\"----\")\n",
    "    print(\"husna\")"
   ]
  },
  {
   "cell_type": "code",
   "execution_count": 115,
   "id": "0d7916aa",
   "metadata": {
    "execution": {
     "iopub.execute_input": "2023-11-07T17:48:33.840447Z",
     "iopub.status.busy": "2023-11-07T17:48:33.839979Z",
     "iopub.status.idle": "2023-11-07T17:48:33.846428Z",
     "shell.execute_reply": "2023-11-07T17:48:33.845334Z"
    },
    "papermill": {
     "duration": 0.128007,
     "end_time": "2023-11-07T17:48:33.848802",
     "exception": false,
     "start_time": "2023-11-07T17:48:33.720795",
     "status": "completed"
    },
    "tags": []
   },
   "outputs": [
    {
     "name": "stdout",
     "output_type": "stream",
     "text": [
      "the element is  10\n",
      "the element is  20\n",
      "the element is  30\n",
      "the element is  40\n",
      "the element is  50\n"
     ]
    }
   ],
   "source": [
    "a = [10,20,30,40,50]\n",
    "\n",
    "for  abhi  in a :\n",
    "    print(\"the element is \",abhi)"
   ]
  },
  {
   "cell_type": "code",
   "execution_count": 116,
   "id": "a3aa7027",
   "metadata": {
    "execution": {
     "iopub.execute_input": "2023-11-07T17:48:34.175396Z",
     "iopub.status.busy": "2023-11-07T17:48:34.174950Z",
     "iopub.status.idle": "2023-11-07T17:48:34.182782Z",
     "shell.execute_reply": "2023-11-07T17:48:34.180935Z"
    },
    "papermill": {
     "duration": 0.13951,
     "end_time": "2023-11-07T17:48:34.185871",
     "exception": false,
     "start_time": "2023-11-07T17:48:34.046361",
     "status": "completed"
    },
    "tags": []
   },
   "outputs": [
    {
     "name": "stdout",
     "output_type": "stream",
     "text": [
      "the element is  10\n",
      "the element is  20\n",
      "the element is  30\n",
      "the element is  40\n",
      "the element is  50\n"
     ]
    }
   ],
   "source": [
    "a = [10,20,30,40,50]\n",
    "\n",
    "for abhi in range(len(a)) : # [ 0,1,2,3,4]\n",
    "    print(\"the element is \",a[abhi])\n",
    "    "
   ]
  },
  {
   "cell_type": "code",
   "execution_count": 117,
   "id": "d975c48b",
   "metadata": {
    "execution": {
     "iopub.execute_input": "2023-11-07T17:48:34.425773Z",
     "iopub.status.busy": "2023-11-07T17:48:34.425402Z",
     "iopub.status.idle": "2023-11-07T17:48:34.431995Z",
     "shell.execute_reply": "2023-11-07T17:48:34.430767Z"
    },
    "papermill": {
     "duration": 0.127189,
     "end_time": "2023-11-07T17:48:34.435654",
     "exception": false,
     "start_time": "2023-11-07T17:48:34.308465",
     "status": "completed"
    },
    "tags": []
   },
   "outputs": [
    {
     "name": "stdout",
     "output_type": "stream",
     "text": [
      "1\n",
      "2\n",
      "3\n",
      "4\n"
     ]
    }
   ],
   "source": [
    "for i in range(1,5):\n",
    "    print(i)"
   ]
  },
  {
   "cell_type": "markdown",
   "id": "db0ff3f4",
   "metadata": {
    "papermill": {
     "duration": 0.11679,
     "end_time": "2023-11-07T17:48:34.668471",
     "exception": false,
     "start_time": "2023-11-07T17:48:34.551681",
     "status": "completed"
    },
    "tags": []
   },
   "source": [
    "### "
   ]
  },
  {
   "cell_type": "code",
   "execution_count": 118,
   "id": "d2ab78fd",
   "metadata": {
    "execution": {
     "iopub.execute_input": "2023-11-07T17:48:34.898065Z",
     "iopub.status.busy": "2023-11-07T17:48:34.897357Z",
     "iopub.status.idle": "2023-11-07T17:48:34.903553Z",
     "shell.execute_reply": "2023-11-07T17:48:34.902432Z"
    },
    "papermill": {
     "duration": 0.123544,
     "end_time": "2023-11-07T17:48:34.906037",
     "exception": false,
     "start_time": "2023-11-07T17:48:34.782493",
     "status": "completed"
    },
    "tags": []
   },
   "outputs": [
    {
     "name": "stdout",
     "output_type": "stream",
     "text": [
      "{'apple', 'banana', 'orange', 'cherry'}\n"
     ]
    }
   ],
   "source": [
    "fruits = {\"apple\", \"banana\", \"cherry\"}\n",
    "\n",
    "fruits.add(\"orange\")\n",
    "\n",
    "print(fruits)"
   ]
  },
  {
   "cell_type": "code",
   "execution_count": 119,
   "id": "723cd12f",
   "metadata": {
    "execution": {
     "iopub.execute_input": "2023-11-07T17:48:35.138838Z",
     "iopub.status.busy": "2023-11-07T17:48:35.138443Z",
     "iopub.status.idle": "2023-11-07T17:48:35.146702Z",
     "shell.execute_reply": "2023-11-07T17:48:35.145102Z"
    },
    "papermill": {
     "duration": 0.126896,
     "end_time": "2023-11-07T17:48:35.149425",
     "exception": false,
     "start_time": "2023-11-07T17:48:35.022529",
     "status": "completed"
    },
    "tags": []
   },
   "outputs": [
    {
     "name": "stdout",
     "output_type": "stream",
     "text": [
      "{'tayyab'}\n"
     ]
    }
   ],
   "source": [
    "fruits = {\"apple\", \"banana\", \"cherry\"}\n",
    "\n",
    "fruits.clear()\n",
    "\n",
    "fruits.add(\"tayyab\")\n",
    "\n",
    "print(fruits)"
   ]
  },
  {
   "cell_type": "code",
   "execution_count": 120,
   "id": "b990a303",
   "metadata": {
    "execution": {
     "iopub.execute_input": "2023-11-07T17:48:35.390261Z",
     "iopub.status.busy": "2023-11-07T17:48:35.389613Z",
     "iopub.status.idle": "2023-11-07T17:48:35.396106Z",
     "shell.execute_reply": "2023-11-07T17:48:35.394913Z"
    },
    "papermill": {
     "duration": 0.128101,
     "end_time": "2023-11-07T17:48:35.398777",
     "exception": false,
     "start_time": "2023-11-07T17:48:35.270676",
     "status": "completed"
    },
    "tags": []
   },
   "outputs": [
    {
     "name": "stdout",
     "output_type": "stream",
     "text": [
      "{'banana', 'cherry'}\n"
     ]
    }
   ],
   "source": [
    "x = {\"apple\", \"banana\", \"cherry\"}\n",
    "y = {\"google\", \"microsoft\", \"apple\"}\n",
    "\n",
    "z = x.difference(y)\n",
    "\n",
    "print(z)"
   ]
  },
  {
   "cell_type": "code",
   "execution_count": 121,
   "id": "ffebeff8",
   "metadata": {
    "execution": {
     "iopub.execute_input": "2023-11-07T17:48:35.631796Z",
     "iopub.status.busy": "2023-11-07T17:48:35.631408Z",
     "iopub.status.idle": "2023-11-07T17:48:35.637120Z",
     "shell.execute_reply": "2023-11-07T17:48:35.635962Z"
    },
    "papermill": {
     "duration": 0.125535,
     "end_time": "2023-11-07T17:48:35.640017",
     "exception": false,
     "start_time": "2023-11-07T17:48:35.514482",
     "status": "completed"
    },
    "tags": []
   },
   "outputs": [
    {
     "name": "stdout",
     "output_type": "stream",
     "text": [
      "{'apple'}\n"
     ]
    }
   ],
   "source": [
    "x = {\"apple\", \"banana\", \"cherry\"}\n",
    "y = {\"google\", \"microsoft\", \"apple\"}\n",
    "\n",
    "z = y.intersection(x)\n",
    "\n",
    "print(z)"
   ]
  },
  {
   "cell_type": "code",
   "execution_count": 122,
   "id": "2a14228d",
   "metadata": {
    "execution": {
     "iopub.execute_input": "2023-11-07T17:48:35.870536Z",
     "iopub.status.busy": "2023-11-07T17:48:35.870016Z",
     "iopub.status.idle": "2023-11-07T17:48:35.877338Z",
     "shell.execute_reply": "2023-11-07T17:48:35.876053Z"
    },
    "papermill": {
     "duration": 0.124262,
     "end_time": "2023-11-07T17:48:35.879902",
     "exception": false,
     "start_time": "2023-11-07T17:48:35.755640",
     "status": "completed"
    },
    "tags": []
   },
   "outputs": [
    {
     "name": "stdout",
     "output_type": "stream",
     "text": [
      "False\n"
     ]
    }
   ],
   "source": [
    "x = {\"apple\", \"google\", \"cherry\"}\n",
    "y = {\"google\", \"microsoft\", \"facebook\"}\n",
    "\n",
    "z = x.isdisjoint(y)\n",
    "\n",
    "print(z)\n"
   ]
  },
  {
   "cell_type": "code",
   "execution_count": 123,
   "id": "0e9f5676",
   "metadata": {
    "execution": {
     "iopub.execute_input": "2023-11-07T17:48:36.111374Z",
     "iopub.status.busy": "2023-11-07T17:48:36.110814Z",
     "iopub.status.idle": "2023-11-07T17:48:36.117661Z",
     "shell.execute_reply": "2023-11-07T17:48:36.116531Z"
    },
    "papermill": {
     "duration": 0.125764,
     "end_time": "2023-11-07T17:48:36.120405",
     "exception": false,
     "start_time": "2023-11-07T17:48:35.994641",
     "status": "completed"
    },
    "tags": []
   },
   "outputs": [
    {
     "name": "stdout",
     "output_type": "stream",
     "text": [
      "False\n"
     ]
    }
   ],
   "source": [
    "x = {\"a\", \"b\", \"h\"}\n",
    "y = {\"f\", \"e\", \"d\", \"c\", \"b\", \"a\"}\n",
    "\n",
    "z = x.issubset(y)\n",
    "\n",
    "print(z)"
   ]
  },
  {
   "cell_type": "code",
   "execution_count": 124,
   "id": "f7debff6",
   "metadata": {
    "execution": {
     "iopub.execute_input": "2023-11-07T17:48:36.353177Z",
     "iopub.status.busy": "2023-11-07T17:48:36.352812Z",
     "iopub.status.idle": "2023-11-07T17:48:36.358961Z",
     "shell.execute_reply": "2023-11-07T17:48:36.357734Z"
    },
    "papermill": {
     "duration": 0.124028,
     "end_time": "2023-11-07T17:48:36.361602",
     "exception": false,
     "start_time": "2023-11-07T17:48:36.237574",
     "status": "completed"
    },
    "tags": []
   },
   "outputs": [
    {
     "name": "stdout",
     "output_type": "stream",
     "text": [
      "False\n"
     ]
    }
   ],
   "source": [
    "x = {\"f\", \"e\", \"d\", \"c\", \"b\", \"a\"}\n",
    "y = {\"a\", \"b\", \"z\"}\n",
    "\n",
    "z = x.issuperset(y)\n",
    "\n",
    "print(z)"
   ]
  },
  {
   "cell_type": "code",
   "execution_count": 125,
   "id": "ac3f1bee",
   "metadata": {
    "execution": {
     "iopub.execute_input": "2023-11-07T17:48:36.596600Z",
     "iopub.status.busy": "2023-11-07T17:48:36.596204Z",
     "iopub.status.idle": "2023-11-07T17:48:36.601173Z",
     "shell.execute_reply": "2023-11-07T17:48:36.600402Z"
    },
    "papermill": {
     "duration": 0.126857,
     "end_time": "2023-11-07T17:48:36.603837",
     "exception": false,
     "start_time": "2023-11-07T17:48:36.476980",
     "status": "completed"
    },
    "tags": []
   },
   "outputs": [
    {
     "name": "stdout",
     "output_type": "stream",
     "text": [
      "{'banana', 'cherry'}\n"
     ]
    }
   ],
   "source": [
    "fruits = {\"apple\", \"banana\", \"cherry\"}\n",
    "\n",
    "fruits.pop()\n",
    "\n",
    "print(fruits)"
   ]
  },
  {
   "cell_type": "code",
   "execution_count": 126,
   "id": "9cb32b94",
   "metadata": {
    "execution": {
     "iopub.execute_input": "2023-11-07T17:48:36.837780Z",
     "iopub.status.busy": "2023-11-07T17:48:36.837366Z",
     "iopub.status.idle": "2023-11-07T17:48:36.843915Z",
     "shell.execute_reply": "2023-11-07T17:48:36.842708Z"
    },
    "papermill": {
     "duration": 0.126259,
     "end_time": "2023-11-07T17:48:36.846440",
     "exception": false,
     "start_time": "2023-11-07T17:48:36.720181",
     "status": "completed"
    },
    "tags": []
   },
   "outputs": [
    {
     "name": "stdout",
     "output_type": "stream",
     "text": [
      "{'apple', 'banana', 'cherry'}\n"
     ]
    }
   ],
   "source": [
    "x = {\"apple\", \"banana\", \"cherry\"}\n",
    "y = {\"google\", \"microsoft\", \"apple\"}\n",
    "\n",
    "z = x.union(y)\n",
    "\n",
    "print(x)"
   ]
  },
  {
   "cell_type": "code",
   "execution_count": 127,
   "id": "ff466a2d",
   "metadata": {
    "execution": {
     "iopub.execute_input": "2023-11-07T17:48:37.088571Z",
     "iopub.status.busy": "2023-11-07T17:48:37.088128Z",
     "iopub.status.idle": "2023-11-07T17:48:37.095267Z",
     "shell.execute_reply": "2023-11-07T17:48:37.094158Z"
    },
    "papermill": {
     "duration": 0.135491,
     "end_time": "2023-11-07T17:48:37.097794",
     "exception": false,
     "start_time": "2023-11-07T17:48:36.962303",
     "status": "completed"
    },
    "tags": []
   },
   "outputs": [
    {
     "name": "stdout",
     "output_type": "stream",
     "text": [
      "{'google', 'apple', 'banana', 'cherry', 'microsoft'}\n"
     ]
    }
   ],
   "source": [
    "x = {\"apple\", \"banana\", \"cherry\"}\n",
    "y = {\"google\", \"microsoft\", \"apple\"}\n",
    "\n",
    "x.update(y)\n",
    "\n",
    "print(x)"
   ]
  },
  {
   "cell_type": "code",
   "execution_count": 128,
   "id": "98d88ac5",
   "metadata": {
    "execution": {
     "iopub.execute_input": "2023-11-07T17:48:37.346196Z",
     "iopub.status.busy": "2023-11-07T17:48:37.345803Z",
     "iopub.status.idle": "2023-11-07T17:48:37.352325Z",
     "shell.execute_reply": "2023-11-07T17:48:37.351087Z"
    },
    "papermill": {
     "duration": 0.133459,
     "end_time": "2023-11-07T17:48:37.355123",
     "exception": false,
     "start_time": "2023-11-07T17:48:37.221664",
     "status": "completed"
    },
    "tags": []
   },
   "outputs": [
    {
     "name": "stdout",
     "output_type": "stream",
     "text": [
      "{'key 1': 'sush', 'key 2': 'sush', 'key 3': 'sush'}\n"
     ]
    }
   ],
   "source": [
    "x = ('key 1', 'key 2', 'key 3')\n",
    "y = \"sush\"\n",
    "\n",
    "thisdict = dict.fromkeys(x, y)\n",
    "\n",
    "print(thisdict)"
   ]
  },
  {
   "cell_type": "code",
   "execution_count": 129,
   "id": "945f2217",
   "metadata": {
    "execution": {
     "iopub.execute_input": "2023-11-07T17:48:37.588072Z",
     "iopub.status.busy": "2023-11-07T17:48:37.587601Z",
     "iopub.status.idle": "2023-11-07T17:48:37.596445Z",
     "shell.execute_reply": "2023-11-07T17:48:37.595238Z"
    },
    "papermill": {
     "duration": 0.128938,
     "end_time": "2023-11-07T17:48:37.598876",
     "exception": false,
     "start_time": "2023-11-07T17:48:37.469938",
     "status": "completed"
    },
    "tags": []
   },
   "outputs": [
    {
     "data": {
      "text/plain": [
       "{'key 1': 'sush', 'key 2': 'sush', 'key 3 ': 'sush'}"
      ]
     },
     "execution_count": 129,
     "metadata": {},
     "output_type": "execute_result"
    }
   ],
   "source": [
    "thisdict  = { \"key 1\" : \"sush\",\n",
    "            \"key 2\" : \"sush\",\n",
    "            \"key 3 \" : \"sush\"}\n",
    "thisdict"
   ]
  },
  {
   "cell_type": "code",
   "execution_count": 130,
   "id": "73a6ccbf",
   "metadata": {
    "execution": {
     "iopub.execute_input": "2023-11-07T17:48:37.830490Z",
     "iopub.status.busy": "2023-11-07T17:48:37.829517Z",
     "iopub.status.idle": "2023-11-07T17:48:37.834523Z",
     "shell.execute_reply": "2023-11-07T17:48:37.833623Z"
    },
    "papermill": {
     "duration": 0.124596,
     "end_time": "2023-11-07T17:48:37.837717",
     "exception": false,
     "start_time": "2023-11-07T17:48:37.713121",
     "status": "completed"
    },
    "tags": []
   },
   "outputs": [],
   "source": [
    "x = ('st 1', 'st 2', 'st 3')\n",
    "y = 0 "
   ]
  },
  {
   "cell_type": "code",
   "execution_count": 131,
   "id": "c166fd9a",
   "metadata": {
    "execution": {
     "iopub.execute_input": "2023-11-07T17:48:38.067739Z",
     "iopub.status.busy": "2023-11-07T17:48:38.067363Z",
     "iopub.status.idle": "2023-11-07T17:48:38.074866Z",
     "shell.execute_reply": "2023-11-07T17:48:38.073827Z"
    },
    "papermill": {
     "duration": 0.12629,
     "end_time": "2023-11-07T17:48:38.077431",
     "exception": false,
     "start_time": "2023-11-07T17:48:37.951141",
     "status": "completed"
    },
    "tags": []
   },
   "outputs": [
    {
     "data": {
      "text/plain": [
       "'Mustang'"
      ]
     },
     "execution_count": 131,
     "metadata": {},
     "output_type": "execute_result"
    }
   ],
   "source": [
    "car = {\n",
    "  \"brand\": \"Ford\",\n",
    "  \"model\": \"Mustang\",\n",
    "  \"year\": 1964\n",
    "}\n",
    "\n",
    "car.get(\"model\")\n",
    "\n"
   ]
  },
  {
   "cell_type": "code",
   "execution_count": 132,
   "id": "764f0a55",
   "metadata": {
    "execution": {
     "iopub.execute_input": "2023-11-07T17:48:38.311395Z",
     "iopub.status.busy": "2023-11-07T17:48:38.310941Z",
     "iopub.status.idle": "2023-11-07T17:48:38.317770Z",
     "shell.execute_reply": "2023-11-07T17:48:38.316902Z"
    },
    "papermill": {
     "duration": 0.126759,
     "end_time": "2023-11-07T17:48:38.320029",
     "exception": false,
     "start_time": "2023-11-07T17:48:38.193270",
     "status": "completed"
    },
    "tags": []
   },
   "outputs": [
    {
     "data": {
      "text/plain": [
       "'Mustang'"
      ]
     },
     "execution_count": 132,
     "metadata": {},
     "output_type": "execute_result"
    }
   ],
   "source": [
    "car = {\n",
    "  \"brand\": \"Ford\",\n",
    "  \"model\": \"Mustang\",\n",
    "  \"year\": 1964\n",
    "}\n",
    "car[\"model\"]"
   ]
  },
  {
   "cell_type": "code",
   "execution_count": 133,
   "id": "200f69a1",
   "metadata": {
    "execution": {
     "iopub.execute_input": "2023-11-07T17:48:38.628574Z",
     "iopub.status.busy": "2023-11-07T17:48:38.628162Z",
     "iopub.status.idle": "2023-11-07T17:48:38.636698Z",
     "shell.execute_reply": "2023-11-07T17:48:38.635599Z"
    },
    "papermill": {
     "duration": 0.203962,
     "end_time": "2023-11-07T17:48:38.639152",
     "exception": false,
     "start_time": "2023-11-07T17:48:38.435190",
     "status": "completed"
    },
    "tags": []
   },
   "outputs": [
    {
     "data": {
      "text/plain": [
       "dict_keys(['brand', 'model', 'year'])"
      ]
     },
     "execution_count": 133,
     "metadata": {},
     "output_type": "execute_result"
    }
   ],
   "source": [
    "car = {\n",
    "  \"brand\": \"Ford\",\n",
    "  \"model\": \"Mustang\",\n",
    "  \"year\": 1964\n",
    "}\n",
    "\n",
    "car.keys()"
   ]
  },
  {
   "cell_type": "code",
   "execution_count": 134,
   "id": "c7dfc6f2",
   "metadata": {
    "execution": {
     "iopub.execute_input": "2023-11-07T17:48:38.875022Z",
     "iopub.status.busy": "2023-11-07T17:48:38.874613Z",
     "iopub.status.idle": "2023-11-07T17:48:38.881436Z",
     "shell.execute_reply": "2023-11-07T17:48:38.880337Z"
    },
    "papermill": {
     "duration": 0.128673,
     "end_time": "2023-11-07T17:48:38.884947",
     "exception": false,
     "start_time": "2023-11-07T17:48:38.756274",
     "status": "completed"
    },
    "tags": []
   },
   "outputs": [
    {
     "data": {
      "text/plain": [
       "dict_values(['Ford', 'Mustang', 1964])"
      ]
     },
     "execution_count": 134,
     "metadata": {},
     "output_type": "execute_result"
    }
   ],
   "source": [
    "car.values()"
   ]
  },
  {
   "cell_type": "code",
   "execution_count": 135,
   "id": "a7845c7a",
   "metadata": {
    "execution": {
     "iopub.execute_input": "2023-11-07T17:48:39.133789Z",
     "iopub.status.busy": "2023-11-07T17:48:39.133412Z",
     "iopub.status.idle": "2023-11-07T17:48:39.139950Z",
     "shell.execute_reply": "2023-11-07T17:48:39.138913Z"
    },
    "papermill": {
     "duration": 0.131019,
     "end_time": "2023-11-07T17:48:39.142190",
     "exception": false,
     "start_time": "2023-11-07T17:48:39.011171",
     "status": "completed"
    },
    "tags": []
   },
   "outputs": [
    {
     "data": {
      "text/plain": [
       "dict_items([('brand', 'Ford'), ('model', 'Mustang'), ('year', 1964)])"
      ]
     },
     "execution_count": 135,
     "metadata": {},
     "output_type": "execute_result"
    }
   ],
   "source": [
    "car.items()"
   ]
  },
  {
   "cell_type": "code",
   "execution_count": 136,
   "id": "a0c2cbbc",
   "metadata": {
    "execution": {
     "iopub.execute_input": "2023-11-07T17:48:39.376680Z",
     "iopub.status.busy": "2023-11-07T17:48:39.376277Z",
     "iopub.status.idle": "2023-11-07T17:48:39.382768Z",
     "shell.execute_reply": "2023-11-07T17:48:39.381332Z"
    },
    "papermill": {
     "duration": 0.12639,
     "end_time": "2023-11-07T17:48:39.385597",
     "exception": false,
     "start_time": "2023-11-07T17:48:39.259207",
     "status": "completed"
    },
    "tags": []
   },
   "outputs": [
    {
     "name": "stdout",
     "output_type": "stream",
     "text": [
      "{'brand': 'Ford', 'year': 1964}\n"
     ]
    }
   ],
   "source": [
    "car = {\n",
    "  \"brand\": \"Ford\",\n",
    "  \"model\": \"Mustang\",\n",
    "  \"year\": 1964\n",
    "}\n",
    "\n",
    "car.pop(\"model\")\n",
    "\n",
    "print(car)"
   ]
  },
  {
   "cell_type": "code",
   "execution_count": 137,
   "id": "9b20f524",
   "metadata": {
    "execution": {
     "iopub.execute_input": "2023-11-07T17:48:39.621779Z",
     "iopub.status.busy": "2023-11-07T17:48:39.621370Z",
     "iopub.status.idle": "2023-11-07T17:48:39.629313Z",
     "shell.execute_reply": "2023-11-07T17:48:39.627634Z"
    },
    "papermill": {
     "duration": 0.130931,
     "end_time": "2023-11-07T17:48:39.631921",
     "exception": false,
     "start_time": "2023-11-07T17:48:39.500990",
     "status": "completed"
    },
    "tags": []
   },
   "outputs": [
    {
     "name": "stdout",
     "output_type": "stream",
     "text": [
      "{'brand': 'Ford', 'model': 'Mustang'}\n"
     ]
    }
   ],
   "source": [
    "car = {\n",
    "  \"brand\": \"Ford\",\n",
    "  \"model\": \"Mustang\",\n",
    "  \"year\": 1964\n",
    "}\n",
    "\n",
    "car.popitem()\n",
    "\n",
    "print(car)"
   ]
  },
  {
   "cell_type": "code",
   "execution_count": 138,
   "id": "b13adb05",
   "metadata": {
    "execution": {
     "iopub.execute_input": "2023-11-07T17:48:39.864539Z",
     "iopub.status.busy": "2023-11-07T17:48:39.864116Z",
     "iopub.status.idle": "2023-11-07T17:48:39.871138Z",
     "shell.execute_reply": "2023-11-07T17:48:39.869544Z"
    },
    "papermill": {
     "duration": 0.126073,
     "end_time": "2023-11-07T17:48:39.873594",
     "exception": false,
     "start_time": "2023-11-07T17:48:39.747521",
     "status": "completed"
    },
    "tags": []
   },
   "outputs": [
    {
     "name": "stdout",
     "output_type": "stream",
     "text": [
      "None\n"
     ]
    }
   ],
   "source": [
    "car = {\n",
    "  \"brand\": \"Ford\",\n",
    "    \"model\" : None ,\n",
    "\n",
    "  \"year\": 1964\n",
    "}\n",
    "\n",
    "x = car.setdefault(\"model\", \"Bronco\")\n",
    "\n",
    "print(x)"
   ]
  },
  {
   "cell_type": "code",
   "execution_count": 139,
   "id": "bdf3a411",
   "metadata": {
    "execution": {
     "iopub.execute_input": "2023-11-07T17:48:40.129114Z",
     "iopub.status.busy": "2023-11-07T17:48:40.128732Z",
     "iopub.status.idle": "2023-11-07T17:48:40.137492Z",
     "shell.execute_reply": "2023-11-07T17:48:40.135361Z"
    },
    "papermill": {
     "duration": 0.144462,
     "end_time": "2023-11-07T17:48:40.140713",
     "exception": false,
     "start_time": "2023-11-07T17:48:39.996251",
     "status": "completed"
    },
    "tags": []
   },
   "outputs": [
    {
     "name": "stdout",
     "output_type": "stream",
     "text": [
      "{'brand': 'Ford', 'model': 'Mustang', 'year': 1964, 'color': 'White'}\n"
     ]
    }
   ],
   "source": [
    "car = {\n",
    "  \"brand\": \"Ford\",\n",
    "  \"model\": \"Mustang\",\n",
    "  \"year\": 1964\n",
    "}\n",
    "\n",
    "\n",
    "car.update({\"color\": \"White\"})\n",
    "print(car)\n",
    "\n"
   ]
  },
  {
   "cell_type": "code",
   "execution_count": 140,
   "id": "da70168f",
   "metadata": {
    "execution": {
     "iopub.execute_input": "2023-11-07T17:48:40.405958Z",
     "iopub.status.busy": "2023-11-07T17:48:40.405167Z",
     "iopub.status.idle": "2023-11-07T17:48:40.410023Z",
     "shell.execute_reply": "2023-11-07T17:48:40.409201Z"
    },
    "papermill": {
     "duration": 0.136787,
     "end_time": "2023-11-07T17:48:40.412431",
     "exception": false,
     "start_time": "2023-11-07T17:48:40.275644",
     "status": "completed"
    },
    "tags": []
   },
   "outputs": [],
   "source": [
    "# *"
   ]
  },
  {
   "cell_type": "code",
   "execution_count": 141,
   "id": "2c57c4db",
   "metadata": {
    "execution": {
     "iopub.execute_input": "2023-11-07T17:48:40.647163Z",
     "iopub.status.busy": "2023-11-07T17:48:40.646552Z",
     "iopub.status.idle": "2023-11-07T17:48:40.652519Z",
     "shell.execute_reply": "2023-11-07T17:48:40.651089Z"
    },
    "papermill": {
     "duration": 0.126476,
     "end_time": "2023-11-07T17:48:40.654969",
     "exception": false,
     "start_time": "2023-11-07T17:48:40.528493",
     "status": "completed"
    },
    "tags": []
   },
   "outputs": [
    {
     "name": "stdout",
     "output_type": "stream",
     "text": [
      "*\n"
     ]
    }
   ],
   "source": [
    "print(\"*\")"
   ]
  },
  {
   "cell_type": "code",
   "execution_count": 142,
   "id": "5685c2f2",
   "metadata": {
    "execution": {
     "iopub.execute_input": "2023-11-07T17:48:40.889329Z",
     "iopub.status.busy": "2023-11-07T17:48:40.888710Z",
     "iopub.status.idle": "2023-11-07T17:48:40.893181Z",
     "shell.execute_reply": "2023-11-07T17:48:40.892151Z"
    },
    "papermill": {
     "duration": 0.123888,
     "end_time": "2023-11-07T17:48:40.895506",
     "exception": false,
     "start_time": "2023-11-07T17:48:40.771618",
     "status": "completed"
    },
    "tags": []
   },
   "outputs": [],
   "source": [
    "# *\n",
    "# **"
   ]
  },
  {
   "cell_type": "code",
   "execution_count": 143,
   "id": "08b48ef1",
   "metadata": {
    "execution": {
     "iopub.execute_input": "2023-11-07T17:48:41.128013Z",
     "iopub.status.busy": "2023-11-07T17:48:41.127416Z",
     "iopub.status.idle": "2023-11-07T17:48:41.133612Z",
     "shell.execute_reply": "2023-11-07T17:48:41.132087Z"
    },
    "papermill": {
     "duration": 0.126609,
     "end_time": "2023-11-07T17:48:41.136175",
     "exception": false,
     "start_time": "2023-11-07T17:48:41.009566",
     "status": "completed"
    },
    "tags": []
   },
   "outputs": [
    {
     "name": "stdout",
     "output_type": "stream",
     "text": [
      "*\n",
      "**\n"
     ]
    }
   ],
   "source": [
    "print(\"*\")\n",
    "print(\"**\")"
   ]
  },
  {
   "cell_type": "code",
   "execution_count": 144,
   "id": "9eabf1e7",
   "metadata": {
    "execution": {
     "iopub.execute_input": "2023-11-07T17:48:41.373456Z",
     "iopub.status.busy": "2023-11-07T17:48:41.372700Z",
     "iopub.status.idle": "2023-11-07T17:48:41.378346Z",
     "shell.execute_reply": "2023-11-07T17:48:41.377449Z"
    },
    "papermill": {
     "duration": 0.127312,
     "end_time": "2023-11-07T17:48:41.380784",
     "exception": false,
     "start_time": "2023-11-07T17:48:41.253472",
     "status": "completed"
    },
    "tags": []
   },
   "outputs": [],
   "source": [
    "# *\n",
    "# **\n",
    "# ***\n",
    "# ****"
   ]
  },
  {
   "cell_type": "code",
   "execution_count": 145,
   "id": "bd230295",
   "metadata": {
    "execution": {
     "iopub.execute_input": "2023-11-07T17:48:41.619039Z",
     "iopub.status.busy": "2023-11-07T17:48:41.617892Z",
     "iopub.status.idle": "2023-11-07T17:48:41.625013Z",
     "shell.execute_reply": "2023-11-07T17:48:41.624024Z"
    },
    "papermill": {
     "duration": 0.129928,
     "end_time": "2023-11-07T17:48:41.627818",
     "exception": false,
     "start_time": "2023-11-07T17:48:41.497890",
     "status": "completed"
    },
    "tags": []
   },
   "outputs": [
    {
     "name": "stdout",
     "output_type": "stream",
     "text": [
      "   *\n",
      "  **\n",
      " ***\n",
      "****\n",
      " ***\n",
      "  **\n",
      "   *\n"
     ]
    }
   ],
   "source": [
    "for i in range(4) :\n",
    "    print(\" \"*(3-i),end=\"\")\n",
    "    print(\"*\"* (i+1))\n",
    "#     print(\"--\")\n",
    "for j in range(3):\n",
    "    print(\" \"*(j+1),end=\"\")\n",
    "    print(\"*\"*(3-j))"
   ]
  },
  {
   "cell_type": "code",
   "execution_count": 146,
   "id": "a10e8e34",
   "metadata": {
    "execution": {
     "iopub.execute_input": "2023-11-07T17:48:41.864753Z",
     "iopub.status.busy": "2023-11-07T17:48:41.863626Z",
     "iopub.status.idle": "2023-11-07T17:48:41.869001Z",
     "shell.execute_reply": "2023-11-07T17:48:41.868040Z"
    },
    "papermill": {
     "duration": 0.128104,
     "end_time": "2023-11-07T17:48:41.871595",
     "exception": false,
     "start_time": "2023-11-07T17:48:41.743491",
     "status": "completed"
    },
    "tags": []
   },
   "outputs": [],
   "source": [
    "#    *\n",
    "#   ***\n",
    "#  *****\n",
    "# *******\n",
    "\n",
    "#  *****\n",
    "#   ***\n",
    "#    *"
   ]
  },
  {
   "cell_type": "code",
   "execution_count": 147,
   "id": "e4abc212",
   "metadata": {
    "execution": {
     "iopub.execute_input": "2023-11-07T17:48:42.118421Z",
     "iopub.status.busy": "2023-11-07T17:48:42.118004Z",
     "iopub.status.idle": "2023-11-07T17:48:42.122875Z",
     "shell.execute_reply": "2023-11-07T17:48:42.121681Z"
    },
    "papermill": {
     "duration": 0.131197,
     "end_time": "2023-11-07T17:48:42.125564",
     "exception": false,
     "start_time": "2023-11-07T17:48:41.994367",
     "status": "completed"
    },
    "tags": []
   },
   "outputs": [],
   "source": [
    "# *\n",
    "# ***\n",
    "# *****\n",
    "# *******\n",
    "\n",
    "\n",
    "# *****\n",
    "# ***\n",
    "# *"
   ]
  },
  {
   "cell_type": "code",
   "execution_count": 148,
   "id": "4e76024e",
   "metadata": {
    "execution": {
     "iopub.execute_input": "2023-11-07T17:48:42.364954Z",
     "iopub.status.busy": "2023-11-07T17:48:42.364162Z",
     "iopub.status.idle": "2023-11-07T17:48:42.371179Z",
     "shell.execute_reply": "2023-11-07T17:48:42.369750Z"
    },
    "papermill": {
     "duration": 0.12835,
     "end_time": "2023-11-07T17:48:42.373571",
     "exception": false,
     "start_time": "2023-11-07T17:48:42.245221",
     "status": "completed"
    },
    "tags": []
   },
   "outputs": [
    {
     "name": "stdout",
     "output_type": "stream",
     "text": [
      "*\n",
      "***\n",
      "*****\n",
      "*******\n",
      "*\n",
      "*\n",
      "*\n"
     ]
    }
   ],
   "source": [
    "for i in range(4):\n",
    "    print(\"*\"* ((2*i)+1))\n",
    "for j in range(3):\n",
    "    print(\"*\")"
   ]
  },
  {
   "cell_type": "code",
   "execution_count": 149,
   "id": "8975e3f6",
   "metadata": {
    "execution": {
     "iopub.execute_input": "2023-11-07T17:48:42.686535Z",
     "iopub.status.busy": "2023-11-07T17:48:42.685662Z",
     "iopub.status.idle": "2023-11-07T17:48:42.690013Z",
     "shell.execute_reply": "2023-11-07T17:48:42.689115Z"
    },
    "papermill": {
     "duration": 0.127853,
     "end_time": "2023-11-07T17:48:42.692420",
     "exception": false,
     "start_time": "2023-11-07T17:48:42.564567",
     "status": "completed"
    },
    "tags": []
   },
   "outputs": [],
   "source": [
    "#     *\n",
    "#    ***\n",
    "#   *****\n",
    "#  *******\n",
    "# *********\n",
    "#  *******\n",
    "#   *****\n",
    "#    ***\n",
    "#     *"
   ]
  },
  {
   "cell_type": "code",
   "execution_count": 150,
   "id": "2dbe2cf5",
   "metadata": {
    "execution": {
     "iopub.execute_input": "2023-11-07T17:48:42.929535Z",
     "iopub.status.busy": "2023-11-07T17:48:42.928752Z",
     "iopub.status.idle": "2023-11-07T17:48:42.937684Z",
     "shell.execute_reply": "2023-11-07T17:48:42.936257Z"
    },
    "papermill": {
     "duration": 0.132596,
     "end_time": "2023-11-07T17:48:42.940374",
     "exception": false,
     "start_time": "2023-11-07T17:48:42.807778",
     "status": "completed"
    },
    "tags": []
   },
   "outputs": [
    {
     "name": "stdout",
     "output_type": "stream",
     "text": [
      "                        *\n",
      "                       ***\n",
      "                      *****\n",
      "                     *******\n",
      "                    *********\n",
      "                   ***********\n",
      "                  *************\n",
      "                 ***************\n",
      "                *****************\n",
      "               *******************\n",
      "              *********************\n",
      "             ***********************\n",
      "            *************************\n",
      "           ***************************\n",
      "          *****************************\n",
      "         *******************************\n",
      "        *********************************\n",
      "       ***********************************\n",
      "      *************************************\n",
      "     ***************************************\n",
      "    *****************************************\n",
      "   *******************************************\n",
      "  *********************************************\n",
      " ***********************************************\n",
      "*************************************************\n",
      " ***********************************************\n",
      "  *********************************************\n",
      "   *******************************************\n",
      "    *****************************************\n",
      "     ***************************************\n",
      "      *************************************\n",
      "       ***********************************\n",
      "        *********************************\n",
      "         *******************************\n",
      "          *****************************\n",
      "           ***************************\n",
      "            *************************\n",
      "             ***********************\n",
      "              *********************\n",
      "               *******************\n",
      "                *****************\n",
      "                 ***************\n",
      "                  *************\n",
      "                   ***********\n",
      "                    *********\n",
      "                     *******\n",
      "                      *****\n",
      "                       ***\n",
      "                        *\n"
     ]
    }
   ],
   "source": [
    "n =25\n",
    "\n",
    "for i in range(n):\n",
    "    print(\" \"*(n-1-i),end=\"\")\n",
    "    print(\"*\"*((2*i)+1))\n",
    "for j in range(n-1):\n",
    "    print(\" \"*(j+1),end=\"\")\n",
    "    print(\"*\"*((2*(n-2-j))+1))"
   ]
  },
  {
   "cell_type": "markdown",
   "id": "704bd0d6",
   "metadata": {
    "papermill": {
     "duration": 0.115947,
     "end_time": "2023-11-07T17:48:43.177255",
     "exception": false,
     "start_time": "2023-11-07T17:48:43.061308",
     "status": "completed"
    },
    "tags": []
   },
   "source": [
    "# "
   ]
  },
  {
   "cell_type": "code",
   "execution_count": 151,
   "id": "bf0bfcbe",
   "metadata": {
    "execution": {
     "iopub.execute_input": "2023-11-07T17:48:43.415877Z",
     "iopub.status.busy": "2023-11-07T17:48:43.415098Z",
     "iopub.status.idle": "2023-11-07T17:48:43.419734Z",
     "shell.execute_reply": "2023-11-07T17:48:43.418623Z"
    },
    "papermill": {
     "duration": 0.128154,
     "end_time": "2023-11-07T17:48:43.422091",
     "exception": false,
     "start_time": "2023-11-07T17:48:43.293937",
     "status": "completed"
    },
    "tags": []
   },
   "outputs": [],
   "source": [
    "#    *    \n",
    "#   * *\n",
    "#  *   *\n",
    "# *     *\n",
    "#  *   *\n",
    "#   * *\n",
    "\n",
    "\n",
    "#    *"
   ]
  },
  {
   "cell_type": "code",
   "execution_count": 152,
   "id": "daab7570",
   "metadata": {
    "execution": {
     "iopub.execute_input": "2023-11-07T17:48:43.657615Z",
     "iopub.status.busy": "2023-11-07T17:48:43.657193Z",
     "iopub.status.idle": "2023-11-07T17:48:43.666396Z",
     "shell.execute_reply": "2023-11-07T17:48:43.665076Z"
    },
    "papermill": {
     "duration": 0.130963,
     "end_time": "2023-11-07T17:48:43.669765",
     "exception": false,
     "start_time": "2023-11-07T17:48:43.538802",
     "status": "completed"
    },
    "tags": []
   },
   "outputs": [
    {
     "name": "stdout",
     "output_type": "stream",
     "text": [
      "           *\n",
      "          * *\n",
      "         *   *\n",
      "        *     *\n",
      "       *       *\n",
      "      *         *\n",
      "     *           *\n",
      "    *             *\n",
      "   *               *\n",
      "  *                 *\n",
      " *                   *\n",
      "  *                 *\n",
      "   *               *\n",
      "    *             *\n",
      "     *           *\n",
      "      *         *\n",
      "       *       *\n",
      "        *     *\n",
      "         *   *\n",
      "          * *\n",
      "           *\n"
     ]
    }
   ],
   "source": [
    "n = 11\n",
    "# n = 4\n",
    "print(\" \"*(n-1),\"*\")\n",
    "for i in range((n-1)):\n",
    "    print(\" \"*(n-2-i),\"*\"+\" \"*((2*i )+1)+\"*\")\n",
    "for j in range(n-2):\n",
    "    print(\" \"*(j+1),\"*\"+\" \"*((2*(n-2-j))-1)+\"*\")\n",
    "    \n",
    "\n",
    "    \n",
    "print(\" \"*(n-1),\"*\")"
   ]
  },
  {
   "cell_type": "code",
   "execution_count": 153,
   "id": "5844cfe4",
   "metadata": {
    "execution": {
     "iopub.execute_input": "2023-11-07T17:48:43.921659Z",
     "iopub.status.busy": "2023-11-07T17:48:43.919879Z",
     "iopub.status.idle": "2023-11-07T17:48:43.925724Z",
     "shell.execute_reply": "2023-11-07T17:48:43.924531Z"
    },
    "papermill": {
     "duration": 0.13753,
     "end_time": "2023-11-07T17:48:43.928513",
     "exception": false,
     "start_time": "2023-11-07T17:48:43.790983",
     "status": "completed"
    },
    "tags": []
   },
   "outputs": [],
   "source": [
    "# 1\n",
    "# 1 1\n",
    "# 1 1 1\n",
    "# 1 1 1 1\n",
    "# 1 1 1 1 1"
   ]
  },
  {
   "cell_type": "code",
   "execution_count": 154,
   "id": "7c8ac74b",
   "metadata": {
    "execution": {
     "iopub.execute_input": "2023-11-07T17:48:44.168676Z",
     "iopub.status.busy": "2023-11-07T17:48:44.167783Z",
     "iopub.status.idle": "2023-11-07T17:48:44.175231Z",
     "shell.execute_reply": "2023-11-07T17:48:44.173750Z"
    },
    "papermill": {
     "duration": 0.131194,
     "end_time": "2023-11-07T17:48:44.178335",
     "exception": false,
     "start_time": "2023-11-07T17:48:44.047141",
     "status": "completed"
    },
    "tags": []
   },
   "outputs": [
    {
     "name": "stdout",
     "output_type": "stream",
     "text": [
      "1 \n",
      "1 1 \n",
      "1 1 1 \n",
      "1 1 1 1 \n",
      "1 1 1 1 1 \n"
     ]
    }
   ],
   "source": [
    "for i in range(5):\n",
    "    print(\"1 \"*(i+1))"
   ]
  },
  {
   "cell_type": "code",
   "execution_count": 155,
   "id": "29145902",
   "metadata": {
    "execution": {
     "iopub.execute_input": "2023-11-07T17:48:44.413873Z",
     "iopub.status.busy": "2023-11-07T17:48:44.413505Z",
     "iopub.status.idle": "2023-11-07T17:48:44.418123Z",
     "shell.execute_reply": "2023-11-07T17:48:44.416898Z"
    },
    "papermill": {
     "duration": 0.124525,
     "end_time": "2023-11-07T17:48:44.420769",
     "exception": false,
     "start_time": "2023-11-07T17:48:44.296244",
     "status": "completed"
    },
    "tags": []
   },
   "outputs": [],
   "source": [
    "# 1\n",
    "# 1 2\n",
    "# 1 2 3\n",
    "# 1 2 3 4\n",
    "# 1 2 3 4 5"
   ]
  },
  {
   "cell_type": "code",
   "execution_count": 156,
   "id": "adaf09aa",
   "metadata": {
    "execution": {
     "iopub.execute_input": "2023-11-07T17:48:44.657420Z",
     "iopub.status.busy": "2023-11-07T17:48:44.657015Z",
     "iopub.status.idle": "2023-11-07T17:48:44.663668Z",
     "shell.execute_reply": "2023-11-07T17:48:44.662351Z"
    },
    "papermill": {
     "duration": 0.128348,
     "end_time": "2023-11-07T17:48:44.666907",
     "exception": false,
     "start_time": "2023-11-07T17:48:44.538559",
     "status": "completed"
    },
    "tags": []
   },
   "outputs": [
    {
     "name": "stdout",
     "output_type": "stream",
     "text": [
      "1 \n",
      "1 2 \n",
      "1 2 3 \n",
      "1 2 3 4 \n",
      "1 2 3 4 5 \n"
     ]
    }
   ],
   "source": [
    "for i in range(5):\n",
    "    for j in range(i+1) :\n",
    "        print(j+1,end=\" \")\n",
    "    print()"
   ]
  },
  {
   "cell_type": "code",
   "execution_count": 157,
   "id": "7fff28d9",
   "metadata": {
    "execution": {
     "iopub.execute_input": "2023-11-07T17:48:44.901865Z",
     "iopub.status.busy": "2023-11-07T17:48:44.901486Z",
     "iopub.status.idle": "2023-11-07T17:48:44.906445Z",
     "shell.execute_reply": "2023-11-07T17:48:44.905043Z"
    },
    "papermill": {
     "duration": 0.125457,
     "end_time": "2023-11-07T17:48:44.908957",
     "exception": false,
     "start_time": "2023-11-07T17:48:44.783500",
     "status": "completed"
    },
    "tags": []
   },
   "outputs": [],
   "source": [
    "#       1\n",
    "#     1 2 1\n",
    "#   1 2 3 2 1 \n",
    "# 1 2 3 4 3 2 1\n",
    "#   1 2 3 2 1\n",
    "#     1 2 1\n",
    "#       1"
   ]
  },
  {
   "cell_type": "code",
   "execution_count": 158,
   "id": "9584bccb",
   "metadata": {
    "execution": {
     "iopub.execute_input": "2023-11-07T17:48:45.144128Z",
     "iopub.status.busy": "2023-11-07T17:48:45.143765Z",
     "iopub.status.idle": "2023-11-07T17:48:45.154765Z",
     "shell.execute_reply": "2023-11-07T17:48:45.153372Z"
    },
    "papermill": {
     "duration": 0.13346,
     "end_time": "2023-11-07T17:48:45.157553",
     "exception": false,
     "start_time": "2023-11-07T17:48:45.024093",
     "status": "completed"
    },
    "tags": []
   },
   "outputs": [
    {
     "name": "stdout",
     "output_type": "stream",
     "text": [
      "              1 \n",
      "            1 2 1 \n",
      "          1 2 3 2 1 \n",
      "        1 2 3 4 3 2 1 \n",
      "      1 2 3 4 5 4 3 2 1 \n",
      "    1 2 3 4 5 6 5 4 3 2 1 \n",
      "  1 2 3 4 5 6 7 6 5 4 3 2 1 \n",
      "1 2 3 4 5 6 7 8 7 6 5 4 3 2 1 \n",
      "  1 2 3 4 5 6 7 6 5 4 3 2 1 \n",
      "    1 2 3 4 5 6 5 4 3 2 1 \n",
      "      1 2 3 4 5 4 3 2 1 \n",
      "        1 2 3 4 3 2 1 \n",
      "          1 2 3 2 1 \n",
      "            1 2 1 \n",
      "              1 \n"
     ]
    }
   ],
   "source": [
    "n = 8\n",
    "# 4\n",
    "for i in range(n):\n",
    "    print(\" \"*(2*(n-1-i)),end=\"\")\n",
    "    for j in range(i+1):\n",
    "        print(j+1 ,end=\" \")\n",
    "    for k in range(i-1,-1,-1):\n",
    "        print(k+1 ,end=\" \")\n",
    "    print()\n",
    "for p in range(n-1) : # 0 13\n",
    "    print(\" \"*(2*(p+1)),end=\"\")\n",
    "    for q in range(n-1-p) :\n",
    "        print(q+1,end=\" \")        \n",
    "    for r in range(n-p-3,-1,-1):\n",
    "        print(r+1,end=\" \")\n",
    "    print()"
   ]
  },
  {
   "cell_type": "markdown",
   "id": "0a673c91",
   "metadata": {
    "execution": {
     "iopub.execute_input": "2023-10-20T17:08:22.412842Z",
     "iopub.status.busy": "2023-10-20T17:08:22.412393Z",
     "iopub.status.idle": "2023-10-20T17:08:22.418210Z",
     "shell.execute_reply": "2023-10-20T17:08:22.417396Z",
     "shell.execute_reply.started": "2023-10-20T17:08:22.412813Z"
    },
    "papermill": {
     "duration": 0.127955,
     "end_time": "2023-11-07T17:48:45.411777",
     "exception": false,
     "start_time": "2023-11-07T17:48:45.283822",
     "status": "completed"
    },
    "tags": []
   },
   "source": [
    "# for i in range(4):\n",
    "    print(i, end=\" \")"
   ]
  },
  {
   "cell_type": "code",
   "execution_count": 159,
   "id": "7a0521e6",
   "metadata": {
    "execution": {
     "iopub.execute_input": "2023-11-07T17:48:45.663141Z",
     "iopub.status.busy": "2023-11-07T17:48:45.662728Z",
     "iopub.status.idle": "2023-11-07T17:48:45.669795Z",
     "shell.execute_reply": "2023-11-07T17:48:45.668389Z"
    },
    "papermill": {
     "duration": 0.131358,
     "end_time": "2023-11-07T17:48:45.673107",
     "exception": false,
     "start_time": "2023-11-07T17:48:45.541749",
     "status": "completed"
    },
    "tags": []
   },
   "outputs": [
    {
     "name": "stdout",
     "output_type": "stream",
     "text": [
      "3 2 1 0 "
     ]
    }
   ],
   "source": [
    "for i in range(3,-1,-1):\n",
    "    print(i, end=\" \")"
   ]
  },
  {
   "cell_type": "code",
   "execution_count": 160,
   "id": "b6fb6911",
   "metadata": {
    "execution": {
     "iopub.execute_input": "2023-11-07T17:48:45.914993Z",
     "iopub.status.busy": "2023-11-07T17:48:45.914565Z",
     "iopub.status.idle": "2023-11-07T17:48:45.919791Z",
     "shell.execute_reply": "2023-11-07T17:48:45.918594Z"
    },
    "papermill": {
     "duration": 0.130106,
     "end_time": "2023-11-07T17:48:45.922498",
     "exception": false,
     "start_time": "2023-11-07T17:48:45.792392",
     "status": "completed"
    },
    "tags": []
   },
   "outputs": [],
   "source": [
    "# 0  \n",
    "\n",
    "# 0 1  \n",
    "\n",
    "# 0 2 4  \n",
    "\n",
    "# 0 3 6 9  \n",
    "\n",
    "# 0 4 8 12 16  \n",
    "\n",
    "# 0 5 10 15 20 25  \n",
    "\n",
    "# 0 6 12 18 24 30 36"
   ]
  },
  {
   "cell_type": "code",
   "execution_count": 161,
   "id": "20a4108c",
   "metadata": {
    "execution": {
     "iopub.execute_input": "2023-11-07T17:48:46.185236Z",
     "iopub.status.busy": "2023-11-07T17:48:46.184853Z",
     "iopub.status.idle": "2023-11-07T17:48:46.194420Z",
     "shell.execute_reply": "2023-11-07T17:48:46.192552Z"
    },
    "papermill": {
     "duration": 0.144665,
     "end_time": "2023-11-07T17:48:46.198169",
     "exception": false,
     "start_time": "2023-11-07T17:48:46.053504",
     "status": "completed"
    },
    "tags": []
   },
   "outputs": [
    {
     "name": "stdout",
     "output_type": "stream",
     "text": [
      "0 \n",
      "0 1 \n",
      "0 2 4 \n",
      "0 3 6 9 \n",
      "0 4 8 12 16 \n",
      "0 5 10 15 20 25 \n",
      "0 6 12 18 24 30 36 \n",
      "0 7 14 21 28 35 42 49 \n",
      "0 8 16 24 32 40 48 56 64 \n",
      "0 9 18 27 36 45 54 63 72 81 \n",
      "0 10 20 30 40 50 60 70 80 90 100 \n",
      "0 11 22 33 44 55 66 77 88 99 110 121 \n",
      "0 12 24 36 48 60 72 84 96 108 120 132 144 \n",
      "0 13 26 39 52 65 78 91 104 117 130 143 156 169 \n",
      "0 14 28 42 56 70 84 98 112 126 140 154 168 182 196 \n",
      "0 15 30 45 60 75 90 105 120 135 150 165 180 195 210 225 \n"
     ]
    }
   ],
   "source": [
    "n = 15\n",
    "# 6\n",
    "for i in range(n+1):\n",
    "    for j in range(i+1):\n",
    "        print(j*i,end=\" \")\n",
    "    print()"
   ]
  },
  {
   "cell_type": "code",
   "execution_count": 162,
   "id": "98d610e4",
   "metadata": {
    "execution": {
     "iopub.execute_input": "2023-11-07T17:48:46.458828Z",
     "iopub.status.busy": "2023-11-07T17:48:46.458422Z",
     "iopub.status.idle": "2023-11-07T17:48:46.463892Z",
     "shell.execute_reply": "2023-11-07T17:48:46.462579Z"
    },
    "papermill": {
     "duration": 0.141811,
     "end_time": "2023-11-07T17:48:46.467436",
     "exception": false,
     "start_time": "2023-11-07T17:48:46.325625",
     "status": "completed"
    },
    "tags": []
   },
   "outputs": [],
   "source": [
    "# 1 \n",
    "\n",
    "# 3 3 \n",
    "\n",
    "# 5 5 5 \n",
    "\n",
    "# 7 7 7 7 \n",
    "\n",
    "# 9 9 9 9 9"
   ]
  },
  {
   "cell_type": "code",
   "execution_count": 163,
   "id": "0ac64cd7",
   "metadata": {
    "execution": {
     "iopub.execute_input": "2023-11-07T17:48:46.711463Z",
     "iopub.status.busy": "2023-11-07T17:48:46.711053Z",
     "iopub.status.idle": "2023-11-07T17:48:46.717869Z",
     "shell.execute_reply": "2023-11-07T17:48:46.716601Z"
    },
    "papermill": {
     "duration": 0.129647,
     "end_time": "2023-11-07T17:48:46.720667",
     "exception": false,
     "start_time": "2023-11-07T17:48:46.591020",
     "status": "completed"
    },
    "tags": []
   },
   "outputs": [
    {
     "name": "stdout",
     "output_type": "stream",
     "text": [
      "1 \n",
      "3 3 \n",
      "5 5 5 \n",
      "7 7 7 7 \n",
      "9 9 9 9 9 \n"
     ]
    }
   ],
   "source": [
    "\n",
    "n = 5\n",
    "for i in range(n):\n",
    "    for j in range(i+1):\n",
    "        print((2*i)+1,end=\" \")\n",
    "    print()"
   ]
  },
  {
   "cell_type": "code",
   "execution_count": 164,
   "id": "56d2fc52",
   "metadata": {
    "execution": {
     "iopub.execute_input": "2023-11-07T17:48:46.960335Z",
     "iopub.status.busy": "2023-11-07T17:48:46.959897Z",
     "iopub.status.idle": "2023-11-07T17:48:46.964664Z",
     "shell.execute_reply": "2023-11-07T17:48:46.963516Z"
    },
    "papermill": {
     "duration": 0.128157,
     "end_time": "2023-11-07T17:48:46.967005",
     "exception": false,
     "start_time": "2023-11-07T17:48:46.838848",
     "status": "completed"
    },
    "tags": []
   },
   "outputs": [],
   "source": [
    "# ******\n",
    "#     *\n",
    "#    *\n",
    "#   *\n",
    "#  *\n",
    "# ******"
   ]
  },
  {
   "cell_type": "code",
   "execution_count": 165,
   "id": "c04d0e00",
   "metadata": {
    "execution": {
     "iopub.execute_input": "2023-11-07T17:48:47.211637Z",
     "iopub.status.busy": "2023-11-07T17:48:47.211244Z",
     "iopub.status.idle": "2023-11-07T17:48:47.217591Z",
     "shell.execute_reply": "2023-11-07T17:48:47.216369Z"
    },
    "papermill": {
     "duration": 0.132333,
     "end_time": "2023-11-07T17:48:47.220429",
     "exception": false,
     "start_time": "2023-11-07T17:48:47.088096",
     "status": "completed"
    },
    "tags": []
   },
   "outputs": [
    {
     "name": "stdout",
     "output_type": "stream",
     "text": [
      "************\n",
      "          *\n",
      "         *\n",
      "        *\n",
      "       *\n",
      "      *\n",
      "     *\n",
      "    *\n",
      "   *\n",
      "  *\n",
      " *\n",
      "************\n"
     ]
    }
   ],
   "source": [
    "n = 12\n",
    "print(\"*\"*n)\n",
    "for i in range(n-2):\n",
    "    print(\" \"*(n-2-i),end=\"\")\n",
    "    print(\"*\")\n",
    "print(\"*\"*n)"
   ]
  },
  {
   "cell_type": "code",
   "execution_count": 166,
   "id": "bc5cbf9e",
   "metadata": {
    "execution": {
     "iopub.execute_input": "2023-11-07T17:48:47.525909Z",
     "iopub.status.busy": "2023-11-07T17:48:47.525442Z",
     "iopub.status.idle": "2023-11-07T17:48:47.530401Z",
     "shell.execute_reply": "2023-11-07T17:48:47.529148Z"
    },
    "papermill": {
     "duration": 0.125426,
     "end_time": "2023-11-07T17:48:47.533128",
     "exception": false,
     "start_time": "2023-11-07T17:48:47.407702",
     "status": "completed"
    },
    "tags": []
   },
   "outputs": [],
   "source": [
    "# 1 2 3 * * * N\n",
    "#           *\n",
    "#         *\n",
    "#       *\n",
    "#     3\n",
    "#   2\n",
    "# 1 2 3 * * * N\n"
   ]
  },
  {
   "cell_type": "code",
   "execution_count": 167,
   "id": "e344004b",
   "metadata": {
    "execution": {
     "iopub.execute_input": "2023-11-07T17:48:47.778611Z",
     "iopub.status.busy": "2023-11-07T17:48:47.777687Z",
     "iopub.status.idle": "2023-11-07T17:48:47.789186Z",
     "shell.execute_reply": "2023-11-07T17:48:47.787663Z"
    },
    "papermill": {
     "duration": 0.143194,
     "end_time": "2023-11-07T17:48:47.794682",
     "exception": false,
     "start_time": "2023-11-07T17:48:47.651488",
     "status": "completed"
    },
    "tags": []
   },
   "outputs": [
    {
     "name": "stdout",
     "output_type": "stream",
     "text": [
      "1 2 3 * * * N\n",
      "\n",
      "          *\n",
      "        *\n",
      "      *\n",
      "    3\n",
      "  2\n",
      "1 2 3 * * * N\n"
     ]
    }
   ],
   "source": [
    "for i in range(3):\n",
    "    print(i+1, end=\" \")\n",
    "for j in range(3):\n",
    "    print(\"* \",end=\"\")\n",
    "print(\"N\")\n",
    "\n",
    "print()\n",
    "for k in range(3):\n",
    "    print(\" \"*(2*(5-k)),end=\"\")\n",
    "    print(\"*\")\n",
    "for m in range(2):\n",
    "    print(\" \"*(2*(2-m)),end=\"\")\n",
    "    print(3-m)   \n",
    "    \n",
    "    \n",
    "for i in range(3):\n",
    "    print(i+1, end=\" \")\n",
    "for j in range(3):\n",
    "    print(\"* \",end=\"\")\n",
    "print(\"N\")"
   ]
  },
  {
   "cell_type": "code",
   "execution_count": 168,
   "id": "aedc4365",
   "metadata": {
    "execution": {
     "iopub.execute_input": "2023-11-07T17:48:48.051682Z",
     "iopub.status.busy": "2023-11-07T17:48:48.050672Z",
     "iopub.status.idle": "2023-11-07T17:48:48.058727Z",
     "shell.execute_reply": "2023-11-07T17:48:48.057382Z"
    },
    "papermill": {
     "duration": 0.140274,
     "end_time": "2023-11-07T17:48:48.061168",
     "exception": false,
     "start_time": "2023-11-07T17:48:47.920894",
     "status": "completed"
    },
    "tags": []
   },
   "outputs": [
    {
     "name": "stdout",
     "output_type": "stream",
     "text": [
      "prasad  is not eligible\n"
     ]
    }
   ],
   "source": [
    "m1 = 80\n",
    "m2 = 40\n",
    "student = \"prasad\"\n",
    "\n",
    "\n",
    "if m1 > 50 and m2 > 50 :\n",
    "    print(student , \" is eligible\")\n",
    "else :\n",
    "    print(student,\" is not eligible\")"
   ]
  },
  {
   "cell_type": "code",
   "execution_count": 169,
   "id": "0fcf83c8",
   "metadata": {
    "execution": {
     "iopub.execute_input": "2023-11-07T17:48:48.331950Z",
     "iopub.status.busy": "2023-11-07T17:48:48.331583Z",
     "iopub.status.idle": "2023-11-07T17:48:48.338452Z",
     "shell.execute_reply": "2023-11-07T17:48:48.337349Z"
    },
    "papermill": {
     "duration": 0.135905,
     "end_time": "2023-11-07T17:48:48.340966",
     "exception": false,
     "start_time": "2023-11-07T17:48:48.205061",
     "status": "completed"
    },
    "tags": []
   },
   "outputs": [
    {
     "name": "stdout",
     "output_type": "stream",
     "text": [
      "sushmitha  is eligible\n"
     ]
    }
   ],
   "source": [
    "m1 = 70\n",
    "m2 = 80\n",
    "student = \"sushmitha\"\n",
    "if m1 > 50 and m2 > 50 :\n",
    "    print(student , \" is eligible\")\n",
    "else :\n",
    "    print(student,\" is not eligible\")\n"
   ]
  },
  {
   "cell_type": "code",
   "execution_count": 170,
   "id": "cf22f721",
   "metadata": {
    "execution": {
     "iopub.execute_input": "2023-11-07T17:48:48.588273Z",
     "iopub.status.busy": "2023-11-07T17:48:48.587496Z",
     "iopub.status.idle": "2023-11-07T17:48:48.593023Z",
     "shell.execute_reply": "2023-11-07T17:48:48.592151Z"
    },
    "papermill": {
     "duration": 0.13377,
     "end_time": "2023-11-07T17:48:48.595549",
     "exception": false,
     "start_time": "2023-11-07T17:48:48.461779",
     "status": "completed"
    },
    "tags": []
   },
   "outputs": [],
   "source": [
    "def level(a,b,student) :\n",
    "    c = a+b\n",
    "    print(student,\" got \", c ,\" marks\")"
   ]
  },
  {
   "cell_type": "code",
   "execution_count": 171,
   "id": "52377b16",
   "metadata": {
    "execution": {
     "iopub.execute_input": "2023-11-07T17:48:48.835024Z",
     "iopub.status.busy": "2023-11-07T17:48:48.834216Z",
     "iopub.status.idle": "2023-11-07T17:48:48.840483Z",
     "shell.execute_reply": "2023-11-07T17:48:48.839302Z"
    },
    "papermill": {
     "duration": 0.128483,
     "end_time": "2023-11-07T17:48:48.842828",
     "exception": false,
     "start_time": "2023-11-07T17:48:48.714345",
     "status": "completed"
    },
    "tags": []
   },
   "outputs": [
    {
     "name": "stdout",
     "output_type": "stream",
     "text": [
      "prasad  got  90  marks\n"
     ]
    }
   ],
   "source": [
    "level(40,50,\"prasad\")"
   ]
  },
  {
   "cell_type": "code",
   "execution_count": 172,
   "id": "d0a9b3f7",
   "metadata": {
    "execution": {
     "iopub.execute_input": "2023-11-07T17:48:49.081313Z",
     "iopub.status.busy": "2023-11-07T17:48:49.080899Z",
     "iopub.status.idle": "2023-11-07T17:48:49.086219Z",
     "shell.execute_reply": "2023-11-07T17:48:49.085387Z"
    },
    "papermill": {
     "duration": 0.126806,
     "end_time": "2023-11-07T17:48:49.089416",
     "exception": false,
     "start_time": "2023-11-07T17:48:48.962610",
     "status": "completed"
    },
    "tags": []
   },
   "outputs": [
    {
     "name": "stdout",
     "output_type": "stream",
     "text": [
      "sush  got  130  marks\n"
     ]
    }
   ],
   "source": [
    "level(80,50,\"sush\")"
   ]
  },
  {
   "cell_type": "code",
   "execution_count": 173,
   "id": "ecb441b6",
   "metadata": {
    "execution": {
     "iopub.execute_input": "2023-11-07T17:48:49.332953Z",
     "iopub.status.busy": "2023-11-07T17:48:49.331710Z",
     "iopub.status.idle": "2023-11-07T17:48:49.339458Z",
     "shell.execute_reply": "2023-11-07T17:48:49.338266Z"
    },
    "papermill": {
     "duration": 0.131255,
     "end_time": "2023-11-07T17:48:49.341802",
     "exception": false,
     "start_time": "2023-11-07T17:48:49.210547",
     "status": "completed"
    },
    "tags": []
   },
   "outputs": [
    {
     "name": "stdout",
     "output_type": "stream",
     "text": [
      "--\n",
      "50\n",
      "def  is not eligible\n"
     ]
    }
   ],
   "source": [
    "\n",
    "\n",
    "def marks (m1,m2,student=\"def\"):\n",
    "    print(m1)\n",
    "    if m1 > 50 and m2 > 50 :\n",
    "        print(student , \" is eligible\")\n",
    "    else :\n",
    "        print(student,\" is not eligible\")\n",
    "        \n",
    "        \n",
    "        \n",
    "print(\"--\")\n",
    "\n",
    "        \n",
    "        \n",
    "        \n",
    "        \n",
    "marks(m1=50,m2=40)"
   ]
  },
  {
   "cell_type": "code",
   "execution_count": 174,
   "id": "3fefc177",
   "metadata": {
    "execution": {
     "iopub.execute_input": "2023-11-07T17:48:49.586102Z",
     "iopub.status.busy": "2023-11-07T17:48:49.585302Z",
     "iopub.status.idle": "2023-11-07T17:48:49.592174Z",
     "shell.execute_reply": "2023-11-07T17:48:49.590638Z"
    },
    "papermill": {
     "duration": 0.133489,
     "end_time": "2023-11-07T17:48:49.596165",
     "exception": false,
     "start_time": "2023-11-07T17:48:49.462676",
     "status": "completed"
    },
    "tags": []
   },
   "outputs": [
    {
     "name": "stdout",
     "output_type": "stream",
     "text": [
      "80\n",
      "swapna  is eligible\n"
     ]
    }
   ],
   "source": [
    "marks(student = \"swapna\",m2=90,m1=80)"
   ]
  },
  {
   "cell_type": "code",
   "execution_count": 175,
   "id": "b93a3ebf",
   "metadata": {
    "execution": {
     "iopub.execute_input": "2023-11-07T17:48:49.838420Z",
     "iopub.status.busy": "2023-11-07T17:48:49.837712Z",
     "iopub.status.idle": "2023-11-07T17:48:49.841677Z",
     "shell.execute_reply": "2023-11-07T17:48:49.840828Z"
    },
    "papermill": {
     "duration": 0.1277,
     "end_time": "2023-11-07T17:48:49.844799",
     "exception": false,
     "start_time": "2023-11-07T17:48:49.717099",
     "status": "completed"
    },
    "tags": []
   },
   "outputs": [],
   "source": [
    "# marks(\"student\",90,80)"
   ]
  },
  {
   "cell_type": "code",
   "execution_count": 176,
   "id": "a305c1cb",
   "metadata": {
    "execution": {
     "iopub.execute_input": "2023-11-07T17:48:50.093451Z",
     "iopub.status.busy": "2023-11-07T17:48:50.091721Z",
     "iopub.status.idle": "2023-11-07T17:48:50.099709Z",
     "shell.execute_reply": "2023-11-07T17:48:50.097953Z"
    },
    "papermill": {
     "duration": 0.137372,
     "end_time": "2023-11-07T17:48:50.102497",
     "exception": false,
     "start_time": "2023-11-07T17:48:49.965125",
     "status": "completed"
    },
    "tags": []
   },
   "outputs": [
    {
     "name": "stdout",
     "output_type": "stream",
     "text": [
      "30\n",
      "parth  is not eligible\n"
     ]
    }
   ],
   "source": [
    "marks(30,30,\"parth\")"
   ]
  },
  {
   "cell_type": "code",
   "execution_count": 177,
   "id": "1c7fee3c",
   "metadata": {
    "execution": {
     "iopub.execute_input": "2023-11-07T17:48:50.363867Z",
     "iopub.status.busy": "2023-11-07T17:48:50.363398Z",
     "iopub.status.idle": "2023-11-07T17:48:50.369795Z",
     "shell.execute_reply": "2023-11-07T17:48:50.368114Z"
    },
    "papermill": {
     "duration": 0.128115,
     "end_time": "2023-11-07T17:48:50.372886",
     "exception": false,
     "start_time": "2023-11-07T17:48:50.244771",
     "status": "completed"
    },
    "tags": []
   },
   "outputs": [
    {
     "name": "stdout",
     "output_type": "stream",
     "text": [
      "90\n",
      "tayyab  is eligible\n"
     ]
    }
   ],
   "source": [
    "marks(90,90,\"tayyab\")"
   ]
  },
  {
   "cell_type": "code",
   "execution_count": 178,
   "id": "6594aa76",
   "metadata": {
    "execution": {
     "iopub.execute_input": "2023-11-07T17:48:50.615181Z",
     "iopub.status.busy": "2023-11-07T17:48:50.612873Z",
     "iopub.status.idle": "2023-11-07T17:48:50.622486Z",
     "shell.execute_reply": "2023-11-07T17:48:50.621372Z"
    },
    "papermill": {
     "duration": 0.131693,
     "end_time": "2023-11-07T17:48:50.624822",
     "exception": false,
     "start_time": "2023-11-07T17:48:50.493129",
     "status": "completed"
    },
    "tags": []
   },
   "outputs": [
    {
     "name": "stdout",
     "output_type": "stream",
     "text": [
      "0\n",
      "st  is not eligible\n"
     ]
    }
   ],
   "source": [
    "\n",
    "\n",
    "def marks (m1=0,m2=0,student=\"st\") :\n",
    "    print(m1)\n",
    "    if m1 > 50 and m2 > 50 :\n",
    "        print(student , \" is eligible\")\n",
    "    else :\n",
    "        print(student,\" is not eligible\")\n",
    "        \n",
    "marks()"
   ]
  },
  {
   "cell_type": "code",
   "execution_count": 179,
   "id": "8e242719",
   "metadata": {
    "execution": {
     "iopub.execute_input": "2023-11-07T17:48:50.864679Z",
     "iopub.status.busy": "2023-11-07T17:48:50.864027Z",
     "iopub.status.idle": "2023-11-07T17:48:50.868257Z",
     "shell.execute_reply": "2023-11-07T17:48:50.867464Z"
    },
    "papermill": {
     "duration": 0.125989,
     "end_time": "2023-11-07T17:48:50.870476",
     "exception": false,
     "start_time": "2023-11-07T17:48:50.744487",
     "status": "completed"
    },
    "tags": []
   },
   "outputs": [],
   "source": [
    "# print \n",
    "# return"
   ]
  },
  {
   "cell_type": "code",
   "execution_count": 180,
   "id": "848aadb6",
   "metadata": {
    "execution": {
     "iopub.execute_input": "2023-11-07T17:48:51.108164Z",
     "iopub.status.busy": "2023-11-07T17:48:51.107545Z",
     "iopub.status.idle": "2023-11-07T17:48:51.114743Z",
     "shell.execute_reply": "2023-11-07T17:48:51.112942Z"
    },
    "papermill": {
     "duration": 0.130177,
     "end_time": "2023-11-07T17:48:51.117927",
     "exception": false,
     "start_time": "2023-11-07T17:48:50.987750",
     "status": "completed"
    },
    "tags": []
   },
   "outputs": [
    {
     "name": "stdout",
     "output_type": "stream",
     "text": [
      "---- 15\n"
     ]
    }
   ],
   "source": [
    "def add (a,b) :\n",
    "    c = a+b\n",
    "    return c\n",
    "\n",
    "p= add(5,10)\n",
    "print(\"----\",p)"
   ]
  },
  {
   "cell_type": "code",
   "execution_count": 181,
   "id": "8f2fad45",
   "metadata": {
    "execution": {
     "iopub.execute_input": "2023-11-07T17:48:51.434533Z",
     "iopub.status.busy": "2023-11-07T17:48:51.433512Z",
     "iopub.status.idle": "2023-11-07T17:48:51.440539Z",
     "shell.execute_reply": "2023-11-07T17:48:51.439120Z"
    },
    "papermill": {
     "duration": 0.20359,
     "end_time": "2023-11-07T17:48:51.443207",
     "exception": false,
     "start_time": "2023-11-07T17:48:51.239617",
     "status": "completed"
    },
    "tags": []
   },
   "outputs": [
    {
     "name": "stdout",
     "output_type": "stream",
     "text": [
      "15\n",
      "---- None\n"
     ]
    }
   ],
   "source": [
    "def add (a,b) :\n",
    "    c = a+b\n",
    "    print(c)\n",
    "\n",
    "p = add(5,10)\n",
    "print(\"----\",p)"
   ]
  },
  {
   "cell_type": "code",
   "execution_count": 182,
   "id": "eead7041",
   "metadata": {
    "execution": {
     "iopub.execute_input": "2023-11-07T17:48:51.697070Z",
     "iopub.status.busy": "2023-11-07T17:48:51.696698Z",
     "iopub.status.idle": "2023-11-07T17:48:51.701245Z",
     "shell.execute_reply": "2023-11-07T17:48:51.700050Z"
    },
    "papermill": {
     "duration": 0.135769,
     "end_time": "2023-11-07T17:48:51.703899",
     "exception": false,
     "start_time": "2023-11-07T17:48:51.568130",
     "status": "completed"
    },
    "tags": []
   },
   "outputs": [],
   "source": [
    "# if add(5,10 ) > 10 :\n",
    "#     print(\"eligible\")\n",
    "# else :\n",
    "#     print(\"not eligible\")"
   ]
  },
  {
   "cell_type": "code",
   "execution_count": 183,
   "id": "6eb712eb",
   "metadata": {
    "execution": {
     "iopub.execute_input": "2023-11-07T17:48:51.972921Z",
     "iopub.status.busy": "2023-11-07T17:48:51.972521Z",
     "iopub.status.idle": "2023-11-07T17:48:51.980500Z",
     "shell.execute_reply": "2023-11-07T17:48:51.978865Z"
    },
    "papermill": {
     "duration": 0.145694,
     "end_time": "2023-11-07T17:48:51.983251",
     "exception": false,
     "start_time": "2023-11-07T17:48:51.837557",
     "status": "completed"
    },
    "tags": []
   },
   "outputs": [
    {
     "data": {
      "text/plain": [
       "15"
      ]
     },
     "execution_count": 183,
     "metadata": {},
     "output_type": "execute_result"
    }
   ],
   "source": [
    "def add (a,b) :\n",
    "    c = a+b\n",
    "    return c\n",
    "\n",
    "add(5,10)"
   ]
  },
  {
   "cell_type": "code",
   "execution_count": 184,
   "id": "5a9c70be",
   "metadata": {
    "execution": {
     "iopub.execute_input": "2023-11-07T17:48:52.233001Z",
     "iopub.status.busy": "2023-11-07T17:48:52.232589Z",
     "iopub.status.idle": "2023-11-07T17:48:52.239855Z",
     "shell.execute_reply": "2023-11-07T17:48:52.238657Z"
    },
    "papermill": {
     "duration": 0.137714,
     "end_time": "2023-11-07T17:48:52.242634",
     "exception": false,
     "start_time": "2023-11-07T17:48:52.104920",
     "status": "completed"
    },
    "tags": []
   },
   "outputs": [
    {
     "data": {
      "text/plain": [
       "17"
      ]
     },
     "execution_count": 184,
     "metadata": {},
     "output_type": "execute_result"
    }
   ],
   "source": [
    "add = lambda  a,b : a+b\n",
    "add(7,10)"
   ]
  },
  {
   "cell_type": "code",
   "execution_count": 185,
   "id": "01cc8306",
   "metadata": {
    "execution": {
     "iopub.execute_input": "2023-11-07T17:48:52.504726Z",
     "iopub.status.busy": "2023-11-07T17:48:52.504272Z",
     "iopub.status.idle": "2023-11-07T17:48:52.511672Z",
     "shell.execute_reply": "2023-11-07T17:48:52.510385Z"
    },
    "papermill": {
     "duration": 0.138999,
     "end_time": "2023-11-07T17:48:52.513887",
     "exception": false,
     "start_time": "2023-11-07T17:48:52.374888",
     "status": "completed"
    },
    "tags": []
   },
   "outputs": [
    {
     "data": {
      "text/plain": [
       "30"
      ]
     },
     "execution_count": 185,
     "metadata": {},
     "output_type": "execute_result"
    }
   ],
   "source": [
    "add(10,20)"
   ]
  },
  {
   "cell_type": "code",
   "execution_count": 186,
   "id": "0541fc78",
   "metadata": {
    "execution": {
     "iopub.execute_input": "2023-11-07T17:48:52.757231Z",
     "iopub.status.busy": "2023-11-07T17:48:52.756790Z",
     "iopub.status.idle": "2023-11-07T17:48:52.760997Z",
     "shell.execute_reply": "2023-11-07T17:48:52.760110Z"
    },
    "papermill": {
     "duration": 0.12919,
     "end_time": "2023-11-07T17:48:52.763278",
     "exception": false,
     "start_time": "2023-11-07T17:48:52.634088",
     "status": "completed"
    },
    "tags": []
   },
   "outputs": [],
   "source": [
    "# list comprehenison :  list + for loop / any loop"
   ]
  },
  {
   "cell_type": "code",
   "execution_count": 187,
   "id": "fe70a743",
   "metadata": {
    "execution": {
     "iopub.execute_input": "2023-11-07T17:48:53.009338Z",
     "iopub.status.busy": "2023-11-07T17:48:53.008908Z",
     "iopub.status.idle": "2023-11-07T17:48:53.017301Z",
     "shell.execute_reply": "2023-11-07T17:48:53.016055Z"
    },
    "papermill": {
     "duration": 0.136667,
     "end_time": "2023-11-07T17:48:53.020039",
     "exception": false,
     "start_time": "2023-11-07T17:48:52.883372",
     "status": "completed"
    },
    "tags": []
   },
   "outputs": [
    {
     "data": {
      "text/plain": [
       "[20, 30]"
      ]
     },
     "execution_count": 187,
     "metadata": {},
     "output_type": "execute_result"
    }
   ],
   "source": [
    "a = [20 ,25,30,35]\n",
    "\n",
    "even = []\n",
    "\n",
    "for i in a :\n",
    "    if i%2 == 0 :\n",
    "        even.append(i)\n",
    "        \n",
    "        \n",
    "        \n",
    "even"
   ]
  },
  {
   "cell_type": "code",
   "execution_count": 188,
   "id": "ab1d4ef9",
   "metadata": {
    "execution": {
     "iopub.execute_input": "2023-11-07T17:48:53.263963Z",
     "iopub.status.busy": "2023-11-07T17:48:53.263171Z",
     "iopub.status.idle": "2023-11-07T17:48:53.271448Z",
     "shell.execute_reply": "2023-11-07T17:48:53.270246Z"
    },
    "papermill": {
     "duration": 0.132761,
     "end_time": "2023-11-07T17:48:53.274823",
     "exception": false,
     "start_time": "2023-11-07T17:48:53.142062",
     "status": "completed"
    },
    "tags": []
   },
   "outputs": [
    {
     "data": {
      "text/plain": [
       "[20, 30]"
      ]
     },
     "execution_count": 188,
     "metadata": {},
     "output_type": "execute_result"
    }
   ],
   "source": [
    "a = [20 ,25,30,35]\n",
    "\n",
    "even = [  i  for i in a  if i%2 == 0   ]       \n",
    "        \n",
    "        \n",
    "even"
   ]
  },
  {
   "cell_type": "code",
   "execution_count": 189,
   "id": "af25bda1",
   "metadata": {
    "execution": {
     "iopub.execute_input": "2023-11-07T17:48:53.535630Z",
     "iopub.status.busy": "2023-11-07T17:48:53.535218Z",
     "iopub.status.idle": "2023-11-07T17:48:53.542984Z",
     "shell.execute_reply": "2023-11-07T17:48:53.541780Z"
    },
    "papermill": {
     "duration": 0.141644,
     "end_time": "2023-11-07T17:48:53.545866",
     "exception": false,
     "start_time": "2023-11-07T17:48:53.404222",
     "status": "completed"
    },
    "tags": []
   },
   "outputs": [
    {
     "data": {
      "text/plain": [
       "{20: 'Abhi', 30: 'Abhi'}"
      ]
     },
     "execution_count": 189,
     "metadata": {},
     "output_type": "execute_result"
    }
   ],
   "source": [
    "a = [20 ,25,30,35]\n",
    "\n",
    "even = { i: \"Abhi\"  for i in a  if i%2 == 0   }       \n",
    "        \n",
    "        \n",
    "even"
   ]
  },
  {
   "cell_type": "code",
   "execution_count": 190,
   "id": "afbfd3cd",
   "metadata": {
    "execution": {
     "iopub.execute_input": "2023-11-07T17:48:53.801165Z",
     "iopub.status.busy": "2023-11-07T17:48:53.800750Z",
     "iopub.status.idle": "2023-11-07T17:48:53.805422Z",
     "shell.execute_reply": "2023-11-07T17:48:53.804278Z"
    },
    "papermill": {
     "duration": 0.135409,
     "end_time": "2023-11-07T17:48:53.807543",
     "exception": false,
     "start_time": "2023-11-07T17:48:53.672134",
     "status": "completed"
    },
    "tags": []
   },
   "outputs": [],
   "source": [
    "# break continue pass"
   ]
  },
  {
   "cell_type": "code",
   "execution_count": 191,
   "id": "9d81fad4",
   "metadata": {
    "execution": {
     "iopub.execute_input": "2023-11-07T17:48:54.050959Z",
     "iopub.status.busy": "2023-11-07T17:48:54.050203Z",
     "iopub.status.idle": "2023-11-07T17:48:54.056823Z",
     "shell.execute_reply": "2023-11-07T17:48:54.055614Z"
    },
    "papermill": {
     "duration": 0.129614,
     "end_time": "2023-11-07T17:48:54.059001",
     "exception": false,
     "start_time": "2023-11-07T17:48:53.929387",
     "status": "completed"
    },
    "tags": []
   },
   "outputs": [],
   "source": [
    "def add(a,b):\n",
    "    pass\n",
    "    \n",
    "add(8,9)"
   ]
  },
  {
   "cell_type": "code",
   "execution_count": 192,
   "id": "c8e7a710",
   "metadata": {
    "execution": {
     "iopub.execute_input": "2023-11-07T17:48:54.299018Z",
     "iopub.status.busy": "2023-11-07T17:48:54.298605Z",
     "iopub.status.idle": "2023-11-07T17:48:54.305358Z",
     "shell.execute_reply": "2023-11-07T17:48:54.303363Z"
    },
    "papermill": {
     "duration": 0.130163,
     "end_time": "2023-11-07T17:48:54.307825",
     "exception": false,
     "start_time": "2023-11-07T17:48:54.177662",
     "status": "completed"
    },
    "tags": []
   },
   "outputs": [
    {
     "name": "stdout",
     "output_type": "stream",
     "text": [
      "0\n",
      "1\n",
      "2\n"
     ]
    }
   ],
   "source": [
    "for i in range(5):\n",
    "    if i == 3 :\n",
    "        break\n",
    "    print(i)"
   ]
  },
  {
   "cell_type": "code",
   "execution_count": 193,
   "id": "75a81418",
   "metadata": {
    "execution": {
     "iopub.execute_input": "2023-11-07T17:48:54.553447Z",
     "iopub.status.busy": "2023-11-07T17:48:54.552940Z",
     "iopub.status.idle": "2023-11-07T17:48:54.559612Z",
     "shell.execute_reply": "2023-11-07T17:48:54.558352Z"
    },
    "papermill": {
     "duration": 0.131213,
     "end_time": "2023-11-07T17:48:54.562253",
     "exception": false,
     "start_time": "2023-11-07T17:48:54.431040",
     "status": "completed"
    },
    "tags": []
   },
   "outputs": [
    {
     "name": "stdout",
     "output_type": "stream",
     "text": [
      "0\n",
      "1\n",
      "2\n",
      "4\n"
     ]
    }
   ],
   "source": [
    "for i in range(5):\n",
    "    if i == 3 :\n",
    "        continue\n",
    "    print(i)"
   ]
  },
  {
   "cell_type": "code",
   "execution_count": 194,
   "id": "d3fe7704",
   "metadata": {
    "execution": {
     "iopub.execute_input": "2023-11-07T17:48:54.805692Z",
     "iopub.status.busy": "2023-11-07T17:48:54.805269Z",
     "iopub.status.idle": "2023-11-07T17:48:54.811746Z",
     "shell.execute_reply": "2023-11-07T17:48:54.810403Z"
    },
    "papermill": {
     "duration": 0.132102,
     "end_time": "2023-11-07T17:48:54.814220",
     "exception": false,
     "start_time": "2023-11-07T17:48:54.682118",
     "status": "completed"
    },
    "tags": []
   },
   "outputs": [],
   "source": [
    "# \\n = new line \\t tab"
   ]
  },
  {
   "cell_type": "code",
   "execution_count": 195,
   "id": "61b47f52",
   "metadata": {
    "execution": {
     "iopub.execute_input": "2023-11-07T17:48:55.059214Z",
     "iopub.status.busy": "2023-11-07T17:48:55.058117Z",
     "iopub.status.idle": "2023-11-07T17:48:55.065592Z",
     "shell.execute_reply": "2023-11-07T17:48:55.064216Z"
    },
    "papermill": {
     "duration": 0.13452,
     "end_time": "2023-11-07T17:48:55.069309",
     "exception": false,
     "start_time": "2023-11-07T17:48:54.934789",
     "status": "completed"
    },
    "tags": []
   },
   "outputs": [
    {
     "name": "stdout",
     "output_type": "stream",
     "text": [
      "mlv\n",
      "prasad\n"
     ]
    }
   ],
   "source": [
    "print(\"mlv\")\n",
    "print(\"prasad\")"
   ]
  },
  {
   "cell_type": "code",
   "execution_count": 196,
   "id": "a8587661",
   "metadata": {
    "execution": {
     "iopub.execute_input": "2023-11-07T17:48:55.309252Z",
     "iopub.status.busy": "2023-11-07T17:48:55.308697Z",
     "iopub.status.idle": "2023-11-07T17:48:55.315002Z",
     "shell.execute_reply": "2023-11-07T17:48:55.313769Z"
    },
    "papermill": {
     "duration": 0.129,
     "end_time": "2023-11-07T17:48:55.317521",
     "exception": false,
     "start_time": "2023-11-07T17:48:55.188521",
     "status": "completed"
    },
    "tags": []
   },
   "outputs": [
    {
     "name": "stdout",
     "output_type": "stream",
     "text": [
      "mlv\n",
      "prasad\n"
     ]
    }
   ],
   "source": [
    "print(\"mlv\\nprasad\")"
   ]
  },
  {
   "cell_type": "code",
   "execution_count": 197,
   "id": "668a5ccc",
   "metadata": {
    "execution": {
     "iopub.execute_input": "2023-11-07T17:48:55.561383Z",
     "iopub.status.busy": "2023-11-07T17:48:55.560970Z",
     "iopub.status.idle": "2023-11-07T17:48:55.566977Z",
     "shell.execute_reply": "2023-11-07T17:48:55.565681Z"
    },
    "papermill": {
     "duration": 0.132755,
     "end_time": "2023-11-07T17:48:55.569507",
     "exception": false,
     "start_time": "2023-11-07T17:48:55.436752",
     "status": "completed"
    },
    "tags": []
   },
   "outputs": [
    {
     "name": "stdout",
     "output_type": "stream",
     "text": [
      "mlv    prasad    is    a    good    boy\n"
     ]
    }
   ],
   "source": [
    "print(\"mlv    prasad    is    a    good    boy\")"
   ]
  },
  {
   "cell_type": "code",
   "execution_count": 198,
   "id": "f0317b47",
   "metadata": {
    "execution": {
     "iopub.execute_input": "2023-11-07T17:48:55.811328Z",
     "iopub.status.busy": "2023-11-07T17:48:55.810893Z",
     "iopub.status.idle": "2023-11-07T17:48:55.817331Z",
     "shell.execute_reply": "2023-11-07T17:48:55.815469Z"
    },
    "papermill": {
     "duration": 0.131039,
     "end_time": "2023-11-07T17:48:55.820092",
     "exception": false,
     "start_time": "2023-11-07T17:48:55.689053",
     "status": "completed"
    },
    "tags": []
   },
   "outputs": [
    {
     "name": "stdout",
     "output_type": "stream",
     "text": [
      "mlv\tprasad\tis\ta\tgood\tboy\n"
     ]
    }
   ],
   "source": [
    "print(\"mlv\\tprasad\\tis\\ta\\tgood\\tboy\")"
   ]
  },
  {
   "cell_type": "code",
   "execution_count": 199,
   "id": "3ae39e14",
   "metadata": {
    "execution": {
     "iopub.execute_input": "2023-11-07T17:48:56.061955Z",
     "iopub.status.busy": "2023-11-07T17:48:56.061569Z",
     "iopub.status.idle": "2023-11-07T17:48:56.066333Z",
     "shell.execute_reply": "2023-11-07T17:48:56.064770Z"
    },
    "papermill": {
     "duration": 0.129369,
     "end_time": "2023-11-07T17:48:56.069455",
     "exception": false,
     "start_time": "2023-11-07T17:48:55.940086",
     "status": "completed"
    },
    "tags": []
   },
   "outputs": [],
   "source": [
    "# * * * * *\n",
    "# * * * *\n",
    "# * * * \n",
    "# * * \n",
    "# *"
   ]
  },
  {
   "cell_type": "code",
   "execution_count": 200,
   "id": "e5e11733",
   "metadata": {
    "execution": {
     "iopub.execute_input": "2023-11-07T17:48:56.313974Z",
     "iopub.status.busy": "2023-11-07T17:48:56.313604Z",
     "iopub.status.idle": "2023-11-07T17:48:56.319851Z",
     "shell.execute_reply": "2023-11-07T17:48:56.318524Z"
    },
    "papermill": {
     "duration": 0.134177,
     "end_time": "2023-11-07T17:48:56.323010",
     "exception": false,
     "start_time": "2023-11-07T17:48:56.188833",
     "status": "completed"
    },
    "tags": []
   },
   "outputs": [
    {
     "name": "stdout",
     "output_type": "stream",
     "text": [
      "* * * * * \n",
      "* * * * \n",
      "* * * \n",
      "* * \n",
      "* \n"
     ]
    }
   ],
   "source": [
    "for i in range(5):\n",
    "    print(\"* \"*(5-i))"
   ]
  },
  {
   "cell_type": "code",
   "execution_count": null,
   "id": "9587d78d",
   "metadata": {
    "papermill": {
     "duration": 0.120345,
     "end_time": "2023-11-07T17:48:56.563993",
     "exception": false,
     "start_time": "2023-11-07T17:48:56.443648",
     "status": "completed"
    },
    "tags": []
   },
   "outputs": [],
   "source": []
  },
  {
   "cell_type": "markdown",
   "id": "e08983e2",
   "metadata": {
    "papermill": {
     "duration": 0.123178,
     "end_time": "2023-11-07T17:48:56.807114",
     "exception": false,
     "start_time": "2023-11-07T17:48:56.683936",
     "status": "completed"
    },
    "tags": []
   },
   "source": [
    "## filter\n",
    "## reduce\n",
    "## map\n",
    "## zip"
   ]
  },
  {
   "cell_type": "code",
   "execution_count": 201,
   "id": "d1cc4a91",
   "metadata": {
    "execution": {
     "iopub.execute_input": "2023-11-07T17:48:57.064010Z",
     "iopub.status.busy": "2023-11-07T17:48:57.063599Z",
     "iopub.status.idle": "2023-11-07T17:48:57.069346Z",
     "shell.execute_reply": "2023-11-07T17:48:57.067239Z"
    },
    "papermill": {
     "duration": 0.137078,
     "end_time": "2023-11-07T17:48:57.072126",
     "exception": false,
     "start_time": "2023-11-07T17:48:56.935048",
     "status": "completed"
    },
    "tags": []
   },
   "outputs": [],
   "source": [
    "# filter "
   ]
  },
  {
   "cell_type": "code",
   "execution_count": 202,
   "id": "d17815c4",
   "metadata": {
    "execution": {
     "iopub.execute_input": "2023-11-07T17:48:57.333632Z",
     "iopub.status.busy": "2023-11-07T17:48:57.332976Z",
     "iopub.status.idle": "2023-11-07T17:48:57.341886Z",
     "shell.execute_reply": "2023-11-07T17:48:57.340948Z"
    },
    "papermill": {
     "duration": 0.142559,
     "end_time": "2023-11-07T17:48:57.344241",
     "exception": false,
     "start_time": "2023-11-07T17:48:57.201682",
     "status": "completed"
    },
    "tags": []
   },
   "outputs": [
    {
     "data": {
      "text/plain": [
       "[10, 12, 14, 16]"
      ]
     },
     "execution_count": 202,
     "metadata": {},
     "output_type": "execute_result"
    }
   ],
   "source": [
    "a  =  [10,11,12,13,14,15,16]\n",
    "\n",
    "\n",
    "b = []\n",
    "for i in range(len(a)) :\n",
    "    if a[i] % 2 == 0 :\n",
    "        b.append(a[i])\n",
    "        \n",
    "b"
   ]
  },
  {
   "cell_type": "code",
   "execution_count": 203,
   "id": "de22b96b",
   "metadata": {
    "execution": {
     "iopub.execute_input": "2023-11-07T17:48:57.605812Z",
     "iopub.status.busy": "2023-11-07T17:48:57.605431Z",
     "iopub.status.idle": "2023-11-07T17:48:57.615027Z",
     "shell.execute_reply": "2023-11-07T17:48:57.613941Z"
    },
    "papermill": {
     "duration": 0.14305,
     "end_time": "2023-11-07T17:48:57.617604",
     "exception": false,
     "start_time": "2023-11-07T17:48:57.474554",
     "status": "completed"
    },
    "tags": []
   },
   "outputs": [
    {
     "data": {
      "text/plain": [
       "[40, 12, 14, 16]"
      ]
     },
     "execution_count": 203,
     "metadata": {},
     "output_type": "execute_result"
    }
   ],
   "source": [
    "a  =  [40,11,12,13,14,15,16]\n",
    "\n",
    "def even(i) :\n",
    "    return i % 2 == 0\n",
    "\n",
    "\n",
    "b = list(filter(even,a))\n",
    "b"
   ]
  },
  {
   "cell_type": "code",
   "execution_count": 204,
   "id": "3e7b59f4",
   "metadata": {
    "execution": {
     "iopub.execute_input": "2023-11-07T17:48:57.874556Z",
     "iopub.status.busy": "2023-11-07T17:48:57.874091Z",
     "iopub.status.idle": "2023-11-07T17:48:57.883590Z",
     "shell.execute_reply": "2023-11-07T17:48:57.881908Z"
    },
    "papermill": {
     "duration": 0.141049,
     "end_time": "2023-11-07T17:48:57.886404",
     "exception": false,
     "start_time": "2023-11-07T17:48:57.745355",
     "status": "completed"
    },
    "tags": []
   },
   "outputs": [
    {
     "data": {
      "text/plain": [
       "[40, 12, 14, 16]"
      ]
     },
     "execution_count": 204,
     "metadata": {},
     "output_type": "execute_result"
    }
   ],
   "source": [
    "a  =  [40,11,12,13,14,15,16]\n",
    "\n",
    "b = list(filter(lambda p : p%2== 0,a))\n",
    "b"
   ]
  },
  {
   "cell_type": "code",
   "execution_count": 205,
   "id": "a0c4fc0d",
   "metadata": {
    "execution": {
     "iopub.execute_input": "2023-11-07T17:48:58.234121Z",
     "iopub.status.busy": "2023-11-07T17:48:58.233646Z",
     "iopub.status.idle": "2023-11-07T17:48:58.243012Z",
     "shell.execute_reply": "2023-11-07T17:48:58.241738Z"
    },
    "papermill": {
     "duration": 0.14494,
     "end_time": "2023-11-07T17:48:58.246419",
     "exception": false,
     "start_time": "2023-11-07T17:48:58.101479",
     "status": "completed"
    },
    "tags": []
   },
   "outputs": [
    {
     "data": {
      "text/plain": [
       "['swapna', 'saraswati']"
      ]
     },
     "execution_count": 205,
     "metadata": {},
     "output_type": "execute_result"
    }
   ],
   "source": [
    "a = [\"swapna\",\"saraswati\",\"abhi\"]\n",
    "\n",
    "b = list(filter(lambda i : i[0] != \"a\"   and  i[0] != \"i\"  and  i[0] != \"o\", a))\n",
    "b"
   ]
  },
  {
   "cell_type": "code",
   "execution_count": 206,
   "id": "45cf3327",
   "metadata": {
    "execution": {
     "iopub.execute_input": "2023-11-07T17:48:58.519204Z",
     "iopub.status.busy": "2023-11-07T17:48:58.518735Z",
     "iopub.status.idle": "2023-11-07T17:48:58.529146Z",
     "shell.execute_reply": "2023-11-07T17:48:58.527781Z"
    },
    "papermill": {
     "duration": 0.150355,
     "end_time": "2023-11-07T17:48:58.531768",
     "exception": false,
     "start_time": "2023-11-07T17:48:58.381413",
     "status": "completed"
    },
    "tags": []
   },
   "outputs": [
    {
     "data": {
      "text/plain": [
       "[0, 10, 30]"
      ]
     },
     "execution_count": 206,
     "metadata": {},
     "output_type": "execute_result"
    }
   ],
   "source": [
    "a = {10,30,-10,0,30}\n",
    "b = list(filter(lambda i : i >= 0 , a))\n",
    "b"
   ]
  },
  {
   "cell_type": "code",
   "execution_count": 207,
   "id": "fa5280c3",
   "metadata": {
    "execution": {
     "iopub.execute_input": "2023-11-07T17:48:58.798509Z",
     "iopub.status.busy": "2023-11-07T17:48:58.798081Z",
     "iopub.status.idle": "2023-11-07T17:48:58.803554Z",
     "shell.execute_reply": "2023-11-07T17:48:58.802523Z"
    },
    "papermill": {
     "duration": 0.143016,
     "end_time": "2023-11-07T17:48:58.806401",
     "exception": false,
     "start_time": "2023-11-07T17:48:58.663385",
     "status": "completed"
    },
    "tags": []
   },
   "outputs": [],
   "source": [
    "a = [\"swapna\",\"abhinav\"]"
   ]
  },
  {
   "cell_type": "code",
   "execution_count": 208,
   "id": "250951e3",
   "metadata": {
    "execution": {
     "iopub.execute_input": "2023-11-07T17:48:59.064257Z",
     "iopub.status.busy": "2023-11-07T17:48:59.063826Z",
     "iopub.status.idle": "2023-11-07T17:48:59.073138Z",
     "shell.execute_reply": "2023-11-07T17:48:59.071270Z"
    },
    "papermill": {
     "duration": 0.137464,
     "end_time": "2023-11-07T17:48:59.075849",
     "exception": false,
     "start_time": "2023-11-07T17:48:58.938385",
     "status": "completed"
    },
    "tags": []
   },
   "outputs": [
    {
     "data": {
      "text/plain": [
       "150"
      ]
     },
     "execution_count": 208,
     "metadata": {},
     "output_type": "execute_result"
    }
   ],
   "source": [
    "# reduce \n",
    "from functools import reduce\n",
    "\n",
    "a = [10,20,30,40,50]\n",
    "b = 0\n",
    "for i in a :\n",
    "    b = b + i\n",
    "    \n",
    "b"
   ]
  },
  {
   "cell_type": "code",
   "execution_count": 209,
   "id": "f2db3f17",
   "metadata": {
    "execution": {
     "iopub.execute_input": "2023-11-07T17:48:59.334405Z",
     "iopub.status.busy": "2023-11-07T17:48:59.333900Z",
     "iopub.status.idle": "2023-11-07T17:48:59.343207Z",
     "shell.execute_reply": "2023-11-07T17:48:59.342029Z"
    },
    "papermill": {
     "duration": 0.14361,
     "end_time": "2023-11-07T17:48:59.346196",
     "exception": false,
     "start_time": "2023-11-07T17:48:59.202586",
     "status": "completed"
    },
    "tags": []
   },
   "outputs": [
    {
     "data": {
      "text/plain": [
       "150"
      ]
     },
     "execution_count": 209,
     "metadata": {},
     "output_type": "execute_result"
    }
   ],
   "source": [
    "\n",
    "c = [10,20,30,40,50]\n",
    "\n",
    "\n",
    "def add(p,q) :\n",
    "    return p + q\n",
    "# ini = 100 \n",
    "d = reduce(add,c)\n",
    "d"
   ]
  },
  {
   "cell_type": "code",
   "execution_count": 210,
   "id": "9959a7a7",
   "metadata": {
    "execution": {
     "iopub.execute_input": "2023-11-07T17:48:59.596787Z",
     "iopub.status.busy": "2023-11-07T17:48:59.596412Z",
     "iopub.status.idle": "2023-11-07T17:48:59.604133Z",
     "shell.execute_reply": "2023-11-07T17:48:59.603308Z"
    },
    "papermill": {
     "duration": 0.138809,
     "end_time": "2023-11-07T17:48:59.606811",
     "exception": false,
     "start_time": "2023-11-07T17:48:59.468002",
     "status": "completed"
    },
    "tags": []
   },
   "outputs": [
    {
     "data": {
      "text/plain": [
       "50"
      ]
     },
     "execution_count": 210,
     "metadata": {},
     "output_type": "execute_result"
    }
   ],
   "source": [
    "c = [10,20,30,40,50]\n",
    "\n",
    "mx = c[0]\n",
    "for i in c :\n",
    "    if i > mx :\n",
    "        mx = i\n",
    "mx"
   ]
  },
  {
   "cell_type": "code",
   "execution_count": 211,
   "id": "b0e834a8",
   "metadata": {
    "execution": {
     "iopub.execute_input": "2023-11-07T17:48:59.860852Z",
     "iopub.status.busy": "2023-11-07T17:48:59.860455Z",
     "iopub.status.idle": "2023-11-07T17:48:59.869775Z",
     "shell.execute_reply": "2023-11-07T17:48:59.868310Z"
    },
    "papermill": {
     "duration": 0.138863,
     "end_time": "2023-11-07T17:48:59.872860",
     "exception": false,
     "start_time": "2023-11-07T17:48:59.733997",
     "status": "completed"
    },
    "tags": []
   },
   "outputs": [
    {
     "data": {
      "text/plain": [
       "770"
      ]
     },
     "execution_count": 211,
     "metadata": {},
     "output_type": "execute_result"
    }
   ],
   "source": [
    "c = [10,770,30,40,50]\n",
    "ini = int(c[0])\n",
    "def maxx(p,q):\n",
    "    if p > q :\n",
    "        return p \n",
    "    else :\n",
    "        return q\n",
    "\n",
    "    \n",
    "        \n",
    "    \n",
    "# ini = c[0]\n",
    "d = reduce(maxx,c)\n",
    "d"
   ]
  },
  {
   "cell_type": "code",
   "execution_count": 212,
   "id": "9ed8eac9",
   "metadata": {
    "execution": {
     "iopub.execute_input": "2023-11-07T17:49:00.150904Z",
     "iopub.status.busy": "2023-11-07T17:49:00.150430Z",
     "iopub.status.idle": "2023-11-07T17:49:00.161238Z",
     "shell.execute_reply": "2023-11-07T17:49:00.160322Z"
    },
    "papermill": {
     "duration": 0.159635,
     "end_time": "2023-11-07T17:49:00.164604",
     "exception": false,
     "start_time": "2023-11-07T17:49:00.004969",
     "status": "completed"
    },
    "tags": []
   },
   "outputs": [
    {
     "data": {
      "text/plain": [
       "'c001mlv c001prasad c001mentor'"
      ]
     },
     "execution_count": 212,
     "metadata": {},
     "output_type": "execute_result"
    }
   ],
   "source": [
    "d = [\"mlv\",\"prasad\",\"mentor\"]\n",
    "# d = [\"mlv prasad\",\"mentor\"]\n",
    "\n",
    "def con (p,q) :\n",
    "    if p != \"c001\":\n",
    "        return p + \" c001\" + q\n",
    "    else :\n",
    "        return p + q\n",
    "\n",
    "e = reduce(con, d,\"c001\")\n",
    "e"
   ]
  },
  {
   "cell_type": "code",
   "execution_count": 213,
   "id": "508643d9",
   "metadata": {
    "execution": {
     "iopub.execute_input": "2023-11-07T17:49:00.442488Z",
     "iopub.status.busy": "2023-11-07T17:49:00.441780Z",
     "iopub.status.idle": "2023-11-07T17:49:00.451053Z",
     "shell.execute_reply": "2023-11-07T17:49:00.450118Z"
    },
    "papermill": {
     "duration": 0.147414,
     "end_time": "2023-11-07T17:49:00.453517",
     "exception": false,
     "start_time": "2023-11-07T17:49:00.306103",
     "status": "completed"
    },
    "tags": []
   },
   "outputs": [
    {
     "data": {
      "text/plain": [
       "[10]"
      ]
     },
     "execution_count": 213,
     "metadata": {},
     "output_type": "execute_result"
    }
   ],
   "source": [
    "a = [10,29,32]\n",
    "\n",
    "b = list(filter( lambda x : x < 15  , a))\n",
    "b"
   ]
  },
  {
   "cell_type": "code",
   "execution_count": 214,
   "id": "185c639a",
   "metadata": {
    "execution": {
     "iopub.execute_input": "2023-11-07T17:49:00.712796Z",
     "iopub.status.busy": "2023-11-07T17:49:00.712368Z",
     "iopub.status.idle": "2023-11-07T17:49:00.720048Z",
     "shell.execute_reply": "2023-11-07T17:49:00.718699Z"
    },
    "papermill": {
     "duration": 0.140354,
     "end_time": "2023-11-07T17:49:00.722905",
     "exception": false,
     "start_time": "2023-11-07T17:49:00.582551",
     "status": "completed"
    },
    "tags": []
   },
   "outputs": [
    {
     "data": {
      "text/plain": [
       "'mlv prasad mentor'"
      ]
     },
     "execution_count": 214,
     "metadata": {},
     "output_type": "execute_result"
    }
   ],
   "source": [
    "d = [\"mlv\",\"prasad\",\"mentor\"]\n",
    "e = reduce(lambda x,y : x + \" \" + y, d)\n",
    "e"
   ]
  },
  {
   "cell_type": "code",
   "execution_count": 215,
   "id": "76ba4585",
   "metadata": {
    "execution": {
     "iopub.execute_input": "2023-11-07T17:49:00.976653Z",
     "iopub.status.busy": "2023-11-07T17:49:00.976224Z",
     "iopub.status.idle": "2023-11-07T17:49:00.985129Z",
     "shell.execute_reply": "2023-11-07T17:49:00.983669Z"
    },
    "papermill": {
     "duration": 0.138581,
     "end_time": "2023-11-07T17:49:00.987972",
     "exception": false,
     "start_time": "2023-11-07T17:49:00.849391",
     "status": "completed"
    },
    "tags": []
   },
   "outputs": [
    {
     "data": {
      "text/plain": [
       "[100, 625, 900, 1225, 2500]"
      ]
     },
     "execution_count": 215,
     "metadata": {},
     "output_type": "execute_result"
    }
   ],
   "source": [
    "#map\n",
    "\n",
    "a = [10,25,30,35,50]\n",
    "\n",
    "# fil  = [10,30,50]\n",
    "\n",
    "# reduce = one final ans \n",
    "\n",
    "#map - apply some function on all elememts\n",
    "\n",
    "\n",
    "b = []\n",
    "for i in a :\n",
    "    b.append(i**2)\n",
    "b\n",
    "\n"
   ]
  },
  {
   "cell_type": "code",
   "execution_count": 216,
   "id": "98cda605",
   "metadata": {
    "execution": {
     "iopub.execute_input": "2023-11-07T17:49:01.242770Z",
     "iopub.status.busy": "2023-11-07T17:49:01.242352Z",
     "iopub.status.idle": "2023-11-07T17:49:01.250244Z",
     "shell.execute_reply": "2023-11-07T17:49:01.249155Z"
    },
    "papermill": {
     "duration": 0.139008,
     "end_time": "2023-11-07T17:49:01.252848",
     "exception": false,
     "start_time": "2023-11-07T17:49:01.113840",
     "status": "completed"
    },
    "tags": []
   },
   "outputs": [
    {
     "data": {
      "text/plain": [
       "[100, 625, 900, 1225, 2500]"
      ]
     },
     "execution_count": 216,
     "metadata": {},
     "output_type": "execute_result"
    }
   ],
   "source": [
    "c = [10,25,30,35,50]\n",
    "def sq(x) :\n",
    "    return x**2\n",
    "d = list(map(sq, c))\n",
    "d"
   ]
  },
  {
   "cell_type": "code",
   "execution_count": 217,
   "id": "1a5c0b54",
   "metadata": {
    "execution": {
     "iopub.execute_input": "2023-11-07T17:49:01.502776Z",
     "iopub.status.busy": "2023-11-07T17:49:01.502356Z",
     "iopub.status.idle": "2023-11-07T17:49:01.510120Z",
     "shell.execute_reply": "2023-11-07T17:49:01.509013Z"
    },
    "papermill": {
     "duration": 0.13407,
     "end_time": "2023-11-07T17:49:01.512846",
     "exception": false,
     "start_time": "2023-11-07T17:49:01.378776",
     "status": "completed"
    },
    "tags": []
   },
   "outputs": [
    {
     "data": {
      "text/plain": [
       "[100, 625, 900, 1225, 2500]"
      ]
     },
     "execution_count": 217,
     "metadata": {},
     "output_type": "execute_result"
    }
   ],
   "source": [
    "c = [10,25,30,35,50]\n",
    "\n",
    "d = list(map(lambda i : i **2 , c))\n",
    "d"
   ]
  },
  {
   "cell_type": "code",
   "execution_count": 218,
   "id": "76fdcb83",
   "metadata": {
    "execution": {
     "iopub.execute_input": "2023-11-07T17:49:01.763996Z",
     "iopub.status.busy": "2023-11-07T17:49:01.763619Z",
     "iopub.status.idle": "2023-11-07T17:49:01.771650Z",
     "shell.execute_reply": "2023-11-07T17:49:01.770402Z"
    },
    "papermill": {
     "duration": 0.139041,
     "end_time": "2023-11-07T17:49:01.774250",
     "exception": false,
     "start_time": "2023-11-07T17:49:01.635209",
     "status": "completed"
    },
    "tags": []
   },
   "outputs": [
    {
     "data": {
      "text/plain": [
       "['swapna', 'sush']"
      ]
     },
     "execution_count": 218,
     "metadata": {},
     "output_type": "execute_result"
    }
   ],
   "source": [
    "a = [\"swapna\",\"sush\",\"ghosh\"]\n",
    "b = list(filter(lambda x : x[0]==\"s\",a))\n",
    "b"
   ]
  },
  {
   "cell_type": "code",
   "execution_count": 219,
   "id": "db43c561",
   "metadata": {
    "execution": {
     "iopub.execute_input": "2023-11-07T17:49:02.030276Z",
     "iopub.status.busy": "2023-11-07T17:49:02.029798Z",
     "iopub.status.idle": "2023-11-07T17:49:02.038574Z",
     "shell.execute_reply": "2023-11-07T17:49:02.037257Z"
    },
    "papermill": {
     "duration": 0.138856,
     "end_time": "2023-11-07T17:49:02.041031",
     "exception": false,
     "start_time": "2023-11-07T17:49:01.902175",
     "status": "completed"
    },
    "tags": []
   },
   "outputs": [
    {
     "data": {
      "text/plain": [
       "['student swapna', 'student sush', 'student ghosh']"
      ]
     },
     "execution_count": 219,
     "metadata": {},
     "output_type": "execute_result"
    }
   ],
   "source": [
    "a = [\"swapna\",\"sush\",\"ghosh\"]\n",
    "b = list(map(lambda i : \"student \"+ i,a))\n",
    "b"
   ]
  },
  {
   "cell_type": "code",
   "execution_count": 220,
   "id": "faa113e2",
   "metadata": {
    "execution": {
     "iopub.execute_input": "2023-11-07T17:49:02.292776Z",
     "iopub.status.busy": "2023-11-07T17:49:02.291921Z",
     "iopub.status.idle": "2023-11-07T17:49:02.300937Z",
     "shell.execute_reply": "2023-11-07T17:49:02.299757Z"
    },
    "papermill": {
     "duration": 0.138279,
     "end_time": "2023-11-07T17:49:02.303597",
     "exception": false,
     "start_time": "2023-11-07T17:49:02.165318",
     "status": "completed"
    },
    "tags": []
   },
   "outputs": [
    {
     "data": {
      "text/plain": [
       "[('swapna', 100), ('prasad', 200), ('ghosh', 300)]"
      ]
     },
     "execution_count": 220,
     "metadata": {},
     "output_type": "execute_result"
    }
   ],
   "source": [
    "a = [\"swapna\",\"prasad\",\"ghosh\"]\n",
    "b = [100,200,300]\n",
    "\n",
    "\n",
    "c = [  ( a[i] , b[i]) for i in range(len(a))]\n",
    "c"
   ]
  },
  {
   "cell_type": "code",
   "execution_count": 221,
   "id": "bcfd5b5e",
   "metadata": {
    "execution": {
     "iopub.execute_input": "2023-11-07T17:49:02.558825Z",
     "iopub.status.busy": "2023-11-07T17:49:02.558409Z",
     "iopub.status.idle": "2023-11-07T17:49:02.564755Z",
     "shell.execute_reply": "2023-11-07T17:49:02.563496Z"
    },
    "papermill": {
     "duration": 0.136989,
     "end_time": "2023-11-07T17:49:02.567526",
     "exception": false,
     "start_time": "2023-11-07T17:49:02.430537",
     "status": "completed"
    },
    "tags": []
   },
   "outputs": [
    {
     "name": "stdout",
     "output_type": "stream",
     "text": [
      "swapna 100\n",
      "prasad 200\n",
      "ghosh 300\n"
     ]
    }
   ],
   "source": [
    "for i in range(len(a) ) :\n",
    "    print(a[i],b[i])\n",
    "    "
   ]
  },
  {
   "cell_type": "code",
   "execution_count": 222,
   "id": "b10f7ef4",
   "metadata": {
    "execution": {
     "iopub.execute_input": "2023-11-07T17:49:02.821747Z",
     "iopub.status.busy": "2023-11-07T17:49:02.821334Z",
     "iopub.status.idle": "2023-11-07T17:49:02.827393Z",
     "shell.execute_reply": "2023-11-07T17:49:02.826206Z"
    },
    "papermill": {
     "duration": 0.13544,
     "end_time": "2023-11-07T17:49:02.830949",
     "exception": false,
     "start_time": "2023-11-07T17:49:02.695509",
     "status": "completed"
    },
    "tags": []
   },
   "outputs": [
    {
     "name": "stdout",
     "output_type": "stream",
     "text": [
      "('swapna', 100) --\n",
      "('prasad', 200) --\n",
      "('ghosh', 300) --\n"
     ]
    }
   ],
   "source": [
    "for i in zip(a,b) :\n",
    "    print(i,\"--\")"
   ]
  },
  {
   "cell_type": "code",
   "execution_count": 223,
   "id": "496e2dbc",
   "metadata": {
    "execution": {
     "iopub.execute_input": "2023-11-07T17:49:03.159592Z",
     "iopub.status.busy": "2023-11-07T17:49:03.159144Z",
     "iopub.status.idle": "2023-11-07T17:49:03.166317Z",
     "shell.execute_reply": "2023-11-07T17:49:03.164734Z"
    },
    "papermill": {
     "duration": 0.210661,
     "end_time": "2023-11-07T17:49:03.169108",
     "exception": false,
     "start_time": "2023-11-07T17:49:02.958447",
     "status": "completed"
    },
    "tags": []
   },
   "outputs": [
    {
     "name": "stdout",
     "output_type": "stream",
     "text": [
      "swapna -- 100\n",
      "prasad -- 200\n",
      "ghosh -- 300\n"
     ]
    }
   ],
   "source": [
    "for i,j in zip(a,b) :\n",
    "    print(i,\"--\",j)"
   ]
  },
  {
   "cell_type": "code",
   "execution_count": 224,
   "id": "6b0acf91",
   "metadata": {
    "execution": {
     "iopub.execute_input": "2023-11-07T17:49:03.418686Z",
     "iopub.status.busy": "2023-11-07T17:49:03.418271Z",
     "iopub.status.idle": "2023-11-07T17:49:03.426129Z",
     "shell.execute_reply": "2023-11-07T17:49:03.424924Z"
    },
    "papermill": {
     "duration": 0.136131,
     "end_time": "2023-11-07T17:49:03.428942",
     "exception": false,
     "start_time": "2023-11-07T17:49:03.292811",
     "status": "completed"
    },
    "tags": []
   },
   "outputs": [
    {
     "data": {
      "text/plain": [
       "[('swapna', 100, 1)]"
      ]
     },
     "execution_count": 224,
     "metadata": {},
     "output_type": "execute_result"
    }
   ],
   "source": [
    "a = [\"swapna\"]\n",
    "b = [100,200,300]\n",
    "c= [1,2]\n",
    "\n",
    "\n",
    "c = list(zip(a,b,c))\n",
    "c"
   ]
  },
  {
   "cell_type": "code",
   "execution_count": 225,
   "id": "62b4e3e3",
   "metadata": {
    "execution": {
     "iopub.execute_input": "2023-11-07T17:49:03.680071Z",
     "iopub.status.busy": "2023-11-07T17:49:03.679639Z",
     "iopub.status.idle": "2023-11-07T17:49:03.686991Z",
     "shell.execute_reply": "2023-11-07T17:49:03.685469Z"
    },
    "papermill": {
     "duration": 0.134734,
     "end_time": "2023-11-07T17:49:03.689817",
     "exception": false,
     "start_time": "2023-11-07T17:49:03.555083",
     "status": "completed"
    },
    "tags": []
   },
   "outputs": [
    {
     "name": "stdout",
     "output_type": "stream",
     "text": [
      "yes\n"
     ]
    }
   ],
   "source": [
    "a = \"malayalam\"\n",
    "b = a[::-1]\n",
    "b\n",
    "\n",
    "if a == b :\n",
    "    print(\"yes\")\n",
    "else :\n",
    "    print(\"no\")"
   ]
  },
  {
   "cell_type": "code",
   "execution_count": null,
   "id": "ceded6ba",
   "metadata": {
    "papermill": {
     "duration": 0.128499,
     "end_time": "2023-11-07T17:49:03.943597",
     "exception": false,
     "start_time": "2023-11-07T17:49:03.815098",
     "status": "completed"
    },
    "tags": []
   },
   "outputs": [],
   "source": []
  },
  {
   "cell_type": "code",
   "execution_count": 226,
   "id": "c4f28b40",
   "metadata": {
    "execution": {
     "iopub.execute_input": "2023-11-07T17:49:04.207402Z",
     "iopub.status.busy": "2023-11-07T17:49:04.206994Z",
     "iopub.status.idle": "2023-11-07T17:49:04.215063Z",
     "shell.execute_reply": "2023-11-07T17:49:04.213445Z"
    },
    "papermill": {
     "duration": 0.145669,
     "end_time": "2023-11-07T17:49:04.218230",
     "exception": false,
     "start_time": "2023-11-07T17:49:04.072561",
     "status": "completed"
    },
    "tags": []
   },
   "outputs": [],
   "source": [
    "class BluePrint() :\n",
    "    \n",
    "    def __init__ (self,a ): # constructor\n",
    "        self.b = a + 100\n",
    "        self.designed = \"mlv prasad\"\n",
    "        self.country  = \"india\"\n",
    "        \n",
    "\n",
    "\n",
    "    \n",
    "\n",
    "    def color(self):\n",
    "#         b = self.designed\n",
    "        return f\"home is designed by {self.designed} for  and is 100 ft and color \"\n",
    "\n",
    "    def interior(self):\n",
    "        return \"home is italian \"\n",
    "    \n",
    "ghosh = BluePrint(100.5)\n",
    "# int(ghosh)"
   ]
  },
  {
   "cell_type": "code",
   "execution_count": 227,
   "id": "d0d9b8da",
   "metadata": {
    "execution": {
     "iopub.execute_input": "2023-11-07T17:49:04.481410Z",
     "iopub.status.busy": "2023-11-07T17:49:04.481020Z",
     "iopub.status.idle": "2023-11-07T17:49:04.485943Z",
     "shell.execute_reply": "2023-11-07T17:49:04.484790Z"
    },
    "papermill": {
     "duration": 0.140265,
     "end_time": "2023-11-07T17:49:04.488484",
     "exception": false,
     "start_time": "2023-11-07T17:49:04.348219",
     "status": "completed"
    },
    "tags": []
   },
   "outputs": [],
   "source": [
    "# swapna = BluePrint()\n",
    "# swapna.color()"
   ]
  },
  {
   "cell_type": "code",
   "execution_count": 228,
   "id": "31e0befd",
   "metadata": {
    "execution": {
     "iopub.execute_input": "2023-11-07T17:49:04.753824Z",
     "iopub.status.busy": "2023-11-07T17:49:04.753436Z",
     "iopub.status.idle": "2023-11-07T17:49:04.761409Z",
     "shell.execute_reply": "2023-11-07T17:49:04.759596Z"
    },
    "papermill": {
     "duration": 0.146461,
     "end_time": "2023-11-07T17:49:04.764274",
     "exception": false,
     "start_time": "2023-11-07T17:49:04.617813",
     "status": "completed"
    },
    "tags": []
   },
   "outputs": [
    {
     "data": {
      "text/plain": [
       "'9'"
      ]
     },
     "execution_count": 228,
     "metadata": {},
     "output_type": "execute_result"
    }
   ],
   "source": [
    "a = 9\n",
    "b = str(a)\n",
    "b"
   ]
  },
  {
   "cell_type": "code",
   "execution_count": 229,
   "id": "0c5a1734",
   "metadata": {
    "execution": {
     "iopub.execute_input": "2023-11-07T17:49:05.025803Z",
     "iopub.status.busy": "2023-11-07T17:49:05.025392Z",
     "iopub.status.idle": "2023-11-07T17:49:05.035840Z",
     "shell.execute_reply": "2023-11-07T17:49:05.034989Z"
    },
    "papermill": {
     "duration": 0.14122,
     "end_time": "2023-11-07T17:49:05.038708",
     "exception": false,
     "start_time": "2023-11-07T17:49:04.897488",
     "status": "completed"
    },
    "tags": []
   },
   "outputs": [
    {
     "data": {
      "text/plain": [
       "0"
      ]
     },
     "execution_count": 229,
     "metadata": {},
     "output_type": "execute_result"
    }
   ],
   "source": [
    "class Student() :\n",
    "    \n",
    "    def __init__(self,name,age):\n",
    "        self.studname = f\"the student name is {name}\"\n",
    "        self.studage = f\"the student age is {age}\"\n",
    "        self.courses= []\n",
    "    \n",
    "    def enroll(self, course= 0 ) :\n",
    "        self.courses.append(course)\n",
    "        \n",
    "    def total_course(self):\n",
    "        return len(self.courses)\n",
    "    \n",
    "    \n",
    "    \n",
    "joy =  Student(\"joyce\",\"30\")\n",
    "joy.total_course()\n",
    "\n",
    "\n",
    "\n"
   ]
  },
  {
   "cell_type": "code",
   "execution_count": 230,
   "id": "5a9bb808",
   "metadata": {
    "execution": {
     "iopub.execute_input": "2023-11-07T17:49:05.298236Z",
     "iopub.status.busy": "2023-11-07T17:49:05.297544Z",
     "iopub.status.idle": "2023-11-07T17:49:05.305027Z",
     "shell.execute_reply": "2023-11-07T17:49:05.303813Z"
    },
    "papermill": {
     "duration": 0.138342,
     "end_time": "2023-11-07T17:49:05.307571",
     "exception": false,
     "start_time": "2023-11-07T17:49:05.169229",
     "status": "completed"
    },
    "tags": []
   },
   "outputs": [
    {
     "data": {
      "text/plain": [
       "[]"
      ]
     },
     "execution_count": 230,
     "metadata": {},
     "output_type": "execute_result"
    }
   ],
   "source": [
    "sw = Student(\"swapna\",\"35\")\n",
    "sw.courses"
   ]
  },
  {
   "cell_type": "code",
   "execution_count": 231,
   "id": "79d9bbe9",
   "metadata": {
    "execution": {
     "iopub.execute_input": "2023-11-07T17:49:05.560883Z",
     "iopub.status.busy": "2023-11-07T17:49:05.560446Z",
     "iopub.status.idle": "2023-11-07T17:49:05.568506Z",
     "shell.execute_reply": "2023-11-07T17:49:05.566805Z"
    },
    "papermill": {
     "duration": 0.137728,
     "end_time": "2023-11-07T17:49:05.571128",
     "exception": false,
     "start_time": "2023-11-07T17:49:05.433400",
     "status": "completed"
    },
    "tags": []
   },
   "outputs": [
    {
     "data": {
      "text/plain": [
       "[]"
      ]
     },
     "execution_count": 231,
     "metadata": {},
     "output_type": "execute_result"
    }
   ],
   "source": [
    "joy.courses\n",
    "\n",
    "# joy.enroll(\"sql\")"
   ]
  },
  {
   "cell_type": "code",
   "execution_count": 232,
   "id": "aab1f374",
   "metadata": {
    "execution": {
     "iopub.execute_input": "2023-11-07T17:49:05.820202Z",
     "iopub.status.busy": "2023-11-07T17:49:05.819137Z",
     "iopub.status.idle": "2023-11-07T17:49:05.824427Z",
     "shell.execute_reply": "2023-11-07T17:49:05.823529Z"
    },
    "papermill": {
     "duration": 0.131047,
     "end_time": "2023-11-07T17:49:05.826863",
     "exception": false,
     "start_time": "2023-11-07T17:49:05.695816",
     "status": "completed"
    },
    "tags": []
   },
   "outputs": [],
   "source": [
    "sw.enroll(\"sql\")"
   ]
  },
  {
   "cell_type": "code",
   "execution_count": 233,
   "id": "e38c2136",
   "metadata": {
    "execution": {
     "iopub.execute_input": "2023-11-07T17:49:06.092804Z",
     "iopub.status.busy": "2023-11-07T17:49:06.092379Z",
     "iopub.status.idle": "2023-11-07T17:49:06.099104Z",
     "shell.execute_reply": "2023-11-07T17:49:06.098159Z"
    },
    "papermill": {
     "duration": 0.141674,
     "end_time": "2023-11-07T17:49:06.101431",
     "exception": false,
     "start_time": "2023-11-07T17:49:05.959757",
     "status": "completed"
    },
    "tags": []
   },
   "outputs": [
    {
     "data": {
      "text/plain": [
       "[]"
      ]
     },
     "execution_count": 233,
     "metadata": {},
     "output_type": "execute_result"
    }
   ],
   "source": [
    "joy.courses"
   ]
  },
  {
   "cell_type": "code",
   "execution_count": 234,
   "id": "f4f88879",
   "metadata": {
    "execution": {
     "iopub.execute_input": "2023-11-07T17:49:06.359745Z",
     "iopub.status.busy": "2023-11-07T17:49:06.359367Z",
     "iopub.status.idle": "2023-11-07T17:49:06.364843Z",
     "shell.execute_reply": "2023-11-07T17:49:06.363489Z"
    },
    "papermill": {
     "duration": 0.137137,
     "end_time": "2023-11-07T17:49:06.367883",
     "exception": false,
     "start_time": "2023-11-07T17:49:06.230746",
     "status": "completed"
    },
    "tags": []
   },
   "outputs": [],
   "source": [
    "joy.enroll(\"python\")"
   ]
  },
  {
   "cell_type": "code",
   "execution_count": 235,
   "id": "d92f75e1",
   "metadata": {
    "execution": {
     "iopub.execute_input": "2023-11-07T17:49:06.628257Z",
     "iopub.status.busy": "2023-11-07T17:49:06.625082Z",
     "iopub.status.idle": "2023-11-07T17:49:06.636028Z",
     "shell.execute_reply": "2023-11-07T17:49:06.634813Z"
    },
    "papermill": {
     "duration": 0.144647,
     "end_time": "2023-11-07T17:49:06.639237",
     "exception": false,
     "start_time": "2023-11-07T17:49:06.494590",
     "status": "completed"
    },
    "tags": []
   },
   "outputs": [
    {
     "data": {
      "text/plain": [
       "['python']"
      ]
     },
     "execution_count": 235,
     "metadata": {},
     "output_type": "execute_result"
    }
   ],
   "source": [
    "joy.courses"
   ]
  },
  {
   "cell_type": "code",
   "execution_count": 236,
   "id": "5b1fe4df",
   "metadata": {
    "execution": {
     "iopub.execute_input": "2023-11-07T17:49:06.922165Z",
     "iopub.status.busy": "2023-11-07T17:49:06.920384Z",
     "iopub.status.idle": "2023-11-07T17:49:06.930362Z",
     "shell.execute_reply": "2023-11-07T17:49:06.928975Z"
    },
    "papermill": {
     "duration": 0.151028,
     "end_time": "2023-11-07T17:49:06.933057",
     "exception": false,
     "start_time": "2023-11-07T17:49:06.782029",
     "status": "completed"
    },
    "tags": []
   },
   "outputs": [
    {
     "data": {
      "text/plain": [
       "1"
      ]
     },
     "execution_count": 236,
     "metadata": {},
     "output_type": "execute_result"
    }
   ],
   "source": [
    "joy.total_course()"
   ]
  },
  {
   "cell_type": "code",
   "execution_count": 237,
   "id": "51050361",
   "metadata": {
    "execution": {
     "iopub.execute_input": "2023-11-07T17:49:07.209651Z",
     "iopub.status.busy": "2023-11-07T17:49:07.208888Z",
     "iopub.status.idle": "2023-11-07T17:49:07.217111Z",
     "shell.execute_reply": "2023-11-07T17:49:07.215529Z"
    },
    "papermill": {
     "duration": 0.148892,
     "end_time": "2023-11-07T17:49:07.220125",
     "exception": false,
     "start_time": "2023-11-07T17:49:07.071233",
     "status": "completed"
    },
    "tags": []
   },
   "outputs": [
    {
     "data": {
      "text/plain": [
       "['sql']"
      ]
     },
     "execution_count": 237,
     "metadata": {},
     "output_type": "execute_result"
    }
   ],
   "source": [
    "sw.courses"
   ]
  },
  {
   "cell_type": "code",
   "execution_count": 238,
   "id": "f0b9f563",
   "metadata": {
    "execution": {
     "iopub.execute_input": "2023-11-07T17:49:07.580699Z",
     "iopub.status.busy": "2023-11-07T17:49:07.580316Z",
     "iopub.status.idle": "2023-11-07T17:49:07.587534Z",
     "shell.execute_reply": "2023-11-07T17:49:07.585759Z"
    },
    "papermill": {
     "duration": 0.227927,
     "end_time": "2023-11-07T17:49:07.590230",
     "exception": false,
     "start_time": "2023-11-07T17:49:07.362303",
     "status": "completed"
    },
    "tags": []
   },
   "outputs": [
    {
     "data": {
      "text/plain": [
       "1"
      ]
     },
     "execution_count": 238,
     "metadata": {},
     "output_type": "execute_result"
    }
   ],
   "source": [
    "sw.total_course()"
   ]
  },
  {
   "cell_type": "code",
   "execution_count": 239,
   "id": "6611ad16",
   "metadata": {
    "execution": {
     "iopub.execute_input": "2023-11-07T17:49:07.853968Z",
     "iopub.status.busy": "2023-11-07T17:49:07.853220Z",
     "iopub.status.idle": "2023-11-07T17:49:07.863241Z",
     "shell.execute_reply": "2023-11-07T17:49:07.862033Z"
    },
    "papermill": {
     "duration": 0.1441,
     "end_time": "2023-11-07T17:49:07.866800",
     "exception": false,
     "start_time": "2023-11-07T17:49:07.722700",
     "status": "completed"
    },
    "tags": []
   },
   "outputs": [
    {
     "name": "stdout",
     "output_type": "stream",
     "text": [
      "the owner brand is TYT and number of doors is 6\n"
     ]
    }
   ],
   "source": [
    "class Vehicle :\n",
    "    \n",
    "    def __init__ (self,brand,model ):\n",
    "        self.brand = brand\n",
    "        self.model = model\n",
    "        \n",
    "    def info(self):\n",
    "        return f\"the owner brand is {self.brand}\"\n",
    "    \n",
    "    \n",
    "    \n",
    "class Toyato(Vehicle):\n",
    "    def __init__(self,brand,model,doors) : \n",
    "        super().__init__(brand,model)\n",
    "        self.doors= doors\n",
    "    def info(self):\n",
    "        return f\"{super().info()} and number of doors is {self.doors}\"\n",
    "    \n",
    "swapna = Toyato(\"TYT\",\"fortuner\",6)\n",
    "\n",
    "print(swapna.info())\n"
   ]
  },
  {
   "cell_type": "code",
   "execution_count": 240,
   "id": "b9724064",
   "metadata": {
    "execution": {
     "iopub.execute_input": "2023-11-07T17:49:08.138051Z",
     "iopub.status.busy": "2023-11-07T17:49:08.137314Z",
     "iopub.status.idle": "2023-11-07T17:49:08.144721Z",
     "shell.execute_reply": "2023-11-07T17:49:08.143371Z"
    },
    "papermill": {
     "duration": 0.141768,
     "end_time": "2023-11-07T17:49:08.147730",
     "exception": false,
     "start_time": "2023-11-07T17:49:08.005962",
     "status": "completed"
    },
    "tags": []
   },
   "outputs": [
    {
     "name": "stdout",
     "output_type": "stream",
     "text": [
      "1\n",
      "1\n",
      "2\n",
      "3\n",
      "5\n",
      "8\n",
      "13\n",
      "21\n",
      "34\n",
      "55\n",
      "89\n",
      "144\n",
      "233\n"
     ]
    }
   ],
   "source": [
    "def fibonaci ()  :\n",
    "    a,b = 1,1\n",
    "    while True :\n",
    "        yield a \n",
    "        a,b = b, a+b # 2 3 \n",
    "        \n",
    "joy =  fibonaci()\n",
    "for i in range(13) :\n",
    "    print(next(joy))"
   ]
  },
  {
   "cell_type": "code",
   "execution_count": 241,
   "id": "4374a018",
   "metadata": {
    "execution": {
     "iopub.execute_input": "2023-11-07T17:49:08.401754Z",
     "iopub.status.busy": "2023-11-07T17:49:08.401363Z",
     "iopub.status.idle": "2023-11-07T17:49:08.406562Z",
     "shell.execute_reply": "2023-11-07T17:49:08.404750Z"
    },
    "papermill": {
     "duration": 0.13652,
     "end_time": "2023-11-07T17:49:08.409522",
     "exception": false,
     "start_time": "2023-11-07T17:49:08.273002",
     "status": "completed"
    },
    "tags": []
   },
   "outputs": [],
   "source": [
    "#poly morphism"
   ]
  },
  {
   "cell_type": "code",
   "execution_count": 242,
   "id": "d57d6a5f",
   "metadata": {
    "execution": {
     "iopub.execute_input": "2023-11-07T17:49:08.676445Z",
     "iopub.status.busy": "2023-11-07T17:49:08.676007Z",
     "iopub.status.idle": "2023-11-07T17:49:08.684089Z",
     "shell.execute_reply": "2023-11-07T17:49:08.683155Z"
    },
    "papermill": {
     "duration": 0.143494,
     "end_time": "2023-11-07T17:49:08.687118",
     "exception": false,
     "start_time": "2023-11-07T17:49:08.543624",
     "status": "completed"
    },
    "tags": []
   },
   "outputs": [
    {
     "name": "stdout",
     "output_type": "stream",
     "text": [
      "catty\n",
      "doggy\n"
     ]
    }
   ],
   "source": [
    "class Animal() :\n",
    "    def speak(self) :\n",
    "        pass\n",
    "class Dog(Animal) :\n",
    "    def speak(self) :\n",
    "        return \"doggy\"\n",
    "class Cat(Animal) :\n",
    "    def speak( self) :\n",
    "        return \"catty\"\n",
    "    \n",
    "def sound(Animal) :\n",
    "    return    Animal.speak()\n",
    "\n",
    "dog = Dog()\n",
    "cat = Cat()\n",
    "\n",
    "print(sound(cat))\n",
    "print(sound(dog))"
   ]
  },
  {
   "cell_type": "code",
   "execution_count": 243,
   "id": "28c85c45",
   "metadata": {
    "execution": {
     "iopub.execute_input": "2023-11-07T17:49:08.956849Z",
     "iopub.status.busy": "2023-11-07T17:49:08.956429Z",
     "iopub.status.idle": "2023-11-07T17:49:08.966664Z",
     "shell.execute_reply": "2023-11-07T17:49:08.965119Z"
    },
    "papermill": {
     "duration": 0.149687,
     "end_time": "2023-11-07T17:49:08.969567",
     "exception": false,
     "start_time": "2023-11-07T17:49:08.819880",
     "status": "completed"
    },
    "tags": []
   },
   "outputs": [
    {
     "name": "stdout",
     "output_type": "stream",
     "text": [
      "swa\n",
      "300\n",
      "ghosh\n",
      "300\n"
     ]
    }
   ],
   "source": [
    "class Student :\n",
    "    def __init__(self, name, rno) :\n",
    "        self.a = 10\n",
    "        self.__name = name\n",
    "        self._roll_no = rno\n",
    "        \n",
    "    def getname (self) :\n",
    "        return self.__name\n",
    "    def setname(self,name ) :\n",
    "        if len(name) >= 3 :\n",
    "            self.__name = name\n",
    "        else :\n",
    "            print(\"Name is too shot\")\n",
    "        \n",
    "    def display(self) :\n",
    "        print(self.__name)\n",
    "        print(self._roll_no)\n",
    "        \n",
    "swapna = Student(\"swa\",300)\n",
    "swapna.display()\n",
    "swapna.setname(\"ghosh\")\n",
    "swapna.display()\n"
   ]
  },
  {
   "cell_type": "code",
   "execution_count": 244,
   "id": "b3f55029",
   "metadata": {
    "execution": {
     "iopub.execute_input": "2023-11-07T17:49:09.233615Z",
     "iopub.status.busy": "2023-11-07T17:49:09.233132Z",
     "iopub.status.idle": "2023-11-07T17:49:09.240881Z",
     "shell.execute_reply": "2023-11-07T17:49:09.239535Z"
    },
    "papermill": {
     "duration": 0.138266,
     "end_time": "2023-11-07T17:49:09.243502",
     "exception": false,
     "start_time": "2023-11-07T17:49:09.105236",
     "status": "completed"
    },
    "tags": []
   },
   "outputs": [
    {
     "data": {
      "text/plain": [
       "10"
      ]
     },
     "execution_count": 244,
     "metadata": {},
     "output_type": "execute_result"
    }
   ],
   "source": [
    "# swapna.__name\n",
    "swapna.a"
   ]
  },
  {
   "cell_type": "code",
   "execution_count": 245,
   "id": "9b0a53f6",
   "metadata": {
    "execution": {
     "iopub.execute_input": "2023-11-07T17:49:09.502472Z",
     "iopub.status.busy": "2023-11-07T17:49:09.501320Z",
     "iopub.status.idle": "2023-11-07T17:49:09.506799Z",
     "shell.execute_reply": "2023-11-07T17:49:09.505770Z"
    },
    "papermill": {
     "duration": 0.133463,
     "end_time": "2023-11-07T17:49:09.509539",
     "exception": false,
     "start_time": "2023-11-07T17:49:09.376076",
     "status": "completed"
    },
    "tags": []
   },
   "outputs": [],
   "source": [
    "# ##### Write a Python program that accepts a sequence of c\n",
    "# # omma-separated numbers from the user and generates a list and a tuple of those numbers.\n",
    "# # Sample data : 3, 5, 7, 23\n",
    "# ls = []\n",
    "# for i in range(4):\n",
    "#     a =int(input())\n",
    "#     ls.append(a)\n",
    "# print(f\"the required answer is {ls} and {tuple(ls)}\")"
   ]
  },
  {
   "cell_type": "code",
   "execution_count": 246,
   "id": "9a8fa864",
   "metadata": {
    "execution": {
     "iopub.execute_input": "2023-11-07T17:49:09.770129Z",
     "iopub.status.busy": "2023-11-07T17:49:09.769357Z",
     "iopub.status.idle": "2023-11-07T17:49:09.774365Z",
     "shell.execute_reply": "2023-11-07T17:49:09.773536Z"
    },
    "papermill": {
     "duration": 0.137834,
     "end_time": "2023-11-07T17:49:09.777024",
     "exception": false,
     "start_time": "2023-11-07T17:49:09.639190",
     "status": "completed"
    },
    "tags": []
   },
   "outputs": [],
   "source": [
    "# Write a Python program to display the examination schedule. \n",
    "# (extract the date from exam_st_date).\n",
    "# exam_st_date = (11, 12, 2014)\n",
    "# Sample Output : The examination will start from : 11 / 12 / 2014"
   ]
  },
  {
   "cell_type": "code",
   "execution_count": 247,
   "id": "bdb16423",
   "metadata": {
    "execution": {
     "iopub.execute_input": "2023-11-07T17:49:10.052582Z",
     "iopub.status.busy": "2023-11-07T17:49:10.051801Z",
     "iopub.status.idle": "2023-11-07T17:49:10.059468Z",
     "shell.execute_reply": "2023-11-07T17:49:10.058202Z"
    },
    "papermill": {
     "duration": 0.148441,
     "end_time": "2023-11-07T17:49:10.061918",
     "exception": false,
     "start_time": "2023-11-07T17:49:09.913477",
     "status": "completed"
    },
    "tags": []
   },
   "outputs": [
    {
     "name": "stdout",
     "output_type": "stream",
     "text": [
      "The examination will start from : 6/5/ 2023\n"
     ]
    }
   ],
   "source": [
    "exam_st_date = (6, 5, 2023)\n",
    "for i in range(1):\n",
    "    print(f\"The examination will start from : {exam_st_date[i] }/{ exam_st_date[i+1] }/ {exam_st_date[i+2]}\")"
   ]
  },
  {
   "cell_type": "code",
   "execution_count": 248,
   "id": "fac724c0",
   "metadata": {
    "execution": {
     "iopub.execute_input": "2023-11-07T17:49:10.349948Z",
     "iopub.status.busy": "2023-11-07T17:49:10.349337Z",
     "iopub.status.idle": "2023-11-07T17:49:10.354834Z",
     "shell.execute_reply": "2023-11-07T17:49:10.353877Z"
    },
    "papermill": {
     "duration": 0.14337,
     "end_time": "2023-11-07T17:49:10.357791",
     "exception": false,
     "start_time": "2023-11-07T17:49:10.214421",
     "status": "completed"
    },
    "tags": []
   },
   "outputs": [
    {
     "name": "stdout",
     "output_type": "stream",
     "text": [
      "score of a is 10 score of b is  20\n",
      "score of a is 10 score of b is 20\n"
     ]
    }
   ],
   "source": [
    "a = 10\n",
    "b = 20\n",
    "\n",
    "print(\"score of a is\",a, \"score of b is \",b)\n",
    "print(f\"score of a is {a} score of b is {b}\")"
   ]
  },
  {
   "cell_type": "code",
   "execution_count": 249,
   "id": "89803d6b",
   "metadata": {
    "execution": {
     "iopub.execute_input": "2023-11-07T17:49:10.620913Z",
     "iopub.status.busy": "2023-11-07T17:49:10.619739Z",
     "iopub.status.idle": "2023-11-07T17:49:10.625939Z",
     "shell.execute_reply": "2023-11-07T17:49:10.624819Z"
    },
    "papermill": {
     "duration": 0.139002,
     "end_time": "2023-11-07T17:49:10.628809",
     "exception": false,
     "start_time": "2023-11-07T17:49:10.489807",
     "status": "completed"
    },
    "tags": []
   },
   "outputs": [],
   "source": [
    "# # Sample data : 3, 5, 7, 23\n",
    "# ls = []\n",
    "# for i in range(1):\n",
    "#     a =input()\n",
    "#     ls.append(a)\n",
    "# print(f\"the required answer is {ls} and {tuple(ls)}\")"
   ]
  },
  {
   "cell_type": "code",
   "execution_count": 250,
   "id": "5ddbbc77",
   "metadata": {
    "execution": {
     "iopub.execute_input": "2023-11-07T17:49:10.891782Z",
     "iopub.status.busy": "2023-11-07T17:49:10.890354Z",
     "iopub.status.idle": "2023-11-07T17:49:10.898053Z",
     "shell.execute_reply": "2023-11-07T17:49:10.897136Z"
    },
    "papermill": {
     "duration": 0.143528,
     "end_time": "2023-11-07T17:49:10.901024",
     "exception": false,
     "start_time": "2023-11-07T17:49:10.757496",
     "status": "completed"
    },
    "tags": []
   },
   "outputs": [
    {
     "data": {
      "text/plain": [
       "['my name ', ' mlv prasad and ', ' am a good boy']"
      ]
     },
     "execution_count": 250,
     "metadata": {},
     "output_type": "execute_result"
    }
   ],
   "source": [
    "a = \"my name is mlv prasad and is am a good boy\"\n",
    "b = a.split(\"is\")\n",
    "b"
   ]
  },
  {
   "cell_type": "code",
   "execution_count": 251,
   "id": "387b6f2b",
   "metadata": {
    "execution": {
     "iopub.execute_input": "2023-11-07T17:49:11.164437Z",
     "iopub.status.busy": "2023-11-07T17:49:11.163361Z",
     "iopub.status.idle": "2023-11-07T17:49:11.171258Z",
     "shell.execute_reply": "2023-11-07T17:49:11.169674Z"
    },
    "papermill": {
     "duration": 0.143979,
     "end_time": "2023-11-07T17:49:11.174347",
     "exception": false,
     "start_time": "2023-11-07T17:49:11.030368",
     "status": "completed"
    },
    "tags": []
   },
   "outputs": [
    {
     "name": "stdout",
     "output_type": "stream",
     "text": [
      "                * \n",
      "            * * * \n",
      "        * * * * * \n",
      "    * * * * * * * \n",
      "* * * * * * * * * \n"
     ]
    }
   ],
   "source": [
    "for i in range(5):\n",
    "    print(\"  \"*(2*(4-i)),end=\"\")\n",
    "    print(\"* \"* ( (2*i)+1) )\n",
    "    "
   ]
  },
  {
   "cell_type": "code",
   "execution_count": 252,
   "id": "2cb53b73",
   "metadata": {
    "execution": {
     "iopub.execute_input": "2023-11-07T17:49:11.432087Z",
     "iopub.status.busy": "2023-11-07T17:49:11.431700Z",
     "iopub.status.idle": "2023-11-07T17:49:11.442794Z",
     "shell.execute_reply": "2023-11-07T17:49:11.441662Z"
    },
    "papermill": {
     "duration": 0.145695,
     "end_time": "2023-11-07T17:49:11.445312",
     "exception": false,
     "start_time": "2023-11-07T17:49:11.299617",
     "status": "completed"
    },
    "tags": []
   },
   "outputs": [
    {
     "name": "stdout",
     "output_type": "stream",
     "text": [
      "45\n",
      "12\n"
     ]
    }
   ],
   "source": [
    "#                 * \n",
    "#             * * * \n",
    "#         * * * * * \n",
    "#     * * * * * * * \n",
    "# * * * * * * * * * \n",
    "\n",
    "from abc import ABC , abstractmethod\n",
    "\n",
    "class mlv(ABC):\n",
    "    @abstractmethod\n",
    "    def marks(self) :\n",
    "        pass\n",
    "#     @abstractmethod \n",
    "#     def classes(self) :\n",
    "#         pass\n",
    "    \n",
    "class Mentor(mlv) :\n",
    "    def __init__(self,teach):\n",
    "        self.teach = teach\n",
    "        \n",
    "    def marks(self) :\n",
    "        return 9 * self.teach\n",
    "    \n",
    "    \n",
    "class Instructor(mlv) :\n",
    "    def __init__(self,cltime, months) :\n",
    "        self.cltime = cltime\n",
    "        self.month = months\n",
    "        \n",
    "    def marks(self) :\n",
    "        return self.cltime * self.month\n",
    "c1 = Mentor(5)\n",
    "c2 = Instructor(4,3)\n",
    "shapes = [c1, c2]\n",
    "for c3 in shapes :\n",
    "    print(c3.marks())"
   ]
  },
  {
   "cell_type": "code",
   "execution_count": null,
   "id": "c992c6de",
   "metadata": {
    "papermill": {
     "duration": 0.128037,
     "end_time": "2023-11-07T17:49:11.701800",
     "exception": false,
     "start_time": "2023-11-07T17:49:11.573763",
     "status": "completed"
    },
    "tags": []
   },
   "outputs": [],
   "source": []
  },
  {
   "cell_type": "code",
   "execution_count": null,
   "id": "5a046756",
   "metadata": {
    "papermill": {
     "duration": 0.125535,
     "end_time": "2023-11-07T17:49:11.955499",
     "exception": false,
     "start_time": "2023-11-07T17:49:11.829964",
     "status": "completed"
    },
    "tags": []
   },
   "outputs": [],
   "source": []
  },
  {
   "cell_type": "code",
   "execution_count": null,
   "id": "168c213c",
   "metadata": {
    "papermill": {
     "duration": 0.124857,
     "end_time": "2023-11-07T17:49:12.206198",
     "exception": false,
     "start_time": "2023-11-07T17:49:12.081341",
     "status": "completed"
    },
    "tags": []
   },
   "outputs": [],
   "source": []
  },
  {
   "cell_type": "code",
   "execution_count": 253,
   "id": "ad2602d7",
   "metadata": {
    "execution": {
     "iopub.execute_input": "2023-11-07T17:49:12.465066Z",
     "iopub.status.busy": "2023-11-07T17:49:12.464004Z",
     "iopub.status.idle": "2023-11-07T17:49:12.468941Z",
     "shell.execute_reply": "2023-11-07T17:49:12.468070Z"
    },
    "papermill": {
     "duration": 0.134541,
     "end_time": "2023-11-07T17:49:12.471531",
     "exception": false,
     "start_time": "2023-11-07T17:49:12.336990",
     "status": "completed"
    },
    "tags": []
   },
   "outputs": [],
   "source": [
    "a = \"english\"\n",
    "\n",
    "b = \"hsilgne\"\n",
    "\n",
    "\n",
    "c = \"malayalam\"\n",
    "d = \"malayalam\"\n",
    "\n",
    "# palindrome"
   ]
  },
  {
   "cell_type": "code",
   "execution_count": 254,
   "id": "1e5ffe03",
   "metadata": {
    "execution": {
     "iopub.execute_input": "2023-11-07T17:49:12.727398Z",
     "iopub.status.busy": "2023-11-07T17:49:12.726790Z",
     "iopub.status.idle": "2023-11-07T17:49:12.733445Z",
     "shell.execute_reply": "2023-11-07T17:49:12.732000Z"
    },
    "papermill": {
     "duration": 0.139316,
     "end_time": "2023-11-07T17:49:12.735979",
     "exception": false,
     "start_time": "2023-11-07T17:49:12.596663",
     "status": "completed"
    },
    "tags": []
   },
   "outputs": [
    {
     "data": {
      "text/plain": [
       "['c', 'b', 'a']"
      ]
     },
     "execution_count": 254,
     "metadata": {},
     "output_type": "execute_result"
    }
   ],
   "source": [
    "a = [\"a\",\"b\",\"c\"]\n",
    "b = a[::-1]\n",
    "b"
   ]
  },
  {
   "cell_type": "code",
   "execution_count": 255,
   "id": "7e48f8b4",
   "metadata": {
    "execution": {
     "iopub.execute_input": "2023-11-07T17:49:13.057432Z",
     "iopub.status.busy": "2023-11-07T17:49:13.056653Z",
     "iopub.status.idle": "2023-11-07T17:49:13.063577Z",
     "shell.execute_reply": "2023-11-07T17:49:13.062508Z"
    },
    "papermill": {
     "duration": 0.204908,
     "end_time": "2023-11-07T17:49:13.065983",
     "exception": false,
     "start_time": "2023-11-07T17:49:12.861075",
     "status": "completed"
    },
    "tags": []
   },
   "outputs": [
    {
     "data": {
      "text/plain": [
       "'dasarp'"
      ]
     },
     "execution_count": 255,
     "metadata": {},
     "output_type": "execute_result"
    }
   ],
   "source": [
    "c = \"prasad\"\n",
    "c[::-1]"
   ]
  },
  {
   "cell_type": "code",
   "execution_count": 256,
   "id": "6d8043c8",
   "metadata": {
    "execution": {
     "iopub.execute_input": "2023-11-07T17:49:13.322068Z",
     "iopub.status.busy": "2023-11-07T17:49:13.321691Z",
     "iopub.status.idle": "2023-11-07T17:49:13.326800Z",
     "shell.execute_reply": "2023-11-07T17:49:13.325581Z"
    },
    "papermill": {
     "duration": 0.135,
     "end_time": "2023-11-07T17:49:13.329230",
     "exception": false,
     "start_time": "2023-11-07T17:49:13.194230",
     "status": "completed"
    },
    "tags": []
   },
   "outputs": [],
   "source": [
    "\n",
    "\n",
    "# a  = input()\n",
    "# b = a[::-1]\n",
    "\n",
    "\n",
    "# if a == b :\n",
    "#     print(\"palindrome\")\n",
    "# else :\n",
    "#     print(\"not a palindrome\")"
   ]
  },
  {
   "cell_type": "code",
   "execution_count": 257,
   "id": "0bffb4c7",
   "metadata": {
    "execution": {
     "iopub.execute_input": "2023-11-07T17:49:13.589226Z",
     "iopub.status.busy": "2023-11-07T17:49:13.588611Z",
     "iopub.status.idle": "2023-11-07T17:49:13.596793Z",
     "shell.execute_reply": "2023-11-07T17:49:13.595528Z"
    },
    "papermill": {
     "duration": 0.142826,
     "end_time": "2023-11-07T17:49:13.599214",
     "exception": false,
     "start_time": "2023-11-07T17:49:13.456388",
     "status": "completed"
    },
    "tags": []
   },
   "outputs": [
    {
     "data": {
      "text/plain": [
       "'mentor a is prasad mlv'"
      ]
     },
     "execution_count": 257,
     "metadata": {},
     "output_type": "execute_result"
    }
   ],
   "source": [
    "a = \"mlv prasad is a mentor\"\n",
    "\n",
    "# b = \"mentor a is prasad mlv\"\n",
    "b = a.split()\n",
    "c = b[::-1]\n",
    "c\n",
    "\n",
    "d =  \" \".join(c)\n",
    "d"
   ]
  },
  {
   "cell_type": "code",
   "execution_count": 258,
   "id": "8a2fd650",
   "metadata": {
    "execution": {
     "iopub.execute_input": "2023-11-07T17:49:13.868794Z",
     "iopub.status.busy": "2023-11-07T17:49:13.867244Z",
     "iopub.status.idle": "2023-11-07T17:49:13.877687Z",
     "shell.execute_reply": "2023-11-07T17:49:13.876197Z"
    },
    "papermill": {
     "duration": 0.148663,
     "end_time": "2023-11-07T17:49:13.880212",
     "exception": false,
     "start_time": "2023-11-07T17:49:13.731549",
     "status": "completed"
    },
    "tags": []
   },
   "outputs": [
    {
     "data": {
      "text/plain": [
       "['mlv', 'prasad', 'is', 'a', 'mentor']"
      ]
     },
     "execution_count": 258,
     "metadata": {},
     "output_type": "execute_result"
    }
   ],
   "source": [
    "a = \"mlv prasad is a mentor\"\n",
    "\n",
    "# b = \"mentor a is prasad mlv\"\n",
    "b = a.split()\n",
    "b "
   ]
  },
  {
   "cell_type": "code",
   "execution_count": 259,
   "id": "bc6f145e",
   "metadata": {
    "execution": {
     "iopub.execute_input": "2023-11-07T17:49:14.159597Z",
     "iopub.status.busy": "2023-11-07T17:49:14.158927Z",
     "iopub.status.idle": "2023-11-07T17:49:14.165109Z",
     "shell.execute_reply": "2023-11-07T17:49:14.163963Z"
    },
    "papermill": {
     "duration": 0.150158,
     "end_time": "2023-11-07T17:49:14.168275",
     "exception": false,
     "start_time": "2023-11-07T17:49:14.018117",
     "status": "completed"
    },
    "tags": []
   },
   "outputs": [
    {
     "name": "stdout",
     "output_type": "stream",
     "text": [
      "the student name is  swapna and she is a  good student\n"
     ]
    }
   ],
   "source": [
    "a = \"swapna\"\n",
    "print(\"the student name is \", a,\"and she is a  good student\")"
   ]
  },
  {
   "cell_type": "code",
   "execution_count": 260,
   "id": "9a8f3ed8",
   "metadata": {
    "execution": {
     "iopub.execute_input": "2023-11-07T17:49:14.431299Z",
     "iopub.status.busy": "2023-11-07T17:49:14.430634Z",
     "iopub.status.idle": "2023-11-07T17:49:14.437378Z",
     "shell.execute_reply": "2023-11-07T17:49:14.435893Z"
    },
    "papermill": {
     "duration": 0.140767,
     "end_time": "2023-11-07T17:49:14.439905",
     "exception": false,
     "start_time": "2023-11-07T17:49:14.299138",
     "status": "completed"
    },
    "tags": []
   },
   "outputs": [
    {
     "name": "stdout",
     "output_type": "stream",
     "text": [
      "the student name is  swapna  and she is a  good student\n"
     ]
    }
   ],
   "source": [
    "print(f\"the student name is  {a}  and she is a  good student\")"
   ]
  },
  {
   "cell_type": "code",
   "execution_count": 261,
   "id": "a0dda6b3",
   "metadata": {
    "execution": {
     "iopub.execute_input": "2023-11-07T17:49:14.698548Z",
     "iopub.status.busy": "2023-11-07T17:49:14.698138Z",
     "iopub.status.idle": "2023-11-07T17:49:14.704273Z",
     "shell.execute_reply": "2023-11-07T17:49:14.703025Z"
    },
    "papermill": {
     "duration": 0.137435,
     "end_time": "2023-11-07T17:49:14.706759",
     "exception": false,
     "start_time": "2023-11-07T17:49:14.569324",
     "status": "completed"
    },
    "tags": []
   },
   "outputs": [
    {
     "name": "stdout",
     "output_type": "stream",
     "text": [
      "the student name is  swapna  and she is a  good student\n"
     ]
    }
   ],
   "source": [
    "txt = \"the student name is  {}  and she is a  good student\"\n",
    "print(txt.format(a))"
   ]
  },
  {
   "cell_type": "code",
   "execution_count": 262,
   "id": "745310c1",
   "metadata": {
    "execution": {
     "iopub.execute_input": "2023-11-07T17:49:14.964680Z",
     "iopub.status.busy": "2023-11-07T17:49:14.963514Z",
     "iopub.status.idle": "2023-11-07T17:49:14.969794Z",
     "shell.execute_reply": "2023-11-07T17:49:14.968658Z"
    },
    "papermill": {
     "duration": 0.137606,
     "end_time": "2023-11-07T17:49:14.972543",
     "exception": false,
     "start_time": "2023-11-07T17:49:14.834937",
     "status": "completed"
    },
    "tags": []
   },
   "outputs": [],
   "source": [
    "# 9. Write a Python program to display the examination schedule. (extract the date from exam_st_date).\n",
    "# exam_st_date = (11, 12, 2014)\n",
    "# Sample Output : The examination will start from : 11 / 12 / 2014\n",
    "\n",
    "\n",
    "# 10. Write a Python program that accepts an integer (n) and computes the value of n+nn+nnn.\n",
    "# Sample value of n is 5\n",
    "# Expected Result : 615\n",
    "\n",
    "# 11. Write a Python program to print the documents (syntax, description etc.) of Python built-in function(s).\n",
    "# Sample function : abs()\n",
    "# Expected Result :\n",
    "# abs(number) -> number\n",
    "# Return the absolute value of the argument."
   ]
  },
  {
   "cell_type": "code",
   "execution_count": 263,
   "id": "72502b8e",
   "metadata": {
    "execution": {
     "iopub.execute_input": "2023-11-07T17:49:15.229039Z",
     "iopub.status.busy": "2023-11-07T17:49:15.228670Z",
     "iopub.status.idle": "2023-11-07T17:49:15.234675Z",
     "shell.execute_reply": "2023-11-07T17:49:15.233506Z"
    },
    "papermill": {
     "duration": 0.13779,
     "end_time": "2023-11-07T17:49:15.237662",
     "exception": false,
     "start_time": "2023-11-07T17:49:15.099872",
     "status": "completed"
    },
    "tags": []
   },
   "outputs": [
    {
     "name": "stdout",
     "output_type": "stream",
     "text": [
      "Sample Output : The examination will start from : 15 / 3 / 2022\n"
     ]
    }
   ],
   "source": [
    "exam_st_date = (15, 3, 2022)\n",
    "a, b ,c = exam_st_date \n",
    "print(f\"Sample Output : The examination will start from : {a} / {b} / {c}\")"
   ]
  },
  {
   "cell_type": "code",
   "execution_count": 264,
   "id": "03a9c912",
   "metadata": {
    "execution": {
     "iopub.execute_input": "2023-11-07T17:49:15.496122Z",
     "iopub.status.busy": "2023-11-07T17:49:15.495726Z",
     "iopub.status.idle": "2023-11-07T17:49:15.504528Z",
     "shell.execute_reply": "2023-11-07T17:49:15.503334Z"
    },
    "papermill": {
     "duration": 0.143896,
     "end_time": "2023-11-07T17:49:15.508540",
     "exception": false,
     "start_time": "2023-11-07T17:49:15.364644",
     "status": "completed"
    },
    "tags": []
   },
   "outputs": [
    {
     "name": "stdout",
     "output_type": "stream",
     "text": [
      "7\n",
      "77\n",
      "777\n"
     ]
    },
    {
     "data": {
      "text/plain": [
       "861"
      ]
     },
     "execution_count": 264,
     "metadata": {},
     "output_type": "execute_result"
    }
   ],
   "source": [
    "# 10. Write a Python program that accepts an integer (n) and computes the value of n+nn+nnn.\n",
    "# Sample value of n is 5\n",
    "# Expected Result : 615\n",
    "\n",
    "\n",
    "# 7 \n",
    "\n",
    "# 7 + 77 + 777\n",
    "\n",
    "n = 7 \n",
    "sum = 0\n",
    "for i in range(3):\n",
    "    a  = str(7)*(i+1)\n",
    "    print(a)\n",
    "    sum = sum + int(a)\n",
    "    \n",
    "sum    "
   ]
  },
  {
   "cell_type": "code",
   "execution_count": 265,
   "id": "758c2800",
   "metadata": {
    "execution": {
     "iopub.execute_input": "2023-11-07T17:49:15.776406Z",
     "iopub.status.busy": "2023-11-07T17:49:15.775985Z",
     "iopub.status.idle": "2023-11-07T17:49:15.780990Z",
     "shell.execute_reply": "2023-11-07T17:49:15.779857Z"
    },
    "papermill": {
     "duration": 0.142382,
     "end_time": "2023-11-07T17:49:15.783470",
     "exception": false,
     "start_time": "2023-11-07T17:49:15.641088",
     "status": "completed"
    },
    "tags": []
   },
   "outputs": [],
   "source": [
    "# 7 + 77 + 777"
   ]
  },
  {
   "cell_type": "code",
   "execution_count": 266,
   "id": "f8a51111",
   "metadata": {
    "execution": {
     "iopub.execute_input": "2023-11-07T17:49:16.053568Z",
     "iopub.status.busy": "2023-11-07T17:49:16.053133Z",
     "iopub.status.idle": "2023-11-07T17:49:16.060069Z",
     "shell.execute_reply": "2023-11-07T17:49:16.058521Z"
    },
    "papermill": {
     "duration": 0.148447,
     "end_time": "2023-11-07T17:49:16.062616",
     "exception": false,
     "start_time": "2023-11-07T17:49:15.914169",
     "status": "completed"
    },
    "tags": []
   },
   "outputs": [
    {
     "name": "stdout",
     "output_type": "stream",
     "text": [
      "Help on built-in function abs in module builtins:\n",
      "\n",
      "abs(x, /)\n",
      "    Return the absolute value of the argument.\n",
      "\n"
     ]
    }
   ],
   "source": [
    "help(abs)"
   ]
  },
  {
   "cell_type": "code",
   "execution_count": 267,
   "id": "a17dd578",
   "metadata": {
    "execution": {
     "iopub.execute_input": "2023-11-07T17:49:16.337462Z",
     "iopub.status.busy": "2023-11-07T17:49:16.337048Z",
     "iopub.status.idle": "2023-11-07T17:49:16.371865Z",
     "shell.execute_reply": "2023-11-07T17:49:16.370314Z"
    },
    "papermill": {
     "duration": 0.175049,
     "end_time": "2023-11-07T17:49:16.378158",
     "exception": false,
     "start_time": "2023-11-07T17:49:16.203109",
     "status": "completed"
    },
    "tags": []
   },
   "outputs": [
    {
     "name": "stdout",
     "output_type": "stream",
     "text": [
      "Help on class str in module builtins:\n",
      "\n",
      "class str(object)\n",
      " |  str(object='') -> str\n",
      " |  str(bytes_or_buffer[, encoding[, errors]]) -> str\n",
      " |  \n",
      " |  Create a new string object from the given object. If encoding or\n",
      " |  errors is specified, then the object must expose a data buffer\n",
      " |  that will be decoded using the given encoding and error handler.\n",
      " |  Otherwise, returns the result of object.__str__() (if defined)\n",
      " |  or repr(object).\n",
      " |  encoding defaults to sys.getdefaultencoding().\n",
      " |  errors defaults to 'strict'.\n",
      " |  \n",
      " |  Methods defined here:\n",
      " |  \n",
      " |  __add__(self, value, /)\n",
      " |      Return self+value.\n",
      " |  \n",
      " |  __contains__(self, key, /)\n",
      " |      Return key in self.\n",
      " |  \n",
      " |  __eq__(self, value, /)\n",
      " |      Return self==value.\n",
      " |  \n",
      " |  __format__(self, format_spec, /)\n",
      " |      Return a formatted version of the string as described by format_spec.\n",
      " |  \n",
      " |  __ge__(self, value, /)\n",
      " |      Return self>=value.\n",
      " |  \n",
      " |  __getattribute__(self, name, /)\n",
      " |      Return getattr(self, name).\n",
      " |  \n",
      " |  __getitem__(self, key, /)\n",
      " |      Return self[key].\n",
      " |  \n",
      " |  __getnewargs__(...)\n",
      " |  \n",
      " |  __gt__(self, value, /)\n",
      " |      Return self>value.\n",
      " |  \n",
      " |  __hash__(self, /)\n",
      " |      Return hash(self).\n",
      " |  \n",
      " |  __iter__(self, /)\n",
      " |      Implement iter(self).\n",
      " |  \n",
      " |  __le__(self, value, /)\n",
      " |      Return self<=value.\n",
      " |  \n",
      " |  __len__(self, /)\n",
      " |      Return len(self).\n",
      " |  \n",
      " |  __lt__(self, value, /)\n",
      " |      Return self<value.\n",
      " |  \n",
      " |  __mod__(self, value, /)\n",
      " |      Return self%value.\n",
      " |  \n",
      " |  __mul__(self, value, /)\n",
      " |      Return self*value.\n",
      " |  \n",
      " |  __ne__(self, value, /)\n",
      " |      Return self!=value.\n",
      " |  \n",
      " |  __repr__(self, /)\n",
      " |      Return repr(self).\n",
      " |  \n",
      " |  __rmod__(self, value, /)\n",
      " |      Return value%self.\n",
      " |  \n",
      " |  __rmul__(self, value, /)\n",
      " |      Return value*self.\n",
      " |  \n",
      " |  __sizeof__(self, /)\n",
      " |      Return the size of the string in memory, in bytes.\n",
      " |  \n",
      " |  __str__(self, /)\n",
      " |      Return str(self).\n",
      " |  \n",
      " |  capitalize(self, /)\n",
      " |      Return a capitalized version of the string.\n",
      " |      \n",
      " |      More specifically, make the first character have upper case and the rest lower\n",
      " |      case.\n",
      " |  \n",
      " |  casefold(self, /)\n",
      " |      Return a version of the string suitable for caseless comparisons.\n",
      " |  \n",
      " |  center(self, width, fillchar=' ', /)\n",
      " |      Return a centered string of length width.\n",
      " |      \n",
      " |      Padding is done using the specified fill character (default is a space).\n",
      " |  \n",
      " |  count(...)\n",
      " |      S.count(sub[, start[, end]]) -> int\n",
      " |      \n",
      " |      Return the number of non-overlapping occurrences of substring sub in\n",
      " |      string S[start:end].  Optional arguments start and end are\n",
      " |      interpreted as in slice notation.\n",
      " |  \n",
      " |  encode(self, /, encoding='utf-8', errors='strict')\n",
      " |      Encode the string using the codec registered for encoding.\n",
      " |      \n",
      " |      encoding\n",
      " |        The encoding in which to encode the string.\n",
      " |      errors\n",
      " |        The error handling scheme to use for encoding errors.\n",
      " |        The default is 'strict' meaning that encoding errors raise a\n",
      " |        UnicodeEncodeError.  Other possible values are 'ignore', 'replace' and\n",
      " |        'xmlcharrefreplace' as well as any other name registered with\n",
      " |        codecs.register_error that can handle UnicodeEncodeErrors.\n",
      " |  \n",
      " |  endswith(...)\n",
      " |      S.endswith(suffix[, start[, end]]) -> bool\n",
      " |      \n",
      " |      Return True if S ends with the specified suffix, False otherwise.\n",
      " |      With optional start, test S beginning at that position.\n",
      " |      With optional end, stop comparing S at that position.\n",
      " |      suffix can also be a tuple of strings to try.\n",
      " |  \n",
      " |  expandtabs(self, /, tabsize=8)\n",
      " |      Return a copy where all tab characters are expanded using spaces.\n",
      " |      \n",
      " |      If tabsize is not given, a tab size of 8 characters is assumed.\n",
      " |  \n",
      " |  find(...)\n",
      " |      S.find(sub[, start[, end]]) -> int\n",
      " |      \n",
      " |      Return the lowest index in S where substring sub is found,\n",
      " |      such that sub is contained within S[start:end].  Optional\n",
      " |      arguments start and end are interpreted as in slice notation.\n",
      " |      \n",
      " |      Return -1 on failure.\n",
      " |  \n",
      " |  format(...)\n",
      " |      S.format(*args, **kwargs) -> str\n",
      " |      \n",
      " |      Return a formatted version of S, using substitutions from args and kwargs.\n",
      " |      The substitutions are identified by braces ('{' and '}').\n",
      " |  \n",
      " |  format_map(...)\n",
      " |      S.format_map(mapping) -> str\n",
      " |      \n",
      " |      Return a formatted version of S, using substitutions from mapping.\n",
      " |      The substitutions are identified by braces ('{' and '}').\n",
      " |  \n",
      " |  index(...)\n",
      " |      S.index(sub[, start[, end]]) -> int\n",
      " |      \n",
      " |      Return the lowest index in S where substring sub is found,\n",
      " |      such that sub is contained within S[start:end].  Optional\n",
      " |      arguments start and end are interpreted as in slice notation.\n",
      " |      \n",
      " |      Raises ValueError when the substring is not found.\n",
      " |  \n",
      " |  isalnum(self, /)\n",
      " |      Return True if the string is an alpha-numeric string, False otherwise.\n",
      " |      \n",
      " |      A string is alpha-numeric if all characters in the string are alpha-numeric and\n",
      " |      there is at least one character in the string.\n",
      " |  \n",
      " |  isalpha(self, /)\n",
      " |      Return True if the string is an alphabetic string, False otherwise.\n",
      " |      \n",
      " |      A string is alphabetic if all characters in the string are alphabetic and there\n",
      " |      is at least one character in the string.\n",
      " |  \n",
      " |  isascii(self, /)\n",
      " |      Return True if all characters in the string are ASCII, False otherwise.\n",
      " |      \n",
      " |      ASCII characters have code points in the range U+0000-U+007F.\n",
      " |      Empty string is ASCII too.\n",
      " |  \n",
      " |  isdecimal(self, /)\n",
      " |      Return True if the string is a decimal string, False otherwise.\n",
      " |      \n",
      " |      A string is a decimal string if all characters in the string are decimal and\n",
      " |      there is at least one character in the string.\n",
      " |  \n",
      " |  isdigit(self, /)\n",
      " |      Return True if the string is a digit string, False otherwise.\n",
      " |      \n",
      " |      A string is a digit string if all characters in the string are digits and there\n",
      " |      is at least one character in the string.\n",
      " |  \n",
      " |  isidentifier(self, /)\n",
      " |      Return True if the string is a valid Python identifier, False otherwise.\n",
      " |      \n",
      " |      Call keyword.iskeyword(s) to test whether string s is a reserved identifier,\n",
      " |      such as \"def\" or \"class\".\n",
      " |  \n",
      " |  islower(self, /)\n",
      " |      Return True if the string is a lowercase string, False otherwise.\n",
      " |      \n",
      " |      A string is lowercase if all cased characters in the string are lowercase and\n",
      " |      there is at least one cased character in the string.\n",
      " |  \n",
      " |  isnumeric(self, /)\n",
      " |      Return True if the string is a numeric string, False otherwise.\n",
      " |      \n",
      " |      A string is numeric if all characters in the string are numeric and there is at\n",
      " |      least one character in the string.\n",
      " |  \n",
      " |  isprintable(self, /)\n",
      " |      Return True if the string is printable, False otherwise.\n",
      " |      \n",
      " |      A string is printable if all of its characters are considered printable in\n",
      " |      repr() or if it is empty.\n",
      " |  \n",
      " |  isspace(self, /)\n",
      " |      Return True if the string is a whitespace string, False otherwise.\n",
      " |      \n",
      " |      A string is whitespace if all characters in the string are whitespace and there\n",
      " |      is at least one character in the string.\n",
      " |  \n",
      " |  istitle(self, /)\n",
      " |      Return True if the string is a title-cased string, False otherwise.\n",
      " |      \n",
      " |      In a title-cased string, upper- and title-case characters may only\n",
      " |      follow uncased characters and lowercase characters only cased ones.\n",
      " |  \n",
      " |  isupper(self, /)\n",
      " |      Return True if the string is an uppercase string, False otherwise.\n",
      " |      \n",
      " |      A string is uppercase if all cased characters in the string are uppercase and\n",
      " |      there is at least one cased character in the string.\n",
      " |  \n",
      " |  join(self, iterable, /)\n",
      " |      Concatenate any number of strings.\n",
      " |      \n",
      " |      The string whose method is called is inserted in between each given string.\n",
      " |      The result is returned as a new string.\n",
      " |      \n",
      " |      Example: '.'.join(['ab', 'pq', 'rs']) -> 'ab.pq.rs'\n",
      " |  \n",
      " |  ljust(self, width, fillchar=' ', /)\n",
      " |      Return a left-justified string of length width.\n",
      " |      \n",
      " |      Padding is done using the specified fill character (default is a space).\n",
      " |  \n",
      " |  lower(self, /)\n",
      " |      Return a copy of the string converted to lowercase.\n",
      " |  \n",
      " |  lstrip(self, chars=None, /)\n",
      " |      Return a copy of the string with leading whitespace removed.\n",
      " |      \n",
      " |      If chars is given and not None, remove characters in chars instead.\n",
      " |  \n",
      " |  partition(self, sep, /)\n",
      " |      Partition the string into three parts using the given separator.\n",
      " |      \n",
      " |      This will search for the separator in the string.  If the separator is found,\n",
      " |      returns a 3-tuple containing the part before the separator, the separator\n",
      " |      itself, and the part after it.\n",
      " |      \n",
      " |      If the separator is not found, returns a 3-tuple containing the original string\n",
      " |      and two empty strings.\n",
      " |  \n",
      " |  removeprefix(self, prefix, /)\n",
      " |      Return a str with the given prefix string removed if present.\n",
      " |      \n",
      " |      If the string starts with the prefix string, return string[len(prefix):].\n",
      " |      Otherwise, return a copy of the original string.\n",
      " |  \n",
      " |  removesuffix(self, suffix, /)\n",
      " |      Return a str with the given suffix string removed if present.\n",
      " |      \n",
      " |      If the string ends with the suffix string and that suffix is not empty,\n",
      " |      return string[:-len(suffix)]. Otherwise, return a copy of the original\n",
      " |      string.\n",
      " |  \n",
      " |  replace(self, old, new, count=-1, /)\n",
      " |      Return a copy with all occurrences of substring old replaced by new.\n",
      " |      \n",
      " |        count\n",
      " |          Maximum number of occurrences to replace.\n",
      " |          -1 (the default value) means replace all occurrences.\n",
      " |      \n",
      " |      If the optional argument count is given, only the first count occurrences are\n",
      " |      replaced.\n",
      " |  \n",
      " |  rfind(...)\n",
      " |      S.rfind(sub[, start[, end]]) -> int\n",
      " |      \n",
      " |      Return the highest index in S where substring sub is found,\n",
      " |      such that sub is contained within S[start:end].  Optional\n",
      " |      arguments start and end are interpreted as in slice notation.\n",
      " |      \n",
      " |      Return -1 on failure.\n",
      " |  \n",
      " |  rindex(...)\n",
      " |      S.rindex(sub[, start[, end]]) -> int\n",
      " |      \n",
      " |      Return the highest index in S where substring sub is found,\n",
      " |      such that sub is contained within S[start:end].  Optional\n",
      " |      arguments start and end are interpreted as in slice notation.\n",
      " |      \n",
      " |      Raises ValueError when the substring is not found.\n",
      " |  \n",
      " |  rjust(self, width, fillchar=' ', /)\n",
      " |      Return a right-justified string of length width.\n",
      " |      \n",
      " |      Padding is done using the specified fill character (default is a space).\n",
      " |  \n",
      " |  rpartition(self, sep, /)\n",
      " |      Partition the string into three parts using the given separator.\n",
      " |      \n",
      " |      This will search for the separator in the string, starting at the end. If\n",
      " |      the separator is found, returns a 3-tuple containing the part before the\n",
      " |      separator, the separator itself, and the part after it.\n",
      " |      \n",
      " |      If the separator is not found, returns a 3-tuple containing two empty strings\n",
      " |      and the original string.\n",
      " |  \n",
      " |  rsplit(self, /, sep=None, maxsplit=-1)\n",
      " |      Return a list of the substrings in the string, using sep as the separator string.\n",
      " |      \n",
      " |        sep\n",
      " |          The separator used to split the string.\n",
      " |      \n",
      " |          When set to None (the default value), will split on any whitespace\n",
      " |          character (including \\\\n \\\\r \\\\t \\\\f and spaces) and will discard\n",
      " |          empty strings from the result.\n",
      " |        maxsplit\n",
      " |          Maximum number of splits (starting from the left).\n",
      " |          -1 (the default value) means no limit.\n",
      " |      \n",
      " |      Splitting starts at the end of the string and works to the front.\n",
      " |  \n",
      " |  rstrip(self, chars=None, /)\n",
      " |      Return a copy of the string with trailing whitespace removed.\n",
      " |      \n",
      " |      If chars is given and not None, remove characters in chars instead.\n",
      " |  \n",
      " |  split(self, /, sep=None, maxsplit=-1)\n",
      " |      Return a list of the substrings in the string, using sep as the separator string.\n",
      " |      \n",
      " |        sep\n",
      " |          The separator used to split the string.\n",
      " |      \n",
      " |          When set to None (the default value), will split on any whitespace\n",
      " |          character (including \\\\n \\\\r \\\\t \\\\f and spaces) and will discard\n",
      " |          empty strings from the result.\n",
      " |        maxsplit\n",
      " |          Maximum number of splits (starting from the left).\n",
      " |          -1 (the default value) means no limit.\n",
      " |      \n",
      " |      Note, str.split() is mainly useful for data that has been intentionally\n",
      " |      delimited.  With natural text that includes punctuation, consider using\n",
      " |      the regular expression module.\n",
      " |  \n",
      " |  splitlines(self, /, keepends=False)\n",
      " |      Return a list of the lines in the string, breaking at line boundaries.\n",
      " |      \n",
      " |      Line breaks are not included in the resulting list unless keepends is given and\n",
      " |      true.\n",
      " |  \n",
      " |  startswith(...)\n",
      " |      S.startswith(prefix[, start[, end]]) -> bool\n",
      " |      \n",
      " |      Return True if S starts with the specified prefix, False otherwise.\n",
      " |      With optional start, test S beginning at that position.\n",
      " |      With optional end, stop comparing S at that position.\n",
      " |      prefix can also be a tuple of strings to try.\n",
      " |  \n",
      " |  strip(self, chars=None, /)\n",
      " |      Return a copy of the string with leading and trailing whitespace removed.\n",
      " |      \n",
      " |      If chars is given and not None, remove characters in chars instead.\n",
      " |  \n",
      " |  swapcase(self, /)\n",
      " |      Convert uppercase characters to lowercase and lowercase characters to uppercase.\n",
      " |  \n",
      " |  title(self, /)\n",
      " |      Return a version of the string where each word is titlecased.\n",
      " |      \n",
      " |      More specifically, words start with uppercased characters and all remaining\n",
      " |      cased characters have lower case.\n",
      " |  \n",
      " |  translate(self, table, /)\n",
      " |      Replace each character in the string using the given translation table.\n",
      " |      \n",
      " |        table\n",
      " |          Translation table, which must be a mapping of Unicode ordinals to\n",
      " |          Unicode ordinals, strings, or None.\n",
      " |      \n",
      " |      The table must implement lookup/indexing via __getitem__, for instance a\n",
      " |      dictionary or list.  If this operation raises LookupError, the character is\n",
      " |      left untouched.  Characters mapped to None are deleted.\n",
      " |  \n",
      " |  upper(self, /)\n",
      " |      Return a copy of the string converted to uppercase.\n",
      " |  \n",
      " |  zfill(self, width, /)\n",
      " |      Pad a numeric string with zeros on the left, to fill a field of the given width.\n",
      " |      \n",
      " |      The string is never truncated.\n",
      " |  \n",
      " |  ----------------------------------------------------------------------\n",
      " |  Static methods defined here:\n",
      " |  \n",
      " |  __new__(*args, **kwargs) from builtins.type\n",
      " |      Create and return a new object.  See help(type) for accurate signature.\n",
      " |  \n",
      " |  maketrans(...)\n",
      " |      Return a translation table usable for str.translate().\n",
      " |      \n",
      " |      If there is only one argument, it must be a dictionary mapping Unicode\n",
      " |      ordinals (integers) or characters to Unicode ordinals, strings or None.\n",
      " |      Character keys will be then converted to ordinals.\n",
      " |      If there are two arguments, they must be strings of equal length, and\n",
      " |      in the resulting dictionary, each character in x will be mapped to the\n",
      " |      character at the same position in y. If there is a third argument, it\n",
      " |      must be a string, whose characters will be mapped to None in the result.\n",
      "\n"
     ]
    }
   ],
   "source": [
    "help(str)"
   ]
  },
  {
   "cell_type": "code",
   "execution_count": 268,
   "id": "79f04ff5",
   "metadata": {
    "execution": {
     "iopub.execute_input": "2023-11-07T17:49:16.651150Z",
     "iopub.status.busy": "2023-11-07T17:49:16.650616Z",
     "iopub.status.idle": "2023-11-07T17:49:16.676993Z",
     "shell.execute_reply": "2023-11-07T17:49:16.675179Z"
    },
    "papermill": {
     "duration": 0.165033,
     "end_time": "2023-11-07T17:49:16.680790",
     "exception": false,
     "start_time": "2023-11-07T17:49:16.515757",
     "status": "completed"
    },
    "tags": []
   },
   "outputs": [
    {
     "name": "stdout",
     "output_type": "stream",
     "text": [
      "Help on class int in module builtins:\n",
      "\n",
      "class int(object)\n",
      " |  int([x]) -> integer\n",
      " |  int(x, base=10) -> integer\n",
      " |  \n",
      " |  Convert a number or string to an integer, or return 0 if no arguments\n",
      " |  are given.  If x is a number, return x.__int__().  For floating point\n",
      " |  numbers, this truncates towards zero.\n",
      " |  \n",
      " |  If x is not a number or if base is given, then x must be a string,\n",
      " |  bytes, or bytearray instance representing an integer literal in the\n",
      " |  given base.  The literal can be preceded by '+' or '-' and be surrounded\n",
      " |  by whitespace.  The base defaults to 10.  Valid bases are 0 and 2-36.\n",
      " |  Base 0 means to interpret the base from the string as an integer literal.\n",
      " |  >>> int('0b100', base=0)\n",
      " |  4\n",
      " |  \n",
      " |  Built-in subclasses:\n",
      " |      bool\n",
      " |  \n",
      " |  Methods defined here:\n",
      " |  \n",
      " |  __abs__(self, /)\n",
      " |      abs(self)\n",
      " |  \n",
      " |  __add__(self, value, /)\n",
      " |      Return self+value.\n",
      " |  \n",
      " |  __and__(self, value, /)\n",
      " |      Return self&value.\n",
      " |  \n",
      " |  __bool__(self, /)\n",
      " |      True if self else False\n",
      " |  \n",
      " |  __ceil__(...)\n",
      " |      Ceiling of an Integral returns itself.\n",
      " |  \n",
      " |  __divmod__(self, value, /)\n",
      " |      Return divmod(self, value).\n",
      " |  \n",
      " |  __eq__(self, value, /)\n",
      " |      Return self==value.\n",
      " |  \n",
      " |  __float__(self, /)\n",
      " |      float(self)\n",
      " |  \n",
      " |  __floor__(...)\n",
      " |      Flooring an Integral returns itself.\n",
      " |  \n",
      " |  __floordiv__(self, value, /)\n",
      " |      Return self//value.\n",
      " |  \n",
      " |  __format__(self, format_spec, /)\n",
      " |      Default object formatter.\n",
      " |  \n",
      " |  __ge__(self, value, /)\n",
      " |      Return self>=value.\n",
      " |  \n",
      " |  __getattribute__(self, name, /)\n",
      " |      Return getattr(self, name).\n",
      " |  \n",
      " |  __getnewargs__(self, /)\n",
      " |  \n",
      " |  __gt__(self, value, /)\n",
      " |      Return self>value.\n",
      " |  \n",
      " |  __hash__(self, /)\n",
      " |      Return hash(self).\n",
      " |  \n",
      " |  __index__(self, /)\n",
      " |      Return self converted to an integer, if self is suitable for use as an index into a list.\n",
      " |  \n",
      " |  __int__(self, /)\n",
      " |      int(self)\n",
      " |  \n",
      " |  __invert__(self, /)\n",
      " |      ~self\n",
      " |  \n",
      " |  __le__(self, value, /)\n",
      " |      Return self<=value.\n",
      " |  \n",
      " |  __lshift__(self, value, /)\n",
      " |      Return self<<value.\n",
      " |  \n",
      " |  __lt__(self, value, /)\n",
      " |      Return self<value.\n",
      " |  \n",
      " |  __mod__(self, value, /)\n",
      " |      Return self%value.\n",
      " |  \n",
      " |  __mul__(self, value, /)\n",
      " |      Return self*value.\n",
      " |  \n",
      " |  __ne__(self, value, /)\n",
      " |      Return self!=value.\n",
      " |  \n",
      " |  __neg__(self, /)\n",
      " |      -self\n",
      " |  \n",
      " |  __or__(self, value, /)\n",
      " |      Return self|value.\n",
      " |  \n",
      " |  __pos__(self, /)\n",
      " |      +self\n",
      " |  \n",
      " |  __pow__(self, value, mod=None, /)\n",
      " |      Return pow(self, value, mod).\n",
      " |  \n",
      " |  __radd__(self, value, /)\n",
      " |      Return value+self.\n",
      " |  \n",
      " |  __rand__(self, value, /)\n",
      " |      Return value&self.\n",
      " |  \n",
      " |  __rdivmod__(self, value, /)\n",
      " |      Return divmod(value, self).\n",
      " |  \n",
      " |  __repr__(self, /)\n",
      " |      Return repr(self).\n",
      " |  \n",
      " |  __rfloordiv__(self, value, /)\n",
      " |      Return value//self.\n",
      " |  \n",
      " |  __rlshift__(self, value, /)\n",
      " |      Return value<<self.\n",
      " |  \n",
      " |  __rmod__(self, value, /)\n",
      " |      Return value%self.\n",
      " |  \n",
      " |  __rmul__(self, value, /)\n",
      " |      Return value*self.\n",
      " |  \n",
      " |  __ror__(self, value, /)\n",
      " |      Return value|self.\n",
      " |  \n",
      " |  __round__(...)\n",
      " |      Rounding an Integral returns itself.\n",
      " |      \n",
      " |      Rounding with an ndigits argument also returns an integer.\n",
      " |  \n",
      " |  __rpow__(self, value, mod=None, /)\n",
      " |      Return pow(value, self, mod).\n",
      " |  \n",
      " |  __rrshift__(self, value, /)\n",
      " |      Return value>>self.\n",
      " |  \n",
      " |  __rshift__(self, value, /)\n",
      " |      Return self>>value.\n",
      " |  \n",
      " |  __rsub__(self, value, /)\n",
      " |      Return value-self.\n",
      " |  \n",
      " |  __rtruediv__(self, value, /)\n",
      " |      Return value/self.\n",
      " |  \n",
      " |  __rxor__(self, value, /)\n",
      " |      Return value^self.\n",
      " |  \n",
      " |  __sizeof__(self, /)\n",
      " |      Returns size in memory, in bytes.\n",
      " |  \n",
      " |  __sub__(self, value, /)\n",
      " |      Return self-value.\n",
      " |  \n",
      " |  __truediv__(self, value, /)\n",
      " |      Return self/value.\n",
      " |  \n",
      " |  __trunc__(...)\n",
      " |      Truncating an Integral returns itself.\n",
      " |  \n",
      " |  __xor__(self, value, /)\n",
      " |      Return self^value.\n",
      " |  \n",
      " |  as_integer_ratio(self, /)\n",
      " |      Return integer ratio.\n",
      " |      \n",
      " |      Return a pair of integers, whose ratio is exactly equal to the original int\n",
      " |      and with a positive denominator.\n",
      " |      \n",
      " |      >>> (10).as_integer_ratio()\n",
      " |      (10, 1)\n",
      " |      >>> (-10).as_integer_ratio()\n",
      " |      (-10, 1)\n",
      " |      >>> (0).as_integer_ratio()\n",
      " |      (0, 1)\n",
      " |  \n",
      " |  bit_count(self, /)\n",
      " |      Number of ones in the binary representation of the absolute value of self.\n",
      " |      \n",
      " |      Also known as the population count.\n",
      " |      \n",
      " |      >>> bin(13)\n",
      " |      '0b1101'\n",
      " |      >>> (13).bit_count()\n",
      " |      3\n",
      " |  \n",
      " |  bit_length(self, /)\n",
      " |      Number of bits necessary to represent self in binary.\n",
      " |      \n",
      " |      >>> bin(37)\n",
      " |      '0b100101'\n",
      " |      >>> (37).bit_length()\n",
      " |      6\n",
      " |  \n",
      " |  conjugate(...)\n",
      " |      Returns self, the complex conjugate of any int.\n",
      " |  \n",
      " |  to_bytes(self, /, length, byteorder, *, signed=False)\n",
      " |      Return an array of bytes representing an integer.\n",
      " |      \n",
      " |      length\n",
      " |        Length of bytes object to use.  An OverflowError is raised if the\n",
      " |        integer is not representable with the given number of bytes.\n",
      " |      byteorder\n",
      " |        The byte order used to represent the integer.  If byteorder is 'big',\n",
      " |        the most significant byte is at the beginning of the byte array.  If\n",
      " |        byteorder is 'little', the most significant byte is at the end of the\n",
      " |        byte array.  To request the native byte order of the host system, use\n",
      " |        `sys.byteorder' as the byte order value.\n",
      " |      signed\n",
      " |        Determines whether two's complement is used to represent the integer.\n",
      " |        If signed is False and a negative integer is given, an OverflowError\n",
      " |        is raised.\n",
      " |  \n",
      " |  ----------------------------------------------------------------------\n",
      " |  Class methods defined here:\n",
      " |  \n",
      " |  from_bytes(bytes, byteorder, *, signed=False) from builtins.type\n",
      " |      Return the integer represented by the given array of bytes.\n",
      " |      \n",
      " |      bytes\n",
      " |        Holds the array of bytes to convert.  The argument must either\n",
      " |        support the buffer protocol or be an iterable object producing bytes.\n",
      " |        Bytes and bytearray are examples of built-in objects that support the\n",
      " |        buffer protocol.\n",
      " |      byteorder\n",
      " |        The byte order used to represent the integer.  If byteorder is 'big',\n",
      " |        the most significant byte is at the beginning of the byte array.  If\n",
      " |        byteorder is 'little', the most significant byte is at the end of the\n",
      " |        byte array.  To request the native byte order of the host system, use\n",
      " |        `sys.byteorder' as the byte order value.\n",
      " |      signed\n",
      " |        Indicates whether two's complement is used to represent the integer.\n",
      " |  \n",
      " |  ----------------------------------------------------------------------\n",
      " |  Static methods defined here:\n",
      " |  \n",
      " |  __new__(*args, **kwargs) from builtins.type\n",
      " |      Create and return a new object.  See help(type) for accurate signature.\n",
      " |  \n",
      " |  ----------------------------------------------------------------------\n",
      " |  Data descriptors defined here:\n",
      " |  \n",
      " |  denominator\n",
      " |      the denominator of a rational number in lowest terms\n",
      " |  \n",
      " |  imag\n",
      " |      the imaginary part of a complex number\n",
      " |  \n",
      " |  numerator\n",
      " |      the numerator of a rational number in lowest terms\n",
      " |  \n",
      " |  real\n",
      " |      the real part of a complex number\n",
      "\n"
     ]
    }
   ],
   "source": [
    "help(int)"
   ]
  },
  {
   "cell_type": "code",
   "execution_count": 269,
   "id": "3e166841",
   "metadata": {
    "execution": {
     "iopub.execute_input": "2023-11-07T17:49:16.951465Z",
     "iopub.status.busy": "2023-11-07T17:49:16.951017Z",
     "iopub.status.idle": "2023-11-07T17:49:16.957787Z",
     "shell.execute_reply": "2023-11-07T17:49:16.956557Z"
    },
    "papermill": {
     "duration": 0.145211,
     "end_time": "2023-11-07T17:49:16.960445",
     "exception": false,
     "start_time": "2023-11-07T17:49:16.815234",
     "status": "completed"
    },
    "tags": []
   },
   "outputs": [
    {
     "name": "stdout",
     "output_type": "stream",
     "text": [
      "9 10\n"
     ]
    }
   ],
   "source": [
    "a = -9\n",
    "\n",
    "b = 10\n",
    "\n",
    "print(abs(a),abs(b))"
   ]
  },
  {
   "cell_type": "code",
   "execution_count": 270,
   "id": "54bb0a3c",
   "metadata": {
    "execution": {
     "iopub.execute_input": "2023-11-07T17:49:17.234030Z",
     "iopub.status.busy": "2023-11-07T17:49:17.233655Z",
     "iopub.status.idle": "2023-11-07T17:49:17.240789Z",
     "shell.execute_reply": "2023-11-07T17:49:17.239976Z"
    },
    "papermill": {
     "duration": 0.142858,
     "end_time": "2023-11-07T17:49:17.242764",
     "exception": false,
     "start_time": "2023-11-07T17:49:17.099906",
     "status": "completed"
    },
    "tags": []
   },
   "outputs": [
    {
     "data": {
      "text/plain": [
       "dict_keys(['beautiful', 'great', 'maths'])"
      ]
     },
     "execution_count": 270,
     "metadata": {},
     "output_type": "execute_result"
    }
   ],
   "source": [
    "dt = {\"beautiful\": \"which is glorious\",\n",
    "     \"great\": \" to do some extraordinary\",\n",
    "     \"maths\": \"study of numericals\"}\n",
    "dt.keys()"
   ]
  },
  {
   "cell_type": "code",
   "execution_count": 271,
   "id": "50d86e57",
   "metadata": {
    "execution": {
     "iopub.execute_input": "2023-11-07T17:49:17.578619Z",
     "iopub.status.busy": "2023-11-07T17:49:17.578201Z",
     "iopub.status.idle": "2023-11-07T17:49:17.584475Z",
     "shell.execute_reply": "2023-11-07T17:49:17.583625Z"
    },
    "papermill": {
     "duration": 0.210105,
     "end_time": "2023-11-07T17:49:17.586625",
     "exception": false,
     "start_time": "2023-11-07T17:49:17.376520",
     "status": "completed"
    },
    "tags": []
   },
   "outputs": [
    {
     "data": {
      "text/plain": [
       "dict_values(['which is glorious', ' to do some extraordinary', 'study of numericals'])"
      ]
     },
     "execution_count": 271,
     "metadata": {},
     "output_type": "execute_result"
    }
   ],
   "source": [
    "dt.values()"
   ]
  },
  {
   "cell_type": "code",
   "execution_count": 272,
   "id": "26bea747",
   "metadata": {
    "execution": {
     "iopub.execute_input": "2023-11-07T17:49:17.847397Z",
     "iopub.status.busy": "2023-11-07T17:49:17.846996Z",
     "iopub.status.idle": "2023-11-07T17:49:17.854596Z",
     "shell.execute_reply": "2023-11-07T17:49:17.853375Z"
    },
    "papermill": {
     "duration": 0.140037,
     "end_time": "2023-11-07T17:49:17.856876",
     "exception": false,
     "start_time": "2023-11-07T17:49:17.716839",
     "status": "completed"
    },
    "tags": []
   },
   "outputs": [
    {
     "data": {
      "text/plain": [
       "dict_items([('beautiful', 'which is glorious'), ('great', ' to do some extraordinary'), ('maths', 'study of numericals')])"
      ]
     },
     "execution_count": 272,
     "metadata": {},
     "output_type": "execute_result"
    }
   ],
   "source": [
    "dt.items()"
   ]
  },
  {
   "cell_type": "code",
   "execution_count": 273,
   "id": "1de13b51",
   "metadata": {
    "execution": {
     "iopub.execute_input": "2023-11-07T17:49:18.119792Z",
     "iopub.status.busy": "2023-11-07T17:49:18.119166Z",
     "iopub.status.idle": "2023-11-07T17:49:18.127248Z",
     "shell.execute_reply": "2023-11-07T17:49:18.126090Z"
    },
    "papermill": {
     "duration": 0.144427,
     "end_time": "2023-11-07T17:49:18.130132",
     "exception": false,
     "start_time": "2023-11-07T17:49:17.985705",
     "status": "completed"
    },
    "tags": []
   },
   "outputs": [
    {
     "data": {
      "text/plain": [
       "'study'"
      ]
     },
     "execution_count": 273,
     "metadata": {},
     "output_type": "execute_result"
    }
   ],
   "source": [
    "dt[\"maths\"].split()[0]"
   ]
  },
  {
   "cell_type": "code",
   "execution_count": 274,
   "id": "ead24841",
   "metadata": {
    "execution": {
     "iopub.execute_input": "2023-11-07T17:49:18.396367Z",
     "iopub.status.busy": "2023-11-07T17:49:18.395093Z",
     "iopub.status.idle": "2023-11-07T17:49:18.404168Z",
     "shell.execute_reply": "2023-11-07T17:49:18.403024Z"
    },
    "papermill": {
     "duration": 0.147589,
     "end_time": "2023-11-07T17:49:18.407028",
     "exception": false,
     "start_time": "2023-11-07T17:49:18.259439",
     "status": "completed"
    },
    "tags": []
   },
   "outputs": [
    {
     "data": {
      "text/plain": [
       "{'a': 'ddddd', 'b': 'eeeee', 'c': 'fffff'}"
      ]
     },
     "execution_count": 274,
     "metadata": {},
     "output_type": "execute_result"
    }
   ],
   "source": [
    "p= [\"a\",\"b\",\"c\"]\n",
    "q = [\"ddddd\",\"eeeee\",\"fffff\"]\n",
    "\n",
    "ans = {  p[i] : q[i]    for i in range(len(p))}\n",
    "ans"
   ]
  },
  {
   "cell_type": "code",
   "execution_count": 275,
   "id": "5f0aad0d",
   "metadata": {
    "execution": {
     "iopub.execute_input": "2023-11-07T17:49:18.670356Z",
     "iopub.status.busy": "2023-11-07T17:49:18.669956Z",
     "iopub.status.idle": "2023-11-07T17:49:18.675468Z",
     "shell.execute_reply": "2023-11-07T17:49:18.674617Z"
    },
    "papermill": {
     "duration": 0.137249,
     "end_time": "2023-11-07T17:49:18.677928",
     "exception": false,
     "start_time": "2023-11-07T17:49:18.540679",
     "status": "completed"
    },
    "tags": []
   },
   "outputs": [
    {
     "name": "stdout",
     "output_type": "stream",
     "text": [
      "{'brand': 'Ford', 'model': 'Mustang'}\n"
     ]
    }
   ],
   "source": [
    "car = {\n",
    "  \"brand\": \"Ford\",\n",
    "  \"model\": \"Mustang\",\n",
    "  \"year\": 1964\n",
    "}\n",
    "\n",
    "car.popitem()\n",
    "\n",
    "print(car)"
   ]
  },
  {
   "cell_type": "code",
   "execution_count": 276,
   "id": "3f09fdf0",
   "metadata": {
    "execution": {
     "iopub.execute_input": "2023-11-07T17:49:18.940672Z",
     "iopub.status.busy": "2023-11-07T17:49:18.940311Z",
     "iopub.status.idle": "2023-11-07T17:49:18.947511Z",
     "shell.execute_reply": "2023-11-07T17:49:18.946207Z"
    },
    "papermill": {
     "duration": 0.139974,
     "end_time": "2023-11-07T17:49:18.950304",
     "exception": false,
     "start_time": "2023-11-07T17:49:18.810330",
     "status": "completed"
    },
    "tags": []
   },
   "outputs": [
    {
     "data": {
      "text/plain": [
       "'prasad'"
      ]
     },
     "execution_count": 276,
     "metadata": {},
     "output_type": "execute_result"
    }
   ],
   "source": [
    "a = [\"suhs\",\"mlv\",\"prasad\"]\n",
    "a.pop()"
   ]
  },
  {
   "cell_type": "code",
   "execution_count": 277,
   "id": "64429075",
   "metadata": {
    "execution": {
     "iopub.execute_input": "2023-11-07T17:49:19.217720Z",
     "iopub.status.busy": "2023-11-07T17:49:19.217101Z",
     "iopub.status.idle": "2023-11-07T17:49:19.221122Z",
     "shell.execute_reply": "2023-11-07T17:49:19.220183Z"
    },
    "papermill": {
     "duration": 0.139057,
     "end_time": "2023-11-07T17:49:19.223670",
     "exception": false,
     "start_time": "2023-11-07T17:49:19.084613",
     "status": "completed"
    },
    "tags": []
   },
   "outputs": [],
   "source": [
    "# numpy\n",
    "\n",
    "# numerical python\n"
   ]
  },
  {
   "cell_type": "code",
   "execution_count": 278,
   "id": "2c013a63",
   "metadata": {
    "execution": {
     "iopub.execute_input": "2023-11-07T17:49:19.505205Z",
     "iopub.status.busy": "2023-11-07T17:49:19.504670Z",
     "iopub.status.idle": "2023-11-07T17:49:19.512849Z",
     "shell.execute_reply": "2023-11-07T17:49:19.511798Z"
    },
    "papermill": {
     "duration": 0.160757,
     "end_time": "2023-11-07T17:49:19.515834",
     "exception": false,
     "start_time": "2023-11-07T17:49:19.355077",
     "status": "completed"
    },
    "tags": []
   },
   "outputs": [
    {
     "data": {
      "text/plain": [
       "[10, 20, 30]"
      ]
     },
     "execution_count": 278,
     "metadata": {},
     "output_type": "execute_result"
    }
   ],
   "source": [
    "a = [10,20,30]\n",
    "a"
   ]
  },
  {
   "cell_type": "code",
   "execution_count": 279,
   "id": "1e490948",
   "metadata": {
    "execution": {
     "iopub.execute_input": "2023-11-07T17:49:19.815384Z",
     "iopub.status.busy": "2023-11-07T17:49:19.814634Z",
     "iopub.status.idle": "2023-11-07T17:49:19.826269Z",
     "shell.execute_reply": "2023-11-07T17:49:19.824741Z"
    },
    "papermill": {
     "duration": 0.163516,
     "end_time": "2023-11-07T17:49:19.829186",
     "exception": false,
     "start_time": "2023-11-07T17:49:19.665670",
     "status": "completed"
    },
    "tags": []
   },
   "outputs": [
    {
     "data": {
      "text/plain": [
       "array([10, 20, 30])"
      ]
     },
     "execution_count": 279,
     "metadata": {},
     "output_type": "execute_result"
    }
   ],
   "source": [
    "import numpy as np\n",
    "\n",
    "\n",
    "b = np.array([10,20,30])\n",
    "b"
   ]
  },
  {
   "cell_type": "code",
   "execution_count": 280,
   "id": "cb918c0d",
   "metadata": {
    "execution": {
     "iopub.execute_input": "2023-11-07T17:49:20.121833Z",
     "iopub.status.busy": "2023-11-07T17:49:20.121454Z",
     "iopub.status.idle": "2023-11-07T17:49:20.135883Z",
     "shell.execute_reply": "2023-11-07T17:49:20.134762Z"
    },
    "papermill": {
     "duration": 0.174448,
     "end_time": "2023-11-07T17:49:20.140072",
     "exception": false,
     "start_time": "2023-11-07T17:49:19.965624",
     "status": "completed"
    },
    "tags": []
   },
   "outputs": [
    {
     "data": {
      "text/plain": [
       "10"
      ]
     },
     "execution_count": 280,
     "metadata": {},
     "output_type": "execute_result"
    }
   ],
   "source": [
    "b[0]"
   ]
  },
  {
   "cell_type": "code",
   "execution_count": 281,
   "id": "769c129b",
   "metadata": {
    "execution": {
     "iopub.execute_input": "2023-11-07T17:49:20.434384Z",
     "iopub.status.busy": "2023-11-07T17:49:20.433429Z",
     "iopub.status.idle": "2023-11-07T17:49:20.441240Z",
     "shell.execute_reply": "2023-11-07T17:49:20.440150Z"
    },
    "papermill": {
     "duration": 0.145571,
     "end_time": "2023-11-07T17:49:20.444070",
     "exception": false,
     "start_time": "2023-11-07T17:49:20.298499",
     "status": "completed"
    },
    "tags": []
   },
   "outputs": [
    {
     "data": {
      "text/plain": [
       "30"
      ]
     },
     "execution_count": 281,
     "metadata": {},
     "output_type": "execute_result"
    }
   ],
   "source": [
    "b[-1]"
   ]
  },
  {
   "cell_type": "code",
   "execution_count": 282,
   "id": "a1ab78b4",
   "metadata": {
    "execution": {
     "iopub.execute_input": "2023-11-07T17:49:20.714459Z",
     "iopub.status.busy": "2023-11-07T17:49:20.713422Z",
     "iopub.status.idle": "2023-11-07T17:49:20.721096Z",
     "shell.execute_reply": "2023-11-07T17:49:20.720061Z"
    },
    "papermill": {
     "duration": 0.145737,
     "end_time": "2023-11-07T17:49:20.723359",
     "exception": false,
     "start_time": "2023-11-07T17:49:20.577622",
     "status": "completed"
    },
    "tags": []
   },
   "outputs": [
    {
     "data": {
      "text/plain": [
       "array([10, 20])"
      ]
     },
     "execution_count": 282,
     "metadata": {},
     "output_type": "execute_result"
    }
   ],
   "source": [
    "b[0:2]"
   ]
  },
  {
   "cell_type": "code",
   "execution_count": 283,
   "id": "a7c9cd97",
   "metadata": {
    "execution": {
     "iopub.execute_input": "2023-11-07T17:49:20.986951Z",
     "iopub.status.busy": "2023-11-07T17:49:20.986509Z",
     "iopub.status.idle": "2023-11-07T17:49:20.993639Z",
     "shell.execute_reply": "2023-11-07T17:49:20.992735Z"
    },
    "papermill": {
     "duration": 0.141919,
     "end_time": "2023-11-07T17:49:20.995977",
     "exception": false,
     "start_time": "2023-11-07T17:49:20.854058",
     "status": "completed"
    },
    "tags": []
   },
   "outputs": [
    {
     "data": {
      "text/plain": [
       "array([10, 20, 30])"
      ]
     },
     "execution_count": 283,
     "metadata": {},
     "output_type": "execute_result"
    }
   ],
   "source": [
    "c = [10,20,30]\n",
    "\n",
    "d = np.array(c)\n",
    "d"
   ]
  },
  {
   "cell_type": "code",
   "execution_count": 284,
   "id": "c85e5e5e",
   "metadata": {
    "execution": {
     "iopub.execute_input": "2023-11-07T17:49:21.262625Z",
     "iopub.status.busy": "2023-11-07T17:49:21.261976Z",
     "iopub.status.idle": "2023-11-07T17:49:21.268573Z",
     "shell.execute_reply": "2023-11-07T17:49:21.267595Z"
    },
    "papermill": {
     "duration": 0.143013,
     "end_time": "2023-11-07T17:49:21.271180",
     "exception": false,
     "start_time": "2023-11-07T17:49:21.128167",
     "status": "completed"
    },
    "tags": []
   },
   "outputs": [
    {
     "data": {
      "text/plain": [
       "array([[0., 0., 0., 0., 0.],\n",
       "       [0., 0., 0., 0., 0.],\n",
       "       [0., 0., 0., 0., 0.],\n",
       "       [0., 0., 0., 0., 0.],\n",
       "       [0., 0., 0., 0., 0.]])"
      ]
     },
     "execution_count": 284,
     "metadata": {},
     "output_type": "execute_result"
    }
   ],
   "source": [
    "e = np.zeros((5,5))  \n",
    "e"
   ]
  },
  {
   "cell_type": "code",
   "execution_count": 285,
   "id": "13960eb1",
   "metadata": {
    "execution": {
     "iopub.execute_input": "2023-11-07T17:49:21.537677Z",
     "iopub.status.busy": "2023-11-07T17:49:21.537267Z",
     "iopub.status.idle": "2023-11-07T17:49:21.545182Z",
     "shell.execute_reply": "2023-11-07T17:49:21.544155Z"
    },
    "papermill": {
     "duration": 0.142873,
     "end_time": "2023-11-07T17:49:21.547562",
     "exception": false,
     "start_time": "2023-11-07T17:49:21.404689",
     "status": "completed"
    },
    "tags": []
   },
   "outputs": [
    {
     "data": {
      "text/plain": [
       "array([[1., 1., 1., 1., 1., 1.],\n",
       "       [1., 1., 1., 1., 1., 1.]])"
      ]
     },
     "execution_count": 285,
     "metadata": {},
     "output_type": "execute_result"
    }
   ],
   "source": [
    "f = np.ones((2,6))\n",
    "f"
   ]
  },
  {
   "cell_type": "code",
   "execution_count": 286,
   "id": "13d8f50d",
   "metadata": {
    "execution": {
     "iopub.execute_input": "2023-11-07T17:49:21.879179Z",
     "iopub.status.busy": "2023-11-07T17:49:21.878789Z",
     "iopub.status.idle": "2023-11-07T17:49:21.887201Z",
     "shell.execute_reply": "2023-11-07T17:49:21.885984Z"
    },
    "papermill": {
     "duration": 0.145248,
     "end_time": "2023-11-07T17:49:21.889787",
     "exception": false,
     "start_time": "2023-11-07T17:49:21.744539",
     "status": "completed"
    },
    "tags": []
   },
   "outputs": [
    {
     "data": {
      "text/plain": [
       "array([[22, 22, 22, 22, 22, 22, 22, 22],\n",
       "       [22, 22, 22, 22, 22, 22, 22, 22],\n",
       "       [22, 22, 22, 22, 22, 22, 22, 22],\n",
       "       [22, 22, 22, 22, 22, 22, 22, 22],\n",
       "       [22, 22, 22, 22, 22, 22, 22, 22]])"
      ]
     },
     "execution_count": 286,
     "metadata": {},
     "output_type": "execute_result"
    }
   ],
   "source": [
    "g = np.full((5,8),22)\n",
    "g"
   ]
  },
  {
   "cell_type": "code",
   "execution_count": 287,
   "id": "70b1fbe6",
   "metadata": {
    "execution": {
     "iopub.execute_input": "2023-11-07T17:49:22.155544Z",
     "iopub.status.busy": "2023-11-07T17:49:22.155143Z",
     "iopub.status.idle": "2023-11-07T17:49:22.162708Z",
     "shell.execute_reply": "2023-11-07T17:49:22.161433Z"
    },
    "papermill": {
     "duration": 0.142948,
     "end_time": "2023-11-07T17:49:22.164972",
     "exception": false,
     "start_time": "2023-11-07T17:49:22.022024",
     "status": "completed"
    },
    "tags": []
   },
   "outputs": [
    {
     "data": {
      "text/plain": [
       "array([2, 3, 4])"
      ]
     },
     "execution_count": 287,
     "metadata": {},
     "output_type": "execute_result"
    }
   ],
   "source": [
    "# range(5) = [0,1,2,3,4]\n",
    "\n",
    "h = np.arange(2,5)\n",
    "h"
   ]
  },
  {
   "cell_type": "code",
   "execution_count": 288,
   "id": "c8699614",
   "metadata": {
    "execution": {
     "iopub.execute_input": "2023-11-07T17:49:22.429111Z",
     "iopub.status.busy": "2023-11-07T17:49:22.428725Z",
     "iopub.status.idle": "2023-11-07T17:49:22.436485Z",
     "shell.execute_reply": "2023-11-07T17:49:22.435359Z"
    },
    "papermill": {
     "duration": 0.143131,
     "end_time": "2023-11-07T17:49:22.438861",
     "exception": false,
     "start_time": "2023-11-07T17:49:22.295730",
     "status": "completed"
    },
    "tags": []
   },
   "outputs": [
    {
     "data": {
      "text/plain": [
       "array([ 2,  4,  6,  8, 10, 12])"
      ]
     },
     "execution_count": 288,
     "metadata": {},
     "output_type": "execute_result"
    }
   ],
   "source": [
    "i = np.linspace(2,12,6).astype(\"int\")\n",
    "i"
   ]
  },
  {
   "cell_type": "code",
   "execution_count": 289,
   "id": "c8d2207c",
   "metadata": {
    "execution": {
     "iopub.execute_input": "2023-11-07T17:49:22.704777Z",
     "iopub.status.busy": "2023-11-07T17:49:22.704401Z",
     "iopub.status.idle": "2023-11-07T17:49:22.714138Z",
     "shell.execute_reply": "2023-11-07T17:49:22.712450Z"
    },
    "papermill": {
     "duration": 0.145331,
     "end_time": "2023-11-07T17:49:22.716528",
     "exception": false,
     "start_time": "2023-11-07T17:49:22.571197",
     "status": "completed"
    },
    "tags": []
   },
   "outputs": [
    {
     "data": {
      "text/plain": [
       "array([[43.52414394, 48.18265832, 97.63894022, 66.67675062, 64.36395232],\n",
       "       [34.67780829, 21.86068511, 37.68205838, 48.28139164, 74.45974002],\n",
       "       [86.94469336, 75.07546508,  9.54220485, 76.99723314, 64.70423803],\n",
       "       [10.94114877, 90.75708671, 18.20043669, 59.13007127, 15.03828766],\n",
       "       [44.01516582, 41.39045007, 55.46524305, 66.17234832, 58.90012754]])"
      ]
     },
     "execution_count": 289,
     "metadata": {},
     "output_type": "execute_result"
    }
   ],
   "source": [
    "a = np.random.rand(5,5)* 100 # 0 - 1\n",
    "a"
   ]
  },
  {
   "cell_type": "code",
   "execution_count": 290,
   "id": "85739674",
   "metadata": {
    "execution": {
     "iopub.execute_input": "2023-11-07T17:49:22.983495Z",
     "iopub.status.busy": "2023-11-07T17:49:22.983097Z",
     "iopub.status.idle": "2023-11-07T17:49:22.993239Z",
     "shell.execute_reply": "2023-11-07T17:49:22.991537Z"
    },
    "papermill": {
     "duration": 0.148275,
     "end_time": "2023-11-07T17:49:22.995845",
     "exception": false,
     "start_time": "2023-11-07T17:49:22.847570",
     "status": "completed"
    },
    "tags": []
   },
   "outputs": [
    {
     "data": {
      "text/plain": [
       "array([[10, 15, 13],\n",
       "       [15, 12, 19]])"
      ]
     },
     "execution_count": 290,
     "metadata": {},
     "output_type": "execute_result"
    }
   ],
   "source": [
    "b = np.random.randint(10,20,(2,3))\n",
    "b"
   ]
  },
  {
   "cell_type": "code",
   "execution_count": 291,
   "id": "af0e3776",
   "metadata": {
    "execution": {
     "iopub.execute_input": "2023-11-07T17:49:23.262961Z",
     "iopub.status.busy": "2023-11-07T17:49:23.262576Z",
     "iopub.status.idle": "2023-11-07T17:49:23.272602Z",
     "shell.execute_reply": "2023-11-07T17:49:23.270840Z"
    },
    "papermill": {
     "duration": 0.1451,
     "end_time": "2023-11-07T17:49:23.275528",
     "exception": false,
     "start_time": "2023-11-07T17:49:23.130428",
     "status": "completed"
    },
    "tags": []
   },
   "outputs": [
    {
     "data": {
      "text/plain": [
       "[[1, 2, 3], [4, 5, 6]]"
      ]
     },
     "execution_count": 291,
     "metadata": {},
     "output_type": "execute_result"
    }
   ],
   "source": [
    "a = [[1,2,3],[4,5,6]]\n",
    "a"
   ]
  },
  {
   "cell_type": "code",
   "execution_count": 292,
   "id": "87813efe",
   "metadata": {
    "execution": {
     "iopub.execute_input": "2023-11-07T17:49:23.542248Z",
     "iopub.status.busy": "2023-11-07T17:49:23.541846Z",
     "iopub.status.idle": "2023-11-07T17:49:23.549950Z",
     "shell.execute_reply": "2023-11-07T17:49:23.548518Z"
    },
    "papermill": {
     "duration": 0.144568,
     "end_time": "2023-11-07T17:49:23.552924",
     "exception": false,
     "start_time": "2023-11-07T17:49:23.408356",
     "status": "completed"
    },
    "tags": []
   },
   "outputs": [
    {
     "data": {
      "text/plain": [
       "array([[1, 2, 3],\n",
       "       [4, 5, 6]])"
      ]
     },
     "execution_count": 292,
     "metadata": {},
     "output_type": "execute_result"
    }
   ],
   "source": [
    "b = np.array(a)\n",
    "b"
   ]
  },
  {
   "cell_type": "code",
   "execution_count": 293,
   "id": "42d6e0a5",
   "metadata": {
    "execution": {
     "iopub.execute_input": "2023-11-07T17:49:23.818771Z",
     "iopub.status.busy": "2023-11-07T17:49:23.818092Z",
     "iopub.status.idle": "2023-11-07T17:49:23.823378Z",
     "shell.execute_reply": "2023-11-07T17:49:23.822292Z"
    },
    "papermill": {
     "duration": 0.140313,
     "end_time": "2023-11-07T17:49:23.825805",
     "exception": false,
     "start_time": "2023-11-07T17:49:23.685492",
     "status": "completed"
    },
    "tags": []
   },
   "outputs": [],
   "source": [
    "a = np.zeros((10,10))\n",
    "b = a[:5,:]"
   ]
  },
  {
   "cell_type": "code",
   "execution_count": 294,
   "id": "6b42550f",
   "metadata": {
    "execution": {
     "iopub.execute_input": "2023-11-07T17:49:24.094382Z",
     "iopub.status.busy": "2023-11-07T17:49:24.093772Z",
     "iopub.status.idle": "2023-11-07T17:49:24.101326Z",
     "shell.execute_reply": "2023-11-07T17:49:24.100174Z"
    },
    "papermill": {
     "duration": 0.144432,
     "end_time": "2023-11-07T17:49:24.103982",
     "exception": false,
     "start_time": "2023-11-07T17:49:23.959550",
     "status": "completed"
    },
    "tags": []
   },
   "outputs": [
    {
     "data": {
      "text/plain": [
       "10"
      ]
     },
     "execution_count": 294,
     "metadata": {},
     "output_type": "execute_result"
    }
   ],
   "source": [
    "b.shape[1]"
   ]
  },
  {
   "cell_type": "code",
   "execution_count": 295,
   "id": "011ce8fa",
   "metadata": {
    "execution": {
     "iopub.execute_input": "2023-11-07T17:49:24.374855Z",
     "iopub.status.busy": "2023-11-07T17:49:24.374420Z",
     "iopub.status.idle": "2023-11-07T17:49:24.382784Z",
     "shell.execute_reply": "2023-11-07T17:49:24.381638Z"
    },
    "papermill": {
     "duration": 0.144637,
     "end_time": "2023-11-07T17:49:24.385269",
     "exception": false,
     "start_time": "2023-11-07T17:49:24.240632",
     "status": "completed"
    },
    "tags": []
   },
   "outputs": [
    {
     "data": {
      "text/plain": [
       "array([[0, 0, 0, 0, 0, 0, 0, 0]])"
      ]
     },
     "execution_count": 295,
     "metadata": {},
     "output_type": "execute_result"
    }
   ],
   "source": [
    "a = [[0,0,0,0],[0,0,0,0]]\n",
    "b = np.array(a)\n",
    "b.reshape((1,8))"
   ]
  },
  {
   "cell_type": "code",
   "execution_count": 296,
   "id": "fbeef2ac",
   "metadata": {
    "execution": {
     "iopub.execute_input": "2023-11-07T17:49:24.671728Z",
     "iopub.status.busy": "2023-11-07T17:49:24.671200Z",
     "iopub.status.idle": "2023-11-07T17:49:24.680345Z",
     "shell.execute_reply": "2023-11-07T17:49:24.679327Z"
    },
    "papermill": {
     "duration": 0.157771,
     "end_time": "2023-11-07T17:49:24.682553",
     "exception": false,
     "start_time": "2023-11-07T17:49:24.524782",
     "status": "completed"
    },
    "tags": []
   },
   "outputs": [
    {
     "data": {
      "text/plain": [
       "array([[0],\n",
       "       [0],\n",
       "       [0],\n",
       "       [0]])"
      ]
     },
     "execution_count": 296,
     "metadata": {},
     "output_type": "execute_result"
    }
   ],
   "source": [
    "a = [0,0,0,0]\n",
    "b = np.array(a)\n",
    "b= b[:,np.newaxis]\n",
    "b"
   ]
  },
  {
   "cell_type": "code",
   "execution_count": 297,
   "id": "14bce294",
   "metadata": {
    "execution": {
     "iopub.execute_input": "2023-11-07T17:49:24.969235Z",
     "iopub.status.busy": "2023-11-07T17:49:24.968765Z",
     "iopub.status.idle": "2023-11-07T17:49:24.977233Z",
     "shell.execute_reply": "2023-11-07T17:49:24.975547Z"
    },
    "papermill": {
     "duration": 0.15463,
     "end_time": "2023-11-07T17:49:24.979899",
     "exception": false,
     "start_time": "2023-11-07T17:49:24.825269",
     "status": "completed"
    },
    "tags": []
   },
   "outputs": [
    {
     "data": {
      "text/plain": [
       "dtype('int64')"
      ]
     },
     "execution_count": 297,
     "metadata": {},
     "output_type": "execute_result"
    }
   ],
   "source": [
    "b.dtype"
   ]
  },
  {
   "cell_type": "code",
   "execution_count": 298,
   "id": "78534849",
   "metadata": {
    "execution": {
     "iopub.execute_input": "2023-11-07T17:49:25.259085Z",
     "iopub.status.busy": "2023-11-07T17:49:25.258705Z",
     "iopub.status.idle": "2023-11-07T17:49:25.266779Z",
     "shell.execute_reply": "2023-11-07T17:49:25.265059Z"
    },
    "papermill": {
     "duration": 0.150627,
     "end_time": "2023-11-07T17:49:25.269457",
     "exception": false,
     "start_time": "2023-11-07T17:49:25.118830",
     "status": "completed"
    },
    "tags": []
   },
   "outputs": [
    {
     "data": {
      "text/plain": [
       "array([0., 1., 0., 0.])"
      ]
     },
     "execution_count": 298,
     "metadata": {},
     "output_type": "execute_result"
    }
   ],
   "source": [
    "a = [0,1,0,0]\n",
    "b = np.array(a,dtype= float)\n",
    "b"
   ]
  },
  {
   "cell_type": "code",
   "execution_count": 299,
   "id": "8ea2c5b8",
   "metadata": {
    "execution": {
     "iopub.execute_input": "2023-11-07T17:49:25.555170Z",
     "iopub.status.busy": "2023-11-07T17:49:25.554784Z",
     "iopub.status.idle": "2023-11-07T17:49:25.562609Z",
     "shell.execute_reply": "2023-11-07T17:49:25.561747Z"
    },
    "papermill": {
     "duration": 0.151108,
     "end_time": "2023-11-07T17:49:25.564729",
     "exception": false,
     "start_time": "2023-11-07T17:49:25.413621",
     "status": "completed"
    },
    "tags": []
   },
   "outputs": [
    {
     "data": {
      "text/plain": [
       "[100, 120, 115, 140, 10, 10, 10, 10]"
      ]
     },
     "execution_count": 299,
     "metadata": {},
     "output_type": "execute_result"
    }
   ],
   "source": [
    "a = [100,120,115,140]\n",
    "b = [10,10,10,10]\n",
    "a + b"
   ]
  },
  {
   "cell_type": "code",
   "execution_count": 300,
   "id": "6629def9",
   "metadata": {
    "execution": {
     "iopub.execute_input": "2023-11-07T17:49:25.907525Z",
     "iopub.status.busy": "2023-11-07T17:49:25.907117Z",
     "iopub.status.idle": "2023-11-07T17:49:25.916024Z",
     "shell.execute_reply": "2023-11-07T17:49:25.914439Z"
    },
    "papermill": {
     "duration": 0.148617,
     "end_time": "2023-11-07T17:49:25.918492",
     "exception": false,
     "start_time": "2023-11-07T17:49:25.769875",
     "status": "completed"
    },
    "tags": []
   },
   "outputs": [
    {
     "data": {
      "text/plain": [
       "array([110. , 132. , 126.5, 154. ])"
      ]
     },
     "execution_count": 300,
     "metadata": {},
     "output_type": "execute_result"
    }
   ],
   "source": [
    "a = np.array([100,120,115,140])\n",
    "b = np.array([1.1,1.1,1.1,1.1])\n",
    "a * b"
   ]
  },
  {
   "cell_type": "code",
   "execution_count": 301,
   "id": "54020502",
   "metadata": {
    "execution": {
     "iopub.execute_input": "2023-11-07T17:49:26.191792Z",
     "iopub.status.busy": "2023-11-07T17:49:26.191309Z",
     "iopub.status.idle": "2023-11-07T17:49:26.200447Z",
     "shell.execute_reply": "2023-11-07T17:49:26.199298Z"
    },
    "papermill": {
     "duration": 0.148814,
     "end_time": "2023-11-07T17:49:26.202854",
     "exception": false,
     "start_time": "2023-11-07T17:49:26.054040",
     "status": "completed"
    },
    "tags": []
   },
   "outputs": [
    {
     "data": {
      "text/plain": [
       "array([110. , 132. , 126.5, 154. ])"
      ]
     },
     "execution_count": 301,
     "metadata": {},
     "output_type": "execute_result"
    }
   ],
   "source": [
    "a = np.array([100,120,115,140])\n",
    "b = 1.1\n",
    "a * b"
   ]
  },
  {
   "cell_type": "code",
   "execution_count": 302,
   "id": "86a624e4",
   "metadata": {
    "execution": {
     "iopub.execute_input": "2023-11-07T17:49:26.476987Z",
     "iopub.status.busy": "2023-11-07T17:49:26.476622Z",
     "iopub.status.idle": "2023-11-07T17:49:26.485218Z",
     "shell.execute_reply": "2023-11-07T17:49:26.483396Z"
    },
    "papermill": {
     "duration": 0.150177,
     "end_time": "2023-11-07T17:49:26.488611",
     "exception": false,
     "start_time": "2023-11-07T17:49:26.338434",
     "status": "completed"
    },
    "tags": []
   },
   "outputs": [
    {
     "data": {
      "text/plain": [
       "475"
      ]
     },
     "execution_count": 302,
     "metadata": {},
     "output_type": "execute_result"
    }
   ],
   "source": [
    "a = np.array([100,120,115,140])\n",
    "\n",
    "np.sum(a)"
   ]
  },
  {
   "cell_type": "code",
   "execution_count": 303,
   "id": "d037b97d",
   "metadata": {
    "execution": {
     "iopub.execute_input": "2023-11-07T17:49:26.758323Z",
     "iopub.status.busy": "2023-11-07T17:49:26.757911Z",
     "iopub.status.idle": "2023-11-07T17:49:26.764709Z",
     "shell.execute_reply": "2023-11-07T17:49:26.763794Z"
    },
    "papermill": {
     "duration": 0.144442,
     "end_time": "2023-11-07T17:49:26.767967",
     "exception": false,
     "start_time": "2023-11-07T17:49:26.623525",
     "status": "completed"
    },
    "tags": []
   },
   "outputs": [
    {
     "data": {
      "text/plain": [
       "140"
      ]
     },
     "execution_count": 303,
     "metadata": {},
     "output_type": "execute_result"
    }
   ],
   "source": [
    "np.max(a)"
   ]
  },
  {
   "cell_type": "code",
   "execution_count": 304,
   "id": "e591bebc",
   "metadata": {
    "execution": {
     "iopub.execute_input": "2023-11-07T17:49:27.041993Z",
     "iopub.status.busy": "2023-11-07T17:49:27.041600Z",
     "iopub.status.idle": "2023-11-07T17:49:27.049153Z",
     "shell.execute_reply": "2023-11-07T17:49:27.047709Z"
    },
    "papermill": {
     "duration": 0.147779,
     "end_time": "2023-11-07T17:49:27.051648",
     "exception": false,
     "start_time": "2023-11-07T17:49:26.903869",
     "status": "completed"
    },
    "tags": []
   },
   "outputs": [
    {
     "data": {
      "text/plain": [
       "100"
      ]
     },
     "execution_count": 304,
     "metadata": {},
     "output_type": "execute_result"
    }
   ],
   "source": [
    "np.min(a)"
   ]
  },
  {
   "cell_type": "code",
   "execution_count": 305,
   "id": "eb4a0f95",
   "metadata": {
    "execution": {
     "iopub.execute_input": "2023-11-07T17:49:27.324930Z",
     "iopub.status.busy": "2023-11-07T17:49:27.324538Z",
     "iopub.status.idle": "2023-11-07T17:49:27.332080Z",
     "shell.execute_reply": "2023-11-07T17:49:27.330725Z"
    },
    "papermill": {
     "duration": 0.14575,
     "end_time": "2023-11-07T17:49:27.334538",
     "exception": false,
     "start_time": "2023-11-07T17:49:27.188788",
     "status": "completed"
    },
    "tags": []
   },
   "outputs": [
    {
     "data": {
      "text/plain": [
       "204.6875"
      ]
     },
     "execution_count": 305,
     "metadata": {},
     "output_type": "execute_result"
    }
   ],
   "source": [
    "np.var(a)"
   ]
  },
  {
   "cell_type": "code",
   "execution_count": 306,
   "id": "17f2a5e9",
   "metadata": {
    "execution": {
     "iopub.execute_input": "2023-11-07T17:49:27.605384Z",
     "iopub.status.busy": "2023-11-07T17:49:27.604946Z",
     "iopub.status.idle": "2023-11-07T17:49:27.613456Z",
     "shell.execute_reply": "2023-11-07T17:49:27.612410Z"
    },
    "papermill": {
     "duration": 0.145265,
     "end_time": "2023-11-07T17:49:27.615677",
     "exception": false,
     "start_time": "2023-11-07T17:49:27.470412",
     "status": "completed"
    },
    "tags": []
   },
   "outputs": [
    {
     "data": {
      "text/plain": [
       "14.306903927824496"
      ]
     },
     "execution_count": 306,
     "metadata": {},
     "output_type": "execute_result"
    }
   ],
   "source": [
    "np.std(a)"
   ]
  },
  {
   "cell_type": "code",
   "execution_count": 307,
   "id": "b22c2b59",
   "metadata": {
    "execution": {
     "iopub.execute_input": "2023-11-07T17:49:27.886624Z",
     "iopub.status.busy": "2023-11-07T17:49:27.884886Z",
     "iopub.status.idle": "2023-11-07T17:49:27.895241Z",
     "shell.execute_reply": "2023-11-07T17:49:27.893643Z"
    },
    "papermill": {
     "duration": 0.149196,
     "end_time": "2023-11-07T17:49:27.898032",
     "exception": false,
     "start_time": "2023-11-07T17:49:27.748836",
     "status": "completed"
    },
    "tags": []
   },
   "outputs": [
    {
     "data": {
      "text/plain": [
       "array([10.        , 10.95445115, 10.72380529, 11.83215957])"
      ]
     },
     "execution_count": 307,
     "metadata": {},
     "output_type": "execute_result"
    }
   ],
   "source": [
    "np.sqrt(a)"
   ]
  },
  {
   "cell_type": "code",
   "execution_count": 308,
   "id": "8466b189",
   "metadata": {
    "execution": {
     "iopub.execute_input": "2023-11-07T17:49:28.170390Z",
     "iopub.status.busy": "2023-11-07T17:49:28.169674Z",
     "iopub.status.idle": "2023-11-07T17:49:28.178140Z",
     "shell.execute_reply": "2023-11-07T17:49:28.177312Z"
    },
    "papermill": {
     "duration": 0.148492,
     "end_time": "2023-11-07T17:49:28.180422",
     "exception": false,
     "start_time": "2023-11-07T17:49:28.031930",
     "status": "completed"
    },
    "tags": []
   },
   "outputs": [
    {
     "data": {
      "text/plain": [
       "array([ 0.86231887,  0.81418097, -0.32580981, -0.19781357])"
      ]
     },
     "execution_count": 308,
     "metadata": {},
     "output_type": "execute_result"
    }
   ],
   "source": [
    "np.cos(a)"
   ]
  },
  {
   "cell_type": "code",
   "execution_count": 309,
   "id": "8ad85288",
   "metadata": {
    "execution": {
     "iopub.execute_input": "2023-11-07T17:49:28.457879Z",
     "iopub.status.busy": "2023-11-07T17:49:28.457178Z",
     "iopub.status.idle": "2023-11-07T17:49:28.463526Z",
     "shell.execute_reply": "2023-11-07T17:49:28.462472Z"
    },
    "papermill": {
     "duration": 0.151383,
     "end_time": "2023-11-07T17:49:28.467084",
     "exception": false,
     "start_time": "2023-11-07T17:49:28.315701",
     "status": "completed"
    },
    "tags": []
   },
   "outputs": [
    {
     "data": {
      "text/plain": [
       "array([2.68811714e+43, 1.30418088e+52, 8.78750164e+49, 6.32743171e+60])"
      ]
     },
     "execution_count": 309,
     "metadata": {},
     "output_type": "execute_result"
    }
   ],
   "source": [
    "np.exp(a)"
   ]
  },
  {
   "cell_type": "code",
   "execution_count": 310,
   "id": "d03996fc",
   "metadata": {
    "execution": {
     "iopub.execute_input": "2023-11-07T17:49:28.743601Z",
     "iopub.status.busy": "2023-11-07T17:49:28.742912Z",
     "iopub.status.idle": "2023-11-07T17:49:28.750247Z",
     "shell.execute_reply": "2023-11-07T17:49:28.749045Z"
    },
    "papermill": {
     "duration": 0.145447,
     "end_time": "2023-11-07T17:49:28.752684",
     "exception": false,
     "start_time": "2023-11-07T17:49:28.607237",
     "status": "completed"
    },
    "tags": []
   },
   "outputs": [
    {
     "data": {
      "text/plain": [
       "118.75"
      ]
     },
     "execution_count": 310,
     "metadata": {},
     "output_type": "execute_result"
    }
   ],
   "source": [
    "np.mean(a)"
   ]
  },
  {
   "cell_type": "code",
   "execution_count": 311,
   "id": "cb96e03a",
   "metadata": {
    "execution": {
     "iopub.execute_input": "2023-11-07T17:49:29.025034Z",
     "iopub.status.busy": "2023-11-07T17:49:29.024621Z",
     "iopub.status.idle": "2023-11-07T17:49:29.034014Z",
     "shell.execute_reply": "2023-11-07T17:49:29.032853Z"
    },
    "papermill": {
     "duration": 0.147715,
     "end_time": "2023-11-07T17:49:29.036938",
     "exception": false,
     "start_time": "2023-11-07T17:49:28.889223",
     "status": "completed"
    },
    "tags": []
   },
   "outputs": [
    {
     "data": {
      "text/plain": [
       "117.5"
      ]
     },
     "execution_count": 311,
     "metadata": {},
     "output_type": "execute_result"
    }
   ],
   "source": [
    "np.median(a)"
   ]
  },
  {
   "cell_type": "code",
   "execution_count": 312,
   "id": "39d695b7",
   "metadata": {
    "execution": {
     "iopub.execute_input": "2023-11-07T17:49:29.329506Z",
     "iopub.status.busy": "2023-11-07T17:49:29.328754Z",
     "iopub.status.idle": "2023-11-07T17:49:29.335902Z",
     "shell.execute_reply": "2023-11-07T17:49:29.334707Z"
    },
    "papermill": {
     "duration": 0.157966,
     "end_time": "2023-11-07T17:49:29.338933",
     "exception": false,
     "start_time": "2023-11-07T17:49:29.180967",
     "status": "completed"
    },
    "tags": []
   },
   "outputs": [
    {
     "data": {
      "text/plain": [
       "array([100, 115, 120, 140])"
      ]
     },
     "execution_count": 312,
     "metadata": {},
     "output_type": "execute_result"
    }
   ],
   "source": [
    "np.sort(a)"
   ]
  },
  {
   "cell_type": "code",
   "execution_count": 313,
   "id": "5263a19b",
   "metadata": {
    "execution": {
     "iopub.execute_input": "2023-11-07T17:49:29.628355Z",
     "iopub.status.busy": "2023-11-07T17:49:29.627907Z",
     "iopub.status.idle": "2023-11-07T17:49:29.634724Z",
     "shell.execute_reply": "2023-11-07T17:49:29.633210Z"
    },
    "papermill": {
     "duration": 0.155292,
     "end_time": "2023-11-07T17:49:29.637389",
     "exception": false,
     "start_time": "2023-11-07T17:49:29.482097",
     "status": "completed"
    },
    "tags": []
   },
   "outputs": [],
   "source": [
    "# np.sort(a,reverse = True)"
   ]
  },
  {
   "cell_type": "code",
   "execution_count": 314,
   "id": "907d4e9f",
   "metadata": {
    "execution": {
     "iopub.execute_input": "2023-11-07T17:49:29.985037Z",
     "iopub.status.busy": "2023-11-07T17:49:29.984622Z",
     "iopub.status.idle": "2023-11-07T17:49:29.991140Z",
     "shell.execute_reply": "2023-11-07T17:49:29.989022Z"
    },
    "papermill": {
     "duration": 0.155446,
     "end_time": "2023-11-07T17:49:29.995946",
     "exception": false,
     "start_time": "2023-11-07T17:49:29.840500",
     "status": "completed"
    },
    "tags": []
   },
   "outputs": [],
   "source": [
    "# help(np.sort(a))"
   ]
  },
  {
   "cell_type": "code",
   "execution_count": 315,
   "id": "9c010a3b",
   "metadata": {
    "execution": {
     "iopub.execute_input": "2023-11-07T17:49:30.327753Z",
     "iopub.status.busy": "2023-11-07T17:49:30.327346Z",
     "iopub.status.idle": "2023-11-07T17:49:30.336768Z",
     "shell.execute_reply": "2023-11-07T17:49:30.335463Z"
    },
    "papermill": {
     "duration": 0.161845,
     "end_time": "2023-11-07T17:49:30.339390",
     "exception": false,
     "start_time": "2023-11-07T17:49:30.177545",
     "status": "completed"
    },
    "tags": []
   },
   "outputs": [
    {
     "data": {
      "text/plain": [
       "array([140, 120, 115, 100])"
      ]
     },
     "execution_count": 315,
     "metadata": {},
     "output_type": "execute_result"
    }
   ],
   "source": [
    "np.sort(a)[::-1]"
   ]
  },
  {
   "cell_type": "code",
   "execution_count": 316,
   "id": "c621909b",
   "metadata": {
    "execution": {
     "iopub.execute_input": "2023-11-07T17:49:30.622151Z",
     "iopub.status.busy": "2023-11-07T17:49:30.621768Z",
     "iopub.status.idle": "2023-11-07T17:49:30.629465Z",
     "shell.execute_reply": "2023-11-07T17:49:30.628367Z"
    },
    "papermill": {
     "duration": 0.149962,
     "end_time": "2023-11-07T17:49:30.632719",
     "exception": false,
     "start_time": "2023-11-07T17:49:30.482757",
     "status": "completed"
    },
    "tags": []
   },
   "outputs": [
    {
     "data": {
      "text/plain": [
       "[20, 15, 10]"
      ]
     },
     "execution_count": 316,
     "metadata": {},
     "output_type": "execute_result"
    }
   ],
   "source": [
    "a = [10,20,15]\n",
    "sorted(a,reverse = True)\n"
   ]
  },
  {
   "cell_type": "code",
   "execution_count": null,
   "id": "1a32dd13",
   "metadata": {
    "papermill": {
     "duration": 0.138362,
     "end_time": "2023-11-07T17:49:30.912530",
     "exception": false,
     "start_time": "2023-11-07T17:49:30.774168",
     "status": "completed"
    },
    "tags": []
   },
   "outputs": [],
   "source": []
  },
  {
   "cell_type": "code",
   "execution_count": null,
   "id": "f6a81637",
   "metadata": {
    "papermill": {
     "duration": 0.142448,
     "end_time": "2023-11-07T17:49:31.193489",
     "exception": false,
     "start_time": "2023-11-07T17:49:31.051041",
     "status": "completed"
    },
    "tags": []
   },
   "outputs": [],
   "source": []
  },
  {
   "cell_type": "code",
   "execution_count": null,
   "id": "fba07ed8",
   "metadata": {
    "papermill": {
     "duration": 0.140053,
     "end_time": "2023-11-07T17:49:31.467514",
     "exception": false,
     "start_time": "2023-11-07T17:49:31.327461",
     "status": "completed"
    },
    "tags": []
   },
   "outputs": [],
   "source": []
  },
  {
   "cell_type": "code",
   "execution_count": null,
   "id": "25f40840",
   "metadata": {
    "papermill": {
     "duration": 0.137193,
     "end_time": "2023-11-07T17:49:31.746946",
     "exception": false,
     "start_time": "2023-11-07T17:49:31.609753",
     "status": "completed"
    },
    "tags": []
   },
   "outputs": [],
   "source": []
  },
  {
   "cell_type": "code",
   "execution_count": null,
   "id": "e69cc1be",
   "metadata": {
    "papermill": {
     "duration": 0.138402,
     "end_time": "2023-11-07T17:49:32.024988",
     "exception": false,
     "start_time": "2023-11-07T17:49:31.886586",
     "status": "completed"
    },
    "tags": []
   },
   "outputs": [],
   "source": []
  },
  {
   "cell_type": "code",
   "execution_count": null,
   "id": "1a486abc",
   "metadata": {
    "papermill": {
     "duration": 0.139177,
     "end_time": "2023-11-07T17:49:32.302219",
     "exception": false,
     "start_time": "2023-11-07T17:49:32.163042",
     "status": "completed"
    },
    "tags": []
   },
   "outputs": [],
   "source": []
  },
  {
   "cell_type": "code",
   "execution_count": null,
   "id": "f3927b83",
   "metadata": {
    "papermill": {
     "duration": 0.137821,
     "end_time": "2023-11-07T17:49:32.577166",
     "exception": false,
     "start_time": "2023-11-07T17:49:32.439345",
     "status": "completed"
    },
    "tags": []
   },
   "outputs": [],
   "source": []
  },
  {
   "cell_type": "code",
   "execution_count": null,
   "id": "1589ead9",
   "metadata": {
    "papermill": {
     "duration": 0.138841,
     "end_time": "2023-11-07T17:49:32.853991",
     "exception": false,
     "start_time": "2023-11-07T17:49:32.715150",
     "status": "completed"
    },
    "tags": []
   },
   "outputs": [],
   "source": []
  },
  {
   "cell_type": "code",
   "execution_count": null,
   "id": "9fa66c61",
   "metadata": {
    "papermill": {
     "duration": 0.136998,
     "end_time": "2023-11-07T17:49:33.129366",
     "exception": false,
     "start_time": "2023-11-07T17:49:32.992368",
     "status": "completed"
    },
    "tags": []
   },
   "outputs": [],
   "source": []
  },
  {
   "cell_type": "code",
   "execution_count": null,
   "id": "9d8cfba9",
   "metadata": {
    "papermill": {
     "duration": 0.1407,
     "end_time": "2023-11-07T17:49:33.409212",
     "exception": false,
     "start_time": "2023-11-07T17:49:33.268512",
     "status": "completed"
    },
    "tags": []
   },
   "outputs": [],
   "source": []
  },
  {
   "cell_type": "code",
   "execution_count": null,
   "id": "a1cd1852",
   "metadata": {
    "papermill": {
     "duration": 0.137047,
     "end_time": "2023-11-07T17:49:33.690524",
     "exception": false,
     "start_time": "2023-11-07T17:49:33.553477",
     "status": "completed"
    },
    "tags": []
   },
   "outputs": [],
   "source": []
  },
  {
   "cell_type": "code",
   "execution_count": null,
   "id": "b39eec50",
   "metadata": {
    "papermill": {
     "duration": 0.139541,
     "end_time": "2023-11-07T17:49:34.030883",
     "exception": false,
     "start_time": "2023-11-07T17:49:33.891342",
     "status": "completed"
    },
    "tags": []
   },
   "outputs": [],
   "source": []
  },
  {
   "cell_type": "code",
   "execution_count": null,
   "id": "0a4c4813",
   "metadata": {
    "papermill": {
     "duration": 0.138019,
     "end_time": "2023-11-07T17:49:34.310259",
     "exception": false,
     "start_time": "2023-11-07T17:49:34.172240",
     "status": "completed"
    },
    "tags": []
   },
   "outputs": [],
   "source": []
  },
  {
   "cell_type": "code",
   "execution_count": null,
   "id": "3c428238",
   "metadata": {
    "papermill": {
     "duration": 0.138071,
     "end_time": "2023-11-07T17:49:34.590241",
     "exception": false,
     "start_time": "2023-11-07T17:49:34.452170",
     "status": "completed"
    },
    "tags": []
   },
   "outputs": [],
   "source": []
  },
  {
   "cell_type": "code",
   "execution_count": null,
   "id": "c2804b66",
   "metadata": {
    "papermill": {
     "duration": 0.135995,
     "end_time": "2023-11-07T17:49:34.864084",
     "exception": false,
     "start_time": "2023-11-07T17:49:34.728089",
     "status": "completed"
    },
    "tags": []
   },
   "outputs": [],
   "source": []
  },
  {
   "cell_type": "code",
   "execution_count": null,
   "id": "9264ee39",
   "metadata": {
    "papermill": {
     "duration": 0.137945,
     "end_time": "2023-11-07T17:49:35.137994",
     "exception": false,
     "start_time": "2023-11-07T17:49:35.000049",
     "status": "completed"
    },
    "tags": []
   },
   "outputs": [],
   "source": []
  },
  {
   "cell_type": "code",
   "execution_count": null,
   "id": "a0b47beb",
   "metadata": {
    "papermill": {
     "duration": 0.139912,
     "end_time": "2023-11-07T17:49:35.416416",
     "exception": false,
     "start_time": "2023-11-07T17:49:35.276504",
     "status": "completed"
    },
    "tags": []
   },
   "outputs": [],
   "source": []
  },
  {
   "cell_type": "code",
   "execution_count": null,
   "id": "49be73e4",
   "metadata": {
    "papermill": {
     "duration": 0.133889,
     "end_time": "2023-11-07T17:49:35.689561",
     "exception": false,
     "start_time": "2023-11-07T17:49:35.555672",
     "status": "completed"
    },
    "tags": []
   },
   "outputs": [],
   "source": []
  },
  {
   "cell_type": "code",
   "execution_count": null,
   "id": "ebbc471a",
   "metadata": {
    "papermill": {
     "duration": 0.136768,
     "end_time": "2023-11-07T17:49:35.959369",
     "exception": false,
     "start_time": "2023-11-07T17:49:35.822601",
     "status": "completed"
    },
    "tags": []
   },
   "outputs": [],
   "source": []
  },
  {
   "cell_type": "code",
   "execution_count": null,
   "id": "898425db",
   "metadata": {
    "papermill": {
     "duration": 0.13445,
     "end_time": "2023-11-07T17:49:36.227414",
     "exception": false,
     "start_time": "2023-11-07T17:49:36.092964",
     "status": "completed"
    },
    "tags": []
   },
   "outputs": [],
   "source": []
  },
  {
   "cell_type": "code",
   "execution_count": null,
   "id": "705dc70d",
   "metadata": {
    "papermill": {
     "duration": 0.137929,
     "end_time": "2023-11-07T17:49:36.499444",
     "exception": false,
     "start_time": "2023-11-07T17:49:36.361515",
     "status": "completed"
    },
    "tags": []
   },
   "outputs": [],
   "source": []
  },
  {
   "cell_type": "code",
   "execution_count": null,
   "id": "8bade954",
   "metadata": {
    "papermill": {
     "duration": 0.132766,
     "end_time": "2023-11-07T17:49:36.765691",
     "exception": false,
     "start_time": "2023-11-07T17:49:36.632925",
     "status": "completed"
    },
    "tags": []
   },
   "outputs": [],
   "source": []
  },
  {
   "cell_type": "code",
   "execution_count": null,
   "id": "44421980",
   "metadata": {
    "papermill": {
     "duration": 0.134387,
     "end_time": "2023-11-07T17:49:37.035854",
     "exception": false,
     "start_time": "2023-11-07T17:49:36.901467",
     "status": "completed"
    },
    "tags": []
   },
   "outputs": [],
   "source": []
  },
  {
   "cell_type": "code",
   "execution_count": null,
   "id": "f382c4c6",
   "metadata": {
    "papermill": {
     "duration": 0.13668,
     "end_time": "2023-11-07T17:49:37.313263",
     "exception": false,
     "start_time": "2023-11-07T17:49:37.176583",
     "status": "completed"
    },
    "tags": []
   },
   "outputs": [],
   "source": []
  },
  {
   "cell_type": "code",
   "execution_count": null,
   "id": "c5817755",
   "metadata": {
    "papermill": {
     "duration": 0.137175,
     "end_time": "2023-11-07T17:49:37.590582",
     "exception": false,
     "start_time": "2023-11-07T17:49:37.453407",
     "status": "completed"
    },
    "tags": []
   },
   "outputs": [],
   "source": []
  }
 ],
 "metadata": {
  "kernelspec": {
   "display_name": "Python 3",
   "language": "python",
   "name": "python3"
  },
  "language_info": {
   "codemirror_mode": {
    "name": "ipython",
    "version": 3
   },
   "file_extension": ".py",
   "mimetype": "text/x-python",
   "name": "python",
   "nbconvert_exporter": "python",
   "pygments_lexer": "ipython3",
   "version": "3.10.12"
  },
  "papermill": {
   "default_parameters": {},
   "duration": 97.691235,
   "end_time": "2023-11-07T17:49:38.215170",
   "environment_variables": {},
   "exception": null,
   "input_path": "__notebook__.ipynb",
   "output_path": "__notebook__.ipynb",
   "parameters": {},
   "start_time": "2023-11-07T17:48:00.523935",
   "version": "2.4.0"
  }
 },
 "nbformat": 4,
 "nbformat_minor": 5
}
