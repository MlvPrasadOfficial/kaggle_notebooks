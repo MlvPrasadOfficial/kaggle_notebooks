{
 "cells": [
  {
   "cell_type": "code",
   "execution_count": 1,
   "id": "795cfd09",
   "metadata": {
    "_cell_guid": "b1076dfc-b9ad-4769-8c92-a6c4dae69d19",
    "_uuid": "8f2839f25d086af736a60e9eeb907d3b93b6e0e5",
    "execution": {
     "iopub.execute_input": "2023-11-09T16:31:57.959372Z",
     "iopub.status.busy": "2023-11-09T16:31:57.958418Z",
     "iopub.status.idle": "2023-11-09T16:31:57.969222Z",
     "shell.execute_reply": "2023-11-09T16:31:57.968389Z"
    },
    "papermill": {
     "duration": 0.142919,
     "end_time": "2023-11-09T16:31:57.971408",
     "exception": false,
     "start_time": "2023-11-09T16:31:57.828489",
     "status": "completed"
    },
    "tags": []
   },
   "outputs": [
    {
     "name": "stdout",
     "output_type": "stream",
     "text": [
      "6\n",
      "---\n",
      "6\n"
     ]
    }
   ],
   "source": [
    "a = 6\n",
    "print(a)\n",
    "print(\"---\")\n",
    "# a = \n",
    "print(a)"
   ]
  },
  {
   "cell_type": "code",
   "execution_count": null,
   "id": "2832d6b0",
   "metadata": {
    "papermill": {
     "duration": 0.06787,
     "end_time": "2023-11-09T16:31:58.107073",
     "exception": false,
     "start_time": "2023-11-09T16:31:58.039203",
     "status": "completed"
    },
    "tags": []
   },
   "outputs": [],
   "source": []
  },
  {
   "cell_type": "code",
   "execution_count": 2,
   "id": "415ceb93",
   "metadata": {
    "execution": {
     "iopub.execute_input": "2023-11-09T16:31:58.246555Z",
     "iopub.status.busy": "2023-11-09T16:31:58.245888Z",
     "iopub.status.idle": "2023-11-09T16:31:58.250227Z",
     "shell.execute_reply": "2023-11-09T16:31:58.248924Z"
    },
    "papermill": {
     "duration": 0.076917,
     "end_time": "2023-11-09T16:31:58.252592",
     "exception": false,
     "start_time": "2023-11-09T16:31:58.175675",
     "status": "completed"
    },
    "tags": []
   },
   "outputs": [],
   "source": [
    "a = 7"
   ]
  },
  {
   "cell_type": "markdown",
   "id": "e015122e",
   "metadata": {
    "papermill": {
     "duration": 0.067863,
     "end_time": "2023-11-09T16:31:58.392103",
     "exception": false,
     "start_time": "2023-11-09T16:31:58.324240",
     "status": "completed"
    },
    "tags": []
   },
   "source": [
    "# data types"
   ]
  },
  {
   "cell_type": "code",
   "execution_count": 3,
   "id": "3594f991",
   "metadata": {
    "execution": {
     "iopub.execute_input": "2023-11-09T16:31:58.527551Z",
     "iopub.status.busy": "2023-11-09T16:31:58.527129Z",
     "iopub.status.idle": "2023-11-09T16:31:58.532742Z",
     "shell.execute_reply": "2023-11-09T16:31:58.531112Z"
    },
    "papermill": {
     "duration": 0.075836,
     "end_time": "2023-11-09T16:31:58.535712",
     "exception": false,
     "start_time": "2023-11-09T16:31:58.459876",
     "status": "completed"
    },
    "tags": []
   },
   "outputs": [
    {
     "name": "stdout",
     "output_type": "stream",
     "text": [
      "6\n"
     ]
    }
   ],
   "source": [
    "abhi = 6\n",
    "\n",
    "print(abhi)"
   ]
  },
  {
   "cell_type": "code",
   "execution_count": 4,
   "id": "e9e890c1",
   "metadata": {
    "execution": {
     "iopub.execute_input": "2023-11-09T16:31:58.672961Z",
     "iopub.status.busy": "2023-11-09T16:31:58.672574Z",
     "iopub.status.idle": "2023-11-09T16:31:58.680580Z",
     "shell.execute_reply": "2023-11-09T16:31:58.679310Z"
    },
    "papermill": {
     "duration": 0.079458,
     "end_time": "2023-11-09T16:31:58.683213",
     "exception": false,
     "start_time": "2023-11-09T16:31:58.603755",
     "status": "completed"
    },
    "tags": []
   },
   "outputs": [
    {
     "data": {
      "text/plain": [
       "int"
      ]
     },
     "execution_count": 4,
     "metadata": {},
     "output_type": "execute_result"
    }
   ],
   "source": [
    "type(abhi)"
   ]
  },
  {
   "cell_type": "code",
   "execution_count": 5,
   "id": "1bb85cf9",
   "metadata": {
    "execution": {
     "iopub.execute_input": "2023-11-09T16:31:58.821810Z",
     "iopub.status.busy": "2023-11-09T16:31:58.821456Z",
     "iopub.status.idle": "2023-11-09T16:31:58.826795Z",
     "shell.execute_reply": "2023-11-09T16:31:58.825882Z"
    },
    "papermill": {
     "duration": 0.077416,
     "end_time": "2023-11-09T16:31:58.829114",
     "exception": false,
     "start_time": "2023-11-09T16:31:58.751698",
     "status": "completed"
    },
    "tags": []
   },
   "outputs": [
    {
     "data": {
      "text/plain": [
       "float"
      ]
     },
     "execution_count": 5,
     "metadata": {},
     "output_type": "execute_result"
    }
   ],
   "source": [
    "swa = 6.5\n",
    "type(swa)"
   ]
  },
  {
   "cell_type": "code",
   "execution_count": 6,
   "id": "3539335a",
   "metadata": {
    "execution": {
     "iopub.execute_input": "2023-11-09T16:31:58.966759Z",
     "iopub.status.busy": "2023-11-09T16:31:58.966346Z",
     "iopub.status.idle": "2023-11-09T16:31:58.973970Z",
     "shell.execute_reply": "2023-11-09T16:31:58.972551Z"
    },
    "papermill": {
     "duration": 0.079678,
     "end_time": "2023-11-09T16:31:58.976677",
     "exception": false,
     "start_time": "2023-11-09T16:31:58.896999",
     "status": "completed"
    },
    "tags": []
   },
   "outputs": [
    {
     "data": {
      "text/plain": [
       "complex"
      ]
     },
     "execution_count": 6,
     "metadata": {},
     "output_type": "execute_result"
    }
   ],
   "source": [
    "pra = 3 + 2j\n",
    "\n",
    "type(pra)"
   ]
  },
  {
   "cell_type": "code",
   "execution_count": 7,
   "id": "901acc18",
   "metadata": {
    "execution": {
     "iopub.execute_input": "2023-11-09T16:31:59.116881Z",
     "iopub.status.busy": "2023-11-09T16:31:59.116466Z",
     "iopub.status.idle": "2023-11-09T16:31:59.123708Z",
     "shell.execute_reply": "2023-11-09T16:31:59.121416Z"
    },
    "papermill": {
     "duration": 0.0815,
     "end_time": "2023-11-09T16:31:59.127006",
     "exception": false,
     "start_time": "2023-11-09T16:31:59.045506",
     "status": "completed"
    },
    "tags": []
   },
   "outputs": [
    {
     "data": {
      "text/plain": [
       "str"
      ]
     },
     "execution_count": 7,
     "metadata": {},
     "output_type": "execute_result"
    }
   ],
   "source": [
    "x = \"sush\"\n",
    "type(x)"
   ]
  },
  {
   "cell_type": "code",
   "execution_count": 8,
   "id": "12f9f420",
   "metadata": {
    "execution": {
     "iopub.execute_input": "2023-11-09T16:31:59.270315Z",
     "iopub.status.busy": "2023-11-09T16:31:59.269920Z",
     "iopub.status.idle": "2023-11-09T16:31:59.275687Z",
     "shell.execute_reply": "2023-11-09T16:31:59.274703Z"
    },
    "papermill": {
     "duration": 0.079651,
     "end_time": "2023-11-09T16:31:59.277757",
     "exception": false,
     "start_time": "2023-11-09T16:31:59.198106",
     "status": "completed"
    },
    "tags": []
   },
   "outputs": [
    {
     "data": {
      "text/plain": [
       "int"
      ]
     },
     "execution_count": 8,
     "metadata": {},
     "output_type": "execute_result"
    }
   ],
   "source": [
    "z = 44 - 5 - 14\n",
    "z\n",
    "type(z)"
   ]
  },
  {
   "cell_type": "code",
   "execution_count": 9,
   "id": "f1c5205b",
   "metadata": {
    "execution": {
     "iopub.execute_input": "2023-11-09T16:31:59.416653Z",
     "iopub.status.busy": "2023-11-09T16:31:59.416337Z",
     "iopub.status.idle": "2023-11-09T16:31:59.422921Z",
     "shell.execute_reply": "2023-11-09T16:31:59.421774Z"
    },
    "papermill": {
     "duration": 0.077559,
     "end_time": "2023-11-09T16:31:59.425257",
     "exception": false,
     "start_time": "2023-11-09T16:31:59.347698",
     "status": "completed"
    },
    "tags": []
   },
   "outputs": [
    {
     "data": {
      "text/plain": [
       "'44-5-14'"
      ]
     },
     "execution_count": 9,
     "metadata": {},
     "output_type": "execute_result"
    }
   ],
   "source": [
    "y = \"44-5-14\"\n",
    "y"
   ]
  },
  {
   "cell_type": "code",
   "execution_count": 10,
   "id": "4145c1b1",
   "metadata": {
    "execution": {
     "iopub.execute_input": "2023-11-09T16:31:59.564314Z",
     "iopub.status.busy": "2023-11-09T16:31:59.563708Z",
     "iopub.status.idle": "2023-11-09T16:31:59.571500Z",
     "shell.execute_reply": "2023-11-09T16:31:59.570004Z"
    },
    "papermill": {
     "duration": 0.079655,
     "end_time": "2023-11-09T16:31:59.574166",
     "exception": false,
     "start_time": "2023-11-09T16:31:59.494511",
     "status": "completed"
    },
    "tags": []
   },
   "outputs": [
    {
     "data": {
      "text/plain": [
       "str"
      ]
     },
     "execution_count": 10,
     "metadata": {},
     "output_type": "execute_result"
    }
   ],
   "source": [
    "type(y)"
   ]
  },
  {
   "cell_type": "markdown",
   "id": "bdaa366c",
   "metadata": {
    "papermill": {
     "duration": 0.069364,
     "end_time": "2023-11-09T16:31:59.713304",
     "exception": false,
     "start_time": "2023-11-09T16:31:59.643940",
     "status": "completed"
    },
    "tags": []
   },
   "source": [
    "# type casting"
   ]
  },
  {
   "cell_type": "code",
   "execution_count": 11,
   "id": "3df493b0",
   "metadata": {
    "execution": {
     "iopub.execute_input": "2023-11-09T16:31:59.853826Z",
     "iopub.status.busy": "2023-11-09T16:31:59.853204Z",
     "iopub.status.idle": "2023-11-09T16:31:59.860134Z",
     "shell.execute_reply": "2023-11-09T16:31:59.859159Z"
    },
    "papermill": {
     "duration": 0.079175,
     "end_time": "2023-11-09T16:31:59.861976",
     "exception": false,
     "start_time": "2023-11-09T16:31:59.782801",
     "status": "completed"
    },
    "tags": []
   },
   "outputs": [
    {
     "data": {
      "text/plain": [
       "float"
      ]
     },
     "execution_count": 11,
     "metadata": {},
     "output_type": "execute_result"
    }
   ],
   "source": [
    "a = 6.5\n",
    "type(a)"
   ]
  },
  {
   "cell_type": "code",
   "execution_count": 12,
   "id": "4761d58a",
   "metadata": {
    "execution": {
     "iopub.execute_input": "2023-11-09T16:32:00.006966Z",
     "iopub.status.busy": "2023-11-09T16:32:00.006187Z",
     "iopub.status.idle": "2023-11-09T16:32:00.012398Z",
     "shell.execute_reply": "2023-11-09T16:32:00.011145Z"
    },
    "papermill": {
     "duration": 0.080005,
     "end_time": "2023-11-09T16:32:00.015051",
     "exception": false,
     "start_time": "2023-11-09T16:31:59.935046",
     "status": "completed"
    },
    "tags": []
   },
   "outputs": [
    {
     "data": {
      "text/plain": [
       "6"
      ]
     },
     "execution_count": 12,
     "metadata": {},
     "output_type": "execute_result"
    }
   ],
   "source": [
    "b = int(a)\n",
    "b"
   ]
  },
  {
   "cell_type": "code",
   "execution_count": 13,
   "id": "ef8f3297",
   "metadata": {
    "execution": {
     "iopub.execute_input": "2023-11-09T16:32:00.155536Z",
     "iopub.status.busy": "2023-11-09T16:32:00.154456Z",
     "iopub.status.idle": "2023-11-09T16:32:00.160312Z",
     "shell.execute_reply": "2023-11-09T16:32:00.159282Z"
    },
    "papermill": {
     "duration": 0.078924,
     "end_time": "2023-11-09T16:32:00.162347",
     "exception": false,
     "start_time": "2023-11-09T16:32:00.083423",
     "status": "completed"
    },
    "tags": []
   },
   "outputs": [
    {
     "data": {
      "text/plain": [
       "int"
      ]
     },
     "execution_count": 13,
     "metadata": {},
     "output_type": "execute_result"
    }
   ],
   "source": [
    "type(b)"
   ]
  },
  {
   "cell_type": "code",
   "execution_count": 14,
   "id": "d90c84f8",
   "metadata": {
    "execution": {
     "iopub.execute_input": "2023-11-09T16:32:00.303126Z",
     "iopub.status.busy": "2023-11-09T16:32:00.302278Z",
     "iopub.status.idle": "2023-11-09T16:32:00.309240Z",
     "shell.execute_reply": "2023-11-09T16:32:00.307796Z"
    },
    "papermill": {
     "duration": 0.079588,
     "end_time": "2023-11-09T16:32:00.311286",
     "exception": false,
     "start_time": "2023-11-09T16:32:00.231698",
     "status": "completed"
    },
    "tags": []
   },
   "outputs": [
    {
     "data": {
      "text/plain": [
       "6.0"
      ]
     },
     "execution_count": 14,
     "metadata": {},
     "output_type": "execute_result"
    }
   ],
   "source": [
    "c = float(b)\n",
    "c"
   ]
  },
  {
   "cell_type": "code",
   "execution_count": 15,
   "id": "c1d26ede",
   "metadata": {
    "execution": {
     "iopub.execute_input": "2023-11-09T16:32:00.456590Z",
     "iopub.status.busy": "2023-11-09T16:32:00.455355Z",
     "iopub.status.idle": "2023-11-09T16:32:00.462533Z",
     "shell.execute_reply": "2023-11-09T16:32:00.461408Z"
    },
    "papermill": {
     "duration": 0.082558,
     "end_time": "2023-11-09T16:32:00.464392",
     "exception": false,
     "start_time": "2023-11-09T16:32:00.381834",
     "status": "completed"
    },
    "tags": []
   },
   "outputs": [
    {
     "data": {
      "text/plain": [
       "float"
      ]
     },
     "execution_count": 15,
     "metadata": {},
     "output_type": "execute_result"
    }
   ],
   "source": [
    "type(c)"
   ]
  },
  {
   "cell_type": "code",
   "execution_count": 16,
   "id": "5fd91fbd",
   "metadata": {
    "execution": {
     "iopub.execute_input": "2023-11-09T16:32:00.607066Z",
     "iopub.status.busy": "2023-11-09T16:32:00.606452Z",
     "iopub.status.idle": "2023-11-09T16:32:00.614317Z",
     "shell.execute_reply": "2023-11-09T16:32:00.613189Z"
    },
    "papermill": {
     "duration": 0.082311,
     "end_time": "2023-11-09T16:32:00.616217",
     "exception": false,
     "start_time": "2023-11-09T16:32:00.533906",
     "status": "completed"
    },
    "tags": []
   },
   "outputs": [
    {
     "data": {
      "text/plain": [
       "'667'"
      ]
     },
     "execution_count": 16,
     "metadata": {},
     "output_type": "execute_result"
    }
   ],
   "source": [
    "g = \"66\"\n",
    "h = \"7\"\n",
    "\n",
    "g + h"
   ]
  },
  {
   "cell_type": "code",
   "execution_count": 17,
   "id": "566abf22",
   "metadata": {
    "execution": {
     "iopub.execute_input": "2023-11-09T16:32:00.762872Z",
     "iopub.status.busy": "2023-11-09T16:32:00.761846Z",
     "iopub.status.idle": "2023-11-09T16:32:00.768162Z",
     "shell.execute_reply": "2023-11-09T16:32:00.767047Z"
    },
    "papermill": {
     "duration": 0.082699,
     "end_time": "2023-11-09T16:32:00.770786",
     "exception": false,
     "start_time": "2023-11-09T16:32:00.688087",
     "status": "completed"
    },
    "tags": []
   },
   "outputs": [
    {
     "data": {
      "text/plain": [
       "73"
      ]
     },
     "execution_count": 17,
     "metadata": {},
     "output_type": "execute_result"
    }
   ],
   "source": [
    "i = 66\n",
    "j = 7\n",
    "i + j"
   ]
  },
  {
   "cell_type": "code",
   "execution_count": 18,
   "id": "99535f16",
   "metadata": {
    "execution": {
     "iopub.execute_input": "2023-11-09T16:32:00.974580Z",
     "iopub.status.busy": "2023-11-09T16:32:00.974287Z",
     "iopub.status.idle": "2023-11-09T16:32:00.981796Z",
     "shell.execute_reply": "2023-11-09T16:32:00.980841Z"
    },
    "papermill": {
     "duration": 0.078724,
     "end_time": "2023-11-09T16:32:00.983704",
     "exception": false,
     "start_time": "2023-11-09T16:32:00.904980",
     "status": "completed"
    },
    "tags": []
   },
   "outputs": [
    {
     "data": {
      "text/plain": [
       "'667'"
      ]
     },
     "execution_count": 18,
     "metadata": {},
     "output_type": "execute_result"
    }
   ],
   "source": [
    "p = \"66\"\n",
    "q = 7\n",
    "# \"667\"\n",
    "p + str(q)"
   ]
  },
  {
   "cell_type": "code",
   "execution_count": 19,
   "id": "d3f20d03",
   "metadata": {
    "execution": {
     "iopub.execute_input": "2023-11-09T16:32:01.125328Z",
     "iopub.status.busy": "2023-11-09T16:32:01.124592Z",
     "iopub.status.idle": "2023-11-09T16:32:01.135104Z",
     "shell.execute_reply": "2023-11-09T16:32:01.133793Z"
    },
    "papermill": {
     "duration": 0.08615,
     "end_time": "2023-11-09T16:32:01.139325",
     "exception": false,
     "start_time": "2023-11-09T16:32:01.053175",
     "status": "completed"
    },
    "tags": []
   },
   "outputs": [
    {
     "data": {
      "text/plain": [
       "73"
      ]
     },
     "execution_count": 19,
     "metadata": {},
     "output_type": "execute_result"
    }
   ],
   "source": [
    "p = \"66\"\n",
    "q = 7\n",
    "int(p) + q"
   ]
  },
  {
   "cell_type": "code",
   "execution_count": 20,
   "id": "b90dcc13",
   "metadata": {
    "execution": {
     "iopub.execute_input": "2023-11-09T16:32:01.284747Z",
     "iopub.status.busy": "2023-11-09T16:32:01.284217Z",
     "iopub.status.idle": "2023-11-09T16:32:01.290638Z",
     "shell.execute_reply": "2023-11-09T16:32:01.289544Z"
    },
    "papermill": {
     "duration": 0.082875,
     "end_time": "2023-11-09T16:32:01.293448",
     "exception": false,
     "start_time": "2023-11-09T16:32:01.210573",
     "status": "completed"
    },
    "tags": []
   },
   "outputs": [
    {
     "data": {
      "text/plain": [
       "8"
      ]
     },
     "execution_count": 20,
     "metadata": {},
     "output_type": "execute_result"
    }
   ],
   "source": [
    "a = 7\n",
    "b = 8\n",
    "b"
   ]
  },
  {
   "cell_type": "code",
   "execution_count": 21,
   "id": "d431f3b2",
   "metadata": {
    "execution": {
     "iopub.execute_input": "2023-11-09T16:32:01.438555Z",
     "iopub.status.busy": "2023-11-09T16:32:01.438212Z",
     "iopub.status.idle": "2023-11-09T16:32:01.446874Z",
     "shell.execute_reply": "2023-11-09T16:32:01.445132Z"
    },
    "papermill": {
     "duration": 0.084268,
     "end_time": "2023-11-09T16:32:01.449438",
     "exception": false,
     "start_time": "2023-11-09T16:32:01.365170",
     "status": "completed"
    },
    "tags": []
   },
   "outputs": [
    {
     "data": {
      "text/plain": [
       "8"
      ]
     },
     "execution_count": 21,
     "metadata": {},
     "output_type": "execute_result"
    }
   ],
   "source": [
    "a,b = 7,8\n",
    "b"
   ]
  },
  {
   "cell_type": "code",
   "execution_count": 22,
   "id": "92292dc6",
   "metadata": {
    "execution": {
     "iopub.execute_input": "2023-11-09T16:32:01.590081Z",
     "iopub.status.busy": "2023-11-09T16:32:01.589714Z",
     "iopub.status.idle": "2023-11-09T16:32:01.596563Z",
     "shell.execute_reply": "2023-11-09T16:32:01.595572Z"
    },
    "papermill": {
     "duration": 0.077759,
     "end_time": "2023-11-09T16:32:01.598237",
     "exception": false,
     "start_time": "2023-11-09T16:32:01.520478",
     "status": "completed"
    },
    "tags": []
   },
   "outputs": [
    {
     "data": {
      "text/plain": [
       "7"
      ]
     },
     "execution_count": 22,
     "metadata": {},
     "output_type": "execute_result"
    }
   ],
   "source": [
    "abhi7 = 7\n",
    "abhi7"
   ]
  },
  {
   "cell_type": "code",
   "execution_count": 23,
   "id": "9463371f",
   "metadata": {
    "execution": {
     "iopub.execute_input": "2023-11-09T16:32:01.736583Z",
     "iopub.status.busy": "2023-11-09T16:32:01.736190Z",
     "iopub.status.idle": "2023-11-09T16:32:01.741308Z",
     "shell.execute_reply": "2023-11-09T16:32:01.740388Z"
    },
    "papermill": {
     "duration": 0.076729,
     "end_time": "2023-11-09T16:32:01.743211",
     "exception": false,
     "start_time": "2023-11-09T16:32:01.666482",
     "status": "completed"
    },
    "tags": []
   },
   "outputs": [
    {
     "name": "stdout",
     "output_type": "stream",
     "text": [
      "Sally\n"
     ]
    }
   ],
   "source": [
    "x = 4       # x is of type int\n",
    "x = \"Sally\" # x is now of type str\n",
    "print(x)"
   ]
  },
  {
   "cell_type": "code",
   "execution_count": 24,
   "id": "dbad92bb",
   "metadata": {
    "execution": {
     "iopub.execute_input": "2023-11-09T16:32:01.886537Z",
     "iopub.status.busy": "2023-11-09T16:32:01.886146Z",
     "iopub.status.idle": "2023-11-09T16:32:01.892729Z",
     "shell.execute_reply": "2023-11-09T16:32:01.891225Z"
    },
    "papermill": {
     "duration": 0.081062,
     "end_time": "2023-11-09T16:32:01.895092",
     "exception": false,
     "start_time": "2023-11-09T16:32:01.814030",
     "status": "completed"
    },
    "tags": []
   },
   "outputs": [
    {
     "name": "stdout",
     "output_type": "stream",
     "text": [
      "4\n"
     ]
    }
   ],
   "source": [
    "x = 4       # x is of type int\n",
    "print(x)\n",
    "x = \"Sally\" # x is now of type str\n"
   ]
  },
  {
   "cell_type": "code",
   "execution_count": 25,
   "id": "b001ccf0",
   "metadata": {
    "execution": {
     "iopub.execute_input": "2023-11-09T16:32:02.041497Z",
     "iopub.status.busy": "2023-11-09T16:32:02.041156Z",
     "iopub.status.idle": "2023-11-09T16:32:02.047694Z",
     "shell.execute_reply": "2023-11-09T16:32:02.045726Z"
    },
    "papermill": {
     "duration": 0.081234,
     "end_time": "2023-11-09T16:32:02.049580",
     "exception": false,
     "start_time": "2023-11-09T16:32:01.968346",
     "status": "completed"
    },
    "tags": []
   },
   "outputs": [
    {
     "name": "stdout",
     "output_type": "stream",
     "text": [
      "7\n"
     ]
    }
   ],
   "source": [
    "# o/p\n",
    "a= 7\n",
    "print(a)"
   ]
  },
  {
   "cell_type": "code",
   "execution_count": 26,
   "id": "a939af7c",
   "metadata": {
    "execution": {
     "iopub.execute_input": "2023-11-09T16:32:02.196908Z",
     "iopub.status.busy": "2023-11-09T16:32:02.195513Z",
     "iopub.status.idle": "2023-11-09T16:32:02.201145Z",
     "shell.execute_reply": "2023-11-09T16:32:02.199967Z"
    },
    "papermill": {
     "duration": 0.082146,
     "end_time": "2023-11-09T16:32:02.202922",
     "exception": false,
     "start_time": "2023-11-09T16:32:02.120776",
     "status": "completed"
    },
    "tags": []
   },
   "outputs": [],
   "source": [
    "# a = int(input())\n",
    "# print(a+1)"
   ]
  },
  {
   "cell_type": "code",
   "execution_count": 27,
   "id": "87e988f3",
   "metadata": {
    "execution": {
     "iopub.execute_input": "2023-11-09T16:32:02.348457Z",
     "iopub.status.busy": "2023-11-09T16:32:02.348101Z",
     "iopub.status.idle": "2023-11-09T16:32:02.356093Z",
     "shell.execute_reply": "2023-11-09T16:32:02.354664Z"
    },
    "papermill": {
     "duration": 0.084952,
     "end_time": "2023-11-09T16:32:02.358675",
     "exception": false,
     "start_time": "2023-11-09T16:32:02.273723",
     "status": "completed"
    },
    "tags": []
   },
   "outputs": [
    {
     "data": {
      "text/plain": [
       "13"
      ]
     },
     "execution_count": 27,
     "metadata": {},
     "output_type": "execute_result"
    }
   ],
   "source": [
    "a = 6 + 7\n",
    "a"
   ]
  },
  {
   "cell_type": "code",
   "execution_count": 28,
   "id": "617e9c84",
   "metadata": {
    "execution": {
     "iopub.execute_input": "2023-11-09T16:32:02.502386Z",
     "iopub.status.busy": "2023-11-09T16:32:02.502040Z",
     "iopub.status.idle": "2023-11-09T16:32:02.509797Z",
     "shell.execute_reply": "2023-11-09T16:32:02.508538Z"
    },
    "papermill": {
     "duration": 0.082868,
     "end_time": "2023-11-09T16:32:02.512564",
     "exception": false,
     "start_time": "2023-11-09T16:32:02.429696",
     "status": "completed"
    },
    "tags": []
   },
   "outputs": [
    {
     "data": {
      "text/plain": [
       "'da50'"
      ]
     },
     "execution_count": 28,
     "metadata": {},
     "output_type": "execute_result"
    }
   ],
   "source": [
    "b = \"da\" + str(50)\n",
    "b"
   ]
  },
  {
   "cell_type": "code",
   "execution_count": 29,
   "id": "a37d7b7a",
   "metadata": {
    "execution": {
     "iopub.execute_input": "2023-11-09T16:32:02.657838Z",
     "iopub.status.busy": "2023-11-09T16:32:02.657441Z",
     "iopub.status.idle": "2023-11-09T16:32:02.663807Z",
     "shell.execute_reply": "2023-11-09T16:32:02.662280Z"
    },
    "papermill": {
     "duration": 0.082013,
     "end_time": "2023-11-09T16:32:02.666361",
     "exception": false,
     "start_time": "2023-11-09T16:32:02.584348",
     "status": "completed"
    },
    "tags": []
   },
   "outputs": [
    {
     "name": "stdout",
     "output_type": "stream",
     "text": [
      "5 John\n"
     ]
    }
   ],
   "source": [
    "x = 5\n",
    "y = \"John\"\n",
    "print(x, y)"
   ]
  },
  {
   "cell_type": "code",
   "execution_count": 30,
   "id": "a6ec53d5",
   "metadata": {
    "execution": {
     "iopub.execute_input": "2023-11-09T16:32:02.809810Z",
     "iopub.status.busy": "2023-11-09T16:32:02.809444Z",
     "iopub.status.idle": "2023-11-09T16:32:02.813824Z",
     "shell.execute_reply": "2023-11-09T16:32:02.812891Z"
    },
    "papermill": {
     "duration": 0.078415,
     "end_time": "2023-11-09T16:32:02.815831",
     "exception": false,
     "start_time": "2023-11-09T16:32:02.737416",
     "status": "completed"
    },
    "tags": []
   },
   "outputs": [],
   "source": [
    "a = 6 \n",
    "a = 7"
   ]
  },
  {
   "cell_type": "markdown",
   "id": "88f628dd",
   "metadata": {
    "papermill": {
     "duration": 0.070981,
     "end_time": "2023-11-09T16:32:02.958806",
     "exception": false,
     "start_time": "2023-11-09T16:32:02.887825",
     "status": "completed"
    },
    "tags": []
   },
   "source": [
    "# data  structures\n"
   ]
  },
  {
   "cell_type": "markdown",
   "id": "211a2e4f",
   "metadata": {
    "papermill": {
     "duration": 0.069115,
     "end_time": "2023-11-09T16:32:03.105288",
     "exception": false,
     "start_time": "2023-11-09T16:32:03.036173",
     "status": "completed"
    },
    "tags": []
   },
   "source": [
    "# List  [ ] "
   ]
  },
  {
   "cell_type": "code",
   "execution_count": 31,
   "id": "cacb420f",
   "metadata": {
    "execution": {
     "iopub.execute_input": "2023-11-09T16:32:03.321188Z",
     "iopub.status.busy": "2023-11-09T16:32:03.320852Z",
     "iopub.status.idle": "2023-11-09T16:32:03.326643Z",
     "shell.execute_reply": "2023-11-09T16:32:03.325701Z"
    },
    "papermill": {
     "duration": 0.14975,
     "end_time": "2023-11-09T16:32:03.328845",
     "exception": false,
     "start_time": "2023-11-09T16:32:03.179095",
     "status": "completed"
    },
    "tags": []
   },
   "outputs": [
    {
     "data": {
      "text/plain": [
       "11"
      ]
     },
     "execution_count": 31,
     "metadata": {},
     "output_type": "execute_result"
    }
   ],
   "source": [
    "a = [11,28,34,45,57]\n",
    "a[0]\n",
    "\n"
   ]
  },
  {
   "cell_type": "code",
   "execution_count": 32,
   "id": "09aeef0f",
   "metadata": {
    "execution": {
     "iopub.execute_input": "2023-11-09T16:32:03.476677Z",
     "iopub.status.busy": "2023-11-09T16:32:03.476234Z",
     "iopub.status.idle": "2023-11-09T16:32:03.482407Z",
     "shell.execute_reply": "2023-11-09T16:32:03.480987Z"
    },
    "papermill": {
     "duration": 0.084177,
     "end_time": "2023-11-09T16:32:03.484900",
     "exception": false,
     "start_time": "2023-11-09T16:32:03.400723",
     "status": "completed"
    },
    "tags": []
   },
   "outputs": [
    {
     "data": {
      "text/plain": [
       "57"
      ]
     },
     "execution_count": 32,
     "metadata": {},
     "output_type": "execute_result"
    }
   ],
   "source": [
    "a[4]"
   ]
  },
  {
   "cell_type": "code",
   "execution_count": 33,
   "id": "1f2e687e",
   "metadata": {
    "execution": {
     "iopub.execute_input": "2023-11-09T16:32:03.631544Z",
     "iopub.status.busy": "2023-11-09T16:32:03.631159Z",
     "iopub.status.idle": "2023-11-09T16:32:03.637502Z",
     "shell.execute_reply": "2023-11-09T16:32:03.636372Z"
    },
    "papermill": {
     "duration": 0.08195,
     "end_time": "2023-11-09T16:32:03.639461",
     "exception": false,
     "start_time": "2023-11-09T16:32:03.557511",
     "status": "completed"
    },
    "tags": []
   },
   "outputs": [
    {
     "data": {
      "text/plain": [
       "[11, 28, 34, 45, 57]"
      ]
     },
     "execution_count": 33,
     "metadata": {},
     "output_type": "execute_result"
    }
   ],
   "source": [
    "a"
   ]
  },
  {
   "cell_type": "code",
   "execution_count": 34,
   "id": "17e1ee27",
   "metadata": {
    "execution": {
     "iopub.execute_input": "2023-11-09T16:32:03.782030Z",
     "iopub.status.busy": "2023-11-09T16:32:03.781684Z",
     "iopub.status.idle": "2023-11-09T16:32:03.787404Z",
     "shell.execute_reply": "2023-11-09T16:32:03.786444Z"
    },
    "papermill": {
     "duration": 0.080429,
     "end_time": "2023-11-09T16:32:03.790089",
     "exception": false,
     "start_time": "2023-11-09T16:32:03.709660",
     "status": "completed"
    },
    "tags": []
   },
   "outputs": [
    {
     "data": {
      "text/plain": [
       "57"
      ]
     },
     "execution_count": 34,
     "metadata": {},
     "output_type": "execute_result"
    }
   ],
   "source": [
    "a[-1]"
   ]
  },
  {
   "cell_type": "code",
   "execution_count": 35,
   "id": "9fa4b9f1",
   "metadata": {
    "execution": {
     "iopub.execute_input": "2023-11-09T16:32:03.932439Z",
     "iopub.status.busy": "2023-11-09T16:32:03.932079Z",
     "iopub.status.idle": "2023-11-09T16:32:03.939142Z",
     "shell.execute_reply": "2023-11-09T16:32:03.937748Z"
    },
    "papermill": {
     "duration": 0.080231,
     "end_time": "2023-11-09T16:32:03.940960",
     "exception": false,
     "start_time": "2023-11-09T16:32:03.860729",
     "status": "completed"
    },
    "tags": []
   },
   "outputs": [
    {
     "data": {
      "text/plain": [
       "11"
      ]
     },
     "execution_count": 35,
     "metadata": {},
     "output_type": "execute_result"
    }
   ],
   "source": [
    "a[-5]"
   ]
  },
  {
   "cell_type": "code",
   "execution_count": 36,
   "id": "dd1ddca4",
   "metadata": {
    "execution": {
     "iopub.execute_input": "2023-11-09T16:32:04.085390Z",
     "iopub.status.busy": "2023-11-09T16:32:04.084981Z",
     "iopub.status.idle": "2023-11-09T16:32:04.091482Z",
     "shell.execute_reply": "2023-11-09T16:32:04.090785Z"
    },
    "papermill": {
     "duration": 0.081889,
     "end_time": "2023-11-09T16:32:04.093901",
     "exception": false,
     "start_time": "2023-11-09T16:32:04.012012",
     "status": "completed"
    },
    "tags": []
   },
   "outputs": [
    {
     "data": {
      "text/plain": [
       "[28, 34, 45]"
      ]
     },
     "execution_count": 36,
     "metadata": {},
     "output_type": "execute_result"
    }
   ],
   "source": [
    "a[1:4]"
   ]
  },
  {
   "cell_type": "code",
   "execution_count": 37,
   "id": "9d1a1222",
   "metadata": {
    "execution": {
     "iopub.execute_input": "2023-11-09T16:32:04.241279Z",
     "iopub.status.busy": "2023-11-09T16:32:04.240949Z",
     "iopub.status.idle": "2023-11-09T16:32:04.245434Z",
     "shell.execute_reply": "2023-11-09T16:32:04.244430Z"
    },
    "papermill": {
     "duration": 0.080457,
     "end_time": "2023-11-09T16:32:04.247539",
     "exception": false,
     "start_time": "2023-11-09T16:32:04.167082",
     "status": "completed"
    },
    "tags": []
   },
   "outputs": [],
   "source": [
    "a = [10,20,30,40 ,50,60,70,80,90]"
   ]
  },
  {
   "cell_type": "code",
   "execution_count": 38,
   "id": "381d8734",
   "metadata": {
    "execution": {
     "iopub.execute_input": "2023-11-09T16:32:04.392234Z",
     "iopub.status.busy": "2023-11-09T16:32:04.391847Z",
     "iopub.status.idle": "2023-11-09T16:32:04.398377Z",
     "shell.execute_reply": "2023-11-09T16:32:04.397074Z"
    },
    "papermill": {
     "duration": 0.080089,
     "end_time": "2023-11-09T16:32:04.400331",
     "exception": false,
     "start_time": "2023-11-09T16:32:04.320242",
     "status": "completed"
    },
    "tags": []
   },
   "outputs": [
    {
     "data": {
      "text/plain": [
       "[20, 30, 40, 50, 60, 70, 80]"
      ]
     },
     "execution_count": 38,
     "metadata": {},
     "output_type": "execute_result"
    }
   ],
   "source": [
    "# 2 property index - list = zero -index \n",
    "a[1:8]"
   ]
  },
  {
   "cell_type": "code",
   "execution_count": 39,
   "id": "6b8913fd",
   "metadata": {
    "execution": {
     "iopub.execute_input": "2023-11-09T16:32:04.573256Z",
     "iopub.status.busy": "2023-11-09T16:32:04.572913Z",
     "iopub.status.idle": "2023-11-09T16:32:04.580376Z",
     "shell.execute_reply": "2023-11-09T16:32:04.578859Z"
    },
    "papermill": {
     "duration": 0.096589,
     "end_time": "2023-11-09T16:32:04.583056",
     "exception": false,
     "start_time": "2023-11-09T16:32:04.486467",
     "status": "completed"
    },
    "tags": []
   },
   "outputs": [
    {
     "data": {
      "text/plain": [
       "[20, 40, 60, 80]"
      ]
     },
     "execution_count": 39,
     "metadata": {},
     "output_type": "execute_result"
    }
   ],
   "source": [
    "a[1:8:2]"
   ]
  },
  {
   "cell_type": "code",
   "execution_count": 40,
   "id": "58928c98",
   "metadata": {
    "execution": {
     "iopub.execute_input": "2023-11-09T16:32:04.728496Z",
     "iopub.status.busy": "2023-11-09T16:32:04.728126Z",
     "iopub.status.idle": "2023-11-09T16:32:04.734535Z",
     "shell.execute_reply": "2023-11-09T16:32:04.733095Z"
    },
    "papermill": {
     "duration": 0.08162,
     "end_time": "2023-11-09T16:32:04.737031",
     "exception": false,
     "start_time": "2023-11-09T16:32:04.655411",
     "status": "completed"
    },
    "tags": []
   },
   "outputs": [
    {
     "data": {
      "text/plain": [
       "[20, 50, 80]"
      ]
     },
     "execution_count": 40,
     "metadata": {},
     "output_type": "execute_result"
    }
   ],
   "source": [
    "a[1:-1:3]"
   ]
  },
  {
   "cell_type": "code",
   "execution_count": 41,
   "id": "0d34a81b",
   "metadata": {
    "execution": {
     "iopub.execute_input": "2023-11-09T16:32:04.898878Z",
     "iopub.status.busy": "2023-11-09T16:32:04.898509Z",
     "iopub.status.idle": "2023-11-09T16:32:04.904422Z",
     "shell.execute_reply": "2023-11-09T16:32:04.903669Z"
    },
    "papermill": {
     "duration": 0.085315,
     "end_time": "2023-11-09T16:32:04.906758",
     "exception": false,
     "start_time": "2023-11-09T16:32:04.821443",
     "status": "completed"
    },
    "tags": []
   },
   "outputs": [
    {
     "data": {
      "text/plain": [
       "[10, 20, 30, 40, 50, 60, 70, 80, 90]"
      ]
     },
     "execution_count": 41,
     "metadata": {},
     "output_type": "execute_result"
    }
   ],
   "source": [
    "# property of 1 of list \n",
    "# mutabilty\n",
    "\n",
    "a "
   ]
  },
  {
   "cell_type": "code",
   "execution_count": 42,
   "id": "969a4730",
   "metadata": {
    "execution": {
     "iopub.execute_input": "2023-11-09T16:32:05.052978Z",
     "iopub.status.busy": "2023-11-09T16:32:05.052592Z",
     "iopub.status.idle": "2023-11-09T16:32:05.060285Z",
     "shell.execute_reply": "2023-11-09T16:32:05.058801Z"
    },
    "papermill": {
     "duration": 0.083564,
     "end_time": "2023-11-09T16:32:05.062984",
     "exception": false,
     "start_time": "2023-11-09T16:32:04.979420",
     "status": "completed"
    },
    "tags": []
   },
   "outputs": [
    {
     "data": {
      "text/plain": [
       "10"
      ]
     },
     "execution_count": 42,
     "metadata": {},
     "output_type": "execute_result"
    }
   ],
   "source": [
    "a[0]"
   ]
  },
  {
   "cell_type": "code",
   "execution_count": 43,
   "id": "64ed24aa",
   "metadata": {
    "execution": {
     "iopub.execute_input": "2023-11-09T16:32:05.217464Z",
     "iopub.status.busy": "2023-11-09T16:32:05.216861Z",
     "iopub.status.idle": "2023-11-09T16:32:05.224143Z",
     "shell.execute_reply": "2023-11-09T16:32:05.223400Z"
    },
    "papermill": {
     "duration": 0.089394,
     "end_time": "2023-11-09T16:32:05.226025",
     "exception": false,
     "start_time": "2023-11-09T16:32:05.136631",
     "status": "completed"
    },
    "tags": []
   },
   "outputs": [
    {
     "data": {
      "text/plain": [
       "[900, 20, 30, 40, 50, 60, 70, 80, 90]"
      ]
     },
     "execution_count": 43,
     "metadata": {},
     "output_type": "execute_result"
    }
   ],
   "source": [
    "a[0] = 900\n",
    "a"
   ]
  },
  {
   "cell_type": "code",
   "execution_count": 44,
   "id": "a5c09823",
   "metadata": {
    "execution": {
     "iopub.execute_input": "2023-11-09T16:32:05.370507Z",
     "iopub.status.busy": "2023-11-09T16:32:05.370191Z",
     "iopub.status.idle": "2023-11-09T16:32:05.377065Z",
     "shell.execute_reply": "2023-11-09T16:32:05.375793Z"
    },
    "papermill": {
     "duration": 0.081185,
     "end_time": "2023-11-09T16:32:05.379964",
     "exception": false,
     "start_time": "2023-11-09T16:32:05.298779",
     "status": "completed"
    },
    "tags": []
   },
   "outputs": [
    {
     "data": {
      "text/plain": [
       "list"
      ]
     },
     "execution_count": 44,
     "metadata": {},
     "output_type": "execute_result"
    }
   ],
   "source": [
    "type(a)"
   ]
  },
  {
   "cell_type": "markdown",
   "id": "baf4218c",
   "metadata": {
    "papermill": {
     "duration": 0.072929,
     "end_time": "2023-11-09T16:32:05.524604",
     "exception": false,
     "start_time": "2023-11-09T16:32:05.451675",
     "status": "completed"
    },
    "tags": []
   },
   "source": [
    "# tuple  (  )"
   ]
  },
  {
   "cell_type": "code",
   "execution_count": 45,
   "id": "6ec14591",
   "metadata": {
    "execution": {
     "iopub.execute_input": "2023-11-09T16:32:05.669832Z",
     "iopub.status.busy": "2023-11-09T16:32:05.668354Z",
     "iopub.status.idle": "2023-11-09T16:32:05.675954Z",
     "shell.execute_reply": "2023-11-09T16:32:05.674940Z"
    },
    "papermill": {
     "duration": 0.081992,
     "end_time": "2023-11-09T16:32:05.678486",
     "exception": false,
     "start_time": "2023-11-09T16:32:05.596494",
     "status": "completed"
    },
    "tags": []
   },
   "outputs": [
    {
     "data": {
      "text/plain": [
       "10"
      ]
     },
     "execution_count": 45,
     "metadata": {},
     "output_type": "execute_result"
    }
   ],
   "source": [
    "b = (10,20,30,40,50)\n",
    "b[0]"
   ]
  },
  {
   "cell_type": "code",
   "execution_count": 46,
   "id": "00f4508f",
   "metadata": {
    "execution": {
     "iopub.execute_input": "2023-11-09T16:32:05.822022Z",
     "iopub.status.busy": "2023-11-09T16:32:05.820858Z",
     "iopub.status.idle": "2023-11-09T16:32:05.826798Z",
     "shell.execute_reply": "2023-11-09T16:32:05.826118Z"
    },
    "papermill": {
     "duration": 0.079484,
     "end_time": "2023-11-09T16:32:05.828765",
     "exception": false,
     "start_time": "2023-11-09T16:32:05.749281",
     "status": "completed"
    },
    "tags": []
   },
   "outputs": [
    {
     "data": {
      "text/plain": [
       "tuple"
      ]
     },
     "execution_count": 46,
     "metadata": {},
     "output_type": "execute_result"
    }
   ],
   "source": [
    "type(b)"
   ]
  },
  {
   "cell_type": "code",
   "execution_count": 47,
   "id": "edb0a81d",
   "metadata": {
    "execution": {
     "iopub.execute_input": "2023-11-09T16:32:05.973144Z",
     "iopub.status.busy": "2023-11-09T16:32:05.972509Z",
     "iopub.status.idle": "2023-11-09T16:32:05.977719Z",
     "shell.execute_reply": "2023-11-09T16:32:05.976767Z"
    },
    "papermill": {
     "duration": 0.0796,
     "end_time": "2023-11-09T16:32:05.979765",
     "exception": false,
     "start_time": "2023-11-09T16:32:05.900165",
     "status": "completed"
    },
    "tags": []
   },
   "outputs": [
    {
     "data": {
      "text/plain": [
       "50"
      ]
     },
     "execution_count": 47,
     "metadata": {},
     "output_type": "execute_result"
    }
   ],
   "source": [
    "b[4]"
   ]
  },
  {
   "cell_type": "code",
   "execution_count": 48,
   "id": "794d9256",
   "metadata": {
    "execution": {
     "iopub.execute_input": "2023-11-09T16:32:06.124285Z",
     "iopub.status.busy": "2023-11-09T16:32:06.123595Z",
     "iopub.status.idle": "2023-11-09T16:32:06.131772Z",
     "shell.execute_reply": "2023-11-09T16:32:06.129386Z"
    },
    "papermill": {
     "duration": 0.083299,
     "end_time": "2023-11-09T16:32:06.134505",
     "exception": false,
     "start_time": "2023-11-09T16:32:06.051206",
     "status": "completed"
    },
    "tags": []
   },
   "outputs": [
    {
     "data": {
      "text/plain": [
       "50"
      ]
     },
     "execution_count": 48,
     "metadata": {},
     "output_type": "execute_result"
    }
   ],
   "source": [
    "b[-1]"
   ]
  },
  {
   "cell_type": "code",
   "execution_count": 49,
   "id": "58b9afd8",
   "metadata": {
    "execution": {
     "iopub.execute_input": "2023-11-09T16:32:06.343196Z",
     "iopub.status.busy": "2023-11-09T16:32:06.342816Z",
     "iopub.status.idle": "2023-11-09T16:32:06.346818Z",
     "shell.execute_reply": "2023-11-09T16:32:06.345867Z"
    },
    "papermill": {
     "duration": 0.142144,
     "end_time": "2023-11-09T16:32:06.348852",
     "exception": false,
     "start_time": "2023-11-09T16:32:06.206708",
     "status": "completed"
    },
    "tags": []
   },
   "outputs": [],
   "source": [
    "# property 2 of tuple - zero index "
   ]
  },
  {
   "cell_type": "code",
   "execution_count": 50,
   "id": "99fc8a41",
   "metadata": {
    "execution": {
     "iopub.execute_input": "2023-11-09T16:32:06.493260Z",
     "iopub.status.busy": "2023-11-09T16:32:06.492190Z",
     "iopub.status.idle": "2023-11-09T16:32:06.496083Z",
     "shell.execute_reply": "2023-11-09T16:32:06.495495Z"
    },
    "papermill": {
     "duration": 0.078432,
     "end_time": "2023-11-09T16:32:06.497685",
     "exception": false,
     "start_time": "2023-11-09T16:32:06.419253",
     "status": "completed"
    },
    "tags": []
   },
   "outputs": [],
   "source": [
    "# b[0] = 10"
   ]
  },
  {
   "cell_type": "code",
   "execution_count": 51,
   "id": "778fbc9c",
   "metadata": {
    "execution": {
     "iopub.execute_input": "2023-11-09T16:32:06.644515Z",
     "iopub.status.busy": "2023-11-09T16:32:06.644114Z",
     "iopub.status.idle": "2023-11-09T16:32:06.648708Z",
     "shell.execute_reply": "2023-11-09T16:32:06.647658Z"
    },
    "papermill": {
     "duration": 0.080784,
     "end_time": "2023-11-09T16:32:06.651150",
     "exception": false,
     "start_time": "2023-11-09T16:32:06.570366",
     "status": "completed"
    },
    "tags": []
   },
   "outputs": [],
   "source": [
    "# property immutabilty - ypu cant change elements in a list"
   ]
  },
  {
   "cell_type": "code",
   "execution_count": 52,
   "id": "80decbbf",
   "metadata": {
    "execution": {
     "iopub.execute_input": "2023-11-09T16:32:06.802375Z",
     "iopub.status.busy": "2023-11-09T16:32:06.801395Z",
     "iopub.status.idle": "2023-11-09T16:32:06.806234Z",
     "shell.execute_reply": "2023-11-09T16:32:06.805104Z"
    },
    "papermill": {
     "duration": 0.080592,
     "end_time": "2023-11-09T16:32:06.808444",
     "exception": false,
     "start_time": "2023-11-09T16:32:06.727852",
     "status": "completed"
    },
    "tags": []
   },
   "outputs": [],
   "source": [
    "# set "
   ]
  },
  {
   "cell_type": "markdown",
   "id": "516a23a7",
   "metadata": {
    "papermill": {
     "duration": 0.073621,
     "end_time": "2023-11-09T16:32:06.955868",
     "exception": false,
     "start_time": "2023-11-09T16:32:06.882247",
     "status": "completed"
    },
    "tags": []
   },
   "source": [
    "{ }"
   ]
  },
  {
   "cell_type": "code",
   "execution_count": 53,
   "id": "1b36ca67",
   "metadata": {
    "execution": {
     "iopub.execute_input": "2023-11-09T16:32:07.103765Z",
     "iopub.status.busy": "2023-11-09T16:32:07.103407Z",
     "iopub.status.idle": "2023-11-09T16:32:07.108530Z",
     "shell.execute_reply": "2023-11-09T16:32:07.107047Z"
    },
    "papermill": {
     "duration": 0.082581,
     "end_time": "2023-11-09T16:32:07.111423",
     "exception": false,
     "start_time": "2023-11-09T16:32:07.028842",
     "status": "completed"
    },
    "tags": []
   },
   "outputs": [],
   "source": [
    "c = {10,20,30,40}"
   ]
  },
  {
   "cell_type": "code",
   "execution_count": 54,
   "id": "126ea56a",
   "metadata": {
    "execution": {
     "iopub.execute_input": "2023-11-09T16:32:07.261447Z",
     "iopub.status.busy": "2023-11-09T16:32:07.260327Z",
     "iopub.status.idle": "2023-11-09T16:32:07.268398Z",
     "shell.execute_reply": "2023-11-09T16:32:07.267170Z"
    },
    "papermill": {
     "duration": 0.08465,
     "end_time": "2023-11-09T16:32:07.271256",
     "exception": false,
     "start_time": "2023-11-09T16:32:07.186606",
     "status": "completed"
    },
    "tags": []
   },
   "outputs": [
    {
     "data": {
      "text/plain": [
       "{10, 20, 30, 40}"
      ]
     },
     "execution_count": 54,
     "metadata": {},
     "output_type": "execute_result"
    }
   ],
   "source": [
    "c"
   ]
  },
  {
   "cell_type": "code",
   "execution_count": 55,
   "id": "07e28821",
   "metadata": {
    "execution": {
     "iopub.execute_input": "2023-11-09T16:32:07.418661Z",
     "iopub.status.busy": "2023-11-09T16:32:07.418216Z",
     "iopub.status.idle": "2023-11-09T16:32:07.424164Z",
     "shell.execute_reply": "2023-11-09T16:32:07.422812Z"
    },
    "papermill": {
     "duration": 0.083657,
     "end_time": "2023-11-09T16:32:07.427232",
     "exception": false,
     "start_time": "2023-11-09T16:32:07.343575",
     "status": "completed"
    },
    "tags": []
   },
   "outputs": [],
   "source": [
    "d = {10,20,10,20}"
   ]
  },
  {
   "cell_type": "code",
   "execution_count": 56,
   "id": "d6b29d73",
   "metadata": {
    "execution": {
     "iopub.execute_input": "2023-11-09T16:32:07.575215Z",
     "iopub.status.busy": "2023-11-09T16:32:07.574897Z",
     "iopub.status.idle": "2023-11-09T16:32:07.581535Z",
     "shell.execute_reply": "2023-11-09T16:32:07.580463Z"
    },
    "papermill": {
     "duration": 0.083675,
     "end_time": "2023-11-09T16:32:07.584342",
     "exception": false,
     "start_time": "2023-11-09T16:32:07.500667",
     "status": "completed"
    },
    "tags": []
   },
   "outputs": [
    {
     "data": {
      "text/plain": [
       "{10, 20}"
      ]
     },
     "execution_count": 56,
     "metadata": {},
     "output_type": "execute_result"
    }
   ],
   "source": [
    "d"
   ]
  },
  {
   "cell_type": "code",
   "execution_count": 57,
   "id": "d2c0b636",
   "metadata": {
    "execution": {
     "iopub.execute_input": "2023-11-09T16:32:07.732286Z",
     "iopub.status.busy": "2023-11-09T16:32:07.730645Z",
     "iopub.status.idle": "2023-11-09T16:32:07.735407Z",
     "shell.execute_reply": "2023-11-09T16:32:07.734723Z"
    },
    "papermill": {
     "duration": 0.080345,
     "end_time": "2023-11-09T16:32:07.737672",
     "exception": false,
     "start_time": "2023-11-09T16:32:07.657327",
     "status": "completed"
    },
    "tags": []
   },
   "outputs": [],
   "source": [
    "# # property 1 \n",
    "\n",
    "# unique elements only "
   ]
  },
  {
   "cell_type": "code",
   "execution_count": 58,
   "id": "70ccda0d",
   "metadata": {
    "execution": {
     "iopub.execute_input": "2023-11-09T16:32:07.882473Z",
     "iopub.status.busy": "2023-11-09T16:32:07.882062Z",
     "iopub.status.idle": "2023-11-09T16:32:07.888053Z",
     "shell.execute_reply": "2023-11-09T16:32:07.887129Z"
    },
    "papermill": {
     "duration": 0.081342,
     "end_time": "2023-11-09T16:32:07.889807",
     "exception": false,
     "start_time": "2023-11-09T16:32:07.808465",
     "status": "completed"
    },
    "tags": []
   },
   "outputs": [
    {
     "data": {
      "text/plain": [
       "{10, 20}"
      ]
     },
     "execution_count": 58,
     "metadata": {},
     "output_type": "execute_result"
    }
   ],
   "source": [
    "# property \n",
    "# there is no index in set \n",
    "\n",
    "d"
   ]
  },
  {
   "cell_type": "code",
   "execution_count": 59,
   "id": "bc6e906d",
   "metadata": {
    "execution": {
     "iopub.execute_input": "2023-11-09T16:32:08.037259Z",
     "iopub.status.busy": "2023-11-09T16:32:08.036639Z",
     "iopub.status.idle": "2023-11-09T16:32:08.040686Z",
     "shell.execute_reply": "2023-11-09T16:32:08.039441Z"
    },
    "papermill": {
     "duration": 0.079227,
     "end_time": "2023-11-09T16:32:08.042507",
     "exception": false,
     "start_time": "2023-11-09T16:32:07.963280",
     "status": "completed"
    },
    "tags": []
   },
   "outputs": [],
   "source": [
    "# d[0]"
   ]
  },
  {
   "cell_type": "markdown",
   "id": "6da8de51",
   "metadata": {
    "papermill": {
     "duration": 0.074289,
     "end_time": "2023-11-09T16:32:08.190561",
     "exception": false,
     "start_time": "2023-11-09T16:32:08.116272",
     "status": "completed"
    },
    "tags": []
   },
   "source": [
    "# dictionary  ( ) "
   ]
  },
  {
   "cell_type": "code",
   "execution_count": 60,
   "id": "8bfca292",
   "metadata": {
    "execution": {
     "iopub.execute_input": "2023-11-09T16:32:08.339592Z",
     "iopub.status.busy": "2023-11-09T16:32:08.338931Z",
     "iopub.status.idle": "2023-11-09T16:32:08.343042Z",
     "shell.execute_reply": "2023-11-09T16:32:08.342059Z"
    },
    "papermill": {
     "duration": 0.079514,
     "end_time": "2023-11-09T16:32:08.344822",
     "exception": false,
     "start_time": "2023-11-09T16:32:08.265308",
     "status": "completed"
    },
    "tags": []
   },
   "outputs": [],
   "source": [
    "t = { \"beautiful\"   : \"swapna is a beautiful women\",\n",
    "    \"smart\" : \"tayyab is a smart person\",\n",
    "    \"clever\" : \"parth is clever\"}"
   ]
  },
  {
   "cell_type": "code",
   "execution_count": 61,
   "id": "ba8e0779",
   "metadata": {
    "execution": {
     "iopub.execute_input": "2023-11-09T16:32:08.491152Z",
     "iopub.status.busy": "2023-11-09T16:32:08.490529Z",
     "iopub.status.idle": "2023-11-09T16:32:08.494101Z",
     "shell.execute_reply": "2023-11-09T16:32:08.493301Z"
    },
    "papermill": {
     "duration": 0.079496,
     "end_time": "2023-11-09T16:32:08.495630",
     "exception": false,
     "start_time": "2023-11-09T16:32:08.416134",
     "status": "completed"
    },
    "tags": []
   },
   "outputs": [],
   "source": [
    "# property index - key index"
   ]
  },
  {
   "cell_type": "code",
   "execution_count": 62,
   "id": "f34ad305",
   "metadata": {
    "execution": {
     "iopub.execute_input": "2023-11-09T16:32:08.638879Z",
     "iopub.status.busy": "2023-11-09T16:32:08.638527Z",
     "iopub.status.idle": "2023-11-09T16:32:08.644754Z",
     "shell.execute_reply": "2023-11-09T16:32:08.643248Z"
    },
    "papermill": {
     "duration": 0.080571,
     "end_time": "2023-11-09T16:32:08.646780",
     "exception": false,
     "start_time": "2023-11-09T16:32:08.566209",
     "status": "completed"
    },
    "tags": []
   },
   "outputs": [
    {
     "data": {
      "text/plain": [
       "dict_keys(['beautiful', 'smart', 'clever'])"
      ]
     },
     "execution_count": 62,
     "metadata": {},
     "output_type": "execute_result"
    }
   ],
   "source": [
    "t.keys()"
   ]
  },
  {
   "cell_type": "code",
   "execution_count": 63,
   "id": "51a85e9f",
   "metadata": {
    "execution": {
     "iopub.execute_input": "2023-11-09T16:32:08.796447Z",
     "iopub.status.busy": "2023-11-09T16:32:08.795792Z",
     "iopub.status.idle": "2023-11-09T16:32:08.800570Z",
     "shell.execute_reply": "2023-11-09T16:32:08.799926Z"
    },
    "papermill": {
     "duration": 0.082567,
     "end_time": "2023-11-09T16:32:08.802252",
     "exception": false,
     "start_time": "2023-11-09T16:32:08.719685",
     "status": "completed"
    },
    "tags": []
   },
   "outputs": [
    {
     "data": {
      "text/plain": [
       "'swapna is a beautiful women'"
      ]
     },
     "execution_count": 63,
     "metadata": {},
     "output_type": "execute_result"
    }
   ],
   "source": [
    "t[\"beautiful\"]"
   ]
  },
  {
   "cell_type": "code",
   "execution_count": 64,
   "id": "f510ac68",
   "metadata": {
    "execution": {
     "iopub.execute_input": "2023-11-09T16:32:08.948675Z",
     "iopub.status.busy": "2023-11-09T16:32:08.948121Z",
     "iopub.status.idle": "2023-11-09T16:32:08.953548Z",
     "shell.execute_reply": "2023-11-09T16:32:08.952154Z"
    },
    "papermill": {
     "duration": 0.080473,
     "end_time": "2023-11-09T16:32:08.955314",
     "exception": false,
     "start_time": "2023-11-09T16:32:08.874841",
     "status": "completed"
    },
    "tags": []
   },
   "outputs": [
    {
     "data": {
      "text/plain": [
       "'parth is clever'"
      ]
     },
     "execution_count": 64,
     "metadata": {},
     "output_type": "execute_result"
    }
   ],
   "source": [
    "t[\"clever\"]"
   ]
  },
  {
   "cell_type": "code",
   "execution_count": 65,
   "id": "f98dd095",
   "metadata": {
    "execution": {
     "iopub.execute_input": "2023-11-09T16:32:09.101454Z",
     "iopub.status.busy": "2023-11-09T16:32:09.100313Z",
     "iopub.status.idle": "2023-11-09T16:32:09.106792Z",
     "shell.execute_reply": "2023-11-09T16:32:09.106108Z"
    },
    "papermill": {
     "duration": 0.081415,
     "end_time": "2023-11-09T16:32:09.108531",
     "exception": false,
     "start_time": "2023-11-09T16:32:09.027116",
     "status": "completed"
    },
    "tags": []
   },
   "outputs": [
    {
     "data": {
      "text/plain": [
       "dict_keys(['beautiful', 'smart', 'clever'])"
      ]
     },
     "execution_count": 65,
     "metadata": {},
     "output_type": "execute_result"
    }
   ],
   "source": [
    "t.keys()"
   ]
  },
  {
   "cell_type": "code",
   "execution_count": 66,
   "id": "97f921a5",
   "metadata": {
    "execution": {
     "iopub.execute_input": "2023-11-09T16:32:09.256876Z",
     "iopub.status.busy": "2023-11-09T16:32:09.256259Z",
     "iopub.status.idle": "2023-11-09T16:32:09.264147Z",
     "shell.execute_reply": "2023-11-09T16:32:09.262674Z"
    },
    "papermill": {
     "duration": 0.085115,
     "end_time": "2023-11-09T16:32:09.267144",
     "exception": false,
     "start_time": "2023-11-09T16:32:09.182029",
     "status": "completed"
    },
    "tags": []
   },
   "outputs": [
    {
     "data": {
      "text/plain": [
       "dict_values(['swapna is a beautiful women', 'tayyab is a smart person', 'parth is clever'])"
      ]
     },
     "execution_count": 66,
     "metadata": {},
     "output_type": "execute_result"
    }
   ],
   "source": [
    "t.values()"
   ]
  },
  {
   "cell_type": "code",
   "execution_count": 67,
   "id": "e415f03f",
   "metadata": {
    "execution": {
     "iopub.execute_input": "2023-11-09T16:32:09.415073Z",
     "iopub.status.busy": "2023-11-09T16:32:09.414738Z",
     "iopub.status.idle": "2023-11-09T16:32:09.422026Z",
     "shell.execute_reply": "2023-11-09T16:32:09.420912Z"
    },
    "papermill": {
     "duration": 0.082994,
     "end_time": "2023-11-09T16:32:09.424105",
     "exception": false,
     "start_time": "2023-11-09T16:32:09.341111",
     "status": "completed"
    },
    "tags": []
   },
   "outputs": [
    {
     "data": {
      "text/plain": [
       "dict_items([('beautiful', 'swapna is a beautiful women'), ('smart', 'tayyab is a smart person'), ('clever', 'parth is clever')])"
      ]
     },
     "execution_count": 67,
     "metadata": {},
     "output_type": "execute_result"
    }
   ],
   "source": [
    "t.items()"
   ]
  },
  {
   "cell_type": "code",
   "execution_count": 68,
   "id": "98659c3b",
   "metadata": {
    "execution": {
     "iopub.execute_input": "2023-11-09T16:32:09.573175Z",
     "iopub.status.busy": "2023-11-09T16:32:09.572804Z",
     "iopub.status.idle": "2023-11-09T16:32:09.580955Z",
     "shell.execute_reply": "2023-11-09T16:32:09.579605Z"
    },
    "papermill": {
     "duration": 0.084468,
     "end_time": "2023-11-09T16:32:09.583324",
     "exception": false,
     "start_time": "2023-11-09T16:32:09.498856",
     "status": "completed"
    },
    "tags": []
   },
   "outputs": [
    {
     "data": {
      "text/plain": [
       "'4'"
      ]
     },
     "execution_count": 68,
     "metadata": {},
     "output_type": "execute_result"
    }
   ],
   "source": [
    "ch = { \"c1\" :\n",
    "                   {\"c1.1\" :  \"chapter1.1\",\n",
    "                    \n",
    "                    \"c1.2\" :  \n",
    "                             {\"c1.2.1\" : \"chapter mlv\",\n",
    "                              \"c1.2.2\" : [10,20,30,40]},\n",
    "                    \n",
    "                    \"c1.3\" :  \"chapter1.3\"},\n",
    "     \"c2\" : \"chapter2\",\n",
    "     \"c3\" : \"chapter3\"}\n",
    "\n",
    "list(str(ch[\"c1\"][\"c1.2\"][\"c1.2.2\"][3]))[0]"
   ]
  },
  {
   "cell_type": "code",
   "execution_count": 69,
   "id": "2260edcf",
   "metadata": {
    "execution": {
     "iopub.execute_input": "2023-11-09T16:32:09.729310Z",
     "iopub.status.busy": "2023-11-09T16:32:09.729015Z",
     "iopub.status.idle": "2023-11-09T16:32:09.735013Z",
     "shell.execute_reply": "2023-11-09T16:32:09.733287Z"
    },
    "papermill": {
     "duration": 0.081106,
     "end_time": "2023-11-09T16:32:09.737430",
     "exception": false,
     "start_time": "2023-11-09T16:32:09.656324",
     "status": "completed"
    },
    "tags": []
   },
   "outputs": [
    {
     "data": {
      "text/plain": [
       "10"
      ]
     },
     "execution_count": 69,
     "metadata": {},
     "output_type": "execute_result"
    }
   ],
   "source": [
    "ch[\"c1\"][\"c1.2\"][\"c1.2.2\"][0]"
   ]
  },
  {
   "cell_type": "code",
   "execution_count": 70,
   "id": "36e2d803",
   "metadata": {
    "execution": {
     "iopub.execute_input": "2023-11-09T16:32:09.884055Z",
     "iopub.status.busy": "2023-11-09T16:32:09.883736Z",
     "iopub.status.idle": "2023-11-09T16:32:09.888562Z",
     "shell.execute_reply": "2023-11-09T16:32:09.887370Z"
    },
    "papermill": {
     "duration": 0.081556,
     "end_time": "2023-11-09T16:32:09.891322",
     "exception": false,
     "start_time": "2023-11-09T16:32:09.809766",
     "status": "completed"
    },
    "tags": []
   },
   "outputs": [],
   "source": [
    "ch[\"c3\"] = \"sush\""
   ]
  },
  {
   "cell_type": "code",
   "execution_count": 71,
   "id": "3decbc24",
   "metadata": {
    "execution": {
     "iopub.execute_input": "2023-11-09T16:32:10.039913Z",
     "iopub.status.busy": "2023-11-09T16:32:10.039534Z",
     "iopub.status.idle": "2023-11-09T16:32:10.046174Z",
     "shell.execute_reply": "2023-11-09T16:32:10.044683Z"
    },
    "papermill": {
     "duration": 0.084514,
     "end_time": "2023-11-09T16:32:10.048637",
     "exception": false,
     "start_time": "2023-11-09T16:32:09.964123",
     "status": "completed"
    },
    "tags": []
   },
   "outputs": [
    {
     "data": {
      "text/plain": [
       "3"
      ]
     },
     "execution_count": 71,
     "metadata": {},
     "output_type": "execute_result"
    }
   ],
   "source": [
    "len(ch.items())"
   ]
  },
  {
   "cell_type": "code",
   "execution_count": 72,
   "id": "ab268293",
   "metadata": {
    "execution": {
     "iopub.execute_input": "2023-11-09T16:32:10.195846Z",
     "iopub.status.busy": "2023-11-09T16:32:10.195463Z",
     "iopub.status.idle": "2023-11-09T16:32:10.201816Z",
     "shell.execute_reply": "2023-11-09T16:32:10.200773Z"
    },
    "papermill": {
     "duration": 0.081874,
     "end_time": "2023-11-09T16:32:10.203597",
     "exception": false,
     "start_time": "2023-11-09T16:32:10.121723",
     "status": "completed"
    },
    "tags": []
   },
   "outputs": [
    {
     "data": {
      "text/plain": [
       "{'c1': {'c1.1': 'chapter1.1',\n",
       "  'c1.2': {'c1.2.1': 'chapter mlv', 'c1.2.2': [10, 20, 30, 40]},\n",
       "  'c1.3': 'chapter1.3'},\n",
       " 'c2': 'chapter2',\n",
       " 'c3': 'sush'}"
      ]
     },
     "execution_count": 72,
     "metadata": {},
     "output_type": "execute_result"
    }
   ],
   "source": [
    "ch"
   ]
  },
  {
   "cell_type": "markdown",
   "id": "69d5f10e",
   "metadata": {
    "papermill": {
     "duration": 0.133977,
     "end_time": "2023-11-09T16:32:10.412781",
     "exception": false,
     "start_time": "2023-11-09T16:32:10.278804",
     "status": "completed"
    },
    "tags": []
   },
   "source": [
    "# type\n",
    "int()\n",
    "float()\n",
    "str()"
   ]
  },
  {
   "cell_type": "markdown",
   "id": "96110f8e",
   "metadata": {
    "papermill": {
     "duration": 0.070922,
     "end_time": "2023-11-09T16:32:10.556391",
     "exception": false,
     "start_time": "2023-11-09T16:32:10.485469",
     "status": "completed"
    },
    "tags": []
   },
   "source": [
    "# data structure casting\n",
    "## list()  tuple() set()  dict()"
   ]
  },
  {
   "cell_type": "code",
   "execution_count": 73,
   "id": "95b4284e",
   "metadata": {
    "execution": {
     "iopub.execute_input": "2023-11-09T16:32:10.704985Z",
     "iopub.status.busy": "2023-11-09T16:32:10.704636Z",
     "iopub.status.idle": "2023-11-09T16:32:10.712220Z",
     "shell.execute_reply": "2023-11-09T16:32:10.710946Z"
    },
    "papermill": {
     "duration": 0.086064,
     "end_time": "2023-11-09T16:32:10.714383",
     "exception": false,
     "start_time": "2023-11-09T16:32:10.628319",
     "status": "completed"
    },
    "tags": []
   },
   "outputs": [
    {
     "data": {
      "text/plain": [
       "list"
      ]
     },
     "execution_count": 73,
     "metadata": {},
     "output_type": "execute_result"
    }
   ],
   "source": [
    "a = [10,20,30]\n",
    "type(a)"
   ]
  },
  {
   "cell_type": "code",
   "execution_count": 74,
   "id": "2188f912",
   "metadata": {
    "execution": {
     "iopub.execute_input": "2023-11-09T16:32:10.863534Z",
     "iopub.status.busy": "2023-11-09T16:32:10.863057Z",
     "iopub.status.idle": "2023-11-09T16:32:10.869188Z",
     "shell.execute_reply": "2023-11-09T16:32:10.868320Z"
    },
    "papermill": {
     "duration": 0.082092,
     "end_time": "2023-11-09T16:32:10.870839",
     "exception": false,
     "start_time": "2023-11-09T16:32:10.788747",
     "status": "completed"
    },
    "tags": []
   },
   "outputs": [
    {
     "data": {
      "text/plain": [
       "(10, 20, 30)"
      ]
     },
     "execution_count": 74,
     "metadata": {},
     "output_type": "execute_result"
    }
   ],
   "source": [
    "b = tuple(a)\n",
    "b"
   ]
  },
  {
   "cell_type": "code",
   "execution_count": 75,
   "id": "aca8af3c",
   "metadata": {
    "execution": {
     "iopub.execute_input": "2023-11-09T16:32:11.019960Z",
     "iopub.status.busy": "2023-11-09T16:32:11.019583Z",
     "iopub.status.idle": "2023-11-09T16:32:11.026194Z",
     "shell.execute_reply": "2023-11-09T16:32:11.024729Z"
    },
    "papermill": {
     "duration": 0.083522,
     "end_time": "2023-11-09T16:32:11.028424",
     "exception": false,
     "start_time": "2023-11-09T16:32:10.944902",
     "status": "completed"
    },
    "tags": []
   },
   "outputs": [
    {
     "data": {
      "text/plain": [
       "tuple"
      ]
     },
     "execution_count": 75,
     "metadata": {},
     "output_type": "execute_result"
    }
   ],
   "source": [
    "type(b)"
   ]
  },
  {
   "cell_type": "code",
   "execution_count": 76,
   "id": "a262cafa",
   "metadata": {
    "execution": {
     "iopub.execute_input": "2023-11-09T16:32:11.180130Z",
     "iopub.status.busy": "2023-11-09T16:32:11.179728Z",
     "iopub.status.idle": "2023-11-09T16:32:11.185714Z",
     "shell.execute_reply": "2023-11-09T16:32:11.183777Z"
    },
    "papermill": {
     "duration": 0.085104,
     "end_time": "2023-11-09T16:32:11.187775",
     "exception": false,
     "start_time": "2023-11-09T16:32:11.102671",
     "status": "completed"
    },
    "tags": []
   },
   "outputs": [],
   "source": [
    "gg = (\"sush@gmail.com\",2564856855)\n",
    "# gg[0] = \"sush@outlook.com\""
   ]
  },
  {
   "cell_type": "code",
   "execution_count": 77,
   "id": "ea63e817",
   "metadata": {
    "execution": {
     "iopub.execute_input": "2023-11-09T16:32:11.342439Z",
     "iopub.status.busy": "2023-11-09T16:32:11.342063Z",
     "iopub.status.idle": "2023-11-09T16:32:11.347478Z",
     "shell.execute_reply": "2023-11-09T16:32:11.346856Z"
    },
    "papermill": {
     "duration": 0.086705,
     "end_time": "2023-11-09T16:32:11.349412",
     "exception": false,
     "start_time": "2023-11-09T16:32:11.262707",
     "status": "completed"
    },
    "tags": []
   },
   "outputs": [
    {
     "data": {
      "text/plain": [
       "['sush@gmail.com', 2564856855]"
      ]
     },
     "execution_count": 77,
     "metadata": {},
     "output_type": "execute_result"
    }
   ],
   "source": [
    "gg = list(gg)\n",
    "gg"
   ]
  },
  {
   "cell_type": "code",
   "execution_count": 78,
   "id": "9338c953",
   "metadata": {
    "execution": {
     "iopub.execute_input": "2023-11-09T16:32:11.499445Z",
     "iopub.status.busy": "2023-11-09T16:32:11.499028Z",
     "iopub.status.idle": "2023-11-09T16:32:11.505133Z",
     "shell.execute_reply": "2023-11-09T16:32:11.504223Z"
    },
    "papermill": {
     "duration": 0.084443,
     "end_time": "2023-11-09T16:32:11.507105",
     "exception": false,
     "start_time": "2023-11-09T16:32:11.422662",
     "status": "completed"
    },
    "tags": []
   },
   "outputs": [
    {
     "data": {
      "text/plain": [
       "list"
      ]
     },
     "execution_count": 78,
     "metadata": {},
     "output_type": "execute_result"
    }
   ],
   "source": [
    "type(gg)"
   ]
  },
  {
   "cell_type": "code",
   "execution_count": 79,
   "id": "1d9e2e1e",
   "metadata": {
    "execution": {
     "iopub.execute_input": "2023-11-09T16:32:11.658369Z",
     "iopub.status.busy": "2023-11-09T16:32:11.658005Z",
     "iopub.status.idle": "2023-11-09T16:32:11.664101Z",
     "shell.execute_reply": "2023-11-09T16:32:11.663165Z"
    },
    "papermill": {
     "duration": 0.084584,
     "end_time": "2023-11-09T16:32:11.665988",
     "exception": false,
     "start_time": "2023-11-09T16:32:11.581404",
     "status": "completed"
    },
    "tags": []
   },
   "outputs": [
    {
     "data": {
      "text/plain": [
       "['sush@outlook.com', 2564856855]"
      ]
     },
     "execution_count": 79,
     "metadata": {},
     "output_type": "execute_result"
    }
   ],
   "source": [
    "gg[0] = \"sush@outlook.com\"\n",
    "gg"
   ]
  },
  {
   "cell_type": "code",
   "execution_count": 80,
   "id": "15006dd6",
   "metadata": {
    "execution": {
     "iopub.execute_input": "2023-11-09T16:32:11.815963Z",
     "iopub.status.busy": "2023-11-09T16:32:11.815557Z",
     "iopub.status.idle": "2023-11-09T16:32:11.824172Z",
     "shell.execute_reply": "2023-11-09T16:32:11.822602Z"
    },
    "papermill": {
     "duration": 0.086617,
     "end_time": "2023-11-09T16:32:11.826961",
     "exception": false,
     "start_time": "2023-11-09T16:32:11.740344",
     "status": "completed"
    },
    "tags": []
   },
   "outputs": [
    {
     "data": {
      "text/plain": [
       "('sush@outlook.com', 2564856855)"
      ]
     },
     "execution_count": 80,
     "metadata": {},
     "output_type": "execute_result"
    }
   ],
   "source": [
    "gg = tuple(gg)\n",
    "gg"
   ]
  },
  {
   "cell_type": "code",
   "execution_count": 81,
   "id": "97600a79",
   "metadata": {
    "execution": {
     "iopub.execute_input": "2023-11-09T16:32:11.980511Z",
     "iopub.status.busy": "2023-11-09T16:32:11.980214Z",
     "iopub.status.idle": "2023-11-09T16:32:11.987140Z",
     "shell.execute_reply": "2023-11-09T16:32:11.986383Z"
    },
    "papermill": {
     "duration": 0.085587,
     "end_time": "2023-11-09T16:32:11.988965",
     "exception": false,
     "start_time": "2023-11-09T16:32:11.903378",
     "status": "completed"
    },
    "tags": []
   },
   "outputs": [
    {
     "data": {
      "text/plain": [
       "('sush@outlook.com', 2564856855)"
      ]
     },
     "execution_count": 81,
     "metadata": {},
     "output_type": "execute_result"
    }
   ],
   "source": [
    "gg = (\"sush@gmail.com\",2564856855)\n",
    "gg = list(gg)\n",
    "gg[0] = \"sush@outlook.com\"\n",
    "gg = tuple(gg)\n",
    "gg"
   ]
  },
  {
   "cell_type": "code",
   "execution_count": 82,
   "id": "d606fb86",
   "metadata": {
    "execution": {
     "iopub.execute_input": "2023-11-09T16:32:12.140770Z",
     "iopub.status.busy": "2023-11-09T16:32:12.140399Z",
     "iopub.status.idle": "2023-11-09T16:32:12.146415Z",
     "shell.execute_reply": "2023-11-09T16:32:12.145289Z"
    },
    "papermill": {
     "duration": 0.083464,
     "end_time": "2023-11-09T16:32:12.148167",
     "exception": false,
     "start_time": "2023-11-09T16:32:12.064703",
     "status": "completed"
    },
    "tags": []
   },
   "outputs": [
    {
     "data": {
      "text/plain": [
       "[10, 20, 30]"
      ]
     },
     "execution_count": 82,
     "metadata": {},
     "output_type": "execute_result"
    }
   ],
   "source": [
    "a = [10,20,30,10]\n",
    "a = list(set(a))\n",
    "a"
   ]
  },
  {
   "cell_type": "code",
   "execution_count": 83,
   "id": "c4883d64",
   "metadata": {
    "execution": {
     "iopub.execute_input": "2023-11-09T16:32:12.303106Z",
     "iopub.status.busy": "2023-11-09T16:32:12.302737Z",
     "iopub.status.idle": "2023-11-09T16:32:12.309755Z",
     "shell.execute_reply": "2023-11-09T16:32:12.308400Z"
    },
    "papermill": {
     "duration": 0.087134,
     "end_time": "2023-11-09T16:32:12.311918",
     "exception": false,
     "start_time": "2023-11-09T16:32:12.224784",
     "status": "completed"
    },
    "tags": []
   },
   "outputs": [
    {
     "data": {
      "text/plain": [
       "[10, 20, 30]"
      ]
     },
     "execution_count": 83,
     "metadata": {},
     "output_type": "execute_result"
    }
   ],
   "source": [
    "a = list(set(a))\n",
    "a"
   ]
  },
  {
   "cell_type": "code",
   "execution_count": 84,
   "id": "3af18ad9",
   "metadata": {
    "execution": {
     "iopub.execute_input": "2023-11-09T16:32:12.462470Z",
     "iopub.status.busy": "2023-11-09T16:32:12.462064Z",
     "iopub.status.idle": "2023-11-09T16:32:12.468683Z",
     "shell.execute_reply": "2023-11-09T16:32:12.467655Z"
    },
    "papermill": {
     "duration": 0.084286,
     "end_time": "2023-11-09T16:32:12.470587",
     "exception": false,
     "start_time": "2023-11-09T16:32:12.386301",
     "status": "completed"
    },
    "tags": []
   },
   "outputs": [
    {
     "data": {
      "text/plain": [
       "{10, 20, 30}"
      ]
     },
     "execution_count": 84,
     "metadata": {},
     "output_type": "execute_result"
    }
   ],
   "source": [
    "c = { 10,20,30,30}\n",
    "c \n",
    "\n"
   ]
  },
  {
   "cell_type": "code",
   "execution_count": 85,
   "id": "c8354c84",
   "metadata": {
    "execution": {
     "iopub.execute_input": "2023-11-09T16:32:12.625103Z",
     "iopub.status.busy": "2023-11-09T16:32:12.624186Z",
     "iopub.status.idle": "2023-11-09T16:32:12.630519Z",
     "shell.execute_reply": "2023-11-09T16:32:12.629131Z"
    },
    "papermill": {
     "duration": 0.085934,
     "end_time": "2023-11-09T16:32:12.633003",
     "exception": false,
     "start_time": "2023-11-09T16:32:12.547069",
     "status": "completed"
    },
    "tags": []
   },
   "outputs": [
    {
     "name": "stdout",
     "output_type": "stream",
     "text": [
      "3\n"
     ]
    }
   ],
   "source": [
    "thislist = [\"apple\", \"banana\", \"cherry\"]\n",
    "print(len(thislist))"
   ]
  },
  {
   "cell_type": "code",
   "execution_count": 86,
   "id": "36ba8401",
   "metadata": {
    "execution": {
     "iopub.execute_input": "2023-11-09T16:32:12.785425Z",
     "iopub.status.busy": "2023-11-09T16:32:12.784900Z",
     "iopub.status.idle": "2023-11-09T16:32:12.790759Z",
     "shell.execute_reply": "2023-11-09T16:32:12.788532Z"
    },
    "papermill": {
     "duration": 0.084263,
     "end_time": "2023-11-09T16:32:12.793369",
     "exception": false,
     "start_time": "2023-11-09T16:32:12.709106",
     "status": "completed"
    },
    "tags": []
   },
   "outputs": [
    {
     "name": "stdout",
     "output_type": "stream",
     "text": [
      "['apple', 'banana', 'cherry']\n"
     ]
    }
   ],
   "source": [
    "thislist = list((\"apple\", \"banana\", \"cherry\")) # note the double round-brackets\n",
    "print(thislist)"
   ]
  },
  {
   "cell_type": "code",
   "execution_count": 87,
   "id": "d3384db2",
   "metadata": {
    "execution": {
     "iopub.execute_input": "2023-11-09T16:32:13.003268Z",
     "iopub.status.busy": "2023-11-09T16:32:13.002880Z",
     "iopub.status.idle": "2023-11-09T16:32:13.007656Z",
     "shell.execute_reply": "2023-11-09T16:32:13.006809Z"
    },
    "papermill": {
     "duration": 0.144387,
     "end_time": "2023-11-09T16:32:13.011267",
     "exception": false,
     "start_time": "2023-11-09T16:32:12.866880",
     "status": "completed"
    },
    "tags": []
   },
   "outputs": [
    {
     "name": "stdout",
     "output_type": "stream",
     "text": [
      "['apple', 'banana', 'cherry', 'orange', 'kiwi', 'melon', 'mango']\n"
     ]
    }
   ],
   "source": [
    "thislist = [\"apple\", \"banana\", \"cherry\", \"orange\", \"kiwi\", \"melon\", \"mango\"]\n",
    "print(thislist[:])"
   ]
  },
  {
   "cell_type": "code",
   "execution_count": 88,
   "id": "75fa5ca5",
   "metadata": {
    "execution": {
     "iopub.execute_input": "2023-11-09T16:32:13.171486Z",
     "iopub.status.busy": "2023-11-09T16:32:13.171015Z",
     "iopub.status.idle": "2023-11-09T16:32:13.176049Z",
     "shell.execute_reply": "2023-11-09T16:32:13.175214Z"
    },
    "papermill": {
     "duration": 0.084653,
     "end_time": "2023-11-09T16:32:13.177792",
     "exception": false,
     "start_time": "2023-11-09T16:32:13.093139",
     "status": "completed"
    },
    "tags": []
   },
   "outputs": [
    {
     "name": "stdout",
     "output_type": "stream",
     "text": [
      "['orange', 'kiwi', 'melon']\n"
     ]
    }
   ],
   "source": [
    "thislist = [\"apple\", \"banana\", \"cherry\", \"orange\", \"kiwi\", \"melon\", \"mango\"]\n",
    "print(thislist[-4:-1])"
   ]
  },
  {
   "cell_type": "code",
   "execution_count": 89,
   "id": "683d2fef",
   "metadata": {
    "execution": {
     "iopub.execute_input": "2023-11-09T16:32:13.333831Z",
     "iopub.status.busy": "2023-11-09T16:32:13.333099Z",
     "iopub.status.idle": "2023-11-09T16:32:13.338474Z",
     "shell.execute_reply": "2023-11-09T16:32:13.337083Z"
    },
    "papermill": {
     "duration": 0.086727,
     "end_time": "2023-11-09T16:32:13.341486",
     "exception": false,
     "start_time": "2023-11-09T16:32:13.254759",
     "status": "completed"
    },
    "tags": []
   },
   "outputs": [
    {
     "name": "stdout",
     "output_type": "stream",
     "text": [
      "['apple', 'blackcurrant', 'cherry']\n"
     ]
    }
   ],
   "source": [
    "thislist = [\"apple\", \"banana\", \"cherry\"]\n",
    "thislist[1] = \"blackcurrant\"\n",
    "print(thislist)"
   ]
  },
  {
   "cell_type": "code",
   "execution_count": 90,
   "id": "c41fcfa0",
   "metadata": {
    "execution": {
     "iopub.execute_input": "2023-11-09T16:32:13.494427Z",
     "iopub.status.busy": "2023-11-09T16:32:13.493122Z",
     "iopub.status.idle": "2023-11-09T16:32:13.500305Z",
     "shell.execute_reply": "2023-11-09T16:32:13.499416Z"
    },
    "papermill": {
     "duration": 0.085305,
     "end_time": "2023-11-09T16:32:13.502218",
     "exception": false,
     "start_time": "2023-11-09T16:32:13.416913",
     "status": "completed"
    },
    "tags": []
   },
   "outputs": [
    {
     "data": {
      "text/plain": [
       "['apple', 'banana', 'cherry', 'orange']"
      ]
     },
     "execution_count": 90,
     "metadata": {},
     "output_type": "execute_result"
    }
   ],
   "source": [
    "fruits = ['apple', 'banana', 'cherry']\n",
    "fruits.append(\"orange\")\n",
    "fruits"
   ]
  },
  {
   "cell_type": "code",
   "execution_count": 91,
   "id": "9fae49a8",
   "metadata": {
    "execution": {
     "iopub.execute_input": "2023-11-09T16:32:13.655968Z",
     "iopub.status.busy": "2023-11-09T16:32:13.654851Z",
     "iopub.status.idle": "2023-11-09T16:32:13.659498Z",
     "shell.execute_reply": "2023-11-09T16:32:13.658876Z"
    },
    "papermill": {
     "duration": 0.083244,
     "end_time": "2023-11-09T16:32:13.661415",
     "exception": false,
     "start_time": "2023-11-09T16:32:13.578171",
     "status": "completed"
    },
    "tags": []
   },
   "outputs": [],
   "source": [
    "fruits = ['apple', 'banana', 'cherry', 'orange']\n",
    "\n",
    "fruits.clear()"
   ]
  },
  {
   "cell_type": "code",
   "execution_count": 92,
   "id": "c731018a",
   "metadata": {
    "execution": {
     "iopub.execute_input": "2023-11-09T16:32:13.814094Z",
     "iopub.status.busy": "2023-11-09T16:32:13.812806Z",
     "iopub.status.idle": "2023-11-09T16:32:13.820459Z",
     "shell.execute_reply": "2023-11-09T16:32:13.819478Z"
    },
    "papermill": {
     "duration": 0.08625,
     "end_time": "2023-11-09T16:32:13.822910",
     "exception": false,
     "start_time": "2023-11-09T16:32:13.736660",
     "status": "completed"
    },
    "tags": []
   },
   "outputs": [
    {
     "data": {
      "text/plain": [
       "[]"
      ]
     },
     "execution_count": 92,
     "metadata": {},
     "output_type": "execute_result"
    }
   ],
   "source": [
    "fruits "
   ]
  },
  {
   "cell_type": "code",
   "execution_count": 93,
   "id": "a5bd0a94",
   "metadata": {
    "execution": {
     "iopub.execute_input": "2023-11-09T16:32:13.974542Z",
     "iopub.status.busy": "2023-11-09T16:32:13.973783Z",
     "iopub.status.idle": "2023-11-09T16:32:13.980932Z",
     "shell.execute_reply": "2023-11-09T16:32:13.980050Z"
    },
    "papermill": {
     "duration": 0.085601,
     "end_time": "2023-11-09T16:32:13.983380",
     "exception": false,
     "start_time": "2023-11-09T16:32:13.897779",
     "status": "completed"
    },
    "tags": []
   },
   "outputs": [
    {
     "data": {
      "text/plain": [
       "2"
      ]
     },
     "execution_count": 93,
     "metadata": {},
     "output_type": "execute_result"
    }
   ],
   "source": [
    "tay = ['sush', 'sush', 'cherry']\n",
    "\n",
    "tay.count(\"sush\")"
   ]
  },
  {
   "cell_type": "code",
   "execution_count": 94,
   "id": "1912b6b5",
   "metadata": {
    "execution": {
     "iopub.execute_input": "2023-11-09T16:32:14.140638Z",
     "iopub.status.busy": "2023-11-09T16:32:14.140021Z",
     "iopub.status.idle": "2023-11-09T16:32:14.145981Z",
     "shell.execute_reply": "2023-11-09T16:32:14.144900Z"
    },
    "papermill": {
     "duration": 0.087081,
     "end_time": "2023-11-09T16:32:14.148300",
     "exception": false,
     "start_time": "2023-11-09T16:32:14.061219",
     "status": "completed"
    },
    "tags": []
   },
   "outputs": [
    {
     "data": {
      "text/plain": [
       "1"
      ]
     },
     "execution_count": 94,
     "metadata": {},
     "output_type": "execute_result"
    }
   ],
   "source": [
    "fruits = ['apple', 'banana', 'cherry']\n",
    "\n",
    "points = (1, 4, 5, 9)\n",
    "\n",
    "fruits.extend(points)\n",
    "fruits[3]"
   ]
  },
  {
   "cell_type": "code",
   "execution_count": 95,
   "id": "c05b434f",
   "metadata": {
    "execution": {
     "iopub.execute_input": "2023-11-09T16:32:14.302289Z",
     "iopub.status.busy": "2023-11-09T16:32:14.301850Z",
     "iopub.status.idle": "2023-11-09T16:32:14.310170Z",
     "shell.execute_reply": "2023-11-09T16:32:14.308653Z"
    },
    "papermill": {
     "duration": 0.087016,
     "end_time": "2023-11-09T16:32:14.312037",
     "exception": false,
     "start_time": "2023-11-09T16:32:14.225021",
     "status": "completed"
    },
    "tags": []
   },
   "outputs": [
    {
     "data": {
      "text/plain": [
       "['apple', 'banana', 'cherry', (1, 4, 5, 9)]"
      ]
     },
     "execution_count": 95,
     "metadata": {},
     "output_type": "execute_result"
    }
   ],
   "source": [
    "fruits = ['apple', 'banana', 'cherry']\n",
    "\n",
    "points = (1, 4, 5, 9)\n",
    "\n",
    "fruits.append(points)\n",
    "fruits"
   ]
  },
  {
   "cell_type": "code",
   "execution_count": 96,
   "id": "d177fa28",
   "metadata": {
    "execution": {
     "iopub.execute_input": "2023-11-09T16:32:14.467171Z",
     "iopub.status.busy": "2023-11-09T16:32:14.466667Z",
     "iopub.status.idle": "2023-11-09T16:32:14.474011Z",
     "shell.execute_reply": "2023-11-09T16:32:14.472544Z"
    },
    "papermill": {
     "duration": 0.088012,
     "end_time": "2023-11-09T16:32:14.477071",
     "exception": false,
     "start_time": "2023-11-09T16:32:14.389059",
     "status": "completed"
    },
    "tags": []
   },
   "outputs": [
    {
     "data": {
      "text/plain": [
       "(1, 4, 5, 9)"
      ]
     },
     "execution_count": 96,
     "metadata": {},
     "output_type": "execute_result"
    }
   ],
   "source": [
    "fruits[3]"
   ]
  },
  {
   "cell_type": "code",
   "execution_count": 97,
   "id": "78edbfad",
   "metadata": {
    "execution": {
     "iopub.execute_input": "2023-11-09T16:32:14.647804Z",
     "iopub.status.busy": "2023-11-09T16:32:14.647108Z",
     "iopub.status.idle": "2023-11-09T16:32:14.652990Z",
     "shell.execute_reply": "2023-11-09T16:32:14.651877Z"
    },
    "papermill": {
     "duration": 0.086233,
     "end_time": "2023-11-09T16:32:14.655341",
     "exception": false,
     "start_time": "2023-11-09T16:32:14.569108",
     "status": "completed"
    },
    "tags": []
   },
   "outputs": [
    {
     "data": {
      "text/plain": [
       "0"
      ]
     },
     "execution_count": 97,
     "metadata": {},
     "output_type": "execute_result"
    }
   ],
   "source": [
    "fruits = ['c001asha', 'coo2swapna', 'c001asha']\n",
    "\n",
    "fruits.index(\"c001asha\")"
   ]
  },
  {
   "cell_type": "code",
   "execution_count": 98,
   "id": "a7e6b64a",
   "metadata": {
    "execution": {
     "iopub.execute_input": "2023-11-09T16:32:14.811782Z",
     "iopub.status.busy": "2023-11-09T16:32:14.811079Z",
     "iopub.status.idle": "2023-11-09T16:32:14.817088Z",
     "shell.execute_reply": "2023-11-09T16:32:14.815955Z"
    },
    "papermill": {
     "duration": 0.086841,
     "end_time": "2023-11-09T16:32:14.819324",
     "exception": false,
     "start_time": "2023-11-09T16:32:14.732483",
     "status": "completed"
    },
    "tags": []
   },
   "outputs": [
    {
     "data": {
      "text/plain": [
       "['apple', 'banana', 'orange', 'cherry']"
      ]
     },
     "execution_count": 98,
     "metadata": {},
     "output_type": "execute_result"
    }
   ],
   "source": [
    "fruits = ['apple', 'banana', 'cherry']\n",
    "\n",
    "fruits.insert(2, \"orange\")\n",
    "fruits"
   ]
  },
  {
   "cell_type": "code",
   "execution_count": 99,
   "id": "0dcd2c4b",
   "metadata": {
    "execution": {
     "iopub.execute_input": "2023-11-09T16:32:14.976696Z",
     "iopub.status.busy": "2023-11-09T16:32:14.976025Z",
     "iopub.status.idle": "2023-11-09T16:32:14.981360Z",
     "shell.execute_reply": "2023-11-09T16:32:14.980677Z"
    },
    "papermill": {
     "duration": 0.086969,
     "end_time": "2023-11-09T16:32:14.983293",
     "exception": false,
     "start_time": "2023-11-09T16:32:14.896324",
     "status": "completed"
    },
    "tags": []
   },
   "outputs": [
    {
     "data": {
      "text/plain": [
       "'apple'"
      ]
     },
     "execution_count": 99,
     "metadata": {},
     "output_type": "execute_result"
    }
   ],
   "source": [
    "fruits = ['apple', 'banana', 'cherry']\n",
    "a = fruits.pop(0)\n",
    "a"
   ]
  },
  {
   "cell_type": "code",
   "execution_count": 100,
   "id": "1f3df079",
   "metadata": {
    "execution": {
     "iopub.execute_input": "2023-11-09T16:32:15.136113Z",
     "iopub.status.busy": "2023-11-09T16:32:15.135774Z",
     "iopub.status.idle": "2023-11-09T16:32:15.142436Z",
     "shell.execute_reply": "2023-11-09T16:32:15.141483Z"
    },
    "papermill": {
     "duration": 0.084988,
     "end_time": "2023-11-09T16:32:15.144184",
     "exception": false,
     "start_time": "2023-11-09T16:32:15.059196",
     "status": "completed"
    },
    "tags": []
   },
   "outputs": [
    {
     "data": {
      "text/plain": [
       "0"
      ]
     },
     "execution_count": 100,
     "metadata": {},
     "output_type": "execute_result"
    }
   ],
   "source": [
    "fruits = ['apple', 'banana', 'cherry']\n",
    "a = fruits.index(\"apple\")\n",
    "a"
   ]
  },
  {
   "cell_type": "code",
   "execution_count": 101,
   "id": "504674b8",
   "metadata": {
    "execution": {
     "iopub.execute_input": "2023-11-09T16:32:15.302179Z",
     "iopub.status.busy": "2023-11-09T16:32:15.301536Z",
     "iopub.status.idle": "2023-11-09T16:32:15.307502Z",
     "shell.execute_reply": "2023-11-09T16:32:15.306764Z"
    },
    "papermill": {
     "duration": 0.089011,
     "end_time": "2023-11-09T16:32:15.309193",
     "exception": false,
     "start_time": "2023-11-09T16:32:15.220182",
     "status": "completed"
    },
    "tags": []
   },
   "outputs": [
    {
     "data": {
      "text/plain": [
       "['apple', 'banana', 'banana']"
      ]
     },
     "execution_count": 101,
     "metadata": {},
     "output_type": "execute_result"
    }
   ],
   "source": [
    "fruits = ['banana', \"apple\",'banana', 'banana']\n",
    "\n",
    "fruits.remove(\"banana\")\n",
    "fruits \n",
    "\n",
    "# ctr a\n",
    "#  ctr /"
   ]
  },
  {
   "cell_type": "code",
   "execution_count": 102,
   "id": "8b832046",
   "metadata": {
    "execution": {
     "iopub.execute_input": "2023-11-09T16:32:15.462542Z",
     "iopub.status.busy": "2023-11-09T16:32:15.462065Z",
     "iopub.status.idle": "2023-11-09T16:32:15.468136Z",
     "shell.execute_reply": "2023-11-09T16:32:15.467120Z"
    },
    "papermill": {
     "duration": 0.083507,
     "end_time": "2023-11-09T16:32:15.470038",
     "exception": false,
     "start_time": "2023-11-09T16:32:15.386531",
     "status": "completed"
    },
    "tags": []
   },
   "outputs": [
    {
     "data": {
      "text/plain": [
       "['cherry', 'banana', 'apple']"
      ]
     },
     "execution_count": 102,
     "metadata": {},
     "output_type": "execute_result"
    }
   ],
   "source": [
    "fruits = ['apple', 'banana', 'cherry']\n",
    "\n",
    "fruits.reverse()\n",
    "fruits"
   ]
  },
  {
   "cell_type": "code",
   "execution_count": 103,
   "id": "660b6f61",
   "metadata": {
    "execution": {
     "iopub.execute_input": "2023-11-09T16:32:15.624120Z",
     "iopub.status.busy": "2023-11-09T16:32:15.623778Z",
     "iopub.status.idle": "2023-11-09T16:32:15.630537Z",
     "shell.execute_reply": "2023-11-09T16:32:15.629526Z"
    },
    "papermill": {
     "duration": 0.086151,
     "end_time": "2023-11-09T16:32:15.632533",
     "exception": false,
     "start_time": "2023-11-09T16:32:15.546382",
     "status": "completed"
    },
    "tags": []
   },
   "outputs": [
    {
     "data": {
      "text/plain": [
       "[20, 11, 9, 30]"
      ]
     },
     "execution_count": 103,
     "metadata": {},
     "output_type": "execute_result"
    }
   ],
   "source": [
    "a= [20,11,9,30]\n",
    "a"
   ]
  },
  {
   "cell_type": "code",
   "execution_count": 104,
   "id": "454175d1",
   "metadata": {
    "execution": {
     "iopub.execute_input": "2023-11-09T16:32:15.785519Z",
     "iopub.status.busy": "2023-11-09T16:32:15.784895Z",
     "iopub.status.idle": "2023-11-09T16:32:15.791515Z",
     "shell.execute_reply": "2023-11-09T16:32:15.790333Z"
    },
    "papermill": {
     "duration": 0.08606,
     "end_time": "2023-11-09T16:32:15.793999",
     "exception": false,
     "start_time": "2023-11-09T16:32:15.707939",
     "status": "completed"
    },
    "tags": []
   },
   "outputs": [
    {
     "data": {
      "text/plain": [
       "[30, 20, 11, 9]"
      ]
     },
     "execution_count": 104,
     "metadata": {},
     "output_type": "execute_result"
    }
   ],
   "source": [
    "a.sort(reverse = True)\n",
    "a"
   ]
  },
  {
   "cell_type": "code",
   "execution_count": 105,
   "id": "b4ed2118",
   "metadata": {
    "execution": {
     "iopub.execute_input": "2023-11-09T16:32:15.945845Z",
     "iopub.status.busy": "2023-11-09T16:32:15.945475Z",
     "iopub.status.idle": "2023-11-09T16:32:15.951158Z",
     "shell.execute_reply": "2023-11-09T16:32:15.950133Z"
    },
    "papermill": {
     "duration": 0.084854,
     "end_time": "2023-11-09T16:32:15.952816",
     "exception": false,
     "start_time": "2023-11-09T16:32:15.867962",
     "status": "completed"
    },
    "tags": []
   },
   "outputs": [
    {
     "data": {
      "text/plain": [
       "[10, 20, 30, [40, 50, 60]]"
      ]
     },
     "execution_count": 105,
     "metadata": {},
     "output_type": "execute_result"
    }
   ],
   "source": [
    "d = [10,20,30]\n",
    "d.append([40,50,60])\n",
    "d"
   ]
  },
  {
   "cell_type": "code",
   "execution_count": 106,
   "id": "706fdca8",
   "metadata": {
    "execution": {
     "iopub.execute_input": "2023-11-09T16:32:16.108284Z",
     "iopub.status.busy": "2023-11-09T16:32:16.106965Z",
     "iopub.status.idle": "2023-11-09T16:32:16.115089Z",
     "shell.execute_reply": "2023-11-09T16:32:16.113672Z"
    },
    "papermill": {
     "duration": 0.088749,
     "end_time": "2023-11-09T16:32:16.117739",
     "exception": false,
     "start_time": "2023-11-09T16:32:16.028990",
     "status": "completed"
    },
    "tags": []
   },
   "outputs": [
    {
     "data": {
      "text/plain": [
       "[10, 20, 30, 40, 50, 60]"
      ]
     },
     "execution_count": 106,
     "metadata": {},
     "output_type": "execute_result"
    }
   ],
   "source": [
    "e = [10,20,30]\n",
    "e.extend([40,50,60])\n",
    "e"
   ]
  },
  {
   "cell_type": "code",
   "execution_count": 107,
   "id": "0019baac",
   "metadata": {
    "execution": {
     "iopub.execute_input": "2023-11-09T16:32:16.274859Z",
     "iopub.status.busy": "2023-11-09T16:32:16.274449Z",
     "iopub.status.idle": "2023-11-09T16:32:16.282408Z",
     "shell.execute_reply": "2023-11-09T16:32:16.281356Z"
    },
    "papermill": {
     "duration": 0.089243,
     "end_time": "2023-11-09T16:32:16.284770",
     "exception": false,
     "start_time": "2023-11-09T16:32:16.195527",
     "status": "completed"
    },
    "tags": []
   },
   "outputs": [
    {
     "data": {
      "text/plain": [
       "[2, 3, 4]"
      ]
     },
     "execution_count": 107,
     "metadata": {},
     "output_type": "execute_result"
    }
   ],
   "source": [
    "a = [2,3,4,4]\n",
    "a = list(set(a))\n",
    "a"
   ]
  },
  {
   "cell_type": "code",
   "execution_count": 108,
   "id": "125322e8",
   "metadata": {
    "execution": {
     "iopub.execute_input": "2023-11-09T16:32:16.442267Z",
     "iopub.status.busy": "2023-11-09T16:32:16.440068Z",
     "iopub.status.idle": "2023-11-09T16:32:16.447040Z",
     "shell.execute_reply": "2023-11-09T16:32:16.445786Z"
    },
    "papermill": {
     "duration": 0.087416,
     "end_time": "2023-11-09T16:32:16.449746",
     "exception": false,
     "start_time": "2023-11-09T16:32:16.362330",
     "status": "completed"
    },
    "tags": []
   },
   "outputs": [
    {
     "name": "stdout",
     "output_type": "stream",
     "text": [
      "yes\n",
      "tayyab\n",
      "prasad\n"
     ]
    }
   ],
   "source": [
    "if 9 > 6 : \n",
    "    print(\"yes\")\n",
    "    print(\"tayyab\")\n",
    "    \n",
    "print(\"prasad\")\n"
   ]
  },
  {
   "cell_type": "code",
   "execution_count": 109,
   "id": "ed717fdd",
   "metadata": {
    "execution": {
     "iopub.execute_input": "2023-11-09T16:32:16.606758Z",
     "iopub.status.busy": "2023-11-09T16:32:16.606093Z",
     "iopub.status.idle": "2023-11-09T16:32:16.612540Z",
     "shell.execute_reply": "2023-11-09T16:32:16.611168Z"
    },
    "papermill": {
     "duration": 0.086767,
     "end_time": "2023-11-09T16:32:16.614698",
     "exception": false,
     "start_time": "2023-11-09T16:32:16.527931",
     "status": "completed"
    },
    "tags": []
   },
   "outputs": [
    {
     "name": "stdout",
     "output_type": "stream",
     "text": [
      "prasad\n"
     ]
    }
   ],
   "source": [
    "if 9 > 16 : \n",
    "    print(\"yes\")\n",
    "    print(\"tayyab\")\n",
    "    \n",
    "print(\"prasad\")"
   ]
  },
  {
   "cell_type": "code",
   "execution_count": 110,
   "id": "ea2c4738",
   "metadata": {
    "execution": {
     "iopub.execute_input": "2023-11-09T16:32:16.772065Z",
     "iopub.status.busy": "2023-11-09T16:32:16.771200Z",
     "iopub.status.idle": "2023-11-09T16:32:16.775028Z",
     "shell.execute_reply": "2023-11-09T16:32:16.774129Z"
    },
    "papermill": {
     "duration": 0.084181,
     "end_time": "2023-11-09T16:32:16.776966",
     "exception": false,
     "start_time": "2023-11-09T16:32:16.692785",
     "status": "completed"
    },
    "tags": []
   },
   "outputs": [],
   "source": [
    "# select *\n",
    "#             from table1"
   ]
  },
  {
   "cell_type": "code",
   "execution_count": 111,
   "id": "8bd733df",
   "metadata": {
    "execution": {
     "iopub.execute_input": "2023-11-09T16:32:16.931674Z",
     "iopub.status.busy": "2023-11-09T16:32:16.931284Z",
     "iopub.status.idle": "2023-11-09T16:32:16.937535Z",
     "shell.execute_reply": "2023-11-09T16:32:16.936056Z"
    },
    "papermill": {
     "duration": 0.08709,
     "end_time": "2023-11-09T16:32:16.939531",
     "exception": false,
     "start_time": "2023-11-09T16:32:16.852441",
     "status": "completed"
    },
    "tags": []
   },
   "outputs": [
    {
     "name": "stdout",
     "output_type": "stream",
     "text": [
      "the girl got distinction\n",
      "distinction\n"
     ]
    }
   ],
   "source": [
    "marks = 80\n",
    "gender = \"female\"\n",
    "\n",
    "\n",
    "if marks > 75 :  \n",
    "    if gender == \"male\" :\n",
    "        print(\"the boy got distinction\")\n",
    "    else :\n",
    "        print(\"the girl got distinction\")        \n",
    "    print(\"distinction\")\n",
    "elif marks > 50 :\n",
    "    print(\"pass\")\n",
    "else :\n",
    "    print(\"fail\")"
   ]
  },
  {
   "cell_type": "code",
   "execution_count": 112,
   "id": "646267af",
   "metadata": {
    "execution": {
     "iopub.execute_input": "2023-11-09T16:32:17.094235Z",
     "iopub.status.busy": "2023-11-09T16:32:17.093851Z",
     "iopub.status.idle": "2023-11-09T16:32:17.099498Z",
     "shell.execute_reply": "2023-11-09T16:32:17.098542Z"
    },
    "papermill": {
     "duration": 0.0851,
     "end_time": "2023-11-09T16:32:17.101509",
     "exception": false,
     "start_time": "2023-11-09T16:32:17.016409",
     "status": "completed"
    },
    "tags": []
   },
   "outputs": [
    {
     "name": "stdout",
     "output_type": "stream",
     "text": [
      "mlv 100\n",
      "mlv 97\n",
      "mlv 94\n",
      "mlv 91\n"
     ]
    }
   ],
   "source": [
    "salary = 100\n",
    "\n",
    "while salary > 90 :\n",
    "    print(\"mlv\",salary )\n",
    "    salary = salary - 3"
   ]
  },
  {
   "cell_type": "code",
   "execution_count": 113,
   "id": "5036c3b7",
   "metadata": {
    "execution": {
     "iopub.execute_input": "2023-11-09T16:32:17.319892Z",
     "iopub.status.busy": "2023-11-09T16:32:17.319137Z",
     "iopub.status.idle": "2023-11-09T16:32:17.324459Z",
     "shell.execute_reply": "2023-11-09T16:32:17.323362Z"
    },
    "papermill": {
     "duration": 0.146919,
     "end_time": "2023-11-09T16:32:17.326143",
     "exception": false,
     "start_time": "2023-11-09T16:32:17.179224",
     "status": "completed"
    },
    "tags": []
   },
   "outputs": [
    {
     "name": "stdout",
     "output_type": "stream",
     "text": [
      "10\n",
      "----\n",
      "13\n",
      "----\n",
      "16\n",
      "----\n",
      "19\n",
      "----\n"
     ]
    }
   ],
   "source": [
    "for i in  range(10,20,3) :\n",
    "    print(i)\n",
    "    print(\"----\")"
   ]
  },
  {
   "cell_type": "code",
   "execution_count": 114,
   "id": "36ec377d",
   "metadata": {
    "execution": {
     "iopub.execute_input": "2023-11-09T16:32:17.476667Z",
     "iopub.status.busy": "2023-11-09T16:32:17.476089Z",
     "iopub.status.idle": "2023-11-09T16:32:17.481676Z",
     "shell.execute_reply": "2023-11-09T16:32:17.480144Z"
    },
    "papermill": {
     "duration": 0.083642,
     "end_time": "2023-11-09T16:32:17.484085",
     "exception": false,
     "start_time": "2023-11-09T16:32:17.400443",
     "status": "completed"
    },
    "tags": []
   },
   "outputs": [
    {
     "name": "stdout",
     "output_type": "stream",
     "text": [
      "10\n",
      "----\n",
      "husna\n",
      "13\n",
      "----\n",
      "husna\n",
      "16\n",
      "----\n",
      "husna\n",
      "19\n",
      "----\n",
      "husna\n"
     ]
    }
   ],
   "source": [
    "for i in  [10,13,16,19] :\n",
    "    print(i)\n",
    "    print(\"----\")\n",
    "    print(\"husna\")"
   ]
  },
  {
   "cell_type": "code",
   "execution_count": 115,
   "id": "8ebd3908",
   "metadata": {
    "execution": {
     "iopub.execute_input": "2023-11-09T16:32:17.636483Z",
     "iopub.status.busy": "2023-11-09T16:32:17.636065Z",
     "iopub.status.idle": "2023-11-09T16:32:17.641225Z",
     "shell.execute_reply": "2023-11-09T16:32:17.640462Z"
    },
    "papermill": {
     "duration": 0.082815,
     "end_time": "2023-11-09T16:32:17.642983",
     "exception": false,
     "start_time": "2023-11-09T16:32:17.560168",
     "status": "completed"
    },
    "tags": []
   },
   "outputs": [
    {
     "name": "stdout",
     "output_type": "stream",
     "text": [
      "the element is  10\n",
      "the element is  20\n",
      "the element is  30\n",
      "the element is  40\n",
      "the element is  50\n"
     ]
    }
   ],
   "source": [
    "a = [10,20,30,40,50]\n",
    "\n",
    "for  abhi  in a :\n",
    "    print(\"the element is \",abhi)"
   ]
  },
  {
   "cell_type": "code",
   "execution_count": 116,
   "id": "84736b89",
   "metadata": {
    "execution": {
     "iopub.execute_input": "2023-11-09T16:32:17.811172Z",
     "iopub.status.busy": "2023-11-09T16:32:17.810822Z",
     "iopub.status.idle": "2023-11-09T16:32:17.816209Z",
     "shell.execute_reply": "2023-11-09T16:32:17.815457Z"
    },
    "papermill": {
     "duration": 0.096804,
     "end_time": "2023-11-09T16:32:17.818112",
     "exception": false,
     "start_time": "2023-11-09T16:32:17.721308",
     "status": "completed"
    },
    "tags": []
   },
   "outputs": [
    {
     "name": "stdout",
     "output_type": "stream",
     "text": [
      "the element is  10\n",
      "the element is  20\n",
      "the element is  30\n",
      "the element is  40\n",
      "the element is  50\n"
     ]
    }
   ],
   "source": [
    "a = [10,20,30,40,50]\n",
    "\n",
    "for abhi in range(len(a)) : # [ 0,1,2,3,4]\n",
    "    print(\"the element is \",a[abhi])\n",
    "    "
   ]
  },
  {
   "cell_type": "code",
   "execution_count": 117,
   "id": "cf39e708",
   "metadata": {
    "execution": {
     "iopub.execute_input": "2023-11-09T16:32:17.979005Z",
     "iopub.status.busy": "2023-11-09T16:32:17.978535Z",
     "iopub.status.idle": "2023-11-09T16:32:17.984416Z",
     "shell.execute_reply": "2023-11-09T16:32:17.983455Z"
    },
    "papermill": {
     "duration": 0.088314,
     "end_time": "2023-11-09T16:32:17.986431",
     "exception": false,
     "start_time": "2023-11-09T16:32:17.898117",
     "status": "completed"
    },
    "tags": []
   },
   "outputs": [
    {
     "name": "stdout",
     "output_type": "stream",
     "text": [
      "1\n",
      "2\n",
      "3\n",
      "4\n"
     ]
    }
   ],
   "source": [
    "for i in range(1,5):\n",
    "    print(i)"
   ]
  },
  {
   "cell_type": "markdown",
   "id": "86af9f5f",
   "metadata": {
    "papermill": {
     "duration": 0.082446,
     "end_time": "2023-11-09T16:32:18.157459",
     "exception": false,
     "start_time": "2023-11-09T16:32:18.075013",
     "status": "completed"
    },
    "tags": []
   },
   "source": [
    "### "
   ]
  },
  {
   "cell_type": "code",
   "execution_count": 118,
   "id": "284022b6",
   "metadata": {
    "execution": {
     "iopub.execute_input": "2023-11-09T16:32:18.316362Z",
     "iopub.status.busy": "2023-11-09T16:32:18.315972Z",
     "iopub.status.idle": "2023-11-09T16:32:18.321483Z",
     "shell.execute_reply": "2023-11-09T16:32:18.320277Z"
    },
    "papermill": {
     "duration": 0.0892,
     "end_time": "2023-11-09T16:32:18.323959",
     "exception": false,
     "start_time": "2023-11-09T16:32:18.234759",
     "status": "completed"
    },
    "tags": []
   },
   "outputs": [
    {
     "name": "stdout",
     "output_type": "stream",
     "text": [
      "{'banana', 'apple', 'orange', 'cherry'}\n"
     ]
    }
   ],
   "source": [
    "fruits = {\"apple\", \"banana\", \"cherry\"}\n",
    "\n",
    "fruits.add(\"orange\")\n",
    "\n",
    "print(fruits)"
   ]
  },
  {
   "cell_type": "code",
   "execution_count": 119,
   "id": "08125c5f",
   "metadata": {
    "execution": {
     "iopub.execute_input": "2023-11-09T16:32:18.481867Z",
     "iopub.status.busy": "2023-11-09T16:32:18.481259Z",
     "iopub.status.idle": "2023-11-09T16:32:18.486411Z",
     "shell.execute_reply": "2023-11-09T16:32:18.485676Z"
    },
    "papermill": {
     "duration": 0.086445,
     "end_time": "2023-11-09T16:32:18.488276",
     "exception": false,
     "start_time": "2023-11-09T16:32:18.401831",
     "status": "completed"
    },
    "tags": []
   },
   "outputs": [
    {
     "name": "stdout",
     "output_type": "stream",
     "text": [
      "{'tayyab'}\n"
     ]
    }
   ],
   "source": [
    "fruits = {\"apple\", \"banana\", \"cherry\"}\n",
    "\n",
    "fruits.clear()\n",
    "\n",
    "fruits.add(\"tayyab\")\n",
    "\n",
    "print(fruits)"
   ]
  },
  {
   "cell_type": "code",
   "execution_count": 120,
   "id": "c841b347",
   "metadata": {
    "execution": {
     "iopub.execute_input": "2023-11-09T16:32:18.645253Z",
     "iopub.status.busy": "2023-11-09T16:32:18.644907Z",
     "iopub.status.idle": "2023-11-09T16:32:18.651926Z",
     "shell.execute_reply": "2023-11-09T16:32:18.650149Z"
    },
    "papermill": {
     "duration": 0.087402,
     "end_time": "2023-11-09T16:32:18.653749",
     "exception": false,
     "start_time": "2023-11-09T16:32:18.566347",
     "status": "completed"
    },
    "tags": []
   },
   "outputs": [
    {
     "name": "stdout",
     "output_type": "stream",
     "text": [
      "{'banana', 'cherry'}\n"
     ]
    }
   ],
   "source": [
    "x = {\"apple\", \"banana\", \"cherry\"}\n",
    "y = {\"google\", \"microsoft\", \"apple\"}\n",
    "\n",
    "z = x.difference(y)\n",
    "\n",
    "print(z)"
   ]
  },
  {
   "cell_type": "code",
   "execution_count": 121,
   "id": "4ece7681",
   "metadata": {
    "execution": {
     "iopub.execute_input": "2023-11-09T16:32:18.811318Z",
     "iopub.status.busy": "2023-11-09T16:32:18.810999Z",
     "iopub.status.idle": "2023-11-09T16:32:18.816163Z",
     "shell.execute_reply": "2023-11-09T16:32:18.814572Z"
    },
    "papermill": {
     "duration": 0.086991,
     "end_time": "2023-11-09T16:32:18.818217",
     "exception": false,
     "start_time": "2023-11-09T16:32:18.731226",
     "status": "completed"
    },
    "tags": []
   },
   "outputs": [
    {
     "name": "stdout",
     "output_type": "stream",
     "text": [
      "{'apple'}\n"
     ]
    }
   ],
   "source": [
    "x = {\"apple\", \"banana\", \"cherry\"}\n",
    "y = {\"google\", \"microsoft\", \"apple\"}\n",
    "\n",
    "z = y.intersection(x)\n",
    "\n",
    "print(z)"
   ]
  },
  {
   "cell_type": "code",
   "execution_count": 122,
   "id": "a0fc0846",
   "metadata": {
    "execution": {
     "iopub.execute_input": "2023-11-09T16:32:18.974450Z",
     "iopub.status.busy": "2023-11-09T16:32:18.974146Z",
     "iopub.status.idle": "2023-11-09T16:32:18.980339Z",
     "shell.execute_reply": "2023-11-09T16:32:18.978955Z"
    },
    "papermill": {
     "duration": 0.08618,
     "end_time": "2023-11-09T16:32:18.982168",
     "exception": false,
     "start_time": "2023-11-09T16:32:18.895988",
     "status": "completed"
    },
    "tags": []
   },
   "outputs": [
    {
     "name": "stdout",
     "output_type": "stream",
     "text": [
      "False\n"
     ]
    }
   ],
   "source": [
    "x = {\"apple\", \"google\", \"cherry\"}\n",
    "y = {\"google\", \"microsoft\", \"facebook\"}\n",
    "\n",
    "z = x.isdisjoint(y)\n",
    "\n",
    "print(z)\n"
   ]
  },
  {
   "cell_type": "code",
   "execution_count": 123,
   "id": "3df2f171",
   "metadata": {
    "execution": {
     "iopub.execute_input": "2023-11-09T16:32:19.138298Z",
     "iopub.status.busy": "2023-11-09T16:32:19.137910Z",
     "iopub.status.idle": "2023-11-09T16:32:19.143972Z",
     "shell.execute_reply": "2023-11-09T16:32:19.142577Z"
    },
    "papermill": {
     "duration": 0.087804,
     "end_time": "2023-11-09T16:32:19.145803",
     "exception": false,
     "start_time": "2023-11-09T16:32:19.057999",
     "status": "completed"
    },
    "tags": []
   },
   "outputs": [
    {
     "name": "stdout",
     "output_type": "stream",
     "text": [
      "False\n"
     ]
    }
   ],
   "source": [
    "x = {\"a\", \"b\", \"h\"}\n",
    "y = {\"f\", \"e\", \"d\", \"c\", \"b\", \"a\"}\n",
    "\n",
    "z = x.issubset(y)\n",
    "\n",
    "print(z)"
   ]
  },
  {
   "cell_type": "code",
   "execution_count": 124,
   "id": "d32532df",
   "metadata": {
    "execution": {
     "iopub.execute_input": "2023-11-09T16:32:19.304976Z",
     "iopub.status.busy": "2023-11-09T16:32:19.304593Z",
     "iopub.status.idle": "2023-11-09T16:32:19.309721Z",
     "shell.execute_reply": "2023-11-09T16:32:19.308485Z"
    },
    "papermill": {
     "duration": 0.087867,
     "end_time": "2023-11-09T16:32:19.311687",
     "exception": false,
     "start_time": "2023-11-09T16:32:19.223820",
     "status": "completed"
    },
    "tags": []
   },
   "outputs": [
    {
     "name": "stdout",
     "output_type": "stream",
     "text": [
      "False\n"
     ]
    }
   ],
   "source": [
    "x = {\"f\", \"e\", \"d\", \"c\", \"b\", \"a\"}\n",
    "y = {\"a\", \"b\", \"z\"}\n",
    "\n",
    "z = x.issuperset(y)\n",
    "\n",
    "print(z)"
   ]
  },
  {
   "cell_type": "code",
   "execution_count": 125,
   "id": "ab33c684",
   "metadata": {
    "execution": {
     "iopub.execute_input": "2023-11-09T16:32:19.468193Z",
     "iopub.status.busy": "2023-11-09T16:32:19.467887Z",
     "iopub.status.idle": "2023-11-09T16:32:19.473415Z",
     "shell.execute_reply": "2023-11-09T16:32:19.472299Z"
    },
    "papermill": {
     "duration": 0.085668,
     "end_time": "2023-11-09T16:32:19.475702",
     "exception": false,
     "start_time": "2023-11-09T16:32:19.390034",
     "status": "completed"
    },
    "tags": []
   },
   "outputs": [
    {
     "name": "stdout",
     "output_type": "stream",
     "text": [
      "{'apple', 'cherry'}\n"
     ]
    }
   ],
   "source": [
    "fruits = {\"apple\", \"banana\", \"cherry\"}\n",
    "\n",
    "fruits.pop()\n",
    "\n",
    "print(fruits)"
   ]
  },
  {
   "cell_type": "code",
   "execution_count": 126,
   "id": "fa69471b",
   "metadata": {
    "execution": {
     "iopub.execute_input": "2023-11-09T16:32:19.635278Z",
     "iopub.status.busy": "2023-11-09T16:32:19.634931Z",
     "iopub.status.idle": "2023-11-09T16:32:19.641310Z",
     "shell.execute_reply": "2023-11-09T16:32:19.639736Z"
    },
    "papermill": {
     "duration": 0.087995,
     "end_time": "2023-11-09T16:32:19.643757",
     "exception": false,
     "start_time": "2023-11-09T16:32:19.555762",
     "status": "completed"
    },
    "tags": []
   },
   "outputs": [
    {
     "name": "stdout",
     "output_type": "stream",
     "text": [
      "{'banana', 'apple', 'cherry'}\n"
     ]
    }
   ],
   "source": [
    "x = {\"apple\", \"banana\", \"cherry\"}\n",
    "y = {\"google\", \"microsoft\", \"apple\"}\n",
    "\n",
    "z = x.union(y)\n",
    "\n",
    "print(x)"
   ]
  },
  {
   "cell_type": "code",
   "execution_count": 127,
   "id": "945adcb0",
   "metadata": {
    "execution": {
     "iopub.execute_input": "2023-11-09T16:32:19.800099Z",
     "iopub.status.busy": "2023-11-09T16:32:19.799717Z",
     "iopub.status.idle": "2023-11-09T16:32:19.804850Z",
     "shell.execute_reply": "2023-11-09T16:32:19.803883Z"
    },
    "papermill": {
     "duration": 0.086248,
     "end_time": "2023-11-09T16:32:19.807512",
     "exception": false,
     "start_time": "2023-11-09T16:32:19.721264",
     "status": "completed"
    },
    "tags": []
   },
   "outputs": [
    {
     "name": "stdout",
     "output_type": "stream",
     "text": [
      "{'banana', 'cherry', 'google', 'apple', 'microsoft'}\n"
     ]
    }
   ],
   "source": [
    "x = {\"apple\", \"banana\", \"cherry\"}\n",
    "y = {\"google\", \"microsoft\", \"apple\"}\n",
    "\n",
    "x.update(y)\n",
    "\n",
    "print(x)"
   ]
  },
  {
   "cell_type": "code",
   "execution_count": 128,
   "id": "ffa34f56",
   "metadata": {
    "execution": {
     "iopub.execute_input": "2023-11-09T16:32:19.966845Z",
     "iopub.status.busy": "2023-11-09T16:32:19.966462Z",
     "iopub.status.idle": "2023-11-09T16:32:19.974012Z",
     "shell.execute_reply": "2023-11-09T16:32:19.973207Z"
    },
    "papermill": {
     "duration": 0.089621,
     "end_time": "2023-11-09T16:32:19.975897",
     "exception": false,
     "start_time": "2023-11-09T16:32:19.886276",
     "status": "completed"
    },
    "tags": []
   },
   "outputs": [
    {
     "name": "stdout",
     "output_type": "stream",
     "text": [
      "{'key 1': 'sush', 'key 2': 'sush', 'key 3': 'sush'}\n"
     ]
    }
   ],
   "source": [
    "x = ('key 1', 'key 2', 'key 3')\n",
    "y = \"sush\"\n",
    "\n",
    "thisdict = dict.fromkeys(x, y)\n",
    "\n",
    "print(thisdict)"
   ]
  },
  {
   "cell_type": "code",
   "execution_count": 129,
   "id": "6bfbdbea",
   "metadata": {
    "execution": {
     "iopub.execute_input": "2023-11-09T16:32:20.132069Z",
     "iopub.status.busy": "2023-11-09T16:32:20.131707Z",
     "iopub.status.idle": "2023-11-09T16:32:20.138071Z",
     "shell.execute_reply": "2023-11-09T16:32:20.137238Z"
    },
    "papermill": {
     "duration": 0.086793,
     "end_time": "2023-11-09T16:32:20.139725",
     "exception": false,
     "start_time": "2023-11-09T16:32:20.052932",
     "status": "completed"
    },
    "tags": []
   },
   "outputs": [
    {
     "data": {
      "text/plain": [
       "{'key 1': 'sush', 'key 2': 'sush', 'key 3 ': 'sush'}"
      ]
     },
     "execution_count": 129,
     "metadata": {},
     "output_type": "execute_result"
    }
   ],
   "source": [
    "thisdict  = { \"key 1\" : \"sush\",\n",
    "            \"key 2\" : \"sush\",\n",
    "            \"key 3 \" : \"sush\"}\n",
    "thisdict"
   ]
  },
  {
   "cell_type": "code",
   "execution_count": 130,
   "id": "c2a3dd49",
   "metadata": {
    "execution": {
     "iopub.execute_input": "2023-11-09T16:32:20.301183Z",
     "iopub.status.busy": "2023-11-09T16:32:20.300817Z",
     "iopub.status.idle": "2023-11-09T16:32:20.305211Z",
     "shell.execute_reply": "2023-11-09T16:32:20.304081Z"
    },
    "papermill": {
     "duration": 0.088748,
     "end_time": "2023-11-09T16:32:20.307742",
     "exception": false,
     "start_time": "2023-11-09T16:32:20.218994",
     "status": "completed"
    },
    "tags": []
   },
   "outputs": [],
   "source": [
    "x = ('st 1', 'st 2', 'st 3')\n",
    "y = 0 "
   ]
  },
  {
   "cell_type": "code",
   "execution_count": 131,
   "id": "50f846c0",
   "metadata": {
    "execution": {
     "iopub.execute_input": "2023-11-09T16:32:20.533004Z",
     "iopub.status.busy": "2023-11-09T16:32:20.532656Z",
     "iopub.status.idle": "2023-11-09T16:32:20.541053Z",
     "shell.execute_reply": "2023-11-09T16:32:20.539080Z"
    },
    "papermill": {
     "duration": 0.091733,
     "end_time": "2023-11-09T16:32:20.544081",
     "exception": false,
     "start_time": "2023-11-09T16:32:20.452348",
     "status": "completed"
    },
    "tags": []
   },
   "outputs": [
    {
     "data": {
      "text/plain": [
       "'Mustang'"
      ]
     },
     "execution_count": 131,
     "metadata": {},
     "output_type": "execute_result"
    }
   ],
   "source": [
    "car = {\n",
    "  \"brand\": \"Ford\",\n",
    "  \"model\": \"Mustang\",\n",
    "  \"year\": 1964\n",
    "}\n",
    "\n",
    "car.get(\"model\")\n",
    "\n"
   ]
  },
  {
   "cell_type": "code",
   "execution_count": 132,
   "id": "e0c37212",
   "metadata": {
    "execution": {
     "iopub.execute_input": "2023-11-09T16:32:20.703033Z",
     "iopub.status.busy": "2023-11-09T16:32:20.702691Z",
     "iopub.status.idle": "2023-11-09T16:32:20.708487Z",
     "shell.execute_reply": "2023-11-09T16:32:20.707664Z"
    },
    "papermill": {
     "duration": 0.087508,
     "end_time": "2023-11-09T16:32:20.710234",
     "exception": false,
     "start_time": "2023-11-09T16:32:20.622726",
     "status": "completed"
    },
    "tags": []
   },
   "outputs": [
    {
     "data": {
      "text/plain": [
       "'Mustang'"
      ]
     },
     "execution_count": 132,
     "metadata": {},
     "output_type": "execute_result"
    }
   ],
   "source": [
    "car = {\n",
    "  \"brand\": \"Ford\",\n",
    "  \"model\": \"Mustang\",\n",
    "  \"year\": 1964\n",
    "}\n",
    "car[\"model\"]"
   ]
  },
  {
   "cell_type": "code",
   "execution_count": 133,
   "id": "3af7dc2f",
   "metadata": {
    "execution": {
     "iopub.execute_input": "2023-11-09T16:32:20.871385Z",
     "iopub.status.busy": "2023-11-09T16:32:20.870506Z",
     "iopub.status.idle": "2023-11-09T16:32:20.878151Z",
     "shell.execute_reply": "2023-11-09T16:32:20.876805Z"
    },
    "papermill": {
     "duration": 0.089834,
     "end_time": "2023-11-09T16:32:20.880522",
     "exception": false,
     "start_time": "2023-11-09T16:32:20.790688",
     "status": "completed"
    },
    "tags": []
   },
   "outputs": [
    {
     "data": {
      "text/plain": [
       "dict_keys(['brand', 'model', 'year'])"
      ]
     },
     "execution_count": 133,
     "metadata": {},
     "output_type": "execute_result"
    }
   ],
   "source": [
    "car = {\n",
    "  \"brand\": \"Ford\",\n",
    "  \"model\": \"Mustang\",\n",
    "  \"year\": 1964\n",
    "}\n",
    "\n",
    "car.keys()"
   ]
  },
  {
   "cell_type": "code",
   "execution_count": 134,
   "id": "a8a40131",
   "metadata": {
    "execution": {
     "iopub.execute_input": "2023-11-09T16:32:21.038408Z",
     "iopub.status.busy": "2023-11-09T16:32:21.038075Z",
     "iopub.status.idle": "2023-11-09T16:32:21.044819Z",
     "shell.execute_reply": "2023-11-09T16:32:21.043674Z"
    },
    "papermill": {
     "duration": 0.088089,
     "end_time": "2023-11-09T16:32:21.047235",
     "exception": false,
     "start_time": "2023-11-09T16:32:20.959146",
     "status": "completed"
    },
    "tags": []
   },
   "outputs": [
    {
     "data": {
      "text/plain": [
       "dict_values(['Ford', 'Mustang', 1964])"
      ]
     },
     "execution_count": 134,
     "metadata": {},
     "output_type": "execute_result"
    }
   ],
   "source": [
    "car.values()"
   ]
  },
  {
   "cell_type": "code",
   "execution_count": 135,
   "id": "596623e3",
   "metadata": {
    "execution": {
     "iopub.execute_input": "2023-11-09T16:32:21.208304Z",
     "iopub.status.busy": "2023-11-09T16:32:21.207948Z",
     "iopub.status.idle": "2023-11-09T16:32:21.215218Z",
     "shell.execute_reply": "2023-11-09T16:32:21.213597Z"
    },
    "papermill": {
     "duration": 0.089861,
     "end_time": "2023-11-09T16:32:21.217065",
     "exception": false,
     "start_time": "2023-11-09T16:32:21.127204",
     "status": "completed"
    },
    "tags": []
   },
   "outputs": [
    {
     "data": {
      "text/plain": [
       "dict_items([('brand', 'Ford'), ('model', 'Mustang'), ('year', 1964)])"
      ]
     },
     "execution_count": 135,
     "metadata": {},
     "output_type": "execute_result"
    }
   ],
   "source": [
    "car.items()"
   ]
  },
  {
   "cell_type": "code",
   "execution_count": 136,
   "id": "43705950",
   "metadata": {
    "execution": {
     "iopub.execute_input": "2023-11-09T16:32:21.374891Z",
     "iopub.status.busy": "2023-11-09T16:32:21.374512Z",
     "iopub.status.idle": "2023-11-09T16:32:21.380887Z",
     "shell.execute_reply": "2023-11-09T16:32:21.379533Z"
    },
    "papermill": {
     "duration": 0.08799,
     "end_time": "2023-11-09T16:32:21.383069",
     "exception": false,
     "start_time": "2023-11-09T16:32:21.295079",
     "status": "completed"
    },
    "tags": []
   },
   "outputs": [
    {
     "name": "stdout",
     "output_type": "stream",
     "text": [
      "{'brand': 'Ford', 'year': 1964}\n"
     ]
    }
   ],
   "source": [
    "car = {\n",
    "  \"brand\": \"Ford\",\n",
    "  \"model\": \"Mustang\",\n",
    "  \"year\": 1964\n",
    "}\n",
    "\n",
    "car.pop(\"model\")\n",
    "\n",
    "print(car)"
   ]
  },
  {
   "cell_type": "code",
   "execution_count": 137,
   "id": "96f18a34",
   "metadata": {
    "execution": {
     "iopub.execute_input": "2023-11-09T16:32:21.541559Z",
     "iopub.status.busy": "2023-11-09T16:32:21.541220Z",
     "iopub.status.idle": "2023-11-09T16:32:21.547534Z",
     "shell.execute_reply": "2023-11-09T16:32:21.546103Z"
    },
    "papermill": {
     "duration": 0.088754,
     "end_time": "2023-11-09T16:32:21.550463",
     "exception": false,
     "start_time": "2023-11-09T16:32:21.461709",
     "status": "completed"
    },
    "tags": []
   },
   "outputs": [
    {
     "name": "stdout",
     "output_type": "stream",
     "text": [
      "{'brand': 'Ford', 'model': 'Mustang'}\n"
     ]
    }
   ],
   "source": [
    "car = {\n",
    "  \"brand\": \"Ford\",\n",
    "  \"model\": \"Mustang\",\n",
    "  \"year\": 1964\n",
    "}\n",
    "\n",
    "car.popitem()\n",
    "\n",
    "print(car)"
   ]
  },
  {
   "cell_type": "code",
   "execution_count": 138,
   "id": "0ffe9dab",
   "metadata": {
    "execution": {
     "iopub.execute_input": "2023-11-09T16:32:21.706534Z",
     "iopub.status.busy": "2023-11-09T16:32:21.706150Z",
     "iopub.status.idle": "2023-11-09T16:32:21.712126Z",
     "shell.execute_reply": "2023-11-09T16:32:21.710454Z"
    },
    "papermill": {
     "duration": 0.086536,
     "end_time": "2023-11-09T16:32:21.714724",
     "exception": false,
     "start_time": "2023-11-09T16:32:21.628188",
     "status": "completed"
    },
    "tags": []
   },
   "outputs": [
    {
     "name": "stdout",
     "output_type": "stream",
     "text": [
      "None\n"
     ]
    }
   ],
   "source": [
    "car = {\n",
    "  \"brand\": \"Ford\",\n",
    "    \"model\" : None ,\n",
    "\n",
    "  \"year\": 1964\n",
    "}\n",
    "\n",
    "x = car.setdefault(\"model\", \"Bronco\")\n",
    "\n",
    "print(x)"
   ]
  },
  {
   "cell_type": "code",
   "execution_count": 139,
   "id": "cb3c916d",
   "metadata": {
    "execution": {
     "iopub.execute_input": "2023-11-09T16:32:21.872437Z",
     "iopub.status.busy": "2023-11-09T16:32:21.872055Z",
     "iopub.status.idle": "2023-11-09T16:32:21.877625Z",
     "shell.execute_reply": "2023-11-09T16:32:21.876667Z"
    },
    "papermill": {
     "duration": 0.086426,
     "end_time": "2023-11-09T16:32:21.879471",
     "exception": false,
     "start_time": "2023-11-09T16:32:21.793045",
     "status": "completed"
    },
    "tags": []
   },
   "outputs": [
    {
     "name": "stdout",
     "output_type": "stream",
     "text": [
      "{'brand': 'Ford', 'model': 'Mustang', 'year': 1964, 'color': 'White'}\n"
     ]
    }
   ],
   "source": [
    "car = {\n",
    "  \"brand\": \"Ford\",\n",
    "  \"model\": \"Mustang\",\n",
    "  \"year\": 1964\n",
    "}\n",
    "\n",
    "\n",
    "car.update({\"color\": \"White\"})\n",
    "print(car)\n",
    "\n"
   ]
  },
  {
   "cell_type": "code",
   "execution_count": 140,
   "id": "21be25b5",
   "metadata": {
    "execution": {
     "iopub.execute_input": "2023-11-09T16:32:22.039783Z",
     "iopub.status.busy": "2023-11-09T16:32:22.039378Z",
     "iopub.status.idle": "2023-11-09T16:32:22.043461Z",
     "shell.execute_reply": "2023-11-09T16:32:22.042385Z"
    },
    "papermill": {
     "duration": 0.08859,
     "end_time": "2023-11-09T16:32:22.046054",
     "exception": false,
     "start_time": "2023-11-09T16:32:21.957464",
     "status": "completed"
    },
    "tags": []
   },
   "outputs": [],
   "source": [
    "# *"
   ]
  },
  {
   "cell_type": "code",
   "execution_count": 141,
   "id": "7711e555",
   "metadata": {
    "execution": {
     "iopub.execute_input": "2023-11-09T16:32:22.207517Z",
     "iopub.status.busy": "2023-11-09T16:32:22.207165Z",
     "iopub.status.idle": "2023-11-09T16:32:22.213988Z",
     "shell.execute_reply": "2023-11-09T16:32:22.212593Z"
    },
    "papermill": {
     "duration": 0.09029,
     "end_time": "2023-11-09T16:32:22.216563",
     "exception": false,
     "start_time": "2023-11-09T16:32:22.126273",
     "status": "completed"
    },
    "tags": []
   },
   "outputs": [
    {
     "name": "stdout",
     "output_type": "stream",
     "text": [
      "*\n"
     ]
    }
   ],
   "source": [
    "print(\"*\")"
   ]
  },
  {
   "cell_type": "code",
   "execution_count": 142,
   "id": "48d52764",
   "metadata": {
    "execution": {
     "iopub.execute_input": "2023-11-09T16:32:22.378268Z",
     "iopub.status.busy": "2023-11-09T16:32:22.377912Z",
     "iopub.status.idle": "2023-11-09T16:32:22.382631Z",
     "shell.execute_reply": "2023-11-09T16:32:22.381829Z"
    },
    "papermill": {
     "duration": 0.088405,
     "end_time": "2023-11-09T16:32:22.384806",
     "exception": false,
     "start_time": "2023-11-09T16:32:22.296401",
     "status": "completed"
    },
    "tags": []
   },
   "outputs": [],
   "source": [
    "# *\n",
    "# **"
   ]
  },
  {
   "cell_type": "code",
   "execution_count": 143,
   "id": "6bf77695",
   "metadata": {
    "execution": {
     "iopub.execute_input": "2023-11-09T16:32:22.544427Z",
     "iopub.status.busy": "2023-11-09T16:32:22.544052Z",
     "iopub.status.idle": "2023-11-09T16:32:22.549099Z",
     "shell.execute_reply": "2023-11-09T16:32:22.548359Z"
    },
    "papermill": {
     "duration": 0.088547,
     "end_time": "2023-11-09T16:32:22.551048",
     "exception": false,
     "start_time": "2023-11-09T16:32:22.462501",
     "status": "completed"
    },
    "tags": []
   },
   "outputs": [
    {
     "name": "stdout",
     "output_type": "stream",
     "text": [
      "*\n",
      "**\n"
     ]
    }
   ],
   "source": [
    "print(\"*\")\n",
    "print(\"**\")"
   ]
  },
  {
   "cell_type": "code",
   "execution_count": 144,
   "id": "90fe6b52",
   "metadata": {
    "execution": {
     "iopub.execute_input": "2023-11-09T16:32:22.710306Z",
     "iopub.status.busy": "2023-11-09T16:32:22.709955Z",
     "iopub.status.idle": "2023-11-09T16:32:22.714495Z",
     "shell.execute_reply": "2023-11-09T16:32:22.712955Z"
    },
    "papermill": {
     "duration": 0.085559,
     "end_time": "2023-11-09T16:32:22.716329",
     "exception": false,
     "start_time": "2023-11-09T16:32:22.630770",
     "status": "completed"
    },
    "tags": []
   },
   "outputs": [],
   "source": [
    "# *\n",
    "# **\n",
    "# ***\n",
    "# ****"
   ]
  },
  {
   "cell_type": "code",
   "execution_count": 145,
   "id": "43a9bc51",
   "metadata": {
    "execution": {
     "iopub.execute_input": "2023-11-09T16:32:22.943561Z",
     "iopub.status.busy": "2023-11-09T16:32:22.941399Z",
     "iopub.status.idle": "2023-11-09T16:32:22.949186Z",
     "shell.execute_reply": "2023-11-09T16:32:22.947647Z"
    },
    "papermill": {
     "duration": 0.155005,
     "end_time": "2023-11-09T16:32:22.951446",
     "exception": false,
     "start_time": "2023-11-09T16:32:22.796441",
     "status": "completed"
    },
    "tags": []
   },
   "outputs": [
    {
     "name": "stdout",
     "output_type": "stream",
     "text": [
      "   *\n",
      "  **\n",
      " ***\n",
      "****\n",
      " ***\n",
      "  **\n",
      "   *\n"
     ]
    }
   ],
   "source": [
    "for i in range(4) :\n",
    "    print(\" \"*(3-i),end=\"\")\n",
    "    print(\"*\"* (i+1))\n",
    "#     print(\"--\")\n",
    "for j in range(3):\n",
    "    print(\" \"*(j+1),end=\"\")\n",
    "    print(\"*\"*(3-j))"
   ]
  },
  {
   "cell_type": "code",
   "execution_count": 146,
   "id": "579629c0",
   "metadata": {
    "execution": {
     "iopub.execute_input": "2023-11-09T16:32:23.114845Z",
     "iopub.status.busy": "2023-11-09T16:32:23.114203Z",
     "iopub.status.idle": "2023-11-09T16:32:23.118030Z",
     "shell.execute_reply": "2023-11-09T16:32:23.117368Z"
    },
    "papermill": {
     "duration": 0.087866,
     "end_time": "2023-11-09T16:32:23.119839",
     "exception": false,
     "start_time": "2023-11-09T16:32:23.031973",
     "status": "completed"
    },
    "tags": []
   },
   "outputs": [],
   "source": [
    "#    *\n",
    "#   ***\n",
    "#  *****\n",
    "# *******\n",
    "\n",
    "#  *****\n",
    "#   ***\n",
    "#    *"
   ]
  },
  {
   "cell_type": "code",
   "execution_count": 147,
   "id": "06b5d55d",
   "metadata": {
    "execution": {
     "iopub.execute_input": "2023-11-09T16:32:23.286586Z",
     "iopub.status.busy": "2023-11-09T16:32:23.285889Z",
     "iopub.status.idle": "2023-11-09T16:32:23.290506Z",
     "shell.execute_reply": "2023-11-09T16:32:23.288919Z"
    },
    "papermill": {
     "duration": 0.091616,
     "end_time": "2023-11-09T16:32:23.293016",
     "exception": false,
     "start_time": "2023-11-09T16:32:23.201400",
     "status": "completed"
    },
    "tags": []
   },
   "outputs": [],
   "source": [
    "# *\n",
    "# ***\n",
    "# *****\n",
    "# *******\n",
    "\n",
    "\n",
    "# *****\n",
    "# ***\n",
    "# *"
   ]
  },
  {
   "cell_type": "code",
   "execution_count": 148,
   "id": "2af5b8c5",
   "metadata": {
    "execution": {
     "iopub.execute_input": "2023-11-09T16:32:23.454853Z",
     "iopub.status.busy": "2023-11-09T16:32:23.454229Z",
     "iopub.status.idle": "2023-11-09T16:32:23.458741Z",
     "shell.execute_reply": "2023-11-09T16:32:23.458096Z"
    },
    "papermill": {
     "duration": 0.086381,
     "end_time": "2023-11-09T16:32:23.460596",
     "exception": false,
     "start_time": "2023-11-09T16:32:23.374215",
     "status": "completed"
    },
    "tags": []
   },
   "outputs": [
    {
     "name": "stdout",
     "output_type": "stream",
     "text": [
      "*\n",
      "***\n",
      "*****\n",
      "*******\n",
      "*\n",
      "*\n",
      "*\n"
     ]
    }
   ],
   "source": [
    "for i in range(4):\n",
    "    print(\"*\"* ((2*i)+1))\n",
    "for j in range(3):\n",
    "    print(\"*\")"
   ]
  },
  {
   "cell_type": "code",
   "execution_count": 149,
   "id": "deb1ed7d",
   "metadata": {
    "execution": {
     "iopub.execute_input": "2023-11-09T16:32:23.622211Z",
     "iopub.status.busy": "2023-11-09T16:32:23.621850Z",
     "iopub.status.idle": "2023-11-09T16:32:23.626633Z",
     "shell.execute_reply": "2023-11-09T16:32:23.625694Z"
    },
    "papermill": {
     "duration": 0.087867,
     "end_time": "2023-11-09T16:32:23.628670",
     "exception": false,
     "start_time": "2023-11-09T16:32:23.540803",
     "status": "completed"
    },
    "tags": []
   },
   "outputs": [],
   "source": [
    "#     *\n",
    "#    ***\n",
    "#   *****\n",
    "#  *******\n",
    "# *********\n",
    "#  *******\n",
    "#   *****\n",
    "#    ***\n",
    "#     *"
   ]
  },
  {
   "cell_type": "code",
   "execution_count": 150,
   "id": "572b5b25",
   "metadata": {
    "execution": {
     "iopub.execute_input": "2023-11-09T16:32:23.788033Z",
     "iopub.status.busy": "2023-11-09T16:32:23.787729Z",
     "iopub.status.idle": "2023-11-09T16:32:23.793815Z",
     "shell.execute_reply": "2023-11-09T16:32:23.792700Z"
    },
    "papermill": {
     "duration": 0.087504,
     "end_time": "2023-11-09T16:32:23.796435",
     "exception": false,
     "start_time": "2023-11-09T16:32:23.708931",
     "status": "completed"
    },
    "tags": []
   },
   "outputs": [
    {
     "name": "stdout",
     "output_type": "stream",
     "text": [
      "                        *\n",
      "                       ***\n",
      "                      *****\n",
      "                     *******\n",
      "                    *********\n",
      "                   ***********\n",
      "                  *************\n",
      "                 ***************\n",
      "                *****************\n",
      "               *******************\n",
      "              *********************\n",
      "             ***********************\n",
      "            *************************\n",
      "           ***************************\n",
      "          *****************************\n",
      "         *******************************\n",
      "        *********************************\n",
      "       ***********************************\n",
      "      *************************************\n",
      "     ***************************************\n",
      "    *****************************************\n",
      "   *******************************************\n",
      "  *********************************************\n",
      " ***********************************************\n",
      "*************************************************\n",
      " ***********************************************\n",
      "  *********************************************\n",
      "   *******************************************\n",
      "    *****************************************\n",
      "     ***************************************\n",
      "      *************************************\n",
      "       ***********************************\n",
      "        *********************************\n",
      "         *******************************\n",
      "          *****************************\n",
      "           ***************************\n",
      "            *************************\n",
      "             ***********************\n",
      "              *********************\n",
      "               *******************\n",
      "                *****************\n",
      "                 ***************\n",
      "                  *************\n",
      "                   ***********\n",
      "                    *********\n",
      "                     *******\n",
      "                      *****\n",
      "                       ***\n",
      "                        *\n"
     ]
    }
   ],
   "source": [
    "n =25\n",
    "\n",
    "for i in range(n):\n",
    "    print(\" \"*(n-1-i),end=\"\")\n",
    "    print(\"*\"*((2*i)+1))\n",
    "for j in range(n-1):\n",
    "    print(\" \"*(j+1),end=\"\")\n",
    "    print(\"*\"*((2*(n-2-j))+1))"
   ]
  },
  {
   "cell_type": "markdown",
   "id": "7f36dfb1",
   "metadata": {
    "papermill": {
     "duration": 0.077758,
     "end_time": "2023-11-09T16:32:23.957262",
     "exception": false,
     "start_time": "2023-11-09T16:32:23.879504",
     "status": "completed"
    },
    "tags": []
   },
   "source": [
    "# "
   ]
  },
  {
   "cell_type": "code",
   "execution_count": 151,
   "id": "df69e447",
   "metadata": {
    "execution": {
     "iopub.execute_input": "2023-11-09T16:32:24.126310Z",
     "iopub.status.busy": "2023-11-09T16:32:24.125457Z",
     "iopub.status.idle": "2023-11-09T16:32:24.129294Z",
     "shell.execute_reply": "2023-11-09T16:32:24.128664Z"
    },
    "papermill": {
     "duration": 0.093125,
     "end_time": "2023-11-09T16:32:24.132136",
     "exception": false,
     "start_time": "2023-11-09T16:32:24.039011",
     "status": "completed"
    },
    "tags": []
   },
   "outputs": [],
   "source": [
    "#    *    \n",
    "#   * *\n",
    "#  *   *\n",
    "# *     *\n",
    "#  *   *\n",
    "#   * *\n",
    "\n",
    "\n",
    "#    *"
   ]
  },
  {
   "cell_type": "code",
   "execution_count": 152,
   "id": "ddd6d457",
   "metadata": {
    "execution": {
     "iopub.execute_input": "2023-11-09T16:32:24.294910Z",
     "iopub.status.busy": "2023-11-09T16:32:24.294066Z",
     "iopub.status.idle": "2023-11-09T16:32:24.301345Z",
     "shell.execute_reply": "2023-11-09T16:32:24.299498Z"
    },
    "papermill": {
     "duration": 0.091912,
     "end_time": "2023-11-09T16:32:24.304155",
     "exception": false,
     "start_time": "2023-11-09T16:32:24.212243",
     "status": "completed"
    },
    "tags": []
   },
   "outputs": [
    {
     "name": "stdout",
     "output_type": "stream",
     "text": [
      "           *\n",
      "          * *\n",
      "         *   *\n",
      "        *     *\n",
      "       *       *\n",
      "      *         *\n",
      "     *           *\n",
      "    *             *\n",
      "   *               *\n",
      "  *                 *\n",
      " *                   *\n",
      "  *                 *\n",
      "   *               *\n",
      "    *             *\n",
      "     *           *\n",
      "      *         *\n",
      "       *       *\n",
      "        *     *\n",
      "         *   *\n",
      "          * *\n",
      "           *\n"
     ]
    }
   ],
   "source": [
    "n = 11\n",
    "# n = 4\n",
    "print(\" \"*(n-1),\"*\")\n",
    "for i in range((n-1)):\n",
    "    print(\" \"*(n-2-i),\"*\"+\" \"*((2*i )+1)+\"*\")\n",
    "for j in range(n-2):\n",
    "    print(\" \"*(j+1),\"*\"+\" \"*((2*(n-2-j))-1)+\"*\")\n",
    "    \n",
    "\n",
    "    \n",
    "print(\" \"*(n-1),\"*\")"
   ]
  },
  {
   "cell_type": "code",
   "execution_count": 153,
   "id": "d9b92e5e",
   "metadata": {
    "execution": {
     "iopub.execute_input": "2023-11-09T16:32:24.474031Z",
     "iopub.status.busy": "2023-11-09T16:32:24.472557Z",
     "iopub.status.idle": "2023-11-09T16:32:24.478705Z",
     "shell.execute_reply": "2023-11-09T16:32:24.476677Z"
    },
    "papermill": {
     "duration": 0.092385,
     "end_time": "2023-11-09T16:32:24.482530",
     "exception": false,
     "start_time": "2023-11-09T16:32:24.390145",
     "status": "completed"
    },
    "tags": []
   },
   "outputs": [],
   "source": [
    "# 1\n",
    "# 1 1\n",
    "# 1 1 1\n",
    "# 1 1 1 1\n",
    "# 1 1 1 1 1"
   ]
  },
  {
   "cell_type": "code",
   "execution_count": 154,
   "id": "63a93d85",
   "metadata": {
    "execution": {
     "iopub.execute_input": "2023-11-09T16:32:24.655946Z",
     "iopub.status.busy": "2023-11-09T16:32:24.654791Z",
     "iopub.status.idle": "2023-11-09T16:32:24.661022Z",
     "shell.execute_reply": "2023-11-09T16:32:24.659923Z"
    },
    "papermill": {
     "duration": 0.087361,
     "end_time": "2023-11-09T16:32:24.663179",
     "exception": false,
     "start_time": "2023-11-09T16:32:24.575818",
     "status": "completed"
    },
    "tags": []
   },
   "outputs": [
    {
     "name": "stdout",
     "output_type": "stream",
     "text": [
      "1 \n",
      "1 1 \n",
      "1 1 1 \n",
      "1 1 1 1 \n",
      "1 1 1 1 1 \n"
     ]
    }
   ],
   "source": [
    "for i in range(5):\n",
    "    print(\"1 \"*(i+1))"
   ]
  },
  {
   "cell_type": "code",
   "execution_count": 155,
   "id": "bd77df98",
   "metadata": {
    "execution": {
     "iopub.execute_input": "2023-11-09T16:32:24.825145Z",
     "iopub.status.busy": "2023-11-09T16:32:24.824808Z",
     "iopub.status.idle": "2023-11-09T16:32:24.829412Z",
     "shell.execute_reply": "2023-11-09T16:32:24.828144Z"
    },
    "papermill": {
     "duration": 0.089994,
     "end_time": "2023-11-09T16:32:24.832269",
     "exception": false,
     "start_time": "2023-11-09T16:32:24.742275",
     "status": "completed"
    },
    "tags": []
   },
   "outputs": [],
   "source": [
    "# 1\n",
    "# 1 2\n",
    "# 1 2 3\n",
    "# 1 2 3 4\n",
    "# 1 2 3 4 5"
   ]
  },
  {
   "cell_type": "code",
   "execution_count": 156,
   "id": "76fa528c",
   "metadata": {
    "execution": {
     "iopub.execute_input": "2023-11-09T16:32:24.997401Z",
     "iopub.status.busy": "2023-11-09T16:32:24.997041Z",
     "iopub.status.idle": "2023-11-09T16:32:25.002042Z",
     "shell.execute_reply": "2023-11-09T16:32:25.001205Z"
    },
    "papermill": {
     "duration": 0.087674,
     "end_time": "2023-11-09T16:32:25.003986",
     "exception": false,
     "start_time": "2023-11-09T16:32:24.916312",
     "status": "completed"
    },
    "tags": []
   },
   "outputs": [
    {
     "name": "stdout",
     "output_type": "stream",
     "text": [
      "1 \n",
      "1 2 \n",
      "1 2 3 \n",
      "1 2 3 4 \n",
      "1 2 3 4 5 \n"
     ]
    }
   ],
   "source": [
    "for i in range(5):\n",
    "    for j in range(i+1) :\n",
    "        print(j+1,end=\" \")\n",
    "    print()"
   ]
  },
  {
   "cell_type": "code",
   "execution_count": 157,
   "id": "81e414d9",
   "metadata": {
    "execution": {
     "iopub.execute_input": "2023-11-09T16:32:25.164218Z",
     "iopub.status.busy": "2023-11-09T16:32:25.163842Z",
     "iopub.status.idle": "2023-11-09T16:32:25.168777Z",
     "shell.execute_reply": "2023-11-09T16:32:25.167263Z"
    },
    "papermill": {
     "duration": 0.089956,
     "end_time": "2023-11-09T16:32:25.171514",
     "exception": false,
     "start_time": "2023-11-09T16:32:25.081558",
     "status": "completed"
    },
    "tags": []
   },
   "outputs": [],
   "source": [
    "#       1\n",
    "#     1 2 1\n",
    "#   1 2 3 2 1 \n",
    "# 1 2 3 4 3 2 1\n",
    "#   1 2 3 2 1\n",
    "#     1 2 1\n",
    "#       1"
   ]
  },
  {
   "cell_type": "code",
   "execution_count": 158,
   "id": "edeadfa5",
   "metadata": {
    "execution": {
     "iopub.execute_input": "2023-11-09T16:32:25.334468Z",
     "iopub.status.busy": "2023-11-09T16:32:25.334064Z",
     "iopub.status.idle": "2023-11-09T16:32:25.342709Z",
     "shell.execute_reply": "2023-11-09T16:32:25.341156Z"
    },
    "papermill": {
     "duration": 0.092059,
     "end_time": "2023-11-09T16:32:25.344929",
     "exception": false,
     "start_time": "2023-11-09T16:32:25.252870",
     "status": "completed"
    },
    "tags": []
   },
   "outputs": [
    {
     "name": "stdout",
     "output_type": "stream",
     "text": [
      "              1 \n",
      "            1 2 1 \n",
      "          1 2 3 2 1 \n",
      "        1 2 3 4 3 2 1 \n",
      "      1 2 3 4 5 4 3 2 1 \n",
      "    1 2 3 4 5 6 5 4 3 2 1 \n",
      "  1 2 3 4 5 6 7 6 5 4 3 2 1 \n",
      "1 2 3 4 5 6 7 8 7 6 5 4 3 2 1 \n",
      "  1 2 3 4 5 6 7 6 5 4 3 2 1 \n",
      "    1 2 3 4 5 6 5 4 3 2 1 \n",
      "      1 2 3 4 5 4 3 2 1 \n",
      "        1 2 3 4 3 2 1 \n",
      "          1 2 3 2 1 \n",
      "            1 2 1 \n",
      "              1 \n"
     ]
    }
   ],
   "source": [
    "n = 8\n",
    "# 4\n",
    "for i in range(n):\n",
    "    print(\" \"*(2*(n-1-i)),end=\"\")\n",
    "    for j in range(i+1):\n",
    "        print(j+1 ,end=\" \")\n",
    "    for k in range(i-1,-1,-1):\n",
    "        print(k+1 ,end=\" \")\n",
    "    print()\n",
    "for p in range(n-1) : # 0 13\n",
    "    print(\" \"*(2*(p+1)),end=\"\")\n",
    "    for q in range(n-1-p) :\n",
    "        print(q+1,end=\" \")        \n",
    "    for r in range(n-p-3,-1,-1):\n",
    "        print(r+1,end=\" \")\n",
    "    print()"
   ]
  },
  {
   "cell_type": "markdown",
   "id": "70d55b91",
   "metadata": {
    "execution": {
     "iopub.execute_input": "2023-10-20T17:08:22.412842Z",
     "iopub.status.busy": "2023-10-20T17:08:22.412393Z",
     "iopub.status.idle": "2023-10-20T17:08:22.418210Z",
     "shell.execute_reply": "2023-10-20T17:08:22.417396Z",
     "shell.execute_reply.started": "2023-10-20T17:08:22.412813Z"
    },
    "papermill": {
     "duration": 0.077825,
     "end_time": "2023-11-09T16:32:25.502821",
     "exception": false,
     "start_time": "2023-11-09T16:32:25.424996",
     "status": "completed"
    },
    "tags": []
   },
   "source": [
    "# for i in range(4):\n",
    "    print(i, end=\" \")"
   ]
  },
  {
   "cell_type": "code",
   "execution_count": 159,
   "id": "1f26efa9",
   "metadata": {
    "execution": {
     "iopub.execute_input": "2023-11-09T16:32:25.662524Z",
     "iopub.status.busy": "2023-11-09T16:32:25.662194Z",
     "iopub.status.idle": "2023-11-09T16:32:25.667982Z",
     "shell.execute_reply": "2023-11-09T16:32:25.666751Z"
    },
    "papermill": {
     "duration": 0.086869,
     "end_time": "2023-11-09T16:32:25.669781",
     "exception": false,
     "start_time": "2023-11-09T16:32:25.582912",
     "status": "completed"
    },
    "tags": []
   },
   "outputs": [
    {
     "name": "stdout",
     "output_type": "stream",
     "text": [
      "3 2 1 0 "
     ]
    }
   ],
   "source": [
    "for i in range(3,-1,-1):\n",
    "    print(i, end=\" \")"
   ]
  },
  {
   "cell_type": "code",
   "execution_count": 160,
   "id": "ec0d0b88",
   "metadata": {
    "execution": {
     "iopub.execute_input": "2023-11-09T16:32:25.888172Z",
     "iopub.status.busy": "2023-11-09T16:32:25.887822Z",
     "iopub.status.idle": "2023-11-09T16:32:25.891599Z",
     "shell.execute_reply": "2023-11-09T16:32:25.890760Z"
    },
    "papermill": {
     "duration": 0.085089,
     "end_time": "2023-11-09T16:32:25.893409",
     "exception": false,
     "start_time": "2023-11-09T16:32:25.808320",
     "status": "completed"
    },
    "tags": []
   },
   "outputs": [],
   "source": [
    "# 0  \n",
    "\n",
    "# 0 1  \n",
    "\n",
    "# 0 2 4  \n",
    "\n",
    "# 0 3 6 9  \n",
    "\n",
    "# 0 4 8 12 16  \n",
    "\n",
    "# 0 5 10 15 20 25  \n",
    "\n",
    "# 0 6 12 18 24 30 36"
   ]
  },
  {
   "cell_type": "code",
   "execution_count": 161,
   "id": "737eb9dc",
   "metadata": {
    "execution": {
     "iopub.execute_input": "2023-11-09T16:32:26.051170Z",
     "iopub.status.busy": "2023-11-09T16:32:26.050835Z",
     "iopub.status.idle": "2023-11-09T16:32:26.056591Z",
     "shell.execute_reply": "2023-11-09T16:32:26.055550Z"
    },
    "papermill": {
     "duration": 0.087253,
     "end_time": "2023-11-09T16:32:26.058599",
     "exception": false,
     "start_time": "2023-11-09T16:32:25.971346",
     "status": "completed"
    },
    "tags": []
   },
   "outputs": [
    {
     "name": "stdout",
     "output_type": "stream",
     "text": [
      "0 \n",
      "0 1 \n",
      "0 2 4 \n",
      "0 3 6 9 \n",
      "0 4 8 12 16 \n",
      "0 5 10 15 20 25 \n",
      "0 6 12 18 24 30 36 \n",
      "0 7 14 21 28 35 42 49 \n",
      "0 8 16 24 32 40 48 56 64 \n",
      "0 9 18 27 36 45 54 63 72 81 \n",
      "0 10 20 30 40 50 60 70 80 90 100 \n",
      "0 11 22 33 44 55 66 77 88 99 110 121 \n",
      "0 12 24 36 48 60 72 84 96 108 120 132 144 \n",
      "0 13 26 39 52 65 78 91 104 117 130 143 156 169 \n",
      "0 14 28 42 56 70 84 98 112 126 140 154 168 182 196 \n",
      "0 15 30 45 60 75 90 105 120 135 150 165 180 195 210 225 \n"
     ]
    }
   ],
   "source": [
    "n = 15\n",
    "# 6\n",
    "for i in range(n+1):\n",
    "    for j in range(i+1):\n",
    "        print(j*i,end=\" \")\n",
    "    print()"
   ]
  },
  {
   "cell_type": "code",
   "execution_count": 162,
   "id": "aa731858",
   "metadata": {
    "execution": {
     "iopub.execute_input": "2023-11-09T16:32:26.220307Z",
     "iopub.status.busy": "2023-11-09T16:32:26.219981Z",
     "iopub.status.idle": "2023-11-09T16:32:26.225045Z",
     "shell.execute_reply": "2023-11-09T16:32:26.223596Z"
    },
    "papermill": {
     "duration": 0.089668,
     "end_time": "2023-11-09T16:32:26.228143",
     "exception": false,
     "start_time": "2023-11-09T16:32:26.138475",
     "status": "completed"
    },
    "tags": []
   },
   "outputs": [],
   "source": [
    "# 1 \n",
    "\n",
    "# 3 3 \n",
    "\n",
    "# 5 5 5 \n",
    "\n",
    "# 7 7 7 7 \n",
    "\n",
    "# 9 9 9 9 9"
   ]
  },
  {
   "cell_type": "code",
   "execution_count": 163,
   "id": "875a6c3c",
   "metadata": {
    "execution": {
     "iopub.execute_input": "2023-11-09T16:32:26.391233Z",
     "iopub.status.busy": "2023-11-09T16:32:26.390883Z",
     "iopub.status.idle": "2023-11-09T16:32:26.397779Z",
     "shell.execute_reply": "2023-11-09T16:32:26.396419Z"
    },
    "papermill": {
     "duration": 0.089903,
     "end_time": "2023-11-09T16:32:26.399644",
     "exception": false,
     "start_time": "2023-11-09T16:32:26.309741",
     "status": "completed"
    },
    "tags": []
   },
   "outputs": [
    {
     "name": "stdout",
     "output_type": "stream",
     "text": [
      "1 \n",
      "3 3 \n",
      "5 5 5 \n",
      "7 7 7 7 \n",
      "9 9 9 9 9 \n"
     ]
    }
   ],
   "source": [
    "\n",
    "n = 5\n",
    "for i in range(n):\n",
    "    for j in range(i+1):\n",
    "        print((2*i)+1,end=\" \")\n",
    "    print()"
   ]
  },
  {
   "cell_type": "code",
   "execution_count": 164,
   "id": "43547379",
   "metadata": {
    "execution": {
     "iopub.execute_input": "2023-11-09T16:32:26.564484Z",
     "iopub.status.busy": "2023-11-09T16:32:26.563516Z",
     "iopub.status.idle": "2023-11-09T16:32:26.567981Z",
     "shell.execute_reply": "2023-11-09T16:32:26.566963Z"
    },
    "papermill": {
     "duration": 0.091132,
     "end_time": "2023-11-09T16:32:26.569887",
     "exception": false,
     "start_time": "2023-11-09T16:32:26.478755",
     "status": "completed"
    },
    "tags": []
   },
   "outputs": [],
   "source": [
    "# ******\n",
    "#     *\n",
    "#    *\n",
    "#   *\n",
    "#  *\n",
    "# ******"
   ]
  },
  {
   "cell_type": "code",
   "execution_count": 165,
   "id": "b0ae9910",
   "metadata": {
    "execution": {
     "iopub.execute_input": "2023-11-09T16:32:26.751591Z",
     "iopub.status.busy": "2023-11-09T16:32:26.750806Z",
     "iopub.status.idle": "2023-11-09T16:32:26.756880Z",
     "shell.execute_reply": "2023-11-09T16:32:26.755942Z"
    },
    "papermill": {
     "duration": 0.089048,
     "end_time": "2023-11-09T16:32:26.759741",
     "exception": false,
     "start_time": "2023-11-09T16:32:26.670693",
     "status": "completed"
    },
    "tags": []
   },
   "outputs": [
    {
     "name": "stdout",
     "output_type": "stream",
     "text": [
      "************\n",
      "          *\n",
      "         *\n",
      "        *\n",
      "       *\n",
      "      *\n",
      "     *\n",
      "    *\n",
      "   *\n",
      "  *\n",
      " *\n",
      "************\n"
     ]
    }
   ],
   "source": [
    "n = 12\n",
    "print(\"*\"*n)\n",
    "for i in range(n-2):\n",
    "    print(\" \"*(n-2-i),end=\"\")\n",
    "    print(\"*\")\n",
    "print(\"*\"*n)"
   ]
  },
  {
   "cell_type": "code",
   "execution_count": 166,
   "id": "a3802cd2",
   "metadata": {
    "execution": {
     "iopub.execute_input": "2023-11-09T16:32:26.921375Z",
     "iopub.status.busy": "2023-11-09T16:32:26.921059Z",
     "iopub.status.idle": "2023-11-09T16:32:26.925786Z",
     "shell.execute_reply": "2023-11-09T16:32:26.924339Z"
    },
    "papermill": {
     "duration": 0.087313,
     "end_time": "2023-11-09T16:32:26.928277",
     "exception": false,
     "start_time": "2023-11-09T16:32:26.840964",
     "status": "completed"
    },
    "tags": []
   },
   "outputs": [],
   "source": [
    "# 1 2 3 * * * N\n",
    "#           *\n",
    "#         *\n",
    "#       *\n",
    "#     3\n",
    "#   2\n",
    "# 1 2 3 * * * N\n"
   ]
  },
  {
   "cell_type": "code",
   "execution_count": 167,
   "id": "84eb8a99",
   "metadata": {
    "execution": {
     "iopub.execute_input": "2023-11-09T16:32:27.086677Z",
     "iopub.status.busy": "2023-11-09T16:32:27.086341Z",
     "iopub.status.idle": "2023-11-09T16:32:27.094266Z",
     "shell.execute_reply": "2023-11-09T16:32:27.092738Z"
    },
    "papermill": {
     "duration": 0.089251,
     "end_time": "2023-11-09T16:32:27.096962",
     "exception": false,
     "start_time": "2023-11-09T16:32:27.007711",
     "status": "completed"
    },
    "tags": []
   },
   "outputs": [
    {
     "name": "stdout",
     "output_type": "stream",
     "text": [
      "1 2 3 * * * N\n",
      "\n",
      "          *\n",
      "        *\n",
      "      *\n",
      "    3\n",
      "  2\n",
      "1 2 3 * * * N\n"
     ]
    }
   ],
   "source": [
    "for i in range(3):\n",
    "    print(i+1, end=\" \")\n",
    "for j in range(3):\n",
    "    print(\"* \",end=\"\")\n",
    "print(\"N\")\n",
    "\n",
    "print()\n",
    "for k in range(3):\n",
    "    print(\" \"*(2*(5-k)),end=\"\")\n",
    "    print(\"*\")\n",
    "for m in range(2):\n",
    "    print(\" \"*(2*(2-m)),end=\"\")\n",
    "    print(3-m)   \n",
    "    \n",
    "    \n",
    "for i in range(3):\n",
    "    print(i+1, end=\" \")\n",
    "for j in range(3):\n",
    "    print(\"* \",end=\"\")\n",
    "print(\"N\")"
   ]
  },
  {
   "cell_type": "code",
   "execution_count": 168,
   "id": "d5b6f185",
   "metadata": {
    "execution": {
     "iopub.execute_input": "2023-11-09T16:32:27.261707Z",
     "iopub.status.busy": "2023-11-09T16:32:27.260173Z",
     "iopub.status.idle": "2023-11-09T16:32:27.268392Z",
     "shell.execute_reply": "2023-11-09T16:32:27.266895Z"
    },
    "papermill": {
     "duration": 0.09241,
     "end_time": "2023-11-09T16:32:27.270546",
     "exception": false,
     "start_time": "2023-11-09T16:32:27.178136",
     "status": "completed"
    },
    "tags": []
   },
   "outputs": [
    {
     "name": "stdout",
     "output_type": "stream",
     "text": [
      "prasad  is not eligible\n"
     ]
    }
   ],
   "source": [
    "m1 = 80\n",
    "m2 = 40\n",
    "student = \"prasad\"\n",
    "\n",
    "\n",
    "if m1 > 50 and m2 > 50 :\n",
    "    print(student , \" is eligible\")\n",
    "else :\n",
    "    print(student,\" is not eligible\")"
   ]
  },
  {
   "cell_type": "code",
   "execution_count": 169,
   "id": "bbc1c8ea",
   "metadata": {
    "execution": {
     "iopub.execute_input": "2023-11-09T16:32:27.435014Z",
     "iopub.status.busy": "2023-11-09T16:32:27.434213Z",
     "iopub.status.idle": "2023-11-09T16:32:27.439315Z",
     "shell.execute_reply": "2023-11-09T16:32:27.438728Z"
    },
    "papermill": {
     "duration": 0.090333,
     "end_time": "2023-11-09T16:32:27.441120",
     "exception": false,
     "start_time": "2023-11-09T16:32:27.350787",
     "status": "completed"
    },
    "tags": []
   },
   "outputs": [
    {
     "name": "stdout",
     "output_type": "stream",
     "text": [
      "sushmitha  is eligible\n"
     ]
    }
   ],
   "source": [
    "m1 = 70\n",
    "m2 = 80\n",
    "student = \"sushmitha\"\n",
    "if m1 > 50 and m2 > 50 :\n",
    "    print(student , \" is eligible\")\n",
    "else :\n",
    "    print(student,\" is not eligible\")\n"
   ]
  },
  {
   "cell_type": "code",
   "execution_count": 170,
   "id": "41334162",
   "metadata": {
    "execution": {
     "iopub.execute_input": "2023-11-09T16:32:27.603260Z",
     "iopub.status.busy": "2023-11-09T16:32:27.602437Z",
     "iopub.status.idle": "2023-11-09T16:32:27.606867Z",
     "shell.execute_reply": "2023-11-09T16:32:27.606208Z"
    },
    "papermill": {
     "duration": 0.088147,
     "end_time": "2023-11-09T16:32:27.608533",
     "exception": false,
     "start_time": "2023-11-09T16:32:27.520386",
     "status": "completed"
    },
    "tags": []
   },
   "outputs": [],
   "source": [
    "def level(a,b,student) :\n",
    "    c = a+b\n",
    "    print(student,\" got \", c ,\" marks\")"
   ]
  },
  {
   "cell_type": "code",
   "execution_count": 171,
   "id": "5931c1dc",
   "metadata": {
    "execution": {
     "iopub.execute_input": "2023-11-09T16:32:27.769868Z",
     "iopub.status.busy": "2023-11-09T16:32:27.769445Z",
     "iopub.status.idle": "2023-11-09T16:32:27.775118Z",
     "shell.execute_reply": "2023-11-09T16:32:27.773354Z"
    },
    "papermill": {
     "duration": 0.08982,
     "end_time": "2023-11-09T16:32:27.777718",
     "exception": false,
     "start_time": "2023-11-09T16:32:27.687898",
     "status": "completed"
    },
    "tags": []
   },
   "outputs": [
    {
     "name": "stdout",
     "output_type": "stream",
     "text": [
      "prasad  got  90  marks\n"
     ]
    }
   ],
   "source": [
    "level(40,50,\"prasad\")"
   ]
  },
  {
   "cell_type": "code",
   "execution_count": 172,
   "id": "e4d20747",
   "metadata": {
    "execution": {
     "iopub.execute_input": "2023-11-09T16:32:27.942234Z",
     "iopub.status.busy": "2023-11-09T16:32:27.941932Z",
     "iopub.status.idle": "2023-11-09T16:32:27.946220Z",
     "shell.execute_reply": "2023-11-09T16:32:27.945242Z"
    },
    "papermill": {
     "duration": 0.087962,
     "end_time": "2023-11-09T16:32:27.948356",
     "exception": false,
     "start_time": "2023-11-09T16:32:27.860394",
     "status": "completed"
    },
    "tags": []
   },
   "outputs": [
    {
     "name": "stdout",
     "output_type": "stream",
     "text": [
      "sush  got  130  marks\n"
     ]
    }
   ],
   "source": [
    "level(80,50,\"sush\")"
   ]
  },
  {
   "cell_type": "code",
   "execution_count": 173,
   "id": "648ea9a8",
   "metadata": {
    "execution": {
     "iopub.execute_input": "2023-11-09T16:32:28.107293Z",
     "iopub.status.busy": "2023-11-09T16:32:28.106926Z",
     "iopub.status.idle": "2023-11-09T16:32:28.113796Z",
     "shell.execute_reply": "2023-11-09T16:32:28.112740Z"
    },
    "papermill": {
     "duration": 0.088787,
     "end_time": "2023-11-09T16:32:28.116172",
     "exception": false,
     "start_time": "2023-11-09T16:32:28.027385",
     "status": "completed"
    },
    "tags": []
   },
   "outputs": [
    {
     "name": "stdout",
     "output_type": "stream",
     "text": [
      "--\n",
      "50\n",
      "def  is not eligible\n"
     ]
    }
   ],
   "source": [
    "\n",
    "\n",
    "def marks (m1,m2,student=\"def\"):\n",
    "    print(m1)\n",
    "    if m1 > 50 and m2 > 50 :\n",
    "        print(student , \" is eligible\")\n",
    "    else :\n",
    "        print(student,\" is not eligible\")\n",
    "        \n",
    "        \n",
    "        \n",
    "print(\"--\")\n",
    "\n",
    "        \n",
    "        \n",
    "        \n",
    "        \n",
    "marks(m1=50,m2=40)"
   ]
  },
  {
   "cell_type": "code",
   "execution_count": 174,
   "id": "d9b5c5e3",
   "metadata": {
    "execution": {
     "iopub.execute_input": "2023-11-09T16:32:28.284006Z",
     "iopub.status.busy": "2023-11-09T16:32:28.283125Z",
     "iopub.status.idle": "2023-11-09T16:32:28.288934Z",
     "shell.execute_reply": "2023-11-09T16:32:28.287785Z"
    },
    "papermill": {
     "duration": 0.094318,
     "end_time": "2023-11-09T16:32:28.291208",
     "exception": false,
     "start_time": "2023-11-09T16:32:28.196890",
     "status": "completed"
    },
    "tags": []
   },
   "outputs": [
    {
     "name": "stdout",
     "output_type": "stream",
     "text": [
      "80\n",
      "swapna  is eligible\n"
     ]
    }
   ],
   "source": [
    "marks(student = \"swapna\",m2=90,m1=80)"
   ]
  },
  {
   "cell_type": "code",
   "execution_count": 175,
   "id": "0e23b37d",
   "metadata": {
    "execution": {
     "iopub.execute_input": "2023-11-09T16:32:28.514276Z",
     "iopub.status.busy": "2023-11-09T16:32:28.513071Z",
     "iopub.status.idle": "2023-11-09T16:32:28.517745Z",
     "shell.execute_reply": "2023-11-09T16:32:28.516849Z"
    },
    "papermill": {
     "duration": 0.08654,
     "end_time": "2023-11-09T16:32:28.519576",
     "exception": false,
     "start_time": "2023-11-09T16:32:28.433036",
     "status": "completed"
    },
    "tags": []
   },
   "outputs": [],
   "source": [
    "# marks(\"student\",90,80)"
   ]
  },
  {
   "cell_type": "code",
   "execution_count": 176,
   "id": "d5bf4892",
   "metadata": {
    "execution": {
     "iopub.execute_input": "2023-11-09T16:32:28.680341Z",
     "iopub.status.busy": "2023-11-09T16:32:28.679973Z",
     "iopub.status.idle": "2023-11-09T16:32:28.685662Z",
     "shell.execute_reply": "2023-11-09T16:32:28.683972Z"
    },
    "papermill": {
     "duration": 0.08886,
     "end_time": "2023-11-09T16:32:28.687826",
     "exception": false,
     "start_time": "2023-11-09T16:32:28.598966",
     "status": "completed"
    },
    "tags": []
   },
   "outputs": [
    {
     "name": "stdout",
     "output_type": "stream",
     "text": [
      "30\n",
      "parth  is not eligible\n"
     ]
    }
   ],
   "source": [
    "marks(30,30,\"parth\")"
   ]
  },
  {
   "cell_type": "code",
   "execution_count": 177,
   "id": "d7f31364",
   "metadata": {
    "execution": {
     "iopub.execute_input": "2023-11-09T16:32:28.848208Z",
     "iopub.status.busy": "2023-11-09T16:32:28.847879Z",
     "iopub.status.idle": "2023-11-09T16:32:28.853567Z",
     "shell.execute_reply": "2023-11-09T16:32:28.852302Z"
    },
    "papermill": {
     "duration": 0.089112,
     "end_time": "2023-11-09T16:32:28.856557",
     "exception": false,
     "start_time": "2023-11-09T16:32:28.767445",
     "status": "completed"
    },
    "tags": []
   },
   "outputs": [
    {
     "name": "stdout",
     "output_type": "stream",
     "text": [
      "90\n",
      "tayyab  is eligible\n"
     ]
    }
   ],
   "source": [
    "marks(90,90,\"tayyab\")"
   ]
  },
  {
   "cell_type": "code",
   "execution_count": 178,
   "id": "b3d9d7f0",
   "metadata": {
    "execution": {
     "iopub.execute_input": "2023-11-09T16:32:29.022946Z",
     "iopub.status.busy": "2023-11-09T16:32:29.022580Z",
     "iopub.status.idle": "2023-11-09T16:32:29.029226Z",
     "shell.execute_reply": "2023-11-09T16:32:29.027977Z"
    },
    "papermill": {
     "duration": 0.093207,
     "end_time": "2023-11-09T16:32:29.032007",
     "exception": false,
     "start_time": "2023-11-09T16:32:28.938800",
     "status": "completed"
    },
    "tags": []
   },
   "outputs": [
    {
     "name": "stdout",
     "output_type": "stream",
     "text": [
      "0\n",
      "st  is not eligible\n"
     ]
    }
   ],
   "source": [
    "\n",
    "\n",
    "def marks (m1=0,m2=0,student=\"st\") :\n",
    "    print(m1)\n",
    "    if m1 > 50 and m2 > 50 :\n",
    "        print(student , \" is eligible\")\n",
    "    else :\n",
    "        print(student,\" is not eligible\")\n",
    "        \n",
    "marks()"
   ]
  },
  {
   "cell_type": "code",
   "execution_count": 179,
   "id": "aa67fc32",
   "metadata": {
    "execution": {
     "iopub.execute_input": "2023-11-09T16:32:29.194783Z",
     "iopub.status.busy": "2023-11-09T16:32:29.194423Z",
     "iopub.status.idle": "2023-11-09T16:32:29.199556Z",
     "shell.execute_reply": "2023-11-09T16:32:29.198126Z"
    },
    "papermill": {
     "duration": 0.089986,
     "end_time": "2023-11-09T16:32:29.202409",
     "exception": false,
     "start_time": "2023-11-09T16:32:29.112423",
     "status": "completed"
    },
    "tags": []
   },
   "outputs": [],
   "source": [
    "# print \n",
    "# return"
   ]
  },
  {
   "cell_type": "code",
   "execution_count": 180,
   "id": "8b79382f",
   "metadata": {
    "execution": {
     "iopub.execute_input": "2023-11-09T16:32:29.367186Z",
     "iopub.status.busy": "2023-11-09T16:32:29.366818Z",
     "iopub.status.idle": "2023-11-09T16:32:29.373087Z",
     "shell.execute_reply": "2023-11-09T16:32:29.371567Z"
    },
    "papermill": {
     "duration": 0.091869,
     "end_time": "2023-11-09T16:32:29.375552",
     "exception": false,
     "start_time": "2023-11-09T16:32:29.283683",
     "status": "completed"
    },
    "tags": []
   },
   "outputs": [
    {
     "name": "stdout",
     "output_type": "stream",
     "text": [
      "---- 15\n"
     ]
    }
   ],
   "source": [
    "def add (a,b) :\n",
    "    c = a+b\n",
    "    return c\n",
    "\n",
    "p= add(5,10)\n",
    "print(\"----\",p)"
   ]
  },
  {
   "cell_type": "code",
   "execution_count": 181,
   "id": "96a474ea",
   "metadata": {
    "execution": {
     "iopub.execute_input": "2023-11-09T16:32:29.537869Z",
     "iopub.status.busy": "2023-11-09T16:32:29.537504Z",
     "iopub.status.idle": "2023-11-09T16:32:29.542031Z",
     "shell.execute_reply": "2023-11-09T16:32:29.541274Z"
    },
    "papermill": {
     "duration": 0.08904,
     "end_time": "2023-11-09T16:32:29.545051",
     "exception": false,
     "start_time": "2023-11-09T16:32:29.456011",
     "status": "completed"
    },
    "tags": []
   },
   "outputs": [
    {
     "name": "stdout",
     "output_type": "stream",
     "text": [
      "15\n",
      "---- None\n"
     ]
    }
   ],
   "source": [
    "def add (a,b) :\n",
    "    c = a+b\n",
    "    print(c)\n",
    "\n",
    "p = add(5,10)\n",
    "print(\"----\",p)"
   ]
  },
  {
   "cell_type": "code",
   "execution_count": 182,
   "id": "c9fbccc3",
   "metadata": {
    "execution": {
     "iopub.execute_input": "2023-11-09T16:32:29.707725Z",
     "iopub.status.busy": "2023-11-09T16:32:29.707340Z",
     "iopub.status.idle": "2023-11-09T16:32:29.711391Z",
     "shell.execute_reply": "2023-11-09T16:32:29.710350Z"
    },
    "papermill": {
     "duration": 0.087141,
     "end_time": "2023-11-09T16:32:29.713321",
     "exception": false,
     "start_time": "2023-11-09T16:32:29.626180",
     "status": "completed"
    },
    "tags": []
   },
   "outputs": [],
   "source": [
    "# if add(5,10 ) > 10 :\n",
    "#     print(\"eligible\")\n",
    "# else :\n",
    "#     print(\"not eligible\")"
   ]
  },
  {
   "cell_type": "code",
   "execution_count": 183,
   "id": "20601d23",
   "metadata": {
    "execution": {
     "iopub.execute_input": "2023-11-09T16:32:29.877434Z",
     "iopub.status.busy": "2023-11-09T16:32:29.877084Z",
     "iopub.status.idle": "2023-11-09T16:32:29.884389Z",
     "shell.execute_reply": "2023-11-09T16:32:29.883559Z"
    },
    "papermill": {
     "duration": 0.09182,
     "end_time": "2023-11-09T16:32:29.886749",
     "exception": false,
     "start_time": "2023-11-09T16:32:29.794929",
     "status": "completed"
    },
    "tags": []
   },
   "outputs": [
    {
     "data": {
      "text/plain": [
       "15"
      ]
     },
     "execution_count": 183,
     "metadata": {},
     "output_type": "execute_result"
    }
   ],
   "source": [
    "def add (a,b) :\n",
    "    c = a+b\n",
    "    return c\n",
    "\n",
    "add(5,10)"
   ]
  },
  {
   "cell_type": "code",
   "execution_count": 184,
   "id": "6192f4d8",
   "metadata": {
    "execution": {
     "iopub.execute_input": "2023-11-09T16:32:30.050667Z",
     "iopub.status.busy": "2023-11-09T16:32:30.050271Z",
     "iopub.status.idle": "2023-11-09T16:32:30.057529Z",
     "shell.execute_reply": "2023-11-09T16:32:30.056137Z"
    },
    "papermill": {
     "duration": 0.092411,
     "end_time": "2023-11-09T16:32:30.059993",
     "exception": false,
     "start_time": "2023-11-09T16:32:29.967582",
     "status": "completed"
    },
    "tags": []
   },
   "outputs": [
    {
     "data": {
      "text/plain": [
       "17"
      ]
     },
     "execution_count": 184,
     "metadata": {},
     "output_type": "execute_result"
    }
   ],
   "source": [
    "add = lambda  a,b : a+b\n",
    "add(7,10)"
   ]
  },
  {
   "cell_type": "code",
   "execution_count": 185,
   "id": "a7b211c1",
   "metadata": {
    "execution": {
     "iopub.execute_input": "2023-11-09T16:32:30.225680Z",
     "iopub.status.busy": "2023-11-09T16:32:30.225351Z",
     "iopub.status.idle": "2023-11-09T16:32:30.232400Z",
     "shell.execute_reply": "2023-11-09T16:32:30.230915Z"
    },
    "papermill": {
     "duration": 0.092749,
     "end_time": "2023-11-09T16:32:30.234519",
     "exception": false,
     "start_time": "2023-11-09T16:32:30.141770",
     "status": "completed"
    },
    "tags": []
   },
   "outputs": [
    {
     "data": {
      "text/plain": [
       "30"
      ]
     },
     "execution_count": 185,
     "metadata": {},
     "output_type": "execute_result"
    }
   ],
   "source": [
    "add(10,20)"
   ]
  },
  {
   "cell_type": "code",
   "execution_count": 186,
   "id": "df5460f3",
   "metadata": {
    "execution": {
     "iopub.execute_input": "2023-11-09T16:32:30.406226Z",
     "iopub.status.busy": "2023-11-09T16:32:30.405891Z",
     "iopub.status.idle": "2023-11-09T16:32:30.411295Z",
     "shell.execute_reply": "2023-11-09T16:32:30.409291Z"
    },
    "papermill": {
     "duration": 0.092994,
     "end_time": "2023-11-09T16:32:30.413817",
     "exception": false,
     "start_time": "2023-11-09T16:32:30.320823",
     "status": "completed"
    },
    "tags": []
   },
   "outputs": [],
   "source": [
    "# list comprehenison :  list + for loop / any loop"
   ]
  },
  {
   "cell_type": "code",
   "execution_count": 187,
   "id": "29051b9b",
   "metadata": {
    "execution": {
     "iopub.execute_input": "2023-11-09T16:32:30.577842Z",
     "iopub.status.busy": "2023-11-09T16:32:30.577489Z",
     "iopub.status.idle": "2023-11-09T16:32:30.584729Z",
     "shell.execute_reply": "2023-11-09T16:32:30.583214Z"
    },
    "papermill": {
     "duration": 0.091821,
     "end_time": "2023-11-09T16:32:30.586752",
     "exception": false,
     "start_time": "2023-11-09T16:32:30.494931",
     "status": "completed"
    },
    "tags": []
   },
   "outputs": [
    {
     "data": {
      "text/plain": [
       "[20, 30]"
      ]
     },
     "execution_count": 187,
     "metadata": {},
     "output_type": "execute_result"
    }
   ],
   "source": [
    "a = [20 ,25,30,35]\n",
    "\n",
    "even = []\n",
    "\n",
    "for i in a :\n",
    "    if i%2 == 0 :\n",
    "        even.append(i)\n",
    "        \n",
    "        \n",
    "        \n",
    "even"
   ]
  },
  {
   "cell_type": "code",
   "execution_count": 188,
   "id": "b62fdba6",
   "metadata": {
    "execution": {
     "iopub.execute_input": "2023-11-09T16:32:30.752379Z",
     "iopub.status.busy": "2023-11-09T16:32:30.752026Z",
     "iopub.status.idle": "2023-11-09T16:32:30.758850Z",
     "shell.execute_reply": "2023-11-09T16:32:30.757671Z"
    },
    "papermill": {
     "duration": 0.092968,
     "end_time": "2023-11-09T16:32:30.760733",
     "exception": false,
     "start_time": "2023-11-09T16:32:30.667765",
     "status": "completed"
    },
    "tags": []
   },
   "outputs": [
    {
     "data": {
      "text/plain": [
       "[20, 30]"
      ]
     },
     "execution_count": 188,
     "metadata": {},
     "output_type": "execute_result"
    }
   ],
   "source": [
    "a = [20 ,25,30,35]\n",
    "\n",
    "even = [  i  for i in a  if i%2 == 0   ]       \n",
    "        \n",
    "        \n",
    "even"
   ]
  },
  {
   "cell_type": "code",
   "execution_count": 189,
   "id": "3b6b8598",
   "metadata": {
    "execution": {
     "iopub.execute_input": "2023-11-09T16:32:30.923803Z",
     "iopub.status.busy": "2023-11-09T16:32:30.923375Z",
     "iopub.status.idle": "2023-11-09T16:32:30.930016Z",
     "shell.execute_reply": "2023-11-09T16:32:30.929388Z"
    },
    "papermill": {
     "duration": 0.090619,
     "end_time": "2023-11-09T16:32:30.931650",
     "exception": false,
     "start_time": "2023-11-09T16:32:30.841031",
     "status": "completed"
    },
    "tags": []
   },
   "outputs": [
    {
     "data": {
      "text/plain": [
       "{20: 'Abhi', 30: 'Abhi'}"
      ]
     },
     "execution_count": 189,
     "metadata": {},
     "output_type": "execute_result"
    }
   ],
   "source": [
    "a = [20 ,25,30,35]\n",
    "\n",
    "even = { i: \"Abhi\"  for i in a  if i%2 == 0   }       \n",
    "        \n",
    "        \n",
    "even"
   ]
  },
  {
   "cell_type": "code",
   "execution_count": 190,
   "id": "5e3aee35",
   "metadata": {
    "execution": {
     "iopub.execute_input": "2023-11-09T16:32:31.091448Z",
     "iopub.status.busy": "2023-11-09T16:32:31.091047Z",
     "iopub.status.idle": "2023-11-09T16:32:31.096226Z",
     "shell.execute_reply": "2023-11-09T16:32:31.094703Z"
    },
    "papermill": {
     "duration": 0.087994,
     "end_time": "2023-11-09T16:32:31.098536",
     "exception": false,
     "start_time": "2023-11-09T16:32:31.010542",
     "status": "completed"
    },
    "tags": []
   },
   "outputs": [],
   "source": [
    "# break continue pass"
   ]
  },
  {
   "cell_type": "code",
   "execution_count": 191,
   "id": "203dbe98",
   "metadata": {
    "execution": {
     "iopub.execute_input": "2023-11-09T16:32:31.262654Z",
     "iopub.status.busy": "2023-11-09T16:32:31.262244Z",
     "iopub.status.idle": "2023-11-09T16:32:31.268667Z",
     "shell.execute_reply": "2023-11-09T16:32:31.267361Z"
    },
    "papermill": {
     "duration": 0.091446,
     "end_time": "2023-11-09T16:32:31.270777",
     "exception": false,
     "start_time": "2023-11-09T16:32:31.179331",
     "status": "completed"
    },
    "tags": []
   },
   "outputs": [],
   "source": [
    "def add(a,b):\n",
    "    pass\n",
    "    \n",
    "add(8,9)"
   ]
  },
  {
   "cell_type": "code",
   "execution_count": 192,
   "id": "9f7cf385",
   "metadata": {
    "execution": {
     "iopub.execute_input": "2023-11-09T16:32:31.437462Z",
     "iopub.status.busy": "2023-11-09T16:32:31.437095Z",
     "iopub.status.idle": "2023-11-09T16:32:31.443370Z",
     "shell.execute_reply": "2023-11-09T16:32:31.441535Z"
    },
    "papermill": {
     "duration": 0.092603,
     "end_time": "2023-11-09T16:32:31.445832",
     "exception": false,
     "start_time": "2023-11-09T16:32:31.353229",
     "status": "completed"
    },
    "tags": []
   },
   "outputs": [
    {
     "name": "stdout",
     "output_type": "stream",
     "text": [
      "0\n",
      "1\n",
      "2\n"
     ]
    }
   ],
   "source": [
    "for i in range(5):\n",
    "    if i == 3 :\n",
    "        break\n",
    "    print(i)"
   ]
  },
  {
   "cell_type": "code",
   "execution_count": 193,
   "id": "511a9c29",
   "metadata": {
    "execution": {
     "iopub.execute_input": "2023-11-09T16:32:31.672054Z",
     "iopub.status.busy": "2023-11-09T16:32:31.671695Z",
     "iopub.status.idle": "2023-11-09T16:32:31.677455Z",
     "shell.execute_reply": "2023-11-09T16:32:31.676101Z"
    },
    "papermill": {
     "duration": 0.089137,
     "end_time": "2023-11-09T16:32:31.679354",
     "exception": false,
     "start_time": "2023-11-09T16:32:31.590217",
     "status": "completed"
    },
    "tags": []
   },
   "outputs": [
    {
     "name": "stdout",
     "output_type": "stream",
     "text": [
      "0\n",
      "1\n",
      "2\n",
      "4\n"
     ]
    }
   ],
   "source": [
    "for i in range(5):\n",
    "    if i == 3 :\n",
    "        continue\n",
    "    print(i)"
   ]
  },
  {
   "cell_type": "code",
   "execution_count": 194,
   "id": "9c49b003",
   "metadata": {
    "execution": {
     "iopub.execute_input": "2023-11-09T16:32:31.841587Z",
     "iopub.status.busy": "2023-11-09T16:32:31.841277Z",
     "iopub.status.idle": "2023-11-09T16:32:31.845606Z",
     "shell.execute_reply": "2023-11-09T16:32:31.844182Z"
    },
    "papermill": {
     "duration": 0.088059,
     "end_time": "2023-11-09T16:32:31.847446",
     "exception": false,
     "start_time": "2023-11-09T16:32:31.759387",
     "status": "completed"
    },
    "tags": []
   },
   "outputs": [],
   "source": [
    "# \\n = new line \\t tab"
   ]
  },
  {
   "cell_type": "code",
   "execution_count": 195,
   "id": "087eddb4",
   "metadata": {
    "execution": {
     "iopub.execute_input": "2023-11-09T16:32:32.011673Z",
     "iopub.status.busy": "2023-11-09T16:32:32.011246Z",
     "iopub.status.idle": "2023-11-09T16:32:32.016940Z",
     "shell.execute_reply": "2023-11-09T16:32:32.015882Z"
    },
    "papermill": {
     "duration": 0.090475,
     "end_time": "2023-11-09T16:32:32.018838",
     "exception": false,
     "start_time": "2023-11-09T16:32:31.928363",
     "status": "completed"
    },
    "tags": []
   },
   "outputs": [
    {
     "name": "stdout",
     "output_type": "stream",
     "text": [
      "mlv\n",
      "prasad\n"
     ]
    }
   ],
   "source": [
    "print(\"mlv\")\n",
    "print(\"prasad\")"
   ]
  },
  {
   "cell_type": "code",
   "execution_count": 196,
   "id": "e9eb1e9d",
   "metadata": {
    "execution": {
     "iopub.execute_input": "2023-11-09T16:32:32.184370Z",
     "iopub.status.busy": "2023-11-09T16:32:32.183998Z",
     "iopub.status.idle": "2023-11-09T16:32:32.190102Z",
     "shell.execute_reply": "2023-11-09T16:32:32.188808Z"
    },
    "papermill": {
     "duration": 0.092235,
     "end_time": "2023-11-09T16:32:32.192203",
     "exception": false,
     "start_time": "2023-11-09T16:32:32.099968",
     "status": "completed"
    },
    "tags": []
   },
   "outputs": [
    {
     "name": "stdout",
     "output_type": "stream",
     "text": [
      "mlv\n",
      "prasad\n"
     ]
    }
   ],
   "source": [
    "print(\"mlv\\nprasad\")"
   ]
  },
  {
   "cell_type": "code",
   "execution_count": 197,
   "id": "4d0a9806",
   "metadata": {
    "execution": {
     "iopub.execute_input": "2023-11-09T16:32:32.360374Z",
     "iopub.status.busy": "2023-11-09T16:32:32.359372Z",
     "iopub.status.idle": "2023-11-09T16:32:32.365009Z",
     "shell.execute_reply": "2023-11-09T16:32:32.364341Z"
    },
    "papermill": {
     "duration": 0.090322,
     "end_time": "2023-11-09T16:32:32.367109",
     "exception": false,
     "start_time": "2023-11-09T16:32:32.276787",
     "status": "completed"
    },
    "tags": []
   },
   "outputs": [
    {
     "name": "stdout",
     "output_type": "stream",
     "text": [
      "mlv    prasad    is    a    good    boy\n"
     ]
    }
   ],
   "source": [
    "print(\"mlv    prasad    is    a    good    boy\")"
   ]
  },
  {
   "cell_type": "code",
   "execution_count": 198,
   "id": "fecf324e",
   "metadata": {
    "execution": {
     "iopub.execute_input": "2023-11-09T16:32:32.529734Z",
     "iopub.status.busy": "2023-11-09T16:32:32.529337Z",
     "iopub.status.idle": "2023-11-09T16:32:32.533813Z",
     "shell.execute_reply": "2023-11-09T16:32:32.533129Z"
    },
    "papermill": {
     "duration": 0.086625,
     "end_time": "2023-11-09T16:32:32.535641",
     "exception": false,
     "start_time": "2023-11-09T16:32:32.449016",
     "status": "completed"
    },
    "tags": []
   },
   "outputs": [
    {
     "name": "stdout",
     "output_type": "stream",
     "text": [
      "mlv\tprasad\tis\ta\tgood\tboy\n"
     ]
    }
   ],
   "source": [
    "print(\"mlv\\tprasad\\tis\\ta\\tgood\\tboy\")"
   ]
  },
  {
   "cell_type": "code",
   "execution_count": 199,
   "id": "3cc77560",
   "metadata": {
    "execution": {
     "iopub.execute_input": "2023-11-09T16:32:32.701992Z",
     "iopub.status.busy": "2023-11-09T16:32:32.701635Z",
     "iopub.status.idle": "2023-11-09T16:32:32.707038Z",
     "shell.execute_reply": "2023-11-09T16:32:32.705449Z"
    },
    "papermill": {
     "duration": 0.090857,
     "end_time": "2023-11-09T16:32:32.709557",
     "exception": false,
     "start_time": "2023-11-09T16:32:32.618700",
     "status": "completed"
    },
    "tags": []
   },
   "outputs": [],
   "source": [
    "# * * * * *\n",
    "# * * * *\n",
    "# * * * \n",
    "# * * \n",
    "# *"
   ]
  },
  {
   "cell_type": "code",
   "execution_count": 200,
   "id": "6e320ffe",
   "metadata": {
    "execution": {
     "iopub.execute_input": "2023-11-09T16:32:32.872795Z",
     "iopub.status.busy": "2023-11-09T16:32:32.872458Z",
     "iopub.status.idle": "2023-11-09T16:32:32.879481Z",
     "shell.execute_reply": "2023-11-09T16:32:32.878184Z"
    },
    "papermill": {
     "duration": 0.089841,
     "end_time": "2023-11-09T16:32:32.881470",
     "exception": false,
     "start_time": "2023-11-09T16:32:32.791629",
     "status": "completed"
    },
    "tags": []
   },
   "outputs": [
    {
     "name": "stdout",
     "output_type": "stream",
     "text": [
      "* * * * * \n",
      "* * * * \n",
      "* * * \n",
      "* * \n",
      "* \n"
     ]
    }
   ],
   "source": [
    "for i in range(5):\n",
    "    print(\"* \"*(5-i))"
   ]
  },
  {
   "cell_type": "code",
   "execution_count": null,
   "id": "8fa5b4f6",
   "metadata": {
    "papermill": {
     "duration": 0.080313,
     "end_time": "2023-11-09T16:32:33.042252",
     "exception": false,
     "start_time": "2023-11-09T16:32:32.961939",
     "status": "completed"
    },
    "tags": []
   },
   "outputs": [],
   "source": []
  },
  {
   "cell_type": "markdown",
   "id": "911806f6",
   "metadata": {
    "papermill": {
     "duration": 0.08035,
     "end_time": "2023-11-09T16:32:33.202514",
     "exception": false,
     "start_time": "2023-11-09T16:32:33.122164",
     "status": "completed"
    },
    "tags": []
   },
   "source": [
    "## filter\n",
    "## reduce\n",
    "## map\n",
    "## zip"
   ]
  },
  {
   "cell_type": "code",
   "execution_count": 201,
   "id": "5d0707a0",
   "metadata": {
    "execution": {
     "iopub.execute_input": "2023-11-09T16:32:33.368986Z",
     "iopub.status.busy": "2023-11-09T16:32:33.368636Z",
     "iopub.status.idle": "2023-11-09T16:32:33.372466Z",
     "shell.execute_reply": "2023-11-09T16:32:33.371675Z"
    },
    "papermill": {
     "duration": 0.087046,
     "end_time": "2023-11-09T16:32:33.374107",
     "exception": false,
     "start_time": "2023-11-09T16:32:33.287061",
     "status": "completed"
    },
    "tags": []
   },
   "outputs": [],
   "source": [
    "# filter "
   ]
  },
  {
   "cell_type": "code",
   "execution_count": 202,
   "id": "7d893c47",
   "metadata": {
    "execution": {
     "iopub.execute_input": "2023-11-09T16:32:33.541018Z",
     "iopub.status.busy": "2023-11-09T16:32:33.540681Z",
     "iopub.status.idle": "2023-11-09T16:32:33.548504Z",
     "shell.execute_reply": "2023-11-09T16:32:33.547218Z"
    },
    "papermill": {
     "duration": 0.094088,
     "end_time": "2023-11-09T16:32:33.551130",
     "exception": false,
     "start_time": "2023-11-09T16:32:33.457042",
     "status": "completed"
    },
    "tags": []
   },
   "outputs": [
    {
     "data": {
      "text/plain": [
       "[10, 12, 14, 16]"
      ]
     },
     "execution_count": 202,
     "metadata": {},
     "output_type": "execute_result"
    }
   ],
   "source": [
    "a  =  [10,11,12,13,14,15,16]\n",
    "\n",
    "\n",
    "b = []\n",
    "for i in range(len(a)) :\n",
    "    if a[i] % 2 == 0 :\n",
    "        b.append(a[i])\n",
    "        \n",
    "b"
   ]
  },
  {
   "cell_type": "code",
   "execution_count": 203,
   "id": "744db953",
   "metadata": {
    "execution": {
     "iopub.execute_input": "2023-11-09T16:32:33.719272Z",
     "iopub.status.busy": "2023-11-09T16:32:33.718907Z",
     "iopub.status.idle": "2023-11-09T16:32:33.725710Z",
     "shell.execute_reply": "2023-11-09T16:32:33.724980Z"
    },
    "papermill": {
     "duration": 0.093484,
     "end_time": "2023-11-09T16:32:33.727502",
     "exception": false,
     "start_time": "2023-11-09T16:32:33.634018",
     "status": "completed"
    },
    "tags": []
   },
   "outputs": [
    {
     "data": {
      "text/plain": [
       "[40, 12, 14, 16]"
      ]
     },
     "execution_count": 203,
     "metadata": {},
     "output_type": "execute_result"
    }
   ],
   "source": [
    "a  =  [40,11,12,13,14,15,16]\n",
    "\n",
    "def even(i) :\n",
    "    return i % 2 == 0\n",
    "\n",
    "\n",
    "b = list(filter(even,a))\n",
    "b"
   ]
  },
  {
   "cell_type": "code",
   "execution_count": 204,
   "id": "02957ee4",
   "metadata": {
    "execution": {
     "iopub.execute_input": "2023-11-09T16:32:33.890722Z",
     "iopub.status.busy": "2023-11-09T16:32:33.890358Z",
     "iopub.status.idle": "2023-11-09T16:32:33.898158Z",
     "shell.execute_reply": "2023-11-09T16:32:33.896661Z"
    },
    "papermill": {
     "duration": 0.090423,
     "end_time": "2023-11-09T16:32:33.899951",
     "exception": false,
     "start_time": "2023-11-09T16:32:33.809528",
     "status": "completed"
    },
    "tags": []
   },
   "outputs": [
    {
     "data": {
      "text/plain": [
       "[40, 12, 14, 16]"
      ]
     },
     "execution_count": 204,
     "metadata": {},
     "output_type": "execute_result"
    }
   ],
   "source": [
    "a  =  [40,11,12,13,14,15,16]\n",
    "\n",
    "b = list(filter(lambda p : p%2== 0,a))\n",
    "b"
   ]
  },
  {
   "cell_type": "code",
   "execution_count": 205,
   "id": "4c56d82f",
   "metadata": {
    "execution": {
     "iopub.execute_input": "2023-11-09T16:32:34.126852Z",
     "iopub.status.busy": "2023-11-09T16:32:34.126492Z",
     "iopub.status.idle": "2023-11-09T16:32:34.133323Z",
     "shell.execute_reply": "2023-11-09T16:32:34.132052Z"
    },
    "papermill": {
     "duration": 0.155912,
     "end_time": "2023-11-09T16:32:34.136060",
     "exception": false,
     "start_time": "2023-11-09T16:32:33.980148",
     "status": "completed"
    },
    "tags": []
   },
   "outputs": [
    {
     "data": {
      "text/plain": [
       "['swapna', 'saraswati']"
      ]
     },
     "execution_count": 205,
     "metadata": {},
     "output_type": "execute_result"
    }
   ],
   "source": [
    "a = [\"swapna\",\"saraswati\",\"abhi\"]\n",
    "\n",
    "b = list(filter(lambda i : i[0] != \"a\"   and  i[0] != \"i\"  and  i[0] != \"o\", a))\n",
    "b"
   ]
  },
  {
   "cell_type": "code",
   "execution_count": 206,
   "id": "98d69322",
   "metadata": {
    "execution": {
     "iopub.execute_input": "2023-11-09T16:32:34.303108Z",
     "iopub.status.busy": "2023-11-09T16:32:34.302766Z",
     "iopub.status.idle": "2023-11-09T16:32:34.311029Z",
     "shell.execute_reply": "2023-11-09T16:32:34.309979Z"
    },
    "papermill": {
     "duration": 0.094908,
     "end_time": "2023-11-09T16:32:34.312794",
     "exception": false,
     "start_time": "2023-11-09T16:32:34.217886",
     "status": "completed"
    },
    "tags": []
   },
   "outputs": [
    {
     "data": {
      "text/plain": [
       "[0, 10, 30]"
      ]
     },
     "execution_count": 206,
     "metadata": {},
     "output_type": "execute_result"
    }
   ],
   "source": [
    "a = {10,30,-10,0,30}\n",
    "b = list(filter(lambda i : i >= 0 , a))\n",
    "b"
   ]
  },
  {
   "cell_type": "code",
   "execution_count": 207,
   "id": "de6994fc",
   "metadata": {
    "execution": {
     "iopub.execute_input": "2023-11-09T16:32:34.485302Z",
     "iopub.status.busy": "2023-11-09T16:32:34.484596Z",
     "iopub.status.idle": "2023-11-09T16:32:34.490252Z",
     "shell.execute_reply": "2023-11-09T16:32:34.489231Z"
    },
    "papermill": {
     "duration": 0.098522,
     "end_time": "2023-11-09T16:32:34.493208",
     "exception": false,
     "start_time": "2023-11-09T16:32:34.394686",
     "status": "completed"
    },
    "tags": []
   },
   "outputs": [],
   "source": [
    "a = [\"swapna\",\"abhinav\"]"
   ]
  },
  {
   "cell_type": "code",
   "execution_count": 208,
   "id": "1022e59a",
   "metadata": {
    "execution": {
     "iopub.execute_input": "2023-11-09T16:32:34.672492Z",
     "iopub.status.busy": "2023-11-09T16:32:34.671436Z",
     "iopub.status.idle": "2023-11-09T16:32:34.679465Z",
     "shell.execute_reply": "2023-11-09T16:32:34.677984Z"
    },
    "papermill": {
     "duration": 0.095102,
     "end_time": "2023-11-09T16:32:34.681989",
     "exception": false,
     "start_time": "2023-11-09T16:32:34.586887",
     "status": "completed"
    },
    "tags": []
   },
   "outputs": [
    {
     "data": {
      "text/plain": [
       "150"
      ]
     },
     "execution_count": 208,
     "metadata": {},
     "output_type": "execute_result"
    }
   ],
   "source": [
    "# reduce \n",
    "from functools import reduce\n",
    "\n",
    "a = [10,20,30,40,50]\n",
    "b = 0\n",
    "for i in a :\n",
    "    b = b + i\n",
    "    \n",
    "b"
   ]
  },
  {
   "cell_type": "code",
   "execution_count": 209,
   "id": "ae021d5b",
   "metadata": {
    "execution": {
     "iopub.execute_input": "2023-11-09T16:32:34.849673Z",
     "iopub.status.busy": "2023-11-09T16:32:34.849321Z",
     "iopub.status.idle": "2023-11-09T16:32:34.856799Z",
     "shell.execute_reply": "2023-11-09T16:32:34.855699Z"
    },
    "papermill": {
     "duration": 0.094102,
     "end_time": "2023-11-09T16:32:34.858936",
     "exception": false,
     "start_time": "2023-11-09T16:32:34.764834",
     "status": "completed"
    },
    "tags": []
   },
   "outputs": [
    {
     "data": {
      "text/plain": [
       "150"
      ]
     },
     "execution_count": 209,
     "metadata": {},
     "output_type": "execute_result"
    }
   ],
   "source": [
    "\n",
    "c = [10,20,30,40,50]\n",
    "\n",
    "\n",
    "def add(p,q) :\n",
    "    return p + q\n",
    "# ini = 100 \n",
    "d = reduce(add,c)\n",
    "d"
   ]
  },
  {
   "cell_type": "code",
   "execution_count": 210,
   "id": "461fc317",
   "metadata": {
    "execution": {
     "iopub.execute_input": "2023-11-09T16:32:35.032684Z",
     "iopub.status.busy": "2023-11-09T16:32:35.032328Z",
     "iopub.status.idle": "2023-11-09T16:32:35.040893Z",
     "shell.execute_reply": "2023-11-09T16:32:35.038970Z"
    },
    "papermill": {
     "duration": 0.098133,
     "end_time": "2023-11-09T16:32:35.043867",
     "exception": false,
     "start_time": "2023-11-09T16:32:34.945734",
     "status": "completed"
    },
    "tags": []
   },
   "outputs": [
    {
     "data": {
      "text/plain": [
       "50"
      ]
     },
     "execution_count": 210,
     "metadata": {},
     "output_type": "execute_result"
    }
   ],
   "source": [
    "c = [10,20,30,40,50]\n",
    "\n",
    "mx = c[0]\n",
    "for i in c :\n",
    "    if i > mx :\n",
    "        mx = i\n",
    "mx"
   ]
  },
  {
   "cell_type": "code",
   "execution_count": 211,
   "id": "848ac3f4",
   "metadata": {
    "execution": {
     "iopub.execute_input": "2023-11-09T16:32:35.224519Z",
     "iopub.status.busy": "2023-11-09T16:32:35.224182Z",
     "iopub.status.idle": "2023-11-09T16:32:35.234353Z",
     "shell.execute_reply": "2023-11-09T16:32:35.232880Z"
    },
    "papermill": {
     "duration": 0.10671,
     "end_time": "2023-11-09T16:32:35.236923",
     "exception": false,
     "start_time": "2023-11-09T16:32:35.130213",
     "status": "completed"
    },
    "tags": []
   },
   "outputs": [
    {
     "data": {
      "text/plain": [
       "770"
      ]
     },
     "execution_count": 211,
     "metadata": {},
     "output_type": "execute_result"
    }
   ],
   "source": [
    "c = [10,770,30,40,50]\n",
    "ini = int(c[0])\n",
    "def maxx(p,q):\n",
    "    if p > q :\n",
    "        return p \n",
    "    else :\n",
    "        return q\n",
    "\n",
    "    \n",
    "        \n",
    "    \n",
    "# ini = c[0]\n",
    "d = reduce(maxx,c)\n",
    "d"
   ]
  },
  {
   "cell_type": "code",
   "execution_count": 212,
   "id": "a118336b",
   "metadata": {
    "execution": {
     "iopub.execute_input": "2023-11-09T16:32:35.412728Z",
     "iopub.status.busy": "2023-11-09T16:32:35.412382Z",
     "iopub.status.idle": "2023-11-09T16:32:35.420921Z",
     "shell.execute_reply": "2023-11-09T16:32:35.419789Z"
    },
    "papermill": {
     "duration": 0.098527,
     "end_time": "2023-11-09T16:32:35.422925",
     "exception": false,
     "start_time": "2023-11-09T16:32:35.324398",
     "status": "completed"
    },
    "tags": []
   },
   "outputs": [
    {
     "data": {
      "text/plain": [
       "'c001mlv c001prasad c001mentor'"
      ]
     },
     "execution_count": 212,
     "metadata": {},
     "output_type": "execute_result"
    }
   ],
   "source": [
    "d = [\"mlv\",\"prasad\",\"mentor\"]\n",
    "# d = [\"mlv prasad\",\"mentor\"]\n",
    "\n",
    "def con (p,q) :\n",
    "    if p != \"c001\":\n",
    "        return p + \" c001\" + q\n",
    "    else :\n",
    "        return p + q\n",
    "\n",
    "e = reduce(con, d,\"c001\")\n",
    "e"
   ]
  },
  {
   "cell_type": "code",
   "execution_count": 213,
   "id": "8cccab0f",
   "metadata": {
    "execution": {
     "iopub.execute_input": "2023-11-09T16:32:35.589985Z",
     "iopub.status.busy": "2023-11-09T16:32:35.589595Z",
     "iopub.status.idle": "2023-11-09T16:32:35.597282Z",
     "shell.execute_reply": "2023-11-09T16:32:35.595843Z"
    },
    "papermill": {
     "duration": 0.093773,
     "end_time": "2023-11-09T16:32:35.599850",
     "exception": false,
     "start_time": "2023-11-09T16:32:35.506077",
     "status": "completed"
    },
    "tags": []
   },
   "outputs": [
    {
     "data": {
      "text/plain": [
       "[10]"
      ]
     },
     "execution_count": 213,
     "metadata": {},
     "output_type": "execute_result"
    }
   ],
   "source": [
    "a = [10,29,32]\n",
    "\n",
    "b = list(filter( lambda x : x < 15  , a))\n",
    "b"
   ]
  },
  {
   "cell_type": "code",
   "execution_count": 214,
   "id": "cd0b3ef6",
   "metadata": {
    "execution": {
     "iopub.execute_input": "2023-11-09T16:32:35.770234Z",
     "iopub.status.busy": "2023-11-09T16:32:35.769564Z",
     "iopub.status.idle": "2023-11-09T16:32:35.775944Z",
     "shell.execute_reply": "2023-11-09T16:32:35.774520Z"
    },
    "papermill": {
     "duration": 0.095859,
     "end_time": "2023-11-09T16:32:35.778320",
     "exception": false,
     "start_time": "2023-11-09T16:32:35.682461",
     "status": "completed"
    },
    "tags": []
   },
   "outputs": [
    {
     "data": {
      "text/plain": [
       "'mlv prasad mentor'"
      ]
     },
     "execution_count": 214,
     "metadata": {},
     "output_type": "execute_result"
    }
   ],
   "source": [
    "d = [\"mlv\",\"prasad\",\"mentor\"]\n",
    "e = reduce(lambda x,y : x + \" \" + y, d)\n",
    "e"
   ]
  },
  {
   "cell_type": "code",
   "execution_count": 215,
   "id": "ca480077",
   "metadata": {
    "execution": {
     "iopub.execute_input": "2023-11-09T16:32:35.945843Z",
     "iopub.status.busy": "2023-11-09T16:32:35.944875Z",
     "iopub.status.idle": "2023-11-09T16:32:35.951649Z",
     "shell.execute_reply": "2023-11-09T16:32:35.950689Z"
    },
    "papermill": {
     "duration": 0.091652,
     "end_time": "2023-11-09T16:32:35.953389",
     "exception": false,
     "start_time": "2023-11-09T16:32:35.861737",
     "status": "completed"
    },
    "tags": []
   },
   "outputs": [
    {
     "data": {
      "text/plain": [
       "[100, 625, 900, 1225, 2500]"
      ]
     },
     "execution_count": 215,
     "metadata": {},
     "output_type": "execute_result"
    }
   ],
   "source": [
    "#map\n",
    "\n",
    "a = [10,25,30,35,50]\n",
    "\n",
    "# fil  = [10,30,50]\n",
    "\n",
    "# reduce = one final ans \n",
    "\n",
    "#map - apply some function on all elememts\n",
    "\n",
    "\n",
    "b = []\n",
    "for i in a :\n",
    "    b.append(i**2)\n",
    "b\n",
    "\n"
   ]
  },
  {
   "cell_type": "code",
   "execution_count": 216,
   "id": "abc88b63",
   "metadata": {
    "execution": {
     "iopub.execute_input": "2023-11-09T16:32:36.121753Z",
     "iopub.status.busy": "2023-11-09T16:32:36.121334Z",
     "iopub.status.idle": "2023-11-09T16:32:36.127989Z",
     "shell.execute_reply": "2023-11-09T16:32:36.126869Z"
    },
    "papermill": {
     "duration": 0.092116,
     "end_time": "2023-11-09T16:32:36.129784",
     "exception": false,
     "start_time": "2023-11-09T16:32:36.037668",
     "status": "completed"
    },
    "tags": []
   },
   "outputs": [
    {
     "data": {
      "text/plain": [
       "[100, 625, 900, 1225, 2500]"
      ]
     },
     "execution_count": 216,
     "metadata": {},
     "output_type": "execute_result"
    }
   ],
   "source": [
    "c = [10,25,30,35,50]\n",
    "def sq(x) :\n",
    "    return x**2\n",
    "d = list(map(sq, c))\n",
    "d"
   ]
  },
  {
   "cell_type": "code",
   "execution_count": 217,
   "id": "f3b9a4f6",
   "metadata": {
    "execution": {
     "iopub.execute_input": "2023-11-09T16:32:36.298802Z",
     "iopub.status.busy": "2023-11-09T16:32:36.297706Z",
     "iopub.status.idle": "2023-11-09T16:32:36.306974Z",
     "shell.execute_reply": "2023-11-09T16:32:36.305839Z"
    },
    "papermill": {
     "duration": 0.097121,
     "end_time": "2023-11-09T16:32:36.308922",
     "exception": false,
     "start_time": "2023-11-09T16:32:36.211801",
     "status": "completed"
    },
    "tags": []
   },
   "outputs": [
    {
     "data": {
      "text/plain": [
       "[100, 625, 900, 1225, 2500]"
      ]
     },
     "execution_count": 217,
     "metadata": {},
     "output_type": "execute_result"
    }
   ],
   "source": [
    "c = [10,25,30,35,50]\n",
    "\n",
    "d = list(map(lambda i : i **2 , c))\n",
    "d"
   ]
  },
  {
   "cell_type": "code",
   "execution_count": 218,
   "id": "9dac8bce",
   "metadata": {
    "execution": {
     "iopub.execute_input": "2023-11-09T16:32:36.477895Z",
     "iopub.status.busy": "2023-11-09T16:32:36.477166Z",
     "iopub.status.idle": "2023-11-09T16:32:36.484192Z",
     "shell.execute_reply": "2023-11-09T16:32:36.483011Z"
    },
    "papermill": {
     "duration": 0.093522,
     "end_time": "2023-11-09T16:32:36.486041",
     "exception": false,
     "start_time": "2023-11-09T16:32:36.392519",
     "status": "completed"
    },
    "tags": []
   },
   "outputs": [
    {
     "data": {
      "text/plain": [
       "['swapna', 'sush']"
      ]
     },
     "execution_count": 218,
     "metadata": {},
     "output_type": "execute_result"
    }
   ],
   "source": [
    "a = [\"swapna\",\"sush\",\"ghosh\"]\n",
    "b = list(filter(lambda x : x[0]==\"s\",a))\n",
    "b"
   ]
  },
  {
   "cell_type": "code",
   "execution_count": 219,
   "id": "1cdedd44",
   "metadata": {
    "execution": {
     "iopub.execute_input": "2023-11-09T16:32:36.655832Z",
     "iopub.status.busy": "2023-11-09T16:32:36.654335Z",
     "iopub.status.idle": "2023-11-09T16:32:36.661748Z",
     "shell.execute_reply": "2023-11-09T16:32:36.660992Z"
    },
    "papermill": {
     "duration": 0.094297,
     "end_time": "2023-11-09T16:32:36.663486",
     "exception": false,
     "start_time": "2023-11-09T16:32:36.569189",
     "status": "completed"
    },
    "tags": []
   },
   "outputs": [
    {
     "data": {
      "text/plain": [
       "['student swapna', 'student sush', 'student ghosh']"
      ]
     },
     "execution_count": 219,
     "metadata": {},
     "output_type": "execute_result"
    }
   ],
   "source": [
    "a = [\"swapna\",\"sush\",\"ghosh\"]\n",
    "b = list(map(lambda i : \"student \"+ i,a))\n",
    "b"
   ]
  },
  {
   "cell_type": "code",
   "execution_count": 220,
   "id": "86ffa7e6",
   "metadata": {
    "execution": {
     "iopub.execute_input": "2023-11-09T16:32:36.834602Z",
     "iopub.status.busy": "2023-11-09T16:32:36.834166Z",
     "iopub.status.idle": "2023-11-09T16:32:36.842323Z",
     "shell.execute_reply": "2023-11-09T16:32:36.841368Z"
    },
    "papermill": {
     "duration": 0.096874,
     "end_time": "2023-11-09T16:32:36.844389",
     "exception": false,
     "start_time": "2023-11-09T16:32:36.747515",
     "status": "completed"
    },
    "tags": []
   },
   "outputs": [
    {
     "data": {
      "text/plain": [
       "[('swapna', 100), ('prasad', 200), ('ghosh', 300)]"
      ]
     },
     "execution_count": 220,
     "metadata": {},
     "output_type": "execute_result"
    }
   ],
   "source": [
    "a = [\"swapna\",\"prasad\",\"ghosh\"]\n",
    "b = [100,200,300]\n",
    "\n",
    "\n",
    "c = [  ( a[i] , b[i]) for i in range(len(a))]\n",
    "c"
   ]
  },
  {
   "cell_type": "code",
   "execution_count": 221,
   "id": "dad3780f",
   "metadata": {
    "execution": {
     "iopub.execute_input": "2023-11-09T16:32:37.012446Z",
     "iopub.status.busy": "2023-11-09T16:32:37.011959Z",
     "iopub.status.idle": "2023-11-09T16:32:37.017585Z",
     "shell.execute_reply": "2023-11-09T16:32:37.016674Z"
    },
    "papermill": {
     "duration": 0.091737,
     "end_time": "2023-11-09T16:32:37.019466",
     "exception": false,
     "start_time": "2023-11-09T16:32:36.927729",
     "status": "completed"
    },
    "tags": []
   },
   "outputs": [
    {
     "name": "stdout",
     "output_type": "stream",
     "text": [
      "swapna 100\n",
      "prasad 200\n",
      "ghosh 300\n"
     ]
    }
   ],
   "source": [
    "for i in range(len(a) ) :\n",
    "    print(a[i],b[i])\n",
    "    "
   ]
  },
  {
   "cell_type": "code",
   "execution_count": 222,
   "id": "3b4daf4a",
   "metadata": {
    "execution": {
     "iopub.execute_input": "2023-11-09T16:32:37.243519Z",
     "iopub.status.busy": "2023-11-09T16:32:37.243135Z",
     "iopub.status.idle": "2023-11-09T16:32:37.249038Z",
     "shell.execute_reply": "2023-11-09T16:32:37.247678Z"
    },
    "papermill": {
     "duration": 0.09248,
     "end_time": "2023-11-09T16:32:37.250935",
     "exception": false,
     "start_time": "2023-11-09T16:32:37.158455",
     "status": "completed"
    },
    "tags": []
   },
   "outputs": [
    {
     "name": "stdout",
     "output_type": "stream",
     "text": [
      "('swapna', 100) --\n",
      "('prasad', 200) --\n",
      "('ghosh', 300) --\n"
     ]
    }
   ],
   "source": [
    "for i in zip(a,b) :\n",
    "    print(i,\"--\")"
   ]
  },
  {
   "cell_type": "code",
   "execution_count": 223,
   "id": "50fef2cc",
   "metadata": {
    "execution": {
     "iopub.execute_input": "2023-11-09T16:32:37.419553Z",
     "iopub.status.busy": "2023-11-09T16:32:37.419226Z",
     "iopub.status.idle": "2023-11-09T16:32:37.424582Z",
     "shell.execute_reply": "2023-11-09T16:32:37.423667Z"
    },
    "papermill": {
     "duration": 0.093045,
     "end_time": "2023-11-09T16:32:37.427038",
     "exception": false,
     "start_time": "2023-11-09T16:32:37.333993",
     "status": "completed"
    },
    "tags": []
   },
   "outputs": [
    {
     "name": "stdout",
     "output_type": "stream",
     "text": [
      "swapna -- 100\n",
      "prasad -- 200\n",
      "ghosh -- 300\n"
     ]
    }
   ],
   "source": [
    "for i,j in zip(a,b) :\n",
    "    print(i,\"--\",j)"
   ]
  },
  {
   "cell_type": "code",
   "execution_count": 224,
   "id": "7d8d1770",
   "metadata": {
    "execution": {
     "iopub.execute_input": "2023-11-09T16:32:37.596373Z",
     "iopub.status.busy": "2023-11-09T16:32:37.596042Z",
     "iopub.status.idle": "2023-11-09T16:32:37.603369Z",
     "shell.execute_reply": "2023-11-09T16:32:37.602091Z"
    },
    "papermill": {
     "duration": 0.095304,
     "end_time": "2023-11-09T16:32:37.606026",
     "exception": false,
     "start_time": "2023-11-09T16:32:37.510722",
     "status": "completed"
    },
    "tags": []
   },
   "outputs": [
    {
     "data": {
      "text/plain": [
       "[('swapna', 100, 1)]"
      ]
     },
     "execution_count": 224,
     "metadata": {},
     "output_type": "execute_result"
    }
   ],
   "source": [
    "a = [\"swapna\"]\n",
    "b = [100,200,300]\n",
    "c= [1,2]\n",
    "\n",
    "\n",
    "c = list(zip(a,b,c))\n",
    "c"
   ]
  },
  {
   "cell_type": "code",
   "execution_count": 225,
   "id": "3854acf1",
   "metadata": {
    "execution": {
     "iopub.execute_input": "2023-11-09T16:32:37.777887Z",
     "iopub.status.busy": "2023-11-09T16:32:37.776865Z",
     "iopub.status.idle": "2023-11-09T16:32:37.783468Z",
     "shell.execute_reply": "2023-11-09T16:32:37.781255Z"
    },
    "papermill": {
     "duration": 0.094527,
     "end_time": "2023-11-09T16:32:37.785760",
     "exception": false,
     "start_time": "2023-11-09T16:32:37.691233",
     "status": "completed"
    },
    "tags": []
   },
   "outputs": [
    {
     "name": "stdout",
     "output_type": "stream",
     "text": [
      "yes\n"
     ]
    }
   ],
   "source": [
    "a = \"malayalam\"\n",
    "b = a[::-1]\n",
    "b\n",
    "\n",
    "if a == b :\n",
    "    print(\"yes\")\n",
    "else :\n",
    "    print(\"no\")"
   ]
  },
  {
   "cell_type": "code",
   "execution_count": null,
   "id": "b83d803d",
   "metadata": {
    "papermill": {
     "duration": 0.082849,
     "end_time": "2023-11-09T16:32:37.952298",
     "exception": false,
     "start_time": "2023-11-09T16:32:37.869449",
     "status": "completed"
    },
    "tags": []
   },
   "outputs": [],
   "source": []
  },
  {
   "cell_type": "code",
   "execution_count": 226,
   "id": "fb1815c4",
   "metadata": {
    "execution": {
     "iopub.execute_input": "2023-11-09T16:32:38.122571Z",
     "iopub.status.busy": "2023-11-09T16:32:38.121539Z",
     "iopub.status.idle": "2023-11-09T16:32:38.127980Z",
     "shell.execute_reply": "2023-11-09T16:32:38.126731Z"
    },
    "papermill": {
     "duration": 0.093713,
     "end_time": "2023-11-09T16:32:38.130654",
     "exception": false,
     "start_time": "2023-11-09T16:32:38.036941",
     "status": "completed"
    },
    "tags": []
   },
   "outputs": [],
   "source": [
    "class BluePrint() :\n",
    "    \n",
    "    def __init__ (self,a ): # constructor\n",
    "        self.b = a + 100\n",
    "        self.designed = \"mlv prasad\"\n",
    "        self.country  = \"india\"\n",
    "        \n",
    "\n",
    "\n",
    "    \n",
    "\n",
    "    def color(self):\n",
    "#         b = self.designed\n",
    "        return f\"home is designed by {self.designed} for  and is 100 ft and color \"\n",
    "\n",
    "    def interior(self):\n",
    "        return \"home is italian \"\n",
    "    \n",
    "ghosh = BluePrint(100.5)\n",
    "# int(ghosh)"
   ]
  },
  {
   "cell_type": "code",
   "execution_count": 227,
   "id": "82565b6e",
   "metadata": {
    "execution": {
     "iopub.execute_input": "2023-11-09T16:32:38.302635Z",
     "iopub.status.busy": "2023-11-09T16:32:38.302279Z",
     "iopub.status.idle": "2023-11-09T16:32:38.306233Z",
     "shell.execute_reply": "2023-11-09T16:32:38.305230Z"
    },
    "papermill": {
     "duration": 0.092863,
     "end_time": "2023-11-09T16:32:38.308950",
     "exception": false,
     "start_time": "2023-11-09T16:32:38.216087",
     "status": "completed"
    },
    "tags": []
   },
   "outputs": [],
   "source": [
    "# swapna = BluePrint()\n",
    "# swapna.color()"
   ]
  },
  {
   "cell_type": "code",
   "execution_count": 228,
   "id": "4d93e231",
   "metadata": {
    "execution": {
     "iopub.execute_input": "2023-11-09T16:32:38.478253Z",
     "iopub.status.busy": "2023-11-09T16:32:38.477920Z",
     "iopub.status.idle": "2023-11-09T16:32:38.484808Z",
     "shell.execute_reply": "2023-11-09T16:32:38.483388Z"
    },
    "papermill": {
     "duration": 0.093854,
     "end_time": "2023-11-09T16:32:38.487162",
     "exception": false,
     "start_time": "2023-11-09T16:32:38.393308",
     "status": "completed"
    },
    "tags": []
   },
   "outputs": [
    {
     "data": {
      "text/plain": [
       "'9'"
      ]
     },
     "execution_count": 228,
     "metadata": {},
     "output_type": "execute_result"
    }
   ],
   "source": [
    "a = 9\n",
    "b = str(a)\n",
    "b"
   ]
  },
  {
   "cell_type": "code",
   "execution_count": 229,
   "id": "0f4b0f9d",
   "metadata": {
    "execution": {
     "iopub.execute_input": "2023-11-09T16:32:38.657262Z",
     "iopub.status.busy": "2023-11-09T16:32:38.656404Z",
     "iopub.status.idle": "2023-11-09T16:32:38.665179Z",
     "shell.execute_reply": "2023-11-09T16:32:38.664301Z"
    },
    "papermill": {
     "duration": 0.095249,
     "end_time": "2023-11-09T16:32:38.667008",
     "exception": false,
     "start_time": "2023-11-09T16:32:38.571759",
     "status": "completed"
    },
    "tags": []
   },
   "outputs": [
    {
     "data": {
      "text/plain": [
       "0"
      ]
     },
     "execution_count": 229,
     "metadata": {},
     "output_type": "execute_result"
    }
   ],
   "source": [
    "class Student() :\n",
    "    \n",
    "    def __init__(self,name,age):\n",
    "        self.studname = f\"the student name is {name}\"\n",
    "        self.studage = f\"the student age is {age}\"\n",
    "        self.courses= []\n",
    "    \n",
    "    def enroll(self, course= 0 ) :\n",
    "        self.courses.append(course)\n",
    "        \n",
    "    def total_course(self):\n",
    "        return len(self.courses)\n",
    "    \n",
    "    \n",
    "    \n",
    "joy =  Student(\"joyce\",\"30\")\n",
    "joy.total_course()\n",
    "\n",
    "\n",
    "\n"
   ]
  },
  {
   "cell_type": "code",
   "execution_count": 230,
   "id": "3cce6d06",
   "metadata": {
    "execution": {
     "iopub.execute_input": "2023-11-09T16:32:38.835921Z",
     "iopub.status.busy": "2023-11-09T16:32:38.834511Z",
     "iopub.status.idle": "2023-11-09T16:32:38.841807Z",
     "shell.execute_reply": "2023-11-09T16:32:38.840818Z"
    },
    "papermill": {
     "duration": 0.094062,
     "end_time": "2023-11-09T16:32:38.844169",
     "exception": false,
     "start_time": "2023-11-09T16:32:38.750107",
     "status": "completed"
    },
    "tags": []
   },
   "outputs": [
    {
     "data": {
      "text/plain": [
       "[]"
      ]
     },
     "execution_count": 230,
     "metadata": {},
     "output_type": "execute_result"
    }
   ],
   "source": [
    "sw = Student(\"swapna\",\"35\")\n",
    "sw.courses"
   ]
  },
  {
   "cell_type": "code",
   "execution_count": 231,
   "id": "8ab88b38",
   "metadata": {
    "execution": {
     "iopub.execute_input": "2023-11-09T16:32:39.009120Z",
     "iopub.status.busy": "2023-11-09T16:32:39.008643Z",
     "iopub.status.idle": "2023-11-09T16:32:39.015010Z",
     "shell.execute_reply": "2023-11-09T16:32:39.013968Z"
    },
    "papermill": {
     "duration": 0.090073,
     "end_time": "2023-11-09T16:32:39.016705",
     "exception": false,
     "start_time": "2023-11-09T16:32:38.926632",
     "status": "completed"
    },
    "tags": []
   },
   "outputs": [
    {
     "data": {
      "text/plain": [
       "[]"
      ]
     },
     "execution_count": 231,
     "metadata": {},
     "output_type": "execute_result"
    }
   ],
   "source": [
    "joy.courses\n",
    "\n",
    "# joy.enroll(\"sql\")"
   ]
  },
  {
   "cell_type": "code",
   "execution_count": 232,
   "id": "1d5f5f3a",
   "metadata": {
    "execution": {
     "iopub.execute_input": "2023-11-09T16:32:39.185213Z",
     "iopub.status.busy": "2023-11-09T16:32:39.184520Z",
     "iopub.status.idle": "2023-11-09T16:32:39.189213Z",
     "shell.execute_reply": "2023-11-09T16:32:39.188074Z"
    },
    "papermill": {
     "duration": 0.093989,
     "end_time": "2023-11-09T16:32:39.191680",
     "exception": false,
     "start_time": "2023-11-09T16:32:39.097691",
     "status": "completed"
    },
    "tags": []
   },
   "outputs": [],
   "source": [
    "sw.enroll(\"sql\")"
   ]
  },
  {
   "cell_type": "code",
   "execution_count": 233,
   "id": "4a8a6693",
   "metadata": {
    "execution": {
     "iopub.execute_input": "2023-11-09T16:32:39.364774Z",
     "iopub.status.busy": "2023-11-09T16:32:39.364035Z",
     "iopub.status.idle": "2023-11-09T16:32:39.369532Z",
     "shell.execute_reply": "2023-11-09T16:32:39.368899Z"
    },
    "papermill": {
     "duration": 0.094148,
     "end_time": "2023-11-09T16:32:39.371269",
     "exception": false,
     "start_time": "2023-11-09T16:32:39.277121",
     "status": "completed"
    },
    "tags": []
   },
   "outputs": [
    {
     "data": {
      "text/plain": [
       "[]"
      ]
     },
     "execution_count": 233,
     "metadata": {},
     "output_type": "execute_result"
    }
   ],
   "source": [
    "joy.courses"
   ]
  },
  {
   "cell_type": "code",
   "execution_count": 234,
   "id": "90f06599",
   "metadata": {
    "execution": {
     "iopub.execute_input": "2023-11-09T16:32:39.540860Z",
     "iopub.status.busy": "2023-11-09T16:32:39.540058Z",
     "iopub.status.idle": "2023-11-09T16:32:39.544412Z",
     "shell.execute_reply": "2023-11-09T16:32:39.543772Z"
    },
    "papermill": {
     "duration": 0.09163,
     "end_time": "2023-11-09T16:32:39.546300",
     "exception": false,
     "start_time": "2023-11-09T16:32:39.454670",
     "status": "completed"
    },
    "tags": []
   },
   "outputs": [],
   "source": [
    "joy.enroll(\"python\")"
   ]
  },
  {
   "cell_type": "code",
   "execution_count": 235,
   "id": "3ae481c8",
   "metadata": {
    "execution": {
     "iopub.execute_input": "2023-11-09T16:32:39.718194Z",
     "iopub.status.busy": "2023-11-09T16:32:39.717518Z",
     "iopub.status.idle": "2023-11-09T16:32:39.723155Z",
     "shell.execute_reply": "2023-11-09T16:32:39.722471Z"
    },
    "papermill": {
     "duration": 0.093554,
     "end_time": "2023-11-09T16:32:39.724927",
     "exception": false,
     "start_time": "2023-11-09T16:32:39.631373",
     "status": "completed"
    },
    "tags": []
   },
   "outputs": [
    {
     "data": {
      "text/plain": [
       "['python']"
      ]
     },
     "execution_count": 235,
     "metadata": {},
     "output_type": "execute_result"
    }
   ],
   "source": [
    "joy.courses"
   ]
  },
  {
   "cell_type": "code",
   "execution_count": 236,
   "id": "b0073701",
   "metadata": {
    "execution": {
     "iopub.execute_input": "2023-11-09T16:32:39.897889Z",
     "iopub.status.busy": "2023-11-09T16:32:39.896906Z",
     "iopub.status.idle": "2023-11-09T16:32:39.903396Z",
     "shell.execute_reply": "2023-11-09T16:32:39.902679Z"
    },
    "papermill": {
     "duration": 0.095752,
     "end_time": "2023-11-09T16:32:39.905217",
     "exception": false,
     "start_time": "2023-11-09T16:32:39.809465",
     "status": "completed"
    },
    "tags": []
   },
   "outputs": [
    {
     "data": {
      "text/plain": [
       "1"
      ]
     },
     "execution_count": 236,
     "metadata": {},
     "output_type": "execute_result"
    }
   ],
   "source": [
    "joy.total_course()"
   ]
  },
  {
   "cell_type": "code",
   "execution_count": 237,
   "id": "ba213e46",
   "metadata": {
    "execution": {
     "iopub.execute_input": "2023-11-09T16:32:40.072446Z",
     "iopub.status.busy": "2023-11-09T16:32:40.072115Z",
     "iopub.status.idle": "2023-11-09T16:32:40.078016Z",
     "shell.execute_reply": "2023-11-09T16:32:40.077262Z"
    },
    "papermill": {
     "duration": 0.091077,
     "end_time": "2023-11-09T16:32:40.079645",
     "exception": false,
     "start_time": "2023-11-09T16:32:39.988568",
     "status": "completed"
    },
    "tags": []
   },
   "outputs": [
    {
     "data": {
      "text/plain": [
       "['sql']"
      ]
     },
     "execution_count": 237,
     "metadata": {},
     "output_type": "execute_result"
    }
   ],
   "source": [
    "sw.courses"
   ]
  },
  {
   "cell_type": "code",
   "execution_count": 238,
   "id": "603dde23",
   "metadata": {
    "execution": {
     "iopub.execute_input": "2023-11-09T16:32:40.247567Z",
     "iopub.status.busy": "2023-11-09T16:32:40.246824Z",
     "iopub.status.idle": "2023-11-09T16:32:40.253520Z",
     "shell.execute_reply": "2023-11-09T16:32:40.251765Z"
    },
    "papermill": {
     "duration": 0.093043,
     "end_time": "2023-11-09T16:32:40.256196",
     "exception": false,
     "start_time": "2023-11-09T16:32:40.163153",
     "status": "completed"
    },
    "tags": []
   },
   "outputs": [
    {
     "data": {
      "text/plain": [
       "1"
      ]
     },
     "execution_count": 238,
     "metadata": {},
     "output_type": "execute_result"
    }
   ],
   "source": [
    "sw.total_course()"
   ]
  },
  {
   "cell_type": "code",
   "execution_count": 239,
   "id": "e7e75ea3",
   "metadata": {
    "execution": {
     "iopub.execute_input": "2023-11-09T16:32:40.496565Z",
     "iopub.status.busy": "2023-11-09T16:32:40.495987Z",
     "iopub.status.idle": "2023-11-09T16:32:40.502672Z",
     "shell.execute_reply": "2023-11-09T16:32:40.501340Z"
    },
    "papermill": {
     "duration": 0.098156,
     "end_time": "2023-11-09T16:32:40.505178",
     "exception": false,
     "start_time": "2023-11-09T16:32:40.407022",
     "status": "completed"
    },
    "tags": []
   },
   "outputs": [
    {
     "name": "stdout",
     "output_type": "stream",
     "text": [
      "the owner brand is TYT and number of doors is 6\n"
     ]
    }
   ],
   "source": [
    "class Vehicle :\n",
    "    \n",
    "    def __init__ (self,brand,model ):\n",
    "        self.brand = brand\n",
    "        self.model = model\n",
    "        \n",
    "    def info(self):\n",
    "        return f\"the owner brand is {self.brand}\"\n",
    "    \n",
    "    \n",
    "    \n",
    "class Toyato(Vehicle):\n",
    "    def __init__(self,brand,model,doors) : \n",
    "        super().__init__(brand,model)\n",
    "        self.doors= doors\n",
    "    def info(self):\n",
    "        return f\"{super().info()} and number of doors is {self.doors}\"\n",
    "    \n",
    "swapna = Toyato(\"TYT\",\"fortuner\",6)\n",
    "\n",
    "print(swapna.info())\n"
   ]
  },
  {
   "cell_type": "code",
   "execution_count": 240,
   "id": "22a837d3",
   "metadata": {
    "execution": {
     "iopub.execute_input": "2023-11-09T16:32:40.681763Z",
     "iopub.status.busy": "2023-11-09T16:32:40.681198Z",
     "iopub.status.idle": "2023-11-09T16:32:40.687522Z",
     "shell.execute_reply": "2023-11-09T16:32:40.686770Z"
    },
    "papermill": {
     "duration": 0.096764,
     "end_time": "2023-11-09T16:32:40.689458",
     "exception": false,
     "start_time": "2023-11-09T16:32:40.592694",
     "status": "completed"
    },
    "tags": []
   },
   "outputs": [
    {
     "name": "stdout",
     "output_type": "stream",
     "text": [
      "1\n",
      "1\n",
      "2\n",
      "3\n",
      "5\n",
      "8\n",
      "13\n",
      "21\n",
      "34\n",
      "55\n",
      "89\n",
      "144\n",
      "233\n"
     ]
    }
   ],
   "source": [
    "def fibonaci ()  :\n",
    "    a,b = 1,1\n",
    "    while True :\n",
    "        yield a \n",
    "        a,b = b, a+b # 2 3 \n",
    "        \n",
    "joy =  fibonaci()\n",
    "for i in range(13) :\n",
    "    print(next(joy))"
   ]
  },
  {
   "cell_type": "code",
   "execution_count": 241,
   "id": "6caed449",
   "metadata": {
    "execution": {
     "iopub.execute_input": "2023-11-09T16:32:40.864309Z",
     "iopub.status.busy": "2023-11-09T16:32:40.863578Z",
     "iopub.status.idle": "2023-11-09T16:32:40.869004Z",
     "shell.execute_reply": "2023-11-09T16:32:40.867585Z"
    },
    "papermill": {
     "duration": 0.096066,
     "end_time": "2023-11-09T16:32:40.871282",
     "exception": false,
     "start_time": "2023-11-09T16:32:40.775216",
     "status": "completed"
    },
    "tags": []
   },
   "outputs": [],
   "source": [
    "#poly morphism"
   ]
  },
  {
   "cell_type": "code",
   "execution_count": 242,
   "id": "a415827f",
   "metadata": {
    "execution": {
     "iopub.execute_input": "2023-11-09T16:32:41.051134Z",
     "iopub.status.busy": "2023-11-09T16:32:41.050559Z",
     "iopub.status.idle": "2023-11-09T16:32:41.057302Z",
     "shell.execute_reply": "2023-11-09T16:32:41.056108Z"
    },
    "papermill": {
     "duration": 0.101666,
     "end_time": "2023-11-09T16:32:41.059362",
     "exception": false,
     "start_time": "2023-11-09T16:32:40.957696",
     "status": "completed"
    },
    "tags": []
   },
   "outputs": [
    {
     "name": "stdout",
     "output_type": "stream",
     "text": [
      "catty\n",
      "doggy\n"
     ]
    }
   ],
   "source": [
    "class Animal() :\n",
    "    def speak(self) :\n",
    "        pass\n",
    "class Dog(Animal) :\n",
    "    def speak(self) :\n",
    "        return \"doggy\"\n",
    "class Cat(Animal) :\n",
    "    def speak( self) :\n",
    "        return \"catty\"\n",
    "    \n",
    "def sound(Animal) :\n",
    "    return    Animal.speak()\n",
    "\n",
    "dog = Dog()\n",
    "cat = Cat()\n",
    "\n",
    "print(sound(cat))\n",
    "print(sound(dog))"
   ]
  },
  {
   "cell_type": "code",
   "execution_count": 243,
   "id": "de287c88",
   "metadata": {
    "execution": {
     "iopub.execute_input": "2023-11-09T16:32:41.237266Z",
     "iopub.status.busy": "2023-11-09T16:32:41.235643Z",
     "iopub.status.idle": "2023-11-09T16:32:41.244757Z",
     "shell.execute_reply": "2023-11-09T16:32:41.243767Z"
    },
    "papermill": {
     "duration": 0.099593,
     "end_time": "2023-11-09T16:32:41.247266",
     "exception": false,
     "start_time": "2023-11-09T16:32:41.147673",
     "status": "completed"
    },
    "tags": []
   },
   "outputs": [
    {
     "name": "stdout",
     "output_type": "stream",
     "text": [
      "swa\n",
      "300\n",
      "ghosh\n",
      "300\n"
     ]
    }
   ],
   "source": [
    "class Student :\n",
    "    def __init__(self, name, rno) :\n",
    "        self.a = 10\n",
    "        self.__name = name\n",
    "        self._roll_no = rno\n",
    "        \n",
    "    def getname (self) :\n",
    "        return self.__name\n",
    "    def setname(self,name ) :\n",
    "        if len(name) >= 3 :\n",
    "            self.__name = name\n",
    "        else :\n",
    "            print(\"Name is too shot\")\n",
    "        \n",
    "    def display(self) :\n",
    "        print(self.__name)\n",
    "        print(self._roll_no)\n",
    "        \n",
    "swapna = Student(\"swa\",300)\n",
    "swapna.display()\n",
    "swapna.setname(\"ghosh\")\n",
    "swapna.display()\n"
   ]
  },
  {
   "cell_type": "code",
   "execution_count": 244,
   "id": "9b89fec3",
   "metadata": {
    "execution": {
     "iopub.execute_input": "2023-11-09T16:32:41.423023Z",
     "iopub.status.busy": "2023-11-09T16:32:41.422647Z",
     "iopub.status.idle": "2023-11-09T16:32:41.429875Z",
     "shell.execute_reply": "2023-11-09T16:32:41.428415Z"
    },
    "papermill": {
     "duration": 0.096775,
     "end_time": "2023-11-09T16:32:41.432444",
     "exception": false,
     "start_time": "2023-11-09T16:32:41.335669",
     "status": "completed"
    },
    "tags": []
   },
   "outputs": [
    {
     "data": {
      "text/plain": [
       "10"
      ]
     },
     "execution_count": 244,
     "metadata": {},
     "output_type": "execute_result"
    }
   ],
   "source": [
    "# swapna.__name\n",
    "swapna.a"
   ]
  },
  {
   "cell_type": "code",
   "execution_count": 245,
   "id": "00279538",
   "metadata": {
    "execution": {
     "iopub.execute_input": "2023-11-09T16:32:41.607446Z",
     "iopub.status.busy": "2023-11-09T16:32:41.606915Z",
     "iopub.status.idle": "2023-11-09T16:32:41.610303Z",
     "shell.execute_reply": "2023-11-09T16:32:41.609673Z"
    },
    "papermill": {
     "duration": 0.092609,
     "end_time": "2023-11-09T16:32:41.612032",
     "exception": false,
     "start_time": "2023-11-09T16:32:41.519423",
     "status": "completed"
    },
    "tags": []
   },
   "outputs": [],
   "source": [
    "# ##### Write a Python program that accepts a sequence of c\n",
    "# # omma-separated numbers from the user and generates a list and a tuple of those numbers.\n",
    "# # Sample data : 3, 5, 7, 23\n",
    "# ls = []\n",
    "# for i in range(4):\n",
    "#     a =int(input())\n",
    "#     ls.append(a)\n",
    "# print(f\"the required answer is {ls} and {tuple(ls)}\")"
   ]
  },
  {
   "cell_type": "code",
   "execution_count": 246,
   "id": "89cda12b",
   "metadata": {
    "execution": {
     "iopub.execute_input": "2023-11-09T16:32:41.787295Z",
     "iopub.status.busy": "2023-11-09T16:32:41.786810Z",
     "iopub.status.idle": "2023-11-09T16:32:41.790960Z",
     "shell.execute_reply": "2023-11-09T16:32:41.789469Z"
    },
    "papermill": {
     "duration": 0.094324,
     "end_time": "2023-11-09T16:32:41.793455",
     "exception": false,
     "start_time": "2023-11-09T16:32:41.699131",
     "status": "completed"
    },
    "tags": []
   },
   "outputs": [],
   "source": [
    "# Write a Python program to display the examination schedule. \n",
    "# (extract the date from exam_st_date).\n",
    "# exam_st_date = (11, 12, 2014)\n",
    "# Sample Output : The examination will start from : 11 / 12 / 2014"
   ]
  },
  {
   "cell_type": "code",
   "execution_count": 247,
   "id": "2254579b",
   "metadata": {
    "execution": {
     "iopub.execute_input": "2023-11-09T16:32:41.966453Z",
     "iopub.status.busy": "2023-11-09T16:32:41.966088Z",
     "iopub.status.idle": "2023-11-09T16:32:41.972358Z",
     "shell.execute_reply": "2023-11-09T16:32:41.970759Z"
    },
    "papermill": {
     "duration": 0.095822,
     "end_time": "2023-11-09T16:32:41.974758",
     "exception": false,
     "start_time": "2023-11-09T16:32:41.878936",
     "status": "completed"
    },
    "tags": []
   },
   "outputs": [
    {
     "name": "stdout",
     "output_type": "stream",
     "text": [
      "The examination will start from : 6/5/ 2023\n"
     ]
    }
   ],
   "source": [
    "exam_st_date = (6, 5, 2023)\n",
    "for i in range(1):\n",
    "    print(f\"The examination will start from : {exam_st_date[i] }/{ exam_st_date[i+1] }/ {exam_st_date[i+2]}\")"
   ]
  },
  {
   "cell_type": "code",
   "execution_count": 248,
   "id": "19fcec19",
   "metadata": {
    "execution": {
     "iopub.execute_input": "2023-11-09T16:32:42.150692Z",
     "iopub.status.busy": "2023-11-09T16:32:42.149566Z",
     "iopub.status.idle": "2023-11-09T16:32:42.155253Z",
     "shell.execute_reply": "2023-11-09T16:32:42.154340Z"
    },
    "papermill": {
     "duration": 0.095863,
     "end_time": "2023-11-09T16:32:42.157161",
     "exception": false,
     "start_time": "2023-11-09T16:32:42.061298",
     "status": "completed"
    },
    "tags": []
   },
   "outputs": [
    {
     "name": "stdout",
     "output_type": "stream",
     "text": [
      "score of a is 10 score of b is  20\n",
      "score of a is 10 score of b is 20\n"
     ]
    }
   ],
   "source": [
    "a = 10\n",
    "b = 20\n",
    "\n",
    "print(\"score of a is\",a, \"score of b is \",b)\n",
    "print(f\"score of a is {a} score of b is {b}\")"
   ]
  },
  {
   "cell_type": "code",
   "execution_count": 249,
   "id": "6e518c9d",
   "metadata": {
    "execution": {
     "iopub.execute_input": "2023-11-09T16:32:42.333019Z",
     "iopub.status.busy": "2023-11-09T16:32:42.332672Z",
     "iopub.status.idle": "2023-11-09T16:32:42.336768Z",
     "shell.execute_reply": "2023-11-09T16:32:42.335851Z"
    },
    "papermill": {
     "duration": 0.095717,
     "end_time": "2023-11-09T16:32:42.339000",
     "exception": false,
     "start_time": "2023-11-09T16:32:42.243283",
     "status": "completed"
    },
    "tags": []
   },
   "outputs": [],
   "source": [
    "# # Sample data : 3, 5, 7, 23\n",
    "# ls = []\n",
    "# for i in range(1):\n",
    "#     a =input()\n",
    "#     ls.append(a)\n",
    "# print(f\"the required answer is {ls} and {tuple(ls)}\")"
   ]
  },
  {
   "cell_type": "code",
   "execution_count": 250,
   "id": "2c115b15",
   "metadata": {
    "execution": {
     "iopub.execute_input": "2023-11-09T16:32:42.512525Z",
     "iopub.status.busy": "2023-11-09T16:32:42.511711Z",
     "iopub.status.idle": "2023-11-09T16:32:42.518010Z",
     "shell.execute_reply": "2023-11-09T16:32:42.516798Z"
    },
    "papermill": {
     "duration": 0.095895,
     "end_time": "2023-11-09T16:32:42.519916",
     "exception": false,
     "start_time": "2023-11-09T16:32:42.424021",
     "status": "completed"
    },
    "tags": []
   },
   "outputs": [
    {
     "data": {
      "text/plain": [
       "['my name ', ' mlv prasad and ', ' am a good boy']"
      ]
     },
     "execution_count": 250,
     "metadata": {},
     "output_type": "execute_result"
    }
   ],
   "source": [
    "a = \"my name is mlv prasad and is am a good boy\"\n",
    "b = a.split(\"is\")\n",
    "b"
   ]
  },
  {
   "cell_type": "code",
   "execution_count": 251,
   "id": "ac338486",
   "metadata": {
    "execution": {
     "iopub.execute_input": "2023-11-09T16:32:42.692153Z",
     "iopub.status.busy": "2023-11-09T16:32:42.691598Z",
     "iopub.status.idle": "2023-11-09T16:32:42.696263Z",
     "shell.execute_reply": "2023-11-09T16:32:42.695500Z"
    },
    "papermill": {
     "duration": 0.093492,
     "end_time": "2023-11-09T16:32:42.698728",
     "exception": false,
     "start_time": "2023-11-09T16:32:42.605236",
     "status": "completed"
    },
    "tags": []
   },
   "outputs": [
    {
     "name": "stdout",
     "output_type": "stream",
     "text": [
      "                * \n",
      "            * * * \n",
      "        * * * * * \n",
      "    * * * * * * * \n",
      "* * * * * * * * * \n"
     ]
    }
   ],
   "source": [
    "for i in range(5):\n",
    "    print(\"  \"*(2*(4-i)),end=\"\")\n",
    "    print(\"* \"* ( (2*i)+1) )\n",
    "    "
   ]
  },
  {
   "cell_type": "code",
   "execution_count": 252,
   "id": "86b30d36",
   "metadata": {
    "execution": {
     "iopub.execute_input": "2023-11-09T16:32:42.870937Z",
     "iopub.status.busy": "2023-11-09T16:32:42.870513Z",
     "iopub.status.idle": "2023-11-09T16:32:42.879224Z",
     "shell.execute_reply": "2023-11-09T16:32:42.877865Z"
    },
    "papermill": {
     "duration": 0.097431,
     "end_time": "2023-11-09T16:32:42.881876",
     "exception": false,
     "start_time": "2023-11-09T16:32:42.784445",
     "status": "completed"
    },
    "tags": []
   },
   "outputs": [
    {
     "name": "stdout",
     "output_type": "stream",
     "text": [
      "45\n",
      "12\n"
     ]
    }
   ],
   "source": [
    "#                 * \n",
    "#             * * * \n",
    "#         * * * * * \n",
    "#     * * * * * * * \n",
    "# * * * * * * * * * \n",
    "\n",
    "from abc import ABC , abstractmethod\n",
    "\n",
    "class mlv(ABC):\n",
    "    @abstractmethod\n",
    "    def marks(self) :\n",
    "        pass\n",
    "#     @abstractmethod \n",
    "#     def classes(self) :\n",
    "#         pass\n",
    "    \n",
    "class Mentor(mlv) :\n",
    "    def __init__(self,teach):\n",
    "        self.teach = teach\n",
    "        \n",
    "    def marks(self) :\n",
    "        return 9 * self.teach\n",
    "    \n",
    "    \n",
    "class Instructor(mlv) :\n",
    "    def __init__(self,cltime, months) :\n",
    "        self.cltime = cltime\n",
    "        self.month = months\n",
    "        \n",
    "    def marks(self) :\n",
    "        return self.cltime * self.month\n",
    "c1 = Mentor(5)\n",
    "c2 = Instructor(4,3)\n",
    "shapes = [c1, c2]\n",
    "for c3 in shapes :\n",
    "    print(c3.marks())"
   ]
  },
  {
   "cell_type": "code",
   "execution_count": null,
   "id": "117a0da6",
   "metadata": {
    "papermill": {
     "duration": 0.085164,
     "end_time": "2023-11-09T16:32:43.053151",
     "exception": false,
     "start_time": "2023-11-09T16:32:42.967987",
     "status": "completed"
    },
    "tags": []
   },
   "outputs": [],
   "source": []
  },
  {
   "cell_type": "code",
   "execution_count": null,
   "id": "3736d41a",
   "metadata": {
    "papermill": {
     "duration": 0.086279,
     "end_time": "2023-11-09T16:32:43.225657",
     "exception": false,
     "start_time": "2023-11-09T16:32:43.139378",
     "status": "completed"
    },
    "tags": []
   },
   "outputs": [],
   "source": []
  },
  {
   "cell_type": "code",
   "execution_count": null,
   "id": "4484e412",
   "metadata": {
    "papermill": {
     "duration": 0.085754,
     "end_time": "2023-11-09T16:32:43.399761",
     "exception": false,
     "start_time": "2023-11-09T16:32:43.314007",
     "status": "completed"
    },
    "tags": []
   },
   "outputs": [],
   "source": []
  },
  {
   "cell_type": "code",
   "execution_count": 253,
   "id": "c93109ed",
   "metadata": {
    "execution": {
     "iopub.execute_input": "2023-11-09T16:32:43.572480Z",
     "iopub.status.busy": "2023-11-09T16:32:43.572135Z",
     "iopub.status.idle": "2023-11-09T16:32:43.577146Z",
     "shell.execute_reply": "2023-11-09T16:32:43.576043Z"
    },
    "papermill": {
     "duration": 0.094549,
     "end_time": "2023-11-09T16:32:43.579458",
     "exception": false,
     "start_time": "2023-11-09T16:32:43.484909",
     "status": "completed"
    },
    "tags": []
   },
   "outputs": [],
   "source": [
    "a = \"english\"\n",
    "\n",
    "b = \"hsilgne\"\n",
    "\n",
    "\n",
    "c = \"malayalam\"\n",
    "d = \"malayalam\"\n",
    "\n",
    "# palindrome"
   ]
  },
  {
   "cell_type": "code",
   "execution_count": 254,
   "id": "b6353715",
   "metadata": {
    "execution": {
     "iopub.execute_input": "2023-11-09T16:32:43.809066Z",
     "iopub.status.busy": "2023-11-09T16:32:43.808593Z",
     "iopub.status.idle": "2023-11-09T16:32:43.815569Z",
     "shell.execute_reply": "2023-11-09T16:32:43.814692Z"
    },
    "papermill": {
     "duration": 0.093068,
     "end_time": "2023-11-09T16:32:43.817362",
     "exception": false,
     "start_time": "2023-11-09T16:32:43.724294",
     "status": "completed"
    },
    "tags": []
   },
   "outputs": [
    {
     "data": {
      "text/plain": [
       "['c', 'b', 'a']"
      ]
     },
     "execution_count": 254,
     "metadata": {},
     "output_type": "execute_result"
    }
   ],
   "source": [
    "a = [\"a\",\"b\",\"c\"]\n",
    "b = a[::-1]\n",
    "b"
   ]
  },
  {
   "cell_type": "code",
   "execution_count": 255,
   "id": "a1eaaecb",
   "metadata": {
    "execution": {
     "iopub.execute_input": "2023-11-09T16:32:43.989284Z",
     "iopub.status.busy": "2023-11-09T16:32:43.988921Z",
     "iopub.status.idle": "2023-11-09T16:32:43.995583Z",
     "shell.execute_reply": "2023-11-09T16:32:43.994671Z"
    },
    "papermill": {
     "duration": 0.095334,
     "end_time": "2023-11-09T16:32:43.998001",
     "exception": false,
     "start_time": "2023-11-09T16:32:43.902667",
     "status": "completed"
    },
    "tags": []
   },
   "outputs": [
    {
     "data": {
      "text/plain": [
       "'dasarp'"
      ]
     },
     "execution_count": 255,
     "metadata": {},
     "output_type": "execute_result"
    }
   ],
   "source": [
    "c = \"prasad\"\n",
    "c[::-1]"
   ]
  },
  {
   "cell_type": "code",
   "execution_count": 256,
   "id": "130fde46",
   "metadata": {
    "execution": {
     "iopub.execute_input": "2023-11-09T16:32:44.176467Z",
     "iopub.status.busy": "2023-11-09T16:32:44.175164Z",
     "iopub.status.idle": "2023-11-09T16:32:44.180311Z",
     "shell.execute_reply": "2023-11-09T16:32:44.179237Z"
    },
    "papermill": {
     "duration": 0.096138,
     "end_time": "2023-11-09T16:32:44.182200",
     "exception": false,
     "start_time": "2023-11-09T16:32:44.086062",
     "status": "completed"
    },
    "tags": []
   },
   "outputs": [],
   "source": [
    "\n",
    "\n",
    "# a  = input()\n",
    "# b = a[::-1]\n",
    "\n",
    "\n",
    "# if a == b :\n",
    "#     print(\"palindrome\")\n",
    "# else :\n",
    "#     print(\"not a palindrome\")"
   ]
  },
  {
   "cell_type": "code",
   "execution_count": 257,
   "id": "b139a47a",
   "metadata": {
    "execution": {
     "iopub.execute_input": "2023-11-09T16:32:44.356907Z",
     "iopub.status.busy": "2023-11-09T16:32:44.356289Z",
     "iopub.status.idle": "2023-11-09T16:32:44.363189Z",
     "shell.execute_reply": "2023-11-09T16:32:44.361800Z"
    },
    "papermill": {
     "duration": 0.098113,
     "end_time": "2023-11-09T16:32:44.365695",
     "exception": false,
     "start_time": "2023-11-09T16:32:44.267582",
     "status": "completed"
    },
    "tags": []
   },
   "outputs": [
    {
     "data": {
      "text/plain": [
       "'mentor a is prasad mlv'"
      ]
     },
     "execution_count": 257,
     "metadata": {},
     "output_type": "execute_result"
    }
   ],
   "source": [
    "a = \"mlv prasad is a mentor\"\n",
    "\n",
    "# b = \"mentor a is prasad mlv\"\n",
    "b = a.split()\n",
    "c = b[::-1]\n",
    "c\n",
    "\n",
    "d =  \" \".join(c)\n",
    "d"
   ]
  },
  {
   "cell_type": "code",
   "execution_count": 258,
   "id": "5bf27cdd",
   "metadata": {
    "execution": {
     "iopub.execute_input": "2023-11-09T16:32:44.560847Z",
     "iopub.status.busy": "2023-11-09T16:32:44.560465Z",
     "iopub.status.idle": "2023-11-09T16:32:44.568184Z",
     "shell.execute_reply": "2023-11-09T16:32:44.566548Z"
    },
    "papermill": {
     "duration": 0.113665,
     "end_time": "2023-11-09T16:32:44.570146",
     "exception": false,
     "start_time": "2023-11-09T16:32:44.456481",
     "status": "completed"
    },
    "tags": []
   },
   "outputs": [
    {
     "data": {
      "text/plain": [
       "['mlv', 'prasad', 'is', 'a', 'mentor']"
      ]
     },
     "execution_count": 258,
     "metadata": {},
     "output_type": "execute_result"
    }
   ],
   "source": [
    "a = \"mlv prasad is a mentor\"\n",
    "\n",
    "# b = \"mentor a is prasad mlv\"\n",
    "b = a.split()\n",
    "b "
   ]
  },
  {
   "cell_type": "code",
   "execution_count": 259,
   "id": "1e626acd",
   "metadata": {
    "execution": {
     "iopub.execute_input": "2023-11-09T16:32:44.747008Z",
     "iopub.status.busy": "2023-11-09T16:32:44.746410Z",
     "iopub.status.idle": "2023-11-09T16:32:44.751239Z",
     "shell.execute_reply": "2023-11-09T16:32:44.750037Z"
    },
    "papermill": {
     "duration": 0.094275,
     "end_time": "2023-11-09T16:32:44.753375",
     "exception": false,
     "start_time": "2023-11-09T16:32:44.659100",
     "status": "completed"
    },
    "tags": []
   },
   "outputs": [
    {
     "name": "stdout",
     "output_type": "stream",
     "text": [
      "the student name is  swapna and she is a  good student\n"
     ]
    }
   ],
   "source": [
    "a = \"swapna\"\n",
    "print(\"the student name is \", a,\"and she is a  good student\")"
   ]
  },
  {
   "cell_type": "code",
   "execution_count": 260,
   "id": "8a1515f9",
   "metadata": {
    "execution": {
     "iopub.execute_input": "2023-11-09T16:32:44.929165Z",
     "iopub.status.busy": "2023-11-09T16:32:44.928752Z",
     "iopub.status.idle": "2023-11-09T16:32:44.935360Z",
     "shell.execute_reply": "2023-11-09T16:32:44.933899Z"
    },
    "papermill": {
     "duration": 0.097635,
     "end_time": "2023-11-09T16:32:44.937742",
     "exception": false,
     "start_time": "2023-11-09T16:32:44.840107",
     "status": "completed"
    },
    "tags": []
   },
   "outputs": [
    {
     "name": "stdout",
     "output_type": "stream",
     "text": [
      "the student name is  swapna  and she is a  good student\n"
     ]
    }
   ],
   "source": [
    "print(f\"the student name is  {a}  and she is a  good student\")"
   ]
  },
  {
   "cell_type": "code",
   "execution_count": 261,
   "id": "ec2e80d3",
   "metadata": {
    "execution": {
     "iopub.execute_input": "2023-11-09T16:32:45.117177Z",
     "iopub.status.busy": "2023-11-09T16:32:45.116833Z",
     "iopub.status.idle": "2023-11-09T16:32:45.122802Z",
     "shell.execute_reply": "2023-11-09T16:32:45.120665Z"
    },
    "papermill": {
     "duration": 0.098559,
     "end_time": "2023-11-09T16:32:45.125966",
     "exception": false,
     "start_time": "2023-11-09T16:32:45.027407",
     "status": "completed"
    },
    "tags": []
   },
   "outputs": [
    {
     "name": "stdout",
     "output_type": "stream",
     "text": [
      "the student name is  swapna  and she is a  good student\n"
     ]
    }
   ],
   "source": [
    "txt = \"the student name is  {}  and she is a  good student\"\n",
    "print(txt.format(a))"
   ]
  },
  {
   "cell_type": "code",
   "execution_count": 262,
   "id": "82447f4a",
   "metadata": {
    "execution": {
     "iopub.execute_input": "2023-11-09T16:32:45.304394Z",
     "iopub.status.busy": "2023-11-09T16:32:45.304044Z",
     "iopub.status.idle": "2023-11-09T16:32:45.309520Z",
     "shell.execute_reply": "2023-11-09T16:32:45.307665Z"
    },
    "papermill": {
     "duration": 0.098583,
     "end_time": "2023-11-09T16:32:45.312769",
     "exception": false,
     "start_time": "2023-11-09T16:32:45.214186",
     "status": "completed"
    },
    "tags": []
   },
   "outputs": [],
   "source": [
    "# 9. Write a Python program to display the examination schedule. (extract the date from exam_st_date).\n",
    "# exam_st_date = (11, 12, 2014)\n",
    "# Sample Output : The examination will start from : 11 / 12 / 2014\n",
    "\n",
    "\n",
    "# 10. Write a Python program that accepts an integer (n) and computes the value of n+nn+nnn.\n",
    "# Sample value of n is 5\n",
    "# Expected Result : 615\n",
    "\n",
    "# 11. Write a Python program to print the documents (syntax, description etc.) of Python built-in function(s).\n",
    "# Sample function : abs()\n",
    "# Expected Result :\n",
    "# abs(number) -> number\n",
    "# Return the absolute value of the argument."
   ]
  },
  {
   "cell_type": "code",
   "execution_count": 263,
   "id": "9b9c8512",
   "metadata": {
    "execution": {
     "iopub.execute_input": "2023-11-09T16:32:45.485042Z",
     "iopub.status.busy": "2023-11-09T16:32:45.484741Z",
     "iopub.status.idle": "2023-11-09T16:32:45.489244Z",
     "shell.execute_reply": "2023-11-09T16:32:45.488399Z"
    },
    "papermill": {
     "duration": 0.092163,
     "end_time": "2023-11-09T16:32:45.491021",
     "exception": false,
     "start_time": "2023-11-09T16:32:45.398858",
     "status": "completed"
    },
    "tags": []
   },
   "outputs": [
    {
     "name": "stdout",
     "output_type": "stream",
     "text": [
      "Sample Output : The examination will start from : 15 / 3 / 2022\n"
     ]
    }
   ],
   "source": [
    "exam_st_date = (15, 3, 2022)\n",
    "a, b ,c = exam_st_date \n",
    "print(f\"Sample Output : The examination will start from : {a} / {b} / {c}\")"
   ]
  },
  {
   "cell_type": "code",
   "execution_count": 264,
   "id": "8e2197af",
   "metadata": {
    "execution": {
     "iopub.execute_input": "2023-11-09T16:32:45.664509Z",
     "iopub.status.busy": "2023-11-09T16:32:45.664158Z",
     "iopub.status.idle": "2023-11-09T16:32:45.673907Z",
     "shell.execute_reply": "2023-11-09T16:32:45.672404Z"
    },
    "papermill": {
     "duration": 0.100052,
     "end_time": "2023-11-09T16:32:45.675870",
     "exception": false,
     "start_time": "2023-11-09T16:32:45.575818",
     "status": "completed"
    },
    "tags": []
   },
   "outputs": [
    {
     "name": "stdout",
     "output_type": "stream",
     "text": [
      "7\n",
      "77\n",
      "777\n"
     ]
    },
    {
     "data": {
      "text/plain": [
       "861"
      ]
     },
     "execution_count": 264,
     "metadata": {},
     "output_type": "execute_result"
    }
   ],
   "source": [
    "# 10. Write a Python program that accepts an integer (n) and computes the value of n+nn+nnn.\n",
    "# Sample value of n is 5\n",
    "# Expected Result : 615\n",
    "\n",
    "\n",
    "# 7 \n",
    "\n",
    "# 7 + 77 + 777\n",
    "\n",
    "n = 7 \n",
    "sum = 0\n",
    "for i in range(3):\n",
    "    a  = str(7)*(i+1)\n",
    "    print(a)\n",
    "    sum = sum + int(a)\n",
    "    \n",
    "sum    "
   ]
  },
  {
   "cell_type": "code",
   "execution_count": 265,
   "id": "4a9d4dca",
   "metadata": {
    "execution": {
     "iopub.execute_input": "2023-11-09T16:32:45.850795Z",
     "iopub.status.busy": "2023-11-09T16:32:45.850354Z",
     "iopub.status.idle": "2023-11-09T16:32:45.855597Z",
     "shell.execute_reply": "2023-11-09T16:32:45.854323Z"
    },
    "papermill": {
     "duration": 0.097139,
     "end_time": "2023-11-09T16:32:45.858026",
     "exception": false,
     "start_time": "2023-11-09T16:32:45.760887",
     "status": "completed"
    },
    "tags": []
   },
   "outputs": [],
   "source": [
    "# 7 + 77 + 777"
   ]
  },
  {
   "cell_type": "code",
   "execution_count": 266,
   "id": "0bf19551",
   "metadata": {
    "execution": {
     "iopub.execute_input": "2023-11-09T16:32:46.032328Z",
     "iopub.status.busy": "2023-11-09T16:32:46.031938Z",
     "iopub.status.idle": "2023-11-09T16:32:46.036661Z",
     "shell.execute_reply": "2023-11-09T16:32:46.036050Z"
    },
    "papermill": {
     "duration": 0.093846,
     "end_time": "2023-11-09T16:32:46.038692",
     "exception": false,
     "start_time": "2023-11-09T16:32:45.944846",
     "status": "completed"
    },
    "tags": []
   },
   "outputs": [
    {
     "name": "stdout",
     "output_type": "stream",
     "text": [
      "Help on built-in function abs in module builtins:\n",
      "\n",
      "abs(x, /)\n",
      "    Return the absolute value of the argument.\n",
      "\n"
     ]
    }
   ],
   "source": [
    "help(abs)"
   ]
  },
  {
   "cell_type": "code",
   "execution_count": 267,
   "id": "cd03b3df",
   "metadata": {
    "execution": {
     "iopub.execute_input": "2023-11-09T16:32:46.214930Z",
     "iopub.status.busy": "2023-11-09T16:32:46.214560Z",
     "iopub.status.idle": "2023-11-09T16:32:46.237487Z",
     "shell.execute_reply": "2023-11-09T16:32:46.235771Z"
    },
    "papermill": {
     "duration": 0.114133,
     "end_time": "2023-11-09T16:32:46.240519",
     "exception": false,
     "start_time": "2023-11-09T16:32:46.126386",
     "status": "completed"
    },
    "tags": []
   },
   "outputs": [
    {
     "name": "stdout",
     "output_type": "stream",
     "text": [
      "Help on class str in module builtins:\n",
      "\n",
      "class str(object)\n",
      " |  str(object='') -> str\n",
      " |  str(bytes_or_buffer[, encoding[, errors]]) -> str\n",
      " |  \n",
      " |  Create a new string object from the given object. If encoding or\n",
      " |  errors is specified, then the object must expose a data buffer\n",
      " |  that will be decoded using the given encoding and error handler.\n",
      " |  Otherwise, returns the result of object.__str__() (if defined)\n",
      " |  or repr(object).\n",
      " |  encoding defaults to sys.getdefaultencoding().\n",
      " |  errors defaults to 'strict'.\n",
      " |  \n",
      " |  Methods defined here:\n",
      " |  \n",
      " |  __add__(self, value, /)\n",
      " |      Return self+value.\n",
      " |  \n",
      " |  __contains__(self, key, /)\n",
      " |      Return key in self.\n",
      " |  \n",
      " |  __eq__(self, value, /)\n",
      " |      Return self==value.\n",
      " |  \n",
      " |  __format__(self, format_spec, /)\n",
      " |      Return a formatted version of the string as described by format_spec.\n",
      " |  \n",
      " |  __ge__(self, value, /)\n",
      " |      Return self>=value.\n",
      " |  \n",
      " |  __getattribute__(self, name, /)\n",
      " |      Return getattr(self, name).\n",
      " |  \n",
      " |  __getitem__(self, key, /)\n",
      " |      Return self[key].\n",
      " |  \n",
      " |  __getnewargs__(...)\n",
      " |  \n",
      " |  __gt__(self, value, /)\n",
      " |      Return self>value.\n",
      " |  \n",
      " |  __hash__(self, /)\n",
      " |      Return hash(self).\n",
      " |  \n",
      " |  __iter__(self, /)\n",
      " |      Implement iter(self).\n",
      " |  \n",
      " |  __le__(self, value, /)\n",
      " |      Return self<=value.\n",
      " |  \n",
      " |  __len__(self, /)\n",
      " |      Return len(self).\n",
      " |  \n",
      " |  __lt__(self, value, /)\n",
      " |      Return self<value.\n",
      " |  \n",
      " |  __mod__(self, value, /)\n",
      " |      Return self%value.\n",
      " |  \n",
      " |  __mul__(self, value, /)\n",
      " |      Return self*value.\n",
      " |  \n",
      " |  __ne__(self, value, /)\n",
      " |      Return self!=value.\n",
      " |  \n",
      " |  __repr__(self, /)\n",
      " |      Return repr(self).\n",
      " |  \n",
      " |  __rmod__(self, value, /)\n",
      " |      Return value%self.\n",
      " |  \n",
      " |  __rmul__(self, value, /)\n",
      " |      Return value*self.\n",
      " |  \n",
      " |  __sizeof__(self, /)\n",
      " |      Return the size of the string in memory, in bytes.\n",
      " |  \n",
      " |  __str__(self, /)\n",
      " |      Return str(self).\n",
      " |  \n",
      " |  capitalize(self, /)\n",
      " |      Return a capitalized version of the string.\n",
      " |      \n",
      " |      More specifically, make the first character have upper case and the rest lower\n",
      " |      case.\n",
      " |  \n",
      " |  casefold(self, /)\n",
      " |      Return a version of the string suitable for caseless comparisons.\n",
      " |  \n",
      " |  center(self, width, fillchar=' ', /)\n",
      " |      Return a centered string of length width.\n",
      " |      \n",
      " |      Padding is done using the specified fill character (default is a space).\n",
      " |  \n",
      " |  count(...)\n",
      " |      S.count(sub[, start[, end]]) -> int\n",
      " |      \n",
      " |      Return the number of non-overlapping occurrences of substring sub in\n",
      " |      string S[start:end].  Optional arguments start and end are\n",
      " |      interpreted as in slice notation.\n",
      " |  \n",
      " |  encode(self, /, encoding='utf-8', errors='strict')\n",
      " |      Encode the string using the codec registered for encoding.\n",
      " |      \n",
      " |      encoding\n",
      " |        The encoding in which to encode the string.\n",
      " |      errors\n",
      " |        The error handling scheme to use for encoding errors.\n",
      " |        The default is 'strict' meaning that encoding errors raise a\n",
      " |        UnicodeEncodeError.  Other possible values are 'ignore', 'replace' and\n",
      " |        'xmlcharrefreplace' as well as any other name registered with\n",
      " |        codecs.register_error that can handle UnicodeEncodeErrors.\n",
      " |  \n",
      " |  endswith(...)\n",
      " |      S.endswith(suffix[, start[, end]]) -> bool\n",
      " |      \n",
      " |      Return True if S ends with the specified suffix, False otherwise.\n",
      " |      With optional start, test S beginning at that position.\n",
      " |      With optional end, stop comparing S at that position.\n",
      " |      suffix can also be a tuple of strings to try.\n",
      " |  \n",
      " |  expandtabs(self, /, tabsize=8)\n",
      " |      Return a copy where all tab characters are expanded using spaces.\n",
      " |      \n",
      " |      If tabsize is not given, a tab size of 8 characters is assumed.\n",
      " |  \n",
      " |  find(...)\n",
      " |      S.find(sub[, start[, end]]) -> int\n",
      " |      \n",
      " |      Return the lowest index in S where substring sub is found,\n",
      " |      such that sub is contained within S[start:end].  Optional\n",
      " |      arguments start and end are interpreted as in slice notation.\n",
      " |      \n",
      " |      Return -1 on failure.\n",
      " |  \n",
      " |  format(...)\n",
      " |      S.format(*args, **kwargs) -> str\n",
      " |      \n",
      " |      Return a formatted version of S, using substitutions from args and kwargs.\n",
      " |      The substitutions are identified by braces ('{' and '}').\n",
      " |  \n",
      " |  format_map(...)\n",
      " |      S.format_map(mapping) -> str\n",
      " |      \n",
      " |      Return a formatted version of S, using substitutions from mapping.\n",
      " |      The substitutions are identified by braces ('{' and '}').\n",
      " |  \n",
      " |  index(...)\n",
      " |      S.index(sub[, start[, end]]) -> int\n",
      " |      \n",
      " |      Return the lowest index in S where substring sub is found,\n",
      " |      such that sub is contained within S[start:end].  Optional\n",
      " |      arguments start and end are interpreted as in slice notation.\n",
      " |      \n",
      " |      Raises ValueError when the substring is not found.\n",
      " |  \n",
      " |  isalnum(self, /)\n",
      " |      Return True if the string is an alpha-numeric string, False otherwise.\n",
      " |      \n",
      " |      A string is alpha-numeric if all characters in the string are alpha-numeric and\n",
      " |      there is at least one character in the string.\n",
      " |  \n",
      " |  isalpha(self, /)\n",
      " |      Return True if the string is an alphabetic string, False otherwise.\n",
      " |      \n",
      " |      A string is alphabetic if all characters in the string are alphabetic and there\n",
      " |      is at least one character in the string.\n",
      " |  \n",
      " |  isascii(self, /)\n",
      " |      Return True if all characters in the string are ASCII, False otherwise.\n",
      " |      \n",
      " |      ASCII characters have code points in the range U+0000-U+007F.\n",
      " |      Empty string is ASCII too.\n",
      " |  \n",
      " |  isdecimal(self, /)\n",
      " |      Return True if the string is a decimal string, False otherwise.\n",
      " |      \n",
      " |      A string is a decimal string if all characters in the string are decimal and\n",
      " |      there is at least one character in the string.\n",
      " |  \n",
      " |  isdigit(self, /)\n",
      " |      Return True if the string is a digit string, False otherwise.\n",
      " |      \n",
      " |      A string is a digit string if all characters in the string are digits and there\n",
      " |      is at least one character in the string.\n",
      " |  \n",
      " |  isidentifier(self, /)\n",
      " |      Return True if the string is a valid Python identifier, False otherwise.\n",
      " |      \n",
      " |      Call keyword.iskeyword(s) to test whether string s is a reserved identifier,\n",
      " |      such as \"def\" or \"class\".\n",
      " |  \n",
      " |  islower(self, /)\n",
      " |      Return True if the string is a lowercase string, False otherwise.\n",
      " |      \n",
      " |      A string is lowercase if all cased characters in the string are lowercase and\n",
      " |      there is at least one cased character in the string.\n",
      " |  \n",
      " |  isnumeric(self, /)\n",
      " |      Return True if the string is a numeric string, False otherwise.\n",
      " |      \n",
      " |      A string is numeric if all characters in the string are numeric and there is at\n",
      " |      least one character in the string.\n",
      " |  \n",
      " |  isprintable(self, /)\n",
      " |      Return True if the string is printable, False otherwise.\n",
      " |      \n",
      " |      A string is printable if all of its characters are considered printable in\n",
      " |      repr() or if it is empty.\n",
      " |  \n",
      " |  isspace(self, /)\n",
      " |      Return True if the string is a whitespace string, False otherwise.\n",
      " |      \n",
      " |      A string is whitespace if all characters in the string are whitespace and there\n",
      " |      is at least one character in the string.\n",
      " |  \n",
      " |  istitle(self, /)\n",
      " |      Return True if the string is a title-cased string, False otherwise.\n",
      " |      \n",
      " |      In a title-cased string, upper- and title-case characters may only\n",
      " |      follow uncased characters and lowercase characters only cased ones.\n",
      " |  \n",
      " |  isupper(self, /)\n",
      " |      Return True if the string is an uppercase string, False otherwise.\n",
      " |      \n",
      " |      A string is uppercase if all cased characters in the string are uppercase and\n",
      " |      there is at least one cased character in the string.\n",
      " |  \n",
      " |  join(self, iterable, /)\n",
      " |      Concatenate any number of strings.\n",
      " |      \n",
      " |      The string whose method is called is inserted in between each given string.\n",
      " |      The result is returned as a new string.\n",
      " |      \n",
      " |      Example: '.'.join(['ab', 'pq', 'rs']) -> 'ab.pq.rs'\n",
      " |  \n",
      " |  ljust(self, width, fillchar=' ', /)\n",
      " |      Return a left-justified string of length width.\n",
      " |      \n",
      " |      Padding is done using the specified fill character (default is a space).\n",
      " |  \n",
      " |  lower(self, /)\n",
      " |      Return a copy of the string converted to lowercase.\n",
      " |  \n",
      " |  lstrip(self, chars=None, /)\n",
      " |      Return a copy of the string with leading whitespace removed.\n",
      " |      \n",
      " |      If chars is given and not None, remove characters in chars instead.\n",
      " |  \n",
      " |  partition(self, sep, /)\n",
      " |      Partition the string into three parts using the given separator.\n",
      " |      \n",
      " |      This will search for the separator in the string.  If the separator is found,\n",
      " |      returns a 3-tuple containing the part before the separator, the separator\n",
      " |      itself, and the part after it.\n",
      " |      \n",
      " |      If the separator is not found, returns a 3-tuple containing the original string\n",
      " |      and two empty strings.\n",
      " |  \n",
      " |  removeprefix(self, prefix, /)\n",
      " |      Return a str with the given prefix string removed if present.\n",
      " |      \n",
      " |      If the string starts with the prefix string, return string[len(prefix):].\n",
      " |      Otherwise, return a copy of the original string.\n",
      " |  \n",
      " |  removesuffix(self, suffix, /)\n",
      " |      Return a str with the given suffix string removed if present.\n",
      " |      \n",
      " |      If the string ends with the suffix string and that suffix is not empty,\n",
      " |      return string[:-len(suffix)]. Otherwise, return a copy of the original\n",
      " |      string.\n",
      " |  \n",
      " |  replace(self, old, new, count=-1, /)\n",
      " |      Return a copy with all occurrences of substring old replaced by new.\n",
      " |      \n",
      " |        count\n",
      " |          Maximum number of occurrences to replace.\n",
      " |          -1 (the default value) means replace all occurrences.\n",
      " |      \n",
      " |      If the optional argument count is given, only the first count occurrences are\n",
      " |      replaced.\n",
      " |  \n",
      " |  rfind(...)\n",
      " |      S.rfind(sub[, start[, end]]) -> int\n",
      " |      \n",
      " |      Return the highest index in S where substring sub is found,\n",
      " |      such that sub is contained within S[start:end].  Optional\n",
      " |      arguments start and end are interpreted as in slice notation.\n",
      " |      \n",
      " |      Return -1 on failure.\n",
      " |  \n",
      " |  rindex(...)\n",
      " |      S.rindex(sub[, start[, end]]) -> int\n",
      " |      \n",
      " |      Return the highest index in S where substring sub is found,\n",
      " |      such that sub is contained within S[start:end].  Optional\n",
      " |      arguments start and end are interpreted as in slice notation.\n",
      " |      \n",
      " |      Raises ValueError when the substring is not found.\n",
      " |  \n",
      " |  rjust(self, width, fillchar=' ', /)\n",
      " |      Return a right-justified string of length width.\n",
      " |      \n",
      " |      Padding is done using the specified fill character (default is a space).\n",
      " |  \n",
      " |  rpartition(self, sep, /)\n",
      " |      Partition the string into three parts using the given separator.\n",
      " |      \n",
      " |      This will search for the separator in the string, starting at the end. If\n",
      " |      the separator is found, returns a 3-tuple containing the part before the\n",
      " |      separator, the separator itself, and the part after it.\n",
      " |      \n",
      " |      If the separator is not found, returns a 3-tuple containing two empty strings\n",
      " |      and the original string.\n",
      " |  \n",
      " |  rsplit(self, /, sep=None, maxsplit=-1)\n",
      " |      Return a list of the substrings in the string, using sep as the separator string.\n",
      " |      \n",
      " |        sep\n",
      " |          The separator used to split the string.\n",
      " |      \n",
      " |          When set to None (the default value), will split on any whitespace\n",
      " |          character (including \\\\n \\\\r \\\\t \\\\f and spaces) and will discard\n",
      " |          empty strings from the result.\n",
      " |        maxsplit\n",
      " |          Maximum number of splits (starting from the left).\n",
      " |          -1 (the default value) means no limit.\n",
      " |      \n",
      " |      Splitting starts at the end of the string and works to the front.\n",
      " |  \n",
      " |  rstrip(self, chars=None, /)\n",
      " |      Return a copy of the string with trailing whitespace removed.\n",
      " |      \n",
      " |      If chars is given and not None, remove characters in chars instead.\n",
      " |  \n",
      " |  split(self, /, sep=None, maxsplit=-1)\n",
      " |      Return a list of the substrings in the string, using sep as the separator string.\n",
      " |      \n",
      " |        sep\n",
      " |          The separator used to split the string.\n",
      " |      \n",
      " |          When set to None (the default value), will split on any whitespace\n",
      " |          character (including \\\\n \\\\r \\\\t \\\\f and spaces) and will discard\n",
      " |          empty strings from the result.\n",
      " |        maxsplit\n",
      " |          Maximum number of splits (starting from the left).\n",
      " |          -1 (the default value) means no limit.\n",
      " |      \n",
      " |      Note, str.split() is mainly useful for data that has been intentionally\n",
      " |      delimited.  With natural text that includes punctuation, consider using\n",
      " |      the regular expression module.\n",
      " |  \n",
      " |  splitlines(self, /, keepends=False)\n",
      " |      Return a list of the lines in the string, breaking at line boundaries.\n",
      " |      \n",
      " |      Line breaks are not included in the resulting list unless keepends is given and\n",
      " |      true.\n",
      " |  \n",
      " |  startswith(...)\n",
      " |      S.startswith(prefix[, start[, end]]) -> bool\n",
      " |      \n",
      " |      Return True if S starts with the specified prefix, False otherwise.\n",
      " |      With optional start, test S beginning at that position.\n",
      " |      With optional end, stop comparing S at that position.\n",
      " |      prefix can also be a tuple of strings to try.\n",
      " |  \n",
      " |  strip(self, chars=None, /)\n",
      " |      Return a copy of the string with leading and trailing whitespace removed.\n",
      " |      \n",
      " |      If chars is given and not None, remove characters in chars instead.\n",
      " |  \n",
      " |  swapcase(self, /)\n",
      " |      Convert uppercase characters to lowercase and lowercase characters to uppercase.\n",
      " |  \n",
      " |  title(self, /)\n",
      " |      Return a version of the string where each word is titlecased.\n",
      " |      \n",
      " |      More specifically, words start with uppercased characters and all remaining\n",
      " |      cased characters have lower case.\n",
      " |  \n",
      " |  translate(self, table, /)\n",
      " |      Replace each character in the string using the given translation table.\n",
      " |      \n",
      " |        table\n",
      " |          Translation table, which must be a mapping of Unicode ordinals to\n",
      " |          Unicode ordinals, strings, or None.\n",
      " |      \n",
      " |      The table must implement lookup/indexing via __getitem__, for instance a\n",
      " |      dictionary or list.  If this operation raises LookupError, the character is\n",
      " |      left untouched.  Characters mapped to None are deleted.\n",
      " |  \n",
      " |  upper(self, /)\n",
      " |      Return a copy of the string converted to uppercase.\n",
      " |  \n",
      " |  zfill(self, width, /)\n",
      " |      Pad a numeric string with zeros on the left, to fill a field of the given width.\n",
      " |      \n",
      " |      The string is never truncated.\n",
      " |  \n",
      " |  ----------------------------------------------------------------------\n",
      " |  Static methods defined here:\n",
      " |  \n",
      " |  __new__(*args, **kwargs) from builtins.type\n",
      " |      Create and return a new object.  See help(type) for accurate signature.\n",
      " |  \n",
      " |  maketrans(...)\n",
      " |      Return a translation table usable for str.translate().\n",
      " |      \n",
      " |      If there is only one argument, it must be a dictionary mapping Unicode\n",
      " |      ordinals (integers) or characters to Unicode ordinals, strings or None.\n",
      " |      Character keys will be then converted to ordinals.\n",
      " |      If there are two arguments, they must be strings of equal length, and\n",
      " |      in the resulting dictionary, each character in x will be mapped to the\n",
      " |      character at the same position in y. If there is a third argument, it\n",
      " |      must be a string, whose characters will be mapped to None in the result.\n",
      "\n"
     ]
    }
   ],
   "source": [
    "help(str)"
   ]
  },
  {
   "cell_type": "code",
   "execution_count": 268,
   "id": "4d0fe4a0",
   "metadata": {
    "execution": {
     "iopub.execute_input": "2023-11-09T16:32:46.480349Z",
     "iopub.status.busy": "2023-11-09T16:32:46.479976Z",
     "iopub.status.idle": "2023-11-09T16:32:46.499288Z",
     "shell.execute_reply": "2023-11-09T16:32:46.498228Z"
    },
    "papermill": {
     "duration": 0.174544,
     "end_time": "2023-11-09T16:32:46.502086",
     "exception": false,
     "start_time": "2023-11-09T16:32:46.327542",
     "status": "completed"
    },
    "tags": []
   },
   "outputs": [
    {
     "name": "stdout",
     "output_type": "stream",
     "text": [
      "Help on class int in module builtins:\n",
      "\n",
      "class int(object)\n",
      " |  int([x]) -> integer\n",
      " |  int(x, base=10) -> integer\n",
      " |  \n",
      " |  Convert a number or string to an integer, or return 0 if no arguments\n",
      " |  are given.  If x is a number, return x.__int__().  For floating point\n",
      " |  numbers, this truncates towards zero.\n",
      " |  \n",
      " |  If x is not a number or if base is given, then x must be a string,\n",
      " |  bytes, or bytearray instance representing an integer literal in the\n",
      " |  given base.  The literal can be preceded by '+' or '-' and be surrounded\n",
      " |  by whitespace.  The base defaults to 10.  Valid bases are 0 and 2-36.\n",
      " |  Base 0 means to interpret the base from the string as an integer literal.\n",
      " |  >>> int('0b100', base=0)\n",
      " |  4\n",
      " |  \n",
      " |  Built-in subclasses:\n",
      " |      bool\n",
      " |  \n",
      " |  Methods defined here:\n",
      " |  \n",
      " |  __abs__(self, /)\n",
      " |      abs(self)\n",
      " |  \n",
      " |  __add__(self, value, /)\n",
      " |      Return self+value.\n",
      " |  \n",
      " |  __and__(self, value, /)\n",
      " |      Return self&value.\n",
      " |  \n",
      " |  __bool__(self, /)\n",
      " |      True if self else False\n",
      " |  \n",
      " |  __ceil__(...)\n",
      " |      Ceiling of an Integral returns itself.\n",
      " |  \n",
      " |  __divmod__(self, value, /)\n",
      " |      Return divmod(self, value).\n",
      " |  \n",
      " |  __eq__(self, value, /)\n",
      " |      Return self==value.\n",
      " |  \n",
      " |  __float__(self, /)\n",
      " |      float(self)\n",
      " |  \n",
      " |  __floor__(...)\n",
      " |      Flooring an Integral returns itself.\n",
      " |  \n",
      " |  __floordiv__(self, value, /)\n",
      " |      Return self//value.\n",
      " |  \n",
      " |  __format__(self, format_spec, /)\n",
      " |      Default object formatter.\n",
      " |  \n",
      " |  __ge__(self, value, /)\n",
      " |      Return self>=value.\n",
      " |  \n",
      " |  __getattribute__(self, name, /)\n",
      " |      Return getattr(self, name).\n",
      " |  \n",
      " |  __getnewargs__(self, /)\n",
      " |  \n",
      " |  __gt__(self, value, /)\n",
      " |      Return self>value.\n",
      " |  \n",
      " |  __hash__(self, /)\n",
      " |      Return hash(self).\n",
      " |  \n",
      " |  __index__(self, /)\n",
      " |      Return self converted to an integer, if self is suitable for use as an index into a list.\n",
      " |  \n",
      " |  __int__(self, /)\n",
      " |      int(self)\n",
      " |  \n",
      " |  __invert__(self, /)\n",
      " |      ~self\n",
      " |  \n",
      " |  __le__(self, value, /)\n",
      " |      Return self<=value.\n",
      " |  \n",
      " |  __lshift__(self, value, /)\n",
      " |      Return self<<value.\n",
      " |  \n",
      " |  __lt__(self, value, /)\n",
      " |      Return self<value.\n",
      " |  \n",
      " |  __mod__(self, value, /)\n",
      " |      Return self%value.\n",
      " |  \n",
      " |  __mul__(self, value, /)\n",
      " |      Return self*value.\n",
      " |  \n",
      " |  __ne__(self, value, /)\n",
      " |      Return self!=value.\n",
      " |  \n",
      " |  __neg__(self, /)\n",
      " |      -self\n",
      " |  \n",
      " |  __or__(self, value, /)\n",
      " |      Return self|value.\n",
      " |  \n",
      " |  __pos__(self, /)\n",
      " |      +self\n",
      " |  \n",
      " |  __pow__(self, value, mod=None, /)\n",
      " |      Return pow(self, value, mod).\n",
      " |  \n",
      " |  __radd__(self, value, /)\n",
      " |      Return value+self.\n",
      " |  \n",
      " |  __rand__(self, value, /)\n",
      " |      Return value&self.\n",
      " |  \n",
      " |  __rdivmod__(self, value, /)\n",
      " |      Return divmod(value, self).\n",
      " |  \n",
      " |  __repr__(self, /)\n",
      " |      Return repr(self).\n",
      " |  \n",
      " |  __rfloordiv__(self, value, /)\n",
      " |      Return value//self.\n",
      " |  \n",
      " |  __rlshift__(self, value, /)\n",
      " |      Return value<<self.\n",
      " |  \n",
      " |  __rmod__(self, value, /)\n",
      " |      Return value%self.\n",
      " |  \n",
      " |  __rmul__(self, value, /)\n",
      " |      Return value*self.\n",
      " |  \n",
      " |  __ror__(self, value, /)\n",
      " |      Return value|self.\n",
      " |  \n",
      " |  __round__(...)\n",
      " |      Rounding an Integral returns itself.\n",
      " |      \n",
      " |      Rounding with an ndigits argument also returns an integer.\n",
      " |  \n",
      " |  __rpow__(self, value, mod=None, /)\n",
      " |      Return pow(value, self, mod).\n",
      " |  \n",
      " |  __rrshift__(self, value, /)\n",
      " |      Return value>>self.\n",
      " |  \n",
      " |  __rshift__(self, value, /)\n",
      " |      Return self>>value.\n",
      " |  \n",
      " |  __rsub__(self, value, /)\n",
      " |      Return value-self.\n",
      " |  \n",
      " |  __rtruediv__(self, value, /)\n",
      " |      Return value/self.\n",
      " |  \n",
      " |  __rxor__(self, value, /)\n",
      " |      Return value^self.\n",
      " |  \n",
      " |  __sizeof__(self, /)\n",
      " |      Returns size in memory, in bytes.\n",
      " |  \n",
      " |  __sub__(self, value, /)\n",
      " |      Return self-value.\n",
      " |  \n",
      " |  __truediv__(self, value, /)\n",
      " |      Return self/value.\n",
      " |  \n",
      " |  __trunc__(...)\n",
      " |      Truncating an Integral returns itself.\n",
      " |  \n",
      " |  __xor__(self, value, /)\n",
      " |      Return self^value.\n",
      " |  \n",
      " |  as_integer_ratio(self, /)\n",
      " |      Return integer ratio.\n",
      " |      \n",
      " |      Return a pair of integers, whose ratio is exactly equal to the original int\n",
      " |      and with a positive denominator.\n",
      " |      \n",
      " |      >>> (10).as_integer_ratio()\n",
      " |      (10, 1)\n",
      " |      >>> (-10).as_integer_ratio()\n",
      " |      (-10, 1)\n",
      " |      >>> (0).as_integer_ratio()\n",
      " |      (0, 1)\n",
      " |  \n",
      " |  bit_count(self, /)\n",
      " |      Number of ones in the binary representation of the absolute value of self.\n",
      " |      \n",
      " |      Also known as the population count.\n",
      " |      \n",
      " |      >>> bin(13)\n",
      " |      '0b1101'\n",
      " |      >>> (13).bit_count()\n",
      " |      3\n",
      " |  \n",
      " |  bit_length(self, /)\n",
      " |      Number of bits necessary to represent self in binary.\n",
      " |      \n",
      " |      >>> bin(37)\n",
      " |      '0b100101'\n",
      " |      >>> (37).bit_length()\n",
      " |      6\n",
      " |  \n",
      " |  conjugate(...)\n",
      " |      Returns self, the complex conjugate of any int.\n",
      " |  \n",
      " |  to_bytes(self, /, length, byteorder, *, signed=False)\n",
      " |      Return an array of bytes representing an integer.\n",
      " |      \n",
      " |      length\n",
      " |        Length of bytes object to use.  An OverflowError is raised if the\n",
      " |        integer is not representable with the given number of bytes.\n",
      " |      byteorder\n",
      " |        The byte order used to represent the integer.  If byteorder is 'big',\n",
      " |        the most significant byte is at the beginning of the byte array.  If\n",
      " |        byteorder is 'little', the most significant byte is at the end of the\n",
      " |        byte array.  To request the native byte order of the host system, use\n",
      " |        `sys.byteorder' as the byte order value.\n",
      " |      signed\n",
      " |        Determines whether two's complement is used to represent the integer.\n",
      " |        If signed is False and a negative integer is given, an OverflowError\n",
      " |        is raised.\n",
      " |  \n",
      " |  ----------------------------------------------------------------------\n",
      " |  Class methods defined here:\n",
      " |  \n",
      " |  from_bytes(bytes, byteorder, *, signed=False) from builtins.type\n",
      " |      Return the integer represented by the given array of bytes.\n",
      " |      \n",
      " |      bytes\n",
      " |        Holds the array of bytes to convert.  The argument must either\n",
      " |        support the buffer protocol or be an iterable object producing bytes.\n",
      " |        Bytes and bytearray are examples of built-in objects that support the\n",
      " |        buffer protocol.\n",
      " |      byteorder\n",
      " |        The byte order used to represent the integer.  If byteorder is 'big',\n",
      " |        the most significant byte is at the beginning of the byte array.  If\n",
      " |        byteorder is 'little', the most significant byte is at the end of the\n",
      " |        byte array.  To request the native byte order of the host system, use\n",
      " |        `sys.byteorder' as the byte order value.\n",
      " |      signed\n",
      " |        Indicates whether two's complement is used to represent the integer.\n",
      " |  \n",
      " |  ----------------------------------------------------------------------\n",
      " |  Static methods defined here:\n",
      " |  \n",
      " |  __new__(*args, **kwargs) from builtins.type\n",
      " |      Create and return a new object.  See help(type) for accurate signature.\n",
      " |  \n",
      " |  ----------------------------------------------------------------------\n",
      " |  Data descriptors defined here:\n",
      " |  \n",
      " |  denominator\n",
      " |      the denominator of a rational number in lowest terms\n",
      " |  \n",
      " |  imag\n",
      " |      the imaginary part of a complex number\n",
      " |  \n",
      " |  numerator\n",
      " |      the numerator of a rational number in lowest terms\n",
      " |  \n",
      " |  real\n",
      " |      the real part of a complex number\n",
      "\n"
     ]
    }
   ],
   "source": [
    "help(int)"
   ]
  },
  {
   "cell_type": "code",
   "execution_count": 269,
   "id": "3b902225",
   "metadata": {
    "execution": {
     "iopub.execute_input": "2023-11-09T16:32:46.680891Z",
     "iopub.status.busy": "2023-11-09T16:32:46.679857Z",
     "iopub.status.idle": "2023-11-09T16:32:46.686396Z",
     "shell.execute_reply": "2023-11-09T16:32:46.684296Z"
    },
    "papermill": {
     "duration": 0.099293,
     "end_time": "2023-11-09T16:32:46.688950",
     "exception": false,
     "start_time": "2023-11-09T16:32:46.589657",
     "status": "completed"
    },
    "tags": []
   },
   "outputs": [
    {
     "name": "stdout",
     "output_type": "stream",
     "text": [
      "9 10\n"
     ]
    }
   ],
   "source": [
    "a = -9\n",
    "\n",
    "b = 10\n",
    "\n",
    "print(abs(a),abs(b))"
   ]
  },
  {
   "cell_type": "code",
   "execution_count": 270,
   "id": "be4ac84c",
   "metadata": {
    "execution": {
     "iopub.execute_input": "2023-11-09T16:32:46.864583Z",
     "iopub.status.busy": "2023-11-09T16:32:46.863895Z",
     "iopub.status.idle": "2023-11-09T16:32:46.871389Z",
     "shell.execute_reply": "2023-11-09T16:32:46.869638Z"
    },
    "papermill": {
     "duration": 0.09796,
     "end_time": "2023-11-09T16:32:46.874128",
     "exception": false,
     "start_time": "2023-11-09T16:32:46.776168",
     "status": "completed"
    },
    "tags": []
   },
   "outputs": [
    {
     "data": {
      "text/plain": [
       "dict_keys(['beautiful', 'great', 'maths'])"
      ]
     },
     "execution_count": 270,
     "metadata": {},
     "output_type": "execute_result"
    }
   ],
   "source": [
    "dt = {\"beautiful\": \"which is glorious\",\n",
    "     \"great\": \" to do some extraordinary\",\n",
    "     \"maths\": \"study of numericals\"}\n",
    "dt.keys()"
   ]
  },
  {
   "cell_type": "code",
   "execution_count": 271,
   "id": "0422645f",
   "metadata": {
    "execution": {
     "iopub.execute_input": "2023-11-09T16:32:47.054467Z",
     "iopub.status.busy": "2023-11-09T16:32:47.054112Z",
     "iopub.status.idle": "2023-11-09T16:32:47.059954Z",
     "shell.execute_reply": "2023-11-09T16:32:47.059226Z"
    },
    "papermill": {
     "duration": 0.100316,
     "end_time": "2023-11-09T16:32:47.061530",
     "exception": false,
     "start_time": "2023-11-09T16:32:46.961214",
     "status": "completed"
    },
    "tags": []
   },
   "outputs": [
    {
     "data": {
      "text/plain": [
       "dict_values(['which is glorious', ' to do some extraordinary', 'study of numericals'])"
      ]
     },
     "execution_count": 271,
     "metadata": {},
     "output_type": "execute_result"
    }
   ],
   "source": [
    "dt.values()"
   ]
  },
  {
   "cell_type": "code",
   "execution_count": 272,
   "id": "4f13918c",
   "metadata": {
    "execution": {
     "iopub.execute_input": "2023-11-09T16:32:47.234720Z",
     "iopub.status.busy": "2023-11-09T16:32:47.234095Z",
     "iopub.status.idle": "2023-11-09T16:32:47.239738Z",
     "shell.execute_reply": "2023-11-09T16:32:47.238778Z"
    },
    "papermill": {
     "duration": 0.094197,
     "end_time": "2023-11-09T16:32:47.241481",
     "exception": false,
     "start_time": "2023-11-09T16:32:47.147284",
     "status": "completed"
    },
    "tags": []
   },
   "outputs": [
    {
     "data": {
      "text/plain": [
       "dict_items([('beautiful', 'which is glorious'), ('great', ' to do some extraordinary'), ('maths', 'study of numericals')])"
      ]
     },
     "execution_count": 272,
     "metadata": {},
     "output_type": "execute_result"
    }
   ],
   "source": [
    "dt.items()"
   ]
  },
  {
   "cell_type": "code",
   "execution_count": 273,
   "id": "dd5130b3",
   "metadata": {
    "execution": {
     "iopub.execute_input": "2023-11-09T16:32:47.416508Z",
     "iopub.status.busy": "2023-11-09T16:32:47.415322Z",
     "iopub.status.idle": "2023-11-09T16:32:47.421601Z",
     "shell.execute_reply": "2023-11-09T16:32:47.420855Z"
    },
    "papermill": {
     "duration": 0.094972,
     "end_time": "2023-11-09T16:32:47.423271",
     "exception": false,
     "start_time": "2023-11-09T16:32:47.328299",
     "status": "completed"
    },
    "tags": []
   },
   "outputs": [
    {
     "data": {
      "text/plain": [
       "'study'"
      ]
     },
     "execution_count": 273,
     "metadata": {},
     "output_type": "execute_result"
    }
   ],
   "source": [
    "dt[\"maths\"].split()[0]"
   ]
  },
  {
   "cell_type": "code",
   "execution_count": 274,
   "id": "fc3193a2",
   "metadata": {
    "execution": {
     "iopub.execute_input": "2023-11-09T16:32:47.598493Z",
     "iopub.status.busy": "2023-11-09T16:32:47.598034Z",
     "iopub.status.idle": "2023-11-09T16:32:47.605354Z",
     "shell.execute_reply": "2023-11-09T16:32:47.604004Z"
    },
    "papermill": {
     "duration": 0.097531,
     "end_time": "2023-11-09T16:32:47.607784",
     "exception": false,
     "start_time": "2023-11-09T16:32:47.510253",
     "status": "completed"
    },
    "tags": []
   },
   "outputs": [
    {
     "data": {
      "text/plain": [
       "{'a': 'ddddd', 'b': 'eeeee', 'c': 'fffff'}"
      ]
     },
     "execution_count": 274,
     "metadata": {},
     "output_type": "execute_result"
    }
   ],
   "source": [
    "p= [\"a\",\"b\",\"c\"]\n",
    "q = [\"ddddd\",\"eeeee\",\"fffff\"]\n",
    "\n",
    "ans = {  p[i] : q[i]    for i in range(len(p))}\n",
    "ans"
   ]
  },
  {
   "cell_type": "code",
   "execution_count": 275,
   "id": "f067fbe1",
   "metadata": {
    "execution": {
     "iopub.execute_input": "2023-11-09T16:32:47.784659Z",
     "iopub.status.busy": "2023-11-09T16:32:47.783125Z",
     "iopub.status.idle": "2023-11-09T16:32:47.789891Z",
     "shell.execute_reply": "2023-11-09T16:32:47.788643Z"
    },
    "papermill": {
     "duration": 0.096789,
     "end_time": "2023-11-09T16:32:47.791750",
     "exception": false,
     "start_time": "2023-11-09T16:32:47.694961",
     "status": "completed"
    },
    "tags": []
   },
   "outputs": [
    {
     "name": "stdout",
     "output_type": "stream",
     "text": [
      "{'brand': 'Ford', 'model': 'Mustang'}\n"
     ]
    }
   ],
   "source": [
    "car = {\n",
    "  \"brand\": \"Ford\",\n",
    "  \"model\": \"Mustang\",\n",
    "  \"year\": 1964\n",
    "}\n",
    "\n",
    "car.popitem()\n",
    "\n",
    "print(car)"
   ]
  },
  {
   "cell_type": "code",
   "execution_count": 276,
   "id": "14aeb4f6",
   "metadata": {
    "execution": {
     "iopub.execute_input": "2023-11-09T16:32:47.968677Z",
     "iopub.status.busy": "2023-11-09T16:32:47.968275Z",
     "iopub.status.idle": "2023-11-09T16:32:47.975819Z",
     "shell.execute_reply": "2023-11-09T16:32:47.974689Z"
    },
    "papermill": {
     "duration": 0.100726,
     "end_time": "2023-11-09T16:32:47.978235",
     "exception": false,
     "start_time": "2023-11-09T16:32:47.877509",
     "status": "completed"
    },
    "tags": []
   },
   "outputs": [
    {
     "data": {
      "text/plain": [
       "'prasad'"
      ]
     },
     "execution_count": 276,
     "metadata": {},
     "output_type": "execute_result"
    }
   ],
   "source": [
    "a = [\"suhs\",\"mlv\",\"prasad\"]\n",
    "a.pop()"
   ]
  },
  {
   "cell_type": "code",
   "execution_count": 277,
   "id": "6fbe2836",
   "metadata": {
    "execution": {
     "iopub.execute_input": "2023-11-09T16:32:48.158669Z",
     "iopub.status.busy": "2023-11-09T16:32:48.157425Z",
     "iopub.status.idle": "2023-11-09T16:32:48.162220Z",
     "shell.execute_reply": "2023-11-09T16:32:48.161317Z"
    },
    "papermill": {
     "duration": 0.097542,
     "end_time": "2023-11-09T16:32:48.164657",
     "exception": false,
     "start_time": "2023-11-09T16:32:48.067115",
     "status": "completed"
    },
    "tags": []
   },
   "outputs": [],
   "source": [
    "# numpy\n",
    "\n",
    "# numerical python\n"
   ]
  },
  {
   "cell_type": "code",
   "execution_count": 278,
   "id": "963e728c",
   "metadata": {
    "execution": {
     "iopub.execute_input": "2023-11-09T16:32:48.347255Z",
     "iopub.status.busy": "2023-11-09T16:32:48.346899Z",
     "iopub.status.idle": "2023-11-09T16:32:48.352781Z",
     "shell.execute_reply": "2023-11-09T16:32:48.351893Z"
    },
    "papermill": {
     "duration": 0.101815,
     "end_time": "2023-11-09T16:32:48.355532",
     "exception": false,
     "start_time": "2023-11-09T16:32:48.253717",
     "status": "completed"
    },
    "tags": []
   },
   "outputs": [
    {
     "data": {
      "text/plain": [
       "[10, 20, 30]"
      ]
     },
     "execution_count": 278,
     "metadata": {},
     "output_type": "execute_result"
    }
   ],
   "source": [
    "a = [10,20,30]\n",
    "a"
   ]
  },
  {
   "cell_type": "code",
   "execution_count": 279,
   "id": "ed757251",
   "metadata": {
    "execution": {
     "iopub.execute_input": "2023-11-09T16:32:48.533147Z",
     "iopub.status.busy": "2023-11-09T16:32:48.532828Z",
     "iopub.status.idle": "2023-11-09T16:32:48.540350Z",
     "shell.execute_reply": "2023-11-09T16:32:48.539730Z"
    },
    "papermill": {
     "duration": 0.098021,
     "end_time": "2023-11-09T16:32:48.541854",
     "exception": false,
     "start_time": "2023-11-09T16:32:48.443833",
     "status": "completed"
    },
    "tags": []
   },
   "outputs": [
    {
     "data": {
      "text/plain": [
       "array([10, 20, 30])"
      ]
     },
     "execution_count": 279,
     "metadata": {},
     "output_type": "execute_result"
    }
   ],
   "source": [
    "import numpy as np\n",
    "\n",
    "\n",
    "b = np.array([10,20,30])\n",
    "b"
   ]
  },
  {
   "cell_type": "code",
   "execution_count": 280,
   "id": "2b19779d",
   "metadata": {
    "execution": {
     "iopub.execute_input": "2023-11-09T16:32:48.722701Z",
     "iopub.status.busy": "2023-11-09T16:32:48.722200Z",
     "iopub.status.idle": "2023-11-09T16:32:48.729659Z",
     "shell.execute_reply": "2023-11-09T16:32:48.728274Z"
    },
    "papermill": {
     "duration": 0.100027,
     "end_time": "2023-11-09T16:32:48.731968",
     "exception": false,
     "start_time": "2023-11-09T16:32:48.631941",
     "status": "completed"
    },
    "tags": []
   },
   "outputs": [
    {
     "data": {
      "text/plain": [
       "10"
      ]
     },
     "execution_count": 280,
     "metadata": {},
     "output_type": "execute_result"
    }
   ],
   "source": [
    "b[0]"
   ]
  },
  {
   "cell_type": "code",
   "execution_count": 281,
   "id": "bd8397a1",
   "metadata": {
    "execution": {
     "iopub.execute_input": "2023-11-09T16:32:48.932043Z",
     "iopub.status.busy": "2023-11-09T16:32:48.931661Z",
     "iopub.status.idle": "2023-11-09T16:32:48.937053Z",
     "shell.execute_reply": "2023-11-09T16:32:48.936378Z"
    },
    "papermill": {
     "duration": 0.101012,
     "end_time": "2023-11-09T16:32:48.939015",
     "exception": false,
     "start_time": "2023-11-09T16:32:48.838003",
     "status": "completed"
    },
    "tags": []
   },
   "outputs": [
    {
     "data": {
      "text/plain": [
       "30"
      ]
     },
     "execution_count": 281,
     "metadata": {},
     "output_type": "execute_result"
    }
   ],
   "source": [
    "b[-1]"
   ]
  },
  {
   "cell_type": "code",
   "execution_count": 282,
   "id": "5155ef03",
   "metadata": {
    "execution": {
     "iopub.execute_input": "2023-11-09T16:32:49.197109Z",
     "iopub.status.busy": "2023-11-09T16:32:49.196514Z",
     "iopub.status.idle": "2023-11-09T16:32:49.203255Z",
     "shell.execute_reply": "2023-11-09T16:32:49.202351Z"
    },
    "papermill": {
     "duration": 0.099612,
     "end_time": "2023-11-09T16:32:49.205737",
     "exception": false,
     "start_time": "2023-11-09T16:32:49.106125",
     "status": "completed"
    },
    "tags": []
   },
   "outputs": [
    {
     "data": {
      "text/plain": [
       "array([10, 20])"
      ]
     },
     "execution_count": 282,
     "metadata": {},
     "output_type": "execute_result"
    }
   ],
   "source": [
    "b[0:2]"
   ]
  },
  {
   "cell_type": "code",
   "execution_count": 283,
   "id": "702e04d8",
   "metadata": {
    "execution": {
     "iopub.execute_input": "2023-11-09T16:32:49.386547Z",
     "iopub.status.busy": "2023-11-09T16:32:49.386268Z",
     "iopub.status.idle": "2023-11-09T16:32:49.391979Z",
     "shell.execute_reply": "2023-11-09T16:32:49.390979Z"
    },
    "papermill": {
     "duration": 0.096357,
     "end_time": "2023-11-09T16:32:49.393806",
     "exception": false,
     "start_time": "2023-11-09T16:32:49.297449",
     "status": "completed"
    },
    "tags": []
   },
   "outputs": [
    {
     "data": {
      "text/plain": [
       "array([10, 20, 30])"
      ]
     },
     "execution_count": 283,
     "metadata": {},
     "output_type": "execute_result"
    }
   ],
   "source": [
    "c = [10,20,30]\n",
    "\n",
    "d = np.array(c)\n",
    "d"
   ]
  },
  {
   "cell_type": "code",
   "execution_count": 284,
   "id": "e6cde231",
   "metadata": {
    "execution": {
     "iopub.execute_input": "2023-11-09T16:32:49.579382Z",
     "iopub.status.busy": "2023-11-09T16:32:49.578766Z",
     "iopub.status.idle": "2023-11-09T16:32:49.584648Z",
     "shell.execute_reply": "2023-11-09T16:32:49.583948Z"
    },
    "papermill": {
     "duration": 0.100964,
     "end_time": "2023-11-09T16:32:49.587643",
     "exception": false,
     "start_time": "2023-11-09T16:32:49.486679",
     "status": "completed"
    },
    "tags": []
   },
   "outputs": [
    {
     "data": {
      "text/plain": [
       "array([[0., 0., 0., 0., 0.],\n",
       "       [0., 0., 0., 0., 0.],\n",
       "       [0., 0., 0., 0., 0.],\n",
       "       [0., 0., 0., 0., 0.],\n",
       "       [0., 0., 0., 0., 0.]])"
      ]
     },
     "execution_count": 284,
     "metadata": {},
     "output_type": "execute_result"
    }
   ],
   "source": [
    "e = np.zeros((5,5))  \n",
    "e"
   ]
  },
  {
   "cell_type": "code",
   "execution_count": 285,
   "id": "0ae637ac",
   "metadata": {
    "execution": {
     "iopub.execute_input": "2023-11-09T16:32:49.771422Z",
     "iopub.status.busy": "2023-11-09T16:32:49.771050Z",
     "iopub.status.idle": "2023-11-09T16:32:49.777318Z",
     "shell.execute_reply": "2023-11-09T16:32:49.776680Z"
    },
    "papermill": {
     "duration": 0.09957,
     "end_time": "2023-11-09T16:32:49.778934",
     "exception": false,
     "start_time": "2023-11-09T16:32:49.679364",
     "status": "completed"
    },
    "tags": []
   },
   "outputs": [
    {
     "data": {
      "text/plain": [
       "array([[1., 1., 1., 1., 1., 1.],\n",
       "       [1., 1., 1., 1., 1., 1.]])"
      ]
     },
     "execution_count": 285,
     "metadata": {},
     "output_type": "execute_result"
    }
   ],
   "source": [
    "f = np.ones((2,6))\n",
    "f"
   ]
  },
  {
   "cell_type": "code",
   "execution_count": 286,
   "id": "a68927d7",
   "metadata": {
    "execution": {
     "iopub.execute_input": "2023-11-09T16:32:49.960731Z",
     "iopub.status.busy": "2023-11-09T16:32:49.960315Z",
     "iopub.status.idle": "2023-11-09T16:32:49.967457Z",
     "shell.execute_reply": "2023-11-09T16:32:49.966032Z"
    },
    "papermill": {
     "duration": 0.100574,
     "end_time": "2023-11-09T16:32:49.970422",
     "exception": false,
     "start_time": "2023-11-09T16:32:49.869848",
     "status": "completed"
    },
    "tags": []
   },
   "outputs": [
    {
     "data": {
      "text/plain": [
       "array([[22, 22, 22, 22, 22, 22, 22, 22],\n",
       "       [22, 22, 22, 22, 22, 22, 22, 22],\n",
       "       [22, 22, 22, 22, 22, 22, 22, 22],\n",
       "       [22, 22, 22, 22, 22, 22, 22, 22],\n",
       "       [22, 22, 22, 22, 22, 22, 22, 22]])"
      ]
     },
     "execution_count": 286,
     "metadata": {},
     "output_type": "execute_result"
    }
   ],
   "source": [
    "g = np.full((5,8),22)\n",
    "g"
   ]
  },
  {
   "cell_type": "code",
   "execution_count": 287,
   "id": "3c698ffa",
   "metadata": {
    "execution": {
     "iopub.execute_input": "2023-11-09T16:32:50.155901Z",
     "iopub.status.busy": "2023-11-09T16:32:50.154744Z",
     "iopub.status.idle": "2023-11-09T16:32:50.161439Z",
     "shell.execute_reply": "2023-11-09T16:32:50.160579Z"
    },
    "papermill": {
     "duration": 0.10085,
     "end_time": "2023-11-09T16:32:50.163292",
     "exception": false,
     "start_time": "2023-11-09T16:32:50.062442",
     "status": "completed"
    },
    "tags": []
   },
   "outputs": [
    {
     "data": {
      "text/plain": [
       "array([2, 3, 4])"
      ]
     },
     "execution_count": 287,
     "metadata": {},
     "output_type": "execute_result"
    }
   ],
   "source": [
    "# range(5) = [0,1,2,3,4]\n",
    "\n",
    "h = np.arange(2,5)\n",
    "h"
   ]
  },
  {
   "cell_type": "code",
   "execution_count": 288,
   "id": "0047f11f",
   "metadata": {
    "execution": {
     "iopub.execute_input": "2023-11-09T16:32:50.347487Z",
     "iopub.status.busy": "2023-11-09T16:32:50.347057Z",
     "iopub.status.idle": "2023-11-09T16:32:50.353838Z",
     "shell.execute_reply": "2023-11-09T16:32:50.352879Z"
    },
    "papermill": {
     "duration": 0.10118,
     "end_time": "2023-11-09T16:32:50.355678",
     "exception": false,
     "start_time": "2023-11-09T16:32:50.254498",
     "status": "completed"
    },
    "tags": []
   },
   "outputs": [
    {
     "data": {
      "text/plain": [
       "array([ 2,  4,  6,  8, 10, 12])"
      ]
     },
     "execution_count": 288,
     "metadata": {},
     "output_type": "execute_result"
    }
   ],
   "source": [
    "i = np.linspace(2,12,6).astype(\"int\")\n",
    "i"
   ]
  },
  {
   "cell_type": "code",
   "execution_count": 289,
   "id": "ce704187",
   "metadata": {
    "execution": {
     "iopub.execute_input": "2023-11-09T16:32:50.538528Z",
     "iopub.status.busy": "2023-11-09T16:32:50.537336Z",
     "iopub.status.idle": "2023-11-09T16:32:50.544760Z",
     "shell.execute_reply": "2023-11-09T16:32:50.543977Z"
    },
    "papermill": {
     "duration": 0.100091,
     "end_time": "2023-11-09T16:32:50.546330",
     "exception": false,
     "start_time": "2023-11-09T16:32:50.446239",
     "status": "completed"
    },
    "tags": []
   },
   "outputs": [
    {
     "data": {
      "text/plain": [
       "array([[37.33596316, 98.2151765 , 73.73393067, 62.14196668, 11.61872206],\n",
       "       [68.65320357, 16.79845001,  4.46459697, 58.41117217, 43.73240346],\n",
       "       [67.23460428, 66.57115587, 57.82048984, 95.79775863, 89.89356178],\n",
       "       [ 3.60546239, 65.29189858, 89.28554431, 81.72790323, 65.03677583],\n",
       "       [65.79107189, 72.75764152, 88.16591832,  7.33900324, 50.16975543]])"
      ]
     },
     "execution_count": 289,
     "metadata": {},
     "output_type": "execute_result"
    }
   ],
   "source": [
    "a = np.random.rand(5,5)* 100 # 0 - 1\n",
    "a"
   ]
  },
  {
   "cell_type": "code",
   "execution_count": 290,
   "id": "1f0e7bee",
   "metadata": {
    "execution": {
     "iopub.execute_input": "2023-11-09T16:32:50.729741Z",
     "iopub.status.busy": "2023-11-09T16:32:50.729341Z",
     "iopub.status.idle": "2023-11-09T16:32:50.738946Z",
     "shell.execute_reply": "2023-11-09T16:32:50.737499Z"
    },
    "papermill": {
     "duration": 0.105189,
     "end_time": "2023-11-09T16:32:50.741742",
     "exception": false,
     "start_time": "2023-11-09T16:32:50.636553",
     "status": "completed"
    },
    "tags": []
   },
   "outputs": [
    {
     "data": {
      "text/plain": [
       "array([[15, 10, 16],\n",
       "       [16, 12, 15]])"
      ]
     },
     "execution_count": 290,
     "metadata": {},
     "output_type": "execute_result"
    }
   ],
   "source": [
    "b = np.random.randint(10,20,(2,3))\n",
    "b"
   ]
  },
  {
   "cell_type": "code",
   "execution_count": 291,
   "id": "85b4143a",
   "metadata": {
    "execution": {
     "iopub.execute_input": "2023-11-09T16:32:50.925551Z",
     "iopub.status.busy": "2023-11-09T16:32:50.925182Z",
     "iopub.status.idle": "2023-11-09T16:32:50.932118Z",
     "shell.execute_reply": "2023-11-09T16:32:50.930754Z"
    },
    "papermill": {
     "duration": 0.102107,
     "end_time": "2023-11-09T16:32:50.934594",
     "exception": false,
     "start_time": "2023-11-09T16:32:50.832487",
     "status": "completed"
    },
    "tags": []
   },
   "outputs": [
    {
     "data": {
      "text/plain": [
       "[[1, 2, 3], [4, 5, 6]]"
      ]
     },
     "execution_count": 291,
     "metadata": {},
     "output_type": "execute_result"
    }
   ],
   "source": [
    "a = [[1,2,3],[4,5,6]]\n",
    "a"
   ]
  },
  {
   "cell_type": "code",
   "execution_count": 292,
   "id": "0c95a31a",
   "metadata": {
    "execution": {
     "iopub.execute_input": "2023-11-09T16:32:51.118075Z",
     "iopub.status.busy": "2023-11-09T16:32:51.117706Z",
     "iopub.status.idle": "2023-11-09T16:32:51.124656Z",
     "shell.execute_reply": "2023-11-09T16:32:51.123148Z"
    },
    "papermill": {
     "duration": 0.101494,
     "end_time": "2023-11-09T16:32:51.126996",
     "exception": false,
     "start_time": "2023-11-09T16:32:51.025502",
     "status": "completed"
    },
    "tags": []
   },
   "outputs": [
    {
     "data": {
      "text/plain": [
       "array([[1, 2, 3],\n",
       "       [4, 5, 6]])"
      ]
     },
     "execution_count": 292,
     "metadata": {},
     "output_type": "execute_result"
    }
   ],
   "source": [
    "b = np.array(a)\n",
    "b"
   ]
  },
  {
   "cell_type": "code",
   "execution_count": 293,
   "id": "04ce2a86",
   "metadata": {
    "execution": {
     "iopub.execute_input": "2023-11-09T16:32:51.311676Z",
     "iopub.status.busy": "2023-11-09T16:32:51.311311Z",
     "iopub.status.idle": "2023-11-09T16:32:51.315211Z",
     "shell.execute_reply": "2023-11-09T16:32:51.314548Z"
    },
    "papermill": {
     "duration": 0.097756,
     "end_time": "2023-11-09T16:32:51.317007",
     "exception": false,
     "start_time": "2023-11-09T16:32:51.219251",
     "status": "completed"
    },
    "tags": []
   },
   "outputs": [],
   "source": [
    "a = np.zeros((10,10))\n",
    "b = a[:5,:]"
   ]
  },
  {
   "cell_type": "code",
   "execution_count": 294,
   "id": "304b4077",
   "metadata": {
    "execution": {
     "iopub.execute_input": "2023-11-09T16:32:51.555433Z",
     "iopub.status.busy": "2023-11-09T16:32:51.554263Z",
     "iopub.status.idle": "2023-11-09T16:32:51.560595Z",
     "shell.execute_reply": "2023-11-09T16:32:51.559792Z"
    },
    "papermill": {
     "duration": 0.097408,
     "end_time": "2023-11-09T16:32:51.562337",
     "exception": false,
     "start_time": "2023-11-09T16:32:51.464929",
     "status": "completed"
    },
    "tags": []
   },
   "outputs": [
    {
     "data": {
      "text/plain": [
       "10"
      ]
     },
     "execution_count": 294,
     "metadata": {},
     "output_type": "execute_result"
    }
   ],
   "source": [
    "b.shape[1]"
   ]
  },
  {
   "cell_type": "code",
   "execution_count": 295,
   "id": "10a124e8",
   "metadata": {
    "execution": {
     "iopub.execute_input": "2023-11-09T16:32:51.740488Z",
     "iopub.status.busy": "2023-11-09T16:32:51.740084Z",
     "iopub.status.idle": "2023-11-09T16:32:51.747129Z",
     "shell.execute_reply": "2023-11-09T16:32:51.745972Z"
    },
    "papermill": {
     "duration": 0.09788,
     "end_time": "2023-11-09T16:32:51.748959",
     "exception": false,
     "start_time": "2023-11-09T16:32:51.651079",
     "status": "completed"
    },
    "tags": []
   },
   "outputs": [
    {
     "data": {
      "text/plain": [
       "array([[0, 0, 0, 0, 0, 0, 0, 0]])"
      ]
     },
     "execution_count": 295,
     "metadata": {},
     "output_type": "execute_result"
    }
   ],
   "source": [
    "a = [[0,0,0,0],[0,0,0,0]]\n",
    "b = np.array(a)\n",
    "b.reshape((1,8))"
   ]
  },
  {
   "cell_type": "code",
   "execution_count": 296,
   "id": "c03b4c94",
   "metadata": {
    "execution": {
     "iopub.execute_input": "2023-11-09T16:32:51.930944Z",
     "iopub.status.busy": "2023-11-09T16:32:51.930528Z",
     "iopub.status.idle": "2023-11-09T16:32:51.937564Z",
     "shell.execute_reply": "2023-11-09T16:32:51.936191Z"
    },
    "papermill": {
     "duration": 0.100752,
     "end_time": "2023-11-09T16:32:51.939526",
     "exception": false,
     "start_time": "2023-11-09T16:32:51.838774",
     "status": "completed"
    },
    "tags": []
   },
   "outputs": [
    {
     "data": {
      "text/plain": [
       "array([[0],\n",
       "       [0],\n",
       "       [0],\n",
       "       [0]])"
      ]
     },
     "execution_count": 296,
     "metadata": {},
     "output_type": "execute_result"
    }
   ],
   "source": [
    "a = [0,0,0,0]\n",
    "b = np.array(a)\n",
    "b= b[:,np.newaxis]\n",
    "b"
   ]
  },
  {
   "cell_type": "code",
   "execution_count": 297,
   "id": "40754cf9",
   "metadata": {
    "execution": {
     "iopub.execute_input": "2023-11-09T16:32:52.120650Z",
     "iopub.status.busy": "2023-11-09T16:32:52.120267Z",
     "iopub.status.idle": "2023-11-09T16:32:52.127025Z",
     "shell.execute_reply": "2023-11-09T16:32:52.125822Z"
    },
    "papermill": {
     "duration": 0.099896,
     "end_time": "2023-11-09T16:32:52.129362",
     "exception": false,
     "start_time": "2023-11-09T16:32:52.029466",
     "status": "completed"
    },
    "tags": []
   },
   "outputs": [
    {
     "data": {
      "text/plain": [
       "dtype('int64')"
      ]
     },
     "execution_count": 297,
     "metadata": {},
     "output_type": "execute_result"
    }
   ],
   "source": [
    "b.dtype"
   ]
  },
  {
   "cell_type": "code",
   "execution_count": 298,
   "id": "33217fd8",
   "metadata": {
    "execution": {
     "iopub.execute_input": "2023-11-09T16:32:52.315108Z",
     "iopub.status.busy": "2023-11-09T16:32:52.314756Z",
     "iopub.status.idle": "2023-11-09T16:32:52.321148Z",
     "shell.execute_reply": "2023-11-09T16:32:52.320043Z"
    },
    "papermill": {
     "duration": 0.10381,
     "end_time": "2023-11-09T16:32:52.322982",
     "exception": false,
     "start_time": "2023-11-09T16:32:52.219172",
     "status": "completed"
    },
    "tags": []
   },
   "outputs": [
    {
     "data": {
      "text/plain": [
       "array([0., 1., 0., 0.])"
      ]
     },
     "execution_count": 298,
     "metadata": {},
     "output_type": "execute_result"
    }
   ],
   "source": [
    "a = [0,1,0,0]\n",
    "b = np.array(a,dtype= float)\n",
    "b"
   ]
  },
  {
   "cell_type": "code",
   "execution_count": 299,
   "id": "dfb2b594",
   "metadata": {
    "execution": {
     "iopub.execute_input": "2023-11-09T16:32:52.506942Z",
     "iopub.status.busy": "2023-11-09T16:32:52.506563Z",
     "iopub.status.idle": "2023-11-09T16:32:52.514185Z",
     "shell.execute_reply": "2023-11-09T16:32:52.512699Z"
    },
    "papermill": {
     "duration": 0.102259,
     "end_time": "2023-11-09T16:32:52.516137",
     "exception": false,
     "start_time": "2023-11-09T16:32:52.413878",
     "status": "completed"
    },
    "tags": []
   },
   "outputs": [
    {
     "data": {
      "text/plain": [
       "[100, 120, 115, 140, 10, 10, 10, 10]"
      ]
     },
     "execution_count": 299,
     "metadata": {},
     "output_type": "execute_result"
    }
   ],
   "source": [
    "a = [100,120,115,140]\n",
    "b = [10,10,10,10]\n",
    "a + b"
   ]
  },
  {
   "cell_type": "code",
   "execution_count": 300,
   "id": "322cef0c",
   "metadata": {
    "execution": {
     "iopub.execute_input": "2023-11-09T16:32:52.695646Z",
     "iopub.status.busy": "2023-11-09T16:32:52.695314Z",
     "iopub.status.idle": "2023-11-09T16:32:52.702443Z",
     "shell.execute_reply": "2023-11-09T16:32:52.701457Z"
    },
    "papermill": {
     "duration": 0.100547,
     "end_time": "2023-11-09T16:32:52.704250",
     "exception": false,
     "start_time": "2023-11-09T16:32:52.603703",
     "status": "completed"
    },
    "tags": []
   },
   "outputs": [
    {
     "data": {
      "text/plain": [
       "array([110. , 132. , 126.5, 154. ])"
      ]
     },
     "execution_count": 300,
     "metadata": {},
     "output_type": "execute_result"
    }
   ],
   "source": [
    "a = np.array([100,120,115,140])\n",
    "b = np.array([1.1,1.1,1.1,1.1])\n",
    "a * b"
   ]
  },
  {
   "cell_type": "code",
   "execution_count": 301,
   "id": "62ff9d4a",
   "metadata": {
    "execution": {
     "iopub.execute_input": "2023-11-09T16:32:52.885320Z",
     "iopub.status.busy": "2023-11-09T16:32:52.884014Z",
     "iopub.status.idle": "2023-11-09T16:32:52.891508Z",
     "shell.execute_reply": "2023-11-09T16:32:52.890678Z"
    },
    "papermill": {
     "duration": 0.099038,
     "end_time": "2023-11-09T16:32:52.893170",
     "exception": false,
     "start_time": "2023-11-09T16:32:52.794132",
     "status": "completed"
    },
    "tags": []
   },
   "outputs": [
    {
     "data": {
      "text/plain": [
       "array([110. , 132. , 126.5, 154. ])"
      ]
     },
     "execution_count": 301,
     "metadata": {},
     "output_type": "execute_result"
    }
   ],
   "source": [
    "a = np.array([100,120,115,140])\n",
    "b = 1.1\n",
    "a * b"
   ]
  },
  {
   "cell_type": "code",
   "execution_count": 302,
   "id": "d2eefc85",
   "metadata": {
    "execution": {
     "iopub.execute_input": "2023-11-09T16:32:53.073516Z",
     "iopub.status.busy": "2023-11-09T16:32:53.072994Z",
     "iopub.status.idle": "2023-11-09T16:32:53.080541Z",
     "shell.execute_reply": "2023-11-09T16:32:53.079537Z"
    },
    "papermill": {
     "duration": 0.100456,
     "end_time": "2023-11-09T16:32:53.082435",
     "exception": false,
     "start_time": "2023-11-09T16:32:52.981979",
     "status": "completed"
    },
    "tags": []
   },
   "outputs": [
    {
     "data": {
      "text/plain": [
       "475"
      ]
     },
     "execution_count": 302,
     "metadata": {},
     "output_type": "execute_result"
    }
   ],
   "source": [
    "a = np.array([100,120,115,140])\n",
    "\n",
    "np.sum(a)"
   ]
  },
  {
   "cell_type": "code",
   "execution_count": 303,
   "id": "50ddf2aa",
   "metadata": {
    "execution": {
     "iopub.execute_input": "2023-11-09T16:32:53.269961Z",
     "iopub.status.busy": "2023-11-09T16:32:53.269323Z",
     "iopub.status.idle": "2023-11-09T16:32:53.276019Z",
     "shell.execute_reply": "2023-11-09T16:32:53.275120Z"
    },
    "papermill": {
     "duration": 0.106281,
     "end_time": "2023-11-09T16:32:53.278097",
     "exception": false,
     "start_time": "2023-11-09T16:32:53.171816",
     "status": "completed"
    },
    "tags": []
   },
   "outputs": [
    {
     "data": {
      "text/plain": [
       "140"
      ]
     },
     "execution_count": 303,
     "metadata": {},
     "output_type": "execute_result"
    }
   ],
   "source": [
    "np.max(a)"
   ]
  },
  {
   "cell_type": "code",
   "execution_count": 304,
   "id": "7b9879ad",
   "metadata": {
    "execution": {
     "iopub.execute_input": "2023-11-09T16:32:53.462765Z",
     "iopub.status.busy": "2023-11-09T16:32:53.461993Z",
     "iopub.status.idle": "2023-11-09T16:32:53.468331Z",
     "shell.execute_reply": "2023-11-09T16:32:53.467477Z"
    },
    "papermill": {
     "duration": 0.101265,
     "end_time": "2023-11-09T16:32:53.470092",
     "exception": false,
     "start_time": "2023-11-09T16:32:53.368827",
     "status": "completed"
    },
    "tags": []
   },
   "outputs": [
    {
     "data": {
      "text/plain": [
       "100"
      ]
     },
     "execution_count": 304,
     "metadata": {},
     "output_type": "execute_result"
    }
   ],
   "source": [
    "np.min(a)"
   ]
  },
  {
   "cell_type": "code",
   "execution_count": 305,
   "id": "9b2df2bb",
   "metadata": {
    "execution": {
     "iopub.execute_input": "2023-11-09T16:32:53.655439Z",
     "iopub.status.busy": "2023-11-09T16:32:53.655045Z",
     "iopub.status.idle": "2023-11-09T16:32:53.663597Z",
     "shell.execute_reply": "2023-11-09T16:32:53.661549Z"
    },
    "papermill": {
     "duration": 0.105444,
     "end_time": "2023-11-09T16:32:53.666559",
     "exception": false,
     "start_time": "2023-11-09T16:32:53.561115",
     "status": "completed"
    },
    "tags": []
   },
   "outputs": [
    {
     "data": {
      "text/plain": [
       "204.6875"
      ]
     },
     "execution_count": 305,
     "metadata": {},
     "output_type": "execute_result"
    }
   ],
   "source": [
    "np.var(a)"
   ]
  },
  {
   "cell_type": "code",
   "execution_count": 306,
   "id": "4f95b991",
   "metadata": {
    "execution": {
     "iopub.execute_input": "2023-11-09T16:32:53.858990Z",
     "iopub.status.busy": "2023-11-09T16:32:53.857249Z",
     "iopub.status.idle": "2023-11-09T16:32:53.865576Z",
     "shell.execute_reply": "2023-11-09T16:32:53.864119Z"
    },
    "papermill": {
     "duration": 0.10711,
     "end_time": "2023-11-09T16:32:53.868418",
     "exception": false,
     "start_time": "2023-11-09T16:32:53.761308",
     "status": "completed"
    },
    "tags": []
   },
   "outputs": [
    {
     "data": {
      "text/plain": [
       "14.306903927824496"
      ]
     },
     "execution_count": 306,
     "metadata": {},
     "output_type": "execute_result"
    }
   ],
   "source": [
    "np.std(a)"
   ]
  },
  {
   "cell_type": "code",
   "execution_count": 307,
   "id": "171ea9b3",
   "metadata": {
    "execution": {
     "iopub.execute_input": "2023-11-09T16:32:54.123805Z",
     "iopub.status.busy": "2023-11-09T16:32:54.123372Z",
     "iopub.status.idle": "2023-11-09T16:32:54.131032Z",
     "shell.execute_reply": "2023-11-09T16:32:54.129895Z"
    },
    "papermill": {
     "duration": 0.174434,
     "end_time": "2023-11-09T16:32:54.133442",
     "exception": false,
     "start_time": "2023-11-09T16:32:53.959008",
     "status": "completed"
    },
    "tags": []
   },
   "outputs": [
    {
     "data": {
      "text/plain": [
       "array([10.        , 10.95445115, 10.72380529, 11.83215957])"
      ]
     },
     "execution_count": 307,
     "metadata": {},
     "output_type": "execute_result"
    }
   ],
   "source": [
    "np.sqrt(a)"
   ]
  },
  {
   "cell_type": "code",
   "execution_count": 308,
   "id": "b7e4bed5",
   "metadata": {
    "execution": {
     "iopub.execute_input": "2023-11-09T16:32:54.320632Z",
     "iopub.status.busy": "2023-11-09T16:32:54.319364Z",
     "iopub.status.idle": "2023-11-09T16:32:54.327870Z",
     "shell.execute_reply": "2023-11-09T16:32:54.326843Z"
    },
    "papermill": {
     "duration": 0.10343,
     "end_time": "2023-11-09T16:32:54.329790",
     "exception": false,
     "start_time": "2023-11-09T16:32:54.226360",
     "status": "completed"
    },
    "tags": []
   },
   "outputs": [
    {
     "data": {
      "text/plain": [
       "array([ 0.86231887,  0.81418097, -0.32580981, -0.19781357])"
      ]
     },
     "execution_count": 308,
     "metadata": {},
     "output_type": "execute_result"
    }
   ],
   "source": [
    "np.cos(a)"
   ]
  },
  {
   "cell_type": "code",
   "execution_count": 309,
   "id": "295b6216",
   "metadata": {
    "execution": {
     "iopub.execute_input": "2023-11-09T16:32:54.532541Z",
     "iopub.status.busy": "2023-11-09T16:32:54.531787Z",
     "iopub.status.idle": "2023-11-09T16:32:54.541202Z",
     "shell.execute_reply": "2023-11-09T16:32:54.539798Z"
    },
    "papermill": {
     "duration": 0.11813,
     "end_time": "2023-11-09T16:32:54.543635",
     "exception": false,
     "start_time": "2023-11-09T16:32:54.425505",
     "status": "completed"
    },
    "tags": []
   },
   "outputs": [
    {
     "data": {
      "text/plain": [
       "array([2.68811714e+43, 1.30418088e+52, 8.78750164e+49, 6.32743171e+60])"
      ]
     },
     "execution_count": 309,
     "metadata": {},
     "output_type": "execute_result"
    }
   ],
   "source": [
    "np.exp(a)"
   ]
  },
  {
   "cell_type": "code",
   "execution_count": 310,
   "id": "9e486c3c",
   "metadata": {
    "execution": {
     "iopub.execute_input": "2023-11-09T16:32:54.732604Z",
     "iopub.status.busy": "2023-11-09T16:32:54.732256Z",
     "iopub.status.idle": "2023-11-09T16:32:54.737645Z",
     "shell.execute_reply": "2023-11-09T16:32:54.737043Z"
    },
    "papermill": {
     "duration": 0.103165,
     "end_time": "2023-11-09T16:32:54.739136",
     "exception": false,
     "start_time": "2023-11-09T16:32:54.635971",
     "status": "completed"
    },
    "tags": []
   },
   "outputs": [
    {
     "data": {
      "text/plain": [
       "118.75"
      ]
     },
     "execution_count": 310,
     "metadata": {},
     "output_type": "execute_result"
    }
   ],
   "source": [
    "np.mean(a)"
   ]
  },
  {
   "cell_type": "code",
   "execution_count": 311,
   "id": "b7a896ff",
   "metadata": {
    "execution": {
     "iopub.execute_input": "2023-11-09T16:32:54.925073Z",
     "iopub.status.busy": "2023-11-09T16:32:54.924769Z",
     "iopub.status.idle": "2023-11-09T16:32:54.934486Z",
     "shell.execute_reply": "2023-11-09T16:32:54.933377Z"
    },
    "papermill": {
     "duration": 0.103458,
     "end_time": "2023-11-09T16:32:54.936413",
     "exception": false,
     "start_time": "2023-11-09T16:32:54.832955",
     "status": "completed"
    },
    "tags": []
   },
   "outputs": [
    {
     "data": {
      "text/plain": [
       "117.5"
      ]
     },
     "execution_count": 311,
     "metadata": {},
     "output_type": "execute_result"
    }
   ],
   "source": [
    "np.median(a)"
   ]
  },
  {
   "cell_type": "code",
   "execution_count": 312,
   "id": "ed023850",
   "metadata": {
    "execution": {
     "iopub.execute_input": "2023-11-09T16:32:55.122854Z",
     "iopub.status.busy": "2023-11-09T16:32:55.122241Z",
     "iopub.status.idle": "2023-11-09T16:32:55.129395Z",
     "shell.execute_reply": "2023-11-09T16:32:55.127729Z"
    },
    "papermill": {
     "duration": 0.10289,
     "end_time": "2023-11-09T16:32:55.131942",
     "exception": false,
     "start_time": "2023-11-09T16:32:55.029052",
     "status": "completed"
    },
    "tags": []
   },
   "outputs": [
    {
     "data": {
      "text/plain": [
       "array([100, 115, 120, 140])"
      ]
     },
     "execution_count": 312,
     "metadata": {},
     "output_type": "execute_result"
    }
   ],
   "source": [
    "np.sort(a)"
   ]
  },
  {
   "cell_type": "code",
   "execution_count": 313,
   "id": "b143ce66",
   "metadata": {
    "execution": {
     "iopub.execute_input": "2023-11-09T16:32:55.320836Z",
     "iopub.status.busy": "2023-11-09T16:32:55.320484Z",
     "iopub.status.idle": "2023-11-09T16:32:55.325970Z",
     "shell.execute_reply": "2023-11-09T16:32:55.324375Z"
    },
    "papermill": {
     "duration": 0.103337,
     "end_time": "2023-11-09T16:32:55.328576",
     "exception": false,
     "start_time": "2023-11-09T16:32:55.225239",
     "status": "completed"
    },
    "tags": []
   },
   "outputs": [],
   "source": [
    "# np.sort(a,reverse = True)"
   ]
  },
  {
   "cell_type": "code",
   "execution_count": 314,
   "id": "0b245a82",
   "metadata": {
    "execution": {
     "iopub.execute_input": "2023-11-09T16:32:55.512430Z",
     "iopub.status.busy": "2023-11-09T16:32:55.512082Z",
     "iopub.status.idle": "2023-11-09T16:32:55.517062Z",
     "shell.execute_reply": "2023-11-09T16:32:55.515980Z"
    },
    "papermill": {
     "duration": 0.098228,
     "end_time": "2023-11-09T16:32:55.518963",
     "exception": false,
     "start_time": "2023-11-09T16:32:55.420735",
     "status": "completed"
    },
    "tags": []
   },
   "outputs": [],
   "source": [
    "# help(np.sort(a))"
   ]
  },
  {
   "cell_type": "code",
   "execution_count": 315,
   "id": "bf42473c",
   "metadata": {
    "execution": {
     "iopub.execute_input": "2023-11-09T16:32:55.700526Z",
     "iopub.status.busy": "2023-11-09T16:32:55.699644Z",
     "iopub.status.idle": "2023-11-09T16:32:55.708235Z",
     "shell.execute_reply": "2023-11-09T16:32:55.706522Z"
    },
    "papermill": {
     "duration": 0.103723,
     "end_time": "2023-11-09T16:32:55.710933",
     "exception": false,
     "start_time": "2023-11-09T16:32:55.607210",
     "status": "completed"
    },
    "tags": []
   },
   "outputs": [
    {
     "data": {
      "text/plain": [
       "array([140, 120, 115, 100])"
      ]
     },
     "execution_count": 315,
     "metadata": {},
     "output_type": "execute_result"
    }
   ],
   "source": [
    "np.sort(a)[::-1]"
   ]
  },
  {
   "cell_type": "code",
   "execution_count": 316,
   "id": "ab9332d5",
   "metadata": {
    "execution": {
     "iopub.execute_input": "2023-11-09T16:32:55.896356Z",
     "iopub.status.busy": "2023-11-09T16:32:55.895358Z",
     "iopub.status.idle": "2023-11-09T16:32:55.901933Z",
     "shell.execute_reply": "2023-11-09T16:32:55.900978Z"
    },
    "papermill": {
     "duration": 0.10224,
     "end_time": "2023-11-09T16:32:55.903932",
     "exception": false,
     "start_time": "2023-11-09T16:32:55.801692",
     "status": "completed"
    },
    "tags": []
   },
   "outputs": [
    {
     "data": {
      "text/plain": [
       "[20, 15, 10]"
      ]
     },
     "execution_count": 316,
     "metadata": {},
     "output_type": "execute_result"
    }
   ],
   "source": [
    "a = [10,20,15]\n",
    "sorted(a,reverse = True)\n"
   ]
  },
  {
   "cell_type": "code",
   "execution_count": 317,
   "id": "3ef67997",
   "metadata": {
    "execution": {
     "iopub.execute_input": "2023-11-09T16:32:56.091329Z",
     "iopub.status.busy": "2023-11-09T16:32:56.090742Z",
     "iopub.status.idle": "2023-11-09T16:32:56.096235Z",
     "shell.execute_reply": "2023-11-09T16:32:56.094822Z"
    },
    "papermill": {
     "duration": 0.102373,
     "end_time": "2023-11-09T16:32:56.098485",
     "exception": false,
     "start_time": "2023-11-09T16:32:55.996112",
     "status": "completed"
    },
    "tags": []
   },
   "outputs": [
    {
     "name": "stdout",
     "output_type": "stream",
     "text": [
      "None\n"
     ]
    }
   ],
   "source": [
    "a = [10,20,30,15]\n",
    "print(a.sort())\n"
   ]
  },
  {
   "cell_type": "code",
   "execution_count": 318,
   "id": "6ba35359",
   "metadata": {
    "execution": {
     "iopub.execute_input": "2023-11-09T16:32:56.284855Z",
     "iopub.status.busy": "2023-11-09T16:32:56.284465Z",
     "iopub.status.idle": "2023-11-09T16:32:56.292106Z",
     "shell.execute_reply": "2023-11-09T16:32:56.290803Z"
    },
    "papermill": {
     "duration": 0.106103,
     "end_time": "2023-11-09T16:32:56.294506",
     "exception": false,
     "start_time": "2023-11-09T16:32:56.188403",
     "status": "completed"
    },
    "tags": []
   },
   "outputs": [
    {
     "data": {
      "text/plain": [
       "[10, 15, 20, 30]"
      ]
     },
     "execution_count": 318,
     "metadata": {},
     "output_type": "execute_result"
    }
   ],
   "source": [
    "sorted(a)"
   ]
  },
  {
   "cell_type": "code",
   "execution_count": 319,
   "id": "62f2eb09",
   "metadata": {
    "execution": {
     "iopub.execute_input": "2023-11-09T16:32:56.481223Z",
     "iopub.status.busy": "2023-11-09T16:32:56.480889Z",
     "iopub.status.idle": "2023-11-09T16:32:56.488037Z",
     "shell.execute_reply": "2023-11-09T16:32:56.486599Z"
    },
    "papermill": {
     "duration": 0.103249,
     "end_time": "2023-11-09T16:32:56.490693",
     "exception": false,
     "start_time": "2023-11-09T16:32:56.387444",
     "status": "completed"
    },
    "tags": []
   },
   "outputs": [
    {
     "data": {
      "text/plain": [
       "[9, 10]"
      ]
     },
     "execution_count": 319,
     "metadata": {},
     "output_type": "execute_result"
    }
   ],
   "source": [
    "b = [10,9]\n",
    "b.sort()\n",
    "b"
   ]
  },
  {
   "cell_type": "code",
   "execution_count": 320,
   "id": "91bb59f7",
   "metadata": {
    "execution": {
     "iopub.execute_input": "2023-11-09T16:32:56.745941Z",
     "iopub.status.busy": "2023-11-09T16:32:56.745599Z",
     "iopub.status.idle": "2023-11-09T16:32:56.750217Z",
     "shell.execute_reply": "2023-11-09T16:32:56.748714Z"
    },
    "papermill": {
     "duration": 0.104933,
     "end_time": "2023-11-09T16:32:56.752713",
     "exception": false,
     "start_time": "2023-11-09T16:32:56.647780",
     "status": "completed"
    },
    "tags": []
   },
   "outputs": [],
   "source": [
    "# sort  inplace\n",
    "# soerted new list\n",
    "\n",
    "\n",
    "# np.sort()  new list "
   ]
  },
  {
   "cell_type": "code",
   "execution_count": 321,
   "id": "049c9cb9",
   "metadata": {
    "execution": {
     "iopub.execute_input": "2023-11-09T16:32:56.938361Z",
     "iopub.status.busy": "2023-11-09T16:32:56.937941Z",
     "iopub.status.idle": "2023-11-09T16:32:56.944986Z",
     "shell.execute_reply": "2023-11-09T16:32:56.943583Z"
    },
    "papermill": {
     "duration": 0.101403,
     "end_time": "2023-11-09T16:32:56.947546",
     "exception": false,
     "start_time": "2023-11-09T16:32:56.846143",
     "status": "completed"
    },
    "tags": []
   },
   "outputs": [
    {
     "data": {
      "text/plain": [
       "(array([0, 1, 4]),)"
      ]
     },
     "execution_count": 321,
     "metadata": {},
     "output_type": "execute_result"
    }
   ],
   "source": [
    "import numpy as np\n",
    "\n",
    "a = np.array([90,85,60,79,90])\n",
    "\n",
    "\n",
    "np.where ( a > 80)\n"
   ]
  },
  {
   "cell_type": "code",
   "execution_count": 322,
   "id": "7a25f1ee",
   "metadata": {
    "execution": {
     "iopub.execute_input": "2023-11-09T16:32:57.132349Z",
     "iopub.status.busy": "2023-11-09T16:32:57.131981Z",
     "iopub.status.idle": "2023-11-09T16:32:57.138363Z",
     "shell.execute_reply": "2023-11-09T16:32:57.137464Z"
    },
    "papermill": {
     "duration": 0.101602,
     "end_time": "2023-11-09T16:32:57.140525",
     "exception": false,
     "start_time": "2023-11-09T16:32:57.038923",
     "status": "completed"
    },
    "tags": []
   },
   "outputs": [
    {
     "data": {
      "text/plain": [
       "array([[0.52191572, 0.69940637, 0.26986897],\n",
       "       [0.67448187, 0.90807208, 0.6851502 ]])"
      ]
     },
     "execution_count": 322,
     "metadata": {},
     "output_type": "execute_result"
    }
   ],
   "source": [
    "#seed\n",
    "np.random.seed(80)\n",
    "a = np.random.rand(2,3)\n",
    "a"
   ]
  },
  {
   "cell_type": "code",
   "execution_count": 323,
   "id": "bace13f8",
   "metadata": {
    "execution": {
     "iopub.execute_input": "2023-11-09T16:32:57.327846Z",
     "iopub.status.busy": "2023-11-09T16:32:57.327210Z",
     "iopub.status.idle": "2023-11-09T16:32:57.334123Z",
     "shell.execute_reply": "2023-11-09T16:32:57.332738Z"
    },
    "papermill": {
     "duration": 0.102114,
     "end_time": "2023-11-09T16:32:57.336310",
     "exception": false,
     "start_time": "2023-11-09T16:32:57.234196",
     "status": "completed"
    },
    "tags": []
   },
   "outputs": [
    {
     "data": {
      "text/plain": [
       "array([[0.21165334, 0.31726607, 0.2672994 ],\n",
       "       [0.12050632, 0.9968569 , 0.08043969]])"
      ]
     },
     "execution_count": 323,
     "metadata": {},
     "output_type": "execute_result"
    }
   ],
   "source": [
    "a = np.random.rand(2,3)\n",
    "a"
   ]
  },
  {
   "cell_type": "code",
   "execution_count": 324,
   "id": "0408d4ed",
   "metadata": {
    "execution": {
     "iopub.execute_input": "2023-11-09T16:32:57.518934Z",
     "iopub.status.busy": "2023-11-09T16:32:57.518596Z",
     "iopub.status.idle": "2023-11-09T16:32:57.524449Z",
     "shell.execute_reply": "2023-11-09T16:32:57.523534Z"
    },
    "papermill": {
     "duration": 0.099327,
     "end_time": "2023-11-09T16:32:57.526528",
     "exception": false,
     "start_time": "2023-11-09T16:32:57.427201",
     "status": "completed"
    },
    "tags": []
   },
   "outputs": [
    {
     "data": {
      "text/plain": [
       "array([[0.52191572, 0.69940637, 0.26986897],\n",
       "       [0.67448187, 0.90807208, 0.6851502 ]])"
      ]
     },
     "execution_count": 324,
     "metadata": {},
     "output_type": "execute_result"
    }
   ],
   "source": [
    "np.random.seed(80)\n",
    "a = np.random.rand(2,3)\n",
    "a"
   ]
  },
  {
   "cell_type": "code",
   "execution_count": 325,
   "id": "759fa18a",
   "metadata": {
    "execution": {
     "iopub.execute_input": "2023-11-09T16:32:57.714103Z",
     "iopub.status.busy": "2023-11-09T16:32:57.713763Z",
     "iopub.status.idle": "2023-11-09T16:32:57.721859Z",
     "shell.execute_reply": "2023-11-09T16:32:57.720231Z"
    },
    "papermill": {
     "duration": 0.108099,
     "end_time": "2023-11-09T16:32:57.724575",
     "exception": false,
     "start_time": "2023-11-09T16:32:57.616476",
     "status": "completed"
    },
    "tags": []
   },
   "outputs": [
    {
     "data": {
      "text/plain": [
       "array([20., 28., 36., 44., 52., 60.])"
      ]
     },
     "execution_count": 325,
     "metadata": {},
     "output_type": "execute_result"
    }
   ],
   "source": [
    "np.linspace(20,60,6)"
   ]
  },
  {
   "cell_type": "code",
   "execution_count": 326,
   "id": "54aac094",
   "metadata": {
    "execution": {
     "iopub.execute_input": "2023-11-09T16:32:57.911197Z",
     "iopub.status.busy": "2023-11-09T16:32:57.910881Z",
     "iopub.status.idle": "2023-11-09T16:32:57.919523Z",
     "shell.execute_reply": "2023-11-09T16:32:57.917912Z"
    },
    "papermill": {
     "duration": 0.102733,
     "end_time": "2023-11-09T16:32:57.922293",
     "exception": false,
     "start_time": "2023-11-09T16:32:57.819560",
     "status": "completed"
    },
    "tags": []
   },
   "outputs": [
    {
     "data": {
      "text/plain": [
       "array([[1., 1., 1.],\n",
       "       [1., 1., 1.],\n",
       "       [1., 1., 1.]])"
      ]
     },
     "execution_count": 326,
     "metadata": {},
     "output_type": "execute_result"
    }
   ],
   "source": [
    "a = np.ones((3,3))\n",
    "a"
   ]
  },
  {
   "cell_type": "code",
   "execution_count": 327,
   "id": "914f8861",
   "metadata": {
    "execution": {
     "iopub.execute_input": "2023-11-09T16:32:58.110343Z",
     "iopub.status.busy": "2023-11-09T16:32:58.109959Z",
     "iopub.status.idle": "2023-11-09T16:32:58.117830Z",
     "shell.execute_reply": "2023-11-09T16:32:58.116678Z"
    },
    "papermill": {
     "duration": 0.104309,
     "end_time": "2023-11-09T16:32:58.120439",
     "exception": false,
     "start_time": "2023-11-09T16:32:58.016130",
     "status": "completed"
    },
    "tags": []
   },
   "outputs": [
    {
     "data": {
      "text/plain": [
       "array([[0., 0., 0.],\n",
       "       [0., 0., 0.],\n",
       "       [0., 0., 0.]])"
      ]
     },
     "execution_count": 327,
     "metadata": {},
     "output_type": "execute_result"
    }
   ],
   "source": [
    "b = np.zeros((3,3))\n",
    "b"
   ]
  },
  {
   "cell_type": "code",
   "execution_count": 328,
   "id": "4e011e80",
   "metadata": {
    "execution": {
     "iopub.execute_input": "2023-11-09T16:32:58.314017Z",
     "iopub.status.busy": "2023-11-09T16:32:58.313647Z",
     "iopub.status.idle": "2023-11-09T16:32:58.320237Z",
     "shell.execute_reply": "2023-11-09T16:32:58.318886Z"
    },
    "papermill": {
     "duration": 0.105583,
     "end_time": "2023-11-09T16:32:58.323129",
     "exception": false,
     "start_time": "2023-11-09T16:32:58.217546",
     "status": "completed"
    },
    "tags": []
   },
   "outputs": [
    {
     "data": {
      "text/plain": [
       "array([[1., 1., 1.],\n",
       "       [1., 1., 1.],\n",
       "       [1., 1., 1.],\n",
       "       [0., 0., 0.],\n",
       "       [0., 0., 0.],\n",
       "       [0., 0., 0.]])"
      ]
     },
     "execution_count": 328,
     "metadata": {},
     "output_type": "execute_result"
    }
   ],
   "source": [
    "c  = np.vstack((a,b))\n",
    "c"
   ]
  },
  {
   "cell_type": "code",
   "execution_count": 329,
   "id": "5eb85827",
   "metadata": {
    "execution": {
     "iopub.execute_input": "2023-11-09T16:32:58.513865Z",
     "iopub.status.busy": "2023-11-09T16:32:58.513498Z",
     "iopub.status.idle": "2023-11-09T16:32:58.518035Z",
     "shell.execute_reply": "2023-11-09T16:32:58.516956Z"
    },
    "papermill": {
     "duration": 0.101275,
     "end_time": "2023-11-09T16:32:58.520297",
     "exception": false,
     "start_time": "2023-11-09T16:32:58.419022",
     "status": "completed"
    },
    "tags": []
   },
   "outputs": [],
   "source": [
    "# d  = np.hstack((a,b))\n",
    "# e = np."
   ]
  },
  {
   "cell_type": "code",
   "execution_count": 330,
   "id": "be6eca68",
   "metadata": {
    "execution": {
     "iopub.execute_input": "2023-11-09T16:32:58.710859Z",
     "iopub.status.busy": "2023-11-09T16:32:58.710478Z",
     "iopub.status.idle": "2023-11-09T16:32:58.717099Z",
     "shell.execute_reply": "2023-11-09T16:32:58.715793Z"
    },
    "papermill": {
     "duration": 0.10662,
     "end_time": "2023-11-09T16:32:58.719466",
     "exception": false,
     "start_time": "2023-11-09T16:32:58.612846",
     "status": "completed"
    },
    "tags": []
   },
   "outputs": [
    {
     "data": {
      "text/plain": [
       "array([[0., 0., 0.],\n",
       "       [0., 0., 0.],\n",
       "       [0., 0., 0.]])"
      ]
     },
     "execution_count": 330,
     "metadata": {},
     "output_type": "execute_result"
    }
   ],
   "source": [
    "b = np.zeros((3,3))\n",
    "b"
   ]
  },
  {
   "cell_type": "code",
   "execution_count": 331,
   "id": "74c41a99",
   "metadata": {
    "execution": {
     "iopub.execute_input": "2023-11-09T16:32:58.906427Z",
     "iopub.status.busy": "2023-11-09T16:32:58.905866Z",
     "iopub.status.idle": "2023-11-09T16:32:58.909171Z",
     "shell.execute_reply": "2023-11-09T16:32:58.908550Z"
    },
    "papermill": {
     "duration": 0.099868,
     "end_time": "2023-11-09T16:32:58.910832",
     "exception": false,
     "start_time": "2023-11-09T16:32:58.810964",
     "status": "completed"
    },
    "tags": []
   },
   "outputs": [],
   "source": [
    "# np.genfromtxt(\"a.csv\")"
   ]
  },
  {
   "cell_type": "code",
   "execution_count": 332,
   "id": "af1dba2f",
   "metadata": {
    "execution": {
     "iopub.execute_input": "2023-11-09T16:32:59.100660Z",
     "iopub.status.busy": "2023-11-09T16:32:59.100081Z",
     "iopub.status.idle": "2023-11-09T16:32:59.103982Z",
     "shell.execute_reply": "2023-11-09T16:32:59.103312Z"
    },
    "papermill": {
     "duration": 0.103002,
     "end_time": "2023-11-09T16:32:59.105668",
     "exception": false,
     "start_time": "2023-11-09T16:32:59.002666",
     "status": "completed"
    },
    "tags": []
   },
   "outputs": [],
   "source": [
    "np.save(\"parth.npy\",b)"
   ]
  },
  {
   "cell_type": "code",
   "execution_count": 333,
   "id": "e6be6cc1",
   "metadata": {
    "execution": {
     "iopub.execute_input": "2023-11-09T16:32:59.362717Z",
     "iopub.status.busy": "2023-11-09T16:32:59.362132Z",
     "iopub.status.idle": "2023-11-09T16:32:59.368202Z",
     "shell.execute_reply": "2023-11-09T16:32:59.366974Z"
    },
    "papermill": {
     "duration": 0.103901,
     "end_time": "2023-11-09T16:32:59.370396",
     "exception": false,
     "start_time": "2023-11-09T16:32:59.266495",
     "status": "completed"
    },
    "tags": []
   },
   "outputs": [
    {
     "data": {
      "text/plain": [
       "array([[0., 0., 0.],\n",
       "       [0., 0., 0.],\n",
       "       [0., 0., 0.]])"
      ]
     },
     "execution_count": 333,
     "metadata": {},
     "output_type": "execute_result"
    }
   ],
   "source": [
    "np.load(\"parth.npy\")"
   ]
  },
  {
   "cell_type": "code",
   "execution_count": 334,
   "id": "7f9ad077",
   "metadata": {
    "execution": {
     "iopub.execute_input": "2023-11-09T16:32:59.556823Z",
     "iopub.status.busy": "2023-11-09T16:32:59.556235Z",
     "iopub.status.idle": "2023-11-09T16:32:59.561595Z",
     "shell.execute_reply": "2023-11-09T16:32:59.561016Z"
    },
    "papermill": {
     "duration": 0.100307,
     "end_time": "2023-11-09T16:32:59.563292",
     "exception": false,
     "start_time": "2023-11-09T16:32:59.462985",
     "status": "completed"
    },
    "tags": []
   },
   "outputs": [
    {
     "data": {
      "text/plain": [
       "array([[1., 1., 1., ..., 1., 1., 1.],\n",
       "       [1., 1., 1., ..., 1., 1., 1.],\n",
       "       [1., 1., 1., ..., 1., 1., 1.],\n",
       "       ...,\n",
       "       [1., 1., 1., ..., 1., 1., 1.],\n",
       "       [1., 1., 1., ..., 1., 1., 1.],\n",
       "       [1., 1., 1., ..., 1., 1., 1.]])"
      ]
     },
     "execution_count": 334,
     "metadata": {},
     "output_type": "execute_result"
    }
   ],
   "source": [
    "a = np.ones((8,240))\n",
    "a"
   ]
  },
  {
   "cell_type": "code",
   "execution_count": 335,
   "id": "c94b0d4c",
   "metadata": {
    "execution": {
     "iopub.execute_input": "2023-11-09T16:32:59.750555Z",
     "iopub.status.busy": "2023-11-09T16:32:59.749991Z",
     "iopub.status.idle": "2023-11-09T16:32:59.755740Z",
     "shell.execute_reply": "2023-11-09T16:32:59.754540Z"
    },
    "papermill": {
     "duration": 0.102322,
     "end_time": "2023-11-09T16:32:59.757789",
     "exception": false,
     "start_time": "2023-11-09T16:32:59.655467",
     "status": "completed"
    },
    "tags": []
   },
   "outputs": [
    {
     "data": {
      "text/plain": [
       "array([[1., 1., 1., ..., 1., 1., 1.]])"
      ]
     },
     "execution_count": 335,
     "metadata": {},
     "output_type": "execute_result"
    }
   ],
   "source": [
    "a.reshape(1,-1)\n"
   ]
  },
  {
   "cell_type": "code",
   "execution_count": 336,
   "id": "06a8c0ae",
   "metadata": {
    "execution": {
     "iopub.execute_input": "2023-11-09T16:32:59.942117Z",
     "iopub.status.busy": "2023-11-09T16:32:59.941467Z",
     "iopub.status.idle": "2023-11-09T16:32:59.947650Z",
     "shell.execute_reply": "2023-11-09T16:32:59.946443Z"
    },
    "papermill": {
     "duration": 0.099744,
     "end_time": "2023-11-09T16:32:59.949519",
     "exception": false,
     "start_time": "2023-11-09T16:32:59.849775",
     "status": "completed"
    },
    "tags": []
   },
   "outputs": [
    {
     "data": {
      "text/plain": [
       "array([1., 1., 1., ..., 1., 1., 1.])"
      ]
     },
     "execution_count": 336,
     "metadata": {},
     "output_type": "execute_result"
    }
   ],
   "source": [
    "a.flatten()"
   ]
  },
  {
   "cell_type": "code",
   "execution_count": 337,
   "id": "d3c0268a",
   "metadata": {
    "execution": {
     "iopub.execute_input": "2023-11-09T16:33:00.134476Z",
     "iopub.status.busy": "2023-11-09T16:33:00.134105Z",
     "iopub.status.idle": "2023-11-09T16:33:00.138589Z",
     "shell.execute_reply": "2023-11-09T16:33:00.137679Z"
    },
    "papermill": {
     "duration": 0.099485,
     "end_time": "2023-11-09T16:33:00.140453",
     "exception": false,
     "start_time": "2023-11-09T16:33:00.040968",
     "status": "completed"
    },
    "tags": []
   },
   "outputs": [],
   "source": [
    "a = np.zeros((4,4))"
   ]
  },
  {
   "cell_type": "code",
   "execution_count": 338,
   "id": "3709cb75",
   "metadata": {
    "execution": {
     "iopub.execute_input": "2023-11-09T16:33:00.333407Z",
     "iopub.status.busy": "2023-11-09T16:33:00.333005Z",
     "iopub.status.idle": "2023-11-09T16:33:00.339307Z",
     "shell.execute_reply": "2023-11-09T16:33:00.338260Z"
    },
    "papermill": {
     "duration": 0.106167,
     "end_time": "2023-11-09T16:33:00.342093",
     "exception": false,
     "start_time": "2023-11-09T16:33:00.235926",
     "status": "completed"
    },
    "tags": []
   },
   "outputs": [
    {
     "data": {
      "text/plain": [
       "(2, 8)"
      ]
     },
     "execution_count": 338,
     "metadata": {},
     "output_type": "execute_result"
    }
   ],
   "source": [
    "a = a.reshape(2,8)\n",
    "a.shape"
   ]
  },
  {
   "cell_type": "code",
   "execution_count": 339,
   "id": "9dbf8f2d",
   "metadata": {
    "execution": {
     "iopub.execute_input": "2023-11-09T16:33:00.534166Z",
     "iopub.status.busy": "2023-11-09T16:33:00.533802Z",
     "iopub.status.idle": "2023-11-09T16:33:00.541355Z",
     "shell.execute_reply": "2023-11-09T16:33:00.539924Z"
    },
    "papermill": {
     "duration": 0.105431,
     "end_time": "2023-11-09T16:33:00.543343",
     "exception": false,
     "start_time": "2023-11-09T16:33:00.437912",
     "status": "completed"
    },
    "tags": []
   },
   "outputs": [
    {
     "data": {
      "text/plain": [
       "(2, 8)"
      ]
     },
     "execution_count": 339,
     "metadata": {},
     "output_type": "execute_result"
    }
   ],
   "source": [
    "a = a.reshape(2,-1)\n",
    "a.shape"
   ]
  },
  {
   "cell_type": "code",
   "execution_count": 340,
   "id": "f8950535",
   "metadata": {
    "execution": {
     "iopub.execute_input": "2023-11-09T16:33:00.738510Z",
     "iopub.status.busy": "2023-11-09T16:33:00.738111Z",
     "iopub.status.idle": "2023-11-09T16:33:00.745371Z",
     "shell.execute_reply": "2023-11-09T16:33:00.744580Z"
    },
    "papermill": {
     "duration": 0.109718,
     "end_time": "2023-11-09T16:33:00.747014",
     "exception": false,
     "start_time": "2023-11-09T16:33:00.637296",
     "status": "completed"
    },
    "tags": []
   },
   "outputs": [
    {
     "data": {
      "text/plain": [
       "array([ 9,  8,  6, 88, 99])"
      ]
     },
     "execution_count": 340,
     "metadata": {},
     "output_type": "execute_result"
    }
   ],
   "source": [
    "c = np.array([9,8,6])\n",
    "b = np.append(c,[88,99])\n",
    "b"
   ]
  },
  {
   "cell_type": "code",
   "execution_count": 341,
   "id": "e7f6941d",
   "metadata": {
    "execution": {
     "iopub.execute_input": "2023-11-09T16:33:00.939246Z",
     "iopub.status.busy": "2023-11-09T16:33:00.938915Z",
     "iopub.status.idle": "2023-11-09T16:33:00.946055Z",
     "shell.execute_reply": "2023-11-09T16:33:00.945022Z"
    },
    "papermill": {
     "duration": 0.105984,
     "end_time": "2023-11-09T16:33:00.948438",
     "exception": false,
     "start_time": "2023-11-09T16:33:00.842454",
     "status": "completed"
    },
    "tags": []
   },
   "outputs": [
    {
     "data": {
      "text/plain": [
       "array([ 9, 88, 99,  8,  6])"
      ]
     },
     "execution_count": 341,
     "metadata": {},
     "output_type": "execute_result"
    }
   ],
   "source": [
    "c = np.array([9,8,6])\n",
    "b = np.insert(c,1,[88,99])\n",
    "b"
   ]
  },
  {
   "cell_type": "code",
   "execution_count": 342,
   "id": "1310db0b",
   "metadata": {
    "execution": {
     "iopub.execute_input": "2023-11-09T16:33:01.146205Z",
     "iopub.status.busy": "2023-11-09T16:33:01.145570Z",
     "iopub.status.idle": "2023-11-09T16:33:01.153055Z",
     "shell.execute_reply": "2023-11-09T16:33:01.151734Z"
    },
    "papermill": {
     "duration": 0.107148,
     "end_time": "2023-11-09T16:33:01.156045",
     "exception": false,
     "start_time": "2023-11-09T16:33:01.048897",
     "status": "completed"
    },
    "tags": []
   },
   "outputs": [
    {
     "data": {
      "text/plain": [
       "array([9, 8])"
      ]
     },
     "execution_count": 342,
     "metadata": {},
     "output_type": "execute_result"
    }
   ],
   "source": [
    "c = np.array([9,8,6])\n",
    "b = np.delete(c,2)\n",
    "b"
   ]
  },
  {
   "cell_type": "code",
   "execution_count": 343,
   "id": "e565906c",
   "metadata": {
    "execution": {
     "iopub.execute_input": "2023-11-09T16:33:01.352412Z",
     "iopub.status.busy": "2023-11-09T16:33:01.351333Z",
     "iopub.status.idle": "2023-11-09T16:33:01.358747Z",
     "shell.execute_reply": "2023-11-09T16:33:01.357944Z"
    },
    "papermill": {
     "duration": 0.107167,
     "end_time": "2023-11-09T16:33:01.360981",
     "exception": false,
     "start_time": "2023-11-09T16:33:01.253814",
     "status": "completed"
    },
    "tags": []
   },
   "outputs": [
    {
     "data": {
      "text/plain": [
       "array([[1., 1.],\n",
       "       [1., 1.],\n",
       "       [1., 1.],\n",
       "       [1., 1.],\n",
       "       [1., 1.],\n",
       "       [1., 1.],\n",
       "       [1., 1.],\n",
       "       [1., 1.]])"
      ]
     },
     "execution_count": 343,
     "metadata": {},
     "output_type": "execute_result"
    }
   ],
   "source": [
    "a= np.ones((4,4))\n",
    "a = a.reshape((8,-1))\n",
    "a"
   ]
  },
  {
   "cell_type": "code",
   "execution_count": 344,
   "id": "080aeae7",
   "metadata": {
    "execution": {
     "iopub.execute_input": "2023-11-09T16:33:01.553817Z",
     "iopub.status.busy": "2023-11-09T16:33:01.552304Z",
     "iopub.status.idle": "2023-11-09T16:33:01.560415Z",
     "shell.execute_reply": "2023-11-09T16:33:01.559232Z"
    },
    "papermill": {
     "duration": 0.106036,
     "end_time": "2023-11-09T16:33:01.562380",
     "exception": false,
     "start_time": "2023-11-09T16:33:01.456344",
     "status": "completed"
    },
    "tags": []
   },
   "outputs": [
    {
     "data": {
      "text/plain": [
       "array([[1., 1.],\n",
       "       [1., 1.],\n",
       "       [1., 1.],\n",
       "       [1., 1.],\n",
       "       [1., 1.],\n",
       "       [1., 1.],\n",
       "       [1., 1.],\n",
       "       [1., 1.]])"
      ]
     },
     "execution_count": 344,
     "metadata": {},
     "output_type": "execute_result"
    }
   ],
   "source": [
    "a= np.ones((4,4))\n",
    "a.resize((8,2))\n",
    "a"
   ]
  },
  {
   "cell_type": "code",
   "execution_count": 345,
   "id": "0b13e543",
   "metadata": {
    "execution": {
     "iopub.execute_input": "2023-11-09T16:33:01.755893Z",
     "iopub.status.busy": "2023-11-09T16:33:01.754453Z",
     "iopub.status.idle": "2023-11-09T16:33:01.762741Z",
     "shell.execute_reply": "2023-11-09T16:33:01.761024Z"
    },
    "papermill": {
     "duration": 0.108544,
     "end_time": "2023-11-09T16:33:01.765436",
     "exception": false,
     "start_time": "2023-11-09T16:33:01.656892",
     "status": "completed"
    },
    "tags": []
   },
   "outputs": [
    {
     "data": {
      "text/plain": [
       "array([False,  True, False, False])"
      ]
     },
     "execution_count": 345,
     "metadata": {},
     "output_type": "execute_result"
    }
   ],
   "source": [
    "a = np.array([True, True, True, False])\n",
    "b = np.array([False, True,False, False])\n",
    "\n",
    "c = np.logical_and(a,b)\n",
    "c"
   ]
  },
  {
   "cell_type": "code",
   "execution_count": 346,
   "id": "ff3175ff",
   "metadata": {
    "execution": {
     "iopub.execute_input": "2023-11-09T16:33:01.958821Z",
     "iopub.status.busy": "2023-11-09T16:33:01.958165Z",
     "iopub.status.idle": "2023-11-09T16:33:01.965701Z",
     "shell.execute_reply": "2023-11-09T16:33:01.964948Z"
    },
    "papermill": {
     "duration": 0.106123,
     "end_time": "2023-11-09T16:33:01.967778",
     "exception": false,
     "start_time": "2023-11-09T16:33:01.861655",
     "status": "completed"
    },
    "tags": []
   },
   "outputs": [
    {
     "data": {
      "text/plain": [
       "array([ True,  True,  True, False])"
      ]
     },
     "execution_count": 346,
     "metadata": {},
     "output_type": "execute_result"
    }
   ],
   "source": [
    "a = np.array([True, True, True, False])\n",
    "b = np.array([False, True,False, False])\n",
    "\n",
    "c = np.logical_or(a,b)\n",
    "c"
   ]
  },
  {
   "cell_type": "code",
   "execution_count": 347,
   "id": "d433e6d3",
   "metadata": {
    "execution": {
     "iopub.execute_input": "2023-11-09T16:33:02.158564Z",
     "iopub.status.busy": "2023-11-09T16:33:02.157921Z",
     "iopub.status.idle": "2023-11-09T16:33:02.164757Z",
     "shell.execute_reply": "2023-11-09T16:33:02.162855Z"
    },
    "papermill": {
     "duration": 0.105848,
     "end_time": "2023-11-09T16:33:02.167444",
     "exception": false,
     "start_time": "2023-11-09T16:33:02.061596",
     "status": "completed"
    },
    "tags": []
   },
   "outputs": [
    {
     "data": {
      "text/plain": [
       "array([False, False, False,  True])"
      ]
     },
     "execution_count": 347,
     "metadata": {},
     "output_type": "execute_result"
    }
   ],
   "source": [
    "a = np.array([True, True, True, False])\n",
    "b = np.logical_not(a)\n",
    "b"
   ]
  },
  {
   "cell_type": "code",
   "execution_count": 348,
   "id": "2630e521",
   "metadata": {
    "execution": {
     "iopub.execute_input": "2023-11-09T16:33:02.430869Z",
     "iopub.status.busy": "2023-11-09T16:33:02.430180Z",
     "iopub.status.idle": "2023-11-09T16:33:02.437207Z",
     "shell.execute_reply": "2023-11-09T16:33:02.436175Z"
    },
    "papermill": {
     "duration": 0.105569,
     "end_time": "2023-11-09T16:33:02.439627",
     "exception": false,
     "start_time": "2023-11-09T16:33:02.334058",
     "status": "completed"
    },
    "tags": []
   },
   "outputs": [
    {
     "data": {
      "text/plain": [
       "array([20, 30])"
      ]
     },
     "execution_count": 348,
     "metadata": {},
     "output_type": "execute_result"
    }
   ],
   "source": [
    "a = np.array([10,20,30])\n",
    "a[np.where ( a > 15)]\n"
   ]
  },
  {
   "cell_type": "code",
   "execution_count": 349,
   "id": "2429f0bc",
   "metadata": {
    "execution": {
     "iopub.execute_input": "2023-11-09T16:33:02.628779Z",
     "iopub.status.busy": "2023-11-09T16:33:02.628431Z",
     "iopub.status.idle": "2023-11-09T16:33:02.632434Z",
     "shell.execute_reply": "2023-11-09T16:33:02.631636Z"
    },
    "papermill": {
     "duration": 0.10064,
     "end_time": "2023-11-09T16:33:02.634194",
     "exception": false,
     "start_time": "2023-11-09T16:33:02.533554",
     "status": "completed"
    },
    "tags": []
   },
   "outputs": [],
   "source": [
    "import numpy as np"
   ]
  },
  {
   "cell_type": "code",
   "execution_count": 350,
   "id": "41918dd1",
   "metadata": {
    "execution": {
     "iopub.execute_input": "2023-11-09T16:33:02.825485Z",
     "iopub.status.busy": "2023-11-09T16:33:02.825122Z",
     "iopub.status.idle": "2023-11-09T16:33:02.832244Z",
     "shell.execute_reply": "2023-11-09T16:33:02.831221Z"
    },
    "papermill": {
     "duration": 0.105,
     "end_time": "2023-11-09T16:33:02.834525",
     "exception": false,
     "start_time": "2023-11-09T16:33:02.729525",
     "status": "completed"
    },
    "tags": []
   },
   "outputs": [
    {
     "data": {
      "text/plain": [
       "array([False,  True, False, False])"
      ]
     },
     "execution_count": 350,
     "metadata": {},
     "output_type": "execute_result"
    }
   ],
   "source": [
    "a = np.array([True, True, True, False])\n",
    "b = np.array([False, True,False, False])\n",
    "\n",
    "c =  a & b\n",
    "c"
   ]
  },
  {
   "cell_type": "code",
   "execution_count": 351,
   "id": "c178c62e",
   "metadata": {
    "execution": {
     "iopub.execute_input": "2023-11-09T16:33:03.028209Z",
     "iopub.status.busy": "2023-11-09T16:33:03.027214Z",
     "iopub.status.idle": "2023-11-09T16:33:03.034923Z",
     "shell.execute_reply": "2023-11-09T16:33:03.033542Z"
    },
    "papermill": {
     "duration": 0.107369,
     "end_time": "2023-11-09T16:33:03.037571",
     "exception": false,
     "start_time": "2023-11-09T16:33:02.930202",
     "status": "completed"
    },
    "tags": []
   },
   "outputs": [
    {
     "data": {
      "text/plain": [
       "array([ True,  True,  True, False])"
      ]
     },
     "execution_count": 351,
     "metadata": {},
     "output_type": "execute_result"
    }
   ],
   "source": [
    "a = np.array([True, True, True, False])\n",
    "b = np.array([False, True,False, False])\n",
    "\n",
    "c =  a | b # or \n",
    "c"
   ]
  },
  {
   "cell_type": "code",
   "execution_count": 352,
   "id": "a1982173",
   "metadata": {
    "execution": {
     "iopub.execute_input": "2023-11-09T16:33:03.232695Z",
     "iopub.status.busy": "2023-11-09T16:33:03.231463Z",
     "iopub.status.idle": "2023-11-09T16:33:03.238771Z",
     "shell.execute_reply": "2023-11-09T16:33:03.237849Z"
    },
    "papermill": {
     "duration": 0.107334,
     "end_time": "2023-11-09T16:33:03.241280",
     "exception": false,
     "start_time": "2023-11-09T16:33:03.133946",
     "status": "completed"
    },
    "tags": []
   },
   "outputs": [
    {
     "data": {
      "text/plain": [
       "array([False, False, False,  True])"
      ]
     },
     "execution_count": 352,
     "metadata": {},
     "output_type": "execute_result"
    }
   ],
   "source": [
    "a = np.array([True, True, True, False])\n",
    "c = ~a\n",
    "c"
   ]
  },
  {
   "cell_type": "code",
   "execution_count": 353,
   "id": "a01ede46",
   "metadata": {
    "execution": {
     "iopub.execute_input": "2023-11-09T16:33:03.439579Z",
     "iopub.status.busy": "2023-11-09T16:33:03.438593Z",
     "iopub.status.idle": "2023-11-09T16:33:03.451494Z",
     "shell.execute_reply": "2023-11-09T16:33:03.450602Z"
    },
    "papermill": {
     "duration": 0.115422,
     "end_time": "2023-11-09T16:33:03.453394",
     "exception": false,
     "start_time": "2023-11-09T16:33:03.337972",
     "status": "completed"
    },
    "tags": []
   },
   "outputs": [
    {
     "data": {
      "text/plain": [
       "array([[15., 15., 15., 15., 15.],\n",
       "       [15., 15., 15., 15., 15.],\n",
       "       [15., 15., 15., 15., 15.],\n",
       "       [15., 15., 15., 15., 15.],\n",
       "       [15., 15., 15., 15., 15.]])"
      ]
     },
     "execution_count": 353,
     "metadata": {},
     "output_type": "execute_result"
    }
   ],
   "source": [
    "a = np.ones((5,5))\n",
    "b = np.full((5,5), 3)\n",
    "c = np.dot(a,b)\n",
    "c"
   ]
  },
  {
   "cell_type": "code",
   "execution_count": 354,
   "id": "6d130336",
   "metadata": {
    "execution": {
     "iopub.execute_input": "2023-11-09T16:33:03.641466Z",
     "iopub.status.busy": "2023-11-09T16:33:03.641152Z",
     "iopub.status.idle": "2023-11-09T16:33:03.647134Z",
     "shell.execute_reply": "2023-11-09T16:33:03.646190Z"
    },
    "papermill": {
     "duration": 0.101277,
     "end_time": "2023-11-09T16:33:03.648796",
     "exception": false,
     "start_time": "2023-11-09T16:33:03.547519",
     "status": "completed"
    },
    "tags": []
   },
   "outputs": [
    {
     "data": {
      "text/plain": [
       "array([[1, 2],\n",
       "       [3, 4]])"
      ]
     },
     "execution_count": 354,
     "metadata": {},
     "output_type": "execute_result"
    }
   ],
   "source": [
    "a = np.array([[1,2],[3,4]])\n",
    "a"
   ]
  },
  {
   "cell_type": "code",
   "execution_count": 355,
   "id": "996448e2",
   "metadata": {
    "execution": {
     "iopub.execute_input": "2023-11-09T16:33:03.838886Z",
     "iopub.status.busy": "2023-11-09T16:33:03.838493Z",
     "iopub.status.idle": "2023-11-09T16:33:03.844786Z",
     "shell.execute_reply": "2023-11-09T16:33:03.843997Z"
    },
    "papermill": {
     "duration": 0.103873,
     "end_time": "2023-11-09T16:33:03.846671",
     "exception": false,
     "start_time": "2023-11-09T16:33:03.742798",
     "status": "completed"
    },
    "tags": []
   },
   "outputs": [
    {
     "data": {
      "text/plain": [
       "array([[1, 3],\n",
       "       [2, 4]])"
      ]
     },
     "execution_count": 355,
     "metadata": {},
     "output_type": "execute_result"
    }
   ],
   "source": [
    "b = np.transpose(a)\n",
    "b"
   ]
  },
  {
   "cell_type": "code",
   "execution_count": 356,
   "id": "2f07c52c",
   "metadata": {
    "execution": {
     "iopub.execute_input": "2023-11-09T16:33:04.039689Z",
     "iopub.status.busy": "2023-11-09T16:33:04.039362Z",
     "iopub.status.idle": "2023-11-09T16:33:04.047180Z",
     "shell.execute_reply": "2023-11-09T16:33:04.046011Z"
    },
    "papermill": {
     "duration": 0.106671,
     "end_time": "2023-11-09T16:33:04.049814",
     "exception": false,
     "start_time": "2023-11-09T16:33:03.943143",
     "status": "completed"
    },
    "tags": []
   },
   "outputs": [
    {
     "data": {
      "text/plain": [
       "array([[-0.66136743, -1.04361074, -0.58114897],\n",
       "       [-0.356353  ,  0.29407381, -1.79697064],\n",
       "       [-0.38949016,  0.44914091, -0.47389926]])"
      ]
     },
     "execution_count": 356,
     "metadata": {},
     "output_type": "execute_result"
    }
   ],
   "source": [
    "a = np.random.normal(0,1,(3,3))\n",
    "a"
   ]
  },
  {
   "cell_type": "code",
   "execution_count": 357,
   "id": "d6135646",
   "metadata": {
    "execution": {
     "iopub.execute_input": "2023-11-09T16:33:04.243495Z",
     "iopub.status.busy": "2023-11-09T16:33:04.242908Z",
     "iopub.status.idle": "2023-11-09T16:33:04.249828Z",
     "shell.execute_reply": "2023-11-09T16:33:04.247966Z"
    },
    "papermill": {
     "duration": 0.10724,
     "end_time": "2023-11-09T16:33:04.252739",
     "exception": false,
     "start_time": "2023-11-09T16:33:04.145499",
     "status": "completed"
    },
    "tags": []
   },
   "outputs": [
    {
     "data": {
      "text/plain": [
       "array([[54.04820621, 50.05997631, 53.34034706],\n",
       "       [51.45262098, 51.61359903, 52.08854957],\n",
       "       [52.43197998, 54.7133926 , 53.66073862]])"
      ]
     },
     "execution_count": 357,
     "metadata": {},
     "output_type": "execute_result"
    }
   ],
   "source": [
    "b = np.random.uniform(50,55,(3,3))\n",
    "b"
   ]
  },
  {
   "cell_type": "code",
   "execution_count": 358,
   "id": "e881d8b3",
   "metadata": {
    "execution": {
     "iopub.execute_input": "2023-11-09T16:33:04.449713Z",
     "iopub.status.busy": "2023-11-09T16:33:04.448972Z",
     "iopub.status.idle": "2023-11-09T16:33:04.456799Z",
     "shell.execute_reply": "2023-11-09T16:33:04.455695Z"
    },
    "papermill": {
     "duration": 0.110098,
     "end_time": "2023-11-09T16:33:04.459321",
     "exception": false,
     "start_time": "2023-11-09T16:33:04.349223",
     "status": "completed"
    },
    "tags": []
   },
   "outputs": [
    {
     "data": {
      "text/plain": [
       "array([[51, 54, 50],\n",
       "       [51, 53, 54],\n",
       "       [51, 50, 51]])"
      ]
     },
     "execution_count": 358,
     "metadata": {},
     "output_type": "execute_result"
    }
   ],
   "source": [
    "np.random.seed(10)\n",
    "\n",
    "c = np.random.randint(50,55,(3,3))\n",
    "c"
   ]
  },
  {
   "cell_type": "code",
   "execution_count": 359,
   "id": "9af39ec5",
   "metadata": {
    "execution": {
     "iopub.execute_input": "2023-11-09T16:33:04.669497Z",
     "iopub.status.busy": "2023-11-09T16:33:04.668830Z",
     "iopub.status.idle": "2023-11-09T16:33:04.677926Z",
     "shell.execute_reply": "2023-11-09T16:33:04.676155Z"
    },
    "papermill": {
     "duration": 0.110338,
     "end_time": "2023-11-09T16:33:04.680973",
     "exception": false,
     "start_time": "2023-11-09T16:33:04.570635",
     "status": "completed"
    },
    "tags": []
   },
   "outputs": [
    {
     "data": {
      "text/plain": [
       "array([[51, 54, 50],\n",
       "       [51, 53, 54],\n",
       "       [51, 50, 51]])"
      ]
     },
     "execution_count": 359,
     "metadata": {},
     "output_type": "execute_result"
    }
   ],
   "source": [
    "np.random.seed(10)\n",
    "\n",
    "c = np.random.randint(50,55,(3,3))\n",
    "c"
   ]
  },
  {
   "cell_type": "code",
   "execution_count": 360,
   "id": "ba956b81",
   "metadata": {
    "execution": {
     "iopub.execute_input": "2023-11-09T16:33:04.883569Z",
     "iopub.status.busy": "2023-11-09T16:33:04.883217Z",
     "iopub.status.idle": "2023-11-09T16:33:04.893846Z",
     "shell.execute_reply": "2023-11-09T16:33:04.891920Z"
    },
    "papermill": {
     "duration": 0.114092,
     "end_time": "2023-11-09T16:33:04.896555",
     "exception": false,
     "start_time": "2023-11-09T16:33:04.782463",
     "status": "completed"
    },
    "tags": []
   },
   "outputs": [
    {
     "data": {
      "text/plain": [
       "array([5, 9, 9, 9, 5, 5, 8, 5, 9, 9])"
      ]
     },
     "execution_count": 360,
     "metadata": {},
     "output_type": "execute_result"
    }
   ],
   "source": [
    "# c = np.random.randint(50,55,(1,3))\n",
    "c = np.array([9,8,7,6,5])\n",
    "\n",
    "d = np.random.choice( c,size =  10, replace = True ,p=[0.32, 0.02, 0.02, 0.04, 0.6])\n",
    "d\n",
    "# d"
   ]
  },
  {
   "cell_type": "code",
   "execution_count": 361,
   "id": "157a0a3b",
   "metadata": {
    "execution": {
     "iopub.execute_input": "2023-11-09T16:33:05.095211Z",
     "iopub.status.busy": "2023-11-09T16:33:05.094877Z",
     "iopub.status.idle": "2023-11-09T16:33:05.100022Z",
     "shell.execute_reply": "2023-11-09T16:33:05.098277Z"
    },
    "papermill": {
     "duration": 0.108289,
     "end_time": "2023-11-09T16:33:05.102217",
     "exception": false,
     "start_time": "2023-11-09T16:33:04.993928",
     "status": "completed"
    },
    "tags": []
   },
   "outputs": [],
   "source": [
    "# c = [9,8,6,5]\n",
    "# np.random.choice(c, 3, p=[0.5, 0.1, 0.1, 0.3])"
   ]
  },
  {
   "cell_type": "code",
   "execution_count": 362,
   "id": "4159b303",
   "metadata": {
    "execution": {
     "iopub.execute_input": "2023-11-09T16:33:05.299765Z",
     "iopub.status.busy": "2023-11-09T16:33:05.299426Z",
     "iopub.status.idle": "2023-11-09T16:33:05.304080Z",
     "shell.execute_reply": "2023-11-09T16:33:05.302689Z"
    },
    "papermill": {
     "duration": 0.107036,
     "end_time": "2023-11-09T16:33:05.306559",
     "exception": false,
     "start_time": "2023-11-09T16:33:05.199523",
     "status": "completed"
    },
    "tags": []
   },
   "outputs": [],
   "source": [
    "# 9,8,7,6,5\n",
    "\n",
    "# 6\n",
    "\n",
    "# 9,8,7,5"
   ]
  },
  {
   "cell_type": "code",
   "execution_count": 363,
   "id": "046b67b3",
   "metadata": {
    "execution": {
     "iopub.execute_input": "2023-11-09T16:33:05.499508Z",
     "iopub.status.busy": "2023-11-09T16:33:05.499186Z",
     "iopub.status.idle": "2023-11-09T16:33:05.505428Z",
     "shell.execute_reply": "2023-11-09T16:33:05.504682Z"
    },
    "papermill": {
     "duration": 0.102965,
     "end_time": "2023-11-09T16:33:05.507213",
     "exception": false,
     "start_time": "2023-11-09T16:33:05.404248",
     "status": "completed"
    },
    "tags": []
   },
   "outputs": [
    {
     "data": {
      "text/plain": [
       "array([[1, 2],\n",
       "       [3, 4]])"
      ]
     },
     "execution_count": 363,
     "metadata": {},
     "output_type": "execute_result"
    }
   ],
   "source": [
    "a = np.array([[1,2],[3,4]])\n",
    "a\n",
    "    "
   ]
  },
  {
   "cell_type": "code",
   "execution_count": 364,
   "id": "0785b585",
   "metadata": {
    "execution": {
     "iopub.execute_input": "2023-11-09T16:33:05.702177Z",
     "iopub.status.busy": "2023-11-09T16:33:05.701808Z",
     "iopub.status.idle": "2023-11-09T16:33:05.709480Z",
     "shell.execute_reply": "2023-11-09T16:33:05.708016Z"
    },
    "papermill": {
     "duration": 0.108273,
     "end_time": "2023-11-09T16:33:05.712090",
     "exception": false,
     "start_time": "2023-11-09T16:33:05.603817",
     "status": "completed"
    },
    "tags": []
   },
   "outputs": [
    {
     "data": {
      "text/plain": [
       "array([[0., 0.],\n",
       "       [0., 0.]])"
      ]
     },
     "execution_count": 364,
     "metadata": {},
     "output_type": "execute_result"
    }
   ],
   "source": [
    "np.zeros(a.shape)"
   ]
  },
  {
   "cell_type": "code",
   "execution_count": 365,
   "id": "ccd71cd2",
   "metadata": {
    "execution": {
     "iopub.execute_input": "2023-11-09T16:33:05.910024Z",
     "iopub.status.busy": "2023-11-09T16:33:05.909691Z",
     "iopub.status.idle": "2023-11-09T16:33:05.917059Z",
     "shell.execute_reply": "2023-11-09T16:33:05.915997Z"
    },
    "papermill": {
     "duration": 0.109481,
     "end_time": "2023-11-09T16:33:05.918998",
     "exception": false,
     "start_time": "2023-11-09T16:33:05.809517",
     "status": "completed"
    },
    "tags": []
   },
   "outputs": [
    {
     "data": {
      "text/plain": [
       "array([[0, 0],\n",
       "       [0, 0]])"
      ]
     },
     "execution_count": 365,
     "metadata": {},
     "output_type": "execute_result"
    }
   ],
   "source": [
    "np.zeros_like(a)"
   ]
  },
  {
   "cell_type": "code",
   "execution_count": 366,
   "id": "825dc29c",
   "metadata": {
    "execution": {
     "iopub.execute_input": "2023-11-09T16:33:06.114033Z",
     "iopub.status.busy": "2023-11-09T16:33:06.113674Z",
     "iopub.status.idle": "2023-11-09T16:33:06.119053Z",
     "shell.execute_reply": "2023-11-09T16:33:06.117695Z"
    },
    "papermill": {
     "duration": 0.104832,
     "end_time": "2023-11-09T16:33:06.121762",
     "exception": false,
     "start_time": "2023-11-09T16:33:06.016930",
     "status": "completed"
    },
    "tags": []
   },
   "outputs": [],
   "source": [
    "c = np.ones_like(a)"
   ]
  },
  {
   "cell_type": "code",
   "execution_count": 367,
   "id": "8ad7d596",
   "metadata": {
    "execution": {
     "iopub.execute_input": "2023-11-09T16:33:06.313937Z",
     "iopub.status.busy": "2023-11-09T16:33:06.313525Z",
     "iopub.status.idle": "2023-11-09T16:33:06.320023Z",
     "shell.execute_reply": "2023-11-09T16:33:06.319088Z"
    },
    "papermill": {
     "duration": 0.105477,
     "end_time": "2023-11-09T16:33:06.321857",
     "exception": false,
     "start_time": "2023-11-09T16:33:06.216380",
     "status": "completed"
    },
    "tags": []
   },
   "outputs": [
    {
     "data": {
      "text/plain": [
       "array([[3, 3],\n",
       "       [3, 3]])"
      ]
     },
     "execution_count": 367,
     "metadata": {},
     "output_type": "execute_result"
    }
   ],
   "source": [
    "c = np.ones_like(a)\n",
    "d = c + 2\n",
    "d"
   ]
  },
  {
   "cell_type": "code",
   "execution_count": 368,
   "id": "8406fb92",
   "metadata": {
    "execution": {
     "iopub.execute_input": "2023-11-09T16:33:06.518729Z",
     "iopub.status.busy": "2023-11-09T16:33:06.518365Z",
     "iopub.status.idle": "2023-11-09T16:33:06.522432Z",
     "shell.execute_reply": "2023-11-09T16:33:06.521533Z"
    },
    "papermill": {
     "duration": 0.105358,
     "end_time": "2023-11-09T16:33:06.524187",
     "exception": false,
     "start_time": "2023-11-09T16:33:06.418829",
     "status": "completed"
    },
    "tags": []
   },
   "outputs": [],
   "source": [
    "# help(int)"
   ]
  },
  {
   "cell_type": "code",
   "execution_count": null,
   "id": "5dc1e6fd",
   "metadata": {
    "papermill": {
     "duration": 0.16402,
     "end_time": "2023-11-09T16:33:06.783668",
     "exception": false,
     "start_time": "2023-11-09T16:33:06.619648",
     "status": "completed"
    },
    "tags": []
   },
   "outputs": [],
   "source": []
  }
 ],
 "metadata": {
  "kaggle": {
   "accelerator": "none",
   "dataSources": [],
   "dockerImageVersionId": 30558,
   "isGpuEnabled": false,
   "isInternetEnabled": true,
   "language": "python",
   "sourceType": "notebook"
  },
  "kernelspec": {
   "display_name": "Python 3",
   "language": "python",
   "name": "python3"
  },
  "language_info": {
   "codemirror_mode": {
    "name": "ipython",
    "version": 3
   },
   "file_extension": ".py",
   "mimetype": "text/x-python",
   "name": "python",
   "nbconvert_exporter": "python",
   "pygments_lexer": "ipython3",
   "version": "3.10.12"
  },
  "papermill": {
   "default_parameters": {},
   "duration": 72.510305,
   "end_time": "2023-11-09T16:33:07.299645",
   "environment_variables": {},
   "exception": null,
   "input_path": "__notebook__.ipynb",
   "output_path": "__notebook__.ipynb",
   "parameters": {},
   "start_time": "2023-11-09T16:31:54.789340",
   "version": "2.4.0"
  }
 },
 "nbformat": 4,
 "nbformat_minor": 5
}
