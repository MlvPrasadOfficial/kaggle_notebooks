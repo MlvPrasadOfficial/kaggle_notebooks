{
 "cells": [
  {
   "cell_type": "code",
   "execution_count": 1,
   "id": "42689edc",
   "metadata": {
    "_cell_guid": "b1076dfc-b9ad-4769-8c92-a6c4dae69d19",
    "_uuid": "8f2839f25d086af736a60e9eeb907d3b93b6e0e5",
    "execution": {
     "iopub.execute_input": "2023-11-16T17:03:40.411761Z",
     "iopub.status.busy": "2023-11-16T17:03:40.411094Z",
     "iopub.status.idle": "2023-11-16T17:03:40.422123Z",
     "shell.execute_reply": "2023-11-16T17:03:40.421124Z"
    },
    "papermill": {
     "duration": 0.129564,
     "end_time": "2023-11-16T17:03:40.424072",
     "exception": false,
     "start_time": "2023-11-16T17:03:40.294508",
     "status": "completed"
    },
    "tags": []
   },
   "outputs": [
    {
     "name": "stdout",
     "output_type": "stream",
     "text": [
      "6\n",
      "---\n",
      "6\n"
     ]
    }
   ],
   "source": [
    "a = 6\n",
    "print(a)\n",
    "print(\"---\")\n",
    "# a = \n",
    "print(a)"
   ]
  },
  {
   "cell_type": "code",
   "execution_count": null,
   "id": "c4d13f05",
   "metadata": {
    "papermill": {
     "duration": 0.112315,
     "end_time": "2023-11-16T17:03:40.646306",
     "exception": false,
     "start_time": "2023-11-16T17:03:40.533991",
     "status": "completed"
    },
    "tags": []
   },
   "outputs": [],
   "source": []
  },
  {
   "cell_type": "code",
   "execution_count": 2,
   "id": "6db14ceb",
   "metadata": {
    "execution": {
     "iopub.execute_input": "2023-11-16T17:03:40.872589Z",
     "iopub.status.busy": "2023-11-16T17:03:40.872245Z",
     "iopub.status.idle": "2023-11-16T17:03:40.876599Z",
     "shell.execute_reply": "2023-11-16T17:03:40.875729Z"
    },
    "papermill": {
     "duration": 0.120851,
     "end_time": "2023-11-16T17:03:40.878690",
     "exception": false,
     "start_time": "2023-11-16T17:03:40.757839",
     "status": "completed"
    },
    "tags": []
   },
   "outputs": [],
   "source": [
    "a = 7"
   ]
  },
  {
   "cell_type": "markdown",
   "id": "f90a68c4",
   "metadata": {
    "papermill": {
     "duration": 0.119278,
     "end_time": "2023-11-16T17:03:41.114697",
     "exception": false,
     "start_time": "2023-11-16T17:03:40.995419",
     "status": "completed"
    },
    "tags": []
   },
   "source": [
    "# data types"
   ]
  },
  {
   "cell_type": "code",
   "execution_count": 3,
   "id": "2f3f9fdd",
   "metadata": {
    "execution": {
     "iopub.execute_input": "2023-11-16T17:03:41.350933Z",
     "iopub.status.busy": "2023-11-16T17:03:41.350097Z",
     "iopub.status.idle": "2023-11-16T17:03:41.355307Z",
     "shell.execute_reply": "2023-11-16T17:03:41.354175Z"
    },
    "papermill": {
     "duration": 0.12291,
     "end_time": "2023-11-16T17:03:41.357275",
     "exception": false,
     "start_time": "2023-11-16T17:03:41.234365",
     "status": "completed"
    },
    "tags": []
   },
   "outputs": [
    {
     "name": "stdout",
     "output_type": "stream",
     "text": [
      "6\n"
     ]
    }
   ],
   "source": [
    "abhi = 6\n",
    "\n",
    "print(abhi)"
   ]
  },
  {
   "cell_type": "code",
   "execution_count": 4,
   "id": "0e4efc5c",
   "metadata": {
    "execution": {
     "iopub.execute_input": "2023-11-16T17:03:41.588187Z",
     "iopub.status.busy": "2023-11-16T17:03:41.587872Z",
     "iopub.status.idle": "2023-11-16T17:03:41.594197Z",
     "shell.execute_reply": "2023-11-16T17:03:41.593445Z"
    },
    "papermill": {
     "duration": 0.124675,
     "end_time": "2023-11-16T17:03:41.596348",
     "exception": false,
     "start_time": "2023-11-16T17:03:41.471673",
     "status": "completed"
    },
    "tags": []
   },
   "outputs": [
    {
     "data": {
      "text/plain": [
       "int"
      ]
     },
     "execution_count": 4,
     "metadata": {},
     "output_type": "execute_result"
    }
   ],
   "source": [
    "type(abhi)"
   ]
  },
  {
   "cell_type": "code",
   "execution_count": 5,
   "id": "4599649c",
   "metadata": {
    "execution": {
     "iopub.execute_input": "2023-11-16T17:03:41.830180Z",
     "iopub.status.busy": "2023-11-16T17:03:41.829103Z",
     "iopub.status.idle": "2023-11-16T17:03:41.835276Z",
     "shell.execute_reply": "2023-11-16T17:03:41.834551Z"
    },
    "papermill": {
     "duration": 0.12493,
     "end_time": "2023-11-16T17:03:41.837277",
     "exception": false,
     "start_time": "2023-11-16T17:03:41.712347",
     "status": "completed"
    },
    "tags": []
   },
   "outputs": [
    {
     "data": {
      "text/plain": [
       "float"
      ]
     },
     "execution_count": 5,
     "metadata": {},
     "output_type": "execute_result"
    }
   ],
   "source": [
    "swa = 6.5\n",
    "type(swa)"
   ]
  },
  {
   "cell_type": "code",
   "execution_count": 6,
   "id": "64705989",
   "metadata": {
    "execution": {
     "iopub.execute_input": "2023-11-16T17:03:42.083972Z",
     "iopub.status.busy": "2023-11-16T17:03:42.083605Z",
     "iopub.status.idle": "2023-11-16T17:03:42.089985Z",
     "shell.execute_reply": "2023-11-16T17:03:42.088994Z"
    },
    "papermill": {
     "duration": 0.143448,
     "end_time": "2023-11-16T17:03:42.092380",
     "exception": false,
     "start_time": "2023-11-16T17:03:41.948932",
     "status": "completed"
    },
    "tags": []
   },
   "outputs": [
    {
     "data": {
      "text/plain": [
       "complex"
      ]
     },
     "execution_count": 6,
     "metadata": {},
     "output_type": "execute_result"
    }
   ],
   "source": [
    "pra = 3 + 2j\n",
    "\n",
    "type(pra)"
   ]
  },
  {
   "cell_type": "code",
   "execution_count": 7,
   "id": "10b988c4",
   "metadata": {
    "execution": {
     "iopub.execute_input": "2023-11-16T17:03:42.349696Z",
     "iopub.status.busy": "2023-11-16T17:03:42.349311Z",
     "iopub.status.idle": "2023-11-16T17:03:42.356113Z",
     "shell.execute_reply": "2023-11-16T17:03:42.355009Z"
    },
    "papermill": {
     "duration": 0.134187,
     "end_time": "2023-11-16T17:03:42.358995",
     "exception": false,
     "start_time": "2023-11-16T17:03:42.224808",
     "status": "completed"
    },
    "tags": []
   },
   "outputs": [
    {
     "data": {
      "text/plain": [
       "str"
      ]
     },
     "execution_count": 7,
     "metadata": {},
     "output_type": "execute_result"
    }
   ],
   "source": [
    "x = \"sush\"\n",
    "type(x)"
   ]
  },
  {
   "cell_type": "code",
   "execution_count": 8,
   "id": "83cec285",
   "metadata": {
    "execution": {
     "iopub.execute_input": "2023-11-16T17:03:42.609941Z",
     "iopub.status.busy": "2023-11-16T17:03:42.609325Z",
     "iopub.status.idle": "2023-11-16T17:03:42.615130Z",
     "shell.execute_reply": "2023-11-16T17:03:42.614325Z"
    },
    "papermill": {
     "duration": 0.130536,
     "end_time": "2023-11-16T17:03:42.617135",
     "exception": false,
     "start_time": "2023-11-16T17:03:42.486599",
     "status": "completed"
    },
    "tags": []
   },
   "outputs": [
    {
     "data": {
      "text/plain": [
       "int"
      ]
     },
     "execution_count": 8,
     "metadata": {},
     "output_type": "execute_result"
    }
   ],
   "source": [
    "z = 44 - 5 - 14\n",
    "z\n",
    "type(z)"
   ]
  },
  {
   "cell_type": "code",
   "execution_count": 9,
   "id": "9cb8afe2",
   "metadata": {
    "execution": {
     "iopub.execute_input": "2023-11-16T17:03:42.852328Z",
     "iopub.status.busy": "2023-11-16T17:03:42.851564Z",
     "iopub.status.idle": "2023-11-16T17:03:42.857700Z",
     "shell.execute_reply": "2023-11-16T17:03:42.856737Z"
    },
    "papermill": {
     "duration": 0.12733,
     "end_time": "2023-11-16T17:03:42.859836",
     "exception": false,
     "start_time": "2023-11-16T17:03:42.732506",
     "status": "completed"
    },
    "tags": []
   },
   "outputs": [
    {
     "data": {
      "text/plain": [
       "'44-5-14'"
      ]
     },
     "execution_count": 9,
     "metadata": {},
     "output_type": "execute_result"
    }
   ],
   "source": [
    "y = \"44-5-14\"\n",
    "y"
   ]
  },
  {
   "cell_type": "code",
   "execution_count": 10,
   "id": "b1230c3b",
   "metadata": {
    "execution": {
     "iopub.execute_input": "2023-11-16T17:03:43.140804Z",
     "iopub.status.busy": "2023-11-16T17:03:43.140462Z",
     "iopub.status.idle": "2023-11-16T17:03:43.146188Z",
     "shell.execute_reply": "2023-11-16T17:03:43.145331Z"
    },
    "papermill": {
     "duration": 0.17394,
     "end_time": "2023-11-16T17:03:43.148290",
     "exception": false,
     "start_time": "2023-11-16T17:03:42.974350",
     "status": "completed"
    },
    "tags": []
   },
   "outputs": [
    {
     "data": {
      "text/plain": [
       "str"
      ]
     },
     "execution_count": 10,
     "metadata": {},
     "output_type": "execute_result"
    }
   ],
   "source": [
    "type(y)"
   ]
  },
  {
   "cell_type": "markdown",
   "id": "4bf31404",
   "metadata": {
    "papermill": {
     "duration": 0.11335,
     "end_time": "2023-11-16T17:03:43.375303",
     "exception": false,
     "start_time": "2023-11-16T17:03:43.261953",
     "status": "completed"
    },
    "tags": []
   },
   "source": [
    "# type casting"
   ]
  },
  {
   "cell_type": "code",
   "execution_count": 11,
   "id": "cc4493c8",
   "metadata": {
    "execution": {
     "iopub.execute_input": "2023-11-16T17:03:43.611225Z",
     "iopub.status.busy": "2023-11-16T17:03:43.610888Z",
     "iopub.status.idle": "2023-11-16T17:03:43.616944Z",
     "shell.execute_reply": "2023-11-16T17:03:43.616105Z"
    },
    "papermill": {
     "duration": 0.129184,
     "end_time": "2023-11-16T17:03:43.619065",
     "exception": false,
     "start_time": "2023-11-16T17:03:43.489881",
     "status": "completed"
    },
    "tags": []
   },
   "outputs": [
    {
     "data": {
      "text/plain": [
       "float"
      ]
     },
     "execution_count": 11,
     "metadata": {},
     "output_type": "execute_result"
    }
   ],
   "source": [
    "a = 6.5\n",
    "type(a)"
   ]
  },
  {
   "cell_type": "code",
   "execution_count": 12,
   "id": "7540c93e",
   "metadata": {
    "execution": {
     "iopub.execute_input": "2023-11-16T17:03:43.870315Z",
     "iopub.status.busy": "2023-11-16T17:03:43.869570Z",
     "iopub.status.idle": "2023-11-16T17:03:43.875716Z",
     "shell.execute_reply": "2023-11-16T17:03:43.874675Z"
    },
    "papermill": {
     "duration": 0.133859,
     "end_time": "2023-11-16T17:03:43.877802",
     "exception": false,
     "start_time": "2023-11-16T17:03:43.743943",
     "status": "completed"
    },
    "tags": []
   },
   "outputs": [
    {
     "data": {
      "text/plain": [
       "6"
      ]
     },
     "execution_count": 12,
     "metadata": {},
     "output_type": "execute_result"
    }
   ],
   "source": [
    "b = int(a)\n",
    "b"
   ]
  },
  {
   "cell_type": "code",
   "execution_count": 13,
   "id": "c35aa7a7",
   "metadata": {
    "execution": {
     "iopub.execute_input": "2023-11-16T17:03:44.106364Z",
     "iopub.status.busy": "2023-11-16T17:03:44.105581Z",
     "iopub.status.idle": "2023-11-16T17:03:44.111309Z",
     "shell.execute_reply": "2023-11-16T17:03:44.110495Z"
    },
    "papermill": {
     "duration": 0.12357,
     "end_time": "2023-11-16T17:03:44.113249",
     "exception": false,
     "start_time": "2023-11-16T17:03:43.989679",
     "status": "completed"
    },
    "tags": []
   },
   "outputs": [
    {
     "data": {
      "text/plain": [
       "int"
      ]
     },
     "execution_count": 13,
     "metadata": {},
     "output_type": "execute_result"
    }
   ],
   "source": [
    "type(b)"
   ]
  },
  {
   "cell_type": "code",
   "execution_count": 14,
   "id": "783945bc",
   "metadata": {
    "execution": {
     "iopub.execute_input": "2023-11-16T17:03:44.340038Z",
     "iopub.status.busy": "2023-11-16T17:03:44.339359Z",
     "iopub.status.idle": "2023-11-16T17:03:44.345309Z",
     "shell.execute_reply": "2023-11-16T17:03:44.344462Z"
    },
    "papermill": {
     "duration": 0.12257,
     "end_time": "2023-11-16T17:03:44.347554",
     "exception": false,
     "start_time": "2023-11-16T17:03:44.224984",
     "status": "completed"
    },
    "tags": []
   },
   "outputs": [
    {
     "data": {
      "text/plain": [
       "6.0"
      ]
     },
     "execution_count": 14,
     "metadata": {},
     "output_type": "execute_result"
    }
   ],
   "source": [
    "c = float(b)\n",
    "c"
   ]
  },
  {
   "cell_type": "code",
   "execution_count": 15,
   "id": "462ec8f3",
   "metadata": {
    "execution": {
     "iopub.execute_input": "2023-11-16T17:03:44.581093Z",
     "iopub.status.busy": "2023-11-16T17:03:44.580726Z",
     "iopub.status.idle": "2023-11-16T17:03:44.586418Z",
     "shell.execute_reply": "2023-11-16T17:03:44.585492Z"
    },
    "papermill": {
     "duration": 0.12305,
     "end_time": "2023-11-16T17:03:44.588388",
     "exception": false,
     "start_time": "2023-11-16T17:03:44.465338",
     "status": "completed"
    },
    "tags": []
   },
   "outputs": [
    {
     "data": {
      "text/plain": [
       "float"
      ]
     },
     "execution_count": 15,
     "metadata": {},
     "output_type": "execute_result"
    }
   ],
   "source": [
    "type(c)"
   ]
  },
  {
   "cell_type": "code",
   "execution_count": 16,
   "id": "0263584e",
   "metadata": {
    "execution": {
     "iopub.execute_input": "2023-11-16T17:03:44.816589Z",
     "iopub.status.busy": "2023-11-16T17:03:44.816219Z",
     "iopub.status.idle": "2023-11-16T17:03:44.821888Z",
     "shell.execute_reply": "2023-11-16T17:03:44.821028Z"
    },
    "papermill": {
     "duration": 0.123128,
     "end_time": "2023-11-16T17:03:44.823964",
     "exception": false,
     "start_time": "2023-11-16T17:03:44.700836",
     "status": "completed"
    },
    "tags": []
   },
   "outputs": [
    {
     "data": {
      "text/plain": [
       "'667'"
      ]
     },
     "execution_count": 16,
     "metadata": {},
     "output_type": "execute_result"
    }
   ],
   "source": [
    "g = \"66\"\n",
    "h = \"7\"\n",
    "\n",
    "g + h"
   ]
  },
  {
   "cell_type": "code",
   "execution_count": 17,
   "id": "e5aab563",
   "metadata": {
    "execution": {
     "iopub.execute_input": "2023-11-16T17:03:45.055212Z",
     "iopub.status.busy": "2023-11-16T17:03:45.054879Z",
     "iopub.status.idle": "2023-11-16T17:03:45.060863Z",
     "shell.execute_reply": "2023-11-16T17:03:45.059999Z"
    },
    "papermill": {
     "duration": 0.12401,
     "end_time": "2023-11-16T17:03:45.062804",
     "exception": false,
     "start_time": "2023-11-16T17:03:44.938794",
     "status": "completed"
    },
    "tags": []
   },
   "outputs": [
    {
     "data": {
      "text/plain": [
       "73"
      ]
     },
     "execution_count": 17,
     "metadata": {},
     "output_type": "execute_result"
    }
   ],
   "source": [
    "i = 66\n",
    "j = 7\n",
    "i + j"
   ]
  },
  {
   "cell_type": "code",
   "execution_count": 18,
   "id": "3154e033",
   "metadata": {
    "execution": {
     "iopub.execute_input": "2023-11-16T17:03:45.298590Z",
     "iopub.status.busy": "2023-11-16T17:03:45.297881Z",
     "iopub.status.idle": "2023-11-16T17:03:45.304258Z",
     "shell.execute_reply": "2023-11-16T17:03:45.303274Z"
    },
    "papermill": {
     "duration": 0.128181,
     "end_time": "2023-11-16T17:03:45.306405",
     "exception": false,
     "start_time": "2023-11-16T17:03:45.178224",
     "status": "completed"
    },
    "tags": []
   },
   "outputs": [
    {
     "data": {
      "text/plain": [
       "'667'"
      ]
     },
     "execution_count": 18,
     "metadata": {},
     "output_type": "execute_result"
    }
   ],
   "source": [
    "p = \"66\"\n",
    "q = 7\n",
    "# \"667\"\n",
    "p + str(q)"
   ]
  },
  {
   "cell_type": "code",
   "execution_count": 19,
   "id": "c4b60af3",
   "metadata": {
    "execution": {
     "iopub.execute_input": "2023-11-16T17:03:45.548998Z",
     "iopub.status.busy": "2023-11-16T17:03:45.548138Z",
     "iopub.status.idle": "2023-11-16T17:03:45.554701Z",
     "shell.execute_reply": "2023-11-16T17:03:45.553749Z"
    },
    "papermill": {
     "duration": 0.13003,
     "end_time": "2023-11-16T17:03:45.556871",
     "exception": false,
     "start_time": "2023-11-16T17:03:45.426841",
     "status": "completed"
    },
    "tags": []
   },
   "outputs": [
    {
     "data": {
      "text/plain": [
       "73"
      ]
     },
     "execution_count": 19,
     "metadata": {},
     "output_type": "execute_result"
    }
   ],
   "source": [
    "p = \"66\"\n",
    "q = 7\n",
    "int(p) + q"
   ]
  },
  {
   "cell_type": "code",
   "execution_count": 20,
   "id": "ec999d42",
   "metadata": {
    "execution": {
     "iopub.execute_input": "2023-11-16T17:03:45.796965Z",
     "iopub.status.busy": "2023-11-16T17:03:45.796248Z",
     "iopub.status.idle": "2023-11-16T17:03:45.802309Z",
     "shell.execute_reply": "2023-11-16T17:03:45.801419Z"
    },
    "papermill": {
     "duration": 0.127712,
     "end_time": "2023-11-16T17:03:45.804401",
     "exception": false,
     "start_time": "2023-11-16T17:03:45.676689",
     "status": "completed"
    },
    "tags": []
   },
   "outputs": [
    {
     "data": {
      "text/plain": [
       "8"
      ]
     },
     "execution_count": 20,
     "metadata": {},
     "output_type": "execute_result"
    }
   ],
   "source": [
    "a = 7\n",
    "b = 8\n",
    "b"
   ]
  },
  {
   "cell_type": "code",
   "execution_count": 21,
   "id": "d5104028",
   "metadata": {
    "execution": {
     "iopub.execute_input": "2023-11-16T17:03:46.041199Z",
     "iopub.status.busy": "2023-11-16T17:03:46.040326Z",
     "iopub.status.idle": "2023-11-16T17:03:46.046636Z",
     "shell.execute_reply": "2023-11-16T17:03:46.045576Z"
    },
    "papermill": {
     "duration": 0.130248,
     "end_time": "2023-11-16T17:03:46.048849",
     "exception": false,
     "start_time": "2023-11-16T17:03:45.918601",
     "status": "completed"
    },
    "tags": []
   },
   "outputs": [
    {
     "data": {
      "text/plain": [
       "8"
      ]
     },
     "execution_count": 21,
     "metadata": {},
     "output_type": "execute_result"
    }
   ],
   "source": [
    "a,b = 7,8\n",
    "b"
   ]
  },
  {
   "cell_type": "code",
   "execution_count": 22,
   "id": "002d6f42",
   "metadata": {
    "execution": {
     "iopub.execute_input": "2023-11-16T17:03:46.280572Z",
     "iopub.status.busy": "2023-11-16T17:03:46.280194Z",
     "iopub.status.idle": "2023-11-16T17:03:46.286107Z",
     "shell.execute_reply": "2023-11-16T17:03:46.285266Z"
    },
    "papermill": {
     "duration": 0.122409,
     "end_time": "2023-11-16T17:03:46.287942",
     "exception": false,
     "start_time": "2023-11-16T17:03:46.165533",
     "status": "completed"
    },
    "tags": []
   },
   "outputs": [
    {
     "data": {
      "text/plain": [
       "7"
      ]
     },
     "execution_count": 22,
     "metadata": {},
     "output_type": "execute_result"
    }
   ],
   "source": [
    "abhi7 = 7\n",
    "abhi7"
   ]
  },
  {
   "cell_type": "code",
   "execution_count": 23,
   "id": "2f1f9fdf",
   "metadata": {
    "execution": {
     "iopub.execute_input": "2023-11-16T17:03:46.564318Z",
     "iopub.status.busy": "2023-11-16T17:03:46.563477Z",
     "iopub.status.idle": "2023-11-16T17:03:46.568617Z",
     "shell.execute_reply": "2023-11-16T17:03:46.567796Z"
    },
    "papermill": {
     "duration": 0.124886,
     "end_time": "2023-11-16T17:03:46.570823",
     "exception": false,
     "start_time": "2023-11-16T17:03:46.445937",
     "status": "completed"
    },
    "tags": []
   },
   "outputs": [
    {
     "name": "stdout",
     "output_type": "stream",
     "text": [
      "Sally\n"
     ]
    }
   ],
   "source": [
    "x = 4       # x is of type int\n",
    "x = \"Sally\" # x is now of type str\n",
    "print(x)"
   ]
  },
  {
   "cell_type": "code",
   "execution_count": 24,
   "id": "1f0f863a",
   "metadata": {
    "execution": {
     "iopub.execute_input": "2023-11-16T17:03:46.808051Z",
     "iopub.status.busy": "2023-11-16T17:03:46.807712Z",
     "iopub.status.idle": "2023-11-16T17:03:46.812990Z",
     "shell.execute_reply": "2023-11-16T17:03:46.812022Z"
    },
    "papermill": {
     "duration": 0.126239,
     "end_time": "2023-11-16T17:03:46.815198",
     "exception": false,
     "start_time": "2023-11-16T17:03:46.688959",
     "status": "completed"
    },
    "tags": []
   },
   "outputs": [
    {
     "name": "stdout",
     "output_type": "stream",
     "text": [
      "4\n"
     ]
    }
   ],
   "source": [
    "x = 4       # x is of type int\n",
    "print(x)\n",
    "x = \"Sally\" # x is now of type str\n"
   ]
  },
  {
   "cell_type": "code",
   "execution_count": 25,
   "id": "68b5e6f0",
   "metadata": {
    "execution": {
     "iopub.execute_input": "2023-11-16T17:03:47.054654Z",
     "iopub.status.busy": "2023-11-16T17:03:47.054288Z",
     "iopub.status.idle": "2023-11-16T17:03:47.058978Z",
     "shell.execute_reply": "2023-11-16T17:03:47.058084Z"
    },
    "papermill": {
     "duration": 0.13083,
     "end_time": "2023-11-16T17:03:47.061444",
     "exception": false,
     "start_time": "2023-11-16T17:03:46.930614",
     "status": "completed"
    },
    "tags": []
   },
   "outputs": [
    {
     "name": "stdout",
     "output_type": "stream",
     "text": [
      "7\n"
     ]
    }
   ],
   "source": [
    "# o/p\n",
    "a= 7\n",
    "print(a)"
   ]
  },
  {
   "cell_type": "code",
   "execution_count": 26,
   "id": "f16affef",
   "metadata": {
    "execution": {
     "iopub.execute_input": "2023-11-16T17:03:47.298579Z",
     "iopub.status.busy": "2023-11-16T17:03:47.297844Z",
     "iopub.status.idle": "2023-11-16T17:03:47.301916Z",
     "shell.execute_reply": "2023-11-16T17:03:47.300907Z"
    },
    "papermill": {
     "duration": 0.123579,
     "end_time": "2023-11-16T17:03:47.303836",
     "exception": false,
     "start_time": "2023-11-16T17:03:47.180257",
     "status": "completed"
    },
    "tags": []
   },
   "outputs": [],
   "source": [
    "# a = int(input())\n",
    "# print(a+1)"
   ]
  },
  {
   "cell_type": "code",
   "execution_count": 27,
   "id": "3d755d57",
   "metadata": {
    "execution": {
     "iopub.execute_input": "2023-11-16T17:03:47.538019Z",
     "iopub.status.busy": "2023-11-16T17:03:47.537696Z",
     "iopub.status.idle": "2023-11-16T17:03:47.543381Z",
     "shell.execute_reply": "2023-11-16T17:03:47.542481Z"
    },
    "papermill": {
     "duration": 0.126361,
     "end_time": "2023-11-16T17:03:47.545400",
     "exception": false,
     "start_time": "2023-11-16T17:03:47.419039",
     "status": "completed"
    },
    "tags": []
   },
   "outputs": [
    {
     "data": {
      "text/plain": [
       "13"
      ]
     },
     "execution_count": 27,
     "metadata": {},
     "output_type": "execute_result"
    }
   ],
   "source": [
    "a = 6 + 7\n",
    "a"
   ]
  },
  {
   "cell_type": "code",
   "execution_count": 28,
   "id": "0708ac36",
   "metadata": {
    "execution": {
     "iopub.execute_input": "2023-11-16T17:03:47.800054Z",
     "iopub.status.busy": "2023-11-16T17:03:47.799166Z",
     "iopub.status.idle": "2023-11-16T17:03:47.805692Z",
     "shell.execute_reply": "2023-11-16T17:03:47.804726Z"
    },
    "papermill": {
     "duration": 0.143124,
     "end_time": "2023-11-16T17:03:47.807883",
     "exception": false,
     "start_time": "2023-11-16T17:03:47.664759",
     "status": "completed"
    },
    "tags": []
   },
   "outputs": [
    {
     "data": {
      "text/plain": [
       "'da50'"
      ]
     },
     "execution_count": 28,
     "metadata": {},
     "output_type": "execute_result"
    }
   ],
   "source": [
    "b = \"da\" + str(50)\n",
    "b"
   ]
  },
  {
   "cell_type": "code",
   "execution_count": 29,
   "id": "54511d24",
   "metadata": {
    "execution": {
     "iopub.execute_input": "2023-11-16T17:03:48.048709Z",
     "iopub.status.busy": "2023-11-16T17:03:48.047879Z",
     "iopub.status.idle": "2023-11-16T17:03:48.052991Z",
     "shell.execute_reply": "2023-11-16T17:03:48.052105Z"
    },
    "papermill": {
     "duration": 0.124829,
     "end_time": "2023-11-16T17:03:48.055503",
     "exception": false,
     "start_time": "2023-11-16T17:03:47.930674",
     "status": "completed"
    },
    "tags": []
   },
   "outputs": [
    {
     "name": "stdout",
     "output_type": "stream",
     "text": [
      "5 John\n"
     ]
    }
   ],
   "source": [
    "x = 5\n",
    "y = \"John\"\n",
    "print(x, y)"
   ]
  },
  {
   "cell_type": "code",
   "execution_count": 30,
   "id": "294c9835",
   "metadata": {
    "execution": {
     "iopub.execute_input": "2023-11-16T17:03:48.288072Z",
     "iopub.status.busy": "2023-11-16T17:03:48.287229Z",
     "iopub.status.idle": "2023-11-16T17:03:48.291493Z",
     "shell.execute_reply": "2023-11-16T17:03:48.290638Z"
    },
    "papermill": {
     "duration": 0.122124,
     "end_time": "2023-11-16T17:03:48.293387",
     "exception": false,
     "start_time": "2023-11-16T17:03:48.171263",
     "status": "completed"
    },
    "tags": []
   },
   "outputs": [],
   "source": [
    "a = 6 \n",
    "a = 7"
   ]
  },
  {
   "cell_type": "markdown",
   "id": "637c2253",
   "metadata": {
    "papermill": {
     "duration": 0.114276,
     "end_time": "2023-11-16T17:03:48.521399",
     "exception": false,
     "start_time": "2023-11-16T17:03:48.407123",
     "status": "completed"
    },
    "tags": []
   },
   "source": [
    "# data  structures\n"
   ]
  },
  {
   "cell_type": "markdown",
   "id": "124b20a2",
   "metadata": {
    "papermill": {
     "duration": 0.114377,
     "end_time": "2023-11-16T17:03:48.750999",
     "exception": false,
     "start_time": "2023-11-16T17:03:48.636622",
     "status": "completed"
    },
    "tags": []
   },
   "source": [
    "# List  [ ] "
   ]
  },
  {
   "cell_type": "code",
   "execution_count": 31,
   "id": "ef4db4a7",
   "metadata": {
    "execution": {
     "iopub.execute_input": "2023-11-16T17:03:48.991378Z",
     "iopub.status.busy": "2023-11-16T17:03:48.990982Z",
     "iopub.status.idle": "2023-11-16T17:03:48.997656Z",
     "shell.execute_reply": "2023-11-16T17:03:48.996720Z"
    },
    "papermill": {
     "duration": 0.128199,
     "end_time": "2023-11-16T17:03:48.999593",
     "exception": false,
     "start_time": "2023-11-16T17:03:48.871394",
     "status": "completed"
    },
    "tags": []
   },
   "outputs": [
    {
     "data": {
      "text/plain": [
       "11"
      ]
     },
     "execution_count": 31,
     "metadata": {},
     "output_type": "execute_result"
    }
   ],
   "source": [
    "a = [11,28,34,45,57]\n",
    "a[0]\n",
    "\n"
   ]
  },
  {
   "cell_type": "code",
   "execution_count": 32,
   "id": "2c64530d",
   "metadata": {
    "execution": {
     "iopub.execute_input": "2023-11-16T17:03:49.241318Z",
     "iopub.status.busy": "2023-11-16T17:03:49.240592Z",
     "iopub.status.idle": "2023-11-16T17:03:49.246413Z",
     "shell.execute_reply": "2023-11-16T17:03:49.245565Z"
    },
    "papermill": {
     "duration": 0.127253,
     "end_time": "2023-11-16T17:03:49.248346",
     "exception": false,
     "start_time": "2023-11-16T17:03:49.121093",
     "status": "completed"
    },
    "tags": []
   },
   "outputs": [
    {
     "data": {
      "text/plain": [
       "57"
      ]
     },
     "execution_count": 32,
     "metadata": {},
     "output_type": "execute_result"
    }
   ],
   "source": [
    "a[4]"
   ]
  },
  {
   "cell_type": "code",
   "execution_count": 33,
   "id": "c5d26d9e",
   "metadata": {
    "execution": {
     "iopub.execute_input": "2023-11-16T17:03:49.483371Z",
     "iopub.status.busy": "2023-11-16T17:03:49.482653Z",
     "iopub.status.idle": "2023-11-16T17:03:49.488236Z",
     "shell.execute_reply": "2023-11-16T17:03:49.487478Z"
    },
    "papermill": {
     "duration": 0.128174,
     "end_time": "2023-11-16T17:03:49.490153",
     "exception": false,
     "start_time": "2023-11-16T17:03:49.361979",
     "status": "completed"
    },
    "tags": []
   },
   "outputs": [
    {
     "data": {
      "text/plain": [
       "[11, 28, 34, 45, 57]"
      ]
     },
     "execution_count": 33,
     "metadata": {},
     "output_type": "execute_result"
    }
   ],
   "source": [
    "a"
   ]
  },
  {
   "cell_type": "code",
   "execution_count": 34,
   "id": "16d475d0",
   "metadata": {
    "execution": {
     "iopub.execute_input": "2023-11-16T17:03:49.770118Z",
     "iopub.status.busy": "2023-11-16T17:03:49.769464Z",
     "iopub.status.idle": "2023-11-16T17:03:49.775271Z",
     "shell.execute_reply": "2023-11-16T17:03:49.774465Z"
    },
    "papermill": {
     "duration": 0.126375,
     "end_time": "2023-11-16T17:03:49.777413",
     "exception": false,
     "start_time": "2023-11-16T17:03:49.651038",
     "status": "completed"
    },
    "tags": []
   },
   "outputs": [
    {
     "data": {
      "text/plain": [
       "57"
      ]
     },
     "execution_count": 34,
     "metadata": {},
     "output_type": "execute_result"
    }
   ],
   "source": [
    "a[-1]"
   ]
  },
  {
   "cell_type": "code",
   "execution_count": 35,
   "id": "45c7400d",
   "metadata": {
    "execution": {
     "iopub.execute_input": "2023-11-16T17:03:50.016532Z",
     "iopub.status.busy": "2023-11-16T17:03:50.015786Z",
     "iopub.status.idle": "2023-11-16T17:03:50.021673Z",
     "shell.execute_reply": "2023-11-16T17:03:50.020798Z"
    },
    "papermill": {
     "duration": 0.128039,
     "end_time": "2023-11-16T17:03:50.023792",
     "exception": false,
     "start_time": "2023-11-16T17:03:49.895753",
     "status": "completed"
    },
    "tags": []
   },
   "outputs": [
    {
     "data": {
      "text/plain": [
       "11"
      ]
     },
     "execution_count": 35,
     "metadata": {},
     "output_type": "execute_result"
    }
   ],
   "source": [
    "a[-5]"
   ]
  },
  {
   "cell_type": "code",
   "execution_count": 36,
   "id": "a154486a",
   "metadata": {
    "execution": {
     "iopub.execute_input": "2023-11-16T17:03:50.261678Z",
     "iopub.status.busy": "2023-11-16T17:03:50.260804Z",
     "iopub.status.idle": "2023-11-16T17:03:50.266797Z",
     "shell.execute_reply": "2023-11-16T17:03:50.265966Z"
    },
    "papermill": {
     "duration": 0.124521,
     "end_time": "2023-11-16T17:03:50.268766",
     "exception": false,
     "start_time": "2023-11-16T17:03:50.144245",
     "status": "completed"
    },
    "tags": []
   },
   "outputs": [
    {
     "data": {
      "text/plain": [
       "[28, 34, 45]"
      ]
     },
     "execution_count": 36,
     "metadata": {},
     "output_type": "execute_result"
    }
   ],
   "source": [
    "a[1:4]"
   ]
  },
  {
   "cell_type": "code",
   "execution_count": 37,
   "id": "42da9430",
   "metadata": {
    "execution": {
     "iopub.execute_input": "2023-11-16T17:03:50.511468Z",
     "iopub.status.busy": "2023-11-16T17:03:50.510709Z",
     "iopub.status.idle": "2023-11-16T17:03:50.515254Z",
     "shell.execute_reply": "2023-11-16T17:03:50.514370Z"
    },
    "papermill": {
     "duration": 0.131326,
     "end_time": "2023-11-16T17:03:50.517272",
     "exception": false,
     "start_time": "2023-11-16T17:03:50.385946",
     "status": "completed"
    },
    "tags": []
   },
   "outputs": [],
   "source": [
    "a = [10,20,30,40 ,50,60,70,80,90]"
   ]
  },
  {
   "cell_type": "code",
   "execution_count": 38,
   "id": "24ca1305",
   "metadata": {
    "execution": {
     "iopub.execute_input": "2023-11-16T17:03:50.751883Z",
     "iopub.status.busy": "2023-11-16T17:03:50.751241Z",
     "iopub.status.idle": "2023-11-16T17:03:50.757341Z",
     "shell.execute_reply": "2023-11-16T17:03:50.756501Z"
    },
    "papermill": {
     "duration": 0.124213,
     "end_time": "2023-11-16T17:03:50.759282",
     "exception": false,
     "start_time": "2023-11-16T17:03:50.635069",
     "status": "completed"
    },
    "tags": []
   },
   "outputs": [
    {
     "data": {
      "text/plain": [
       "[20, 30, 40, 50, 60, 70, 80]"
      ]
     },
     "execution_count": 38,
     "metadata": {},
     "output_type": "execute_result"
    }
   ],
   "source": [
    "# 2 property index - list = zero -index \n",
    "a[1:8]"
   ]
  },
  {
   "cell_type": "code",
   "execution_count": 39,
   "id": "b1d3589d",
   "metadata": {
    "execution": {
     "iopub.execute_input": "2023-11-16T17:03:51.000935Z",
     "iopub.status.busy": "2023-11-16T17:03:51.000101Z",
     "iopub.status.idle": "2023-11-16T17:03:51.006201Z",
     "shell.execute_reply": "2023-11-16T17:03:51.005350Z"
    },
    "papermill": {
     "duration": 0.12758,
     "end_time": "2023-11-16T17:03:51.008261",
     "exception": false,
     "start_time": "2023-11-16T17:03:50.880681",
     "status": "completed"
    },
    "tags": []
   },
   "outputs": [
    {
     "data": {
      "text/plain": [
       "[20, 40, 60, 80]"
      ]
     },
     "execution_count": 39,
     "metadata": {},
     "output_type": "execute_result"
    }
   ],
   "source": [
    "a[1:8:2]"
   ]
  },
  {
   "cell_type": "code",
   "execution_count": 40,
   "id": "218b0c18",
   "metadata": {
    "execution": {
     "iopub.execute_input": "2023-11-16T17:03:51.246751Z",
     "iopub.status.busy": "2023-11-16T17:03:51.246378Z",
     "iopub.status.idle": "2023-11-16T17:03:51.252242Z",
     "shell.execute_reply": "2023-11-16T17:03:51.251450Z"
    },
    "papermill": {
     "duration": 0.126049,
     "end_time": "2023-11-16T17:03:51.254065",
     "exception": false,
     "start_time": "2023-11-16T17:03:51.128016",
     "status": "completed"
    },
    "tags": []
   },
   "outputs": [
    {
     "data": {
      "text/plain": [
       "[20, 50, 80]"
      ]
     },
     "execution_count": 40,
     "metadata": {},
     "output_type": "execute_result"
    }
   ],
   "source": [
    "a[1:-1:3]"
   ]
  },
  {
   "cell_type": "code",
   "execution_count": 41,
   "id": "1072700c",
   "metadata": {
    "execution": {
     "iopub.execute_input": "2023-11-16T17:03:51.491332Z",
     "iopub.status.busy": "2023-11-16T17:03:51.490934Z",
     "iopub.status.idle": "2023-11-16T17:03:51.496810Z",
     "shell.execute_reply": "2023-11-16T17:03:51.495979Z"
    },
    "papermill": {
     "duration": 0.129442,
     "end_time": "2023-11-16T17:03:51.498766",
     "exception": false,
     "start_time": "2023-11-16T17:03:51.369324",
     "status": "completed"
    },
    "tags": []
   },
   "outputs": [
    {
     "data": {
      "text/plain": [
       "[10, 20, 30, 40, 50, 60, 70, 80, 90]"
      ]
     },
     "execution_count": 41,
     "metadata": {},
     "output_type": "execute_result"
    }
   ],
   "source": [
    "# property of 1 of list \n",
    "# mutabilty\n",
    "\n",
    "a "
   ]
  },
  {
   "cell_type": "code",
   "execution_count": 42,
   "id": "10d1c4a7",
   "metadata": {
    "execution": {
     "iopub.execute_input": "2023-11-16T17:03:51.733654Z",
     "iopub.status.busy": "2023-11-16T17:03:51.732888Z",
     "iopub.status.idle": "2023-11-16T17:03:51.738850Z",
     "shell.execute_reply": "2023-11-16T17:03:51.738022Z"
    },
    "papermill": {
     "duration": 0.12554,
     "end_time": "2023-11-16T17:03:51.740928",
     "exception": false,
     "start_time": "2023-11-16T17:03:51.615388",
     "status": "completed"
    },
    "tags": []
   },
   "outputs": [
    {
     "data": {
      "text/plain": [
       "10"
      ]
     },
     "execution_count": 42,
     "metadata": {},
     "output_type": "execute_result"
    }
   ],
   "source": [
    "a[0]"
   ]
  },
  {
   "cell_type": "code",
   "execution_count": 43,
   "id": "a6fcb0a9",
   "metadata": {
    "execution": {
     "iopub.execute_input": "2023-11-16T17:03:51.981455Z",
     "iopub.status.busy": "2023-11-16T17:03:51.981051Z",
     "iopub.status.idle": "2023-11-16T17:03:51.986979Z",
     "shell.execute_reply": "2023-11-16T17:03:51.986163Z"
    },
    "papermill": {
     "duration": 0.131201,
     "end_time": "2023-11-16T17:03:51.989005",
     "exception": false,
     "start_time": "2023-11-16T17:03:51.857804",
     "status": "completed"
    },
    "tags": []
   },
   "outputs": [
    {
     "data": {
      "text/plain": [
       "[900, 20, 30, 40, 50, 60, 70, 80, 90]"
      ]
     },
     "execution_count": 43,
     "metadata": {},
     "output_type": "execute_result"
    }
   ],
   "source": [
    "a[0] = 900\n",
    "a"
   ]
  },
  {
   "cell_type": "code",
   "execution_count": 44,
   "id": "274aeada",
   "metadata": {
    "execution": {
     "iopub.execute_input": "2023-11-16T17:03:52.244607Z",
     "iopub.status.busy": "2023-11-16T17:03:52.244223Z",
     "iopub.status.idle": "2023-11-16T17:03:52.250517Z",
     "shell.execute_reply": "2023-11-16T17:03:52.249588Z"
    },
    "papermill": {
     "duration": 0.130606,
     "end_time": "2023-11-16T17:03:52.252502",
     "exception": false,
     "start_time": "2023-11-16T17:03:52.121896",
     "status": "completed"
    },
    "tags": []
   },
   "outputs": [
    {
     "data": {
      "text/plain": [
       "list"
      ]
     },
     "execution_count": 44,
     "metadata": {},
     "output_type": "execute_result"
    }
   ],
   "source": [
    "type(a)"
   ]
  },
  {
   "cell_type": "markdown",
   "id": "f7aecf53",
   "metadata": {
    "papermill": {
     "duration": 0.116569,
     "end_time": "2023-11-16T17:03:52.486055",
     "exception": false,
     "start_time": "2023-11-16T17:03:52.369486",
     "status": "completed"
    },
    "tags": []
   },
   "source": [
    "# tuple  (  )"
   ]
  },
  {
   "cell_type": "code",
   "execution_count": 45,
   "id": "2ff3e03f",
   "metadata": {
    "execution": {
     "iopub.execute_input": "2023-11-16T17:03:52.726150Z",
     "iopub.status.busy": "2023-11-16T17:03:52.725260Z",
     "iopub.status.idle": "2023-11-16T17:03:52.731740Z",
     "shell.execute_reply": "2023-11-16T17:03:52.730826Z"
    },
    "papermill": {
     "duration": 0.130277,
     "end_time": "2023-11-16T17:03:52.733743",
     "exception": false,
     "start_time": "2023-11-16T17:03:52.603466",
     "status": "completed"
    },
    "tags": []
   },
   "outputs": [
    {
     "data": {
      "text/plain": [
       "10"
      ]
     },
     "execution_count": 45,
     "metadata": {},
     "output_type": "execute_result"
    }
   ],
   "source": [
    "b = (10,20,30,40,50)\n",
    "b[0]"
   ]
  },
  {
   "cell_type": "code",
   "execution_count": 46,
   "id": "605e6d84",
   "metadata": {
    "execution": {
     "iopub.execute_input": "2023-11-16T17:03:53.017630Z",
     "iopub.status.busy": "2023-11-16T17:03:53.016983Z",
     "iopub.status.idle": "2023-11-16T17:03:53.022960Z",
     "shell.execute_reply": "2023-11-16T17:03:53.022005Z"
    },
    "papermill": {
     "duration": 0.127668,
     "end_time": "2023-11-16T17:03:53.024998",
     "exception": false,
     "start_time": "2023-11-16T17:03:52.897330",
     "status": "completed"
    },
    "tags": []
   },
   "outputs": [
    {
     "data": {
      "text/plain": [
       "tuple"
      ]
     },
     "execution_count": 46,
     "metadata": {},
     "output_type": "execute_result"
    }
   ],
   "source": [
    "type(b)"
   ]
  },
  {
   "cell_type": "code",
   "execution_count": 47,
   "id": "249c1988",
   "metadata": {
    "execution": {
     "iopub.execute_input": "2023-11-16T17:03:53.263193Z",
     "iopub.status.busy": "2023-11-16T17:03:53.262355Z",
     "iopub.status.idle": "2023-11-16T17:03:53.268133Z",
     "shell.execute_reply": "2023-11-16T17:03:53.267280Z"
    },
    "papermill": {
     "duration": 0.125605,
     "end_time": "2023-11-16T17:03:53.270184",
     "exception": false,
     "start_time": "2023-11-16T17:03:53.144579",
     "status": "completed"
    },
    "tags": []
   },
   "outputs": [
    {
     "data": {
      "text/plain": [
       "50"
      ]
     },
     "execution_count": 47,
     "metadata": {},
     "output_type": "execute_result"
    }
   ],
   "source": [
    "b[4]"
   ]
  },
  {
   "cell_type": "code",
   "execution_count": 48,
   "id": "02863094",
   "metadata": {
    "execution": {
     "iopub.execute_input": "2023-11-16T17:03:53.504415Z",
     "iopub.status.busy": "2023-11-16T17:03:53.503699Z",
     "iopub.status.idle": "2023-11-16T17:03:53.509407Z",
     "shell.execute_reply": "2023-11-16T17:03:53.508566Z"
    },
    "papermill": {
     "duration": 0.125435,
     "end_time": "2023-11-16T17:03:53.511344",
     "exception": false,
     "start_time": "2023-11-16T17:03:53.385909",
     "status": "completed"
    },
    "tags": []
   },
   "outputs": [
    {
     "data": {
      "text/plain": [
       "50"
      ]
     },
     "execution_count": 48,
     "metadata": {},
     "output_type": "execute_result"
    }
   ],
   "source": [
    "b[-1]"
   ]
  },
  {
   "cell_type": "code",
   "execution_count": 49,
   "id": "6109e305",
   "metadata": {
    "execution": {
     "iopub.execute_input": "2023-11-16T17:03:53.747760Z",
     "iopub.status.busy": "2023-11-16T17:03:53.747401Z",
     "iopub.status.idle": "2023-11-16T17:03:53.751576Z",
     "shell.execute_reply": "2023-11-16T17:03:53.750748Z"
    },
    "papermill": {
     "duration": 0.123043,
     "end_time": "2023-11-16T17:03:53.753626",
     "exception": false,
     "start_time": "2023-11-16T17:03:53.630583",
     "status": "completed"
    },
    "tags": []
   },
   "outputs": [],
   "source": [
    "# property 2 of tuple - zero index "
   ]
  },
  {
   "cell_type": "code",
   "execution_count": 50,
   "id": "b89bb3c1",
   "metadata": {
    "execution": {
     "iopub.execute_input": "2023-11-16T17:03:53.991946Z",
     "iopub.status.busy": "2023-11-16T17:03:53.991274Z",
     "iopub.status.idle": "2023-11-16T17:03:53.995523Z",
     "shell.execute_reply": "2023-11-16T17:03:53.994603Z"
    },
    "papermill": {
     "duration": 0.126227,
     "end_time": "2023-11-16T17:03:53.997621",
     "exception": false,
     "start_time": "2023-11-16T17:03:53.871394",
     "status": "completed"
    },
    "tags": []
   },
   "outputs": [],
   "source": [
    "# b[0] = 10"
   ]
  },
  {
   "cell_type": "code",
   "execution_count": 51,
   "id": "3a7e5ea4",
   "metadata": {
    "execution": {
     "iopub.execute_input": "2023-11-16T17:03:54.238333Z",
     "iopub.status.busy": "2023-11-16T17:03:54.237636Z",
     "iopub.status.idle": "2023-11-16T17:03:54.241641Z",
     "shell.execute_reply": "2023-11-16T17:03:54.240760Z"
    },
    "papermill": {
     "duration": 0.123273,
     "end_time": "2023-11-16T17:03:54.243464",
     "exception": false,
     "start_time": "2023-11-16T17:03:54.120191",
     "status": "completed"
    },
    "tags": []
   },
   "outputs": [],
   "source": [
    "# property immutabilty - ypu cant change elements in a list"
   ]
  },
  {
   "cell_type": "code",
   "execution_count": 52,
   "id": "2b0a512e",
   "metadata": {
    "execution": {
     "iopub.execute_input": "2023-11-16T17:03:54.478709Z",
     "iopub.status.busy": "2023-11-16T17:03:54.478044Z",
     "iopub.status.idle": "2023-11-16T17:03:54.482277Z",
     "shell.execute_reply": "2023-11-16T17:03:54.481395Z"
    },
    "papermill": {
     "duration": 0.124647,
     "end_time": "2023-11-16T17:03:54.484217",
     "exception": false,
     "start_time": "2023-11-16T17:03:54.359570",
     "status": "completed"
    },
    "tags": []
   },
   "outputs": [],
   "source": [
    "# set "
   ]
  },
  {
   "cell_type": "markdown",
   "id": "e3021dc4",
   "metadata": {
    "papermill": {
     "duration": 0.117138,
     "end_time": "2023-11-16T17:03:54.717159",
     "exception": false,
     "start_time": "2023-11-16T17:03:54.600021",
     "status": "completed"
    },
    "tags": []
   },
   "source": [
    "{ }"
   ]
  },
  {
   "cell_type": "code",
   "execution_count": 53,
   "id": "80e739eb",
   "metadata": {
    "execution": {
     "iopub.execute_input": "2023-11-16T17:03:54.960792Z",
     "iopub.status.busy": "2023-11-16T17:03:54.960469Z",
     "iopub.status.idle": "2023-11-16T17:03:54.964694Z",
     "shell.execute_reply": "2023-11-16T17:03:54.963867Z"
    },
    "papermill": {
     "duration": 0.129163,
     "end_time": "2023-11-16T17:03:54.966679",
     "exception": false,
     "start_time": "2023-11-16T17:03:54.837516",
     "status": "completed"
    },
    "tags": []
   },
   "outputs": [],
   "source": [
    "c = {10,20,30,40}"
   ]
  },
  {
   "cell_type": "code",
   "execution_count": 54,
   "id": "d3377d16",
   "metadata": {
    "execution": {
     "iopub.execute_input": "2023-11-16T17:03:55.207330Z",
     "iopub.status.busy": "2023-11-16T17:03:55.206539Z",
     "iopub.status.idle": "2023-11-16T17:03:55.212321Z",
     "shell.execute_reply": "2023-11-16T17:03:55.211499Z"
    },
    "papermill": {
     "duration": 0.127985,
     "end_time": "2023-11-16T17:03:55.214257",
     "exception": false,
     "start_time": "2023-11-16T17:03:55.086272",
     "status": "completed"
    },
    "tags": []
   },
   "outputs": [
    {
     "data": {
      "text/plain": [
       "{10, 20, 30, 40}"
      ]
     },
     "execution_count": 54,
     "metadata": {},
     "output_type": "execute_result"
    }
   ],
   "source": [
    "c"
   ]
  },
  {
   "cell_type": "code",
   "execution_count": 55,
   "id": "52952432",
   "metadata": {
    "execution": {
     "iopub.execute_input": "2023-11-16T17:03:55.449507Z",
     "iopub.status.busy": "2023-11-16T17:03:55.448854Z",
     "iopub.status.idle": "2023-11-16T17:03:55.453211Z",
     "shell.execute_reply": "2023-11-16T17:03:55.452347Z"
    },
    "papermill": {
     "duration": 0.125341,
     "end_time": "2023-11-16T17:03:55.455190",
     "exception": false,
     "start_time": "2023-11-16T17:03:55.329849",
     "status": "completed"
    },
    "tags": []
   },
   "outputs": [],
   "source": [
    "d = {10,20,10,20}"
   ]
  },
  {
   "cell_type": "code",
   "execution_count": 56,
   "id": "361c43bb",
   "metadata": {
    "execution": {
     "iopub.execute_input": "2023-11-16T17:03:55.691290Z",
     "iopub.status.busy": "2023-11-16T17:03:55.690612Z",
     "iopub.status.idle": "2023-11-16T17:03:55.696239Z",
     "shell.execute_reply": "2023-11-16T17:03:55.695400Z"
    },
    "papermill": {
     "duration": 0.12509,
     "end_time": "2023-11-16T17:03:55.698198",
     "exception": false,
     "start_time": "2023-11-16T17:03:55.573108",
     "status": "completed"
    },
    "tags": []
   },
   "outputs": [
    {
     "data": {
      "text/plain": [
       "{10, 20}"
      ]
     },
     "execution_count": 56,
     "metadata": {},
     "output_type": "execute_result"
    }
   ],
   "source": [
    "d"
   ]
  },
  {
   "cell_type": "code",
   "execution_count": 57,
   "id": "7b8226ca",
   "metadata": {
    "execution": {
     "iopub.execute_input": "2023-11-16T17:03:55.933585Z",
     "iopub.status.busy": "2023-11-16T17:03:55.932728Z",
     "iopub.status.idle": "2023-11-16T17:03:55.936894Z",
     "shell.execute_reply": "2023-11-16T17:03:55.936031Z"
    },
    "papermill": {
     "duration": 0.124287,
     "end_time": "2023-11-16T17:03:55.938876",
     "exception": false,
     "start_time": "2023-11-16T17:03:55.814589",
     "status": "completed"
    },
    "tags": []
   },
   "outputs": [],
   "source": [
    "# # property 1 \n",
    "\n",
    "# unique elements only "
   ]
  },
  {
   "cell_type": "code",
   "execution_count": 58,
   "id": "e9ab60e0",
   "metadata": {
    "execution": {
     "iopub.execute_input": "2023-11-16T17:03:56.226625Z",
     "iopub.status.busy": "2023-11-16T17:03:56.225876Z",
     "iopub.status.idle": "2023-11-16T17:03:56.231539Z",
     "shell.execute_reply": "2023-11-16T17:03:56.230656Z"
    },
    "papermill": {
     "duration": 0.126985,
     "end_time": "2023-11-16T17:03:56.233389",
     "exception": false,
     "start_time": "2023-11-16T17:03:56.106404",
     "status": "completed"
    },
    "tags": []
   },
   "outputs": [
    {
     "data": {
      "text/plain": [
       "{10, 20}"
      ]
     },
     "execution_count": 58,
     "metadata": {},
     "output_type": "execute_result"
    }
   ],
   "source": [
    "# property \n",
    "# there is no index in set \n",
    "\n",
    "d"
   ]
  },
  {
   "cell_type": "code",
   "execution_count": 59,
   "id": "2d307a9f",
   "metadata": {
    "execution": {
     "iopub.execute_input": "2023-11-16T17:03:56.470231Z",
     "iopub.status.busy": "2023-11-16T17:03:56.469515Z",
     "iopub.status.idle": "2023-11-16T17:03:56.473584Z",
     "shell.execute_reply": "2023-11-16T17:03:56.472623Z"
    },
    "papermill": {
     "duration": 0.12532,
     "end_time": "2023-11-16T17:03:56.475653",
     "exception": false,
     "start_time": "2023-11-16T17:03:56.350333",
     "status": "completed"
    },
    "tags": []
   },
   "outputs": [],
   "source": [
    "# d[0]"
   ]
  },
  {
   "cell_type": "markdown",
   "id": "8d48c9d3",
   "metadata": {
    "papermill": {
     "duration": 0.116608,
     "end_time": "2023-11-16T17:03:56.709111",
     "exception": false,
     "start_time": "2023-11-16T17:03:56.592503",
     "status": "completed"
    },
    "tags": []
   },
   "source": [
    "# dictionary  ( ) "
   ]
  },
  {
   "cell_type": "code",
   "execution_count": 60,
   "id": "cddb2051",
   "metadata": {
    "execution": {
     "iopub.execute_input": "2023-11-16T17:03:56.946187Z",
     "iopub.status.busy": "2023-11-16T17:03:56.945292Z",
     "iopub.status.idle": "2023-11-16T17:03:56.950124Z",
     "shell.execute_reply": "2023-11-16T17:03:56.949133Z"
    },
    "papermill": {
     "duration": 0.125433,
     "end_time": "2023-11-16T17:03:56.952286",
     "exception": false,
     "start_time": "2023-11-16T17:03:56.826853",
     "status": "completed"
    },
    "tags": []
   },
   "outputs": [],
   "source": [
    "t = { \"beautiful\"   : \"swapna is a beautiful women\",\n",
    "    \"smart\" : \"tayyab is a smart person\",\n",
    "    \"clever\" : \"parth is clever\"}"
   ]
  },
  {
   "cell_type": "code",
   "execution_count": 61,
   "id": "a01059fe",
   "metadata": {
    "execution": {
     "iopub.execute_input": "2023-11-16T17:03:57.189427Z",
     "iopub.status.busy": "2023-11-16T17:03:57.188736Z",
     "iopub.status.idle": "2023-11-16T17:03:57.192724Z",
     "shell.execute_reply": "2023-11-16T17:03:57.191845Z"
    },
    "papermill": {
     "duration": 0.124245,
     "end_time": "2023-11-16T17:03:57.194698",
     "exception": false,
     "start_time": "2023-11-16T17:03:57.070453",
     "status": "completed"
    },
    "tags": []
   },
   "outputs": [],
   "source": [
    "# property index - key index"
   ]
  },
  {
   "cell_type": "code",
   "execution_count": 62,
   "id": "0a2e9c43",
   "metadata": {
    "execution": {
     "iopub.execute_input": "2023-11-16T17:03:57.428633Z",
     "iopub.status.busy": "2023-11-16T17:03:57.427994Z",
     "iopub.status.idle": "2023-11-16T17:03:57.434134Z",
     "shell.execute_reply": "2023-11-16T17:03:57.433149Z"
    },
    "papermill": {
     "duration": 0.12538,
     "end_time": "2023-11-16T17:03:57.436180",
     "exception": false,
     "start_time": "2023-11-16T17:03:57.310800",
     "status": "completed"
    },
    "tags": []
   },
   "outputs": [
    {
     "data": {
      "text/plain": [
       "dict_keys(['beautiful', 'smart', 'clever'])"
      ]
     },
     "execution_count": 62,
     "metadata": {},
     "output_type": "execute_result"
    }
   ],
   "source": [
    "t.keys()"
   ]
  },
  {
   "cell_type": "code",
   "execution_count": 63,
   "id": "dfc1b09c",
   "metadata": {
    "execution": {
     "iopub.execute_input": "2023-11-16T17:03:57.673653Z",
     "iopub.status.busy": "2023-11-16T17:03:57.672924Z",
     "iopub.status.idle": "2023-11-16T17:03:57.678721Z",
     "shell.execute_reply": "2023-11-16T17:03:57.677785Z"
    },
    "papermill": {
     "duration": 0.125501,
     "end_time": "2023-11-16T17:03:57.680781",
     "exception": false,
     "start_time": "2023-11-16T17:03:57.555280",
     "status": "completed"
    },
    "tags": []
   },
   "outputs": [
    {
     "data": {
      "text/plain": [
       "'swapna is a beautiful women'"
      ]
     },
     "execution_count": 63,
     "metadata": {},
     "output_type": "execute_result"
    }
   ],
   "source": [
    "t[\"beautiful\"]"
   ]
  },
  {
   "cell_type": "code",
   "execution_count": 64,
   "id": "cceced92",
   "metadata": {
    "execution": {
     "iopub.execute_input": "2023-11-16T17:03:57.920411Z",
     "iopub.status.busy": "2023-11-16T17:03:57.920086Z",
     "iopub.status.idle": "2023-11-16T17:03:57.925611Z",
     "shell.execute_reply": "2023-11-16T17:03:57.924793Z"
    },
    "papermill": {
     "duration": 0.130411,
     "end_time": "2023-11-16T17:03:57.927702",
     "exception": false,
     "start_time": "2023-11-16T17:03:57.797291",
     "status": "completed"
    },
    "tags": []
   },
   "outputs": [
    {
     "data": {
      "text/plain": [
       "'parth is clever'"
      ]
     },
     "execution_count": 64,
     "metadata": {},
     "output_type": "execute_result"
    }
   ],
   "source": [
    "t[\"clever\"]"
   ]
  },
  {
   "cell_type": "code",
   "execution_count": 65,
   "id": "3817849b",
   "metadata": {
    "execution": {
     "iopub.execute_input": "2023-11-16T17:03:58.162280Z",
     "iopub.status.busy": "2023-11-16T17:03:58.161965Z",
     "iopub.status.idle": "2023-11-16T17:03:58.167778Z",
     "shell.execute_reply": "2023-11-16T17:03:58.166951Z"
    },
    "papermill": {
     "duration": 0.126569,
     "end_time": "2023-11-16T17:03:58.169663",
     "exception": false,
     "start_time": "2023-11-16T17:03:58.043094",
     "status": "completed"
    },
    "tags": []
   },
   "outputs": [
    {
     "data": {
      "text/plain": [
       "dict_keys(['beautiful', 'smart', 'clever'])"
      ]
     },
     "execution_count": 65,
     "metadata": {},
     "output_type": "execute_result"
    }
   ],
   "source": [
    "t.keys()"
   ]
  },
  {
   "cell_type": "code",
   "execution_count": 66,
   "id": "64efcc20",
   "metadata": {
    "execution": {
     "iopub.execute_input": "2023-11-16T17:03:58.405597Z",
     "iopub.status.busy": "2023-11-16T17:03:58.405234Z",
     "iopub.status.idle": "2023-11-16T17:03:58.411302Z",
     "shell.execute_reply": "2023-11-16T17:03:58.410423Z"
    },
    "papermill": {
     "duration": 0.127293,
     "end_time": "2023-11-16T17:03:58.413251",
     "exception": false,
     "start_time": "2023-11-16T17:03:58.285958",
     "status": "completed"
    },
    "tags": []
   },
   "outputs": [
    {
     "data": {
      "text/plain": [
       "dict_values(['swapna is a beautiful women', 'tayyab is a smart person', 'parth is clever'])"
      ]
     },
     "execution_count": 66,
     "metadata": {},
     "output_type": "execute_result"
    }
   ],
   "source": [
    "t.values()"
   ]
  },
  {
   "cell_type": "code",
   "execution_count": 67,
   "id": "0db6d005",
   "metadata": {
    "execution": {
     "iopub.execute_input": "2023-11-16T17:03:58.649812Z",
     "iopub.status.busy": "2023-11-16T17:03:58.649470Z",
     "iopub.status.idle": "2023-11-16T17:03:58.655592Z",
     "shell.execute_reply": "2023-11-16T17:03:58.654702Z"
    },
    "papermill": {
     "duration": 0.128675,
     "end_time": "2023-11-16T17:03:58.657698",
     "exception": false,
     "start_time": "2023-11-16T17:03:58.529023",
     "status": "completed"
    },
    "tags": []
   },
   "outputs": [
    {
     "data": {
      "text/plain": [
       "dict_items([('beautiful', 'swapna is a beautiful women'), ('smart', 'tayyab is a smart person'), ('clever', 'parth is clever')])"
      ]
     },
     "execution_count": 67,
     "metadata": {},
     "output_type": "execute_result"
    }
   ],
   "source": [
    "t.items()"
   ]
  },
  {
   "cell_type": "code",
   "execution_count": 68,
   "id": "60ee4cae",
   "metadata": {
    "execution": {
     "iopub.execute_input": "2023-11-16T17:03:58.895305Z",
     "iopub.status.busy": "2023-11-16T17:03:58.894623Z",
     "iopub.status.idle": "2023-11-16T17:03:58.901677Z",
     "shell.execute_reply": "2023-11-16T17:03:58.900812Z"
    },
    "papermill": {
     "duration": 0.129148,
     "end_time": "2023-11-16T17:03:58.904163",
     "exception": false,
     "start_time": "2023-11-16T17:03:58.775015",
     "status": "completed"
    },
    "tags": []
   },
   "outputs": [
    {
     "data": {
      "text/plain": [
       "'4'"
      ]
     },
     "execution_count": 68,
     "metadata": {},
     "output_type": "execute_result"
    }
   ],
   "source": [
    "ch = { \"c1\" :\n",
    "                   {\"c1.1\" :  \"chapter1.1\",\n",
    "                    \n",
    "                    \"c1.2\" :  \n",
    "                             {\"c1.2.1\" : \"chapter mlv\",\n",
    "                              \"c1.2.2\" : [10,20,30,40]},\n",
    "                    \n",
    "                    \"c1.3\" :  \"chapter1.3\"},\n",
    "     \"c2\" : \"chapter2\",\n",
    "     \"c3\" : \"chapter3\"}\n",
    "\n",
    "list(str(ch[\"c1\"][\"c1.2\"][\"c1.2.2\"][3]))[0]"
   ]
  },
  {
   "cell_type": "code",
   "execution_count": 69,
   "id": "82c5fdd1",
   "metadata": {
    "execution": {
     "iopub.execute_input": "2023-11-16T17:03:59.146883Z",
     "iopub.status.busy": "2023-11-16T17:03:59.146551Z",
     "iopub.status.idle": "2023-11-16T17:03:59.152562Z",
     "shell.execute_reply": "2023-11-16T17:03:59.151721Z"
    },
    "papermill": {
     "duration": 0.130112,
     "end_time": "2023-11-16T17:03:59.154406",
     "exception": false,
     "start_time": "2023-11-16T17:03:59.024294",
     "status": "completed"
    },
    "tags": []
   },
   "outputs": [
    {
     "data": {
      "text/plain": [
       "10"
      ]
     },
     "execution_count": 69,
     "metadata": {},
     "output_type": "execute_result"
    }
   ],
   "source": [
    "ch[\"c1\"][\"c1.2\"][\"c1.2.2\"][0]"
   ]
  },
  {
   "cell_type": "code",
   "execution_count": 70,
   "id": "162dad40",
   "metadata": {
    "execution": {
     "iopub.execute_input": "2023-11-16T17:03:59.441727Z",
     "iopub.status.busy": "2023-11-16T17:03:59.441308Z",
     "iopub.status.idle": "2023-11-16T17:03:59.445584Z",
     "shell.execute_reply": "2023-11-16T17:03:59.444771Z"
    },
    "papermill": {
     "duration": 0.127976,
     "end_time": "2023-11-16T17:03:59.447643",
     "exception": false,
     "start_time": "2023-11-16T17:03:59.319667",
     "status": "completed"
    },
    "tags": []
   },
   "outputs": [],
   "source": [
    "ch[\"c3\"] = \"sush\""
   ]
  },
  {
   "cell_type": "code",
   "execution_count": 71,
   "id": "2b403dd7",
   "metadata": {
    "execution": {
     "iopub.execute_input": "2023-11-16T17:03:59.693288Z",
     "iopub.status.busy": "2023-11-16T17:03:59.692502Z",
     "iopub.status.idle": "2023-11-16T17:03:59.698392Z",
     "shell.execute_reply": "2023-11-16T17:03:59.697568Z"
    },
    "papermill": {
     "duration": 0.131956,
     "end_time": "2023-11-16T17:03:59.700321",
     "exception": false,
     "start_time": "2023-11-16T17:03:59.568365",
     "status": "completed"
    },
    "tags": []
   },
   "outputs": [
    {
     "data": {
      "text/plain": [
       "3"
      ]
     },
     "execution_count": 71,
     "metadata": {},
     "output_type": "execute_result"
    }
   ],
   "source": [
    "len(ch.items())"
   ]
  },
  {
   "cell_type": "code",
   "execution_count": 72,
   "id": "090c0e80",
   "metadata": {
    "execution": {
     "iopub.execute_input": "2023-11-16T17:03:59.941091Z",
     "iopub.status.busy": "2023-11-16T17:03:59.940468Z",
     "iopub.status.idle": "2023-11-16T17:03:59.947087Z",
     "shell.execute_reply": "2023-11-16T17:03:59.946220Z"
    },
    "papermill": {
     "duration": 0.129366,
     "end_time": "2023-11-16T17:03:59.949071",
     "exception": false,
     "start_time": "2023-11-16T17:03:59.819705",
     "status": "completed"
    },
    "tags": []
   },
   "outputs": [
    {
     "data": {
      "text/plain": [
       "{'c1': {'c1.1': 'chapter1.1',\n",
       "  'c1.2': {'c1.2.1': 'chapter mlv', 'c1.2.2': [10, 20, 30, 40]},\n",
       "  'c1.3': 'chapter1.3'},\n",
       " 'c2': 'chapter2',\n",
       " 'c3': 'sush'}"
      ]
     },
     "execution_count": 72,
     "metadata": {},
     "output_type": "execute_result"
    }
   ],
   "source": [
    "ch"
   ]
  },
  {
   "cell_type": "markdown",
   "id": "c5a50408",
   "metadata": {
    "papermill": {
     "duration": 0.121249,
     "end_time": "2023-11-16T17:04:00.192702",
     "exception": false,
     "start_time": "2023-11-16T17:04:00.071453",
     "status": "completed"
    },
    "tags": []
   },
   "source": [
    "# type\n",
    "int()\n",
    "float()\n",
    "str()"
   ]
  },
  {
   "cell_type": "markdown",
   "id": "ce0b4fc9",
   "metadata": {
    "papermill": {
     "duration": 0.117309,
     "end_time": "2023-11-16T17:04:00.426470",
     "exception": false,
     "start_time": "2023-11-16T17:04:00.309161",
     "status": "completed"
    },
    "tags": []
   },
   "source": [
    "# data structure casting\n",
    "## list()  tuple() set()  dict()"
   ]
  },
  {
   "cell_type": "code",
   "execution_count": 73,
   "id": "4b66d2d6",
   "metadata": {
    "execution": {
     "iopub.execute_input": "2023-11-16T17:04:00.669805Z",
     "iopub.status.busy": "2023-11-16T17:04:00.668981Z",
     "iopub.status.idle": "2023-11-16T17:04:00.675213Z",
     "shell.execute_reply": "2023-11-16T17:04:00.674333Z"
    },
    "papermill": {
     "duration": 0.129735,
     "end_time": "2023-11-16T17:04:00.677341",
     "exception": false,
     "start_time": "2023-11-16T17:04:00.547606",
     "status": "completed"
    },
    "tags": []
   },
   "outputs": [
    {
     "data": {
      "text/plain": [
       "list"
      ]
     },
     "execution_count": 73,
     "metadata": {},
     "output_type": "execute_result"
    }
   ],
   "source": [
    "a = [10,20,30]\n",
    "type(a)"
   ]
  },
  {
   "cell_type": "code",
   "execution_count": 74,
   "id": "74af3876",
   "metadata": {
    "execution": {
     "iopub.execute_input": "2023-11-16T17:04:00.920409Z",
     "iopub.status.busy": "2023-11-16T17:04:00.919698Z",
     "iopub.status.idle": "2023-11-16T17:04:00.925546Z",
     "shell.execute_reply": "2023-11-16T17:04:00.924693Z"
    },
    "papermill": {
     "duration": 0.128551,
     "end_time": "2023-11-16T17:04:00.927580",
     "exception": false,
     "start_time": "2023-11-16T17:04:00.799029",
     "status": "completed"
    },
    "tags": []
   },
   "outputs": [
    {
     "data": {
      "text/plain": [
       "(10, 20, 30)"
      ]
     },
     "execution_count": 74,
     "metadata": {},
     "output_type": "execute_result"
    }
   ],
   "source": [
    "b = tuple(a)\n",
    "b"
   ]
  },
  {
   "cell_type": "code",
   "execution_count": 75,
   "id": "394f487d",
   "metadata": {
    "execution": {
     "iopub.execute_input": "2023-11-16T17:04:01.175178Z",
     "iopub.status.busy": "2023-11-16T17:04:01.174796Z",
     "iopub.status.idle": "2023-11-16T17:04:01.180738Z",
     "shell.execute_reply": "2023-11-16T17:04:01.179909Z"
    },
    "papermill": {
     "duration": 0.13422,
     "end_time": "2023-11-16T17:04:01.182697",
     "exception": false,
     "start_time": "2023-11-16T17:04:01.048477",
     "status": "completed"
    },
    "tags": []
   },
   "outputs": [
    {
     "data": {
      "text/plain": [
       "tuple"
      ]
     },
     "execution_count": 75,
     "metadata": {},
     "output_type": "execute_result"
    }
   ],
   "source": [
    "type(b)"
   ]
  },
  {
   "cell_type": "code",
   "execution_count": 76,
   "id": "2fd02ef0",
   "metadata": {
    "execution": {
     "iopub.execute_input": "2023-11-16T17:04:01.422857Z",
     "iopub.status.busy": "2023-11-16T17:04:01.422512Z",
     "iopub.status.idle": "2023-11-16T17:04:01.426752Z",
     "shell.execute_reply": "2023-11-16T17:04:01.425972Z"
    },
    "papermill": {
     "duration": 0.126732,
     "end_time": "2023-11-16T17:04:01.428600",
     "exception": false,
     "start_time": "2023-11-16T17:04:01.301868",
     "status": "completed"
    },
    "tags": []
   },
   "outputs": [],
   "source": [
    "gg = (\"sush@gmail.com\",2564856855)\n",
    "# gg[0] = \"sush@outlook.com\""
   ]
  },
  {
   "cell_type": "code",
   "execution_count": 77,
   "id": "3419fa27",
   "metadata": {
    "execution": {
     "iopub.execute_input": "2023-11-16T17:04:01.672484Z",
     "iopub.status.busy": "2023-11-16T17:04:01.672093Z",
     "iopub.status.idle": "2023-11-16T17:04:01.677924Z",
     "shell.execute_reply": "2023-11-16T17:04:01.677088Z"
    },
    "papermill": {
     "duration": 0.130465,
     "end_time": "2023-11-16T17:04:01.679861",
     "exception": false,
     "start_time": "2023-11-16T17:04:01.549396",
     "status": "completed"
    },
    "tags": []
   },
   "outputs": [
    {
     "data": {
      "text/plain": [
       "['sush@gmail.com', 2564856855]"
      ]
     },
     "execution_count": 77,
     "metadata": {},
     "output_type": "execute_result"
    }
   ],
   "source": [
    "gg = list(gg)\n",
    "gg"
   ]
  },
  {
   "cell_type": "code",
   "execution_count": 78,
   "id": "e632108e",
   "metadata": {
    "execution": {
     "iopub.execute_input": "2023-11-16T17:04:01.920225Z",
     "iopub.status.busy": "2023-11-16T17:04:01.919887Z",
     "iopub.status.idle": "2023-11-16T17:04:01.925753Z",
     "shell.execute_reply": "2023-11-16T17:04:01.924869Z"
    },
    "papermill": {
     "duration": 0.127466,
     "end_time": "2023-11-16T17:04:01.927664",
     "exception": false,
     "start_time": "2023-11-16T17:04:01.800198",
     "status": "completed"
    },
    "tags": []
   },
   "outputs": [
    {
     "data": {
      "text/plain": [
       "list"
      ]
     },
     "execution_count": 78,
     "metadata": {},
     "output_type": "execute_result"
    }
   ],
   "source": [
    "type(gg)"
   ]
  },
  {
   "cell_type": "code",
   "execution_count": 79,
   "id": "6ec91d9e",
   "metadata": {
    "execution": {
     "iopub.execute_input": "2023-11-16T17:04:02.195228Z",
     "iopub.status.busy": "2023-11-16T17:04:02.194876Z",
     "iopub.status.idle": "2023-11-16T17:04:02.201076Z",
     "shell.execute_reply": "2023-11-16T17:04:02.200168Z"
    },
    "papermill": {
     "duration": 0.154896,
     "end_time": "2023-11-16T17:04:02.203059",
     "exception": false,
     "start_time": "2023-11-16T17:04:02.048163",
     "status": "completed"
    },
    "tags": []
   },
   "outputs": [
    {
     "data": {
      "text/plain": [
       "['sush@outlook.com', 2564856855]"
      ]
     },
     "execution_count": 79,
     "metadata": {},
     "output_type": "execute_result"
    }
   ],
   "source": [
    "gg[0] = \"sush@outlook.com\"\n",
    "gg"
   ]
  },
  {
   "cell_type": "code",
   "execution_count": 80,
   "id": "8cb325f2",
   "metadata": {
    "execution": {
     "iopub.execute_input": "2023-11-16T17:04:02.446207Z",
     "iopub.status.busy": "2023-11-16T17:04:02.445507Z",
     "iopub.status.idle": "2023-11-16T17:04:02.451554Z",
     "shell.execute_reply": "2023-11-16T17:04:02.450504Z"
    },
    "papermill": {
     "duration": 0.126317,
     "end_time": "2023-11-16T17:04:02.453393",
     "exception": false,
     "start_time": "2023-11-16T17:04:02.327076",
     "status": "completed"
    },
    "tags": []
   },
   "outputs": [
    {
     "data": {
      "text/plain": [
       "('sush@outlook.com', 2564856855)"
      ]
     },
     "execution_count": 80,
     "metadata": {},
     "output_type": "execute_result"
    }
   ],
   "source": [
    "gg = tuple(gg)\n",
    "gg"
   ]
  },
  {
   "cell_type": "code",
   "execution_count": 81,
   "id": "0a53fa21",
   "metadata": {
    "execution": {
     "iopub.execute_input": "2023-11-16T17:04:02.745518Z",
     "iopub.status.busy": "2023-11-16T17:04:02.745148Z",
     "iopub.status.idle": "2023-11-16T17:04:02.751597Z",
     "shell.execute_reply": "2023-11-16T17:04:02.750759Z"
    },
    "papermill": {
     "duration": 0.133608,
     "end_time": "2023-11-16T17:04:02.753401",
     "exception": false,
     "start_time": "2023-11-16T17:04:02.619793",
     "status": "completed"
    },
    "tags": []
   },
   "outputs": [
    {
     "data": {
      "text/plain": [
       "('sush@outlook.com', 2564856855)"
      ]
     },
     "execution_count": 81,
     "metadata": {},
     "output_type": "execute_result"
    }
   ],
   "source": [
    "gg = (\"sush@gmail.com\",2564856855)\n",
    "gg = list(gg)\n",
    "gg[0] = \"sush@outlook.com\"\n",
    "gg = tuple(gg)\n",
    "gg"
   ]
  },
  {
   "cell_type": "code",
   "execution_count": 82,
   "id": "48451f0c",
   "metadata": {
    "execution": {
     "iopub.execute_input": "2023-11-16T17:04:02.995609Z",
     "iopub.status.busy": "2023-11-16T17:04:02.995229Z",
     "iopub.status.idle": "2023-11-16T17:04:03.001575Z",
     "shell.execute_reply": "2023-11-16T17:04:03.000670Z"
    },
    "papermill": {
     "duration": 0.127228,
     "end_time": "2023-11-16T17:04:03.003740",
     "exception": false,
     "start_time": "2023-11-16T17:04:02.876512",
     "status": "completed"
    },
    "tags": []
   },
   "outputs": [
    {
     "data": {
      "text/plain": [
       "[10, 20, 30]"
      ]
     },
     "execution_count": 82,
     "metadata": {},
     "output_type": "execute_result"
    }
   ],
   "source": [
    "a = [10,20,30,10]\n",
    "a = list(set(a))\n",
    "a"
   ]
  },
  {
   "cell_type": "code",
   "execution_count": 83,
   "id": "f0e9e723",
   "metadata": {
    "execution": {
     "iopub.execute_input": "2023-11-16T17:04:03.248203Z",
     "iopub.status.busy": "2023-11-16T17:04:03.247867Z",
     "iopub.status.idle": "2023-11-16T17:04:03.253570Z",
     "shell.execute_reply": "2023-11-16T17:04:03.252811Z"
    },
    "papermill": {
     "duration": 0.130737,
     "end_time": "2023-11-16T17:04:03.255446",
     "exception": false,
     "start_time": "2023-11-16T17:04:03.124709",
     "status": "completed"
    },
    "tags": []
   },
   "outputs": [
    {
     "data": {
      "text/plain": [
       "[10, 20, 30]"
      ]
     },
     "execution_count": 83,
     "metadata": {},
     "output_type": "execute_result"
    }
   ],
   "source": [
    "a = list(set(a))\n",
    "a"
   ]
  },
  {
   "cell_type": "code",
   "execution_count": 84,
   "id": "574913b1",
   "metadata": {
    "execution": {
     "iopub.execute_input": "2023-11-16T17:04:03.492592Z",
     "iopub.status.busy": "2023-11-16T17:04:03.492216Z",
     "iopub.status.idle": "2023-11-16T17:04:03.498069Z",
     "shell.execute_reply": "2023-11-16T17:04:03.497263Z"
    },
    "papermill": {
     "duration": 0.126533,
     "end_time": "2023-11-16T17:04:03.499935",
     "exception": false,
     "start_time": "2023-11-16T17:04:03.373402",
     "status": "completed"
    },
    "tags": []
   },
   "outputs": [
    {
     "data": {
      "text/plain": [
       "{10, 20, 30}"
      ]
     },
     "execution_count": 84,
     "metadata": {},
     "output_type": "execute_result"
    }
   ],
   "source": [
    "c = { 10,20,30,30}\n",
    "c \n",
    "\n"
   ]
  },
  {
   "cell_type": "code",
   "execution_count": 85,
   "id": "4f4d3335",
   "metadata": {
    "execution": {
     "iopub.execute_input": "2023-11-16T17:04:03.744634Z",
     "iopub.status.busy": "2023-11-16T17:04:03.743812Z",
     "iopub.status.idle": "2023-11-16T17:04:03.748931Z",
     "shell.execute_reply": "2023-11-16T17:04:03.748052Z"
    },
    "papermill": {
     "duration": 0.131113,
     "end_time": "2023-11-16T17:04:03.751224",
     "exception": false,
     "start_time": "2023-11-16T17:04:03.620111",
     "status": "completed"
    },
    "tags": []
   },
   "outputs": [
    {
     "name": "stdout",
     "output_type": "stream",
     "text": [
      "3\n"
     ]
    }
   ],
   "source": [
    "thislist = [\"apple\", \"banana\", \"cherry\"]\n",
    "print(len(thislist))"
   ]
  },
  {
   "cell_type": "code",
   "execution_count": 86,
   "id": "2910a02d",
   "metadata": {
    "execution": {
     "iopub.execute_input": "2023-11-16T17:04:04.031618Z",
     "iopub.status.busy": "2023-11-16T17:04:04.030540Z",
     "iopub.status.idle": "2023-11-16T17:04:04.036358Z",
     "shell.execute_reply": "2023-11-16T17:04:04.035310Z"
    },
    "papermill": {
     "duration": 0.142249,
     "end_time": "2023-11-16T17:04:04.038795",
     "exception": false,
     "start_time": "2023-11-16T17:04:03.896546",
     "status": "completed"
    },
    "tags": []
   },
   "outputs": [
    {
     "name": "stdout",
     "output_type": "stream",
     "text": [
      "['apple', 'banana', 'cherry']\n"
     ]
    }
   ],
   "source": [
    "thislist = list((\"apple\", \"banana\", \"cherry\")) # note the double round-brackets\n",
    "print(thislist)"
   ]
  },
  {
   "cell_type": "code",
   "execution_count": 87,
   "id": "5cca5183",
   "metadata": {
    "execution": {
     "iopub.execute_input": "2023-11-16T17:04:04.306318Z",
     "iopub.status.busy": "2023-11-16T17:04:04.305483Z",
     "iopub.status.idle": "2023-11-16T17:04:04.311439Z",
     "shell.execute_reply": "2023-11-16T17:04:04.310417Z"
    },
    "papermill": {
     "duration": 0.132172,
     "end_time": "2023-11-16T17:04:04.313546",
     "exception": false,
     "start_time": "2023-11-16T17:04:04.181374",
     "status": "completed"
    },
    "tags": []
   },
   "outputs": [
    {
     "name": "stdout",
     "output_type": "stream",
     "text": [
      "['apple', 'banana', 'cherry', 'orange', 'kiwi', 'melon', 'mango']\n"
     ]
    }
   ],
   "source": [
    "thislist = [\"apple\", \"banana\", \"cherry\", \"orange\", \"kiwi\", \"melon\", \"mango\"]\n",
    "print(thislist[:])"
   ]
  },
  {
   "cell_type": "code",
   "execution_count": 88,
   "id": "818a480e",
   "metadata": {
    "execution": {
     "iopub.execute_input": "2023-11-16T17:04:04.554763Z",
     "iopub.status.busy": "2023-11-16T17:04:04.554389Z",
     "iopub.status.idle": "2023-11-16T17:04:04.559702Z",
     "shell.execute_reply": "2023-11-16T17:04:04.558750Z"
    },
    "papermill": {
     "duration": 0.128832,
     "end_time": "2023-11-16T17:04:04.561912",
     "exception": false,
     "start_time": "2023-11-16T17:04:04.433080",
     "status": "completed"
    },
    "tags": []
   },
   "outputs": [
    {
     "name": "stdout",
     "output_type": "stream",
     "text": [
      "['orange', 'kiwi', 'melon']\n"
     ]
    }
   ],
   "source": [
    "thislist = [\"apple\", \"banana\", \"cherry\", \"orange\", \"kiwi\", \"melon\", \"mango\"]\n",
    "print(thislist[-4:-1])"
   ]
  },
  {
   "cell_type": "code",
   "execution_count": 89,
   "id": "cd82c4c6",
   "metadata": {
    "execution": {
     "iopub.execute_input": "2023-11-16T17:04:04.809335Z",
     "iopub.status.busy": "2023-11-16T17:04:04.808974Z",
     "iopub.status.idle": "2023-11-16T17:04:04.814167Z",
     "shell.execute_reply": "2023-11-16T17:04:04.813235Z"
    },
    "papermill": {
     "duration": 0.134143,
     "end_time": "2023-11-16T17:04:04.816341",
     "exception": false,
     "start_time": "2023-11-16T17:04:04.682198",
     "status": "completed"
    },
    "tags": []
   },
   "outputs": [
    {
     "name": "stdout",
     "output_type": "stream",
     "text": [
      "['apple', 'blackcurrant', 'cherry']\n"
     ]
    }
   ],
   "source": [
    "thislist = [\"apple\", \"banana\", \"cherry\"]\n",
    "thislist[1] = \"blackcurrant\"\n",
    "print(thislist)"
   ]
  },
  {
   "cell_type": "code",
   "execution_count": 90,
   "id": "8cd9b1c1",
   "metadata": {
    "execution": {
     "iopub.execute_input": "2023-11-16T17:04:05.060311Z",
     "iopub.status.busy": "2023-11-16T17:04:05.059471Z",
     "iopub.status.idle": "2023-11-16T17:04:05.065514Z",
     "shell.execute_reply": "2023-11-16T17:04:05.064698Z"
    },
    "papermill": {
     "duration": 0.12804,
     "end_time": "2023-11-16T17:04:05.067521",
     "exception": false,
     "start_time": "2023-11-16T17:04:04.939481",
     "status": "completed"
    },
    "tags": []
   },
   "outputs": [
    {
     "data": {
      "text/plain": [
       "['apple', 'banana', 'cherry', 'orange']"
      ]
     },
     "execution_count": 90,
     "metadata": {},
     "output_type": "execute_result"
    }
   ],
   "source": [
    "fruits = ['apple', 'banana', 'cherry']\n",
    "fruits.append(\"orange\")\n",
    "fruits"
   ]
  },
  {
   "cell_type": "code",
   "execution_count": 91,
   "id": "9e1d4bc6",
   "metadata": {
    "execution": {
     "iopub.execute_input": "2023-11-16T17:04:05.310214Z",
     "iopub.status.busy": "2023-11-16T17:04:05.309381Z",
     "iopub.status.idle": "2023-11-16T17:04:05.313846Z",
     "shell.execute_reply": "2023-11-16T17:04:05.312954Z"
    },
    "papermill": {
     "duration": 0.126573,
     "end_time": "2023-11-16T17:04:05.315779",
     "exception": false,
     "start_time": "2023-11-16T17:04:05.189206",
     "status": "completed"
    },
    "tags": []
   },
   "outputs": [],
   "source": [
    "fruits = ['apple', 'banana', 'cherry', 'orange']\n",
    "\n",
    "fruits.clear()"
   ]
  },
  {
   "cell_type": "code",
   "execution_count": 92,
   "id": "db3e350f",
   "metadata": {
    "execution": {
     "iopub.execute_input": "2023-11-16T17:04:05.556921Z",
     "iopub.status.busy": "2023-11-16T17:04:05.556144Z",
     "iopub.status.idle": "2023-11-16T17:04:05.561667Z",
     "shell.execute_reply": "2023-11-16T17:04:05.560907Z"
    },
    "papermill": {
     "duration": 0.127968,
     "end_time": "2023-11-16T17:04:05.563543",
     "exception": false,
     "start_time": "2023-11-16T17:04:05.435575",
     "status": "completed"
    },
    "tags": []
   },
   "outputs": [
    {
     "data": {
      "text/plain": [
       "[]"
      ]
     },
     "execution_count": 92,
     "metadata": {},
     "output_type": "execute_result"
    }
   ],
   "source": [
    "fruits "
   ]
  },
  {
   "cell_type": "code",
   "execution_count": 93,
   "id": "a349b137",
   "metadata": {
    "execution": {
     "iopub.execute_input": "2023-11-16T17:04:05.808645Z",
     "iopub.status.busy": "2023-11-16T17:04:05.807774Z",
     "iopub.status.idle": "2023-11-16T17:04:05.813937Z",
     "shell.execute_reply": "2023-11-16T17:04:05.813162Z"
    },
    "papermill": {
     "duration": 0.131565,
     "end_time": "2023-11-16T17:04:05.815791",
     "exception": false,
     "start_time": "2023-11-16T17:04:05.684226",
     "status": "completed"
    },
    "tags": []
   },
   "outputs": [
    {
     "data": {
      "text/plain": [
       "2"
      ]
     },
     "execution_count": 93,
     "metadata": {},
     "output_type": "execute_result"
    }
   ],
   "source": [
    "tay = ['sush', 'sush', 'cherry']\n",
    "\n",
    "tay.count(\"sush\")"
   ]
  },
  {
   "cell_type": "code",
   "execution_count": 94,
   "id": "e4bbf496",
   "metadata": {
    "execution": {
     "iopub.execute_input": "2023-11-16T17:04:06.058134Z",
     "iopub.status.busy": "2023-11-16T17:04:06.057303Z",
     "iopub.status.idle": "2023-11-16T17:04:06.063891Z",
     "shell.execute_reply": "2023-11-16T17:04:06.063031Z"
    },
    "papermill": {
     "duration": 0.128122,
     "end_time": "2023-11-16T17:04:06.065909",
     "exception": false,
     "start_time": "2023-11-16T17:04:05.937787",
     "status": "completed"
    },
    "tags": []
   },
   "outputs": [
    {
     "data": {
      "text/plain": [
       "1"
      ]
     },
     "execution_count": 94,
     "metadata": {},
     "output_type": "execute_result"
    }
   ],
   "source": [
    "fruits = ['apple', 'banana', 'cherry']\n",
    "\n",
    "points = (1, 4, 5, 9)\n",
    "\n",
    "fruits.extend(points)\n",
    "fruits[3]"
   ]
  },
  {
   "cell_type": "code",
   "execution_count": 95,
   "id": "cefc95ba",
   "metadata": {
    "execution": {
     "iopub.execute_input": "2023-11-16T17:04:06.312598Z",
     "iopub.status.busy": "2023-11-16T17:04:06.312176Z",
     "iopub.status.idle": "2023-11-16T17:04:06.318955Z",
     "shell.execute_reply": "2023-11-16T17:04:06.318047Z"
    },
    "papermill": {
     "duration": 0.134176,
     "end_time": "2023-11-16T17:04:06.320925",
     "exception": false,
     "start_time": "2023-11-16T17:04:06.186749",
     "status": "completed"
    },
    "tags": []
   },
   "outputs": [
    {
     "data": {
      "text/plain": [
       "['apple', 'banana', 'cherry', (1, 4, 5, 9)]"
      ]
     },
     "execution_count": 95,
     "metadata": {},
     "output_type": "execute_result"
    }
   ],
   "source": [
    "fruits = ['apple', 'banana', 'cherry']\n",
    "\n",
    "points = (1, 4, 5, 9)\n",
    "\n",
    "fruits.append(points)\n",
    "fruits"
   ]
  },
  {
   "cell_type": "code",
   "execution_count": 96,
   "id": "9115c488",
   "metadata": {
    "execution": {
     "iopub.execute_input": "2023-11-16T17:04:06.573182Z",
     "iopub.status.busy": "2023-11-16T17:04:06.572831Z",
     "iopub.status.idle": "2023-11-16T17:04:06.578510Z",
     "shell.execute_reply": "2023-11-16T17:04:06.577748Z"
    },
    "papermill": {
     "duration": 0.132374,
     "end_time": "2023-11-16T17:04:06.580476",
     "exception": false,
     "start_time": "2023-11-16T17:04:06.448102",
     "status": "completed"
    },
    "tags": []
   },
   "outputs": [
    {
     "data": {
      "text/plain": [
       "(1, 4, 5, 9)"
      ]
     },
     "execution_count": 96,
     "metadata": {},
     "output_type": "execute_result"
    }
   ],
   "source": [
    "fruits[3]"
   ]
  },
  {
   "cell_type": "code",
   "execution_count": 97,
   "id": "58082af6",
   "metadata": {
    "execution": {
     "iopub.execute_input": "2023-11-16T17:04:06.821337Z",
     "iopub.status.busy": "2023-11-16T17:04:06.820743Z",
     "iopub.status.idle": "2023-11-16T17:04:06.826905Z",
     "shell.execute_reply": "2023-11-16T17:04:06.826064Z"
    },
    "papermill": {
     "duration": 0.128976,
     "end_time": "2023-11-16T17:04:06.828811",
     "exception": false,
     "start_time": "2023-11-16T17:04:06.699835",
     "status": "completed"
    },
    "tags": []
   },
   "outputs": [
    {
     "data": {
      "text/plain": [
       "0"
      ]
     },
     "execution_count": 97,
     "metadata": {},
     "output_type": "execute_result"
    }
   ],
   "source": [
    "fruits = ['c001asha', 'coo2swapna', 'c001asha']\n",
    "\n",
    "fruits.index(\"c001asha\")"
   ]
  },
  {
   "cell_type": "code",
   "execution_count": 98,
   "id": "169b8508",
   "metadata": {
    "execution": {
     "iopub.execute_input": "2023-11-16T17:04:07.075024Z",
     "iopub.status.busy": "2023-11-16T17:04:07.074662Z",
     "iopub.status.idle": "2023-11-16T17:04:07.081508Z",
     "shell.execute_reply": "2023-11-16T17:04:07.080635Z"
    },
    "papermill": {
     "duration": 0.132025,
     "end_time": "2023-11-16T17:04:07.083735",
     "exception": false,
     "start_time": "2023-11-16T17:04:06.951710",
     "status": "completed"
    },
    "tags": []
   },
   "outputs": [
    {
     "data": {
      "text/plain": [
       "['apple', 'banana', 'orange', 'cherry']"
      ]
     },
     "execution_count": 98,
     "metadata": {},
     "output_type": "execute_result"
    }
   ],
   "source": [
    "fruits = ['apple', 'banana', 'cherry']\n",
    "\n",
    "fruits.insert(2, \"orange\")\n",
    "fruits"
   ]
  },
  {
   "cell_type": "code",
   "execution_count": 99,
   "id": "9b3e392e",
   "metadata": {
    "execution": {
     "iopub.execute_input": "2023-11-16T17:04:07.329686Z",
     "iopub.status.busy": "2023-11-16T17:04:07.328801Z",
     "iopub.status.idle": "2023-11-16T17:04:07.334923Z",
     "shell.execute_reply": "2023-11-16T17:04:07.334167Z"
    },
    "papermill": {
     "duration": 0.128459,
     "end_time": "2023-11-16T17:04:07.336878",
     "exception": false,
     "start_time": "2023-11-16T17:04:07.208419",
     "status": "completed"
    },
    "tags": []
   },
   "outputs": [
    {
     "data": {
      "text/plain": [
       "'apple'"
      ]
     },
     "execution_count": 99,
     "metadata": {},
     "output_type": "execute_result"
    }
   ],
   "source": [
    "fruits = ['apple', 'banana', 'cherry']\n",
    "a = fruits.pop(0)\n",
    "a"
   ]
  },
  {
   "cell_type": "code",
   "execution_count": 100,
   "id": "5be998b0",
   "metadata": {
    "execution": {
     "iopub.execute_input": "2023-11-16T17:04:07.590003Z",
     "iopub.status.busy": "2023-11-16T17:04:07.589073Z",
     "iopub.status.idle": "2023-11-16T17:04:07.595708Z",
     "shell.execute_reply": "2023-11-16T17:04:07.594805Z"
    },
    "papermill": {
     "duration": 0.137658,
     "end_time": "2023-11-16T17:04:07.597683",
     "exception": false,
     "start_time": "2023-11-16T17:04:07.460025",
     "status": "completed"
    },
    "tags": []
   },
   "outputs": [
    {
     "data": {
      "text/plain": [
       "0"
      ]
     },
     "execution_count": 100,
     "metadata": {},
     "output_type": "execute_result"
    }
   ],
   "source": [
    "fruits = ['apple', 'banana', 'cherry']\n",
    "a = fruits.index(\"apple\")\n",
    "a"
   ]
  },
  {
   "cell_type": "code",
   "execution_count": 101,
   "id": "78464435",
   "metadata": {
    "execution": {
     "iopub.execute_input": "2023-11-16T17:04:07.849567Z",
     "iopub.status.busy": "2023-11-16T17:04:07.848967Z",
     "iopub.status.idle": "2023-11-16T17:04:07.855221Z",
     "shell.execute_reply": "2023-11-16T17:04:07.854363Z"
    },
    "papermill": {
     "duration": 0.133117,
     "end_time": "2023-11-16T17:04:07.857283",
     "exception": false,
     "start_time": "2023-11-16T17:04:07.724166",
     "status": "completed"
    },
    "tags": []
   },
   "outputs": [
    {
     "data": {
      "text/plain": [
       "['apple', 'banana', 'banana']"
      ]
     },
     "execution_count": 101,
     "metadata": {},
     "output_type": "execute_result"
    }
   ],
   "source": [
    "fruits = ['banana', \"apple\",'banana', 'banana']\n",
    "\n",
    "fruits.remove(\"banana\")\n",
    "fruits \n",
    "\n",
    "# ctr a\n",
    "#  ctr /"
   ]
  },
  {
   "cell_type": "code",
   "execution_count": 102,
   "id": "be4ac918",
   "metadata": {
    "execution": {
     "iopub.execute_input": "2023-11-16T17:04:08.109193Z",
     "iopub.status.busy": "2023-11-16T17:04:08.108524Z",
     "iopub.status.idle": "2023-11-16T17:04:08.114697Z",
     "shell.execute_reply": "2023-11-16T17:04:08.113891Z"
    },
    "papermill": {
     "duration": 0.134927,
     "end_time": "2023-11-16T17:04:08.116967",
     "exception": false,
     "start_time": "2023-11-16T17:04:07.982040",
     "status": "completed"
    },
    "tags": []
   },
   "outputs": [
    {
     "data": {
      "text/plain": [
       "['cherry', 'banana', 'apple']"
      ]
     },
     "execution_count": 102,
     "metadata": {},
     "output_type": "execute_result"
    }
   ],
   "source": [
    "fruits = ['apple', 'banana', 'cherry']\n",
    "\n",
    "fruits.reverse()\n",
    "fruits"
   ]
  },
  {
   "cell_type": "code",
   "execution_count": 103,
   "id": "e3c1e15c",
   "metadata": {
    "execution": {
     "iopub.execute_input": "2023-11-16T17:04:08.361995Z",
     "iopub.status.busy": "2023-11-16T17:04:08.361289Z",
     "iopub.status.idle": "2023-11-16T17:04:08.367110Z",
     "shell.execute_reply": "2023-11-16T17:04:08.366253Z"
    },
    "papermill": {
     "duration": 0.129956,
     "end_time": "2023-11-16T17:04:08.369090",
     "exception": false,
     "start_time": "2023-11-16T17:04:08.239134",
     "status": "completed"
    },
    "tags": []
   },
   "outputs": [
    {
     "data": {
      "text/plain": [
       "[20, 11, 9, 30]"
      ]
     },
     "execution_count": 103,
     "metadata": {},
     "output_type": "execute_result"
    }
   ],
   "source": [
    "a= [20,11,9,30]\n",
    "a"
   ]
  },
  {
   "cell_type": "code",
   "execution_count": 104,
   "id": "8d953da2",
   "metadata": {
    "execution": {
     "iopub.execute_input": "2023-11-16T17:04:08.618106Z",
     "iopub.status.busy": "2023-11-16T17:04:08.617741Z",
     "iopub.status.idle": "2023-11-16T17:04:08.623674Z",
     "shell.execute_reply": "2023-11-16T17:04:08.622790Z"
    },
    "papermill": {
     "duration": 0.135578,
     "end_time": "2023-11-16T17:04:08.625708",
     "exception": false,
     "start_time": "2023-11-16T17:04:08.490130",
     "status": "completed"
    },
    "tags": []
   },
   "outputs": [
    {
     "data": {
      "text/plain": [
       "[30, 20, 11, 9]"
      ]
     },
     "execution_count": 104,
     "metadata": {},
     "output_type": "execute_result"
    }
   ],
   "source": [
    "a.sort(reverse = True)\n",
    "a"
   ]
  },
  {
   "cell_type": "code",
   "execution_count": 105,
   "id": "46839582",
   "metadata": {
    "execution": {
     "iopub.execute_input": "2023-11-16T17:04:08.868879Z",
     "iopub.status.busy": "2023-11-16T17:04:08.868531Z",
     "iopub.status.idle": "2023-11-16T17:04:08.874963Z",
     "shell.execute_reply": "2023-11-16T17:04:08.874113Z"
    },
    "papermill": {
     "duration": 0.130886,
     "end_time": "2023-11-16T17:04:08.876979",
     "exception": false,
     "start_time": "2023-11-16T17:04:08.746093",
     "status": "completed"
    },
    "tags": []
   },
   "outputs": [
    {
     "data": {
      "text/plain": [
       "[10, 20, 30, [40, 50, 60]]"
      ]
     },
     "execution_count": 105,
     "metadata": {},
     "output_type": "execute_result"
    }
   ],
   "source": [
    "d = [10,20,30]\n",
    "d.append([40,50,60])\n",
    "d"
   ]
  },
  {
   "cell_type": "code",
   "execution_count": 106,
   "id": "f11ee994",
   "metadata": {
    "execution": {
     "iopub.execute_input": "2023-11-16T17:04:09.128143Z",
     "iopub.status.busy": "2023-11-16T17:04:09.127531Z",
     "iopub.status.idle": "2023-11-16T17:04:09.134019Z",
     "shell.execute_reply": "2023-11-16T17:04:09.133042Z"
    },
    "papermill": {
     "duration": 0.138007,
     "end_time": "2023-11-16T17:04:09.136143",
     "exception": false,
     "start_time": "2023-11-16T17:04:08.998136",
     "status": "completed"
    },
    "tags": []
   },
   "outputs": [
    {
     "data": {
      "text/plain": [
       "[10, 20, 30, 40, 50, 60]"
      ]
     },
     "execution_count": 106,
     "metadata": {},
     "output_type": "execute_result"
    }
   ],
   "source": [
    "e = [10,20,30]\n",
    "e.extend([40,50,60])\n",
    "e"
   ]
  },
  {
   "cell_type": "code",
   "execution_count": 107,
   "id": "c3d9857d",
   "metadata": {
    "execution": {
     "iopub.execute_input": "2023-11-16T17:04:09.410540Z",
     "iopub.status.busy": "2023-11-16T17:04:09.409806Z",
     "iopub.status.idle": "2023-11-16T17:04:09.416287Z",
     "shell.execute_reply": "2023-11-16T17:04:09.415414Z"
    },
    "papermill": {
     "duration": 0.148088,
     "end_time": "2023-11-16T17:04:09.418411",
     "exception": false,
     "start_time": "2023-11-16T17:04:09.270323",
     "status": "completed"
    },
    "tags": []
   },
   "outputs": [
    {
     "data": {
      "text/plain": [
       "[2, 3, 4]"
      ]
     },
     "execution_count": 107,
     "metadata": {},
     "output_type": "execute_result"
    }
   ],
   "source": [
    "a = [2,3,4,4]\n",
    "a = list(set(a))\n",
    "a"
   ]
  },
  {
   "cell_type": "code",
   "execution_count": 108,
   "id": "15f37213",
   "metadata": {
    "execution": {
     "iopub.execute_input": "2023-11-16T17:04:09.681303Z",
     "iopub.status.busy": "2023-11-16T17:04:09.680420Z",
     "iopub.status.idle": "2023-11-16T17:04:09.685641Z",
     "shell.execute_reply": "2023-11-16T17:04:09.684736Z"
    },
    "papermill": {
     "duration": 0.138463,
     "end_time": "2023-11-16T17:04:09.687991",
     "exception": false,
     "start_time": "2023-11-16T17:04:09.549528",
     "status": "completed"
    },
    "tags": []
   },
   "outputs": [
    {
     "name": "stdout",
     "output_type": "stream",
     "text": [
      "yes\n",
      "tayyab\n",
      "prasad\n"
     ]
    }
   ],
   "source": [
    "if 9 > 6 : \n",
    "    print(\"yes\")\n",
    "    print(\"tayyab\")\n",
    "    \n",
    "print(\"prasad\")\n"
   ]
  },
  {
   "cell_type": "code",
   "execution_count": 109,
   "id": "1167022b",
   "metadata": {
    "execution": {
     "iopub.execute_input": "2023-11-16T17:04:09.943874Z",
     "iopub.status.busy": "2023-11-16T17:04:09.943034Z",
     "iopub.status.idle": "2023-11-16T17:04:09.948301Z",
     "shell.execute_reply": "2023-11-16T17:04:09.947473Z"
    },
    "papermill": {
     "duration": 0.133654,
     "end_time": "2023-11-16T17:04:09.950559",
     "exception": false,
     "start_time": "2023-11-16T17:04:09.816905",
     "status": "completed"
    },
    "tags": []
   },
   "outputs": [
    {
     "name": "stdout",
     "output_type": "stream",
     "text": [
      "prasad\n"
     ]
    }
   ],
   "source": [
    "if 9 > 16 : \n",
    "    print(\"yes\")\n",
    "    print(\"tayyab\")\n",
    "    \n",
    "print(\"prasad\")"
   ]
  },
  {
   "cell_type": "code",
   "execution_count": 110,
   "id": "a4fc5fea",
   "metadata": {
    "execution": {
     "iopub.execute_input": "2023-11-16T17:04:10.205294Z",
     "iopub.status.busy": "2023-11-16T17:04:10.204459Z",
     "iopub.status.idle": "2023-11-16T17:04:10.208853Z",
     "shell.execute_reply": "2023-11-16T17:04:10.207834Z"
    },
    "papermill": {
     "duration": 0.138863,
     "end_time": "2023-11-16T17:04:10.210902",
     "exception": false,
     "start_time": "2023-11-16T17:04:10.072039",
     "status": "completed"
    },
    "tags": []
   },
   "outputs": [],
   "source": [
    "# select *\n",
    "#             from table1"
   ]
  },
  {
   "cell_type": "code",
   "execution_count": 111,
   "id": "e8e8b7ef",
   "metadata": {
    "execution": {
     "iopub.execute_input": "2023-11-16T17:04:10.461173Z",
     "iopub.status.busy": "2023-11-16T17:04:10.460342Z",
     "iopub.status.idle": "2023-11-16T17:04:10.466161Z",
     "shell.execute_reply": "2023-11-16T17:04:10.465323Z"
    },
    "papermill": {
     "duration": 0.130397,
     "end_time": "2023-11-16T17:04:10.468281",
     "exception": false,
     "start_time": "2023-11-16T17:04:10.337884",
     "status": "completed"
    },
    "tags": []
   },
   "outputs": [
    {
     "name": "stdout",
     "output_type": "stream",
     "text": [
      "the girl got distinction\n",
      "distinction\n"
     ]
    }
   ],
   "source": [
    "marks = 80\n",
    "gender = \"female\"\n",
    "\n",
    "\n",
    "if marks > 75 :  \n",
    "    if gender == \"male\" :\n",
    "        print(\"the boy got distinction\")\n",
    "    else :\n",
    "        print(\"the girl got distinction\")        \n",
    "    print(\"distinction\")\n",
    "elif marks > 50 :\n",
    "    print(\"pass\")\n",
    "else :\n",
    "    print(\"fail\")"
   ]
  },
  {
   "cell_type": "code",
   "execution_count": 112,
   "id": "4b9a87d2",
   "metadata": {
    "execution": {
     "iopub.execute_input": "2023-11-16T17:04:10.715476Z",
     "iopub.status.busy": "2023-11-16T17:04:10.714602Z",
     "iopub.status.idle": "2023-11-16T17:04:10.719799Z",
     "shell.execute_reply": "2023-11-16T17:04:10.718967Z"
    },
    "papermill": {
     "duration": 0.13214,
     "end_time": "2023-11-16T17:04:10.721830",
     "exception": false,
     "start_time": "2023-11-16T17:04:10.589690",
     "status": "completed"
    },
    "tags": []
   },
   "outputs": [
    {
     "name": "stdout",
     "output_type": "stream",
     "text": [
      "mlv 100\n",
      "mlv 97\n",
      "mlv 94\n",
      "mlv 91\n"
     ]
    }
   ],
   "source": [
    "salary = 100\n",
    "\n",
    "while salary > 90 :\n",
    "    print(\"mlv\",salary )\n",
    "    salary = salary - 3"
   ]
  },
  {
   "cell_type": "code",
   "execution_count": 113,
   "id": "7071abef",
   "metadata": {
    "execution": {
     "iopub.execute_input": "2023-11-16T17:04:10.977815Z",
     "iopub.status.busy": "2023-11-16T17:04:10.977424Z",
     "iopub.status.idle": "2023-11-16T17:04:10.982719Z",
     "shell.execute_reply": "2023-11-16T17:04:10.981826Z"
    },
    "papermill": {
     "duration": 0.13534,
     "end_time": "2023-11-16T17:04:10.984984",
     "exception": false,
     "start_time": "2023-11-16T17:04:10.849644",
     "status": "completed"
    },
    "tags": []
   },
   "outputs": [
    {
     "name": "stdout",
     "output_type": "stream",
     "text": [
      "10\n",
      "----\n",
      "13\n",
      "----\n",
      "16\n",
      "----\n",
      "19\n",
      "----\n"
     ]
    }
   ],
   "source": [
    "for i in  range(10,20,3) :\n",
    "    print(i)\n",
    "    print(\"----\")"
   ]
  },
  {
   "cell_type": "code",
   "execution_count": 114,
   "id": "50dfbd1d",
   "metadata": {
    "execution": {
     "iopub.execute_input": "2023-11-16T17:04:11.242979Z",
     "iopub.status.busy": "2023-11-16T17:04:11.242468Z",
     "iopub.status.idle": "2023-11-16T17:04:11.248886Z",
     "shell.execute_reply": "2023-11-16T17:04:11.247676Z"
    },
    "papermill": {
     "duration": 0.136897,
     "end_time": "2023-11-16T17:04:11.251114",
     "exception": false,
     "start_time": "2023-11-16T17:04:11.114217",
     "status": "completed"
    },
    "tags": []
   },
   "outputs": [
    {
     "name": "stdout",
     "output_type": "stream",
     "text": [
      "10\n",
      "----\n",
      "husna\n",
      "13\n",
      "----\n",
      "husna\n",
      "16\n",
      "----\n",
      "husna\n",
      "19\n",
      "----\n",
      "husna\n"
     ]
    }
   ],
   "source": [
    "for i in  [10,13,16,19] :\n",
    "    print(i)\n",
    "    print(\"----\")\n",
    "    print(\"husna\")"
   ]
  },
  {
   "cell_type": "code",
   "execution_count": 115,
   "id": "c2b7b218",
   "metadata": {
    "execution": {
     "iopub.execute_input": "2023-11-16T17:04:11.515458Z",
     "iopub.status.busy": "2023-11-16T17:04:11.514737Z",
     "iopub.status.idle": "2023-11-16T17:04:11.519620Z",
     "shell.execute_reply": "2023-11-16T17:04:11.518769Z"
    },
    "papermill": {
     "duration": 0.132124,
     "end_time": "2023-11-16T17:04:11.522141",
     "exception": false,
     "start_time": "2023-11-16T17:04:11.390017",
     "status": "completed"
    },
    "tags": []
   },
   "outputs": [
    {
     "name": "stdout",
     "output_type": "stream",
     "text": [
      "the element is  10\n",
      "the element is  20\n",
      "the element is  30\n",
      "the element is  40\n",
      "the element is  50\n"
     ]
    }
   ],
   "source": [
    "a = [10,20,30,40,50]\n",
    "\n",
    "for  abhi  in a :\n",
    "    print(\"the element is \",abhi)"
   ]
  },
  {
   "cell_type": "code",
   "execution_count": 116,
   "id": "3ebb61b7",
   "metadata": {
    "execution": {
     "iopub.execute_input": "2023-11-16T17:04:11.773173Z",
     "iopub.status.busy": "2023-11-16T17:04:11.772512Z",
     "iopub.status.idle": "2023-11-16T17:04:11.778060Z",
     "shell.execute_reply": "2023-11-16T17:04:11.777259Z"
    },
    "papermill": {
     "duration": 0.134717,
     "end_time": "2023-11-16T17:04:11.780550",
     "exception": false,
     "start_time": "2023-11-16T17:04:11.645833",
     "status": "completed"
    },
    "tags": []
   },
   "outputs": [
    {
     "name": "stdout",
     "output_type": "stream",
     "text": [
      "the element is  10\n",
      "the element is  20\n",
      "the element is  30\n",
      "the element is  40\n",
      "the element is  50\n"
     ]
    }
   ],
   "source": [
    "a = [10,20,30,40,50]\n",
    "\n",
    "for abhi in range(len(a)) : # [ 0,1,2,3,4]\n",
    "    print(\"the element is \",a[abhi])\n",
    "    "
   ]
  },
  {
   "cell_type": "code",
   "execution_count": 117,
   "id": "0bdeacb3",
   "metadata": {
    "execution": {
     "iopub.execute_input": "2023-11-16T17:04:12.047185Z",
     "iopub.status.busy": "2023-11-16T17:04:12.046333Z",
     "iopub.status.idle": "2023-11-16T17:04:12.051407Z",
     "shell.execute_reply": "2023-11-16T17:04:12.050467Z"
    },
    "papermill": {
     "duration": 0.140708,
     "end_time": "2023-11-16T17:04:12.053747",
     "exception": false,
     "start_time": "2023-11-16T17:04:11.913039",
     "status": "completed"
    },
    "tags": []
   },
   "outputs": [
    {
     "name": "stdout",
     "output_type": "stream",
     "text": [
      "1\n",
      "2\n",
      "3\n",
      "4\n"
     ]
    }
   ],
   "source": [
    "for i in range(1,5):\n",
    "    print(i)"
   ]
  },
  {
   "cell_type": "markdown",
   "id": "89af5006",
   "metadata": {
    "papermill": {
     "duration": 0.127335,
     "end_time": "2023-11-16T17:04:12.324276",
     "exception": false,
     "start_time": "2023-11-16T17:04:12.196941",
     "status": "completed"
    },
    "tags": []
   },
   "source": [
    "### "
   ]
  },
  {
   "cell_type": "code",
   "execution_count": 118,
   "id": "3e46b50c",
   "metadata": {
    "execution": {
     "iopub.execute_input": "2023-11-16T17:04:12.574160Z",
     "iopub.status.busy": "2023-11-16T17:04:12.573544Z",
     "iopub.status.idle": "2023-11-16T17:04:12.578522Z",
     "shell.execute_reply": "2023-11-16T17:04:12.577674Z"
    },
    "papermill": {
     "duration": 0.131545,
     "end_time": "2023-11-16T17:04:12.580615",
     "exception": false,
     "start_time": "2023-11-16T17:04:12.449070",
     "status": "completed"
    },
    "tags": []
   },
   "outputs": [
    {
     "name": "stdout",
     "output_type": "stream",
     "text": [
      "{'banana', 'orange', 'cherry', 'apple'}\n"
     ]
    }
   ],
   "source": [
    "fruits = {\"apple\", \"banana\", \"cherry\"}\n",
    "\n",
    "fruits.add(\"orange\")\n",
    "\n",
    "print(fruits)"
   ]
  },
  {
   "cell_type": "code",
   "execution_count": 119,
   "id": "c83c0a75",
   "metadata": {
    "execution": {
     "iopub.execute_input": "2023-11-16T17:04:12.830399Z",
     "iopub.status.busy": "2023-11-16T17:04:12.829681Z",
     "iopub.status.idle": "2023-11-16T17:04:12.834763Z",
     "shell.execute_reply": "2023-11-16T17:04:12.833899Z"
    },
    "papermill": {
     "duration": 0.132013,
     "end_time": "2023-11-16T17:04:12.837016",
     "exception": false,
     "start_time": "2023-11-16T17:04:12.705003",
     "status": "completed"
    },
    "tags": []
   },
   "outputs": [
    {
     "name": "stdout",
     "output_type": "stream",
     "text": [
      "{'tayyab'}\n"
     ]
    }
   ],
   "source": [
    "fruits = {\"apple\", \"banana\", \"cherry\"}\n",
    "\n",
    "fruits.clear()\n",
    "\n",
    "fruits.add(\"tayyab\")\n",
    "\n",
    "print(fruits)"
   ]
  },
  {
   "cell_type": "code",
   "execution_count": 120,
   "id": "5cb05090",
   "metadata": {
    "execution": {
     "iopub.execute_input": "2023-11-16T17:04:13.093640Z",
     "iopub.status.busy": "2023-11-16T17:04:13.093061Z",
     "iopub.status.idle": "2023-11-16T17:04:13.098671Z",
     "shell.execute_reply": "2023-11-16T17:04:13.097670Z"
    },
    "papermill": {
     "duration": 0.135862,
     "end_time": "2023-11-16T17:04:13.100693",
     "exception": false,
     "start_time": "2023-11-16T17:04:12.964831",
     "status": "completed"
    },
    "tags": []
   },
   "outputs": [
    {
     "name": "stdout",
     "output_type": "stream",
     "text": [
      "{'banana', 'cherry'}\n"
     ]
    }
   ],
   "source": [
    "x = {\"apple\", \"banana\", \"cherry\"}\n",
    "y = {\"google\", \"microsoft\", \"apple\"}\n",
    "\n",
    "z = x.difference(y)\n",
    "\n",
    "print(z)"
   ]
  },
  {
   "cell_type": "code",
   "execution_count": 121,
   "id": "3f8d1794",
   "metadata": {
    "execution": {
     "iopub.execute_input": "2023-11-16T17:04:13.363095Z",
     "iopub.status.busy": "2023-11-16T17:04:13.362727Z",
     "iopub.status.idle": "2023-11-16T17:04:13.368228Z",
     "shell.execute_reply": "2023-11-16T17:04:13.367326Z"
    },
    "papermill": {
     "duration": 0.142528,
     "end_time": "2023-11-16T17:04:13.370255",
     "exception": false,
     "start_time": "2023-11-16T17:04:13.227727",
     "status": "completed"
    },
    "tags": []
   },
   "outputs": [
    {
     "name": "stdout",
     "output_type": "stream",
     "text": [
      "{'apple'}\n"
     ]
    }
   ],
   "source": [
    "x = {\"apple\", \"banana\", \"cherry\"}\n",
    "y = {\"google\", \"microsoft\", \"apple\"}\n",
    "\n",
    "z = y.intersection(x)\n",
    "\n",
    "print(z)"
   ]
  },
  {
   "cell_type": "code",
   "execution_count": 122,
   "id": "7e91d111",
   "metadata": {
    "execution": {
     "iopub.execute_input": "2023-11-16T17:04:13.629618Z",
     "iopub.status.busy": "2023-11-16T17:04:13.629237Z",
     "iopub.status.idle": "2023-11-16T17:04:13.634456Z",
     "shell.execute_reply": "2023-11-16T17:04:13.633617Z"
    },
    "papermill": {
     "duration": 0.135349,
     "end_time": "2023-11-16T17:04:13.636757",
     "exception": false,
     "start_time": "2023-11-16T17:04:13.501408",
     "status": "completed"
    },
    "tags": []
   },
   "outputs": [
    {
     "name": "stdout",
     "output_type": "stream",
     "text": [
      "False\n"
     ]
    }
   ],
   "source": [
    "x = {\"apple\", \"google\", \"cherry\"}\n",
    "y = {\"google\", \"microsoft\", \"facebook\"}\n",
    "\n",
    "z = x.isdisjoint(y)\n",
    "\n",
    "print(z)\n"
   ]
  },
  {
   "cell_type": "code",
   "execution_count": 123,
   "id": "3e503be2",
   "metadata": {
    "execution": {
     "iopub.execute_input": "2023-11-16T17:04:13.909483Z",
     "iopub.status.busy": "2023-11-16T17:04:13.909082Z",
     "iopub.status.idle": "2023-11-16T17:04:13.914930Z",
     "shell.execute_reply": "2023-11-16T17:04:13.913896Z"
    },
    "papermill": {
     "duration": 0.149669,
     "end_time": "2023-11-16T17:04:13.917232",
     "exception": false,
     "start_time": "2023-11-16T17:04:13.767563",
     "status": "completed"
    },
    "tags": []
   },
   "outputs": [
    {
     "name": "stdout",
     "output_type": "stream",
     "text": [
      "False\n"
     ]
    }
   ],
   "source": [
    "x = {\"a\", \"b\", \"h\"}\n",
    "y = {\"f\", \"e\", \"d\", \"c\", \"b\", \"a\"}\n",
    "\n",
    "z = x.issubset(y)\n",
    "\n",
    "print(z)"
   ]
  },
  {
   "cell_type": "code",
   "execution_count": 124,
   "id": "7c1697b7",
   "metadata": {
    "execution": {
     "iopub.execute_input": "2023-11-16T17:04:14.188130Z",
     "iopub.status.busy": "2023-11-16T17:04:14.187765Z",
     "iopub.status.idle": "2023-11-16T17:04:14.193316Z",
     "shell.execute_reply": "2023-11-16T17:04:14.192424Z"
    },
    "papermill": {
     "duration": 0.144633,
     "end_time": "2023-11-16T17:04:14.195402",
     "exception": false,
     "start_time": "2023-11-16T17:04:14.050769",
     "status": "completed"
    },
    "tags": []
   },
   "outputs": [
    {
     "name": "stdout",
     "output_type": "stream",
     "text": [
      "False\n"
     ]
    }
   ],
   "source": [
    "x = {\"f\", \"e\", \"d\", \"c\", \"b\", \"a\"}\n",
    "y = {\"a\", \"b\", \"z\"}\n",
    "\n",
    "z = x.issuperset(y)\n",
    "\n",
    "print(z)"
   ]
  },
  {
   "cell_type": "code",
   "execution_count": 125,
   "id": "7754c022",
   "metadata": {
    "execution": {
     "iopub.execute_input": "2023-11-16T17:04:14.451472Z",
     "iopub.status.busy": "2023-11-16T17:04:14.450737Z",
     "iopub.status.idle": "2023-11-16T17:04:14.455948Z",
     "shell.execute_reply": "2023-11-16T17:04:14.455079Z"
    },
    "papermill": {
     "duration": 0.136545,
     "end_time": "2023-11-16T17:04:14.458162",
     "exception": false,
     "start_time": "2023-11-16T17:04:14.321617",
     "status": "completed"
    },
    "tags": []
   },
   "outputs": [
    {
     "name": "stdout",
     "output_type": "stream",
     "text": [
      "{'cherry', 'apple'}\n"
     ]
    }
   ],
   "source": [
    "fruits = {\"apple\", \"banana\", \"cherry\"}\n",
    "\n",
    "fruits.pop()\n",
    "\n",
    "print(fruits)"
   ]
  },
  {
   "cell_type": "code",
   "execution_count": 126,
   "id": "ea0e3b29",
   "metadata": {
    "execution": {
     "iopub.execute_input": "2023-11-16T17:04:14.717820Z",
     "iopub.status.busy": "2023-11-16T17:04:14.717434Z",
     "iopub.status.idle": "2023-11-16T17:04:14.723140Z",
     "shell.execute_reply": "2023-11-16T17:04:14.722162Z"
    },
    "papermill": {
     "duration": 0.139785,
     "end_time": "2023-11-16T17:04:14.725314",
     "exception": false,
     "start_time": "2023-11-16T17:04:14.585529",
     "status": "completed"
    },
    "tags": []
   },
   "outputs": [
    {
     "name": "stdout",
     "output_type": "stream",
     "text": [
      "{'banana', 'cherry', 'apple'}\n"
     ]
    }
   ],
   "source": [
    "x = {\"apple\", \"banana\", \"cherry\"}\n",
    "y = {\"google\", \"microsoft\", \"apple\"}\n",
    "\n",
    "z = x.union(y)\n",
    "\n",
    "print(x)"
   ]
  },
  {
   "cell_type": "code",
   "execution_count": 127,
   "id": "95b203d3",
   "metadata": {
    "execution": {
     "iopub.execute_input": "2023-11-16T17:04:14.979912Z",
     "iopub.status.busy": "2023-11-16T17:04:14.979510Z",
     "iopub.status.idle": "2023-11-16T17:04:14.984808Z",
     "shell.execute_reply": "2023-11-16T17:04:14.983936Z"
    },
    "papermill": {
     "duration": 0.132793,
     "end_time": "2023-11-16T17:04:14.987095",
     "exception": false,
     "start_time": "2023-11-16T17:04:14.854302",
     "status": "completed"
    },
    "tags": []
   },
   "outputs": [
    {
     "name": "stdout",
     "output_type": "stream",
     "text": [
      "{'microsoft', 'banana', 'cherry', 'apple', 'google'}\n"
     ]
    }
   ],
   "source": [
    "x = {\"apple\", \"banana\", \"cherry\"}\n",
    "y = {\"google\", \"microsoft\", \"apple\"}\n",
    "\n",
    "x.update(y)\n",
    "\n",
    "print(x)"
   ]
  },
  {
   "cell_type": "code",
   "execution_count": 128,
   "id": "f1e69a74",
   "metadata": {
    "execution": {
     "iopub.execute_input": "2023-11-16T17:04:15.259229Z",
     "iopub.status.busy": "2023-11-16T17:04:15.258840Z",
     "iopub.status.idle": "2023-11-16T17:04:15.264410Z",
     "shell.execute_reply": "2023-11-16T17:04:15.263483Z"
    },
    "papermill": {
     "duration": 0.145645,
     "end_time": "2023-11-16T17:04:15.266675",
     "exception": false,
     "start_time": "2023-11-16T17:04:15.121030",
     "status": "completed"
    },
    "tags": []
   },
   "outputs": [
    {
     "name": "stdout",
     "output_type": "stream",
     "text": [
      "{'key 1': 'sush', 'key 2': 'sush', 'key 3': 'sush'}\n"
     ]
    }
   ],
   "source": [
    "x = ('key 1', 'key 2', 'key 3')\n",
    "y = \"sush\"\n",
    "\n",
    "thisdict = dict.fromkeys(x, y)\n",
    "\n",
    "print(thisdict)"
   ]
  },
  {
   "cell_type": "code",
   "execution_count": 129,
   "id": "c04b1ffd",
   "metadata": {
    "execution": {
     "iopub.execute_input": "2023-11-16T17:04:15.523141Z",
     "iopub.status.busy": "2023-11-16T17:04:15.522731Z",
     "iopub.status.idle": "2023-11-16T17:04:15.529273Z",
     "shell.execute_reply": "2023-11-16T17:04:15.528470Z"
    },
    "papermill": {
     "duration": 0.138105,
     "end_time": "2023-11-16T17:04:15.531290",
     "exception": false,
     "start_time": "2023-11-16T17:04:15.393185",
     "status": "completed"
    },
    "tags": []
   },
   "outputs": [
    {
     "data": {
      "text/plain": [
       "{'key 1': 'sush', 'key 2': 'sush', 'key 3 ': 'sush'}"
      ]
     },
     "execution_count": 129,
     "metadata": {},
     "output_type": "execute_result"
    }
   ],
   "source": [
    "thisdict  = { \"key 1\" : \"sush\",\n",
    "            \"key 2\" : \"sush\",\n",
    "            \"key 3 \" : \"sush\"}\n",
    "thisdict"
   ]
  },
  {
   "cell_type": "code",
   "execution_count": 130,
   "id": "6032f47b",
   "metadata": {
    "execution": {
     "iopub.execute_input": "2023-11-16T17:04:15.791660Z",
     "iopub.status.busy": "2023-11-16T17:04:15.791292Z",
     "iopub.status.idle": "2023-11-16T17:04:15.795586Z",
     "shell.execute_reply": "2023-11-16T17:04:15.794661Z"
    },
    "papermill": {
     "duration": 0.134726,
     "end_time": "2023-11-16T17:04:15.797528",
     "exception": false,
     "start_time": "2023-11-16T17:04:15.662802",
     "status": "completed"
    },
    "tags": []
   },
   "outputs": [],
   "source": [
    "x = ('st 1', 'st 2', 'st 3')\n",
    "y = 0 "
   ]
  },
  {
   "cell_type": "code",
   "execution_count": 131,
   "id": "0c90d371",
   "metadata": {
    "execution": {
     "iopub.execute_input": "2023-11-16T17:04:16.046658Z",
     "iopub.status.busy": "2023-11-16T17:04:16.046262Z",
     "iopub.status.idle": "2023-11-16T17:04:16.052500Z",
     "shell.execute_reply": "2023-11-16T17:04:16.051710Z"
    },
    "papermill": {
     "duration": 0.133436,
     "end_time": "2023-11-16T17:04:16.054293",
     "exception": false,
     "start_time": "2023-11-16T17:04:15.920857",
     "status": "completed"
    },
    "tags": []
   },
   "outputs": [
    {
     "data": {
      "text/plain": [
       "'Mustang'"
      ]
     },
     "execution_count": 131,
     "metadata": {},
     "output_type": "execute_result"
    }
   ],
   "source": [
    "car = {\n",
    "  \"brand\": \"Ford\",\n",
    "  \"model\": \"Mustang\",\n",
    "  \"year\": 1964\n",
    "}\n",
    "\n",
    "car.get(\"model\")\n",
    "\n"
   ]
  },
  {
   "cell_type": "code",
   "execution_count": 132,
   "id": "735f68a6",
   "metadata": {
    "execution": {
     "iopub.execute_input": "2023-11-16T17:04:16.308307Z",
     "iopub.status.busy": "2023-11-16T17:04:16.307948Z",
     "iopub.status.idle": "2023-11-16T17:04:16.314053Z",
     "shell.execute_reply": "2023-11-16T17:04:16.313187Z"
    },
    "papermill": {
     "duration": 0.13414,
     "end_time": "2023-11-16T17:04:16.315952",
     "exception": false,
     "start_time": "2023-11-16T17:04:16.181812",
     "status": "completed"
    },
    "tags": []
   },
   "outputs": [
    {
     "data": {
      "text/plain": [
       "'Mustang'"
      ]
     },
     "execution_count": 132,
     "metadata": {},
     "output_type": "execute_result"
    }
   ],
   "source": [
    "car = {\n",
    "  \"brand\": \"Ford\",\n",
    "  \"model\": \"Mustang\",\n",
    "  \"year\": 1964\n",
    "}\n",
    "car[\"model\"]"
   ]
  },
  {
   "cell_type": "code",
   "execution_count": 133,
   "id": "78a98e6a",
   "metadata": {
    "execution": {
     "iopub.execute_input": "2023-11-16T17:04:16.578524Z",
     "iopub.status.busy": "2023-11-16T17:04:16.578149Z",
     "iopub.status.idle": "2023-11-16T17:04:16.584579Z",
     "shell.execute_reply": "2023-11-16T17:04:16.583680Z"
    },
    "papermill": {
     "duration": 0.141357,
     "end_time": "2023-11-16T17:04:16.586575",
     "exception": false,
     "start_time": "2023-11-16T17:04:16.445218",
     "status": "completed"
    },
    "tags": []
   },
   "outputs": [
    {
     "data": {
      "text/plain": [
       "dict_keys(['brand', 'model', 'year'])"
      ]
     },
     "execution_count": 133,
     "metadata": {},
     "output_type": "execute_result"
    }
   ],
   "source": [
    "car = {\n",
    "  \"brand\": \"Ford\",\n",
    "  \"model\": \"Mustang\",\n",
    "  \"year\": 1964\n",
    "}\n",
    "\n",
    "car.keys()"
   ]
  },
  {
   "cell_type": "code",
   "execution_count": 134,
   "id": "d6c2e0e6",
   "metadata": {
    "execution": {
     "iopub.execute_input": "2023-11-16T17:04:16.844194Z",
     "iopub.status.busy": "2023-11-16T17:04:16.843833Z",
     "iopub.status.idle": "2023-11-16T17:04:16.849450Z",
     "shell.execute_reply": "2023-11-16T17:04:16.848671Z"
    },
    "papermill": {
     "duration": 0.133457,
     "end_time": "2023-11-16T17:04:16.851258",
     "exception": false,
     "start_time": "2023-11-16T17:04:16.717801",
     "status": "completed"
    },
    "tags": []
   },
   "outputs": [
    {
     "data": {
      "text/plain": [
       "dict_values(['Ford', 'Mustang', 1964])"
      ]
     },
     "execution_count": 134,
     "metadata": {},
     "output_type": "execute_result"
    }
   ],
   "source": [
    "car.values()"
   ]
  },
  {
   "cell_type": "code",
   "execution_count": 135,
   "id": "615a192d",
   "metadata": {
    "execution": {
     "iopub.execute_input": "2023-11-16T17:04:17.102621Z",
     "iopub.status.busy": "2023-11-16T17:04:17.102245Z",
     "iopub.status.idle": "2023-11-16T17:04:17.108184Z",
     "shell.execute_reply": "2023-11-16T17:04:17.107268Z"
    },
    "papermill": {
     "duration": 0.133781,
     "end_time": "2023-11-16T17:04:17.110095",
     "exception": false,
     "start_time": "2023-11-16T17:04:16.976314",
     "status": "completed"
    },
    "tags": []
   },
   "outputs": [
    {
     "data": {
      "text/plain": [
       "dict_items([('brand', 'Ford'), ('model', 'Mustang'), ('year', 1964)])"
      ]
     },
     "execution_count": 135,
     "metadata": {},
     "output_type": "execute_result"
    }
   ],
   "source": [
    "car.items()"
   ]
  },
  {
   "cell_type": "code",
   "execution_count": 136,
   "id": "f01baa5d",
   "metadata": {
    "execution": {
     "iopub.execute_input": "2023-11-16T17:04:17.370543Z",
     "iopub.status.busy": "2023-11-16T17:04:17.370144Z",
     "iopub.status.idle": "2023-11-16T17:04:17.375283Z",
     "shell.execute_reply": "2023-11-16T17:04:17.374467Z"
    },
    "papermill": {
     "duration": 0.136987,
     "end_time": "2023-11-16T17:04:17.377591",
     "exception": false,
     "start_time": "2023-11-16T17:04:17.240604",
     "status": "completed"
    },
    "tags": []
   },
   "outputs": [
    {
     "name": "stdout",
     "output_type": "stream",
     "text": [
      "{'brand': 'Ford', 'year': 1964}\n"
     ]
    }
   ],
   "source": [
    "car = {\n",
    "  \"brand\": \"Ford\",\n",
    "  \"model\": \"Mustang\",\n",
    "  \"year\": 1964\n",
    "}\n",
    "\n",
    "car.pop(\"model\")\n",
    "\n",
    "print(car)"
   ]
  },
  {
   "cell_type": "code",
   "execution_count": 137,
   "id": "feff7f60",
   "metadata": {
    "execution": {
     "iopub.execute_input": "2023-11-16T17:04:17.635998Z",
     "iopub.status.busy": "2023-11-16T17:04:17.635251Z",
     "iopub.status.idle": "2023-11-16T17:04:17.640478Z",
     "shell.execute_reply": "2023-11-16T17:04:17.639628Z"
    },
    "papermill": {
     "duration": 0.136067,
     "end_time": "2023-11-16T17:04:17.642381",
     "exception": false,
     "start_time": "2023-11-16T17:04:17.506314",
     "status": "completed"
    },
    "tags": []
   },
   "outputs": [
    {
     "name": "stdout",
     "output_type": "stream",
     "text": [
      "{'brand': 'Ford', 'model': 'Mustang'}\n"
     ]
    }
   ],
   "source": [
    "car = {\n",
    "  \"brand\": \"Ford\",\n",
    "  \"model\": \"Mustang\",\n",
    "  \"year\": 1964\n",
    "}\n",
    "\n",
    "car.popitem()\n",
    "\n",
    "print(car)"
   ]
  },
  {
   "cell_type": "code",
   "execution_count": 138,
   "id": "f1a06096",
   "metadata": {
    "execution": {
     "iopub.execute_input": "2023-11-16T17:04:17.906309Z",
     "iopub.status.busy": "2023-11-16T17:04:17.905992Z",
     "iopub.status.idle": "2023-11-16T17:04:17.911340Z",
     "shell.execute_reply": "2023-11-16T17:04:17.910508Z"
    },
    "papermill": {
     "duration": 0.136697,
     "end_time": "2023-11-16T17:04:17.913330",
     "exception": false,
     "start_time": "2023-11-16T17:04:17.776633",
     "status": "completed"
    },
    "tags": []
   },
   "outputs": [
    {
     "name": "stdout",
     "output_type": "stream",
     "text": [
      "None\n"
     ]
    }
   ],
   "source": [
    "car = {\n",
    "  \"brand\": \"Ford\",\n",
    "    \"model\" : None ,\n",
    "\n",
    "  \"year\": 1964\n",
    "}\n",
    "\n",
    "x = car.setdefault(\"model\", \"Bronco\")\n",
    "\n",
    "print(x)"
   ]
  },
  {
   "cell_type": "code",
   "execution_count": 139,
   "id": "30370b34",
   "metadata": {
    "execution": {
     "iopub.execute_input": "2023-11-16T17:04:18.166714Z",
     "iopub.status.busy": "2023-11-16T17:04:18.166337Z",
     "iopub.status.idle": "2023-11-16T17:04:18.171976Z",
     "shell.execute_reply": "2023-11-16T17:04:18.171020Z"
    },
    "papermill": {
     "duration": 0.135938,
     "end_time": "2023-11-16T17:04:18.174234",
     "exception": false,
     "start_time": "2023-11-16T17:04:18.038296",
     "status": "completed"
    },
    "tags": []
   },
   "outputs": [
    {
     "name": "stdout",
     "output_type": "stream",
     "text": [
      "{'brand': 'Ford', 'model': 'Mustang', 'year': 1964, 'color': 'White'}\n"
     ]
    }
   ],
   "source": [
    "car = {\n",
    "  \"brand\": \"Ford\",\n",
    "  \"model\": \"Mustang\",\n",
    "  \"year\": 1964\n",
    "}\n",
    "\n",
    "\n",
    "car.update({\"color\": \"White\"})\n",
    "print(car)\n",
    "\n"
   ]
  },
  {
   "cell_type": "code",
   "execution_count": 140,
   "id": "e562d843",
   "metadata": {
    "execution": {
     "iopub.execute_input": "2023-11-16T17:04:18.432710Z",
     "iopub.status.busy": "2023-11-16T17:04:18.432294Z",
     "iopub.status.idle": "2023-11-16T17:04:18.436664Z",
     "shell.execute_reply": "2023-11-16T17:04:18.435729Z"
    },
    "papermill": {
     "duration": 0.134127,
     "end_time": "2023-11-16T17:04:18.438725",
     "exception": false,
     "start_time": "2023-11-16T17:04:18.304598",
     "status": "completed"
    },
    "tags": []
   },
   "outputs": [],
   "source": [
    "# *"
   ]
  },
  {
   "cell_type": "code",
   "execution_count": 141,
   "id": "a8217b7a",
   "metadata": {
    "execution": {
     "iopub.execute_input": "2023-11-16T17:04:18.690228Z",
     "iopub.status.busy": "2023-11-16T17:04:18.689509Z",
     "iopub.status.idle": "2023-11-16T17:04:18.694190Z",
     "shell.execute_reply": "2023-11-16T17:04:18.693388Z"
    },
    "papermill": {
     "duration": 0.13211,
     "end_time": "2023-11-16T17:04:18.696378",
     "exception": false,
     "start_time": "2023-11-16T17:04:18.564268",
     "status": "completed"
    },
    "tags": []
   },
   "outputs": [
    {
     "name": "stdout",
     "output_type": "stream",
     "text": [
      "*\n"
     ]
    }
   ],
   "source": [
    "print(\"*\")"
   ]
  },
  {
   "cell_type": "code",
   "execution_count": 142,
   "id": "e0f6de47",
   "metadata": {
    "execution": {
     "iopub.execute_input": "2023-11-16T17:04:18.956747Z",
     "iopub.status.busy": "2023-11-16T17:04:18.956398Z",
     "iopub.status.idle": "2023-11-16T17:04:18.960296Z",
     "shell.execute_reply": "2023-11-16T17:04:18.959414Z"
    },
    "papermill": {
     "duration": 0.134427,
     "end_time": "2023-11-16T17:04:18.962402",
     "exception": false,
     "start_time": "2023-11-16T17:04:18.827975",
     "status": "completed"
    },
    "tags": []
   },
   "outputs": [],
   "source": [
    "# *\n",
    "# **"
   ]
  },
  {
   "cell_type": "code",
   "execution_count": 143,
   "id": "52075c80",
   "metadata": {
    "execution": {
     "iopub.execute_input": "2023-11-16T17:04:19.215003Z",
     "iopub.status.busy": "2023-11-16T17:04:19.214271Z",
     "iopub.status.idle": "2023-11-16T17:04:19.219053Z",
     "shell.execute_reply": "2023-11-16T17:04:19.218184Z"
    },
    "papermill": {
     "duration": 0.134615,
     "end_time": "2023-11-16T17:04:19.221327",
     "exception": false,
     "start_time": "2023-11-16T17:04:19.086712",
     "status": "completed"
    },
    "tags": []
   },
   "outputs": [
    {
     "name": "stdout",
     "output_type": "stream",
     "text": [
      "*\n",
      "**\n"
     ]
    }
   ],
   "source": [
    "print(\"*\")\n",
    "print(\"**\")"
   ]
  },
  {
   "cell_type": "code",
   "execution_count": 144,
   "id": "f9f5d65d",
   "metadata": {
    "execution": {
     "iopub.execute_input": "2023-11-16T17:04:19.486210Z",
     "iopub.status.busy": "2023-11-16T17:04:19.485894Z",
     "iopub.status.idle": "2023-11-16T17:04:19.490303Z",
     "shell.execute_reply": "2023-11-16T17:04:19.489345Z"
    },
    "papermill": {
     "duration": 0.136461,
     "end_time": "2023-11-16T17:04:19.492331",
     "exception": false,
     "start_time": "2023-11-16T17:04:19.355870",
     "status": "completed"
    },
    "tags": []
   },
   "outputs": [],
   "source": [
    "# *\n",
    "# **\n",
    "# ***\n",
    "# ****"
   ]
  },
  {
   "cell_type": "code",
   "execution_count": 145,
   "id": "4040edc4",
   "metadata": {
    "execution": {
     "iopub.execute_input": "2023-11-16T17:04:19.747841Z",
     "iopub.status.busy": "2023-11-16T17:04:19.747491Z",
     "iopub.status.idle": "2023-11-16T17:04:19.753334Z",
     "shell.execute_reply": "2023-11-16T17:04:19.752552Z"
    },
    "papermill": {
     "duration": 0.13495,
     "end_time": "2023-11-16T17:04:19.755557",
     "exception": false,
     "start_time": "2023-11-16T17:04:19.620607",
     "status": "completed"
    },
    "tags": []
   },
   "outputs": [
    {
     "name": "stdout",
     "output_type": "stream",
     "text": [
      "   *\n",
      "  **\n",
      " ***\n",
      "****\n",
      " ***\n",
      "  **\n",
      "   *\n"
     ]
    }
   ],
   "source": [
    "for i in range(4) :\n",
    "    print(\" \"*(3-i),end=\"\")\n",
    "    print(\"*\"* (i+1))\n",
    "#     print(\"--\")\n",
    "for j in range(3):\n",
    "    print(\" \"*(j+1),end=\"\")\n",
    "    print(\"*\"*(3-j))"
   ]
  },
  {
   "cell_type": "code",
   "execution_count": 146,
   "id": "a4ab1edb",
   "metadata": {
    "execution": {
     "iopub.execute_input": "2023-11-16T17:04:20.013761Z",
     "iopub.status.busy": "2023-11-16T17:04:20.013394Z",
     "iopub.status.idle": "2023-11-16T17:04:20.017660Z",
     "shell.execute_reply": "2023-11-16T17:04:20.016806Z"
    },
    "papermill": {
     "duration": 0.134818,
     "end_time": "2023-11-16T17:04:20.019564",
     "exception": false,
     "start_time": "2023-11-16T17:04:19.884746",
     "status": "completed"
    },
    "tags": []
   },
   "outputs": [],
   "source": [
    "#    *\n",
    "#   ***\n",
    "#  *****\n",
    "# *******\n",
    "\n",
    "#  *****\n",
    "#   ***\n",
    "#    *"
   ]
  },
  {
   "cell_type": "code",
   "execution_count": 147,
   "id": "e3957683",
   "metadata": {
    "execution": {
     "iopub.execute_input": "2023-11-16T17:04:20.276957Z",
     "iopub.status.busy": "2023-11-16T17:04:20.276582Z",
     "iopub.status.idle": "2023-11-16T17:04:20.280858Z",
     "shell.execute_reply": "2023-11-16T17:04:20.280051Z"
    },
    "papermill": {
     "duration": 0.13846,
     "end_time": "2023-11-16T17:04:20.282924",
     "exception": false,
     "start_time": "2023-11-16T17:04:20.144464",
     "status": "completed"
    },
    "tags": []
   },
   "outputs": [],
   "source": [
    "# *\n",
    "# ***\n",
    "# *****\n",
    "# *******\n",
    "\n",
    "\n",
    "# *****\n",
    "# ***\n",
    "# *"
   ]
  },
  {
   "cell_type": "code",
   "execution_count": 148,
   "id": "db277204",
   "metadata": {
    "execution": {
     "iopub.execute_input": "2023-11-16T17:04:20.541595Z",
     "iopub.status.busy": "2023-11-16T17:04:20.541215Z",
     "iopub.status.idle": "2023-11-16T17:04:20.546256Z",
     "shell.execute_reply": "2023-11-16T17:04:20.545409Z"
    },
    "papermill": {
     "duration": 0.137196,
     "end_time": "2023-11-16T17:04:20.548527",
     "exception": false,
     "start_time": "2023-11-16T17:04:20.411331",
     "status": "completed"
    },
    "tags": []
   },
   "outputs": [
    {
     "name": "stdout",
     "output_type": "stream",
     "text": [
      "*\n",
      "***\n",
      "*****\n",
      "*******\n",
      "*\n",
      "*\n",
      "*\n"
     ]
    }
   ],
   "source": [
    "for i in range(4):\n",
    "    print(\"*\"* ((2*i)+1))\n",
    "for j in range(3):\n",
    "    print(\"*\")"
   ]
  },
  {
   "cell_type": "code",
   "execution_count": 149,
   "id": "b704c729",
   "metadata": {
    "execution": {
     "iopub.execute_input": "2023-11-16T17:04:20.803942Z",
     "iopub.status.busy": "2023-11-16T17:04:20.803562Z",
     "iopub.status.idle": "2023-11-16T17:04:20.807866Z",
     "shell.execute_reply": "2023-11-16T17:04:20.806952Z"
    },
    "papermill": {
     "duration": 0.135655,
     "end_time": "2023-11-16T17:04:20.809913",
     "exception": false,
     "start_time": "2023-11-16T17:04:20.674258",
     "status": "completed"
    },
    "tags": []
   },
   "outputs": [],
   "source": [
    "#     *\n",
    "#    ***\n",
    "#   *****\n",
    "#  *******\n",
    "# *********\n",
    "#  *******\n",
    "#   *****\n",
    "#    ***\n",
    "#     *"
   ]
  },
  {
   "cell_type": "code",
   "execution_count": 150,
   "id": "a4c027ea",
   "metadata": {
    "execution": {
     "iopub.execute_input": "2023-11-16T17:04:21.074273Z",
     "iopub.status.busy": "2023-11-16T17:04:21.073912Z",
     "iopub.status.idle": "2023-11-16T17:04:21.081110Z",
     "shell.execute_reply": "2023-11-16T17:04:21.080262Z"
    },
    "papermill": {
     "duration": 0.148332,
     "end_time": "2023-11-16T17:04:21.083484",
     "exception": false,
     "start_time": "2023-11-16T17:04:20.935152",
     "status": "completed"
    },
    "tags": []
   },
   "outputs": [
    {
     "name": "stdout",
     "output_type": "stream",
     "text": [
      "                        *\n",
      "                       ***\n",
      "                      *****\n",
      "                     *******\n",
      "                    *********\n",
      "                   ***********\n",
      "                  *************\n",
      "                 ***************\n",
      "                *****************\n",
      "               *******************\n",
      "              *********************\n",
      "             ***********************\n",
      "            *************************\n",
      "           ***************************\n",
      "          *****************************\n",
      "         *******************************\n",
      "        *********************************\n",
      "       ***********************************\n",
      "      *************************************\n",
      "     ***************************************\n",
      "    *****************************************\n",
      "   *******************************************\n",
      "  *********************************************\n",
      " ***********************************************\n",
      "*************************************************\n",
      " ***********************************************\n",
      "  *********************************************\n",
      "   *******************************************\n",
      "    *****************************************\n",
      "     ***************************************\n",
      "      *************************************\n",
      "       ***********************************\n",
      "        *********************************\n",
      "         *******************************\n",
      "          *****************************\n",
      "           ***************************\n",
      "            *************************\n",
      "             ***********************\n",
      "              *********************\n",
      "               *******************\n",
      "                *****************\n",
      "                 ***************\n",
      "                  *************\n",
      "                   ***********\n",
      "                    *********\n",
      "                     *******\n",
      "                      *****\n",
      "                       ***\n",
      "                        *\n"
     ]
    }
   ],
   "source": [
    "n =25\n",
    "\n",
    "for i in range(n):\n",
    "    print(\" \"*(n-1-i),end=\"\")\n",
    "    print(\"*\"*((2*i)+1))\n",
    "for j in range(n-1):\n",
    "    print(\" \"*(j+1),end=\"\")\n",
    "    print(\"*\"*((2*(n-2-j))+1))"
   ]
  },
  {
   "cell_type": "markdown",
   "id": "0a1839a6",
   "metadata": {
    "papermill": {
     "duration": 0.12621,
     "end_time": "2023-11-16T17:04:21.342133",
     "exception": false,
     "start_time": "2023-11-16T17:04:21.215923",
     "status": "completed"
    },
    "tags": []
   },
   "source": [
    "# "
   ]
  },
  {
   "cell_type": "code",
   "execution_count": 151,
   "id": "81b61e3d",
   "metadata": {
    "execution": {
     "iopub.execute_input": "2023-11-16T17:04:21.602412Z",
     "iopub.status.busy": "2023-11-16T17:04:21.602057Z",
     "iopub.status.idle": "2023-11-16T17:04:21.606197Z",
     "shell.execute_reply": "2023-11-16T17:04:21.605370Z"
    },
    "papermill": {
     "duration": 0.139054,
     "end_time": "2023-11-16T17:04:21.608297",
     "exception": false,
     "start_time": "2023-11-16T17:04:21.469243",
     "status": "completed"
    },
    "tags": []
   },
   "outputs": [],
   "source": [
    "#    *    \n",
    "#   * *\n",
    "#  *   *\n",
    "# *     *\n",
    "#  *   *\n",
    "#   * *\n",
    "\n",
    "\n",
    "#    *"
   ]
  },
  {
   "cell_type": "code",
   "execution_count": 152,
   "id": "bd64be99",
   "metadata": {
    "execution": {
     "iopub.execute_input": "2023-11-16T17:04:21.870031Z",
     "iopub.status.busy": "2023-11-16T17:04:21.869596Z",
     "iopub.status.idle": "2023-11-16T17:04:21.877424Z",
     "shell.execute_reply": "2023-11-16T17:04:21.876490Z"
    },
    "papermill": {
     "duration": 0.143737,
     "end_time": "2023-11-16T17:04:21.879503",
     "exception": false,
     "start_time": "2023-11-16T17:04:21.735766",
     "status": "completed"
    },
    "tags": []
   },
   "outputs": [
    {
     "name": "stdout",
     "output_type": "stream",
     "text": [
      "           *\n",
      "          * *\n",
      "         *   *\n",
      "        *     *\n",
      "       *       *\n",
      "      *         *\n",
      "     *           *\n",
      "    *             *\n",
      "   *               *\n",
      "  *                 *\n",
      " *                   *\n",
      "  *                 *\n",
      "   *               *\n",
      "    *             *\n",
      "     *           *\n",
      "      *         *\n",
      "       *       *\n",
      "        *     *\n",
      "         *   *\n",
      "          * *\n",
      "           *\n"
     ]
    }
   ],
   "source": [
    "n = 11\n",
    "# n = 4\n",
    "print(\" \"*(n-1),\"*\")\n",
    "for i in range((n-1)):\n",
    "    print(\" \"*(n-2-i),\"*\"+\" \"*((2*i )+1)+\"*\")\n",
    "for j in range(n-2):\n",
    "    print(\" \"*(j+1),\"*\"+\" \"*((2*(n-2-j))-1)+\"*\")\n",
    "    \n",
    "\n",
    "    \n",
    "print(\" \"*(n-1),\"*\")"
   ]
  },
  {
   "cell_type": "code",
   "execution_count": 153,
   "id": "58f00397",
   "metadata": {
    "execution": {
     "iopub.execute_input": "2023-11-16T17:04:22.162788Z",
     "iopub.status.busy": "2023-11-16T17:04:22.162397Z",
     "iopub.status.idle": "2023-11-16T17:04:22.166397Z",
     "shell.execute_reply": "2023-11-16T17:04:22.165507Z"
    },
    "papermill": {
     "duration": 0.157182,
     "end_time": "2023-11-16T17:04:22.168324",
     "exception": false,
     "start_time": "2023-11-16T17:04:22.011142",
     "status": "completed"
    },
    "tags": []
   },
   "outputs": [],
   "source": [
    "# 1\n",
    "# 1 1\n",
    "# 1 1 1\n",
    "# 1 1 1 1\n",
    "# 1 1 1 1 1"
   ]
  },
  {
   "cell_type": "code",
   "execution_count": 154,
   "id": "431808ef",
   "metadata": {
    "execution": {
     "iopub.execute_input": "2023-11-16T17:04:22.431669Z",
     "iopub.status.busy": "2023-11-16T17:04:22.431301Z",
     "iopub.status.idle": "2023-11-16T17:04:22.436254Z",
     "shell.execute_reply": "2023-11-16T17:04:22.435285Z"
    },
    "papermill": {
     "duration": 0.137708,
     "end_time": "2023-11-16T17:04:22.438945",
     "exception": false,
     "start_time": "2023-11-16T17:04:22.301237",
     "status": "completed"
    },
    "tags": []
   },
   "outputs": [
    {
     "name": "stdout",
     "output_type": "stream",
     "text": [
      "1 \n",
      "1 1 \n",
      "1 1 1 \n",
      "1 1 1 1 \n",
      "1 1 1 1 1 \n"
     ]
    }
   ],
   "source": [
    "for i in range(5):\n",
    "    print(\"1 \"*(i+1))"
   ]
  },
  {
   "cell_type": "code",
   "execution_count": 155,
   "id": "e95b7d40",
   "metadata": {
    "execution": {
     "iopub.execute_input": "2023-11-16T17:04:22.694053Z",
     "iopub.status.busy": "2023-11-16T17:04:22.693709Z",
     "iopub.status.idle": "2023-11-16T17:04:22.697700Z",
     "shell.execute_reply": "2023-11-16T17:04:22.696874Z"
    },
    "papermill": {
     "duration": 0.133422,
     "end_time": "2023-11-16T17:04:22.699654",
     "exception": false,
     "start_time": "2023-11-16T17:04:22.566232",
     "status": "completed"
    },
    "tags": []
   },
   "outputs": [],
   "source": [
    "# 1\n",
    "# 1 2\n",
    "# 1 2 3\n",
    "# 1 2 3 4\n",
    "# 1 2 3 4 5"
   ]
  },
  {
   "cell_type": "code",
   "execution_count": 156,
   "id": "e4fab572",
   "metadata": {
    "execution": {
     "iopub.execute_input": "2023-11-16T17:04:22.951233Z",
     "iopub.status.busy": "2023-11-16T17:04:22.950873Z",
     "iopub.status.idle": "2023-11-16T17:04:22.956532Z",
     "shell.execute_reply": "2023-11-16T17:04:22.955487Z"
    },
    "papermill": {
     "duration": 0.133202,
     "end_time": "2023-11-16T17:04:22.958622",
     "exception": false,
     "start_time": "2023-11-16T17:04:22.825420",
     "status": "completed"
    },
    "tags": []
   },
   "outputs": [
    {
     "name": "stdout",
     "output_type": "stream",
     "text": [
      "1 \n",
      "1 2 \n",
      "1 2 3 \n",
      "1 2 3 4 \n",
      "1 2 3 4 5 \n"
     ]
    }
   ],
   "source": [
    "for i in range(5):\n",
    "    for j in range(i+1) :\n",
    "        print(j+1,end=\" \")\n",
    "    print()"
   ]
  },
  {
   "cell_type": "code",
   "execution_count": 157,
   "id": "df883ac5",
   "metadata": {
    "execution": {
     "iopub.execute_input": "2023-11-16T17:04:23.217646Z",
     "iopub.status.busy": "2023-11-16T17:04:23.217272Z",
     "iopub.status.idle": "2023-11-16T17:04:23.221406Z",
     "shell.execute_reply": "2023-11-16T17:04:23.220630Z"
    },
    "papermill": {
     "duration": 0.138257,
     "end_time": "2023-11-16T17:04:23.223404",
     "exception": false,
     "start_time": "2023-11-16T17:04:23.085147",
     "status": "completed"
    },
    "tags": []
   },
   "outputs": [],
   "source": [
    "#       1\n",
    "#     1 2 1\n",
    "#   1 2 3 2 1 \n",
    "# 1 2 3 4 3 2 1\n",
    "#   1 2 3 2 1\n",
    "#     1 2 1\n",
    "#       1"
   ]
  },
  {
   "cell_type": "code",
   "execution_count": 158,
   "id": "28c85a85",
   "metadata": {
    "execution": {
     "iopub.execute_input": "2023-11-16T17:04:23.480068Z",
     "iopub.status.busy": "2023-11-16T17:04:23.479730Z",
     "iopub.status.idle": "2023-11-16T17:04:23.488255Z",
     "shell.execute_reply": "2023-11-16T17:04:23.487423Z"
    },
    "papermill": {
     "duration": 0.137802,
     "end_time": "2023-11-16T17:04:23.490669",
     "exception": false,
     "start_time": "2023-11-16T17:04:23.352867",
     "status": "completed"
    },
    "tags": []
   },
   "outputs": [
    {
     "name": "stdout",
     "output_type": "stream",
     "text": [
      "              1 \n",
      "            1 2 1 \n",
      "          1 2 3 2 1 \n",
      "        1 2 3 4 3 2 1 \n",
      "      1 2 3 4 5 4 3 2 1 \n",
      "    1 2 3 4 5 6 5 4 3 2 1 \n",
      "  1 2 3 4 5 6 7 6 5 4 3 2 1 \n",
      "1 2 3 4 5 6 7 8 7 6 5 4 3 2 1 \n",
      "  1 2 3 4 5 6 7 6 5 4 3 2 1 \n",
      "    1 2 3 4 5 6 5 4 3 2 1 \n",
      "      1 2 3 4 5 4 3 2 1 \n",
      "        1 2 3 4 3 2 1 \n",
      "          1 2 3 2 1 \n",
      "            1 2 1 \n",
      "              1 \n"
     ]
    }
   ],
   "source": [
    "n = 8\n",
    "# 4\n",
    "for i in range(n):\n",
    "    print(\" \"*(2*(n-1-i)),end=\"\")\n",
    "    for j in range(i+1):\n",
    "        print(j+1 ,end=\" \")\n",
    "    for k in range(i-1,-1,-1):\n",
    "        print(k+1 ,end=\" \")\n",
    "    print()\n",
    "for p in range(n-1) : # 0 13\n",
    "    print(\" \"*(2*(p+1)),end=\"\")\n",
    "    for q in range(n-1-p) :\n",
    "        print(q+1,end=\" \")        \n",
    "    for r in range(n-p-3,-1,-1):\n",
    "        print(r+1,end=\" \")\n",
    "    print()"
   ]
  },
  {
   "cell_type": "markdown",
   "id": "00392229",
   "metadata": {
    "execution": {
     "iopub.execute_input": "2023-10-20T17:08:22.412842Z",
     "iopub.status.busy": "2023-10-20T17:08:22.412393Z",
     "iopub.status.idle": "2023-10-20T17:08:22.418210Z",
     "shell.execute_reply": "2023-10-20T17:08:22.417396Z",
     "shell.execute_reply.started": "2023-10-20T17:08:22.412813Z"
    },
    "papermill": {
     "duration": 0.126767,
     "end_time": "2023-11-16T17:04:23.744485",
     "exception": false,
     "start_time": "2023-11-16T17:04:23.617718",
     "status": "completed"
    },
    "tags": []
   },
   "source": [
    "# for i in range(4):\n",
    "    print(i, end=\" \")"
   ]
  },
  {
   "cell_type": "code",
   "execution_count": 159,
   "id": "84a0303f",
   "metadata": {
    "execution": {
     "iopub.execute_input": "2023-11-16T17:04:23.997026Z",
     "iopub.status.busy": "2023-11-16T17:04:23.996679Z",
     "iopub.status.idle": "2023-11-16T17:04:24.002276Z",
     "shell.execute_reply": "2023-11-16T17:04:24.001224Z"
    },
    "papermill": {
     "duration": 0.132965,
     "end_time": "2023-11-16T17:04:24.004160",
     "exception": false,
     "start_time": "2023-11-16T17:04:23.871195",
     "status": "completed"
    },
    "tags": []
   },
   "outputs": [
    {
     "name": "stdout",
     "output_type": "stream",
     "text": [
      "3 2 1 0 "
     ]
    }
   ],
   "source": [
    "for i in range(3,-1,-1):\n",
    "    print(i, end=\" \")"
   ]
  },
  {
   "cell_type": "code",
   "execution_count": 160,
   "id": "605b579d",
   "metadata": {
    "execution": {
     "iopub.execute_input": "2023-11-16T17:04:24.284843Z",
     "iopub.status.busy": "2023-11-16T17:04:24.284461Z",
     "iopub.status.idle": "2023-11-16T17:04:24.288931Z",
     "shell.execute_reply": "2023-11-16T17:04:24.287966Z"
    },
    "papermill": {
     "duration": 0.155979,
     "end_time": "2023-11-16T17:04:24.290950",
     "exception": false,
     "start_time": "2023-11-16T17:04:24.134971",
     "status": "completed"
    },
    "tags": []
   },
   "outputs": [],
   "source": [
    "# 0  \n",
    "\n",
    "# 0 1  \n",
    "\n",
    "# 0 2 4  \n",
    "\n",
    "# 0 3 6 9  \n",
    "\n",
    "# 0 4 8 12 16  \n",
    "\n",
    "# 0 5 10 15 20 25  \n",
    "\n",
    "# 0 6 12 18 24 30 36"
   ]
  },
  {
   "cell_type": "code",
   "execution_count": 161,
   "id": "1fa70ccb",
   "metadata": {
    "execution": {
     "iopub.execute_input": "2023-11-16T17:04:24.583421Z",
     "iopub.status.busy": "2023-11-16T17:04:24.583063Z",
     "iopub.status.idle": "2023-11-16T17:04:24.589306Z",
     "shell.execute_reply": "2023-11-16T17:04:24.588468Z"
    },
    "papermill": {
     "duration": 0.155344,
     "end_time": "2023-11-16T17:04:24.591311",
     "exception": false,
     "start_time": "2023-11-16T17:04:24.435967",
     "status": "completed"
    },
    "tags": []
   },
   "outputs": [
    {
     "name": "stdout",
     "output_type": "stream",
     "text": [
      "0 \n",
      "0 1 \n",
      "0 2 4 \n",
      "0 3 6 9 \n",
      "0 4 8 12 16 \n",
      "0 5 10 15 20 25 \n",
      "0 6 12 18 24 30 36 \n",
      "0 7 14 21 28 35 42 49 \n",
      "0 8 16 24 32 40 48 56 64 \n",
      "0 9 18 27 36 45 54 63 72 81 \n",
      "0 10 20 30 40 50 60 70 80 90 100 \n",
      "0 11 22 33 44 55 66 77 88 99 110 121 \n",
      "0 12 24 36 48 60 72 84 96 108 120 132 144 \n",
      "0 13 26 39 52 65 78 91 104 117 130 143 156 169 \n",
      "0 14 28 42 56 70 84 98 112 126 140 154 168 182 196 \n",
      "0 15 30 45 60 75 90 105 120 135 150 165 180 195 210 225 \n"
     ]
    }
   ],
   "source": [
    "n = 15\n",
    "# 6\n",
    "for i in range(n+1):\n",
    "    for j in range(i+1):\n",
    "        print(j*i,end=\" \")\n",
    "    print()"
   ]
  },
  {
   "cell_type": "code",
   "execution_count": 162,
   "id": "1cc38bc5",
   "metadata": {
    "execution": {
     "iopub.execute_input": "2023-11-16T17:04:24.851639Z",
     "iopub.status.busy": "2023-11-16T17:04:24.851249Z",
     "iopub.status.idle": "2023-11-16T17:04:24.855400Z",
     "shell.execute_reply": "2023-11-16T17:04:24.854455Z"
    },
    "papermill": {
     "duration": 0.138421,
     "end_time": "2023-11-16T17:04:24.857522",
     "exception": false,
     "start_time": "2023-11-16T17:04:24.719101",
     "status": "completed"
    },
    "tags": []
   },
   "outputs": [],
   "source": [
    "# 1 \n",
    "\n",
    "# 3 3 \n",
    "\n",
    "# 5 5 5 \n",
    "\n",
    "# 7 7 7 7 \n",
    "\n",
    "# 9 9 9 9 9"
   ]
  },
  {
   "cell_type": "code",
   "execution_count": 163,
   "id": "dff412b1",
   "metadata": {
    "execution": {
     "iopub.execute_input": "2023-11-16T17:04:25.111630Z",
     "iopub.status.busy": "2023-11-16T17:04:25.110958Z",
     "iopub.status.idle": "2023-11-16T17:04:25.116698Z",
     "shell.execute_reply": "2023-11-16T17:04:25.115726Z"
    },
    "papermill": {
     "duration": 0.135566,
     "end_time": "2023-11-16T17:04:25.118651",
     "exception": false,
     "start_time": "2023-11-16T17:04:24.983085",
     "status": "completed"
    },
    "tags": []
   },
   "outputs": [
    {
     "name": "stdout",
     "output_type": "stream",
     "text": [
      "1 \n",
      "3 3 \n",
      "5 5 5 \n",
      "7 7 7 7 \n",
      "9 9 9 9 9 \n"
     ]
    }
   ],
   "source": [
    "\n",
    "n = 5\n",
    "for i in range(n):\n",
    "    for j in range(i+1):\n",
    "        print((2*i)+1,end=\" \")\n",
    "    print()"
   ]
  },
  {
   "cell_type": "code",
   "execution_count": 164,
   "id": "9aa7a42b",
   "metadata": {
    "execution": {
     "iopub.execute_input": "2023-11-16T17:04:25.372926Z",
     "iopub.status.busy": "2023-11-16T17:04:25.372556Z",
     "iopub.status.idle": "2023-11-16T17:04:25.376537Z",
     "shell.execute_reply": "2023-11-16T17:04:25.375594Z"
    },
    "papermill": {
     "duration": 0.132045,
     "end_time": "2023-11-16T17:04:25.378463",
     "exception": false,
     "start_time": "2023-11-16T17:04:25.246418",
     "status": "completed"
    },
    "tags": []
   },
   "outputs": [],
   "source": [
    "# ******\n",
    "#     *\n",
    "#    *\n",
    "#   *\n",
    "#  *\n",
    "# ******"
   ]
  },
  {
   "cell_type": "code",
   "execution_count": 165,
   "id": "a789a4e3",
   "metadata": {
    "execution": {
     "iopub.execute_input": "2023-11-16T17:04:25.632386Z",
     "iopub.status.busy": "2023-11-16T17:04:25.632046Z",
     "iopub.status.idle": "2023-11-16T17:04:25.637716Z",
     "shell.execute_reply": "2023-11-16T17:04:25.636834Z"
    },
    "papermill": {
     "duration": 0.136376,
     "end_time": "2023-11-16T17:04:25.640100",
     "exception": false,
     "start_time": "2023-11-16T17:04:25.503724",
     "status": "completed"
    },
    "tags": []
   },
   "outputs": [
    {
     "name": "stdout",
     "output_type": "stream",
     "text": [
      "************\n",
      "          *\n",
      "         *\n",
      "        *\n",
      "       *\n",
      "      *\n",
      "     *\n",
      "    *\n",
      "   *\n",
      "  *\n",
      " *\n",
      "************\n"
     ]
    }
   ],
   "source": [
    "n = 12\n",
    "print(\"*\"*n)\n",
    "for i in range(n-2):\n",
    "    print(\" \"*(n-2-i),end=\"\")\n",
    "    print(\"*\")\n",
    "print(\"*\"*n)"
   ]
  },
  {
   "cell_type": "code",
   "execution_count": 166,
   "id": "2484ae66",
   "metadata": {
    "execution": {
     "iopub.execute_input": "2023-11-16T17:04:25.893085Z",
     "iopub.status.busy": "2023-11-16T17:04:25.892737Z",
     "iopub.status.idle": "2023-11-16T17:04:25.896933Z",
     "shell.execute_reply": "2023-11-16T17:04:25.895898Z"
    },
    "papermill": {
     "duration": 0.132467,
     "end_time": "2023-11-16T17:04:25.898921",
     "exception": false,
     "start_time": "2023-11-16T17:04:25.766454",
     "status": "completed"
    },
    "tags": []
   },
   "outputs": [],
   "source": [
    "# 1 2 3 * * * N\n",
    "#           *\n",
    "#         *\n",
    "#       *\n",
    "#     3\n",
    "#   2\n",
    "# 1 2 3 * * * N\n"
   ]
  },
  {
   "cell_type": "code",
   "execution_count": 167,
   "id": "f8fd88d6",
   "metadata": {
    "execution": {
     "iopub.execute_input": "2023-11-16T17:04:26.166305Z",
     "iopub.status.busy": "2023-11-16T17:04:26.165722Z",
     "iopub.status.idle": "2023-11-16T17:04:26.174126Z",
     "shell.execute_reply": "2023-11-16T17:04:26.173199Z"
    },
    "papermill": {
     "duration": 0.145555,
     "end_time": "2023-11-16T17:04:26.176304",
     "exception": false,
     "start_time": "2023-11-16T17:04:26.030749",
     "status": "completed"
    },
    "tags": []
   },
   "outputs": [
    {
     "name": "stdout",
     "output_type": "stream",
     "text": [
      "1 2 3 * * * N\n",
      "\n",
      "          *\n",
      "        *\n",
      "      *\n",
      "    3\n",
      "  2\n",
      "1 2 3 * * * N\n"
     ]
    }
   ],
   "source": [
    "for i in range(3):\n",
    "    print(i+1, end=\" \")\n",
    "for j in range(3):\n",
    "    print(\"* \",end=\"\")\n",
    "print(\"N\")\n",
    "\n",
    "print()\n",
    "for k in range(3):\n",
    "    print(\" \"*(2*(5-k)),end=\"\")\n",
    "    print(\"*\")\n",
    "for m in range(2):\n",
    "    print(\" \"*(2*(2-m)),end=\"\")\n",
    "    print(3-m)   \n",
    "    \n",
    "    \n",
    "for i in range(3):\n",
    "    print(i+1, end=\" \")\n",
    "for j in range(3):\n",
    "    print(\"* \",end=\"\")\n",
    "print(\"N\")"
   ]
  },
  {
   "cell_type": "code",
   "execution_count": 168,
   "id": "13ff4a7d",
   "metadata": {
    "execution": {
     "iopub.execute_input": "2023-11-16T17:04:26.432295Z",
     "iopub.status.busy": "2023-11-16T17:04:26.431929Z",
     "iopub.status.idle": "2023-11-16T17:04:26.437661Z",
     "shell.execute_reply": "2023-11-16T17:04:26.436858Z"
    },
    "papermill": {
     "duration": 0.137925,
     "end_time": "2023-11-16T17:04:26.439870",
     "exception": false,
     "start_time": "2023-11-16T17:04:26.301945",
     "status": "completed"
    },
    "tags": []
   },
   "outputs": [
    {
     "name": "stdout",
     "output_type": "stream",
     "text": [
      "prasad  is not eligible\n"
     ]
    }
   ],
   "source": [
    "m1 = 80\n",
    "m2 = 40\n",
    "student = \"prasad\"\n",
    "\n",
    "\n",
    "if m1 > 50 and m2 > 50 :\n",
    "    print(student , \" is eligible\")\n",
    "else :\n",
    "    print(student,\" is not eligible\")"
   ]
  },
  {
   "cell_type": "code",
   "execution_count": 169,
   "id": "aa588810",
   "metadata": {
    "execution": {
     "iopub.execute_input": "2023-11-16T17:04:26.701954Z",
     "iopub.status.busy": "2023-11-16T17:04:26.701601Z",
     "iopub.status.idle": "2023-11-16T17:04:26.707072Z",
     "shell.execute_reply": "2023-11-16T17:04:26.706124Z"
    },
    "papermill": {
     "duration": 0.137051,
     "end_time": "2023-11-16T17:04:26.709220",
     "exception": false,
     "start_time": "2023-11-16T17:04:26.572169",
     "status": "completed"
    },
    "tags": []
   },
   "outputs": [
    {
     "name": "stdout",
     "output_type": "stream",
     "text": [
      "sushmitha  is eligible\n"
     ]
    }
   ],
   "source": [
    "m1 = 70\n",
    "m2 = 80\n",
    "student = \"sushmitha\"\n",
    "if m1 > 50 and m2 > 50 :\n",
    "    print(student , \" is eligible\")\n",
    "else :\n",
    "    print(student,\" is not eligible\")\n"
   ]
  },
  {
   "cell_type": "code",
   "execution_count": 170,
   "id": "3da77cb8",
   "metadata": {
    "execution": {
     "iopub.execute_input": "2023-11-16T17:04:26.972966Z",
     "iopub.status.busy": "2023-11-16T17:04:26.972607Z",
     "iopub.status.idle": "2023-11-16T17:04:26.977335Z",
     "shell.execute_reply": "2023-11-16T17:04:26.976366Z"
    },
    "papermill": {
     "duration": 0.139278,
     "end_time": "2023-11-16T17:04:26.979458",
     "exception": false,
     "start_time": "2023-11-16T17:04:26.840180",
     "status": "completed"
    },
    "tags": []
   },
   "outputs": [],
   "source": [
    "def level(a,b,student) :\n",
    "    c = a+b\n",
    "    print(student,\" got \", c ,\" marks\")"
   ]
  },
  {
   "cell_type": "code",
   "execution_count": 171,
   "id": "0695b70a",
   "metadata": {
    "execution": {
     "iopub.execute_input": "2023-11-16T17:04:27.244831Z",
     "iopub.status.busy": "2023-11-16T17:04:27.244141Z",
     "iopub.status.idle": "2023-11-16T17:04:27.249407Z",
     "shell.execute_reply": "2023-11-16T17:04:27.248491Z"
    },
    "papermill": {
     "duration": 0.14126,
     "end_time": "2023-11-16T17:04:27.251766",
     "exception": false,
     "start_time": "2023-11-16T17:04:27.110506",
     "status": "completed"
    },
    "tags": []
   },
   "outputs": [
    {
     "name": "stdout",
     "output_type": "stream",
     "text": [
      "prasad  got  90  marks\n"
     ]
    }
   ],
   "source": [
    "level(40,50,\"prasad\")"
   ]
  },
  {
   "cell_type": "code",
   "execution_count": 172,
   "id": "15356569",
   "metadata": {
    "execution": {
     "iopub.execute_input": "2023-11-16T17:04:27.513654Z",
     "iopub.status.busy": "2023-11-16T17:04:27.512969Z",
     "iopub.status.idle": "2023-11-16T17:04:27.518199Z",
     "shell.execute_reply": "2023-11-16T17:04:27.517271Z"
    },
    "papermill": {
     "duration": 0.136926,
     "end_time": "2023-11-16T17:04:27.520178",
     "exception": false,
     "start_time": "2023-11-16T17:04:27.383252",
     "status": "completed"
    },
    "tags": []
   },
   "outputs": [
    {
     "name": "stdout",
     "output_type": "stream",
     "text": [
      "sush  got  130  marks\n"
     ]
    }
   ],
   "source": [
    "level(80,50,\"sush\")"
   ]
  },
  {
   "cell_type": "code",
   "execution_count": 173,
   "id": "bf9bb2db",
   "metadata": {
    "execution": {
     "iopub.execute_input": "2023-11-16T17:04:27.779426Z",
     "iopub.status.busy": "2023-11-16T17:04:27.778742Z",
     "iopub.status.idle": "2023-11-16T17:04:27.784941Z",
     "shell.execute_reply": "2023-11-16T17:04:27.784099Z"
    },
    "papermill": {
     "duration": 0.137451,
     "end_time": "2023-11-16T17:04:27.787191",
     "exception": false,
     "start_time": "2023-11-16T17:04:27.649740",
     "status": "completed"
    },
    "tags": []
   },
   "outputs": [
    {
     "name": "stdout",
     "output_type": "stream",
     "text": [
      "--\n",
      "50\n",
      "def  is not eligible\n"
     ]
    }
   ],
   "source": [
    "\n",
    "\n",
    "def marks (m1,m2,student=\"def\"):\n",
    "    print(m1)\n",
    "    if m1 > 50 and m2 > 50 :\n",
    "        print(student , \" is eligible\")\n",
    "    else :\n",
    "        print(student,\" is not eligible\")\n",
    "        \n",
    "        \n",
    "        \n",
    "print(\"--\")\n",
    "\n",
    "        \n",
    "        \n",
    "        \n",
    "        \n",
    "marks(m1=50,m2=40)"
   ]
  },
  {
   "cell_type": "code",
   "execution_count": 174,
   "id": "dfe047ad",
   "metadata": {
    "execution": {
     "iopub.execute_input": "2023-11-16T17:04:28.042499Z",
     "iopub.status.busy": "2023-11-16T17:04:28.041844Z",
     "iopub.status.idle": "2023-11-16T17:04:28.046872Z",
     "shell.execute_reply": "2023-11-16T17:04:28.045828Z"
    },
    "papermill": {
     "duration": 0.135327,
     "end_time": "2023-11-16T17:04:28.049254",
     "exception": false,
     "start_time": "2023-11-16T17:04:27.913927",
     "status": "completed"
    },
    "tags": []
   },
   "outputs": [
    {
     "name": "stdout",
     "output_type": "stream",
     "text": [
      "80\n",
      "swapna  is eligible\n"
     ]
    }
   ],
   "source": [
    "marks(student = \"swapna\",m2=90,m1=80)"
   ]
  },
  {
   "cell_type": "code",
   "execution_count": 175,
   "id": "a8beb0ba",
   "metadata": {
    "execution": {
     "iopub.execute_input": "2023-11-16T17:04:28.315133Z",
     "iopub.status.busy": "2023-11-16T17:04:28.314790Z",
     "iopub.status.idle": "2023-11-16T17:04:28.319015Z",
     "shell.execute_reply": "2023-11-16T17:04:28.318165Z"
    },
    "papermill": {
     "duration": 0.135877,
     "end_time": "2023-11-16T17:04:28.320984",
     "exception": false,
     "start_time": "2023-11-16T17:04:28.185107",
     "status": "completed"
    },
    "tags": []
   },
   "outputs": [],
   "source": [
    "# marks(\"student\",90,80)"
   ]
  },
  {
   "cell_type": "code",
   "execution_count": 176,
   "id": "3cec9226",
   "metadata": {
    "execution": {
     "iopub.execute_input": "2023-11-16T17:04:28.581991Z",
     "iopub.status.busy": "2023-11-16T17:04:28.581665Z",
     "iopub.status.idle": "2023-11-16T17:04:28.586480Z",
     "shell.execute_reply": "2023-11-16T17:04:28.585560Z"
    },
    "papermill": {
     "duration": 0.137467,
     "end_time": "2023-11-16T17:04:28.588575",
     "exception": false,
     "start_time": "2023-11-16T17:04:28.451108",
     "status": "completed"
    },
    "tags": []
   },
   "outputs": [
    {
     "name": "stdout",
     "output_type": "stream",
     "text": [
      "30\n",
      "parth  is not eligible\n"
     ]
    }
   ],
   "source": [
    "marks(30,30,\"parth\")"
   ]
  },
  {
   "cell_type": "code",
   "execution_count": 177,
   "id": "dc451e5a",
   "metadata": {
    "execution": {
     "iopub.execute_input": "2023-11-16T17:04:28.843755Z",
     "iopub.status.busy": "2023-11-16T17:04:28.843385Z",
     "iopub.status.idle": "2023-11-16T17:04:28.848021Z",
     "shell.execute_reply": "2023-11-16T17:04:28.847177Z"
    },
    "papermill": {
     "duration": 0.134808,
     "end_time": "2023-11-16T17:04:28.850053",
     "exception": false,
     "start_time": "2023-11-16T17:04:28.715245",
     "status": "completed"
    },
    "tags": []
   },
   "outputs": [
    {
     "name": "stdout",
     "output_type": "stream",
     "text": [
      "90\n",
      "tayyab  is eligible\n"
     ]
    }
   ],
   "source": [
    "marks(90,90,\"tayyab\")"
   ]
  },
  {
   "cell_type": "code",
   "execution_count": 178,
   "id": "df120bba",
   "metadata": {
    "execution": {
     "iopub.execute_input": "2023-11-16T17:04:29.107323Z",
     "iopub.status.busy": "2023-11-16T17:04:29.106980Z",
     "iopub.status.idle": "2023-11-16T17:04:29.112573Z",
     "shell.execute_reply": "2023-11-16T17:04:29.111739Z"
    },
    "papermill": {
     "duration": 0.137504,
     "end_time": "2023-11-16T17:04:29.114791",
     "exception": false,
     "start_time": "2023-11-16T17:04:28.977287",
     "status": "completed"
    },
    "tags": []
   },
   "outputs": [
    {
     "name": "stdout",
     "output_type": "stream",
     "text": [
      "0\n",
      "st  is not eligible\n"
     ]
    }
   ],
   "source": [
    "\n",
    "\n",
    "def marks (m1=0,m2=0,student=\"st\") :\n",
    "    print(m1)\n",
    "    if m1 > 50 and m2 > 50 :\n",
    "        print(student , \" is eligible\")\n",
    "    else :\n",
    "        print(student,\" is not eligible\")\n",
    "        \n",
    "marks()"
   ]
  },
  {
   "cell_type": "code",
   "execution_count": 179,
   "id": "8910b58d",
   "metadata": {
    "execution": {
     "iopub.execute_input": "2023-11-16T17:04:29.372984Z",
     "iopub.status.busy": "2023-11-16T17:04:29.372660Z",
     "iopub.status.idle": "2023-11-16T17:04:29.376536Z",
     "shell.execute_reply": "2023-11-16T17:04:29.375592Z"
    },
    "papermill": {
     "duration": 0.133626,
     "end_time": "2023-11-16T17:04:29.378402",
     "exception": false,
     "start_time": "2023-11-16T17:04:29.244776",
     "status": "completed"
    },
    "tags": []
   },
   "outputs": [],
   "source": [
    "# print \n",
    "# return"
   ]
  },
  {
   "cell_type": "code",
   "execution_count": 180,
   "id": "1d8b52dd",
   "metadata": {
    "execution": {
     "iopub.execute_input": "2023-11-16T17:04:29.648688Z",
     "iopub.status.busy": "2023-11-16T17:04:29.648304Z",
     "iopub.status.idle": "2023-11-16T17:04:29.654202Z",
     "shell.execute_reply": "2023-11-16T17:04:29.653255Z"
    },
    "papermill": {
     "duration": 0.147608,
     "end_time": "2023-11-16T17:04:29.656465",
     "exception": false,
     "start_time": "2023-11-16T17:04:29.508857",
     "status": "completed"
    },
    "tags": []
   },
   "outputs": [
    {
     "name": "stdout",
     "output_type": "stream",
     "text": [
      "---- 15\n"
     ]
    }
   ],
   "source": [
    "def add (a,b) :\n",
    "    c = a+b\n",
    "    return c\n",
    "\n",
    "p= add(5,10)\n",
    "print(\"----\",p)"
   ]
  },
  {
   "cell_type": "code",
   "execution_count": 181,
   "id": "c4a84b65",
   "metadata": {
    "execution": {
     "iopub.execute_input": "2023-11-16T17:04:29.915564Z",
     "iopub.status.busy": "2023-11-16T17:04:29.914709Z",
     "iopub.status.idle": "2023-11-16T17:04:29.920376Z",
     "shell.execute_reply": "2023-11-16T17:04:29.919561Z"
    },
    "papermill": {
     "duration": 0.136202,
     "end_time": "2023-11-16T17:04:29.922349",
     "exception": false,
     "start_time": "2023-11-16T17:04:29.786147",
     "status": "completed"
    },
    "tags": []
   },
   "outputs": [
    {
     "name": "stdout",
     "output_type": "stream",
     "text": [
      "15\n",
      "---- None\n"
     ]
    }
   ],
   "source": [
    "def add (a,b) :\n",
    "    c = a+b\n",
    "    print(c)\n",
    "\n",
    "p = add(5,10)\n",
    "print(\"----\",p)"
   ]
  },
  {
   "cell_type": "code",
   "execution_count": 182,
   "id": "86cb6610",
   "metadata": {
    "execution": {
     "iopub.execute_input": "2023-11-16T17:04:30.189073Z",
     "iopub.status.busy": "2023-11-16T17:04:30.188338Z",
     "iopub.status.idle": "2023-11-16T17:04:30.192936Z",
     "shell.execute_reply": "2023-11-16T17:04:30.191959Z"
    },
    "papermill": {
     "duration": 0.144508,
     "end_time": "2023-11-16T17:04:30.195267",
     "exception": false,
     "start_time": "2023-11-16T17:04:30.050759",
     "status": "completed"
    },
    "tags": []
   },
   "outputs": [],
   "source": [
    "# if add(5,10 ) > 10 :\n",
    "#     print(\"eligible\")\n",
    "# else :\n",
    "#     print(\"not eligible\")"
   ]
  },
  {
   "cell_type": "code",
   "execution_count": 183,
   "id": "9871f257",
   "metadata": {
    "execution": {
     "iopub.execute_input": "2023-11-16T17:04:30.453695Z",
     "iopub.status.busy": "2023-11-16T17:04:30.452932Z",
     "iopub.status.idle": "2023-11-16T17:04:30.459318Z",
     "shell.execute_reply": "2023-11-16T17:04:30.458492Z"
    },
    "papermill": {
     "duration": 0.136783,
     "end_time": "2023-11-16T17:04:30.461549",
     "exception": false,
     "start_time": "2023-11-16T17:04:30.324766",
     "status": "completed"
    },
    "tags": []
   },
   "outputs": [
    {
     "data": {
      "text/plain": [
       "15"
      ]
     },
     "execution_count": 183,
     "metadata": {},
     "output_type": "execute_result"
    }
   ],
   "source": [
    "def add (a,b) :\n",
    "    c = a+b\n",
    "    return c\n",
    "\n",
    "add(5,10)"
   ]
  },
  {
   "cell_type": "code",
   "execution_count": 184,
   "id": "f3d8fabb",
   "metadata": {
    "execution": {
     "iopub.execute_input": "2023-11-16T17:04:30.718176Z",
     "iopub.status.busy": "2023-11-16T17:04:30.717258Z",
     "iopub.status.idle": "2023-11-16T17:04:30.724036Z",
     "shell.execute_reply": "2023-11-16T17:04:30.723018Z"
    },
    "papermill": {
     "duration": 0.136134,
     "end_time": "2023-11-16T17:04:30.726347",
     "exception": false,
     "start_time": "2023-11-16T17:04:30.590213",
     "status": "completed"
    },
    "tags": []
   },
   "outputs": [
    {
     "data": {
      "text/plain": [
       "17"
      ]
     },
     "execution_count": 184,
     "metadata": {},
     "output_type": "execute_result"
    }
   ],
   "source": [
    "add = lambda  a,b : a+b\n",
    "add(7,10)"
   ]
  },
  {
   "cell_type": "code",
   "execution_count": 185,
   "id": "a9866c15",
   "metadata": {
    "execution": {
     "iopub.execute_input": "2023-11-16T17:04:30.983169Z",
     "iopub.status.busy": "2023-11-16T17:04:30.982501Z",
     "iopub.status.idle": "2023-11-16T17:04:30.988587Z",
     "shell.execute_reply": "2023-11-16T17:04:30.987716Z"
    },
    "papermill": {
     "duration": 0.135863,
     "end_time": "2023-11-16T17:04:30.990361",
     "exception": false,
     "start_time": "2023-11-16T17:04:30.854498",
     "status": "completed"
    },
    "tags": []
   },
   "outputs": [
    {
     "data": {
      "text/plain": [
       "30"
      ]
     },
     "execution_count": 185,
     "metadata": {},
     "output_type": "execute_result"
    }
   ],
   "source": [
    "add(10,20)"
   ]
  },
  {
   "cell_type": "code",
   "execution_count": 186,
   "id": "51f7782f",
   "metadata": {
    "execution": {
     "iopub.execute_input": "2023-11-16T17:04:31.248661Z",
     "iopub.status.busy": "2023-11-16T17:04:31.248282Z",
     "iopub.status.idle": "2023-11-16T17:04:31.252269Z",
     "shell.execute_reply": "2023-11-16T17:04:31.251311Z"
    },
    "papermill": {
     "duration": 0.136711,
     "end_time": "2023-11-16T17:04:31.254964",
     "exception": false,
     "start_time": "2023-11-16T17:04:31.118253",
     "status": "completed"
    },
    "tags": []
   },
   "outputs": [],
   "source": [
    "# list comprehenison :  list + for loop / any loop"
   ]
  },
  {
   "cell_type": "code",
   "execution_count": 187,
   "id": "5074ac8f",
   "metadata": {
    "execution": {
     "iopub.execute_input": "2023-11-16T17:04:31.515828Z",
     "iopub.status.busy": "2023-11-16T17:04:31.515482Z",
     "iopub.status.idle": "2023-11-16T17:04:31.522289Z",
     "shell.execute_reply": "2023-11-16T17:04:31.521468Z"
    },
    "papermill": {
     "duration": 0.141183,
     "end_time": "2023-11-16T17:04:31.524565",
     "exception": false,
     "start_time": "2023-11-16T17:04:31.383382",
     "status": "completed"
    },
    "tags": []
   },
   "outputs": [
    {
     "data": {
      "text/plain": [
       "[20, 30]"
      ]
     },
     "execution_count": 187,
     "metadata": {},
     "output_type": "execute_result"
    }
   ],
   "source": [
    "a = [20 ,25,30,35]\n",
    "\n",
    "even = []\n",
    "\n",
    "for i in a :\n",
    "    if i%2 == 0 :\n",
    "        even.append(i)\n",
    "        \n",
    "        \n",
    "        \n",
    "even"
   ]
  },
  {
   "cell_type": "code",
   "execution_count": 188,
   "id": "8702696f",
   "metadata": {
    "execution": {
     "iopub.execute_input": "2023-11-16T17:04:31.783557Z",
     "iopub.status.busy": "2023-11-16T17:04:31.783220Z",
     "iopub.status.idle": "2023-11-16T17:04:31.789863Z",
     "shell.execute_reply": "2023-11-16T17:04:31.788809Z"
    },
    "papermill": {
     "duration": 0.136941,
     "end_time": "2023-11-16T17:04:31.791898",
     "exception": false,
     "start_time": "2023-11-16T17:04:31.654957",
     "status": "completed"
    },
    "tags": []
   },
   "outputs": [
    {
     "data": {
      "text/plain": [
       "[20, 30]"
      ]
     },
     "execution_count": 188,
     "metadata": {},
     "output_type": "execute_result"
    }
   ],
   "source": [
    "a = [20 ,25,30,35]\n",
    "\n",
    "even = [  i  for i in a  if i%2 == 0   ]       \n",
    "        \n",
    "        \n",
    "even"
   ]
  },
  {
   "cell_type": "code",
   "execution_count": 189,
   "id": "125e9227",
   "metadata": {
    "execution": {
     "iopub.execute_input": "2023-11-16T17:04:32.067764Z",
     "iopub.status.busy": "2023-11-16T17:04:32.067395Z",
     "iopub.status.idle": "2023-11-16T17:04:32.075237Z",
     "shell.execute_reply": "2023-11-16T17:04:32.074080Z"
    },
    "papermill": {
     "duration": 0.155334,
     "end_time": "2023-11-16T17:04:32.077334",
     "exception": false,
     "start_time": "2023-11-16T17:04:31.922000",
     "status": "completed"
    },
    "tags": []
   },
   "outputs": [
    {
     "data": {
      "text/plain": [
       "{20: 'Abhi', 30: 'Abhi'}"
      ]
     },
     "execution_count": 189,
     "metadata": {},
     "output_type": "execute_result"
    }
   ],
   "source": [
    "a = [20 ,25,30,35]\n",
    "\n",
    "even = { i: \"Abhi\"  for i in a  if i%2 == 0   }       \n",
    "        \n",
    "        \n",
    "even"
   ]
  },
  {
   "cell_type": "code",
   "execution_count": 190,
   "id": "7eb5affc",
   "metadata": {
    "execution": {
     "iopub.execute_input": "2023-11-16T17:04:32.352104Z",
     "iopub.status.busy": "2023-11-16T17:04:32.351355Z",
     "iopub.status.idle": "2023-11-16T17:04:32.355418Z",
     "shell.execute_reply": "2023-11-16T17:04:32.354483Z"
    },
    "papermill": {
     "duration": 0.133678,
     "end_time": "2023-11-16T17:04:32.357307",
     "exception": false,
     "start_time": "2023-11-16T17:04:32.223629",
     "status": "completed"
    },
    "tags": []
   },
   "outputs": [],
   "source": [
    "# break continue pass"
   ]
  },
  {
   "cell_type": "code",
   "execution_count": 191,
   "id": "4fd22a2a",
   "metadata": {
    "execution": {
     "iopub.execute_input": "2023-11-16T17:04:32.614336Z",
     "iopub.status.busy": "2023-11-16T17:04:32.613671Z",
     "iopub.status.idle": "2023-11-16T17:04:32.617991Z",
     "shell.execute_reply": "2023-11-16T17:04:32.617179Z"
    },
    "papermill": {
     "duration": 0.135376,
     "end_time": "2023-11-16T17:04:32.620149",
     "exception": false,
     "start_time": "2023-11-16T17:04:32.484773",
     "status": "completed"
    },
    "tags": []
   },
   "outputs": [],
   "source": [
    "def add(a,b):\n",
    "    pass\n",
    "    \n",
    "add(8,9)"
   ]
  },
  {
   "cell_type": "code",
   "execution_count": 192,
   "id": "d43ed9fb",
   "metadata": {
    "execution": {
     "iopub.execute_input": "2023-11-16T17:04:32.875663Z",
     "iopub.status.busy": "2023-11-16T17:04:32.875071Z",
     "iopub.status.idle": "2023-11-16T17:04:32.880199Z",
     "shell.execute_reply": "2023-11-16T17:04:32.879253Z"
    },
    "papermill": {
     "duration": 0.1348,
     "end_time": "2023-11-16T17:04:32.882159",
     "exception": false,
     "start_time": "2023-11-16T17:04:32.747359",
     "status": "completed"
    },
    "tags": []
   },
   "outputs": [
    {
     "name": "stdout",
     "output_type": "stream",
     "text": [
      "0\n",
      "1\n",
      "2\n"
     ]
    }
   ],
   "source": [
    "for i in range(5):\n",
    "    if i == 3 :\n",
    "        break\n",
    "    print(i)"
   ]
  },
  {
   "cell_type": "code",
   "execution_count": 193,
   "id": "ea16295c",
   "metadata": {
    "execution": {
     "iopub.execute_input": "2023-11-16T17:04:33.137029Z",
     "iopub.status.busy": "2023-11-16T17:04:33.136686Z",
     "iopub.status.idle": "2023-11-16T17:04:33.141755Z",
     "shell.execute_reply": "2023-11-16T17:04:33.140838Z"
    },
    "papermill": {
     "duration": 0.13536,
     "end_time": "2023-11-16T17:04:33.143861",
     "exception": false,
     "start_time": "2023-11-16T17:04:33.008501",
     "status": "completed"
    },
    "tags": []
   },
   "outputs": [
    {
     "name": "stdout",
     "output_type": "stream",
     "text": [
      "0\n",
      "1\n",
      "2\n",
      "4\n"
     ]
    }
   ],
   "source": [
    "for i in range(5):\n",
    "    if i == 3 :\n",
    "        continue\n",
    "    print(i)"
   ]
  },
  {
   "cell_type": "code",
   "execution_count": 194,
   "id": "fc4b59f2",
   "metadata": {
    "execution": {
     "iopub.execute_input": "2023-11-16T17:04:33.401326Z",
     "iopub.status.busy": "2023-11-16T17:04:33.400660Z",
     "iopub.status.idle": "2023-11-16T17:04:33.404685Z",
     "shell.execute_reply": "2023-11-16T17:04:33.403833Z"
    },
    "papermill": {
     "duration": 0.13385,
     "end_time": "2023-11-16T17:04:33.406656",
     "exception": false,
     "start_time": "2023-11-16T17:04:33.272806",
     "status": "completed"
    },
    "tags": []
   },
   "outputs": [],
   "source": [
    "# \\n = new line \\t tab"
   ]
  },
  {
   "cell_type": "code",
   "execution_count": 195,
   "id": "d09004a6",
   "metadata": {
    "execution": {
     "iopub.execute_input": "2023-11-16T17:04:33.661964Z",
     "iopub.status.busy": "2023-11-16T17:04:33.661005Z",
     "iopub.status.idle": "2023-11-16T17:04:33.666137Z",
     "shell.execute_reply": "2023-11-16T17:04:33.665172Z"
    },
    "papermill": {
     "duration": 0.134126,
     "end_time": "2023-11-16T17:04:33.668103",
     "exception": false,
     "start_time": "2023-11-16T17:04:33.533977",
     "status": "completed"
    },
    "tags": []
   },
   "outputs": [
    {
     "name": "stdout",
     "output_type": "stream",
     "text": [
      "mlv\n",
      "prasad\n"
     ]
    }
   ],
   "source": [
    "print(\"mlv\")\n",
    "print(\"prasad\")"
   ]
  },
  {
   "cell_type": "code",
   "execution_count": 196,
   "id": "100ef063",
   "metadata": {
    "execution": {
     "iopub.execute_input": "2023-11-16T17:04:33.927666Z",
     "iopub.status.busy": "2023-11-16T17:04:33.927224Z",
     "iopub.status.idle": "2023-11-16T17:04:33.932146Z",
     "shell.execute_reply": "2023-11-16T17:04:33.931265Z"
    },
    "papermill": {
     "duration": 0.136961,
     "end_time": "2023-11-16T17:04:33.934480",
     "exception": false,
     "start_time": "2023-11-16T17:04:33.797519",
     "status": "completed"
    },
    "tags": []
   },
   "outputs": [
    {
     "name": "stdout",
     "output_type": "stream",
     "text": [
      "mlv\n",
      "prasad\n"
     ]
    }
   ],
   "source": [
    "print(\"mlv\\nprasad\")"
   ]
  },
  {
   "cell_type": "code",
   "execution_count": 197,
   "id": "e9b3c8c5",
   "metadata": {
    "execution": {
     "iopub.execute_input": "2023-11-16T17:04:34.191285Z",
     "iopub.status.busy": "2023-11-16T17:04:34.190922Z",
     "iopub.status.idle": "2023-11-16T17:04:34.195904Z",
     "shell.execute_reply": "2023-11-16T17:04:34.194977Z"
    },
    "papermill": {
     "duration": 0.134918,
     "end_time": "2023-11-16T17:04:34.198125",
     "exception": false,
     "start_time": "2023-11-16T17:04:34.063207",
     "status": "completed"
    },
    "tags": []
   },
   "outputs": [
    {
     "name": "stdout",
     "output_type": "stream",
     "text": [
      "mlv    prasad    is    a    good    boy\n"
     ]
    }
   ],
   "source": [
    "print(\"mlv    prasad    is    a    good    boy\")"
   ]
  },
  {
   "cell_type": "code",
   "execution_count": 198,
   "id": "58e74f7a",
   "metadata": {
    "execution": {
     "iopub.execute_input": "2023-11-16T17:04:34.459151Z",
     "iopub.status.busy": "2023-11-16T17:04:34.458807Z",
     "iopub.status.idle": "2023-11-16T17:04:34.463549Z",
     "shell.execute_reply": "2023-11-16T17:04:34.462634Z"
    },
    "papermill": {
     "duration": 0.135492,
     "end_time": "2023-11-16T17:04:34.465591",
     "exception": false,
     "start_time": "2023-11-16T17:04:34.330099",
     "status": "completed"
    },
    "tags": []
   },
   "outputs": [
    {
     "name": "stdout",
     "output_type": "stream",
     "text": [
      "mlv\tprasad\tis\ta\tgood\tboy\n"
     ]
    }
   ],
   "source": [
    "print(\"mlv\\tprasad\\tis\\ta\\tgood\\tboy\")"
   ]
  },
  {
   "cell_type": "code",
   "execution_count": 199,
   "id": "a1ab9924",
   "metadata": {
    "execution": {
     "iopub.execute_input": "2023-11-16T17:04:34.726334Z",
     "iopub.status.busy": "2023-11-16T17:04:34.725553Z",
     "iopub.status.idle": "2023-11-16T17:04:34.729491Z",
     "shell.execute_reply": "2023-11-16T17:04:34.728669Z"
    },
    "papermill": {
     "duration": 0.133666,
     "end_time": "2023-11-16T17:04:34.731331",
     "exception": false,
     "start_time": "2023-11-16T17:04:34.597665",
     "status": "completed"
    },
    "tags": []
   },
   "outputs": [],
   "source": [
    "# * * * * *\n",
    "# * * * *\n",
    "# * * * \n",
    "# * * \n",
    "# *"
   ]
  },
  {
   "cell_type": "code",
   "execution_count": 200,
   "id": "5985411b",
   "metadata": {
    "execution": {
     "iopub.execute_input": "2023-11-16T17:04:35.026666Z",
     "iopub.status.busy": "2023-11-16T17:04:35.026296Z",
     "iopub.status.idle": "2023-11-16T17:04:35.031457Z",
     "shell.execute_reply": "2023-11-16T17:04:35.030601Z"
    },
    "papermill": {
     "duration": 0.14909,
     "end_time": "2023-11-16T17:04:35.033807",
     "exception": false,
     "start_time": "2023-11-16T17:04:34.884717",
     "status": "completed"
    },
    "tags": []
   },
   "outputs": [
    {
     "name": "stdout",
     "output_type": "stream",
     "text": [
      "* * * * * \n",
      "* * * * \n",
      "* * * \n",
      "* * \n",
      "* \n"
     ]
    }
   ],
   "source": [
    "for i in range(5):\n",
    "    print(\"* \"*(5-i))"
   ]
  },
  {
   "cell_type": "code",
   "execution_count": null,
   "id": "afcc1746",
   "metadata": {
    "papermill": {
     "duration": 0.139572,
     "end_time": "2023-11-16T17:04:35.326796",
     "exception": false,
     "start_time": "2023-11-16T17:04:35.187224",
     "status": "completed"
    },
    "tags": []
   },
   "outputs": [],
   "source": []
  },
  {
   "cell_type": "markdown",
   "id": "513887e0",
   "metadata": {
    "papermill": {
     "duration": 0.127914,
     "end_time": "2023-11-16T17:04:35.584310",
     "exception": false,
     "start_time": "2023-11-16T17:04:35.456396",
     "status": "completed"
    },
    "tags": []
   },
   "source": [
    "## filter\n",
    "## reduce\n",
    "## map\n",
    "## zip"
   ]
  },
  {
   "cell_type": "code",
   "execution_count": 201,
   "id": "fe449f23",
   "metadata": {
    "execution": {
     "iopub.execute_input": "2023-11-16T17:04:35.850595Z",
     "iopub.status.busy": "2023-11-16T17:04:35.850239Z",
     "iopub.status.idle": "2023-11-16T17:04:35.854585Z",
     "shell.execute_reply": "2023-11-16T17:04:35.853618Z"
    },
    "papermill": {
     "duration": 0.140411,
     "end_time": "2023-11-16T17:04:35.856696",
     "exception": false,
     "start_time": "2023-11-16T17:04:35.716285",
     "status": "completed"
    },
    "tags": []
   },
   "outputs": [],
   "source": [
    "# filter "
   ]
  },
  {
   "cell_type": "code",
   "execution_count": 202,
   "id": "d702c76f",
   "metadata": {
    "execution": {
     "iopub.execute_input": "2023-11-16T17:04:36.114262Z",
     "iopub.status.busy": "2023-11-16T17:04:36.113915Z",
     "iopub.status.idle": "2023-11-16T17:04:36.121244Z",
     "shell.execute_reply": "2023-11-16T17:04:36.120416Z"
    },
    "papermill": {
     "duration": 0.13937,
     "end_time": "2023-11-16T17:04:36.123196",
     "exception": false,
     "start_time": "2023-11-16T17:04:35.983826",
     "status": "completed"
    },
    "tags": []
   },
   "outputs": [
    {
     "data": {
      "text/plain": [
       "[10, 12, 14, 16]"
      ]
     },
     "execution_count": 202,
     "metadata": {},
     "output_type": "execute_result"
    }
   ],
   "source": [
    "a  =  [10,11,12,13,14,15,16]\n",
    "\n",
    "\n",
    "b = []\n",
    "for i in range(len(a)) :\n",
    "    if a[i] % 2 == 0 :\n",
    "        b.append(a[i])\n",
    "        \n",
    "b"
   ]
  },
  {
   "cell_type": "code",
   "execution_count": 203,
   "id": "d361bb84",
   "metadata": {
    "execution": {
     "iopub.execute_input": "2023-11-16T17:04:36.381502Z",
     "iopub.status.busy": "2023-11-16T17:04:36.380770Z",
     "iopub.status.idle": "2023-11-16T17:04:36.387828Z",
     "shell.execute_reply": "2023-11-16T17:04:36.387018Z"
    },
    "papermill": {
     "duration": 0.137836,
     "end_time": "2023-11-16T17:04:36.389820",
     "exception": false,
     "start_time": "2023-11-16T17:04:36.251984",
     "status": "completed"
    },
    "tags": []
   },
   "outputs": [
    {
     "data": {
      "text/plain": [
       "[40, 12, 14, 16]"
      ]
     },
     "execution_count": 203,
     "metadata": {},
     "output_type": "execute_result"
    }
   ],
   "source": [
    "a  =  [40,11,12,13,14,15,16]\n",
    "\n",
    "def even(i) :\n",
    "    return i % 2 == 0\n",
    "\n",
    "\n",
    "b = list(filter(even,a))\n",
    "b"
   ]
  },
  {
   "cell_type": "code",
   "execution_count": 204,
   "id": "1a0e53c8",
   "metadata": {
    "execution": {
     "iopub.execute_input": "2023-11-16T17:04:36.651521Z",
     "iopub.status.busy": "2023-11-16T17:04:36.651181Z",
     "iopub.status.idle": "2023-11-16T17:04:36.657813Z",
     "shell.execute_reply": "2023-11-16T17:04:36.656936Z"
    },
    "papermill": {
     "duration": 0.138548,
     "end_time": "2023-11-16T17:04:36.659674",
     "exception": false,
     "start_time": "2023-11-16T17:04:36.521126",
     "status": "completed"
    },
    "tags": []
   },
   "outputs": [
    {
     "data": {
      "text/plain": [
       "[40, 12, 14, 16]"
      ]
     },
     "execution_count": 204,
     "metadata": {},
     "output_type": "execute_result"
    }
   ],
   "source": [
    "a  =  [40,11,12,13,14,15,16]\n",
    "\n",
    "b = list(filter(lambda p : p%2== 0,a))\n",
    "b"
   ]
  },
  {
   "cell_type": "code",
   "execution_count": 205,
   "id": "7700c55d",
   "metadata": {
    "execution": {
     "iopub.execute_input": "2023-11-16T17:04:36.927878Z",
     "iopub.status.busy": "2023-11-16T17:04:36.927106Z",
     "iopub.status.idle": "2023-11-16T17:04:36.934755Z",
     "shell.execute_reply": "2023-11-16T17:04:36.933787Z"
    },
    "papermill": {
     "duration": 0.147698,
     "end_time": "2023-11-16T17:04:36.936968",
     "exception": false,
     "start_time": "2023-11-16T17:04:36.789270",
     "status": "completed"
    },
    "tags": []
   },
   "outputs": [
    {
     "data": {
      "text/plain": [
       "['swapna', 'saraswati']"
      ]
     },
     "execution_count": 205,
     "metadata": {},
     "output_type": "execute_result"
    }
   ],
   "source": [
    "a = [\"swapna\",\"saraswati\",\"abhi\"]\n",
    "\n",
    "b = list(filter(lambda i : i[0] != \"a\"   and  i[0] != \"i\"  and  i[0] != \"o\", a))\n",
    "b"
   ]
  },
  {
   "cell_type": "code",
   "execution_count": 206,
   "id": "15ceafba",
   "metadata": {
    "execution": {
     "iopub.execute_input": "2023-11-16T17:04:37.202377Z",
     "iopub.status.busy": "2023-11-16T17:04:37.202047Z",
     "iopub.status.idle": "2023-11-16T17:04:37.209071Z",
     "shell.execute_reply": "2023-11-16T17:04:37.207805Z"
    },
    "papermill": {
     "duration": 0.142172,
     "end_time": "2023-11-16T17:04:37.211524",
     "exception": false,
     "start_time": "2023-11-16T17:04:37.069352",
     "status": "completed"
    },
    "tags": []
   },
   "outputs": [
    {
     "data": {
      "text/plain": [
       "[0, 10, 30]"
      ]
     },
     "execution_count": 206,
     "metadata": {},
     "output_type": "execute_result"
    }
   ],
   "source": [
    "a = {10,30,-10,0,30}\n",
    "b = list(filter(lambda i : i >= 0 , a))\n",
    "b"
   ]
  },
  {
   "cell_type": "code",
   "execution_count": 207,
   "id": "6220bed7",
   "metadata": {
    "execution": {
     "iopub.execute_input": "2023-11-16T17:04:37.471334Z",
     "iopub.status.busy": "2023-11-16T17:04:37.470541Z",
     "iopub.status.idle": "2023-11-16T17:04:37.474949Z",
     "shell.execute_reply": "2023-11-16T17:04:37.474067Z"
    },
    "papermill": {
     "duration": 0.137033,
     "end_time": "2023-11-16T17:04:37.476889",
     "exception": false,
     "start_time": "2023-11-16T17:04:37.339856",
     "status": "completed"
    },
    "tags": []
   },
   "outputs": [],
   "source": [
    "a = [\"swapna\",\"abhinav\"]"
   ]
  },
  {
   "cell_type": "code",
   "execution_count": 208,
   "id": "b737acda",
   "metadata": {
    "execution": {
     "iopub.execute_input": "2023-11-16T17:04:37.739858Z",
     "iopub.status.busy": "2023-11-16T17:04:37.739035Z",
     "iopub.status.idle": "2023-11-16T17:04:37.745502Z",
     "shell.execute_reply": "2023-11-16T17:04:37.744721Z"
    },
    "papermill": {
     "duration": 0.139667,
     "end_time": "2023-11-16T17:04:37.747398",
     "exception": false,
     "start_time": "2023-11-16T17:04:37.607731",
     "status": "completed"
    },
    "tags": []
   },
   "outputs": [
    {
     "data": {
      "text/plain": [
       "150"
      ]
     },
     "execution_count": 208,
     "metadata": {},
     "output_type": "execute_result"
    }
   ],
   "source": [
    "# reduce \n",
    "from functools import reduce\n",
    "\n",
    "a = [10,20,30,40,50]\n",
    "b = 0\n",
    "for i in a :\n",
    "    b = b + i\n",
    "    \n",
    "b"
   ]
  },
  {
   "cell_type": "code",
   "execution_count": 209,
   "id": "5a37ac5e",
   "metadata": {
    "execution": {
     "iopub.execute_input": "2023-11-16T17:04:38.062206Z",
     "iopub.status.busy": "2023-11-16T17:04:38.061289Z",
     "iopub.status.idle": "2023-11-16T17:04:38.068329Z",
     "shell.execute_reply": "2023-11-16T17:04:38.067413Z"
    },
    "papermill": {
     "duration": 0.14604,
     "end_time": "2023-11-16T17:04:38.070310",
     "exception": false,
     "start_time": "2023-11-16T17:04:37.924270",
     "status": "completed"
    },
    "tags": []
   },
   "outputs": [
    {
     "data": {
      "text/plain": [
       "150"
      ]
     },
     "execution_count": 209,
     "metadata": {},
     "output_type": "execute_result"
    }
   ],
   "source": [
    "\n",
    "c = [10,20,30,40,50]\n",
    "\n",
    "\n",
    "def add(p,q) :\n",
    "    return p + q\n",
    "# ini = 100 \n",
    "d = reduce(add,c)\n",
    "d"
   ]
  },
  {
   "cell_type": "code",
   "execution_count": 210,
   "id": "e36c3aeb",
   "metadata": {
    "execution": {
     "iopub.execute_input": "2023-11-16T17:04:38.343397Z",
     "iopub.status.busy": "2023-11-16T17:04:38.342657Z",
     "iopub.status.idle": "2023-11-16T17:04:38.349202Z",
     "shell.execute_reply": "2023-11-16T17:04:38.348294Z"
    },
    "papermill": {
     "duration": 0.141579,
     "end_time": "2023-11-16T17:04:38.351227",
     "exception": false,
     "start_time": "2023-11-16T17:04:38.209648",
     "status": "completed"
    },
    "tags": []
   },
   "outputs": [
    {
     "data": {
      "text/plain": [
       "50"
      ]
     },
     "execution_count": 210,
     "metadata": {},
     "output_type": "execute_result"
    }
   ],
   "source": [
    "c = [10,20,30,40,50]\n",
    "\n",
    "mx = c[0]\n",
    "for i in c :\n",
    "    if i > mx :\n",
    "        mx = i\n",
    "mx"
   ]
  },
  {
   "cell_type": "code",
   "execution_count": 211,
   "id": "d4db2876",
   "metadata": {
    "execution": {
     "iopub.execute_input": "2023-11-16T17:04:38.623661Z",
     "iopub.status.busy": "2023-11-16T17:04:38.622998Z",
     "iopub.status.idle": "2023-11-16T17:04:38.630217Z",
     "shell.execute_reply": "2023-11-16T17:04:38.629466Z"
    },
    "papermill": {
     "duration": 0.147104,
     "end_time": "2023-11-16T17:04:38.632509",
     "exception": false,
     "start_time": "2023-11-16T17:04:38.485405",
     "status": "completed"
    },
    "tags": []
   },
   "outputs": [
    {
     "data": {
      "text/plain": [
       "770"
      ]
     },
     "execution_count": 211,
     "metadata": {},
     "output_type": "execute_result"
    }
   ],
   "source": [
    "c = [10,770,30,40,50]\n",
    "ini = int(c[0])\n",
    "def maxx(p,q):\n",
    "    if p > q :\n",
    "        return p \n",
    "    else :\n",
    "        return q\n",
    "\n",
    "    \n",
    "        \n",
    "    \n",
    "# ini = c[0]\n",
    "d = reduce(maxx,c)\n",
    "d"
   ]
  },
  {
   "cell_type": "code",
   "execution_count": 212,
   "id": "7a45e65b",
   "metadata": {
    "execution": {
     "iopub.execute_input": "2023-11-16T17:04:38.896494Z",
     "iopub.status.busy": "2023-11-16T17:04:38.895884Z",
     "iopub.status.idle": "2023-11-16T17:04:38.902889Z",
     "shell.execute_reply": "2023-11-16T17:04:38.901986Z"
    },
    "papermill": {
     "duration": 0.142245,
     "end_time": "2023-11-16T17:04:38.904838",
     "exception": false,
     "start_time": "2023-11-16T17:04:38.762593",
     "status": "completed"
    },
    "tags": []
   },
   "outputs": [
    {
     "data": {
      "text/plain": [
       "'c001mlv c001prasad c001mentor'"
      ]
     },
     "execution_count": 212,
     "metadata": {},
     "output_type": "execute_result"
    }
   ],
   "source": [
    "d = [\"mlv\",\"prasad\",\"mentor\"]\n",
    "# d = [\"mlv prasad\",\"mentor\"]\n",
    "\n",
    "def con (p,q) :\n",
    "    if p != \"c001\":\n",
    "        return p + \" c001\" + q\n",
    "    else :\n",
    "        return p + q\n",
    "\n",
    "e = reduce(con, d,\"c001\")\n",
    "e"
   ]
  },
  {
   "cell_type": "code",
   "execution_count": 213,
   "id": "d1041587",
   "metadata": {
    "execution": {
     "iopub.execute_input": "2023-11-16T17:04:39.169843Z",
     "iopub.status.busy": "2023-11-16T17:04:39.169494Z",
     "iopub.status.idle": "2023-11-16T17:04:39.176228Z",
     "shell.execute_reply": "2023-11-16T17:04:39.175366Z"
    },
    "papermill": {
     "duration": 0.142663,
     "end_time": "2023-11-16T17:04:39.178365",
     "exception": false,
     "start_time": "2023-11-16T17:04:39.035702",
     "status": "completed"
    },
    "tags": []
   },
   "outputs": [
    {
     "data": {
      "text/plain": [
       "[10]"
      ]
     },
     "execution_count": 213,
     "metadata": {},
     "output_type": "execute_result"
    }
   ],
   "source": [
    "a = [10,29,32]\n",
    "\n",
    "b = list(filter( lambda x : x < 15  , a))\n",
    "b"
   ]
  },
  {
   "cell_type": "code",
   "execution_count": 214,
   "id": "dbc5db2d",
   "metadata": {
    "execution": {
     "iopub.execute_input": "2023-11-16T17:04:39.451481Z",
     "iopub.status.busy": "2023-11-16T17:04:39.450704Z",
     "iopub.status.idle": "2023-11-16T17:04:39.458066Z",
     "shell.execute_reply": "2023-11-16T17:04:39.457145Z"
    },
    "papermill": {
     "duration": 0.146843,
     "end_time": "2023-11-16T17:04:39.460192",
     "exception": false,
     "start_time": "2023-11-16T17:04:39.313349",
     "status": "completed"
    },
    "tags": []
   },
   "outputs": [
    {
     "data": {
      "text/plain": [
       "'mlv prasad mentor'"
      ]
     },
     "execution_count": 214,
     "metadata": {},
     "output_type": "execute_result"
    }
   ],
   "source": [
    "d = [\"mlv\",\"prasad\",\"mentor\"]\n",
    "e = reduce(lambda x,y : x + \" \" + y, d)\n",
    "e"
   ]
  },
  {
   "cell_type": "code",
   "execution_count": 215,
   "id": "8c0f9a2c",
   "metadata": {
    "execution": {
     "iopub.execute_input": "2023-11-16T17:04:39.753346Z",
     "iopub.status.busy": "2023-11-16T17:04:39.752980Z",
     "iopub.status.idle": "2023-11-16T17:04:39.760164Z",
     "shell.execute_reply": "2023-11-16T17:04:39.759227Z"
    },
    "papermill": {
     "duration": 0.154017,
     "end_time": "2023-11-16T17:04:39.762169",
     "exception": false,
     "start_time": "2023-11-16T17:04:39.608152",
     "status": "completed"
    },
    "tags": []
   },
   "outputs": [
    {
     "data": {
      "text/plain": [
       "[100, 625, 900, 1225, 2500]"
      ]
     },
     "execution_count": 215,
     "metadata": {},
     "output_type": "execute_result"
    }
   ],
   "source": [
    "#map\n",
    "\n",
    "a = [10,25,30,35,50]\n",
    "\n",
    "# fil  = [10,30,50]\n",
    "\n",
    "# reduce = one final ans \n",
    "\n",
    "#map - apply some function on all elememts\n",
    "\n",
    "\n",
    "b = []\n",
    "for i in a :\n",
    "    b.append(i**2)\n",
    "b\n",
    "\n"
   ]
  },
  {
   "cell_type": "code",
   "execution_count": 216,
   "id": "627cf367",
   "metadata": {
    "execution": {
     "iopub.execute_input": "2023-11-16T17:04:40.033246Z",
     "iopub.status.busy": "2023-11-16T17:04:40.032914Z",
     "iopub.status.idle": "2023-11-16T17:04:40.040154Z",
     "shell.execute_reply": "2023-11-16T17:04:40.039227Z"
    },
    "papermill": {
     "duration": 0.142406,
     "end_time": "2023-11-16T17:04:40.042165",
     "exception": false,
     "start_time": "2023-11-16T17:04:39.899759",
     "status": "completed"
    },
    "tags": []
   },
   "outputs": [
    {
     "data": {
      "text/plain": [
       "[100, 625, 900, 1225, 2500]"
      ]
     },
     "execution_count": 216,
     "metadata": {},
     "output_type": "execute_result"
    }
   ],
   "source": [
    "c = [10,25,30,35,50]\n",
    "def sq(x) :\n",
    "    return x**2\n",
    "d = list(map(sq, c))\n",
    "d"
   ]
  },
  {
   "cell_type": "code",
   "execution_count": 217,
   "id": "c9ef5d65",
   "metadata": {
    "execution": {
     "iopub.execute_input": "2023-11-16T17:04:40.313005Z",
     "iopub.status.busy": "2023-11-16T17:04:40.312323Z",
     "iopub.status.idle": "2023-11-16T17:04:40.319031Z",
     "shell.execute_reply": "2023-11-16T17:04:40.318170Z"
    },
    "papermill": {
     "duration": 0.142356,
     "end_time": "2023-11-16T17:04:40.320965",
     "exception": false,
     "start_time": "2023-11-16T17:04:40.178609",
     "status": "completed"
    },
    "tags": []
   },
   "outputs": [
    {
     "data": {
      "text/plain": [
       "[100, 625, 900, 1225, 2500]"
      ]
     },
     "execution_count": 217,
     "metadata": {},
     "output_type": "execute_result"
    }
   ],
   "source": [
    "c = [10,25,30,35,50]\n",
    "\n",
    "d = list(map(lambda i : i **2 , c))\n",
    "d"
   ]
  },
  {
   "cell_type": "code",
   "execution_count": 218,
   "id": "41f4cc59",
   "metadata": {
    "execution": {
     "iopub.execute_input": "2023-11-16T17:04:40.632626Z",
     "iopub.status.busy": "2023-11-16T17:04:40.632002Z",
     "iopub.status.idle": "2023-11-16T17:04:40.638299Z",
     "shell.execute_reply": "2023-11-16T17:04:40.637465Z"
    },
    "papermill": {
     "duration": 0.138975,
     "end_time": "2023-11-16T17:04:40.640063",
     "exception": false,
     "start_time": "2023-11-16T17:04:40.501088",
     "status": "completed"
    },
    "tags": []
   },
   "outputs": [
    {
     "data": {
      "text/plain": [
       "['swapna', 'sush']"
      ]
     },
     "execution_count": 218,
     "metadata": {},
     "output_type": "execute_result"
    }
   ],
   "source": [
    "a = [\"swapna\",\"sush\",\"ghosh\"]\n",
    "b = list(filter(lambda x : x[0]==\"s\",a))\n",
    "b"
   ]
  },
  {
   "cell_type": "code",
   "execution_count": 219,
   "id": "f378eda3",
   "metadata": {
    "execution": {
     "iopub.execute_input": "2023-11-16T17:04:40.907232Z",
     "iopub.status.busy": "2023-11-16T17:04:40.906411Z",
     "iopub.status.idle": "2023-11-16T17:04:40.913088Z",
     "shell.execute_reply": "2023-11-16T17:04:40.912289Z"
    },
    "papermill": {
     "duration": 0.141029,
     "end_time": "2023-11-16T17:04:40.915001",
     "exception": false,
     "start_time": "2023-11-16T17:04:40.773972",
     "status": "completed"
    },
    "tags": []
   },
   "outputs": [
    {
     "data": {
      "text/plain": [
       "['student swapna', 'student sush', 'student ghosh']"
      ]
     },
     "execution_count": 219,
     "metadata": {},
     "output_type": "execute_result"
    }
   ],
   "source": [
    "a = [\"swapna\",\"sush\",\"ghosh\"]\n",
    "b = list(map(lambda i : \"student \"+ i,a))\n",
    "b"
   ]
  },
  {
   "cell_type": "code",
   "execution_count": 220,
   "id": "403a31ed",
   "metadata": {
    "execution": {
     "iopub.execute_input": "2023-11-16T17:04:41.196296Z",
     "iopub.status.busy": "2023-11-16T17:04:41.195656Z",
     "iopub.status.idle": "2023-11-16T17:04:41.203269Z",
     "shell.execute_reply": "2023-11-16T17:04:41.202140Z"
    },
    "papermill": {
     "duration": 0.150299,
     "end_time": "2023-11-16T17:04:41.205346",
     "exception": false,
     "start_time": "2023-11-16T17:04:41.055047",
     "status": "completed"
    },
    "tags": []
   },
   "outputs": [
    {
     "data": {
      "text/plain": [
       "[('swapna', 100), ('prasad', 200), ('ghosh', 300)]"
      ]
     },
     "execution_count": 220,
     "metadata": {},
     "output_type": "execute_result"
    }
   ],
   "source": [
    "a = [\"swapna\",\"prasad\",\"ghosh\"]\n",
    "b = [100,200,300]\n",
    "\n",
    "\n",
    "c = [  ( a[i] , b[i]) for i in range(len(a))]\n",
    "c"
   ]
  },
  {
   "cell_type": "code",
   "execution_count": 221,
   "id": "d068d53f",
   "metadata": {
    "execution": {
     "iopub.execute_input": "2023-11-16T17:04:41.495241Z",
     "iopub.status.busy": "2023-11-16T17:04:41.494629Z",
     "iopub.status.idle": "2023-11-16T17:04:41.499720Z",
     "shell.execute_reply": "2023-11-16T17:04:41.498863Z"
    },
    "papermill": {
     "duration": 0.151125,
     "end_time": "2023-11-16T17:04:41.502211",
     "exception": false,
     "start_time": "2023-11-16T17:04:41.351086",
     "status": "completed"
    },
    "tags": []
   },
   "outputs": [
    {
     "name": "stdout",
     "output_type": "stream",
     "text": [
      "swapna 100\n",
      "prasad 200\n",
      "ghosh 300\n"
     ]
    }
   ],
   "source": [
    "for i in range(len(a) ) :\n",
    "    print(a[i],b[i])\n",
    "    "
   ]
  },
  {
   "cell_type": "code",
   "execution_count": 222,
   "id": "bbcec4cc",
   "metadata": {
    "execution": {
     "iopub.execute_input": "2023-11-16T17:04:41.774759Z",
     "iopub.status.busy": "2023-11-16T17:04:41.774408Z",
     "iopub.status.idle": "2023-11-16T17:04:41.779358Z",
     "shell.execute_reply": "2023-11-16T17:04:41.778611Z"
    },
    "papermill": {
     "duration": 0.139947,
     "end_time": "2023-11-16T17:04:41.781553",
     "exception": false,
     "start_time": "2023-11-16T17:04:41.641606",
     "status": "completed"
    },
    "tags": []
   },
   "outputs": [
    {
     "name": "stdout",
     "output_type": "stream",
     "text": [
      "('swapna', 100) --\n",
      "('prasad', 200) --\n",
      "('ghosh', 300) --\n"
     ]
    }
   ],
   "source": [
    "for i in zip(a,b) :\n",
    "    print(i,\"--\")"
   ]
  },
  {
   "cell_type": "code",
   "execution_count": 223,
   "id": "14e807b4",
   "metadata": {
    "execution": {
     "iopub.execute_input": "2023-11-16T17:04:42.051182Z",
     "iopub.status.busy": "2023-11-16T17:04:42.050602Z",
     "iopub.status.idle": "2023-11-16T17:04:42.055810Z",
     "shell.execute_reply": "2023-11-16T17:04:42.054815Z"
    },
    "papermill": {
     "duration": 0.145389,
     "end_time": "2023-11-16T17:04:42.058270",
     "exception": false,
     "start_time": "2023-11-16T17:04:41.912881",
     "status": "completed"
    },
    "tags": []
   },
   "outputs": [
    {
     "name": "stdout",
     "output_type": "stream",
     "text": [
      "swapna -- 100\n",
      "prasad -- 200\n",
      "ghosh -- 300\n"
     ]
    }
   ],
   "source": [
    "for i,j in zip(a,b) :\n",
    "    print(i,\"--\",j)"
   ]
  },
  {
   "cell_type": "code",
   "execution_count": 224,
   "id": "d76af4c7",
   "metadata": {
    "execution": {
     "iopub.execute_input": "2023-11-16T17:04:42.340113Z",
     "iopub.status.busy": "2023-11-16T17:04:42.339719Z",
     "iopub.status.idle": "2023-11-16T17:04:42.346845Z",
     "shell.execute_reply": "2023-11-16T17:04:42.345809Z"
    },
    "papermill": {
     "duration": 0.144592,
     "end_time": "2023-11-16T17:04:42.348883",
     "exception": false,
     "start_time": "2023-11-16T17:04:42.204291",
     "status": "completed"
    },
    "tags": []
   },
   "outputs": [
    {
     "data": {
      "text/plain": [
       "[('swapna', 100, 1)]"
      ]
     },
     "execution_count": 224,
     "metadata": {},
     "output_type": "execute_result"
    }
   ],
   "source": [
    "a = [\"swapna\"]\n",
    "b = [100,200,300]\n",
    "c= [1,2]\n",
    "\n",
    "\n",
    "c = list(zip(a,b,c))\n",
    "c"
   ]
  },
  {
   "cell_type": "code",
   "execution_count": 225,
   "id": "1e54d1fb",
   "metadata": {
    "execution": {
     "iopub.execute_input": "2023-11-16T17:04:42.616724Z",
     "iopub.status.busy": "2023-11-16T17:04:42.616223Z",
     "iopub.status.idle": "2023-11-16T17:04:42.622367Z",
     "shell.execute_reply": "2023-11-16T17:04:42.621363Z"
    },
    "papermill": {
     "duration": 0.141999,
     "end_time": "2023-11-16T17:04:42.624593",
     "exception": false,
     "start_time": "2023-11-16T17:04:42.482594",
     "status": "completed"
    },
    "tags": []
   },
   "outputs": [
    {
     "name": "stdout",
     "output_type": "stream",
     "text": [
      "yes\n"
     ]
    }
   ],
   "source": [
    "a = \"malayalam\"\n",
    "b = a[::-1]\n",
    "b\n",
    "\n",
    "if a == b :\n",
    "    print(\"yes\")\n",
    "else :\n",
    "    print(\"no\")"
   ]
  },
  {
   "cell_type": "code",
   "execution_count": null,
   "id": "269dca74",
   "metadata": {
    "papermill": {
     "duration": 0.133002,
     "end_time": "2023-11-16T17:04:42.890895",
     "exception": false,
     "start_time": "2023-11-16T17:04:42.757893",
     "status": "completed"
    },
    "tags": []
   },
   "outputs": [],
   "source": []
  },
  {
   "cell_type": "code",
   "execution_count": 226,
   "id": "7d7ae974",
   "metadata": {
    "execution": {
     "iopub.execute_input": "2023-11-16T17:04:43.156624Z",
     "iopub.status.busy": "2023-11-16T17:04:43.155750Z",
     "iopub.status.idle": "2023-11-16T17:04:43.161521Z",
     "shell.execute_reply": "2023-11-16T17:04:43.160683Z"
    },
    "papermill": {
     "duration": 0.139749,
     "end_time": "2023-11-16T17:04:43.163394",
     "exception": false,
     "start_time": "2023-11-16T17:04:43.023645",
     "status": "completed"
    },
    "tags": []
   },
   "outputs": [],
   "source": [
    "class BluePrint() :\n",
    "    \n",
    "    def __init__ (self,a ): # constructor\n",
    "        self.b = a + 100\n",
    "        self.designed = \"mlv prasad\"\n",
    "        self.country  = \"india\"\n",
    "        \n",
    "\n",
    "\n",
    "    \n",
    "\n",
    "    def color(self):\n",
    "#         b = self.designed\n",
    "        return f\"home is designed by {self.designed} for  and is 100 ft and color \"\n",
    "\n",
    "    def interior(self):\n",
    "        return \"home is italian \"\n",
    "    \n",
    "ghosh = BluePrint(100.5)\n",
    "# int(ghosh)"
   ]
  },
  {
   "cell_type": "code",
   "execution_count": 227,
   "id": "78cfad02",
   "metadata": {
    "execution": {
     "iopub.execute_input": "2023-11-16T17:04:43.479595Z",
     "iopub.status.busy": "2023-11-16T17:04:43.478807Z",
     "iopub.status.idle": "2023-11-16T17:04:43.483001Z",
     "shell.execute_reply": "2023-11-16T17:04:43.482163Z"
    },
    "papermill": {
     "duration": 0.142813,
     "end_time": "2023-11-16T17:04:43.484950",
     "exception": false,
     "start_time": "2023-11-16T17:04:43.342137",
     "status": "completed"
    },
    "tags": []
   },
   "outputs": [],
   "source": [
    "# swapna = BluePrint()\n",
    "# swapna.color()"
   ]
  },
  {
   "cell_type": "code",
   "execution_count": 228,
   "id": "c6667b2e",
   "metadata": {
    "execution": {
     "iopub.execute_input": "2023-11-16T17:04:43.761214Z",
     "iopub.status.busy": "2023-11-16T17:04:43.760303Z",
     "iopub.status.idle": "2023-11-16T17:04:43.766290Z",
     "shell.execute_reply": "2023-11-16T17:04:43.765447Z"
    },
    "papermill": {
     "duration": 0.148095,
     "end_time": "2023-11-16T17:04:43.768388",
     "exception": false,
     "start_time": "2023-11-16T17:04:43.620293",
     "status": "completed"
    },
    "tags": []
   },
   "outputs": [
    {
     "data": {
      "text/plain": [
       "'9'"
      ]
     },
     "execution_count": 228,
     "metadata": {},
     "output_type": "execute_result"
    }
   ],
   "source": [
    "a = 9\n",
    "b = str(a)\n",
    "b"
   ]
  },
  {
   "cell_type": "code",
   "execution_count": 229,
   "id": "bfa4817a",
   "metadata": {
    "execution": {
     "iopub.execute_input": "2023-11-16T17:04:44.035688Z",
     "iopub.status.busy": "2023-11-16T17:04:44.034792Z",
     "iopub.status.idle": "2023-11-16T17:04:44.043287Z",
     "shell.execute_reply": "2023-11-16T17:04:44.042472Z"
    },
    "papermill": {
     "duration": 0.144532,
     "end_time": "2023-11-16T17:04:44.045302",
     "exception": false,
     "start_time": "2023-11-16T17:04:43.900770",
     "status": "completed"
    },
    "tags": []
   },
   "outputs": [
    {
     "data": {
      "text/plain": [
       "0"
      ]
     },
     "execution_count": 229,
     "metadata": {},
     "output_type": "execute_result"
    }
   ],
   "source": [
    "class Student() :\n",
    "    \n",
    "    def __init__(self,name,age):\n",
    "        self.studname = f\"the student name is {name}\"\n",
    "        self.studage = f\"the student age is {age}\"\n",
    "        self.courses= []\n",
    "    \n",
    "    def enroll(self, course= 0 ) :\n",
    "        self.courses.append(course)\n",
    "        \n",
    "    def total_course(self):\n",
    "        return len(self.courses)\n",
    "    \n",
    "    \n",
    "    \n",
    "joy =  Student(\"joyce\",\"30\")\n",
    "joy.total_course()\n",
    "\n",
    "\n",
    "\n"
   ]
  },
  {
   "cell_type": "code",
   "execution_count": 230,
   "id": "3ad39539",
   "metadata": {
    "execution": {
     "iopub.execute_input": "2023-11-16T17:04:44.319697Z",
     "iopub.status.busy": "2023-11-16T17:04:44.318992Z",
     "iopub.status.idle": "2023-11-16T17:04:44.324951Z",
     "shell.execute_reply": "2023-11-16T17:04:44.324075Z"
    },
    "papermill": {
     "duration": 0.147033,
     "end_time": "2023-11-16T17:04:44.326811",
     "exception": false,
     "start_time": "2023-11-16T17:04:44.179778",
     "status": "completed"
    },
    "tags": []
   },
   "outputs": [
    {
     "data": {
      "text/plain": [
       "[]"
      ]
     },
     "execution_count": 230,
     "metadata": {},
     "output_type": "execute_result"
    }
   ],
   "source": [
    "sw = Student(\"swapna\",\"35\")\n",
    "sw.courses"
   ]
  },
  {
   "cell_type": "code",
   "execution_count": 231,
   "id": "7e0520bd",
   "metadata": {
    "execution": {
     "iopub.execute_input": "2023-11-16T17:04:44.601866Z",
     "iopub.status.busy": "2023-11-16T17:04:44.601237Z",
     "iopub.status.idle": "2023-11-16T17:04:44.606805Z",
     "shell.execute_reply": "2023-11-16T17:04:44.605990Z"
    },
    "papermill": {
     "duration": 0.143264,
     "end_time": "2023-11-16T17:04:44.608788",
     "exception": false,
     "start_time": "2023-11-16T17:04:44.465524",
     "status": "completed"
    },
    "tags": []
   },
   "outputs": [
    {
     "data": {
      "text/plain": [
       "[]"
      ]
     },
     "execution_count": 231,
     "metadata": {},
     "output_type": "execute_result"
    }
   ],
   "source": [
    "joy.courses\n",
    "\n",
    "# joy.enroll(\"sql\")"
   ]
  },
  {
   "cell_type": "code",
   "execution_count": 232,
   "id": "2fdd38b9",
   "metadata": {
    "execution": {
     "iopub.execute_input": "2023-11-16T17:04:44.876848Z",
     "iopub.status.busy": "2023-11-16T17:04:44.876171Z",
     "iopub.status.idle": "2023-11-16T17:04:44.880364Z",
     "shell.execute_reply": "2023-11-16T17:04:44.879557Z"
    },
    "papermill": {
     "duration": 0.140091,
     "end_time": "2023-11-16T17:04:44.882198",
     "exception": false,
     "start_time": "2023-11-16T17:04:44.742107",
     "status": "completed"
    },
    "tags": []
   },
   "outputs": [],
   "source": [
    "sw.enroll(\"sql\")"
   ]
  },
  {
   "cell_type": "code",
   "execution_count": 233,
   "id": "9b65ee72",
   "metadata": {
    "execution": {
     "iopub.execute_input": "2023-11-16T17:04:45.151521Z",
     "iopub.status.busy": "2023-11-16T17:04:45.150586Z",
     "iopub.status.idle": "2023-11-16T17:04:45.156568Z",
     "shell.execute_reply": "2023-11-16T17:04:45.155636Z"
    },
    "papermill": {
     "duration": 0.141106,
     "end_time": "2023-11-16T17:04:45.158521",
     "exception": false,
     "start_time": "2023-11-16T17:04:45.017415",
     "status": "completed"
    },
    "tags": []
   },
   "outputs": [
    {
     "data": {
      "text/plain": [
       "[]"
      ]
     },
     "execution_count": 233,
     "metadata": {},
     "output_type": "execute_result"
    }
   ],
   "source": [
    "joy.courses"
   ]
  },
  {
   "cell_type": "code",
   "execution_count": 234,
   "id": "7b0077c4",
   "metadata": {
    "execution": {
     "iopub.execute_input": "2023-11-16T17:04:45.428221Z",
     "iopub.status.busy": "2023-11-16T17:04:45.427362Z",
     "iopub.status.idle": "2023-11-16T17:04:45.431798Z",
     "shell.execute_reply": "2023-11-16T17:04:45.430957Z"
    },
    "papermill": {
     "duration": 0.141947,
     "end_time": "2023-11-16T17:04:45.433772",
     "exception": false,
     "start_time": "2023-11-16T17:04:45.291825",
     "status": "completed"
    },
    "tags": []
   },
   "outputs": [],
   "source": [
    "joy.enroll(\"python\")"
   ]
  },
  {
   "cell_type": "code",
   "execution_count": 235,
   "id": "ede96d57",
   "metadata": {
    "execution": {
     "iopub.execute_input": "2023-11-16T17:04:45.703890Z",
     "iopub.status.busy": "2023-11-16T17:04:45.703548Z",
     "iopub.status.idle": "2023-11-16T17:04:45.709057Z",
     "shell.execute_reply": "2023-11-16T17:04:45.708220Z"
    },
    "papermill": {
     "duration": 0.141663,
     "end_time": "2023-11-16T17:04:45.711044",
     "exception": false,
     "start_time": "2023-11-16T17:04:45.569381",
     "status": "completed"
    },
    "tags": []
   },
   "outputs": [
    {
     "data": {
      "text/plain": [
       "['python']"
      ]
     },
     "execution_count": 235,
     "metadata": {},
     "output_type": "execute_result"
    }
   ],
   "source": [
    "joy.courses"
   ]
  },
  {
   "cell_type": "code",
   "execution_count": 236,
   "id": "2e143cce",
   "metadata": {
    "execution": {
     "iopub.execute_input": "2023-11-16T17:04:45.979150Z",
     "iopub.status.busy": "2023-11-16T17:04:45.978507Z",
     "iopub.status.idle": "2023-11-16T17:04:45.984335Z",
     "shell.execute_reply": "2023-11-16T17:04:45.983419Z"
    },
    "papermill": {
     "duration": 0.141484,
     "end_time": "2023-11-16T17:04:45.986677",
     "exception": false,
     "start_time": "2023-11-16T17:04:45.845193",
     "status": "completed"
    },
    "tags": []
   },
   "outputs": [
    {
     "data": {
      "text/plain": [
       "1"
      ]
     },
     "execution_count": 236,
     "metadata": {},
     "output_type": "execute_result"
    }
   ],
   "source": [
    "joy.total_course()"
   ]
  },
  {
   "cell_type": "code",
   "execution_count": 237,
   "id": "be666638",
   "metadata": {
    "execution": {
     "iopub.execute_input": "2023-11-16T17:04:46.305749Z",
     "iopub.status.busy": "2023-11-16T17:04:46.305095Z",
     "iopub.status.idle": "2023-11-16T17:04:46.310626Z",
     "shell.execute_reply": "2023-11-16T17:04:46.309871Z"
    },
    "papermill": {
     "duration": 0.191375,
     "end_time": "2023-11-16T17:04:46.312540",
     "exception": false,
     "start_time": "2023-11-16T17:04:46.121165",
     "status": "completed"
    },
    "tags": []
   },
   "outputs": [
    {
     "data": {
      "text/plain": [
       "['sql']"
      ]
     },
     "execution_count": 237,
     "metadata": {},
     "output_type": "execute_result"
    }
   ],
   "source": [
    "sw.courses"
   ]
  },
  {
   "cell_type": "code",
   "execution_count": 238,
   "id": "20dd933f",
   "metadata": {
    "execution": {
     "iopub.execute_input": "2023-11-16T17:04:46.587365Z",
     "iopub.status.busy": "2023-11-16T17:04:46.586664Z",
     "iopub.status.idle": "2023-11-16T17:04:46.592353Z",
     "shell.execute_reply": "2023-11-16T17:04:46.591500Z"
    },
    "papermill": {
     "duration": 0.146372,
     "end_time": "2023-11-16T17:04:46.594416",
     "exception": false,
     "start_time": "2023-11-16T17:04:46.448044",
     "status": "completed"
    },
    "tags": []
   },
   "outputs": [
    {
     "data": {
      "text/plain": [
       "1"
      ]
     },
     "execution_count": 238,
     "metadata": {},
     "output_type": "execute_result"
    }
   ],
   "source": [
    "sw.total_course()"
   ]
  },
  {
   "cell_type": "code",
   "execution_count": 239,
   "id": "6008c778",
   "metadata": {
    "execution": {
     "iopub.execute_input": "2023-11-16T17:04:46.865319Z",
     "iopub.status.busy": "2023-11-16T17:04:46.864975Z",
     "iopub.status.idle": "2023-11-16T17:04:46.872146Z",
     "shell.execute_reply": "2023-11-16T17:04:46.871253Z"
    },
    "papermill": {
     "duration": 0.14335,
     "end_time": "2023-11-16T17:04:46.874101",
     "exception": false,
     "start_time": "2023-11-16T17:04:46.730751",
     "status": "completed"
    },
    "tags": []
   },
   "outputs": [
    {
     "name": "stdout",
     "output_type": "stream",
     "text": [
      "the owner brand is TYT and number of doors is 6\n"
     ]
    }
   ],
   "source": [
    "class Vehicle :\n",
    "    \n",
    "    def __init__ (self,brand,model ):\n",
    "        self.brand = brand\n",
    "        self.model = model\n",
    "        \n",
    "    def info(self):\n",
    "        return f\"the owner brand is {self.brand}\"\n",
    "    \n",
    "    \n",
    "    \n",
    "class Toyato(Vehicle):\n",
    "    def __init__(self,brand,model,doors) : \n",
    "        super().__init__(brand,model)\n",
    "        self.doors= doors\n",
    "    def info(self):\n",
    "        return f\"{super().info()} and number of doors is {self.doors}\"\n",
    "    \n",
    "swapna = Toyato(\"TYT\",\"fortuner\",6)\n",
    "\n",
    "print(swapna.info())\n"
   ]
  },
  {
   "cell_type": "code",
   "execution_count": 240,
   "id": "b905ebb1",
   "metadata": {
    "execution": {
     "iopub.execute_input": "2023-11-16T17:04:47.143846Z",
     "iopub.status.busy": "2023-11-16T17:04:47.143180Z",
     "iopub.status.idle": "2023-11-16T17:04:47.149064Z",
     "shell.execute_reply": "2023-11-16T17:04:47.148154Z"
    },
    "papermill": {
     "duration": 0.143459,
     "end_time": "2023-11-16T17:04:47.150990",
     "exception": false,
     "start_time": "2023-11-16T17:04:47.007531",
     "status": "completed"
    },
    "tags": []
   },
   "outputs": [
    {
     "name": "stdout",
     "output_type": "stream",
     "text": [
      "1\n",
      "1\n",
      "2\n",
      "3\n",
      "5\n",
      "8\n",
      "13\n",
      "21\n",
      "34\n",
      "55\n",
      "89\n",
      "144\n",
      "233\n"
     ]
    }
   ],
   "source": [
    "def fibonaci ()  :\n",
    "    a,b = 1,1\n",
    "    while True :\n",
    "        yield a \n",
    "        a,b = b, a+b # 2 3 \n",
    "        \n",
    "joy =  fibonaci()\n",
    "for i in range(13) :\n",
    "    print(next(joy))"
   ]
  },
  {
   "cell_type": "code",
   "execution_count": 241,
   "id": "2458f09f",
   "metadata": {
    "execution": {
     "iopub.execute_input": "2023-11-16T17:04:47.420759Z",
     "iopub.status.busy": "2023-11-16T17:04:47.420176Z",
     "iopub.status.idle": "2023-11-16T17:04:47.424048Z",
     "shell.execute_reply": "2023-11-16T17:04:47.423196Z"
    },
    "papermill": {
     "duration": 0.140338,
     "end_time": "2023-11-16T17:04:47.425968",
     "exception": false,
     "start_time": "2023-11-16T17:04:47.285630",
     "status": "completed"
    },
    "tags": []
   },
   "outputs": [],
   "source": [
    "#poly morphism"
   ]
  },
  {
   "cell_type": "code",
   "execution_count": 242,
   "id": "6fefe1ba",
   "metadata": {
    "execution": {
     "iopub.execute_input": "2023-11-16T17:04:47.699019Z",
     "iopub.status.busy": "2023-11-16T17:04:47.698272Z",
     "iopub.status.idle": "2023-11-16T17:04:47.706278Z",
     "shell.execute_reply": "2023-11-16T17:04:47.704856Z"
    },
    "papermill": {
     "duration": 0.150094,
     "end_time": "2023-11-16T17:04:47.708713",
     "exception": false,
     "start_time": "2023-11-16T17:04:47.558619",
     "status": "completed"
    },
    "tags": []
   },
   "outputs": [
    {
     "name": "stdout",
     "output_type": "stream",
     "text": [
      "catty\n",
      "doggy\n"
     ]
    }
   ],
   "source": [
    "class Animal() :\n",
    "    def speak(self) :\n",
    "        pass\n",
    "class Dog(Animal) :\n",
    "    def speak(self) :\n",
    "        return \"doggy\"\n",
    "class Cat(Animal) :\n",
    "    def speak( self) :\n",
    "        return \"catty\"\n",
    "    \n",
    "def sound(Animal) :\n",
    "    return    Animal.speak()\n",
    "\n",
    "dog = Dog()\n",
    "cat = Cat()\n",
    "\n",
    "print(sound(cat))\n",
    "print(sound(dog))"
   ]
  },
  {
   "cell_type": "code",
   "execution_count": 243,
   "id": "c1b303b2",
   "metadata": {
    "execution": {
     "iopub.execute_input": "2023-11-16T17:04:47.977664Z",
     "iopub.status.busy": "2023-11-16T17:04:47.977242Z",
     "iopub.status.idle": "2023-11-16T17:04:47.985168Z",
     "shell.execute_reply": "2023-11-16T17:04:47.984168Z"
    },
    "papermill": {
     "duration": 0.142263,
     "end_time": "2023-11-16T17:04:47.987019",
     "exception": false,
     "start_time": "2023-11-16T17:04:47.844756",
     "status": "completed"
    },
    "tags": []
   },
   "outputs": [
    {
     "name": "stdout",
     "output_type": "stream",
     "text": [
      "swa\n",
      "300\n",
      "ghosh\n",
      "300\n"
     ]
    }
   ],
   "source": [
    "class Student :\n",
    "    def __init__(self, name, rno) :\n",
    "        self.a = 10\n",
    "        self.__name = name\n",
    "        self._roll_no = rno\n",
    "        \n",
    "    def getname (self) :\n",
    "        return self.__name\n",
    "    def setname(self,name ) :\n",
    "        if len(name) >= 3 :\n",
    "            self.__name = name\n",
    "        else :\n",
    "            print(\"Name is too shot\")\n",
    "        \n",
    "    def display(self) :\n",
    "        print(self.__name)\n",
    "        print(self._roll_no)\n",
    "        \n",
    "swapna = Student(\"swa\",300)\n",
    "swapna.display()\n",
    "swapna.setname(\"ghosh\")\n",
    "swapna.display()\n"
   ]
  },
  {
   "cell_type": "code",
   "execution_count": 244,
   "id": "263e3e2e",
   "metadata": {
    "execution": {
     "iopub.execute_input": "2023-11-16T17:04:48.256449Z",
     "iopub.status.busy": "2023-11-16T17:04:48.255724Z",
     "iopub.status.idle": "2023-11-16T17:04:48.261495Z",
     "shell.execute_reply": "2023-11-16T17:04:48.260623Z"
    },
    "papermill": {
     "duration": 0.143661,
     "end_time": "2023-11-16T17:04:48.263507",
     "exception": false,
     "start_time": "2023-11-16T17:04:48.119846",
     "status": "completed"
    },
    "tags": []
   },
   "outputs": [
    {
     "data": {
      "text/plain": [
       "10"
      ]
     },
     "execution_count": 244,
     "metadata": {},
     "output_type": "execute_result"
    }
   ],
   "source": [
    "# swapna.__name\n",
    "swapna.a"
   ]
  },
  {
   "cell_type": "code",
   "execution_count": 245,
   "id": "938e547f",
   "metadata": {
    "execution": {
     "iopub.execute_input": "2023-11-16T17:04:48.534634Z",
     "iopub.status.busy": "2023-11-16T17:04:48.534266Z",
     "iopub.status.idle": "2023-11-16T17:04:48.538624Z",
     "shell.execute_reply": "2023-11-16T17:04:48.537710Z"
    },
    "papermill": {
     "duration": 0.143415,
     "end_time": "2023-11-16T17:04:48.540619",
     "exception": false,
     "start_time": "2023-11-16T17:04:48.397204",
     "status": "completed"
    },
    "tags": []
   },
   "outputs": [],
   "source": [
    "# ##### Write a Python program that accepts a sequence of c\n",
    "# # omma-separated numbers from the user and generates a list and a tuple of those numbers.\n",
    "# # Sample data : 3, 5, 7, 23\n",
    "# ls = []\n",
    "# for i in range(4):\n",
    "#     a =int(input())\n",
    "#     ls.append(a)\n",
    "# print(f\"the required answer is {ls} and {tuple(ls)}\")"
   ]
  },
  {
   "cell_type": "code",
   "execution_count": 246,
   "id": "9d42677d",
   "metadata": {
    "execution": {
     "iopub.execute_input": "2023-11-16T17:04:48.857006Z",
     "iopub.status.busy": "2023-11-16T17:04:48.856668Z",
     "iopub.status.idle": "2023-11-16T17:04:48.860718Z",
     "shell.execute_reply": "2023-11-16T17:04:48.859956Z"
    },
    "papermill": {
     "duration": 0.141615,
     "end_time": "2023-11-16T17:04:48.862806",
     "exception": false,
     "start_time": "2023-11-16T17:04:48.721191",
     "status": "completed"
    },
    "tags": []
   },
   "outputs": [],
   "source": [
    "# Write a Python program to display the examination schedule. \n",
    "# (extract the date from exam_st_date).\n",
    "# exam_st_date = (11, 12, 2014)\n",
    "# Sample Output : The examination will start from : 11 / 12 / 2014"
   ]
  },
  {
   "cell_type": "code",
   "execution_count": 247,
   "id": "7d7b5d2e",
   "metadata": {
    "execution": {
     "iopub.execute_input": "2023-11-16T17:04:49.130089Z",
     "iopub.status.busy": "2023-11-16T17:04:49.129747Z",
     "iopub.status.idle": "2023-11-16T17:04:49.134964Z",
     "shell.execute_reply": "2023-11-16T17:04:49.134203Z"
    },
    "papermill": {
     "duration": 0.140898,
     "end_time": "2023-11-16T17:04:49.137093",
     "exception": false,
     "start_time": "2023-11-16T17:04:48.996195",
     "status": "completed"
    },
    "tags": []
   },
   "outputs": [
    {
     "name": "stdout",
     "output_type": "stream",
     "text": [
      "The examination will start from : 6/5/ 2023\n"
     ]
    }
   ],
   "source": [
    "exam_st_date = (6, 5, 2023)\n",
    "for i in range(1):\n",
    "    print(f\"The examination will start from : {exam_st_date[i] }/{ exam_st_date[i+1] }/ {exam_st_date[i+2]}\")"
   ]
  },
  {
   "cell_type": "code",
   "execution_count": 248,
   "id": "090748a8",
   "metadata": {
    "execution": {
     "iopub.execute_input": "2023-11-16T17:04:49.408388Z",
     "iopub.status.busy": "2023-11-16T17:04:49.407971Z",
     "iopub.status.idle": "2023-11-16T17:04:49.413521Z",
     "shell.execute_reply": "2023-11-16T17:04:49.412683Z"
    },
    "papermill": {
     "duration": 0.144396,
     "end_time": "2023-11-16T17:04:49.416359",
     "exception": false,
     "start_time": "2023-11-16T17:04:49.271963",
     "status": "completed"
    },
    "tags": []
   },
   "outputs": [
    {
     "name": "stdout",
     "output_type": "stream",
     "text": [
      "score of a is 10 score of b is  20\n",
      "score of a is 10 score of b is 20\n"
     ]
    }
   ],
   "source": [
    "a = 10\n",
    "b = 20\n",
    "\n",
    "print(\"score of a is\",a, \"score of b is \",b)\n",
    "print(f\"score of a is {a} score of b is {b}\")"
   ]
  },
  {
   "cell_type": "code",
   "execution_count": 249,
   "id": "c45d9101",
   "metadata": {
    "execution": {
     "iopub.execute_input": "2023-11-16T17:04:49.688866Z",
     "iopub.status.busy": "2023-11-16T17:04:49.688050Z",
     "iopub.status.idle": "2023-11-16T17:04:49.692126Z",
     "shell.execute_reply": "2023-11-16T17:04:49.691287Z"
    },
    "papermill": {
     "duration": 0.142379,
     "end_time": "2023-11-16T17:04:49.693938",
     "exception": false,
     "start_time": "2023-11-16T17:04:49.551559",
     "status": "completed"
    },
    "tags": []
   },
   "outputs": [],
   "source": [
    "# # Sample data : 3, 5, 7, 23\n",
    "# ls = []\n",
    "# for i in range(1):\n",
    "#     a =input()\n",
    "#     ls.append(a)\n",
    "# print(f\"the required answer is {ls} and {tuple(ls)}\")"
   ]
  },
  {
   "cell_type": "code",
   "execution_count": 250,
   "id": "4d2f8ecf",
   "metadata": {
    "execution": {
     "iopub.execute_input": "2023-11-16T17:04:49.964749Z",
     "iopub.status.busy": "2023-11-16T17:04:49.964404Z",
     "iopub.status.idle": "2023-11-16T17:04:49.970240Z",
     "shell.execute_reply": "2023-11-16T17:04:49.969418Z"
    },
    "papermill": {
     "duration": 0.144145,
     "end_time": "2023-11-16T17:04:49.972263",
     "exception": false,
     "start_time": "2023-11-16T17:04:49.828118",
     "status": "completed"
    },
    "tags": []
   },
   "outputs": [
    {
     "data": {
      "text/plain": [
       "['my name ', ' mlv prasad and ', ' am a good boy']"
      ]
     },
     "execution_count": 250,
     "metadata": {},
     "output_type": "execute_result"
    }
   ],
   "source": [
    "a = \"my name is mlv prasad and is am a good boy\"\n",
    "b = a.split(\"is\")\n",
    "b"
   ]
  },
  {
   "cell_type": "code",
   "execution_count": 251,
   "id": "a3207fa0",
   "metadata": {
    "execution": {
     "iopub.execute_input": "2023-11-16T17:04:50.247050Z",
     "iopub.status.busy": "2023-11-16T17:04:50.246258Z",
     "iopub.status.idle": "2023-11-16T17:04:50.251453Z",
     "shell.execute_reply": "2023-11-16T17:04:50.250584Z"
    },
    "papermill": {
     "duration": 0.14278,
     "end_time": "2023-11-16T17:04:50.253683",
     "exception": false,
     "start_time": "2023-11-16T17:04:50.110903",
     "status": "completed"
    },
    "tags": []
   },
   "outputs": [
    {
     "name": "stdout",
     "output_type": "stream",
     "text": [
      "                * \n",
      "            * * * \n",
      "        * * * * * \n",
      "    * * * * * * * \n",
      "* * * * * * * * * \n"
     ]
    }
   ],
   "source": [
    "for i in range(5):\n",
    "    print(\"  \"*(2*(4-i)),end=\"\")\n",
    "    print(\"* \"* ( (2*i)+1) )\n",
    "    "
   ]
  },
  {
   "cell_type": "code",
   "execution_count": 252,
   "id": "87833a9f",
   "metadata": {
    "execution": {
     "iopub.execute_input": "2023-11-16T17:04:50.531300Z",
     "iopub.status.busy": "2023-11-16T17:04:50.530988Z",
     "iopub.status.idle": "2023-11-16T17:04:50.539142Z",
     "shell.execute_reply": "2023-11-16T17:04:50.538312Z"
    },
    "papermill": {
     "duration": 0.15021,
     "end_time": "2023-11-16T17:04:50.541210",
     "exception": false,
     "start_time": "2023-11-16T17:04:50.391000",
     "status": "completed"
    },
    "tags": []
   },
   "outputs": [
    {
     "name": "stdout",
     "output_type": "stream",
     "text": [
      "45\n",
      "12\n"
     ]
    }
   ],
   "source": [
    "#                 * \n",
    "#             * * * \n",
    "#         * * * * * \n",
    "#     * * * * * * * \n",
    "# * * * * * * * * * \n",
    "\n",
    "from abc import ABC , abstractmethod\n",
    "\n",
    "class mlv(ABC):\n",
    "    @abstractmethod\n",
    "    def marks(self) :\n",
    "        pass\n",
    "#     @abstractmethod \n",
    "#     def classes(self) :\n",
    "#         pass\n",
    "    \n",
    "class Mentor(mlv) :\n",
    "    def __init__(self,teach):\n",
    "        self.teach = teach\n",
    "        \n",
    "    def marks(self) :\n",
    "        return 9 * self.teach\n",
    "    \n",
    "    \n",
    "class Instructor(mlv) :\n",
    "    def __init__(self,cltime, months) :\n",
    "        self.cltime = cltime\n",
    "        self.month = months\n",
    "        \n",
    "    def marks(self) :\n",
    "        return self.cltime * self.month\n",
    "c1 = Mentor(5)\n",
    "c2 = Instructor(4,3)\n",
    "shapes = [c1, c2]\n",
    "for c3 in shapes :\n",
    "    print(c3.marks())"
   ]
  },
  {
   "cell_type": "code",
   "execution_count": null,
   "id": "fecfc5a1",
   "metadata": {
    "papermill": {
     "duration": 0.134399,
     "end_time": "2023-11-16T17:04:50.813641",
     "exception": false,
     "start_time": "2023-11-16T17:04:50.679242",
     "status": "completed"
    },
    "tags": []
   },
   "outputs": [],
   "source": []
  },
  {
   "cell_type": "code",
   "execution_count": null,
   "id": "edd65f08",
   "metadata": {
    "papermill": {
     "duration": 0.180985,
     "end_time": "2023-11-16T17:04:51.127175",
     "exception": false,
     "start_time": "2023-11-16T17:04:50.946190",
     "status": "completed"
    },
    "tags": []
   },
   "outputs": [],
   "source": []
  },
  {
   "cell_type": "code",
   "execution_count": null,
   "id": "ac7263c0",
   "metadata": {
    "papermill": {
     "duration": 0.143425,
     "end_time": "2023-11-16T17:04:51.406722",
     "exception": false,
     "start_time": "2023-11-16T17:04:51.263297",
     "status": "completed"
    },
    "tags": []
   },
   "outputs": [],
   "source": []
  },
  {
   "cell_type": "code",
   "execution_count": 253,
   "id": "d825adb4",
   "metadata": {
    "execution": {
     "iopub.execute_input": "2023-11-16T17:04:51.684858Z",
     "iopub.status.busy": "2023-11-16T17:04:51.684143Z",
     "iopub.status.idle": "2023-11-16T17:04:51.688631Z",
     "shell.execute_reply": "2023-11-16T17:04:51.687748Z"
    },
    "papermill": {
     "duration": 0.142857,
     "end_time": "2023-11-16T17:04:51.690423",
     "exception": false,
     "start_time": "2023-11-16T17:04:51.547566",
     "status": "completed"
    },
    "tags": []
   },
   "outputs": [],
   "source": [
    "a = \"english\"\n",
    "\n",
    "b = \"hsilgne\"\n",
    "\n",
    "\n",
    "c = \"malayalam\"\n",
    "d = \"malayalam\"\n",
    "\n",
    "# palindrome"
   ]
  },
  {
   "cell_type": "code",
   "execution_count": 254,
   "id": "0c8eb88a",
   "metadata": {
    "execution": {
     "iopub.execute_input": "2023-11-16T17:04:51.959168Z",
     "iopub.status.busy": "2023-11-16T17:04:51.958553Z",
     "iopub.status.idle": "2023-11-16T17:04:51.964733Z",
     "shell.execute_reply": "2023-11-16T17:04:51.963949Z"
    },
    "papermill": {
     "duration": 0.140863,
     "end_time": "2023-11-16T17:04:51.966595",
     "exception": false,
     "start_time": "2023-11-16T17:04:51.825732",
     "status": "completed"
    },
    "tags": []
   },
   "outputs": [
    {
     "data": {
      "text/plain": [
       "['c', 'b', 'a']"
      ]
     },
     "execution_count": 254,
     "metadata": {},
     "output_type": "execute_result"
    }
   ],
   "source": [
    "a = [\"a\",\"b\",\"c\"]\n",
    "b = a[::-1]\n",
    "b"
   ]
  },
  {
   "cell_type": "code",
   "execution_count": 255,
   "id": "36673e70",
   "metadata": {
    "execution": {
     "iopub.execute_input": "2023-11-16T17:04:52.254579Z",
     "iopub.status.busy": "2023-11-16T17:04:52.253772Z",
     "iopub.status.idle": "2023-11-16T17:04:52.259608Z",
     "shell.execute_reply": "2023-11-16T17:04:52.258683Z"
    },
    "papermill": {
     "duration": 0.146458,
     "end_time": "2023-11-16T17:04:52.261478",
     "exception": false,
     "start_time": "2023-11-16T17:04:52.115020",
     "status": "completed"
    },
    "tags": []
   },
   "outputs": [
    {
     "data": {
      "text/plain": [
       "'dasarp'"
      ]
     },
     "execution_count": 255,
     "metadata": {},
     "output_type": "execute_result"
    }
   ],
   "source": [
    "c = \"prasad\"\n",
    "c[::-1]"
   ]
  },
  {
   "cell_type": "code",
   "execution_count": 256,
   "id": "cdf82e88",
   "metadata": {
    "execution": {
     "iopub.execute_input": "2023-11-16T17:04:52.531740Z",
     "iopub.status.busy": "2023-11-16T17:04:52.531037Z",
     "iopub.status.idle": "2023-11-16T17:04:52.535231Z",
     "shell.execute_reply": "2023-11-16T17:04:52.534445Z"
    },
    "papermill": {
     "duration": 0.142136,
     "end_time": "2023-11-16T17:04:52.537009",
     "exception": false,
     "start_time": "2023-11-16T17:04:52.394873",
     "status": "completed"
    },
    "tags": []
   },
   "outputs": [],
   "source": [
    "\n",
    "\n",
    "# a  = input()\n",
    "# b = a[::-1]\n",
    "\n",
    "\n",
    "# if a == b :\n",
    "#     print(\"palindrome\")\n",
    "# else :\n",
    "#     print(\"not a palindrome\")"
   ]
  },
  {
   "cell_type": "code",
   "execution_count": 257,
   "id": "f8b6aa39",
   "metadata": {
    "execution": {
     "iopub.execute_input": "2023-11-16T17:04:52.815488Z",
     "iopub.status.busy": "2023-11-16T17:04:52.815128Z",
     "iopub.status.idle": "2023-11-16T17:04:52.822317Z",
     "shell.execute_reply": "2023-11-16T17:04:52.821312Z"
    },
    "papermill": {
     "duration": 0.151051,
     "end_time": "2023-11-16T17:04:52.824692",
     "exception": false,
     "start_time": "2023-11-16T17:04:52.673641",
     "status": "completed"
    },
    "tags": []
   },
   "outputs": [
    {
     "data": {
      "text/plain": [
       "'mentor a is prasad mlv'"
      ]
     },
     "execution_count": 257,
     "metadata": {},
     "output_type": "execute_result"
    }
   ],
   "source": [
    "a = \"mlv prasad is a mentor\"\n",
    "\n",
    "# b = \"mentor a is prasad mlv\"\n",
    "b = a.split()\n",
    "c = b[::-1]\n",
    "c\n",
    "\n",
    "d =  \" \".join(c)\n",
    "d"
   ]
  },
  {
   "cell_type": "code",
   "execution_count": 258,
   "id": "7eff6981",
   "metadata": {
    "execution": {
     "iopub.execute_input": "2023-11-16T17:04:53.094488Z",
     "iopub.status.busy": "2023-11-16T17:04:53.093901Z",
     "iopub.status.idle": "2023-11-16T17:04:53.099855Z",
     "shell.execute_reply": "2023-11-16T17:04:53.099075Z"
    },
    "papermill": {
     "duration": 0.142697,
     "end_time": "2023-11-16T17:04:53.101716",
     "exception": false,
     "start_time": "2023-11-16T17:04:52.959019",
     "status": "completed"
    },
    "tags": []
   },
   "outputs": [
    {
     "data": {
      "text/plain": [
       "['mlv', 'prasad', 'is', 'a', 'mentor']"
      ]
     },
     "execution_count": 258,
     "metadata": {},
     "output_type": "execute_result"
    }
   ],
   "source": [
    "a = \"mlv prasad is a mentor\"\n",
    "\n",
    "# b = \"mentor a is prasad mlv\"\n",
    "b = a.split()\n",
    "b "
   ]
  },
  {
   "cell_type": "code",
   "execution_count": 259,
   "id": "c75914e8",
   "metadata": {
    "execution": {
     "iopub.execute_input": "2023-11-16T17:04:53.374770Z",
     "iopub.status.busy": "2023-11-16T17:04:53.373948Z",
     "iopub.status.idle": "2023-11-16T17:04:53.379297Z",
     "shell.execute_reply": "2023-11-16T17:04:53.378174Z"
    },
    "papermill": {
     "duration": 0.14301,
     "end_time": "2023-11-16T17:04:53.381288",
     "exception": false,
     "start_time": "2023-11-16T17:04:53.238278",
     "status": "completed"
    },
    "tags": []
   },
   "outputs": [
    {
     "name": "stdout",
     "output_type": "stream",
     "text": [
      "the student name is  swapna and she is a  good student\n"
     ]
    }
   ],
   "source": [
    "a = \"swapna\"\n",
    "print(\"the student name is \", a,\"and she is a  good student\")"
   ]
  },
  {
   "cell_type": "code",
   "execution_count": 260,
   "id": "e104f49c",
   "metadata": {
    "execution": {
     "iopub.execute_input": "2023-11-16T17:04:53.698055Z",
     "iopub.status.busy": "2023-11-16T17:04:53.697717Z",
     "iopub.status.idle": "2023-11-16T17:04:53.702304Z",
     "shell.execute_reply": "2023-11-16T17:04:53.701485Z"
    },
    "papermill": {
     "duration": 0.190448,
     "end_time": "2023-11-16T17:04:53.704453",
     "exception": false,
     "start_time": "2023-11-16T17:04:53.514005",
     "status": "completed"
    },
    "tags": []
   },
   "outputs": [
    {
     "name": "stdout",
     "output_type": "stream",
     "text": [
      "the student name is  swapna  and she is a  good student\n"
     ]
    }
   ],
   "source": [
    "print(f\"the student name is  {a}  and she is a  good student\")"
   ]
  },
  {
   "cell_type": "code",
   "execution_count": 261,
   "id": "f70d904d",
   "metadata": {
    "execution": {
     "iopub.execute_input": "2023-11-16T17:04:53.967939Z",
     "iopub.status.busy": "2023-11-16T17:04:53.967606Z",
     "iopub.status.idle": "2023-11-16T17:04:53.972694Z",
     "shell.execute_reply": "2023-11-16T17:04:53.971644Z"
    },
    "papermill": {
     "duration": 0.138916,
     "end_time": "2023-11-16T17:04:53.974653",
     "exception": false,
     "start_time": "2023-11-16T17:04:53.835737",
     "status": "completed"
    },
    "tags": []
   },
   "outputs": [
    {
     "name": "stdout",
     "output_type": "stream",
     "text": [
      "the student name is  swapna  and she is a  good student\n"
     ]
    }
   ],
   "source": [
    "txt = \"the student name is  {}  and she is a  good student\"\n",
    "print(txt.format(a))"
   ]
  },
  {
   "cell_type": "code",
   "execution_count": 262,
   "id": "1cb4ac91",
   "metadata": {
    "execution": {
     "iopub.execute_input": "2023-11-16T17:04:54.243758Z",
     "iopub.status.busy": "2023-11-16T17:04:54.243094Z",
     "iopub.status.idle": "2023-11-16T17:04:54.247581Z",
     "shell.execute_reply": "2023-11-16T17:04:54.246732Z"
    },
    "papermill": {
     "duration": 0.141093,
     "end_time": "2023-11-16T17:04:54.249451",
     "exception": false,
     "start_time": "2023-11-16T17:04:54.108358",
     "status": "completed"
    },
    "tags": []
   },
   "outputs": [],
   "source": [
    "# 9. Write a Python program to display the examination schedule. (extract the date from exam_st_date).\n",
    "# exam_st_date = (11, 12, 2014)\n",
    "# Sample Output : The examination will start from : 11 / 12 / 2014\n",
    "\n",
    "\n",
    "# 10. Write a Python program that accepts an integer (n) and computes the value of n+nn+nnn.\n",
    "# Sample value of n is 5\n",
    "# Expected Result : 615\n",
    "\n",
    "# 11. Write a Python program to print the documents (syntax, description etc.) of Python built-in function(s).\n",
    "# Sample function : abs()\n",
    "# Expected Result :\n",
    "# abs(number) -> number\n",
    "# Return the absolute value of the argument."
   ]
  },
  {
   "cell_type": "code",
   "execution_count": 263,
   "id": "e7b88686",
   "metadata": {
    "execution": {
     "iopub.execute_input": "2023-11-16T17:04:54.527278Z",
     "iopub.status.busy": "2023-11-16T17:04:54.526426Z",
     "iopub.status.idle": "2023-11-16T17:04:54.531901Z",
     "shell.execute_reply": "2023-11-16T17:04:54.530935Z"
    },
    "papermill": {
     "duration": 0.148724,
     "end_time": "2023-11-16T17:04:54.534072",
     "exception": false,
     "start_time": "2023-11-16T17:04:54.385348",
     "status": "completed"
    },
    "tags": []
   },
   "outputs": [
    {
     "name": "stdout",
     "output_type": "stream",
     "text": [
      "Sample Output : The examination will start from : 15 / 3 / 2022\n"
     ]
    }
   ],
   "source": [
    "exam_st_date = (15, 3, 2022)\n",
    "a, b ,c = exam_st_date \n",
    "print(f\"Sample Output : The examination will start from : {a} / {b} / {c}\")"
   ]
  },
  {
   "cell_type": "code",
   "execution_count": 264,
   "id": "ba0aded0",
   "metadata": {
    "execution": {
     "iopub.execute_input": "2023-11-16T17:04:54.810287Z",
     "iopub.status.busy": "2023-11-16T17:04:54.809491Z",
     "iopub.status.idle": "2023-11-16T17:04:54.817234Z",
     "shell.execute_reply": "2023-11-16T17:04:54.816380Z"
    },
    "papermill": {
     "duration": 0.148469,
     "end_time": "2023-11-16T17:04:54.819222",
     "exception": false,
     "start_time": "2023-11-16T17:04:54.670753",
     "status": "completed"
    },
    "tags": []
   },
   "outputs": [
    {
     "name": "stdout",
     "output_type": "stream",
     "text": [
      "7\n",
      "77\n",
      "777\n"
     ]
    },
    {
     "data": {
      "text/plain": [
       "861"
      ]
     },
     "execution_count": 264,
     "metadata": {},
     "output_type": "execute_result"
    }
   ],
   "source": [
    "# 10. Write a Python program that accepts an integer (n) and computes the value of n+nn+nnn.\n",
    "# Sample value of n is 5\n",
    "# Expected Result : 615\n",
    "\n",
    "\n",
    "# 7 \n",
    "\n",
    "# 7 + 77 + 777\n",
    "\n",
    "n = 7 \n",
    "sum = 0\n",
    "for i in range(3):\n",
    "    a  = str(7)*(i+1)\n",
    "    print(a)\n",
    "    sum = sum + int(a)\n",
    "    \n",
    "sum    "
   ]
  },
  {
   "cell_type": "code",
   "execution_count": 265,
   "id": "4007cca3",
   "metadata": {
    "execution": {
     "iopub.execute_input": "2023-11-16T17:04:55.088120Z",
     "iopub.status.busy": "2023-11-16T17:04:55.087306Z",
     "iopub.status.idle": "2023-11-16T17:04:55.091397Z",
     "shell.execute_reply": "2023-11-16T17:04:55.090484Z"
    },
    "papermill": {
     "duration": 0.141078,
     "end_time": "2023-11-16T17:04:55.093291",
     "exception": false,
     "start_time": "2023-11-16T17:04:54.952213",
     "status": "completed"
    },
    "tags": []
   },
   "outputs": [],
   "source": [
    "# 7 + 77 + 777"
   ]
  },
  {
   "cell_type": "code",
   "execution_count": 266,
   "id": "eb3e8ac6",
   "metadata": {
    "execution": {
     "iopub.execute_input": "2023-11-16T17:04:55.370020Z",
     "iopub.status.busy": "2023-11-16T17:04:55.369265Z",
     "iopub.status.idle": "2023-11-16T17:04:55.374661Z",
     "shell.execute_reply": "2023-11-16T17:04:55.373783Z"
    },
    "papermill": {
     "duration": 0.148206,
     "end_time": "2023-11-16T17:04:55.377395",
     "exception": false,
     "start_time": "2023-11-16T17:04:55.229189",
     "status": "completed"
    },
    "tags": []
   },
   "outputs": [
    {
     "name": "stdout",
     "output_type": "stream",
     "text": [
      "Help on built-in function abs in module builtins:\n",
      "\n",
      "abs(x, /)\n",
      "    Return the absolute value of the argument.\n",
      "\n"
     ]
    }
   ],
   "source": [
    "help(abs)"
   ]
  },
  {
   "cell_type": "code",
   "execution_count": 267,
   "id": "072393c1",
   "metadata": {
    "execution": {
     "iopub.execute_input": "2023-11-16T17:04:55.649150Z",
     "iopub.status.busy": "2023-11-16T17:04:55.648541Z",
     "iopub.status.idle": "2023-11-16T17:04:55.673286Z",
     "shell.execute_reply": "2023-11-16T17:04:55.672414Z"
    },
    "papermill": {
     "duration": 0.164248,
     "end_time": "2023-11-16T17:04:55.675804",
     "exception": false,
     "start_time": "2023-11-16T17:04:55.511556",
     "status": "completed"
    },
    "tags": []
   },
   "outputs": [
    {
     "name": "stdout",
     "output_type": "stream",
     "text": [
      "Help on class str in module builtins:\n",
      "\n",
      "class str(object)\n",
      " |  str(object='') -> str\n",
      " |  str(bytes_or_buffer[, encoding[, errors]]) -> str\n",
      " |  \n",
      " |  Create a new string object from the given object. If encoding or\n",
      " |  errors is specified, then the object must expose a data buffer\n",
      " |  that will be decoded using the given encoding and error handler.\n",
      " |  Otherwise, returns the result of object.__str__() (if defined)\n",
      " |  or repr(object).\n",
      " |  encoding defaults to sys.getdefaultencoding().\n",
      " |  errors defaults to 'strict'.\n",
      " |  \n",
      " |  Methods defined here:\n",
      " |  \n",
      " |  __add__(self, value, /)\n",
      " |      Return self+value.\n",
      " |  \n",
      " |  __contains__(self, key, /)\n",
      " |      Return key in self.\n",
      " |  \n",
      " |  __eq__(self, value, /)\n",
      " |      Return self==value.\n",
      " |  \n",
      " |  __format__(self, format_spec, /)\n",
      " |      Return a formatted version of the string as described by format_spec.\n",
      " |  \n",
      " |  __ge__(self, value, /)\n",
      " |      Return self>=value.\n",
      " |  \n",
      " |  __getattribute__(self, name, /)\n",
      " |      Return getattr(self, name).\n",
      " |  \n",
      " |  __getitem__(self, key, /)\n",
      " |      Return self[key].\n",
      " |  \n",
      " |  __getnewargs__(...)\n",
      " |  \n",
      " |  __gt__(self, value, /)\n",
      " |      Return self>value.\n",
      " |  \n",
      " |  __hash__(self, /)\n",
      " |      Return hash(self).\n",
      " |  \n",
      " |  __iter__(self, /)\n",
      " |      Implement iter(self).\n",
      " |  \n",
      " |  __le__(self, value, /)\n",
      " |      Return self<=value.\n",
      " |  \n",
      " |  __len__(self, /)\n",
      " |      Return len(self).\n",
      " |  \n",
      " |  __lt__(self, value, /)\n",
      " |      Return self<value.\n",
      " |  \n",
      " |  __mod__(self, value, /)\n",
      " |      Return self%value.\n",
      " |  \n",
      " |  __mul__(self, value, /)\n",
      " |      Return self*value.\n",
      " |  \n",
      " |  __ne__(self, value, /)\n",
      " |      Return self!=value.\n",
      " |  \n",
      " |  __repr__(self, /)\n",
      " |      Return repr(self).\n",
      " |  \n",
      " |  __rmod__(self, value, /)\n",
      " |      Return value%self.\n",
      " |  \n",
      " |  __rmul__(self, value, /)\n",
      " |      Return value*self.\n",
      " |  \n",
      " |  __sizeof__(self, /)\n",
      " |      Return the size of the string in memory, in bytes.\n",
      " |  \n",
      " |  __str__(self, /)\n",
      " |      Return str(self).\n",
      " |  \n",
      " |  capitalize(self, /)\n",
      " |      Return a capitalized version of the string.\n",
      " |      \n",
      " |      More specifically, make the first character have upper case and the rest lower\n",
      " |      case.\n",
      " |  \n",
      " |  casefold(self, /)\n",
      " |      Return a version of the string suitable for caseless comparisons.\n",
      " |  \n",
      " |  center(self, width, fillchar=' ', /)\n",
      " |      Return a centered string of length width.\n",
      " |      \n",
      " |      Padding is done using the specified fill character (default is a space).\n",
      " |  \n",
      " |  count(...)\n",
      " |      S.count(sub[, start[, end]]) -> int\n",
      " |      \n",
      " |      Return the number of non-overlapping occurrences of substring sub in\n",
      " |      string S[start:end].  Optional arguments start and end are\n",
      " |      interpreted as in slice notation.\n",
      " |  \n",
      " |  encode(self, /, encoding='utf-8', errors='strict')\n",
      " |      Encode the string using the codec registered for encoding.\n",
      " |      \n",
      " |      encoding\n",
      " |        The encoding in which to encode the string.\n",
      " |      errors\n",
      " |        The error handling scheme to use for encoding errors.\n",
      " |        The default is 'strict' meaning that encoding errors raise a\n",
      " |        UnicodeEncodeError.  Other possible values are 'ignore', 'replace' and\n",
      " |        'xmlcharrefreplace' as well as any other name registered with\n",
      " |        codecs.register_error that can handle UnicodeEncodeErrors.\n",
      " |  \n",
      " |  endswith(...)\n",
      " |      S.endswith(suffix[, start[, end]]) -> bool\n",
      " |      \n",
      " |      Return True if S ends with the specified suffix, False otherwise.\n",
      " |      With optional start, test S beginning at that position.\n",
      " |      With optional end, stop comparing S at that position.\n",
      " |      suffix can also be a tuple of strings to try.\n",
      " |  \n",
      " |  expandtabs(self, /, tabsize=8)\n",
      " |      Return a copy where all tab characters are expanded using spaces.\n",
      " |      \n",
      " |      If tabsize is not given, a tab size of 8 characters is assumed.\n",
      " |  \n",
      " |  find(...)\n",
      " |      S.find(sub[, start[, end]]) -> int\n",
      " |      \n",
      " |      Return the lowest index in S where substring sub is found,\n",
      " |      such that sub is contained within S[start:end].  Optional\n",
      " |      arguments start and end are interpreted as in slice notation.\n",
      " |      \n",
      " |      Return -1 on failure.\n",
      " |  \n",
      " |  format(...)\n",
      " |      S.format(*args, **kwargs) -> str\n",
      " |      \n",
      " |      Return a formatted version of S, using substitutions from args and kwargs.\n",
      " |      The substitutions are identified by braces ('{' and '}').\n",
      " |  \n",
      " |  format_map(...)\n",
      " |      S.format_map(mapping) -> str\n",
      " |      \n",
      " |      Return a formatted version of S, using substitutions from mapping.\n",
      " |      The substitutions are identified by braces ('{' and '}').\n",
      " |  \n",
      " |  index(...)\n",
      " |      S.index(sub[, start[, end]]) -> int\n",
      " |      \n",
      " |      Return the lowest index in S where substring sub is found,\n",
      " |      such that sub is contained within S[start:end].  Optional\n",
      " |      arguments start and end are interpreted as in slice notation.\n",
      " |      \n",
      " |      Raises ValueError when the substring is not found.\n",
      " |  \n",
      " |  isalnum(self, /)\n",
      " |      Return True if the string is an alpha-numeric string, False otherwise.\n",
      " |      \n",
      " |      A string is alpha-numeric if all characters in the string are alpha-numeric and\n",
      " |      there is at least one character in the string.\n",
      " |  \n",
      " |  isalpha(self, /)\n",
      " |      Return True if the string is an alphabetic string, False otherwise.\n",
      " |      \n",
      " |      A string is alphabetic if all characters in the string are alphabetic and there\n",
      " |      is at least one character in the string.\n",
      " |  \n",
      " |  isascii(self, /)\n",
      " |      Return True if all characters in the string are ASCII, False otherwise.\n",
      " |      \n",
      " |      ASCII characters have code points in the range U+0000-U+007F.\n",
      " |      Empty string is ASCII too.\n",
      " |  \n",
      " |  isdecimal(self, /)\n",
      " |      Return True if the string is a decimal string, False otherwise.\n",
      " |      \n",
      " |      A string is a decimal string if all characters in the string are decimal and\n",
      " |      there is at least one character in the string.\n",
      " |  \n",
      " |  isdigit(self, /)\n",
      " |      Return True if the string is a digit string, False otherwise.\n",
      " |      \n",
      " |      A string is a digit string if all characters in the string are digits and there\n",
      " |      is at least one character in the string.\n",
      " |  \n",
      " |  isidentifier(self, /)\n",
      " |      Return True if the string is a valid Python identifier, False otherwise.\n",
      " |      \n",
      " |      Call keyword.iskeyword(s) to test whether string s is a reserved identifier,\n",
      " |      such as \"def\" or \"class\".\n",
      " |  \n",
      " |  islower(self, /)\n",
      " |      Return True if the string is a lowercase string, False otherwise.\n",
      " |      \n",
      " |      A string is lowercase if all cased characters in the string are lowercase and\n",
      " |      there is at least one cased character in the string.\n",
      " |  \n",
      " |  isnumeric(self, /)\n",
      " |      Return True if the string is a numeric string, False otherwise.\n",
      " |      \n",
      " |      A string is numeric if all characters in the string are numeric and there is at\n",
      " |      least one character in the string.\n",
      " |  \n",
      " |  isprintable(self, /)\n",
      " |      Return True if the string is printable, False otherwise.\n",
      " |      \n",
      " |      A string is printable if all of its characters are considered printable in\n",
      " |      repr() or if it is empty.\n",
      " |  \n",
      " |  isspace(self, /)\n",
      " |      Return True if the string is a whitespace string, False otherwise.\n",
      " |      \n",
      " |      A string is whitespace if all characters in the string are whitespace and there\n",
      " |      is at least one character in the string.\n",
      " |  \n",
      " |  istitle(self, /)\n",
      " |      Return True if the string is a title-cased string, False otherwise.\n",
      " |      \n",
      " |      In a title-cased string, upper- and title-case characters may only\n",
      " |      follow uncased characters and lowercase characters only cased ones.\n",
      " |  \n",
      " |  isupper(self, /)\n",
      " |      Return True if the string is an uppercase string, False otherwise.\n",
      " |      \n",
      " |      A string is uppercase if all cased characters in the string are uppercase and\n",
      " |      there is at least one cased character in the string.\n",
      " |  \n",
      " |  join(self, iterable, /)\n",
      " |      Concatenate any number of strings.\n",
      " |      \n",
      " |      The string whose method is called is inserted in between each given string.\n",
      " |      The result is returned as a new string.\n",
      " |      \n",
      " |      Example: '.'.join(['ab', 'pq', 'rs']) -> 'ab.pq.rs'\n",
      " |  \n",
      " |  ljust(self, width, fillchar=' ', /)\n",
      " |      Return a left-justified string of length width.\n",
      " |      \n",
      " |      Padding is done using the specified fill character (default is a space).\n",
      " |  \n",
      " |  lower(self, /)\n",
      " |      Return a copy of the string converted to lowercase.\n",
      " |  \n",
      " |  lstrip(self, chars=None, /)\n",
      " |      Return a copy of the string with leading whitespace removed.\n",
      " |      \n",
      " |      If chars is given and not None, remove characters in chars instead.\n",
      " |  \n",
      " |  partition(self, sep, /)\n",
      " |      Partition the string into three parts using the given separator.\n",
      " |      \n",
      " |      This will search for the separator in the string.  If the separator is found,\n",
      " |      returns a 3-tuple containing the part before the separator, the separator\n",
      " |      itself, and the part after it.\n",
      " |      \n",
      " |      If the separator is not found, returns a 3-tuple containing the original string\n",
      " |      and two empty strings.\n",
      " |  \n",
      " |  removeprefix(self, prefix, /)\n",
      " |      Return a str with the given prefix string removed if present.\n",
      " |      \n",
      " |      If the string starts with the prefix string, return string[len(prefix):].\n",
      " |      Otherwise, return a copy of the original string.\n",
      " |  \n",
      " |  removesuffix(self, suffix, /)\n",
      " |      Return a str with the given suffix string removed if present.\n",
      " |      \n",
      " |      If the string ends with the suffix string and that suffix is not empty,\n",
      " |      return string[:-len(suffix)]. Otherwise, return a copy of the original\n",
      " |      string.\n",
      " |  \n",
      " |  replace(self, old, new, count=-1, /)\n",
      " |      Return a copy with all occurrences of substring old replaced by new.\n",
      " |      \n",
      " |        count\n",
      " |          Maximum number of occurrences to replace.\n",
      " |          -1 (the default value) means replace all occurrences.\n",
      " |      \n",
      " |      If the optional argument count is given, only the first count occurrences are\n",
      " |      replaced.\n",
      " |  \n",
      " |  rfind(...)\n",
      " |      S.rfind(sub[, start[, end]]) -> int\n",
      " |      \n",
      " |      Return the highest index in S where substring sub is found,\n",
      " |      such that sub is contained within S[start:end].  Optional\n",
      " |      arguments start and end are interpreted as in slice notation.\n",
      " |      \n",
      " |      Return -1 on failure.\n",
      " |  \n",
      " |  rindex(...)\n",
      " |      S.rindex(sub[, start[, end]]) -> int\n",
      " |      \n",
      " |      Return the highest index in S where substring sub is found,\n",
      " |      such that sub is contained within S[start:end].  Optional\n",
      " |      arguments start and end are interpreted as in slice notation.\n",
      " |      \n",
      " |      Raises ValueError when the substring is not found.\n",
      " |  \n",
      " |  rjust(self, width, fillchar=' ', /)\n",
      " |      Return a right-justified string of length width.\n",
      " |      \n",
      " |      Padding is done using the specified fill character (default is a space).\n",
      " |  \n",
      " |  rpartition(self, sep, /)\n",
      " |      Partition the string into three parts using the given separator.\n",
      " |      \n",
      " |      This will search for the separator in the string, starting at the end. If\n",
      " |      the separator is found, returns a 3-tuple containing the part before the\n",
      " |      separator, the separator itself, and the part after it.\n",
      " |      \n",
      " |      If the separator is not found, returns a 3-tuple containing two empty strings\n",
      " |      and the original string.\n",
      " |  \n",
      " |  rsplit(self, /, sep=None, maxsplit=-1)\n",
      " |      Return a list of the substrings in the string, using sep as the separator string.\n",
      " |      \n",
      " |        sep\n",
      " |          The separator used to split the string.\n",
      " |      \n",
      " |          When set to None (the default value), will split on any whitespace\n",
      " |          character (including \\\\n \\\\r \\\\t \\\\f and spaces) and will discard\n",
      " |          empty strings from the result.\n",
      " |        maxsplit\n",
      " |          Maximum number of splits (starting from the left).\n",
      " |          -1 (the default value) means no limit.\n",
      " |      \n",
      " |      Splitting starts at the end of the string and works to the front.\n",
      " |  \n",
      " |  rstrip(self, chars=None, /)\n",
      " |      Return a copy of the string with trailing whitespace removed.\n",
      " |      \n",
      " |      If chars is given and not None, remove characters in chars instead.\n",
      " |  \n",
      " |  split(self, /, sep=None, maxsplit=-1)\n",
      " |      Return a list of the substrings in the string, using sep as the separator string.\n",
      " |      \n",
      " |        sep\n",
      " |          The separator used to split the string.\n",
      " |      \n",
      " |          When set to None (the default value), will split on any whitespace\n",
      " |          character (including \\\\n \\\\r \\\\t \\\\f and spaces) and will discard\n",
      " |          empty strings from the result.\n",
      " |        maxsplit\n",
      " |          Maximum number of splits (starting from the left).\n",
      " |          -1 (the default value) means no limit.\n",
      " |      \n",
      " |      Note, str.split() is mainly useful for data that has been intentionally\n",
      " |      delimited.  With natural text that includes punctuation, consider using\n",
      " |      the regular expression module.\n",
      " |  \n",
      " |  splitlines(self, /, keepends=False)\n",
      " |      Return a list of the lines in the string, breaking at line boundaries.\n",
      " |      \n",
      " |      Line breaks are not included in the resulting list unless keepends is given and\n",
      " |      true.\n",
      " |  \n",
      " |  startswith(...)\n",
      " |      S.startswith(prefix[, start[, end]]) -> bool\n",
      " |      \n",
      " |      Return True if S starts with the specified prefix, False otherwise.\n",
      " |      With optional start, test S beginning at that position.\n",
      " |      With optional end, stop comparing S at that position.\n",
      " |      prefix can also be a tuple of strings to try.\n",
      " |  \n",
      " |  strip(self, chars=None, /)\n",
      " |      Return a copy of the string with leading and trailing whitespace removed.\n",
      " |      \n",
      " |      If chars is given and not None, remove characters in chars instead.\n",
      " |  \n",
      " |  swapcase(self, /)\n",
      " |      Convert uppercase characters to lowercase and lowercase characters to uppercase.\n",
      " |  \n",
      " |  title(self, /)\n",
      " |      Return a version of the string where each word is titlecased.\n",
      " |      \n",
      " |      More specifically, words start with uppercased characters and all remaining\n",
      " |      cased characters have lower case.\n",
      " |  \n",
      " |  translate(self, table, /)\n",
      " |      Replace each character in the string using the given translation table.\n",
      " |      \n",
      " |        table\n",
      " |          Translation table, which must be a mapping of Unicode ordinals to\n",
      " |          Unicode ordinals, strings, or None.\n",
      " |      \n",
      " |      The table must implement lookup/indexing via __getitem__, for instance a\n",
      " |      dictionary or list.  If this operation raises LookupError, the character is\n",
      " |      left untouched.  Characters mapped to None are deleted.\n",
      " |  \n",
      " |  upper(self, /)\n",
      " |      Return a copy of the string converted to uppercase.\n",
      " |  \n",
      " |  zfill(self, width, /)\n",
      " |      Pad a numeric string with zeros on the left, to fill a field of the given width.\n",
      " |      \n",
      " |      The string is never truncated.\n",
      " |  \n",
      " |  ----------------------------------------------------------------------\n",
      " |  Static methods defined here:\n",
      " |  \n",
      " |  __new__(*args, **kwargs) from builtins.type\n",
      " |      Create and return a new object.  See help(type) for accurate signature.\n",
      " |  \n",
      " |  maketrans(...)\n",
      " |      Return a translation table usable for str.translate().\n",
      " |      \n",
      " |      If there is only one argument, it must be a dictionary mapping Unicode\n",
      " |      ordinals (integers) or characters to Unicode ordinals, strings or None.\n",
      " |      Character keys will be then converted to ordinals.\n",
      " |      If there are two arguments, they must be strings of equal length, and\n",
      " |      in the resulting dictionary, each character in x will be mapped to the\n",
      " |      character at the same position in y. If there is a third argument, it\n",
      " |      must be a string, whose characters will be mapped to None in the result.\n",
      "\n"
     ]
    }
   ],
   "source": [
    "help(str)"
   ]
  },
  {
   "cell_type": "code",
   "execution_count": 268,
   "id": "cbac9bb2",
   "metadata": {
    "execution": {
     "iopub.execute_input": "2023-11-16T17:04:55.949513Z",
     "iopub.status.busy": "2023-11-16T17:04:55.948522Z",
     "iopub.status.idle": "2023-11-16T17:04:55.968301Z",
     "shell.execute_reply": "2023-11-16T17:04:55.967396Z"
    },
    "papermill": {
     "duration": 0.158685,
     "end_time": "2023-11-16T17:04:55.972225",
     "exception": false,
     "start_time": "2023-11-16T17:04:55.813540",
     "status": "completed"
    },
    "tags": []
   },
   "outputs": [
    {
     "name": "stdout",
     "output_type": "stream",
     "text": [
      "Help on class int in module builtins:\n",
      "\n",
      "class int(object)\n",
      " |  int([x]) -> integer\n",
      " |  int(x, base=10) -> integer\n",
      " |  \n",
      " |  Convert a number or string to an integer, or return 0 if no arguments\n",
      " |  are given.  If x is a number, return x.__int__().  For floating point\n",
      " |  numbers, this truncates towards zero.\n",
      " |  \n",
      " |  If x is not a number or if base is given, then x must be a string,\n",
      " |  bytes, or bytearray instance representing an integer literal in the\n",
      " |  given base.  The literal can be preceded by '+' or '-' and be surrounded\n",
      " |  by whitespace.  The base defaults to 10.  Valid bases are 0 and 2-36.\n",
      " |  Base 0 means to interpret the base from the string as an integer literal.\n",
      " |  >>> int('0b100', base=0)\n",
      " |  4\n",
      " |  \n",
      " |  Built-in subclasses:\n",
      " |      bool\n",
      " |  \n",
      " |  Methods defined here:\n",
      " |  \n",
      " |  __abs__(self, /)\n",
      " |      abs(self)\n",
      " |  \n",
      " |  __add__(self, value, /)\n",
      " |      Return self+value.\n",
      " |  \n",
      " |  __and__(self, value, /)\n",
      " |      Return self&value.\n",
      " |  \n",
      " |  __bool__(self, /)\n",
      " |      True if self else False\n",
      " |  \n",
      " |  __ceil__(...)\n",
      " |      Ceiling of an Integral returns itself.\n",
      " |  \n",
      " |  __divmod__(self, value, /)\n",
      " |      Return divmod(self, value).\n",
      " |  \n",
      " |  __eq__(self, value, /)\n",
      " |      Return self==value.\n",
      " |  \n",
      " |  __float__(self, /)\n",
      " |      float(self)\n",
      " |  \n",
      " |  __floor__(...)\n",
      " |      Flooring an Integral returns itself.\n",
      " |  \n",
      " |  __floordiv__(self, value, /)\n",
      " |      Return self//value.\n",
      " |  \n",
      " |  __format__(self, format_spec, /)\n",
      " |      Default object formatter.\n",
      " |  \n",
      " |  __ge__(self, value, /)\n",
      " |      Return self>=value.\n",
      " |  \n",
      " |  __getattribute__(self, name, /)\n",
      " |      Return getattr(self, name).\n",
      " |  \n",
      " |  __getnewargs__(self, /)\n",
      " |  \n",
      " |  __gt__(self, value, /)\n",
      " |      Return self>value.\n",
      " |  \n",
      " |  __hash__(self, /)\n",
      " |      Return hash(self).\n",
      " |  \n",
      " |  __index__(self, /)\n",
      " |      Return self converted to an integer, if self is suitable for use as an index into a list.\n",
      " |  \n",
      " |  __int__(self, /)\n",
      " |      int(self)\n",
      " |  \n",
      " |  __invert__(self, /)\n",
      " |      ~self\n",
      " |  \n",
      " |  __le__(self, value, /)\n",
      " |      Return self<=value.\n",
      " |  \n",
      " |  __lshift__(self, value, /)\n",
      " |      Return self<<value.\n",
      " |  \n",
      " |  __lt__(self, value, /)\n",
      " |      Return self<value.\n",
      " |  \n",
      " |  __mod__(self, value, /)\n",
      " |      Return self%value.\n",
      " |  \n",
      " |  __mul__(self, value, /)\n",
      " |      Return self*value.\n",
      " |  \n",
      " |  __ne__(self, value, /)\n",
      " |      Return self!=value.\n",
      " |  \n",
      " |  __neg__(self, /)\n",
      " |      -self\n",
      " |  \n",
      " |  __or__(self, value, /)\n",
      " |      Return self|value.\n",
      " |  \n",
      " |  __pos__(self, /)\n",
      " |      +self\n",
      " |  \n",
      " |  __pow__(self, value, mod=None, /)\n",
      " |      Return pow(self, value, mod).\n",
      " |  \n",
      " |  __radd__(self, value, /)\n",
      " |      Return value+self.\n",
      " |  \n",
      " |  __rand__(self, value, /)\n",
      " |      Return value&self.\n",
      " |  \n",
      " |  __rdivmod__(self, value, /)\n",
      " |      Return divmod(value, self).\n",
      " |  \n",
      " |  __repr__(self, /)\n",
      " |      Return repr(self).\n",
      " |  \n",
      " |  __rfloordiv__(self, value, /)\n",
      " |      Return value//self.\n",
      " |  \n",
      " |  __rlshift__(self, value, /)\n",
      " |      Return value<<self.\n",
      " |  \n",
      " |  __rmod__(self, value, /)\n",
      " |      Return value%self.\n",
      " |  \n",
      " |  __rmul__(self, value, /)\n",
      " |      Return value*self.\n",
      " |  \n",
      " |  __ror__(self, value, /)\n",
      " |      Return value|self.\n",
      " |  \n",
      " |  __round__(...)\n",
      " |      Rounding an Integral returns itself.\n",
      " |      \n",
      " |      Rounding with an ndigits argument also returns an integer.\n",
      " |  \n",
      " |  __rpow__(self, value, mod=None, /)\n",
      " |      Return pow(value, self, mod).\n",
      " |  \n",
      " |  __rrshift__(self, value, /)\n",
      " |      Return value>>self.\n",
      " |  \n",
      " |  __rshift__(self, value, /)\n",
      " |      Return self>>value.\n",
      " |  \n",
      " |  __rsub__(self, value, /)\n",
      " |      Return value-self.\n",
      " |  \n",
      " |  __rtruediv__(self, value, /)\n",
      " |      Return value/self.\n",
      " |  \n",
      " |  __rxor__(self, value, /)\n",
      " |      Return value^self.\n",
      " |  \n",
      " |  __sizeof__(self, /)\n",
      " |      Returns size in memory, in bytes.\n",
      " |  \n",
      " |  __sub__(self, value, /)\n",
      " |      Return self-value.\n",
      " |  \n",
      " |  __truediv__(self, value, /)\n",
      " |      Return self/value.\n",
      " |  \n",
      " |  __trunc__(...)\n",
      " |      Truncating an Integral returns itself.\n",
      " |  \n",
      " |  __xor__(self, value, /)\n",
      " |      Return self^value.\n",
      " |  \n",
      " |  as_integer_ratio(self, /)\n",
      " |      Return integer ratio.\n",
      " |      \n",
      " |      Return a pair of integers, whose ratio is exactly equal to the original int\n",
      " |      and with a positive denominator.\n",
      " |      \n",
      " |      >>> (10).as_integer_ratio()\n",
      " |      (10, 1)\n",
      " |      >>> (-10).as_integer_ratio()\n",
      " |      (-10, 1)\n",
      " |      >>> (0).as_integer_ratio()\n",
      " |      (0, 1)\n",
      " |  \n",
      " |  bit_count(self, /)\n",
      " |      Number of ones in the binary representation of the absolute value of self.\n",
      " |      \n",
      " |      Also known as the population count.\n",
      " |      \n",
      " |      >>> bin(13)\n",
      " |      '0b1101'\n",
      " |      >>> (13).bit_count()\n",
      " |      3\n",
      " |  \n",
      " |  bit_length(self, /)\n",
      " |      Number of bits necessary to represent self in binary.\n",
      " |      \n",
      " |      >>> bin(37)\n",
      " |      '0b100101'\n",
      " |      >>> (37).bit_length()\n",
      " |      6\n",
      " |  \n",
      " |  conjugate(...)\n",
      " |      Returns self, the complex conjugate of any int.\n",
      " |  \n",
      " |  to_bytes(self, /, length, byteorder, *, signed=False)\n",
      " |      Return an array of bytes representing an integer.\n",
      " |      \n",
      " |      length\n",
      " |        Length of bytes object to use.  An OverflowError is raised if the\n",
      " |        integer is not representable with the given number of bytes.\n",
      " |      byteorder\n",
      " |        The byte order used to represent the integer.  If byteorder is 'big',\n",
      " |        the most significant byte is at the beginning of the byte array.  If\n",
      " |        byteorder is 'little', the most significant byte is at the end of the\n",
      " |        byte array.  To request the native byte order of the host system, use\n",
      " |        `sys.byteorder' as the byte order value.\n",
      " |      signed\n",
      " |        Determines whether two's complement is used to represent the integer.\n",
      " |        If signed is False and a negative integer is given, an OverflowError\n",
      " |        is raised.\n",
      " |  \n",
      " |  ----------------------------------------------------------------------\n",
      " |  Class methods defined here:\n",
      " |  \n",
      " |  from_bytes(bytes, byteorder, *, signed=False) from builtins.type\n",
      " |      Return the integer represented by the given array of bytes.\n",
      " |      \n",
      " |      bytes\n",
      " |        Holds the array of bytes to convert.  The argument must either\n",
      " |        support the buffer protocol or be an iterable object producing bytes.\n",
      " |        Bytes and bytearray are examples of built-in objects that support the\n",
      " |        buffer protocol.\n",
      " |      byteorder\n",
      " |        The byte order used to represent the integer.  If byteorder is 'big',\n",
      " |        the most significant byte is at the beginning of the byte array.  If\n",
      " |        byteorder is 'little', the most significant byte is at the end of the\n",
      " |        byte array.  To request the native byte order of the host system, use\n",
      " |        `sys.byteorder' as the byte order value.\n",
      " |      signed\n",
      " |        Indicates whether two's complement is used to represent the integer.\n",
      " |  \n",
      " |  ----------------------------------------------------------------------\n",
      " |  Static methods defined here:\n",
      " |  \n",
      " |  __new__(*args, **kwargs) from builtins.type\n",
      " |      Create and return a new object.  See help(type) for accurate signature.\n",
      " |  \n",
      " |  ----------------------------------------------------------------------\n",
      " |  Data descriptors defined here:\n",
      " |  \n",
      " |  denominator\n",
      " |      the denominator of a rational number in lowest terms\n",
      " |  \n",
      " |  imag\n",
      " |      the imaginary part of a complex number\n",
      " |  \n",
      " |  numerator\n",
      " |      the numerator of a rational number in lowest terms\n",
      " |  \n",
      " |  real\n",
      " |      the real part of a complex number\n",
      "\n"
     ]
    }
   ],
   "source": [
    "help(int)"
   ]
  },
  {
   "cell_type": "code",
   "execution_count": 269,
   "id": "157f635a",
   "metadata": {
    "execution": {
     "iopub.execute_input": "2023-11-16T17:04:56.291975Z",
     "iopub.status.busy": "2023-11-16T17:04:56.291617Z",
     "iopub.status.idle": "2023-11-16T17:04:56.296769Z",
     "shell.execute_reply": "2023-11-16T17:04:56.295857Z"
    },
    "papermill": {
     "duration": 0.144677,
     "end_time": "2023-11-16T17:04:56.298663",
     "exception": false,
     "start_time": "2023-11-16T17:04:56.153986",
     "status": "completed"
    },
    "tags": []
   },
   "outputs": [
    {
     "name": "stdout",
     "output_type": "stream",
     "text": [
      "9 10\n"
     ]
    }
   ],
   "source": [
    "a = -9\n",
    "\n",
    "b = 10\n",
    "\n",
    "print(abs(a),abs(b))"
   ]
  },
  {
   "cell_type": "code",
   "execution_count": 270,
   "id": "d291d869",
   "metadata": {
    "execution": {
     "iopub.execute_input": "2023-11-16T17:04:56.573408Z",
     "iopub.status.busy": "2023-11-16T17:04:56.572716Z",
     "iopub.status.idle": "2023-11-16T17:04:56.578798Z",
     "shell.execute_reply": "2023-11-16T17:04:56.577876Z"
    },
    "papermill": {
     "duration": 0.145473,
     "end_time": "2023-11-16T17:04:56.580827",
     "exception": false,
     "start_time": "2023-11-16T17:04:56.435354",
     "status": "completed"
    },
    "tags": []
   },
   "outputs": [
    {
     "data": {
      "text/plain": [
       "dict_keys(['beautiful', 'great', 'maths'])"
      ]
     },
     "execution_count": 270,
     "metadata": {},
     "output_type": "execute_result"
    }
   ],
   "source": [
    "dt = {\"beautiful\": \"which is glorious\",\n",
    "     \"great\": \" to do some extraordinary\",\n",
    "     \"maths\": \"study of numericals\"}\n",
    "dt.keys()"
   ]
  },
  {
   "cell_type": "code",
   "execution_count": 271,
   "id": "17dc7ab2",
   "metadata": {
    "execution": {
     "iopub.execute_input": "2023-11-16T17:04:56.853791Z",
     "iopub.status.busy": "2023-11-16T17:04:56.853452Z",
     "iopub.status.idle": "2023-11-16T17:04:56.859360Z",
     "shell.execute_reply": "2023-11-16T17:04:56.858480Z"
    },
    "papermill": {
     "duration": 0.145755,
     "end_time": "2023-11-16T17:04:56.861311",
     "exception": false,
     "start_time": "2023-11-16T17:04:56.715556",
     "status": "completed"
    },
    "tags": []
   },
   "outputs": [
    {
     "data": {
      "text/plain": [
       "dict_values(['which is glorious', ' to do some extraordinary', 'study of numericals'])"
      ]
     },
     "execution_count": 271,
     "metadata": {},
     "output_type": "execute_result"
    }
   ],
   "source": [
    "dt.values()"
   ]
  },
  {
   "cell_type": "code",
   "execution_count": 272,
   "id": "c175d845",
   "metadata": {
    "execution": {
     "iopub.execute_input": "2023-11-16T17:04:57.136595Z",
     "iopub.status.busy": "2023-11-16T17:04:57.135993Z",
     "iopub.status.idle": "2023-11-16T17:04:57.141893Z",
     "shell.execute_reply": "2023-11-16T17:04:57.141123Z"
    },
    "papermill": {
     "duration": 0.145306,
     "end_time": "2023-11-16T17:04:57.143849",
     "exception": false,
     "start_time": "2023-11-16T17:04:56.998543",
     "status": "completed"
    },
    "tags": []
   },
   "outputs": [
    {
     "data": {
      "text/plain": [
       "dict_items([('beautiful', 'which is glorious'), ('great', ' to do some extraordinary'), ('maths', 'study of numericals')])"
      ]
     },
     "execution_count": 272,
     "metadata": {},
     "output_type": "execute_result"
    }
   ],
   "source": [
    "dt.items()"
   ]
  },
  {
   "cell_type": "code",
   "execution_count": 273,
   "id": "60ebfa0d",
   "metadata": {
    "execution": {
     "iopub.execute_input": "2023-11-16T17:04:57.421270Z",
     "iopub.status.busy": "2023-11-16T17:04:57.420178Z",
     "iopub.status.idle": "2023-11-16T17:04:57.426883Z",
     "shell.execute_reply": "2023-11-16T17:04:57.425943Z"
    },
    "papermill": {
     "duration": 0.148466,
     "end_time": "2023-11-16T17:04:57.428971",
     "exception": false,
     "start_time": "2023-11-16T17:04:57.280505",
     "status": "completed"
    },
    "tags": []
   },
   "outputs": [
    {
     "data": {
      "text/plain": [
       "'study'"
      ]
     },
     "execution_count": 273,
     "metadata": {},
     "output_type": "execute_result"
    }
   ],
   "source": [
    "dt[\"maths\"].split()[0]"
   ]
  },
  {
   "cell_type": "code",
   "execution_count": 274,
   "id": "f5b6ee11",
   "metadata": {
    "execution": {
     "iopub.execute_input": "2023-11-16T17:04:57.704063Z",
     "iopub.status.busy": "2023-11-16T17:04:57.703473Z",
     "iopub.status.idle": "2023-11-16T17:04:57.710224Z",
     "shell.execute_reply": "2023-11-16T17:04:57.709338Z"
    },
    "papermill": {
     "duration": 0.146096,
     "end_time": "2023-11-16T17:04:57.712065",
     "exception": false,
     "start_time": "2023-11-16T17:04:57.565969",
     "status": "completed"
    },
    "tags": []
   },
   "outputs": [
    {
     "data": {
      "text/plain": [
       "{'a': 'ddddd', 'b': 'eeeee', 'c': 'fffff'}"
      ]
     },
     "execution_count": 274,
     "metadata": {},
     "output_type": "execute_result"
    }
   ],
   "source": [
    "p= [\"a\",\"b\",\"c\"]\n",
    "q = [\"ddddd\",\"eeeee\",\"fffff\"]\n",
    "\n",
    "ans = {  p[i] : q[i]    for i in range(len(p))}\n",
    "ans"
   ]
  },
  {
   "cell_type": "code",
   "execution_count": 275,
   "id": "b7eae59c",
   "metadata": {
    "execution": {
     "iopub.execute_input": "2023-11-16T17:04:57.990138Z",
     "iopub.status.busy": "2023-11-16T17:04:57.989401Z",
     "iopub.status.idle": "2023-11-16T17:04:57.994609Z",
     "shell.execute_reply": "2023-11-16T17:04:57.993834Z"
    },
    "papermill": {
     "duration": 0.146982,
     "end_time": "2023-11-16T17:04:57.996847",
     "exception": false,
     "start_time": "2023-11-16T17:04:57.849865",
     "status": "completed"
    },
    "tags": []
   },
   "outputs": [
    {
     "name": "stdout",
     "output_type": "stream",
     "text": [
      "{'brand': 'Ford', 'model': 'Mustang'}\n"
     ]
    }
   ],
   "source": [
    "car = {\n",
    "  \"brand\": \"Ford\",\n",
    "  \"model\": \"Mustang\",\n",
    "  \"year\": 1964\n",
    "}\n",
    "\n",
    "car.popitem()\n",
    "\n",
    "print(car)"
   ]
  },
  {
   "cell_type": "code",
   "execution_count": 276,
   "id": "051788f9",
   "metadata": {
    "execution": {
     "iopub.execute_input": "2023-11-16T17:04:58.270282Z",
     "iopub.status.busy": "2023-11-16T17:04:58.269420Z",
     "iopub.status.idle": "2023-11-16T17:04:58.275491Z",
     "shell.execute_reply": "2023-11-16T17:04:58.274609Z"
    },
    "papermill": {
     "duration": 0.144936,
     "end_time": "2023-11-16T17:04:58.277276",
     "exception": false,
     "start_time": "2023-11-16T17:04:58.132340",
     "status": "completed"
    },
    "tags": []
   },
   "outputs": [
    {
     "data": {
      "text/plain": [
       "'prasad'"
      ]
     },
     "execution_count": 276,
     "metadata": {},
     "output_type": "execute_result"
    }
   ],
   "source": [
    "a = [\"suhs\",\"mlv\",\"prasad\"]\n",
    "a.pop()"
   ]
  },
  {
   "cell_type": "code",
   "execution_count": 277,
   "id": "dafcdcfd",
   "metadata": {
    "execution": {
     "iopub.execute_input": "2023-11-16T17:04:58.604003Z",
     "iopub.status.busy": "2023-11-16T17:04:58.603368Z",
     "iopub.status.idle": "2023-11-16T17:04:58.607385Z",
     "shell.execute_reply": "2023-11-16T17:04:58.606566Z"
    },
    "papermill": {
     "duration": 0.194371,
     "end_time": "2023-11-16T17:04:58.609312",
     "exception": false,
     "start_time": "2023-11-16T17:04:58.414941",
     "status": "completed"
    },
    "tags": []
   },
   "outputs": [],
   "source": [
    "# numpy\n",
    "\n",
    "# numerical python\n"
   ]
  },
  {
   "cell_type": "code",
   "execution_count": 278,
   "id": "2ec854f9",
   "metadata": {
    "execution": {
     "iopub.execute_input": "2023-11-16T17:04:58.892129Z",
     "iopub.status.busy": "2023-11-16T17:04:58.891504Z",
     "iopub.status.idle": "2023-11-16T17:04:58.897427Z",
     "shell.execute_reply": "2023-11-16T17:04:58.896574Z"
    },
    "papermill": {
     "duration": 0.148676,
     "end_time": "2023-11-16T17:04:58.899530",
     "exception": false,
     "start_time": "2023-11-16T17:04:58.750854",
     "status": "completed"
    },
    "tags": []
   },
   "outputs": [
    {
     "data": {
      "text/plain": [
       "[10, 20, 30]"
      ]
     },
     "execution_count": 278,
     "metadata": {},
     "output_type": "execute_result"
    }
   ],
   "source": [
    "a = [10,20,30]\n",
    "a"
   ]
  },
  {
   "cell_type": "code",
   "execution_count": 279,
   "id": "5e28afee",
   "metadata": {
    "execution": {
     "iopub.execute_input": "2023-11-16T17:04:59.183891Z",
     "iopub.status.busy": "2023-11-16T17:04:59.183263Z",
     "iopub.status.idle": "2023-11-16T17:04:59.189958Z",
     "shell.execute_reply": "2023-11-16T17:04:59.188965Z"
    },
    "papermill": {
     "duration": 0.152692,
     "end_time": "2023-11-16T17:04:59.192173",
     "exception": false,
     "start_time": "2023-11-16T17:04:59.039481",
     "status": "completed"
    },
    "tags": []
   },
   "outputs": [
    {
     "data": {
      "text/plain": [
       "array([10, 20, 30])"
      ]
     },
     "execution_count": 279,
     "metadata": {},
     "output_type": "execute_result"
    }
   ],
   "source": [
    "import numpy as np\n",
    "\n",
    "\n",
    "b = np.array([10,20,30])\n",
    "b"
   ]
  },
  {
   "cell_type": "code",
   "execution_count": 280,
   "id": "586ad5f3",
   "metadata": {
    "execution": {
     "iopub.execute_input": "2023-11-16T17:04:59.479601Z",
     "iopub.status.busy": "2023-11-16T17:04:59.478891Z",
     "iopub.status.idle": "2023-11-16T17:04:59.484696Z",
     "shell.execute_reply": "2023-11-16T17:04:59.483874Z"
    },
    "papermill": {
     "duration": 0.14567,
     "end_time": "2023-11-16T17:04:59.486722",
     "exception": false,
     "start_time": "2023-11-16T17:04:59.341052",
     "status": "completed"
    },
    "tags": []
   },
   "outputs": [
    {
     "data": {
      "text/plain": [
       "10"
      ]
     },
     "execution_count": 280,
     "metadata": {},
     "output_type": "execute_result"
    }
   ],
   "source": [
    "b[0]"
   ]
  },
  {
   "cell_type": "code",
   "execution_count": 281,
   "id": "ed6c31d9",
   "metadata": {
    "execution": {
     "iopub.execute_input": "2023-11-16T17:04:59.768855Z",
     "iopub.status.busy": "2023-11-16T17:04:59.768502Z",
     "iopub.status.idle": "2023-11-16T17:04:59.774257Z",
     "shell.execute_reply": "2023-11-16T17:04:59.773451Z"
    },
    "papermill": {
     "duration": 0.145531,
     "end_time": "2023-11-16T17:04:59.776237",
     "exception": false,
     "start_time": "2023-11-16T17:04:59.630706",
     "status": "completed"
    },
    "tags": []
   },
   "outputs": [
    {
     "data": {
      "text/plain": [
       "30"
      ]
     },
     "execution_count": 281,
     "metadata": {},
     "output_type": "execute_result"
    }
   ],
   "source": [
    "b[-1]"
   ]
  },
  {
   "cell_type": "code",
   "execution_count": 282,
   "id": "8d7288c6",
   "metadata": {
    "execution": {
     "iopub.execute_input": "2023-11-16T17:05:00.054001Z",
     "iopub.status.busy": "2023-11-16T17:05:00.053633Z",
     "iopub.status.idle": "2023-11-16T17:05:00.060084Z",
     "shell.execute_reply": "2023-11-16T17:05:00.059165Z"
    },
    "papermill": {
     "duration": 0.149275,
     "end_time": "2023-11-16T17:05:00.062035",
     "exception": false,
     "start_time": "2023-11-16T17:04:59.912760",
     "status": "completed"
    },
    "tags": []
   },
   "outputs": [
    {
     "data": {
      "text/plain": [
       "array([10, 20])"
      ]
     },
     "execution_count": 282,
     "metadata": {},
     "output_type": "execute_result"
    }
   ],
   "source": [
    "b[0:2]"
   ]
  },
  {
   "cell_type": "code",
   "execution_count": 283,
   "id": "4259d9cf",
   "metadata": {
    "execution": {
     "iopub.execute_input": "2023-11-16T17:05:00.346693Z",
     "iopub.status.busy": "2023-11-16T17:05:00.345978Z",
     "iopub.status.idle": "2023-11-16T17:05:00.352316Z",
     "shell.execute_reply": "2023-11-16T17:05:00.351465Z"
    },
    "papermill": {
     "duration": 0.150987,
     "end_time": "2023-11-16T17:05:00.354396",
     "exception": false,
     "start_time": "2023-11-16T17:05:00.203409",
     "status": "completed"
    },
    "tags": []
   },
   "outputs": [
    {
     "data": {
      "text/plain": [
       "array([10, 20, 30])"
      ]
     },
     "execution_count": 283,
     "metadata": {},
     "output_type": "execute_result"
    }
   ],
   "source": [
    "c = [10,20,30]\n",
    "\n",
    "d = np.array(c)\n",
    "d"
   ]
  },
  {
   "cell_type": "code",
   "execution_count": 284,
   "id": "7c7b5964",
   "metadata": {
    "execution": {
     "iopub.execute_input": "2023-11-16T17:05:00.641785Z",
     "iopub.status.busy": "2023-11-16T17:05:00.640979Z",
     "iopub.status.idle": "2023-11-16T17:05:00.648134Z",
     "shell.execute_reply": "2023-11-16T17:05:00.647151Z"
    },
    "papermill": {
     "duration": 0.147829,
     "end_time": "2023-11-16T17:05:00.650302",
     "exception": false,
     "start_time": "2023-11-16T17:05:00.502473",
     "status": "completed"
    },
    "tags": []
   },
   "outputs": [
    {
     "data": {
      "text/plain": [
       "array([[0., 0., 0., 0., 0.],\n",
       "       [0., 0., 0., 0., 0.],\n",
       "       [0., 0., 0., 0., 0.],\n",
       "       [0., 0., 0., 0., 0.],\n",
       "       [0., 0., 0., 0., 0.]])"
      ]
     },
     "execution_count": 284,
     "metadata": {},
     "output_type": "execute_result"
    }
   ],
   "source": [
    "e = np.zeros((5,5))  \n",
    "e"
   ]
  },
  {
   "cell_type": "code",
   "execution_count": 285,
   "id": "41a3f5b6",
   "metadata": {
    "execution": {
     "iopub.execute_input": "2023-11-16T17:05:00.940959Z",
     "iopub.status.busy": "2023-11-16T17:05:00.940643Z",
     "iopub.status.idle": "2023-11-16T17:05:00.947004Z",
     "shell.execute_reply": "2023-11-16T17:05:00.946157Z"
    },
    "papermill": {
     "duration": 0.147194,
     "end_time": "2023-11-16T17:05:00.948986",
     "exception": false,
     "start_time": "2023-11-16T17:05:00.801792",
     "status": "completed"
    },
    "tags": []
   },
   "outputs": [
    {
     "data": {
      "text/plain": [
       "array([[1., 1., 1., 1., 1., 1.],\n",
       "       [1., 1., 1., 1., 1., 1.]])"
      ]
     },
     "execution_count": 285,
     "metadata": {},
     "output_type": "execute_result"
    }
   ],
   "source": [
    "f = np.ones((2,6))\n",
    "f"
   ]
  },
  {
   "cell_type": "code",
   "execution_count": 286,
   "id": "ee351337",
   "metadata": {
    "execution": {
     "iopub.execute_input": "2023-11-16T17:05:01.284790Z",
     "iopub.status.busy": "2023-11-16T17:05:01.283941Z",
     "iopub.status.idle": "2023-11-16T17:05:01.290778Z",
     "shell.execute_reply": "2023-11-16T17:05:01.289919Z"
    },
    "papermill": {
     "duration": 0.155673,
     "end_time": "2023-11-16T17:05:01.292859",
     "exception": false,
     "start_time": "2023-11-16T17:05:01.137186",
     "status": "completed"
    },
    "tags": []
   },
   "outputs": [
    {
     "data": {
      "text/plain": [
       "array([[22, 22, 22, 22, 22, 22, 22, 22],\n",
       "       [22, 22, 22, 22, 22, 22, 22, 22],\n",
       "       [22, 22, 22, 22, 22, 22, 22, 22],\n",
       "       [22, 22, 22, 22, 22, 22, 22, 22],\n",
       "       [22, 22, 22, 22, 22, 22, 22, 22]])"
      ]
     },
     "execution_count": 286,
     "metadata": {},
     "output_type": "execute_result"
    }
   ],
   "source": [
    "import numpy as np\n",
    "g = np.full((5,8),22)\n",
    "g"
   ]
  },
  {
   "cell_type": "code",
   "execution_count": 287,
   "id": "3f574438",
   "metadata": {
    "execution": {
     "iopub.execute_input": "2023-11-16T17:05:01.590747Z",
     "iopub.status.busy": "2023-11-16T17:05:01.589927Z",
     "iopub.status.idle": "2023-11-16T17:05:01.596256Z",
     "shell.execute_reply": "2023-11-16T17:05:01.595276Z"
    },
    "papermill": {
     "duration": 0.14948,
     "end_time": "2023-11-16T17:05:01.598304",
     "exception": false,
     "start_time": "2023-11-16T17:05:01.448824",
     "status": "completed"
    },
    "tags": []
   },
   "outputs": [
    {
     "data": {
      "text/plain": [
       "array([2, 3, 4])"
      ]
     },
     "execution_count": 287,
     "metadata": {},
     "output_type": "execute_result"
    }
   ],
   "source": [
    "# range(5) = [0,1,2,3,4]\n",
    "\n",
    "h = np.arange(2,5)\n",
    "h"
   ]
  },
  {
   "cell_type": "code",
   "execution_count": 288,
   "id": "03e34be5",
   "metadata": {
    "execution": {
     "iopub.execute_input": "2023-11-16T17:05:01.892292Z",
     "iopub.status.busy": "2023-11-16T17:05:01.891872Z",
     "iopub.status.idle": "2023-11-16T17:05:01.898531Z",
     "shell.execute_reply": "2023-11-16T17:05:01.897646Z"
    },
    "papermill": {
     "duration": 0.148363,
     "end_time": "2023-11-16T17:05:01.900522",
     "exception": false,
     "start_time": "2023-11-16T17:05:01.752159",
     "status": "completed"
    },
    "tags": []
   },
   "outputs": [
    {
     "data": {
      "text/plain": [
       "array([ 2,  4,  6,  8, 10, 12])"
      ]
     },
     "execution_count": 288,
     "metadata": {},
     "output_type": "execute_result"
    }
   ],
   "source": [
    "i = np.linspace(2,12,6).astype(\"int\")\n",
    "i"
   ]
  },
  {
   "cell_type": "code",
   "execution_count": 289,
   "id": "bd060e44",
   "metadata": {
    "execution": {
     "iopub.execute_input": "2023-11-16T17:05:02.200649Z",
     "iopub.status.busy": "2023-11-16T17:05:02.199862Z",
     "iopub.status.idle": "2023-11-16T17:05:02.207670Z",
     "shell.execute_reply": "2023-11-16T17:05:02.206702Z"
    },
    "papermill": {
     "duration": 0.166674,
     "end_time": "2023-11-16T17:05:02.209814",
     "exception": false,
     "start_time": "2023-11-16T17:05:02.043140",
     "status": "completed"
    },
    "tags": []
   },
   "outputs": [
    {
     "data": {
      "text/plain": [
       "array([[54.07340637,  5.45156893,  4.90043227, 12.83300527, 78.39046492],\n",
       "       [53.41302195, 83.13895747, 93.32988998, 44.12856357, 20.52399279],\n",
       "       [63.80317886, 11.03016382, 45.49532181, 49.35787366, 15.88738774],\n",
       "       [31.88998434, 83.34213948, 34.39728062, 52.01039571, 82.67636388],\n",
       "       [99.48815089, 11.33027341, 73.07753692, 64.28254959, 15.56748302]])"
      ]
     },
     "execution_count": 289,
     "metadata": {},
     "output_type": "execute_result"
    }
   ],
   "source": [
    "a = np.random.rand(5,5)* 100 # 0 - 1\n",
    "a"
   ]
  },
  {
   "cell_type": "code",
   "execution_count": 290,
   "id": "12d634cc",
   "metadata": {
    "execution": {
     "iopub.execute_input": "2023-11-16T17:05:02.493799Z",
     "iopub.status.busy": "2023-11-16T17:05:02.493479Z",
     "iopub.status.idle": "2023-11-16T17:05:02.501621Z",
     "shell.execute_reply": "2023-11-16T17:05:02.500753Z"
    },
    "papermill": {
     "duration": 0.149937,
     "end_time": "2023-11-16T17:05:02.503654",
     "exception": false,
     "start_time": "2023-11-16T17:05:02.353717",
     "status": "completed"
    },
    "tags": []
   },
   "outputs": [
    {
     "data": {
      "text/plain": [
       "array([[16, 14, 16],\n",
       "       [17, 17, 15]])"
      ]
     },
     "execution_count": 290,
     "metadata": {},
     "output_type": "execute_result"
    }
   ],
   "source": [
    "b = np.random.randint(10,20,(2,3))\n",
    "b"
   ]
  },
  {
   "cell_type": "code",
   "execution_count": 291,
   "id": "e5c07512",
   "metadata": {
    "execution": {
     "iopub.execute_input": "2023-11-16T17:05:02.784902Z",
     "iopub.status.busy": "2023-11-16T17:05:02.784574Z",
     "iopub.status.idle": "2023-11-16T17:05:02.791239Z",
     "shell.execute_reply": "2023-11-16T17:05:02.790200Z"
    },
    "papermill": {
     "duration": 0.151891,
     "end_time": "2023-11-16T17:05:02.793530",
     "exception": false,
     "start_time": "2023-11-16T17:05:02.641639",
     "status": "completed"
    },
    "tags": []
   },
   "outputs": [
    {
     "data": {
      "text/plain": [
       "[[1, 2, 3], [4, 5, 6]]"
      ]
     },
     "execution_count": 291,
     "metadata": {},
     "output_type": "execute_result"
    }
   ],
   "source": [
    "a = [[1,2,3],[4,5,6]]\n",
    "a"
   ]
  },
  {
   "cell_type": "code",
   "execution_count": 292,
   "id": "97e32fd4",
   "metadata": {
    "execution": {
     "iopub.execute_input": "2023-11-16T17:05:03.070606Z",
     "iopub.status.busy": "2023-11-16T17:05:03.070238Z",
     "iopub.status.idle": "2023-11-16T17:05:03.076474Z",
     "shell.execute_reply": "2023-11-16T17:05:03.075585Z"
    },
    "papermill": {
     "duration": 0.145628,
     "end_time": "2023-11-16T17:05:03.078410",
     "exception": false,
     "start_time": "2023-11-16T17:05:02.932782",
     "status": "completed"
    },
    "tags": []
   },
   "outputs": [
    {
     "data": {
      "text/plain": [
       "array([[1, 2, 3],\n",
       "       [4, 5, 6]])"
      ]
     },
     "execution_count": 292,
     "metadata": {},
     "output_type": "execute_result"
    }
   ],
   "source": [
    "b = np.array(a)\n",
    "b"
   ]
  },
  {
   "cell_type": "code",
   "execution_count": 293,
   "id": "338e62b5",
   "metadata": {
    "execution": {
     "iopub.execute_input": "2023-11-16T17:05:03.362613Z",
     "iopub.status.busy": "2023-11-16T17:05:03.362233Z",
     "iopub.status.idle": "2023-11-16T17:05:03.366813Z",
     "shell.execute_reply": "2023-11-16T17:05:03.365907Z"
    },
    "papermill": {
     "duration": 0.148459,
     "end_time": "2023-11-16T17:05:03.368667",
     "exception": false,
     "start_time": "2023-11-16T17:05:03.220208",
     "status": "completed"
    },
    "tags": []
   },
   "outputs": [],
   "source": [
    "a = np.zeros((10,10))\n",
    "b = a[:5,:]"
   ]
  },
  {
   "cell_type": "code",
   "execution_count": 294,
   "id": "9414d9d0",
   "metadata": {
    "execution": {
     "iopub.execute_input": "2023-11-16T17:05:03.699600Z",
     "iopub.status.busy": "2023-11-16T17:05:03.699240Z",
     "iopub.status.idle": "2023-11-16T17:05:03.705106Z",
     "shell.execute_reply": "2023-11-16T17:05:03.704224Z"
    },
    "papermill": {
     "duration": 0.196681,
     "end_time": "2023-11-16T17:05:03.706963",
     "exception": false,
     "start_time": "2023-11-16T17:05:03.510282",
     "status": "completed"
    },
    "tags": []
   },
   "outputs": [
    {
     "data": {
      "text/plain": [
       "10"
      ]
     },
     "execution_count": 294,
     "metadata": {},
     "output_type": "execute_result"
    }
   ],
   "source": [
    "b.shape[1]"
   ]
  },
  {
   "cell_type": "code",
   "execution_count": 295,
   "id": "9eaba616",
   "metadata": {
    "execution": {
     "iopub.execute_input": "2023-11-16T17:05:03.995289Z",
     "iopub.status.busy": "2023-11-16T17:05:03.994913Z",
     "iopub.status.idle": "2023-11-16T17:05:04.001900Z",
     "shell.execute_reply": "2023-11-16T17:05:04.001095Z"
    },
    "papermill": {
     "duration": 0.153772,
     "end_time": "2023-11-16T17:05:04.004005",
     "exception": false,
     "start_time": "2023-11-16T17:05:03.850233",
     "status": "completed"
    },
    "tags": []
   },
   "outputs": [
    {
     "data": {
      "text/plain": [
       "array([[0, 0, 0, 0, 0, 0, 0, 0]])"
      ]
     },
     "execution_count": 295,
     "metadata": {},
     "output_type": "execute_result"
    }
   ],
   "source": [
    "a = [[0,0,0,0],[0,0,0,0]]\n",
    "b = np.array(a)\n",
    "b.reshape((1,8))"
   ]
  },
  {
   "cell_type": "code",
   "execution_count": 296,
   "id": "75beb2c7",
   "metadata": {
    "execution": {
     "iopub.execute_input": "2023-11-16T17:05:04.306174Z",
     "iopub.status.busy": "2023-11-16T17:05:04.305785Z",
     "iopub.status.idle": "2023-11-16T17:05:04.314348Z",
     "shell.execute_reply": "2023-11-16T17:05:04.313350Z"
    },
    "papermill": {
     "duration": 0.166409,
     "end_time": "2023-11-16T17:05:04.316650",
     "exception": false,
     "start_time": "2023-11-16T17:05:04.150241",
     "status": "completed"
    },
    "tags": []
   },
   "outputs": [
    {
     "data": {
      "text/plain": [
       "array([[0],\n",
       "       [0],\n",
       "       [0],\n",
       "       [0]])"
      ]
     },
     "execution_count": 296,
     "metadata": {},
     "output_type": "execute_result"
    }
   ],
   "source": [
    "a = [0,0,0,0]\n",
    "b = np.array(a)\n",
    "b= b[:,np.newaxis]\n",
    "b"
   ]
  },
  {
   "cell_type": "code",
   "execution_count": 297,
   "id": "c6ea455b",
   "metadata": {
    "execution": {
     "iopub.execute_input": "2023-11-16T17:05:04.627639Z",
     "iopub.status.busy": "2023-11-16T17:05:04.626942Z",
     "iopub.status.idle": "2023-11-16T17:05:04.632817Z",
     "shell.execute_reply": "2023-11-16T17:05:04.631953Z"
    },
    "papermill": {
     "duration": 0.148189,
     "end_time": "2023-11-16T17:05:04.634764",
     "exception": false,
     "start_time": "2023-11-16T17:05:04.486575",
     "status": "completed"
    },
    "tags": []
   },
   "outputs": [
    {
     "data": {
      "text/plain": [
       "dtype('int64')"
      ]
     },
     "execution_count": 297,
     "metadata": {},
     "output_type": "execute_result"
    }
   ],
   "source": [
    "b.dtype"
   ]
  },
  {
   "cell_type": "code",
   "execution_count": 298,
   "id": "d83be385",
   "metadata": {
    "execution": {
     "iopub.execute_input": "2023-11-16T17:05:04.918304Z",
     "iopub.status.busy": "2023-11-16T17:05:04.917961Z",
     "iopub.status.idle": "2023-11-16T17:05:04.924832Z",
     "shell.execute_reply": "2023-11-16T17:05:04.923863Z"
    },
    "papermill": {
     "duration": 0.152939,
     "end_time": "2023-11-16T17:05:04.927047",
     "exception": false,
     "start_time": "2023-11-16T17:05:04.774108",
     "status": "completed"
    },
    "tags": []
   },
   "outputs": [
    {
     "data": {
      "text/plain": [
       "array([0., 1., 0., 0.])"
      ]
     },
     "execution_count": 298,
     "metadata": {},
     "output_type": "execute_result"
    }
   ],
   "source": [
    "a = [0,1,0,0]\n",
    "b = np.array(a,dtype= float)\n",
    "b"
   ]
  },
  {
   "cell_type": "code",
   "execution_count": 299,
   "id": "57b95979",
   "metadata": {
    "execution": {
     "iopub.execute_input": "2023-11-16T17:05:05.207815Z",
     "iopub.status.busy": "2023-11-16T17:05:05.207424Z",
     "iopub.status.idle": "2023-11-16T17:05:05.213889Z",
     "shell.execute_reply": "2023-11-16T17:05:05.213051Z"
    },
    "papermill": {
     "duration": 0.149346,
     "end_time": "2023-11-16T17:05:05.215949",
     "exception": false,
     "start_time": "2023-11-16T17:05:05.066603",
     "status": "completed"
    },
    "tags": []
   },
   "outputs": [
    {
     "data": {
      "text/plain": [
       "[100, 120, 115, 140, 10, 10, 10, 10]"
      ]
     },
     "execution_count": 299,
     "metadata": {},
     "output_type": "execute_result"
    }
   ],
   "source": [
    "a = [100,120,115,140]\n",
    "b = [10,10,10,10]\n",
    "a + b"
   ]
  },
  {
   "cell_type": "code",
   "execution_count": 300,
   "id": "2d20c8f7",
   "metadata": {
    "execution": {
     "iopub.execute_input": "2023-11-16T17:05:05.498498Z",
     "iopub.status.busy": "2023-11-16T17:05:05.498114Z",
     "iopub.status.idle": "2023-11-16T17:05:05.505265Z",
     "shell.execute_reply": "2023-11-16T17:05:05.504272Z"
    },
    "papermill": {
     "duration": 0.152422,
     "end_time": "2023-11-16T17:05:05.507348",
     "exception": false,
     "start_time": "2023-11-16T17:05:05.354926",
     "status": "completed"
    },
    "tags": []
   },
   "outputs": [
    {
     "data": {
      "text/plain": [
       "array([110. , 132. , 126.5, 154. ])"
      ]
     },
     "execution_count": 300,
     "metadata": {},
     "output_type": "execute_result"
    }
   ],
   "source": [
    "a = np.array([100,120,115,140])\n",
    "b = np.array([1.1,1.1,1.1,1.1])\n",
    "a * b"
   ]
  },
  {
   "cell_type": "code",
   "execution_count": 301,
   "id": "ab3ac98c",
   "metadata": {
    "execution": {
     "iopub.execute_input": "2023-11-16T17:05:05.801139Z",
     "iopub.status.busy": "2023-11-16T17:05:05.800453Z",
     "iopub.status.idle": "2023-11-16T17:05:05.807229Z",
     "shell.execute_reply": "2023-11-16T17:05:05.806406Z"
    },
    "papermill": {
     "duration": 0.148956,
     "end_time": "2023-11-16T17:05:05.809211",
     "exception": false,
     "start_time": "2023-11-16T17:05:05.660255",
     "status": "completed"
    },
    "tags": []
   },
   "outputs": [
    {
     "data": {
      "text/plain": [
       "array([110. , 132. , 126.5, 154. ])"
      ]
     },
     "execution_count": 301,
     "metadata": {},
     "output_type": "execute_result"
    }
   ],
   "source": [
    "a = np.array([100,120,115,140])\n",
    "b = 1.1\n",
    "a * b"
   ]
  },
  {
   "cell_type": "code",
   "execution_count": 302,
   "id": "de5176e1",
   "metadata": {
    "execution": {
     "iopub.execute_input": "2023-11-16T17:05:06.137250Z",
     "iopub.status.busy": "2023-11-16T17:05:06.136216Z",
     "iopub.status.idle": "2023-11-16T17:05:06.143148Z",
     "shell.execute_reply": "2023-11-16T17:05:06.142277Z"
    },
    "papermill": {
     "duration": 0.16692,
     "end_time": "2023-11-16T17:05:06.145465",
     "exception": false,
     "start_time": "2023-11-16T17:05:05.978545",
     "status": "completed"
    },
    "tags": []
   },
   "outputs": [
    {
     "data": {
      "text/plain": [
       "475"
      ]
     },
     "execution_count": 302,
     "metadata": {},
     "output_type": "execute_result"
    }
   ],
   "source": [
    "a = np.array([100,120,115,140])\n",
    "\n",
    "np.sum(a)"
   ]
  },
  {
   "cell_type": "code",
   "execution_count": 303,
   "id": "c1cc7c20",
   "metadata": {
    "execution": {
     "iopub.execute_input": "2023-11-16T17:05:06.496836Z",
     "iopub.status.busy": "2023-11-16T17:05:06.495988Z",
     "iopub.status.idle": "2023-11-16T17:05:06.503294Z",
     "shell.execute_reply": "2023-11-16T17:05:06.502346Z"
    },
    "papermill": {
     "duration": 0.149145,
     "end_time": "2023-11-16T17:05:06.505293",
     "exception": false,
     "start_time": "2023-11-16T17:05:06.356148",
     "status": "completed"
    },
    "tags": []
   },
   "outputs": [
    {
     "data": {
      "text/plain": [
       "140"
      ]
     },
     "execution_count": 303,
     "metadata": {},
     "output_type": "execute_result"
    }
   ],
   "source": [
    "np.max(a)"
   ]
  },
  {
   "cell_type": "code",
   "execution_count": 304,
   "id": "f182e1ae",
   "metadata": {
    "execution": {
     "iopub.execute_input": "2023-11-16T17:05:06.791087Z",
     "iopub.status.busy": "2023-11-16T17:05:06.790024Z",
     "iopub.status.idle": "2023-11-16T17:05:06.797343Z",
     "shell.execute_reply": "2023-11-16T17:05:06.796398Z"
    },
    "papermill": {
     "duration": 0.152201,
     "end_time": "2023-11-16T17:05:06.799207",
     "exception": false,
     "start_time": "2023-11-16T17:05:06.647006",
     "status": "completed"
    },
    "tags": []
   },
   "outputs": [
    {
     "data": {
      "text/plain": [
       "100"
      ]
     },
     "execution_count": 304,
     "metadata": {},
     "output_type": "execute_result"
    }
   ],
   "source": [
    "np.min(a)"
   ]
  },
  {
   "cell_type": "code",
   "execution_count": 305,
   "id": "555de5e4",
   "metadata": {
    "execution": {
     "iopub.execute_input": "2023-11-16T17:05:07.092535Z",
     "iopub.status.busy": "2023-11-16T17:05:07.091933Z",
     "iopub.status.idle": "2023-11-16T17:05:07.098404Z",
     "shell.execute_reply": "2023-11-16T17:05:07.097473Z"
    },
    "papermill": {
     "duration": 0.155594,
     "end_time": "2023-11-16T17:05:07.100494",
     "exception": false,
     "start_time": "2023-11-16T17:05:06.944900",
     "status": "completed"
    },
    "tags": []
   },
   "outputs": [
    {
     "data": {
      "text/plain": [
       "204.6875"
      ]
     },
     "execution_count": 305,
     "metadata": {},
     "output_type": "execute_result"
    }
   ],
   "source": [
    "np.var(a)"
   ]
  },
  {
   "cell_type": "code",
   "execution_count": 306,
   "id": "5ea62aff",
   "metadata": {
    "execution": {
     "iopub.execute_input": "2023-11-16T17:05:07.390186Z",
     "iopub.status.busy": "2023-11-16T17:05:07.389877Z",
     "iopub.status.idle": "2023-11-16T17:05:07.395941Z",
     "shell.execute_reply": "2023-11-16T17:05:07.395088Z"
    },
    "papermill": {
     "duration": 0.149577,
     "end_time": "2023-11-16T17:05:07.397981",
     "exception": false,
     "start_time": "2023-11-16T17:05:07.248404",
     "status": "completed"
    },
    "tags": []
   },
   "outputs": [
    {
     "data": {
      "text/plain": [
       "14.306903927824496"
      ]
     },
     "execution_count": 306,
     "metadata": {},
     "output_type": "execute_result"
    }
   ],
   "source": [
    "np.std(a)"
   ]
  },
  {
   "cell_type": "code",
   "execution_count": 307,
   "id": "c127d13d",
   "metadata": {
    "execution": {
     "iopub.execute_input": "2023-11-16T17:05:07.684253Z",
     "iopub.status.busy": "2023-11-16T17:05:07.683556Z",
     "iopub.status.idle": "2023-11-16T17:05:07.689929Z",
     "shell.execute_reply": "2023-11-16T17:05:07.689086Z"
    },
    "papermill": {
     "duration": 0.153942,
     "end_time": "2023-11-16T17:05:07.691854",
     "exception": false,
     "start_time": "2023-11-16T17:05:07.537912",
     "status": "completed"
    },
    "tags": []
   },
   "outputs": [
    {
     "data": {
      "text/plain": [
       "array([10.        , 10.95445115, 10.72380529, 11.83215957])"
      ]
     },
     "execution_count": 307,
     "metadata": {},
     "output_type": "execute_result"
    }
   ],
   "source": [
    "np.sqrt(a)"
   ]
  },
  {
   "cell_type": "code",
   "execution_count": 308,
   "id": "79c2e2b5",
   "metadata": {
    "execution": {
     "iopub.execute_input": "2023-11-16T17:05:07.974828Z",
     "iopub.status.busy": "2023-11-16T17:05:07.974509Z",
     "iopub.status.idle": "2023-11-16T17:05:07.981519Z",
     "shell.execute_reply": "2023-11-16T17:05:07.980482Z"
    },
    "papermill": {
     "duration": 0.151118,
     "end_time": "2023-11-16T17:05:07.984068",
     "exception": false,
     "start_time": "2023-11-16T17:05:07.832950",
     "status": "completed"
    },
    "tags": []
   },
   "outputs": [
    {
     "data": {
      "text/plain": [
       "array([ 0.86231887,  0.81418097, -0.32580981, -0.19781357])"
      ]
     },
     "execution_count": 308,
     "metadata": {},
     "output_type": "execute_result"
    }
   ],
   "source": [
    "np.cos(a)"
   ]
  },
  {
   "cell_type": "code",
   "execution_count": 309,
   "id": "f22ec6a3",
   "metadata": {
    "execution": {
     "iopub.execute_input": "2023-11-16T17:05:08.268359Z",
     "iopub.status.busy": "2023-11-16T17:05:08.267664Z",
     "iopub.status.idle": "2023-11-16T17:05:08.273745Z",
     "shell.execute_reply": "2023-11-16T17:05:08.272838Z"
    },
    "papermill": {
     "duration": 0.14977,
     "end_time": "2023-11-16T17:05:08.275818",
     "exception": false,
     "start_time": "2023-11-16T17:05:08.126048",
     "status": "completed"
    },
    "tags": []
   },
   "outputs": [
    {
     "data": {
      "text/plain": [
       "array([2.68811714e+43, 1.30418088e+52, 8.78750164e+49, 6.32743171e+60])"
      ]
     },
     "execution_count": 309,
     "metadata": {},
     "output_type": "execute_result"
    }
   ],
   "source": [
    "np.exp(a)"
   ]
  },
  {
   "cell_type": "code",
   "execution_count": 310,
   "id": "61f81a89",
   "metadata": {
    "execution": {
     "iopub.execute_input": "2023-11-16T17:05:08.555767Z",
     "iopub.status.busy": "2023-11-16T17:05:08.555072Z",
     "iopub.status.idle": "2023-11-16T17:05:08.561191Z",
     "shell.execute_reply": "2023-11-16T17:05:08.560307Z"
    },
    "papermill": {
     "duration": 0.147959,
     "end_time": "2023-11-16T17:05:08.563067",
     "exception": false,
     "start_time": "2023-11-16T17:05:08.415108",
     "status": "completed"
    },
    "tags": []
   },
   "outputs": [
    {
     "data": {
      "text/plain": [
       "118.75"
      ]
     },
     "execution_count": 310,
     "metadata": {},
     "output_type": "execute_result"
    }
   ],
   "source": [
    "np.mean(a)"
   ]
  },
  {
   "cell_type": "code",
   "execution_count": 311,
   "id": "44da2579",
   "metadata": {
    "execution": {
     "iopub.execute_input": "2023-11-16T17:05:08.896166Z",
     "iopub.status.busy": "2023-11-16T17:05:08.895441Z",
     "iopub.status.idle": "2023-11-16T17:05:08.904331Z",
     "shell.execute_reply": "2023-11-16T17:05:08.903502Z"
    },
    "papermill": {
     "duration": 0.200483,
     "end_time": "2023-11-16T17:05:08.906302",
     "exception": false,
     "start_time": "2023-11-16T17:05:08.705819",
     "status": "completed"
    },
    "tags": []
   },
   "outputs": [
    {
     "data": {
      "text/plain": [
       "117.5"
      ]
     },
     "execution_count": 311,
     "metadata": {},
     "output_type": "execute_result"
    }
   ],
   "source": [
    "np.median(a)"
   ]
  },
  {
   "cell_type": "code",
   "execution_count": 312,
   "id": "9dee4bb2",
   "metadata": {
    "execution": {
     "iopub.execute_input": "2023-11-16T17:05:09.188612Z",
     "iopub.status.busy": "2023-11-16T17:05:09.188241Z",
     "iopub.status.idle": "2023-11-16T17:05:09.194714Z",
     "shell.execute_reply": "2023-11-16T17:05:09.193827Z"
    },
    "papermill": {
     "duration": 0.149621,
     "end_time": "2023-11-16T17:05:09.196749",
     "exception": false,
     "start_time": "2023-11-16T17:05:09.047128",
     "status": "completed"
    },
    "tags": []
   },
   "outputs": [
    {
     "data": {
      "text/plain": [
       "array([100, 115, 120, 140])"
      ]
     },
     "execution_count": 312,
     "metadata": {},
     "output_type": "execute_result"
    }
   ],
   "source": [
    "np.sort(a)"
   ]
  },
  {
   "cell_type": "code",
   "execution_count": 313,
   "id": "f14d8a89",
   "metadata": {
    "execution": {
     "iopub.execute_input": "2023-11-16T17:05:09.485796Z",
     "iopub.status.busy": "2023-11-16T17:05:09.485411Z",
     "iopub.status.idle": "2023-11-16T17:05:09.489774Z",
     "shell.execute_reply": "2023-11-16T17:05:09.488822Z"
    },
    "papermill": {
     "duration": 0.148276,
     "end_time": "2023-11-16T17:05:09.491797",
     "exception": false,
     "start_time": "2023-11-16T17:05:09.343521",
     "status": "completed"
    },
    "tags": []
   },
   "outputs": [],
   "source": [
    "# np.sort(a,reverse = True)"
   ]
  },
  {
   "cell_type": "code",
   "execution_count": 314,
   "id": "262f5e15",
   "metadata": {
    "execution": {
     "iopub.execute_input": "2023-11-16T17:05:09.781178Z",
     "iopub.status.busy": "2023-11-16T17:05:09.780492Z",
     "iopub.status.idle": "2023-11-16T17:05:09.784558Z",
     "shell.execute_reply": "2023-11-16T17:05:09.783669Z"
    },
    "papermill": {
     "duration": 0.152408,
     "end_time": "2023-11-16T17:05:09.786724",
     "exception": false,
     "start_time": "2023-11-16T17:05:09.634316",
     "status": "completed"
    },
    "tags": []
   },
   "outputs": [],
   "source": [
    "# help(np.sort(a))"
   ]
  },
  {
   "cell_type": "code",
   "execution_count": 315,
   "id": "a33f6b7e",
   "metadata": {
    "execution": {
     "iopub.execute_input": "2023-11-16T17:05:10.077299Z",
     "iopub.status.busy": "2023-11-16T17:05:10.076350Z",
     "iopub.status.idle": "2023-11-16T17:05:10.083315Z",
     "shell.execute_reply": "2023-11-16T17:05:10.082410Z"
    },
    "papermill": {
     "duration": 0.156527,
     "end_time": "2023-11-16T17:05:10.085584",
     "exception": false,
     "start_time": "2023-11-16T17:05:09.929057",
     "status": "completed"
    },
    "tags": []
   },
   "outputs": [
    {
     "data": {
      "text/plain": [
       "array([140, 120, 115, 100])"
      ]
     },
     "execution_count": 315,
     "metadata": {},
     "output_type": "execute_result"
    }
   ],
   "source": [
    "np.sort(a)[::-1]"
   ]
  },
  {
   "cell_type": "code",
   "execution_count": 316,
   "id": "7ef73e44",
   "metadata": {
    "execution": {
     "iopub.execute_input": "2023-11-16T17:05:10.402054Z",
     "iopub.status.busy": "2023-11-16T17:05:10.401702Z",
     "iopub.status.idle": "2023-11-16T17:05:10.407615Z",
     "shell.execute_reply": "2023-11-16T17:05:10.406891Z"
    },
    "papermill": {
     "duration": 0.165765,
     "end_time": "2023-11-16T17:05:10.409891",
     "exception": false,
     "start_time": "2023-11-16T17:05:10.244126",
     "status": "completed"
    },
    "tags": []
   },
   "outputs": [
    {
     "data": {
      "text/plain": [
       "[20, 15, 10]"
      ]
     },
     "execution_count": 316,
     "metadata": {},
     "output_type": "execute_result"
    }
   ],
   "source": [
    "a = [10,20,15]\n",
    "sorted(a,reverse = True)\n"
   ]
  },
  {
   "cell_type": "code",
   "execution_count": 317,
   "id": "1133fb1b",
   "metadata": {
    "execution": {
     "iopub.execute_input": "2023-11-16T17:05:10.698563Z",
     "iopub.status.busy": "2023-11-16T17:05:10.698183Z",
     "iopub.status.idle": "2023-11-16T17:05:10.703459Z",
     "shell.execute_reply": "2023-11-16T17:05:10.702544Z"
    },
    "papermill": {
     "duration": 0.150824,
     "end_time": "2023-11-16T17:05:10.705557",
     "exception": false,
     "start_time": "2023-11-16T17:05:10.554733",
     "status": "completed"
    },
    "tags": []
   },
   "outputs": [
    {
     "name": "stdout",
     "output_type": "stream",
     "text": [
      "None\n"
     ]
    }
   ],
   "source": [
    "a = [10,20,30,15]\n",
    "print(a.sort())\n"
   ]
  },
  {
   "cell_type": "code",
   "execution_count": 318,
   "id": "e63c6fb2",
   "metadata": {
    "execution": {
     "iopub.execute_input": "2023-11-16T17:05:10.998781Z",
     "iopub.status.busy": "2023-11-16T17:05:10.998382Z",
     "iopub.status.idle": "2023-11-16T17:05:11.004734Z",
     "shell.execute_reply": "2023-11-16T17:05:11.003782Z"
    },
    "papermill": {
     "duration": 0.15674,
     "end_time": "2023-11-16T17:05:11.007003",
     "exception": false,
     "start_time": "2023-11-16T17:05:10.850263",
     "status": "completed"
    },
    "tags": []
   },
   "outputs": [
    {
     "data": {
      "text/plain": [
       "[10, 15, 20, 30]"
      ]
     },
     "execution_count": 318,
     "metadata": {},
     "output_type": "execute_result"
    }
   ],
   "source": [
    "sorted(a)"
   ]
  },
  {
   "cell_type": "code",
   "execution_count": 319,
   "id": "c821cb4e",
   "metadata": {
    "execution": {
     "iopub.execute_input": "2023-11-16T17:05:11.293596Z",
     "iopub.status.busy": "2023-11-16T17:05:11.292861Z",
     "iopub.status.idle": "2023-11-16T17:05:11.298975Z",
     "shell.execute_reply": "2023-11-16T17:05:11.298155Z"
    },
    "papermill": {
     "duration": 0.152261,
     "end_time": "2023-11-16T17:05:11.304105",
     "exception": false,
     "start_time": "2023-11-16T17:05:11.151844",
     "status": "completed"
    },
    "tags": []
   },
   "outputs": [
    {
     "data": {
      "text/plain": [
       "[9, 10]"
      ]
     },
     "execution_count": 319,
     "metadata": {},
     "output_type": "execute_result"
    }
   ],
   "source": [
    "b = [10,9]\n",
    "b.sort()\n",
    "b"
   ]
  },
  {
   "cell_type": "code",
   "execution_count": 320,
   "id": "ca7d5a46",
   "metadata": {
    "execution": {
     "iopub.execute_input": "2023-11-16T17:05:11.675192Z",
     "iopub.status.busy": "2023-11-16T17:05:11.674339Z",
     "iopub.status.idle": "2023-11-16T17:05:11.678262Z",
     "shell.execute_reply": "2023-11-16T17:05:11.677472Z"
    },
    "papermill": {
     "duration": 0.152229,
     "end_time": "2023-11-16T17:05:11.680183",
     "exception": false,
     "start_time": "2023-11-16T17:05:11.527954",
     "status": "completed"
    },
    "tags": []
   },
   "outputs": [],
   "source": [
    "# sort  inplace\n",
    "# soerted new list\n",
    "\n",
    "\n",
    "# np.sort()  new list "
   ]
  },
  {
   "cell_type": "code",
   "execution_count": 321,
   "id": "77b8eac7",
   "metadata": {
    "execution": {
     "iopub.execute_input": "2023-11-16T17:05:11.966160Z",
     "iopub.status.busy": "2023-11-16T17:05:11.965828Z",
     "iopub.status.idle": "2023-11-16T17:05:11.974004Z",
     "shell.execute_reply": "2023-11-16T17:05:11.972925Z"
    },
    "papermill": {
     "duration": 0.15575,
     "end_time": "2023-11-16T17:05:11.977082",
     "exception": false,
     "start_time": "2023-11-16T17:05:11.821332",
     "status": "completed"
    },
    "tags": []
   },
   "outputs": [
    {
     "data": {
      "text/plain": [
       "(array([0, 1, 4]),)"
      ]
     },
     "execution_count": 321,
     "metadata": {},
     "output_type": "execute_result"
    }
   ],
   "source": [
    "import numpy as np\n",
    "\n",
    "a = np.array([90,85,60,79,90])\n",
    "\n",
    "\n",
    "np.where ( a > 80)\n"
   ]
  },
  {
   "cell_type": "code",
   "execution_count": 322,
   "id": "7991d356",
   "metadata": {
    "execution": {
     "iopub.execute_input": "2023-11-16T17:05:12.284941Z",
     "iopub.status.busy": "2023-11-16T17:05:12.284598Z",
     "iopub.status.idle": "2023-11-16T17:05:12.291242Z",
     "shell.execute_reply": "2023-11-16T17:05:12.290358Z"
    },
    "papermill": {
     "duration": 0.149054,
     "end_time": "2023-11-16T17:05:12.293339",
     "exception": false,
     "start_time": "2023-11-16T17:05:12.144285",
     "status": "completed"
    },
    "tags": []
   },
   "outputs": [
    {
     "data": {
      "text/plain": [
       "array([[0.52191572, 0.69940637, 0.26986897],\n",
       "       [0.67448187, 0.90807208, 0.6851502 ]])"
      ]
     },
     "execution_count": 322,
     "metadata": {},
     "output_type": "execute_result"
    }
   ],
   "source": [
    "#seed\n",
    "np.random.seed(80)\n",
    "a = np.random.rand(2,3)\n",
    "a"
   ]
  },
  {
   "cell_type": "code",
   "execution_count": 323,
   "id": "46ab1db0",
   "metadata": {
    "execution": {
     "iopub.execute_input": "2023-11-16T17:05:12.595709Z",
     "iopub.status.busy": "2023-11-16T17:05:12.595149Z",
     "iopub.status.idle": "2023-11-16T17:05:12.602418Z",
     "shell.execute_reply": "2023-11-16T17:05:12.601400Z"
    },
    "papermill": {
     "duration": 0.156716,
     "end_time": "2023-11-16T17:05:12.604569",
     "exception": false,
     "start_time": "2023-11-16T17:05:12.447853",
     "status": "completed"
    },
    "tags": []
   },
   "outputs": [
    {
     "data": {
      "text/plain": [
       "array([[0.21165334, 0.31726607, 0.2672994 ],\n",
       "       [0.12050632, 0.9968569 , 0.08043969]])"
      ]
     },
     "execution_count": 323,
     "metadata": {},
     "output_type": "execute_result"
    }
   ],
   "source": [
    "a = np.random.rand(2,3)\n",
    "a"
   ]
  },
  {
   "cell_type": "code",
   "execution_count": 324,
   "id": "20645405",
   "metadata": {
    "execution": {
     "iopub.execute_input": "2023-11-16T17:05:12.905986Z",
     "iopub.status.busy": "2023-11-16T17:05:12.905664Z",
     "iopub.status.idle": "2023-11-16T17:05:12.912575Z",
     "shell.execute_reply": "2023-11-16T17:05:12.911672Z"
    },
    "papermill": {
     "duration": 0.15714,
     "end_time": "2023-11-16T17:05:12.914487",
     "exception": false,
     "start_time": "2023-11-16T17:05:12.757347",
     "status": "completed"
    },
    "tags": []
   },
   "outputs": [
    {
     "data": {
      "text/plain": [
       "array([[0.52191572, 0.69940637, 0.26986897],\n",
       "       [0.67448187, 0.90807208, 0.6851502 ]])"
      ]
     },
     "execution_count": 324,
     "metadata": {},
     "output_type": "execute_result"
    }
   ],
   "source": [
    "np.random.seed(80)\n",
    "a = np.random.rand(2,3)\n",
    "a"
   ]
  },
  {
   "cell_type": "code",
   "execution_count": 325,
   "id": "1d6149a9",
   "metadata": {
    "execution": {
     "iopub.execute_input": "2023-11-16T17:05:13.212920Z",
     "iopub.status.busy": "2023-11-16T17:05:13.212603Z",
     "iopub.status.idle": "2023-11-16T17:05:13.218933Z",
     "shell.execute_reply": "2023-11-16T17:05:13.218082Z"
    },
    "papermill": {
     "duration": 0.15398,
     "end_time": "2023-11-16T17:05:13.220853",
     "exception": false,
     "start_time": "2023-11-16T17:05:13.066873",
     "status": "completed"
    },
    "tags": []
   },
   "outputs": [
    {
     "data": {
      "text/plain": [
       "array([20., 28., 36., 44., 52., 60.])"
      ]
     },
     "execution_count": 325,
     "metadata": {},
     "output_type": "execute_result"
    }
   ],
   "source": [
    "np.linspace(20,60,6)"
   ]
  },
  {
   "cell_type": "code",
   "execution_count": 326,
   "id": "e5584da9",
   "metadata": {
    "execution": {
     "iopub.execute_input": "2023-11-16T17:05:13.506365Z",
     "iopub.status.busy": "2023-11-16T17:05:13.506060Z",
     "iopub.status.idle": "2023-11-16T17:05:13.512340Z",
     "shell.execute_reply": "2023-11-16T17:05:13.511487Z"
    },
    "papermill": {
     "duration": 0.151413,
     "end_time": "2023-11-16T17:05:13.514252",
     "exception": false,
     "start_time": "2023-11-16T17:05:13.362839",
     "status": "completed"
    },
    "tags": []
   },
   "outputs": [
    {
     "data": {
      "text/plain": [
       "array([[1., 1., 1.],\n",
       "       [1., 1., 1.],\n",
       "       [1., 1., 1.]])"
      ]
     },
     "execution_count": 326,
     "metadata": {},
     "output_type": "execute_result"
    }
   ],
   "source": [
    "a = np.ones((3,3))\n",
    "a"
   ]
  },
  {
   "cell_type": "code",
   "execution_count": 327,
   "id": "7b2b854c",
   "metadata": {
    "execution": {
     "iopub.execute_input": "2023-11-16T17:05:13.821275Z",
     "iopub.status.busy": "2023-11-16T17:05:13.820367Z",
     "iopub.status.idle": "2023-11-16T17:05:13.827481Z",
     "shell.execute_reply": "2023-11-16T17:05:13.826453Z"
    },
    "papermill": {
     "duration": 0.167029,
     "end_time": "2023-11-16T17:05:13.829694",
     "exception": false,
     "start_time": "2023-11-16T17:05:13.662665",
     "status": "completed"
    },
    "tags": []
   },
   "outputs": [
    {
     "data": {
      "text/plain": [
       "array([[0., 0., 0.],\n",
       "       [0., 0., 0.],\n",
       "       [0., 0., 0.]])"
      ]
     },
     "execution_count": 327,
     "metadata": {},
     "output_type": "execute_result"
    }
   ],
   "source": [
    "b = np.zeros((3,3))\n",
    "b"
   ]
  },
  {
   "cell_type": "code",
   "execution_count": 328,
   "id": "7321325f",
   "metadata": {
    "execution": {
     "iopub.execute_input": "2023-11-16T17:05:14.169967Z",
     "iopub.status.busy": "2023-11-16T17:05:14.169267Z",
     "iopub.status.idle": "2023-11-16T17:05:14.175646Z",
     "shell.execute_reply": "2023-11-16T17:05:14.174771Z"
    },
    "papermill": {
     "duration": 0.199837,
     "end_time": "2023-11-16T17:05:14.177862",
     "exception": false,
     "start_time": "2023-11-16T17:05:13.978025",
     "status": "completed"
    },
    "tags": []
   },
   "outputs": [
    {
     "data": {
      "text/plain": [
       "array([[1., 1., 1.],\n",
       "       [1., 1., 1.],\n",
       "       [1., 1., 1.],\n",
       "       [0., 0., 0.],\n",
       "       [0., 0., 0.],\n",
       "       [0., 0., 0.]])"
      ]
     },
     "execution_count": 328,
     "metadata": {},
     "output_type": "execute_result"
    }
   ],
   "source": [
    "c  = np.vstack((a,b))\n",
    "c"
   ]
  },
  {
   "cell_type": "code",
   "execution_count": 329,
   "id": "92e63201",
   "metadata": {
    "execution": {
     "iopub.execute_input": "2023-11-16T17:05:14.475400Z",
     "iopub.status.busy": "2023-11-16T17:05:14.475057Z",
     "iopub.status.idle": "2023-11-16T17:05:14.479240Z",
     "shell.execute_reply": "2023-11-16T17:05:14.478300Z"
    },
    "papermill": {
     "duration": 0.151248,
     "end_time": "2023-11-16T17:05:14.481130",
     "exception": false,
     "start_time": "2023-11-16T17:05:14.329882",
     "status": "completed"
    },
    "tags": []
   },
   "outputs": [],
   "source": [
    "# d  = np.hstack((a,b))\n",
    "# e = np."
   ]
  },
  {
   "cell_type": "code",
   "execution_count": 330,
   "id": "44637d3e",
   "metadata": {
    "execution": {
     "iopub.execute_input": "2023-11-16T17:05:14.779532Z",
     "iopub.status.busy": "2023-11-16T17:05:14.779176Z",
     "iopub.status.idle": "2023-11-16T17:05:14.785778Z",
     "shell.execute_reply": "2023-11-16T17:05:14.784829Z"
    },
    "papermill": {
     "duration": 0.159463,
     "end_time": "2023-11-16T17:05:14.787860",
     "exception": false,
     "start_time": "2023-11-16T17:05:14.628397",
     "status": "completed"
    },
    "tags": []
   },
   "outputs": [
    {
     "data": {
      "text/plain": [
       "array([[0., 0., 0.],\n",
       "       [0., 0., 0.],\n",
       "       [0., 0., 0.]])"
      ]
     },
     "execution_count": 330,
     "metadata": {},
     "output_type": "execute_result"
    }
   ],
   "source": [
    "b = np.zeros((3,3))\n",
    "b"
   ]
  },
  {
   "cell_type": "code",
   "execution_count": 331,
   "id": "5c4c7b5d",
   "metadata": {
    "execution": {
     "iopub.execute_input": "2023-11-16T17:05:15.077760Z",
     "iopub.status.busy": "2023-11-16T17:05:15.076953Z",
     "iopub.status.idle": "2023-11-16T17:05:15.081117Z",
     "shell.execute_reply": "2023-11-16T17:05:15.080255Z"
    },
    "papermill": {
     "duration": 0.151985,
     "end_time": "2023-11-16T17:05:15.083073",
     "exception": false,
     "start_time": "2023-11-16T17:05:14.931088",
     "status": "completed"
    },
    "tags": []
   },
   "outputs": [],
   "source": [
    "# np.genfromtxt(\"a.csv\")"
   ]
  },
  {
   "cell_type": "code",
   "execution_count": 332,
   "id": "97fe638a",
   "metadata": {
    "execution": {
     "iopub.execute_input": "2023-11-16T17:05:15.369064Z",
     "iopub.status.busy": "2023-11-16T17:05:15.368726Z",
     "iopub.status.idle": "2023-11-16T17:05:15.373606Z",
     "shell.execute_reply": "2023-11-16T17:05:15.372744Z"
    },
    "papermill": {
     "duration": 0.150714,
     "end_time": "2023-11-16T17:05:15.375498",
     "exception": false,
     "start_time": "2023-11-16T17:05:15.224784",
     "status": "completed"
    },
    "tags": []
   },
   "outputs": [],
   "source": [
    "np.save(\"parth.npy\",b)"
   ]
  },
  {
   "cell_type": "code",
   "execution_count": 333,
   "id": "f36df25c",
   "metadata": {
    "execution": {
     "iopub.execute_input": "2023-11-16T17:05:15.660281Z",
     "iopub.status.busy": "2023-11-16T17:05:15.659713Z",
     "iopub.status.idle": "2023-11-16T17:05:15.666492Z",
     "shell.execute_reply": "2023-11-16T17:05:15.665601Z"
    },
    "papermill": {
     "duration": 0.151394,
     "end_time": "2023-11-16T17:05:15.668419",
     "exception": false,
     "start_time": "2023-11-16T17:05:15.517025",
     "status": "completed"
    },
    "tags": []
   },
   "outputs": [
    {
     "data": {
      "text/plain": [
       "array([[0., 0., 0.],\n",
       "       [0., 0., 0.],\n",
       "       [0., 0., 0.]])"
      ]
     },
     "execution_count": 333,
     "metadata": {},
     "output_type": "execute_result"
    }
   ],
   "source": [
    "np.load(\"parth.npy\")"
   ]
  },
  {
   "cell_type": "code",
   "execution_count": 334,
   "id": "b33475cd",
   "metadata": {
    "execution": {
     "iopub.execute_input": "2023-11-16T17:05:15.958144Z",
     "iopub.status.busy": "2023-11-16T17:05:15.957794Z",
     "iopub.status.idle": "2023-11-16T17:05:15.964780Z",
     "shell.execute_reply": "2023-11-16T17:05:15.963838Z"
    },
    "papermill": {
     "duration": 0.155026,
     "end_time": "2023-11-16T17:05:15.966802",
     "exception": false,
     "start_time": "2023-11-16T17:05:15.811776",
     "status": "completed"
    },
    "tags": []
   },
   "outputs": [
    {
     "data": {
      "text/plain": [
       "array([[1., 1., 1., ..., 1., 1., 1.],\n",
       "       [1., 1., 1., ..., 1., 1., 1.],\n",
       "       [1., 1., 1., ..., 1., 1., 1.],\n",
       "       ...,\n",
       "       [1., 1., 1., ..., 1., 1., 1.],\n",
       "       [1., 1., 1., ..., 1., 1., 1.],\n",
       "       [1., 1., 1., ..., 1., 1., 1.]])"
      ]
     },
     "execution_count": 334,
     "metadata": {},
     "output_type": "execute_result"
    }
   ],
   "source": [
    "a = np.ones((8,240))\n",
    "a"
   ]
  },
  {
   "cell_type": "code",
   "execution_count": 335,
   "id": "59a80869",
   "metadata": {
    "execution": {
     "iopub.execute_input": "2023-11-16T17:05:16.260376Z",
     "iopub.status.busy": "2023-11-16T17:05:16.260002Z",
     "iopub.status.idle": "2023-11-16T17:05:16.266995Z",
     "shell.execute_reply": "2023-11-16T17:05:16.266033Z"
    },
    "papermill": {
     "duration": 0.158091,
     "end_time": "2023-11-16T17:05:16.269021",
     "exception": false,
     "start_time": "2023-11-16T17:05:16.110930",
     "status": "completed"
    },
    "tags": []
   },
   "outputs": [
    {
     "data": {
      "text/plain": [
       "array([[1., 1., 1., ..., 1., 1., 1.]])"
      ]
     },
     "execution_count": 335,
     "metadata": {},
     "output_type": "execute_result"
    }
   ],
   "source": [
    "a.reshape(1,-1)\n"
   ]
  },
  {
   "cell_type": "code",
   "execution_count": 336,
   "id": "cdc979de",
   "metadata": {
    "execution": {
     "iopub.execute_input": "2023-11-16T17:05:16.561045Z",
     "iopub.status.busy": "2023-11-16T17:05:16.560209Z",
     "iopub.status.idle": "2023-11-16T17:05:16.566967Z",
     "shell.execute_reply": "2023-11-16T17:05:16.566052Z"
    },
    "papermill": {
     "duration": 0.151758,
     "end_time": "2023-11-16T17:05:16.568954",
     "exception": false,
     "start_time": "2023-11-16T17:05:16.417196",
     "status": "completed"
    },
    "tags": []
   },
   "outputs": [
    {
     "data": {
      "text/plain": [
       "array([1., 1., 1., ..., 1., 1., 1.])"
      ]
     },
     "execution_count": 336,
     "metadata": {},
     "output_type": "execute_result"
    }
   ],
   "source": [
    "a.flatten()"
   ]
  },
  {
   "cell_type": "code",
   "execution_count": 337,
   "id": "9371a767",
   "metadata": {
    "execution": {
     "iopub.execute_input": "2023-11-16T17:05:16.914073Z",
     "iopub.status.busy": "2023-11-16T17:05:16.913728Z",
     "iopub.status.idle": "2023-11-16T17:05:16.918124Z",
     "shell.execute_reply": "2023-11-16T17:05:16.917192Z"
    },
    "papermill": {
     "duration": 0.15192,
     "end_time": "2023-11-16T17:05:16.920224",
     "exception": false,
     "start_time": "2023-11-16T17:05:16.768304",
     "status": "completed"
    },
    "tags": []
   },
   "outputs": [],
   "source": [
    "a = np.zeros((4,4))"
   ]
  },
  {
   "cell_type": "code",
   "execution_count": 338,
   "id": "066e0260",
   "metadata": {
    "execution": {
     "iopub.execute_input": "2023-11-16T17:05:17.210283Z",
     "iopub.status.busy": "2023-11-16T17:05:17.209932Z",
     "iopub.status.idle": "2023-11-16T17:05:17.216380Z",
     "shell.execute_reply": "2023-11-16T17:05:17.215486Z"
    },
    "papermill": {
     "duration": 0.153711,
     "end_time": "2023-11-16T17:05:17.218409",
     "exception": false,
     "start_time": "2023-11-16T17:05:17.064698",
     "status": "completed"
    },
    "tags": []
   },
   "outputs": [
    {
     "data": {
      "text/plain": [
       "(2, 8)"
      ]
     },
     "execution_count": 338,
     "metadata": {},
     "output_type": "execute_result"
    }
   ],
   "source": [
    "a = a.reshape(2,8)\n",
    "a.shape"
   ]
  },
  {
   "cell_type": "code",
   "execution_count": 339,
   "id": "bd262b58",
   "metadata": {
    "execution": {
     "iopub.execute_input": "2023-11-16T17:05:17.521997Z",
     "iopub.status.busy": "2023-11-16T17:05:17.521661Z",
     "iopub.status.idle": "2023-11-16T17:05:17.528017Z",
     "shell.execute_reply": "2023-11-16T17:05:17.527134Z"
    },
    "papermill": {
     "duration": 0.156395,
     "end_time": "2023-11-16T17:05:17.529907",
     "exception": false,
     "start_time": "2023-11-16T17:05:17.373512",
     "status": "completed"
    },
    "tags": []
   },
   "outputs": [
    {
     "data": {
      "text/plain": [
       "(2, 8)"
      ]
     },
     "execution_count": 339,
     "metadata": {},
     "output_type": "execute_result"
    }
   ],
   "source": [
    "a = a.reshape(2,-1)\n",
    "a.shape"
   ]
  },
  {
   "cell_type": "code",
   "execution_count": 340,
   "id": "b2512dc9",
   "metadata": {
    "execution": {
     "iopub.execute_input": "2023-11-16T17:05:17.845222Z",
     "iopub.status.busy": "2023-11-16T17:05:17.844854Z",
     "iopub.status.idle": "2023-11-16T17:05:17.852705Z",
     "shell.execute_reply": "2023-11-16T17:05:17.851398Z"
    },
    "papermill": {
     "duration": 0.175672,
     "end_time": "2023-11-16T17:05:17.855084",
     "exception": false,
     "start_time": "2023-11-16T17:05:17.679412",
     "status": "completed"
    },
    "tags": []
   },
   "outputs": [
    {
     "data": {
      "text/plain": [
       "array([ 9,  8,  6, 88, 99])"
      ]
     },
     "execution_count": 340,
     "metadata": {},
     "output_type": "execute_result"
    }
   ],
   "source": [
    "c = np.array([9,8,6])\n",
    "b = np.append(c,[88,99])\n",
    "b"
   ]
  },
  {
   "cell_type": "code",
   "execution_count": 341,
   "id": "88dedb26",
   "metadata": {
    "execution": {
     "iopub.execute_input": "2023-11-16T17:05:18.178178Z",
     "iopub.status.busy": "2023-11-16T17:05:18.177779Z",
     "iopub.status.idle": "2023-11-16T17:05:18.185218Z",
     "shell.execute_reply": "2023-11-16T17:05:18.184128Z"
    },
    "papermill": {
     "duration": 0.155762,
     "end_time": "2023-11-16T17:05:18.187256",
     "exception": false,
     "start_time": "2023-11-16T17:05:18.031494",
     "status": "completed"
    },
    "tags": []
   },
   "outputs": [
    {
     "data": {
      "text/plain": [
       "array([ 9, 88, 99,  8,  6])"
      ]
     },
     "execution_count": 341,
     "metadata": {},
     "output_type": "execute_result"
    }
   ],
   "source": [
    "c = np.array([9,8,6])\n",
    "b = np.insert(c,1,[88,99])\n",
    "b"
   ]
  },
  {
   "cell_type": "code",
   "execution_count": 342,
   "id": "b58088a9",
   "metadata": {
    "execution": {
     "iopub.execute_input": "2023-11-16T17:05:18.477278Z",
     "iopub.status.busy": "2023-11-16T17:05:18.476494Z",
     "iopub.status.idle": "2023-11-16T17:05:18.483398Z",
     "shell.execute_reply": "2023-11-16T17:05:18.482494Z"
    },
    "papermill": {
     "duration": 0.154892,
     "end_time": "2023-11-16T17:05:18.485469",
     "exception": false,
     "start_time": "2023-11-16T17:05:18.330577",
     "status": "completed"
    },
    "tags": []
   },
   "outputs": [
    {
     "data": {
      "text/plain": [
       "array([9, 8])"
      ]
     },
     "execution_count": 342,
     "metadata": {},
     "output_type": "execute_result"
    }
   ],
   "source": [
    "c = np.array([9,8,6])\n",
    "b = np.delete(c,2)\n",
    "b"
   ]
  },
  {
   "cell_type": "code",
   "execution_count": 343,
   "id": "a567c315",
   "metadata": {
    "execution": {
     "iopub.execute_input": "2023-11-16T17:05:18.772716Z",
     "iopub.status.busy": "2023-11-16T17:05:18.772346Z",
     "iopub.status.idle": "2023-11-16T17:05:18.779200Z",
     "shell.execute_reply": "2023-11-16T17:05:18.778320Z"
    },
    "papermill": {
     "duration": 0.152636,
     "end_time": "2023-11-16T17:05:18.781166",
     "exception": false,
     "start_time": "2023-11-16T17:05:18.628530",
     "status": "completed"
    },
    "tags": []
   },
   "outputs": [
    {
     "data": {
      "text/plain": [
       "array([[1., 1.],\n",
       "       [1., 1.],\n",
       "       [1., 1.],\n",
       "       [1., 1.],\n",
       "       [1., 1.],\n",
       "       [1., 1.],\n",
       "       [1., 1.],\n",
       "       [1., 1.]])"
      ]
     },
     "execution_count": 343,
     "metadata": {},
     "output_type": "execute_result"
    }
   ],
   "source": [
    "a= np.ones((4,4))\n",
    "a = a.reshape((8,-1))\n",
    "a"
   ]
  },
  {
   "cell_type": "code",
   "execution_count": 344,
   "id": "4a766c4d",
   "metadata": {
    "execution": {
     "iopub.execute_input": "2023-11-16T17:05:19.126336Z",
     "iopub.status.busy": "2023-11-16T17:05:19.125614Z",
     "iopub.status.idle": "2023-11-16T17:05:19.132577Z",
     "shell.execute_reply": "2023-11-16T17:05:19.131639Z"
    },
    "papermill": {
     "duration": 0.207217,
     "end_time": "2023-11-16T17:05:19.134916",
     "exception": false,
     "start_time": "2023-11-16T17:05:18.927699",
     "status": "completed"
    },
    "tags": []
   },
   "outputs": [
    {
     "data": {
      "text/plain": [
       "array([[1., 1.],\n",
       "       [1., 1.],\n",
       "       [1., 1.],\n",
       "       [1., 1.],\n",
       "       [1., 1.],\n",
       "       [1., 1.],\n",
       "       [1., 1.],\n",
       "       [1., 1.]])"
      ]
     },
     "execution_count": 344,
     "metadata": {},
     "output_type": "execute_result"
    }
   ],
   "source": [
    "a= np.ones((4,4))\n",
    "a.resize((8,2))\n",
    "a"
   ]
  },
  {
   "cell_type": "code",
   "execution_count": 345,
   "id": "d401a0d1",
   "metadata": {
    "execution": {
     "iopub.execute_input": "2023-11-16T17:05:19.434502Z",
     "iopub.status.busy": "2023-11-16T17:05:19.434133Z",
     "iopub.status.idle": "2023-11-16T17:05:19.440830Z",
     "shell.execute_reply": "2023-11-16T17:05:19.439977Z"
    },
    "papermill": {
     "duration": 0.155167,
     "end_time": "2023-11-16T17:05:19.442661",
     "exception": false,
     "start_time": "2023-11-16T17:05:19.287494",
     "status": "completed"
    },
    "tags": []
   },
   "outputs": [
    {
     "data": {
      "text/plain": [
       "array([False,  True, False, False])"
      ]
     },
     "execution_count": 345,
     "metadata": {},
     "output_type": "execute_result"
    }
   ],
   "source": [
    "a = np.array([True, True, True, False])\n",
    "b = np.array([False, True,False, False])\n",
    "\n",
    "c = np.logical_and(a,b)\n",
    "c"
   ]
  },
  {
   "cell_type": "code",
   "execution_count": 346,
   "id": "7af970fd",
   "metadata": {
    "execution": {
     "iopub.execute_input": "2023-11-16T17:05:19.732399Z",
     "iopub.status.busy": "2023-11-16T17:05:19.731501Z",
     "iopub.status.idle": "2023-11-16T17:05:19.738457Z",
     "shell.execute_reply": "2023-11-16T17:05:19.737592Z"
    },
    "papermill": {
     "duration": 0.152369,
     "end_time": "2023-11-16T17:05:19.740347",
     "exception": false,
     "start_time": "2023-11-16T17:05:19.587978",
     "status": "completed"
    },
    "tags": []
   },
   "outputs": [
    {
     "data": {
      "text/plain": [
       "array([ True,  True,  True, False])"
      ]
     },
     "execution_count": 346,
     "metadata": {},
     "output_type": "execute_result"
    }
   ],
   "source": [
    "a = np.array([True, True, True, False])\n",
    "b = np.array([False, True,False, False])\n",
    "\n",
    "c = np.logical_or(a,b)\n",
    "c"
   ]
  },
  {
   "cell_type": "code",
   "execution_count": 347,
   "id": "3f5421dd",
   "metadata": {
    "execution": {
     "iopub.execute_input": "2023-11-16T17:05:20.034247Z",
     "iopub.status.busy": "2023-11-16T17:05:20.033934Z",
     "iopub.status.idle": "2023-11-16T17:05:20.040508Z",
     "shell.execute_reply": "2023-11-16T17:05:20.039629Z"
    },
    "papermill": {
     "duration": 0.15755,
     "end_time": "2023-11-16T17:05:20.042378",
     "exception": false,
     "start_time": "2023-11-16T17:05:19.884828",
     "status": "completed"
    },
    "tags": []
   },
   "outputs": [
    {
     "data": {
      "text/plain": [
       "array([False, False, False,  True])"
      ]
     },
     "execution_count": 347,
     "metadata": {},
     "output_type": "execute_result"
    }
   ],
   "source": [
    "a = np.array([True, True, True, False])\n",
    "b = np.logical_not(a)\n",
    "b"
   ]
  },
  {
   "cell_type": "code",
   "execution_count": 348,
   "id": "772d2e42",
   "metadata": {
    "execution": {
     "iopub.execute_input": "2023-11-16T17:05:20.329776Z",
     "iopub.status.busy": "2023-11-16T17:05:20.329389Z",
     "iopub.status.idle": "2023-11-16T17:05:20.336073Z",
     "shell.execute_reply": "2023-11-16T17:05:20.335086Z"
    },
    "papermill": {
     "duration": 0.15402,
     "end_time": "2023-11-16T17:05:20.338504",
     "exception": false,
     "start_time": "2023-11-16T17:05:20.184484",
     "status": "completed"
    },
    "tags": []
   },
   "outputs": [
    {
     "data": {
      "text/plain": [
       "array([20, 30])"
      ]
     },
     "execution_count": 348,
     "metadata": {},
     "output_type": "execute_result"
    }
   ],
   "source": [
    "a = np.array([10,20,30])\n",
    "a[np.where ( a > 15)]\n"
   ]
  },
  {
   "cell_type": "code",
   "execution_count": 349,
   "id": "a6d22d3a",
   "metadata": {
    "execution": {
     "iopub.execute_input": "2023-11-16T17:05:20.636133Z",
     "iopub.status.busy": "2023-11-16T17:05:20.635775Z",
     "iopub.status.idle": "2023-11-16T17:05:20.640008Z",
     "shell.execute_reply": "2023-11-16T17:05:20.639137Z"
    },
    "papermill": {
     "duration": 0.155226,
     "end_time": "2023-11-16T17:05:20.641918",
     "exception": false,
     "start_time": "2023-11-16T17:05:20.486692",
     "status": "completed"
    },
    "tags": []
   },
   "outputs": [],
   "source": [
    "import numpy as np"
   ]
  },
  {
   "cell_type": "code",
   "execution_count": 350,
   "id": "9cd33ae1",
   "metadata": {
    "execution": {
     "iopub.execute_input": "2023-11-16T17:05:20.936347Z",
     "iopub.status.busy": "2023-11-16T17:05:20.935513Z",
     "iopub.status.idle": "2023-11-16T17:05:20.942356Z",
     "shell.execute_reply": "2023-11-16T17:05:20.941595Z"
    },
    "papermill": {
     "duration": 0.156338,
     "end_time": "2023-11-16T17:05:20.944267",
     "exception": false,
     "start_time": "2023-11-16T17:05:20.787929",
     "status": "completed"
    },
    "tags": []
   },
   "outputs": [
    {
     "data": {
      "text/plain": [
       "array([False,  True, False, False])"
      ]
     },
     "execution_count": 350,
     "metadata": {},
     "output_type": "execute_result"
    }
   ],
   "source": [
    "a = np.array([True, True, True, False])\n",
    "b = np.array([False, True,False, False])\n",
    "\n",
    "c =  a & b\n",
    "c"
   ]
  },
  {
   "cell_type": "code",
   "execution_count": 351,
   "id": "a90f8406",
   "metadata": {
    "execution": {
     "iopub.execute_input": "2023-11-16T17:05:21.244597Z",
     "iopub.status.busy": "2023-11-16T17:05:21.243888Z",
     "iopub.status.idle": "2023-11-16T17:05:21.250465Z",
     "shell.execute_reply": "2023-11-16T17:05:21.249628Z"
    },
    "papermill": {
     "duration": 0.158272,
     "end_time": "2023-11-16T17:05:21.252422",
     "exception": false,
     "start_time": "2023-11-16T17:05:21.094150",
     "status": "completed"
    },
    "tags": []
   },
   "outputs": [
    {
     "data": {
      "text/plain": [
       "array([ True,  True,  True, False])"
      ]
     },
     "execution_count": 351,
     "metadata": {},
     "output_type": "execute_result"
    }
   ],
   "source": [
    "a = np.array([True, True, True, False])\n",
    "b = np.array([False, True,False, False])\n",
    "\n",
    "c =  a | b # or \n",
    "c"
   ]
  },
  {
   "cell_type": "code",
   "execution_count": 352,
   "id": "7b74efa7",
   "metadata": {
    "execution": {
     "iopub.execute_input": "2023-11-16T17:05:21.545726Z",
     "iopub.status.busy": "2023-11-16T17:05:21.545366Z",
     "iopub.status.idle": "2023-11-16T17:05:21.551912Z",
     "shell.execute_reply": "2023-11-16T17:05:21.550990Z"
    },
    "papermill": {
     "duration": 0.155753,
     "end_time": "2023-11-16T17:05:21.554004",
     "exception": false,
     "start_time": "2023-11-16T17:05:21.398251",
     "status": "completed"
    },
    "tags": []
   },
   "outputs": [
    {
     "data": {
      "text/plain": [
       "array([False, False, False,  True])"
      ]
     },
     "execution_count": 352,
     "metadata": {},
     "output_type": "execute_result"
    }
   ],
   "source": [
    "a = np.array([True, True, True, False])\n",
    "c = ~a\n",
    "c"
   ]
  },
  {
   "cell_type": "code",
   "execution_count": 353,
   "id": "156e9e51",
   "metadata": {
    "execution": {
     "iopub.execute_input": "2023-11-16T17:05:21.892895Z",
     "iopub.status.busy": "2023-11-16T17:05:21.892565Z",
     "iopub.status.idle": "2023-11-16T17:05:21.901538Z",
     "shell.execute_reply": "2023-11-16T17:05:21.900581Z"
    },
    "papermill": {
     "duration": 0.202605,
     "end_time": "2023-11-16T17:05:21.903372",
     "exception": false,
     "start_time": "2023-11-16T17:05:21.700767",
     "status": "completed"
    },
    "tags": []
   },
   "outputs": [
    {
     "data": {
      "text/plain": [
       "array([[15., 15., 15., 15., 15.],\n",
       "       [15., 15., 15., 15., 15.],\n",
       "       [15., 15., 15., 15., 15.],\n",
       "       [15., 15., 15., 15., 15.],\n",
       "       [15., 15., 15., 15., 15.]])"
      ]
     },
     "execution_count": 353,
     "metadata": {},
     "output_type": "execute_result"
    }
   ],
   "source": [
    "a = np.ones((5,5))\n",
    "b = np.full((5,5), 3)\n",
    "c = np.dot(a,b)\n",
    "c"
   ]
  },
  {
   "cell_type": "code",
   "execution_count": 354,
   "id": "51a678c5",
   "metadata": {
    "execution": {
     "iopub.execute_input": "2023-11-16T17:05:22.220798Z",
     "iopub.status.busy": "2023-11-16T17:05:22.220455Z",
     "iopub.status.idle": "2023-11-16T17:05:22.226709Z",
     "shell.execute_reply": "2023-11-16T17:05:22.225877Z"
    },
    "papermill": {
     "duration": 0.173443,
     "end_time": "2023-11-16T17:05:22.228650",
     "exception": false,
     "start_time": "2023-11-16T17:05:22.055207",
     "status": "completed"
    },
    "tags": []
   },
   "outputs": [
    {
     "data": {
      "text/plain": [
       "array([[1, 2],\n",
       "       [3, 4]])"
      ]
     },
     "execution_count": 354,
     "metadata": {},
     "output_type": "execute_result"
    }
   ],
   "source": [
    "a = np.array([[1,2],[3,4]])\n",
    "a"
   ]
  },
  {
   "cell_type": "code",
   "execution_count": 355,
   "id": "902740dc",
   "metadata": {
    "execution": {
     "iopub.execute_input": "2023-11-16T17:05:22.525059Z",
     "iopub.status.busy": "2023-11-16T17:05:22.524195Z",
     "iopub.status.idle": "2023-11-16T17:05:22.530484Z",
     "shell.execute_reply": "2023-11-16T17:05:22.529602Z"
    },
    "papermill": {
     "duration": 0.155624,
     "end_time": "2023-11-16T17:05:22.532379",
     "exception": false,
     "start_time": "2023-11-16T17:05:22.376755",
     "status": "completed"
    },
    "tags": []
   },
   "outputs": [
    {
     "data": {
      "text/plain": [
       "array([[1, 3],\n",
       "       [2, 4]])"
      ]
     },
     "execution_count": 355,
     "metadata": {},
     "output_type": "execute_result"
    }
   ],
   "source": [
    "b = np.transpose(a)\n",
    "b"
   ]
  },
  {
   "cell_type": "code",
   "execution_count": 356,
   "id": "fe472f53",
   "metadata": {
    "execution": {
     "iopub.execute_input": "2023-11-16T17:05:22.828748Z",
     "iopub.status.busy": "2023-11-16T17:05:22.828022Z",
     "iopub.status.idle": "2023-11-16T17:05:22.834903Z",
     "shell.execute_reply": "2023-11-16T17:05:22.833990Z"
    },
    "papermill": {
     "duration": 0.159468,
     "end_time": "2023-11-16T17:05:22.837022",
     "exception": false,
     "start_time": "2023-11-16T17:05:22.677554",
     "status": "completed"
    },
    "tags": []
   },
   "outputs": [
    {
     "data": {
      "text/plain": [
       "array([[-0.66136743, -1.04361074, -0.58114897],\n",
       "       [-0.356353  ,  0.29407381, -1.79697064],\n",
       "       [-0.38949016,  0.44914091, -0.47389926]])"
      ]
     },
     "execution_count": 356,
     "metadata": {},
     "output_type": "execute_result"
    }
   ],
   "source": [
    "a = np.random.normal(0,1,(3,3))\n",
    "a"
   ]
  },
  {
   "cell_type": "code",
   "execution_count": 357,
   "id": "55227d14",
   "metadata": {
    "execution": {
     "iopub.execute_input": "2023-11-16T17:05:23.132922Z",
     "iopub.status.busy": "2023-11-16T17:05:23.132576Z",
     "iopub.status.idle": "2023-11-16T17:05:23.139171Z",
     "shell.execute_reply": "2023-11-16T17:05:23.138286Z"
    },
    "papermill": {
     "duration": 0.156322,
     "end_time": "2023-11-16T17:05:23.141052",
     "exception": false,
     "start_time": "2023-11-16T17:05:22.984730",
     "status": "completed"
    },
    "tags": []
   },
   "outputs": [
    {
     "data": {
      "text/plain": [
       "array([[54.04820621, 50.05997631, 53.34034706],\n",
       "       [51.45262098, 51.61359903, 52.08854957],\n",
       "       [52.43197998, 54.7133926 , 53.66073862]])"
      ]
     },
     "execution_count": 357,
     "metadata": {},
     "output_type": "execute_result"
    }
   ],
   "source": [
    "b = np.random.uniform(50,55,(3,3))\n",
    "b"
   ]
  },
  {
   "cell_type": "code",
   "execution_count": 358,
   "id": "ab31ffc3",
   "metadata": {
    "execution": {
     "iopub.execute_input": "2023-11-16T17:05:23.448756Z",
     "iopub.status.busy": "2023-11-16T17:05:23.448172Z",
     "iopub.status.idle": "2023-11-16T17:05:23.455160Z",
     "shell.execute_reply": "2023-11-16T17:05:23.454306Z"
    },
    "papermill": {
     "duration": 0.158342,
     "end_time": "2023-11-16T17:05:23.457114",
     "exception": false,
     "start_time": "2023-11-16T17:05:23.298772",
     "status": "completed"
    },
    "tags": []
   },
   "outputs": [
    {
     "data": {
      "text/plain": [
       "array([[51, 54, 50],\n",
       "       [51, 53, 54],\n",
       "       [51, 50, 51]])"
      ]
     },
     "execution_count": 358,
     "metadata": {},
     "output_type": "execute_result"
    }
   ],
   "source": [
    "np.random.seed(10)\n",
    "\n",
    "c = np.random.randint(50,55,(3,3))\n",
    "c"
   ]
  },
  {
   "cell_type": "code",
   "execution_count": 359,
   "id": "6b1478ce",
   "metadata": {
    "execution": {
     "iopub.execute_input": "2023-11-16T17:05:23.748084Z",
     "iopub.status.busy": "2023-11-16T17:05:23.747719Z",
     "iopub.status.idle": "2023-11-16T17:05:23.754465Z",
     "shell.execute_reply": "2023-11-16T17:05:23.753569Z"
    },
    "papermill": {
     "duration": 0.154656,
     "end_time": "2023-11-16T17:05:23.756339",
     "exception": false,
     "start_time": "2023-11-16T17:05:23.601683",
     "status": "completed"
    },
    "tags": []
   },
   "outputs": [
    {
     "data": {
      "text/plain": [
       "array([[51, 54, 50],\n",
       "       [51, 53, 54],\n",
       "       [51, 50, 51]])"
      ]
     },
     "execution_count": 359,
     "metadata": {},
     "output_type": "execute_result"
    }
   ],
   "source": [
    "np.random.seed(10)\n",
    "\n",
    "c = np.random.randint(50,55,(3,3))\n",
    "c"
   ]
  },
  {
   "cell_type": "code",
   "execution_count": 360,
   "id": "e5e71203",
   "metadata": {
    "execution": {
     "iopub.execute_input": "2023-11-16T17:05:24.100711Z",
     "iopub.status.busy": "2023-11-16T17:05:24.100349Z",
     "iopub.status.idle": "2023-11-16T17:05:24.109832Z",
     "shell.execute_reply": "2023-11-16T17:05:24.109007Z"
    },
    "papermill": {
     "duration": 0.156901,
     "end_time": "2023-11-16T17:05:24.111711",
     "exception": false,
     "start_time": "2023-11-16T17:05:23.954810",
     "status": "completed"
    },
    "tags": []
   },
   "outputs": [
    {
     "data": {
      "text/plain": [
       "array([5, 9, 9, 9, 5, 5, 8, 5, 9, 9])"
      ]
     },
     "execution_count": 360,
     "metadata": {},
     "output_type": "execute_result"
    }
   ],
   "source": [
    "# c = np.random.randint(50,55,(1,3))\n",
    "c = np.array([9,8,7,6,5])\n",
    "\n",
    "d = np.random.choice( c,size =  10, replace = True ,p=[0.32, 0.02, 0.02, 0.04, 0.6])\n",
    "d\n",
    "# d"
   ]
  },
  {
   "cell_type": "code",
   "execution_count": 361,
   "id": "1788b253",
   "metadata": {
    "execution": {
     "iopub.execute_input": "2023-11-16T17:05:24.407464Z",
     "iopub.status.busy": "2023-11-16T17:05:24.407116Z",
     "iopub.status.idle": "2023-11-16T17:05:24.410882Z",
     "shell.execute_reply": "2023-11-16T17:05:24.410131Z"
    },
    "papermill": {
     "duration": 0.154165,
     "end_time": "2023-11-16T17:05:24.412802",
     "exception": false,
     "start_time": "2023-11-16T17:05:24.258637",
     "status": "completed"
    },
    "tags": []
   },
   "outputs": [],
   "source": [
    "# c = [9,8,6,5]\n",
    "# np.random.choice(c, 3, p=[0.5, 0.1, 0.1, 0.3])"
   ]
  },
  {
   "cell_type": "code",
   "execution_count": 362,
   "id": "023b0356",
   "metadata": {
    "execution": {
     "iopub.execute_input": "2023-11-16T17:05:24.705852Z",
     "iopub.status.busy": "2023-11-16T17:05:24.705506Z",
     "iopub.status.idle": "2023-11-16T17:05:24.709249Z",
     "shell.execute_reply": "2023-11-16T17:05:24.708364Z"
    },
    "papermill": {
     "duration": 0.152343,
     "end_time": "2023-11-16T17:05:24.711302",
     "exception": false,
     "start_time": "2023-11-16T17:05:24.558959",
     "status": "completed"
    },
    "tags": []
   },
   "outputs": [],
   "source": [
    "# 9,8,7,6,5\n",
    "\n",
    "# 6\n",
    "\n",
    "# 9,8,7,5"
   ]
  },
  {
   "cell_type": "code",
   "execution_count": 363,
   "id": "4324de69",
   "metadata": {
    "execution": {
     "iopub.execute_input": "2023-11-16T17:05:25.009957Z",
     "iopub.status.busy": "2023-11-16T17:05:25.009596Z",
     "iopub.status.idle": "2023-11-16T17:05:25.015993Z",
     "shell.execute_reply": "2023-11-16T17:05:25.015141Z"
    },
    "papermill": {
     "duration": 0.155888,
     "end_time": "2023-11-16T17:05:25.017952",
     "exception": false,
     "start_time": "2023-11-16T17:05:24.862064",
     "status": "completed"
    },
    "tags": []
   },
   "outputs": [
    {
     "data": {
      "text/plain": [
       "array([[1, 2],\n",
       "       [3, 4]])"
      ]
     },
     "execution_count": 363,
     "metadata": {},
     "output_type": "execute_result"
    }
   ],
   "source": [
    "a = np.array([[1,2],[3,4]])\n",
    "a\n",
    "    "
   ]
  },
  {
   "cell_type": "code",
   "execution_count": 364,
   "id": "0ec4f3e3",
   "metadata": {
    "execution": {
     "iopub.execute_input": "2023-11-16T17:05:25.311135Z",
     "iopub.status.busy": "2023-11-16T17:05:25.310269Z",
     "iopub.status.idle": "2023-11-16T17:05:25.316375Z",
     "shell.execute_reply": "2023-11-16T17:05:25.315557Z"
    },
    "papermill": {
     "duration": 0.15522,
     "end_time": "2023-11-16T17:05:25.318516",
     "exception": false,
     "start_time": "2023-11-16T17:05:25.163296",
     "status": "completed"
    },
    "tags": []
   },
   "outputs": [
    {
     "data": {
      "text/plain": [
       "array([[0., 0.],\n",
       "       [0., 0.]])"
      ]
     },
     "execution_count": 364,
     "metadata": {},
     "output_type": "execute_result"
    }
   ],
   "source": [
    "np.zeros(a.shape)"
   ]
  },
  {
   "cell_type": "code",
   "execution_count": 365,
   "id": "270a8ca9",
   "metadata": {
    "execution": {
     "iopub.execute_input": "2023-11-16T17:05:25.620506Z",
     "iopub.status.busy": "2023-11-16T17:05:25.620144Z",
     "iopub.status.idle": "2023-11-16T17:05:25.626509Z",
     "shell.execute_reply": "2023-11-16T17:05:25.625470Z"
    },
    "papermill": {
     "duration": 0.156789,
     "end_time": "2023-11-16T17:05:25.628661",
     "exception": false,
     "start_time": "2023-11-16T17:05:25.471872",
     "status": "completed"
    },
    "tags": []
   },
   "outputs": [
    {
     "data": {
      "text/plain": [
       "array([[0, 0],\n",
       "       [0, 0]])"
      ]
     },
     "execution_count": 365,
     "metadata": {},
     "output_type": "execute_result"
    }
   ],
   "source": [
    "np.zeros_like(a)"
   ]
  },
  {
   "cell_type": "code",
   "execution_count": 366,
   "id": "7f7c71eb",
   "metadata": {
    "execution": {
     "iopub.execute_input": "2023-11-16T17:05:25.926999Z",
     "iopub.status.busy": "2023-11-16T17:05:25.926390Z",
     "iopub.status.idle": "2023-11-16T17:05:25.930651Z",
     "shell.execute_reply": "2023-11-16T17:05:25.929634Z"
    },
    "papermill": {
     "duration": 0.151616,
     "end_time": "2023-11-16T17:05:25.932646",
     "exception": false,
     "start_time": "2023-11-16T17:05:25.781030",
     "status": "completed"
    },
    "tags": []
   },
   "outputs": [],
   "source": [
    "c = np.ones_like(a)"
   ]
  },
  {
   "cell_type": "code",
   "execution_count": 367,
   "id": "1550f0d0",
   "metadata": {
    "execution": {
     "iopub.execute_input": "2023-11-16T17:05:26.223453Z",
     "iopub.status.busy": "2023-11-16T17:05:26.223021Z",
     "iopub.status.idle": "2023-11-16T17:05:26.229347Z",
     "shell.execute_reply": "2023-11-16T17:05:26.228551Z"
    },
    "papermill": {
     "duration": 0.153387,
     "end_time": "2023-11-16T17:05:26.231207",
     "exception": false,
     "start_time": "2023-11-16T17:05:26.077820",
     "status": "completed"
    },
    "tags": []
   },
   "outputs": [
    {
     "data": {
      "text/plain": [
       "array([[3, 3],\n",
       "       [3, 3]])"
      ]
     },
     "execution_count": 367,
     "metadata": {},
     "output_type": "execute_result"
    }
   ],
   "source": [
    "c = np.ones_like(a)\n",
    "d = c + 2\n",
    "d"
   ]
  },
  {
   "cell_type": "code",
   "execution_count": 368,
   "id": "566a4c93",
   "metadata": {
    "execution": {
     "iopub.execute_input": "2023-11-16T17:05:26.571258Z",
     "iopub.status.busy": "2023-11-16T17:05:26.570919Z",
     "iopub.status.idle": "2023-11-16T17:05:26.574973Z",
     "shell.execute_reply": "2023-11-16T17:05:26.574180Z"
    },
    "papermill": {
     "duration": 0.151045,
     "end_time": "2023-11-16T17:05:26.576771",
     "exception": false,
     "start_time": "2023-11-16T17:05:26.425726",
     "status": "completed"
    },
    "tags": []
   },
   "outputs": [],
   "source": [
    "# help(int)"
   ]
  },
  {
   "cell_type": "code",
   "execution_count": 369,
   "id": "93a5a761",
   "metadata": {
    "execution": {
     "iopub.execute_input": "2023-11-16T17:05:26.868808Z",
     "iopub.status.busy": "2023-11-16T17:05:26.868471Z",
     "iopub.status.idle": "2023-11-16T17:05:26.874935Z",
     "shell.execute_reply": "2023-11-16T17:05:26.874013Z"
    },
    "papermill": {
     "duration": 0.155378,
     "end_time": "2023-11-16T17:05:26.876854",
     "exception": false,
     "start_time": "2023-11-16T17:05:26.721476",
     "status": "completed"
    },
    "tags": []
   },
   "outputs": [
    {
     "data": {
      "text/plain": [
       "dtype('int64')"
      ]
     },
     "execution_count": 369,
     "metadata": {},
     "output_type": "execute_result"
    }
   ],
   "source": [
    "import numpy as np\n",
    "\n",
    "arr1= np.array([4, 11, 53, 2, 9, ])\n",
    "arr1.dtype"
   ]
  },
  {
   "cell_type": "code",
   "execution_count": 370,
   "id": "a00fc155",
   "metadata": {
    "execution": {
     "iopub.execute_input": "2023-11-16T17:05:27.175458Z",
     "iopub.status.busy": "2023-11-16T17:05:27.175090Z",
     "iopub.status.idle": "2023-11-16T17:05:27.182102Z",
     "shell.execute_reply": "2023-11-16T17:05:27.181337Z"
    },
    "papermill": {
     "duration": 0.157594,
     "end_time": "2023-11-16T17:05:27.184107",
     "exception": false,
     "start_time": "2023-11-16T17:05:27.026513",
     "status": "completed"
    },
    "tags": []
   },
   "outputs": [
    {
     "data": {
      "text/plain": [
       "array([[ 2.,  7., 11.],\n",
       "       [ 4.,  8.,  2.]])"
      ]
     },
     "execution_count": 370,
     "metadata": {},
     "output_type": "execute_result"
    }
   ],
   "source": [
    "arr2 = np.array([[2, 7 , 11], [4, 8 , 2]],\n",
    "dtype= float)\n",
    "arr2.dtype\n",
    "arr2"
   ]
  },
  {
   "cell_type": "code",
   "execution_count": 371,
   "id": "4e7f160b",
   "metadata": {
    "execution": {
     "iopub.execute_input": "2023-11-16T17:05:27.480308Z",
     "iopub.status.busy": "2023-11-16T17:05:27.479973Z",
     "iopub.status.idle": "2023-11-16T17:05:27.486915Z",
     "shell.execute_reply": "2023-11-16T17:05:27.485760Z"
    },
    "papermill": {
     "duration": 0.157843,
     "end_time": "2023-11-16T17:05:27.489060",
     "exception": false,
     "start_time": "2023-11-16T17:05:27.331217",
     "status": "completed"
    },
    "tags": []
   },
   "outputs": [
    {
     "name": "stdout",
     "output_type": "stream",
     "text": [
      "[1 3 2 4 0]\n"
     ]
    }
   ],
   "source": [
    "import numpy as np\n",
    "first_names =    ('Margery', 'Betsey', 'Shelley', 'Lanell', 'Genesis')\n",
    "last_names = ('Woolum', 'Battle', 'Plotner', 'Brien', 'Stahl')\n",
    "x = np.lexsort((first_names, last_names))\n",
    "print(x)"
   ]
  },
  {
   "cell_type": "markdown",
   "id": "56dc3eab",
   "metadata": {
    "papermill": {
     "duration": 0.149127,
     "end_time": "2023-11-16T17:05:27.800094",
     "exception": false,
     "start_time": "2023-11-16T17:05:27.650967",
     "status": "completed"
    },
    "tags": []
   },
   "source": [
    "# pandas"
   ]
  },
  {
   "cell_type": "code",
   "execution_count": 372,
   "id": "be664e71",
   "metadata": {
    "execution": {
     "iopub.execute_input": "2023-11-16T17:05:28.100234Z",
     "iopub.status.busy": "2023-11-16T17:05:28.099842Z",
     "iopub.status.idle": "2023-11-16T17:05:41.217702Z",
     "shell.execute_reply": "2023-11-16T17:05:41.216620Z"
    },
    "papermill": {
     "duration": 13.272696,
     "end_time": "2023-11-16T17:05:41.220119",
     "exception": false,
     "start_time": "2023-11-16T17:05:27.947423",
     "status": "completed"
    },
    "tags": []
   },
   "outputs": [
    {
     "name": "stdout",
     "output_type": "stream",
     "text": [
      "Requirement already satisfied: pandas in /opt/conda/lib/python3.10/site-packages (2.0.2)\r\n",
      "Requirement already satisfied: python-dateutil>=2.8.2 in /opt/conda/lib/python3.10/site-packages (from pandas) (2.8.2)\r\n",
      "Requirement already satisfied: pytz>=2020.1 in /opt/conda/lib/python3.10/site-packages (from pandas) (2023.3)\r\n",
      "Requirement already satisfied: tzdata>=2022.1 in /opt/conda/lib/python3.10/site-packages (from pandas) (2023.3)\r\n",
      "Requirement already satisfied: numpy>=1.21.0 in /opt/conda/lib/python3.10/site-packages (from pandas) (1.23.5)\r\n",
      "Requirement already satisfied: six>=1.5 in /opt/conda/lib/python3.10/site-packages (from python-dateutil>=2.8.2->pandas) (1.16.0)\r\n"
     ]
    }
   ],
   "source": [
    "!pip install pandas"
   ]
  },
  {
   "cell_type": "code",
   "execution_count": 373,
   "id": "2eabae0c",
   "metadata": {
    "execution": {
     "iopub.execute_input": "2023-11-16T17:05:41.519849Z",
     "iopub.status.busy": "2023-11-16T17:05:41.519481Z",
     "iopub.status.idle": "2023-11-16T17:05:42.362120Z",
     "shell.execute_reply": "2023-11-16T17:05:42.361069Z"
    },
    "papermill": {
     "duration": 0.997991,
     "end_time": "2023-11-16T17:05:42.364188",
     "exception": false,
     "start_time": "2023-11-16T17:05:41.366197",
     "status": "completed"
    },
    "tags": []
   },
   "outputs": [
    {
     "name": "stdout",
     "output_type": "stream",
     "text": [
      "2.0.3\n"
     ]
    }
   ],
   "source": [
    "import pandas as pd\n",
    "\n",
    "\n",
    "print(pd.__version__)"
   ]
  },
  {
   "cell_type": "code",
   "execution_count": 374,
   "id": "bd73219b",
   "metadata": {
    "execution": {
     "iopub.execute_input": "2023-11-16T17:05:42.712930Z",
     "iopub.status.busy": "2023-11-16T17:05:42.712400Z",
     "iopub.status.idle": "2023-11-16T17:05:42.764883Z",
     "shell.execute_reply": "2023-11-16T17:05:42.763886Z"
    },
    "papermill": {
     "duration": 0.253737,
     "end_time": "2023-11-16T17:05:42.767406",
     "exception": false,
     "start_time": "2023-11-16T17:05:42.513669",
     "status": "completed"
    },
    "tags": []
   },
   "outputs": [
    {
     "data": {
      "text/html": [
       "<div>\n",
       "<style scoped>\n",
       "    .dataframe tbody tr th:only-of-type {\n",
       "        vertical-align: middle;\n",
       "    }\n",
       "\n",
       "    .dataframe tbody tr th {\n",
       "        vertical-align: top;\n",
       "    }\n",
       "\n",
       "    .dataframe thead th {\n",
       "        text-align: right;\n",
       "    }\n",
       "</style>\n",
       "<table border=\"1\" class=\"dataframe\">\n",
       "  <thead>\n",
       "    <tr style=\"text-align: right;\">\n",
       "      <th></th>\n",
       "      <th>No.</th>\n",
       "      <th>Company</th>\n",
       "      <th>Sector</th>\n",
       "      <th>Entry Valuation^^ ($B)</th>\n",
       "      <th>Valuation ($B)</th>\n",
       "      <th>Entry</th>\n",
       "      <th>Location</th>\n",
       "      <th>Select Investors</th>\n",
       "    </tr>\n",
       "  </thead>\n",
       "  <tbody>\n",
       "    <tr>\n",
       "      <th>0</th>\n",
       "      <td>1</td>\n",
       "      <td>InMobi</td>\n",
       "      <td>Adtech - Mobile Ads</td>\n",
       "      <td>1.00</td>\n",
       "      <td>1.00</td>\n",
       "      <td>Sep/2011</td>\n",
       "      <td>Bangalore/Singapore</td>\n",
       "      <td>KPCB, Sherpalo Ventures, SoftBank</td>\n",
       "    </tr>\n",
       "    <tr>\n",
       "      <th>1</th>\n",
       "      <td>2</td>\n",
       "      <td>Flipkart^</td>\n",
       "      <td>E-Commerce</td>\n",
       "      <td>1.00</td>\n",
       "      <td>37.60</td>\n",
       "      <td>Feb/2012</td>\n",
       "      <td>Bangalore/Singapore</td>\n",
       "      <td>Accel, Tiger Global, Naspers, SoftBank, Tencent</td>\n",
       "    </tr>\n",
       "    <tr>\n",
       "      <th>2</th>\n",
       "      <td>3</td>\n",
       "      <td>Mu Sigma</td>\n",
       "      <td>SaaS - Analytics</td>\n",
       "      <td>1.00</td>\n",
       "      <td>1.50</td>\n",
       "      <td>Feb/2013</td>\n",
       "      <td>Bangalore/Chicago</td>\n",
       "      <td>Accel, Sequoia Capital, General Atlantic</td>\n",
       "    </tr>\n",
       "    <tr>\n",
       "      <th>3</th>\n",
       "      <td>4</td>\n",
       "      <td>Snapdeal*</td>\n",
       "      <td>E-Commerce</td>\n",
       "      <td>1.80</td>\n",
       "      <td>2.40</td>\n",
       "      <td>Oct/2014</td>\n",
       "      <td>Delhi</td>\n",
       "      <td>Kalaari Capital, Nexus Ventures, Bessemer, Sof...</td>\n",
       "    </tr>\n",
       "    <tr>\n",
       "      <th>4</th>\n",
       "      <td>5</td>\n",
       "      <td>PayTM^</td>\n",
       "      <td>Fintech - Payments &amp; Wallet</td>\n",
       "      <td>1.70</td>\n",
       "      <td>16.00</td>\n",
       "      <td>Feb/2015</td>\n",
       "      <td>Noida</td>\n",
       "      <td>Saama Capital, Elevation Capital, Alibaba, Ber...</td>\n",
       "    </tr>\n",
       "    <tr>\n",
       "      <th>...</th>\n",
       "      <td>...</td>\n",
       "      <td>...</td>\n",
       "      <td>...</td>\n",
       "      <td>...</td>\n",
       "      <td>...</td>\n",
       "      <td>...</td>\n",
       "      <td>...</td>\n",
       "      <td>...</td>\n",
       "    </tr>\n",
       "    <tr>\n",
       "      <th>97</th>\n",
       "      <td>98</td>\n",
       "      <td>Purplle</td>\n",
       "      <td>E-Commerce - Personal Care &amp; Cosmetics</td>\n",
       "      <td>1.10</td>\n",
       "      <td>1.10</td>\n",
       "      <td>Jun/2022</td>\n",
       "      <td>Mumbai</td>\n",
       "      <td>JSW Ventures, IvyCap Ventures, Blume Ventures,...</td>\n",
       "    </tr>\n",
       "    <tr>\n",
       "      <th>98</th>\n",
       "      <td>99</td>\n",
       "      <td>Leadsquared</td>\n",
       "      <td>SaaS - CRM</td>\n",
       "      <td>1.00</td>\n",
       "      <td>1.00</td>\n",
       "      <td>Jun/2022</td>\n",
       "      <td>Bangalore</td>\n",
       "      <td>Stakeboat Capital, Gaja Capital, WestBridge</td>\n",
       "    </tr>\n",
       "    <tr>\n",
       "      <th>99</th>\n",
       "      <td>100</td>\n",
       "      <td>OneCard</td>\n",
       "      <td>Fintech - Credit Cards</td>\n",
       "      <td>1.30</td>\n",
       "      <td>1.30</td>\n",
       "      <td>Jul/2022</td>\n",
       "      <td>Pune</td>\n",
       "      <td>QED Investors, Matrix Partners India, Sequoia ...</td>\n",
       "    </tr>\n",
       "    <tr>\n",
       "      <th>100</th>\n",
       "      <td>101</td>\n",
       "      <td>Shiprocket</td>\n",
       "      <td>Aggregator - Logistics Services</td>\n",
       "      <td>1.23</td>\n",
       "      <td>1.23</td>\n",
       "      <td>Aug/2022</td>\n",
       "      <td>Delhi</td>\n",
       "      <td>Lightrock India, Info Edge, Tribe Capital, Tem...</td>\n",
       "    </tr>\n",
       "    <tr>\n",
       "      <th>101</th>\n",
       "      <td>102</td>\n",
       "      <td>Molbio Diagnostics</td>\n",
       "      <td>Healthtech - Diagnostics</td>\n",
       "      <td>1.53</td>\n",
       "      <td>1.53</td>\n",
       "      <td>Sep/2022</td>\n",
       "      <td>Goa</td>\n",
       "      <td>Temasek, Motilal Oswal</td>\n",
       "    </tr>\n",
       "  </tbody>\n",
       "</table>\n",
       "<p>102 rows × 8 columns</p>\n",
       "</div>"
      ],
      "text/plain": [
       "     No.             Company                                  Sector  \\\n",
       "0      1              InMobi                     Adtech - Mobile Ads   \n",
       "1      2           Flipkart^                              E-Commerce   \n",
       "2      3            Mu Sigma                        SaaS - Analytics   \n",
       "3      4           Snapdeal*                              E-Commerce   \n",
       "4      5              PayTM^             Fintech - Payments & Wallet   \n",
       "..   ...                 ...                                     ...   \n",
       "97    98             Purplle  E-Commerce - Personal Care & Cosmetics   \n",
       "98    99         Leadsquared                              SaaS - CRM   \n",
       "99   100             OneCard                  Fintech - Credit Cards   \n",
       "100  101          Shiprocket         Aggregator - Logistics Services   \n",
       "101  102  Molbio Diagnostics                Healthtech - Diagnostics   \n",
       "\n",
       "     Entry Valuation^^ ($B)  Valuation ($B)     Entry             Location  \\\n",
       "0                      1.00            1.00  Sep/2011  Bangalore/Singapore   \n",
       "1                      1.00           37.60  Feb/2012  Bangalore/Singapore   \n",
       "2                      1.00            1.50  Feb/2013    Bangalore/Chicago   \n",
       "3                      1.80            2.40  Oct/2014                Delhi   \n",
       "4                      1.70           16.00  Feb/2015                Noida   \n",
       "..                      ...             ...       ...                  ...   \n",
       "97                     1.10            1.10  Jun/2022               Mumbai   \n",
       "98                     1.00            1.00  Jun/2022            Bangalore   \n",
       "99                     1.30            1.30  Jul/2022                 Pune   \n",
       "100                    1.23            1.23  Aug/2022                Delhi   \n",
       "101                    1.53            1.53  Sep/2022                  Goa   \n",
       "\n",
       "                                      Select Investors  \n",
       "0                    KPCB, Sherpalo Ventures, SoftBank  \n",
       "1      Accel, Tiger Global, Naspers, SoftBank, Tencent  \n",
       "2             Accel, Sequoia Capital, General Atlantic  \n",
       "3    Kalaari Capital, Nexus Ventures, Bessemer, Sof...  \n",
       "4    Saama Capital, Elevation Capital, Alibaba, Ber...  \n",
       "..                                                 ...  \n",
       "97   JSW Ventures, IvyCap Ventures, Blume Ventures,...  \n",
       "98         Stakeboat Capital, Gaja Capital, WestBridge  \n",
       "99   QED Investors, Matrix Partners India, Sequoia ...  \n",
       "100  Lightrock India, Info Edge, Tribe Capital, Tem...  \n",
       "101                             Temasek, Motilal Oswal  \n",
       "\n",
       "[102 rows x 8 columns]"
      ]
     },
     "execution_count": 374,
     "metadata": {},
     "output_type": "execute_result"
    }
   ],
   "source": [
    "df = pd.read_csv(\"/kaggle/input/indian-unicorn-startups-2023-june-updated/Indian Unicorn startups 2023 updated.csv\")\n",
    "df"
   ]
  },
  {
   "cell_type": "code",
   "execution_count": 375,
   "id": "f831e9da",
   "metadata": {
    "execution": {
     "iopub.execute_input": "2023-11-16T17:05:43.084311Z",
     "iopub.status.busy": "2023-11-16T17:05:43.083904Z",
     "iopub.status.idle": "2023-11-16T17:05:43.094649Z",
     "shell.execute_reply": "2023-11-16T17:05:43.093801Z"
    },
    "papermill": {
     "duration": 0.163774,
     "end_time": "2023-11-16T17:05:43.096800",
     "exception": false,
     "start_time": "2023-11-16T17:05:42.933026",
     "status": "completed"
    },
    "tags": []
   },
   "outputs": [
    {
     "data": {
      "text/html": [
       "<div>\n",
       "<style scoped>\n",
       "    .dataframe tbody tr th:only-of-type {\n",
       "        vertical-align: middle;\n",
       "    }\n",
       "\n",
       "    .dataframe tbody tr th {\n",
       "        vertical-align: top;\n",
       "    }\n",
       "\n",
       "    .dataframe thead th {\n",
       "        text-align: right;\n",
       "    }\n",
       "</style>\n",
       "<table border=\"1\" class=\"dataframe\">\n",
       "  <thead>\n",
       "    <tr style=\"text-align: right;\">\n",
       "      <th></th>\n",
       "      <th>sno</th>\n",
       "      <th>names</th>\n",
       "      <th>marks</th>\n",
       "    </tr>\n",
       "  </thead>\n",
       "  <tbody>\n",
       "    <tr>\n",
       "      <th>0</th>\n",
       "      <td>1</td>\n",
       "      <td>mlv</td>\n",
       "      <td>10</td>\n",
       "    </tr>\n",
       "    <tr>\n",
       "      <th>1</th>\n",
       "      <td>2</td>\n",
       "      <td>abhi</td>\n",
       "      <td>20</td>\n",
       "    </tr>\n",
       "    <tr>\n",
       "      <th>2</th>\n",
       "      <td>3</td>\n",
       "      <td>joy</td>\n",
       "      <td>30</td>\n",
       "    </tr>\n",
       "  </tbody>\n",
       "</table>\n",
       "</div>"
      ],
      "text/plain": [
       "   sno names  marks\n",
       "0    1   mlv     10\n",
       "1    2  abhi     20\n",
       "2    3   joy     30"
      ]
     },
     "execution_count": 375,
     "metadata": {},
     "output_type": "execute_result"
    }
   ],
   "source": [
    "af = pd.DataFrame({ \"sno\"  :    [1,2,3],\n",
    "                   \"names\"  : [\"mlv\",\"abhi\",\"joy\"],\n",
    "                   \"marks\" : [10,20,30]\n",
    "    \n",
    "                \n",
    "                   })\n",
    "\n",
    "\n",
    "af"
   ]
  },
  {
   "cell_type": "code",
   "execution_count": 376,
   "id": "777d0b25",
   "metadata": {
    "execution": {
     "iopub.execute_input": "2023-11-16T17:05:43.396550Z",
     "iopub.status.busy": "2023-11-16T17:05:43.396172Z",
     "iopub.status.idle": "2023-11-16T17:05:43.405365Z",
     "shell.execute_reply": "2023-11-16T17:05:43.404449Z"
    },
    "papermill": {
     "duration": 0.160395,
     "end_time": "2023-11-16T17:05:43.407222",
     "exception": false,
     "start_time": "2023-11-16T17:05:43.246827",
     "status": "completed"
    },
    "tags": []
   },
   "outputs": [
    {
     "data": {
      "text/html": [
       "<div>\n",
       "<style scoped>\n",
       "    .dataframe tbody tr th:only-of-type {\n",
       "        vertical-align: middle;\n",
       "    }\n",
       "\n",
       "    .dataframe tbody tr th {\n",
       "        vertical-align: top;\n",
       "    }\n",
       "\n",
       "    .dataframe thead th {\n",
       "        text-align: right;\n",
       "    }\n",
       "</style>\n",
       "<table border=\"1\" class=\"dataframe\">\n",
       "  <thead>\n",
       "    <tr style=\"text-align: right;\">\n",
       "      <th></th>\n",
       "      <th>sno</th>\n",
       "      <th>names</th>\n",
       "      <th>marks</th>\n",
       "    </tr>\n",
       "  </thead>\n",
       "  <tbody>\n",
       "    <tr>\n",
       "      <th>0</th>\n",
       "      <td>1</td>\n",
       "      <td>mlv</td>\n",
       "      <td>10</td>\n",
       "    </tr>\n",
       "    <tr>\n",
       "      <th>1</th>\n",
       "      <td>2</td>\n",
       "      <td>abhi</td>\n",
       "      <td>20</td>\n",
       "    </tr>\n",
       "    <tr>\n",
       "      <th>2</th>\n",
       "      <td>3</td>\n",
       "      <td>joy</td>\n",
       "      <td>30</td>\n",
       "    </tr>\n",
       "  </tbody>\n",
       "</table>\n",
       "</div>"
      ],
      "text/plain": [
       "   sno names  marks\n",
       "0    1   mlv     10\n",
       "1    2  abhi     20\n",
       "2    3   joy     30"
      ]
     },
     "execution_count": 376,
     "metadata": {},
     "output_type": "execute_result"
    }
   ],
   "source": [
    "# select * from af\n",
    "\n",
    "af"
   ]
  },
  {
   "cell_type": "code",
   "execution_count": 377,
   "id": "a78cb78e",
   "metadata": {
    "execution": {
     "iopub.execute_input": "2023-11-16T17:05:43.714331Z",
     "iopub.status.busy": "2023-11-16T17:05:43.713932Z",
     "iopub.status.idle": "2023-11-16T17:05:43.728682Z",
     "shell.execute_reply": "2023-11-16T17:05:43.727693Z"
    },
    "papermill": {
     "duration": 0.170857,
     "end_time": "2023-11-16T17:05:43.730829",
     "exception": false,
     "start_time": "2023-11-16T17:05:43.559972",
     "status": "completed"
    },
    "tags": []
   },
   "outputs": [
    {
     "data": {
      "text/html": [
       "<div>\n",
       "<style scoped>\n",
       "    .dataframe tbody tr th:only-of-type {\n",
       "        vertical-align: middle;\n",
       "    }\n",
       "\n",
       "    .dataframe tbody tr th {\n",
       "        vertical-align: top;\n",
       "    }\n",
       "\n",
       "    .dataframe thead th {\n",
       "        text-align: right;\n",
       "    }\n",
       "</style>\n",
       "<table border=\"1\" class=\"dataframe\">\n",
       "  <thead>\n",
       "    <tr style=\"text-align: right;\">\n",
       "      <th></th>\n",
       "      <th>names</th>\n",
       "      <th>marks</th>\n",
       "    </tr>\n",
       "  </thead>\n",
       "  <tbody>\n",
       "    <tr>\n",
       "      <th>0</th>\n",
       "      <td>mlv</td>\n",
       "      <td>10</td>\n",
       "    </tr>\n",
       "    <tr>\n",
       "      <th>1</th>\n",
       "      <td>abhi</td>\n",
       "      <td>20</td>\n",
       "    </tr>\n",
       "    <tr>\n",
       "      <th>2</th>\n",
       "      <td>joy</td>\n",
       "      <td>30</td>\n",
       "    </tr>\n",
       "  </tbody>\n",
       "</table>\n",
       "</div>"
      ],
      "text/plain": [
       "  names  marks\n",
       "0   mlv     10\n",
       "1  abhi     20\n",
       "2   joy     30"
      ]
     },
     "execution_count": 377,
     "metadata": {},
     "output_type": "execute_result"
    }
   ],
   "source": [
    "# select names, marks from af\n",
    "\n",
    "\n",
    "af[[\"names\",\"marks\"]]"
   ]
  },
  {
   "cell_type": "code",
   "execution_count": 378,
   "id": "a5b39ac2",
   "metadata": {
    "execution": {
     "iopub.execute_input": "2023-11-16T17:05:44.033933Z",
     "iopub.status.busy": "2023-11-16T17:05:44.033512Z",
     "iopub.status.idle": "2023-11-16T17:05:44.039901Z",
     "shell.execute_reply": "2023-11-16T17:05:44.039045Z"
    },
    "papermill": {
     "duration": 0.15945,
     "end_time": "2023-11-16T17:05:44.041835",
     "exception": false,
     "start_time": "2023-11-16T17:05:43.882385",
     "status": "completed"
    },
    "tags": []
   },
   "outputs": [
    {
     "data": {
      "text/plain": [
       "Index(['sno', 'names', 'marks'], dtype='object')"
      ]
     },
     "execution_count": 378,
     "metadata": {},
     "output_type": "execute_result"
    }
   ],
   "source": [
    "# desc af\n",
    "\n",
    "\n",
    "af.columns"
   ]
  },
  {
   "cell_type": "code",
   "execution_count": 379,
   "id": "5da13ea9",
   "metadata": {
    "execution": {
     "iopub.execute_input": "2023-11-16T17:05:44.351129Z",
     "iopub.status.busy": "2023-11-16T17:05:44.350776Z",
     "iopub.status.idle": "2023-11-16T17:05:44.356955Z",
     "shell.execute_reply": "2023-11-16T17:05:44.356035Z"
    },
    "papermill": {
     "duration": 0.16367,
     "end_time": "2023-11-16T17:05:44.358835",
     "exception": false,
     "start_time": "2023-11-16T17:05:44.195165",
     "status": "completed"
    },
    "tags": []
   },
   "outputs": [
    {
     "data": {
      "text/plain": [
       "(3, 3)"
      ]
     },
     "execution_count": 379,
     "metadata": {},
     "output_type": "execute_result"
    }
   ],
   "source": [
    "af.shape"
   ]
  },
  {
   "cell_type": "code",
   "execution_count": 380,
   "id": "65ab9647",
   "metadata": {
    "execution": {
     "iopub.execute_input": "2023-11-16T17:05:44.668204Z",
     "iopub.status.busy": "2023-11-16T17:05:44.667803Z",
     "iopub.status.idle": "2023-11-16T17:05:44.688042Z",
     "shell.execute_reply": "2023-11-16T17:05:44.687193Z"
    },
    "papermill": {
     "duration": 0.180212,
     "end_time": "2023-11-16T17:05:44.690271",
     "exception": false,
     "start_time": "2023-11-16T17:05:44.510059",
     "status": "completed"
    },
    "tags": []
   },
   "outputs": [
    {
     "name": "stdout",
     "output_type": "stream",
     "text": [
      "<class 'pandas.core.frame.DataFrame'>\n",
      "RangeIndex: 3 entries, 0 to 2\n",
      "Data columns (total 3 columns):\n",
      " #   Column  Non-Null Count  Dtype \n",
      "---  ------  --------------  ----- \n",
      " 0   sno     3 non-null      int64 \n",
      " 1   names   3 non-null      object\n",
      " 2   marks   3 non-null      int64 \n",
      "dtypes: int64(2), object(1)\n",
      "memory usage: 200.0+ bytes\n"
     ]
    }
   ],
   "source": [
    "af.info()"
   ]
  },
  {
   "cell_type": "code",
   "execution_count": 381,
   "id": "aad33c73",
   "metadata": {
    "execution": {
     "iopub.execute_input": "2023-11-16T17:05:44.992139Z",
     "iopub.status.busy": "2023-11-16T17:05:44.991801Z",
     "iopub.status.idle": "2023-11-16T17:05:45.008756Z",
     "shell.execute_reply": "2023-11-16T17:05:45.007816Z"
    },
    "papermill": {
     "duration": 0.169639,
     "end_time": "2023-11-16T17:05:45.010914",
     "exception": false,
     "start_time": "2023-11-16T17:05:44.841275",
     "status": "completed"
    },
    "tags": []
   },
   "outputs": [
    {
     "data": {
      "text/html": [
       "<div>\n",
       "<style scoped>\n",
       "    .dataframe tbody tr th:only-of-type {\n",
       "        vertical-align: middle;\n",
       "    }\n",
       "\n",
       "    .dataframe tbody tr th {\n",
       "        vertical-align: top;\n",
       "    }\n",
       "\n",
       "    .dataframe thead th {\n",
       "        text-align: right;\n",
       "    }\n",
       "</style>\n",
       "<table border=\"1\" class=\"dataframe\">\n",
       "  <thead>\n",
       "    <tr style=\"text-align: right;\">\n",
       "      <th></th>\n",
       "      <th>sno</th>\n",
       "      <th>marks</th>\n",
       "    </tr>\n",
       "  </thead>\n",
       "  <tbody>\n",
       "    <tr>\n",
       "      <th>count</th>\n",
       "      <td>3.0</td>\n",
       "      <td>3.0</td>\n",
       "    </tr>\n",
       "    <tr>\n",
       "      <th>mean</th>\n",
       "      <td>2.0</td>\n",
       "      <td>20.0</td>\n",
       "    </tr>\n",
       "    <tr>\n",
       "      <th>std</th>\n",
       "      <td>1.0</td>\n",
       "      <td>10.0</td>\n",
       "    </tr>\n",
       "    <tr>\n",
       "      <th>min</th>\n",
       "      <td>1.0</td>\n",
       "      <td>10.0</td>\n",
       "    </tr>\n",
       "    <tr>\n",
       "      <th>25%</th>\n",
       "      <td>1.5</td>\n",
       "      <td>15.0</td>\n",
       "    </tr>\n",
       "    <tr>\n",
       "      <th>50%</th>\n",
       "      <td>2.0</td>\n",
       "      <td>20.0</td>\n",
       "    </tr>\n",
       "    <tr>\n",
       "      <th>75%</th>\n",
       "      <td>2.5</td>\n",
       "      <td>25.0</td>\n",
       "    </tr>\n",
       "    <tr>\n",
       "      <th>max</th>\n",
       "      <td>3.0</td>\n",
       "      <td>30.0</td>\n",
       "    </tr>\n",
       "  </tbody>\n",
       "</table>\n",
       "</div>"
      ],
      "text/plain": [
       "       sno  marks\n",
       "count  3.0    3.0\n",
       "mean   2.0   20.0\n",
       "std    1.0   10.0\n",
       "min    1.0   10.0\n",
       "25%    1.5   15.0\n",
       "50%    2.0   20.0\n",
       "75%    2.5   25.0\n",
       "max    3.0   30.0"
      ]
     },
     "execution_count": 381,
     "metadata": {},
     "output_type": "execute_result"
    }
   ],
   "source": [
    "# str - object - category \n",
    "af.describe()"
   ]
  },
  {
   "cell_type": "code",
   "execution_count": 382,
   "id": "218deaee",
   "metadata": {
    "execution": {
     "iopub.execute_input": "2023-11-16T17:05:45.323864Z",
     "iopub.status.busy": "2023-11-16T17:05:45.323068Z",
     "iopub.status.idle": "2023-11-16T17:05:45.329265Z",
     "shell.execute_reply": "2023-11-16T17:05:45.328478Z"
    },
    "papermill": {
     "duration": 0.158106,
     "end_time": "2023-11-16T17:05:45.331188",
     "exception": false,
     "start_time": "2023-11-16T17:05:45.173082",
     "status": "completed"
    },
    "tags": []
   },
   "outputs": [
    {
     "data": {
      "text/plain": [
       "(102, 8)"
      ]
     },
     "execution_count": 382,
     "metadata": {},
     "output_type": "execute_result"
    }
   ],
   "source": [
    "df.shape"
   ]
  },
  {
   "cell_type": "code",
   "execution_count": 383,
   "id": "2bdb6dbf",
   "metadata": {
    "execution": {
     "iopub.execute_input": "2023-11-16T17:05:45.680375Z",
     "iopub.status.busy": "2023-11-16T17:05:45.679278Z",
     "iopub.status.idle": "2023-11-16T17:05:45.696067Z",
     "shell.execute_reply": "2023-11-16T17:05:45.695080Z"
    },
    "papermill": {
     "duration": 0.215259,
     "end_time": "2023-11-16T17:05:45.698290",
     "exception": false,
     "start_time": "2023-11-16T17:05:45.483031",
     "status": "completed"
    },
    "tags": []
   },
   "outputs": [
    {
     "data": {
      "text/html": [
       "<div>\n",
       "<style scoped>\n",
       "    .dataframe tbody tr th:only-of-type {\n",
       "        vertical-align: middle;\n",
       "    }\n",
       "\n",
       "    .dataframe tbody tr th {\n",
       "        vertical-align: top;\n",
       "    }\n",
       "\n",
       "    .dataframe thead th {\n",
       "        text-align: right;\n",
       "    }\n",
       "</style>\n",
       "<table border=\"1\" class=\"dataframe\">\n",
       "  <thead>\n",
       "    <tr style=\"text-align: right;\">\n",
       "      <th></th>\n",
       "      <th>No.</th>\n",
       "      <th>Company</th>\n",
       "      <th>Sector</th>\n",
       "      <th>Entry Valuation^^ ($B)</th>\n",
       "      <th>Valuation ($B)</th>\n",
       "      <th>Entry</th>\n",
       "      <th>Location</th>\n",
       "      <th>Select Investors</th>\n",
       "    </tr>\n",
       "  </thead>\n",
       "  <tbody>\n",
       "    <tr>\n",
       "      <th>0</th>\n",
       "      <td>1</td>\n",
       "      <td>InMobi</td>\n",
       "      <td>Adtech - Mobile Ads</td>\n",
       "      <td>1.0</td>\n",
       "      <td>1.0</td>\n",
       "      <td>Sep/2011</td>\n",
       "      <td>Bangalore/Singapore</td>\n",
       "      <td>KPCB, Sherpalo Ventures, SoftBank</td>\n",
       "    </tr>\n",
       "    <tr>\n",
       "      <th>1</th>\n",
       "      <td>2</td>\n",
       "      <td>Flipkart^</td>\n",
       "      <td>E-Commerce</td>\n",
       "      <td>1.0</td>\n",
       "      <td>37.6</td>\n",
       "      <td>Feb/2012</td>\n",
       "      <td>Bangalore/Singapore</td>\n",
       "      <td>Accel, Tiger Global, Naspers, SoftBank, Tencent</td>\n",
       "    </tr>\n",
       "    <tr>\n",
       "      <th>2</th>\n",
       "      <td>3</td>\n",
       "      <td>Mu Sigma</td>\n",
       "      <td>SaaS - Analytics</td>\n",
       "      <td>1.0</td>\n",
       "      <td>1.5</td>\n",
       "      <td>Feb/2013</td>\n",
       "      <td>Bangalore/Chicago</td>\n",
       "      <td>Accel, Sequoia Capital, General Atlantic</td>\n",
       "    </tr>\n",
       "    <tr>\n",
       "      <th>3</th>\n",
       "      <td>4</td>\n",
       "      <td>Snapdeal*</td>\n",
       "      <td>E-Commerce</td>\n",
       "      <td>1.8</td>\n",
       "      <td>2.4</td>\n",
       "      <td>Oct/2014</td>\n",
       "      <td>Delhi</td>\n",
       "      <td>Kalaari Capital, Nexus Ventures, Bessemer, Sof...</td>\n",
       "    </tr>\n",
       "    <tr>\n",
       "      <th>4</th>\n",
       "      <td>5</td>\n",
       "      <td>PayTM^</td>\n",
       "      <td>Fintech - Payments &amp; Wallet</td>\n",
       "      <td>1.7</td>\n",
       "      <td>16.0</td>\n",
       "      <td>Feb/2015</td>\n",
       "      <td>Noida</td>\n",
       "      <td>Saama Capital, Elevation Capital, Alibaba, Ber...</td>\n",
       "    </tr>\n",
       "    <tr>\n",
       "      <th>5</th>\n",
       "      <td>6</td>\n",
       "      <td>Ola Cabs</td>\n",
       "      <td>Mobility - Ride Aggregator</td>\n",
       "      <td>1.6</td>\n",
       "      <td>7.3</td>\n",
       "      <td>Mar/2015</td>\n",
       "      <td>Bangalore</td>\n",
       "      <td>Tiger Global, Matrix Partners, Steadview, Soft...</td>\n",
       "    </tr>\n",
       "    <tr>\n",
       "      <th>6</th>\n",
       "      <td>7</td>\n",
       "      <td>Quikr*</td>\n",
       "      <td>Marketplace - Classifieds</td>\n",
       "      <td>1.0</td>\n",
       "      <td>1.5</td>\n",
       "      <td>Apr/2015</td>\n",
       "      <td>Bangalore</td>\n",
       "      <td>Matrix Partners, Omidyar Network, Norwest, Kin...</td>\n",
       "    </tr>\n",
       "    <tr>\n",
       "      <th>7</th>\n",
       "      <td>8</td>\n",
       "      <td>Zomato^</td>\n",
       "      <td>Foodtech</td>\n",
       "      <td>1.0</td>\n",
       "      <td>5.4</td>\n",
       "      <td>Sep/2015</td>\n",
       "      <td>Gurgaon</td>\n",
       "      <td>Info Edge, Sequoia Capital, Vy Capital, Alibab...</td>\n",
       "    </tr>\n",
       "    <tr>\n",
       "      <th>8</th>\n",
       "      <td>9</td>\n",
       "      <td>ShopClues*</td>\n",
       "      <td>E-Commerce</td>\n",
       "      <td>1.1</td>\n",
       "      <td>1.1</td>\n",
       "      <td>Jan/2016</td>\n",
       "      <td>Gurgaon</td>\n",
       "      <td>Nexus Ventures, Helion Ventures, Beenos, Tiger...</td>\n",
       "    </tr>\n",
       "    <tr>\n",
       "      <th>9</th>\n",
       "      <td>10</td>\n",
       "      <td>Hike*</td>\n",
       "      <td>Social Media - Messaging</td>\n",
       "      <td>1.4</td>\n",
       "      <td>1.4</td>\n",
       "      <td>Aug/2016</td>\n",
       "      <td>Delhi</td>\n",
       "      <td>Tiger Global, Tencent, Foxconn</td>\n",
       "    </tr>\n",
       "  </tbody>\n",
       "</table>\n",
       "</div>"
      ],
      "text/plain": [
       "   No.     Company                       Sector  Entry Valuation^^ ($B)  \\\n",
       "0    1      InMobi          Adtech - Mobile Ads                     1.0   \n",
       "1    2   Flipkart^                   E-Commerce                     1.0   \n",
       "2    3    Mu Sigma             SaaS - Analytics                     1.0   \n",
       "3    4   Snapdeal*                   E-Commerce                     1.8   \n",
       "4    5      PayTM^  Fintech - Payments & Wallet                     1.7   \n",
       "5    6    Ola Cabs   Mobility - Ride Aggregator                     1.6   \n",
       "6    7      Quikr*    Marketplace - Classifieds                     1.0   \n",
       "7    8     Zomato^                     Foodtech                     1.0   \n",
       "8    9  ShopClues*                   E-Commerce                     1.1   \n",
       "9   10       Hike*     Social Media - Messaging                     1.4   \n",
       "\n",
       "   Valuation ($B)     Entry             Location  \\\n",
       "0             1.0  Sep/2011  Bangalore/Singapore   \n",
       "1            37.6  Feb/2012  Bangalore/Singapore   \n",
       "2             1.5  Feb/2013    Bangalore/Chicago   \n",
       "3             2.4  Oct/2014                Delhi   \n",
       "4            16.0  Feb/2015                Noida   \n",
       "5             7.3  Mar/2015            Bangalore   \n",
       "6             1.5  Apr/2015            Bangalore   \n",
       "7             5.4  Sep/2015              Gurgaon   \n",
       "8             1.1  Jan/2016              Gurgaon   \n",
       "9             1.4  Aug/2016                Delhi   \n",
       "\n",
       "                                    Select Investors  \n",
       "0                  KPCB, Sherpalo Ventures, SoftBank  \n",
       "1    Accel, Tiger Global, Naspers, SoftBank, Tencent  \n",
       "2           Accel, Sequoia Capital, General Atlantic  \n",
       "3  Kalaari Capital, Nexus Ventures, Bessemer, Sof...  \n",
       "4  Saama Capital, Elevation Capital, Alibaba, Ber...  \n",
       "5  Tiger Global, Matrix Partners, Steadview, Soft...  \n",
       "6  Matrix Partners, Omidyar Network, Norwest, Kin...  \n",
       "7  Info Edge, Sequoia Capital, Vy Capital, Alibab...  \n",
       "8  Nexus Ventures, Helion Ventures, Beenos, Tiger...  \n",
       "9                     Tiger Global, Tencent, Foxconn  "
      ]
     },
     "execution_count": 383,
     "metadata": {},
     "output_type": "execute_result"
    }
   ],
   "source": [
    "# select * from af limit 10\n",
    "\n",
    "df.head(10)"
   ]
  },
  {
   "cell_type": "code",
   "execution_count": 384,
   "id": "cf3fa017",
   "metadata": {
    "execution": {
     "iopub.execute_input": "2023-11-16T17:05:46.013575Z",
     "iopub.status.busy": "2023-11-16T17:05:46.013203Z",
     "iopub.status.idle": "2023-11-16T17:05:46.029827Z",
     "shell.execute_reply": "2023-11-16T17:05:46.028784Z"
    },
    "papermill": {
     "duration": 0.171398,
     "end_time": "2023-11-16T17:05:46.031989",
     "exception": false,
     "start_time": "2023-11-16T17:05:45.860591",
     "status": "completed"
    },
    "tags": []
   },
   "outputs": [
    {
     "data": {
      "text/html": [
       "<div>\n",
       "<style scoped>\n",
       "    .dataframe tbody tr th:only-of-type {\n",
       "        vertical-align: middle;\n",
       "    }\n",
       "\n",
       "    .dataframe tbody tr th {\n",
       "        vertical-align: top;\n",
       "    }\n",
       "\n",
       "    .dataframe thead th {\n",
       "        text-align: right;\n",
       "    }\n",
       "</style>\n",
       "<table border=\"1\" class=\"dataframe\">\n",
       "  <thead>\n",
       "    <tr style=\"text-align: right;\">\n",
       "      <th></th>\n",
       "      <th>No.</th>\n",
       "      <th>Company</th>\n",
       "      <th>Sector</th>\n",
       "      <th>Entry Valuation^^ ($B)</th>\n",
       "      <th>Valuation ($B)</th>\n",
       "      <th>Entry</th>\n",
       "      <th>Location</th>\n",
       "      <th>Select Investors</th>\n",
       "    </tr>\n",
       "  </thead>\n",
       "  <tbody>\n",
       "    <tr>\n",
       "      <th>92</th>\n",
       "      <td>93</td>\n",
       "      <td>Amagi Media Labs</td>\n",
       "      <td>SaaS - Local Ads Targeting</td>\n",
       "      <td>1.00</td>\n",
       "      <td>1.00</td>\n",
       "      <td>Mar/2022</td>\n",
       "      <td>Bangalore</td>\n",
       "      <td>Avataar Venture Partners, PremjiInvest, Accel ...</td>\n",
       "    </tr>\n",
       "    <tr>\n",
       "      <th>93</th>\n",
       "      <td>94</td>\n",
       "      <td>Oxyzo Financial Services</td>\n",
       "      <td>Fintech - Marketplace - SME Lending</td>\n",
       "      <td>1.00</td>\n",
       "      <td>1.00</td>\n",
       "      <td>Mar/2022</td>\n",
       "      <td>Gurgaon</td>\n",
       "      <td>Alpha Wave Global, Matrix Partners India, Tige...</td>\n",
       "    </tr>\n",
       "    <tr>\n",
       "      <th>94</th>\n",
       "      <td>95</td>\n",
       "      <td>Games24x7</td>\n",
       "      <td>Gaming</td>\n",
       "      <td>2.50</td>\n",
       "      <td>2.50</td>\n",
       "      <td>Mar/2022</td>\n",
       "      <td>Mumbai</td>\n",
       "      <td>Tiger Global, Malabar Investments,  The Raine ...</td>\n",
       "    </tr>\n",
       "    <tr>\n",
       "      <th>95</th>\n",
       "      <td>96</td>\n",
       "      <td>Open Financial Technologies</td>\n",
       "      <td>Fintech - Neo Bank</td>\n",
       "      <td>1.00</td>\n",
       "      <td>1.00</td>\n",
       "      <td>May/2022</td>\n",
       "      <td>Bangalore</td>\n",
       "      <td>3ONE4 Capital, Tiger Global, Temasek, Speedinvest</td>\n",
       "    </tr>\n",
       "    <tr>\n",
       "      <th>96</th>\n",
       "      <td>97</td>\n",
       "      <td>PhysicsWallah</td>\n",
       "      <td>Edtech</td>\n",
       "      <td>1.10</td>\n",
       "      <td>1.10</td>\n",
       "      <td>Jun/2022</td>\n",
       "      <td>Noida</td>\n",
       "      <td>GSV Ventures, WestBridge</td>\n",
       "    </tr>\n",
       "    <tr>\n",
       "      <th>97</th>\n",
       "      <td>98</td>\n",
       "      <td>Purplle</td>\n",
       "      <td>E-Commerce - Personal Care &amp; Cosmetics</td>\n",
       "      <td>1.10</td>\n",
       "      <td>1.10</td>\n",
       "      <td>Jun/2022</td>\n",
       "      <td>Mumbai</td>\n",
       "      <td>JSW Ventures, IvyCap Ventures, Blume Ventures,...</td>\n",
       "    </tr>\n",
       "    <tr>\n",
       "      <th>98</th>\n",
       "      <td>99</td>\n",
       "      <td>Leadsquared</td>\n",
       "      <td>SaaS - CRM</td>\n",
       "      <td>1.00</td>\n",
       "      <td>1.00</td>\n",
       "      <td>Jun/2022</td>\n",
       "      <td>Bangalore</td>\n",
       "      <td>Stakeboat Capital, Gaja Capital, WestBridge</td>\n",
       "    </tr>\n",
       "    <tr>\n",
       "      <th>99</th>\n",
       "      <td>100</td>\n",
       "      <td>OneCard</td>\n",
       "      <td>Fintech - Credit Cards</td>\n",
       "      <td>1.30</td>\n",
       "      <td>1.30</td>\n",
       "      <td>Jul/2022</td>\n",
       "      <td>Pune</td>\n",
       "      <td>QED Investors, Matrix Partners India, Sequoia ...</td>\n",
       "    </tr>\n",
       "    <tr>\n",
       "      <th>100</th>\n",
       "      <td>101</td>\n",
       "      <td>Shiprocket</td>\n",
       "      <td>Aggregator - Logistics Services</td>\n",
       "      <td>1.23</td>\n",
       "      <td>1.23</td>\n",
       "      <td>Aug/2022</td>\n",
       "      <td>Delhi</td>\n",
       "      <td>Lightrock India, Info Edge, Tribe Capital, Tem...</td>\n",
       "    </tr>\n",
       "    <tr>\n",
       "      <th>101</th>\n",
       "      <td>102</td>\n",
       "      <td>Molbio Diagnostics</td>\n",
       "      <td>Healthtech - Diagnostics</td>\n",
       "      <td>1.53</td>\n",
       "      <td>1.53</td>\n",
       "      <td>Sep/2022</td>\n",
       "      <td>Goa</td>\n",
       "      <td>Temasek, Motilal Oswal</td>\n",
       "    </tr>\n",
       "  </tbody>\n",
       "</table>\n",
       "</div>"
      ],
      "text/plain": [
       "     No.                      Company                                  Sector  \\\n",
       "92    93             Amagi Media Labs              SaaS - Local Ads Targeting   \n",
       "93    94     Oxyzo Financial Services     Fintech - Marketplace - SME Lending   \n",
       "94    95                    Games24x7                                  Gaming   \n",
       "95    96  Open Financial Technologies                      Fintech - Neo Bank   \n",
       "96    97                PhysicsWallah                                  Edtech   \n",
       "97    98                      Purplle  E-Commerce - Personal Care & Cosmetics   \n",
       "98    99                  Leadsquared                              SaaS - CRM   \n",
       "99   100                      OneCard                  Fintech - Credit Cards   \n",
       "100  101                   Shiprocket         Aggregator - Logistics Services   \n",
       "101  102           Molbio Diagnostics                Healthtech - Diagnostics   \n",
       "\n",
       "     Entry Valuation^^ ($B)  Valuation ($B)     Entry   Location  \\\n",
       "92                     1.00            1.00  Mar/2022  Bangalore   \n",
       "93                     1.00            1.00  Mar/2022    Gurgaon   \n",
       "94                     2.50            2.50  Mar/2022     Mumbai   \n",
       "95                     1.00            1.00  May/2022  Bangalore   \n",
       "96                     1.10            1.10  Jun/2022      Noida   \n",
       "97                     1.10            1.10  Jun/2022     Mumbai   \n",
       "98                     1.00            1.00  Jun/2022  Bangalore   \n",
       "99                     1.30            1.30  Jul/2022       Pune   \n",
       "100                    1.23            1.23  Aug/2022      Delhi   \n",
       "101                    1.53            1.53  Sep/2022        Goa   \n",
       "\n",
       "                                      Select Investors  \n",
       "92   Avataar Venture Partners, PremjiInvest, Accel ...  \n",
       "93   Alpha Wave Global, Matrix Partners India, Tige...  \n",
       "94   Tiger Global, Malabar Investments,  The Raine ...  \n",
       "95   3ONE4 Capital, Tiger Global, Temasek, Speedinvest  \n",
       "96                            GSV Ventures, WestBridge  \n",
       "97   JSW Ventures, IvyCap Ventures, Blume Ventures,...  \n",
       "98         Stakeboat Capital, Gaja Capital, WestBridge  \n",
       "99   QED Investors, Matrix Partners India, Sequoia ...  \n",
       "100  Lightrock India, Info Edge, Tribe Capital, Tem...  \n",
       "101                             Temasek, Motilal Oswal  "
      ]
     },
     "execution_count": 384,
     "metadata": {},
     "output_type": "execute_result"
    }
   ],
   "source": [
    "df.tail(10)"
   ]
  },
  {
   "cell_type": "code",
   "execution_count": 385,
   "id": "2385fad0",
   "metadata": {
    "execution": {
     "iopub.execute_input": "2023-11-16T17:05:46.329792Z",
     "iopub.status.busy": "2023-11-16T17:05:46.329463Z",
     "iopub.status.idle": "2023-11-16T17:05:46.333294Z",
     "shell.execute_reply": "2023-11-16T17:05:46.332482Z"
    },
    "papermill": {
     "duration": 0.155114,
     "end_time": "2023-11-16T17:05:46.335285",
     "exception": false,
     "start_time": "2023-11-16T17:05:46.180171",
     "status": "completed"
    },
    "tags": []
   },
   "outputs": [],
   "source": [
    "# a = [1,2,34,5]\n",
    "# a[1:3]"
   ]
  },
  {
   "cell_type": "code",
   "execution_count": 386,
   "id": "543b2d7a",
   "metadata": {
    "execution": {
     "iopub.execute_input": "2023-11-16T17:05:46.638158Z",
     "iopub.status.busy": "2023-11-16T17:05:46.637798Z",
     "iopub.status.idle": "2023-11-16T17:05:46.648103Z",
     "shell.execute_reply": "2023-11-16T17:05:46.647239Z"
    },
    "papermill": {
     "duration": 0.165716,
     "end_time": "2023-11-16T17:05:46.650388",
     "exception": false,
     "start_time": "2023-11-16T17:05:46.484672",
     "status": "completed"
    },
    "tags": []
   },
   "outputs": [
    {
     "data": {
      "text/html": [
       "<div>\n",
       "<style scoped>\n",
       "    .dataframe tbody tr th:only-of-type {\n",
       "        vertical-align: middle;\n",
       "    }\n",
       "\n",
       "    .dataframe tbody tr th {\n",
       "        vertical-align: top;\n",
       "    }\n",
       "\n",
       "    .dataframe thead th {\n",
       "        text-align: right;\n",
       "    }\n",
       "</style>\n",
       "<table border=\"1\" class=\"dataframe\">\n",
       "  <thead>\n",
       "    <tr style=\"text-align: right;\">\n",
       "      <th></th>\n",
       "      <th>Entry</th>\n",
       "      <th>Location</th>\n",
       "    </tr>\n",
       "  </thead>\n",
       "  <tbody>\n",
       "    <tr>\n",
       "      <th>2</th>\n",
       "      <td>Feb/2013</td>\n",
       "      <td>Bangalore/Chicago</td>\n",
       "    </tr>\n",
       "    <tr>\n",
       "      <th>3</th>\n",
       "      <td>Oct/2014</td>\n",
       "      <td>Delhi</td>\n",
       "    </tr>\n",
       "    <tr>\n",
       "      <th>4</th>\n",
       "      <td>Feb/2015</td>\n",
       "      <td>Noida</td>\n",
       "    </tr>\n",
       "    <tr>\n",
       "      <th>5</th>\n",
       "      <td>Mar/2015</td>\n",
       "      <td>Bangalore</td>\n",
       "    </tr>\n",
       "    <tr>\n",
       "      <th>6</th>\n",
       "      <td>Apr/2015</td>\n",
       "      <td>Bangalore</td>\n",
       "    </tr>\n",
       "    <tr>\n",
       "      <th>7</th>\n",
       "      <td>Sep/2015</td>\n",
       "      <td>Gurgaon</td>\n",
       "    </tr>\n",
       "    <tr>\n",
       "      <th>8</th>\n",
       "      <td>Jan/2016</td>\n",
       "      <td>Gurgaon</td>\n",
       "    </tr>\n",
       "    <tr>\n",
       "      <th>9</th>\n",
       "      <td>Aug/2016</td>\n",
       "      <td>Delhi</td>\n",
       "    </tr>\n",
       "  </tbody>\n",
       "</table>\n",
       "</div>"
      ],
      "text/plain": [
       "      Entry           Location\n",
       "2  Feb/2013  Bangalore/Chicago\n",
       "3  Oct/2014              Delhi\n",
       "4  Feb/2015              Noida\n",
       "5  Mar/2015          Bangalore\n",
       "6  Apr/2015          Bangalore\n",
       "7  Sep/2015            Gurgaon\n",
       "8  Jan/2016            Gurgaon\n",
       "9  Aug/2016              Delhi"
      ]
     },
     "execution_count": 386,
     "metadata": {},
     "output_type": "execute_result"
    }
   ],
   "source": [
    "df.iloc[2:10,5:7]"
   ]
  },
  {
   "cell_type": "code",
   "execution_count": 387,
   "id": "cd2851b8",
   "metadata": {
    "execution": {
     "iopub.execute_input": "2023-11-16T17:05:46.955117Z",
     "iopub.status.busy": "2023-11-16T17:05:46.954269Z",
     "iopub.status.idle": "2023-11-16T17:05:46.965403Z",
     "shell.execute_reply": "2023-11-16T17:05:46.964312Z"
    },
    "papermill": {
     "duration": 0.165738,
     "end_time": "2023-11-16T17:05:46.967623",
     "exception": false,
     "start_time": "2023-11-16T17:05:46.801885",
     "status": "completed"
    },
    "tags": []
   },
   "outputs": [
    {
     "data": {
      "text/html": [
       "<div>\n",
       "<style scoped>\n",
       "    .dataframe tbody tr th:only-of-type {\n",
       "        vertical-align: middle;\n",
       "    }\n",
       "\n",
       "    .dataframe tbody tr th {\n",
       "        vertical-align: top;\n",
       "    }\n",
       "\n",
       "    .dataframe thead th {\n",
       "        text-align: right;\n",
       "    }\n",
       "</style>\n",
       "<table border=\"1\" class=\"dataframe\">\n",
       "  <thead>\n",
       "    <tr style=\"text-align: right;\">\n",
       "      <th></th>\n",
       "      <th>Entry</th>\n",
       "      <th>Location</th>\n",
       "    </tr>\n",
       "  </thead>\n",
       "  <tbody>\n",
       "    <tr>\n",
       "      <th>2</th>\n",
       "      <td>Feb/2013</td>\n",
       "      <td>Bangalore/Chicago</td>\n",
       "    </tr>\n",
       "    <tr>\n",
       "      <th>3</th>\n",
       "      <td>Oct/2014</td>\n",
       "      <td>Delhi</td>\n",
       "    </tr>\n",
       "    <tr>\n",
       "      <th>4</th>\n",
       "      <td>Feb/2015</td>\n",
       "      <td>Noida</td>\n",
       "    </tr>\n",
       "    <tr>\n",
       "      <th>5</th>\n",
       "      <td>Mar/2015</td>\n",
       "      <td>Bangalore</td>\n",
       "    </tr>\n",
       "    <tr>\n",
       "      <th>6</th>\n",
       "      <td>Apr/2015</td>\n",
       "      <td>Bangalore</td>\n",
       "    </tr>\n",
       "    <tr>\n",
       "      <th>7</th>\n",
       "      <td>Sep/2015</td>\n",
       "      <td>Gurgaon</td>\n",
       "    </tr>\n",
       "    <tr>\n",
       "      <th>8</th>\n",
       "      <td>Jan/2016</td>\n",
       "      <td>Gurgaon</td>\n",
       "    </tr>\n",
       "    <tr>\n",
       "      <th>9</th>\n",
       "      <td>Aug/2016</td>\n",
       "      <td>Delhi</td>\n",
       "    </tr>\n",
       "  </tbody>\n",
       "</table>\n",
       "</div>"
      ],
      "text/plain": [
       "      Entry           Location\n",
       "2  Feb/2013  Bangalore/Chicago\n",
       "3  Oct/2014              Delhi\n",
       "4  Feb/2015              Noida\n",
       "5  Mar/2015          Bangalore\n",
       "6  Apr/2015          Bangalore\n",
       "7  Sep/2015            Gurgaon\n",
       "8  Jan/2016            Gurgaon\n",
       "9  Aug/2016              Delhi"
      ]
     },
     "execution_count": 387,
     "metadata": {},
     "output_type": "execute_result"
    }
   ],
   "source": [
    "df.loc[2:9,[\"Entry\",\"Location\"]]"
   ]
  },
  {
   "cell_type": "code",
   "execution_count": 388,
   "id": "45ab7794",
   "metadata": {
    "execution": {
     "iopub.execute_input": "2023-11-16T17:05:47.286164Z",
     "iopub.status.busy": "2023-11-16T17:05:47.285569Z",
     "iopub.status.idle": "2023-11-16T17:05:47.300957Z",
     "shell.execute_reply": "2023-11-16T17:05:47.300051Z"
    },
    "papermill": {
     "duration": 0.171057,
     "end_time": "2023-11-16T17:05:47.303018",
     "exception": false,
     "start_time": "2023-11-16T17:05:47.131961",
     "status": "completed"
    },
    "tags": []
   },
   "outputs": [
    {
     "data": {
      "text/html": [
       "<div>\n",
       "<style scoped>\n",
       "    .dataframe tbody tr th:only-of-type {\n",
       "        vertical-align: middle;\n",
       "    }\n",
       "\n",
       "    .dataframe tbody tr th {\n",
       "        vertical-align: top;\n",
       "    }\n",
       "\n",
       "    .dataframe thead th {\n",
       "        text-align: right;\n",
       "    }\n",
       "</style>\n",
       "<table border=\"1\" class=\"dataframe\">\n",
       "  <thead>\n",
       "    <tr style=\"text-align: right;\">\n",
       "      <th></th>\n",
       "      <th>No.</th>\n",
       "      <th>Company</th>\n",
       "      <th>Sector</th>\n",
       "      <th>Entry Valuation^^ ($B)</th>\n",
       "      <th>Valuation ($B)</th>\n",
       "      <th>Entry</th>\n",
       "      <th>Location</th>\n",
       "      <th>Select Investors</th>\n",
       "    </tr>\n",
       "  </thead>\n",
       "  <tbody>\n",
       "    <tr>\n",
       "      <th>3</th>\n",
       "      <td>4</td>\n",
       "      <td>Snapdeal*</td>\n",
       "      <td>E-Commerce</td>\n",
       "      <td>1.8</td>\n",
       "      <td>2.4</td>\n",
       "      <td>Oct/2014</td>\n",
       "      <td>Delhi</td>\n",
       "      <td>Kalaari Capital, Nexus Ventures, Bessemer, Sof...</td>\n",
       "    </tr>\n",
       "    <tr>\n",
       "      <th>9</th>\n",
       "      <td>10</td>\n",
       "      <td>Hike*</td>\n",
       "      <td>Social Media - Messaging</td>\n",
       "      <td>1.4</td>\n",
       "      <td>1.4</td>\n",
       "      <td>Aug/2016</td>\n",
       "      <td>Delhi</td>\n",
       "      <td>Tiger Global, Tencent, Foxconn</td>\n",
       "    </tr>\n",
       "    <tr>\n",
       "      <th>26</th>\n",
       "      <td>27</td>\n",
       "      <td>Lenskart</td>\n",
       "      <td>E-Commerce - Eyewear</td>\n",
       "      <td>1.1</td>\n",
       "      <td>4.5</td>\n",
       "      <td>Sep/2019</td>\n",
       "      <td>Delhi</td>\n",
       "      <td>SoftBank, Kedaara Capital, TPG, Chiratae Ventu...</td>\n",
       "    </tr>\n",
       "  </tbody>\n",
       "</table>\n",
       "</div>"
      ],
      "text/plain": [
       "    No.    Company                    Sector  Entry Valuation^^ ($B)  \\\n",
       "3     4  Snapdeal*                E-Commerce                     1.8   \n",
       "9    10      Hike*  Social Media - Messaging                     1.4   \n",
       "26   27   Lenskart      E-Commerce - Eyewear                     1.1   \n",
       "\n",
       "    Valuation ($B)     Entry Location  \\\n",
       "3              2.4  Oct/2014    Delhi   \n",
       "9              1.4  Aug/2016    Delhi   \n",
       "26             4.5  Sep/2019    Delhi   \n",
       "\n",
       "                                     Select Investors  \n",
       "3   Kalaari Capital, Nexus Ventures, Bessemer, Sof...  \n",
       "9                      Tiger Global, Tencent, Foxconn  \n",
       "26  SoftBank, Kedaara Capital, TPG, Chiratae Ventu...  "
      ]
     },
     "execution_count": 388,
     "metadata": {},
     "output_type": "execute_result"
    }
   ],
   "source": [
    "# iloc  \n",
    "\n",
    "\n",
    "# select * from df \n",
    "# where location = \"delhi\" and no < 50\n",
    "\n",
    "\n",
    "df[  (df[\"Location\"] == \"Delhi\" )   &   ( df[\"No.\"]  < 50)]"
   ]
  },
  {
   "cell_type": "code",
   "execution_count": 389,
   "id": "1def5fb0",
   "metadata": {
    "execution": {
     "iopub.execute_input": "2023-11-16T17:05:47.622858Z",
     "iopub.status.busy": "2023-11-16T17:05:47.622510Z",
     "iopub.status.idle": "2023-11-16T17:05:47.653900Z",
     "shell.execute_reply": "2023-11-16T17:05:47.653014Z"
    },
    "papermill": {
     "duration": 0.189744,
     "end_time": "2023-11-16T17:05:47.656663",
     "exception": false,
     "start_time": "2023-11-16T17:05:47.466919",
     "status": "completed"
    },
    "tags": []
   },
   "outputs": [
    {
     "data": {
      "text/html": [
       "<div>\n",
       "<style scoped>\n",
       "    .dataframe tbody tr th:only-of-type {\n",
       "        vertical-align: middle;\n",
       "    }\n",
       "\n",
       "    .dataframe tbody tr th {\n",
       "        vertical-align: top;\n",
       "    }\n",
       "\n",
       "    .dataframe thead th {\n",
       "        text-align: right;\n",
       "    }\n",
       "</style>\n",
       "<table border=\"1\" class=\"dataframe\">\n",
       "  <thead>\n",
       "    <tr style=\"text-align: right;\">\n",
       "      <th></th>\n",
       "      <th>No.</th>\n",
       "      <th>Company</th>\n",
       "      <th>Sector</th>\n",
       "      <th>Entry Valuation^^ ($B)</th>\n",
       "      <th>Valuation ($B)</th>\n",
       "      <th>Entry</th>\n",
       "      <th>Location</th>\n",
       "      <th>Select Investors</th>\n",
       "    </tr>\n",
       "  </thead>\n",
       "  <tbody>\n",
       "    <tr>\n",
       "      <th>0</th>\n",
       "      <td>1</td>\n",
       "      <td>InMobi</td>\n",
       "      <td>Adtech - Mobile Ads</td>\n",
       "      <td>1.00</td>\n",
       "      <td>1.00</td>\n",
       "      <td>Sep/2011</td>\n",
       "      <td>Bangalore/Singapore</td>\n",
       "      <td>KPCB, Sherpalo Ventures, SoftBank</td>\n",
       "    </tr>\n",
       "    <tr>\n",
       "      <th>1</th>\n",
       "      <td>2</td>\n",
       "      <td>Flipkart^</td>\n",
       "      <td>E-Commerce</td>\n",
       "      <td>1.00</td>\n",
       "      <td>37.60</td>\n",
       "      <td>Feb/2012</td>\n",
       "      <td>Bangalore/Singapore</td>\n",
       "      <td>Accel, Tiger Global, Naspers, SoftBank, Tencent</td>\n",
       "    </tr>\n",
       "    <tr>\n",
       "      <th>2</th>\n",
       "      <td>3</td>\n",
       "      <td>Mu Sigma</td>\n",
       "      <td>SaaS - Analytics</td>\n",
       "      <td>1.00</td>\n",
       "      <td>1.50</td>\n",
       "      <td>Feb/2013</td>\n",
       "      <td>Bangalore/Chicago</td>\n",
       "      <td>Accel, Sequoia Capital, General Atlantic</td>\n",
       "    </tr>\n",
       "    <tr>\n",
       "      <th>3</th>\n",
       "      <td>4</td>\n",
       "      <td>Snapdeal*</td>\n",
       "      <td>E-Commerce</td>\n",
       "      <td>1.80</td>\n",
       "      <td>2.40</td>\n",
       "      <td>Oct/2014</td>\n",
       "      <td>Delhi</td>\n",
       "      <td>Kalaari Capital, Nexus Ventures, Bessemer, Sof...</td>\n",
       "    </tr>\n",
       "    <tr>\n",
       "      <th>4</th>\n",
       "      <td>5</td>\n",
       "      <td>PayTM^</td>\n",
       "      <td>Fintech - Payments &amp; Wallet</td>\n",
       "      <td>1.70</td>\n",
       "      <td>16.00</td>\n",
       "      <td>Feb/2015</td>\n",
       "      <td>Noida</td>\n",
       "      <td>Saama Capital, Elevation Capital, Alibaba, Ber...</td>\n",
       "    </tr>\n",
       "    <tr>\n",
       "      <th>5</th>\n",
       "      <td>6</td>\n",
       "      <td>Ola Cabs</td>\n",
       "      <td>Mobility - Ride Aggregator</td>\n",
       "      <td>1.60</td>\n",
       "      <td>7.30</td>\n",
       "      <td>Mar/2015</td>\n",
       "      <td>Bangalore</td>\n",
       "      <td>Tiger Global, Matrix Partners, Steadview, Soft...</td>\n",
       "    </tr>\n",
       "    <tr>\n",
       "      <th>6</th>\n",
       "      <td>7</td>\n",
       "      <td>Quikr*</td>\n",
       "      <td>Marketplace - Classifieds</td>\n",
       "      <td>1.00</td>\n",
       "      <td>1.50</td>\n",
       "      <td>Apr/2015</td>\n",
       "      <td>Bangalore</td>\n",
       "      <td>Matrix Partners, Omidyar Network, Norwest, Kin...</td>\n",
       "    </tr>\n",
       "    <tr>\n",
       "      <th>7</th>\n",
       "      <td>8</td>\n",
       "      <td>Zomato^</td>\n",
       "      <td>Foodtech</td>\n",
       "      <td>1.00</td>\n",
       "      <td>5.40</td>\n",
       "      <td>Sep/2015</td>\n",
       "      <td>Gurgaon</td>\n",
       "      <td>Info Edge, Sequoia Capital, Vy Capital, Alibab...</td>\n",
       "    </tr>\n",
       "    <tr>\n",
       "      <th>8</th>\n",
       "      <td>9</td>\n",
       "      <td>ShopClues*</td>\n",
       "      <td>E-Commerce</td>\n",
       "      <td>1.10</td>\n",
       "      <td>1.10</td>\n",
       "      <td>Jan/2016</td>\n",
       "      <td>Gurgaon</td>\n",
       "      <td>Nexus Ventures, Helion Ventures, Beenos, Tiger...</td>\n",
       "    </tr>\n",
       "    <tr>\n",
       "      <th>9</th>\n",
       "      <td>10</td>\n",
       "      <td>Hike*</td>\n",
       "      <td>Social Media - Messaging</td>\n",
       "      <td>1.40</td>\n",
       "      <td>1.40</td>\n",
       "      <td>Aug/2016</td>\n",
       "      <td>Delhi</td>\n",
       "      <td>Tiger Global, Tencent, Foxconn</td>\n",
       "    </tr>\n",
       "    <tr>\n",
       "      <th>10</th>\n",
       "      <td>11</td>\n",
       "      <td>BYJUS</td>\n",
       "      <td>Edtech</td>\n",
       "      <td>1.00</td>\n",
       "      <td>22.00</td>\n",
       "      <td>Jan/2018</td>\n",
       "      <td>Bangalore</td>\n",
       "      <td>Aarin Capital, Sequoia Capital, Lightspeed Ven...</td>\n",
       "    </tr>\n",
       "    <tr>\n",
       "      <th>11</th>\n",
       "      <td>12</td>\n",
       "      <td>PayTM Mall*</td>\n",
       "      <td>E-Commerce</td>\n",
       "      <td>1.90</td>\n",
       "      <td>3.00</td>\n",
       "      <td>Apr/2018</td>\n",
       "      <td>Noida</td>\n",
       "      <td>Elevation Capital, Alibaba, SoftBank, eBay</td>\n",
       "    </tr>\n",
       "    <tr>\n",
       "      <th>12</th>\n",
       "      <td>13</td>\n",
       "      <td>Swiggy</td>\n",
       "      <td>Foodtech</td>\n",
       "      <td>1.40</td>\n",
       "      <td>10.70</td>\n",
       "      <td>Jun/2018</td>\n",
       "      <td>Bangalore</td>\n",
       "      <td>Accel, Elevation Capital, Norwest, Naspers, Te...</td>\n",
       "    </tr>\n",
       "    <tr>\n",
       "      <th>13</th>\n",
       "      <td>14</td>\n",
       "      <td>PolicyBazaar^</td>\n",
       "      <td>Fintech - Insurance</td>\n",
       "      <td>1.00</td>\n",
       "      <td>2.40</td>\n",
       "      <td>Jun/2018</td>\n",
       "      <td>Gurgaon</td>\n",
       "      <td>Info Edge, Intel, Inventus Capital, Tiger Glob...</td>\n",
       "    </tr>\n",
       "    <tr>\n",
       "      <th>14</th>\n",
       "      <td>15</td>\n",
       "      <td>Freshworks^</td>\n",
       "      <td>SaaS - CRM</td>\n",
       "      <td>1.50</td>\n",
       "      <td>3.50</td>\n",
       "      <td>Jul/2018</td>\n",
       "      <td>Chennai/San Mateo</td>\n",
       "      <td>Accel, Tiger Global, Google, Sequoia Capital, ...</td>\n",
       "    </tr>\n",
       "    <tr>\n",
       "      <th>15</th>\n",
       "      <td>16</td>\n",
       "      <td>OYO Rooms</td>\n",
       "      <td>Proptech - Hotel Booking</td>\n",
       "      <td>4.90</td>\n",
       "      <td>9.60</td>\n",
       "      <td>Sep/2018</td>\n",
       "      <td>Gurgaon</td>\n",
       "      <td>Lightspeed Ventures, Sequoia Capital, SoftBank</td>\n",
       "    </tr>\n",
       "    <tr>\n",
       "      <th>16</th>\n",
       "      <td>17</td>\n",
       "      <td>Udaan</td>\n",
       "      <td>B2B E-Commerce</td>\n",
       "      <td>1.00</td>\n",
       "      <td>3.10</td>\n",
       "      <td>Sep/2018</td>\n",
       "      <td>Bangalore</td>\n",
       "      <td>Lightspeed Ventures, DST Global, Tencent</td>\n",
       "    </tr>\n",
       "    <tr>\n",
       "      <th>17</th>\n",
       "      <td>18</td>\n",
       "      <td>BillDesk</td>\n",
       "      <td>Fintech - B2B Payments</td>\n",
       "      <td>1.60</td>\n",
       "      <td>1.60</td>\n",
       "      <td>Nov/2018</td>\n",
       "      <td>Mumbai</td>\n",
       "      <td>SIDBI VC, TA Associates, General Atlantic</td>\n",
       "    </tr>\n",
       "    <tr>\n",
       "      <th>18</th>\n",
       "      <td>19</td>\n",
       "      <td>Delhivery^</td>\n",
       "      <td>Logistics Services</td>\n",
       "      <td>1.60</td>\n",
       "      <td>3.00</td>\n",
       "      <td>Jan/2019</td>\n",
       "      <td>Gurgaon</td>\n",
       "      <td>Nexus Ventures, Multiples PE, Tiger Global, Ca...</td>\n",
       "    </tr>\n",
       "    <tr>\n",
       "      <th>19</th>\n",
       "      <td>20</td>\n",
       "      <td>Rivigo</td>\n",
       "      <td>Logistics Services - Trucks</td>\n",
       "      <td>1.10</td>\n",
       "      <td>1.10</td>\n",
       "      <td>Feb/2019</td>\n",
       "      <td>Gurgaon</td>\n",
       "      <td>Elevation Capital, Warburg Pincus</td>\n",
       "    </tr>\n",
       "    <tr>\n",
       "      <th>20</th>\n",
       "      <td>21</td>\n",
       "      <td>BigBasket</td>\n",
       "      <td>E-Commerce - Groceries</td>\n",
       "      <td>1.10</td>\n",
       "      <td>2.00</td>\n",
       "      <td>Mar/2019</td>\n",
       "      <td>Bangalore</td>\n",
       "      <td>Ascent Capital, Helion Ventures, Bessemer, IFC...</td>\n",
       "    </tr>\n",
       "    <tr>\n",
       "      <th>21</th>\n",
       "      <td>22</td>\n",
       "      <td>Dream11</td>\n",
       "      <td>Gaming</td>\n",
       "      <td>1.00</td>\n",
       "      <td>8.00</td>\n",
       "      <td>Apr/2019</td>\n",
       "      <td>Mumbai</td>\n",
       "      <td>Kalaari Capital, Tencent, Multiples PE, Steadv...</td>\n",
       "    </tr>\n",
       "    <tr>\n",
       "      <th>22</th>\n",
       "      <td>23</td>\n",
       "      <td>Druva Software</td>\n",
       "      <td>SaaS - Data Management</td>\n",
       "      <td>1.00</td>\n",
       "      <td>2.00</td>\n",
       "      <td>Jun/2019</td>\n",
       "      <td>Pune/Sunnyvale</td>\n",
       "      <td>WestBridge, Nexus Ventures, Sequoia Capital</td>\n",
       "    </tr>\n",
       "    <tr>\n",
       "      <th>23</th>\n",
       "      <td>24</td>\n",
       "      <td>Icertis</td>\n",
       "      <td>SaaS - Contract Management</td>\n",
       "      <td>1.00</td>\n",
       "      <td>5.00</td>\n",
       "      <td>Jul/2019</td>\n",
       "      <td>Pune/Bellevue</td>\n",
       "      <td>Eight Roads, B Capital, PremjiInvest</td>\n",
       "    </tr>\n",
       "    <tr>\n",
       "      <th>24</th>\n",
       "      <td>25</td>\n",
       "      <td>CitiusTech</td>\n",
       "      <td>IT Services - Healthcare</td>\n",
       "      <td>1.10</td>\n",
       "      <td>1.10</td>\n",
       "      <td>Jul/2019</td>\n",
       "      <td>Mumbai/Princeton</td>\n",
       "      <td>General Atlantic, Baring Asia</td>\n",
       "    </tr>\n",
       "    <tr>\n",
       "      <th>25</th>\n",
       "      <td>26</td>\n",
       "      <td>Ola Electric</td>\n",
       "      <td>Mobility - Electric</td>\n",
       "      <td>1.10</td>\n",
       "      <td>5.00</td>\n",
       "      <td>Jul/2019</td>\n",
       "      <td>Bangalore</td>\n",
       "      <td>SoftBank, Tiger Global, Matrix Partners</td>\n",
       "    </tr>\n",
       "    <tr>\n",
       "      <th>26</th>\n",
       "      <td>27</td>\n",
       "      <td>Lenskart</td>\n",
       "      <td>E-Commerce - Eyewear</td>\n",
       "      <td>1.10</td>\n",
       "      <td>4.50</td>\n",
       "      <td>Sep/2019</td>\n",
       "      <td>Delhi</td>\n",
       "      <td>SoftBank, Kedaara Capital, TPG, Chiratae Ventu...</td>\n",
       "    </tr>\n",
       "    <tr>\n",
       "      <th>27</th>\n",
       "      <td>28</td>\n",
       "      <td>Pine Labs</td>\n",
       "      <td>Fintech - PoS Payment Solutions</td>\n",
       "      <td>1.60</td>\n",
       "      <td>5.00</td>\n",
       "      <td>Jan/2020</td>\n",
       "      <td>Noida</td>\n",
       "      <td>Sequoia Capital India, New Atlantic Ventures, ...</td>\n",
       "    </tr>\n",
       "    <tr>\n",
       "      <th>28</th>\n",
       "      <td>29</td>\n",
       "      <td>Nykaa^</td>\n",
       "      <td>E-Commerce - Personal Care &amp; Cosmetics</td>\n",
       "      <td>1.20</td>\n",
       "      <td>1.80</td>\n",
       "      <td>Mar/2020</td>\n",
       "      <td>Mumbai</td>\n",
       "      <td>Techpro Ventures, TVS Capital, Sharrp Ventures...</td>\n",
       "    </tr>\n",
       "    <tr>\n",
       "      <th>29</th>\n",
       "      <td>30</td>\n",
       "      <td>Postman</td>\n",
       "      <td>SaaS - API Development &amp; Testing</td>\n",
       "      <td>2.00</td>\n",
       "      <td>5.60</td>\n",
       "      <td>Jun/2020</td>\n",
       "      <td>Bangalore/San Francisco</td>\n",
       "      <td>Nexus Ventures, Charles River Ventures, Insigh...</td>\n",
       "    </tr>\n",
       "    <tr>\n",
       "      <th>30</th>\n",
       "      <td>31</td>\n",
       "      <td>Unacademy</td>\n",
       "      <td>Edtech</td>\n",
       "      <td>1.40</td>\n",
       "      <td>3.40</td>\n",
       "      <td>Sep/2020</td>\n",
       "      <td>Bangalore</td>\n",
       "      <td>Blume Ventures, Nexus Venture Partners, Sequoi...</td>\n",
       "    </tr>\n",
       "    <tr>\n",
       "      <th>31</th>\n",
       "      <td>32</td>\n",
       "      <td>RazorPay</td>\n",
       "      <td>Fintech - Payment Gateway</td>\n",
       "      <td>1.00</td>\n",
       "      <td>7.50</td>\n",
       "      <td>Oct/2020</td>\n",
       "      <td>Bangalore</td>\n",
       "      <td>Matrix Partners India, Tiger Global, Sequoia C...</td>\n",
       "    </tr>\n",
       "    <tr>\n",
       "      <th>32</th>\n",
       "      <td>33</td>\n",
       "      <td>Cars24</td>\n",
       "      <td>Marketplace - Used Cars</td>\n",
       "      <td>1.00</td>\n",
       "      <td>3.30</td>\n",
       "      <td>Nov/2020</td>\n",
       "      <td>Gurgaon</td>\n",
       "      <td>Asia Venture Group, Apoletto, Unbound, DST Glo...</td>\n",
       "    </tr>\n",
       "    <tr>\n",
       "      <th>33</th>\n",
       "      <td>34</td>\n",
       "      <td>PhonePe^</td>\n",
       "      <td>Fintech - Payments</td>\n",
       "      <td>5.50</td>\n",
       "      <td>12.00</td>\n",
       "      <td>Dec/2020</td>\n",
       "      <td>Bangalore</td>\n",
       "      <td>Tiger Global, Tencent</td>\n",
       "    </tr>\n",
       "    <tr>\n",
       "      <th>34</th>\n",
       "      <td>35</td>\n",
       "      <td>Zenoti</td>\n",
       "      <td>SaaS - Salon &amp; Spa Management</td>\n",
       "      <td>1.00</td>\n",
       "      <td>1.50</td>\n",
       "      <td>Dec/2020</td>\n",
       "      <td>Hyderabad/Bellevue</td>\n",
       "      <td>Accel India, Norwest, Tiger Global, Steadview ...</td>\n",
       "    </tr>\n",
       "    <tr>\n",
       "      <th>35</th>\n",
       "      <td>36</td>\n",
       "      <td>Dailyhunt</td>\n",
       "      <td>Content - News</td>\n",
       "      <td>1.00</td>\n",
       "      <td>5.00</td>\n",
       "      <td>Dec/2020</td>\n",
       "      <td>Bangalore</td>\n",
       "      <td>Matrix Partners India, Omidyar Network, Sequoi...</td>\n",
       "    </tr>\n",
       "    <tr>\n",
       "      <th>36</th>\n",
       "      <td>37</td>\n",
       "      <td>Glance InMobi</td>\n",
       "      <td>Content - Lockscreen</td>\n",
       "      <td>1.00</td>\n",
       "      <td>2.00</td>\n",
       "      <td>Dec/2020</td>\n",
       "      <td>Bangalore/Singapore</td>\n",
       "      <td>Mithril Capital, Google</td>\n",
       "    </tr>\n",
       "    <tr>\n",
       "      <th>37</th>\n",
       "      <td>38</td>\n",
       "      <td>Digit</td>\n",
       "      <td>Fintech - General Insurance</td>\n",
       "      <td>1.90</td>\n",
       "      <td>4.00</td>\n",
       "      <td>Jan/2021</td>\n",
       "      <td>Bangalore</td>\n",
       "      <td>Fairfax Holdings, A91 Partners, Faering Capita...</td>\n",
       "    </tr>\n",
       "    <tr>\n",
       "      <th>38</th>\n",
       "      <td>39</td>\n",
       "      <td>Innovaccer</td>\n",
       "      <td>SaaS - Healthcare Data Analytics</td>\n",
       "      <td>1.30</td>\n",
       "      <td>3.20</td>\n",
       "      <td>Feb/2021</td>\n",
       "      <td>Noida/San Francisco</td>\n",
       "      <td>WestBridge, Lightspeed Ventures, M12 (Microsof...</td>\n",
       "    </tr>\n",
       "    <tr>\n",
       "      <th>39</th>\n",
       "      <td>40</td>\n",
       "      <td>Infra.Market</td>\n",
       "      <td>B2B E-Commerce - Construction Materials</td>\n",
       "      <td>1.00</td>\n",
       "      <td>2.50</td>\n",
       "      <td>Feb/2021</td>\n",
       "      <td>Thane</td>\n",
       "      <td>Accel India, Nexus Venture Partners, Tiger Glo...</td>\n",
       "    </tr>\n",
       "    <tr>\n",
       "      <th>40</th>\n",
       "      <td>41</td>\n",
       "      <td>Five Star Business Finance^</td>\n",
       "      <td>NBFC</td>\n",
       "      <td>1.40</td>\n",
       "      <td>1.40</td>\n",
       "      <td>Mar/2021</td>\n",
       "      <td>Chennai</td>\n",
       "      <td>Matrix Partners India, Sequoia Capital India, ...</td>\n",
       "    </tr>\n",
       "    <tr>\n",
       "      <th>41</th>\n",
       "      <td>42</td>\n",
       "      <td>FirstCry</td>\n",
       "      <td>E-Commerce - Baby Care Products</td>\n",
       "      <td>1.70</td>\n",
       "      <td>1.70</td>\n",
       "      <td>Mar/2021</td>\n",
       "      <td>Pune</td>\n",
       "      <td>Chiratae Ventures, Elevation Capital, Vertex, ...</td>\n",
       "    </tr>\n",
       "    <tr>\n",
       "      <th>42</th>\n",
       "      <td>43</td>\n",
       "      <td>Meesho</td>\n",
       "      <td>E-Commerce - Social Commerce</td>\n",
       "      <td>2.10</td>\n",
       "      <td>4.90</td>\n",
       "      <td>Apr/2021</td>\n",
       "      <td>Bangalore</td>\n",
       "      <td>Sequoia Capital India, Elevation Capital, Soft...</td>\n",
       "    </tr>\n",
       "    <tr>\n",
       "      <th>43</th>\n",
       "      <td>44</td>\n",
       "      <td>CRED</td>\n",
       "      <td>Fintech - Payments &amp; Credit Card Rewards</td>\n",
       "      <td>2.20</td>\n",
       "      <td>6.40</td>\n",
       "      <td>Apr/2021</td>\n",
       "      <td>Bangalore</td>\n",
       "      <td>Sequoia Capital India, Ribbit Capital, DST Glo...</td>\n",
       "    </tr>\n",
       "    <tr>\n",
       "      <th>44</th>\n",
       "      <td>45</td>\n",
       "      <td>PharmEasy</td>\n",
       "      <td>E-Commerce - Online Pharmacy</td>\n",
       "      <td>1.50</td>\n",
       "      <td>5.60</td>\n",
       "      <td>Apr/2021</td>\n",
       "      <td>Mumbai</td>\n",
       "      <td>Orios VP, Eight Roads Ventures, Temasek, Naspe...</td>\n",
       "    </tr>\n",
       "    <tr>\n",
       "      <th>45</th>\n",
       "      <td>46</td>\n",
       "      <td>Groww</td>\n",
       "      <td>Fintech - Brokerage &amp; Mutual Funds</td>\n",
       "      <td>1.00</td>\n",
       "      <td>3.00</td>\n",
       "      <td>Apr/2021</td>\n",
       "      <td>Bangalore</td>\n",
       "      <td>Sequoia Capital India, Y Combinator, Tiger Glo...</td>\n",
       "    </tr>\n",
       "    <tr>\n",
       "      <th>46</th>\n",
       "      <td>47</td>\n",
       "      <td>ShareChat</td>\n",
       "      <td>Social Media</td>\n",
       "      <td>2.10</td>\n",
       "      <td>4.90</td>\n",
       "      <td>Apr/2021</td>\n",
       "      <td>Bangalore</td>\n",
       "      <td>India Quotient, Elevation Capital, Lightspeed ...</td>\n",
       "    </tr>\n",
       "    <tr>\n",
       "      <th>47</th>\n",
       "      <td>48</td>\n",
       "      <td>Gupshup</td>\n",
       "      <td>Conversational Messaging</td>\n",
       "      <td>1.40</td>\n",
       "      <td>1.40</td>\n",
       "      <td>Apr/2021</td>\n",
       "      <td>Mumbai/San Francisco</td>\n",
       "      <td>Tiger Global, Charles River Ventures, Helion V...</td>\n",
       "    </tr>\n",
       "    <tr>\n",
       "      <th>48</th>\n",
       "      <td>49</td>\n",
       "      <td>ChargeBee</td>\n",
       "      <td>SaaS - Subscription Billing Solution</td>\n",
       "      <td>1.40</td>\n",
       "      <td>3.50</td>\n",
       "      <td>Apr/2021</td>\n",
       "      <td>Chennai/San Francisco</td>\n",
       "      <td>Tiger Global, Steadview Capital, Sapphire Vent...</td>\n",
       "    </tr>\n",
       "    <tr>\n",
       "      <th>49</th>\n",
       "      <td>50</td>\n",
       "      <td>Urban Company</td>\n",
       "      <td>Marketplace - Handyman Services</td>\n",
       "      <td>2.10</td>\n",
       "      <td>2.10</td>\n",
       "      <td>Apr/2021</td>\n",
       "      <td>Delhi</td>\n",
       "      <td>Tiger Global, Steadview Capital, Accel India, ...</td>\n",
       "    </tr>\n",
       "    <tr>\n",
       "      <th>56</th>\n",
       "      <td>57</td>\n",
       "      <td>BharatPe</td>\n",
       "      <td>Fintech - Payments</td>\n",
       "      <td>2.80</td>\n",
       "      <td>2.80</td>\n",
       "      <td>Aug/2021</td>\n",
       "      <td>Delhi</td>\n",
       "      <td>Beenext, Sequoia Capital India, Tiger Global, ...</td>\n",
       "    </tr>\n",
       "    <tr>\n",
       "      <th>80</th>\n",
       "      <td>81</td>\n",
       "      <td>GlobalBees</td>\n",
       "      <td>Aggregator - Consumer Brands</td>\n",
       "      <td>1.10</td>\n",
       "      <td>1.10</td>\n",
       "      <td>Dec/2021</td>\n",
       "      <td>Delhi</td>\n",
       "      <td>PremjiInvest, SoftBank Corp, TPG Capital, Stea...</td>\n",
       "    </tr>\n",
       "    <tr>\n",
       "      <th>100</th>\n",
       "      <td>101</td>\n",
       "      <td>Shiprocket</td>\n",
       "      <td>Aggregator - Logistics Services</td>\n",
       "      <td>1.23</td>\n",
       "      <td>1.23</td>\n",
       "      <td>Aug/2022</td>\n",
       "      <td>Delhi</td>\n",
       "      <td>Lightrock India, Info Edge, Tribe Capital, Tem...</td>\n",
       "    </tr>\n",
       "  </tbody>\n",
       "</table>\n",
       "</div>"
      ],
      "text/plain": [
       "     No.                      Company  \\\n",
       "0      1                       InMobi   \n",
       "1      2                    Flipkart^   \n",
       "2      3                     Mu Sigma   \n",
       "3      4                    Snapdeal*   \n",
       "4      5                       PayTM^   \n",
       "5      6                     Ola Cabs   \n",
       "6      7                       Quikr*   \n",
       "7      8                      Zomato^   \n",
       "8      9                   ShopClues*   \n",
       "9     10                        Hike*   \n",
       "10    11                        BYJUS   \n",
       "11    12                  PayTM Mall*   \n",
       "12    13                       Swiggy   \n",
       "13    14                PolicyBazaar^   \n",
       "14    15                  Freshworks^   \n",
       "15    16                    OYO Rooms   \n",
       "16    17                        Udaan   \n",
       "17    18                     BillDesk   \n",
       "18    19                   Delhivery^   \n",
       "19    20                       Rivigo   \n",
       "20    21                    BigBasket   \n",
       "21    22                      Dream11   \n",
       "22    23               Druva Software   \n",
       "23    24                      Icertis   \n",
       "24    25                   CitiusTech   \n",
       "25    26                 Ola Electric   \n",
       "26    27                     Lenskart   \n",
       "27    28                    Pine Labs   \n",
       "28    29                       Nykaa^   \n",
       "29    30                      Postman   \n",
       "30    31                    Unacademy   \n",
       "31    32                     RazorPay   \n",
       "32    33                       Cars24   \n",
       "33    34                     PhonePe^   \n",
       "34    35                       Zenoti   \n",
       "35    36                    Dailyhunt   \n",
       "36    37                Glance InMobi   \n",
       "37    38                        Digit   \n",
       "38    39                   Innovaccer   \n",
       "39    40                 Infra.Market   \n",
       "40    41  Five Star Business Finance^   \n",
       "41    42                     FirstCry   \n",
       "42    43                       Meesho   \n",
       "43    44                         CRED   \n",
       "44    45                    PharmEasy   \n",
       "45    46                        Groww   \n",
       "46    47                    ShareChat   \n",
       "47    48                      Gupshup   \n",
       "48    49                    ChargeBee   \n",
       "49    50                Urban Company   \n",
       "56    57                     BharatPe   \n",
       "80    81                   GlobalBees   \n",
       "100  101                   Shiprocket   \n",
       "\n",
       "                                       Sector  Entry Valuation^^ ($B)  \\\n",
       "0                         Adtech - Mobile Ads                    1.00   \n",
       "1                                  E-Commerce                    1.00   \n",
       "2                            SaaS - Analytics                    1.00   \n",
       "3                                  E-Commerce                    1.80   \n",
       "4                 Fintech - Payments & Wallet                    1.70   \n",
       "5                  Mobility - Ride Aggregator                    1.60   \n",
       "6                   Marketplace - Classifieds                    1.00   \n",
       "7                                    Foodtech                    1.00   \n",
       "8                                  E-Commerce                    1.10   \n",
       "9                    Social Media - Messaging                    1.40   \n",
       "10                                     Edtech                    1.00   \n",
       "11                                 E-Commerce                    1.90   \n",
       "12                                   Foodtech                    1.40   \n",
       "13                        Fintech - Insurance                    1.00   \n",
       "14                                 SaaS - CRM                    1.50   \n",
       "15                   Proptech - Hotel Booking                    4.90   \n",
       "16                             B2B E-Commerce                    1.00   \n",
       "17                     Fintech - B2B Payments                    1.60   \n",
       "18                         Logistics Services                    1.60   \n",
       "19                Logistics Services - Trucks                    1.10   \n",
       "20                     E-Commerce - Groceries                    1.10   \n",
       "21                                     Gaming                    1.00   \n",
       "22                     SaaS - Data Management                    1.00   \n",
       "23                 SaaS - Contract Management                    1.00   \n",
       "24                   IT Services - Healthcare                    1.10   \n",
       "25                        Mobility - Electric                    1.10   \n",
       "26                       E-Commerce - Eyewear                    1.10   \n",
       "27            Fintech - PoS Payment Solutions                    1.60   \n",
       "28     E-Commerce - Personal Care & Cosmetics                    1.20   \n",
       "29           SaaS - API Development & Testing                    2.00   \n",
       "30                                     Edtech                    1.40   \n",
       "31                  Fintech - Payment Gateway                    1.00   \n",
       "32                    Marketplace - Used Cars                    1.00   \n",
       "33                         Fintech - Payments                    5.50   \n",
       "34              SaaS - Salon & Spa Management                    1.00   \n",
       "35                             Content - News                    1.00   \n",
       "36                       Content - Lockscreen                    1.00   \n",
       "37                Fintech - General Insurance                    1.90   \n",
       "38           SaaS - Healthcare Data Analytics                    1.30   \n",
       "39    B2B E-Commerce - Construction Materials                    1.00   \n",
       "40                                       NBFC                    1.40   \n",
       "41            E-Commerce - Baby Care Products                    1.70   \n",
       "42               E-Commerce - Social Commerce                    2.10   \n",
       "43   Fintech - Payments & Credit Card Rewards                    2.20   \n",
       "44               E-Commerce - Online Pharmacy                    1.50   \n",
       "45         Fintech - Brokerage & Mutual Funds                    1.00   \n",
       "46                               Social Media                    2.10   \n",
       "47                   Conversational Messaging                    1.40   \n",
       "48       SaaS - Subscription Billing Solution                    1.40   \n",
       "49            Marketplace - Handyman Services                    2.10   \n",
       "56                         Fintech - Payments                    2.80   \n",
       "80               Aggregator - Consumer Brands                    1.10   \n",
       "100           Aggregator - Logistics Services                    1.23   \n",
       "\n",
       "     Valuation ($B)     Entry                 Location  \\\n",
       "0              1.00  Sep/2011      Bangalore/Singapore   \n",
       "1             37.60  Feb/2012      Bangalore/Singapore   \n",
       "2              1.50  Feb/2013        Bangalore/Chicago   \n",
       "3              2.40  Oct/2014                    Delhi   \n",
       "4             16.00  Feb/2015                    Noida   \n",
       "5              7.30  Mar/2015                Bangalore   \n",
       "6              1.50  Apr/2015                Bangalore   \n",
       "7              5.40  Sep/2015                  Gurgaon   \n",
       "8              1.10  Jan/2016                  Gurgaon   \n",
       "9              1.40  Aug/2016                    Delhi   \n",
       "10            22.00  Jan/2018                Bangalore   \n",
       "11             3.00  Apr/2018                    Noida   \n",
       "12            10.70  Jun/2018                Bangalore   \n",
       "13             2.40  Jun/2018                  Gurgaon   \n",
       "14             3.50  Jul/2018        Chennai/San Mateo   \n",
       "15             9.60  Sep/2018                  Gurgaon   \n",
       "16             3.10  Sep/2018                Bangalore   \n",
       "17             1.60  Nov/2018                   Mumbai   \n",
       "18             3.00  Jan/2019                  Gurgaon   \n",
       "19             1.10  Feb/2019                  Gurgaon   \n",
       "20             2.00  Mar/2019                Bangalore   \n",
       "21             8.00  Apr/2019                   Mumbai   \n",
       "22             2.00  Jun/2019           Pune/Sunnyvale   \n",
       "23             5.00  Jul/2019            Pune/Bellevue   \n",
       "24             1.10  Jul/2019         Mumbai/Princeton   \n",
       "25             5.00  Jul/2019                Bangalore   \n",
       "26             4.50  Sep/2019                    Delhi   \n",
       "27             5.00  Jan/2020                    Noida   \n",
       "28             1.80  Mar/2020                   Mumbai   \n",
       "29             5.60  Jun/2020  Bangalore/San Francisco   \n",
       "30             3.40  Sep/2020                Bangalore   \n",
       "31             7.50  Oct/2020                Bangalore   \n",
       "32             3.30  Nov/2020                  Gurgaon   \n",
       "33            12.00  Dec/2020                Bangalore   \n",
       "34             1.50  Dec/2020       Hyderabad/Bellevue   \n",
       "35             5.00  Dec/2020                Bangalore   \n",
       "36             2.00  Dec/2020      Bangalore/Singapore   \n",
       "37             4.00  Jan/2021                Bangalore   \n",
       "38             3.20  Feb/2021      Noida/San Francisco   \n",
       "39             2.50  Feb/2021                    Thane   \n",
       "40             1.40  Mar/2021                  Chennai   \n",
       "41             1.70  Mar/2021                     Pune   \n",
       "42             4.90  Apr/2021                Bangalore   \n",
       "43             6.40  Apr/2021                Bangalore   \n",
       "44             5.60  Apr/2021                   Mumbai   \n",
       "45             3.00  Apr/2021                Bangalore   \n",
       "46             4.90  Apr/2021                Bangalore   \n",
       "47             1.40  Apr/2021     Mumbai/San Francisco   \n",
       "48             3.50  Apr/2021    Chennai/San Francisco   \n",
       "49             2.10  Apr/2021                    Delhi   \n",
       "56             2.80  Aug/2021                    Delhi   \n",
       "80             1.10  Dec/2021                    Delhi   \n",
       "100            1.23  Aug/2022                    Delhi   \n",
       "\n",
       "                                      Select Investors  \n",
       "0                    KPCB, Sherpalo Ventures, SoftBank  \n",
       "1      Accel, Tiger Global, Naspers, SoftBank, Tencent  \n",
       "2             Accel, Sequoia Capital, General Atlantic  \n",
       "3    Kalaari Capital, Nexus Ventures, Bessemer, Sof...  \n",
       "4    Saama Capital, Elevation Capital, Alibaba, Ber...  \n",
       "5    Tiger Global, Matrix Partners, Steadview, Soft...  \n",
       "6    Matrix Partners, Omidyar Network, Norwest, Kin...  \n",
       "7    Info Edge, Sequoia Capital, Vy Capital, Alibab...  \n",
       "8    Nexus Ventures, Helion Ventures, Beenos, Tiger...  \n",
       "9                       Tiger Global, Tencent, Foxconn  \n",
       "10   Aarin Capital, Sequoia Capital, Lightspeed Ven...  \n",
       "11          Elevation Capital, Alibaba, SoftBank, eBay  \n",
       "12   Accel, Elevation Capital, Norwest, Naspers, Te...  \n",
       "13   Info Edge, Intel, Inventus Capital, Tiger Glob...  \n",
       "14   Accel, Tiger Global, Google, Sequoia Capital, ...  \n",
       "15      Lightspeed Ventures, Sequoia Capital, SoftBank  \n",
       "16            Lightspeed Ventures, DST Global, Tencent  \n",
       "17           SIDBI VC, TA Associates, General Atlantic  \n",
       "18   Nexus Ventures, Multiples PE, Tiger Global, Ca...  \n",
       "19                   Elevation Capital, Warburg Pincus  \n",
       "20   Ascent Capital, Helion Ventures, Bessemer, IFC...  \n",
       "21   Kalaari Capital, Tencent, Multiples PE, Steadv...  \n",
       "22         WestBridge, Nexus Ventures, Sequoia Capital  \n",
       "23                Eight Roads, B Capital, PremjiInvest  \n",
       "24                       General Atlantic, Baring Asia  \n",
       "25             SoftBank, Tiger Global, Matrix Partners  \n",
       "26   SoftBank, Kedaara Capital, TPG, Chiratae Ventu...  \n",
       "27   Sequoia Capital India, New Atlantic Ventures, ...  \n",
       "28   Techpro Ventures, TVS Capital, Sharrp Ventures...  \n",
       "29   Nexus Ventures, Charles River Ventures, Insigh...  \n",
       "30   Blume Ventures, Nexus Venture Partners, Sequoi...  \n",
       "31   Matrix Partners India, Tiger Global, Sequoia C...  \n",
       "32   Asia Venture Group, Apoletto, Unbound, DST Glo...  \n",
       "33                               Tiger Global, Tencent  \n",
       "34   Accel India, Norwest, Tiger Global, Steadview ...  \n",
       "35   Matrix Partners India, Omidyar Network, Sequoi...  \n",
       "36                             Mithril Capital, Google  \n",
       "37   Fairfax Holdings, A91 Partners, Faering Capita...  \n",
       "38   WestBridge, Lightspeed Ventures, M12 (Microsof...  \n",
       "39   Accel India, Nexus Venture Partners, Tiger Glo...  \n",
       "40   Matrix Partners India, Sequoia Capital India, ...  \n",
       "41   Chiratae Ventures, Elevation Capital, Vertex, ...  \n",
       "42   Sequoia Capital India, Elevation Capital, Soft...  \n",
       "43   Sequoia Capital India, Ribbit Capital, DST Glo...  \n",
       "44   Orios VP, Eight Roads Ventures, Temasek, Naspe...  \n",
       "45   Sequoia Capital India, Y Combinator, Tiger Glo...  \n",
       "46   India Quotient, Elevation Capital, Lightspeed ...  \n",
       "47   Tiger Global, Charles River Ventures, Helion V...  \n",
       "48   Tiger Global, Steadview Capital, Sapphire Vent...  \n",
       "49   Tiger Global, Steadview Capital, Accel India, ...  \n",
       "56   Beenext, Sequoia Capital India, Tiger Global, ...  \n",
       "80   PremjiInvest, SoftBank Corp, TPG Capital, Stea...  \n",
       "100  Lightrock India, Info Edge, Tribe Capital, Tem...  "
      ]
     },
     "execution_count": 389,
     "metadata": {},
     "output_type": "execute_result"
    }
   ],
   "source": [
    "\n",
    "\n",
    "# select * from df \n",
    "# where location = \"delhi\" or no < 50\n",
    "df[  (df[\"Location\"] == \"Delhi\" )  |  ( df[\"No.\"]  < 50)]\n",
    "\n",
    "\n"
   ]
  },
  {
   "cell_type": "code",
   "execution_count": 390,
   "id": "83bd809c",
   "metadata": {
    "execution": {
     "iopub.execute_input": "2023-11-16T17:05:48.033227Z",
     "iopub.status.busy": "2023-11-16T17:05:48.032889Z",
     "iopub.status.idle": "2023-11-16T17:05:48.050166Z",
     "shell.execute_reply": "2023-11-16T17:05:48.049324Z"
    },
    "papermill": {
     "duration": 0.225192,
     "end_time": "2023-11-16T17:05:48.052288",
     "exception": false,
     "start_time": "2023-11-16T17:05:47.827096",
     "status": "completed"
    },
    "tags": []
   },
   "outputs": [
    {
     "data": {
      "text/html": [
       "<div>\n",
       "<style scoped>\n",
       "    .dataframe tbody tr th:only-of-type {\n",
       "        vertical-align: middle;\n",
       "    }\n",
       "\n",
       "    .dataframe tbody tr th {\n",
       "        vertical-align: top;\n",
       "    }\n",
       "\n",
       "    .dataframe thead th {\n",
       "        text-align: right;\n",
       "    }\n",
       "</style>\n",
       "<table border=\"1\" class=\"dataframe\">\n",
       "  <thead>\n",
       "    <tr style=\"text-align: right;\">\n",
       "      <th></th>\n",
       "      <th>No.</th>\n",
       "      <th>Company</th>\n",
       "      <th>Sector</th>\n",
       "      <th>Entry Valuation^^ ($B)</th>\n",
       "      <th>Valuation ($B)</th>\n",
       "      <th>Entry</th>\n",
       "      <th>Location</th>\n",
       "      <th>Select Investors</th>\n",
       "    </tr>\n",
       "  </thead>\n",
       "  <tbody>\n",
       "    <tr>\n",
       "      <th>0</th>\n",
       "      <td>1</td>\n",
       "      <td>InMobi</td>\n",
       "      <td>Adtech - Mobile Ads</td>\n",
       "      <td>1.00</td>\n",
       "      <td>1.00</td>\n",
       "      <td>Sep/2011</td>\n",
       "      <td>Bangalore/Singapore</td>\n",
       "      <td>KPCB, Sherpalo Ventures, SoftBank</td>\n",
       "    </tr>\n",
       "    <tr>\n",
       "      <th>1</th>\n",
       "      <td>2</td>\n",
       "      <td>Flipkart^</td>\n",
       "      <td>E-Commerce</td>\n",
       "      <td>1.00</td>\n",
       "      <td>37.60</td>\n",
       "      <td>Feb/2012</td>\n",
       "      <td>Bangalore/Singapore</td>\n",
       "      <td>Accel, Tiger Global, Naspers, SoftBank, Tencent</td>\n",
       "    </tr>\n",
       "    <tr>\n",
       "      <th>2</th>\n",
       "      <td>3</td>\n",
       "      <td>Mu Sigma</td>\n",
       "      <td>SaaS - Analytics</td>\n",
       "      <td>1.00</td>\n",
       "      <td>1.50</td>\n",
       "      <td>Feb/2013</td>\n",
       "      <td>Bangalore/Chicago</td>\n",
       "      <td>Accel, Sequoia Capital, General Atlantic</td>\n",
       "    </tr>\n",
       "    <tr>\n",
       "      <th>3</th>\n",
       "      <td>4</td>\n",
       "      <td>Snapdeal*</td>\n",
       "      <td>E-Commerce</td>\n",
       "      <td>1.80</td>\n",
       "      <td>2.40</td>\n",
       "      <td>Oct/2014</td>\n",
       "      <td>Delhi</td>\n",
       "      <td>Kalaari Capital, Nexus Ventures, Bessemer, Sof...</td>\n",
       "    </tr>\n",
       "    <tr>\n",
       "      <th>4</th>\n",
       "      <td>5</td>\n",
       "      <td>PayTM^</td>\n",
       "      <td>Fintech - Payments &amp; Wallet</td>\n",
       "      <td>1.70</td>\n",
       "      <td>16.00</td>\n",
       "      <td>Feb/2015</td>\n",
       "      <td>Noida</td>\n",
       "      <td>Saama Capital, Elevation Capital, Alibaba, Ber...</td>\n",
       "    </tr>\n",
       "    <tr>\n",
       "      <th>...</th>\n",
       "      <td>...</td>\n",
       "      <td>...</td>\n",
       "      <td>...</td>\n",
       "      <td>...</td>\n",
       "      <td>...</td>\n",
       "      <td>...</td>\n",
       "      <td>...</td>\n",
       "      <td>...</td>\n",
       "    </tr>\n",
       "    <tr>\n",
       "      <th>97</th>\n",
       "      <td>98</td>\n",
       "      <td>Purplle</td>\n",
       "      <td>E-Commerce - Personal Care &amp; Cosmetics</td>\n",
       "      <td>1.10</td>\n",
       "      <td>1.10</td>\n",
       "      <td>Jun/2022</td>\n",
       "      <td>Mumbai</td>\n",
       "      <td>JSW Ventures, IvyCap Ventures, Blume Ventures,...</td>\n",
       "    </tr>\n",
       "    <tr>\n",
       "      <th>98</th>\n",
       "      <td>99</td>\n",
       "      <td>Leadsquared</td>\n",
       "      <td>SaaS - CRM</td>\n",
       "      <td>1.00</td>\n",
       "      <td>1.00</td>\n",
       "      <td>Jun/2022</td>\n",
       "      <td>Bangalore</td>\n",
       "      <td>Stakeboat Capital, Gaja Capital, WestBridge</td>\n",
       "    </tr>\n",
       "    <tr>\n",
       "      <th>99</th>\n",
       "      <td>100</td>\n",
       "      <td>OneCard</td>\n",
       "      <td>Fintech - Credit Cards</td>\n",
       "      <td>1.30</td>\n",
       "      <td>1.30</td>\n",
       "      <td>Jul/2022</td>\n",
       "      <td>Pune</td>\n",
       "      <td>QED Investors, Matrix Partners India, Sequoia ...</td>\n",
       "    </tr>\n",
       "    <tr>\n",
       "      <th>100</th>\n",
       "      <td>101</td>\n",
       "      <td>Shiprocket</td>\n",
       "      <td>Aggregator - Logistics Services</td>\n",
       "      <td>1.23</td>\n",
       "      <td>1.23</td>\n",
       "      <td>Aug/2022</td>\n",
       "      <td>Delhi</td>\n",
       "      <td>Lightrock India, Info Edge, Tribe Capital, Tem...</td>\n",
       "    </tr>\n",
       "    <tr>\n",
       "      <th>101</th>\n",
       "      <td>102</td>\n",
       "      <td>Molbio Diagnostics</td>\n",
       "      <td>Healthtech - Diagnostics</td>\n",
       "      <td>1.53</td>\n",
       "      <td>1.53</td>\n",
       "      <td>Sep/2022</td>\n",
       "      <td>Goa</td>\n",
       "      <td>Temasek, Motilal Oswal</td>\n",
       "    </tr>\n",
       "  </tbody>\n",
       "</table>\n",
       "<p>102 rows × 8 columns</p>\n",
       "</div>"
      ],
      "text/plain": [
       "     No.             Company                                  Sector  \\\n",
       "0      1              InMobi                     Adtech - Mobile Ads   \n",
       "1      2           Flipkart^                              E-Commerce   \n",
       "2      3            Mu Sigma                        SaaS - Analytics   \n",
       "3      4           Snapdeal*                              E-Commerce   \n",
       "4      5              PayTM^             Fintech - Payments & Wallet   \n",
       "..   ...                 ...                                     ...   \n",
       "97    98             Purplle  E-Commerce - Personal Care & Cosmetics   \n",
       "98    99         Leadsquared                              SaaS - CRM   \n",
       "99   100             OneCard                  Fintech - Credit Cards   \n",
       "100  101          Shiprocket         Aggregator - Logistics Services   \n",
       "101  102  Molbio Diagnostics                Healthtech - Diagnostics   \n",
       "\n",
       "     Entry Valuation^^ ($B)  Valuation ($B)     Entry             Location  \\\n",
       "0                      1.00            1.00  Sep/2011  Bangalore/Singapore   \n",
       "1                      1.00           37.60  Feb/2012  Bangalore/Singapore   \n",
       "2                      1.00            1.50  Feb/2013    Bangalore/Chicago   \n",
       "3                      1.80            2.40  Oct/2014                Delhi   \n",
       "4                      1.70           16.00  Feb/2015                Noida   \n",
       "..                      ...             ...       ...                  ...   \n",
       "97                     1.10            1.10  Jun/2022               Mumbai   \n",
       "98                     1.00            1.00  Jun/2022            Bangalore   \n",
       "99                     1.30            1.30  Jul/2022                 Pune   \n",
       "100                    1.23            1.23  Aug/2022                Delhi   \n",
       "101                    1.53            1.53  Sep/2022                  Goa   \n",
       "\n",
       "                                      Select Investors  \n",
       "0                    KPCB, Sherpalo Ventures, SoftBank  \n",
       "1      Accel, Tiger Global, Naspers, SoftBank, Tencent  \n",
       "2             Accel, Sequoia Capital, General Atlantic  \n",
       "3    Kalaari Capital, Nexus Ventures, Bessemer, Sof...  \n",
       "4    Saama Capital, Elevation Capital, Alibaba, Ber...  \n",
       "..                                                 ...  \n",
       "97   JSW Ventures, IvyCap Ventures, Blume Ventures,...  \n",
       "98         Stakeboat Capital, Gaja Capital, WestBridge  \n",
       "99   QED Investors, Matrix Partners India, Sequoia ...  \n",
       "100  Lightrock India, Info Edge, Tribe Capital, Tem...  \n",
       "101                             Temasek, Motilal Oswal  \n",
       "\n",
       "[102 rows x 8 columns]"
      ]
     },
     "execution_count": 390,
     "metadata": {},
     "output_type": "execute_result"
    }
   ],
   "source": [
    "df"
   ]
  },
  {
   "cell_type": "code",
   "execution_count": 391,
   "id": "40e93620",
   "metadata": {
    "execution": {
     "iopub.execute_input": "2023-11-16T17:05:48.363207Z",
     "iopub.status.busy": "2023-11-16T17:05:48.362836Z",
     "iopub.status.idle": "2023-11-16T17:05:48.379263Z",
     "shell.execute_reply": "2023-11-16T17:05:48.378414Z"
    },
    "papermill": {
     "duration": 0.169551,
     "end_time": "2023-11-16T17:05:48.381154",
     "exception": false,
     "start_time": "2023-11-16T17:05:48.211603",
     "status": "completed"
    },
    "tags": []
   },
   "outputs": [
    {
     "data": {
      "text/html": [
       "<div>\n",
       "<style scoped>\n",
       "    .dataframe tbody tr th:only-of-type {\n",
       "        vertical-align: middle;\n",
       "    }\n",
       "\n",
       "    .dataframe tbody tr th {\n",
       "        vertical-align: top;\n",
       "    }\n",
       "\n",
       "    .dataframe thead th {\n",
       "        text-align: right;\n",
       "    }\n",
       "</style>\n",
       "<table border=\"1\" class=\"dataframe\">\n",
       "  <thead>\n",
       "    <tr style=\"text-align: right;\">\n",
       "      <th></th>\n",
       "      <th>No.</th>\n",
       "      <th>Company</th>\n",
       "      <th>Sector</th>\n",
       "      <th>Entry Valuation^^ ($B)</th>\n",
       "      <th>Valuation ($B)</th>\n",
       "      <th>Entry</th>\n",
       "      <th>Location</th>\n",
       "      <th>Select Investors</th>\n",
       "    </tr>\n",
       "  </thead>\n",
       "  <tbody>\n",
       "    <tr>\n",
       "      <th>3</th>\n",
       "      <td>4</td>\n",
       "      <td>Snapdeal*</td>\n",
       "      <td>E-Commerce</td>\n",
       "      <td>1.80</td>\n",
       "      <td>2.40</td>\n",
       "      <td>Oct/2014</td>\n",
       "      <td>Delhi</td>\n",
       "      <td>Kalaari Capital, Nexus Ventures, Bessemer, Sof...</td>\n",
       "    </tr>\n",
       "    <tr>\n",
       "      <th>9</th>\n",
       "      <td>10</td>\n",
       "      <td>Hike*</td>\n",
       "      <td>Social Media - Messaging</td>\n",
       "      <td>1.40</td>\n",
       "      <td>1.40</td>\n",
       "      <td>Aug/2016</td>\n",
       "      <td>Delhi</td>\n",
       "      <td>Tiger Global, Tencent, Foxconn</td>\n",
       "    </tr>\n",
       "    <tr>\n",
       "      <th>26</th>\n",
       "      <td>27</td>\n",
       "      <td>Lenskart</td>\n",
       "      <td>E-Commerce - Eyewear</td>\n",
       "      <td>1.10</td>\n",
       "      <td>4.50</td>\n",
       "      <td>Sep/2019</td>\n",
       "      <td>Delhi</td>\n",
       "      <td>SoftBank, Kedaara Capital, TPG, Chiratae Ventu...</td>\n",
       "    </tr>\n",
       "    <tr>\n",
       "      <th>41</th>\n",
       "      <td>42</td>\n",
       "      <td>FirstCry</td>\n",
       "      <td>E-Commerce - Baby Care Products</td>\n",
       "      <td>1.70</td>\n",
       "      <td>1.70</td>\n",
       "      <td>Mar/2021</td>\n",
       "      <td>Pune</td>\n",
       "      <td>Chiratae Ventures, Elevation Capital, Vertex, ...</td>\n",
       "    </tr>\n",
       "    <tr>\n",
       "      <th>49</th>\n",
       "      <td>50</td>\n",
       "      <td>Urban Company</td>\n",
       "      <td>Marketplace - Handyman Services</td>\n",
       "      <td>2.10</td>\n",
       "      <td>2.10</td>\n",
       "      <td>Apr/2021</td>\n",
       "      <td>Delhi</td>\n",
       "      <td>Tiger Global, Steadview Capital, Accel India, ...</td>\n",
       "    </tr>\n",
       "    <tr>\n",
       "      <th>56</th>\n",
       "      <td>57</td>\n",
       "      <td>BharatPe</td>\n",
       "      <td>Fintech - Payments</td>\n",
       "      <td>2.80</td>\n",
       "      <td>2.80</td>\n",
       "      <td>Aug/2021</td>\n",
       "      <td>Delhi</td>\n",
       "      <td>Beenext, Sequoia Capital India, Tiger Global, ...</td>\n",
       "    </tr>\n",
       "    <tr>\n",
       "      <th>80</th>\n",
       "      <td>81</td>\n",
       "      <td>GlobalBees</td>\n",
       "      <td>Aggregator - Consumer Brands</td>\n",
       "      <td>1.10</td>\n",
       "      <td>1.10</td>\n",
       "      <td>Dec/2021</td>\n",
       "      <td>Delhi</td>\n",
       "      <td>PremjiInvest, SoftBank Corp, TPG Capital, Stea...</td>\n",
       "    </tr>\n",
       "    <tr>\n",
       "      <th>86</th>\n",
       "      <td>87</td>\n",
       "      <td>ElasticRun</td>\n",
       "      <td>Logistics Services</td>\n",
       "      <td>1.40</td>\n",
       "      <td>1.40</td>\n",
       "      <td>Feb/2022</td>\n",
       "      <td>Pune</td>\n",
       "      <td>SoftBank, Goldman Sachs, Prosus Ventures, Kala...</td>\n",
       "    </tr>\n",
       "    <tr>\n",
       "      <th>88</th>\n",
       "      <td>89</td>\n",
       "      <td>XpressBees Logistics</td>\n",
       "      <td>Logistics Services</td>\n",
       "      <td>1.20</td>\n",
       "      <td>1.20</td>\n",
       "      <td>Feb/2022</td>\n",
       "      <td>Pune</td>\n",
       "      <td>InvestCorp Group, Norwest, Gaja Capital, TPG G...</td>\n",
       "    </tr>\n",
       "    <tr>\n",
       "      <th>99</th>\n",
       "      <td>100</td>\n",
       "      <td>OneCard</td>\n",
       "      <td>Fintech - Credit Cards</td>\n",
       "      <td>1.30</td>\n",
       "      <td>1.30</td>\n",
       "      <td>Jul/2022</td>\n",
       "      <td>Pune</td>\n",
       "      <td>QED Investors, Matrix Partners India, Sequoia ...</td>\n",
       "    </tr>\n",
       "    <tr>\n",
       "      <th>100</th>\n",
       "      <td>101</td>\n",
       "      <td>Shiprocket</td>\n",
       "      <td>Aggregator - Logistics Services</td>\n",
       "      <td>1.23</td>\n",
       "      <td>1.23</td>\n",
       "      <td>Aug/2022</td>\n",
       "      <td>Delhi</td>\n",
       "      <td>Lightrock India, Info Edge, Tribe Capital, Tem...</td>\n",
       "    </tr>\n",
       "  </tbody>\n",
       "</table>\n",
       "</div>"
      ],
      "text/plain": [
       "     No.               Company                           Sector  \\\n",
       "3      4             Snapdeal*                       E-Commerce   \n",
       "9     10                 Hike*         Social Media - Messaging   \n",
       "26    27              Lenskart             E-Commerce - Eyewear   \n",
       "41    42              FirstCry  E-Commerce - Baby Care Products   \n",
       "49    50         Urban Company  Marketplace - Handyman Services   \n",
       "56    57              BharatPe               Fintech - Payments   \n",
       "80    81            GlobalBees     Aggregator - Consumer Brands   \n",
       "86    87            ElasticRun               Logistics Services   \n",
       "88    89  XpressBees Logistics               Logistics Services   \n",
       "99   100               OneCard           Fintech - Credit Cards   \n",
       "100  101            Shiprocket  Aggregator - Logistics Services   \n",
       "\n",
       "     Entry Valuation^^ ($B)  Valuation ($B)     Entry Location  \\\n",
       "3                      1.80            2.40  Oct/2014    Delhi   \n",
       "9                      1.40            1.40  Aug/2016    Delhi   \n",
       "26                     1.10            4.50  Sep/2019    Delhi   \n",
       "41                     1.70            1.70  Mar/2021     Pune   \n",
       "49                     2.10            2.10  Apr/2021    Delhi   \n",
       "56                     2.80            2.80  Aug/2021    Delhi   \n",
       "80                     1.10            1.10  Dec/2021    Delhi   \n",
       "86                     1.40            1.40  Feb/2022     Pune   \n",
       "88                     1.20            1.20  Feb/2022     Pune   \n",
       "99                     1.30            1.30  Jul/2022     Pune   \n",
       "100                    1.23            1.23  Aug/2022    Delhi   \n",
       "\n",
       "                                      Select Investors  \n",
       "3    Kalaari Capital, Nexus Ventures, Bessemer, Sof...  \n",
       "9                       Tiger Global, Tencent, Foxconn  \n",
       "26   SoftBank, Kedaara Capital, TPG, Chiratae Ventu...  \n",
       "41   Chiratae Ventures, Elevation Capital, Vertex, ...  \n",
       "49   Tiger Global, Steadview Capital, Accel India, ...  \n",
       "56   Beenext, Sequoia Capital India, Tiger Global, ...  \n",
       "80   PremjiInvest, SoftBank Corp, TPG Capital, Stea...  \n",
       "86   SoftBank, Goldman Sachs, Prosus Ventures, Kala...  \n",
       "88   InvestCorp Group, Norwest, Gaja Capital, TPG G...  \n",
       "99   QED Investors, Matrix Partners India, Sequoia ...  \n",
       "100  Lightrock India, Info Edge, Tribe Capital, Tem...  "
      ]
     },
     "execution_count": 391,
     "metadata": {},
     "output_type": "execute_result"
    }
   ],
   "source": [
    "\n",
    "\n",
    "# select * from df \n",
    "# where location = \"Delhi\" or location = \"Pune\"\n",
    "# where location in (\"delhi,Pune\")\n",
    "\n",
    "df[df[\"Location\"].isin([\"Delhi\",\"Pune\"])]"
   ]
  },
  {
   "cell_type": "code",
   "execution_count": 392,
   "id": "4b752a7d",
   "metadata": {
    "execution": {
     "iopub.execute_input": "2023-11-16T17:05:48.692228Z",
     "iopub.status.busy": "2023-11-16T17:05:48.691860Z",
     "iopub.status.idle": "2023-11-16T17:05:48.708383Z",
     "shell.execute_reply": "2023-11-16T17:05:48.707492Z"
    },
    "papermill": {
     "duration": 0.172965,
     "end_time": "2023-11-16T17:05:48.710528",
     "exception": false,
     "start_time": "2023-11-16T17:05:48.537563",
     "status": "completed"
    },
    "tags": []
   },
   "outputs": [
    {
     "data": {
      "text/html": [
       "<div>\n",
       "<style scoped>\n",
       "    .dataframe tbody tr th:only-of-type {\n",
       "        vertical-align: middle;\n",
       "    }\n",
       "\n",
       "    .dataframe tbody tr th {\n",
       "        vertical-align: top;\n",
       "    }\n",
       "\n",
       "    .dataframe thead th {\n",
       "        text-align: right;\n",
       "    }\n",
       "</style>\n",
       "<table border=\"1\" class=\"dataframe\">\n",
       "  <thead>\n",
       "    <tr style=\"text-align: right;\">\n",
       "      <th></th>\n",
       "      <th>No.</th>\n",
       "      <th>Company</th>\n",
       "      <th>Sector</th>\n",
       "      <th>Entry Valuation^^ ($B)</th>\n",
       "      <th>Valuation ($B)</th>\n",
       "      <th>Entry</th>\n",
       "      <th>Location</th>\n",
       "      <th>Select Investors</th>\n",
       "    </tr>\n",
       "  </thead>\n",
       "  <tbody>\n",
       "    <tr>\n",
       "      <th>18</th>\n",
       "      <td>19</td>\n",
       "      <td>Delhivery^</td>\n",
       "      <td>Logistics Services</td>\n",
       "      <td>1.60</td>\n",
       "      <td>3.00</td>\n",
       "      <td>Jan/2019</td>\n",
       "      <td>Gurgaon</td>\n",
       "      <td>Nexus Ventures, Multiples PE, Tiger Global, Ca...</td>\n",
       "    </tr>\n",
       "    <tr>\n",
       "      <th>19</th>\n",
       "      <td>20</td>\n",
       "      <td>Rivigo</td>\n",
       "      <td>Logistics Services - Trucks</td>\n",
       "      <td>1.10</td>\n",
       "      <td>1.10</td>\n",
       "      <td>Feb/2019</td>\n",
       "      <td>Gurgaon</td>\n",
       "      <td>Elevation Capital, Warburg Pincus</td>\n",
       "    </tr>\n",
       "    <tr>\n",
       "      <th>24</th>\n",
       "      <td>25</td>\n",
       "      <td>CitiusTech</td>\n",
       "      <td>IT Services - Healthcare</td>\n",
       "      <td>1.10</td>\n",
       "      <td>1.10</td>\n",
       "      <td>Jul/2019</td>\n",
       "      <td>Mumbai/Princeton</td>\n",
       "      <td>General Atlantic, Baring Asia</td>\n",
       "    </tr>\n",
       "    <tr>\n",
       "      <th>49</th>\n",
       "      <td>50</td>\n",
       "      <td>Urban Company</td>\n",
       "      <td>Marketplace - Handyman Services</td>\n",
       "      <td>2.10</td>\n",
       "      <td>2.10</td>\n",
       "      <td>Apr/2021</td>\n",
       "      <td>Delhi</td>\n",
       "      <td>Tiger Global, Steadview Capital, Accel India, ...</td>\n",
       "    </tr>\n",
       "    <tr>\n",
       "      <th>53</th>\n",
       "      <td>54</td>\n",
       "      <td>BlackBuck</td>\n",
       "      <td>Logistics Services</td>\n",
       "      <td>1.00</td>\n",
       "      <td>1.00</td>\n",
       "      <td>Jul/2021</td>\n",
       "      <td>Bangalore</td>\n",
       "      <td>Accel India, Sequoia Capital India, Sands Capi...</td>\n",
       "    </tr>\n",
       "    <tr>\n",
       "      <th>62</th>\n",
       "      <td>63</td>\n",
       "      <td>Zetwerk</td>\n",
       "      <td>Marketplace - Manufacturing Services</td>\n",
       "      <td>1.00</td>\n",
       "      <td>2.50</td>\n",
       "      <td>Aug/2021</td>\n",
       "      <td>Bangalore</td>\n",
       "      <td>Kae Capital, Sequoia Capital India, Accel Indi...</td>\n",
       "    </tr>\n",
       "    <tr>\n",
       "      <th>78</th>\n",
       "      <td>79</td>\n",
       "      <td>Pristyn Care</td>\n",
       "      <td>Healthtech - Elective Surgery Services</td>\n",
       "      <td>1.40</td>\n",
       "      <td>1.40</td>\n",
       "      <td>Dec/2021</td>\n",
       "      <td>Gurgaon</td>\n",
       "      <td>Tiger Global, Sequoia Capital India, Hummingbi...</td>\n",
       "    </tr>\n",
       "    <tr>\n",
       "      <th>86</th>\n",
       "      <td>87</td>\n",
       "      <td>ElasticRun</td>\n",
       "      <td>Logistics Services</td>\n",
       "      <td>1.40</td>\n",
       "      <td>1.40</td>\n",
       "      <td>Feb/2022</td>\n",
       "      <td>Pune</td>\n",
       "      <td>SoftBank, Goldman Sachs, Prosus Ventures, Kala...</td>\n",
       "    </tr>\n",
       "    <tr>\n",
       "      <th>88</th>\n",
       "      <td>89</td>\n",
       "      <td>XpressBees Logistics</td>\n",
       "      <td>Logistics Services</td>\n",
       "      <td>1.20</td>\n",
       "      <td>1.20</td>\n",
       "      <td>Feb/2022</td>\n",
       "      <td>Pune</td>\n",
       "      <td>InvestCorp Group, Norwest, Gaja Capital, TPG G...</td>\n",
       "    </tr>\n",
       "    <tr>\n",
       "      <th>100</th>\n",
       "      <td>101</td>\n",
       "      <td>Shiprocket</td>\n",
       "      <td>Aggregator - Logistics Services</td>\n",
       "      <td>1.23</td>\n",
       "      <td>1.23</td>\n",
       "      <td>Aug/2022</td>\n",
       "      <td>Delhi</td>\n",
       "      <td>Lightrock India, Info Edge, Tribe Capital, Tem...</td>\n",
       "    </tr>\n",
       "  </tbody>\n",
       "</table>\n",
       "</div>"
      ],
      "text/plain": [
       "     No.               Company                                  Sector  \\\n",
       "18    19            Delhivery^                      Logistics Services   \n",
       "19    20                Rivigo             Logistics Services - Trucks   \n",
       "24    25            CitiusTech                IT Services - Healthcare   \n",
       "49    50         Urban Company         Marketplace - Handyman Services   \n",
       "53    54             BlackBuck                      Logistics Services   \n",
       "62    63               Zetwerk    Marketplace - Manufacturing Services   \n",
       "78    79          Pristyn Care  Healthtech - Elective Surgery Services   \n",
       "86    87            ElasticRun                      Logistics Services   \n",
       "88    89  XpressBees Logistics                      Logistics Services   \n",
       "100  101            Shiprocket         Aggregator - Logistics Services   \n",
       "\n",
       "     Entry Valuation^^ ($B)  Valuation ($B)     Entry          Location  \\\n",
       "18                     1.60            3.00  Jan/2019           Gurgaon   \n",
       "19                     1.10            1.10  Feb/2019           Gurgaon   \n",
       "24                     1.10            1.10  Jul/2019  Mumbai/Princeton   \n",
       "49                     2.10            2.10  Apr/2021             Delhi   \n",
       "53                     1.00            1.00  Jul/2021         Bangalore   \n",
       "62                     1.00            2.50  Aug/2021         Bangalore   \n",
       "78                     1.40            1.40  Dec/2021           Gurgaon   \n",
       "86                     1.40            1.40  Feb/2022              Pune   \n",
       "88                     1.20            1.20  Feb/2022              Pune   \n",
       "100                    1.23            1.23  Aug/2022             Delhi   \n",
       "\n",
       "                                      Select Investors  \n",
       "18   Nexus Ventures, Multiples PE, Tiger Global, Ca...  \n",
       "19                   Elevation Capital, Warburg Pincus  \n",
       "24                       General Atlantic, Baring Asia  \n",
       "49   Tiger Global, Steadview Capital, Accel India, ...  \n",
       "53   Accel India, Sequoia Capital India, Sands Capi...  \n",
       "62   Kae Capital, Sequoia Capital India, Accel Indi...  \n",
       "78   Tiger Global, Sequoia Capital India, Hummingbi...  \n",
       "86   SoftBank, Goldman Sachs, Prosus Ventures, Kala...  \n",
       "88   InvestCorp Group, Norwest, Gaja Capital, TPG G...  \n",
       "100  Lightrock India, Info Edge, Tribe Capital, Tem...  "
      ]
     },
     "execution_count": 392,
     "metadata": {},
     "output_type": "execute_result"
    }
   ],
   "source": [
    "\n",
    "# select * from df \n",
    "# where Sector like \"%services%\"\n",
    "df[df[\"Sector\"].str.contains(\"Services\")]"
   ]
  },
  {
   "cell_type": "code",
   "execution_count": 393,
   "id": "a3398389",
   "metadata": {
    "execution": {
     "iopub.execute_input": "2023-11-16T17:05:49.034233Z",
     "iopub.status.busy": "2023-11-16T17:05:49.033887Z",
     "iopub.status.idle": "2023-11-16T17:05:49.049641Z",
     "shell.execute_reply": "2023-11-16T17:05:49.048752Z"
    },
    "papermill": {
     "duration": 0.175923,
     "end_time": "2023-11-16T17:05:49.051667",
     "exception": false,
     "start_time": "2023-11-16T17:05:48.875744",
     "status": "completed"
    },
    "tags": []
   },
   "outputs": [
    {
     "data": {
      "text/html": [
       "<div>\n",
       "<style scoped>\n",
       "    .dataframe tbody tr th:only-of-type {\n",
       "        vertical-align: middle;\n",
       "    }\n",
       "\n",
       "    .dataframe tbody tr th {\n",
       "        vertical-align: top;\n",
       "    }\n",
       "\n",
       "    .dataframe thead th {\n",
       "        text-align: right;\n",
       "    }\n",
       "</style>\n",
       "<table border=\"1\" class=\"dataframe\">\n",
       "  <thead>\n",
       "    <tr style=\"text-align: right;\">\n",
       "      <th></th>\n",
       "      <th>No.</th>\n",
       "      <th>Company</th>\n",
       "      <th>Sector</th>\n",
       "      <th>Entry Valuation^^ ($B)</th>\n",
       "      <th>Valuation ($B)</th>\n",
       "      <th>Entry</th>\n",
       "      <th>Location</th>\n",
       "      <th>Select Investors</th>\n",
       "    </tr>\n",
       "  </thead>\n",
       "  <tbody>\n",
       "    <tr>\n",
       "      <th>18</th>\n",
       "      <td>19</td>\n",
       "      <td>Delhivery^</td>\n",
       "      <td>Logistics Services</td>\n",
       "      <td>1.60</td>\n",
       "      <td>3.00</td>\n",
       "      <td>Jan/2019</td>\n",
       "      <td>Gurgaon</td>\n",
       "      <td>Nexus Ventures, Multiples PE, Tiger Global, Ca...</td>\n",
       "    </tr>\n",
       "    <tr>\n",
       "      <th>49</th>\n",
       "      <td>50</td>\n",
       "      <td>Urban Company</td>\n",
       "      <td>Marketplace - Handyman Services</td>\n",
       "      <td>2.10</td>\n",
       "      <td>2.10</td>\n",
       "      <td>Apr/2021</td>\n",
       "      <td>Delhi</td>\n",
       "      <td>Tiger Global, Steadview Capital, Accel India, ...</td>\n",
       "    </tr>\n",
       "    <tr>\n",
       "      <th>53</th>\n",
       "      <td>54</td>\n",
       "      <td>BlackBuck</td>\n",
       "      <td>Logistics Services</td>\n",
       "      <td>1.00</td>\n",
       "      <td>1.00</td>\n",
       "      <td>Jul/2021</td>\n",
       "      <td>Bangalore</td>\n",
       "      <td>Accel India, Sequoia Capital India, Sands Capi...</td>\n",
       "    </tr>\n",
       "    <tr>\n",
       "      <th>62</th>\n",
       "      <td>63</td>\n",
       "      <td>Zetwerk</td>\n",
       "      <td>Marketplace - Manufacturing Services</td>\n",
       "      <td>1.00</td>\n",
       "      <td>2.50</td>\n",
       "      <td>Aug/2021</td>\n",
       "      <td>Bangalore</td>\n",
       "      <td>Kae Capital, Sequoia Capital India, Accel Indi...</td>\n",
       "    </tr>\n",
       "    <tr>\n",
       "      <th>78</th>\n",
       "      <td>79</td>\n",
       "      <td>Pristyn Care</td>\n",
       "      <td>Healthtech - Elective Surgery Services</td>\n",
       "      <td>1.40</td>\n",
       "      <td>1.40</td>\n",
       "      <td>Dec/2021</td>\n",
       "      <td>Gurgaon</td>\n",
       "      <td>Tiger Global, Sequoia Capital India, Hummingbi...</td>\n",
       "    </tr>\n",
       "    <tr>\n",
       "      <th>86</th>\n",
       "      <td>87</td>\n",
       "      <td>ElasticRun</td>\n",
       "      <td>Logistics Services</td>\n",
       "      <td>1.40</td>\n",
       "      <td>1.40</td>\n",
       "      <td>Feb/2022</td>\n",
       "      <td>Pune</td>\n",
       "      <td>SoftBank, Goldman Sachs, Prosus Ventures, Kala...</td>\n",
       "    </tr>\n",
       "    <tr>\n",
       "      <th>88</th>\n",
       "      <td>89</td>\n",
       "      <td>XpressBees Logistics</td>\n",
       "      <td>Logistics Services</td>\n",
       "      <td>1.20</td>\n",
       "      <td>1.20</td>\n",
       "      <td>Feb/2022</td>\n",
       "      <td>Pune</td>\n",
       "      <td>InvestCorp Group, Norwest, Gaja Capital, TPG G...</td>\n",
       "    </tr>\n",
       "    <tr>\n",
       "      <th>100</th>\n",
       "      <td>101</td>\n",
       "      <td>Shiprocket</td>\n",
       "      <td>Aggregator - Logistics Services</td>\n",
       "      <td>1.23</td>\n",
       "      <td>1.23</td>\n",
       "      <td>Aug/2022</td>\n",
       "      <td>Delhi</td>\n",
       "      <td>Lightrock India, Info Edge, Tribe Capital, Tem...</td>\n",
       "    </tr>\n",
       "  </tbody>\n",
       "</table>\n",
       "</div>"
      ],
      "text/plain": [
       "     No.               Company                                  Sector  \\\n",
       "18    19            Delhivery^                      Logistics Services   \n",
       "49    50         Urban Company         Marketplace - Handyman Services   \n",
       "53    54             BlackBuck                      Logistics Services   \n",
       "62    63               Zetwerk    Marketplace - Manufacturing Services   \n",
       "78    79          Pristyn Care  Healthtech - Elective Surgery Services   \n",
       "86    87            ElasticRun                      Logistics Services   \n",
       "88    89  XpressBees Logistics                      Logistics Services   \n",
       "100  101            Shiprocket         Aggregator - Logistics Services   \n",
       "\n",
       "     Entry Valuation^^ ($B)  Valuation ($B)     Entry   Location  \\\n",
       "18                     1.60            3.00  Jan/2019    Gurgaon   \n",
       "49                     2.10            2.10  Apr/2021      Delhi   \n",
       "53                     1.00            1.00  Jul/2021  Bangalore   \n",
       "62                     1.00            2.50  Aug/2021  Bangalore   \n",
       "78                     1.40            1.40  Dec/2021    Gurgaon   \n",
       "86                     1.40            1.40  Feb/2022       Pune   \n",
       "88                     1.20            1.20  Feb/2022       Pune   \n",
       "100                    1.23            1.23  Aug/2022      Delhi   \n",
       "\n",
       "                                      Select Investors  \n",
       "18   Nexus Ventures, Multiples PE, Tiger Global, Ca...  \n",
       "49   Tiger Global, Steadview Capital, Accel India, ...  \n",
       "53   Accel India, Sequoia Capital India, Sands Capi...  \n",
       "62   Kae Capital, Sequoia Capital India, Accel Indi...  \n",
       "78   Tiger Global, Sequoia Capital India, Hummingbi...  \n",
       "86   SoftBank, Goldman Sachs, Prosus Ventures, Kala...  \n",
       "88   InvestCorp Group, Norwest, Gaja Capital, TPG G...  \n",
       "100  Lightrock India, Info Edge, Tribe Capital, Tem...  "
      ]
     },
     "execution_count": 393,
     "metadata": {},
     "output_type": "execute_result"
    }
   ],
   "source": [
    "\n",
    "# select * from df \n",
    "# where Sector like \"%services\"\n",
    "df[df[\"Sector\"].str.endswith(\"Services\")]"
   ]
  },
  {
   "cell_type": "code",
   "execution_count": 394,
   "id": "b2df3e04",
   "metadata": {
    "execution": {
     "iopub.execute_input": "2023-11-16T17:05:49.358242Z",
     "iopub.status.busy": "2023-11-16T17:05:49.357581Z",
     "iopub.status.idle": "2023-11-16T17:05:49.367341Z",
     "shell.execute_reply": "2023-11-16T17:05:49.366484Z"
    },
    "papermill": {
     "duration": 0.164442,
     "end_time": "2023-11-16T17:05:49.369287",
     "exception": false,
     "start_time": "2023-11-16T17:05:49.204845",
     "status": "completed"
    },
    "tags": []
   },
   "outputs": [
    {
     "data": {
      "text/html": [
       "<div>\n",
       "<style scoped>\n",
       "    .dataframe tbody tr th:only-of-type {\n",
       "        vertical-align: middle;\n",
       "    }\n",
       "\n",
       "    .dataframe tbody tr th {\n",
       "        vertical-align: top;\n",
       "    }\n",
       "\n",
       "    .dataframe thead th {\n",
       "        text-align: right;\n",
       "    }\n",
       "</style>\n",
       "<table border=\"1\" class=\"dataframe\">\n",
       "  <thead>\n",
       "    <tr style=\"text-align: right;\">\n",
       "      <th></th>\n",
       "      <th>No.</th>\n",
       "      <th>Company</th>\n",
       "      <th>Sector</th>\n",
       "      <th>Entry Valuation^^ ($B)</th>\n",
       "      <th>Valuation ($B)</th>\n",
       "      <th>Entry</th>\n",
       "      <th>Location</th>\n",
       "      <th>Select Investors</th>\n",
       "    </tr>\n",
       "  </thead>\n",
       "  <tbody>\n",
       "  </tbody>\n",
       "</table>\n",
       "</div>"
      ],
      "text/plain": [
       "Empty DataFrame\n",
       "Columns: [No., Company, Sector, Entry Valuation^^ ($B), Valuation ($B), Entry, Location, Select Investors]\n",
       "Index: []"
      ]
     },
     "execution_count": 394,
     "metadata": {},
     "output_type": "execute_result"
    }
   ],
   "source": [
    "df[df[\"Sector\"].str.startswith(\"Services\")]"
   ]
  },
  {
   "cell_type": "code",
   "execution_count": 395,
   "id": "8e1521d6",
   "metadata": {
    "execution": {
     "iopub.execute_input": "2023-11-16T17:05:49.679627Z",
     "iopub.status.busy": "2023-11-16T17:05:49.679260Z",
     "iopub.status.idle": "2023-11-16T17:05:49.699718Z",
     "shell.execute_reply": "2023-11-16T17:05:49.698848Z"
    },
    "papermill": {
     "duration": 0.177402,
     "end_time": "2023-11-16T17:05:49.701883",
     "exception": false,
     "start_time": "2023-11-16T17:05:49.524481",
     "status": "completed"
    },
    "tags": []
   },
   "outputs": [
    {
     "data": {
      "text/html": [
       "<div>\n",
       "<style scoped>\n",
       "    .dataframe tbody tr th:only-of-type {\n",
       "        vertical-align: middle;\n",
       "    }\n",
       "\n",
       "    .dataframe tbody tr th {\n",
       "        vertical-align: top;\n",
       "    }\n",
       "\n",
       "    .dataframe thead th {\n",
       "        text-align: right;\n",
       "    }\n",
       "</style>\n",
       "<table border=\"1\" class=\"dataframe\">\n",
       "  <thead>\n",
       "    <tr style=\"text-align: right;\">\n",
       "      <th></th>\n",
       "      <th>No.</th>\n",
       "      <th>Company</th>\n",
       "      <th>Sector</th>\n",
       "      <th>Entry Valuation^^ ($B)</th>\n",
       "      <th>Valuation ($B)</th>\n",
       "      <th>Entry</th>\n",
       "      <th>Location</th>\n",
       "      <th>Select Investors</th>\n",
       "    </tr>\n",
       "  </thead>\n",
       "  <tbody>\n",
       "    <tr>\n",
       "      <th>39</th>\n",
       "      <td>40</td>\n",
       "      <td>Infra.Market</td>\n",
       "      <td>B2B E-Commerce - Construction Materials</td>\n",
       "      <td>1.0</td>\n",
       "      <td>2.5</td>\n",
       "      <td>Feb/2021</td>\n",
       "      <td>Thane</td>\n",
       "      <td>Accel India, Nexus Venture Partners, Tiger Glo...</td>\n",
       "    </tr>\n",
       "    <tr>\n",
       "      <th>22</th>\n",
       "      <td>23</td>\n",
       "      <td>Druva Software</td>\n",
       "      <td>SaaS - Data Management</td>\n",
       "      <td>1.0</td>\n",
       "      <td>2.0</td>\n",
       "      <td>Jun/2019</td>\n",
       "      <td>Pune/Sunnyvale</td>\n",
       "      <td>WestBridge, Nexus Ventures, Sequoia Capital</td>\n",
       "    </tr>\n",
       "    <tr>\n",
       "      <th>23</th>\n",
       "      <td>24</td>\n",
       "      <td>Icertis</td>\n",
       "      <td>SaaS - Contract Management</td>\n",
       "      <td>1.0</td>\n",
       "      <td>5.0</td>\n",
       "      <td>Jul/2019</td>\n",
       "      <td>Pune/Bellevue</td>\n",
       "      <td>Eight Roads, B Capital, PremjiInvest</td>\n",
       "    </tr>\n",
       "    <tr>\n",
       "      <th>41</th>\n",
       "      <td>42</td>\n",
       "      <td>FirstCry</td>\n",
       "      <td>E-Commerce - Baby Care Products</td>\n",
       "      <td>1.7</td>\n",
       "      <td>1.7</td>\n",
       "      <td>Mar/2021</td>\n",
       "      <td>Pune</td>\n",
       "      <td>Chiratae Ventures, Elevation Capital, Vertex, ...</td>\n",
       "    </tr>\n",
       "    <tr>\n",
       "      <th>99</th>\n",
       "      <td>100</td>\n",
       "      <td>OneCard</td>\n",
       "      <td>Fintech - Credit Cards</td>\n",
       "      <td>1.3</td>\n",
       "      <td>1.3</td>\n",
       "      <td>Jul/2022</td>\n",
       "      <td>Pune</td>\n",
       "      <td>QED Investors, Matrix Partners India, Sequoia ...</td>\n",
       "    </tr>\n",
       "    <tr>\n",
       "      <th>...</th>\n",
       "      <td>...</td>\n",
       "      <td>...</td>\n",
       "      <td>...</td>\n",
       "      <td>...</td>\n",
       "      <td>...</td>\n",
       "      <td>...</td>\n",
       "      <td>...</td>\n",
       "      <td>...</td>\n",
       "    </tr>\n",
       "    <tr>\n",
       "      <th>98</th>\n",
       "      <td>99</td>\n",
       "      <td>Leadsquared</td>\n",
       "      <td>SaaS - CRM</td>\n",
       "      <td>1.0</td>\n",
       "      <td>1.0</td>\n",
       "      <td>Jun/2022</td>\n",
       "      <td>Bangalore</td>\n",
       "      <td>Stakeboat Capital, Gaja Capital, WestBridge</td>\n",
       "    </tr>\n",
       "    <tr>\n",
       "      <th>92</th>\n",
       "      <td>93</td>\n",
       "      <td>Amagi Media Labs</td>\n",
       "      <td>SaaS - Local Ads Targeting</td>\n",
       "      <td>1.0</td>\n",
       "      <td>1.0</td>\n",
       "      <td>Mar/2022</td>\n",
       "      <td>Bangalore</td>\n",
       "      <td>Avataar Venture Partners, PremjiInvest, Accel ...</td>\n",
       "    </tr>\n",
       "    <tr>\n",
       "      <th>90</th>\n",
       "      <td>91</td>\n",
       "      <td>Hasura</td>\n",
       "      <td>SaaS - Programming Tools</td>\n",
       "      <td>1.0</td>\n",
       "      <td>1.0</td>\n",
       "      <td>Feb/2022</td>\n",
       "      <td>Bangalore</td>\n",
       "      <td>Lightspeed Ventures, Nexus Venture Partners, V...</td>\n",
       "    </tr>\n",
       "    <tr>\n",
       "      <th>46</th>\n",
       "      <td>47</td>\n",
       "      <td>ShareChat</td>\n",
       "      <td>Social Media</td>\n",
       "      <td>2.1</td>\n",
       "      <td>4.9</td>\n",
       "      <td>Apr/2021</td>\n",
       "      <td>Bangalore</td>\n",
       "      <td>India Quotient, Elevation Capital, Lightspeed ...</td>\n",
       "    </tr>\n",
       "    <tr>\n",
       "      <th>85</th>\n",
       "      <td>86</td>\n",
       "      <td>Polygon</td>\n",
       "      <td>Web3 Infrastructure - Dapps</td>\n",
       "      <td>10.0</td>\n",
       "      <td>10.0</td>\n",
       "      <td>Feb/2022</td>\n",
       "      <td>Bangalore</td>\n",
       "      <td>Coinbase Ventures, Sequoia Capital India, Tige...</td>\n",
       "    </tr>\n",
       "  </tbody>\n",
       "</table>\n",
       "<p>102 rows × 8 columns</p>\n",
       "</div>"
      ],
      "text/plain": [
       "    No.           Company                                   Sector  \\\n",
       "39   40      Infra.Market  B2B E-Commerce - Construction Materials   \n",
       "22   23    Druva Software                   SaaS - Data Management   \n",
       "23   24           Icertis               SaaS - Contract Management   \n",
       "41   42          FirstCry          E-Commerce - Baby Care Products   \n",
       "99  100           OneCard                   Fintech - Credit Cards   \n",
       "..  ...               ...                                      ...   \n",
       "98   99       Leadsquared                               SaaS - CRM   \n",
       "92   93  Amagi Media Labs               SaaS - Local Ads Targeting   \n",
       "90   91            Hasura                 SaaS - Programming Tools   \n",
       "46   47         ShareChat                             Social Media   \n",
       "85   86           Polygon              Web3 Infrastructure - Dapps   \n",
       "\n",
       "    Entry Valuation^^ ($B)  Valuation ($B)     Entry        Location  \\\n",
       "39                     1.0             2.5  Feb/2021           Thane   \n",
       "22                     1.0             2.0  Jun/2019  Pune/Sunnyvale   \n",
       "23                     1.0             5.0  Jul/2019   Pune/Bellevue   \n",
       "41                     1.7             1.7  Mar/2021            Pune   \n",
       "99                     1.3             1.3  Jul/2022            Pune   \n",
       "..                     ...             ...       ...             ...   \n",
       "98                     1.0             1.0  Jun/2022       Bangalore   \n",
       "92                     1.0             1.0  Mar/2022       Bangalore   \n",
       "90                     1.0             1.0  Feb/2022       Bangalore   \n",
       "46                     2.1             4.9  Apr/2021       Bangalore   \n",
       "85                    10.0            10.0  Feb/2022       Bangalore   \n",
       "\n",
       "                                     Select Investors  \n",
       "39  Accel India, Nexus Venture Partners, Tiger Glo...  \n",
       "22        WestBridge, Nexus Ventures, Sequoia Capital  \n",
       "23               Eight Roads, B Capital, PremjiInvest  \n",
       "41  Chiratae Ventures, Elevation Capital, Vertex, ...  \n",
       "99  QED Investors, Matrix Partners India, Sequoia ...  \n",
       "..                                                ...  \n",
       "98        Stakeboat Capital, Gaja Capital, WestBridge  \n",
       "92  Avataar Venture Partners, PremjiInvest, Accel ...  \n",
       "90  Lightspeed Ventures, Nexus Venture Partners, V...  \n",
       "46  India Quotient, Elevation Capital, Lightspeed ...  \n",
       "85  Coinbase Ventures, Sequoia Capital India, Tige...  \n",
       "\n",
       "[102 rows x 8 columns]"
      ]
     },
     "execution_count": 395,
     "metadata": {},
     "output_type": "execute_result"
    }
   ],
   "source": [
    "# select * from fd order by Location desc, sector asc\n",
    "df.sort_values([\"Location\",\"Sector\"], ascending = [False,True])"
   ]
  },
  {
   "cell_type": "code",
   "execution_count": 396,
   "id": "82033d02",
   "metadata": {
    "execution": {
     "iopub.execute_input": "2023-11-16T17:05:50.024839Z",
     "iopub.status.busy": "2023-11-16T17:05:50.024501Z",
     "iopub.status.idle": "2023-11-16T17:05:50.046490Z",
     "shell.execute_reply": "2023-11-16T17:05:50.045475Z"
    },
    "papermill": {
     "duration": 0.182844,
     "end_time": "2023-11-16T17:05:50.048772",
     "exception": false,
     "start_time": "2023-11-16T17:05:49.865928",
     "status": "completed"
    },
    "tags": []
   },
   "outputs": [
    {
     "data": {
      "text/html": [
       "<div>\n",
       "<style scoped>\n",
       "    .dataframe tbody tr th:only-of-type {\n",
       "        vertical-align: middle;\n",
       "    }\n",
       "\n",
       "    .dataframe tbody tr th {\n",
       "        vertical-align: top;\n",
       "    }\n",
       "\n",
       "    .dataframe thead th {\n",
       "        text-align: right;\n",
       "    }\n",
       "</style>\n",
       "<table border=\"1\" class=\"dataframe\">\n",
       "  <thead>\n",
       "    <tr style=\"text-align: right;\">\n",
       "      <th></th>\n",
       "      <th>No.</th>\n",
       "      <th>Company</th>\n",
       "      <th>Sector</th>\n",
       "      <th>Entry Valuation^^ ($B)</th>\n",
       "      <th>Valuation ($B)</th>\n",
       "      <th>Entry</th>\n",
       "      <th>Location</th>\n",
       "      <th>Select Investors</th>\n",
       "      <th>aa</th>\n",
       "    </tr>\n",
       "  </thead>\n",
       "  <tbody>\n",
       "    <tr>\n",
       "      <th>0</th>\n",
       "      <td>1</td>\n",
       "      <td>InMobi</td>\n",
       "      <td>Adtech - Mobile Ads</td>\n",
       "      <td>1.00</td>\n",
       "      <td>1.00</td>\n",
       "      <td>Sep/2011</td>\n",
       "      <td>Bangalore/Singapore</td>\n",
       "      <td>KPCB, Sherpalo Ventures, SoftBank</td>\n",
       "      <td>12.00</td>\n",
       "    </tr>\n",
       "    <tr>\n",
       "      <th>1</th>\n",
       "      <td>2</td>\n",
       "      <td>Flipkart^</td>\n",
       "      <td>E-Commerce</td>\n",
       "      <td>1.00</td>\n",
       "      <td>37.60</td>\n",
       "      <td>Feb/2012</td>\n",
       "      <td>Bangalore/Singapore</td>\n",
       "      <td>Accel, Tiger Global, Naspers, SoftBank, Tencent</td>\n",
       "      <td>85.20</td>\n",
       "    </tr>\n",
       "    <tr>\n",
       "      <th>2</th>\n",
       "      <td>3</td>\n",
       "      <td>Mu Sigma</td>\n",
       "      <td>SaaS - Analytics</td>\n",
       "      <td>1.00</td>\n",
       "      <td>1.50</td>\n",
       "      <td>Feb/2013</td>\n",
       "      <td>Bangalore/Chicago</td>\n",
       "      <td>Accel, Sequoia Capital, General Atlantic</td>\n",
       "      <td>13.00</td>\n",
       "    </tr>\n",
       "    <tr>\n",
       "      <th>3</th>\n",
       "      <td>4</td>\n",
       "      <td>Snapdeal*</td>\n",
       "      <td>E-Commerce</td>\n",
       "      <td>1.80</td>\n",
       "      <td>2.40</td>\n",
       "      <td>Oct/2014</td>\n",
       "      <td>Delhi</td>\n",
       "      <td>Kalaari Capital, Nexus Ventures, Bessemer, Sof...</td>\n",
       "      <td>14.80</td>\n",
       "    </tr>\n",
       "    <tr>\n",
       "      <th>4</th>\n",
       "      <td>5</td>\n",
       "      <td>PayTM^</td>\n",
       "      <td>Fintech - Payments &amp; Wallet</td>\n",
       "      <td>1.70</td>\n",
       "      <td>16.00</td>\n",
       "      <td>Feb/2015</td>\n",
       "      <td>Noida</td>\n",
       "      <td>Saama Capital, Elevation Capital, Alibaba, Ber...</td>\n",
       "      <td>42.00</td>\n",
       "    </tr>\n",
       "    <tr>\n",
       "      <th>...</th>\n",
       "      <td>...</td>\n",
       "      <td>...</td>\n",
       "      <td>...</td>\n",
       "      <td>...</td>\n",
       "      <td>...</td>\n",
       "      <td>...</td>\n",
       "      <td>...</td>\n",
       "      <td>...</td>\n",
       "      <td>...</td>\n",
       "    </tr>\n",
       "    <tr>\n",
       "      <th>97</th>\n",
       "      <td>98</td>\n",
       "      <td>Purplle</td>\n",
       "      <td>E-Commerce - Personal Care &amp; Cosmetics</td>\n",
       "      <td>1.10</td>\n",
       "      <td>1.10</td>\n",
       "      <td>Jun/2022</td>\n",
       "      <td>Mumbai</td>\n",
       "      <td>JSW Ventures, IvyCap Ventures, Blume Ventures,...</td>\n",
       "      <td>12.20</td>\n",
       "    </tr>\n",
       "    <tr>\n",
       "      <th>98</th>\n",
       "      <td>99</td>\n",
       "      <td>Leadsquared</td>\n",
       "      <td>SaaS - CRM</td>\n",
       "      <td>1.00</td>\n",
       "      <td>1.00</td>\n",
       "      <td>Jun/2022</td>\n",
       "      <td>Bangalore</td>\n",
       "      <td>Stakeboat Capital, Gaja Capital, WestBridge</td>\n",
       "      <td>12.00</td>\n",
       "    </tr>\n",
       "    <tr>\n",
       "      <th>99</th>\n",
       "      <td>100</td>\n",
       "      <td>OneCard</td>\n",
       "      <td>Fintech - Credit Cards</td>\n",
       "      <td>1.30</td>\n",
       "      <td>1.30</td>\n",
       "      <td>Jul/2022</td>\n",
       "      <td>Pune</td>\n",
       "      <td>QED Investors, Matrix Partners India, Sequoia ...</td>\n",
       "      <td>12.60</td>\n",
       "    </tr>\n",
       "    <tr>\n",
       "      <th>100</th>\n",
       "      <td>101</td>\n",
       "      <td>Shiprocket</td>\n",
       "      <td>Aggregator - Logistics Services</td>\n",
       "      <td>1.23</td>\n",
       "      <td>1.23</td>\n",
       "      <td>Aug/2022</td>\n",
       "      <td>Delhi</td>\n",
       "      <td>Lightrock India, Info Edge, Tribe Capital, Tem...</td>\n",
       "      <td>12.46</td>\n",
       "    </tr>\n",
       "    <tr>\n",
       "      <th>101</th>\n",
       "      <td>102</td>\n",
       "      <td>Molbio Diagnostics</td>\n",
       "      <td>Healthtech - Diagnostics</td>\n",
       "      <td>1.53</td>\n",
       "      <td>1.53</td>\n",
       "      <td>Sep/2022</td>\n",
       "      <td>Goa</td>\n",
       "      <td>Temasek, Motilal Oswal</td>\n",
       "      <td>13.06</td>\n",
       "    </tr>\n",
       "  </tbody>\n",
       "</table>\n",
       "<p>102 rows × 9 columns</p>\n",
       "</div>"
      ],
      "text/plain": [
       "     No.             Company                                  Sector  \\\n",
       "0      1              InMobi                     Adtech - Mobile Ads   \n",
       "1      2           Flipkart^                              E-Commerce   \n",
       "2      3            Mu Sigma                        SaaS - Analytics   \n",
       "3      4           Snapdeal*                              E-Commerce   \n",
       "4      5              PayTM^             Fintech - Payments & Wallet   \n",
       "..   ...                 ...                                     ...   \n",
       "97    98             Purplle  E-Commerce - Personal Care & Cosmetics   \n",
       "98    99         Leadsquared                              SaaS - CRM   \n",
       "99   100             OneCard                  Fintech - Credit Cards   \n",
       "100  101          Shiprocket         Aggregator - Logistics Services   \n",
       "101  102  Molbio Diagnostics                Healthtech - Diagnostics   \n",
       "\n",
       "     Entry Valuation^^ ($B)  Valuation ($B)     Entry             Location  \\\n",
       "0                      1.00            1.00  Sep/2011  Bangalore/Singapore   \n",
       "1                      1.00           37.60  Feb/2012  Bangalore/Singapore   \n",
       "2                      1.00            1.50  Feb/2013    Bangalore/Chicago   \n",
       "3                      1.80            2.40  Oct/2014                Delhi   \n",
       "4                      1.70           16.00  Feb/2015                Noida   \n",
       "..                      ...             ...       ...                  ...   \n",
       "97                     1.10            1.10  Jun/2022               Mumbai   \n",
       "98                     1.00            1.00  Jun/2022            Bangalore   \n",
       "99                     1.30            1.30  Jul/2022                 Pune   \n",
       "100                    1.23            1.23  Aug/2022                Delhi   \n",
       "101                    1.53            1.53  Sep/2022                  Goa   \n",
       "\n",
       "                                      Select Investors     aa  \n",
       "0                    KPCB, Sherpalo Ventures, SoftBank  12.00  \n",
       "1      Accel, Tiger Global, Naspers, SoftBank, Tencent  85.20  \n",
       "2             Accel, Sequoia Capital, General Atlantic  13.00  \n",
       "3    Kalaari Capital, Nexus Ventures, Bessemer, Sof...  14.80  \n",
       "4    Saama Capital, Elevation Capital, Alibaba, Ber...  42.00  \n",
       "..                                                 ...    ...  \n",
       "97   JSW Ventures, IvyCap Ventures, Blume Ventures,...  12.20  \n",
       "98         Stakeboat Capital, Gaja Capital, WestBridge  12.00  \n",
       "99   QED Investors, Matrix Partners India, Sequoia ...  12.60  \n",
       "100  Lightrock India, Info Edge, Tribe Capital, Tem...  12.46  \n",
       "101                             Temasek, Motilal Oswal  13.06  \n",
       "\n",
       "[102 rows x 9 columns]"
      ]
     },
     "execution_count": 396,
     "metadata": {},
     "output_type": "execute_result"
    }
   ],
   "source": [
    "# select val + 2  as joyce from af\n",
    "df[\"aa\"] = df[\"Valuation ($B)\"].apply(lambda x : x * 2 + 10)\n",
    "df"
   ]
  },
  {
   "cell_type": "code",
   "execution_count": 397,
   "id": "f5fc5e3a",
   "metadata": {
    "execution": {
     "iopub.execute_input": "2023-11-16T17:05:50.402240Z",
     "iopub.status.busy": "2023-11-16T17:05:50.401534Z",
     "iopub.status.idle": "2023-11-16T17:05:50.407677Z",
     "shell.execute_reply": "2023-11-16T17:05:50.406831Z"
    },
    "papermill": {
     "duration": 0.204309,
     "end_time": "2023-11-16T17:05:50.409544",
     "exception": false,
     "start_time": "2023-11-16T17:05:50.205235",
     "status": "completed"
    },
    "tags": []
   },
   "outputs": [
    {
     "data": {
      "text/plain": [
       "Index(['No.', 'Company', 'Sector', 'Entry Valuation^^ ($B)', 'Valuation ($B)',\n",
       "       'Entry', 'Location', 'Select Investors', 'aa'],\n",
       "      dtype='object')"
      ]
     },
     "execution_count": 397,
     "metadata": {},
     "output_type": "execute_result"
    }
   ],
   "source": [
    "df.columns"
   ]
  },
  {
   "cell_type": "code",
   "execution_count": 398,
   "id": "a7b5225e",
   "metadata": {
    "execution": {
     "iopub.execute_input": "2023-11-16T17:05:50.725023Z",
     "iopub.status.busy": "2023-11-16T17:05:50.724669Z",
     "iopub.status.idle": "2023-11-16T17:05:50.744791Z",
     "shell.execute_reply": "2023-11-16T17:05:50.743848Z"
    },
    "papermill": {
     "duration": 0.178841,
     "end_time": "2023-11-16T17:05:50.746755",
     "exception": false,
     "start_time": "2023-11-16T17:05:50.567914",
     "status": "completed"
    },
    "tags": []
   },
   "outputs": [
    {
     "data": {
      "text/html": [
       "<div>\n",
       "<style scoped>\n",
       "    .dataframe tbody tr th:only-of-type {\n",
       "        vertical-align: middle;\n",
       "    }\n",
       "\n",
       "    .dataframe tbody tr th {\n",
       "        vertical-align: top;\n",
       "    }\n",
       "\n",
       "    .dataframe thead th {\n",
       "        text-align: right;\n",
       "    }\n",
       "</style>\n",
       "<table border=\"1\" class=\"dataframe\">\n",
       "  <thead>\n",
       "    <tr style=\"text-align: right;\">\n",
       "      <th></th>\n",
       "      <th>No.</th>\n",
       "      <th>Company</th>\n",
       "      <th>Sector</th>\n",
       "      <th>Entry Valuation^^ ($B)</th>\n",
       "      <th>Valuation ($B)</th>\n",
       "      <th>Entry</th>\n",
       "      <th>Location</th>\n",
       "      <th>Select Investors</th>\n",
       "      <th>aa</th>\n",
       "    </tr>\n",
       "  </thead>\n",
       "  <tbody>\n",
       "    <tr>\n",
       "      <th>0</th>\n",
       "      <td>1</td>\n",
       "      <td>InMobi</td>\n",
       "      <td>Adtech - Mobile Ads</td>\n",
       "      <td>1.00</td>\n",
       "      <td>1.00</td>\n",
       "      <td>Sep/2011</td>\n",
       "      <td>Bangalore/Singapore</td>\n",
       "      <td>KPCB, Sherpalo Ventures, SoftBank</td>\n",
       "      <td>12.00</td>\n",
       "    </tr>\n",
       "    <tr>\n",
       "      <th>1</th>\n",
       "      <td>2</td>\n",
       "      <td>Flipkart^</td>\n",
       "      <td>E-Commerce</td>\n",
       "      <td>1.00</td>\n",
       "      <td>37.60</td>\n",
       "      <td>Feb/2012</td>\n",
       "      <td>Bangalore/Singapore</td>\n",
       "      <td>Accel, Tiger Global, Naspers, SoftBank, Tencent</td>\n",
       "      <td>85.20</td>\n",
       "    </tr>\n",
       "    <tr>\n",
       "      <th>2</th>\n",
       "      <td>3</td>\n",
       "      <td>Mu Sigma</td>\n",
       "      <td>SaaS - Analytics</td>\n",
       "      <td>1.00</td>\n",
       "      <td>1.50</td>\n",
       "      <td>Feb/2013</td>\n",
       "      <td>Bangalore/Chicago</td>\n",
       "      <td>Accel, Sequoia Capital, General Atlantic</td>\n",
       "      <td>13.00</td>\n",
       "    </tr>\n",
       "    <tr>\n",
       "      <th>3</th>\n",
       "      <td>4</td>\n",
       "      <td>Snapdeal*</td>\n",
       "      <td>E-Commerce</td>\n",
       "      <td>1.80</td>\n",
       "      <td>2.40</td>\n",
       "      <td>Oct/2014</td>\n",
       "      <td>Delhi</td>\n",
       "      <td>Kalaari Capital, Nexus Ventures, Bessemer, Sof...</td>\n",
       "      <td>14.80</td>\n",
       "    </tr>\n",
       "    <tr>\n",
       "      <th>4</th>\n",
       "      <td>5</td>\n",
       "      <td>PayTM^</td>\n",
       "      <td>Fintech - Payments &amp; Wallet</td>\n",
       "      <td>1.70</td>\n",
       "      <td>16.00</td>\n",
       "      <td>Feb/2015</td>\n",
       "      <td>Noida</td>\n",
       "      <td>Saama Capital, Elevation Capital, Alibaba, Ber...</td>\n",
       "      <td>42.00</td>\n",
       "    </tr>\n",
       "    <tr>\n",
       "      <th>...</th>\n",
       "      <td>...</td>\n",
       "      <td>...</td>\n",
       "      <td>...</td>\n",
       "      <td>...</td>\n",
       "      <td>...</td>\n",
       "      <td>...</td>\n",
       "      <td>...</td>\n",
       "      <td>...</td>\n",
       "      <td>...</td>\n",
       "    </tr>\n",
       "    <tr>\n",
       "      <th>97</th>\n",
       "      <td>98</td>\n",
       "      <td>Purplle</td>\n",
       "      <td>E-Commerce - Personal Care &amp; Cosmetics</td>\n",
       "      <td>1.10</td>\n",
       "      <td>1.10</td>\n",
       "      <td>Jun/2022</td>\n",
       "      <td>Mumbai</td>\n",
       "      <td>JSW Ventures, IvyCap Ventures, Blume Ventures,...</td>\n",
       "      <td>12.20</td>\n",
       "    </tr>\n",
       "    <tr>\n",
       "      <th>98</th>\n",
       "      <td>99</td>\n",
       "      <td>Leadsquared</td>\n",
       "      <td>SaaS - CRM</td>\n",
       "      <td>1.00</td>\n",
       "      <td>1.00</td>\n",
       "      <td>Jun/2022</td>\n",
       "      <td>Bangalore</td>\n",
       "      <td>Stakeboat Capital, Gaja Capital, WestBridge</td>\n",
       "      <td>12.00</td>\n",
       "    </tr>\n",
       "    <tr>\n",
       "      <th>99</th>\n",
       "      <td>100</td>\n",
       "      <td>OneCard</td>\n",
       "      <td>Fintech - Credit Cards</td>\n",
       "      <td>1.30</td>\n",
       "      <td>1.30</td>\n",
       "      <td>Jul/2022</td>\n",
       "      <td>Pune</td>\n",
       "      <td>QED Investors, Matrix Partners India, Sequoia ...</td>\n",
       "      <td>12.60</td>\n",
       "    </tr>\n",
       "    <tr>\n",
       "      <th>100</th>\n",
       "      <td>101</td>\n",
       "      <td>Shiprocket</td>\n",
       "      <td>Aggregator - Logistics Services</td>\n",
       "      <td>1.23</td>\n",
       "      <td>1.23</td>\n",
       "      <td>Aug/2022</td>\n",
       "      <td>Delhi</td>\n",
       "      <td>Lightrock India, Info Edge, Tribe Capital, Tem...</td>\n",
       "      <td>12.46</td>\n",
       "    </tr>\n",
       "    <tr>\n",
       "      <th>101</th>\n",
       "      <td>102</td>\n",
       "      <td>Molbio Diagnostics</td>\n",
       "      <td>Healthtech - Diagnostics</td>\n",
       "      <td>1.53</td>\n",
       "      <td>1.53</td>\n",
       "      <td>Sep/2022</td>\n",
       "      <td>Goa</td>\n",
       "      <td>Temasek, Motilal Oswal</td>\n",
       "      <td>13.06</td>\n",
       "    </tr>\n",
       "  </tbody>\n",
       "</table>\n",
       "<p>102 rows × 9 columns</p>\n",
       "</div>"
      ],
      "text/plain": [
       "     No.             Company                                  Sector  \\\n",
       "0      1              InMobi                     Adtech - Mobile Ads   \n",
       "1      2           Flipkart^                              E-Commerce   \n",
       "2      3            Mu Sigma                        SaaS - Analytics   \n",
       "3      4           Snapdeal*                              E-Commerce   \n",
       "4      5              PayTM^             Fintech - Payments & Wallet   \n",
       "..   ...                 ...                                     ...   \n",
       "97    98             Purplle  E-Commerce - Personal Care & Cosmetics   \n",
       "98    99         Leadsquared                              SaaS - CRM   \n",
       "99   100             OneCard                  Fintech - Credit Cards   \n",
       "100  101          Shiprocket         Aggregator - Logistics Services   \n",
       "101  102  Molbio Diagnostics                Healthtech - Diagnostics   \n",
       "\n",
       "     Entry Valuation^^ ($B)  Valuation ($B)     Entry             Location  \\\n",
       "0                      1.00            1.00  Sep/2011  Bangalore/Singapore   \n",
       "1                      1.00           37.60  Feb/2012  Bangalore/Singapore   \n",
       "2                      1.00            1.50  Feb/2013    Bangalore/Chicago   \n",
       "3                      1.80            2.40  Oct/2014                Delhi   \n",
       "4                      1.70           16.00  Feb/2015                Noida   \n",
       "..                      ...             ...       ...                  ...   \n",
       "97                     1.10            1.10  Jun/2022               Mumbai   \n",
       "98                     1.00            1.00  Jun/2022            Bangalore   \n",
       "99                     1.30            1.30  Jul/2022                 Pune   \n",
       "100                    1.23            1.23  Aug/2022                Delhi   \n",
       "101                    1.53            1.53  Sep/2022                  Goa   \n",
       "\n",
       "                                      Select Investors     aa  \n",
       "0                    KPCB, Sherpalo Ventures, SoftBank  12.00  \n",
       "1      Accel, Tiger Global, Naspers, SoftBank, Tencent  85.20  \n",
       "2             Accel, Sequoia Capital, General Atlantic  13.00  \n",
       "3    Kalaari Capital, Nexus Ventures, Bessemer, Sof...  14.80  \n",
       "4    Saama Capital, Elevation Capital, Alibaba, Ber...  42.00  \n",
       "..                                                 ...    ...  \n",
       "97   JSW Ventures, IvyCap Ventures, Blume Ventures,...  12.20  \n",
       "98         Stakeboat Capital, Gaja Capital, WestBridge  12.00  \n",
       "99   QED Investors, Matrix Partners India, Sequoia ...  12.60  \n",
       "100  Lightrock India, Info Edge, Tribe Capital, Tem...  12.46  \n",
       "101                             Temasek, Motilal Oswal  13.06  \n",
       "\n",
       "[102 rows x 9 columns]"
      ]
     },
     "execution_count": 398,
     "metadata": {},
     "output_type": "execute_result"
    }
   ],
   "source": [
    "df"
   ]
  },
  {
   "cell_type": "code",
   "execution_count": 399,
   "id": "2a671b38",
   "metadata": {
    "execution": {
     "iopub.execute_input": "2023-11-16T17:05:51.071960Z",
     "iopub.status.busy": "2023-11-16T17:05:51.071615Z",
     "iopub.status.idle": "2023-11-16T17:05:51.077118Z",
     "shell.execute_reply": "2023-11-16T17:05:51.076279Z"
    },
    "papermill": {
     "duration": 0.164861,
     "end_time": "2023-11-16T17:05:51.079157",
     "exception": false,
     "start_time": "2023-11-16T17:05:50.914296",
     "status": "completed"
    },
    "tags": []
   },
   "outputs": [],
   "source": [
    "df.drop(\"aa\",axis = 1,inplace = True)"
   ]
  },
  {
   "cell_type": "code",
   "execution_count": 400,
   "id": "afec70c1",
   "metadata": {
    "execution": {
     "iopub.execute_input": "2023-11-16T17:05:51.392104Z",
     "iopub.status.busy": "2023-11-16T17:05:51.391748Z",
     "iopub.status.idle": "2023-11-16T17:05:51.410473Z",
     "shell.execute_reply": "2023-11-16T17:05:51.409608Z"
    },
    "papermill": {
     "duration": 0.179002,
     "end_time": "2023-11-16T17:05:51.412370",
     "exception": false,
     "start_time": "2023-11-16T17:05:51.233368",
     "status": "completed"
    },
    "tags": []
   },
   "outputs": [
    {
     "data": {
      "text/html": [
       "<div>\n",
       "<style scoped>\n",
       "    .dataframe tbody tr th:only-of-type {\n",
       "        vertical-align: middle;\n",
       "    }\n",
       "\n",
       "    .dataframe tbody tr th {\n",
       "        vertical-align: top;\n",
       "    }\n",
       "\n",
       "    .dataframe thead th {\n",
       "        text-align: right;\n",
       "    }\n",
       "</style>\n",
       "<table border=\"1\" class=\"dataframe\">\n",
       "  <thead>\n",
       "    <tr style=\"text-align: right;\">\n",
       "      <th></th>\n",
       "      <th>No.</th>\n",
       "      <th>Company</th>\n",
       "      <th>Sector</th>\n",
       "      <th>Entry Valuation^^ ($B)</th>\n",
       "      <th>Valuation ($B)</th>\n",
       "      <th>Entry</th>\n",
       "      <th>Location</th>\n",
       "      <th>Select Investors</th>\n",
       "    </tr>\n",
       "  </thead>\n",
       "  <tbody>\n",
       "    <tr>\n",
       "      <th>0</th>\n",
       "      <td>1</td>\n",
       "      <td>InMobi</td>\n",
       "      <td>Adtech - Mobile Ads</td>\n",
       "      <td>1.00</td>\n",
       "      <td>1.00</td>\n",
       "      <td>Sep/2011</td>\n",
       "      <td>Bangalore/Singapore</td>\n",
       "      <td>KPCB, Sherpalo Ventures, SoftBank</td>\n",
       "    </tr>\n",
       "    <tr>\n",
       "      <th>1</th>\n",
       "      <td>2</td>\n",
       "      <td>Flipkart^</td>\n",
       "      <td>E-Commerce</td>\n",
       "      <td>1.00</td>\n",
       "      <td>37.60</td>\n",
       "      <td>Feb/2012</td>\n",
       "      <td>Bangalore/Singapore</td>\n",
       "      <td>Accel, Tiger Global, Naspers, SoftBank, Tencent</td>\n",
       "    </tr>\n",
       "    <tr>\n",
       "      <th>2</th>\n",
       "      <td>3</td>\n",
       "      <td>Mu Sigma</td>\n",
       "      <td>SaaS - Analytics</td>\n",
       "      <td>1.00</td>\n",
       "      <td>1.50</td>\n",
       "      <td>Feb/2013</td>\n",
       "      <td>Bangalore/Chicago</td>\n",
       "      <td>Accel, Sequoia Capital, General Atlantic</td>\n",
       "    </tr>\n",
       "    <tr>\n",
       "      <th>3</th>\n",
       "      <td>4</td>\n",
       "      <td>Snapdeal*</td>\n",
       "      <td>E-Commerce</td>\n",
       "      <td>1.80</td>\n",
       "      <td>2.40</td>\n",
       "      <td>Oct/2014</td>\n",
       "      <td>Delhi</td>\n",
       "      <td>Kalaari Capital, Nexus Ventures, Bessemer, Sof...</td>\n",
       "    </tr>\n",
       "    <tr>\n",
       "      <th>4</th>\n",
       "      <td>5</td>\n",
       "      <td>PayTM^</td>\n",
       "      <td>Fintech - Payments &amp; Wallet</td>\n",
       "      <td>1.70</td>\n",
       "      <td>16.00</td>\n",
       "      <td>Feb/2015</td>\n",
       "      <td>Noida</td>\n",
       "      <td>Saama Capital, Elevation Capital, Alibaba, Ber...</td>\n",
       "    </tr>\n",
       "    <tr>\n",
       "      <th>...</th>\n",
       "      <td>...</td>\n",
       "      <td>...</td>\n",
       "      <td>...</td>\n",
       "      <td>...</td>\n",
       "      <td>...</td>\n",
       "      <td>...</td>\n",
       "      <td>...</td>\n",
       "      <td>...</td>\n",
       "    </tr>\n",
       "    <tr>\n",
       "      <th>97</th>\n",
       "      <td>98</td>\n",
       "      <td>Purplle</td>\n",
       "      <td>E-Commerce - Personal Care &amp; Cosmetics</td>\n",
       "      <td>1.10</td>\n",
       "      <td>1.10</td>\n",
       "      <td>Jun/2022</td>\n",
       "      <td>Mumbai</td>\n",
       "      <td>JSW Ventures, IvyCap Ventures, Blume Ventures,...</td>\n",
       "    </tr>\n",
       "    <tr>\n",
       "      <th>98</th>\n",
       "      <td>99</td>\n",
       "      <td>Leadsquared</td>\n",
       "      <td>SaaS - CRM</td>\n",
       "      <td>1.00</td>\n",
       "      <td>1.00</td>\n",
       "      <td>Jun/2022</td>\n",
       "      <td>Bangalore</td>\n",
       "      <td>Stakeboat Capital, Gaja Capital, WestBridge</td>\n",
       "    </tr>\n",
       "    <tr>\n",
       "      <th>99</th>\n",
       "      <td>100</td>\n",
       "      <td>OneCard</td>\n",
       "      <td>Fintech - Credit Cards</td>\n",
       "      <td>1.30</td>\n",
       "      <td>1.30</td>\n",
       "      <td>Jul/2022</td>\n",
       "      <td>Pune</td>\n",
       "      <td>QED Investors, Matrix Partners India, Sequoia ...</td>\n",
       "    </tr>\n",
       "    <tr>\n",
       "      <th>100</th>\n",
       "      <td>101</td>\n",
       "      <td>Shiprocket</td>\n",
       "      <td>Aggregator - Logistics Services</td>\n",
       "      <td>1.23</td>\n",
       "      <td>1.23</td>\n",
       "      <td>Aug/2022</td>\n",
       "      <td>Delhi</td>\n",
       "      <td>Lightrock India, Info Edge, Tribe Capital, Tem...</td>\n",
       "    </tr>\n",
       "    <tr>\n",
       "      <th>101</th>\n",
       "      <td>102</td>\n",
       "      <td>Molbio Diagnostics</td>\n",
       "      <td>Healthtech - Diagnostics</td>\n",
       "      <td>1.53</td>\n",
       "      <td>1.53</td>\n",
       "      <td>Sep/2022</td>\n",
       "      <td>Goa</td>\n",
       "      <td>Temasek, Motilal Oswal</td>\n",
       "    </tr>\n",
       "  </tbody>\n",
       "</table>\n",
       "<p>102 rows × 8 columns</p>\n",
       "</div>"
      ],
      "text/plain": [
       "     No.             Company                                  Sector  \\\n",
       "0      1              InMobi                     Adtech - Mobile Ads   \n",
       "1      2           Flipkart^                              E-Commerce   \n",
       "2      3            Mu Sigma                        SaaS - Analytics   \n",
       "3      4           Snapdeal*                              E-Commerce   \n",
       "4      5              PayTM^             Fintech - Payments & Wallet   \n",
       "..   ...                 ...                                     ...   \n",
       "97    98             Purplle  E-Commerce - Personal Care & Cosmetics   \n",
       "98    99         Leadsquared                              SaaS - CRM   \n",
       "99   100             OneCard                  Fintech - Credit Cards   \n",
       "100  101          Shiprocket         Aggregator - Logistics Services   \n",
       "101  102  Molbio Diagnostics                Healthtech - Diagnostics   \n",
       "\n",
       "     Entry Valuation^^ ($B)  Valuation ($B)     Entry             Location  \\\n",
       "0                      1.00            1.00  Sep/2011  Bangalore/Singapore   \n",
       "1                      1.00           37.60  Feb/2012  Bangalore/Singapore   \n",
       "2                      1.00            1.50  Feb/2013    Bangalore/Chicago   \n",
       "3                      1.80            2.40  Oct/2014                Delhi   \n",
       "4                      1.70           16.00  Feb/2015                Noida   \n",
       "..                      ...             ...       ...                  ...   \n",
       "97                     1.10            1.10  Jun/2022               Mumbai   \n",
       "98                     1.00            1.00  Jun/2022            Bangalore   \n",
       "99                     1.30            1.30  Jul/2022                 Pune   \n",
       "100                    1.23            1.23  Aug/2022                Delhi   \n",
       "101                    1.53            1.53  Sep/2022                  Goa   \n",
       "\n",
       "                                      Select Investors  \n",
       "0                    KPCB, Sherpalo Ventures, SoftBank  \n",
       "1      Accel, Tiger Global, Naspers, SoftBank, Tencent  \n",
       "2             Accel, Sequoia Capital, General Atlantic  \n",
       "3    Kalaari Capital, Nexus Ventures, Bessemer, Sof...  \n",
       "4    Saama Capital, Elevation Capital, Alibaba, Ber...  \n",
       "..                                                 ...  \n",
       "97   JSW Ventures, IvyCap Ventures, Blume Ventures,...  \n",
       "98         Stakeboat Capital, Gaja Capital, WestBridge  \n",
       "99   QED Investors, Matrix Partners India, Sequoia ...  \n",
       "100  Lightrock India, Info Edge, Tribe Capital, Tem...  \n",
       "101                             Temasek, Motilal Oswal  \n",
       "\n",
       "[102 rows x 8 columns]"
      ]
     },
     "execution_count": 400,
     "metadata": {},
     "output_type": "execute_result"
    }
   ],
   "source": [
    "df"
   ]
  },
  {
   "cell_type": "code",
   "execution_count": 401,
   "id": "52d0b9b2",
   "metadata": {
    "execution": {
     "iopub.execute_input": "2023-11-16T17:05:51.729178Z",
     "iopub.status.busy": "2023-11-16T17:05:51.728831Z",
     "iopub.status.idle": "2023-11-16T17:05:51.735993Z",
     "shell.execute_reply": "2023-11-16T17:05:51.735144Z"
    },
    "papermill": {
     "duration": 0.165955,
     "end_time": "2023-11-16T17:05:51.737888",
     "exception": false,
     "start_time": "2023-11-16T17:05:51.571933",
     "status": "completed"
    },
    "tags": []
   },
   "outputs": [
    {
     "data": {
      "text/plain": [
       "0"
      ]
     },
     "execution_count": 401,
     "metadata": {},
     "output_type": "execute_result"
    }
   ],
   "source": [
    "# select count(*) from af where entry is null\n",
    "\n",
    "df.isnull().sum().sum()"
   ]
  },
  {
   "cell_type": "code",
   "execution_count": 402,
   "id": "d491153b",
   "metadata": {
    "execution": {
     "iopub.execute_input": "2023-11-16T17:05:52.062722Z",
     "iopub.status.busy": "2023-11-16T17:05:52.061991Z",
     "iopub.status.idle": "2023-11-16T17:05:52.066670Z",
     "shell.execute_reply": "2023-11-16T17:05:52.065886Z"
    },
    "papermill": {
     "duration": 0.171665,
     "end_time": "2023-11-16T17:05:52.069112",
     "exception": false,
     "start_time": "2023-11-16T17:05:51.897447",
     "status": "completed"
    },
    "tags": []
   },
   "outputs": [
    {
     "name": "stdout",
     "output_type": "stream",
     "text": [
      "1\n"
     ]
    }
   ],
   "source": [
    "print(int(True))"
   ]
  },
  {
   "cell_type": "code",
   "execution_count": 403,
   "id": "1c70369b",
   "metadata": {
    "execution": {
     "iopub.execute_input": "2023-11-16T17:05:52.401372Z",
     "iopub.status.busy": "2023-11-16T17:05:52.400671Z",
     "iopub.status.idle": "2023-11-16T17:05:52.409358Z",
     "shell.execute_reply": "2023-11-16T17:05:52.408482Z"
    },
    "papermill": {
     "duration": 0.168531,
     "end_time": "2023-11-16T17:05:52.411509",
     "exception": false,
     "start_time": "2023-11-16T17:05:52.242978",
     "status": "completed"
    },
    "tags": []
   },
   "outputs": [
    {
     "data": {
      "text/html": [
       "<div>\n",
       "<style scoped>\n",
       "    .dataframe tbody tr th:only-of-type {\n",
       "        vertical-align: middle;\n",
       "    }\n",
       "\n",
       "    .dataframe tbody tr th {\n",
       "        vertical-align: top;\n",
       "    }\n",
       "\n",
       "    .dataframe thead th {\n",
       "        text-align: right;\n",
       "    }\n",
       "</style>\n",
       "<table border=\"1\" class=\"dataframe\">\n",
       "  <thead>\n",
       "    <tr style=\"text-align: right;\">\n",
       "      <th></th>\n",
       "      <th>sno</th>\n",
       "      <th>names</th>\n",
       "      <th>marks</th>\n",
       "    </tr>\n",
       "  </thead>\n",
       "  <tbody>\n",
       "    <tr>\n",
       "      <th>0</th>\n",
       "      <td>1</td>\n",
       "      <td>mlv</td>\n",
       "      <td>10</td>\n",
       "    </tr>\n",
       "    <tr>\n",
       "      <th>1</th>\n",
       "      <td>2</td>\n",
       "      <td>abhi</td>\n",
       "      <td>20</td>\n",
       "    </tr>\n",
       "    <tr>\n",
       "      <th>2</th>\n",
       "      <td>3</td>\n",
       "      <td>joy</td>\n",
       "      <td>30</td>\n",
       "    </tr>\n",
       "  </tbody>\n",
       "</table>\n",
       "</div>"
      ],
      "text/plain": [
       "   sno names  marks\n",
       "0    1   mlv     10\n",
       "1    2  abhi     20\n",
       "2    3   joy     30"
      ]
     },
     "execution_count": 403,
     "metadata": {},
     "output_type": "execute_result"
    }
   ],
   "source": [
    "af"
   ]
  },
  {
   "cell_type": "code",
   "execution_count": 404,
   "id": "5368fa0d",
   "metadata": {
    "execution": {
     "iopub.execute_input": "2023-11-16T17:05:52.737184Z",
     "iopub.status.busy": "2023-11-16T17:05:52.736464Z",
     "iopub.status.idle": "2023-11-16T17:05:52.747739Z",
     "shell.execute_reply": "2023-11-16T17:05:52.746787Z"
    },
    "papermill": {
     "duration": 0.176965,
     "end_time": "2023-11-16T17:05:52.750016",
     "exception": false,
     "start_time": "2023-11-16T17:05:52.573051",
     "status": "completed"
    },
    "tags": []
   },
   "outputs": [
    {
     "data": {
      "text/html": [
       "<div>\n",
       "<style scoped>\n",
       "    .dataframe tbody tr th:only-of-type {\n",
       "        vertical-align: middle;\n",
       "    }\n",
       "\n",
       "    .dataframe tbody tr th {\n",
       "        vertical-align: top;\n",
       "    }\n",
       "\n",
       "    .dataframe thead th {\n",
       "        text-align: right;\n",
       "    }\n",
       "</style>\n",
       "<table border=\"1\" class=\"dataframe\">\n",
       "  <thead>\n",
       "    <tr style=\"text-align: right;\">\n",
       "      <th></th>\n",
       "      <th>sno</th>\n",
       "      <th>names</th>\n",
       "      <th>marks</th>\n",
       "    </tr>\n",
       "  </thead>\n",
       "  <tbody>\n",
       "    <tr>\n",
       "      <th>0</th>\n",
       "      <td>1</td>\n",
       "      <td>abhi</td>\n",
       "      <td>10.0</td>\n",
       "    </tr>\n",
       "    <tr>\n",
       "      <th>1</th>\n",
       "      <td>1</td>\n",
       "      <td>abhi</td>\n",
       "      <td>10.0</td>\n",
       "    </tr>\n",
       "    <tr>\n",
       "      <th>2</th>\n",
       "      <td>3</td>\n",
       "      <td>joy</td>\n",
       "      <td>NaN</td>\n",
       "    </tr>\n",
       "  </tbody>\n",
       "</table>\n",
       "</div>"
      ],
      "text/plain": [
       "   sno names  marks\n",
       "0    1  abhi   10.0\n",
       "1    1  abhi   10.0\n",
       "2    3   joy    NaN"
      ]
     },
     "execution_count": 404,
     "metadata": {},
     "output_type": "execute_result"
    }
   ],
   "source": [
    "af = pd.DataFrame({ \"sno\"  :    [1,1,3],\n",
    "                   \"names\"  : [\"abhi\",\"abhi\",\"joy\"],\n",
    "                   \"marks\" : [10,10,None]\n",
    "    \n",
    "                \n",
    "                   })\n",
    "\n",
    "\n",
    "af"
   ]
  },
  {
   "cell_type": "code",
   "execution_count": 405,
   "id": "fde2fbdc",
   "metadata": {
    "execution": {
     "iopub.execute_input": "2023-11-16T17:05:53.123615Z",
     "iopub.status.busy": "2023-11-16T17:05:53.122878Z",
     "iopub.status.idle": "2023-11-16T17:05:53.130342Z",
     "shell.execute_reply": "2023-11-16T17:05:53.129411Z"
    },
    "papermill": {
     "duration": 0.218276,
     "end_time": "2023-11-16T17:05:53.132612",
     "exception": false,
     "start_time": "2023-11-16T17:05:52.914336",
     "status": "completed"
    },
    "tags": []
   },
   "outputs": [
    {
     "data": {
      "text/plain": [
       "1"
      ]
     },
     "execution_count": 405,
     "metadata": {},
     "output_type": "execute_result"
    }
   ],
   "source": [
    "af.isnull().sum().sum()"
   ]
  },
  {
   "cell_type": "code",
   "execution_count": 406,
   "id": "0b176b91",
   "metadata": {
    "execution": {
     "iopub.execute_input": "2023-11-16T17:05:53.460359Z",
     "iopub.status.busy": "2023-11-16T17:05:53.459679Z",
     "iopub.status.idle": "2023-11-16T17:05:53.467031Z",
     "shell.execute_reply": "2023-11-16T17:05:53.466242Z"
    },
    "papermill": {
     "duration": 0.164654,
     "end_time": "2023-11-16T17:05:53.469027",
     "exception": false,
     "start_time": "2023-11-16T17:05:53.304373",
     "status": "completed"
    },
    "tags": []
   },
   "outputs": [
    {
     "data": {
      "text/plain": [
       "names\n",
       "abhi    2\n",
       "joy     1\n",
       "Name: count, dtype: int64"
      ]
     },
     "execution_count": 406,
     "metadata": {},
     "output_type": "execute_result"
    }
   ],
   "source": [
    "af[\"names\"].value_counts()"
   ]
  },
  {
   "cell_type": "code",
   "execution_count": 407,
   "id": "e0d63514",
   "metadata": {
    "execution": {
     "iopub.execute_input": "2023-11-16T17:05:53.781584Z",
     "iopub.status.busy": "2023-11-16T17:05:53.781211Z",
     "iopub.status.idle": "2023-11-16T17:05:53.787597Z",
     "shell.execute_reply": "2023-11-16T17:05:53.786775Z"
    },
    "papermill": {
     "duration": 0.163348,
     "end_time": "2023-11-16T17:05:53.789383",
     "exception": false,
     "start_time": "2023-11-16T17:05:53.626035",
     "status": "completed"
    },
    "tags": []
   },
   "outputs": [
    {
     "data": {
      "text/plain": [
       "array(['abhi', 'joy'], dtype=object)"
      ]
     },
     "execution_count": 407,
     "metadata": {},
     "output_type": "execute_result"
    }
   ],
   "source": [
    "af[\"names\"].unique()"
   ]
  },
  {
   "cell_type": "code",
   "execution_count": 408,
   "id": "1c93162c",
   "metadata": {
    "execution": {
     "iopub.execute_input": "2023-11-16T17:05:54.105041Z",
     "iopub.status.busy": "2023-11-16T17:05:54.104691Z",
     "iopub.status.idle": "2023-11-16T17:05:54.111009Z",
     "shell.execute_reply": "2023-11-16T17:05:54.110134Z"
    },
    "papermill": {
     "duration": 0.169236,
     "end_time": "2023-11-16T17:05:54.112997",
     "exception": false,
     "start_time": "2023-11-16T17:05:53.943761",
     "status": "completed"
    },
    "tags": []
   },
   "outputs": [
    {
     "data": {
      "text/plain": [
       "2"
      ]
     },
     "execution_count": 408,
     "metadata": {},
     "output_type": "execute_result"
    }
   ],
   "source": [
    "af[\"names\"].nunique()"
   ]
  },
  {
   "cell_type": "code",
   "execution_count": 409,
   "id": "cb5ebc40",
   "metadata": {
    "execution": {
     "iopub.execute_input": "2023-11-16T17:05:54.425463Z",
     "iopub.status.busy": "2023-11-16T17:05:54.424647Z",
     "iopub.status.idle": "2023-11-16T17:05:54.434632Z",
     "shell.execute_reply": "2023-11-16T17:05:54.433753Z"
    },
    "papermill": {
     "duration": 0.169293,
     "end_time": "2023-11-16T17:05:54.436558",
     "exception": false,
     "start_time": "2023-11-16T17:05:54.267265",
     "status": "completed"
    },
    "tags": []
   },
   "outputs": [
    {
     "data": {
      "text/html": [
       "<div>\n",
       "<style scoped>\n",
       "    .dataframe tbody tr th:only-of-type {\n",
       "        vertical-align: middle;\n",
       "    }\n",
       "\n",
       "    .dataframe tbody tr th {\n",
       "        vertical-align: top;\n",
       "    }\n",
       "\n",
       "    .dataframe thead th {\n",
       "        text-align: right;\n",
       "    }\n",
       "</style>\n",
       "<table border=\"1\" class=\"dataframe\">\n",
       "  <thead>\n",
       "    <tr style=\"text-align: right;\">\n",
       "      <th></th>\n",
       "      <th>sno</th>\n",
       "      <th>names</th>\n",
       "      <th>marks</th>\n",
       "    </tr>\n",
       "  </thead>\n",
       "  <tbody>\n",
       "    <tr>\n",
       "      <th>0</th>\n",
       "      <td>1</td>\n",
       "      <td>abhi</td>\n",
       "      <td>10.0</td>\n",
       "    </tr>\n",
       "    <tr>\n",
       "      <th>1</th>\n",
       "      <td>1</td>\n",
       "      <td>abhi</td>\n",
       "      <td>10.0</td>\n",
       "    </tr>\n",
       "    <tr>\n",
       "      <th>2</th>\n",
       "      <td>3</td>\n",
       "      <td>joy</td>\n",
       "      <td>NaN</td>\n",
       "    </tr>\n",
       "  </tbody>\n",
       "</table>\n",
       "</div>"
      ],
      "text/plain": [
       "   sno names  marks\n",
       "0    1  abhi   10.0\n",
       "1    1  abhi   10.0\n",
       "2    3   joy    NaN"
      ]
     },
     "execution_count": 409,
     "metadata": {},
     "output_type": "execute_result"
    }
   ],
   "source": [
    "af"
   ]
  },
  {
   "cell_type": "code",
   "execution_count": 410,
   "id": "e7ec0e04",
   "metadata": {
    "execution": {
     "iopub.execute_input": "2023-11-16T17:05:54.748605Z",
     "iopub.status.busy": "2023-11-16T17:05:54.748235Z",
     "iopub.status.idle": "2023-11-16T17:05:54.760110Z",
     "shell.execute_reply": "2023-11-16T17:05:54.758965Z"
    },
    "papermill": {
     "duration": 0.169912,
     "end_time": "2023-11-16T17:05:54.762238",
     "exception": false,
     "start_time": "2023-11-16T17:05:54.592326",
     "status": "completed"
    },
    "tags": []
   },
   "outputs": [
    {
     "data": {
      "text/html": [
       "<div>\n",
       "<style scoped>\n",
       "    .dataframe tbody tr th:only-of-type {\n",
       "        vertical-align: middle;\n",
       "    }\n",
       "\n",
       "    .dataframe tbody tr th {\n",
       "        vertical-align: top;\n",
       "    }\n",
       "\n",
       "    .dataframe thead th {\n",
       "        text-align: right;\n",
       "    }\n",
       "</style>\n",
       "<table border=\"1\" class=\"dataframe\">\n",
       "  <thead>\n",
       "    <tr style=\"text-align: right;\">\n",
       "      <th></th>\n",
       "      <th>sno</th>\n",
       "      <th>names</th>\n",
       "      <th>marks</th>\n",
       "    </tr>\n",
       "  </thead>\n",
       "  <tbody>\n",
       "    <tr>\n",
       "      <th>0</th>\n",
       "      <td>1</td>\n",
       "      <td>abhi</td>\n",
       "      <td>10.0</td>\n",
       "    </tr>\n",
       "    <tr>\n",
       "      <th>2</th>\n",
       "      <td>3</td>\n",
       "      <td>joy</td>\n",
       "      <td>NaN</td>\n",
       "    </tr>\n",
       "  </tbody>\n",
       "</table>\n",
       "</div>"
      ],
      "text/plain": [
       "   sno names  marks\n",
       "0    1  abhi   10.0\n",
       "2    3   joy    NaN"
      ]
     },
     "execution_count": 410,
     "metadata": {},
     "output_type": "execute_result"
    }
   ],
   "source": [
    "af.drop_duplicates()"
   ]
  },
  {
   "cell_type": "code",
   "execution_count": 411,
   "id": "f0829219",
   "metadata": {
    "execution": {
     "iopub.execute_input": "2023-11-16T17:05:55.086109Z",
     "iopub.status.busy": "2023-11-16T17:05:55.085239Z",
     "iopub.status.idle": "2023-11-16T17:05:55.095143Z",
     "shell.execute_reply": "2023-11-16T17:05:55.094213Z"
    },
    "papermill": {
     "duration": 0.172599,
     "end_time": "2023-11-16T17:05:55.097073",
     "exception": false,
     "start_time": "2023-11-16T17:05:54.924474",
     "status": "completed"
    },
    "tags": []
   },
   "outputs": [
    {
     "data": {
      "text/html": [
       "<div>\n",
       "<style scoped>\n",
       "    .dataframe tbody tr th:only-of-type {\n",
       "        vertical-align: middle;\n",
       "    }\n",
       "\n",
       "    .dataframe tbody tr th {\n",
       "        vertical-align: top;\n",
       "    }\n",
       "\n",
       "    .dataframe thead th {\n",
       "        text-align: right;\n",
       "    }\n",
       "</style>\n",
       "<table border=\"1\" class=\"dataframe\">\n",
       "  <thead>\n",
       "    <tr style=\"text-align: right;\">\n",
       "      <th></th>\n",
       "      <th>sno</th>\n",
       "      <th>names</th>\n",
       "      <th>marks</th>\n",
       "    </tr>\n",
       "  </thead>\n",
       "  <tbody>\n",
       "    <tr>\n",
       "      <th>0</th>\n",
       "      <td>1</td>\n",
       "      <td>abhi</td>\n",
       "      <td>10.0</td>\n",
       "    </tr>\n",
       "    <tr>\n",
       "      <th>1</th>\n",
       "      <td>1</td>\n",
       "      <td>abhi</td>\n",
       "      <td>10.0</td>\n",
       "    </tr>\n",
       "    <tr>\n",
       "      <th>2</th>\n",
       "      <td>3</td>\n",
       "      <td>joy</td>\n",
       "      <td>NaN</td>\n",
       "    </tr>\n",
       "  </tbody>\n",
       "</table>\n",
       "</div>"
      ],
      "text/plain": [
       "   sno names  marks\n",
       "0    1  abhi   10.0\n",
       "1    1  abhi   10.0\n",
       "2    3   joy    NaN"
      ]
     },
     "execution_count": 411,
     "metadata": {},
     "output_type": "execute_result"
    }
   ],
   "source": [
    "af"
   ]
  },
  {
   "cell_type": "code",
   "execution_count": 412,
   "id": "79289bec",
   "metadata": {
    "execution": {
     "iopub.execute_input": "2023-11-16T17:05:55.410095Z",
     "iopub.status.busy": "2023-11-16T17:05:55.409401Z",
     "iopub.status.idle": "2023-11-16T17:05:55.420203Z",
     "shell.execute_reply": "2023-11-16T17:05:55.419269Z"
    },
    "papermill": {
     "duration": 0.171066,
     "end_time": "2023-11-16T17:05:55.422583",
     "exception": false,
     "start_time": "2023-11-16T17:05:55.251517",
     "status": "completed"
    },
    "tags": []
   },
   "outputs": [
    {
     "data": {
      "text/html": [
       "<div>\n",
       "<style scoped>\n",
       "    .dataframe tbody tr th:only-of-type {\n",
       "        vertical-align: middle;\n",
       "    }\n",
       "\n",
       "    .dataframe tbody tr th {\n",
       "        vertical-align: top;\n",
       "    }\n",
       "\n",
       "    .dataframe thead th {\n",
       "        text-align: right;\n",
       "    }\n",
       "</style>\n",
       "<table border=\"1\" class=\"dataframe\">\n",
       "  <thead>\n",
       "    <tr style=\"text-align: right;\">\n",
       "      <th></th>\n",
       "      <th>sno</th>\n",
       "      <th>names</th>\n",
       "      <th>marks</th>\n",
       "    </tr>\n",
       "  </thead>\n",
       "  <tbody>\n",
       "    <tr>\n",
       "      <th>0</th>\n",
       "      <td>1</td>\n",
       "      <td>abhi</td>\n",
       "      <td>10.0</td>\n",
       "    </tr>\n",
       "    <tr>\n",
       "      <th>2</th>\n",
       "      <td>3</td>\n",
       "      <td>joy</td>\n",
       "      <td>NaN</td>\n",
       "    </tr>\n",
       "  </tbody>\n",
       "</table>\n",
       "</div>"
      ],
      "text/plain": [
       "   sno names  marks\n",
       "0    1  abhi   10.0\n",
       "2    3   joy    NaN"
      ]
     },
     "execution_count": 412,
     "metadata": {},
     "output_type": "execute_result"
    }
   ],
   "source": [
    "af.drop_duplicates(inplace = True)\n",
    "af"
   ]
  },
  {
   "cell_type": "code",
   "execution_count": 413,
   "id": "17c3cef0",
   "metadata": {
    "execution": {
     "iopub.execute_input": "2023-11-16T17:05:55.799279Z",
     "iopub.status.busy": "2023-11-16T17:05:55.798465Z",
     "iopub.status.idle": "2023-11-16T17:05:55.804276Z",
     "shell.execute_reply": "2023-11-16T17:05:55.803548Z"
    },
    "papermill": {
     "duration": 0.166672,
     "end_time": "2023-11-16T17:05:55.806081",
     "exception": false,
     "start_time": "2023-11-16T17:05:55.639409",
     "status": "completed"
    },
    "tags": []
   },
   "outputs": [],
   "source": [
    "af = pd.DataFrame({ \"sno\"  :    [1,1,3],\n",
    "                   \"names\"  : [\"abhi\",\"abhi\",\"joy\"],\n",
    "                   \"marks\" : [10,10,20]\n",
    "    \n",
    "                \n",
    "                   })\n",
    "\n",
    "\n"
   ]
  },
  {
   "cell_type": "code",
   "execution_count": 414,
   "id": "4f2d9fd7",
   "metadata": {
    "execution": {
     "iopub.execute_input": "2023-11-16T17:05:56.127858Z",
     "iopub.status.busy": "2023-11-16T17:05:56.127497Z",
     "iopub.status.idle": "2023-11-16T17:05:56.137824Z",
     "shell.execute_reply": "2023-11-16T17:05:56.136968Z"
    },
    "papermill": {
     "duration": 0.173015,
     "end_time": "2023-11-16T17:05:56.139946",
     "exception": false,
     "start_time": "2023-11-16T17:05:55.966931",
     "status": "completed"
    },
    "tags": []
   },
   "outputs": [
    {
     "name": "stdout",
     "output_type": "stream",
     "text": [
      "<class 'pandas.core.frame.DataFrame'>\n",
      "RangeIndex: 3 entries, 0 to 2\n",
      "Data columns (total 3 columns):\n",
      " #   Column  Non-Null Count  Dtype \n",
      "---  ------  --------------  ----- \n",
      " 0   sno     3 non-null      int64 \n",
      " 1   names   3 non-null      object\n",
      " 2   marks   3 non-null      int64 \n",
      "dtypes: int64(2), object(1)\n",
      "memory usage: 200.0+ bytes\n"
     ]
    }
   ],
   "source": [
    "af.info()"
   ]
  },
  {
   "cell_type": "code",
   "execution_count": 415,
   "id": "35707c3a",
   "metadata": {
    "execution": {
     "iopub.execute_input": "2023-11-16T17:05:56.452582Z",
     "iopub.status.busy": "2023-11-16T17:05:56.451748Z",
     "iopub.status.idle": "2023-11-16T17:05:56.462581Z",
     "shell.execute_reply": "2023-11-16T17:05:56.461689Z"
    },
    "papermill": {
     "duration": 0.170152,
     "end_time": "2023-11-16T17:05:56.465097",
     "exception": false,
     "start_time": "2023-11-16T17:05:56.294945",
     "status": "completed"
    },
    "tags": []
   },
   "outputs": [
    {
     "name": "stdout",
     "output_type": "stream",
     "text": [
      "<class 'pandas.core.frame.DataFrame'>\n",
      "RangeIndex: 3 entries, 0 to 2\n",
      "Data columns (total 3 columns):\n",
      " #   Column  Non-Null Count  Dtype  \n",
      "---  ------  --------------  -----  \n",
      " 0   sno     3 non-null      float64\n",
      " 1   names   3 non-null      object \n",
      " 2   marks   3 non-null      int64  \n",
      "dtypes: float64(1), int64(1), object(1)\n",
      "memory usage: 200.0+ bytes\n"
     ]
    }
   ],
   "source": [
    "af[\"sno\"] = af[\"sno\"].astype(\"float\")\n",
    "af.info()"
   ]
  },
  {
   "cell_type": "code",
   "execution_count": 416,
   "id": "0a61415f",
   "metadata": {
    "execution": {
     "iopub.execute_input": "2023-11-16T17:05:56.792216Z",
     "iopub.status.busy": "2023-11-16T17:05:56.791858Z",
     "iopub.status.idle": "2023-11-16T17:05:56.804152Z",
     "shell.execute_reply": "2023-11-16T17:05:56.803291Z"
    },
    "papermill": {
     "duration": 0.171645,
     "end_time": "2023-11-16T17:05:56.806784",
     "exception": false,
     "start_time": "2023-11-16T17:05:56.635139",
     "status": "completed"
    },
    "tags": []
   },
   "outputs": [
    {
     "name": "stdout",
     "output_type": "stream",
     "text": [
      "<class 'pandas.core.frame.DataFrame'>\n",
      "RangeIndex: 3 entries, 0 to 2\n",
      "Data columns (total 3 columns):\n",
      " #   Column  Non-Null Count  Dtype  \n",
      "---  ------  --------------  -----  \n",
      " 0   sno     3 non-null      float64\n",
      " 1   names   3 non-null      object \n",
      " 2   marks   3 non-null      int64  \n",
      "dtypes: float64(1), int64(1), object(1)\n",
      "memory usage: 200.0+ bytes\n"
     ]
    }
   ],
   "source": [
    "af = af.astype({\"sno\":\"float\",\"marks\" : \"int\" })\n",
    "af.info()"
   ]
  },
  {
   "cell_type": "code",
   "execution_count": 417,
   "id": "23b2f4ad",
   "metadata": {
    "execution": {
     "iopub.execute_input": "2023-11-16T17:05:57.127667Z",
     "iopub.status.busy": "2023-11-16T17:05:57.127326Z",
     "iopub.status.idle": "2023-11-16T17:05:57.138824Z",
     "shell.execute_reply": "2023-11-16T17:05:57.137953Z"
    },
    "papermill": {
     "duration": 0.171947,
     "end_time": "2023-11-16T17:05:57.140848",
     "exception": false,
     "start_time": "2023-11-16T17:05:56.968901",
     "status": "completed"
    },
    "tags": []
   },
   "outputs": [
    {
     "data": {
      "text/html": [
       "<div>\n",
       "<style scoped>\n",
       "    .dataframe tbody tr th:only-of-type {\n",
       "        vertical-align: middle;\n",
       "    }\n",
       "\n",
       "    .dataframe tbody tr th {\n",
       "        vertical-align: top;\n",
       "    }\n",
       "\n",
       "    .dataframe thead th {\n",
       "        text-align: right;\n",
       "    }\n",
       "</style>\n",
       "<table border=\"1\" class=\"dataframe\">\n",
       "  <thead>\n",
       "    <tr style=\"text-align: right;\">\n",
       "      <th></th>\n",
       "      <th>sno</th>\n",
       "      <th>names</th>\n",
       "      <th>marks</th>\n",
       "    </tr>\n",
       "  </thead>\n",
       "  <tbody>\n",
       "    <tr>\n",
       "      <th>0</th>\n",
       "      <td>1.0</td>\n",
       "      <td>abhi</td>\n",
       "      <td>-0.577350</td>\n",
       "    </tr>\n",
       "    <tr>\n",
       "      <th>1</th>\n",
       "      <td>1.0</td>\n",
       "      <td>abhi</td>\n",
       "      <td>-0.577350</td>\n",
       "    </tr>\n",
       "    <tr>\n",
       "      <th>2</th>\n",
       "      <td>3.0</td>\n",
       "      <td>joy</td>\n",
       "      <td>1.154701</td>\n",
       "    </tr>\n",
       "  </tbody>\n",
       "</table>\n",
       "</div>"
      ],
      "text/plain": [
       "   sno names     marks\n",
       "0  1.0  abhi -0.577350\n",
       "1  1.0  abhi -0.577350\n",
       "2  3.0   joy  1.154701"
      ]
     },
     "execution_count": 417,
     "metadata": {},
     "output_type": "execute_result"
    }
   ],
   "source": [
    "af[\"marks\" ] = (af[\"marks\"] - af[\"marks\"].mean())/af[\"marks\"].std()\n",
    "af"
   ]
  },
  {
   "cell_type": "code",
   "execution_count": null,
   "id": "aa6bf770",
   "metadata": {
    "papermill": {
     "duration": 0.156901,
     "end_time": "2023-11-16T17:05:57.453027",
     "exception": false,
     "start_time": "2023-11-16T17:05:57.296126",
     "status": "completed"
    },
    "tags": []
   },
   "outputs": [],
   "source": [
    "\n"
   ]
  },
  {
   "cell_type": "code",
   "execution_count": 418,
   "id": "f38f9781",
   "metadata": {
    "execution": {
     "iopub.execute_input": "2023-11-16T17:05:57.785207Z",
     "iopub.status.busy": "2023-11-16T17:05:57.784489Z",
     "iopub.status.idle": "2023-11-16T17:05:57.796946Z",
     "shell.execute_reply": "2023-11-16T17:05:57.796035Z"
    },
    "papermill": {
     "duration": 0.179196,
     "end_time": "2023-11-16T17:05:57.799293",
     "exception": false,
     "start_time": "2023-11-16T17:05:57.620097",
     "status": "completed"
    },
    "tags": []
   },
   "outputs": [
    {
     "data": {
      "text/html": [
       "<div>\n",
       "<style scoped>\n",
       "    .dataframe tbody tr th:only-of-type {\n",
       "        vertical-align: middle;\n",
       "    }\n",
       "\n",
       "    .dataframe tbody tr th {\n",
       "        vertical-align: top;\n",
       "    }\n",
       "\n",
       "    .dataframe thead th {\n",
       "        text-align: right;\n",
       "    }\n",
       "</style>\n",
       "<table border=\"1\" class=\"dataframe\">\n",
       "  <thead>\n",
       "    <tr style=\"text-align: right;\">\n",
       "      <th></th>\n",
       "      <th>Date</th>\n",
       "      <th>Region</th>\n",
       "      <th>Product</th>\n",
       "      <th>Sales</th>\n",
       "    </tr>\n",
       "  </thead>\n",
       "  <tbody>\n",
       "    <tr>\n",
       "      <th>0</th>\n",
       "      <td>2023-01-01</td>\n",
       "      <td>East</td>\n",
       "      <td>Apple</td>\n",
       "      <td>100</td>\n",
       "    </tr>\n",
       "    <tr>\n",
       "      <th>1</th>\n",
       "      <td>2023-01-01</td>\n",
       "      <td>West</td>\n",
       "      <td>Orange</td>\n",
       "      <td>150</td>\n",
       "    </tr>\n",
       "    <tr>\n",
       "      <th>2</th>\n",
       "      <td>2023-01-02</td>\n",
       "      <td>East</td>\n",
       "      <td>Apple</td>\n",
       "      <td>200</td>\n",
       "    </tr>\n",
       "    <tr>\n",
       "      <th>3</th>\n",
       "      <td>2023-01-02</td>\n",
       "      <td>West</td>\n",
       "      <td>Orange</td>\n",
       "      <td>120</td>\n",
       "    </tr>\n",
       "    <tr>\n",
       "      <th>4</th>\n",
       "      <td>2023-01-01</td>\n",
       "      <td>East</td>\n",
       "      <td>Apple</td>\n",
       "      <td>180</td>\n",
       "    </tr>\n",
       "  </tbody>\n",
       "</table>\n",
       "</div>"
      ],
      "text/plain": [
       "         Date Region Product  Sales\n",
       "0  2023-01-01   East   Apple    100\n",
       "1  2023-01-01   West  Orange    150\n",
       "2  2023-01-02   East   Apple    200\n",
       "3  2023-01-02   West  Orange    120\n",
       "4  2023-01-01   East   Apple    180"
      ]
     },
     "execution_count": 418,
     "metadata": {},
     "output_type": "execute_result"
    }
   ],
   "source": [
    "import pandas as pd\n",
    "\n",
    "data = {\n",
    "    'Date': ['2023-01-01', '2023-01-01', '2023-01-02', '2023-01-02', '2023-01-01'],\n",
    "    'Region': ['East', 'West', 'East', 'West', 'East'],\n",
    "    'Product': ['Apple', 'Orange', 'Apple', 'Orange', 'Apple'],\n",
    "    'Sales': [100, 150, 200, 120, 180]\n",
    "}\n",
    "\n",
    "df = pd.DataFrame(data)\n",
    "df\n"
   ]
  },
  {
   "cell_type": "code",
   "execution_count": 419,
   "id": "5281fecc",
   "metadata": {
    "execution": {
     "iopub.execute_input": "2023-11-16T17:05:58.174938Z",
     "iopub.status.busy": "2023-11-16T17:05:58.174614Z",
     "iopub.status.idle": "2023-11-16T17:05:58.198207Z",
     "shell.execute_reply": "2023-11-16T17:05:58.196944Z"
    },
    "papermill": {
     "duration": 0.233008,
     "end_time": "2023-11-16T17:05:58.200392",
     "exception": false,
     "start_time": "2023-11-16T17:05:57.967384",
     "status": "completed"
    },
    "tags": []
   },
   "outputs": [
    {
     "name": "stdout",
     "output_type": "stream",
     "text": [
      "Product  Apple  Orange\n",
      "Region                \n",
      "East     160.0     NaN\n",
      "West       NaN   135.0\n"
     ]
    }
   ],
   "source": [
    "pivot = df.pivot_table( index='Region', columns='Product',values='Sales', aggfunc='mean')\n",
    "print(pivot)\n"
   ]
  },
  {
   "cell_type": "code",
   "execution_count": 420,
   "id": "89f4d2eb",
   "metadata": {
    "execution": {
     "iopub.execute_input": "2023-11-16T17:05:58.521563Z",
     "iopub.status.busy": "2023-11-16T17:05:58.521182Z",
     "iopub.status.idle": "2023-11-16T17:05:58.525625Z",
     "shell.execute_reply": "2023-11-16T17:05:58.524688Z"
    },
    "papermill": {
     "duration": 0.164345,
     "end_time": "2023-11-16T17:05:58.527591",
     "exception": false,
     "start_time": "2023-11-16T17:05:58.363246",
     "status": "completed"
    },
    "tags": []
   },
   "outputs": [],
   "source": [
    "# <!-- pivot_table(data, values=None, index=None, columns=None, aggfunc='mean', fill_value=None)\n",
    "# data: The DataFrame to be used.\n",
    "# values: The column to aggregate.\n",
    "# index: Columns to group data by (will become rows in the pivot table).\n",
    "# columns: Columns to group data by (will become columns in the pivot table).\n",
    "# aggfunc: The function used for aggregation (default is 'mean').\n",
    "# fill_value: Replace missing values in the pivot table. -->"
   ]
  },
  {
   "cell_type": "code",
   "execution_count": 421,
   "id": "54b82bd1",
   "metadata": {
    "execution": {
     "iopub.execute_input": "2023-11-16T17:05:58.845105Z",
     "iopub.status.busy": "2023-11-16T17:05:58.844759Z",
     "iopub.status.idle": "2023-11-16T17:05:58.862206Z",
     "shell.execute_reply": "2023-11-16T17:05:58.861158Z"
    },
    "papermill": {
     "duration": 0.178411,
     "end_time": "2023-11-16T17:05:58.864226",
     "exception": false,
     "start_time": "2023-11-16T17:05:58.685815",
     "status": "completed"
    },
    "tags": []
   },
   "outputs": [
    {
     "name": "stdout",
     "output_type": "stream",
     "text": [
      "Product  Apple  Orange\n",
      "Region                \n",
      "East       480       0\n",
      "West         0     270\n"
     ]
    }
   ],
   "source": [
    "import pandas as pd\n",
    "import numpy as np\n",
    "\n",
    "data = {\n",
    "    'Date': ['2023-01-01', '2023-01-01', '2023-01-02', '2023-01-02', '2023-01-01'],\n",
    "    'Region': ['East', 'West', 'East', 'West', 'East'],\n",
    "    'Product': ['Apple', 'Orange', 'Apple', 'Orange', 'Apple'],\n",
    "    'Sales': [100, 150, 200, 120, 180]\n",
    "}\n",
    "\n",
    "df = pd.DataFrame(data)\n",
    "pivot = df.pivot_table(values='Sales', index='Region', columns='Product', aggfunc=np.sum, fill_value=0)\n",
    "print(pivot)\n"
   ]
  },
  {
   "cell_type": "code",
   "execution_count": 422,
   "id": "4fcfbfea",
   "metadata": {
    "execution": {
     "iopub.execute_input": "2023-11-16T17:05:59.185210Z",
     "iopub.status.busy": "2023-11-16T17:05:59.184606Z",
     "iopub.status.idle": "2023-11-16T17:05:59.202386Z",
     "shell.execute_reply": "2023-11-16T17:05:59.201469Z"
    },
    "papermill": {
     "duration": 0.181903,
     "end_time": "2023-11-16T17:05:59.205183",
     "exception": false,
     "start_time": "2023-11-16T17:05:59.023280",
     "status": "completed"
    },
    "tags": []
   },
   "outputs": [
    {
     "name": "stdout",
     "output_type": "stream",
     "text": [
      "                  Profit        Sales       \n",
      "Product            Apple Orange Apple Orange\n",
      "Region Date                                 \n",
      "East   2023-01-01     28      0   280      0\n",
      "       2023-01-02     20      0   200      0\n",
      "West   2023-01-01      0     15     0    150\n",
      "       2023-01-02      0     12     0    120\n"
     ]
    }
   ],
   "source": [
    "import numpy as np\n",
    "\n",
    "data = {\n",
    "    'Date': ['2023-01-01', '2023-01-01', '2023-01-02', '2023-01-02', '2023-01-01'],\n",
    "    'Region': ['East', 'West', 'East', 'West', 'East'],\n",
    "    'Product': ['Apple', 'Orange', 'Apple', 'Orange', 'Apple'],\n",
    "    'Sales': [100, 150, 200, 120, 180],\n",
    "    'Profit': [10, 15, 20, 12, 18]\n",
    "}\n",
    "\n",
    "df = pd.DataFrame(data)\n",
    "\n",
    "pivot = df.pivot_table(values=['Sales', 'Profit'], index=['Region', 'Date'], columns='Product', aggfunc=np.sum, fill_value=0)\n",
    "print(pivot)\n"
   ]
  },
  {
   "cell_type": "code",
   "execution_count": 423,
   "id": "7b9f89d1",
   "metadata": {
    "execution": {
     "iopub.execute_input": "2023-11-16T17:05:59.537282Z",
     "iopub.status.busy": "2023-11-16T17:05:59.536456Z",
     "iopub.status.idle": "2023-11-16T17:05:59.545209Z",
     "shell.execute_reply": "2023-11-16T17:05:59.544157Z"
    },
    "papermill": {
     "duration": 0.171199,
     "end_time": "2023-11-16T17:05:59.547978",
     "exception": false,
     "start_time": "2023-11-16T17:05:59.376779",
     "status": "completed"
    },
    "tags": []
   },
   "outputs": [
    {
     "name": "stdout",
     "output_type": "stream",
     "text": [
      "   A  B\n",
      "0  1  3\n",
      "1  2  4\n",
      "0  5  7\n",
      "1  6  8\n"
     ]
    }
   ],
   "source": [
    "# Example 1: Concatenating DataFrames along Rows (axis=0)\n",
    "\n",
    "import pandas as pd\n",
    "\n",
    "# Sample DataFrames\n",
    "data1 = {'A': [1, 2], 'B': [3, 4]}\n",
    "\n",
    "data2 = {'A': [5, 6], 'B': [7, 8]}\n",
    "df1 = pd.DataFrame(data1)\n",
    "df2 = pd.DataFrame(data2)\n",
    "\n",
    "\n",
    "# Concatenating along rows (axis=0)\n",
    "result = pd.concat([df1, df2],axis = 0)\n",
    "print(result)\n",
    "# df2"
   ]
  },
  {
   "cell_type": "code",
   "execution_count": 424,
   "id": "4c8c661e",
   "metadata": {
    "execution": {
     "iopub.execute_input": "2023-11-16T17:05:59.883644Z",
     "iopub.status.busy": "2023-11-16T17:05:59.883179Z",
     "iopub.status.idle": "2023-11-16T17:05:59.890744Z",
     "shell.execute_reply": "2023-11-16T17:05:59.889761Z"
    },
    "papermill": {
     "duration": 0.169322,
     "end_time": "2023-11-16T17:05:59.893119",
     "exception": false,
     "start_time": "2023-11-16T17:05:59.723797",
     "status": "completed"
    },
    "tags": []
   },
   "outputs": [
    {
     "name": "stdout",
     "output_type": "stream",
     "text": [
      "   A  B  A  B\n",
      "0  1  3  5  7\n",
      "1  2  4  6  8\n"
     ]
    }
   ],
   "source": [
    "# Example 2: Concatenating DataFrames along Columns (axis=1)\n",
    "\n",
    "\n",
    "# Concatenating along columns (axis=1)\n",
    "result = pd.concat([df1, df2], axis=1)\n",
    "print(result)"
   ]
  },
  {
   "cell_type": "code",
   "execution_count": 425,
   "id": "4de03239",
   "metadata": {
    "execution": {
     "iopub.execute_input": "2023-11-16T17:06:00.212663Z",
     "iopub.status.busy": "2023-11-16T17:06:00.211829Z",
     "iopub.status.idle": "2023-11-16T17:06:00.218591Z",
     "shell.execute_reply": "2023-11-16T17:06:00.217654Z"
    },
    "papermill": {
     "duration": 0.167451,
     "end_time": "2023-11-16T17:06:00.221053",
     "exception": false,
     "start_time": "2023-11-16T17:06:00.053602",
     "status": "completed"
    },
    "tags": []
   },
   "outputs": [
    {
     "name": "stdout",
     "output_type": "stream",
     "text": [
      "   A  B\n",
      "0  1  3\n",
      "1  2  4\n",
      "2  5  7\n",
      "3  6  8\n"
     ]
    }
   ],
   "source": [
    "# Handling Indexes during Concatenation\n",
    "# By default, concat preserves the original indices. Use ignore_index=True to reset the index.\n",
    "result = pd.concat([df1, df2], ignore_index=True)\n",
    "print(result)\n"
   ]
  },
  {
   "cell_type": "code",
   "execution_count": 426,
   "id": "93afed1e",
   "metadata": {
    "execution": {
     "iopub.execute_input": "2023-11-16T17:06:00.557021Z",
     "iopub.status.busy": "2023-11-16T17:06:00.556669Z",
     "iopub.status.idle": "2023-11-16T17:06:00.566312Z",
     "shell.execute_reply": "2023-11-16T17:06:00.565422Z"
    },
    "papermill": {
     "duration": 0.171085,
     "end_time": "2023-11-16T17:06:00.568409",
     "exception": false,
     "start_time": "2023-11-16T17:06:00.397324",
     "status": "completed"
    },
    "tags": []
   },
   "outputs": [
    {
     "name": "stdout",
     "output_type": "stream",
     "text": [
      "     A    B     c\n",
      "0  1.0  3.0   NaN\n",
      "1  2.0  4.0   NaN\n",
      "0  NaN  NaN   9.0\n",
      "1  NaN  NaN  10.0\n"
     ]
    }
   ],
   "source": [
    "# Concatenating DataFrames with Different Columns\n",
    "# Concatenating DataFrames with differing columns will result in NaN values where the columns don't match.\n",
    "data3 = {'c': [9, 10]}\n",
    "df3 = pd.DataFrame(data3)\n",
    "\n",
    "result = pd.concat([df1, df3], axis=0)\n",
    "print(result)\n"
   ]
  },
  {
   "cell_type": "code",
   "execution_count": 427,
   "id": "116b96b8",
   "metadata": {
    "execution": {
     "iopub.execute_input": "2023-11-16T17:06:00.944935Z",
     "iopub.status.busy": "2023-11-16T17:06:00.944569Z",
     "iopub.status.idle": "2023-11-16T17:06:00.948630Z",
     "shell.execute_reply": "2023-11-16T17:06:00.947773Z"
    },
    "papermill": {
     "duration": 0.222272,
     "end_time": "2023-11-16T17:06:00.950571",
     "exception": false,
     "start_time": "2023-11-16T17:06:00.728299",
     "status": "completed"
    },
    "tags": []
   },
   "outputs": [],
   "source": [
    "# Concatenating Along Columns with Keys (Multi-level Index)\n",
    "# Using keys parameter to create a hierarchical index:\n",
    "# result = pd.concat([df1, df2], keys=['df1', 'df2'])\n",
    "# print(result)\n"
   ]
  },
  {
   "cell_type": "code",
   "execution_count": 428,
   "id": "62aab366",
   "metadata": {
    "execution": {
     "iopub.execute_input": "2023-11-16T17:06:01.280398Z",
     "iopub.status.busy": "2023-11-16T17:06:01.279564Z",
     "iopub.status.idle": "2023-11-16T17:06:01.286249Z",
     "shell.execute_reply": "2023-11-16T17:06:01.285342Z"
    },
    "papermill": {
     "duration": 0.176985,
     "end_time": "2023-11-16T17:06:01.288229",
     "exception": false,
     "start_time": "2023-11-16T17:06:01.111244",
     "status": "completed"
    },
    "tags": []
   },
   "outputs": [],
   "source": [
    "# Pandas provides the merge function to combine DataFrames based on one or more keys. \n",
    "# Here are various examples demonstrating different types of merges:\n",
    "\n",
    "# Inner Join\n",
    "# Performing an inner join on a common column between two DataFrames:\n",
    "\n",
    "import pandas as pd\n",
    "\n",
    "# Sample DataFrames\n",
    "data1 = {'ID': [1, 2, 3], 'Name': ['Alice', 'Bob', 'Charlie']}\n",
    "data2 = {'ID': [1, 2, 4], 'Age': [25, 30, 28]}\n",
    "df1 = pd.DataFrame(data1)\n",
    "df2 = pd.DataFrame(data2)\n",
    "\n"
   ]
  },
  {
   "cell_type": "code",
   "execution_count": 429,
   "id": "7c55ff75",
   "metadata": {
    "execution": {
     "iopub.execute_input": "2023-11-16T17:06:01.632490Z",
     "iopub.status.busy": "2023-11-16T17:06:01.631895Z",
     "iopub.status.idle": "2023-11-16T17:06:01.640732Z",
     "shell.execute_reply": "2023-11-16T17:06:01.639832Z"
    },
    "papermill": {
     "duration": 0.182812,
     "end_time": "2023-11-16T17:06:01.642915",
     "exception": false,
     "start_time": "2023-11-16T17:06:01.460103",
     "status": "completed"
    },
    "tags": []
   },
   "outputs": [
    {
     "data": {
      "text/html": [
       "<div>\n",
       "<style scoped>\n",
       "    .dataframe tbody tr th:only-of-type {\n",
       "        vertical-align: middle;\n",
       "    }\n",
       "\n",
       "    .dataframe tbody tr th {\n",
       "        vertical-align: top;\n",
       "    }\n",
       "\n",
       "    .dataframe thead th {\n",
       "        text-align: right;\n",
       "    }\n",
       "</style>\n",
       "<table border=\"1\" class=\"dataframe\">\n",
       "  <thead>\n",
       "    <tr style=\"text-align: right;\">\n",
       "      <th></th>\n",
       "      <th>ID</th>\n",
       "      <th>Name</th>\n",
       "    </tr>\n",
       "  </thead>\n",
       "  <tbody>\n",
       "    <tr>\n",
       "      <th>0</th>\n",
       "      <td>1</td>\n",
       "      <td>Alice</td>\n",
       "    </tr>\n",
       "    <tr>\n",
       "      <th>1</th>\n",
       "      <td>2</td>\n",
       "      <td>Bob</td>\n",
       "    </tr>\n",
       "    <tr>\n",
       "      <th>2</th>\n",
       "      <td>3</td>\n",
       "      <td>Charlie</td>\n",
       "    </tr>\n",
       "  </tbody>\n",
       "</table>\n",
       "</div>"
      ],
      "text/plain": [
       "   ID     Name\n",
       "0   1    Alice\n",
       "1   2      Bob\n",
       "2   3  Charlie"
      ]
     },
     "execution_count": 429,
     "metadata": {},
     "output_type": "execute_result"
    }
   ],
   "source": [
    "df1"
   ]
  },
  {
   "cell_type": "code",
   "execution_count": 430,
   "id": "a0fd1946",
   "metadata": {
    "execution": {
     "iopub.execute_input": "2023-11-16T17:06:01.976322Z",
     "iopub.status.busy": "2023-11-16T17:06:01.975397Z",
     "iopub.status.idle": "2023-11-16T17:06:01.985522Z",
     "shell.execute_reply": "2023-11-16T17:06:01.984386Z"
    },
    "papermill": {
     "duration": 0.177094,
     "end_time": "2023-11-16T17:06:01.988110",
     "exception": false,
     "start_time": "2023-11-16T17:06:01.811016",
     "status": "completed"
    },
    "tags": []
   },
   "outputs": [
    {
     "data": {
      "text/html": [
       "<div>\n",
       "<style scoped>\n",
       "    .dataframe tbody tr th:only-of-type {\n",
       "        vertical-align: middle;\n",
       "    }\n",
       "\n",
       "    .dataframe tbody tr th {\n",
       "        vertical-align: top;\n",
       "    }\n",
       "\n",
       "    .dataframe thead th {\n",
       "        text-align: right;\n",
       "    }\n",
       "</style>\n",
       "<table border=\"1\" class=\"dataframe\">\n",
       "  <thead>\n",
       "    <tr style=\"text-align: right;\">\n",
       "      <th></th>\n",
       "      <th>ID</th>\n",
       "      <th>Age</th>\n",
       "    </tr>\n",
       "  </thead>\n",
       "  <tbody>\n",
       "    <tr>\n",
       "      <th>0</th>\n",
       "      <td>1</td>\n",
       "      <td>25</td>\n",
       "    </tr>\n",
       "    <tr>\n",
       "      <th>1</th>\n",
       "      <td>2</td>\n",
       "      <td>30</td>\n",
       "    </tr>\n",
       "    <tr>\n",
       "      <th>2</th>\n",
       "      <td>4</td>\n",
       "      <td>28</td>\n",
       "    </tr>\n",
       "  </tbody>\n",
       "</table>\n",
       "</div>"
      ],
      "text/plain": [
       "   ID  Age\n",
       "0   1   25\n",
       "1   2   30\n",
       "2   4   28"
      ]
     },
     "execution_count": 430,
     "metadata": {},
     "output_type": "execute_result"
    }
   ],
   "source": [
    "df2"
   ]
  },
  {
   "cell_type": "code",
   "execution_count": 431,
   "id": "1a66b49a",
   "metadata": {
    "execution": {
     "iopub.execute_input": "2023-11-16T17:06:02.334661Z",
     "iopub.status.busy": "2023-11-16T17:06:02.334191Z",
     "iopub.status.idle": "2023-11-16T17:06:02.347394Z",
     "shell.execute_reply": "2023-11-16T17:06:02.346500Z"
    },
    "papermill": {
     "duration": 0.17889,
     "end_time": "2023-11-16T17:06:02.350091",
     "exception": false,
     "start_time": "2023-11-16T17:06:02.171201",
     "status": "completed"
    },
    "tags": []
   },
   "outputs": [
    {
     "name": "stdout",
     "output_type": "stream",
     "text": [
      "   ID   Name  Age\n",
      "0   1  Alice   25\n",
      "1   2    Bob   30\n"
     ]
    }
   ],
   "source": [
    "\n",
    "# Inner join based on 'ID'\n",
    "result_inner = pd.merge(df1, df2, on='ID', how='inner')\n",
    "print(result_inner)"
   ]
  },
  {
   "cell_type": "code",
   "execution_count": 432,
   "id": "9761b8aa",
   "metadata": {
    "execution": {
     "iopub.execute_input": "2023-11-16T17:06:02.691977Z",
     "iopub.status.busy": "2023-11-16T17:06:02.691293Z",
     "iopub.status.idle": "2023-11-16T17:06:02.701150Z",
     "shell.execute_reply": "2023-11-16T17:06:02.700231Z"
    },
    "papermill": {
     "duration": 0.176741,
     "end_time": "2023-11-16T17:06:02.703693",
     "exception": false,
     "start_time": "2023-11-16T17:06:02.526952",
     "status": "completed"
    },
    "tags": []
   },
   "outputs": [
    {
     "name": "stdout",
     "output_type": "stream",
     "text": [
      "   ID     Name   Age\n",
      "0   1    Alice  25.0\n",
      "1   2      Bob  30.0\n",
      "2   3  Charlie   NaN\n"
     ]
    }
   ],
   "source": [
    "#  Left Join\n",
    "# Performing a left join:\n",
    "    # Left join based on 'ID'\n",
    "result_left = pd.merge(df1, df2, on='ID', how='left')\n",
    "print(result_left)\n"
   ]
  },
  {
   "cell_type": "code",
   "execution_count": 433,
   "id": "c4cbd68b",
   "metadata": {
    "execution": {
     "iopub.execute_input": "2023-11-16T17:06:03.031440Z",
     "iopub.status.busy": "2023-11-16T17:06:03.030762Z",
     "iopub.status.idle": "2023-11-16T17:06:03.040641Z",
     "shell.execute_reply": "2023-11-16T17:06:03.039771Z"
    },
    "papermill": {
     "duration": 0.173929,
     "end_time": "2023-11-16T17:06:03.042536",
     "exception": false,
     "start_time": "2023-11-16T17:06:02.868607",
     "status": "completed"
    },
    "tags": []
   },
   "outputs": [
    {
     "name": "stdout",
     "output_type": "stream",
     "text": [
      "   ID   Name  Age\n",
      "0   1  Alice   25\n",
      "1   2    Bob   30\n",
      "2   4    NaN   28\n"
     ]
    }
   ],
   "source": [
    "# Right Join\n",
    "# Performing a right join:\n",
    "    # Right join based on 'ID'\n",
    "result_right = pd.merge(df1, df2, on='ID', how='right')\n",
    "print(result_right)\n",
    "\n"
   ]
  },
  {
   "cell_type": "code",
   "execution_count": 434,
   "id": "96306939",
   "metadata": {
    "execution": {
     "iopub.execute_input": "2023-11-16T17:06:03.366527Z",
     "iopub.status.busy": "2023-11-16T17:06:03.365736Z",
     "iopub.status.idle": "2023-11-16T17:06:03.376205Z",
     "shell.execute_reply": "2023-11-16T17:06:03.374980Z"
    },
    "papermill": {
     "duration": 0.173224,
     "end_time": "2023-11-16T17:06:03.378294",
     "exception": false,
     "start_time": "2023-11-16T17:06:03.205070",
     "status": "completed"
    },
    "tags": []
   },
   "outputs": [
    {
     "name": "stdout",
     "output_type": "stream",
     "text": [
      "   ID     Name   Age\n",
      "0   1    Alice  25.0\n",
      "1   2      Bob  30.0\n",
      "2   3  Charlie   NaN\n",
      "3   4      NaN  28.0\n"
     ]
    }
   ],
   "source": [
    "# Outer Join\n",
    "# Performing an outer join:\n",
    "    # Outer join based on 'ID'\n",
    "result_outer = pd.merge(df1, df2, on='ID', how='outer')\n",
    "print(result_outer)\n"
   ]
  },
  {
   "cell_type": "code",
   "execution_count": 435,
   "id": "2fd81749",
   "metadata": {
    "execution": {
     "iopub.execute_input": "2023-11-16T17:06:03.751299Z",
     "iopub.status.busy": "2023-11-16T17:06:03.750945Z",
     "iopub.status.idle": "2023-11-16T17:06:03.765258Z",
     "shell.execute_reply": "2023-11-16T17:06:03.764235Z"
    },
    "papermill": {
     "duration": 0.179602,
     "end_time": "2023-11-16T17:06:03.767369",
     "exception": false,
     "start_time": "2023-11-16T17:06:03.587767",
     "status": "completed"
    },
    "tags": []
   },
   "outputs": [
    {
     "name": "stdout",
     "output_type": "stream",
     "text": [
      "   ID           City  Population\n",
      "0   1       New York   8000000.0\n",
      "1   2  San Francisco    900000.0\n",
      "2   3        Seattle         NaN\n",
      "3   4          Miami    500000.0\n"
     ]
    }
   ],
   "source": [
    "# Merging on Multiple Columns\n",
    "# Merging based on multiple columns:\n",
    "# Sample DataFrames\n",
    "data1 = {'ID': [1, 2, 3], 'City': ['New York', 'San Francisco', 'Seattle']}\n",
    "data2 = {'ID': [1, 2, 4], 'City': ['New York', 'San Francisco', 'Miami'], 'Population': [8000000, 900000, 500000]}\n",
    "df1 = pd.DataFrame(data1)\n",
    "df2 = pd.DataFrame(data2)\n",
    "\n",
    "# Merging on multiple columns 'ID' and 'City'\n",
    "result_multi_col = pd.merge(df1, df2, on=['ID', 'City'], how='outer')\n",
    "print(result_multi_col)\n"
   ]
  },
  {
   "cell_type": "code",
   "execution_count": 436,
   "id": "a8c9957a",
   "metadata": {
    "execution": {
     "iopub.execute_input": "2023-11-16T17:06:04.101015Z",
     "iopub.status.busy": "2023-11-16T17:06:04.100363Z",
     "iopub.status.idle": "2023-11-16T17:06:04.104420Z",
     "shell.execute_reply": "2023-11-16T17:06:04.103574Z"
    },
    "papermill": {
     "duration": 0.16964,
     "end_time": "2023-11-16T17:06:04.106376",
     "exception": false,
     "start_time": "2023-11-16T17:06:03.936736",
     "status": "completed"
    },
    "tags": []
   },
   "outputs": [],
   "source": [
    "# stacking refers to reorganizing or reshaping data from a wide format to a long format, \n",
    "# often involving pivoting columns into rows. You can perform stacking using the stack() function. Here are some examples:"
   ]
  },
  {
   "cell_type": "code",
   "execution_count": 437,
   "id": "8dcf55ff",
   "metadata": {
    "execution": {
     "iopub.execute_input": "2023-11-16T17:06:04.427395Z",
     "iopub.status.busy": "2023-11-16T17:06:04.427025Z",
     "iopub.status.idle": "2023-11-16T17:06:04.434328Z",
     "shell.execute_reply": "2023-11-16T17:06:04.433323Z"
    },
    "papermill": {
     "duration": 0.170193,
     "end_time": "2023-11-16T17:06:04.436600",
     "exception": false,
     "start_time": "2023-11-16T17:06:04.266407",
     "status": "completed"
    },
    "tags": []
   },
   "outputs": [
    {
     "name": "stdout",
     "output_type": "stream",
     "text": [
      "   A  B\n",
      "0  1  3\n",
      "1  2  4\n"
     ]
    }
   ],
   "source": [
    "# Stacking a Simple DataFrame\n",
    "# Consider a simple DataFrame:\n",
    "import pandas as pd\n",
    "\n",
    "data = {\n",
    "    'A': [1, 2],\n",
    "    'B': [3, 4]\n",
    "}\n",
    "\n",
    "df = pd.DataFrame(data)\n",
    "print(df)\n"
   ]
  },
  {
   "cell_type": "code",
   "execution_count": 438,
   "id": "7909904e",
   "metadata": {
    "execution": {
     "iopub.execute_input": "2023-11-16T17:06:04.757425Z",
     "iopub.status.busy": "2023-11-16T17:06:04.757049Z",
     "iopub.status.idle": "2023-11-16T17:06:04.763639Z",
     "shell.execute_reply": "2023-11-16T17:06:04.762744Z"
    },
    "papermill": {
     "duration": 0.168804,
     "end_time": "2023-11-16T17:06:04.766110",
     "exception": false,
     "start_time": "2023-11-16T17:06:04.597306",
     "status": "completed"
    },
    "tags": []
   },
   "outputs": [
    {
     "name": "stdout",
     "output_type": "stream",
     "text": [
      "0  A    1\n",
      "   B    3\n",
      "1  A    2\n",
      "   B    4\n",
      "dtype: int64\n"
     ]
    }
   ],
   "source": [
    "stacked = df.stack()\n",
    "print(stacked)\n"
   ]
  },
  {
   "cell_type": "code",
   "execution_count": 439,
   "id": "e9358c79",
   "metadata": {
    "execution": {
     "iopub.execute_input": "2023-11-16T17:06:05.099127Z",
     "iopub.status.busy": "2023-11-16T17:06:05.098471Z",
     "iopub.status.idle": "2023-11-16T17:06:05.107606Z",
     "shell.execute_reply": "2023-11-16T17:06:05.106713Z"
    },
    "papermill": {
     "duration": 0.179225,
     "end_time": "2023-11-16T17:06:05.109847",
     "exception": false,
     "start_time": "2023-11-16T17:06:04.930622",
     "status": "completed"
    },
    "tags": []
   },
   "outputs": [
    {
     "name": "stdout",
     "output_type": "stream",
     "text": [
      "              A  B\n",
      "first second      \n",
      "X     1       1  3\n",
      "      2       2  4\n"
     ]
    }
   ],
   "source": [
    "# Stacking a DataFrame with Multi-level Index\n",
    "data = {\n",
    "    'A': [1, 2],\n",
    "    'B': [3, 4]\n",
    "}\n",
    "\n",
    "index = pd.MultiIndex.from_tuples([('X', 1), ('X', 2)], names=['first', 'second'])\n",
    "\n",
    "df = pd.DataFrame(data, index=index)\n",
    "print(df)\n"
   ]
  },
  {
   "cell_type": "code",
   "execution_count": 440,
   "id": "89820957",
   "metadata": {
    "execution": {
     "iopub.execute_input": "2023-11-16T17:06:05.443712Z",
     "iopub.status.busy": "2023-11-16T17:06:05.443086Z",
     "iopub.status.idle": "2023-11-16T17:06:05.449330Z",
     "shell.execute_reply": "2023-11-16T17:06:05.448502Z"
    },
    "papermill": {
     "duration": 0.174942,
     "end_time": "2023-11-16T17:06:05.451328",
     "exception": false,
     "start_time": "2023-11-16T17:06:05.276386",
     "status": "completed"
    },
    "tags": []
   },
   "outputs": [
    {
     "name": "stdout",
     "output_type": "stream",
     "text": [
      "first  second   \n",
      "X      1       A    1\n",
      "               B    3\n",
      "       2       A    2\n",
      "               B    4\n",
      "dtype: int64\n"
     ]
    }
   ],
   "source": [
    "stacked = df.stack()\n",
    "print(stacked)\n"
   ]
  },
  {
   "cell_type": "code",
   "execution_count": 441,
   "id": "69155fa4",
   "metadata": {
    "execution": {
     "iopub.execute_input": "2023-11-16T17:06:05.776412Z",
     "iopub.status.busy": "2023-11-16T17:06:05.776009Z",
     "iopub.status.idle": "2023-11-16T17:06:05.781727Z",
     "shell.execute_reply": "2023-11-16T17:06:05.780832Z"
    },
    "papermill": {
     "duration": 0.170458,
     "end_time": "2023-11-16T17:06:05.783639",
     "exception": false,
     "start_time": "2023-11-16T17:06:05.613181",
     "status": "completed"
    },
    "tags": []
   },
   "outputs": [],
   "source": [
    "#  Basic Grouping and Aggregation\n",
    "import pandas as pd\n",
    "\n",
    "# Sample DataFrame\n",
    "data = {\n",
    "    'Category': ['A', 'B', 'A', 'B', 'A'],\n",
    "    'Value': [10, 15, 20, 25, 30]\n",
    "}\n",
    "\n",
    "df = pd.DataFrame(data)\n",
    "\n",
    "\n",
    "\n"
   ]
  },
  {
   "cell_type": "code",
   "execution_count": 442,
   "id": "faa69314",
   "metadata": {
    "execution": {
     "iopub.execute_input": "2023-11-16T17:06:06.155839Z",
     "iopub.status.busy": "2023-11-16T17:06:06.155411Z",
     "iopub.status.idle": "2023-11-16T17:06:06.163370Z",
     "shell.execute_reply": "2023-11-16T17:06:06.162424Z"
    },
    "papermill": {
     "duration": 0.221693,
     "end_time": "2023-11-16T17:06:06.165398",
     "exception": false,
     "start_time": "2023-11-16T17:06:05.943705",
     "status": "completed"
    },
    "tags": []
   },
   "outputs": [
    {
     "name": "stdout",
     "output_type": "stream",
     "text": [
      "          Value\n",
      "Category       \n",
      "A            60\n",
      "B            40\n"
     ]
    }
   ],
   "source": [
    "\n",
    "\n",
    "# Grouping by 'Category' and calculating the sum\n",
    "grouped = df.groupby('Category').sum()\n",
    "print(grouped)"
   ]
  },
  {
   "cell_type": "code",
   "execution_count": 443,
   "id": "0b3f87a3",
   "metadata": {
    "execution": {
     "iopub.execute_input": "2023-11-16T17:06:06.490574Z",
     "iopub.status.busy": "2023-11-16T17:06:06.490217Z",
     "iopub.status.idle": "2023-11-16T17:06:06.501785Z",
     "shell.execute_reply": "2023-11-16T17:06:06.500816Z"
    },
    "papermill": {
     "duration": 0.176656,
     "end_time": "2023-11-16T17:06:06.504402",
     "exception": false,
     "start_time": "2023-11-16T17:06:06.327746",
     "status": "completed"
    },
    "tags": []
   },
   "outputs": [
    {
     "name": "stdout",
     "output_type": "stream",
     "text": [
      "         Value          \n",
      "           sum  mean max\n",
      "Category                \n",
      "A           60  20.0  30\n",
      "B           40  20.0  25\n"
     ]
    }
   ],
   "source": [
    "\n",
    "# Grouping by 'Category' and applying multiple aggregation functions\n",
    "grouped_multi = df.groupby('Category').agg({'Value': ['sum', 'mean', 'max']})\n",
    "print(grouped_multi)\n",
    "\n",
    "\n",
    "# # select sum(value) , mean(value), max(value)\n",
    "# from df\n",
    "# group by category ,"
   ]
  },
  {
   "cell_type": "code",
   "execution_count": 444,
   "id": "92678519",
   "metadata": {
    "execution": {
     "iopub.execute_input": "2023-11-16T17:06:06.849028Z",
     "iopub.status.busy": "2023-11-16T17:06:06.848178Z",
     "iopub.status.idle": "2023-11-16T17:06:06.863128Z",
     "shell.execute_reply": "2023-11-16T17:06:06.861873Z"
    },
    "papermill": {
     "duration": 0.183145,
     "end_time": "2023-11-16T17:06:06.865258",
     "exception": false,
     "start_time": "2023-11-16T17:06:06.682113",
     "status": "completed"
    },
    "tags": []
   },
   "outputs": [
    {
     "name": "stdout",
     "output_type": "stream",
     "text": [
      "                     Value          \n",
      "                       sum  mean max\n",
      "Category Subcategory                \n",
      "A        X              60  20.0  30\n",
      "B        Y              40  20.0  25\n"
     ]
    }
   ],
   "source": [
    "# # select sum(value) , mean(value), max(value)\n",
    "# from df\n",
    "# group by category , sub category\n",
    "\n",
    "# Grouping by multiple columns and calculating the mean\n",
    "data_multi_col = {\n",
    "    'Category': ['A', 'B', 'A', 'B', 'A'],\n",
    "    'Subcategory': ['X', 'Y', 'X', 'Y', 'X'],\n",
    "    'Value': [10, 15, 20, 25, 30]\n",
    "}\n",
    "\n",
    "df_multi_col = pd.DataFrame(data_multi_col)\n",
    "\n",
    "grouped_multi_col = df_multi_col.groupby(['Category', 'Subcategory']).agg({'Value': ['sum', 'mean', 'max']})\n",
    "print(grouped_multi_col)"
   ]
  },
  {
   "cell_type": "code",
   "execution_count": 445,
   "id": "e1aca95b",
   "metadata": {
    "execution": {
     "iopub.execute_input": "2023-11-16T17:06:07.201728Z",
     "iopub.status.busy": "2023-11-16T17:06:07.200940Z",
     "iopub.status.idle": "2023-11-16T17:06:07.208930Z",
     "shell.execute_reply": "2023-11-16T17:06:07.208065Z"
    },
    "papermill": {
     "duration": 0.174275,
     "end_time": "2023-11-16T17:06:07.211403",
     "exception": false,
     "start_time": "2023-11-16T17:06:07.037128",
     "status": "completed"
    },
    "tags": []
   },
   "outputs": [
    {
     "name": "stdout",
     "output_type": "stream",
     "text": [
      "Category\n",
      "A    20\n",
      "B    10\n",
      "dtype: int64\n"
     ]
    }
   ],
   "source": [
    "#  Applying Custom Functions\n",
    "\n",
    "# Applying a custom function during grouping\n",
    "def custom_function(group):\n",
    "    return group['Value'].max() - group['Value'].min()\n",
    "\n",
    "custom_result = df.groupby('Category').apply(custom_function)\n",
    "print(custom_result)"
   ]
  },
  {
   "cell_type": "code",
   "execution_count": 446,
   "id": "8e9ffb05",
   "metadata": {
    "execution": {
     "iopub.execute_input": "2023-11-16T17:06:07.551504Z",
     "iopub.status.busy": "2023-11-16T17:06:07.550827Z",
     "iopub.status.idle": "2023-11-16T17:06:07.560377Z",
     "shell.execute_reply": "2023-11-16T17:06:07.559469Z"
    },
    "papermill": {
     "duration": 0.174948,
     "end_time": "2023-11-16T17:06:07.562491",
     "exception": false,
     "start_time": "2023-11-16T17:06:07.387543",
     "status": "completed"
    },
    "tags": []
   },
   "outputs": [
    {
     "name": "stdout",
     "output_type": "stream",
     "text": [
      "Category   \n",
      "A         0   -1.000000\n",
      "          2    0.000000\n",
      "          4    1.000000\n",
      "B         1   -0.707107\n",
      "          3    0.707107\n",
      "Name: Value, dtype: float64\n"
     ]
    }
   ],
   "source": [
    "#  Grouping and Transformation\n",
    "\n",
    "# Transforming data based on groups\n",
    "normalized = df.groupby('Category')['Value'].apply(lambda x: (x - x.mean()) / x.std())\n",
    "print(normalized)"
   ]
  },
  {
   "cell_type": "code",
   "execution_count": 447,
   "id": "b21f1f2f",
   "metadata": {
    "execution": {
     "iopub.execute_input": "2023-11-16T17:06:07.891221Z",
     "iopub.status.busy": "2023-11-16T17:06:07.890892Z",
     "iopub.status.idle": "2023-11-16T17:06:07.900563Z",
     "shell.execute_reply": "2023-11-16T17:06:07.899497Z"
    },
    "papermill": {
     "duration": 0.174885,
     "end_time": "2023-11-16T17:06:07.902726",
     "exception": false,
     "start_time": "2023-11-16T17:06:07.727841",
     "status": "completed"
    },
    "tags": []
   },
   "outputs": [
    {
     "name": "stdout",
     "output_type": "stream",
     "text": [
      "              Values\n",
      "First Second        \n",
      "A     1           10\n",
      "      2           20\n",
      "B     1           30\n",
      "      2           40\n"
     ]
    }
   ],
   "source": [
    "\n",
    "# Creating a DataFrame with Multi-level Index\n",
    "\n",
    "import pandas as pd\n",
    "\n",
    "# Creating a DataFrame with a MultiIndex\n",
    "arrays = [\n",
    "    ['A', 'A', 'B', 'B'],\n",
    "    [1, 2, 1, 2]\n",
    "]\n",
    "\n",
    "index = pd.MultiIndex.from_arrays(arrays, names=('First', 'Second'))\n",
    "\n",
    "data = {'Values': [10, 20, 30, 40]}\n",
    "df = pd.DataFrame(data, index=index)\n",
    "print(df)\n",
    "\n",
    "\n"
   ]
  },
  {
   "cell_type": "code",
   "execution_count": 448,
   "id": "44f0538f",
   "metadata": {
    "execution": {
     "iopub.execute_input": "2023-11-16T17:06:08.262658Z",
     "iopub.status.busy": "2023-11-16T17:06:08.261937Z",
     "iopub.status.idle": "2023-11-16T17:06:08.269001Z",
     "shell.execute_reply": "2023-11-16T17:06:08.267839Z"
    },
    "papermill": {
     "duration": 0.184738,
     "end_time": "2023-11-16T17:06:08.271725",
     "exception": false,
     "start_time": "2023-11-16T17:06:08.086987",
     "status": "completed"
    },
    "tags": []
   },
   "outputs": [
    {
     "name": "stdout",
     "output_type": "stream",
     "text": [
      "        Values\n",
      "Second        \n",
      "1           10\n",
      "2           20\n"
     ]
    }
   ],
   "source": [
    "# Accessing Data with MultiIndex\n",
    "# Accessing a specific level of the index:\n",
    "# Accessing data from the first level of the index\n",
    "print(df.loc['A'])\n"
   ]
  },
  {
   "cell_type": "code",
   "execution_count": 449,
   "id": "e64b044c",
   "metadata": {
    "execution": {
     "iopub.execute_input": "2023-11-16T17:06:08.637539Z",
     "iopub.status.busy": "2023-11-16T17:06:08.636641Z",
     "iopub.status.idle": "2023-11-16T17:06:08.643885Z",
     "shell.execute_reply": "2023-11-16T17:06:08.642861Z"
    },
    "papermill": {
     "duration": 0.178242,
     "end_time": "2023-11-16T17:06:08.645784",
     "exception": false,
     "start_time": "2023-11-16T17:06:08.467542",
     "status": "completed"
    },
    "tags": []
   },
   "outputs": [
    {
     "name": "stdout",
     "output_type": "stream",
     "text": [
      "Values    10\n",
      "Name: (A, 1), dtype: int64\n"
     ]
    }
   ],
   "source": [
    "# Accessing data from a specific index combination\n",
    "print(df.loc[('A', 1)])\n"
   ]
  },
  {
   "cell_type": "code",
   "execution_count": 450,
   "id": "b9dd47b0",
   "metadata": {
    "execution": {
     "iopub.execute_input": "2023-11-16T17:06:09.025483Z",
     "iopub.status.busy": "2023-11-16T17:06:09.024391Z",
     "iopub.status.idle": "2023-11-16T17:06:09.035683Z",
     "shell.execute_reply": "2023-11-16T17:06:09.034562Z"
    },
    "papermill": {
     "duration": 0.228775,
     "end_time": "2023-11-16T17:06:09.037854",
     "exception": false,
     "start_time": "2023-11-16T17:06:08.809079",
     "status": "completed"
    },
    "tags": []
   },
   "outputs": [
    {
     "name": "stdout",
     "output_type": "stream",
     "text": [
      "              Values\n",
      "First Second        \n",
      "X     1           10\n",
      "      2           20\n",
      "Y     1           30\n",
      "      2           40\n"
     ]
    }
   ],
   "source": [
    "# Creating MultiIndex from Cartesian Product\n",
    "# Creating a MultiIndex from Cartesian product of two lists\n",
    "index = pd.MultiIndex.from_product([['X', 'Y'], [1, 2]], names=('First', 'Second'))\n",
    "df_cartesian = pd.DataFrame({'Values': [10, 20, 30, 40]}, index=index)\n",
    "print(df_cartesian)"
   ]
  },
  {
   "cell_type": "code",
   "execution_count": 451,
   "id": "743a6eba",
   "metadata": {
    "execution": {
     "iopub.execute_input": "2023-11-16T17:06:09.373438Z",
     "iopub.status.busy": "2023-11-16T17:06:09.372704Z",
     "iopub.status.idle": "2023-11-16T17:06:09.380778Z",
     "shell.execute_reply": "2023-11-16T17:06:09.379869Z"
    },
    "papermill": {
     "duration": 0.177138,
     "end_time": "2023-11-16T17:06:09.383386",
     "exception": false,
     "start_time": "2023-11-16T17:06:09.206248",
     "status": "completed"
    },
    "tags": []
   },
   "outputs": [
    {
     "name": "stdout",
     "output_type": "stream",
     "text": [
      "       Values    \n",
      "Second      1   2\n",
      "First            \n",
      "A          10  20\n",
      "B          30  40\n"
     ]
    }
   ],
   "source": [
    "# Using unstack() and stack() to Reshape Data\n",
    "# Unstacking to pivot a level of the index into columns:\n",
    "# Unstacking the DataFrame\n",
    "unstacked = df.unstack()\n",
    "print(unstacked)\n"
   ]
  },
  {
   "cell_type": "code",
   "execution_count": 452,
   "id": "e67e402a",
   "metadata": {
    "execution": {
     "iopub.execute_input": "2023-11-16T17:06:09.720393Z",
     "iopub.status.busy": "2023-11-16T17:06:09.719690Z",
     "iopub.status.idle": "2023-11-16T17:06:09.729158Z",
     "shell.execute_reply": "2023-11-16T17:06:09.728250Z"
    },
    "papermill": {
     "duration": 0.174971,
     "end_time": "2023-11-16T17:06:09.731959",
     "exception": false,
     "start_time": "2023-11-16T17:06:09.556988",
     "status": "completed"
    },
    "tags": []
   },
   "outputs": [
    {
     "name": "stdout",
     "output_type": "stream",
     "text": [
      "              Values\n",
      "First Second        \n",
      "A     1           10\n",
      "      2           20\n",
      "B     1           30\n",
      "      2           40\n"
     ]
    }
   ],
   "source": [
    "# Stacking to convert columns back into a MultiIndex:\n",
    "# Stacking the DataFrame\n",
    "stacked = unstacked.stack()\n",
    "print(stacked)\n"
   ]
  },
  {
   "cell_type": "code",
   "execution_count": 453,
   "id": "9ada2690",
   "metadata": {
    "execution": {
     "iopub.execute_input": "2023-11-16T17:06:10.075104Z",
     "iopub.status.busy": "2023-11-16T17:06:10.074404Z",
     "iopub.status.idle": "2023-11-16T17:06:10.084121Z",
     "shell.execute_reply": "2023-11-16T17:06:10.083255Z"
    },
    "papermill": {
     "duration": 0.178099,
     "end_time": "2023-11-16T17:06:10.086865",
     "exception": false,
     "start_time": "2023-11-16T17:06:09.908766",
     "status": "completed"
    },
    "tags": []
   },
   "outputs": [
    {
     "name": "stdout",
     "output_type": "stream",
     "text": [
      "              Values\n",
      "First Second        \n",
      "A     1           10\n",
      "      2           20\n",
      "B     1           30\n",
      "      2           40\n"
     ]
    }
   ],
   "source": [
    "# Creating MultiIndex from DataFrame columns\n",
    "# Creating a MultiIndex from DataFrame columns\n",
    "data = {\n",
    "    'First': ['A', 'A', 'B', 'B'],\n",
    "    'Second': [1, 2, 1, 2],\n",
    "    'Values': [10, 20, 30, 40]\n",
    "}\n",
    "\n",
    "df_from_columns = pd.DataFrame(data)\n",
    "df_from_columns.set_index(['First', 'Second'], inplace=True)\n",
    "print(df_from_columns)\n"
   ]
  },
  {
   "cell_type": "code",
   "execution_count": 454,
   "id": "504713a5",
   "metadata": {
    "execution": {
     "iopub.execute_input": "2023-11-16T17:06:10.420314Z",
     "iopub.status.busy": "2023-11-16T17:06:10.419666Z",
     "iopub.status.idle": "2023-11-16T17:06:10.423955Z",
     "shell.execute_reply": "2023-11-16T17:06:10.423108Z"
    },
    "papermill": {
     "duration": 0.170213,
     "end_time": "2023-11-16T17:06:10.425980",
     "exception": false,
     "start_time": "2023-11-16T17:06:10.255767",
     "status": "completed"
    },
    "tags": []
   },
   "outputs": [],
   "source": [
    "\n",
    "# date time functions\n",
    "\n"
   ]
  },
  {
   "cell_type": "code",
   "execution_count": 455,
   "id": "700f4cdf",
   "metadata": {
    "execution": {
     "iopub.execute_input": "2023-11-16T17:06:10.753319Z",
     "iopub.status.busy": "2023-11-16T17:06:10.752524Z",
     "iopub.status.idle": "2023-11-16T17:06:10.767200Z",
     "shell.execute_reply": "2023-11-16T17:06:10.766266Z"
    },
    "papermill": {
     "duration": 0.177928,
     "end_time": "2023-11-16T17:06:10.769546",
     "exception": false,
     "start_time": "2023-11-16T17:06:10.591618",
     "status": "completed"
    },
    "tags": []
   },
   "outputs": [
    {
     "name": "stdout",
     "output_type": "stream",
     "text": [
      "        Date Formatted_Date\n",
      "0 2023-01-01          Jan--\n",
      "1 2023-01-02          Jan--\n",
      "2 2023-01-03          Jan--\n",
      "3 2023-01-04          Jan--\n",
      "4 2023-01-05          Jan--\n"
     ]
    }
   ],
   "source": [
    "import pandas as pd\n",
    "# str_to_date\n",
    "# Sample DataFrame\n",
    "data = {\n",
    "    'Date': pd.date_range('2023-01-01', periods=5)\n",
    "}\n",
    "df = pd.DataFrame(data)\n",
    "df\n",
    "# # Formatting dates in a DataFrame\n",
    "df['Formatted_Date'] = df['Date'].dt.strftime('%b--')\n",
    "print(df)\n"
   ]
  },
  {
   "cell_type": "code",
   "execution_count": 456,
   "id": "6595228c",
   "metadata": {
    "execution": {
     "iopub.execute_input": "2023-11-16T17:06:11.125257Z",
     "iopub.status.busy": "2023-11-16T17:06:11.124916Z",
     "iopub.status.idle": "2023-11-16T17:06:11.135350Z",
     "shell.execute_reply": "2023-11-16T17:06:11.134450Z"
    },
    "papermill": {
     "duration": 0.185865,
     "end_time": "2023-11-16T17:06:11.137695",
     "exception": false,
     "start_time": "2023-11-16T17:06:10.951830",
     "status": "completed"
    },
    "tags": []
   },
   "outputs": [
    {
     "name": "stdout",
     "output_type": "stream",
     "text": [
      "        Date Formatted_Date  Year Month Day\n",
      "0 2023-01-01          Jan--  2023   Jan  01\n",
      "1 2023-01-02          Jan--  2023   Jan  02\n",
      "2 2023-01-03          Jan--  2023   Jan  03\n",
      "3 2023-01-04          Jan--  2023   Jan  04\n",
      "4 2023-01-05          Jan--  2023   Jan  05\n"
     ]
    }
   ],
   "source": [
    "#  Formatting Specific Date Components\n",
    "# Formatting specific date components\n",
    "df['Year'] = df['Date'].dt.strftime('%Y')\n",
    "df['Month'] = df['Date'].dt.strftime('%b')\n",
    "df['Day'] = df['Date'].dt.strftime('%d')\n",
    "print(df)\n"
   ]
  },
  {
   "cell_type": "code",
   "execution_count": 457,
   "id": "6de5cb21",
   "metadata": {
    "execution": {
     "iopub.execute_input": "2023-11-16T17:06:11.476183Z",
     "iopub.status.busy": "2023-11-16T17:06:11.475794Z",
     "iopub.status.idle": "2023-11-16T17:06:11.489451Z",
     "shell.execute_reply": "2023-11-16T17:06:11.488484Z"
    },
    "papermill": {
     "duration": 0.192512,
     "end_time": "2023-11-16T17:06:11.492282",
     "exception": false,
     "start_time": "2023-11-16T17:06:11.299770",
     "status": "completed"
    },
    "tags": []
   },
   "outputs": [
    {
     "name": "stdout",
     "output_type": "stream",
     "text": [
      "        Date Formatted_Date  Year Month Day           Date_Time  \\\n",
      "0 2023-01-01          Jan--  2023   Jan  01 2023-01-01 12:00:00   \n",
      "1 2023-01-02          Jan--  2023   Jan  02 2023-01-01 12:00:00   \n",
      "2 2023-01-03          Jan--  2023   Jan  03 2023-01-01 12:00:00   \n",
      "3 2023-01-04          Jan--  2023   Jan  04 2023-01-01 12:00:00   \n",
      "4 2023-01-05          Jan--  2023   Jan  05 2023-01-01 12:00:00   \n",
      "\n",
      "  Formatted_Date_Time  \n",
      "0          2023 12:00  \n",
      "1          2023 12:00  \n",
      "2          2023 12:00  \n",
      "3          2023 12:00  \n",
      "4          2023 12:00  \n"
     ]
    }
   ],
   "source": [
    "# Formatting Date and Time\n",
    "# Formatting date and time\n",
    "df['Date_Time'] = pd.to_datetime('2023-01-01 12:00:00')\n",
    "df['Formatted_Date_Time'] = df['Date_Time'].dt.strftime('%Y %H:%M')\n",
    "print(df)\n"
   ]
  },
  {
   "cell_type": "code",
   "execution_count": 458,
   "id": "f387f33b",
   "metadata": {
    "execution": {
     "iopub.execute_input": "2023-11-16T17:06:11.878743Z",
     "iopub.status.busy": "2023-11-16T17:06:11.878115Z",
     "iopub.status.idle": "2023-11-16T17:06:11.888237Z",
     "shell.execute_reply": "2023-11-16T17:06:11.887383Z"
    },
    "papermill": {
     "duration": 0.222079,
     "end_time": "2023-11-16T17:06:11.891096",
     "exception": false,
     "start_time": "2023-11-16T17:06:11.669017",
     "status": "completed"
    },
    "tags": []
   },
   "outputs": [
    {
     "name": "stdout",
     "output_type": "stream",
     "text": [
      "        Date Formatted_Date  Year Month Day           Date_Time  \\\n",
      "0 2023-01-01          Jan--  2023   Jan  01 2023-01-01 12:00:00   \n",
      "1 2023-01-02          Jan--  2023   Jan  02 2023-01-01 12:00:00   \n",
      "2 2023-01-03          Jan--  2023   Jan  03 2023-01-01 12:00:00   \n",
      "3 2023-01-04          Jan--  2023   Jan  04 2023-01-01 12:00:00   \n",
      "4 2023-01-05          Jan--  2023   Jan  05 2023-01-01 12:00:00   \n",
      "\n",
      "  Formatted_Date_Time                                      Custom_Format  \n",
      "0          2023 12:00  Day: Sunday, Date: 01, Month: January, Year: 2023  \n",
      "1          2023 12:00  Day: Monday, Date: 02, Month: January, Year: 2023  \n",
      "2          2023 12:00  Day: Tuesday, Date: 03, Month: January, Year: ...  \n",
      "3          2023 12:00  Day: Wednesday, Date: 04, Month: January, Year...  \n",
      "4          2023 12:00  Day: Thursday, Date: 05, Month: January, Year:...  \n"
     ]
    }
   ],
   "source": [
    "# Custom Date Formatting\n",
    "# Custom date formatting\n",
    "df['Custom_Format'] = df['Date'].dt.strftime('Day: %A, Date: %d, Month: %B, Year: %Y')\n",
    "print(df)\n"
   ]
  },
  {
   "cell_type": "code",
   "execution_count": null,
   "id": "e9de8fea",
   "metadata": {
    "papermill": {
     "duration": 0.18508,
     "end_time": "2023-11-16T17:06:12.244099",
     "exception": false,
     "start_time": "2023-11-16T17:06:12.059019",
     "status": "completed"
    },
    "tags": []
   },
   "outputs": [],
   "source": []
  },
  {
   "cell_type": "code",
   "execution_count": null,
   "id": "70f40277",
   "metadata": {
    "papermill": {
     "duration": 0.171304,
     "end_time": "2023-11-16T17:06:12.597768",
     "exception": false,
     "start_time": "2023-11-16T17:06:12.426464",
     "status": "completed"
    },
    "tags": []
   },
   "outputs": [],
   "source": []
  },
  {
   "cell_type": "code",
   "execution_count": null,
   "id": "28e0abf5",
   "metadata": {
    "papermill": {
     "duration": 0.163928,
     "end_time": "2023-11-16T17:06:12.925906",
     "exception": false,
     "start_time": "2023-11-16T17:06:12.761978",
     "status": "completed"
    },
    "tags": []
   },
   "outputs": [],
   "source": []
  },
  {
   "cell_type": "code",
   "execution_count": null,
   "id": "05f50b1c",
   "metadata": {
    "papermill": {
     "duration": 0.16104,
     "end_time": "2023-11-16T17:06:13.255398",
     "exception": false,
     "start_time": "2023-11-16T17:06:13.094358",
     "status": "completed"
    },
    "tags": []
   },
   "outputs": [],
   "source": []
  },
  {
   "cell_type": "code",
   "execution_count": null,
   "id": "d643adf2",
   "metadata": {
    "papermill": {
     "duration": 0.159152,
     "end_time": "2023-11-16T17:06:13.576895",
     "exception": false,
     "start_time": "2023-11-16T17:06:13.417743",
     "status": "completed"
    },
    "tags": []
   },
   "outputs": [],
   "source": []
  },
  {
   "cell_type": "code",
   "execution_count": null,
   "id": "53725f7a",
   "metadata": {
    "papermill": {
     "duration": 0.179857,
     "end_time": "2023-11-16T17:06:13.927002",
     "exception": false,
     "start_time": "2023-11-16T17:06:13.747145",
     "status": "completed"
    },
    "tags": []
   },
   "outputs": [],
   "source": []
  }
 ],
 "metadata": {
  "kaggle": {
   "accelerator": "nvidiaTeslaT4",
   "dataSources": [
    {
     "datasetId": 3436702,
     "sourceId": 5998998,
     "sourceType": "datasetVersion"
    }
   ],
   "dockerImageVersionId": 30558,
   "isGpuEnabled": true,
   "isInternetEnabled": true,
   "language": "python",
   "sourceType": "notebook"
  },
  "kernelspec": {
   "display_name": "Python 3",
   "language": "python",
   "name": "python3"
  },
  "language_info": {
   "codemirror_mode": {
    "name": "ipython",
    "version": 3
   },
   "file_extension": ".py",
   "mimetype": "text/x-python",
   "name": "python",
   "nbconvert_exporter": "python",
   "pygments_lexer": "ipython3",
   "version": "3.10.12"
  },
  "papermill": {
   "default_parameters": {},
   "duration": 157.950106,
   "end_time": "2023-11-16T17:06:14.415702",
   "environment_variables": {},
   "exception": null,
   "input_path": "__notebook__.ipynb",
   "output_path": "__notebook__.ipynb",
   "parameters": {},
   "start_time": "2023-11-16T17:03:36.465596",
   "version": "2.4.0"
  }
 },
 "nbformat": 4,
 "nbformat_minor": 5
}
