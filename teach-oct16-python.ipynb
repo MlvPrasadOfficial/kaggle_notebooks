{
 "cells": [
  {
   "cell_type": "code",
   "execution_count": 1,
   "id": "812773c1",
   "metadata": {
    "_cell_guid": "b1076dfc-b9ad-4769-8c92-a6c4dae69d19",
    "_uuid": "8f2839f25d086af736a60e9eeb907d3b93b6e0e5",
    "execution": {
     "iopub.execute_input": "2023-11-11T17:26:10.838632Z",
     "iopub.status.busy": "2023-11-11T17:26:10.838242Z",
     "iopub.status.idle": "2023-11-11T17:26:10.849291Z",
     "shell.execute_reply": "2023-11-11T17:26:10.848336Z"
    },
    "papermill": {
     "duration": 0.106903,
     "end_time": "2023-11-11T17:26:10.851249",
     "exception": false,
     "start_time": "2023-11-11T17:26:10.744346",
     "status": "completed"
    },
    "tags": []
   },
   "outputs": [
    {
     "name": "stdout",
     "output_type": "stream",
     "text": [
      "6\n",
      "---\n",
      "6\n"
     ]
    }
   ],
   "source": [
    "a = 6\n",
    "print(a)\n",
    "print(\"---\")\n",
    "# a = \n",
    "print(a)"
   ]
  },
  {
   "cell_type": "code",
   "execution_count": null,
   "id": "9dabeeb5",
   "metadata": {
    "papermill": {
     "duration": 0.095121,
     "end_time": "2023-11-11T17:26:11.040233",
     "exception": false,
     "start_time": "2023-11-11T17:26:10.945112",
     "status": "completed"
    },
    "tags": []
   },
   "outputs": [],
   "source": []
  },
  {
   "cell_type": "code",
   "execution_count": 2,
   "id": "ad407049",
   "metadata": {
    "execution": {
     "iopub.execute_input": "2023-11-11T17:26:11.230492Z",
     "iopub.status.busy": "2023-11-11T17:26:11.229693Z",
     "iopub.status.idle": "2023-11-11T17:26:11.234001Z",
     "shell.execute_reply": "2023-11-11T17:26:11.233145Z"
    },
    "papermill": {
     "duration": 0.100607,
     "end_time": "2023-11-11T17:26:11.235853",
     "exception": false,
     "start_time": "2023-11-11T17:26:11.135246",
     "status": "completed"
    },
    "tags": []
   },
   "outputs": [],
   "source": [
    "a = 7"
   ]
  },
  {
   "cell_type": "markdown",
   "id": "c5600eef",
   "metadata": {
    "papermill": {
     "duration": 0.090424,
     "end_time": "2023-11-11T17:26:11.418698",
     "exception": false,
     "start_time": "2023-11-11T17:26:11.328274",
     "status": "completed"
    },
    "tags": []
   },
   "source": [
    "# data types"
   ]
  },
  {
   "cell_type": "code",
   "execution_count": 3,
   "id": "d3820826",
   "metadata": {
    "execution": {
     "iopub.execute_input": "2023-11-11T17:26:11.606776Z",
     "iopub.status.busy": "2023-11-11T17:26:11.606004Z",
     "iopub.status.idle": "2023-11-11T17:26:11.610753Z",
     "shell.execute_reply": "2023-11-11T17:26:11.609879Z"
    },
    "papermill": {
     "duration": 0.102977,
     "end_time": "2023-11-11T17:26:11.612811",
     "exception": false,
     "start_time": "2023-11-11T17:26:11.509834",
     "status": "completed"
    },
    "tags": []
   },
   "outputs": [
    {
     "name": "stdout",
     "output_type": "stream",
     "text": [
      "6\n"
     ]
    }
   ],
   "source": [
    "abhi = 6\n",
    "\n",
    "print(abhi)"
   ]
  },
  {
   "cell_type": "code",
   "execution_count": 4,
   "id": "553be927",
   "metadata": {
    "execution": {
     "iopub.execute_input": "2023-11-11T17:26:11.798147Z",
     "iopub.status.busy": "2023-11-11T17:26:11.797834Z",
     "iopub.status.idle": "2023-11-11T17:26:11.804460Z",
     "shell.execute_reply": "2023-11-11T17:26:11.803548Z"
    },
    "papermill": {
     "duration": 0.101054,
     "end_time": "2023-11-11T17:26:11.806501",
     "exception": false,
     "start_time": "2023-11-11T17:26:11.705447",
     "status": "completed"
    },
    "tags": []
   },
   "outputs": [
    {
     "data": {
      "text/plain": [
       "int"
      ]
     },
     "execution_count": 4,
     "metadata": {},
     "output_type": "execute_result"
    }
   ],
   "source": [
    "type(abhi)"
   ]
  },
  {
   "cell_type": "code",
   "execution_count": 5,
   "id": "853cefbb",
   "metadata": {
    "execution": {
     "iopub.execute_input": "2023-11-11T17:26:11.990476Z",
     "iopub.status.busy": "2023-11-11T17:26:11.989846Z",
     "iopub.status.idle": "2023-11-11T17:26:11.995556Z",
     "shell.execute_reply": "2023-11-11T17:26:11.994699Z"
    },
    "papermill": {
     "duration": 0.09808,
     "end_time": "2023-11-11T17:26:11.997493",
     "exception": false,
     "start_time": "2023-11-11T17:26:11.899413",
     "status": "completed"
    },
    "tags": []
   },
   "outputs": [
    {
     "data": {
      "text/plain": [
       "float"
      ]
     },
     "execution_count": 5,
     "metadata": {},
     "output_type": "execute_result"
    }
   ],
   "source": [
    "swa = 6.5\n",
    "type(swa)"
   ]
  },
  {
   "cell_type": "code",
   "execution_count": 6,
   "id": "454f8221",
   "metadata": {
    "execution": {
     "iopub.execute_input": "2023-11-11T17:26:12.183281Z",
     "iopub.status.busy": "2023-11-11T17:26:12.182744Z",
     "iopub.status.idle": "2023-11-11T17:26:12.188272Z",
     "shell.execute_reply": "2023-11-11T17:26:12.187532Z"
    },
    "papermill": {
     "duration": 0.100721,
     "end_time": "2023-11-11T17:26:12.190300",
     "exception": false,
     "start_time": "2023-11-11T17:26:12.089579",
     "status": "completed"
    },
    "tags": []
   },
   "outputs": [
    {
     "data": {
      "text/plain": [
       "complex"
      ]
     },
     "execution_count": 6,
     "metadata": {},
     "output_type": "execute_result"
    }
   ],
   "source": [
    "pra = 3 + 2j\n",
    "\n",
    "type(pra)"
   ]
  },
  {
   "cell_type": "code",
   "execution_count": 7,
   "id": "a7c69409",
   "metadata": {
    "execution": {
     "iopub.execute_input": "2023-11-11T17:26:12.380747Z",
     "iopub.status.busy": "2023-11-11T17:26:12.380429Z",
     "iopub.status.idle": "2023-11-11T17:26:12.386279Z",
     "shell.execute_reply": "2023-11-11T17:26:12.385463Z"
    },
    "papermill": {
     "duration": 0.103362,
     "end_time": "2023-11-11T17:26:12.388174",
     "exception": false,
     "start_time": "2023-11-11T17:26:12.284812",
     "status": "completed"
    },
    "tags": []
   },
   "outputs": [
    {
     "data": {
      "text/plain": [
       "str"
      ]
     },
     "execution_count": 7,
     "metadata": {},
     "output_type": "execute_result"
    }
   ],
   "source": [
    "x = \"sush\"\n",
    "type(x)"
   ]
  },
  {
   "cell_type": "code",
   "execution_count": 8,
   "id": "920c91ba",
   "metadata": {
    "execution": {
     "iopub.execute_input": "2023-11-11T17:26:12.582755Z",
     "iopub.status.busy": "2023-11-11T17:26:12.581977Z",
     "iopub.status.idle": "2023-11-11T17:26:12.588008Z",
     "shell.execute_reply": "2023-11-11T17:26:12.587183Z"
    },
    "papermill": {
     "duration": 0.106715,
     "end_time": "2023-11-11T17:26:12.590121",
     "exception": false,
     "start_time": "2023-11-11T17:26:12.483406",
     "status": "completed"
    },
    "tags": []
   },
   "outputs": [
    {
     "data": {
      "text/plain": [
       "int"
      ]
     },
     "execution_count": 8,
     "metadata": {},
     "output_type": "execute_result"
    }
   ],
   "source": [
    "z = 44 - 5 - 14\n",
    "z\n",
    "type(z)"
   ]
  },
  {
   "cell_type": "code",
   "execution_count": 9,
   "id": "a8f9aef2",
   "metadata": {
    "execution": {
     "iopub.execute_input": "2023-11-11T17:26:12.778010Z",
     "iopub.status.busy": "2023-11-11T17:26:12.777228Z",
     "iopub.status.idle": "2023-11-11T17:26:12.782997Z",
     "shell.execute_reply": "2023-11-11T17:26:12.782144Z"
    },
    "papermill": {
     "duration": 0.100674,
     "end_time": "2023-11-11T17:26:12.784977",
     "exception": false,
     "start_time": "2023-11-11T17:26:12.684303",
     "status": "completed"
    },
    "tags": []
   },
   "outputs": [
    {
     "data": {
      "text/plain": [
       "'44-5-14'"
      ]
     },
     "execution_count": 9,
     "metadata": {},
     "output_type": "execute_result"
    }
   ],
   "source": [
    "y = \"44-5-14\"\n",
    "y"
   ]
  },
  {
   "cell_type": "code",
   "execution_count": 10,
   "id": "9d6cd12e",
   "metadata": {
    "execution": {
     "iopub.execute_input": "2023-11-11T17:26:12.973327Z",
     "iopub.status.busy": "2023-11-11T17:26:12.973007Z",
     "iopub.status.idle": "2023-11-11T17:26:12.978593Z",
     "shell.execute_reply": "2023-11-11T17:26:12.977700Z"
    },
    "papermill": {
     "duration": 0.10166,
     "end_time": "2023-11-11T17:26:12.980729",
     "exception": false,
     "start_time": "2023-11-11T17:26:12.879069",
     "status": "completed"
    },
    "tags": []
   },
   "outputs": [
    {
     "data": {
      "text/plain": [
       "str"
      ]
     },
     "execution_count": 10,
     "metadata": {},
     "output_type": "execute_result"
    }
   ],
   "source": [
    "type(y)"
   ]
  },
  {
   "cell_type": "markdown",
   "id": "c866c81b",
   "metadata": {
    "papermill": {
     "duration": 0.096397,
     "end_time": "2023-11-11T17:26:13.171586",
     "exception": false,
     "start_time": "2023-11-11T17:26:13.075189",
     "status": "completed"
    },
    "tags": []
   },
   "source": [
    "# type casting"
   ]
  },
  {
   "cell_type": "code",
   "execution_count": 11,
   "id": "a4f37731",
   "metadata": {
    "execution": {
     "iopub.execute_input": "2023-11-11T17:26:13.369679Z",
     "iopub.status.busy": "2023-11-11T17:26:13.369018Z",
     "iopub.status.idle": "2023-11-11T17:26:13.374844Z",
     "shell.execute_reply": "2023-11-11T17:26:13.373998Z"
    },
    "papermill": {
     "duration": 0.107845,
     "end_time": "2023-11-11T17:26:13.377031",
     "exception": false,
     "start_time": "2023-11-11T17:26:13.269186",
     "status": "completed"
    },
    "tags": []
   },
   "outputs": [
    {
     "data": {
      "text/plain": [
       "float"
      ]
     },
     "execution_count": 11,
     "metadata": {},
     "output_type": "execute_result"
    }
   ],
   "source": [
    "a = 6.5\n",
    "type(a)"
   ]
  },
  {
   "cell_type": "code",
   "execution_count": 12,
   "id": "a46236eb",
   "metadata": {
    "execution": {
     "iopub.execute_input": "2023-11-11T17:26:13.563859Z",
     "iopub.status.busy": "2023-11-11T17:26:13.563526Z",
     "iopub.status.idle": "2023-11-11T17:26:13.569320Z",
     "shell.execute_reply": "2023-11-11T17:26:13.568538Z"
    },
    "papermill": {
     "duration": 0.102196,
     "end_time": "2023-11-11T17:26:13.571388",
     "exception": false,
     "start_time": "2023-11-11T17:26:13.469192",
     "status": "completed"
    },
    "tags": []
   },
   "outputs": [
    {
     "data": {
      "text/plain": [
       "6"
      ]
     },
     "execution_count": 12,
     "metadata": {},
     "output_type": "execute_result"
    }
   ],
   "source": [
    "b = int(a)\n",
    "b"
   ]
  },
  {
   "cell_type": "code",
   "execution_count": 13,
   "id": "8a5a7a6b",
   "metadata": {
    "execution": {
     "iopub.execute_input": "2023-11-11T17:26:13.760131Z",
     "iopub.status.busy": "2023-11-11T17:26:13.759824Z",
     "iopub.status.idle": "2023-11-11T17:26:13.765642Z",
     "shell.execute_reply": "2023-11-11T17:26:13.764757Z"
    },
    "papermill": {
     "duration": 0.102951,
     "end_time": "2023-11-11T17:26:13.767905",
     "exception": false,
     "start_time": "2023-11-11T17:26:13.664954",
     "status": "completed"
    },
    "tags": []
   },
   "outputs": [
    {
     "data": {
      "text/plain": [
       "int"
      ]
     },
     "execution_count": 13,
     "metadata": {},
     "output_type": "execute_result"
    }
   ],
   "source": [
    "type(b)"
   ]
  },
  {
   "cell_type": "code",
   "execution_count": 14,
   "id": "0e49e67a",
   "metadata": {
    "execution": {
     "iopub.execute_input": "2023-11-11T17:26:13.982052Z",
     "iopub.status.busy": "2023-11-11T17:26:13.981675Z",
     "iopub.status.idle": "2023-11-11T17:26:13.988090Z",
     "shell.execute_reply": "2023-11-11T17:26:13.987096Z"
    },
    "papermill": {
     "duration": 0.116067,
     "end_time": "2023-11-11T17:26:13.990213",
     "exception": false,
     "start_time": "2023-11-11T17:26:13.874146",
     "status": "completed"
    },
    "tags": []
   },
   "outputs": [
    {
     "data": {
      "text/plain": [
       "6.0"
      ]
     },
     "execution_count": 14,
     "metadata": {},
     "output_type": "execute_result"
    }
   ],
   "source": [
    "c = float(b)\n",
    "c"
   ]
  },
  {
   "cell_type": "code",
   "execution_count": 15,
   "id": "cf7e3a04",
   "metadata": {
    "execution": {
     "iopub.execute_input": "2023-11-11T17:26:14.217043Z",
     "iopub.status.busy": "2023-11-11T17:26:14.215965Z",
     "iopub.status.idle": "2023-11-11T17:26:14.223319Z",
     "shell.execute_reply": "2023-11-11T17:26:14.222365Z"
    },
    "papermill": {
     "duration": 0.120697,
     "end_time": "2023-11-11T17:26:14.225472",
     "exception": false,
     "start_time": "2023-11-11T17:26:14.104775",
     "status": "completed"
    },
    "tags": []
   },
   "outputs": [
    {
     "data": {
      "text/plain": [
       "float"
      ]
     },
     "execution_count": 15,
     "metadata": {},
     "output_type": "execute_result"
    }
   ],
   "source": [
    "type(c)"
   ]
  },
  {
   "cell_type": "code",
   "execution_count": 16,
   "id": "0d2175bf",
   "metadata": {
    "execution": {
     "iopub.execute_input": "2023-11-11T17:26:14.445896Z",
     "iopub.status.busy": "2023-11-11T17:26:14.444965Z",
     "iopub.status.idle": "2023-11-11T17:26:14.451505Z",
     "shell.execute_reply": "2023-11-11T17:26:14.450475Z"
    },
    "papermill": {
     "duration": 0.111291,
     "end_time": "2023-11-11T17:26:14.453564",
     "exception": false,
     "start_time": "2023-11-11T17:26:14.342273",
     "status": "completed"
    },
    "tags": []
   },
   "outputs": [
    {
     "data": {
      "text/plain": [
       "'667'"
      ]
     },
     "execution_count": 16,
     "metadata": {},
     "output_type": "execute_result"
    }
   ],
   "source": [
    "g = \"66\"\n",
    "h = \"7\"\n",
    "\n",
    "g + h"
   ]
  },
  {
   "cell_type": "code",
   "execution_count": 17,
   "id": "498b3e6a",
   "metadata": {
    "execution": {
     "iopub.execute_input": "2023-11-11T17:26:14.648347Z",
     "iopub.status.busy": "2023-11-11T17:26:14.647646Z",
     "iopub.status.idle": "2023-11-11T17:26:14.654222Z",
     "shell.execute_reply": "2023-11-11T17:26:14.653290Z"
    },
    "papermill": {
     "duration": 0.105929,
     "end_time": "2023-11-11T17:26:14.656077",
     "exception": false,
     "start_time": "2023-11-11T17:26:14.550148",
     "status": "completed"
    },
    "tags": []
   },
   "outputs": [
    {
     "data": {
      "text/plain": [
       "73"
      ]
     },
     "execution_count": 17,
     "metadata": {},
     "output_type": "execute_result"
    }
   ],
   "source": [
    "i = 66\n",
    "j = 7\n",
    "i + j"
   ]
  },
  {
   "cell_type": "code",
   "execution_count": 18,
   "id": "f8099cb8",
   "metadata": {
    "execution": {
     "iopub.execute_input": "2023-11-11T17:26:14.855747Z",
     "iopub.status.busy": "2023-11-11T17:26:14.854862Z",
     "iopub.status.idle": "2023-11-11T17:26:14.861888Z",
     "shell.execute_reply": "2023-11-11T17:26:14.861016Z"
    },
    "papermill": {
     "duration": 0.111571,
     "end_time": "2023-11-11T17:26:14.864078",
     "exception": false,
     "start_time": "2023-11-11T17:26:14.752507",
     "status": "completed"
    },
    "tags": []
   },
   "outputs": [
    {
     "data": {
      "text/plain": [
       "'667'"
      ]
     },
     "execution_count": 18,
     "metadata": {},
     "output_type": "execute_result"
    }
   ],
   "source": [
    "p = \"66\"\n",
    "q = 7\n",
    "# \"667\"\n",
    "p + str(q)"
   ]
  },
  {
   "cell_type": "code",
   "execution_count": 19,
   "id": "823ca73d",
   "metadata": {
    "execution": {
     "iopub.execute_input": "2023-11-11T17:26:15.063727Z",
     "iopub.status.busy": "2023-11-11T17:26:15.063021Z",
     "iopub.status.idle": "2023-11-11T17:26:15.069363Z",
     "shell.execute_reply": "2023-11-11T17:26:15.068430Z"
    },
    "papermill": {
     "duration": 0.111203,
     "end_time": "2023-11-11T17:26:15.071606",
     "exception": false,
     "start_time": "2023-11-11T17:26:14.960403",
     "status": "completed"
    },
    "tags": []
   },
   "outputs": [
    {
     "data": {
      "text/plain": [
       "73"
      ]
     },
     "execution_count": 19,
     "metadata": {},
     "output_type": "execute_result"
    }
   ],
   "source": [
    "p = \"66\"\n",
    "q = 7\n",
    "int(p) + q"
   ]
  },
  {
   "cell_type": "code",
   "execution_count": 20,
   "id": "ac09f9db",
   "metadata": {
    "execution": {
     "iopub.execute_input": "2023-11-11T17:26:15.277695Z",
     "iopub.status.busy": "2023-11-11T17:26:15.277273Z",
     "iopub.status.idle": "2023-11-11T17:26:15.284468Z",
     "shell.execute_reply": "2023-11-11T17:26:15.283645Z"
    },
    "papermill": {
     "duration": 0.110301,
     "end_time": "2023-11-11T17:26:15.286440",
     "exception": false,
     "start_time": "2023-11-11T17:26:15.176139",
     "status": "completed"
    },
    "tags": []
   },
   "outputs": [
    {
     "data": {
      "text/plain": [
       "8"
      ]
     },
     "execution_count": 20,
     "metadata": {},
     "output_type": "execute_result"
    }
   ],
   "source": [
    "a = 7\n",
    "b = 8\n",
    "b"
   ]
  },
  {
   "cell_type": "code",
   "execution_count": 21,
   "id": "d42cc520",
   "metadata": {
    "execution": {
     "iopub.execute_input": "2023-11-11T17:26:15.488997Z",
     "iopub.status.busy": "2023-11-11T17:26:15.488636Z",
     "iopub.status.idle": "2023-11-11T17:26:15.494537Z",
     "shell.execute_reply": "2023-11-11T17:26:15.493598Z"
    },
    "papermill": {
     "duration": 0.113652,
     "end_time": "2023-11-11T17:26:15.496488",
     "exception": false,
     "start_time": "2023-11-11T17:26:15.382836",
     "status": "completed"
    },
    "tags": []
   },
   "outputs": [
    {
     "data": {
      "text/plain": [
       "8"
      ]
     },
     "execution_count": 21,
     "metadata": {},
     "output_type": "execute_result"
    }
   ],
   "source": [
    "a,b = 7,8\n",
    "b"
   ]
  },
  {
   "cell_type": "code",
   "execution_count": 22,
   "id": "9d159e47",
   "metadata": {
    "execution": {
     "iopub.execute_input": "2023-11-11T17:26:15.688809Z",
     "iopub.status.busy": "2023-11-11T17:26:15.688498Z",
     "iopub.status.idle": "2023-11-11T17:26:15.694026Z",
     "shell.execute_reply": "2023-11-11T17:26:15.693137Z"
    },
    "papermill": {
     "duration": 0.101013,
     "end_time": "2023-11-11T17:26:15.696035",
     "exception": false,
     "start_time": "2023-11-11T17:26:15.595022",
     "status": "completed"
    },
    "tags": []
   },
   "outputs": [
    {
     "data": {
      "text/plain": [
       "7"
      ]
     },
     "execution_count": 22,
     "metadata": {},
     "output_type": "execute_result"
    }
   ],
   "source": [
    "abhi7 = 7\n",
    "abhi7"
   ]
  },
  {
   "cell_type": "code",
   "execution_count": 23,
   "id": "25c74536",
   "metadata": {
    "execution": {
     "iopub.execute_input": "2023-11-11T17:26:15.929697Z",
     "iopub.status.busy": "2023-11-11T17:26:15.928828Z",
     "iopub.status.idle": "2023-11-11T17:26:15.933990Z",
     "shell.execute_reply": "2023-11-11T17:26:15.932988Z"
    },
    "papermill": {
     "duration": 0.104393,
     "end_time": "2023-11-11T17:26:15.936435",
     "exception": false,
     "start_time": "2023-11-11T17:26:15.832042",
     "status": "completed"
    },
    "tags": []
   },
   "outputs": [
    {
     "name": "stdout",
     "output_type": "stream",
     "text": [
      "Sally\n"
     ]
    }
   ],
   "source": [
    "x = 4       # x is of type int\n",
    "x = \"Sally\" # x is now of type str\n",
    "print(x)"
   ]
  },
  {
   "cell_type": "code",
   "execution_count": 24,
   "id": "d3668378",
   "metadata": {
    "execution": {
     "iopub.execute_input": "2023-11-11T17:26:16.133860Z",
     "iopub.status.busy": "2023-11-11T17:26:16.133246Z",
     "iopub.status.idle": "2023-11-11T17:26:16.138556Z",
     "shell.execute_reply": "2023-11-11T17:26:16.137428Z"
    },
    "papermill": {
     "duration": 0.10553,
     "end_time": "2023-11-11T17:26:16.140579",
     "exception": false,
     "start_time": "2023-11-11T17:26:16.035049",
     "status": "completed"
    },
    "tags": []
   },
   "outputs": [
    {
     "name": "stdout",
     "output_type": "stream",
     "text": [
      "4\n"
     ]
    }
   ],
   "source": [
    "x = 4       # x is of type int\n",
    "print(x)\n",
    "x = \"Sally\" # x is now of type str\n"
   ]
  },
  {
   "cell_type": "code",
   "execution_count": 25,
   "id": "44d13eaa",
   "metadata": {
    "execution": {
     "iopub.execute_input": "2023-11-11T17:26:16.332075Z",
     "iopub.status.busy": "2023-11-11T17:26:16.331672Z",
     "iopub.status.idle": "2023-11-11T17:26:16.336278Z",
     "shell.execute_reply": "2023-11-11T17:26:16.335425Z"
    },
    "papermill": {
     "duration": 0.102639,
     "end_time": "2023-11-11T17:26:16.338549",
     "exception": false,
     "start_time": "2023-11-11T17:26:16.235910",
     "status": "completed"
    },
    "tags": []
   },
   "outputs": [
    {
     "name": "stdout",
     "output_type": "stream",
     "text": [
      "7\n"
     ]
    }
   ],
   "source": [
    "# o/p\n",
    "a= 7\n",
    "print(a)"
   ]
  },
  {
   "cell_type": "code",
   "execution_count": 26,
   "id": "58538c68",
   "metadata": {
    "execution": {
     "iopub.execute_input": "2023-11-11T17:26:16.530276Z",
     "iopub.status.busy": "2023-11-11T17:26:16.529975Z",
     "iopub.status.idle": "2023-11-11T17:26:16.533793Z",
     "shell.execute_reply": "2023-11-11T17:26:16.533033Z"
    },
    "papermill": {
     "duration": 0.09978,
     "end_time": "2023-11-11T17:26:16.535702",
     "exception": false,
     "start_time": "2023-11-11T17:26:16.435922",
     "status": "completed"
    },
    "tags": []
   },
   "outputs": [],
   "source": [
    "# a = int(input())\n",
    "# print(a+1)"
   ]
  },
  {
   "cell_type": "code",
   "execution_count": 27,
   "id": "a11c3484",
   "metadata": {
    "execution": {
     "iopub.execute_input": "2023-11-11T17:26:16.732063Z",
     "iopub.status.busy": "2023-11-11T17:26:16.731207Z",
     "iopub.status.idle": "2023-11-11T17:26:16.736778Z",
     "shell.execute_reply": "2023-11-11T17:26:16.735916Z"
    },
    "papermill": {
     "duration": 0.10237,
     "end_time": "2023-11-11T17:26:16.738827",
     "exception": false,
     "start_time": "2023-11-11T17:26:16.636457",
     "status": "completed"
    },
    "tags": []
   },
   "outputs": [
    {
     "data": {
      "text/plain": [
       "13"
      ]
     },
     "execution_count": 27,
     "metadata": {},
     "output_type": "execute_result"
    }
   ],
   "source": [
    "a = 6 + 7\n",
    "a"
   ]
  },
  {
   "cell_type": "code",
   "execution_count": 28,
   "id": "3c2287f3",
   "metadata": {
    "execution": {
     "iopub.execute_input": "2023-11-11T17:26:16.926409Z",
     "iopub.status.busy": "2023-11-11T17:26:16.926099Z",
     "iopub.status.idle": "2023-11-11T17:26:16.932578Z",
     "shell.execute_reply": "2023-11-11T17:26:16.931487Z"
    },
    "papermill": {
     "duration": 0.103419,
     "end_time": "2023-11-11T17:26:16.934570",
     "exception": false,
     "start_time": "2023-11-11T17:26:16.831151",
     "status": "completed"
    },
    "tags": []
   },
   "outputs": [
    {
     "data": {
      "text/plain": [
       "'da50'"
      ]
     },
     "execution_count": 28,
     "metadata": {},
     "output_type": "execute_result"
    }
   ],
   "source": [
    "b = \"da\" + str(50)\n",
    "b"
   ]
  },
  {
   "cell_type": "code",
   "execution_count": 29,
   "id": "f2f35de4",
   "metadata": {
    "execution": {
     "iopub.execute_input": "2023-11-11T17:26:17.127180Z",
     "iopub.status.busy": "2023-11-11T17:26:17.126620Z",
     "iopub.status.idle": "2023-11-11T17:26:17.131737Z",
     "shell.execute_reply": "2023-11-11T17:26:17.130769Z"
    },
    "papermill": {
     "duration": 0.101832,
     "end_time": "2023-11-11T17:26:17.133709",
     "exception": false,
     "start_time": "2023-11-11T17:26:17.031877",
     "status": "completed"
    },
    "tags": []
   },
   "outputs": [
    {
     "name": "stdout",
     "output_type": "stream",
     "text": [
      "5 John\n"
     ]
    }
   ],
   "source": [
    "x = 5\n",
    "y = \"John\"\n",
    "print(x, y)"
   ]
  },
  {
   "cell_type": "code",
   "execution_count": 30,
   "id": "b544bf3d",
   "metadata": {
    "execution": {
     "iopub.execute_input": "2023-11-11T17:26:17.326524Z",
     "iopub.status.busy": "2023-11-11T17:26:17.326195Z",
     "iopub.status.idle": "2023-11-11T17:26:17.330211Z",
     "shell.execute_reply": "2023-11-11T17:26:17.329431Z"
    },
    "papermill": {
     "duration": 0.104125,
     "end_time": "2023-11-11T17:26:17.332250",
     "exception": false,
     "start_time": "2023-11-11T17:26:17.228125",
     "status": "completed"
    },
    "tags": []
   },
   "outputs": [],
   "source": [
    "a = 6 \n",
    "a = 7"
   ]
  },
  {
   "cell_type": "markdown",
   "id": "ed385c98",
   "metadata": {
    "papermill": {
     "duration": 0.100763,
     "end_time": "2023-11-11T17:26:17.527088",
     "exception": false,
     "start_time": "2023-11-11T17:26:17.426325",
     "status": "completed"
    },
    "tags": []
   },
   "source": [
    "# data  structures\n"
   ]
  },
  {
   "cell_type": "markdown",
   "id": "7445ec91",
   "metadata": {
    "papermill": {
     "duration": 0.096003,
     "end_time": "2023-11-11T17:26:17.724266",
     "exception": false,
     "start_time": "2023-11-11T17:26:17.628263",
     "status": "completed"
    },
    "tags": []
   },
   "source": [
    "# List  [ ] "
   ]
  },
  {
   "cell_type": "code",
   "execution_count": 31,
   "id": "f833e7e4",
   "metadata": {
    "execution": {
     "iopub.execute_input": "2023-11-11T17:26:17.914848Z",
     "iopub.status.busy": "2023-11-11T17:26:17.914511Z",
     "iopub.status.idle": "2023-11-11T17:26:17.920429Z",
     "shell.execute_reply": "2023-11-11T17:26:17.919553Z"
    },
    "papermill": {
     "duration": 0.103146,
     "end_time": "2023-11-11T17:26:17.922605",
     "exception": false,
     "start_time": "2023-11-11T17:26:17.819459",
     "status": "completed"
    },
    "tags": []
   },
   "outputs": [
    {
     "data": {
      "text/plain": [
       "11"
      ]
     },
     "execution_count": 31,
     "metadata": {},
     "output_type": "execute_result"
    }
   ],
   "source": [
    "a = [11,28,34,45,57]\n",
    "a[0]\n",
    "\n"
   ]
  },
  {
   "cell_type": "code",
   "execution_count": 32,
   "id": "69acd1e7",
   "metadata": {
    "execution": {
     "iopub.execute_input": "2023-11-11T17:26:18.113395Z",
     "iopub.status.busy": "2023-11-11T17:26:18.113094Z",
     "iopub.status.idle": "2023-11-11T17:26:18.118912Z",
     "shell.execute_reply": "2023-11-11T17:26:18.118040Z"
    },
    "papermill": {
     "duration": 0.102548,
     "end_time": "2023-11-11T17:26:18.121212",
     "exception": false,
     "start_time": "2023-11-11T17:26:18.018664",
     "status": "completed"
    },
    "tags": []
   },
   "outputs": [
    {
     "data": {
      "text/plain": [
       "57"
      ]
     },
     "execution_count": 32,
     "metadata": {},
     "output_type": "execute_result"
    }
   ],
   "source": [
    "a[4]"
   ]
  },
  {
   "cell_type": "code",
   "execution_count": 33,
   "id": "794f50c4",
   "metadata": {
    "execution": {
     "iopub.execute_input": "2023-11-11T17:26:18.313619Z",
     "iopub.status.busy": "2023-11-11T17:26:18.313329Z",
     "iopub.status.idle": "2023-11-11T17:26:18.318903Z",
     "shell.execute_reply": "2023-11-11T17:26:18.318012Z"
    },
    "papermill": {
     "duration": 0.105456,
     "end_time": "2023-11-11T17:26:18.320844",
     "exception": false,
     "start_time": "2023-11-11T17:26:18.215388",
     "status": "completed"
    },
    "tags": []
   },
   "outputs": [
    {
     "data": {
      "text/plain": [
       "[11, 28, 34, 45, 57]"
      ]
     },
     "execution_count": 33,
     "metadata": {},
     "output_type": "execute_result"
    }
   ],
   "source": [
    "a"
   ]
  },
  {
   "cell_type": "code",
   "execution_count": 34,
   "id": "3233d52a",
   "metadata": {
    "execution": {
     "iopub.execute_input": "2023-11-11T17:26:18.514092Z",
     "iopub.status.busy": "2023-11-11T17:26:18.513774Z",
     "iopub.status.idle": "2023-11-11T17:26:18.519680Z",
     "shell.execute_reply": "2023-11-11T17:26:18.518745Z"
    },
    "papermill": {
     "duration": 0.106114,
     "end_time": "2023-11-11T17:26:18.521622",
     "exception": false,
     "start_time": "2023-11-11T17:26:18.415508",
     "status": "completed"
    },
    "tags": []
   },
   "outputs": [
    {
     "data": {
      "text/plain": [
       "57"
      ]
     },
     "execution_count": 34,
     "metadata": {},
     "output_type": "execute_result"
    }
   ],
   "source": [
    "a[-1]"
   ]
  },
  {
   "cell_type": "code",
   "execution_count": 35,
   "id": "9da18851",
   "metadata": {
    "execution": {
     "iopub.execute_input": "2023-11-11T17:26:18.717313Z",
     "iopub.status.busy": "2023-11-11T17:26:18.716583Z",
     "iopub.status.idle": "2023-11-11T17:26:18.722641Z",
     "shell.execute_reply": "2023-11-11T17:26:18.721762Z"
    },
    "papermill": {
     "duration": 0.102871,
     "end_time": "2023-11-11T17:26:18.724771",
     "exception": false,
     "start_time": "2023-11-11T17:26:18.621900",
     "status": "completed"
    },
    "tags": []
   },
   "outputs": [
    {
     "data": {
      "text/plain": [
       "11"
      ]
     },
     "execution_count": 35,
     "metadata": {},
     "output_type": "execute_result"
    }
   ],
   "source": [
    "a[-5]"
   ]
  },
  {
   "cell_type": "code",
   "execution_count": 36,
   "id": "1e5ff888",
   "metadata": {
    "execution": {
     "iopub.execute_input": "2023-11-11T17:26:18.954501Z",
     "iopub.status.busy": "2023-11-11T17:26:18.954156Z",
     "iopub.status.idle": "2023-11-11T17:26:18.960140Z",
     "shell.execute_reply": "2023-11-11T17:26:18.959240Z"
    },
    "papermill": {
     "duration": 0.14287,
     "end_time": "2023-11-11T17:26:18.962146",
     "exception": false,
     "start_time": "2023-11-11T17:26:18.819276",
     "status": "completed"
    },
    "tags": []
   },
   "outputs": [
    {
     "data": {
      "text/plain": [
       "[28, 34, 45]"
      ]
     },
     "execution_count": 36,
     "metadata": {},
     "output_type": "execute_result"
    }
   ],
   "source": [
    "a[1:4]"
   ]
  },
  {
   "cell_type": "code",
   "execution_count": 37,
   "id": "bf929ed5",
   "metadata": {
    "execution": {
     "iopub.execute_input": "2023-11-11T17:26:19.158847Z",
     "iopub.status.busy": "2023-11-11T17:26:19.158123Z",
     "iopub.status.idle": "2023-11-11T17:26:19.162842Z",
     "shell.execute_reply": "2023-11-11T17:26:19.161844Z"
    },
    "papermill": {
     "duration": 0.105885,
     "end_time": "2023-11-11T17:26:19.164695",
     "exception": false,
     "start_time": "2023-11-11T17:26:19.058810",
     "status": "completed"
    },
    "tags": []
   },
   "outputs": [],
   "source": [
    "a = [10,20,30,40 ,50,60,70,80,90]"
   ]
  },
  {
   "cell_type": "code",
   "execution_count": 38,
   "id": "639384f4",
   "metadata": {
    "execution": {
     "iopub.execute_input": "2023-11-11T17:26:19.378930Z",
     "iopub.status.busy": "2023-11-11T17:26:19.378544Z",
     "iopub.status.idle": "2023-11-11T17:26:19.385764Z",
     "shell.execute_reply": "2023-11-11T17:26:19.384706Z"
    },
    "papermill": {
     "duration": 0.121415,
     "end_time": "2023-11-11T17:26:19.388408",
     "exception": false,
     "start_time": "2023-11-11T17:26:19.266993",
     "status": "completed"
    },
    "tags": []
   },
   "outputs": [
    {
     "data": {
      "text/plain": [
       "[20, 30, 40, 50, 60, 70, 80]"
      ]
     },
     "execution_count": 38,
     "metadata": {},
     "output_type": "execute_result"
    }
   ],
   "source": [
    "# 2 property index - list = zero -index \n",
    "a[1:8]"
   ]
  },
  {
   "cell_type": "code",
   "execution_count": 39,
   "id": "be0b72ad",
   "metadata": {
    "execution": {
     "iopub.execute_input": "2023-11-11T17:26:19.586555Z",
     "iopub.status.busy": "2023-11-11T17:26:19.586236Z",
     "iopub.status.idle": "2023-11-11T17:26:19.592425Z",
     "shell.execute_reply": "2023-11-11T17:26:19.591443Z"
    },
    "papermill": {
     "duration": 0.107079,
     "end_time": "2023-11-11T17:26:19.594538",
     "exception": false,
     "start_time": "2023-11-11T17:26:19.487459",
     "status": "completed"
    },
    "tags": []
   },
   "outputs": [
    {
     "data": {
      "text/plain": [
       "[20, 40, 60, 80]"
      ]
     },
     "execution_count": 39,
     "metadata": {},
     "output_type": "execute_result"
    }
   ],
   "source": [
    "a[1:8:2]"
   ]
  },
  {
   "cell_type": "code",
   "execution_count": 40,
   "id": "3641d8af",
   "metadata": {
    "execution": {
     "iopub.execute_input": "2023-11-11T17:26:19.792469Z",
     "iopub.status.busy": "2023-11-11T17:26:19.791585Z",
     "iopub.status.idle": "2023-11-11T17:26:19.797963Z",
     "shell.execute_reply": "2023-11-11T17:26:19.797041Z"
    },
    "papermill": {
     "duration": 0.108504,
     "end_time": "2023-11-11T17:26:19.799973",
     "exception": false,
     "start_time": "2023-11-11T17:26:19.691469",
     "status": "completed"
    },
    "tags": []
   },
   "outputs": [
    {
     "data": {
      "text/plain": [
       "[20, 50, 80]"
      ]
     },
     "execution_count": 40,
     "metadata": {},
     "output_type": "execute_result"
    }
   ],
   "source": [
    "a[1:-1:3]"
   ]
  },
  {
   "cell_type": "code",
   "execution_count": 41,
   "id": "a4696179",
   "metadata": {
    "execution": {
     "iopub.execute_input": "2023-11-11T17:26:19.992679Z",
     "iopub.status.busy": "2023-11-11T17:26:19.992112Z",
     "iopub.status.idle": "2023-11-11T17:26:19.998003Z",
     "shell.execute_reply": "2023-11-11T17:26:19.997027Z"
    },
    "papermill": {
     "duration": 0.104511,
     "end_time": "2023-11-11T17:26:20.000170",
     "exception": false,
     "start_time": "2023-11-11T17:26:19.895659",
     "status": "completed"
    },
    "tags": []
   },
   "outputs": [
    {
     "data": {
      "text/plain": [
       "[10, 20, 30, 40, 50, 60, 70, 80, 90]"
      ]
     },
     "execution_count": 41,
     "metadata": {},
     "output_type": "execute_result"
    }
   ],
   "source": [
    "# property of 1 of list \n",
    "# mutabilty\n",
    "\n",
    "a "
   ]
  },
  {
   "cell_type": "code",
   "execution_count": 42,
   "id": "ee34fc87",
   "metadata": {
    "execution": {
     "iopub.execute_input": "2023-11-11T17:26:20.202914Z",
     "iopub.status.busy": "2023-11-11T17:26:20.201887Z",
     "iopub.status.idle": "2023-11-11T17:26:20.208299Z",
     "shell.execute_reply": "2023-11-11T17:26:20.207327Z"
    },
    "papermill": {
     "duration": 0.111766,
     "end_time": "2023-11-11T17:26:20.210407",
     "exception": false,
     "start_time": "2023-11-11T17:26:20.098641",
     "status": "completed"
    },
    "tags": []
   },
   "outputs": [
    {
     "data": {
      "text/plain": [
       "10"
      ]
     },
     "execution_count": 42,
     "metadata": {},
     "output_type": "execute_result"
    }
   ],
   "source": [
    "a[0]"
   ]
  },
  {
   "cell_type": "code",
   "execution_count": 43,
   "id": "372eab7e",
   "metadata": {
    "execution": {
     "iopub.execute_input": "2023-11-11T17:26:20.423337Z",
     "iopub.status.busy": "2023-11-11T17:26:20.422992Z",
     "iopub.status.idle": "2023-11-11T17:26:20.429980Z",
     "shell.execute_reply": "2023-11-11T17:26:20.428899Z"
    },
    "papermill": {
     "duration": 0.113939,
     "end_time": "2023-11-11T17:26:20.432023",
     "exception": false,
     "start_time": "2023-11-11T17:26:20.318084",
     "status": "completed"
    },
    "tags": []
   },
   "outputs": [
    {
     "data": {
      "text/plain": [
       "[900, 20, 30, 40, 50, 60, 70, 80, 90]"
      ]
     },
     "execution_count": 43,
     "metadata": {},
     "output_type": "execute_result"
    }
   ],
   "source": [
    "a[0] = 900\n",
    "a"
   ]
  },
  {
   "cell_type": "code",
   "execution_count": 44,
   "id": "528ac23d",
   "metadata": {
    "execution": {
     "iopub.execute_input": "2023-11-11T17:26:20.639649Z",
     "iopub.status.busy": "2023-11-11T17:26:20.639348Z",
     "iopub.status.idle": "2023-11-11T17:26:20.645307Z",
     "shell.execute_reply": "2023-11-11T17:26:20.644378Z"
    },
    "papermill": {
     "duration": 0.111742,
     "end_time": "2023-11-11T17:26:20.647287",
     "exception": false,
     "start_time": "2023-11-11T17:26:20.535545",
     "status": "completed"
    },
    "tags": []
   },
   "outputs": [
    {
     "data": {
      "text/plain": [
       "list"
      ]
     },
     "execution_count": 44,
     "metadata": {},
     "output_type": "execute_result"
    }
   ],
   "source": [
    "type(a)"
   ]
  },
  {
   "cell_type": "markdown",
   "id": "ef1f4302",
   "metadata": {
    "papermill": {
     "duration": 0.102475,
     "end_time": "2023-11-11T17:26:20.850978",
     "exception": false,
     "start_time": "2023-11-11T17:26:20.748503",
     "status": "completed"
    },
    "tags": []
   },
   "source": [
    "# tuple  (  )"
   ]
  },
  {
   "cell_type": "code",
   "execution_count": 45,
   "id": "6f0ac14c",
   "metadata": {
    "execution": {
     "iopub.execute_input": "2023-11-11T17:26:21.052646Z",
     "iopub.status.busy": "2023-11-11T17:26:21.052159Z",
     "iopub.status.idle": "2023-11-11T17:26:21.059292Z",
     "shell.execute_reply": "2023-11-11T17:26:21.058151Z"
    },
    "papermill": {
     "duration": 0.109883,
     "end_time": "2023-11-11T17:26:21.061422",
     "exception": false,
     "start_time": "2023-11-11T17:26:20.951539",
     "status": "completed"
    },
    "tags": []
   },
   "outputs": [
    {
     "data": {
      "text/plain": [
       "10"
      ]
     },
     "execution_count": 45,
     "metadata": {},
     "output_type": "execute_result"
    }
   ],
   "source": [
    "b = (10,20,30,40,50)\n",
    "b[0]"
   ]
  },
  {
   "cell_type": "code",
   "execution_count": 46,
   "id": "5c10650d",
   "metadata": {
    "execution": {
     "iopub.execute_input": "2023-11-11T17:26:21.258468Z",
     "iopub.status.busy": "2023-11-11T17:26:21.257901Z",
     "iopub.status.idle": "2023-11-11T17:26:21.263608Z",
     "shell.execute_reply": "2023-11-11T17:26:21.262784Z"
    },
    "papermill": {
     "duration": 0.107526,
     "end_time": "2023-11-11T17:26:21.265451",
     "exception": false,
     "start_time": "2023-11-11T17:26:21.157925",
     "status": "completed"
    },
    "tags": []
   },
   "outputs": [
    {
     "data": {
      "text/plain": [
       "tuple"
      ]
     },
     "execution_count": 46,
     "metadata": {},
     "output_type": "execute_result"
    }
   ],
   "source": [
    "type(b)"
   ]
  },
  {
   "cell_type": "code",
   "execution_count": 47,
   "id": "b42294ef",
   "metadata": {
    "execution": {
     "iopub.execute_input": "2023-11-11T17:26:21.462918Z",
     "iopub.status.busy": "2023-11-11T17:26:21.462550Z",
     "iopub.status.idle": "2023-11-11T17:26:21.468351Z",
     "shell.execute_reply": "2023-11-11T17:26:21.467463Z"
    },
    "papermill": {
     "duration": 0.106579,
     "end_time": "2023-11-11T17:26:21.470386",
     "exception": false,
     "start_time": "2023-11-11T17:26:21.363807",
     "status": "completed"
    },
    "tags": []
   },
   "outputs": [
    {
     "data": {
      "text/plain": [
       "50"
      ]
     },
     "execution_count": 47,
     "metadata": {},
     "output_type": "execute_result"
    }
   ],
   "source": [
    "b[4]"
   ]
  },
  {
   "cell_type": "code",
   "execution_count": 48,
   "id": "ecd2c3ec",
   "metadata": {
    "execution": {
     "iopub.execute_input": "2023-11-11T17:26:21.666402Z",
     "iopub.status.busy": "2023-11-11T17:26:21.666092Z",
     "iopub.status.idle": "2023-11-11T17:26:21.671950Z",
     "shell.execute_reply": "2023-11-11T17:26:21.671109Z"
    },
    "papermill": {
     "duration": 0.104787,
     "end_time": "2023-11-11T17:26:21.673831",
     "exception": false,
     "start_time": "2023-11-11T17:26:21.569044",
     "status": "completed"
    },
    "tags": []
   },
   "outputs": [
    {
     "data": {
      "text/plain": [
       "50"
      ]
     },
     "execution_count": 48,
     "metadata": {},
     "output_type": "execute_result"
    }
   ],
   "source": [
    "b[-1]"
   ]
  },
  {
   "cell_type": "code",
   "execution_count": 49,
   "id": "8a276391",
   "metadata": {
    "execution": {
     "iopub.execute_input": "2023-11-11T17:26:21.870145Z",
     "iopub.status.busy": "2023-11-11T17:26:21.869857Z",
     "iopub.status.idle": "2023-11-11T17:26:21.873631Z",
     "shell.execute_reply": "2023-11-11T17:26:21.872782Z"
    },
    "papermill": {
     "duration": 0.104497,
     "end_time": "2023-11-11T17:26:21.875682",
     "exception": false,
     "start_time": "2023-11-11T17:26:21.771185",
     "status": "completed"
    },
    "tags": []
   },
   "outputs": [],
   "source": [
    "# property 2 of tuple - zero index "
   ]
  },
  {
   "cell_type": "code",
   "execution_count": 50,
   "id": "e62ea696",
   "metadata": {
    "execution": {
     "iopub.execute_input": "2023-11-11T17:26:22.074503Z",
     "iopub.status.busy": "2023-11-11T17:26:22.073784Z",
     "iopub.status.idle": "2023-11-11T17:26:22.077619Z",
     "shell.execute_reply": "2023-11-11T17:26:22.076778Z"
    },
    "papermill": {
     "duration": 0.105326,
     "end_time": "2023-11-11T17:26:22.079526",
     "exception": false,
     "start_time": "2023-11-11T17:26:21.974200",
     "status": "completed"
    },
    "tags": []
   },
   "outputs": [],
   "source": [
    "# b[0] = 10"
   ]
  },
  {
   "cell_type": "code",
   "execution_count": 51,
   "id": "d33c65cc",
   "metadata": {
    "execution": {
     "iopub.execute_input": "2023-11-11T17:26:22.274602Z",
     "iopub.status.busy": "2023-11-11T17:26:22.273770Z",
     "iopub.status.idle": "2023-11-11T17:26:22.277866Z",
     "shell.execute_reply": "2023-11-11T17:26:22.277002Z"
    },
    "papermill": {
     "duration": 0.105057,
     "end_time": "2023-11-11T17:26:22.279806",
     "exception": false,
     "start_time": "2023-11-11T17:26:22.174749",
     "status": "completed"
    },
    "tags": []
   },
   "outputs": [],
   "source": [
    "# property immutabilty - ypu cant change elements in a list"
   ]
  },
  {
   "cell_type": "code",
   "execution_count": 52,
   "id": "470fa2ed",
   "metadata": {
    "execution": {
     "iopub.execute_input": "2023-11-11T17:26:22.474785Z",
     "iopub.status.busy": "2023-11-11T17:26:22.474486Z",
     "iopub.status.idle": "2023-11-11T17:26:22.478375Z",
     "shell.execute_reply": "2023-11-11T17:26:22.477480Z"
    },
    "papermill": {
     "duration": 0.102069,
     "end_time": "2023-11-11T17:26:22.480359",
     "exception": false,
     "start_time": "2023-11-11T17:26:22.378290",
     "status": "completed"
    },
    "tags": []
   },
   "outputs": [],
   "source": [
    "# set "
   ]
  },
  {
   "cell_type": "markdown",
   "id": "c1882478",
   "metadata": {
    "papermill": {
     "duration": 0.096932,
     "end_time": "2023-11-11T17:26:22.674468",
     "exception": false,
     "start_time": "2023-11-11T17:26:22.577536",
     "status": "completed"
    },
    "tags": []
   },
   "source": [
    "{ }"
   ]
  },
  {
   "cell_type": "code",
   "execution_count": 53,
   "id": "f1ecc537",
   "metadata": {
    "execution": {
     "iopub.execute_input": "2023-11-11T17:26:22.911320Z",
     "iopub.status.busy": "2023-11-11T17:26:22.910442Z",
     "iopub.status.idle": "2023-11-11T17:26:22.914938Z",
     "shell.execute_reply": "2023-11-11T17:26:22.914076Z"
    },
    "papermill": {
     "duration": 0.147691,
     "end_time": "2023-11-11T17:26:22.916849",
     "exception": false,
     "start_time": "2023-11-11T17:26:22.769158",
     "status": "completed"
    },
    "tags": []
   },
   "outputs": [],
   "source": [
    "c = {10,20,30,40}"
   ]
  },
  {
   "cell_type": "code",
   "execution_count": 54,
   "id": "b155f6dc",
   "metadata": {
    "execution": {
     "iopub.execute_input": "2023-11-11T17:26:23.122458Z",
     "iopub.status.busy": "2023-11-11T17:26:23.122128Z",
     "iopub.status.idle": "2023-11-11T17:26:23.128159Z",
     "shell.execute_reply": "2023-11-11T17:26:23.127256Z"
    },
    "papermill": {
     "duration": 0.111072,
     "end_time": "2023-11-11T17:26:23.130080",
     "exception": false,
     "start_time": "2023-11-11T17:26:23.019008",
     "status": "completed"
    },
    "tags": []
   },
   "outputs": [
    {
     "data": {
      "text/plain": [
       "{10, 20, 30, 40}"
      ]
     },
     "execution_count": 54,
     "metadata": {},
     "output_type": "execute_result"
    }
   ],
   "source": [
    "c"
   ]
  },
  {
   "cell_type": "code",
   "execution_count": 55,
   "id": "529ff729",
   "metadata": {
    "execution": {
     "iopub.execute_input": "2023-11-11T17:26:23.323198Z",
     "iopub.status.busy": "2023-11-11T17:26:23.322593Z",
     "iopub.status.idle": "2023-11-11T17:26:23.326913Z",
     "shell.execute_reply": "2023-11-11T17:26:23.326123Z"
    },
    "papermill": {
     "duration": 0.103614,
     "end_time": "2023-11-11T17:26:23.329019",
     "exception": false,
     "start_time": "2023-11-11T17:26:23.225405",
     "status": "completed"
    },
    "tags": []
   },
   "outputs": [],
   "source": [
    "d = {10,20,10,20}"
   ]
  },
  {
   "cell_type": "code",
   "execution_count": 56,
   "id": "8b5b8d5e",
   "metadata": {
    "execution": {
     "iopub.execute_input": "2023-11-11T17:26:23.525447Z",
     "iopub.status.busy": "2023-11-11T17:26:23.524711Z",
     "iopub.status.idle": "2023-11-11T17:26:23.530301Z",
     "shell.execute_reply": "2023-11-11T17:26:23.529487Z"
    },
    "papermill": {
     "duration": 0.105491,
     "end_time": "2023-11-11T17:26:23.532236",
     "exception": false,
     "start_time": "2023-11-11T17:26:23.426745",
     "status": "completed"
    },
    "tags": []
   },
   "outputs": [
    {
     "data": {
      "text/plain": [
       "{10, 20}"
      ]
     },
     "execution_count": 56,
     "metadata": {},
     "output_type": "execute_result"
    }
   ],
   "source": [
    "d"
   ]
  },
  {
   "cell_type": "code",
   "execution_count": 57,
   "id": "0d6aa967",
   "metadata": {
    "execution": {
     "iopub.execute_input": "2023-11-11T17:26:23.733036Z",
     "iopub.status.busy": "2023-11-11T17:26:23.732673Z",
     "iopub.status.idle": "2023-11-11T17:26:23.736481Z",
     "shell.execute_reply": "2023-11-11T17:26:23.735616Z"
    },
    "papermill": {
     "duration": 0.107612,
     "end_time": "2023-11-11T17:26:23.738492",
     "exception": false,
     "start_time": "2023-11-11T17:26:23.630880",
     "status": "completed"
    },
    "tags": []
   },
   "outputs": [],
   "source": [
    "# # property 1 \n",
    "\n",
    "# unique elements only "
   ]
  },
  {
   "cell_type": "code",
   "execution_count": 58,
   "id": "85835a1a",
   "metadata": {
    "execution": {
     "iopub.execute_input": "2023-11-11T17:26:23.940086Z",
     "iopub.status.busy": "2023-11-11T17:26:23.939297Z",
     "iopub.status.idle": "2023-11-11T17:26:23.945289Z",
     "shell.execute_reply": "2023-11-11T17:26:23.944500Z"
    },
    "papermill": {
     "duration": 0.109993,
     "end_time": "2023-11-11T17:26:23.947152",
     "exception": false,
     "start_time": "2023-11-11T17:26:23.837159",
     "status": "completed"
    },
    "tags": []
   },
   "outputs": [
    {
     "data": {
      "text/plain": [
       "{10, 20}"
      ]
     },
     "execution_count": 58,
     "metadata": {},
     "output_type": "execute_result"
    }
   ],
   "source": [
    "# property \n",
    "# there is no index in set \n",
    "\n",
    "d"
   ]
  },
  {
   "cell_type": "code",
   "execution_count": 59,
   "id": "035e2ebc",
   "metadata": {
    "execution": {
     "iopub.execute_input": "2023-11-11T17:26:24.146125Z",
     "iopub.status.busy": "2023-11-11T17:26:24.145795Z",
     "iopub.status.idle": "2023-11-11T17:26:24.149946Z",
     "shell.execute_reply": "2023-11-11T17:26:24.149115Z"
    },
    "papermill": {
     "duration": 0.104408,
     "end_time": "2023-11-11T17:26:24.151824",
     "exception": false,
     "start_time": "2023-11-11T17:26:24.047416",
     "status": "completed"
    },
    "tags": []
   },
   "outputs": [],
   "source": [
    "# d[0]"
   ]
  },
  {
   "cell_type": "markdown",
   "id": "a184cc61",
   "metadata": {
    "papermill": {
     "duration": 0.100274,
     "end_time": "2023-11-11T17:26:24.348678",
     "exception": false,
     "start_time": "2023-11-11T17:26:24.248404",
     "status": "completed"
    },
    "tags": []
   },
   "source": [
    "# dictionary  ( ) "
   ]
  },
  {
   "cell_type": "code",
   "execution_count": 60,
   "id": "720a05db",
   "metadata": {
    "execution": {
     "iopub.execute_input": "2023-11-11T17:26:24.551131Z",
     "iopub.status.busy": "2023-11-11T17:26:24.550409Z",
     "iopub.status.idle": "2023-11-11T17:26:24.555102Z",
     "shell.execute_reply": "2023-11-11T17:26:24.554105Z"
    },
    "papermill": {
     "duration": 0.107838,
     "end_time": "2023-11-11T17:26:24.557108",
     "exception": false,
     "start_time": "2023-11-11T17:26:24.449270",
     "status": "completed"
    },
    "tags": []
   },
   "outputs": [],
   "source": [
    "t = { \"beautiful\"   : \"swapna is a beautiful women\",\n",
    "    \"smart\" : \"tayyab is a smart person\",\n",
    "    \"clever\" : \"parth is clever\"}"
   ]
  },
  {
   "cell_type": "code",
   "execution_count": 61,
   "id": "053569f9",
   "metadata": {
    "execution": {
     "iopub.execute_input": "2023-11-11T17:26:24.755387Z",
     "iopub.status.busy": "2023-11-11T17:26:24.754597Z",
     "iopub.status.idle": "2023-11-11T17:26:24.758566Z",
     "shell.execute_reply": "2023-11-11T17:26:24.757761Z"
    },
    "papermill": {
     "duration": 0.104446,
     "end_time": "2023-11-11T17:26:24.760584",
     "exception": false,
     "start_time": "2023-11-11T17:26:24.656138",
     "status": "completed"
    },
    "tags": []
   },
   "outputs": [],
   "source": [
    "# property index - key index"
   ]
  },
  {
   "cell_type": "code",
   "execution_count": 62,
   "id": "7b9d6c1a",
   "metadata": {
    "execution": {
     "iopub.execute_input": "2023-11-11T17:26:24.958867Z",
     "iopub.status.busy": "2023-11-11T17:26:24.958575Z",
     "iopub.status.idle": "2023-11-11T17:26:24.964575Z",
     "shell.execute_reply": "2023-11-11T17:26:24.963600Z"
    },
    "papermill": {
     "duration": 0.10856,
     "end_time": "2023-11-11T17:26:24.966677",
     "exception": false,
     "start_time": "2023-11-11T17:26:24.858117",
     "status": "completed"
    },
    "tags": []
   },
   "outputs": [
    {
     "data": {
      "text/plain": [
       "dict_keys(['beautiful', 'smart', 'clever'])"
      ]
     },
     "execution_count": 62,
     "metadata": {},
     "output_type": "execute_result"
    }
   ],
   "source": [
    "t.keys()"
   ]
  },
  {
   "cell_type": "code",
   "execution_count": 63,
   "id": "7e336ac9",
   "metadata": {
    "execution": {
     "iopub.execute_input": "2023-11-11T17:26:25.171505Z",
     "iopub.status.busy": "2023-11-11T17:26:25.170827Z",
     "iopub.status.idle": "2023-11-11T17:26:25.176685Z",
     "shell.execute_reply": "2023-11-11T17:26:25.175840Z"
    },
    "papermill": {
     "duration": 0.107075,
     "end_time": "2023-11-11T17:26:25.178657",
     "exception": false,
     "start_time": "2023-11-11T17:26:25.071582",
     "status": "completed"
    },
    "tags": []
   },
   "outputs": [
    {
     "data": {
      "text/plain": [
       "'swapna is a beautiful women'"
      ]
     },
     "execution_count": 63,
     "metadata": {},
     "output_type": "execute_result"
    }
   ],
   "source": [
    "t[\"beautiful\"]"
   ]
  },
  {
   "cell_type": "code",
   "execution_count": 64,
   "id": "21095285",
   "metadata": {
    "execution": {
     "iopub.execute_input": "2023-11-11T17:26:25.375896Z",
     "iopub.status.busy": "2023-11-11T17:26:25.375049Z",
     "iopub.status.idle": "2023-11-11T17:26:25.380906Z",
     "shell.execute_reply": "2023-11-11T17:26:25.380012Z"
    },
    "papermill": {
     "duration": 0.106546,
     "end_time": "2023-11-11T17:26:25.382748",
     "exception": false,
     "start_time": "2023-11-11T17:26:25.276202",
     "status": "completed"
    },
    "tags": []
   },
   "outputs": [
    {
     "data": {
      "text/plain": [
       "'parth is clever'"
      ]
     },
     "execution_count": 64,
     "metadata": {},
     "output_type": "execute_result"
    }
   ],
   "source": [
    "t[\"clever\"]"
   ]
  },
  {
   "cell_type": "code",
   "execution_count": 65,
   "id": "978ae496",
   "metadata": {
    "execution": {
     "iopub.execute_input": "2023-11-11T17:26:25.587047Z",
     "iopub.status.busy": "2023-11-11T17:26:25.586199Z",
     "iopub.status.idle": "2023-11-11T17:26:25.592168Z",
     "shell.execute_reply": "2023-11-11T17:26:25.591339Z"
    },
    "papermill": {
     "duration": 0.1139,
     "end_time": "2023-11-11T17:26:25.594149",
     "exception": false,
     "start_time": "2023-11-11T17:26:25.480249",
     "status": "completed"
    },
    "tags": []
   },
   "outputs": [
    {
     "data": {
      "text/plain": [
       "dict_keys(['beautiful', 'smart', 'clever'])"
      ]
     },
     "execution_count": 65,
     "metadata": {},
     "output_type": "execute_result"
    }
   ],
   "source": [
    "t.keys()"
   ]
  },
  {
   "cell_type": "code",
   "execution_count": 66,
   "id": "ee886a36",
   "metadata": {
    "execution": {
     "iopub.execute_input": "2023-11-11T17:26:25.793413Z",
     "iopub.status.busy": "2023-11-11T17:26:25.792582Z",
     "iopub.status.idle": "2023-11-11T17:26:25.798810Z",
     "shell.execute_reply": "2023-11-11T17:26:25.797878Z"
    },
    "papermill": {
     "duration": 0.108662,
     "end_time": "2023-11-11T17:26:25.800898",
     "exception": false,
     "start_time": "2023-11-11T17:26:25.692236",
     "status": "completed"
    },
    "tags": []
   },
   "outputs": [
    {
     "data": {
      "text/plain": [
       "dict_values(['swapna is a beautiful women', 'tayyab is a smart person', 'parth is clever'])"
      ]
     },
     "execution_count": 66,
     "metadata": {},
     "output_type": "execute_result"
    }
   ],
   "source": [
    "t.values()"
   ]
  },
  {
   "cell_type": "code",
   "execution_count": 67,
   "id": "ddc742d6",
   "metadata": {
    "execution": {
     "iopub.execute_input": "2023-11-11T17:26:25.999830Z",
     "iopub.status.busy": "2023-11-11T17:26:25.999343Z",
     "iopub.status.idle": "2023-11-11T17:26:26.006016Z",
     "shell.execute_reply": "2023-11-11T17:26:26.004811Z"
    },
    "papermill": {
     "duration": 0.107676,
     "end_time": "2023-11-11T17:26:26.008194",
     "exception": false,
     "start_time": "2023-11-11T17:26:25.900518",
     "status": "completed"
    },
    "tags": []
   },
   "outputs": [
    {
     "data": {
      "text/plain": [
       "dict_items([('beautiful', 'swapna is a beautiful women'), ('smart', 'tayyab is a smart person'), ('clever', 'parth is clever')])"
      ]
     },
     "execution_count": 67,
     "metadata": {},
     "output_type": "execute_result"
    }
   ],
   "source": [
    "t.items()"
   ]
  },
  {
   "cell_type": "code",
   "execution_count": 68,
   "id": "890bd040",
   "metadata": {
    "execution": {
     "iopub.execute_input": "2023-11-11T17:26:26.251387Z",
     "iopub.status.busy": "2023-11-11T17:26:26.250582Z",
     "iopub.status.idle": "2023-11-11T17:26:26.257882Z",
     "shell.execute_reply": "2023-11-11T17:26:26.257062Z"
    },
    "papermill": {
     "duration": 0.109597,
     "end_time": "2023-11-11T17:26:26.259986",
     "exception": false,
     "start_time": "2023-11-11T17:26:26.150389",
     "status": "completed"
    },
    "tags": []
   },
   "outputs": [
    {
     "data": {
      "text/plain": [
       "'4'"
      ]
     },
     "execution_count": 68,
     "metadata": {},
     "output_type": "execute_result"
    }
   ],
   "source": [
    "ch = { \"c1\" :\n",
    "                   {\"c1.1\" :  \"chapter1.1\",\n",
    "                    \n",
    "                    \"c1.2\" :  \n",
    "                             {\"c1.2.1\" : \"chapter mlv\",\n",
    "                              \"c1.2.2\" : [10,20,30,40]},\n",
    "                    \n",
    "                    \"c1.3\" :  \"chapter1.3\"},\n",
    "     \"c2\" : \"chapter2\",\n",
    "     \"c3\" : \"chapter3\"}\n",
    "\n",
    "list(str(ch[\"c1\"][\"c1.2\"][\"c1.2.2\"][3]))[0]"
   ]
  },
  {
   "cell_type": "code",
   "execution_count": 69,
   "id": "5999c369",
   "metadata": {
    "execution": {
     "iopub.execute_input": "2023-11-11T17:26:26.458789Z",
     "iopub.status.busy": "2023-11-11T17:26:26.458401Z",
     "iopub.status.idle": "2023-11-11T17:26:26.464125Z",
     "shell.execute_reply": "2023-11-11T17:26:26.463316Z"
    },
    "papermill": {
     "duration": 0.108414,
     "end_time": "2023-11-11T17:26:26.466020",
     "exception": false,
     "start_time": "2023-11-11T17:26:26.357606",
     "status": "completed"
    },
    "tags": []
   },
   "outputs": [
    {
     "data": {
      "text/plain": [
       "10"
      ]
     },
     "execution_count": 69,
     "metadata": {},
     "output_type": "execute_result"
    }
   ],
   "source": [
    "ch[\"c1\"][\"c1.2\"][\"c1.2.2\"][0]"
   ]
  },
  {
   "cell_type": "code",
   "execution_count": 70,
   "id": "35842dce",
   "metadata": {
    "execution": {
     "iopub.execute_input": "2023-11-11T17:26:26.672137Z",
     "iopub.status.busy": "2023-11-11T17:26:26.671583Z",
     "iopub.status.idle": "2023-11-11T17:26:26.675619Z",
     "shell.execute_reply": "2023-11-11T17:26:26.674780Z"
    },
    "papermill": {
     "duration": 0.109883,
     "end_time": "2023-11-11T17:26:26.677621",
     "exception": false,
     "start_time": "2023-11-11T17:26:26.567738",
     "status": "completed"
    },
    "tags": []
   },
   "outputs": [],
   "source": [
    "ch[\"c3\"] = \"sush\""
   ]
  },
  {
   "cell_type": "code",
   "execution_count": 71,
   "id": "2ae5e293",
   "metadata": {
    "execution": {
     "iopub.execute_input": "2023-11-11T17:26:26.880783Z",
     "iopub.status.busy": "2023-11-11T17:26:26.880421Z",
     "iopub.status.idle": "2023-11-11T17:26:26.886473Z",
     "shell.execute_reply": "2023-11-11T17:26:26.885618Z"
    },
    "papermill": {
     "duration": 0.112095,
     "end_time": "2023-11-11T17:26:26.888466",
     "exception": false,
     "start_time": "2023-11-11T17:26:26.776371",
     "status": "completed"
    },
    "tags": []
   },
   "outputs": [
    {
     "data": {
      "text/plain": [
       "3"
      ]
     },
     "execution_count": 71,
     "metadata": {},
     "output_type": "execute_result"
    }
   ],
   "source": [
    "len(ch.items())"
   ]
  },
  {
   "cell_type": "code",
   "execution_count": 72,
   "id": "363c7024",
   "metadata": {
    "execution": {
     "iopub.execute_input": "2023-11-11T17:26:27.088333Z",
     "iopub.status.busy": "2023-11-11T17:26:27.088012Z",
     "iopub.status.idle": "2023-11-11T17:26:27.094324Z",
     "shell.execute_reply": "2023-11-11T17:26:27.093579Z"
    },
    "papermill": {
     "duration": 0.109576,
     "end_time": "2023-11-11T17:26:27.096257",
     "exception": false,
     "start_time": "2023-11-11T17:26:26.986681",
     "status": "completed"
    },
    "tags": []
   },
   "outputs": [
    {
     "data": {
      "text/plain": [
       "{'c1': {'c1.1': 'chapter1.1',\n",
       "  'c1.2': {'c1.2.1': 'chapter mlv', 'c1.2.2': [10, 20, 30, 40]},\n",
       "  'c1.3': 'chapter1.3'},\n",
       " 'c2': 'chapter2',\n",
       " 'c3': 'sush'}"
      ]
     },
     "execution_count": 72,
     "metadata": {},
     "output_type": "execute_result"
    }
   ],
   "source": [
    "ch"
   ]
  },
  {
   "cell_type": "markdown",
   "id": "85c1aaad",
   "metadata": {
    "papermill": {
     "duration": 0.100788,
     "end_time": "2023-11-11T17:26:27.294777",
     "exception": false,
     "start_time": "2023-11-11T17:26:27.193989",
     "status": "completed"
    },
    "tags": []
   },
   "source": [
    "# type\n",
    "int()\n",
    "float()\n",
    "str()"
   ]
  },
  {
   "cell_type": "markdown",
   "id": "41b6d9bf",
   "metadata": {
    "papermill": {
     "duration": 0.097066,
     "end_time": "2023-11-11T17:26:27.490585",
     "exception": false,
     "start_time": "2023-11-11T17:26:27.393519",
     "status": "completed"
    },
    "tags": []
   },
   "source": [
    "# data structure casting\n",
    "## list()  tuple() set()  dict()"
   ]
  },
  {
   "cell_type": "code",
   "execution_count": 73,
   "id": "ef93ade6",
   "metadata": {
    "execution": {
     "iopub.execute_input": "2023-11-11T17:26:27.693456Z",
     "iopub.status.busy": "2023-11-11T17:26:27.693123Z",
     "iopub.status.idle": "2023-11-11T17:26:27.699030Z",
     "shell.execute_reply": "2023-11-11T17:26:27.698146Z"
    },
    "papermill": {
     "duration": 0.110937,
     "end_time": "2023-11-11T17:26:27.701144",
     "exception": false,
     "start_time": "2023-11-11T17:26:27.590207",
     "status": "completed"
    },
    "tags": []
   },
   "outputs": [
    {
     "data": {
      "text/plain": [
       "list"
      ]
     },
     "execution_count": 73,
     "metadata": {},
     "output_type": "execute_result"
    }
   ],
   "source": [
    "a = [10,20,30]\n",
    "type(a)"
   ]
  },
  {
   "cell_type": "code",
   "execution_count": 74,
   "id": "b9d1d272",
   "metadata": {
    "execution": {
     "iopub.execute_input": "2023-11-11T17:26:27.900940Z",
     "iopub.status.busy": "2023-11-11T17:26:27.900250Z",
     "iopub.status.idle": "2023-11-11T17:26:27.905876Z",
     "shell.execute_reply": "2023-11-11T17:26:27.905100Z"
    },
    "papermill": {
     "duration": 0.105152,
     "end_time": "2023-11-11T17:26:27.907675",
     "exception": false,
     "start_time": "2023-11-11T17:26:27.802523",
     "status": "completed"
    },
    "tags": []
   },
   "outputs": [
    {
     "data": {
      "text/plain": [
       "(10, 20, 30)"
      ]
     },
     "execution_count": 74,
     "metadata": {},
     "output_type": "execute_result"
    }
   ],
   "source": [
    "b = tuple(a)\n",
    "b"
   ]
  },
  {
   "cell_type": "code",
   "execution_count": 75,
   "id": "49623a17",
   "metadata": {
    "execution": {
     "iopub.execute_input": "2023-11-11T17:26:28.103962Z",
     "iopub.status.busy": "2023-11-11T17:26:28.103632Z",
     "iopub.status.idle": "2023-11-11T17:26:28.109158Z",
     "shell.execute_reply": "2023-11-11T17:26:28.108283Z"
    },
    "papermill": {
     "duration": 0.110432,
     "end_time": "2023-11-11T17:26:28.114628",
     "exception": false,
     "start_time": "2023-11-11T17:26:28.004196",
     "status": "completed"
    },
    "tags": []
   },
   "outputs": [
    {
     "data": {
      "text/plain": [
       "tuple"
      ]
     },
     "execution_count": 75,
     "metadata": {},
     "output_type": "execute_result"
    }
   ],
   "source": [
    "type(b)"
   ]
  },
  {
   "cell_type": "code",
   "execution_count": 76,
   "id": "682d3ede",
   "metadata": {
    "execution": {
     "iopub.execute_input": "2023-11-11T17:26:28.317043Z",
     "iopub.status.busy": "2023-11-11T17:26:28.316459Z",
     "iopub.status.idle": "2023-11-11T17:26:28.320702Z",
     "shell.execute_reply": "2023-11-11T17:26:28.319880Z"
    },
    "papermill": {
     "duration": 0.106861,
     "end_time": "2023-11-11T17:26:28.322682",
     "exception": false,
     "start_time": "2023-11-11T17:26:28.215821",
     "status": "completed"
    },
    "tags": []
   },
   "outputs": [],
   "source": [
    "gg = (\"sush@gmail.com\",2564856855)\n",
    "# gg[0] = \"sush@outlook.com\""
   ]
  },
  {
   "cell_type": "code",
   "execution_count": 77,
   "id": "34863b9d",
   "metadata": {
    "execution": {
     "iopub.execute_input": "2023-11-11T17:26:28.520245Z",
     "iopub.status.busy": "2023-11-11T17:26:28.519644Z",
     "iopub.status.idle": "2023-11-11T17:26:28.525437Z",
     "shell.execute_reply": "2023-11-11T17:26:28.524562Z"
    },
    "papermill": {
     "duration": 0.10638,
     "end_time": "2023-11-11T17:26:28.527461",
     "exception": false,
     "start_time": "2023-11-11T17:26:28.421081",
     "status": "completed"
    },
    "tags": []
   },
   "outputs": [
    {
     "data": {
      "text/plain": [
       "['sush@gmail.com', 2564856855]"
      ]
     },
     "execution_count": 77,
     "metadata": {},
     "output_type": "execute_result"
    }
   ],
   "source": [
    "gg = list(gg)\n",
    "gg"
   ]
  },
  {
   "cell_type": "code",
   "execution_count": 78,
   "id": "28524265",
   "metadata": {
    "execution": {
     "iopub.execute_input": "2023-11-11T17:26:28.724913Z",
     "iopub.status.busy": "2023-11-11T17:26:28.724136Z",
     "iopub.status.idle": "2023-11-11T17:26:28.729803Z",
     "shell.execute_reply": "2023-11-11T17:26:28.728943Z"
    },
    "papermill": {
     "duration": 0.104886,
     "end_time": "2023-11-11T17:26:28.731743",
     "exception": false,
     "start_time": "2023-11-11T17:26:28.626857",
     "status": "completed"
    },
    "tags": []
   },
   "outputs": [
    {
     "data": {
      "text/plain": [
       "list"
      ]
     },
     "execution_count": 78,
     "metadata": {},
     "output_type": "execute_result"
    }
   ],
   "source": [
    "type(gg)"
   ]
  },
  {
   "cell_type": "code",
   "execution_count": 79,
   "id": "92f9d19e",
   "metadata": {
    "execution": {
     "iopub.execute_input": "2023-11-11T17:26:28.927120Z",
     "iopub.status.busy": "2023-11-11T17:26:28.926395Z",
     "iopub.status.idle": "2023-11-11T17:26:28.932081Z",
     "shell.execute_reply": "2023-11-11T17:26:28.931263Z"
    },
    "papermill": {
     "duration": 0.104584,
     "end_time": "2023-11-11T17:26:28.934039",
     "exception": false,
     "start_time": "2023-11-11T17:26:28.829455",
     "status": "completed"
    },
    "tags": []
   },
   "outputs": [
    {
     "data": {
      "text/plain": [
       "['sush@outlook.com', 2564856855]"
      ]
     },
     "execution_count": 79,
     "metadata": {},
     "output_type": "execute_result"
    }
   ],
   "source": [
    "gg[0] = \"sush@outlook.com\"\n",
    "gg"
   ]
  },
  {
   "cell_type": "code",
   "execution_count": 80,
   "id": "69bc5b9f",
   "metadata": {
    "execution": {
     "iopub.execute_input": "2023-11-11T17:26:29.131151Z",
     "iopub.status.busy": "2023-11-11T17:26:29.130584Z",
     "iopub.status.idle": "2023-11-11T17:26:29.136448Z",
     "shell.execute_reply": "2023-11-11T17:26:29.135626Z"
    },
    "papermill": {
     "duration": 0.106843,
     "end_time": "2023-11-11T17:26:29.138375",
     "exception": false,
     "start_time": "2023-11-11T17:26:29.031532",
     "status": "completed"
    },
    "tags": []
   },
   "outputs": [
    {
     "data": {
      "text/plain": [
       "('sush@outlook.com', 2564856855)"
      ]
     },
     "execution_count": 80,
     "metadata": {},
     "output_type": "execute_result"
    }
   ],
   "source": [
    "gg = tuple(gg)\n",
    "gg"
   ]
  },
  {
   "cell_type": "code",
   "execution_count": 81,
   "id": "5813b5aa",
   "metadata": {
    "execution": {
     "iopub.execute_input": "2023-11-11T17:26:29.347771Z",
     "iopub.status.busy": "2023-11-11T17:26:29.347349Z",
     "iopub.status.idle": "2023-11-11T17:26:29.355026Z",
     "shell.execute_reply": "2023-11-11T17:26:29.353394Z"
    },
    "papermill": {
     "duration": 0.117106,
     "end_time": "2023-11-11T17:26:29.357794",
     "exception": false,
     "start_time": "2023-11-11T17:26:29.240688",
     "status": "completed"
    },
    "tags": []
   },
   "outputs": [
    {
     "data": {
      "text/plain": [
       "('sush@outlook.com', 2564856855)"
      ]
     },
     "execution_count": 81,
     "metadata": {},
     "output_type": "execute_result"
    }
   ],
   "source": [
    "gg = (\"sush@gmail.com\",2564856855)\n",
    "gg = list(gg)\n",
    "gg[0] = \"sush@outlook.com\"\n",
    "gg = tuple(gg)\n",
    "gg"
   ]
  },
  {
   "cell_type": "code",
   "execution_count": 82,
   "id": "d505ec17",
   "metadata": {
    "execution": {
     "iopub.execute_input": "2023-11-11T17:26:29.567059Z",
     "iopub.status.busy": "2023-11-11T17:26:29.566653Z",
     "iopub.status.idle": "2023-11-11T17:26:29.573001Z",
     "shell.execute_reply": "2023-11-11T17:26:29.572104Z"
    },
    "papermill": {
     "duration": 0.108327,
     "end_time": "2023-11-11T17:26:29.575137",
     "exception": false,
     "start_time": "2023-11-11T17:26:29.466810",
     "status": "completed"
    },
    "tags": []
   },
   "outputs": [
    {
     "data": {
      "text/plain": [
       "[10, 20, 30]"
      ]
     },
     "execution_count": 82,
     "metadata": {},
     "output_type": "execute_result"
    }
   ],
   "source": [
    "a = [10,20,30,10]\n",
    "a = list(set(a))\n",
    "a"
   ]
  },
  {
   "cell_type": "code",
   "execution_count": 83,
   "id": "172f7176",
   "metadata": {
    "execution": {
     "iopub.execute_input": "2023-11-11T17:26:29.774470Z",
     "iopub.status.busy": "2023-11-11T17:26:29.774140Z",
     "iopub.status.idle": "2023-11-11T17:26:29.780272Z",
     "shell.execute_reply": "2023-11-11T17:26:29.779462Z"
    },
    "papermill": {
     "duration": 0.107737,
     "end_time": "2023-11-11T17:26:29.782385",
     "exception": false,
     "start_time": "2023-11-11T17:26:29.674648",
     "status": "completed"
    },
    "tags": []
   },
   "outputs": [
    {
     "data": {
      "text/plain": [
       "[10, 20, 30]"
      ]
     },
     "execution_count": 83,
     "metadata": {},
     "output_type": "execute_result"
    }
   ],
   "source": [
    "a = list(set(a))\n",
    "a"
   ]
  },
  {
   "cell_type": "code",
   "execution_count": 84,
   "id": "05b83f60",
   "metadata": {
    "execution": {
     "iopub.execute_input": "2023-11-11T17:26:29.983218Z",
     "iopub.status.busy": "2023-11-11T17:26:29.982551Z",
     "iopub.status.idle": "2023-11-11T17:26:29.988348Z",
     "shell.execute_reply": "2023-11-11T17:26:29.987502Z"
    },
    "papermill": {
     "duration": 0.107834,
     "end_time": "2023-11-11T17:26:29.990330",
     "exception": false,
     "start_time": "2023-11-11T17:26:29.882496",
     "status": "completed"
    },
    "tags": []
   },
   "outputs": [
    {
     "data": {
      "text/plain": [
       "{10, 20, 30}"
      ]
     },
     "execution_count": 84,
     "metadata": {},
     "output_type": "execute_result"
    }
   ],
   "source": [
    "c = { 10,20,30,30}\n",
    "c \n",
    "\n"
   ]
  },
  {
   "cell_type": "code",
   "execution_count": 85,
   "id": "2d5b1e8d",
   "metadata": {
    "execution": {
     "iopub.execute_input": "2023-11-11T17:26:30.190348Z",
     "iopub.status.busy": "2023-11-11T17:26:30.190060Z",
     "iopub.status.idle": "2023-11-11T17:26:30.194952Z",
     "shell.execute_reply": "2023-11-11T17:26:30.194119Z"
    },
    "papermill": {
     "duration": 0.105876,
     "end_time": "2023-11-11T17:26:30.196985",
     "exception": false,
     "start_time": "2023-11-11T17:26:30.091109",
     "status": "completed"
    },
    "tags": []
   },
   "outputs": [
    {
     "name": "stdout",
     "output_type": "stream",
     "text": [
      "3\n"
     ]
    }
   ],
   "source": [
    "thislist = [\"apple\", \"banana\", \"cherry\"]\n",
    "print(len(thislist))"
   ]
  },
  {
   "cell_type": "code",
   "execution_count": 86,
   "id": "598ee077",
   "metadata": {
    "execution": {
     "iopub.execute_input": "2023-11-11T17:26:30.402358Z",
     "iopub.status.busy": "2023-11-11T17:26:30.402060Z",
     "iopub.status.idle": "2023-11-11T17:26:30.406689Z",
     "shell.execute_reply": "2023-11-11T17:26:30.405783Z"
    },
    "papermill": {
     "duration": 0.111956,
     "end_time": "2023-11-11T17:26:30.409158",
     "exception": false,
     "start_time": "2023-11-11T17:26:30.297202",
     "status": "completed"
    },
    "tags": []
   },
   "outputs": [
    {
     "name": "stdout",
     "output_type": "stream",
     "text": [
      "['apple', 'banana', 'cherry']\n"
     ]
    }
   ],
   "source": [
    "thislist = list((\"apple\", \"banana\", \"cherry\")) # note the double round-brackets\n",
    "print(thislist)"
   ]
  },
  {
   "cell_type": "code",
   "execution_count": 87,
   "id": "c59e82f9",
   "metadata": {
    "execution": {
     "iopub.execute_input": "2023-11-11T17:26:30.608792Z",
     "iopub.status.busy": "2023-11-11T17:26:30.608223Z",
     "iopub.status.idle": "2023-11-11T17:26:30.613296Z",
     "shell.execute_reply": "2023-11-11T17:26:30.612427Z"
    },
    "papermill": {
     "duration": 0.109028,
     "end_time": "2023-11-11T17:26:30.615440",
     "exception": false,
     "start_time": "2023-11-11T17:26:30.506412",
     "status": "completed"
    },
    "tags": []
   },
   "outputs": [
    {
     "name": "stdout",
     "output_type": "stream",
     "text": [
      "['apple', 'banana', 'cherry', 'orange', 'kiwi', 'melon', 'mango']\n"
     ]
    }
   ],
   "source": [
    "thislist = [\"apple\", \"banana\", \"cherry\", \"orange\", \"kiwi\", \"melon\", \"mango\"]\n",
    "print(thislist[:])"
   ]
  },
  {
   "cell_type": "code",
   "execution_count": 88,
   "id": "a6ccc699",
   "metadata": {
    "execution": {
     "iopub.execute_input": "2023-11-11T17:26:30.813804Z",
     "iopub.status.busy": "2023-11-11T17:26:30.813472Z",
     "iopub.status.idle": "2023-11-11T17:26:30.818370Z",
     "shell.execute_reply": "2023-11-11T17:26:30.817592Z"
    },
    "papermill": {
     "duration": 0.107686,
     "end_time": "2023-11-11T17:26:30.820404",
     "exception": false,
     "start_time": "2023-11-11T17:26:30.712718",
     "status": "completed"
    },
    "tags": []
   },
   "outputs": [
    {
     "name": "stdout",
     "output_type": "stream",
     "text": [
      "['orange', 'kiwi', 'melon']\n"
     ]
    }
   ],
   "source": [
    "thislist = [\"apple\", \"banana\", \"cherry\", \"orange\", \"kiwi\", \"melon\", \"mango\"]\n",
    "print(thislist[-4:-1])"
   ]
  },
  {
   "cell_type": "code",
   "execution_count": 89,
   "id": "cc47bdb0",
   "metadata": {
    "execution": {
     "iopub.execute_input": "2023-11-11T17:26:31.020767Z",
     "iopub.status.busy": "2023-11-11T17:26:31.019960Z",
     "iopub.status.idle": "2023-11-11T17:26:31.025188Z",
     "shell.execute_reply": "2023-11-11T17:26:31.024242Z"
    },
    "papermill": {
     "duration": 0.108872,
     "end_time": "2023-11-11T17:26:31.027456",
     "exception": false,
     "start_time": "2023-11-11T17:26:30.918584",
     "status": "completed"
    },
    "tags": []
   },
   "outputs": [
    {
     "name": "stdout",
     "output_type": "stream",
     "text": [
      "['apple', 'blackcurrant', 'cherry']\n"
     ]
    }
   ],
   "source": [
    "thislist = [\"apple\", \"banana\", \"cherry\"]\n",
    "thislist[1] = \"blackcurrant\"\n",
    "print(thislist)"
   ]
  },
  {
   "cell_type": "code",
   "execution_count": 90,
   "id": "b5f6a85f",
   "metadata": {
    "execution": {
     "iopub.execute_input": "2023-11-11T17:26:31.224870Z",
     "iopub.status.busy": "2023-11-11T17:26:31.224542Z",
     "iopub.status.idle": "2023-11-11T17:26:31.230009Z",
     "shell.execute_reply": "2023-11-11T17:26:31.229175Z"
    },
    "papermill": {
     "duration": 0.105922,
     "end_time": "2023-11-11T17:26:31.231947",
     "exception": false,
     "start_time": "2023-11-11T17:26:31.126025",
     "status": "completed"
    },
    "tags": []
   },
   "outputs": [
    {
     "data": {
      "text/plain": [
       "['apple', 'banana', 'cherry', 'orange']"
      ]
     },
     "execution_count": 90,
     "metadata": {},
     "output_type": "execute_result"
    }
   ],
   "source": [
    "fruits = ['apple', 'banana', 'cherry']\n",
    "fruits.append(\"orange\")\n",
    "fruits"
   ]
  },
  {
   "cell_type": "code",
   "execution_count": 91,
   "id": "6212cbc2",
   "metadata": {
    "execution": {
     "iopub.execute_input": "2023-11-11T17:26:31.479765Z",
     "iopub.status.busy": "2023-11-11T17:26:31.479035Z",
     "iopub.status.idle": "2023-11-11T17:26:31.483485Z",
     "shell.execute_reply": "2023-11-11T17:26:31.482591Z"
    },
    "papermill": {
     "duration": 0.154727,
     "end_time": "2023-11-11T17:26:31.485393",
     "exception": false,
     "start_time": "2023-11-11T17:26:31.330666",
     "status": "completed"
    },
    "tags": []
   },
   "outputs": [],
   "source": [
    "fruits = ['apple', 'banana', 'cherry', 'orange']\n",
    "\n",
    "fruits.clear()"
   ]
  },
  {
   "cell_type": "code",
   "execution_count": 92,
   "id": "a249f6ce",
   "metadata": {
    "execution": {
     "iopub.execute_input": "2023-11-11T17:26:31.689407Z",
     "iopub.status.busy": "2023-11-11T17:26:31.688681Z",
     "iopub.status.idle": "2023-11-11T17:26:31.694913Z",
     "shell.execute_reply": "2023-11-11T17:26:31.694039Z"
    },
    "papermill": {
     "duration": 0.108598,
     "end_time": "2023-11-11T17:26:31.696876",
     "exception": false,
     "start_time": "2023-11-11T17:26:31.588278",
     "status": "completed"
    },
    "tags": []
   },
   "outputs": [
    {
     "data": {
      "text/plain": [
       "[]"
      ]
     },
     "execution_count": 92,
     "metadata": {},
     "output_type": "execute_result"
    }
   ],
   "source": [
    "fruits "
   ]
  },
  {
   "cell_type": "code",
   "execution_count": 93,
   "id": "a9dfb390",
   "metadata": {
    "execution": {
     "iopub.execute_input": "2023-11-11T17:26:31.901106Z",
     "iopub.status.busy": "2023-11-11T17:26:31.900765Z",
     "iopub.status.idle": "2023-11-11T17:26:31.906590Z",
     "shell.execute_reply": "2023-11-11T17:26:31.905757Z"
    },
    "papermill": {
     "duration": 0.111257,
     "end_time": "2023-11-11T17:26:31.908482",
     "exception": false,
     "start_time": "2023-11-11T17:26:31.797225",
     "status": "completed"
    },
    "tags": []
   },
   "outputs": [
    {
     "data": {
      "text/plain": [
       "2"
      ]
     },
     "execution_count": 93,
     "metadata": {},
     "output_type": "execute_result"
    }
   ],
   "source": [
    "tay = ['sush', 'sush', 'cherry']\n",
    "\n",
    "tay.count(\"sush\")"
   ]
  },
  {
   "cell_type": "code",
   "execution_count": 94,
   "id": "43dc0e5d",
   "metadata": {
    "execution": {
     "iopub.execute_input": "2023-11-11T17:26:32.115699Z",
     "iopub.status.busy": "2023-11-11T17:26:32.114893Z",
     "iopub.status.idle": "2023-11-11T17:26:32.121859Z",
     "shell.execute_reply": "2023-11-11T17:26:32.120942Z"
    },
    "papermill": {
     "duration": 0.11449,
     "end_time": "2023-11-11T17:26:32.123912",
     "exception": false,
     "start_time": "2023-11-11T17:26:32.009422",
     "status": "completed"
    },
    "tags": []
   },
   "outputs": [
    {
     "data": {
      "text/plain": [
       "1"
      ]
     },
     "execution_count": 94,
     "metadata": {},
     "output_type": "execute_result"
    }
   ],
   "source": [
    "fruits = ['apple', 'banana', 'cherry']\n",
    "\n",
    "points = (1, 4, 5, 9)\n",
    "\n",
    "fruits.extend(points)\n",
    "fruits[3]"
   ]
  },
  {
   "cell_type": "code",
   "execution_count": 95,
   "id": "73aaecdc",
   "metadata": {
    "execution": {
     "iopub.execute_input": "2023-11-11T17:26:32.327750Z",
     "iopub.status.busy": "2023-11-11T17:26:32.327443Z",
     "iopub.status.idle": "2023-11-11T17:26:32.333679Z",
     "shell.execute_reply": "2023-11-11T17:26:32.332865Z"
    },
    "papermill": {
     "duration": 0.108401,
     "end_time": "2023-11-11T17:26:32.335794",
     "exception": false,
     "start_time": "2023-11-11T17:26:32.227393",
     "status": "completed"
    },
    "tags": []
   },
   "outputs": [
    {
     "data": {
      "text/plain": [
       "['apple', 'banana', 'cherry', (1, 4, 5, 9)]"
      ]
     },
     "execution_count": 95,
     "metadata": {},
     "output_type": "execute_result"
    }
   ],
   "source": [
    "fruits = ['apple', 'banana', 'cherry']\n",
    "\n",
    "points = (1, 4, 5, 9)\n",
    "\n",
    "fruits.append(points)\n",
    "fruits"
   ]
  },
  {
   "cell_type": "code",
   "execution_count": 96,
   "id": "03f0ddb0",
   "metadata": {
    "execution": {
     "iopub.execute_input": "2023-11-11T17:26:32.545290Z",
     "iopub.status.busy": "2023-11-11T17:26:32.544592Z",
     "iopub.status.idle": "2023-11-11T17:26:32.550556Z",
     "shell.execute_reply": "2023-11-11T17:26:32.549657Z"
    },
    "papermill": {
     "duration": 0.114189,
     "end_time": "2023-11-11T17:26:32.552823",
     "exception": false,
     "start_time": "2023-11-11T17:26:32.438634",
     "status": "completed"
    },
    "tags": []
   },
   "outputs": [
    {
     "data": {
      "text/plain": [
       "(1, 4, 5, 9)"
      ]
     },
     "execution_count": 96,
     "metadata": {},
     "output_type": "execute_result"
    }
   ],
   "source": [
    "fruits[3]"
   ]
  },
  {
   "cell_type": "code",
   "execution_count": 97,
   "id": "c5c7df4b",
   "metadata": {
    "execution": {
     "iopub.execute_input": "2023-11-11T17:26:32.755393Z",
     "iopub.status.busy": "2023-11-11T17:26:32.755048Z",
     "iopub.status.idle": "2023-11-11T17:26:32.760906Z",
     "shell.execute_reply": "2023-11-11T17:26:32.760085Z"
    },
    "papermill": {
     "duration": 0.107905,
     "end_time": "2023-11-11T17:26:32.762846",
     "exception": false,
     "start_time": "2023-11-11T17:26:32.654941",
     "status": "completed"
    },
    "tags": []
   },
   "outputs": [
    {
     "data": {
      "text/plain": [
       "0"
      ]
     },
     "execution_count": 97,
     "metadata": {},
     "output_type": "execute_result"
    }
   ],
   "source": [
    "fruits = ['c001asha', 'coo2swapna', 'c001asha']\n",
    "\n",
    "fruits.index(\"c001asha\")"
   ]
  },
  {
   "cell_type": "code",
   "execution_count": 98,
   "id": "6aa4a73c",
   "metadata": {
    "execution": {
     "iopub.execute_input": "2023-11-11T17:26:32.967835Z",
     "iopub.status.busy": "2023-11-11T17:26:32.967079Z",
     "iopub.status.idle": "2023-11-11T17:26:32.973438Z",
     "shell.execute_reply": "2023-11-11T17:26:32.972575Z"
    },
    "papermill": {
     "duration": 0.109869,
     "end_time": "2023-11-11T17:26:32.975499",
     "exception": false,
     "start_time": "2023-11-11T17:26:32.865630",
     "status": "completed"
    },
    "tags": []
   },
   "outputs": [
    {
     "data": {
      "text/plain": [
       "['apple', 'banana', 'orange', 'cherry']"
      ]
     },
     "execution_count": 98,
     "metadata": {},
     "output_type": "execute_result"
    }
   ],
   "source": [
    "fruits = ['apple', 'banana', 'cherry']\n",
    "\n",
    "fruits.insert(2, \"orange\")\n",
    "fruits"
   ]
  },
  {
   "cell_type": "code",
   "execution_count": 99,
   "id": "f9c53d98",
   "metadata": {
    "execution": {
     "iopub.execute_input": "2023-11-11T17:26:33.186552Z",
     "iopub.status.busy": "2023-11-11T17:26:33.185784Z",
     "iopub.status.idle": "2023-11-11T17:26:33.192096Z",
     "shell.execute_reply": "2023-11-11T17:26:33.191235Z"
    },
    "papermill": {
     "duration": 0.111335,
     "end_time": "2023-11-11T17:26:33.193997",
     "exception": false,
     "start_time": "2023-11-11T17:26:33.082662",
     "status": "completed"
    },
    "tags": []
   },
   "outputs": [
    {
     "data": {
      "text/plain": [
       "'apple'"
      ]
     },
     "execution_count": 99,
     "metadata": {},
     "output_type": "execute_result"
    }
   ],
   "source": [
    "fruits = ['apple', 'banana', 'cherry']\n",
    "a = fruits.pop(0)\n",
    "a"
   ]
  },
  {
   "cell_type": "code",
   "execution_count": 100,
   "id": "a01af02c",
   "metadata": {
    "execution": {
     "iopub.execute_input": "2023-11-11T17:26:33.397472Z",
     "iopub.status.busy": "2023-11-11T17:26:33.397163Z",
     "iopub.status.idle": "2023-11-11T17:26:33.403072Z",
     "shell.execute_reply": "2023-11-11T17:26:33.402269Z"
    },
    "papermill": {
     "duration": 0.111766,
     "end_time": "2023-11-11T17:26:33.404991",
     "exception": false,
     "start_time": "2023-11-11T17:26:33.293225",
     "status": "completed"
    },
    "tags": []
   },
   "outputs": [
    {
     "data": {
      "text/plain": [
       "0"
      ]
     },
     "execution_count": 100,
     "metadata": {},
     "output_type": "execute_result"
    }
   ],
   "source": [
    "fruits = ['apple', 'banana', 'cherry']\n",
    "a = fruits.index(\"apple\")\n",
    "a"
   ]
  },
  {
   "cell_type": "code",
   "execution_count": 101,
   "id": "dd67d3be",
   "metadata": {
    "execution": {
     "iopub.execute_input": "2023-11-11T17:26:33.608270Z",
     "iopub.status.busy": "2023-11-11T17:26:33.607976Z",
     "iopub.status.idle": "2023-11-11T17:26:33.613755Z",
     "shell.execute_reply": "2023-11-11T17:26:33.612939Z"
    },
    "papermill": {
     "duration": 0.112996,
     "end_time": "2023-11-11T17:26:33.615519",
     "exception": false,
     "start_time": "2023-11-11T17:26:33.502523",
     "status": "completed"
    },
    "tags": []
   },
   "outputs": [
    {
     "data": {
      "text/plain": [
       "['apple', 'banana', 'banana']"
      ]
     },
     "execution_count": 101,
     "metadata": {},
     "output_type": "execute_result"
    }
   ],
   "source": [
    "fruits = ['banana', \"apple\",'banana', 'banana']\n",
    "\n",
    "fruits.remove(\"banana\")\n",
    "fruits \n",
    "\n",
    "# ctr a\n",
    "#  ctr /"
   ]
  },
  {
   "cell_type": "code",
   "execution_count": 102,
   "id": "bdd095c7",
   "metadata": {
    "execution": {
     "iopub.execute_input": "2023-11-11T17:26:33.818405Z",
     "iopub.status.busy": "2023-11-11T17:26:33.818128Z",
     "iopub.status.idle": "2023-11-11T17:26:33.824030Z",
     "shell.execute_reply": "2023-11-11T17:26:33.823206Z"
    },
    "papermill": {
     "duration": 0.109726,
     "end_time": "2023-11-11T17:26:33.825821",
     "exception": false,
     "start_time": "2023-11-11T17:26:33.716095",
     "status": "completed"
    },
    "tags": []
   },
   "outputs": [
    {
     "data": {
      "text/plain": [
       "['cherry', 'banana', 'apple']"
      ]
     },
     "execution_count": 102,
     "metadata": {},
     "output_type": "execute_result"
    }
   ],
   "source": [
    "fruits = ['apple', 'banana', 'cherry']\n",
    "\n",
    "fruits.reverse()\n",
    "fruits"
   ]
  },
  {
   "cell_type": "code",
   "execution_count": 103,
   "id": "c221ad8b",
   "metadata": {
    "execution": {
     "iopub.execute_input": "2023-11-11T17:26:34.026978Z",
     "iopub.status.busy": "2023-11-11T17:26:34.026571Z",
     "iopub.status.idle": "2023-11-11T17:26:34.032794Z",
     "shell.execute_reply": "2023-11-11T17:26:34.031906Z"
    },
    "papermill": {
     "duration": 0.10929,
     "end_time": "2023-11-11T17:26:34.034841",
     "exception": false,
     "start_time": "2023-11-11T17:26:33.925551",
     "status": "completed"
    },
    "tags": []
   },
   "outputs": [
    {
     "data": {
      "text/plain": [
       "[20, 11, 9, 30]"
      ]
     },
     "execution_count": 103,
     "metadata": {},
     "output_type": "execute_result"
    }
   ],
   "source": [
    "a= [20,11,9,30]\n",
    "a"
   ]
  },
  {
   "cell_type": "code",
   "execution_count": 104,
   "id": "0b14ca39",
   "metadata": {
    "execution": {
     "iopub.execute_input": "2023-11-11T17:26:34.242579Z",
     "iopub.status.busy": "2023-11-11T17:26:34.242252Z",
     "iopub.status.idle": "2023-11-11T17:26:34.247968Z",
     "shell.execute_reply": "2023-11-11T17:26:34.247155Z"
    },
    "papermill": {
     "duration": 0.111138,
     "end_time": "2023-11-11T17:26:34.249867",
     "exception": false,
     "start_time": "2023-11-11T17:26:34.138729",
     "status": "completed"
    },
    "tags": []
   },
   "outputs": [
    {
     "data": {
      "text/plain": [
       "[30, 20, 11, 9]"
      ]
     },
     "execution_count": 104,
     "metadata": {},
     "output_type": "execute_result"
    }
   ],
   "source": [
    "a.sort(reverse = True)\n",
    "a"
   ]
  },
  {
   "cell_type": "code",
   "execution_count": 105,
   "id": "b385ff5f",
   "metadata": {
    "execution": {
     "iopub.execute_input": "2023-11-11T17:26:34.457088Z",
     "iopub.status.busy": "2023-11-11T17:26:34.456775Z",
     "iopub.status.idle": "2023-11-11T17:26:34.463411Z",
     "shell.execute_reply": "2023-11-11T17:26:34.462513Z"
    },
    "papermill": {
     "duration": 0.11276,
     "end_time": "2023-11-11T17:26:34.465433",
     "exception": false,
     "start_time": "2023-11-11T17:26:34.352673",
     "status": "completed"
    },
    "tags": []
   },
   "outputs": [
    {
     "data": {
      "text/plain": [
       "[10, 20, 30, [40, 50, 60]]"
      ]
     },
     "execution_count": 105,
     "metadata": {},
     "output_type": "execute_result"
    }
   ],
   "source": [
    "d = [10,20,30]\n",
    "d.append([40,50,60])\n",
    "d"
   ]
  },
  {
   "cell_type": "code",
   "execution_count": 106,
   "id": "4bc93421",
   "metadata": {
    "execution": {
     "iopub.execute_input": "2023-11-11T17:26:34.675274Z",
     "iopub.status.busy": "2023-11-11T17:26:34.674310Z",
     "iopub.status.idle": "2023-11-11T17:26:34.681268Z",
     "shell.execute_reply": "2023-11-11T17:26:34.680357Z"
    },
    "papermill": {
     "duration": 0.113399,
     "end_time": "2023-11-11T17:26:34.683412",
     "exception": false,
     "start_time": "2023-11-11T17:26:34.570013",
     "status": "completed"
    },
    "tags": []
   },
   "outputs": [
    {
     "data": {
      "text/plain": [
       "[10, 20, 30, 40, 50, 60]"
      ]
     },
     "execution_count": 106,
     "metadata": {},
     "output_type": "execute_result"
    }
   ],
   "source": [
    "e = [10,20,30]\n",
    "e.extend([40,50,60])\n",
    "e"
   ]
  },
  {
   "cell_type": "code",
   "execution_count": 107,
   "id": "26bd31a6",
   "metadata": {
    "execution": {
     "iopub.execute_input": "2023-11-11T17:26:34.891625Z",
     "iopub.status.busy": "2023-11-11T17:26:34.891302Z",
     "iopub.status.idle": "2023-11-11T17:26:34.897437Z",
     "shell.execute_reply": "2023-11-11T17:26:34.896587Z"
    },
    "papermill": {
     "duration": 0.114421,
     "end_time": "2023-11-11T17:26:34.899365",
     "exception": false,
     "start_time": "2023-11-11T17:26:34.784944",
     "status": "completed"
    },
    "tags": []
   },
   "outputs": [
    {
     "data": {
      "text/plain": [
       "[2, 3, 4]"
      ]
     },
     "execution_count": 107,
     "metadata": {},
     "output_type": "execute_result"
    }
   ],
   "source": [
    "a = [2,3,4,4]\n",
    "a = list(set(a))\n",
    "a"
   ]
  },
  {
   "cell_type": "code",
   "execution_count": 108,
   "id": "9316891f",
   "metadata": {
    "execution": {
     "iopub.execute_input": "2023-11-11T17:26:35.113150Z",
     "iopub.status.busy": "2023-11-11T17:26:35.112826Z",
     "iopub.status.idle": "2023-11-11T17:26:35.117615Z",
     "shell.execute_reply": "2023-11-11T17:26:35.116553Z"
    },
    "papermill": {
     "duration": 0.113473,
     "end_time": "2023-11-11T17:26:35.119890",
     "exception": false,
     "start_time": "2023-11-11T17:26:35.006417",
     "status": "completed"
    },
    "tags": []
   },
   "outputs": [
    {
     "name": "stdout",
     "output_type": "stream",
     "text": [
      "yes\n",
      "tayyab\n",
      "prasad\n"
     ]
    }
   ],
   "source": [
    "if 9 > 6 : \n",
    "    print(\"yes\")\n",
    "    print(\"tayyab\")\n",
    "    \n",
    "print(\"prasad\")\n"
   ]
  },
  {
   "cell_type": "code",
   "execution_count": 109,
   "id": "158065bc",
   "metadata": {
    "execution": {
     "iopub.execute_input": "2023-11-11T17:26:35.332727Z",
     "iopub.status.busy": "2023-11-11T17:26:35.332390Z",
     "iopub.status.idle": "2023-11-11T17:26:35.337456Z",
     "shell.execute_reply": "2023-11-11T17:26:35.336604Z"
    },
    "papermill": {
     "duration": 0.113286,
     "end_time": "2023-11-11T17:26:35.339599",
     "exception": false,
     "start_time": "2023-11-11T17:26:35.226313",
     "status": "completed"
    },
    "tags": []
   },
   "outputs": [
    {
     "name": "stdout",
     "output_type": "stream",
     "text": [
      "prasad\n"
     ]
    }
   ],
   "source": [
    "if 9 > 16 : \n",
    "    print(\"yes\")\n",
    "    print(\"tayyab\")\n",
    "    \n",
    "print(\"prasad\")"
   ]
  },
  {
   "cell_type": "code",
   "execution_count": 110,
   "id": "7f8272e6",
   "metadata": {
    "execution": {
     "iopub.execute_input": "2023-11-11T17:26:35.550578Z",
     "iopub.status.busy": "2023-11-11T17:26:35.550245Z",
     "iopub.status.idle": "2023-11-11T17:26:35.554165Z",
     "shell.execute_reply": "2023-11-11T17:26:35.553236Z"
    },
    "papermill": {
     "duration": 0.112189,
     "end_time": "2023-11-11T17:26:35.556212",
     "exception": false,
     "start_time": "2023-11-11T17:26:35.444023",
     "status": "completed"
    },
    "tags": []
   },
   "outputs": [],
   "source": [
    "# select *\n",
    "#             from table1"
   ]
  },
  {
   "cell_type": "code",
   "execution_count": 111,
   "id": "7d076665",
   "metadata": {
    "execution": {
     "iopub.execute_input": "2023-11-11T17:26:35.770481Z",
     "iopub.status.busy": "2023-11-11T17:26:35.770122Z",
     "iopub.status.idle": "2023-11-11T17:26:35.776076Z",
     "shell.execute_reply": "2023-11-11T17:26:35.775146Z"
    },
    "papermill": {
     "duration": 0.1163,
     "end_time": "2023-11-11T17:26:35.778613",
     "exception": false,
     "start_time": "2023-11-11T17:26:35.662313",
     "status": "completed"
    },
    "tags": []
   },
   "outputs": [
    {
     "name": "stdout",
     "output_type": "stream",
     "text": [
      "the girl got distinction\n",
      "distinction\n"
     ]
    }
   ],
   "source": [
    "marks = 80\n",
    "gender = \"female\"\n",
    "\n",
    "\n",
    "if marks > 75 :  \n",
    "    if gender == \"male\" :\n",
    "        print(\"the boy got distinction\")\n",
    "    else :\n",
    "        print(\"the girl got distinction\")        \n",
    "    print(\"distinction\")\n",
    "elif marks > 50 :\n",
    "    print(\"pass\")\n",
    "else :\n",
    "    print(\"fail\")"
   ]
  },
  {
   "cell_type": "code",
   "execution_count": 112,
   "id": "134c8ab8",
   "metadata": {
    "execution": {
     "iopub.execute_input": "2023-11-11T17:26:35.987782Z",
     "iopub.status.busy": "2023-11-11T17:26:35.987426Z",
     "iopub.status.idle": "2023-11-11T17:26:35.992593Z",
     "shell.execute_reply": "2023-11-11T17:26:35.991775Z"
    },
    "papermill": {
     "duration": 0.110688,
     "end_time": "2023-11-11T17:26:35.994716",
     "exception": false,
     "start_time": "2023-11-11T17:26:35.884028",
     "status": "completed"
    },
    "tags": []
   },
   "outputs": [
    {
     "name": "stdout",
     "output_type": "stream",
     "text": [
      "mlv 100\n",
      "mlv 97\n",
      "mlv 94\n",
      "mlv 91\n"
     ]
    }
   ],
   "source": [
    "salary = 100\n",
    "\n",
    "while salary > 90 :\n",
    "    print(\"mlv\",salary )\n",
    "    salary = salary - 3"
   ]
  },
  {
   "cell_type": "code",
   "execution_count": 113,
   "id": "bdbe63ce",
   "metadata": {
    "execution": {
     "iopub.execute_input": "2023-11-11T17:26:36.203475Z",
     "iopub.status.busy": "2023-11-11T17:26:36.203098Z",
     "iopub.status.idle": "2023-11-11T17:26:36.207994Z",
     "shell.execute_reply": "2023-11-11T17:26:36.207168Z"
    },
    "papermill": {
     "duration": 0.110045,
     "end_time": "2023-11-11T17:26:36.210207",
     "exception": false,
     "start_time": "2023-11-11T17:26:36.100162",
     "status": "completed"
    },
    "tags": []
   },
   "outputs": [
    {
     "name": "stdout",
     "output_type": "stream",
     "text": [
      "10\n",
      "----\n",
      "13\n",
      "----\n",
      "16\n",
      "----\n",
      "19\n",
      "----\n"
     ]
    }
   ],
   "source": [
    "for i in  range(10,20,3) :\n",
    "    print(i)\n",
    "    print(\"----\")"
   ]
  },
  {
   "cell_type": "code",
   "execution_count": 114,
   "id": "2a599ef1",
   "metadata": {
    "execution": {
     "iopub.execute_input": "2023-11-11T17:26:36.463038Z",
     "iopub.status.busy": "2023-11-11T17:26:36.462386Z",
     "iopub.status.idle": "2023-11-11T17:26:36.467459Z",
     "shell.execute_reply": "2023-11-11T17:26:36.466643Z"
    },
    "papermill": {
     "duration": 0.15339,
     "end_time": "2023-11-11T17:26:36.469583",
     "exception": false,
     "start_time": "2023-11-11T17:26:36.316193",
     "status": "completed"
    },
    "tags": []
   },
   "outputs": [
    {
     "name": "stdout",
     "output_type": "stream",
     "text": [
      "10\n",
      "----\n",
      "husna\n",
      "13\n",
      "----\n",
      "husna\n",
      "16\n",
      "----\n",
      "husna\n",
      "19\n",
      "----\n",
      "husna\n"
     ]
    }
   ],
   "source": [
    "for i in  [10,13,16,19] :\n",
    "    print(i)\n",
    "    print(\"----\")\n",
    "    print(\"husna\")"
   ]
  },
  {
   "cell_type": "code",
   "execution_count": 115,
   "id": "84306c9a",
   "metadata": {
    "execution": {
     "iopub.execute_input": "2023-11-11T17:26:36.680566Z",
     "iopub.status.busy": "2023-11-11T17:26:36.680026Z",
     "iopub.status.idle": "2023-11-11T17:26:36.685371Z",
     "shell.execute_reply": "2023-11-11T17:26:36.684416Z"
    },
    "papermill": {
     "duration": 0.111972,
     "end_time": "2023-11-11T17:26:36.687397",
     "exception": false,
     "start_time": "2023-11-11T17:26:36.575425",
     "status": "completed"
    },
    "tags": []
   },
   "outputs": [
    {
     "name": "stdout",
     "output_type": "stream",
     "text": [
      "the element is  10\n",
      "the element is  20\n",
      "the element is  30\n",
      "the element is  40\n",
      "the element is  50\n"
     ]
    }
   ],
   "source": [
    "a = [10,20,30,40,50]\n",
    "\n",
    "for  abhi  in a :\n",
    "    print(\"the element is \",abhi)"
   ]
  },
  {
   "cell_type": "code",
   "execution_count": 116,
   "id": "d30bc1e8",
   "metadata": {
    "execution": {
     "iopub.execute_input": "2023-11-11T17:26:36.900182Z",
     "iopub.status.busy": "2023-11-11T17:26:36.899857Z",
     "iopub.status.idle": "2023-11-11T17:26:36.904989Z",
     "shell.execute_reply": "2023-11-11T17:26:36.904150Z"
    },
    "papermill": {
     "duration": 0.114657,
     "end_time": "2023-11-11T17:26:36.907295",
     "exception": false,
     "start_time": "2023-11-11T17:26:36.792638",
     "status": "completed"
    },
    "tags": []
   },
   "outputs": [
    {
     "name": "stdout",
     "output_type": "stream",
     "text": [
      "the element is  10\n",
      "the element is  20\n",
      "the element is  30\n",
      "the element is  40\n",
      "the element is  50\n"
     ]
    }
   ],
   "source": [
    "a = [10,20,30,40,50]\n",
    "\n",
    "for abhi in range(len(a)) : # [ 0,1,2,3,4]\n",
    "    print(\"the element is \",a[abhi])\n",
    "    "
   ]
  },
  {
   "cell_type": "code",
   "execution_count": 117,
   "id": "1ea4a285",
   "metadata": {
    "execution": {
     "iopub.execute_input": "2023-11-11T17:26:37.115706Z",
     "iopub.status.busy": "2023-11-11T17:26:37.114934Z",
     "iopub.status.idle": "2023-11-11T17:26:37.119890Z",
     "shell.execute_reply": "2023-11-11T17:26:37.119054Z"
    },
    "papermill": {
     "duration": 0.111888,
     "end_time": "2023-11-11T17:26:37.121954",
     "exception": false,
     "start_time": "2023-11-11T17:26:37.010066",
     "status": "completed"
    },
    "tags": []
   },
   "outputs": [
    {
     "name": "stdout",
     "output_type": "stream",
     "text": [
      "1\n",
      "2\n",
      "3\n",
      "4\n"
     ]
    }
   ],
   "source": [
    "for i in range(1,5):\n",
    "    print(i)"
   ]
  },
  {
   "cell_type": "markdown",
   "id": "46b30451",
   "metadata": {
    "papermill": {
     "duration": 0.104136,
     "end_time": "2023-11-11T17:26:37.327812",
     "exception": false,
     "start_time": "2023-11-11T17:26:37.223676",
     "status": "completed"
    },
    "tags": []
   },
   "source": [
    "### "
   ]
  },
  {
   "cell_type": "code",
   "execution_count": 118,
   "id": "8d02a34b",
   "metadata": {
    "execution": {
     "iopub.execute_input": "2023-11-11T17:26:37.535273Z",
     "iopub.status.busy": "2023-11-11T17:26:37.534644Z",
     "iopub.status.idle": "2023-11-11T17:26:37.539633Z",
     "shell.execute_reply": "2023-11-11T17:26:37.538762Z"
    },
    "papermill": {
     "duration": 0.108893,
     "end_time": "2023-11-11T17:26:37.541707",
     "exception": false,
     "start_time": "2023-11-11T17:26:37.432814",
     "status": "completed"
    },
    "tags": []
   },
   "outputs": [
    {
     "name": "stdout",
     "output_type": "stream",
     "text": [
      "{'apple', 'orange', 'cherry', 'banana'}\n"
     ]
    }
   ],
   "source": [
    "fruits = {\"apple\", \"banana\", \"cherry\"}\n",
    "\n",
    "fruits.add(\"orange\")\n",
    "\n",
    "print(fruits)"
   ]
  },
  {
   "cell_type": "code",
   "execution_count": 119,
   "id": "f2e788ab",
   "metadata": {
    "execution": {
     "iopub.execute_input": "2023-11-11T17:26:37.750506Z",
     "iopub.status.busy": "2023-11-11T17:26:37.749852Z",
     "iopub.status.idle": "2023-11-11T17:26:37.754993Z",
     "shell.execute_reply": "2023-11-11T17:26:37.754094Z"
    },
    "papermill": {
     "duration": 0.109704,
     "end_time": "2023-11-11T17:26:37.757259",
     "exception": false,
     "start_time": "2023-11-11T17:26:37.647555",
     "status": "completed"
    },
    "tags": []
   },
   "outputs": [
    {
     "name": "stdout",
     "output_type": "stream",
     "text": [
      "{'tayyab'}\n"
     ]
    }
   ],
   "source": [
    "fruits = {\"apple\", \"banana\", \"cherry\"}\n",
    "\n",
    "fruits.clear()\n",
    "\n",
    "fruits.add(\"tayyab\")\n",
    "\n",
    "print(fruits)"
   ]
  },
  {
   "cell_type": "code",
   "execution_count": 120,
   "id": "96ce0f3f",
   "metadata": {
    "execution": {
     "iopub.execute_input": "2023-11-11T17:26:37.968186Z",
     "iopub.status.busy": "2023-11-11T17:26:37.967401Z",
     "iopub.status.idle": "2023-11-11T17:26:37.972270Z",
     "shell.execute_reply": "2023-11-11T17:26:37.971432Z"
    },
    "papermill": {
     "duration": 0.111232,
     "end_time": "2023-11-11T17:26:37.974741",
     "exception": false,
     "start_time": "2023-11-11T17:26:37.863509",
     "status": "completed"
    },
    "tags": []
   },
   "outputs": [
    {
     "name": "stdout",
     "output_type": "stream",
     "text": [
      "{'cherry', 'banana'}\n"
     ]
    }
   ],
   "source": [
    "x = {\"apple\", \"banana\", \"cherry\"}\n",
    "y = {\"google\", \"microsoft\", \"apple\"}\n",
    "\n",
    "z = x.difference(y)\n",
    "\n",
    "print(z)"
   ]
  },
  {
   "cell_type": "code",
   "execution_count": 121,
   "id": "045dc986",
   "metadata": {
    "execution": {
     "iopub.execute_input": "2023-11-11T17:26:38.179666Z",
     "iopub.status.busy": "2023-11-11T17:26:38.179307Z",
     "iopub.status.idle": "2023-11-11T17:26:38.184483Z",
     "shell.execute_reply": "2023-11-11T17:26:38.183663Z"
    },
    "papermill": {
     "duration": 0.109322,
     "end_time": "2023-11-11T17:26:38.186630",
     "exception": false,
     "start_time": "2023-11-11T17:26:38.077308",
     "status": "completed"
    },
    "tags": []
   },
   "outputs": [
    {
     "name": "stdout",
     "output_type": "stream",
     "text": [
      "{'apple'}\n"
     ]
    }
   ],
   "source": [
    "x = {\"apple\", \"banana\", \"cherry\"}\n",
    "y = {\"google\", \"microsoft\", \"apple\"}\n",
    "\n",
    "z = y.intersection(x)\n",
    "\n",
    "print(z)"
   ]
  },
  {
   "cell_type": "code",
   "execution_count": 122,
   "id": "003cc41e",
   "metadata": {
    "execution": {
     "iopub.execute_input": "2023-11-11T17:26:38.395820Z",
     "iopub.status.busy": "2023-11-11T17:26:38.395223Z",
     "iopub.status.idle": "2023-11-11T17:26:38.400546Z",
     "shell.execute_reply": "2023-11-11T17:26:38.399617Z"
    },
    "papermill": {
     "duration": 0.11384,
     "end_time": "2023-11-11T17:26:38.402946",
     "exception": false,
     "start_time": "2023-11-11T17:26:38.289106",
     "status": "completed"
    },
    "tags": []
   },
   "outputs": [
    {
     "name": "stdout",
     "output_type": "stream",
     "text": [
      "False\n"
     ]
    }
   ],
   "source": [
    "x = {\"apple\", \"google\", \"cherry\"}\n",
    "y = {\"google\", \"microsoft\", \"facebook\"}\n",
    "\n",
    "z = x.isdisjoint(y)\n",
    "\n",
    "print(z)\n"
   ]
  },
  {
   "cell_type": "code",
   "execution_count": 123,
   "id": "91a13ffa",
   "metadata": {
    "execution": {
     "iopub.execute_input": "2023-11-11T17:26:38.618109Z",
     "iopub.status.busy": "2023-11-11T17:26:38.617805Z",
     "iopub.status.idle": "2023-11-11T17:26:38.623003Z",
     "shell.execute_reply": "2023-11-11T17:26:38.622123Z"
    },
    "papermill": {
     "duration": 0.116002,
     "end_time": "2023-11-11T17:26:38.625060",
     "exception": false,
     "start_time": "2023-11-11T17:26:38.509058",
     "status": "completed"
    },
    "tags": []
   },
   "outputs": [
    {
     "name": "stdout",
     "output_type": "stream",
     "text": [
      "False\n"
     ]
    }
   ],
   "source": [
    "x = {\"a\", \"b\", \"h\"}\n",
    "y = {\"f\", \"e\", \"d\", \"c\", \"b\", \"a\"}\n",
    "\n",
    "z = x.issubset(y)\n",
    "\n",
    "print(z)"
   ]
  },
  {
   "cell_type": "code",
   "execution_count": 124,
   "id": "4eb7a5b9",
   "metadata": {
    "execution": {
     "iopub.execute_input": "2023-11-11T17:26:38.832758Z",
     "iopub.status.busy": "2023-11-11T17:26:38.832414Z",
     "iopub.status.idle": "2023-11-11T17:26:38.837500Z",
     "shell.execute_reply": "2023-11-11T17:26:38.836627Z"
    },
    "papermill": {
     "duration": 0.11199,
     "end_time": "2023-11-11T17:26:38.839669",
     "exception": false,
     "start_time": "2023-11-11T17:26:38.727679",
     "status": "completed"
    },
    "tags": []
   },
   "outputs": [
    {
     "name": "stdout",
     "output_type": "stream",
     "text": [
      "False\n"
     ]
    }
   ],
   "source": [
    "x = {\"f\", \"e\", \"d\", \"c\", \"b\", \"a\"}\n",
    "y = {\"a\", \"b\", \"z\"}\n",
    "\n",
    "z = x.issuperset(y)\n",
    "\n",
    "print(z)"
   ]
  },
  {
   "cell_type": "code",
   "execution_count": 125,
   "id": "1c138517",
   "metadata": {
    "execution": {
     "iopub.execute_input": "2023-11-11T17:26:39.055264Z",
     "iopub.status.busy": "2023-11-11T17:26:39.054894Z",
     "iopub.status.idle": "2023-11-11T17:26:39.060476Z",
     "shell.execute_reply": "2023-11-11T17:26:39.059266Z"
    },
    "papermill": {
     "duration": 0.11738,
     "end_time": "2023-11-11T17:26:39.062620",
     "exception": false,
     "start_time": "2023-11-11T17:26:38.945240",
     "status": "completed"
    },
    "tags": []
   },
   "outputs": [
    {
     "name": "stdout",
     "output_type": "stream",
     "text": [
      "{'cherry', 'banana'}\n"
     ]
    }
   ],
   "source": [
    "fruits = {\"apple\", \"banana\", \"cherry\"}\n",
    "\n",
    "fruits.pop()\n",
    "\n",
    "print(fruits)"
   ]
  },
  {
   "cell_type": "code",
   "execution_count": 126,
   "id": "cc7c5040",
   "metadata": {
    "execution": {
     "iopub.execute_input": "2023-11-11T17:26:39.282012Z",
     "iopub.status.busy": "2023-11-11T17:26:39.281643Z",
     "iopub.status.idle": "2023-11-11T17:26:39.287154Z",
     "shell.execute_reply": "2023-11-11T17:26:39.286218Z"
    },
    "papermill": {
     "duration": 0.120273,
     "end_time": "2023-11-11T17:26:39.289802",
     "exception": false,
     "start_time": "2023-11-11T17:26:39.169529",
     "status": "completed"
    },
    "tags": []
   },
   "outputs": [
    {
     "name": "stdout",
     "output_type": "stream",
     "text": [
      "{'apple', 'cherry', 'banana'}\n"
     ]
    }
   ],
   "source": [
    "x = {\"apple\", \"banana\", \"cherry\"}\n",
    "y = {\"google\", \"microsoft\", \"apple\"}\n",
    "\n",
    "z = x.union(y)\n",
    "\n",
    "print(x)"
   ]
  },
  {
   "cell_type": "code",
   "execution_count": 127,
   "id": "83e38e4b",
   "metadata": {
    "execution": {
     "iopub.execute_input": "2023-11-11T17:26:39.523352Z",
     "iopub.status.busy": "2023-11-11T17:26:39.522536Z",
     "iopub.status.idle": "2023-11-11T17:26:39.528089Z",
     "shell.execute_reply": "2023-11-11T17:26:39.527164Z"
    },
    "papermill": {
     "duration": 0.115201,
     "end_time": "2023-11-11T17:26:39.530263",
     "exception": false,
     "start_time": "2023-11-11T17:26:39.415062",
     "status": "completed"
    },
    "tags": []
   },
   "outputs": [
    {
     "name": "stdout",
     "output_type": "stream",
     "text": [
      "{'microsoft', 'apple', 'google', 'cherry', 'banana'}\n"
     ]
    }
   ],
   "source": [
    "x = {\"apple\", \"banana\", \"cherry\"}\n",
    "y = {\"google\", \"microsoft\", \"apple\"}\n",
    "\n",
    "x.update(y)\n",
    "\n",
    "print(x)"
   ]
  },
  {
   "cell_type": "code",
   "execution_count": 128,
   "id": "ef4ac5da",
   "metadata": {
    "execution": {
     "iopub.execute_input": "2023-11-11T17:26:39.745448Z",
     "iopub.status.busy": "2023-11-11T17:26:39.745133Z",
     "iopub.status.idle": "2023-11-11T17:26:39.750447Z",
     "shell.execute_reply": "2023-11-11T17:26:39.749537Z"
    },
    "papermill": {
     "duration": 0.113732,
     "end_time": "2023-11-11T17:26:39.752887",
     "exception": false,
     "start_time": "2023-11-11T17:26:39.639155",
     "status": "completed"
    },
    "tags": []
   },
   "outputs": [
    {
     "name": "stdout",
     "output_type": "stream",
     "text": [
      "{'key 1': 'sush', 'key 2': 'sush', 'key 3': 'sush'}\n"
     ]
    }
   ],
   "source": [
    "x = ('key 1', 'key 2', 'key 3')\n",
    "y = \"sush\"\n",
    "\n",
    "thisdict = dict.fromkeys(x, y)\n",
    "\n",
    "print(thisdict)"
   ]
  },
  {
   "cell_type": "code",
   "execution_count": 129,
   "id": "22dc34c2",
   "metadata": {
    "execution": {
     "iopub.execute_input": "2023-11-11T17:26:39.968384Z",
     "iopub.status.busy": "2023-11-11T17:26:39.968055Z",
     "iopub.status.idle": "2023-11-11T17:26:39.974582Z",
     "shell.execute_reply": "2023-11-11T17:26:39.973593Z"
    },
    "papermill": {
     "duration": 0.114252,
     "end_time": "2023-11-11T17:26:39.976629",
     "exception": false,
     "start_time": "2023-11-11T17:26:39.862377",
     "status": "completed"
    },
    "tags": []
   },
   "outputs": [
    {
     "data": {
      "text/plain": [
       "{'key 1': 'sush', 'key 2': 'sush', 'key 3 ': 'sush'}"
      ]
     },
     "execution_count": 129,
     "metadata": {},
     "output_type": "execute_result"
    }
   ],
   "source": [
    "thisdict  = { \"key 1\" : \"sush\",\n",
    "            \"key 2\" : \"sush\",\n",
    "            \"key 3 \" : \"sush\"}\n",
    "thisdict"
   ]
  },
  {
   "cell_type": "code",
   "execution_count": 130,
   "id": "2de4da07",
   "metadata": {
    "execution": {
     "iopub.execute_input": "2023-11-11T17:26:40.232665Z",
     "iopub.status.busy": "2023-11-11T17:26:40.231965Z",
     "iopub.status.idle": "2023-11-11T17:26:40.236148Z",
     "shell.execute_reply": "2023-11-11T17:26:40.235253Z"
    },
    "papermill": {
     "duration": 0.110823,
     "end_time": "2023-11-11T17:26:40.238294",
     "exception": false,
     "start_time": "2023-11-11T17:26:40.127471",
     "status": "completed"
    },
    "tags": []
   },
   "outputs": [],
   "source": [
    "x = ('st 1', 'st 2', 'st 3')\n",
    "y = 0 "
   ]
  },
  {
   "cell_type": "code",
   "execution_count": 131,
   "id": "3921fbee",
   "metadata": {
    "execution": {
     "iopub.execute_input": "2023-11-11T17:26:40.452249Z",
     "iopub.status.busy": "2023-11-11T17:26:40.451885Z",
     "iopub.status.idle": "2023-11-11T17:26:40.458080Z",
     "shell.execute_reply": "2023-11-11T17:26:40.457189Z"
    },
    "papermill": {
     "duration": 0.115618,
     "end_time": "2023-11-11T17:26:40.460016",
     "exception": false,
     "start_time": "2023-11-11T17:26:40.344398",
     "status": "completed"
    },
    "tags": []
   },
   "outputs": [
    {
     "data": {
      "text/plain": [
       "'Mustang'"
      ]
     },
     "execution_count": 131,
     "metadata": {},
     "output_type": "execute_result"
    }
   ],
   "source": [
    "car = {\n",
    "  \"brand\": \"Ford\",\n",
    "  \"model\": \"Mustang\",\n",
    "  \"year\": 1964\n",
    "}\n",
    "\n",
    "car.get(\"model\")\n",
    "\n"
   ]
  },
  {
   "cell_type": "code",
   "execution_count": 132,
   "id": "c6476dc9",
   "metadata": {
    "execution": {
     "iopub.execute_input": "2023-11-11T17:26:40.675403Z",
     "iopub.status.busy": "2023-11-11T17:26:40.675091Z",
     "iopub.status.idle": "2023-11-11T17:26:40.681182Z",
     "shell.execute_reply": "2023-11-11T17:26:40.680405Z"
    },
    "papermill": {
     "duration": 0.11707,
     "end_time": "2023-11-11T17:26:40.683261",
     "exception": false,
     "start_time": "2023-11-11T17:26:40.566191",
     "status": "completed"
    },
    "tags": []
   },
   "outputs": [
    {
     "data": {
      "text/plain": [
       "'Mustang'"
      ]
     },
     "execution_count": 132,
     "metadata": {},
     "output_type": "execute_result"
    }
   ],
   "source": [
    "car = {\n",
    "  \"brand\": \"Ford\",\n",
    "  \"model\": \"Mustang\",\n",
    "  \"year\": 1964\n",
    "}\n",
    "car[\"model\"]"
   ]
  },
  {
   "cell_type": "code",
   "execution_count": 133,
   "id": "1a8f44dc",
   "metadata": {
    "execution": {
     "iopub.execute_input": "2023-11-11T17:26:40.895329Z",
     "iopub.status.busy": "2023-11-11T17:26:40.894557Z",
     "iopub.status.idle": "2023-11-11T17:26:40.900862Z",
     "shell.execute_reply": "2023-11-11T17:26:40.900013Z"
    },
    "papermill": {
     "duration": 0.115448,
     "end_time": "2023-11-11T17:26:40.903011",
     "exception": false,
     "start_time": "2023-11-11T17:26:40.787563",
     "status": "completed"
    },
    "tags": []
   },
   "outputs": [
    {
     "data": {
      "text/plain": [
       "dict_keys(['brand', 'model', 'year'])"
      ]
     },
     "execution_count": 133,
     "metadata": {},
     "output_type": "execute_result"
    }
   ],
   "source": [
    "car = {\n",
    "  \"brand\": \"Ford\",\n",
    "  \"model\": \"Mustang\",\n",
    "  \"year\": 1964\n",
    "}\n",
    "\n",
    "car.keys()"
   ]
  },
  {
   "cell_type": "code",
   "execution_count": 134,
   "id": "ad60c1db",
   "metadata": {
    "execution": {
     "iopub.execute_input": "2023-11-11T17:26:41.121829Z",
     "iopub.status.busy": "2023-11-11T17:26:41.121015Z",
     "iopub.status.idle": "2023-11-11T17:26:41.127764Z",
     "shell.execute_reply": "2023-11-11T17:26:41.126756Z"
    },
    "papermill": {
     "duration": 0.122629,
     "end_time": "2023-11-11T17:26:41.129924",
     "exception": false,
     "start_time": "2023-11-11T17:26:41.007295",
     "status": "completed"
    },
    "tags": []
   },
   "outputs": [
    {
     "data": {
      "text/plain": [
       "dict_values(['Ford', 'Mustang', 1964])"
      ]
     },
     "execution_count": 134,
     "metadata": {},
     "output_type": "execute_result"
    }
   ],
   "source": [
    "car.values()"
   ]
  },
  {
   "cell_type": "code",
   "execution_count": 135,
   "id": "6cca273f",
   "metadata": {
    "execution": {
     "iopub.execute_input": "2023-11-11T17:26:41.340480Z",
     "iopub.status.busy": "2023-11-11T17:26:41.340149Z",
     "iopub.status.idle": "2023-11-11T17:26:41.345667Z",
     "shell.execute_reply": "2023-11-11T17:26:41.344837Z"
    },
    "papermill": {
     "duration": 0.113872,
     "end_time": "2023-11-11T17:26:41.347806",
     "exception": false,
     "start_time": "2023-11-11T17:26:41.233934",
     "status": "completed"
    },
    "tags": []
   },
   "outputs": [
    {
     "data": {
      "text/plain": [
       "dict_items([('brand', 'Ford'), ('model', 'Mustang'), ('year', 1964)])"
      ]
     },
     "execution_count": 135,
     "metadata": {},
     "output_type": "execute_result"
    }
   ],
   "source": [
    "car.items()"
   ]
  },
  {
   "cell_type": "code",
   "execution_count": 136,
   "id": "2c6fec60",
   "metadata": {
    "execution": {
     "iopub.execute_input": "2023-11-11T17:26:41.569416Z",
     "iopub.status.busy": "2023-11-11T17:26:41.568628Z",
     "iopub.status.idle": "2023-11-11T17:26:41.574146Z",
     "shell.execute_reply": "2023-11-11T17:26:41.573256Z"
    },
    "papermill": {
     "duration": 0.121549,
     "end_time": "2023-11-11T17:26:41.576791",
     "exception": false,
     "start_time": "2023-11-11T17:26:41.455242",
     "status": "completed"
    },
    "tags": []
   },
   "outputs": [
    {
     "name": "stdout",
     "output_type": "stream",
     "text": [
      "{'brand': 'Ford', 'year': 1964}\n"
     ]
    }
   ],
   "source": [
    "car = {\n",
    "  \"brand\": \"Ford\",\n",
    "  \"model\": \"Mustang\",\n",
    "  \"year\": 1964\n",
    "}\n",
    "\n",
    "car.pop(\"model\")\n",
    "\n",
    "print(car)"
   ]
  },
  {
   "cell_type": "code",
   "execution_count": 137,
   "id": "4cb418e1",
   "metadata": {
    "execution": {
     "iopub.execute_input": "2023-11-11T17:26:41.794684Z",
     "iopub.status.busy": "2023-11-11T17:26:41.794374Z",
     "iopub.status.idle": "2023-11-11T17:26:41.799517Z",
     "shell.execute_reply": "2023-11-11T17:26:41.798648Z"
    },
    "papermill": {
     "duration": 0.116092,
     "end_time": "2023-11-11T17:26:41.801783",
     "exception": false,
     "start_time": "2023-11-11T17:26:41.685691",
     "status": "completed"
    },
    "tags": []
   },
   "outputs": [
    {
     "name": "stdout",
     "output_type": "stream",
     "text": [
      "{'brand': 'Ford', 'model': 'Mustang'}\n"
     ]
    }
   ],
   "source": [
    "car = {\n",
    "  \"brand\": \"Ford\",\n",
    "  \"model\": \"Mustang\",\n",
    "  \"year\": 1964\n",
    "}\n",
    "\n",
    "car.popitem()\n",
    "\n",
    "print(car)"
   ]
  },
  {
   "cell_type": "code",
   "execution_count": 138,
   "id": "85cdfbab",
   "metadata": {
    "execution": {
     "iopub.execute_input": "2023-11-11T17:26:42.010915Z",
     "iopub.status.busy": "2023-11-11T17:26:42.010584Z",
     "iopub.status.idle": "2023-11-11T17:26:42.015568Z",
     "shell.execute_reply": "2023-11-11T17:26:42.014704Z"
    },
    "papermill": {
     "duration": 0.112088,
     "end_time": "2023-11-11T17:26:42.017969",
     "exception": false,
     "start_time": "2023-11-11T17:26:41.905881",
     "status": "completed"
    },
    "tags": []
   },
   "outputs": [
    {
     "name": "stdout",
     "output_type": "stream",
     "text": [
      "None\n"
     ]
    }
   ],
   "source": [
    "car = {\n",
    "  \"brand\": \"Ford\",\n",
    "    \"model\" : None ,\n",
    "\n",
    "  \"year\": 1964\n",
    "}\n",
    "\n",
    "x = car.setdefault(\"model\", \"Bronco\")\n",
    "\n",
    "print(x)"
   ]
  },
  {
   "cell_type": "code",
   "execution_count": 139,
   "id": "0de542d5",
   "metadata": {
    "execution": {
     "iopub.execute_input": "2023-11-11T17:26:42.229421Z",
     "iopub.status.busy": "2023-11-11T17:26:42.229108Z",
     "iopub.status.idle": "2023-11-11T17:26:42.234149Z",
     "shell.execute_reply": "2023-11-11T17:26:42.233368Z"
    },
    "papermill": {
     "duration": 0.11577,
     "end_time": "2023-11-11T17:26:42.236276",
     "exception": false,
     "start_time": "2023-11-11T17:26:42.120506",
     "status": "completed"
    },
    "tags": []
   },
   "outputs": [
    {
     "name": "stdout",
     "output_type": "stream",
     "text": [
      "{'brand': 'Ford', 'model': 'Mustang', 'year': 1964, 'color': 'White'}\n"
     ]
    }
   ],
   "source": [
    "car = {\n",
    "  \"brand\": \"Ford\",\n",
    "  \"model\": \"Mustang\",\n",
    "  \"year\": 1964\n",
    "}\n",
    "\n",
    "\n",
    "car.update({\"color\": \"White\"})\n",
    "print(car)\n",
    "\n"
   ]
  },
  {
   "cell_type": "code",
   "execution_count": 140,
   "id": "e0dba2b8",
   "metadata": {
    "execution": {
     "iopub.execute_input": "2023-11-11T17:26:42.450850Z",
     "iopub.status.busy": "2023-11-11T17:26:42.450494Z",
     "iopub.status.idle": "2023-11-11T17:26:42.454594Z",
     "shell.execute_reply": "2023-11-11T17:26:42.453764Z"
    },
    "papermill": {
     "duration": 0.115227,
     "end_time": "2023-11-11T17:26:42.456439",
     "exception": false,
     "start_time": "2023-11-11T17:26:42.341212",
     "status": "completed"
    },
    "tags": []
   },
   "outputs": [],
   "source": [
    "# *"
   ]
  },
  {
   "cell_type": "code",
   "execution_count": 141,
   "id": "7286a9f9",
   "metadata": {
    "execution": {
     "iopub.execute_input": "2023-11-11T17:26:42.669950Z",
     "iopub.status.busy": "2023-11-11T17:26:42.669646Z",
     "iopub.status.idle": "2023-11-11T17:26:42.674245Z",
     "shell.execute_reply": "2023-11-11T17:26:42.673365Z"
    },
    "papermill": {
     "duration": 0.114744,
     "end_time": "2023-11-11T17:26:42.676366",
     "exception": false,
     "start_time": "2023-11-11T17:26:42.561622",
     "status": "completed"
    },
    "tags": []
   },
   "outputs": [
    {
     "name": "stdout",
     "output_type": "stream",
     "text": [
      "*\n"
     ]
    }
   ],
   "source": [
    "print(\"*\")"
   ]
  },
  {
   "cell_type": "code",
   "execution_count": 142,
   "id": "1480392e",
   "metadata": {
    "execution": {
     "iopub.execute_input": "2023-11-11T17:26:42.887626Z",
     "iopub.status.busy": "2023-11-11T17:26:42.887285Z",
     "iopub.status.idle": "2023-11-11T17:26:42.892033Z",
     "shell.execute_reply": "2023-11-11T17:26:42.891361Z"
    },
    "papermill": {
     "duration": 0.110248,
     "end_time": "2023-11-11T17:26:42.893887",
     "exception": false,
     "start_time": "2023-11-11T17:26:42.783639",
     "status": "completed"
    },
    "tags": []
   },
   "outputs": [],
   "source": [
    "# *\n",
    "# **"
   ]
  },
  {
   "cell_type": "code",
   "execution_count": 143,
   "id": "f9ec3663",
   "metadata": {
    "execution": {
     "iopub.execute_input": "2023-11-11T17:26:43.106445Z",
     "iopub.status.busy": "2023-11-11T17:26:43.106114Z",
     "iopub.status.idle": "2023-11-11T17:26:43.110981Z",
     "shell.execute_reply": "2023-11-11T17:26:43.110000Z"
    },
    "papermill": {
     "duration": 0.116636,
     "end_time": "2023-11-11T17:26:43.113025",
     "exception": false,
     "start_time": "2023-11-11T17:26:42.996389",
     "status": "completed"
    },
    "tags": []
   },
   "outputs": [
    {
     "name": "stdout",
     "output_type": "stream",
     "text": [
      "*\n",
      "**\n"
     ]
    }
   ],
   "source": [
    "print(\"*\")\n",
    "print(\"**\")"
   ]
  },
  {
   "cell_type": "code",
   "execution_count": 144,
   "id": "2da8141c",
   "metadata": {
    "execution": {
     "iopub.execute_input": "2023-11-11T17:26:43.340180Z",
     "iopub.status.busy": "2023-11-11T17:26:43.339821Z",
     "iopub.status.idle": "2023-11-11T17:26:43.343856Z",
     "shell.execute_reply": "2023-11-11T17:26:43.342925Z"
    },
    "papermill": {
     "duration": 0.122236,
     "end_time": "2023-11-11T17:26:43.345869",
     "exception": false,
     "start_time": "2023-11-11T17:26:43.223633",
     "status": "completed"
    },
    "tags": []
   },
   "outputs": [],
   "source": [
    "# *\n",
    "# **\n",
    "# ***\n",
    "# ****"
   ]
  },
  {
   "cell_type": "code",
   "execution_count": 145,
   "id": "536aaa63",
   "metadata": {
    "execution": {
     "iopub.execute_input": "2023-11-11T17:26:43.607528Z",
     "iopub.status.busy": "2023-11-11T17:26:43.606525Z",
     "iopub.status.idle": "2023-11-11T17:26:43.613095Z",
     "shell.execute_reply": "2023-11-11T17:26:43.612040Z"
    },
    "papermill": {
     "duration": 0.117382,
     "end_time": "2023-11-11T17:26:43.615132",
     "exception": false,
     "start_time": "2023-11-11T17:26:43.497750",
     "status": "completed"
    },
    "tags": []
   },
   "outputs": [
    {
     "name": "stdout",
     "output_type": "stream",
     "text": [
      "   *\n",
      "  **\n",
      " ***\n",
      "****\n",
      " ***\n",
      "  **\n",
      "   *\n"
     ]
    }
   ],
   "source": [
    "for i in range(4) :\n",
    "    print(\" \"*(3-i),end=\"\")\n",
    "    print(\"*\"* (i+1))\n",
    "#     print(\"--\")\n",
    "for j in range(3):\n",
    "    print(\" \"*(j+1),end=\"\")\n",
    "    print(\"*\"*(3-j))"
   ]
  },
  {
   "cell_type": "code",
   "execution_count": 146,
   "id": "968eb6db",
   "metadata": {
    "execution": {
     "iopub.execute_input": "2023-11-11T17:26:43.825205Z",
     "iopub.status.busy": "2023-11-11T17:26:43.824872Z",
     "iopub.status.idle": "2023-11-11T17:26:43.828880Z",
     "shell.execute_reply": "2023-11-11T17:26:43.828064Z"
    },
    "papermill": {
     "duration": 0.112488,
     "end_time": "2023-11-11T17:26:43.830831",
     "exception": false,
     "start_time": "2023-11-11T17:26:43.718343",
     "status": "completed"
    },
    "tags": []
   },
   "outputs": [],
   "source": [
    "#    *\n",
    "#   ***\n",
    "#  *****\n",
    "# *******\n",
    "\n",
    "#  *****\n",
    "#   ***\n",
    "#    *"
   ]
  },
  {
   "cell_type": "code",
   "execution_count": 147,
   "id": "28a2c352",
   "metadata": {
    "execution": {
     "iopub.execute_input": "2023-11-11T17:26:44.039259Z",
     "iopub.status.busy": "2023-11-11T17:26:44.038867Z",
     "iopub.status.idle": "2023-11-11T17:26:44.043107Z",
     "shell.execute_reply": "2023-11-11T17:26:44.042214Z"
    },
    "papermill": {
     "duration": 0.111106,
     "end_time": "2023-11-11T17:26:44.045053",
     "exception": false,
     "start_time": "2023-11-11T17:26:43.933947",
     "status": "completed"
    },
    "tags": []
   },
   "outputs": [],
   "source": [
    "# *\n",
    "# ***\n",
    "# *****\n",
    "# *******\n",
    "\n",
    "\n",
    "# *****\n",
    "# ***\n",
    "# *"
   ]
  },
  {
   "cell_type": "code",
   "execution_count": 148,
   "id": "12e03f52",
   "metadata": {
    "execution": {
     "iopub.execute_input": "2023-11-11T17:26:44.259391Z",
     "iopub.status.busy": "2023-11-11T17:26:44.259040Z",
     "iopub.status.idle": "2023-11-11T17:26:44.264290Z",
     "shell.execute_reply": "2023-11-11T17:26:44.263380Z"
    },
    "papermill": {
     "duration": 0.112779,
     "end_time": "2023-11-11T17:26:44.266357",
     "exception": false,
     "start_time": "2023-11-11T17:26:44.153578",
     "status": "completed"
    },
    "tags": []
   },
   "outputs": [
    {
     "name": "stdout",
     "output_type": "stream",
     "text": [
      "*\n",
      "***\n",
      "*****\n",
      "*******\n",
      "*\n",
      "*\n",
      "*\n"
     ]
    }
   ],
   "source": [
    "for i in range(4):\n",
    "    print(\"*\"* ((2*i)+1))\n",
    "for j in range(3):\n",
    "    print(\"*\")"
   ]
  },
  {
   "cell_type": "code",
   "execution_count": 149,
   "id": "1031df13",
   "metadata": {
    "execution": {
     "iopub.execute_input": "2023-11-11T17:26:44.479794Z",
     "iopub.status.busy": "2023-11-11T17:26:44.479449Z",
     "iopub.status.idle": "2023-11-11T17:26:44.483414Z",
     "shell.execute_reply": "2023-11-11T17:26:44.482483Z"
    },
    "papermill": {
     "duration": 0.11294,
     "end_time": "2023-11-11T17:26:44.485366",
     "exception": false,
     "start_time": "2023-11-11T17:26:44.372426",
     "status": "completed"
    },
    "tags": []
   },
   "outputs": [],
   "source": [
    "#     *\n",
    "#    ***\n",
    "#   *****\n",
    "#  *******\n",
    "# *********\n",
    "#  *******\n",
    "#   *****\n",
    "#    ***\n",
    "#     *"
   ]
  },
  {
   "cell_type": "code",
   "execution_count": 150,
   "id": "e5424400",
   "metadata": {
    "execution": {
     "iopub.execute_input": "2023-11-11T17:26:44.700288Z",
     "iopub.status.busy": "2023-11-11T17:26:44.699950Z",
     "iopub.status.idle": "2023-11-11T17:26:44.706618Z",
     "shell.execute_reply": "2023-11-11T17:26:44.705786Z"
    },
    "papermill": {
     "duration": 0.115399,
     "end_time": "2023-11-11T17:26:44.709096",
     "exception": false,
     "start_time": "2023-11-11T17:26:44.593697",
     "status": "completed"
    },
    "tags": []
   },
   "outputs": [
    {
     "name": "stdout",
     "output_type": "stream",
     "text": [
      "                        *\n",
      "                       ***\n",
      "                      *****\n",
      "                     *******\n",
      "                    *********\n",
      "                   ***********\n",
      "                  *************\n",
      "                 ***************\n",
      "                *****************\n",
      "               *******************\n",
      "              *********************\n",
      "             ***********************\n",
      "            *************************\n",
      "           ***************************\n",
      "          *****************************\n",
      "         *******************************\n",
      "        *********************************\n",
      "       ***********************************\n",
      "      *************************************\n",
      "     ***************************************\n",
      "    *****************************************\n",
      "   *******************************************\n",
      "  *********************************************\n",
      " ***********************************************\n",
      "*************************************************\n",
      " ***********************************************\n",
      "  *********************************************\n",
      "   *******************************************\n",
      "    *****************************************\n",
      "     ***************************************\n",
      "      *************************************\n",
      "       ***********************************\n",
      "        *********************************\n",
      "         *******************************\n",
      "          *****************************\n",
      "           ***************************\n",
      "            *************************\n",
      "             ***********************\n",
      "              *********************\n",
      "               *******************\n",
      "                *****************\n",
      "                 ***************\n",
      "                  *************\n",
      "                   ***********\n",
      "                    *********\n",
      "                     *******\n",
      "                      *****\n",
      "                       ***\n",
      "                        *\n"
     ]
    }
   ],
   "source": [
    "n =25\n",
    "\n",
    "for i in range(n):\n",
    "    print(\" \"*(n-1-i),end=\"\")\n",
    "    print(\"*\"*((2*i)+1))\n",
    "for j in range(n-1):\n",
    "    print(\" \"*(j+1),end=\"\")\n",
    "    print(\"*\"*((2*(n-2-j))+1))"
   ]
  },
  {
   "cell_type": "markdown",
   "id": "cfc65e2f",
   "metadata": {
    "papermill": {
     "duration": 0.107313,
     "end_time": "2023-11-11T17:26:44.920121",
     "exception": false,
     "start_time": "2023-11-11T17:26:44.812808",
     "status": "completed"
    },
    "tags": []
   },
   "source": [
    "# "
   ]
  },
  {
   "cell_type": "code",
   "execution_count": 151,
   "id": "03e38849",
   "metadata": {
    "execution": {
     "iopub.execute_input": "2023-11-11T17:26:45.131226Z",
     "iopub.status.busy": "2023-11-11T17:26:45.130532Z",
     "iopub.status.idle": "2023-11-11T17:26:45.134823Z",
     "shell.execute_reply": "2023-11-11T17:26:45.133763Z"
    },
    "papermill": {
     "duration": 0.11129,
     "end_time": "2023-11-11T17:26:45.136777",
     "exception": false,
     "start_time": "2023-11-11T17:26:45.025487",
     "status": "completed"
    },
    "tags": []
   },
   "outputs": [],
   "source": [
    "#    *    \n",
    "#   * *\n",
    "#  *   *\n",
    "# *     *\n",
    "#  *   *\n",
    "#   * *\n",
    "\n",
    "\n",
    "#    *"
   ]
  },
  {
   "cell_type": "code",
   "execution_count": 152,
   "id": "6ec3eda8",
   "metadata": {
    "execution": {
     "iopub.execute_input": "2023-11-11T17:26:45.376835Z",
     "iopub.status.busy": "2023-11-11T17:26:45.375894Z",
     "iopub.status.idle": "2023-11-11T17:26:45.385172Z",
     "shell.execute_reply": "2023-11-11T17:26:45.384081Z"
    },
    "papermill": {
     "duration": 0.129281,
     "end_time": "2023-11-11T17:26:45.387841",
     "exception": false,
     "start_time": "2023-11-11T17:26:45.258560",
     "status": "completed"
    },
    "tags": []
   },
   "outputs": [
    {
     "name": "stdout",
     "output_type": "stream",
     "text": [
      "           *\n",
      "          * *\n",
      "         *   *\n",
      "        *     *\n",
      "       *       *\n",
      "      *         *\n",
      "     *           *\n",
      "    *             *\n",
      "   *               *\n",
      "  *                 *\n",
      " *                   *\n",
      "  *                 *\n",
      "   *               *\n",
      "    *             *\n",
      "     *           *\n",
      "      *         *\n",
      "       *       *\n",
      "        *     *\n",
      "         *   *\n",
      "          * *\n",
      "           *\n"
     ]
    }
   ],
   "source": [
    "n = 11\n",
    "# n = 4\n",
    "print(\" \"*(n-1),\"*\")\n",
    "for i in range((n-1)):\n",
    "    print(\" \"*(n-2-i),\"*\"+\" \"*((2*i )+1)+\"*\")\n",
    "for j in range(n-2):\n",
    "    print(\" \"*(j+1),\"*\"+\" \"*((2*(n-2-j))-1)+\"*\")\n",
    "    \n",
    "\n",
    "    \n",
    "print(\" \"*(n-1),\"*\")"
   ]
  },
  {
   "cell_type": "code",
   "execution_count": 153,
   "id": "b720f4fe",
   "metadata": {
    "execution": {
     "iopub.execute_input": "2023-11-11T17:26:45.631314Z",
     "iopub.status.busy": "2023-11-11T17:26:45.630377Z",
     "iopub.status.idle": "2023-11-11T17:26:45.635096Z",
     "shell.execute_reply": "2023-11-11T17:26:45.634188Z"
    },
    "papermill": {
     "duration": 0.126792,
     "end_time": "2023-11-11T17:26:45.637147",
     "exception": false,
     "start_time": "2023-11-11T17:26:45.510355",
     "status": "completed"
    },
    "tags": []
   },
   "outputs": [],
   "source": [
    "# 1\n",
    "# 1 1\n",
    "# 1 1 1\n",
    "# 1 1 1 1\n",
    "# 1 1 1 1 1"
   ]
  },
  {
   "cell_type": "code",
   "execution_count": 154,
   "id": "9eaad0c0",
   "metadata": {
    "execution": {
     "iopub.execute_input": "2023-11-11T17:26:45.858344Z",
     "iopub.status.busy": "2023-11-11T17:26:45.857943Z",
     "iopub.status.idle": "2023-11-11T17:26:45.863889Z",
     "shell.execute_reply": "2023-11-11T17:26:45.862891Z"
    },
    "papermill": {
     "duration": 0.118078,
     "end_time": "2023-11-11T17:26:45.865909",
     "exception": false,
     "start_time": "2023-11-11T17:26:45.747831",
     "status": "completed"
    },
    "tags": []
   },
   "outputs": [
    {
     "name": "stdout",
     "output_type": "stream",
     "text": [
      "1 \n",
      "1 1 \n",
      "1 1 1 \n",
      "1 1 1 1 \n",
      "1 1 1 1 1 \n"
     ]
    }
   ],
   "source": [
    "for i in range(5):\n",
    "    print(\"1 \"*(i+1))"
   ]
  },
  {
   "cell_type": "code",
   "execution_count": 155,
   "id": "85369583",
   "metadata": {
    "execution": {
     "iopub.execute_input": "2023-11-11T17:26:46.089194Z",
     "iopub.status.busy": "2023-11-11T17:26:46.088330Z",
     "iopub.status.idle": "2023-11-11T17:26:46.093023Z",
     "shell.execute_reply": "2023-11-11T17:26:46.092095Z"
    },
    "papermill": {
     "duration": 0.118343,
     "end_time": "2023-11-11T17:26:46.095047",
     "exception": false,
     "start_time": "2023-11-11T17:26:45.976704",
     "status": "completed"
    },
    "tags": []
   },
   "outputs": [],
   "source": [
    "# 1\n",
    "# 1 2\n",
    "# 1 2 3\n",
    "# 1 2 3 4\n",
    "# 1 2 3 4 5"
   ]
  },
  {
   "cell_type": "code",
   "execution_count": 156,
   "id": "7a8aaac5",
   "metadata": {
    "execution": {
     "iopub.execute_input": "2023-11-11T17:26:46.313433Z",
     "iopub.status.busy": "2023-11-11T17:26:46.313104Z",
     "iopub.status.idle": "2023-11-11T17:26:46.318116Z",
     "shell.execute_reply": "2023-11-11T17:26:46.317278Z"
    },
    "papermill": {
     "duration": 0.118764,
     "end_time": "2023-11-11T17:26:46.320583",
     "exception": false,
     "start_time": "2023-11-11T17:26:46.201819",
     "status": "completed"
    },
    "tags": []
   },
   "outputs": [
    {
     "name": "stdout",
     "output_type": "stream",
     "text": [
      "1 \n",
      "1 2 \n",
      "1 2 3 \n",
      "1 2 3 4 \n",
      "1 2 3 4 5 \n"
     ]
    }
   ],
   "source": [
    "for i in range(5):\n",
    "    for j in range(i+1) :\n",
    "        print(j+1,end=\" \")\n",
    "    print()"
   ]
  },
  {
   "cell_type": "code",
   "execution_count": 157,
   "id": "652ddc75",
   "metadata": {
    "execution": {
     "iopub.execute_input": "2023-11-11T17:26:46.542547Z",
     "iopub.status.busy": "2023-11-11T17:26:46.542215Z",
     "iopub.status.idle": "2023-11-11T17:26:46.546840Z",
     "shell.execute_reply": "2023-11-11T17:26:46.545863Z"
    },
    "papermill": {
     "duration": 0.119392,
     "end_time": "2023-11-11T17:26:46.549020",
     "exception": false,
     "start_time": "2023-11-11T17:26:46.429628",
     "status": "completed"
    },
    "tags": []
   },
   "outputs": [],
   "source": [
    "#       1\n",
    "#     1 2 1\n",
    "#   1 2 3 2 1 \n",
    "# 1 2 3 4 3 2 1\n",
    "#   1 2 3 2 1\n",
    "#     1 2 1\n",
    "#       1"
   ]
  },
  {
   "cell_type": "code",
   "execution_count": 158,
   "id": "37726884",
   "metadata": {
    "execution": {
     "iopub.execute_input": "2023-11-11T17:26:46.765216Z",
     "iopub.status.busy": "2023-11-11T17:26:46.764906Z",
     "iopub.status.idle": "2023-11-11T17:26:46.773598Z",
     "shell.execute_reply": "2023-11-11T17:26:46.772766Z"
    },
    "papermill": {
     "duration": 0.117342,
     "end_time": "2023-11-11T17:26:46.775837",
     "exception": false,
     "start_time": "2023-11-11T17:26:46.658495",
     "status": "completed"
    },
    "tags": []
   },
   "outputs": [
    {
     "name": "stdout",
     "output_type": "stream",
     "text": [
      "              1 \n",
      "            1 2 1 \n",
      "          1 2 3 2 1 \n",
      "        1 2 3 4 3 2 1 \n",
      "      1 2 3 4 5 4 3 2 1 \n",
      "    1 2 3 4 5 6 5 4 3 2 1 \n",
      "  1 2 3 4 5 6 7 6 5 4 3 2 1 \n",
      "1 2 3 4 5 6 7 8 7 6 5 4 3 2 1 \n",
      "  1 2 3 4 5 6 7 6 5 4 3 2 1 \n",
      "    1 2 3 4 5 6 5 4 3 2 1 \n",
      "      1 2 3 4 5 4 3 2 1 \n",
      "        1 2 3 4 3 2 1 \n",
      "          1 2 3 2 1 \n",
      "            1 2 1 \n",
      "              1 \n"
     ]
    }
   ],
   "source": [
    "n = 8\n",
    "# 4\n",
    "for i in range(n):\n",
    "    print(\" \"*(2*(n-1-i)),end=\"\")\n",
    "    for j in range(i+1):\n",
    "        print(j+1 ,end=\" \")\n",
    "    for k in range(i-1,-1,-1):\n",
    "        print(k+1 ,end=\" \")\n",
    "    print()\n",
    "for p in range(n-1) : # 0 13\n",
    "    print(\" \"*(2*(p+1)),end=\"\")\n",
    "    for q in range(n-1-p) :\n",
    "        print(q+1,end=\" \")        \n",
    "    for r in range(n-p-3,-1,-1):\n",
    "        print(r+1,end=\" \")\n",
    "    print()"
   ]
  },
  {
   "cell_type": "markdown",
   "id": "2e730e5e",
   "metadata": {
    "execution": {
     "iopub.execute_input": "2023-10-20T17:08:22.412842Z",
     "iopub.status.busy": "2023-10-20T17:08:22.412393Z",
     "iopub.status.idle": "2023-10-20T17:08:22.418210Z",
     "shell.execute_reply": "2023-10-20T17:08:22.417396Z",
     "shell.execute_reply.started": "2023-10-20T17:08:22.412813Z"
    },
    "papermill": {
     "duration": 0.113335,
     "end_time": "2023-11-11T17:26:46.995657",
     "exception": false,
     "start_time": "2023-11-11T17:26:46.882322",
     "status": "completed"
    },
    "tags": []
   },
   "source": [
    "# for i in range(4):\n",
    "    print(i, end=\" \")"
   ]
  },
  {
   "cell_type": "code",
   "execution_count": 159,
   "id": "521ce211",
   "metadata": {
    "execution": {
     "iopub.execute_input": "2023-11-11T17:26:47.217681Z",
     "iopub.status.busy": "2023-11-11T17:26:47.217027Z",
     "iopub.status.idle": "2023-11-11T17:26:47.221791Z",
     "shell.execute_reply": "2023-11-11T17:26:47.220855Z"
    },
    "papermill": {
     "duration": 0.11339,
     "end_time": "2023-11-11T17:26:47.223999",
     "exception": false,
     "start_time": "2023-11-11T17:26:47.110609",
     "status": "completed"
    },
    "tags": []
   },
   "outputs": [
    {
     "name": "stdout",
     "output_type": "stream",
     "text": [
      "3 2 1 0 "
     ]
    }
   ],
   "source": [
    "for i in range(3,-1,-1):\n",
    "    print(i, end=\" \")"
   ]
  },
  {
   "cell_type": "code",
   "execution_count": 160,
   "id": "41d00034",
   "metadata": {
    "execution": {
     "iopub.execute_input": "2023-11-11T17:26:47.436994Z",
     "iopub.status.busy": "2023-11-11T17:26:47.436659Z",
     "iopub.status.idle": "2023-11-11T17:26:47.440649Z",
     "shell.execute_reply": "2023-11-11T17:26:47.439888Z"
    },
    "papermill": {
     "duration": 0.11104,
     "end_time": "2023-11-11T17:26:47.442418",
     "exception": false,
     "start_time": "2023-11-11T17:26:47.331378",
     "status": "completed"
    },
    "tags": []
   },
   "outputs": [],
   "source": [
    "# 0  \n",
    "\n",
    "# 0 1  \n",
    "\n",
    "# 0 2 4  \n",
    "\n",
    "# 0 3 6 9  \n",
    "\n",
    "# 0 4 8 12 16  \n",
    "\n",
    "# 0 5 10 15 20 25  \n",
    "\n",
    "# 0 6 12 18 24 30 36"
   ]
  },
  {
   "cell_type": "code",
   "execution_count": 161,
   "id": "0820767e",
   "metadata": {
    "execution": {
     "iopub.execute_input": "2023-11-11T17:26:47.704895Z",
     "iopub.status.busy": "2023-11-11T17:26:47.704303Z",
     "iopub.status.idle": "2023-11-11T17:26:47.710666Z",
     "shell.execute_reply": "2023-11-11T17:26:47.709774Z"
    },
    "papermill": {
     "duration": 0.117851,
     "end_time": "2023-11-11T17:26:47.712859",
     "exception": false,
     "start_time": "2023-11-11T17:26:47.595008",
     "status": "completed"
    },
    "tags": []
   },
   "outputs": [
    {
     "name": "stdout",
     "output_type": "stream",
     "text": [
      "0 \n",
      "0 1 \n",
      "0 2 4 \n",
      "0 3 6 9 \n",
      "0 4 8 12 16 \n",
      "0 5 10 15 20 25 \n",
      "0 6 12 18 24 30 36 \n",
      "0 7 14 21 28 35 42 49 \n",
      "0 8 16 24 32 40 48 56 64 \n",
      "0 9 18 27 36 45 54 63 72 81 \n",
      "0 10 20 30 40 50 60 70 80 90 100 \n",
      "0 11 22 33 44 55 66 77 88 99 110 121 \n",
      "0 12 24 36 48 60 72 84 96 108 120 132 144 \n",
      "0 13 26 39 52 65 78 91 104 117 130 143 156 169 \n",
      "0 14 28 42 56 70 84 98 112 126 140 154 168 182 196 \n",
      "0 15 30 45 60 75 90 105 120 135 150 165 180 195 210 225 \n"
     ]
    }
   ],
   "source": [
    "n = 15\n",
    "# 6\n",
    "for i in range(n+1):\n",
    "    for j in range(i+1):\n",
    "        print(j*i,end=\" \")\n",
    "    print()"
   ]
  },
  {
   "cell_type": "code",
   "execution_count": 162,
   "id": "73772274",
   "metadata": {
    "execution": {
     "iopub.execute_input": "2023-11-11T17:26:47.923854Z",
     "iopub.status.busy": "2023-11-11T17:26:47.923532Z",
     "iopub.status.idle": "2023-11-11T17:26:47.927346Z",
     "shell.execute_reply": "2023-11-11T17:26:47.926526Z"
    },
    "papermill": {
     "duration": 0.108915,
     "end_time": "2023-11-11T17:26:47.929183",
     "exception": false,
     "start_time": "2023-11-11T17:26:47.820268",
     "status": "completed"
    },
    "tags": []
   },
   "outputs": [],
   "source": [
    "# 1 \n",
    "\n",
    "# 3 3 \n",
    "\n",
    "# 5 5 5 \n",
    "\n",
    "# 7 7 7 7 \n",
    "\n",
    "# 9 9 9 9 9"
   ]
  },
  {
   "cell_type": "code",
   "execution_count": 163,
   "id": "451897e1",
   "metadata": {
    "execution": {
     "iopub.execute_input": "2023-11-11T17:26:48.141164Z",
     "iopub.status.busy": "2023-11-11T17:26:48.140392Z",
     "iopub.status.idle": "2023-11-11T17:26:48.145785Z",
     "shell.execute_reply": "2023-11-11T17:26:48.145006Z"
    },
    "papermill": {
     "duration": 0.114652,
     "end_time": "2023-11-11T17:26:48.147858",
     "exception": false,
     "start_time": "2023-11-11T17:26:48.033206",
     "status": "completed"
    },
    "tags": []
   },
   "outputs": [
    {
     "name": "stdout",
     "output_type": "stream",
     "text": [
      "1 \n",
      "3 3 \n",
      "5 5 5 \n",
      "7 7 7 7 \n",
      "9 9 9 9 9 \n"
     ]
    }
   ],
   "source": [
    "\n",
    "n = 5\n",
    "for i in range(n):\n",
    "    for j in range(i+1):\n",
    "        print((2*i)+1,end=\" \")\n",
    "    print()"
   ]
  },
  {
   "cell_type": "code",
   "execution_count": 164,
   "id": "8264fe67",
   "metadata": {
    "execution": {
     "iopub.execute_input": "2023-11-11T17:26:48.362282Z",
     "iopub.status.busy": "2023-11-11T17:26:48.361891Z",
     "iopub.status.idle": "2023-11-11T17:26:48.366095Z",
     "shell.execute_reply": "2023-11-11T17:26:48.365223Z"
    },
    "papermill": {
     "duration": 0.115378,
     "end_time": "2023-11-11T17:26:48.368166",
     "exception": false,
     "start_time": "2023-11-11T17:26:48.252788",
     "status": "completed"
    },
    "tags": []
   },
   "outputs": [],
   "source": [
    "# ******\n",
    "#     *\n",
    "#    *\n",
    "#   *\n",
    "#  *\n",
    "# ******"
   ]
  },
  {
   "cell_type": "code",
   "execution_count": 165,
   "id": "50bce601",
   "metadata": {
    "execution": {
     "iopub.execute_input": "2023-11-11T17:26:48.582615Z",
     "iopub.status.busy": "2023-11-11T17:26:48.582295Z",
     "iopub.status.idle": "2023-11-11T17:26:48.588005Z",
     "shell.execute_reply": "2023-11-11T17:26:48.587078Z"
    },
    "papermill": {
     "duration": 0.116408,
     "end_time": "2023-11-11T17:26:48.590367",
     "exception": false,
     "start_time": "2023-11-11T17:26:48.473959",
     "status": "completed"
    },
    "tags": []
   },
   "outputs": [
    {
     "name": "stdout",
     "output_type": "stream",
     "text": [
      "************\n",
      "          *\n",
      "         *\n",
      "        *\n",
      "       *\n",
      "      *\n",
      "     *\n",
      "    *\n",
      "   *\n",
      "  *\n",
      " *\n",
      "************\n"
     ]
    }
   ],
   "source": [
    "n = 12\n",
    "print(\"*\"*n)\n",
    "for i in range(n-2):\n",
    "    print(\" \"*(n-2-i),end=\"\")\n",
    "    print(\"*\")\n",
    "print(\"*\"*n)"
   ]
  },
  {
   "cell_type": "code",
   "execution_count": 166,
   "id": "8d7d43dd",
   "metadata": {
    "execution": {
     "iopub.execute_input": "2023-11-11T17:26:48.804527Z",
     "iopub.status.busy": "2023-11-11T17:26:48.804240Z",
     "iopub.status.idle": "2023-11-11T17:26:48.808349Z",
     "shell.execute_reply": "2023-11-11T17:26:48.807471Z"
    },
    "papermill": {
     "duration": 0.113177,
     "end_time": "2023-11-11T17:26:48.810372",
     "exception": false,
     "start_time": "2023-11-11T17:26:48.697195",
     "status": "completed"
    },
    "tags": []
   },
   "outputs": [],
   "source": [
    "# 1 2 3 * * * N\n",
    "#           *\n",
    "#         *\n",
    "#       *\n",
    "#     3\n",
    "#   2\n",
    "# 1 2 3 * * * N\n"
   ]
  },
  {
   "cell_type": "code",
   "execution_count": 167,
   "id": "69ef375e",
   "metadata": {
    "execution": {
     "iopub.execute_input": "2023-11-11T17:26:49.027591Z",
     "iopub.status.busy": "2023-11-11T17:26:49.026949Z",
     "iopub.status.idle": "2023-11-11T17:26:49.034872Z",
     "shell.execute_reply": "2023-11-11T17:26:49.033984Z"
    },
    "papermill": {
     "duration": 0.118927,
     "end_time": "2023-11-11T17:26:49.037246",
     "exception": false,
     "start_time": "2023-11-11T17:26:48.918319",
     "status": "completed"
    },
    "tags": []
   },
   "outputs": [
    {
     "name": "stdout",
     "output_type": "stream",
     "text": [
      "1 2 3 * * * N\n",
      "\n",
      "          *\n",
      "        *\n",
      "      *\n",
      "    3\n",
      "  2\n",
      "1 2 3 * * * N\n"
     ]
    }
   ],
   "source": [
    "for i in range(3):\n",
    "    print(i+1, end=\" \")\n",
    "for j in range(3):\n",
    "    print(\"* \",end=\"\")\n",
    "print(\"N\")\n",
    "\n",
    "print()\n",
    "for k in range(3):\n",
    "    print(\" \"*(2*(5-k)),end=\"\")\n",
    "    print(\"*\")\n",
    "for m in range(2):\n",
    "    print(\" \"*(2*(2-m)),end=\"\")\n",
    "    print(3-m)   \n",
    "    \n",
    "    \n",
    "for i in range(3):\n",
    "    print(i+1, end=\" \")\n",
    "for j in range(3):\n",
    "    print(\"* \",end=\"\")\n",
    "print(\"N\")"
   ]
  },
  {
   "cell_type": "code",
   "execution_count": 168,
   "id": "5b14cef9",
   "metadata": {
    "execution": {
     "iopub.execute_input": "2023-11-11T17:26:49.258370Z",
     "iopub.status.busy": "2023-11-11T17:26:49.258021Z",
     "iopub.status.idle": "2023-11-11T17:26:49.263311Z",
     "shell.execute_reply": "2023-11-11T17:26:49.262377Z"
    },
    "papermill": {
     "duration": 0.120589,
     "end_time": "2023-11-11T17:26:49.265597",
     "exception": false,
     "start_time": "2023-11-11T17:26:49.145008",
     "status": "completed"
    },
    "tags": []
   },
   "outputs": [
    {
     "name": "stdout",
     "output_type": "stream",
     "text": [
      "prasad  is not eligible\n"
     ]
    }
   ],
   "source": [
    "m1 = 80\n",
    "m2 = 40\n",
    "student = \"prasad\"\n",
    "\n",
    "\n",
    "if m1 > 50 and m2 > 50 :\n",
    "    print(student , \" is eligible\")\n",
    "else :\n",
    "    print(student,\" is not eligible\")"
   ]
  },
  {
   "cell_type": "code",
   "execution_count": 169,
   "id": "5a714246",
   "metadata": {
    "execution": {
     "iopub.execute_input": "2023-11-11T17:26:49.497189Z",
     "iopub.status.busy": "2023-11-11T17:26:49.496515Z",
     "iopub.status.idle": "2023-11-11T17:26:49.501554Z",
     "shell.execute_reply": "2023-11-11T17:26:49.500712Z"
    },
    "papermill": {
     "duration": 0.118167,
     "end_time": "2023-11-11T17:26:49.503982",
     "exception": false,
     "start_time": "2023-11-11T17:26:49.385815",
     "status": "completed"
    },
    "tags": []
   },
   "outputs": [
    {
     "name": "stdout",
     "output_type": "stream",
     "text": [
      "sushmitha  is eligible\n"
     ]
    }
   ],
   "source": [
    "m1 = 70\n",
    "m2 = 80\n",
    "student = \"sushmitha\"\n",
    "if m1 > 50 and m2 > 50 :\n",
    "    print(student , \" is eligible\")\n",
    "else :\n",
    "    print(student,\" is not eligible\")\n"
   ]
  },
  {
   "cell_type": "code",
   "execution_count": 170,
   "id": "8f2bc24e",
   "metadata": {
    "execution": {
     "iopub.execute_input": "2023-11-11T17:26:49.728529Z",
     "iopub.status.busy": "2023-11-11T17:26:49.727843Z",
     "iopub.status.idle": "2023-11-11T17:26:49.732434Z",
     "shell.execute_reply": "2023-11-11T17:26:49.731556Z"
    },
    "papermill": {
     "duration": 0.119795,
     "end_time": "2023-11-11T17:26:49.734636",
     "exception": false,
     "start_time": "2023-11-11T17:26:49.614841",
     "status": "completed"
    },
    "tags": []
   },
   "outputs": [],
   "source": [
    "def level(a,b,student) :\n",
    "    c = a+b\n",
    "    print(student,\" got \", c ,\" marks\")"
   ]
  },
  {
   "cell_type": "code",
   "execution_count": 171,
   "id": "02244511",
   "metadata": {
    "execution": {
     "iopub.execute_input": "2023-11-11T17:26:49.955048Z",
     "iopub.status.busy": "2023-11-11T17:26:49.954655Z",
     "iopub.status.idle": "2023-11-11T17:26:49.960032Z",
     "shell.execute_reply": "2023-11-11T17:26:49.958904Z"
    },
    "papermill": {
     "duration": 0.117133,
     "end_time": "2023-11-11T17:26:49.962328",
     "exception": false,
     "start_time": "2023-11-11T17:26:49.845195",
     "status": "completed"
    },
    "tags": []
   },
   "outputs": [
    {
     "name": "stdout",
     "output_type": "stream",
     "text": [
      "prasad  got  90  marks\n"
     ]
    }
   ],
   "source": [
    "level(40,50,\"prasad\")"
   ]
  },
  {
   "cell_type": "code",
   "execution_count": 172,
   "id": "4c3bd3a0",
   "metadata": {
    "execution": {
     "iopub.execute_input": "2023-11-11T17:26:50.185109Z",
     "iopub.status.busy": "2023-11-11T17:26:50.184303Z",
     "iopub.status.idle": "2023-11-11T17:26:50.189379Z",
     "shell.execute_reply": "2023-11-11T17:26:50.188475Z"
    },
    "papermill": {
     "duration": 0.11748,
     "end_time": "2023-11-11T17:26:50.191397",
     "exception": false,
     "start_time": "2023-11-11T17:26:50.073917",
     "status": "completed"
    },
    "tags": []
   },
   "outputs": [
    {
     "name": "stdout",
     "output_type": "stream",
     "text": [
      "sush  got  130  marks\n"
     ]
    }
   ],
   "source": [
    "level(80,50,\"sush\")"
   ]
  },
  {
   "cell_type": "code",
   "execution_count": 173,
   "id": "e5160a5d",
   "metadata": {
    "execution": {
     "iopub.execute_input": "2023-11-11T17:26:50.411343Z",
     "iopub.status.busy": "2023-11-11T17:26:50.410475Z",
     "iopub.status.idle": "2023-11-11T17:26:50.416938Z",
     "shell.execute_reply": "2023-11-11T17:26:50.416105Z"
    },
    "papermill": {
     "duration": 0.119445,
     "end_time": "2023-11-11T17:26:50.419123",
     "exception": false,
     "start_time": "2023-11-11T17:26:50.299678",
     "status": "completed"
    },
    "tags": []
   },
   "outputs": [
    {
     "name": "stdout",
     "output_type": "stream",
     "text": [
      "--\n",
      "50\n",
      "def  is not eligible\n"
     ]
    }
   ],
   "source": [
    "\n",
    "\n",
    "def marks (m1,m2,student=\"def\"):\n",
    "    print(m1)\n",
    "    if m1 > 50 and m2 > 50 :\n",
    "        print(student , \" is eligible\")\n",
    "    else :\n",
    "        print(student,\" is not eligible\")\n",
    "        \n",
    "        \n",
    "        \n",
    "print(\"--\")\n",
    "\n",
    "        \n",
    "        \n",
    "        \n",
    "        \n",
    "marks(m1=50,m2=40)"
   ]
  },
  {
   "cell_type": "code",
   "execution_count": 174,
   "id": "23c2608d",
   "metadata": {
    "execution": {
     "iopub.execute_input": "2023-11-11T17:26:50.642498Z",
     "iopub.status.busy": "2023-11-11T17:26:50.641710Z",
     "iopub.status.idle": "2023-11-11T17:26:50.646779Z",
     "shell.execute_reply": "2023-11-11T17:26:50.645832Z"
    },
    "papermill": {
     "duration": 0.119444,
     "end_time": "2023-11-11T17:26:50.648858",
     "exception": false,
     "start_time": "2023-11-11T17:26:50.529414",
     "status": "completed"
    },
    "tags": []
   },
   "outputs": [
    {
     "name": "stdout",
     "output_type": "stream",
     "text": [
      "80\n",
      "swapna  is eligible\n"
     ]
    }
   ],
   "source": [
    "marks(student = \"swapna\",m2=90,m1=80)"
   ]
  },
  {
   "cell_type": "code",
   "execution_count": 175,
   "id": "a2b323f7",
   "metadata": {
    "execution": {
     "iopub.execute_input": "2023-11-11T17:26:50.924646Z",
     "iopub.status.busy": "2023-11-11T17:26:50.923762Z",
     "iopub.status.idle": "2023-11-11T17:26:50.928165Z",
     "shell.execute_reply": "2023-11-11T17:26:50.927247Z"
    },
    "papermill": {
     "duration": 0.172924,
     "end_time": "2023-11-11T17:26:50.930127",
     "exception": false,
     "start_time": "2023-11-11T17:26:50.757203",
     "status": "completed"
    },
    "tags": []
   },
   "outputs": [],
   "source": [
    "# marks(\"student\",90,80)"
   ]
  },
  {
   "cell_type": "code",
   "execution_count": 176,
   "id": "72f177b5",
   "metadata": {
    "execution": {
     "iopub.execute_input": "2023-11-11T17:26:51.161905Z",
     "iopub.status.busy": "2023-11-11T17:26:51.161525Z",
     "iopub.status.idle": "2023-11-11T17:26:51.166474Z",
     "shell.execute_reply": "2023-11-11T17:26:51.165536Z"
    },
    "papermill": {
     "duration": 0.120399,
     "end_time": "2023-11-11T17:26:51.168564",
     "exception": false,
     "start_time": "2023-11-11T17:26:51.048165",
     "status": "completed"
    },
    "tags": []
   },
   "outputs": [
    {
     "name": "stdout",
     "output_type": "stream",
     "text": [
      "30\n",
      "parth  is not eligible\n"
     ]
    }
   ],
   "source": [
    "marks(30,30,\"parth\")"
   ]
  },
  {
   "cell_type": "code",
   "execution_count": 177,
   "id": "b4ae7577",
   "metadata": {
    "execution": {
     "iopub.execute_input": "2023-11-11T17:26:51.392530Z",
     "iopub.status.busy": "2023-11-11T17:26:51.392202Z",
     "iopub.status.idle": "2023-11-11T17:26:51.397212Z",
     "shell.execute_reply": "2023-11-11T17:26:51.396238Z"
    },
    "papermill": {
     "duration": 0.118957,
     "end_time": "2023-11-11T17:26:51.399432",
     "exception": false,
     "start_time": "2023-11-11T17:26:51.280475",
     "status": "completed"
    },
    "tags": []
   },
   "outputs": [
    {
     "name": "stdout",
     "output_type": "stream",
     "text": [
      "90\n",
      "tayyab  is eligible\n"
     ]
    }
   ],
   "source": [
    "marks(90,90,\"tayyab\")"
   ]
  },
  {
   "cell_type": "code",
   "execution_count": 178,
   "id": "9299fc0a",
   "metadata": {
    "execution": {
     "iopub.execute_input": "2023-11-11T17:26:51.621543Z",
     "iopub.status.busy": "2023-11-11T17:26:51.621201Z",
     "iopub.status.idle": "2023-11-11T17:26:51.627094Z",
     "shell.execute_reply": "2023-11-11T17:26:51.626244Z"
    },
    "papermill": {
     "duration": 0.119298,
     "end_time": "2023-11-11T17:26:51.629203",
     "exception": false,
     "start_time": "2023-11-11T17:26:51.509905",
     "status": "completed"
    },
    "tags": []
   },
   "outputs": [
    {
     "name": "stdout",
     "output_type": "stream",
     "text": [
      "0\n",
      "st  is not eligible\n"
     ]
    }
   ],
   "source": [
    "\n",
    "\n",
    "def marks (m1=0,m2=0,student=\"st\") :\n",
    "    print(m1)\n",
    "    if m1 > 50 and m2 > 50 :\n",
    "        print(student , \" is eligible\")\n",
    "    else :\n",
    "        print(student,\" is not eligible\")\n",
    "        \n",
    "marks()"
   ]
  },
  {
   "cell_type": "code",
   "execution_count": 179,
   "id": "e1632731",
   "metadata": {
    "execution": {
     "iopub.execute_input": "2023-11-11T17:26:51.843772Z",
     "iopub.status.busy": "2023-11-11T17:26:51.843441Z",
     "iopub.status.idle": "2023-11-11T17:26:51.847431Z",
     "shell.execute_reply": "2023-11-11T17:26:51.846428Z"
    },
    "papermill": {
     "duration": 0.114134,
     "end_time": "2023-11-11T17:26:51.849450",
     "exception": false,
     "start_time": "2023-11-11T17:26:51.735316",
     "status": "completed"
    },
    "tags": []
   },
   "outputs": [],
   "source": [
    "# print \n",
    "# return"
   ]
  },
  {
   "cell_type": "code",
   "execution_count": 180,
   "id": "b198a8c5",
   "metadata": {
    "execution": {
     "iopub.execute_input": "2023-11-11T17:26:52.068467Z",
     "iopub.status.busy": "2023-11-11T17:26:52.068133Z",
     "iopub.status.idle": "2023-11-11T17:26:52.073608Z",
     "shell.execute_reply": "2023-11-11T17:26:52.072728Z"
    },
    "papermill": {
     "duration": 0.118869,
     "end_time": "2023-11-11T17:26:52.075519",
     "exception": false,
     "start_time": "2023-11-11T17:26:51.956650",
     "status": "completed"
    },
    "tags": []
   },
   "outputs": [
    {
     "name": "stdout",
     "output_type": "stream",
     "text": [
      "---- 15\n"
     ]
    }
   ],
   "source": [
    "def add (a,b) :\n",
    "    c = a+b\n",
    "    return c\n",
    "\n",
    "p= add(5,10)\n",
    "print(\"----\",p)"
   ]
  },
  {
   "cell_type": "code",
   "execution_count": 181,
   "id": "253be6e5",
   "metadata": {
    "execution": {
     "iopub.execute_input": "2023-11-11T17:26:52.291697Z",
     "iopub.status.busy": "2023-11-11T17:26:52.291363Z",
     "iopub.status.idle": "2023-11-11T17:26:52.296254Z",
     "shell.execute_reply": "2023-11-11T17:26:52.295422Z"
    },
    "papermill": {
     "duration": 0.1145,
     "end_time": "2023-11-11T17:26:52.298849",
     "exception": false,
     "start_time": "2023-11-11T17:26:52.184349",
     "status": "completed"
    },
    "tags": []
   },
   "outputs": [
    {
     "name": "stdout",
     "output_type": "stream",
     "text": [
      "15\n",
      "---- None\n"
     ]
    }
   ],
   "source": [
    "def add (a,b) :\n",
    "    c = a+b\n",
    "    print(c)\n",
    "\n",
    "p = add(5,10)\n",
    "print(\"----\",p)"
   ]
  },
  {
   "cell_type": "code",
   "execution_count": 182,
   "id": "5e902260",
   "metadata": {
    "execution": {
     "iopub.execute_input": "2023-11-11T17:26:52.521058Z",
     "iopub.status.busy": "2023-11-11T17:26:52.520698Z",
     "iopub.status.idle": "2023-11-11T17:26:52.524625Z",
     "shell.execute_reply": "2023-11-11T17:26:52.523754Z"
    },
    "papermill": {
     "duration": 0.120144,
     "end_time": "2023-11-11T17:26:52.526709",
     "exception": false,
     "start_time": "2023-11-11T17:26:52.406565",
     "status": "completed"
    },
    "tags": []
   },
   "outputs": [],
   "source": [
    "# if add(5,10 ) > 10 :\n",
    "#     print(\"eligible\")\n",
    "# else :\n",
    "#     print(\"not eligible\")"
   ]
  },
  {
   "cell_type": "code",
   "execution_count": 183,
   "id": "0cf86604",
   "metadata": {
    "execution": {
     "iopub.execute_input": "2023-11-11T17:26:52.744286Z",
     "iopub.status.busy": "2023-11-11T17:26:52.743608Z",
     "iopub.status.idle": "2023-11-11T17:26:52.749884Z",
     "shell.execute_reply": "2023-11-11T17:26:52.748972Z"
    },
    "papermill": {
     "duration": 0.114125,
     "end_time": "2023-11-11T17:26:52.751814",
     "exception": false,
     "start_time": "2023-11-11T17:26:52.637689",
     "status": "completed"
    },
    "tags": []
   },
   "outputs": [
    {
     "data": {
      "text/plain": [
       "15"
      ]
     },
     "execution_count": 183,
     "metadata": {},
     "output_type": "execute_result"
    }
   ],
   "source": [
    "def add (a,b) :\n",
    "    c = a+b\n",
    "    return c\n",
    "\n",
    "add(5,10)"
   ]
  },
  {
   "cell_type": "code",
   "execution_count": 184,
   "id": "ea18359b",
   "metadata": {
    "execution": {
     "iopub.execute_input": "2023-11-11T17:26:52.971340Z",
     "iopub.status.busy": "2023-11-11T17:26:52.971051Z",
     "iopub.status.idle": "2023-11-11T17:26:52.976973Z",
     "shell.execute_reply": "2023-11-11T17:26:52.976137Z"
    },
    "papermill": {
     "duration": 0.121501,
     "end_time": "2023-11-11T17:26:52.979119",
     "exception": false,
     "start_time": "2023-11-11T17:26:52.857618",
     "status": "completed"
    },
    "tags": []
   },
   "outputs": [
    {
     "data": {
      "text/plain": [
       "17"
      ]
     },
     "execution_count": 184,
     "metadata": {},
     "output_type": "execute_result"
    }
   ],
   "source": [
    "add = lambda  a,b : a+b\n",
    "add(7,10)"
   ]
  },
  {
   "cell_type": "code",
   "execution_count": 185,
   "id": "a9316cfd",
   "metadata": {
    "execution": {
     "iopub.execute_input": "2023-11-11T17:26:53.202710Z",
     "iopub.status.busy": "2023-11-11T17:26:53.201922Z",
     "iopub.status.idle": "2023-11-11T17:26:53.207822Z",
     "shell.execute_reply": "2023-11-11T17:26:53.206987Z"
    },
    "papermill": {
     "duration": 0.11794,
     "end_time": "2023-11-11T17:26:53.209760",
     "exception": false,
     "start_time": "2023-11-11T17:26:53.091820",
     "status": "completed"
    },
    "tags": []
   },
   "outputs": [
    {
     "data": {
      "text/plain": [
       "30"
      ]
     },
     "execution_count": 185,
     "metadata": {},
     "output_type": "execute_result"
    }
   ],
   "source": [
    "add(10,20)"
   ]
  },
  {
   "cell_type": "code",
   "execution_count": 186,
   "id": "1e9cbb00",
   "metadata": {
    "execution": {
     "iopub.execute_input": "2023-11-11T17:26:53.422925Z",
     "iopub.status.busy": "2023-11-11T17:26:53.422523Z",
     "iopub.status.idle": "2023-11-11T17:26:53.426495Z",
     "shell.execute_reply": "2023-11-11T17:26:53.425649Z"
    },
    "papermill": {
     "duration": 0.112811,
     "end_time": "2023-11-11T17:26:53.428394",
     "exception": false,
     "start_time": "2023-11-11T17:26:53.315583",
     "status": "completed"
    },
    "tags": []
   },
   "outputs": [],
   "source": [
    "# list comprehenison :  list + for loop / any loop"
   ]
  },
  {
   "cell_type": "code",
   "execution_count": 187,
   "id": "13070885",
   "metadata": {
    "execution": {
     "iopub.execute_input": "2023-11-11T17:26:53.645253Z",
     "iopub.status.busy": "2023-11-11T17:26:53.644610Z",
     "iopub.status.idle": "2023-11-11T17:26:53.651462Z",
     "shell.execute_reply": "2023-11-11T17:26:53.650611Z"
    },
    "papermill": {
     "duration": 0.120217,
     "end_time": "2023-11-11T17:26:53.653531",
     "exception": false,
     "start_time": "2023-11-11T17:26:53.533314",
     "status": "completed"
    },
    "tags": []
   },
   "outputs": [
    {
     "data": {
      "text/plain": [
       "[20, 30]"
      ]
     },
     "execution_count": 187,
     "metadata": {},
     "output_type": "execute_result"
    }
   ],
   "source": [
    "a = [20 ,25,30,35]\n",
    "\n",
    "even = []\n",
    "\n",
    "for i in a :\n",
    "    if i%2 == 0 :\n",
    "        even.append(i)\n",
    "        \n",
    "        \n",
    "        \n",
    "even"
   ]
  },
  {
   "cell_type": "code",
   "execution_count": 188,
   "id": "b268ee33",
   "metadata": {
    "execution": {
     "iopub.execute_input": "2023-11-11T17:26:53.871459Z",
     "iopub.status.busy": "2023-11-11T17:26:53.871095Z",
     "iopub.status.idle": "2023-11-11T17:26:53.877229Z",
     "shell.execute_reply": "2023-11-11T17:26:53.876420Z"
    },
    "papermill": {
     "duration": 0.115032,
     "end_time": "2023-11-11T17:26:53.879284",
     "exception": false,
     "start_time": "2023-11-11T17:26:53.764252",
     "status": "completed"
    },
    "tags": []
   },
   "outputs": [
    {
     "data": {
      "text/plain": [
       "[20, 30]"
      ]
     },
     "execution_count": 188,
     "metadata": {},
     "output_type": "execute_result"
    }
   ],
   "source": [
    "a = [20 ,25,30,35]\n",
    "\n",
    "even = [  i  for i in a  if i%2 == 0   ]       \n",
    "        \n",
    "        \n",
    "even"
   ]
  },
  {
   "cell_type": "code",
   "execution_count": 189,
   "id": "406e19a6",
   "metadata": {
    "execution": {
     "iopub.execute_input": "2023-11-11T17:26:54.099308Z",
     "iopub.status.busy": "2023-11-11T17:26:54.098978Z",
     "iopub.status.idle": "2023-11-11T17:26:54.105840Z",
     "shell.execute_reply": "2023-11-11T17:26:54.104923Z"
    },
    "papermill": {
     "duration": 0.120541,
     "end_time": "2023-11-11T17:26:54.107712",
     "exception": false,
     "start_time": "2023-11-11T17:26:53.987171",
     "status": "completed"
    },
    "tags": []
   },
   "outputs": [
    {
     "data": {
      "text/plain": [
       "{20: 'Abhi', 30: 'Abhi'}"
      ]
     },
     "execution_count": 189,
     "metadata": {},
     "output_type": "execute_result"
    }
   ],
   "source": [
    "a = [20 ,25,30,35]\n",
    "\n",
    "even = { i: \"Abhi\"  for i in a  if i%2 == 0   }       \n",
    "        \n",
    "        \n",
    "even"
   ]
  },
  {
   "cell_type": "code",
   "execution_count": 190,
   "id": "f4f33aa0",
   "metadata": {
    "execution": {
     "iopub.execute_input": "2023-11-11T17:26:54.329915Z",
     "iopub.status.busy": "2023-11-11T17:26:54.329056Z",
     "iopub.status.idle": "2023-11-11T17:26:54.333382Z",
     "shell.execute_reply": "2023-11-11T17:26:54.332663Z"
    },
    "papermill": {
     "duration": 0.11862,
     "end_time": "2023-11-11T17:26:54.335431",
     "exception": false,
     "start_time": "2023-11-11T17:26:54.216811",
     "status": "completed"
    },
    "tags": []
   },
   "outputs": [],
   "source": [
    "# break continue pass"
   ]
  },
  {
   "cell_type": "code",
   "execution_count": 191,
   "id": "cff6b817",
   "metadata": {
    "execution": {
     "iopub.execute_input": "2023-11-11T17:26:54.566118Z",
     "iopub.status.busy": "2023-11-11T17:26:54.565747Z",
     "iopub.status.idle": "2023-11-11T17:26:54.570272Z",
     "shell.execute_reply": "2023-11-11T17:26:54.569330Z"
    },
    "papermill": {
     "duration": 0.122872,
     "end_time": "2023-11-11T17:26:54.572443",
     "exception": false,
     "start_time": "2023-11-11T17:26:54.449571",
     "status": "completed"
    },
    "tags": []
   },
   "outputs": [],
   "source": [
    "def add(a,b):\n",
    "    pass\n",
    "    \n",
    "add(8,9)"
   ]
  },
  {
   "cell_type": "code",
   "execution_count": 192,
   "id": "bb43c280",
   "metadata": {
    "execution": {
     "iopub.execute_input": "2023-11-11T17:26:54.836840Z",
     "iopub.status.busy": "2023-11-11T17:26:54.836455Z",
     "iopub.status.idle": "2023-11-11T17:26:54.841645Z",
     "shell.execute_reply": "2023-11-11T17:26:54.840759Z"
    },
    "papermill": {
     "duration": 0.120942,
     "end_time": "2023-11-11T17:26:54.843863",
     "exception": false,
     "start_time": "2023-11-11T17:26:54.722921",
     "status": "completed"
    },
    "tags": []
   },
   "outputs": [
    {
     "name": "stdout",
     "output_type": "stream",
     "text": [
      "0\n",
      "1\n",
      "2\n"
     ]
    }
   ],
   "source": [
    "for i in range(5):\n",
    "    if i == 3 :\n",
    "        break\n",
    "    print(i)"
   ]
  },
  {
   "cell_type": "code",
   "execution_count": 193,
   "id": "7cc19b59",
   "metadata": {
    "execution": {
     "iopub.execute_input": "2023-11-11T17:26:55.068713Z",
     "iopub.status.busy": "2023-11-11T17:26:55.068354Z",
     "iopub.status.idle": "2023-11-11T17:26:55.073651Z",
     "shell.execute_reply": "2023-11-11T17:26:55.072770Z"
    },
    "papermill": {
     "duration": 0.122103,
     "end_time": "2023-11-11T17:26:55.076076",
     "exception": false,
     "start_time": "2023-11-11T17:26:54.953973",
     "status": "completed"
    },
    "tags": []
   },
   "outputs": [
    {
     "name": "stdout",
     "output_type": "stream",
     "text": [
      "0\n",
      "1\n",
      "2\n",
      "4\n"
     ]
    }
   ],
   "source": [
    "for i in range(5):\n",
    "    if i == 3 :\n",
    "        continue\n",
    "    print(i)"
   ]
  },
  {
   "cell_type": "code",
   "execution_count": 194,
   "id": "b35d6c44",
   "metadata": {
    "execution": {
     "iopub.execute_input": "2023-11-11T17:26:55.297315Z",
     "iopub.status.busy": "2023-11-11T17:26:55.296598Z",
     "iopub.status.idle": "2023-11-11T17:26:55.300633Z",
     "shell.execute_reply": "2023-11-11T17:26:55.299796Z"
    },
    "papermill": {
     "duration": 0.116444,
     "end_time": "2023-11-11T17:26:55.302818",
     "exception": false,
     "start_time": "2023-11-11T17:26:55.186374",
     "status": "completed"
    },
    "tags": []
   },
   "outputs": [],
   "source": [
    "# \\n = new line \\t tab"
   ]
  },
  {
   "cell_type": "code",
   "execution_count": 195,
   "id": "6acc8cc1",
   "metadata": {
    "execution": {
     "iopub.execute_input": "2023-11-11T17:26:55.523990Z",
     "iopub.status.busy": "2023-11-11T17:26:55.523623Z",
     "iopub.status.idle": "2023-11-11T17:26:55.528553Z",
     "shell.execute_reply": "2023-11-11T17:26:55.527554Z"
    },
    "papermill": {
     "duration": 0.116125,
     "end_time": "2023-11-11T17:26:55.530375",
     "exception": false,
     "start_time": "2023-11-11T17:26:55.414250",
     "status": "completed"
    },
    "tags": []
   },
   "outputs": [
    {
     "name": "stdout",
     "output_type": "stream",
     "text": [
      "mlv\n",
      "prasad\n"
     ]
    }
   ],
   "source": [
    "print(\"mlv\")\n",
    "print(\"prasad\")"
   ]
  },
  {
   "cell_type": "code",
   "execution_count": 196,
   "id": "985cd86a",
   "metadata": {
    "execution": {
     "iopub.execute_input": "2023-11-11T17:26:55.753461Z",
     "iopub.status.busy": "2023-11-11T17:26:55.753103Z",
     "iopub.status.idle": "2023-11-11T17:26:55.757861Z",
     "shell.execute_reply": "2023-11-11T17:26:55.757024Z"
    },
    "papermill": {
     "duration": 0.117607,
     "end_time": "2023-11-11T17:26:55.760187",
     "exception": false,
     "start_time": "2023-11-11T17:26:55.642580",
     "status": "completed"
    },
    "tags": []
   },
   "outputs": [
    {
     "name": "stdout",
     "output_type": "stream",
     "text": [
      "mlv\n",
      "prasad\n"
     ]
    }
   ],
   "source": [
    "print(\"mlv\\nprasad\")"
   ]
  },
  {
   "cell_type": "code",
   "execution_count": 197,
   "id": "fd1ae73d",
   "metadata": {
    "execution": {
     "iopub.execute_input": "2023-11-11T17:26:55.976676Z",
     "iopub.status.busy": "2023-11-11T17:26:55.975840Z",
     "iopub.status.idle": "2023-11-11T17:26:55.980805Z",
     "shell.execute_reply": "2023-11-11T17:26:55.979874Z"
    },
    "papermill": {
     "duration": 0.114583,
     "end_time": "2023-11-11T17:26:55.982690",
     "exception": false,
     "start_time": "2023-11-11T17:26:55.868107",
     "status": "completed"
    },
    "tags": []
   },
   "outputs": [
    {
     "name": "stdout",
     "output_type": "stream",
     "text": [
      "mlv    prasad    is    a    good    boy\n"
     ]
    }
   ],
   "source": [
    "print(\"mlv    prasad    is    a    good    boy\")"
   ]
  },
  {
   "cell_type": "code",
   "execution_count": 198,
   "id": "a756fe14",
   "metadata": {
    "execution": {
     "iopub.execute_input": "2023-11-11T17:26:56.213440Z",
     "iopub.status.busy": "2023-11-11T17:26:56.213105Z",
     "iopub.status.idle": "2023-11-11T17:26:56.217941Z",
     "shell.execute_reply": "2023-11-11T17:26:56.217044Z"
    },
    "papermill": {
     "duration": 0.123942,
     "end_time": "2023-11-11T17:26:56.220283",
     "exception": false,
     "start_time": "2023-11-11T17:26:56.096341",
     "status": "completed"
    },
    "tags": []
   },
   "outputs": [
    {
     "name": "stdout",
     "output_type": "stream",
     "text": [
      "mlv\tprasad\tis\ta\tgood\tboy\n"
     ]
    }
   ],
   "source": [
    "print(\"mlv\\tprasad\\tis\\ta\\tgood\\tboy\")"
   ]
  },
  {
   "cell_type": "code",
   "execution_count": 199,
   "id": "8ffab5a0",
   "metadata": {
    "execution": {
     "iopub.execute_input": "2023-11-11T17:26:56.437510Z",
     "iopub.status.busy": "2023-11-11T17:26:56.437211Z",
     "iopub.status.idle": "2023-11-11T17:26:56.441297Z",
     "shell.execute_reply": "2023-11-11T17:26:56.440469Z"
    },
    "papermill": {
     "duration": 0.114488,
     "end_time": "2023-11-11T17:26:56.443300",
     "exception": false,
     "start_time": "2023-11-11T17:26:56.328812",
     "status": "completed"
    },
    "tags": []
   },
   "outputs": [],
   "source": [
    "# * * * * *\n",
    "# * * * *\n",
    "# * * * \n",
    "# * * \n",
    "# *"
   ]
  },
  {
   "cell_type": "code",
   "execution_count": 200,
   "id": "720cb2ef",
   "metadata": {
    "execution": {
     "iopub.execute_input": "2023-11-11T17:26:56.663390Z",
     "iopub.status.busy": "2023-11-11T17:26:56.663057Z",
     "iopub.status.idle": "2023-11-11T17:26:56.667752Z",
     "shell.execute_reply": "2023-11-11T17:26:56.666903Z"
    },
    "papermill": {
     "duration": 0.119034,
     "end_time": "2023-11-11T17:26:56.670149",
     "exception": false,
     "start_time": "2023-11-11T17:26:56.551115",
     "status": "completed"
    },
    "tags": []
   },
   "outputs": [
    {
     "name": "stdout",
     "output_type": "stream",
     "text": [
      "* * * * * \n",
      "* * * * \n",
      "* * * \n",
      "* * \n",
      "* \n"
     ]
    }
   ],
   "source": [
    "for i in range(5):\n",
    "    print(\"* \"*(5-i))"
   ]
  },
  {
   "cell_type": "code",
   "execution_count": null,
   "id": "34afcedb",
   "metadata": {
    "papermill": {
     "duration": 0.108535,
     "end_time": "2023-11-11T17:26:56.887543",
     "exception": false,
     "start_time": "2023-11-11T17:26:56.779008",
     "status": "completed"
    },
    "tags": []
   },
   "outputs": [],
   "source": []
  },
  {
   "cell_type": "markdown",
   "id": "c78142c0",
   "metadata": {
    "papermill": {
     "duration": 0.109754,
     "end_time": "2023-11-11T17:26:57.106196",
     "exception": false,
     "start_time": "2023-11-11T17:26:56.996442",
     "status": "completed"
    },
    "tags": []
   },
   "source": [
    "## filter\n",
    "## reduce\n",
    "## map\n",
    "## zip"
   ]
  },
  {
   "cell_type": "code",
   "execution_count": 201,
   "id": "0b78fc87",
   "metadata": {
    "execution": {
     "iopub.execute_input": "2023-11-11T17:26:57.337810Z",
     "iopub.status.busy": "2023-11-11T17:26:57.336846Z",
     "iopub.status.idle": "2023-11-11T17:26:57.341075Z",
     "shell.execute_reply": "2023-11-11T17:26:57.340293Z"
    },
    "papermill": {
     "duration": 0.119354,
     "end_time": "2023-11-11T17:26:57.343016",
     "exception": false,
     "start_time": "2023-11-11T17:26:57.223662",
     "status": "completed"
    },
    "tags": []
   },
   "outputs": [],
   "source": [
    "# filter "
   ]
  },
  {
   "cell_type": "code",
   "execution_count": 202,
   "id": "9b55a14f",
   "metadata": {
    "execution": {
     "iopub.execute_input": "2023-11-11T17:26:57.563219Z",
     "iopub.status.busy": "2023-11-11T17:26:57.562869Z",
     "iopub.status.idle": "2023-11-11T17:26:57.570391Z",
     "shell.execute_reply": "2023-11-11T17:26:57.569422Z"
    },
    "papermill": {
     "duration": 0.119854,
     "end_time": "2023-11-11T17:26:57.572407",
     "exception": false,
     "start_time": "2023-11-11T17:26:57.452553",
     "status": "completed"
    },
    "tags": []
   },
   "outputs": [
    {
     "data": {
      "text/plain": [
       "[10, 12, 14, 16]"
      ]
     },
     "execution_count": 202,
     "metadata": {},
     "output_type": "execute_result"
    }
   ],
   "source": [
    "a  =  [10,11,12,13,14,15,16]\n",
    "\n",
    "\n",
    "b = []\n",
    "for i in range(len(a)) :\n",
    "    if a[i] % 2 == 0 :\n",
    "        b.append(a[i])\n",
    "        \n",
    "b"
   ]
  },
  {
   "cell_type": "code",
   "execution_count": 203,
   "id": "862e746d",
   "metadata": {
    "execution": {
     "iopub.execute_input": "2023-11-11T17:26:57.792611Z",
     "iopub.status.busy": "2023-11-11T17:26:57.792280Z",
     "iopub.status.idle": "2023-11-11T17:26:57.799044Z",
     "shell.execute_reply": "2023-11-11T17:26:57.798212Z"
    },
    "papermill": {
     "duration": 0.118462,
     "end_time": "2023-11-11T17:26:57.801028",
     "exception": false,
     "start_time": "2023-11-11T17:26:57.682566",
     "status": "completed"
    },
    "tags": []
   },
   "outputs": [
    {
     "data": {
      "text/plain": [
       "[40, 12, 14, 16]"
      ]
     },
     "execution_count": 203,
     "metadata": {},
     "output_type": "execute_result"
    }
   ],
   "source": [
    "a  =  [40,11,12,13,14,15,16]\n",
    "\n",
    "def even(i) :\n",
    "    return i % 2 == 0\n",
    "\n",
    "\n",
    "b = list(filter(even,a))\n",
    "b"
   ]
  },
  {
   "cell_type": "code",
   "execution_count": 204,
   "id": "c9b9e61c",
   "metadata": {
    "execution": {
     "iopub.execute_input": "2023-11-11T17:26:58.019475Z",
     "iopub.status.busy": "2023-11-11T17:26:58.019122Z",
     "iopub.status.idle": "2023-11-11T17:26:58.026174Z",
     "shell.execute_reply": "2023-11-11T17:26:58.025239Z"
    },
    "papermill": {
     "duration": 0.119843,
     "end_time": "2023-11-11T17:26:58.028255",
     "exception": false,
     "start_time": "2023-11-11T17:26:57.908412",
     "status": "completed"
    },
    "tags": []
   },
   "outputs": [
    {
     "data": {
      "text/plain": [
       "[40, 12, 14, 16]"
      ]
     },
     "execution_count": 204,
     "metadata": {},
     "output_type": "execute_result"
    }
   ],
   "source": [
    "a  =  [40,11,12,13,14,15,16]\n",
    "\n",
    "b = list(filter(lambda p : p%2== 0,a))\n",
    "b"
   ]
  },
  {
   "cell_type": "code",
   "execution_count": 205,
   "id": "864b871a",
   "metadata": {
    "execution": {
     "iopub.execute_input": "2023-11-11T17:26:58.249183Z",
     "iopub.status.busy": "2023-11-11T17:26:58.248836Z",
     "iopub.status.idle": "2023-11-11T17:26:58.255832Z",
     "shell.execute_reply": "2023-11-11T17:26:58.254912Z"
    },
    "papermill": {
     "duration": 0.119883,
     "end_time": "2023-11-11T17:26:58.257900",
     "exception": false,
     "start_time": "2023-11-11T17:26:58.138017",
     "status": "completed"
    },
    "tags": []
   },
   "outputs": [
    {
     "data": {
      "text/plain": [
       "['swapna', 'saraswati']"
      ]
     },
     "execution_count": 205,
     "metadata": {},
     "output_type": "execute_result"
    }
   ],
   "source": [
    "a = [\"swapna\",\"saraswati\",\"abhi\"]\n",
    "\n",
    "b = list(filter(lambda i : i[0] != \"a\"   and  i[0] != \"i\"  and  i[0] != \"o\", a))\n",
    "b"
   ]
  },
  {
   "cell_type": "code",
   "execution_count": 206,
   "id": "30c19ea0",
   "metadata": {
    "execution": {
     "iopub.execute_input": "2023-11-11T17:26:58.478347Z",
     "iopub.status.busy": "2023-11-11T17:26:58.478024Z",
     "iopub.status.idle": "2023-11-11T17:26:58.484640Z",
     "shell.execute_reply": "2023-11-11T17:26:58.483777Z"
    },
    "papermill": {
     "duration": 0.119881,
     "end_time": "2023-11-11T17:26:58.486702",
     "exception": false,
     "start_time": "2023-11-11T17:26:58.366821",
     "status": "completed"
    },
    "tags": []
   },
   "outputs": [
    {
     "data": {
      "text/plain": [
       "[0, 10, 30]"
      ]
     },
     "execution_count": 206,
     "metadata": {},
     "output_type": "execute_result"
    }
   ],
   "source": [
    "a = {10,30,-10,0,30}\n",
    "b = list(filter(lambda i : i >= 0 , a))\n",
    "b"
   ]
  },
  {
   "cell_type": "code",
   "execution_count": 207,
   "id": "73733650",
   "metadata": {
    "execution": {
     "iopub.execute_input": "2023-11-11T17:26:58.710689Z",
     "iopub.status.busy": "2023-11-11T17:26:58.710374Z",
     "iopub.status.idle": "2023-11-11T17:26:58.714545Z",
     "shell.execute_reply": "2023-11-11T17:26:58.713764Z"
    },
    "papermill": {
     "duration": 0.115822,
     "end_time": "2023-11-11T17:26:58.716381",
     "exception": false,
     "start_time": "2023-11-11T17:26:58.600559",
     "status": "completed"
    },
    "tags": []
   },
   "outputs": [],
   "source": [
    "a = [\"swapna\",\"abhinav\"]"
   ]
  },
  {
   "cell_type": "code",
   "execution_count": 208,
   "id": "95157dbd",
   "metadata": {
    "execution": {
     "iopub.execute_input": "2023-11-11T17:26:58.980048Z",
     "iopub.status.busy": "2023-11-11T17:26:58.979674Z",
     "iopub.status.idle": "2023-11-11T17:26:58.985992Z",
     "shell.execute_reply": "2023-11-11T17:26:58.985181Z"
    },
    "papermill": {
     "duration": 0.117714,
     "end_time": "2023-11-11T17:26:58.987948",
     "exception": false,
     "start_time": "2023-11-11T17:26:58.870234",
     "status": "completed"
    },
    "tags": []
   },
   "outputs": [
    {
     "data": {
      "text/plain": [
       "150"
      ]
     },
     "execution_count": 208,
     "metadata": {},
     "output_type": "execute_result"
    }
   ],
   "source": [
    "# reduce \n",
    "from functools import reduce\n",
    "\n",
    "a = [10,20,30,40,50]\n",
    "b = 0\n",
    "for i in a :\n",
    "    b = b + i\n",
    "    \n",
    "b"
   ]
  },
  {
   "cell_type": "code",
   "execution_count": 209,
   "id": "860f3f5a",
   "metadata": {
    "execution": {
     "iopub.execute_input": "2023-11-11T17:26:59.212056Z",
     "iopub.status.busy": "2023-11-11T17:26:59.211675Z",
     "iopub.status.idle": "2023-11-11T17:26:59.218126Z",
     "shell.execute_reply": "2023-11-11T17:26:59.217304Z"
    },
    "papermill": {
     "duration": 0.120725,
     "end_time": "2023-11-11T17:26:59.221364",
     "exception": false,
     "start_time": "2023-11-11T17:26:59.100639",
     "status": "completed"
    },
    "tags": []
   },
   "outputs": [
    {
     "data": {
      "text/plain": [
       "150"
      ]
     },
     "execution_count": 209,
     "metadata": {},
     "output_type": "execute_result"
    }
   ],
   "source": [
    "\n",
    "c = [10,20,30,40,50]\n",
    "\n",
    "\n",
    "def add(p,q) :\n",
    "    return p + q\n",
    "# ini = 100 \n",
    "d = reduce(add,c)\n",
    "d"
   ]
  },
  {
   "cell_type": "code",
   "execution_count": 210,
   "id": "91530c4c",
   "metadata": {
    "execution": {
     "iopub.execute_input": "2023-11-11T17:26:59.473623Z",
     "iopub.status.busy": "2023-11-11T17:26:59.473288Z",
     "iopub.status.idle": "2023-11-11T17:26:59.479823Z",
     "shell.execute_reply": "2023-11-11T17:26:59.478951Z"
    },
    "papermill": {
     "duration": 0.131917,
     "end_time": "2023-11-11T17:26:59.481858",
     "exception": false,
     "start_time": "2023-11-11T17:26:59.349941",
     "status": "completed"
    },
    "tags": []
   },
   "outputs": [
    {
     "data": {
      "text/plain": [
       "50"
      ]
     },
     "execution_count": 210,
     "metadata": {},
     "output_type": "execute_result"
    }
   ],
   "source": [
    "c = [10,20,30,40,50]\n",
    "\n",
    "mx = c[0]\n",
    "for i in c :\n",
    "    if i > mx :\n",
    "        mx = i\n",
    "mx"
   ]
  },
  {
   "cell_type": "code",
   "execution_count": 211,
   "id": "c3d8d257",
   "metadata": {
    "execution": {
     "iopub.execute_input": "2023-11-11T17:26:59.707381Z",
     "iopub.status.busy": "2023-11-11T17:26:59.706711Z",
     "iopub.status.idle": "2023-11-11T17:26:59.713949Z",
     "shell.execute_reply": "2023-11-11T17:26:59.713010Z"
    },
    "papermill": {
     "duration": 0.121628,
     "end_time": "2023-11-11T17:26:59.715912",
     "exception": false,
     "start_time": "2023-11-11T17:26:59.594284",
     "status": "completed"
    },
    "tags": []
   },
   "outputs": [
    {
     "data": {
      "text/plain": [
       "770"
      ]
     },
     "execution_count": 211,
     "metadata": {},
     "output_type": "execute_result"
    }
   ],
   "source": [
    "c = [10,770,30,40,50]\n",
    "ini = int(c[0])\n",
    "def maxx(p,q):\n",
    "    if p > q :\n",
    "        return p \n",
    "    else :\n",
    "        return q\n",
    "\n",
    "    \n",
    "        \n",
    "    \n",
    "# ini = c[0]\n",
    "d = reduce(maxx,c)\n",
    "d"
   ]
  },
  {
   "cell_type": "code",
   "execution_count": 212,
   "id": "b413eef8",
   "metadata": {
    "execution": {
     "iopub.execute_input": "2023-11-11T17:26:59.946884Z",
     "iopub.status.busy": "2023-11-11T17:26:59.946517Z",
     "iopub.status.idle": "2023-11-11T17:26:59.953620Z",
     "shell.execute_reply": "2023-11-11T17:26:59.952780Z"
    },
    "papermill": {
     "duration": 0.125656,
     "end_time": "2023-11-11T17:26:59.955501",
     "exception": false,
     "start_time": "2023-11-11T17:26:59.829845",
     "status": "completed"
    },
    "tags": []
   },
   "outputs": [
    {
     "data": {
      "text/plain": [
       "'c001mlv c001prasad c001mentor'"
      ]
     },
     "execution_count": 212,
     "metadata": {},
     "output_type": "execute_result"
    }
   ],
   "source": [
    "d = [\"mlv\",\"prasad\",\"mentor\"]\n",
    "# d = [\"mlv prasad\",\"mentor\"]\n",
    "\n",
    "def con (p,q) :\n",
    "    if p != \"c001\":\n",
    "        return p + \" c001\" + q\n",
    "    else :\n",
    "        return p + q\n",
    "\n",
    "e = reduce(con, d,\"c001\")\n",
    "e"
   ]
  },
  {
   "cell_type": "code",
   "execution_count": 213,
   "id": "1bbb1e58",
   "metadata": {
    "execution": {
     "iopub.execute_input": "2023-11-11T17:27:00.180794Z",
     "iopub.status.busy": "2023-11-11T17:27:00.180307Z",
     "iopub.status.idle": "2023-11-11T17:27:00.187123Z",
     "shell.execute_reply": "2023-11-11T17:27:00.186235Z"
    },
    "papermill": {
     "duration": 0.121692,
     "end_time": "2023-11-11T17:27:00.189297",
     "exception": false,
     "start_time": "2023-11-11T17:27:00.067605",
     "status": "completed"
    },
    "tags": []
   },
   "outputs": [
    {
     "data": {
      "text/plain": [
       "[10]"
      ]
     },
     "execution_count": 213,
     "metadata": {},
     "output_type": "execute_result"
    }
   ],
   "source": [
    "a = [10,29,32]\n",
    "\n",
    "b = list(filter( lambda x : x < 15  , a))\n",
    "b"
   ]
  },
  {
   "cell_type": "code",
   "execution_count": 214,
   "id": "85812a4c",
   "metadata": {
    "execution": {
     "iopub.execute_input": "2023-11-11T17:27:00.418204Z",
     "iopub.status.busy": "2023-11-11T17:27:00.417770Z",
     "iopub.status.idle": "2023-11-11T17:27:00.424612Z",
     "shell.execute_reply": "2023-11-11T17:27:00.423697Z"
    },
    "papermill": {
     "duration": 0.123548,
     "end_time": "2023-11-11T17:27:00.426574",
     "exception": false,
     "start_time": "2023-11-11T17:27:00.303026",
     "status": "completed"
    },
    "tags": []
   },
   "outputs": [
    {
     "data": {
      "text/plain": [
       "'mlv prasad mentor'"
      ]
     },
     "execution_count": 214,
     "metadata": {},
     "output_type": "execute_result"
    }
   ],
   "source": [
    "d = [\"mlv\",\"prasad\",\"mentor\"]\n",
    "e = reduce(lambda x,y : x + \" \" + y, d)\n",
    "e"
   ]
  },
  {
   "cell_type": "code",
   "execution_count": 215,
   "id": "0fa585bc",
   "metadata": {
    "execution": {
     "iopub.execute_input": "2023-11-11T17:27:00.658498Z",
     "iopub.status.busy": "2023-11-11T17:27:00.658131Z",
     "iopub.status.idle": "2023-11-11T17:27:00.664773Z",
     "shell.execute_reply": "2023-11-11T17:27:00.663969Z"
    },
    "papermill": {
     "duration": 0.12305,
     "end_time": "2023-11-11T17:27:00.666801",
     "exception": false,
     "start_time": "2023-11-11T17:27:00.543751",
     "status": "completed"
    },
    "tags": []
   },
   "outputs": [
    {
     "data": {
      "text/plain": [
       "[100, 625, 900, 1225, 2500]"
      ]
     },
     "execution_count": 215,
     "metadata": {},
     "output_type": "execute_result"
    }
   ],
   "source": [
    "#map\n",
    "\n",
    "a = [10,25,30,35,50]\n",
    "\n",
    "# fil  = [10,30,50]\n",
    "\n",
    "# reduce = one final ans \n",
    "\n",
    "#map - apply some function on all elememts\n",
    "\n",
    "\n",
    "b = []\n",
    "for i in a :\n",
    "    b.append(i**2)\n",
    "b\n",
    "\n"
   ]
  },
  {
   "cell_type": "code",
   "execution_count": 216,
   "id": "ca4d0e80",
   "metadata": {
    "execution": {
     "iopub.execute_input": "2023-11-11T17:27:00.891165Z",
     "iopub.status.busy": "2023-11-11T17:27:00.890829Z",
     "iopub.status.idle": "2023-11-11T17:27:00.897563Z",
     "shell.execute_reply": "2023-11-11T17:27:00.896734Z"
    },
    "papermill": {
     "duration": 0.122685,
     "end_time": "2023-11-11T17:27:00.899626",
     "exception": false,
     "start_time": "2023-11-11T17:27:00.776941",
     "status": "completed"
    },
    "tags": []
   },
   "outputs": [
    {
     "data": {
      "text/plain": [
       "[100, 625, 900, 1225, 2500]"
      ]
     },
     "execution_count": 216,
     "metadata": {},
     "output_type": "execute_result"
    }
   ],
   "source": [
    "c = [10,25,30,35,50]\n",
    "def sq(x) :\n",
    "    return x**2\n",
    "d = list(map(sq, c))\n",
    "d"
   ]
  },
  {
   "cell_type": "code",
   "execution_count": 217,
   "id": "bbb59bb0",
   "metadata": {
    "execution": {
     "iopub.execute_input": "2023-11-11T17:27:01.135397Z",
     "iopub.status.busy": "2023-11-11T17:27:01.135070Z",
     "iopub.status.idle": "2023-11-11T17:27:01.141580Z",
     "shell.execute_reply": "2023-11-11T17:27:01.140759Z"
    },
    "papermill": {
     "duration": 0.126505,
     "end_time": "2023-11-11T17:27:01.143621",
     "exception": false,
     "start_time": "2023-11-11T17:27:01.017116",
     "status": "completed"
    },
    "tags": []
   },
   "outputs": [
    {
     "data": {
      "text/plain": [
       "[100, 625, 900, 1225, 2500]"
      ]
     },
     "execution_count": 217,
     "metadata": {},
     "output_type": "execute_result"
    }
   ],
   "source": [
    "c = [10,25,30,35,50]\n",
    "\n",
    "d = list(map(lambda i : i **2 , c))\n",
    "d"
   ]
  },
  {
   "cell_type": "code",
   "execution_count": 218,
   "id": "42a71d6a",
   "metadata": {
    "execution": {
     "iopub.execute_input": "2023-11-11T17:27:01.366355Z",
     "iopub.status.busy": "2023-11-11T17:27:01.365773Z",
     "iopub.status.idle": "2023-11-11T17:27:01.372250Z",
     "shell.execute_reply": "2023-11-11T17:27:01.371377Z"
    },
    "papermill": {
     "duration": 0.119527,
     "end_time": "2023-11-11T17:27:01.374256",
     "exception": false,
     "start_time": "2023-11-11T17:27:01.254729",
     "status": "completed"
    },
    "tags": []
   },
   "outputs": [
    {
     "data": {
      "text/plain": [
       "['swapna', 'sush']"
      ]
     },
     "execution_count": 218,
     "metadata": {},
     "output_type": "execute_result"
    }
   ],
   "source": [
    "a = [\"swapna\",\"sush\",\"ghosh\"]\n",
    "b = list(filter(lambda x : x[0]==\"s\",a))\n",
    "b"
   ]
  },
  {
   "cell_type": "code",
   "execution_count": 219,
   "id": "c7fe42f7",
   "metadata": {
    "execution": {
     "iopub.execute_input": "2023-11-11T17:27:01.603865Z",
     "iopub.status.busy": "2023-11-11T17:27:01.603126Z",
     "iopub.status.idle": "2023-11-11T17:27:01.609776Z",
     "shell.execute_reply": "2023-11-11T17:27:01.608975Z"
    },
    "papermill": {
     "duration": 0.126302,
     "end_time": "2023-11-11T17:27:01.611846",
     "exception": false,
     "start_time": "2023-11-11T17:27:01.485544",
     "status": "completed"
    },
    "tags": []
   },
   "outputs": [
    {
     "data": {
      "text/plain": [
       "['student swapna', 'student sush', 'student ghosh']"
      ]
     },
     "execution_count": 219,
     "metadata": {},
     "output_type": "execute_result"
    }
   ],
   "source": [
    "a = [\"swapna\",\"sush\",\"ghosh\"]\n",
    "b = list(map(lambda i : \"student \"+ i,a))\n",
    "b"
   ]
  },
  {
   "cell_type": "code",
   "execution_count": 220,
   "id": "cf131daf",
   "metadata": {
    "execution": {
     "iopub.execute_input": "2023-11-11T17:27:01.841931Z",
     "iopub.status.busy": "2023-11-11T17:27:01.841237Z",
     "iopub.status.idle": "2023-11-11T17:27:01.848247Z",
     "shell.execute_reply": "2023-11-11T17:27:01.847293Z"
    },
    "papermill": {
     "duration": 0.12415,
     "end_time": "2023-11-11T17:27:01.850475",
     "exception": false,
     "start_time": "2023-11-11T17:27:01.726325",
     "status": "completed"
    },
    "tags": []
   },
   "outputs": [
    {
     "data": {
      "text/plain": [
       "[('swapna', 100), ('prasad', 200), ('ghosh', 300)]"
      ]
     },
     "execution_count": 220,
     "metadata": {},
     "output_type": "execute_result"
    }
   ],
   "source": [
    "a = [\"swapna\",\"prasad\",\"ghosh\"]\n",
    "b = [100,200,300]\n",
    "\n",
    "\n",
    "c = [  ( a[i] , b[i]) for i in range(len(a))]\n",
    "c"
   ]
  },
  {
   "cell_type": "code",
   "execution_count": 221,
   "id": "e03d402c",
   "metadata": {
    "execution": {
     "iopub.execute_input": "2023-11-11T17:27:02.074236Z",
     "iopub.status.busy": "2023-11-11T17:27:02.073950Z",
     "iopub.status.idle": "2023-11-11T17:27:02.078943Z",
     "shell.execute_reply": "2023-11-11T17:27:02.078102Z"
    },
    "papermill": {
     "duration": 0.118528,
     "end_time": "2023-11-11T17:27:02.081060",
     "exception": false,
     "start_time": "2023-11-11T17:27:01.962532",
     "status": "completed"
    },
    "tags": []
   },
   "outputs": [
    {
     "name": "stdout",
     "output_type": "stream",
     "text": [
      "swapna 100\n",
      "prasad 200\n",
      "ghosh 300\n"
     ]
    }
   ],
   "source": [
    "for i in range(len(a) ) :\n",
    "    print(a[i],b[i])\n",
    "    "
   ]
  },
  {
   "cell_type": "code",
   "execution_count": 222,
   "id": "ebc05a06",
   "metadata": {
    "execution": {
     "iopub.execute_input": "2023-11-11T17:27:02.310307Z",
     "iopub.status.busy": "2023-11-11T17:27:02.309969Z",
     "iopub.status.idle": "2023-11-11T17:27:02.314840Z",
     "shell.execute_reply": "2023-11-11T17:27:02.313925Z"
    },
    "papermill": {
     "duration": 0.123985,
     "end_time": "2023-11-11T17:27:02.317434",
     "exception": false,
     "start_time": "2023-11-11T17:27:02.193449",
     "status": "completed"
    },
    "tags": []
   },
   "outputs": [
    {
     "name": "stdout",
     "output_type": "stream",
     "text": [
      "('swapna', 100) --\n",
      "('prasad', 200) --\n",
      "('ghosh', 300) --\n"
     ]
    }
   ],
   "source": [
    "for i in zip(a,b) :\n",
    "    print(i,\"--\")"
   ]
  },
  {
   "cell_type": "code",
   "execution_count": 223,
   "id": "24756268",
   "metadata": {
    "execution": {
     "iopub.execute_input": "2023-11-11T17:27:02.554378Z",
     "iopub.status.busy": "2023-11-11T17:27:02.554046Z",
     "iopub.status.idle": "2023-11-11T17:27:02.559591Z",
     "shell.execute_reply": "2023-11-11T17:27:02.558622Z"
    },
    "papermill": {
     "duration": 0.126189,
     "end_time": "2023-11-11T17:27:02.562008",
     "exception": false,
     "start_time": "2023-11-11T17:27:02.435819",
     "status": "completed"
    },
    "tags": []
   },
   "outputs": [
    {
     "name": "stdout",
     "output_type": "stream",
     "text": [
      "swapna -- 100\n",
      "prasad -- 200\n",
      "ghosh -- 300\n"
     ]
    }
   ],
   "source": [
    "for i,j in zip(a,b) :\n",
    "    print(i,\"--\",j)"
   ]
  },
  {
   "cell_type": "code",
   "execution_count": 224,
   "id": "4e33a91b",
   "metadata": {
    "execution": {
     "iopub.execute_input": "2023-11-11T17:27:02.785075Z",
     "iopub.status.busy": "2023-11-11T17:27:02.784709Z",
     "iopub.status.idle": "2023-11-11T17:27:02.791239Z",
     "shell.execute_reply": "2023-11-11T17:27:02.790346Z"
    },
    "papermill": {
     "duration": 0.118681,
     "end_time": "2023-11-11T17:27:02.793426",
     "exception": false,
     "start_time": "2023-11-11T17:27:02.674745",
     "status": "completed"
    },
    "tags": []
   },
   "outputs": [
    {
     "data": {
      "text/plain": [
       "[('swapna', 100, 1)]"
      ]
     },
     "execution_count": 224,
     "metadata": {},
     "output_type": "execute_result"
    }
   ],
   "source": [
    "a = [\"swapna\"]\n",
    "b = [100,200,300]\n",
    "c= [1,2]\n",
    "\n",
    "\n",
    "c = list(zip(a,b,c))\n",
    "c"
   ]
  },
  {
   "cell_type": "code",
   "execution_count": 225,
   "id": "81d6f870",
   "metadata": {
    "execution": {
     "iopub.execute_input": "2023-11-11T17:27:03.019201Z",
     "iopub.status.busy": "2023-11-11T17:27:03.018871Z",
     "iopub.status.idle": "2023-11-11T17:27:03.024248Z",
     "shell.execute_reply": "2023-11-11T17:27:03.023394Z"
    },
    "papermill": {
     "duration": 0.121237,
     "end_time": "2023-11-11T17:27:03.026568",
     "exception": false,
     "start_time": "2023-11-11T17:27:02.905331",
     "status": "completed"
    },
    "tags": []
   },
   "outputs": [
    {
     "name": "stdout",
     "output_type": "stream",
     "text": [
      "yes\n"
     ]
    }
   ],
   "source": [
    "a = \"malayalam\"\n",
    "b = a[::-1]\n",
    "b\n",
    "\n",
    "if a == b :\n",
    "    print(\"yes\")\n",
    "else :\n",
    "    print(\"no\")"
   ]
  },
  {
   "cell_type": "code",
   "execution_count": null,
   "id": "ba8854bb",
   "metadata": {
    "papermill": {
     "duration": 0.115305,
     "end_time": "2023-11-11T17:27:03.300184",
     "exception": false,
     "start_time": "2023-11-11T17:27:03.184879",
     "status": "completed"
    },
    "tags": []
   },
   "outputs": [],
   "source": []
  },
  {
   "cell_type": "code",
   "execution_count": 226,
   "id": "8bec64eb",
   "metadata": {
    "execution": {
     "iopub.execute_input": "2023-11-11T17:27:03.534516Z",
     "iopub.status.busy": "2023-11-11T17:27:03.533681Z",
     "iopub.status.idle": "2023-11-11T17:27:03.539940Z",
     "shell.execute_reply": "2023-11-11T17:27:03.538916Z"
    },
    "papermill": {
     "duration": 0.12541,
     "end_time": "2023-11-11T17:27:03.541993",
     "exception": false,
     "start_time": "2023-11-11T17:27:03.416583",
     "status": "completed"
    },
    "tags": []
   },
   "outputs": [],
   "source": [
    "class BluePrint() :\n",
    "    \n",
    "    def __init__ (self,a ): # constructor\n",
    "        self.b = a + 100\n",
    "        self.designed = \"mlv prasad\"\n",
    "        self.country  = \"india\"\n",
    "        \n",
    "\n",
    "\n",
    "    \n",
    "\n",
    "    def color(self):\n",
    "#         b = self.designed\n",
    "        return f\"home is designed by {self.designed} for  and is 100 ft and color \"\n",
    "\n",
    "    def interior(self):\n",
    "        return \"home is italian \"\n",
    "    \n",
    "ghosh = BluePrint(100.5)\n",
    "# int(ghosh)"
   ]
  },
  {
   "cell_type": "code",
   "execution_count": 227,
   "id": "8a1e7612",
   "metadata": {
    "execution": {
     "iopub.execute_input": "2023-11-11T17:27:03.770193Z",
     "iopub.status.busy": "2023-11-11T17:27:03.769870Z",
     "iopub.status.idle": "2023-11-11T17:27:03.773733Z",
     "shell.execute_reply": "2023-11-11T17:27:03.772849Z"
    },
    "papermill": {
     "duration": 0.116907,
     "end_time": "2023-11-11T17:27:03.775594",
     "exception": false,
     "start_time": "2023-11-11T17:27:03.658687",
     "status": "completed"
    },
    "tags": []
   },
   "outputs": [],
   "source": [
    "# swapna = BluePrint()\n",
    "# swapna.color()"
   ]
  },
  {
   "cell_type": "code",
   "execution_count": 228,
   "id": "29c52a1e",
   "metadata": {
    "execution": {
     "iopub.execute_input": "2023-11-11T17:27:03.999338Z",
     "iopub.status.busy": "2023-11-11T17:27:03.999006Z",
     "iopub.status.idle": "2023-11-11T17:27:04.005112Z",
     "shell.execute_reply": "2023-11-11T17:27:04.004075Z"
    },
    "papermill": {
     "duration": 0.12115,
     "end_time": "2023-11-11T17:27:04.007155",
     "exception": false,
     "start_time": "2023-11-11T17:27:03.886005",
     "status": "completed"
    },
    "tags": []
   },
   "outputs": [
    {
     "data": {
      "text/plain": [
       "'9'"
      ]
     },
     "execution_count": 228,
     "metadata": {},
     "output_type": "execute_result"
    }
   ],
   "source": [
    "a = 9\n",
    "b = str(a)\n",
    "b"
   ]
  },
  {
   "cell_type": "code",
   "execution_count": 229,
   "id": "4a6689a7",
   "metadata": {
    "execution": {
     "iopub.execute_input": "2023-11-11T17:27:04.238528Z",
     "iopub.status.busy": "2023-11-11T17:27:04.237769Z",
     "iopub.status.idle": "2023-11-11T17:27:04.246564Z",
     "shell.execute_reply": "2023-11-11T17:27:04.245673Z"
    },
    "papermill": {
     "duration": 0.128893,
     "end_time": "2023-11-11T17:27:04.248583",
     "exception": false,
     "start_time": "2023-11-11T17:27:04.119690",
     "status": "completed"
    },
    "tags": []
   },
   "outputs": [
    {
     "data": {
      "text/plain": [
       "0"
      ]
     },
     "execution_count": 229,
     "metadata": {},
     "output_type": "execute_result"
    }
   ],
   "source": [
    "class Student() :\n",
    "    \n",
    "    def __init__(self,name,age):\n",
    "        self.studname = f\"the student name is {name}\"\n",
    "        self.studage = f\"the student age is {age}\"\n",
    "        self.courses= []\n",
    "    \n",
    "    def enroll(self, course= 0 ) :\n",
    "        self.courses.append(course)\n",
    "        \n",
    "    def total_course(self):\n",
    "        return len(self.courses)\n",
    "    \n",
    "    \n",
    "    \n",
    "joy =  Student(\"joyce\",\"30\")\n",
    "joy.total_course()\n",
    "\n",
    "\n",
    "\n"
   ]
  },
  {
   "cell_type": "code",
   "execution_count": 230,
   "id": "633a45c7",
   "metadata": {
    "execution": {
     "iopub.execute_input": "2023-11-11T17:27:04.484840Z",
     "iopub.status.busy": "2023-11-11T17:27:04.484131Z",
     "iopub.status.idle": "2023-11-11T17:27:04.490486Z",
     "shell.execute_reply": "2023-11-11T17:27:04.489426Z"
    },
    "papermill": {
     "duration": 0.128901,
     "end_time": "2023-11-11T17:27:04.492588",
     "exception": false,
     "start_time": "2023-11-11T17:27:04.363687",
     "status": "completed"
    },
    "tags": []
   },
   "outputs": [
    {
     "data": {
      "text/plain": [
       "[]"
      ]
     },
     "execution_count": 230,
     "metadata": {},
     "output_type": "execute_result"
    }
   ],
   "source": [
    "sw = Student(\"swapna\",\"35\")\n",
    "sw.courses"
   ]
  },
  {
   "cell_type": "code",
   "execution_count": 231,
   "id": "cde52ef6",
   "metadata": {
    "execution": {
     "iopub.execute_input": "2023-11-11T17:27:04.737839Z",
     "iopub.status.busy": "2023-11-11T17:27:04.737477Z",
     "iopub.status.idle": "2023-11-11T17:27:04.743768Z",
     "shell.execute_reply": "2023-11-11T17:27:04.742875Z"
    },
    "papermill": {
     "duration": 0.132276,
     "end_time": "2023-11-11T17:27:04.745811",
     "exception": false,
     "start_time": "2023-11-11T17:27:04.613535",
     "status": "completed"
    },
    "tags": []
   },
   "outputs": [
    {
     "data": {
      "text/plain": [
       "[]"
      ]
     },
     "execution_count": 231,
     "metadata": {},
     "output_type": "execute_result"
    }
   ],
   "source": [
    "joy.courses\n",
    "\n",
    "# joy.enroll(\"sql\")"
   ]
  },
  {
   "cell_type": "code",
   "execution_count": 232,
   "id": "e1d78ab1",
   "metadata": {
    "execution": {
     "iopub.execute_input": "2023-11-11T17:27:04.987974Z",
     "iopub.status.busy": "2023-11-11T17:27:04.987366Z",
     "iopub.status.idle": "2023-11-11T17:27:04.991634Z",
     "shell.execute_reply": "2023-11-11T17:27:04.990767Z"
    },
    "papermill": {
     "duration": 0.125246,
     "end_time": "2023-11-11T17:27:04.993556",
     "exception": false,
     "start_time": "2023-11-11T17:27:04.868310",
     "status": "completed"
    },
    "tags": []
   },
   "outputs": [],
   "source": [
    "sw.enroll(\"sql\")"
   ]
  },
  {
   "cell_type": "code",
   "execution_count": 233,
   "id": "d50f48eb",
   "metadata": {
    "execution": {
     "iopub.execute_input": "2023-11-11T17:27:05.226036Z",
     "iopub.status.busy": "2023-11-11T17:27:05.225664Z",
     "iopub.status.idle": "2023-11-11T17:27:05.231199Z",
     "shell.execute_reply": "2023-11-11T17:27:05.230351Z"
    },
    "papermill": {
     "duration": 0.122816,
     "end_time": "2023-11-11T17:27:05.233620",
     "exception": false,
     "start_time": "2023-11-11T17:27:05.110804",
     "status": "completed"
    },
    "tags": []
   },
   "outputs": [
    {
     "data": {
      "text/plain": [
       "[]"
      ]
     },
     "execution_count": 233,
     "metadata": {},
     "output_type": "execute_result"
    }
   ],
   "source": [
    "joy.courses"
   ]
  },
  {
   "cell_type": "code",
   "execution_count": 234,
   "id": "1a1ae938",
   "metadata": {
    "execution": {
     "iopub.execute_input": "2023-11-11T17:27:05.462418Z",
     "iopub.status.busy": "2023-11-11T17:27:05.461823Z",
     "iopub.status.idle": "2023-11-11T17:27:05.466694Z",
     "shell.execute_reply": "2023-11-11T17:27:05.465821Z"
    },
    "papermill": {
     "duration": 0.121249,
     "end_time": "2023-11-11T17:27:05.468879",
     "exception": false,
     "start_time": "2023-11-11T17:27:05.347630",
     "status": "completed"
    },
    "tags": []
   },
   "outputs": [],
   "source": [
    "joy.enroll(\"python\")"
   ]
  },
  {
   "cell_type": "code",
   "execution_count": 235,
   "id": "1675a50d",
   "metadata": {
    "execution": {
     "iopub.execute_input": "2023-11-11T17:27:05.709438Z",
     "iopub.status.busy": "2023-11-11T17:27:05.708556Z",
     "iopub.status.idle": "2023-11-11T17:27:05.714821Z",
     "shell.execute_reply": "2023-11-11T17:27:05.713967Z"
    },
    "papermill": {
     "duration": 0.13012,
     "end_time": "2023-11-11T17:27:05.717064",
     "exception": false,
     "start_time": "2023-11-11T17:27:05.586944",
     "status": "completed"
    },
    "tags": []
   },
   "outputs": [
    {
     "data": {
      "text/plain": [
       "['python']"
      ]
     },
     "execution_count": 235,
     "metadata": {},
     "output_type": "execute_result"
    }
   ],
   "source": [
    "joy.courses"
   ]
  },
  {
   "cell_type": "code",
   "execution_count": 236,
   "id": "c19e563c",
   "metadata": {
    "execution": {
     "iopub.execute_input": "2023-11-11T17:27:05.959942Z",
     "iopub.status.busy": "2023-11-11T17:27:05.959576Z",
     "iopub.status.idle": "2023-11-11T17:27:05.965333Z",
     "shell.execute_reply": "2023-11-11T17:27:05.964450Z"
    },
    "papermill": {
     "duration": 0.126908,
     "end_time": "2023-11-11T17:27:05.967365",
     "exception": false,
     "start_time": "2023-11-11T17:27:05.840457",
     "status": "completed"
    },
    "tags": []
   },
   "outputs": [
    {
     "data": {
      "text/plain": [
       "1"
      ]
     },
     "execution_count": 236,
     "metadata": {},
     "output_type": "execute_result"
    }
   ],
   "source": [
    "joy.total_course()"
   ]
  },
  {
   "cell_type": "code",
   "execution_count": 237,
   "id": "abd1348f",
   "metadata": {
    "execution": {
     "iopub.execute_input": "2023-11-11T17:27:06.196749Z",
     "iopub.status.busy": "2023-11-11T17:27:06.196373Z",
     "iopub.status.idle": "2023-11-11T17:27:06.201911Z",
     "shell.execute_reply": "2023-11-11T17:27:06.201092Z"
    },
    "papermill": {
     "duration": 0.121877,
     "end_time": "2023-11-11T17:27:06.203880",
     "exception": false,
     "start_time": "2023-11-11T17:27:06.082003",
     "status": "completed"
    },
    "tags": []
   },
   "outputs": [
    {
     "data": {
      "text/plain": [
       "['sql']"
      ]
     },
     "execution_count": 237,
     "metadata": {},
     "output_type": "execute_result"
    }
   ],
   "source": [
    "sw.courses"
   ]
  },
  {
   "cell_type": "code",
   "execution_count": 238,
   "id": "776fb58a",
   "metadata": {
    "execution": {
     "iopub.execute_input": "2023-11-11T17:27:06.438978Z",
     "iopub.status.busy": "2023-11-11T17:27:06.438170Z",
     "iopub.status.idle": "2023-11-11T17:27:06.444486Z",
     "shell.execute_reply": "2023-11-11T17:27:06.443669Z"
    },
    "papermill": {
     "duration": 0.125335,
     "end_time": "2023-11-11T17:27:06.446520",
     "exception": false,
     "start_time": "2023-11-11T17:27:06.321185",
     "status": "completed"
    },
    "tags": []
   },
   "outputs": [
    {
     "data": {
      "text/plain": [
       "1"
      ]
     },
     "execution_count": 238,
     "metadata": {},
     "output_type": "execute_result"
    }
   ],
   "source": [
    "sw.total_course()"
   ]
  },
  {
   "cell_type": "code",
   "execution_count": 239,
   "id": "fe62c39e",
   "metadata": {
    "execution": {
     "iopub.execute_input": "2023-11-11T17:27:06.678398Z",
     "iopub.status.busy": "2023-11-11T17:27:06.677500Z",
     "iopub.status.idle": "2023-11-11T17:27:06.685115Z",
     "shell.execute_reply": "2023-11-11T17:27:06.684232Z"
    },
    "papermill": {
     "duration": 0.126278,
     "end_time": "2023-11-11T17:27:06.687034",
     "exception": false,
     "start_time": "2023-11-11T17:27:06.560756",
     "status": "completed"
    },
    "tags": []
   },
   "outputs": [
    {
     "name": "stdout",
     "output_type": "stream",
     "text": [
      "the owner brand is TYT and number of doors is 6\n"
     ]
    }
   ],
   "source": [
    "class Vehicle :\n",
    "    \n",
    "    def __init__ (self,brand,model ):\n",
    "        self.brand = brand\n",
    "        self.model = model\n",
    "        \n",
    "    def info(self):\n",
    "        return f\"the owner brand is {self.brand}\"\n",
    "    \n",
    "    \n",
    "    \n",
    "class Toyato(Vehicle):\n",
    "    def __init__(self,brand,model,doors) : \n",
    "        super().__init__(brand,model)\n",
    "        self.doors= doors\n",
    "    def info(self):\n",
    "        return f\"{super().info()} and number of doors is {self.doors}\"\n",
    "    \n",
    "swapna = Toyato(\"TYT\",\"fortuner\",6)\n",
    "\n",
    "print(swapna.info())\n"
   ]
  },
  {
   "cell_type": "code",
   "execution_count": 240,
   "id": "400c9d06",
   "metadata": {
    "execution": {
     "iopub.execute_input": "2023-11-11T17:27:06.913389Z",
     "iopub.status.busy": "2023-11-11T17:27:06.913065Z",
     "iopub.status.idle": "2023-11-11T17:27:06.918658Z",
     "shell.execute_reply": "2023-11-11T17:27:06.917754Z"
    },
    "papermill": {
     "duration": 0.123989,
     "end_time": "2023-11-11T17:27:06.921164",
     "exception": false,
     "start_time": "2023-11-11T17:27:06.797175",
     "status": "completed"
    },
    "tags": []
   },
   "outputs": [
    {
     "name": "stdout",
     "output_type": "stream",
     "text": [
      "1\n",
      "1\n",
      "2\n",
      "3\n",
      "5\n",
      "8\n",
      "13\n",
      "21\n",
      "34\n",
      "55\n",
      "89\n",
      "144\n",
      "233\n"
     ]
    }
   ],
   "source": [
    "def fibonaci ()  :\n",
    "    a,b = 1,1\n",
    "    while True :\n",
    "        yield a \n",
    "        a,b = b, a+b # 2 3 \n",
    "        \n",
    "joy =  fibonaci()\n",
    "for i in range(13) :\n",
    "    print(next(joy))"
   ]
  },
  {
   "cell_type": "code",
   "execution_count": 241,
   "id": "d7944195",
   "metadata": {
    "execution": {
     "iopub.execute_input": "2023-11-11T17:27:07.195766Z",
     "iopub.status.busy": "2023-11-11T17:27:07.195381Z",
     "iopub.status.idle": "2023-11-11T17:27:07.199551Z",
     "shell.execute_reply": "2023-11-11T17:27:07.198659Z"
    },
    "papermill": {
     "duration": 0.166429,
     "end_time": "2023-11-11T17:27:07.201658",
     "exception": false,
     "start_time": "2023-11-11T17:27:07.035229",
     "status": "completed"
    },
    "tags": []
   },
   "outputs": [],
   "source": [
    "#poly morphism"
   ]
  },
  {
   "cell_type": "code",
   "execution_count": 242,
   "id": "d0c5d1b2",
   "metadata": {
    "execution": {
     "iopub.execute_input": "2023-11-11T17:27:07.435683Z",
     "iopub.status.busy": "2023-11-11T17:27:07.435336Z",
     "iopub.status.idle": "2023-11-11T17:27:07.442105Z",
     "shell.execute_reply": "2023-11-11T17:27:07.441214Z"
    },
    "papermill": {
     "duration": 0.12741,
     "end_time": "2023-11-11T17:27:07.444692",
     "exception": false,
     "start_time": "2023-11-11T17:27:07.317282",
     "status": "completed"
    },
    "tags": []
   },
   "outputs": [
    {
     "name": "stdout",
     "output_type": "stream",
     "text": [
      "catty\n",
      "doggy\n"
     ]
    }
   ],
   "source": [
    "class Animal() :\n",
    "    def speak(self) :\n",
    "        pass\n",
    "class Dog(Animal) :\n",
    "    def speak(self) :\n",
    "        return \"doggy\"\n",
    "class Cat(Animal) :\n",
    "    def speak( self) :\n",
    "        return \"catty\"\n",
    "    \n",
    "def sound(Animal) :\n",
    "    return    Animal.speak()\n",
    "\n",
    "dog = Dog()\n",
    "cat = Cat()\n",
    "\n",
    "print(sound(cat))\n",
    "print(sound(dog))"
   ]
  },
  {
   "cell_type": "code",
   "execution_count": 243,
   "id": "4e5dfcda",
   "metadata": {
    "execution": {
     "iopub.execute_input": "2023-11-11T17:27:07.683874Z",
     "iopub.status.busy": "2023-11-11T17:27:07.683524Z",
     "iopub.status.idle": "2023-11-11T17:27:07.690902Z",
     "shell.execute_reply": "2023-11-11T17:27:07.689981Z"
    },
    "papermill": {
     "duration": 0.130202,
     "end_time": "2023-11-11T17:27:07.693174",
     "exception": false,
     "start_time": "2023-11-11T17:27:07.562972",
     "status": "completed"
    },
    "tags": []
   },
   "outputs": [
    {
     "name": "stdout",
     "output_type": "stream",
     "text": [
      "swa\n",
      "300\n",
      "ghosh\n",
      "300\n"
     ]
    }
   ],
   "source": [
    "class Student :\n",
    "    def __init__(self, name, rno) :\n",
    "        self.a = 10\n",
    "        self.__name = name\n",
    "        self._roll_no = rno\n",
    "        \n",
    "    def getname (self) :\n",
    "        return self.__name\n",
    "    def setname(self,name ) :\n",
    "        if len(name) >= 3 :\n",
    "            self.__name = name\n",
    "        else :\n",
    "            print(\"Name is too shot\")\n",
    "        \n",
    "    def display(self) :\n",
    "        print(self.__name)\n",
    "        print(self._roll_no)\n",
    "        \n",
    "swapna = Student(\"swa\",300)\n",
    "swapna.display()\n",
    "swapna.setname(\"ghosh\")\n",
    "swapna.display()\n"
   ]
  },
  {
   "cell_type": "code",
   "execution_count": 244,
   "id": "d9842ea3",
   "metadata": {
    "execution": {
     "iopub.execute_input": "2023-11-11T17:27:07.924101Z",
     "iopub.status.busy": "2023-11-11T17:27:07.923785Z",
     "iopub.status.idle": "2023-11-11T17:27:07.929546Z",
     "shell.execute_reply": "2023-11-11T17:27:07.928594Z"
    },
    "papermill": {
     "duration": 0.123234,
     "end_time": "2023-11-11T17:27:07.931650",
     "exception": false,
     "start_time": "2023-11-11T17:27:07.808416",
     "status": "completed"
    },
    "tags": []
   },
   "outputs": [
    {
     "data": {
      "text/plain": [
       "10"
      ]
     },
     "execution_count": 244,
     "metadata": {},
     "output_type": "execute_result"
    }
   ],
   "source": [
    "# swapna.__name\n",
    "swapna.a"
   ]
  },
  {
   "cell_type": "code",
   "execution_count": 245,
   "id": "f38a5f56",
   "metadata": {
    "execution": {
     "iopub.execute_input": "2023-11-11T17:27:08.160699Z",
     "iopub.status.busy": "2023-11-11T17:27:08.160386Z",
     "iopub.status.idle": "2023-11-11T17:27:08.164343Z",
     "shell.execute_reply": "2023-11-11T17:27:08.163503Z"
    },
    "papermill": {
     "duration": 0.11835,
     "end_time": "2023-11-11T17:27:08.166346",
     "exception": false,
     "start_time": "2023-11-11T17:27:08.047996",
     "status": "completed"
    },
    "tags": []
   },
   "outputs": [],
   "source": [
    "# ##### Write a Python program that accepts a sequence of c\n",
    "# # omma-separated numbers from the user and generates a list and a tuple of those numbers.\n",
    "# # Sample data : 3, 5, 7, 23\n",
    "# ls = []\n",
    "# for i in range(4):\n",
    "#     a =int(input())\n",
    "#     ls.append(a)\n",
    "# print(f\"the required answer is {ls} and {tuple(ls)}\")"
   ]
  },
  {
   "cell_type": "code",
   "execution_count": 246,
   "id": "a667e7f9",
   "metadata": {
    "execution": {
     "iopub.execute_input": "2023-11-11T17:27:08.397859Z",
     "iopub.status.busy": "2023-11-11T17:27:08.397517Z",
     "iopub.status.idle": "2023-11-11T17:27:08.401726Z",
     "shell.execute_reply": "2023-11-11T17:27:08.400914Z"
    },
    "papermill": {
     "duration": 0.121367,
     "end_time": "2023-11-11T17:27:08.403592",
     "exception": false,
     "start_time": "2023-11-11T17:27:08.282225",
     "status": "completed"
    },
    "tags": []
   },
   "outputs": [],
   "source": [
    "# Write a Python program to display the examination schedule. \n",
    "# (extract the date from exam_st_date).\n",
    "# exam_st_date = (11, 12, 2014)\n",
    "# Sample Output : The examination will start from : 11 / 12 / 2014"
   ]
  },
  {
   "cell_type": "code",
   "execution_count": 247,
   "id": "51b1bdd1",
   "metadata": {
    "execution": {
     "iopub.execute_input": "2023-11-11T17:27:08.644331Z",
     "iopub.status.busy": "2023-11-11T17:27:08.643977Z",
     "iopub.status.idle": "2023-11-11T17:27:08.649368Z",
     "shell.execute_reply": "2023-11-11T17:27:08.648439Z"
    },
    "papermill": {
     "duration": 0.130481,
     "end_time": "2023-11-11T17:27:08.651671",
     "exception": false,
     "start_time": "2023-11-11T17:27:08.521190",
     "status": "completed"
    },
    "tags": []
   },
   "outputs": [
    {
     "name": "stdout",
     "output_type": "stream",
     "text": [
      "The examination will start from : 6/5/ 2023\n"
     ]
    }
   ],
   "source": [
    "exam_st_date = (6, 5, 2023)\n",
    "for i in range(1):\n",
    "    print(f\"The examination will start from : {exam_st_date[i] }/{ exam_st_date[i+1] }/ {exam_st_date[i+2]}\")"
   ]
  },
  {
   "cell_type": "code",
   "execution_count": 248,
   "id": "ec398699",
   "metadata": {
    "execution": {
     "iopub.execute_input": "2023-11-11T17:27:08.885777Z",
     "iopub.status.busy": "2023-11-11T17:27:08.885464Z",
     "iopub.status.idle": "2023-11-11T17:27:08.890468Z",
     "shell.execute_reply": "2023-11-11T17:27:08.889545Z"
    },
    "papermill": {
     "duration": 0.123812,
     "end_time": "2023-11-11T17:27:08.892651",
     "exception": false,
     "start_time": "2023-11-11T17:27:08.768839",
     "status": "completed"
    },
    "tags": []
   },
   "outputs": [
    {
     "name": "stdout",
     "output_type": "stream",
     "text": [
      "score of a is 10 score of b is  20\n",
      "score of a is 10 score of b is 20\n"
     ]
    }
   ],
   "source": [
    "a = 10\n",
    "b = 20\n",
    "\n",
    "print(\"score of a is\",a, \"score of b is \",b)\n",
    "print(f\"score of a is {a} score of b is {b}\")"
   ]
  },
  {
   "cell_type": "code",
   "execution_count": 249,
   "id": "44830eed",
   "metadata": {
    "execution": {
     "iopub.execute_input": "2023-11-11T17:27:09.135517Z",
     "iopub.status.busy": "2023-11-11T17:27:09.134654Z",
     "iopub.status.idle": "2023-11-11T17:27:09.139172Z",
     "shell.execute_reply": "2023-11-11T17:27:09.138203Z"
    },
    "papermill": {
     "duration": 0.131425,
     "end_time": "2023-11-11T17:27:09.141280",
     "exception": false,
     "start_time": "2023-11-11T17:27:09.009855",
     "status": "completed"
    },
    "tags": []
   },
   "outputs": [],
   "source": [
    "# # Sample data : 3, 5, 7, 23\n",
    "# ls = []\n",
    "# for i in range(1):\n",
    "#     a =input()\n",
    "#     ls.append(a)\n",
    "# print(f\"the required answer is {ls} and {tuple(ls)}\")"
   ]
  },
  {
   "cell_type": "code",
   "execution_count": 250,
   "id": "9b0cbb9b",
   "metadata": {
    "execution": {
     "iopub.execute_input": "2023-11-11T17:27:09.406552Z",
     "iopub.status.busy": "2023-11-11T17:27:09.405733Z",
     "iopub.status.idle": "2023-11-11T17:27:09.411802Z",
     "shell.execute_reply": "2023-11-11T17:27:09.410934Z"
    },
    "papermill": {
     "duration": 0.145465,
     "end_time": "2023-11-11T17:27:09.413845",
     "exception": false,
     "start_time": "2023-11-11T17:27:09.268380",
     "status": "completed"
    },
    "tags": []
   },
   "outputs": [
    {
     "data": {
      "text/plain": [
       "['my name ', ' mlv prasad and ', ' am a good boy']"
      ]
     },
     "execution_count": 250,
     "metadata": {},
     "output_type": "execute_result"
    }
   ],
   "source": [
    "a = \"my name is mlv prasad and is am a good boy\"\n",
    "b = a.split(\"is\")\n",
    "b"
   ]
  },
  {
   "cell_type": "code",
   "execution_count": 251,
   "id": "c5519a1c",
   "metadata": {
    "execution": {
     "iopub.execute_input": "2023-11-11T17:27:09.657532Z",
     "iopub.status.busy": "2023-11-11T17:27:09.657164Z",
     "iopub.status.idle": "2023-11-11T17:27:09.663075Z",
     "shell.execute_reply": "2023-11-11T17:27:09.662171Z"
    },
    "papermill": {
     "duration": 0.133096,
     "end_time": "2023-11-11T17:27:09.665363",
     "exception": false,
     "start_time": "2023-11-11T17:27:09.532267",
     "status": "completed"
    },
    "tags": []
   },
   "outputs": [
    {
     "name": "stdout",
     "output_type": "stream",
     "text": [
      "                * \n",
      "            * * * \n",
      "        * * * * * \n",
      "    * * * * * * * \n",
      "* * * * * * * * * \n"
     ]
    }
   ],
   "source": [
    "for i in range(5):\n",
    "    print(\"  \"*(2*(4-i)),end=\"\")\n",
    "    print(\"* \"* ( (2*i)+1) )\n",
    "    "
   ]
  },
  {
   "cell_type": "code",
   "execution_count": 252,
   "id": "769bc883",
   "metadata": {
    "execution": {
     "iopub.execute_input": "2023-11-11T17:27:09.907345Z",
     "iopub.status.busy": "2023-11-11T17:27:09.907012Z",
     "iopub.status.idle": "2023-11-11T17:27:09.915789Z",
     "shell.execute_reply": "2023-11-11T17:27:09.914778Z"
    },
    "papermill": {
     "duration": 0.133852,
     "end_time": "2023-11-11T17:27:09.918264",
     "exception": false,
     "start_time": "2023-11-11T17:27:09.784412",
     "status": "completed"
    },
    "tags": []
   },
   "outputs": [
    {
     "name": "stdout",
     "output_type": "stream",
     "text": [
      "45\n",
      "12\n"
     ]
    }
   ],
   "source": [
    "#                 * \n",
    "#             * * * \n",
    "#         * * * * * \n",
    "#     * * * * * * * \n",
    "# * * * * * * * * * \n",
    "\n",
    "from abc import ABC , abstractmethod\n",
    "\n",
    "class mlv(ABC):\n",
    "    @abstractmethod\n",
    "    def marks(self) :\n",
    "        pass\n",
    "#     @abstractmethod \n",
    "#     def classes(self) :\n",
    "#         pass\n",
    "    \n",
    "class Mentor(mlv) :\n",
    "    def __init__(self,teach):\n",
    "        self.teach = teach\n",
    "        \n",
    "    def marks(self) :\n",
    "        return 9 * self.teach\n",
    "    \n",
    "    \n",
    "class Instructor(mlv) :\n",
    "    def __init__(self,cltime, months) :\n",
    "        self.cltime = cltime\n",
    "        self.month = months\n",
    "        \n",
    "    def marks(self) :\n",
    "        return self.cltime * self.month\n",
    "c1 = Mentor(5)\n",
    "c2 = Instructor(4,3)\n",
    "shapes = [c1, c2]\n",
    "for c3 in shapes :\n",
    "    print(c3.marks())"
   ]
  },
  {
   "cell_type": "code",
   "execution_count": null,
   "id": "530c7e6a",
   "metadata": {
    "papermill": {
     "duration": 0.118107,
     "end_time": "2023-11-11T17:27:10.154412",
     "exception": false,
     "start_time": "2023-11-11T17:27:10.036305",
     "status": "completed"
    },
    "tags": []
   },
   "outputs": [],
   "source": []
  },
  {
   "cell_type": "code",
   "execution_count": null,
   "id": "ec039175",
   "metadata": {
    "papermill": {
     "duration": 0.111878,
     "end_time": "2023-11-11T17:27:10.383405",
     "exception": false,
     "start_time": "2023-11-11T17:27:10.271527",
     "status": "completed"
    },
    "tags": []
   },
   "outputs": [],
   "source": []
  },
  {
   "cell_type": "code",
   "execution_count": null,
   "id": "169eea37",
   "metadata": {
    "papermill": {
     "duration": 0.121732,
     "end_time": "2023-11-11T17:27:10.621336",
     "exception": false,
     "start_time": "2023-11-11T17:27:10.499604",
     "status": "completed"
    },
    "tags": []
   },
   "outputs": [],
   "source": []
  },
  {
   "cell_type": "code",
   "execution_count": 253,
   "id": "e6a5a571",
   "metadata": {
    "execution": {
     "iopub.execute_input": "2023-11-11T17:27:10.858041Z",
     "iopub.status.busy": "2023-11-11T17:27:10.857674Z",
     "iopub.status.idle": "2023-11-11T17:27:10.862267Z",
     "shell.execute_reply": "2023-11-11T17:27:10.861449Z"
    },
    "papermill": {
     "duration": 0.122144,
     "end_time": "2023-11-11T17:27:10.864210",
     "exception": false,
     "start_time": "2023-11-11T17:27:10.742066",
     "status": "completed"
    },
    "tags": []
   },
   "outputs": [],
   "source": [
    "a = \"english\"\n",
    "\n",
    "b = \"hsilgne\"\n",
    "\n",
    "\n",
    "c = \"malayalam\"\n",
    "d = \"malayalam\"\n",
    "\n",
    "# palindrome"
   ]
  },
  {
   "cell_type": "code",
   "execution_count": 254,
   "id": "d224e580",
   "metadata": {
    "execution": {
     "iopub.execute_input": "2023-11-11T17:27:11.112896Z",
     "iopub.status.busy": "2023-11-11T17:27:11.112527Z",
     "iopub.status.idle": "2023-11-11T17:27:11.118983Z",
     "shell.execute_reply": "2023-11-11T17:27:11.118098Z"
    },
    "papermill": {
     "duration": 0.133854,
     "end_time": "2023-11-11T17:27:11.120941",
     "exception": false,
     "start_time": "2023-11-11T17:27:10.987087",
     "status": "completed"
    },
    "tags": []
   },
   "outputs": [
    {
     "data": {
      "text/plain": [
       "['c', 'b', 'a']"
      ]
     },
     "execution_count": 254,
     "metadata": {},
     "output_type": "execute_result"
    }
   ],
   "source": [
    "a = [\"a\",\"b\",\"c\"]\n",
    "b = a[::-1]\n",
    "b"
   ]
  },
  {
   "cell_type": "code",
   "execution_count": 255,
   "id": "8412f421",
   "metadata": {
    "execution": {
     "iopub.execute_input": "2023-11-11T17:27:11.353837Z",
     "iopub.status.busy": "2023-11-11T17:27:11.353522Z",
     "iopub.status.idle": "2023-11-11T17:27:11.359254Z",
     "shell.execute_reply": "2023-11-11T17:27:11.358326Z"
    },
    "papermill": {
     "duration": 0.12684,
     "end_time": "2023-11-11T17:27:11.361222",
     "exception": false,
     "start_time": "2023-11-11T17:27:11.234382",
     "status": "completed"
    },
    "tags": []
   },
   "outputs": [
    {
     "data": {
      "text/plain": [
       "'dasarp'"
      ]
     },
     "execution_count": 255,
     "metadata": {},
     "output_type": "execute_result"
    }
   ],
   "source": [
    "c = \"prasad\"\n",
    "c[::-1]"
   ]
  },
  {
   "cell_type": "code",
   "execution_count": 256,
   "id": "e5c03c76",
   "metadata": {
    "execution": {
     "iopub.execute_input": "2023-11-11T17:27:11.641877Z",
     "iopub.status.busy": "2023-11-11T17:27:11.641486Z",
     "iopub.status.idle": "2023-11-11T17:27:11.647080Z",
     "shell.execute_reply": "2023-11-11T17:27:11.646092Z"
    },
    "papermill": {
     "duration": 0.17191,
     "end_time": "2023-11-11T17:27:11.649111",
     "exception": false,
     "start_time": "2023-11-11T17:27:11.477201",
     "status": "completed"
    },
    "tags": []
   },
   "outputs": [],
   "source": [
    "\n",
    "\n",
    "# a  = input()\n",
    "# b = a[::-1]\n",
    "\n",
    "\n",
    "# if a == b :\n",
    "#     print(\"palindrome\")\n",
    "# else :\n",
    "#     print(\"not a palindrome\")"
   ]
  },
  {
   "cell_type": "code",
   "execution_count": 257,
   "id": "6076e831",
   "metadata": {
    "execution": {
     "iopub.execute_input": "2023-11-11T17:27:11.879435Z",
     "iopub.status.busy": "2023-11-11T17:27:11.879139Z",
     "iopub.status.idle": "2023-11-11T17:27:11.885355Z",
     "shell.execute_reply": "2023-11-11T17:27:11.884455Z"
    },
    "papermill": {
     "duration": 0.124022,
     "end_time": "2023-11-11T17:27:11.887463",
     "exception": false,
     "start_time": "2023-11-11T17:27:11.763441",
     "status": "completed"
    },
    "tags": []
   },
   "outputs": [
    {
     "data": {
      "text/plain": [
       "'mentor a is prasad mlv'"
      ]
     },
     "execution_count": 257,
     "metadata": {},
     "output_type": "execute_result"
    }
   ],
   "source": [
    "a = \"mlv prasad is a mentor\"\n",
    "\n",
    "# b = \"mentor a is prasad mlv\"\n",
    "b = a.split()\n",
    "c = b[::-1]\n",
    "c\n",
    "\n",
    "d =  \" \".join(c)\n",
    "d"
   ]
  },
  {
   "cell_type": "code",
   "execution_count": 258,
   "id": "56d5772c",
   "metadata": {
    "execution": {
     "iopub.execute_input": "2023-11-11T17:27:12.116507Z",
     "iopub.status.busy": "2023-11-11T17:27:12.115753Z",
     "iopub.status.idle": "2023-11-11T17:27:12.121709Z",
     "shell.execute_reply": "2023-11-11T17:27:12.120864Z"
    },
    "papermill": {
     "duration": 0.123571,
     "end_time": "2023-11-11T17:27:12.123697",
     "exception": false,
     "start_time": "2023-11-11T17:27:12.000126",
     "status": "completed"
    },
    "tags": []
   },
   "outputs": [
    {
     "data": {
      "text/plain": [
       "['mlv', 'prasad', 'is', 'a', 'mentor']"
      ]
     },
     "execution_count": 258,
     "metadata": {},
     "output_type": "execute_result"
    }
   ],
   "source": [
    "a = \"mlv prasad is a mentor\"\n",
    "\n",
    "# b = \"mentor a is prasad mlv\"\n",
    "b = a.split()\n",
    "b "
   ]
  },
  {
   "cell_type": "code",
   "execution_count": 259,
   "id": "096625f2",
   "metadata": {
    "execution": {
     "iopub.execute_input": "2023-11-11T17:27:12.356037Z",
     "iopub.status.busy": "2023-11-11T17:27:12.355434Z",
     "iopub.status.idle": "2023-11-11T17:27:12.361080Z",
     "shell.execute_reply": "2023-11-11T17:27:12.359739Z"
    },
    "papermill": {
     "duration": 0.126185,
     "end_time": "2023-11-11T17:27:12.363060",
     "exception": false,
     "start_time": "2023-11-11T17:27:12.236875",
     "status": "completed"
    },
    "tags": []
   },
   "outputs": [
    {
     "name": "stdout",
     "output_type": "stream",
     "text": [
      "the student name is  swapna and she is a  good student\n"
     ]
    }
   ],
   "source": [
    "a = \"swapna\"\n",
    "print(\"the student name is \", a,\"and she is a  good student\")"
   ]
  },
  {
   "cell_type": "code",
   "execution_count": 260,
   "id": "08f5ed75",
   "metadata": {
    "execution": {
     "iopub.execute_input": "2023-11-11T17:27:12.609704Z",
     "iopub.status.busy": "2023-11-11T17:27:12.608978Z",
     "iopub.status.idle": "2023-11-11T17:27:12.613986Z",
     "shell.execute_reply": "2023-11-11T17:27:12.613023Z"
    },
    "papermill": {
     "duration": 0.132716,
     "end_time": "2023-11-11T17:27:12.616681",
     "exception": false,
     "start_time": "2023-11-11T17:27:12.483965",
     "status": "completed"
    },
    "tags": []
   },
   "outputs": [
    {
     "name": "stdout",
     "output_type": "stream",
     "text": [
      "the student name is  swapna  and she is a  good student\n"
     ]
    }
   ],
   "source": [
    "print(f\"the student name is  {a}  and she is a  good student\")"
   ]
  },
  {
   "cell_type": "code",
   "execution_count": 261,
   "id": "ab777559",
   "metadata": {
    "execution": {
     "iopub.execute_input": "2023-11-11T17:27:12.861168Z",
     "iopub.status.busy": "2023-11-11T17:27:12.860482Z",
     "iopub.status.idle": "2023-11-11T17:27:12.865432Z",
     "shell.execute_reply": "2023-11-11T17:27:12.864554Z"
    },
    "papermill": {
     "duration": 0.128438,
     "end_time": "2023-11-11T17:27:12.867999",
     "exception": false,
     "start_time": "2023-11-11T17:27:12.739561",
     "status": "completed"
    },
    "tags": []
   },
   "outputs": [
    {
     "name": "stdout",
     "output_type": "stream",
     "text": [
      "the student name is  swapna  and she is a  good student\n"
     ]
    }
   ],
   "source": [
    "txt = \"the student name is  {}  and she is a  good student\"\n",
    "print(txt.format(a))"
   ]
  },
  {
   "cell_type": "code",
   "execution_count": 262,
   "id": "65706247",
   "metadata": {
    "execution": {
     "iopub.execute_input": "2023-11-11T17:27:13.108580Z",
     "iopub.status.busy": "2023-11-11T17:27:13.108234Z",
     "iopub.status.idle": "2023-11-11T17:27:13.113174Z",
     "shell.execute_reply": "2023-11-11T17:27:13.112252Z"
    },
    "papermill": {
     "duration": 0.129422,
     "end_time": "2023-11-11T17:27:13.115332",
     "exception": false,
     "start_time": "2023-11-11T17:27:12.985910",
     "status": "completed"
    },
    "tags": []
   },
   "outputs": [],
   "source": [
    "# 9. Write a Python program to display the examination schedule. (extract the date from exam_st_date).\n",
    "# exam_st_date = (11, 12, 2014)\n",
    "# Sample Output : The examination will start from : 11 / 12 / 2014\n",
    "\n",
    "\n",
    "# 10. Write a Python program that accepts an integer (n) and computes the value of n+nn+nnn.\n",
    "# Sample value of n is 5\n",
    "# Expected Result : 615\n",
    "\n",
    "# 11. Write a Python program to print the documents (syntax, description etc.) of Python built-in function(s).\n",
    "# Sample function : abs()\n",
    "# Expected Result :\n",
    "# abs(number) -> number\n",
    "# Return the absolute value of the argument."
   ]
  },
  {
   "cell_type": "code",
   "execution_count": 263,
   "id": "d8e7c360",
   "metadata": {
    "execution": {
     "iopub.execute_input": "2023-11-11T17:27:13.353577Z",
     "iopub.status.busy": "2023-11-11T17:27:13.353249Z",
     "iopub.status.idle": "2023-11-11T17:27:13.358513Z",
     "shell.execute_reply": "2023-11-11T17:27:13.357567Z"
    },
    "papermill": {
     "duration": 0.127973,
     "end_time": "2023-11-11T17:27:13.360969",
     "exception": false,
     "start_time": "2023-11-11T17:27:13.232996",
     "status": "completed"
    },
    "tags": []
   },
   "outputs": [
    {
     "name": "stdout",
     "output_type": "stream",
     "text": [
      "Sample Output : The examination will start from : 15 / 3 / 2022\n"
     ]
    }
   ],
   "source": [
    "exam_st_date = (15, 3, 2022)\n",
    "a, b ,c = exam_st_date \n",
    "print(f\"Sample Output : The examination will start from : {a} / {b} / {c}\")"
   ]
  },
  {
   "cell_type": "code",
   "execution_count": 264,
   "id": "3d19c7f6",
   "metadata": {
    "execution": {
     "iopub.execute_input": "2023-11-11T17:27:13.595375Z",
     "iopub.status.busy": "2023-11-11T17:27:13.595005Z",
     "iopub.status.idle": "2023-11-11T17:27:13.603709Z",
     "shell.execute_reply": "2023-11-11T17:27:13.602490Z"
    },
    "papermill": {
     "duration": 0.131292,
     "end_time": "2023-11-11T17:27:13.606269",
     "exception": false,
     "start_time": "2023-11-11T17:27:13.474977",
     "status": "completed"
    },
    "tags": []
   },
   "outputs": [
    {
     "name": "stdout",
     "output_type": "stream",
     "text": [
      "7\n",
      "77\n",
      "777\n"
     ]
    },
    {
     "data": {
      "text/plain": [
       "861"
      ]
     },
     "execution_count": 264,
     "metadata": {},
     "output_type": "execute_result"
    }
   ],
   "source": [
    "# 10. Write a Python program that accepts an integer (n) and computes the value of n+nn+nnn.\n",
    "# Sample value of n is 5\n",
    "# Expected Result : 615\n",
    "\n",
    "\n",
    "# 7 \n",
    "\n",
    "# 7 + 77 + 777\n",
    "\n",
    "n = 7 \n",
    "sum = 0\n",
    "for i in range(3):\n",
    "    a  = str(7)*(i+1)\n",
    "    print(a)\n",
    "    sum = sum + int(a)\n",
    "    \n",
    "sum    "
   ]
  },
  {
   "cell_type": "code",
   "execution_count": 265,
   "id": "eafc7735",
   "metadata": {
    "execution": {
     "iopub.execute_input": "2023-11-11T17:27:13.848474Z",
     "iopub.status.busy": "2023-11-11T17:27:13.848127Z",
     "iopub.status.idle": "2023-11-11T17:27:13.852246Z",
     "shell.execute_reply": "2023-11-11T17:27:13.851477Z"
    },
    "papermill": {
     "duration": 0.127303,
     "end_time": "2023-11-11T17:27:13.854261",
     "exception": false,
     "start_time": "2023-11-11T17:27:13.726958",
     "status": "completed"
    },
    "tags": []
   },
   "outputs": [],
   "source": [
    "# 7 + 77 + 777"
   ]
  },
  {
   "cell_type": "code",
   "execution_count": 266,
   "id": "cc79938e",
   "metadata": {
    "execution": {
     "iopub.execute_input": "2023-11-11T17:27:14.083548Z",
     "iopub.status.busy": "2023-11-11T17:27:14.083240Z",
     "iopub.status.idle": "2023-11-11T17:27:14.088835Z",
     "shell.execute_reply": "2023-11-11T17:27:14.087793Z"
    },
    "papermill": {
     "duration": 0.121998,
     "end_time": "2023-11-11T17:27:14.091213",
     "exception": false,
     "start_time": "2023-11-11T17:27:13.969215",
     "status": "completed"
    },
    "tags": []
   },
   "outputs": [
    {
     "name": "stdout",
     "output_type": "stream",
     "text": [
      "Help on built-in function abs in module builtins:\n",
      "\n",
      "abs(x, /)\n",
      "    Return the absolute value of the argument.\n",
      "\n"
     ]
    }
   ],
   "source": [
    "help(abs)"
   ]
  },
  {
   "cell_type": "code",
   "execution_count": 267,
   "id": "270204bd",
   "metadata": {
    "execution": {
     "iopub.execute_input": "2023-11-11T17:27:14.329538Z",
     "iopub.status.busy": "2023-11-11T17:27:14.328787Z",
     "iopub.status.idle": "2023-11-11T17:27:14.354771Z",
     "shell.execute_reply": "2023-11-11T17:27:14.353917Z"
    },
    "papermill": {
     "duration": 0.148405,
     "end_time": "2023-11-11T17:27:14.358713",
     "exception": false,
     "start_time": "2023-11-11T17:27:14.210308",
     "status": "completed"
    },
    "tags": []
   },
   "outputs": [
    {
     "name": "stdout",
     "output_type": "stream",
     "text": [
      "Help on class str in module builtins:\n",
      "\n",
      "class str(object)\n",
      " |  str(object='') -> str\n",
      " |  str(bytes_or_buffer[, encoding[, errors]]) -> str\n",
      " |  \n",
      " |  Create a new string object from the given object. If encoding or\n",
      " |  errors is specified, then the object must expose a data buffer\n",
      " |  that will be decoded using the given encoding and error handler.\n",
      " |  Otherwise, returns the result of object.__str__() (if defined)\n",
      " |  or repr(object).\n",
      " |  encoding defaults to sys.getdefaultencoding().\n",
      " |  errors defaults to 'strict'.\n",
      " |  \n",
      " |  Methods defined here:\n",
      " |  \n",
      " |  __add__(self, value, /)\n",
      " |      Return self+value.\n",
      " |  \n",
      " |  __contains__(self, key, /)\n",
      " |      Return key in self.\n",
      " |  \n",
      " |  __eq__(self, value, /)\n",
      " |      Return self==value.\n",
      " |  \n",
      " |  __format__(self, format_spec, /)\n",
      " |      Return a formatted version of the string as described by format_spec.\n",
      " |  \n",
      " |  __ge__(self, value, /)\n",
      " |      Return self>=value.\n",
      " |  \n",
      " |  __getattribute__(self, name, /)\n",
      " |      Return getattr(self, name).\n",
      " |  \n",
      " |  __getitem__(self, key, /)\n",
      " |      Return self[key].\n",
      " |  \n",
      " |  __getnewargs__(...)\n",
      " |  \n",
      " |  __gt__(self, value, /)\n",
      " |      Return self>value.\n",
      " |  \n",
      " |  __hash__(self, /)\n",
      " |      Return hash(self).\n",
      " |  \n",
      " |  __iter__(self, /)\n",
      " |      Implement iter(self).\n",
      " |  \n",
      " |  __le__(self, value, /)\n",
      " |      Return self<=value.\n",
      " |  \n",
      " |  __len__(self, /)\n",
      " |      Return len(self).\n",
      " |  \n",
      " |  __lt__(self, value, /)\n",
      " |      Return self<value.\n",
      " |  \n",
      " |  __mod__(self, value, /)\n",
      " |      Return self%value.\n",
      " |  \n",
      " |  __mul__(self, value, /)\n",
      " |      Return self*value.\n",
      " |  \n",
      " |  __ne__(self, value, /)\n",
      " |      Return self!=value.\n",
      " |  \n",
      " |  __repr__(self, /)\n",
      " |      Return repr(self).\n",
      " |  \n",
      " |  __rmod__(self, value, /)\n",
      " |      Return value%self.\n",
      " |  \n",
      " |  __rmul__(self, value, /)\n",
      " |      Return value*self.\n",
      " |  \n",
      " |  __sizeof__(self, /)\n",
      " |      Return the size of the string in memory, in bytes.\n",
      " |  \n",
      " |  __str__(self, /)\n",
      " |      Return str(self).\n",
      " |  \n",
      " |  capitalize(self, /)\n",
      " |      Return a capitalized version of the string.\n",
      " |      \n",
      " |      More specifically, make the first character have upper case and the rest lower\n",
      " |      case.\n",
      " |  \n",
      " |  casefold(self, /)\n",
      " |      Return a version of the string suitable for caseless comparisons.\n",
      " |  \n",
      " |  center(self, width, fillchar=' ', /)\n",
      " |      Return a centered string of length width.\n",
      " |      \n",
      " |      Padding is done using the specified fill character (default is a space).\n",
      " |  \n",
      " |  count(...)\n",
      " |      S.count(sub[, start[, end]]) -> int\n",
      " |      \n",
      " |      Return the number of non-overlapping occurrences of substring sub in\n",
      " |      string S[start:end].  Optional arguments start and end are\n",
      " |      interpreted as in slice notation.\n",
      " |  \n",
      " |  encode(self, /, encoding='utf-8', errors='strict')\n",
      " |      Encode the string using the codec registered for encoding.\n",
      " |      \n",
      " |      encoding\n",
      " |        The encoding in which to encode the string.\n",
      " |      errors\n",
      " |        The error handling scheme to use for encoding errors.\n",
      " |        The default is 'strict' meaning that encoding errors raise a\n",
      " |        UnicodeEncodeError.  Other possible values are 'ignore', 'replace' and\n",
      " |        'xmlcharrefreplace' as well as any other name registered with\n",
      " |        codecs.register_error that can handle UnicodeEncodeErrors.\n",
      " |  \n",
      " |  endswith(...)\n",
      " |      S.endswith(suffix[, start[, end]]) -> bool\n",
      " |      \n",
      " |      Return True if S ends with the specified suffix, False otherwise.\n",
      " |      With optional start, test S beginning at that position.\n",
      " |      With optional end, stop comparing S at that position.\n",
      " |      suffix can also be a tuple of strings to try.\n",
      " |  \n",
      " |  expandtabs(self, /, tabsize=8)\n",
      " |      Return a copy where all tab characters are expanded using spaces.\n",
      " |      \n",
      " |      If tabsize is not given, a tab size of 8 characters is assumed.\n",
      " |  \n",
      " |  find(...)\n",
      " |      S.find(sub[, start[, end]]) -> int\n",
      " |      \n",
      " |      Return the lowest index in S where substring sub is found,\n",
      " |      such that sub is contained within S[start:end].  Optional\n",
      " |      arguments start and end are interpreted as in slice notation.\n",
      " |      \n",
      " |      Return -1 on failure.\n",
      " |  \n",
      " |  format(...)\n",
      " |      S.format(*args, **kwargs) -> str\n",
      " |      \n",
      " |      Return a formatted version of S, using substitutions from args and kwargs.\n",
      " |      The substitutions are identified by braces ('{' and '}').\n",
      " |  \n",
      " |  format_map(...)\n",
      " |      S.format_map(mapping) -> str\n",
      " |      \n",
      " |      Return a formatted version of S, using substitutions from mapping.\n",
      " |      The substitutions are identified by braces ('{' and '}').\n",
      " |  \n",
      " |  index(...)\n",
      " |      S.index(sub[, start[, end]]) -> int\n",
      " |      \n",
      " |      Return the lowest index in S where substring sub is found,\n",
      " |      such that sub is contained within S[start:end].  Optional\n",
      " |      arguments start and end are interpreted as in slice notation.\n",
      " |      \n",
      " |      Raises ValueError when the substring is not found.\n",
      " |  \n",
      " |  isalnum(self, /)\n",
      " |      Return True if the string is an alpha-numeric string, False otherwise.\n",
      " |      \n",
      " |      A string is alpha-numeric if all characters in the string are alpha-numeric and\n",
      " |      there is at least one character in the string.\n",
      " |  \n",
      " |  isalpha(self, /)\n",
      " |      Return True if the string is an alphabetic string, False otherwise.\n",
      " |      \n",
      " |      A string is alphabetic if all characters in the string are alphabetic and there\n",
      " |      is at least one character in the string.\n",
      " |  \n",
      " |  isascii(self, /)\n",
      " |      Return True if all characters in the string are ASCII, False otherwise.\n",
      " |      \n",
      " |      ASCII characters have code points in the range U+0000-U+007F.\n",
      " |      Empty string is ASCII too.\n",
      " |  \n",
      " |  isdecimal(self, /)\n",
      " |      Return True if the string is a decimal string, False otherwise.\n",
      " |      \n",
      " |      A string is a decimal string if all characters in the string are decimal and\n",
      " |      there is at least one character in the string.\n",
      " |  \n",
      " |  isdigit(self, /)\n",
      " |      Return True if the string is a digit string, False otherwise.\n",
      " |      \n",
      " |      A string is a digit string if all characters in the string are digits and there\n",
      " |      is at least one character in the string.\n",
      " |  \n",
      " |  isidentifier(self, /)\n",
      " |      Return True if the string is a valid Python identifier, False otherwise.\n",
      " |      \n",
      " |      Call keyword.iskeyword(s) to test whether string s is a reserved identifier,\n",
      " |      such as \"def\" or \"class\".\n",
      " |  \n",
      " |  islower(self, /)\n",
      " |      Return True if the string is a lowercase string, False otherwise.\n",
      " |      \n",
      " |      A string is lowercase if all cased characters in the string are lowercase and\n",
      " |      there is at least one cased character in the string.\n",
      " |  \n",
      " |  isnumeric(self, /)\n",
      " |      Return True if the string is a numeric string, False otherwise.\n",
      " |      \n",
      " |      A string is numeric if all characters in the string are numeric and there is at\n",
      " |      least one character in the string.\n",
      " |  \n",
      " |  isprintable(self, /)\n",
      " |      Return True if the string is printable, False otherwise.\n",
      " |      \n",
      " |      A string is printable if all of its characters are considered printable in\n",
      " |      repr() or if it is empty.\n",
      " |  \n",
      " |  isspace(self, /)\n",
      " |      Return True if the string is a whitespace string, False otherwise.\n",
      " |      \n",
      " |      A string is whitespace if all characters in the string are whitespace and there\n",
      " |      is at least one character in the string.\n",
      " |  \n",
      " |  istitle(self, /)\n",
      " |      Return True if the string is a title-cased string, False otherwise.\n",
      " |      \n",
      " |      In a title-cased string, upper- and title-case characters may only\n",
      " |      follow uncased characters and lowercase characters only cased ones.\n",
      " |  \n",
      " |  isupper(self, /)\n",
      " |      Return True if the string is an uppercase string, False otherwise.\n",
      " |      \n",
      " |      A string is uppercase if all cased characters in the string are uppercase and\n",
      " |      there is at least one cased character in the string.\n",
      " |  \n",
      " |  join(self, iterable, /)\n",
      " |      Concatenate any number of strings.\n",
      " |      \n",
      " |      The string whose method is called is inserted in between each given string.\n",
      " |      The result is returned as a new string.\n",
      " |      \n",
      " |      Example: '.'.join(['ab', 'pq', 'rs']) -> 'ab.pq.rs'\n",
      " |  \n",
      " |  ljust(self, width, fillchar=' ', /)\n",
      " |      Return a left-justified string of length width.\n",
      " |      \n",
      " |      Padding is done using the specified fill character (default is a space).\n",
      " |  \n",
      " |  lower(self, /)\n",
      " |      Return a copy of the string converted to lowercase.\n",
      " |  \n",
      " |  lstrip(self, chars=None, /)\n",
      " |      Return a copy of the string with leading whitespace removed.\n",
      " |      \n",
      " |      If chars is given and not None, remove characters in chars instead.\n",
      " |  \n",
      " |  partition(self, sep, /)\n",
      " |      Partition the string into three parts using the given separator.\n",
      " |      \n",
      " |      This will search for the separator in the string.  If the separator is found,\n",
      " |      returns a 3-tuple containing the part before the separator, the separator\n",
      " |      itself, and the part after it.\n",
      " |      \n",
      " |      If the separator is not found, returns a 3-tuple containing the original string\n",
      " |      and two empty strings.\n",
      " |  \n",
      " |  removeprefix(self, prefix, /)\n",
      " |      Return a str with the given prefix string removed if present.\n",
      " |      \n",
      " |      If the string starts with the prefix string, return string[len(prefix):].\n",
      " |      Otherwise, return a copy of the original string.\n",
      " |  \n",
      " |  removesuffix(self, suffix, /)\n",
      " |      Return a str with the given suffix string removed if present.\n",
      " |      \n",
      " |      If the string ends with the suffix string and that suffix is not empty,\n",
      " |      return string[:-len(suffix)]. Otherwise, return a copy of the original\n",
      " |      string.\n",
      " |  \n",
      " |  replace(self, old, new, count=-1, /)\n",
      " |      Return a copy with all occurrences of substring old replaced by new.\n",
      " |      \n",
      " |        count\n",
      " |          Maximum number of occurrences to replace.\n",
      " |          -1 (the default value) means replace all occurrences.\n",
      " |      \n",
      " |      If the optional argument count is given, only the first count occurrences are\n",
      " |      replaced.\n",
      " |  \n",
      " |  rfind(...)\n",
      " |      S.rfind(sub[, start[, end]]) -> int\n",
      " |      \n",
      " |      Return the highest index in S where substring sub is found,\n",
      " |      such that sub is contained within S[start:end].  Optional\n",
      " |      arguments start and end are interpreted as in slice notation.\n",
      " |      \n",
      " |      Return -1 on failure.\n",
      " |  \n",
      " |  rindex(...)\n",
      " |      S.rindex(sub[, start[, end]]) -> int\n",
      " |      \n",
      " |      Return the highest index in S where substring sub is found,\n",
      " |      such that sub is contained within S[start:end].  Optional\n",
      " |      arguments start and end are interpreted as in slice notation.\n",
      " |      \n",
      " |      Raises ValueError when the substring is not found.\n",
      " |  \n",
      " |  rjust(self, width, fillchar=' ', /)\n",
      " |      Return a right-justified string of length width.\n",
      " |      \n",
      " |      Padding is done using the specified fill character (default is a space).\n",
      " |  \n",
      " |  rpartition(self, sep, /)\n",
      " |      Partition the string into three parts using the given separator.\n",
      " |      \n",
      " |      This will search for the separator in the string, starting at the end. If\n",
      " |      the separator is found, returns a 3-tuple containing the part before the\n",
      " |      separator, the separator itself, and the part after it.\n",
      " |      \n",
      " |      If the separator is not found, returns a 3-tuple containing two empty strings\n",
      " |      and the original string.\n",
      " |  \n",
      " |  rsplit(self, /, sep=None, maxsplit=-1)\n",
      " |      Return a list of the substrings in the string, using sep as the separator string.\n",
      " |      \n",
      " |        sep\n",
      " |          The separator used to split the string.\n",
      " |      \n",
      " |          When set to None (the default value), will split on any whitespace\n",
      " |          character (including \\\\n \\\\r \\\\t \\\\f and spaces) and will discard\n",
      " |          empty strings from the result.\n",
      " |        maxsplit\n",
      " |          Maximum number of splits (starting from the left).\n",
      " |          -1 (the default value) means no limit.\n",
      " |      \n",
      " |      Splitting starts at the end of the string and works to the front.\n",
      " |  \n",
      " |  rstrip(self, chars=None, /)\n",
      " |      Return a copy of the string with trailing whitespace removed.\n",
      " |      \n",
      " |      If chars is given and not None, remove characters in chars instead.\n",
      " |  \n",
      " |  split(self, /, sep=None, maxsplit=-1)\n",
      " |      Return a list of the substrings in the string, using sep as the separator string.\n",
      " |      \n",
      " |        sep\n",
      " |          The separator used to split the string.\n",
      " |      \n",
      " |          When set to None (the default value), will split on any whitespace\n",
      " |          character (including \\\\n \\\\r \\\\t \\\\f and spaces) and will discard\n",
      " |          empty strings from the result.\n",
      " |        maxsplit\n",
      " |          Maximum number of splits (starting from the left).\n",
      " |          -1 (the default value) means no limit.\n",
      " |      \n",
      " |      Note, str.split() is mainly useful for data that has been intentionally\n",
      " |      delimited.  With natural text that includes punctuation, consider using\n",
      " |      the regular expression module.\n",
      " |  \n",
      " |  splitlines(self, /, keepends=False)\n",
      " |      Return a list of the lines in the string, breaking at line boundaries.\n",
      " |      \n",
      " |      Line breaks are not included in the resulting list unless keepends is given and\n",
      " |      true.\n",
      " |  \n",
      " |  startswith(...)\n",
      " |      S.startswith(prefix[, start[, end]]) -> bool\n",
      " |      \n",
      " |      Return True if S starts with the specified prefix, False otherwise.\n",
      " |      With optional start, test S beginning at that position.\n",
      " |      With optional end, stop comparing S at that position.\n",
      " |      prefix can also be a tuple of strings to try.\n",
      " |  \n",
      " |  strip(self, chars=None, /)\n",
      " |      Return a copy of the string with leading and trailing whitespace removed.\n",
      " |      \n",
      " |      If chars is given and not None, remove characters in chars instead.\n",
      " |  \n",
      " |  swapcase(self, /)\n",
      " |      Convert uppercase characters to lowercase and lowercase characters to uppercase.\n",
      " |  \n",
      " |  title(self, /)\n",
      " |      Return a version of the string where each word is titlecased.\n",
      " |      \n",
      " |      More specifically, words start with uppercased characters and all remaining\n",
      " |      cased characters have lower case.\n",
      " |  \n",
      " |  translate(self, table, /)\n",
      " |      Replace each character in the string using the given translation table.\n",
      " |      \n",
      " |        table\n",
      " |          Translation table, which must be a mapping of Unicode ordinals to\n",
      " |          Unicode ordinals, strings, or None.\n",
      " |      \n",
      " |      The table must implement lookup/indexing via __getitem__, for instance a\n",
      " |      dictionary or list.  If this operation raises LookupError, the character is\n",
      " |      left untouched.  Characters mapped to None are deleted.\n",
      " |  \n",
      " |  upper(self, /)\n",
      " |      Return a copy of the string converted to uppercase.\n",
      " |  \n",
      " |  zfill(self, width, /)\n",
      " |      Pad a numeric string with zeros on the left, to fill a field of the given width.\n",
      " |      \n",
      " |      The string is never truncated.\n",
      " |  \n",
      " |  ----------------------------------------------------------------------\n",
      " |  Static methods defined here:\n",
      " |  \n",
      " |  __new__(*args, **kwargs) from builtins.type\n",
      " |      Create and return a new object.  See help(type) for accurate signature.\n",
      " |  \n",
      " |  maketrans(...)\n",
      " |      Return a translation table usable for str.translate().\n",
      " |      \n",
      " |      If there is only one argument, it must be a dictionary mapping Unicode\n",
      " |      ordinals (integers) or characters to Unicode ordinals, strings or None.\n",
      " |      Character keys will be then converted to ordinals.\n",
      " |      If there are two arguments, they must be strings of equal length, and\n",
      " |      in the resulting dictionary, each character in x will be mapped to the\n",
      " |      character at the same position in y. If there is a third argument, it\n",
      " |      must be a string, whose characters will be mapped to None in the result.\n",
      "\n"
     ]
    }
   ],
   "source": [
    "help(str)"
   ]
  },
  {
   "cell_type": "code",
   "execution_count": 268,
   "id": "a9acd04b",
   "metadata": {
    "execution": {
     "iopub.execute_input": "2023-11-11T17:27:14.602884Z",
     "iopub.status.busy": "2023-11-11T17:27:14.602499Z",
     "iopub.status.idle": "2023-11-11T17:27:14.623544Z",
     "shell.execute_reply": "2023-11-11T17:27:14.622640Z"
    },
    "papermill": {
     "duration": 0.149894,
     "end_time": "2023-11-11T17:27:14.627108",
     "exception": false,
     "start_time": "2023-11-11T17:27:14.477214",
     "status": "completed"
    },
    "tags": []
   },
   "outputs": [
    {
     "name": "stdout",
     "output_type": "stream",
     "text": [
      "Help on class int in module builtins:\n",
      "\n",
      "class int(object)\n",
      " |  int([x]) -> integer\n",
      " |  int(x, base=10) -> integer\n",
      " |  \n",
      " |  Convert a number or string to an integer, or return 0 if no arguments\n",
      " |  are given.  If x is a number, return x.__int__().  For floating point\n",
      " |  numbers, this truncates towards zero.\n",
      " |  \n",
      " |  If x is not a number or if base is given, then x must be a string,\n",
      " |  bytes, or bytearray instance representing an integer literal in the\n",
      " |  given base.  The literal can be preceded by '+' or '-' and be surrounded\n",
      " |  by whitespace.  The base defaults to 10.  Valid bases are 0 and 2-36.\n",
      " |  Base 0 means to interpret the base from the string as an integer literal.\n",
      " |  >>> int('0b100', base=0)\n",
      " |  4\n",
      " |  \n",
      " |  Built-in subclasses:\n",
      " |      bool\n",
      " |  \n",
      " |  Methods defined here:\n",
      " |  \n",
      " |  __abs__(self, /)\n",
      " |      abs(self)\n",
      " |  \n",
      " |  __add__(self, value, /)\n",
      " |      Return self+value.\n",
      " |  \n",
      " |  __and__(self, value, /)\n",
      " |      Return self&value.\n",
      " |  \n",
      " |  __bool__(self, /)\n",
      " |      True if self else False\n",
      " |  \n",
      " |  __ceil__(...)\n",
      " |      Ceiling of an Integral returns itself.\n",
      " |  \n",
      " |  __divmod__(self, value, /)\n",
      " |      Return divmod(self, value).\n",
      " |  \n",
      " |  __eq__(self, value, /)\n",
      " |      Return self==value.\n",
      " |  \n",
      " |  __float__(self, /)\n",
      " |      float(self)\n",
      " |  \n",
      " |  __floor__(...)\n",
      " |      Flooring an Integral returns itself.\n",
      " |  \n",
      " |  __floordiv__(self, value, /)\n",
      " |      Return self//value.\n",
      " |  \n",
      " |  __format__(self, format_spec, /)\n",
      " |      Default object formatter.\n",
      " |  \n",
      " |  __ge__(self, value, /)\n",
      " |      Return self>=value.\n",
      " |  \n",
      " |  __getattribute__(self, name, /)\n",
      " |      Return getattr(self, name).\n",
      " |  \n",
      " |  __getnewargs__(self, /)\n",
      " |  \n",
      " |  __gt__(self, value, /)\n",
      " |      Return self>value.\n",
      " |  \n",
      " |  __hash__(self, /)\n",
      " |      Return hash(self).\n",
      " |  \n",
      " |  __index__(self, /)\n",
      " |      Return self converted to an integer, if self is suitable for use as an index into a list.\n",
      " |  \n",
      " |  __int__(self, /)\n",
      " |      int(self)\n",
      " |  \n",
      " |  __invert__(self, /)\n",
      " |      ~self\n",
      " |  \n",
      " |  __le__(self, value, /)\n",
      " |      Return self<=value.\n",
      " |  \n",
      " |  __lshift__(self, value, /)\n",
      " |      Return self<<value.\n",
      " |  \n",
      " |  __lt__(self, value, /)\n",
      " |      Return self<value.\n",
      " |  \n",
      " |  __mod__(self, value, /)\n",
      " |      Return self%value.\n",
      " |  \n",
      " |  __mul__(self, value, /)\n",
      " |      Return self*value.\n",
      " |  \n",
      " |  __ne__(self, value, /)\n",
      " |      Return self!=value.\n",
      " |  \n",
      " |  __neg__(self, /)\n",
      " |      -self\n",
      " |  \n",
      " |  __or__(self, value, /)\n",
      " |      Return self|value.\n",
      " |  \n",
      " |  __pos__(self, /)\n",
      " |      +self\n",
      " |  \n",
      " |  __pow__(self, value, mod=None, /)\n",
      " |      Return pow(self, value, mod).\n",
      " |  \n",
      " |  __radd__(self, value, /)\n",
      " |      Return value+self.\n",
      " |  \n",
      " |  __rand__(self, value, /)\n",
      " |      Return value&self.\n",
      " |  \n",
      " |  __rdivmod__(self, value, /)\n",
      " |      Return divmod(value, self).\n",
      " |  \n",
      " |  __repr__(self, /)\n",
      " |      Return repr(self).\n",
      " |  \n",
      " |  __rfloordiv__(self, value, /)\n",
      " |      Return value//self.\n",
      " |  \n",
      " |  __rlshift__(self, value, /)\n",
      " |      Return value<<self.\n",
      " |  \n",
      " |  __rmod__(self, value, /)\n",
      " |      Return value%self.\n",
      " |  \n",
      " |  __rmul__(self, value, /)\n",
      " |      Return value*self.\n",
      " |  \n",
      " |  __ror__(self, value, /)\n",
      " |      Return value|self.\n",
      " |  \n",
      " |  __round__(...)\n",
      " |      Rounding an Integral returns itself.\n",
      " |      \n",
      " |      Rounding with an ndigits argument also returns an integer.\n",
      " |  \n",
      " |  __rpow__(self, value, mod=None, /)\n",
      " |      Return pow(value, self, mod).\n",
      " |  \n",
      " |  __rrshift__(self, value, /)\n",
      " |      Return value>>self.\n",
      " |  \n",
      " |  __rshift__(self, value, /)\n",
      " |      Return self>>value.\n",
      " |  \n",
      " |  __rsub__(self, value, /)\n",
      " |      Return value-self.\n",
      " |  \n",
      " |  __rtruediv__(self, value, /)\n",
      " |      Return value/self.\n",
      " |  \n",
      " |  __rxor__(self, value, /)\n",
      " |      Return value^self.\n",
      " |  \n",
      " |  __sizeof__(self, /)\n",
      " |      Returns size in memory, in bytes.\n",
      " |  \n",
      " |  __sub__(self, value, /)\n",
      " |      Return self-value.\n",
      " |  \n",
      " |  __truediv__(self, value, /)\n",
      " |      Return self/value.\n",
      " |  \n",
      " |  __trunc__(...)\n",
      " |      Truncating an Integral returns itself.\n",
      " |  \n",
      " |  __xor__(self, value, /)\n",
      " |      Return self^value.\n",
      " |  \n",
      " |  as_integer_ratio(self, /)\n",
      " |      Return integer ratio.\n",
      " |      \n",
      " |      Return a pair of integers, whose ratio is exactly equal to the original int\n",
      " |      and with a positive denominator.\n",
      " |      \n",
      " |      >>> (10).as_integer_ratio()\n",
      " |      (10, 1)\n",
      " |      >>> (-10).as_integer_ratio()\n",
      " |      (-10, 1)\n",
      " |      >>> (0).as_integer_ratio()\n",
      " |      (0, 1)\n",
      " |  \n",
      " |  bit_count(self, /)\n",
      " |      Number of ones in the binary representation of the absolute value of self.\n",
      " |      \n",
      " |      Also known as the population count.\n",
      " |      \n",
      " |      >>> bin(13)\n",
      " |      '0b1101'\n",
      " |      >>> (13).bit_count()\n",
      " |      3\n",
      " |  \n",
      " |  bit_length(self, /)\n",
      " |      Number of bits necessary to represent self in binary.\n",
      " |      \n",
      " |      >>> bin(37)\n",
      " |      '0b100101'\n",
      " |      >>> (37).bit_length()\n",
      " |      6\n",
      " |  \n",
      " |  conjugate(...)\n",
      " |      Returns self, the complex conjugate of any int.\n",
      " |  \n",
      " |  to_bytes(self, /, length, byteorder, *, signed=False)\n",
      " |      Return an array of bytes representing an integer.\n",
      " |      \n",
      " |      length\n",
      " |        Length of bytes object to use.  An OverflowError is raised if the\n",
      " |        integer is not representable with the given number of bytes.\n",
      " |      byteorder\n",
      " |        The byte order used to represent the integer.  If byteorder is 'big',\n",
      " |        the most significant byte is at the beginning of the byte array.  If\n",
      " |        byteorder is 'little', the most significant byte is at the end of the\n",
      " |        byte array.  To request the native byte order of the host system, use\n",
      " |        `sys.byteorder' as the byte order value.\n",
      " |      signed\n",
      " |        Determines whether two's complement is used to represent the integer.\n",
      " |        If signed is False and a negative integer is given, an OverflowError\n",
      " |        is raised.\n",
      " |  \n",
      " |  ----------------------------------------------------------------------\n",
      " |  Class methods defined here:\n",
      " |  \n",
      " |  from_bytes(bytes, byteorder, *, signed=False) from builtins.type\n",
      " |      Return the integer represented by the given array of bytes.\n",
      " |      \n",
      " |      bytes\n",
      " |        Holds the array of bytes to convert.  The argument must either\n",
      " |        support the buffer protocol or be an iterable object producing bytes.\n",
      " |        Bytes and bytearray are examples of built-in objects that support the\n",
      " |        buffer protocol.\n",
      " |      byteorder\n",
      " |        The byte order used to represent the integer.  If byteorder is 'big',\n",
      " |        the most significant byte is at the beginning of the byte array.  If\n",
      " |        byteorder is 'little', the most significant byte is at the end of the\n",
      " |        byte array.  To request the native byte order of the host system, use\n",
      " |        `sys.byteorder' as the byte order value.\n",
      " |      signed\n",
      " |        Indicates whether two's complement is used to represent the integer.\n",
      " |  \n",
      " |  ----------------------------------------------------------------------\n",
      " |  Static methods defined here:\n",
      " |  \n",
      " |  __new__(*args, **kwargs) from builtins.type\n",
      " |      Create and return a new object.  See help(type) for accurate signature.\n",
      " |  \n",
      " |  ----------------------------------------------------------------------\n",
      " |  Data descriptors defined here:\n",
      " |  \n",
      " |  denominator\n",
      " |      the denominator of a rational number in lowest terms\n",
      " |  \n",
      " |  imag\n",
      " |      the imaginary part of a complex number\n",
      " |  \n",
      " |  numerator\n",
      " |      the numerator of a rational number in lowest terms\n",
      " |  \n",
      " |  real\n",
      " |      the real part of a complex number\n",
      "\n"
     ]
    }
   ],
   "source": [
    "help(int)"
   ]
  },
  {
   "cell_type": "code",
   "execution_count": 269,
   "id": "934746d1",
   "metadata": {
    "execution": {
     "iopub.execute_input": "2023-11-11T17:27:14.866837Z",
     "iopub.status.busy": "2023-11-11T17:27:14.866224Z",
     "iopub.status.idle": "2023-11-11T17:27:14.871468Z",
     "shell.execute_reply": "2023-11-11T17:27:14.870505Z"
    },
    "papermill": {
     "duration": 0.127484,
     "end_time": "2023-11-11T17:27:14.873812",
     "exception": false,
     "start_time": "2023-11-11T17:27:14.746328",
     "status": "completed"
    },
    "tags": []
   },
   "outputs": [
    {
     "name": "stdout",
     "output_type": "stream",
     "text": [
      "9 10\n"
     ]
    }
   ],
   "source": [
    "a = -9\n",
    "\n",
    "b = 10\n",
    "\n",
    "print(abs(a),abs(b))"
   ]
  },
  {
   "cell_type": "code",
   "execution_count": 270,
   "id": "72ff75ab",
   "metadata": {
    "execution": {
     "iopub.execute_input": "2023-11-11T17:27:15.110398Z",
     "iopub.status.busy": "2023-11-11T17:27:15.109998Z",
     "iopub.status.idle": "2023-11-11T17:27:15.116196Z",
     "shell.execute_reply": "2023-11-11T17:27:15.115221Z"
    },
    "papermill": {
     "duration": 0.126883,
     "end_time": "2023-11-11T17:27:15.118245",
     "exception": false,
     "start_time": "2023-11-11T17:27:14.991362",
     "status": "completed"
    },
    "tags": []
   },
   "outputs": [
    {
     "data": {
      "text/plain": [
       "dict_keys(['beautiful', 'great', 'maths'])"
      ]
     },
     "execution_count": 270,
     "metadata": {},
     "output_type": "execute_result"
    }
   ],
   "source": [
    "dt = {\"beautiful\": \"which is glorious\",\n",
    "     \"great\": \" to do some extraordinary\",\n",
    "     \"maths\": \"study of numericals\"}\n",
    "dt.keys()"
   ]
  },
  {
   "cell_type": "code",
   "execution_count": 271,
   "id": "a58dab23",
   "metadata": {
    "execution": {
     "iopub.execute_input": "2023-11-11T17:27:15.359516Z",
     "iopub.status.busy": "2023-11-11T17:27:15.358580Z",
     "iopub.status.idle": "2023-11-11T17:27:15.364490Z",
     "shell.execute_reply": "2023-11-11T17:27:15.363670Z"
    },
    "papermill": {
     "duration": 0.128584,
     "end_time": "2023-11-11T17:27:15.366433",
     "exception": false,
     "start_time": "2023-11-11T17:27:15.237849",
     "status": "completed"
    },
    "tags": []
   },
   "outputs": [
    {
     "data": {
      "text/plain": [
       "dict_values(['which is glorious', ' to do some extraordinary', 'study of numericals'])"
      ]
     },
     "execution_count": 271,
     "metadata": {},
     "output_type": "execute_result"
    }
   ],
   "source": [
    "dt.values()"
   ]
  },
  {
   "cell_type": "code",
   "execution_count": 272,
   "id": "83a39c42",
   "metadata": {
    "execution": {
     "iopub.execute_input": "2023-11-11T17:27:15.610289Z",
     "iopub.status.busy": "2023-11-11T17:27:15.609922Z",
     "iopub.status.idle": "2023-11-11T17:27:15.616270Z",
     "shell.execute_reply": "2023-11-11T17:27:15.615332Z"
    },
    "papermill": {
     "duration": 0.13289,
     "end_time": "2023-11-11T17:27:15.618482",
     "exception": false,
     "start_time": "2023-11-11T17:27:15.485592",
     "status": "completed"
    },
    "tags": []
   },
   "outputs": [
    {
     "data": {
      "text/plain": [
       "dict_items([('beautiful', 'which is glorious'), ('great', ' to do some extraordinary'), ('maths', 'study of numericals')])"
      ]
     },
     "execution_count": 272,
     "metadata": {},
     "output_type": "execute_result"
    }
   ],
   "source": [
    "dt.items()"
   ]
  },
  {
   "cell_type": "code",
   "execution_count": 273,
   "id": "f3e5199b",
   "metadata": {
    "execution": {
     "iopub.execute_input": "2023-11-11T17:27:15.922436Z",
     "iopub.status.busy": "2023-11-11T17:27:15.922090Z",
     "iopub.status.idle": "2023-11-11T17:27:15.928165Z",
     "shell.execute_reply": "2023-11-11T17:27:15.927327Z"
    },
    "papermill": {
     "duration": 0.178506,
     "end_time": "2023-11-11T17:27:15.929974",
     "exception": false,
     "start_time": "2023-11-11T17:27:15.751468",
     "status": "completed"
    },
    "tags": []
   },
   "outputs": [
    {
     "data": {
      "text/plain": [
       "'study'"
      ]
     },
     "execution_count": 273,
     "metadata": {},
     "output_type": "execute_result"
    }
   ],
   "source": [
    "dt[\"maths\"].split()[0]"
   ]
  },
  {
   "cell_type": "code",
   "execution_count": 274,
   "id": "4d83481e",
   "metadata": {
    "execution": {
     "iopub.execute_input": "2023-11-11T17:27:16.174336Z",
     "iopub.status.busy": "2023-11-11T17:27:16.173987Z",
     "iopub.status.idle": "2023-11-11T17:27:16.180930Z",
     "shell.execute_reply": "2023-11-11T17:27:16.180082Z"
    },
    "papermill": {
     "duration": 0.132249,
     "end_time": "2023-11-11T17:27:16.182917",
     "exception": false,
     "start_time": "2023-11-11T17:27:16.050668",
     "status": "completed"
    },
    "tags": []
   },
   "outputs": [
    {
     "data": {
      "text/plain": [
       "{'a': 'ddddd', 'b': 'eeeee', 'c': 'fffff'}"
      ]
     },
     "execution_count": 274,
     "metadata": {},
     "output_type": "execute_result"
    }
   ],
   "source": [
    "p= [\"a\",\"b\",\"c\"]\n",
    "q = [\"ddddd\",\"eeeee\",\"fffff\"]\n",
    "\n",
    "ans = {  p[i] : q[i]    for i in range(len(p))}\n",
    "ans"
   ]
  },
  {
   "cell_type": "code",
   "execution_count": 275,
   "id": "dd75d904",
   "metadata": {
    "execution": {
     "iopub.execute_input": "2023-11-11T17:27:16.422255Z",
     "iopub.status.busy": "2023-11-11T17:27:16.421783Z",
     "iopub.status.idle": "2023-11-11T17:27:16.427803Z",
     "shell.execute_reply": "2023-11-11T17:27:16.426693Z"
    },
    "papermill": {
     "duration": 0.126861,
     "end_time": "2023-11-11T17:27:16.430063",
     "exception": false,
     "start_time": "2023-11-11T17:27:16.303202",
     "status": "completed"
    },
    "tags": []
   },
   "outputs": [
    {
     "name": "stdout",
     "output_type": "stream",
     "text": [
      "{'brand': 'Ford', 'model': 'Mustang'}\n"
     ]
    }
   ],
   "source": [
    "car = {\n",
    "  \"brand\": \"Ford\",\n",
    "  \"model\": \"Mustang\",\n",
    "  \"year\": 1964\n",
    "}\n",
    "\n",
    "car.popitem()\n",
    "\n",
    "print(car)"
   ]
  },
  {
   "cell_type": "code",
   "execution_count": 276,
   "id": "8cbf1118",
   "metadata": {
    "execution": {
     "iopub.execute_input": "2023-11-11T17:27:16.709506Z",
     "iopub.status.busy": "2023-11-11T17:27:16.709130Z",
     "iopub.status.idle": "2023-11-11T17:27:16.715447Z",
     "shell.execute_reply": "2023-11-11T17:27:16.714580Z"
    },
    "papermill": {
     "duration": 0.145024,
     "end_time": "2023-11-11T17:27:16.717695",
     "exception": false,
     "start_time": "2023-11-11T17:27:16.572671",
     "status": "completed"
    },
    "tags": []
   },
   "outputs": [
    {
     "data": {
      "text/plain": [
       "'prasad'"
      ]
     },
     "execution_count": 276,
     "metadata": {},
     "output_type": "execute_result"
    }
   ],
   "source": [
    "a = [\"suhs\",\"mlv\",\"prasad\"]\n",
    "a.pop()"
   ]
  },
  {
   "cell_type": "code",
   "execution_count": 277,
   "id": "6383f65c",
   "metadata": {
    "execution": {
     "iopub.execute_input": "2023-11-11T17:27:16.965695Z",
     "iopub.status.busy": "2023-11-11T17:27:16.965351Z",
     "iopub.status.idle": "2023-11-11T17:27:16.969710Z",
     "shell.execute_reply": "2023-11-11T17:27:16.968790Z"
    },
    "papermill": {
     "duration": 0.126243,
     "end_time": "2023-11-11T17:27:16.972005",
     "exception": false,
     "start_time": "2023-11-11T17:27:16.845762",
     "status": "completed"
    },
    "tags": []
   },
   "outputs": [],
   "source": [
    "# numpy\n",
    "\n",
    "# numerical python\n"
   ]
  },
  {
   "cell_type": "code",
   "execution_count": 278,
   "id": "911a31d4",
   "metadata": {
    "execution": {
     "iopub.execute_input": "2023-11-11T17:27:17.231202Z",
     "iopub.status.busy": "2023-11-11T17:27:17.230768Z",
     "iopub.status.idle": "2023-11-11T17:27:17.237942Z",
     "shell.execute_reply": "2023-11-11T17:27:17.236902Z"
    },
    "papermill": {
     "duration": 0.131446,
     "end_time": "2023-11-11T17:27:17.240283",
     "exception": false,
     "start_time": "2023-11-11T17:27:17.108837",
     "status": "completed"
    },
    "tags": []
   },
   "outputs": [
    {
     "data": {
      "text/plain": [
       "[10, 20, 30]"
      ]
     },
     "execution_count": 278,
     "metadata": {},
     "output_type": "execute_result"
    }
   ],
   "source": [
    "a = [10,20,30]\n",
    "a"
   ]
  },
  {
   "cell_type": "code",
   "execution_count": 279,
   "id": "701b1c7b",
   "metadata": {
    "execution": {
     "iopub.execute_input": "2023-11-11T17:27:17.481820Z",
     "iopub.status.busy": "2023-11-11T17:27:17.481369Z",
     "iopub.status.idle": "2023-11-11T17:27:17.489577Z",
     "shell.execute_reply": "2023-11-11T17:27:17.488579Z"
    },
    "papermill": {
     "duration": 0.131228,
     "end_time": "2023-11-11T17:27:17.491492",
     "exception": false,
     "start_time": "2023-11-11T17:27:17.360264",
     "status": "completed"
    },
    "tags": []
   },
   "outputs": [
    {
     "data": {
      "text/plain": [
       "array([10, 20, 30])"
      ]
     },
     "execution_count": 279,
     "metadata": {},
     "output_type": "execute_result"
    }
   ],
   "source": [
    "import numpy as np\n",
    "\n",
    "\n",
    "b = np.array([10,20,30])\n",
    "b"
   ]
  },
  {
   "cell_type": "code",
   "execution_count": 280,
   "id": "f04122e6",
   "metadata": {
    "execution": {
     "iopub.execute_input": "2023-11-11T17:27:17.742146Z",
     "iopub.status.busy": "2023-11-11T17:27:17.741810Z",
     "iopub.status.idle": "2023-11-11T17:27:17.748376Z",
     "shell.execute_reply": "2023-11-11T17:27:17.747411Z"
    },
    "papermill": {
     "duration": 0.135358,
     "end_time": "2023-11-11T17:27:17.750575",
     "exception": false,
     "start_time": "2023-11-11T17:27:17.615217",
     "status": "completed"
    },
    "tags": []
   },
   "outputs": [
    {
     "data": {
      "text/plain": [
       "10"
      ]
     },
     "execution_count": 280,
     "metadata": {},
     "output_type": "execute_result"
    }
   ],
   "source": [
    "b[0]"
   ]
  },
  {
   "cell_type": "code",
   "execution_count": 281,
   "id": "2e18e479",
   "metadata": {
    "execution": {
     "iopub.execute_input": "2023-11-11T17:27:17.995004Z",
     "iopub.status.busy": "2023-11-11T17:27:17.994613Z",
     "iopub.status.idle": "2023-11-11T17:27:18.000687Z",
     "shell.execute_reply": "2023-11-11T17:27:17.999757Z"
    },
    "papermill": {
     "duration": 0.127935,
     "end_time": "2023-11-11T17:27:18.002635",
     "exception": false,
     "start_time": "2023-11-11T17:27:17.874700",
     "status": "completed"
    },
    "tags": []
   },
   "outputs": [
    {
     "data": {
      "text/plain": [
       "30"
      ]
     },
     "execution_count": 281,
     "metadata": {},
     "output_type": "execute_result"
    }
   ],
   "source": [
    "b[-1]"
   ]
  },
  {
   "cell_type": "code",
   "execution_count": 282,
   "id": "607581de",
   "metadata": {
    "execution": {
     "iopub.execute_input": "2023-11-11T17:27:18.251326Z",
     "iopub.status.busy": "2023-11-11T17:27:18.250614Z",
     "iopub.status.idle": "2023-11-11T17:27:18.256920Z",
     "shell.execute_reply": "2023-11-11T17:27:18.256066Z"
    },
    "papermill": {
     "duration": 0.133083,
     "end_time": "2023-11-11T17:27:18.259092",
     "exception": false,
     "start_time": "2023-11-11T17:27:18.126009",
     "status": "completed"
    },
    "tags": []
   },
   "outputs": [
    {
     "data": {
      "text/plain": [
       "array([10, 20])"
      ]
     },
     "execution_count": 282,
     "metadata": {},
     "output_type": "execute_result"
    }
   ],
   "source": [
    "b[0:2]"
   ]
  },
  {
   "cell_type": "code",
   "execution_count": 283,
   "id": "d92c8152",
   "metadata": {
    "execution": {
     "iopub.execute_input": "2023-11-11T17:27:18.502615Z",
     "iopub.status.busy": "2023-11-11T17:27:18.502320Z",
     "iopub.status.idle": "2023-11-11T17:27:18.508688Z",
     "shell.execute_reply": "2023-11-11T17:27:18.507708Z"
    },
    "papermill": {
     "duration": 0.130773,
     "end_time": "2023-11-11T17:27:18.511315",
     "exception": false,
     "start_time": "2023-11-11T17:27:18.380542",
     "status": "completed"
    },
    "tags": []
   },
   "outputs": [
    {
     "data": {
      "text/plain": [
       "array([10, 20, 30])"
      ]
     },
     "execution_count": 283,
     "metadata": {},
     "output_type": "execute_result"
    }
   ],
   "source": [
    "c = [10,20,30]\n",
    "\n",
    "d = np.array(c)\n",
    "d"
   ]
  },
  {
   "cell_type": "code",
   "execution_count": 284,
   "id": "53fa40b5",
   "metadata": {
    "execution": {
     "iopub.execute_input": "2023-11-11T17:27:18.766780Z",
     "iopub.status.busy": "2023-11-11T17:27:18.766063Z",
     "iopub.status.idle": "2023-11-11T17:27:18.772634Z",
     "shell.execute_reply": "2023-11-11T17:27:18.771764Z"
    },
    "papermill": {
     "duration": 0.139143,
     "end_time": "2023-11-11T17:27:18.774908",
     "exception": false,
     "start_time": "2023-11-11T17:27:18.635765",
     "status": "completed"
    },
    "tags": []
   },
   "outputs": [
    {
     "data": {
      "text/plain": [
       "array([[0., 0., 0., 0., 0.],\n",
       "       [0., 0., 0., 0., 0.],\n",
       "       [0., 0., 0., 0., 0.],\n",
       "       [0., 0., 0., 0., 0.],\n",
       "       [0., 0., 0., 0., 0.]])"
      ]
     },
     "execution_count": 284,
     "metadata": {},
     "output_type": "execute_result"
    }
   ],
   "source": [
    "e = np.zeros((5,5))  \n",
    "e"
   ]
  },
  {
   "cell_type": "code",
   "execution_count": 285,
   "id": "9508efe7",
   "metadata": {
    "execution": {
     "iopub.execute_input": "2023-11-11T17:27:19.020308Z",
     "iopub.status.busy": "2023-11-11T17:27:19.019282Z",
     "iopub.status.idle": "2023-11-11T17:27:19.026646Z",
     "shell.execute_reply": "2023-11-11T17:27:19.025528Z"
    },
    "papermill": {
     "duration": 0.133423,
     "end_time": "2023-11-11T17:27:19.029035",
     "exception": false,
     "start_time": "2023-11-11T17:27:18.895612",
     "status": "completed"
    },
    "tags": []
   },
   "outputs": [
    {
     "data": {
      "text/plain": [
       "array([[1., 1., 1., 1., 1., 1.],\n",
       "       [1., 1., 1., 1., 1., 1.]])"
      ]
     },
     "execution_count": 285,
     "metadata": {},
     "output_type": "execute_result"
    }
   ],
   "source": [
    "f = np.ones((2,6))\n",
    "f"
   ]
  },
  {
   "cell_type": "code",
   "execution_count": 286,
   "id": "61bc7637",
   "metadata": {
    "execution": {
     "iopub.execute_input": "2023-11-11T17:27:19.284903Z",
     "iopub.status.busy": "2023-11-11T17:27:19.284512Z",
     "iopub.status.idle": "2023-11-11T17:27:19.291601Z",
     "shell.execute_reply": "2023-11-11T17:27:19.290573Z"
    },
    "papermill": {
     "duration": 0.140446,
     "end_time": "2023-11-11T17:27:19.293714",
     "exception": false,
     "start_time": "2023-11-11T17:27:19.153268",
     "status": "completed"
    },
    "tags": []
   },
   "outputs": [
    {
     "data": {
      "text/plain": [
       "array([[22, 22, 22, 22, 22, 22, 22, 22],\n",
       "       [22, 22, 22, 22, 22, 22, 22, 22],\n",
       "       [22, 22, 22, 22, 22, 22, 22, 22],\n",
       "       [22, 22, 22, 22, 22, 22, 22, 22],\n",
       "       [22, 22, 22, 22, 22, 22, 22, 22]])"
      ]
     },
     "execution_count": 286,
     "metadata": {},
     "output_type": "execute_result"
    }
   ],
   "source": [
    "import numpy as np\n",
    "g = np.full((5,8),22)\n",
    "g"
   ]
  },
  {
   "cell_type": "code",
   "execution_count": 287,
   "id": "d6bcc070",
   "metadata": {
    "execution": {
     "iopub.execute_input": "2023-11-11T17:27:19.610942Z",
     "iopub.status.busy": "2023-11-11T17:27:19.610130Z",
     "iopub.status.idle": "2023-11-11T17:27:19.616757Z",
     "shell.execute_reply": "2023-11-11T17:27:19.615821Z"
    },
    "papermill": {
     "duration": 0.185247,
     "end_time": "2023-11-11T17:27:19.618851",
     "exception": false,
     "start_time": "2023-11-11T17:27:19.433604",
     "status": "completed"
    },
    "tags": []
   },
   "outputs": [
    {
     "data": {
      "text/plain": [
       "array([2, 3, 4])"
      ]
     },
     "execution_count": 287,
     "metadata": {},
     "output_type": "execute_result"
    }
   ],
   "source": [
    "# range(5) = [0,1,2,3,4]\n",
    "\n",
    "h = np.arange(2,5)\n",
    "h"
   ]
  },
  {
   "cell_type": "code",
   "execution_count": 288,
   "id": "58162be4",
   "metadata": {
    "execution": {
     "iopub.execute_input": "2023-11-11T17:27:19.872200Z",
     "iopub.status.busy": "2023-11-11T17:27:19.871852Z",
     "iopub.status.idle": "2023-11-11T17:27:19.878922Z",
     "shell.execute_reply": "2023-11-11T17:27:19.877766Z"
    },
    "papermill": {
     "duration": 0.135154,
     "end_time": "2023-11-11T17:27:19.881030",
     "exception": false,
     "start_time": "2023-11-11T17:27:19.745876",
     "status": "completed"
    },
    "tags": []
   },
   "outputs": [
    {
     "data": {
      "text/plain": [
       "array([ 2,  4,  6,  8, 10, 12])"
      ]
     },
     "execution_count": 288,
     "metadata": {},
     "output_type": "execute_result"
    }
   ],
   "source": [
    "i = np.linspace(2,12,6).astype(\"int\")\n",
    "i"
   ]
  },
  {
   "cell_type": "code",
   "execution_count": 289,
   "id": "64830749",
   "metadata": {
    "execution": {
     "iopub.execute_input": "2023-11-11T17:27:20.137428Z",
     "iopub.status.busy": "2023-11-11T17:27:20.136809Z",
     "iopub.status.idle": "2023-11-11T17:27:20.143832Z",
     "shell.execute_reply": "2023-11-11T17:27:20.142954Z"
    },
    "papermill": {
     "duration": 0.13367,
     "end_time": "2023-11-11T17:27:20.145875",
     "exception": false,
     "start_time": "2023-11-11T17:27:20.012205",
     "status": "completed"
    },
    "tags": []
   },
   "outputs": [
    {
     "data": {
      "text/plain": [
       "array([[35.80896534,  6.32831501, 76.38458069, 78.27339604, 22.48125135],\n",
       "       [13.91153469, 85.52761326, 49.42647781, 29.08829396, 18.70996818],\n",
       "       [ 9.59001291, 19.26203591,  6.86796084, 88.90274324, 73.51498131],\n",
       "       [ 0.34591236, 29.41419965, 58.70933399, 40.91191289, 78.03286478],\n",
       "       [80.30429829, 32.90674622, 55.06546485, 90.68687707, 49.96636801]])"
      ]
     },
     "execution_count": 289,
     "metadata": {},
     "output_type": "execute_result"
    }
   ],
   "source": [
    "a = np.random.rand(5,5)* 100 # 0 - 1\n",
    "a"
   ]
  },
  {
   "cell_type": "code",
   "execution_count": 290,
   "id": "eb230699",
   "metadata": {
    "execution": {
     "iopub.execute_input": "2023-11-11T17:27:20.408538Z",
     "iopub.status.busy": "2023-11-11T17:27:20.408198Z",
     "iopub.status.idle": "2023-11-11T17:27:20.417468Z",
     "shell.execute_reply": "2023-11-11T17:27:20.416647Z"
    },
    "papermill": {
     "duration": 0.136282,
     "end_time": "2023-11-11T17:27:20.419458",
     "exception": false,
     "start_time": "2023-11-11T17:27:20.283176",
     "status": "completed"
    },
    "tags": []
   },
   "outputs": [
    {
     "data": {
      "text/plain": [
       "array([[17, 17, 18],\n",
       "       [19, 13, 13]])"
      ]
     },
     "execution_count": 290,
     "metadata": {},
     "output_type": "execute_result"
    }
   ],
   "source": [
    "b = np.random.randint(10,20,(2,3))\n",
    "b"
   ]
  },
  {
   "cell_type": "code",
   "execution_count": 291,
   "id": "db13245d",
   "metadata": {
    "execution": {
     "iopub.execute_input": "2023-11-11T17:27:20.668149Z",
     "iopub.status.busy": "2023-11-11T17:27:20.667798Z",
     "iopub.status.idle": "2023-11-11T17:27:20.673973Z",
     "shell.execute_reply": "2023-11-11T17:27:20.673099Z"
    },
    "papermill": {
     "duration": 0.133835,
     "end_time": "2023-11-11T17:27:20.676162",
     "exception": false,
     "start_time": "2023-11-11T17:27:20.542327",
     "status": "completed"
    },
    "tags": []
   },
   "outputs": [
    {
     "data": {
      "text/plain": [
       "[[1, 2, 3], [4, 5, 6]]"
      ]
     },
     "execution_count": 291,
     "metadata": {},
     "output_type": "execute_result"
    }
   ],
   "source": [
    "a = [[1,2,3],[4,5,6]]\n",
    "a"
   ]
  },
  {
   "cell_type": "code",
   "execution_count": 292,
   "id": "8e37eda7",
   "metadata": {
    "execution": {
     "iopub.execute_input": "2023-11-11T17:27:20.924314Z",
     "iopub.status.busy": "2023-11-11T17:27:20.923957Z",
     "iopub.status.idle": "2023-11-11T17:27:20.930509Z",
     "shell.execute_reply": "2023-11-11T17:27:20.929568Z"
    },
    "papermill": {
     "duration": 0.132631,
     "end_time": "2023-11-11T17:27:20.932904",
     "exception": false,
     "start_time": "2023-11-11T17:27:20.800273",
     "status": "completed"
    },
    "tags": []
   },
   "outputs": [
    {
     "data": {
      "text/plain": [
       "array([[1, 2, 3],\n",
       "       [4, 5, 6]])"
      ]
     },
     "execution_count": 292,
     "metadata": {},
     "output_type": "execute_result"
    }
   ],
   "source": [
    "b = np.array(a)\n",
    "b"
   ]
  },
  {
   "cell_type": "code",
   "execution_count": 293,
   "id": "a48fbd0f",
   "metadata": {
    "execution": {
     "iopub.execute_input": "2023-11-11T17:27:21.207318Z",
     "iopub.status.busy": "2023-11-11T17:27:21.206574Z",
     "iopub.status.idle": "2023-11-11T17:27:21.211406Z",
     "shell.execute_reply": "2023-11-11T17:27:21.210464Z"
    },
    "papermill": {
     "duration": 0.139679,
     "end_time": "2023-11-11T17:27:21.213567",
     "exception": false,
     "start_time": "2023-11-11T17:27:21.073888",
     "status": "completed"
    },
    "tags": []
   },
   "outputs": [],
   "source": [
    "a = np.zeros((10,10))\n",
    "b = a[:5,:]"
   ]
  },
  {
   "cell_type": "code",
   "execution_count": 294,
   "id": "3cd44f88",
   "metadata": {
    "execution": {
     "iopub.execute_input": "2023-11-11T17:27:21.473982Z",
     "iopub.status.busy": "2023-11-11T17:27:21.473618Z",
     "iopub.status.idle": "2023-11-11T17:27:21.479465Z",
     "shell.execute_reply": "2023-11-11T17:27:21.478551Z"
    },
    "papermill": {
     "duration": 0.137042,
     "end_time": "2023-11-11T17:27:21.481628",
     "exception": false,
     "start_time": "2023-11-11T17:27:21.344586",
     "status": "completed"
    },
    "tags": []
   },
   "outputs": [
    {
     "data": {
      "text/plain": [
       "10"
      ]
     },
     "execution_count": 294,
     "metadata": {},
     "output_type": "execute_result"
    }
   ],
   "source": [
    "b.shape[1]"
   ]
  },
  {
   "cell_type": "code",
   "execution_count": 295,
   "id": "d2053282",
   "metadata": {
    "execution": {
     "iopub.execute_input": "2023-11-11T17:27:21.740860Z",
     "iopub.status.busy": "2023-11-11T17:27:21.740025Z",
     "iopub.status.idle": "2023-11-11T17:27:21.747156Z",
     "shell.execute_reply": "2023-11-11T17:27:21.746309Z"
    },
    "papermill": {
     "duration": 0.134005,
     "end_time": "2023-11-11T17:27:21.749229",
     "exception": false,
     "start_time": "2023-11-11T17:27:21.615224",
     "status": "completed"
    },
    "tags": []
   },
   "outputs": [
    {
     "data": {
      "text/plain": [
       "array([[0, 0, 0, 0, 0, 0, 0, 0]])"
      ]
     },
     "execution_count": 295,
     "metadata": {},
     "output_type": "execute_result"
    }
   ],
   "source": [
    "a = [[0,0,0,0],[0,0,0,0]]\n",
    "b = np.array(a)\n",
    "b.reshape((1,8))"
   ]
  },
  {
   "cell_type": "code",
   "execution_count": 296,
   "id": "23370371",
   "metadata": {
    "execution": {
     "iopub.execute_input": "2023-11-11T17:27:21.997932Z",
     "iopub.status.busy": "2023-11-11T17:27:21.997264Z",
     "iopub.status.idle": "2023-11-11T17:27:22.003882Z",
     "shell.execute_reply": "2023-11-11T17:27:22.003086Z"
    },
    "papermill": {
     "duration": 0.133709,
     "end_time": "2023-11-11T17:27:22.005998",
     "exception": false,
     "start_time": "2023-11-11T17:27:21.872289",
     "status": "completed"
    },
    "tags": []
   },
   "outputs": [
    {
     "data": {
      "text/plain": [
       "array([[0],\n",
       "       [0],\n",
       "       [0],\n",
       "       [0]])"
      ]
     },
     "execution_count": 296,
     "metadata": {},
     "output_type": "execute_result"
    }
   ],
   "source": [
    "a = [0,0,0,0]\n",
    "b = np.array(a)\n",
    "b= b[:,np.newaxis]\n",
    "b"
   ]
  },
  {
   "cell_type": "code",
   "execution_count": 297,
   "id": "23ec5289",
   "metadata": {
    "execution": {
     "iopub.execute_input": "2023-11-11T17:27:22.252283Z",
     "iopub.status.busy": "2023-11-11T17:27:22.251590Z",
     "iopub.status.idle": "2023-11-11T17:27:22.257654Z",
     "shell.execute_reply": "2023-11-11T17:27:22.256840Z"
    },
    "papermill": {
     "duration": 0.131169,
     "end_time": "2023-11-11T17:27:22.259741",
     "exception": false,
     "start_time": "2023-11-11T17:27:22.128572",
     "status": "completed"
    },
    "tags": []
   },
   "outputs": [
    {
     "data": {
      "text/plain": [
       "dtype('int64')"
      ]
     },
     "execution_count": 297,
     "metadata": {},
     "output_type": "execute_result"
    }
   ],
   "source": [
    "b.dtype"
   ]
  },
  {
   "cell_type": "code",
   "execution_count": 298,
   "id": "3ab4f406",
   "metadata": {
    "execution": {
     "iopub.execute_input": "2023-11-11T17:27:22.505856Z",
     "iopub.status.busy": "2023-11-11T17:27:22.505503Z",
     "iopub.status.idle": "2023-11-11T17:27:22.512670Z",
     "shell.execute_reply": "2023-11-11T17:27:22.511777Z"
    },
    "papermill": {
     "duration": 0.134711,
     "end_time": "2023-11-11T17:27:22.514975",
     "exception": false,
     "start_time": "2023-11-11T17:27:22.380264",
     "status": "completed"
    },
    "tags": []
   },
   "outputs": [
    {
     "data": {
      "text/plain": [
       "array([0., 1., 0., 0.])"
      ]
     },
     "execution_count": 298,
     "metadata": {},
     "output_type": "execute_result"
    }
   ],
   "source": [
    "a = [0,1,0,0]\n",
    "b = np.array(a,dtype= float)\n",
    "b"
   ]
  },
  {
   "cell_type": "code",
   "execution_count": 299,
   "id": "6ed16c8a",
   "metadata": {
    "execution": {
     "iopub.execute_input": "2023-11-11T17:27:22.777025Z",
     "iopub.status.busy": "2023-11-11T17:27:22.776645Z",
     "iopub.status.idle": "2023-11-11T17:27:22.783215Z",
     "shell.execute_reply": "2023-11-11T17:27:22.782183Z"
    },
    "papermill": {
     "duration": 0.129311,
     "end_time": "2023-11-11T17:27:22.785174",
     "exception": false,
     "start_time": "2023-11-11T17:27:22.655863",
     "status": "completed"
    },
    "tags": []
   },
   "outputs": [
    {
     "data": {
      "text/plain": [
       "[100, 120, 115, 140, 10, 10, 10, 10]"
      ]
     },
     "execution_count": 299,
     "metadata": {},
     "output_type": "execute_result"
    }
   ],
   "source": [
    "a = [100,120,115,140]\n",
    "b = [10,10,10,10]\n",
    "a + b"
   ]
  },
  {
   "cell_type": "code",
   "execution_count": 300,
   "id": "0d1f7e64",
   "metadata": {
    "execution": {
     "iopub.execute_input": "2023-11-11T17:27:23.071832Z",
     "iopub.status.busy": "2023-11-11T17:27:23.071445Z",
     "iopub.status.idle": "2023-11-11T17:27:23.078985Z",
     "shell.execute_reply": "2023-11-11T17:27:23.078030Z"
    },
    "papermill": {
     "duration": 0.176193,
     "end_time": "2023-11-11T17:27:23.081179",
     "exception": false,
     "start_time": "2023-11-11T17:27:22.904986",
     "status": "completed"
    },
    "tags": []
   },
   "outputs": [
    {
     "data": {
      "text/plain": [
       "array([110. , 132. , 126.5, 154. ])"
      ]
     },
     "execution_count": 300,
     "metadata": {},
     "output_type": "execute_result"
    }
   ],
   "source": [
    "a = np.array([100,120,115,140])\n",
    "b = np.array([1.1,1.1,1.1,1.1])\n",
    "a * b"
   ]
  },
  {
   "cell_type": "code",
   "execution_count": 301,
   "id": "c46770ac",
   "metadata": {
    "execution": {
     "iopub.execute_input": "2023-11-11T17:27:23.326661Z",
     "iopub.status.busy": "2023-11-11T17:27:23.326310Z",
     "iopub.status.idle": "2023-11-11T17:27:23.333205Z",
     "shell.execute_reply": "2023-11-11T17:27:23.332354Z"
    },
    "papermill": {
     "duration": 0.132466,
     "end_time": "2023-11-11T17:27:23.335121",
     "exception": false,
     "start_time": "2023-11-11T17:27:23.202655",
     "status": "completed"
    },
    "tags": []
   },
   "outputs": [
    {
     "data": {
      "text/plain": [
       "array([110. , 132. , 126.5, 154. ])"
      ]
     },
     "execution_count": 301,
     "metadata": {},
     "output_type": "execute_result"
    }
   ],
   "source": [
    "a = np.array([100,120,115,140])\n",
    "b = 1.1\n",
    "a * b"
   ]
  },
  {
   "cell_type": "code",
   "execution_count": 302,
   "id": "f6bfb78e",
   "metadata": {
    "execution": {
     "iopub.execute_input": "2023-11-11T17:27:23.580874Z",
     "iopub.status.busy": "2023-11-11T17:27:23.579981Z",
     "iopub.status.idle": "2023-11-11T17:27:23.586807Z",
     "shell.execute_reply": "2023-11-11T17:27:23.585939Z"
    },
    "papermill": {
     "duration": 0.134789,
     "end_time": "2023-11-11T17:27:23.588822",
     "exception": false,
     "start_time": "2023-11-11T17:27:23.454033",
     "status": "completed"
    },
    "tags": []
   },
   "outputs": [
    {
     "data": {
      "text/plain": [
       "475"
      ]
     },
     "execution_count": 302,
     "metadata": {},
     "output_type": "execute_result"
    }
   ],
   "source": [
    "a = np.array([100,120,115,140])\n",
    "\n",
    "np.sum(a)"
   ]
  },
  {
   "cell_type": "code",
   "execution_count": 303,
   "id": "994b7214",
   "metadata": {
    "execution": {
     "iopub.execute_input": "2023-11-11T17:27:23.839925Z",
     "iopub.status.busy": "2023-11-11T17:27:23.839509Z",
     "iopub.status.idle": "2023-11-11T17:27:23.845611Z",
     "shell.execute_reply": "2023-11-11T17:27:23.844777Z"
    },
    "papermill": {
     "duration": 0.134132,
     "end_time": "2023-11-11T17:27:23.847580",
     "exception": false,
     "start_time": "2023-11-11T17:27:23.713448",
     "status": "completed"
    },
    "tags": []
   },
   "outputs": [
    {
     "data": {
      "text/plain": [
       "140"
      ]
     },
     "execution_count": 303,
     "metadata": {},
     "output_type": "execute_result"
    }
   ],
   "source": [
    "np.max(a)"
   ]
  },
  {
   "cell_type": "code",
   "execution_count": 304,
   "id": "e05ccf82",
   "metadata": {
    "execution": {
     "iopub.execute_input": "2023-11-11T17:27:24.089082Z",
     "iopub.status.busy": "2023-11-11T17:27:24.088703Z",
     "iopub.status.idle": "2023-11-11T17:27:24.095055Z",
     "shell.execute_reply": "2023-11-11T17:27:24.094165Z"
    },
    "papermill": {
     "duration": 0.130089,
     "end_time": "2023-11-11T17:27:24.097007",
     "exception": false,
     "start_time": "2023-11-11T17:27:23.966918",
     "status": "completed"
    },
    "tags": []
   },
   "outputs": [
    {
     "data": {
      "text/plain": [
       "100"
      ]
     },
     "execution_count": 304,
     "metadata": {},
     "output_type": "execute_result"
    }
   ],
   "source": [
    "np.min(a)"
   ]
  },
  {
   "cell_type": "code",
   "execution_count": 305,
   "id": "7bbd015d",
   "metadata": {
    "execution": {
     "iopub.execute_input": "2023-11-11T17:27:24.337072Z",
     "iopub.status.busy": "2023-11-11T17:27:24.336459Z",
     "iopub.status.idle": "2023-11-11T17:27:24.342586Z",
     "shell.execute_reply": "2023-11-11T17:27:24.341741Z"
    },
    "papermill": {
     "duration": 0.128878,
     "end_time": "2023-11-11T17:27:24.344770",
     "exception": false,
     "start_time": "2023-11-11T17:27:24.215892",
     "status": "completed"
    },
    "tags": []
   },
   "outputs": [
    {
     "data": {
      "text/plain": [
       "204.6875"
      ]
     },
     "execution_count": 305,
     "metadata": {},
     "output_type": "execute_result"
    }
   ],
   "source": [
    "np.var(a)"
   ]
  },
  {
   "cell_type": "code",
   "execution_count": 306,
   "id": "bf2d781c",
   "metadata": {
    "execution": {
     "iopub.execute_input": "2023-11-11T17:27:24.602277Z",
     "iopub.status.busy": "2023-11-11T17:27:24.601892Z",
     "iopub.status.idle": "2023-11-11T17:27:24.608779Z",
     "shell.execute_reply": "2023-11-11T17:27:24.607781Z"
    },
    "papermill": {
     "duration": 0.139713,
     "end_time": "2023-11-11T17:27:24.611205",
     "exception": false,
     "start_time": "2023-11-11T17:27:24.471492",
     "status": "completed"
    },
    "tags": []
   },
   "outputs": [
    {
     "data": {
      "text/plain": [
       "14.306903927824496"
      ]
     },
     "execution_count": 306,
     "metadata": {},
     "output_type": "execute_result"
    }
   ],
   "source": [
    "np.std(a)"
   ]
  },
  {
   "cell_type": "code",
   "execution_count": 307,
   "id": "067e52d6",
   "metadata": {
    "execution": {
     "iopub.execute_input": "2023-11-11T17:27:24.868883Z",
     "iopub.status.busy": "2023-11-11T17:27:24.868181Z",
     "iopub.status.idle": "2023-11-11T17:27:24.874490Z",
     "shell.execute_reply": "2023-11-11T17:27:24.873532Z"
    },
    "papermill": {
     "duration": 0.132428,
     "end_time": "2023-11-11T17:27:24.876417",
     "exception": false,
     "start_time": "2023-11-11T17:27:24.743989",
     "status": "completed"
    },
    "tags": []
   },
   "outputs": [
    {
     "data": {
      "text/plain": [
       "array([10.        , 10.95445115, 10.72380529, 11.83215957])"
      ]
     },
     "execution_count": 307,
     "metadata": {},
     "output_type": "execute_result"
    }
   ],
   "source": [
    "np.sqrt(a)"
   ]
  },
  {
   "cell_type": "code",
   "execution_count": 308,
   "id": "c2023850",
   "metadata": {
    "execution": {
     "iopub.execute_input": "2023-11-11T17:27:25.121274Z",
     "iopub.status.busy": "2023-11-11T17:27:25.120957Z",
     "iopub.status.idle": "2023-11-11T17:27:25.127668Z",
     "shell.execute_reply": "2023-11-11T17:27:25.126766Z"
    },
    "papermill": {
     "duration": 0.132169,
     "end_time": "2023-11-11T17:27:25.129654",
     "exception": false,
     "start_time": "2023-11-11T17:27:24.997485",
     "status": "completed"
    },
    "tags": []
   },
   "outputs": [
    {
     "data": {
      "text/plain": [
       "array([ 0.86231887,  0.81418097, -0.32580981, -0.19781357])"
      ]
     },
     "execution_count": 308,
     "metadata": {},
     "output_type": "execute_result"
    }
   ],
   "source": [
    "np.cos(a)"
   ]
  },
  {
   "cell_type": "code",
   "execution_count": 309,
   "id": "f69ad6a0",
   "metadata": {
    "execution": {
     "iopub.execute_input": "2023-11-11T17:27:25.382287Z",
     "iopub.status.busy": "2023-11-11T17:27:25.381969Z",
     "iopub.status.idle": "2023-11-11T17:27:25.388312Z",
     "shell.execute_reply": "2023-11-11T17:27:25.387415Z"
    },
    "papermill": {
     "duration": 0.136206,
     "end_time": "2023-11-11T17:27:25.390530",
     "exception": false,
     "start_time": "2023-11-11T17:27:25.254324",
     "status": "completed"
    },
    "tags": []
   },
   "outputs": [
    {
     "data": {
      "text/plain": [
       "array([2.68811714e+43, 1.30418088e+52, 8.78750164e+49, 6.32743171e+60])"
      ]
     },
     "execution_count": 309,
     "metadata": {},
     "output_type": "execute_result"
    }
   ],
   "source": [
    "np.exp(a)"
   ]
  },
  {
   "cell_type": "code",
   "execution_count": 310,
   "id": "7a257f4f",
   "metadata": {
    "execution": {
     "iopub.execute_input": "2023-11-11T17:27:25.640370Z",
     "iopub.status.busy": "2023-11-11T17:27:25.640048Z",
     "iopub.status.idle": "2023-11-11T17:27:25.646478Z",
     "shell.execute_reply": "2023-11-11T17:27:25.645639Z"
    },
    "papermill": {
     "duration": 0.133884,
     "end_time": "2023-11-11T17:27:25.648669",
     "exception": false,
     "start_time": "2023-11-11T17:27:25.514785",
     "status": "completed"
    },
    "tags": []
   },
   "outputs": [
    {
     "data": {
      "text/plain": [
       "118.75"
      ]
     },
     "execution_count": 310,
     "metadata": {},
     "output_type": "execute_result"
    }
   ],
   "source": [
    "np.mean(a)"
   ]
  },
  {
   "cell_type": "code",
   "execution_count": 311,
   "id": "954fb838",
   "metadata": {
    "execution": {
     "iopub.execute_input": "2023-11-11T17:27:25.897413Z",
     "iopub.status.busy": "2023-11-11T17:27:25.897085Z",
     "iopub.status.idle": "2023-11-11T17:27:25.906811Z",
     "shell.execute_reply": "2023-11-11T17:27:25.905761Z"
    },
    "papermill": {
     "duration": 0.136353,
     "end_time": "2023-11-11T17:27:25.908952",
     "exception": false,
     "start_time": "2023-11-11T17:27:25.772599",
     "status": "completed"
    },
    "tags": []
   },
   "outputs": [
    {
     "data": {
      "text/plain": [
       "117.5"
      ]
     },
     "execution_count": 311,
     "metadata": {},
     "output_type": "execute_result"
    }
   ],
   "source": [
    "np.median(a)"
   ]
  },
  {
   "cell_type": "code",
   "execution_count": 312,
   "id": "3bf66802",
   "metadata": {
    "execution": {
     "iopub.execute_input": "2023-11-11T17:27:26.162574Z",
     "iopub.status.busy": "2023-11-11T17:27:26.162226Z",
     "iopub.status.idle": "2023-11-11T17:27:26.168744Z",
     "shell.execute_reply": "2023-11-11T17:27:26.167771Z"
    },
    "papermill": {
     "duration": 0.135115,
     "end_time": "2023-11-11T17:27:26.170714",
     "exception": false,
     "start_time": "2023-11-11T17:27:26.035599",
     "status": "completed"
    },
    "tags": []
   },
   "outputs": [
    {
     "data": {
      "text/plain": [
       "array([100, 115, 120, 140])"
      ]
     },
     "execution_count": 312,
     "metadata": {},
     "output_type": "execute_result"
    }
   ],
   "source": [
    "np.sort(a)"
   ]
  },
  {
   "cell_type": "code",
   "execution_count": 313,
   "id": "dbcaa321",
   "metadata": {
    "execution": {
     "iopub.execute_input": "2023-11-11T17:27:26.476003Z",
     "iopub.status.busy": "2023-11-11T17:27:26.475144Z",
     "iopub.status.idle": "2023-11-11T17:27:26.479582Z",
     "shell.execute_reply": "2023-11-11T17:27:26.478619Z"
    },
    "papermill": {
     "duration": 0.180317,
     "end_time": "2023-11-11T17:27:26.481596",
     "exception": false,
     "start_time": "2023-11-11T17:27:26.301279",
     "status": "completed"
    },
    "tags": []
   },
   "outputs": [],
   "source": [
    "# np.sort(a,reverse = True)"
   ]
  },
  {
   "cell_type": "code",
   "execution_count": 314,
   "id": "8012b766",
   "metadata": {
    "execution": {
     "iopub.execute_input": "2023-11-11T17:27:26.739558Z",
     "iopub.status.busy": "2023-11-11T17:27:26.738930Z",
     "iopub.status.idle": "2023-11-11T17:27:26.743234Z",
     "shell.execute_reply": "2023-11-11T17:27:26.742255Z"
    },
    "papermill": {
     "duration": 0.134357,
     "end_time": "2023-11-11T17:27:26.745748",
     "exception": false,
     "start_time": "2023-11-11T17:27:26.611391",
     "status": "completed"
    },
    "tags": []
   },
   "outputs": [],
   "source": [
    "# help(np.sort(a))"
   ]
  },
  {
   "cell_type": "code",
   "execution_count": 315,
   "id": "29125c73",
   "metadata": {
    "execution": {
     "iopub.execute_input": "2023-11-11T17:27:26.998049Z",
     "iopub.status.busy": "2023-11-11T17:27:26.997672Z",
     "iopub.status.idle": "2023-11-11T17:27:27.003964Z",
     "shell.execute_reply": "2023-11-11T17:27:27.003114Z"
    },
    "papermill": {
     "duration": 0.136903,
     "end_time": "2023-11-11T17:27:27.005962",
     "exception": false,
     "start_time": "2023-11-11T17:27:26.869059",
     "status": "completed"
    },
    "tags": []
   },
   "outputs": [
    {
     "data": {
      "text/plain": [
       "array([140, 120, 115, 100])"
      ]
     },
     "execution_count": 315,
     "metadata": {},
     "output_type": "execute_result"
    }
   ],
   "source": [
    "np.sort(a)[::-1]"
   ]
  },
  {
   "cell_type": "code",
   "execution_count": 316,
   "id": "5ac6561c",
   "metadata": {
    "execution": {
     "iopub.execute_input": "2023-11-11T17:27:27.251656Z",
     "iopub.status.busy": "2023-11-11T17:27:27.250779Z",
     "iopub.status.idle": "2023-11-11T17:27:27.257338Z",
     "shell.execute_reply": "2023-11-11T17:27:27.256447Z"
    },
    "papermill": {
     "duration": 0.131631,
     "end_time": "2023-11-11T17:27:27.259449",
     "exception": false,
     "start_time": "2023-11-11T17:27:27.127818",
     "status": "completed"
    },
    "tags": []
   },
   "outputs": [
    {
     "data": {
      "text/plain": [
       "[20, 15, 10]"
      ]
     },
     "execution_count": 316,
     "metadata": {},
     "output_type": "execute_result"
    }
   ],
   "source": [
    "a = [10,20,15]\n",
    "sorted(a,reverse = True)\n"
   ]
  },
  {
   "cell_type": "code",
   "execution_count": 317,
   "id": "f67f8b2c",
   "metadata": {
    "execution": {
     "iopub.execute_input": "2023-11-11T17:27:27.507950Z",
     "iopub.status.busy": "2023-11-11T17:27:27.507307Z",
     "iopub.status.idle": "2023-11-11T17:27:27.512270Z",
     "shell.execute_reply": "2023-11-11T17:27:27.511339Z"
    },
    "papermill": {
     "duration": 0.131406,
     "end_time": "2023-11-11T17:27:27.514833",
     "exception": false,
     "start_time": "2023-11-11T17:27:27.383427",
     "status": "completed"
    },
    "tags": []
   },
   "outputs": [
    {
     "name": "stdout",
     "output_type": "stream",
     "text": [
      "None\n"
     ]
    }
   ],
   "source": [
    "a = [10,20,30,15]\n",
    "print(a.sort())\n"
   ]
  },
  {
   "cell_type": "code",
   "execution_count": 318,
   "id": "57486026",
   "metadata": {
    "execution": {
     "iopub.execute_input": "2023-11-11T17:27:27.778780Z",
     "iopub.status.busy": "2023-11-11T17:27:27.778012Z",
     "iopub.status.idle": "2023-11-11T17:27:27.784000Z",
     "shell.execute_reply": "2023-11-11T17:27:27.783092Z"
    },
    "papermill": {
     "duration": 0.13755,
     "end_time": "2023-11-11T17:27:27.786045",
     "exception": false,
     "start_time": "2023-11-11T17:27:27.648495",
     "status": "completed"
    },
    "tags": []
   },
   "outputs": [
    {
     "data": {
      "text/plain": [
       "[10, 15, 20, 30]"
      ]
     },
     "execution_count": 318,
     "metadata": {},
     "output_type": "execute_result"
    }
   ],
   "source": [
    "sorted(a)"
   ]
  },
  {
   "cell_type": "code",
   "execution_count": 319,
   "id": "3f6d8610",
   "metadata": {
    "execution": {
     "iopub.execute_input": "2023-11-11T17:27:28.054509Z",
     "iopub.status.busy": "2023-11-11T17:27:28.053792Z",
     "iopub.status.idle": "2023-11-11T17:27:28.060646Z",
     "shell.execute_reply": "2023-11-11T17:27:28.059550Z"
    },
    "papermill": {
     "duration": 0.148019,
     "end_time": "2023-11-11T17:27:28.063292",
     "exception": false,
     "start_time": "2023-11-11T17:27:27.915273",
     "status": "completed"
    },
    "tags": []
   },
   "outputs": [
    {
     "data": {
      "text/plain": [
       "[9, 10]"
      ]
     },
     "execution_count": 319,
     "metadata": {},
     "output_type": "execute_result"
    }
   ],
   "source": [
    "b = [10,9]\n",
    "b.sort()\n",
    "b"
   ]
  },
  {
   "cell_type": "code",
   "execution_count": 320,
   "id": "716bf066",
   "metadata": {
    "execution": {
     "iopub.execute_input": "2023-11-11T17:27:28.343379Z",
     "iopub.status.busy": "2023-11-11T17:27:28.343023Z",
     "iopub.status.idle": "2023-11-11T17:27:28.347506Z",
     "shell.execute_reply": "2023-11-11T17:27:28.346504Z"
    },
    "papermill": {
     "duration": 0.147353,
     "end_time": "2023-11-11T17:27:28.349827",
     "exception": false,
     "start_time": "2023-11-11T17:27:28.202474",
     "status": "completed"
    },
    "tags": []
   },
   "outputs": [],
   "source": [
    "# sort  inplace\n",
    "# soerted new list\n",
    "\n",
    "\n",
    "# np.sort()  new list "
   ]
  },
  {
   "cell_type": "code",
   "execution_count": 321,
   "id": "b7db2f4f",
   "metadata": {
    "execution": {
     "iopub.execute_input": "2023-11-11T17:27:28.634345Z",
     "iopub.status.busy": "2023-11-11T17:27:28.633971Z",
     "iopub.status.idle": "2023-11-11T17:27:28.641696Z",
     "shell.execute_reply": "2023-11-11T17:27:28.640743Z"
    },
    "papermill": {
     "duration": 0.152249,
     "end_time": "2023-11-11T17:27:28.643920",
     "exception": false,
     "start_time": "2023-11-11T17:27:28.491671",
     "status": "completed"
    },
    "tags": []
   },
   "outputs": [
    {
     "data": {
      "text/plain": [
       "(array([0, 1, 4]),)"
      ]
     },
     "execution_count": 321,
     "metadata": {},
     "output_type": "execute_result"
    }
   ],
   "source": [
    "import numpy as np\n",
    "\n",
    "a = np.array([90,85,60,79,90])\n",
    "\n",
    "\n",
    "np.where ( a > 80)\n"
   ]
  },
  {
   "cell_type": "code",
   "execution_count": 322,
   "id": "5c246c2c",
   "metadata": {
    "execution": {
     "iopub.execute_input": "2023-11-11T17:27:28.925270Z",
     "iopub.status.busy": "2023-11-11T17:27:28.924516Z",
     "iopub.status.idle": "2023-11-11T17:27:28.932017Z",
     "shell.execute_reply": "2023-11-11T17:27:28.930993Z"
    },
    "papermill": {
     "duration": 0.15022,
     "end_time": "2023-11-11T17:27:28.934126",
     "exception": false,
     "start_time": "2023-11-11T17:27:28.783906",
     "status": "completed"
    },
    "tags": []
   },
   "outputs": [
    {
     "data": {
      "text/plain": [
       "array([[0.52191572, 0.69940637, 0.26986897],\n",
       "       [0.67448187, 0.90807208, 0.6851502 ]])"
      ]
     },
     "execution_count": 322,
     "metadata": {},
     "output_type": "execute_result"
    }
   ],
   "source": [
    "#seed\n",
    "np.random.seed(80)\n",
    "a = np.random.rand(2,3)\n",
    "a"
   ]
  },
  {
   "cell_type": "code",
   "execution_count": 323,
   "id": "b0cd2b28",
   "metadata": {
    "execution": {
     "iopub.execute_input": "2023-11-11T17:27:29.216097Z",
     "iopub.status.busy": "2023-11-11T17:27:29.215375Z",
     "iopub.status.idle": "2023-11-11T17:27:29.223129Z",
     "shell.execute_reply": "2023-11-11T17:27:29.222111Z"
    },
    "papermill": {
     "duration": 0.151607,
     "end_time": "2023-11-11T17:27:29.226270",
     "exception": false,
     "start_time": "2023-11-11T17:27:29.074663",
     "status": "completed"
    },
    "tags": []
   },
   "outputs": [
    {
     "data": {
      "text/plain": [
       "array([[0.21165334, 0.31726607, 0.2672994 ],\n",
       "       [0.12050632, 0.9968569 , 0.08043969]])"
      ]
     },
     "execution_count": 323,
     "metadata": {},
     "output_type": "execute_result"
    }
   ],
   "source": [
    "a = np.random.rand(2,3)\n",
    "a"
   ]
  },
  {
   "cell_type": "code",
   "execution_count": 324,
   "id": "2da7969d",
   "metadata": {
    "execution": {
     "iopub.execute_input": "2023-11-11T17:27:29.526568Z",
     "iopub.status.busy": "2023-11-11T17:27:29.525852Z",
     "iopub.status.idle": "2023-11-11T17:27:29.532927Z",
     "shell.execute_reply": "2023-11-11T17:27:29.531999Z"
    },
    "papermill": {
     "duration": 0.15537,
     "end_time": "2023-11-11T17:27:29.535206",
     "exception": false,
     "start_time": "2023-11-11T17:27:29.379836",
     "status": "completed"
    },
    "tags": []
   },
   "outputs": [
    {
     "data": {
      "text/plain": [
       "array([[0.52191572, 0.69940637, 0.26986897],\n",
       "       [0.67448187, 0.90807208, 0.6851502 ]])"
      ]
     },
     "execution_count": 324,
     "metadata": {},
     "output_type": "execute_result"
    }
   ],
   "source": [
    "np.random.seed(80)\n",
    "a = np.random.rand(2,3)\n",
    "a"
   ]
  },
  {
   "cell_type": "code",
   "execution_count": 325,
   "id": "433736bc",
   "metadata": {
    "execution": {
     "iopub.execute_input": "2023-11-11T17:27:29.828296Z",
     "iopub.status.busy": "2023-11-11T17:27:29.827581Z",
     "iopub.status.idle": "2023-11-11T17:27:29.835028Z",
     "shell.execute_reply": "2023-11-11T17:27:29.833998Z"
    },
    "papermill": {
     "duration": 0.15001,
     "end_time": "2023-11-11T17:27:29.837392",
     "exception": false,
     "start_time": "2023-11-11T17:27:29.687382",
     "status": "completed"
    },
    "tags": []
   },
   "outputs": [
    {
     "data": {
      "text/plain": [
       "array([20., 28., 36., 44., 52., 60.])"
      ]
     },
     "execution_count": 325,
     "metadata": {},
     "output_type": "execute_result"
    }
   ],
   "source": [
    "np.linspace(20,60,6)"
   ]
  },
  {
   "cell_type": "code",
   "execution_count": 326,
   "id": "bbcd12bb",
   "metadata": {
    "execution": {
     "iopub.execute_input": "2023-11-11T17:27:30.110347Z",
     "iopub.status.busy": "2023-11-11T17:27:30.109523Z",
     "iopub.status.idle": "2023-11-11T17:27:30.116533Z",
     "shell.execute_reply": "2023-11-11T17:27:30.115624Z"
    },
    "papermill": {
     "duration": 0.1464,
     "end_time": "2023-11-11T17:27:30.118786",
     "exception": false,
     "start_time": "2023-11-11T17:27:29.972386",
     "status": "completed"
    },
    "tags": []
   },
   "outputs": [
    {
     "data": {
      "text/plain": [
       "array([[1., 1., 1.],\n",
       "       [1., 1., 1.],\n",
       "       [1., 1., 1.]])"
      ]
     },
     "execution_count": 326,
     "metadata": {},
     "output_type": "execute_result"
    }
   ],
   "source": [
    "a = np.ones((3,3))\n",
    "a"
   ]
  },
  {
   "cell_type": "code",
   "execution_count": 327,
   "id": "e1038c51",
   "metadata": {
    "execution": {
     "iopub.execute_input": "2023-11-11T17:27:30.386622Z",
     "iopub.status.busy": "2023-11-11T17:27:30.386289Z",
     "iopub.status.idle": "2023-11-11T17:27:30.392657Z",
     "shell.execute_reply": "2023-11-11T17:27:30.391874Z"
    },
    "papermill": {
     "duration": 0.142041,
     "end_time": "2023-11-11T17:27:30.394587",
     "exception": false,
     "start_time": "2023-11-11T17:27:30.252546",
     "status": "completed"
    },
    "tags": []
   },
   "outputs": [
    {
     "data": {
      "text/plain": [
       "array([[0., 0., 0.],\n",
       "       [0., 0., 0.],\n",
       "       [0., 0., 0.]])"
      ]
     },
     "execution_count": 327,
     "metadata": {},
     "output_type": "execute_result"
    }
   ],
   "source": [
    "b = np.zeros((3,3))\n",
    "b"
   ]
  },
  {
   "cell_type": "code",
   "execution_count": 328,
   "id": "15fc714f",
   "metadata": {
    "execution": {
     "iopub.execute_input": "2023-11-11T17:27:30.658623Z",
     "iopub.status.busy": "2023-11-11T17:27:30.657985Z",
     "iopub.status.idle": "2023-11-11T17:27:30.664533Z",
     "shell.execute_reply": "2023-11-11T17:27:30.663754Z"
    },
    "papermill": {
     "duration": 0.142927,
     "end_time": "2023-11-11T17:27:30.666550",
     "exception": false,
     "start_time": "2023-11-11T17:27:30.523623",
     "status": "completed"
    },
    "tags": []
   },
   "outputs": [
    {
     "data": {
      "text/plain": [
       "array([[1., 1., 1.],\n",
       "       [1., 1., 1.],\n",
       "       [1., 1., 1.],\n",
       "       [0., 0., 0.],\n",
       "       [0., 0., 0.],\n",
       "       [0., 0., 0.]])"
      ]
     },
     "execution_count": 328,
     "metadata": {},
     "output_type": "execute_result"
    }
   ],
   "source": [
    "c  = np.vstack((a,b))\n",
    "c"
   ]
  },
  {
   "cell_type": "code",
   "execution_count": 329,
   "id": "2d5dec30",
   "metadata": {
    "execution": {
     "iopub.execute_input": "2023-11-11T17:27:30.919447Z",
     "iopub.status.busy": "2023-11-11T17:27:30.918788Z",
     "iopub.status.idle": "2023-11-11T17:27:30.922944Z",
     "shell.execute_reply": "2023-11-11T17:27:30.921999Z"
    },
    "papermill": {
     "duration": 0.132036,
     "end_time": "2023-11-11T17:27:30.925065",
     "exception": false,
     "start_time": "2023-11-11T17:27:30.793029",
     "status": "completed"
    },
    "tags": []
   },
   "outputs": [],
   "source": [
    "# d  = np.hstack((a,b))\n",
    "# e = np."
   ]
  },
  {
   "cell_type": "code",
   "execution_count": 330,
   "id": "06b52f01",
   "metadata": {
    "execution": {
     "iopub.execute_input": "2023-11-11T17:27:31.188541Z",
     "iopub.status.busy": "2023-11-11T17:27:31.187867Z",
     "iopub.status.idle": "2023-11-11T17:27:31.194079Z",
     "shell.execute_reply": "2023-11-11T17:27:31.193243Z"
    },
    "papermill": {
     "duration": 0.138503,
     "end_time": "2023-11-11T17:27:31.196066",
     "exception": false,
     "start_time": "2023-11-11T17:27:31.057563",
     "status": "completed"
    },
    "tags": []
   },
   "outputs": [
    {
     "data": {
      "text/plain": [
       "array([[0., 0., 0.],\n",
       "       [0., 0., 0.],\n",
       "       [0., 0., 0.]])"
      ]
     },
     "execution_count": 330,
     "metadata": {},
     "output_type": "execute_result"
    }
   ],
   "source": [
    "b = np.zeros((3,3))\n",
    "b"
   ]
  },
  {
   "cell_type": "code",
   "execution_count": 331,
   "id": "240204e5",
   "metadata": {
    "execution": {
     "iopub.execute_input": "2023-11-11T17:27:31.445474Z",
     "iopub.status.busy": "2023-11-11T17:27:31.444850Z",
     "iopub.status.idle": "2023-11-11T17:27:31.448642Z",
     "shell.execute_reply": "2023-11-11T17:27:31.447801Z"
    },
    "papermill": {
     "duration": 0.129721,
     "end_time": "2023-11-11T17:27:31.450663",
     "exception": false,
     "start_time": "2023-11-11T17:27:31.320942",
     "status": "completed"
    },
    "tags": []
   },
   "outputs": [],
   "source": [
    "# np.genfromtxt(\"a.csv\")"
   ]
  },
  {
   "cell_type": "code",
   "execution_count": 332,
   "id": "8429f33c",
   "metadata": {
    "execution": {
     "iopub.execute_input": "2023-11-11T17:27:31.713529Z",
     "iopub.status.busy": "2023-11-11T17:27:31.713226Z",
     "iopub.status.idle": "2023-11-11T17:27:31.717638Z",
     "shell.execute_reply": "2023-11-11T17:27:31.716908Z"
    },
    "papermill": {
     "duration": 0.137467,
     "end_time": "2023-11-11T17:27:31.719763",
     "exception": false,
     "start_time": "2023-11-11T17:27:31.582296",
     "status": "completed"
    },
    "tags": []
   },
   "outputs": [],
   "source": [
    "np.save(\"parth.npy\",b)"
   ]
  },
  {
   "cell_type": "code",
   "execution_count": 333,
   "id": "8c91e724",
   "metadata": {
    "execution": {
     "iopub.execute_input": "2023-11-11T17:27:31.968619Z",
     "iopub.status.busy": "2023-11-11T17:27:31.967991Z",
     "iopub.status.idle": "2023-11-11T17:27:31.974627Z",
     "shell.execute_reply": "2023-11-11T17:27:31.973697Z"
    },
    "papermill": {
     "duration": 0.132794,
     "end_time": "2023-11-11T17:27:31.976545",
     "exception": false,
     "start_time": "2023-11-11T17:27:31.843751",
     "status": "completed"
    },
    "tags": []
   },
   "outputs": [
    {
     "data": {
      "text/plain": [
       "array([[0., 0., 0.],\n",
       "       [0., 0., 0.],\n",
       "       [0., 0., 0.]])"
      ]
     },
     "execution_count": 333,
     "metadata": {},
     "output_type": "execute_result"
    }
   ],
   "source": [
    "np.load(\"parth.npy\")"
   ]
  },
  {
   "cell_type": "code",
   "execution_count": 334,
   "id": "2a9b9884",
   "metadata": {
    "execution": {
     "iopub.execute_input": "2023-11-11T17:27:32.226666Z",
     "iopub.status.busy": "2023-11-11T17:27:32.226137Z",
     "iopub.status.idle": "2023-11-11T17:27:32.232543Z",
     "shell.execute_reply": "2023-11-11T17:27:32.231761Z"
    },
    "papermill": {
     "duration": 0.132236,
     "end_time": "2023-11-11T17:27:32.234625",
     "exception": false,
     "start_time": "2023-11-11T17:27:32.102389",
     "status": "completed"
    },
    "tags": []
   },
   "outputs": [
    {
     "data": {
      "text/plain": [
       "array([[1., 1., 1., ..., 1., 1., 1.],\n",
       "       [1., 1., 1., ..., 1., 1., 1.],\n",
       "       [1., 1., 1., ..., 1., 1., 1.],\n",
       "       ...,\n",
       "       [1., 1., 1., ..., 1., 1., 1.],\n",
       "       [1., 1., 1., ..., 1., 1., 1.],\n",
       "       [1., 1., 1., ..., 1., 1., 1.]])"
      ]
     },
     "execution_count": 334,
     "metadata": {},
     "output_type": "execute_result"
    }
   ],
   "source": [
    "a = np.ones((8,240))\n",
    "a"
   ]
  },
  {
   "cell_type": "code",
   "execution_count": 335,
   "id": "5599b679",
   "metadata": {
    "execution": {
     "iopub.execute_input": "2023-11-11T17:27:32.495981Z",
     "iopub.status.busy": "2023-11-11T17:27:32.495346Z",
     "iopub.status.idle": "2023-11-11T17:27:32.501687Z",
     "shell.execute_reply": "2023-11-11T17:27:32.500940Z"
    },
    "papermill": {
     "duration": 0.134593,
     "end_time": "2023-11-11T17:27:32.503647",
     "exception": false,
     "start_time": "2023-11-11T17:27:32.369054",
     "status": "completed"
    },
    "tags": []
   },
   "outputs": [
    {
     "data": {
      "text/plain": [
       "array([[1., 1., 1., ..., 1., 1., 1.]])"
      ]
     },
     "execution_count": 335,
     "metadata": {},
     "output_type": "execute_result"
    }
   ],
   "source": [
    "a.reshape(1,-1)\n"
   ]
  },
  {
   "cell_type": "code",
   "execution_count": 336,
   "id": "5cd96c4a",
   "metadata": {
    "execution": {
     "iopub.execute_input": "2023-11-11T17:27:32.755530Z",
     "iopub.status.busy": "2023-11-11T17:27:32.754841Z",
     "iopub.status.idle": "2023-11-11T17:27:32.761529Z",
     "shell.execute_reply": "2023-11-11T17:27:32.760580Z"
    },
    "papermill": {
     "duration": 0.132258,
     "end_time": "2023-11-11T17:27:32.763572",
     "exception": false,
     "start_time": "2023-11-11T17:27:32.631314",
     "status": "completed"
    },
    "tags": []
   },
   "outputs": [
    {
     "data": {
      "text/plain": [
       "array([1., 1., 1., ..., 1., 1., 1.])"
      ]
     },
     "execution_count": 336,
     "metadata": {},
     "output_type": "execute_result"
    }
   ],
   "source": [
    "a.flatten()"
   ]
  },
  {
   "cell_type": "code",
   "execution_count": 337,
   "id": "8226314d",
   "metadata": {
    "execution": {
     "iopub.execute_input": "2023-11-11T17:27:33.020262Z",
     "iopub.status.busy": "2023-11-11T17:27:33.019567Z",
     "iopub.status.idle": "2023-11-11T17:27:33.023892Z",
     "shell.execute_reply": "2023-11-11T17:27:33.023070Z"
    },
    "papermill": {
     "duration": 0.133223,
     "end_time": "2023-11-11T17:27:33.025994",
     "exception": false,
     "start_time": "2023-11-11T17:27:32.892771",
     "status": "completed"
    },
    "tags": []
   },
   "outputs": [],
   "source": [
    "a = np.zeros((4,4))"
   ]
  },
  {
   "cell_type": "code",
   "execution_count": 338,
   "id": "71b80249",
   "metadata": {
    "execution": {
     "iopub.execute_input": "2023-11-11T17:27:33.280242Z",
     "iopub.status.busy": "2023-11-11T17:27:33.279568Z",
     "iopub.status.idle": "2023-11-11T17:27:33.285467Z",
     "shell.execute_reply": "2023-11-11T17:27:33.284571Z"
    },
    "papermill": {
     "duration": 0.136401,
     "end_time": "2023-11-11T17:27:33.287577",
     "exception": false,
     "start_time": "2023-11-11T17:27:33.151176",
     "status": "completed"
    },
    "tags": []
   },
   "outputs": [
    {
     "data": {
      "text/plain": [
       "(2, 8)"
      ]
     },
     "execution_count": 338,
     "metadata": {},
     "output_type": "execute_result"
    }
   ],
   "source": [
    "a = a.reshape(2,8)\n",
    "a.shape"
   ]
  },
  {
   "cell_type": "code",
   "execution_count": 339,
   "id": "667c473b",
   "metadata": {
    "execution": {
     "iopub.execute_input": "2023-11-11T17:27:33.543464Z",
     "iopub.status.busy": "2023-11-11T17:27:33.542634Z",
     "iopub.status.idle": "2023-11-11T17:27:33.548991Z",
     "shell.execute_reply": "2023-11-11T17:27:33.548141Z"
    },
    "papermill": {
     "duration": 0.135645,
     "end_time": "2023-11-11T17:27:33.551160",
     "exception": false,
     "start_time": "2023-11-11T17:27:33.415515",
     "status": "completed"
    },
    "tags": []
   },
   "outputs": [
    {
     "data": {
      "text/plain": [
       "(2, 8)"
      ]
     },
     "execution_count": 339,
     "metadata": {},
     "output_type": "execute_result"
    }
   ],
   "source": [
    "a = a.reshape(2,-1)\n",
    "a.shape"
   ]
  },
  {
   "cell_type": "code",
   "execution_count": 340,
   "id": "59a4059b",
   "metadata": {
    "execution": {
     "iopub.execute_input": "2023-11-11T17:27:33.819430Z",
     "iopub.status.busy": "2023-11-11T17:27:33.819063Z",
     "iopub.status.idle": "2023-11-11T17:27:33.826233Z",
     "shell.execute_reply": "2023-11-11T17:27:33.825294Z"
    },
    "papermill": {
     "duration": 0.141559,
     "end_time": "2023-11-11T17:27:33.828127",
     "exception": false,
     "start_time": "2023-11-11T17:27:33.686568",
     "status": "completed"
    },
    "tags": []
   },
   "outputs": [
    {
     "data": {
      "text/plain": [
       "array([ 9,  8,  6, 88, 99])"
      ]
     },
     "execution_count": 340,
     "metadata": {},
     "output_type": "execute_result"
    }
   ],
   "source": [
    "c = np.array([9,8,6])\n",
    "b = np.append(c,[88,99])\n",
    "b"
   ]
  },
  {
   "cell_type": "code",
   "execution_count": 341,
   "id": "709a1a32",
   "metadata": {
    "execution": {
     "iopub.execute_input": "2023-11-11T17:27:34.081173Z",
     "iopub.status.busy": "2023-11-11T17:27:34.080823Z",
     "iopub.status.idle": "2023-11-11T17:27:34.087758Z",
     "shell.execute_reply": "2023-11-11T17:27:34.086780Z"
    },
    "papermill": {
     "duration": 0.13917,
     "end_time": "2023-11-11T17:27:34.090273",
     "exception": false,
     "start_time": "2023-11-11T17:27:33.951103",
     "status": "completed"
    },
    "tags": []
   },
   "outputs": [
    {
     "data": {
      "text/plain": [
       "array([ 9, 88, 99,  8,  6])"
      ]
     },
     "execution_count": 341,
     "metadata": {},
     "output_type": "execute_result"
    }
   ],
   "source": [
    "c = np.array([9,8,6])\n",
    "b = np.insert(c,1,[88,99])\n",
    "b"
   ]
  },
  {
   "cell_type": "code",
   "execution_count": 342,
   "id": "f73cd082",
   "metadata": {
    "execution": {
     "iopub.execute_input": "2023-11-11T17:27:34.351739Z",
     "iopub.status.busy": "2023-11-11T17:27:34.350973Z",
     "iopub.status.idle": "2023-11-11T17:27:34.357769Z",
     "shell.execute_reply": "2023-11-11T17:27:34.356829Z"
    },
    "papermill": {
     "duration": 0.138287,
     "end_time": "2023-11-11T17:27:34.360035",
     "exception": false,
     "start_time": "2023-11-11T17:27:34.221748",
     "status": "completed"
    },
    "tags": []
   },
   "outputs": [
    {
     "data": {
      "text/plain": [
       "array([9, 8])"
      ]
     },
     "execution_count": 342,
     "metadata": {},
     "output_type": "execute_result"
    }
   ],
   "source": [
    "c = np.array([9,8,6])\n",
    "b = np.delete(c,2)\n",
    "b"
   ]
  },
  {
   "cell_type": "code",
   "execution_count": 343,
   "id": "23a4da17",
   "metadata": {
    "execution": {
     "iopub.execute_input": "2023-11-11T17:27:34.621034Z",
     "iopub.status.busy": "2023-11-11T17:27:34.620645Z",
     "iopub.status.idle": "2023-11-11T17:27:34.628322Z",
     "shell.execute_reply": "2023-11-11T17:27:34.627311Z"
    },
    "papermill": {
     "duration": 0.142777,
     "end_time": "2023-11-11T17:27:34.630363",
     "exception": false,
     "start_time": "2023-11-11T17:27:34.487586",
     "status": "completed"
    },
    "tags": []
   },
   "outputs": [
    {
     "data": {
      "text/plain": [
       "array([[1., 1.],\n",
       "       [1., 1.],\n",
       "       [1., 1.],\n",
       "       [1., 1.],\n",
       "       [1., 1.],\n",
       "       [1., 1.],\n",
       "       [1., 1.],\n",
       "       [1., 1.]])"
      ]
     },
     "execution_count": 343,
     "metadata": {},
     "output_type": "execute_result"
    }
   ],
   "source": [
    "a= np.ones((4,4))\n",
    "a = a.reshape((8,-1))\n",
    "a"
   ]
  },
  {
   "cell_type": "code",
   "execution_count": 344,
   "id": "40800c4a",
   "metadata": {
    "execution": {
     "iopub.execute_input": "2023-11-11T17:27:34.890034Z",
     "iopub.status.busy": "2023-11-11T17:27:34.889647Z",
     "iopub.status.idle": "2023-11-11T17:27:34.896683Z",
     "shell.execute_reply": "2023-11-11T17:27:34.895778Z"
    },
    "papermill": {
     "duration": 0.13892,
     "end_time": "2023-11-11T17:27:34.899073",
     "exception": false,
     "start_time": "2023-11-11T17:27:34.760153",
     "status": "completed"
    },
    "tags": []
   },
   "outputs": [
    {
     "data": {
      "text/plain": [
       "array([[1., 1.],\n",
       "       [1., 1.],\n",
       "       [1., 1.],\n",
       "       [1., 1.],\n",
       "       [1., 1.],\n",
       "       [1., 1.],\n",
       "       [1., 1.],\n",
       "       [1., 1.]])"
      ]
     },
     "execution_count": 344,
     "metadata": {},
     "output_type": "execute_result"
    }
   ],
   "source": [
    "a= np.ones((4,4))\n",
    "a.resize((8,2))\n",
    "a"
   ]
  },
  {
   "cell_type": "code",
   "execution_count": 345,
   "id": "8f4ac7c0",
   "metadata": {
    "execution": {
     "iopub.execute_input": "2023-11-11T17:27:35.162026Z",
     "iopub.status.busy": "2023-11-11T17:27:35.161641Z",
     "iopub.status.idle": "2023-11-11T17:27:35.169575Z",
     "shell.execute_reply": "2023-11-11T17:27:35.168770Z"
    },
    "papermill": {
     "duration": 0.142401,
     "end_time": "2023-11-11T17:27:35.171636",
     "exception": false,
     "start_time": "2023-11-11T17:27:35.029235",
     "status": "completed"
    },
    "tags": []
   },
   "outputs": [
    {
     "data": {
      "text/plain": [
       "array([False,  True, False, False])"
      ]
     },
     "execution_count": 345,
     "metadata": {},
     "output_type": "execute_result"
    }
   ],
   "source": [
    "a = np.array([True, True, True, False])\n",
    "b = np.array([False, True,False, False])\n",
    "\n",
    "c = np.logical_and(a,b)\n",
    "c"
   ]
  },
  {
   "cell_type": "code",
   "execution_count": 346,
   "id": "79676436",
   "metadata": {
    "execution": {
     "iopub.execute_input": "2023-11-11T17:27:35.427497Z",
     "iopub.status.busy": "2023-11-11T17:27:35.427151Z",
     "iopub.status.idle": "2023-11-11T17:27:35.433953Z",
     "shell.execute_reply": "2023-11-11T17:27:35.433170Z"
    },
    "papermill": {
     "duration": 0.137353,
     "end_time": "2023-11-11T17:27:35.435993",
     "exception": false,
     "start_time": "2023-11-11T17:27:35.298640",
     "status": "completed"
    },
    "tags": []
   },
   "outputs": [
    {
     "data": {
      "text/plain": [
       "array([ True,  True,  True, False])"
      ]
     },
     "execution_count": 346,
     "metadata": {},
     "output_type": "execute_result"
    }
   ],
   "source": [
    "a = np.array([True, True, True, False])\n",
    "b = np.array([False, True,False, False])\n",
    "\n",
    "c = np.logical_or(a,b)\n",
    "c"
   ]
  },
  {
   "cell_type": "code",
   "execution_count": 347,
   "id": "f8cc042f",
   "metadata": {
    "execution": {
     "iopub.execute_input": "2023-11-11T17:27:35.700777Z",
     "iopub.status.busy": "2023-11-11T17:27:35.700401Z",
     "iopub.status.idle": "2023-11-11T17:27:35.706992Z",
     "shell.execute_reply": "2023-11-11T17:27:35.706032Z"
    },
    "papermill": {
     "duration": 0.145704,
     "end_time": "2023-11-11T17:27:35.709091",
     "exception": false,
     "start_time": "2023-11-11T17:27:35.563387",
     "status": "completed"
    },
    "tags": []
   },
   "outputs": [
    {
     "data": {
      "text/plain": [
       "array([False, False, False,  True])"
      ]
     },
     "execution_count": 347,
     "metadata": {},
     "output_type": "execute_result"
    }
   ],
   "source": [
    "a = np.array([True, True, True, False])\n",
    "b = np.logical_not(a)\n",
    "b"
   ]
  },
  {
   "cell_type": "code",
   "execution_count": 348,
   "id": "8461a23b",
   "metadata": {
    "execution": {
     "iopub.execute_input": "2023-11-11T17:27:35.972319Z",
     "iopub.status.busy": "2023-11-11T17:27:35.971953Z",
     "iopub.status.idle": "2023-11-11T17:27:35.979073Z",
     "shell.execute_reply": "2023-11-11T17:27:35.978034Z"
    },
    "papermill": {
     "duration": 0.136629,
     "end_time": "2023-11-11T17:27:35.981348",
     "exception": false,
     "start_time": "2023-11-11T17:27:35.844719",
     "status": "completed"
    },
    "tags": []
   },
   "outputs": [
    {
     "data": {
      "text/plain": [
       "array([20, 30])"
      ]
     },
     "execution_count": 348,
     "metadata": {},
     "output_type": "execute_result"
    }
   ],
   "source": [
    "a = np.array([10,20,30])\n",
    "a[np.where ( a > 15)]\n"
   ]
  },
  {
   "cell_type": "code",
   "execution_count": 349,
   "id": "84259405",
   "metadata": {
    "execution": {
     "iopub.execute_input": "2023-11-11T17:27:36.235572Z",
     "iopub.status.busy": "2023-11-11T17:27:36.235206Z",
     "iopub.status.idle": "2023-11-11T17:27:36.239615Z",
     "shell.execute_reply": "2023-11-11T17:27:36.238582Z"
    },
    "papermill": {
     "duration": 0.133217,
     "end_time": "2023-11-11T17:27:36.241692",
     "exception": false,
     "start_time": "2023-11-11T17:27:36.108475",
     "status": "completed"
    },
    "tags": []
   },
   "outputs": [],
   "source": [
    "import numpy as np"
   ]
  },
  {
   "cell_type": "code",
   "execution_count": 350,
   "id": "01609352",
   "metadata": {
    "execution": {
     "iopub.execute_input": "2023-11-11T17:27:36.515775Z",
     "iopub.status.busy": "2023-11-11T17:27:36.515074Z",
     "iopub.status.idle": "2023-11-11T17:27:36.522308Z",
     "shell.execute_reply": "2023-11-11T17:27:36.521388Z"
    },
    "papermill": {
     "duration": 0.145957,
     "end_time": "2023-11-11T17:27:36.524296",
     "exception": false,
     "start_time": "2023-11-11T17:27:36.378339",
     "status": "completed"
    },
    "tags": []
   },
   "outputs": [
    {
     "data": {
      "text/plain": [
       "array([False,  True, False, False])"
      ]
     },
     "execution_count": 350,
     "metadata": {},
     "output_type": "execute_result"
    }
   ],
   "source": [
    "a = np.array([True, True, True, False])\n",
    "b = np.array([False, True,False, False])\n",
    "\n",
    "c =  a & b\n",
    "c"
   ]
  },
  {
   "cell_type": "code",
   "execution_count": 351,
   "id": "5e8367bf",
   "metadata": {
    "execution": {
     "iopub.execute_input": "2023-11-11T17:27:36.783892Z",
     "iopub.status.busy": "2023-11-11T17:27:36.783546Z",
     "iopub.status.idle": "2023-11-11T17:27:36.790181Z",
     "shell.execute_reply": "2023-11-11T17:27:36.789275Z"
    },
    "papermill": {
     "duration": 0.134473,
     "end_time": "2023-11-11T17:27:36.792290",
     "exception": false,
     "start_time": "2023-11-11T17:27:36.657817",
     "status": "completed"
    },
    "tags": []
   },
   "outputs": [
    {
     "data": {
      "text/plain": [
       "array([ True,  True,  True, False])"
      ]
     },
     "execution_count": 351,
     "metadata": {},
     "output_type": "execute_result"
    }
   ],
   "source": [
    "a = np.array([True, True, True, False])\n",
    "b = np.array([False, True,False, False])\n",
    "\n",
    "c =  a | b # or \n",
    "c"
   ]
  },
  {
   "cell_type": "code",
   "execution_count": 352,
   "id": "8f7ae4fe",
   "metadata": {
    "execution": {
     "iopub.execute_input": "2023-11-11T17:27:37.049907Z",
     "iopub.status.busy": "2023-11-11T17:27:37.049408Z",
     "iopub.status.idle": "2023-11-11T17:27:37.056755Z",
     "shell.execute_reply": "2023-11-11T17:27:37.055790Z"
    },
    "papermill": {
     "duration": 0.137826,
     "end_time": "2023-11-11T17:27:37.058949",
     "exception": false,
     "start_time": "2023-11-11T17:27:36.921123",
     "status": "completed"
    },
    "tags": []
   },
   "outputs": [
    {
     "data": {
      "text/plain": [
       "array([False, False, False,  True])"
      ]
     },
     "execution_count": 352,
     "metadata": {},
     "output_type": "execute_result"
    }
   ],
   "source": [
    "a = np.array([True, True, True, False])\n",
    "c = ~a\n",
    "c"
   ]
  },
  {
   "cell_type": "code",
   "execution_count": 353,
   "id": "f951d71f",
   "metadata": {
    "execution": {
     "iopub.execute_input": "2023-11-11T17:27:37.317675Z",
     "iopub.status.busy": "2023-11-11T17:27:37.317355Z",
     "iopub.status.idle": "2023-11-11T17:27:37.334283Z",
     "shell.execute_reply": "2023-11-11T17:27:37.333456Z"
    },
    "papermill": {
     "duration": 0.148306,
     "end_time": "2023-11-11T17:27:37.336182",
     "exception": false,
     "start_time": "2023-11-11T17:27:37.187876",
     "status": "completed"
    },
    "tags": []
   },
   "outputs": [
    {
     "data": {
      "text/plain": [
       "array([[15., 15., 15., 15., 15.],\n",
       "       [15., 15., 15., 15., 15.],\n",
       "       [15., 15., 15., 15., 15.],\n",
       "       [15., 15., 15., 15., 15.],\n",
       "       [15., 15., 15., 15., 15.]])"
      ]
     },
     "execution_count": 353,
     "metadata": {},
     "output_type": "execute_result"
    }
   ],
   "source": [
    "a = np.ones((5,5))\n",
    "b = np.full((5,5), 3)\n",
    "c = np.dot(a,b)\n",
    "c"
   ]
  },
  {
   "cell_type": "code",
   "execution_count": 354,
   "id": "da227610",
   "metadata": {
    "execution": {
     "iopub.execute_input": "2023-11-11T17:27:37.597408Z",
     "iopub.status.busy": "2023-11-11T17:27:37.597064Z",
     "iopub.status.idle": "2023-11-11T17:27:37.604037Z",
     "shell.execute_reply": "2023-11-11T17:27:37.603156Z"
    },
    "papermill": {
     "duration": 0.142432,
     "end_time": "2023-11-11T17:27:37.605908",
     "exception": false,
     "start_time": "2023-11-11T17:27:37.463476",
     "status": "completed"
    },
    "tags": []
   },
   "outputs": [
    {
     "data": {
      "text/plain": [
       "array([[1, 2],\n",
       "       [3, 4]])"
      ]
     },
     "execution_count": 354,
     "metadata": {},
     "output_type": "execute_result"
    }
   ],
   "source": [
    "a = np.array([[1,2],[3,4]])\n",
    "a"
   ]
  },
  {
   "cell_type": "code",
   "execution_count": 355,
   "id": "f2ce17eb",
   "metadata": {
    "execution": {
     "iopub.execute_input": "2023-11-11T17:27:37.859137Z",
     "iopub.status.busy": "2023-11-11T17:27:37.858512Z",
     "iopub.status.idle": "2023-11-11T17:27:37.864812Z",
     "shell.execute_reply": "2023-11-11T17:27:37.863988Z"
    },
    "papermill": {
     "duration": 0.134088,
     "end_time": "2023-11-11T17:27:37.866799",
     "exception": false,
     "start_time": "2023-11-11T17:27:37.732711",
     "status": "completed"
    },
    "tags": []
   },
   "outputs": [
    {
     "data": {
      "text/plain": [
       "array([[1, 3],\n",
       "       [2, 4]])"
      ]
     },
     "execution_count": 355,
     "metadata": {},
     "output_type": "execute_result"
    }
   ],
   "source": [
    "b = np.transpose(a)\n",
    "b"
   ]
  },
  {
   "cell_type": "code",
   "execution_count": 356,
   "id": "f3068f13",
   "metadata": {
    "execution": {
     "iopub.execute_input": "2023-11-11T17:27:38.135005Z",
     "iopub.status.busy": "2023-11-11T17:27:38.134556Z",
     "iopub.status.idle": "2023-11-11T17:27:38.141956Z",
     "shell.execute_reply": "2023-11-11T17:27:38.141016Z"
    },
    "papermill": {
     "duration": 0.141709,
     "end_time": "2023-11-11T17:27:38.143893",
     "exception": false,
     "start_time": "2023-11-11T17:27:38.002184",
     "status": "completed"
    },
    "tags": []
   },
   "outputs": [
    {
     "data": {
      "text/plain": [
       "array([[-0.66136743, -1.04361074, -0.58114897],\n",
       "       [-0.356353  ,  0.29407381, -1.79697064],\n",
       "       [-0.38949016,  0.44914091, -0.47389926]])"
      ]
     },
     "execution_count": 356,
     "metadata": {},
     "output_type": "execute_result"
    }
   ],
   "source": [
    "a = np.random.normal(0,1,(3,3))\n",
    "a"
   ]
  },
  {
   "cell_type": "code",
   "execution_count": 357,
   "id": "849dba98",
   "metadata": {
    "execution": {
     "iopub.execute_input": "2023-11-11T17:27:38.406412Z",
     "iopub.status.busy": "2023-11-11T17:27:38.406097Z",
     "iopub.status.idle": "2023-11-11T17:27:38.412963Z",
     "shell.execute_reply": "2023-11-11T17:27:38.412065Z"
    },
    "papermill": {
     "duration": 0.140286,
     "end_time": "2023-11-11T17:27:38.415082",
     "exception": false,
     "start_time": "2023-11-11T17:27:38.274796",
     "status": "completed"
    },
    "tags": []
   },
   "outputs": [
    {
     "data": {
      "text/plain": [
       "array([[54.04820621, 50.05997631, 53.34034706],\n",
       "       [51.45262098, 51.61359903, 52.08854957],\n",
       "       [52.43197998, 54.7133926 , 53.66073862]])"
      ]
     },
     "execution_count": 357,
     "metadata": {},
     "output_type": "execute_result"
    }
   ],
   "source": [
    "b = np.random.uniform(50,55,(3,3))\n",
    "b"
   ]
  },
  {
   "cell_type": "code",
   "execution_count": 358,
   "id": "3b056025",
   "metadata": {
    "execution": {
     "iopub.execute_input": "2023-11-11T17:27:38.686692Z",
     "iopub.status.busy": "2023-11-11T17:27:38.686360Z",
     "iopub.status.idle": "2023-11-11T17:27:38.693213Z",
     "shell.execute_reply": "2023-11-11T17:27:38.692308Z"
    },
    "papermill": {
     "duration": 0.143695,
     "end_time": "2023-11-11T17:27:38.695247",
     "exception": false,
     "start_time": "2023-11-11T17:27:38.551552",
     "status": "completed"
    },
    "tags": []
   },
   "outputs": [
    {
     "data": {
      "text/plain": [
       "array([[51, 54, 50],\n",
       "       [51, 53, 54],\n",
       "       [51, 50, 51]])"
      ]
     },
     "execution_count": 358,
     "metadata": {},
     "output_type": "execute_result"
    }
   ],
   "source": [
    "np.random.seed(10)\n",
    "\n",
    "c = np.random.randint(50,55,(3,3))\n",
    "c"
   ]
  },
  {
   "cell_type": "code",
   "execution_count": 359,
   "id": "dd786cdb",
   "metadata": {
    "execution": {
     "iopub.execute_input": "2023-11-11T17:27:38.973969Z",
     "iopub.status.busy": "2023-11-11T17:27:38.973329Z",
     "iopub.status.idle": "2023-11-11T17:27:38.980506Z",
     "shell.execute_reply": "2023-11-11T17:27:38.979507Z"
    },
    "papermill": {
     "duration": 0.152536,
     "end_time": "2023-11-11T17:27:38.983218",
     "exception": false,
     "start_time": "2023-11-11T17:27:38.830682",
     "status": "completed"
    },
    "tags": []
   },
   "outputs": [
    {
     "data": {
      "text/plain": [
       "array([[51, 54, 50],\n",
       "       [51, 53, 54],\n",
       "       [51, 50, 51]])"
      ]
     },
     "execution_count": 359,
     "metadata": {},
     "output_type": "execute_result"
    }
   ],
   "source": [
    "np.random.seed(10)\n",
    "\n",
    "c = np.random.randint(50,55,(3,3))\n",
    "c"
   ]
  },
  {
   "cell_type": "code",
   "execution_count": 360,
   "id": "044db6e0",
   "metadata": {
    "execution": {
     "iopub.execute_input": "2023-11-11T17:27:39.280211Z",
     "iopub.status.busy": "2023-11-11T17:27:39.279546Z",
     "iopub.status.idle": "2023-11-11T17:27:39.289965Z",
     "shell.execute_reply": "2023-11-11T17:27:39.289042Z"
    },
    "papermill": {
     "duration": 0.161597,
     "end_time": "2023-11-11T17:27:39.292247",
     "exception": false,
     "start_time": "2023-11-11T17:27:39.130650",
     "status": "completed"
    },
    "tags": []
   },
   "outputs": [
    {
     "data": {
      "text/plain": [
       "array([5, 9, 9, 9, 5, 5, 8, 5, 9, 9])"
      ]
     },
     "execution_count": 360,
     "metadata": {},
     "output_type": "execute_result"
    }
   ],
   "source": [
    "# c = np.random.randint(50,55,(1,3))\n",
    "c = np.array([9,8,7,6,5])\n",
    "\n",
    "d = np.random.choice( c,size =  10, replace = True ,p=[0.32, 0.02, 0.02, 0.04, 0.6])\n",
    "d\n",
    "# d"
   ]
  },
  {
   "cell_type": "code",
   "execution_count": 361,
   "id": "b19b0878",
   "metadata": {
    "execution": {
     "iopub.execute_input": "2023-11-11T17:27:39.639745Z",
     "iopub.status.busy": "2023-11-11T17:27:39.639383Z",
     "iopub.status.idle": "2023-11-11T17:27:39.643646Z",
     "shell.execute_reply": "2023-11-11T17:27:39.642674Z"
    },
    "papermill": {
     "duration": 0.189673,
     "end_time": "2023-11-11T17:27:39.645584",
     "exception": false,
     "start_time": "2023-11-11T17:27:39.455911",
     "status": "completed"
    },
    "tags": []
   },
   "outputs": [],
   "source": [
    "# c = [9,8,6,5]\n",
    "# np.random.choice(c, 3, p=[0.5, 0.1, 0.1, 0.3])"
   ]
  },
  {
   "cell_type": "code",
   "execution_count": 362,
   "id": "2f0de3d3",
   "metadata": {
    "execution": {
     "iopub.execute_input": "2023-11-11T17:27:39.913932Z",
     "iopub.status.busy": "2023-11-11T17:27:39.913548Z",
     "iopub.status.idle": "2023-11-11T17:27:39.917626Z",
     "shell.execute_reply": "2023-11-11T17:27:39.916773Z"
    },
    "papermill": {
     "duration": 0.141489,
     "end_time": "2023-11-11T17:27:39.919795",
     "exception": false,
     "start_time": "2023-11-11T17:27:39.778306",
     "status": "completed"
    },
    "tags": []
   },
   "outputs": [],
   "source": [
    "# 9,8,7,6,5\n",
    "\n",
    "# 6\n",
    "\n",
    "# 9,8,7,5"
   ]
  },
  {
   "cell_type": "code",
   "execution_count": 363,
   "id": "4134de4c",
   "metadata": {
    "execution": {
     "iopub.execute_input": "2023-11-11T17:27:40.184639Z",
     "iopub.status.busy": "2023-11-11T17:27:40.184010Z",
     "iopub.status.idle": "2023-11-11T17:27:40.190645Z",
     "shell.execute_reply": "2023-11-11T17:27:40.189771Z"
    },
    "papermill": {
     "duration": 0.142846,
     "end_time": "2023-11-11T17:27:40.192676",
     "exception": false,
     "start_time": "2023-11-11T17:27:40.049830",
     "status": "completed"
    },
    "tags": []
   },
   "outputs": [
    {
     "data": {
      "text/plain": [
       "array([[1, 2],\n",
       "       [3, 4]])"
      ]
     },
     "execution_count": 363,
     "metadata": {},
     "output_type": "execute_result"
    }
   ],
   "source": [
    "a = np.array([[1,2],[3,4]])\n",
    "a\n",
    "    "
   ]
  },
  {
   "cell_type": "code",
   "execution_count": 364,
   "id": "89765113",
   "metadata": {
    "execution": {
     "iopub.execute_input": "2023-11-11T17:27:40.463861Z",
     "iopub.status.busy": "2023-11-11T17:27:40.463491Z",
     "iopub.status.idle": "2023-11-11T17:27:40.469739Z",
     "shell.execute_reply": "2023-11-11T17:27:40.468790Z"
    },
    "papermill": {
     "duration": 0.138768,
     "end_time": "2023-11-11T17:27:40.472075",
     "exception": false,
     "start_time": "2023-11-11T17:27:40.333307",
     "status": "completed"
    },
    "tags": []
   },
   "outputs": [
    {
     "data": {
      "text/plain": [
       "array([[0., 0.],\n",
       "       [0., 0.]])"
      ]
     },
     "execution_count": 364,
     "metadata": {},
     "output_type": "execute_result"
    }
   ],
   "source": [
    "np.zeros(a.shape)"
   ]
  },
  {
   "cell_type": "code",
   "execution_count": 365,
   "id": "4f08ea79",
   "metadata": {
    "execution": {
     "iopub.execute_input": "2023-11-11T17:27:40.754133Z",
     "iopub.status.busy": "2023-11-11T17:27:40.753543Z",
     "iopub.status.idle": "2023-11-11T17:27:40.759822Z",
     "shell.execute_reply": "2023-11-11T17:27:40.758828Z"
    },
    "papermill": {
     "duration": 0.142208,
     "end_time": "2023-11-11T17:27:40.761990",
     "exception": false,
     "start_time": "2023-11-11T17:27:40.619782",
     "status": "completed"
    },
    "tags": []
   },
   "outputs": [
    {
     "data": {
      "text/plain": [
       "array([[0, 0],\n",
       "       [0, 0]])"
      ]
     },
     "execution_count": 365,
     "metadata": {},
     "output_type": "execute_result"
    }
   ],
   "source": [
    "np.zeros_like(a)"
   ]
  },
  {
   "cell_type": "code",
   "execution_count": 366,
   "id": "0a226490",
   "metadata": {
    "execution": {
     "iopub.execute_input": "2023-11-11T17:27:41.023280Z",
     "iopub.status.busy": "2023-11-11T17:27:41.022676Z",
     "iopub.status.idle": "2023-11-11T17:27:41.027298Z",
     "shell.execute_reply": "2023-11-11T17:27:41.026376Z"
    },
    "papermill": {
     "duration": 0.13741,
     "end_time": "2023-11-11T17:27:41.029237",
     "exception": false,
     "start_time": "2023-11-11T17:27:40.891827",
     "status": "completed"
    },
    "tags": []
   },
   "outputs": [],
   "source": [
    "c = np.ones_like(a)"
   ]
  },
  {
   "cell_type": "code",
   "execution_count": 367,
   "id": "f355ec1f",
   "metadata": {
    "execution": {
     "iopub.execute_input": "2023-11-11T17:27:41.290073Z",
     "iopub.status.busy": "2023-11-11T17:27:41.289141Z",
     "iopub.status.idle": "2023-11-11T17:27:41.296201Z",
     "shell.execute_reply": "2023-11-11T17:27:41.295179Z"
    },
    "papermill": {
     "duration": 0.138057,
     "end_time": "2023-11-11T17:27:41.298476",
     "exception": false,
     "start_time": "2023-11-11T17:27:41.160419",
     "status": "completed"
    },
    "tags": []
   },
   "outputs": [
    {
     "data": {
      "text/plain": [
       "array([[3, 3],\n",
       "       [3, 3]])"
      ]
     },
     "execution_count": 367,
     "metadata": {},
     "output_type": "execute_result"
    }
   ],
   "source": [
    "c = np.ones_like(a)\n",
    "d = c + 2\n",
    "d"
   ]
  },
  {
   "cell_type": "code",
   "execution_count": 368,
   "id": "bd0441f8",
   "metadata": {
    "execution": {
     "iopub.execute_input": "2023-11-11T17:27:41.558572Z",
     "iopub.status.busy": "2023-11-11T17:27:41.558184Z",
     "iopub.status.idle": "2023-11-11T17:27:41.562711Z",
     "shell.execute_reply": "2023-11-11T17:27:41.561764Z"
    },
    "papermill": {
     "duration": 0.138219,
     "end_time": "2023-11-11T17:27:41.565068",
     "exception": false,
     "start_time": "2023-11-11T17:27:41.426849",
     "status": "completed"
    },
    "tags": []
   },
   "outputs": [],
   "source": [
    "# help(int)"
   ]
  },
  {
   "cell_type": "code",
   "execution_count": 369,
   "id": "86a33924",
   "metadata": {
    "execution": {
     "iopub.execute_input": "2023-11-11T17:27:41.855220Z",
     "iopub.status.busy": "2023-11-11T17:27:41.854366Z",
     "iopub.status.idle": "2023-11-11T17:27:41.861387Z",
     "shell.execute_reply": "2023-11-11T17:27:41.860479Z"
    },
    "papermill": {
     "duration": 0.152522,
     "end_time": "2023-11-11T17:27:41.863432",
     "exception": false,
     "start_time": "2023-11-11T17:27:41.710910",
     "status": "completed"
    },
    "tags": []
   },
   "outputs": [
    {
     "data": {
      "text/plain": [
       "dtype('int64')"
      ]
     },
     "execution_count": 369,
     "metadata": {},
     "output_type": "execute_result"
    }
   ],
   "source": [
    "import numpy as np\n",
    "\n",
    "arr1= np.array([4, 11, 53, 2, 9, ])\n",
    "arr1.dtype"
   ]
  },
  {
   "cell_type": "code",
   "execution_count": 370,
   "id": "b71aea96",
   "metadata": {
    "execution": {
     "iopub.execute_input": "2023-11-11T17:27:42.182225Z",
     "iopub.status.busy": "2023-11-11T17:27:42.181874Z",
     "iopub.status.idle": "2023-11-11T17:27:42.189319Z",
     "shell.execute_reply": "2023-11-11T17:27:42.188359Z"
    },
    "papermill": {
     "duration": 0.144905,
     "end_time": "2023-11-11T17:27:42.191254",
     "exception": false,
     "start_time": "2023-11-11T17:27:42.046349",
     "status": "completed"
    },
    "tags": []
   },
   "outputs": [
    {
     "data": {
      "text/plain": [
       "array([[ 2.,  7., 11.],\n",
       "       [ 4.,  8.,  2.]])"
      ]
     },
     "execution_count": 370,
     "metadata": {},
     "output_type": "execute_result"
    }
   ],
   "source": [
    "arr2 = np.array([[2, 7 , 11], [4, 8 , 2]],\n",
    "dtype= float)\n",
    "arr2.dtype\n",
    "arr2"
   ]
  },
  {
   "cell_type": "code",
   "execution_count": 371,
   "id": "940755e3",
   "metadata": {
    "execution": {
     "iopub.execute_input": "2023-11-11T17:27:42.457110Z",
     "iopub.status.busy": "2023-11-11T17:27:42.456751Z",
     "iopub.status.idle": "2023-11-11T17:27:42.464657Z",
     "shell.execute_reply": "2023-11-11T17:27:42.463699Z"
    },
    "papermill": {
     "duration": 0.140646,
     "end_time": "2023-11-11T17:27:42.466678",
     "exception": false,
     "start_time": "2023-11-11T17:27:42.326032",
     "status": "completed"
    },
    "tags": []
   },
   "outputs": [
    {
     "name": "stdout",
     "output_type": "stream",
     "text": [
      "[1 3 2 4 0]\n"
     ]
    }
   ],
   "source": [
    "import numpy as np\n",
    "first_names =    ('Margery', 'Betsey', 'Shelley', 'Lanell', 'Genesis')\n",
    "last_names = ('Woolum', 'Battle', 'Plotner', 'Brien', 'Stahl')\n",
    "x = np.lexsort((first_names, last_names))\n",
    "print(x)"
   ]
  }
 ],
 "metadata": {
  "kaggle": {
   "accelerator": "nvidiaTeslaT4",
   "dataSources": [],
   "dockerImageVersionId": 30558,
   "isGpuEnabled": true,
   "isInternetEnabled": true,
   "language": "python",
   "sourceType": "notebook"
  },
  "kernelspec": {
   "display_name": "Python 3",
   "language": "python",
   "name": "python3"
  },
  "language_info": {
   "codemirror_mode": {
    "name": "ipython",
    "version": 3
   },
   "file_extension": ".py",
   "mimetype": "text/x-python",
   "name": "python",
   "nbconvert_exporter": "python",
   "pygments_lexer": "ipython3",
   "version": "3.10.12"
  },
  "papermill": {
   "default_parameters": {},
   "duration": 96.824347,
   "end_time": "2023-11-11T17:27:42.820973",
   "environment_variables": {},
   "exception": null,
   "input_path": "__notebook__.ipynb",
   "output_path": "__notebook__.ipynb",
   "parameters": {},
   "start_time": "2023-11-11T17:26:05.996626",
   "version": "2.4.0"
  }
 },
 "nbformat": 4,
 "nbformat_minor": 5
}
