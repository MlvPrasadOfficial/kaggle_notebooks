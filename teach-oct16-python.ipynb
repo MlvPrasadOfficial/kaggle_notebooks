{
 "cells": [
  {
   "cell_type": "code",
   "execution_count": 1,
   "id": "1d4c185e",
   "metadata": {
    "_cell_guid": "b1076dfc-b9ad-4769-8c92-a6c4dae69d19",
    "_uuid": "8f2839f25d086af736a60e9eeb907d3b93b6e0e5",
    "execution": {
     "iopub.execute_input": "2023-11-08T17:59:15.481005Z",
     "iopub.status.busy": "2023-11-08T17:59:15.480265Z",
     "iopub.status.idle": "2023-11-08T17:59:15.491344Z",
     "shell.execute_reply": "2023-11-08T17:59:15.489732Z"
    },
    "papermill": {
     "duration": 0.16743,
     "end_time": "2023-11-08T17:59:15.494496",
     "exception": false,
     "start_time": "2023-11-08T17:59:15.327066",
     "status": "completed"
    },
    "tags": []
   },
   "outputs": [
    {
     "name": "stdout",
     "output_type": "stream",
     "text": [
      "6\n",
      "---\n",
      "6\n"
     ]
    }
   ],
   "source": [
    "a = 6\n",
    "print(a)\n",
    "print(\"---\")\n",
    "# a = \n",
    "print(a)"
   ]
  },
  {
   "cell_type": "code",
   "execution_count": null,
   "id": "e510bd1a",
   "metadata": {
    "papermill": {
     "duration": 0.0658,
     "end_time": "2023-11-08T17:59:15.626778",
     "exception": false,
     "start_time": "2023-11-08T17:59:15.560978",
     "status": "completed"
    },
    "tags": []
   },
   "outputs": [],
   "source": []
  },
  {
   "cell_type": "code",
   "execution_count": 2,
   "id": "1267b160",
   "metadata": {
    "execution": {
     "iopub.execute_input": "2023-11-08T17:59:15.761642Z",
     "iopub.status.busy": "2023-11-08T17:59:15.761264Z",
     "iopub.status.idle": "2023-11-08T17:59:15.765929Z",
     "shell.execute_reply": "2023-11-08T17:59:15.764729Z"
    },
    "papermill": {
     "duration": 0.073929,
     "end_time": "2023-11-08T17:59:15.767827",
     "exception": false,
     "start_time": "2023-11-08T17:59:15.693898",
     "status": "completed"
    },
    "tags": []
   },
   "outputs": [],
   "source": [
    "a = 7"
   ]
  },
  {
   "cell_type": "markdown",
   "id": "88fa2573",
   "metadata": {
    "papermill": {
     "duration": 0.065115,
     "end_time": "2023-11-08T17:59:15.905696",
     "exception": false,
     "start_time": "2023-11-08T17:59:15.840581",
     "status": "completed"
    },
    "tags": []
   },
   "source": [
    "# data types"
   ]
  },
  {
   "cell_type": "code",
   "execution_count": 3,
   "id": "c34ae859",
   "metadata": {
    "execution": {
     "iopub.execute_input": "2023-11-08T17:59:16.040701Z",
     "iopub.status.busy": "2023-11-08T17:59:16.039796Z",
     "iopub.status.idle": "2023-11-08T17:59:16.045443Z",
     "shell.execute_reply": "2023-11-08T17:59:16.044346Z"
    },
    "papermill": {
     "duration": 0.076727,
     "end_time": "2023-11-08T17:59:16.047285",
     "exception": false,
     "start_time": "2023-11-08T17:59:15.970558",
     "status": "completed"
    },
    "tags": []
   },
   "outputs": [
    {
     "name": "stdout",
     "output_type": "stream",
     "text": [
      "6\n"
     ]
    }
   ],
   "source": [
    "abhi = 6\n",
    "\n",
    "print(abhi)"
   ]
  },
  {
   "cell_type": "code",
   "execution_count": 4,
   "id": "b2d4a873",
   "metadata": {
    "execution": {
     "iopub.execute_input": "2023-11-08T17:59:16.185099Z",
     "iopub.status.busy": "2023-11-08T17:59:16.184386Z",
     "iopub.status.idle": "2023-11-08T17:59:16.191647Z",
     "shell.execute_reply": "2023-11-08T17:59:16.190535Z"
    },
    "papermill": {
     "duration": 0.078106,
     "end_time": "2023-11-08T17:59:16.193613",
     "exception": false,
     "start_time": "2023-11-08T17:59:16.115507",
     "status": "completed"
    },
    "tags": []
   },
   "outputs": [
    {
     "data": {
      "text/plain": [
       "int"
      ]
     },
     "execution_count": 4,
     "metadata": {},
     "output_type": "execute_result"
    }
   ],
   "source": [
    "type(abhi)"
   ]
  },
  {
   "cell_type": "code",
   "execution_count": 5,
   "id": "327ac382",
   "metadata": {
    "execution": {
     "iopub.execute_input": "2023-11-08T17:59:16.332036Z",
     "iopub.status.busy": "2023-11-08T17:59:16.331216Z",
     "iopub.status.idle": "2023-11-08T17:59:16.338353Z",
     "shell.execute_reply": "2023-11-08T17:59:16.337313Z"
    },
    "papermill": {
     "duration": 0.079154,
     "end_time": "2023-11-08T17:59:16.340396",
     "exception": false,
     "start_time": "2023-11-08T17:59:16.261242",
     "status": "completed"
    },
    "tags": []
   },
   "outputs": [
    {
     "data": {
      "text/plain": [
       "float"
      ]
     },
     "execution_count": 5,
     "metadata": {},
     "output_type": "execute_result"
    }
   ],
   "source": [
    "swa = 6.5\n",
    "type(swa)"
   ]
  },
  {
   "cell_type": "code",
   "execution_count": 6,
   "id": "f22c19cf",
   "metadata": {
    "execution": {
     "iopub.execute_input": "2023-11-08T17:59:16.477734Z",
     "iopub.status.busy": "2023-11-08T17:59:16.477349Z",
     "iopub.status.idle": "2023-11-08T17:59:16.483878Z",
     "shell.execute_reply": "2023-11-08T17:59:16.482645Z"
    },
    "papermill": {
     "duration": 0.077974,
     "end_time": "2023-11-08T17:59:16.486011",
     "exception": false,
     "start_time": "2023-11-08T17:59:16.408037",
     "status": "completed"
    },
    "tags": []
   },
   "outputs": [
    {
     "data": {
      "text/plain": [
       "complex"
      ]
     },
     "execution_count": 6,
     "metadata": {},
     "output_type": "execute_result"
    }
   ],
   "source": [
    "pra = 3 + 2j\n",
    "\n",
    "type(pra)"
   ]
  },
  {
   "cell_type": "code",
   "execution_count": 7,
   "id": "3a4baf0a",
   "metadata": {
    "execution": {
     "iopub.execute_input": "2023-11-08T17:59:16.627630Z",
     "iopub.status.busy": "2023-11-08T17:59:16.627224Z",
     "iopub.status.idle": "2023-11-08T17:59:16.634651Z",
     "shell.execute_reply": "2023-11-08T17:59:16.632726Z"
    },
    "papermill": {
     "duration": 0.081976,
     "end_time": "2023-11-08T17:59:16.636934",
     "exception": false,
     "start_time": "2023-11-08T17:59:16.554958",
     "status": "completed"
    },
    "tags": []
   },
   "outputs": [
    {
     "data": {
      "text/plain": [
       "str"
      ]
     },
     "execution_count": 7,
     "metadata": {},
     "output_type": "execute_result"
    }
   ],
   "source": [
    "x = \"sush\"\n",
    "type(x)"
   ]
  },
  {
   "cell_type": "code",
   "execution_count": 8,
   "id": "8b6ff1df",
   "metadata": {
    "execution": {
     "iopub.execute_input": "2023-11-08T17:59:16.774798Z",
     "iopub.status.busy": "2023-11-08T17:59:16.774437Z",
     "iopub.status.idle": "2023-11-08T17:59:16.781881Z",
     "shell.execute_reply": "2023-11-08T17:59:16.780187Z"
    },
    "papermill": {
     "duration": 0.079833,
     "end_time": "2023-11-08T17:59:16.784599",
     "exception": false,
     "start_time": "2023-11-08T17:59:16.704766",
     "status": "completed"
    },
    "tags": []
   },
   "outputs": [
    {
     "data": {
      "text/plain": [
       "int"
      ]
     },
     "execution_count": 8,
     "metadata": {},
     "output_type": "execute_result"
    }
   ],
   "source": [
    "z = 44 - 5 - 14\n",
    "z\n",
    "type(z)"
   ]
  },
  {
   "cell_type": "code",
   "execution_count": 9,
   "id": "7e992d70",
   "metadata": {
    "execution": {
     "iopub.execute_input": "2023-11-08T17:59:16.928474Z",
     "iopub.status.busy": "2023-11-08T17:59:16.928049Z",
     "iopub.status.idle": "2023-11-08T17:59:16.933989Z",
     "shell.execute_reply": "2023-11-08T17:59:16.933086Z"
    },
    "papermill": {
     "duration": 0.078956,
     "end_time": "2023-11-08T17:59:16.935893",
     "exception": false,
     "start_time": "2023-11-08T17:59:16.856937",
     "status": "completed"
    },
    "tags": []
   },
   "outputs": [
    {
     "data": {
      "text/plain": [
       "'44-5-14'"
      ]
     },
     "execution_count": 9,
     "metadata": {},
     "output_type": "execute_result"
    }
   ],
   "source": [
    "y = \"44-5-14\"\n",
    "y"
   ]
  },
  {
   "cell_type": "code",
   "execution_count": 10,
   "id": "cb7cd6e7",
   "metadata": {
    "execution": {
     "iopub.execute_input": "2023-11-08T17:59:17.076499Z",
     "iopub.status.busy": "2023-11-08T17:59:17.075746Z",
     "iopub.status.idle": "2023-11-08T17:59:17.082019Z",
     "shell.execute_reply": "2023-11-08T17:59:17.080884Z"
    },
    "papermill": {
     "duration": 0.078097,
     "end_time": "2023-11-08T17:59:17.083884",
     "exception": false,
     "start_time": "2023-11-08T17:59:17.005787",
     "status": "completed"
    },
    "tags": []
   },
   "outputs": [
    {
     "data": {
      "text/plain": [
       "str"
      ]
     },
     "execution_count": 10,
     "metadata": {},
     "output_type": "execute_result"
    }
   ],
   "source": [
    "type(y)"
   ]
  },
  {
   "cell_type": "markdown",
   "id": "f74c0235",
   "metadata": {
    "papermill": {
     "duration": 0.069497,
     "end_time": "2023-11-08T17:59:17.224865",
     "exception": false,
     "start_time": "2023-11-08T17:59:17.155368",
     "status": "completed"
    },
    "tags": []
   },
   "source": [
    "# type casting"
   ]
  },
  {
   "cell_type": "code",
   "execution_count": 11,
   "id": "f1580831",
   "metadata": {
    "execution": {
     "iopub.execute_input": "2023-11-08T17:59:17.365331Z",
     "iopub.status.busy": "2023-11-08T17:59:17.364778Z",
     "iopub.status.idle": "2023-11-08T17:59:17.370893Z",
     "shell.execute_reply": "2023-11-08T17:59:17.369688Z"
    },
    "papermill": {
     "duration": 0.078139,
     "end_time": "2023-11-08T17:59:17.373098",
     "exception": false,
     "start_time": "2023-11-08T17:59:17.294959",
     "status": "completed"
    },
    "tags": []
   },
   "outputs": [
    {
     "data": {
      "text/plain": [
       "float"
      ]
     },
     "execution_count": 11,
     "metadata": {},
     "output_type": "execute_result"
    }
   ],
   "source": [
    "a = 6.5\n",
    "type(a)"
   ]
  },
  {
   "cell_type": "code",
   "execution_count": 12,
   "id": "23ddb5e2",
   "metadata": {
    "execution": {
     "iopub.execute_input": "2023-11-08T17:59:17.511676Z",
     "iopub.status.busy": "2023-11-08T17:59:17.511272Z",
     "iopub.status.idle": "2023-11-08T17:59:17.518629Z",
     "shell.execute_reply": "2023-11-08T17:59:17.517151Z"
    },
    "papermill": {
     "duration": 0.079621,
     "end_time": "2023-11-08T17:59:17.520854",
     "exception": false,
     "start_time": "2023-11-08T17:59:17.441233",
     "status": "completed"
    },
    "tags": []
   },
   "outputs": [
    {
     "data": {
      "text/plain": [
       "6"
      ]
     },
     "execution_count": 12,
     "metadata": {},
     "output_type": "execute_result"
    }
   ],
   "source": [
    "b = int(a)\n",
    "b"
   ]
  },
  {
   "cell_type": "code",
   "execution_count": 13,
   "id": "5ab3b1c2",
   "metadata": {
    "execution": {
     "iopub.execute_input": "2023-11-08T17:59:17.657471Z",
     "iopub.status.busy": "2023-11-08T17:59:17.657036Z",
     "iopub.status.idle": "2023-11-08T17:59:17.663872Z",
     "shell.execute_reply": "2023-11-08T17:59:17.662894Z"
    },
    "papermill": {
     "duration": 0.076318,
     "end_time": "2023-11-08T17:59:17.665815",
     "exception": false,
     "start_time": "2023-11-08T17:59:17.589497",
     "status": "completed"
    },
    "tags": []
   },
   "outputs": [
    {
     "data": {
      "text/plain": [
       "int"
      ]
     },
     "execution_count": 13,
     "metadata": {},
     "output_type": "execute_result"
    }
   ],
   "source": [
    "type(b)"
   ]
  },
  {
   "cell_type": "code",
   "execution_count": 14,
   "id": "d92ad447",
   "metadata": {
    "execution": {
     "iopub.execute_input": "2023-11-08T17:59:17.799046Z",
     "iopub.status.busy": "2023-11-08T17:59:17.798437Z",
     "iopub.status.idle": "2023-11-08T17:59:17.803638Z",
     "shell.execute_reply": "2023-11-08T17:59:17.802964Z"
    },
    "papermill": {
     "duration": 0.073887,
     "end_time": "2023-11-08T17:59:17.805446",
     "exception": false,
     "start_time": "2023-11-08T17:59:17.731559",
     "status": "completed"
    },
    "tags": []
   },
   "outputs": [
    {
     "data": {
      "text/plain": [
       "6.0"
      ]
     },
     "execution_count": 14,
     "metadata": {},
     "output_type": "execute_result"
    }
   ],
   "source": [
    "c = float(b)\n",
    "c"
   ]
  },
  {
   "cell_type": "code",
   "execution_count": 15,
   "id": "8ac0071c",
   "metadata": {
    "execution": {
     "iopub.execute_input": "2023-11-08T17:59:17.945770Z",
     "iopub.status.busy": "2023-11-08T17:59:17.945123Z",
     "iopub.status.idle": "2023-11-08T17:59:17.950042Z",
     "shell.execute_reply": "2023-11-08T17:59:17.949400Z"
    },
    "papermill": {
     "duration": 0.078024,
     "end_time": "2023-11-08T17:59:17.951885",
     "exception": false,
     "start_time": "2023-11-08T17:59:17.873861",
     "status": "completed"
    },
    "tags": []
   },
   "outputs": [
    {
     "data": {
      "text/plain": [
       "float"
      ]
     },
     "execution_count": 15,
     "metadata": {},
     "output_type": "execute_result"
    }
   ],
   "source": [
    "type(c)"
   ]
  },
  {
   "cell_type": "code",
   "execution_count": 16,
   "id": "ddac7684",
   "metadata": {
    "execution": {
     "iopub.execute_input": "2023-11-08T17:59:18.091828Z",
     "iopub.status.busy": "2023-11-08T17:59:18.091203Z",
     "iopub.status.idle": "2023-11-08T17:59:18.097524Z",
     "shell.execute_reply": "2023-11-08T17:59:18.096517Z"
    },
    "papermill": {
     "duration": 0.07827,
     "end_time": "2023-11-08T17:59:18.099460",
     "exception": false,
     "start_time": "2023-11-08T17:59:18.021190",
     "status": "completed"
    },
    "tags": []
   },
   "outputs": [
    {
     "data": {
      "text/plain": [
       "'667'"
      ]
     },
     "execution_count": 16,
     "metadata": {},
     "output_type": "execute_result"
    }
   ],
   "source": [
    "g = \"66\"\n",
    "h = \"7\"\n",
    "\n",
    "g + h"
   ]
  },
  {
   "cell_type": "code",
   "execution_count": 17,
   "id": "ad9ad9d0",
   "metadata": {
    "execution": {
     "iopub.execute_input": "2023-11-08T17:59:18.240231Z",
     "iopub.status.busy": "2023-11-08T17:59:18.239547Z",
     "iopub.status.idle": "2023-11-08T17:59:18.246526Z",
     "shell.execute_reply": "2023-11-08T17:59:18.245686Z"
    },
    "papermill": {
     "duration": 0.08018,
     "end_time": "2023-11-08T17:59:18.248395",
     "exception": false,
     "start_time": "2023-11-08T17:59:18.168215",
     "status": "completed"
    },
    "tags": []
   },
   "outputs": [
    {
     "data": {
      "text/plain": [
       "73"
      ]
     },
     "execution_count": 17,
     "metadata": {},
     "output_type": "execute_result"
    }
   ],
   "source": [
    "i = 66\n",
    "j = 7\n",
    "i + j"
   ]
  },
  {
   "cell_type": "code",
   "execution_count": 18,
   "id": "f47728a6",
   "metadata": {
    "execution": {
     "iopub.execute_input": "2023-11-08T17:59:18.390552Z",
     "iopub.status.busy": "2023-11-08T17:59:18.389915Z",
     "iopub.status.idle": "2023-11-08T17:59:18.396386Z",
     "shell.execute_reply": "2023-11-08T17:59:18.394839Z"
    },
    "papermill": {
     "duration": 0.079085,
     "end_time": "2023-11-08T17:59:18.398978",
     "exception": false,
     "start_time": "2023-11-08T17:59:18.319893",
     "status": "completed"
    },
    "tags": []
   },
   "outputs": [
    {
     "data": {
      "text/plain": [
       "'667'"
      ]
     },
     "execution_count": 18,
     "metadata": {},
     "output_type": "execute_result"
    }
   ],
   "source": [
    "p = \"66\"\n",
    "q = 7\n",
    "# \"667\"\n",
    "p + str(q)"
   ]
  },
  {
   "cell_type": "code",
   "execution_count": 19,
   "id": "182ed45c",
   "metadata": {
    "execution": {
     "iopub.execute_input": "2023-11-08T17:59:18.627655Z",
     "iopub.status.busy": "2023-11-08T17:59:18.627237Z",
     "iopub.status.idle": "2023-11-08T17:59:18.634600Z",
     "shell.execute_reply": "2023-11-08T17:59:18.633546Z"
    },
    "papermill": {
     "duration": 0.08328,
     "end_time": "2023-11-08T17:59:18.637318",
     "exception": false,
     "start_time": "2023-11-08T17:59:18.554038",
     "status": "completed"
    },
    "tags": []
   },
   "outputs": [
    {
     "data": {
      "text/plain": [
       "73"
      ]
     },
     "execution_count": 19,
     "metadata": {},
     "output_type": "execute_result"
    }
   ],
   "source": [
    "p = \"66\"\n",
    "q = 7\n",
    "int(p) + q"
   ]
  },
  {
   "cell_type": "code",
   "execution_count": 20,
   "id": "a4ac52d2",
   "metadata": {
    "execution": {
     "iopub.execute_input": "2023-11-08T17:59:18.779952Z",
     "iopub.status.busy": "2023-11-08T17:59:18.778921Z",
     "iopub.status.idle": "2023-11-08T17:59:18.786992Z",
     "shell.execute_reply": "2023-11-08T17:59:18.785421Z"
    },
    "papermill": {
     "duration": 0.081709,
     "end_time": "2023-11-08T17:59:18.789257",
     "exception": false,
     "start_time": "2023-11-08T17:59:18.707548",
     "status": "completed"
    },
    "tags": []
   },
   "outputs": [
    {
     "data": {
      "text/plain": [
       "8"
      ]
     },
     "execution_count": 20,
     "metadata": {},
     "output_type": "execute_result"
    }
   ],
   "source": [
    "a = 7\n",
    "b = 8\n",
    "b"
   ]
  },
  {
   "cell_type": "code",
   "execution_count": 21,
   "id": "843fea35",
   "metadata": {
    "execution": {
     "iopub.execute_input": "2023-11-08T17:59:18.933249Z",
     "iopub.status.busy": "2023-11-08T17:59:18.932691Z",
     "iopub.status.idle": "2023-11-08T17:59:18.939523Z",
     "shell.execute_reply": "2023-11-08T17:59:18.937923Z"
    },
    "papermill": {
     "duration": 0.080667,
     "end_time": "2023-11-08T17:59:18.942457",
     "exception": false,
     "start_time": "2023-11-08T17:59:18.861790",
     "status": "completed"
    },
    "tags": []
   },
   "outputs": [
    {
     "data": {
      "text/plain": [
       "8"
      ]
     },
     "execution_count": 21,
     "metadata": {},
     "output_type": "execute_result"
    }
   ],
   "source": [
    "a,b = 7,8\n",
    "b"
   ]
  },
  {
   "cell_type": "code",
   "execution_count": 22,
   "id": "cdb25560",
   "metadata": {
    "execution": {
     "iopub.execute_input": "2023-11-08T17:59:19.085275Z",
     "iopub.status.busy": "2023-11-08T17:59:19.084581Z",
     "iopub.status.idle": "2023-11-08T17:59:19.091335Z",
     "shell.execute_reply": "2023-11-08T17:59:19.090121Z"
    },
    "papermill": {
     "duration": 0.081281,
     "end_time": "2023-11-08T17:59:19.094500",
     "exception": false,
     "start_time": "2023-11-08T17:59:19.013219",
     "status": "completed"
    },
    "tags": []
   },
   "outputs": [
    {
     "data": {
      "text/plain": [
       "7"
      ]
     },
     "execution_count": 22,
     "metadata": {},
     "output_type": "execute_result"
    }
   ],
   "source": [
    "abhi7 = 7\n",
    "abhi7"
   ]
  },
  {
   "cell_type": "code",
   "execution_count": 23,
   "id": "387749f4",
   "metadata": {
    "execution": {
     "iopub.execute_input": "2023-11-08T17:59:19.237890Z",
     "iopub.status.busy": "2023-11-08T17:59:19.237525Z",
     "iopub.status.idle": "2023-11-08T17:59:19.243507Z",
     "shell.execute_reply": "2023-11-08T17:59:19.242179Z"
    },
    "papermill": {
     "duration": 0.080793,
     "end_time": "2023-11-08T17:59:19.245788",
     "exception": false,
     "start_time": "2023-11-08T17:59:19.164995",
     "status": "completed"
    },
    "tags": []
   },
   "outputs": [
    {
     "name": "stdout",
     "output_type": "stream",
     "text": [
      "Sally\n"
     ]
    }
   ],
   "source": [
    "x = 4       # x is of type int\n",
    "x = \"Sally\" # x is now of type str\n",
    "print(x)"
   ]
  },
  {
   "cell_type": "code",
   "execution_count": 24,
   "id": "555848d4",
   "metadata": {
    "execution": {
     "iopub.execute_input": "2023-11-08T17:59:19.392602Z",
     "iopub.status.busy": "2023-11-08T17:59:19.392237Z",
     "iopub.status.idle": "2023-11-08T17:59:19.398399Z",
     "shell.execute_reply": "2023-11-08T17:59:19.396906Z"
    },
    "papermill": {
     "duration": 0.082981,
     "end_time": "2023-11-08T17:59:19.400910",
     "exception": false,
     "start_time": "2023-11-08T17:59:19.317929",
     "status": "completed"
    },
    "tags": []
   },
   "outputs": [
    {
     "name": "stdout",
     "output_type": "stream",
     "text": [
      "4\n"
     ]
    }
   ],
   "source": [
    "x = 4       # x is of type int\n",
    "print(x)\n",
    "x = \"Sally\" # x is now of type str\n"
   ]
  },
  {
   "cell_type": "code",
   "execution_count": 25,
   "id": "6022e18a",
   "metadata": {
    "execution": {
     "iopub.execute_input": "2023-11-08T17:59:19.547680Z",
     "iopub.status.busy": "2023-11-08T17:59:19.547269Z",
     "iopub.status.idle": "2023-11-08T17:59:19.553315Z",
     "shell.execute_reply": "2023-11-08T17:59:19.551938Z"
    },
    "papermill": {
     "duration": 0.082981,
     "end_time": "2023-11-08T17:59:19.555622",
     "exception": false,
     "start_time": "2023-11-08T17:59:19.472641",
     "status": "completed"
    },
    "tags": []
   },
   "outputs": [
    {
     "name": "stdout",
     "output_type": "stream",
     "text": [
      "7\n"
     ]
    }
   ],
   "source": [
    "# o/p\n",
    "a= 7\n",
    "print(a)"
   ]
  },
  {
   "cell_type": "code",
   "execution_count": 26,
   "id": "51532312",
   "metadata": {
    "execution": {
     "iopub.execute_input": "2023-11-08T17:59:19.699942Z",
     "iopub.status.busy": "2023-11-08T17:59:19.699541Z",
     "iopub.status.idle": "2023-11-08T17:59:19.705360Z",
     "shell.execute_reply": "2023-11-08T17:59:19.703553Z"
    },
    "papermill": {
     "duration": 0.081526,
     "end_time": "2023-11-08T17:59:19.708257",
     "exception": false,
     "start_time": "2023-11-08T17:59:19.626731",
     "status": "completed"
    },
    "tags": []
   },
   "outputs": [],
   "source": [
    "# a = int(input())\n",
    "# print(a+1)"
   ]
  },
  {
   "cell_type": "code",
   "execution_count": 27,
   "id": "b21ac058",
   "metadata": {
    "execution": {
     "iopub.execute_input": "2023-11-08T17:59:19.854329Z",
     "iopub.status.busy": "2023-11-08T17:59:19.853950Z",
     "iopub.status.idle": "2023-11-08T17:59:19.861247Z",
     "shell.execute_reply": "2023-11-08T17:59:19.859716Z"
    },
    "papermill": {
     "duration": 0.083309,
     "end_time": "2023-11-08T17:59:19.863903",
     "exception": false,
     "start_time": "2023-11-08T17:59:19.780594",
     "status": "completed"
    },
    "tags": []
   },
   "outputs": [
    {
     "data": {
      "text/plain": [
       "13"
      ]
     },
     "execution_count": 27,
     "metadata": {},
     "output_type": "execute_result"
    }
   ],
   "source": [
    "a = 6 + 7\n",
    "a"
   ]
  },
  {
   "cell_type": "code",
   "execution_count": 28,
   "id": "bf945292",
   "metadata": {
    "execution": {
     "iopub.execute_input": "2023-11-08T17:59:20.006003Z",
     "iopub.status.busy": "2023-11-08T17:59:20.005581Z",
     "iopub.status.idle": "2023-11-08T17:59:20.013020Z",
     "shell.execute_reply": "2023-11-08T17:59:20.011945Z"
    },
    "papermill": {
     "duration": 0.082355,
     "end_time": "2023-11-08T17:59:20.015256",
     "exception": false,
     "start_time": "2023-11-08T17:59:19.932901",
     "status": "completed"
    },
    "tags": []
   },
   "outputs": [
    {
     "data": {
      "text/plain": [
       "'da50'"
      ]
     },
     "execution_count": 28,
     "metadata": {},
     "output_type": "execute_result"
    }
   ],
   "source": [
    "b = \"da\" + str(50)\n",
    "b"
   ]
  },
  {
   "cell_type": "code",
   "execution_count": 29,
   "id": "06af541a",
   "metadata": {
    "execution": {
     "iopub.execute_input": "2023-11-08T17:59:20.159232Z",
     "iopub.status.busy": "2023-11-08T17:59:20.158780Z",
     "iopub.status.idle": "2023-11-08T17:59:20.165093Z",
     "shell.execute_reply": "2023-11-08T17:59:20.163382Z"
    },
    "papermill": {
     "duration": 0.081806,
     "end_time": "2023-11-08T17:59:20.168249",
     "exception": false,
     "start_time": "2023-11-08T17:59:20.086443",
     "status": "completed"
    },
    "tags": []
   },
   "outputs": [
    {
     "name": "stdout",
     "output_type": "stream",
     "text": [
      "5 John\n"
     ]
    }
   ],
   "source": [
    "x = 5\n",
    "y = \"John\"\n",
    "print(x, y)"
   ]
  },
  {
   "cell_type": "code",
   "execution_count": 30,
   "id": "22d2bc15",
   "metadata": {
    "execution": {
     "iopub.execute_input": "2023-11-08T17:59:20.311885Z",
     "iopub.status.busy": "2023-11-08T17:59:20.311502Z",
     "iopub.status.idle": "2023-11-08T17:59:20.315403Z",
     "shell.execute_reply": "2023-11-08T17:59:20.314648Z"
    },
    "papermill": {
     "duration": 0.078578,
     "end_time": "2023-11-08T17:59:20.317105",
     "exception": false,
     "start_time": "2023-11-08T17:59:20.238527",
     "status": "completed"
    },
    "tags": []
   },
   "outputs": [],
   "source": [
    "a = 6 \n",
    "a = 7"
   ]
  },
  {
   "cell_type": "markdown",
   "id": "18bc807a",
   "metadata": {
    "papermill": {
     "duration": 0.070396,
     "end_time": "2023-11-08T17:59:20.459837",
     "exception": false,
     "start_time": "2023-11-08T17:59:20.389441",
     "status": "completed"
    },
    "tags": []
   },
   "source": [
    "# data  structures\n"
   ]
  },
  {
   "cell_type": "markdown",
   "id": "a79d6f1c",
   "metadata": {
    "papermill": {
     "duration": 0.074479,
     "end_time": "2023-11-08T17:59:20.603043",
     "exception": false,
     "start_time": "2023-11-08T17:59:20.528564",
     "status": "completed"
    },
    "tags": []
   },
   "source": [
    "# List  [ ] "
   ]
  },
  {
   "cell_type": "code",
   "execution_count": 31,
   "id": "22dc3985",
   "metadata": {
    "execution": {
     "iopub.execute_input": "2023-11-08T17:59:20.750937Z",
     "iopub.status.busy": "2023-11-08T17:59:20.750169Z",
     "iopub.status.idle": "2023-11-08T17:59:20.757024Z",
     "shell.execute_reply": "2023-11-08T17:59:20.755790Z"
    },
    "papermill": {
     "duration": 0.082769,
     "end_time": "2023-11-08T17:59:20.759665",
     "exception": false,
     "start_time": "2023-11-08T17:59:20.676896",
     "status": "completed"
    },
    "tags": []
   },
   "outputs": [
    {
     "data": {
      "text/plain": [
       "11"
      ]
     },
     "execution_count": 31,
     "metadata": {},
     "output_type": "execute_result"
    }
   ],
   "source": [
    "a = [11,28,34,45,57]\n",
    "a[0]\n",
    "\n"
   ]
  },
  {
   "cell_type": "code",
   "execution_count": 32,
   "id": "7b266328",
   "metadata": {
    "execution": {
     "iopub.execute_input": "2023-11-08T17:59:20.909795Z",
     "iopub.status.busy": "2023-11-08T17:59:20.909359Z",
     "iopub.status.idle": "2023-11-08T17:59:20.916275Z",
     "shell.execute_reply": "2023-11-08T17:59:20.915111Z"
    },
    "papermill": {
     "duration": 0.084374,
     "end_time": "2023-11-08T17:59:20.918346",
     "exception": false,
     "start_time": "2023-11-08T17:59:20.833972",
     "status": "completed"
    },
    "tags": []
   },
   "outputs": [
    {
     "data": {
      "text/plain": [
       "57"
      ]
     },
     "execution_count": 32,
     "metadata": {},
     "output_type": "execute_result"
    }
   ],
   "source": [
    "a[4]"
   ]
  },
  {
   "cell_type": "code",
   "execution_count": 33,
   "id": "1095d987",
   "metadata": {
    "execution": {
     "iopub.execute_input": "2023-11-08T17:59:21.067884Z",
     "iopub.status.busy": "2023-11-08T17:59:21.067440Z",
     "iopub.status.idle": "2023-11-08T17:59:21.074465Z",
     "shell.execute_reply": "2023-11-08T17:59:21.073470Z"
    },
    "papermill": {
     "duration": 0.084532,
     "end_time": "2023-11-08T17:59:21.076516",
     "exception": false,
     "start_time": "2023-11-08T17:59:20.991984",
     "status": "completed"
    },
    "tags": []
   },
   "outputs": [
    {
     "data": {
      "text/plain": [
       "[11, 28, 34, 45, 57]"
      ]
     },
     "execution_count": 33,
     "metadata": {},
     "output_type": "execute_result"
    }
   ],
   "source": [
    "a"
   ]
  },
  {
   "cell_type": "code",
   "execution_count": 34,
   "id": "ae60d68d",
   "metadata": {
    "execution": {
     "iopub.execute_input": "2023-11-08T17:59:21.231515Z",
     "iopub.status.busy": "2023-11-08T17:59:21.231093Z",
     "iopub.status.idle": "2023-11-08T17:59:21.239562Z",
     "shell.execute_reply": "2023-11-08T17:59:21.237865Z"
    },
    "papermill": {
     "duration": 0.091303,
     "end_time": "2023-11-08T17:59:21.242677",
     "exception": false,
     "start_time": "2023-11-08T17:59:21.151374",
     "status": "completed"
    },
    "tags": []
   },
   "outputs": [
    {
     "data": {
      "text/plain": [
       "57"
      ]
     },
     "execution_count": 34,
     "metadata": {},
     "output_type": "execute_result"
    }
   ],
   "source": [
    "a[-1]"
   ]
  },
  {
   "cell_type": "code",
   "execution_count": 35,
   "id": "836f91a4",
   "metadata": {
    "execution": {
     "iopub.execute_input": "2023-11-08T17:59:21.398536Z",
     "iopub.status.busy": "2023-11-08T17:59:21.398163Z",
     "iopub.status.idle": "2023-11-08T17:59:21.404402Z",
     "shell.execute_reply": "2023-11-08T17:59:21.403469Z"
    },
    "papermill": {
     "duration": 0.085352,
     "end_time": "2023-11-08T17:59:21.407190",
     "exception": false,
     "start_time": "2023-11-08T17:59:21.321838",
     "status": "completed"
    },
    "tags": []
   },
   "outputs": [
    {
     "data": {
      "text/plain": [
       "11"
      ]
     },
     "execution_count": 35,
     "metadata": {},
     "output_type": "execute_result"
    }
   ],
   "source": [
    "a[-5]"
   ]
  },
  {
   "cell_type": "code",
   "execution_count": 36,
   "id": "9b138dec",
   "metadata": {
    "execution": {
     "iopub.execute_input": "2023-11-08T17:59:21.557378Z",
     "iopub.status.busy": "2023-11-08T17:59:21.556990Z",
     "iopub.status.idle": "2023-11-08T17:59:21.564118Z",
     "shell.execute_reply": "2023-11-08T17:59:21.562080Z"
    },
    "papermill": {
     "duration": 0.086487,
     "end_time": "2023-11-08T17:59:21.567367",
     "exception": false,
     "start_time": "2023-11-08T17:59:21.480880",
     "status": "completed"
    },
    "tags": []
   },
   "outputs": [
    {
     "data": {
      "text/plain": [
       "[28, 34, 45]"
      ]
     },
     "execution_count": 36,
     "metadata": {},
     "output_type": "execute_result"
    }
   ],
   "source": [
    "a[1:4]"
   ]
  },
  {
   "cell_type": "code",
   "execution_count": 37,
   "id": "58a13737",
   "metadata": {
    "execution": {
     "iopub.execute_input": "2023-11-08T17:59:21.713939Z",
     "iopub.status.busy": "2023-11-08T17:59:21.713541Z",
     "iopub.status.idle": "2023-11-08T17:59:21.720422Z",
     "shell.execute_reply": "2023-11-08T17:59:21.718572Z"
    },
    "papermill": {
     "duration": 0.083695,
     "end_time": "2023-11-08T17:59:21.723403",
     "exception": false,
     "start_time": "2023-11-08T17:59:21.639708",
     "status": "completed"
    },
    "tags": []
   },
   "outputs": [],
   "source": [
    "a = [10,20,30,40 ,50,60,70,80,90]"
   ]
  },
  {
   "cell_type": "code",
   "execution_count": 38,
   "id": "d67db13a",
   "metadata": {
    "execution": {
     "iopub.execute_input": "2023-11-08T17:59:21.887742Z",
     "iopub.status.busy": "2023-11-08T17:59:21.886989Z",
     "iopub.status.idle": "2023-11-08T17:59:21.894969Z",
     "shell.execute_reply": "2023-11-08T17:59:21.893848Z"
    },
    "papermill": {
     "duration": 0.097943,
     "end_time": "2023-11-08T17:59:21.897749",
     "exception": false,
     "start_time": "2023-11-08T17:59:21.799806",
     "status": "completed"
    },
    "tags": []
   },
   "outputs": [
    {
     "data": {
      "text/plain": [
       "[20, 30, 40, 50, 60, 70, 80]"
      ]
     },
     "execution_count": 38,
     "metadata": {},
     "output_type": "execute_result"
    }
   ],
   "source": [
    "# 2 property index - list = zero -index \n",
    "a[1:8]"
   ]
  },
  {
   "cell_type": "code",
   "execution_count": 39,
   "id": "aa5590cb",
   "metadata": {
    "execution": {
     "iopub.execute_input": "2023-11-08T17:59:22.047947Z",
     "iopub.status.busy": "2023-11-08T17:59:22.047563Z",
     "iopub.status.idle": "2023-11-08T17:59:22.053928Z",
     "shell.execute_reply": "2023-11-08T17:59:22.052361Z"
    },
    "papermill": {
     "duration": 0.083059,
     "end_time": "2023-11-08T17:59:22.055985",
     "exception": false,
     "start_time": "2023-11-08T17:59:21.972926",
     "status": "completed"
    },
    "tags": []
   },
   "outputs": [
    {
     "data": {
      "text/plain": [
       "[20, 40, 60, 80]"
      ]
     },
     "execution_count": 39,
     "metadata": {},
     "output_type": "execute_result"
    }
   ],
   "source": [
    "a[1:8:2]"
   ]
  },
  {
   "cell_type": "code",
   "execution_count": 40,
   "id": "b430d844",
   "metadata": {
    "execution": {
     "iopub.execute_input": "2023-11-08T17:59:22.204984Z",
     "iopub.status.busy": "2023-11-08T17:59:22.204649Z",
     "iopub.status.idle": "2023-11-08T17:59:22.212466Z",
     "shell.execute_reply": "2023-11-08T17:59:22.211243Z"
    },
    "papermill": {
     "duration": 0.088581,
     "end_time": "2023-11-08T17:59:22.217458",
     "exception": false,
     "start_time": "2023-11-08T17:59:22.128877",
     "status": "completed"
    },
    "tags": []
   },
   "outputs": [
    {
     "data": {
      "text/plain": [
       "[20, 50, 80]"
      ]
     },
     "execution_count": 40,
     "metadata": {},
     "output_type": "execute_result"
    }
   ],
   "source": [
    "a[1:-1:3]"
   ]
  },
  {
   "cell_type": "code",
   "execution_count": 41,
   "id": "cd2f6f6d",
   "metadata": {
    "execution": {
     "iopub.execute_input": "2023-11-08T17:59:22.365809Z",
     "iopub.status.busy": "2023-11-08T17:59:22.365444Z",
     "iopub.status.idle": "2023-11-08T17:59:22.372619Z",
     "shell.execute_reply": "2023-11-08T17:59:22.371694Z"
    },
    "papermill": {
     "duration": 0.085322,
     "end_time": "2023-11-08T17:59:22.375533",
     "exception": false,
     "start_time": "2023-11-08T17:59:22.290211",
     "status": "completed"
    },
    "tags": []
   },
   "outputs": [
    {
     "data": {
      "text/plain": [
       "[10, 20, 30, 40, 50, 60, 70, 80, 90]"
      ]
     },
     "execution_count": 41,
     "metadata": {},
     "output_type": "execute_result"
    }
   ],
   "source": [
    "# property of 1 of list \n",
    "# mutabilty\n",
    "\n",
    "a "
   ]
  },
  {
   "cell_type": "code",
   "execution_count": 42,
   "id": "0aa8fe9e",
   "metadata": {
    "execution": {
     "iopub.execute_input": "2023-11-08T17:59:22.526376Z",
     "iopub.status.busy": "2023-11-08T17:59:22.525743Z",
     "iopub.status.idle": "2023-11-08T17:59:22.534961Z",
     "shell.execute_reply": "2023-11-08T17:59:22.533565Z"
    },
    "papermill": {
     "duration": 0.089492,
     "end_time": "2023-11-08T17:59:22.538208",
     "exception": false,
     "start_time": "2023-11-08T17:59:22.448716",
     "status": "completed"
    },
    "tags": []
   },
   "outputs": [
    {
     "data": {
      "text/plain": [
       "10"
      ]
     },
     "execution_count": 42,
     "metadata": {},
     "output_type": "execute_result"
    }
   ],
   "source": [
    "a[0]"
   ]
  },
  {
   "cell_type": "code",
   "execution_count": 43,
   "id": "fc148d32",
   "metadata": {
    "execution": {
     "iopub.execute_input": "2023-11-08T17:59:22.689993Z",
     "iopub.status.busy": "2023-11-08T17:59:22.689578Z",
     "iopub.status.idle": "2023-11-08T17:59:22.699881Z",
     "shell.execute_reply": "2023-11-08T17:59:22.697945Z"
    },
    "papermill": {
     "duration": 0.088714,
     "end_time": "2023-11-08T17:59:22.702802",
     "exception": false,
     "start_time": "2023-11-08T17:59:22.614088",
     "status": "completed"
    },
    "tags": []
   },
   "outputs": [
    {
     "data": {
      "text/plain": [
       "[900, 20, 30, 40, 50, 60, 70, 80, 90]"
      ]
     },
     "execution_count": 43,
     "metadata": {},
     "output_type": "execute_result"
    }
   ],
   "source": [
    "a[0] = 900\n",
    "a"
   ]
  },
  {
   "cell_type": "code",
   "execution_count": 44,
   "id": "f23b2e21",
   "metadata": {
    "execution": {
     "iopub.execute_input": "2023-11-08T17:59:22.857310Z",
     "iopub.status.busy": "2023-11-08T17:59:22.856507Z",
     "iopub.status.idle": "2023-11-08T17:59:22.863148Z",
     "shell.execute_reply": "2023-11-08T17:59:22.861852Z"
    },
    "papermill": {
     "duration": 0.088852,
     "end_time": "2023-11-08T17:59:22.865833",
     "exception": false,
     "start_time": "2023-11-08T17:59:22.776981",
     "status": "completed"
    },
    "tags": []
   },
   "outputs": [
    {
     "data": {
      "text/plain": [
       "list"
      ]
     },
     "execution_count": 44,
     "metadata": {},
     "output_type": "execute_result"
    }
   ],
   "source": [
    "type(a)"
   ]
  },
  {
   "cell_type": "markdown",
   "id": "6e2db6af",
   "metadata": {
    "papermill": {
     "duration": 0.154519,
     "end_time": "2023-11-08T17:59:23.094221",
     "exception": false,
     "start_time": "2023-11-08T17:59:22.939702",
     "status": "completed"
    },
    "tags": []
   },
   "source": [
    "# tuple  (  )"
   ]
  },
  {
   "cell_type": "code",
   "execution_count": 45,
   "id": "229fd5ed",
   "metadata": {
    "execution": {
     "iopub.execute_input": "2023-11-08T17:59:23.241581Z",
     "iopub.status.busy": "2023-11-08T17:59:23.240807Z",
     "iopub.status.idle": "2023-11-08T17:59:23.246941Z",
     "shell.execute_reply": "2023-11-08T17:59:23.245791Z"
    },
    "papermill": {
     "duration": 0.083369,
     "end_time": "2023-11-08T17:59:23.249592",
     "exception": false,
     "start_time": "2023-11-08T17:59:23.166223",
     "status": "completed"
    },
    "tags": []
   },
   "outputs": [
    {
     "data": {
      "text/plain": [
       "10"
      ]
     },
     "execution_count": 45,
     "metadata": {},
     "output_type": "execute_result"
    }
   ],
   "source": [
    "b = (10,20,30,40,50)\n",
    "b[0]"
   ]
  },
  {
   "cell_type": "code",
   "execution_count": 46,
   "id": "d89300f3",
   "metadata": {
    "execution": {
     "iopub.execute_input": "2023-11-08T17:59:23.397461Z",
     "iopub.status.busy": "2023-11-08T17:59:23.397019Z",
     "iopub.status.idle": "2023-11-08T17:59:23.403237Z",
     "shell.execute_reply": "2023-11-08T17:59:23.401904Z"
    },
    "papermill": {
     "duration": 0.081934,
     "end_time": "2023-11-08T17:59:23.405979",
     "exception": false,
     "start_time": "2023-11-08T17:59:23.324045",
     "status": "completed"
    },
    "tags": []
   },
   "outputs": [
    {
     "data": {
      "text/plain": [
       "tuple"
      ]
     },
     "execution_count": 46,
     "metadata": {},
     "output_type": "execute_result"
    }
   ],
   "source": [
    "type(b)"
   ]
  },
  {
   "cell_type": "code",
   "execution_count": 47,
   "id": "3e96072a",
   "metadata": {
    "execution": {
     "iopub.execute_input": "2023-11-08T17:59:23.549920Z",
     "iopub.status.busy": "2023-11-08T17:59:23.549479Z",
     "iopub.status.idle": "2023-11-08T17:59:23.555480Z",
     "shell.execute_reply": "2023-11-08T17:59:23.554775Z"
    },
    "papermill": {
     "duration": 0.079937,
     "end_time": "2023-11-08T17:59:23.557213",
     "exception": false,
     "start_time": "2023-11-08T17:59:23.477276",
     "status": "completed"
    },
    "tags": []
   },
   "outputs": [
    {
     "data": {
      "text/plain": [
       "50"
      ]
     },
     "execution_count": 47,
     "metadata": {},
     "output_type": "execute_result"
    }
   ],
   "source": [
    "b[4]"
   ]
  },
  {
   "cell_type": "code",
   "execution_count": 48,
   "id": "5b49a832",
   "metadata": {
    "execution": {
     "iopub.execute_input": "2023-11-08T17:59:23.703871Z",
     "iopub.status.busy": "2023-11-08T17:59:23.703404Z",
     "iopub.status.idle": "2023-11-08T17:59:23.710974Z",
     "shell.execute_reply": "2023-11-08T17:59:23.709276Z"
    },
    "papermill": {
     "duration": 0.084204,
     "end_time": "2023-11-08T17:59:23.713928",
     "exception": false,
     "start_time": "2023-11-08T17:59:23.629724",
     "status": "completed"
    },
    "tags": []
   },
   "outputs": [
    {
     "data": {
      "text/plain": [
       "50"
      ]
     },
     "execution_count": 48,
     "metadata": {},
     "output_type": "execute_result"
    }
   ],
   "source": [
    "b[-1]"
   ]
  },
  {
   "cell_type": "code",
   "execution_count": 49,
   "id": "e2778b07",
   "metadata": {
    "execution": {
     "iopub.execute_input": "2023-11-08T17:59:23.860830Z",
     "iopub.status.busy": "2023-11-08T17:59:23.860436Z",
     "iopub.status.idle": "2023-11-08T17:59:23.866310Z",
     "shell.execute_reply": "2023-11-08T17:59:23.864833Z"
    },
    "papermill": {
     "duration": 0.08248,
     "end_time": "2023-11-08T17:59:23.868992",
     "exception": false,
     "start_time": "2023-11-08T17:59:23.786512",
     "status": "completed"
    },
    "tags": []
   },
   "outputs": [],
   "source": [
    "# property 2 of tuple - zero index "
   ]
  },
  {
   "cell_type": "code",
   "execution_count": 50,
   "id": "cf9c846c",
   "metadata": {
    "execution": {
     "iopub.execute_input": "2023-11-08T17:59:24.012361Z",
     "iopub.status.busy": "2023-11-08T17:59:24.011952Z",
     "iopub.status.idle": "2023-11-08T17:59:24.016758Z",
     "shell.execute_reply": "2023-11-08T17:59:24.015418Z"
    },
    "papermill": {
     "duration": 0.079766,
     "end_time": "2023-11-08T17:59:24.019332",
     "exception": false,
     "start_time": "2023-11-08T17:59:23.939566",
     "status": "completed"
    },
    "tags": []
   },
   "outputs": [],
   "source": [
    "# b[0] = 10"
   ]
  },
  {
   "cell_type": "code",
   "execution_count": 51,
   "id": "4844474c",
   "metadata": {
    "execution": {
     "iopub.execute_input": "2023-11-08T17:59:24.164619Z",
     "iopub.status.busy": "2023-11-08T17:59:24.163916Z",
     "iopub.status.idle": "2023-11-08T17:59:24.168710Z",
     "shell.execute_reply": "2023-11-08T17:59:24.167496Z"
    },
    "papermill": {
     "duration": 0.079603,
     "end_time": "2023-11-08T17:59:24.171806",
     "exception": false,
     "start_time": "2023-11-08T17:59:24.092203",
     "status": "completed"
    },
    "tags": []
   },
   "outputs": [],
   "source": [
    "# property immutabilty - ypu cant change elements in a list"
   ]
  },
  {
   "cell_type": "code",
   "execution_count": 52,
   "id": "a1d7b261",
   "metadata": {
    "execution": {
     "iopub.execute_input": "2023-11-08T17:59:24.319742Z",
     "iopub.status.busy": "2023-11-08T17:59:24.319307Z",
     "iopub.status.idle": "2023-11-08T17:59:24.323790Z",
     "shell.execute_reply": "2023-11-08T17:59:24.322531Z"
    },
    "papermill": {
     "duration": 0.08101,
     "end_time": "2023-11-08T17:59:24.325720",
     "exception": false,
     "start_time": "2023-11-08T17:59:24.244710",
     "status": "completed"
    },
    "tags": []
   },
   "outputs": [],
   "source": [
    "# set "
   ]
  },
  {
   "cell_type": "markdown",
   "id": "5cf8bcf8",
   "metadata": {
    "papermill": {
     "duration": 0.071199,
     "end_time": "2023-11-08T17:59:24.468848",
     "exception": false,
     "start_time": "2023-11-08T17:59:24.397649",
     "status": "completed"
    },
    "tags": []
   },
   "source": [
    "{ }"
   ]
  },
  {
   "cell_type": "code",
   "execution_count": 53,
   "id": "6f65f50c",
   "metadata": {
    "execution": {
     "iopub.execute_input": "2023-11-08T17:59:24.613346Z",
     "iopub.status.busy": "2023-11-08T17:59:24.612852Z",
     "iopub.status.idle": "2023-11-08T17:59:24.617589Z",
     "shell.execute_reply": "2023-11-08T17:59:24.616304Z"
    },
    "papermill": {
     "duration": 0.080496,
     "end_time": "2023-11-08T17:59:24.619516",
     "exception": false,
     "start_time": "2023-11-08T17:59:24.539020",
     "status": "completed"
    },
    "tags": []
   },
   "outputs": [],
   "source": [
    "c = {10,20,30,40}"
   ]
  },
  {
   "cell_type": "code",
   "execution_count": 54,
   "id": "3b8b5087",
   "metadata": {
    "execution": {
     "iopub.execute_input": "2023-11-08T17:59:24.765056Z",
     "iopub.status.busy": "2023-11-08T17:59:24.764425Z",
     "iopub.status.idle": "2023-11-08T17:59:24.771213Z",
     "shell.execute_reply": "2023-11-08T17:59:24.770018Z"
    },
    "papermill": {
     "duration": 0.082467,
     "end_time": "2023-11-08T17:59:24.773233",
     "exception": false,
     "start_time": "2023-11-08T17:59:24.690766",
     "status": "completed"
    },
    "tags": []
   },
   "outputs": [
    {
     "data": {
      "text/plain": [
       "{10, 20, 30, 40}"
      ]
     },
     "execution_count": 54,
     "metadata": {},
     "output_type": "execute_result"
    }
   ],
   "source": [
    "c"
   ]
  },
  {
   "cell_type": "code",
   "execution_count": 55,
   "id": "92267329",
   "metadata": {
    "execution": {
     "iopub.execute_input": "2023-11-08T17:59:24.919156Z",
     "iopub.status.busy": "2023-11-08T17:59:24.918725Z",
     "iopub.status.idle": "2023-11-08T17:59:24.924094Z",
     "shell.execute_reply": "2023-11-08T17:59:24.922701Z"
    },
    "papermill": {
     "duration": 0.082856,
     "end_time": "2023-11-08T17:59:24.926830",
     "exception": false,
     "start_time": "2023-11-08T17:59:24.843974",
     "status": "completed"
    },
    "tags": []
   },
   "outputs": [],
   "source": [
    "d = {10,20,10,20}"
   ]
  },
  {
   "cell_type": "code",
   "execution_count": 56,
   "id": "d92ac269",
   "metadata": {
    "execution": {
     "iopub.execute_input": "2023-11-08T17:59:25.070251Z",
     "iopub.status.busy": "2023-11-08T17:59:25.069816Z",
     "iopub.status.idle": "2023-11-08T17:59:25.077013Z",
     "shell.execute_reply": "2023-11-08T17:59:25.075851Z"
    },
    "papermill": {
     "duration": 0.080582,
     "end_time": "2023-11-08T17:59:25.079075",
     "exception": false,
     "start_time": "2023-11-08T17:59:24.998493",
     "status": "completed"
    },
    "tags": []
   },
   "outputs": [
    {
     "data": {
      "text/plain": [
       "{10, 20}"
      ]
     },
     "execution_count": 56,
     "metadata": {},
     "output_type": "execute_result"
    }
   ],
   "source": [
    "d"
   ]
  },
  {
   "cell_type": "code",
   "execution_count": 57,
   "id": "f5c4300d",
   "metadata": {
    "execution": {
     "iopub.execute_input": "2023-11-08T17:59:25.222568Z",
     "iopub.status.busy": "2023-11-08T17:59:25.222210Z",
     "iopub.status.idle": "2023-11-08T17:59:25.226038Z",
     "shell.execute_reply": "2023-11-08T17:59:25.225186Z"
    },
    "papermill": {
     "duration": 0.077878,
     "end_time": "2023-11-08T17:59:25.227869",
     "exception": false,
     "start_time": "2023-11-08T17:59:25.149991",
     "status": "completed"
    },
    "tags": []
   },
   "outputs": [],
   "source": [
    "# # property 1 \n",
    "\n",
    "# unique elements only "
   ]
  },
  {
   "cell_type": "code",
   "execution_count": 58,
   "id": "3a5407ef",
   "metadata": {
    "execution": {
     "iopub.execute_input": "2023-11-08T17:59:25.370041Z",
     "iopub.status.busy": "2023-11-08T17:59:25.369678Z",
     "iopub.status.idle": "2023-11-08T17:59:25.376312Z",
     "shell.execute_reply": "2023-11-08T17:59:25.375197Z"
    },
    "papermill": {
     "duration": 0.080192,
     "end_time": "2023-11-08T17:59:25.378768",
     "exception": false,
     "start_time": "2023-11-08T17:59:25.298576",
     "status": "completed"
    },
    "tags": []
   },
   "outputs": [
    {
     "data": {
      "text/plain": [
       "{10, 20}"
      ]
     },
     "execution_count": 58,
     "metadata": {},
     "output_type": "execute_result"
    }
   ],
   "source": [
    "# property \n",
    "# there is no index in set \n",
    "\n",
    "d"
   ]
  },
  {
   "cell_type": "code",
   "execution_count": 59,
   "id": "3ceabe88",
   "metadata": {
    "execution": {
     "iopub.execute_input": "2023-11-08T17:59:25.522296Z",
     "iopub.status.busy": "2023-11-08T17:59:25.521813Z",
     "iopub.status.idle": "2023-11-08T17:59:25.526985Z",
     "shell.execute_reply": "2023-11-08T17:59:25.525814Z"
    },
    "papermill": {
     "duration": 0.079921,
     "end_time": "2023-11-08T17:59:25.529029",
     "exception": false,
     "start_time": "2023-11-08T17:59:25.449108",
     "status": "completed"
    },
    "tags": []
   },
   "outputs": [],
   "source": [
    "# d[0]"
   ]
  },
  {
   "cell_type": "markdown",
   "id": "e21abcce",
   "metadata": {
    "papermill": {
     "duration": 0.071703,
     "end_time": "2023-11-08T17:59:25.672052",
     "exception": false,
     "start_time": "2023-11-08T17:59:25.600349",
     "status": "completed"
    },
    "tags": []
   },
   "source": [
    "# dictionary  ( ) "
   ]
  },
  {
   "cell_type": "code",
   "execution_count": 60,
   "id": "9fde3f87",
   "metadata": {
    "execution": {
     "iopub.execute_input": "2023-11-08T17:59:25.820078Z",
     "iopub.status.busy": "2023-11-08T17:59:25.818993Z",
     "iopub.status.idle": "2023-11-08T17:59:25.824588Z",
     "shell.execute_reply": "2023-11-08T17:59:25.823715Z"
    },
    "papermill": {
     "duration": 0.082036,
     "end_time": "2023-11-08T17:59:25.826728",
     "exception": false,
     "start_time": "2023-11-08T17:59:25.744692",
     "status": "completed"
    },
    "tags": []
   },
   "outputs": [],
   "source": [
    "t = { \"beautiful\"   : \"swapna is a beautiful women\",\n",
    "    \"smart\" : \"tayyab is a smart person\",\n",
    "    \"clever\" : \"parth is clever\"}"
   ]
  },
  {
   "cell_type": "code",
   "execution_count": 61,
   "id": "3702846d",
   "metadata": {
    "execution": {
     "iopub.execute_input": "2023-11-08T17:59:25.980113Z",
     "iopub.status.busy": "2023-11-08T17:59:25.979328Z",
     "iopub.status.idle": "2023-11-08T17:59:25.983521Z",
     "shell.execute_reply": "2023-11-08T17:59:25.982543Z"
    },
    "papermill": {
     "duration": 0.082728,
     "end_time": "2023-11-08T17:59:25.986020",
     "exception": false,
     "start_time": "2023-11-08T17:59:25.903292",
     "status": "completed"
    },
    "tags": []
   },
   "outputs": [],
   "source": [
    "# property index - key index"
   ]
  },
  {
   "cell_type": "code",
   "execution_count": 62,
   "id": "339c1edb",
   "metadata": {
    "execution": {
     "iopub.execute_input": "2023-11-08T17:59:26.136089Z",
     "iopub.status.busy": "2023-11-08T17:59:26.135685Z",
     "iopub.status.idle": "2023-11-08T17:59:26.142383Z",
     "shell.execute_reply": "2023-11-08T17:59:26.140822Z"
    },
    "papermill": {
     "duration": 0.083474,
     "end_time": "2023-11-08T17:59:26.144554",
     "exception": false,
     "start_time": "2023-11-08T17:59:26.061080",
     "status": "completed"
    },
    "tags": []
   },
   "outputs": [
    {
     "data": {
      "text/plain": [
       "dict_keys(['beautiful', 'smart', 'clever'])"
      ]
     },
     "execution_count": 62,
     "metadata": {},
     "output_type": "execute_result"
    }
   ],
   "source": [
    "t.keys()"
   ]
  },
  {
   "cell_type": "code",
   "execution_count": 63,
   "id": "28e00c7b",
   "metadata": {
    "execution": {
     "iopub.execute_input": "2023-11-08T17:59:26.378698Z",
     "iopub.status.busy": "2023-11-08T17:59:26.378040Z",
     "iopub.status.idle": "2023-11-08T17:59:26.383442Z",
     "shell.execute_reply": "2023-11-08T17:59:26.382433Z"
    },
    "papermill": {
     "duration": 0.169636,
     "end_time": "2023-11-08T17:59:26.385933",
     "exception": false,
     "start_time": "2023-11-08T17:59:26.216297",
     "status": "completed"
    },
    "tags": []
   },
   "outputs": [
    {
     "data": {
      "text/plain": [
       "'swapna is a beautiful women'"
      ]
     },
     "execution_count": 63,
     "metadata": {},
     "output_type": "execute_result"
    }
   ],
   "source": [
    "t[\"beautiful\"]"
   ]
  },
  {
   "cell_type": "code",
   "execution_count": 64,
   "id": "e24d63d4",
   "metadata": {
    "execution": {
     "iopub.execute_input": "2023-11-08T17:59:26.536399Z",
     "iopub.status.busy": "2023-11-08T17:59:26.535342Z",
     "iopub.status.idle": "2023-11-08T17:59:26.542438Z",
     "shell.execute_reply": "2023-11-08T17:59:26.541330Z"
    },
    "papermill": {
     "duration": 0.08526,
     "end_time": "2023-11-08T17:59:26.544420",
     "exception": false,
     "start_time": "2023-11-08T17:59:26.459160",
     "status": "completed"
    },
    "tags": []
   },
   "outputs": [
    {
     "data": {
      "text/plain": [
       "'parth is clever'"
      ]
     },
     "execution_count": 64,
     "metadata": {},
     "output_type": "execute_result"
    }
   ],
   "source": [
    "t[\"clever\"]"
   ]
  },
  {
   "cell_type": "code",
   "execution_count": 65,
   "id": "fee8ad79",
   "metadata": {
    "execution": {
     "iopub.execute_input": "2023-11-08T17:59:26.695908Z",
     "iopub.status.busy": "2023-11-08T17:59:26.695496Z",
     "iopub.status.idle": "2023-11-08T17:59:26.702300Z",
     "shell.execute_reply": "2023-11-08T17:59:26.700877Z"
    },
    "papermill": {
     "duration": 0.085717,
     "end_time": "2023-11-08T17:59:26.704354",
     "exception": false,
     "start_time": "2023-11-08T17:59:26.618637",
     "status": "completed"
    },
    "tags": []
   },
   "outputs": [
    {
     "data": {
      "text/plain": [
       "dict_keys(['beautiful', 'smart', 'clever'])"
      ]
     },
     "execution_count": 65,
     "metadata": {},
     "output_type": "execute_result"
    }
   ],
   "source": [
    "t.keys()"
   ]
  },
  {
   "cell_type": "code",
   "execution_count": 66,
   "id": "029faddd",
   "metadata": {
    "execution": {
     "iopub.execute_input": "2023-11-08T17:59:26.853176Z",
     "iopub.status.busy": "2023-11-08T17:59:26.852628Z",
     "iopub.status.idle": "2023-11-08T17:59:26.863243Z",
     "shell.execute_reply": "2023-11-08T17:59:26.860656Z"
    },
    "papermill": {
     "duration": 0.090629,
     "end_time": "2023-11-08T17:59:26.867244",
     "exception": false,
     "start_time": "2023-11-08T17:59:26.776615",
     "status": "completed"
    },
    "tags": []
   },
   "outputs": [
    {
     "data": {
      "text/plain": [
       "dict_values(['swapna is a beautiful women', 'tayyab is a smart person', 'parth is clever'])"
      ]
     },
     "execution_count": 66,
     "metadata": {},
     "output_type": "execute_result"
    }
   ],
   "source": [
    "t.values()"
   ]
  },
  {
   "cell_type": "code",
   "execution_count": 67,
   "id": "b6d3b0a7",
   "metadata": {
    "execution": {
     "iopub.execute_input": "2023-11-08T17:59:27.016114Z",
     "iopub.status.busy": "2023-11-08T17:59:27.015742Z",
     "iopub.status.idle": "2023-11-08T17:59:27.022901Z",
     "shell.execute_reply": "2023-11-08T17:59:27.021677Z"
    },
    "papermill": {
     "duration": 0.08314,
     "end_time": "2023-11-08T17:59:27.024874",
     "exception": false,
     "start_time": "2023-11-08T17:59:26.941734",
     "status": "completed"
    },
    "tags": []
   },
   "outputs": [
    {
     "data": {
      "text/plain": [
       "dict_items([('beautiful', 'swapna is a beautiful women'), ('smart', 'tayyab is a smart person'), ('clever', 'parth is clever')])"
      ]
     },
     "execution_count": 67,
     "metadata": {},
     "output_type": "execute_result"
    }
   ],
   "source": [
    "t.items()"
   ]
  },
  {
   "cell_type": "code",
   "execution_count": 68,
   "id": "1c4799a1",
   "metadata": {
    "execution": {
     "iopub.execute_input": "2023-11-08T17:59:27.173876Z",
     "iopub.status.busy": "2023-11-08T17:59:27.173448Z",
     "iopub.status.idle": "2023-11-08T17:59:27.183307Z",
     "shell.execute_reply": "2023-11-08T17:59:27.181465Z"
    },
    "papermill": {
     "duration": 0.087902,
     "end_time": "2023-11-08T17:59:27.186280",
     "exception": false,
     "start_time": "2023-11-08T17:59:27.098378",
     "status": "completed"
    },
    "tags": []
   },
   "outputs": [
    {
     "data": {
      "text/plain": [
       "'4'"
      ]
     },
     "execution_count": 68,
     "metadata": {},
     "output_type": "execute_result"
    }
   ],
   "source": [
    "ch = { \"c1\" :\n",
    "                   {\"c1.1\" :  \"chapter1.1\",\n",
    "                    \n",
    "                    \"c1.2\" :  \n",
    "                             {\"c1.2.1\" : \"chapter mlv\",\n",
    "                              \"c1.2.2\" : [10,20,30,40]},\n",
    "                    \n",
    "                    \"c1.3\" :  \"chapter1.3\"},\n",
    "     \"c2\" : \"chapter2\",\n",
    "     \"c3\" : \"chapter3\"}\n",
    "\n",
    "list(str(ch[\"c1\"][\"c1.2\"][\"c1.2.2\"][3]))[0]"
   ]
  },
  {
   "cell_type": "code",
   "execution_count": 69,
   "id": "74f861bd",
   "metadata": {
    "execution": {
     "iopub.execute_input": "2023-11-08T17:59:27.332710Z",
     "iopub.status.busy": "2023-11-08T17:59:27.332284Z",
     "iopub.status.idle": "2023-11-08T17:59:27.338835Z",
     "shell.execute_reply": "2023-11-08T17:59:27.337924Z"
    },
    "papermill": {
     "duration": 0.082307,
     "end_time": "2023-11-08T17:59:27.341571",
     "exception": false,
     "start_time": "2023-11-08T17:59:27.259264",
     "status": "completed"
    },
    "tags": []
   },
   "outputs": [
    {
     "data": {
      "text/plain": [
       "10"
      ]
     },
     "execution_count": 69,
     "metadata": {},
     "output_type": "execute_result"
    }
   ],
   "source": [
    "ch[\"c1\"][\"c1.2\"][\"c1.2.2\"][0]"
   ]
  },
  {
   "cell_type": "code",
   "execution_count": 70,
   "id": "ef215c73",
   "metadata": {
    "execution": {
     "iopub.execute_input": "2023-11-08T17:59:27.490905Z",
     "iopub.status.busy": "2023-11-08T17:59:27.490157Z",
     "iopub.status.idle": "2023-11-08T17:59:27.495457Z",
     "shell.execute_reply": "2023-11-08T17:59:27.494113Z"
    },
    "papermill": {
     "duration": 0.083229,
     "end_time": "2023-11-08T17:59:27.498432",
     "exception": false,
     "start_time": "2023-11-08T17:59:27.415203",
     "status": "completed"
    },
    "tags": []
   },
   "outputs": [],
   "source": [
    "ch[\"c3\"] = \"sush\""
   ]
  },
  {
   "cell_type": "code",
   "execution_count": 71,
   "id": "8ca8e7d7",
   "metadata": {
    "execution": {
     "iopub.execute_input": "2023-11-08T17:59:27.642259Z",
     "iopub.status.busy": "2023-11-08T17:59:27.641653Z",
     "iopub.status.idle": "2023-11-08T17:59:27.647505Z",
     "shell.execute_reply": "2023-11-08T17:59:27.646508Z"
    },
    "papermill": {
     "duration": 0.080951,
     "end_time": "2023-11-08T17:59:27.650649",
     "exception": false,
     "start_time": "2023-11-08T17:59:27.569698",
     "status": "completed"
    },
    "tags": []
   },
   "outputs": [
    {
     "data": {
      "text/plain": [
       "3"
      ]
     },
     "execution_count": 71,
     "metadata": {},
     "output_type": "execute_result"
    }
   ],
   "source": [
    "len(ch.items())"
   ]
  },
  {
   "cell_type": "code",
   "execution_count": 72,
   "id": "6a2facc8",
   "metadata": {
    "execution": {
     "iopub.execute_input": "2023-11-08T17:59:27.803578Z",
     "iopub.status.busy": "2023-11-08T17:59:27.803078Z",
     "iopub.status.idle": "2023-11-08T17:59:27.810633Z",
     "shell.execute_reply": "2023-11-08T17:59:27.809089Z"
    },
    "papermill": {
     "duration": 0.087187,
     "end_time": "2023-11-08T17:59:27.813594",
     "exception": false,
     "start_time": "2023-11-08T17:59:27.726407",
     "status": "completed"
    },
    "tags": []
   },
   "outputs": [
    {
     "data": {
      "text/plain": [
       "{'c1': {'c1.1': 'chapter1.1',\n",
       "  'c1.2': {'c1.2.1': 'chapter mlv', 'c1.2.2': [10, 20, 30, 40]},\n",
       "  'c1.3': 'chapter1.3'},\n",
       " 'c2': 'chapter2',\n",
       " 'c3': 'sush'}"
      ]
     },
     "execution_count": 72,
     "metadata": {},
     "output_type": "execute_result"
    }
   ],
   "source": [
    "ch"
   ]
  },
  {
   "cell_type": "markdown",
   "id": "37a3bac2",
   "metadata": {
    "papermill": {
     "duration": 0.071181,
     "end_time": "2023-11-08T17:59:27.958225",
     "exception": false,
     "start_time": "2023-11-08T17:59:27.887044",
     "status": "completed"
    },
    "tags": []
   },
   "source": [
    "# type\n",
    "int()\n",
    "float()\n",
    "str()"
   ]
  },
  {
   "cell_type": "markdown",
   "id": "b2ca0003",
   "metadata": {
    "papermill": {
     "duration": 0.072541,
     "end_time": "2023-11-08T17:59:28.104155",
     "exception": false,
     "start_time": "2023-11-08T17:59:28.031614",
     "status": "completed"
    },
    "tags": []
   },
   "source": [
    "# data structure casting\n",
    "## list()  tuple() set()  dict()"
   ]
  },
  {
   "cell_type": "code",
   "execution_count": 73,
   "id": "2e38eb54",
   "metadata": {
    "execution": {
     "iopub.execute_input": "2023-11-08T17:59:28.249211Z",
     "iopub.status.busy": "2023-11-08T17:59:28.248740Z",
     "iopub.status.idle": "2023-11-08T17:59:28.254601Z",
     "shell.execute_reply": "2023-11-08T17:59:28.253579Z"
    },
    "papermill": {
     "duration": 0.081387,
     "end_time": "2023-11-08T17:59:28.256918",
     "exception": false,
     "start_time": "2023-11-08T17:59:28.175531",
     "status": "completed"
    },
    "tags": []
   },
   "outputs": [
    {
     "data": {
      "text/plain": [
       "list"
      ]
     },
     "execution_count": 73,
     "metadata": {},
     "output_type": "execute_result"
    }
   ],
   "source": [
    "a = [10,20,30]\n",
    "type(a)"
   ]
  },
  {
   "cell_type": "code",
   "execution_count": 74,
   "id": "813b3eec",
   "metadata": {
    "execution": {
     "iopub.execute_input": "2023-11-08T17:59:28.409931Z",
     "iopub.status.busy": "2023-11-08T17:59:28.408390Z",
     "iopub.status.idle": "2023-11-08T17:59:28.416512Z",
     "shell.execute_reply": "2023-11-08T17:59:28.415113Z"
    },
    "papermill": {
     "duration": 0.085349,
     "end_time": "2023-11-08T17:59:28.418813",
     "exception": false,
     "start_time": "2023-11-08T17:59:28.333464",
     "status": "completed"
    },
    "tags": []
   },
   "outputs": [
    {
     "data": {
      "text/plain": [
       "(10, 20, 30)"
      ]
     },
     "execution_count": 74,
     "metadata": {},
     "output_type": "execute_result"
    }
   ],
   "source": [
    "b = tuple(a)\n",
    "b"
   ]
  },
  {
   "cell_type": "code",
   "execution_count": 75,
   "id": "1ec583a6",
   "metadata": {
    "execution": {
     "iopub.execute_input": "2023-11-08T17:59:28.570472Z",
     "iopub.status.busy": "2023-11-08T17:59:28.570089Z",
     "iopub.status.idle": "2023-11-08T17:59:28.576716Z",
     "shell.execute_reply": "2023-11-08T17:59:28.575194Z"
    },
    "papermill": {
     "duration": 0.086168,
     "end_time": "2023-11-08T17:59:28.579828",
     "exception": false,
     "start_time": "2023-11-08T17:59:28.493660",
     "status": "completed"
    },
    "tags": []
   },
   "outputs": [
    {
     "data": {
      "text/plain": [
       "tuple"
      ]
     },
     "execution_count": 75,
     "metadata": {},
     "output_type": "execute_result"
    }
   ],
   "source": [
    "type(b)"
   ]
  },
  {
   "cell_type": "code",
   "execution_count": 76,
   "id": "6b4e41cd",
   "metadata": {
    "execution": {
     "iopub.execute_input": "2023-11-08T17:59:28.733049Z",
     "iopub.status.busy": "2023-11-08T17:59:28.732680Z",
     "iopub.status.idle": "2023-11-08T17:59:28.737009Z",
     "shell.execute_reply": "2023-11-08T17:59:28.735744Z"
    },
    "papermill": {
     "duration": 0.084074,
     "end_time": "2023-11-08T17:59:28.740025",
     "exception": false,
     "start_time": "2023-11-08T17:59:28.655951",
     "status": "completed"
    },
    "tags": []
   },
   "outputs": [],
   "source": [
    "gg = (\"sush@gmail.com\",2564856855)\n",
    "# gg[0] = \"sush@outlook.com\""
   ]
  },
  {
   "cell_type": "code",
   "execution_count": 77,
   "id": "a873e4d9",
   "metadata": {
    "execution": {
     "iopub.execute_input": "2023-11-08T17:59:28.969502Z",
     "iopub.status.busy": "2023-11-08T17:59:28.969104Z",
     "iopub.status.idle": "2023-11-08T17:59:28.975324Z",
     "shell.execute_reply": "2023-11-08T17:59:28.973689Z"
    },
    "papermill": {
     "duration": 0.082656,
     "end_time": "2023-11-08T17:59:28.977316",
     "exception": false,
     "start_time": "2023-11-08T17:59:28.894660",
     "status": "completed"
    },
    "tags": []
   },
   "outputs": [
    {
     "data": {
      "text/plain": [
       "['sush@gmail.com', 2564856855]"
      ]
     },
     "execution_count": 77,
     "metadata": {},
     "output_type": "execute_result"
    }
   ],
   "source": [
    "gg = list(gg)\n",
    "gg"
   ]
  },
  {
   "cell_type": "code",
   "execution_count": 78,
   "id": "bcc75d05",
   "metadata": {
    "execution": {
     "iopub.execute_input": "2023-11-08T17:59:29.133537Z",
     "iopub.status.busy": "2023-11-08T17:59:29.133077Z",
     "iopub.status.idle": "2023-11-08T17:59:29.140995Z",
     "shell.execute_reply": "2023-11-08T17:59:29.139308Z"
    },
    "papermill": {
     "duration": 0.088825,
     "end_time": "2023-11-08T17:59:29.143835",
     "exception": false,
     "start_time": "2023-11-08T17:59:29.055010",
     "status": "completed"
    },
    "tags": []
   },
   "outputs": [
    {
     "data": {
      "text/plain": [
       "list"
      ]
     },
     "execution_count": 78,
     "metadata": {},
     "output_type": "execute_result"
    }
   ],
   "source": [
    "type(gg)"
   ]
  },
  {
   "cell_type": "code",
   "execution_count": 79,
   "id": "321cd8f9",
   "metadata": {
    "execution": {
     "iopub.execute_input": "2023-11-08T17:59:29.295123Z",
     "iopub.status.busy": "2023-11-08T17:59:29.294650Z",
     "iopub.status.idle": "2023-11-08T17:59:29.301747Z",
     "shell.execute_reply": "2023-11-08T17:59:29.300653Z"
    },
    "papermill": {
     "duration": 0.084044,
     "end_time": "2023-11-08T17:59:29.304517",
     "exception": false,
     "start_time": "2023-11-08T17:59:29.220473",
     "status": "completed"
    },
    "tags": []
   },
   "outputs": [
    {
     "data": {
      "text/plain": [
       "['sush@outlook.com', 2564856855]"
      ]
     },
     "execution_count": 79,
     "metadata": {},
     "output_type": "execute_result"
    }
   ],
   "source": [
    "gg[0] = \"sush@outlook.com\"\n",
    "gg"
   ]
  },
  {
   "cell_type": "code",
   "execution_count": 80,
   "id": "8c6965bf",
   "metadata": {
    "execution": {
     "iopub.execute_input": "2023-11-08T17:59:29.452434Z",
     "iopub.status.busy": "2023-11-08T17:59:29.452033Z",
     "iopub.status.idle": "2023-11-08T17:59:29.458672Z",
     "shell.execute_reply": "2023-11-08T17:59:29.457045Z"
    },
    "papermill": {
     "duration": 0.083061,
     "end_time": "2023-11-08T17:59:29.461602",
     "exception": false,
     "start_time": "2023-11-08T17:59:29.378541",
     "status": "completed"
    },
    "tags": []
   },
   "outputs": [
    {
     "data": {
      "text/plain": [
       "('sush@outlook.com', 2564856855)"
      ]
     },
     "execution_count": 80,
     "metadata": {},
     "output_type": "execute_result"
    }
   ],
   "source": [
    "gg = tuple(gg)\n",
    "gg"
   ]
  },
  {
   "cell_type": "code",
   "execution_count": 81,
   "id": "fb69d040",
   "metadata": {
    "execution": {
     "iopub.execute_input": "2023-11-08T17:59:29.615751Z",
     "iopub.status.busy": "2023-11-08T17:59:29.615411Z",
     "iopub.status.idle": "2023-11-08T17:59:29.623075Z",
     "shell.execute_reply": "2023-11-08T17:59:29.621835Z"
    },
    "papermill": {
     "duration": 0.087447,
     "end_time": "2023-11-08T17:59:29.625061",
     "exception": false,
     "start_time": "2023-11-08T17:59:29.537614",
     "status": "completed"
    },
    "tags": []
   },
   "outputs": [
    {
     "data": {
      "text/plain": [
       "('sush@outlook.com', 2564856855)"
      ]
     },
     "execution_count": 81,
     "metadata": {},
     "output_type": "execute_result"
    }
   ],
   "source": [
    "gg = (\"sush@gmail.com\",2564856855)\n",
    "gg = list(gg)\n",
    "gg[0] = \"sush@outlook.com\"\n",
    "gg = tuple(gg)\n",
    "gg"
   ]
  },
  {
   "cell_type": "code",
   "execution_count": 82,
   "id": "d6289e1a",
   "metadata": {
    "execution": {
     "iopub.execute_input": "2023-11-08T17:59:29.787334Z",
     "iopub.status.busy": "2023-11-08T17:59:29.786668Z",
     "iopub.status.idle": "2023-11-08T17:59:29.795320Z",
     "shell.execute_reply": "2023-11-08T17:59:29.793802Z"
    },
    "papermill": {
     "duration": 0.095635,
     "end_time": "2023-11-08T17:59:29.797425",
     "exception": false,
     "start_time": "2023-11-08T17:59:29.701790",
     "status": "completed"
    },
    "tags": []
   },
   "outputs": [
    {
     "data": {
      "text/plain": [
       "[10, 20, 30]"
      ]
     },
     "execution_count": 82,
     "metadata": {},
     "output_type": "execute_result"
    }
   ],
   "source": [
    "a = [10,20,30,10]\n",
    "a = list(set(a))\n",
    "a"
   ]
  },
  {
   "cell_type": "code",
   "execution_count": 83,
   "id": "102baff5",
   "metadata": {
    "execution": {
     "iopub.execute_input": "2023-11-08T17:59:29.951734Z",
     "iopub.status.busy": "2023-11-08T17:59:29.951344Z",
     "iopub.status.idle": "2023-11-08T17:59:29.960748Z",
     "shell.execute_reply": "2023-11-08T17:59:29.958747Z"
    },
    "papermill": {
     "duration": 0.09035,
     "end_time": "2023-11-08T17:59:29.963734",
     "exception": false,
     "start_time": "2023-11-08T17:59:29.873384",
     "status": "completed"
    },
    "tags": []
   },
   "outputs": [
    {
     "data": {
      "text/plain": [
       "[10, 20, 30]"
      ]
     },
     "execution_count": 83,
     "metadata": {},
     "output_type": "execute_result"
    }
   ],
   "source": [
    "a = list(set(a))\n",
    "a"
   ]
  },
  {
   "cell_type": "code",
   "execution_count": 84,
   "id": "c13194d0",
   "metadata": {
    "execution": {
     "iopub.execute_input": "2023-11-08T17:59:30.117372Z",
     "iopub.status.busy": "2023-11-08T17:59:30.116887Z",
     "iopub.status.idle": "2023-11-08T17:59:30.125912Z",
     "shell.execute_reply": "2023-11-08T17:59:30.124549Z"
    },
    "papermill": {
     "duration": 0.089409,
     "end_time": "2023-11-08T17:59:30.129207",
     "exception": false,
     "start_time": "2023-11-08T17:59:30.039798",
     "status": "completed"
    },
    "tags": []
   },
   "outputs": [
    {
     "data": {
      "text/plain": [
       "{10, 20, 30}"
      ]
     },
     "execution_count": 84,
     "metadata": {},
     "output_type": "execute_result"
    }
   ],
   "source": [
    "c = { 10,20,30,30}\n",
    "c \n",
    "\n"
   ]
  },
  {
   "cell_type": "code",
   "execution_count": 85,
   "id": "35e0c420",
   "metadata": {
    "execution": {
     "iopub.execute_input": "2023-11-08T17:59:30.281076Z",
     "iopub.status.busy": "2023-11-08T17:59:30.280722Z",
     "iopub.status.idle": "2023-11-08T17:59:30.288048Z",
     "shell.execute_reply": "2023-11-08T17:59:30.286037Z"
    },
    "papermill": {
     "duration": 0.085808,
     "end_time": "2023-11-08T17:59:30.291113",
     "exception": false,
     "start_time": "2023-11-08T17:59:30.205305",
     "status": "completed"
    },
    "tags": []
   },
   "outputs": [
    {
     "name": "stdout",
     "output_type": "stream",
     "text": [
      "3\n"
     ]
    }
   ],
   "source": [
    "thislist = [\"apple\", \"banana\", \"cherry\"]\n",
    "print(len(thislist))"
   ]
  },
  {
   "cell_type": "code",
   "execution_count": 86,
   "id": "a0bc2636",
   "metadata": {
    "execution": {
     "iopub.execute_input": "2023-11-08T17:59:30.442827Z",
     "iopub.status.busy": "2023-11-08T17:59:30.442481Z",
     "iopub.status.idle": "2023-11-08T17:59:30.448878Z",
     "shell.execute_reply": "2023-11-08T17:59:30.447642Z"
    },
    "papermill": {
     "duration": 0.084653,
     "end_time": "2023-11-08T17:59:30.451086",
     "exception": false,
     "start_time": "2023-11-08T17:59:30.366433",
     "status": "completed"
    },
    "tags": []
   },
   "outputs": [
    {
     "name": "stdout",
     "output_type": "stream",
     "text": [
      "['apple', 'banana', 'cherry']\n"
     ]
    }
   ],
   "source": [
    "thislist = list((\"apple\", \"banana\", \"cherry\")) # note the double round-brackets\n",
    "print(thislist)"
   ]
  },
  {
   "cell_type": "code",
   "execution_count": 87,
   "id": "35328c7f",
   "metadata": {
    "execution": {
     "iopub.execute_input": "2023-11-08T17:59:30.600194Z",
     "iopub.status.busy": "2023-11-08T17:59:30.599734Z",
     "iopub.status.idle": "2023-11-08T17:59:30.605960Z",
     "shell.execute_reply": "2023-11-08T17:59:30.604629Z"
    },
    "papermill": {
     "duration": 0.083447,
     "end_time": "2023-11-08T17:59:30.608321",
     "exception": false,
     "start_time": "2023-11-08T17:59:30.524874",
     "status": "completed"
    },
    "tags": []
   },
   "outputs": [
    {
     "name": "stdout",
     "output_type": "stream",
     "text": [
      "['apple', 'banana', 'cherry', 'orange', 'kiwi', 'melon', 'mango']\n"
     ]
    }
   ],
   "source": [
    "thislist = [\"apple\", \"banana\", \"cherry\", \"orange\", \"kiwi\", \"melon\", \"mango\"]\n",
    "print(thislist[:])"
   ]
  },
  {
   "cell_type": "code",
   "execution_count": 88,
   "id": "d2435138",
   "metadata": {
    "execution": {
     "iopub.execute_input": "2023-11-08T17:59:30.766515Z",
     "iopub.status.busy": "2023-11-08T17:59:30.765973Z",
     "iopub.status.idle": "2023-11-08T17:59:30.772495Z",
     "shell.execute_reply": "2023-11-08T17:59:30.771232Z"
    },
    "papermill": {
     "duration": 0.090253,
     "end_time": "2023-11-08T17:59:30.774716",
     "exception": false,
     "start_time": "2023-11-08T17:59:30.684463",
     "status": "completed"
    },
    "tags": []
   },
   "outputs": [
    {
     "name": "stdout",
     "output_type": "stream",
     "text": [
      "['orange', 'kiwi', 'melon']\n"
     ]
    }
   ],
   "source": [
    "thislist = [\"apple\", \"banana\", \"cherry\", \"orange\", \"kiwi\", \"melon\", \"mango\"]\n",
    "print(thislist[-4:-1])"
   ]
  },
  {
   "cell_type": "code",
   "execution_count": 89,
   "id": "e4a94586",
   "metadata": {
    "execution": {
     "iopub.execute_input": "2023-11-08T17:59:30.926333Z",
     "iopub.status.busy": "2023-11-08T17:59:30.925867Z",
     "iopub.status.idle": "2023-11-08T17:59:30.931693Z",
     "shell.execute_reply": "2023-11-08T17:59:30.930343Z"
    },
    "papermill": {
     "duration": 0.086637,
     "end_time": "2023-11-08T17:59:30.935576",
     "exception": false,
     "start_time": "2023-11-08T17:59:30.848939",
     "status": "completed"
    },
    "tags": []
   },
   "outputs": [
    {
     "name": "stdout",
     "output_type": "stream",
     "text": [
      "['apple', 'blackcurrant', 'cherry']\n"
     ]
    }
   ],
   "source": [
    "thislist = [\"apple\", \"banana\", \"cherry\"]\n",
    "thislist[1] = \"blackcurrant\"\n",
    "print(thislist)"
   ]
  },
  {
   "cell_type": "code",
   "execution_count": 90,
   "id": "d11af768",
   "metadata": {
    "execution": {
     "iopub.execute_input": "2023-11-08T17:59:31.090925Z",
     "iopub.status.busy": "2023-11-08T17:59:31.089688Z",
     "iopub.status.idle": "2023-11-08T17:59:31.096688Z",
     "shell.execute_reply": "2023-11-08T17:59:31.095500Z"
    },
    "papermill": {
     "duration": 0.08699,
     "end_time": "2023-11-08T17:59:31.098700",
     "exception": false,
     "start_time": "2023-11-08T17:59:31.011710",
     "status": "completed"
    },
    "tags": []
   },
   "outputs": [
    {
     "data": {
      "text/plain": [
       "['apple', 'banana', 'cherry', 'orange']"
      ]
     },
     "execution_count": 90,
     "metadata": {},
     "output_type": "execute_result"
    }
   ],
   "source": [
    "fruits = ['apple', 'banana', 'cherry']\n",
    "fruits.append(\"orange\")\n",
    "fruits"
   ]
  },
  {
   "cell_type": "code",
   "execution_count": 91,
   "id": "afd0207d",
   "metadata": {
    "execution": {
     "iopub.execute_input": "2023-11-08T17:59:31.253428Z",
     "iopub.status.busy": "2023-11-08T17:59:31.251894Z",
     "iopub.status.idle": "2023-11-08T17:59:31.258039Z",
     "shell.execute_reply": "2023-11-08T17:59:31.257018Z"
    },
    "papermill": {
     "duration": 0.085098,
     "end_time": "2023-11-08T17:59:31.260370",
     "exception": false,
     "start_time": "2023-11-08T17:59:31.175272",
     "status": "completed"
    },
    "tags": []
   },
   "outputs": [],
   "source": [
    "fruits = ['apple', 'banana', 'cherry', 'orange']\n",
    "\n",
    "fruits.clear()"
   ]
  },
  {
   "cell_type": "code",
   "execution_count": 92,
   "id": "c1aa50f4",
   "metadata": {
    "execution": {
     "iopub.execute_input": "2023-11-08T17:59:31.421802Z",
     "iopub.status.busy": "2023-11-08T17:59:31.421349Z",
     "iopub.status.idle": "2023-11-08T17:59:31.429277Z",
     "shell.execute_reply": "2023-11-08T17:59:31.428182Z"
    },
    "papermill": {
     "duration": 0.090832,
     "end_time": "2023-11-08T17:59:31.431424",
     "exception": false,
     "start_time": "2023-11-08T17:59:31.340592",
     "status": "completed"
    },
    "tags": []
   },
   "outputs": [
    {
     "data": {
      "text/plain": [
       "[]"
      ]
     },
     "execution_count": 92,
     "metadata": {},
     "output_type": "execute_result"
    }
   ],
   "source": [
    "fruits "
   ]
  },
  {
   "cell_type": "code",
   "execution_count": 93,
   "id": "85cf1e0d",
   "metadata": {
    "execution": {
     "iopub.execute_input": "2023-11-08T17:59:31.588605Z",
     "iopub.status.busy": "2023-11-08T17:59:31.588195Z",
     "iopub.status.idle": "2023-11-08T17:59:31.594781Z",
     "shell.execute_reply": "2023-11-08T17:59:31.593846Z"
    },
    "papermill": {
     "duration": 0.087889,
     "end_time": "2023-11-08T17:59:31.596717",
     "exception": false,
     "start_time": "2023-11-08T17:59:31.508828",
     "status": "completed"
    },
    "tags": []
   },
   "outputs": [
    {
     "data": {
      "text/plain": [
       "2"
      ]
     },
     "execution_count": 93,
     "metadata": {},
     "output_type": "execute_result"
    }
   ],
   "source": [
    "tay = ['sush', 'sush', 'cherry']\n",
    "\n",
    "tay.count(\"sush\")"
   ]
  },
  {
   "cell_type": "code",
   "execution_count": 94,
   "id": "017793c1",
   "metadata": {
    "execution": {
     "iopub.execute_input": "2023-11-08T17:59:31.752875Z",
     "iopub.status.busy": "2023-11-08T17:59:31.752470Z",
     "iopub.status.idle": "2023-11-08T17:59:31.760147Z",
     "shell.execute_reply": "2023-11-08T17:59:31.758707Z"
    },
    "papermill": {
     "duration": 0.089704,
     "end_time": "2023-11-08T17:59:31.762942",
     "exception": false,
     "start_time": "2023-11-08T17:59:31.673238",
     "status": "completed"
    },
    "tags": []
   },
   "outputs": [
    {
     "data": {
      "text/plain": [
       "1"
      ]
     },
     "execution_count": 94,
     "metadata": {},
     "output_type": "execute_result"
    }
   ],
   "source": [
    "fruits = ['apple', 'banana', 'cherry']\n",
    "\n",
    "points = (1, 4, 5, 9)\n",
    "\n",
    "fruits.extend(points)\n",
    "fruits[3]"
   ]
  },
  {
   "cell_type": "code",
   "execution_count": 95,
   "id": "ce13523f",
   "metadata": {
    "execution": {
     "iopub.execute_input": "2023-11-08T17:59:31.940986Z",
     "iopub.status.busy": "2023-11-08T17:59:31.939833Z",
     "iopub.status.idle": "2023-11-08T17:59:31.947225Z",
     "shell.execute_reply": "2023-11-08T17:59:31.945814Z"
    },
    "papermill": {
     "duration": 0.106557,
     "end_time": "2023-11-08T17:59:31.950073",
     "exception": false,
     "start_time": "2023-11-08T17:59:31.843516",
     "status": "completed"
    },
    "tags": []
   },
   "outputs": [
    {
     "data": {
      "text/plain": [
       "['apple', 'banana', 'cherry', (1, 4, 5, 9)]"
      ]
     },
     "execution_count": 95,
     "metadata": {},
     "output_type": "execute_result"
    }
   ],
   "source": [
    "fruits = ['apple', 'banana', 'cherry']\n",
    "\n",
    "points = (1, 4, 5, 9)\n",
    "\n",
    "fruits.append(points)\n",
    "fruits"
   ]
  },
  {
   "cell_type": "code",
   "execution_count": 96,
   "id": "d85f1f7d",
   "metadata": {
    "execution": {
     "iopub.execute_input": "2023-11-08T17:59:32.188632Z",
     "iopub.status.busy": "2023-11-08T17:59:32.187483Z",
     "iopub.status.idle": "2023-11-08T17:59:32.193896Z",
     "shell.execute_reply": "2023-11-08T17:59:32.192681Z"
    },
    "papermill": {
     "duration": 0.087413,
     "end_time": "2023-11-08T17:59:32.196100",
     "exception": false,
     "start_time": "2023-11-08T17:59:32.108687",
     "status": "completed"
    },
    "tags": []
   },
   "outputs": [
    {
     "data": {
      "text/plain": [
       "(1, 4, 5, 9)"
      ]
     },
     "execution_count": 96,
     "metadata": {},
     "output_type": "execute_result"
    }
   ],
   "source": [
    "fruits[3]"
   ]
  },
  {
   "cell_type": "code",
   "execution_count": 97,
   "id": "c3e248ab",
   "metadata": {
    "execution": {
     "iopub.execute_input": "2023-11-08T17:59:32.351587Z",
     "iopub.status.busy": "2023-11-08T17:59:32.350814Z",
     "iopub.status.idle": "2023-11-08T17:59:32.357969Z",
     "shell.execute_reply": "2023-11-08T17:59:32.356461Z"
    },
    "papermill": {
     "duration": 0.088446,
     "end_time": "2023-11-08T17:59:32.360778",
     "exception": false,
     "start_time": "2023-11-08T17:59:32.272332",
     "status": "completed"
    },
    "tags": []
   },
   "outputs": [
    {
     "data": {
      "text/plain": [
       "0"
      ]
     },
     "execution_count": 97,
     "metadata": {},
     "output_type": "execute_result"
    }
   ],
   "source": [
    "fruits = ['c001asha', 'coo2swapna', 'c001asha']\n",
    "\n",
    "fruits.index(\"c001asha\")"
   ]
  },
  {
   "cell_type": "code",
   "execution_count": 98,
   "id": "ec5cf978",
   "metadata": {
    "execution": {
     "iopub.execute_input": "2023-11-08T17:59:32.514227Z",
     "iopub.status.busy": "2023-11-08T17:59:32.513722Z",
     "iopub.status.idle": "2023-11-08T17:59:32.520928Z",
     "shell.execute_reply": "2023-11-08T17:59:32.519475Z"
    },
    "papermill": {
     "duration": 0.087429,
     "end_time": "2023-11-08T17:59:32.523838",
     "exception": false,
     "start_time": "2023-11-08T17:59:32.436409",
     "status": "completed"
    },
    "tags": []
   },
   "outputs": [
    {
     "data": {
      "text/plain": [
       "['apple', 'banana', 'orange', 'cherry']"
      ]
     },
     "execution_count": 98,
     "metadata": {},
     "output_type": "execute_result"
    }
   ],
   "source": [
    "fruits = ['apple', 'banana', 'cherry']\n",
    "\n",
    "fruits.insert(2, \"orange\")\n",
    "fruits"
   ]
  },
  {
   "cell_type": "code",
   "execution_count": 99,
   "id": "8f7900ec",
   "metadata": {
    "execution": {
     "iopub.execute_input": "2023-11-08T17:59:32.681965Z",
     "iopub.status.busy": "2023-11-08T17:59:32.681499Z",
     "iopub.status.idle": "2023-11-08T17:59:32.689318Z",
     "shell.execute_reply": "2023-11-08T17:59:32.687654Z"
    },
    "papermill": {
     "duration": 0.088189,
     "end_time": "2023-11-08T17:59:32.691875",
     "exception": false,
     "start_time": "2023-11-08T17:59:32.603686",
     "status": "completed"
    },
    "tags": []
   },
   "outputs": [
    {
     "data": {
      "text/plain": [
       "'apple'"
      ]
     },
     "execution_count": 99,
     "metadata": {},
     "output_type": "execute_result"
    }
   ],
   "source": [
    "fruits = ['apple', 'banana', 'cherry']\n",
    "a = fruits.pop(0)\n",
    "a"
   ]
  },
  {
   "cell_type": "code",
   "execution_count": 100,
   "id": "9b118baa",
   "metadata": {
    "execution": {
     "iopub.execute_input": "2023-11-08T17:59:32.847702Z",
     "iopub.status.busy": "2023-11-08T17:59:32.847351Z",
     "iopub.status.idle": "2023-11-08T17:59:32.854616Z",
     "shell.execute_reply": "2023-11-08T17:59:32.853391Z"
    },
    "papermill": {
     "duration": 0.08732,
     "end_time": "2023-11-08T17:59:32.857322",
     "exception": false,
     "start_time": "2023-11-08T17:59:32.770002",
     "status": "completed"
    },
    "tags": []
   },
   "outputs": [
    {
     "data": {
      "text/plain": [
       "0"
      ]
     },
     "execution_count": 100,
     "metadata": {},
     "output_type": "execute_result"
    }
   ],
   "source": [
    "fruits = ['apple', 'banana', 'cherry']\n",
    "a = fruits.index(\"apple\")\n",
    "a"
   ]
  },
  {
   "cell_type": "code",
   "execution_count": 101,
   "id": "71c93d80",
   "metadata": {
    "execution": {
     "iopub.execute_input": "2023-11-08T17:59:33.015683Z",
     "iopub.status.busy": "2023-11-08T17:59:33.015255Z",
     "iopub.status.idle": "2023-11-08T17:59:33.021509Z",
     "shell.execute_reply": "2023-11-08T17:59:33.020488Z"
    },
    "papermill": {
     "duration": 0.088067,
     "end_time": "2023-11-08T17:59:33.024691",
     "exception": false,
     "start_time": "2023-11-08T17:59:32.936624",
     "status": "completed"
    },
    "tags": []
   },
   "outputs": [
    {
     "data": {
      "text/plain": [
       "['apple', 'banana', 'banana']"
      ]
     },
     "execution_count": 101,
     "metadata": {},
     "output_type": "execute_result"
    }
   ],
   "source": [
    "fruits = ['banana', \"apple\",'banana', 'banana']\n",
    "\n",
    "fruits.remove(\"banana\")\n",
    "fruits \n",
    "\n",
    "# ctr a\n",
    "#  ctr /"
   ]
  },
  {
   "cell_type": "code",
   "execution_count": 102,
   "id": "569d9777",
   "metadata": {
    "execution": {
     "iopub.execute_input": "2023-11-08T17:59:33.181583Z",
     "iopub.status.busy": "2023-11-08T17:59:33.181169Z",
     "iopub.status.idle": "2023-11-08T17:59:33.187196Z",
     "shell.execute_reply": "2023-11-08T17:59:33.186476Z"
    },
    "papermill": {
     "duration": 0.088538,
     "end_time": "2023-11-08T17:59:33.188849",
     "exception": false,
     "start_time": "2023-11-08T17:59:33.100311",
     "status": "completed"
    },
    "tags": []
   },
   "outputs": [
    {
     "data": {
      "text/plain": [
       "['cherry', 'banana', 'apple']"
      ]
     },
     "execution_count": 102,
     "metadata": {},
     "output_type": "execute_result"
    }
   ],
   "source": [
    "fruits = ['apple', 'banana', 'cherry']\n",
    "\n",
    "fruits.reverse()\n",
    "fruits"
   ]
  },
  {
   "cell_type": "code",
   "execution_count": 103,
   "id": "75f97c65",
   "metadata": {
    "execution": {
     "iopub.execute_input": "2023-11-08T17:59:33.346722Z",
     "iopub.status.busy": "2023-11-08T17:59:33.346094Z",
     "iopub.status.idle": "2023-11-08T17:59:33.353175Z",
     "shell.execute_reply": "2023-11-08T17:59:33.351759Z"
    },
    "papermill": {
     "duration": 0.088132,
     "end_time": "2023-11-08T17:59:33.356192",
     "exception": false,
     "start_time": "2023-11-08T17:59:33.268060",
     "status": "completed"
    },
    "tags": []
   },
   "outputs": [
    {
     "data": {
      "text/plain": [
       "[20, 11, 9, 30]"
      ]
     },
     "execution_count": 103,
     "metadata": {},
     "output_type": "execute_result"
    }
   ],
   "source": [
    "a= [20,11,9,30]\n",
    "a"
   ]
  },
  {
   "cell_type": "code",
   "execution_count": 104,
   "id": "a3e77eff",
   "metadata": {
    "execution": {
     "iopub.execute_input": "2023-11-08T17:59:33.511902Z",
     "iopub.status.busy": "2023-11-08T17:59:33.511472Z",
     "iopub.status.idle": "2023-11-08T17:59:33.519373Z",
     "shell.execute_reply": "2023-11-08T17:59:33.517800Z"
    },
    "papermill": {
     "duration": 0.089016,
     "end_time": "2023-11-08T17:59:33.521907",
     "exception": false,
     "start_time": "2023-11-08T17:59:33.432891",
     "status": "completed"
    },
    "tags": []
   },
   "outputs": [
    {
     "data": {
      "text/plain": [
       "[30, 20, 11, 9]"
      ]
     },
     "execution_count": 104,
     "metadata": {},
     "output_type": "execute_result"
    }
   ],
   "source": [
    "a.sort(reverse = True)\n",
    "a"
   ]
  },
  {
   "cell_type": "code",
   "execution_count": 105,
   "id": "eb62a5d4",
   "metadata": {
    "execution": {
     "iopub.execute_input": "2023-11-08T17:59:33.674684Z",
     "iopub.status.busy": "2023-11-08T17:59:33.674271Z",
     "iopub.status.idle": "2023-11-08T17:59:33.682805Z",
     "shell.execute_reply": "2023-11-08T17:59:33.681125Z"
    },
    "papermill": {
     "duration": 0.086397,
     "end_time": "2023-11-08T17:59:33.685473",
     "exception": false,
     "start_time": "2023-11-08T17:59:33.599076",
     "status": "completed"
    },
    "tags": []
   },
   "outputs": [
    {
     "data": {
      "text/plain": [
       "[10, 20, 30, [40, 50, 60]]"
      ]
     },
     "execution_count": 105,
     "metadata": {},
     "output_type": "execute_result"
    }
   ],
   "source": [
    "d = [10,20,30]\n",
    "d.append([40,50,60])\n",
    "d"
   ]
  },
  {
   "cell_type": "code",
   "execution_count": 106,
   "id": "f2dada3e",
   "metadata": {
    "execution": {
     "iopub.execute_input": "2023-11-08T17:59:33.843894Z",
     "iopub.status.busy": "2023-11-08T17:59:33.843502Z",
     "iopub.status.idle": "2023-11-08T17:59:33.852228Z",
     "shell.execute_reply": "2023-11-08T17:59:33.850553Z"
    },
    "papermill": {
     "duration": 0.090552,
     "end_time": "2023-11-08T17:59:33.854655",
     "exception": false,
     "start_time": "2023-11-08T17:59:33.764103",
     "status": "completed"
    },
    "tags": []
   },
   "outputs": [
    {
     "data": {
      "text/plain": [
       "[10, 20, 30, 40, 50, 60]"
      ]
     },
     "execution_count": 106,
     "metadata": {},
     "output_type": "execute_result"
    }
   ],
   "source": [
    "e = [10,20,30]\n",
    "e.extend([40,50,60])\n",
    "e"
   ]
  },
  {
   "cell_type": "code",
   "execution_count": 107,
   "id": "b12ec474",
   "metadata": {
    "execution": {
     "iopub.execute_input": "2023-11-08T17:59:34.014303Z",
     "iopub.status.busy": "2023-11-08T17:59:34.013824Z",
     "iopub.status.idle": "2023-11-08T17:59:34.022749Z",
     "shell.execute_reply": "2023-11-08T17:59:34.021423Z"
    },
    "papermill": {
     "duration": 0.090778,
     "end_time": "2023-11-08T17:59:34.025622",
     "exception": false,
     "start_time": "2023-11-08T17:59:33.934844",
     "status": "completed"
    },
    "tags": []
   },
   "outputs": [
    {
     "data": {
      "text/plain": [
       "[2, 3, 4]"
      ]
     },
     "execution_count": 107,
     "metadata": {},
     "output_type": "execute_result"
    }
   ],
   "source": [
    "a = [2,3,4,4]\n",
    "a = list(set(a))\n",
    "a"
   ]
  },
  {
   "cell_type": "code",
   "execution_count": 108,
   "id": "f5bfcc0a",
   "metadata": {
    "execution": {
     "iopub.execute_input": "2023-11-08T17:59:34.182352Z",
     "iopub.status.busy": "2023-11-08T17:59:34.181963Z",
     "iopub.status.idle": "2023-11-08T17:59:34.187782Z",
     "shell.execute_reply": "2023-11-08T17:59:34.186658Z"
    },
    "papermill": {
     "duration": 0.086453,
     "end_time": "2023-11-08T17:59:34.189822",
     "exception": false,
     "start_time": "2023-11-08T17:59:34.103369",
     "status": "completed"
    },
    "tags": []
   },
   "outputs": [
    {
     "name": "stdout",
     "output_type": "stream",
     "text": [
      "yes\n",
      "tayyab\n",
      "prasad\n"
     ]
    }
   ],
   "source": [
    "if 9 > 6 : \n",
    "    print(\"yes\")\n",
    "    print(\"tayyab\")\n",
    "    \n",
    "print(\"prasad\")\n"
   ]
  },
  {
   "cell_type": "code",
   "execution_count": 109,
   "id": "a9ccf4ea",
   "metadata": {
    "execution": {
     "iopub.execute_input": "2023-11-08T17:59:34.345649Z",
     "iopub.status.busy": "2023-11-08T17:59:34.345282Z",
     "iopub.status.idle": "2023-11-08T17:59:34.351641Z",
     "shell.execute_reply": "2023-11-08T17:59:34.349703Z"
    },
    "papermill": {
     "duration": 0.08698,
     "end_time": "2023-11-08T17:59:34.354060",
     "exception": false,
     "start_time": "2023-11-08T17:59:34.267080",
     "status": "completed"
    },
    "tags": []
   },
   "outputs": [
    {
     "name": "stdout",
     "output_type": "stream",
     "text": [
      "prasad\n"
     ]
    }
   ],
   "source": [
    "if 9 > 16 : \n",
    "    print(\"yes\")\n",
    "    print(\"tayyab\")\n",
    "    \n",
    "print(\"prasad\")"
   ]
  },
  {
   "cell_type": "code",
   "execution_count": 110,
   "id": "b898cb3d",
   "metadata": {
    "execution": {
     "iopub.execute_input": "2023-11-08T17:59:34.509087Z",
     "iopub.status.busy": "2023-11-08T17:59:34.508017Z",
     "iopub.status.idle": "2023-11-08T17:59:34.513496Z",
     "shell.execute_reply": "2023-11-08T17:59:34.511972Z"
    },
    "papermill": {
     "duration": 0.086582,
     "end_time": "2023-11-08T17:59:34.516200",
     "exception": false,
     "start_time": "2023-11-08T17:59:34.429618",
     "status": "completed"
    },
    "tags": []
   },
   "outputs": [],
   "source": [
    "# select *\n",
    "#             from table1"
   ]
  },
  {
   "cell_type": "code",
   "execution_count": 111,
   "id": "1041d997",
   "metadata": {
    "execution": {
     "iopub.execute_input": "2023-11-08T17:59:34.752862Z",
     "iopub.status.busy": "2023-11-08T17:59:34.752449Z",
     "iopub.status.idle": "2023-11-08T17:59:34.758441Z",
     "shell.execute_reply": "2023-11-08T17:59:34.757526Z"
    },
    "papermill": {
     "duration": 0.167196,
     "end_time": "2023-11-08T17:59:34.760360",
     "exception": false,
     "start_time": "2023-11-08T17:59:34.593164",
     "status": "completed"
    },
    "tags": []
   },
   "outputs": [
    {
     "name": "stdout",
     "output_type": "stream",
     "text": [
      "the girl got distinction\n",
      "distinction\n"
     ]
    }
   ],
   "source": [
    "marks = 80\n",
    "gender = \"female\"\n",
    "\n",
    "\n",
    "if marks > 75 :  \n",
    "    if gender == \"male\" :\n",
    "        print(\"the boy got distinction\")\n",
    "    else :\n",
    "        print(\"the girl got distinction\")        \n",
    "    print(\"distinction\")\n",
    "elif marks > 50 :\n",
    "    print(\"pass\")\n",
    "else :\n",
    "    print(\"fail\")"
   ]
  },
  {
   "cell_type": "code",
   "execution_count": 112,
   "id": "b5752123",
   "metadata": {
    "execution": {
     "iopub.execute_input": "2023-11-08T17:59:34.916011Z",
     "iopub.status.busy": "2023-11-08T17:59:34.915411Z",
     "iopub.status.idle": "2023-11-08T17:59:34.922665Z",
     "shell.execute_reply": "2023-11-08T17:59:34.921322Z"
    },
    "papermill": {
     "duration": 0.088044,
     "end_time": "2023-11-08T17:59:34.925287",
     "exception": false,
     "start_time": "2023-11-08T17:59:34.837243",
     "status": "completed"
    },
    "tags": []
   },
   "outputs": [
    {
     "name": "stdout",
     "output_type": "stream",
     "text": [
      "mlv 100\n",
      "mlv 97\n",
      "mlv 94\n",
      "mlv 91\n"
     ]
    }
   ],
   "source": [
    "salary = 100\n",
    "\n",
    "while salary > 90 :\n",
    "    print(\"mlv\",salary )\n",
    "    salary = salary - 3"
   ]
  },
  {
   "cell_type": "code",
   "execution_count": 113,
   "id": "446b6f04",
   "metadata": {
    "execution": {
     "iopub.execute_input": "2023-11-08T17:59:35.084999Z",
     "iopub.status.busy": "2023-11-08T17:59:35.084005Z",
     "iopub.status.idle": "2023-11-08T17:59:35.089614Z",
     "shell.execute_reply": "2023-11-08T17:59:35.088738Z"
    },
    "papermill": {
     "duration": 0.0878,
     "end_time": "2023-11-08T17:59:35.091817",
     "exception": false,
     "start_time": "2023-11-08T17:59:35.004017",
     "status": "completed"
    },
    "tags": []
   },
   "outputs": [
    {
     "name": "stdout",
     "output_type": "stream",
     "text": [
      "10\n",
      "----\n",
      "13\n",
      "----\n",
      "16\n",
      "----\n",
      "19\n",
      "----\n"
     ]
    }
   ],
   "source": [
    "for i in  range(10,20,3) :\n",
    "    print(i)\n",
    "    print(\"----\")"
   ]
  },
  {
   "cell_type": "code",
   "execution_count": 114,
   "id": "a546faa4",
   "metadata": {
    "execution": {
     "iopub.execute_input": "2023-11-08T17:59:35.249403Z",
     "iopub.status.busy": "2023-11-08T17:59:35.249000Z",
     "iopub.status.idle": "2023-11-08T17:59:35.254250Z",
     "shell.execute_reply": "2023-11-08T17:59:35.253345Z"
    },
    "papermill": {
     "duration": 0.087786,
     "end_time": "2023-11-08T17:59:35.257112",
     "exception": false,
     "start_time": "2023-11-08T17:59:35.169326",
     "status": "completed"
    },
    "tags": []
   },
   "outputs": [
    {
     "name": "stdout",
     "output_type": "stream",
     "text": [
      "10\n",
      "----\n",
      "husna\n",
      "13\n",
      "----\n",
      "husna\n",
      "16\n",
      "----\n",
      "husna\n",
      "19\n",
      "----\n",
      "husna\n"
     ]
    }
   ],
   "source": [
    "for i in  [10,13,16,19] :\n",
    "    print(i)\n",
    "    print(\"----\")\n",
    "    print(\"husna\")"
   ]
  },
  {
   "cell_type": "code",
   "execution_count": 115,
   "id": "f74aeda3",
   "metadata": {
    "execution": {
     "iopub.execute_input": "2023-11-08T17:59:35.412921Z",
     "iopub.status.busy": "2023-11-08T17:59:35.412567Z",
     "iopub.status.idle": "2023-11-08T17:59:35.419513Z",
     "shell.execute_reply": "2023-11-08T17:59:35.417801Z"
    },
    "papermill": {
     "duration": 0.087563,
     "end_time": "2023-11-08T17:59:35.422965",
     "exception": false,
     "start_time": "2023-11-08T17:59:35.335402",
     "status": "completed"
    },
    "tags": []
   },
   "outputs": [
    {
     "name": "stdout",
     "output_type": "stream",
     "text": [
      "the element is  10\n",
      "the element is  20\n",
      "the element is  30\n",
      "the element is  40\n",
      "the element is  50\n"
     ]
    }
   ],
   "source": [
    "a = [10,20,30,40,50]\n",
    "\n",
    "for  abhi  in a :\n",
    "    print(\"the element is \",abhi)"
   ]
  },
  {
   "cell_type": "code",
   "execution_count": 116,
   "id": "156196d3",
   "metadata": {
    "execution": {
     "iopub.execute_input": "2023-11-08T17:59:35.583512Z",
     "iopub.status.busy": "2023-11-08T17:59:35.580511Z",
     "iopub.status.idle": "2023-11-08T17:59:35.590209Z",
     "shell.execute_reply": "2023-11-08T17:59:35.588442Z"
    },
    "papermill": {
     "duration": 0.093653,
     "end_time": "2023-11-08T17:59:35.593226",
     "exception": false,
     "start_time": "2023-11-08T17:59:35.499573",
     "status": "completed"
    },
    "tags": []
   },
   "outputs": [
    {
     "name": "stdout",
     "output_type": "stream",
     "text": [
      "the element is  10\n",
      "the element is  20\n",
      "the element is  30\n",
      "the element is  40\n",
      "the element is  50\n"
     ]
    }
   ],
   "source": [
    "a = [10,20,30,40,50]\n",
    "\n",
    "for abhi in range(len(a)) : # [ 0,1,2,3,4]\n",
    "    print(\"the element is \",a[abhi])\n",
    "    "
   ]
  },
  {
   "cell_type": "code",
   "execution_count": 117,
   "id": "3ed6df83",
   "metadata": {
    "execution": {
     "iopub.execute_input": "2023-11-08T17:59:35.752008Z",
     "iopub.status.busy": "2023-11-08T17:59:35.751580Z",
     "iopub.status.idle": "2023-11-08T17:59:35.758797Z",
     "shell.execute_reply": "2023-11-08T17:59:35.756829Z"
    },
    "papermill": {
     "duration": 0.091177,
     "end_time": "2023-11-08T17:59:35.761965",
     "exception": false,
     "start_time": "2023-11-08T17:59:35.670788",
     "status": "completed"
    },
    "tags": []
   },
   "outputs": [
    {
     "name": "stdout",
     "output_type": "stream",
     "text": [
      "1\n",
      "2\n",
      "3\n",
      "4\n"
     ]
    }
   ],
   "source": [
    "for i in range(1,5):\n",
    "    print(i)"
   ]
  },
  {
   "cell_type": "markdown",
   "id": "4a653a14",
   "metadata": {
    "papermill": {
     "duration": 0.079678,
     "end_time": "2023-11-08T17:59:35.919888",
     "exception": false,
     "start_time": "2023-11-08T17:59:35.840210",
     "status": "completed"
    },
    "tags": []
   },
   "source": [
    "### "
   ]
  },
  {
   "cell_type": "code",
   "execution_count": 118,
   "id": "e774a247",
   "metadata": {
    "execution": {
     "iopub.execute_input": "2023-11-08T17:59:36.084255Z",
     "iopub.status.busy": "2023-11-08T17:59:36.083556Z",
     "iopub.status.idle": "2023-11-08T17:59:36.087950Z",
     "shell.execute_reply": "2023-11-08T17:59:36.087384Z"
    },
    "papermill": {
     "duration": 0.087997,
     "end_time": "2023-11-08T17:59:36.089793",
     "exception": false,
     "start_time": "2023-11-08T17:59:36.001796",
     "status": "completed"
    },
    "tags": []
   },
   "outputs": [
    {
     "name": "stdout",
     "output_type": "stream",
     "text": [
      "{'orange', 'apple', 'banana', 'cherry'}\n"
     ]
    }
   ],
   "source": [
    "fruits = {\"apple\", \"banana\", \"cherry\"}\n",
    "\n",
    "fruits.add(\"orange\")\n",
    "\n",
    "print(fruits)"
   ]
  },
  {
   "cell_type": "code",
   "execution_count": 119,
   "id": "100df821",
   "metadata": {
    "execution": {
     "iopub.execute_input": "2023-11-08T17:59:36.250837Z",
     "iopub.status.busy": "2023-11-08T17:59:36.250100Z",
     "iopub.status.idle": "2023-11-08T17:59:36.255723Z",
     "shell.execute_reply": "2023-11-08T17:59:36.254502Z"
    },
    "papermill": {
     "duration": 0.088414,
     "end_time": "2023-11-08T17:59:36.258087",
     "exception": false,
     "start_time": "2023-11-08T17:59:36.169673",
     "status": "completed"
    },
    "tags": []
   },
   "outputs": [
    {
     "name": "stdout",
     "output_type": "stream",
     "text": [
      "{'tayyab'}\n"
     ]
    }
   ],
   "source": [
    "fruits = {\"apple\", \"banana\", \"cherry\"}\n",
    "\n",
    "fruits.clear()\n",
    "\n",
    "fruits.add(\"tayyab\")\n",
    "\n",
    "print(fruits)"
   ]
  },
  {
   "cell_type": "code",
   "execution_count": 120,
   "id": "f62bdd9a",
   "metadata": {
    "execution": {
     "iopub.execute_input": "2023-11-08T17:59:36.414471Z",
     "iopub.status.busy": "2023-11-08T17:59:36.413744Z",
     "iopub.status.idle": "2023-11-08T17:59:36.419099Z",
     "shell.execute_reply": "2023-11-08T17:59:36.418113Z"
    },
    "papermill": {
     "duration": 0.085655,
     "end_time": "2023-11-08T17:59:36.421498",
     "exception": false,
     "start_time": "2023-11-08T17:59:36.335843",
     "status": "completed"
    },
    "tags": []
   },
   "outputs": [
    {
     "name": "stdout",
     "output_type": "stream",
     "text": [
      "{'banana', 'cherry'}\n"
     ]
    }
   ],
   "source": [
    "x = {\"apple\", \"banana\", \"cherry\"}\n",
    "y = {\"google\", \"microsoft\", \"apple\"}\n",
    "\n",
    "z = x.difference(y)\n",
    "\n",
    "print(z)"
   ]
  },
  {
   "cell_type": "code",
   "execution_count": 121,
   "id": "f7e69257",
   "metadata": {
    "execution": {
     "iopub.execute_input": "2023-11-08T17:59:36.578798Z",
     "iopub.status.busy": "2023-11-08T17:59:36.578366Z",
     "iopub.status.idle": "2023-11-08T17:59:36.584941Z",
     "shell.execute_reply": "2023-11-08T17:59:36.583513Z"
    },
    "papermill": {
     "duration": 0.088932,
     "end_time": "2023-11-08T17:59:36.587837",
     "exception": false,
     "start_time": "2023-11-08T17:59:36.498905",
     "status": "completed"
    },
    "tags": []
   },
   "outputs": [
    {
     "name": "stdout",
     "output_type": "stream",
     "text": [
      "{'apple'}\n"
     ]
    }
   ],
   "source": [
    "x = {\"apple\", \"banana\", \"cherry\"}\n",
    "y = {\"google\", \"microsoft\", \"apple\"}\n",
    "\n",
    "z = y.intersection(x)\n",
    "\n",
    "print(z)"
   ]
  },
  {
   "cell_type": "code",
   "execution_count": 122,
   "id": "9808f66d",
   "metadata": {
    "execution": {
     "iopub.execute_input": "2023-11-08T17:59:36.753112Z",
     "iopub.status.busy": "2023-11-08T17:59:36.752701Z",
     "iopub.status.idle": "2023-11-08T17:59:36.759149Z",
     "shell.execute_reply": "2023-11-08T17:59:36.757647Z"
    },
    "papermill": {
     "duration": 0.093139,
     "end_time": "2023-11-08T17:59:36.760851",
     "exception": false,
     "start_time": "2023-11-08T17:59:36.667712",
     "status": "completed"
    },
    "tags": []
   },
   "outputs": [
    {
     "name": "stdout",
     "output_type": "stream",
     "text": [
      "False\n"
     ]
    }
   ],
   "source": [
    "x = {\"apple\", \"google\", \"cherry\"}\n",
    "y = {\"google\", \"microsoft\", \"facebook\"}\n",
    "\n",
    "z = x.isdisjoint(y)\n",
    "\n",
    "print(z)\n"
   ]
  },
  {
   "cell_type": "code",
   "execution_count": 123,
   "id": "5da61b89",
   "metadata": {
    "execution": {
     "iopub.execute_input": "2023-11-08T17:59:36.922492Z",
     "iopub.status.busy": "2023-11-08T17:59:36.920832Z",
     "iopub.status.idle": "2023-11-08T17:59:36.928162Z",
     "shell.execute_reply": "2023-11-08T17:59:36.926598Z"
    },
    "papermill": {
     "duration": 0.091119,
     "end_time": "2023-11-08T17:59:36.930840",
     "exception": false,
     "start_time": "2023-11-08T17:59:36.839721",
     "status": "completed"
    },
    "tags": []
   },
   "outputs": [
    {
     "name": "stdout",
     "output_type": "stream",
     "text": [
      "False\n"
     ]
    }
   ],
   "source": [
    "x = {\"a\", \"b\", \"h\"}\n",
    "y = {\"f\", \"e\", \"d\", \"c\", \"b\", \"a\"}\n",
    "\n",
    "z = x.issubset(y)\n",
    "\n",
    "print(z)"
   ]
  },
  {
   "cell_type": "code",
   "execution_count": 124,
   "id": "da2c6278",
   "metadata": {
    "execution": {
     "iopub.execute_input": "2023-11-08T17:59:37.088436Z",
     "iopub.status.busy": "2023-11-08T17:59:37.088012Z",
     "iopub.status.idle": "2023-11-08T17:59:37.093973Z",
     "shell.execute_reply": "2023-11-08T17:59:37.092536Z"
    },
    "papermill": {
     "duration": 0.088216,
     "end_time": "2023-11-08T17:59:37.096541",
     "exception": false,
     "start_time": "2023-11-08T17:59:37.008325",
     "status": "completed"
    },
    "tags": []
   },
   "outputs": [
    {
     "name": "stdout",
     "output_type": "stream",
     "text": [
      "False\n"
     ]
    }
   ],
   "source": [
    "x = {\"f\", \"e\", \"d\", \"c\", \"b\", \"a\"}\n",
    "y = {\"a\", \"b\", \"z\"}\n",
    "\n",
    "z = x.issuperset(y)\n",
    "\n",
    "print(z)"
   ]
  },
  {
   "cell_type": "code",
   "execution_count": 125,
   "id": "9dea6112",
   "metadata": {
    "execution": {
     "iopub.execute_input": "2023-11-08T17:59:37.258445Z",
     "iopub.status.busy": "2023-11-08T17:59:37.258049Z",
     "iopub.status.idle": "2023-11-08T17:59:37.263395Z",
     "shell.execute_reply": "2023-11-08T17:59:37.262386Z"
    },
    "papermill": {
     "duration": 0.088424,
     "end_time": "2023-11-08T17:59:37.266066",
     "exception": false,
     "start_time": "2023-11-08T17:59:37.177642",
     "status": "completed"
    },
    "tags": []
   },
   "outputs": [
    {
     "name": "stdout",
     "output_type": "stream",
     "text": [
      "{'banana', 'cherry'}\n"
     ]
    }
   ],
   "source": [
    "fruits = {\"apple\", \"banana\", \"cherry\"}\n",
    "\n",
    "fruits.pop()\n",
    "\n",
    "print(fruits)"
   ]
  },
  {
   "cell_type": "code",
   "execution_count": 126,
   "id": "2390cfd7",
   "metadata": {
    "execution": {
     "iopub.execute_input": "2023-11-08T17:59:37.424291Z",
     "iopub.status.busy": "2023-11-08T17:59:37.423813Z",
     "iopub.status.idle": "2023-11-08T17:59:37.430711Z",
     "shell.execute_reply": "2023-11-08T17:59:37.429248Z"
    },
    "papermill": {
     "duration": 0.086724,
     "end_time": "2023-11-08T17:59:37.432943",
     "exception": false,
     "start_time": "2023-11-08T17:59:37.346219",
     "status": "completed"
    },
    "tags": []
   },
   "outputs": [
    {
     "name": "stdout",
     "output_type": "stream",
     "text": [
      "{'apple', 'banana', 'cherry'}\n"
     ]
    }
   ],
   "source": [
    "x = {\"apple\", \"banana\", \"cherry\"}\n",
    "y = {\"google\", \"microsoft\", \"apple\"}\n",
    "\n",
    "z = x.union(y)\n",
    "\n",
    "print(x)"
   ]
  },
  {
   "cell_type": "code",
   "execution_count": 127,
   "id": "a0d8372d",
   "metadata": {
    "execution": {
     "iopub.execute_input": "2023-11-08T17:59:37.593950Z",
     "iopub.status.busy": "2023-11-08T17:59:37.593533Z",
     "iopub.status.idle": "2023-11-08T17:59:37.600274Z",
     "shell.execute_reply": "2023-11-08T17:59:37.597787Z"
    },
    "papermill": {
     "duration": 0.092217,
     "end_time": "2023-11-08T17:59:37.603469",
     "exception": false,
     "start_time": "2023-11-08T17:59:37.511252",
     "status": "completed"
    },
    "tags": []
   },
   "outputs": [
    {
     "name": "stdout",
     "output_type": "stream",
     "text": [
      "{'apple', 'microsoft', 'banana', 'google', 'cherry'}\n"
     ]
    }
   ],
   "source": [
    "x = {\"apple\", \"banana\", \"cherry\"}\n",
    "y = {\"google\", \"microsoft\", \"apple\"}\n",
    "\n",
    "x.update(y)\n",
    "\n",
    "print(x)"
   ]
  },
  {
   "cell_type": "code",
   "execution_count": 128,
   "id": "402bf361",
   "metadata": {
    "execution": {
     "iopub.execute_input": "2023-11-08T17:59:37.763405Z",
     "iopub.status.busy": "2023-11-08T17:59:37.762999Z",
     "iopub.status.idle": "2023-11-08T17:59:37.770604Z",
     "shell.execute_reply": "2023-11-08T17:59:37.768572Z"
    },
    "papermill": {
     "duration": 0.09084,
     "end_time": "2023-11-08T17:59:37.772886",
     "exception": false,
     "start_time": "2023-11-08T17:59:37.682046",
     "status": "completed"
    },
    "tags": []
   },
   "outputs": [
    {
     "name": "stdout",
     "output_type": "stream",
     "text": [
      "{'key 1': 'sush', 'key 2': 'sush', 'key 3': 'sush'}\n"
     ]
    }
   ],
   "source": [
    "x = ('key 1', 'key 2', 'key 3')\n",
    "y = \"sush\"\n",
    "\n",
    "thisdict = dict.fromkeys(x, y)\n",
    "\n",
    "print(thisdict)"
   ]
  },
  {
   "cell_type": "code",
   "execution_count": 129,
   "id": "bc8851f3",
   "metadata": {
    "execution": {
     "iopub.execute_input": "2023-11-08T17:59:37.934428Z",
     "iopub.status.busy": "2023-11-08T17:59:37.933344Z",
     "iopub.status.idle": "2023-11-08T17:59:37.942887Z",
     "shell.execute_reply": "2023-11-08T17:59:37.941326Z"
    },
    "papermill": {
     "duration": 0.094816,
     "end_time": "2023-11-08T17:59:37.946385",
     "exception": false,
     "start_time": "2023-11-08T17:59:37.851569",
     "status": "completed"
    },
    "tags": []
   },
   "outputs": [
    {
     "data": {
      "text/plain": [
       "{'key 1': 'sush', 'key 2': 'sush', 'key 3 ': 'sush'}"
      ]
     },
     "execution_count": 129,
     "metadata": {},
     "output_type": "execute_result"
    }
   ],
   "source": [
    "thisdict  = { \"key 1\" : \"sush\",\n",
    "            \"key 2\" : \"sush\",\n",
    "            \"key 3 \" : \"sush\"}\n",
    "thisdict"
   ]
  },
  {
   "cell_type": "code",
   "execution_count": 130,
   "id": "3d74c2c4",
   "metadata": {
    "execution": {
     "iopub.execute_input": "2023-11-08T17:59:38.107568Z",
     "iopub.status.busy": "2023-11-08T17:59:38.107151Z",
     "iopub.status.idle": "2023-11-08T17:59:38.113008Z",
     "shell.execute_reply": "2023-11-08T17:59:38.111313Z"
    },
    "papermill": {
     "duration": 0.090201,
     "end_time": "2023-11-08T17:59:38.115788",
     "exception": false,
     "start_time": "2023-11-08T17:59:38.025587",
     "status": "completed"
    },
    "tags": []
   },
   "outputs": [],
   "source": [
    "x = ('st 1', 'st 2', 'st 3')\n",
    "y = 0 "
   ]
  },
  {
   "cell_type": "code",
   "execution_count": 131,
   "id": "f780d025",
   "metadata": {
    "execution": {
     "iopub.execute_input": "2023-11-08T17:59:38.278789Z",
     "iopub.status.busy": "2023-11-08T17:59:38.278071Z",
     "iopub.status.idle": "2023-11-08T17:59:38.284111Z",
     "shell.execute_reply": "2023-11-08T17:59:38.283155Z"
    },
    "papermill": {
     "duration": 0.092404,
     "end_time": "2023-11-08T17:59:38.286955",
     "exception": false,
     "start_time": "2023-11-08T17:59:38.194551",
     "status": "completed"
    },
    "tags": []
   },
   "outputs": [
    {
     "data": {
      "text/plain": [
       "'Mustang'"
      ]
     },
     "execution_count": 131,
     "metadata": {},
     "output_type": "execute_result"
    }
   ],
   "source": [
    "car = {\n",
    "  \"brand\": \"Ford\",\n",
    "  \"model\": \"Mustang\",\n",
    "  \"year\": 1964\n",
    "}\n",
    "\n",
    "car.get(\"model\")\n",
    "\n"
   ]
  },
  {
   "cell_type": "code",
   "execution_count": 132,
   "id": "65a621b4",
   "metadata": {
    "execution": {
     "iopub.execute_input": "2023-11-08T17:59:38.443264Z",
     "iopub.status.busy": "2023-11-08T17:59:38.442816Z",
     "iopub.status.idle": "2023-11-08T17:59:38.450896Z",
     "shell.execute_reply": "2023-11-08T17:59:38.449530Z"
    },
    "papermill": {
     "duration": 0.089297,
     "end_time": "2023-11-08T17:59:38.453554",
     "exception": false,
     "start_time": "2023-11-08T17:59:38.364257",
     "status": "completed"
    },
    "tags": []
   },
   "outputs": [
    {
     "data": {
      "text/plain": [
       "'Mustang'"
      ]
     },
     "execution_count": 132,
     "metadata": {},
     "output_type": "execute_result"
    }
   ],
   "source": [
    "car = {\n",
    "  \"brand\": \"Ford\",\n",
    "  \"model\": \"Mustang\",\n",
    "  \"year\": 1964\n",
    "}\n",
    "car[\"model\"]"
   ]
  },
  {
   "cell_type": "code",
   "execution_count": 133,
   "id": "8b130858",
   "metadata": {
    "execution": {
     "iopub.execute_input": "2023-11-08T17:59:38.613096Z",
     "iopub.status.busy": "2023-11-08T17:59:38.612718Z",
     "iopub.status.idle": "2023-11-08T17:59:38.621716Z",
     "shell.execute_reply": "2023-11-08T17:59:38.619689Z"
    },
    "papermill": {
     "duration": 0.091614,
     "end_time": "2023-11-08T17:59:38.624441",
     "exception": false,
     "start_time": "2023-11-08T17:59:38.532827",
     "status": "completed"
    },
    "tags": []
   },
   "outputs": [
    {
     "data": {
      "text/plain": [
       "dict_keys(['brand', 'model', 'year'])"
      ]
     },
     "execution_count": 133,
     "metadata": {},
     "output_type": "execute_result"
    }
   ],
   "source": [
    "car = {\n",
    "  \"brand\": \"Ford\",\n",
    "  \"model\": \"Mustang\",\n",
    "  \"year\": 1964\n",
    "}\n",
    "\n",
    "car.keys()"
   ]
  },
  {
   "cell_type": "code",
   "execution_count": 134,
   "id": "a4cfe79d",
   "metadata": {
    "execution": {
     "iopub.execute_input": "2023-11-08T17:59:38.783153Z",
     "iopub.status.busy": "2023-11-08T17:59:38.782724Z",
     "iopub.status.idle": "2023-11-08T17:59:38.790454Z",
     "shell.execute_reply": "2023-11-08T17:59:38.789385Z"
    },
    "papermill": {
     "duration": 0.090044,
     "end_time": "2023-11-08T17:59:38.792957",
     "exception": false,
     "start_time": "2023-11-08T17:59:38.702913",
     "status": "completed"
    },
    "tags": []
   },
   "outputs": [
    {
     "data": {
      "text/plain": [
       "dict_values(['Ford', 'Mustang', 1964])"
      ]
     },
     "execution_count": 134,
     "metadata": {},
     "output_type": "execute_result"
    }
   ],
   "source": [
    "car.values()"
   ]
  },
  {
   "cell_type": "code",
   "execution_count": 135,
   "id": "52753273",
   "metadata": {
    "execution": {
     "iopub.execute_input": "2023-11-08T17:59:38.951050Z",
     "iopub.status.busy": "2023-11-08T17:59:38.950701Z",
     "iopub.status.idle": "2023-11-08T17:59:38.957863Z",
     "shell.execute_reply": "2023-11-08T17:59:38.956987Z"
    },
    "papermill": {
     "duration": 0.088502,
     "end_time": "2023-11-08T17:59:38.960363",
     "exception": false,
     "start_time": "2023-11-08T17:59:38.871861",
     "status": "completed"
    },
    "tags": []
   },
   "outputs": [
    {
     "data": {
      "text/plain": [
       "dict_items([('brand', 'Ford'), ('model', 'Mustang'), ('year', 1964)])"
      ]
     },
     "execution_count": 135,
     "metadata": {},
     "output_type": "execute_result"
    }
   ],
   "source": [
    "car.items()"
   ]
  },
  {
   "cell_type": "code",
   "execution_count": 136,
   "id": "6375d503",
   "metadata": {
    "execution": {
     "iopub.execute_input": "2023-11-08T17:59:39.198360Z",
     "iopub.status.busy": "2023-11-08T17:59:39.197926Z",
     "iopub.status.idle": "2023-11-08T17:59:39.204125Z",
     "shell.execute_reply": "2023-11-08T17:59:39.202554Z"
    },
    "papermill": {
     "duration": 0.089417,
     "end_time": "2023-11-08T17:59:39.206253",
     "exception": false,
     "start_time": "2023-11-08T17:59:39.116836",
     "status": "completed"
    },
    "tags": []
   },
   "outputs": [
    {
     "name": "stdout",
     "output_type": "stream",
     "text": [
      "{'brand': 'Ford', 'year': 1964}\n"
     ]
    }
   ],
   "source": [
    "car = {\n",
    "  \"brand\": \"Ford\",\n",
    "  \"model\": \"Mustang\",\n",
    "  \"year\": 1964\n",
    "}\n",
    "\n",
    "car.pop(\"model\")\n",
    "\n",
    "print(car)"
   ]
  },
  {
   "cell_type": "code",
   "execution_count": 137,
   "id": "bb421b37",
   "metadata": {
    "execution": {
     "iopub.execute_input": "2023-11-08T17:59:39.364810Z",
     "iopub.status.busy": "2023-11-08T17:59:39.364430Z",
     "iopub.status.idle": "2023-11-08T17:59:39.371480Z",
     "shell.execute_reply": "2023-11-08T17:59:39.369534Z"
    },
    "papermill": {
     "duration": 0.089938,
     "end_time": "2023-11-08T17:59:39.374112",
     "exception": false,
     "start_time": "2023-11-08T17:59:39.284174",
     "status": "completed"
    },
    "tags": []
   },
   "outputs": [
    {
     "name": "stdout",
     "output_type": "stream",
     "text": [
      "{'brand': 'Ford', 'model': 'Mustang'}\n"
     ]
    }
   ],
   "source": [
    "car = {\n",
    "  \"brand\": \"Ford\",\n",
    "  \"model\": \"Mustang\",\n",
    "  \"year\": 1964\n",
    "}\n",
    "\n",
    "car.popitem()\n",
    "\n",
    "print(car)"
   ]
  },
  {
   "cell_type": "code",
   "execution_count": 138,
   "id": "1ee632ee",
   "metadata": {
    "execution": {
     "iopub.execute_input": "2023-11-08T17:59:39.532029Z",
     "iopub.status.busy": "2023-11-08T17:59:39.531671Z",
     "iopub.status.idle": "2023-11-08T17:59:39.537017Z",
     "shell.execute_reply": "2023-11-08T17:59:39.535962Z"
    },
    "papermill": {
     "duration": 0.086152,
     "end_time": "2023-11-08T17:59:39.538852",
     "exception": false,
     "start_time": "2023-11-08T17:59:39.452700",
     "status": "completed"
    },
    "tags": []
   },
   "outputs": [
    {
     "name": "stdout",
     "output_type": "stream",
     "text": [
      "None\n"
     ]
    }
   ],
   "source": [
    "car = {\n",
    "  \"brand\": \"Ford\",\n",
    "    \"model\" : None ,\n",
    "\n",
    "  \"year\": 1964\n",
    "}\n",
    "\n",
    "x = car.setdefault(\"model\", \"Bronco\")\n",
    "\n",
    "print(x)"
   ]
  },
  {
   "cell_type": "code",
   "execution_count": 139,
   "id": "9a6cc963",
   "metadata": {
    "execution": {
     "iopub.execute_input": "2023-11-08T17:59:39.692873Z",
     "iopub.status.busy": "2023-11-08T17:59:39.692456Z",
     "iopub.status.idle": "2023-11-08T17:59:39.697855Z",
     "shell.execute_reply": "2023-11-08T17:59:39.696972Z"
    },
    "papermill": {
     "duration": 0.08525,
     "end_time": "2023-11-08T17:59:39.699991",
     "exception": false,
     "start_time": "2023-11-08T17:59:39.614741",
     "status": "completed"
    },
    "tags": []
   },
   "outputs": [
    {
     "name": "stdout",
     "output_type": "stream",
     "text": [
      "{'brand': 'Ford', 'model': 'Mustang', 'year': 1964, 'color': 'White'}\n"
     ]
    }
   ],
   "source": [
    "car = {\n",
    "  \"brand\": \"Ford\",\n",
    "  \"model\": \"Mustang\",\n",
    "  \"year\": 1964\n",
    "}\n",
    "\n",
    "\n",
    "car.update({\"color\": \"White\"})\n",
    "print(car)\n",
    "\n"
   ]
  },
  {
   "cell_type": "code",
   "execution_count": 140,
   "id": "22325b71",
   "metadata": {
    "execution": {
     "iopub.execute_input": "2023-11-08T17:59:39.860290Z",
     "iopub.status.busy": "2023-11-08T17:59:39.859794Z",
     "iopub.status.idle": "2023-11-08T17:59:39.865630Z",
     "shell.execute_reply": "2023-11-08T17:59:39.864512Z"
    },
    "papermill": {
     "duration": 0.088981,
     "end_time": "2023-11-08T17:59:39.867690",
     "exception": false,
     "start_time": "2023-11-08T17:59:39.778709",
     "status": "completed"
    },
    "tags": []
   },
   "outputs": [],
   "source": [
    "# *"
   ]
  },
  {
   "cell_type": "code",
   "execution_count": 141,
   "id": "7d186b9a",
   "metadata": {
    "execution": {
     "iopub.execute_input": "2023-11-08T17:59:40.025639Z",
     "iopub.status.busy": "2023-11-08T17:59:40.025204Z",
     "iopub.status.idle": "2023-11-08T17:59:40.030779Z",
     "shell.execute_reply": "2023-11-08T17:59:40.029902Z"
    },
    "papermill": {
     "duration": 0.084385,
     "end_time": "2023-11-08T17:59:40.032656",
     "exception": false,
     "start_time": "2023-11-08T17:59:39.948271",
     "status": "completed"
    },
    "tags": []
   },
   "outputs": [
    {
     "name": "stdout",
     "output_type": "stream",
     "text": [
      "*\n"
     ]
    }
   ],
   "source": [
    "print(\"*\")"
   ]
  },
  {
   "cell_type": "code",
   "execution_count": 142,
   "id": "20669c5e",
   "metadata": {
    "execution": {
     "iopub.execute_input": "2023-11-08T17:59:40.192487Z",
     "iopub.status.busy": "2023-11-08T17:59:40.192051Z",
     "iopub.status.idle": "2023-11-08T17:59:40.197900Z",
     "shell.execute_reply": "2023-11-08T17:59:40.196612Z"
    },
    "papermill": {
     "duration": 0.088656,
     "end_time": "2023-11-08T17:59:40.200180",
     "exception": false,
     "start_time": "2023-11-08T17:59:40.111524",
     "status": "completed"
    },
    "tags": []
   },
   "outputs": [],
   "source": [
    "# *\n",
    "# **"
   ]
  },
  {
   "cell_type": "code",
   "execution_count": 143,
   "id": "6e3a93f9",
   "metadata": {
    "execution": {
     "iopub.execute_input": "2023-11-08T17:59:40.364891Z",
     "iopub.status.busy": "2023-11-08T17:59:40.363506Z",
     "iopub.status.idle": "2023-11-08T17:59:40.369920Z",
     "shell.execute_reply": "2023-11-08T17:59:40.369048Z"
    },
    "papermill": {
     "duration": 0.091238,
     "end_time": "2023-11-08T17:59:40.371809",
     "exception": false,
     "start_time": "2023-11-08T17:59:40.280571",
     "status": "completed"
    },
    "tags": []
   },
   "outputs": [
    {
     "name": "stdout",
     "output_type": "stream",
     "text": [
      "*\n",
      "**\n"
     ]
    }
   ],
   "source": [
    "print(\"*\")\n",
    "print(\"**\")"
   ]
  },
  {
   "cell_type": "code",
   "execution_count": 144,
   "id": "345fbdae",
   "metadata": {
    "execution": {
     "iopub.execute_input": "2023-11-08T17:59:40.532403Z",
     "iopub.status.busy": "2023-11-08T17:59:40.531913Z",
     "iopub.status.idle": "2023-11-08T17:59:40.537398Z",
     "shell.execute_reply": "2023-11-08T17:59:40.535782Z"
    },
    "papermill": {
     "duration": 0.087515,
     "end_time": "2023-11-08T17:59:40.540388",
     "exception": false,
     "start_time": "2023-11-08T17:59:40.452873",
     "status": "completed"
    },
    "tags": []
   },
   "outputs": [],
   "source": [
    "# *\n",
    "# **\n",
    "# ***\n",
    "# ****"
   ]
  },
  {
   "cell_type": "code",
   "execution_count": 145,
   "id": "e56cea04",
   "metadata": {
    "execution": {
     "iopub.execute_input": "2023-11-08T17:59:40.700069Z",
     "iopub.status.busy": "2023-11-08T17:59:40.698724Z",
     "iopub.status.idle": "2023-11-08T17:59:40.706725Z",
     "shell.execute_reply": "2023-11-08T17:59:40.705284Z"
    },
    "papermill": {
     "duration": 0.090234,
     "end_time": "2023-11-08T17:59:40.709158",
     "exception": false,
     "start_time": "2023-11-08T17:59:40.618924",
     "status": "completed"
    },
    "tags": []
   },
   "outputs": [
    {
     "name": "stdout",
     "output_type": "stream",
     "text": [
      "   *\n",
      "  **\n",
      " ***\n",
      "****\n",
      " ***\n",
      "  **\n",
      "   *\n"
     ]
    }
   ],
   "source": [
    "for i in range(4) :\n",
    "    print(\" \"*(3-i),end=\"\")\n",
    "    print(\"*\"* (i+1))\n",
    "#     print(\"--\")\n",
    "for j in range(3):\n",
    "    print(\" \"*(j+1),end=\"\")\n",
    "    print(\"*\"*(3-j))"
   ]
  },
  {
   "cell_type": "code",
   "execution_count": 146,
   "id": "190c6a44",
   "metadata": {
    "execution": {
     "iopub.execute_input": "2023-11-08T17:59:40.873897Z",
     "iopub.status.busy": "2023-11-08T17:59:40.873154Z",
     "iopub.status.idle": "2023-11-08T17:59:40.878750Z",
     "shell.execute_reply": "2023-11-08T17:59:40.877224Z"
    },
    "papermill": {
     "duration": 0.088408,
     "end_time": "2023-11-08T17:59:40.881375",
     "exception": false,
     "start_time": "2023-11-08T17:59:40.792967",
     "status": "completed"
    },
    "tags": []
   },
   "outputs": [],
   "source": [
    "#    *\n",
    "#   ***\n",
    "#  *****\n",
    "# *******\n",
    "\n",
    "#  *****\n",
    "#   ***\n",
    "#    *"
   ]
  },
  {
   "cell_type": "code",
   "execution_count": 147,
   "id": "021d8ad9",
   "metadata": {
    "execution": {
     "iopub.execute_input": "2023-11-08T17:59:41.041380Z",
     "iopub.status.busy": "2023-11-08T17:59:41.040185Z",
     "iopub.status.idle": "2023-11-08T17:59:41.045637Z",
     "shell.execute_reply": "2023-11-08T17:59:41.044167Z"
    },
    "papermill": {
     "duration": 0.088648,
     "end_time": "2023-11-08T17:59:41.048142",
     "exception": false,
     "start_time": "2023-11-08T17:59:40.959494",
     "status": "completed"
    },
    "tags": []
   },
   "outputs": [],
   "source": [
    "# *\n",
    "# ***\n",
    "# *****\n",
    "# *******\n",
    "\n",
    "\n",
    "# *****\n",
    "# ***\n",
    "# *"
   ]
  },
  {
   "cell_type": "code",
   "execution_count": 148,
   "id": "6af4fc67",
   "metadata": {
    "execution": {
     "iopub.execute_input": "2023-11-08T17:59:41.227492Z",
     "iopub.status.busy": "2023-11-08T17:59:41.226768Z",
     "iopub.status.idle": "2023-11-08T17:59:41.232761Z",
     "shell.execute_reply": "2023-11-08T17:59:41.232041Z"
    },
    "papermill": {
     "duration": 0.095815,
     "end_time": "2023-11-08T17:59:41.238675",
     "exception": false,
     "start_time": "2023-11-08T17:59:41.142860",
     "status": "completed"
    },
    "tags": []
   },
   "outputs": [
    {
     "name": "stdout",
     "output_type": "stream",
     "text": [
      "*\n",
      "***\n",
      "*****\n",
      "*******\n",
      "*\n",
      "*\n",
      "*\n"
     ]
    }
   ],
   "source": [
    "for i in range(4):\n",
    "    print(\"*\"* ((2*i)+1))\n",
    "for j in range(3):\n",
    "    print(\"*\")"
   ]
  },
  {
   "cell_type": "code",
   "execution_count": 149,
   "id": "802e003e",
   "metadata": {
    "execution": {
     "iopub.execute_input": "2023-11-08T17:59:41.409100Z",
     "iopub.status.busy": "2023-11-08T17:59:41.408663Z",
     "iopub.status.idle": "2023-11-08T17:59:41.413933Z",
     "shell.execute_reply": "2023-11-08T17:59:41.412502Z"
    },
    "papermill": {
     "duration": 0.095705,
     "end_time": "2023-11-08T17:59:41.416048",
     "exception": false,
     "start_time": "2023-11-08T17:59:41.320343",
     "status": "completed"
    },
    "tags": []
   },
   "outputs": [],
   "source": [
    "#     *\n",
    "#    ***\n",
    "#   *****\n",
    "#  *******\n",
    "# *********\n",
    "#  *******\n",
    "#   *****\n",
    "#    ***\n",
    "#     *"
   ]
  },
  {
   "cell_type": "code",
   "execution_count": 150,
   "id": "5723c335",
   "metadata": {
    "execution": {
     "iopub.execute_input": "2023-11-08T17:59:41.578438Z",
     "iopub.status.busy": "2023-11-08T17:59:41.577997Z",
     "iopub.status.idle": "2023-11-08T17:59:41.585109Z",
     "shell.execute_reply": "2023-11-08T17:59:41.583906Z"
    },
    "papermill": {
     "duration": 0.09245,
     "end_time": "2023-11-08T17:59:41.588417",
     "exception": false,
     "start_time": "2023-11-08T17:59:41.495967",
     "status": "completed"
    },
    "tags": []
   },
   "outputs": [
    {
     "name": "stdout",
     "output_type": "stream",
     "text": [
      "                        *\n",
      "                       ***\n",
      "                      *****\n",
      "                     *******\n",
      "                    *********\n",
      "                   ***********\n",
      "                  *************\n",
      "                 ***************\n",
      "                *****************\n",
      "               *******************\n",
      "              *********************\n",
      "             ***********************\n",
      "            *************************\n",
      "           ***************************\n",
      "          *****************************\n",
      "         *******************************\n",
      "        *********************************\n",
      "       ***********************************\n",
      "      *************************************\n",
      "     ***************************************\n",
      "    *****************************************\n",
      "   *******************************************\n",
      "  *********************************************\n",
      " ***********************************************\n",
      "*************************************************\n",
      " ***********************************************\n",
      "  *********************************************\n",
      "   *******************************************\n",
      "    *****************************************\n",
      "     ***************************************\n",
      "      *************************************\n",
      "       ***********************************\n",
      "        *********************************\n",
      "         *******************************\n",
      "          *****************************\n",
      "           ***************************\n",
      "            *************************\n",
      "             ***********************\n",
      "              *********************\n",
      "               *******************\n",
      "                *****************\n",
      "                 ***************\n",
      "                  *************\n",
      "                   ***********\n",
      "                    *********\n",
      "                     *******\n",
      "                      *****\n",
      "                       ***\n",
      "                        *\n"
     ]
    }
   ],
   "source": [
    "n =25\n",
    "\n",
    "for i in range(n):\n",
    "    print(\" \"*(n-1-i),end=\"\")\n",
    "    print(\"*\"*((2*i)+1))\n",
    "for j in range(n-1):\n",
    "    print(\" \"*(j+1),end=\"\")\n",
    "    print(\"*\"*((2*(n-2-j))+1))"
   ]
  },
  {
   "cell_type": "markdown",
   "id": "6dbae477",
   "metadata": {
    "papermill": {
     "duration": 0.079182,
     "end_time": "2023-11-08T17:59:41.748591",
     "exception": false,
     "start_time": "2023-11-08T17:59:41.669409",
     "status": "completed"
    },
    "tags": []
   },
   "source": [
    "# "
   ]
  },
  {
   "cell_type": "code",
   "execution_count": 151,
   "id": "1ab75d68",
   "metadata": {
    "execution": {
     "iopub.execute_input": "2023-11-08T17:59:41.930440Z",
     "iopub.status.busy": "2023-11-08T17:59:41.929820Z",
     "iopub.status.idle": "2023-11-08T17:59:41.934001Z",
     "shell.execute_reply": "2023-11-08T17:59:41.932725Z"
    },
    "papermill": {
     "duration": 0.103209,
     "end_time": "2023-11-08T17:59:41.936904",
     "exception": false,
     "start_time": "2023-11-08T17:59:41.833695",
     "status": "completed"
    },
    "tags": []
   },
   "outputs": [],
   "source": [
    "#    *    \n",
    "#   * *\n",
    "#  *   *\n",
    "# *     *\n",
    "#  *   *\n",
    "#   * *\n",
    "\n",
    "\n",
    "#    *"
   ]
  },
  {
   "cell_type": "code",
   "execution_count": 152,
   "id": "424eae11",
   "metadata": {
    "execution": {
     "iopub.execute_input": "2023-11-08T17:59:42.098062Z",
     "iopub.status.busy": "2023-11-08T17:59:42.097584Z",
     "iopub.status.idle": "2023-11-08T17:59:42.105270Z",
     "shell.execute_reply": "2023-11-08T17:59:42.104055Z"
    },
    "papermill": {
     "duration": 0.091187,
     "end_time": "2023-11-08T17:59:42.107634",
     "exception": false,
     "start_time": "2023-11-08T17:59:42.016447",
     "status": "completed"
    },
    "tags": []
   },
   "outputs": [
    {
     "name": "stdout",
     "output_type": "stream",
     "text": [
      "           *\n",
      "          * *\n",
      "         *   *\n",
      "        *     *\n",
      "       *       *\n",
      "      *         *\n",
      "     *           *\n",
      "    *             *\n",
      "   *               *\n",
      "  *                 *\n",
      " *                   *\n",
      "  *                 *\n",
      "   *               *\n",
      "    *             *\n",
      "     *           *\n",
      "      *         *\n",
      "       *       *\n",
      "        *     *\n",
      "         *   *\n",
      "          * *\n",
      "           *\n"
     ]
    }
   ],
   "source": [
    "n = 11\n",
    "# n = 4\n",
    "print(\" \"*(n-1),\"*\")\n",
    "for i in range((n-1)):\n",
    "    print(\" \"*(n-2-i),\"*\"+\" \"*((2*i )+1)+\"*\")\n",
    "for j in range(n-2):\n",
    "    print(\" \"*(j+1),\"*\"+\" \"*((2*(n-2-j))-1)+\"*\")\n",
    "    \n",
    "\n",
    "    \n",
    "print(\" \"*(n-1),\"*\")"
   ]
  },
  {
   "cell_type": "code",
   "execution_count": 153,
   "id": "a7be0b82",
   "metadata": {
    "execution": {
     "iopub.execute_input": "2023-11-08T17:59:42.273289Z",
     "iopub.status.busy": "2023-11-08T17:59:42.272846Z",
     "iopub.status.idle": "2023-11-08T17:59:42.278708Z",
     "shell.execute_reply": "2023-11-08T17:59:42.277062Z"
    },
    "papermill": {
     "duration": 0.091758,
     "end_time": "2023-11-08T17:59:42.281450",
     "exception": false,
     "start_time": "2023-11-08T17:59:42.189692",
     "status": "completed"
    },
    "tags": []
   },
   "outputs": [],
   "source": [
    "# 1\n",
    "# 1 1\n",
    "# 1 1 1\n",
    "# 1 1 1 1\n",
    "# 1 1 1 1 1"
   ]
  },
  {
   "cell_type": "code",
   "execution_count": 154,
   "id": "4459b38c",
   "metadata": {
    "execution": {
     "iopub.execute_input": "2023-11-08T17:59:42.441004Z",
     "iopub.status.busy": "2023-11-08T17:59:42.440305Z",
     "iopub.status.idle": "2023-11-08T17:59:42.445255Z",
     "shell.execute_reply": "2023-11-08T17:59:42.444262Z"
    },
    "papermill": {
     "duration": 0.086722,
     "end_time": "2023-11-08T17:59:42.447594",
     "exception": false,
     "start_time": "2023-11-08T17:59:42.360872",
     "status": "completed"
    },
    "tags": []
   },
   "outputs": [
    {
     "name": "stdout",
     "output_type": "stream",
     "text": [
      "1 \n",
      "1 1 \n",
      "1 1 1 \n",
      "1 1 1 1 \n",
      "1 1 1 1 1 \n"
     ]
    }
   ],
   "source": [
    "for i in range(5):\n",
    "    print(\"1 \"*(i+1))"
   ]
  },
  {
   "cell_type": "code",
   "execution_count": 155,
   "id": "b2b68baf",
   "metadata": {
    "execution": {
     "iopub.execute_input": "2023-11-08T17:59:42.606046Z",
     "iopub.status.busy": "2023-11-08T17:59:42.605369Z",
     "iopub.status.idle": "2023-11-08T17:59:42.610422Z",
     "shell.execute_reply": "2023-11-08T17:59:42.609091Z"
    },
    "papermill": {
     "duration": 0.087521,
     "end_time": "2023-11-08T17:59:42.613257",
     "exception": false,
     "start_time": "2023-11-08T17:59:42.525736",
     "status": "completed"
    },
    "tags": []
   },
   "outputs": [],
   "source": [
    "# 1\n",
    "# 1 2\n",
    "# 1 2 3\n",
    "# 1 2 3 4\n",
    "# 1 2 3 4 5"
   ]
  },
  {
   "cell_type": "code",
   "execution_count": 156,
   "id": "48d53bbb",
   "metadata": {
    "execution": {
     "iopub.execute_input": "2023-11-08T17:59:42.768716Z",
     "iopub.status.busy": "2023-11-08T17:59:42.768319Z",
     "iopub.status.idle": "2023-11-08T17:59:42.774892Z",
     "shell.execute_reply": "2023-11-08T17:59:42.773510Z"
    },
    "papermill": {
     "duration": 0.086745,
     "end_time": "2023-11-08T17:59:42.776733",
     "exception": false,
     "start_time": "2023-11-08T17:59:42.689988",
     "status": "completed"
    },
    "tags": []
   },
   "outputs": [
    {
     "name": "stdout",
     "output_type": "stream",
     "text": [
      "1 \n",
      "1 2 \n",
      "1 2 3 \n",
      "1 2 3 4 \n",
      "1 2 3 4 5 \n"
     ]
    }
   ],
   "source": [
    "for i in range(5):\n",
    "    for j in range(i+1) :\n",
    "        print(j+1,end=\" \")\n",
    "    print()"
   ]
  },
  {
   "cell_type": "code",
   "execution_count": 157,
   "id": "ac607325",
   "metadata": {
    "execution": {
     "iopub.execute_input": "2023-11-08T17:59:42.939211Z",
     "iopub.status.busy": "2023-11-08T17:59:42.938403Z",
     "iopub.status.idle": "2023-11-08T17:59:42.942251Z",
     "shell.execute_reply": "2023-11-08T17:59:42.941556Z"
    },
    "papermill": {
     "duration": 0.088748,
     "end_time": "2023-11-08T17:59:42.944829",
     "exception": false,
     "start_time": "2023-11-08T17:59:42.856081",
     "status": "completed"
    },
    "tags": []
   },
   "outputs": [],
   "source": [
    "#       1\n",
    "#     1 2 1\n",
    "#   1 2 3 2 1 \n",
    "# 1 2 3 4 3 2 1\n",
    "#   1 2 3 2 1\n",
    "#     1 2 1\n",
    "#       1"
   ]
  },
  {
   "cell_type": "code",
   "execution_count": 158,
   "id": "2060f62a",
   "metadata": {
    "execution": {
     "iopub.execute_input": "2023-11-08T17:59:43.106482Z",
     "iopub.status.busy": "2023-11-08T17:59:43.105780Z",
     "iopub.status.idle": "2023-11-08T17:59:43.115713Z",
     "shell.execute_reply": "2023-11-08T17:59:43.113095Z"
    },
    "papermill": {
     "duration": 0.09483,
     "end_time": "2023-11-08T17:59:43.118847",
     "exception": false,
     "start_time": "2023-11-08T17:59:43.024017",
     "status": "completed"
    },
    "tags": []
   },
   "outputs": [
    {
     "name": "stdout",
     "output_type": "stream",
     "text": [
      "              1 \n",
      "            1 2 1 \n",
      "          1 2 3 2 1 \n",
      "        1 2 3 4 3 2 1 \n",
      "      1 2 3 4 5 4 3 2 1 \n",
      "    1 2 3 4 5 6 5 4 3 2 1 \n",
      "  1 2 3 4 5 6 7 6 5 4 3 2 1 \n",
      "1 2 3 4 5 6 7 8 7 6 5 4 3 2 1 \n",
      "  1 2 3 4 5 6 7 6 5 4 3 2 1 \n",
      "    1 2 3 4 5 6 5 4 3 2 1 \n",
      "      1 2 3 4 5 4 3 2 1 \n",
      "        1 2 3 4 3 2 1 \n",
      "          1 2 3 2 1 \n",
      "            1 2 1 \n",
      "              1 \n"
     ]
    }
   ],
   "source": [
    "n = 8\n",
    "# 4\n",
    "for i in range(n):\n",
    "    print(\" \"*(2*(n-1-i)),end=\"\")\n",
    "    for j in range(i+1):\n",
    "        print(j+1 ,end=\" \")\n",
    "    for k in range(i-1,-1,-1):\n",
    "        print(k+1 ,end=\" \")\n",
    "    print()\n",
    "for p in range(n-1) : # 0 13\n",
    "    print(\" \"*(2*(p+1)),end=\"\")\n",
    "    for q in range(n-1-p) :\n",
    "        print(q+1,end=\" \")        \n",
    "    for r in range(n-p-3,-1,-1):\n",
    "        print(r+1,end=\" \")\n",
    "    print()"
   ]
  },
  {
   "cell_type": "markdown",
   "id": "f6627a83",
   "metadata": {
    "execution": {
     "iopub.execute_input": "2023-10-20T17:08:22.412842Z",
     "iopub.status.busy": "2023-10-20T17:08:22.412393Z",
     "iopub.status.idle": "2023-10-20T17:08:22.418210Z",
     "shell.execute_reply": "2023-10-20T17:08:22.417396Z",
     "shell.execute_reply.started": "2023-10-20T17:08:22.412813Z"
    },
    "papermill": {
     "duration": 0.164649,
     "end_time": "2023-11-08T17:59:43.362312",
     "exception": false,
     "start_time": "2023-11-08T17:59:43.197663",
     "status": "completed"
    },
    "tags": []
   },
   "source": [
    "# for i in range(4):\n",
    "    print(i, end=\" \")"
   ]
  },
  {
   "cell_type": "code",
   "execution_count": 159,
   "id": "00e233da",
   "metadata": {
    "execution": {
     "iopub.execute_input": "2023-11-08T17:59:43.522178Z",
     "iopub.status.busy": "2023-11-08T17:59:43.521798Z",
     "iopub.status.idle": "2023-11-08T17:59:43.529117Z",
     "shell.execute_reply": "2023-11-08T17:59:43.527147Z"
    },
    "papermill": {
     "duration": 0.090237,
     "end_time": "2023-11-08T17:59:43.532049",
     "exception": false,
     "start_time": "2023-11-08T17:59:43.441812",
     "status": "completed"
    },
    "tags": []
   },
   "outputs": [
    {
     "name": "stdout",
     "output_type": "stream",
     "text": [
      "3 2 1 0 "
     ]
    }
   ],
   "source": [
    "for i in range(3,-1,-1):\n",
    "    print(i, end=\" \")"
   ]
  },
  {
   "cell_type": "code",
   "execution_count": 160,
   "id": "2d14eef6",
   "metadata": {
    "execution": {
     "iopub.execute_input": "2023-11-08T17:59:43.689603Z",
     "iopub.status.busy": "2023-11-08T17:59:43.688908Z",
     "iopub.status.idle": "2023-11-08T17:59:43.693443Z",
     "shell.execute_reply": "2023-11-08T17:59:43.692470Z"
    },
    "papermill": {
     "duration": 0.084946,
     "end_time": "2023-11-08T17:59:43.695662",
     "exception": false,
     "start_time": "2023-11-08T17:59:43.610716",
     "status": "completed"
    },
    "tags": []
   },
   "outputs": [],
   "source": [
    "# 0  \n",
    "\n",
    "# 0 1  \n",
    "\n",
    "# 0 2 4  \n",
    "\n",
    "# 0 3 6 9  \n",
    "\n",
    "# 0 4 8 12 16  \n",
    "\n",
    "# 0 5 10 15 20 25  \n",
    "\n",
    "# 0 6 12 18 24 30 36"
   ]
  },
  {
   "cell_type": "code",
   "execution_count": 161,
   "id": "15105d6d",
   "metadata": {
    "execution": {
     "iopub.execute_input": "2023-11-08T17:59:43.859894Z",
     "iopub.status.busy": "2023-11-08T17:59:43.858532Z",
     "iopub.status.idle": "2023-11-08T17:59:43.866583Z",
     "shell.execute_reply": "2023-11-08T17:59:43.865209Z"
    },
    "papermill": {
     "duration": 0.091664,
     "end_time": "2023-11-08T17:59:43.869182",
     "exception": false,
     "start_time": "2023-11-08T17:59:43.777518",
     "status": "completed"
    },
    "tags": []
   },
   "outputs": [
    {
     "name": "stdout",
     "output_type": "stream",
     "text": [
      "0 \n",
      "0 1 \n",
      "0 2 4 \n",
      "0 3 6 9 \n",
      "0 4 8 12 16 \n",
      "0 5 10 15 20 25 \n",
      "0 6 12 18 24 30 36 \n",
      "0 7 14 21 28 35 42 49 \n",
      "0 8 16 24 32 40 48 56 64 \n",
      "0 9 18 27 36 45 54 63 72 81 \n",
      "0 10 20 30 40 50 60 70 80 90 100 \n",
      "0 11 22 33 44 55 66 77 88 99 110 121 \n",
      "0 12 24 36 48 60 72 84 96 108 120 132 144 \n",
      "0 13 26 39 52 65 78 91 104 117 130 143 156 169 \n",
      "0 14 28 42 56 70 84 98 112 126 140 154 168 182 196 \n",
      "0 15 30 45 60 75 90 105 120 135 150 165 180 195 210 225 \n"
     ]
    }
   ],
   "source": [
    "n = 15\n",
    "# 6\n",
    "for i in range(n+1):\n",
    "    for j in range(i+1):\n",
    "        print(j*i,end=\" \")\n",
    "    print()"
   ]
  },
  {
   "cell_type": "code",
   "execution_count": 162,
   "id": "64848915",
   "metadata": {
    "execution": {
     "iopub.execute_input": "2023-11-08T17:59:44.032904Z",
     "iopub.status.busy": "2023-11-08T17:59:44.031917Z",
     "iopub.status.idle": "2023-11-08T17:59:44.036648Z",
     "shell.execute_reply": "2023-11-08T17:59:44.035691Z"
    },
    "papermill": {
     "duration": 0.090377,
     "end_time": "2023-11-08T17:59:44.039742",
     "exception": false,
     "start_time": "2023-11-08T17:59:43.949365",
     "status": "completed"
    },
    "tags": []
   },
   "outputs": [],
   "source": [
    "# 1 \n",
    "\n",
    "# 3 3 \n",
    "\n",
    "# 5 5 5 \n",
    "\n",
    "# 7 7 7 7 \n",
    "\n",
    "# 9 9 9 9 9"
   ]
  },
  {
   "cell_type": "code",
   "execution_count": 163,
   "id": "4fd3eb4a",
   "metadata": {
    "execution": {
     "iopub.execute_input": "2023-11-08T17:59:44.202330Z",
     "iopub.status.busy": "2023-11-08T17:59:44.201845Z",
     "iopub.status.idle": "2023-11-08T17:59:44.209831Z",
     "shell.execute_reply": "2023-11-08T17:59:44.208224Z"
    },
    "papermill": {
     "duration": 0.093044,
     "end_time": "2023-11-08T17:59:44.212091",
     "exception": false,
     "start_time": "2023-11-08T17:59:44.119047",
     "status": "completed"
    },
    "tags": []
   },
   "outputs": [
    {
     "name": "stdout",
     "output_type": "stream",
     "text": [
      "1 \n",
      "3 3 \n",
      "5 5 5 \n",
      "7 7 7 7 \n",
      "9 9 9 9 9 \n"
     ]
    }
   ],
   "source": [
    "\n",
    "n = 5\n",
    "for i in range(n):\n",
    "    for j in range(i+1):\n",
    "        print((2*i)+1,end=\" \")\n",
    "    print()"
   ]
  },
  {
   "cell_type": "code",
   "execution_count": 164,
   "id": "00bfcc97",
   "metadata": {
    "execution": {
     "iopub.execute_input": "2023-11-08T17:59:44.376013Z",
     "iopub.status.busy": "2023-11-08T17:59:44.375570Z",
     "iopub.status.idle": "2023-11-08T17:59:44.381648Z",
     "shell.execute_reply": "2023-11-08T17:59:44.380061Z"
    },
    "papermill": {
     "duration": 0.090909,
     "end_time": "2023-11-08T17:59:44.383925",
     "exception": false,
     "start_time": "2023-11-08T17:59:44.293016",
     "status": "completed"
    },
    "tags": []
   },
   "outputs": [],
   "source": [
    "# ******\n",
    "#     *\n",
    "#    *\n",
    "#   *\n",
    "#  *\n",
    "# ******"
   ]
  },
  {
   "cell_type": "code",
   "execution_count": 165,
   "id": "9d6c30bc",
   "metadata": {
    "execution": {
     "iopub.execute_input": "2023-11-08T17:59:44.542788Z",
     "iopub.status.busy": "2023-11-08T17:59:44.542447Z",
     "iopub.status.idle": "2023-11-08T17:59:44.549831Z",
     "shell.execute_reply": "2023-11-08T17:59:44.548067Z"
    },
    "papermill": {
     "duration": 0.090402,
     "end_time": "2023-11-08T17:59:44.552788",
     "exception": false,
     "start_time": "2023-11-08T17:59:44.462386",
     "status": "completed"
    },
    "tags": []
   },
   "outputs": [
    {
     "name": "stdout",
     "output_type": "stream",
     "text": [
      "************\n",
      "          *\n",
      "         *\n",
      "        *\n",
      "       *\n",
      "      *\n",
      "     *\n",
      "    *\n",
      "   *\n",
      "  *\n",
      " *\n",
      "************\n"
     ]
    }
   ],
   "source": [
    "n = 12\n",
    "print(\"*\"*n)\n",
    "for i in range(n-2):\n",
    "    print(\" \"*(n-2-i),end=\"\")\n",
    "    print(\"*\")\n",
    "print(\"*\"*n)"
   ]
  },
  {
   "cell_type": "code",
   "execution_count": 166,
   "id": "0ae0c05e",
   "metadata": {
    "execution": {
     "iopub.execute_input": "2023-11-08T17:59:44.712907Z",
     "iopub.status.busy": "2023-11-08T17:59:44.712455Z",
     "iopub.status.idle": "2023-11-08T17:59:44.719073Z",
     "shell.execute_reply": "2023-11-08T17:59:44.717499Z"
    },
    "papermill": {
     "duration": 0.090393,
     "end_time": "2023-11-08T17:59:44.722054",
     "exception": false,
     "start_time": "2023-11-08T17:59:44.631661",
     "status": "completed"
    },
    "tags": []
   },
   "outputs": [],
   "source": [
    "# 1 2 3 * * * N\n",
    "#           *\n",
    "#         *\n",
    "#       *\n",
    "#     3\n",
    "#   2\n",
    "# 1 2 3 * * * N\n"
   ]
  },
  {
   "cell_type": "code",
   "execution_count": 167,
   "id": "d67e5904",
   "metadata": {
    "execution": {
     "iopub.execute_input": "2023-11-08T17:59:44.884980Z",
     "iopub.status.busy": "2023-11-08T17:59:44.884551Z",
     "iopub.status.idle": "2023-11-08T17:59:44.893374Z",
     "shell.execute_reply": "2023-11-08T17:59:44.892270Z"
    },
    "papermill": {
     "duration": 0.09192,
     "end_time": "2023-11-08T17:59:44.895424",
     "exception": false,
     "start_time": "2023-11-08T17:59:44.803504",
     "status": "completed"
    },
    "tags": []
   },
   "outputs": [
    {
     "name": "stdout",
     "output_type": "stream",
     "text": [
      "1 2 3 * * * N\n",
      "\n",
      "          *\n",
      "        *\n",
      "      *\n",
      "    3\n",
      "  2\n",
      "1 2 3 * * * N\n"
     ]
    }
   ],
   "source": [
    "for i in range(3):\n",
    "    print(i+1, end=\" \")\n",
    "for j in range(3):\n",
    "    print(\"* \",end=\"\")\n",
    "print(\"N\")\n",
    "\n",
    "print()\n",
    "for k in range(3):\n",
    "    print(\" \"*(2*(5-k)),end=\"\")\n",
    "    print(\"*\")\n",
    "for m in range(2):\n",
    "    print(\" \"*(2*(2-m)),end=\"\")\n",
    "    print(3-m)   \n",
    "    \n",
    "    \n",
    "for i in range(3):\n",
    "    print(i+1, end=\" \")\n",
    "for j in range(3):\n",
    "    print(\"* \",end=\"\")\n",
    "print(\"N\")"
   ]
  },
  {
   "cell_type": "code",
   "execution_count": 168,
   "id": "dd48d668",
   "metadata": {
    "execution": {
     "iopub.execute_input": "2023-11-08T17:59:45.054889Z",
     "iopub.status.busy": "2023-11-08T17:59:45.054491Z",
     "iopub.status.idle": "2023-11-08T17:59:45.059931Z",
     "shell.execute_reply": "2023-11-08T17:59:45.058926Z"
    },
    "papermill": {
     "duration": 0.087182,
     "end_time": "2023-11-08T17:59:45.061835",
     "exception": false,
     "start_time": "2023-11-08T17:59:44.974653",
     "status": "completed"
    },
    "tags": []
   },
   "outputs": [
    {
     "name": "stdout",
     "output_type": "stream",
     "text": [
      "prasad  is not eligible\n"
     ]
    }
   ],
   "source": [
    "m1 = 80\n",
    "m2 = 40\n",
    "student = \"prasad\"\n",
    "\n",
    "\n",
    "if m1 > 50 and m2 > 50 :\n",
    "    print(student , \" is eligible\")\n",
    "else :\n",
    "    print(student,\" is not eligible\")"
   ]
  },
  {
   "cell_type": "code",
   "execution_count": 169,
   "id": "e43c758a",
   "metadata": {
    "execution": {
     "iopub.execute_input": "2023-11-08T17:59:45.225251Z",
     "iopub.status.busy": "2023-11-08T17:59:45.224741Z",
     "iopub.status.idle": "2023-11-08T17:59:45.231235Z",
     "shell.execute_reply": "2023-11-08T17:59:45.230295Z"
    },
    "papermill": {
     "duration": 0.090609,
     "end_time": "2023-11-08T17:59:45.233296",
     "exception": false,
     "start_time": "2023-11-08T17:59:45.142687",
     "status": "completed"
    },
    "tags": []
   },
   "outputs": [
    {
     "name": "stdout",
     "output_type": "stream",
     "text": [
      "sushmitha  is eligible\n"
     ]
    }
   ],
   "source": [
    "m1 = 70\n",
    "m2 = 80\n",
    "student = \"sushmitha\"\n",
    "if m1 > 50 and m2 > 50 :\n",
    "    print(student , \" is eligible\")\n",
    "else :\n",
    "    print(student,\" is not eligible\")\n"
   ]
  },
  {
   "cell_type": "code",
   "execution_count": 170,
   "id": "50db0b06",
   "metadata": {
    "execution": {
     "iopub.execute_input": "2023-11-08T17:59:45.394775Z",
     "iopub.status.busy": "2023-11-08T17:59:45.394398Z",
     "iopub.status.idle": "2023-11-08T17:59:45.399171Z",
     "shell.execute_reply": "2023-11-08T17:59:45.398103Z"
    },
    "papermill": {
     "duration": 0.088069,
     "end_time": "2023-11-08T17:59:45.401358",
     "exception": false,
     "start_time": "2023-11-08T17:59:45.313289",
     "status": "completed"
    },
    "tags": []
   },
   "outputs": [],
   "source": [
    "def level(a,b,student) :\n",
    "    c = a+b\n",
    "    print(student,\" got \", c ,\" marks\")"
   ]
  },
  {
   "cell_type": "code",
   "execution_count": 171,
   "id": "a48af1cb",
   "metadata": {
    "execution": {
     "iopub.execute_input": "2023-11-08T17:59:45.562109Z",
     "iopub.status.busy": "2023-11-08T17:59:45.561692Z",
     "iopub.status.idle": "2023-11-08T17:59:45.566757Z",
     "shell.execute_reply": "2023-11-08T17:59:45.565870Z"
    },
    "papermill": {
     "duration": 0.087011,
     "end_time": "2023-11-08T17:59:45.568801",
     "exception": false,
     "start_time": "2023-11-08T17:59:45.481790",
     "status": "completed"
    },
    "tags": []
   },
   "outputs": [
    {
     "name": "stdout",
     "output_type": "stream",
     "text": [
      "prasad  got  90  marks\n"
     ]
    }
   ],
   "source": [
    "level(40,50,\"prasad\")"
   ]
  },
  {
   "cell_type": "code",
   "execution_count": 172,
   "id": "4ff36d5f",
   "metadata": {
    "execution": {
     "iopub.execute_input": "2023-11-08T17:59:45.732111Z",
     "iopub.status.busy": "2023-11-08T17:59:45.731651Z",
     "iopub.status.idle": "2023-11-08T17:59:45.737716Z",
     "shell.execute_reply": "2023-11-08T17:59:45.736594Z"
    },
    "papermill": {
     "duration": 0.092426,
     "end_time": "2023-11-08T17:59:45.740542",
     "exception": false,
     "start_time": "2023-11-08T17:59:45.648116",
     "status": "completed"
    },
    "tags": []
   },
   "outputs": [
    {
     "name": "stdout",
     "output_type": "stream",
     "text": [
      "sush  got  130  marks\n"
     ]
    }
   ],
   "source": [
    "level(80,50,\"sush\")"
   ]
  },
  {
   "cell_type": "code",
   "execution_count": 173,
   "id": "0bfc5b79",
   "metadata": {
    "execution": {
     "iopub.execute_input": "2023-11-08T17:59:45.908397Z",
     "iopub.status.busy": "2023-11-08T17:59:45.907928Z",
     "iopub.status.idle": "2023-11-08T17:59:45.914311Z",
     "shell.execute_reply": "2023-11-08T17:59:45.913553Z"
    },
    "papermill": {
     "duration": 0.093383,
     "end_time": "2023-11-08T17:59:45.916887",
     "exception": false,
     "start_time": "2023-11-08T17:59:45.823504",
     "status": "completed"
    },
    "tags": []
   },
   "outputs": [
    {
     "name": "stdout",
     "output_type": "stream",
     "text": [
      "--\n",
      "50\n",
      "def  is not eligible\n"
     ]
    }
   ],
   "source": [
    "\n",
    "\n",
    "def marks (m1,m2,student=\"def\"):\n",
    "    print(m1)\n",
    "    if m1 > 50 and m2 > 50 :\n",
    "        print(student , \" is eligible\")\n",
    "    else :\n",
    "        print(student,\" is not eligible\")\n",
    "        \n",
    "        \n",
    "        \n",
    "print(\"--\")\n",
    "\n",
    "        \n",
    "        \n",
    "        \n",
    "        \n",
    "marks(m1=50,m2=40)"
   ]
  },
  {
   "cell_type": "code",
   "execution_count": 174,
   "id": "3973f502",
   "metadata": {
    "execution": {
     "iopub.execute_input": "2023-11-08T17:59:46.083204Z",
     "iopub.status.busy": "2023-11-08T17:59:46.082710Z",
     "iopub.status.idle": "2023-11-08T17:59:46.089763Z",
     "shell.execute_reply": "2023-11-08T17:59:46.088345Z"
    },
    "papermill": {
     "duration": 0.093695,
     "end_time": "2023-11-08T17:59:46.091874",
     "exception": false,
     "start_time": "2023-11-08T17:59:45.998179",
     "status": "completed"
    },
    "tags": []
   },
   "outputs": [
    {
     "name": "stdout",
     "output_type": "stream",
     "text": [
      "80\n",
      "swapna  is eligible\n"
     ]
    }
   ],
   "source": [
    "marks(student = \"swapna\",m2=90,m1=80)"
   ]
  },
  {
   "cell_type": "code",
   "execution_count": 175,
   "id": "0d2270ed",
   "metadata": {
    "execution": {
     "iopub.execute_input": "2023-11-08T17:59:46.254838Z",
     "iopub.status.busy": "2023-11-08T17:59:46.254407Z",
     "iopub.status.idle": "2023-11-08T17:59:46.260001Z",
     "shell.execute_reply": "2023-11-08T17:59:46.258416Z"
    },
    "papermill": {
     "duration": 0.088847,
     "end_time": "2023-11-08T17:59:46.262379",
     "exception": false,
     "start_time": "2023-11-08T17:59:46.173532",
     "status": "completed"
    },
    "tags": []
   },
   "outputs": [],
   "source": [
    "# marks(\"student\",90,80)"
   ]
  },
  {
   "cell_type": "code",
   "execution_count": 176,
   "id": "64643f96",
   "metadata": {
    "execution": {
     "iopub.execute_input": "2023-11-08T17:59:46.429738Z",
     "iopub.status.busy": "2023-11-08T17:59:46.429347Z",
     "iopub.status.idle": "2023-11-08T17:59:46.435094Z",
     "shell.execute_reply": "2023-11-08T17:59:46.433499Z"
    },
    "papermill": {
     "duration": 0.092577,
     "end_time": "2023-11-08T17:59:46.437828",
     "exception": false,
     "start_time": "2023-11-08T17:59:46.345251",
     "status": "completed"
    },
    "tags": []
   },
   "outputs": [
    {
     "name": "stdout",
     "output_type": "stream",
     "text": [
      "30\n",
      "parth  is not eligible\n"
     ]
    }
   ],
   "source": [
    "marks(30,30,\"parth\")"
   ]
  },
  {
   "cell_type": "code",
   "execution_count": 177,
   "id": "b446b01a",
   "metadata": {
    "execution": {
     "iopub.execute_input": "2023-11-08T17:59:46.598052Z",
     "iopub.status.busy": "2023-11-08T17:59:46.597677Z",
     "iopub.status.idle": "2023-11-08T17:59:46.602984Z",
     "shell.execute_reply": "2023-11-08T17:59:46.601480Z"
    },
    "papermill": {
     "duration": 0.088824,
     "end_time": "2023-11-08T17:59:46.605792",
     "exception": false,
     "start_time": "2023-11-08T17:59:46.516968",
     "status": "completed"
    },
    "tags": []
   },
   "outputs": [
    {
     "name": "stdout",
     "output_type": "stream",
     "text": [
      "90\n",
      "tayyab  is eligible\n"
     ]
    }
   ],
   "source": [
    "marks(90,90,\"tayyab\")"
   ]
  },
  {
   "cell_type": "code",
   "execution_count": 178,
   "id": "be393f0c",
   "metadata": {
    "execution": {
     "iopub.execute_input": "2023-11-08T17:59:46.773488Z",
     "iopub.status.busy": "2023-11-08T17:59:46.771981Z",
     "iopub.status.idle": "2023-11-08T17:59:46.779090Z",
     "shell.execute_reply": "2023-11-08T17:59:46.777947Z"
    },
    "papermill": {
     "duration": 0.093374,
     "end_time": "2023-11-08T17:59:46.780980",
     "exception": false,
     "start_time": "2023-11-08T17:59:46.687606",
     "status": "completed"
    },
    "tags": []
   },
   "outputs": [
    {
     "name": "stdout",
     "output_type": "stream",
     "text": [
      "0\n",
      "st  is not eligible\n"
     ]
    }
   ],
   "source": [
    "\n",
    "\n",
    "def marks (m1=0,m2=0,student=\"st\") :\n",
    "    print(m1)\n",
    "    if m1 > 50 and m2 > 50 :\n",
    "        print(student , \" is eligible\")\n",
    "    else :\n",
    "        print(student,\" is not eligible\")\n",
    "        \n",
    "marks()"
   ]
  },
  {
   "cell_type": "code",
   "execution_count": 179,
   "id": "97ac7e4b",
   "metadata": {
    "execution": {
     "iopub.execute_input": "2023-11-08T17:59:46.950995Z",
     "iopub.status.busy": "2023-11-08T17:59:46.950566Z",
     "iopub.status.idle": "2023-11-08T17:59:46.955745Z",
     "shell.execute_reply": "2023-11-08T17:59:46.954317Z"
    },
    "papermill": {
     "duration": 0.093397,
     "end_time": "2023-11-08T17:59:46.958622",
     "exception": false,
     "start_time": "2023-11-08T17:59:46.865225",
     "status": "completed"
    },
    "tags": []
   },
   "outputs": [],
   "source": [
    "# print \n",
    "# return"
   ]
  },
  {
   "cell_type": "code",
   "execution_count": 180,
   "id": "bd1da990",
   "metadata": {
    "execution": {
     "iopub.execute_input": "2023-11-08T17:59:47.124666Z",
     "iopub.status.busy": "2023-11-08T17:59:47.124267Z",
     "iopub.status.idle": "2023-11-08T17:59:47.130796Z",
     "shell.execute_reply": "2023-11-08T17:59:47.129303Z"
    },
    "papermill": {
     "duration": 0.091923,
     "end_time": "2023-11-08T17:59:47.133590",
     "exception": false,
     "start_time": "2023-11-08T17:59:47.041667",
     "status": "completed"
    },
    "tags": []
   },
   "outputs": [
    {
     "name": "stdout",
     "output_type": "stream",
     "text": [
      "---- 15\n"
     ]
    }
   ],
   "source": [
    "def add (a,b) :\n",
    "    c = a+b\n",
    "    return c\n",
    "\n",
    "p= add(5,10)\n",
    "print(\"----\",p)"
   ]
  },
  {
   "cell_type": "code",
   "execution_count": 181,
   "id": "55af6000",
   "metadata": {
    "execution": {
     "iopub.execute_input": "2023-11-08T17:59:47.303829Z",
     "iopub.status.busy": "2023-11-08T17:59:47.303367Z",
     "iopub.status.idle": "2023-11-08T17:59:47.308903Z",
     "shell.execute_reply": "2023-11-08T17:59:47.307816Z"
    },
    "papermill": {
     "duration": 0.092344,
     "end_time": "2023-11-08T17:59:47.311216",
     "exception": false,
     "start_time": "2023-11-08T17:59:47.218872",
     "status": "completed"
    },
    "tags": []
   },
   "outputs": [
    {
     "name": "stdout",
     "output_type": "stream",
     "text": [
      "15\n",
      "---- None\n"
     ]
    }
   ],
   "source": [
    "def add (a,b) :\n",
    "    c = a+b\n",
    "    print(c)\n",
    "\n",
    "p = add(5,10)\n",
    "print(\"----\",p)"
   ]
  },
  {
   "cell_type": "code",
   "execution_count": 182,
   "id": "74dd5531",
   "metadata": {
    "execution": {
     "iopub.execute_input": "2023-11-08T17:59:47.478009Z",
     "iopub.status.busy": "2023-11-08T17:59:47.477562Z",
     "iopub.status.idle": "2023-11-08T17:59:47.482717Z",
     "shell.execute_reply": "2023-11-08T17:59:47.481101Z"
    },
    "papermill": {
     "duration": 0.090771,
     "end_time": "2023-11-08T17:59:47.485445",
     "exception": false,
     "start_time": "2023-11-08T17:59:47.394674",
     "status": "completed"
    },
    "tags": []
   },
   "outputs": [],
   "source": [
    "# if add(5,10 ) > 10 :\n",
    "#     print(\"eligible\")\n",
    "# else :\n",
    "#     print(\"not eligible\")"
   ]
  },
  {
   "cell_type": "code",
   "execution_count": 183,
   "id": "8824aa9a",
   "metadata": {
    "execution": {
     "iopub.execute_input": "2023-11-08T17:59:47.734669Z",
     "iopub.status.busy": "2023-11-08T17:59:47.734233Z",
     "iopub.status.idle": "2023-11-08T17:59:47.740678Z",
     "shell.execute_reply": "2023-11-08T17:59:47.739587Z"
    },
    "papermill": {
     "duration": 0.093918,
     "end_time": "2023-11-08T17:59:47.742644",
     "exception": false,
     "start_time": "2023-11-08T17:59:47.648726",
     "status": "completed"
    },
    "tags": []
   },
   "outputs": [
    {
     "data": {
      "text/plain": [
       "15"
      ]
     },
     "execution_count": 183,
     "metadata": {},
     "output_type": "execute_result"
    }
   ],
   "source": [
    "def add (a,b) :\n",
    "    c = a+b\n",
    "    return c\n",
    "\n",
    "add(5,10)"
   ]
  },
  {
   "cell_type": "code",
   "execution_count": 184,
   "id": "1dc4958e",
   "metadata": {
    "execution": {
     "iopub.execute_input": "2023-11-08T17:59:47.906817Z",
     "iopub.status.busy": "2023-11-08T17:59:47.906369Z",
     "iopub.status.idle": "2023-11-08T17:59:47.913361Z",
     "shell.execute_reply": "2023-11-08T17:59:47.912315Z"
    },
    "papermill": {
     "duration": 0.091517,
     "end_time": "2023-11-08T17:59:47.915388",
     "exception": false,
     "start_time": "2023-11-08T17:59:47.823871",
     "status": "completed"
    },
    "tags": []
   },
   "outputs": [
    {
     "data": {
      "text/plain": [
       "17"
      ]
     },
     "execution_count": 184,
     "metadata": {},
     "output_type": "execute_result"
    }
   ],
   "source": [
    "add = lambda  a,b : a+b\n",
    "add(7,10)"
   ]
  },
  {
   "cell_type": "code",
   "execution_count": 185,
   "id": "6bcf7920",
   "metadata": {
    "execution": {
     "iopub.execute_input": "2023-11-08T17:59:48.079232Z",
     "iopub.status.busy": "2023-11-08T17:59:48.078766Z",
     "iopub.status.idle": "2023-11-08T17:59:48.085562Z",
     "shell.execute_reply": "2023-11-08T17:59:48.083969Z"
    },
    "papermill": {
     "duration": 0.091275,
     "end_time": "2023-11-08T17:59:48.088454",
     "exception": false,
     "start_time": "2023-11-08T17:59:47.997179",
     "status": "completed"
    },
    "tags": []
   },
   "outputs": [
    {
     "data": {
      "text/plain": [
       "30"
      ]
     },
     "execution_count": 185,
     "metadata": {},
     "output_type": "execute_result"
    }
   ],
   "source": [
    "add(10,20)"
   ]
  },
  {
   "cell_type": "code",
   "execution_count": 186,
   "id": "0b4c39bb",
   "metadata": {
    "execution": {
     "iopub.execute_input": "2023-11-08T17:59:48.257357Z",
     "iopub.status.busy": "2023-11-08T17:59:48.256908Z",
     "iopub.status.idle": "2023-11-08T17:59:48.262271Z",
     "shell.execute_reply": "2023-11-08T17:59:48.260638Z"
    },
    "papermill": {
     "duration": 0.092482,
     "end_time": "2023-11-08T17:59:48.264750",
     "exception": false,
     "start_time": "2023-11-08T17:59:48.172268",
     "status": "completed"
    },
    "tags": []
   },
   "outputs": [],
   "source": [
    "# list comprehenison :  list + for loop / any loop"
   ]
  },
  {
   "cell_type": "code",
   "execution_count": 187,
   "id": "17d78bad",
   "metadata": {
    "execution": {
     "iopub.execute_input": "2023-11-08T17:59:48.429710Z",
     "iopub.status.busy": "2023-11-08T17:59:48.429361Z",
     "iopub.status.idle": "2023-11-08T17:59:48.437765Z",
     "shell.execute_reply": "2023-11-08T17:59:48.436157Z"
    },
    "papermill": {
     "duration": 0.094285,
     "end_time": "2023-11-08T17:59:48.440768",
     "exception": false,
     "start_time": "2023-11-08T17:59:48.346483",
     "status": "completed"
    },
    "tags": []
   },
   "outputs": [
    {
     "data": {
      "text/plain": [
       "[20, 30]"
      ]
     },
     "execution_count": 187,
     "metadata": {},
     "output_type": "execute_result"
    }
   ],
   "source": [
    "a = [20 ,25,30,35]\n",
    "\n",
    "even = []\n",
    "\n",
    "for i in a :\n",
    "    if i%2 == 0 :\n",
    "        even.append(i)\n",
    "        \n",
    "        \n",
    "        \n",
    "even"
   ]
  },
  {
   "cell_type": "code",
   "execution_count": 188,
   "id": "b0789a9a",
   "metadata": {
    "execution": {
     "iopub.execute_input": "2023-11-08T17:59:48.611521Z",
     "iopub.status.busy": "2023-11-08T17:59:48.611099Z",
     "iopub.status.idle": "2023-11-08T17:59:48.620676Z",
     "shell.execute_reply": "2023-11-08T17:59:48.619093Z"
    },
    "papermill": {
     "duration": 0.098733,
     "end_time": "2023-11-08T17:59:48.623310",
     "exception": false,
     "start_time": "2023-11-08T17:59:48.524577",
     "status": "completed"
    },
    "tags": []
   },
   "outputs": [
    {
     "data": {
      "text/plain": [
       "[20, 30]"
      ]
     },
     "execution_count": 188,
     "metadata": {},
     "output_type": "execute_result"
    }
   ],
   "source": [
    "a = [20 ,25,30,35]\n",
    "\n",
    "even = [  i  for i in a  if i%2 == 0   ]       \n",
    "        \n",
    "        \n",
    "even"
   ]
  },
  {
   "cell_type": "code",
   "execution_count": 189,
   "id": "f6cbdaa5",
   "metadata": {
    "execution": {
     "iopub.execute_input": "2023-11-08T17:59:48.790531Z",
     "iopub.status.busy": "2023-11-08T17:59:48.790064Z",
     "iopub.status.idle": "2023-11-08T17:59:48.798242Z",
     "shell.execute_reply": "2023-11-08T17:59:48.797066Z"
    },
    "papermill": {
     "duration": 0.093898,
     "end_time": "2023-11-08T17:59:48.800390",
     "exception": false,
     "start_time": "2023-11-08T17:59:48.706492",
     "status": "completed"
    },
    "tags": []
   },
   "outputs": [
    {
     "data": {
      "text/plain": [
       "{20: 'Abhi', 30: 'Abhi'}"
      ]
     },
     "execution_count": 189,
     "metadata": {},
     "output_type": "execute_result"
    }
   ],
   "source": [
    "a = [20 ,25,30,35]\n",
    "\n",
    "even = { i: \"Abhi\"  for i in a  if i%2 == 0   }       \n",
    "        \n",
    "        \n",
    "even"
   ]
  },
  {
   "cell_type": "code",
   "execution_count": 190,
   "id": "9e8726a3",
   "metadata": {
    "execution": {
     "iopub.execute_input": "2023-11-08T17:59:48.970062Z",
     "iopub.status.busy": "2023-11-08T17:59:48.969672Z",
     "iopub.status.idle": "2023-11-08T17:59:48.976682Z",
     "shell.execute_reply": "2023-11-08T17:59:48.974836Z"
    },
    "papermill": {
     "duration": 0.096395,
     "end_time": "2023-11-08T17:59:48.979767",
     "exception": false,
     "start_time": "2023-11-08T17:59:48.883372",
     "status": "completed"
    },
    "tags": []
   },
   "outputs": [],
   "source": [
    "# break continue pass"
   ]
  },
  {
   "cell_type": "code",
   "execution_count": 191,
   "id": "7c0bf8c5",
   "metadata": {
    "execution": {
     "iopub.execute_input": "2023-11-08T17:59:49.159515Z",
     "iopub.status.busy": "2023-11-08T17:59:49.158267Z",
     "iopub.status.idle": "2023-11-08T17:59:49.165424Z",
     "shell.execute_reply": "2023-11-08T17:59:49.163578Z"
    },
    "papermill": {
     "duration": 0.104414,
     "end_time": "2023-11-08T17:59:49.168609",
     "exception": false,
     "start_time": "2023-11-08T17:59:49.064195",
     "status": "completed"
    },
    "tags": []
   },
   "outputs": [],
   "source": [
    "def add(a,b):\n",
    "    pass\n",
    "    \n",
    "add(8,9)"
   ]
  },
  {
   "cell_type": "code",
   "execution_count": 192,
   "id": "c0b9f751",
   "metadata": {
    "execution": {
     "iopub.execute_input": "2023-11-08T17:59:49.339003Z",
     "iopub.status.busy": "2023-11-08T17:59:49.338635Z",
     "iopub.status.idle": "2023-11-08T17:59:49.345170Z",
     "shell.execute_reply": "2023-11-08T17:59:49.343466Z"
    },
    "papermill": {
     "duration": 0.091933,
     "end_time": "2023-11-08T17:59:49.347039",
     "exception": false,
     "start_time": "2023-11-08T17:59:49.255106",
     "status": "completed"
    },
    "tags": []
   },
   "outputs": [
    {
     "name": "stdout",
     "output_type": "stream",
     "text": [
      "0\n",
      "1\n",
      "2\n"
     ]
    }
   ],
   "source": [
    "for i in range(5):\n",
    "    if i == 3 :\n",
    "        break\n",
    "    print(i)"
   ]
  },
  {
   "cell_type": "code",
   "execution_count": 193,
   "id": "d47814a9",
   "metadata": {
    "execution": {
     "iopub.execute_input": "2023-11-08T17:59:49.511779Z",
     "iopub.status.busy": "2023-11-08T17:59:49.511313Z",
     "iopub.status.idle": "2023-11-08T17:59:49.519108Z",
     "shell.execute_reply": "2023-11-08T17:59:49.517082Z"
    },
    "papermill": {
     "duration": 0.093904,
     "end_time": "2023-11-08T17:59:49.522204",
     "exception": false,
     "start_time": "2023-11-08T17:59:49.428300",
     "status": "completed"
    },
    "tags": []
   },
   "outputs": [
    {
     "name": "stdout",
     "output_type": "stream",
     "text": [
      "0\n",
      "1\n",
      "2\n",
      "4\n"
     ]
    }
   ],
   "source": [
    "for i in range(5):\n",
    "    if i == 3 :\n",
    "        continue\n",
    "    print(i)"
   ]
  },
  {
   "cell_type": "code",
   "execution_count": 194,
   "id": "8d36b15e",
   "metadata": {
    "execution": {
     "iopub.execute_input": "2023-11-08T17:59:49.690333Z",
     "iopub.status.busy": "2023-11-08T17:59:49.689809Z",
     "iopub.status.idle": "2023-11-08T17:59:49.695841Z",
     "shell.execute_reply": "2023-11-08T17:59:49.694594Z"
    },
    "papermill": {
     "duration": 0.093482,
     "end_time": "2023-11-08T17:59:49.698061",
     "exception": false,
     "start_time": "2023-11-08T17:59:49.604579",
     "status": "completed"
    },
    "tags": []
   },
   "outputs": [],
   "source": [
    "# \\n = new line \\t tab"
   ]
  },
  {
   "cell_type": "code",
   "execution_count": 195,
   "id": "a915ec4e",
   "metadata": {
    "execution": {
     "iopub.execute_input": "2023-11-08T17:59:49.863655Z",
     "iopub.status.busy": "2023-11-08T17:59:49.863203Z",
     "iopub.status.idle": "2023-11-08T17:59:49.870245Z",
     "shell.execute_reply": "2023-11-08T17:59:49.868751Z"
    },
    "papermill": {
     "duration": 0.093559,
     "end_time": "2023-11-08T17:59:49.873264",
     "exception": false,
     "start_time": "2023-11-08T17:59:49.779705",
     "status": "completed"
    },
    "tags": []
   },
   "outputs": [
    {
     "name": "stdout",
     "output_type": "stream",
     "text": [
      "mlv\n",
      "prasad\n"
     ]
    }
   ],
   "source": [
    "print(\"mlv\")\n",
    "print(\"prasad\")"
   ]
  },
  {
   "cell_type": "code",
   "execution_count": 196,
   "id": "32b1d5d2",
   "metadata": {
    "execution": {
     "iopub.execute_input": "2023-11-08T17:59:50.045088Z",
     "iopub.status.busy": "2023-11-08T17:59:50.043423Z",
     "iopub.status.idle": "2023-11-08T17:59:50.050881Z",
     "shell.execute_reply": "2023-11-08T17:59:50.049582Z"
    },
    "papermill": {
     "duration": 0.097713,
     "end_time": "2023-11-08T17:59:50.054121",
     "exception": false,
     "start_time": "2023-11-08T17:59:49.956408",
     "status": "completed"
    },
    "tags": []
   },
   "outputs": [
    {
     "name": "stdout",
     "output_type": "stream",
     "text": [
      "mlv\n",
      "prasad\n"
     ]
    }
   ],
   "source": [
    "print(\"mlv\\nprasad\")"
   ]
  },
  {
   "cell_type": "code",
   "execution_count": 197,
   "id": "d9c1e028",
   "metadata": {
    "execution": {
     "iopub.execute_input": "2023-11-08T17:59:50.225004Z",
     "iopub.status.busy": "2023-11-08T17:59:50.224621Z",
     "iopub.status.idle": "2023-11-08T17:59:50.231646Z",
     "shell.execute_reply": "2023-11-08T17:59:50.230117Z"
    },
    "papermill": {
     "duration": 0.095965,
     "end_time": "2023-11-08T17:59:50.234760",
     "exception": false,
     "start_time": "2023-11-08T17:59:50.138795",
     "status": "completed"
    },
    "tags": []
   },
   "outputs": [
    {
     "name": "stdout",
     "output_type": "stream",
     "text": [
      "mlv    prasad    is    a    good    boy\n"
     ]
    }
   ],
   "source": [
    "print(\"mlv    prasad    is    a    good    boy\")"
   ]
  },
  {
   "cell_type": "code",
   "execution_count": 198,
   "id": "616fca92",
   "metadata": {
    "execution": {
     "iopub.execute_input": "2023-11-08T17:59:50.404920Z",
     "iopub.status.busy": "2023-11-08T17:59:50.404500Z",
     "iopub.status.idle": "2023-11-08T17:59:50.410892Z",
     "shell.execute_reply": "2023-11-08T17:59:50.409144Z"
    },
    "papermill": {
     "duration": 0.095076,
     "end_time": "2023-11-08T17:59:50.413839",
     "exception": false,
     "start_time": "2023-11-08T17:59:50.318763",
     "status": "completed"
    },
    "tags": []
   },
   "outputs": [
    {
     "name": "stdout",
     "output_type": "stream",
     "text": [
      "mlv\tprasad\tis\ta\tgood\tboy\n"
     ]
    }
   ],
   "source": [
    "print(\"mlv\\tprasad\\tis\\ta\\tgood\\tboy\")"
   ]
  },
  {
   "cell_type": "code",
   "execution_count": 199,
   "id": "bb57fdbb",
   "metadata": {
    "execution": {
     "iopub.execute_input": "2023-11-08T17:59:50.584539Z",
     "iopub.status.busy": "2023-11-08T17:59:50.584117Z",
     "iopub.status.idle": "2023-11-08T17:59:50.587543Z",
     "shell.execute_reply": "2023-11-08T17:59:50.586839Z"
    },
    "papermill": {
     "duration": 0.09386,
     "end_time": "2023-11-08T17:59:50.589829",
     "exception": false,
     "start_time": "2023-11-08T17:59:50.495969",
     "status": "completed"
    },
    "tags": []
   },
   "outputs": [],
   "source": [
    "# * * * * *\n",
    "# * * * *\n",
    "# * * * \n",
    "# * * \n",
    "# *"
   ]
  },
  {
   "cell_type": "code",
   "execution_count": 200,
   "id": "efe6b3a1",
   "metadata": {
    "execution": {
     "iopub.execute_input": "2023-11-08T17:59:50.762687Z",
     "iopub.status.busy": "2023-11-08T17:59:50.762073Z",
     "iopub.status.idle": "2023-11-08T17:59:50.767826Z",
     "shell.execute_reply": "2023-11-08T17:59:50.765760Z"
    },
    "papermill": {
     "duration": 0.092782,
     "end_time": "2023-11-08T17:59:50.770249",
     "exception": false,
     "start_time": "2023-11-08T17:59:50.677467",
     "status": "completed"
    },
    "tags": []
   },
   "outputs": [
    {
     "name": "stdout",
     "output_type": "stream",
     "text": [
      "* * * * * \n",
      "* * * * \n",
      "* * * \n",
      "* * \n",
      "* \n"
     ]
    }
   ],
   "source": [
    "for i in range(5):\n",
    "    print(\"* \"*(5-i))"
   ]
  },
  {
   "cell_type": "code",
   "execution_count": null,
   "id": "c1412f10",
   "metadata": {
    "papermill": {
     "duration": 0.089833,
     "end_time": "2023-11-08T17:59:50.944433",
     "exception": false,
     "start_time": "2023-11-08T17:59:50.854600",
     "status": "completed"
    },
    "tags": []
   },
   "outputs": [],
   "source": []
  },
  {
   "cell_type": "markdown",
   "id": "e0f1fc2a",
   "metadata": {
    "papermill": {
     "duration": 0.087216,
     "end_time": "2023-11-08T17:59:51.117705",
     "exception": false,
     "start_time": "2023-11-08T17:59:51.030489",
     "status": "completed"
    },
    "tags": []
   },
   "source": [
    "## filter\n",
    "## reduce\n",
    "## map\n",
    "## zip"
   ]
  },
  {
   "cell_type": "code",
   "execution_count": 201,
   "id": "a522432d",
   "metadata": {
    "execution": {
     "iopub.execute_input": "2023-11-08T17:59:51.299605Z",
     "iopub.status.busy": "2023-11-08T17:59:51.299156Z",
     "iopub.status.idle": "2023-11-08T17:59:51.304872Z",
     "shell.execute_reply": "2023-11-08T17:59:51.303087Z"
    },
    "papermill": {
     "duration": 0.102001,
     "end_time": "2023-11-08T17:59:51.307973",
     "exception": false,
     "start_time": "2023-11-08T17:59:51.205972",
     "status": "completed"
    },
    "tags": []
   },
   "outputs": [],
   "source": [
    "# filter "
   ]
  },
  {
   "cell_type": "code",
   "execution_count": 202,
   "id": "3c740bac",
   "metadata": {
    "execution": {
     "iopub.execute_input": "2023-11-08T17:59:51.481248Z",
     "iopub.status.busy": "2023-11-08T17:59:51.480795Z",
     "iopub.status.idle": "2023-11-08T17:59:51.488366Z",
     "shell.execute_reply": "2023-11-08T17:59:51.487456Z"
    },
    "papermill": {
     "duration": 0.094237,
     "end_time": "2023-11-08T17:59:51.490269",
     "exception": false,
     "start_time": "2023-11-08T17:59:51.396032",
     "status": "completed"
    },
    "tags": []
   },
   "outputs": [
    {
     "data": {
      "text/plain": [
       "[10, 12, 14, 16]"
      ]
     },
     "execution_count": 202,
     "metadata": {},
     "output_type": "execute_result"
    }
   ],
   "source": [
    "a  =  [10,11,12,13,14,15,16]\n",
    "\n",
    "\n",
    "b = []\n",
    "for i in range(len(a)) :\n",
    "    if a[i] % 2 == 0 :\n",
    "        b.append(a[i])\n",
    "        \n",
    "b"
   ]
  },
  {
   "cell_type": "code",
   "execution_count": 203,
   "id": "9eb8f12c",
   "metadata": {
    "execution": {
     "iopub.execute_input": "2023-11-08T17:59:51.659523Z",
     "iopub.status.busy": "2023-11-08T17:59:51.659074Z",
     "iopub.status.idle": "2023-11-08T17:59:51.666551Z",
     "shell.execute_reply": "2023-11-08T17:59:51.665415Z"
    },
    "papermill": {
     "duration": 0.095981,
     "end_time": "2023-11-08T17:59:51.670044",
     "exception": false,
     "start_time": "2023-11-08T17:59:51.574063",
     "status": "completed"
    },
    "tags": []
   },
   "outputs": [
    {
     "data": {
      "text/plain": [
       "[40, 12, 14, 16]"
      ]
     },
     "execution_count": 203,
     "metadata": {},
     "output_type": "execute_result"
    }
   ],
   "source": [
    "a  =  [40,11,12,13,14,15,16]\n",
    "\n",
    "def even(i) :\n",
    "    return i % 2 == 0\n",
    "\n",
    "\n",
    "b = list(filter(even,a))\n",
    "b"
   ]
  },
  {
   "cell_type": "code",
   "execution_count": 204,
   "id": "b218326f",
   "metadata": {
    "execution": {
     "iopub.execute_input": "2023-11-08T17:59:51.848769Z",
     "iopub.status.busy": "2023-11-08T17:59:51.848401Z",
     "iopub.status.idle": "2023-11-08T17:59:51.857458Z",
     "shell.execute_reply": "2023-11-08T17:59:51.855635Z"
    },
    "papermill": {
     "duration": 0.102804,
     "end_time": "2023-11-08T17:59:51.859959",
     "exception": false,
     "start_time": "2023-11-08T17:59:51.757155",
     "status": "completed"
    },
    "tags": []
   },
   "outputs": [
    {
     "data": {
      "text/plain": [
       "[40, 12, 14, 16]"
      ]
     },
     "execution_count": 204,
     "metadata": {},
     "output_type": "execute_result"
    }
   ],
   "source": [
    "a  =  [40,11,12,13,14,15,16]\n",
    "\n",
    "b = list(filter(lambda p : p%2== 0,a))\n",
    "b"
   ]
  },
  {
   "cell_type": "code",
   "execution_count": 205,
   "id": "e47448d4",
   "metadata": {
    "execution": {
     "iopub.execute_input": "2023-11-08T17:59:52.126082Z",
     "iopub.status.busy": "2023-11-08T17:59:52.125737Z",
     "iopub.status.idle": "2023-11-08T17:59:52.133238Z",
     "shell.execute_reply": "2023-11-08T17:59:52.132040Z"
    },
    "papermill": {
     "duration": 0.177256,
     "end_time": "2023-11-08T17:59:52.135972",
     "exception": false,
     "start_time": "2023-11-08T17:59:51.958716",
     "status": "completed"
    },
    "tags": []
   },
   "outputs": [
    {
     "data": {
      "text/plain": [
       "['swapna', 'saraswati']"
      ]
     },
     "execution_count": 205,
     "metadata": {},
     "output_type": "execute_result"
    }
   ],
   "source": [
    "a = [\"swapna\",\"saraswati\",\"abhi\"]\n",
    "\n",
    "b = list(filter(lambda i : i[0] != \"a\"   and  i[0] != \"i\"  and  i[0] != \"o\", a))\n",
    "b"
   ]
  },
  {
   "cell_type": "code",
   "execution_count": 206,
   "id": "7fb51f8b",
   "metadata": {
    "execution": {
     "iopub.execute_input": "2023-11-08T17:59:52.303710Z",
     "iopub.status.busy": "2023-11-08T17:59:52.303299Z",
     "iopub.status.idle": "2023-11-08T17:59:52.312209Z",
     "shell.execute_reply": "2023-11-08T17:59:52.310654Z"
    },
    "papermill": {
     "duration": 0.095904,
     "end_time": "2023-11-08T17:59:52.314447",
     "exception": false,
     "start_time": "2023-11-08T17:59:52.218543",
     "status": "completed"
    },
    "tags": []
   },
   "outputs": [
    {
     "data": {
      "text/plain": [
       "[0, 10, 30]"
      ]
     },
     "execution_count": 206,
     "metadata": {},
     "output_type": "execute_result"
    }
   ],
   "source": [
    "a = {10,30,-10,0,30}\n",
    "b = list(filter(lambda i : i >= 0 , a))\n",
    "b"
   ]
  },
  {
   "cell_type": "code",
   "execution_count": 207,
   "id": "2de64b88",
   "metadata": {
    "execution": {
     "iopub.execute_input": "2023-11-08T17:59:52.481650Z",
     "iopub.status.busy": "2023-11-08T17:59:52.481255Z",
     "iopub.status.idle": "2023-11-08T17:59:52.486835Z",
     "shell.execute_reply": "2023-11-08T17:59:52.485210Z"
    },
    "papermill": {
     "duration": 0.091798,
     "end_time": "2023-11-08T17:59:52.489106",
     "exception": false,
     "start_time": "2023-11-08T17:59:52.397308",
     "status": "completed"
    },
    "tags": []
   },
   "outputs": [],
   "source": [
    "a = [\"swapna\",\"abhinav\"]"
   ]
  },
  {
   "cell_type": "code",
   "execution_count": 208,
   "id": "6b73c142",
   "metadata": {
    "execution": {
     "iopub.execute_input": "2023-11-08T17:59:52.660308Z",
     "iopub.status.busy": "2023-11-08T17:59:52.659818Z",
     "iopub.status.idle": "2023-11-08T17:59:52.668606Z",
     "shell.execute_reply": "2023-11-08T17:59:52.667017Z"
    },
    "papermill": {
     "duration": 0.097968,
     "end_time": "2023-11-08T17:59:52.670607",
     "exception": false,
     "start_time": "2023-11-08T17:59:52.572639",
     "status": "completed"
    },
    "tags": []
   },
   "outputs": [
    {
     "data": {
      "text/plain": [
       "150"
      ]
     },
     "execution_count": 208,
     "metadata": {},
     "output_type": "execute_result"
    }
   ],
   "source": [
    "# reduce \n",
    "from functools import reduce\n",
    "\n",
    "a = [10,20,30,40,50]\n",
    "b = 0\n",
    "for i in a :\n",
    "    b = b + i\n",
    "    \n",
    "b"
   ]
  },
  {
   "cell_type": "code",
   "execution_count": 209,
   "id": "2a3e2634",
   "metadata": {
    "execution": {
     "iopub.execute_input": "2023-11-08T17:59:52.841583Z",
     "iopub.status.busy": "2023-11-08T17:59:52.841096Z",
     "iopub.status.idle": "2023-11-08T17:59:52.851216Z",
     "shell.execute_reply": "2023-11-08T17:59:52.849035Z"
    },
    "papermill": {
     "duration": 0.101592,
     "end_time": "2023-11-08T17:59:52.854586",
     "exception": false,
     "start_time": "2023-11-08T17:59:52.752994",
     "status": "completed"
    },
    "tags": []
   },
   "outputs": [
    {
     "data": {
      "text/plain": [
       "150"
      ]
     },
     "execution_count": 209,
     "metadata": {},
     "output_type": "execute_result"
    }
   ],
   "source": [
    "\n",
    "c = [10,20,30,40,50]\n",
    "\n",
    "\n",
    "def add(p,q) :\n",
    "    return p + q\n",
    "# ini = 100 \n",
    "d = reduce(add,c)\n",
    "d"
   ]
  },
  {
   "cell_type": "code",
   "execution_count": 210,
   "id": "3e7963e5",
   "metadata": {
    "execution": {
     "iopub.execute_input": "2023-11-08T17:59:53.022959Z",
     "iopub.status.busy": "2023-11-08T17:59:53.022592Z",
     "iopub.status.idle": "2023-11-08T17:59:53.030404Z",
     "shell.execute_reply": "2023-11-08T17:59:53.029189Z"
    },
    "papermill": {
     "duration": 0.094978,
     "end_time": "2023-11-08T17:59:53.032342",
     "exception": false,
     "start_time": "2023-11-08T17:59:52.937364",
     "status": "completed"
    },
    "tags": []
   },
   "outputs": [
    {
     "data": {
      "text/plain": [
       "50"
      ]
     },
     "execution_count": 210,
     "metadata": {},
     "output_type": "execute_result"
    }
   ],
   "source": [
    "c = [10,20,30,40,50]\n",
    "\n",
    "mx = c[0]\n",
    "for i in c :\n",
    "    if i > mx :\n",
    "        mx = i\n",
    "mx"
   ]
  },
  {
   "cell_type": "code",
   "execution_count": 211,
   "id": "7440007d",
   "metadata": {
    "execution": {
     "iopub.execute_input": "2023-11-08T17:59:53.200644Z",
     "iopub.status.busy": "2023-11-08T17:59:53.200185Z",
     "iopub.status.idle": "2023-11-08T17:59:53.211299Z",
     "shell.execute_reply": "2023-11-08T17:59:53.209411Z"
    },
    "papermill": {
     "duration": 0.100562,
     "end_time": "2023-11-08T17:59:53.214956",
     "exception": false,
     "start_time": "2023-11-08T17:59:53.114394",
     "status": "completed"
    },
    "tags": []
   },
   "outputs": [
    {
     "data": {
      "text/plain": [
       "770"
      ]
     },
     "execution_count": 211,
     "metadata": {},
     "output_type": "execute_result"
    }
   ],
   "source": [
    "c = [10,770,30,40,50]\n",
    "ini = int(c[0])\n",
    "def maxx(p,q):\n",
    "    if p > q :\n",
    "        return p \n",
    "    else :\n",
    "        return q\n",
    "\n",
    "    \n",
    "        \n",
    "    \n",
    "# ini = c[0]\n",
    "d = reduce(maxx,c)\n",
    "d"
   ]
  },
  {
   "cell_type": "code",
   "execution_count": 212,
   "id": "f60260ae",
   "metadata": {
    "execution": {
     "iopub.execute_input": "2023-11-08T17:59:53.385800Z",
     "iopub.status.busy": "2023-11-08T17:59:53.385441Z",
     "iopub.status.idle": "2023-11-08T17:59:53.395533Z",
     "shell.execute_reply": "2023-11-08T17:59:53.393697Z"
    },
    "papermill": {
     "duration": 0.096251,
     "end_time": "2023-11-08T17:59:53.398536",
     "exception": false,
     "start_time": "2023-11-08T17:59:53.302285",
     "status": "completed"
    },
    "tags": []
   },
   "outputs": [
    {
     "data": {
      "text/plain": [
       "'c001mlv c001prasad c001mentor'"
      ]
     },
     "execution_count": 212,
     "metadata": {},
     "output_type": "execute_result"
    }
   ],
   "source": [
    "d = [\"mlv\",\"prasad\",\"mentor\"]\n",
    "# d = [\"mlv prasad\",\"mentor\"]\n",
    "\n",
    "def con (p,q) :\n",
    "    if p != \"c001\":\n",
    "        return p + \" c001\" + q\n",
    "    else :\n",
    "        return p + q\n",
    "\n",
    "e = reduce(con, d,\"c001\")\n",
    "e"
   ]
  },
  {
   "cell_type": "code",
   "execution_count": 213,
   "id": "dd8b3287",
   "metadata": {
    "execution": {
     "iopub.execute_input": "2023-11-08T17:59:53.574355Z",
     "iopub.status.busy": "2023-11-08T17:59:53.573873Z",
     "iopub.status.idle": "2023-11-08T17:59:53.584526Z",
     "shell.execute_reply": "2023-11-08T17:59:53.582455Z"
    },
    "papermill": {
     "duration": 0.10347,
     "end_time": "2023-11-08T17:59:53.587788",
     "exception": false,
     "start_time": "2023-11-08T17:59:53.484318",
     "status": "completed"
    },
    "tags": []
   },
   "outputs": [
    {
     "data": {
      "text/plain": [
       "[10]"
      ]
     },
     "execution_count": 213,
     "metadata": {},
     "output_type": "execute_result"
    }
   ],
   "source": [
    "a = [10,29,32]\n",
    "\n",
    "b = list(filter( lambda x : x < 15  , a))\n",
    "b"
   ]
  },
  {
   "cell_type": "code",
   "execution_count": 214,
   "id": "8363cf95",
   "metadata": {
    "execution": {
     "iopub.execute_input": "2023-11-08T17:59:53.757498Z",
     "iopub.status.busy": "2023-11-08T17:59:53.756480Z",
     "iopub.status.idle": "2023-11-08T17:59:53.766443Z",
     "shell.execute_reply": "2023-11-08T17:59:53.764011Z"
    },
    "papermill": {
     "duration": 0.097823,
     "end_time": "2023-11-08T17:59:53.769446",
     "exception": false,
     "start_time": "2023-11-08T17:59:53.671623",
     "status": "completed"
    },
    "tags": []
   },
   "outputs": [
    {
     "data": {
      "text/plain": [
       "'mlv prasad mentor'"
      ]
     },
     "execution_count": 214,
     "metadata": {},
     "output_type": "execute_result"
    }
   ],
   "source": [
    "d = [\"mlv\",\"prasad\",\"mentor\"]\n",
    "e = reduce(lambda x,y : x + \" \" + y, d)\n",
    "e"
   ]
  },
  {
   "cell_type": "code",
   "execution_count": 215,
   "id": "30cde92e",
   "metadata": {
    "execution": {
     "iopub.execute_input": "2023-11-08T17:59:53.937805Z",
     "iopub.status.busy": "2023-11-08T17:59:53.937381Z",
     "iopub.status.idle": "2023-11-08T17:59:53.945421Z",
     "shell.execute_reply": "2023-11-08T17:59:53.943591Z"
    },
    "papermill": {
     "duration": 0.097537,
     "end_time": "2023-11-08T17:59:53.948316",
     "exception": false,
     "start_time": "2023-11-08T17:59:53.850779",
     "status": "completed"
    },
    "tags": []
   },
   "outputs": [
    {
     "data": {
      "text/plain": [
       "[100, 625, 900, 1225, 2500]"
      ]
     },
     "execution_count": 215,
     "metadata": {},
     "output_type": "execute_result"
    }
   ],
   "source": [
    "#map\n",
    "\n",
    "a = [10,25,30,35,50]\n",
    "\n",
    "# fil  = [10,30,50]\n",
    "\n",
    "# reduce = one final ans \n",
    "\n",
    "#map - apply some function on all elememts\n",
    "\n",
    "\n",
    "b = []\n",
    "for i in a :\n",
    "    b.append(i**2)\n",
    "b\n",
    "\n"
   ]
  },
  {
   "cell_type": "code",
   "execution_count": 216,
   "id": "4aa6f56d",
   "metadata": {
    "execution": {
     "iopub.execute_input": "2023-11-08T17:59:54.122257Z",
     "iopub.status.busy": "2023-11-08T17:59:54.121810Z",
     "iopub.status.idle": "2023-11-08T17:59:54.130396Z",
     "shell.execute_reply": "2023-11-08T17:59:54.129382Z"
    },
    "papermill": {
     "duration": 0.097801,
     "end_time": "2023-11-08T17:59:54.132403",
     "exception": false,
     "start_time": "2023-11-08T17:59:54.034602",
     "status": "completed"
    },
    "tags": []
   },
   "outputs": [
    {
     "data": {
      "text/plain": [
       "[100, 625, 900, 1225, 2500]"
      ]
     },
     "execution_count": 216,
     "metadata": {},
     "output_type": "execute_result"
    }
   ],
   "source": [
    "c = [10,25,30,35,50]\n",
    "def sq(x) :\n",
    "    return x**2\n",
    "d = list(map(sq, c))\n",
    "d"
   ]
  },
  {
   "cell_type": "code",
   "execution_count": 217,
   "id": "224939c9",
   "metadata": {
    "execution": {
     "iopub.execute_input": "2023-11-08T17:59:54.302009Z",
     "iopub.status.busy": "2023-11-08T17:59:54.301494Z",
     "iopub.status.idle": "2023-11-08T17:59:54.309244Z",
     "shell.execute_reply": "2023-11-08T17:59:54.307563Z"
    },
    "papermill": {
     "duration": 0.097733,
     "end_time": "2023-11-08T17:59:54.312911",
     "exception": false,
     "start_time": "2023-11-08T17:59:54.215178",
     "status": "completed"
    },
    "tags": []
   },
   "outputs": [
    {
     "data": {
      "text/plain": [
       "[100, 625, 900, 1225, 2500]"
      ]
     },
     "execution_count": 217,
     "metadata": {},
     "output_type": "execute_result"
    }
   ],
   "source": [
    "c = [10,25,30,35,50]\n",
    "\n",
    "d = list(map(lambda i : i **2 , c))\n",
    "d"
   ]
  },
  {
   "cell_type": "code",
   "execution_count": 218,
   "id": "42751136",
   "metadata": {
    "execution": {
     "iopub.execute_input": "2023-11-08T17:59:54.485284Z",
     "iopub.status.busy": "2023-11-08T17:59:54.484793Z",
     "iopub.status.idle": "2023-11-08T17:59:54.491661Z",
     "shell.execute_reply": "2023-11-08T17:59:54.490908Z"
    },
    "papermill": {
     "duration": 0.094366,
     "end_time": "2023-11-08T17:59:54.493328",
     "exception": false,
     "start_time": "2023-11-08T17:59:54.398962",
     "status": "completed"
    },
    "tags": []
   },
   "outputs": [
    {
     "data": {
      "text/plain": [
       "['swapna', 'sush']"
      ]
     },
     "execution_count": 218,
     "metadata": {},
     "output_type": "execute_result"
    }
   ],
   "source": [
    "a = [\"swapna\",\"sush\",\"ghosh\"]\n",
    "b = list(filter(lambda x : x[0]==\"s\",a))\n",
    "b"
   ]
  },
  {
   "cell_type": "code",
   "execution_count": 219,
   "id": "a541925a",
   "metadata": {
    "execution": {
     "iopub.execute_input": "2023-11-08T17:59:54.664181Z",
     "iopub.status.busy": "2023-11-08T17:59:54.663722Z",
     "iopub.status.idle": "2023-11-08T17:59:54.669860Z",
     "shell.execute_reply": "2023-11-08T17:59:54.669161Z"
    },
    "papermill": {
     "duration": 0.094038,
     "end_time": "2023-11-08T17:59:54.671912",
     "exception": false,
     "start_time": "2023-11-08T17:59:54.577874",
     "status": "completed"
    },
    "tags": []
   },
   "outputs": [
    {
     "data": {
      "text/plain": [
       "['student swapna', 'student sush', 'student ghosh']"
      ]
     },
     "execution_count": 219,
     "metadata": {},
     "output_type": "execute_result"
    }
   ],
   "source": [
    "a = [\"swapna\",\"sush\",\"ghosh\"]\n",
    "b = list(map(lambda i : \"student \"+ i,a))\n",
    "b"
   ]
  },
  {
   "cell_type": "code",
   "execution_count": 220,
   "id": "602fb81c",
   "metadata": {
    "execution": {
     "iopub.execute_input": "2023-11-08T17:59:54.841476Z",
     "iopub.status.busy": "2023-11-08T17:59:54.841086Z",
     "iopub.status.idle": "2023-11-08T17:59:54.848572Z",
     "shell.execute_reply": "2023-11-08T17:59:54.847249Z"
    },
    "papermill": {
     "duration": 0.094616,
     "end_time": "2023-11-08T17:59:54.850434",
     "exception": false,
     "start_time": "2023-11-08T17:59:54.755818",
     "status": "completed"
    },
    "tags": []
   },
   "outputs": [
    {
     "data": {
      "text/plain": [
       "[('swapna', 100), ('prasad', 200), ('ghosh', 300)]"
      ]
     },
     "execution_count": 220,
     "metadata": {},
     "output_type": "execute_result"
    }
   ],
   "source": [
    "a = [\"swapna\",\"prasad\",\"ghosh\"]\n",
    "b = [100,200,300]\n",
    "\n",
    "\n",
    "c = [  ( a[i] , b[i]) for i in range(len(a))]\n",
    "c"
   ]
  },
  {
   "cell_type": "code",
   "execution_count": 221,
   "id": "5388c22e",
   "metadata": {
    "execution": {
     "iopub.execute_input": "2023-11-08T17:59:55.022380Z",
     "iopub.status.busy": "2023-11-08T17:59:55.021916Z",
     "iopub.status.idle": "2023-11-08T17:59:55.027969Z",
     "shell.execute_reply": "2023-11-08T17:59:55.026581Z"
    },
    "papermill": {
     "duration": 0.095697,
     "end_time": "2023-11-08T17:59:55.030782",
     "exception": false,
     "start_time": "2023-11-08T17:59:54.935085",
     "status": "completed"
    },
    "tags": []
   },
   "outputs": [
    {
     "name": "stdout",
     "output_type": "stream",
     "text": [
      "swapna 100\n",
      "prasad 200\n",
      "ghosh 300\n"
     ]
    }
   ],
   "source": [
    "for i in range(len(a) ) :\n",
    "    print(a[i],b[i])\n",
    "    "
   ]
  },
  {
   "cell_type": "code",
   "execution_count": 222,
   "id": "8da7d329",
   "metadata": {
    "execution": {
     "iopub.execute_input": "2023-11-08T17:59:55.198954Z",
     "iopub.status.busy": "2023-11-08T17:59:55.198590Z",
     "iopub.status.idle": "2023-11-08T17:59:55.204869Z",
     "shell.execute_reply": "2023-11-08T17:59:55.203384Z"
    },
    "papermill": {
     "duration": 0.093237,
     "end_time": "2023-11-08T17:59:55.207649",
     "exception": false,
     "start_time": "2023-11-08T17:59:55.114412",
     "status": "completed"
    },
    "tags": []
   },
   "outputs": [
    {
     "name": "stdout",
     "output_type": "stream",
     "text": [
      "('swapna', 100) --\n",
      "('prasad', 200) --\n",
      "('ghosh', 300) --\n"
     ]
    }
   ],
   "source": [
    "for i in zip(a,b) :\n",
    "    print(i,\"--\")"
   ]
  },
  {
   "cell_type": "code",
   "execution_count": 223,
   "id": "222ddb0f",
   "metadata": {
    "execution": {
     "iopub.execute_input": "2023-11-08T17:59:55.374914Z",
     "iopub.status.busy": "2023-11-08T17:59:55.374565Z",
     "iopub.status.idle": "2023-11-08T17:59:55.380783Z",
     "shell.execute_reply": "2023-11-08T17:59:55.379403Z"
    },
    "papermill": {
     "duration": 0.092525,
     "end_time": "2023-11-08T17:59:55.383316",
     "exception": false,
     "start_time": "2023-11-08T17:59:55.290791",
     "status": "completed"
    },
    "tags": []
   },
   "outputs": [
    {
     "name": "stdout",
     "output_type": "stream",
     "text": [
      "swapna -- 100\n",
      "prasad -- 200\n",
      "ghosh -- 300\n"
     ]
    }
   ],
   "source": [
    "for i,j in zip(a,b) :\n",
    "    print(i,\"--\",j)"
   ]
  },
  {
   "cell_type": "code",
   "execution_count": 224,
   "id": "491aa6f2",
   "metadata": {
    "execution": {
     "iopub.execute_input": "2023-11-08T17:59:55.551234Z",
     "iopub.status.busy": "2023-11-08T17:59:55.550819Z",
     "iopub.status.idle": "2023-11-08T17:59:55.558933Z",
     "shell.execute_reply": "2023-11-08T17:59:55.557645Z"
    },
    "papermill": {
     "duration": 0.094257,
     "end_time": "2023-11-08T17:59:55.560918",
     "exception": false,
     "start_time": "2023-11-08T17:59:55.466661",
     "status": "completed"
    },
    "tags": []
   },
   "outputs": [
    {
     "data": {
      "text/plain": [
       "[('swapna', 100, 1)]"
      ]
     },
     "execution_count": 224,
     "metadata": {},
     "output_type": "execute_result"
    }
   ],
   "source": [
    "a = [\"swapna\"]\n",
    "b = [100,200,300]\n",
    "c= [1,2]\n",
    "\n",
    "\n",
    "c = list(zip(a,b,c))\n",
    "c"
   ]
  },
  {
   "cell_type": "code",
   "execution_count": 225,
   "id": "94466723",
   "metadata": {
    "execution": {
     "iopub.execute_input": "2023-11-08T17:59:55.808260Z",
     "iopub.status.busy": "2023-11-08T17:59:55.807788Z",
     "iopub.status.idle": "2023-11-08T17:59:55.814994Z",
     "shell.execute_reply": "2023-11-08T17:59:55.813582Z"
    },
    "papermill": {
     "duration": 0.175209,
     "end_time": "2023-11-08T17:59:55.817558",
     "exception": false,
     "start_time": "2023-11-08T17:59:55.642349",
     "status": "completed"
    },
    "tags": []
   },
   "outputs": [
    {
     "name": "stdout",
     "output_type": "stream",
     "text": [
      "yes\n"
     ]
    }
   ],
   "source": [
    "a = \"malayalam\"\n",
    "b = a[::-1]\n",
    "b\n",
    "\n",
    "if a == b :\n",
    "    print(\"yes\")\n",
    "else :\n",
    "    print(\"no\")"
   ]
  },
  {
   "cell_type": "code",
   "execution_count": null,
   "id": "eb773bea",
   "metadata": {
    "papermill": {
     "duration": 0.087643,
     "end_time": "2023-11-08T17:59:55.990341",
     "exception": false,
     "start_time": "2023-11-08T17:59:55.902698",
     "status": "completed"
    },
    "tags": []
   },
   "outputs": [],
   "source": []
  },
  {
   "cell_type": "code",
   "execution_count": 226,
   "id": "317791b3",
   "metadata": {
    "execution": {
     "iopub.execute_input": "2023-11-08T17:59:56.163508Z",
     "iopub.status.busy": "2023-11-08T17:59:56.163057Z",
     "iopub.status.idle": "2023-11-08T17:59:56.170460Z",
     "shell.execute_reply": "2023-11-08T17:59:56.168823Z"
    },
    "papermill": {
     "duration": 0.096973,
     "end_time": "2023-11-08T17:59:56.173338",
     "exception": false,
     "start_time": "2023-11-08T17:59:56.076365",
     "status": "completed"
    },
    "tags": []
   },
   "outputs": [],
   "source": [
    "class BluePrint() :\n",
    "    \n",
    "    def __init__ (self,a ): # constructor\n",
    "        self.b = a + 100\n",
    "        self.designed = \"mlv prasad\"\n",
    "        self.country  = \"india\"\n",
    "        \n",
    "\n",
    "\n",
    "    \n",
    "\n",
    "    def color(self):\n",
    "#         b = self.designed\n",
    "        return f\"home is designed by {self.designed} for  and is 100 ft and color \"\n",
    "\n",
    "    def interior(self):\n",
    "        return \"home is italian \"\n",
    "    \n",
    "ghosh = BluePrint(100.5)\n",
    "# int(ghosh)"
   ]
  },
  {
   "cell_type": "code",
   "execution_count": 227,
   "id": "cb70ba2f",
   "metadata": {
    "execution": {
     "iopub.execute_input": "2023-11-08T17:59:56.346959Z",
     "iopub.status.busy": "2023-11-08T17:59:56.346569Z",
     "iopub.status.idle": "2023-11-08T17:59:56.351931Z",
     "shell.execute_reply": "2023-11-08T17:59:56.350570Z"
    },
    "papermill": {
     "duration": 0.095724,
     "end_time": "2023-11-08T17:59:56.354293",
     "exception": false,
     "start_time": "2023-11-08T17:59:56.258569",
     "status": "completed"
    },
    "tags": []
   },
   "outputs": [],
   "source": [
    "# swapna = BluePrint()\n",
    "# swapna.color()"
   ]
  },
  {
   "cell_type": "code",
   "execution_count": 228,
   "id": "56f76403",
   "metadata": {
    "execution": {
     "iopub.execute_input": "2023-11-08T17:59:56.528795Z",
     "iopub.status.busy": "2023-11-08T17:59:56.528399Z",
     "iopub.status.idle": "2023-11-08T17:59:56.537562Z",
     "shell.execute_reply": "2023-11-08T17:59:56.535409Z"
    },
    "papermill": {
     "duration": 0.09987,
     "end_time": "2023-11-08T17:59:56.540370",
     "exception": false,
     "start_time": "2023-11-08T17:59:56.440500",
     "status": "completed"
    },
    "tags": []
   },
   "outputs": [
    {
     "data": {
      "text/plain": [
       "'9'"
      ]
     },
     "execution_count": 228,
     "metadata": {},
     "output_type": "execute_result"
    }
   ],
   "source": [
    "a = 9\n",
    "b = str(a)\n",
    "b"
   ]
  },
  {
   "cell_type": "code",
   "execution_count": 229,
   "id": "5b416a63",
   "metadata": {
    "execution": {
     "iopub.execute_input": "2023-11-08T17:59:56.712851Z",
     "iopub.status.busy": "2023-11-08T17:59:56.712521Z",
     "iopub.status.idle": "2023-11-08T17:59:56.721720Z",
     "shell.execute_reply": "2023-11-08T17:59:56.720521Z"
    },
    "papermill": {
     "duration": 0.09678,
     "end_time": "2023-11-08T17:59:56.723780",
     "exception": false,
     "start_time": "2023-11-08T17:59:56.627000",
     "status": "completed"
    },
    "tags": []
   },
   "outputs": [
    {
     "data": {
      "text/plain": [
       "0"
      ]
     },
     "execution_count": 229,
     "metadata": {},
     "output_type": "execute_result"
    }
   ],
   "source": [
    "class Student() :\n",
    "    \n",
    "    def __init__(self,name,age):\n",
    "        self.studname = f\"the student name is {name}\"\n",
    "        self.studage = f\"the student age is {age}\"\n",
    "        self.courses= []\n",
    "    \n",
    "    def enroll(self, course= 0 ) :\n",
    "        self.courses.append(course)\n",
    "        \n",
    "    def total_course(self):\n",
    "        return len(self.courses)\n",
    "    \n",
    "    \n",
    "    \n",
    "joy =  Student(\"joyce\",\"30\")\n",
    "joy.total_course()\n",
    "\n",
    "\n",
    "\n"
   ]
  },
  {
   "cell_type": "code",
   "execution_count": 230,
   "id": "04c117e7",
   "metadata": {
    "execution": {
     "iopub.execute_input": "2023-11-08T17:59:56.891970Z",
     "iopub.status.busy": "2023-11-08T17:59:56.891528Z",
     "iopub.status.idle": "2023-11-08T17:59:56.899687Z",
     "shell.execute_reply": "2023-11-08T17:59:56.898223Z"
    },
    "papermill": {
     "duration": 0.095616,
     "end_time": "2023-11-08T17:59:56.902482",
     "exception": false,
     "start_time": "2023-11-08T17:59:56.806866",
     "status": "completed"
    },
    "tags": []
   },
   "outputs": [
    {
     "data": {
      "text/plain": [
       "[]"
      ]
     },
     "execution_count": 230,
     "metadata": {},
     "output_type": "execute_result"
    }
   ],
   "source": [
    "sw = Student(\"swapna\",\"35\")\n",
    "sw.courses"
   ]
  },
  {
   "cell_type": "code",
   "execution_count": 231,
   "id": "2c3dcbfe",
   "metadata": {
    "execution": {
     "iopub.execute_input": "2023-11-08T17:59:57.077863Z",
     "iopub.status.busy": "2023-11-08T17:59:57.077160Z",
     "iopub.status.idle": "2023-11-08T17:59:57.083091Z",
     "shell.execute_reply": "2023-11-08T17:59:57.081812Z"
    },
    "papermill": {
     "duration": 0.09736,
     "end_time": "2023-11-08T17:59:57.085157",
     "exception": false,
     "start_time": "2023-11-08T17:59:56.987797",
     "status": "completed"
    },
    "tags": []
   },
   "outputs": [
    {
     "data": {
      "text/plain": [
       "[]"
      ]
     },
     "execution_count": 231,
     "metadata": {},
     "output_type": "execute_result"
    }
   ],
   "source": [
    "joy.courses\n",
    "\n",
    "# joy.enroll(\"sql\")"
   ]
  },
  {
   "cell_type": "code",
   "execution_count": 232,
   "id": "10880c2e",
   "metadata": {
    "execution": {
     "iopub.execute_input": "2023-11-08T17:59:57.261698Z",
     "iopub.status.busy": "2023-11-08T17:59:57.261037Z",
     "iopub.status.idle": "2023-11-08T17:59:57.265437Z",
     "shell.execute_reply": "2023-11-08T17:59:57.264115Z"
    },
    "papermill": {
     "duration": 0.095522,
     "end_time": "2023-11-08T17:59:57.268392",
     "exception": false,
     "start_time": "2023-11-08T17:59:57.172870",
     "status": "completed"
    },
    "tags": []
   },
   "outputs": [],
   "source": [
    "sw.enroll(\"sql\")"
   ]
  },
  {
   "cell_type": "code",
   "execution_count": 233,
   "id": "7357f157",
   "metadata": {
    "execution": {
     "iopub.execute_input": "2023-11-08T17:59:57.434781Z",
     "iopub.status.busy": "2023-11-08T17:59:57.433814Z",
     "iopub.status.idle": "2023-11-08T17:59:57.441364Z",
     "shell.execute_reply": "2023-11-08T17:59:57.440216Z"
    },
    "papermill": {
     "duration": 0.09124,
     "end_time": "2023-11-08T17:59:57.443499",
     "exception": false,
     "start_time": "2023-11-08T17:59:57.352259",
     "status": "completed"
    },
    "tags": []
   },
   "outputs": [
    {
     "data": {
      "text/plain": [
       "[]"
      ]
     },
     "execution_count": 233,
     "metadata": {},
     "output_type": "execute_result"
    }
   ],
   "source": [
    "joy.courses"
   ]
  },
  {
   "cell_type": "code",
   "execution_count": 234,
   "id": "de46203f",
   "metadata": {
    "execution": {
     "iopub.execute_input": "2023-11-08T17:59:57.613597Z",
     "iopub.status.busy": "2023-11-08T17:59:57.612957Z",
     "iopub.status.idle": "2023-11-08T17:59:57.617651Z",
     "shell.execute_reply": "2023-11-08T17:59:57.616395Z"
    },
    "papermill": {
     "duration": 0.092364,
     "end_time": "2023-11-08T17:59:57.620337",
     "exception": false,
     "start_time": "2023-11-08T17:59:57.527973",
     "status": "completed"
    },
    "tags": []
   },
   "outputs": [],
   "source": [
    "joy.enroll(\"python\")"
   ]
  },
  {
   "cell_type": "code",
   "execution_count": 235,
   "id": "af597b08",
   "metadata": {
    "execution": {
     "iopub.execute_input": "2023-11-08T17:59:57.793019Z",
     "iopub.status.busy": "2023-11-08T17:59:57.792368Z",
     "iopub.status.idle": "2023-11-08T17:59:57.799750Z",
     "shell.execute_reply": "2023-11-08T17:59:57.798022Z"
    },
    "papermill": {
     "duration": 0.0968,
     "end_time": "2023-11-08T17:59:57.802712",
     "exception": false,
     "start_time": "2023-11-08T17:59:57.705912",
     "status": "completed"
    },
    "tags": []
   },
   "outputs": [
    {
     "data": {
      "text/plain": [
       "['python']"
      ]
     },
     "execution_count": 235,
     "metadata": {},
     "output_type": "execute_result"
    }
   ],
   "source": [
    "joy.courses"
   ]
  },
  {
   "cell_type": "code",
   "execution_count": 236,
   "id": "a59ebce8",
   "metadata": {
    "execution": {
     "iopub.execute_input": "2023-11-08T17:59:57.977206Z",
     "iopub.status.busy": "2023-11-08T17:59:57.976802Z",
     "iopub.status.idle": "2023-11-08T17:59:57.983220Z",
     "shell.execute_reply": "2023-11-08T17:59:57.982412Z"
    },
    "papermill": {
     "duration": 0.09708,
     "end_time": "2023-11-08T17:59:57.984999",
     "exception": false,
     "start_time": "2023-11-08T17:59:57.887919",
     "status": "completed"
    },
    "tags": []
   },
   "outputs": [
    {
     "data": {
      "text/plain": [
       "1"
      ]
     },
     "execution_count": 236,
     "metadata": {},
     "output_type": "execute_result"
    }
   ],
   "source": [
    "joy.total_course()"
   ]
  },
  {
   "cell_type": "code",
   "execution_count": 237,
   "id": "3d31ff86",
   "metadata": {
    "execution": {
     "iopub.execute_input": "2023-11-08T17:59:58.161672Z",
     "iopub.status.busy": "2023-11-08T17:59:58.161093Z",
     "iopub.status.idle": "2023-11-08T17:59:58.169437Z",
     "shell.execute_reply": "2023-11-08T17:59:58.168182Z"
    },
    "papermill": {
     "duration": 0.098665,
     "end_time": "2023-11-08T17:59:58.171490",
     "exception": false,
     "start_time": "2023-11-08T17:59:58.072825",
     "status": "completed"
    },
    "tags": []
   },
   "outputs": [
    {
     "data": {
      "text/plain": [
       "['sql']"
      ]
     },
     "execution_count": 237,
     "metadata": {},
     "output_type": "execute_result"
    }
   ],
   "source": [
    "sw.courses"
   ]
  },
  {
   "cell_type": "code",
   "execution_count": 238,
   "id": "c3b7ca43",
   "metadata": {
    "execution": {
     "iopub.execute_input": "2023-11-08T17:59:58.348363Z",
     "iopub.status.busy": "2023-11-08T17:59:58.347898Z",
     "iopub.status.idle": "2023-11-08T17:59:58.355148Z",
     "shell.execute_reply": "2023-11-08T17:59:58.354367Z"
    },
    "papermill": {
     "duration": 0.09732,
     "end_time": "2023-11-08T17:59:58.356926",
     "exception": false,
     "start_time": "2023-11-08T17:59:58.259606",
     "status": "completed"
    },
    "tags": []
   },
   "outputs": [
    {
     "data": {
      "text/plain": [
       "1"
      ]
     },
     "execution_count": 238,
     "metadata": {},
     "output_type": "execute_result"
    }
   ],
   "source": [
    "sw.total_course()"
   ]
  },
  {
   "cell_type": "code",
   "execution_count": 239,
   "id": "0fcc600c",
   "metadata": {
    "execution": {
     "iopub.execute_input": "2023-11-08T17:59:58.610643Z",
     "iopub.status.busy": "2023-11-08T17:59:58.609112Z",
     "iopub.status.idle": "2023-11-08T17:59:58.618812Z",
     "shell.execute_reply": "2023-11-08T17:59:58.617275Z"
    },
    "papermill": {
     "duration": 0.099868,
     "end_time": "2023-11-08T17:59:58.621718",
     "exception": false,
     "start_time": "2023-11-08T17:59:58.521850",
     "status": "completed"
    },
    "tags": []
   },
   "outputs": [
    {
     "name": "stdout",
     "output_type": "stream",
     "text": [
      "the owner brand is TYT and number of doors is 6\n"
     ]
    }
   ],
   "source": [
    "class Vehicle :\n",
    "    \n",
    "    def __init__ (self,brand,model ):\n",
    "        self.brand = brand\n",
    "        self.model = model\n",
    "        \n",
    "    def info(self):\n",
    "        return f\"the owner brand is {self.brand}\"\n",
    "    \n",
    "    \n",
    "    \n",
    "class Toyato(Vehicle):\n",
    "    def __init__(self,brand,model,doors) : \n",
    "        super().__init__(brand,model)\n",
    "        self.doors= doors\n",
    "    def info(self):\n",
    "        return f\"{super().info()} and number of doors is {self.doors}\"\n",
    "    \n",
    "swapna = Toyato(\"TYT\",\"fortuner\",6)\n",
    "\n",
    "print(swapna.info())\n"
   ]
  },
  {
   "cell_type": "code",
   "execution_count": 240,
   "id": "9becbab3",
   "metadata": {
    "execution": {
     "iopub.execute_input": "2023-11-08T17:59:58.796916Z",
     "iopub.status.busy": "2023-11-08T17:59:58.795702Z",
     "iopub.status.idle": "2023-11-08T17:59:58.804057Z",
     "shell.execute_reply": "2023-11-08T17:59:58.802364Z"
    },
    "papermill": {
     "duration": 0.097983,
     "end_time": "2023-11-08T17:59:58.806949",
     "exception": false,
     "start_time": "2023-11-08T17:59:58.708966",
     "status": "completed"
    },
    "tags": []
   },
   "outputs": [
    {
     "name": "stdout",
     "output_type": "stream",
     "text": [
      "1\n",
      "1\n",
      "2\n",
      "3\n",
      "5\n",
      "8\n",
      "13\n",
      "21\n",
      "34\n",
      "55\n",
      "89\n",
      "144\n",
      "233\n"
     ]
    }
   ],
   "source": [
    "def fibonaci ()  :\n",
    "    a,b = 1,1\n",
    "    while True :\n",
    "        yield a \n",
    "        a,b = b, a+b # 2 3 \n",
    "        \n",
    "joy =  fibonaci()\n",
    "for i in range(13) :\n",
    "    print(next(joy))"
   ]
  },
  {
   "cell_type": "code",
   "execution_count": 241,
   "id": "6008cf6e",
   "metadata": {
    "execution": {
     "iopub.execute_input": "2023-11-08T17:59:58.986144Z",
     "iopub.status.busy": "2023-11-08T17:59:58.985481Z",
     "iopub.status.idle": "2023-11-08T17:59:58.990631Z",
     "shell.execute_reply": "2023-11-08T17:59:58.989562Z"
    },
    "papermill": {
     "duration": 0.097377,
     "end_time": "2023-11-08T17:59:58.994061",
     "exception": false,
     "start_time": "2023-11-08T17:59:58.896684",
     "status": "completed"
    },
    "tags": []
   },
   "outputs": [],
   "source": [
    "#poly morphism"
   ]
  },
  {
   "cell_type": "code",
   "execution_count": 242,
   "id": "7d371e9b",
   "metadata": {
    "execution": {
     "iopub.execute_input": "2023-11-08T17:59:59.171566Z",
     "iopub.status.busy": "2023-11-08T17:59:59.171095Z",
     "iopub.status.idle": "2023-11-08T17:59:59.179320Z",
     "shell.execute_reply": "2023-11-08T17:59:59.177828Z"
    },
    "papermill": {
     "duration": 0.098507,
     "end_time": "2023-11-08T17:59:59.181628",
     "exception": false,
     "start_time": "2023-11-08T17:59:59.083121",
     "status": "completed"
    },
    "tags": []
   },
   "outputs": [
    {
     "name": "stdout",
     "output_type": "stream",
     "text": [
      "catty\n",
      "doggy\n"
     ]
    }
   ],
   "source": [
    "class Animal() :\n",
    "    def speak(self) :\n",
    "        pass\n",
    "class Dog(Animal) :\n",
    "    def speak(self) :\n",
    "        return \"doggy\"\n",
    "class Cat(Animal) :\n",
    "    def speak( self) :\n",
    "        return \"catty\"\n",
    "    \n",
    "def sound(Animal) :\n",
    "    return    Animal.speak()\n",
    "\n",
    "dog = Dog()\n",
    "cat = Cat()\n",
    "\n",
    "print(sound(cat))\n",
    "print(sound(dog))"
   ]
  },
  {
   "cell_type": "code",
   "execution_count": 243,
   "id": "06b0a3db",
   "metadata": {
    "execution": {
     "iopub.execute_input": "2023-11-08T17:59:59.352621Z",
     "iopub.status.busy": "2023-11-08T17:59:59.352186Z",
     "iopub.status.idle": "2023-11-08T17:59:59.359969Z",
     "shell.execute_reply": "2023-11-08T17:59:59.358801Z"
    },
    "papermill": {
     "duration": 0.095109,
     "end_time": "2023-11-08T17:59:59.362804",
     "exception": false,
     "start_time": "2023-11-08T17:59:59.267695",
     "status": "completed"
    },
    "tags": []
   },
   "outputs": [
    {
     "name": "stdout",
     "output_type": "stream",
     "text": [
      "swa\n",
      "300\n",
      "ghosh\n",
      "300\n"
     ]
    }
   ],
   "source": [
    "class Student :\n",
    "    def __init__(self, name, rno) :\n",
    "        self.a = 10\n",
    "        self.__name = name\n",
    "        self._roll_no = rno\n",
    "        \n",
    "    def getname (self) :\n",
    "        return self.__name\n",
    "    def setname(self,name ) :\n",
    "        if len(name) >= 3 :\n",
    "            self.__name = name\n",
    "        else :\n",
    "            print(\"Name is too shot\")\n",
    "        \n",
    "    def display(self) :\n",
    "        print(self.__name)\n",
    "        print(self._roll_no)\n",
    "        \n",
    "swapna = Student(\"swa\",300)\n",
    "swapna.display()\n",
    "swapna.setname(\"ghosh\")\n",
    "swapna.display()\n"
   ]
  },
  {
   "cell_type": "code",
   "execution_count": 244,
   "id": "a3d039b0",
   "metadata": {
    "execution": {
     "iopub.execute_input": "2023-11-08T17:59:59.538400Z",
     "iopub.status.busy": "2023-11-08T17:59:59.538013Z",
     "iopub.status.idle": "2023-11-08T17:59:59.545460Z",
     "shell.execute_reply": "2023-11-08T17:59:59.543905Z"
    },
    "papermill": {
     "duration": 0.100668,
     "end_time": "2023-11-08T17:59:59.548044",
     "exception": false,
     "start_time": "2023-11-08T17:59:59.447376",
     "status": "completed"
    },
    "tags": []
   },
   "outputs": [
    {
     "data": {
      "text/plain": [
       "10"
      ]
     },
     "execution_count": 244,
     "metadata": {},
     "output_type": "execute_result"
    }
   ],
   "source": [
    "# swapna.__name\n",
    "swapna.a"
   ]
  },
  {
   "cell_type": "code",
   "execution_count": 245,
   "id": "788ad774",
   "metadata": {
    "execution": {
     "iopub.execute_input": "2023-11-08T17:59:59.725391Z",
     "iopub.status.busy": "2023-11-08T17:59:59.724689Z",
     "iopub.status.idle": "2023-11-08T17:59:59.729860Z",
     "shell.execute_reply": "2023-11-08T17:59:59.729075Z"
    },
    "papermill": {
     "duration": 0.097283,
     "end_time": "2023-11-08T17:59:59.731742",
     "exception": false,
     "start_time": "2023-11-08T17:59:59.634459",
     "status": "completed"
    },
    "tags": []
   },
   "outputs": [],
   "source": [
    "# ##### Write a Python program that accepts a sequence of c\n",
    "# # omma-separated numbers from the user and generates a list and a tuple of those numbers.\n",
    "# # Sample data : 3, 5, 7, 23\n",
    "# ls = []\n",
    "# for i in range(4):\n",
    "#     a =int(input())\n",
    "#     ls.append(a)\n",
    "# print(f\"the required answer is {ls} and {tuple(ls)}\")"
   ]
  },
  {
   "cell_type": "code",
   "execution_count": 246,
   "id": "7b346f86",
   "metadata": {
    "execution": {
     "iopub.execute_input": "2023-11-08T17:59:59.908209Z",
     "iopub.status.busy": "2023-11-08T17:59:59.907215Z",
     "iopub.status.idle": "2023-11-08T17:59:59.913646Z",
     "shell.execute_reply": "2023-11-08T17:59:59.911622Z"
    },
    "papermill": {
     "duration": 0.095486,
     "end_time": "2023-11-08T17:59:59.916576",
     "exception": false,
     "start_time": "2023-11-08T17:59:59.821090",
     "status": "completed"
    },
    "tags": []
   },
   "outputs": [],
   "source": [
    "# Write a Python program to display the examination schedule. \n",
    "# (extract the date from exam_st_date).\n",
    "# exam_st_date = (11, 12, 2014)\n",
    "# Sample Output : The examination will start from : 11 / 12 / 2014"
   ]
  },
  {
   "cell_type": "code",
   "execution_count": 247,
   "id": "c98aaebb",
   "metadata": {
    "execution": {
     "iopub.execute_input": "2023-11-08T18:00:00.097653Z",
     "iopub.status.busy": "2023-11-08T18:00:00.097221Z",
     "iopub.status.idle": "2023-11-08T18:00:00.103675Z",
     "shell.execute_reply": "2023-11-08T18:00:00.102851Z"
    },
    "papermill": {
     "duration": 0.104031,
     "end_time": "2023-11-08T18:00:00.105824",
     "exception": false,
     "start_time": "2023-11-08T18:00:00.001793",
     "status": "completed"
    },
    "tags": []
   },
   "outputs": [
    {
     "name": "stdout",
     "output_type": "stream",
     "text": [
      "The examination will start from : 6/5/ 2023\n"
     ]
    }
   ],
   "source": [
    "exam_st_date = (6, 5, 2023)\n",
    "for i in range(1):\n",
    "    print(f\"The examination will start from : {exam_st_date[i] }/{ exam_st_date[i+1] }/ {exam_st_date[i+2]}\")"
   ]
  },
  {
   "cell_type": "code",
   "execution_count": 248,
   "id": "e1a8f70a",
   "metadata": {
    "execution": {
     "iopub.execute_input": "2023-11-08T18:00:00.296094Z",
     "iopub.status.busy": "2023-11-08T18:00:00.295664Z",
     "iopub.status.idle": "2023-11-08T18:00:00.301416Z",
     "shell.execute_reply": "2023-11-08T18:00:00.300475Z"
    },
    "papermill": {
     "duration": 0.105241,
     "end_time": "2023-11-08T18:00:00.303711",
     "exception": false,
     "start_time": "2023-11-08T18:00:00.198470",
     "status": "completed"
    },
    "tags": []
   },
   "outputs": [
    {
     "name": "stdout",
     "output_type": "stream",
     "text": [
      "score of a is 10 score of b is  20\n",
      "score of a is 10 score of b is 20\n"
     ]
    }
   ],
   "source": [
    "a = 10\n",
    "b = 20\n",
    "\n",
    "print(\"score of a is\",a, \"score of b is \",b)\n",
    "print(f\"score of a is {a} score of b is {b}\")"
   ]
  },
  {
   "cell_type": "code",
   "execution_count": 249,
   "id": "e8f3c8aa",
   "metadata": {
    "execution": {
     "iopub.execute_input": "2023-11-08T18:00:00.489942Z",
     "iopub.status.busy": "2023-11-08T18:00:00.489498Z",
     "iopub.status.idle": "2023-11-08T18:00:00.495946Z",
     "shell.execute_reply": "2023-11-08T18:00:00.494987Z"
    },
    "papermill": {
     "duration": 0.104196,
     "end_time": "2023-11-08T18:00:00.498757",
     "exception": false,
     "start_time": "2023-11-08T18:00:00.394561",
     "status": "completed"
    },
    "tags": []
   },
   "outputs": [],
   "source": [
    "# # Sample data : 3, 5, 7, 23\n",
    "# ls = []\n",
    "# for i in range(1):\n",
    "#     a =input()\n",
    "#     ls.append(a)\n",
    "# print(f\"the required answer is {ls} and {tuple(ls)}\")"
   ]
  },
  {
   "cell_type": "code",
   "execution_count": 250,
   "id": "5a0a8db6",
   "metadata": {
    "execution": {
     "iopub.execute_input": "2023-11-08T18:00:00.707614Z",
     "iopub.status.busy": "2023-11-08T18:00:00.707094Z",
     "iopub.status.idle": "2023-11-08T18:00:00.714346Z",
     "shell.execute_reply": "2023-11-08T18:00:00.713199Z"
    },
    "papermill": {
     "duration": 0.103483,
     "end_time": "2023-11-08T18:00:00.717237",
     "exception": false,
     "start_time": "2023-11-08T18:00:00.613754",
     "status": "completed"
    },
    "tags": []
   },
   "outputs": [
    {
     "data": {
      "text/plain": [
       "['my name ', ' mlv prasad and ', ' am a good boy']"
      ]
     },
     "execution_count": 250,
     "metadata": {},
     "output_type": "execute_result"
    }
   ],
   "source": [
    "a = \"my name is mlv prasad and is am a good boy\"\n",
    "b = a.split(\"is\")\n",
    "b"
   ]
  },
  {
   "cell_type": "code",
   "execution_count": 251,
   "id": "909b439d",
   "metadata": {
    "execution": {
     "iopub.execute_input": "2023-11-08T18:00:00.897567Z",
     "iopub.status.busy": "2023-11-08T18:00:00.897092Z",
     "iopub.status.idle": "2023-11-08T18:00:00.904028Z",
     "shell.execute_reply": "2023-11-08T18:00:00.902572Z"
    },
    "papermill": {
     "duration": 0.100307,
     "end_time": "2023-11-08T18:00:00.906983",
     "exception": false,
     "start_time": "2023-11-08T18:00:00.806676",
     "status": "completed"
    },
    "tags": []
   },
   "outputs": [
    {
     "name": "stdout",
     "output_type": "stream",
     "text": [
      "                * \n",
      "            * * * \n",
      "        * * * * * \n",
      "    * * * * * * * \n",
      "* * * * * * * * * \n"
     ]
    }
   ],
   "source": [
    "for i in range(5):\n",
    "    print(\"  \"*(2*(4-i)),end=\"\")\n",
    "    print(\"* \"* ( (2*i)+1) )\n",
    "    "
   ]
  },
  {
   "cell_type": "code",
   "execution_count": 252,
   "id": "621b5d5c",
   "metadata": {
    "execution": {
     "iopub.execute_input": "2023-11-08T18:00:01.093375Z",
     "iopub.status.busy": "2023-11-08T18:00:01.092967Z",
     "iopub.status.idle": "2023-11-08T18:00:01.101062Z",
     "shell.execute_reply": "2023-11-08T18:00:01.100094Z"
    },
    "papermill": {
     "duration": 0.106759,
     "end_time": "2023-11-08T18:00:01.103422",
     "exception": false,
     "start_time": "2023-11-08T18:00:00.996663",
     "status": "completed"
    },
    "tags": []
   },
   "outputs": [
    {
     "name": "stdout",
     "output_type": "stream",
     "text": [
      "45\n",
      "12\n"
     ]
    }
   ],
   "source": [
    "#                 * \n",
    "#             * * * \n",
    "#         * * * * * \n",
    "#     * * * * * * * \n",
    "# * * * * * * * * * \n",
    "\n",
    "from abc import ABC , abstractmethod\n",
    "\n",
    "class mlv(ABC):\n",
    "    @abstractmethod\n",
    "    def marks(self) :\n",
    "        pass\n",
    "#     @abstractmethod \n",
    "#     def classes(self) :\n",
    "#         pass\n",
    "    \n",
    "class Mentor(mlv) :\n",
    "    def __init__(self,teach):\n",
    "        self.teach = teach\n",
    "        \n",
    "    def marks(self) :\n",
    "        return 9 * self.teach\n",
    "    \n",
    "    \n",
    "class Instructor(mlv) :\n",
    "    def __init__(self,cltime, months) :\n",
    "        self.cltime = cltime\n",
    "        self.month = months\n",
    "        \n",
    "    def marks(self) :\n",
    "        return self.cltime * self.month\n",
    "c1 = Mentor(5)\n",
    "c2 = Instructor(4,3)\n",
    "shapes = [c1, c2]\n",
    "for c3 in shapes :\n",
    "    print(c3.marks())"
   ]
  },
  {
   "cell_type": "code",
   "execution_count": null,
   "id": "a1f00111",
   "metadata": {
    "papermill": {
     "duration": 0.100291,
     "end_time": "2023-11-08T18:00:01.397874",
     "exception": false,
     "start_time": "2023-11-08T18:00:01.297583",
     "status": "completed"
    },
    "tags": []
   },
   "outputs": [],
   "source": []
  },
  {
   "cell_type": "code",
   "execution_count": null,
   "id": "fc3c2768",
   "metadata": {
    "papermill": {
     "duration": 0.098297,
     "end_time": "2023-11-08T18:00:01.586864",
     "exception": false,
     "start_time": "2023-11-08T18:00:01.488567",
     "status": "completed"
    },
    "tags": []
   },
   "outputs": [],
   "source": []
  },
  {
   "cell_type": "code",
   "execution_count": null,
   "id": "ed9f2e6d",
   "metadata": {
    "papermill": {
     "duration": 0.098035,
     "end_time": "2023-11-08T18:00:01.783666",
     "exception": false,
     "start_time": "2023-11-08T18:00:01.685631",
     "status": "completed"
    },
    "tags": []
   },
   "outputs": [],
   "source": []
  },
  {
   "cell_type": "code",
   "execution_count": 253,
   "id": "25563951",
   "metadata": {
    "execution": {
     "iopub.execute_input": "2023-11-08T18:00:01.987470Z",
     "iopub.status.busy": "2023-11-08T18:00:01.987048Z",
     "iopub.status.idle": "2023-11-08T18:00:01.993197Z",
     "shell.execute_reply": "2023-11-08T18:00:01.991526Z"
    },
    "papermill": {
     "duration": 0.114588,
     "end_time": "2023-11-08T18:00:01.996849",
     "exception": false,
     "start_time": "2023-11-08T18:00:01.882261",
     "status": "completed"
    },
    "tags": []
   },
   "outputs": [],
   "source": [
    "a = \"english\"\n",
    "\n",
    "b = \"hsilgne\"\n",
    "\n",
    "\n",
    "c = \"malayalam\"\n",
    "d = \"malayalam\"\n",
    "\n",
    "# palindrome"
   ]
  },
  {
   "cell_type": "code",
   "execution_count": 254,
   "id": "e15587ae",
   "metadata": {
    "execution": {
     "iopub.execute_input": "2023-11-08T18:00:02.182688Z",
     "iopub.status.busy": "2023-11-08T18:00:02.180862Z",
     "iopub.status.idle": "2023-11-08T18:00:02.189430Z",
     "shell.execute_reply": "2023-11-08T18:00:02.187510Z"
    },
    "papermill": {
     "duration": 0.105779,
     "end_time": "2023-11-08T18:00:02.191792",
     "exception": false,
     "start_time": "2023-11-08T18:00:02.086013",
     "status": "completed"
    },
    "tags": []
   },
   "outputs": [
    {
     "data": {
      "text/plain": [
       "['c', 'b', 'a']"
      ]
     },
     "execution_count": 254,
     "metadata": {},
     "output_type": "execute_result"
    }
   ],
   "source": [
    "a = [\"a\",\"b\",\"c\"]\n",
    "b = a[::-1]\n",
    "b"
   ]
  },
  {
   "cell_type": "code",
   "execution_count": 255,
   "id": "f724d066",
   "metadata": {
    "execution": {
     "iopub.execute_input": "2023-11-08T18:00:02.371452Z",
     "iopub.status.busy": "2023-11-08T18:00:02.370471Z",
     "iopub.status.idle": "2023-11-08T18:00:02.379333Z",
     "shell.execute_reply": "2023-11-08T18:00:02.377696Z"
    },
    "papermill": {
     "duration": 0.099914,
     "end_time": "2023-11-08T18:00:02.382116",
     "exception": false,
     "start_time": "2023-11-08T18:00:02.282202",
     "status": "completed"
    },
    "tags": []
   },
   "outputs": [
    {
     "data": {
      "text/plain": [
       "'dasarp'"
      ]
     },
     "execution_count": 255,
     "metadata": {},
     "output_type": "execute_result"
    }
   ],
   "source": [
    "c = \"prasad\"\n",
    "c[::-1]"
   ]
  },
  {
   "cell_type": "code",
   "execution_count": 256,
   "id": "e31cac97",
   "metadata": {
    "execution": {
     "iopub.execute_input": "2023-11-08T18:00:02.565667Z",
     "iopub.status.busy": "2023-11-08T18:00:02.564584Z",
     "iopub.status.idle": "2023-11-08T18:00:02.569175Z",
     "shell.execute_reply": "2023-11-08T18:00:02.568372Z"
    },
    "papermill": {
     "duration": 0.102542,
     "end_time": "2023-11-08T18:00:02.572282",
     "exception": false,
     "start_time": "2023-11-08T18:00:02.469740",
     "status": "completed"
    },
    "tags": []
   },
   "outputs": [],
   "source": [
    "\n",
    "\n",
    "# a  = input()\n",
    "# b = a[::-1]\n",
    "\n",
    "\n",
    "# if a == b :\n",
    "#     print(\"palindrome\")\n",
    "# else :\n",
    "#     print(\"not a palindrome\")"
   ]
  },
  {
   "cell_type": "code",
   "execution_count": 257,
   "id": "802f5300",
   "metadata": {
    "execution": {
     "iopub.execute_input": "2023-11-08T18:00:02.758048Z",
     "iopub.status.busy": "2023-11-08T18:00:02.757348Z",
     "iopub.status.idle": "2023-11-08T18:00:02.765233Z",
     "shell.execute_reply": "2023-11-08T18:00:02.763504Z"
    },
    "papermill": {
     "duration": 0.102322,
     "end_time": "2023-11-08T18:00:02.768402",
     "exception": false,
     "start_time": "2023-11-08T18:00:02.666080",
     "status": "completed"
    },
    "tags": []
   },
   "outputs": [
    {
     "data": {
      "text/plain": [
       "'mentor a is prasad mlv'"
      ]
     },
     "execution_count": 257,
     "metadata": {},
     "output_type": "execute_result"
    }
   ],
   "source": [
    "a = \"mlv prasad is a mentor\"\n",
    "\n",
    "# b = \"mentor a is prasad mlv\"\n",
    "b = a.split()\n",
    "c = b[::-1]\n",
    "c\n",
    "\n",
    "d =  \" \".join(c)\n",
    "d"
   ]
  },
  {
   "cell_type": "code",
   "execution_count": 258,
   "id": "8024d05e",
   "metadata": {
    "execution": {
     "iopub.execute_input": "2023-11-08T18:00:02.953793Z",
     "iopub.status.busy": "2023-11-08T18:00:02.953339Z",
     "iopub.status.idle": "2023-11-08T18:00:02.962040Z",
     "shell.execute_reply": "2023-11-08T18:00:02.960451Z"
    },
    "papermill": {
     "duration": 0.106974,
     "end_time": "2023-11-08T18:00:02.964998",
     "exception": false,
     "start_time": "2023-11-08T18:00:02.858024",
     "status": "completed"
    },
    "tags": []
   },
   "outputs": [
    {
     "data": {
      "text/plain": [
       "['mlv', 'prasad', 'is', 'a', 'mentor']"
      ]
     },
     "execution_count": 258,
     "metadata": {},
     "output_type": "execute_result"
    }
   ],
   "source": [
    "a = \"mlv prasad is a mentor\"\n",
    "\n",
    "# b = \"mentor a is prasad mlv\"\n",
    "b = a.split()\n",
    "b "
   ]
  },
  {
   "cell_type": "code",
   "execution_count": 259,
   "id": "b52049b7",
   "metadata": {
    "execution": {
     "iopub.execute_input": "2023-11-08T18:00:03.149524Z",
     "iopub.status.busy": "2023-11-08T18:00:03.149026Z",
     "iopub.status.idle": "2023-11-08T18:00:03.155284Z",
     "shell.execute_reply": "2023-11-08T18:00:03.153698Z"
    },
    "papermill": {
     "duration": 0.096693,
     "end_time": "2023-11-08T18:00:03.158034",
     "exception": false,
     "start_time": "2023-11-08T18:00:03.061341",
     "status": "completed"
    },
    "tags": []
   },
   "outputs": [
    {
     "name": "stdout",
     "output_type": "stream",
     "text": [
      "the student name is  swapna and she is a  good student\n"
     ]
    }
   ],
   "source": [
    "a = \"swapna\"\n",
    "print(\"the student name is \", a,\"and she is a  good student\")"
   ]
  },
  {
   "cell_type": "code",
   "execution_count": 260,
   "id": "5d57da66",
   "metadata": {
    "execution": {
     "iopub.execute_input": "2023-11-08T18:00:03.346141Z",
     "iopub.status.busy": "2023-11-08T18:00:03.345748Z",
     "iopub.status.idle": "2023-11-08T18:00:03.351475Z",
     "shell.execute_reply": "2023-11-08T18:00:03.349571Z"
    },
    "papermill": {
     "duration": 0.108653,
     "end_time": "2023-11-08T18:00:03.356081",
     "exception": false,
     "start_time": "2023-11-08T18:00:03.247428",
     "status": "completed"
    },
    "tags": []
   },
   "outputs": [
    {
     "name": "stdout",
     "output_type": "stream",
     "text": [
      "the student name is  swapna  and she is a  good student\n"
     ]
    }
   ],
   "source": [
    "print(f\"the student name is  {a}  and she is a  good student\")"
   ]
  },
  {
   "cell_type": "code",
   "execution_count": 261,
   "id": "c11c1520",
   "metadata": {
    "execution": {
     "iopub.execute_input": "2023-11-08T18:00:03.541366Z",
     "iopub.status.busy": "2023-11-08T18:00:03.540965Z",
     "iopub.status.idle": "2023-11-08T18:00:03.548264Z",
     "shell.execute_reply": "2023-11-08T18:00:03.546566Z"
    },
    "papermill": {
     "duration": 0.101823,
     "end_time": "2023-11-08T18:00:03.550579",
     "exception": false,
     "start_time": "2023-11-08T18:00:03.448756",
     "status": "completed"
    },
    "tags": []
   },
   "outputs": [
    {
     "name": "stdout",
     "output_type": "stream",
     "text": [
      "the student name is  swapna  and she is a  good student\n"
     ]
    }
   ],
   "source": [
    "txt = \"the student name is  {}  and she is a  good student\"\n",
    "print(txt.format(a))"
   ]
  },
  {
   "cell_type": "code",
   "execution_count": 262,
   "id": "c6e80601",
   "metadata": {
    "execution": {
     "iopub.execute_input": "2023-11-08T18:00:03.736601Z",
     "iopub.status.busy": "2023-11-08T18:00:03.736187Z",
     "iopub.status.idle": "2023-11-08T18:00:03.741566Z",
     "shell.execute_reply": "2023-11-08T18:00:03.740338Z"
    },
    "papermill": {
     "duration": 0.099066,
     "end_time": "2023-11-08T18:00:03.744103",
     "exception": false,
     "start_time": "2023-11-08T18:00:03.645037",
     "status": "completed"
    },
    "tags": []
   },
   "outputs": [],
   "source": [
    "# 9. Write a Python program to display the examination schedule. (extract the date from exam_st_date).\n",
    "# exam_st_date = (11, 12, 2014)\n",
    "# Sample Output : The examination will start from : 11 / 12 / 2014\n",
    "\n",
    "\n",
    "# 10. Write a Python program that accepts an integer (n) and computes the value of n+nn+nnn.\n",
    "# Sample value of n is 5\n",
    "# Expected Result : 615\n",
    "\n",
    "# 11. Write a Python program to print the documents (syntax, description etc.) of Python built-in function(s).\n",
    "# Sample function : abs()\n",
    "# Expected Result :\n",
    "# abs(number) -> number\n",
    "# Return the absolute value of the argument."
   ]
  },
  {
   "cell_type": "code",
   "execution_count": 263,
   "id": "e813ad43",
   "metadata": {
    "execution": {
     "iopub.execute_input": "2023-11-08T18:00:03.925766Z",
     "iopub.status.busy": "2023-11-08T18:00:03.925309Z",
     "iopub.status.idle": "2023-11-08T18:00:03.932153Z",
     "shell.execute_reply": "2023-11-08T18:00:03.930777Z"
    },
    "papermill": {
     "duration": 0.102639,
     "end_time": "2023-11-08T18:00:03.935355",
     "exception": false,
     "start_time": "2023-11-08T18:00:03.832716",
     "status": "completed"
    },
    "tags": []
   },
   "outputs": [
    {
     "name": "stdout",
     "output_type": "stream",
     "text": [
      "Sample Output : The examination will start from : 15 / 3 / 2022\n"
     ]
    }
   ],
   "source": [
    "exam_st_date = (15, 3, 2022)\n",
    "a, b ,c = exam_st_date \n",
    "print(f\"Sample Output : The examination will start from : {a} / {b} / {c}\")"
   ]
  },
  {
   "cell_type": "code",
   "execution_count": 264,
   "id": "fa2d18c9",
   "metadata": {
    "execution": {
     "iopub.execute_input": "2023-11-08T18:00:04.205668Z",
     "iopub.status.busy": "2023-11-08T18:00:04.205240Z",
     "iopub.status.idle": "2023-11-08T18:00:04.215228Z",
     "shell.execute_reply": "2023-11-08T18:00:04.214045Z"
    },
    "papermill": {
     "duration": 0.102934,
     "end_time": "2023-11-08T18:00:04.218705",
     "exception": false,
     "start_time": "2023-11-08T18:00:04.115771",
     "status": "completed"
    },
    "tags": []
   },
   "outputs": [
    {
     "name": "stdout",
     "output_type": "stream",
     "text": [
      "7\n",
      "77\n",
      "777\n"
     ]
    },
    {
     "data": {
      "text/plain": [
       "861"
      ]
     },
     "execution_count": 264,
     "metadata": {},
     "output_type": "execute_result"
    }
   ],
   "source": [
    "# 10. Write a Python program that accepts an integer (n) and computes the value of n+nn+nnn.\n",
    "# Sample value of n is 5\n",
    "# Expected Result : 615\n",
    "\n",
    "\n",
    "# 7 \n",
    "\n",
    "# 7 + 77 + 777\n",
    "\n",
    "n = 7 \n",
    "sum = 0\n",
    "for i in range(3):\n",
    "    a  = str(7)*(i+1)\n",
    "    print(a)\n",
    "    sum = sum + int(a)\n",
    "    \n",
    "sum    "
   ]
  },
  {
   "cell_type": "code",
   "execution_count": 265,
   "id": "e0d5096e",
   "metadata": {
    "execution": {
     "iopub.execute_input": "2023-11-08T18:00:04.400973Z",
     "iopub.status.busy": "2023-11-08T18:00:04.399933Z",
     "iopub.status.idle": "2023-11-08T18:00:04.405194Z",
     "shell.execute_reply": "2023-11-08T18:00:04.404194Z"
    },
    "papermill": {
     "duration": 0.099089,
     "end_time": "2023-11-08T18:00:04.407765",
     "exception": false,
     "start_time": "2023-11-08T18:00:04.308676",
     "status": "completed"
    },
    "tags": []
   },
   "outputs": [],
   "source": [
    "# 7 + 77 + 777"
   ]
  },
  {
   "cell_type": "code",
   "execution_count": 266,
   "id": "cb9bec2a",
   "metadata": {
    "execution": {
     "iopub.execute_input": "2023-11-08T18:00:04.598086Z",
     "iopub.status.busy": "2023-11-08T18:00:04.597395Z",
     "iopub.status.idle": "2023-11-08T18:00:04.606234Z",
     "shell.execute_reply": "2023-11-08T18:00:04.603542Z"
    },
    "papermill": {
     "duration": 0.10757,
     "end_time": "2023-11-08T18:00:04.609264",
     "exception": false,
     "start_time": "2023-11-08T18:00:04.501694",
     "status": "completed"
    },
    "tags": []
   },
   "outputs": [
    {
     "name": "stdout",
     "output_type": "stream",
     "text": [
      "Help on built-in function abs in module builtins:\n",
      "\n",
      "abs(x, /)\n",
      "    Return the absolute value of the argument.\n",
      "\n"
     ]
    }
   ],
   "source": [
    "help(abs)"
   ]
  },
  {
   "cell_type": "code",
   "execution_count": 267,
   "id": "3f4d1add",
   "metadata": {
    "execution": {
     "iopub.execute_input": "2023-11-08T18:00:04.799484Z",
     "iopub.status.busy": "2023-11-08T18:00:04.797975Z",
     "iopub.status.idle": "2023-11-08T18:00:04.823067Z",
     "shell.execute_reply": "2023-11-08T18:00:04.821313Z"
    },
    "papermill": {
     "duration": 0.124239,
     "end_time": "2023-11-08T18:00:04.829185",
     "exception": false,
     "start_time": "2023-11-08T18:00:04.704946",
     "status": "completed"
    },
    "tags": []
   },
   "outputs": [
    {
     "name": "stdout",
     "output_type": "stream",
     "text": [
      "Help on class str in module builtins:\n",
      "\n",
      "class str(object)\n",
      " |  str(object='') -> str\n",
      " |  str(bytes_or_buffer[, encoding[, errors]]) -> str\n",
      " |  \n",
      " |  Create a new string object from the given object. If encoding or\n",
      " |  errors is specified, then the object must expose a data buffer\n",
      " |  that will be decoded using the given encoding and error handler.\n",
      " |  Otherwise, returns the result of object.__str__() (if defined)\n",
      " |  or repr(object).\n",
      " |  encoding defaults to sys.getdefaultencoding().\n",
      " |  errors defaults to 'strict'.\n",
      " |  \n",
      " |  Methods defined here:\n",
      " |  \n",
      " |  __add__(self, value, /)\n",
      " |      Return self+value.\n",
      " |  \n",
      " |  __contains__(self, key, /)\n",
      " |      Return key in self.\n",
      " |  \n",
      " |  __eq__(self, value, /)\n",
      " |      Return self==value.\n",
      " |  \n",
      " |  __format__(self, format_spec, /)\n",
      " |      Return a formatted version of the string as described by format_spec.\n",
      " |  \n",
      " |  __ge__(self, value, /)\n",
      " |      Return self>=value.\n",
      " |  \n",
      " |  __getattribute__(self, name, /)\n",
      " |      Return getattr(self, name).\n",
      " |  \n",
      " |  __getitem__(self, key, /)\n",
      " |      Return self[key].\n",
      " |  \n",
      " |  __getnewargs__(...)\n",
      " |  \n",
      " |  __gt__(self, value, /)\n",
      " |      Return self>value.\n",
      " |  \n",
      " |  __hash__(self, /)\n",
      " |      Return hash(self).\n",
      " |  \n",
      " |  __iter__(self, /)\n",
      " |      Implement iter(self).\n",
      " |  \n",
      " |  __le__(self, value, /)\n",
      " |      Return self<=value.\n",
      " |  \n",
      " |  __len__(self, /)\n",
      " |      Return len(self).\n",
      " |  \n",
      " |  __lt__(self, value, /)\n",
      " |      Return self<value.\n",
      " |  \n",
      " |  __mod__(self, value, /)\n",
      " |      Return self%value.\n",
      " |  \n",
      " |  __mul__(self, value, /)\n",
      " |      Return self*value.\n",
      " |  \n",
      " |  __ne__(self, value, /)\n",
      " |      Return self!=value.\n",
      " |  \n",
      " |  __repr__(self, /)\n",
      " |      Return repr(self).\n",
      " |  \n",
      " |  __rmod__(self, value, /)\n",
      " |      Return value%self.\n",
      " |  \n",
      " |  __rmul__(self, value, /)\n",
      " |      Return value*self.\n",
      " |  \n",
      " |  __sizeof__(self, /)\n",
      " |      Return the size of the string in memory, in bytes.\n",
      " |  \n",
      " |  __str__(self, /)\n",
      " |      Return str(self).\n",
      " |  \n",
      " |  capitalize(self, /)\n",
      " |      Return a capitalized version of the string.\n",
      " |      \n",
      " |      More specifically, make the first character have upper case and the rest lower\n",
      " |      case.\n",
      " |  \n",
      " |  casefold(self, /)\n",
      " |      Return a version of the string suitable for caseless comparisons.\n",
      " |  \n",
      " |  center(self, width, fillchar=' ', /)\n",
      " |      Return a centered string of length width.\n",
      " |      \n",
      " |      Padding is done using the specified fill character (default is a space).\n",
      " |  \n",
      " |  count(...)\n",
      " |      S.count(sub[, start[, end]]) -> int\n",
      " |      \n",
      " |      Return the number of non-overlapping occurrences of substring sub in\n",
      " |      string S[start:end].  Optional arguments start and end are\n",
      " |      interpreted as in slice notation.\n",
      " |  \n",
      " |  encode(self, /, encoding='utf-8', errors='strict')\n",
      " |      Encode the string using the codec registered for encoding.\n",
      " |      \n",
      " |      encoding\n",
      " |        The encoding in which to encode the string.\n",
      " |      errors\n",
      " |        The error handling scheme to use for encoding errors.\n",
      " |        The default is 'strict' meaning that encoding errors raise a\n",
      " |        UnicodeEncodeError.  Other possible values are 'ignore', 'replace' and\n",
      " |        'xmlcharrefreplace' as well as any other name registered with\n",
      " |        codecs.register_error that can handle UnicodeEncodeErrors.\n",
      " |  \n",
      " |  endswith(...)\n",
      " |      S.endswith(suffix[, start[, end]]) -> bool\n",
      " |      \n",
      " |      Return True if S ends with the specified suffix, False otherwise.\n",
      " |      With optional start, test S beginning at that position.\n",
      " |      With optional end, stop comparing S at that position.\n",
      " |      suffix can also be a tuple of strings to try.\n",
      " |  \n",
      " |  expandtabs(self, /, tabsize=8)\n",
      " |      Return a copy where all tab characters are expanded using spaces.\n",
      " |      \n",
      " |      If tabsize is not given, a tab size of 8 characters is assumed.\n",
      " |  \n",
      " |  find(...)\n",
      " |      S.find(sub[, start[, end]]) -> int\n",
      " |      \n",
      " |      Return the lowest index in S where substring sub is found,\n",
      " |      such that sub is contained within S[start:end].  Optional\n",
      " |      arguments start and end are interpreted as in slice notation.\n",
      " |      \n",
      " |      Return -1 on failure.\n",
      " |  \n",
      " |  format(...)\n",
      " |      S.format(*args, **kwargs) -> str\n",
      " |      \n",
      " |      Return a formatted version of S, using substitutions from args and kwargs.\n",
      " |      The substitutions are identified by braces ('{' and '}').\n",
      " |  \n",
      " |  format_map(...)\n",
      " |      S.format_map(mapping) -> str\n",
      " |      \n",
      " |      Return a formatted version of S, using substitutions from mapping.\n",
      " |      The substitutions are identified by braces ('{' and '}').\n",
      " |  \n",
      " |  index(...)\n",
      " |      S.index(sub[, start[, end]]) -> int\n",
      " |      \n",
      " |      Return the lowest index in S where substring sub is found,\n",
      " |      such that sub is contained within S[start:end].  Optional\n",
      " |      arguments start and end are interpreted as in slice notation.\n",
      " |      \n",
      " |      Raises ValueError when the substring is not found.\n",
      " |  \n",
      " |  isalnum(self, /)\n",
      " |      Return True if the string is an alpha-numeric string, False otherwise.\n",
      " |      \n",
      " |      A string is alpha-numeric if all characters in the string are alpha-numeric and\n",
      " |      there is at least one character in the string.\n",
      " |  \n",
      " |  isalpha(self, /)\n",
      " |      Return True if the string is an alphabetic string, False otherwise.\n",
      " |      \n",
      " |      A string is alphabetic if all characters in the string are alphabetic and there\n",
      " |      is at least one character in the string.\n",
      " |  \n",
      " |  isascii(self, /)\n",
      " |      Return True if all characters in the string are ASCII, False otherwise.\n",
      " |      \n",
      " |      ASCII characters have code points in the range U+0000-U+007F.\n",
      " |      Empty string is ASCII too.\n",
      " |  \n",
      " |  isdecimal(self, /)\n",
      " |      Return True if the string is a decimal string, False otherwise.\n",
      " |      \n",
      " |      A string is a decimal string if all characters in the string are decimal and\n",
      " |      there is at least one character in the string.\n",
      " |  \n",
      " |  isdigit(self, /)\n",
      " |      Return True if the string is a digit string, False otherwise.\n",
      " |      \n",
      " |      A string is a digit string if all characters in the string are digits and there\n",
      " |      is at least one character in the string.\n",
      " |  \n",
      " |  isidentifier(self, /)\n",
      " |      Return True if the string is a valid Python identifier, False otherwise.\n",
      " |      \n",
      " |      Call keyword.iskeyword(s) to test whether string s is a reserved identifier,\n",
      " |      such as \"def\" or \"class\".\n",
      " |  \n",
      " |  islower(self, /)\n",
      " |      Return True if the string is a lowercase string, False otherwise.\n",
      " |      \n",
      " |      A string is lowercase if all cased characters in the string are lowercase and\n",
      " |      there is at least one cased character in the string.\n",
      " |  \n",
      " |  isnumeric(self, /)\n",
      " |      Return True if the string is a numeric string, False otherwise.\n",
      " |      \n",
      " |      A string is numeric if all characters in the string are numeric and there is at\n",
      " |      least one character in the string.\n",
      " |  \n",
      " |  isprintable(self, /)\n",
      " |      Return True if the string is printable, False otherwise.\n",
      " |      \n",
      " |      A string is printable if all of its characters are considered printable in\n",
      " |      repr() or if it is empty.\n",
      " |  \n",
      " |  isspace(self, /)\n",
      " |      Return True if the string is a whitespace string, False otherwise.\n",
      " |      \n",
      " |      A string is whitespace if all characters in the string are whitespace and there\n",
      " |      is at least one character in the string.\n",
      " |  \n",
      " |  istitle(self, /)\n",
      " |      Return True if the string is a title-cased string, False otherwise.\n",
      " |      \n",
      " |      In a title-cased string, upper- and title-case characters may only\n",
      " |      follow uncased characters and lowercase characters only cased ones.\n",
      " |  \n",
      " |  isupper(self, /)\n",
      " |      Return True if the string is an uppercase string, False otherwise.\n",
      " |      \n",
      " |      A string is uppercase if all cased characters in the string are uppercase and\n",
      " |      there is at least one cased character in the string.\n",
      " |  \n",
      " |  join(self, iterable, /)\n",
      " |      Concatenate any number of strings.\n",
      " |      \n",
      " |      The string whose method is called is inserted in between each given string.\n",
      " |      The result is returned as a new string.\n",
      " |      \n",
      " |      Example: '.'.join(['ab', 'pq', 'rs']) -> 'ab.pq.rs'\n",
      " |  \n",
      " |  ljust(self, width, fillchar=' ', /)\n",
      " |      Return a left-justified string of length width.\n",
      " |      \n",
      " |      Padding is done using the specified fill character (default is a space).\n",
      " |  \n",
      " |  lower(self, /)\n",
      " |      Return a copy of the string converted to lowercase.\n",
      " |  \n",
      " |  lstrip(self, chars=None, /)\n",
      " |      Return a copy of the string with leading whitespace removed.\n",
      " |      \n",
      " |      If chars is given and not None, remove characters in chars instead.\n",
      " |  \n",
      " |  partition(self, sep, /)\n",
      " |      Partition the string into three parts using the given separator.\n",
      " |      \n",
      " |      This will search for the separator in the string.  If the separator is found,\n",
      " |      returns a 3-tuple containing the part before the separator, the separator\n",
      " |      itself, and the part after it.\n",
      " |      \n",
      " |      If the separator is not found, returns a 3-tuple containing the original string\n",
      " |      and two empty strings.\n",
      " |  \n",
      " |  removeprefix(self, prefix, /)\n",
      " |      Return a str with the given prefix string removed if present.\n",
      " |      \n",
      " |      If the string starts with the prefix string, return string[len(prefix):].\n",
      " |      Otherwise, return a copy of the original string.\n",
      " |  \n",
      " |  removesuffix(self, suffix, /)\n",
      " |      Return a str with the given suffix string removed if present.\n",
      " |      \n",
      " |      If the string ends with the suffix string and that suffix is not empty,\n",
      " |      return string[:-len(suffix)]. Otherwise, return a copy of the original\n",
      " |      string.\n",
      " |  \n",
      " |  replace(self, old, new, count=-1, /)\n",
      " |      Return a copy with all occurrences of substring old replaced by new.\n",
      " |      \n",
      " |        count\n",
      " |          Maximum number of occurrences to replace.\n",
      " |          -1 (the default value) means replace all occurrences.\n",
      " |      \n",
      " |      If the optional argument count is given, only the first count occurrences are\n",
      " |      replaced.\n",
      " |  \n",
      " |  rfind(...)\n",
      " |      S.rfind(sub[, start[, end]]) -> int\n",
      " |      \n",
      " |      Return the highest index in S where substring sub is found,\n",
      " |      such that sub is contained within S[start:end].  Optional\n",
      " |      arguments start and end are interpreted as in slice notation.\n",
      " |      \n",
      " |      Return -1 on failure.\n",
      " |  \n",
      " |  rindex(...)\n",
      " |      S.rindex(sub[, start[, end]]) -> int\n",
      " |      \n",
      " |      Return the highest index in S where substring sub is found,\n",
      " |      such that sub is contained within S[start:end].  Optional\n",
      " |      arguments start and end are interpreted as in slice notation.\n",
      " |      \n",
      " |      Raises ValueError when the substring is not found.\n",
      " |  \n",
      " |  rjust(self, width, fillchar=' ', /)\n",
      " |      Return a right-justified string of length width.\n",
      " |      \n",
      " |      Padding is done using the specified fill character (default is a space).\n",
      " |  \n",
      " |  rpartition(self, sep, /)\n",
      " |      Partition the string into three parts using the given separator.\n",
      " |      \n",
      " |      This will search for the separator in the string, starting at the end. If\n",
      " |      the separator is found, returns a 3-tuple containing the part before the\n",
      " |      separator, the separator itself, and the part after it.\n",
      " |      \n",
      " |      If the separator is not found, returns a 3-tuple containing two empty strings\n",
      " |      and the original string.\n",
      " |  \n",
      " |  rsplit(self, /, sep=None, maxsplit=-1)\n",
      " |      Return a list of the substrings in the string, using sep as the separator string.\n",
      " |      \n",
      " |        sep\n",
      " |          The separator used to split the string.\n",
      " |      \n",
      " |          When set to None (the default value), will split on any whitespace\n",
      " |          character (including \\\\n \\\\r \\\\t \\\\f and spaces) and will discard\n",
      " |          empty strings from the result.\n",
      " |        maxsplit\n",
      " |          Maximum number of splits (starting from the left).\n",
      " |          -1 (the default value) means no limit.\n",
      " |      \n",
      " |      Splitting starts at the end of the string and works to the front.\n",
      " |  \n",
      " |  rstrip(self, chars=None, /)\n",
      " |      Return a copy of the string with trailing whitespace removed.\n",
      " |      \n",
      " |      If chars is given and not None, remove characters in chars instead.\n",
      " |  \n",
      " |  split(self, /, sep=None, maxsplit=-1)\n",
      " |      Return a list of the substrings in the string, using sep as the separator string.\n",
      " |      \n",
      " |        sep\n",
      " |          The separator used to split the string.\n",
      " |      \n",
      " |          When set to None (the default value), will split on any whitespace\n",
      " |          character (including \\\\n \\\\r \\\\t \\\\f and spaces) and will discard\n",
      " |          empty strings from the result.\n",
      " |        maxsplit\n",
      " |          Maximum number of splits (starting from the left).\n",
      " |          -1 (the default value) means no limit.\n",
      " |      \n",
      " |      Note, str.split() is mainly useful for data that has been intentionally\n",
      " |      delimited.  With natural text that includes punctuation, consider using\n",
      " |      the regular expression module.\n",
      " |  \n",
      " |  splitlines(self, /, keepends=False)\n",
      " |      Return a list of the lines in the string, breaking at line boundaries.\n",
      " |      \n",
      " |      Line breaks are not included in the resulting list unless keepends is given and\n",
      " |      true.\n",
      " |  \n",
      " |  startswith(...)\n",
      " |      S.startswith(prefix[, start[, end]]) -> bool\n",
      " |      \n",
      " |      Return True if S starts with the specified prefix, False otherwise.\n",
      " |      With optional start, test S beginning at that position.\n",
      " |      With optional end, stop comparing S at that position.\n",
      " |      prefix can also be a tuple of strings to try.\n",
      " |  \n",
      " |  strip(self, chars=None, /)\n",
      " |      Return a copy of the string with leading and trailing whitespace removed.\n",
      " |      \n",
      " |      If chars is given and not None, remove characters in chars instead.\n",
      " |  \n",
      " |  swapcase(self, /)\n",
      " |      Convert uppercase characters to lowercase and lowercase characters to uppercase.\n",
      " |  \n",
      " |  title(self, /)\n",
      " |      Return a version of the string where each word is titlecased.\n",
      " |      \n",
      " |      More specifically, words start with uppercased characters and all remaining\n",
      " |      cased characters have lower case.\n",
      " |  \n",
      " |  translate(self, table, /)\n",
      " |      Replace each character in the string using the given translation table.\n",
      " |      \n",
      " |        table\n",
      " |          Translation table, which must be a mapping of Unicode ordinals to\n",
      " |          Unicode ordinals, strings, or None.\n",
      " |      \n",
      " |      The table must implement lookup/indexing via __getitem__, for instance a\n",
      " |      dictionary or list.  If this operation raises LookupError, the character is\n",
      " |      left untouched.  Characters mapped to None are deleted.\n",
      " |  \n",
      " |  upper(self, /)\n",
      " |      Return a copy of the string converted to uppercase.\n",
      " |  \n",
      " |  zfill(self, width, /)\n",
      " |      Pad a numeric string with zeros on the left, to fill a field of the given width.\n",
      " |      \n",
      " |      The string is never truncated.\n",
      " |  \n",
      " |  ----------------------------------------------------------------------\n",
      " |  Static methods defined here:\n",
      " |  \n",
      " |  __new__(*args, **kwargs) from builtins.type\n",
      " |      Create and return a new object.  See help(type) for accurate signature.\n",
      " |  \n",
      " |  maketrans(...)\n",
      " |      Return a translation table usable for str.translate().\n",
      " |      \n",
      " |      If there is only one argument, it must be a dictionary mapping Unicode\n",
      " |      ordinals (integers) or characters to Unicode ordinals, strings or None.\n",
      " |      Character keys will be then converted to ordinals.\n",
      " |      If there are two arguments, they must be strings of equal length, and\n",
      " |      in the resulting dictionary, each character in x will be mapped to the\n",
      " |      character at the same position in y. If there is a third argument, it\n",
      " |      must be a string, whose characters will be mapped to None in the result.\n",
      "\n"
     ]
    }
   ],
   "source": [
    "help(str)"
   ]
  },
  {
   "cell_type": "code",
   "execution_count": 268,
   "id": "44c97391",
   "metadata": {
    "execution": {
     "iopub.execute_input": "2023-11-08T18:00:05.006888Z",
     "iopub.status.busy": "2023-11-08T18:00:05.006497Z",
     "iopub.status.idle": "2023-11-08T18:00:05.030793Z",
     "shell.execute_reply": "2023-11-08T18:00:05.028829Z"
    },
    "papermill": {
     "duration": 0.115551,
     "end_time": "2023-11-08T18:00:05.033992",
     "exception": false,
     "start_time": "2023-11-08T18:00:04.918441",
     "status": "completed"
    },
    "tags": []
   },
   "outputs": [
    {
     "name": "stdout",
     "output_type": "stream",
     "text": [
      "Help on class int in module builtins:\n",
      "\n",
      "class int(object)\n",
      " |  int([x]) -> integer\n",
      " |  int(x, base=10) -> integer\n",
      " |  \n",
      " |  Convert a number or string to an integer, or return 0 if no arguments\n",
      " |  are given.  If x is a number, return x.__int__().  For floating point\n",
      " |  numbers, this truncates towards zero.\n",
      " |  \n",
      " |  If x is not a number or if base is given, then x must be a string,\n",
      " |  bytes, or bytearray instance representing an integer literal in the\n",
      " |  given base.  The literal can be preceded by '+' or '-' and be surrounded\n",
      " |  by whitespace.  The base defaults to 10.  Valid bases are 0 and 2-36.\n",
      " |  Base 0 means to interpret the base from the string as an integer literal.\n",
      " |  >>> int('0b100', base=0)\n",
      " |  4\n",
      " |  \n",
      " |  Built-in subclasses:\n",
      " |      bool\n",
      " |  \n",
      " |  Methods defined here:\n",
      " |  \n",
      " |  __abs__(self, /)\n",
      " |      abs(self)\n",
      " |  \n",
      " |  __add__(self, value, /)\n",
      " |      Return self+value.\n",
      " |  \n",
      " |  __and__(self, value, /)\n",
      " |      Return self&value.\n",
      " |  \n",
      " |  __bool__(self, /)\n",
      " |      True if self else False\n",
      " |  \n",
      " |  __ceil__(...)\n",
      " |      Ceiling of an Integral returns itself.\n",
      " |  \n",
      " |  __divmod__(self, value, /)\n",
      " |      Return divmod(self, value).\n",
      " |  \n",
      " |  __eq__(self, value, /)\n",
      " |      Return self==value.\n",
      " |  \n",
      " |  __float__(self, /)\n",
      " |      float(self)\n",
      " |  \n",
      " |  __floor__(...)\n",
      " |      Flooring an Integral returns itself.\n",
      " |  \n",
      " |  __floordiv__(self, value, /)\n",
      " |      Return self//value.\n",
      " |  \n",
      " |  __format__(self, format_spec, /)\n",
      " |      Default object formatter.\n",
      " |  \n",
      " |  __ge__(self, value, /)\n",
      " |      Return self>=value.\n",
      " |  \n",
      " |  __getattribute__(self, name, /)\n",
      " |      Return getattr(self, name).\n",
      " |  \n",
      " |  __getnewargs__(self, /)\n",
      " |  \n",
      " |  __gt__(self, value, /)\n",
      " |      Return self>value.\n",
      " |  \n",
      " |  __hash__(self, /)\n",
      " |      Return hash(self).\n",
      " |  \n",
      " |  __index__(self, /)\n",
      " |      Return self converted to an integer, if self is suitable for use as an index into a list.\n",
      " |  \n",
      " |  __int__(self, /)\n",
      " |      int(self)\n",
      " |  \n",
      " |  __invert__(self, /)\n",
      " |      ~self\n",
      " |  \n",
      " |  __le__(self, value, /)\n",
      " |      Return self<=value.\n",
      " |  \n",
      " |  __lshift__(self, value, /)\n",
      " |      Return self<<value.\n",
      " |  \n",
      " |  __lt__(self, value, /)\n",
      " |      Return self<value.\n",
      " |  \n",
      " |  __mod__(self, value, /)\n",
      " |      Return self%value.\n",
      " |  \n",
      " |  __mul__(self, value, /)\n",
      " |      Return self*value.\n",
      " |  \n",
      " |  __ne__(self, value, /)\n",
      " |      Return self!=value.\n",
      " |  \n",
      " |  __neg__(self, /)\n",
      " |      -self\n",
      " |  \n",
      " |  __or__(self, value, /)\n",
      " |      Return self|value.\n",
      " |  \n",
      " |  __pos__(self, /)\n",
      " |      +self\n",
      " |  \n",
      " |  __pow__(self, value, mod=None, /)\n",
      " |      Return pow(self, value, mod).\n",
      " |  \n",
      " |  __radd__(self, value, /)\n",
      " |      Return value+self.\n",
      " |  \n",
      " |  __rand__(self, value, /)\n",
      " |      Return value&self.\n",
      " |  \n",
      " |  __rdivmod__(self, value, /)\n",
      " |      Return divmod(value, self).\n",
      " |  \n",
      " |  __repr__(self, /)\n",
      " |      Return repr(self).\n",
      " |  \n",
      " |  __rfloordiv__(self, value, /)\n",
      " |      Return value//self.\n",
      " |  \n",
      " |  __rlshift__(self, value, /)\n",
      " |      Return value<<self.\n",
      " |  \n",
      " |  __rmod__(self, value, /)\n",
      " |      Return value%self.\n",
      " |  \n",
      " |  __rmul__(self, value, /)\n",
      " |      Return value*self.\n",
      " |  \n",
      " |  __ror__(self, value, /)\n",
      " |      Return value|self.\n",
      " |  \n",
      " |  __round__(...)\n",
      " |      Rounding an Integral returns itself.\n",
      " |      \n",
      " |      Rounding with an ndigits argument also returns an integer.\n",
      " |  \n",
      " |  __rpow__(self, value, mod=None, /)\n",
      " |      Return pow(value, self, mod).\n",
      " |  \n",
      " |  __rrshift__(self, value, /)\n",
      " |      Return value>>self.\n",
      " |  \n",
      " |  __rshift__(self, value, /)\n",
      " |      Return self>>value.\n",
      " |  \n",
      " |  __rsub__(self, value, /)\n",
      " |      Return value-self.\n",
      " |  \n",
      " |  __rtruediv__(self, value, /)\n",
      " |      Return value/self.\n",
      " |  \n",
      " |  __rxor__(self, value, /)\n",
      " |      Return value^self.\n",
      " |  \n",
      " |  __sizeof__(self, /)\n",
      " |      Returns size in memory, in bytes.\n",
      " |  \n",
      " |  __sub__(self, value, /)\n",
      " |      Return self-value.\n",
      " |  \n",
      " |  __truediv__(self, value, /)\n",
      " |      Return self/value.\n",
      " |  \n",
      " |  __trunc__(...)\n",
      " |      Truncating an Integral returns itself.\n",
      " |  \n",
      " |  __xor__(self, value, /)\n",
      " |      Return self^value.\n",
      " |  \n",
      " |  as_integer_ratio(self, /)\n",
      " |      Return integer ratio.\n",
      " |      \n",
      " |      Return a pair of integers, whose ratio is exactly equal to the original int\n",
      " |      and with a positive denominator.\n",
      " |      \n",
      " |      >>> (10).as_integer_ratio()\n",
      " |      (10, 1)\n",
      " |      >>> (-10).as_integer_ratio()\n",
      " |      (-10, 1)\n",
      " |      >>> (0).as_integer_ratio()\n",
      " |      (0, 1)\n",
      " |  \n",
      " |  bit_count(self, /)\n",
      " |      Number of ones in the binary representation of the absolute value of self.\n",
      " |      \n",
      " |      Also known as the population count.\n",
      " |      \n",
      " |      >>> bin(13)\n",
      " |      '0b1101'\n",
      " |      >>> (13).bit_count()\n",
      " |      3\n",
      " |  \n",
      " |  bit_length(self, /)\n",
      " |      Number of bits necessary to represent self in binary.\n",
      " |      \n",
      " |      >>> bin(37)\n",
      " |      '0b100101'\n",
      " |      >>> (37).bit_length()\n",
      " |      6\n",
      " |  \n",
      " |  conjugate(...)\n",
      " |      Returns self, the complex conjugate of any int.\n",
      " |  \n",
      " |  to_bytes(self, /, length, byteorder, *, signed=False)\n",
      " |      Return an array of bytes representing an integer.\n",
      " |      \n",
      " |      length\n",
      " |        Length of bytes object to use.  An OverflowError is raised if the\n",
      " |        integer is not representable with the given number of bytes.\n",
      " |      byteorder\n",
      " |        The byte order used to represent the integer.  If byteorder is 'big',\n",
      " |        the most significant byte is at the beginning of the byte array.  If\n",
      " |        byteorder is 'little', the most significant byte is at the end of the\n",
      " |        byte array.  To request the native byte order of the host system, use\n",
      " |        `sys.byteorder' as the byte order value.\n",
      " |      signed\n",
      " |        Determines whether two's complement is used to represent the integer.\n",
      " |        If signed is False and a negative integer is given, an OverflowError\n",
      " |        is raised.\n",
      " |  \n",
      " |  ----------------------------------------------------------------------\n",
      " |  Class methods defined here:\n",
      " |  \n",
      " |  from_bytes(bytes, byteorder, *, signed=False) from builtins.type\n",
      " |      Return the integer represented by the given array of bytes.\n",
      " |      \n",
      " |      bytes\n",
      " |        Holds the array of bytes to convert.  The argument must either\n",
      " |        support the buffer protocol or be an iterable object producing bytes.\n",
      " |        Bytes and bytearray are examples of built-in objects that support the\n",
      " |        buffer protocol.\n",
      " |      byteorder\n",
      " |        The byte order used to represent the integer.  If byteorder is 'big',\n",
      " |        the most significant byte is at the beginning of the byte array.  If\n",
      " |        byteorder is 'little', the most significant byte is at the end of the\n",
      " |        byte array.  To request the native byte order of the host system, use\n",
      " |        `sys.byteorder' as the byte order value.\n",
      " |      signed\n",
      " |        Indicates whether two's complement is used to represent the integer.\n",
      " |  \n",
      " |  ----------------------------------------------------------------------\n",
      " |  Static methods defined here:\n",
      " |  \n",
      " |  __new__(*args, **kwargs) from builtins.type\n",
      " |      Create and return a new object.  See help(type) for accurate signature.\n",
      " |  \n",
      " |  ----------------------------------------------------------------------\n",
      " |  Data descriptors defined here:\n",
      " |  \n",
      " |  denominator\n",
      " |      the denominator of a rational number in lowest terms\n",
      " |  \n",
      " |  imag\n",
      " |      the imaginary part of a complex number\n",
      " |  \n",
      " |  numerator\n",
      " |      the numerator of a rational number in lowest terms\n",
      " |  \n",
      " |  real\n",
      " |      the real part of a complex number\n",
      "\n"
     ]
    }
   ],
   "source": [
    "help(int)"
   ]
  },
  {
   "cell_type": "code",
   "execution_count": 269,
   "id": "4027a377",
   "metadata": {
    "execution": {
     "iopub.execute_input": "2023-11-08T18:00:05.218769Z",
     "iopub.status.busy": "2023-11-08T18:00:05.217825Z",
     "iopub.status.idle": "2023-11-08T18:00:05.224912Z",
     "shell.execute_reply": "2023-11-08T18:00:05.222959Z"
    },
    "papermill": {
     "duration": 0.103214,
     "end_time": "2023-11-08T18:00:05.228279",
     "exception": false,
     "start_time": "2023-11-08T18:00:05.125065",
     "status": "completed"
    },
    "tags": []
   },
   "outputs": [
    {
     "name": "stdout",
     "output_type": "stream",
     "text": [
      "9 10\n"
     ]
    }
   ],
   "source": [
    "a = -9\n",
    "\n",
    "b = 10\n",
    "\n",
    "print(abs(a),abs(b))"
   ]
  },
  {
   "cell_type": "code",
   "execution_count": 270,
   "id": "fa900438",
   "metadata": {
    "execution": {
     "iopub.execute_input": "2023-11-08T18:00:05.410003Z",
     "iopub.status.busy": "2023-11-08T18:00:05.409616Z",
     "iopub.status.idle": "2023-11-08T18:00:05.417073Z",
     "shell.execute_reply": "2023-11-08T18:00:05.415917Z"
    },
    "papermill": {
     "duration": 0.101483,
     "end_time": "2023-11-08T18:00:05.420230",
     "exception": false,
     "start_time": "2023-11-08T18:00:05.318747",
     "status": "completed"
    },
    "tags": []
   },
   "outputs": [
    {
     "data": {
      "text/plain": [
       "dict_keys(['beautiful', 'great', 'maths'])"
      ]
     },
     "execution_count": 270,
     "metadata": {},
     "output_type": "execute_result"
    }
   ],
   "source": [
    "dt = {\"beautiful\": \"which is glorious\",\n",
    "     \"great\": \" to do some extraordinary\",\n",
    "     \"maths\": \"study of numericals\"}\n",
    "dt.keys()"
   ]
  },
  {
   "cell_type": "code",
   "execution_count": 271,
   "id": "df62ed6f",
   "metadata": {
    "execution": {
     "iopub.execute_input": "2023-11-08T18:00:05.610435Z",
     "iopub.status.busy": "2023-11-08T18:00:05.610014Z",
     "iopub.status.idle": "2023-11-08T18:00:05.618609Z",
     "shell.execute_reply": "2023-11-08T18:00:05.616712Z"
    },
    "papermill": {
     "duration": 0.10791,
     "end_time": "2023-11-08T18:00:05.621822",
     "exception": false,
     "start_time": "2023-11-08T18:00:05.513912",
     "status": "completed"
    },
    "tags": []
   },
   "outputs": [
    {
     "data": {
      "text/plain": [
       "dict_values(['which is glorious', ' to do some extraordinary', 'study of numericals'])"
      ]
     },
     "execution_count": 271,
     "metadata": {},
     "output_type": "execute_result"
    }
   ],
   "source": [
    "dt.values()"
   ]
  },
  {
   "cell_type": "code",
   "execution_count": 272,
   "id": "09fe4740",
   "metadata": {
    "execution": {
     "iopub.execute_input": "2023-11-08T18:00:05.799088Z",
     "iopub.status.busy": "2023-11-08T18:00:05.798739Z",
     "iopub.status.idle": "2023-11-08T18:00:05.804100Z",
     "shell.execute_reply": "2023-11-08T18:00:05.803294Z"
    },
    "papermill": {
     "duration": 0.096184,
     "end_time": "2023-11-08T18:00:05.805947",
     "exception": false,
     "start_time": "2023-11-08T18:00:05.709763",
     "status": "completed"
    },
    "tags": []
   },
   "outputs": [
    {
     "data": {
      "text/plain": [
       "dict_items([('beautiful', 'which is glorious'), ('great', ' to do some extraordinary'), ('maths', 'study of numericals')])"
      ]
     },
     "execution_count": 272,
     "metadata": {},
     "output_type": "execute_result"
    }
   ],
   "source": [
    "dt.items()"
   ]
  },
  {
   "cell_type": "code",
   "execution_count": 273,
   "id": "2a2ae0a6",
   "metadata": {
    "execution": {
     "iopub.execute_input": "2023-11-08T18:00:05.984916Z",
     "iopub.status.busy": "2023-11-08T18:00:05.984527Z",
     "iopub.status.idle": "2023-11-08T18:00:05.991477Z",
     "shell.execute_reply": "2023-11-08T18:00:05.990440Z"
    },
    "papermill": {
     "duration": 0.10067,
     "end_time": "2023-11-08T18:00:05.994267",
     "exception": false,
     "start_time": "2023-11-08T18:00:05.893597",
     "status": "completed"
    },
    "tags": []
   },
   "outputs": [
    {
     "data": {
      "text/plain": [
       "'study'"
      ]
     },
     "execution_count": 273,
     "metadata": {},
     "output_type": "execute_result"
    }
   ],
   "source": [
    "dt[\"maths\"].split()[0]"
   ]
  },
  {
   "cell_type": "code",
   "execution_count": 274,
   "id": "5cbd5f05",
   "metadata": {
    "execution": {
     "iopub.execute_input": "2023-11-08T18:00:06.183947Z",
     "iopub.status.busy": "2023-11-08T18:00:06.183482Z",
     "iopub.status.idle": "2023-11-08T18:00:06.190369Z",
     "shell.execute_reply": "2023-11-08T18:00:06.189647Z"
    },
    "papermill": {
     "duration": 0.104103,
     "end_time": "2023-11-08T18:00:06.192398",
     "exception": false,
     "start_time": "2023-11-08T18:00:06.088295",
     "status": "completed"
    },
    "tags": []
   },
   "outputs": [
    {
     "data": {
      "text/plain": [
       "{'a': 'ddddd', 'b': 'eeeee', 'c': 'fffff'}"
      ]
     },
     "execution_count": 274,
     "metadata": {},
     "output_type": "execute_result"
    }
   ],
   "source": [
    "p= [\"a\",\"b\",\"c\"]\n",
    "q = [\"ddddd\",\"eeeee\",\"fffff\"]\n",
    "\n",
    "ans = {  p[i] : q[i]    for i in range(len(p))}\n",
    "ans"
   ]
  },
  {
   "cell_type": "code",
   "execution_count": 275,
   "id": "4be87ad5",
   "metadata": {
    "execution": {
     "iopub.execute_input": "2023-11-08T18:00:06.383266Z",
     "iopub.status.busy": "2023-11-08T18:00:06.382797Z",
     "iopub.status.idle": "2023-11-08T18:00:06.389899Z",
     "shell.execute_reply": "2023-11-08T18:00:06.388094Z"
    },
    "papermill": {
     "duration": 0.105128,
     "end_time": "2023-11-08T18:00:06.392753",
     "exception": false,
     "start_time": "2023-11-08T18:00:06.287625",
     "status": "completed"
    },
    "tags": []
   },
   "outputs": [
    {
     "name": "stdout",
     "output_type": "stream",
     "text": [
      "{'brand': 'Ford', 'model': 'Mustang'}\n"
     ]
    }
   ],
   "source": [
    "car = {\n",
    "  \"brand\": \"Ford\",\n",
    "  \"model\": \"Mustang\",\n",
    "  \"year\": 1964\n",
    "}\n",
    "\n",
    "car.popitem()\n",
    "\n",
    "print(car)"
   ]
  },
  {
   "cell_type": "code",
   "execution_count": 276,
   "id": "dae72cc3",
   "metadata": {
    "execution": {
     "iopub.execute_input": "2023-11-08T18:00:06.580166Z",
     "iopub.status.busy": "2023-11-08T18:00:06.579675Z",
     "iopub.status.idle": "2023-11-08T18:00:06.586096Z",
     "shell.execute_reply": "2023-11-08T18:00:06.585281Z"
    },
    "papermill": {
     "duration": 0.1042,
     "end_time": "2023-11-08T18:00:06.589226",
     "exception": false,
     "start_time": "2023-11-08T18:00:06.485026",
     "status": "completed"
    },
    "tags": []
   },
   "outputs": [
    {
     "data": {
      "text/plain": [
       "'prasad'"
      ]
     },
     "execution_count": 276,
     "metadata": {},
     "output_type": "execute_result"
    }
   ],
   "source": [
    "a = [\"suhs\",\"mlv\",\"prasad\"]\n",
    "a.pop()"
   ]
  },
  {
   "cell_type": "code",
   "execution_count": 277,
   "id": "a4e8e247",
   "metadata": {
    "execution": {
     "iopub.execute_input": "2023-11-08T18:00:06.774377Z",
     "iopub.status.busy": "2023-11-08T18:00:06.774002Z",
     "iopub.status.idle": "2023-11-08T18:00:06.778121Z",
     "shell.execute_reply": "2023-11-08T18:00:06.776805Z"
    },
    "papermill": {
     "duration": 0.099638,
     "end_time": "2023-11-08T18:00:06.780181",
     "exception": false,
     "start_time": "2023-11-08T18:00:06.680543",
     "status": "completed"
    },
    "tags": []
   },
   "outputs": [],
   "source": [
    "# numpy\n",
    "\n",
    "# numerical python\n"
   ]
  },
  {
   "cell_type": "code",
   "execution_count": 278,
   "id": "4b530fb7",
   "metadata": {
    "execution": {
     "iopub.execute_input": "2023-11-08T18:00:07.043014Z",
     "iopub.status.busy": "2023-11-08T18:00:07.042513Z",
     "iopub.status.idle": "2023-11-08T18:00:07.051402Z",
     "shell.execute_reply": "2023-11-08T18:00:07.049513Z"
    },
    "papermill": {
     "duration": 0.103711,
     "end_time": "2023-11-08T18:00:07.054514",
     "exception": false,
     "start_time": "2023-11-08T18:00:06.950803",
     "status": "completed"
    },
    "tags": []
   },
   "outputs": [
    {
     "data": {
      "text/plain": [
       "[10, 20, 30]"
      ]
     },
     "execution_count": 278,
     "metadata": {},
     "output_type": "execute_result"
    }
   ],
   "source": [
    "a = [10,20,30]\n",
    "a"
   ]
  },
  {
   "cell_type": "code",
   "execution_count": 279,
   "id": "ce08f7ce",
   "metadata": {
    "execution": {
     "iopub.execute_input": "2023-11-08T18:00:07.235913Z",
     "iopub.status.busy": "2023-11-08T18:00:07.235502Z",
     "iopub.status.idle": "2023-11-08T18:00:07.245384Z",
     "shell.execute_reply": "2023-11-08T18:00:07.243728Z"
    },
    "papermill": {
     "duration": 0.10212,
     "end_time": "2023-11-08T18:00:07.248201",
     "exception": false,
     "start_time": "2023-11-08T18:00:07.146081",
     "status": "completed"
    },
    "tags": []
   },
   "outputs": [
    {
     "data": {
      "text/plain": [
       "array([10, 20, 30])"
      ]
     },
     "execution_count": 279,
     "metadata": {},
     "output_type": "execute_result"
    }
   ],
   "source": [
    "import numpy as np\n",
    "\n",
    "\n",
    "b = np.array([10,20,30])\n",
    "b"
   ]
  },
  {
   "cell_type": "code",
   "execution_count": 280,
   "id": "04e7539a",
   "metadata": {
    "execution": {
     "iopub.execute_input": "2023-11-08T18:00:07.429476Z",
     "iopub.status.busy": "2023-11-08T18:00:07.429041Z",
     "iopub.status.idle": "2023-11-08T18:00:07.437014Z",
     "shell.execute_reply": "2023-11-08T18:00:07.435587Z"
    },
    "papermill": {
     "duration": 0.104047,
     "end_time": "2023-11-08T18:00:07.439373",
     "exception": false,
     "start_time": "2023-11-08T18:00:07.335326",
     "status": "completed"
    },
    "tags": []
   },
   "outputs": [
    {
     "data": {
      "text/plain": [
       "10"
      ]
     },
     "execution_count": 280,
     "metadata": {},
     "output_type": "execute_result"
    }
   ],
   "source": [
    "b[0]"
   ]
  },
  {
   "cell_type": "code",
   "execution_count": 281,
   "id": "20b832a3",
   "metadata": {
    "execution": {
     "iopub.execute_input": "2023-11-08T18:00:07.623795Z",
     "iopub.status.busy": "2023-11-08T18:00:07.623387Z",
     "iopub.status.idle": "2023-11-08T18:00:07.630191Z",
     "shell.execute_reply": "2023-11-08T18:00:07.629219Z"
    },
    "papermill": {
     "duration": 0.101544,
     "end_time": "2023-11-08T18:00:07.632237",
     "exception": false,
     "start_time": "2023-11-08T18:00:07.530693",
     "status": "completed"
    },
    "tags": []
   },
   "outputs": [
    {
     "data": {
      "text/plain": [
       "30"
      ]
     },
     "execution_count": 281,
     "metadata": {},
     "output_type": "execute_result"
    }
   ],
   "source": [
    "b[-1]"
   ]
  },
  {
   "cell_type": "code",
   "execution_count": 282,
   "id": "57421316",
   "metadata": {
    "execution": {
     "iopub.execute_input": "2023-11-08T18:00:07.810307Z",
     "iopub.status.busy": "2023-11-08T18:00:07.809923Z",
     "iopub.status.idle": "2023-11-08T18:00:07.818441Z",
     "shell.execute_reply": "2023-11-08T18:00:07.816536Z"
    },
    "papermill": {
     "duration": 0.100678,
     "end_time": "2023-11-08T18:00:07.821733",
     "exception": false,
     "start_time": "2023-11-08T18:00:07.721055",
     "status": "completed"
    },
    "tags": []
   },
   "outputs": [
    {
     "data": {
      "text/plain": [
       "array([10, 20])"
      ]
     },
     "execution_count": 282,
     "metadata": {},
     "output_type": "execute_result"
    }
   ],
   "source": [
    "b[0:2]"
   ]
  },
  {
   "cell_type": "code",
   "execution_count": 283,
   "id": "82acec3e",
   "metadata": {
    "execution": {
     "iopub.execute_input": "2023-11-08T18:00:07.998956Z",
     "iopub.status.busy": "2023-11-08T18:00:07.998608Z",
     "iopub.status.idle": "2023-11-08T18:00:08.006381Z",
     "shell.execute_reply": "2023-11-08T18:00:08.004933Z"
    },
    "papermill": {
     "duration": 0.098482,
     "end_time": "2023-11-08T18:00:08.009066",
     "exception": false,
     "start_time": "2023-11-08T18:00:07.910584",
     "status": "completed"
    },
    "tags": []
   },
   "outputs": [
    {
     "data": {
      "text/plain": [
       "array([10, 20, 30])"
      ]
     },
     "execution_count": 283,
     "metadata": {},
     "output_type": "execute_result"
    }
   ],
   "source": [
    "c = [10,20,30]\n",
    "\n",
    "d = np.array(c)\n",
    "d"
   ]
  },
  {
   "cell_type": "code",
   "execution_count": 284,
   "id": "3a1bbdfe",
   "metadata": {
    "execution": {
     "iopub.execute_input": "2023-11-08T18:00:08.192832Z",
     "iopub.status.busy": "2023-11-08T18:00:08.192438Z",
     "iopub.status.idle": "2023-11-08T18:00:08.201117Z",
     "shell.execute_reply": "2023-11-08T18:00:08.199503Z"
    },
    "papermill": {
     "duration": 0.103167,
     "end_time": "2023-11-08T18:00:08.203909",
     "exception": false,
     "start_time": "2023-11-08T18:00:08.100742",
     "status": "completed"
    },
    "tags": []
   },
   "outputs": [
    {
     "data": {
      "text/plain": [
       "array([[0., 0., 0., 0., 0.],\n",
       "       [0., 0., 0., 0., 0.],\n",
       "       [0., 0., 0., 0., 0.],\n",
       "       [0., 0., 0., 0., 0.],\n",
       "       [0., 0., 0., 0., 0.]])"
      ]
     },
     "execution_count": 284,
     "metadata": {},
     "output_type": "execute_result"
    }
   ],
   "source": [
    "e = np.zeros((5,5))  \n",
    "e"
   ]
  },
  {
   "cell_type": "code",
   "execution_count": 285,
   "id": "b2af9d59",
   "metadata": {
    "execution": {
     "iopub.execute_input": "2023-11-08T18:00:08.387398Z",
     "iopub.status.busy": "2023-11-08T18:00:08.386946Z",
     "iopub.status.idle": "2023-11-08T18:00:08.395901Z",
     "shell.execute_reply": "2023-11-08T18:00:08.394645Z"
    },
    "papermill": {
     "duration": 0.103109,
     "end_time": "2023-11-08T18:00:08.398761",
     "exception": false,
     "start_time": "2023-11-08T18:00:08.295652",
     "status": "completed"
    },
    "tags": []
   },
   "outputs": [
    {
     "data": {
      "text/plain": [
       "array([[1., 1., 1., 1., 1., 1.],\n",
       "       [1., 1., 1., 1., 1., 1.]])"
      ]
     },
     "execution_count": 285,
     "metadata": {},
     "output_type": "execute_result"
    }
   ],
   "source": [
    "f = np.ones((2,6))\n",
    "f"
   ]
  },
  {
   "cell_type": "code",
   "execution_count": 286,
   "id": "9dee5564",
   "metadata": {
    "execution": {
     "iopub.execute_input": "2023-11-08T18:00:08.585971Z",
     "iopub.status.busy": "2023-11-08T18:00:08.584541Z",
     "iopub.status.idle": "2023-11-08T18:00:08.592157Z",
     "shell.execute_reply": "2023-11-08T18:00:08.590929Z"
    },
    "papermill": {
     "duration": 0.102184,
     "end_time": "2023-11-08T18:00:08.594665",
     "exception": false,
     "start_time": "2023-11-08T18:00:08.492481",
     "status": "completed"
    },
    "tags": []
   },
   "outputs": [
    {
     "data": {
      "text/plain": [
       "array([[22, 22, 22, 22, 22, 22, 22, 22],\n",
       "       [22, 22, 22, 22, 22, 22, 22, 22],\n",
       "       [22, 22, 22, 22, 22, 22, 22, 22],\n",
       "       [22, 22, 22, 22, 22, 22, 22, 22],\n",
       "       [22, 22, 22, 22, 22, 22, 22, 22]])"
      ]
     },
     "execution_count": 286,
     "metadata": {},
     "output_type": "execute_result"
    }
   ],
   "source": [
    "g = np.full((5,8),22)\n",
    "g"
   ]
  },
  {
   "cell_type": "code",
   "execution_count": 287,
   "id": "0317cb0f",
   "metadata": {
    "execution": {
     "iopub.execute_input": "2023-11-08T18:00:08.781308Z",
     "iopub.status.busy": "2023-11-08T18:00:08.778602Z",
     "iopub.status.idle": "2023-11-08T18:00:08.788424Z",
     "shell.execute_reply": "2023-11-08T18:00:08.786782Z"
    },
    "papermill": {
     "duration": 0.105182,
     "end_time": "2023-11-08T18:00:08.791390",
     "exception": false,
     "start_time": "2023-11-08T18:00:08.686208",
     "status": "completed"
    },
    "tags": []
   },
   "outputs": [
    {
     "data": {
      "text/plain": [
       "array([2, 3, 4])"
      ]
     },
     "execution_count": 287,
     "metadata": {},
     "output_type": "execute_result"
    }
   ],
   "source": [
    "# range(5) = [0,1,2,3,4]\n",
    "\n",
    "h = np.arange(2,5)\n",
    "h"
   ]
  },
  {
   "cell_type": "code",
   "execution_count": 288,
   "id": "9b517e17",
   "metadata": {
    "execution": {
     "iopub.execute_input": "2023-11-08T18:00:08.983307Z",
     "iopub.status.busy": "2023-11-08T18:00:08.982376Z",
     "iopub.status.idle": "2023-11-08T18:00:08.990165Z",
     "shell.execute_reply": "2023-11-08T18:00:08.989064Z"
    },
    "papermill": {
     "duration": 0.105825,
     "end_time": "2023-11-08T18:00:08.992227",
     "exception": false,
     "start_time": "2023-11-08T18:00:08.886402",
     "status": "completed"
    },
    "tags": []
   },
   "outputs": [
    {
     "data": {
      "text/plain": [
       "array([ 2,  4,  6,  8, 10, 12])"
      ]
     },
     "execution_count": 288,
     "metadata": {},
     "output_type": "execute_result"
    }
   ],
   "source": [
    "i = np.linspace(2,12,6).astype(\"int\")\n",
    "i"
   ]
  },
  {
   "cell_type": "code",
   "execution_count": 289,
   "id": "bfc60d67",
   "metadata": {
    "execution": {
     "iopub.execute_input": "2023-11-08T18:00:09.182925Z",
     "iopub.status.busy": "2023-11-08T18:00:09.181956Z",
     "iopub.status.idle": "2023-11-08T18:00:09.190794Z",
     "shell.execute_reply": "2023-11-08T18:00:09.189222Z"
    },
    "papermill": {
     "duration": 0.108541,
     "end_time": "2023-11-08T18:00:09.193757",
     "exception": false,
     "start_time": "2023-11-08T18:00:09.085216",
     "status": "completed"
    },
    "tags": []
   },
   "outputs": [
    {
     "data": {
      "text/plain": [
       "array([[17.62611627, 50.20674572, 10.00288332, 77.61011916, 79.13099902],\n",
       "       [37.13893049, 82.27976039, 28.37625104, 55.00618301, 27.62119705],\n",
       "       [94.35118838, 55.65305809, 13.70622297, 91.7951755 , 22.68199393],\n",
       "       [78.00632192, 88.00104312, 32.7232196 , 17.16623947, 86.84040808],\n",
       "       [33.74707896,  4.86775903, 73.06044404, 85.27049794, 48.46779679]])"
      ]
     },
     "execution_count": 289,
     "metadata": {},
     "output_type": "execute_result"
    }
   ],
   "source": [
    "a = np.random.rand(5,5)* 100 # 0 - 1\n",
    "a"
   ]
  },
  {
   "cell_type": "code",
   "execution_count": 290,
   "id": "3591e1c2",
   "metadata": {
    "execution": {
     "iopub.execute_input": "2023-11-08T18:00:09.385905Z",
     "iopub.status.busy": "2023-11-08T18:00:09.385452Z",
     "iopub.status.idle": "2023-11-08T18:00:09.396597Z",
     "shell.execute_reply": "2023-11-08T18:00:09.395205Z"
    },
    "papermill": {
     "duration": 0.106725,
     "end_time": "2023-11-08T18:00:09.399056",
     "exception": false,
     "start_time": "2023-11-08T18:00:09.292331",
     "status": "completed"
    },
    "tags": []
   },
   "outputs": [
    {
     "data": {
      "text/plain": [
       "array([[16, 13, 16],\n",
       "       [18, 17, 13]])"
      ]
     },
     "execution_count": 290,
     "metadata": {},
     "output_type": "execute_result"
    }
   ],
   "source": [
    "b = np.random.randint(10,20,(2,3))\n",
    "b"
   ]
  },
  {
   "cell_type": "code",
   "execution_count": 291,
   "id": "b43b4c45",
   "metadata": {
    "execution": {
     "iopub.execute_input": "2023-11-08T18:00:09.579606Z",
     "iopub.status.busy": "2023-11-08T18:00:09.579250Z",
     "iopub.status.idle": "2023-11-08T18:00:09.587607Z",
     "shell.execute_reply": "2023-11-08T18:00:09.586145Z"
    },
    "papermill": {
     "duration": 0.101153,
     "end_time": "2023-11-08T18:00:09.589638",
     "exception": false,
     "start_time": "2023-11-08T18:00:09.488485",
     "status": "completed"
    },
    "tags": []
   },
   "outputs": [
    {
     "data": {
      "text/plain": [
       "[[1, 2, 3], [4, 5, 6]]"
      ]
     },
     "execution_count": 291,
     "metadata": {},
     "output_type": "execute_result"
    }
   ],
   "source": [
    "a = [[1,2,3],[4,5,6]]\n",
    "a"
   ]
  },
  {
   "cell_type": "code",
   "execution_count": 292,
   "id": "04d4c6ab",
   "metadata": {
    "execution": {
     "iopub.execute_input": "2023-11-08T18:00:09.861360Z",
     "iopub.status.busy": "2023-11-08T18:00:09.860746Z",
     "iopub.status.idle": "2023-11-08T18:00:09.870746Z",
     "shell.execute_reply": "2023-11-08T18:00:09.868840Z"
    },
    "papermill": {
     "duration": 0.111456,
     "end_time": "2023-11-08T18:00:09.874330",
     "exception": false,
     "start_time": "2023-11-08T18:00:09.762874",
     "status": "completed"
    },
    "tags": []
   },
   "outputs": [
    {
     "data": {
      "text/plain": [
       "array([[1, 2, 3],\n",
       "       [4, 5, 6]])"
      ]
     },
     "execution_count": 292,
     "metadata": {},
     "output_type": "execute_result"
    }
   ],
   "source": [
    "b = np.array(a)\n",
    "b"
   ]
  },
  {
   "cell_type": "code",
   "execution_count": 293,
   "id": "e1a5b84a",
   "metadata": {
    "execution": {
     "iopub.execute_input": "2023-11-08T18:00:10.064191Z",
     "iopub.status.busy": "2023-11-08T18:00:10.063823Z",
     "iopub.status.idle": "2023-11-08T18:00:10.068561Z",
     "shell.execute_reply": "2023-11-08T18:00:10.067631Z"
    },
    "papermill": {
     "duration": 0.10148,
     "end_time": "2023-11-08T18:00:10.070254",
     "exception": false,
     "start_time": "2023-11-08T18:00:09.968774",
     "status": "completed"
    },
    "tags": []
   },
   "outputs": [],
   "source": [
    "a = np.zeros((10,10))\n",
    "b = a[:5,:]"
   ]
  },
  {
   "cell_type": "code",
   "execution_count": 294,
   "id": "de3283e7",
   "metadata": {
    "execution": {
     "iopub.execute_input": "2023-11-08T18:00:10.257354Z",
     "iopub.status.busy": "2023-11-08T18:00:10.255620Z",
     "iopub.status.idle": "2023-11-08T18:00:10.263703Z",
     "shell.execute_reply": "2023-11-08T18:00:10.262099Z"
    },
    "papermill": {
     "duration": 0.104972,
     "end_time": "2023-11-08T18:00:10.266334",
     "exception": false,
     "start_time": "2023-11-08T18:00:10.161362",
     "status": "completed"
    },
    "tags": []
   },
   "outputs": [
    {
     "data": {
      "text/plain": [
       "10"
      ]
     },
     "execution_count": 294,
     "metadata": {},
     "output_type": "execute_result"
    }
   ],
   "source": [
    "b.shape[1]"
   ]
  },
  {
   "cell_type": "code",
   "execution_count": 295,
   "id": "bdd93e41",
   "metadata": {
    "execution": {
     "iopub.execute_input": "2023-11-08T18:00:10.459328Z",
     "iopub.status.busy": "2023-11-08T18:00:10.457849Z",
     "iopub.status.idle": "2023-11-08T18:00:10.468532Z",
     "shell.execute_reply": "2023-11-08T18:00:10.466741Z"
    },
    "papermill": {
     "duration": 0.108667,
     "end_time": "2023-11-08T18:00:10.471561",
     "exception": false,
     "start_time": "2023-11-08T18:00:10.362894",
     "status": "completed"
    },
    "tags": []
   },
   "outputs": [
    {
     "data": {
      "text/plain": [
       "array([[0, 0, 0, 0, 0, 0, 0, 0]])"
      ]
     },
     "execution_count": 295,
     "metadata": {},
     "output_type": "execute_result"
    }
   ],
   "source": [
    "a = [[0,0,0,0],[0,0,0,0]]\n",
    "b = np.array(a)\n",
    "b.reshape((1,8))"
   ]
  },
  {
   "cell_type": "code",
   "execution_count": 296,
   "id": "46cbc777",
   "metadata": {
    "execution": {
     "iopub.execute_input": "2023-11-08T18:00:10.654620Z",
     "iopub.status.busy": "2023-11-08T18:00:10.654239Z",
     "iopub.status.idle": "2023-11-08T18:00:10.664238Z",
     "shell.execute_reply": "2023-11-08T18:00:10.662553Z"
    },
    "papermill": {
     "duration": 0.103971,
     "end_time": "2023-11-08T18:00:10.667029",
     "exception": false,
     "start_time": "2023-11-08T18:00:10.563058",
     "status": "completed"
    },
    "tags": []
   },
   "outputs": [
    {
     "data": {
      "text/plain": [
       "array([[0],\n",
       "       [0],\n",
       "       [0],\n",
       "       [0]])"
      ]
     },
     "execution_count": 296,
     "metadata": {},
     "output_type": "execute_result"
    }
   ],
   "source": [
    "a = [0,0,0,0]\n",
    "b = np.array(a)\n",
    "b= b[:,np.newaxis]\n",
    "b"
   ]
  },
  {
   "cell_type": "code",
   "execution_count": 297,
   "id": "39ac4ffb",
   "metadata": {
    "execution": {
     "iopub.execute_input": "2023-11-08T18:00:10.854232Z",
     "iopub.status.busy": "2023-11-08T18:00:10.853819Z",
     "iopub.status.idle": "2023-11-08T18:00:10.861873Z",
     "shell.execute_reply": "2023-11-08T18:00:10.860600Z"
    },
    "papermill": {
     "duration": 0.104518,
     "end_time": "2023-11-08T18:00:10.864896",
     "exception": false,
     "start_time": "2023-11-08T18:00:10.760378",
     "status": "completed"
    },
    "tags": []
   },
   "outputs": [
    {
     "data": {
      "text/plain": [
       "dtype('int64')"
      ]
     },
     "execution_count": 297,
     "metadata": {},
     "output_type": "execute_result"
    }
   ],
   "source": [
    "b.dtype"
   ]
  },
  {
   "cell_type": "code",
   "execution_count": 298,
   "id": "805a3f2f",
   "metadata": {
    "execution": {
     "iopub.execute_input": "2023-11-08T18:00:11.052618Z",
     "iopub.status.busy": "2023-11-08T18:00:11.052028Z",
     "iopub.status.idle": "2023-11-08T18:00:11.059683Z",
     "shell.execute_reply": "2023-11-08T18:00:11.058839Z"
    },
    "papermill": {
     "duration": 0.103458,
     "end_time": "2023-11-08T18:00:11.061544",
     "exception": false,
     "start_time": "2023-11-08T18:00:10.958086",
     "status": "completed"
    },
    "tags": []
   },
   "outputs": [
    {
     "data": {
      "text/plain": [
       "array([0., 1., 0., 0.])"
      ]
     },
     "execution_count": 298,
     "metadata": {},
     "output_type": "execute_result"
    }
   ],
   "source": [
    "a = [0,1,0,0]\n",
    "b = np.array(a,dtype= float)\n",
    "b"
   ]
  },
  {
   "cell_type": "code",
   "execution_count": 299,
   "id": "0c9a9206",
   "metadata": {
    "execution": {
     "iopub.execute_input": "2023-11-08T18:00:11.253169Z",
     "iopub.status.busy": "2023-11-08T18:00:11.252642Z",
     "iopub.status.idle": "2023-11-08T18:00:11.263209Z",
     "shell.execute_reply": "2023-11-08T18:00:11.261004Z"
    },
    "papermill": {
     "duration": 0.108717,
     "end_time": "2023-11-08T18:00:11.266212",
     "exception": false,
     "start_time": "2023-11-08T18:00:11.157495",
     "status": "completed"
    },
    "tags": []
   },
   "outputs": [
    {
     "data": {
      "text/plain": [
       "[100, 120, 115, 140, 10, 10, 10, 10]"
      ]
     },
     "execution_count": 299,
     "metadata": {},
     "output_type": "execute_result"
    }
   ],
   "source": [
    "a = [100,120,115,140]\n",
    "b = [10,10,10,10]\n",
    "a + b"
   ]
  },
  {
   "cell_type": "code",
   "execution_count": 300,
   "id": "b5db4840",
   "metadata": {
    "execution": {
     "iopub.execute_input": "2023-11-08T18:00:11.459477Z",
     "iopub.status.busy": "2023-11-08T18:00:11.459041Z",
     "iopub.status.idle": "2023-11-08T18:00:11.466103Z",
     "shell.execute_reply": "2023-11-08T18:00:11.465360Z"
    },
    "papermill": {
     "duration": 0.105808,
     "end_time": "2023-11-08T18:00:11.467874",
     "exception": false,
     "start_time": "2023-11-08T18:00:11.362066",
     "status": "completed"
    },
    "tags": []
   },
   "outputs": [
    {
     "data": {
      "text/plain": [
       "array([110. , 132. , 126.5, 154. ])"
      ]
     },
     "execution_count": 300,
     "metadata": {},
     "output_type": "execute_result"
    }
   ],
   "source": [
    "a = np.array([100,120,115,140])\n",
    "b = np.array([1.1,1.1,1.1,1.1])\n",
    "a * b"
   ]
  },
  {
   "cell_type": "code",
   "execution_count": 301,
   "id": "be16d133",
   "metadata": {
    "execution": {
     "iopub.execute_input": "2023-11-08T18:00:11.657447Z",
     "iopub.status.busy": "2023-11-08T18:00:11.656760Z",
     "iopub.status.idle": "2023-11-08T18:00:11.664428Z",
     "shell.execute_reply": "2023-11-08T18:00:11.663466Z"
    },
    "papermill": {
     "duration": 0.102624,
     "end_time": "2023-11-08T18:00:11.666642",
     "exception": false,
     "start_time": "2023-11-08T18:00:11.564018",
     "status": "completed"
    },
    "tags": []
   },
   "outputs": [
    {
     "data": {
      "text/plain": [
       "array([110. , 132. , 126.5, 154. ])"
      ]
     },
     "execution_count": 301,
     "metadata": {},
     "output_type": "execute_result"
    }
   ],
   "source": [
    "a = np.array([100,120,115,140])\n",
    "b = 1.1\n",
    "a * b"
   ]
  },
  {
   "cell_type": "code",
   "execution_count": 302,
   "id": "90053964",
   "metadata": {
    "execution": {
     "iopub.execute_input": "2023-11-08T18:00:11.855707Z",
     "iopub.status.busy": "2023-11-08T18:00:11.855170Z",
     "iopub.status.idle": "2023-11-08T18:00:11.866251Z",
     "shell.execute_reply": "2023-11-08T18:00:11.864272Z"
    },
    "papermill": {
     "duration": 0.111682,
     "end_time": "2023-11-08T18:00:11.869842",
     "exception": false,
     "start_time": "2023-11-08T18:00:11.758160",
     "status": "completed"
    },
    "tags": []
   },
   "outputs": [
    {
     "data": {
      "text/plain": [
       "475"
      ]
     },
     "execution_count": 302,
     "metadata": {},
     "output_type": "execute_result"
    }
   ],
   "source": [
    "a = np.array([100,120,115,140])\n",
    "\n",
    "np.sum(a)"
   ]
  },
  {
   "cell_type": "code",
   "execution_count": 303,
   "id": "0f3adc21",
   "metadata": {
    "execution": {
     "iopub.execute_input": "2023-11-08T18:00:12.078869Z",
     "iopub.status.busy": "2023-11-08T18:00:12.078422Z",
     "iopub.status.idle": "2023-11-08T18:00:12.086763Z",
     "shell.execute_reply": "2023-11-08T18:00:12.085189Z"
    },
    "papermill": {
     "duration": 0.109636,
     "end_time": "2023-11-08T18:00:12.089735",
     "exception": false,
     "start_time": "2023-11-08T18:00:11.980099",
     "status": "completed"
    },
    "tags": []
   },
   "outputs": [
    {
     "data": {
      "text/plain": [
       "140"
      ]
     },
     "execution_count": 303,
     "metadata": {},
     "output_type": "execute_result"
    }
   ],
   "source": [
    "np.max(a)"
   ]
  },
  {
   "cell_type": "code",
   "execution_count": 304,
   "id": "8923cf30",
   "metadata": {
    "execution": {
     "iopub.execute_input": "2023-11-08T18:00:12.278453Z",
     "iopub.status.busy": "2023-11-08T18:00:12.277427Z",
     "iopub.status.idle": "2023-11-08T18:00:12.285146Z",
     "shell.execute_reply": "2023-11-08T18:00:12.284270Z"
    },
    "papermill": {
     "duration": 0.10532,
     "end_time": "2023-11-08T18:00:12.287393",
     "exception": false,
     "start_time": "2023-11-08T18:00:12.182073",
     "status": "completed"
    },
    "tags": []
   },
   "outputs": [
    {
     "data": {
      "text/plain": [
       "100"
      ]
     },
     "execution_count": 304,
     "metadata": {},
     "output_type": "execute_result"
    }
   ],
   "source": [
    "np.min(a)"
   ]
  },
  {
   "cell_type": "code",
   "execution_count": 305,
   "id": "203770d5",
   "metadata": {
    "execution": {
     "iopub.execute_input": "2023-11-08T18:00:12.485943Z",
     "iopub.status.busy": "2023-11-08T18:00:12.485224Z",
     "iopub.status.idle": "2023-11-08T18:00:12.491759Z",
     "shell.execute_reply": "2023-11-08T18:00:12.490956Z"
    },
    "papermill": {
     "duration": 0.102818,
     "end_time": "2023-11-08T18:00:12.493720",
     "exception": false,
     "start_time": "2023-11-08T18:00:12.390902",
     "status": "completed"
    },
    "tags": []
   },
   "outputs": [
    {
     "data": {
      "text/plain": [
       "204.6875"
      ]
     },
     "execution_count": 305,
     "metadata": {},
     "output_type": "execute_result"
    }
   ],
   "source": [
    "np.var(a)"
   ]
  },
  {
   "cell_type": "code",
   "execution_count": 306,
   "id": "7361006b",
   "metadata": {
    "execution": {
     "iopub.execute_input": "2023-11-08T18:00:12.773881Z",
     "iopub.status.busy": "2023-11-08T18:00:12.772291Z",
     "iopub.status.idle": "2023-11-08T18:00:12.780081Z",
     "shell.execute_reply": "2023-11-08T18:00:12.779211Z"
    },
    "papermill": {
     "duration": 0.106936,
     "end_time": "2023-11-08T18:00:12.783042",
     "exception": false,
     "start_time": "2023-11-08T18:00:12.676106",
     "status": "completed"
    },
    "tags": []
   },
   "outputs": [
    {
     "data": {
      "text/plain": [
       "14.306903927824496"
      ]
     },
     "execution_count": 306,
     "metadata": {},
     "output_type": "execute_result"
    }
   ],
   "source": [
    "np.std(a)"
   ]
  },
  {
   "cell_type": "code",
   "execution_count": 307,
   "id": "d7d4a735",
   "metadata": {
    "execution": {
     "iopub.execute_input": "2023-11-08T18:00:12.979331Z",
     "iopub.status.busy": "2023-11-08T18:00:12.978433Z",
     "iopub.status.idle": "2023-11-08T18:00:12.985593Z",
     "shell.execute_reply": "2023-11-08T18:00:12.984794Z"
    },
    "papermill": {
     "duration": 0.108253,
     "end_time": "2023-11-08T18:00:12.987687",
     "exception": false,
     "start_time": "2023-11-08T18:00:12.879434",
     "status": "completed"
    },
    "tags": []
   },
   "outputs": [
    {
     "data": {
      "text/plain": [
       "array([10.        , 10.95445115, 10.72380529, 11.83215957])"
      ]
     },
     "execution_count": 307,
     "metadata": {},
     "output_type": "execute_result"
    }
   ],
   "source": [
    "np.sqrt(a)"
   ]
  },
  {
   "cell_type": "code",
   "execution_count": 308,
   "id": "1cf8eb0b",
   "metadata": {
    "execution": {
     "iopub.execute_input": "2023-11-08T18:00:13.185991Z",
     "iopub.status.busy": "2023-11-08T18:00:13.185250Z",
     "iopub.status.idle": "2023-11-08T18:00:13.193524Z",
     "shell.execute_reply": "2023-11-08T18:00:13.192753Z"
    },
    "papermill": {
     "duration": 0.110608,
     "end_time": "2023-11-08T18:00:13.196280",
     "exception": false,
     "start_time": "2023-11-08T18:00:13.085672",
     "status": "completed"
    },
    "tags": []
   },
   "outputs": [
    {
     "data": {
      "text/plain": [
       "array([ 0.86231887,  0.81418097, -0.32580981, -0.19781357])"
      ]
     },
     "execution_count": 308,
     "metadata": {},
     "output_type": "execute_result"
    }
   ],
   "source": [
    "np.cos(a)"
   ]
  },
  {
   "cell_type": "code",
   "execution_count": 309,
   "id": "85490d45",
   "metadata": {
    "execution": {
     "iopub.execute_input": "2023-11-08T18:00:13.392428Z",
     "iopub.status.busy": "2023-11-08T18:00:13.390797Z",
     "iopub.status.idle": "2023-11-08T18:00:13.399743Z",
     "shell.execute_reply": "2023-11-08T18:00:13.398074Z"
    },
    "papermill": {
     "duration": 0.111899,
     "end_time": "2023-11-08T18:00:13.402677",
     "exception": false,
     "start_time": "2023-11-08T18:00:13.290778",
     "status": "completed"
    },
    "tags": []
   },
   "outputs": [
    {
     "data": {
      "text/plain": [
       "array([2.68811714e+43, 1.30418088e+52, 8.78750164e+49, 6.32743171e+60])"
      ]
     },
     "execution_count": 309,
     "metadata": {},
     "output_type": "execute_result"
    }
   ],
   "source": [
    "np.exp(a)"
   ]
  },
  {
   "cell_type": "code",
   "execution_count": 310,
   "id": "38134b88",
   "metadata": {
    "execution": {
     "iopub.execute_input": "2023-11-08T18:00:13.607284Z",
     "iopub.status.busy": "2023-11-08T18:00:13.606496Z",
     "iopub.status.idle": "2023-11-08T18:00:13.614310Z",
     "shell.execute_reply": "2023-11-08T18:00:13.613412Z"
    },
    "papermill": {
     "duration": 0.116746,
     "end_time": "2023-11-08T18:00:13.616725",
     "exception": false,
     "start_time": "2023-11-08T18:00:13.499979",
     "status": "completed"
    },
    "tags": []
   },
   "outputs": [
    {
     "data": {
      "text/plain": [
       "118.75"
      ]
     },
     "execution_count": 310,
     "metadata": {},
     "output_type": "execute_result"
    }
   ],
   "source": [
    "np.mean(a)"
   ]
  },
  {
   "cell_type": "code",
   "execution_count": 311,
   "id": "5b46ec91",
   "metadata": {
    "execution": {
     "iopub.execute_input": "2023-11-08T18:00:13.815318Z",
     "iopub.status.busy": "2023-11-08T18:00:13.814178Z",
     "iopub.status.idle": "2023-11-08T18:00:13.824679Z",
     "shell.execute_reply": "2023-11-08T18:00:13.822939Z"
    },
    "papermill": {
     "duration": 0.113586,
     "end_time": "2023-11-08T18:00:13.827503",
     "exception": false,
     "start_time": "2023-11-08T18:00:13.713917",
     "status": "completed"
    },
    "tags": []
   },
   "outputs": [
    {
     "data": {
      "text/plain": [
       "117.5"
      ]
     },
     "execution_count": 311,
     "metadata": {},
     "output_type": "execute_result"
    }
   ],
   "source": [
    "np.median(a)"
   ]
  },
  {
   "cell_type": "code",
   "execution_count": 312,
   "id": "0ea57a23",
   "metadata": {
    "execution": {
     "iopub.execute_input": "2023-11-08T18:00:14.038025Z",
     "iopub.status.busy": "2023-11-08T18:00:14.037507Z",
     "iopub.status.idle": "2023-11-08T18:00:14.048543Z",
     "shell.execute_reply": "2023-11-08T18:00:14.046747Z"
    },
    "papermill": {
     "duration": 0.125166,
     "end_time": "2023-11-08T18:00:14.051481",
     "exception": false,
     "start_time": "2023-11-08T18:00:13.926315",
     "status": "completed"
    },
    "tags": []
   },
   "outputs": [
    {
     "data": {
      "text/plain": [
       "array([100, 115, 120, 140])"
      ]
     },
     "execution_count": 312,
     "metadata": {},
     "output_type": "execute_result"
    }
   ],
   "source": [
    "np.sort(a)"
   ]
  },
  {
   "cell_type": "code",
   "execution_count": 313,
   "id": "6988719d",
   "metadata": {
    "execution": {
     "iopub.execute_input": "2023-11-08T18:00:14.250334Z",
     "iopub.status.busy": "2023-11-08T18:00:14.249903Z",
     "iopub.status.idle": "2023-11-08T18:00:14.255617Z",
     "shell.execute_reply": "2023-11-08T18:00:14.253932Z"
    },
    "papermill": {
     "duration": 0.106497,
     "end_time": "2023-11-08T18:00:14.257884",
     "exception": false,
     "start_time": "2023-11-08T18:00:14.151387",
     "status": "completed"
    },
    "tags": []
   },
   "outputs": [],
   "source": [
    "# np.sort(a,reverse = True)"
   ]
  },
  {
   "cell_type": "code",
   "execution_count": 314,
   "id": "a21b0719",
   "metadata": {
    "execution": {
     "iopub.execute_input": "2023-11-08T18:00:14.452905Z",
     "iopub.status.busy": "2023-11-08T18:00:14.452506Z",
     "iopub.status.idle": "2023-11-08T18:00:14.458855Z",
     "shell.execute_reply": "2023-11-08T18:00:14.456930Z"
    },
    "papermill": {
     "duration": 0.106605,
     "end_time": "2023-11-08T18:00:14.461063",
     "exception": false,
     "start_time": "2023-11-08T18:00:14.354458",
     "status": "completed"
    },
    "tags": []
   },
   "outputs": [],
   "source": [
    "# help(np.sort(a))"
   ]
  },
  {
   "cell_type": "code",
   "execution_count": 315,
   "id": "d21fa4cf",
   "metadata": {
    "execution": {
     "iopub.execute_input": "2023-11-08T18:00:14.652307Z",
     "iopub.status.busy": "2023-11-08T18:00:14.651903Z",
     "iopub.status.idle": "2023-11-08T18:00:14.661599Z",
     "shell.execute_reply": "2023-11-08T18:00:14.660123Z"
    },
    "papermill": {
     "duration": 0.107591,
     "end_time": "2023-11-08T18:00:14.664176",
     "exception": false,
     "start_time": "2023-11-08T18:00:14.556585",
     "status": "completed"
    },
    "tags": []
   },
   "outputs": [
    {
     "data": {
      "text/plain": [
       "array([140, 120, 115, 100])"
      ]
     },
     "execution_count": 315,
     "metadata": {},
     "output_type": "execute_result"
    }
   ],
   "source": [
    "np.sort(a)[::-1]"
   ]
  },
  {
   "cell_type": "code",
   "execution_count": 316,
   "id": "33c7c1c2",
   "metadata": {
    "execution": {
     "iopub.execute_input": "2023-11-08T18:00:14.870283Z",
     "iopub.status.busy": "2023-11-08T18:00:14.869847Z",
     "iopub.status.idle": "2023-11-08T18:00:14.877177Z",
     "shell.execute_reply": "2023-11-08T18:00:14.875615Z"
    },
    "papermill": {
     "duration": 0.115352,
     "end_time": "2023-11-08T18:00:14.880009",
     "exception": false,
     "start_time": "2023-11-08T18:00:14.764657",
     "status": "completed"
    },
    "tags": []
   },
   "outputs": [
    {
     "data": {
      "text/plain": [
       "[20, 15, 10]"
      ]
     },
     "execution_count": 316,
     "metadata": {},
     "output_type": "execute_result"
    }
   ],
   "source": [
    "a = [10,20,15]\n",
    "sorted(a,reverse = True)\n"
   ]
  },
  {
   "cell_type": "code",
   "execution_count": 317,
   "id": "68a5c637",
   "metadata": {
    "execution": {
     "iopub.execute_input": "2023-11-08T18:00:15.079001Z",
     "iopub.status.busy": "2023-11-08T18:00:15.078665Z",
     "iopub.status.idle": "2023-11-08T18:00:15.087055Z",
     "shell.execute_reply": "2023-11-08T18:00:15.085376Z"
    },
    "papermill": {
     "duration": 0.110492,
     "end_time": "2023-11-08T18:00:15.090235",
     "exception": false,
     "start_time": "2023-11-08T18:00:14.979743",
     "status": "completed"
    },
    "tags": []
   },
   "outputs": [
    {
     "name": "stdout",
     "output_type": "stream",
     "text": [
      "None\n"
     ]
    }
   ],
   "source": [
    "a = [10,20,30,15]\n",
    "print(a.sort())\n"
   ]
  },
  {
   "cell_type": "code",
   "execution_count": 318,
   "id": "a5cd3113",
   "metadata": {
    "execution": {
     "iopub.execute_input": "2023-11-08T18:00:15.284724Z",
     "iopub.status.busy": "2023-11-08T18:00:15.284293Z",
     "iopub.status.idle": "2023-11-08T18:00:15.291840Z",
     "shell.execute_reply": "2023-11-08T18:00:15.290725Z"
    },
    "papermill": {
     "duration": 0.107072,
     "end_time": "2023-11-08T18:00:15.294465",
     "exception": false,
     "start_time": "2023-11-08T18:00:15.187393",
     "status": "completed"
    },
    "tags": []
   },
   "outputs": [
    {
     "data": {
      "text/plain": [
       "[10, 15, 20, 30]"
      ]
     },
     "execution_count": 318,
     "metadata": {},
     "output_type": "execute_result"
    }
   ],
   "source": [
    "sorted(a)"
   ]
  },
  {
   "cell_type": "code",
   "execution_count": 319,
   "id": "43073c59",
   "metadata": {
    "execution": {
     "iopub.execute_input": "2023-11-08T18:00:15.486933Z",
     "iopub.status.busy": "2023-11-08T18:00:15.486526Z",
     "iopub.status.idle": "2023-11-08T18:00:15.493885Z",
     "shell.execute_reply": "2023-11-08T18:00:15.492550Z"
    },
    "papermill": {
     "duration": 0.10796,
     "end_time": "2023-11-08T18:00:15.496194",
     "exception": false,
     "start_time": "2023-11-08T18:00:15.388234",
     "status": "completed"
    },
    "tags": []
   },
   "outputs": [
    {
     "data": {
      "text/plain": [
       "[9, 10]"
      ]
     },
     "execution_count": 319,
     "metadata": {},
     "output_type": "execute_result"
    }
   ],
   "source": [
    "b = [10,9]\n",
    "b.sort()\n",
    "b"
   ]
  },
  {
   "cell_type": "code",
   "execution_count": 320,
   "id": "b0c964a5",
   "metadata": {
    "execution": {
     "iopub.execute_input": "2023-11-08T18:00:15.783667Z",
     "iopub.status.busy": "2023-11-08T18:00:15.783240Z",
     "iopub.status.idle": "2023-11-08T18:00:15.789536Z",
     "shell.execute_reply": "2023-11-08T18:00:15.787556Z"
    },
    "papermill": {
     "duration": 0.197153,
     "end_time": "2023-11-08T18:00:15.792840",
     "exception": false,
     "start_time": "2023-11-08T18:00:15.595687",
     "status": "completed"
    },
    "tags": []
   },
   "outputs": [],
   "source": [
    "# sort  inplace\n",
    "# soerted new list\n",
    "\n",
    "\n",
    "# np.sort()  new list "
   ]
  },
  {
   "cell_type": "code",
   "execution_count": 321,
   "id": "eb1b955c",
   "metadata": {
    "execution": {
     "iopub.execute_input": "2023-11-08T18:00:15.988160Z",
     "iopub.status.busy": "2023-11-08T18:00:15.987675Z",
     "iopub.status.idle": "2023-11-08T18:00:15.995987Z",
     "shell.execute_reply": "2023-11-08T18:00:15.995014Z"
    },
    "papermill": {
     "duration": 0.108752,
     "end_time": "2023-11-08T18:00:15.998069",
     "exception": false,
     "start_time": "2023-11-08T18:00:15.889317",
     "status": "completed"
    },
    "tags": []
   },
   "outputs": [
    {
     "data": {
      "text/plain": [
       "(array([0, 1, 4]),)"
      ]
     },
     "execution_count": 321,
     "metadata": {},
     "output_type": "execute_result"
    }
   ],
   "source": [
    "import numpy as np\n",
    "\n",
    "a = np.array([90,85,60,79,90])\n",
    "\n",
    "\n",
    "np.where ( a > 80)\n"
   ]
  },
  {
   "cell_type": "code",
   "execution_count": 322,
   "id": "676587ba",
   "metadata": {
    "execution": {
     "iopub.execute_input": "2023-11-08T18:00:16.204417Z",
     "iopub.status.busy": "2023-11-08T18:00:16.203963Z",
     "iopub.status.idle": "2023-11-08T18:00:16.215457Z",
     "shell.execute_reply": "2023-11-08T18:00:16.213018Z"
    },
    "papermill": {
     "duration": 0.118309,
     "end_time": "2023-11-08T18:00:16.219125",
     "exception": false,
     "start_time": "2023-11-08T18:00:16.100816",
     "status": "completed"
    },
    "tags": []
   },
   "outputs": [
    {
     "data": {
      "text/plain": [
       "array([[0.52191572, 0.69940637, 0.26986897],\n",
       "       [0.67448187, 0.90807208, 0.6851502 ]])"
      ]
     },
     "execution_count": 322,
     "metadata": {},
     "output_type": "execute_result"
    }
   ],
   "source": [
    "#seed\n",
    "np.random.seed(80)\n",
    "a = np.random.rand(2,3)\n",
    "a"
   ]
  },
  {
   "cell_type": "code",
   "execution_count": 323,
   "id": "05efdc27",
   "metadata": {
    "execution": {
     "iopub.execute_input": "2023-11-08T18:00:16.419940Z",
     "iopub.status.busy": "2023-11-08T18:00:16.419516Z",
     "iopub.status.idle": "2023-11-08T18:00:16.427081Z",
     "shell.execute_reply": "2023-11-08T18:00:16.425737Z"
    },
    "papermill": {
     "duration": 0.11284,
     "end_time": "2023-11-08T18:00:16.430097",
     "exception": false,
     "start_time": "2023-11-08T18:00:16.317257",
     "status": "completed"
    },
    "tags": []
   },
   "outputs": [
    {
     "data": {
      "text/plain": [
       "array([[0.21165334, 0.31726607, 0.2672994 ],\n",
       "       [0.12050632, 0.9968569 , 0.08043969]])"
      ]
     },
     "execution_count": 323,
     "metadata": {},
     "output_type": "execute_result"
    }
   ],
   "source": [
    "a = np.random.rand(2,3)\n",
    "a"
   ]
  },
  {
   "cell_type": "code",
   "execution_count": 324,
   "id": "61f168a9",
   "metadata": {
    "execution": {
     "iopub.execute_input": "2023-11-08T18:00:16.625034Z",
     "iopub.status.busy": "2023-11-08T18:00:16.624599Z",
     "iopub.status.idle": "2023-11-08T18:00:16.632714Z",
     "shell.execute_reply": "2023-11-08T18:00:16.631203Z"
    },
    "papermill": {
     "duration": 0.109893,
     "end_time": "2023-11-08T18:00:16.636677",
     "exception": false,
     "start_time": "2023-11-08T18:00:16.526784",
     "status": "completed"
    },
    "tags": []
   },
   "outputs": [
    {
     "data": {
      "text/plain": [
       "array([[0.52191572, 0.69940637, 0.26986897],\n",
       "       [0.67448187, 0.90807208, 0.6851502 ]])"
      ]
     },
     "execution_count": 324,
     "metadata": {},
     "output_type": "execute_result"
    }
   ],
   "source": [
    "np.random.seed(80)\n",
    "a = np.random.rand(2,3)\n",
    "a"
   ]
  },
  {
   "cell_type": "code",
   "execution_count": 325,
   "id": "995d4497",
   "metadata": {
    "execution": {
     "iopub.execute_input": "2023-11-08T18:00:16.839811Z",
     "iopub.status.busy": "2023-11-08T18:00:16.839178Z",
     "iopub.status.idle": "2023-11-08T18:00:16.847631Z",
     "shell.execute_reply": "2023-11-08T18:00:16.845899Z"
    },
    "papermill": {
     "duration": 0.114987,
     "end_time": "2023-11-08T18:00:16.851385",
     "exception": false,
     "start_time": "2023-11-08T18:00:16.736398",
     "status": "completed"
    },
    "tags": []
   },
   "outputs": [
    {
     "data": {
      "text/plain": [
       "array([20., 28., 36., 44., 52., 60.])"
      ]
     },
     "execution_count": 325,
     "metadata": {},
     "output_type": "execute_result"
    }
   ],
   "source": [
    "np.linspace(20,60,6)"
   ]
  },
  {
   "cell_type": "code",
   "execution_count": 326,
   "id": "93e70453",
   "metadata": {
    "execution": {
     "iopub.execute_input": "2023-11-08T18:00:17.048384Z",
     "iopub.status.busy": "2023-11-08T18:00:17.047927Z",
     "iopub.status.idle": "2023-11-08T18:00:17.055052Z",
     "shell.execute_reply": "2023-11-08T18:00:17.053687Z"
    },
    "papermill": {
     "duration": 0.106259,
     "end_time": "2023-11-08T18:00:17.056838",
     "exception": false,
     "start_time": "2023-11-08T18:00:16.950579",
     "status": "completed"
    },
    "tags": []
   },
   "outputs": [
    {
     "data": {
      "text/plain": [
       "array([[1., 1., 1.],\n",
       "       [1., 1., 1.],\n",
       "       [1., 1., 1.]])"
      ]
     },
     "execution_count": 326,
     "metadata": {},
     "output_type": "execute_result"
    }
   ],
   "source": [
    "a = np.ones((3,3))\n",
    "a"
   ]
  },
  {
   "cell_type": "code",
   "execution_count": 327,
   "id": "a992045d",
   "metadata": {
    "execution": {
     "iopub.execute_input": "2023-11-08T18:00:17.256547Z",
     "iopub.status.busy": "2023-11-08T18:00:17.256095Z",
     "iopub.status.idle": "2023-11-08T18:00:17.263005Z",
     "shell.execute_reply": "2023-11-08T18:00:17.261713Z"
    },
    "papermill": {
     "duration": 0.110334,
     "end_time": "2023-11-08T18:00:17.265868",
     "exception": false,
     "start_time": "2023-11-08T18:00:17.155534",
     "status": "completed"
    },
    "tags": []
   },
   "outputs": [
    {
     "data": {
      "text/plain": [
       "array([[0., 0., 0.],\n",
       "       [0., 0., 0.],\n",
       "       [0., 0., 0.]])"
      ]
     },
     "execution_count": 327,
     "metadata": {},
     "output_type": "execute_result"
    }
   ],
   "source": [
    "b = np.zeros((3,3))\n",
    "b"
   ]
  },
  {
   "cell_type": "code",
   "execution_count": 328,
   "id": "6ddf38bf",
   "metadata": {
    "execution": {
     "iopub.execute_input": "2023-11-08T18:00:17.469471Z",
     "iopub.status.busy": "2023-11-08T18:00:17.469059Z",
     "iopub.status.idle": "2023-11-08T18:00:17.475264Z",
     "shell.execute_reply": "2023-11-08T18:00:17.474402Z"
    },
    "papermill": {
     "duration": 0.108667,
     "end_time": "2023-11-08T18:00:17.476984",
     "exception": false,
     "start_time": "2023-11-08T18:00:17.368317",
     "status": "completed"
    },
    "tags": []
   },
   "outputs": [
    {
     "data": {
      "text/plain": [
       "array([[1., 1., 1.],\n",
       "       [1., 1., 1.],\n",
       "       [1., 1., 1.],\n",
       "       [0., 0., 0.],\n",
       "       [0., 0., 0.],\n",
       "       [0., 0., 0.]])"
      ]
     },
     "execution_count": 328,
     "metadata": {},
     "output_type": "execute_result"
    }
   ],
   "source": [
    "c  = np.vstack((a,b))\n",
    "c"
   ]
  },
  {
   "cell_type": "code",
   "execution_count": 329,
   "id": "4ece73b9",
   "metadata": {
    "execution": {
     "iopub.execute_input": "2023-11-08T18:00:17.669454Z",
     "iopub.status.busy": "2023-11-08T18:00:17.669016Z",
     "iopub.status.idle": "2023-11-08T18:00:17.673869Z",
     "shell.execute_reply": "2023-11-08T18:00:17.672248Z"
    },
    "papermill": {
     "duration": 0.105243,
     "end_time": "2023-11-08T18:00:17.676796",
     "exception": false,
     "start_time": "2023-11-08T18:00:17.571553",
     "status": "completed"
    },
    "tags": []
   },
   "outputs": [],
   "source": [
    "# d  = np.hstack((a,b))\n",
    "# e = np."
   ]
  },
  {
   "cell_type": "code",
   "execution_count": 330,
   "id": "e22240dd",
   "metadata": {
    "execution": {
     "iopub.execute_input": "2023-11-08T18:00:17.871644Z",
     "iopub.status.busy": "2023-11-08T18:00:17.871214Z",
     "iopub.status.idle": "2023-11-08T18:00:17.878084Z",
     "shell.execute_reply": "2023-11-08T18:00:17.877165Z"
    },
    "papermill": {
     "duration": 0.104417,
     "end_time": "2023-11-08T18:00:17.879980",
     "exception": false,
     "start_time": "2023-11-08T18:00:17.775563",
     "status": "completed"
    },
    "tags": []
   },
   "outputs": [
    {
     "data": {
      "text/plain": [
       "array([[0., 0., 0.],\n",
       "       [0., 0., 0.],\n",
       "       [0., 0., 0.]])"
      ]
     },
     "execution_count": 330,
     "metadata": {},
     "output_type": "execute_result"
    }
   ],
   "source": [
    "b = np.zeros((3,3))\n",
    "b"
   ]
  },
  {
   "cell_type": "code",
   "execution_count": 331,
   "id": "4a90c8c6",
   "metadata": {
    "execution": {
     "iopub.execute_input": "2023-11-08T18:00:18.071262Z",
     "iopub.status.busy": "2023-11-08T18:00:18.070863Z",
     "iopub.status.idle": "2023-11-08T18:00:18.074732Z",
     "shell.execute_reply": "2023-11-08T18:00:18.073806Z"
    },
    "papermill": {
     "duration": 0.100709,
     "end_time": "2023-11-08T18:00:18.076483",
     "exception": false,
     "start_time": "2023-11-08T18:00:17.975774",
     "status": "completed"
    },
    "tags": []
   },
   "outputs": [],
   "source": [
    "# np.genfromtxt(\"a.csv\")"
   ]
  },
  {
   "cell_type": "code",
   "execution_count": 332,
   "id": "1a5d3a88",
   "metadata": {
    "execution": {
     "iopub.execute_input": "2023-11-08T18:00:18.280839Z",
     "iopub.status.busy": "2023-11-08T18:00:18.280447Z",
     "iopub.status.idle": "2023-11-08T18:00:18.287431Z",
     "shell.execute_reply": "2023-11-08T18:00:18.285890Z"
    },
    "papermill": {
     "duration": 0.112425,
     "end_time": "2023-11-08T18:00:18.290725",
     "exception": false,
     "start_time": "2023-11-08T18:00:18.178300",
     "status": "completed"
    },
    "tags": []
   },
   "outputs": [],
   "source": [
    "np.save(\"parth.npy\",b)"
   ]
  },
  {
   "cell_type": "code",
   "execution_count": 333,
   "id": "8eb0e855",
   "metadata": {
    "execution": {
     "iopub.execute_input": "2023-11-08T18:00:18.567545Z",
     "iopub.status.busy": "2023-11-08T18:00:18.567088Z",
     "iopub.status.idle": "2023-11-08T18:00:18.576405Z",
     "shell.execute_reply": "2023-11-08T18:00:18.575158Z"
    },
    "papermill": {
     "duration": 0.192483,
     "end_time": "2023-11-08T18:00:18.579009",
     "exception": false,
     "start_time": "2023-11-08T18:00:18.386526",
     "status": "completed"
    },
    "tags": []
   },
   "outputs": [
    {
     "data": {
      "text/plain": [
       "array([[0., 0., 0.],\n",
       "       [0., 0., 0.],\n",
       "       [0., 0., 0.]])"
      ]
     },
     "execution_count": 333,
     "metadata": {},
     "output_type": "execute_result"
    }
   ],
   "source": [
    "np.load(\"parth.npy\")"
   ]
  },
  {
   "cell_type": "code",
   "execution_count": 334,
   "id": "b2608dd3",
   "metadata": {
    "execution": {
     "iopub.execute_input": "2023-11-08T18:00:18.777484Z",
     "iopub.status.busy": "2023-11-08T18:00:18.777094Z",
     "iopub.status.idle": "2023-11-08T18:00:18.784974Z",
     "shell.execute_reply": "2023-11-08T18:00:18.783598Z"
    },
    "papermill": {
     "duration": 0.11069,
     "end_time": "2023-11-08T18:00:18.787185",
     "exception": false,
     "start_time": "2023-11-08T18:00:18.676495",
     "status": "completed"
    },
    "tags": []
   },
   "outputs": [
    {
     "data": {
      "text/plain": [
       "array([[1., 1., 1., ..., 1., 1., 1.],\n",
       "       [1., 1., 1., ..., 1., 1., 1.],\n",
       "       [1., 1., 1., ..., 1., 1., 1.],\n",
       "       ...,\n",
       "       [1., 1., 1., ..., 1., 1., 1.],\n",
       "       [1., 1., 1., ..., 1., 1., 1.],\n",
       "       [1., 1., 1., ..., 1., 1., 1.]])"
      ]
     },
     "execution_count": 334,
     "metadata": {},
     "output_type": "execute_result"
    }
   ],
   "source": [
    "a = np.ones((8,240))\n",
    "a"
   ]
  },
  {
   "cell_type": "code",
   "execution_count": 335,
   "id": "a77d19ce",
   "metadata": {
    "execution": {
     "iopub.execute_input": "2023-11-08T18:00:18.983899Z",
     "iopub.status.busy": "2023-11-08T18:00:18.983395Z",
     "iopub.status.idle": "2023-11-08T18:00:18.993672Z",
     "shell.execute_reply": "2023-11-08T18:00:18.991459Z"
    },
    "papermill": {
     "duration": 0.111534,
     "end_time": "2023-11-08T18:00:18.997111",
     "exception": false,
     "start_time": "2023-11-08T18:00:18.885577",
     "status": "completed"
    },
    "tags": []
   },
   "outputs": [
    {
     "data": {
      "text/plain": [
       "array([[1., 1., 1., ..., 1., 1., 1.]])"
      ]
     },
     "execution_count": 335,
     "metadata": {},
     "output_type": "execute_result"
    }
   ],
   "source": [
    "a.reshape(1,-1)\n"
   ]
  },
  {
   "cell_type": "code",
   "execution_count": 336,
   "id": "0290b77a",
   "metadata": {
    "execution": {
     "iopub.execute_input": "2023-11-08T18:00:19.190330Z",
     "iopub.status.busy": "2023-11-08T18:00:19.189922Z",
     "iopub.status.idle": "2023-11-08T18:00:19.196520Z",
     "shell.execute_reply": "2023-11-08T18:00:19.195494Z"
    },
    "papermill": {
     "duration": 0.106643,
     "end_time": "2023-11-08T18:00:19.198447",
     "exception": false,
     "start_time": "2023-11-08T18:00:19.091804",
     "status": "completed"
    },
    "tags": []
   },
   "outputs": [
    {
     "data": {
      "text/plain": [
       "array([1., 1., 1., ..., 1., 1., 1.])"
      ]
     },
     "execution_count": 336,
     "metadata": {},
     "output_type": "execute_result"
    }
   ],
   "source": [
    "a.flatten()"
   ]
  },
  {
   "cell_type": "code",
   "execution_count": 337,
   "id": "24453209",
   "metadata": {
    "execution": {
     "iopub.execute_input": "2023-11-08T18:00:19.409401Z",
     "iopub.status.busy": "2023-11-08T18:00:19.409015Z",
     "iopub.status.idle": "2023-11-08T18:00:19.415310Z",
     "shell.execute_reply": "2023-11-08T18:00:19.412966Z"
    },
    "papermill": {
     "duration": 0.114962,
     "end_time": "2023-11-08T18:00:19.418599",
     "exception": false,
     "start_time": "2023-11-08T18:00:19.303637",
     "status": "completed"
    },
    "tags": []
   },
   "outputs": [],
   "source": [
    "a = np.zeros((4,4))"
   ]
  },
  {
   "cell_type": "code",
   "execution_count": 338,
   "id": "14d6a95d",
   "metadata": {
    "execution": {
     "iopub.execute_input": "2023-11-08T18:00:19.614620Z",
     "iopub.status.busy": "2023-11-08T18:00:19.614272Z",
     "iopub.status.idle": "2023-11-08T18:00:19.621383Z",
     "shell.execute_reply": "2023-11-08T18:00:19.620240Z"
    },
    "papermill": {
     "duration": 0.106942,
     "end_time": "2023-11-08T18:00:19.624737",
     "exception": false,
     "start_time": "2023-11-08T18:00:19.517795",
     "status": "completed"
    },
    "tags": []
   },
   "outputs": [
    {
     "data": {
      "text/plain": [
       "(2, 8)"
      ]
     },
     "execution_count": 338,
     "metadata": {},
     "output_type": "execute_result"
    }
   ],
   "source": [
    "a = a.reshape(2,8)\n",
    "a.shape"
   ]
  },
  {
   "cell_type": "code",
   "execution_count": 339,
   "id": "d66a7c27",
   "metadata": {
    "execution": {
     "iopub.execute_input": "2023-11-08T18:00:19.819692Z",
     "iopub.status.busy": "2023-11-08T18:00:19.819262Z",
     "iopub.status.idle": "2023-11-08T18:00:19.826814Z",
     "shell.execute_reply": "2023-11-08T18:00:19.825403Z"
    },
    "papermill": {
     "duration": 0.108563,
     "end_time": "2023-11-08T18:00:19.829354",
     "exception": false,
     "start_time": "2023-11-08T18:00:19.720791",
     "status": "completed"
    },
    "tags": []
   },
   "outputs": [
    {
     "data": {
      "text/plain": [
       "(2, 8)"
      ]
     },
     "execution_count": 339,
     "metadata": {},
     "output_type": "execute_result"
    }
   ],
   "source": [
    "a = a.reshape(2,-1)\n",
    "a.shape"
   ]
  },
  {
   "cell_type": "code",
   "execution_count": 340,
   "id": "e1d750d8",
   "metadata": {
    "execution": {
     "iopub.execute_input": "2023-11-08T18:00:20.020561Z",
     "iopub.status.busy": "2023-11-08T18:00:20.020208Z",
     "iopub.status.idle": "2023-11-08T18:00:20.027911Z",
     "shell.execute_reply": "2023-11-08T18:00:20.026324Z"
    },
    "papermill": {
     "duration": 0.10663,
     "end_time": "2023-11-08T18:00:20.030843",
     "exception": false,
     "start_time": "2023-11-08T18:00:19.924213",
     "status": "completed"
    },
    "tags": []
   },
   "outputs": [
    {
     "data": {
      "text/plain": [
       "array([ 9,  8,  6, 88, 99])"
      ]
     },
     "execution_count": 340,
     "metadata": {},
     "output_type": "execute_result"
    }
   ],
   "source": [
    "c = np.array([9,8,6])\n",
    "b = np.append(c,[88,99])\n",
    "b"
   ]
  },
  {
   "cell_type": "code",
   "execution_count": 341,
   "id": "63fd31a5",
   "metadata": {
    "execution": {
     "iopub.execute_input": "2023-11-08T18:00:20.225530Z",
     "iopub.status.busy": "2023-11-08T18:00:20.225166Z",
     "iopub.status.idle": "2023-11-08T18:00:20.234621Z",
     "shell.execute_reply": "2023-11-08T18:00:20.232575Z"
    },
    "papermill": {
     "duration": 0.109513,
     "end_time": "2023-11-08T18:00:20.237588",
     "exception": false,
     "start_time": "2023-11-08T18:00:20.128075",
     "status": "completed"
    },
    "tags": []
   },
   "outputs": [
    {
     "data": {
      "text/plain": [
       "array([ 9, 88, 99,  8,  6])"
      ]
     },
     "execution_count": 341,
     "metadata": {},
     "output_type": "execute_result"
    }
   ],
   "source": [
    "c = np.array([9,8,6])\n",
    "b = np.insert(c,1,[88,99])\n",
    "b"
   ]
  },
  {
   "cell_type": "code",
   "execution_count": 342,
   "id": "8811a728",
   "metadata": {
    "execution": {
     "iopub.execute_input": "2023-11-08T18:00:20.435044Z",
     "iopub.status.busy": "2023-11-08T18:00:20.434643Z",
     "iopub.status.idle": "2023-11-08T18:00:20.442933Z",
     "shell.execute_reply": "2023-11-08T18:00:20.441678Z"
    },
    "papermill": {
     "duration": 0.10805,
     "end_time": "2023-11-08T18:00:20.446685",
     "exception": false,
     "start_time": "2023-11-08T18:00:20.338635",
     "status": "completed"
    },
    "tags": []
   },
   "outputs": [
    {
     "data": {
      "text/plain": [
       "array([9, 8])"
      ]
     },
     "execution_count": 342,
     "metadata": {},
     "output_type": "execute_result"
    }
   ],
   "source": [
    "c = np.array([9,8,6])\n",
    "b = np.delete(c,2)\n",
    "b"
   ]
  },
  {
   "cell_type": "code",
   "execution_count": 343,
   "id": "f13500ca",
   "metadata": {
    "execution": {
     "iopub.execute_input": "2023-11-08T18:00:20.652997Z",
     "iopub.status.busy": "2023-11-08T18:00:20.652006Z",
     "iopub.status.idle": "2023-11-08T18:00:20.660070Z",
     "shell.execute_reply": "2023-11-08T18:00:20.658524Z"
    },
    "papermill": {
     "duration": 0.114179,
     "end_time": "2023-11-08T18:00:20.662744",
     "exception": false,
     "start_time": "2023-11-08T18:00:20.548565",
     "status": "completed"
    },
    "tags": []
   },
   "outputs": [
    {
     "data": {
      "text/plain": [
       "array([[1., 1.],\n",
       "       [1., 1.],\n",
       "       [1., 1.],\n",
       "       [1., 1.],\n",
       "       [1., 1.],\n",
       "       [1., 1.],\n",
       "       [1., 1.],\n",
       "       [1., 1.]])"
      ]
     },
     "execution_count": 343,
     "metadata": {},
     "output_type": "execute_result"
    }
   ],
   "source": [
    "a= np.ones((4,4))\n",
    "a = a.reshape((8,-1))\n",
    "a"
   ]
  },
  {
   "cell_type": "code",
   "execution_count": 344,
   "id": "41ee077a",
   "metadata": {
    "execution": {
     "iopub.execute_input": "2023-11-08T18:00:20.858995Z",
     "iopub.status.busy": "2023-11-08T18:00:20.858545Z",
     "iopub.status.idle": "2023-11-08T18:00:20.867021Z",
     "shell.execute_reply": "2023-11-08T18:00:20.865924Z"
    },
    "papermill": {
     "duration": 0.108102,
     "end_time": "2023-11-08T18:00:20.869932",
     "exception": false,
     "start_time": "2023-11-08T18:00:20.761830",
     "status": "completed"
    },
    "tags": []
   },
   "outputs": [
    {
     "data": {
      "text/plain": [
       "array([[1., 1.],\n",
       "       [1., 1.],\n",
       "       [1., 1.],\n",
       "       [1., 1.],\n",
       "       [1., 1.],\n",
       "       [1., 1.],\n",
       "       [1., 1.],\n",
       "       [1., 1.]])"
      ]
     },
     "execution_count": 344,
     "metadata": {},
     "output_type": "execute_result"
    }
   ],
   "source": [
    "a= np.ones((4,4))\n",
    "a.resize((8,2))\n",
    "a"
   ]
  },
  {
   "cell_type": "code",
   "execution_count": 345,
   "id": "2cad8cc7",
   "metadata": {
    "execution": {
     "iopub.execute_input": "2023-11-08T18:00:21.071779Z",
     "iopub.status.busy": "2023-11-08T18:00:21.071210Z",
     "iopub.status.idle": "2023-11-08T18:00:21.080843Z",
     "shell.execute_reply": "2023-11-08T18:00:21.078509Z"
    },
    "papermill": {
     "duration": 0.114339,
     "end_time": "2023-11-08T18:00:21.084024",
     "exception": false,
     "start_time": "2023-11-08T18:00:20.969685",
     "status": "completed"
    },
    "tags": []
   },
   "outputs": [
    {
     "data": {
      "text/plain": [
       "array([False,  True, False, False])"
      ]
     },
     "execution_count": 345,
     "metadata": {},
     "output_type": "execute_result"
    }
   ],
   "source": [
    "a = np.array([True, True, True, False])\n",
    "b = np.array([False, True,False, False])\n",
    "\n",
    "c = np.logical_and(a,b)\n",
    "c"
   ]
  },
  {
   "cell_type": "code",
   "execution_count": 346,
   "id": "8a81471f",
   "metadata": {
    "execution": {
     "iopub.execute_input": "2023-11-08T18:00:21.378656Z",
     "iopub.status.busy": "2023-11-08T18:00:21.378215Z",
     "iopub.status.idle": "2023-11-08T18:00:21.386815Z",
     "shell.execute_reply": "2023-11-08T18:00:21.384551Z"
    },
    "papermill": {
     "duration": 0.208244,
     "end_time": "2023-11-08T18:00:21.390035",
     "exception": false,
     "start_time": "2023-11-08T18:00:21.181791",
     "status": "completed"
    },
    "tags": []
   },
   "outputs": [
    {
     "data": {
      "text/plain": [
       "array([ True,  True,  True, False])"
      ]
     },
     "execution_count": 346,
     "metadata": {},
     "output_type": "execute_result"
    }
   ],
   "source": [
    "a = np.array([True, True, True, False])\n",
    "b = np.array([False, True,False, False])\n",
    "\n",
    "c = np.logical_or(a,b)\n",
    "c"
   ]
  },
  {
   "cell_type": "code",
   "execution_count": 347,
   "id": "f0749e46",
   "metadata": {
    "execution": {
     "iopub.execute_input": "2023-11-08T18:00:21.596390Z",
     "iopub.status.busy": "2023-11-08T18:00:21.595962Z",
     "iopub.status.idle": "2023-11-08T18:00:21.604694Z",
     "shell.execute_reply": "2023-11-08T18:00:21.602879Z"
    },
    "papermill": {
     "duration": 0.114566,
     "end_time": "2023-11-08T18:00:21.607850",
     "exception": false,
     "start_time": "2023-11-08T18:00:21.493284",
     "status": "completed"
    },
    "tags": []
   },
   "outputs": [
    {
     "data": {
      "text/plain": [
       "array([False, False, False,  True])"
      ]
     },
     "execution_count": 347,
     "metadata": {},
     "output_type": "execute_result"
    }
   ],
   "source": [
    "a = np.array([True, True, True, False])\n",
    "b = np.logical_not(a)\n",
    "b"
   ]
  },
  {
   "cell_type": "code",
   "execution_count": 348,
   "id": "5ea6a65e",
   "metadata": {
    "execution": {
     "iopub.execute_input": "2023-11-08T18:00:21.811642Z",
     "iopub.status.busy": "2023-11-08T18:00:21.810855Z",
     "iopub.status.idle": "2023-11-08T18:00:21.818088Z",
     "shell.execute_reply": "2023-11-08T18:00:21.817193Z"
    },
    "papermill": {
     "duration": 0.114374,
     "end_time": "2023-11-08T18:00:21.820256",
     "exception": false,
     "start_time": "2023-11-08T18:00:21.705882",
     "status": "completed"
    },
    "tags": []
   },
   "outputs": [
    {
     "data": {
      "text/plain": [
       "array([20, 30])"
      ]
     },
     "execution_count": 348,
     "metadata": {},
     "output_type": "execute_result"
    }
   ],
   "source": [
    "a = np.array([10,20,30])\n",
    "a[np.where ( a > 15)]\n"
   ]
  },
  {
   "cell_type": "code",
   "execution_count": null,
   "id": "4c223758",
   "metadata": {
    "papermill": {
     "duration": 0.095393,
     "end_time": "2023-11-08T18:00:22.028290",
     "exception": false,
     "start_time": "2023-11-08T18:00:21.932897",
     "status": "completed"
    },
    "tags": []
   },
   "outputs": [],
   "source": []
  },
  {
   "cell_type": "code",
   "execution_count": null,
   "id": "d01be239",
   "metadata": {
    "papermill": {
     "duration": 0.098899,
     "end_time": "2023-11-08T18:00:22.223774",
     "exception": false,
     "start_time": "2023-11-08T18:00:22.124875",
     "status": "completed"
    },
    "tags": []
   },
   "outputs": [],
   "source": []
  },
  {
   "cell_type": "code",
   "execution_count": null,
   "id": "d815569c",
   "metadata": {
    "papermill": {
     "duration": 0.098243,
     "end_time": "2023-11-08T18:00:22.424176",
     "exception": false,
     "start_time": "2023-11-08T18:00:22.325933",
     "status": "completed"
    },
    "tags": []
   },
   "outputs": [],
   "source": []
  },
  {
   "cell_type": "code",
   "execution_count": null,
   "id": "ca17a325",
   "metadata": {
    "papermill": {
     "duration": 0.09576,
     "end_time": "2023-11-08T18:00:22.616604",
     "exception": false,
     "start_time": "2023-11-08T18:00:22.520844",
     "status": "completed"
    },
    "tags": []
   },
   "outputs": [],
   "source": []
  }
 ],
 "metadata": {
  "kernelspec": {
   "display_name": "Python 3",
   "language": "python",
   "name": "python3"
  },
  "language_info": {
   "codemirror_mode": {
    "name": "ipython",
    "version": 3
   },
   "file_extension": ".py",
   "mimetype": "text/x-python",
   "name": "python",
   "nbconvert_exporter": "python",
   "pygments_lexer": "ipython3",
   "version": "3.10.12"
  },
  "papermill": {
   "default_parameters": {},
   "duration": 70.936143,
   "end_time": "2023-11-08T18:00:23.132862",
   "environment_variables": {},
   "exception": null,
   "input_path": "__notebook__.ipynb",
   "output_path": "__notebook__.ipynb",
   "parameters": {},
   "start_time": "2023-11-08T17:59:12.196719",
   "version": "2.4.0"
  }
 },
 "nbformat": 4,
 "nbformat_minor": 5
}
