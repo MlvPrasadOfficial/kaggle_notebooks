{
 "cells": [
  {
   "cell_type": "code",
   "execution_count": 1,
   "id": "3116979a",
   "metadata": {
    "_cell_guid": "b1076dfc-b9ad-4769-8c92-a6c4dae69d19",
    "_uuid": "8f2839f25d086af736a60e9eeb907d3b93b6e0e5",
    "execution": {
     "iopub.execute_input": "2023-10-20T17:54:30.358194Z",
     "iopub.status.busy": "2023-10-20T17:54:30.357396Z",
     "iopub.status.idle": "2023-10-20T17:54:30.369938Z",
     "shell.execute_reply": "2023-10-20T17:54:30.369095Z"
    },
    "papermill": {
     "duration": 0.078334,
     "end_time": "2023-10-20T17:54:30.376135",
     "exception": false,
     "start_time": "2023-10-20T17:54:30.297801",
     "status": "completed"
    },
    "tags": []
   },
   "outputs": [
    {
     "name": "stdout",
     "output_type": "stream",
     "text": [
      "6\n",
      "---\n",
      "6\n"
     ]
    }
   ],
   "source": [
    "a = 6\n",
    "print(a)\n",
    "print(\"---\")\n",
    "# a = \n",
    "print(a)"
   ]
  },
  {
   "cell_type": "code",
   "execution_count": 2,
   "id": "7dc630e1",
   "metadata": {
    "execution": {
     "iopub.execute_input": "2023-10-20T17:54:30.489027Z",
     "iopub.status.busy": "2023-10-20T17:54:30.488291Z",
     "iopub.status.idle": "2023-10-20T17:54:30.496727Z",
     "shell.execute_reply": "2023-10-20T17:54:30.495199Z"
    },
    "papermill": {
     "duration": 0.068267,
     "end_time": "2023-10-20T17:54:30.499768",
     "exception": false,
     "start_time": "2023-10-20T17:54:30.431501",
     "status": "completed"
    },
    "tags": []
   },
   "outputs": [
    {
     "data": {
      "text/plain": [
       "6"
      ]
     },
     "execution_count": 2,
     "metadata": {},
     "output_type": "execute_result"
    }
   ],
   "source": [
    "a"
   ]
  },
  {
   "cell_type": "code",
   "execution_count": 3,
   "id": "25f0870a",
   "metadata": {
    "execution": {
     "iopub.execute_input": "2023-10-20T17:54:30.680805Z",
     "iopub.status.busy": "2023-10-20T17:54:30.679853Z",
     "iopub.status.idle": "2023-10-20T17:54:30.684632Z",
     "shell.execute_reply": "2023-10-20T17:54:30.683701Z"
    },
    "papermill": {
     "duration": 0.063727,
     "end_time": "2023-10-20T17:54:30.687203",
     "exception": false,
     "start_time": "2023-10-20T17:54:30.623476",
     "status": "completed"
    },
    "tags": []
   },
   "outputs": [],
   "source": [
    "a = 7"
   ]
  },
  {
   "cell_type": "markdown",
   "id": "93d44807",
   "metadata": {
    "papermill": {
     "duration": 0.051324,
     "end_time": "2023-10-20T17:54:30.791804",
     "exception": false,
     "start_time": "2023-10-20T17:54:30.740480",
     "status": "completed"
    },
    "tags": []
   },
   "source": [
    "# data types"
   ]
  },
  {
   "cell_type": "code",
   "execution_count": 4,
   "id": "da94ef99",
   "metadata": {
    "execution": {
     "iopub.execute_input": "2023-10-20T17:54:30.899447Z",
     "iopub.status.busy": "2023-10-20T17:54:30.898386Z",
     "iopub.status.idle": "2023-10-20T17:54:30.905242Z",
     "shell.execute_reply": "2023-10-20T17:54:30.903614Z"
    },
    "papermill": {
     "duration": 0.063654,
     "end_time": "2023-10-20T17:54:30.908286",
     "exception": false,
     "start_time": "2023-10-20T17:54:30.844632",
     "status": "completed"
    },
    "tags": []
   },
   "outputs": [
    {
     "name": "stdout",
     "output_type": "stream",
     "text": [
      "6\n"
     ]
    }
   ],
   "source": [
    "abhi = 6\n",
    "\n",
    "print(abhi)"
   ]
  },
  {
   "cell_type": "code",
   "execution_count": 5,
   "id": "ec271f0b",
   "metadata": {
    "execution": {
     "iopub.execute_input": "2023-10-20T17:54:31.019005Z",
     "iopub.status.busy": "2023-10-20T17:54:31.018116Z",
     "iopub.status.idle": "2023-10-20T17:54:31.025055Z",
     "shell.execute_reply": "2023-10-20T17:54:31.023814Z"
    },
    "papermill": {
     "duration": 0.064467,
     "end_time": "2023-10-20T17:54:31.027504",
     "exception": false,
     "start_time": "2023-10-20T17:54:30.963037",
     "status": "completed"
    },
    "tags": []
   },
   "outputs": [
    {
     "data": {
      "text/plain": [
       "int"
      ]
     },
     "execution_count": 5,
     "metadata": {},
     "output_type": "execute_result"
    }
   ],
   "source": [
    "type(abhi)"
   ]
  },
  {
   "cell_type": "code",
   "execution_count": 6,
   "id": "1fa19475",
   "metadata": {
    "execution": {
     "iopub.execute_input": "2023-10-20T17:54:31.135999Z",
     "iopub.status.busy": "2023-10-20T17:54:31.135159Z",
     "iopub.status.idle": "2023-10-20T17:54:31.142023Z",
     "shell.execute_reply": "2023-10-20T17:54:31.140924Z"
    },
    "papermill": {
     "duration": 0.064463,
     "end_time": "2023-10-20T17:54:31.144458",
     "exception": false,
     "start_time": "2023-10-20T17:54:31.079995",
     "status": "completed"
    },
    "tags": []
   },
   "outputs": [
    {
     "data": {
      "text/plain": [
       "float"
      ]
     },
     "execution_count": 6,
     "metadata": {},
     "output_type": "execute_result"
    }
   ],
   "source": [
    "swa = 6.5\n",
    "type(swa)"
   ]
  },
  {
   "cell_type": "code",
   "execution_count": 7,
   "id": "935a0ce3",
   "metadata": {
    "execution": {
     "iopub.execute_input": "2023-10-20T17:54:31.251034Z",
     "iopub.status.busy": "2023-10-20T17:54:31.250518Z",
     "iopub.status.idle": "2023-10-20T17:54:31.258613Z",
     "shell.execute_reply": "2023-10-20T17:54:31.257389Z"
    },
    "papermill": {
     "duration": 0.064346,
     "end_time": "2023-10-20T17:54:31.261087",
     "exception": false,
     "start_time": "2023-10-20T17:54:31.196741",
     "status": "completed"
    },
    "tags": []
   },
   "outputs": [
    {
     "data": {
      "text/plain": [
       "complex"
      ]
     },
     "execution_count": 7,
     "metadata": {},
     "output_type": "execute_result"
    }
   ],
   "source": [
    "pra = 3 + 2j\n",
    "\n",
    "type(pra)"
   ]
  },
  {
   "cell_type": "code",
   "execution_count": 8,
   "id": "ffc4843c",
   "metadata": {
    "execution": {
     "iopub.execute_input": "2023-10-20T17:54:31.367971Z",
     "iopub.status.busy": "2023-10-20T17:54:31.367004Z",
     "iopub.status.idle": "2023-10-20T17:54:31.374010Z",
     "shell.execute_reply": "2023-10-20T17:54:31.372965Z"
    },
    "papermill": {
     "duration": 0.063201,
     "end_time": "2023-10-20T17:54:31.376267",
     "exception": false,
     "start_time": "2023-10-20T17:54:31.313066",
     "status": "completed"
    },
    "tags": []
   },
   "outputs": [
    {
     "data": {
      "text/plain": [
       "str"
      ]
     },
     "execution_count": 8,
     "metadata": {},
     "output_type": "execute_result"
    }
   ],
   "source": [
    "x = \"sush\"\n",
    "type(x)"
   ]
  },
  {
   "cell_type": "code",
   "execution_count": 9,
   "id": "aa737af9",
   "metadata": {
    "execution": {
     "iopub.execute_input": "2023-10-20T17:54:31.485241Z",
     "iopub.status.busy": "2023-10-20T17:54:31.484160Z",
     "iopub.status.idle": "2023-10-20T17:54:31.493044Z",
     "shell.execute_reply": "2023-10-20T17:54:31.491802Z"
    },
    "papermill": {
     "duration": 0.067578,
     "end_time": "2023-10-20T17:54:31.496061",
     "exception": false,
     "start_time": "2023-10-20T17:54:31.428483",
     "status": "completed"
    },
    "tags": []
   },
   "outputs": [
    {
     "data": {
      "text/plain": [
       "int"
      ]
     },
     "execution_count": 9,
     "metadata": {},
     "output_type": "execute_result"
    }
   ],
   "source": [
    "z = 44 - 5 - 14\n",
    "z\n",
    "type(z)"
   ]
  },
  {
   "cell_type": "code",
   "execution_count": 10,
   "id": "fa1347a1",
   "metadata": {
    "execution": {
     "iopub.execute_input": "2023-10-20T17:54:31.606222Z",
     "iopub.status.busy": "2023-10-20T17:54:31.605485Z",
     "iopub.status.idle": "2023-10-20T17:54:31.614489Z",
     "shell.execute_reply": "2023-10-20T17:54:31.612855Z"
    },
    "papermill": {
     "duration": 0.066106,
     "end_time": "2023-10-20T17:54:31.617165",
     "exception": false,
     "start_time": "2023-10-20T17:54:31.551059",
     "status": "completed"
    },
    "tags": []
   },
   "outputs": [
    {
     "data": {
      "text/plain": [
       "'44-5-14'"
      ]
     },
     "execution_count": 10,
     "metadata": {},
     "output_type": "execute_result"
    }
   ],
   "source": [
    "y = \"44-5-14\"\n",
    "y"
   ]
  },
  {
   "cell_type": "code",
   "execution_count": 11,
   "id": "dd6f32d8",
   "metadata": {
    "execution": {
     "iopub.execute_input": "2023-10-20T17:54:31.742952Z",
     "iopub.status.busy": "2023-10-20T17:54:31.742051Z",
     "iopub.status.idle": "2023-10-20T17:54:31.749794Z",
     "shell.execute_reply": "2023-10-20T17:54:31.748353Z"
    },
    "papermill": {
     "duration": 0.070062,
     "end_time": "2023-10-20T17:54:31.752641",
     "exception": false,
     "start_time": "2023-10-20T17:54:31.682579",
     "status": "completed"
    },
    "tags": []
   },
   "outputs": [
    {
     "data": {
      "text/plain": [
       "str"
      ]
     },
     "execution_count": 11,
     "metadata": {},
     "output_type": "execute_result"
    }
   ],
   "source": [
    "type(y)"
   ]
  },
  {
   "cell_type": "markdown",
   "id": "b53528ff",
   "metadata": {
    "papermill": {
     "duration": 0.073734,
     "end_time": "2023-10-20T17:54:31.886625",
     "exception": false,
     "start_time": "2023-10-20T17:54:31.812891",
     "status": "completed"
    },
    "tags": []
   },
   "source": [
    "# type casting"
   ]
  },
  {
   "cell_type": "code",
   "execution_count": 12,
   "id": "ad69d34a",
   "metadata": {
    "execution": {
     "iopub.execute_input": "2023-10-20T17:54:32.007437Z",
     "iopub.status.busy": "2023-10-20T17:54:32.006907Z",
     "iopub.status.idle": "2023-10-20T17:54:32.016452Z",
     "shell.execute_reply": "2023-10-20T17:54:32.014648Z"
    },
    "papermill": {
     "duration": 0.06998,
     "end_time": "2023-10-20T17:54:32.019750",
     "exception": false,
     "start_time": "2023-10-20T17:54:31.949770",
     "status": "completed"
    },
    "tags": []
   },
   "outputs": [
    {
     "data": {
      "text/plain": [
       "float"
      ]
     },
     "execution_count": 12,
     "metadata": {},
     "output_type": "execute_result"
    }
   ],
   "source": [
    "a = 6.5\n",
    "type(a)"
   ]
  },
  {
   "cell_type": "code",
   "execution_count": 13,
   "id": "a6861f15",
   "metadata": {
    "execution": {
     "iopub.execute_input": "2023-10-20T17:54:32.141076Z",
     "iopub.status.busy": "2023-10-20T17:54:32.139713Z",
     "iopub.status.idle": "2023-10-20T17:54:32.148016Z",
     "shell.execute_reply": "2023-10-20T17:54:32.146988Z"
    },
    "papermill": {
     "duration": 0.070407,
     "end_time": "2023-10-20T17:54:32.150700",
     "exception": false,
     "start_time": "2023-10-20T17:54:32.080293",
     "status": "completed"
    },
    "tags": []
   },
   "outputs": [
    {
     "data": {
      "text/plain": [
       "6"
      ]
     },
     "execution_count": 13,
     "metadata": {},
     "output_type": "execute_result"
    }
   ],
   "source": [
    "b = int(a)\n",
    "b"
   ]
  },
  {
   "cell_type": "code",
   "execution_count": 14,
   "id": "849bce6f",
   "metadata": {
    "execution": {
     "iopub.execute_input": "2023-10-20T17:54:32.266408Z",
     "iopub.status.busy": "2023-10-20T17:54:32.266036Z",
     "iopub.status.idle": "2023-10-20T17:54:32.273575Z",
     "shell.execute_reply": "2023-10-20T17:54:32.272141Z"
    },
    "papermill": {
     "duration": 0.069525,
     "end_time": "2023-10-20T17:54:32.276385",
     "exception": false,
     "start_time": "2023-10-20T17:54:32.206860",
     "status": "completed"
    },
    "tags": []
   },
   "outputs": [
    {
     "data": {
      "text/plain": [
       "int"
      ]
     },
     "execution_count": 14,
     "metadata": {},
     "output_type": "execute_result"
    }
   ],
   "source": [
    "type(b)"
   ]
  },
  {
   "cell_type": "code",
   "execution_count": 15,
   "id": "88297bed",
   "metadata": {
    "execution": {
     "iopub.execute_input": "2023-10-20T17:54:32.391812Z",
     "iopub.status.busy": "2023-10-20T17:54:32.391399Z",
     "iopub.status.idle": "2023-10-20T17:54:32.398759Z",
     "shell.execute_reply": "2023-10-20T17:54:32.397476Z"
    },
    "papermill": {
     "duration": 0.069103,
     "end_time": "2023-10-20T17:54:32.401458",
     "exception": false,
     "start_time": "2023-10-20T17:54:32.332355",
     "status": "completed"
    },
    "tags": []
   },
   "outputs": [
    {
     "data": {
      "text/plain": [
       "6.0"
      ]
     },
     "execution_count": 15,
     "metadata": {},
     "output_type": "execute_result"
    }
   ],
   "source": [
    "c = float(b)\n",
    "c"
   ]
  },
  {
   "cell_type": "code",
   "execution_count": 16,
   "id": "5f0c4209",
   "metadata": {
    "execution": {
     "iopub.execute_input": "2023-10-20T17:54:32.516762Z",
     "iopub.status.busy": "2023-10-20T17:54:32.515734Z",
     "iopub.status.idle": "2023-10-20T17:54:32.522778Z",
     "shell.execute_reply": "2023-10-20T17:54:32.521711Z"
    },
    "papermill": {
     "duration": 0.066468,
     "end_time": "2023-10-20T17:54:32.525220",
     "exception": false,
     "start_time": "2023-10-20T17:54:32.458752",
     "status": "completed"
    },
    "tags": []
   },
   "outputs": [
    {
     "data": {
      "text/plain": [
       "float"
      ]
     },
     "execution_count": 16,
     "metadata": {},
     "output_type": "execute_result"
    }
   ],
   "source": [
    "type(c)"
   ]
  },
  {
   "cell_type": "code",
   "execution_count": 17,
   "id": "b397d24b",
   "metadata": {
    "execution": {
     "iopub.execute_input": "2023-10-20T17:54:32.641355Z",
     "iopub.status.busy": "2023-10-20T17:54:32.640926Z",
     "iopub.status.idle": "2023-10-20T17:54:32.647982Z",
     "shell.execute_reply": "2023-10-20T17:54:32.646964Z"
    },
    "papermill": {
     "duration": 0.069361,
     "end_time": "2023-10-20T17:54:32.650335",
     "exception": false,
     "start_time": "2023-10-20T17:54:32.580974",
     "status": "completed"
    },
    "tags": []
   },
   "outputs": [
    {
     "data": {
      "text/plain": [
       "'667'"
      ]
     },
     "execution_count": 17,
     "metadata": {},
     "output_type": "execute_result"
    }
   ],
   "source": [
    "g = \"66\"\n",
    "h = \"7\"\n",
    "\n",
    "g + h"
   ]
  },
  {
   "cell_type": "code",
   "execution_count": 18,
   "id": "7d4cf40f",
   "metadata": {
    "execution": {
     "iopub.execute_input": "2023-10-20T17:54:32.770132Z",
     "iopub.status.busy": "2023-10-20T17:54:32.769733Z",
     "iopub.status.idle": "2023-10-20T17:54:32.778425Z",
     "shell.execute_reply": "2023-10-20T17:54:32.777043Z"
    },
    "papermill": {
     "duration": 0.070841,
     "end_time": "2023-10-20T17:54:32.781152",
     "exception": false,
     "start_time": "2023-10-20T17:54:32.710311",
     "status": "completed"
    },
    "tags": []
   },
   "outputs": [
    {
     "data": {
      "text/plain": [
       "73"
      ]
     },
     "execution_count": 18,
     "metadata": {},
     "output_type": "execute_result"
    }
   ],
   "source": [
    "i = 66\n",
    "j = 7\n",
    "i + j"
   ]
  },
  {
   "cell_type": "code",
   "execution_count": 19,
   "id": "51e2ab51",
   "metadata": {
    "execution": {
     "iopub.execute_input": "2023-10-20T17:54:32.898461Z",
     "iopub.status.busy": "2023-10-20T17:54:32.897857Z",
     "iopub.status.idle": "2023-10-20T17:54:32.906334Z",
     "shell.execute_reply": "2023-10-20T17:54:32.905081Z"
    },
    "papermill": {
     "duration": 0.069665,
     "end_time": "2023-10-20T17:54:32.909359",
     "exception": false,
     "start_time": "2023-10-20T17:54:32.839694",
     "status": "completed"
    },
    "tags": []
   },
   "outputs": [
    {
     "data": {
      "text/plain": [
       "'667'"
      ]
     },
     "execution_count": 19,
     "metadata": {},
     "output_type": "execute_result"
    }
   ],
   "source": [
    "p = \"66\"\n",
    "q = 7\n",
    "# \"667\"\n",
    "p + str(q)"
   ]
  },
  {
   "cell_type": "code",
   "execution_count": 20,
   "id": "269c5898",
   "metadata": {
    "execution": {
     "iopub.execute_input": "2023-10-20T17:54:33.029630Z",
     "iopub.status.busy": "2023-10-20T17:54:33.028211Z",
     "iopub.status.idle": "2023-10-20T17:54:33.036929Z",
     "shell.execute_reply": "2023-10-20T17:54:33.035701Z"
    },
    "papermill": {
     "duration": 0.070841,
     "end_time": "2023-10-20T17:54:33.039434",
     "exception": false,
     "start_time": "2023-10-20T17:54:32.968593",
     "status": "completed"
    },
    "tags": []
   },
   "outputs": [
    {
     "data": {
      "text/plain": [
       "73"
      ]
     },
     "execution_count": 20,
     "metadata": {},
     "output_type": "execute_result"
    }
   ],
   "source": [
    "p = \"66\"\n",
    "q = 7\n",
    "int(p) + q"
   ]
  },
  {
   "cell_type": "code",
   "execution_count": 21,
   "id": "b91e5792",
   "metadata": {
    "execution": {
     "iopub.execute_input": "2023-10-20T17:54:33.153800Z",
     "iopub.status.busy": "2023-10-20T17:54:33.153005Z",
     "iopub.status.idle": "2023-10-20T17:54:33.160583Z",
     "shell.execute_reply": "2023-10-20T17:54:33.159617Z"
    },
    "papermill": {
     "duration": 0.067657,
     "end_time": "2023-10-20T17:54:33.163350",
     "exception": false,
     "start_time": "2023-10-20T17:54:33.095693",
     "status": "completed"
    },
    "tags": []
   },
   "outputs": [
    {
     "data": {
      "text/plain": [
       "8"
      ]
     },
     "execution_count": 21,
     "metadata": {},
     "output_type": "execute_result"
    }
   ],
   "source": [
    "a = 7\n",
    "b = 8\n",
    "b"
   ]
  },
  {
   "cell_type": "code",
   "execution_count": 22,
   "id": "fe0fa079",
   "metadata": {
    "execution": {
     "iopub.execute_input": "2023-10-20T17:54:33.280087Z",
     "iopub.status.busy": "2023-10-20T17:54:33.278426Z",
     "iopub.status.idle": "2023-10-20T17:54:33.287306Z",
     "shell.execute_reply": "2023-10-20T17:54:33.285764Z"
    },
    "papermill": {
     "duration": 0.068788,
     "end_time": "2023-10-20T17:54:33.290176",
     "exception": false,
     "start_time": "2023-10-20T17:54:33.221388",
     "status": "completed"
    },
    "tags": []
   },
   "outputs": [
    {
     "data": {
      "text/plain": [
       "8"
      ]
     },
     "execution_count": 22,
     "metadata": {},
     "output_type": "execute_result"
    }
   ],
   "source": [
    "a,b = 7,8\n",
    "b"
   ]
  },
  {
   "cell_type": "code",
   "execution_count": 23,
   "id": "9182cda9",
   "metadata": {
    "execution": {
     "iopub.execute_input": "2023-10-20T17:54:33.406776Z",
     "iopub.status.busy": "2023-10-20T17:54:33.406291Z",
     "iopub.status.idle": "2023-10-20T17:54:33.414422Z",
     "shell.execute_reply": "2023-10-20T17:54:33.413000Z"
    },
    "papermill": {
     "duration": 0.070399,
     "end_time": "2023-10-20T17:54:33.417559",
     "exception": false,
     "start_time": "2023-10-20T17:54:33.347160",
     "status": "completed"
    },
    "tags": []
   },
   "outputs": [
    {
     "data": {
      "text/plain": [
       "7"
      ]
     },
     "execution_count": 23,
     "metadata": {},
     "output_type": "execute_result"
    }
   ],
   "source": [
    "abhi7 = 7\n",
    "abhi7"
   ]
  },
  {
   "cell_type": "code",
   "execution_count": 24,
   "id": "50fe1e47",
   "metadata": {
    "execution": {
     "iopub.execute_input": "2023-10-20T17:54:33.530775Z",
     "iopub.status.busy": "2023-10-20T17:54:33.529977Z",
     "iopub.status.idle": "2023-10-20T17:54:33.537341Z",
     "shell.execute_reply": "2023-10-20T17:54:33.535630Z"
    },
    "papermill": {
     "duration": 0.067049,
     "end_time": "2023-10-20T17:54:33.540139",
     "exception": false,
     "start_time": "2023-10-20T17:54:33.473090",
     "status": "completed"
    },
    "tags": []
   },
   "outputs": [
    {
     "name": "stdout",
     "output_type": "stream",
     "text": [
      "Sally\n"
     ]
    }
   ],
   "source": [
    "x = 4       # x is of type int\n",
    "x = \"Sally\" # x is now of type str\n",
    "print(x)"
   ]
  },
  {
   "cell_type": "code",
   "execution_count": 25,
   "id": "c8bff74b",
   "metadata": {
    "execution": {
     "iopub.execute_input": "2023-10-20T17:54:33.652600Z",
     "iopub.status.busy": "2023-10-20T17:54:33.652198Z",
     "iopub.status.idle": "2023-10-20T17:54:33.658026Z",
     "shell.execute_reply": "2023-10-20T17:54:33.656736Z"
    },
    "papermill": {
     "duration": 0.066067,
     "end_time": "2023-10-20T17:54:33.660867",
     "exception": false,
     "start_time": "2023-10-20T17:54:33.594800",
     "status": "completed"
    },
    "tags": []
   },
   "outputs": [
    {
     "name": "stdout",
     "output_type": "stream",
     "text": [
      "4\n"
     ]
    }
   ],
   "source": [
    "x = 4       # x is of type int\n",
    "print(x)\n",
    "x = \"Sally\" # x is now of type str\n"
   ]
  },
  {
   "cell_type": "code",
   "execution_count": 26,
   "id": "bab27d25",
   "metadata": {
    "execution": {
     "iopub.execute_input": "2023-10-20T17:54:33.774400Z",
     "iopub.status.busy": "2023-10-20T17:54:33.774015Z",
     "iopub.status.idle": "2023-10-20T17:54:33.780382Z",
     "shell.execute_reply": "2023-10-20T17:54:33.778643Z"
    },
    "papermill": {
     "duration": 0.067163,
     "end_time": "2023-10-20T17:54:33.783507",
     "exception": false,
     "start_time": "2023-10-20T17:54:33.716344",
     "status": "completed"
    },
    "tags": []
   },
   "outputs": [
    {
     "name": "stdout",
     "output_type": "stream",
     "text": [
      "7\n"
     ]
    }
   ],
   "source": [
    "# o/p\n",
    "a= 7\n",
    "print(a)"
   ]
  },
  {
   "cell_type": "code",
   "execution_count": 27,
   "id": "dc25285e",
   "metadata": {
    "execution": {
     "iopub.execute_input": "2023-10-20T17:54:33.895383Z",
     "iopub.status.busy": "2023-10-20T17:54:33.895021Z",
     "iopub.status.idle": "2023-10-20T17:54:33.900156Z",
     "shell.execute_reply": "2023-10-20T17:54:33.898408Z"
    },
    "papermill": {
     "duration": 0.063798,
     "end_time": "2023-10-20T17:54:33.902735",
     "exception": false,
     "start_time": "2023-10-20T17:54:33.838937",
     "status": "completed"
    },
    "tags": []
   },
   "outputs": [],
   "source": [
    "# a = int(input())\n",
    "# print(a+1)"
   ]
  },
  {
   "cell_type": "code",
   "execution_count": 28,
   "id": "a15d82cc",
   "metadata": {
    "execution": {
     "iopub.execute_input": "2023-10-20T17:54:34.017714Z",
     "iopub.status.busy": "2023-10-20T17:54:34.017241Z",
     "iopub.status.idle": "2023-10-20T17:54:34.025580Z",
     "shell.execute_reply": "2023-10-20T17:54:34.024037Z"
    },
    "papermill": {
     "duration": 0.069879,
     "end_time": "2023-10-20T17:54:34.028632",
     "exception": false,
     "start_time": "2023-10-20T17:54:33.958753",
     "status": "completed"
    },
    "tags": []
   },
   "outputs": [
    {
     "data": {
      "text/plain": [
       "13"
      ]
     },
     "execution_count": 28,
     "metadata": {},
     "output_type": "execute_result"
    }
   ],
   "source": [
    "a = 6 + 7\n",
    "a"
   ]
  },
  {
   "cell_type": "code",
   "execution_count": 29,
   "id": "7f7b3aca",
   "metadata": {
    "execution": {
     "iopub.execute_input": "2023-10-20T17:54:34.142999Z",
     "iopub.status.busy": "2023-10-20T17:54:34.142611Z",
     "iopub.status.idle": "2023-10-20T17:54:34.149328Z",
     "shell.execute_reply": "2023-10-20T17:54:34.148060Z"
    },
    "papermill": {
     "duration": 0.06637,
     "end_time": "2023-10-20T17:54:34.152155",
     "exception": false,
     "start_time": "2023-10-20T17:54:34.085785",
     "status": "completed"
    },
    "tags": []
   },
   "outputs": [
    {
     "data": {
      "text/plain": [
       "'da50'"
      ]
     },
     "execution_count": 29,
     "metadata": {},
     "output_type": "execute_result"
    }
   ],
   "source": [
    "b = \"da\" + str(50)\n",
    "b"
   ]
  },
  {
   "cell_type": "code",
   "execution_count": 30,
   "id": "6fbf18bd",
   "metadata": {
    "execution": {
     "iopub.execute_input": "2023-10-20T17:54:34.266196Z",
     "iopub.status.busy": "2023-10-20T17:54:34.265834Z",
     "iopub.status.idle": "2023-10-20T17:54:34.271708Z",
     "shell.execute_reply": "2023-10-20T17:54:34.270256Z"
    },
    "papermill": {
     "duration": 0.066613,
     "end_time": "2023-10-20T17:54:34.274823",
     "exception": false,
     "start_time": "2023-10-20T17:54:34.208210",
     "status": "completed"
    },
    "tags": []
   },
   "outputs": [
    {
     "name": "stdout",
     "output_type": "stream",
     "text": [
      "5 John\n"
     ]
    }
   ],
   "source": [
    "x = 5\n",
    "y = \"John\"\n",
    "print(x, y)"
   ]
  },
  {
   "cell_type": "code",
   "execution_count": 31,
   "id": "983aa3a9",
   "metadata": {
    "execution": {
     "iopub.execute_input": "2023-10-20T17:54:34.388792Z",
     "iopub.status.busy": "2023-10-20T17:54:34.388194Z",
     "iopub.status.idle": "2023-10-20T17:54:34.392945Z",
     "shell.execute_reply": "2023-10-20T17:54:34.391803Z"
    },
    "papermill": {
     "duration": 0.064776,
     "end_time": "2023-10-20T17:54:34.395422",
     "exception": false,
     "start_time": "2023-10-20T17:54:34.330646",
     "status": "completed"
    },
    "tags": []
   },
   "outputs": [],
   "source": [
    "a = 6 \n",
    "a = 7"
   ]
  },
  {
   "cell_type": "markdown",
   "id": "9282cb3b",
   "metadata": {
    "papermill": {
     "duration": 0.055622,
     "end_time": "2023-10-20T17:54:34.506594",
     "exception": false,
     "start_time": "2023-10-20T17:54:34.450972",
     "status": "completed"
    },
    "tags": []
   },
   "source": [
    "# data  structures\n"
   ]
  },
  {
   "cell_type": "markdown",
   "id": "5c47e03e",
   "metadata": {
    "papermill": {
     "duration": 0.055356,
     "end_time": "2023-10-20T17:54:34.619124",
     "exception": false,
     "start_time": "2023-10-20T17:54:34.563768",
     "status": "completed"
    },
    "tags": []
   },
   "source": [
    "# List  [ ] "
   ]
  },
  {
   "cell_type": "code",
   "execution_count": 32,
   "id": "8ffe062b",
   "metadata": {
    "execution": {
     "iopub.execute_input": "2023-10-20T17:54:34.733281Z",
     "iopub.status.busy": "2023-10-20T17:54:34.732474Z",
     "iopub.status.idle": "2023-10-20T17:54:34.740585Z",
     "shell.execute_reply": "2023-10-20T17:54:34.738960Z"
    },
    "papermill": {
     "duration": 0.068961,
     "end_time": "2023-10-20T17:54:34.743329",
     "exception": false,
     "start_time": "2023-10-20T17:54:34.674368",
     "status": "completed"
    },
    "tags": []
   },
   "outputs": [
    {
     "data": {
      "text/plain": [
       "11"
      ]
     },
     "execution_count": 32,
     "metadata": {},
     "output_type": "execute_result"
    }
   ],
   "source": [
    "a = [11,28,34,45,57]\n",
    "a[0]\n",
    "\n"
   ]
  },
  {
   "cell_type": "code",
   "execution_count": 33,
   "id": "b3b09222",
   "metadata": {
    "execution": {
     "iopub.execute_input": "2023-10-20T17:54:34.864675Z",
     "iopub.status.busy": "2023-10-20T17:54:34.864120Z",
     "iopub.status.idle": "2023-10-20T17:54:34.872746Z",
     "shell.execute_reply": "2023-10-20T17:54:34.871141Z"
    },
    "papermill": {
     "duration": 0.07289,
     "end_time": "2023-10-20T17:54:34.875419",
     "exception": false,
     "start_time": "2023-10-20T17:54:34.802529",
     "status": "completed"
    },
    "tags": []
   },
   "outputs": [
    {
     "data": {
      "text/plain": [
       "57"
      ]
     },
     "execution_count": 33,
     "metadata": {},
     "output_type": "execute_result"
    }
   ],
   "source": [
    "a[4]"
   ]
  },
  {
   "cell_type": "code",
   "execution_count": 34,
   "id": "d0d3a797",
   "metadata": {
    "execution": {
     "iopub.execute_input": "2023-10-20T17:54:34.993944Z",
     "iopub.status.busy": "2023-10-20T17:54:34.993445Z",
     "iopub.status.idle": "2023-10-20T17:54:35.004037Z",
     "shell.execute_reply": "2023-10-20T17:54:35.002250Z"
    },
    "papermill": {
     "duration": 0.074225,
     "end_time": "2023-10-20T17:54:35.007696",
     "exception": false,
     "start_time": "2023-10-20T17:54:34.933471",
     "status": "completed"
    },
    "tags": []
   },
   "outputs": [
    {
     "data": {
      "text/plain": [
       "[11, 28, 34, 45, 57]"
      ]
     },
     "execution_count": 34,
     "metadata": {},
     "output_type": "execute_result"
    }
   ],
   "source": [
    "a"
   ]
  },
  {
   "cell_type": "code",
   "execution_count": 35,
   "id": "3ef22aab",
   "metadata": {
    "execution": {
     "iopub.execute_input": "2023-10-20T17:54:35.127409Z",
     "iopub.status.busy": "2023-10-20T17:54:35.126908Z",
     "iopub.status.idle": "2023-10-20T17:54:35.137632Z",
     "shell.execute_reply": "2023-10-20T17:54:35.136091Z"
    },
    "papermill": {
     "duration": 0.074564,
     "end_time": "2023-10-20T17:54:35.141081",
     "exception": false,
     "start_time": "2023-10-20T17:54:35.066517",
     "status": "completed"
    },
    "tags": []
   },
   "outputs": [
    {
     "data": {
      "text/plain": [
       "57"
      ]
     },
     "execution_count": 35,
     "metadata": {},
     "output_type": "execute_result"
    }
   ],
   "source": [
    "a[-1]"
   ]
  },
  {
   "cell_type": "code",
   "execution_count": 36,
   "id": "43c96e97",
   "metadata": {
    "execution": {
     "iopub.execute_input": "2023-10-20T17:54:35.264009Z",
     "iopub.status.busy": "2023-10-20T17:54:35.263625Z",
     "iopub.status.idle": "2023-10-20T17:54:35.270676Z",
     "shell.execute_reply": "2023-10-20T17:54:35.269386Z"
    },
    "papermill": {
     "duration": 0.07145,
     "end_time": "2023-10-20T17:54:35.273346",
     "exception": false,
     "start_time": "2023-10-20T17:54:35.201896",
     "status": "completed"
    },
    "tags": []
   },
   "outputs": [
    {
     "data": {
      "text/plain": [
       "11"
      ]
     },
     "execution_count": 36,
     "metadata": {},
     "output_type": "execute_result"
    }
   ],
   "source": [
    "a[-5]"
   ]
  },
  {
   "cell_type": "code",
   "execution_count": 37,
   "id": "44f1b7a5",
   "metadata": {
    "execution": {
     "iopub.execute_input": "2023-10-20T17:54:35.394333Z",
     "iopub.status.busy": "2023-10-20T17:54:35.393936Z",
     "iopub.status.idle": "2023-10-20T17:54:35.401845Z",
     "shell.execute_reply": "2023-10-20T17:54:35.400227Z"
    },
    "papermill": {
     "duration": 0.072199,
     "end_time": "2023-10-20T17:54:35.404955",
     "exception": false,
     "start_time": "2023-10-20T17:54:35.332756",
     "status": "completed"
    },
    "tags": []
   },
   "outputs": [
    {
     "data": {
      "text/plain": [
       "[28, 34, 45]"
      ]
     },
     "execution_count": 37,
     "metadata": {},
     "output_type": "execute_result"
    }
   ],
   "source": [
    "a[1:4]"
   ]
  },
  {
   "cell_type": "code",
   "execution_count": 38,
   "id": "6c1ed38e",
   "metadata": {
    "execution": {
     "iopub.execute_input": "2023-10-20T17:54:35.529495Z",
     "iopub.status.busy": "2023-10-20T17:54:35.529022Z",
     "iopub.status.idle": "2023-10-20T17:54:35.535310Z",
     "shell.execute_reply": "2023-10-20T17:54:35.534003Z"
    },
    "papermill": {
     "duration": 0.071405,
     "end_time": "2023-10-20T17:54:35.538099",
     "exception": false,
     "start_time": "2023-10-20T17:54:35.466694",
     "status": "completed"
    },
    "tags": []
   },
   "outputs": [],
   "source": [
    "a = [10,20,30,40 ,50,60,70,80,90]"
   ]
  },
  {
   "cell_type": "code",
   "execution_count": 39,
   "id": "e65622fd",
   "metadata": {
    "execution": {
     "iopub.execute_input": "2023-10-20T17:54:35.659742Z",
     "iopub.status.busy": "2023-10-20T17:54:35.659050Z",
     "iopub.status.idle": "2023-10-20T17:54:35.668513Z",
     "shell.execute_reply": "2023-10-20T17:54:35.667085Z"
    },
    "papermill": {
     "duration": 0.074817,
     "end_time": "2023-10-20T17:54:35.671410",
     "exception": false,
     "start_time": "2023-10-20T17:54:35.596593",
     "status": "completed"
    },
    "tags": []
   },
   "outputs": [
    {
     "data": {
      "text/plain": [
       "[20, 30, 40, 50, 60, 70, 80]"
      ]
     },
     "execution_count": 39,
     "metadata": {},
     "output_type": "execute_result"
    }
   ],
   "source": [
    "# 2 property index - list = zero -index \n",
    "a[1:8]"
   ]
  },
  {
   "cell_type": "code",
   "execution_count": 40,
   "id": "85b30b39",
   "metadata": {
    "execution": {
     "iopub.execute_input": "2023-10-20T17:54:35.792600Z",
     "iopub.status.busy": "2023-10-20T17:54:35.791395Z",
     "iopub.status.idle": "2023-10-20T17:54:35.798982Z",
     "shell.execute_reply": "2023-10-20T17:54:35.798007Z"
    },
    "papermill": {
     "duration": 0.069576,
     "end_time": "2023-10-20T17:54:35.801353",
     "exception": false,
     "start_time": "2023-10-20T17:54:35.731777",
     "status": "completed"
    },
    "tags": []
   },
   "outputs": [
    {
     "data": {
      "text/plain": [
       "[20, 40, 60, 80]"
      ]
     },
     "execution_count": 40,
     "metadata": {},
     "output_type": "execute_result"
    }
   ],
   "source": [
    "a[1:8:2]"
   ]
  },
  {
   "cell_type": "code",
   "execution_count": 41,
   "id": "bdedf5f1",
   "metadata": {
    "execution": {
     "iopub.execute_input": "2023-10-20T17:54:35.918670Z",
     "iopub.status.busy": "2023-10-20T17:54:35.917605Z",
     "iopub.status.idle": "2023-10-20T17:54:35.925528Z",
     "shell.execute_reply": "2023-10-20T17:54:35.924144Z"
    },
    "papermill": {
     "duration": 0.068907,
     "end_time": "2023-10-20T17:54:35.928004",
     "exception": false,
     "start_time": "2023-10-20T17:54:35.859097",
     "status": "completed"
    },
    "tags": []
   },
   "outputs": [
    {
     "data": {
      "text/plain": [
       "[20, 50, 80]"
      ]
     },
     "execution_count": 41,
     "metadata": {},
     "output_type": "execute_result"
    }
   ],
   "source": [
    "a[1:-1:3]"
   ]
  },
  {
   "cell_type": "code",
   "execution_count": 42,
   "id": "0a066a5b",
   "metadata": {
    "execution": {
     "iopub.execute_input": "2023-10-20T17:54:36.050778Z",
     "iopub.status.busy": "2023-10-20T17:54:36.050376Z",
     "iopub.status.idle": "2023-10-20T17:54:36.057713Z",
     "shell.execute_reply": "2023-10-20T17:54:36.056504Z"
    },
    "papermill": {
     "duration": 0.072776,
     "end_time": "2023-10-20T17:54:36.060267",
     "exception": false,
     "start_time": "2023-10-20T17:54:35.987491",
     "status": "completed"
    },
    "tags": []
   },
   "outputs": [
    {
     "data": {
      "text/plain": [
       "[10, 20, 30, 40, 50, 60, 70, 80, 90]"
      ]
     },
     "execution_count": 42,
     "metadata": {},
     "output_type": "execute_result"
    }
   ],
   "source": [
    "# property of 1 of list \n",
    "# mutabilty\n",
    "\n",
    "a "
   ]
  },
  {
   "cell_type": "code",
   "execution_count": 43,
   "id": "144741da",
   "metadata": {
    "execution": {
     "iopub.execute_input": "2023-10-20T17:54:36.189046Z",
     "iopub.status.busy": "2023-10-20T17:54:36.188631Z",
     "iopub.status.idle": "2023-10-20T17:54:36.195080Z",
     "shell.execute_reply": "2023-10-20T17:54:36.194169Z"
    },
    "papermill": {
     "duration": 0.072886,
     "end_time": "2023-10-20T17:54:36.197401",
     "exception": false,
     "start_time": "2023-10-20T17:54:36.124515",
     "status": "completed"
    },
    "tags": []
   },
   "outputs": [
    {
     "data": {
      "text/plain": [
       "10"
      ]
     },
     "execution_count": 43,
     "metadata": {},
     "output_type": "execute_result"
    }
   ],
   "source": [
    "a[0]"
   ]
  },
  {
   "cell_type": "code",
   "execution_count": 44,
   "id": "bbf68a95",
   "metadata": {
    "execution": {
     "iopub.execute_input": "2023-10-20T17:54:36.326625Z",
     "iopub.status.busy": "2023-10-20T17:54:36.325245Z",
     "iopub.status.idle": "2023-10-20T17:54:36.332177Z",
     "shell.execute_reply": "2023-10-20T17:54:36.331318Z"
    },
    "papermill": {
     "duration": 0.073806,
     "end_time": "2023-10-20T17:54:36.334725",
     "exception": false,
     "start_time": "2023-10-20T17:54:36.260919",
     "status": "completed"
    },
    "tags": []
   },
   "outputs": [
    {
     "data": {
      "text/plain": [
       "[900, 20, 30, 40, 50, 60, 70, 80, 90]"
      ]
     },
     "execution_count": 44,
     "metadata": {},
     "output_type": "execute_result"
    }
   ],
   "source": [
    "a[0] = 900\n",
    "a"
   ]
  },
  {
   "cell_type": "code",
   "execution_count": 45,
   "id": "e3638163",
   "metadata": {
    "execution": {
     "iopub.execute_input": "2023-10-20T17:54:36.459849Z",
     "iopub.status.busy": "2023-10-20T17:54:36.459451Z",
     "iopub.status.idle": "2023-10-20T17:54:36.467133Z",
     "shell.execute_reply": "2023-10-20T17:54:36.465791Z"
    },
    "papermill": {
     "duration": 0.074836,
     "end_time": "2023-10-20T17:54:36.469854",
     "exception": false,
     "start_time": "2023-10-20T17:54:36.395018",
     "status": "completed"
    },
    "tags": []
   },
   "outputs": [
    {
     "data": {
      "text/plain": [
       "list"
      ]
     },
     "execution_count": 45,
     "metadata": {},
     "output_type": "execute_result"
    }
   ],
   "source": [
    "type(a)"
   ]
  },
  {
   "cell_type": "markdown",
   "id": "f2c204de",
   "metadata": {
    "papermill": {
     "duration": 0.058823,
     "end_time": "2023-10-20T17:54:36.590624",
     "exception": false,
     "start_time": "2023-10-20T17:54:36.531801",
     "status": "completed"
    },
    "tags": []
   },
   "source": [
    "# tuple  (  )"
   ]
  },
  {
   "cell_type": "code",
   "execution_count": 46,
   "id": "0cb8086a",
   "metadata": {
    "execution": {
     "iopub.execute_input": "2023-10-20T17:54:36.714871Z",
     "iopub.status.busy": "2023-10-20T17:54:36.714023Z",
     "iopub.status.idle": "2023-10-20T17:54:36.723034Z",
     "shell.execute_reply": "2023-10-20T17:54:36.721648Z"
    },
    "papermill": {
     "duration": 0.074246,
     "end_time": "2023-10-20T17:54:36.725727",
     "exception": false,
     "start_time": "2023-10-20T17:54:36.651481",
     "status": "completed"
    },
    "tags": []
   },
   "outputs": [
    {
     "data": {
      "text/plain": [
       "10"
      ]
     },
     "execution_count": 46,
     "metadata": {},
     "output_type": "execute_result"
    }
   ],
   "source": [
    "b = (10,20,30,40,50)\n",
    "b[0]"
   ]
  },
  {
   "cell_type": "code",
   "execution_count": 47,
   "id": "502c028d",
   "metadata": {
    "execution": {
     "iopub.execute_input": "2023-10-20T17:54:36.855321Z",
     "iopub.status.busy": "2023-10-20T17:54:36.854194Z",
     "iopub.status.idle": "2023-10-20T17:54:36.862400Z",
     "shell.execute_reply": "2023-10-20T17:54:36.861418Z"
    },
    "papermill": {
     "duration": 0.073741,
     "end_time": "2023-10-20T17:54:36.865061",
     "exception": false,
     "start_time": "2023-10-20T17:54:36.791320",
     "status": "completed"
    },
    "tags": []
   },
   "outputs": [
    {
     "data": {
      "text/plain": [
       "tuple"
      ]
     },
     "execution_count": 47,
     "metadata": {},
     "output_type": "execute_result"
    }
   ],
   "source": [
    "type(b)"
   ]
  },
  {
   "cell_type": "code",
   "execution_count": 48,
   "id": "3faad893",
   "metadata": {
    "execution": {
     "iopub.execute_input": "2023-10-20T17:54:36.994044Z",
     "iopub.status.busy": "2023-10-20T17:54:36.992440Z",
     "iopub.status.idle": "2023-10-20T17:54:37.000369Z",
     "shell.execute_reply": "2023-10-20T17:54:36.999108Z"
    },
    "papermill": {
     "duration": 0.0748,
     "end_time": "2023-10-20T17:54:37.003829",
     "exception": false,
     "start_time": "2023-10-20T17:54:36.929029",
     "status": "completed"
    },
    "tags": []
   },
   "outputs": [
    {
     "data": {
      "text/plain": [
       "50"
      ]
     },
     "execution_count": 48,
     "metadata": {},
     "output_type": "execute_result"
    }
   ],
   "source": [
    "b[4]"
   ]
  },
  {
   "cell_type": "code",
   "execution_count": 49,
   "id": "32294c01",
   "metadata": {
    "execution": {
     "iopub.execute_input": "2023-10-20T17:54:37.125046Z",
     "iopub.status.busy": "2023-10-20T17:54:37.123660Z",
     "iopub.status.idle": "2023-10-20T17:54:37.131035Z",
     "shell.execute_reply": "2023-10-20T17:54:37.130092Z"
    },
    "papermill": {
     "duration": 0.069791,
     "end_time": "2023-10-20T17:54:37.133692",
     "exception": false,
     "start_time": "2023-10-20T17:54:37.063901",
     "status": "completed"
    },
    "tags": []
   },
   "outputs": [
    {
     "data": {
      "text/plain": [
       "50"
      ]
     },
     "execution_count": 49,
     "metadata": {},
     "output_type": "execute_result"
    }
   ],
   "source": [
    "b[-1]"
   ]
  },
  {
   "cell_type": "code",
   "execution_count": 50,
   "id": "bada209d",
   "metadata": {
    "execution": {
     "iopub.execute_input": "2023-10-20T17:54:37.262708Z",
     "iopub.status.busy": "2023-10-20T17:54:37.262285Z",
     "iopub.status.idle": "2023-10-20T17:54:37.266415Z",
     "shell.execute_reply": "2023-10-20T17:54:37.265564Z"
    },
    "papermill": {
     "duration": 0.071057,
     "end_time": "2023-10-20T17:54:37.268701",
     "exception": false,
     "start_time": "2023-10-20T17:54:37.197644",
     "status": "completed"
    },
    "tags": []
   },
   "outputs": [],
   "source": [
    "# property 2 of tuple - zero index "
   ]
  },
  {
   "cell_type": "code",
   "execution_count": 51,
   "id": "8a276530",
   "metadata": {
    "execution": {
     "iopub.execute_input": "2023-10-20T17:54:37.392667Z",
     "iopub.status.busy": "2023-10-20T17:54:37.392233Z",
     "iopub.status.idle": "2023-10-20T17:54:37.397710Z",
     "shell.execute_reply": "2023-10-20T17:54:37.396393Z"
    },
    "papermill": {
     "duration": 0.070584,
     "end_time": "2023-10-20T17:54:37.401017",
     "exception": false,
     "start_time": "2023-10-20T17:54:37.330433",
     "status": "completed"
    },
    "tags": []
   },
   "outputs": [],
   "source": [
    "# b[0] = 10"
   ]
  },
  {
   "cell_type": "code",
   "execution_count": 52,
   "id": "23bb20b2",
   "metadata": {
    "execution": {
     "iopub.execute_input": "2023-10-20T17:54:37.525797Z",
     "iopub.status.busy": "2023-10-20T17:54:37.525392Z",
     "iopub.status.idle": "2023-10-20T17:54:37.529859Z",
     "shell.execute_reply": "2023-10-20T17:54:37.528977Z"
    },
    "papermill": {
     "duration": 0.069928,
     "end_time": "2023-10-20T17:54:37.532336",
     "exception": false,
     "start_time": "2023-10-20T17:54:37.462408",
     "status": "completed"
    },
    "tags": []
   },
   "outputs": [],
   "source": [
    "# property immutabilty - ypu cant change elements in a list"
   ]
  },
  {
   "cell_type": "code",
   "execution_count": 53,
   "id": "56f61c2f",
   "metadata": {
    "execution": {
     "iopub.execute_input": "2023-10-20T17:54:37.655804Z",
     "iopub.status.busy": "2023-10-20T17:54:37.654263Z",
     "iopub.status.idle": "2023-10-20T17:54:37.660827Z",
     "shell.execute_reply": "2023-10-20T17:54:37.658720Z"
    },
    "papermill": {
     "duration": 0.070866,
     "end_time": "2023-10-20T17:54:37.664063",
     "exception": false,
     "start_time": "2023-10-20T17:54:37.593197",
     "status": "completed"
    },
    "tags": []
   },
   "outputs": [],
   "source": [
    "# set "
   ]
  },
  {
   "cell_type": "markdown",
   "id": "6485c0d6",
   "metadata": {
    "papermill": {
     "duration": 0.058644,
     "end_time": "2023-10-20T17:54:37.783790",
     "exception": false,
     "start_time": "2023-10-20T17:54:37.725146",
     "status": "completed"
    },
    "tags": []
   },
   "source": [
    "{ }"
   ]
  },
  {
   "cell_type": "code",
   "execution_count": 54,
   "id": "0fbdfee4",
   "metadata": {
    "execution": {
     "iopub.execute_input": "2023-10-20T17:54:37.902846Z",
     "iopub.status.busy": "2023-10-20T17:54:37.901379Z",
     "iopub.status.idle": "2023-10-20T17:54:37.907378Z",
     "shell.execute_reply": "2023-10-20T17:54:37.906578Z"
    },
    "papermill": {
     "duration": 0.067875,
     "end_time": "2023-10-20T17:54:37.909909",
     "exception": false,
     "start_time": "2023-10-20T17:54:37.842034",
     "status": "completed"
    },
    "tags": []
   },
   "outputs": [],
   "source": [
    "c = {10,20,30,40}"
   ]
  },
  {
   "cell_type": "code",
   "execution_count": 55,
   "id": "b95b09e3",
   "metadata": {
    "execution": {
     "iopub.execute_input": "2023-10-20T17:54:38.028264Z",
     "iopub.status.busy": "2023-10-20T17:54:38.027800Z",
     "iopub.status.idle": "2023-10-20T17:54:38.035119Z",
     "shell.execute_reply": "2023-10-20T17:54:38.033640Z"
    },
    "papermill": {
     "duration": 0.070214,
     "end_time": "2023-10-20T17:54:38.037810",
     "exception": false,
     "start_time": "2023-10-20T17:54:37.967596",
     "status": "completed"
    },
    "tags": []
   },
   "outputs": [
    {
     "data": {
      "text/plain": [
       "{10, 20, 30, 40}"
      ]
     },
     "execution_count": 55,
     "metadata": {},
     "output_type": "execute_result"
    }
   ],
   "source": [
    "c"
   ]
  },
  {
   "cell_type": "code",
   "execution_count": 56,
   "id": "607b5ebe",
   "metadata": {
    "execution": {
     "iopub.execute_input": "2023-10-20T17:54:38.158932Z",
     "iopub.status.busy": "2023-10-20T17:54:38.157423Z",
     "iopub.status.idle": "2023-10-20T17:54:38.164101Z",
     "shell.execute_reply": "2023-10-20T17:54:38.162521Z"
    },
    "papermill": {
     "duration": 0.069275,
     "end_time": "2023-10-20T17:54:38.166674",
     "exception": false,
     "start_time": "2023-10-20T17:54:38.097399",
     "status": "completed"
    },
    "tags": []
   },
   "outputs": [],
   "source": [
    "d = {10,20,10,20}"
   ]
  },
  {
   "cell_type": "code",
   "execution_count": 57,
   "id": "6b77512b",
   "metadata": {
    "execution": {
     "iopub.execute_input": "2023-10-20T17:54:38.285244Z",
     "iopub.status.busy": "2023-10-20T17:54:38.284190Z",
     "iopub.status.idle": "2023-10-20T17:54:38.293025Z",
     "shell.execute_reply": "2023-10-20T17:54:38.291649Z"
    },
    "papermill": {
     "duration": 0.071183,
     "end_time": "2023-10-20T17:54:38.295826",
     "exception": false,
     "start_time": "2023-10-20T17:54:38.224643",
     "status": "completed"
    },
    "tags": []
   },
   "outputs": [
    {
     "data": {
      "text/plain": [
       "{10, 20}"
      ]
     },
     "execution_count": 57,
     "metadata": {},
     "output_type": "execute_result"
    }
   ],
   "source": [
    "d"
   ]
  },
  {
   "cell_type": "code",
   "execution_count": 58,
   "id": "e590ab22",
   "metadata": {
    "execution": {
     "iopub.execute_input": "2023-10-20T17:54:38.415377Z",
     "iopub.status.busy": "2023-10-20T17:54:38.414926Z",
     "iopub.status.idle": "2023-10-20T17:54:38.420038Z",
     "shell.execute_reply": "2023-10-20T17:54:38.418987Z"
    },
    "papermill": {
     "duration": 0.068382,
     "end_time": "2023-10-20T17:54:38.422422",
     "exception": false,
     "start_time": "2023-10-20T17:54:38.354040",
     "status": "completed"
    },
    "tags": []
   },
   "outputs": [],
   "source": [
    "# # property 1 \n",
    "\n",
    "# unique elements only "
   ]
  },
  {
   "cell_type": "code",
   "execution_count": 59,
   "id": "97ff0a05",
   "metadata": {
    "execution": {
     "iopub.execute_input": "2023-10-20T17:54:38.540752Z",
     "iopub.status.busy": "2023-10-20T17:54:38.540221Z",
     "iopub.status.idle": "2023-10-20T17:54:38.547225Z",
     "shell.execute_reply": "2023-10-20T17:54:38.546383Z"
    },
    "papermill": {
     "duration": 0.068959,
     "end_time": "2023-10-20T17:54:38.549428",
     "exception": false,
     "start_time": "2023-10-20T17:54:38.480469",
     "status": "completed"
    },
    "tags": []
   },
   "outputs": [
    {
     "data": {
      "text/plain": [
       "{10, 20}"
      ]
     },
     "execution_count": 59,
     "metadata": {},
     "output_type": "execute_result"
    }
   ],
   "source": [
    "# property \n",
    "# there is no index in set \n",
    "\n",
    "d"
   ]
  },
  {
   "cell_type": "code",
   "execution_count": 60,
   "id": "9e954443",
   "metadata": {
    "execution": {
     "iopub.execute_input": "2023-10-20T17:54:38.668947Z",
     "iopub.status.busy": "2023-10-20T17:54:38.668098Z",
     "iopub.status.idle": "2023-10-20T17:54:38.673737Z",
     "shell.execute_reply": "2023-10-20T17:54:38.672455Z"
    },
    "papermill": {
     "duration": 0.067686,
     "end_time": "2023-10-20T17:54:38.676093",
     "exception": false,
     "start_time": "2023-10-20T17:54:38.608407",
     "status": "completed"
    },
    "tags": []
   },
   "outputs": [],
   "source": [
    "# d[0]"
   ]
  },
  {
   "cell_type": "markdown",
   "id": "a65bdda9",
   "metadata": {
    "papermill": {
     "duration": 0.058613,
     "end_time": "2023-10-20T17:54:38.794530",
     "exception": false,
     "start_time": "2023-10-20T17:54:38.735917",
     "status": "completed"
    },
    "tags": []
   },
   "source": [
    "# dictionary  ( ) "
   ]
  },
  {
   "cell_type": "code",
   "execution_count": 61,
   "id": "6c788fcc",
   "metadata": {
    "execution": {
     "iopub.execute_input": "2023-10-20T17:54:38.914951Z",
     "iopub.status.busy": "2023-10-20T17:54:38.914449Z",
     "iopub.status.idle": "2023-10-20T17:54:38.920340Z",
     "shell.execute_reply": "2023-10-20T17:54:38.919029Z"
    },
    "papermill": {
     "duration": 0.068724,
     "end_time": "2023-10-20T17:54:38.922705",
     "exception": false,
     "start_time": "2023-10-20T17:54:38.853981",
     "status": "completed"
    },
    "tags": []
   },
   "outputs": [],
   "source": [
    "t = { \"beautiful\"   : \"swapna is a beautiful women\",\n",
    "    \"smart\" : \"tayyab is a smart person\",\n",
    "    \"clever\" : \"parth is clever\"}"
   ]
  },
  {
   "cell_type": "code",
   "execution_count": 62,
   "id": "052ffd11",
   "metadata": {
    "execution": {
     "iopub.execute_input": "2023-10-20T17:54:39.045015Z",
     "iopub.status.busy": "2023-10-20T17:54:39.044612Z",
     "iopub.status.idle": "2023-10-20T17:54:39.049993Z",
     "shell.execute_reply": "2023-10-20T17:54:39.048598Z"
    },
    "papermill": {
     "duration": 0.070183,
     "end_time": "2023-10-20T17:54:39.052804",
     "exception": false,
     "start_time": "2023-10-20T17:54:38.982621",
     "status": "completed"
    },
    "tags": []
   },
   "outputs": [],
   "source": [
    "# property index - key index"
   ]
  },
  {
   "cell_type": "code",
   "execution_count": 63,
   "id": "7eeea4b4",
   "metadata": {
    "execution": {
     "iopub.execute_input": "2023-10-20T17:54:39.171150Z",
     "iopub.status.busy": "2023-10-20T17:54:39.170770Z",
     "iopub.status.idle": "2023-10-20T17:54:39.179075Z",
     "shell.execute_reply": "2023-10-20T17:54:39.177635Z"
    },
    "papermill": {
     "duration": 0.070718,
     "end_time": "2023-10-20T17:54:39.181713",
     "exception": false,
     "start_time": "2023-10-20T17:54:39.110995",
     "status": "completed"
    },
    "tags": []
   },
   "outputs": [
    {
     "data": {
      "text/plain": [
       "dict_keys(['beautiful', 'smart', 'clever'])"
      ]
     },
     "execution_count": 63,
     "metadata": {},
     "output_type": "execute_result"
    }
   ],
   "source": [
    "t.keys()"
   ]
  },
  {
   "cell_type": "code",
   "execution_count": 64,
   "id": "b189284f",
   "metadata": {
    "execution": {
     "iopub.execute_input": "2023-10-20T17:54:39.302778Z",
     "iopub.status.busy": "2023-10-20T17:54:39.302348Z",
     "iopub.status.idle": "2023-10-20T17:54:39.309951Z",
     "shell.execute_reply": "2023-10-20T17:54:39.308635Z"
    },
    "papermill": {
     "duration": 0.070431,
     "end_time": "2023-10-20T17:54:39.312426",
     "exception": false,
     "start_time": "2023-10-20T17:54:39.241995",
     "status": "completed"
    },
    "tags": []
   },
   "outputs": [
    {
     "data": {
      "text/plain": [
       "'swapna is a beautiful women'"
      ]
     },
     "execution_count": 64,
     "metadata": {},
     "output_type": "execute_result"
    }
   ],
   "source": [
    "t[\"beautiful\"]"
   ]
  },
  {
   "cell_type": "code",
   "execution_count": 65,
   "id": "c69b81c7",
   "metadata": {
    "execution": {
     "iopub.execute_input": "2023-10-20T17:54:39.431637Z",
     "iopub.status.busy": "2023-10-20T17:54:39.431205Z",
     "iopub.status.idle": "2023-10-20T17:54:39.438883Z",
     "shell.execute_reply": "2023-10-20T17:54:39.437361Z"
    },
    "papermill": {
     "duration": 0.070647,
     "end_time": "2023-10-20T17:54:39.441719",
     "exception": false,
     "start_time": "2023-10-20T17:54:39.371072",
     "status": "completed"
    },
    "tags": []
   },
   "outputs": [
    {
     "data": {
      "text/plain": [
       "'parth is clever'"
      ]
     },
     "execution_count": 65,
     "metadata": {},
     "output_type": "execute_result"
    }
   ],
   "source": [
    "t[\"clever\"]"
   ]
  },
  {
   "cell_type": "code",
   "execution_count": 66,
   "id": "405dc1a1",
   "metadata": {
    "execution": {
     "iopub.execute_input": "2023-10-20T17:54:39.561703Z",
     "iopub.status.busy": "2023-10-20T17:54:39.561162Z",
     "iopub.status.idle": "2023-10-20T17:54:39.568979Z",
     "shell.execute_reply": "2023-10-20T17:54:39.567527Z"
    },
    "papermill": {
     "duration": 0.071423,
     "end_time": "2023-10-20T17:54:39.571668",
     "exception": false,
     "start_time": "2023-10-20T17:54:39.500245",
     "status": "completed"
    },
    "tags": []
   },
   "outputs": [
    {
     "data": {
      "text/plain": [
       "dict_keys(['beautiful', 'smart', 'clever'])"
      ]
     },
     "execution_count": 66,
     "metadata": {},
     "output_type": "execute_result"
    }
   ],
   "source": [
    "t.keys()"
   ]
  },
  {
   "cell_type": "code",
   "execution_count": 67,
   "id": "9c12bb73",
   "metadata": {
    "execution": {
     "iopub.execute_input": "2023-10-20T17:54:39.695790Z",
     "iopub.status.busy": "2023-10-20T17:54:39.695371Z",
     "iopub.status.idle": "2023-10-20T17:54:39.703013Z",
     "shell.execute_reply": "2023-10-20T17:54:39.701814Z"
    },
    "papermill": {
     "duration": 0.072402,
     "end_time": "2023-10-20T17:54:39.705732",
     "exception": false,
     "start_time": "2023-10-20T17:54:39.633330",
     "status": "completed"
    },
    "tags": []
   },
   "outputs": [
    {
     "data": {
      "text/plain": [
       "dict_values(['swapna is a beautiful women', 'tayyab is a smart person', 'parth is clever'])"
      ]
     },
     "execution_count": 67,
     "metadata": {},
     "output_type": "execute_result"
    }
   ],
   "source": [
    "t.values()"
   ]
  },
  {
   "cell_type": "code",
   "execution_count": 68,
   "id": "aec341c3",
   "metadata": {
    "execution": {
     "iopub.execute_input": "2023-10-20T17:54:39.830149Z",
     "iopub.status.busy": "2023-10-20T17:54:39.829622Z",
     "iopub.status.idle": "2023-10-20T17:54:39.838285Z",
     "shell.execute_reply": "2023-10-20T17:54:39.837034Z"
    },
    "papermill": {
     "duration": 0.072903,
     "end_time": "2023-10-20T17:54:39.840875",
     "exception": false,
     "start_time": "2023-10-20T17:54:39.767972",
     "status": "completed"
    },
    "tags": []
   },
   "outputs": [
    {
     "data": {
      "text/plain": [
       "dict_items([('beautiful', 'swapna is a beautiful women'), ('smart', 'tayyab is a smart person'), ('clever', 'parth is clever')])"
      ]
     },
     "execution_count": 68,
     "metadata": {},
     "output_type": "execute_result"
    }
   ],
   "source": [
    "t.items()"
   ]
  },
  {
   "cell_type": "code",
   "execution_count": 69,
   "id": "4bb7e9fb",
   "metadata": {
    "execution": {
     "iopub.execute_input": "2023-10-20T17:54:39.962444Z",
     "iopub.status.busy": "2023-10-20T17:54:39.961940Z",
     "iopub.status.idle": "2023-10-20T17:54:39.972440Z",
     "shell.execute_reply": "2023-10-20T17:54:39.971130Z"
    },
    "papermill": {
     "duration": 0.074845,
     "end_time": "2023-10-20T17:54:39.975280",
     "exception": false,
     "start_time": "2023-10-20T17:54:39.900435",
     "status": "completed"
    },
    "tags": []
   },
   "outputs": [
    {
     "data": {
      "text/plain": [
       "3"
      ]
     },
     "execution_count": 69,
     "metadata": {},
     "output_type": "execute_result"
    }
   ],
   "source": [
    "ch = { \"c1\" :\n",
    "                   {\"c1.1\" :  \"chapter1.1\",\n",
    "                    \n",
    "                    \"c1.2\" :  \n",
    "                             {\"c1.2.1\" : \"chapter mlv\",\n",
    "                              \"c1.2.2\" : [10,20,30,40]},\n",
    "                    \n",
    "                    \"c1.3\" :  \"chapter1.3\"},\n",
    "     \"c2\" : \"chapter2\",\n",
    "     \"c3\" : \"chapter3\"}\n",
    "\n",
    "len(ch)"
   ]
  },
  {
   "cell_type": "code",
   "execution_count": 70,
   "id": "83bf0e64",
   "metadata": {
    "execution": {
     "iopub.execute_input": "2023-10-20T17:54:40.099336Z",
     "iopub.status.busy": "2023-10-20T17:54:40.098894Z",
     "iopub.status.idle": "2023-10-20T17:54:40.107320Z",
     "shell.execute_reply": "2023-10-20T17:54:40.105790Z"
    },
    "papermill": {
     "duration": 0.072203,
     "end_time": "2023-10-20T17:54:40.109801",
     "exception": false,
     "start_time": "2023-10-20T17:54:40.037598",
     "status": "completed"
    },
    "tags": []
   },
   "outputs": [
    {
     "data": {
      "text/plain": [
       "10"
      ]
     },
     "execution_count": 70,
     "metadata": {},
     "output_type": "execute_result"
    }
   ],
   "source": [
    "ch[\"c1\"][\"c1.2\"][\"c1.2.2\"][0]"
   ]
  },
  {
   "cell_type": "code",
   "execution_count": 71,
   "id": "dba01dc5",
   "metadata": {
    "execution": {
     "iopub.execute_input": "2023-10-20T17:54:40.231320Z",
     "iopub.status.busy": "2023-10-20T17:54:40.230854Z",
     "iopub.status.idle": "2023-10-20T17:54:40.236059Z",
     "shell.execute_reply": "2023-10-20T17:54:40.235064Z"
    },
    "papermill": {
     "duration": 0.068729,
     "end_time": "2023-10-20T17:54:40.238312",
     "exception": false,
     "start_time": "2023-10-20T17:54:40.169583",
     "status": "completed"
    },
    "tags": []
   },
   "outputs": [],
   "source": [
    "ch[\"c3\"] = \"sush\""
   ]
  },
  {
   "cell_type": "code",
   "execution_count": 72,
   "id": "586f4156",
   "metadata": {
    "execution": {
     "iopub.execute_input": "2023-10-20T17:54:40.363381Z",
     "iopub.status.busy": "2023-10-20T17:54:40.362884Z",
     "iopub.status.idle": "2023-10-20T17:54:40.371507Z",
     "shell.execute_reply": "2023-10-20T17:54:40.369979Z"
    },
    "papermill": {
     "duration": 0.07471,
     "end_time": "2023-10-20T17:54:40.374065",
     "exception": false,
     "start_time": "2023-10-20T17:54:40.299355",
     "status": "completed"
    },
    "tags": []
   },
   "outputs": [
    {
     "data": {
      "text/plain": [
       "3"
      ]
     },
     "execution_count": 72,
     "metadata": {},
     "output_type": "execute_result"
    }
   ],
   "source": [
    "len(ch.items())"
   ]
  },
  {
   "cell_type": "code",
   "execution_count": 73,
   "id": "c5863c54",
   "metadata": {
    "execution": {
     "iopub.execute_input": "2023-10-20T17:54:40.500171Z",
     "iopub.status.busy": "2023-10-20T17:54:40.499745Z",
     "iopub.status.idle": "2023-10-20T17:54:40.508095Z",
     "shell.execute_reply": "2023-10-20T17:54:40.506951Z"
    },
    "papermill": {
     "duration": 0.075827,
     "end_time": "2023-10-20T17:54:40.510664",
     "exception": false,
     "start_time": "2023-10-20T17:54:40.434837",
     "status": "completed"
    },
    "tags": []
   },
   "outputs": [
    {
     "data": {
      "text/plain": [
       "{'c1': {'c1.1': 'chapter1.1',\n",
       "  'c1.2': {'c1.2.1': 'chapter mlv', 'c1.2.2': [10, 20, 30, 40]},\n",
       "  'c1.3': 'chapter1.3'},\n",
       " 'c2': 'chapter2',\n",
       " 'c3': 'sush'}"
      ]
     },
     "execution_count": 73,
     "metadata": {},
     "output_type": "execute_result"
    }
   ],
   "source": [
    "ch"
   ]
  },
  {
   "cell_type": "markdown",
   "id": "b3d70bf4",
   "metadata": {
    "papermill": {
     "duration": 0.061298,
     "end_time": "2023-10-20T17:54:40.634163",
     "exception": false,
     "start_time": "2023-10-20T17:54:40.572865",
     "status": "completed"
    },
    "tags": []
   },
   "source": [
    "# type\n",
    "int()\n",
    "float()\n",
    "str()"
   ]
  },
  {
   "cell_type": "markdown",
   "id": "e7a61003",
   "metadata": {
    "papermill": {
     "duration": 0.062714,
     "end_time": "2023-10-20T17:54:40.756787",
     "exception": false,
     "start_time": "2023-10-20T17:54:40.694073",
     "status": "completed"
    },
    "tags": []
   },
   "source": [
    "# data structure casting\n",
    "## list()  tuple() set()  dict()"
   ]
  },
  {
   "cell_type": "code",
   "execution_count": 74,
   "id": "75ddf863",
   "metadata": {
    "execution": {
     "iopub.execute_input": "2023-10-20T17:54:40.884000Z",
     "iopub.status.busy": "2023-10-20T17:54:40.883593Z",
     "iopub.status.idle": "2023-10-20T17:54:40.893614Z",
     "shell.execute_reply": "2023-10-20T17:54:40.892021Z"
    },
    "papermill": {
     "duration": 0.078646,
     "end_time": "2023-10-20T17:54:40.896326",
     "exception": false,
     "start_time": "2023-10-20T17:54:40.817680",
     "status": "completed"
    },
    "tags": []
   },
   "outputs": [
    {
     "data": {
      "text/plain": [
       "list"
      ]
     },
     "execution_count": 74,
     "metadata": {},
     "output_type": "execute_result"
    }
   ],
   "source": [
    "a = [10,20,30]\n",
    "type(a)"
   ]
  },
  {
   "cell_type": "code",
   "execution_count": 75,
   "id": "4a8d5d75",
   "metadata": {
    "execution": {
     "iopub.execute_input": "2023-10-20T17:54:41.023933Z",
     "iopub.status.busy": "2023-10-20T17:54:41.023483Z",
     "iopub.status.idle": "2023-10-20T17:54:41.031834Z",
     "shell.execute_reply": "2023-10-20T17:54:41.030478Z"
    },
    "papermill": {
     "duration": 0.075167,
     "end_time": "2023-10-20T17:54:41.035010",
     "exception": false,
     "start_time": "2023-10-20T17:54:40.959843",
     "status": "completed"
    },
    "tags": []
   },
   "outputs": [
    {
     "data": {
      "text/plain": [
       "(10, 20, 30)"
      ]
     },
     "execution_count": 75,
     "metadata": {},
     "output_type": "execute_result"
    }
   ],
   "source": [
    "b = tuple(a)\n",
    "b"
   ]
  },
  {
   "cell_type": "code",
   "execution_count": 76,
   "id": "861ba689",
   "metadata": {
    "execution": {
     "iopub.execute_input": "2023-10-20T17:54:41.166733Z",
     "iopub.status.busy": "2023-10-20T17:54:41.166287Z",
     "iopub.status.idle": "2023-10-20T17:54:41.176008Z",
     "shell.execute_reply": "2023-10-20T17:54:41.174471Z"
    },
    "papermill": {
     "duration": 0.078425,
     "end_time": "2023-10-20T17:54:41.179226",
     "exception": false,
     "start_time": "2023-10-20T17:54:41.100801",
     "status": "completed"
    },
    "tags": []
   },
   "outputs": [
    {
     "data": {
      "text/plain": [
       "tuple"
      ]
     },
     "execution_count": 76,
     "metadata": {},
     "output_type": "execute_result"
    }
   ],
   "source": [
    "type(b)"
   ]
  },
  {
   "cell_type": "code",
   "execution_count": 77,
   "id": "c3a2d1ae",
   "metadata": {
    "execution": {
     "iopub.execute_input": "2023-10-20T17:54:41.314304Z",
     "iopub.status.busy": "2023-10-20T17:54:41.313918Z",
     "iopub.status.idle": "2023-10-20T17:54:41.319812Z",
     "shell.execute_reply": "2023-10-20T17:54:41.318527Z"
    },
    "papermill": {
     "duration": 0.075282,
     "end_time": "2023-10-20T17:54:41.322662",
     "exception": false,
     "start_time": "2023-10-20T17:54:41.247380",
     "status": "completed"
    },
    "tags": []
   },
   "outputs": [],
   "source": [
    "gg = (\"sush@gmail.com\",2564856855)\n",
    "# gg[0] = \"sush@outlook.com\""
   ]
  },
  {
   "cell_type": "code",
   "execution_count": 78,
   "id": "138c8bbd",
   "metadata": {
    "execution": {
     "iopub.execute_input": "2023-10-20T17:54:41.455185Z",
     "iopub.status.busy": "2023-10-20T17:54:41.454508Z",
     "iopub.status.idle": "2023-10-20T17:54:41.463394Z",
     "shell.execute_reply": "2023-10-20T17:54:41.461794Z"
    },
    "papermill": {
     "duration": 0.080004,
     "end_time": "2023-10-20T17:54:41.466232",
     "exception": false,
     "start_time": "2023-10-20T17:54:41.386228",
     "status": "completed"
    },
    "tags": []
   },
   "outputs": [
    {
     "data": {
      "text/plain": [
       "['sush@gmail.com', 2564856855]"
      ]
     },
     "execution_count": 78,
     "metadata": {},
     "output_type": "execute_result"
    }
   ],
   "source": [
    "gg = list(gg)\n",
    "gg"
   ]
  },
  {
   "cell_type": "code",
   "execution_count": 79,
   "id": "d7055837",
   "metadata": {
    "execution": {
     "iopub.execute_input": "2023-10-20T17:54:41.605856Z",
     "iopub.status.busy": "2023-10-20T17:54:41.605445Z",
     "iopub.status.idle": "2023-10-20T17:54:41.615263Z",
     "shell.execute_reply": "2023-10-20T17:54:41.613352Z"
    },
    "papermill": {
     "duration": 0.083726,
     "end_time": "2023-10-20T17:54:41.618900",
     "exception": false,
     "start_time": "2023-10-20T17:54:41.535174",
     "status": "completed"
    },
    "tags": []
   },
   "outputs": [
    {
     "data": {
      "text/plain": [
       "list"
      ]
     },
     "execution_count": 79,
     "metadata": {},
     "output_type": "execute_result"
    }
   ],
   "source": [
    "type(gg)"
   ]
  },
  {
   "cell_type": "code",
   "execution_count": 80,
   "id": "a8f004e6",
   "metadata": {
    "execution": {
     "iopub.execute_input": "2023-10-20T17:54:41.751309Z",
     "iopub.status.busy": "2023-10-20T17:54:41.750813Z",
     "iopub.status.idle": "2023-10-20T17:54:41.759596Z",
     "shell.execute_reply": "2023-10-20T17:54:41.758041Z"
    },
    "papermill": {
     "duration": 0.076447,
     "end_time": "2023-10-20T17:54:41.762054",
     "exception": false,
     "start_time": "2023-10-20T17:54:41.685607",
     "status": "completed"
    },
    "tags": []
   },
   "outputs": [
    {
     "data": {
      "text/plain": [
       "['sush@outlook.com', 2564856855]"
      ]
     },
     "execution_count": 80,
     "metadata": {},
     "output_type": "execute_result"
    }
   ],
   "source": [
    "gg[0] = \"sush@outlook.com\"\n",
    "gg"
   ]
  },
  {
   "cell_type": "code",
   "execution_count": 81,
   "id": "0a1b7410",
   "metadata": {
    "execution": {
     "iopub.execute_input": "2023-10-20T17:54:41.924121Z",
     "iopub.status.busy": "2023-10-20T17:54:41.923468Z",
     "iopub.status.idle": "2023-10-20T17:54:41.932881Z",
     "shell.execute_reply": "2023-10-20T17:54:41.931518Z"
    },
    "papermill": {
     "duration": 0.09289,
     "end_time": "2023-10-20T17:54:41.937068",
     "exception": false,
     "start_time": "2023-10-20T17:54:41.844178",
     "status": "completed"
    },
    "tags": []
   },
   "outputs": [
    {
     "data": {
      "text/plain": [
       "('sush@outlook.com', 2564856855)"
      ]
     },
     "execution_count": 81,
     "metadata": {},
     "output_type": "execute_result"
    }
   ],
   "source": [
    "gg = tuple(gg)\n",
    "gg"
   ]
  },
  {
   "cell_type": "code",
   "execution_count": 82,
   "id": "681e0422",
   "metadata": {
    "execution": {
     "iopub.execute_input": "2023-10-20T17:54:42.083495Z",
     "iopub.status.busy": "2023-10-20T17:54:42.082974Z",
     "iopub.status.idle": "2023-10-20T17:54:42.093072Z",
     "shell.execute_reply": "2023-10-20T17:54:42.091188Z"
    },
    "papermill": {
     "duration": 0.090026,
     "end_time": "2023-10-20T17:54:42.097694",
     "exception": false,
     "start_time": "2023-10-20T17:54:42.007668",
     "status": "completed"
    },
    "tags": []
   },
   "outputs": [
    {
     "data": {
      "text/plain": [
       "('sush@outlook.com', 2564856855)"
      ]
     },
     "execution_count": 82,
     "metadata": {},
     "output_type": "execute_result"
    }
   ],
   "source": [
    "gg = (\"sush@gmail.com\",2564856855)\n",
    "gg = list(gg)\n",
    "gg[0] = \"sush@outlook.com\"\n",
    "gg = tuple(gg)\n",
    "gg"
   ]
  },
  {
   "cell_type": "code",
   "execution_count": 83,
   "id": "8d991b2b",
   "metadata": {
    "execution": {
     "iopub.execute_input": "2023-10-20T17:54:42.250675Z",
     "iopub.status.busy": "2023-10-20T17:54:42.250196Z",
     "iopub.status.idle": "2023-10-20T17:54:42.259081Z",
     "shell.execute_reply": "2023-10-20T17:54:42.257728Z"
    },
    "papermill": {
     "duration": 0.083929,
     "end_time": "2023-10-20T17:54:42.261911",
     "exception": false,
     "start_time": "2023-10-20T17:54:42.177982",
     "status": "completed"
    },
    "tags": []
   },
   "outputs": [
    {
     "data": {
      "text/plain": [
       "[10, 20, 30]"
      ]
     },
     "execution_count": 83,
     "metadata": {},
     "output_type": "execute_result"
    }
   ],
   "source": [
    "a = [10,20,30,10]\n",
    "a = list(set(a))\n",
    "a"
   ]
  },
  {
   "cell_type": "code",
   "execution_count": 84,
   "id": "72c3007a",
   "metadata": {
    "execution": {
     "iopub.execute_input": "2023-10-20T17:54:42.406494Z",
     "iopub.status.busy": "2023-10-20T17:54:42.406047Z",
     "iopub.status.idle": "2023-10-20T17:54:42.413843Z",
     "shell.execute_reply": "2023-10-20T17:54:42.412409Z"
    },
    "papermill": {
     "duration": 0.084122,
     "end_time": "2023-10-20T17:54:42.416643",
     "exception": false,
     "start_time": "2023-10-20T17:54:42.332521",
     "status": "completed"
    },
    "tags": []
   },
   "outputs": [
    {
     "data": {
      "text/plain": [
       "[10, 20, 30]"
      ]
     },
     "execution_count": 84,
     "metadata": {},
     "output_type": "execute_result"
    }
   ],
   "source": [
    "a = list(set(a))\n",
    "a"
   ]
  },
  {
   "cell_type": "code",
   "execution_count": 85,
   "id": "0d5c9c3c",
   "metadata": {
    "execution": {
     "iopub.execute_input": "2023-10-20T17:54:42.564283Z",
     "iopub.status.busy": "2023-10-20T17:54:42.563738Z",
     "iopub.status.idle": "2023-10-20T17:54:42.573278Z",
     "shell.execute_reply": "2023-10-20T17:54:42.571673Z"
    },
    "papermill": {
     "duration": 0.091731,
     "end_time": "2023-10-20T17:54:42.576447",
     "exception": false,
     "start_time": "2023-10-20T17:54:42.484716",
     "status": "completed"
    },
    "tags": []
   },
   "outputs": [
    {
     "data": {
      "text/plain": [
       "{10, 20, 30}"
      ]
     },
     "execution_count": 85,
     "metadata": {},
     "output_type": "execute_result"
    }
   ],
   "source": [
    "c = { 10,20,30,30}\n",
    "c \n",
    "\n"
   ]
  },
  {
   "cell_type": "code",
   "execution_count": 86,
   "id": "21156aab",
   "metadata": {
    "execution": {
     "iopub.execute_input": "2023-10-20T17:54:42.711919Z",
     "iopub.status.busy": "2023-10-20T17:54:42.711475Z",
     "iopub.status.idle": "2023-10-20T17:54:42.717167Z",
     "shell.execute_reply": "2023-10-20T17:54:42.716380Z"
    },
    "papermill": {
     "duration": 0.075161,
     "end_time": "2023-10-20T17:54:42.720044",
     "exception": false,
     "start_time": "2023-10-20T17:54:42.644883",
     "status": "completed"
    },
    "tags": []
   },
   "outputs": [
    {
     "name": "stdout",
     "output_type": "stream",
     "text": [
      "3\n"
     ]
    }
   ],
   "source": [
    "thislist = [\"apple\", \"banana\", \"cherry\"]\n",
    "print(len(thislist))"
   ]
  },
  {
   "cell_type": "code",
   "execution_count": 87,
   "id": "fe47af97",
   "metadata": {
    "execution": {
     "iopub.execute_input": "2023-10-20T17:54:42.859588Z",
     "iopub.status.busy": "2023-10-20T17:54:42.859074Z",
     "iopub.status.idle": "2023-10-20T17:54:42.866036Z",
     "shell.execute_reply": "2023-10-20T17:54:42.864664Z"
    },
    "papermill": {
     "duration": 0.077972,
     "end_time": "2023-10-20T17:54:42.869853",
     "exception": false,
     "start_time": "2023-10-20T17:54:42.791881",
     "status": "completed"
    },
    "tags": []
   },
   "outputs": [
    {
     "name": "stdout",
     "output_type": "stream",
     "text": [
      "['apple', 'banana', 'cherry']\n"
     ]
    }
   ],
   "source": [
    "thislist = list((\"apple\", \"banana\", \"cherry\")) # note the double round-brackets\n",
    "print(thislist)"
   ]
  },
  {
   "cell_type": "code",
   "execution_count": 88,
   "id": "d77abde6",
   "metadata": {
    "execution": {
     "iopub.execute_input": "2023-10-20T17:54:43.007738Z",
     "iopub.status.busy": "2023-10-20T17:54:43.006742Z",
     "iopub.status.idle": "2023-10-20T17:54:43.017425Z",
     "shell.execute_reply": "2023-10-20T17:54:43.015668Z"
    },
    "papermill": {
     "duration": 0.084615,
     "end_time": "2023-10-20T17:54:43.022009",
     "exception": false,
     "start_time": "2023-10-20T17:54:42.937394",
     "status": "completed"
    },
    "tags": []
   },
   "outputs": [
    {
     "name": "stdout",
     "output_type": "stream",
     "text": [
      "['apple', 'banana', 'cherry', 'orange', 'kiwi', 'melon', 'mango']\n"
     ]
    }
   ],
   "source": [
    "thislist = [\"apple\", \"banana\", \"cherry\", \"orange\", \"kiwi\", \"melon\", \"mango\"]\n",
    "print(thislist[:])"
   ]
  },
  {
   "cell_type": "code",
   "execution_count": 89,
   "id": "3c80169c",
   "metadata": {
    "execution": {
     "iopub.execute_input": "2023-10-20T17:54:43.162768Z",
     "iopub.status.busy": "2023-10-20T17:54:43.162324Z",
     "iopub.status.idle": "2023-10-20T17:54:43.168044Z",
     "shell.execute_reply": "2023-10-20T17:54:43.167133Z"
    },
    "papermill": {
     "duration": 0.08225,
     "end_time": "2023-10-20T17:54:43.173096",
     "exception": false,
     "start_time": "2023-10-20T17:54:43.090846",
     "status": "completed"
    },
    "tags": []
   },
   "outputs": [
    {
     "name": "stdout",
     "output_type": "stream",
     "text": [
      "['orange', 'kiwi', 'melon']\n"
     ]
    }
   ],
   "source": [
    "thislist = [\"apple\", \"banana\", \"cherry\", \"orange\", \"kiwi\", \"melon\", \"mango\"]\n",
    "print(thislist[-4:-1])"
   ]
  },
  {
   "cell_type": "code",
   "execution_count": 90,
   "id": "6891837c",
   "metadata": {
    "execution": {
     "iopub.execute_input": "2023-10-20T17:54:43.309307Z",
     "iopub.status.busy": "2023-10-20T17:54:43.308658Z",
     "iopub.status.idle": "2023-10-20T17:54:43.314961Z",
     "shell.execute_reply": "2023-10-20T17:54:43.313268Z"
    },
    "papermill": {
     "duration": 0.077968,
     "end_time": "2023-10-20T17:54:43.318497",
     "exception": false,
     "start_time": "2023-10-20T17:54:43.240529",
     "status": "completed"
    },
    "tags": []
   },
   "outputs": [
    {
     "name": "stdout",
     "output_type": "stream",
     "text": [
      "['apple', 'blackcurrant', 'cherry']\n"
     ]
    }
   ],
   "source": [
    "thislist = [\"apple\", \"banana\", \"cherry\"]\n",
    "thislist[1] = \"blackcurrant\"\n",
    "print(thislist)"
   ]
  },
  {
   "cell_type": "code",
   "execution_count": 91,
   "id": "84d3a170",
   "metadata": {
    "execution": {
     "iopub.execute_input": "2023-10-20T17:54:43.451284Z",
     "iopub.status.busy": "2023-10-20T17:54:43.450875Z",
     "iopub.status.idle": "2023-10-20T17:54:43.459757Z",
     "shell.execute_reply": "2023-10-20T17:54:43.458274Z"
    },
    "papermill": {
     "duration": 0.079471,
     "end_time": "2023-10-20T17:54:43.462929",
     "exception": false,
     "start_time": "2023-10-20T17:54:43.383458",
     "status": "completed"
    },
    "tags": []
   },
   "outputs": [
    {
     "data": {
      "text/plain": [
       "['apple', 'banana', 'cherry', 'orange']"
      ]
     },
     "execution_count": 91,
     "metadata": {},
     "output_type": "execute_result"
    }
   ],
   "source": [
    "fruits = ['apple', 'banana', 'cherry']\n",
    "fruits.append(\"orange\")\n",
    "fruits"
   ]
  },
  {
   "cell_type": "code",
   "execution_count": 92,
   "id": "e834f2ff",
   "metadata": {
    "execution": {
     "iopub.execute_input": "2023-10-20T17:54:43.699444Z",
     "iopub.status.busy": "2023-10-20T17:54:43.699054Z",
     "iopub.status.idle": "2023-10-20T17:54:43.704674Z",
     "shell.execute_reply": "2023-10-20T17:54:43.703139Z"
    },
    "papermill": {
     "duration": 0.177632,
     "end_time": "2023-10-20T17:54:43.707361",
     "exception": false,
     "start_time": "2023-10-20T17:54:43.529729",
     "status": "completed"
    },
    "tags": []
   },
   "outputs": [],
   "source": [
    "fruits = ['apple', 'banana', 'cherry', 'orange']\n",
    "\n",
    "fruits.clear()"
   ]
  },
  {
   "cell_type": "code",
   "execution_count": 93,
   "id": "1d523de9",
   "metadata": {
    "execution": {
     "iopub.execute_input": "2023-10-20T17:54:43.849132Z",
     "iopub.status.busy": "2023-10-20T17:54:43.848664Z",
     "iopub.status.idle": "2023-10-20T17:54:43.856430Z",
     "shell.execute_reply": "2023-10-20T17:54:43.855109Z"
    },
    "papermill": {
     "duration": 0.082249,
     "end_time": "2023-10-20T17:54:43.859905",
     "exception": false,
     "start_time": "2023-10-20T17:54:43.777656",
     "status": "completed"
    },
    "tags": []
   },
   "outputs": [
    {
     "data": {
      "text/plain": [
       "[]"
      ]
     },
     "execution_count": 93,
     "metadata": {},
     "output_type": "execute_result"
    }
   ],
   "source": [
    "fruits "
   ]
  },
  {
   "cell_type": "code",
   "execution_count": 94,
   "id": "99d089d2",
   "metadata": {
    "execution": {
     "iopub.execute_input": "2023-10-20T17:54:43.997933Z",
     "iopub.status.busy": "2023-10-20T17:54:43.997497Z",
     "iopub.status.idle": "2023-10-20T17:54:44.005360Z",
     "shell.execute_reply": "2023-10-20T17:54:44.004425Z"
    },
    "papermill": {
     "duration": 0.079022,
     "end_time": "2023-10-20T17:54:44.008049",
     "exception": false,
     "start_time": "2023-10-20T17:54:43.929027",
     "status": "completed"
    },
    "tags": []
   },
   "outputs": [
    {
     "data": {
      "text/plain": [
       "2"
      ]
     },
     "execution_count": 94,
     "metadata": {},
     "output_type": "execute_result"
    }
   ],
   "source": [
    "tay = ['sush', 'sush', 'cherry']\n",
    "\n",
    "tay.count(\"sush\")"
   ]
  },
  {
   "cell_type": "code",
   "execution_count": 95,
   "id": "f1def81e",
   "metadata": {
    "execution": {
     "iopub.execute_input": "2023-10-20T17:54:44.147230Z",
     "iopub.status.busy": "2023-10-20T17:54:44.146836Z",
     "iopub.status.idle": "2023-10-20T17:54:44.154570Z",
     "shell.execute_reply": "2023-10-20T17:54:44.153652Z"
    },
    "papermill": {
     "duration": 0.079359,
     "end_time": "2023-10-20T17:54:44.157231",
     "exception": false,
     "start_time": "2023-10-20T17:54:44.077872",
     "status": "completed"
    },
    "tags": []
   },
   "outputs": [
    {
     "data": {
      "text/plain": [
       "1"
      ]
     },
     "execution_count": 95,
     "metadata": {},
     "output_type": "execute_result"
    }
   ],
   "source": [
    "fruits = ['apple', 'banana', 'cherry']\n",
    "\n",
    "points = (1, 4, 5, 9)\n",
    "\n",
    "fruits.extend(points)\n",
    "fruits[3]"
   ]
  },
  {
   "cell_type": "code",
   "execution_count": 96,
   "id": "1a06c642",
   "metadata": {
    "execution": {
     "iopub.execute_input": "2023-10-20T17:54:44.295210Z",
     "iopub.status.busy": "2023-10-20T17:54:44.294835Z",
     "iopub.status.idle": "2023-10-20T17:54:44.302405Z",
     "shell.execute_reply": "2023-10-20T17:54:44.301561Z"
    },
    "papermill": {
     "duration": 0.077459,
     "end_time": "2023-10-20T17:54:44.304667",
     "exception": false,
     "start_time": "2023-10-20T17:54:44.227208",
     "status": "completed"
    },
    "tags": []
   },
   "outputs": [
    {
     "data": {
      "text/plain": [
       "['apple', 'banana', 'cherry', (1, 4, 5, 9)]"
      ]
     },
     "execution_count": 96,
     "metadata": {},
     "output_type": "execute_result"
    }
   ],
   "source": [
    "fruits = ['apple', 'banana', 'cherry']\n",
    "\n",
    "points = (1, 4, 5, 9)\n",
    "\n",
    "fruits.append(points)\n",
    "fruits"
   ]
  },
  {
   "cell_type": "code",
   "execution_count": 97,
   "id": "755325e3",
   "metadata": {
    "execution": {
     "iopub.execute_input": "2023-10-20T17:54:44.441509Z",
     "iopub.status.busy": "2023-10-20T17:54:44.441091Z",
     "iopub.status.idle": "2023-10-20T17:54:44.448665Z",
     "shell.execute_reply": "2023-10-20T17:54:44.447394Z"
    },
    "papermill": {
     "duration": 0.079801,
     "end_time": "2023-10-20T17:54:44.451238",
     "exception": false,
     "start_time": "2023-10-20T17:54:44.371437",
     "status": "completed"
    },
    "tags": []
   },
   "outputs": [
    {
     "data": {
      "text/plain": [
       "(1, 4, 5, 9)"
      ]
     },
     "execution_count": 97,
     "metadata": {},
     "output_type": "execute_result"
    }
   ],
   "source": [
    "fruits[3]"
   ]
  },
  {
   "cell_type": "code",
   "execution_count": 98,
   "id": "f38bf82a",
   "metadata": {
    "execution": {
     "iopub.execute_input": "2023-10-20T17:54:44.596628Z",
     "iopub.status.busy": "2023-10-20T17:54:44.596180Z",
     "iopub.status.idle": "2023-10-20T17:54:44.603755Z",
     "shell.execute_reply": "2023-10-20T17:54:44.602646Z"
    },
    "papermill": {
     "duration": 0.081779,
     "end_time": "2023-10-20T17:54:44.606274",
     "exception": false,
     "start_time": "2023-10-20T17:54:44.524495",
     "status": "completed"
    },
    "tags": []
   },
   "outputs": [
    {
     "data": {
      "text/plain": [
       "0"
      ]
     },
     "execution_count": 98,
     "metadata": {},
     "output_type": "execute_result"
    }
   ],
   "source": [
    "fruits = ['c001asha', 'coo2swapna', 'c001asha']\n",
    "\n",
    "fruits.index(\"c001asha\")"
   ]
  },
  {
   "cell_type": "code",
   "execution_count": 99,
   "id": "0f9749a4",
   "metadata": {
    "execution": {
     "iopub.execute_input": "2023-10-20T17:54:44.747381Z",
     "iopub.status.busy": "2023-10-20T17:54:44.746052Z",
     "iopub.status.idle": "2023-10-20T17:54:44.754263Z",
     "shell.execute_reply": "2023-10-20T17:54:44.752907Z"
    },
    "papermill": {
     "duration": 0.084365,
     "end_time": "2023-10-20T17:54:44.756840",
     "exception": false,
     "start_time": "2023-10-20T17:54:44.672475",
     "status": "completed"
    },
    "tags": []
   },
   "outputs": [
    {
     "data": {
      "text/plain": [
       "['apple', 'banana', 'orange', 'cherry']"
      ]
     },
     "execution_count": 99,
     "metadata": {},
     "output_type": "execute_result"
    }
   ],
   "source": [
    "fruits = ['apple', 'banana', 'cherry']\n",
    "\n",
    "fruits.insert(2, \"orange\")\n",
    "fruits"
   ]
  },
  {
   "cell_type": "code",
   "execution_count": 100,
   "id": "c785dd5c",
   "metadata": {
    "execution": {
     "iopub.execute_input": "2023-10-20T17:54:44.898989Z",
     "iopub.status.busy": "2023-10-20T17:54:44.898588Z",
     "iopub.status.idle": "2023-10-20T17:54:44.906939Z",
     "shell.execute_reply": "2023-10-20T17:54:44.905364Z"
    },
    "papermill": {
     "duration": 0.080131,
     "end_time": "2023-10-20T17:54:44.909401",
     "exception": false,
     "start_time": "2023-10-20T17:54:44.829270",
     "status": "completed"
    },
    "tags": []
   },
   "outputs": [
    {
     "data": {
      "text/plain": [
       "'apple'"
      ]
     },
     "execution_count": 100,
     "metadata": {},
     "output_type": "execute_result"
    }
   ],
   "source": [
    "fruits = ['apple', 'banana', 'cherry']\n",
    "a = fruits.pop(0)\n",
    "a"
   ]
  },
  {
   "cell_type": "code",
   "execution_count": 101,
   "id": "6f60ee59",
   "metadata": {
    "execution": {
     "iopub.execute_input": "2023-10-20T17:54:45.048880Z",
     "iopub.status.busy": "2023-10-20T17:54:45.047129Z",
     "iopub.status.idle": "2023-10-20T17:54:45.057000Z",
     "shell.execute_reply": "2023-10-20T17:54:45.055628Z"
    },
    "papermill": {
     "duration": 0.084717,
     "end_time": "2023-10-20T17:54:45.059536",
     "exception": false,
     "start_time": "2023-10-20T17:54:44.974819",
     "status": "completed"
    },
    "tags": []
   },
   "outputs": [
    {
     "data": {
      "text/plain": [
       "0"
      ]
     },
     "execution_count": 101,
     "metadata": {},
     "output_type": "execute_result"
    }
   ],
   "source": [
    "fruits = ['apple', 'banana', 'cherry']\n",
    "a = fruits.index(\"apple\")\n",
    "a"
   ]
  },
  {
   "cell_type": "code",
   "execution_count": 102,
   "id": "abd8fccc",
   "metadata": {
    "execution": {
     "iopub.execute_input": "2023-10-20T17:54:45.190786Z",
     "iopub.status.busy": "2023-10-20T17:54:45.190272Z",
     "iopub.status.idle": "2023-10-20T17:54:45.198662Z",
     "shell.execute_reply": "2023-10-20T17:54:45.197615Z"
    },
    "papermill": {
     "duration": 0.076633,
     "end_time": "2023-10-20T17:54:45.201358",
     "exception": false,
     "start_time": "2023-10-20T17:54:45.124725",
     "status": "completed"
    },
    "tags": []
   },
   "outputs": [
    {
     "data": {
      "text/plain": [
       "['apple', 'banana', 'banana']"
      ]
     },
     "execution_count": 102,
     "metadata": {},
     "output_type": "execute_result"
    }
   ],
   "source": [
    "fruits = ['banana', \"apple\",'banana', 'banana']\n",
    "\n",
    "fruits.remove(\"banana\")\n",
    "fruits \n",
    "\n",
    "# ctr a\n",
    "#  ctr /"
   ]
  },
  {
   "cell_type": "code",
   "execution_count": 103,
   "id": "e70be30d",
   "metadata": {
    "execution": {
     "iopub.execute_input": "2023-10-20T17:54:45.336238Z",
     "iopub.status.busy": "2023-10-20T17:54:45.335829Z",
     "iopub.status.idle": "2023-10-20T17:54:45.344415Z",
     "shell.execute_reply": "2023-10-20T17:54:45.343013Z"
    },
    "papermill": {
     "duration": 0.080339,
     "end_time": "2023-10-20T17:54:45.346992",
     "exception": false,
     "start_time": "2023-10-20T17:54:45.266653",
     "status": "completed"
    },
    "tags": []
   },
   "outputs": [
    {
     "data": {
      "text/plain": [
       "['cherry', 'banana', 'apple']"
      ]
     },
     "execution_count": 103,
     "metadata": {},
     "output_type": "execute_result"
    }
   ],
   "source": [
    "fruits = ['apple', 'banana', 'cherry']\n",
    "\n",
    "fruits.reverse()\n",
    "fruits"
   ]
  },
  {
   "cell_type": "code",
   "execution_count": 104,
   "id": "35b36771",
   "metadata": {
    "execution": {
     "iopub.execute_input": "2023-10-20T17:54:45.482962Z",
     "iopub.status.busy": "2023-10-20T17:54:45.482525Z",
     "iopub.status.idle": "2023-10-20T17:54:45.490781Z",
     "shell.execute_reply": "2023-10-20T17:54:45.489700Z"
    },
    "papermill": {
     "duration": 0.081118,
     "end_time": "2023-10-20T17:54:45.494631",
     "exception": false,
     "start_time": "2023-10-20T17:54:45.413513",
     "status": "completed"
    },
    "tags": []
   },
   "outputs": [
    {
     "data": {
      "text/plain": [
       "[20, 11, 9, 30]"
      ]
     },
     "execution_count": 104,
     "metadata": {},
     "output_type": "execute_result"
    }
   ],
   "source": [
    "a= [20,11,9,30]\n",
    "a"
   ]
  },
  {
   "cell_type": "code",
   "execution_count": 105,
   "id": "58b50dd6",
   "metadata": {
    "execution": {
     "iopub.execute_input": "2023-10-20T17:54:45.636437Z",
     "iopub.status.busy": "2023-10-20T17:54:45.635945Z",
     "iopub.status.idle": "2023-10-20T17:54:45.644069Z",
     "shell.execute_reply": "2023-10-20T17:54:45.643152Z"
    },
    "papermill": {
     "duration": 0.082069,
     "end_time": "2023-10-20T17:54:45.646294",
     "exception": false,
     "start_time": "2023-10-20T17:54:45.564225",
     "status": "completed"
    },
    "tags": []
   },
   "outputs": [
    {
     "data": {
      "text/plain": [
       "[30, 20, 11, 9]"
      ]
     },
     "execution_count": 105,
     "metadata": {},
     "output_type": "execute_result"
    }
   ],
   "source": [
    "a.sort(reverse = True)\n",
    "a"
   ]
  },
  {
   "cell_type": "code",
   "execution_count": 106,
   "id": "f38b1aef",
   "metadata": {
    "execution": {
     "iopub.execute_input": "2023-10-20T17:54:45.785944Z",
     "iopub.status.busy": "2023-10-20T17:54:45.784836Z",
     "iopub.status.idle": "2023-10-20T17:54:45.792963Z",
     "shell.execute_reply": "2023-10-20T17:54:45.791764Z"
    },
    "papermill": {
     "duration": 0.08103,
     "end_time": "2023-10-20T17:54:45.795606",
     "exception": false,
     "start_time": "2023-10-20T17:54:45.714576",
     "status": "completed"
    },
    "tags": []
   },
   "outputs": [
    {
     "data": {
      "text/plain": [
       "[10, 20, 30, [40, 50, 60]]"
      ]
     },
     "execution_count": 106,
     "metadata": {},
     "output_type": "execute_result"
    }
   ],
   "source": [
    "d = [10,20,30]\n",
    "d.append([40,50,60])\n",
    "d"
   ]
  },
  {
   "cell_type": "code",
   "execution_count": 107,
   "id": "2e93aac1",
   "metadata": {
    "execution": {
     "iopub.execute_input": "2023-10-20T17:54:45.931978Z",
     "iopub.status.busy": "2023-10-20T17:54:45.930476Z",
     "iopub.status.idle": "2023-10-20T17:54:45.940537Z",
     "shell.execute_reply": "2023-10-20T17:54:45.939038Z"
    },
    "papermill": {
     "duration": 0.08054,
     "end_time": "2023-10-20T17:54:45.943387",
     "exception": false,
     "start_time": "2023-10-20T17:54:45.862847",
     "status": "completed"
    },
    "tags": []
   },
   "outputs": [
    {
     "data": {
      "text/plain": [
       "[10, 20, 30, 40, 50, 60]"
      ]
     },
     "execution_count": 107,
     "metadata": {},
     "output_type": "execute_result"
    }
   ],
   "source": [
    "e = [10,20,30]\n",
    "e.extend([40,50,60])\n",
    "e"
   ]
  },
  {
   "cell_type": "code",
   "execution_count": 108,
   "id": "ddc7451a",
   "metadata": {
    "execution": {
     "iopub.execute_input": "2023-10-20T17:54:46.077311Z",
     "iopub.status.busy": "2023-10-20T17:54:46.076858Z",
     "iopub.status.idle": "2023-10-20T17:54:46.085828Z",
     "shell.execute_reply": "2023-10-20T17:54:46.084619Z"
    },
    "papermill": {
     "duration": 0.078171,
     "end_time": "2023-10-20T17:54:46.088757",
     "exception": false,
     "start_time": "2023-10-20T17:54:46.010586",
     "status": "completed"
    },
    "tags": []
   },
   "outputs": [
    {
     "data": {
      "text/plain": [
       "[2, 3, 4]"
      ]
     },
     "execution_count": 108,
     "metadata": {},
     "output_type": "execute_result"
    }
   ],
   "source": [
    "a = [2,3,4,4]\n",
    "a = list(set(a))\n",
    "a"
   ]
  },
  {
   "cell_type": "code",
   "execution_count": 109,
   "id": "200403f9",
   "metadata": {
    "execution": {
     "iopub.execute_input": "2023-10-20T17:54:46.223016Z",
     "iopub.status.busy": "2023-10-20T17:54:46.222270Z",
     "iopub.status.idle": "2023-10-20T17:54:46.229930Z",
     "shell.execute_reply": "2023-10-20T17:54:46.228244Z"
    },
    "papermill": {
     "duration": 0.076971,
     "end_time": "2023-10-20T17:54:46.232425",
     "exception": false,
     "start_time": "2023-10-20T17:54:46.155454",
     "status": "completed"
    },
    "tags": []
   },
   "outputs": [
    {
     "name": "stdout",
     "output_type": "stream",
     "text": [
      "yes\n",
      "tayyab\n",
      "prasad\n"
     ]
    }
   ],
   "source": [
    "if 9 > 6 : \n",
    "    print(\"yes\")\n",
    "    print(\"tayyab\")\n",
    "    \n",
    "print(\"prasad\")\n"
   ]
  },
  {
   "cell_type": "code",
   "execution_count": 110,
   "id": "46f3bbec",
   "metadata": {
    "execution": {
     "iopub.execute_input": "2023-10-20T17:54:46.368366Z",
     "iopub.status.busy": "2023-10-20T17:54:46.366795Z",
     "iopub.status.idle": "2023-10-20T17:54:46.375033Z",
     "shell.execute_reply": "2023-10-20T17:54:46.373426Z"
    },
    "papermill": {
     "duration": 0.0772,
     "end_time": "2023-10-20T17:54:46.377390",
     "exception": false,
     "start_time": "2023-10-20T17:54:46.300190",
     "status": "completed"
    },
    "tags": []
   },
   "outputs": [
    {
     "name": "stdout",
     "output_type": "stream",
     "text": [
      "prasad\n"
     ]
    }
   ],
   "source": [
    "if 9 > 16 : \n",
    "    print(\"yes\")\n",
    "    print(\"tayyab\")\n",
    "    \n",
    "print(\"prasad\")"
   ]
  },
  {
   "cell_type": "code",
   "execution_count": 111,
   "id": "8bbda75a",
   "metadata": {
    "execution": {
     "iopub.execute_input": "2023-10-20T17:54:46.510732Z",
     "iopub.status.busy": "2023-10-20T17:54:46.509831Z",
     "iopub.status.idle": "2023-10-20T17:54:46.514832Z",
     "shell.execute_reply": "2023-10-20T17:54:46.513604Z"
    },
    "papermill": {
     "duration": 0.074543,
     "end_time": "2023-10-20T17:54:46.517375",
     "exception": false,
     "start_time": "2023-10-20T17:54:46.442832",
     "status": "completed"
    },
    "tags": []
   },
   "outputs": [],
   "source": [
    "# select *\n",
    "#             from table1"
   ]
  },
  {
   "cell_type": "code",
   "execution_count": 112,
   "id": "96602bb8",
   "metadata": {
    "execution": {
     "iopub.execute_input": "2023-10-20T17:54:46.649414Z",
     "iopub.status.busy": "2023-10-20T17:54:46.648575Z",
     "iopub.status.idle": "2023-10-20T17:54:46.656009Z",
     "shell.execute_reply": "2023-10-20T17:54:46.654717Z"
    },
    "papermill": {
     "duration": 0.077072,
     "end_time": "2023-10-20T17:54:46.659237",
     "exception": false,
     "start_time": "2023-10-20T17:54:46.582165",
     "status": "completed"
    },
    "tags": []
   },
   "outputs": [
    {
     "name": "stdout",
     "output_type": "stream",
     "text": [
      "the girl got distinction\n",
      "distinction\n"
     ]
    }
   ],
   "source": [
    "marks = 80\n",
    "gender = \"female\"\n",
    "\n",
    "\n",
    "if marks > 75 :  \n",
    "    if gender == \"male\" :\n",
    "        print(\"the boy got distinction\")\n",
    "    else :\n",
    "        print(\"the girl got distinction\")        \n",
    "    print(\"distinction\")\n",
    "elif marks > 50 :\n",
    "    print(\"pass\")\n",
    "else :\n",
    "    print(\"fail\")"
   ]
  },
  {
   "cell_type": "code",
   "execution_count": 113,
   "id": "1221fc85",
   "metadata": {
    "execution": {
     "iopub.execute_input": "2023-10-20T17:54:46.798479Z",
     "iopub.status.busy": "2023-10-20T17:54:46.797584Z",
     "iopub.status.idle": "2023-10-20T17:54:46.804872Z",
     "shell.execute_reply": "2023-10-20T17:54:46.803502Z"
    },
    "papermill": {
     "duration": 0.080505,
     "end_time": "2023-10-20T17:54:46.808574",
     "exception": false,
     "start_time": "2023-10-20T17:54:46.728069",
     "status": "completed"
    },
    "tags": []
   },
   "outputs": [
    {
     "name": "stdout",
     "output_type": "stream",
     "text": [
      "mlv 100\n",
      "mlv 97\n",
      "mlv 94\n",
      "mlv 91\n"
     ]
    }
   ],
   "source": [
    "salary = 100\n",
    "\n",
    "while salary > 90 :\n",
    "    print(\"mlv\",salary )\n",
    "    salary = salary - 3"
   ]
  },
  {
   "cell_type": "code",
   "execution_count": 114,
   "id": "add0efa6",
   "metadata": {
    "execution": {
     "iopub.execute_input": "2023-10-20T17:54:46.947786Z",
     "iopub.status.busy": "2023-10-20T17:54:46.946983Z",
     "iopub.status.idle": "2023-10-20T17:54:46.953701Z",
     "shell.execute_reply": "2023-10-20T17:54:46.952522Z"
    },
    "papermill": {
     "duration": 0.07815,
     "end_time": "2023-10-20T17:54:46.956117",
     "exception": false,
     "start_time": "2023-10-20T17:54:46.877967",
     "status": "completed"
    },
    "tags": []
   },
   "outputs": [
    {
     "name": "stdout",
     "output_type": "stream",
     "text": [
      "10\n",
      "----\n",
      "13\n",
      "----\n",
      "16\n",
      "----\n",
      "19\n",
      "----\n"
     ]
    }
   ],
   "source": [
    "for i in  range(10,20,3) :\n",
    "    print(i)\n",
    "    print(\"----\")"
   ]
  },
  {
   "cell_type": "code",
   "execution_count": 115,
   "id": "eb169528",
   "metadata": {
    "execution": {
     "iopub.execute_input": "2023-10-20T17:54:47.111519Z",
     "iopub.status.busy": "2023-10-20T17:54:47.110919Z",
     "iopub.status.idle": "2023-10-20T17:54:47.128335Z",
     "shell.execute_reply": "2023-10-20T17:54:47.122816Z"
    },
    "papermill": {
     "duration": 0.09171,
     "end_time": "2023-10-20T17:54:47.131931",
     "exception": false,
     "start_time": "2023-10-20T17:54:47.040221",
     "status": "completed"
    },
    "tags": []
   },
   "outputs": [
    {
     "name": "stdout",
     "output_type": "stream",
     "text": [
      "10\n",
      "----\n",
      "husna\n",
      "13\n",
      "----\n",
      "husna\n",
      "16\n",
      "----\n",
      "husna\n",
      "19\n",
      "----\n",
      "husna\n"
     ]
    }
   ],
   "source": [
    "for i in  [10,13,16,19] :\n",
    "    print(i)\n",
    "    print(\"----\")\n",
    "    print(\"husna\")"
   ]
  },
  {
   "cell_type": "code",
   "execution_count": 116,
   "id": "99cedebb",
   "metadata": {
    "execution": {
     "iopub.execute_input": "2023-10-20T17:54:47.275751Z",
     "iopub.status.busy": "2023-10-20T17:54:47.275308Z",
     "iopub.status.idle": "2023-10-20T17:54:47.281513Z",
     "shell.execute_reply": "2023-10-20T17:54:47.280417Z"
    },
    "papermill": {
     "duration": 0.081988,
     "end_time": "2023-10-20T17:54:47.284132",
     "exception": false,
     "start_time": "2023-10-20T17:54:47.202144",
     "status": "completed"
    },
    "tags": []
   },
   "outputs": [
    {
     "name": "stdout",
     "output_type": "stream",
     "text": [
      "the element is  10\n",
      "the element is  20\n",
      "the element is  30\n",
      "the element is  40\n",
      "the element is  50\n"
     ]
    }
   ],
   "source": [
    "a = [10,20,30,40,50]\n",
    "\n",
    "for  abhi  in a :\n",
    "    print(\"the element is \",abhi)"
   ]
  },
  {
   "cell_type": "code",
   "execution_count": 117,
   "id": "961055eb",
   "metadata": {
    "execution": {
     "iopub.execute_input": "2023-10-20T17:54:47.423322Z",
     "iopub.status.busy": "2023-10-20T17:54:47.422464Z",
     "iopub.status.idle": "2023-10-20T17:54:47.429386Z",
     "shell.execute_reply": "2023-10-20T17:54:47.428430Z"
    },
    "papermill": {
     "duration": 0.082124,
     "end_time": "2023-10-20T17:54:47.431854",
     "exception": false,
     "start_time": "2023-10-20T17:54:47.349730",
     "status": "completed"
    },
    "tags": []
   },
   "outputs": [
    {
     "name": "stdout",
     "output_type": "stream",
     "text": [
      "the element is  10\n",
      "the element is  20\n",
      "the element is  30\n",
      "the element is  40\n",
      "the element is  50\n"
     ]
    }
   ],
   "source": [
    "a = [10,20,30,40,50]\n",
    "\n",
    "for abhi in range(len(a)) : # [ 0,1,2,3,4]\n",
    "    print(\"the element is \",a[abhi])\n",
    "    "
   ]
  },
  {
   "cell_type": "code",
   "execution_count": 118,
   "id": "35e97512",
   "metadata": {
    "execution": {
     "iopub.execute_input": "2023-10-20T17:54:47.572309Z",
     "iopub.status.busy": "2023-10-20T17:54:47.571520Z",
     "iopub.status.idle": "2023-10-20T17:54:47.578452Z",
     "shell.execute_reply": "2023-10-20T17:54:47.576714Z"
    },
    "papermill": {
     "duration": 0.080451,
     "end_time": "2023-10-20T17:54:47.582673",
     "exception": false,
     "start_time": "2023-10-20T17:54:47.502222",
     "status": "completed"
    },
    "tags": []
   },
   "outputs": [
    {
     "name": "stdout",
     "output_type": "stream",
     "text": [
      "1\n",
      "2\n",
      "3\n",
      "4\n"
     ]
    }
   ],
   "source": [
    "for i in range(1,5):\n",
    "    print(i)"
   ]
  },
  {
   "cell_type": "markdown",
   "id": "66569ae9",
   "metadata": {
    "papermill": {
     "duration": 0.066583,
     "end_time": "2023-10-20T17:54:47.717692",
     "exception": false,
     "start_time": "2023-10-20T17:54:47.651109",
     "status": "completed"
    },
    "tags": []
   },
   "source": [
    "### "
   ]
  },
  {
   "cell_type": "code",
   "execution_count": 119,
   "id": "b940fd82",
   "metadata": {
    "execution": {
     "iopub.execute_input": "2023-10-20T17:54:47.855089Z",
     "iopub.status.busy": "2023-10-20T17:54:47.853678Z",
     "iopub.status.idle": "2023-10-20T17:54:47.860915Z",
     "shell.execute_reply": "2023-10-20T17:54:47.859405Z"
    },
    "papermill": {
     "duration": 0.078064,
     "end_time": "2023-10-20T17:54:47.863692",
     "exception": false,
     "start_time": "2023-10-20T17:54:47.785628",
     "status": "completed"
    },
    "tags": []
   },
   "outputs": [
    {
     "name": "stdout",
     "output_type": "stream",
     "text": [
      "{'apple', 'banana', 'cherry', 'orange'}\n"
     ]
    }
   ],
   "source": [
    "fruits = {\"apple\", \"banana\", \"cherry\"}\n",
    "\n",
    "fruits.add(\"orange\")\n",
    "\n",
    "print(fruits)"
   ]
  },
  {
   "cell_type": "code",
   "execution_count": 120,
   "id": "ed747e20",
   "metadata": {
    "execution": {
     "iopub.execute_input": "2023-10-20T17:54:48.006785Z",
     "iopub.status.busy": "2023-10-20T17:54:48.006295Z",
     "iopub.status.idle": "2023-10-20T17:54:48.014061Z",
     "shell.execute_reply": "2023-10-20T17:54:48.012237Z"
    },
    "papermill": {
     "duration": 0.083787,
     "end_time": "2023-10-20T17:54:48.017298",
     "exception": false,
     "start_time": "2023-10-20T17:54:47.933511",
     "status": "completed"
    },
    "tags": []
   },
   "outputs": [
    {
     "name": "stdout",
     "output_type": "stream",
     "text": [
      "{'tayyab'}\n"
     ]
    }
   ],
   "source": [
    "fruits = {\"apple\", \"banana\", \"cherry\"}\n",
    "\n",
    "fruits.clear()\n",
    "\n",
    "fruits.add(\"tayyab\")\n",
    "\n",
    "print(fruits)"
   ]
  },
  {
   "cell_type": "code",
   "execution_count": 121,
   "id": "5e2fa8a0",
   "metadata": {
    "execution": {
     "iopub.execute_input": "2023-10-20T17:54:48.168853Z",
     "iopub.status.busy": "2023-10-20T17:54:48.168440Z",
     "iopub.status.idle": "2023-10-20T17:54:48.176009Z",
     "shell.execute_reply": "2023-10-20T17:54:48.174564Z"
    },
    "papermill": {
     "duration": 0.085165,
     "end_time": "2023-10-20T17:54:48.178934",
     "exception": false,
     "start_time": "2023-10-20T17:54:48.093769",
     "status": "completed"
    },
    "tags": []
   },
   "outputs": [
    {
     "name": "stdout",
     "output_type": "stream",
     "text": [
      "{'banana', 'cherry'}\n"
     ]
    }
   ],
   "source": [
    "x = {\"apple\", \"banana\", \"cherry\"}\n",
    "y = {\"google\", \"microsoft\", \"apple\"}\n",
    "\n",
    "z = x.difference(y)\n",
    "\n",
    "print(z)"
   ]
  },
  {
   "cell_type": "code",
   "execution_count": 122,
   "id": "1dafc234",
   "metadata": {
    "execution": {
     "iopub.execute_input": "2023-10-20T17:54:48.320643Z",
     "iopub.status.busy": "2023-10-20T17:54:48.320199Z",
     "iopub.status.idle": "2023-10-20T17:54:48.327748Z",
     "shell.execute_reply": "2023-10-20T17:54:48.326327Z"
    },
    "papermill": {
     "duration": 0.082007,
     "end_time": "2023-10-20T17:54:48.330234",
     "exception": false,
     "start_time": "2023-10-20T17:54:48.248227",
     "status": "completed"
    },
    "tags": []
   },
   "outputs": [
    {
     "name": "stdout",
     "output_type": "stream",
     "text": [
      "{'apple'}\n"
     ]
    }
   ],
   "source": [
    "x = {\"apple\", \"banana\", \"cherry\"}\n",
    "y = {\"google\", \"microsoft\", \"apple\"}\n",
    "\n",
    "z = y.intersection(x)\n",
    "\n",
    "print(z)"
   ]
  },
  {
   "cell_type": "code",
   "execution_count": 123,
   "id": "834031c0",
   "metadata": {
    "execution": {
     "iopub.execute_input": "2023-10-20T17:54:48.470148Z",
     "iopub.status.busy": "2023-10-20T17:54:48.469619Z",
     "iopub.status.idle": "2023-10-20T17:54:48.477164Z",
     "shell.execute_reply": "2023-10-20T17:54:48.475632Z"
    },
    "papermill": {
     "duration": 0.081256,
     "end_time": "2023-10-20T17:54:48.480214",
     "exception": false,
     "start_time": "2023-10-20T17:54:48.398958",
     "status": "completed"
    },
    "tags": []
   },
   "outputs": [
    {
     "name": "stdout",
     "output_type": "stream",
     "text": [
      "False\n"
     ]
    }
   ],
   "source": [
    "x = {\"apple\", \"google\", \"cherry\"}\n",
    "y = {\"google\", \"microsoft\", \"facebook\"}\n",
    "\n",
    "z = x.isdisjoint(y)\n",
    "\n",
    "print(z)\n"
   ]
  },
  {
   "cell_type": "code",
   "execution_count": 124,
   "id": "3eaa0929",
   "metadata": {
    "execution": {
     "iopub.execute_input": "2023-10-20T17:54:48.614979Z",
     "iopub.status.busy": "2023-10-20T17:54:48.614498Z",
     "iopub.status.idle": "2023-10-20T17:54:48.621325Z",
     "shell.execute_reply": "2023-10-20T17:54:48.620109Z"
    },
    "papermill": {
     "duration": 0.077191,
     "end_time": "2023-10-20T17:54:48.624312",
     "exception": false,
     "start_time": "2023-10-20T17:54:48.547121",
     "status": "completed"
    },
    "tags": []
   },
   "outputs": [
    {
     "name": "stdout",
     "output_type": "stream",
     "text": [
      "False\n"
     ]
    }
   ],
   "source": [
    "x = {\"a\", \"b\", \"h\"}\n",
    "y = {\"f\", \"e\", \"d\", \"c\", \"b\", \"a\"}\n",
    "\n",
    "z = x.issubset(y)\n",
    "\n",
    "print(z)"
   ]
  },
  {
   "cell_type": "code",
   "execution_count": 125,
   "id": "725b12fb",
   "metadata": {
    "execution": {
     "iopub.execute_input": "2023-10-20T17:54:48.757905Z",
     "iopub.status.busy": "2023-10-20T17:54:48.757333Z",
     "iopub.status.idle": "2023-10-20T17:54:48.766400Z",
     "shell.execute_reply": "2023-10-20T17:54:48.764427Z"
    },
    "papermill": {
     "duration": 0.078946,
     "end_time": "2023-10-20T17:54:48.769363",
     "exception": false,
     "start_time": "2023-10-20T17:54:48.690417",
     "status": "completed"
    },
    "tags": []
   },
   "outputs": [
    {
     "name": "stdout",
     "output_type": "stream",
     "text": [
      "False\n"
     ]
    }
   ],
   "source": [
    "x = {\"f\", \"e\", \"d\", \"c\", \"b\", \"a\"}\n",
    "y = {\"a\", \"b\", \"z\"}\n",
    "\n",
    "z = x.issuperset(y)\n",
    "\n",
    "print(z)"
   ]
  },
  {
   "cell_type": "code",
   "execution_count": 126,
   "id": "e617e304",
   "metadata": {
    "execution": {
     "iopub.execute_input": "2023-10-20T17:54:48.904131Z",
     "iopub.status.busy": "2023-10-20T17:54:48.903331Z",
     "iopub.status.idle": "2023-10-20T17:54:48.910072Z",
     "shell.execute_reply": "2023-10-20T17:54:48.908719Z"
    },
    "papermill": {
     "duration": 0.078103,
     "end_time": "2023-10-20T17:54:48.913192",
     "exception": false,
     "start_time": "2023-10-20T17:54:48.835089",
     "status": "completed"
    },
    "tags": []
   },
   "outputs": [
    {
     "name": "stdout",
     "output_type": "stream",
     "text": [
      "{'banana', 'cherry'}\n"
     ]
    }
   ],
   "source": [
    "fruits = {\"apple\", \"banana\", \"cherry\"}\n",
    "\n",
    "fruits.pop()\n",
    "\n",
    "print(fruits)"
   ]
  },
  {
   "cell_type": "code",
   "execution_count": 127,
   "id": "3e23ace1",
   "metadata": {
    "execution": {
     "iopub.execute_input": "2023-10-20T17:54:49.049335Z",
     "iopub.status.busy": "2023-10-20T17:54:49.048925Z",
     "iopub.status.idle": "2023-10-20T17:54:49.054189Z",
     "shell.execute_reply": "2023-10-20T17:54:49.053432Z"
    },
    "papermill": {
     "duration": 0.078422,
     "end_time": "2023-10-20T17:54:49.058326",
     "exception": false,
     "start_time": "2023-10-20T17:54:48.979904",
     "status": "completed"
    },
    "tags": []
   },
   "outputs": [
    {
     "name": "stdout",
     "output_type": "stream",
     "text": [
      "{'apple', 'banana', 'cherry'}\n"
     ]
    }
   ],
   "source": [
    "x = {\"apple\", \"banana\", \"cherry\"}\n",
    "y = {\"google\", \"microsoft\", \"apple\"}\n",
    "\n",
    "z = x.union(y)\n",
    "\n",
    "print(x)"
   ]
  },
  {
   "cell_type": "code",
   "execution_count": 128,
   "id": "222998e1",
   "metadata": {
    "execution": {
     "iopub.execute_input": "2023-10-20T17:54:49.207227Z",
     "iopub.status.busy": "2023-10-20T17:54:49.206663Z",
     "iopub.status.idle": "2023-10-20T17:54:49.214449Z",
     "shell.execute_reply": "2023-10-20T17:54:49.212268Z"
    },
    "papermill": {
     "duration": 0.085898,
     "end_time": "2023-10-20T17:54:49.217680",
     "exception": false,
     "start_time": "2023-10-20T17:54:49.131782",
     "status": "completed"
    },
    "tags": []
   },
   "outputs": [
    {
     "name": "stdout",
     "output_type": "stream",
     "text": [
      "{'banana', 'microsoft', 'cherry', 'apple', 'google'}\n"
     ]
    }
   ],
   "source": [
    "x = {\"apple\", \"banana\", \"cherry\"}\n",
    "y = {\"google\", \"microsoft\", \"apple\"}\n",
    "\n",
    "x.update(y)\n",
    "\n",
    "print(x)"
   ]
  },
  {
   "cell_type": "code",
   "execution_count": 129,
   "id": "9355a383",
   "metadata": {
    "execution": {
     "iopub.execute_input": "2023-10-20T17:54:49.366607Z",
     "iopub.status.busy": "2023-10-20T17:54:49.366190Z",
     "iopub.status.idle": "2023-10-20T17:54:49.373008Z",
     "shell.execute_reply": "2023-10-20T17:54:49.371832Z"
    },
    "papermill": {
     "duration": 0.082846,
     "end_time": "2023-10-20T17:54:49.375643",
     "exception": false,
     "start_time": "2023-10-20T17:54:49.292797",
     "status": "completed"
    },
    "tags": []
   },
   "outputs": [
    {
     "name": "stdout",
     "output_type": "stream",
     "text": [
      "{'key 1': 'sush', 'key 2': 'sush', 'key 3': 'sush'}\n"
     ]
    }
   ],
   "source": [
    "x = ('key 1', 'key 2', 'key 3')\n",
    "y = \"sush\"\n",
    "\n",
    "thisdict = dict.fromkeys(x, y)\n",
    "\n",
    "print(thisdict)"
   ]
  },
  {
   "cell_type": "code",
   "execution_count": 130,
   "id": "cf59b26a",
   "metadata": {
    "execution": {
     "iopub.execute_input": "2023-10-20T17:54:49.519782Z",
     "iopub.status.busy": "2023-10-20T17:54:49.519376Z",
     "iopub.status.idle": "2023-10-20T17:54:49.527407Z",
     "shell.execute_reply": "2023-10-20T17:54:49.526138Z"
    },
    "papermill": {
     "duration": 0.08373,
     "end_time": "2023-10-20T17:54:49.531311",
     "exception": false,
     "start_time": "2023-10-20T17:54:49.447581",
     "status": "completed"
    },
    "tags": []
   },
   "outputs": [
    {
     "data": {
      "text/plain": [
       "{'key 1': 'sush', 'key 2': 'sush', 'key 3 ': 'sush'}"
      ]
     },
     "execution_count": 130,
     "metadata": {},
     "output_type": "execute_result"
    }
   ],
   "source": [
    "thisdict  = { \"key 1\" : \"sush\",\n",
    "            \"key 2\" : \"sush\",\n",
    "            \"key 3 \" : \"sush\"}\n",
    "thisdict"
   ]
  },
  {
   "cell_type": "code",
   "execution_count": 131,
   "id": "42ed181d",
   "metadata": {
    "execution": {
     "iopub.execute_input": "2023-10-20T17:54:49.671841Z",
     "iopub.status.busy": "2023-10-20T17:54:49.670351Z",
     "iopub.status.idle": "2023-10-20T17:54:49.676190Z",
     "shell.execute_reply": "2023-10-20T17:54:49.675402Z"
    },
    "papermill": {
     "duration": 0.076618,
     "end_time": "2023-10-20T17:54:49.678489",
     "exception": false,
     "start_time": "2023-10-20T17:54:49.601871",
     "status": "completed"
    },
    "tags": []
   },
   "outputs": [],
   "source": [
    "x = ('st 1', 'st 2', 'st 3')\n",
    "y = 0 "
   ]
  },
  {
   "cell_type": "code",
   "execution_count": 132,
   "id": "443ec753",
   "metadata": {
    "execution": {
     "iopub.execute_input": "2023-10-20T17:54:49.816973Z",
     "iopub.status.busy": "2023-10-20T17:54:49.815636Z",
     "iopub.status.idle": "2023-10-20T17:54:49.824774Z",
     "shell.execute_reply": "2023-10-20T17:54:49.823489Z"
    },
    "papermill": {
     "duration": 0.082344,
     "end_time": "2023-10-20T17:54:49.827139",
     "exception": false,
     "start_time": "2023-10-20T17:54:49.744795",
     "status": "completed"
    },
    "tags": []
   },
   "outputs": [
    {
     "data": {
      "text/plain": [
       "'Mustang'"
      ]
     },
     "execution_count": 132,
     "metadata": {},
     "output_type": "execute_result"
    }
   ],
   "source": [
    "car = {\n",
    "  \"brand\": \"Ford\",\n",
    "  \"model\": \"Mustang\",\n",
    "  \"year\": 1964\n",
    "}\n",
    "\n",
    "car.get(\"model\")\n",
    "\n"
   ]
  },
  {
   "cell_type": "code",
   "execution_count": 133,
   "id": "9831cf5a",
   "metadata": {
    "execution": {
     "iopub.execute_input": "2023-10-20T17:54:49.962704Z",
     "iopub.status.busy": "2023-10-20T17:54:49.961272Z",
     "iopub.status.idle": "2023-10-20T17:54:49.969756Z",
     "shell.execute_reply": "2023-10-20T17:54:49.968758Z"
    },
    "papermill": {
     "duration": 0.07894,
     "end_time": "2023-10-20T17:54:49.972275",
     "exception": false,
     "start_time": "2023-10-20T17:54:49.893335",
     "status": "completed"
    },
    "tags": []
   },
   "outputs": [
    {
     "data": {
      "text/plain": [
       "'Mustang'"
      ]
     },
     "execution_count": 133,
     "metadata": {},
     "output_type": "execute_result"
    }
   ],
   "source": [
    "car = {\n",
    "  \"brand\": \"Ford\",\n",
    "  \"model\": \"Mustang\",\n",
    "  \"year\": 1964\n",
    "}\n",
    "car[\"model\"]"
   ]
  },
  {
   "cell_type": "code",
   "execution_count": 134,
   "id": "da389ba5",
   "metadata": {
    "execution": {
     "iopub.execute_input": "2023-10-20T17:54:50.117874Z",
     "iopub.status.busy": "2023-10-20T17:54:50.117456Z",
     "iopub.status.idle": "2023-10-20T17:54:50.125254Z",
     "shell.execute_reply": "2023-10-20T17:54:50.124134Z"
    },
    "papermill": {
     "duration": 0.084264,
     "end_time": "2023-10-20T17:54:50.127875",
     "exception": false,
     "start_time": "2023-10-20T17:54:50.043611",
     "status": "completed"
    },
    "tags": []
   },
   "outputs": [
    {
     "data": {
      "text/plain": [
       "dict_keys(['brand', 'model', 'year'])"
      ]
     },
     "execution_count": 134,
     "metadata": {},
     "output_type": "execute_result"
    }
   ],
   "source": [
    "car = {\n",
    "  \"brand\": \"Ford\",\n",
    "  \"model\": \"Mustang\",\n",
    "  \"year\": 1964\n",
    "}\n",
    "\n",
    "car.keys()"
   ]
  },
  {
   "cell_type": "code",
   "execution_count": 135,
   "id": "698bd013",
   "metadata": {
    "execution": {
     "iopub.execute_input": "2023-10-20T17:54:50.272261Z",
     "iopub.status.busy": "2023-10-20T17:54:50.271499Z",
     "iopub.status.idle": "2023-10-20T17:54:50.278537Z",
     "shell.execute_reply": "2023-10-20T17:54:50.277349Z"
    },
    "papermill": {
     "duration": 0.083134,
     "end_time": "2023-10-20T17:54:50.281415",
     "exception": false,
     "start_time": "2023-10-20T17:54:50.198281",
     "status": "completed"
    },
    "tags": []
   },
   "outputs": [
    {
     "data": {
      "text/plain": [
       "dict_values(['Ford', 'Mustang', 1964])"
      ]
     },
     "execution_count": 135,
     "metadata": {},
     "output_type": "execute_result"
    }
   ],
   "source": [
    "car.values()"
   ]
  },
  {
   "cell_type": "code",
   "execution_count": 136,
   "id": "5b2ed089",
   "metadata": {
    "execution": {
     "iopub.execute_input": "2023-10-20T17:54:50.418867Z",
     "iopub.status.busy": "2023-10-20T17:54:50.417978Z",
     "iopub.status.idle": "2023-10-20T17:54:50.425041Z",
     "shell.execute_reply": "2023-10-20T17:54:50.423872Z"
    },
    "papermill": {
     "duration": 0.078989,
     "end_time": "2023-10-20T17:54:50.428155",
     "exception": false,
     "start_time": "2023-10-20T17:54:50.349166",
     "status": "completed"
    },
    "tags": []
   },
   "outputs": [
    {
     "data": {
      "text/plain": [
       "dict_items([('brand', 'Ford'), ('model', 'Mustang'), ('year', 1964)])"
      ]
     },
     "execution_count": 136,
     "metadata": {},
     "output_type": "execute_result"
    }
   ],
   "source": [
    "car.items()"
   ]
  },
  {
   "cell_type": "code",
   "execution_count": 137,
   "id": "9f661448",
   "metadata": {
    "execution": {
     "iopub.execute_input": "2023-10-20T17:54:50.576875Z",
     "iopub.status.busy": "2023-10-20T17:54:50.575682Z",
     "iopub.status.idle": "2023-10-20T17:54:50.584386Z",
     "shell.execute_reply": "2023-10-20T17:54:50.582919Z"
    },
    "papermill": {
     "duration": 0.088403,
     "end_time": "2023-10-20T17:54:50.587773",
     "exception": false,
     "start_time": "2023-10-20T17:54:50.499370",
     "status": "completed"
    },
    "tags": []
   },
   "outputs": [
    {
     "name": "stdout",
     "output_type": "stream",
     "text": [
      "{'brand': 'Ford', 'year': 1964}\n"
     ]
    }
   ],
   "source": [
    "car = {\n",
    "  \"brand\": \"Ford\",\n",
    "  \"model\": \"Mustang\",\n",
    "  \"year\": 1964\n",
    "}\n",
    "\n",
    "car.pop(\"model\")\n",
    "\n",
    "print(car)"
   ]
  },
  {
   "cell_type": "code",
   "execution_count": 138,
   "id": "615b532e",
   "metadata": {
    "execution": {
     "iopub.execute_input": "2023-10-20T17:54:50.737182Z",
     "iopub.status.busy": "2023-10-20T17:54:50.735965Z",
     "iopub.status.idle": "2023-10-20T17:54:50.743656Z",
     "shell.execute_reply": "2023-10-20T17:54:50.742495Z"
    },
    "papermill": {
     "duration": 0.084474,
     "end_time": "2023-10-20T17:54:50.746162",
     "exception": false,
     "start_time": "2023-10-20T17:54:50.661688",
     "status": "completed"
    },
    "tags": []
   },
   "outputs": [
    {
     "name": "stdout",
     "output_type": "stream",
     "text": [
      "{'brand': 'Ford', 'model': 'Mustang'}\n"
     ]
    }
   ],
   "source": [
    "car = {\n",
    "  \"brand\": \"Ford\",\n",
    "  \"model\": \"Mustang\",\n",
    "  \"year\": 1964\n",
    "}\n",
    "\n",
    "car.popitem()\n",
    "\n",
    "print(car)"
   ]
  },
  {
   "cell_type": "code",
   "execution_count": 139,
   "id": "73ef3505",
   "metadata": {
    "execution": {
     "iopub.execute_input": "2023-10-20T17:54:50.893119Z",
     "iopub.status.busy": "2023-10-20T17:54:50.892267Z",
     "iopub.status.idle": "2023-10-20T17:54:50.899735Z",
     "shell.execute_reply": "2023-10-20T17:54:50.898569Z"
    },
    "papermill": {
     "duration": 0.083693,
     "end_time": "2023-10-20T17:54:50.902723",
     "exception": false,
     "start_time": "2023-10-20T17:54:50.819030",
     "status": "completed"
    },
    "tags": []
   },
   "outputs": [
    {
     "name": "stdout",
     "output_type": "stream",
     "text": [
      "None\n"
     ]
    }
   ],
   "source": [
    "car = {\n",
    "  \"brand\": \"Ford\",\n",
    "    \"model\" : None ,\n",
    "\n",
    "  \"year\": 1964\n",
    "}\n",
    "\n",
    "x = car.setdefault(\"model\", \"Bronco\")\n",
    "\n",
    "print(x)"
   ]
  },
  {
   "cell_type": "code",
   "execution_count": 140,
   "id": "4c7f2038",
   "metadata": {
    "execution": {
     "iopub.execute_input": "2023-10-20T17:54:51.048383Z",
     "iopub.status.busy": "2023-10-20T17:54:51.047763Z",
     "iopub.status.idle": "2023-10-20T17:54:51.055005Z",
     "shell.execute_reply": "2023-10-20T17:54:51.053206Z"
    },
    "papermill": {
     "duration": 0.082777,
     "end_time": "2023-10-20T17:54:51.057880",
     "exception": false,
     "start_time": "2023-10-20T17:54:50.975103",
     "status": "completed"
    },
    "tags": []
   },
   "outputs": [
    {
     "name": "stdout",
     "output_type": "stream",
     "text": [
      "{'brand': 'Ford', 'model': 'Mustang', 'year': 1964, 'color': 'White'}\n"
     ]
    }
   ],
   "source": [
    "car = {\n",
    "  \"brand\": \"Ford\",\n",
    "  \"model\": \"Mustang\",\n",
    "  \"year\": 1964\n",
    "}\n",
    "\n",
    "\n",
    "car.update({\"color\": \"White\"})\n",
    "print(car)\n",
    "\n"
   ]
  },
  {
   "cell_type": "code",
   "execution_count": 141,
   "id": "064188a3",
   "metadata": {
    "execution": {
     "iopub.execute_input": "2023-10-20T17:54:51.200395Z",
     "iopub.status.busy": "2023-10-20T17:54:51.198624Z",
     "iopub.status.idle": "2023-10-20T17:54:51.204407Z",
     "shell.execute_reply": "2023-10-20T17:54:51.203423Z"
    },
    "papermill": {
     "duration": 0.080072,
     "end_time": "2023-10-20T17:54:51.207095",
     "exception": false,
     "start_time": "2023-10-20T17:54:51.127023",
     "status": "completed"
    },
    "tags": []
   },
   "outputs": [],
   "source": [
    "# *"
   ]
  },
  {
   "cell_type": "code",
   "execution_count": 142,
   "id": "be6f268d",
   "metadata": {
    "execution": {
     "iopub.execute_input": "2023-10-20T17:54:51.343984Z",
     "iopub.status.busy": "2023-10-20T17:54:51.343498Z",
     "iopub.status.idle": "2023-10-20T17:54:51.350003Z",
     "shell.execute_reply": "2023-10-20T17:54:51.348853Z"
    },
    "papermill": {
     "duration": 0.078966,
     "end_time": "2023-10-20T17:54:51.353641",
     "exception": false,
     "start_time": "2023-10-20T17:54:51.274675",
     "status": "completed"
    },
    "tags": []
   },
   "outputs": [
    {
     "name": "stdout",
     "output_type": "stream",
     "text": [
      "*\n"
     ]
    }
   ],
   "source": [
    "print(\"*\")"
   ]
  },
  {
   "cell_type": "code",
   "execution_count": 143,
   "id": "4514c89b",
   "metadata": {
    "execution": {
     "iopub.execute_input": "2023-10-20T17:54:51.507466Z",
     "iopub.status.busy": "2023-10-20T17:54:51.507036Z",
     "iopub.status.idle": "2023-10-20T17:54:51.512925Z",
     "shell.execute_reply": "2023-10-20T17:54:51.511386Z"
    },
    "papermill": {
     "duration": 0.085946,
     "end_time": "2023-10-20T17:54:51.515675",
     "exception": false,
     "start_time": "2023-10-20T17:54:51.429729",
     "status": "completed"
    },
    "tags": []
   },
   "outputs": [],
   "source": [
    "# *\n",
    "# **"
   ]
  },
  {
   "cell_type": "code",
   "execution_count": 144,
   "id": "49b630a0",
   "metadata": {
    "execution": {
     "iopub.execute_input": "2023-10-20T17:54:51.671531Z",
     "iopub.status.busy": "2023-10-20T17:54:51.670750Z",
     "iopub.status.idle": "2023-10-20T17:54:51.677000Z",
     "shell.execute_reply": "2023-10-20T17:54:51.675513Z"
    },
    "papermill": {
     "duration": 0.089735,
     "end_time": "2023-10-20T17:54:51.681181",
     "exception": false,
     "start_time": "2023-10-20T17:54:51.591446",
     "status": "completed"
    },
    "tags": []
   },
   "outputs": [
    {
     "name": "stdout",
     "output_type": "stream",
     "text": [
      "*\n",
      "**\n"
     ]
    }
   ],
   "source": [
    "print(\"*\")\n",
    "print(\"**\")"
   ]
  },
  {
   "cell_type": "code",
   "execution_count": 145,
   "id": "994b46b1",
   "metadata": {
    "execution": {
     "iopub.execute_input": "2023-10-20T17:54:51.915254Z",
     "iopub.status.busy": "2023-10-20T17:54:51.914211Z",
     "iopub.status.idle": "2023-10-20T17:54:51.919068Z",
     "shell.execute_reply": "2023-10-20T17:54:51.918313Z"
    },
    "papermill": {
     "duration": 0.170909,
     "end_time": "2023-10-20T17:54:51.921381",
     "exception": false,
     "start_time": "2023-10-20T17:54:51.750472",
     "status": "completed"
    },
    "tags": []
   },
   "outputs": [],
   "source": [
    "# *\n",
    "# **\n",
    "# ***\n",
    "# ****"
   ]
  },
  {
   "cell_type": "code",
   "execution_count": 146,
   "id": "34fa3412",
   "metadata": {
    "execution": {
     "iopub.execute_input": "2023-10-20T17:54:52.060488Z",
     "iopub.status.busy": "2023-10-20T17:54:52.060033Z",
     "iopub.status.idle": "2023-10-20T17:54:52.069599Z",
     "shell.execute_reply": "2023-10-20T17:54:52.067775Z"
    },
    "papermill": {
     "duration": 0.083306,
     "end_time": "2023-10-20T17:54:52.072278",
     "exception": false,
     "start_time": "2023-10-20T17:54:51.988972",
     "status": "completed"
    },
    "tags": []
   },
   "outputs": [
    {
     "name": "stdout",
     "output_type": "stream",
     "text": [
      "   *\n",
      "  **\n",
      " ***\n",
      "****\n",
      " ***\n",
      "  **\n",
      "   *\n"
     ]
    }
   ],
   "source": [
    "for i in range(4) :\n",
    "    print(\" \"*(3-i),end=\"\")\n",
    "    print(\"*\"* (i+1))\n",
    "#     print(\"--\")\n",
    "for j in range(3):\n",
    "    print(\" \"*(j+1),end=\"\")\n",
    "    print(\"*\"*(3-j))"
   ]
  },
  {
   "cell_type": "code",
   "execution_count": 147,
   "id": "ec89b1c4",
   "metadata": {
    "execution": {
     "iopub.execute_input": "2023-10-20T17:54:52.212645Z",
     "iopub.status.busy": "2023-10-20T17:54:52.212184Z",
     "iopub.status.idle": "2023-10-20T17:54:52.217413Z",
     "shell.execute_reply": "2023-10-20T17:54:52.216098Z"
    },
    "papermill": {
     "duration": 0.077556,
     "end_time": "2023-10-20T17:54:52.220028",
     "exception": false,
     "start_time": "2023-10-20T17:54:52.142472",
     "status": "completed"
    },
    "tags": []
   },
   "outputs": [],
   "source": [
    "#    *\n",
    "#   ***\n",
    "#  *****\n",
    "# *******\n",
    "\n",
    "#  *****\n",
    "#   ***\n",
    "#    *"
   ]
  },
  {
   "cell_type": "code",
   "execution_count": 148,
   "id": "808d7d5d",
   "metadata": {
    "execution": {
     "iopub.execute_input": "2023-10-20T17:54:52.359032Z",
     "iopub.status.busy": "2023-10-20T17:54:52.358566Z",
     "iopub.status.idle": "2023-10-20T17:54:52.364711Z",
     "shell.execute_reply": "2023-10-20T17:54:52.363024Z"
    },
    "papermill": {
     "duration": 0.078663,
     "end_time": "2023-10-20T17:54:52.367837",
     "exception": false,
     "start_time": "2023-10-20T17:54:52.289174",
     "status": "completed"
    },
    "tags": []
   },
   "outputs": [],
   "source": [
    "# *\n",
    "# ***\n",
    "# *****\n",
    "# *******\n",
    "\n",
    "\n",
    "# *****\n",
    "# ***\n",
    "# *"
   ]
  },
  {
   "cell_type": "code",
   "execution_count": 149,
   "id": "587b9cbf",
   "metadata": {
    "execution": {
     "iopub.execute_input": "2023-10-20T17:54:52.506066Z",
     "iopub.status.busy": "2023-10-20T17:54:52.505525Z",
     "iopub.status.idle": "2023-10-20T17:54:52.513438Z",
     "shell.execute_reply": "2023-10-20T17:54:52.511774Z"
    },
    "papermill": {
     "duration": 0.080117,
     "end_time": "2023-10-20T17:54:52.516172",
     "exception": false,
     "start_time": "2023-10-20T17:54:52.436055",
     "status": "completed"
    },
    "tags": []
   },
   "outputs": [
    {
     "name": "stdout",
     "output_type": "stream",
     "text": [
      "*\n",
      "***\n",
      "*****\n",
      "*******\n",
      "*\n",
      "*\n",
      "*\n"
     ]
    }
   ],
   "source": [
    "for i in range(4):\n",
    "    print(\"*\"* ((2*i)+1))\n",
    "for j in range(3):\n",
    "    print(\"*\")"
   ]
  },
  {
   "cell_type": "code",
   "execution_count": 150,
   "id": "60cdb848",
   "metadata": {
    "execution": {
     "iopub.execute_input": "2023-10-20T17:54:52.655064Z",
     "iopub.status.busy": "2023-10-20T17:54:52.654621Z",
     "iopub.status.idle": "2023-10-20T17:54:52.660174Z",
     "shell.execute_reply": "2023-10-20T17:54:52.658653Z"
    },
    "papermill": {
     "duration": 0.078528,
     "end_time": "2023-10-20T17:54:52.662827",
     "exception": false,
     "start_time": "2023-10-20T17:54:52.584299",
     "status": "completed"
    },
    "tags": []
   },
   "outputs": [],
   "source": [
    "#     *\n",
    "#    ***\n",
    "#   *****\n",
    "#  *******\n",
    "# *********\n",
    "#  *******\n",
    "#   *****\n",
    "#    ***\n",
    "#     *"
   ]
  },
  {
   "cell_type": "code",
   "execution_count": 151,
   "id": "226b1056",
   "metadata": {
    "execution": {
     "iopub.execute_input": "2023-10-20T17:54:52.805089Z",
     "iopub.status.busy": "2023-10-20T17:54:52.804631Z",
     "iopub.status.idle": "2023-10-20T17:54:52.814876Z",
     "shell.execute_reply": "2023-10-20T17:54:52.812867Z"
    },
    "papermill": {
     "duration": 0.086968,
     "end_time": "2023-10-20T17:54:52.818337",
     "exception": false,
     "start_time": "2023-10-20T17:54:52.731369",
     "status": "completed"
    },
    "tags": []
   },
   "outputs": [
    {
     "name": "stdout",
     "output_type": "stream",
     "text": [
      "                        *\n",
      "                       ***\n",
      "                      *****\n",
      "                     *******\n",
      "                    *********\n",
      "                   ***********\n",
      "                  *************\n",
      "                 ***************\n",
      "                *****************\n",
      "               *******************\n",
      "              *********************\n",
      "             ***********************\n",
      "            *************************\n",
      "           ***************************\n",
      "          *****************************\n",
      "         *******************************\n",
      "        *********************************\n",
      "       ***********************************\n",
      "      *************************************\n",
      "     ***************************************\n",
      "    *****************************************\n",
      "   *******************************************\n",
      "  *********************************************\n",
      " ***********************************************\n",
      "*************************************************\n",
      " ***********************************************\n",
      "  *********************************************\n",
      "   *******************************************\n",
      "    *****************************************\n",
      "     ***************************************\n",
      "      *************************************\n",
      "       ***********************************\n",
      "        *********************************\n",
      "         *******************************\n",
      "          *****************************\n",
      "           ***************************\n",
      "            *************************\n",
      "             ***********************\n",
      "              *********************\n",
      "               *******************\n",
      "                *****************\n",
      "                 ***************\n",
      "                  *************\n",
      "                   ***********\n",
      "                    *********\n",
      "                     *******\n",
      "                      *****\n",
      "                       ***\n",
      "                        *\n"
     ]
    }
   ],
   "source": [
    "n =25\n",
    "\n",
    "for i in range(n):\n",
    "    print(\" \"*(n-1-i),end=\"\")\n",
    "    print(\"*\"*((2*i)+1))\n",
    "for j in range(n-1):\n",
    "    print(\" \"*(j+1),end=\"\")\n",
    "    print(\"*\"*((2*(n-2-j))+1))"
   ]
  },
  {
   "cell_type": "markdown",
   "id": "c40edbf4",
   "metadata": {
    "papermill": {
     "duration": 0.06979,
     "end_time": "2023-10-20T17:54:52.958397",
     "exception": false,
     "start_time": "2023-10-20T17:54:52.888607",
     "status": "completed"
    },
    "tags": []
   },
   "source": [
    "# "
   ]
  },
  {
   "cell_type": "code",
   "execution_count": 152,
   "id": "f36f17d4",
   "metadata": {
    "execution": {
     "iopub.execute_input": "2023-10-20T17:54:53.102274Z",
     "iopub.status.busy": "2023-10-20T17:54:53.101846Z",
     "iopub.status.idle": "2023-10-20T17:54:53.107040Z",
     "shell.execute_reply": "2023-10-20T17:54:53.105409Z"
    },
    "papermill": {
     "duration": 0.07997,
     "end_time": "2023-10-20T17:54:53.109620",
     "exception": false,
     "start_time": "2023-10-20T17:54:53.029650",
     "status": "completed"
    },
    "tags": []
   },
   "outputs": [],
   "source": [
    "#    *    \n",
    "#   * *\n",
    "#  *   *\n",
    "# *     *\n",
    "#  *   *\n",
    "#   * *\n",
    "\n",
    "\n",
    "#    *"
   ]
  },
  {
   "cell_type": "code",
   "execution_count": 153,
   "id": "3402fe11",
   "metadata": {
    "execution": {
     "iopub.execute_input": "2023-10-20T17:54:53.250402Z",
     "iopub.status.busy": "2023-10-20T17:54:53.249926Z",
     "iopub.status.idle": "2023-10-20T17:54:53.259505Z",
     "shell.execute_reply": "2023-10-20T17:54:53.257975Z"
    },
    "papermill": {
     "duration": 0.081964,
     "end_time": "2023-10-20T17:54:53.262228",
     "exception": false,
     "start_time": "2023-10-20T17:54:53.180264",
     "status": "completed"
    },
    "tags": []
   },
   "outputs": [
    {
     "name": "stdout",
     "output_type": "stream",
     "text": [
      "           *\n",
      "          * *\n",
      "         *   *\n",
      "        *     *\n",
      "       *       *\n",
      "      *         *\n",
      "     *           *\n",
      "    *             *\n",
      "   *               *\n",
      "  *                 *\n",
      " *                   *\n",
      "  *                 *\n",
      "   *               *\n",
      "    *             *\n",
      "     *           *\n",
      "      *         *\n",
      "       *       *\n",
      "        *     *\n",
      "         *   *\n",
      "          * *\n",
      "           *\n"
     ]
    }
   ],
   "source": [
    "n = 11\n",
    "# n = 4\n",
    "print(\" \"*(n-1),\"*\")\n",
    "for i in range((n-1)):\n",
    "    print(\" \"*(n-2-i),\"*\"+\" \"*((2*i )+1)+\"*\")\n",
    "for j in range(n-2):\n",
    "    print(\" \"*(j+1),\"*\"+\" \"*((2*(n-2-j))-1)+\"*\")\n",
    "    \n",
    "\n",
    "    \n",
    "print(\" \"*(n-1),\"*\")"
   ]
  },
  {
   "cell_type": "code",
   "execution_count": 154,
   "id": "8cb87d05",
   "metadata": {
    "execution": {
     "iopub.execute_input": "2023-10-20T17:54:53.403488Z",
     "iopub.status.busy": "2023-10-20T17:54:53.403018Z",
     "iopub.status.idle": "2023-10-20T17:54:53.408148Z",
     "shell.execute_reply": "2023-10-20T17:54:53.406975Z"
    },
    "papermill": {
     "duration": 0.078675,
     "end_time": "2023-10-20T17:54:53.410855",
     "exception": false,
     "start_time": "2023-10-20T17:54:53.332180",
     "status": "completed"
    },
    "tags": []
   },
   "outputs": [],
   "source": [
    "# 1\n",
    "# 1 1\n",
    "# 1 1 1\n",
    "# 1 1 1 1\n",
    "# 1 1 1 1 1"
   ]
  },
  {
   "cell_type": "code",
   "execution_count": 155,
   "id": "bddc0e29",
   "metadata": {
    "execution": {
     "iopub.execute_input": "2023-10-20T17:54:53.553956Z",
     "iopub.status.busy": "2023-10-20T17:54:53.553416Z",
     "iopub.status.idle": "2023-10-20T17:54:53.560241Z",
     "shell.execute_reply": "2023-10-20T17:54:53.558642Z"
    },
    "papermill": {
     "duration": 0.080583,
     "end_time": "2023-10-20T17:54:53.563334",
     "exception": false,
     "start_time": "2023-10-20T17:54:53.482751",
     "status": "completed"
    },
    "tags": []
   },
   "outputs": [
    {
     "name": "stdout",
     "output_type": "stream",
     "text": [
      "1 \n",
      "1 1 \n",
      "1 1 1 \n",
      "1 1 1 1 \n",
      "1 1 1 1 1 \n"
     ]
    }
   ],
   "source": [
    "for i in range(5):\n",
    "    print(\"1 \"*(i+1))"
   ]
  },
  {
   "cell_type": "code",
   "execution_count": 156,
   "id": "003cb16e",
   "metadata": {
    "execution": {
     "iopub.execute_input": "2023-10-20T17:54:53.706295Z",
     "iopub.status.busy": "2023-10-20T17:54:53.705839Z",
     "iopub.status.idle": "2023-10-20T17:54:53.710994Z",
     "shell.execute_reply": "2023-10-20T17:54:53.709614Z"
    },
    "papermill": {
     "duration": 0.079222,
     "end_time": "2023-10-20T17:54:53.713747",
     "exception": false,
     "start_time": "2023-10-20T17:54:53.634525",
     "status": "completed"
    },
    "tags": []
   },
   "outputs": [],
   "source": [
    "# 1\n",
    "# 1 2\n",
    "# 1 2 3\n",
    "# 1 2 3 4\n",
    "# 1 2 3 4 5"
   ]
  },
  {
   "cell_type": "code",
   "execution_count": 157,
   "id": "571c0707",
   "metadata": {
    "execution": {
     "iopub.execute_input": "2023-10-20T17:54:53.858649Z",
     "iopub.status.busy": "2023-10-20T17:54:53.858181Z",
     "iopub.status.idle": "2023-10-20T17:54:53.865286Z",
     "shell.execute_reply": "2023-10-20T17:54:53.863659Z"
    },
    "papermill": {
     "duration": 0.083397,
     "end_time": "2023-10-20T17:54:53.869014",
     "exception": false,
     "start_time": "2023-10-20T17:54:53.785617",
     "status": "completed"
    },
    "tags": []
   },
   "outputs": [
    {
     "name": "stdout",
     "output_type": "stream",
     "text": [
      "1 \n",
      "1 2 \n",
      "1 2 3 \n",
      "1 2 3 4 \n",
      "1 2 3 4 5 \n"
     ]
    }
   ],
   "source": [
    "for i in range(5):\n",
    "    for j in range(i+1) :\n",
    "        print(j+1,end=\" \")\n",
    "    print()"
   ]
  },
  {
   "cell_type": "code",
   "execution_count": 158,
   "id": "574500fe",
   "metadata": {
    "execution": {
     "iopub.execute_input": "2023-10-20T17:54:54.021808Z",
     "iopub.status.busy": "2023-10-20T17:54:54.021318Z",
     "iopub.status.idle": "2023-10-20T17:54:54.027067Z",
     "shell.execute_reply": "2023-10-20T17:54:54.025620Z"
    },
    "papermill": {
     "duration": 0.086481,
     "end_time": "2023-10-20T17:54:54.029908",
     "exception": false,
     "start_time": "2023-10-20T17:54:53.943427",
     "status": "completed"
    },
    "tags": []
   },
   "outputs": [],
   "source": [
    "#       1\n",
    "#     1 2 1\n",
    "#   1 2 3 2 1 \n",
    "# 1 2 3 4 3 2 1\n",
    "#   1 2 3 2 1\n",
    "#     1 2 1\n",
    "#       1"
   ]
  },
  {
   "cell_type": "code",
   "execution_count": 159,
   "id": "2711d95a",
   "metadata": {
    "execution": {
     "iopub.execute_input": "2023-10-20T17:54:54.174191Z",
     "iopub.status.busy": "2023-10-20T17:54:54.173690Z",
     "iopub.status.idle": "2023-10-20T17:54:54.186089Z",
     "shell.execute_reply": "2023-10-20T17:54:54.184166Z"
    },
    "papermill": {
     "duration": 0.087364,
     "end_time": "2023-10-20T17:54:54.189521",
     "exception": false,
     "start_time": "2023-10-20T17:54:54.102157",
     "status": "completed"
    },
    "tags": []
   },
   "outputs": [
    {
     "name": "stdout",
     "output_type": "stream",
     "text": [
      "              1 \n",
      "            1 2 1 \n",
      "          1 2 3 2 1 \n",
      "        1 2 3 4 3 2 1 \n",
      "      1 2 3 4 5 4 3 2 1 \n",
      "    1 2 3 4 5 6 5 4 3 2 1 \n",
      "  1 2 3 4 5 6 7 6 5 4 3 2 1 \n",
      "1 2 3 4 5 6 7 8 7 6 5 4 3 2 1 \n",
      "  1 2 3 4 5 6 7 6 5 4 3 2 1 \n",
      "    1 2 3 4 5 6 5 4 3 2 1 \n",
      "      1 2 3 4 5 4 3 2 1 \n",
      "        1 2 3 4 3 2 1 \n",
      "          1 2 3 2 1 \n",
      "            1 2 1 \n",
      "              1 \n"
     ]
    }
   ],
   "source": [
    "n = 8\n",
    "# 4\n",
    "for i in range(n):\n",
    "    print(\" \"*(2*(n-1-i)),end=\"\")\n",
    "    for j in range(i+1):\n",
    "        print(j+1 ,end=\" \")\n",
    "    for k in range(i-1,-1,-1):\n",
    "        print(k+1 ,end=\" \")\n",
    "    print()\n",
    "for p in range(n-1) : # 0 13\n",
    "    print(\" \"*(2*(p+1)),end=\"\")\n",
    "    for q in range(n-1-p) :\n",
    "        print(q+1,end=\" \")        \n",
    "    for r in range(n-p-3,-1,-1):\n",
    "        print(r+1,end=\" \")\n",
    "    print()"
   ]
  },
  {
   "cell_type": "markdown",
   "id": "25a2be42",
   "metadata": {
    "execution": {
     "iopub.execute_input": "2023-10-20T17:08:22.412842Z",
     "iopub.status.busy": "2023-10-20T17:08:22.412393Z",
     "iopub.status.idle": "2023-10-20T17:08:22.418210Z",
     "shell.execute_reply": "2023-10-20T17:08:22.417396Z",
     "shell.execute_reply.started": "2023-10-20T17:08:22.412813Z"
    },
    "papermill": {
     "duration": 0.070753,
     "end_time": "2023-10-20T17:54:54.332107",
     "exception": false,
     "start_time": "2023-10-20T17:54:54.261354",
     "status": "completed"
    },
    "tags": []
   },
   "source": [
    "# for i in range(4):\n",
    "    print(i, end=\" \")"
   ]
  },
  {
   "cell_type": "code",
   "execution_count": 160,
   "id": "7bd54cb5",
   "metadata": {
    "execution": {
     "iopub.execute_input": "2023-10-20T17:54:54.479047Z",
     "iopub.status.busy": "2023-10-20T17:54:54.478665Z",
     "iopub.status.idle": "2023-10-20T17:54:54.484409Z",
     "shell.execute_reply": "2023-10-20T17:54:54.483279Z"
    },
    "papermill": {
     "duration": 0.081116,
     "end_time": "2023-10-20T17:54:54.487061",
     "exception": false,
     "start_time": "2023-10-20T17:54:54.405945",
     "status": "completed"
    },
    "tags": []
   },
   "outputs": [
    {
     "name": "stdout",
     "output_type": "stream",
     "text": [
      "3 2 1 0 "
     ]
    }
   ],
   "source": [
    "for i in range(3,-1,-1):\n",
    "    print(i, end=\" \")"
   ]
  },
  {
   "cell_type": "code",
   "execution_count": 161,
   "id": "22decef3",
   "metadata": {
    "execution": {
     "iopub.execute_input": "2023-10-20T17:54:54.637204Z",
     "iopub.status.busy": "2023-10-20T17:54:54.636776Z",
     "iopub.status.idle": "2023-10-20T17:54:54.642125Z",
     "shell.execute_reply": "2023-10-20T17:54:54.640605Z"
    },
    "papermill": {
     "duration": 0.082774,
     "end_time": "2023-10-20T17:54:54.644881",
     "exception": false,
     "start_time": "2023-10-20T17:54:54.562107",
     "status": "completed"
    },
    "tags": []
   },
   "outputs": [],
   "source": [
    "# 0  \n",
    "\n",
    "# 0 1  \n",
    "\n",
    "# 0 2 4  \n",
    "\n",
    "# 0 3 6 9  \n",
    "\n",
    "# 0 4 8 12 16  \n",
    "\n",
    "# 0 5 10 15 20 25  \n",
    "\n",
    "# 0 6 12 18 24 30 36"
   ]
  },
  {
   "cell_type": "code",
   "execution_count": 162,
   "id": "2e8f268f",
   "metadata": {
    "execution": {
     "iopub.execute_input": "2023-10-20T17:54:54.800372Z",
     "iopub.status.busy": "2023-10-20T17:54:54.799822Z",
     "iopub.status.idle": "2023-10-20T17:54:54.809281Z",
     "shell.execute_reply": "2023-10-20T17:54:54.807808Z"
    },
    "papermill": {
     "duration": 0.093653,
     "end_time": "2023-10-20T17:54:54.812078",
     "exception": false,
     "start_time": "2023-10-20T17:54:54.718425",
     "status": "completed"
    },
    "tags": []
   },
   "outputs": [
    {
     "name": "stdout",
     "output_type": "stream",
     "text": [
      "0 \n",
      "0 1 \n",
      "0 2 4 \n",
      "0 3 6 9 \n",
      "0 4 8 12 16 \n",
      "0 5 10 15 20 25 \n",
      "0 6 12 18 24 30 36 \n",
      "0 7 14 21 28 35 42 49 \n",
      "0 8 16 24 32 40 48 56 64 \n",
      "0 9 18 27 36 45 54 63 72 81 \n",
      "0 10 20 30 40 50 60 70 80 90 100 \n",
      "0 11 22 33 44 55 66 77 88 99 110 121 \n",
      "0 12 24 36 48 60 72 84 96 108 120 132 144 \n",
      "0 13 26 39 52 65 78 91 104 117 130 143 156 169 \n",
      "0 14 28 42 56 70 84 98 112 126 140 154 168 182 196 \n",
      "0 15 30 45 60 75 90 105 120 135 150 165 180 195 210 225 \n"
     ]
    }
   ],
   "source": [
    "n = 15\n",
    "# 6\n",
    "for i in range(n+1):\n",
    "    for j in range(i+1):\n",
    "        print(j*i,end=\" \")\n",
    "    print()"
   ]
  },
  {
   "cell_type": "code",
   "execution_count": 163,
   "id": "1579fe4a",
   "metadata": {
    "execution": {
     "iopub.execute_input": "2023-10-20T17:54:54.966575Z",
     "iopub.status.busy": "2023-10-20T17:54:54.966117Z",
     "iopub.status.idle": "2023-10-20T17:54:54.971618Z",
     "shell.execute_reply": "2023-10-20T17:54:54.970207Z"
    },
    "papermill": {
     "duration": 0.086372,
     "end_time": "2023-10-20T17:54:54.974128",
     "exception": false,
     "start_time": "2023-10-20T17:54:54.887756",
     "status": "completed"
    },
    "tags": []
   },
   "outputs": [],
   "source": [
    "# 1 \n",
    "\n",
    "# 3 3 \n",
    "\n",
    "# 5 5 5 \n",
    "\n",
    "# 7 7 7 7 \n",
    "\n",
    "# 9 9 9 9 9"
   ]
  },
  {
   "cell_type": "code",
   "execution_count": 164,
   "id": "03b34a9e",
   "metadata": {
    "execution": {
     "iopub.execute_input": "2023-10-20T17:54:55.126577Z",
     "iopub.status.busy": "2023-10-20T17:54:55.126125Z",
     "iopub.status.idle": "2023-10-20T17:54:55.134372Z",
     "shell.execute_reply": "2023-10-20T17:54:55.132563Z"
    },
    "papermill": {
     "duration": 0.084065,
     "end_time": "2023-10-20T17:54:55.136860",
     "exception": false,
     "start_time": "2023-10-20T17:54:55.052795",
     "status": "completed"
    },
    "tags": []
   },
   "outputs": [
    {
     "name": "stdout",
     "output_type": "stream",
     "text": [
      "1 \n",
      "3 3 \n",
      "5 5 5 \n",
      "7 7 7 7 \n",
      "9 9 9 9 9 \n"
     ]
    }
   ],
   "source": [
    "\n",
    "n = 5\n",
    "for i in range(n):\n",
    "    for j in range(i+1):\n",
    "        print((2*i)+1,end=\" \")\n",
    "    print()"
   ]
  },
  {
   "cell_type": "code",
   "execution_count": 165,
   "id": "4d2a7c34",
   "metadata": {
    "execution": {
     "iopub.execute_input": "2023-10-20T17:54:55.287202Z",
     "iopub.status.busy": "2023-10-20T17:54:55.285617Z",
     "iopub.status.idle": "2023-10-20T17:54:55.291867Z",
     "shell.execute_reply": "2023-10-20T17:54:55.290798Z"
    },
    "papermill": {
     "duration": 0.085484,
     "end_time": "2023-10-20T17:54:55.294789",
     "exception": false,
     "start_time": "2023-10-20T17:54:55.209305",
     "status": "completed"
    },
    "tags": []
   },
   "outputs": [],
   "source": [
    "# ******\n",
    "#     *\n",
    "#    *\n",
    "#   *\n",
    "#  *\n",
    "# ******"
   ]
  },
  {
   "cell_type": "code",
   "execution_count": 166,
   "id": "6da5f6e8",
   "metadata": {
    "execution": {
     "iopub.execute_input": "2023-10-20T17:54:55.447100Z",
     "iopub.status.busy": "2023-10-20T17:54:55.446678Z",
     "iopub.status.idle": "2023-10-20T17:54:55.454893Z",
     "shell.execute_reply": "2023-10-20T17:54:55.453360Z"
    },
    "papermill": {
     "duration": 0.091016,
     "end_time": "2023-10-20T17:54:55.458814",
     "exception": false,
     "start_time": "2023-10-20T17:54:55.367798",
     "status": "completed"
    },
    "tags": []
   },
   "outputs": [
    {
     "name": "stdout",
     "output_type": "stream",
     "text": [
      "************\n",
      "          *\n",
      "         *\n",
      "        *\n",
      "       *\n",
      "      *\n",
      "     *\n",
      "    *\n",
      "   *\n",
      "  *\n",
      " *\n",
      "************\n"
     ]
    }
   ],
   "source": [
    "n = 12\n",
    "print(\"*\"*n)\n",
    "for i in range(n-2):\n",
    "    print(\" \"*(n-2-i),end=\"\")\n",
    "    print(\"*\")\n",
    "print(\"*\"*n)"
   ]
  },
  {
   "cell_type": "code",
   "execution_count": 167,
   "id": "332788bc",
   "metadata": {
    "execution": {
     "iopub.execute_input": "2023-10-20T17:54:55.620887Z",
     "iopub.status.busy": "2023-10-20T17:54:55.620239Z",
     "iopub.status.idle": "2023-10-20T17:54:55.624469Z",
     "shell.execute_reply": "2023-10-20T17:54:55.623575Z"
    },
    "papermill": {
     "duration": 0.093882,
     "end_time": "2023-10-20T17:54:55.627365",
     "exception": false,
     "start_time": "2023-10-20T17:54:55.533483",
     "status": "completed"
    },
    "tags": []
   },
   "outputs": [],
   "source": [
    "# 1 2 3 * * * N\n",
    "#           *\n",
    "#         *\n",
    "#       *\n",
    "#     3\n",
    "#   2\n",
    "# 1 2 3 * * * N\n"
   ]
  },
  {
   "cell_type": "code",
   "execution_count": 168,
   "id": "5f4b7c5b",
   "metadata": {
    "execution": {
     "iopub.execute_input": "2023-10-20T17:54:55.789318Z",
     "iopub.status.busy": "2023-10-20T17:54:55.788100Z",
     "iopub.status.idle": "2023-10-20T17:54:55.797374Z",
     "shell.execute_reply": "2023-10-20T17:54:55.796470Z"
    },
    "papermill": {
     "duration": 0.090549,
     "end_time": "2023-10-20T17:54:55.799987",
     "exception": false,
     "start_time": "2023-10-20T17:54:55.709438",
     "status": "completed"
    },
    "tags": []
   },
   "outputs": [
    {
     "name": "stdout",
     "output_type": "stream",
     "text": [
      "1 2 3 * * * N\n",
      "\n",
      "          *\n",
      "        *\n",
      "      *\n",
      "    3\n",
      "  2\n",
      "1 2 3 * * * N\n"
     ]
    }
   ],
   "source": [
    "for i in range(3):\n",
    "    print(i+1, end=\" \")\n",
    "for j in range(3):\n",
    "    print(\"* \",end=\"\")\n",
    "print(\"N\")\n",
    "\n",
    "print()\n",
    "for k in range(3):\n",
    "    print(\" \"*(2*(5-k)),end=\"\")\n",
    "    print(\"*\")\n",
    "for m in range(2):\n",
    "    print(\" \"*(2*(2-m)),end=\"\")\n",
    "    print(3-m)   \n",
    "    \n",
    "    \n",
    "for i in range(3):\n",
    "    print(i+1, end=\" \")\n",
    "for j in range(3):\n",
    "    print(\"* \",end=\"\")\n",
    "print(\"N\")"
   ]
  },
  {
   "cell_type": "code",
   "execution_count": null,
   "id": "d279bf55",
   "metadata": {
    "papermill": {
     "duration": 0.074474,
     "end_time": "2023-10-20T17:54:55.952793",
     "exception": false,
     "start_time": "2023-10-20T17:54:55.878319",
     "status": "completed"
    },
    "tags": []
   },
   "outputs": [],
   "source": []
  },
  {
   "cell_type": "code",
   "execution_count": null,
   "id": "6f6199bf",
   "metadata": {
    "papermill": {
     "duration": 0.072983,
     "end_time": "2023-10-20T17:54:56.097943",
     "exception": false,
     "start_time": "2023-10-20T17:54:56.024960",
     "status": "completed"
    },
    "tags": []
   },
   "outputs": [],
   "source": []
  },
  {
   "cell_type": "code",
   "execution_count": null,
   "id": "943afb68",
   "metadata": {
    "papermill": {
     "duration": 0.068941,
     "end_time": "2023-10-20T17:54:56.238221",
     "exception": false,
     "start_time": "2023-10-20T17:54:56.169280",
     "status": "completed"
    },
    "tags": []
   },
   "outputs": [],
   "source": []
  }
 ],
 "metadata": {
  "kernelspec": {
   "display_name": "Python 3",
   "language": "python",
   "name": "python3"
  },
  "language_info": {
   "codemirror_mode": {
    "name": "ipython",
    "version": 3
   },
   "file_extension": ".py",
   "mimetype": "text/x-python",
   "name": "python",
   "nbconvert_exporter": "python",
   "pygments_lexer": "ipython3",
   "version": "3.10.12"
  },
  "papermill": {
   "default_parameters": {},
   "duration": 31.765279,
   "end_time": "2023-10-20T17:54:56.931665",
   "environment_variables": {},
   "exception": null,
   "input_path": "__notebook__.ipynb",
   "output_path": "__notebook__.ipynb",
   "parameters": {},
   "start_time": "2023-10-20T17:54:25.166386",
   "version": "2.4.0"
  }
 },
 "nbformat": 4,
 "nbformat_minor": 5
}
