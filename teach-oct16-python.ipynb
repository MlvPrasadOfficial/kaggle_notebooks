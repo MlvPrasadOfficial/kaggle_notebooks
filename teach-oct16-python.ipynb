{
 "cells": [
  {
   "cell_type": "code",
   "execution_count": 1,
   "id": "c0558056",
   "metadata": {
    "_cell_guid": "b1076dfc-b9ad-4769-8c92-a6c4dae69d19",
    "_uuid": "8f2839f25d086af736a60e9eeb907d3b93b6e0e5",
    "execution": {
     "iopub.execute_input": "2023-11-06T16:50:52.100705Z",
     "iopub.status.busy": "2023-11-06T16:50:52.099962Z",
     "iopub.status.idle": "2023-11-06T16:50:52.114189Z",
     "shell.execute_reply": "2023-11-06T16:50:52.112335Z"
    },
    "papermill": {
     "duration": 0.163583,
     "end_time": "2023-11-06T16:50:52.116532",
     "exception": false,
     "start_time": "2023-11-06T16:50:51.952949",
     "status": "completed"
    },
    "tags": []
   },
   "outputs": [
    {
     "name": "stdout",
     "output_type": "stream",
     "text": [
      "6\n",
      "---\n",
      "6\n"
     ]
    }
   ],
   "source": [
    "a = 6\n",
    "print(a)\n",
    "print(\"---\")\n",
    "# a = \n",
    "print(a)"
   ]
  },
  {
   "cell_type": "code",
   "execution_count": null,
   "id": "42c0cc14",
   "metadata": {
    "papermill": {
     "duration": 0.08237,
     "end_time": "2023-11-06T16:50:52.282541",
     "exception": false,
     "start_time": "2023-11-06T16:50:52.200171",
     "status": "completed"
    },
    "tags": []
   },
   "outputs": [],
   "source": []
  },
  {
   "cell_type": "code",
   "execution_count": 2,
   "id": "16275c13",
   "metadata": {
    "execution": {
     "iopub.execute_input": "2023-11-06T16:50:52.449863Z",
     "iopub.status.busy": "2023-11-06T16:50:52.448344Z",
     "iopub.status.idle": "2023-11-06T16:50:52.454176Z",
     "shell.execute_reply": "2023-11-06T16:50:52.453256Z"
    },
    "papermill": {
     "duration": 0.091332,
     "end_time": "2023-11-06T16:50:52.456440",
     "exception": false,
     "start_time": "2023-11-06T16:50:52.365108",
     "status": "completed"
    },
    "tags": []
   },
   "outputs": [],
   "source": [
    "a = 7"
   ]
  },
  {
   "cell_type": "markdown",
   "id": "7f41c6fd",
   "metadata": {
    "papermill": {
     "duration": 0.083031,
     "end_time": "2023-11-06T16:50:52.621199",
     "exception": false,
     "start_time": "2023-11-06T16:50:52.538168",
     "status": "completed"
    },
    "tags": []
   },
   "source": [
    "# data types"
   ]
  },
  {
   "cell_type": "code",
   "execution_count": 3,
   "id": "b38c6c6d",
   "metadata": {
    "execution": {
     "iopub.execute_input": "2023-11-06T16:50:52.789161Z",
     "iopub.status.busy": "2023-11-06T16:50:52.788211Z",
     "iopub.status.idle": "2023-11-06T16:50:52.795399Z",
     "shell.execute_reply": "2023-11-06T16:50:52.794088Z"
    },
    "papermill": {
     "duration": 0.094717,
     "end_time": "2023-11-06T16:50:52.798170",
     "exception": false,
     "start_time": "2023-11-06T16:50:52.703453",
     "status": "completed"
    },
    "tags": []
   },
   "outputs": [
    {
     "name": "stdout",
     "output_type": "stream",
     "text": [
      "6\n"
     ]
    }
   ],
   "source": [
    "abhi = 6\n",
    "\n",
    "print(abhi)"
   ]
  },
  {
   "cell_type": "code",
   "execution_count": 4,
   "id": "91d2123a",
   "metadata": {
    "execution": {
     "iopub.execute_input": "2023-11-06T16:50:52.967471Z",
     "iopub.status.busy": "2023-11-06T16:50:52.967025Z",
     "iopub.status.idle": "2023-11-06T16:50:52.975673Z",
     "shell.execute_reply": "2023-11-06T16:50:52.974369Z"
    },
    "papermill": {
     "duration": 0.096194,
     "end_time": "2023-11-06T16:50:52.978158",
     "exception": false,
     "start_time": "2023-11-06T16:50:52.881964",
     "status": "completed"
    },
    "tags": []
   },
   "outputs": [
    {
     "data": {
      "text/plain": [
       "int"
      ]
     },
     "execution_count": 4,
     "metadata": {},
     "output_type": "execute_result"
    }
   ],
   "source": [
    "type(abhi)"
   ]
  },
  {
   "cell_type": "code",
   "execution_count": 5,
   "id": "e95a090a",
   "metadata": {
    "execution": {
     "iopub.execute_input": "2023-11-06T16:50:53.146278Z",
     "iopub.status.busy": "2023-11-06T16:50:53.144960Z",
     "iopub.status.idle": "2023-11-06T16:50:53.152252Z",
     "shell.execute_reply": "2023-11-06T16:50:53.151059Z"
    },
    "papermill": {
     "duration": 0.094,
     "end_time": "2023-11-06T16:50:53.155121",
     "exception": false,
     "start_time": "2023-11-06T16:50:53.061121",
     "status": "completed"
    },
    "tags": []
   },
   "outputs": [
    {
     "data": {
      "text/plain": [
       "float"
      ]
     },
     "execution_count": 5,
     "metadata": {},
     "output_type": "execute_result"
    }
   ],
   "source": [
    "swa = 6.5\n",
    "type(swa)"
   ]
  },
  {
   "cell_type": "code",
   "execution_count": 6,
   "id": "8c546096",
   "metadata": {
    "execution": {
     "iopub.execute_input": "2023-11-06T16:50:53.330027Z",
     "iopub.status.busy": "2023-11-06T16:50:53.329356Z",
     "iopub.status.idle": "2023-11-06T16:50:53.337616Z",
     "shell.execute_reply": "2023-11-06T16:50:53.336177Z"
    },
    "papermill": {
     "duration": 0.098368,
     "end_time": "2023-11-06T16:50:53.340145",
     "exception": false,
     "start_time": "2023-11-06T16:50:53.241777",
     "status": "completed"
    },
    "tags": []
   },
   "outputs": [
    {
     "data": {
      "text/plain": [
       "complex"
      ]
     },
     "execution_count": 6,
     "metadata": {},
     "output_type": "execute_result"
    }
   ],
   "source": [
    "pra = 3 + 2j\n",
    "\n",
    "type(pra)"
   ]
  },
  {
   "cell_type": "code",
   "execution_count": 7,
   "id": "841487a1",
   "metadata": {
    "execution": {
     "iopub.execute_input": "2023-11-06T16:50:53.515430Z",
     "iopub.status.busy": "2023-11-06T16:50:53.514929Z",
     "iopub.status.idle": "2023-11-06T16:50:53.522861Z",
     "shell.execute_reply": "2023-11-06T16:50:53.521576Z"
    },
    "papermill": {
     "duration": 0.099144,
     "end_time": "2023-11-06T16:50:53.525441",
     "exception": false,
     "start_time": "2023-11-06T16:50:53.426297",
     "status": "completed"
    },
    "tags": []
   },
   "outputs": [
    {
     "data": {
      "text/plain": [
       "str"
      ]
     },
     "execution_count": 7,
     "metadata": {},
     "output_type": "execute_result"
    }
   ],
   "source": [
    "x = \"sush\"\n",
    "type(x)"
   ]
  },
  {
   "cell_type": "code",
   "execution_count": 8,
   "id": "c7e051a2",
   "metadata": {
    "execution": {
     "iopub.execute_input": "2023-11-06T16:50:53.705443Z",
     "iopub.status.busy": "2023-11-06T16:50:53.704700Z",
     "iopub.status.idle": "2023-11-06T16:50:53.710724Z",
     "shell.execute_reply": "2023-11-06T16:50:53.709952Z"
    },
    "papermill": {
     "duration": 0.098994,
     "end_time": "2023-11-06T16:50:53.712854",
     "exception": false,
     "start_time": "2023-11-06T16:50:53.613860",
     "status": "completed"
    },
    "tags": []
   },
   "outputs": [
    {
     "data": {
      "text/plain": [
       "int"
      ]
     },
     "execution_count": 8,
     "metadata": {},
     "output_type": "execute_result"
    }
   ],
   "source": [
    "z = 44 - 5 - 14\n",
    "z\n",
    "type(z)"
   ]
  },
  {
   "cell_type": "code",
   "execution_count": 9,
   "id": "5d483100",
   "metadata": {
    "execution": {
     "iopub.execute_input": "2023-11-06T16:50:53.889570Z",
     "iopub.status.busy": "2023-11-06T16:50:53.888886Z",
     "iopub.status.idle": "2023-11-06T16:50:53.895495Z",
     "shell.execute_reply": "2023-11-06T16:50:53.894514Z"
    },
    "papermill": {
     "duration": 0.09486,
     "end_time": "2023-11-06T16:50:53.897807",
     "exception": false,
     "start_time": "2023-11-06T16:50:53.802947",
     "status": "completed"
    },
    "tags": []
   },
   "outputs": [
    {
     "data": {
      "text/plain": [
       "'44-5-14'"
      ]
     },
     "execution_count": 9,
     "metadata": {},
     "output_type": "execute_result"
    }
   ],
   "source": [
    "y = \"44-5-14\"\n",
    "y"
   ]
  },
  {
   "cell_type": "code",
   "execution_count": 10,
   "id": "244b64e2",
   "metadata": {
    "execution": {
     "iopub.execute_input": "2023-11-06T16:50:54.075548Z",
     "iopub.status.busy": "2023-11-06T16:50:54.075153Z",
     "iopub.status.idle": "2023-11-06T16:50:54.082396Z",
     "shell.execute_reply": "2023-11-06T16:50:54.081067Z"
    },
    "papermill": {
     "duration": 0.101487,
     "end_time": "2023-11-06T16:50:54.085119",
     "exception": false,
     "start_time": "2023-11-06T16:50:53.983632",
     "status": "completed"
    },
    "tags": []
   },
   "outputs": [
    {
     "data": {
      "text/plain": [
       "str"
      ]
     },
     "execution_count": 10,
     "metadata": {},
     "output_type": "execute_result"
    }
   ],
   "source": [
    "type(y)"
   ]
  },
  {
   "cell_type": "markdown",
   "id": "f6f9ab59",
   "metadata": {
    "papermill": {
     "duration": 0.08358,
     "end_time": "2023-11-06T16:50:54.253147",
     "exception": false,
     "start_time": "2023-11-06T16:50:54.169567",
     "status": "completed"
    },
    "tags": []
   },
   "source": [
    "# type casting"
   ]
  },
  {
   "cell_type": "code",
   "execution_count": 11,
   "id": "4aae4ec5",
   "metadata": {
    "execution": {
     "iopub.execute_input": "2023-11-06T16:50:54.422516Z",
     "iopub.status.busy": "2023-11-06T16:50:54.422064Z",
     "iopub.status.idle": "2023-11-06T16:50:54.429779Z",
     "shell.execute_reply": "2023-11-06T16:50:54.428580Z"
    },
    "papermill": {
     "duration": 0.095178,
     "end_time": "2023-11-06T16:50:54.432012",
     "exception": false,
     "start_time": "2023-11-06T16:50:54.336834",
     "status": "completed"
    },
    "tags": []
   },
   "outputs": [
    {
     "data": {
      "text/plain": [
       "float"
      ]
     },
     "execution_count": 11,
     "metadata": {},
     "output_type": "execute_result"
    }
   ],
   "source": [
    "a = 6.5\n",
    "type(a)"
   ]
  },
  {
   "cell_type": "code",
   "execution_count": 12,
   "id": "a6fb4451",
   "metadata": {
    "execution": {
     "iopub.execute_input": "2023-11-06T16:50:54.601836Z",
     "iopub.status.busy": "2023-11-06T16:50:54.600622Z",
     "iopub.status.idle": "2023-11-06T16:50:54.608786Z",
     "shell.execute_reply": "2023-11-06T16:50:54.607459Z"
    },
    "papermill": {
     "duration": 0.095548,
     "end_time": "2023-11-06T16:50:54.611333",
     "exception": false,
     "start_time": "2023-11-06T16:50:54.515785",
     "status": "completed"
    },
    "tags": []
   },
   "outputs": [
    {
     "data": {
      "text/plain": [
       "6"
      ]
     },
     "execution_count": 12,
     "metadata": {},
     "output_type": "execute_result"
    }
   ],
   "source": [
    "b = int(a)\n",
    "b"
   ]
  },
  {
   "cell_type": "code",
   "execution_count": 13,
   "id": "3467f5f1",
   "metadata": {
    "execution": {
     "iopub.execute_input": "2023-11-06T16:50:54.784537Z",
     "iopub.status.busy": "2023-11-06T16:50:54.784101Z",
     "iopub.status.idle": "2023-11-06T16:50:54.791345Z",
     "shell.execute_reply": "2023-11-06T16:50:54.789859Z"
    },
    "papermill": {
     "duration": 0.096931,
     "end_time": "2023-11-06T16:50:54.793505",
     "exception": false,
     "start_time": "2023-11-06T16:50:54.696574",
     "status": "completed"
    },
    "tags": []
   },
   "outputs": [
    {
     "data": {
      "text/plain": [
       "int"
      ]
     },
     "execution_count": 13,
     "metadata": {},
     "output_type": "execute_result"
    }
   ],
   "source": [
    "type(b)"
   ]
  },
  {
   "cell_type": "code",
   "execution_count": 14,
   "id": "d3c380b6",
   "metadata": {
    "execution": {
     "iopub.execute_input": "2023-11-06T16:50:54.968069Z",
     "iopub.status.busy": "2023-11-06T16:50:54.967628Z",
     "iopub.status.idle": "2023-11-06T16:50:54.974532Z",
     "shell.execute_reply": "2023-11-06T16:50:54.973397Z"
    },
    "papermill": {
     "duration": 0.097632,
     "end_time": "2023-11-06T16:50:54.976780",
     "exception": false,
     "start_time": "2023-11-06T16:50:54.879148",
     "status": "completed"
    },
    "tags": []
   },
   "outputs": [
    {
     "data": {
      "text/plain": [
       "6.0"
      ]
     },
     "execution_count": 14,
     "metadata": {},
     "output_type": "execute_result"
    }
   ],
   "source": [
    "c = float(b)\n",
    "c"
   ]
  },
  {
   "cell_type": "code",
   "execution_count": 15,
   "id": "7af2c9cf",
   "metadata": {
    "execution": {
     "iopub.execute_input": "2023-11-06T16:50:55.148333Z",
     "iopub.status.busy": "2023-11-06T16:50:55.147968Z",
     "iopub.status.idle": "2023-11-06T16:50:55.155448Z",
     "shell.execute_reply": "2023-11-06T16:50:55.154172Z"
    },
    "papermill": {
     "duration": 0.095748,
     "end_time": "2023-11-06T16:50:55.157913",
     "exception": false,
     "start_time": "2023-11-06T16:50:55.062165",
     "status": "completed"
    },
    "tags": []
   },
   "outputs": [
    {
     "data": {
      "text/plain": [
       "float"
      ]
     },
     "execution_count": 15,
     "metadata": {},
     "output_type": "execute_result"
    }
   ],
   "source": [
    "type(c)"
   ]
  },
  {
   "cell_type": "code",
   "execution_count": 16,
   "id": "1249c442",
   "metadata": {
    "execution": {
     "iopub.execute_input": "2023-11-06T16:50:55.328387Z",
     "iopub.status.busy": "2023-11-06T16:50:55.328014Z",
     "iopub.status.idle": "2023-11-06T16:50:55.335025Z",
     "shell.execute_reply": "2023-11-06T16:50:55.333806Z"
    },
    "papermill": {
     "duration": 0.096082,
     "end_time": "2023-11-06T16:50:55.337537",
     "exception": false,
     "start_time": "2023-11-06T16:50:55.241455",
     "status": "completed"
    },
    "tags": []
   },
   "outputs": [
    {
     "data": {
      "text/plain": [
       "'667'"
      ]
     },
     "execution_count": 16,
     "metadata": {},
     "output_type": "execute_result"
    }
   ],
   "source": [
    "g = \"66\"\n",
    "h = \"7\"\n",
    "\n",
    "g + h"
   ]
  },
  {
   "cell_type": "code",
   "execution_count": 17,
   "id": "d5136e45",
   "metadata": {
    "execution": {
     "iopub.execute_input": "2023-11-06T16:50:55.507674Z",
     "iopub.status.busy": "2023-11-06T16:50:55.507316Z",
     "iopub.status.idle": "2023-11-06T16:50:55.514289Z",
     "shell.execute_reply": "2023-11-06T16:50:55.513171Z"
    },
    "papermill": {
     "duration": 0.094936,
     "end_time": "2023-11-06T16:50:55.516478",
     "exception": false,
     "start_time": "2023-11-06T16:50:55.421542",
     "status": "completed"
    },
    "tags": []
   },
   "outputs": [
    {
     "data": {
      "text/plain": [
       "73"
      ]
     },
     "execution_count": 17,
     "metadata": {},
     "output_type": "execute_result"
    }
   ],
   "source": [
    "i = 66\n",
    "j = 7\n",
    "i + j"
   ]
  },
  {
   "cell_type": "code",
   "execution_count": 18,
   "id": "3c3fd9aa",
   "metadata": {
    "execution": {
     "iopub.execute_input": "2023-11-06T16:50:55.688017Z",
     "iopub.status.busy": "2023-11-06T16:50:55.687387Z",
     "iopub.status.idle": "2023-11-06T16:50:55.695026Z",
     "shell.execute_reply": "2023-11-06T16:50:55.693839Z"
    },
    "papermill": {
     "duration": 0.096936,
     "end_time": "2023-11-06T16:50:55.697472",
     "exception": false,
     "start_time": "2023-11-06T16:50:55.600536",
     "status": "completed"
    },
    "tags": []
   },
   "outputs": [
    {
     "data": {
      "text/plain": [
       "'667'"
      ]
     },
     "execution_count": 18,
     "metadata": {},
     "output_type": "execute_result"
    }
   ],
   "source": [
    "p = \"66\"\n",
    "q = 7\n",
    "# \"667\"\n",
    "p + str(q)"
   ]
  },
  {
   "cell_type": "code",
   "execution_count": 19,
   "id": "579a87c8",
   "metadata": {
    "execution": {
     "iopub.execute_input": "2023-11-06T16:50:55.876787Z",
     "iopub.status.busy": "2023-11-06T16:50:55.876008Z",
     "iopub.status.idle": "2023-11-06T16:50:55.882144Z",
     "shell.execute_reply": "2023-11-06T16:50:55.881191Z"
    },
    "papermill": {
     "duration": 0.101934,
     "end_time": "2023-11-06T16:50:55.884565",
     "exception": false,
     "start_time": "2023-11-06T16:50:55.782631",
     "status": "completed"
    },
    "tags": []
   },
   "outputs": [
    {
     "data": {
      "text/plain": [
       "73"
      ]
     },
     "execution_count": 19,
     "metadata": {},
     "output_type": "execute_result"
    }
   ],
   "source": [
    "p = \"66\"\n",
    "q = 7\n",
    "int(p) + q"
   ]
  },
  {
   "cell_type": "code",
   "execution_count": 20,
   "id": "99eb72cf",
   "metadata": {
    "execution": {
     "iopub.execute_input": "2023-11-06T16:50:56.060178Z",
     "iopub.status.busy": "2023-11-06T16:50:56.059783Z",
     "iopub.status.idle": "2023-11-06T16:50:56.066671Z",
     "shell.execute_reply": "2023-11-06T16:50:56.065606Z"
    },
    "papermill": {
     "duration": 0.096343,
     "end_time": "2023-11-06T16:50:56.069249",
     "exception": false,
     "start_time": "2023-11-06T16:50:55.972906",
     "status": "completed"
    },
    "tags": []
   },
   "outputs": [
    {
     "data": {
      "text/plain": [
       "8"
      ]
     },
     "execution_count": 20,
     "metadata": {},
     "output_type": "execute_result"
    }
   ],
   "source": [
    "a = 7\n",
    "b = 8\n",
    "b"
   ]
  },
  {
   "cell_type": "code",
   "execution_count": 21,
   "id": "979f9c13",
   "metadata": {
    "execution": {
     "iopub.execute_input": "2023-11-06T16:50:56.245389Z",
     "iopub.status.busy": "2023-11-06T16:50:56.244484Z",
     "iopub.status.idle": "2023-11-06T16:50:56.250964Z",
     "shell.execute_reply": "2023-11-06T16:50:56.250106Z"
    },
    "papermill": {
     "duration": 0.095526,
     "end_time": "2023-11-06T16:50:56.253212",
     "exception": false,
     "start_time": "2023-11-06T16:50:56.157686",
     "status": "completed"
    },
    "tags": []
   },
   "outputs": [
    {
     "data": {
      "text/plain": [
       "8"
      ]
     },
     "execution_count": 21,
     "metadata": {},
     "output_type": "execute_result"
    }
   ],
   "source": [
    "a,b = 7,8\n",
    "b"
   ]
  },
  {
   "cell_type": "code",
   "execution_count": 22,
   "id": "df0b10b5",
   "metadata": {
    "execution": {
     "iopub.execute_input": "2023-11-06T16:50:56.426518Z",
     "iopub.status.busy": "2023-11-06T16:50:56.426051Z",
     "iopub.status.idle": "2023-11-06T16:50:56.433076Z",
     "shell.execute_reply": "2023-11-06T16:50:56.431890Z"
    },
    "papermill": {
     "duration": 0.096243,
     "end_time": "2023-11-06T16:50:56.435255",
     "exception": false,
     "start_time": "2023-11-06T16:50:56.339012",
     "status": "completed"
    },
    "tags": []
   },
   "outputs": [
    {
     "data": {
      "text/plain": [
       "7"
      ]
     },
     "execution_count": 22,
     "metadata": {},
     "output_type": "execute_result"
    }
   ],
   "source": [
    "abhi7 = 7\n",
    "abhi7"
   ]
  },
  {
   "cell_type": "code",
   "execution_count": 23,
   "id": "e737cdcf",
   "metadata": {
    "execution": {
     "iopub.execute_input": "2023-11-06T16:50:56.608175Z",
     "iopub.status.busy": "2023-11-06T16:50:56.607672Z",
     "iopub.status.idle": "2023-11-06T16:50:56.614590Z",
     "shell.execute_reply": "2023-11-06T16:50:56.612907Z"
    },
    "papermill": {
     "duration": 0.096526,
     "end_time": "2023-11-06T16:50:56.616863",
     "exception": false,
     "start_time": "2023-11-06T16:50:56.520337",
     "status": "completed"
    },
    "tags": []
   },
   "outputs": [
    {
     "name": "stdout",
     "output_type": "stream",
     "text": [
      "Sally\n"
     ]
    }
   ],
   "source": [
    "x = 4       # x is of type int\n",
    "x = \"Sally\" # x is now of type str\n",
    "print(x)"
   ]
  },
  {
   "cell_type": "code",
   "execution_count": 24,
   "id": "1143024f",
   "metadata": {
    "execution": {
     "iopub.execute_input": "2023-11-06T16:50:56.790256Z",
     "iopub.status.busy": "2023-11-06T16:50:56.789798Z",
     "iopub.status.idle": "2023-11-06T16:50:56.796008Z",
     "shell.execute_reply": "2023-11-06T16:50:56.794804Z"
    },
    "papermill": {
     "duration": 0.096077,
     "end_time": "2023-11-06T16:50:56.798331",
     "exception": false,
     "start_time": "2023-11-06T16:50:56.702254",
     "status": "completed"
    },
    "tags": []
   },
   "outputs": [
    {
     "name": "stdout",
     "output_type": "stream",
     "text": [
      "4\n"
     ]
    }
   ],
   "source": [
    "x = 4       # x is of type int\n",
    "print(x)\n",
    "x = \"Sally\" # x is now of type str\n"
   ]
  },
  {
   "cell_type": "code",
   "execution_count": 25,
   "id": "b2f33b66",
   "metadata": {
    "execution": {
     "iopub.execute_input": "2023-11-06T16:50:56.988385Z",
     "iopub.status.busy": "2023-11-06T16:50:56.987905Z",
     "iopub.status.idle": "2023-11-06T16:50:56.994541Z",
     "shell.execute_reply": "2023-11-06T16:50:56.992663Z"
    },
    "papermill": {
     "duration": 0.10624,
     "end_time": "2023-11-06T16:50:56.998162",
     "exception": false,
     "start_time": "2023-11-06T16:50:56.891922",
     "status": "completed"
    },
    "tags": []
   },
   "outputs": [
    {
     "name": "stdout",
     "output_type": "stream",
     "text": [
      "7\n"
     ]
    }
   ],
   "source": [
    "# o/p\n",
    "a= 7\n",
    "print(a)"
   ]
  },
  {
   "cell_type": "code",
   "execution_count": 26,
   "id": "85382c0d",
   "metadata": {
    "execution": {
     "iopub.execute_input": "2023-11-06T16:50:57.218618Z",
     "iopub.status.busy": "2023-11-06T16:50:57.218230Z",
     "iopub.status.idle": "2023-11-06T16:50:57.223008Z",
     "shell.execute_reply": "2023-11-06T16:50:57.221567Z"
    },
    "papermill": {
     "duration": 0.112346,
     "end_time": "2023-11-06T16:50:57.225610",
     "exception": false,
     "start_time": "2023-11-06T16:50:57.113264",
     "status": "completed"
    },
    "tags": []
   },
   "outputs": [],
   "source": [
    "# a = int(input())\n",
    "# print(a+1)"
   ]
  },
  {
   "cell_type": "code",
   "execution_count": 27,
   "id": "9457ff34",
   "metadata": {
    "execution": {
     "iopub.execute_input": "2023-11-06T16:50:57.414341Z",
     "iopub.status.busy": "2023-11-06T16:50:57.413892Z",
     "iopub.status.idle": "2023-11-06T16:50:57.421744Z",
     "shell.execute_reply": "2023-11-06T16:50:57.420360Z"
    },
    "papermill": {
     "duration": 0.102918,
     "end_time": "2023-11-06T16:50:57.424296",
     "exception": false,
     "start_time": "2023-11-06T16:50:57.321378",
     "status": "completed"
    },
    "tags": []
   },
   "outputs": [
    {
     "data": {
      "text/plain": [
       "13"
      ]
     },
     "execution_count": 27,
     "metadata": {},
     "output_type": "execute_result"
    }
   ],
   "source": [
    "a = 6 + 7\n",
    "a"
   ]
  },
  {
   "cell_type": "code",
   "execution_count": 28,
   "id": "f492aa1c",
   "metadata": {
    "execution": {
     "iopub.execute_input": "2023-11-06T16:50:57.598256Z",
     "iopub.status.busy": "2023-11-06T16:50:57.597606Z",
     "iopub.status.idle": "2023-11-06T16:50:57.604864Z",
     "shell.execute_reply": "2023-11-06T16:50:57.603719Z"
    },
    "papermill": {
     "duration": 0.096712,
     "end_time": "2023-11-06T16:50:57.607280",
     "exception": false,
     "start_time": "2023-11-06T16:50:57.510568",
     "status": "completed"
    },
    "tags": []
   },
   "outputs": [
    {
     "data": {
      "text/plain": [
       "'da50'"
      ]
     },
     "execution_count": 28,
     "metadata": {},
     "output_type": "execute_result"
    }
   ],
   "source": [
    "b = \"da\" + str(50)\n",
    "b"
   ]
  },
  {
   "cell_type": "code",
   "execution_count": 29,
   "id": "82d6d3fa",
   "metadata": {
    "execution": {
     "iopub.execute_input": "2023-11-06T16:50:57.790952Z",
     "iopub.status.busy": "2023-11-06T16:50:57.789783Z",
     "iopub.status.idle": "2023-11-06T16:50:57.796048Z",
     "shell.execute_reply": "2023-11-06T16:50:57.795250Z"
    },
    "papermill": {
     "duration": 0.100016,
     "end_time": "2023-11-06T16:50:57.798702",
     "exception": false,
     "start_time": "2023-11-06T16:50:57.698686",
     "status": "completed"
    },
    "tags": []
   },
   "outputs": [
    {
     "name": "stdout",
     "output_type": "stream",
     "text": [
      "5 John\n"
     ]
    }
   ],
   "source": [
    "x = 5\n",
    "y = \"John\"\n",
    "print(x, y)"
   ]
  },
  {
   "cell_type": "code",
   "execution_count": 30,
   "id": "622a026f",
   "metadata": {
    "execution": {
     "iopub.execute_input": "2023-11-06T16:50:57.984332Z",
     "iopub.status.busy": "2023-11-06T16:50:57.983799Z",
     "iopub.status.idle": "2023-11-06T16:50:57.989138Z",
     "shell.execute_reply": "2023-11-06T16:50:57.988029Z"
    },
    "papermill": {
     "duration": 0.102578,
     "end_time": "2023-11-06T16:50:57.991567",
     "exception": false,
     "start_time": "2023-11-06T16:50:57.888989",
     "status": "completed"
    },
    "tags": []
   },
   "outputs": [],
   "source": [
    "a = 6 \n",
    "a = 7"
   ]
  },
  {
   "cell_type": "markdown",
   "id": "ed6b2279",
   "metadata": {
    "papermill": {
     "duration": 0.090436,
     "end_time": "2023-11-06T16:50:58.174050",
     "exception": false,
     "start_time": "2023-11-06T16:50:58.083614",
     "status": "completed"
    },
    "tags": []
   },
   "source": [
    "# data  structures\n"
   ]
  },
  {
   "cell_type": "markdown",
   "id": "0dc650e5",
   "metadata": {
    "papermill": {
     "duration": 0.086262,
     "end_time": "2023-11-06T16:50:58.348190",
     "exception": false,
     "start_time": "2023-11-06T16:50:58.261928",
     "status": "completed"
    },
    "tags": []
   },
   "source": [
    "# List  [ ] "
   ]
  },
  {
   "cell_type": "code",
   "execution_count": 31,
   "id": "aa561554",
   "metadata": {
    "execution": {
     "iopub.execute_input": "2023-11-06T16:50:58.523005Z",
     "iopub.status.busy": "2023-11-06T16:50:58.522491Z",
     "iopub.status.idle": "2023-11-06T16:50:58.530118Z",
     "shell.execute_reply": "2023-11-06T16:50:58.529203Z"
    },
    "papermill": {
     "duration": 0.097486,
     "end_time": "2023-11-06T16:50:58.532296",
     "exception": false,
     "start_time": "2023-11-06T16:50:58.434810",
     "status": "completed"
    },
    "tags": []
   },
   "outputs": [
    {
     "data": {
      "text/plain": [
       "11"
      ]
     },
     "execution_count": 31,
     "metadata": {},
     "output_type": "execute_result"
    }
   ],
   "source": [
    "a = [11,28,34,45,57]\n",
    "a[0]\n",
    "\n"
   ]
  },
  {
   "cell_type": "code",
   "execution_count": 32,
   "id": "fa5777a3",
   "metadata": {
    "execution": {
     "iopub.execute_input": "2023-11-06T16:50:58.706888Z",
     "iopub.status.busy": "2023-11-06T16:50:58.706375Z",
     "iopub.status.idle": "2023-11-06T16:50:58.713925Z",
     "shell.execute_reply": "2023-11-06T16:50:58.712543Z"
    },
    "papermill": {
     "duration": 0.097952,
     "end_time": "2023-11-06T16:50:58.716309",
     "exception": false,
     "start_time": "2023-11-06T16:50:58.618357",
     "status": "completed"
    },
    "tags": []
   },
   "outputs": [
    {
     "data": {
      "text/plain": [
       "57"
      ]
     },
     "execution_count": 32,
     "metadata": {},
     "output_type": "execute_result"
    }
   ],
   "source": [
    "a[4]"
   ]
  },
  {
   "cell_type": "code",
   "execution_count": 33,
   "id": "33f180c3",
   "metadata": {
    "execution": {
     "iopub.execute_input": "2023-11-06T16:50:58.893720Z",
     "iopub.status.busy": "2023-11-06T16:50:58.893237Z",
     "iopub.status.idle": "2023-11-06T16:50:58.900754Z",
     "shell.execute_reply": "2023-11-06T16:50:58.899578Z"
    },
    "papermill": {
     "duration": 0.09878,
     "end_time": "2023-11-06T16:50:58.903032",
     "exception": false,
     "start_time": "2023-11-06T16:50:58.804252",
     "status": "completed"
    },
    "tags": []
   },
   "outputs": [
    {
     "data": {
      "text/plain": [
       "[11, 28, 34, 45, 57]"
      ]
     },
     "execution_count": 33,
     "metadata": {},
     "output_type": "execute_result"
    }
   ],
   "source": [
    "a"
   ]
  },
  {
   "cell_type": "code",
   "execution_count": 34,
   "id": "09669641",
   "metadata": {
    "execution": {
     "iopub.execute_input": "2023-11-06T16:50:59.080079Z",
     "iopub.status.busy": "2023-11-06T16:50:59.079669Z",
     "iopub.status.idle": "2023-11-06T16:50:59.087268Z",
     "shell.execute_reply": "2023-11-06T16:50:59.086041Z"
    },
    "papermill": {
     "duration": 0.099228,
     "end_time": "2023-11-06T16:50:59.089589",
     "exception": false,
     "start_time": "2023-11-06T16:50:58.990361",
     "status": "completed"
    },
    "tags": []
   },
   "outputs": [
    {
     "data": {
      "text/plain": [
       "57"
      ]
     },
     "execution_count": 34,
     "metadata": {},
     "output_type": "execute_result"
    }
   ],
   "source": [
    "a[-1]"
   ]
  },
  {
   "cell_type": "code",
   "execution_count": 35,
   "id": "8fe21276",
   "metadata": {
    "execution": {
     "iopub.execute_input": "2023-11-06T16:50:59.266687Z",
     "iopub.status.busy": "2023-11-06T16:50:59.266320Z",
     "iopub.status.idle": "2023-11-06T16:50:59.274105Z",
     "shell.execute_reply": "2023-11-06T16:50:59.272836Z"
    },
    "papermill": {
     "duration": 0.099137,
     "end_time": "2023-11-06T16:50:59.276550",
     "exception": false,
     "start_time": "2023-11-06T16:50:59.177413",
     "status": "completed"
    },
    "tags": []
   },
   "outputs": [
    {
     "data": {
      "text/plain": [
       "11"
      ]
     },
     "execution_count": 35,
     "metadata": {},
     "output_type": "execute_result"
    }
   ],
   "source": [
    "a[-5]"
   ]
  },
  {
   "cell_type": "code",
   "execution_count": 36,
   "id": "6057b2d3",
   "metadata": {
    "execution": {
     "iopub.execute_input": "2023-11-06T16:50:59.454375Z",
     "iopub.status.busy": "2023-11-06T16:50:59.454015Z",
     "iopub.status.idle": "2023-11-06T16:50:59.462072Z",
     "shell.execute_reply": "2023-11-06T16:50:59.460742Z"
    },
    "papermill": {
     "duration": 0.099712,
     "end_time": "2023-11-06T16:50:59.464511",
     "exception": false,
     "start_time": "2023-11-06T16:50:59.364799",
     "status": "completed"
    },
    "tags": []
   },
   "outputs": [
    {
     "data": {
      "text/plain": [
       "[28, 34, 45]"
      ]
     },
     "execution_count": 36,
     "metadata": {},
     "output_type": "execute_result"
    }
   ],
   "source": [
    "a[1:4]"
   ]
  },
  {
   "cell_type": "code",
   "execution_count": 37,
   "id": "8e52df04",
   "metadata": {
    "execution": {
     "iopub.execute_input": "2023-11-06T16:50:59.640186Z",
     "iopub.status.busy": "2023-11-06T16:50:59.639429Z",
     "iopub.status.idle": "2023-11-06T16:50:59.645062Z",
     "shell.execute_reply": "2023-11-06T16:50:59.643846Z"
    },
    "papermill": {
     "duration": 0.096003,
     "end_time": "2023-11-06T16:50:59.647223",
     "exception": false,
     "start_time": "2023-11-06T16:50:59.551220",
     "status": "completed"
    },
    "tags": []
   },
   "outputs": [],
   "source": [
    "a = [10,20,30,40 ,50,60,70,80,90]"
   ]
  },
  {
   "cell_type": "code",
   "execution_count": 38,
   "id": "63da84ef",
   "metadata": {
    "execution": {
     "iopub.execute_input": "2023-11-06T16:50:59.822419Z",
     "iopub.status.busy": "2023-11-06T16:50:59.821965Z",
     "iopub.status.idle": "2023-11-06T16:50:59.829190Z",
     "shell.execute_reply": "2023-11-06T16:50:59.828131Z"
    },
    "papermill": {
     "duration": 0.098497,
     "end_time": "2023-11-06T16:50:59.831933",
     "exception": false,
     "start_time": "2023-11-06T16:50:59.733436",
     "status": "completed"
    },
    "tags": []
   },
   "outputs": [
    {
     "data": {
      "text/plain": [
       "[20, 30, 40, 50, 60, 70, 80]"
      ]
     },
     "execution_count": 38,
     "metadata": {},
     "output_type": "execute_result"
    }
   ],
   "source": [
    "# 2 property index - list = zero -index \n",
    "a[1:8]"
   ]
  },
  {
   "cell_type": "code",
   "execution_count": 39,
   "id": "9846ba73",
   "metadata": {
    "execution": {
     "iopub.execute_input": "2023-11-06T16:51:00.017560Z",
     "iopub.status.busy": "2023-11-06T16:51:00.017135Z",
     "iopub.status.idle": "2023-11-06T16:51:00.025198Z",
     "shell.execute_reply": "2023-11-06T16:51:00.023853Z"
    },
    "papermill": {
     "duration": 0.102482,
     "end_time": "2023-11-06T16:51:00.027735",
     "exception": false,
     "start_time": "2023-11-06T16:50:59.925253",
     "status": "completed"
    },
    "tags": []
   },
   "outputs": [
    {
     "data": {
      "text/plain": [
       "[20, 40, 60, 80]"
      ]
     },
     "execution_count": 39,
     "metadata": {},
     "output_type": "execute_result"
    }
   ],
   "source": [
    "a[1:8:2]"
   ]
  },
  {
   "cell_type": "code",
   "execution_count": 40,
   "id": "c4b57db2",
   "metadata": {
    "execution": {
     "iopub.execute_input": "2023-11-06T16:51:00.211437Z",
     "iopub.status.busy": "2023-11-06T16:51:00.211030Z",
     "iopub.status.idle": "2023-11-06T16:51:00.218281Z",
     "shell.execute_reply": "2023-11-06T16:51:00.216858Z"
    },
    "papermill": {
     "duration": 0.102025,
     "end_time": "2023-11-06T16:51:00.220604",
     "exception": false,
     "start_time": "2023-11-06T16:51:00.118579",
     "status": "completed"
    },
    "tags": []
   },
   "outputs": [
    {
     "data": {
      "text/plain": [
       "[20, 50, 80]"
      ]
     },
     "execution_count": 40,
     "metadata": {},
     "output_type": "execute_result"
    }
   ],
   "source": [
    "a[1:-1:3]"
   ]
  },
  {
   "cell_type": "code",
   "execution_count": 41,
   "id": "7f628160",
   "metadata": {
    "execution": {
     "iopub.execute_input": "2023-11-06T16:51:00.417546Z",
     "iopub.status.busy": "2023-11-06T16:51:00.416516Z",
     "iopub.status.idle": "2023-11-06T16:51:00.424494Z",
     "shell.execute_reply": "2023-11-06T16:51:00.423383Z"
    },
    "papermill": {
     "duration": 0.11702,
     "end_time": "2023-11-06T16:51:00.426895",
     "exception": false,
     "start_time": "2023-11-06T16:51:00.309875",
     "status": "completed"
    },
    "tags": []
   },
   "outputs": [
    {
     "data": {
      "text/plain": [
       "[10, 20, 30, 40, 50, 60, 70, 80, 90]"
      ]
     },
     "execution_count": 41,
     "metadata": {},
     "output_type": "execute_result"
    }
   ],
   "source": [
    "# property of 1 of list \n",
    "# mutabilty\n",
    "\n",
    "a "
   ]
  },
  {
   "cell_type": "code",
   "execution_count": 42,
   "id": "00ddd865",
   "metadata": {
    "execution": {
     "iopub.execute_input": "2023-11-06T16:51:00.616565Z",
     "iopub.status.busy": "2023-11-06T16:51:00.616172Z",
     "iopub.status.idle": "2023-11-06T16:51:00.623895Z",
     "shell.execute_reply": "2023-11-06T16:51:00.622690Z"
    },
    "papermill": {
     "duration": 0.102017,
     "end_time": "2023-11-06T16:51:00.626294",
     "exception": false,
     "start_time": "2023-11-06T16:51:00.524277",
     "status": "completed"
    },
    "tags": []
   },
   "outputs": [
    {
     "data": {
      "text/plain": [
       "10"
      ]
     },
     "execution_count": 42,
     "metadata": {},
     "output_type": "execute_result"
    }
   ],
   "source": [
    "a[0]"
   ]
  },
  {
   "cell_type": "code",
   "execution_count": 43,
   "id": "f6a38442",
   "metadata": {
    "execution": {
     "iopub.execute_input": "2023-11-06T16:51:00.817187Z",
     "iopub.status.busy": "2023-11-06T16:51:00.816347Z",
     "iopub.status.idle": "2023-11-06T16:51:00.823479Z",
     "shell.execute_reply": "2023-11-06T16:51:00.822692Z"
    },
    "papermill": {
     "duration": 0.105712,
     "end_time": "2023-11-06T16:51:00.826019",
     "exception": false,
     "start_time": "2023-11-06T16:51:00.720307",
     "status": "completed"
    },
    "tags": []
   },
   "outputs": [
    {
     "data": {
      "text/plain": [
       "[900, 20, 30, 40, 50, 60, 70, 80, 90]"
      ]
     },
     "execution_count": 43,
     "metadata": {},
     "output_type": "execute_result"
    }
   ],
   "source": [
    "a[0] = 900\n",
    "a"
   ]
  },
  {
   "cell_type": "code",
   "execution_count": 44,
   "id": "6f3650c7",
   "metadata": {
    "execution": {
     "iopub.execute_input": "2023-11-06T16:51:01.020881Z",
     "iopub.status.busy": "2023-11-06T16:51:01.019840Z",
     "iopub.status.idle": "2023-11-06T16:51:01.028210Z",
     "shell.execute_reply": "2023-11-06T16:51:01.027147Z"
    },
    "papermill": {
     "duration": 0.101654,
     "end_time": "2023-11-06T16:51:01.030638",
     "exception": false,
     "start_time": "2023-11-06T16:51:00.928984",
     "status": "completed"
    },
    "tags": []
   },
   "outputs": [
    {
     "data": {
      "text/plain": [
       "list"
      ]
     },
     "execution_count": 44,
     "metadata": {},
     "output_type": "execute_result"
    }
   ],
   "source": [
    "type(a)"
   ]
  },
  {
   "cell_type": "markdown",
   "id": "a2513fcc",
   "metadata": {
    "papermill": {
     "duration": 0.089905,
     "end_time": "2023-11-06T16:51:01.211056",
     "exception": false,
     "start_time": "2023-11-06T16:51:01.121151",
     "status": "completed"
    },
    "tags": []
   },
   "source": [
    "# tuple  (  )"
   ]
  },
  {
   "cell_type": "code",
   "execution_count": 45,
   "id": "564a4b52",
   "metadata": {
    "execution": {
     "iopub.execute_input": "2023-11-06T16:51:01.397704Z",
     "iopub.status.busy": "2023-11-06T16:51:01.396835Z",
     "iopub.status.idle": "2023-11-06T16:51:01.404965Z",
     "shell.execute_reply": "2023-11-06T16:51:01.403534Z"
    },
    "papermill": {
     "duration": 0.105044,
     "end_time": "2023-11-06T16:51:01.407525",
     "exception": false,
     "start_time": "2023-11-06T16:51:01.302481",
     "status": "completed"
    },
    "tags": []
   },
   "outputs": [
    {
     "data": {
      "text/plain": [
       "10"
      ]
     },
     "execution_count": 45,
     "metadata": {},
     "output_type": "execute_result"
    }
   ],
   "source": [
    "b = (10,20,30,40,50)\n",
    "b[0]"
   ]
  },
  {
   "cell_type": "code",
   "execution_count": 46,
   "id": "0c7b8fae",
   "metadata": {
    "execution": {
     "iopub.execute_input": "2023-11-06T16:51:01.594720Z",
     "iopub.status.busy": "2023-11-06T16:51:01.594019Z",
     "iopub.status.idle": "2023-11-06T16:51:01.600811Z",
     "shell.execute_reply": "2023-11-06T16:51:01.599828Z"
    },
    "papermill": {
     "duration": 0.10457,
     "end_time": "2023-11-06T16:51:01.603230",
     "exception": false,
     "start_time": "2023-11-06T16:51:01.498660",
     "status": "completed"
    },
    "tags": []
   },
   "outputs": [
    {
     "data": {
      "text/plain": [
       "tuple"
      ]
     },
     "execution_count": 46,
     "metadata": {},
     "output_type": "execute_result"
    }
   ],
   "source": [
    "type(b)"
   ]
  },
  {
   "cell_type": "code",
   "execution_count": 47,
   "id": "c9f07a2f",
   "metadata": {
    "execution": {
     "iopub.execute_input": "2023-11-06T16:51:01.787703Z",
     "iopub.status.busy": "2023-11-06T16:51:01.787293Z",
     "iopub.status.idle": "2023-11-06T16:51:01.794016Z",
     "shell.execute_reply": "2023-11-06T16:51:01.793097Z"
    },
    "papermill": {
     "duration": 0.102305,
     "end_time": "2023-11-06T16:51:01.796531",
     "exception": false,
     "start_time": "2023-11-06T16:51:01.694226",
     "status": "completed"
    },
    "tags": []
   },
   "outputs": [
    {
     "data": {
      "text/plain": [
       "50"
      ]
     },
     "execution_count": 47,
     "metadata": {},
     "output_type": "execute_result"
    }
   ],
   "source": [
    "b[4]"
   ]
  },
  {
   "cell_type": "code",
   "execution_count": 48,
   "id": "4c30ccb2",
   "metadata": {
    "execution": {
     "iopub.execute_input": "2023-11-06T16:51:01.979571Z",
     "iopub.status.busy": "2023-11-06T16:51:01.978875Z",
     "iopub.status.idle": "2023-11-06T16:51:01.985617Z",
     "shell.execute_reply": "2023-11-06T16:51:01.984199Z"
    },
    "papermill": {
     "duration": 0.101888,
     "end_time": "2023-11-06T16:51:01.988336",
     "exception": false,
     "start_time": "2023-11-06T16:51:01.886448",
     "status": "completed"
    },
    "tags": []
   },
   "outputs": [
    {
     "data": {
      "text/plain": [
       "50"
      ]
     },
     "execution_count": 48,
     "metadata": {},
     "output_type": "execute_result"
    }
   ],
   "source": [
    "b[-1]"
   ]
  },
  {
   "cell_type": "code",
   "execution_count": 49,
   "id": "c6b79037",
   "metadata": {
    "execution": {
     "iopub.execute_input": "2023-11-06T16:51:02.184490Z",
     "iopub.status.busy": "2023-11-06T16:51:02.183693Z",
     "iopub.status.idle": "2023-11-06T16:51:02.190012Z",
     "shell.execute_reply": "2023-11-06T16:51:02.188354Z"
    },
    "papermill": {
     "duration": 0.105952,
     "end_time": "2023-11-06T16:51:02.192625",
     "exception": false,
     "start_time": "2023-11-06T16:51:02.086673",
     "status": "completed"
    },
    "tags": []
   },
   "outputs": [],
   "source": [
    "# property 2 of tuple - zero index "
   ]
  },
  {
   "cell_type": "code",
   "execution_count": 50,
   "id": "582ccb9c",
   "metadata": {
    "execution": {
     "iopub.execute_input": "2023-11-06T16:51:02.443316Z",
     "iopub.status.busy": "2023-11-06T16:51:02.442257Z",
     "iopub.status.idle": "2023-11-06T16:51:02.447448Z",
     "shell.execute_reply": "2023-11-06T16:51:02.446348Z"
    },
    "papermill": {
     "duration": 0.097572,
     "end_time": "2023-11-06T16:51:02.449861",
     "exception": false,
     "start_time": "2023-11-06T16:51:02.352289",
     "status": "completed"
    },
    "tags": []
   },
   "outputs": [],
   "source": [
    "# b[0] = 10"
   ]
  },
  {
   "cell_type": "code",
   "execution_count": 51,
   "id": "88328159",
   "metadata": {
    "execution": {
     "iopub.execute_input": "2023-11-06T16:51:02.630647Z",
     "iopub.status.busy": "2023-11-06T16:51:02.629824Z",
     "iopub.status.idle": "2023-11-06T16:51:02.635130Z",
     "shell.execute_reply": "2023-11-06T16:51:02.633819Z"
    },
    "papermill": {
     "duration": 0.097502,
     "end_time": "2023-11-06T16:51:02.637424",
     "exception": false,
     "start_time": "2023-11-06T16:51:02.539922",
     "status": "completed"
    },
    "tags": []
   },
   "outputs": [],
   "source": [
    "# property immutabilty - ypu cant change elements in a list"
   ]
  },
  {
   "cell_type": "code",
   "execution_count": 52,
   "id": "a50f6620",
   "metadata": {
    "execution": {
     "iopub.execute_input": "2023-11-06T16:51:02.816864Z",
     "iopub.status.busy": "2023-11-06T16:51:02.816062Z",
     "iopub.status.idle": "2023-11-06T16:51:02.820289Z",
     "shell.execute_reply": "2023-11-06T16:51:02.819428Z"
    },
    "papermill": {
     "duration": 0.096433,
     "end_time": "2023-11-06T16:51:02.822546",
     "exception": false,
     "start_time": "2023-11-06T16:51:02.726113",
     "status": "completed"
    },
    "tags": []
   },
   "outputs": [],
   "source": [
    "# set "
   ]
  },
  {
   "cell_type": "markdown",
   "id": "08d6c506",
   "metadata": {
    "papermill": {
     "duration": 0.090576,
     "end_time": "2023-11-06T16:51:03.002965",
     "exception": false,
     "start_time": "2023-11-06T16:51:02.912389",
     "status": "completed"
    },
    "tags": []
   },
   "source": [
    "{ }"
   ]
  },
  {
   "cell_type": "code",
   "execution_count": 53,
   "id": "2c8ad0ed",
   "metadata": {
    "execution": {
     "iopub.execute_input": "2023-11-06T16:51:03.181881Z",
     "iopub.status.busy": "2023-11-06T16:51:03.181186Z",
     "iopub.status.idle": "2023-11-06T16:51:03.185647Z",
     "shell.execute_reply": "2023-11-06T16:51:03.184839Z"
    },
    "papermill": {
     "duration": 0.096652,
     "end_time": "2023-11-06T16:51:03.187810",
     "exception": false,
     "start_time": "2023-11-06T16:51:03.091158",
     "status": "completed"
    },
    "tags": []
   },
   "outputs": [],
   "source": [
    "c = {10,20,30,40}"
   ]
  },
  {
   "cell_type": "code",
   "execution_count": 54,
   "id": "f6928a34",
   "metadata": {
    "execution": {
     "iopub.execute_input": "2023-11-06T16:51:03.368867Z",
     "iopub.status.busy": "2023-11-06T16:51:03.368178Z",
     "iopub.status.idle": "2023-11-06T16:51:03.374349Z",
     "shell.execute_reply": "2023-11-06T16:51:03.373112Z"
    },
    "papermill": {
     "duration": 0.099053,
     "end_time": "2023-11-06T16:51:03.376558",
     "exception": false,
     "start_time": "2023-11-06T16:51:03.277505",
     "status": "completed"
    },
    "tags": []
   },
   "outputs": [
    {
     "data": {
      "text/plain": [
       "{10, 20, 30, 40}"
      ]
     },
     "execution_count": 54,
     "metadata": {},
     "output_type": "execute_result"
    }
   ],
   "source": [
    "c"
   ]
  },
  {
   "cell_type": "code",
   "execution_count": 55,
   "id": "4914f05e",
   "metadata": {
    "execution": {
     "iopub.execute_input": "2023-11-06T16:51:03.556058Z",
     "iopub.status.busy": "2023-11-06T16:51:03.555360Z",
     "iopub.status.idle": "2023-11-06T16:51:03.560576Z",
     "shell.execute_reply": "2023-11-06T16:51:03.559368Z"
    },
    "papermill": {
     "duration": 0.098106,
     "end_time": "2023-11-06T16:51:03.563050",
     "exception": false,
     "start_time": "2023-11-06T16:51:03.464944",
     "status": "completed"
    },
    "tags": []
   },
   "outputs": [],
   "source": [
    "d = {10,20,10,20}"
   ]
  },
  {
   "cell_type": "code",
   "execution_count": 56,
   "id": "e60188ed",
   "metadata": {
    "execution": {
     "iopub.execute_input": "2023-11-06T16:51:03.741754Z",
     "iopub.status.busy": "2023-11-06T16:51:03.741295Z",
     "iopub.status.idle": "2023-11-06T16:51:03.748439Z",
     "shell.execute_reply": "2023-11-06T16:51:03.747268Z"
    },
    "papermill": {
     "duration": 0.099821,
     "end_time": "2023-11-06T16:51:03.751007",
     "exception": false,
     "start_time": "2023-11-06T16:51:03.651186",
     "status": "completed"
    },
    "tags": []
   },
   "outputs": [
    {
     "data": {
      "text/plain": [
       "{10, 20}"
      ]
     },
     "execution_count": 56,
     "metadata": {},
     "output_type": "execute_result"
    }
   ],
   "source": [
    "d"
   ]
  },
  {
   "cell_type": "code",
   "execution_count": 57,
   "id": "2a125858",
   "metadata": {
    "execution": {
     "iopub.execute_input": "2023-11-06T16:51:03.936009Z",
     "iopub.status.busy": "2023-11-06T16:51:03.935379Z",
     "iopub.status.idle": "2023-11-06T16:51:03.940275Z",
     "shell.execute_reply": "2023-11-06T16:51:03.939054Z"
    },
    "papermill": {
     "duration": 0.101987,
     "end_time": "2023-11-06T16:51:03.942404",
     "exception": false,
     "start_time": "2023-11-06T16:51:03.840417",
     "status": "completed"
    },
    "tags": []
   },
   "outputs": [],
   "source": [
    "# # property 1 \n",
    "\n",
    "# unique elements only "
   ]
  },
  {
   "cell_type": "code",
   "execution_count": 58,
   "id": "ddefafb0",
   "metadata": {
    "execution": {
     "iopub.execute_input": "2023-11-06T16:51:04.123100Z",
     "iopub.status.busy": "2023-11-06T16:51:04.122014Z",
     "iopub.status.idle": "2023-11-06T16:51:04.129709Z",
     "shell.execute_reply": "2023-11-06T16:51:04.128488Z"
    },
    "papermill": {
     "duration": 0.100782,
     "end_time": "2023-11-06T16:51:04.132288",
     "exception": false,
     "start_time": "2023-11-06T16:51:04.031506",
     "status": "completed"
    },
    "tags": []
   },
   "outputs": [
    {
     "data": {
      "text/plain": [
       "{10, 20}"
      ]
     },
     "execution_count": 58,
     "metadata": {},
     "output_type": "execute_result"
    }
   ],
   "source": [
    "# property \n",
    "# there is no index in set \n",
    "\n",
    "d"
   ]
  },
  {
   "cell_type": "code",
   "execution_count": 59,
   "id": "902eaafc",
   "metadata": {
    "execution": {
     "iopub.execute_input": "2023-11-06T16:51:04.313339Z",
     "iopub.status.busy": "2023-11-06T16:51:04.312881Z",
     "iopub.status.idle": "2023-11-06T16:51:04.317915Z",
     "shell.execute_reply": "2023-11-06T16:51:04.316629Z"
    },
    "papermill": {
     "duration": 0.098646,
     "end_time": "2023-11-06T16:51:04.320329",
     "exception": false,
     "start_time": "2023-11-06T16:51:04.221683",
     "status": "completed"
    },
    "tags": []
   },
   "outputs": [],
   "source": [
    "# d[0]"
   ]
  },
  {
   "cell_type": "markdown",
   "id": "359a1bcd",
   "metadata": {
    "papermill": {
     "duration": 0.088468,
     "end_time": "2023-11-06T16:51:04.498096",
     "exception": false,
     "start_time": "2023-11-06T16:51:04.409628",
     "status": "completed"
    },
    "tags": []
   },
   "source": [
    "# dictionary  ( ) "
   ]
  },
  {
   "cell_type": "code",
   "execution_count": 60,
   "id": "f6a02372",
   "metadata": {
    "execution": {
     "iopub.execute_input": "2023-11-06T16:51:04.678252Z",
     "iopub.status.busy": "2023-11-06T16:51:04.677821Z",
     "iopub.status.idle": "2023-11-06T16:51:04.683016Z",
     "shell.execute_reply": "2023-11-06T16:51:04.681842Z"
    },
    "papermill": {
     "duration": 0.098343,
     "end_time": "2023-11-06T16:51:04.685467",
     "exception": false,
     "start_time": "2023-11-06T16:51:04.587124",
     "status": "completed"
    },
    "tags": []
   },
   "outputs": [],
   "source": [
    "t = { \"beautiful\"   : \"swapna is a beautiful women\",\n",
    "    \"smart\" : \"tayyab is a smart person\",\n",
    "    \"clever\" : \"parth is clever\"}"
   ]
  },
  {
   "cell_type": "code",
   "execution_count": 61,
   "id": "e224b0d8",
   "metadata": {
    "execution": {
     "iopub.execute_input": "2023-11-06T16:51:04.866465Z",
     "iopub.status.busy": "2023-11-06T16:51:04.865998Z",
     "iopub.status.idle": "2023-11-06T16:51:04.870707Z",
     "shell.execute_reply": "2023-11-06T16:51:04.869835Z"
    },
    "papermill": {
     "duration": 0.098326,
     "end_time": "2023-11-06T16:51:04.872860",
     "exception": false,
     "start_time": "2023-11-06T16:51:04.774534",
     "status": "completed"
    },
    "tags": []
   },
   "outputs": [],
   "source": [
    "# property index - key index"
   ]
  },
  {
   "cell_type": "code",
   "execution_count": 62,
   "id": "c0f8340d",
   "metadata": {
    "execution": {
     "iopub.execute_input": "2023-11-06T16:51:05.056324Z",
     "iopub.status.busy": "2023-11-06T16:51:05.055852Z",
     "iopub.status.idle": "2023-11-06T16:51:05.063606Z",
     "shell.execute_reply": "2023-11-06T16:51:05.062447Z"
    },
    "papermill": {
     "duration": 0.101454,
     "end_time": "2023-11-06T16:51:05.066019",
     "exception": false,
     "start_time": "2023-11-06T16:51:04.964565",
     "status": "completed"
    },
    "tags": []
   },
   "outputs": [
    {
     "data": {
      "text/plain": [
       "dict_keys(['beautiful', 'smart', 'clever'])"
      ]
     },
     "execution_count": 62,
     "metadata": {},
     "output_type": "execute_result"
    }
   ],
   "source": [
    "t.keys()"
   ]
  },
  {
   "cell_type": "code",
   "execution_count": 63,
   "id": "e86a64d0",
   "metadata": {
    "execution": {
     "iopub.execute_input": "2023-11-06T16:51:05.247739Z",
     "iopub.status.busy": "2023-11-06T16:51:05.247278Z",
     "iopub.status.idle": "2023-11-06T16:51:05.254877Z",
     "shell.execute_reply": "2023-11-06T16:51:05.253731Z"
    },
    "papermill": {
     "duration": 0.101192,
     "end_time": "2023-11-06T16:51:05.257247",
     "exception": false,
     "start_time": "2023-11-06T16:51:05.156055",
     "status": "completed"
    },
    "tags": []
   },
   "outputs": [
    {
     "data": {
      "text/plain": [
       "'swapna is a beautiful women'"
      ]
     },
     "execution_count": 63,
     "metadata": {},
     "output_type": "execute_result"
    }
   ],
   "source": [
    "t[\"beautiful\"]"
   ]
  },
  {
   "cell_type": "code",
   "execution_count": 64,
   "id": "dd5c5a39",
   "metadata": {
    "execution": {
     "iopub.execute_input": "2023-11-06T16:51:05.438410Z",
     "iopub.status.busy": "2023-11-06T16:51:05.438009Z",
     "iopub.status.idle": "2023-11-06T16:51:05.446030Z",
     "shell.execute_reply": "2023-11-06T16:51:05.444631Z"
    },
    "papermill": {
     "duration": 0.100974,
     "end_time": "2023-11-06T16:51:05.448349",
     "exception": false,
     "start_time": "2023-11-06T16:51:05.347375",
     "status": "completed"
    },
    "tags": []
   },
   "outputs": [
    {
     "data": {
      "text/plain": [
       "'parth is clever'"
      ]
     },
     "execution_count": 64,
     "metadata": {},
     "output_type": "execute_result"
    }
   ],
   "source": [
    "t[\"clever\"]"
   ]
  },
  {
   "cell_type": "code",
   "execution_count": 65,
   "id": "4759977a",
   "metadata": {
    "execution": {
     "iopub.execute_input": "2023-11-06T16:51:05.628332Z",
     "iopub.status.busy": "2023-11-06T16:51:05.627974Z",
     "iopub.status.idle": "2023-11-06T16:51:05.635443Z",
     "shell.execute_reply": "2023-11-06T16:51:05.634244Z"
    },
    "papermill": {
     "duration": 0.100459,
     "end_time": "2023-11-06T16:51:05.637868",
     "exception": false,
     "start_time": "2023-11-06T16:51:05.537409",
     "status": "completed"
    },
    "tags": []
   },
   "outputs": [
    {
     "data": {
      "text/plain": [
       "dict_keys(['beautiful', 'smart', 'clever'])"
      ]
     },
     "execution_count": 65,
     "metadata": {},
     "output_type": "execute_result"
    }
   ],
   "source": [
    "t.keys()"
   ]
  },
  {
   "cell_type": "code",
   "execution_count": 66,
   "id": "3b6a3a2e",
   "metadata": {
    "execution": {
     "iopub.execute_input": "2023-11-06T16:51:05.818899Z",
     "iopub.status.busy": "2023-11-06T16:51:05.818482Z",
     "iopub.status.idle": "2023-11-06T16:51:05.826091Z",
     "shell.execute_reply": "2023-11-06T16:51:05.824820Z"
    },
    "papermill": {
     "duration": 0.101079,
     "end_time": "2023-11-06T16:51:05.828434",
     "exception": false,
     "start_time": "2023-11-06T16:51:05.727355",
     "status": "completed"
    },
    "tags": []
   },
   "outputs": [
    {
     "data": {
      "text/plain": [
       "dict_values(['swapna is a beautiful women', 'tayyab is a smart person', 'parth is clever'])"
      ]
     },
     "execution_count": 66,
     "metadata": {},
     "output_type": "execute_result"
    }
   ],
   "source": [
    "t.values()"
   ]
  },
  {
   "cell_type": "code",
   "execution_count": 67,
   "id": "ca41bb83",
   "metadata": {
    "execution": {
     "iopub.execute_input": "2023-11-06T16:51:06.014910Z",
     "iopub.status.busy": "2023-11-06T16:51:06.013687Z",
     "iopub.status.idle": "2023-11-06T16:51:06.021954Z",
     "shell.execute_reply": "2023-11-06T16:51:06.020674Z"
    },
    "papermill": {
     "duration": 0.104402,
     "end_time": "2023-11-06T16:51:06.024429",
     "exception": false,
     "start_time": "2023-11-06T16:51:05.920027",
     "status": "completed"
    },
    "tags": []
   },
   "outputs": [
    {
     "data": {
      "text/plain": [
       "dict_items([('beautiful', 'swapna is a beautiful women'), ('smart', 'tayyab is a smart person'), ('clever', 'parth is clever')])"
      ]
     },
     "execution_count": 67,
     "metadata": {},
     "output_type": "execute_result"
    }
   ],
   "source": [
    "t.items()"
   ]
  },
  {
   "cell_type": "code",
   "execution_count": 68,
   "id": "4fd6f7c2",
   "metadata": {
    "execution": {
     "iopub.execute_input": "2023-11-06T16:51:06.206732Z",
     "iopub.status.busy": "2023-11-06T16:51:06.206274Z",
     "iopub.status.idle": "2023-11-06T16:51:06.215202Z",
     "shell.execute_reply": "2023-11-06T16:51:06.214196Z"
    },
    "papermill": {
     "duration": 0.103003,
     "end_time": "2023-11-06T16:51:06.217426",
     "exception": false,
     "start_time": "2023-11-06T16:51:06.114423",
     "status": "completed"
    },
    "tags": []
   },
   "outputs": [
    {
     "data": {
      "text/plain": [
       "'4'"
      ]
     },
     "execution_count": 68,
     "metadata": {},
     "output_type": "execute_result"
    }
   ],
   "source": [
    "ch = { \"c1\" :\n",
    "                   {\"c1.1\" :  \"chapter1.1\",\n",
    "                    \n",
    "                    \"c1.2\" :  \n",
    "                             {\"c1.2.1\" : \"chapter mlv\",\n",
    "                              \"c1.2.2\" : [10,20,30,40]},\n",
    "                    \n",
    "                    \"c1.3\" :  \"chapter1.3\"},\n",
    "     \"c2\" : \"chapter2\",\n",
    "     \"c3\" : \"chapter3\"}\n",
    "\n",
    "list(str(ch[\"c1\"][\"c1.2\"][\"c1.2.2\"][3]))[0]"
   ]
  },
  {
   "cell_type": "code",
   "execution_count": 69,
   "id": "83187721",
   "metadata": {
    "execution": {
     "iopub.execute_input": "2023-11-06T16:51:06.399852Z",
     "iopub.status.busy": "2023-11-06T16:51:06.399373Z",
     "iopub.status.idle": "2023-11-06T16:51:06.407502Z",
     "shell.execute_reply": "2023-11-06T16:51:06.406296Z"
    },
    "papermill": {
     "duration": 0.102112,
     "end_time": "2023-11-06T16:51:06.409784",
     "exception": false,
     "start_time": "2023-11-06T16:51:06.307672",
     "status": "completed"
    },
    "tags": []
   },
   "outputs": [
    {
     "data": {
      "text/plain": [
       "10"
      ]
     },
     "execution_count": 69,
     "metadata": {},
     "output_type": "execute_result"
    }
   ],
   "source": [
    "ch[\"c1\"][\"c1.2\"][\"c1.2.2\"][0]"
   ]
  },
  {
   "cell_type": "code",
   "execution_count": 70,
   "id": "46884384",
   "metadata": {
    "execution": {
     "iopub.execute_input": "2023-11-06T16:51:06.592840Z",
     "iopub.status.busy": "2023-11-06T16:51:06.592364Z",
     "iopub.status.idle": "2023-11-06T16:51:06.597975Z",
     "shell.execute_reply": "2023-11-06T16:51:06.596754Z"
    },
    "papermill": {
     "duration": 0.099847,
     "end_time": "2023-11-06T16:51:06.600371",
     "exception": false,
     "start_time": "2023-11-06T16:51:06.500524",
     "status": "completed"
    },
    "tags": []
   },
   "outputs": [],
   "source": [
    "ch[\"c3\"] = \"sush\""
   ]
  },
  {
   "cell_type": "code",
   "execution_count": 71,
   "id": "77c89cd6",
   "metadata": {
    "execution": {
     "iopub.execute_input": "2023-11-06T16:51:06.792001Z",
     "iopub.status.busy": "2023-11-06T16:51:06.791515Z",
     "iopub.status.idle": "2023-11-06T16:51:06.799595Z",
     "shell.execute_reply": "2023-11-06T16:51:06.798251Z"
    },
    "papermill": {
     "duration": 0.106654,
     "end_time": "2023-11-06T16:51:06.802220",
     "exception": false,
     "start_time": "2023-11-06T16:51:06.695566",
     "status": "completed"
    },
    "tags": []
   },
   "outputs": [
    {
     "data": {
      "text/plain": [
       "3"
      ]
     },
     "execution_count": 71,
     "metadata": {},
     "output_type": "execute_result"
    }
   ],
   "source": [
    "len(ch.items())"
   ]
  },
  {
   "cell_type": "code",
   "execution_count": 72,
   "id": "85c102ff",
   "metadata": {
    "execution": {
     "iopub.execute_input": "2023-11-06T16:51:06.998853Z",
     "iopub.status.busy": "2023-11-06T16:51:06.998356Z",
     "iopub.status.idle": "2023-11-06T16:51:07.007469Z",
     "shell.execute_reply": "2023-11-06T16:51:07.006290Z"
    },
    "papermill": {
     "duration": 0.111128,
     "end_time": "2023-11-06T16:51:07.010142",
     "exception": false,
     "start_time": "2023-11-06T16:51:06.899014",
     "status": "completed"
    },
    "tags": []
   },
   "outputs": [
    {
     "data": {
      "text/plain": [
       "{'c1': {'c1.1': 'chapter1.1',\n",
       "  'c1.2': {'c1.2.1': 'chapter mlv', 'c1.2.2': [10, 20, 30, 40]},\n",
       "  'c1.3': 'chapter1.3'},\n",
       " 'c2': 'chapter2',\n",
       " 'c3': 'sush'}"
      ]
     },
     "execution_count": 72,
     "metadata": {},
     "output_type": "execute_result"
    }
   ],
   "source": [
    "ch"
   ]
  },
  {
   "cell_type": "markdown",
   "id": "6f779edc",
   "metadata": {
    "papermill": {
     "duration": 0.090464,
     "end_time": "2023-11-06T16:51:07.214393",
     "exception": false,
     "start_time": "2023-11-06T16:51:07.123929",
     "status": "completed"
    },
    "tags": []
   },
   "source": [
    "# type\n",
    "int()\n",
    "float()\n",
    "str()"
   ]
  },
  {
   "cell_type": "markdown",
   "id": "263e67dd",
   "metadata": {
    "papermill": {
     "duration": 0.090168,
     "end_time": "2023-11-06T16:51:07.394721",
     "exception": false,
     "start_time": "2023-11-06T16:51:07.304553",
     "status": "completed"
    },
    "tags": []
   },
   "source": [
    "# data structure casting\n",
    "## list()  tuple() set()  dict()"
   ]
  },
  {
   "cell_type": "code",
   "execution_count": 73,
   "id": "c45368fb",
   "metadata": {
    "execution": {
     "iopub.execute_input": "2023-11-06T16:51:07.577560Z",
     "iopub.status.busy": "2023-11-06T16:51:07.577176Z",
     "iopub.status.idle": "2023-11-06T16:51:07.584578Z",
     "shell.execute_reply": "2023-11-06T16:51:07.583383Z"
    },
    "papermill": {
     "duration": 0.101913,
     "end_time": "2023-11-06T16:51:07.586962",
     "exception": false,
     "start_time": "2023-11-06T16:51:07.485049",
     "status": "completed"
    },
    "tags": []
   },
   "outputs": [
    {
     "data": {
      "text/plain": [
       "list"
      ]
     },
     "execution_count": 73,
     "metadata": {},
     "output_type": "execute_result"
    }
   ],
   "source": [
    "a = [10,20,30]\n",
    "type(a)"
   ]
  },
  {
   "cell_type": "code",
   "execution_count": 74,
   "id": "7f99bcae",
   "metadata": {
    "execution": {
     "iopub.execute_input": "2023-11-06T16:51:07.770212Z",
     "iopub.status.busy": "2023-11-06T16:51:07.769304Z",
     "iopub.status.idle": "2023-11-06T16:51:07.777347Z",
     "shell.execute_reply": "2023-11-06T16:51:07.775959Z"
    },
    "papermill": {
     "duration": 0.102709,
     "end_time": "2023-11-06T16:51:07.779744",
     "exception": false,
     "start_time": "2023-11-06T16:51:07.677035",
     "status": "completed"
    },
    "tags": []
   },
   "outputs": [
    {
     "data": {
      "text/plain": [
       "(10, 20, 30)"
      ]
     },
     "execution_count": 74,
     "metadata": {},
     "output_type": "execute_result"
    }
   ],
   "source": [
    "b = tuple(a)\n",
    "b"
   ]
  },
  {
   "cell_type": "code",
   "execution_count": 75,
   "id": "03f5c394",
   "metadata": {
    "execution": {
     "iopub.execute_input": "2023-11-06T16:51:07.966920Z",
     "iopub.status.busy": "2023-11-06T16:51:07.966488Z",
     "iopub.status.idle": "2023-11-06T16:51:07.974620Z",
     "shell.execute_reply": "2023-11-06T16:51:07.973457Z"
    },
    "papermill": {
     "duration": 0.105116,
     "end_time": "2023-11-06T16:51:07.977056",
     "exception": false,
     "start_time": "2023-11-06T16:51:07.871940",
     "status": "completed"
    },
    "tags": []
   },
   "outputs": [
    {
     "data": {
      "text/plain": [
       "tuple"
      ]
     },
     "execution_count": 75,
     "metadata": {},
     "output_type": "execute_result"
    }
   ],
   "source": [
    "type(b)"
   ]
  },
  {
   "cell_type": "code",
   "execution_count": 76,
   "id": "60bbc7f8",
   "metadata": {
    "execution": {
     "iopub.execute_input": "2023-11-06T16:51:08.221590Z",
     "iopub.status.busy": "2023-11-06T16:51:08.221207Z",
     "iopub.status.idle": "2023-11-06T16:51:08.226219Z",
     "shell.execute_reply": "2023-11-06T16:51:08.225134Z"
    },
    "papermill": {
     "duration": 0.10004,
     "end_time": "2023-11-06T16:51:08.228640",
     "exception": false,
     "start_time": "2023-11-06T16:51:08.128600",
     "status": "completed"
    },
    "tags": []
   },
   "outputs": [],
   "source": [
    "gg = (\"sush@gmail.com\",2564856855)\n",
    "# gg[0] = \"sush@outlook.com\""
   ]
  },
  {
   "cell_type": "code",
   "execution_count": 77,
   "id": "61962cd5",
   "metadata": {
    "execution": {
     "iopub.execute_input": "2023-11-06T16:51:08.424275Z",
     "iopub.status.busy": "2023-11-06T16:51:08.423819Z",
     "iopub.status.idle": "2023-11-06T16:51:08.431623Z",
     "shell.execute_reply": "2023-11-06T16:51:08.430348Z"
    },
    "papermill": {
     "duration": 0.108061,
     "end_time": "2023-11-06T16:51:08.434420",
     "exception": false,
     "start_time": "2023-11-06T16:51:08.326359",
     "status": "completed"
    },
    "tags": []
   },
   "outputs": [
    {
     "data": {
      "text/plain": [
       "['sush@gmail.com', 2564856855]"
      ]
     },
     "execution_count": 77,
     "metadata": {},
     "output_type": "execute_result"
    }
   ],
   "source": [
    "gg = list(gg)\n",
    "gg"
   ]
  },
  {
   "cell_type": "code",
   "execution_count": 78,
   "id": "e6bb9797",
   "metadata": {
    "execution": {
     "iopub.execute_input": "2023-11-06T16:51:08.627723Z",
     "iopub.status.busy": "2023-11-06T16:51:08.627348Z",
     "iopub.status.idle": "2023-11-06T16:51:08.635651Z",
     "shell.execute_reply": "2023-11-06T16:51:08.634390Z"
    },
    "papermill": {
     "duration": 0.107837,
     "end_time": "2023-11-06T16:51:08.638208",
     "exception": false,
     "start_time": "2023-11-06T16:51:08.530371",
     "status": "completed"
    },
    "tags": []
   },
   "outputs": [
    {
     "data": {
      "text/plain": [
       "list"
      ]
     },
     "execution_count": 78,
     "metadata": {},
     "output_type": "execute_result"
    }
   ],
   "source": [
    "type(gg)"
   ]
  },
  {
   "cell_type": "code",
   "execution_count": 79,
   "id": "404cae40",
   "metadata": {
    "execution": {
     "iopub.execute_input": "2023-11-06T16:51:08.828850Z",
     "iopub.status.busy": "2023-11-06T16:51:08.828437Z",
     "iopub.status.idle": "2023-11-06T16:51:08.834737Z",
     "shell.execute_reply": "2023-11-06T16:51:08.833635Z"
    },
    "papermill": {
     "duration": 0.104154,
     "end_time": "2023-11-06T16:51:08.837435",
     "exception": false,
     "start_time": "2023-11-06T16:51:08.733281",
     "status": "completed"
    },
    "tags": []
   },
   "outputs": [
    {
     "data": {
      "text/plain": [
       "['sush@outlook.com', 2564856855]"
      ]
     },
     "execution_count": 79,
     "metadata": {},
     "output_type": "execute_result"
    }
   ],
   "source": [
    "gg[0] = \"sush@outlook.com\"\n",
    "gg"
   ]
  },
  {
   "cell_type": "code",
   "execution_count": 80,
   "id": "c0ec33ef",
   "metadata": {
    "execution": {
     "iopub.execute_input": "2023-11-06T16:51:09.030275Z",
     "iopub.status.busy": "2023-11-06T16:51:09.029847Z",
     "iopub.status.idle": "2023-11-06T16:51:09.037388Z",
     "shell.execute_reply": "2023-11-06T16:51:09.036223Z"
    },
    "papermill": {
     "duration": 0.107127,
     "end_time": "2023-11-06T16:51:09.039694",
     "exception": false,
     "start_time": "2023-11-06T16:51:08.932567",
     "status": "completed"
    },
    "tags": []
   },
   "outputs": [
    {
     "data": {
      "text/plain": [
       "('sush@outlook.com', 2564856855)"
      ]
     },
     "execution_count": 80,
     "metadata": {},
     "output_type": "execute_result"
    }
   ],
   "source": [
    "gg = tuple(gg)\n",
    "gg"
   ]
  },
  {
   "cell_type": "code",
   "execution_count": 81,
   "id": "5676be85",
   "metadata": {
    "execution": {
     "iopub.execute_input": "2023-11-06T16:51:09.226576Z",
     "iopub.status.busy": "2023-11-06T16:51:09.226182Z",
     "iopub.status.idle": "2023-11-06T16:51:09.233590Z",
     "shell.execute_reply": "2023-11-06T16:51:09.232455Z"
    },
    "papermill": {
     "duration": 0.103293,
     "end_time": "2023-11-06T16:51:09.235906",
     "exception": false,
     "start_time": "2023-11-06T16:51:09.132613",
     "status": "completed"
    },
    "tags": []
   },
   "outputs": [
    {
     "data": {
      "text/plain": [
       "('sush@outlook.com', 2564856855)"
      ]
     },
     "execution_count": 81,
     "metadata": {},
     "output_type": "execute_result"
    }
   ],
   "source": [
    "gg = (\"sush@gmail.com\",2564856855)\n",
    "gg = list(gg)\n",
    "gg[0] = \"sush@outlook.com\"\n",
    "gg = tuple(gg)\n",
    "gg"
   ]
  },
  {
   "cell_type": "code",
   "execution_count": 82,
   "id": "fad7252b",
   "metadata": {
    "execution": {
     "iopub.execute_input": "2023-11-06T16:51:09.425665Z",
     "iopub.status.busy": "2023-11-06T16:51:09.425254Z",
     "iopub.status.idle": "2023-11-06T16:51:09.433145Z",
     "shell.execute_reply": "2023-11-06T16:51:09.432027Z"
    },
    "papermill": {
     "duration": 0.105548,
     "end_time": "2023-11-06T16:51:09.435541",
     "exception": false,
     "start_time": "2023-11-06T16:51:09.329993",
     "status": "completed"
    },
    "tags": []
   },
   "outputs": [
    {
     "data": {
      "text/plain": [
       "[10, 20, 30]"
      ]
     },
     "execution_count": 82,
     "metadata": {},
     "output_type": "execute_result"
    }
   ],
   "source": [
    "a = [10,20,30,10]\n",
    "a = list(set(a))\n",
    "a"
   ]
  },
  {
   "cell_type": "code",
   "execution_count": 83,
   "id": "c46f4016",
   "metadata": {
    "execution": {
     "iopub.execute_input": "2023-11-06T16:51:09.629586Z",
     "iopub.status.busy": "2023-11-06T16:51:09.629139Z",
     "iopub.status.idle": "2023-11-06T16:51:09.635987Z",
     "shell.execute_reply": "2023-11-06T16:51:09.635189Z"
    },
    "papermill": {
     "duration": 0.107297,
     "end_time": "2023-11-06T16:51:09.638230",
     "exception": false,
     "start_time": "2023-11-06T16:51:09.530933",
     "status": "completed"
    },
    "tags": []
   },
   "outputs": [
    {
     "data": {
      "text/plain": [
       "[10, 20, 30]"
      ]
     },
     "execution_count": 83,
     "metadata": {},
     "output_type": "execute_result"
    }
   ],
   "source": [
    "a = list(set(a))\n",
    "a"
   ]
  },
  {
   "cell_type": "code",
   "execution_count": 84,
   "id": "a57e3cfb",
   "metadata": {
    "execution": {
     "iopub.execute_input": "2023-11-06T16:51:09.832562Z",
     "iopub.status.busy": "2023-11-06T16:51:09.832157Z",
     "iopub.status.idle": "2023-11-06T16:51:09.839878Z",
     "shell.execute_reply": "2023-11-06T16:51:09.838602Z"
    },
    "papermill": {
     "duration": 0.10737,
     "end_time": "2023-11-06T16:51:09.842318",
     "exception": false,
     "start_time": "2023-11-06T16:51:09.734948",
     "status": "completed"
    },
    "tags": []
   },
   "outputs": [
    {
     "data": {
      "text/plain": [
       "{10, 20, 30}"
      ]
     },
     "execution_count": 84,
     "metadata": {},
     "output_type": "execute_result"
    }
   ],
   "source": [
    "c = { 10,20,30,30}\n",
    "c \n",
    "\n"
   ]
  },
  {
   "cell_type": "code",
   "execution_count": 85,
   "id": "cbf6650c",
   "metadata": {
    "execution": {
     "iopub.execute_input": "2023-11-06T16:51:10.040461Z",
     "iopub.status.busy": "2023-11-06T16:51:10.040057Z",
     "iopub.status.idle": "2023-11-06T16:51:10.046160Z",
     "shell.execute_reply": "2023-11-06T16:51:10.044811Z"
    },
    "papermill": {
     "duration": 0.110631,
     "end_time": "2023-11-06T16:51:10.049324",
     "exception": false,
     "start_time": "2023-11-06T16:51:09.938693",
     "status": "completed"
    },
    "tags": []
   },
   "outputs": [
    {
     "name": "stdout",
     "output_type": "stream",
     "text": [
      "3\n"
     ]
    }
   ],
   "source": [
    "thislist = [\"apple\", \"banana\", \"cherry\"]\n",
    "print(len(thislist))"
   ]
  },
  {
   "cell_type": "code",
   "execution_count": 86,
   "id": "626b8c2e",
   "metadata": {
    "execution": {
     "iopub.execute_input": "2023-11-06T16:51:10.241336Z",
     "iopub.status.busy": "2023-11-06T16:51:10.240942Z",
     "iopub.status.idle": "2023-11-06T16:51:10.246892Z",
     "shell.execute_reply": "2023-11-06T16:51:10.245533Z"
    },
    "papermill": {
     "duration": 0.105513,
     "end_time": "2023-11-06T16:51:10.250023",
     "exception": false,
     "start_time": "2023-11-06T16:51:10.144510",
     "status": "completed"
    },
    "tags": []
   },
   "outputs": [
    {
     "name": "stdout",
     "output_type": "stream",
     "text": [
      "['apple', 'banana', 'cherry']\n"
     ]
    }
   ],
   "source": [
    "thislist = list((\"apple\", \"banana\", \"cherry\")) # note the double round-brackets\n",
    "print(thislist)"
   ]
  },
  {
   "cell_type": "code",
   "execution_count": 87,
   "id": "356a868f",
   "metadata": {
    "execution": {
     "iopub.execute_input": "2023-11-06T16:51:10.444505Z",
     "iopub.status.busy": "2023-11-06T16:51:10.444073Z",
     "iopub.status.idle": "2023-11-06T16:51:10.451243Z",
     "shell.execute_reply": "2023-11-06T16:51:10.449608Z"
    },
    "papermill": {
     "duration": 0.108402,
     "end_time": "2023-11-06T16:51:10.454448",
     "exception": false,
     "start_time": "2023-11-06T16:51:10.346046",
     "status": "completed"
    },
    "tags": []
   },
   "outputs": [
    {
     "name": "stdout",
     "output_type": "stream",
     "text": [
      "['apple', 'banana', 'cherry', 'orange', 'kiwi', 'melon', 'mango']\n"
     ]
    }
   ],
   "source": [
    "thislist = [\"apple\", \"banana\", \"cherry\", \"orange\", \"kiwi\", \"melon\", \"mango\"]\n",
    "print(thislist[:])"
   ]
  },
  {
   "cell_type": "code",
   "execution_count": 88,
   "id": "5f7fabc3",
   "metadata": {
    "execution": {
     "iopub.execute_input": "2023-11-06T16:51:10.643207Z",
     "iopub.status.busy": "2023-11-06T16:51:10.642829Z",
     "iopub.status.idle": "2023-11-06T16:51:10.649706Z",
     "shell.execute_reply": "2023-11-06T16:51:10.648451Z"
    },
    "papermill": {
     "duration": 0.103454,
     "end_time": "2023-11-06T16:51:10.652741",
     "exception": false,
     "start_time": "2023-11-06T16:51:10.549287",
     "status": "completed"
    },
    "tags": []
   },
   "outputs": [
    {
     "name": "stdout",
     "output_type": "stream",
     "text": [
      "['orange', 'kiwi', 'melon']\n"
     ]
    }
   ],
   "source": [
    "thislist = [\"apple\", \"banana\", \"cherry\", \"orange\", \"kiwi\", \"melon\", \"mango\"]\n",
    "print(thislist[-4:-1])"
   ]
  },
  {
   "cell_type": "code",
   "execution_count": 89,
   "id": "99fe0696",
   "metadata": {
    "execution": {
     "iopub.execute_input": "2023-11-06T16:51:10.850134Z",
     "iopub.status.busy": "2023-11-06T16:51:10.849731Z",
     "iopub.status.idle": "2023-11-06T16:51:10.857041Z",
     "shell.execute_reply": "2023-11-06T16:51:10.855922Z"
    },
    "papermill": {
     "duration": 0.109328,
     "end_time": "2023-11-06T16:51:10.859894",
     "exception": false,
     "start_time": "2023-11-06T16:51:10.750566",
     "status": "completed"
    },
    "tags": []
   },
   "outputs": [
    {
     "name": "stdout",
     "output_type": "stream",
     "text": [
      "['apple', 'blackcurrant', 'cherry']\n"
     ]
    }
   ],
   "source": [
    "thislist = [\"apple\", \"banana\", \"cherry\"]\n",
    "thislist[1] = \"blackcurrant\"\n",
    "print(thislist)"
   ]
  },
  {
   "cell_type": "code",
   "execution_count": 90,
   "id": "2146bee2",
   "metadata": {
    "execution": {
     "iopub.execute_input": "2023-11-06T16:51:11.051597Z",
     "iopub.status.busy": "2023-11-06T16:51:11.051174Z",
     "iopub.status.idle": "2023-11-06T16:51:11.059156Z",
     "shell.execute_reply": "2023-11-06T16:51:11.058092Z"
    },
    "papermill": {
     "duration": 0.108264,
     "end_time": "2023-11-06T16:51:11.061328",
     "exception": false,
     "start_time": "2023-11-06T16:51:10.953064",
     "status": "completed"
    },
    "tags": []
   },
   "outputs": [
    {
     "data": {
      "text/plain": [
       "['apple', 'banana', 'cherry', 'orange']"
      ]
     },
     "execution_count": 90,
     "metadata": {},
     "output_type": "execute_result"
    }
   ],
   "source": [
    "fruits = ['apple', 'banana', 'cherry']\n",
    "fruits.append(\"orange\")\n",
    "fruits"
   ]
  },
  {
   "cell_type": "code",
   "execution_count": 91,
   "id": "496d0726",
   "metadata": {
    "execution": {
     "iopub.execute_input": "2023-11-06T16:51:11.250285Z",
     "iopub.status.busy": "2023-11-06T16:51:11.249027Z",
     "iopub.status.idle": "2023-11-06T16:51:11.254668Z",
     "shell.execute_reply": "2023-11-06T16:51:11.253841Z"
    },
    "papermill": {
     "duration": 0.102402,
     "end_time": "2023-11-06T16:51:11.256965",
     "exception": false,
     "start_time": "2023-11-06T16:51:11.154563",
     "status": "completed"
    },
    "tags": []
   },
   "outputs": [],
   "source": [
    "fruits = ['apple', 'banana', 'cherry', 'orange']\n",
    "\n",
    "fruits.clear()"
   ]
  },
  {
   "cell_type": "code",
   "execution_count": 92,
   "id": "3a6ef9ca",
   "metadata": {
    "execution": {
     "iopub.execute_input": "2023-11-06T16:51:11.445391Z",
     "iopub.status.busy": "2023-11-06T16:51:11.444083Z",
     "iopub.status.idle": "2023-11-06T16:51:11.451360Z",
     "shell.execute_reply": "2023-11-06T16:51:11.450501Z"
    },
    "papermill": {
     "duration": 0.103261,
     "end_time": "2023-11-06T16:51:11.453430",
     "exception": false,
     "start_time": "2023-11-06T16:51:11.350169",
     "status": "completed"
    },
    "tags": []
   },
   "outputs": [
    {
     "data": {
      "text/plain": [
       "[]"
      ]
     },
     "execution_count": 92,
     "metadata": {},
     "output_type": "execute_result"
    }
   ],
   "source": [
    "fruits "
   ]
  },
  {
   "cell_type": "code",
   "execution_count": 93,
   "id": "a89fb017",
   "metadata": {
    "execution": {
     "iopub.execute_input": "2023-11-06T16:51:11.642383Z",
     "iopub.status.busy": "2023-11-06T16:51:11.641754Z",
     "iopub.status.idle": "2023-11-06T16:51:11.648528Z",
     "shell.execute_reply": "2023-11-06T16:51:11.647590Z"
    },
    "papermill": {
     "duration": 0.103418,
     "end_time": "2023-11-06T16:51:11.650646",
     "exception": false,
     "start_time": "2023-11-06T16:51:11.547228",
     "status": "completed"
    },
    "tags": []
   },
   "outputs": [
    {
     "data": {
      "text/plain": [
       "2"
      ]
     },
     "execution_count": 93,
     "metadata": {},
     "output_type": "execute_result"
    }
   ],
   "source": [
    "tay = ['sush', 'sush', 'cherry']\n",
    "\n",
    "tay.count(\"sush\")"
   ]
  },
  {
   "cell_type": "code",
   "execution_count": 94,
   "id": "48f07c90",
   "metadata": {
    "execution": {
     "iopub.execute_input": "2023-11-06T16:51:11.840697Z",
     "iopub.status.busy": "2023-11-06T16:51:11.840111Z",
     "iopub.status.idle": "2023-11-06T16:51:11.847412Z",
     "shell.execute_reply": "2023-11-06T16:51:11.846439Z"
    },
    "papermill": {
     "duration": 0.105425,
     "end_time": "2023-11-06T16:51:11.849534",
     "exception": false,
     "start_time": "2023-11-06T16:51:11.744109",
     "status": "completed"
    },
    "tags": []
   },
   "outputs": [
    {
     "data": {
      "text/plain": [
       "1"
      ]
     },
     "execution_count": 94,
     "metadata": {},
     "output_type": "execute_result"
    }
   ],
   "source": [
    "fruits = ['apple', 'banana', 'cherry']\n",
    "\n",
    "points = (1, 4, 5, 9)\n",
    "\n",
    "fruits.extend(points)\n",
    "fruits[3]"
   ]
  },
  {
   "cell_type": "code",
   "execution_count": 95,
   "id": "5f2ed6bc",
   "metadata": {
    "execution": {
     "iopub.execute_input": "2023-11-06T16:51:12.049014Z",
     "iopub.status.busy": "2023-11-06T16:51:12.048313Z",
     "iopub.status.idle": "2023-11-06T16:51:12.055594Z",
     "shell.execute_reply": "2023-11-06T16:51:12.054406Z"
    },
    "papermill": {
     "duration": 0.115534,
     "end_time": "2023-11-06T16:51:12.058037",
     "exception": false,
     "start_time": "2023-11-06T16:51:11.942503",
     "status": "completed"
    },
    "tags": []
   },
   "outputs": [
    {
     "data": {
      "text/plain": [
       "['apple', 'banana', 'cherry', (1, 4, 5, 9)]"
      ]
     },
     "execution_count": 95,
     "metadata": {},
     "output_type": "execute_result"
    }
   ],
   "source": [
    "fruits = ['apple', 'banana', 'cherry']\n",
    "\n",
    "points = (1, 4, 5, 9)\n",
    "\n",
    "fruits.append(points)\n",
    "fruits"
   ]
  },
  {
   "cell_type": "code",
   "execution_count": 96,
   "id": "4e8d86b8",
   "metadata": {
    "execution": {
     "iopub.execute_input": "2023-11-06T16:51:12.262597Z",
     "iopub.status.busy": "2023-11-06T16:51:12.262025Z",
     "iopub.status.idle": "2023-11-06T16:51:12.269024Z",
     "shell.execute_reply": "2023-11-06T16:51:12.268132Z"
    },
    "papermill": {
     "duration": 0.112398,
     "end_time": "2023-11-06T16:51:12.271189",
     "exception": false,
     "start_time": "2023-11-06T16:51:12.158791",
     "status": "completed"
    },
    "tags": []
   },
   "outputs": [
    {
     "data": {
      "text/plain": [
       "(1, 4, 5, 9)"
      ]
     },
     "execution_count": 96,
     "metadata": {},
     "output_type": "execute_result"
    }
   ],
   "source": [
    "fruits[3]"
   ]
  },
  {
   "cell_type": "code",
   "execution_count": 97,
   "id": "ad903cb3",
   "metadata": {
    "execution": {
     "iopub.execute_input": "2023-11-06T16:51:12.473914Z",
     "iopub.status.busy": "2023-11-06T16:51:12.473333Z",
     "iopub.status.idle": "2023-11-06T16:51:12.478800Z",
     "shell.execute_reply": "2023-11-06T16:51:12.478056Z"
    },
    "papermill": {
     "duration": 0.111688,
     "end_time": "2023-11-06T16:51:12.480936",
     "exception": false,
     "start_time": "2023-11-06T16:51:12.369248",
     "status": "completed"
    },
    "tags": []
   },
   "outputs": [
    {
     "data": {
      "text/plain": [
       "0"
      ]
     },
     "execution_count": 97,
     "metadata": {},
     "output_type": "execute_result"
    }
   ],
   "source": [
    "fruits = ['c001asha', 'coo2swapna', 'c001asha']\n",
    "\n",
    "fruits.index(\"c001asha\")"
   ]
  },
  {
   "cell_type": "code",
   "execution_count": 98,
   "id": "0d9e741c",
   "metadata": {
    "execution": {
     "iopub.execute_input": "2023-11-06T16:51:12.672259Z",
     "iopub.status.busy": "2023-11-06T16:51:12.671793Z",
     "iopub.status.idle": "2023-11-06T16:51:12.679858Z",
     "shell.execute_reply": "2023-11-06T16:51:12.678533Z"
    },
    "papermill": {
     "duration": 0.106878,
     "end_time": "2023-11-06T16:51:12.682751",
     "exception": false,
     "start_time": "2023-11-06T16:51:12.575873",
     "status": "completed"
    },
    "tags": []
   },
   "outputs": [
    {
     "data": {
      "text/plain": [
       "['apple', 'banana', 'orange', 'cherry']"
      ]
     },
     "execution_count": 98,
     "metadata": {},
     "output_type": "execute_result"
    }
   ],
   "source": [
    "fruits = ['apple', 'banana', 'cherry']\n",
    "\n",
    "fruits.insert(2, \"orange\")\n",
    "fruits"
   ]
  },
  {
   "cell_type": "code",
   "execution_count": 99,
   "id": "3366374f",
   "metadata": {
    "execution": {
     "iopub.execute_input": "2023-11-06T16:51:12.875536Z",
     "iopub.status.busy": "2023-11-06T16:51:12.875062Z",
     "iopub.status.idle": "2023-11-06T16:51:12.883250Z",
     "shell.execute_reply": "2023-11-06T16:51:12.881819Z"
    },
    "papermill": {
     "duration": 0.106926,
     "end_time": "2023-11-06T16:51:12.885575",
     "exception": false,
     "start_time": "2023-11-06T16:51:12.778649",
     "status": "completed"
    },
    "tags": []
   },
   "outputs": [
    {
     "data": {
      "text/plain": [
       "'apple'"
      ]
     },
     "execution_count": 99,
     "metadata": {},
     "output_type": "execute_result"
    }
   ],
   "source": [
    "fruits = ['apple', 'banana', 'cherry']\n",
    "a = fruits.pop(0)\n",
    "a"
   ]
  },
  {
   "cell_type": "code",
   "execution_count": 100,
   "id": "b9c7b097",
   "metadata": {
    "execution": {
     "iopub.execute_input": "2023-11-06T16:51:13.080657Z",
     "iopub.status.busy": "2023-11-06T16:51:13.080199Z",
     "iopub.status.idle": "2023-11-06T16:51:13.087003Z",
     "shell.execute_reply": "2023-11-06T16:51:13.086137Z"
    },
    "papermill": {
     "duration": 0.106435,
     "end_time": "2023-11-06T16:51:13.089102",
     "exception": false,
     "start_time": "2023-11-06T16:51:12.982667",
     "status": "completed"
    },
    "tags": []
   },
   "outputs": [
    {
     "data": {
      "text/plain": [
       "0"
      ]
     },
     "execution_count": 100,
     "metadata": {},
     "output_type": "execute_result"
    }
   ],
   "source": [
    "fruits = ['apple', 'banana', 'cherry']\n",
    "a = fruits.index(\"apple\")\n",
    "a"
   ]
  },
  {
   "cell_type": "code",
   "execution_count": 101,
   "id": "97aadcc8",
   "metadata": {
    "execution": {
     "iopub.execute_input": "2023-11-06T16:51:13.280973Z",
     "iopub.status.busy": "2023-11-06T16:51:13.280507Z",
     "iopub.status.idle": "2023-11-06T16:51:13.287434Z",
     "shell.execute_reply": "2023-11-06T16:51:13.286621Z"
    },
    "papermill": {
     "duration": 0.105886,
     "end_time": "2023-11-06T16:51:13.290270",
     "exception": false,
     "start_time": "2023-11-06T16:51:13.184384",
     "status": "completed"
    },
    "tags": []
   },
   "outputs": [
    {
     "data": {
      "text/plain": [
       "['apple', 'banana', 'banana']"
      ]
     },
     "execution_count": 101,
     "metadata": {},
     "output_type": "execute_result"
    }
   ],
   "source": [
    "fruits = ['banana', \"apple\",'banana', 'banana']\n",
    "\n",
    "fruits.remove(\"banana\")\n",
    "fruits \n",
    "\n",
    "# ctr a\n",
    "#  ctr /"
   ]
  },
  {
   "cell_type": "code",
   "execution_count": 102,
   "id": "c865ae26",
   "metadata": {
    "execution": {
     "iopub.execute_input": "2023-11-06T16:51:13.489346Z",
     "iopub.status.busy": "2023-11-06T16:51:13.487865Z",
     "iopub.status.idle": "2023-11-06T16:51:13.496751Z",
     "shell.execute_reply": "2023-11-06T16:51:13.495435Z"
    },
    "papermill": {
     "duration": 0.110751,
     "end_time": "2023-11-06T16:51:13.499333",
     "exception": false,
     "start_time": "2023-11-06T16:51:13.388582",
     "status": "completed"
    },
    "tags": []
   },
   "outputs": [
    {
     "data": {
      "text/plain": [
       "['cherry', 'banana', 'apple']"
      ]
     },
     "execution_count": 102,
     "metadata": {},
     "output_type": "execute_result"
    }
   ],
   "source": [
    "fruits = ['apple', 'banana', 'cherry']\n",
    "\n",
    "fruits.reverse()\n",
    "fruits"
   ]
  },
  {
   "cell_type": "code",
   "execution_count": 103,
   "id": "4f4cddda",
   "metadata": {
    "execution": {
     "iopub.execute_input": "2023-11-06T16:51:13.692032Z",
     "iopub.status.busy": "2023-11-06T16:51:13.691630Z",
     "iopub.status.idle": "2023-11-06T16:51:13.699202Z",
     "shell.execute_reply": "2023-11-06T16:51:13.697781Z"
    },
    "papermill": {
     "duration": 0.106482,
     "end_time": "2023-11-06T16:51:13.702067",
     "exception": false,
     "start_time": "2023-11-06T16:51:13.595585",
     "status": "completed"
    },
    "tags": []
   },
   "outputs": [
    {
     "data": {
      "text/plain": [
       "[20, 11, 9, 30]"
      ]
     },
     "execution_count": 103,
     "metadata": {},
     "output_type": "execute_result"
    }
   ],
   "source": [
    "a= [20,11,9,30]\n",
    "a"
   ]
  },
  {
   "cell_type": "code",
   "execution_count": 104,
   "id": "8d28d26c",
   "metadata": {
    "execution": {
     "iopub.execute_input": "2023-11-06T16:51:13.902223Z",
     "iopub.status.busy": "2023-11-06T16:51:13.900587Z",
     "iopub.status.idle": "2023-11-06T16:51:13.908296Z",
     "shell.execute_reply": "2023-11-06T16:51:13.907464Z"
    },
    "papermill": {
     "duration": 0.109793,
     "end_time": "2023-11-06T16:51:13.910495",
     "exception": false,
     "start_time": "2023-11-06T16:51:13.800702",
     "status": "completed"
    },
    "tags": []
   },
   "outputs": [
    {
     "data": {
      "text/plain": [
       "[30, 20, 11, 9]"
      ]
     },
     "execution_count": 104,
     "metadata": {},
     "output_type": "execute_result"
    }
   ],
   "source": [
    "a.sort(reverse = True)\n",
    "a"
   ]
  },
  {
   "cell_type": "code",
   "execution_count": 105,
   "id": "90ac0c7d",
   "metadata": {
    "execution": {
     "iopub.execute_input": "2023-11-06T16:51:14.115017Z",
     "iopub.status.busy": "2023-11-06T16:51:14.114626Z",
     "iopub.status.idle": "2023-11-06T16:51:14.121789Z",
     "shell.execute_reply": "2023-11-06T16:51:14.120429Z"
    },
    "papermill": {
     "duration": 0.109377,
     "end_time": "2023-11-06T16:51:14.124314",
     "exception": false,
     "start_time": "2023-11-06T16:51:14.014937",
     "status": "completed"
    },
    "tags": []
   },
   "outputs": [
    {
     "data": {
      "text/plain": [
       "[10, 20, 30, [40, 50, 60]]"
      ]
     },
     "execution_count": 105,
     "metadata": {},
     "output_type": "execute_result"
    }
   ],
   "source": [
    "d = [10,20,30]\n",
    "d.append([40,50,60])\n",
    "d"
   ]
  },
  {
   "cell_type": "code",
   "execution_count": 106,
   "id": "aad100b6",
   "metadata": {
    "execution": {
     "iopub.execute_input": "2023-11-06T16:51:14.414263Z",
     "iopub.status.busy": "2023-11-06T16:51:14.413856Z",
     "iopub.status.idle": "2023-11-06T16:51:14.421278Z",
     "shell.execute_reply": "2023-11-06T16:51:14.420126Z"
    },
    "papermill": {
     "duration": 0.10887,
     "end_time": "2023-11-06T16:51:14.423799",
     "exception": false,
     "start_time": "2023-11-06T16:51:14.314929",
     "status": "completed"
    },
    "tags": []
   },
   "outputs": [
    {
     "data": {
      "text/plain": [
       "[10, 20, 30, 40, 50, 60]"
      ]
     },
     "execution_count": 106,
     "metadata": {},
     "output_type": "execute_result"
    }
   ],
   "source": [
    "e = [10,20,30]\n",
    "e.extend([40,50,60])\n",
    "e"
   ]
  },
  {
   "cell_type": "code",
   "execution_count": 107,
   "id": "75f8b9e8",
   "metadata": {
    "execution": {
     "iopub.execute_input": "2023-11-06T16:51:14.621325Z",
     "iopub.status.busy": "2023-11-06T16:51:14.620960Z",
     "iopub.status.idle": "2023-11-06T16:51:14.627827Z",
     "shell.execute_reply": "2023-11-06T16:51:14.626948Z"
    },
    "papermill": {
     "duration": 0.108692,
     "end_time": "2023-11-06T16:51:14.629897",
     "exception": false,
     "start_time": "2023-11-06T16:51:14.521205",
     "status": "completed"
    },
    "tags": []
   },
   "outputs": [
    {
     "data": {
      "text/plain": [
       "[2, 3, 4]"
      ]
     },
     "execution_count": 107,
     "metadata": {},
     "output_type": "execute_result"
    }
   ],
   "source": [
    "a = [2,3,4,4]\n",
    "a = list(set(a))\n",
    "a"
   ]
  },
  {
   "cell_type": "code",
   "execution_count": 108,
   "id": "377089e9",
   "metadata": {
    "execution": {
     "iopub.execute_input": "2023-11-06T16:51:14.821375Z",
     "iopub.status.busy": "2023-11-06T16:51:14.820943Z",
     "iopub.status.idle": "2023-11-06T16:51:14.828397Z",
     "shell.execute_reply": "2023-11-06T16:51:14.826781Z"
    },
    "papermill": {
     "duration": 0.106279,
     "end_time": "2023-11-06T16:51:14.830779",
     "exception": false,
     "start_time": "2023-11-06T16:51:14.724500",
     "status": "completed"
    },
    "tags": []
   },
   "outputs": [
    {
     "name": "stdout",
     "output_type": "stream",
     "text": [
      "yes\n",
      "tayyab\n",
      "prasad\n"
     ]
    }
   ],
   "source": [
    "if 9 > 6 : \n",
    "    print(\"yes\")\n",
    "    print(\"tayyab\")\n",
    "    \n",
    "print(\"prasad\")\n"
   ]
  },
  {
   "cell_type": "code",
   "execution_count": 109,
   "id": "bea3a431",
   "metadata": {
    "execution": {
     "iopub.execute_input": "2023-11-06T16:51:15.025827Z",
     "iopub.status.busy": "2023-11-06T16:51:15.025374Z",
     "iopub.status.idle": "2023-11-06T16:51:15.031385Z",
     "shell.execute_reply": "2023-11-06T16:51:15.030469Z"
    },
    "papermill": {
     "duration": 0.107587,
     "end_time": "2023-11-06T16:51:15.034247",
     "exception": false,
     "start_time": "2023-11-06T16:51:14.926660",
     "status": "completed"
    },
    "tags": []
   },
   "outputs": [
    {
     "name": "stdout",
     "output_type": "stream",
     "text": [
      "prasad\n"
     ]
    }
   ],
   "source": [
    "if 9 > 16 : \n",
    "    print(\"yes\")\n",
    "    print(\"tayyab\")\n",
    "    \n",
    "print(\"prasad\")"
   ]
  },
  {
   "cell_type": "code",
   "execution_count": 110,
   "id": "70ac96be",
   "metadata": {
    "execution": {
     "iopub.execute_input": "2023-11-06T16:51:15.234887Z",
     "iopub.status.busy": "2023-11-06T16:51:15.234453Z",
     "iopub.status.idle": "2023-11-06T16:51:15.239424Z",
     "shell.execute_reply": "2023-11-06T16:51:15.238035Z"
    },
    "papermill": {
     "duration": 0.107137,
     "end_time": "2023-11-06T16:51:15.241727",
     "exception": false,
     "start_time": "2023-11-06T16:51:15.134590",
     "status": "completed"
    },
    "tags": []
   },
   "outputs": [],
   "source": [
    "# select *\n",
    "#             from table1"
   ]
  },
  {
   "cell_type": "code",
   "execution_count": 111,
   "id": "ee436345",
   "metadata": {
    "execution": {
     "iopub.execute_input": "2023-11-06T16:51:15.442213Z",
     "iopub.status.busy": "2023-11-06T16:51:15.441814Z",
     "iopub.status.idle": "2023-11-06T16:51:15.448905Z",
     "shell.execute_reply": "2023-11-06T16:51:15.447754Z"
    },
    "papermill": {
     "duration": 0.110596,
     "end_time": "2023-11-06T16:51:15.451543",
     "exception": false,
     "start_time": "2023-11-06T16:51:15.340947",
     "status": "completed"
    },
    "tags": []
   },
   "outputs": [
    {
     "name": "stdout",
     "output_type": "stream",
     "text": [
      "the girl got distinction\n",
      "distinction\n"
     ]
    }
   ],
   "source": [
    "marks = 80\n",
    "gender = \"female\"\n",
    "\n",
    "\n",
    "if marks > 75 :  \n",
    "    if gender == \"male\" :\n",
    "        print(\"the boy got distinction\")\n",
    "    else :\n",
    "        print(\"the girl got distinction\")        \n",
    "    print(\"distinction\")\n",
    "elif marks > 50 :\n",
    "    print(\"pass\")\n",
    "else :\n",
    "    print(\"fail\")"
   ]
  },
  {
   "cell_type": "code",
   "execution_count": 112,
   "id": "8087d501",
   "metadata": {
    "execution": {
     "iopub.execute_input": "2023-11-06T16:51:15.652044Z",
     "iopub.status.busy": "2023-11-06T16:51:15.651578Z",
     "iopub.status.idle": "2023-11-06T16:51:15.658812Z",
     "shell.execute_reply": "2023-11-06T16:51:15.657324Z"
    },
    "papermill": {
     "duration": 0.109708,
     "end_time": "2023-11-06T16:51:15.661462",
     "exception": false,
     "start_time": "2023-11-06T16:51:15.551754",
     "status": "completed"
    },
    "tags": []
   },
   "outputs": [
    {
     "name": "stdout",
     "output_type": "stream",
     "text": [
      "mlv 100\n",
      "mlv 97\n",
      "mlv 94\n",
      "mlv 91\n"
     ]
    }
   ],
   "source": [
    "salary = 100\n",
    "\n",
    "while salary > 90 :\n",
    "    print(\"mlv\",salary )\n",
    "    salary = salary - 3"
   ]
  },
  {
   "cell_type": "code",
   "execution_count": 113,
   "id": "00138d05",
   "metadata": {
    "execution": {
     "iopub.execute_input": "2023-11-06T16:51:15.859192Z",
     "iopub.status.busy": "2023-11-06T16:51:15.858737Z",
     "iopub.status.idle": "2023-11-06T16:51:15.865297Z",
     "shell.execute_reply": "2023-11-06T16:51:15.864067Z"
    },
    "papermill": {
     "duration": 0.109379,
     "end_time": "2023-11-06T16:51:15.867897",
     "exception": false,
     "start_time": "2023-11-06T16:51:15.758518",
     "status": "completed"
    },
    "tags": []
   },
   "outputs": [
    {
     "name": "stdout",
     "output_type": "stream",
     "text": [
      "10\n",
      "----\n",
      "13\n",
      "----\n",
      "16\n",
      "----\n",
      "19\n",
      "----\n"
     ]
    }
   ],
   "source": [
    "for i in  range(10,20,3) :\n",
    "    print(i)\n",
    "    print(\"----\")"
   ]
  },
  {
   "cell_type": "code",
   "execution_count": 114,
   "id": "8a50e7c6",
   "metadata": {
    "execution": {
     "iopub.execute_input": "2023-11-06T16:51:16.066578Z",
     "iopub.status.busy": "2023-11-06T16:51:16.066091Z",
     "iopub.status.idle": "2023-11-06T16:51:16.072735Z",
     "shell.execute_reply": "2023-11-06T16:51:16.071479Z"
    },
    "papermill": {
     "duration": 0.112127,
     "end_time": "2023-11-06T16:51:16.076124",
     "exception": false,
     "start_time": "2023-11-06T16:51:15.963997",
     "status": "completed"
    },
    "tags": []
   },
   "outputs": [
    {
     "name": "stdout",
     "output_type": "stream",
     "text": [
      "10\n",
      "----\n",
      "husna\n",
      "13\n",
      "----\n",
      "husna\n",
      "16\n",
      "----\n",
      "husna\n",
      "19\n",
      "----\n",
      "husna\n"
     ]
    }
   ],
   "source": [
    "for i in  [10,13,16,19] :\n",
    "    print(i)\n",
    "    print(\"----\")\n",
    "    print(\"husna\")"
   ]
  },
  {
   "cell_type": "code",
   "execution_count": 115,
   "id": "83378626",
   "metadata": {
    "execution": {
     "iopub.execute_input": "2023-11-06T16:51:16.275298Z",
     "iopub.status.busy": "2023-11-06T16:51:16.274415Z",
     "iopub.status.idle": "2023-11-06T16:51:16.281384Z",
     "shell.execute_reply": "2023-11-06T16:51:16.280023Z"
    },
    "papermill": {
     "duration": 0.109406,
     "end_time": "2023-11-06T16:51:16.283922",
     "exception": false,
     "start_time": "2023-11-06T16:51:16.174516",
     "status": "completed"
    },
    "tags": []
   },
   "outputs": [
    {
     "name": "stdout",
     "output_type": "stream",
     "text": [
      "the element is  10\n",
      "the element is  20\n",
      "the element is  30\n",
      "the element is  40\n",
      "the element is  50\n"
     ]
    }
   ],
   "source": [
    "a = [10,20,30,40,50]\n",
    "\n",
    "for  abhi  in a :\n",
    "    print(\"the element is \",abhi)"
   ]
  },
  {
   "cell_type": "code",
   "execution_count": 116,
   "id": "a33d3ec8",
   "metadata": {
    "execution": {
     "iopub.execute_input": "2023-11-06T16:51:16.480234Z",
     "iopub.status.busy": "2023-11-06T16:51:16.479879Z",
     "iopub.status.idle": "2023-11-06T16:51:16.486555Z",
     "shell.execute_reply": "2023-11-06T16:51:16.485072Z"
    },
    "papermill": {
     "duration": 0.106264,
     "end_time": "2023-11-06T16:51:16.489182",
     "exception": false,
     "start_time": "2023-11-06T16:51:16.382918",
     "status": "completed"
    },
    "tags": []
   },
   "outputs": [
    {
     "name": "stdout",
     "output_type": "stream",
     "text": [
      "the element is  10\n",
      "the element is  20\n",
      "the element is  30\n",
      "the element is  40\n",
      "the element is  50\n"
     ]
    }
   ],
   "source": [
    "a = [10,20,30,40,50]\n",
    "\n",
    "for abhi in range(len(a)) : # [ 0,1,2,3,4]\n",
    "    print(\"the element is \",a[abhi])\n",
    "    "
   ]
  },
  {
   "cell_type": "code",
   "execution_count": 117,
   "id": "f7ea8a57",
   "metadata": {
    "execution": {
     "iopub.execute_input": "2023-11-06T16:51:16.682435Z",
     "iopub.status.busy": "2023-11-06T16:51:16.682072Z",
     "iopub.status.idle": "2023-11-06T16:51:16.688075Z",
     "shell.execute_reply": "2023-11-06T16:51:16.686656Z"
    },
    "papermill": {
     "duration": 0.105079,
     "end_time": "2023-11-06T16:51:16.690425",
     "exception": false,
     "start_time": "2023-11-06T16:51:16.585346",
     "status": "completed"
    },
    "tags": []
   },
   "outputs": [
    {
     "name": "stdout",
     "output_type": "stream",
     "text": [
      "1\n",
      "2\n",
      "3\n",
      "4\n"
     ]
    }
   ],
   "source": [
    "for i in range(1,5):\n",
    "    print(i)"
   ]
  },
  {
   "cell_type": "markdown",
   "id": "733a31ff",
   "metadata": {
    "papermill": {
     "duration": 0.098386,
     "end_time": "2023-11-06T16:51:16.883906",
     "exception": false,
     "start_time": "2023-11-06T16:51:16.785520",
     "status": "completed"
    },
    "tags": []
   },
   "source": [
    "### "
   ]
  },
  {
   "cell_type": "code",
   "execution_count": 118,
   "id": "958edfc8",
   "metadata": {
    "execution": {
     "iopub.execute_input": "2023-11-06T16:51:17.092348Z",
     "iopub.status.busy": "2023-11-06T16:51:17.091992Z",
     "iopub.status.idle": "2023-11-06T16:51:17.098717Z",
     "shell.execute_reply": "2023-11-06T16:51:17.096959Z"
    },
    "papermill": {
     "duration": 0.122801,
     "end_time": "2023-11-06T16:51:17.102900",
     "exception": false,
     "start_time": "2023-11-06T16:51:16.980099",
     "status": "completed"
    },
    "tags": []
   },
   "outputs": [
    {
     "name": "stdout",
     "output_type": "stream",
     "text": [
      "{'banana', 'apple', 'cherry', 'orange'}\n"
     ]
    }
   ],
   "source": [
    "fruits = {\"apple\", \"banana\", \"cherry\"}\n",
    "\n",
    "fruits.add(\"orange\")\n",
    "\n",
    "print(fruits)"
   ]
  },
  {
   "cell_type": "code",
   "execution_count": 119,
   "id": "b2a72097",
   "metadata": {
    "execution": {
     "iopub.execute_input": "2023-11-06T16:51:17.297432Z",
     "iopub.status.busy": "2023-11-06T16:51:17.296986Z",
     "iopub.status.idle": "2023-11-06T16:51:17.303974Z",
     "shell.execute_reply": "2023-11-06T16:51:17.302580Z"
    },
    "papermill": {
     "duration": 0.107303,
     "end_time": "2023-11-06T16:51:17.306680",
     "exception": false,
     "start_time": "2023-11-06T16:51:17.199377",
     "status": "completed"
    },
    "tags": []
   },
   "outputs": [
    {
     "name": "stdout",
     "output_type": "stream",
     "text": [
      "{'tayyab'}\n"
     ]
    }
   ],
   "source": [
    "fruits = {\"apple\", \"banana\", \"cherry\"}\n",
    "\n",
    "fruits.clear()\n",
    "\n",
    "fruits.add(\"tayyab\")\n",
    "\n",
    "print(fruits)"
   ]
  },
  {
   "cell_type": "code",
   "execution_count": 120,
   "id": "abeaf70e",
   "metadata": {
    "execution": {
     "iopub.execute_input": "2023-11-06T16:51:17.503808Z",
     "iopub.status.busy": "2023-11-06T16:51:17.503388Z",
     "iopub.status.idle": "2023-11-06T16:51:17.510228Z",
     "shell.execute_reply": "2023-11-06T16:51:17.508850Z"
    },
    "papermill": {
     "duration": 0.109048,
     "end_time": "2023-11-06T16:51:17.513207",
     "exception": false,
     "start_time": "2023-11-06T16:51:17.404159",
     "status": "completed"
    },
    "tags": []
   },
   "outputs": [
    {
     "name": "stdout",
     "output_type": "stream",
     "text": [
      "{'banana', 'cherry'}\n"
     ]
    }
   ],
   "source": [
    "x = {\"apple\", \"banana\", \"cherry\"}\n",
    "y = {\"google\", \"microsoft\", \"apple\"}\n",
    "\n",
    "z = x.difference(y)\n",
    "\n",
    "print(z)"
   ]
  },
  {
   "cell_type": "code",
   "execution_count": 121,
   "id": "5ad7a1a8",
   "metadata": {
    "execution": {
     "iopub.execute_input": "2023-11-06T16:51:17.708421Z",
     "iopub.status.busy": "2023-11-06T16:51:17.707537Z",
     "iopub.status.idle": "2023-11-06T16:51:17.714482Z",
     "shell.execute_reply": "2023-11-06T16:51:17.713115Z"
    },
    "papermill": {
     "duration": 0.107014,
     "end_time": "2023-11-06T16:51:17.717306",
     "exception": false,
     "start_time": "2023-11-06T16:51:17.610292",
     "status": "completed"
    },
    "tags": []
   },
   "outputs": [
    {
     "name": "stdout",
     "output_type": "stream",
     "text": [
      "{'apple'}\n"
     ]
    }
   ],
   "source": [
    "x = {\"apple\", \"banana\", \"cherry\"}\n",
    "y = {\"google\", \"microsoft\", \"apple\"}\n",
    "\n",
    "z = y.intersection(x)\n",
    "\n",
    "print(z)"
   ]
  },
  {
   "cell_type": "code",
   "execution_count": 122,
   "id": "e6584cb5",
   "metadata": {
    "execution": {
     "iopub.execute_input": "2023-11-06T16:51:17.915080Z",
     "iopub.status.busy": "2023-11-06T16:51:17.914065Z",
     "iopub.status.idle": "2023-11-06T16:51:17.922030Z",
     "shell.execute_reply": "2023-11-06T16:51:17.920437Z"
    },
    "papermill": {
     "duration": 0.109826,
     "end_time": "2023-11-06T16:51:17.924217",
     "exception": false,
     "start_time": "2023-11-06T16:51:17.814391",
     "status": "completed"
    },
    "tags": []
   },
   "outputs": [
    {
     "name": "stdout",
     "output_type": "stream",
     "text": [
      "False\n"
     ]
    }
   ],
   "source": [
    "x = {\"apple\", \"google\", \"cherry\"}\n",
    "y = {\"google\", \"microsoft\", \"facebook\"}\n",
    "\n",
    "z = x.isdisjoint(y)\n",
    "\n",
    "print(z)\n"
   ]
  },
  {
   "cell_type": "code",
   "execution_count": 123,
   "id": "655beaeb",
   "metadata": {
    "execution": {
     "iopub.execute_input": "2023-11-06T16:51:18.125046Z",
     "iopub.status.busy": "2023-11-06T16:51:18.123871Z",
     "iopub.status.idle": "2023-11-06T16:51:18.131386Z",
     "shell.execute_reply": "2023-11-06T16:51:18.129939Z"
    },
    "papermill": {
     "duration": 0.10945,
     "end_time": "2023-11-06T16:51:18.133851",
     "exception": false,
     "start_time": "2023-11-06T16:51:18.024401",
     "status": "completed"
    },
    "tags": []
   },
   "outputs": [
    {
     "name": "stdout",
     "output_type": "stream",
     "text": [
      "False\n"
     ]
    }
   ],
   "source": [
    "x = {\"a\", \"b\", \"h\"}\n",
    "y = {\"f\", \"e\", \"d\", \"c\", \"b\", \"a\"}\n",
    "\n",
    "z = x.issubset(y)\n",
    "\n",
    "print(z)"
   ]
  },
  {
   "cell_type": "code",
   "execution_count": 124,
   "id": "f2311b47",
   "metadata": {
    "execution": {
     "iopub.execute_input": "2023-11-06T16:51:18.329843Z",
     "iopub.status.busy": "2023-11-06T16:51:18.329303Z",
     "iopub.status.idle": "2023-11-06T16:51:18.337865Z",
     "shell.execute_reply": "2023-11-06T16:51:18.336267Z"
    },
    "papermill": {
     "duration": 0.10963,
     "end_time": "2023-11-06T16:51:18.340595",
     "exception": false,
     "start_time": "2023-11-06T16:51:18.230965",
     "status": "completed"
    },
    "tags": []
   },
   "outputs": [
    {
     "name": "stdout",
     "output_type": "stream",
     "text": [
      "False\n"
     ]
    }
   ],
   "source": [
    "x = {\"f\", \"e\", \"d\", \"c\", \"b\", \"a\"}\n",
    "y = {\"a\", \"b\", \"z\"}\n",
    "\n",
    "z = x.issuperset(y)\n",
    "\n",
    "print(z)"
   ]
  },
  {
   "cell_type": "code",
   "execution_count": 125,
   "id": "470d0970",
   "metadata": {
    "execution": {
     "iopub.execute_input": "2023-11-06T16:51:18.536837Z",
     "iopub.status.busy": "2023-11-06T16:51:18.536349Z",
     "iopub.status.idle": "2023-11-06T16:51:18.543281Z",
     "shell.execute_reply": "2023-11-06T16:51:18.541869Z"
    },
    "papermill": {
     "duration": 0.107292,
     "end_time": "2023-11-06T16:51:18.545820",
     "exception": false,
     "start_time": "2023-11-06T16:51:18.438528",
     "status": "completed"
    },
    "tags": []
   },
   "outputs": [
    {
     "name": "stdout",
     "output_type": "stream",
     "text": [
      "{'apple', 'cherry'}\n"
     ]
    }
   ],
   "source": [
    "fruits = {\"apple\", \"banana\", \"cherry\"}\n",
    "\n",
    "fruits.pop()\n",
    "\n",
    "print(fruits)"
   ]
  },
  {
   "cell_type": "code",
   "execution_count": 126,
   "id": "c85d73ee",
   "metadata": {
    "execution": {
     "iopub.execute_input": "2023-11-06T16:51:18.742704Z",
     "iopub.status.busy": "2023-11-06T16:51:18.742266Z",
     "iopub.status.idle": "2023-11-06T16:51:18.749460Z",
     "shell.execute_reply": "2023-11-06T16:51:18.747994Z"
    },
    "papermill": {
     "duration": 0.108618,
     "end_time": "2023-11-06T16:51:18.752231",
     "exception": false,
     "start_time": "2023-11-06T16:51:18.643613",
     "status": "completed"
    },
    "tags": []
   },
   "outputs": [
    {
     "name": "stdout",
     "output_type": "stream",
     "text": [
      "{'banana', 'apple', 'cherry'}\n"
     ]
    }
   ],
   "source": [
    "x = {\"apple\", \"banana\", \"cherry\"}\n",
    "y = {\"google\", \"microsoft\", \"apple\"}\n",
    "\n",
    "z = x.union(y)\n",
    "\n",
    "print(x)"
   ]
  },
  {
   "cell_type": "code",
   "execution_count": 127,
   "id": "4d2e3b6d",
   "metadata": {
    "execution": {
     "iopub.execute_input": "2023-11-06T16:51:18.949577Z",
     "iopub.status.busy": "2023-11-06T16:51:18.949144Z",
     "iopub.status.idle": "2023-11-06T16:51:18.955593Z",
     "shell.execute_reply": "2023-11-06T16:51:18.954334Z"
    },
    "papermill": {
     "duration": 0.108417,
     "end_time": "2023-11-06T16:51:18.958118",
     "exception": false,
     "start_time": "2023-11-06T16:51:18.849701",
     "status": "completed"
    },
    "tags": []
   },
   "outputs": [
    {
     "name": "stdout",
     "output_type": "stream",
     "text": [
      "{'apple', 'google', 'microsoft', 'banana', 'cherry'}\n"
     ]
    }
   ],
   "source": [
    "x = {\"apple\", \"banana\", \"cherry\"}\n",
    "y = {\"google\", \"microsoft\", \"apple\"}\n",
    "\n",
    "x.update(y)\n",
    "\n",
    "print(x)"
   ]
  },
  {
   "cell_type": "code",
   "execution_count": 128,
   "id": "fbb78939",
   "metadata": {
    "execution": {
     "iopub.execute_input": "2023-11-06T16:51:19.158940Z",
     "iopub.status.busy": "2023-11-06T16:51:19.158478Z",
     "iopub.status.idle": "2023-11-06T16:51:19.164991Z",
     "shell.execute_reply": "2023-11-06T16:51:19.163514Z"
    },
    "papermill": {
     "duration": 0.10797,
     "end_time": "2023-11-06T16:51:19.167066",
     "exception": false,
     "start_time": "2023-11-06T16:51:19.059096",
     "status": "completed"
    },
    "tags": []
   },
   "outputs": [
    {
     "name": "stdout",
     "output_type": "stream",
     "text": [
      "{'key 1': 'sush', 'key 2': 'sush', 'key 3': 'sush'}\n"
     ]
    }
   ],
   "source": [
    "x = ('key 1', 'key 2', 'key 3')\n",
    "y = \"sush\"\n",
    "\n",
    "thisdict = dict.fromkeys(x, y)\n",
    "\n",
    "print(thisdict)"
   ]
  },
  {
   "cell_type": "code",
   "execution_count": 129,
   "id": "c2b1b752",
   "metadata": {
    "execution": {
     "iopub.execute_input": "2023-11-06T16:51:19.362260Z",
     "iopub.status.busy": "2023-11-06T16:51:19.361831Z",
     "iopub.status.idle": "2023-11-06T16:51:19.369366Z",
     "shell.execute_reply": "2023-11-06T16:51:19.368186Z"
    },
    "papermill": {
     "duration": 0.108899,
     "end_time": "2023-11-06T16:51:19.372183",
     "exception": false,
     "start_time": "2023-11-06T16:51:19.263284",
     "status": "completed"
    },
    "tags": []
   },
   "outputs": [
    {
     "data": {
      "text/plain": [
       "{'key 1': 'sush', 'key 2': 'sush', 'key 3 ': 'sush'}"
      ]
     },
     "execution_count": 129,
     "metadata": {},
     "output_type": "execute_result"
    }
   ],
   "source": [
    "thisdict  = { \"key 1\" : \"sush\",\n",
    "            \"key 2\" : \"sush\",\n",
    "            \"key 3 \" : \"sush\"}\n",
    "thisdict"
   ]
  },
  {
   "cell_type": "code",
   "execution_count": 130,
   "id": "68b46370",
   "metadata": {
    "execution": {
     "iopub.execute_input": "2023-11-06T16:51:19.576516Z",
     "iopub.status.busy": "2023-11-06T16:51:19.576105Z",
     "iopub.status.idle": "2023-11-06T16:51:19.581203Z",
     "shell.execute_reply": "2023-11-06T16:51:19.580055Z"
    },
    "papermill": {
     "duration": 0.109936,
     "end_time": "2023-11-06T16:51:19.583733",
     "exception": false,
     "start_time": "2023-11-06T16:51:19.473797",
     "status": "completed"
    },
    "tags": []
   },
   "outputs": [],
   "source": [
    "x = ('st 1', 'st 2', 'st 3')\n",
    "y = 0 "
   ]
  },
  {
   "cell_type": "code",
   "execution_count": 131,
   "id": "92d9cbb7",
   "metadata": {
    "execution": {
     "iopub.execute_input": "2023-11-06T16:51:19.784293Z",
     "iopub.status.busy": "2023-11-06T16:51:19.783924Z",
     "iopub.status.idle": "2023-11-06T16:51:19.791510Z",
     "shell.execute_reply": "2023-11-06T16:51:19.790493Z"
    },
    "papermill": {
     "duration": 0.109774,
     "end_time": "2023-11-06T16:51:19.793963",
     "exception": false,
     "start_time": "2023-11-06T16:51:19.684189",
     "status": "completed"
    },
    "tags": []
   },
   "outputs": [
    {
     "data": {
      "text/plain": [
       "'Mustang'"
      ]
     },
     "execution_count": 131,
     "metadata": {},
     "output_type": "execute_result"
    }
   ],
   "source": [
    "car = {\n",
    "  \"brand\": \"Ford\",\n",
    "  \"model\": \"Mustang\",\n",
    "  \"year\": 1964\n",
    "}\n",
    "\n",
    "car.get(\"model\")\n",
    "\n"
   ]
  },
  {
   "cell_type": "code",
   "execution_count": 132,
   "id": "a7118749",
   "metadata": {
    "execution": {
     "iopub.execute_input": "2023-11-06T16:51:19.991744Z",
     "iopub.status.busy": "2023-11-06T16:51:19.991303Z",
     "iopub.status.idle": "2023-11-06T16:51:19.999325Z",
     "shell.execute_reply": "2023-11-06T16:51:19.998155Z"
    },
    "papermill": {
     "duration": 0.109879,
     "end_time": "2023-11-06T16:51:20.001793",
     "exception": false,
     "start_time": "2023-11-06T16:51:19.891914",
     "status": "completed"
    },
    "tags": []
   },
   "outputs": [
    {
     "data": {
      "text/plain": [
       "'Mustang'"
      ]
     },
     "execution_count": 132,
     "metadata": {},
     "output_type": "execute_result"
    }
   ],
   "source": [
    "car = {\n",
    "  \"brand\": \"Ford\",\n",
    "  \"model\": \"Mustang\",\n",
    "  \"year\": 1964\n",
    "}\n",
    "car[\"model\"]"
   ]
  },
  {
   "cell_type": "code",
   "execution_count": 133,
   "id": "bfe3a36d",
   "metadata": {
    "execution": {
     "iopub.execute_input": "2023-11-06T16:51:20.204013Z",
     "iopub.status.busy": "2023-11-06T16:51:20.203614Z",
     "iopub.status.idle": "2023-11-06T16:51:20.211460Z",
     "shell.execute_reply": "2023-11-06T16:51:20.210207Z"
    },
    "papermill": {
     "duration": 0.110524,
     "end_time": "2023-11-06T16:51:20.213901",
     "exception": false,
     "start_time": "2023-11-06T16:51:20.103377",
     "status": "completed"
    },
    "tags": []
   },
   "outputs": [
    {
     "data": {
      "text/plain": [
       "dict_keys(['brand', 'model', 'year'])"
      ]
     },
     "execution_count": 133,
     "metadata": {},
     "output_type": "execute_result"
    }
   ],
   "source": [
    "car = {\n",
    "  \"brand\": \"Ford\",\n",
    "  \"model\": \"Mustang\",\n",
    "  \"year\": 1964\n",
    "}\n",
    "\n",
    "car.keys()"
   ]
  },
  {
   "cell_type": "code",
   "execution_count": 134,
   "id": "5e6e6991",
   "metadata": {
    "execution": {
     "iopub.execute_input": "2023-11-06T16:51:20.411284Z",
     "iopub.status.busy": "2023-11-06T16:51:20.410546Z",
     "iopub.status.idle": "2023-11-06T16:51:20.418602Z",
     "shell.execute_reply": "2023-11-06T16:51:20.417466Z"
    },
    "papermill": {
     "duration": 0.109899,
     "end_time": "2023-11-06T16:51:20.420878",
     "exception": false,
     "start_time": "2023-11-06T16:51:20.310979",
     "status": "completed"
    },
    "tags": []
   },
   "outputs": [
    {
     "data": {
      "text/plain": [
       "dict_values(['Ford', 'Mustang', 1964])"
      ]
     },
     "execution_count": 134,
     "metadata": {},
     "output_type": "execute_result"
    }
   ],
   "source": [
    "car.values()"
   ]
  },
  {
   "cell_type": "code",
   "execution_count": 135,
   "id": "8c17902a",
   "metadata": {
    "execution": {
     "iopub.execute_input": "2023-11-06T16:51:20.686054Z",
     "iopub.status.busy": "2023-11-06T16:51:20.685651Z",
     "iopub.status.idle": "2023-11-06T16:51:20.692377Z",
     "shell.execute_reply": "2023-11-06T16:51:20.691473Z"
    },
    "papermill": {
     "duration": 0.10831,
     "end_time": "2023-11-06T16:51:20.694864",
     "exception": false,
     "start_time": "2023-11-06T16:51:20.586554",
     "status": "completed"
    },
    "tags": []
   },
   "outputs": [
    {
     "data": {
      "text/plain": [
       "dict_items([('brand', 'Ford'), ('model', 'Mustang'), ('year', 1964)])"
      ]
     },
     "execution_count": 135,
     "metadata": {},
     "output_type": "execute_result"
    }
   ],
   "source": [
    "car.items()"
   ]
  },
  {
   "cell_type": "code",
   "execution_count": 136,
   "id": "f24d7c02",
   "metadata": {
    "execution": {
     "iopub.execute_input": "2023-11-06T16:51:20.895008Z",
     "iopub.status.busy": "2023-11-06T16:51:20.894531Z",
     "iopub.status.idle": "2023-11-06T16:51:20.902465Z",
     "shell.execute_reply": "2023-11-06T16:51:20.900613Z"
    },
    "papermill": {
     "duration": 0.111653,
     "end_time": "2023-11-06T16:51:20.905071",
     "exception": false,
     "start_time": "2023-11-06T16:51:20.793418",
     "status": "completed"
    },
    "tags": []
   },
   "outputs": [
    {
     "name": "stdout",
     "output_type": "stream",
     "text": [
      "{'brand': 'Ford', 'year': 1964}\n"
     ]
    }
   ],
   "source": [
    "car = {\n",
    "  \"brand\": \"Ford\",\n",
    "  \"model\": \"Mustang\",\n",
    "  \"year\": 1964\n",
    "}\n",
    "\n",
    "car.pop(\"model\")\n",
    "\n",
    "print(car)"
   ]
  },
  {
   "cell_type": "code",
   "execution_count": 137,
   "id": "0aef6776",
   "metadata": {
    "execution": {
     "iopub.execute_input": "2023-11-06T16:51:21.108650Z",
     "iopub.status.busy": "2023-11-06T16:51:21.108261Z",
     "iopub.status.idle": "2023-11-06T16:51:21.114869Z",
     "shell.execute_reply": "2023-11-06T16:51:21.113453Z"
    },
    "papermill": {
     "duration": 0.112847,
     "end_time": "2023-11-06T16:51:21.117315",
     "exception": false,
     "start_time": "2023-11-06T16:51:21.004468",
     "status": "completed"
    },
    "tags": []
   },
   "outputs": [
    {
     "name": "stdout",
     "output_type": "stream",
     "text": [
      "{'brand': 'Ford', 'model': 'Mustang'}\n"
     ]
    }
   ],
   "source": [
    "car = {\n",
    "  \"brand\": \"Ford\",\n",
    "  \"model\": \"Mustang\",\n",
    "  \"year\": 1964\n",
    "}\n",
    "\n",
    "car.popitem()\n",
    "\n",
    "print(car)"
   ]
  },
  {
   "cell_type": "code",
   "execution_count": 138,
   "id": "33c8b5d5",
   "metadata": {
    "execution": {
     "iopub.execute_input": "2023-11-06T16:51:21.323981Z",
     "iopub.status.busy": "2023-11-06T16:51:21.323565Z",
     "iopub.status.idle": "2023-11-06T16:51:21.331037Z",
     "shell.execute_reply": "2023-11-06T16:51:21.329785Z"
    },
    "papermill": {
     "duration": 0.113432,
     "end_time": "2023-11-06T16:51:21.333538",
     "exception": false,
     "start_time": "2023-11-06T16:51:21.220106",
     "status": "completed"
    },
    "tags": []
   },
   "outputs": [
    {
     "name": "stdout",
     "output_type": "stream",
     "text": [
      "None\n"
     ]
    }
   ],
   "source": [
    "car = {\n",
    "  \"brand\": \"Ford\",\n",
    "    \"model\" : None ,\n",
    "\n",
    "  \"year\": 1964\n",
    "}\n",
    "\n",
    "x = car.setdefault(\"model\", \"Bronco\")\n",
    "\n",
    "print(x)"
   ]
  },
  {
   "cell_type": "code",
   "execution_count": 139,
   "id": "878889e5",
   "metadata": {
    "execution": {
     "iopub.execute_input": "2023-11-06T16:51:21.543203Z",
     "iopub.status.busy": "2023-11-06T16:51:21.542826Z",
     "iopub.status.idle": "2023-11-06T16:51:21.549504Z",
     "shell.execute_reply": "2023-11-06T16:51:21.548164Z"
    },
    "papermill": {
     "duration": 0.11501,
     "end_time": "2023-11-06T16:51:21.551897",
     "exception": false,
     "start_time": "2023-11-06T16:51:21.436887",
     "status": "completed"
    },
    "tags": []
   },
   "outputs": [
    {
     "name": "stdout",
     "output_type": "stream",
     "text": [
      "{'brand': 'Ford', 'model': 'Mustang', 'year': 1964, 'color': 'White'}\n"
     ]
    }
   ],
   "source": [
    "car = {\n",
    "  \"brand\": \"Ford\",\n",
    "  \"model\": \"Mustang\",\n",
    "  \"year\": 1964\n",
    "}\n",
    "\n",
    "\n",
    "car.update({\"color\": \"White\"})\n",
    "print(car)\n",
    "\n"
   ]
  },
  {
   "cell_type": "code",
   "execution_count": 140,
   "id": "2774a0ec",
   "metadata": {
    "execution": {
     "iopub.execute_input": "2023-11-06T16:51:21.759693Z",
     "iopub.status.busy": "2023-11-06T16:51:21.759191Z",
     "iopub.status.idle": "2023-11-06T16:51:21.764327Z",
     "shell.execute_reply": "2023-11-06T16:51:21.763033Z"
    },
    "papermill": {
     "duration": 0.111845,
     "end_time": "2023-11-06T16:51:21.766951",
     "exception": false,
     "start_time": "2023-11-06T16:51:21.655106",
     "status": "completed"
    },
    "tags": []
   },
   "outputs": [],
   "source": [
    "# *"
   ]
  },
  {
   "cell_type": "code",
   "execution_count": 141,
   "id": "553c2caa",
   "metadata": {
    "execution": {
     "iopub.execute_input": "2023-11-06T16:51:21.966369Z",
     "iopub.status.busy": "2023-11-06T16:51:21.965896Z",
     "iopub.status.idle": "2023-11-06T16:51:21.972739Z",
     "shell.execute_reply": "2023-11-06T16:51:21.971263Z"
    },
    "papermill": {
     "duration": 0.10998,
     "end_time": "2023-11-06T16:51:21.974914",
     "exception": false,
     "start_time": "2023-11-06T16:51:21.864934",
     "status": "completed"
    },
    "tags": []
   },
   "outputs": [
    {
     "name": "stdout",
     "output_type": "stream",
     "text": [
      "*\n"
     ]
    }
   ],
   "source": [
    "print(\"*\")"
   ]
  },
  {
   "cell_type": "code",
   "execution_count": 142,
   "id": "05e4790a",
   "metadata": {
    "execution": {
     "iopub.execute_input": "2023-11-06T16:51:22.176509Z",
     "iopub.status.busy": "2023-11-06T16:51:22.176084Z",
     "iopub.status.idle": "2023-11-06T16:51:22.180194Z",
     "shell.execute_reply": "2023-11-06T16:51:22.179194Z"
    },
    "papermill": {
     "duration": 0.107205,
     "end_time": "2023-11-06T16:51:22.182320",
     "exception": false,
     "start_time": "2023-11-06T16:51:22.075115",
     "status": "completed"
    },
    "tags": []
   },
   "outputs": [],
   "source": [
    "# *\n",
    "# **"
   ]
  },
  {
   "cell_type": "code",
   "execution_count": 143,
   "id": "6204fe1c",
   "metadata": {
    "execution": {
     "iopub.execute_input": "2023-11-06T16:51:22.382404Z",
     "iopub.status.busy": "2023-11-06T16:51:22.381961Z",
     "iopub.status.idle": "2023-11-06T16:51:22.387448Z",
     "shell.execute_reply": "2023-11-06T16:51:22.386405Z"
    },
    "papermill": {
     "duration": 0.109364,
     "end_time": "2023-11-06T16:51:22.391178",
     "exception": false,
     "start_time": "2023-11-06T16:51:22.281814",
     "status": "completed"
    },
    "tags": []
   },
   "outputs": [
    {
     "name": "stdout",
     "output_type": "stream",
     "text": [
      "*\n",
      "**\n"
     ]
    }
   ],
   "source": [
    "print(\"*\")\n",
    "print(\"**\")"
   ]
  },
  {
   "cell_type": "code",
   "execution_count": 144,
   "id": "cea5b39f",
   "metadata": {
    "execution": {
     "iopub.execute_input": "2023-11-06T16:51:22.590596Z",
     "iopub.status.busy": "2023-11-06T16:51:22.590144Z",
     "iopub.status.idle": "2023-11-06T16:51:22.595457Z",
     "shell.execute_reply": "2023-11-06T16:51:22.594229Z"
    },
    "papermill": {
     "duration": 0.108163,
     "end_time": "2023-11-06T16:51:22.597835",
     "exception": false,
     "start_time": "2023-11-06T16:51:22.489672",
     "status": "completed"
    },
    "tags": []
   },
   "outputs": [],
   "source": [
    "# *\n",
    "# **\n",
    "# ***\n",
    "# ****"
   ]
  },
  {
   "cell_type": "code",
   "execution_count": 145,
   "id": "1e3929d5",
   "metadata": {
    "execution": {
     "iopub.execute_input": "2023-11-06T16:51:22.796691Z",
     "iopub.status.busy": "2023-11-06T16:51:22.796225Z",
     "iopub.status.idle": "2023-11-06T16:51:22.804609Z",
     "shell.execute_reply": "2023-11-06T16:51:22.802732Z"
    },
    "papermill": {
     "duration": 0.110468,
     "end_time": "2023-11-06T16:51:22.806791",
     "exception": false,
     "start_time": "2023-11-06T16:51:22.696323",
     "status": "completed"
    },
    "tags": []
   },
   "outputs": [
    {
     "name": "stdout",
     "output_type": "stream",
     "text": [
      "   *\n",
      "  **\n",
      " ***\n",
      "****\n",
      " ***\n",
      "  **\n",
      "   *\n"
     ]
    }
   ],
   "source": [
    "for i in range(4) :\n",
    "    print(\" \"*(3-i),end=\"\")\n",
    "    print(\"*\"* (i+1))\n",
    "#     print(\"--\")\n",
    "for j in range(3):\n",
    "    print(\" \"*(j+1),end=\"\")\n",
    "    print(\"*\"*(3-j))"
   ]
  },
  {
   "cell_type": "code",
   "execution_count": 146,
   "id": "54627dac",
   "metadata": {
    "execution": {
     "iopub.execute_input": "2023-11-06T16:51:23.007996Z",
     "iopub.status.busy": "2023-11-06T16:51:23.007520Z",
     "iopub.status.idle": "2023-11-06T16:51:23.013380Z",
     "shell.execute_reply": "2023-11-06T16:51:23.011984Z"
    },
    "papermill": {
     "duration": 0.110465,
     "end_time": "2023-11-06T16:51:23.015527",
     "exception": false,
     "start_time": "2023-11-06T16:51:22.905062",
     "status": "completed"
    },
    "tags": []
   },
   "outputs": [],
   "source": [
    "#    *\n",
    "#   ***\n",
    "#  *****\n",
    "# *******\n",
    "\n",
    "#  *****\n",
    "#   ***\n",
    "#    *"
   ]
  },
  {
   "cell_type": "code",
   "execution_count": 147,
   "id": "d7a21a20",
   "metadata": {
    "execution": {
     "iopub.execute_input": "2023-11-06T16:51:23.216698Z",
     "iopub.status.busy": "2023-11-06T16:51:23.216252Z",
     "iopub.status.idle": "2023-11-06T16:51:23.221612Z",
     "shell.execute_reply": "2023-11-06T16:51:23.220224Z"
    },
    "papermill": {
     "duration": 0.10886,
     "end_time": "2023-11-06T16:51:23.224000",
     "exception": false,
     "start_time": "2023-11-06T16:51:23.115140",
     "status": "completed"
    },
    "tags": []
   },
   "outputs": [],
   "source": [
    "# *\n",
    "# ***\n",
    "# *****\n",
    "# *******\n",
    "\n",
    "\n",
    "# *****\n",
    "# ***\n",
    "# *"
   ]
  },
  {
   "cell_type": "code",
   "execution_count": 148,
   "id": "20139e97",
   "metadata": {
    "execution": {
     "iopub.execute_input": "2023-11-06T16:51:23.422543Z",
     "iopub.status.busy": "2023-11-06T16:51:23.422164Z",
     "iopub.status.idle": "2023-11-06T16:51:23.429203Z",
     "shell.execute_reply": "2023-11-06T16:51:23.427768Z"
    },
    "papermill": {
     "duration": 0.109479,
     "end_time": "2023-11-06T16:51:23.432056",
     "exception": false,
     "start_time": "2023-11-06T16:51:23.322577",
     "status": "completed"
    },
    "tags": []
   },
   "outputs": [
    {
     "name": "stdout",
     "output_type": "stream",
     "text": [
      "*\n",
      "***\n",
      "*****\n",
      "*******\n",
      "*\n",
      "*\n",
      "*\n"
     ]
    }
   ],
   "source": [
    "for i in range(4):\n",
    "    print(\"*\"* ((2*i)+1))\n",
    "for j in range(3):\n",
    "    print(\"*\")"
   ]
  },
  {
   "cell_type": "code",
   "execution_count": 149,
   "id": "12fef359",
   "metadata": {
    "execution": {
     "iopub.execute_input": "2023-11-06T16:51:23.631594Z",
     "iopub.status.busy": "2023-11-06T16:51:23.631249Z",
     "iopub.status.idle": "2023-11-06T16:51:23.635522Z",
     "shell.execute_reply": "2023-11-06T16:51:23.634563Z"
    },
    "papermill": {
     "duration": 0.107317,
     "end_time": "2023-11-06T16:51:23.637701",
     "exception": false,
     "start_time": "2023-11-06T16:51:23.530384",
     "status": "completed"
    },
    "tags": []
   },
   "outputs": [],
   "source": [
    "#     *\n",
    "#    ***\n",
    "#   *****\n",
    "#  *******\n",
    "# *********\n",
    "#  *******\n",
    "#   *****\n",
    "#    ***\n",
    "#     *"
   ]
  },
  {
   "cell_type": "code",
   "execution_count": 150,
   "id": "7f9c6ca7",
   "metadata": {
    "execution": {
     "iopub.execute_input": "2023-11-06T16:51:23.835925Z",
     "iopub.status.busy": "2023-11-06T16:51:23.835495Z",
     "iopub.status.idle": "2023-11-06T16:51:23.843854Z",
     "shell.execute_reply": "2023-11-06T16:51:23.842529Z"
    },
    "papermill": {
     "duration": 0.110962,
     "end_time": "2023-11-06T16:51:23.846989",
     "exception": false,
     "start_time": "2023-11-06T16:51:23.736027",
     "status": "completed"
    },
    "tags": []
   },
   "outputs": [
    {
     "name": "stdout",
     "output_type": "stream",
     "text": [
      "                        *\n",
      "                       ***\n",
      "                      *****\n",
      "                     *******\n",
      "                    *********\n",
      "                   ***********\n",
      "                  *************\n",
      "                 ***************\n",
      "                *****************\n",
      "               *******************\n",
      "              *********************\n",
      "             ***********************\n",
      "            *************************\n",
      "           ***************************\n",
      "          *****************************\n",
      "         *******************************\n",
      "        *********************************\n",
      "       ***********************************\n",
      "      *************************************\n",
      "     ***************************************\n",
      "    *****************************************\n",
      "   *******************************************\n",
      "  *********************************************\n",
      " ***********************************************\n",
      "*************************************************\n",
      " ***********************************************\n",
      "  *********************************************\n",
      "   *******************************************\n",
      "    *****************************************\n",
      "     ***************************************\n",
      "      *************************************\n",
      "       ***********************************\n",
      "        *********************************\n",
      "         *******************************\n",
      "          *****************************\n",
      "           ***************************\n",
      "            *************************\n",
      "             ***********************\n",
      "              *********************\n",
      "               *******************\n",
      "                *****************\n",
      "                 ***************\n",
      "                  *************\n",
      "                   ***********\n",
      "                    *********\n",
      "                     *******\n",
      "                      *****\n",
      "                       ***\n",
      "                        *\n"
     ]
    }
   ],
   "source": [
    "n =25\n",
    "\n",
    "for i in range(n):\n",
    "    print(\" \"*(n-1-i),end=\"\")\n",
    "    print(\"*\"*((2*i)+1))\n",
    "for j in range(n-1):\n",
    "    print(\" \"*(j+1),end=\"\")\n",
    "    print(\"*\"*((2*(n-2-j))+1))"
   ]
  },
  {
   "cell_type": "markdown",
   "id": "7defe34d",
   "metadata": {
    "papermill": {
     "duration": 0.099934,
     "end_time": "2023-11-06T16:51:24.046450",
     "exception": false,
     "start_time": "2023-11-06T16:51:23.946516",
     "status": "completed"
    },
    "tags": []
   },
   "source": [
    "# "
   ]
  },
  {
   "cell_type": "code",
   "execution_count": 151,
   "id": "b36d31cc",
   "metadata": {
    "execution": {
     "iopub.execute_input": "2023-11-06T16:51:24.245842Z",
     "iopub.status.busy": "2023-11-06T16:51:24.245361Z",
     "iopub.status.idle": "2023-11-06T16:51:24.249504Z",
     "shell.execute_reply": "2023-11-06T16:51:24.248720Z"
    },
    "papermill": {
     "duration": 0.106826,
     "end_time": "2023-11-06T16:51:24.251513",
     "exception": false,
     "start_time": "2023-11-06T16:51:24.144687",
     "status": "completed"
    },
    "tags": []
   },
   "outputs": [],
   "source": [
    "#    *    \n",
    "#   * *\n",
    "#  *   *\n",
    "# *     *\n",
    "#  *   *\n",
    "#   * *\n",
    "\n",
    "\n",
    "#    *"
   ]
  },
  {
   "cell_type": "code",
   "execution_count": 152,
   "id": "bb2e3c6a",
   "metadata": {
    "execution": {
     "iopub.execute_input": "2023-11-06T16:51:24.450408Z",
     "iopub.status.busy": "2023-11-06T16:51:24.449966Z",
     "iopub.status.idle": "2023-11-06T16:51:24.458605Z",
     "shell.execute_reply": "2023-11-06T16:51:24.457438Z"
    },
    "papermill": {
     "duration": 0.111484,
     "end_time": "2023-11-06T16:51:24.460911",
     "exception": false,
     "start_time": "2023-11-06T16:51:24.349427",
     "status": "completed"
    },
    "tags": []
   },
   "outputs": [
    {
     "name": "stdout",
     "output_type": "stream",
     "text": [
      "           *\n",
      "          * *\n",
      "         *   *\n",
      "        *     *\n",
      "       *       *\n",
      "      *         *\n",
      "     *           *\n",
      "    *             *\n",
      "   *               *\n",
      "  *                 *\n",
      " *                   *\n",
      "  *                 *\n",
      "   *               *\n",
      "    *             *\n",
      "     *           *\n",
      "      *         *\n",
      "       *       *\n",
      "        *     *\n",
      "         *   *\n",
      "          * *\n",
      "           *\n"
     ]
    }
   ],
   "source": [
    "n = 11\n",
    "# n = 4\n",
    "print(\" \"*(n-1),\"*\")\n",
    "for i in range((n-1)):\n",
    "    print(\" \"*(n-2-i),\"*\"+\" \"*((2*i )+1)+\"*\")\n",
    "for j in range(n-2):\n",
    "    print(\" \"*(j+1),\"*\"+\" \"*((2*(n-2-j))-1)+\"*\")\n",
    "    \n",
    "\n",
    "    \n",
    "print(\" \"*(n-1),\"*\")"
   ]
  },
  {
   "cell_type": "code",
   "execution_count": 153,
   "id": "add3695c",
   "metadata": {
    "execution": {
     "iopub.execute_input": "2023-11-06T16:51:24.663918Z",
     "iopub.status.busy": "2023-11-06T16:51:24.663415Z",
     "iopub.status.idle": "2023-11-06T16:51:24.667918Z",
     "shell.execute_reply": "2023-11-06T16:51:24.667084Z"
    },
    "papermill": {
     "duration": 0.109467,
     "end_time": "2023-11-06T16:51:24.670364",
     "exception": false,
     "start_time": "2023-11-06T16:51:24.560897",
     "status": "completed"
    },
    "tags": []
   },
   "outputs": [],
   "source": [
    "# 1\n",
    "# 1 1\n",
    "# 1 1 1\n",
    "# 1 1 1 1\n",
    "# 1 1 1 1 1"
   ]
  },
  {
   "cell_type": "code",
   "execution_count": 154,
   "id": "e0a342b1",
   "metadata": {
    "execution": {
     "iopub.execute_input": "2023-11-06T16:51:24.873473Z",
     "iopub.status.busy": "2023-11-06T16:51:24.873020Z",
     "iopub.status.idle": "2023-11-06T16:51:24.879461Z",
     "shell.execute_reply": "2023-11-06T16:51:24.877746Z"
    },
    "papermill": {
     "duration": 0.108867,
     "end_time": "2023-11-06T16:51:24.881663",
     "exception": false,
     "start_time": "2023-11-06T16:51:24.772796",
     "status": "completed"
    },
    "tags": []
   },
   "outputs": [
    {
     "name": "stdout",
     "output_type": "stream",
     "text": [
      "1 \n",
      "1 1 \n",
      "1 1 1 \n",
      "1 1 1 1 \n",
      "1 1 1 1 1 \n"
     ]
    }
   ],
   "source": [
    "for i in range(5):\n",
    "    print(\"1 \"*(i+1))"
   ]
  },
  {
   "cell_type": "code",
   "execution_count": 155,
   "id": "5f69dbef",
   "metadata": {
    "execution": {
     "iopub.execute_input": "2023-11-06T16:51:25.082298Z",
     "iopub.status.busy": "2023-11-06T16:51:25.081914Z",
     "iopub.status.idle": "2023-11-06T16:51:25.087051Z",
     "shell.execute_reply": "2023-11-06T16:51:25.085801Z"
    },
    "papermill": {
     "duration": 0.109073,
     "end_time": "2023-11-06T16:51:25.089474",
     "exception": false,
     "start_time": "2023-11-06T16:51:24.980401",
     "status": "completed"
    },
    "tags": []
   },
   "outputs": [],
   "source": [
    "# 1\n",
    "# 1 2\n",
    "# 1 2 3\n",
    "# 1 2 3 4\n",
    "# 1 2 3 4 5"
   ]
  },
  {
   "cell_type": "code",
   "execution_count": 156,
   "id": "3e82b638",
   "metadata": {
    "execution": {
     "iopub.execute_input": "2023-11-06T16:51:25.290814Z",
     "iopub.status.busy": "2023-11-06T16:51:25.290330Z",
     "iopub.status.idle": "2023-11-06T16:51:25.296503Z",
     "shell.execute_reply": "2023-11-06T16:51:25.295589Z"
    },
    "papermill": {
     "duration": 0.109393,
     "end_time": "2023-11-06T16:51:25.299182",
     "exception": false,
     "start_time": "2023-11-06T16:51:25.189789",
     "status": "completed"
    },
    "tags": []
   },
   "outputs": [
    {
     "name": "stdout",
     "output_type": "stream",
     "text": [
      "1 \n",
      "1 2 \n",
      "1 2 3 \n",
      "1 2 3 4 \n",
      "1 2 3 4 5 \n"
     ]
    }
   ],
   "source": [
    "for i in range(5):\n",
    "    for j in range(i+1) :\n",
    "        print(j+1,end=\" \")\n",
    "    print()"
   ]
  },
  {
   "cell_type": "code",
   "execution_count": 157,
   "id": "c3a9ad16",
   "metadata": {
    "execution": {
     "iopub.execute_input": "2023-11-06T16:51:25.499717Z",
     "iopub.status.busy": "2023-11-06T16:51:25.498667Z",
     "iopub.status.idle": "2023-11-06T16:51:25.504115Z",
     "shell.execute_reply": "2023-11-06T16:51:25.502839Z"
    },
    "papermill": {
     "duration": 0.108277,
     "end_time": "2023-11-06T16:51:25.506341",
     "exception": false,
     "start_time": "2023-11-06T16:51:25.398064",
     "status": "completed"
    },
    "tags": []
   },
   "outputs": [],
   "source": [
    "#       1\n",
    "#     1 2 1\n",
    "#   1 2 3 2 1 \n",
    "# 1 2 3 4 3 2 1\n",
    "#   1 2 3 2 1\n",
    "#     1 2 1\n",
    "#       1"
   ]
  },
  {
   "cell_type": "code",
   "execution_count": 158,
   "id": "7beebb71",
   "metadata": {
    "execution": {
     "iopub.execute_input": "2023-11-06T16:51:25.706154Z",
     "iopub.status.busy": "2023-11-06T16:51:25.705386Z",
     "iopub.status.idle": "2023-11-06T16:51:25.717339Z",
     "shell.execute_reply": "2023-11-06T16:51:25.715581Z"
    },
    "papermill": {
     "duration": 0.115455,
     "end_time": "2023-11-06T16:51:25.720265",
     "exception": false,
     "start_time": "2023-11-06T16:51:25.604810",
     "status": "completed"
    },
    "tags": []
   },
   "outputs": [
    {
     "name": "stdout",
     "output_type": "stream",
     "text": [
      "              1 \n",
      "            1 2 1 \n",
      "          1 2 3 2 1 \n",
      "        1 2 3 4 3 2 1 \n",
      "      1 2 3 4 5 4 3 2 1 \n",
      "    1 2 3 4 5 6 5 4 3 2 1 \n",
      "  1 2 3 4 5 6 7 6 5 4 3 2 1 \n",
      "1 2 3 4 5 6 7 8 7 6 5 4 3 2 1 \n",
      "  1 2 3 4 5 6 7 6 5 4 3 2 1 \n",
      "    1 2 3 4 5 6 5 4 3 2 1 \n",
      "      1 2 3 4 5 4 3 2 1 \n",
      "        1 2 3 4 3 2 1 \n",
      "          1 2 3 2 1 \n",
      "            1 2 1 \n",
      "              1 \n"
     ]
    }
   ],
   "source": [
    "n = 8\n",
    "# 4\n",
    "for i in range(n):\n",
    "    print(\" \"*(2*(n-1-i)),end=\"\")\n",
    "    for j in range(i+1):\n",
    "        print(j+1 ,end=\" \")\n",
    "    for k in range(i-1,-1,-1):\n",
    "        print(k+1 ,end=\" \")\n",
    "    print()\n",
    "for p in range(n-1) : # 0 13\n",
    "    print(\" \"*(2*(p+1)),end=\"\")\n",
    "    for q in range(n-1-p) :\n",
    "        print(q+1,end=\" \")        \n",
    "    for r in range(n-p-3,-1,-1):\n",
    "        print(r+1,end=\" \")\n",
    "    print()"
   ]
  },
  {
   "cell_type": "markdown",
   "id": "fe54ed84",
   "metadata": {
    "execution": {
     "iopub.execute_input": "2023-10-20T17:08:22.412842Z",
     "iopub.status.busy": "2023-10-20T17:08:22.412393Z",
     "iopub.status.idle": "2023-10-20T17:08:22.418210Z",
     "shell.execute_reply": "2023-10-20T17:08:22.417396Z",
     "shell.execute_reply.started": "2023-10-20T17:08:22.412813Z"
    },
    "papermill": {
     "duration": 0.102003,
     "end_time": "2023-11-06T16:51:25.930117",
     "exception": false,
     "start_time": "2023-11-06T16:51:25.828114",
     "status": "completed"
    },
    "tags": []
   },
   "source": [
    "# for i in range(4):\n",
    "    print(i, end=\" \")"
   ]
  },
  {
   "cell_type": "code",
   "execution_count": 159,
   "id": "737eb931",
   "metadata": {
    "execution": {
     "iopub.execute_input": "2023-11-06T16:51:26.197026Z",
     "iopub.status.busy": "2023-11-06T16:51:26.195998Z",
     "iopub.status.idle": "2023-11-06T16:51:26.202928Z",
     "shell.execute_reply": "2023-11-06T16:51:26.201784Z"
    },
    "papermill": {
     "duration": 0.174257,
     "end_time": "2023-11-06T16:51:26.205331",
     "exception": false,
     "start_time": "2023-11-06T16:51:26.031074",
     "status": "completed"
    },
    "tags": []
   },
   "outputs": [
    {
     "name": "stdout",
     "output_type": "stream",
     "text": [
      "3 2 1 0 "
     ]
    }
   ],
   "source": [
    "for i in range(3,-1,-1):\n",
    "    print(i, end=\" \")"
   ]
  },
  {
   "cell_type": "code",
   "execution_count": 160,
   "id": "4669bb7a",
   "metadata": {
    "execution": {
     "iopub.execute_input": "2023-11-06T16:51:26.406004Z",
     "iopub.status.busy": "2023-11-06T16:51:26.404698Z",
     "iopub.status.idle": "2023-11-06T16:51:26.410191Z",
     "shell.execute_reply": "2023-11-06T16:51:26.409224Z"
    },
    "papermill": {
     "duration": 0.108146,
     "end_time": "2023-11-06T16:51:26.412442",
     "exception": false,
     "start_time": "2023-11-06T16:51:26.304296",
     "status": "completed"
    },
    "tags": []
   },
   "outputs": [],
   "source": [
    "# 0  \n",
    "\n",
    "# 0 1  \n",
    "\n",
    "# 0 2 4  \n",
    "\n",
    "# 0 3 6 9  \n",
    "\n",
    "# 0 4 8 12 16  \n",
    "\n",
    "# 0 5 10 15 20 25  \n",
    "\n",
    "# 0 6 12 18 24 30 36"
   ]
  },
  {
   "cell_type": "code",
   "execution_count": 161,
   "id": "5537b54a",
   "metadata": {
    "execution": {
     "iopub.execute_input": "2023-11-06T16:51:26.615545Z",
     "iopub.status.busy": "2023-11-06T16:51:26.615158Z",
     "iopub.status.idle": "2023-11-06T16:51:26.622130Z",
     "shell.execute_reply": "2023-11-06T16:51:26.621026Z"
    },
    "papermill": {
     "duration": 0.113713,
     "end_time": "2023-11-06T16:51:26.625289",
     "exception": false,
     "start_time": "2023-11-06T16:51:26.511576",
     "status": "completed"
    },
    "tags": []
   },
   "outputs": [
    {
     "name": "stdout",
     "output_type": "stream",
     "text": [
      "0 \n",
      "0 1 \n",
      "0 2 4 \n",
      "0 3 6 9 \n",
      "0 4 8 12 16 \n",
      "0 5 10 15 20 25 \n",
      "0 6 12 18 24 30 36 \n",
      "0 7 14 21 28 35 42 49 \n",
      "0 8 16 24 32 40 48 56 64 \n",
      "0 9 18 27 36 45 54 63 72 81 \n",
      "0 10 20 30 40 50 60 70 80 90 100 \n",
      "0 11 22 33 44 55 66 77 88 99 110 121 \n",
      "0 12 24 36 48 60 72 84 96 108 120 132 144 \n",
      "0 13 26 39 52 65 78 91 104 117 130 143 156 169 \n",
      "0 14 28 42 56 70 84 98 112 126 140 154 168 182 196 \n",
      "0 15 30 45 60 75 90 105 120 135 150 165 180 195 210 225 \n"
     ]
    }
   ],
   "source": [
    "n = 15\n",
    "# 6\n",
    "for i in range(n+1):\n",
    "    for j in range(i+1):\n",
    "        print(j*i,end=\" \")\n",
    "    print()"
   ]
  },
  {
   "cell_type": "code",
   "execution_count": 162,
   "id": "7fcb8100",
   "metadata": {
    "execution": {
     "iopub.execute_input": "2023-11-06T16:51:26.828365Z",
     "iopub.status.busy": "2023-11-06T16:51:26.827794Z",
     "iopub.status.idle": "2023-11-06T16:51:26.832080Z",
     "shell.execute_reply": "2023-11-06T16:51:26.831281Z"
    },
    "papermill": {
     "duration": 0.109547,
     "end_time": "2023-11-06T16:51:26.834329",
     "exception": false,
     "start_time": "2023-11-06T16:51:26.724782",
     "status": "completed"
    },
    "tags": []
   },
   "outputs": [],
   "source": [
    "# 1 \n",
    "\n",
    "# 3 3 \n",
    "\n",
    "# 5 5 5 \n",
    "\n",
    "# 7 7 7 7 \n",
    "\n",
    "# 9 9 9 9 9"
   ]
  },
  {
   "cell_type": "code",
   "execution_count": 163,
   "id": "7ab9a4ae",
   "metadata": {
    "execution": {
     "iopub.execute_input": "2023-11-06T16:51:27.046718Z",
     "iopub.status.busy": "2023-11-06T16:51:27.046055Z",
     "iopub.status.idle": "2023-11-06T16:51:27.053903Z",
     "shell.execute_reply": "2023-11-06T16:51:27.053098Z"
    },
    "papermill": {
     "duration": 0.120197,
     "end_time": "2023-11-06T16:51:27.056872",
     "exception": false,
     "start_time": "2023-11-06T16:51:26.936675",
     "status": "completed"
    },
    "tags": []
   },
   "outputs": [
    {
     "name": "stdout",
     "output_type": "stream",
     "text": [
      "1 \n",
      "3 3 \n",
      "5 5 5 \n",
      "7 7 7 7 \n",
      "9 9 9 9 9 \n"
     ]
    }
   ],
   "source": [
    "\n",
    "n = 5\n",
    "for i in range(n):\n",
    "    for j in range(i+1):\n",
    "        print((2*i)+1,end=\" \")\n",
    "    print()"
   ]
  },
  {
   "cell_type": "code",
   "execution_count": 164,
   "id": "d6f6c209",
   "metadata": {
    "execution": {
     "iopub.execute_input": "2023-11-06T16:51:27.279883Z",
     "iopub.status.busy": "2023-11-06T16:51:27.279163Z",
     "iopub.status.idle": "2023-11-06T16:51:27.283390Z",
     "shell.execute_reply": "2023-11-06T16:51:27.282260Z"
    },
    "papermill": {
     "duration": 0.11097,
     "end_time": "2023-11-06T16:51:27.285844",
     "exception": false,
     "start_time": "2023-11-06T16:51:27.174874",
     "status": "completed"
    },
    "tags": []
   },
   "outputs": [],
   "source": [
    "# ******\n",
    "#     *\n",
    "#    *\n",
    "#   *\n",
    "#  *\n",
    "# ******"
   ]
  },
  {
   "cell_type": "code",
   "execution_count": 165,
   "id": "12817997",
   "metadata": {
    "execution": {
     "iopub.execute_input": "2023-11-06T16:51:27.498396Z",
     "iopub.status.busy": "2023-11-06T16:51:27.497996Z",
     "iopub.status.idle": "2023-11-06T16:51:27.504365Z",
     "shell.execute_reply": "2023-11-06T16:51:27.503320Z"
    },
    "papermill": {
     "duration": 0.117767,
     "end_time": "2023-11-06T16:51:27.507114",
     "exception": false,
     "start_time": "2023-11-06T16:51:27.389347",
     "status": "completed"
    },
    "tags": []
   },
   "outputs": [
    {
     "name": "stdout",
     "output_type": "stream",
     "text": [
      "************\n",
      "          *\n",
      "         *\n",
      "        *\n",
      "       *\n",
      "      *\n",
      "     *\n",
      "    *\n",
      "   *\n",
      "  *\n",
      " *\n",
      "************\n"
     ]
    }
   ],
   "source": [
    "n = 12\n",
    "print(\"*\"*n)\n",
    "for i in range(n-2):\n",
    "    print(\" \"*(n-2-i),end=\"\")\n",
    "    print(\"*\")\n",
    "print(\"*\"*n)"
   ]
  },
  {
   "cell_type": "code",
   "execution_count": 166,
   "id": "a1c748eb",
   "metadata": {
    "execution": {
     "iopub.execute_input": "2023-11-06T16:51:27.714813Z",
     "iopub.status.busy": "2023-11-06T16:51:27.714391Z",
     "iopub.status.idle": "2023-11-06T16:51:27.719263Z",
     "shell.execute_reply": "2023-11-06T16:51:27.717956Z"
    },
    "papermill": {
     "duration": 0.112665,
     "end_time": "2023-11-06T16:51:27.721947",
     "exception": false,
     "start_time": "2023-11-06T16:51:27.609282",
     "status": "completed"
    },
    "tags": []
   },
   "outputs": [],
   "source": [
    "# 1 2 3 * * * N\n",
    "#           *\n",
    "#         *\n",
    "#       *\n",
    "#     3\n",
    "#   2\n",
    "# 1 2 3 * * * N\n"
   ]
  },
  {
   "cell_type": "code",
   "execution_count": 167,
   "id": "4ae364cb",
   "metadata": {
    "execution": {
     "iopub.execute_input": "2023-11-06T16:51:27.933911Z",
     "iopub.status.busy": "2023-11-06T16:51:27.932783Z",
     "iopub.status.idle": "2023-11-06T16:51:27.944116Z",
     "shell.execute_reply": "2023-11-06T16:51:27.942523Z"
    },
    "papermill": {
     "duration": 0.118547,
     "end_time": "2023-11-06T16:51:27.946523",
     "exception": false,
     "start_time": "2023-11-06T16:51:27.827976",
     "status": "completed"
    },
    "tags": []
   },
   "outputs": [
    {
     "name": "stdout",
     "output_type": "stream",
     "text": [
      "1 2 3 * * * N\n",
      "\n",
      "          *\n",
      "        *\n",
      "      *\n",
      "    3\n",
      "  2\n",
      "1 2 3 * * * N\n"
     ]
    }
   ],
   "source": [
    "for i in range(3):\n",
    "    print(i+1, end=\" \")\n",
    "for j in range(3):\n",
    "    print(\"* \",end=\"\")\n",
    "print(\"N\")\n",
    "\n",
    "print()\n",
    "for k in range(3):\n",
    "    print(\" \"*(2*(5-k)),end=\"\")\n",
    "    print(\"*\")\n",
    "for m in range(2):\n",
    "    print(\" \"*(2*(2-m)),end=\"\")\n",
    "    print(3-m)   \n",
    "    \n",
    "    \n",
    "for i in range(3):\n",
    "    print(i+1, end=\" \")\n",
    "for j in range(3):\n",
    "    print(\"* \",end=\"\")\n",
    "print(\"N\")"
   ]
  },
  {
   "cell_type": "code",
   "execution_count": 168,
   "id": "b50d420a",
   "metadata": {
    "execution": {
     "iopub.execute_input": "2023-11-06T16:51:28.151332Z",
     "iopub.status.busy": "2023-11-06T16:51:28.150274Z",
     "iopub.status.idle": "2023-11-06T16:51:28.158263Z",
     "shell.execute_reply": "2023-11-06T16:51:28.156570Z"
    },
    "papermill": {
     "duration": 0.112132,
     "end_time": "2023-11-06T16:51:28.160472",
     "exception": false,
     "start_time": "2023-11-06T16:51:28.048340",
     "status": "completed"
    },
    "tags": []
   },
   "outputs": [
    {
     "name": "stdout",
     "output_type": "stream",
     "text": [
      "prasad  is not eligible\n"
     ]
    }
   ],
   "source": [
    "m1 = 80\n",
    "m2 = 40\n",
    "student = \"prasad\"\n",
    "\n",
    "\n",
    "if m1 > 50 and m2 > 50 :\n",
    "    print(student , \" is eligible\")\n",
    "else :\n",
    "    print(student,\" is not eligible\")"
   ]
  },
  {
   "cell_type": "code",
   "execution_count": 169,
   "id": "48ddc6f5",
   "metadata": {
    "execution": {
     "iopub.execute_input": "2023-11-06T16:51:28.364368Z",
     "iopub.status.busy": "2023-11-06T16:51:28.362958Z",
     "iopub.status.idle": "2023-11-06T16:51:28.370997Z",
     "shell.execute_reply": "2023-11-06T16:51:28.369668Z"
    },
    "papermill": {
     "duration": 0.111996,
     "end_time": "2023-11-06T16:51:28.373276",
     "exception": false,
     "start_time": "2023-11-06T16:51:28.261280",
     "status": "completed"
    },
    "tags": []
   },
   "outputs": [
    {
     "name": "stdout",
     "output_type": "stream",
     "text": [
      "sushmitha  is eligible\n"
     ]
    }
   ],
   "source": [
    "m1 = 70\n",
    "m2 = 80\n",
    "student = \"sushmitha\"\n",
    "if m1 > 50 and m2 > 50 :\n",
    "    print(student , \" is eligible\")\n",
    "else :\n",
    "    print(student,\" is not eligible\")\n"
   ]
  },
  {
   "cell_type": "code",
   "execution_count": 170,
   "id": "a2203493",
   "metadata": {
    "execution": {
     "iopub.execute_input": "2023-11-06T16:51:28.575378Z",
     "iopub.status.busy": "2023-11-06T16:51:28.574523Z",
     "iopub.status.idle": "2023-11-06T16:51:28.580233Z",
     "shell.execute_reply": "2023-11-06T16:51:28.579311Z"
    },
    "papermill": {
     "duration": 0.109163,
     "end_time": "2023-11-06T16:51:28.582417",
     "exception": false,
     "start_time": "2023-11-06T16:51:28.473254",
     "status": "completed"
    },
    "tags": []
   },
   "outputs": [],
   "source": [
    "def level(a,b,student) :\n",
    "    c = a+b\n",
    "    print(student,\" got \", c ,\" marks\")"
   ]
  },
  {
   "cell_type": "code",
   "execution_count": 171,
   "id": "773635a2",
   "metadata": {
    "execution": {
     "iopub.execute_input": "2023-11-06T16:51:28.784084Z",
     "iopub.status.busy": "2023-11-06T16:51:28.783414Z",
     "iopub.status.idle": "2023-11-06T16:51:28.789517Z",
     "shell.execute_reply": "2023-11-06T16:51:28.788169Z"
    },
    "papermill": {
     "duration": 0.109882,
     "end_time": "2023-11-06T16:51:28.791828",
     "exception": false,
     "start_time": "2023-11-06T16:51:28.681946",
     "status": "completed"
    },
    "tags": []
   },
   "outputs": [
    {
     "name": "stdout",
     "output_type": "stream",
     "text": [
      "prasad  got  90  marks\n"
     ]
    }
   ],
   "source": [
    "level(40,50,\"prasad\")"
   ]
  },
  {
   "cell_type": "code",
   "execution_count": 172,
   "id": "6b0f421e",
   "metadata": {
    "execution": {
     "iopub.execute_input": "2023-11-06T16:51:28.996875Z",
     "iopub.status.busy": "2023-11-06T16:51:28.996423Z",
     "iopub.status.idle": "2023-11-06T16:51:29.002973Z",
     "shell.execute_reply": "2023-11-06T16:51:29.001500Z"
    },
    "papermill": {
     "duration": 0.112029,
     "end_time": "2023-11-06T16:51:29.005460",
     "exception": false,
     "start_time": "2023-11-06T16:51:28.893431",
     "status": "completed"
    },
    "tags": []
   },
   "outputs": [
    {
     "name": "stdout",
     "output_type": "stream",
     "text": [
      "sush  got  130  marks\n"
     ]
    }
   ],
   "source": [
    "level(80,50,\"sush\")"
   ]
  },
  {
   "cell_type": "code",
   "execution_count": 173,
   "id": "5d70c5ef",
   "metadata": {
    "execution": {
     "iopub.execute_input": "2023-11-06T16:51:29.211418Z",
     "iopub.status.busy": "2023-11-06T16:51:29.210674Z",
     "iopub.status.idle": "2023-11-06T16:51:29.217993Z",
     "shell.execute_reply": "2023-11-06T16:51:29.216786Z"
    },
    "papermill": {
     "duration": 0.112391,
     "end_time": "2023-11-06T16:51:29.220258",
     "exception": false,
     "start_time": "2023-11-06T16:51:29.107867",
     "status": "completed"
    },
    "tags": []
   },
   "outputs": [
    {
     "name": "stdout",
     "output_type": "stream",
     "text": [
      "--\n",
      "50\n",
      "def  is not eligible\n"
     ]
    }
   ],
   "source": [
    "\n",
    "\n",
    "def marks (m1,m2,student=\"def\"):\n",
    "    print(m1)\n",
    "    if m1 > 50 and m2 > 50 :\n",
    "        print(student , \" is eligible\")\n",
    "    else :\n",
    "        print(student,\" is not eligible\")\n",
    "        \n",
    "        \n",
    "        \n",
    "print(\"--\")\n",
    "\n",
    "        \n",
    "        \n",
    "        \n",
    "        \n",
    "marks(m1=50,m2=40)"
   ]
  },
  {
   "cell_type": "code",
   "execution_count": 174,
   "id": "dfdb5552",
   "metadata": {
    "execution": {
     "iopub.execute_input": "2023-11-06T16:51:29.421938Z",
     "iopub.status.busy": "2023-11-06T16:51:29.421456Z",
     "iopub.status.idle": "2023-11-06T16:51:29.427095Z",
     "shell.execute_reply": "2023-11-06T16:51:29.426258Z"
    },
    "papermill": {
     "duration": 0.109427,
     "end_time": "2023-11-06T16:51:29.429379",
     "exception": false,
     "start_time": "2023-11-06T16:51:29.319952",
     "status": "completed"
    },
    "tags": []
   },
   "outputs": [
    {
     "name": "stdout",
     "output_type": "stream",
     "text": [
      "80\n",
      "swapna  is eligible\n"
     ]
    }
   ],
   "source": [
    "marks(student = \"swapna\",m2=90,m1=80)"
   ]
  },
  {
   "cell_type": "code",
   "execution_count": 175,
   "id": "b078b29a",
   "metadata": {
    "execution": {
     "iopub.execute_input": "2023-11-06T16:51:29.634394Z",
     "iopub.status.busy": "2023-11-06T16:51:29.633945Z",
     "iopub.status.idle": "2023-11-06T16:51:29.639222Z",
     "shell.execute_reply": "2023-11-06T16:51:29.637849Z"
    },
    "papermill": {
     "duration": 0.109816,
     "end_time": "2023-11-06T16:51:29.641543",
     "exception": false,
     "start_time": "2023-11-06T16:51:29.531727",
     "status": "completed"
    },
    "tags": []
   },
   "outputs": [],
   "source": [
    "# marks(\"student\",90,80)"
   ]
  },
  {
   "cell_type": "code",
   "execution_count": 176,
   "id": "6d915eda",
   "metadata": {
    "execution": {
     "iopub.execute_input": "2023-11-06T16:51:29.846030Z",
     "iopub.status.busy": "2023-11-06T16:51:29.845547Z",
     "iopub.status.idle": "2023-11-06T16:51:29.852347Z",
     "shell.execute_reply": "2023-11-06T16:51:29.850623Z"
    },
    "papermill": {
     "duration": 0.111826,
     "end_time": "2023-11-06T16:51:29.855214",
     "exception": false,
     "start_time": "2023-11-06T16:51:29.743388",
     "status": "completed"
    },
    "tags": []
   },
   "outputs": [
    {
     "name": "stdout",
     "output_type": "stream",
     "text": [
      "30\n",
      "parth  is not eligible\n"
     ]
    }
   ],
   "source": [
    "marks(30,30,\"parth\")"
   ]
  },
  {
   "cell_type": "code",
   "execution_count": 177,
   "id": "1ac30042",
   "metadata": {
    "execution": {
     "iopub.execute_input": "2023-11-06T16:51:30.140250Z",
     "iopub.status.busy": "2023-11-06T16:51:30.139486Z",
     "iopub.status.idle": "2023-11-06T16:51:30.145902Z",
     "shell.execute_reply": "2023-11-06T16:51:30.144490Z"
    },
    "papermill": {
     "duration": 0.112634,
     "end_time": "2023-11-06T16:51:30.148212",
     "exception": false,
     "start_time": "2023-11-06T16:51:30.035578",
     "status": "completed"
    },
    "tags": []
   },
   "outputs": [
    {
     "name": "stdout",
     "output_type": "stream",
     "text": [
      "90\n",
      "tayyab  is eligible\n"
     ]
    }
   ],
   "source": [
    "marks(90,90,\"tayyab\")"
   ]
  },
  {
   "cell_type": "code",
   "execution_count": 178,
   "id": "e5006406",
   "metadata": {
    "execution": {
     "iopub.execute_input": "2023-11-06T16:51:30.352640Z",
     "iopub.status.busy": "2023-11-06T16:51:30.351080Z",
     "iopub.status.idle": "2023-11-06T16:51:30.359151Z",
     "shell.execute_reply": "2023-11-06T16:51:30.357794Z"
    },
    "papermill": {
     "duration": 0.11243,
     "end_time": "2023-11-06T16:51:30.361618",
     "exception": false,
     "start_time": "2023-11-06T16:51:30.249188",
     "status": "completed"
    },
    "tags": []
   },
   "outputs": [
    {
     "name": "stdout",
     "output_type": "stream",
     "text": [
      "0\n",
      "st  is not eligible\n"
     ]
    }
   ],
   "source": [
    "\n",
    "\n",
    "def marks (m1=0,m2=0,student=\"st\") :\n",
    "    print(m1)\n",
    "    if m1 > 50 and m2 > 50 :\n",
    "        print(student , \" is eligible\")\n",
    "    else :\n",
    "        print(student,\" is not eligible\")\n",
    "        \n",
    "marks()"
   ]
  },
  {
   "cell_type": "code",
   "execution_count": 179,
   "id": "96158896",
   "metadata": {
    "execution": {
     "iopub.execute_input": "2023-11-06T16:51:30.566393Z",
     "iopub.status.busy": "2023-11-06T16:51:30.565970Z",
     "iopub.status.idle": "2023-11-06T16:51:30.570584Z",
     "shell.execute_reply": "2023-11-06T16:51:30.569473Z"
    },
    "papermill": {
     "duration": 0.109522,
     "end_time": "2023-11-06T16:51:30.572806",
     "exception": false,
     "start_time": "2023-11-06T16:51:30.463284",
     "status": "completed"
    },
    "tags": []
   },
   "outputs": [],
   "source": [
    "# print \n",
    "# return"
   ]
  },
  {
   "cell_type": "code",
   "execution_count": 180,
   "id": "d3956584",
   "metadata": {
    "execution": {
     "iopub.execute_input": "2023-11-06T16:51:30.776131Z",
     "iopub.status.busy": "2023-11-06T16:51:30.774968Z",
     "iopub.status.idle": "2023-11-06T16:51:30.781676Z",
     "shell.execute_reply": "2023-11-06T16:51:30.780853Z"
    },
    "papermill": {
     "duration": 0.111523,
     "end_time": "2023-11-06T16:51:30.784460",
     "exception": false,
     "start_time": "2023-11-06T16:51:30.672937",
     "status": "completed"
    },
    "tags": []
   },
   "outputs": [
    {
     "name": "stdout",
     "output_type": "stream",
     "text": [
      "---- 15\n"
     ]
    }
   ],
   "source": [
    "def add (a,b) :\n",
    "    c = a+b\n",
    "    return c\n",
    "\n",
    "p= add(5,10)\n",
    "print(\"----\",p)"
   ]
  },
  {
   "cell_type": "code",
   "execution_count": 181,
   "id": "2d0fdc55",
   "metadata": {
    "execution": {
     "iopub.execute_input": "2023-11-06T16:51:30.998818Z",
     "iopub.status.busy": "2023-11-06T16:51:30.997908Z",
     "iopub.status.idle": "2023-11-06T16:51:31.004331Z",
     "shell.execute_reply": "2023-11-06T16:51:31.003529Z"
    },
    "papermill": {
     "duration": 0.115447,
     "end_time": "2023-11-06T16:51:31.006863",
     "exception": false,
     "start_time": "2023-11-06T16:51:30.891416",
     "status": "completed"
    },
    "tags": []
   },
   "outputs": [
    {
     "name": "stdout",
     "output_type": "stream",
     "text": [
      "15\n",
      "---- None\n"
     ]
    }
   ],
   "source": [
    "def add (a,b) :\n",
    "    c = a+b\n",
    "    print(c)\n",
    "\n",
    "p = add(5,10)\n",
    "print(\"----\",p)"
   ]
  },
  {
   "cell_type": "code",
   "execution_count": 182,
   "id": "eb950f82",
   "metadata": {
    "execution": {
     "iopub.execute_input": "2023-11-06T16:51:31.215652Z",
     "iopub.status.busy": "2023-11-06T16:51:31.214797Z",
     "iopub.status.idle": "2023-11-06T16:51:31.219149Z",
     "shell.execute_reply": "2023-11-06T16:51:31.218316Z"
    },
    "papermill": {
     "duration": 0.110889,
     "end_time": "2023-11-06T16:51:31.221510",
     "exception": false,
     "start_time": "2023-11-06T16:51:31.110621",
     "status": "completed"
    },
    "tags": []
   },
   "outputs": [],
   "source": [
    "# if add(5,10 ) > 10 :\n",
    "#     print(\"eligible\")\n",
    "# else :\n",
    "#     print(\"not eligible\")"
   ]
  },
  {
   "cell_type": "code",
   "execution_count": 183,
   "id": "330f1808",
   "metadata": {
    "execution": {
     "iopub.execute_input": "2023-11-06T16:51:31.426302Z",
     "iopub.status.busy": "2023-11-06T16:51:31.425439Z",
     "iopub.status.idle": "2023-11-06T16:51:31.433064Z",
     "shell.execute_reply": "2023-11-06T16:51:31.431884Z"
    },
    "papermill": {
     "duration": 0.11311,
     "end_time": "2023-11-06T16:51:31.435538",
     "exception": false,
     "start_time": "2023-11-06T16:51:31.322428",
     "status": "completed"
    },
    "tags": []
   },
   "outputs": [
    {
     "data": {
      "text/plain": [
       "15"
      ]
     },
     "execution_count": 183,
     "metadata": {},
     "output_type": "execute_result"
    }
   ],
   "source": [
    "def add (a,b) :\n",
    "    c = a+b\n",
    "    return c\n",
    "\n",
    "add(5,10)"
   ]
  },
  {
   "cell_type": "code",
   "execution_count": 184,
   "id": "60fd2030",
   "metadata": {
    "execution": {
     "iopub.execute_input": "2023-11-06T16:51:31.642008Z",
     "iopub.status.busy": "2023-11-06T16:51:31.641157Z",
     "iopub.status.idle": "2023-11-06T16:51:31.648200Z",
     "shell.execute_reply": "2023-11-06T16:51:31.647225Z"
    },
    "papermill": {
     "duration": 0.111947,
     "end_time": "2023-11-06T16:51:31.650416",
     "exception": false,
     "start_time": "2023-11-06T16:51:31.538469",
     "status": "completed"
    },
    "tags": []
   },
   "outputs": [
    {
     "data": {
      "text/plain": [
       "17"
      ]
     },
     "execution_count": 184,
     "metadata": {},
     "output_type": "execute_result"
    }
   ],
   "source": [
    "add = lambda  a,b : a+b\n",
    "add(7,10)"
   ]
  },
  {
   "cell_type": "code",
   "execution_count": 185,
   "id": "5cb16493",
   "metadata": {
    "execution": {
     "iopub.execute_input": "2023-11-06T16:51:31.879836Z",
     "iopub.status.busy": "2023-11-06T16:51:31.878969Z",
     "iopub.status.idle": "2023-11-06T16:51:31.886293Z",
     "shell.execute_reply": "2023-11-06T16:51:31.885286Z"
    },
    "papermill": {
     "duration": 0.128404,
     "end_time": "2023-11-06T16:51:31.888630",
     "exception": false,
     "start_time": "2023-11-06T16:51:31.760226",
     "status": "completed"
    },
    "tags": []
   },
   "outputs": [
    {
     "data": {
      "text/plain": [
       "30"
      ]
     },
     "execution_count": 185,
     "metadata": {},
     "output_type": "execute_result"
    }
   ],
   "source": [
    "add(10,20)"
   ]
  },
  {
   "cell_type": "code",
   "execution_count": 186,
   "id": "9cdda02a",
   "metadata": {
    "execution": {
     "iopub.execute_input": "2023-11-06T16:51:32.124162Z",
     "iopub.status.busy": "2023-11-06T16:51:32.123751Z",
     "iopub.status.idle": "2023-11-06T16:51:32.128559Z",
     "shell.execute_reply": "2023-11-06T16:51:32.127021Z"
    },
    "papermill": {
     "duration": 0.127864,
     "end_time": "2023-11-06T16:51:32.131700",
     "exception": false,
     "start_time": "2023-11-06T16:51:32.003836",
     "status": "completed"
    },
    "tags": []
   },
   "outputs": [],
   "source": [
    "# list comprehenison :  list + for loop / any loop"
   ]
  },
  {
   "cell_type": "code",
   "execution_count": 187,
   "id": "15cff52a",
   "metadata": {
    "execution": {
     "iopub.execute_input": "2023-11-06T16:51:32.353584Z",
     "iopub.status.busy": "2023-11-06T16:51:32.352647Z",
     "iopub.status.idle": "2023-11-06T16:51:32.362026Z",
     "shell.execute_reply": "2023-11-06T16:51:32.360567Z"
    },
    "papermill": {
     "duration": 0.119077,
     "end_time": "2023-11-06T16:51:32.364505",
     "exception": false,
     "start_time": "2023-11-06T16:51:32.245428",
     "status": "completed"
    },
    "tags": []
   },
   "outputs": [
    {
     "data": {
      "text/plain": [
       "[20, 30]"
      ]
     },
     "execution_count": 187,
     "metadata": {},
     "output_type": "execute_result"
    }
   ],
   "source": [
    "a = [20 ,25,30,35]\n",
    "\n",
    "even = []\n",
    "\n",
    "for i in a :\n",
    "    if i%2 == 0 :\n",
    "        even.append(i)\n",
    "        \n",
    "        \n",
    "        \n",
    "even"
   ]
  },
  {
   "cell_type": "code",
   "execution_count": 188,
   "id": "a2c5d79d",
   "metadata": {
    "execution": {
     "iopub.execute_input": "2023-11-06T16:51:32.588361Z",
     "iopub.status.busy": "2023-11-06T16:51:32.587484Z",
     "iopub.status.idle": "2023-11-06T16:51:32.595656Z",
     "shell.execute_reply": "2023-11-06T16:51:32.594671Z"
    },
    "papermill": {
     "duration": 0.122147,
     "end_time": "2023-11-06T16:51:32.598034",
     "exception": false,
     "start_time": "2023-11-06T16:51:32.475887",
     "status": "completed"
    },
    "tags": []
   },
   "outputs": [
    {
     "data": {
      "text/plain": [
       "[20, 30]"
      ]
     },
     "execution_count": 188,
     "metadata": {},
     "output_type": "execute_result"
    }
   ],
   "source": [
    "a = [20 ,25,30,35]\n",
    "\n",
    "even = [  i  for i in a  if i%2 == 0   ]       \n",
    "        \n",
    "        \n",
    "even"
   ]
  },
  {
   "cell_type": "code",
   "execution_count": 189,
   "id": "1b643f8a",
   "metadata": {
    "execution": {
     "iopub.execute_input": "2023-11-06T16:51:32.814921Z",
     "iopub.status.busy": "2023-11-06T16:51:32.814024Z",
     "iopub.status.idle": "2023-11-06T16:51:32.822388Z",
     "shell.execute_reply": "2023-11-06T16:51:32.821416Z"
    },
    "papermill": {
     "duration": 0.120732,
     "end_time": "2023-11-06T16:51:32.824744",
     "exception": false,
     "start_time": "2023-11-06T16:51:32.704012",
     "status": "completed"
    },
    "tags": []
   },
   "outputs": [
    {
     "data": {
      "text/plain": [
       "{20: 'Abhi', 30: 'Abhi'}"
      ]
     },
     "execution_count": 189,
     "metadata": {},
     "output_type": "execute_result"
    }
   ],
   "source": [
    "a = [20 ,25,30,35]\n",
    "\n",
    "even = { i: \"Abhi\"  for i in a  if i%2 == 0   }       \n",
    "        \n",
    "        \n",
    "even"
   ]
  },
  {
   "cell_type": "code",
   "execution_count": 190,
   "id": "4829d258",
   "metadata": {
    "execution": {
     "iopub.execute_input": "2023-11-06T16:51:33.044352Z",
     "iopub.status.busy": "2023-11-06T16:51:33.043542Z",
     "iopub.status.idle": "2023-11-06T16:51:33.047882Z",
     "shell.execute_reply": "2023-11-06T16:51:33.046980Z"
    },
    "papermill": {
     "duration": 0.116708,
     "end_time": "2023-11-06T16:51:33.050101",
     "exception": false,
     "start_time": "2023-11-06T16:51:32.933393",
     "status": "completed"
    },
    "tags": []
   },
   "outputs": [],
   "source": [
    "# break continue pass"
   ]
  },
  {
   "cell_type": "code",
   "execution_count": 191,
   "id": "0a2bc84e",
   "metadata": {
    "execution": {
     "iopub.execute_input": "2023-11-06T16:51:33.259330Z",
     "iopub.status.busy": "2023-11-06T16:51:33.258480Z",
     "iopub.status.idle": "2023-11-06T16:51:33.263654Z",
     "shell.execute_reply": "2023-11-06T16:51:33.262823Z"
    },
    "papermill": {
     "duration": 0.112053,
     "end_time": "2023-11-06T16:51:33.266145",
     "exception": false,
     "start_time": "2023-11-06T16:51:33.154092",
     "status": "completed"
    },
    "tags": []
   },
   "outputs": [],
   "source": [
    "def add(a,b):\n",
    "    pass\n",
    "    \n",
    "add(8,9)"
   ]
  },
  {
   "cell_type": "code",
   "execution_count": 192,
   "id": "76f85841",
   "metadata": {
    "execution": {
     "iopub.execute_input": "2023-11-06T16:51:33.472776Z",
     "iopub.status.busy": "2023-11-06T16:51:33.472284Z",
     "iopub.status.idle": "2023-11-06T16:51:33.478515Z",
     "shell.execute_reply": "2023-11-06T16:51:33.477426Z"
    },
    "papermill": {
     "duration": 0.112736,
     "end_time": "2023-11-06T16:51:33.481245",
     "exception": false,
     "start_time": "2023-11-06T16:51:33.368509",
     "status": "completed"
    },
    "tags": []
   },
   "outputs": [
    {
     "name": "stdout",
     "output_type": "stream",
     "text": [
      "0\n",
      "1\n",
      "2\n"
     ]
    }
   ],
   "source": [
    "for i in range(5):\n",
    "    if i == 3 :\n",
    "        break\n",
    "    print(i)"
   ]
  },
  {
   "cell_type": "code",
   "execution_count": 193,
   "id": "94dbd064",
   "metadata": {
    "execution": {
     "iopub.execute_input": "2023-11-06T16:51:33.686568Z",
     "iopub.status.busy": "2023-11-06T16:51:33.685805Z",
     "iopub.status.idle": "2023-11-06T16:51:33.692378Z",
     "shell.execute_reply": "2023-11-06T16:51:33.690868Z"
    },
    "papermill": {
     "duration": 0.112368,
     "end_time": "2023-11-06T16:51:33.694972",
     "exception": false,
     "start_time": "2023-11-06T16:51:33.582604",
     "status": "completed"
    },
    "tags": []
   },
   "outputs": [
    {
     "name": "stdout",
     "output_type": "stream",
     "text": [
      "0\n",
      "1\n",
      "2\n",
      "4\n"
     ]
    }
   ],
   "source": [
    "for i in range(5):\n",
    "    if i == 3 :\n",
    "        continue\n",
    "    print(i)"
   ]
  },
  {
   "cell_type": "code",
   "execution_count": 194,
   "id": "903352c5",
   "metadata": {
    "execution": {
     "iopub.execute_input": "2023-11-06T16:51:33.913329Z",
     "iopub.status.busy": "2023-11-06T16:51:33.912332Z",
     "iopub.status.idle": "2023-11-06T16:51:33.916681Z",
     "shell.execute_reply": "2023-11-06T16:51:33.915893Z"
    },
    "papermill": {
     "duration": 0.117284,
     "end_time": "2023-11-06T16:51:33.919347",
     "exception": false,
     "start_time": "2023-11-06T16:51:33.802063",
     "status": "completed"
    },
    "tags": []
   },
   "outputs": [],
   "source": [
    "# \\n = new line \\t tab"
   ]
  },
  {
   "cell_type": "code",
   "execution_count": 195,
   "id": "8637ce84",
   "metadata": {
    "execution": {
     "iopub.execute_input": "2023-11-06T16:51:34.131382Z",
     "iopub.status.busy": "2023-11-06T16:51:34.130963Z",
     "iopub.status.idle": "2023-11-06T16:51:34.137626Z",
     "shell.execute_reply": "2023-11-06T16:51:34.136017Z"
    },
    "papermill": {
     "duration": 0.114398,
     "end_time": "2023-11-06T16:51:34.140017",
     "exception": false,
     "start_time": "2023-11-06T16:51:34.025619",
     "status": "completed"
    },
    "tags": []
   },
   "outputs": [
    {
     "name": "stdout",
     "output_type": "stream",
     "text": [
      "mlv\n",
      "prasad\n"
     ]
    }
   ],
   "source": [
    "print(\"mlv\")\n",
    "print(\"prasad\")"
   ]
  },
  {
   "cell_type": "code",
   "execution_count": 196,
   "id": "ba2c0bac",
   "metadata": {
    "execution": {
     "iopub.execute_input": "2023-11-06T16:51:34.348367Z",
     "iopub.status.busy": "2023-11-06T16:51:34.347875Z",
     "iopub.status.idle": "2023-11-06T16:51:34.354899Z",
     "shell.execute_reply": "2023-11-06T16:51:34.353508Z"
    },
    "papermill": {
     "duration": 0.115,
     "end_time": "2023-11-06T16:51:34.357269",
     "exception": false,
     "start_time": "2023-11-06T16:51:34.242269",
     "status": "completed"
    },
    "tags": []
   },
   "outputs": [
    {
     "name": "stdout",
     "output_type": "stream",
     "text": [
      "mlv\n",
      "prasad\n"
     ]
    }
   ],
   "source": [
    "print(\"mlv\\nprasad\")"
   ]
  },
  {
   "cell_type": "code",
   "execution_count": 197,
   "id": "c4ddc871",
   "metadata": {
    "execution": {
     "iopub.execute_input": "2023-11-06T16:51:34.625988Z",
     "iopub.status.busy": "2023-11-06T16:51:34.625515Z",
     "iopub.status.idle": "2023-11-06T16:51:34.631029Z",
     "shell.execute_reply": "2023-11-06T16:51:34.630086Z"
    },
    "papermill": {
     "duration": 0.173559,
     "end_time": "2023-11-06T16:51:34.633410",
     "exception": false,
     "start_time": "2023-11-06T16:51:34.459851",
     "status": "completed"
    },
    "tags": []
   },
   "outputs": [
    {
     "name": "stdout",
     "output_type": "stream",
     "text": [
      "mlv    prasad    is    a    good    boy\n"
     ]
    }
   ],
   "source": [
    "print(\"mlv    prasad    is    a    good    boy\")"
   ]
  },
  {
   "cell_type": "code",
   "execution_count": 198,
   "id": "7aea65bc",
   "metadata": {
    "execution": {
     "iopub.execute_input": "2023-11-06T16:51:34.843855Z",
     "iopub.status.busy": "2023-11-06T16:51:34.843434Z",
     "iopub.status.idle": "2023-11-06T16:51:34.848870Z",
     "shell.execute_reply": "2023-11-06T16:51:34.847809Z"
    },
    "papermill": {
     "duration": 0.113725,
     "end_time": "2023-11-06T16:51:34.851454",
     "exception": false,
     "start_time": "2023-11-06T16:51:34.737729",
     "status": "completed"
    },
    "tags": []
   },
   "outputs": [
    {
     "name": "stdout",
     "output_type": "stream",
     "text": [
      "mlv\tprasad\tis\ta\tgood\tboy\n"
     ]
    }
   ],
   "source": [
    "print(\"mlv\\tprasad\\tis\\ta\\tgood\\tboy\")"
   ]
  },
  {
   "cell_type": "code",
   "execution_count": 199,
   "id": "a84d1510",
   "metadata": {
    "execution": {
     "iopub.execute_input": "2023-11-06T16:51:35.059597Z",
     "iopub.status.busy": "2023-11-06T16:51:35.059141Z",
     "iopub.status.idle": "2023-11-06T16:51:35.063727Z",
     "shell.execute_reply": "2023-11-06T16:51:35.062597Z"
    },
    "papermill": {
     "duration": 0.112117,
     "end_time": "2023-11-06T16:51:35.066260",
     "exception": false,
     "start_time": "2023-11-06T16:51:34.954143",
     "status": "completed"
    },
    "tags": []
   },
   "outputs": [],
   "source": [
    "# * * * * *\n",
    "# * * * *\n",
    "# * * * \n",
    "# * * \n",
    "# *"
   ]
  },
  {
   "cell_type": "code",
   "execution_count": 200,
   "id": "0714f7e8",
   "metadata": {
    "execution": {
     "iopub.execute_input": "2023-11-06T16:51:35.276885Z",
     "iopub.status.busy": "2023-11-06T16:51:35.276404Z",
     "iopub.status.idle": "2023-11-06T16:51:35.282804Z",
     "shell.execute_reply": "2023-11-06T16:51:35.281545Z"
    },
    "papermill": {
     "duration": 0.11437,
     "end_time": "2023-11-06T16:51:35.285719",
     "exception": false,
     "start_time": "2023-11-06T16:51:35.171349",
     "status": "completed"
    },
    "tags": []
   },
   "outputs": [
    {
     "name": "stdout",
     "output_type": "stream",
     "text": [
      "* * * * * \n",
      "* * * * \n",
      "* * * \n",
      "* * \n",
      "* \n"
     ]
    }
   ],
   "source": [
    "for i in range(5):\n",
    "    print(\"* \"*(5-i))"
   ]
  },
  {
   "cell_type": "code",
   "execution_count": null,
   "id": "4cfd7756",
   "metadata": {
    "papermill": {
     "duration": 0.109004,
     "end_time": "2023-11-06T16:51:35.506593",
     "exception": false,
     "start_time": "2023-11-06T16:51:35.397589",
     "status": "completed"
    },
    "tags": []
   },
   "outputs": [],
   "source": []
  },
  {
   "cell_type": "markdown",
   "id": "ac6659c9",
   "metadata": {
    "papermill": {
     "duration": 0.108123,
     "end_time": "2023-11-06T16:51:35.723974",
     "exception": false,
     "start_time": "2023-11-06T16:51:35.615851",
     "status": "completed"
    },
    "tags": []
   },
   "source": [
    "## filter\n",
    "## reduce\n",
    "## map\n",
    "## zip"
   ]
  },
  {
   "cell_type": "code",
   "execution_count": 201,
   "id": "689a6124",
   "metadata": {
    "execution": {
     "iopub.execute_input": "2023-11-06T16:51:35.951791Z",
     "iopub.status.busy": "2023-11-06T16:51:35.951347Z",
     "iopub.status.idle": "2023-11-06T16:51:35.956119Z",
     "shell.execute_reply": "2023-11-06T16:51:35.954856Z"
    },
    "papermill": {
     "duration": 0.124441,
     "end_time": "2023-11-06T16:51:35.959391",
     "exception": false,
     "start_time": "2023-11-06T16:51:35.834950",
     "status": "completed"
    },
    "tags": []
   },
   "outputs": [],
   "source": [
    "# filter "
   ]
  },
  {
   "cell_type": "code",
   "execution_count": 202,
   "id": "a1941bea",
   "metadata": {
    "execution": {
     "iopub.execute_input": "2023-11-06T16:51:36.181160Z",
     "iopub.status.busy": "2023-11-06T16:51:36.180763Z",
     "iopub.status.idle": "2023-11-06T16:51:36.189815Z",
     "shell.execute_reply": "2023-11-06T16:51:36.188575Z"
    },
    "papermill": {
     "duration": 0.118073,
     "end_time": "2023-11-06T16:51:36.192314",
     "exception": false,
     "start_time": "2023-11-06T16:51:36.074241",
     "status": "completed"
    },
    "tags": []
   },
   "outputs": [
    {
     "data": {
      "text/plain": [
       "[10, 12, 14, 16]"
      ]
     },
     "execution_count": 202,
     "metadata": {},
     "output_type": "execute_result"
    }
   ],
   "source": [
    "a  =  [10,11,12,13,14,15,16]\n",
    "\n",
    "\n",
    "b = []\n",
    "for i in range(len(a)) :\n",
    "    if a[i] % 2 == 0 :\n",
    "        b.append(a[i])\n",
    "        \n",
    "b"
   ]
  },
  {
   "cell_type": "code",
   "execution_count": 203,
   "id": "7dc6d3c1",
   "metadata": {
    "execution": {
     "iopub.execute_input": "2023-11-06T16:51:36.400538Z",
     "iopub.status.busy": "2023-11-06T16:51:36.400055Z",
     "iopub.status.idle": "2023-11-06T16:51:36.410845Z",
     "shell.execute_reply": "2023-11-06T16:51:36.409334Z"
    },
    "papermill": {
     "duration": 0.118535,
     "end_time": "2023-11-06T16:51:36.414400",
     "exception": false,
     "start_time": "2023-11-06T16:51:36.295865",
     "status": "completed"
    },
    "tags": []
   },
   "outputs": [
    {
     "data": {
      "text/plain": [
       "[40, 12, 14, 16]"
      ]
     },
     "execution_count": 203,
     "metadata": {},
     "output_type": "execute_result"
    }
   ],
   "source": [
    "a  =  [40,11,12,13,14,15,16]\n",
    "\n",
    "def even(i) :\n",
    "    return i % 2 == 0\n",
    "\n",
    "\n",
    "b = list(filter(even,a))\n",
    "b"
   ]
  },
  {
   "cell_type": "code",
   "execution_count": 204,
   "id": "bc148108",
   "metadata": {
    "execution": {
     "iopub.execute_input": "2023-11-06T16:51:36.636503Z",
     "iopub.status.busy": "2023-11-06T16:51:36.636088Z",
     "iopub.status.idle": "2023-11-06T16:51:36.644337Z",
     "shell.execute_reply": "2023-11-06T16:51:36.643012Z"
    },
    "papermill": {
     "duration": 0.123983,
     "end_time": "2023-11-06T16:51:36.646924",
     "exception": false,
     "start_time": "2023-11-06T16:51:36.522941",
     "status": "completed"
    },
    "tags": []
   },
   "outputs": [
    {
     "data": {
      "text/plain": [
       "[40, 12, 14, 16]"
      ]
     },
     "execution_count": 204,
     "metadata": {},
     "output_type": "execute_result"
    }
   ],
   "source": [
    "a  =  [40,11,12,13,14,15,16]\n",
    "\n",
    "b = list(filter(lambda p : p%2== 0,a))\n",
    "b"
   ]
  },
  {
   "cell_type": "code",
   "execution_count": 205,
   "id": "ed505b58",
   "metadata": {
    "execution": {
     "iopub.execute_input": "2023-11-06T16:51:36.867660Z",
     "iopub.status.busy": "2023-11-06T16:51:36.867186Z",
     "iopub.status.idle": "2023-11-06T16:51:36.874658Z",
     "shell.execute_reply": "2023-11-06T16:51:36.873821Z"
    },
    "papermill": {
     "duration": 0.121803,
     "end_time": "2023-11-06T16:51:36.876746",
     "exception": false,
     "start_time": "2023-11-06T16:51:36.754943",
     "status": "completed"
    },
    "tags": []
   },
   "outputs": [
    {
     "data": {
      "text/plain": [
       "['swapna', 'saraswati']"
      ]
     },
     "execution_count": 205,
     "metadata": {},
     "output_type": "execute_result"
    }
   ],
   "source": [
    "a = [\"swapna\",\"saraswati\",\"abhi\"]\n",
    "\n",
    "b = list(filter(lambda i : i[0] != \"a\"   and  i[0] != \"i\"  and  i[0] != \"o\", a))\n",
    "b"
   ]
  },
  {
   "cell_type": "code",
   "execution_count": 206,
   "id": "62c0c262",
   "metadata": {
    "execution": {
     "iopub.execute_input": "2023-11-06T16:51:37.115449Z",
     "iopub.status.busy": "2023-11-06T16:51:37.114956Z",
     "iopub.status.idle": "2023-11-06T16:51:37.123115Z",
     "shell.execute_reply": "2023-11-06T16:51:37.122009Z"
    },
    "papermill": {
     "duration": 0.141256,
     "end_time": "2023-11-06T16:51:37.125304",
     "exception": false,
     "start_time": "2023-11-06T16:51:36.984048",
     "status": "completed"
    },
    "tags": []
   },
   "outputs": [
    {
     "data": {
      "text/plain": [
       "[0, 10, 30]"
      ]
     },
     "execution_count": 206,
     "metadata": {},
     "output_type": "execute_result"
    }
   ],
   "source": [
    "a = {10,30,-10,0,30}\n",
    "b = list(filter(lambda i : i >= 0 , a))\n",
    "b"
   ]
  },
  {
   "cell_type": "code",
   "execution_count": 207,
   "id": "cd55d6b4",
   "metadata": {
    "execution": {
     "iopub.execute_input": "2023-11-06T16:51:37.335649Z",
     "iopub.status.busy": "2023-11-06T16:51:37.335194Z",
     "iopub.status.idle": "2023-11-06T16:51:37.341123Z",
     "shell.execute_reply": "2023-11-06T16:51:37.339915Z"
    },
    "papermill": {
     "duration": 0.11424,
     "end_time": "2023-11-06T16:51:37.343606",
     "exception": false,
     "start_time": "2023-11-06T16:51:37.229366",
     "status": "completed"
    },
    "tags": []
   },
   "outputs": [],
   "source": [
    "a = [\"swapna\",\"abhinav\"]"
   ]
  },
  {
   "cell_type": "code",
   "execution_count": 208,
   "id": "e93a5721",
   "metadata": {
    "execution": {
     "iopub.execute_input": "2023-11-06T16:51:37.554953Z",
     "iopub.status.busy": "2023-11-06T16:51:37.554478Z",
     "iopub.status.idle": "2023-11-06T16:51:37.563329Z",
     "shell.execute_reply": "2023-11-06T16:51:37.562247Z"
    },
    "papermill": {
     "duration": 0.117081,
     "end_time": "2023-11-06T16:51:37.565528",
     "exception": false,
     "start_time": "2023-11-06T16:51:37.448447",
     "status": "completed"
    },
    "tags": []
   },
   "outputs": [
    {
     "data": {
      "text/plain": [
       "150"
      ]
     },
     "execution_count": 208,
     "metadata": {},
     "output_type": "execute_result"
    }
   ],
   "source": [
    "# reduce \n",
    "from functools import reduce\n",
    "\n",
    "a = [10,20,30,40,50]\n",
    "b = 0\n",
    "for i in a :\n",
    "    b = b + i\n",
    "    \n",
    "b"
   ]
  },
  {
   "cell_type": "code",
   "execution_count": 209,
   "id": "01d51575",
   "metadata": {
    "execution": {
     "iopub.execute_input": "2023-11-06T16:51:37.789516Z",
     "iopub.status.busy": "2023-11-06T16:51:37.789144Z",
     "iopub.status.idle": "2023-11-06T16:51:37.795950Z",
     "shell.execute_reply": "2023-11-06T16:51:37.795100Z"
    },
    "papermill": {
     "duration": 0.120788,
     "end_time": "2023-11-06T16:51:37.798163",
     "exception": false,
     "start_time": "2023-11-06T16:51:37.677375",
     "status": "completed"
    },
    "tags": []
   },
   "outputs": [
    {
     "data": {
      "text/plain": [
       "150"
      ]
     },
     "execution_count": 209,
     "metadata": {},
     "output_type": "execute_result"
    }
   ],
   "source": [
    "\n",
    "c = [10,20,30,40,50]\n",
    "\n",
    "\n",
    "def add(p,q) :\n",
    "    return p + q\n",
    "# ini = 100 \n",
    "d = reduce(add,c)\n",
    "d"
   ]
  },
  {
   "cell_type": "code",
   "execution_count": 210,
   "id": "8f36de92",
   "metadata": {
    "execution": {
     "iopub.execute_input": "2023-11-06T16:51:38.023403Z",
     "iopub.status.busy": "2023-11-06T16:51:38.023004Z",
     "iopub.status.idle": "2023-11-06T16:51:38.031219Z",
     "shell.execute_reply": "2023-11-06T16:51:38.030160Z"
    },
    "papermill": {
     "duration": 0.123729,
     "end_time": "2023-11-06T16:51:38.033705",
     "exception": false,
     "start_time": "2023-11-06T16:51:37.909976",
     "status": "completed"
    },
    "tags": []
   },
   "outputs": [
    {
     "data": {
      "text/plain": [
       "50"
      ]
     },
     "execution_count": 210,
     "metadata": {},
     "output_type": "execute_result"
    }
   ],
   "source": [
    "c = [10,20,30,40,50]\n",
    "\n",
    "mx = c[0]\n",
    "for i in c :\n",
    "    if i > mx :\n",
    "        mx = i\n",
    "mx"
   ]
  },
  {
   "cell_type": "code",
   "execution_count": 211,
   "id": "0be03806",
   "metadata": {
    "execution": {
     "iopub.execute_input": "2023-11-06T16:51:38.251886Z",
     "iopub.status.busy": "2023-11-06T16:51:38.251451Z",
     "iopub.status.idle": "2023-11-06T16:51:38.260679Z",
     "shell.execute_reply": "2023-11-06T16:51:38.259469Z"
    },
    "papermill": {
     "duration": 0.119216,
     "end_time": "2023-11-06T16:51:38.263001",
     "exception": false,
     "start_time": "2023-11-06T16:51:38.143785",
     "status": "completed"
    },
    "tags": []
   },
   "outputs": [
    {
     "data": {
      "text/plain": [
       "770"
      ]
     },
     "execution_count": 211,
     "metadata": {},
     "output_type": "execute_result"
    }
   ],
   "source": [
    "c = [10,770,30,40,50]\n",
    "ini = int(c[0])\n",
    "def maxx(p,q):\n",
    "    if p > q :\n",
    "        return p \n",
    "    else :\n",
    "        return q\n",
    "\n",
    "    \n",
    "        \n",
    "    \n",
    "# ini = c[0]\n",
    "d = reduce(maxx,c)\n",
    "d"
   ]
  },
  {
   "cell_type": "code",
   "execution_count": 212,
   "id": "c5f39dd4",
   "metadata": {
    "execution": {
     "iopub.execute_input": "2023-11-06T16:51:38.474420Z",
     "iopub.status.busy": "2023-11-06T16:51:38.474043Z",
     "iopub.status.idle": "2023-11-06T16:51:38.483358Z",
     "shell.execute_reply": "2023-11-06T16:51:38.482197Z"
    },
    "papermill": {
     "duration": 0.117917,
     "end_time": "2023-11-06T16:51:38.485721",
     "exception": false,
     "start_time": "2023-11-06T16:51:38.367804",
     "status": "completed"
    },
    "tags": []
   },
   "outputs": [
    {
     "data": {
      "text/plain": [
       "'c001mlv c001prasad c001mentor'"
      ]
     },
     "execution_count": 212,
     "metadata": {},
     "output_type": "execute_result"
    }
   ],
   "source": [
    "d = [\"mlv\",\"prasad\",\"mentor\"]\n",
    "# d = [\"mlv prasad\",\"mentor\"]\n",
    "\n",
    "def con (p,q) :\n",
    "    if p != \"c001\":\n",
    "        return p + \" c001\" + q\n",
    "    else :\n",
    "        return p + q\n",
    "\n",
    "e = reduce(con, d,\"c001\")\n",
    "e"
   ]
  },
  {
   "cell_type": "code",
   "execution_count": 213,
   "id": "2db26ef3",
   "metadata": {
    "execution": {
     "iopub.execute_input": "2023-11-06T16:51:38.695321Z",
     "iopub.status.busy": "2023-11-06T16:51:38.694871Z",
     "iopub.status.idle": "2023-11-06T16:51:38.702354Z",
     "shell.execute_reply": "2023-11-06T16:51:38.701252Z"
    },
    "papermill": {
     "duration": 0.115494,
     "end_time": "2023-11-06T16:51:38.704787",
     "exception": false,
     "start_time": "2023-11-06T16:51:38.589293",
     "status": "completed"
    },
    "tags": []
   },
   "outputs": [
    {
     "data": {
      "text/plain": [
       "[10]"
      ]
     },
     "execution_count": 213,
     "metadata": {},
     "output_type": "execute_result"
    }
   ],
   "source": [
    "a = [10,29,32]\n",
    "\n",
    "b = list(filter( lambda x : x < 15  , a))\n",
    "b"
   ]
  },
  {
   "cell_type": "code",
   "execution_count": 214,
   "id": "cadc8caa",
   "metadata": {
    "execution": {
     "iopub.execute_input": "2023-11-06T16:51:38.915706Z",
     "iopub.status.busy": "2023-11-06T16:51:38.915244Z",
     "iopub.status.idle": "2023-11-06T16:51:38.923287Z",
     "shell.execute_reply": "2023-11-06T16:51:38.922180Z"
    },
    "papermill": {
     "duration": 0.115924,
     "end_time": "2023-11-06T16:51:38.925625",
     "exception": false,
     "start_time": "2023-11-06T16:51:38.809701",
     "status": "completed"
    },
    "tags": []
   },
   "outputs": [
    {
     "data": {
      "text/plain": [
       "'mlv prasad mentor'"
      ]
     },
     "execution_count": 214,
     "metadata": {},
     "output_type": "execute_result"
    }
   ],
   "source": [
    "d = [\"mlv\",\"prasad\",\"mentor\"]\n",
    "e = reduce(lambda x,y : x + \" \" + y, d)\n",
    "e"
   ]
  },
  {
   "cell_type": "code",
   "execution_count": 215,
   "id": "39d9d3d7",
   "metadata": {
    "execution": {
     "iopub.execute_input": "2023-11-06T16:51:39.139045Z",
     "iopub.status.busy": "2023-11-06T16:51:39.138605Z",
     "iopub.status.idle": "2023-11-06T16:51:39.147451Z",
     "shell.execute_reply": "2023-11-06T16:51:39.145933Z"
    },
    "papermill": {
     "duration": 0.117889,
     "end_time": "2023-11-06T16:51:39.149608",
     "exception": false,
     "start_time": "2023-11-06T16:51:39.031719",
     "status": "completed"
    },
    "tags": []
   },
   "outputs": [
    {
     "data": {
      "text/plain": [
       "[100, 625, 900, 1225, 2500]"
      ]
     },
     "execution_count": 215,
     "metadata": {},
     "output_type": "execute_result"
    }
   ],
   "source": [
    "#map\n",
    "\n",
    "a = [10,25,30,35,50]\n",
    "\n",
    "# fil  = [10,30,50]\n",
    "\n",
    "# reduce = one final ans \n",
    "\n",
    "#map - apply some function on all elememts\n",
    "\n",
    "\n",
    "b = []\n",
    "for i in a :\n",
    "    b.append(i**2)\n",
    "b\n",
    "\n"
   ]
  },
  {
   "cell_type": "code",
   "execution_count": 216,
   "id": "3c06c0e4",
   "metadata": {
    "execution": {
     "iopub.execute_input": "2023-11-06T16:51:39.361307Z",
     "iopub.status.busy": "2023-11-06T16:51:39.360820Z",
     "iopub.status.idle": "2023-11-06T16:51:39.369597Z",
     "shell.execute_reply": "2023-11-06T16:51:39.368297Z"
    },
    "papermill": {
     "duration": 0.118647,
     "end_time": "2023-11-06T16:51:39.371784",
     "exception": false,
     "start_time": "2023-11-06T16:51:39.253137",
     "status": "completed"
    },
    "tags": []
   },
   "outputs": [
    {
     "data": {
      "text/plain": [
       "[100, 625, 900, 1225, 2500]"
      ]
     },
     "execution_count": 216,
     "metadata": {},
     "output_type": "execute_result"
    }
   ],
   "source": [
    "c = [10,25,30,35,50]\n",
    "def sq(x) :\n",
    "    return x**2\n",
    "d = list(map(sq, c))\n",
    "d"
   ]
  },
  {
   "cell_type": "code",
   "execution_count": 217,
   "id": "79be1eb8",
   "metadata": {
    "execution": {
     "iopub.execute_input": "2023-11-06T16:51:39.582477Z",
     "iopub.status.busy": "2023-11-06T16:51:39.582043Z",
     "iopub.status.idle": "2023-11-06T16:51:39.590378Z",
     "shell.execute_reply": "2023-11-06T16:51:39.589069Z"
    },
    "papermill": {
     "duration": 0.116848,
     "end_time": "2023-11-06T16:51:39.592794",
     "exception": false,
     "start_time": "2023-11-06T16:51:39.475946",
     "status": "completed"
    },
    "tags": []
   },
   "outputs": [
    {
     "data": {
      "text/plain": [
       "[100, 625, 900, 1225, 2500]"
      ]
     },
     "execution_count": 217,
     "metadata": {},
     "output_type": "execute_result"
    }
   ],
   "source": [
    "c = [10,25,30,35,50]\n",
    "\n",
    "d = list(map(lambda i : i **2 , c))\n",
    "d"
   ]
  },
  {
   "cell_type": "code",
   "execution_count": 218,
   "id": "d024bbc8",
   "metadata": {
    "execution": {
     "iopub.execute_input": "2023-11-06T16:51:39.806617Z",
     "iopub.status.busy": "2023-11-06T16:51:39.806147Z",
     "iopub.status.idle": "2023-11-06T16:51:39.816466Z",
     "shell.execute_reply": "2023-11-06T16:51:39.814523Z"
    },
    "papermill": {
     "duration": 0.120477,
     "end_time": "2023-11-06T16:51:39.819341",
     "exception": false,
     "start_time": "2023-11-06T16:51:39.698864",
     "status": "completed"
    },
    "tags": []
   },
   "outputs": [
    {
     "data": {
      "text/plain": [
       "['swapna', 'sush']"
      ]
     },
     "execution_count": 218,
     "metadata": {},
     "output_type": "execute_result"
    }
   ],
   "source": [
    "a = [\"swapna\",\"sush\",\"ghosh\"]\n",
    "b = list(filter(lambda x : x[0]==\"s\",a))\n",
    "b"
   ]
  },
  {
   "cell_type": "code",
   "execution_count": 219,
   "id": "31227ffd",
   "metadata": {
    "execution": {
     "iopub.execute_input": "2023-11-06T16:51:40.032519Z",
     "iopub.status.busy": "2023-11-06T16:51:40.031997Z",
     "iopub.status.idle": "2023-11-06T16:51:40.039901Z",
     "shell.execute_reply": "2023-11-06T16:51:40.038818Z"
    },
    "papermill": {
     "duration": 0.118332,
     "end_time": "2023-11-06T16:51:40.042059",
     "exception": false,
     "start_time": "2023-11-06T16:51:39.923727",
     "status": "completed"
    },
    "tags": []
   },
   "outputs": [
    {
     "data": {
      "text/plain": [
       "['student swapna', 'student sush', 'student ghosh']"
      ]
     },
     "execution_count": 219,
     "metadata": {},
     "output_type": "execute_result"
    }
   ],
   "source": [
    "a = [\"swapna\",\"sush\",\"ghosh\"]\n",
    "b = list(map(lambda i : \"student \"+ i,a))\n",
    "b"
   ]
  },
  {
   "cell_type": "code",
   "execution_count": 220,
   "id": "7e342d2b",
   "metadata": {
    "execution": {
     "iopub.execute_input": "2023-11-06T16:51:40.257008Z",
     "iopub.status.busy": "2023-11-06T16:51:40.256251Z",
     "iopub.status.idle": "2023-11-06T16:51:40.264167Z",
     "shell.execute_reply": "2023-11-06T16:51:40.262858Z"
    },
    "papermill": {
     "duration": 0.118301,
     "end_time": "2023-11-06T16:51:40.266421",
     "exception": false,
     "start_time": "2023-11-06T16:51:40.148120",
     "status": "completed"
    },
    "tags": []
   },
   "outputs": [
    {
     "data": {
      "text/plain": [
       "[('swapna', 100), ('prasad', 200), ('ghosh', 300)]"
      ]
     },
     "execution_count": 220,
     "metadata": {},
     "output_type": "execute_result"
    }
   ],
   "source": [
    "a = [\"swapna\",\"prasad\",\"ghosh\"]\n",
    "b = [100,200,300]\n",
    "\n",
    "\n",
    "c = [  ( a[i] , b[i]) for i in range(len(a))]\n",
    "c"
   ]
  },
  {
   "cell_type": "code",
   "execution_count": 221,
   "id": "06d87fbf",
   "metadata": {
    "execution": {
     "iopub.execute_input": "2023-11-06T16:51:40.482026Z",
     "iopub.status.busy": "2023-11-06T16:51:40.481313Z",
     "iopub.status.idle": "2023-11-06T16:51:40.486863Z",
     "shell.execute_reply": "2023-11-06T16:51:40.485854Z"
    },
    "papermill": {
     "duration": 0.115835,
     "end_time": "2023-11-06T16:51:40.489378",
     "exception": false,
     "start_time": "2023-11-06T16:51:40.373543",
     "status": "completed"
    },
    "tags": []
   },
   "outputs": [
    {
     "name": "stdout",
     "output_type": "stream",
     "text": [
      "swapna 100\n",
      "prasad 200\n",
      "ghosh 300\n"
     ]
    }
   ],
   "source": [
    "for i in range(len(a) ) :\n",
    "    print(a[i],b[i])\n",
    "    "
   ]
  },
  {
   "cell_type": "code",
   "execution_count": 222,
   "id": "7492a3b1",
   "metadata": {
    "execution": {
     "iopub.execute_input": "2023-11-06T16:51:40.763268Z",
     "iopub.status.busy": "2023-11-06T16:51:40.762834Z",
     "iopub.status.idle": "2023-11-06T16:51:40.769024Z",
     "shell.execute_reply": "2023-11-06T16:51:40.767690Z"
    },
    "papermill": {
     "duration": 0.177274,
     "end_time": "2023-11-06T16:51:40.772449",
     "exception": false,
     "start_time": "2023-11-06T16:51:40.595175",
     "status": "completed"
    },
    "tags": []
   },
   "outputs": [
    {
     "name": "stdout",
     "output_type": "stream",
     "text": [
      "('swapna', 100) --\n",
      "('prasad', 200) --\n",
      "('ghosh', 300) --\n"
     ]
    }
   ],
   "source": [
    "for i in zip(a,b) :\n",
    "    print(i,\"--\")"
   ]
  },
  {
   "cell_type": "code",
   "execution_count": 223,
   "id": "40f6f11d",
   "metadata": {
    "execution": {
     "iopub.execute_input": "2023-11-06T16:51:40.995244Z",
     "iopub.status.busy": "2023-11-06T16:51:40.994453Z",
     "iopub.status.idle": "2023-11-06T16:51:41.000628Z",
     "shell.execute_reply": "2023-11-06T16:51:40.999549Z"
    },
    "papermill": {
     "duration": 0.121235,
     "end_time": "2023-11-06T16:51:41.003539",
     "exception": false,
     "start_time": "2023-11-06T16:51:40.882304",
     "status": "completed"
    },
    "tags": []
   },
   "outputs": [
    {
     "name": "stdout",
     "output_type": "stream",
     "text": [
      "swapna -- 100\n",
      "prasad -- 200\n",
      "ghosh -- 300\n"
     ]
    }
   ],
   "source": [
    "for i,j in zip(a,b) :\n",
    "    print(i,\"--\",j)"
   ]
  },
  {
   "cell_type": "code",
   "execution_count": 224,
   "id": "d16ac559",
   "metadata": {
    "execution": {
     "iopub.execute_input": "2023-11-06T16:51:41.220172Z",
     "iopub.status.busy": "2023-11-06T16:51:41.219791Z",
     "iopub.status.idle": "2023-11-06T16:51:41.228143Z",
     "shell.execute_reply": "2023-11-06T16:51:41.226884Z"
    },
    "papermill": {
     "duration": 0.117859,
     "end_time": "2023-11-06T16:51:41.230318",
     "exception": false,
     "start_time": "2023-11-06T16:51:41.112459",
     "status": "completed"
    },
    "tags": []
   },
   "outputs": [
    {
     "data": {
      "text/plain": [
       "[('swapna', 100, 1)]"
      ]
     },
     "execution_count": 224,
     "metadata": {},
     "output_type": "execute_result"
    }
   ],
   "source": [
    "a = [\"swapna\"]\n",
    "b = [100,200,300]\n",
    "c= [1,2]\n",
    "\n",
    "\n",
    "c = list(zip(a,b,c))\n",
    "c"
   ]
  },
  {
   "cell_type": "code",
   "execution_count": 225,
   "id": "31ee85a3",
   "metadata": {
    "execution": {
     "iopub.execute_input": "2023-11-06T16:51:41.444026Z",
     "iopub.status.busy": "2023-11-06T16:51:41.443373Z",
     "iopub.status.idle": "2023-11-06T16:51:41.450799Z",
     "shell.execute_reply": "2023-11-06T16:51:41.449431Z"
    },
    "papermill": {
     "duration": 0.117267,
     "end_time": "2023-11-06T16:51:41.453135",
     "exception": false,
     "start_time": "2023-11-06T16:51:41.335868",
     "status": "completed"
    },
    "tags": []
   },
   "outputs": [
    {
     "name": "stdout",
     "output_type": "stream",
     "text": [
      "yes\n"
     ]
    }
   ],
   "source": [
    "a = \"malayalam\"\n",
    "b = a[::-1]\n",
    "b\n",
    "\n",
    "if a == b :\n",
    "    print(\"yes\")\n",
    "else :\n",
    "    print(\"no\")"
   ]
  },
  {
   "cell_type": "code",
   "execution_count": null,
   "id": "f2c54e68",
   "metadata": {
    "papermill": {
     "duration": 0.105873,
     "end_time": "2023-11-06T16:51:41.668381",
     "exception": false,
     "start_time": "2023-11-06T16:51:41.562508",
     "status": "completed"
    },
    "tags": []
   },
   "outputs": [],
   "source": []
  },
  {
   "cell_type": "code",
   "execution_count": 226,
   "id": "ed51a8c9",
   "metadata": {
    "execution": {
     "iopub.execute_input": "2023-11-06T16:51:41.882955Z",
     "iopub.status.busy": "2023-11-06T16:51:41.882029Z",
     "iopub.status.idle": "2023-11-06T16:51:41.889596Z",
     "shell.execute_reply": "2023-11-06T16:51:41.888167Z"
    },
    "papermill": {
     "duration": 0.117559,
     "end_time": "2023-11-06T16:51:41.892446",
     "exception": false,
     "start_time": "2023-11-06T16:51:41.774887",
     "status": "completed"
    },
    "tags": []
   },
   "outputs": [],
   "source": [
    "class BluePrint() :\n",
    "    \n",
    "    def __init__ (self,a ): # constructor\n",
    "        self.b = a + 100\n",
    "        self.designed = \"mlv prasad\"\n",
    "        self.country  = \"india\"\n",
    "        \n",
    "\n",
    "\n",
    "    \n",
    "\n",
    "    def color(self):\n",
    "#         b = self.designed\n",
    "        return f\"home is designed by {self.designed} for  and is 100 ft and color \"\n",
    "\n",
    "    def interior(self):\n",
    "        return \"home is italian \"\n",
    "    \n",
    "ghosh = BluePrint(100.5)\n",
    "# int(ghosh)"
   ]
  },
  {
   "cell_type": "code",
   "execution_count": 227,
   "id": "dbf7e1c7",
   "metadata": {
    "execution": {
     "iopub.execute_input": "2023-11-06T16:51:42.110354Z",
     "iopub.status.busy": "2023-11-06T16:51:42.109294Z",
     "iopub.status.idle": "2023-11-06T16:51:42.116010Z",
     "shell.execute_reply": "2023-11-06T16:51:42.114542Z"
    },
    "papermill": {
     "duration": 0.118907,
     "end_time": "2023-11-06T16:51:42.118361",
     "exception": false,
     "start_time": "2023-11-06T16:51:41.999454",
     "status": "completed"
    },
    "tags": []
   },
   "outputs": [],
   "source": [
    "# swapna = BluePrint()\n",
    "# swapna.color()"
   ]
  },
  {
   "cell_type": "code",
   "execution_count": 228,
   "id": "2f40a6a4",
   "metadata": {
    "execution": {
     "iopub.execute_input": "2023-11-06T16:51:42.333473Z",
     "iopub.status.busy": "2023-11-06T16:51:42.332014Z",
     "iopub.status.idle": "2023-11-06T16:51:42.340826Z",
     "shell.execute_reply": "2023-11-06T16:51:42.339958Z"
    },
    "papermill": {
     "duration": 0.118608,
     "end_time": "2023-11-06T16:51:42.342992",
     "exception": false,
     "start_time": "2023-11-06T16:51:42.224384",
     "status": "completed"
    },
    "tags": []
   },
   "outputs": [
    {
     "data": {
      "text/plain": [
       "'9'"
      ]
     },
     "execution_count": 228,
     "metadata": {},
     "output_type": "execute_result"
    }
   ],
   "source": [
    "a = 9\n",
    "b = str(a)\n",
    "b"
   ]
  },
  {
   "cell_type": "code",
   "execution_count": 229,
   "id": "41aa129c",
   "metadata": {
    "execution": {
     "iopub.execute_input": "2023-11-06T16:51:42.558486Z",
     "iopub.status.busy": "2023-11-06T16:51:42.556955Z",
     "iopub.status.idle": "2023-11-06T16:51:42.569135Z",
     "shell.execute_reply": "2023-11-06T16:51:42.567685Z"
    },
    "papermill": {
     "duration": 0.122986,
     "end_time": "2023-11-06T16:51:42.571881",
     "exception": false,
     "start_time": "2023-11-06T16:51:42.448895",
     "status": "completed"
    },
    "tags": []
   },
   "outputs": [
    {
     "data": {
      "text/plain": [
       "0"
      ]
     },
     "execution_count": 229,
     "metadata": {},
     "output_type": "execute_result"
    }
   ],
   "source": [
    "class Student() :\n",
    "    \n",
    "    def __init__(self,name,age):\n",
    "        self.studname = f\"the student name is {name}\"\n",
    "        self.studage = f\"the student age is {age}\"\n",
    "        self.courses= []\n",
    "    \n",
    "    def enroll(self, course= 0 ) :\n",
    "        self.courses.append(course)\n",
    "        \n",
    "    def total_course(self):\n",
    "        return len(self.courses)\n",
    "    \n",
    "    \n",
    "    \n",
    "joy =  Student(\"joyce\",\"30\")\n",
    "joy.total_course()\n",
    "\n",
    "\n",
    "\n"
   ]
  },
  {
   "cell_type": "code",
   "execution_count": 230,
   "id": "b05d3b97",
   "metadata": {
    "execution": {
     "iopub.execute_input": "2023-11-06T16:51:42.798979Z",
     "iopub.status.busy": "2023-11-06T16:51:42.798545Z",
     "iopub.status.idle": "2023-11-06T16:51:42.805413Z",
     "shell.execute_reply": "2023-11-06T16:51:42.804541Z"
    },
    "papermill": {
     "duration": 0.125204,
     "end_time": "2023-11-06T16:51:42.807469",
     "exception": false,
     "start_time": "2023-11-06T16:51:42.682265",
     "status": "completed"
    },
    "tags": []
   },
   "outputs": [
    {
     "data": {
      "text/plain": [
       "[]"
      ]
     },
     "execution_count": 230,
     "metadata": {},
     "output_type": "execute_result"
    }
   ],
   "source": [
    "sw = Student(\"swapna\",\"35\")\n",
    "sw.courses"
   ]
  },
  {
   "cell_type": "code",
   "execution_count": 231,
   "id": "0dadac74",
   "metadata": {
    "execution": {
     "iopub.execute_input": "2023-11-06T16:51:43.026268Z",
     "iopub.status.busy": "2023-11-06T16:51:43.025821Z",
     "iopub.status.idle": "2023-11-06T16:51:43.032167Z",
     "shell.execute_reply": "2023-11-06T16:51:43.031290Z"
    },
    "papermill": {
     "duration": 0.118465,
     "end_time": "2023-11-06T16:51:43.034413",
     "exception": false,
     "start_time": "2023-11-06T16:51:42.915948",
     "status": "completed"
    },
    "tags": []
   },
   "outputs": [
    {
     "data": {
      "text/plain": [
       "[]"
      ]
     },
     "execution_count": 231,
     "metadata": {},
     "output_type": "execute_result"
    }
   ],
   "source": [
    "joy.courses\n",
    "\n",
    "# joy.enroll(\"sql\")"
   ]
  },
  {
   "cell_type": "code",
   "execution_count": 232,
   "id": "4af9ad49",
   "metadata": {
    "execution": {
     "iopub.execute_input": "2023-11-06T16:51:43.253620Z",
     "iopub.status.busy": "2023-11-06T16:51:43.252844Z",
     "iopub.status.idle": "2023-11-06T16:51:43.257652Z",
     "shell.execute_reply": "2023-11-06T16:51:43.256726Z"
    },
    "papermill": {
     "duration": 0.116082,
     "end_time": "2023-11-06T16:51:43.259900",
     "exception": false,
     "start_time": "2023-11-06T16:51:43.143818",
     "status": "completed"
    },
    "tags": []
   },
   "outputs": [],
   "source": [
    "sw.enroll(\"sql\")"
   ]
  },
  {
   "cell_type": "code",
   "execution_count": 233,
   "id": "199fc28e",
   "metadata": {
    "execution": {
     "iopub.execute_input": "2023-11-06T16:51:43.480217Z",
     "iopub.status.busy": "2023-11-06T16:51:43.479408Z",
     "iopub.status.idle": "2023-11-06T16:51:43.485741Z",
     "shell.execute_reply": "2023-11-06T16:51:43.484799Z"
    },
    "papermill": {
     "duration": 0.117997,
     "end_time": "2023-11-06T16:51:43.487879",
     "exception": false,
     "start_time": "2023-11-06T16:51:43.369882",
     "status": "completed"
    },
    "tags": []
   },
   "outputs": [
    {
     "data": {
      "text/plain": [
       "[]"
      ]
     },
     "execution_count": 233,
     "metadata": {},
     "output_type": "execute_result"
    }
   ],
   "source": [
    "joy.courses"
   ]
  },
  {
   "cell_type": "code",
   "execution_count": 234,
   "id": "ebd9a076",
   "metadata": {
    "execution": {
     "iopub.execute_input": "2023-11-06T16:51:43.704925Z",
     "iopub.status.busy": "2023-11-06T16:51:43.704062Z",
     "iopub.status.idle": "2023-11-06T16:51:43.708587Z",
     "shell.execute_reply": "2023-11-06T16:51:43.707823Z"
    },
    "papermill": {
     "duration": 0.114372,
     "end_time": "2023-11-06T16:51:43.710732",
     "exception": false,
     "start_time": "2023-11-06T16:51:43.596360",
     "status": "completed"
    },
    "tags": []
   },
   "outputs": [],
   "source": [
    "joy.enroll(\"python\")"
   ]
  },
  {
   "cell_type": "code",
   "execution_count": 235,
   "id": "6c41ad69",
   "metadata": {
    "execution": {
     "iopub.execute_input": "2023-11-06T16:51:43.928460Z",
     "iopub.status.busy": "2023-11-06T16:51:43.928000Z",
     "iopub.status.idle": "2023-11-06T16:51:43.934851Z",
     "shell.execute_reply": "2023-11-06T16:51:43.933984Z"
    },
    "papermill": {
     "duration": 0.117469,
     "end_time": "2023-11-06T16:51:43.936992",
     "exception": false,
     "start_time": "2023-11-06T16:51:43.819523",
     "status": "completed"
    },
    "tags": []
   },
   "outputs": [
    {
     "data": {
      "text/plain": [
       "['python']"
      ]
     },
     "execution_count": 235,
     "metadata": {},
     "output_type": "execute_result"
    }
   ],
   "source": [
    "joy.courses"
   ]
  },
  {
   "cell_type": "code",
   "execution_count": 236,
   "id": "eb7f3984",
   "metadata": {
    "execution": {
     "iopub.execute_input": "2023-11-06T16:51:44.154561Z",
     "iopub.status.busy": "2023-11-06T16:51:44.153659Z",
     "iopub.status.idle": "2023-11-06T16:51:44.161531Z",
     "shell.execute_reply": "2023-11-06T16:51:44.160196Z"
    },
    "papermill": {
     "duration": 0.119715,
     "end_time": "2023-11-06T16:51:44.164150",
     "exception": false,
     "start_time": "2023-11-06T16:51:44.044435",
     "status": "completed"
    },
    "tags": []
   },
   "outputs": [
    {
     "data": {
      "text/plain": [
       "1"
      ]
     },
     "execution_count": 236,
     "metadata": {},
     "output_type": "execute_result"
    }
   ],
   "source": [
    "joy.total_course()"
   ]
  },
  {
   "cell_type": "code",
   "execution_count": 237,
   "id": "a4a1e6a7",
   "metadata": {
    "execution": {
     "iopub.execute_input": "2023-11-06T16:51:44.380176Z",
     "iopub.status.busy": "2023-11-06T16:51:44.379785Z",
     "iopub.status.idle": "2023-11-06T16:51:44.387496Z",
     "shell.execute_reply": "2023-11-06T16:51:44.386355Z"
    },
    "papermill": {
     "duration": 0.119175,
     "end_time": "2023-11-06T16:51:44.390079",
     "exception": false,
     "start_time": "2023-11-06T16:51:44.270904",
     "status": "completed"
    },
    "tags": []
   },
   "outputs": [
    {
     "data": {
      "text/plain": [
       "['sql']"
      ]
     },
     "execution_count": 237,
     "metadata": {},
     "output_type": "execute_result"
    }
   ],
   "source": [
    "sw.courses"
   ]
  },
  {
   "cell_type": "code",
   "execution_count": 238,
   "id": "84a86f6f",
   "metadata": {
    "execution": {
     "iopub.execute_input": "2023-11-06T16:51:44.618595Z",
     "iopub.status.busy": "2023-11-06T16:51:44.618044Z",
     "iopub.status.idle": "2023-11-06T16:51:44.624505Z",
     "shell.execute_reply": "2023-11-06T16:51:44.623593Z"
    },
    "papermill": {
     "duration": 0.124053,
     "end_time": "2023-11-06T16:51:44.626737",
     "exception": false,
     "start_time": "2023-11-06T16:51:44.502684",
     "status": "completed"
    },
    "tags": []
   },
   "outputs": [
    {
     "data": {
      "text/plain": [
       "1"
      ]
     },
     "execution_count": 238,
     "metadata": {},
     "output_type": "execute_result"
    }
   ],
   "source": [
    "sw.total_course()"
   ]
  },
  {
   "cell_type": "code",
   "execution_count": 239,
   "id": "d5c3efcf",
   "metadata": {
    "execution": {
     "iopub.execute_input": "2023-11-06T16:51:44.855026Z",
     "iopub.status.busy": "2023-11-06T16:51:44.854324Z",
     "iopub.status.idle": "2023-11-06T16:51:44.862350Z",
     "shell.execute_reply": "2023-11-06T16:51:44.861526Z"
    },
    "papermill": {
     "duration": 0.125311,
     "end_time": "2023-11-06T16:51:44.864712",
     "exception": false,
     "start_time": "2023-11-06T16:51:44.739401",
     "status": "completed"
    },
    "tags": []
   },
   "outputs": [
    {
     "name": "stdout",
     "output_type": "stream",
     "text": [
      "the owner brand is TYT and number of doors is 6\n"
     ]
    }
   ],
   "source": [
    "class Vehicle :\n",
    "    \n",
    "    def __init__ (self,brand,model ):\n",
    "        self.brand = brand\n",
    "        self.model = model\n",
    "        \n",
    "    def info(self):\n",
    "        return f\"the owner brand is {self.brand}\"\n",
    "    \n",
    "    \n",
    "    \n",
    "class Toyato(Vehicle):\n",
    "    def __init__(self,brand,model,doors) : \n",
    "        super().__init__(brand,model)\n",
    "        self.doors= doors\n",
    "    def info(self):\n",
    "        return f\"{super().info()} and number of doors is {self.doors}\"\n",
    "    \n",
    "swapna = Toyato(\"TYT\",\"fortuner\",6)\n",
    "\n",
    "print(swapna.info())\n"
   ]
  },
  {
   "cell_type": "code",
   "execution_count": 240,
   "id": "66d9d0b3",
   "metadata": {
    "execution": {
     "iopub.execute_input": "2023-11-06T16:51:45.091387Z",
     "iopub.status.busy": "2023-11-06T16:51:45.090980Z",
     "iopub.status.idle": "2023-11-06T16:51:45.098251Z",
     "shell.execute_reply": "2023-11-06T16:51:45.097096Z"
    },
    "papermill": {
     "duration": 0.124221,
     "end_time": "2023-11-06T16:51:45.100859",
     "exception": false,
     "start_time": "2023-11-06T16:51:44.976638",
     "status": "completed"
    },
    "tags": []
   },
   "outputs": [
    {
     "name": "stdout",
     "output_type": "stream",
     "text": [
      "1\n",
      "1\n",
      "2\n",
      "3\n",
      "5\n",
      "8\n",
      "13\n",
      "21\n",
      "34\n",
      "55\n",
      "89\n",
      "144\n",
      "233\n"
     ]
    }
   ],
   "source": [
    "def fibonaci ()  :\n",
    "    a,b = 1,1\n",
    "    while True :\n",
    "        yield a \n",
    "        a,b = b, a+b # 2 3 \n",
    "        \n",
    "joy =  fibonaci()\n",
    "for i in range(13) :\n",
    "    print(next(joy))"
   ]
  },
  {
   "cell_type": "code",
   "execution_count": 241,
   "id": "d57b6c8f",
   "metadata": {
    "execution": {
     "iopub.execute_input": "2023-11-06T16:51:45.329163Z",
     "iopub.status.busy": "2023-11-06T16:51:45.328698Z",
     "iopub.status.idle": "2023-11-06T16:51:45.334064Z",
     "shell.execute_reply": "2023-11-06T16:51:45.332816Z"
    },
    "papermill": {
     "duration": 0.119835,
     "end_time": "2023-11-06T16:51:45.336366",
     "exception": false,
     "start_time": "2023-11-06T16:51:45.216531",
     "status": "completed"
    },
    "tags": []
   },
   "outputs": [],
   "source": [
    "#poly morphism"
   ]
  },
  {
   "cell_type": "code",
   "execution_count": 242,
   "id": "efc43e92",
   "metadata": {
    "execution": {
     "iopub.execute_input": "2023-11-06T16:51:45.556753Z",
     "iopub.status.busy": "2023-11-06T16:51:45.555314Z",
     "iopub.status.idle": "2023-11-06T16:51:45.564669Z",
     "shell.execute_reply": "2023-11-06T16:51:45.563165Z"
    },
    "papermill": {
     "duration": 0.121327,
     "end_time": "2023-11-06T16:51:45.566993",
     "exception": false,
     "start_time": "2023-11-06T16:51:45.445666",
     "status": "completed"
    },
    "tags": []
   },
   "outputs": [
    {
     "name": "stdout",
     "output_type": "stream",
     "text": [
      "catty\n",
      "doggy\n"
     ]
    }
   ],
   "source": [
    "class Animal() :\n",
    "    def speak(self) :\n",
    "        pass\n",
    "class Dog(Animal) :\n",
    "    def speak(self) :\n",
    "        return \"doggy\"\n",
    "class Cat(Animal) :\n",
    "    def speak( self) :\n",
    "        return \"catty\"\n",
    "    \n",
    "def sound(Animal) :\n",
    "    return    Animal.speak()\n",
    "\n",
    "dog = Dog()\n",
    "cat = Cat()\n",
    "\n",
    "print(sound(cat))\n",
    "print(sound(dog))"
   ]
  },
  {
   "cell_type": "code",
   "execution_count": 243,
   "id": "4415c11e",
   "metadata": {
    "execution": {
     "iopub.execute_input": "2023-11-06T16:51:45.787950Z",
     "iopub.status.busy": "2023-11-06T16:51:45.787488Z",
     "iopub.status.idle": "2023-11-06T16:51:45.797322Z",
     "shell.execute_reply": "2023-11-06T16:51:45.795874Z"
    },
    "papermill": {
     "duration": 0.124595,
     "end_time": "2023-11-06T16:51:45.799565",
     "exception": false,
     "start_time": "2023-11-06T16:51:45.674970",
     "status": "completed"
    },
    "tags": []
   },
   "outputs": [
    {
     "name": "stdout",
     "output_type": "stream",
     "text": [
      "swa\n",
      "300\n",
      "ghosh\n",
      "300\n"
     ]
    }
   ],
   "source": [
    "class Student :\n",
    "    def __init__(self, name, rno) :\n",
    "        self.a = 10\n",
    "        self.__name = name\n",
    "        self._roll_no = rno\n",
    "        \n",
    "    def getname (self) :\n",
    "        return self.__name\n",
    "    def setname(self,name ) :\n",
    "        if len(name) >= 3 :\n",
    "            self.__name = name\n",
    "        else :\n",
    "            print(\"Name is too shot\")\n",
    "        \n",
    "    def display(self) :\n",
    "        print(self.__name)\n",
    "        print(self._roll_no)\n",
    "        \n",
    "swapna = Student(\"swa\",300)\n",
    "swapna.display()\n",
    "swapna.setname(\"ghosh\")\n",
    "swapna.display()\n"
   ]
  },
  {
   "cell_type": "code",
   "execution_count": 244,
   "id": "bd9bf4aa",
   "metadata": {
    "execution": {
     "iopub.execute_input": "2023-11-06T16:51:46.022564Z",
     "iopub.status.busy": "2023-11-06T16:51:46.021595Z",
     "iopub.status.idle": "2023-11-06T16:51:46.028935Z",
     "shell.execute_reply": "2023-11-06T16:51:46.027566Z"
    },
    "papermill": {
     "duration": 0.11927,
     "end_time": "2023-11-06T16:51:46.031055",
     "exception": false,
     "start_time": "2023-11-06T16:51:45.911785",
     "status": "completed"
    },
    "tags": []
   },
   "outputs": [
    {
     "data": {
      "text/plain": [
       "10"
      ]
     },
     "execution_count": 244,
     "metadata": {},
     "output_type": "execute_result"
    }
   ],
   "source": [
    "# swapna.__name\n",
    "swapna.a"
   ]
  },
  {
   "cell_type": "code",
   "execution_count": 245,
   "id": "27a564fb",
   "metadata": {
    "execution": {
     "iopub.execute_input": "2023-11-06T16:51:46.252195Z",
     "iopub.status.busy": "2023-11-06T16:51:46.251776Z",
     "iopub.status.idle": "2023-11-06T16:51:46.256305Z",
     "shell.execute_reply": "2023-11-06T16:51:46.255408Z"
    },
    "papermill": {
     "duration": 0.116833,
     "end_time": "2023-11-06T16:51:46.258305",
     "exception": false,
     "start_time": "2023-11-06T16:51:46.141472",
     "status": "completed"
    },
    "tags": []
   },
   "outputs": [],
   "source": [
    "# ##### Write a Python program that accepts a sequence of c\n",
    "# # omma-separated numbers from the user and generates a list and a tuple of those numbers.\n",
    "# # Sample data : 3, 5, 7, 23\n",
    "# ls = []\n",
    "# for i in range(4):\n",
    "#     a =int(input())\n",
    "#     ls.append(a)\n",
    "# print(f\"the required answer is {ls} and {tuple(ls)}\")"
   ]
  },
  {
   "cell_type": "code",
   "execution_count": 246,
   "id": "da9e5871",
   "metadata": {
    "execution": {
     "iopub.execute_input": "2023-11-06T16:51:46.476908Z",
     "iopub.status.busy": "2023-11-06T16:51:46.476081Z",
     "iopub.status.idle": "2023-11-06T16:51:46.480372Z",
     "shell.execute_reply": "2023-11-06T16:51:46.479548Z"
    },
    "papermill": {
     "duration": 0.116023,
     "end_time": "2023-11-06T16:51:46.482374",
     "exception": false,
     "start_time": "2023-11-06T16:51:46.366351",
     "status": "completed"
    },
    "tags": []
   },
   "outputs": [],
   "source": [
    "# Write a Python program to display the examination schedule. \n",
    "# (extract the date from exam_st_date).\n",
    "# exam_st_date = (11, 12, 2014)\n",
    "# Sample Output : The examination will start from : 11 / 12 / 2014"
   ]
  },
  {
   "cell_type": "code",
   "execution_count": 247,
   "id": "2759651a",
   "metadata": {
    "execution": {
     "iopub.execute_input": "2023-11-06T16:51:46.700022Z",
     "iopub.status.busy": "2023-11-06T16:51:46.699191Z",
     "iopub.status.idle": "2023-11-06T16:51:46.705769Z",
     "shell.execute_reply": "2023-11-06T16:51:46.704875Z"
    },
    "papermill": {
     "duration": 0.11718,
     "end_time": "2023-11-06T16:51:46.707793",
     "exception": false,
     "start_time": "2023-11-06T16:51:46.590613",
     "status": "completed"
    },
    "tags": []
   },
   "outputs": [
    {
     "name": "stdout",
     "output_type": "stream",
     "text": [
      "The examination will start from : 6/5/ 2023\n"
     ]
    }
   ],
   "source": [
    "exam_st_date = (6, 5, 2023)\n",
    "for i in range(1):\n",
    "    print(f\"The examination will start from : {exam_st_date[i] }/{ exam_st_date[i+1] }/ {exam_st_date[i+2]}\")"
   ]
  },
  {
   "cell_type": "code",
   "execution_count": 248,
   "id": "5765e926",
   "metadata": {
    "execution": {
     "iopub.execute_input": "2023-11-06T16:51:46.934047Z",
     "iopub.status.busy": "2023-11-06T16:51:46.933144Z",
     "iopub.status.idle": "2023-11-06T16:51:46.939656Z",
     "shell.execute_reply": "2023-11-06T16:51:46.938190Z"
    },
    "papermill": {
     "duration": 0.122094,
     "end_time": "2023-11-06T16:51:46.942001",
     "exception": false,
     "start_time": "2023-11-06T16:51:46.819907",
     "status": "completed"
    },
    "tags": []
   },
   "outputs": [
    {
     "name": "stdout",
     "output_type": "stream",
     "text": [
      "score of a is 10 score of b is  20\n",
      "score of a is 10 score of b is 20\n"
     ]
    }
   ],
   "source": [
    "a = 10\n",
    "b = 20\n",
    "\n",
    "print(\"score of a is\",a, \"score of b is \",b)\n",
    "print(f\"score of a is {a} score of b is {b}\")"
   ]
  },
  {
   "cell_type": "code",
   "execution_count": 249,
   "id": "c124196f",
   "metadata": {
    "execution": {
     "iopub.execute_input": "2023-11-06T16:51:47.181409Z",
     "iopub.status.busy": "2023-11-06T16:51:47.180487Z",
     "iopub.status.idle": "2023-11-06T16:51:47.185412Z",
     "shell.execute_reply": "2023-11-06T16:51:47.184386Z"
    },
    "papermill": {
     "duration": 0.131781,
     "end_time": "2023-11-06T16:51:47.187686",
     "exception": false,
     "start_time": "2023-11-06T16:51:47.055905",
     "status": "completed"
    },
    "tags": []
   },
   "outputs": [],
   "source": [
    "# # Sample data : 3, 5, 7, 23\n",
    "# ls = []\n",
    "# for i in range(1):\n",
    "#     a =input()\n",
    "#     ls.append(a)\n",
    "# print(f\"the required answer is {ls} and {tuple(ls)}\")"
   ]
  },
  {
   "cell_type": "code",
   "execution_count": 250,
   "id": "e449aea9",
   "metadata": {
    "execution": {
     "iopub.execute_input": "2023-11-06T16:51:47.408161Z",
     "iopub.status.busy": "2023-11-06T16:51:47.407539Z",
     "iopub.status.idle": "2023-11-06T16:51:47.415648Z",
     "shell.execute_reply": "2023-11-06T16:51:47.414649Z"
    },
    "papermill": {
     "duration": 0.121623,
     "end_time": "2023-11-06T16:51:47.417820",
     "exception": false,
     "start_time": "2023-11-06T16:51:47.296197",
     "status": "completed"
    },
    "tags": []
   },
   "outputs": [
    {
     "data": {
      "text/plain": [
       "['my name ', ' mlv prasad and ', ' am a good boy']"
      ]
     },
     "execution_count": 250,
     "metadata": {},
     "output_type": "execute_result"
    }
   ],
   "source": [
    "a = \"my name is mlv prasad and is am a good boy\"\n",
    "b = a.split(\"is\")\n",
    "b"
   ]
  },
  {
   "cell_type": "code",
   "execution_count": 251,
   "id": "e4168ab9",
   "metadata": {
    "execution": {
     "iopub.execute_input": "2023-11-06T16:51:47.636922Z",
     "iopub.status.busy": "2023-11-06T16:51:47.635791Z",
     "iopub.status.idle": "2023-11-06T16:51:47.643806Z",
     "shell.execute_reply": "2023-11-06T16:51:47.642563Z"
    },
    "papermill": {
     "duration": 0.120219,
     "end_time": "2023-11-06T16:51:47.646158",
     "exception": false,
     "start_time": "2023-11-06T16:51:47.525939",
     "status": "completed"
    },
    "tags": []
   },
   "outputs": [
    {
     "name": "stdout",
     "output_type": "stream",
     "text": [
      "                * \n",
      "            * * * \n",
      "        * * * * * \n",
      "    * * * * * * * \n",
      "* * * * * * * * * \n"
     ]
    }
   ],
   "source": [
    "for i in range(5):\n",
    "    print(\"  \"*(2*(4-i)),end=\"\")\n",
    "    print(\"* \"* ( (2*i)+1) )\n",
    "    "
   ]
  },
  {
   "cell_type": "code",
   "execution_count": 252,
   "id": "715dc448",
   "metadata": {
    "execution": {
     "iopub.execute_input": "2023-11-06T16:51:47.868393Z",
     "iopub.status.busy": "2023-11-06T16:51:47.867154Z",
     "iopub.status.idle": "2023-11-06T16:51:47.878048Z",
     "shell.execute_reply": "2023-11-06T16:51:47.876706Z"
    },
    "papermill": {
     "duration": 0.124866,
     "end_time": "2023-11-06T16:51:47.880388",
     "exception": false,
     "start_time": "2023-11-06T16:51:47.755522",
     "status": "completed"
    },
    "tags": []
   },
   "outputs": [
    {
     "name": "stdout",
     "output_type": "stream",
     "text": [
      "45\n",
      "12\n"
     ]
    }
   ],
   "source": [
    "#                 * \n",
    "#             * * * \n",
    "#         * * * * * \n",
    "#     * * * * * * * \n",
    "# * * * * * * * * * \n",
    "\n",
    "from abc import ABC , abstractmethod\n",
    "\n",
    "class mlv(ABC):\n",
    "    @abstractmethod\n",
    "    def marks(self) :\n",
    "        pass\n",
    "#     @abstractmethod \n",
    "#     def classes(self) :\n",
    "#         pass\n",
    "    \n",
    "class Mentor(mlv) :\n",
    "    def __init__(self,teach):\n",
    "        self.teach = teach\n",
    "        \n",
    "    def marks(self) :\n",
    "        return 9 * self.teach\n",
    "    \n",
    "    \n",
    "class Instructor(mlv) :\n",
    "    def __init__(self,cltime, months) :\n",
    "        self.cltime = cltime\n",
    "        self.month = months\n",
    "        \n",
    "    def marks(self) :\n",
    "        return self.cltime * self.month\n",
    "c1 = Mentor(5)\n",
    "c2 = Instructor(4,3)\n",
    "shapes = [c1, c2]\n",
    "for c3 in shapes :\n",
    "    print(c3.marks())"
   ]
  },
  {
   "cell_type": "code",
   "execution_count": null,
   "id": "506bc53d",
   "metadata": {
    "papermill": {
     "duration": 0.108829,
     "end_time": "2023-11-06T16:51:48.099093",
     "exception": false,
     "start_time": "2023-11-06T16:51:47.990264",
     "status": "completed"
    },
    "tags": []
   },
   "outputs": [],
   "source": []
  },
  {
   "cell_type": "code",
   "execution_count": null,
   "id": "2a4b9d6d",
   "metadata": {
    "papermill": {
     "duration": 0.107237,
     "end_time": "2023-11-06T16:51:48.314510",
     "exception": false,
     "start_time": "2023-11-06T16:51:48.207273",
     "status": "completed"
    },
    "tags": []
   },
   "outputs": [],
   "source": []
  },
  {
   "cell_type": "code",
   "execution_count": null,
   "id": "3631d6ca",
   "metadata": {
    "papermill": {
     "duration": 0.107698,
     "end_time": "2023-11-06T16:51:48.531894",
     "exception": false,
     "start_time": "2023-11-06T16:51:48.424196",
     "status": "completed"
    },
    "tags": []
   },
   "outputs": [],
   "source": []
  },
  {
   "cell_type": "code",
   "execution_count": 253,
   "id": "e8c3e88d",
   "metadata": {
    "execution": {
     "iopub.execute_input": "2023-11-06T16:51:48.750440Z",
     "iopub.status.busy": "2023-11-06T16:51:48.749457Z",
     "iopub.status.idle": "2023-11-06T16:51:48.754701Z",
     "shell.execute_reply": "2023-11-06T16:51:48.753970Z"
    },
    "papermill": {
     "duration": 0.116698,
     "end_time": "2023-11-06T16:51:48.756939",
     "exception": false,
     "start_time": "2023-11-06T16:51:48.640241",
     "status": "completed"
    },
    "tags": []
   },
   "outputs": [],
   "source": [
    "a = \"english\"\n",
    "\n",
    "b = \"hsilgne\"\n",
    "\n",
    "\n",
    "c = \"malayalam\"\n",
    "d = \"malayalam\"\n",
    "\n",
    "# palindrome"
   ]
  },
  {
   "cell_type": "code",
   "execution_count": 254,
   "id": "d70eab1f",
   "metadata": {
    "execution": {
     "iopub.execute_input": "2023-11-06T16:51:48.977360Z",
     "iopub.status.busy": "2023-11-06T16:51:48.976610Z",
     "iopub.status.idle": "2023-11-06T16:51:48.983625Z",
     "shell.execute_reply": "2023-11-06T16:51:48.982804Z"
    },
    "papermill": {
     "duration": 0.11941,
     "end_time": "2023-11-06T16:51:48.985847",
     "exception": false,
     "start_time": "2023-11-06T16:51:48.866437",
     "status": "completed"
    },
    "tags": []
   },
   "outputs": [
    {
     "data": {
      "text/plain": [
       "['c', 'b', 'a']"
      ]
     },
     "execution_count": 254,
     "metadata": {},
     "output_type": "execute_result"
    }
   ],
   "source": [
    "a = [\"a\",\"b\",\"c\"]\n",
    "b = a[::-1]\n",
    "b"
   ]
  },
  {
   "cell_type": "code",
   "execution_count": 255,
   "id": "c727f478",
   "metadata": {
    "execution": {
     "iopub.execute_input": "2023-11-06T16:51:49.204187Z",
     "iopub.status.busy": "2023-11-06T16:51:49.203406Z",
     "iopub.status.idle": "2023-11-06T16:51:49.210201Z",
     "shell.execute_reply": "2023-11-06T16:51:49.209196Z"
    },
    "papermill": {
     "duration": 0.11855,
     "end_time": "2023-11-06T16:51:49.212422",
     "exception": false,
     "start_time": "2023-11-06T16:51:49.093872",
     "status": "completed"
    },
    "tags": []
   },
   "outputs": [
    {
     "data": {
      "text/plain": [
       "'dasarp'"
      ]
     },
     "execution_count": 255,
     "metadata": {},
     "output_type": "execute_result"
    }
   ],
   "source": [
    "c = \"prasad\"\n",
    "c[::-1]"
   ]
  },
  {
   "cell_type": "code",
   "execution_count": 256,
   "id": "0dd14f4e",
   "metadata": {
    "execution": {
     "iopub.execute_input": "2023-11-06T16:51:49.431472Z",
     "iopub.status.busy": "2023-11-06T16:51:49.430711Z",
     "iopub.status.idle": "2023-11-06T16:51:49.435443Z",
     "shell.execute_reply": "2023-11-06T16:51:49.434717Z"
    },
    "papermill": {
     "duration": 0.117173,
     "end_time": "2023-11-06T16:51:49.437635",
     "exception": false,
     "start_time": "2023-11-06T16:51:49.320462",
     "status": "completed"
    },
    "tags": []
   },
   "outputs": [],
   "source": [
    "\n",
    "\n",
    "# a  = input()\n",
    "# b = a[::-1]\n",
    "\n",
    "\n",
    "# if a == b :\n",
    "#     print(\"palindrome\")\n",
    "# else :\n",
    "#     print(\"not a palindrome\")"
   ]
  },
  {
   "cell_type": "code",
   "execution_count": 257,
   "id": "e96c6ea1",
   "metadata": {
    "execution": {
     "iopub.execute_input": "2023-11-06T16:51:49.715919Z",
     "iopub.status.busy": "2023-11-06T16:51:49.715161Z",
     "iopub.status.idle": "2023-11-06T16:51:49.723100Z",
     "shell.execute_reply": "2023-11-06T16:51:49.722019Z"
    },
    "papermill": {
     "duration": 0.180456,
     "end_time": "2023-11-06T16:51:49.725516",
     "exception": false,
     "start_time": "2023-11-06T16:51:49.545060",
     "status": "completed"
    },
    "tags": []
   },
   "outputs": [
    {
     "data": {
      "text/plain": [
       "'mentor a is prasad mlv'"
      ]
     },
     "execution_count": 257,
     "metadata": {},
     "output_type": "execute_result"
    }
   ],
   "source": [
    "a = \"mlv prasad is a mentor\"\n",
    "\n",
    "# b = \"mentor a is prasad mlv\"\n",
    "b = a.split()\n",
    "c = b[::-1]\n",
    "c\n",
    "\n",
    "d =  \" \".join(c)\n",
    "d"
   ]
  },
  {
   "cell_type": "code",
   "execution_count": 258,
   "id": "40a821dc",
   "metadata": {
    "execution": {
     "iopub.execute_input": "2023-11-06T16:51:49.946311Z",
     "iopub.status.busy": "2023-11-06T16:51:49.945941Z",
     "iopub.status.idle": "2023-11-06T16:51:49.952697Z",
     "shell.execute_reply": "2023-11-06T16:51:49.951829Z"
    },
    "papermill": {
     "duration": 0.11968,
     "end_time": "2023-11-06T16:51:49.954791",
     "exception": false,
     "start_time": "2023-11-06T16:51:49.835111",
     "status": "completed"
    },
    "tags": []
   },
   "outputs": [
    {
     "data": {
      "text/plain": [
       "['mlv', 'prasad', 'is', 'a', 'mentor']"
      ]
     },
     "execution_count": 258,
     "metadata": {},
     "output_type": "execute_result"
    }
   ],
   "source": [
    "a = \"mlv prasad is a mentor\"\n",
    "\n",
    "# b = \"mentor a is prasad mlv\"\n",
    "b = a.split()\n",
    "b "
   ]
  },
  {
   "cell_type": "code",
   "execution_count": 259,
   "id": "9fafc6f7",
   "metadata": {
    "execution": {
     "iopub.execute_input": "2023-11-06T16:51:50.179154Z",
     "iopub.status.busy": "2023-11-06T16:51:50.177753Z",
     "iopub.status.idle": "2023-11-06T16:51:50.184448Z",
     "shell.execute_reply": "2023-11-06T16:51:50.183134Z"
    },
    "papermill": {
     "duration": 0.121309,
     "end_time": "2023-11-06T16:51:50.186584",
     "exception": false,
     "start_time": "2023-11-06T16:51:50.065275",
     "status": "completed"
    },
    "tags": []
   },
   "outputs": [
    {
     "name": "stdout",
     "output_type": "stream",
     "text": [
      "the student name is  swapna and she is a  good student\n"
     ]
    }
   ],
   "source": [
    "a = \"swapna\"\n",
    "print(\"the student name is \", a,\"and she is a  good student\")"
   ]
  },
  {
   "cell_type": "code",
   "execution_count": 260,
   "id": "b8b2725c",
   "metadata": {
    "execution": {
     "iopub.execute_input": "2023-11-06T16:51:50.408179Z",
     "iopub.status.busy": "2023-11-06T16:51:50.406957Z",
     "iopub.status.idle": "2023-11-06T16:51:50.413800Z",
     "shell.execute_reply": "2023-11-06T16:51:50.412316Z"
    },
    "papermill": {
     "duration": 0.119869,
     "end_time": "2023-11-06T16:51:50.416208",
     "exception": false,
     "start_time": "2023-11-06T16:51:50.296339",
     "status": "completed"
    },
    "tags": []
   },
   "outputs": [
    {
     "name": "stdout",
     "output_type": "stream",
     "text": [
      "the student name is  swapna  and she is a  good student\n"
     ]
    }
   ],
   "source": [
    "print(f\"the student name is  {a}  and she is a  good student\")"
   ]
  },
  {
   "cell_type": "code",
   "execution_count": 261,
   "id": "57451d34",
   "metadata": {
    "execution": {
     "iopub.execute_input": "2023-11-06T16:51:50.638602Z",
     "iopub.status.busy": "2023-11-06T16:51:50.637633Z",
     "iopub.status.idle": "2023-11-06T16:51:50.644001Z",
     "shell.execute_reply": "2023-11-06T16:51:50.642905Z"
    },
    "papermill": {
     "duration": 0.119534,
     "end_time": "2023-11-06T16:51:50.646783",
     "exception": false,
     "start_time": "2023-11-06T16:51:50.527249",
     "status": "completed"
    },
    "tags": []
   },
   "outputs": [
    {
     "name": "stdout",
     "output_type": "stream",
     "text": [
      "the student name is  swapna  and she is a  good student\n"
     ]
    }
   ],
   "source": [
    "txt = \"the student name is  {}  and she is a  good student\"\n",
    "print(txt.format(a))"
   ]
  },
  {
   "cell_type": "code",
   "execution_count": 262,
   "id": "08478db7",
   "metadata": {
    "execution": {
     "iopub.execute_input": "2023-11-06T16:51:50.884184Z",
     "iopub.status.busy": "2023-11-06T16:51:50.883804Z",
     "iopub.status.idle": "2023-11-06T16:51:50.888826Z",
     "shell.execute_reply": "2023-11-06T16:51:50.888013Z"
    },
    "papermill": {
     "duration": 0.126644,
     "end_time": "2023-11-06T16:51:50.890939",
     "exception": false,
     "start_time": "2023-11-06T16:51:50.764295",
     "status": "completed"
    },
    "tags": []
   },
   "outputs": [],
   "source": [
    "# 9. Write a Python program to display the examination schedule. (extract the date from exam_st_date).\n",
    "# exam_st_date = (11, 12, 2014)\n",
    "# Sample Output : The examination will start from : 11 / 12 / 2014\n",
    "\n",
    "\n",
    "# 10. Write a Python program that accepts an integer (n) and computes the value of n+nn+nnn.\n",
    "# Sample value of n is 5\n",
    "# Expected Result : 615\n",
    "\n",
    "# 11. Write a Python program to print the documents (syntax, description etc.) of Python built-in function(s).\n",
    "# Sample function : abs()\n",
    "# Expected Result :\n",
    "# abs(number) -> number\n",
    "# Return the absolute value of the argument."
   ]
  },
  {
   "cell_type": "code",
   "execution_count": 263,
   "id": "e1c5a192",
   "metadata": {
    "execution": {
     "iopub.execute_input": "2023-11-06T16:51:51.125382Z",
     "iopub.status.busy": "2023-11-06T16:51:51.124445Z",
     "iopub.status.idle": "2023-11-06T16:51:51.130381Z",
     "shell.execute_reply": "2023-11-06T16:51:51.129303Z"
    },
    "papermill": {
     "duration": 0.125566,
     "end_time": "2023-11-06T16:51:51.132503",
     "exception": false,
     "start_time": "2023-11-06T16:51:51.006937",
     "status": "completed"
    },
    "tags": []
   },
   "outputs": [
    {
     "name": "stdout",
     "output_type": "stream",
     "text": [
      "Sample Output : The examination will start from : 15 / 3 / 2022\n"
     ]
    }
   ],
   "source": [
    "exam_st_date = (15, 3, 2022)\n",
    "a, b ,c = exam_st_date \n",
    "print(f\"Sample Output : The examination will start from : {a} / {b} / {c}\")"
   ]
  },
  {
   "cell_type": "code",
   "execution_count": 264,
   "id": "75920263",
   "metadata": {
    "execution": {
     "iopub.execute_input": "2023-11-06T16:51:51.367863Z",
     "iopub.status.busy": "2023-11-06T16:51:51.367159Z",
     "iopub.status.idle": "2023-11-06T16:51:51.376650Z",
     "shell.execute_reply": "2023-11-06T16:51:51.375568Z"
    },
    "papermill": {
     "duration": 0.128171,
     "end_time": "2023-11-06T16:51:51.378888",
     "exception": false,
     "start_time": "2023-11-06T16:51:51.250717",
     "status": "completed"
    },
    "tags": []
   },
   "outputs": [
    {
     "name": "stdout",
     "output_type": "stream",
     "text": [
      "7\n",
      "77\n",
      "777\n"
     ]
    },
    {
     "data": {
      "text/plain": [
       "861"
      ]
     },
     "execution_count": 264,
     "metadata": {},
     "output_type": "execute_result"
    }
   ],
   "source": [
    "# 10. Write a Python program that accepts an integer (n) and computes the value of n+nn+nnn.\n",
    "# Sample value of n is 5\n",
    "# Expected Result : 615\n",
    "\n",
    "\n",
    "# 7 \n",
    "\n",
    "# 7 + 77 + 777\n",
    "\n",
    "n = 7 \n",
    "sum = 0\n",
    "for i in range(3):\n",
    "    a  = str(7)*(i+1)\n",
    "    print(a)\n",
    "    sum = sum + int(a)\n",
    "    \n",
    "sum    "
   ]
  },
  {
   "cell_type": "code",
   "execution_count": 265,
   "id": "cc382b3e",
   "metadata": {
    "execution": {
     "iopub.execute_input": "2023-11-06T16:51:51.606443Z",
     "iopub.status.busy": "2023-11-06T16:51:51.605544Z",
     "iopub.status.idle": "2023-11-06T16:51:51.609774Z",
     "shell.execute_reply": "2023-11-06T16:51:51.608979Z"
    },
    "papermill": {
     "duration": 0.118325,
     "end_time": "2023-11-06T16:51:51.611816",
     "exception": false,
     "start_time": "2023-11-06T16:51:51.493491",
     "status": "completed"
    },
    "tags": []
   },
   "outputs": [],
   "source": [
    "# 7 + 77 + 777"
   ]
  },
  {
   "cell_type": "code",
   "execution_count": 266,
   "id": "700099ce",
   "metadata": {
    "execution": {
     "iopub.execute_input": "2023-11-06T16:51:51.834077Z",
     "iopub.status.busy": "2023-11-06T16:51:51.833378Z",
     "iopub.status.idle": "2023-11-06T16:51:51.839692Z",
     "shell.execute_reply": "2023-11-06T16:51:51.838534Z"
    },
    "papermill": {
     "duration": 0.120496,
     "end_time": "2023-11-06T16:51:51.842398",
     "exception": false,
     "start_time": "2023-11-06T16:51:51.721902",
     "status": "completed"
    },
    "tags": []
   },
   "outputs": [
    {
     "name": "stdout",
     "output_type": "stream",
     "text": [
      "Help on built-in function abs in module builtins:\n",
      "\n",
      "abs(x, /)\n",
      "    Return the absolute value of the argument.\n",
      "\n"
     ]
    }
   ],
   "source": [
    "help(abs)"
   ]
  },
  {
   "cell_type": "code",
   "execution_count": 267,
   "id": "df5bcac2",
   "metadata": {
    "execution": {
     "iopub.execute_input": "2023-11-06T16:51:52.065838Z",
     "iopub.status.busy": "2023-11-06T16:51:52.065361Z",
     "iopub.status.idle": "2023-11-06T16:51:52.097069Z",
     "shell.execute_reply": "2023-11-06T16:51:52.095816Z"
    },
    "papermill": {
     "duration": 0.148801,
     "end_time": "2023-11-06T16:51:52.101349",
     "exception": false,
     "start_time": "2023-11-06T16:51:51.952548",
     "status": "completed"
    },
    "tags": []
   },
   "outputs": [
    {
     "name": "stdout",
     "output_type": "stream",
     "text": [
      "Help on class str in module builtins:\n",
      "\n",
      "class str(object)\n",
      " |  str(object='') -> str\n",
      " |  str(bytes_or_buffer[, encoding[, errors]]) -> str\n",
      " |  \n",
      " |  Create a new string object from the given object. If encoding or\n",
      " |  errors is specified, then the object must expose a data buffer\n",
      " |  that will be decoded using the given encoding and error handler.\n",
      " |  Otherwise, returns the result of object.__str__() (if defined)\n",
      " |  or repr(object).\n",
      " |  encoding defaults to sys.getdefaultencoding().\n",
      " |  errors defaults to 'strict'.\n",
      " |  \n",
      " |  Methods defined here:\n",
      " |  \n",
      " |  __add__(self, value, /)\n",
      " |      Return self+value.\n",
      " |  \n",
      " |  __contains__(self, key, /)\n",
      " |      Return key in self.\n",
      " |  \n",
      " |  __eq__(self, value, /)\n",
      " |      Return self==value.\n",
      " |  \n",
      " |  __format__(self, format_spec, /)\n",
      " |      Return a formatted version of the string as described by format_spec.\n",
      " |  \n",
      " |  __ge__(self, value, /)\n",
      " |      Return self>=value.\n",
      " |  \n",
      " |  __getattribute__(self, name, /)\n",
      " |      Return getattr(self, name).\n",
      " |  \n",
      " |  __getitem__(self, key, /)\n",
      " |      Return self[key].\n",
      " |  \n",
      " |  __getnewargs__(...)\n",
      " |  \n",
      " |  __gt__(self, value, /)\n",
      " |      Return self>value.\n",
      " |  \n",
      " |  __hash__(self, /)\n",
      " |      Return hash(self).\n",
      " |  \n",
      " |  __iter__(self, /)\n",
      " |      Implement iter(self).\n",
      " |  \n",
      " |  __le__(self, value, /)\n",
      " |      Return self<=value.\n",
      " |  \n",
      " |  __len__(self, /)\n",
      " |      Return len(self).\n",
      " |  \n",
      " |  __lt__(self, value, /)\n",
      " |      Return self<value.\n",
      " |  \n",
      " |  __mod__(self, value, /)\n",
      " |      Return self%value.\n",
      " |  \n",
      " |  __mul__(self, value, /)\n",
      " |      Return self*value.\n",
      " |  \n",
      " |  __ne__(self, value, /)\n",
      " |      Return self!=value.\n",
      " |  \n",
      " |  __repr__(self, /)\n",
      " |      Return repr(self).\n",
      " |  \n",
      " |  __rmod__(self, value, /)\n",
      " |      Return value%self.\n",
      " |  \n",
      " |  __rmul__(self, value, /)\n",
      " |      Return value*self.\n",
      " |  \n",
      " |  __sizeof__(self, /)\n",
      " |      Return the size of the string in memory, in bytes.\n",
      " |  \n",
      " |  __str__(self, /)\n",
      " |      Return str(self).\n",
      " |  \n",
      " |  capitalize(self, /)\n",
      " |      Return a capitalized version of the string.\n",
      " |      \n",
      " |      More specifically, make the first character have upper case and the rest lower\n",
      " |      case.\n",
      " |  \n",
      " |  casefold(self, /)\n",
      " |      Return a version of the string suitable for caseless comparisons.\n",
      " |  \n",
      " |  center(self, width, fillchar=' ', /)\n",
      " |      Return a centered string of length width.\n",
      " |      \n",
      " |      Padding is done using the specified fill character (default is a space).\n",
      " |  \n",
      " |  count(...)\n",
      " |      S.count(sub[, start[, end]]) -> int\n",
      " |      \n",
      " |      Return the number of non-overlapping occurrences of substring sub in\n",
      " |      string S[start:end].  Optional arguments start and end are\n",
      " |      interpreted as in slice notation.\n",
      " |  \n",
      " |  encode(self, /, encoding='utf-8', errors='strict')\n",
      " |      Encode the string using the codec registered for encoding.\n",
      " |      \n",
      " |      encoding\n",
      " |        The encoding in which to encode the string.\n",
      " |      errors\n",
      " |        The error handling scheme to use for encoding errors.\n",
      " |        The default is 'strict' meaning that encoding errors raise a\n",
      " |        UnicodeEncodeError.  Other possible values are 'ignore', 'replace' and\n",
      " |        'xmlcharrefreplace' as well as any other name registered with\n",
      " |        codecs.register_error that can handle UnicodeEncodeErrors.\n",
      " |  \n",
      " |  endswith(...)\n",
      " |      S.endswith(suffix[, start[, end]]) -> bool\n",
      " |      \n",
      " |      Return True if S ends with the specified suffix, False otherwise.\n",
      " |      With optional start, test S beginning at that position.\n",
      " |      With optional end, stop comparing S at that position.\n",
      " |      suffix can also be a tuple of strings to try.\n",
      " |  \n",
      " |  expandtabs(self, /, tabsize=8)\n",
      " |      Return a copy where all tab characters are expanded using spaces.\n",
      " |      \n",
      " |      If tabsize is not given, a tab size of 8 characters is assumed.\n",
      " |  \n",
      " |  find(...)\n",
      " |      S.find(sub[, start[, end]]) -> int\n",
      " |      \n",
      " |      Return the lowest index in S where substring sub is found,\n",
      " |      such that sub is contained within S[start:end].  Optional\n",
      " |      arguments start and end are interpreted as in slice notation.\n",
      " |      \n",
      " |      Return -1 on failure.\n",
      " |  \n",
      " |  format(...)\n",
      " |      S.format(*args, **kwargs) -> str\n",
      " |      \n",
      " |      Return a formatted version of S, using substitutions from args and kwargs.\n",
      " |      The substitutions are identified by braces ('{' and '}').\n",
      " |  \n",
      " |  format_map(...)\n",
      " |      S.format_map(mapping) -> str\n",
      " |      \n",
      " |      Return a formatted version of S, using substitutions from mapping.\n",
      " |      The substitutions are identified by braces ('{' and '}').\n",
      " |  \n",
      " |  index(...)\n",
      " |      S.index(sub[, start[, end]]) -> int\n",
      " |      \n",
      " |      Return the lowest index in S where substring sub is found,\n",
      " |      such that sub is contained within S[start:end].  Optional\n",
      " |      arguments start and end are interpreted as in slice notation.\n",
      " |      \n",
      " |      Raises ValueError when the substring is not found.\n",
      " |  \n",
      " |  isalnum(self, /)\n",
      " |      Return True if the string is an alpha-numeric string, False otherwise.\n",
      " |      \n",
      " |      A string is alpha-numeric if all characters in the string are alpha-numeric and\n",
      " |      there is at least one character in the string.\n",
      " |  \n",
      " |  isalpha(self, /)\n",
      " |      Return True if the string is an alphabetic string, False otherwise.\n",
      " |      \n",
      " |      A string is alphabetic if all characters in the string are alphabetic and there\n",
      " |      is at least one character in the string.\n",
      " |  \n",
      " |  isascii(self, /)\n",
      " |      Return True if all characters in the string are ASCII, False otherwise.\n",
      " |      \n",
      " |      ASCII characters have code points in the range U+0000-U+007F.\n",
      " |      Empty string is ASCII too.\n",
      " |  \n",
      " |  isdecimal(self, /)\n",
      " |      Return True if the string is a decimal string, False otherwise.\n",
      " |      \n",
      " |      A string is a decimal string if all characters in the string are decimal and\n",
      " |      there is at least one character in the string.\n",
      " |  \n",
      " |  isdigit(self, /)\n",
      " |      Return True if the string is a digit string, False otherwise.\n",
      " |      \n",
      " |      A string is a digit string if all characters in the string are digits and there\n",
      " |      is at least one character in the string.\n",
      " |  \n",
      " |  isidentifier(self, /)\n",
      " |      Return True if the string is a valid Python identifier, False otherwise.\n",
      " |      \n",
      " |      Call keyword.iskeyword(s) to test whether string s is a reserved identifier,\n",
      " |      such as \"def\" or \"class\".\n",
      " |  \n",
      " |  islower(self, /)\n",
      " |      Return True if the string is a lowercase string, False otherwise.\n",
      " |      \n",
      " |      A string is lowercase if all cased characters in the string are lowercase and\n",
      " |      there is at least one cased character in the string.\n",
      " |  \n",
      " |  isnumeric(self, /)\n",
      " |      Return True if the string is a numeric string, False otherwise.\n",
      " |      \n",
      " |      A string is numeric if all characters in the string are numeric and there is at\n",
      " |      least one character in the string.\n",
      " |  \n",
      " |  isprintable(self, /)\n",
      " |      Return True if the string is printable, False otherwise.\n",
      " |      \n",
      " |      A string is printable if all of its characters are considered printable in\n",
      " |      repr() or if it is empty.\n",
      " |  \n",
      " |  isspace(self, /)\n",
      " |      Return True if the string is a whitespace string, False otherwise.\n",
      " |      \n",
      " |      A string is whitespace if all characters in the string are whitespace and there\n",
      " |      is at least one character in the string.\n",
      " |  \n",
      " |  istitle(self, /)\n",
      " |      Return True if the string is a title-cased string, False otherwise.\n",
      " |      \n",
      " |      In a title-cased string, upper- and title-case characters may only\n",
      " |      follow uncased characters and lowercase characters only cased ones.\n",
      " |  \n",
      " |  isupper(self, /)\n",
      " |      Return True if the string is an uppercase string, False otherwise.\n",
      " |      \n",
      " |      A string is uppercase if all cased characters in the string are uppercase and\n",
      " |      there is at least one cased character in the string.\n",
      " |  \n",
      " |  join(self, iterable, /)\n",
      " |      Concatenate any number of strings.\n",
      " |      \n",
      " |      The string whose method is called is inserted in between each given string.\n",
      " |      The result is returned as a new string.\n",
      " |      \n",
      " |      Example: '.'.join(['ab', 'pq', 'rs']) -> 'ab.pq.rs'\n",
      " |  \n",
      " |  ljust(self, width, fillchar=' ', /)\n",
      " |      Return a left-justified string of length width.\n",
      " |      \n",
      " |      Padding is done using the specified fill character (default is a space).\n",
      " |  \n",
      " |  lower(self, /)\n",
      " |      Return a copy of the string converted to lowercase.\n",
      " |  \n",
      " |  lstrip(self, chars=None, /)\n",
      " |      Return a copy of the string with leading whitespace removed.\n",
      " |      \n",
      " |      If chars is given and not None, remove characters in chars instead.\n",
      " |  \n",
      " |  partition(self, sep, /)\n",
      " |      Partition the string into three parts using the given separator.\n",
      " |      \n",
      " |      This will search for the separator in the string.  If the separator is found,\n",
      " |      returns a 3-tuple containing the part before the separator, the separator\n",
      " |      itself, and the part after it.\n",
      " |      \n",
      " |      If the separator is not found, returns a 3-tuple containing the original string\n",
      " |      and two empty strings.\n",
      " |  \n",
      " |  removeprefix(self, prefix, /)\n",
      " |      Return a str with the given prefix string removed if present.\n",
      " |      \n",
      " |      If the string starts with the prefix string, return string[len(prefix):].\n",
      " |      Otherwise, return a copy of the original string.\n",
      " |  \n",
      " |  removesuffix(self, suffix, /)\n",
      " |      Return a str with the given suffix string removed if present.\n",
      " |      \n",
      " |      If the string ends with the suffix string and that suffix is not empty,\n",
      " |      return string[:-len(suffix)]. Otherwise, return a copy of the original\n",
      " |      string.\n",
      " |  \n",
      " |  replace(self, old, new, count=-1, /)\n",
      " |      Return a copy with all occurrences of substring old replaced by new.\n",
      " |      \n",
      " |        count\n",
      " |          Maximum number of occurrences to replace.\n",
      " |          -1 (the default value) means replace all occurrences.\n",
      " |      \n",
      " |      If the optional argument count is given, only the first count occurrences are\n",
      " |      replaced.\n",
      " |  \n",
      " |  rfind(...)\n",
      " |      S.rfind(sub[, start[, end]]) -> int\n",
      " |      \n",
      " |      Return the highest index in S where substring sub is found,\n",
      " |      such that sub is contained within S[start:end].  Optional\n",
      " |      arguments start and end are interpreted as in slice notation.\n",
      " |      \n",
      " |      Return -1 on failure.\n",
      " |  \n",
      " |  rindex(...)\n",
      " |      S.rindex(sub[, start[, end]]) -> int\n",
      " |      \n",
      " |      Return the highest index in S where substring sub is found,\n",
      " |      such that sub is contained within S[start:end].  Optional\n",
      " |      arguments start and end are interpreted as in slice notation.\n",
      " |      \n",
      " |      Raises ValueError when the substring is not found.\n",
      " |  \n",
      " |  rjust(self, width, fillchar=' ', /)\n",
      " |      Return a right-justified string of length width.\n",
      " |      \n",
      " |      Padding is done using the specified fill character (default is a space).\n",
      " |  \n",
      " |  rpartition(self, sep, /)\n",
      " |      Partition the string into three parts using the given separator.\n",
      " |      \n",
      " |      This will search for the separator in the string, starting at the end. If\n",
      " |      the separator is found, returns a 3-tuple containing the part before the\n",
      " |      separator, the separator itself, and the part after it.\n",
      " |      \n",
      " |      If the separator is not found, returns a 3-tuple containing two empty strings\n",
      " |      and the original string.\n",
      " |  \n",
      " |  rsplit(self, /, sep=None, maxsplit=-1)\n",
      " |      Return a list of the substrings in the string, using sep as the separator string.\n",
      " |      \n",
      " |        sep\n",
      " |          The separator used to split the string.\n",
      " |      \n",
      " |          When set to None (the default value), will split on any whitespace\n",
      " |          character (including \\\\n \\\\r \\\\t \\\\f and spaces) and will discard\n",
      " |          empty strings from the result.\n",
      " |        maxsplit\n",
      " |          Maximum number of splits (starting from the left).\n",
      " |          -1 (the default value) means no limit.\n",
      " |      \n",
      " |      Splitting starts at the end of the string and works to the front.\n",
      " |  \n",
      " |  rstrip(self, chars=None, /)\n",
      " |      Return a copy of the string with trailing whitespace removed.\n",
      " |      \n",
      " |      If chars is given and not None, remove characters in chars instead.\n",
      " |  \n",
      " |  split(self, /, sep=None, maxsplit=-1)\n",
      " |      Return a list of the substrings in the string, using sep as the separator string.\n",
      " |      \n",
      " |        sep\n",
      " |          The separator used to split the string.\n",
      " |      \n",
      " |          When set to None (the default value), will split on any whitespace\n",
      " |          character (including \\\\n \\\\r \\\\t \\\\f and spaces) and will discard\n",
      " |          empty strings from the result.\n",
      " |        maxsplit\n",
      " |          Maximum number of splits (starting from the left).\n",
      " |          -1 (the default value) means no limit.\n",
      " |      \n",
      " |      Note, str.split() is mainly useful for data that has been intentionally\n",
      " |      delimited.  With natural text that includes punctuation, consider using\n",
      " |      the regular expression module.\n",
      " |  \n",
      " |  splitlines(self, /, keepends=False)\n",
      " |      Return a list of the lines in the string, breaking at line boundaries.\n",
      " |      \n",
      " |      Line breaks are not included in the resulting list unless keepends is given and\n",
      " |      true.\n",
      " |  \n",
      " |  startswith(...)\n",
      " |      S.startswith(prefix[, start[, end]]) -> bool\n",
      " |      \n",
      " |      Return True if S starts with the specified prefix, False otherwise.\n",
      " |      With optional start, test S beginning at that position.\n",
      " |      With optional end, stop comparing S at that position.\n",
      " |      prefix can also be a tuple of strings to try.\n",
      " |  \n",
      " |  strip(self, chars=None, /)\n",
      " |      Return a copy of the string with leading and trailing whitespace removed.\n",
      " |      \n",
      " |      If chars is given and not None, remove characters in chars instead.\n",
      " |  \n",
      " |  swapcase(self, /)\n",
      " |      Convert uppercase characters to lowercase and lowercase characters to uppercase.\n",
      " |  \n",
      " |  title(self, /)\n",
      " |      Return a version of the string where each word is titlecased.\n",
      " |      \n",
      " |      More specifically, words start with uppercased characters and all remaining\n",
      " |      cased characters have lower case.\n",
      " |  \n",
      " |  translate(self, table, /)\n",
      " |      Replace each character in the string using the given translation table.\n",
      " |      \n",
      " |        table\n",
      " |          Translation table, which must be a mapping of Unicode ordinals to\n",
      " |          Unicode ordinals, strings, or None.\n",
      " |      \n",
      " |      The table must implement lookup/indexing via __getitem__, for instance a\n",
      " |      dictionary or list.  If this operation raises LookupError, the character is\n",
      " |      left untouched.  Characters mapped to None are deleted.\n",
      " |  \n",
      " |  upper(self, /)\n",
      " |      Return a copy of the string converted to uppercase.\n",
      " |  \n",
      " |  zfill(self, width, /)\n",
      " |      Pad a numeric string with zeros on the left, to fill a field of the given width.\n",
      " |      \n",
      " |      The string is never truncated.\n",
      " |  \n",
      " |  ----------------------------------------------------------------------\n",
      " |  Static methods defined here:\n",
      " |  \n",
      " |  __new__(*args, **kwargs) from builtins.type\n",
      " |      Create and return a new object.  See help(type) for accurate signature.\n",
      " |  \n",
      " |  maketrans(...)\n",
      " |      Return a translation table usable for str.translate().\n",
      " |      \n",
      " |      If there is only one argument, it must be a dictionary mapping Unicode\n",
      " |      ordinals (integers) or characters to Unicode ordinals, strings or None.\n",
      " |      Character keys will be then converted to ordinals.\n",
      " |      If there are two arguments, they must be strings of equal length, and\n",
      " |      in the resulting dictionary, each character in x will be mapped to the\n",
      " |      character at the same position in y. If there is a third argument, it\n",
      " |      must be a string, whose characters will be mapped to None in the result.\n",
      "\n"
     ]
    }
   ],
   "source": [
    "help(str)"
   ]
  },
  {
   "cell_type": "code",
   "execution_count": 268,
   "id": "dafb4d6a",
   "metadata": {
    "execution": {
     "iopub.execute_input": "2023-11-06T16:51:52.334223Z",
     "iopub.status.busy": "2023-11-06T16:51:52.333775Z",
     "iopub.status.idle": "2023-11-06T16:51:52.359403Z",
     "shell.execute_reply": "2023-11-06T16:51:52.358199Z"
    },
    "papermill": {
     "duration": 0.145304,
     "end_time": "2023-11-06T16:51:52.362553",
     "exception": false,
     "start_time": "2023-11-06T16:51:52.217249",
     "status": "completed"
    },
    "tags": []
   },
   "outputs": [
    {
     "name": "stdout",
     "output_type": "stream",
     "text": [
      "Help on class int in module builtins:\n",
      "\n",
      "class int(object)\n",
      " |  int([x]) -> integer\n",
      " |  int(x, base=10) -> integer\n",
      " |  \n",
      " |  Convert a number or string to an integer, or return 0 if no arguments\n",
      " |  are given.  If x is a number, return x.__int__().  For floating point\n",
      " |  numbers, this truncates towards zero.\n",
      " |  \n",
      " |  If x is not a number or if base is given, then x must be a string,\n",
      " |  bytes, or bytearray instance representing an integer literal in the\n",
      " |  given base.  The literal can be preceded by '+' or '-' and be surrounded\n",
      " |  by whitespace.  The base defaults to 10.  Valid bases are 0 and 2-36.\n",
      " |  Base 0 means to interpret the base from the string as an integer literal.\n",
      " |  >>> int('0b100', base=0)\n",
      " |  4\n",
      " |  \n",
      " |  Built-in subclasses:\n",
      " |      bool\n",
      " |  \n",
      " |  Methods defined here:\n",
      " |  \n",
      " |  __abs__(self, /)\n",
      " |      abs(self)\n",
      " |  \n",
      " |  __add__(self, value, /)\n",
      " |      Return self+value.\n",
      " |  \n",
      " |  __and__(self, value, /)\n",
      " |      Return self&value.\n",
      " |  \n",
      " |  __bool__(self, /)\n",
      " |      True if self else False\n",
      " |  \n",
      " |  __ceil__(...)\n",
      " |      Ceiling of an Integral returns itself.\n",
      " |  \n",
      " |  __divmod__(self, value, /)\n",
      " |      Return divmod(self, value).\n",
      " |  \n",
      " |  __eq__(self, value, /)\n",
      " |      Return self==value.\n",
      " |  \n",
      " |  __float__(self, /)\n",
      " |      float(self)\n",
      " |  \n",
      " |  __floor__(...)\n",
      " |      Flooring an Integral returns itself.\n",
      " |  \n",
      " |  __floordiv__(self, value, /)\n",
      " |      Return self//value.\n",
      " |  \n",
      " |  __format__(self, format_spec, /)\n",
      " |      Default object formatter.\n",
      " |  \n",
      " |  __ge__(self, value, /)\n",
      " |      Return self>=value.\n",
      " |  \n",
      " |  __getattribute__(self, name, /)\n",
      " |      Return getattr(self, name).\n",
      " |  \n",
      " |  __getnewargs__(self, /)\n",
      " |  \n",
      " |  __gt__(self, value, /)\n",
      " |      Return self>value.\n",
      " |  \n",
      " |  __hash__(self, /)\n",
      " |      Return hash(self).\n",
      " |  \n",
      " |  __index__(self, /)\n",
      " |      Return self converted to an integer, if self is suitable for use as an index into a list.\n",
      " |  \n",
      " |  __int__(self, /)\n",
      " |      int(self)\n",
      " |  \n",
      " |  __invert__(self, /)\n",
      " |      ~self\n",
      " |  \n",
      " |  __le__(self, value, /)\n",
      " |      Return self<=value.\n",
      " |  \n",
      " |  __lshift__(self, value, /)\n",
      " |      Return self<<value.\n",
      " |  \n",
      " |  __lt__(self, value, /)\n",
      " |      Return self<value.\n",
      " |  \n",
      " |  __mod__(self, value, /)\n",
      " |      Return self%value.\n",
      " |  \n",
      " |  __mul__(self, value, /)\n",
      " |      Return self*value.\n",
      " |  \n",
      " |  __ne__(self, value, /)\n",
      " |      Return self!=value.\n",
      " |  \n",
      " |  __neg__(self, /)\n",
      " |      -self\n",
      " |  \n",
      " |  __or__(self, value, /)\n",
      " |      Return self|value.\n",
      " |  \n",
      " |  __pos__(self, /)\n",
      " |      +self\n",
      " |  \n",
      " |  __pow__(self, value, mod=None, /)\n",
      " |      Return pow(self, value, mod).\n",
      " |  \n",
      " |  __radd__(self, value, /)\n",
      " |      Return value+self.\n",
      " |  \n",
      " |  __rand__(self, value, /)\n",
      " |      Return value&self.\n",
      " |  \n",
      " |  __rdivmod__(self, value, /)\n",
      " |      Return divmod(value, self).\n",
      " |  \n",
      " |  __repr__(self, /)\n",
      " |      Return repr(self).\n",
      " |  \n",
      " |  __rfloordiv__(self, value, /)\n",
      " |      Return value//self.\n",
      " |  \n",
      " |  __rlshift__(self, value, /)\n",
      " |      Return value<<self.\n",
      " |  \n",
      " |  __rmod__(self, value, /)\n",
      " |      Return value%self.\n",
      " |  \n",
      " |  __rmul__(self, value, /)\n",
      " |      Return value*self.\n",
      " |  \n",
      " |  __ror__(self, value, /)\n",
      " |      Return value|self.\n",
      " |  \n",
      " |  __round__(...)\n",
      " |      Rounding an Integral returns itself.\n",
      " |      \n",
      " |      Rounding with an ndigits argument also returns an integer.\n",
      " |  \n",
      " |  __rpow__(self, value, mod=None, /)\n",
      " |      Return pow(value, self, mod).\n",
      " |  \n",
      " |  __rrshift__(self, value, /)\n",
      " |      Return value>>self.\n",
      " |  \n",
      " |  __rshift__(self, value, /)\n",
      " |      Return self>>value.\n",
      " |  \n",
      " |  __rsub__(self, value, /)\n",
      " |      Return value-self.\n",
      " |  \n",
      " |  __rtruediv__(self, value, /)\n",
      " |      Return value/self.\n",
      " |  \n",
      " |  __rxor__(self, value, /)\n",
      " |      Return value^self.\n",
      " |  \n",
      " |  __sizeof__(self, /)\n",
      " |      Returns size in memory, in bytes.\n",
      " |  \n",
      " |  __sub__(self, value, /)\n",
      " |      Return self-value.\n",
      " |  \n",
      " |  __truediv__(self, value, /)\n",
      " |      Return self/value.\n",
      " |  \n",
      " |  __trunc__(...)\n",
      " |      Truncating an Integral returns itself.\n",
      " |  \n",
      " |  __xor__(self, value, /)\n",
      " |      Return self^value.\n",
      " |  \n",
      " |  as_integer_ratio(self, /)\n",
      " |      Return integer ratio.\n",
      " |      \n",
      " |      Return a pair of integers, whose ratio is exactly equal to the original int\n",
      " |      and with a positive denominator.\n",
      " |      \n",
      " |      >>> (10).as_integer_ratio()\n",
      " |      (10, 1)\n",
      " |      >>> (-10).as_integer_ratio()\n",
      " |      (-10, 1)\n",
      " |      >>> (0).as_integer_ratio()\n",
      " |      (0, 1)\n",
      " |  \n",
      " |  bit_count(self, /)\n",
      " |      Number of ones in the binary representation of the absolute value of self.\n",
      " |      \n",
      " |      Also known as the population count.\n",
      " |      \n",
      " |      >>> bin(13)\n",
      " |      '0b1101'\n",
      " |      >>> (13).bit_count()\n",
      " |      3\n",
      " |  \n",
      " |  bit_length(self, /)\n",
      " |      Number of bits necessary to represent self in binary.\n",
      " |      \n",
      " |      >>> bin(37)\n",
      " |      '0b100101'\n",
      " |      >>> (37).bit_length()\n",
      " |      6\n",
      " |  \n",
      " |  conjugate(...)\n",
      " |      Returns self, the complex conjugate of any int.\n",
      " |  \n",
      " |  to_bytes(self, /, length, byteorder, *, signed=False)\n",
      " |      Return an array of bytes representing an integer.\n",
      " |      \n",
      " |      length\n",
      " |        Length of bytes object to use.  An OverflowError is raised if the\n",
      " |        integer is not representable with the given number of bytes.\n",
      " |      byteorder\n",
      " |        The byte order used to represent the integer.  If byteorder is 'big',\n",
      " |        the most significant byte is at the beginning of the byte array.  If\n",
      " |        byteorder is 'little', the most significant byte is at the end of the\n",
      " |        byte array.  To request the native byte order of the host system, use\n",
      " |        `sys.byteorder' as the byte order value.\n",
      " |      signed\n",
      " |        Determines whether two's complement is used to represent the integer.\n",
      " |        If signed is False and a negative integer is given, an OverflowError\n",
      " |        is raised.\n",
      " |  \n",
      " |  ----------------------------------------------------------------------\n",
      " |  Class methods defined here:\n",
      " |  \n",
      " |  from_bytes(bytes, byteorder, *, signed=False) from builtins.type\n",
      " |      Return the integer represented by the given array of bytes.\n",
      " |      \n",
      " |      bytes\n",
      " |        Holds the array of bytes to convert.  The argument must either\n",
      " |        support the buffer protocol or be an iterable object producing bytes.\n",
      " |        Bytes and bytearray are examples of built-in objects that support the\n",
      " |        buffer protocol.\n",
      " |      byteorder\n",
      " |        The byte order used to represent the integer.  If byteorder is 'big',\n",
      " |        the most significant byte is at the beginning of the byte array.  If\n",
      " |        byteorder is 'little', the most significant byte is at the end of the\n",
      " |        byte array.  To request the native byte order of the host system, use\n",
      " |        `sys.byteorder' as the byte order value.\n",
      " |      signed\n",
      " |        Indicates whether two's complement is used to represent the integer.\n",
      " |  \n",
      " |  ----------------------------------------------------------------------\n",
      " |  Static methods defined here:\n",
      " |  \n",
      " |  __new__(*args, **kwargs) from builtins.type\n",
      " |      Create and return a new object.  See help(type) for accurate signature.\n",
      " |  \n",
      " |  ----------------------------------------------------------------------\n",
      " |  Data descriptors defined here:\n",
      " |  \n",
      " |  denominator\n",
      " |      the denominator of a rational number in lowest terms\n",
      " |  \n",
      " |  imag\n",
      " |      the imaginary part of a complex number\n",
      " |  \n",
      " |  numerator\n",
      " |      the numerator of a rational number in lowest terms\n",
      " |  \n",
      " |  real\n",
      " |      the real part of a complex number\n",
      "\n"
     ]
    }
   ],
   "source": [
    "help(int)"
   ]
  },
  {
   "cell_type": "code",
   "execution_count": 269,
   "id": "b7a5736b",
   "metadata": {
    "execution": {
     "iopub.execute_input": "2023-11-06T16:51:52.595454Z",
     "iopub.status.busy": "2023-11-06T16:51:52.595050Z",
     "iopub.status.idle": "2023-11-06T16:51:52.601541Z",
     "shell.execute_reply": "2023-11-06T16:51:52.599969Z"
    },
    "papermill": {
     "duration": 0.122485,
     "end_time": "2023-11-06T16:51:52.603629",
     "exception": false,
     "start_time": "2023-11-06T16:51:52.481144",
     "status": "completed"
    },
    "tags": []
   },
   "outputs": [
    {
     "name": "stdout",
     "output_type": "stream",
     "text": [
      "9 10\n"
     ]
    }
   ],
   "source": [
    "a = -9\n",
    "\n",
    "b = 10\n",
    "\n",
    "print(abs(a),abs(b))"
   ]
  },
  {
   "cell_type": "code",
   "execution_count": 270,
   "id": "9024d2bc",
   "metadata": {
    "execution": {
     "iopub.execute_input": "2023-11-06T16:51:52.827302Z",
     "iopub.status.busy": "2023-11-06T16:51:52.826871Z",
     "iopub.status.idle": "2023-11-06T16:51:52.833230Z",
     "shell.execute_reply": "2023-11-06T16:51:52.832289Z"
    },
    "papermill": {
     "duration": 0.120964,
     "end_time": "2023-11-06T16:51:52.835648",
     "exception": false,
     "start_time": "2023-11-06T16:51:52.714684",
     "status": "completed"
    },
    "tags": []
   },
   "outputs": [
    {
     "data": {
      "text/plain": [
       "dict_keys(['beautiful', 'great', 'maths'])"
      ]
     },
     "execution_count": 270,
     "metadata": {},
     "output_type": "execute_result"
    }
   ],
   "source": [
    "dt = {\"beautiful\": \"which is glorious\",\n",
    "     \"great\": \" to do some extraordinary\",\n",
    "     \"maths\": \"study of numericals\"}\n",
    "dt.keys()"
   ]
  },
  {
   "cell_type": "code",
   "execution_count": 271,
   "id": "020796bb",
   "metadata": {
    "execution": {
     "iopub.execute_input": "2023-11-06T16:51:53.063011Z",
     "iopub.status.busy": "2023-11-06T16:51:53.062574Z",
     "iopub.status.idle": "2023-11-06T16:51:53.070805Z",
     "shell.execute_reply": "2023-11-06T16:51:53.069615Z"
    },
    "papermill": {
     "duration": 0.125487,
     "end_time": "2023-11-06T16:51:53.073365",
     "exception": false,
     "start_time": "2023-11-06T16:51:52.947878",
     "status": "completed"
    },
    "tags": []
   },
   "outputs": [
    {
     "data": {
      "text/plain": [
       "dict_values(['which is glorious', ' to do some extraordinary', 'study of numericals'])"
      ]
     },
     "execution_count": 271,
     "metadata": {},
     "output_type": "execute_result"
    }
   ],
   "source": [
    "dt.values()"
   ]
  },
  {
   "cell_type": "code",
   "execution_count": 272,
   "id": "4d4644fd",
   "metadata": {
    "execution": {
     "iopub.execute_input": "2023-11-06T16:51:53.298083Z",
     "iopub.status.busy": "2023-11-06T16:51:53.297687Z",
     "iopub.status.idle": "2023-11-06T16:51:53.304613Z",
     "shell.execute_reply": "2023-11-06T16:51:53.303349Z"
    },
    "papermill": {
     "duration": 0.121589,
     "end_time": "2023-11-06T16:51:53.307028",
     "exception": false,
     "start_time": "2023-11-06T16:51:53.185439",
     "status": "completed"
    },
    "tags": []
   },
   "outputs": [
    {
     "data": {
      "text/plain": [
       "dict_items([('beautiful', 'which is glorious'), ('great', ' to do some extraordinary'), ('maths', 'study of numericals')])"
      ]
     },
     "execution_count": 272,
     "metadata": {},
     "output_type": "execute_result"
    }
   ],
   "source": [
    "dt.items()"
   ]
  },
  {
   "cell_type": "code",
   "execution_count": 273,
   "id": "34d155fb",
   "metadata": {
    "execution": {
     "iopub.execute_input": "2023-11-06T16:51:53.531414Z",
     "iopub.status.busy": "2023-11-06T16:51:53.531032Z",
     "iopub.status.idle": "2023-11-06T16:51:53.538336Z",
     "shell.execute_reply": "2023-11-06T16:51:53.537064Z"
    },
    "papermill": {
     "duration": 0.122907,
     "end_time": "2023-11-06T16:51:53.540451",
     "exception": false,
     "start_time": "2023-11-06T16:51:53.417544",
     "status": "completed"
    },
    "tags": []
   },
   "outputs": [
    {
     "data": {
      "text/plain": [
       "'study'"
      ]
     },
     "execution_count": 273,
     "metadata": {},
     "output_type": "execute_result"
    }
   ],
   "source": [
    "dt[\"maths\"].split()[0]"
   ]
  },
  {
   "cell_type": "code",
   "execution_count": 274,
   "id": "19db0334",
   "metadata": {
    "execution": {
     "iopub.execute_input": "2023-11-06T16:51:53.763987Z",
     "iopub.status.busy": "2023-11-06T16:51:53.763512Z",
     "iopub.status.idle": "2023-11-06T16:51:53.773171Z",
     "shell.execute_reply": "2023-11-06T16:51:53.771958Z"
    },
    "papermill": {
     "duration": 0.124788,
     "end_time": "2023-11-06T16:51:53.775504",
     "exception": false,
     "start_time": "2023-11-06T16:51:53.650716",
     "status": "completed"
    },
    "tags": []
   },
   "outputs": [
    {
     "data": {
      "text/plain": [
       "{'a': 'ddddd', 'b': 'eeeee', 'c': 'fffff'}"
      ]
     },
     "execution_count": 274,
     "metadata": {},
     "output_type": "execute_result"
    }
   ],
   "source": [
    "p= [\"a\",\"b\",\"c\"]\n",
    "q = [\"ddddd\",\"eeeee\",\"fffff\"]\n",
    "\n",
    "ans = {  p[i] : q[i]    for i in range(len(p))}\n",
    "ans"
   ]
  },
  {
   "cell_type": "code",
   "execution_count": 275,
   "id": "90f2f0f2",
   "metadata": {
    "execution": {
     "iopub.execute_input": "2023-11-06T16:51:54.002492Z",
     "iopub.status.busy": "2023-11-06T16:51:54.002107Z",
     "iopub.status.idle": "2023-11-06T16:51:54.008582Z",
     "shell.execute_reply": "2023-11-06T16:51:54.007411Z"
    },
    "papermill": {
     "duration": 0.122853,
     "end_time": "2023-11-06T16:51:54.011050",
     "exception": false,
     "start_time": "2023-11-06T16:51:53.888197",
     "status": "completed"
    },
    "tags": []
   },
   "outputs": [
    {
     "name": "stdout",
     "output_type": "stream",
     "text": [
      "{'brand': 'Ford', 'model': 'Mustang'}\n"
     ]
    }
   ],
   "source": [
    "car = {\n",
    "  \"brand\": \"Ford\",\n",
    "  \"model\": \"Mustang\",\n",
    "  \"year\": 1964\n",
    "}\n",
    "\n",
    "car.popitem()\n",
    "\n",
    "print(car)"
   ]
  },
  {
   "cell_type": "code",
   "execution_count": 276,
   "id": "9469b877",
   "metadata": {
    "execution": {
     "iopub.execute_input": "2023-11-06T16:51:54.241363Z",
     "iopub.status.busy": "2023-11-06T16:51:54.240929Z",
     "iopub.status.idle": "2023-11-06T16:51:54.247725Z",
     "shell.execute_reply": "2023-11-06T16:51:54.246852Z"
    },
    "papermill": {
     "duration": 0.125128,
     "end_time": "2023-11-06T16:51:54.249956",
     "exception": false,
     "start_time": "2023-11-06T16:51:54.124828",
     "status": "completed"
    },
    "tags": []
   },
   "outputs": [
    {
     "data": {
      "text/plain": [
       "'prasad'"
      ]
     },
     "execution_count": 276,
     "metadata": {},
     "output_type": "execute_result"
    }
   ],
   "source": [
    "a = [\"suhs\",\"mlv\",\"prasad\"]\n",
    "a.pop()"
   ]
  },
  {
   "cell_type": "code",
   "execution_count": null,
   "id": "d7fd6d82",
   "metadata": {
    "papermill": {
     "duration": 0.175873,
     "end_time": "2023-11-06T16:51:54.539505",
     "exception": false,
     "start_time": "2023-11-06T16:51:54.363632",
     "status": "completed"
    },
    "tags": []
   },
   "outputs": [],
   "source": []
  }
 ],
 "metadata": {
  "kernelspec": {
   "display_name": "Python 3",
   "language": "python",
   "name": "python3"
  },
  "language_info": {
   "codemirror_mode": {
    "name": "ipython",
    "version": 3
   },
   "file_extension": ".py",
   "mimetype": "text/x-python",
   "name": "python",
   "nbconvert_exporter": "python",
   "pygments_lexer": "ipython3",
   "version": "3.10.12"
  },
  "papermill": {
   "default_parameters": {},
   "duration": 66.879929,
   "end_time": "2023-11-06T16:51:55.175519",
   "environment_variables": {},
   "exception": null,
   "input_path": "__notebook__.ipynb",
   "output_path": "__notebook__.ipynb",
   "parameters": {},
   "start_time": "2023-11-06T16:50:48.295590",
   "version": "2.4.0"
  }
 },
 "nbformat": 4,
 "nbformat_minor": 5
}
