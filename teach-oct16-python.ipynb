{
 "cells": [
  {
   "cell_type": "code",
   "execution_count": 1,
   "id": "f02b5e76",
   "metadata": {
    "_cell_guid": "b1076dfc-b9ad-4769-8c92-a6c4dae69d19",
    "_uuid": "8f2839f25d086af736a60e9eeb907d3b93b6e0e5",
    "execution": {
     "iopub.execute_input": "2023-10-28T17:16:29.687822Z",
     "iopub.status.busy": "2023-10-28T17:16:29.687446Z",
     "iopub.status.idle": "2023-10-28T17:16:29.697522Z",
     "shell.execute_reply": "2023-10-28T17:16:29.696400Z"
    },
    "papermill": {
     "duration": 0.065562,
     "end_time": "2023-10-28T17:16:29.699450",
     "exception": false,
     "start_time": "2023-10-28T17:16:29.633888",
     "status": "completed"
    },
    "tags": []
   },
   "outputs": [
    {
     "name": "stdout",
     "output_type": "stream",
     "text": [
      "6\n",
      "---\n",
      "6\n"
     ]
    }
   ],
   "source": [
    "a = 6\n",
    "print(a)\n",
    "print(\"---\")\n",
    "# a = \n",
    "print(a)"
   ]
  },
  {
   "cell_type": "code",
   "execution_count": null,
   "id": "1ec9147d",
   "metadata": {
    "papermill": {
     "duration": 0.050099,
     "end_time": "2023-10-28T17:16:29.853259",
     "exception": false,
     "start_time": "2023-10-28T17:16:29.803160",
     "status": "completed"
    },
    "tags": []
   },
   "outputs": [],
   "source": []
  },
  {
   "cell_type": "code",
   "execution_count": 2,
   "id": "dbb6239c",
   "metadata": {
    "execution": {
     "iopub.execute_input": "2023-10-28T17:16:29.958020Z",
     "iopub.status.busy": "2023-10-28T17:16:29.957316Z",
     "iopub.status.idle": "2023-10-28T17:16:29.961079Z",
     "shell.execute_reply": "2023-10-28T17:16:29.960411Z"
    },
    "papermill": {
     "duration": 0.059359,
     "end_time": "2023-10-28T17:16:29.962909",
     "exception": false,
     "start_time": "2023-10-28T17:16:29.903550",
     "status": "completed"
    },
    "tags": []
   },
   "outputs": [],
   "source": [
    "a = 7"
   ]
  },
  {
   "cell_type": "markdown",
   "id": "de8741aa",
   "metadata": {
    "papermill": {
     "duration": 0.049844,
     "end_time": "2023-10-28T17:16:30.063975",
     "exception": false,
     "start_time": "2023-10-28T17:16:30.014131",
     "status": "completed"
    },
    "tags": []
   },
   "source": [
    "# data types"
   ]
  },
  {
   "cell_type": "code",
   "execution_count": 3,
   "id": "8881dd17",
   "metadata": {
    "execution": {
     "iopub.execute_input": "2023-10-28T17:16:30.166020Z",
     "iopub.status.busy": "2023-10-28T17:16:30.165032Z",
     "iopub.status.idle": "2023-10-28T17:16:30.170294Z",
     "shell.execute_reply": "2023-10-28T17:16:30.169159Z"
    },
    "papermill": {
     "duration": 0.058225,
     "end_time": "2023-10-28T17:16:30.172345",
     "exception": false,
     "start_time": "2023-10-28T17:16:30.114120",
     "status": "completed"
    },
    "tags": []
   },
   "outputs": [
    {
     "name": "stdout",
     "output_type": "stream",
     "text": [
      "6\n"
     ]
    }
   ],
   "source": [
    "abhi = 6\n",
    "\n",
    "print(abhi)"
   ]
  },
  {
   "cell_type": "code",
   "execution_count": 4,
   "id": "5cd161d6",
   "metadata": {
    "execution": {
     "iopub.execute_input": "2023-10-28T17:16:30.273693Z",
     "iopub.status.busy": "2023-10-28T17:16:30.273323Z",
     "iopub.status.idle": "2023-10-28T17:16:30.279946Z",
     "shell.execute_reply": "2023-10-28T17:16:30.278951Z"
    },
    "papermill": {
     "duration": 0.059936,
     "end_time": "2023-10-28T17:16:30.281904",
     "exception": false,
     "start_time": "2023-10-28T17:16:30.221968",
     "status": "completed"
    },
    "tags": []
   },
   "outputs": [
    {
     "data": {
      "text/plain": [
       "int"
      ]
     },
     "execution_count": 4,
     "metadata": {},
     "output_type": "execute_result"
    }
   ],
   "source": [
    "type(abhi)"
   ]
  },
  {
   "cell_type": "code",
   "execution_count": 5,
   "id": "67f46d71",
   "metadata": {
    "execution": {
     "iopub.execute_input": "2023-10-28T17:16:30.383141Z",
     "iopub.status.busy": "2023-10-28T17:16:30.382414Z",
     "iopub.status.idle": "2023-10-28T17:16:30.388757Z",
     "shell.execute_reply": "2023-10-28T17:16:30.387983Z"
    },
    "papermill": {
     "duration": 0.058966,
     "end_time": "2023-10-28T17:16:30.390586",
     "exception": false,
     "start_time": "2023-10-28T17:16:30.331620",
     "status": "completed"
    },
    "tags": []
   },
   "outputs": [
    {
     "data": {
      "text/plain": [
       "float"
      ]
     },
     "execution_count": 5,
     "metadata": {},
     "output_type": "execute_result"
    }
   ],
   "source": [
    "swa = 6.5\n",
    "type(swa)"
   ]
  },
  {
   "cell_type": "code",
   "execution_count": 6,
   "id": "6ff8e168",
   "metadata": {
    "execution": {
     "iopub.execute_input": "2023-10-28T17:16:30.493566Z",
     "iopub.status.busy": "2023-10-28T17:16:30.493147Z",
     "iopub.status.idle": "2023-10-28T17:16:30.500097Z",
     "shell.execute_reply": "2023-10-28T17:16:30.499069Z"
    },
    "papermill": {
     "duration": 0.060492,
     "end_time": "2023-10-28T17:16:30.502354",
     "exception": false,
     "start_time": "2023-10-28T17:16:30.441862",
     "status": "completed"
    },
    "tags": []
   },
   "outputs": [
    {
     "data": {
      "text/plain": [
       "complex"
      ]
     },
     "execution_count": 6,
     "metadata": {},
     "output_type": "execute_result"
    }
   ],
   "source": [
    "pra = 3 + 2j\n",
    "\n",
    "type(pra)"
   ]
  },
  {
   "cell_type": "code",
   "execution_count": 7,
   "id": "d2b2d7e3",
   "metadata": {
    "execution": {
     "iopub.execute_input": "2023-10-28T17:16:30.605332Z",
     "iopub.status.busy": "2023-10-28T17:16:30.604235Z",
     "iopub.status.idle": "2023-10-28T17:16:30.610902Z",
     "shell.execute_reply": "2023-10-28T17:16:30.609978Z"
    },
    "papermill": {
     "duration": 0.060005,
     "end_time": "2023-10-28T17:16:30.612873",
     "exception": false,
     "start_time": "2023-10-28T17:16:30.552868",
     "status": "completed"
    },
    "tags": []
   },
   "outputs": [
    {
     "data": {
      "text/plain": [
       "str"
      ]
     },
     "execution_count": 7,
     "metadata": {},
     "output_type": "execute_result"
    }
   ],
   "source": [
    "x = \"sush\"\n",
    "type(x)"
   ]
  },
  {
   "cell_type": "code",
   "execution_count": 8,
   "id": "9621604e",
   "metadata": {
    "execution": {
     "iopub.execute_input": "2023-10-28T17:16:30.716473Z",
     "iopub.status.busy": "2023-10-28T17:16:30.716116Z",
     "iopub.status.idle": "2023-10-28T17:16:30.721539Z",
     "shell.execute_reply": "2023-10-28T17:16:30.720776Z"
    },
    "papermill": {
     "duration": 0.059453,
     "end_time": "2023-10-28T17:16:30.723259",
     "exception": false,
     "start_time": "2023-10-28T17:16:30.663806",
     "status": "completed"
    },
    "tags": []
   },
   "outputs": [
    {
     "data": {
      "text/plain": [
       "int"
      ]
     },
     "execution_count": 8,
     "metadata": {},
     "output_type": "execute_result"
    }
   ],
   "source": [
    "z = 44 - 5 - 14\n",
    "z\n",
    "type(z)"
   ]
  },
  {
   "cell_type": "code",
   "execution_count": 9,
   "id": "c0eb0843",
   "metadata": {
    "execution": {
     "iopub.execute_input": "2023-10-28T17:16:30.829160Z",
     "iopub.status.busy": "2023-10-28T17:16:30.828438Z",
     "iopub.status.idle": "2023-10-28T17:16:30.833450Z",
     "shell.execute_reply": "2023-10-28T17:16:30.832814Z"
    },
    "papermill": {
     "duration": 0.06003,
     "end_time": "2023-10-28T17:16:30.835177",
     "exception": false,
     "start_time": "2023-10-28T17:16:30.775147",
     "status": "completed"
    },
    "tags": []
   },
   "outputs": [
    {
     "data": {
      "text/plain": [
       "'44-5-14'"
      ]
     },
     "execution_count": 9,
     "metadata": {},
     "output_type": "execute_result"
    }
   ],
   "source": [
    "y = \"44-5-14\"\n",
    "y"
   ]
  },
  {
   "cell_type": "code",
   "execution_count": 10,
   "id": "302b658d",
   "metadata": {
    "execution": {
     "iopub.execute_input": "2023-10-28T17:16:30.939700Z",
     "iopub.status.busy": "2023-10-28T17:16:30.939064Z",
     "iopub.status.idle": "2023-10-28T17:16:30.944687Z",
     "shell.execute_reply": "2023-10-28T17:16:30.943745Z"
    },
    "papermill": {
     "duration": 0.060228,
     "end_time": "2023-10-28T17:16:30.946898",
     "exception": false,
     "start_time": "2023-10-28T17:16:30.886670",
     "status": "completed"
    },
    "tags": []
   },
   "outputs": [
    {
     "data": {
      "text/plain": [
       "str"
      ]
     },
     "execution_count": 10,
     "metadata": {},
     "output_type": "execute_result"
    }
   ],
   "source": [
    "type(y)"
   ]
  },
  {
   "cell_type": "markdown",
   "id": "ad9fb787",
   "metadata": {
    "papermill": {
     "duration": 0.051946,
     "end_time": "2023-10-28T17:16:31.049517",
     "exception": false,
     "start_time": "2023-10-28T17:16:30.997571",
     "status": "completed"
    },
    "tags": []
   },
   "source": [
    "# type casting"
   ]
  },
  {
   "cell_type": "code",
   "execution_count": 11,
   "id": "c2ff98af",
   "metadata": {
    "execution": {
     "iopub.execute_input": "2023-10-28T17:16:31.154199Z",
     "iopub.status.busy": "2023-10-28T17:16:31.153824Z",
     "iopub.status.idle": "2023-10-28T17:16:31.159747Z",
     "shell.execute_reply": "2023-10-28T17:16:31.158970Z"
    },
    "papermill": {
     "duration": 0.060555,
     "end_time": "2023-10-28T17:16:31.161545",
     "exception": false,
     "start_time": "2023-10-28T17:16:31.100990",
     "status": "completed"
    },
    "tags": []
   },
   "outputs": [
    {
     "data": {
      "text/plain": [
       "float"
      ]
     },
     "execution_count": 11,
     "metadata": {},
     "output_type": "execute_result"
    }
   ],
   "source": [
    "a = 6.5\n",
    "type(a)"
   ]
  },
  {
   "cell_type": "code",
   "execution_count": 12,
   "id": "cc2a9f8f",
   "metadata": {
    "execution": {
     "iopub.execute_input": "2023-10-28T17:16:31.266340Z",
     "iopub.status.busy": "2023-10-28T17:16:31.265699Z",
     "iopub.status.idle": "2023-10-28T17:16:31.271863Z",
     "shell.execute_reply": "2023-10-28T17:16:31.270703Z"
    },
    "papermill": {
     "duration": 0.060998,
     "end_time": "2023-10-28T17:16:31.273999",
     "exception": false,
     "start_time": "2023-10-28T17:16:31.213001",
     "status": "completed"
    },
    "tags": []
   },
   "outputs": [
    {
     "data": {
      "text/plain": [
       "6"
      ]
     },
     "execution_count": 12,
     "metadata": {},
     "output_type": "execute_result"
    }
   ],
   "source": [
    "b = int(a)\n",
    "b"
   ]
  },
  {
   "cell_type": "code",
   "execution_count": 13,
   "id": "68b76a9e",
   "metadata": {
    "execution": {
     "iopub.execute_input": "2023-10-28T17:16:31.379610Z",
     "iopub.status.busy": "2023-10-28T17:16:31.378868Z",
     "iopub.status.idle": "2023-10-28T17:16:31.385047Z",
     "shell.execute_reply": "2023-10-28T17:16:31.384300Z"
    },
    "papermill": {
     "duration": 0.061455,
     "end_time": "2023-10-28T17:16:31.387016",
     "exception": false,
     "start_time": "2023-10-28T17:16:31.325561",
     "status": "completed"
    },
    "tags": []
   },
   "outputs": [
    {
     "data": {
      "text/plain": [
       "int"
      ]
     },
     "execution_count": 13,
     "metadata": {},
     "output_type": "execute_result"
    }
   ],
   "source": [
    "type(b)"
   ]
  },
  {
   "cell_type": "code",
   "execution_count": 14,
   "id": "b8f7f414",
   "metadata": {
    "execution": {
     "iopub.execute_input": "2023-10-28T17:16:31.491832Z",
     "iopub.status.busy": "2023-10-28T17:16:31.491450Z",
     "iopub.status.idle": "2023-10-28T17:16:31.497847Z",
     "shell.execute_reply": "2023-10-28T17:16:31.496829Z"
    },
    "papermill": {
     "duration": 0.061517,
     "end_time": "2023-10-28T17:16:31.499886",
     "exception": false,
     "start_time": "2023-10-28T17:16:31.438369",
     "status": "completed"
    },
    "tags": []
   },
   "outputs": [
    {
     "data": {
      "text/plain": [
       "6.0"
      ]
     },
     "execution_count": 14,
     "metadata": {},
     "output_type": "execute_result"
    }
   ],
   "source": [
    "c = float(b)\n",
    "c"
   ]
  },
  {
   "cell_type": "code",
   "execution_count": 15,
   "id": "94c684be",
   "metadata": {
    "execution": {
     "iopub.execute_input": "2023-10-28T17:16:31.604372Z",
     "iopub.status.busy": "2023-10-28T17:16:31.603668Z",
     "iopub.status.idle": "2023-10-28T17:16:31.609862Z",
     "shell.execute_reply": "2023-10-28T17:16:31.608931Z"
    },
    "papermill": {
     "duration": 0.06074,
     "end_time": "2023-10-28T17:16:31.611842",
     "exception": false,
     "start_time": "2023-10-28T17:16:31.551102",
     "status": "completed"
    },
    "tags": []
   },
   "outputs": [
    {
     "data": {
      "text/plain": [
       "float"
      ]
     },
     "execution_count": 15,
     "metadata": {},
     "output_type": "execute_result"
    }
   ],
   "source": [
    "type(c)"
   ]
  },
  {
   "cell_type": "code",
   "execution_count": 16,
   "id": "892d6207",
   "metadata": {
    "execution": {
     "iopub.execute_input": "2023-10-28T17:16:31.719121Z",
     "iopub.status.busy": "2023-10-28T17:16:31.718722Z",
     "iopub.status.idle": "2023-10-28T17:16:31.724735Z",
     "shell.execute_reply": "2023-10-28T17:16:31.723990Z"
    },
    "papermill": {
     "duration": 0.06142,
     "end_time": "2023-10-28T17:16:31.726553",
     "exception": false,
     "start_time": "2023-10-28T17:16:31.665133",
     "status": "completed"
    },
    "tags": []
   },
   "outputs": [
    {
     "data": {
      "text/plain": [
       "'667'"
      ]
     },
     "execution_count": 16,
     "metadata": {},
     "output_type": "execute_result"
    }
   ],
   "source": [
    "g = \"66\"\n",
    "h = \"7\"\n",
    "\n",
    "g + h"
   ]
  },
  {
   "cell_type": "code",
   "execution_count": 17,
   "id": "c72dfecb",
   "metadata": {
    "execution": {
     "iopub.execute_input": "2023-10-28T17:16:31.832767Z",
     "iopub.status.busy": "2023-10-28T17:16:31.831980Z",
     "iopub.status.idle": "2023-10-28T17:16:31.838013Z",
     "shell.execute_reply": "2023-10-28T17:16:31.837337Z"
    },
    "papermill": {
     "duration": 0.061547,
     "end_time": "2023-10-28T17:16:31.839841",
     "exception": false,
     "start_time": "2023-10-28T17:16:31.778294",
     "status": "completed"
    },
    "tags": []
   },
   "outputs": [
    {
     "data": {
      "text/plain": [
       "73"
      ]
     },
     "execution_count": 17,
     "metadata": {},
     "output_type": "execute_result"
    }
   ],
   "source": [
    "i = 66\n",
    "j = 7\n",
    "i + j"
   ]
  },
  {
   "cell_type": "code",
   "execution_count": 18,
   "id": "df0424ef",
   "metadata": {
    "execution": {
     "iopub.execute_input": "2023-10-28T17:16:31.947821Z",
     "iopub.status.busy": "2023-10-28T17:16:31.946942Z",
     "iopub.status.idle": "2023-10-28T17:16:31.953211Z",
     "shell.execute_reply": "2023-10-28T17:16:31.952499Z"
    },
    "papermill": {
     "duration": 0.061556,
     "end_time": "2023-10-28T17:16:31.954991",
     "exception": false,
     "start_time": "2023-10-28T17:16:31.893435",
     "status": "completed"
    },
    "tags": []
   },
   "outputs": [
    {
     "data": {
      "text/plain": [
       "'667'"
      ]
     },
     "execution_count": 18,
     "metadata": {},
     "output_type": "execute_result"
    }
   ],
   "source": [
    "p = \"66\"\n",
    "q = 7\n",
    "# \"667\"\n",
    "p + str(q)"
   ]
  },
  {
   "cell_type": "code",
   "execution_count": 19,
   "id": "9dab8c7a",
   "metadata": {
    "execution": {
     "iopub.execute_input": "2023-10-28T17:16:32.060562Z",
     "iopub.status.busy": "2023-10-28T17:16:32.060152Z",
     "iopub.status.idle": "2023-10-28T17:16:32.065876Z",
     "shell.execute_reply": "2023-10-28T17:16:32.064995Z"
    },
    "papermill": {
     "duration": 0.06062,
     "end_time": "2023-10-28T17:16:32.067803",
     "exception": false,
     "start_time": "2023-10-28T17:16:32.007183",
     "status": "completed"
    },
    "tags": []
   },
   "outputs": [
    {
     "data": {
      "text/plain": [
       "73"
      ]
     },
     "execution_count": 19,
     "metadata": {},
     "output_type": "execute_result"
    }
   ],
   "source": [
    "p = \"66\"\n",
    "q = 7\n",
    "int(p) + q"
   ]
  },
  {
   "cell_type": "code",
   "execution_count": 20,
   "id": "e351f66a",
   "metadata": {
    "execution": {
     "iopub.execute_input": "2023-10-28T17:16:32.173076Z",
     "iopub.status.busy": "2023-10-28T17:16:32.172429Z",
     "iopub.status.idle": "2023-10-28T17:16:32.177508Z",
     "shell.execute_reply": "2023-10-28T17:16:32.176817Z"
    },
    "papermill": {
     "duration": 0.060038,
     "end_time": "2023-10-28T17:16:32.179374",
     "exception": false,
     "start_time": "2023-10-28T17:16:32.119336",
     "status": "completed"
    },
    "tags": []
   },
   "outputs": [
    {
     "data": {
      "text/plain": [
       "8"
      ]
     },
     "execution_count": 20,
     "metadata": {},
     "output_type": "execute_result"
    }
   ],
   "source": [
    "a = 7\n",
    "b = 8\n",
    "b"
   ]
  },
  {
   "cell_type": "code",
   "execution_count": 21,
   "id": "39a5a5fe",
   "metadata": {
    "execution": {
     "iopub.execute_input": "2023-10-28T17:16:32.284928Z",
     "iopub.status.busy": "2023-10-28T17:16:32.284547Z",
     "iopub.status.idle": "2023-10-28T17:16:32.290367Z",
     "shell.execute_reply": "2023-10-28T17:16:32.289696Z"
    },
    "papermill": {
     "duration": 0.060562,
     "end_time": "2023-10-28T17:16:32.292149",
     "exception": false,
     "start_time": "2023-10-28T17:16:32.231587",
     "status": "completed"
    },
    "tags": []
   },
   "outputs": [
    {
     "data": {
      "text/plain": [
       "8"
      ]
     },
     "execution_count": 21,
     "metadata": {},
     "output_type": "execute_result"
    }
   ],
   "source": [
    "a,b = 7,8\n",
    "b"
   ]
  },
  {
   "cell_type": "code",
   "execution_count": 22,
   "id": "ead28fbf",
   "metadata": {
    "execution": {
     "iopub.execute_input": "2023-10-28T17:16:32.398183Z",
     "iopub.status.busy": "2023-10-28T17:16:32.397203Z",
     "iopub.status.idle": "2023-10-28T17:16:32.403036Z",
     "shell.execute_reply": "2023-10-28T17:16:32.402367Z"
    },
    "papermill": {
     "duration": 0.060943,
     "end_time": "2023-10-28T17:16:32.404878",
     "exception": false,
     "start_time": "2023-10-28T17:16:32.343935",
     "status": "completed"
    },
    "tags": []
   },
   "outputs": [
    {
     "data": {
      "text/plain": [
       "7"
      ]
     },
     "execution_count": 22,
     "metadata": {},
     "output_type": "execute_result"
    }
   ],
   "source": [
    "abhi7 = 7\n",
    "abhi7"
   ]
  },
  {
   "cell_type": "code",
   "execution_count": 23,
   "id": "6003390c",
   "metadata": {
    "execution": {
     "iopub.execute_input": "2023-10-28T17:16:32.512512Z",
     "iopub.status.busy": "2023-10-28T17:16:32.511772Z",
     "iopub.status.idle": "2023-10-28T17:16:32.518890Z",
     "shell.execute_reply": "2023-10-28T17:16:32.517841Z"
    },
    "papermill": {
     "duration": 0.061819,
     "end_time": "2023-10-28T17:16:32.520869",
     "exception": false,
     "start_time": "2023-10-28T17:16:32.459050",
     "status": "completed"
    },
    "tags": []
   },
   "outputs": [
    {
     "name": "stdout",
     "output_type": "stream",
     "text": [
      "Sally\n"
     ]
    }
   ],
   "source": [
    "x = 4       # x is of type int\n",
    "x = \"Sally\" # x is now of type str\n",
    "print(x)"
   ]
  },
  {
   "cell_type": "code",
   "execution_count": 24,
   "id": "b4a084b8",
   "metadata": {
    "execution": {
     "iopub.execute_input": "2023-10-28T17:16:32.627512Z",
     "iopub.status.busy": "2023-10-28T17:16:32.626850Z",
     "iopub.status.idle": "2023-10-28T17:16:32.631884Z",
     "shell.execute_reply": "2023-10-28T17:16:32.630660Z"
    },
    "papermill": {
     "duration": 0.060278,
     "end_time": "2023-10-28T17:16:32.633851",
     "exception": false,
     "start_time": "2023-10-28T17:16:32.573573",
     "status": "completed"
    },
    "tags": []
   },
   "outputs": [
    {
     "name": "stdout",
     "output_type": "stream",
     "text": [
      "4\n"
     ]
    }
   ],
   "source": [
    "x = 4       # x is of type int\n",
    "print(x)\n",
    "x = \"Sally\" # x is now of type str\n"
   ]
  },
  {
   "cell_type": "code",
   "execution_count": 25,
   "id": "4773617c",
   "metadata": {
    "execution": {
     "iopub.execute_input": "2023-10-28T17:16:32.740665Z",
     "iopub.status.busy": "2023-10-28T17:16:32.739986Z",
     "iopub.status.idle": "2023-10-28T17:16:32.744666Z",
     "shell.execute_reply": "2023-10-28T17:16:32.743624Z"
    },
    "papermill": {
     "duration": 0.059824,
     "end_time": "2023-10-28T17:16:32.746490",
     "exception": false,
     "start_time": "2023-10-28T17:16:32.686666",
     "status": "completed"
    },
    "tags": []
   },
   "outputs": [
    {
     "name": "stdout",
     "output_type": "stream",
     "text": [
      "7\n"
     ]
    }
   ],
   "source": [
    "# o/p\n",
    "a= 7\n",
    "print(a)"
   ]
  },
  {
   "cell_type": "code",
   "execution_count": 26,
   "id": "b04db2a8",
   "metadata": {
    "execution": {
     "iopub.execute_input": "2023-10-28T17:16:32.854133Z",
     "iopub.status.busy": "2023-10-28T17:16:32.853445Z",
     "iopub.status.idle": "2023-10-28T17:16:32.856951Z",
     "shell.execute_reply": "2023-10-28T17:16:32.856259Z"
    },
    "papermill": {
     "duration": 0.059118,
     "end_time": "2023-10-28T17:16:32.858745",
     "exception": false,
     "start_time": "2023-10-28T17:16:32.799627",
     "status": "completed"
    },
    "tags": []
   },
   "outputs": [],
   "source": [
    "# a = int(input())\n",
    "# print(a+1)"
   ]
  },
  {
   "cell_type": "code",
   "execution_count": 27,
   "id": "5e349b52",
   "metadata": {
    "execution": {
     "iopub.execute_input": "2023-10-28T17:16:32.965049Z",
     "iopub.status.busy": "2023-10-28T17:16:32.964384Z",
     "iopub.status.idle": "2023-10-28T17:16:32.969321Z",
     "shell.execute_reply": "2023-10-28T17:16:32.968689Z"
    },
    "papermill": {
     "duration": 0.060031,
     "end_time": "2023-10-28T17:16:32.971069",
     "exception": false,
     "start_time": "2023-10-28T17:16:32.911038",
     "status": "completed"
    },
    "tags": []
   },
   "outputs": [
    {
     "data": {
      "text/plain": [
       "13"
      ]
     },
     "execution_count": 27,
     "metadata": {},
     "output_type": "execute_result"
    }
   ],
   "source": [
    "a = 6 + 7\n",
    "a"
   ]
  },
  {
   "cell_type": "code",
   "execution_count": 28,
   "id": "1f210d16",
   "metadata": {
    "execution": {
     "iopub.execute_input": "2023-10-28T17:16:33.077907Z",
     "iopub.status.busy": "2023-10-28T17:16:33.077009Z",
     "iopub.status.idle": "2023-10-28T17:16:33.082272Z",
     "shell.execute_reply": "2023-10-28T17:16:33.081632Z"
    },
    "papermill": {
     "duration": 0.061134,
     "end_time": "2023-10-28T17:16:33.084241",
     "exception": false,
     "start_time": "2023-10-28T17:16:33.023107",
     "status": "completed"
    },
    "tags": []
   },
   "outputs": [
    {
     "data": {
      "text/plain": [
       "'da50'"
      ]
     },
     "execution_count": 28,
     "metadata": {},
     "output_type": "execute_result"
    }
   ],
   "source": [
    "b = \"da\" + str(50)\n",
    "b"
   ]
  },
  {
   "cell_type": "code",
   "execution_count": 29,
   "id": "4da89406",
   "metadata": {
    "execution": {
     "iopub.execute_input": "2023-10-28T17:16:33.192453Z",
     "iopub.status.busy": "2023-10-28T17:16:33.192082Z",
     "iopub.status.idle": "2023-10-28T17:16:33.196670Z",
     "shell.execute_reply": "2023-10-28T17:16:33.195902Z"
    },
    "papermill": {
     "duration": 0.060997,
     "end_time": "2023-10-28T17:16:33.198678",
     "exception": false,
     "start_time": "2023-10-28T17:16:33.137681",
     "status": "completed"
    },
    "tags": []
   },
   "outputs": [
    {
     "name": "stdout",
     "output_type": "stream",
     "text": [
      "5 John\n"
     ]
    }
   ],
   "source": [
    "x = 5\n",
    "y = \"John\"\n",
    "print(x, y)"
   ]
  },
  {
   "cell_type": "code",
   "execution_count": 30,
   "id": "238aa3f7",
   "metadata": {
    "execution": {
     "iopub.execute_input": "2023-10-28T17:16:33.305537Z",
     "iopub.status.busy": "2023-10-28T17:16:33.305119Z",
     "iopub.status.idle": "2023-10-28T17:16:33.308953Z",
     "shell.execute_reply": "2023-10-28T17:16:33.308225Z"
    },
    "papermill": {
     "duration": 0.059127,
     "end_time": "2023-10-28T17:16:33.310715",
     "exception": false,
     "start_time": "2023-10-28T17:16:33.251588",
     "status": "completed"
    },
    "tags": []
   },
   "outputs": [],
   "source": [
    "a = 6 \n",
    "a = 7"
   ]
  },
  {
   "cell_type": "markdown",
   "id": "7b8c4e81",
   "metadata": {
    "papermill": {
     "duration": 0.111183,
     "end_time": "2023-10-28T17:16:33.474817",
     "exception": false,
     "start_time": "2023-10-28T17:16:33.363634",
     "status": "completed"
    },
    "tags": []
   },
   "source": [
    "# data  structures\n"
   ]
  },
  {
   "cell_type": "markdown",
   "id": "2b2a80de",
   "metadata": {
    "papermill": {
     "duration": 0.052128,
     "end_time": "2023-10-28T17:16:33.579711",
     "exception": false,
     "start_time": "2023-10-28T17:16:33.527583",
     "status": "completed"
    },
    "tags": []
   },
   "source": [
    "# List  [ ] "
   ]
  },
  {
   "cell_type": "code",
   "execution_count": 31,
   "id": "8d220102",
   "metadata": {
    "execution": {
     "iopub.execute_input": "2023-10-28T17:16:33.686901Z",
     "iopub.status.busy": "2023-10-28T17:16:33.686205Z",
     "iopub.status.idle": "2023-10-28T17:16:33.692032Z",
     "shell.execute_reply": "2023-10-28T17:16:33.691081Z"
    },
    "papermill": {
     "duration": 0.062044,
     "end_time": "2023-10-28T17:16:33.693935",
     "exception": false,
     "start_time": "2023-10-28T17:16:33.631891",
     "status": "completed"
    },
    "tags": []
   },
   "outputs": [
    {
     "data": {
      "text/plain": [
       "11"
      ]
     },
     "execution_count": 31,
     "metadata": {},
     "output_type": "execute_result"
    }
   ],
   "source": [
    "a = [11,28,34,45,57]\n",
    "a[0]\n",
    "\n"
   ]
  },
  {
   "cell_type": "code",
   "execution_count": 32,
   "id": "2d8c9927",
   "metadata": {
    "execution": {
     "iopub.execute_input": "2023-10-28T17:16:33.801597Z",
     "iopub.status.busy": "2023-10-28T17:16:33.801196Z",
     "iopub.status.idle": "2023-10-28T17:16:33.807249Z",
     "shell.execute_reply": "2023-10-28T17:16:33.806411Z"
    },
    "papermill": {
     "duration": 0.06251,
     "end_time": "2023-10-28T17:16:33.809477",
     "exception": false,
     "start_time": "2023-10-28T17:16:33.746967",
     "status": "completed"
    },
    "tags": []
   },
   "outputs": [
    {
     "data": {
      "text/plain": [
       "57"
      ]
     },
     "execution_count": 32,
     "metadata": {},
     "output_type": "execute_result"
    }
   ],
   "source": [
    "a[4]"
   ]
  },
  {
   "cell_type": "code",
   "execution_count": 33,
   "id": "7d4f94c0",
   "metadata": {
    "execution": {
     "iopub.execute_input": "2023-10-28T17:16:33.917635Z",
     "iopub.status.busy": "2023-10-28T17:16:33.917021Z",
     "iopub.status.idle": "2023-10-28T17:16:33.922310Z",
     "shell.execute_reply": "2023-10-28T17:16:33.921354Z"
    },
    "papermill": {
     "duration": 0.062493,
     "end_time": "2023-10-28T17:16:33.924538",
     "exception": false,
     "start_time": "2023-10-28T17:16:33.862045",
     "status": "completed"
    },
    "tags": []
   },
   "outputs": [
    {
     "data": {
      "text/plain": [
       "[11, 28, 34, 45, 57]"
      ]
     },
     "execution_count": 33,
     "metadata": {},
     "output_type": "execute_result"
    }
   ],
   "source": [
    "a"
   ]
  },
  {
   "cell_type": "code",
   "execution_count": 34,
   "id": "eeb30e6b",
   "metadata": {
    "execution": {
     "iopub.execute_input": "2023-10-28T17:16:34.034260Z",
     "iopub.status.busy": "2023-10-28T17:16:34.033561Z",
     "iopub.status.idle": "2023-10-28T17:16:34.039378Z",
     "shell.execute_reply": "2023-10-28T17:16:34.038492Z"
    },
    "papermill": {
     "duration": 0.062518,
     "end_time": "2023-10-28T17:16:34.041387",
     "exception": false,
     "start_time": "2023-10-28T17:16:33.978869",
     "status": "completed"
    },
    "tags": []
   },
   "outputs": [
    {
     "data": {
      "text/plain": [
       "57"
      ]
     },
     "execution_count": 34,
     "metadata": {},
     "output_type": "execute_result"
    }
   ],
   "source": [
    "a[-1]"
   ]
  },
  {
   "cell_type": "code",
   "execution_count": 35,
   "id": "72f83a58",
   "metadata": {
    "execution": {
     "iopub.execute_input": "2023-10-28T17:16:34.149821Z",
     "iopub.status.busy": "2023-10-28T17:16:34.149436Z",
     "iopub.status.idle": "2023-10-28T17:16:34.155412Z",
     "shell.execute_reply": "2023-10-28T17:16:34.154357Z"
    },
    "papermill": {
     "duration": 0.062856,
     "end_time": "2023-10-28T17:16:34.157452",
     "exception": false,
     "start_time": "2023-10-28T17:16:34.094596",
     "status": "completed"
    },
    "tags": []
   },
   "outputs": [
    {
     "data": {
      "text/plain": [
       "11"
      ]
     },
     "execution_count": 35,
     "metadata": {},
     "output_type": "execute_result"
    }
   ],
   "source": [
    "a[-5]"
   ]
  },
  {
   "cell_type": "code",
   "execution_count": 36,
   "id": "7aed31d4",
   "metadata": {
    "execution": {
     "iopub.execute_input": "2023-10-28T17:16:34.265511Z",
     "iopub.status.busy": "2023-10-28T17:16:34.265087Z",
     "iopub.status.idle": "2023-10-28T17:16:34.271286Z",
     "shell.execute_reply": "2023-10-28T17:16:34.270295Z"
    },
    "papermill": {
     "duration": 0.062416,
     "end_time": "2023-10-28T17:16:34.273248",
     "exception": false,
     "start_time": "2023-10-28T17:16:34.210832",
     "status": "completed"
    },
    "tags": []
   },
   "outputs": [
    {
     "data": {
      "text/plain": [
       "[28, 34, 45]"
      ]
     },
     "execution_count": 36,
     "metadata": {},
     "output_type": "execute_result"
    }
   ],
   "source": [
    "a[1:4]"
   ]
  },
  {
   "cell_type": "code",
   "execution_count": 37,
   "id": "d7c6ebe8",
   "metadata": {
    "execution": {
     "iopub.execute_input": "2023-10-28T17:16:34.381968Z",
     "iopub.status.busy": "2023-10-28T17:16:34.381594Z",
     "iopub.status.idle": "2023-10-28T17:16:34.386144Z",
     "shell.execute_reply": "2023-10-28T17:16:34.385109Z"
    },
    "papermill": {
     "duration": 0.061218,
     "end_time": "2023-10-28T17:16:34.388047",
     "exception": false,
     "start_time": "2023-10-28T17:16:34.326829",
     "status": "completed"
    },
    "tags": []
   },
   "outputs": [],
   "source": [
    "a = [10,20,30,40 ,50,60,70,80,90]"
   ]
  },
  {
   "cell_type": "code",
   "execution_count": 38,
   "id": "0618ccca",
   "metadata": {
    "execution": {
     "iopub.execute_input": "2023-10-28T17:16:34.498140Z",
     "iopub.status.busy": "2023-10-28T17:16:34.497477Z",
     "iopub.status.idle": "2023-10-28T17:16:34.503508Z",
     "shell.execute_reply": "2023-10-28T17:16:34.502729Z"
    },
    "papermill": {
     "duration": 0.062551,
     "end_time": "2023-10-28T17:16:34.505344",
     "exception": false,
     "start_time": "2023-10-28T17:16:34.442793",
     "status": "completed"
    },
    "tags": []
   },
   "outputs": [
    {
     "data": {
      "text/plain": [
       "[20, 30, 40, 50, 60, 70, 80]"
      ]
     },
     "execution_count": 38,
     "metadata": {},
     "output_type": "execute_result"
    }
   ],
   "source": [
    "# 2 property index - list = zero -index \n",
    "a[1:8]"
   ]
  },
  {
   "cell_type": "code",
   "execution_count": 39,
   "id": "a6cbbe85",
   "metadata": {
    "execution": {
     "iopub.execute_input": "2023-10-28T17:16:34.616549Z",
     "iopub.status.busy": "2023-10-28T17:16:34.616137Z",
     "iopub.status.idle": "2023-10-28T17:16:34.622335Z",
     "shell.execute_reply": "2023-10-28T17:16:34.621658Z"
    },
    "papermill": {
     "duration": 0.064429,
     "end_time": "2023-10-28T17:16:34.624145",
     "exception": false,
     "start_time": "2023-10-28T17:16:34.559716",
     "status": "completed"
    },
    "tags": []
   },
   "outputs": [
    {
     "data": {
      "text/plain": [
       "[20, 40, 60, 80]"
      ]
     },
     "execution_count": 39,
     "metadata": {},
     "output_type": "execute_result"
    }
   ],
   "source": [
    "a[1:8:2]"
   ]
  },
  {
   "cell_type": "code",
   "execution_count": 40,
   "id": "60474898",
   "metadata": {
    "execution": {
     "iopub.execute_input": "2023-10-28T17:16:34.734908Z",
     "iopub.status.busy": "2023-10-28T17:16:34.733834Z",
     "iopub.status.idle": "2023-10-28T17:16:34.741156Z",
     "shell.execute_reply": "2023-10-28T17:16:34.740188Z"
    },
    "papermill": {
     "duration": 0.065041,
     "end_time": "2023-10-28T17:16:34.743228",
     "exception": false,
     "start_time": "2023-10-28T17:16:34.678187",
     "status": "completed"
    },
    "tags": []
   },
   "outputs": [
    {
     "data": {
      "text/plain": [
       "[20, 50, 80]"
      ]
     },
     "execution_count": 40,
     "metadata": {},
     "output_type": "execute_result"
    }
   ],
   "source": [
    "a[1:-1:3]"
   ]
  },
  {
   "cell_type": "code",
   "execution_count": 41,
   "id": "54a501ef",
   "metadata": {
    "execution": {
     "iopub.execute_input": "2023-10-28T17:16:34.852439Z",
     "iopub.status.busy": "2023-10-28T17:16:34.852078Z",
     "iopub.status.idle": "2023-10-28T17:16:34.857826Z",
     "shell.execute_reply": "2023-10-28T17:16:34.856770Z"
    },
    "papermill": {
     "duration": 0.063336,
     "end_time": "2023-10-28T17:16:34.860036",
     "exception": false,
     "start_time": "2023-10-28T17:16:34.796700",
     "status": "completed"
    },
    "tags": []
   },
   "outputs": [
    {
     "data": {
      "text/plain": [
       "[10, 20, 30, 40, 50, 60, 70, 80, 90]"
      ]
     },
     "execution_count": 41,
     "metadata": {},
     "output_type": "execute_result"
    }
   ],
   "source": [
    "# property of 1 of list \n",
    "# mutabilty\n",
    "\n",
    "a "
   ]
  },
  {
   "cell_type": "code",
   "execution_count": 42,
   "id": "22899086",
   "metadata": {
    "execution": {
     "iopub.execute_input": "2023-10-28T17:16:34.972161Z",
     "iopub.status.busy": "2023-10-28T17:16:34.971811Z",
     "iopub.status.idle": "2023-10-28T17:16:34.977184Z",
     "shell.execute_reply": "2023-10-28T17:16:34.976289Z"
    },
    "papermill": {
     "duration": 0.064007,
     "end_time": "2023-10-28T17:16:34.979425",
     "exception": false,
     "start_time": "2023-10-28T17:16:34.915418",
     "status": "completed"
    },
    "tags": []
   },
   "outputs": [
    {
     "data": {
      "text/plain": [
       "10"
      ]
     },
     "execution_count": 42,
     "metadata": {},
     "output_type": "execute_result"
    }
   ],
   "source": [
    "a[0]"
   ]
  },
  {
   "cell_type": "code",
   "execution_count": 43,
   "id": "e5146df2",
   "metadata": {
    "execution": {
     "iopub.execute_input": "2023-10-28T17:16:35.088498Z",
     "iopub.status.busy": "2023-10-28T17:16:35.088100Z",
     "iopub.status.idle": "2023-10-28T17:16:35.094924Z",
     "shell.execute_reply": "2023-10-28T17:16:35.093726Z"
    },
    "papermill": {
     "duration": 0.063231,
     "end_time": "2023-10-28T17:16:35.096870",
     "exception": false,
     "start_time": "2023-10-28T17:16:35.033639",
     "status": "completed"
    },
    "tags": []
   },
   "outputs": [
    {
     "data": {
      "text/plain": [
       "[900, 20, 30, 40, 50, 60, 70, 80, 90]"
      ]
     },
     "execution_count": 43,
     "metadata": {},
     "output_type": "execute_result"
    }
   ],
   "source": [
    "a[0] = 900\n",
    "a"
   ]
  },
  {
   "cell_type": "code",
   "execution_count": 44,
   "id": "7773e7b5",
   "metadata": {
    "execution": {
     "iopub.execute_input": "2023-10-28T17:16:35.204268Z",
     "iopub.status.busy": "2023-10-28T17:16:35.203918Z",
     "iopub.status.idle": "2023-10-28T17:16:35.209267Z",
     "shell.execute_reply": "2023-10-28T17:16:35.208295Z"
    },
    "papermill": {
     "duration": 0.061601,
     "end_time": "2023-10-28T17:16:35.211171",
     "exception": false,
     "start_time": "2023-10-28T17:16:35.149570",
     "status": "completed"
    },
    "tags": []
   },
   "outputs": [
    {
     "data": {
      "text/plain": [
       "list"
      ]
     },
     "execution_count": 44,
     "metadata": {},
     "output_type": "execute_result"
    }
   ],
   "source": [
    "type(a)"
   ]
  },
  {
   "cell_type": "markdown",
   "id": "87d0fef1",
   "metadata": {
    "papermill": {
     "duration": 0.052905,
     "end_time": "2023-10-28T17:16:35.317181",
     "exception": false,
     "start_time": "2023-10-28T17:16:35.264276",
     "status": "completed"
    },
    "tags": []
   },
   "source": [
    "# tuple  (  )"
   ]
  },
  {
   "cell_type": "code",
   "execution_count": 45,
   "id": "71d3f0ac",
   "metadata": {
    "execution": {
     "iopub.execute_input": "2023-10-28T17:16:35.429156Z",
     "iopub.status.busy": "2023-10-28T17:16:35.428355Z",
     "iopub.status.idle": "2023-10-28T17:16:35.436967Z",
     "shell.execute_reply": "2023-10-28T17:16:35.435229Z"
    },
    "papermill": {
     "duration": 0.0682,
     "end_time": "2023-10-28T17:16:35.438873",
     "exception": false,
     "start_time": "2023-10-28T17:16:35.370673",
     "status": "completed"
    },
    "tags": []
   },
   "outputs": [
    {
     "data": {
      "text/plain": [
       "10"
      ]
     },
     "execution_count": 45,
     "metadata": {},
     "output_type": "execute_result"
    }
   ],
   "source": [
    "b = (10,20,30,40,50)\n",
    "b[0]"
   ]
  },
  {
   "cell_type": "code",
   "execution_count": 46,
   "id": "bd270edf",
   "metadata": {
    "execution": {
     "iopub.execute_input": "2023-10-28T17:16:35.555978Z",
     "iopub.status.busy": "2023-10-28T17:16:35.554740Z",
     "iopub.status.idle": "2023-10-28T17:16:35.560961Z",
     "shell.execute_reply": "2023-10-28T17:16:35.560201Z"
    },
    "papermill": {
     "duration": 0.067961,
     "end_time": "2023-10-28T17:16:35.564939",
     "exception": false,
     "start_time": "2023-10-28T17:16:35.496978",
     "status": "completed"
    },
    "tags": []
   },
   "outputs": [
    {
     "data": {
      "text/plain": [
       "tuple"
      ]
     },
     "execution_count": 46,
     "metadata": {},
     "output_type": "execute_result"
    }
   ],
   "source": [
    "type(b)"
   ]
  },
  {
   "cell_type": "code",
   "execution_count": 47,
   "id": "243d4078",
   "metadata": {
    "execution": {
     "iopub.execute_input": "2023-10-28T17:16:35.695659Z",
     "iopub.status.busy": "2023-10-28T17:16:35.694556Z",
     "iopub.status.idle": "2023-10-28T17:16:35.700165Z",
     "shell.execute_reply": "2023-10-28T17:16:35.699501Z"
    },
    "papermill": {
     "duration": 0.066589,
     "end_time": "2023-10-28T17:16:35.701866",
     "exception": false,
     "start_time": "2023-10-28T17:16:35.635277",
     "status": "completed"
    },
    "tags": []
   },
   "outputs": [
    {
     "data": {
      "text/plain": [
       "50"
      ]
     },
     "execution_count": 47,
     "metadata": {},
     "output_type": "execute_result"
    }
   ],
   "source": [
    "b[4]"
   ]
  },
  {
   "cell_type": "code",
   "execution_count": 48,
   "id": "f7b25f22",
   "metadata": {
    "execution": {
     "iopub.execute_input": "2023-10-28T17:16:35.818839Z",
     "iopub.status.busy": "2023-10-28T17:16:35.817637Z",
     "iopub.status.idle": "2023-10-28T17:16:35.823954Z",
     "shell.execute_reply": "2023-10-28T17:16:35.822992Z"
    },
    "papermill": {
     "duration": 0.069906,
     "end_time": "2023-10-28T17:16:35.826247",
     "exception": false,
     "start_time": "2023-10-28T17:16:35.756341",
     "status": "completed"
    },
    "tags": []
   },
   "outputs": [
    {
     "data": {
      "text/plain": [
       "50"
      ]
     },
     "execution_count": 48,
     "metadata": {},
     "output_type": "execute_result"
    }
   ],
   "source": [
    "b[-1]"
   ]
  },
  {
   "cell_type": "code",
   "execution_count": 49,
   "id": "fbf20f44",
   "metadata": {
    "execution": {
     "iopub.execute_input": "2023-10-28T17:16:35.938850Z",
     "iopub.status.busy": "2023-10-28T17:16:35.937828Z",
     "iopub.status.idle": "2023-10-28T17:16:35.941794Z",
     "shell.execute_reply": "2023-10-28T17:16:35.941141Z"
    },
    "papermill": {
     "duration": 0.060924,
     "end_time": "2023-10-28T17:16:35.943544",
     "exception": false,
     "start_time": "2023-10-28T17:16:35.882620",
     "status": "completed"
    },
    "tags": []
   },
   "outputs": [],
   "source": [
    "# property 2 of tuple - zero index "
   ]
  },
  {
   "cell_type": "code",
   "execution_count": 50,
   "id": "f5431889",
   "metadata": {
    "execution": {
     "iopub.execute_input": "2023-10-28T17:16:36.052369Z",
     "iopub.status.busy": "2023-10-28T17:16:36.051271Z",
     "iopub.status.idle": "2023-10-28T17:16:36.055651Z",
     "shell.execute_reply": "2023-10-28T17:16:36.054815Z"
    },
    "papermill": {
     "duration": 0.060887,
     "end_time": "2023-10-28T17:16:36.057633",
     "exception": false,
     "start_time": "2023-10-28T17:16:35.996746",
     "status": "completed"
    },
    "tags": []
   },
   "outputs": [],
   "source": [
    "# b[0] = 10"
   ]
  },
  {
   "cell_type": "code",
   "execution_count": 51,
   "id": "1f189a6c",
   "metadata": {
    "execution": {
     "iopub.execute_input": "2023-10-28T17:16:36.168950Z",
     "iopub.status.busy": "2023-10-28T17:16:36.168594Z",
     "iopub.status.idle": "2023-10-28T17:16:36.172777Z",
     "shell.execute_reply": "2023-10-28T17:16:36.171795Z"
    },
    "papermill": {
     "duration": 0.061879,
     "end_time": "2023-10-28T17:16:36.174820",
     "exception": false,
     "start_time": "2023-10-28T17:16:36.112941",
     "status": "completed"
    },
    "tags": []
   },
   "outputs": [],
   "source": [
    "# property immutabilty - ypu cant change elements in a list"
   ]
  },
  {
   "cell_type": "code",
   "execution_count": 52,
   "id": "d6153384",
   "metadata": {
    "execution": {
     "iopub.execute_input": "2023-10-28T17:16:36.284748Z",
     "iopub.status.busy": "2023-10-28T17:16:36.284125Z",
     "iopub.status.idle": "2023-10-28T17:16:36.288306Z",
     "shell.execute_reply": "2023-10-28T17:16:36.287320Z"
    },
    "papermill": {
     "duration": 0.061577,
     "end_time": "2023-10-28T17:16:36.290217",
     "exception": false,
     "start_time": "2023-10-28T17:16:36.228640",
     "status": "completed"
    },
    "tags": []
   },
   "outputs": [],
   "source": [
    "# set "
   ]
  },
  {
   "cell_type": "markdown",
   "id": "6a72ff01",
   "metadata": {
    "papermill": {
     "duration": 0.053755,
     "end_time": "2023-10-28T17:16:36.399553",
     "exception": false,
     "start_time": "2023-10-28T17:16:36.345798",
     "status": "completed"
    },
    "tags": []
   },
   "source": [
    "{ }"
   ]
  },
  {
   "cell_type": "code",
   "execution_count": 53,
   "id": "649c7100",
   "metadata": {
    "execution": {
     "iopub.execute_input": "2023-10-28T17:16:36.510003Z",
     "iopub.status.busy": "2023-10-28T17:16:36.509101Z",
     "iopub.status.idle": "2023-10-28T17:16:36.514264Z",
     "shell.execute_reply": "2023-10-28T17:16:36.513188Z"
    },
    "papermill": {
     "duration": 0.062551,
     "end_time": "2023-10-28T17:16:36.516288",
     "exception": false,
     "start_time": "2023-10-28T17:16:36.453737",
     "status": "completed"
    },
    "tags": []
   },
   "outputs": [],
   "source": [
    "c = {10,20,30,40}"
   ]
  },
  {
   "cell_type": "code",
   "execution_count": 54,
   "id": "e11e7be5",
   "metadata": {
    "execution": {
     "iopub.execute_input": "2023-10-28T17:16:36.625415Z",
     "iopub.status.busy": "2023-10-28T17:16:36.625064Z",
     "iopub.status.idle": "2023-10-28T17:16:36.631201Z",
     "shell.execute_reply": "2023-10-28T17:16:36.630206Z"
    },
    "papermill": {
     "duration": 0.062857,
     "end_time": "2023-10-28T17:16:36.633019",
     "exception": false,
     "start_time": "2023-10-28T17:16:36.570162",
     "status": "completed"
    },
    "tags": []
   },
   "outputs": [
    {
     "data": {
      "text/plain": [
       "{10, 20, 30, 40}"
      ]
     },
     "execution_count": 54,
     "metadata": {},
     "output_type": "execute_result"
    }
   ],
   "source": [
    "c"
   ]
  },
  {
   "cell_type": "code",
   "execution_count": 55,
   "id": "44751be2",
   "metadata": {
    "execution": {
     "iopub.execute_input": "2023-10-28T17:16:36.745350Z",
     "iopub.status.busy": "2023-10-28T17:16:36.744988Z",
     "iopub.status.idle": "2023-10-28T17:16:36.749498Z",
     "shell.execute_reply": "2023-10-28T17:16:36.748515Z"
    },
    "papermill": {
     "duration": 0.062359,
     "end_time": "2023-10-28T17:16:36.751555",
     "exception": false,
     "start_time": "2023-10-28T17:16:36.689196",
     "status": "completed"
    },
    "tags": []
   },
   "outputs": [],
   "source": [
    "d = {10,20,10,20}"
   ]
  },
  {
   "cell_type": "code",
   "execution_count": 56,
   "id": "6f4e3804",
   "metadata": {
    "execution": {
     "iopub.execute_input": "2023-10-28T17:16:36.863188Z",
     "iopub.status.busy": "2023-10-28T17:16:36.862143Z",
     "iopub.status.idle": "2023-10-28T17:16:36.867645Z",
     "shell.execute_reply": "2023-10-28T17:16:36.866868Z"
    },
    "papermill": {
     "duration": 0.063354,
     "end_time": "2023-10-28T17:16:36.869555",
     "exception": false,
     "start_time": "2023-10-28T17:16:36.806201",
     "status": "completed"
    },
    "tags": []
   },
   "outputs": [
    {
     "data": {
      "text/plain": [
       "{10, 20}"
      ]
     },
     "execution_count": 56,
     "metadata": {},
     "output_type": "execute_result"
    }
   ],
   "source": [
    "d"
   ]
  },
  {
   "cell_type": "code",
   "execution_count": 57,
   "id": "040bfeb6",
   "metadata": {
    "execution": {
     "iopub.execute_input": "2023-10-28T17:16:36.980809Z",
     "iopub.status.busy": "2023-10-28T17:16:36.980413Z",
     "iopub.status.idle": "2023-10-28T17:16:36.984873Z",
     "shell.execute_reply": "2023-10-28T17:16:36.983831Z"
    },
    "papermill": {
     "duration": 0.062691,
     "end_time": "2023-10-28T17:16:36.986864",
     "exception": false,
     "start_time": "2023-10-28T17:16:36.924173",
     "status": "completed"
    },
    "tags": []
   },
   "outputs": [],
   "source": [
    "# # property 1 \n",
    "\n",
    "# unique elements only "
   ]
  },
  {
   "cell_type": "code",
   "execution_count": 58,
   "id": "fc2abf66",
   "metadata": {
    "execution": {
     "iopub.execute_input": "2023-10-28T17:16:37.114997Z",
     "iopub.status.busy": "2023-10-28T17:16:37.114149Z",
     "iopub.status.idle": "2023-10-28T17:16:37.122381Z",
     "shell.execute_reply": "2023-10-28T17:16:37.121388Z"
    },
    "papermill": {
     "duration": 0.082926,
     "end_time": "2023-10-28T17:16:37.124436",
     "exception": false,
     "start_time": "2023-10-28T17:16:37.041510",
     "status": "completed"
    },
    "tags": []
   },
   "outputs": [
    {
     "data": {
      "text/plain": [
       "{10, 20}"
      ]
     },
     "execution_count": 58,
     "metadata": {},
     "output_type": "execute_result"
    }
   ],
   "source": [
    "# property \n",
    "# there is no index in set \n",
    "\n",
    "d"
   ]
  },
  {
   "cell_type": "code",
   "execution_count": 59,
   "id": "03a4463c",
   "metadata": {
    "execution": {
     "iopub.execute_input": "2023-10-28T17:16:37.241663Z",
     "iopub.status.busy": "2023-10-28T17:16:37.240906Z",
     "iopub.status.idle": "2023-10-28T17:16:37.245210Z",
     "shell.execute_reply": "2023-10-28T17:16:37.244529Z"
    },
    "papermill": {
     "duration": 0.067493,
     "end_time": "2023-10-28T17:16:37.247132",
     "exception": false,
     "start_time": "2023-10-28T17:16:37.179639",
     "status": "completed"
    },
    "tags": []
   },
   "outputs": [],
   "source": [
    "# d[0]"
   ]
  },
  {
   "cell_type": "markdown",
   "id": "6b443b10",
   "metadata": {
    "papermill": {
     "duration": 0.055785,
     "end_time": "2023-10-28T17:16:37.357881",
     "exception": false,
     "start_time": "2023-10-28T17:16:37.302096",
     "status": "completed"
    },
    "tags": []
   },
   "source": [
    "# dictionary  ( ) "
   ]
  },
  {
   "cell_type": "code",
   "execution_count": 60,
   "id": "7cef1995",
   "metadata": {
    "execution": {
     "iopub.execute_input": "2023-10-28T17:16:37.485305Z",
     "iopub.status.busy": "2023-10-28T17:16:37.484625Z",
     "iopub.status.idle": "2023-10-28T17:16:37.488707Z",
     "shell.execute_reply": "2023-10-28T17:16:37.487883Z"
    },
    "papermill": {
     "duration": 0.074439,
     "end_time": "2023-10-28T17:16:37.490974",
     "exception": false,
     "start_time": "2023-10-28T17:16:37.416535",
     "status": "completed"
    },
    "tags": []
   },
   "outputs": [],
   "source": [
    "t = { \"beautiful\"   : \"swapna is a beautiful women\",\n",
    "    \"smart\" : \"tayyab is a smart person\",\n",
    "    \"clever\" : \"parth is clever\"}"
   ]
  },
  {
   "cell_type": "code",
   "execution_count": 61,
   "id": "4dbc80ba",
   "metadata": {
    "execution": {
     "iopub.execute_input": "2023-10-28T17:16:37.609406Z",
     "iopub.status.busy": "2023-10-28T17:16:37.609033Z",
     "iopub.status.idle": "2023-10-28T17:16:37.612984Z",
     "shell.execute_reply": "2023-10-28T17:16:37.611968Z"
    },
    "papermill": {
     "duration": 0.062193,
     "end_time": "2023-10-28T17:16:37.614959",
     "exception": false,
     "start_time": "2023-10-28T17:16:37.552766",
     "status": "completed"
    },
    "tags": []
   },
   "outputs": [],
   "source": [
    "# property index - key index"
   ]
  },
  {
   "cell_type": "code",
   "execution_count": 62,
   "id": "ebb326b1",
   "metadata": {
    "execution": {
     "iopub.execute_input": "2023-10-28T17:16:37.726625Z",
     "iopub.status.busy": "2023-10-28T17:16:37.725879Z",
     "iopub.status.idle": "2023-10-28T17:16:37.732030Z",
     "shell.execute_reply": "2023-10-28T17:16:37.731286Z"
    },
    "papermill": {
     "duration": 0.063958,
     "end_time": "2023-10-28T17:16:37.733968",
     "exception": false,
     "start_time": "2023-10-28T17:16:37.670010",
     "status": "completed"
    },
    "tags": []
   },
   "outputs": [
    {
     "data": {
      "text/plain": [
       "dict_keys(['beautiful', 'smart', 'clever'])"
      ]
     },
     "execution_count": 62,
     "metadata": {},
     "output_type": "execute_result"
    }
   ],
   "source": [
    "t.keys()"
   ]
  },
  {
   "cell_type": "code",
   "execution_count": 63,
   "id": "d31d303a",
   "metadata": {
    "execution": {
     "iopub.execute_input": "2023-10-28T17:16:37.846589Z",
     "iopub.status.busy": "2023-10-28T17:16:37.846200Z",
     "iopub.status.idle": "2023-10-28T17:16:37.852153Z",
     "shell.execute_reply": "2023-10-28T17:16:37.851158Z"
    },
    "papermill": {
     "duration": 0.064669,
     "end_time": "2023-10-28T17:16:37.854154",
     "exception": false,
     "start_time": "2023-10-28T17:16:37.789485",
     "status": "completed"
    },
    "tags": []
   },
   "outputs": [
    {
     "data": {
      "text/plain": [
       "'swapna is a beautiful women'"
      ]
     },
     "execution_count": 63,
     "metadata": {},
     "output_type": "execute_result"
    }
   ],
   "source": [
    "t[\"beautiful\"]"
   ]
  },
  {
   "cell_type": "code",
   "execution_count": 64,
   "id": "07b581b7",
   "metadata": {
    "execution": {
     "iopub.execute_input": "2023-10-28T17:16:37.966638Z",
     "iopub.status.busy": "2023-10-28T17:16:37.966231Z",
     "iopub.status.idle": "2023-10-28T17:16:37.972913Z",
     "shell.execute_reply": "2023-10-28T17:16:37.971888Z"
    },
    "papermill": {
     "duration": 0.065935,
     "end_time": "2023-10-28T17:16:37.975082",
     "exception": false,
     "start_time": "2023-10-28T17:16:37.909147",
     "status": "completed"
    },
    "tags": []
   },
   "outputs": [
    {
     "data": {
      "text/plain": [
       "'parth is clever'"
      ]
     },
     "execution_count": 64,
     "metadata": {},
     "output_type": "execute_result"
    }
   ],
   "source": [
    "t[\"clever\"]"
   ]
  },
  {
   "cell_type": "code",
   "execution_count": 65,
   "id": "608a52b0",
   "metadata": {
    "execution": {
     "iopub.execute_input": "2023-10-28T17:16:38.089082Z",
     "iopub.status.busy": "2023-10-28T17:16:38.088639Z",
     "iopub.status.idle": "2023-10-28T17:16:38.095532Z",
     "shell.execute_reply": "2023-10-28T17:16:38.094536Z"
    },
    "papermill": {
     "duration": 0.06615,
     "end_time": "2023-10-28T17:16:38.097548",
     "exception": false,
     "start_time": "2023-10-28T17:16:38.031398",
     "status": "completed"
    },
    "tags": []
   },
   "outputs": [
    {
     "data": {
      "text/plain": [
       "dict_keys(['beautiful', 'smart', 'clever'])"
      ]
     },
     "execution_count": 65,
     "metadata": {},
     "output_type": "execute_result"
    }
   ],
   "source": [
    "t.keys()"
   ]
  },
  {
   "cell_type": "code",
   "execution_count": 66,
   "id": "493e9971",
   "metadata": {
    "execution": {
     "iopub.execute_input": "2023-10-28T17:16:38.213882Z",
     "iopub.status.busy": "2023-10-28T17:16:38.213162Z",
     "iopub.status.idle": "2023-10-28T17:16:38.219589Z",
     "shell.execute_reply": "2023-10-28T17:16:38.218613Z"
    },
    "papermill": {
     "duration": 0.065707,
     "end_time": "2023-10-28T17:16:38.221573",
     "exception": false,
     "start_time": "2023-10-28T17:16:38.155866",
     "status": "completed"
    },
    "tags": []
   },
   "outputs": [
    {
     "data": {
      "text/plain": [
       "dict_values(['swapna is a beautiful women', 'tayyab is a smart person', 'parth is clever'])"
      ]
     },
     "execution_count": 66,
     "metadata": {},
     "output_type": "execute_result"
    }
   ],
   "source": [
    "t.values()"
   ]
  },
  {
   "cell_type": "code",
   "execution_count": 67,
   "id": "4195afe2",
   "metadata": {
    "execution": {
     "iopub.execute_input": "2023-10-28T17:16:38.334956Z",
     "iopub.status.busy": "2023-10-28T17:16:38.334593Z",
     "iopub.status.idle": "2023-10-28T17:16:38.340826Z",
     "shell.execute_reply": "2023-10-28T17:16:38.339876Z"
    },
    "papermill": {
     "duration": 0.06544,
     "end_time": "2023-10-28T17:16:38.342766",
     "exception": false,
     "start_time": "2023-10-28T17:16:38.277326",
     "status": "completed"
    },
    "tags": []
   },
   "outputs": [
    {
     "data": {
      "text/plain": [
       "dict_items([('beautiful', 'swapna is a beautiful women'), ('smart', 'tayyab is a smart person'), ('clever', 'parth is clever')])"
      ]
     },
     "execution_count": 67,
     "metadata": {},
     "output_type": "execute_result"
    }
   ],
   "source": [
    "t.items()"
   ]
  },
  {
   "cell_type": "code",
   "execution_count": 68,
   "id": "0f1b7f15",
   "metadata": {
    "execution": {
     "iopub.execute_input": "2023-10-28T17:16:38.457510Z",
     "iopub.status.busy": "2023-10-28T17:16:38.456248Z",
     "iopub.status.idle": "2023-10-28T17:16:38.463665Z",
     "shell.execute_reply": "2023-10-28T17:16:38.462725Z"
    },
    "papermill": {
     "duration": 0.067307,
     "end_time": "2023-10-28T17:16:38.465656",
     "exception": false,
     "start_time": "2023-10-28T17:16:38.398349",
     "status": "completed"
    },
    "tags": []
   },
   "outputs": [
    {
     "data": {
      "text/plain": [
       "3"
      ]
     },
     "execution_count": 68,
     "metadata": {},
     "output_type": "execute_result"
    }
   ],
   "source": [
    "ch = { \"c1\" :\n",
    "                   {\"c1.1\" :  \"chapter1.1\",\n",
    "                    \n",
    "                    \"c1.2\" :  \n",
    "                             {\"c1.2.1\" : \"chapter mlv\",\n",
    "                              \"c1.2.2\" : [10,20,30,40]},\n",
    "                    \n",
    "                    \"c1.3\" :  \"chapter1.3\"},\n",
    "     \"c2\" : \"chapter2\",\n",
    "     \"c3\" : \"chapter3\"}\n",
    "\n",
    "len(ch)"
   ]
  },
  {
   "cell_type": "code",
   "execution_count": 69,
   "id": "bb247350",
   "metadata": {
    "execution": {
     "iopub.execute_input": "2023-10-28T17:16:38.577622Z",
     "iopub.status.busy": "2023-10-28T17:16:38.576733Z",
     "iopub.status.idle": "2023-10-28T17:16:38.582816Z",
     "shell.execute_reply": "2023-10-28T17:16:38.581955Z"
    },
    "papermill": {
     "duration": 0.0642,
     "end_time": "2023-10-28T17:16:38.584881",
     "exception": false,
     "start_time": "2023-10-28T17:16:38.520681",
     "status": "completed"
    },
    "tags": []
   },
   "outputs": [
    {
     "data": {
      "text/plain": [
       "10"
      ]
     },
     "execution_count": 69,
     "metadata": {},
     "output_type": "execute_result"
    }
   ],
   "source": [
    "ch[\"c1\"][\"c1.2\"][\"c1.2.2\"][0]"
   ]
  },
  {
   "cell_type": "code",
   "execution_count": 70,
   "id": "33a95c90",
   "metadata": {
    "execution": {
     "iopub.execute_input": "2023-10-28T17:16:38.696137Z",
     "iopub.status.busy": "2023-10-28T17:16:38.695762Z",
     "iopub.status.idle": "2023-10-28T17:16:38.699891Z",
     "shell.execute_reply": "2023-10-28T17:16:38.699014Z"
    },
    "papermill": {
     "duration": 0.062445,
     "end_time": "2023-10-28T17:16:38.702166",
     "exception": false,
     "start_time": "2023-10-28T17:16:38.639721",
     "status": "completed"
    },
    "tags": []
   },
   "outputs": [],
   "source": [
    "ch[\"c3\"] = \"sush\""
   ]
  },
  {
   "cell_type": "code",
   "execution_count": 71,
   "id": "c91cee1f",
   "metadata": {
    "execution": {
     "iopub.execute_input": "2023-10-28T17:16:38.814283Z",
     "iopub.status.busy": "2023-10-28T17:16:38.813913Z",
     "iopub.status.idle": "2023-10-28T17:16:38.820476Z",
     "shell.execute_reply": "2023-10-28T17:16:38.819355Z"
    },
    "papermill": {
     "duration": 0.065028,
     "end_time": "2023-10-28T17:16:38.822261",
     "exception": false,
     "start_time": "2023-10-28T17:16:38.757233",
     "status": "completed"
    },
    "tags": []
   },
   "outputs": [
    {
     "data": {
      "text/plain": [
       "3"
      ]
     },
     "execution_count": 71,
     "metadata": {},
     "output_type": "execute_result"
    }
   ],
   "source": [
    "len(ch.items())"
   ]
  },
  {
   "cell_type": "code",
   "execution_count": 72,
   "id": "a9d90359",
   "metadata": {
    "execution": {
     "iopub.execute_input": "2023-10-28T17:16:38.934512Z",
     "iopub.status.busy": "2023-10-28T17:16:38.934155Z",
     "iopub.status.idle": "2023-10-28T17:16:38.939735Z",
     "shell.execute_reply": "2023-10-28T17:16:38.938830Z"
    },
    "papermill": {
     "duration": 0.064105,
     "end_time": "2023-10-28T17:16:38.941522",
     "exception": false,
     "start_time": "2023-10-28T17:16:38.877417",
     "status": "completed"
    },
    "tags": []
   },
   "outputs": [
    {
     "data": {
      "text/plain": [
       "{'c1': {'c1.1': 'chapter1.1',\n",
       "  'c1.2': {'c1.2.1': 'chapter mlv', 'c1.2.2': [10, 20, 30, 40]},\n",
       "  'c1.3': 'chapter1.3'},\n",
       " 'c2': 'chapter2',\n",
       " 'c3': 'sush'}"
      ]
     },
     "execution_count": 72,
     "metadata": {},
     "output_type": "execute_result"
    }
   ],
   "source": [
    "ch"
   ]
  },
  {
   "cell_type": "markdown",
   "id": "dffad5f6",
   "metadata": {
    "papermill": {
     "duration": 0.054766,
     "end_time": "2023-10-28T17:16:39.051988",
     "exception": false,
     "start_time": "2023-10-28T17:16:38.997222",
     "status": "completed"
    },
    "tags": []
   },
   "source": [
    "# type\n",
    "int()\n",
    "float()\n",
    "str()"
   ]
  },
  {
   "cell_type": "markdown",
   "id": "fc7edfd3",
   "metadata": {
    "papermill": {
     "duration": 0.05513,
     "end_time": "2023-10-28T17:16:39.161991",
     "exception": false,
     "start_time": "2023-10-28T17:16:39.106861",
     "status": "completed"
    },
    "tags": []
   },
   "source": [
    "# data structure casting\n",
    "## list()  tuple() set()  dict()"
   ]
  },
  {
   "cell_type": "code",
   "execution_count": 73,
   "id": "9a0d57e5",
   "metadata": {
    "execution": {
     "iopub.execute_input": "2023-10-28T17:16:39.275343Z",
     "iopub.status.busy": "2023-10-28T17:16:39.274637Z",
     "iopub.status.idle": "2023-10-28T17:16:39.280837Z",
     "shell.execute_reply": "2023-10-28T17:16:39.279940Z"
    },
    "papermill": {
     "duration": 0.065031,
     "end_time": "2023-10-28T17:16:39.282739",
     "exception": false,
     "start_time": "2023-10-28T17:16:39.217708",
     "status": "completed"
    },
    "tags": []
   },
   "outputs": [
    {
     "data": {
      "text/plain": [
       "list"
      ]
     },
     "execution_count": 73,
     "metadata": {},
     "output_type": "execute_result"
    }
   ],
   "source": [
    "a = [10,20,30]\n",
    "type(a)"
   ]
  },
  {
   "cell_type": "code",
   "execution_count": 74,
   "id": "74c7ee46",
   "metadata": {
    "execution": {
     "iopub.execute_input": "2023-10-28T17:16:39.395805Z",
     "iopub.status.busy": "2023-10-28T17:16:39.395434Z",
     "iopub.status.idle": "2023-10-28T17:16:39.401408Z",
     "shell.execute_reply": "2023-10-28T17:16:39.400521Z"
    },
    "papermill": {
     "duration": 0.065229,
     "end_time": "2023-10-28T17:16:39.403538",
     "exception": false,
     "start_time": "2023-10-28T17:16:39.338309",
     "status": "completed"
    },
    "tags": []
   },
   "outputs": [
    {
     "data": {
      "text/plain": [
       "(10, 20, 30)"
      ]
     },
     "execution_count": 74,
     "metadata": {},
     "output_type": "execute_result"
    }
   ],
   "source": [
    "b = tuple(a)\n",
    "b"
   ]
  },
  {
   "cell_type": "code",
   "execution_count": 75,
   "id": "0f18ee58",
   "metadata": {
    "execution": {
     "iopub.execute_input": "2023-10-28T17:16:39.519210Z",
     "iopub.status.busy": "2023-10-28T17:16:39.518844Z",
     "iopub.status.idle": "2023-10-28T17:16:39.524893Z",
     "shell.execute_reply": "2023-10-28T17:16:39.523907Z"
    },
    "papermill": {
     "duration": 0.066748,
     "end_time": "2023-10-28T17:16:39.526819",
     "exception": false,
     "start_time": "2023-10-28T17:16:39.460071",
     "status": "completed"
    },
    "tags": []
   },
   "outputs": [
    {
     "data": {
      "text/plain": [
       "tuple"
      ]
     },
     "execution_count": 75,
     "metadata": {},
     "output_type": "execute_result"
    }
   ],
   "source": [
    "type(b)"
   ]
  },
  {
   "cell_type": "code",
   "execution_count": 76,
   "id": "9781da0c",
   "metadata": {
    "execution": {
     "iopub.execute_input": "2023-10-28T17:16:39.640263Z",
     "iopub.status.busy": "2023-10-28T17:16:39.639914Z",
     "iopub.status.idle": "2023-10-28T17:16:39.643766Z",
     "shell.execute_reply": "2023-10-28T17:16:39.642881Z"
    },
    "papermill": {
     "duration": 0.063064,
     "end_time": "2023-10-28T17:16:39.645873",
     "exception": false,
     "start_time": "2023-10-28T17:16:39.582809",
     "status": "completed"
    },
    "tags": []
   },
   "outputs": [],
   "source": [
    "gg = (\"sush@gmail.com\",2564856855)\n",
    "# gg[0] = \"sush@outlook.com\""
   ]
  },
  {
   "cell_type": "code",
   "execution_count": 77,
   "id": "3b055f4b",
   "metadata": {
    "execution": {
     "iopub.execute_input": "2023-10-28T17:16:39.760433Z",
     "iopub.status.busy": "2023-10-28T17:16:39.760047Z",
     "iopub.status.idle": "2023-10-28T17:16:39.766820Z",
     "shell.execute_reply": "2023-10-28T17:16:39.765639Z"
    },
    "papermill": {
     "duration": 0.066174,
     "end_time": "2023-10-28T17:16:39.768807",
     "exception": false,
     "start_time": "2023-10-28T17:16:39.702633",
     "status": "completed"
    },
    "tags": []
   },
   "outputs": [
    {
     "data": {
      "text/plain": [
       "['sush@gmail.com', 2564856855]"
      ]
     },
     "execution_count": 77,
     "metadata": {},
     "output_type": "execute_result"
    }
   ],
   "source": [
    "gg = list(gg)\n",
    "gg"
   ]
  },
  {
   "cell_type": "code",
   "execution_count": 78,
   "id": "dabd3d96",
   "metadata": {
    "execution": {
     "iopub.execute_input": "2023-10-28T17:16:39.883383Z",
     "iopub.status.busy": "2023-10-28T17:16:39.883032Z",
     "iopub.status.idle": "2023-10-28T17:16:39.889510Z",
     "shell.execute_reply": "2023-10-28T17:16:39.888509Z"
    },
    "papermill": {
     "duration": 0.066456,
     "end_time": "2023-10-28T17:16:39.891584",
     "exception": false,
     "start_time": "2023-10-28T17:16:39.825128",
     "status": "completed"
    },
    "tags": []
   },
   "outputs": [
    {
     "data": {
      "text/plain": [
       "list"
      ]
     },
     "execution_count": 78,
     "metadata": {},
     "output_type": "execute_result"
    }
   ],
   "source": [
    "type(gg)"
   ]
  },
  {
   "cell_type": "code",
   "execution_count": 79,
   "id": "ebf6c432",
   "metadata": {
    "execution": {
     "iopub.execute_input": "2023-10-28T17:16:40.007997Z",
     "iopub.status.busy": "2023-10-28T17:16:40.007579Z",
     "iopub.status.idle": "2023-10-28T17:16:40.013703Z",
     "shell.execute_reply": "2023-10-28T17:16:40.012875Z"
    },
    "papermill": {
     "duration": 0.067323,
     "end_time": "2023-10-28T17:16:40.015593",
     "exception": false,
     "start_time": "2023-10-28T17:16:39.948270",
     "status": "completed"
    },
    "tags": []
   },
   "outputs": [
    {
     "data": {
      "text/plain": [
       "['sush@outlook.com', 2564856855]"
      ]
     },
     "execution_count": 79,
     "metadata": {},
     "output_type": "execute_result"
    }
   ],
   "source": [
    "gg[0] = \"sush@outlook.com\"\n",
    "gg"
   ]
  },
  {
   "cell_type": "code",
   "execution_count": 80,
   "id": "6028546f",
   "metadata": {
    "execution": {
     "iopub.execute_input": "2023-10-28T17:16:40.131062Z",
     "iopub.status.busy": "2023-10-28T17:16:40.130678Z",
     "iopub.status.idle": "2023-10-28T17:16:40.136743Z",
     "shell.execute_reply": "2023-10-28T17:16:40.135762Z"
    },
    "papermill": {
     "duration": 0.066062,
     "end_time": "2023-10-28T17:16:40.138772",
     "exception": false,
     "start_time": "2023-10-28T17:16:40.072710",
     "status": "completed"
    },
    "tags": []
   },
   "outputs": [
    {
     "data": {
      "text/plain": [
       "('sush@outlook.com', 2564856855)"
      ]
     },
     "execution_count": 80,
     "metadata": {},
     "output_type": "execute_result"
    }
   ],
   "source": [
    "gg = tuple(gg)\n",
    "gg"
   ]
  },
  {
   "cell_type": "code",
   "execution_count": 81,
   "id": "0ffcfbe9",
   "metadata": {
    "execution": {
     "iopub.execute_input": "2023-10-28T17:16:40.256012Z",
     "iopub.status.busy": "2023-10-28T17:16:40.255646Z",
     "iopub.status.idle": "2023-10-28T17:16:40.262470Z",
     "shell.execute_reply": "2023-10-28T17:16:40.261485Z"
    },
    "papermill": {
     "duration": 0.067233,
     "end_time": "2023-10-28T17:16:40.264480",
     "exception": false,
     "start_time": "2023-10-28T17:16:40.197247",
     "status": "completed"
    },
    "tags": []
   },
   "outputs": [
    {
     "data": {
      "text/plain": [
       "('sush@outlook.com', 2564856855)"
      ]
     },
     "execution_count": 81,
     "metadata": {},
     "output_type": "execute_result"
    }
   ],
   "source": [
    "gg = (\"sush@gmail.com\",2564856855)\n",
    "gg = list(gg)\n",
    "gg[0] = \"sush@outlook.com\"\n",
    "gg = tuple(gg)\n",
    "gg"
   ]
  },
  {
   "cell_type": "code",
   "execution_count": 82,
   "id": "172d3010",
   "metadata": {
    "execution": {
     "iopub.execute_input": "2023-10-28T17:16:40.381496Z",
     "iopub.status.busy": "2023-10-28T17:16:40.380826Z",
     "iopub.status.idle": "2023-10-28T17:16:40.386360Z",
     "shell.execute_reply": "2023-10-28T17:16:40.385656Z"
    },
    "papermill": {
     "duration": 0.065069,
     "end_time": "2023-10-28T17:16:40.388113",
     "exception": false,
     "start_time": "2023-10-28T17:16:40.323044",
     "status": "completed"
    },
    "tags": []
   },
   "outputs": [
    {
     "data": {
      "text/plain": [
       "[10, 20, 30]"
      ]
     },
     "execution_count": 82,
     "metadata": {},
     "output_type": "execute_result"
    }
   ],
   "source": [
    "a = [10,20,30,10]\n",
    "a = list(set(a))\n",
    "a"
   ]
  },
  {
   "cell_type": "code",
   "execution_count": 83,
   "id": "321369a8",
   "metadata": {
    "execution": {
     "iopub.execute_input": "2023-10-28T17:16:40.505479Z",
     "iopub.status.busy": "2023-10-28T17:16:40.505092Z",
     "iopub.status.idle": "2023-10-28T17:16:40.511435Z",
     "shell.execute_reply": "2023-10-28T17:16:40.510512Z"
    },
    "papermill": {
     "duration": 0.068188,
     "end_time": "2023-10-28T17:16:40.513494",
     "exception": false,
     "start_time": "2023-10-28T17:16:40.445306",
     "status": "completed"
    },
    "tags": []
   },
   "outputs": [
    {
     "data": {
      "text/plain": [
       "[10, 20, 30]"
      ]
     },
     "execution_count": 83,
     "metadata": {},
     "output_type": "execute_result"
    }
   ],
   "source": [
    "a = list(set(a))\n",
    "a"
   ]
  },
  {
   "cell_type": "code",
   "execution_count": 84,
   "id": "e7c60553",
   "metadata": {
    "execution": {
     "iopub.execute_input": "2023-10-28T17:16:40.633704Z",
     "iopub.status.busy": "2023-10-28T17:16:40.633193Z",
     "iopub.status.idle": "2023-10-28T17:16:40.639383Z",
     "shell.execute_reply": "2023-10-28T17:16:40.638266Z"
    },
    "papermill": {
     "duration": 0.068768,
     "end_time": "2023-10-28T17:16:40.641607",
     "exception": false,
     "start_time": "2023-10-28T17:16:40.572839",
     "status": "completed"
    },
    "tags": []
   },
   "outputs": [
    {
     "data": {
      "text/plain": [
       "{10, 20, 30}"
      ]
     },
     "execution_count": 84,
     "metadata": {},
     "output_type": "execute_result"
    }
   ],
   "source": [
    "c = { 10,20,30,30}\n",
    "c \n",
    "\n"
   ]
  },
  {
   "cell_type": "code",
   "execution_count": 85,
   "id": "5393fd93",
   "metadata": {
    "execution": {
     "iopub.execute_input": "2023-10-28T17:16:40.758186Z",
     "iopub.status.busy": "2023-10-28T17:16:40.757573Z",
     "iopub.status.idle": "2023-10-28T17:16:40.763104Z",
     "shell.execute_reply": "2023-10-28T17:16:40.762012Z"
    },
    "papermill": {
     "duration": 0.065605,
     "end_time": "2023-10-28T17:16:40.765296",
     "exception": false,
     "start_time": "2023-10-28T17:16:40.699691",
     "status": "completed"
    },
    "tags": []
   },
   "outputs": [
    {
     "name": "stdout",
     "output_type": "stream",
     "text": [
      "3\n"
     ]
    }
   ],
   "source": [
    "thislist = [\"apple\", \"banana\", \"cherry\"]\n",
    "print(len(thislist))"
   ]
  },
  {
   "cell_type": "code",
   "execution_count": 86,
   "id": "56b1496b",
   "metadata": {
    "execution": {
     "iopub.execute_input": "2023-10-28T17:16:40.882561Z",
     "iopub.status.busy": "2023-10-28T17:16:40.882191Z",
     "iopub.status.idle": "2023-10-28T17:16:40.887372Z",
     "shell.execute_reply": "2023-10-28T17:16:40.886313Z"
    },
    "papermill": {
     "duration": 0.065879,
     "end_time": "2023-10-28T17:16:40.889964",
     "exception": false,
     "start_time": "2023-10-28T17:16:40.824085",
     "status": "completed"
    },
    "tags": []
   },
   "outputs": [
    {
     "name": "stdout",
     "output_type": "stream",
     "text": [
      "['apple', 'banana', 'cherry']\n"
     ]
    }
   ],
   "source": [
    "thislist = list((\"apple\", \"banana\", \"cherry\")) # note the double round-brackets\n",
    "print(thislist)"
   ]
  },
  {
   "cell_type": "code",
   "execution_count": 87,
   "id": "4b7a30c2",
   "metadata": {
    "execution": {
     "iopub.execute_input": "2023-10-28T17:16:41.010320Z",
     "iopub.status.busy": "2023-10-28T17:16:41.009596Z",
     "iopub.status.idle": "2023-10-28T17:16:41.015757Z",
     "shell.execute_reply": "2023-10-28T17:16:41.014495Z"
    },
    "papermill": {
     "duration": 0.06865,
     "end_time": "2023-10-28T17:16:41.017686",
     "exception": false,
     "start_time": "2023-10-28T17:16:40.949036",
     "status": "completed"
    },
    "tags": []
   },
   "outputs": [
    {
     "name": "stdout",
     "output_type": "stream",
     "text": [
      "['apple', 'banana', 'cherry', 'orange', 'kiwi', 'melon', 'mango']\n"
     ]
    }
   ],
   "source": [
    "thislist = [\"apple\", \"banana\", \"cherry\", \"orange\", \"kiwi\", \"melon\", \"mango\"]\n",
    "print(thislist[:])"
   ]
  },
  {
   "cell_type": "code",
   "execution_count": 88,
   "id": "a94f0b98",
   "metadata": {
    "execution": {
     "iopub.execute_input": "2023-10-28T17:16:41.133886Z",
     "iopub.status.busy": "2023-10-28T17:16:41.133526Z",
     "iopub.status.idle": "2023-10-28T17:16:41.139100Z",
     "shell.execute_reply": "2023-10-28T17:16:41.138076Z"
    },
    "papermill": {
     "duration": 0.065952,
     "end_time": "2023-10-28T17:16:41.140973",
     "exception": false,
     "start_time": "2023-10-28T17:16:41.075021",
     "status": "completed"
    },
    "tags": []
   },
   "outputs": [
    {
     "name": "stdout",
     "output_type": "stream",
     "text": [
      "['orange', 'kiwi', 'melon']\n"
     ]
    }
   ],
   "source": [
    "thislist = [\"apple\", \"banana\", \"cherry\", \"orange\", \"kiwi\", \"melon\", \"mango\"]\n",
    "print(thislist[-4:-1])"
   ]
  },
  {
   "cell_type": "code",
   "execution_count": 89,
   "id": "a14d1466",
   "metadata": {
    "execution": {
     "iopub.execute_input": "2023-10-28T17:16:41.257158Z",
     "iopub.status.busy": "2023-10-28T17:16:41.256478Z",
     "iopub.status.idle": "2023-10-28T17:16:41.261766Z",
     "shell.execute_reply": "2023-10-28T17:16:41.260798Z"
    },
    "papermill": {
     "duration": 0.065872,
     "end_time": "2023-10-28T17:16:41.263837",
     "exception": false,
     "start_time": "2023-10-28T17:16:41.197965",
     "status": "completed"
    },
    "tags": []
   },
   "outputs": [
    {
     "name": "stdout",
     "output_type": "stream",
     "text": [
      "['apple', 'blackcurrant', 'cherry']\n"
     ]
    }
   ],
   "source": [
    "thislist = [\"apple\", \"banana\", \"cherry\"]\n",
    "thislist[1] = \"blackcurrant\"\n",
    "print(thislist)"
   ]
  },
  {
   "cell_type": "code",
   "execution_count": 90,
   "id": "2180756c",
   "metadata": {
    "execution": {
     "iopub.execute_input": "2023-10-28T17:16:41.382882Z",
     "iopub.status.busy": "2023-10-28T17:16:41.382311Z",
     "iopub.status.idle": "2023-10-28T17:16:41.388980Z",
     "shell.execute_reply": "2023-10-28T17:16:41.387948Z"
    },
    "papermill": {
     "duration": 0.068269,
     "end_time": "2023-10-28T17:16:41.391012",
     "exception": false,
     "start_time": "2023-10-28T17:16:41.322743",
     "status": "completed"
    },
    "tags": []
   },
   "outputs": [
    {
     "data": {
      "text/plain": [
       "['apple', 'banana', 'cherry', 'orange']"
      ]
     },
     "execution_count": 90,
     "metadata": {},
     "output_type": "execute_result"
    }
   ],
   "source": [
    "fruits = ['apple', 'banana', 'cherry']\n",
    "fruits.append(\"orange\")\n",
    "fruits"
   ]
  },
  {
   "cell_type": "code",
   "execution_count": 91,
   "id": "ae9ec4e0",
   "metadata": {
    "execution": {
     "iopub.execute_input": "2023-10-28T17:16:41.569246Z",
     "iopub.status.busy": "2023-10-28T17:16:41.568850Z",
     "iopub.status.idle": "2023-10-28T17:16:41.574074Z",
     "shell.execute_reply": "2023-10-28T17:16:41.572971Z"
    },
    "papermill": {
     "duration": 0.067038,
     "end_time": "2023-10-28T17:16:41.576011",
     "exception": false,
     "start_time": "2023-10-28T17:16:41.508973",
     "status": "completed"
    },
    "tags": []
   },
   "outputs": [],
   "source": [
    "fruits = ['apple', 'banana', 'cherry', 'orange']\n",
    "\n",
    "fruits.clear()"
   ]
  },
  {
   "cell_type": "code",
   "execution_count": 92,
   "id": "12ebf6a1",
   "metadata": {
    "execution": {
     "iopub.execute_input": "2023-10-28T17:16:41.696592Z",
     "iopub.status.busy": "2023-10-28T17:16:41.696215Z",
     "iopub.status.idle": "2023-10-28T17:16:41.702442Z",
     "shell.execute_reply": "2023-10-28T17:16:41.701533Z"
    },
    "papermill": {
     "duration": 0.068626,
     "end_time": "2023-10-28T17:16:41.704521",
     "exception": false,
     "start_time": "2023-10-28T17:16:41.635895",
     "status": "completed"
    },
    "tags": []
   },
   "outputs": [
    {
     "data": {
      "text/plain": [
       "[]"
      ]
     },
     "execution_count": 92,
     "metadata": {},
     "output_type": "execute_result"
    }
   ],
   "source": [
    "fruits "
   ]
  },
  {
   "cell_type": "code",
   "execution_count": 93,
   "id": "91a8a29f",
   "metadata": {
    "execution": {
     "iopub.execute_input": "2023-10-28T17:16:41.824536Z",
     "iopub.status.busy": "2023-10-28T17:16:41.824161Z",
     "iopub.status.idle": "2023-10-28T17:16:41.830455Z",
     "shell.execute_reply": "2023-10-28T17:16:41.829506Z"
    },
    "papermill": {
     "duration": 0.067975,
     "end_time": "2023-10-28T17:16:41.832289",
     "exception": false,
     "start_time": "2023-10-28T17:16:41.764314",
     "status": "completed"
    },
    "tags": []
   },
   "outputs": [
    {
     "data": {
      "text/plain": [
       "2"
      ]
     },
     "execution_count": 93,
     "metadata": {},
     "output_type": "execute_result"
    }
   ],
   "source": [
    "tay = ['sush', 'sush', 'cherry']\n",
    "\n",
    "tay.count(\"sush\")"
   ]
  },
  {
   "cell_type": "code",
   "execution_count": 94,
   "id": "3bcbf02d",
   "metadata": {
    "execution": {
     "iopub.execute_input": "2023-10-28T17:16:41.950000Z",
     "iopub.status.busy": "2023-10-28T17:16:41.948843Z",
     "iopub.status.idle": "2023-10-28T17:16:41.956562Z",
     "shell.execute_reply": "2023-10-28T17:16:41.955543Z"
    },
    "papermill": {
     "duration": 0.068698,
     "end_time": "2023-10-28T17:16:41.958740",
     "exception": false,
     "start_time": "2023-10-28T17:16:41.890042",
     "status": "completed"
    },
    "tags": []
   },
   "outputs": [
    {
     "data": {
      "text/plain": [
       "1"
      ]
     },
     "execution_count": 94,
     "metadata": {},
     "output_type": "execute_result"
    }
   ],
   "source": [
    "fruits = ['apple', 'banana', 'cherry']\n",
    "\n",
    "points = (1, 4, 5, 9)\n",
    "\n",
    "fruits.extend(points)\n",
    "fruits[3]"
   ]
  },
  {
   "cell_type": "code",
   "execution_count": 95,
   "id": "be073d94",
   "metadata": {
    "execution": {
     "iopub.execute_input": "2023-10-28T17:16:42.079231Z",
     "iopub.status.busy": "2023-10-28T17:16:42.078497Z",
     "iopub.status.idle": "2023-10-28T17:16:42.085259Z",
     "shell.execute_reply": "2023-10-28T17:16:42.084533Z"
    },
    "papermill": {
     "duration": 0.068098,
     "end_time": "2023-10-28T17:16:42.087175",
     "exception": false,
     "start_time": "2023-10-28T17:16:42.019077",
     "status": "completed"
    },
    "tags": []
   },
   "outputs": [
    {
     "data": {
      "text/plain": [
       "['apple', 'banana', 'cherry', (1, 4, 5, 9)]"
      ]
     },
     "execution_count": 95,
     "metadata": {},
     "output_type": "execute_result"
    }
   ],
   "source": [
    "fruits = ['apple', 'banana', 'cherry']\n",
    "\n",
    "points = (1, 4, 5, 9)\n",
    "\n",
    "fruits.append(points)\n",
    "fruits"
   ]
  },
  {
   "cell_type": "code",
   "execution_count": 96,
   "id": "979e5463",
   "metadata": {
    "execution": {
     "iopub.execute_input": "2023-10-28T17:16:42.204977Z",
     "iopub.status.busy": "2023-10-28T17:16:42.204607Z",
     "iopub.status.idle": "2023-10-28T17:16:42.211057Z",
     "shell.execute_reply": "2023-10-28T17:16:42.210062Z"
    },
    "papermill": {
     "duration": 0.067824,
     "end_time": "2023-10-28T17:16:42.213174",
     "exception": false,
     "start_time": "2023-10-28T17:16:42.145350",
     "status": "completed"
    },
    "tags": []
   },
   "outputs": [
    {
     "data": {
      "text/plain": [
       "(1, 4, 5, 9)"
      ]
     },
     "execution_count": 96,
     "metadata": {},
     "output_type": "execute_result"
    }
   ],
   "source": [
    "fruits[3]"
   ]
  },
  {
   "cell_type": "code",
   "execution_count": 97,
   "id": "5bde7006",
   "metadata": {
    "execution": {
     "iopub.execute_input": "2023-10-28T17:16:42.333391Z",
     "iopub.status.busy": "2023-10-28T17:16:42.332124Z",
     "iopub.status.idle": "2023-10-28T17:16:42.339346Z",
     "shell.execute_reply": "2023-10-28T17:16:42.338538Z"
    },
    "papermill": {
     "duration": 0.06932,
     "end_time": "2023-10-28T17:16:42.341382",
     "exception": false,
     "start_time": "2023-10-28T17:16:42.272062",
     "status": "completed"
    },
    "tags": []
   },
   "outputs": [
    {
     "data": {
      "text/plain": [
       "0"
      ]
     },
     "execution_count": 97,
     "metadata": {},
     "output_type": "execute_result"
    }
   ],
   "source": [
    "fruits = ['c001asha', 'coo2swapna', 'c001asha']\n",
    "\n",
    "fruits.index(\"c001asha\")"
   ]
  },
  {
   "cell_type": "code",
   "execution_count": 98,
   "id": "e06a552b",
   "metadata": {
    "execution": {
     "iopub.execute_input": "2023-10-28T17:16:42.461197Z",
     "iopub.status.busy": "2023-10-28T17:16:42.460013Z",
     "iopub.status.idle": "2023-10-28T17:16:42.467878Z",
     "shell.execute_reply": "2023-10-28T17:16:42.466726Z"
    },
    "papermill": {
     "duration": 0.069441,
     "end_time": "2023-10-28T17:16:42.470189",
     "exception": false,
     "start_time": "2023-10-28T17:16:42.400748",
     "status": "completed"
    },
    "tags": []
   },
   "outputs": [
    {
     "data": {
      "text/plain": [
       "['apple', 'banana', 'orange', 'cherry']"
      ]
     },
     "execution_count": 98,
     "metadata": {},
     "output_type": "execute_result"
    }
   ],
   "source": [
    "fruits = ['apple', 'banana', 'cherry']\n",
    "\n",
    "fruits.insert(2, \"orange\")\n",
    "fruits"
   ]
  },
  {
   "cell_type": "code",
   "execution_count": 99,
   "id": "1f7772f7",
   "metadata": {
    "execution": {
     "iopub.execute_input": "2023-10-28T17:16:42.591449Z",
     "iopub.status.busy": "2023-10-28T17:16:42.590163Z",
     "iopub.status.idle": "2023-10-28T17:16:42.596430Z",
     "shell.execute_reply": "2023-10-28T17:16:42.595748Z"
    },
    "papermill": {
     "duration": 0.068836,
     "end_time": "2023-10-28T17:16:42.598292",
     "exception": false,
     "start_time": "2023-10-28T17:16:42.529456",
     "status": "completed"
    },
    "tags": []
   },
   "outputs": [
    {
     "data": {
      "text/plain": [
       "'apple'"
      ]
     },
     "execution_count": 99,
     "metadata": {},
     "output_type": "execute_result"
    }
   ],
   "source": [
    "fruits = ['apple', 'banana', 'cherry']\n",
    "a = fruits.pop(0)\n",
    "a"
   ]
  },
  {
   "cell_type": "code",
   "execution_count": 100,
   "id": "1e45271e",
   "metadata": {
    "execution": {
     "iopub.execute_input": "2023-10-28T17:16:42.719933Z",
     "iopub.status.busy": "2023-10-28T17:16:42.718882Z",
     "iopub.status.idle": "2023-10-28T17:16:42.724799Z",
     "shell.execute_reply": "2023-10-28T17:16:42.723952Z"
    },
    "papermill": {
     "duration": 0.068093,
     "end_time": "2023-10-28T17:16:42.726720",
     "exception": false,
     "start_time": "2023-10-28T17:16:42.658627",
     "status": "completed"
    },
    "tags": []
   },
   "outputs": [
    {
     "data": {
      "text/plain": [
       "0"
      ]
     },
     "execution_count": 100,
     "metadata": {},
     "output_type": "execute_result"
    }
   ],
   "source": [
    "fruits = ['apple', 'banana', 'cherry']\n",
    "a = fruits.index(\"apple\")\n",
    "a"
   ]
  },
  {
   "cell_type": "code",
   "execution_count": 101,
   "id": "82da75dc",
   "metadata": {
    "execution": {
     "iopub.execute_input": "2023-10-28T17:16:42.846494Z",
     "iopub.status.busy": "2023-10-28T17:16:42.845865Z",
     "iopub.status.idle": "2023-10-28T17:16:42.852278Z",
     "shell.execute_reply": "2023-10-28T17:16:42.851523Z"
    },
    "papermill": {
     "duration": 0.068325,
     "end_time": "2023-10-28T17:16:42.854170",
     "exception": false,
     "start_time": "2023-10-28T17:16:42.785845",
     "status": "completed"
    },
    "tags": []
   },
   "outputs": [
    {
     "data": {
      "text/plain": [
       "['apple', 'banana', 'banana']"
      ]
     },
     "execution_count": 101,
     "metadata": {},
     "output_type": "execute_result"
    }
   ],
   "source": [
    "fruits = ['banana', \"apple\",'banana', 'banana']\n",
    "\n",
    "fruits.remove(\"banana\")\n",
    "fruits \n",
    "\n",
    "# ctr a\n",
    "#  ctr /"
   ]
  },
  {
   "cell_type": "code",
   "execution_count": 102,
   "id": "47ab79fd",
   "metadata": {
    "execution": {
     "iopub.execute_input": "2023-10-28T17:16:42.972956Z",
     "iopub.status.busy": "2023-10-28T17:16:42.972598Z",
     "iopub.status.idle": "2023-10-28T17:16:42.978765Z",
     "shell.execute_reply": "2023-10-28T17:16:42.977861Z"
    },
    "papermill": {
     "duration": 0.067828,
     "end_time": "2023-10-28T17:16:42.980689",
     "exception": false,
     "start_time": "2023-10-28T17:16:42.912861",
     "status": "completed"
    },
    "tags": []
   },
   "outputs": [
    {
     "data": {
      "text/plain": [
       "['cherry', 'banana', 'apple']"
      ]
     },
     "execution_count": 102,
     "metadata": {},
     "output_type": "execute_result"
    }
   ],
   "source": [
    "fruits = ['apple', 'banana', 'cherry']\n",
    "\n",
    "fruits.reverse()\n",
    "fruits"
   ]
  },
  {
   "cell_type": "code",
   "execution_count": 103,
   "id": "3b56aa87",
   "metadata": {
    "execution": {
     "iopub.execute_input": "2023-10-28T17:16:43.099991Z",
     "iopub.status.busy": "2023-10-28T17:16:43.099632Z",
     "iopub.status.idle": "2023-10-28T17:16:43.105899Z",
     "shell.execute_reply": "2023-10-28T17:16:43.104876Z"
    },
    "papermill": {
     "duration": 0.068051,
     "end_time": "2023-10-28T17:16:43.107943",
     "exception": false,
     "start_time": "2023-10-28T17:16:43.039892",
     "status": "completed"
    },
    "tags": []
   },
   "outputs": [
    {
     "data": {
      "text/plain": [
       "[20, 11, 9, 30]"
      ]
     },
     "execution_count": 103,
     "metadata": {},
     "output_type": "execute_result"
    }
   ],
   "source": [
    "a= [20,11,9,30]\n",
    "a"
   ]
  },
  {
   "cell_type": "code",
   "execution_count": 104,
   "id": "37266a96",
   "metadata": {
    "execution": {
     "iopub.execute_input": "2023-10-28T17:16:43.228237Z",
     "iopub.status.busy": "2023-10-28T17:16:43.227846Z",
     "iopub.status.idle": "2023-10-28T17:16:43.233423Z",
     "shell.execute_reply": "2023-10-28T17:16:43.232740Z"
    },
    "papermill": {
     "duration": 0.0685,
     "end_time": "2023-10-28T17:16:43.235256",
     "exception": false,
     "start_time": "2023-10-28T17:16:43.166756",
     "status": "completed"
    },
    "tags": []
   },
   "outputs": [
    {
     "data": {
      "text/plain": [
       "[30, 20, 11, 9]"
      ]
     },
     "execution_count": 104,
     "metadata": {},
     "output_type": "execute_result"
    }
   ],
   "source": [
    "a.sort(reverse = True)\n",
    "a"
   ]
  },
  {
   "cell_type": "code",
   "execution_count": 105,
   "id": "095b145a",
   "metadata": {
    "execution": {
     "iopub.execute_input": "2023-10-28T17:16:43.356160Z",
     "iopub.status.busy": "2023-10-28T17:16:43.355767Z",
     "iopub.status.idle": "2023-10-28T17:16:43.362483Z",
     "shell.execute_reply": "2023-10-28T17:16:43.361513Z"
    },
    "papermill": {
     "duration": 0.069596,
     "end_time": "2023-10-28T17:16:43.364275",
     "exception": false,
     "start_time": "2023-10-28T17:16:43.294679",
     "status": "completed"
    },
    "tags": []
   },
   "outputs": [
    {
     "data": {
      "text/plain": [
       "[10, 20, 30, [40, 50, 60]]"
      ]
     },
     "execution_count": 105,
     "metadata": {},
     "output_type": "execute_result"
    }
   ],
   "source": [
    "d = [10,20,30]\n",
    "d.append([40,50,60])\n",
    "d"
   ]
  },
  {
   "cell_type": "code",
   "execution_count": 106,
   "id": "4c15587f",
   "metadata": {
    "execution": {
     "iopub.execute_input": "2023-10-28T17:16:43.487078Z",
     "iopub.status.busy": "2023-10-28T17:16:43.486689Z",
     "iopub.status.idle": "2023-10-28T17:16:43.493305Z",
     "shell.execute_reply": "2023-10-28T17:16:43.492431Z"
    },
    "papermill": {
     "duration": 0.071584,
     "end_time": "2023-10-28T17:16:43.495136",
     "exception": false,
     "start_time": "2023-10-28T17:16:43.423552",
     "status": "completed"
    },
    "tags": []
   },
   "outputs": [
    {
     "data": {
      "text/plain": [
       "[10, 20, 30, 40, 50, 60]"
      ]
     },
     "execution_count": 106,
     "metadata": {},
     "output_type": "execute_result"
    }
   ],
   "source": [
    "e = [10,20,30]\n",
    "e.extend([40,50,60])\n",
    "e"
   ]
  },
  {
   "cell_type": "code",
   "execution_count": 107,
   "id": "202c43e0",
   "metadata": {
    "execution": {
     "iopub.execute_input": "2023-10-28T17:16:43.616088Z",
     "iopub.status.busy": "2023-10-28T17:16:43.615691Z",
     "iopub.status.idle": "2023-10-28T17:16:43.622924Z",
     "shell.execute_reply": "2023-10-28T17:16:43.622112Z"
    },
    "papermill": {
     "duration": 0.070264,
     "end_time": "2023-10-28T17:16:43.624915",
     "exception": false,
     "start_time": "2023-10-28T17:16:43.554651",
     "status": "completed"
    },
    "tags": []
   },
   "outputs": [
    {
     "data": {
      "text/plain": [
       "[2, 3, 4]"
      ]
     },
     "execution_count": 107,
     "metadata": {},
     "output_type": "execute_result"
    }
   ],
   "source": [
    "a = [2,3,4,4]\n",
    "a = list(set(a))\n",
    "a"
   ]
  },
  {
   "cell_type": "code",
   "execution_count": 108,
   "id": "444f4c67",
   "metadata": {
    "execution": {
     "iopub.execute_input": "2023-10-28T17:16:43.746716Z",
     "iopub.status.busy": "2023-10-28T17:16:43.746260Z",
     "iopub.status.idle": "2023-10-28T17:16:43.752041Z",
     "shell.execute_reply": "2023-10-28T17:16:43.751040Z"
    },
    "papermill": {
     "duration": 0.069329,
     "end_time": "2023-10-28T17:16:43.754612",
     "exception": false,
     "start_time": "2023-10-28T17:16:43.685283",
     "status": "completed"
    },
    "tags": []
   },
   "outputs": [
    {
     "name": "stdout",
     "output_type": "stream",
     "text": [
      "yes\n",
      "tayyab\n",
      "prasad\n"
     ]
    }
   ],
   "source": [
    "if 9 > 6 : \n",
    "    print(\"yes\")\n",
    "    print(\"tayyab\")\n",
    "    \n",
    "print(\"prasad\")\n"
   ]
  },
  {
   "cell_type": "code",
   "execution_count": 109,
   "id": "e4c208a1",
   "metadata": {
    "execution": {
     "iopub.execute_input": "2023-10-28T17:16:43.877340Z",
     "iopub.status.busy": "2023-10-28T17:16:43.876425Z",
     "iopub.status.idle": "2023-10-28T17:16:43.881905Z",
     "shell.execute_reply": "2023-10-28T17:16:43.880929Z"
    },
    "papermill": {
     "duration": 0.068985,
     "end_time": "2023-10-28T17:16:43.884607",
     "exception": false,
     "start_time": "2023-10-28T17:16:43.815622",
     "status": "completed"
    },
    "tags": []
   },
   "outputs": [
    {
     "name": "stdout",
     "output_type": "stream",
     "text": [
      "prasad\n"
     ]
    }
   ],
   "source": [
    "if 9 > 16 : \n",
    "    print(\"yes\")\n",
    "    print(\"tayyab\")\n",
    "    \n",
    "print(\"prasad\")"
   ]
  },
  {
   "cell_type": "code",
   "execution_count": 110,
   "id": "6a6fdbc9",
   "metadata": {
    "execution": {
     "iopub.execute_input": "2023-10-28T17:16:44.008265Z",
     "iopub.status.busy": "2023-10-28T17:16:44.007886Z",
     "iopub.status.idle": "2023-10-28T17:16:44.012333Z",
     "shell.execute_reply": "2023-10-28T17:16:44.011316Z"
    },
    "papermill": {
     "duration": 0.068825,
     "end_time": "2023-10-28T17:16:44.014259",
     "exception": false,
     "start_time": "2023-10-28T17:16:43.945434",
     "status": "completed"
    },
    "tags": []
   },
   "outputs": [],
   "source": [
    "# select *\n",
    "#             from table1"
   ]
  },
  {
   "cell_type": "code",
   "execution_count": 111,
   "id": "86aa9cd6",
   "metadata": {
    "execution": {
     "iopub.execute_input": "2023-10-28T17:16:44.137576Z",
     "iopub.status.busy": "2023-10-28T17:16:44.137172Z",
     "iopub.status.idle": "2023-10-28T17:16:44.143145Z",
     "shell.execute_reply": "2023-10-28T17:16:44.142257Z"
    },
    "papermill": {
     "duration": 0.069408,
     "end_time": "2023-10-28T17:16:44.145181",
     "exception": false,
     "start_time": "2023-10-28T17:16:44.075773",
     "status": "completed"
    },
    "tags": []
   },
   "outputs": [
    {
     "name": "stdout",
     "output_type": "stream",
     "text": [
      "the girl got distinction\n",
      "distinction\n"
     ]
    }
   ],
   "source": [
    "marks = 80\n",
    "gender = \"female\"\n",
    "\n",
    "\n",
    "if marks > 75 :  \n",
    "    if gender == \"male\" :\n",
    "        print(\"the boy got distinction\")\n",
    "    else :\n",
    "        print(\"the girl got distinction\")        \n",
    "    print(\"distinction\")\n",
    "elif marks > 50 :\n",
    "    print(\"pass\")\n",
    "else :\n",
    "    print(\"fail\")"
   ]
  },
  {
   "cell_type": "code",
   "execution_count": 112,
   "id": "27bdbc07",
   "metadata": {
    "execution": {
     "iopub.execute_input": "2023-10-28T17:16:44.268987Z",
     "iopub.status.busy": "2023-10-28T17:16:44.268600Z",
     "iopub.status.idle": "2023-10-28T17:16:44.274743Z",
     "shell.execute_reply": "2023-10-28T17:16:44.273368Z"
    },
    "papermill": {
     "duration": 0.071303,
     "end_time": "2023-10-28T17:16:44.276998",
     "exception": false,
     "start_time": "2023-10-28T17:16:44.205695",
     "status": "completed"
    },
    "tags": []
   },
   "outputs": [
    {
     "name": "stdout",
     "output_type": "stream",
     "text": [
      "mlv 100\n",
      "mlv 97\n",
      "mlv 94\n",
      "mlv 91\n"
     ]
    }
   ],
   "source": [
    "salary = 100\n",
    "\n",
    "while salary > 90 :\n",
    "    print(\"mlv\",salary )\n",
    "    salary = salary - 3"
   ]
  },
  {
   "cell_type": "code",
   "execution_count": 113,
   "id": "9a733035",
   "metadata": {
    "execution": {
     "iopub.execute_input": "2023-10-28T17:16:44.399335Z",
     "iopub.status.busy": "2023-10-28T17:16:44.398721Z",
     "iopub.status.idle": "2023-10-28T17:16:44.403875Z",
     "shell.execute_reply": "2023-10-28T17:16:44.402803Z"
    },
    "papermill": {
     "duration": 0.068913,
     "end_time": "2023-10-28T17:16:44.405950",
     "exception": false,
     "start_time": "2023-10-28T17:16:44.337037",
     "status": "completed"
    },
    "tags": []
   },
   "outputs": [
    {
     "name": "stdout",
     "output_type": "stream",
     "text": [
      "10\n",
      "----\n",
      "13\n",
      "----\n",
      "16\n",
      "----\n",
      "19\n",
      "----\n"
     ]
    }
   ],
   "source": [
    "for i in  range(10,20,3) :\n",
    "    print(i)\n",
    "    print(\"----\")"
   ]
  },
  {
   "cell_type": "code",
   "execution_count": 114,
   "id": "7458136a",
   "metadata": {
    "execution": {
     "iopub.execute_input": "2023-10-28T17:16:44.531940Z",
     "iopub.status.busy": "2023-10-28T17:16:44.531099Z",
     "iopub.status.idle": "2023-10-28T17:16:44.536567Z",
     "shell.execute_reply": "2023-10-28T17:16:44.535432Z"
    },
    "papermill": {
     "duration": 0.071363,
     "end_time": "2023-10-28T17:16:44.538560",
     "exception": false,
     "start_time": "2023-10-28T17:16:44.467197",
     "status": "completed"
    },
    "tags": []
   },
   "outputs": [
    {
     "name": "stdout",
     "output_type": "stream",
     "text": [
      "10\n",
      "----\n",
      "husna\n",
      "13\n",
      "----\n",
      "husna\n",
      "16\n",
      "----\n",
      "husna\n",
      "19\n",
      "----\n",
      "husna\n"
     ]
    }
   ],
   "source": [
    "for i in  [10,13,16,19] :\n",
    "    print(i)\n",
    "    print(\"----\")\n",
    "    print(\"husna\")"
   ]
  },
  {
   "cell_type": "code",
   "execution_count": 115,
   "id": "65da600b",
   "metadata": {
    "execution": {
     "iopub.execute_input": "2023-10-28T17:16:44.664617Z",
     "iopub.status.busy": "2023-10-28T17:16:44.663637Z",
     "iopub.status.idle": "2023-10-28T17:16:44.669772Z",
     "shell.execute_reply": "2023-10-28T17:16:44.668373Z"
    },
    "papermill": {
     "duration": 0.071564,
     "end_time": "2023-10-28T17:16:44.671733",
     "exception": false,
     "start_time": "2023-10-28T17:16:44.600169",
     "status": "completed"
    },
    "tags": []
   },
   "outputs": [
    {
     "name": "stdout",
     "output_type": "stream",
     "text": [
      "the element is  10\n",
      "the element is  20\n",
      "the element is  30\n",
      "the element is  40\n",
      "the element is  50\n"
     ]
    }
   ],
   "source": [
    "a = [10,20,30,40,50]\n",
    "\n",
    "for  abhi  in a :\n",
    "    print(\"the element is \",abhi)"
   ]
  },
  {
   "cell_type": "code",
   "execution_count": 116,
   "id": "bb3c97e4",
   "metadata": {
    "execution": {
     "iopub.execute_input": "2023-10-28T17:16:44.795022Z",
     "iopub.status.busy": "2023-10-28T17:16:44.794020Z",
     "iopub.status.idle": "2023-10-28T17:16:44.800110Z",
     "shell.execute_reply": "2023-10-28T17:16:44.798859Z"
    },
    "papermill": {
     "duration": 0.070188,
     "end_time": "2023-10-28T17:16:44.802117",
     "exception": false,
     "start_time": "2023-10-28T17:16:44.731929",
     "status": "completed"
    },
    "tags": []
   },
   "outputs": [
    {
     "name": "stdout",
     "output_type": "stream",
     "text": [
      "the element is  10\n",
      "the element is  20\n",
      "the element is  30\n",
      "the element is  40\n",
      "the element is  50\n"
     ]
    }
   ],
   "source": [
    "a = [10,20,30,40,50]\n",
    "\n",
    "for abhi in range(len(a)) : # [ 0,1,2,3,4]\n",
    "    print(\"the element is \",a[abhi])\n",
    "    "
   ]
  },
  {
   "cell_type": "code",
   "execution_count": 117,
   "id": "5411bfef",
   "metadata": {
    "execution": {
     "iopub.execute_input": "2023-10-28T17:16:44.926137Z",
     "iopub.status.busy": "2023-10-28T17:16:44.925773Z",
     "iopub.status.idle": "2023-10-28T17:16:44.930204Z",
     "shell.execute_reply": "2023-10-28T17:16:44.929437Z"
    },
    "papermill": {
     "duration": 0.069747,
     "end_time": "2023-10-28T17:16:44.933048",
     "exception": false,
     "start_time": "2023-10-28T17:16:44.863301",
     "status": "completed"
    },
    "tags": []
   },
   "outputs": [
    {
     "name": "stdout",
     "output_type": "stream",
     "text": [
      "1\n",
      "2\n",
      "3\n",
      "4\n"
     ]
    }
   ],
   "source": [
    "for i in range(1,5):\n",
    "    print(i)"
   ]
  },
  {
   "cell_type": "markdown",
   "id": "0f7e13be",
   "metadata": {
    "papermill": {
     "duration": 0.062135,
     "end_time": "2023-10-28T17:16:45.056502",
     "exception": false,
     "start_time": "2023-10-28T17:16:44.994367",
     "status": "completed"
    },
    "tags": []
   },
   "source": [
    "### "
   ]
  },
  {
   "cell_type": "code",
   "execution_count": 118,
   "id": "bb059611",
   "metadata": {
    "execution": {
     "iopub.execute_input": "2023-10-28T17:16:45.179208Z",
     "iopub.status.busy": "2023-10-28T17:16:45.178334Z",
     "iopub.status.idle": "2023-10-28T17:16:45.184498Z",
     "shell.execute_reply": "2023-10-28T17:16:45.183242Z"
    },
    "papermill": {
     "duration": 0.07035,
     "end_time": "2023-10-28T17:16:45.186674",
     "exception": false,
     "start_time": "2023-10-28T17:16:45.116324",
     "status": "completed"
    },
    "tags": []
   },
   "outputs": [
    {
     "name": "stdout",
     "output_type": "stream",
     "text": [
      "{'banana', 'cherry', 'orange', 'apple'}\n"
     ]
    }
   ],
   "source": [
    "fruits = {\"apple\", \"banana\", \"cherry\"}\n",
    "\n",
    "fruits.add(\"orange\")\n",
    "\n",
    "print(fruits)"
   ]
  },
  {
   "cell_type": "code",
   "execution_count": 119,
   "id": "00fd2cfa",
   "metadata": {
    "execution": {
     "iopub.execute_input": "2023-10-28T17:16:45.310849Z",
     "iopub.status.busy": "2023-10-28T17:16:45.310198Z",
     "iopub.status.idle": "2023-10-28T17:16:45.316385Z",
     "shell.execute_reply": "2023-10-28T17:16:45.315512Z"
    },
    "papermill": {
     "duration": 0.07112,
     "end_time": "2023-10-28T17:16:45.318531",
     "exception": false,
     "start_time": "2023-10-28T17:16:45.247411",
     "status": "completed"
    },
    "tags": []
   },
   "outputs": [
    {
     "name": "stdout",
     "output_type": "stream",
     "text": [
      "{'tayyab'}\n"
     ]
    }
   ],
   "source": [
    "fruits = {\"apple\", \"banana\", \"cherry\"}\n",
    "\n",
    "fruits.clear()\n",
    "\n",
    "fruits.add(\"tayyab\")\n",
    "\n",
    "print(fruits)"
   ]
  },
  {
   "cell_type": "code",
   "execution_count": 120,
   "id": "ee47e7b4",
   "metadata": {
    "execution": {
     "iopub.execute_input": "2023-10-28T17:16:45.505203Z",
     "iopub.status.busy": "2023-10-28T17:16:45.503896Z",
     "iopub.status.idle": "2023-10-28T17:16:45.510341Z",
     "shell.execute_reply": "2023-10-28T17:16:45.509183Z"
    },
    "papermill": {
     "duration": 0.070907,
     "end_time": "2023-10-28T17:16:45.512525",
     "exception": false,
     "start_time": "2023-10-28T17:16:45.441618",
     "status": "completed"
    },
    "tags": []
   },
   "outputs": [
    {
     "name": "stdout",
     "output_type": "stream",
     "text": [
      "{'banana', 'cherry'}\n"
     ]
    }
   ],
   "source": [
    "x = {\"apple\", \"banana\", \"cherry\"}\n",
    "y = {\"google\", \"microsoft\", \"apple\"}\n",
    "\n",
    "z = x.difference(y)\n",
    "\n",
    "print(z)"
   ]
  },
  {
   "cell_type": "code",
   "execution_count": 121,
   "id": "cd9f9c2f",
   "metadata": {
    "execution": {
     "iopub.execute_input": "2023-10-28T17:16:45.651993Z",
     "iopub.status.busy": "2023-10-28T17:16:45.651290Z",
     "iopub.status.idle": "2023-10-28T17:16:45.657405Z",
     "shell.execute_reply": "2023-10-28T17:16:45.656359Z"
    },
    "papermill": {
     "duration": 0.074153,
     "end_time": "2023-10-28T17:16:45.659252",
     "exception": false,
     "start_time": "2023-10-28T17:16:45.585099",
     "status": "completed"
    },
    "tags": []
   },
   "outputs": [
    {
     "name": "stdout",
     "output_type": "stream",
     "text": [
      "{'apple'}\n"
     ]
    }
   ],
   "source": [
    "x = {\"apple\", \"banana\", \"cherry\"}\n",
    "y = {\"google\", \"microsoft\", \"apple\"}\n",
    "\n",
    "z = y.intersection(x)\n",
    "\n",
    "print(z)"
   ]
  },
  {
   "cell_type": "code",
   "execution_count": 122,
   "id": "c71eb3d0",
   "metadata": {
    "execution": {
     "iopub.execute_input": "2023-10-28T17:16:45.781258Z",
     "iopub.status.busy": "2023-10-28T17:16:45.780870Z",
     "iopub.status.idle": "2023-10-28T17:16:45.786662Z",
     "shell.execute_reply": "2023-10-28T17:16:45.785546Z"
    },
    "papermill": {
     "duration": 0.069393,
     "end_time": "2023-10-28T17:16:45.788526",
     "exception": false,
     "start_time": "2023-10-28T17:16:45.719133",
     "status": "completed"
    },
    "tags": []
   },
   "outputs": [
    {
     "name": "stdout",
     "output_type": "stream",
     "text": [
      "False\n"
     ]
    }
   ],
   "source": [
    "x = {\"apple\", \"google\", \"cherry\"}\n",
    "y = {\"google\", \"microsoft\", \"facebook\"}\n",
    "\n",
    "z = x.isdisjoint(y)\n",
    "\n",
    "print(z)\n"
   ]
  },
  {
   "cell_type": "code",
   "execution_count": 123,
   "id": "4e1535af",
   "metadata": {
    "execution": {
     "iopub.execute_input": "2023-10-28T17:16:45.911632Z",
     "iopub.status.busy": "2023-10-28T17:16:45.910613Z",
     "iopub.status.idle": "2023-10-28T17:16:45.916560Z",
     "shell.execute_reply": "2023-10-28T17:16:45.915553Z"
    },
    "papermill": {
     "duration": 0.069357,
     "end_time": "2023-10-28T17:16:45.918558",
     "exception": false,
     "start_time": "2023-10-28T17:16:45.849201",
     "status": "completed"
    },
    "tags": []
   },
   "outputs": [
    {
     "name": "stdout",
     "output_type": "stream",
     "text": [
      "False\n"
     ]
    }
   ],
   "source": [
    "x = {\"a\", \"b\", \"h\"}\n",
    "y = {\"f\", \"e\", \"d\", \"c\", \"b\", \"a\"}\n",
    "\n",
    "z = x.issubset(y)\n",
    "\n",
    "print(z)"
   ]
  },
  {
   "cell_type": "code",
   "execution_count": 124,
   "id": "b3e9b5e6",
   "metadata": {
    "execution": {
     "iopub.execute_input": "2023-10-28T17:16:46.039949Z",
     "iopub.status.busy": "2023-10-28T17:16:46.039595Z",
     "iopub.status.idle": "2023-10-28T17:16:46.045061Z",
     "shell.execute_reply": "2023-10-28T17:16:46.043993Z"
    },
    "papermill": {
     "duration": 0.069979,
     "end_time": "2023-10-28T17:16:46.047787",
     "exception": false,
     "start_time": "2023-10-28T17:16:45.977808",
     "status": "completed"
    },
    "tags": []
   },
   "outputs": [
    {
     "name": "stdout",
     "output_type": "stream",
     "text": [
      "False\n"
     ]
    }
   ],
   "source": [
    "x = {\"f\", \"e\", \"d\", \"c\", \"b\", \"a\"}\n",
    "y = {\"a\", \"b\", \"z\"}\n",
    "\n",
    "z = x.issuperset(y)\n",
    "\n",
    "print(z)"
   ]
  },
  {
   "cell_type": "code",
   "execution_count": 125,
   "id": "9d10b1c2",
   "metadata": {
    "execution": {
     "iopub.execute_input": "2023-10-28T17:16:46.169941Z",
     "iopub.status.busy": "2023-10-28T17:16:46.169562Z",
     "iopub.status.idle": "2023-10-28T17:16:46.174548Z",
     "shell.execute_reply": "2023-10-28T17:16:46.173804Z"
    },
    "papermill": {
     "duration": 0.06832,
     "end_time": "2023-10-28T17:16:46.176498",
     "exception": false,
     "start_time": "2023-10-28T17:16:46.108178",
     "status": "completed"
    },
    "tags": []
   },
   "outputs": [
    {
     "name": "stdout",
     "output_type": "stream",
     "text": [
      "{'cherry', 'apple'}\n"
     ]
    }
   ],
   "source": [
    "fruits = {\"apple\", \"banana\", \"cherry\"}\n",
    "\n",
    "fruits.pop()\n",
    "\n",
    "print(fruits)"
   ]
  },
  {
   "cell_type": "code",
   "execution_count": 126,
   "id": "c1c0e75b",
   "metadata": {
    "execution": {
     "iopub.execute_input": "2023-10-28T17:16:46.300477Z",
     "iopub.status.busy": "2023-10-28T17:16:46.299447Z",
     "iopub.status.idle": "2023-10-28T17:16:46.305487Z",
     "shell.execute_reply": "2023-10-28T17:16:46.304550Z"
    },
    "papermill": {
     "duration": 0.070183,
     "end_time": "2023-10-28T17:16:46.307600",
     "exception": false,
     "start_time": "2023-10-28T17:16:46.237417",
     "status": "completed"
    },
    "tags": []
   },
   "outputs": [
    {
     "name": "stdout",
     "output_type": "stream",
     "text": [
      "{'banana', 'cherry', 'apple'}\n"
     ]
    }
   ],
   "source": [
    "x = {\"apple\", \"banana\", \"cherry\"}\n",
    "y = {\"google\", \"microsoft\", \"apple\"}\n",
    "\n",
    "z = x.union(y)\n",
    "\n",
    "print(x)"
   ]
  },
  {
   "cell_type": "code",
   "execution_count": 127,
   "id": "6862c564",
   "metadata": {
    "execution": {
     "iopub.execute_input": "2023-10-28T17:16:46.430066Z",
     "iopub.status.busy": "2023-10-28T17:16:46.429686Z",
     "iopub.status.idle": "2023-10-28T17:16:46.435445Z",
     "shell.execute_reply": "2023-10-28T17:16:46.434454Z"
    },
    "papermill": {
     "duration": 0.069626,
     "end_time": "2023-10-28T17:16:46.437639",
     "exception": false,
     "start_time": "2023-10-28T17:16:46.368013",
     "status": "completed"
    },
    "tags": []
   },
   "outputs": [
    {
     "name": "stdout",
     "output_type": "stream",
     "text": [
      "{'apple', 'banana', 'microsoft', 'google', 'cherry'}\n"
     ]
    }
   ],
   "source": [
    "x = {\"apple\", \"banana\", \"cherry\"}\n",
    "y = {\"google\", \"microsoft\", \"apple\"}\n",
    "\n",
    "x.update(y)\n",
    "\n",
    "print(x)"
   ]
  },
  {
   "cell_type": "code",
   "execution_count": 128,
   "id": "3c9d8dc2",
   "metadata": {
    "execution": {
     "iopub.execute_input": "2023-10-28T17:16:46.561923Z",
     "iopub.status.busy": "2023-10-28T17:16:46.561473Z",
     "iopub.status.idle": "2023-10-28T17:16:46.567300Z",
     "shell.execute_reply": "2023-10-28T17:16:46.566366Z"
    },
    "papermill": {
     "duration": 0.070133,
     "end_time": "2023-10-28T17:16:46.569209",
     "exception": false,
     "start_time": "2023-10-28T17:16:46.499076",
     "status": "completed"
    },
    "tags": []
   },
   "outputs": [
    {
     "name": "stdout",
     "output_type": "stream",
     "text": [
      "{'key 1': 'sush', 'key 2': 'sush', 'key 3': 'sush'}\n"
     ]
    }
   ],
   "source": [
    "x = ('key 1', 'key 2', 'key 3')\n",
    "y = \"sush\"\n",
    "\n",
    "thisdict = dict.fromkeys(x, y)\n",
    "\n",
    "print(thisdict)"
   ]
  },
  {
   "cell_type": "code",
   "execution_count": 129,
   "id": "376f0e4c",
   "metadata": {
    "execution": {
     "iopub.execute_input": "2023-10-28T17:16:46.692697Z",
     "iopub.status.busy": "2023-10-28T17:16:46.692299Z",
     "iopub.status.idle": "2023-10-28T17:16:46.698154Z",
     "shell.execute_reply": "2023-10-28T17:16:46.697436Z"
    },
    "papermill": {
     "duration": 0.069034,
     "end_time": "2023-10-28T17:16:46.699932",
     "exception": false,
     "start_time": "2023-10-28T17:16:46.630898",
     "status": "completed"
    },
    "tags": []
   },
   "outputs": [
    {
     "data": {
      "text/plain": [
       "{'key 1': 'sush', 'key 2': 'sush', 'key 3 ': 'sush'}"
      ]
     },
     "execution_count": 129,
     "metadata": {},
     "output_type": "execute_result"
    }
   ],
   "source": [
    "thisdict  = { \"key 1\" : \"sush\",\n",
    "            \"key 2\" : \"sush\",\n",
    "            \"key 3 \" : \"sush\"}\n",
    "thisdict"
   ]
  },
  {
   "cell_type": "code",
   "execution_count": 130,
   "id": "3e0fd4d5",
   "metadata": {
    "execution": {
     "iopub.execute_input": "2023-10-28T17:16:46.823492Z",
     "iopub.status.busy": "2023-10-28T17:16:46.823100Z",
     "iopub.status.idle": "2023-10-28T17:16:46.827648Z",
     "shell.execute_reply": "2023-10-28T17:16:46.826735Z"
    },
    "papermill": {
     "duration": 0.069074,
     "end_time": "2023-10-28T17:16:46.829632",
     "exception": false,
     "start_time": "2023-10-28T17:16:46.760558",
     "status": "completed"
    },
    "tags": []
   },
   "outputs": [],
   "source": [
    "x = ('st 1', 'st 2', 'st 3')\n",
    "y = 0 "
   ]
  },
  {
   "cell_type": "code",
   "execution_count": 131,
   "id": "ff358d36",
   "metadata": {
    "execution": {
     "iopub.execute_input": "2023-10-28T17:16:46.951740Z",
     "iopub.status.busy": "2023-10-28T17:16:46.951371Z",
     "iopub.status.idle": "2023-10-28T17:16:46.956836Z",
     "shell.execute_reply": "2023-10-28T17:16:46.956164Z"
    },
    "papermill": {
     "duration": 0.068658,
     "end_time": "2023-10-28T17:16:46.958567",
     "exception": false,
     "start_time": "2023-10-28T17:16:46.889909",
     "status": "completed"
    },
    "tags": []
   },
   "outputs": [
    {
     "data": {
      "text/plain": [
       "'Mustang'"
      ]
     },
     "execution_count": 131,
     "metadata": {},
     "output_type": "execute_result"
    }
   ],
   "source": [
    "car = {\n",
    "  \"brand\": \"Ford\",\n",
    "  \"model\": \"Mustang\",\n",
    "  \"year\": 1964\n",
    "}\n",
    "\n",
    "car.get(\"model\")\n",
    "\n"
   ]
  },
  {
   "cell_type": "code",
   "execution_count": 132,
   "id": "775d3705",
   "metadata": {
    "execution": {
     "iopub.execute_input": "2023-10-28T17:16:47.081574Z",
     "iopub.status.busy": "2023-10-28T17:16:47.080922Z",
     "iopub.status.idle": "2023-10-28T17:16:47.086158Z",
     "shell.execute_reply": "2023-10-28T17:16:47.085515Z"
    },
    "papermill": {
     "duration": 0.068838,
     "end_time": "2023-10-28T17:16:47.087871",
     "exception": false,
     "start_time": "2023-10-28T17:16:47.019033",
     "status": "completed"
    },
    "tags": []
   },
   "outputs": [
    {
     "data": {
      "text/plain": [
       "'Mustang'"
      ]
     },
     "execution_count": 132,
     "metadata": {},
     "output_type": "execute_result"
    }
   ],
   "source": [
    "car = {\n",
    "  \"brand\": \"Ford\",\n",
    "  \"model\": \"Mustang\",\n",
    "  \"year\": 1964\n",
    "}\n",
    "car[\"model\"]"
   ]
  },
  {
   "cell_type": "code",
   "execution_count": 133,
   "id": "b6828eb5",
   "metadata": {
    "execution": {
     "iopub.execute_input": "2023-10-28T17:16:47.209253Z",
     "iopub.status.busy": "2023-10-28T17:16:47.208628Z",
     "iopub.status.idle": "2023-10-28T17:16:47.214506Z",
     "shell.execute_reply": "2023-10-28T17:16:47.213590Z"
    },
    "papermill": {
     "duration": 0.069115,
     "end_time": "2023-10-28T17:16:47.216315",
     "exception": false,
     "start_time": "2023-10-28T17:16:47.147200",
     "status": "completed"
    },
    "tags": []
   },
   "outputs": [
    {
     "data": {
      "text/plain": [
       "dict_keys(['brand', 'model', 'year'])"
      ]
     },
     "execution_count": 133,
     "metadata": {},
     "output_type": "execute_result"
    }
   ],
   "source": [
    "car = {\n",
    "  \"brand\": \"Ford\",\n",
    "  \"model\": \"Mustang\",\n",
    "  \"year\": 1964\n",
    "}\n",
    "\n",
    "car.keys()"
   ]
  },
  {
   "cell_type": "code",
   "execution_count": 134,
   "id": "e3f4b606",
   "metadata": {
    "execution": {
     "iopub.execute_input": "2023-10-28T17:16:47.339745Z",
     "iopub.status.busy": "2023-10-28T17:16:47.339365Z",
     "iopub.status.idle": "2023-10-28T17:16:47.344695Z",
     "shell.execute_reply": "2023-10-28T17:16:47.344021Z"
    },
    "papermill": {
     "duration": 0.069001,
     "end_time": "2023-10-28T17:16:47.346693",
     "exception": false,
     "start_time": "2023-10-28T17:16:47.277692",
     "status": "completed"
    },
    "tags": []
   },
   "outputs": [
    {
     "data": {
      "text/plain": [
       "dict_values(['Ford', 'Mustang', 1964])"
      ]
     },
     "execution_count": 134,
     "metadata": {},
     "output_type": "execute_result"
    }
   ],
   "source": [
    "car.values()"
   ]
  },
  {
   "cell_type": "code",
   "execution_count": 135,
   "id": "d358c291",
   "metadata": {
    "execution": {
     "iopub.execute_input": "2023-10-28T17:16:47.469865Z",
     "iopub.status.busy": "2023-10-28T17:16:47.469446Z",
     "iopub.status.idle": "2023-10-28T17:16:47.475508Z",
     "shell.execute_reply": "2023-10-28T17:16:47.474516Z"
    },
    "papermill": {
     "duration": 0.069794,
     "end_time": "2023-10-28T17:16:47.477601",
     "exception": false,
     "start_time": "2023-10-28T17:16:47.407807",
     "status": "completed"
    },
    "tags": []
   },
   "outputs": [
    {
     "data": {
      "text/plain": [
       "dict_items([('brand', 'Ford'), ('model', 'Mustang'), ('year', 1964)])"
      ]
     },
     "execution_count": 135,
     "metadata": {},
     "output_type": "execute_result"
    }
   ],
   "source": [
    "car.items()"
   ]
  },
  {
   "cell_type": "code",
   "execution_count": 136,
   "id": "3008942d",
   "metadata": {
    "execution": {
     "iopub.execute_input": "2023-10-28T17:16:47.601156Z",
     "iopub.status.busy": "2023-10-28T17:16:47.600188Z",
     "iopub.status.idle": "2023-10-28T17:16:47.605742Z",
     "shell.execute_reply": "2023-10-28T17:16:47.604919Z"
    },
    "papermill": {
     "duration": 0.068495,
     "end_time": "2023-10-28T17:16:47.607494",
     "exception": false,
     "start_time": "2023-10-28T17:16:47.538999",
     "status": "completed"
    },
    "tags": []
   },
   "outputs": [
    {
     "name": "stdout",
     "output_type": "stream",
     "text": [
      "{'brand': 'Ford', 'year': 1964}\n"
     ]
    }
   ],
   "source": [
    "car = {\n",
    "  \"brand\": \"Ford\",\n",
    "  \"model\": \"Mustang\",\n",
    "  \"year\": 1964\n",
    "}\n",
    "\n",
    "car.pop(\"model\")\n",
    "\n",
    "print(car)"
   ]
  },
  {
   "cell_type": "code",
   "execution_count": 137,
   "id": "1ad084cf",
   "metadata": {
    "execution": {
     "iopub.execute_input": "2023-10-28T17:16:47.733001Z",
     "iopub.status.busy": "2023-10-28T17:16:47.731953Z",
     "iopub.status.idle": "2023-10-28T17:16:47.738041Z",
     "shell.execute_reply": "2023-10-28T17:16:47.736877Z"
    },
    "papermill": {
     "duration": 0.070992,
     "end_time": "2023-10-28T17:16:47.739926",
     "exception": false,
     "start_time": "2023-10-28T17:16:47.668934",
     "status": "completed"
    },
    "tags": []
   },
   "outputs": [
    {
     "name": "stdout",
     "output_type": "stream",
     "text": [
      "{'brand': 'Ford', 'model': 'Mustang'}\n"
     ]
    }
   ],
   "source": [
    "car = {\n",
    "  \"brand\": \"Ford\",\n",
    "  \"model\": \"Mustang\",\n",
    "  \"year\": 1964\n",
    "}\n",
    "\n",
    "car.popitem()\n",
    "\n",
    "print(car)"
   ]
  },
  {
   "cell_type": "code",
   "execution_count": 138,
   "id": "a8b0b87c",
   "metadata": {
    "execution": {
     "iopub.execute_input": "2023-10-28T17:16:47.864185Z",
     "iopub.status.busy": "2023-10-28T17:16:47.863832Z",
     "iopub.status.idle": "2023-10-28T17:16:47.869477Z",
     "shell.execute_reply": "2023-10-28T17:16:47.868484Z"
    },
    "papermill": {
     "duration": 0.069492,
     "end_time": "2023-10-28T17:16:47.871514",
     "exception": false,
     "start_time": "2023-10-28T17:16:47.802022",
     "status": "completed"
    },
    "tags": []
   },
   "outputs": [
    {
     "name": "stdout",
     "output_type": "stream",
     "text": [
      "None\n"
     ]
    }
   ],
   "source": [
    "car = {\n",
    "  \"brand\": \"Ford\",\n",
    "    \"model\" : None ,\n",
    "\n",
    "  \"year\": 1964\n",
    "}\n",
    "\n",
    "x = car.setdefault(\"model\", \"Bronco\")\n",
    "\n",
    "print(x)"
   ]
  },
  {
   "cell_type": "code",
   "execution_count": 139,
   "id": "99437662",
   "metadata": {
    "execution": {
     "iopub.execute_input": "2023-10-28T17:16:47.996680Z",
     "iopub.status.busy": "2023-10-28T17:16:47.996035Z",
     "iopub.status.idle": "2023-10-28T17:16:48.001576Z",
     "shell.execute_reply": "2023-10-28T17:16:48.000539Z"
    },
    "papermill": {
     "duration": 0.070496,
     "end_time": "2023-10-28T17:16:48.003786",
     "exception": false,
     "start_time": "2023-10-28T17:16:47.933290",
     "status": "completed"
    },
    "tags": []
   },
   "outputs": [
    {
     "name": "stdout",
     "output_type": "stream",
     "text": [
      "{'brand': 'Ford', 'model': 'Mustang', 'year': 1964, 'color': 'White'}\n"
     ]
    }
   ],
   "source": [
    "car = {\n",
    "  \"brand\": \"Ford\",\n",
    "  \"model\": \"Mustang\",\n",
    "  \"year\": 1964\n",
    "}\n",
    "\n",
    "\n",
    "car.update({\"color\": \"White\"})\n",
    "print(car)\n",
    "\n"
   ]
  },
  {
   "cell_type": "code",
   "execution_count": 140,
   "id": "ee442712",
   "metadata": {
    "execution": {
     "iopub.execute_input": "2023-10-28T17:16:48.127498Z",
     "iopub.status.busy": "2023-10-28T17:16:48.126455Z",
     "iopub.status.idle": "2023-10-28T17:16:48.130964Z",
     "shell.execute_reply": "2023-10-28T17:16:48.130296Z"
    },
    "papermill": {
     "duration": 0.067726,
     "end_time": "2023-10-28T17:16:48.132791",
     "exception": false,
     "start_time": "2023-10-28T17:16:48.065065",
     "status": "completed"
    },
    "tags": []
   },
   "outputs": [],
   "source": [
    "# *"
   ]
  },
  {
   "cell_type": "code",
   "execution_count": 141,
   "id": "fe8dedf4",
   "metadata": {
    "execution": {
     "iopub.execute_input": "2023-10-28T17:16:48.255022Z",
     "iopub.status.busy": "2023-10-28T17:16:48.254140Z",
     "iopub.status.idle": "2023-10-28T17:16:48.259836Z",
     "shell.execute_reply": "2023-10-28T17:16:48.258915Z"
    },
    "papermill": {
     "duration": 0.068834,
     "end_time": "2023-10-28T17:16:48.261676",
     "exception": false,
     "start_time": "2023-10-28T17:16:48.192842",
     "status": "completed"
    },
    "tags": []
   },
   "outputs": [
    {
     "name": "stdout",
     "output_type": "stream",
     "text": [
      "*\n"
     ]
    }
   ],
   "source": [
    "print(\"*\")"
   ]
  },
  {
   "cell_type": "code",
   "execution_count": 142,
   "id": "4652dcad",
   "metadata": {
    "execution": {
     "iopub.execute_input": "2023-10-28T17:16:48.383873Z",
     "iopub.status.busy": "2023-10-28T17:16:48.383505Z",
     "iopub.status.idle": "2023-10-28T17:16:48.387581Z",
     "shell.execute_reply": "2023-10-28T17:16:48.386612Z"
    },
    "papermill": {
     "duration": 0.067618,
     "end_time": "2023-10-28T17:16:48.389582",
     "exception": false,
     "start_time": "2023-10-28T17:16:48.321964",
     "status": "completed"
    },
    "tags": []
   },
   "outputs": [],
   "source": [
    "# *\n",
    "# **"
   ]
  },
  {
   "cell_type": "code",
   "execution_count": 143,
   "id": "d554be8a",
   "metadata": {
    "execution": {
     "iopub.execute_input": "2023-10-28T17:16:48.514077Z",
     "iopub.status.busy": "2023-10-28T17:16:48.513734Z",
     "iopub.status.idle": "2023-10-28T17:16:48.518185Z",
     "shell.execute_reply": "2023-10-28T17:16:48.517530Z"
    },
    "papermill": {
     "duration": 0.067833,
     "end_time": "2023-10-28T17:16:48.519975",
     "exception": false,
     "start_time": "2023-10-28T17:16:48.452142",
     "status": "completed"
    },
    "tags": []
   },
   "outputs": [
    {
     "name": "stdout",
     "output_type": "stream",
     "text": [
      "*\n",
      "**\n"
     ]
    }
   ],
   "source": [
    "print(\"*\")\n",
    "print(\"**\")"
   ]
  },
  {
   "cell_type": "code",
   "execution_count": 144,
   "id": "79dc25e1",
   "metadata": {
    "execution": {
     "iopub.execute_input": "2023-10-28T17:16:48.642701Z",
     "iopub.status.busy": "2023-10-28T17:16:48.642058Z",
     "iopub.status.idle": "2023-10-28T17:16:48.646349Z",
     "shell.execute_reply": "2023-10-28T17:16:48.645351Z"
    },
    "papermill": {
     "duration": 0.06772,
     "end_time": "2023-10-28T17:16:48.648350",
     "exception": false,
     "start_time": "2023-10-28T17:16:48.580630",
     "status": "completed"
    },
    "tags": []
   },
   "outputs": [],
   "source": [
    "# *\n",
    "# **\n",
    "# ***\n",
    "# ****"
   ]
  },
  {
   "cell_type": "code",
   "execution_count": 145,
   "id": "0c94e7b6",
   "metadata": {
    "execution": {
     "iopub.execute_input": "2023-10-28T17:16:48.770505Z",
     "iopub.status.busy": "2023-10-28T17:16:48.770113Z",
     "iopub.status.idle": "2023-10-28T17:16:48.776207Z",
     "shell.execute_reply": "2023-10-28T17:16:48.774991Z"
    },
    "papermill": {
     "duration": 0.0694,
     "end_time": "2023-10-28T17:16:48.778063",
     "exception": false,
     "start_time": "2023-10-28T17:16:48.708663",
     "status": "completed"
    },
    "tags": []
   },
   "outputs": [
    {
     "name": "stdout",
     "output_type": "stream",
     "text": [
      "   *\n",
      "  **\n",
      " ***\n",
      "****\n",
      " ***\n",
      "  **\n",
      "   *\n"
     ]
    }
   ],
   "source": [
    "for i in range(4) :\n",
    "    print(\" \"*(3-i),end=\"\")\n",
    "    print(\"*\"* (i+1))\n",
    "#     print(\"--\")\n",
    "for j in range(3):\n",
    "    print(\" \"*(j+1),end=\"\")\n",
    "    print(\"*\"*(3-j))"
   ]
  },
  {
   "cell_type": "code",
   "execution_count": 146,
   "id": "bba65a96",
   "metadata": {
    "execution": {
     "iopub.execute_input": "2023-10-28T17:16:48.902932Z",
     "iopub.status.busy": "2023-10-28T17:16:48.901914Z",
     "iopub.status.idle": "2023-10-28T17:16:48.905916Z",
     "shell.execute_reply": "2023-10-28T17:16:48.905151Z"
    },
    "papermill": {
     "duration": 0.069653,
     "end_time": "2023-10-28T17:16:48.907718",
     "exception": false,
     "start_time": "2023-10-28T17:16:48.838065",
     "status": "completed"
    },
    "tags": []
   },
   "outputs": [],
   "source": [
    "#    *\n",
    "#   ***\n",
    "#  *****\n",
    "# *******\n",
    "\n",
    "#  *****\n",
    "#   ***\n",
    "#    *"
   ]
  },
  {
   "cell_type": "code",
   "execution_count": 147,
   "id": "21b5325e",
   "metadata": {
    "execution": {
     "iopub.execute_input": "2023-10-28T17:16:49.031896Z",
     "iopub.status.busy": "2023-10-28T17:16:49.031263Z",
     "iopub.status.idle": "2023-10-28T17:16:49.035106Z",
     "shell.execute_reply": "2023-10-28T17:16:49.034097Z"
    },
    "papermill": {
     "duration": 0.068678,
     "end_time": "2023-10-28T17:16:49.037239",
     "exception": false,
     "start_time": "2023-10-28T17:16:48.968561",
     "status": "completed"
    },
    "tags": []
   },
   "outputs": [],
   "source": [
    "# *\n",
    "# ***\n",
    "# *****\n",
    "# *******\n",
    "\n",
    "\n",
    "# *****\n",
    "# ***\n",
    "# *"
   ]
  },
  {
   "cell_type": "code",
   "execution_count": 148,
   "id": "4ed70888",
   "metadata": {
    "execution": {
     "iopub.execute_input": "2023-10-28T17:16:49.162488Z",
     "iopub.status.busy": "2023-10-28T17:16:49.162127Z",
     "iopub.status.idle": "2023-10-28T17:16:49.166801Z",
     "shell.execute_reply": "2023-10-28T17:16:49.166092Z"
    },
    "papermill": {
     "duration": 0.069712,
     "end_time": "2023-10-28T17:16:49.168927",
     "exception": false,
     "start_time": "2023-10-28T17:16:49.099215",
     "status": "completed"
    },
    "tags": []
   },
   "outputs": [
    {
     "name": "stdout",
     "output_type": "stream",
     "text": [
      "*\n",
      "***\n",
      "*****\n",
      "*******\n",
      "*\n",
      "*\n",
      "*\n"
     ]
    }
   ],
   "source": [
    "for i in range(4):\n",
    "    print(\"*\"* ((2*i)+1))\n",
    "for j in range(3):\n",
    "    print(\"*\")"
   ]
  },
  {
   "cell_type": "code",
   "execution_count": 149,
   "id": "08251254",
   "metadata": {
    "execution": {
     "iopub.execute_input": "2023-10-28T17:16:49.292058Z",
     "iopub.status.busy": "2023-10-28T17:16:49.290952Z",
     "iopub.status.idle": "2023-10-28T17:16:49.295685Z",
     "shell.execute_reply": "2023-10-28T17:16:49.294996Z"
    },
    "papermill": {
     "duration": 0.067658,
     "end_time": "2023-10-28T17:16:49.297515",
     "exception": false,
     "start_time": "2023-10-28T17:16:49.229857",
     "status": "completed"
    },
    "tags": []
   },
   "outputs": [],
   "source": [
    "#     *\n",
    "#    ***\n",
    "#   *****\n",
    "#  *******\n",
    "# *********\n",
    "#  *******\n",
    "#   *****\n",
    "#    ***\n",
    "#     *"
   ]
  },
  {
   "cell_type": "code",
   "execution_count": 150,
   "id": "421097db",
   "metadata": {
    "execution": {
     "iopub.execute_input": "2023-10-28T17:16:49.470360Z",
     "iopub.status.busy": "2023-10-28T17:16:49.469694Z",
     "iopub.status.idle": "2023-10-28T17:16:49.477038Z",
     "shell.execute_reply": "2023-10-28T17:16:49.475990Z"
    },
    "papermill": {
     "duration": 0.071162,
     "end_time": "2023-10-28T17:16:49.479007",
     "exception": false,
     "start_time": "2023-10-28T17:16:49.407845",
     "status": "completed"
    },
    "tags": []
   },
   "outputs": [
    {
     "name": "stdout",
     "output_type": "stream",
     "text": [
      "                        *\n",
      "                       ***\n",
      "                      *****\n",
      "                     *******\n",
      "                    *********\n",
      "                   ***********\n",
      "                  *************\n",
      "                 ***************\n",
      "                *****************\n",
      "               *******************\n",
      "              *********************\n",
      "             ***********************\n",
      "            *************************\n",
      "           ***************************\n",
      "          *****************************\n",
      "         *******************************\n",
      "        *********************************\n",
      "       ***********************************\n",
      "      *************************************\n",
      "     ***************************************\n",
      "    *****************************************\n",
      "   *******************************************\n",
      "  *********************************************\n",
      " ***********************************************\n",
      "*************************************************\n",
      " ***********************************************\n",
      "  *********************************************\n",
      "   *******************************************\n",
      "    *****************************************\n",
      "     ***************************************\n",
      "      *************************************\n",
      "       ***********************************\n",
      "        *********************************\n",
      "         *******************************\n",
      "          *****************************\n",
      "           ***************************\n",
      "            *************************\n",
      "             ***********************\n",
      "              *********************\n",
      "               *******************\n",
      "                *****************\n",
      "                 ***************\n",
      "                  *************\n",
      "                   ***********\n",
      "                    *********\n",
      "                     *******\n",
      "                      *****\n",
      "                       ***\n",
      "                        *\n"
     ]
    }
   ],
   "source": [
    "n =25\n",
    "\n",
    "for i in range(n):\n",
    "    print(\" \"*(n-1-i),end=\"\")\n",
    "    print(\"*\"*((2*i)+1))\n",
    "for j in range(n-1):\n",
    "    print(\" \"*(j+1),end=\"\")\n",
    "    print(\"*\"*((2*(n-2-j))+1))"
   ]
  },
  {
   "cell_type": "markdown",
   "id": "85dc5b1f",
   "metadata": {
    "papermill": {
     "duration": 0.062362,
     "end_time": "2023-10-28T17:16:49.603373",
     "exception": false,
     "start_time": "2023-10-28T17:16:49.541011",
     "status": "completed"
    },
    "tags": []
   },
   "source": [
    "# "
   ]
  },
  {
   "cell_type": "code",
   "execution_count": 151,
   "id": "d3696efd",
   "metadata": {
    "execution": {
     "iopub.execute_input": "2023-10-28T17:16:49.732590Z",
     "iopub.status.busy": "2023-10-28T17:16:49.731843Z",
     "iopub.status.idle": "2023-10-28T17:16:49.736163Z",
     "shell.execute_reply": "2023-10-28T17:16:49.735496Z"
    },
    "papermill": {
     "duration": 0.070432,
     "end_time": "2023-10-28T17:16:49.738108",
     "exception": false,
     "start_time": "2023-10-28T17:16:49.667676",
     "status": "completed"
    },
    "tags": []
   },
   "outputs": [],
   "source": [
    "#    *    \n",
    "#   * *\n",
    "#  *   *\n",
    "# *     *\n",
    "#  *   *\n",
    "#   * *\n",
    "\n",
    "\n",
    "#    *"
   ]
  },
  {
   "cell_type": "code",
   "execution_count": 152,
   "id": "07f8cb53",
   "metadata": {
    "execution": {
     "iopub.execute_input": "2023-10-28T17:16:49.862702Z",
     "iopub.status.busy": "2023-10-28T17:16:49.861796Z",
     "iopub.status.idle": "2023-10-28T17:16:49.869268Z",
     "shell.execute_reply": "2023-10-28T17:16:49.868246Z"
    },
    "papermill": {
     "duration": 0.072246,
     "end_time": "2023-10-28T17:16:49.872015",
     "exception": false,
     "start_time": "2023-10-28T17:16:49.799769",
     "status": "completed"
    },
    "tags": []
   },
   "outputs": [
    {
     "name": "stdout",
     "output_type": "stream",
     "text": [
      "           *\n",
      "          * *\n",
      "         *   *\n",
      "        *     *\n",
      "       *       *\n",
      "      *         *\n",
      "     *           *\n",
      "    *             *\n",
      "   *               *\n",
      "  *                 *\n",
      " *                   *\n",
      "  *                 *\n",
      "   *               *\n",
      "    *             *\n",
      "     *           *\n",
      "      *         *\n",
      "       *       *\n",
      "        *     *\n",
      "         *   *\n",
      "          * *\n",
      "           *\n"
     ]
    }
   ],
   "source": [
    "n = 11\n",
    "# n = 4\n",
    "print(\" \"*(n-1),\"*\")\n",
    "for i in range((n-1)):\n",
    "    print(\" \"*(n-2-i),\"*\"+\" \"*((2*i )+1)+\"*\")\n",
    "for j in range(n-2):\n",
    "    print(\" \"*(j+1),\"*\"+\" \"*((2*(n-2-j))-1)+\"*\")\n",
    "    \n",
    "\n",
    "    \n",
    "print(\" \"*(n-1),\"*\")"
   ]
  },
  {
   "cell_type": "code",
   "execution_count": 153,
   "id": "1daf35ef",
   "metadata": {
    "execution": {
     "iopub.execute_input": "2023-10-28T17:16:49.997716Z",
     "iopub.status.busy": "2023-10-28T17:16:49.997002Z",
     "iopub.status.idle": "2023-10-28T17:16:50.001774Z",
     "shell.execute_reply": "2023-10-28T17:16:50.000769Z"
    },
    "papermill": {
     "duration": 0.070217,
     "end_time": "2023-10-28T17:16:50.003872",
     "exception": false,
     "start_time": "2023-10-28T17:16:49.933655",
     "status": "completed"
    },
    "tags": []
   },
   "outputs": [],
   "source": [
    "# 1\n",
    "# 1 1\n",
    "# 1 1 1\n",
    "# 1 1 1 1\n",
    "# 1 1 1 1 1"
   ]
  },
  {
   "cell_type": "code",
   "execution_count": 154,
   "id": "5f66ba4d",
   "metadata": {
    "execution": {
     "iopub.execute_input": "2023-10-28T17:16:50.129525Z",
     "iopub.status.busy": "2023-10-28T17:16:50.129157Z",
     "iopub.status.idle": "2023-10-28T17:16:50.134119Z",
     "shell.execute_reply": "2023-10-28T17:16:50.133074Z"
    },
    "papermill": {
     "duration": 0.070399,
     "end_time": "2023-10-28T17:16:50.136190",
     "exception": false,
     "start_time": "2023-10-28T17:16:50.065791",
     "status": "completed"
    },
    "tags": []
   },
   "outputs": [
    {
     "name": "stdout",
     "output_type": "stream",
     "text": [
      "1 \n",
      "1 1 \n",
      "1 1 1 \n",
      "1 1 1 1 \n",
      "1 1 1 1 1 \n"
     ]
    }
   ],
   "source": [
    "for i in range(5):\n",
    "    print(\"1 \"*(i+1))"
   ]
  },
  {
   "cell_type": "code",
   "execution_count": 155,
   "id": "5e56baa6",
   "metadata": {
    "execution": {
     "iopub.execute_input": "2023-10-28T17:16:50.262117Z",
     "iopub.status.busy": "2023-10-28T17:16:50.261761Z",
     "iopub.status.idle": "2023-10-28T17:16:50.265552Z",
     "shell.execute_reply": "2023-10-28T17:16:50.264546Z"
    },
    "papermill": {
     "duration": 0.069684,
     "end_time": "2023-10-28T17:16:50.267360",
     "exception": false,
     "start_time": "2023-10-28T17:16:50.197676",
     "status": "completed"
    },
    "tags": []
   },
   "outputs": [],
   "source": [
    "# 1\n",
    "# 1 2\n",
    "# 1 2 3\n",
    "# 1 2 3 4\n",
    "# 1 2 3 4 5"
   ]
  },
  {
   "cell_type": "code",
   "execution_count": 156,
   "id": "4e57bede",
   "metadata": {
    "execution": {
     "iopub.execute_input": "2023-10-28T17:16:50.392639Z",
     "iopub.status.busy": "2023-10-28T17:16:50.392260Z",
     "iopub.status.idle": "2023-10-28T17:16:50.397972Z",
     "shell.execute_reply": "2023-10-28T17:16:50.396309Z"
    },
    "papermill": {
     "duration": 0.071108,
     "end_time": "2023-10-28T17:16:50.399901",
     "exception": false,
     "start_time": "2023-10-28T17:16:50.328793",
     "status": "completed"
    },
    "tags": []
   },
   "outputs": [
    {
     "name": "stdout",
     "output_type": "stream",
     "text": [
      "1 \n",
      "1 2 \n",
      "1 2 3 \n",
      "1 2 3 4 \n",
      "1 2 3 4 5 \n"
     ]
    }
   ],
   "source": [
    "for i in range(5):\n",
    "    for j in range(i+1) :\n",
    "        print(j+1,end=\" \")\n",
    "    print()"
   ]
  },
  {
   "cell_type": "code",
   "execution_count": 157,
   "id": "de50fdbe",
   "metadata": {
    "execution": {
     "iopub.execute_input": "2023-10-28T17:16:50.526385Z",
     "iopub.status.busy": "2023-10-28T17:16:50.525427Z",
     "iopub.status.idle": "2023-10-28T17:16:50.529936Z",
     "shell.execute_reply": "2023-10-28T17:16:50.528917Z"
    },
    "papermill": {
     "duration": 0.070244,
     "end_time": "2023-10-28T17:16:50.531866",
     "exception": false,
     "start_time": "2023-10-28T17:16:50.461622",
     "status": "completed"
    },
    "tags": []
   },
   "outputs": [],
   "source": [
    "#       1\n",
    "#     1 2 1\n",
    "#   1 2 3 2 1 \n",
    "# 1 2 3 4 3 2 1\n",
    "#   1 2 3 2 1\n",
    "#     1 2 1\n",
    "#       1"
   ]
  },
  {
   "cell_type": "code",
   "execution_count": 158,
   "id": "28d75ea1",
   "metadata": {
    "execution": {
     "iopub.execute_input": "2023-10-28T17:16:50.657924Z",
     "iopub.status.busy": "2023-10-28T17:16:50.657563Z",
     "iopub.status.idle": "2023-10-28T17:16:50.666036Z",
     "shell.execute_reply": "2023-10-28T17:16:50.664987Z"
    },
    "papermill": {
     "duration": 0.073772,
     "end_time": "2023-10-28T17:16:50.667976",
     "exception": false,
     "start_time": "2023-10-28T17:16:50.594204",
     "status": "completed"
    },
    "tags": []
   },
   "outputs": [
    {
     "name": "stdout",
     "output_type": "stream",
     "text": [
      "              1 \n",
      "            1 2 1 \n",
      "          1 2 3 2 1 \n",
      "        1 2 3 4 3 2 1 \n",
      "      1 2 3 4 5 4 3 2 1 \n",
      "    1 2 3 4 5 6 5 4 3 2 1 \n",
      "  1 2 3 4 5 6 7 6 5 4 3 2 1 \n",
      "1 2 3 4 5 6 7 8 7 6 5 4 3 2 1 \n",
      "  1 2 3 4 5 6 7 6 5 4 3 2 1 \n",
      "    1 2 3 4 5 6 5 4 3 2 1 \n",
      "      1 2 3 4 5 4 3 2 1 \n",
      "        1 2 3 4 3 2 1 \n",
      "          1 2 3 2 1 \n",
      "            1 2 1 \n",
      "              1 \n"
     ]
    }
   ],
   "source": [
    "n = 8\n",
    "# 4\n",
    "for i in range(n):\n",
    "    print(\" \"*(2*(n-1-i)),end=\"\")\n",
    "    for j in range(i+1):\n",
    "        print(j+1 ,end=\" \")\n",
    "    for k in range(i-1,-1,-1):\n",
    "        print(k+1 ,end=\" \")\n",
    "    print()\n",
    "for p in range(n-1) : # 0 13\n",
    "    print(\" \"*(2*(p+1)),end=\"\")\n",
    "    for q in range(n-1-p) :\n",
    "        print(q+1,end=\" \")        \n",
    "    for r in range(n-p-3,-1,-1):\n",
    "        print(r+1,end=\" \")\n",
    "    print()"
   ]
  },
  {
   "cell_type": "markdown",
   "id": "d575fdd9",
   "metadata": {
    "execution": {
     "iopub.execute_input": "2023-10-20T17:08:22.412842Z",
     "iopub.status.busy": "2023-10-20T17:08:22.412393Z",
     "iopub.status.idle": "2023-10-20T17:08:22.418210Z",
     "shell.execute_reply": "2023-10-20T17:08:22.417396Z",
     "shell.execute_reply.started": "2023-10-20T17:08:22.412813Z"
    },
    "papermill": {
     "duration": 0.062091,
     "end_time": "2023-10-28T17:16:50.791250",
     "exception": false,
     "start_time": "2023-10-28T17:16:50.729159",
     "status": "completed"
    },
    "tags": []
   },
   "source": [
    "# for i in range(4):\n",
    "    print(i, end=\" \")"
   ]
  },
  {
   "cell_type": "code",
   "execution_count": 159,
   "id": "01ce4b51",
   "metadata": {
    "execution": {
     "iopub.execute_input": "2023-10-28T17:16:50.918131Z",
     "iopub.status.busy": "2023-10-28T17:16:50.917757Z",
     "iopub.status.idle": "2023-10-28T17:16:50.923006Z",
     "shell.execute_reply": "2023-10-28T17:16:50.922085Z"
    },
    "papermill": {
     "duration": 0.070865,
     "end_time": "2023-10-28T17:16:50.925126",
     "exception": false,
     "start_time": "2023-10-28T17:16:50.854261",
     "status": "completed"
    },
    "tags": []
   },
   "outputs": [
    {
     "name": "stdout",
     "output_type": "stream",
     "text": [
      "3 2 1 0 "
     ]
    }
   ],
   "source": [
    "for i in range(3,-1,-1):\n",
    "    print(i, end=\" \")"
   ]
  },
  {
   "cell_type": "code",
   "execution_count": 160,
   "id": "181be65e",
   "metadata": {
    "execution": {
     "iopub.execute_input": "2023-10-28T17:16:51.050942Z",
     "iopub.status.busy": "2023-10-28T17:16:51.050204Z",
     "iopub.status.idle": "2023-10-28T17:16:51.054561Z",
     "shell.execute_reply": "2023-10-28T17:16:51.053854Z"
    },
    "papermill": {
     "duration": 0.069858,
     "end_time": "2023-10-28T17:16:51.056495",
     "exception": false,
     "start_time": "2023-10-28T17:16:50.986637",
     "status": "completed"
    },
    "tags": []
   },
   "outputs": [],
   "source": [
    "# 0  \n",
    "\n",
    "# 0 1  \n",
    "\n",
    "# 0 2 4  \n",
    "\n",
    "# 0 3 6 9  \n",
    "\n",
    "# 0 4 8 12 16  \n",
    "\n",
    "# 0 5 10 15 20 25  \n",
    "\n",
    "# 0 6 12 18 24 30 36"
   ]
  },
  {
   "cell_type": "code",
   "execution_count": 161,
   "id": "dd65ec4b",
   "metadata": {
    "execution": {
     "iopub.execute_input": "2023-10-28T17:16:51.182352Z",
     "iopub.status.busy": "2023-10-28T17:16:51.181640Z",
     "iopub.status.idle": "2023-10-28T17:16:51.188801Z",
     "shell.execute_reply": "2023-10-28T17:16:51.187549Z"
    },
    "papermill": {
     "duration": 0.072085,
     "end_time": "2023-10-28T17:16:51.190731",
     "exception": false,
     "start_time": "2023-10-28T17:16:51.118646",
     "status": "completed"
    },
    "tags": []
   },
   "outputs": [
    {
     "name": "stdout",
     "output_type": "stream",
     "text": [
      "0 \n",
      "0 1 \n",
      "0 2 4 \n",
      "0 3 6 9 \n",
      "0 4 8 12 16 \n",
      "0 5 10 15 20 25 \n",
      "0 6 12 18 24 30 36 \n",
      "0 7 14 21 28 35 42 49 \n",
      "0 8 16 24 32 40 48 56 64 \n",
      "0 9 18 27 36 45 54 63 72 81 \n",
      "0 10 20 30 40 50 60 70 80 90 100 \n",
      "0 11 22 33 44 55 66 77 88 99 110 121 \n",
      "0 12 24 36 48 60 72 84 96 108 120 132 144 \n",
      "0 13 26 39 52 65 78 91 104 117 130 143 156 169 \n",
      "0 14 28 42 56 70 84 98 112 126 140 154 168 182 196 \n",
      "0 15 30 45 60 75 90 105 120 135 150 165 180 195 210 225 \n"
     ]
    }
   ],
   "source": [
    "n = 15\n",
    "# 6\n",
    "for i in range(n+1):\n",
    "    for j in range(i+1):\n",
    "        print(j*i,end=\" \")\n",
    "    print()"
   ]
  },
  {
   "cell_type": "code",
   "execution_count": 162,
   "id": "fab07f69",
   "metadata": {
    "execution": {
     "iopub.execute_input": "2023-10-28T17:16:51.315619Z",
     "iopub.status.busy": "2023-10-28T17:16:51.314939Z",
     "iopub.status.idle": "2023-10-28T17:16:51.319146Z",
     "shell.execute_reply": "2023-10-28T17:16:51.318488Z"
    },
    "papermill": {
     "duration": 0.068934,
     "end_time": "2023-10-28T17:16:51.321050",
     "exception": false,
     "start_time": "2023-10-28T17:16:51.252116",
     "status": "completed"
    },
    "tags": []
   },
   "outputs": [],
   "source": [
    "# 1 \n",
    "\n",
    "# 3 3 \n",
    "\n",
    "# 5 5 5 \n",
    "\n",
    "# 7 7 7 7 \n",
    "\n",
    "# 9 9 9 9 9"
   ]
  },
  {
   "cell_type": "code",
   "execution_count": 163,
   "id": "57e821f4",
   "metadata": {
    "execution": {
     "iopub.execute_input": "2023-10-28T17:16:51.446103Z",
     "iopub.status.busy": "2023-10-28T17:16:51.445380Z",
     "iopub.status.idle": "2023-10-28T17:16:51.451759Z",
     "shell.execute_reply": "2023-10-28T17:16:51.450529Z"
    },
    "papermill": {
     "duration": 0.071095,
     "end_time": "2023-10-28T17:16:51.453649",
     "exception": false,
     "start_time": "2023-10-28T17:16:51.382554",
     "status": "completed"
    },
    "tags": []
   },
   "outputs": [
    {
     "name": "stdout",
     "output_type": "stream",
     "text": [
      "1 \n",
      "3 3 \n",
      "5 5 5 \n",
      "7 7 7 7 \n",
      "9 9 9 9 9 \n"
     ]
    }
   ],
   "source": [
    "\n",
    "n = 5\n",
    "for i in range(n):\n",
    "    for j in range(i+1):\n",
    "        print((2*i)+1,end=\" \")\n",
    "    print()"
   ]
  },
  {
   "cell_type": "code",
   "execution_count": 164,
   "id": "01efb696",
   "metadata": {
    "execution": {
     "iopub.execute_input": "2023-10-28T17:16:51.583034Z",
     "iopub.status.busy": "2023-10-28T17:16:51.582059Z",
     "iopub.status.idle": "2023-10-28T17:16:51.586937Z",
     "shell.execute_reply": "2023-10-28T17:16:51.586240Z"
    },
    "papermill": {
     "duration": 0.070784,
     "end_time": "2023-10-28T17:16:51.588896",
     "exception": false,
     "start_time": "2023-10-28T17:16:51.518112",
     "status": "completed"
    },
    "tags": []
   },
   "outputs": [],
   "source": [
    "# ******\n",
    "#     *\n",
    "#    *\n",
    "#   *\n",
    "#  *\n",
    "# ******"
   ]
  },
  {
   "cell_type": "code",
   "execution_count": 165,
   "id": "73b31452",
   "metadata": {
    "execution": {
     "iopub.execute_input": "2023-10-28T17:16:51.716266Z",
     "iopub.status.busy": "2023-10-28T17:16:51.715414Z",
     "iopub.status.idle": "2023-10-28T17:16:51.722080Z",
     "shell.execute_reply": "2023-10-28T17:16:51.720976Z"
    },
    "papermill": {
     "duration": 0.071614,
     "end_time": "2023-10-28T17:16:51.724093",
     "exception": false,
     "start_time": "2023-10-28T17:16:51.652479",
     "status": "completed"
    },
    "tags": []
   },
   "outputs": [
    {
     "name": "stdout",
     "output_type": "stream",
     "text": [
      "************\n",
      "          *\n",
      "         *\n",
      "        *\n",
      "       *\n",
      "      *\n",
      "     *\n",
      "    *\n",
      "   *\n",
      "  *\n",
      " *\n",
      "************\n"
     ]
    }
   ],
   "source": [
    "n = 12\n",
    "print(\"*\"*n)\n",
    "for i in range(n-2):\n",
    "    print(\" \"*(n-2-i),end=\"\")\n",
    "    print(\"*\")\n",
    "print(\"*\"*n)"
   ]
  },
  {
   "cell_type": "code",
   "execution_count": 166,
   "id": "d0facfb3",
   "metadata": {
    "execution": {
     "iopub.execute_input": "2023-10-28T17:16:51.853247Z",
     "iopub.status.busy": "2023-10-28T17:16:51.852878Z",
     "iopub.status.idle": "2023-10-28T17:16:51.856868Z",
     "shell.execute_reply": "2023-10-28T17:16:51.855991Z"
    },
    "papermill": {
     "duration": 0.071241,
     "end_time": "2023-10-28T17:16:51.858813",
     "exception": false,
     "start_time": "2023-10-28T17:16:51.787572",
     "status": "completed"
    },
    "tags": []
   },
   "outputs": [],
   "source": [
    "# 1 2 3 * * * N\n",
    "#           *\n",
    "#         *\n",
    "#       *\n",
    "#     3\n",
    "#   2\n",
    "# 1 2 3 * * * N\n"
   ]
  },
  {
   "cell_type": "code",
   "execution_count": 167,
   "id": "731126cd",
   "metadata": {
    "execution": {
     "iopub.execute_input": "2023-10-28T17:16:51.984784Z",
     "iopub.status.busy": "2023-10-28T17:16:51.984392Z",
     "iopub.status.idle": "2023-10-28T17:16:51.991810Z",
     "shell.execute_reply": "2023-10-28T17:16:51.990815Z"
    },
    "papermill": {
     "duration": 0.072363,
     "end_time": "2023-10-28T17:16:51.993800",
     "exception": false,
     "start_time": "2023-10-28T17:16:51.921437",
     "status": "completed"
    },
    "tags": []
   },
   "outputs": [
    {
     "name": "stdout",
     "output_type": "stream",
     "text": [
      "1 2 3 * * * N\n",
      "\n",
      "          *\n",
      "        *\n",
      "      *\n",
      "    3\n",
      "  2\n",
      "1 2 3 * * * N\n"
     ]
    }
   ],
   "source": [
    "for i in range(3):\n",
    "    print(i+1, end=\" \")\n",
    "for j in range(3):\n",
    "    print(\"* \",end=\"\")\n",
    "print(\"N\")\n",
    "\n",
    "print()\n",
    "for k in range(3):\n",
    "    print(\" \"*(2*(5-k)),end=\"\")\n",
    "    print(\"*\")\n",
    "for m in range(2):\n",
    "    print(\" \"*(2*(2-m)),end=\"\")\n",
    "    print(3-m)   \n",
    "    \n",
    "    \n",
    "for i in range(3):\n",
    "    print(i+1, end=\" \")\n",
    "for j in range(3):\n",
    "    print(\"* \",end=\"\")\n",
    "print(\"N\")"
   ]
  },
  {
   "cell_type": "code",
   "execution_count": 168,
   "id": "a84b9fd0",
   "metadata": {
    "execution": {
     "iopub.execute_input": "2023-10-28T17:16:52.119859Z",
     "iopub.status.busy": "2023-10-28T17:16:52.119478Z",
     "iopub.status.idle": "2023-10-28T17:16:52.125307Z",
     "shell.execute_reply": "2023-10-28T17:16:52.124258Z"
    },
    "papermill": {
     "duration": 0.070729,
     "end_time": "2023-10-28T17:16:52.127214",
     "exception": false,
     "start_time": "2023-10-28T17:16:52.056485",
     "status": "completed"
    },
    "tags": []
   },
   "outputs": [
    {
     "name": "stdout",
     "output_type": "stream",
     "text": [
      "prasad  is not eligible\n"
     ]
    }
   ],
   "source": [
    "m1 = 80\n",
    "m2 = 40\n",
    "student = \"prasad\"\n",
    "\n",
    "\n",
    "if m1 > 50 and m2 > 50 :\n",
    "    print(student , \" is eligible\")\n",
    "else :\n",
    "    print(student,\" is not eligible\")"
   ]
  },
  {
   "cell_type": "code",
   "execution_count": 169,
   "id": "624cea40",
   "metadata": {
    "execution": {
     "iopub.execute_input": "2023-10-28T17:16:52.251549Z",
     "iopub.status.busy": "2023-10-28T17:16:52.251130Z",
     "iopub.status.idle": "2023-10-28T17:16:52.256969Z",
     "shell.execute_reply": "2023-10-28T17:16:52.255933Z"
    },
    "papermill": {
     "duration": 0.069954,
     "end_time": "2023-10-28T17:16:52.258935",
     "exception": false,
     "start_time": "2023-10-28T17:16:52.188981",
     "status": "completed"
    },
    "tags": []
   },
   "outputs": [
    {
     "name": "stdout",
     "output_type": "stream",
     "text": [
      "sushmitha  is eligible\n"
     ]
    }
   ],
   "source": [
    "m1 = 70\n",
    "m2 = 80\n",
    "student = \"sushmitha\"\n",
    "if m1 > 50 and m2 > 50 :\n",
    "    print(student , \" is eligible\")\n",
    "else :\n",
    "    print(student,\" is not eligible\")\n"
   ]
  },
  {
   "cell_type": "code",
   "execution_count": 170,
   "id": "88dc0c26",
   "metadata": {
    "execution": {
     "iopub.execute_input": "2023-10-28T17:16:52.384071Z",
     "iopub.status.busy": "2023-10-28T17:16:52.383721Z",
     "iopub.status.idle": "2023-10-28T17:16:52.387834Z",
     "shell.execute_reply": "2023-10-28T17:16:52.386969Z"
    },
    "papermill": {
     "duration": 0.068754,
     "end_time": "2023-10-28T17:16:52.389622",
     "exception": false,
     "start_time": "2023-10-28T17:16:52.320868",
     "status": "completed"
    },
    "tags": []
   },
   "outputs": [],
   "source": [
    "def level(a,b,student) :\n",
    "    c = a+b\n",
    "    print(student,\" got \", c ,\" marks\")"
   ]
  },
  {
   "cell_type": "code",
   "execution_count": 171,
   "id": "0417e412",
   "metadata": {
    "execution": {
     "iopub.execute_input": "2023-10-28T17:16:52.516930Z",
     "iopub.status.busy": "2023-10-28T17:16:52.516269Z",
     "iopub.status.idle": "2023-10-28T17:16:52.521859Z",
     "shell.execute_reply": "2023-10-28T17:16:52.520653Z"
    },
    "papermill": {
     "duration": 0.072777,
     "end_time": "2023-10-28T17:16:52.523819",
     "exception": false,
     "start_time": "2023-10-28T17:16:52.451042",
     "status": "completed"
    },
    "tags": []
   },
   "outputs": [
    {
     "name": "stdout",
     "output_type": "stream",
     "text": [
      "prasad  got  90  marks\n"
     ]
    }
   ],
   "source": [
    "level(40,50,\"prasad\")"
   ]
  },
  {
   "cell_type": "code",
   "execution_count": 172,
   "id": "22ebaf02",
   "metadata": {
    "execution": {
     "iopub.execute_input": "2023-10-28T17:16:52.650271Z",
     "iopub.status.busy": "2023-10-28T17:16:52.649943Z",
     "iopub.status.idle": "2023-10-28T17:16:52.654755Z",
     "shell.execute_reply": "2023-10-28T17:16:52.653626Z"
    },
    "papermill": {
     "duration": 0.07101,
     "end_time": "2023-10-28T17:16:52.657925",
     "exception": false,
     "start_time": "2023-10-28T17:16:52.586915",
     "status": "completed"
    },
    "tags": []
   },
   "outputs": [
    {
     "name": "stdout",
     "output_type": "stream",
     "text": [
      "sush  got  130  marks\n"
     ]
    }
   ],
   "source": [
    "level(80,50,\"sush\")"
   ]
  },
  {
   "cell_type": "code",
   "execution_count": 173,
   "id": "d46514d9",
   "metadata": {
    "execution": {
     "iopub.execute_input": "2023-10-28T17:16:52.785412Z",
     "iopub.status.busy": "2023-10-28T17:16:52.784805Z",
     "iopub.status.idle": "2023-10-28T17:16:52.790802Z",
     "shell.execute_reply": "2023-10-28T17:16:52.789660Z"
    },
    "papermill": {
     "duration": 0.07173,
     "end_time": "2023-10-28T17:16:52.792686",
     "exception": false,
     "start_time": "2023-10-28T17:16:52.720956",
     "status": "completed"
    },
    "tags": []
   },
   "outputs": [
    {
     "name": "stdout",
     "output_type": "stream",
     "text": [
      "--\n",
      "50\n",
      "def  is not eligible\n"
     ]
    }
   ],
   "source": [
    "\n",
    "\n",
    "def marks (m1,m2,student=\"def\"):\n",
    "    print(m1)\n",
    "    if m1 > 50 and m2 > 50 :\n",
    "        print(student , \" is eligible\")\n",
    "    else :\n",
    "        print(student,\" is not eligible\")\n",
    "        \n",
    "        \n",
    "        \n",
    "print(\"--\")\n",
    "\n",
    "        \n",
    "        \n",
    "        \n",
    "        \n",
    "marks(m1=50,m2=40)"
   ]
  },
  {
   "cell_type": "code",
   "execution_count": 174,
   "id": "d7b206fa",
   "metadata": {
    "execution": {
     "iopub.execute_input": "2023-10-28T17:16:52.917679Z",
     "iopub.status.busy": "2023-10-28T17:16:52.917246Z",
     "iopub.status.idle": "2023-10-28T17:16:52.922390Z",
     "shell.execute_reply": "2023-10-28T17:16:52.921255Z"
    },
    "papermill": {
     "duration": 0.070348,
     "end_time": "2023-10-28T17:16:52.924623",
     "exception": false,
     "start_time": "2023-10-28T17:16:52.854275",
     "status": "completed"
    },
    "tags": []
   },
   "outputs": [
    {
     "name": "stdout",
     "output_type": "stream",
     "text": [
      "80\n",
      "swapna  is eligible\n"
     ]
    }
   ],
   "source": [
    "marks(student = \"swapna\",m2=90,m1=80)"
   ]
  },
  {
   "cell_type": "code",
   "execution_count": 175,
   "id": "8c3b0f0d",
   "metadata": {
    "execution": {
     "iopub.execute_input": "2023-10-28T17:16:53.051778Z",
     "iopub.status.busy": "2023-10-28T17:16:53.051372Z",
     "iopub.status.idle": "2023-10-28T17:16:53.056251Z",
     "shell.execute_reply": "2023-10-28T17:16:53.055068Z"
    },
    "papermill": {
     "duration": 0.071068,
     "end_time": "2023-10-28T17:16:53.058387",
     "exception": false,
     "start_time": "2023-10-28T17:16:52.987319",
     "status": "completed"
    },
    "tags": []
   },
   "outputs": [],
   "source": [
    "# marks(\"student\",90,80)"
   ]
  },
  {
   "cell_type": "code",
   "execution_count": 176,
   "id": "c3dd606d",
   "metadata": {
    "execution": {
     "iopub.execute_input": "2023-10-28T17:16:53.186183Z",
     "iopub.status.busy": "2023-10-28T17:16:53.185168Z",
     "iopub.status.idle": "2023-10-28T17:16:53.190973Z",
     "shell.execute_reply": "2023-10-28T17:16:53.189589Z"
    },
    "papermill": {
     "duration": 0.071769,
     "end_time": "2023-10-28T17:16:53.193081",
     "exception": false,
     "start_time": "2023-10-28T17:16:53.121312",
     "status": "completed"
    },
    "tags": []
   },
   "outputs": [
    {
     "name": "stdout",
     "output_type": "stream",
     "text": [
      "30\n",
      "parth  is not eligible\n"
     ]
    }
   ],
   "source": [
    "marks(30,30,\"parth\")"
   ]
  },
  {
   "cell_type": "code",
   "execution_count": 177,
   "id": "e2a085c3",
   "metadata": {
    "execution": {
     "iopub.execute_input": "2023-10-28T17:16:53.373264Z",
     "iopub.status.busy": "2023-10-28T17:16:53.372527Z",
     "iopub.status.idle": "2023-10-28T17:16:53.378035Z",
     "shell.execute_reply": "2023-10-28T17:16:53.377183Z"
    },
    "papermill": {
     "duration": 0.071765,
     "end_time": "2023-10-28T17:16:53.379976",
     "exception": false,
     "start_time": "2023-10-28T17:16:53.308211",
     "status": "completed"
    },
    "tags": []
   },
   "outputs": [
    {
     "name": "stdout",
     "output_type": "stream",
     "text": [
      "90\n",
      "tayyab  is eligible\n"
     ]
    }
   ],
   "source": [
    "marks(90,90,\"tayyab\")"
   ]
  },
  {
   "cell_type": "code",
   "execution_count": 178,
   "id": "c130c779",
   "metadata": {
    "execution": {
     "iopub.execute_input": "2023-10-28T17:16:53.508556Z",
     "iopub.status.busy": "2023-10-28T17:16:53.508102Z",
     "iopub.status.idle": "2023-10-28T17:16:53.514184Z",
     "shell.execute_reply": "2023-10-28T17:16:53.513410Z"
    },
    "papermill": {
     "duration": 0.072207,
     "end_time": "2023-10-28T17:16:53.516179",
     "exception": false,
     "start_time": "2023-10-28T17:16:53.443972",
     "status": "completed"
    },
    "tags": []
   },
   "outputs": [
    {
     "name": "stdout",
     "output_type": "stream",
     "text": [
      "0\n",
      "st  is not eligible\n"
     ]
    }
   ],
   "source": [
    "\n",
    "\n",
    "def marks (m1=0,m2=0,student=\"st\") :\n",
    "    print(m1)\n",
    "    if m1 > 50 and m2 > 50 :\n",
    "        print(student , \" is eligible\")\n",
    "    else :\n",
    "        print(student,\" is not eligible\")\n",
    "        \n",
    "marks()"
   ]
  },
  {
   "cell_type": "code",
   "execution_count": 179,
   "id": "2a6e14b7",
   "metadata": {
    "execution": {
     "iopub.execute_input": "2023-10-28T17:16:53.644368Z",
     "iopub.status.busy": "2023-10-28T17:16:53.643735Z",
     "iopub.status.idle": "2023-10-28T17:16:53.647703Z",
     "shell.execute_reply": "2023-10-28T17:16:53.646775Z"
    },
    "papermill": {
     "duration": 0.070467,
     "end_time": "2023-10-28T17:16:53.649852",
     "exception": false,
     "start_time": "2023-10-28T17:16:53.579385",
     "status": "completed"
    },
    "tags": []
   },
   "outputs": [],
   "source": [
    "# print \n",
    "# return"
   ]
  },
  {
   "cell_type": "code",
   "execution_count": 180,
   "id": "f524fa64",
   "metadata": {
    "execution": {
     "iopub.execute_input": "2023-10-28T17:16:53.778922Z",
     "iopub.status.busy": "2023-10-28T17:16:53.778528Z",
     "iopub.status.idle": "2023-10-28T17:16:53.783755Z",
     "shell.execute_reply": "2023-10-28T17:16:53.782738Z"
    },
    "papermill": {
     "duration": 0.073692,
     "end_time": "2023-10-28T17:16:53.786814",
     "exception": false,
     "start_time": "2023-10-28T17:16:53.713122",
     "status": "completed"
    },
    "tags": []
   },
   "outputs": [
    {
     "name": "stdout",
     "output_type": "stream",
     "text": [
      "---- 15\n"
     ]
    }
   ],
   "source": [
    "def add (a,b) :\n",
    "    c = a+b\n",
    "    return c\n",
    "\n",
    "p= add(5,10)\n",
    "print(\"----\",p)"
   ]
  },
  {
   "cell_type": "code",
   "execution_count": 181,
   "id": "bda63594",
   "metadata": {
    "execution": {
     "iopub.execute_input": "2023-10-28T17:16:53.918376Z",
     "iopub.status.busy": "2023-10-28T17:16:53.917766Z",
     "iopub.status.idle": "2023-10-28T17:16:53.923288Z",
     "shell.execute_reply": "2023-10-28T17:16:53.922360Z"
    },
    "papermill": {
     "duration": 0.073818,
     "end_time": "2023-10-28T17:16:53.925358",
     "exception": false,
     "start_time": "2023-10-28T17:16:53.851540",
     "status": "completed"
    },
    "tags": []
   },
   "outputs": [
    {
     "name": "stdout",
     "output_type": "stream",
     "text": [
      "15\n",
      "---- None\n"
     ]
    }
   ],
   "source": [
    "def add (a,b) :\n",
    "    c = a+b\n",
    "    print(c)\n",
    "\n",
    "p = add(5,10)\n",
    "print(\"----\",p)"
   ]
  },
  {
   "cell_type": "code",
   "execution_count": 182,
   "id": "73f2db2e",
   "metadata": {
    "execution": {
     "iopub.execute_input": "2023-10-28T17:16:54.055217Z",
     "iopub.status.busy": "2023-10-28T17:16:54.054835Z",
     "iopub.status.idle": "2023-10-28T17:16:54.059266Z",
     "shell.execute_reply": "2023-10-28T17:16:54.058237Z"
    },
    "papermill": {
     "duration": 0.072484,
     "end_time": "2023-10-28T17:16:54.061347",
     "exception": false,
     "start_time": "2023-10-28T17:16:53.988863",
     "status": "completed"
    },
    "tags": []
   },
   "outputs": [],
   "source": [
    "# if add(5,10 ) > 10 :\n",
    "#     print(\"eligible\")\n",
    "# else :\n",
    "#     print(\"not eligible\")"
   ]
  },
  {
   "cell_type": "code",
   "execution_count": 183,
   "id": "22a505c4",
   "metadata": {
    "execution": {
     "iopub.execute_input": "2023-10-28T17:16:54.189901Z",
     "iopub.status.busy": "2023-10-28T17:16:54.189549Z",
     "iopub.status.idle": "2023-10-28T17:16:54.195930Z",
     "shell.execute_reply": "2023-10-28T17:16:54.194948Z"
    },
    "papermill": {
     "duration": 0.072457,
     "end_time": "2023-10-28T17:16:54.198142",
     "exception": false,
     "start_time": "2023-10-28T17:16:54.125685",
     "status": "completed"
    },
    "tags": []
   },
   "outputs": [
    {
     "data": {
      "text/plain": [
       "15"
      ]
     },
     "execution_count": 183,
     "metadata": {},
     "output_type": "execute_result"
    }
   ],
   "source": [
    "def add (a,b) :\n",
    "    c = a+b\n",
    "    return c\n",
    "\n",
    "add(5,10)"
   ]
  },
  {
   "cell_type": "code",
   "execution_count": 184,
   "id": "67eb7344",
   "metadata": {
    "execution": {
     "iopub.execute_input": "2023-10-28T17:16:54.323978Z",
     "iopub.status.busy": "2023-10-28T17:16:54.323610Z",
     "iopub.status.idle": "2023-10-28T17:16:54.329864Z",
     "shell.execute_reply": "2023-10-28T17:16:54.328950Z"
    },
    "papermill": {
     "duration": 0.071762,
     "end_time": "2023-10-28T17:16:54.331799",
     "exception": false,
     "start_time": "2023-10-28T17:16:54.260037",
     "status": "completed"
    },
    "tags": []
   },
   "outputs": [
    {
     "data": {
      "text/plain": [
       "17"
      ]
     },
     "execution_count": 184,
     "metadata": {},
     "output_type": "execute_result"
    }
   ],
   "source": [
    "add = lambda  a,b : a+b\n",
    "add(7,10)"
   ]
  },
  {
   "cell_type": "code",
   "execution_count": 185,
   "id": "5fb5f421",
   "metadata": {
    "execution": {
     "iopub.execute_input": "2023-10-28T17:16:54.458131Z",
     "iopub.status.busy": "2023-10-28T17:16:54.457764Z",
     "iopub.status.idle": "2023-10-28T17:16:54.463871Z",
     "shell.execute_reply": "2023-10-28T17:16:54.462828Z"
    },
    "papermill": {
     "duration": 0.071591,
     "end_time": "2023-10-28T17:16:54.465953",
     "exception": false,
     "start_time": "2023-10-28T17:16:54.394362",
     "status": "completed"
    },
    "tags": []
   },
   "outputs": [
    {
     "data": {
      "text/plain": [
       "30"
      ]
     },
     "execution_count": 185,
     "metadata": {},
     "output_type": "execute_result"
    }
   ],
   "source": [
    "add(10,20)"
   ]
  },
  {
   "cell_type": "code",
   "execution_count": 186,
   "id": "d618cf14",
   "metadata": {
    "execution": {
     "iopub.execute_input": "2023-10-28T17:16:54.593974Z",
     "iopub.status.busy": "2023-10-28T17:16:54.593643Z",
     "iopub.status.idle": "2023-10-28T17:16:54.597565Z",
     "shell.execute_reply": "2023-10-28T17:16:54.596617Z"
    },
    "papermill": {
     "duration": 0.070062,
     "end_time": "2023-10-28T17:16:54.599483",
     "exception": false,
     "start_time": "2023-10-28T17:16:54.529421",
     "status": "completed"
    },
    "tags": []
   },
   "outputs": [],
   "source": [
    "# list comprehenison :  list + for loop / any loop"
   ]
  },
  {
   "cell_type": "code",
   "execution_count": 187,
   "id": "49644d19",
   "metadata": {
    "execution": {
     "iopub.execute_input": "2023-10-28T17:16:54.729543Z",
     "iopub.status.busy": "2023-10-28T17:16:54.729156Z",
     "iopub.status.idle": "2023-10-28T17:16:54.736030Z",
     "shell.execute_reply": "2023-10-28T17:16:54.735346Z"
    },
    "papermill": {
     "duration": 0.074478,
     "end_time": "2023-10-28T17:16:54.737853",
     "exception": false,
     "start_time": "2023-10-28T17:16:54.663375",
     "status": "completed"
    },
    "tags": []
   },
   "outputs": [
    {
     "data": {
      "text/plain": [
       "[20, 30]"
      ]
     },
     "execution_count": 187,
     "metadata": {},
     "output_type": "execute_result"
    }
   ],
   "source": [
    "a = [20 ,25,30,35]\n",
    "\n",
    "even = []\n",
    "\n",
    "for i in a :\n",
    "    if i%2 == 0 :\n",
    "        even.append(i)\n",
    "        \n",
    "        \n",
    "        \n",
    "even"
   ]
  },
  {
   "cell_type": "code",
   "execution_count": 188,
   "id": "d31a3c01",
   "metadata": {
    "execution": {
     "iopub.execute_input": "2023-10-28T17:16:54.868518Z",
     "iopub.status.busy": "2023-10-28T17:16:54.868110Z",
     "iopub.status.idle": "2023-10-28T17:16:54.874606Z",
     "shell.execute_reply": "2023-10-28T17:16:54.873884Z"
    },
    "papermill": {
     "duration": 0.075795,
     "end_time": "2023-10-28T17:16:54.876446",
     "exception": false,
     "start_time": "2023-10-28T17:16:54.800651",
     "status": "completed"
    },
    "tags": []
   },
   "outputs": [
    {
     "data": {
      "text/plain": [
       "[20, 30]"
      ]
     },
     "execution_count": 188,
     "metadata": {},
     "output_type": "execute_result"
    }
   ],
   "source": [
    "a = [20 ,25,30,35]\n",
    "\n",
    "even = [  i  for i in a  if i%2 == 0   ]       \n",
    "        \n",
    "        \n",
    "even"
   ]
  },
  {
   "cell_type": "code",
   "execution_count": 189,
   "id": "c504538f",
   "metadata": {
    "execution": {
     "iopub.execute_input": "2023-10-28T17:16:55.004282Z",
     "iopub.status.busy": "2023-10-28T17:16:55.003283Z",
     "iopub.status.idle": "2023-10-28T17:16:55.009840Z",
     "shell.execute_reply": "2023-10-28T17:16:55.009150Z"
    },
    "papermill": {
     "duration": 0.072311,
     "end_time": "2023-10-28T17:16:55.011557",
     "exception": false,
     "start_time": "2023-10-28T17:16:54.939246",
     "status": "completed"
    },
    "tags": []
   },
   "outputs": [
    {
     "data": {
      "text/plain": [
       "{20: 'Abhi', 30: 'Abhi'}"
      ]
     },
     "execution_count": 189,
     "metadata": {},
     "output_type": "execute_result"
    }
   ],
   "source": [
    "a = [20 ,25,30,35]\n",
    "\n",
    "even = { i: \"Abhi\"  for i in a  if i%2 == 0   }       \n",
    "        \n",
    "        \n",
    "even"
   ]
  },
  {
   "cell_type": "code",
   "execution_count": 190,
   "id": "7e4ec397",
   "metadata": {
    "execution": {
     "iopub.execute_input": "2023-10-28T17:16:55.138841Z",
     "iopub.status.busy": "2023-10-28T17:16:55.138500Z",
     "iopub.status.idle": "2023-10-28T17:16:55.142102Z",
     "shell.execute_reply": "2023-10-28T17:16:55.141245Z"
    },
    "papermill": {
     "duration": 0.069221,
     "end_time": "2023-10-28T17:16:55.143801",
     "exception": false,
     "start_time": "2023-10-28T17:16:55.074580",
     "status": "completed"
    },
    "tags": []
   },
   "outputs": [],
   "source": [
    "# break continue pass"
   ]
  },
  {
   "cell_type": "code",
   "execution_count": 191,
   "id": "56837d11",
   "metadata": {
    "execution": {
     "iopub.execute_input": "2023-10-28T17:16:55.271454Z",
     "iopub.status.busy": "2023-10-28T17:16:55.270757Z",
     "iopub.status.idle": "2023-10-28T17:16:55.274838Z",
     "shell.execute_reply": "2023-10-28T17:16:55.274117Z"
    },
    "papermill": {
     "duration": 0.070301,
     "end_time": "2023-10-28T17:16:55.276733",
     "exception": false,
     "start_time": "2023-10-28T17:16:55.206432",
     "status": "completed"
    },
    "tags": []
   },
   "outputs": [],
   "source": [
    "def add(a,b):\n",
    "    pass\n",
    "    \n",
    "add(8,9)"
   ]
  },
  {
   "cell_type": "code",
   "execution_count": 192,
   "id": "4f03219b",
   "metadata": {
    "execution": {
     "iopub.execute_input": "2023-10-28T17:16:55.407897Z",
     "iopub.status.busy": "2023-10-28T17:16:55.407051Z",
     "iopub.status.idle": "2023-10-28T17:16:55.413118Z",
     "shell.execute_reply": "2023-10-28T17:16:55.412079Z"
    },
    "papermill": {
     "duration": 0.074028,
     "end_time": "2023-10-28T17:16:55.415149",
     "exception": false,
     "start_time": "2023-10-28T17:16:55.341121",
     "status": "completed"
    },
    "tags": []
   },
   "outputs": [
    {
     "name": "stdout",
     "output_type": "stream",
     "text": [
      "0\n",
      "1\n",
      "2\n"
     ]
    }
   ],
   "source": [
    "for i in range(5):\n",
    "    if i == 3 :\n",
    "        break\n",
    "    print(i)"
   ]
  },
  {
   "cell_type": "code",
   "execution_count": 193,
   "id": "fd9a6637",
   "metadata": {
    "execution": {
     "iopub.execute_input": "2023-10-28T17:16:55.548655Z",
     "iopub.status.busy": "2023-10-28T17:16:55.547824Z",
     "iopub.status.idle": "2023-10-28T17:16:55.554047Z",
     "shell.execute_reply": "2023-10-28T17:16:55.553066Z"
    },
    "papermill": {
     "duration": 0.076824,
     "end_time": "2023-10-28T17:16:55.556511",
     "exception": false,
     "start_time": "2023-10-28T17:16:55.479687",
     "status": "completed"
    },
    "tags": []
   },
   "outputs": [
    {
     "name": "stdout",
     "output_type": "stream",
     "text": [
      "0\n",
      "1\n",
      "2\n",
      "4\n"
     ]
    }
   ],
   "source": [
    "for i in range(5):\n",
    "    if i == 3 :\n",
    "        continue\n",
    "    print(i)"
   ]
  },
  {
   "cell_type": "code",
   "execution_count": 194,
   "id": "6a69a356",
   "metadata": {
    "execution": {
     "iopub.execute_input": "2023-10-28T17:16:55.701249Z",
     "iopub.status.busy": "2023-10-28T17:16:55.700570Z",
     "iopub.status.idle": "2023-10-28T17:16:55.704112Z",
     "shell.execute_reply": "2023-10-28T17:16:55.703454Z"
    },
    "papermill": {
     "duration": 0.072282,
     "end_time": "2023-10-28T17:16:55.705880",
     "exception": false,
     "start_time": "2023-10-28T17:16:55.633598",
     "status": "completed"
    },
    "tags": []
   },
   "outputs": [],
   "source": [
    "# \\n = new line \\t tab"
   ]
  },
  {
   "cell_type": "code",
   "execution_count": 195,
   "id": "3b8256ee",
   "metadata": {
    "execution": {
     "iopub.execute_input": "2023-10-28T17:16:55.850295Z",
     "iopub.status.busy": "2023-10-28T17:16:55.849624Z",
     "iopub.status.idle": "2023-10-28T17:16:55.854377Z",
     "shell.execute_reply": "2023-10-28T17:16:55.853526Z"
    },
    "papermill": {
     "duration": 0.085191,
     "end_time": "2023-10-28T17:16:55.856303",
     "exception": false,
     "start_time": "2023-10-28T17:16:55.771112",
     "status": "completed"
    },
    "tags": []
   },
   "outputs": [
    {
     "name": "stdout",
     "output_type": "stream",
     "text": [
      "mlv\n",
      "prasad\n"
     ]
    }
   ],
   "source": [
    "print(\"mlv\")\n",
    "print(\"prasad\")"
   ]
  },
  {
   "cell_type": "code",
   "execution_count": 196,
   "id": "fd3d460d",
   "metadata": {
    "execution": {
     "iopub.execute_input": "2023-10-28T17:16:55.987187Z",
     "iopub.status.busy": "2023-10-28T17:16:55.986445Z",
     "iopub.status.idle": "2023-10-28T17:16:55.992049Z",
     "shell.execute_reply": "2023-10-28T17:16:55.990779Z"
    },
    "papermill": {
     "duration": 0.073349,
     "end_time": "2023-10-28T17:16:55.994113",
     "exception": false,
     "start_time": "2023-10-28T17:16:55.920764",
     "status": "completed"
    },
    "tags": []
   },
   "outputs": [
    {
     "name": "stdout",
     "output_type": "stream",
     "text": [
      "mlv\n",
      "prasad\n"
     ]
    }
   ],
   "source": [
    "print(\"mlv\\nprasad\")"
   ]
  },
  {
   "cell_type": "code",
   "execution_count": 197,
   "id": "e1a1d4ed",
   "metadata": {
    "execution": {
     "iopub.execute_input": "2023-10-28T17:16:56.126395Z",
     "iopub.status.busy": "2023-10-28T17:16:56.125669Z",
     "iopub.status.idle": "2023-10-28T17:16:56.131634Z",
     "shell.execute_reply": "2023-10-28T17:16:56.130389Z"
    },
    "papermill": {
     "duration": 0.074256,
     "end_time": "2023-10-28T17:16:56.133671",
     "exception": false,
     "start_time": "2023-10-28T17:16:56.059415",
     "status": "completed"
    },
    "tags": []
   },
   "outputs": [
    {
     "name": "stdout",
     "output_type": "stream",
     "text": [
      "mlv    prasad    is    a    good    boy\n"
     ]
    }
   ],
   "source": [
    "print(\"mlv    prasad    is    a    good    boy\")"
   ]
  },
  {
   "cell_type": "code",
   "execution_count": 198,
   "id": "868c5f8d",
   "metadata": {
    "execution": {
     "iopub.execute_input": "2023-10-28T17:16:56.264366Z",
     "iopub.status.busy": "2023-10-28T17:16:56.264020Z",
     "iopub.status.idle": "2023-10-28T17:16:56.268203Z",
     "shell.execute_reply": "2023-10-28T17:16:56.267497Z"
    },
    "papermill": {
     "duration": 0.072846,
     "end_time": "2023-10-28T17:16:56.270731",
     "exception": false,
     "start_time": "2023-10-28T17:16:56.197885",
     "status": "completed"
    },
    "tags": []
   },
   "outputs": [
    {
     "name": "stdout",
     "output_type": "stream",
     "text": [
      "mlv\tprasad\tis\ta\tgood\tboy\n"
     ]
    }
   ],
   "source": [
    "print(\"mlv\\tprasad\\tis\\ta\\tgood\\tboy\")"
   ]
  },
  {
   "cell_type": "code",
   "execution_count": 199,
   "id": "142f50a1",
   "metadata": {
    "execution": {
     "iopub.execute_input": "2023-10-28T17:16:56.403740Z",
     "iopub.status.busy": "2023-10-28T17:16:56.402776Z",
     "iopub.status.idle": "2023-10-28T17:16:56.406754Z",
     "shell.execute_reply": "2023-10-28T17:16:56.405845Z"
    },
    "papermill": {
     "duration": 0.071591,
     "end_time": "2023-10-28T17:16:56.408832",
     "exception": false,
     "start_time": "2023-10-28T17:16:56.337241",
     "status": "completed"
    },
    "tags": []
   },
   "outputs": [],
   "source": [
    "# * * * * *\n",
    "# * * * *\n",
    "# * * * \n",
    "# * * \n",
    "# *"
   ]
  },
  {
   "cell_type": "code",
   "execution_count": 200,
   "id": "23311848",
   "metadata": {
    "execution": {
     "iopub.execute_input": "2023-10-28T17:16:56.539360Z",
     "iopub.status.busy": "2023-10-28T17:16:56.538982Z",
     "iopub.status.idle": "2023-10-28T17:16:56.544289Z",
     "shell.execute_reply": "2023-10-28T17:16:56.543224Z"
    },
    "papermill": {
     "duration": 0.073462,
     "end_time": "2023-10-28T17:16:56.546508",
     "exception": false,
     "start_time": "2023-10-28T17:16:56.473046",
     "status": "completed"
    },
    "tags": []
   },
   "outputs": [
    {
     "name": "stdout",
     "output_type": "stream",
     "text": [
      "* * * * * \n",
      "* * * * \n",
      "* * * \n",
      "* * \n",
      "* \n"
     ]
    }
   ],
   "source": [
    "for i in range(5):\n",
    "    print(\"* \"*(5-i))"
   ]
  },
  {
   "cell_type": "code",
   "execution_count": null,
   "id": "df07a07a",
   "metadata": {
    "papermill": {
     "duration": 0.065857,
     "end_time": "2023-10-28T17:16:56.678281",
     "exception": false,
     "start_time": "2023-10-28T17:16:56.612424",
     "status": "completed"
    },
    "tags": []
   },
   "outputs": [],
   "source": []
  },
  {
   "cell_type": "markdown",
   "id": "92beea62",
   "metadata": {
    "papermill": {
     "duration": 0.064918,
     "end_time": "2023-10-28T17:16:56.808349",
     "exception": false,
     "start_time": "2023-10-28T17:16:56.743431",
     "status": "completed"
    },
    "tags": []
   },
   "source": [
    "## filter\n",
    "## reduce\n",
    "## map\n",
    "## zip"
   ]
  },
  {
   "cell_type": "code",
   "execution_count": 201,
   "id": "e3bb58bf",
   "metadata": {
    "execution": {
     "iopub.execute_input": "2023-10-28T17:16:56.941792Z",
     "iopub.status.busy": "2023-10-28T17:16:56.941365Z",
     "iopub.status.idle": "2023-10-28T17:16:56.946021Z",
     "shell.execute_reply": "2023-10-28T17:16:56.945041Z"
    },
    "papermill": {
     "duration": 0.073847,
     "end_time": "2023-10-28T17:16:56.947946",
     "exception": false,
     "start_time": "2023-10-28T17:16:56.874099",
     "status": "completed"
    },
    "tags": []
   },
   "outputs": [],
   "source": [
    "# filter "
   ]
  },
  {
   "cell_type": "code",
   "execution_count": 202,
   "id": "f54c0340",
   "metadata": {
    "execution": {
     "iopub.execute_input": "2023-10-28T17:16:57.080344Z",
     "iopub.status.busy": "2023-10-28T17:16:57.079617Z",
     "iopub.status.idle": "2023-10-28T17:16:57.087064Z",
     "shell.execute_reply": "2023-10-28T17:16:57.086269Z"
    },
    "papermill": {
     "duration": 0.075106,
     "end_time": "2023-10-28T17:16:57.088953",
     "exception": false,
     "start_time": "2023-10-28T17:16:57.013847",
     "status": "completed"
    },
    "tags": []
   },
   "outputs": [
    {
     "data": {
      "text/plain": [
       "[10, 12, 14, 16]"
      ]
     },
     "execution_count": 202,
     "metadata": {},
     "output_type": "execute_result"
    }
   ],
   "source": [
    "a  =  [10,11,12,13,14,15,16]\n",
    "\n",
    "\n",
    "b = []\n",
    "for i in range(len(a)) :\n",
    "    if a[i] % 2 == 0 :\n",
    "        b.append(a[i])\n",
    "        \n",
    "b"
   ]
  },
  {
   "cell_type": "code",
   "execution_count": 203,
   "id": "f4ff1e09",
   "metadata": {
    "execution": {
     "iopub.execute_input": "2023-10-28T17:16:57.220103Z",
     "iopub.status.busy": "2023-10-28T17:16:57.219026Z",
     "iopub.status.idle": "2023-10-28T17:16:57.227045Z",
     "shell.execute_reply": "2023-10-28T17:16:57.226118Z"
    },
    "papermill": {
     "duration": 0.07515,
     "end_time": "2023-10-28T17:16:57.228883",
     "exception": false,
     "start_time": "2023-10-28T17:16:57.153733",
     "status": "completed"
    },
    "tags": []
   },
   "outputs": [
    {
     "data": {
      "text/plain": [
       "[40, 12, 14, 16]"
      ]
     },
     "execution_count": 203,
     "metadata": {},
     "output_type": "execute_result"
    }
   ],
   "source": [
    "a  =  [40,11,12,13,14,15,16]\n",
    "\n",
    "def even(i) :\n",
    "    return i % 2 == 0\n",
    "\n",
    "\n",
    "b = list(filter(even,a))\n",
    "b"
   ]
  },
  {
   "cell_type": "code",
   "execution_count": 204,
   "id": "d877d1f9",
   "metadata": {
    "execution": {
     "iopub.execute_input": "2023-10-28T17:16:57.418087Z",
     "iopub.status.busy": "2023-10-28T17:16:57.417146Z",
     "iopub.status.idle": "2023-10-28T17:16:57.423270Z",
     "shell.execute_reply": "2023-10-28T17:16:57.422619Z"
    },
    "papermill": {
     "duration": 0.074351,
     "end_time": "2023-10-28T17:16:57.424964",
     "exception": false,
     "start_time": "2023-10-28T17:16:57.350613",
     "status": "completed"
    },
    "tags": []
   },
   "outputs": [
    {
     "data": {
      "text/plain": [
       "[40, 12, 14, 16]"
      ]
     },
     "execution_count": 204,
     "metadata": {},
     "output_type": "execute_result"
    }
   ],
   "source": [
    "a  =  [40,11,12,13,14,15,16]\n",
    "\n",
    "b = list(filter(lambda p : p%2== 0,a))\n",
    "b"
   ]
  },
  {
   "cell_type": "code",
   "execution_count": 205,
   "id": "9d6752b5",
   "metadata": {
    "execution": {
     "iopub.execute_input": "2023-10-28T17:16:57.558561Z",
     "iopub.status.busy": "2023-10-28T17:16:57.557872Z",
     "iopub.status.idle": "2023-10-28T17:16:57.564245Z",
     "shell.execute_reply": "2023-10-28T17:16:57.563270Z"
    },
    "papermill": {
     "duration": 0.075968,
     "end_time": "2023-10-28T17:16:57.566229",
     "exception": false,
     "start_time": "2023-10-28T17:16:57.490261",
     "status": "completed"
    },
    "tags": []
   },
   "outputs": [
    {
     "data": {
      "text/plain": [
       "['swapna', 'saraswati']"
      ]
     },
     "execution_count": 205,
     "metadata": {},
     "output_type": "execute_result"
    }
   ],
   "source": [
    "a = [\"swapna\",\"saraswati\",\"abhi\"]\n",
    "\n",
    "b = list(filter(lambda i : i[0] != \"a\"   and  i[0] != \"i\"  and  i[0] != \"o\", a))\n",
    "b"
   ]
  },
  {
   "cell_type": "code",
   "execution_count": 206,
   "id": "44accc16",
   "metadata": {
    "execution": {
     "iopub.execute_input": "2023-10-28T17:16:57.700280Z",
     "iopub.status.busy": "2023-10-28T17:16:57.699893Z",
     "iopub.status.idle": "2023-10-28T17:16:57.706091Z",
     "shell.execute_reply": "2023-10-28T17:16:57.705372Z"
    },
    "papermill": {
     "duration": 0.075434,
     "end_time": "2023-10-28T17:16:57.707846",
     "exception": false,
     "start_time": "2023-10-28T17:16:57.632412",
     "status": "completed"
    },
    "tags": []
   },
   "outputs": [
    {
     "data": {
      "text/plain": [
       "[0, 10, 30]"
      ]
     },
     "execution_count": 206,
     "metadata": {},
     "output_type": "execute_result"
    }
   ],
   "source": [
    "a = {10,30,-10,0,30}\n",
    "b = list(filter(lambda i : i >= 0 , a))\n",
    "b"
   ]
  },
  {
   "cell_type": "code",
   "execution_count": 207,
   "id": "7d18267d",
   "metadata": {
    "execution": {
     "iopub.execute_input": "2023-10-28T17:16:57.843757Z",
     "iopub.status.busy": "2023-10-28T17:16:57.843321Z",
     "iopub.status.idle": "2023-10-28T17:16:57.848060Z",
     "shell.execute_reply": "2023-10-28T17:16:57.847022Z"
    },
    "papermill": {
     "duration": 0.076523,
     "end_time": "2023-10-28T17:16:57.850332",
     "exception": false,
     "start_time": "2023-10-28T17:16:57.773809",
     "status": "completed"
    },
    "tags": []
   },
   "outputs": [],
   "source": [
    "a = [\"swapna\",\"abhinav\"]"
   ]
  },
  {
   "cell_type": "code",
   "execution_count": 208,
   "id": "e24e8388",
   "metadata": {
    "execution": {
     "iopub.execute_input": "2023-10-28T17:16:57.984659Z",
     "iopub.status.busy": "2023-10-28T17:16:57.984034Z",
     "iopub.status.idle": "2023-10-28T17:16:57.990900Z",
     "shell.execute_reply": "2023-10-28T17:16:57.990014Z"
    },
    "papermill": {
     "duration": 0.075726,
     "end_time": "2023-10-28T17:16:57.992780",
     "exception": false,
     "start_time": "2023-10-28T17:16:57.917054",
     "status": "completed"
    },
    "tags": []
   },
   "outputs": [
    {
     "data": {
      "text/plain": [
       "150"
      ]
     },
     "execution_count": 208,
     "metadata": {},
     "output_type": "execute_result"
    }
   ],
   "source": [
    "# reduce \n",
    "from functools import reduce\n",
    "\n",
    "a = [10,20,30,40,50]\n",
    "b = 0\n",
    "for i in a :\n",
    "    b = b + i\n",
    "    \n",
    "b"
   ]
  },
  {
   "cell_type": "code",
   "execution_count": 209,
   "id": "4a11fe17",
   "metadata": {
    "execution": {
     "iopub.execute_input": "2023-10-28T17:16:58.125030Z",
     "iopub.status.busy": "2023-10-28T17:16:58.124403Z",
     "iopub.status.idle": "2023-10-28T17:16:58.131276Z",
     "shell.execute_reply": "2023-10-28T17:16:58.130609Z"
    },
    "papermill": {
     "duration": 0.07442,
     "end_time": "2023-10-28T17:16:58.133033",
     "exception": false,
     "start_time": "2023-10-28T17:16:58.058613",
     "status": "completed"
    },
    "tags": []
   },
   "outputs": [
    {
     "data": {
      "text/plain": [
       "150"
      ]
     },
     "execution_count": 209,
     "metadata": {},
     "output_type": "execute_result"
    }
   ],
   "source": [
    "\n",
    "c = [10,20,30,40,50]\n",
    "\n",
    "\n",
    "def add(p,q) :\n",
    "    return p + q\n",
    "# ini = 100 \n",
    "d = reduce(add,c)\n",
    "d"
   ]
  },
  {
   "cell_type": "code",
   "execution_count": 210,
   "id": "0b08c415",
   "metadata": {
    "execution": {
     "iopub.execute_input": "2023-10-28T17:16:58.266026Z",
     "iopub.status.busy": "2023-10-28T17:16:58.264339Z",
     "iopub.status.idle": "2023-10-28T17:16:58.271542Z",
     "shell.execute_reply": "2023-10-28T17:16:58.270835Z"
    },
    "papermill": {
     "duration": 0.07488,
     "end_time": "2023-10-28T17:16:58.273271",
     "exception": false,
     "start_time": "2023-10-28T17:16:58.198391",
     "status": "completed"
    },
    "tags": []
   },
   "outputs": [
    {
     "data": {
      "text/plain": [
       "50"
      ]
     },
     "execution_count": 210,
     "metadata": {},
     "output_type": "execute_result"
    }
   ],
   "source": [
    "c = [10,20,30,40,50]\n",
    "\n",
    "mx = c[0]\n",
    "for i in c :\n",
    "    if i > mx :\n",
    "        mx = i\n",
    "mx"
   ]
  },
  {
   "cell_type": "code",
   "execution_count": 211,
   "id": "2920d678",
   "metadata": {
    "execution": {
     "iopub.execute_input": "2023-10-28T17:16:58.406516Z",
     "iopub.status.busy": "2023-10-28T17:16:58.405803Z",
     "iopub.status.idle": "2023-10-28T17:16:58.413225Z",
     "shell.execute_reply": "2023-10-28T17:16:58.412444Z"
    },
    "papermill": {
     "duration": 0.076375,
     "end_time": "2023-10-28T17:16:58.415054",
     "exception": false,
     "start_time": "2023-10-28T17:16:58.338679",
     "status": "completed"
    },
    "tags": []
   },
   "outputs": [
    {
     "data": {
      "text/plain": [
       "770"
      ]
     },
     "execution_count": 211,
     "metadata": {},
     "output_type": "execute_result"
    }
   ],
   "source": [
    "c = [10,770,30,40,50]\n",
    "ini = int(c[0])\n",
    "def maxx(p,q):\n",
    "    if p > q :\n",
    "        return p \n",
    "    else :\n",
    "        return q\n",
    "\n",
    "    \n",
    "        \n",
    "    \n",
    "# ini = c[0]\n",
    "d = reduce(maxx,c)\n",
    "d"
   ]
  },
  {
   "cell_type": "code",
   "execution_count": 212,
   "id": "b54579da",
   "metadata": {
    "execution": {
     "iopub.execute_input": "2023-10-28T17:16:58.549139Z",
     "iopub.status.busy": "2023-10-28T17:16:58.548482Z",
     "iopub.status.idle": "2023-10-28T17:16:58.555812Z",
     "shell.execute_reply": "2023-10-28T17:16:58.554886Z"
    },
    "papermill": {
     "duration": 0.076734,
     "end_time": "2023-10-28T17:16:58.557711",
     "exception": false,
     "start_time": "2023-10-28T17:16:58.480977",
     "status": "completed"
    },
    "tags": []
   },
   "outputs": [
    {
     "data": {
      "text/plain": [
       "'c001mlv c001prasad c001mentor'"
      ]
     },
     "execution_count": 212,
     "metadata": {},
     "output_type": "execute_result"
    }
   ],
   "source": [
    "d = [\"mlv\",\"prasad\",\"mentor\"]\n",
    "# d = [\"mlv prasad\",\"mentor\"]\n",
    "\n",
    "def con (p,q) :\n",
    "    if p != \"c001\":\n",
    "        return p + \" c001\" + q\n",
    "    else :\n",
    "        return p + q\n",
    "\n",
    "e = reduce(con, d,\"c001\")\n",
    "e"
   ]
  },
  {
   "cell_type": "code",
   "execution_count": 213,
   "id": "7f400c2e",
   "metadata": {
    "execution": {
     "iopub.execute_input": "2023-10-28T17:16:58.689927Z",
     "iopub.status.busy": "2023-10-28T17:16:58.689552Z",
     "iopub.status.idle": "2023-10-28T17:16:58.696296Z",
     "shell.execute_reply": "2023-10-28T17:16:58.695102Z"
    },
    "papermill": {
     "duration": 0.075058,
     "end_time": "2023-10-28T17:16:58.698406",
     "exception": false,
     "start_time": "2023-10-28T17:16:58.623348",
     "status": "completed"
    },
    "tags": []
   },
   "outputs": [
    {
     "data": {
      "text/plain": [
       "[10]"
      ]
     },
     "execution_count": 213,
     "metadata": {},
     "output_type": "execute_result"
    }
   ],
   "source": [
    "a = [10,29,32]\n",
    "\n",
    "b = list(filter( lambda x : x < 15  , a))\n",
    "b"
   ]
  },
  {
   "cell_type": "code",
   "execution_count": 214,
   "id": "5ff80bec",
   "metadata": {
    "execution": {
     "iopub.execute_input": "2023-10-28T17:16:58.835928Z",
     "iopub.status.busy": "2023-10-28T17:16:58.835578Z",
     "iopub.status.idle": "2023-10-28T17:16:58.842163Z",
     "shell.execute_reply": "2023-10-28T17:16:58.841254Z"
    },
    "papermill": {
     "duration": 0.078955,
     "end_time": "2023-10-28T17:16:58.844367",
     "exception": false,
     "start_time": "2023-10-28T17:16:58.765412",
     "status": "completed"
    },
    "tags": []
   },
   "outputs": [
    {
     "data": {
      "text/plain": [
       "'mlv prasad mentor'"
      ]
     },
     "execution_count": 214,
     "metadata": {},
     "output_type": "execute_result"
    }
   ],
   "source": [
    "d = [\"mlv\",\"prasad\",\"mentor\"]\n",
    "e = reduce(lambda x,y : x + \" \" + y, d)\n",
    "e"
   ]
  },
  {
   "cell_type": "code",
   "execution_count": 215,
   "id": "0db58693",
   "metadata": {
    "execution": {
     "iopub.execute_input": "2023-10-28T17:16:58.978828Z",
     "iopub.status.busy": "2023-10-28T17:16:58.978423Z",
     "iopub.status.idle": "2023-10-28T17:16:58.985410Z",
     "shell.execute_reply": "2023-10-28T17:16:58.984497Z"
    },
    "papermill": {
     "duration": 0.075469,
     "end_time": "2023-10-28T17:16:58.987455",
     "exception": false,
     "start_time": "2023-10-28T17:16:58.911986",
     "status": "completed"
    },
    "tags": []
   },
   "outputs": [
    {
     "data": {
      "text/plain": [
       "[100, 625, 900, 1225, 2500]"
      ]
     },
     "execution_count": 215,
     "metadata": {},
     "output_type": "execute_result"
    }
   ],
   "source": [
    "#map\n",
    "\n",
    "a = [10,25,30,35,50]\n",
    "\n",
    "# fil  = [10,30,50]\n",
    "\n",
    "# reduce = one final ans \n",
    "\n",
    "#map - apply some function on all elememts\n",
    "\n",
    "\n",
    "b = []\n",
    "for i in a :\n",
    "    b.append(i**2)\n",
    "b\n",
    "\n"
   ]
  },
  {
   "cell_type": "code",
   "execution_count": 216,
   "id": "2329ca42",
   "metadata": {
    "execution": {
     "iopub.execute_input": "2023-10-28T17:16:59.120895Z",
     "iopub.status.busy": "2023-10-28T17:16:59.120536Z",
     "iopub.status.idle": "2023-10-28T17:16:59.127430Z",
     "shell.execute_reply": "2023-10-28T17:16:59.126429Z"
    },
    "papermill": {
     "duration": 0.07629,
     "end_time": "2023-10-28T17:16:59.129446",
     "exception": false,
     "start_time": "2023-10-28T17:16:59.053156",
     "status": "completed"
    },
    "tags": []
   },
   "outputs": [
    {
     "data": {
      "text/plain": [
       "[100, 625, 900, 1225, 2500]"
      ]
     },
     "execution_count": 216,
     "metadata": {},
     "output_type": "execute_result"
    }
   ],
   "source": [
    "c = [10,25,30,35,50]\n",
    "def sq(x) :\n",
    "    return x**2\n",
    "d = list(map(sq, c))\n",
    "d"
   ]
  },
  {
   "cell_type": "code",
   "execution_count": 217,
   "id": "70be4f23",
   "metadata": {
    "execution": {
     "iopub.execute_input": "2023-10-28T17:16:59.264293Z",
     "iopub.status.busy": "2023-10-28T17:16:59.263905Z",
     "iopub.status.idle": "2023-10-28T17:16:59.270706Z",
     "shell.execute_reply": "2023-10-28T17:16:59.269708Z"
    },
    "papermill": {
     "duration": 0.076229,
     "end_time": "2023-10-28T17:16:59.272764",
     "exception": false,
     "start_time": "2023-10-28T17:16:59.196535",
     "status": "completed"
    },
    "tags": []
   },
   "outputs": [
    {
     "data": {
      "text/plain": [
       "[100, 625, 900, 1225, 2500]"
      ]
     },
     "execution_count": 217,
     "metadata": {},
     "output_type": "execute_result"
    }
   ],
   "source": [
    "c = [10,25,30,35,50]\n",
    "\n",
    "d = list(map(lambda i : i **2 , c))\n",
    "d"
   ]
  },
  {
   "cell_type": "code",
   "execution_count": 218,
   "id": "ba905308",
   "metadata": {
    "execution": {
     "iopub.execute_input": "2023-10-28T17:16:59.411791Z",
     "iopub.status.busy": "2023-10-28T17:16:59.411387Z",
     "iopub.status.idle": "2023-10-28T17:16:59.418323Z",
     "shell.execute_reply": "2023-10-28T17:16:59.417169Z"
    },
    "papermill": {
     "duration": 0.077878,
     "end_time": "2023-10-28T17:16:59.420403",
     "exception": false,
     "start_time": "2023-10-28T17:16:59.342525",
     "status": "completed"
    },
    "tags": []
   },
   "outputs": [
    {
     "data": {
      "text/plain": [
       "['swapna', 'sush']"
      ]
     },
     "execution_count": 218,
     "metadata": {},
     "output_type": "execute_result"
    }
   ],
   "source": [
    "a = [\"swapna\",\"sush\",\"ghosh\"]\n",
    "b = list(filter(lambda x : x[0]==\"s\",a))\n",
    "b"
   ]
  },
  {
   "cell_type": "code",
   "execution_count": 219,
   "id": "561b4f3a",
   "metadata": {
    "execution": {
     "iopub.execute_input": "2023-10-28T17:16:59.557081Z",
     "iopub.status.busy": "2023-10-28T17:16:59.556702Z",
     "iopub.status.idle": "2023-10-28T17:16:59.563856Z",
     "shell.execute_reply": "2023-10-28T17:16:59.562808Z"
    },
    "papermill": {
     "duration": 0.078647,
     "end_time": "2023-10-28T17:16:59.565814",
     "exception": false,
     "start_time": "2023-10-28T17:16:59.487167",
     "status": "completed"
    },
    "tags": []
   },
   "outputs": [
    {
     "data": {
      "text/plain": [
       "['student swapna', 'student sush', 'student ghosh']"
      ]
     },
     "execution_count": 219,
     "metadata": {},
     "output_type": "execute_result"
    }
   ],
   "source": [
    "a = [\"swapna\",\"sush\",\"ghosh\"]\n",
    "b = list(map(lambda i : \"student \"+ i,a))\n",
    "b"
   ]
  },
  {
   "cell_type": "code",
   "execution_count": 220,
   "id": "2af72d05",
   "metadata": {
    "execution": {
     "iopub.execute_input": "2023-10-28T17:16:59.702128Z",
     "iopub.status.busy": "2023-10-28T17:16:59.701771Z",
     "iopub.status.idle": "2023-10-28T17:16:59.708820Z",
     "shell.execute_reply": "2023-10-28T17:16:59.707766Z"
    },
    "papermill": {
     "duration": 0.076687,
     "end_time": "2023-10-28T17:16:59.710722",
     "exception": false,
     "start_time": "2023-10-28T17:16:59.634035",
     "status": "completed"
    },
    "tags": []
   },
   "outputs": [
    {
     "data": {
      "text/plain": [
       "[('swapna', 100), ('prasad', 200), ('ghosh', 300)]"
      ]
     },
     "execution_count": 220,
     "metadata": {},
     "output_type": "execute_result"
    }
   ],
   "source": [
    "a = [\"swapna\",\"prasad\",\"ghosh\"]\n",
    "b = [100,200,300]\n",
    "\n",
    "\n",
    "c = [  ( a[i] , b[i]) for i in range(len(a))]\n",
    "c"
   ]
  },
  {
   "cell_type": "code",
   "execution_count": 221,
   "id": "5faa38b8",
   "metadata": {
    "execution": {
     "iopub.execute_input": "2023-10-28T17:16:59.847798Z",
     "iopub.status.busy": "2023-10-28T17:16:59.846112Z",
     "iopub.status.idle": "2023-10-28T17:16:59.852926Z",
     "shell.execute_reply": "2023-10-28T17:16:59.851910Z"
    },
    "papermill": {
     "duration": 0.078418,
     "end_time": "2023-10-28T17:16:59.855849",
     "exception": false,
     "start_time": "2023-10-28T17:16:59.777431",
     "status": "completed"
    },
    "tags": []
   },
   "outputs": [
    {
     "name": "stdout",
     "output_type": "stream",
     "text": [
      "swapna 100\n",
      "prasad 200\n",
      "ghosh 300\n"
     ]
    }
   ],
   "source": [
    "for i in range(len(a) ) :\n",
    "    print(a[i],b[i])\n",
    "    "
   ]
  },
  {
   "cell_type": "code",
   "execution_count": 222,
   "id": "53a1ec16",
   "metadata": {
    "execution": {
     "iopub.execute_input": "2023-10-28T17:16:59.994002Z",
     "iopub.status.busy": "2023-10-28T17:16:59.992959Z",
     "iopub.status.idle": "2023-10-28T17:16:59.999377Z",
     "shell.execute_reply": "2023-10-28T17:16:59.997987Z"
    },
    "papermill": {
     "duration": 0.078329,
     "end_time": "2023-10-28T17:17:00.001420",
     "exception": false,
     "start_time": "2023-10-28T17:16:59.923091",
     "status": "completed"
    },
    "tags": []
   },
   "outputs": [
    {
     "name": "stdout",
     "output_type": "stream",
     "text": [
      "('swapna', 100) --\n",
      "('prasad', 200) --\n",
      "('ghosh', 300) --\n"
     ]
    }
   ],
   "source": [
    "for i in zip(a,b) :\n",
    "    print(i,\"--\")"
   ]
  },
  {
   "cell_type": "code",
   "execution_count": 223,
   "id": "d0f6806f",
   "metadata": {
    "execution": {
     "iopub.execute_input": "2023-10-28T17:17:00.137202Z",
     "iopub.status.busy": "2023-10-28T17:17:00.136851Z",
     "iopub.status.idle": "2023-10-28T17:17:00.141352Z",
     "shell.execute_reply": "2023-10-28T17:17:00.140406Z"
    },
    "papermill": {
     "duration": 0.075738,
     "end_time": "2023-10-28T17:17:00.143829",
     "exception": false,
     "start_time": "2023-10-28T17:17:00.068091",
     "status": "completed"
    },
    "tags": []
   },
   "outputs": [
    {
     "name": "stdout",
     "output_type": "stream",
     "text": [
      "swapna -- 100\n",
      "prasad -- 200\n",
      "ghosh -- 300\n"
     ]
    }
   ],
   "source": [
    "for i,j in zip(a,b) :\n",
    "    print(i,\"--\",j)"
   ]
  },
  {
   "cell_type": "code",
   "execution_count": 224,
   "id": "d115d82e",
   "metadata": {
    "execution": {
     "iopub.execute_input": "2023-10-28T17:17:00.280663Z",
     "iopub.status.busy": "2023-10-28T17:17:00.280275Z",
     "iopub.status.idle": "2023-10-28T17:17:00.287391Z",
     "shell.execute_reply": "2023-10-28T17:17:00.286333Z"
    },
    "papermill": {
     "duration": 0.078076,
     "end_time": "2023-10-28T17:17:00.289435",
     "exception": false,
     "start_time": "2023-10-28T17:17:00.211359",
     "status": "completed"
    },
    "tags": []
   },
   "outputs": [
    {
     "data": {
      "text/plain": [
       "[('swapna', 100, 1)]"
      ]
     },
     "execution_count": 224,
     "metadata": {},
     "output_type": "execute_result"
    }
   ],
   "source": [
    "a = [\"swapna\"]\n",
    "b = [100,200,300]\n",
    "c= [1,2]\n",
    "\n",
    "\n",
    "c = list(zip(a,b,c))\n",
    "c"
   ]
  },
  {
   "cell_type": "code",
   "execution_count": 225,
   "id": "d4aa5203",
   "metadata": {
    "execution": {
     "iopub.execute_input": "2023-10-28T17:17:00.426002Z",
     "iopub.status.busy": "2023-10-28T17:17:00.425651Z",
     "iopub.status.idle": "2023-10-28T17:17:00.430784Z",
     "shell.execute_reply": "2023-10-28T17:17:00.429795Z"
    },
    "papermill": {
     "duration": 0.076144,
     "end_time": "2023-10-28T17:17:00.433140",
     "exception": false,
     "start_time": "2023-10-28T17:17:00.356996",
     "status": "completed"
    },
    "tags": []
   },
   "outputs": [
    {
     "name": "stdout",
     "output_type": "stream",
     "text": [
      "yes\n"
     ]
    }
   ],
   "source": [
    "a = \"malayalam\"\n",
    "b = a[::-1]\n",
    "b\n",
    "\n",
    "if a == b :\n",
    "    print(\"yes\")\n",
    "else :\n",
    "    print(\"no\")"
   ]
  },
  {
   "cell_type": "code",
   "execution_count": null,
   "id": "42464fa7",
   "metadata": {
    "papermill": {
     "duration": 0.068575,
     "end_time": "2023-10-28T17:17:00.569079",
     "exception": false,
     "start_time": "2023-10-28T17:17:00.500504",
     "status": "completed"
    },
    "tags": []
   },
   "outputs": [],
   "source": []
  },
  {
   "cell_type": "code",
   "execution_count": 226,
   "id": "60965565",
   "metadata": {
    "execution": {
     "iopub.execute_input": "2023-10-28T17:17:00.707137Z",
     "iopub.status.busy": "2023-10-28T17:17:00.706314Z",
     "iopub.status.idle": "2023-10-28T17:17:00.712210Z",
     "shell.execute_reply": "2023-10-28T17:17:00.711231Z"
    },
    "papermill": {
     "duration": 0.075439,
     "end_time": "2023-10-28T17:17:00.714211",
     "exception": false,
     "start_time": "2023-10-28T17:17:00.638772",
     "status": "completed"
    },
    "tags": []
   },
   "outputs": [],
   "source": [
    "class BluePrint() :\n",
    "    \n",
    "    def __init__ (self,a ): # constructor\n",
    "        self.b = a + 100\n",
    "        self.designed = \"mlv prasad\"\n",
    "        self.country  = \"india\"\n",
    "        \n",
    "\n",
    "\n",
    "    \n",
    "\n",
    "    def color(self):\n",
    "#         b = self.designed\n",
    "        return f\"home is designed by {self.designed} for  and is 100 ft and color \"\n",
    "\n",
    "    def interior(self):\n",
    "        return \"home is italian \"\n",
    "    \n",
    "ghosh = BluePrint(100.5)\n",
    "# int(ghosh)"
   ]
  },
  {
   "cell_type": "code",
   "execution_count": 227,
   "id": "51fd1e75",
   "metadata": {
    "execution": {
     "iopub.execute_input": "2023-10-28T17:17:00.851526Z",
     "iopub.status.busy": "2023-10-28T17:17:00.851151Z",
     "iopub.status.idle": "2023-10-28T17:17:00.854884Z",
     "shell.execute_reply": "2023-10-28T17:17:00.853952Z"
    },
    "papermill": {
     "duration": 0.075924,
     "end_time": "2023-10-28T17:17:00.856854",
     "exception": false,
     "start_time": "2023-10-28T17:17:00.780930",
     "status": "completed"
    },
    "tags": []
   },
   "outputs": [],
   "source": [
    "# swapna = BluePrint()\n",
    "# swapna.color()"
   ]
  },
  {
   "cell_type": "code",
   "execution_count": 228,
   "id": "4d55004c",
   "metadata": {
    "execution": {
     "iopub.execute_input": "2023-10-28T17:17:00.993823Z",
     "iopub.status.busy": "2023-10-28T17:17:00.993435Z",
     "iopub.status.idle": "2023-10-28T17:17:01.000114Z",
     "shell.execute_reply": "2023-10-28T17:17:00.999085Z"
    },
    "papermill": {
     "duration": 0.078245,
     "end_time": "2023-10-28T17:17:01.002118",
     "exception": false,
     "start_time": "2023-10-28T17:17:00.923873",
     "status": "completed"
    },
    "tags": []
   },
   "outputs": [
    {
     "data": {
      "text/plain": [
       "'9'"
      ]
     },
     "execution_count": 228,
     "metadata": {},
     "output_type": "execute_result"
    }
   ],
   "source": [
    "a = 9\n",
    "b = str(a)\n",
    "b"
   ]
  },
  {
   "cell_type": "code",
   "execution_count": 229,
   "id": "31556807",
   "metadata": {
    "execution": {
     "iopub.execute_input": "2023-10-28T17:17:01.140001Z",
     "iopub.status.busy": "2023-10-28T17:17:01.138623Z",
     "iopub.status.idle": "2023-10-28T17:17:01.147403Z",
     "shell.execute_reply": "2023-10-28T17:17:01.146516Z"
    },
    "papermill": {
     "duration": 0.079758,
     "end_time": "2023-10-28T17:17:01.149489",
     "exception": false,
     "start_time": "2023-10-28T17:17:01.069731",
     "status": "completed"
    },
    "tags": []
   },
   "outputs": [
    {
     "data": {
      "text/plain": [
       "0"
      ]
     },
     "execution_count": 229,
     "metadata": {},
     "output_type": "execute_result"
    }
   ],
   "source": [
    "class Student() :\n",
    "    \n",
    "    def __init__(self,name,age):\n",
    "        self.studname = f\"the student name is {name}\"\n",
    "        self.studage = f\"the student age is {age}\"\n",
    "        self.courses= []\n",
    "    \n",
    "    def enroll(self, course= 0 ) :\n",
    "        self.courses.append(course)\n",
    "        \n",
    "    def total_course(self):\n",
    "        return len(self.courses)\n",
    "    \n",
    "    \n",
    "    \n",
    "joy =  Student(\"joyce\",\"30\")\n",
    "joy.total_course()\n",
    "\n",
    "\n",
    "\n"
   ]
  },
  {
   "cell_type": "code",
   "execution_count": 230,
   "id": "d54936be",
   "metadata": {
    "execution": {
     "iopub.execute_input": "2023-10-28T17:17:01.288499Z",
     "iopub.status.busy": "2023-10-28T17:17:01.288142Z",
     "iopub.status.idle": "2023-10-28T17:17:01.294164Z",
     "shell.execute_reply": "2023-10-28T17:17:01.293089Z"
    },
    "papermill": {
     "duration": 0.077091,
     "end_time": "2023-10-28T17:17:01.296121",
     "exception": false,
     "start_time": "2023-10-28T17:17:01.219030",
     "status": "completed"
    },
    "tags": []
   },
   "outputs": [
    {
     "data": {
      "text/plain": [
       "[]"
      ]
     },
     "execution_count": 230,
     "metadata": {},
     "output_type": "execute_result"
    }
   ],
   "source": [
    "sw = Student(\"swapna\",\"35\")\n",
    "sw.courses"
   ]
  },
  {
   "cell_type": "code",
   "execution_count": 231,
   "id": "5beca5fe",
   "metadata": {
    "execution": {
     "iopub.execute_input": "2023-10-28T17:17:01.431186Z",
     "iopub.status.busy": "2023-10-28T17:17:01.430260Z",
     "iopub.status.idle": "2023-10-28T17:17:01.436487Z",
     "shell.execute_reply": "2023-10-28T17:17:01.435647Z"
    },
    "papermill": {
     "duration": 0.07505,
     "end_time": "2023-10-28T17:17:01.438391",
     "exception": false,
     "start_time": "2023-10-28T17:17:01.363341",
     "status": "completed"
    },
    "tags": []
   },
   "outputs": [
    {
     "data": {
      "text/plain": [
       "[]"
      ]
     },
     "execution_count": 231,
     "metadata": {},
     "output_type": "execute_result"
    }
   ],
   "source": [
    "joy.courses\n",
    "\n",
    "# joy.enroll(\"sql\")"
   ]
  },
  {
   "cell_type": "code",
   "execution_count": 232,
   "id": "7069ee85",
   "metadata": {
    "execution": {
     "iopub.execute_input": "2023-10-28T17:17:01.629181Z",
     "iopub.status.busy": "2023-10-28T17:17:01.628796Z",
     "iopub.status.idle": "2023-10-28T17:17:01.633136Z",
     "shell.execute_reply": "2023-10-28T17:17:01.632053Z"
    },
    "papermill": {
     "duration": 0.074428,
     "end_time": "2023-10-28T17:17:01.635120",
     "exception": false,
     "start_time": "2023-10-28T17:17:01.560692",
     "status": "completed"
    },
    "tags": []
   },
   "outputs": [],
   "source": [
    "sw.enroll(\"sql\")"
   ]
  },
  {
   "cell_type": "code",
   "execution_count": 233,
   "id": "45896629",
   "metadata": {
    "execution": {
     "iopub.execute_input": "2023-10-28T17:17:01.774089Z",
     "iopub.status.busy": "2023-10-28T17:17:01.773423Z",
     "iopub.status.idle": "2023-10-28T17:17:01.780002Z",
     "shell.execute_reply": "2023-10-28T17:17:01.778703Z"
    },
    "papermill": {
     "duration": 0.079613,
     "end_time": "2023-10-28T17:17:01.782239",
     "exception": false,
     "start_time": "2023-10-28T17:17:01.702626",
     "status": "completed"
    },
    "tags": []
   },
   "outputs": [
    {
     "data": {
      "text/plain": [
       "[]"
      ]
     },
     "execution_count": 233,
     "metadata": {},
     "output_type": "execute_result"
    }
   ],
   "source": [
    "joy.courses"
   ]
  },
  {
   "cell_type": "code",
   "execution_count": 234,
   "id": "870a8b97",
   "metadata": {
    "execution": {
     "iopub.execute_input": "2023-10-28T17:17:01.918765Z",
     "iopub.status.busy": "2023-10-28T17:17:01.918142Z",
     "iopub.status.idle": "2023-10-28T17:17:01.922183Z",
     "shell.execute_reply": "2023-10-28T17:17:01.921442Z"
    },
    "papermill": {
     "duration": 0.074425,
     "end_time": "2023-10-28T17:17:01.923955",
     "exception": false,
     "start_time": "2023-10-28T17:17:01.849530",
     "status": "completed"
    },
    "tags": []
   },
   "outputs": [],
   "source": [
    "joy.enroll(\"python\")"
   ]
  },
  {
   "cell_type": "code",
   "execution_count": 235,
   "id": "ba4dc97a",
   "metadata": {
    "execution": {
     "iopub.execute_input": "2023-10-28T17:17:02.061335Z",
     "iopub.status.busy": "2023-10-28T17:17:02.060224Z",
     "iopub.status.idle": "2023-10-28T17:17:02.066447Z",
     "shell.execute_reply": "2023-10-28T17:17:02.065529Z"
    },
    "papermill": {
     "duration": 0.076285,
     "end_time": "2023-10-28T17:17:02.068337",
     "exception": false,
     "start_time": "2023-10-28T17:17:01.992052",
     "status": "completed"
    },
    "tags": []
   },
   "outputs": [
    {
     "data": {
      "text/plain": [
       "['python']"
      ]
     },
     "execution_count": 235,
     "metadata": {},
     "output_type": "execute_result"
    }
   ],
   "source": [
    "joy.courses"
   ]
  },
  {
   "cell_type": "code",
   "execution_count": 236,
   "id": "8b63f54d",
   "metadata": {
    "execution": {
     "iopub.execute_input": "2023-10-28T17:17:02.206331Z",
     "iopub.status.busy": "2023-10-28T17:17:02.205915Z",
     "iopub.status.idle": "2023-10-28T17:17:02.212227Z",
     "shell.execute_reply": "2023-10-28T17:17:02.211272Z"
    },
    "papermill": {
     "duration": 0.077662,
     "end_time": "2023-10-28T17:17:02.214325",
     "exception": false,
     "start_time": "2023-10-28T17:17:02.136663",
     "status": "completed"
    },
    "tags": []
   },
   "outputs": [
    {
     "data": {
      "text/plain": [
       "1"
      ]
     },
     "execution_count": 236,
     "metadata": {},
     "output_type": "execute_result"
    }
   ],
   "source": [
    "joy.total_course()"
   ]
  },
  {
   "cell_type": "code",
   "execution_count": 237,
   "id": "3e33c3d2",
   "metadata": {
    "execution": {
     "iopub.execute_input": "2023-10-28T17:17:02.352192Z",
     "iopub.status.busy": "2023-10-28T17:17:02.351805Z",
     "iopub.status.idle": "2023-10-28T17:17:02.358414Z",
     "shell.execute_reply": "2023-10-28T17:17:02.357335Z"
    },
    "papermill": {
     "duration": 0.077449,
     "end_time": "2023-10-28T17:17:02.360305",
     "exception": false,
     "start_time": "2023-10-28T17:17:02.282856",
     "status": "completed"
    },
    "tags": []
   },
   "outputs": [
    {
     "data": {
      "text/plain": [
       "['sql']"
      ]
     },
     "execution_count": 237,
     "metadata": {},
     "output_type": "execute_result"
    }
   ],
   "source": [
    "sw.courses"
   ]
  },
  {
   "cell_type": "code",
   "execution_count": 238,
   "id": "c26a01de",
   "metadata": {
    "execution": {
     "iopub.execute_input": "2023-10-28T17:17:02.495432Z",
     "iopub.status.busy": "2023-10-28T17:17:02.494500Z",
     "iopub.status.idle": "2023-10-28T17:17:02.501183Z",
     "shell.execute_reply": "2023-10-28T17:17:02.500277Z"
    },
    "papermill": {
     "duration": 0.076184,
     "end_time": "2023-10-28T17:17:02.503189",
     "exception": false,
     "start_time": "2023-10-28T17:17:02.427005",
     "status": "completed"
    },
    "tags": []
   },
   "outputs": [
    {
     "data": {
      "text/plain": [
       "1"
      ]
     },
     "execution_count": 238,
     "metadata": {},
     "output_type": "execute_result"
    }
   ],
   "source": [
    "sw.total_course()"
   ]
  },
  {
   "cell_type": "code",
   "execution_count": 239,
   "id": "0f92c069",
   "metadata": {
    "execution": {
     "iopub.execute_input": "2023-10-28T17:17:02.642093Z",
     "iopub.status.busy": "2023-10-28T17:17:02.641739Z",
     "iopub.status.idle": "2023-10-28T17:17:02.648930Z",
     "shell.execute_reply": "2023-10-28T17:17:02.647898Z"
    },
    "papermill": {
     "duration": 0.079067,
     "end_time": "2023-10-28T17:17:02.651142",
     "exception": false,
     "start_time": "2023-10-28T17:17:02.572075",
     "status": "completed"
    },
    "tags": []
   },
   "outputs": [
    {
     "name": "stdout",
     "output_type": "stream",
     "text": [
      "the owner brand is TYT and number of doors is 6\n"
     ]
    }
   ],
   "source": [
    "class Vehicle :\n",
    "    \n",
    "    def __init__ (self,brand,model ):\n",
    "        self.brand = brand\n",
    "        self.model = model\n",
    "        \n",
    "    def info(self):\n",
    "        return f\"the owner brand is {self.brand}\"\n",
    "    \n",
    "    \n",
    "    \n",
    "class Toyato(Vehicle):\n",
    "    def __init__(self,brand,model,doors) : \n",
    "        super().__init__(brand,model)\n",
    "        self.doors= doors\n",
    "    def info(self):\n",
    "        return f\"{super().info()} and number of doors is {self.doors}\"\n",
    "    \n",
    "swapna = Toyato(\"TYT\",\"fortuner\",6)\n",
    "\n",
    "print(swapna.info())\n"
   ]
  },
  {
   "cell_type": "code",
   "execution_count": 240,
   "id": "b4e862ae",
   "metadata": {
    "execution": {
     "iopub.execute_input": "2023-10-28T17:17:02.789842Z",
     "iopub.status.busy": "2023-10-28T17:17:02.789476Z",
     "iopub.status.idle": "2023-10-28T17:17:02.794979Z",
     "shell.execute_reply": "2023-10-28T17:17:02.794047Z"
    },
    "papermill": {
     "duration": 0.078178,
     "end_time": "2023-10-28T17:17:02.797411",
     "exception": false,
     "start_time": "2023-10-28T17:17:02.719233",
     "status": "completed"
    },
    "tags": []
   },
   "outputs": [
    {
     "name": "stdout",
     "output_type": "stream",
     "text": [
      "1\n",
      "1\n",
      "2\n",
      "3\n",
      "5\n",
      "8\n",
      "13\n",
      "21\n",
      "34\n",
      "55\n",
      "89\n",
      "144\n",
      "233\n"
     ]
    }
   ],
   "source": [
    "def fibonaci ()  :\n",
    "    a,b = 1,1\n",
    "    while True :\n",
    "        yield a \n",
    "        a,b = b, a+b # 2 3 \n",
    "        \n",
    "joy =  fibonaci()\n",
    "for i in range(13) :\n",
    "    print(next(joy))"
   ]
  },
  {
   "cell_type": "code",
   "execution_count": 241,
   "id": "c730418e",
   "metadata": {
    "execution": {
     "iopub.execute_input": "2023-10-28T17:17:02.935742Z",
     "iopub.status.busy": "2023-10-28T17:17:02.935347Z",
     "iopub.status.idle": "2023-10-28T17:17:02.939562Z",
     "shell.execute_reply": "2023-10-28T17:17:02.938544Z"
    },
    "papermill": {
     "duration": 0.076365,
     "end_time": "2023-10-28T17:17:02.941581",
     "exception": false,
     "start_time": "2023-10-28T17:17:02.865216",
     "status": "completed"
    },
    "tags": []
   },
   "outputs": [],
   "source": [
    "#poly morphism"
   ]
  },
  {
   "cell_type": "code",
   "execution_count": 242,
   "id": "4d55173d",
   "metadata": {
    "execution": {
     "iopub.execute_input": "2023-10-28T17:17:03.078128Z",
     "iopub.status.busy": "2023-10-28T17:17:03.077791Z",
     "iopub.status.idle": "2023-10-28T17:17:03.084081Z",
     "shell.execute_reply": "2023-10-28T17:17:03.083141Z"
    },
    "papermill": {
     "duration": 0.076653,
     "end_time": "2023-10-28T17:17:03.086304",
     "exception": false,
     "start_time": "2023-10-28T17:17:03.009651",
     "status": "completed"
    },
    "tags": []
   },
   "outputs": [
    {
     "name": "stdout",
     "output_type": "stream",
     "text": [
      "catty\n",
      "doggy\n"
     ]
    }
   ],
   "source": [
    "class Animal() :\n",
    "    def speak(self) :\n",
    "        pass\n",
    "class Dog(Animal) :\n",
    "    def speak(self) :\n",
    "        return \"doggy\"\n",
    "class Cat(Animal) :\n",
    "    def speak( self) :\n",
    "        return \"catty\"\n",
    "    \n",
    "def sound(Animal) :\n",
    "    return    Animal.speak()\n",
    "\n",
    "dog = Dog()\n",
    "cat = Cat()\n",
    "\n",
    "print(sound(cat))\n",
    "print(sound(dog))"
   ]
  },
  {
   "cell_type": "code",
   "execution_count": 243,
   "id": "c1f38f7a",
   "metadata": {
    "execution": {
     "iopub.execute_input": "2023-10-28T17:17:03.221601Z",
     "iopub.status.busy": "2023-10-28T17:17:03.221233Z",
     "iopub.status.idle": "2023-10-28T17:17:03.228173Z",
     "shell.execute_reply": "2023-10-28T17:17:03.227186Z"
    },
    "papermill": {
     "duration": 0.077822,
     "end_time": "2023-10-28T17:17:03.230521",
     "exception": false,
     "start_time": "2023-10-28T17:17:03.152699",
     "status": "completed"
    },
    "tags": []
   },
   "outputs": [
    {
     "name": "stdout",
     "output_type": "stream",
     "text": [
      "swa\n",
      "300\n",
      "ghosh\n",
      "300\n"
     ]
    }
   ],
   "source": [
    "class Student :\n",
    "    def __init__(self, name, rno) :\n",
    "        self.a = 10\n",
    "        self.__name = name\n",
    "        self._roll_no = rno\n",
    "        \n",
    "    def getname (self) :\n",
    "        return self.__name\n",
    "    def setname(self,name ) :\n",
    "        if len(name) >= 3 :\n",
    "            self.__name = name\n",
    "        else :\n",
    "            print(\"Name is too shot\")\n",
    "        \n",
    "    def display(self) :\n",
    "        print(self.__name)\n",
    "        print(self._roll_no)\n",
    "        \n",
    "swapna = Student(\"swa\",300)\n",
    "swapna.display()\n",
    "swapna.setname(\"ghosh\")\n",
    "swapna.display()\n"
   ]
  },
  {
   "cell_type": "code",
   "execution_count": 244,
   "id": "620ae07e",
   "metadata": {
    "execution": {
     "iopub.execute_input": "2023-10-28T17:17:03.365964Z",
     "iopub.status.busy": "2023-10-28T17:17:03.365606Z",
     "iopub.status.idle": "2023-10-28T17:17:03.371964Z",
     "shell.execute_reply": "2023-10-28T17:17:03.370822Z"
    },
    "papermill": {
     "duration": 0.076915,
     "end_time": "2023-10-28T17:17:03.374085",
     "exception": false,
     "start_time": "2023-10-28T17:17:03.297170",
     "status": "completed"
    },
    "tags": []
   },
   "outputs": [
    {
     "data": {
      "text/plain": [
       "10"
      ]
     },
     "execution_count": 244,
     "metadata": {},
     "output_type": "execute_result"
    }
   ],
   "source": [
    "# swapna.__name\n",
    "swapna.a"
   ]
  },
  {
   "cell_type": "code",
   "execution_count": 245,
   "id": "86350257",
   "metadata": {
    "execution": {
     "iopub.execute_input": "2023-10-28T17:17:03.513088Z",
     "iopub.status.busy": "2023-10-28T17:17:03.512714Z",
     "iopub.status.idle": "2023-10-28T17:17:03.517107Z",
     "shell.execute_reply": "2023-10-28T17:17:03.516064Z"
    },
    "papermill": {
     "duration": 0.076706,
     "end_time": "2023-10-28T17:17:03.519144",
     "exception": false,
     "start_time": "2023-10-28T17:17:03.442438",
     "status": "completed"
    },
    "tags": []
   },
   "outputs": [],
   "source": [
    "# ##### Write a Python program that accepts a sequence of c\n",
    "# # omma-separated numbers from the user and generates a list and a tuple of those numbers.\n",
    "# # Sample data : 3, 5, 7, 23\n",
    "# ls = []\n",
    "# for i in range(4):\n",
    "#     a =int(input())\n",
    "#     ls.append(a)\n",
    "# print(f\"the required answer is {ls} and {tuple(ls)}\")"
   ]
  },
  {
   "cell_type": "code",
   "execution_count": 246,
   "id": "7a04629f",
   "metadata": {
    "execution": {
     "iopub.execute_input": "2023-10-28T17:17:03.659827Z",
     "iopub.status.busy": "2023-10-28T17:17:03.659194Z",
     "iopub.status.idle": "2023-10-28T17:17:03.663075Z",
     "shell.execute_reply": "2023-10-28T17:17:03.662107Z"
    },
    "papermill": {
     "duration": 0.076439,
     "end_time": "2023-10-28T17:17:03.665142",
     "exception": false,
     "start_time": "2023-10-28T17:17:03.588703",
     "status": "completed"
    },
    "tags": []
   },
   "outputs": [],
   "source": [
    "# Write a Python program to display the examination schedule. \n",
    "# (extract the date from exam_st_date).\n",
    "# exam_st_date = (11, 12, 2014)\n",
    "# Sample Output : The examination will start from : 11 / 12 / 2014"
   ]
  },
  {
   "cell_type": "code",
   "execution_count": 247,
   "id": "21f68718",
   "metadata": {
    "execution": {
     "iopub.execute_input": "2023-10-28T17:17:03.804729Z",
     "iopub.status.busy": "2023-10-28T17:17:03.804346Z",
     "iopub.status.idle": "2023-10-28T17:17:03.809484Z",
     "shell.execute_reply": "2023-10-28T17:17:03.808536Z"
    },
    "papermill": {
     "duration": 0.076969,
     "end_time": "2023-10-28T17:17:03.812049",
     "exception": false,
     "start_time": "2023-10-28T17:17:03.735080",
     "status": "completed"
    },
    "tags": []
   },
   "outputs": [
    {
     "name": "stdout",
     "output_type": "stream",
     "text": [
      "The examination will start from : 6/5/ 2023\n"
     ]
    }
   ],
   "source": [
    "exam_st_date = (6, 5, 2023)\n",
    "for i in range(1):\n",
    "    print(f\"The examination will start from : {exam_st_date[i] }/{ exam_st_date[i+1] }/ {exam_st_date[i+2]}\")"
   ]
  },
  {
   "cell_type": "code",
   "execution_count": 248,
   "id": "37b6c405",
   "metadata": {
    "execution": {
     "iopub.execute_input": "2023-10-28T17:17:03.951644Z",
     "iopub.status.busy": "2023-10-28T17:17:03.951026Z",
     "iopub.status.idle": "2023-10-28T17:17:03.955850Z",
     "shell.execute_reply": "2023-10-28T17:17:03.954989Z"
    },
    "papermill": {
     "duration": 0.07855,
     "end_time": "2023-10-28T17:17:03.958479",
     "exception": false,
     "start_time": "2023-10-28T17:17:03.879929",
     "status": "completed"
    },
    "tags": []
   },
   "outputs": [
    {
     "name": "stdout",
     "output_type": "stream",
     "text": [
      "score of a is 10 score of b is  20\n",
      "score of a is 10 score of b is 20\n"
     ]
    }
   ],
   "source": [
    "a = 10\n",
    "b = 20\n",
    "\n",
    "print(\"score of a is\",a, \"score of b is \",b)\n",
    "print(f\"score of a is {a} score of b is {b}\")"
   ]
  },
  {
   "cell_type": "code",
   "execution_count": 249,
   "id": "33146aa5",
   "metadata": {
    "execution": {
     "iopub.execute_input": "2023-10-28T17:17:04.094702Z",
     "iopub.status.busy": "2023-10-28T17:17:04.094340Z",
     "iopub.status.idle": "2023-10-28T17:17:04.098399Z",
     "shell.execute_reply": "2023-10-28T17:17:04.097373Z"
    },
    "papermill": {
     "duration": 0.074778,
     "end_time": "2023-10-28T17:17:04.100422",
     "exception": false,
     "start_time": "2023-10-28T17:17:04.025644",
     "status": "completed"
    },
    "tags": []
   },
   "outputs": [],
   "source": [
    "# # Sample data : 3, 5, 7, 23\n",
    "# ls = []\n",
    "# for i in range(1):\n",
    "#     a =input()\n",
    "#     ls.append(a)\n",
    "# print(f\"the required answer is {ls} and {tuple(ls)}\")"
   ]
  },
  {
   "cell_type": "code",
   "execution_count": 250,
   "id": "6dcfb3ec",
   "metadata": {
    "execution": {
     "iopub.execute_input": "2023-10-28T17:17:04.237847Z",
     "iopub.status.busy": "2023-10-28T17:17:04.237441Z",
     "iopub.status.idle": "2023-10-28T17:17:04.243163Z",
     "shell.execute_reply": "2023-10-28T17:17:04.242488Z"
    },
    "papermill": {
     "duration": 0.078046,
     "end_time": "2023-10-28T17:17:04.245156",
     "exception": false,
     "start_time": "2023-10-28T17:17:04.167110",
     "status": "completed"
    },
    "tags": []
   },
   "outputs": [
    {
     "data": {
      "text/plain": [
       "['my name ', ' mlv prasad and ', ' am a good boy']"
      ]
     },
     "execution_count": 250,
     "metadata": {},
     "output_type": "execute_result"
    }
   ],
   "source": [
    "a = \"my name is mlv prasad and is am a good boy\"\n",
    "b = a.split(\"is\")\n",
    "b"
   ]
  },
  {
   "cell_type": "code",
   "execution_count": 251,
   "id": "7adb42c7",
   "metadata": {
    "execution": {
     "iopub.execute_input": "2023-10-28T17:17:04.381119Z",
     "iopub.status.busy": "2023-10-28T17:17:04.380777Z",
     "iopub.status.idle": "2023-10-28T17:17:04.385835Z",
     "shell.execute_reply": "2023-10-28T17:17:04.384897Z"
    },
    "papermill": {
     "duration": 0.075565,
     "end_time": "2023-10-28T17:17:04.388075",
     "exception": false,
     "start_time": "2023-10-28T17:17:04.312510",
     "status": "completed"
    },
    "tags": []
   },
   "outputs": [
    {
     "name": "stdout",
     "output_type": "stream",
     "text": [
      "                * \n",
      "            * * * \n",
      "        * * * * * \n",
      "    * * * * * * * \n",
      "* * * * * * * * * \n"
     ]
    }
   ],
   "source": [
    "for i in range(5):\n",
    "    print(\"  \"*(2*(4-i)),end=\"\")\n",
    "    print(\"* \"* ( (2*i)+1) )\n",
    "    "
   ]
  },
  {
   "cell_type": "code",
   "execution_count": 252,
   "id": "741ceaa4",
   "metadata": {
    "execution": {
     "iopub.execute_input": "2023-10-28T17:17:04.522864Z",
     "iopub.status.busy": "2023-10-28T17:17:04.522500Z",
     "iopub.status.idle": "2023-10-28T17:17:04.531164Z",
     "shell.execute_reply": "2023-10-28T17:17:04.529957Z"
    },
    "papermill": {
     "duration": 0.078388,
     "end_time": "2023-10-28T17:17:04.532987",
     "exception": false,
     "start_time": "2023-10-28T17:17:04.454599",
     "status": "completed"
    },
    "tags": []
   },
   "outputs": [
    {
     "name": "stdout",
     "output_type": "stream",
     "text": [
      "45\n",
      "12\n"
     ]
    }
   ],
   "source": [
    "#                 * \n",
    "#             * * * \n",
    "#         * * * * * \n",
    "#     * * * * * * * \n",
    "# * * * * * * * * * \n",
    "\n",
    "from abc import ABC , abstractmethod\n",
    "\n",
    "class mlv(ABC):\n",
    "    @abstractmethod\n",
    "    def marks(self) :\n",
    "        pass\n",
    "#     @abstractmethod \n",
    "#     def classes(self) :\n",
    "#         pass\n",
    "    \n",
    "class Mentor(mlv) :\n",
    "    def __init__(self,teach):\n",
    "        self.teach = teach\n",
    "        \n",
    "    def marks(self) :\n",
    "        return 9 * self.teach\n",
    "    \n",
    "    \n",
    "class Instructor(mlv) :\n",
    "    def __init__(self,cltime, months) :\n",
    "        self.cltime = cltime\n",
    "        self.month = months\n",
    "        \n",
    "    def marks(self) :\n",
    "        return self.cltime * self.month\n",
    "c1 = Mentor(5)\n",
    "c2 = Instructor(4,3)\n",
    "shapes = [c1, c2]\n",
    "for c3 in shapes :\n",
    "    print(c3.marks())"
   ]
  },
  {
   "cell_type": "code",
   "execution_count": null,
   "id": "081e5e47",
   "metadata": {
    "papermill": {
     "duration": 0.067079,
     "end_time": "2023-10-28T17:17:04.669033",
     "exception": false,
     "start_time": "2023-10-28T17:17:04.601954",
     "status": "completed"
    },
    "tags": []
   },
   "outputs": [],
   "source": []
  },
  {
   "cell_type": "code",
   "execution_count": null,
   "id": "01628cc3",
   "metadata": {
    "papermill": {
     "duration": 0.067569,
     "end_time": "2023-10-28T17:17:04.803931",
     "exception": false,
     "start_time": "2023-10-28T17:17:04.736362",
     "status": "completed"
    },
    "tags": []
   },
   "outputs": [],
   "source": []
  },
  {
   "cell_type": "code",
   "execution_count": null,
   "id": "ac16ae6d",
   "metadata": {
    "papermill": {
     "duration": 0.069961,
     "end_time": "2023-10-28T17:17:04.942714",
     "exception": false,
     "start_time": "2023-10-28T17:17:04.872753",
     "status": "completed"
    },
    "tags": []
   },
   "outputs": [],
   "source": []
  },
  {
   "cell_type": "code",
   "execution_count": null,
   "id": "c1f6dc41",
   "metadata": {
    "papermill": {
     "duration": 0.067145,
     "end_time": "2023-10-28T17:17:05.077110",
     "exception": false,
     "start_time": "2023-10-28T17:17:05.009965",
     "status": "completed"
    },
    "tags": []
   },
   "outputs": [],
   "source": []
  },
  {
   "cell_type": "code",
   "execution_count": null,
   "id": "247269eb",
   "metadata": {
    "papermill": {
     "duration": 0.066279,
     "end_time": "2023-10-28T17:17:05.209963",
     "exception": false,
     "start_time": "2023-10-28T17:17:05.143684",
     "status": "completed"
    },
    "tags": []
   },
   "outputs": [],
   "source": []
  }
 ],
 "metadata": {
  "kernelspec": {
   "display_name": "Python 3",
   "language": "python",
   "name": "python3"
  },
  "language_info": {
   "codemirror_mode": {
    "name": "ipython",
    "version": 3
   },
   "file_extension": ".py",
   "mimetype": "text/x-python",
   "name": "python",
   "nbconvert_exporter": "python",
   "pygments_lexer": "ipython3",
   "version": "3.10.12"
  },
  "papermill": {
   "default_parameters": {},
   "duration": 39.045391,
   "end_time": "2023-10-28T17:17:05.598672",
   "environment_variables": {},
   "exception": null,
   "input_path": "__notebook__.ipynb",
   "output_path": "__notebook__.ipynb",
   "parameters": {},
   "start_time": "2023-10-28T17:16:26.553281",
   "version": "2.4.0"
  }
 },
 "nbformat": 4,
 "nbformat_minor": 5
}
