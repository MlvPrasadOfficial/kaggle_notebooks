{
 "cells": [
  {
   "cell_type": "code",
   "execution_count": 1,
   "id": "12faf8da",
   "metadata": {
    "_cell_guid": "b1076dfc-b9ad-4769-8c92-a6c4dae69d19",
    "_uuid": "8f2839f25d086af736a60e9eeb907d3b93b6e0e5",
    "execution": {
     "iopub.execute_input": "2023-10-21T17:54:25.838901Z",
     "iopub.status.busy": "2023-10-21T17:54:25.838359Z",
     "iopub.status.idle": "2023-10-21T17:54:25.852852Z",
     "shell.execute_reply": "2023-10-21T17:54:25.851461Z"
    },
    "papermill": {
     "duration": 0.085318,
     "end_time": "2023-10-21T17:54:25.856204",
     "exception": false,
     "start_time": "2023-10-21T17:54:25.770886",
     "status": "completed"
    },
    "tags": []
   },
   "outputs": [
    {
     "name": "stdout",
     "output_type": "stream",
     "text": [
      "6\n",
      "---\n",
      "6\n"
     ]
    }
   ],
   "source": [
    "a = 6\n",
    "print(a)\n",
    "print(\"---\")\n",
    "# a = \n",
    "print(a)"
   ]
  },
  {
   "cell_type": "code",
   "execution_count": 2,
   "id": "995d243c",
   "metadata": {
    "execution": {
     "iopub.execute_input": "2023-10-21T17:54:26.055246Z",
     "iopub.status.busy": "2023-10-21T17:54:26.054864Z",
     "iopub.status.idle": "2023-10-21T17:54:26.063158Z",
     "shell.execute_reply": "2023-10-21T17:54:26.061895Z"
    },
    "papermill": {
     "duration": 0.078255,
     "end_time": "2023-10-21T17:54:26.065771",
     "exception": false,
     "start_time": "2023-10-21T17:54:25.987516",
     "status": "completed"
    },
    "tags": []
   },
   "outputs": [
    {
     "data": {
      "text/plain": [
       "6"
      ]
     },
     "execution_count": 2,
     "metadata": {},
     "output_type": "execute_result"
    }
   ],
   "source": [
    "a"
   ]
  },
  {
   "cell_type": "code",
   "execution_count": 3,
   "id": "9103d055",
   "metadata": {
    "execution": {
     "iopub.execute_input": "2023-10-21T17:54:26.197734Z",
     "iopub.status.busy": "2023-10-21T17:54:26.197072Z",
     "iopub.status.idle": "2023-10-21T17:54:26.202225Z",
     "shell.execute_reply": "2023-10-21T17:54:26.200776Z"
    },
    "papermill": {
     "duration": 0.073461,
     "end_time": "2023-10-21T17:54:26.204591",
     "exception": false,
     "start_time": "2023-10-21T17:54:26.131130",
     "status": "completed"
    },
    "tags": []
   },
   "outputs": [],
   "source": [
    "a = 7"
   ]
  },
  {
   "cell_type": "markdown",
   "id": "1d6e2b51",
   "metadata": {
    "papermill": {
     "duration": 0.063968,
     "end_time": "2023-10-21T17:54:26.332796",
     "exception": false,
     "start_time": "2023-10-21T17:54:26.268828",
     "status": "completed"
    },
    "tags": []
   },
   "source": [
    "# data types"
   ]
  },
  {
   "cell_type": "code",
   "execution_count": 4,
   "id": "449a5c4c",
   "metadata": {
    "execution": {
     "iopub.execute_input": "2023-10-21T17:54:26.464501Z",
     "iopub.status.busy": "2023-10-21T17:54:26.464025Z",
     "iopub.status.idle": "2023-10-21T17:54:26.469993Z",
     "shell.execute_reply": "2023-10-21T17:54:26.468731Z"
    },
    "papermill": {
     "duration": 0.074898,
     "end_time": "2023-10-21T17:54:26.472910",
     "exception": false,
     "start_time": "2023-10-21T17:54:26.398012",
     "status": "completed"
    },
    "tags": []
   },
   "outputs": [
    {
     "name": "stdout",
     "output_type": "stream",
     "text": [
      "6\n"
     ]
    }
   ],
   "source": [
    "abhi = 6\n",
    "\n",
    "print(abhi)"
   ]
  },
  {
   "cell_type": "code",
   "execution_count": 5,
   "id": "34372c63",
   "metadata": {
    "execution": {
     "iopub.execute_input": "2023-10-21T17:54:26.609074Z",
     "iopub.status.busy": "2023-10-21T17:54:26.608344Z",
     "iopub.status.idle": "2023-10-21T17:54:26.615865Z",
     "shell.execute_reply": "2023-10-21T17:54:26.614720Z"
    },
    "papermill": {
     "duration": 0.077911,
     "end_time": "2023-10-21T17:54:26.618209",
     "exception": false,
     "start_time": "2023-10-21T17:54:26.540298",
     "status": "completed"
    },
    "tags": []
   },
   "outputs": [
    {
     "data": {
      "text/plain": [
       "int"
      ]
     },
     "execution_count": 5,
     "metadata": {},
     "output_type": "execute_result"
    }
   ],
   "source": [
    "type(abhi)"
   ]
  },
  {
   "cell_type": "code",
   "execution_count": 6,
   "id": "cdaca92f",
   "metadata": {
    "execution": {
     "iopub.execute_input": "2023-10-21T17:54:26.754267Z",
     "iopub.status.busy": "2023-10-21T17:54:26.753906Z",
     "iopub.status.idle": "2023-10-21T17:54:26.760029Z",
     "shell.execute_reply": "2023-10-21T17:54:26.758947Z"
    },
    "papermill": {
     "duration": 0.076588,
     "end_time": "2023-10-21T17:54:26.762562",
     "exception": false,
     "start_time": "2023-10-21T17:54:26.685974",
     "status": "completed"
    },
    "tags": []
   },
   "outputs": [
    {
     "data": {
      "text/plain": [
       "float"
      ]
     },
     "execution_count": 6,
     "metadata": {},
     "output_type": "execute_result"
    }
   ],
   "source": [
    "swa = 6.5\n",
    "type(swa)"
   ]
  },
  {
   "cell_type": "code",
   "execution_count": 7,
   "id": "ecc220e9",
   "metadata": {
    "execution": {
     "iopub.execute_input": "2023-10-21T17:54:26.894003Z",
     "iopub.status.busy": "2023-10-21T17:54:26.893604Z",
     "iopub.status.idle": "2023-10-21T17:54:26.900118Z",
     "shell.execute_reply": "2023-10-21T17:54:26.899223Z"
    },
    "papermill": {
     "duration": 0.07496,
     "end_time": "2023-10-21T17:54:26.902349",
     "exception": false,
     "start_time": "2023-10-21T17:54:26.827389",
     "status": "completed"
    },
    "tags": []
   },
   "outputs": [
    {
     "data": {
      "text/plain": [
       "complex"
      ]
     },
     "execution_count": 7,
     "metadata": {},
     "output_type": "execute_result"
    }
   ],
   "source": [
    "pra = 3 + 2j\n",
    "\n",
    "type(pra)"
   ]
  },
  {
   "cell_type": "code",
   "execution_count": 8,
   "id": "046d8204",
   "metadata": {
    "execution": {
     "iopub.execute_input": "2023-10-21T17:54:27.033919Z",
     "iopub.status.busy": "2023-10-21T17:54:27.033553Z",
     "iopub.status.idle": "2023-10-21T17:54:27.040470Z",
     "shell.execute_reply": "2023-10-21T17:54:27.039303Z"
    },
    "papermill": {
     "duration": 0.075483,
     "end_time": "2023-10-21T17:54:27.042779",
     "exception": false,
     "start_time": "2023-10-21T17:54:26.967296",
     "status": "completed"
    },
    "tags": []
   },
   "outputs": [
    {
     "data": {
      "text/plain": [
       "str"
      ]
     },
     "execution_count": 8,
     "metadata": {},
     "output_type": "execute_result"
    }
   ],
   "source": [
    "x = \"sush\"\n",
    "type(x)"
   ]
  },
  {
   "cell_type": "code",
   "execution_count": 9,
   "id": "c68251a9",
   "metadata": {
    "execution": {
     "iopub.execute_input": "2023-10-21T17:54:27.175972Z",
     "iopub.status.busy": "2023-10-21T17:54:27.175605Z",
     "iopub.status.idle": "2023-10-21T17:54:27.182427Z",
     "shell.execute_reply": "2023-10-21T17:54:27.181247Z"
    },
    "papermill": {
     "duration": 0.075925,
     "end_time": "2023-10-21T17:54:27.184751",
     "exception": false,
     "start_time": "2023-10-21T17:54:27.108826",
     "status": "completed"
    },
    "tags": []
   },
   "outputs": [
    {
     "data": {
      "text/plain": [
       "int"
      ]
     },
     "execution_count": 9,
     "metadata": {},
     "output_type": "execute_result"
    }
   ],
   "source": [
    "z = 44 - 5 - 14\n",
    "z\n",
    "type(z)"
   ]
  },
  {
   "cell_type": "code",
   "execution_count": 10,
   "id": "c11fc934",
   "metadata": {
    "execution": {
     "iopub.execute_input": "2023-10-21T17:54:27.318941Z",
     "iopub.status.busy": "2023-10-21T17:54:27.318557Z",
     "iopub.status.idle": "2023-10-21T17:54:27.325724Z",
     "shell.execute_reply": "2023-10-21T17:54:27.324575Z"
    },
    "papermill": {
     "duration": 0.076786,
     "end_time": "2023-10-21T17:54:27.328226",
     "exception": false,
     "start_time": "2023-10-21T17:54:27.251440",
     "status": "completed"
    },
    "tags": []
   },
   "outputs": [
    {
     "data": {
      "text/plain": [
       "'44-5-14'"
      ]
     },
     "execution_count": 10,
     "metadata": {},
     "output_type": "execute_result"
    }
   ],
   "source": [
    "y = \"44-5-14\"\n",
    "y"
   ]
  },
  {
   "cell_type": "code",
   "execution_count": 11,
   "id": "00af4ac1",
   "metadata": {
    "execution": {
     "iopub.execute_input": "2023-10-21T17:54:27.463436Z",
     "iopub.status.busy": "2023-10-21T17:54:27.463048Z",
     "iopub.status.idle": "2023-10-21T17:54:27.469956Z",
     "shell.execute_reply": "2023-10-21T17:54:27.469082Z"
    },
    "papermill": {
     "duration": 0.076558,
     "end_time": "2023-10-21T17:54:27.472242",
     "exception": false,
     "start_time": "2023-10-21T17:54:27.395684",
     "status": "completed"
    },
    "tags": []
   },
   "outputs": [
    {
     "data": {
      "text/plain": [
       "str"
      ]
     },
     "execution_count": 11,
     "metadata": {},
     "output_type": "execute_result"
    }
   ],
   "source": [
    "type(y)"
   ]
  },
  {
   "cell_type": "markdown",
   "id": "06044e74",
   "metadata": {
    "papermill": {
     "duration": 0.065596,
     "end_time": "2023-10-21T17:54:27.605784",
     "exception": false,
     "start_time": "2023-10-21T17:54:27.540188",
     "status": "completed"
    },
    "tags": []
   },
   "source": [
    "# type casting"
   ]
  },
  {
   "cell_type": "code",
   "execution_count": 12,
   "id": "01545270",
   "metadata": {
    "execution": {
     "iopub.execute_input": "2023-10-21T17:54:27.740727Z",
     "iopub.status.busy": "2023-10-21T17:54:27.740246Z",
     "iopub.status.idle": "2023-10-21T17:54:27.747625Z",
     "shell.execute_reply": "2023-10-21T17:54:27.746132Z"
    },
    "papermill": {
     "duration": 0.078192,
     "end_time": "2023-10-21T17:54:27.750339",
     "exception": false,
     "start_time": "2023-10-21T17:54:27.672147",
     "status": "completed"
    },
    "tags": []
   },
   "outputs": [
    {
     "data": {
      "text/plain": [
       "float"
      ]
     },
     "execution_count": 12,
     "metadata": {},
     "output_type": "execute_result"
    }
   ],
   "source": [
    "a = 6.5\n",
    "type(a)"
   ]
  },
  {
   "cell_type": "code",
   "execution_count": 13,
   "id": "3804f1fc",
   "metadata": {
    "execution": {
     "iopub.execute_input": "2023-10-21T17:54:27.885855Z",
     "iopub.status.busy": "2023-10-21T17:54:27.885482Z",
     "iopub.status.idle": "2023-10-21T17:54:27.892429Z",
     "shell.execute_reply": "2023-10-21T17:54:27.891337Z"
    },
    "papermill": {
     "duration": 0.076816,
     "end_time": "2023-10-21T17:54:27.894693",
     "exception": false,
     "start_time": "2023-10-21T17:54:27.817877",
     "status": "completed"
    },
    "tags": []
   },
   "outputs": [
    {
     "data": {
      "text/plain": [
       "6"
      ]
     },
     "execution_count": 13,
     "metadata": {},
     "output_type": "execute_result"
    }
   ],
   "source": [
    "b = int(a)\n",
    "b"
   ]
  },
  {
   "cell_type": "code",
   "execution_count": 14,
   "id": "c961581c",
   "metadata": {
    "execution": {
     "iopub.execute_input": "2023-10-21T17:54:28.029757Z",
     "iopub.status.busy": "2023-10-21T17:54:28.029316Z",
     "iopub.status.idle": "2023-10-21T17:54:28.035906Z",
     "shell.execute_reply": "2023-10-21T17:54:28.035006Z"
    },
    "papermill": {
     "duration": 0.076403,
     "end_time": "2023-10-21T17:54:28.038188",
     "exception": false,
     "start_time": "2023-10-21T17:54:27.961785",
     "status": "completed"
    },
    "tags": []
   },
   "outputs": [
    {
     "data": {
      "text/plain": [
       "int"
      ]
     },
     "execution_count": 14,
     "metadata": {},
     "output_type": "execute_result"
    }
   ],
   "source": [
    "type(b)"
   ]
  },
  {
   "cell_type": "code",
   "execution_count": 15,
   "id": "c4b6eb1d",
   "metadata": {
    "execution": {
     "iopub.execute_input": "2023-10-21T17:54:28.174249Z",
     "iopub.status.busy": "2023-10-21T17:54:28.173437Z",
     "iopub.status.idle": "2023-10-21T17:54:28.180112Z",
     "shell.execute_reply": "2023-10-21T17:54:28.178960Z"
    },
    "papermill": {
     "duration": 0.077131,
     "end_time": "2023-10-21T17:54:28.182369",
     "exception": false,
     "start_time": "2023-10-21T17:54:28.105238",
     "status": "completed"
    },
    "tags": []
   },
   "outputs": [
    {
     "data": {
      "text/plain": [
       "6.0"
      ]
     },
     "execution_count": 15,
     "metadata": {},
     "output_type": "execute_result"
    }
   ],
   "source": [
    "c = float(b)\n",
    "c"
   ]
  },
  {
   "cell_type": "code",
   "execution_count": 16,
   "id": "1a3abe86",
   "metadata": {
    "execution": {
     "iopub.execute_input": "2023-10-21T17:54:28.318825Z",
     "iopub.status.busy": "2023-10-21T17:54:28.318183Z",
     "iopub.status.idle": "2023-10-21T17:54:28.325635Z",
     "shell.execute_reply": "2023-10-21T17:54:28.324353Z"
    },
    "papermill": {
     "duration": 0.079998,
     "end_time": "2023-10-21T17:54:28.328191",
     "exception": false,
     "start_time": "2023-10-21T17:54:28.248193",
     "status": "completed"
    },
    "tags": []
   },
   "outputs": [
    {
     "data": {
      "text/plain": [
       "float"
      ]
     },
     "execution_count": 16,
     "metadata": {},
     "output_type": "execute_result"
    }
   ],
   "source": [
    "type(c)"
   ]
  },
  {
   "cell_type": "code",
   "execution_count": 17,
   "id": "3c186f1a",
   "metadata": {
    "execution": {
     "iopub.execute_input": "2023-10-21T17:54:28.468272Z",
     "iopub.status.busy": "2023-10-21T17:54:28.467901Z",
     "iopub.status.idle": "2023-10-21T17:54:28.474111Z",
     "shell.execute_reply": "2023-10-21T17:54:28.473229Z"
    },
    "papermill": {
     "duration": 0.078,
     "end_time": "2023-10-21T17:54:28.476481",
     "exception": false,
     "start_time": "2023-10-21T17:54:28.398481",
     "status": "completed"
    },
    "tags": []
   },
   "outputs": [
    {
     "data": {
      "text/plain": [
       "'667'"
      ]
     },
     "execution_count": 17,
     "metadata": {},
     "output_type": "execute_result"
    }
   ],
   "source": [
    "g = \"66\"\n",
    "h = \"7\"\n",
    "\n",
    "g + h"
   ]
  },
  {
   "cell_type": "code",
   "execution_count": 18,
   "id": "90eaf5e8",
   "metadata": {
    "execution": {
     "iopub.execute_input": "2023-10-21T17:54:28.613453Z",
     "iopub.status.busy": "2023-10-21T17:54:28.612991Z",
     "iopub.status.idle": "2023-10-21T17:54:28.620814Z",
     "shell.execute_reply": "2023-10-21T17:54:28.619395Z"
    },
    "papermill": {
     "duration": 0.078319,
     "end_time": "2023-10-21T17:54:28.623219",
     "exception": false,
     "start_time": "2023-10-21T17:54:28.544900",
     "status": "completed"
    },
    "tags": []
   },
   "outputs": [
    {
     "data": {
      "text/plain": [
       "73"
      ]
     },
     "execution_count": 18,
     "metadata": {},
     "output_type": "execute_result"
    }
   ],
   "source": [
    "i = 66\n",
    "j = 7\n",
    "i + j"
   ]
  },
  {
   "cell_type": "code",
   "execution_count": 19,
   "id": "82a58bb4",
   "metadata": {
    "execution": {
     "iopub.execute_input": "2023-10-21T17:54:28.760992Z",
     "iopub.status.busy": "2023-10-21T17:54:28.760623Z",
     "iopub.status.idle": "2023-10-21T17:54:28.767699Z",
     "shell.execute_reply": "2023-10-21T17:54:28.766863Z"
    },
    "papermill": {
     "duration": 0.079051,
     "end_time": "2023-10-21T17:54:28.769868",
     "exception": false,
     "start_time": "2023-10-21T17:54:28.690817",
     "status": "completed"
    },
    "tags": []
   },
   "outputs": [
    {
     "data": {
      "text/plain": [
       "'667'"
      ]
     },
     "execution_count": 19,
     "metadata": {},
     "output_type": "execute_result"
    }
   ],
   "source": [
    "p = \"66\"\n",
    "q = 7\n",
    "# \"667\"\n",
    "p + str(q)"
   ]
  },
  {
   "cell_type": "code",
   "execution_count": 20,
   "id": "1a41d383",
   "metadata": {
    "execution": {
     "iopub.execute_input": "2023-10-21T17:54:28.906536Z",
     "iopub.status.busy": "2023-10-21T17:54:28.906117Z",
     "iopub.status.idle": "2023-10-21T17:54:28.913467Z",
     "shell.execute_reply": "2023-10-21T17:54:28.912285Z"
    },
    "papermill": {
     "duration": 0.078481,
     "end_time": "2023-10-21T17:54:28.915930",
     "exception": false,
     "start_time": "2023-10-21T17:54:28.837449",
     "status": "completed"
    },
    "tags": []
   },
   "outputs": [
    {
     "data": {
      "text/plain": [
       "73"
      ]
     },
     "execution_count": 20,
     "metadata": {},
     "output_type": "execute_result"
    }
   ],
   "source": [
    "p = \"66\"\n",
    "q = 7\n",
    "int(p) + q"
   ]
  },
  {
   "cell_type": "code",
   "execution_count": 21,
   "id": "08778bba",
   "metadata": {
    "execution": {
     "iopub.execute_input": "2023-10-21T17:54:29.053259Z",
     "iopub.status.busy": "2023-10-21T17:54:29.052867Z",
     "iopub.status.idle": "2023-10-21T17:54:29.059529Z",
     "shell.execute_reply": "2023-10-21T17:54:29.058666Z"
    },
    "papermill": {
     "duration": 0.078262,
     "end_time": "2023-10-21T17:54:29.061876",
     "exception": false,
     "start_time": "2023-10-21T17:54:28.983614",
     "status": "completed"
    },
    "tags": []
   },
   "outputs": [
    {
     "data": {
      "text/plain": [
       "8"
      ]
     },
     "execution_count": 21,
     "metadata": {},
     "output_type": "execute_result"
    }
   ],
   "source": [
    "a = 7\n",
    "b = 8\n",
    "b"
   ]
  },
  {
   "cell_type": "code",
   "execution_count": 22,
   "id": "ac3052b2",
   "metadata": {
    "execution": {
     "iopub.execute_input": "2023-10-21T17:54:29.199446Z",
     "iopub.status.busy": "2023-10-21T17:54:29.198271Z",
     "iopub.status.idle": "2023-10-21T17:54:29.205680Z",
     "shell.execute_reply": "2023-10-21T17:54:29.204620Z"
    },
    "papermill": {
     "duration": 0.079663,
     "end_time": "2023-10-21T17:54:29.208633",
     "exception": false,
     "start_time": "2023-10-21T17:54:29.128970",
     "status": "completed"
    },
    "tags": []
   },
   "outputs": [
    {
     "data": {
      "text/plain": [
       "8"
      ]
     },
     "execution_count": 22,
     "metadata": {},
     "output_type": "execute_result"
    }
   ],
   "source": [
    "a,b = 7,8\n",
    "b"
   ]
  },
  {
   "cell_type": "code",
   "execution_count": 23,
   "id": "75d9c8a5",
   "metadata": {
    "execution": {
     "iopub.execute_input": "2023-10-21T17:54:29.349157Z",
     "iopub.status.busy": "2023-10-21T17:54:29.348143Z",
     "iopub.status.idle": "2023-10-21T17:54:29.354256Z",
     "shell.execute_reply": "2023-10-21T17:54:29.353375Z"
    },
    "papermill": {
     "duration": 0.079846,
     "end_time": "2023-10-21T17:54:29.357291",
     "exception": false,
     "start_time": "2023-10-21T17:54:29.277445",
     "status": "completed"
    },
    "tags": []
   },
   "outputs": [
    {
     "data": {
      "text/plain": [
       "7"
      ]
     },
     "execution_count": 23,
     "metadata": {},
     "output_type": "execute_result"
    }
   ],
   "source": [
    "abhi7 = 7\n",
    "abhi7"
   ]
  },
  {
   "cell_type": "code",
   "execution_count": 24,
   "id": "4f6e79c0",
   "metadata": {
    "execution": {
     "iopub.execute_input": "2023-10-21T17:54:29.497926Z",
     "iopub.status.busy": "2023-10-21T17:54:29.497569Z",
     "iopub.status.idle": "2023-10-21T17:54:29.502872Z",
     "shell.execute_reply": "2023-10-21T17:54:29.501635Z"
    },
    "papermill": {
     "duration": 0.079385,
     "end_time": "2023-10-21T17:54:29.505346",
     "exception": false,
     "start_time": "2023-10-21T17:54:29.425961",
     "status": "completed"
    },
    "tags": []
   },
   "outputs": [
    {
     "name": "stdout",
     "output_type": "stream",
     "text": [
      "Sally\n"
     ]
    }
   ],
   "source": [
    "x = 4       # x is of type int\n",
    "x = \"Sally\" # x is now of type str\n",
    "print(x)"
   ]
  },
  {
   "cell_type": "code",
   "execution_count": 25,
   "id": "dbaf8713",
   "metadata": {
    "execution": {
     "iopub.execute_input": "2023-10-21T17:54:29.645083Z",
     "iopub.status.busy": "2023-10-21T17:54:29.644615Z",
     "iopub.status.idle": "2023-10-21T17:54:29.649847Z",
     "shell.execute_reply": "2023-10-21T17:54:29.648576Z"
    },
    "papermill": {
     "duration": 0.077183,
     "end_time": "2023-10-21T17:54:29.652285",
     "exception": false,
     "start_time": "2023-10-21T17:54:29.575102",
     "status": "completed"
    },
    "tags": []
   },
   "outputs": [
    {
     "name": "stdout",
     "output_type": "stream",
     "text": [
      "4\n"
     ]
    }
   ],
   "source": [
    "x = 4       # x is of type int\n",
    "print(x)\n",
    "x = \"Sally\" # x is now of type str\n"
   ]
  },
  {
   "cell_type": "code",
   "execution_count": 26,
   "id": "cb830175",
   "metadata": {
    "execution": {
     "iopub.execute_input": "2023-10-21T17:54:29.791332Z",
     "iopub.status.busy": "2023-10-21T17:54:29.790907Z",
     "iopub.status.idle": "2023-10-21T17:54:29.797179Z",
     "shell.execute_reply": "2023-10-21T17:54:29.796018Z"
    },
    "papermill": {
     "duration": 0.078586,
     "end_time": "2023-10-21T17:54:29.799971",
     "exception": false,
     "start_time": "2023-10-21T17:54:29.721385",
     "status": "completed"
    },
    "tags": []
   },
   "outputs": [
    {
     "name": "stdout",
     "output_type": "stream",
     "text": [
      "7\n"
     ]
    }
   ],
   "source": [
    "# o/p\n",
    "a= 7\n",
    "print(a)"
   ]
  },
  {
   "cell_type": "code",
   "execution_count": 27,
   "id": "0fb89e60",
   "metadata": {
    "execution": {
     "iopub.execute_input": "2023-10-21T17:54:29.938195Z",
     "iopub.status.busy": "2023-10-21T17:54:29.937809Z",
     "iopub.status.idle": "2023-10-21T17:54:29.942163Z",
     "shell.execute_reply": "2023-10-21T17:54:29.941028Z"
    },
    "papermill": {
     "duration": 0.076457,
     "end_time": "2023-10-21T17:54:29.944509",
     "exception": false,
     "start_time": "2023-10-21T17:54:29.868052",
     "status": "completed"
    },
    "tags": []
   },
   "outputs": [],
   "source": [
    "# a = int(input())\n",
    "# print(a+1)"
   ]
  },
  {
   "cell_type": "code",
   "execution_count": 28,
   "id": "92b9cb74",
   "metadata": {
    "execution": {
     "iopub.execute_input": "2023-10-21T17:54:30.082473Z",
     "iopub.status.busy": "2023-10-21T17:54:30.082086Z",
     "iopub.status.idle": "2023-10-21T17:54:30.089322Z",
     "shell.execute_reply": "2023-10-21T17:54:30.087978Z"
    },
    "papermill": {
     "duration": 0.079381,
     "end_time": "2023-10-21T17:54:30.091826",
     "exception": false,
     "start_time": "2023-10-21T17:54:30.012445",
     "status": "completed"
    },
    "tags": []
   },
   "outputs": [
    {
     "data": {
      "text/plain": [
       "13"
      ]
     },
     "execution_count": 28,
     "metadata": {},
     "output_type": "execute_result"
    }
   ],
   "source": [
    "a = 6 + 7\n",
    "a"
   ]
  },
  {
   "cell_type": "code",
   "execution_count": 29,
   "id": "5f2e6513",
   "metadata": {
    "execution": {
     "iopub.execute_input": "2023-10-21T17:54:30.233467Z",
     "iopub.status.busy": "2023-10-21T17:54:30.233051Z",
     "iopub.status.idle": "2023-10-21T17:54:30.240476Z",
     "shell.execute_reply": "2023-10-21T17:54:30.239159Z"
    },
    "papermill": {
     "duration": 0.079677,
     "end_time": "2023-10-21T17:54:30.243194",
     "exception": false,
     "start_time": "2023-10-21T17:54:30.163517",
     "status": "completed"
    },
    "tags": []
   },
   "outputs": [
    {
     "data": {
      "text/plain": [
       "'da50'"
      ]
     },
     "execution_count": 29,
     "metadata": {},
     "output_type": "execute_result"
    }
   ],
   "source": [
    "b = \"da\" + str(50)\n",
    "b"
   ]
  },
  {
   "cell_type": "code",
   "execution_count": 30,
   "id": "a5399792",
   "metadata": {
    "execution": {
     "iopub.execute_input": "2023-10-21T17:54:30.383198Z",
     "iopub.status.busy": "2023-10-21T17:54:30.382265Z",
     "iopub.status.idle": "2023-10-21T17:54:30.388236Z",
     "shell.execute_reply": "2023-10-21T17:54:30.387064Z"
    },
    "papermill": {
     "duration": 0.07982,
     "end_time": "2023-10-21T17:54:30.391435",
     "exception": false,
     "start_time": "2023-10-21T17:54:30.311615",
     "status": "completed"
    },
    "tags": []
   },
   "outputs": [
    {
     "name": "stdout",
     "output_type": "stream",
     "text": [
      "5 John\n"
     ]
    }
   ],
   "source": [
    "x = 5\n",
    "y = \"John\"\n",
    "print(x, y)"
   ]
  },
  {
   "cell_type": "code",
   "execution_count": 31,
   "id": "7d87fc64",
   "metadata": {
    "execution": {
     "iopub.execute_input": "2023-10-21T17:54:30.530204Z",
     "iopub.status.busy": "2023-10-21T17:54:30.529808Z",
     "iopub.status.idle": "2023-10-21T17:54:30.534571Z",
     "shell.execute_reply": "2023-10-21T17:54:30.533498Z"
    },
    "papermill": {
     "duration": 0.076741,
     "end_time": "2023-10-21T17:54:30.537046",
     "exception": false,
     "start_time": "2023-10-21T17:54:30.460305",
     "status": "completed"
    },
    "tags": []
   },
   "outputs": [],
   "source": [
    "a = 6 \n",
    "a = 7"
   ]
  },
  {
   "cell_type": "markdown",
   "id": "7502846e",
   "metadata": {
    "papermill": {
     "duration": 0.069285,
     "end_time": "2023-10-21T17:54:30.678259",
     "exception": false,
     "start_time": "2023-10-21T17:54:30.608974",
     "status": "completed"
    },
    "tags": []
   },
   "source": [
    "# data  structures\n"
   ]
  },
  {
   "cell_type": "markdown",
   "id": "61fc994b",
   "metadata": {
    "papermill": {
     "duration": 0.069257,
     "end_time": "2023-10-21T17:54:30.817937",
     "exception": false,
     "start_time": "2023-10-21T17:54:30.748680",
     "status": "completed"
    },
    "tags": []
   },
   "source": [
    "# List  [ ] "
   ]
  },
  {
   "cell_type": "code",
   "execution_count": 32,
   "id": "eb853d36",
   "metadata": {
    "execution": {
     "iopub.execute_input": "2023-10-21T17:54:30.960359Z",
     "iopub.status.busy": "2023-10-21T17:54:30.959624Z",
     "iopub.status.idle": "2023-10-21T17:54:30.965798Z",
     "shell.execute_reply": "2023-10-21T17:54:30.964859Z"
    },
    "papermill": {
     "duration": 0.079746,
     "end_time": "2023-10-21T17:54:30.968139",
     "exception": false,
     "start_time": "2023-10-21T17:54:30.888393",
     "status": "completed"
    },
    "tags": []
   },
   "outputs": [
    {
     "data": {
      "text/plain": [
       "11"
      ]
     },
     "execution_count": 32,
     "metadata": {},
     "output_type": "execute_result"
    }
   ],
   "source": [
    "a = [11,28,34,45,57]\n",
    "a[0]\n",
    "\n"
   ]
  },
  {
   "cell_type": "code",
   "execution_count": 33,
   "id": "6e0d4b97",
   "metadata": {
    "execution": {
     "iopub.execute_input": "2023-10-21T17:54:31.108747Z",
     "iopub.status.busy": "2023-10-21T17:54:31.108304Z",
     "iopub.status.idle": "2023-10-21T17:54:31.115467Z",
     "shell.execute_reply": "2023-10-21T17:54:31.114100Z"
    },
    "papermill": {
     "duration": 0.080808,
     "end_time": "2023-10-21T17:54:31.118256",
     "exception": false,
     "start_time": "2023-10-21T17:54:31.037448",
     "status": "completed"
    },
    "tags": []
   },
   "outputs": [
    {
     "data": {
      "text/plain": [
       "57"
      ]
     },
     "execution_count": 33,
     "metadata": {},
     "output_type": "execute_result"
    }
   ],
   "source": [
    "a[4]"
   ]
  },
  {
   "cell_type": "code",
   "execution_count": 34,
   "id": "5d23b8eb",
   "metadata": {
    "execution": {
     "iopub.execute_input": "2023-10-21T17:54:31.259806Z",
     "iopub.status.busy": "2023-10-21T17:54:31.258534Z",
     "iopub.status.idle": "2023-10-21T17:54:31.265286Z",
     "shell.execute_reply": "2023-10-21T17:54:31.264223Z"
    },
    "papermill": {
     "duration": 0.079183,
     "end_time": "2023-10-21T17:54:31.267493",
     "exception": false,
     "start_time": "2023-10-21T17:54:31.188310",
     "status": "completed"
    },
    "tags": []
   },
   "outputs": [
    {
     "data": {
      "text/plain": [
       "[11, 28, 34, 45, 57]"
      ]
     },
     "execution_count": 34,
     "metadata": {},
     "output_type": "execute_result"
    }
   ],
   "source": [
    "a"
   ]
  },
  {
   "cell_type": "code",
   "execution_count": 35,
   "id": "bf01357a",
   "metadata": {
    "execution": {
     "iopub.execute_input": "2023-10-21T17:54:31.445709Z",
     "iopub.status.busy": "2023-10-21T17:54:31.444508Z",
     "iopub.status.idle": "2023-10-21T17:54:31.453219Z",
     "shell.execute_reply": "2023-10-21T17:54:31.451931Z"
    },
    "papermill": {
     "duration": 0.112438,
     "end_time": "2023-10-21T17:54:31.456829",
     "exception": false,
     "start_time": "2023-10-21T17:54:31.344391",
     "status": "completed"
    },
    "tags": []
   },
   "outputs": [
    {
     "data": {
      "text/plain": [
       "57"
      ]
     },
     "execution_count": 35,
     "metadata": {},
     "output_type": "execute_result"
    }
   ],
   "source": [
    "a[-1]"
   ]
  },
  {
   "cell_type": "code",
   "execution_count": 36,
   "id": "d546feb4",
   "metadata": {
    "execution": {
     "iopub.execute_input": "2023-10-21T17:54:31.601329Z",
     "iopub.status.busy": "2023-10-21T17:54:31.600593Z",
     "iopub.status.idle": "2023-10-21T17:54:31.606320Z",
     "shell.execute_reply": "2023-10-21T17:54:31.605477Z"
    },
    "papermill": {
     "duration": 0.080002,
     "end_time": "2023-10-21T17:54:31.608800",
     "exception": false,
     "start_time": "2023-10-21T17:54:31.528798",
     "status": "completed"
    },
    "tags": []
   },
   "outputs": [
    {
     "data": {
      "text/plain": [
       "11"
      ]
     },
     "execution_count": 36,
     "metadata": {},
     "output_type": "execute_result"
    }
   ],
   "source": [
    "a[-5]"
   ]
  },
  {
   "cell_type": "code",
   "execution_count": 37,
   "id": "a14855af",
   "metadata": {
    "execution": {
     "iopub.execute_input": "2023-10-21T17:54:31.760317Z",
     "iopub.status.busy": "2023-10-21T17:54:31.759601Z",
     "iopub.status.idle": "2023-10-21T17:54:31.766223Z",
     "shell.execute_reply": "2023-10-21T17:54:31.764911Z"
    },
    "papermill": {
     "duration": 0.092346,
     "end_time": "2023-10-21T17:54:31.770100",
     "exception": false,
     "start_time": "2023-10-21T17:54:31.677754",
     "status": "completed"
    },
    "tags": []
   },
   "outputs": [
    {
     "data": {
      "text/plain": [
       "[28, 34, 45]"
      ]
     },
     "execution_count": 37,
     "metadata": {},
     "output_type": "execute_result"
    }
   ],
   "source": [
    "a[1:4]"
   ]
  },
  {
   "cell_type": "code",
   "execution_count": 38,
   "id": "b891f1e1",
   "metadata": {
    "execution": {
     "iopub.execute_input": "2023-10-21T17:54:31.921550Z",
     "iopub.status.busy": "2023-10-21T17:54:31.920775Z",
     "iopub.status.idle": "2023-10-21T17:54:31.926474Z",
     "shell.execute_reply": "2023-10-21T17:54:31.925431Z"
    },
    "papermill": {
     "duration": 0.079072,
     "end_time": "2023-10-21T17:54:31.929052",
     "exception": false,
     "start_time": "2023-10-21T17:54:31.849980",
     "status": "completed"
    },
    "tags": []
   },
   "outputs": [],
   "source": [
    "a = [10,20,30,40 ,50,60,70,80,90]"
   ]
  },
  {
   "cell_type": "code",
   "execution_count": 39,
   "id": "f7b6b82b",
   "metadata": {
    "execution": {
     "iopub.execute_input": "2023-10-21T17:54:32.070823Z",
     "iopub.status.busy": "2023-10-21T17:54:32.069746Z",
     "iopub.status.idle": "2023-10-21T17:54:32.076383Z",
     "shell.execute_reply": "2023-10-21T17:54:32.075371Z"
    },
    "papermill": {
     "duration": 0.07992,
     "end_time": "2023-10-21T17:54:32.078684",
     "exception": false,
     "start_time": "2023-10-21T17:54:31.998764",
     "status": "completed"
    },
    "tags": []
   },
   "outputs": [
    {
     "data": {
      "text/plain": [
       "[20, 30, 40, 50, 60, 70, 80]"
      ]
     },
     "execution_count": 39,
     "metadata": {},
     "output_type": "execute_result"
    }
   ],
   "source": [
    "# 2 property index - list = zero -index \n",
    "a[1:8]"
   ]
  },
  {
   "cell_type": "code",
   "execution_count": 40,
   "id": "8b903977",
   "metadata": {
    "execution": {
     "iopub.execute_input": "2023-10-21T17:54:32.233736Z",
     "iopub.status.busy": "2023-10-21T17:54:32.233018Z",
     "iopub.status.idle": "2023-10-21T17:54:32.239929Z",
     "shell.execute_reply": "2023-10-21T17:54:32.238872Z"
    },
    "papermill": {
     "duration": 0.086232,
     "end_time": "2023-10-21T17:54:32.242229",
     "exception": false,
     "start_time": "2023-10-21T17:54:32.155997",
     "status": "completed"
    },
    "tags": []
   },
   "outputs": [
    {
     "data": {
      "text/plain": [
       "[20, 40, 60, 80]"
      ]
     },
     "execution_count": 40,
     "metadata": {},
     "output_type": "execute_result"
    }
   ],
   "source": [
    "a[1:8:2]"
   ]
  },
  {
   "cell_type": "code",
   "execution_count": 41,
   "id": "5fd43a41",
   "metadata": {
    "execution": {
     "iopub.execute_input": "2023-10-21T17:54:32.386626Z",
     "iopub.status.busy": "2023-10-21T17:54:32.385338Z",
     "iopub.status.idle": "2023-10-21T17:54:32.392994Z",
     "shell.execute_reply": "2023-10-21T17:54:32.391882Z"
    },
    "papermill": {
     "duration": 0.081531,
     "end_time": "2023-10-21T17:54:32.395151",
     "exception": false,
     "start_time": "2023-10-21T17:54:32.313620",
     "status": "completed"
    },
    "tags": []
   },
   "outputs": [
    {
     "data": {
      "text/plain": [
       "[20, 50, 80]"
      ]
     },
     "execution_count": 41,
     "metadata": {},
     "output_type": "execute_result"
    }
   ],
   "source": [
    "a[1:-1:3]"
   ]
  },
  {
   "cell_type": "code",
   "execution_count": 42,
   "id": "39c135d6",
   "metadata": {
    "execution": {
     "iopub.execute_input": "2023-10-21T17:54:32.540607Z",
     "iopub.status.busy": "2023-10-21T17:54:32.540178Z",
     "iopub.status.idle": "2023-10-21T17:54:32.547714Z",
     "shell.execute_reply": "2023-10-21T17:54:32.546611Z"
    },
    "papermill": {
     "duration": 0.081982,
     "end_time": "2023-10-21T17:54:32.550182",
     "exception": false,
     "start_time": "2023-10-21T17:54:32.468200",
     "status": "completed"
    },
    "tags": []
   },
   "outputs": [
    {
     "data": {
      "text/plain": [
       "[10, 20, 30, 40, 50, 60, 70, 80, 90]"
      ]
     },
     "execution_count": 42,
     "metadata": {},
     "output_type": "execute_result"
    }
   ],
   "source": [
    "# property of 1 of list \n",
    "# mutabilty\n",
    "\n",
    "a "
   ]
  },
  {
   "cell_type": "code",
   "execution_count": 43,
   "id": "c8a7e03c",
   "metadata": {
    "execution": {
     "iopub.execute_input": "2023-10-21T17:54:32.694725Z",
     "iopub.status.busy": "2023-10-21T17:54:32.693729Z",
     "iopub.status.idle": "2023-10-21T17:54:32.700582Z",
     "shell.execute_reply": "2023-10-21T17:54:32.699492Z"
    },
    "papermill": {
     "duration": 0.080679,
     "end_time": "2023-10-21T17:54:32.702929",
     "exception": false,
     "start_time": "2023-10-21T17:54:32.622250",
     "status": "completed"
    },
    "tags": []
   },
   "outputs": [
    {
     "data": {
      "text/plain": [
       "10"
      ]
     },
     "execution_count": 43,
     "metadata": {},
     "output_type": "execute_result"
    }
   ],
   "source": [
    "a[0]"
   ]
  },
  {
   "cell_type": "code",
   "execution_count": 44,
   "id": "287b905a",
   "metadata": {
    "execution": {
     "iopub.execute_input": "2023-10-21T17:54:32.847290Z",
     "iopub.status.busy": "2023-10-21T17:54:32.846532Z",
     "iopub.status.idle": "2023-10-21T17:54:32.854107Z",
     "shell.execute_reply": "2023-10-21T17:54:32.853159Z"
    },
    "papermill": {
     "duration": 0.081587,
     "end_time": "2023-10-21T17:54:32.856516",
     "exception": false,
     "start_time": "2023-10-21T17:54:32.774929",
     "status": "completed"
    },
    "tags": []
   },
   "outputs": [
    {
     "data": {
      "text/plain": [
       "[900, 20, 30, 40, 50, 60, 70, 80, 90]"
      ]
     },
     "execution_count": 44,
     "metadata": {},
     "output_type": "execute_result"
    }
   ],
   "source": [
    "a[0] = 900\n",
    "a"
   ]
  },
  {
   "cell_type": "code",
   "execution_count": 45,
   "id": "c39f9237",
   "metadata": {
    "execution": {
     "iopub.execute_input": "2023-10-21T17:54:33.000712Z",
     "iopub.status.busy": "2023-10-21T17:54:33.000040Z",
     "iopub.status.idle": "2023-10-21T17:54:33.007098Z",
     "shell.execute_reply": "2023-10-21T17:54:33.006027Z"
    },
    "papermill": {
     "duration": 0.082574,
     "end_time": "2023-10-21T17:54:33.009618",
     "exception": false,
     "start_time": "2023-10-21T17:54:32.927044",
     "status": "completed"
    },
    "tags": []
   },
   "outputs": [
    {
     "data": {
      "text/plain": [
       "list"
      ]
     },
     "execution_count": 45,
     "metadata": {},
     "output_type": "execute_result"
    }
   ],
   "source": [
    "type(a)"
   ]
  },
  {
   "cell_type": "markdown",
   "id": "7359cdcd",
   "metadata": {
    "papermill": {
     "duration": 0.069971,
     "end_time": "2023-10-21T17:54:33.151038",
     "exception": false,
     "start_time": "2023-10-21T17:54:33.081067",
     "status": "completed"
    },
    "tags": []
   },
   "source": [
    "# tuple  (  )"
   ]
  },
  {
   "cell_type": "code",
   "execution_count": 46,
   "id": "70dbc74d",
   "metadata": {
    "execution": {
     "iopub.execute_input": "2023-10-21T17:54:33.294152Z",
     "iopub.status.busy": "2023-10-21T17:54:33.293538Z",
     "iopub.status.idle": "2023-10-21T17:54:33.299600Z",
     "shell.execute_reply": "2023-10-21T17:54:33.298516Z"
    },
    "papermill": {
     "duration": 0.080491,
     "end_time": "2023-10-21T17:54:33.302090",
     "exception": false,
     "start_time": "2023-10-21T17:54:33.221599",
     "status": "completed"
    },
    "tags": []
   },
   "outputs": [
    {
     "data": {
      "text/plain": [
       "10"
      ]
     },
     "execution_count": 46,
     "metadata": {},
     "output_type": "execute_result"
    }
   ],
   "source": [
    "b = (10,20,30,40,50)\n",
    "b[0]"
   ]
  },
  {
   "cell_type": "code",
   "execution_count": 47,
   "id": "48643c2b",
   "metadata": {
    "execution": {
     "iopub.execute_input": "2023-10-21T17:54:33.448744Z",
     "iopub.status.busy": "2023-10-21T17:54:33.447892Z",
     "iopub.status.idle": "2023-10-21T17:54:33.453704Z",
     "shell.execute_reply": "2023-10-21T17:54:33.452909Z"
    },
    "papermill": {
     "duration": 0.081846,
     "end_time": "2023-10-21T17:54:33.455877",
     "exception": false,
     "start_time": "2023-10-21T17:54:33.374031",
     "status": "completed"
    },
    "tags": []
   },
   "outputs": [
    {
     "data": {
      "text/plain": [
       "tuple"
      ]
     },
     "execution_count": 47,
     "metadata": {},
     "output_type": "execute_result"
    }
   ],
   "source": [
    "type(b)"
   ]
  },
  {
   "cell_type": "code",
   "execution_count": 48,
   "id": "7793bc86",
   "metadata": {
    "execution": {
     "iopub.execute_input": "2023-10-21T17:54:33.601940Z",
     "iopub.status.busy": "2023-10-21T17:54:33.601300Z",
     "iopub.status.idle": "2023-10-21T17:54:33.606868Z",
     "shell.execute_reply": "2023-10-21T17:54:33.606005Z"
    },
    "papermill": {
     "duration": 0.081415,
     "end_time": "2023-10-21T17:54:33.609064",
     "exception": false,
     "start_time": "2023-10-21T17:54:33.527649",
     "status": "completed"
    },
    "tags": []
   },
   "outputs": [
    {
     "data": {
      "text/plain": [
       "50"
      ]
     },
     "execution_count": 48,
     "metadata": {},
     "output_type": "execute_result"
    }
   ],
   "source": [
    "b[4]"
   ]
  },
  {
   "cell_type": "code",
   "execution_count": 49,
   "id": "9afe4455",
   "metadata": {
    "execution": {
     "iopub.execute_input": "2023-10-21T17:54:33.754582Z",
     "iopub.status.busy": "2023-10-21T17:54:33.753894Z",
     "iopub.status.idle": "2023-10-21T17:54:33.759595Z",
     "shell.execute_reply": "2023-10-21T17:54:33.758737Z"
    },
    "papermill": {
     "duration": 0.081526,
     "end_time": "2023-10-21T17:54:33.761996",
     "exception": false,
     "start_time": "2023-10-21T17:54:33.680470",
     "status": "completed"
    },
    "tags": []
   },
   "outputs": [
    {
     "data": {
      "text/plain": [
       "50"
      ]
     },
     "execution_count": 49,
     "metadata": {},
     "output_type": "execute_result"
    }
   ],
   "source": [
    "b[-1]"
   ]
  },
  {
   "cell_type": "code",
   "execution_count": 50,
   "id": "c2694790",
   "metadata": {
    "execution": {
     "iopub.execute_input": "2023-10-21T17:54:33.906633Z",
     "iopub.status.busy": "2023-10-21T17:54:33.906225Z",
     "iopub.status.idle": "2023-10-21T17:54:33.910352Z",
     "shell.execute_reply": "2023-10-21T17:54:33.909436Z"
    },
    "papermill": {
     "duration": 0.078375,
     "end_time": "2023-10-21T17:54:33.912637",
     "exception": false,
     "start_time": "2023-10-21T17:54:33.834262",
     "status": "completed"
    },
    "tags": []
   },
   "outputs": [],
   "source": [
    "# property 2 of tuple - zero index "
   ]
  },
  {
   "cell_type": "code",
   "execution_count": 51,
   "id": "01f914dc",
   "metadata": {
    "execution": {
     "iopub.execute_input": "2023-10-21T17:54:34.121124Z",
     "iopub.status.busy": "2023-10-21T17:54:34.120444Z",
     "iopub.status.idle": "2023-10-21T17:54:34.124920Z",
     "shell.execute_reply": "2023-10-21T17:54:34.123797Z"
    },
    "papermill": {
     "duration": 0.079214,
     "end_time": "2023-10-21T17:54:34.127272",
     "exception": false,
     "start_time": "2023-10-21T17:54:34.048058",
     "status": "completed"
    },
    "tags": []
   },
   "outputs": [],
   "source": [
    "# b[0] = 10"
   ]
  },
  {
   "cell_type": "code",
   "execution_count": 52,
   "id": "2dd60eb5",
   "metadata": {
    "execution": {
     "iopub.execute_input": "2023-10-21T17:54:34.275792Z",
     "iopub.status.busy": "2023-10-21T17:54:34.274729Z",
     "iopub.status.idle": "2023-10-21T17:54:34.279773Z",
     "shell.execute_reply": "2023-10-21T17:54:34.278470Z"
    },
    "papermill": {
     "duration": 0.083529,
     "end_time": "2023-10-21T17:54:34.282313",
     "exception": false,
     "start_time": "2023-10-21T17:54:34.198784",
     "status": "completed"
    },
    "tags": []
   },
   "outputs": [],
   "source": [
    "# property immutabilty - ypu cant change elements in a list"
   ]
  },
  {
   "cell_type": "code",
   "execution_count": 53,
   "id": "ef9df4a7",
   "metadata": {
    "execution": {
     "iopub.execute_input": "2023-10-21T17:54:34.428933Z",
     "iopub.status.busy": "2023-10-21T17:54:34.428502Z",
     "iopub.status.idle": "2023-10-21T17:54:34.433539Z",
     "shell.execute_reply": "2023-10-21T17:54:34.432233Z"
    },
    "papermill": {
     "duration": 0.082999,
     "end_time": "2023-10-21T17:54:34.436117",
     "exception": false,
     "start_time": "2023-10-21T17:54:34.353118",
     "status": "completed"
    },
    "tags": []
   },
   "outputs": [],
   "source": [
    "# set "
   ]
  },
  {
   "cell_type": "markdown",
   "id": "2c28ea5d",
   "metadata": {
    "papermill": {
     "duration": 0.070566,
     "end_time": "2023-10-21T17:54:34.580231",
     "exception": false,
     "start_time": "2023-10-21T17:54:34.509665",
     "status": "completed"
    },
    "tags": []
   },
   "source": [
    "{ }"
   ]
  },
  {
   "cell_type": "code",
   "execution_count": 54,
   "id": "5c999bd4",
   "metadata": {
    "execution": {
     "iopub.execute_input": "2023-10-21T17:54:34.728241Z",
     "iopub.status.busy": "2023-10-21T17:54:34.727153Z",
     "iopub.status.idle": "2023-10-21T17:54:34.732064Z",
     "shell.execute_reply": "2023-10-21T17:54:34.731090Z"
    },
    "papermill": {
     "duration": 0.081491,
     "end_time": "2023-10-21T17:54:34.734511",
     "exception": false,
     "start_time": "2023-10-21T17:54:34.653020",
     "status": "completed"
    },
    "tags": []
   },
   "outputs": [],
   "source": [
    "c = {10,20,30,40}"
   ]
  },
  {
   "cell_type": "code",
   "execution_count": 55,
   "id": "0039fd03",
   "metadata": {
    "execution": {
     "iopub.execute_input": "2023-10-21T17:54:34.882545Z",
     "iopub.status.busy": "2023-10-21T17:54:34.882089Z",
     "iopub.status.idle": "2023-10-21T17:54:34.888993Z",
     "shell.execute_reply": "2023-10-21T17:54:34.887795Z"
    },
    "papermill": {
     "duration": 0.083896,
     "end_time": "2023-10-21T17:54:34.891512",
     "exception": false,
     "start_time": "2023-10-21T17:54:34.807616",
     "status": "completed"
    },
    "tags": []
   },
   "outputs": [
    {
     "data": {
      "text/plain": [
       "{10, 20, 30, 40}"
      ]
     },
     "execution_count": 55,
     "metadata": {},
     "output_type": "execute_result"
    }
   ],
   "source": [
    "c"
   ]
  },
  {
   "cell_type": "code",
   "execution_count": 56,
   "id": "e4252ee4",
   "metadata": {
    "execution": {
     "iopub.execute_input": "2023-10-21T17:54:35.037462Z",
     "iopub.status.busy": "2023-10-21T17:54:35.036895Z",
     "iopub.status.idle": "2023-10-21T17:54:35.042381Z",
     "shell.execute_reply": "2023-10-21T17:54:35.041287Z"
    },
    "papermill": {
     "duration": 0.080384,
     "end_time": "2023-10-21T17:54:35.044825",
     "exception": false,
     "start_time": "2023-10-21T17:54:34.964441",
     "status": "completed"
    },
    "tags": []
   },
   "outputs": [],
   "source": [
    "d = {10,20,10,20}"
   ]
  },
  {
   "cell_type": "code",
   "execution_count": 57,
   "id": "ad953952",
   "metadata": {
    "execution": {
     "iopub.execute_input": "2023-10-21T17:54:35.192343Z",
     "iopub.status.busy": "2023-10-21T17:54:35.191943Z",
     "iopub.status.idle": "2023-10-21T17:54:35.198868Z",
     "shell.execute_reply": "2023-10-21T17:54:35.197878Z"
    },
    "papermill": {
     "duration": 0.082958,
     "end_time": "2023-10-21T17:54:35.201108",
     "exception": false,
     "start_time": "2023-10-21T17:54:35.118150",
     "status": "completed"
    },
    "tags": []
   },
   "outputs": [
    {
     "data": {
      "text/plain": [
       "{10, 20}"
      ]
     },
     "execution_count": 57,
     "metadata": {},
     "output_type": "execute_result"
    }
   ],
   "source": [
    "d"
   ]
  },
  {
   "cell_type": "code",
   "execution_count": 58,
   "id": "64a6d33d",
   "metadata": {
    "execution": {
     "iopub.execute_input": "2023-10-21T17:54:35.345268Z",
     "iopub.status.busy": "2023-10-21T17:54:35.344902Z",
     "iopub.status.idle": "2023-10-21T17:54:35.349286Z",
     "shell.execute_reply": "2023-10-21T17:54:35.348034Z"
    },
    "papermill": {
     "duration": 0.079412,
     "end_time": "2023-10-21T17:54:35.351581",
     "exception": false,
     "start_time": "2023-10-21T17:54:35.272169",
     "status": "completed"
    },
    "tags": []
   },
   "outputs": [],
   "source": [
    "# # property 1 \n",
    "\n",
    "# unique elements only "
   ]
  },
  {
   "cell_type": "code",
   "execution_count": 59,
   "id": "3d783e13",
   "metadata": {
    "execution": {
     "iopub.execute_input": "2023-10-21T17:54:35.498809Z",
     "iopub.status.busy": "2023-10-21T17:54:35.498374Z",
     "iopub.status.idle": "2023-10-21T17:54:35.504976Z",
     "shell.execute_reply": "2023-10-21T17:54:35.503942Z"
    },
    "papermill": {
     "duration": 0.082718,
     "end_time": "2023-10-21T17:54:35.507427",
     "exception": false,
     "start_time": "2023-10-21T17:54:35.424709",
     "status": "completed"
    },
    "tags": []
   },
   "outputs": [
    {
     "data": {
      "text/plain": [
       "{10, 20}"
      ]
     },
     "execution_count": 59,
     "metadata": {},
     "output_type": "execute_result"
    }
   ],
   "source": [
    "# property \n",
    "# there is no index in set \n",
    "\n",
    "d"
   ]
  },
  {
   "cell_type": "code",
   "execution_count": 60,
   "id": "ac3b8527",
   "metadata": {
    "execution": {
     "iopub.execute_input": "2023-10-21T17:54:35.653572Z",
     "iopub.status.busy": "2023-10-21T17:54:35.653171Z",
     "iopub.status.idle": "2023-10-21T17:54:35.657898Z",
     "shell.execute_reply": "2023-10-21T17:54:35.656729Z"
    },
    "papermill": {
     "duration": 0.080288,
     "end_time": "2023-10-21T17:54:35.660222",
     "exception": false,
     "start_time": "2023-10-21T17:54:35.579934",
     "status": "completed"
    },
    "tags": []
   },
   "outputs": [],
   "source": [
    "# d[0]"
   ]
  },
  {
   "cell_type": "markdown",
   "id": "3e4b4025",
   "metadata": {
    "papermill": {
     "duration": 0.071668,
     "end_time": "2023-10-21T17:54:35.804547",
     "exception": false,
     "start_time": "2023-10-21T17:54:35.732879",
     "status": "completed"
    },
    "tags": []
   },
   "source": [
    "# dictionary  ( ) "
   ]
  },
  {
   "cell_type": "code",
   "execution_count": 61,
   "id": "0051fa24",
   "metadata": {
    "execution": {
     "iopub.execute_input": "2023-10-21T17:54:35.951053Z",
     "iopub.status.busy": "2023-10-21T17:54:35.950661Z",
     "iopub.status.idle": "2023-10-21T17:54:35.955705Z",
     "shell.execute_reply": "2023-10-21T17:54:35.954840Z"
    },
    "papermill": {
     "duration": 0.081999,
     "end_time": "2023-10-21T17:54:35.959048",
     "exception": false,
     "start_time": "2023-10-21T17:54:35.877049",
     "status": "completed"
    },
    "tags": []
   },
   "outputs": [],
   "source": [
    "t = { \"beautiful\"   : \"swapna is a beautiful women\",\n",
    "    \"smart\" : \"tayyab is a smart person\",\n",
    "    \"clever\" : \"parth is clever\"}"
   ]
  },
  {
   "cell_type": "code",
   "execution_count": 62,
   "id": "59508083",
   "metadata": {
    "execution": {
     "iopub.execute_input": "2023-10-21T17:54:36.106087Z",
     "iopub.status.busy": "2023-10-21T17:54:36.104928Z",
     "iopub.status.idle": "2023-10-21T17:54:36.109879Z",
     "shell.execute_reply": "2023-10-21T17:54:36.108953Z"
    },
    "papermill": {
     "duration": 0.081379,
     "end_time": "2023-10-21T17:54:36.112252",
     "exception": false,
     "start_time": "2023-10-21T17:54:36.030873",
     "status": "completed"
    },
    "tags": []
   },
   "outputs": [],
   "source": [
    "# property index - key index"
   ]
  },
  {
   "cell_type": "code",
   "execution_count": 63,
   "id": "ed1379c0",
   "metadata": {
    "execution": {
     "iopub.execute_input": "2023-10-21T17:54:36.257659Z",
     "iopub.status.busy": "2023-10-21T17:54:36.257253Z",
     "iopub.status.idle": "2023-10-21T17:54:36.264037Z",
     "shell.execute_reply": "2023-10-21T17:54:36.262782Z"
    },
    "papermill": {
     "duration": 0.082878,
     "end_time": "2023-10-21T17:54:36.266681",
     "exception": false,
     "start_time": "2023-10-21T17:54:36.183803",
     "status": "completed"
    },
    "tags": []
   },
   "outputs": [
    {
     "data": {
      "text/plain": [
       "dict_keys(['beautiful', 'smart', 'clever'])"
      ]
     },
     "execution_count": 63,
     "metadata": {},
     "output_type": "execute_result"
    }
   ],
   "source": [
    "t.keys()"
   ]
  },
  {
   "cell_type": "code",
   "execution_count": 64,
   "id": "83da3d70",
   "metadata": {
    "execution": {
     "iopub.execute_input": "2023-10-21T17:54:36.415043Z",
     "iopub.status.busy": "2023-10-21T17:54:36.414156Z",
     "iopub.status.idle": "2023-10-21T17:54:36.421535Z",
     "shell.execute_reply": "2023-10-21T17:54:36.420387Z"
    },
    "papermill": {
     "duration": 0.084688,
     "end_time": "2023-10-21T17:54:36.423875",
     "exception": false,
     "start_time": "2023-10-21T17:54:36.339187",
     "status": "completed"
    },
    "tags": []
   },
   "outputs": [
    {
     "data": {
      "text/plain": [
       "'swapna is a beautiful women'"
      ]
     },
     "execution_count": 64,
     "metadata": {},
     "output_type": "execute_result"
    }
   ],
   "source": [
    "t[\"beautiful\"]"
   ]
  },
  {
   "cell_type": "code",
   "execution_count": 65,
   "id": "8fba9559",
   "metadata": {
    "execution": {
     "iopub.execute_input": "2023-10-21T17:54:36.571417Z",
     "iopub.status.busy": "2023-10-21T17:54:36.570269Z",
     "iopub.status.idle": "2023-10-21T17:54:36.577599Z",
     "shell.execute_reply": "2023-10-21T17:54:36.576455Z"
    },
    "papermill": {
     "duration": 0.083542,
     "end_time": "2023-10-21T17:54:36.579990",
     "exception": false,
     "start_time": "2023-10-21T17:54:36.496448",
     "status": "completed"
    },
    "tags": []
   },
   "outputs": [
    {
     "data": {
      "text/plain": [
       "'parth is clever'"
      ]
     },
     "execution_count": 65,
     "metadata": {},
     "output_type": "execute_result"
    }
   ],
   "source": [
    "t[\"clever\"]"
   ]
  },
  {
   "cell_type": "code",
   "execution_count": 66,
   "id": "180a44bf",
   "metadata": {
    "execution": {
     "iopub.execute_input": "2023-10-21T17:54:36.734223Z",
     "iopub.status.busy": "2023-10-21T17:54:36.733819Z",
     "iopub.status.idle": "2023-10-21T17:54:36.740784Z",
     "shell.execute_reply": "2023-10-21T17:54:36.739594Z"
    },
    "papermill": {
     "duration": 0.088272,
     "end_time": "2023-10-21T17:54:36.743325",
     "exception": false,
     "start_time": "2023-10-21T17:54:36.655053",
     "status": "completed"
    },
    "tags": []
   },
   "outputs": [
    {
     "data": {
      "text/plain": [
       "dict_keys(['beautiful', 'smart', 'clever'])"
      ]
     },
     "execution_count": 66,
     "metadata": {},
     "output_type": "execute_result"
    }
   ],
   "source": [
    "t.keys()"
   ]
  },
  {
   "cell_type": "code",
   "execution_count": 67,
   "id": "755e5ab7",
   "metadata": {
    "execution": {
     "iopub.execute_input": "2023-10-21T17:54:36.889425Z",
     "iopub.status.busy": "2023-10-21T17:54:36.888994Z",
     "iopub.status.idle": "2023-10-21T17:54:36.896439Z",
     "shell.execute_reply": "2023-10-21T17:54:36.895283Z"
    },
    "papermill": {
     "duration": 0.082743,
     "end_time": "2023-10-21T17:54:36.898685",
     "exception": false,
     "start_time": "2023-10-21T17:54:36.815942",
     "status": "completed"
    },
    "tags": []
   },
   "outputs": [
    {
     "data": {
      "text/plain": [
       "dict_values(['swapna is a beautiful women', 'tayyab is a smart person', 'parth is clever'])"
      ]
     },
     "execution_count": 67,
     "metadata": {},
     "output_type": "execute_result"
    }
   ],
   "source": [
    "t.values()"
   ]
  },
  {
   "cell_type": "code",
   "execution_count": 68,
   "id": "d7cf70ef",
   "metadata": {
    "execution": {
     "iopub.execute_input": "2023-10-21T17:54:37.044623Z",
     "iopub.status.busy": "2023-10-21T17:54:37.043918Z",
     "iopub.status.idle": "2023-10-21T17:54:37.051604Z",
     "shell.execute_reply": "2023-10-21T17:54:37.050448Z"
    },
    "papermill": {
     "duration": 0.083257,
     "end_time": "2023-10-21T17:54:37.053828",
     "exception": false,
     "start_time": "2023-10-21T17:54:36.970571",
     "status": "completed"
    },
    "tags": []
   },
   "outputs": [
    {
     "data": {
      "text/plain": [
       "dict_items([('beautiful', 'swapna is a beautiful women'), ('smart', 'tayyab is a smart person'), ('clever', 'parth is clever')])"
      ]
     },
     "execution_count": 68,
     "metadata": {},
     "output_type": "execute_result"
    }
   ],
   "source": [
    "t.items()"
   ]
  },
  {
   "cell_type": "code",
   "execution_count": 69,
   "id": "8d51437b",
   "metadata": {
    "execution": {
     "iopub.execute_input": "2023-10-21T17:54:37.203055Z",
     "iopub.status.busy": "2023-10-21T17:54:37.201902Z",
     "iopub.status.idle": "2023-10-21T17:54:37.209691Z",
     "shell.execute_reply": "2023-10-21T17:54:37.208782Z"
    },
    "papermill": {
     "duration": 0.083288,
     "end_time": "2023-10-21T17:54:37.211952",
     "exception": false,
     "start_time": "2023-10-21T17:54:37.128664",
     "status": "completed"
    },
    "tags": []
   },
   "outputs": [
    {
     "data": {
      "text/plain": [
       "3"
      ]
     },
     "execution_count": 69,
     "metadata": {},
     "output_type": "execute_result"
    }
   ],
   "source": [
    "ch = { \"c1\" :\n",
    "                   {\"c1.1\" :  \"chapter1.1\",\n",
    "                    \n",
    "                    \"c1.2\" :  \n",
    "                             {\"c1.2.1\" : \"chapter mlv\",\n",
    "                              \"c1.2.2\" : [10,20,30,40]},\n",
    "                    \n",
    "                    \"c1.3\" :  \"chapter1.3\"},\n",
    "     \"c2\" : \"chapter2\",\n",
    "     \"c3\" : \"chapter3\"}\n",
    "\n",
    "len(ch)"
   ]
  },
  {
   "cell_type": "code",
   "execution_count": 70,
   "id": "65b2ebc2",
   "metadata": {
    "execution": {
     "iopub.execute_input": "2023-10-21T17:54:37.358001Z",
     "iopub.status.busy": "2023-10-21T17:54:37.357617Z",
     "iopub.status.idle": "2023-10-21T17:54:37.364789Z",
     "shell.execute_reply": "2023-10-21T17:54:37.363603Z"
    },
    "papermill": {
     "duration": 0.082798,
     "end_time": "2023-10-21T17:54:37.367245",
     "exception": false,
     "start_time": "2023-10-21T17:54:37.284447",
     "status": "completed"
    },
    "tags": []
   },
   "outputs": [
    {
     "data": {
      "text/plain": [
       "10"
      ]
     },
     "execution_count": 70,
     "metadata": {},
     "output_type": "execute_result"
    }
   ],
   "source": [
    "ch[\"c1\"][\"c1.2\"][\"c1.2.2\"][0]"
   ]
  },
  {
   "cell_type": "code",
   "execution_count": 71,
   "id": "b91acea1",
   "metadata": {
    "execution": {
     "iopub.execute_input": "2023-10-21T17:54:37.518470Z",
     "iopub.status.busy": "2023-10-21T17:54:37.518046Z",
     "iopub.status.idle": "2023-10-21T17:54:37.522474Z",
     "shell.execute_reply": "2023-10-21T17:54:37.521668Z"
    },
    "papermill": {
     "duration": 0.082031,
     "end_time": "2023-10-21T17:54:37.524723",
     "exception": false,
     "start_time": "2023-10-21T17:54:37.442692",
     "status": "completed"
    },
    "tags": []
   },
   "outputs": [],
   "source": [
    "ch[\"c3\"] = \"sush\""
   ]
  },
  {
   "cell_type": "code",
   "execution_count": 72,
   "id": "79de754d",
   "metadata": {
    "execution": {
     "iopub.execute_input": "2023-10-21T17:54:37.672702Z",
     "iopub.status.busy": "2023-10-21T17:54:37.671978Z",
     "iopub.status.idle": "2023-10-21T17:54:37.679022Z",
     "shell.execute_reply": "2023-10-21T17:54:37.678038Z"
    },
    "papermill": {
     "duration": 0.083755,
     "end_time": "2023-10-21T17:54:37.681202",
     "exception": false,
     "start_time": "2023-10-21T17:54:37.597447",
     "status": "completed"
    },
    "tags": []
   },
   "outputs": [
    {
     "data": {
      "text/plain": [
       "3"
      ]
     },
     "execution_count": 72,
     "metadata": {},
     "output_type": "execute_result"
    }
   ],
   "source": [
    "len(ch.items())"
   ]
  },
  {
   "cell_type": "code",
   "execution_count": 73,
   "id": "980b2e75",
   "metadata": {
    "execution": {
     "iopub.execute_input": "2023-10-21T17:54:37.829865Z",
     "iopub.status.busy": "2023-10-21T17:54:37.829211Z",
     "iopub.status.idle": "2023-10-21T17:54:37.835311Z",
     "shell.execute_reply": "2023-10-21T17:54:37.834548Z"
    },
    "papermill": {
     "duration": 0.083095,
     "end_time": "2023-10-21T17:54:37.837439",
     "exception": false,
     "start_time": "2023-10-21T17:54:37.754344",
     "status": "completed"
    },
    "tags": []
   },
   "outputs": [
    {
     "data": {
      "text/plain": [
       "{'c1': {'c1.1': 'chapter1.1',\n",
       "  'c1.2': {'c1.2.1': 'chapter mlv', 'c1.2.2': [10, 20, 30, 40]},\n",
       "  'c1.3': 'chapter1.3'},\n",
       " 'c2': 'chapter2',\n",
       " 'c3': 'sush'}"
      ]
     },
     "execution_count": 73,
     "metadata": {},
     "output_type": "execute_result"
    }
   ],
   "source": [
    "ch"
   ]
  },
  {
   "cell_type": "markdown",
   "id": "cca6f473",
   "metadata": {
    "papermill": {
     "duration": 0.072289,
     "end_time": "2023-10-21T17:54:37.984569",
     "exception": false,
     "start_time": "2023-10-21T17:54:37.912280",
     "status": "completed"
    },
    "tags": []
   },
   "source": [
    "# type\n",
    "int()\n",
    "float()\n",
    "str()"
   ]
  },
  {
   "cell_type": "markdown",
   "id": "80ebf572",
   "metadata": {
    "papermill": {
     "duration": 0.074082,
     "end_time": "2023-10-21T17:54:38.131640",
     "exception": false,
     "start_time": "2023-10-21T17:54:38.057558",
     "status": "completed"
    },
    "tags": []
   },
   "source": [
    "# data structure casting\n",
    "## list()  tuple() set()  dict()"
   ]
  },
  {
   "cell_type": "code",
   "execution_count": 74,
   "id": "de380973",
   "metadata": {
    "execution": {
     "iopub.execute_input": "2023-10-21T17:54:38.278722Z",
     "iopub.status.busy": "2023-10-21T17:54:38.278309Z",
     "iopub.status.idle": "2023-10-21T17:54:38.284825Z",
     "shell.execute_reply": "2023-10-21T17:54:38.283737Z"
    },
    "papermill": {
     "duration": 0.082804,
     "end_time": "2023-10-21T17:54:38.287037",
     "exception": false,
     "start_time": "2023-10-21T17:54:38.204233",
     "status": "completed"
    },
    "tags": []
   },
   "outputs": [
    {
     "data": {
      "text/plain": [
       "list"
      ]
     },
     "execution_count": 74,
     "metadata": {},
     "output_type": "execute_result"
    }
   ],
   "source": [
    "a = [10,20,30]\n",
    "type(a)"
   ]
  },
  {
   "cell_type": "code",
   "execution_count": 75,
   "id": "d8c62a5a",
   "metadata": {
    "execution": {
     "iopub.execute_input": "2023-10-21T17:54:38.438302Z",
     "iopub.status.busy": "2023-10-21T17:54:38.437639Z",
     "iopub.status.idle": "2023-10-21T17:54:38.443383Z",
     "shell.execute_reply": "2023-10-21T17:54:38.442466Z"
    },
    "papermill": {
     "duration": 0.086014,
     "end_time": "2023-10-21T17:54:38.445572",
     "exception": false,
     "start_time": "2023-10-21T17:54:38.359558",
     "status": "completed"
    },
    "tags": []
   },
   "outputs": [
    {
     "data": {
      "text/plain": [
       "(10, 20, 30)"
      ]
     },
     "execution_count": 75,
     "metadata": {},
     "output_type": "execute_result"
    }
   ],
   "source": [
    "b = tuple(a)\n",
    "b"
   ]
  },
  {
   "cell_type": "code",
   "execution_count": 76,
   "id": "73de2402",
   "metadata": {
    "execution": {
     "iopub.execute_input": "2023-10-21T17:54:38.597434Z",
     "iopub.status.busy": "2023-10-21T17:54:38.596734Z",
     "iopub.status.idle": "2023-10-21T17:54:38.602806Z",
     "shell.execute_reply": "2023-10-21T17:54:38.601631Z"
    },
    "papermill": {
     "duration": 0.085591,
     "end_time": "2023-10-21T17:54:38.605114",
     "exception": false,
     "start_time": "2023-10-21T17:54:38.519523",
     "status": "completed"
    },
    "tags": []
   },
   "outputs": [
    {
     "data": {
      "text/plain": [
       "tuple"
      ]
     },
     "execution_count": 76,
     "metadata": {},
     "output_type": "execute_result"
    }
   ],
   "source": [
    "type(b)"
   ]
  },
  {
   "cell_type": "code",
   "execution_count": 77,
   "id": "c93e8827",
   "metadata": {
    "execution": {
     "iopub.execute_input": "2023-10-21T17:54:38.755129Z",
     "iopub.status.busy": "2023-10-21T17:54:38.754319Z",
     "iopub.status.idle": "2023-10-21T17:54:38.759180Z",
     "shell.execute_reply": "2023-10-21T17:54:38.757977Z"
    },
    "papermill": {
     "duration": 0.082033,
     "end_time": "2023-10-21T17:54:38.761828",
     "exception": false,
     "start_time": "2023-10-21T17:54:38.679795",
     "status": "completed"
    },
    "tags": []
   },
   "outputs": [],
   "source": [
    "gg = (\"sush@gmail.com\",2564856855)\n",
    "# gg[0] = \"sush@outlook.com\""
   ]
  },
  {
   "cell_type": "code",
   "execution_count": 78,
   "id": "4ec56a7f",
   "metadata": {
    "execution": {
     "iopub.execute_input": "2023-10-21T17:54:38.910611Z",
     "iopub.status.busy": "2023-10-21T17:54:38.909597Z",
     "iopub.status.idle": "2023-10-21T17:54:38.915989Z",
     "shell.execute_reply": "2023-10-21T17:54:38.914780Z"
    },
    "papermill": {
     "duration": 0.083356,
     "end_time": "2023-10-21T17:54:38.918323",
     "exception": false,
     "start_time": "2023-10-21T17:54:38.834967",
     "status": "completed"
    },
    "tags": []
   },
   "outputs": [
    {
     "data": {
      "text/plain": [
       "['sush@gmail.com', 2564856855]"
      ]
     },
     "execution_count": 78,
     "metadata": {},
     "output_type": "execute_result"
    }
   ],
   "source": [
    "gg = list(gg)\n",
    "gg"
   ]
  },
  {
   "cell_type": "code",
   "execution_count": 79,
   "id": "bf4f4b1d",
   "metadata": {
    "execution": {
     "iopub.execute_input": "2023-10-21T17:54:39.066387Z",
     "iopub.status.busy": "2023-10-21T17:54:39.065973Z",
     "iopub.status.idle": "2023-10-21T17:54:39.072934Z",
     "shell.execute_reply": "2023-10-21T17:54:39.071747Z"
    },
    "papermill": {
     "duration": 0.084038,
     "end_time": "2023-10-21T17:54:39.075315",
     "exception": false,
     "start_time": "2023-10-21T17:54:38.991277",
     "status": "completed"
    },
    "tags": []
   },
   "outputs": [
    {
     "data": {
      "text/plain": [
       "list"
      ]
     },
     "execution_count": 79,
     "metadata": {},
     "output_type": "execute_result"
    }
   ],
   "source": [
    "type(gg)"
   ]
  },
  {
   "cell_type": "code",
   "execution_count": 80,
   "id": "b9f6ea7f",
   "metadata": {
    "execution": {
     "iopub.execute_input": "2023-10-21T17:54:39.225328Z",
     "iopub.status.busy": "2023-10-21T17:54:39.224939Z",
     "iopub.status.idle": "2023-10-21T17:54:39.232073Z",
     "shell.execute_reply": "2023-10-21T17:54:39.231013Z"
    },
    "papermill": {
     "duration": 0.084453,
     "end_time": "2023-10-21T17:54:39.234598",
     "exception": false,
     "start_time": "2023-10-21T17:54:39.150145",
     "status": "completed"
    },
    "tags": []
   },
   "outputs": [
    {
     "data": {
      "text/plain": [
       "['sush@outlook.com', 2564856855]"
      ]
     },
     "execution_count": 80,
     "metadata": {},
     "output_type": "execute_result"
    }
   ],
   "source": [
    "gg[0] = \"sush@outlook.com\"\n",
    "gg"
   ]
  },
  {
   "cell_type": "code",
   "execution_count": 81,
   "id": "20500ecf",
   "metadata": {
    "execution": {
     "iopub.execute_input": "2023-10-21T17:54:39.384979Z",
     "iopub.status.busy": "2023-10-21T17:54:39.384596Z",
     "iopub.status.idle": "2023-10-21T17:54:39.391887Z",
     "shell.execute_reply": "2023-10-21T17:54:39.390829Z"
    },
    "papermill": {
     "duration": 0.086543,
     "end_time": "2023-10-21T17:54:39.394617",
     "exception": false,
     "start_time": "2023-10-21T17:54:39.308074",
     "status": "completed"
    },
    "tags": []
   },
   "outputs": [
    {
     "data": {
      "text/plain": [
       "('sush@outlook.com', 2564856855)"
      ]
     },
     "execution_count": 81,
     "metadata": {},
     "output_type": "execute_result"
    }
   ],
   "source": [
    "gg = tuple(gg)\n",
    "gg"
   ]
  },
  {
   "cell_type": "code",
   "execution_count": 82,
   "id": "fccf52e9",
   "metadata": {
    "execution": {
     "iopub.execute_input": "2023-10-21T17:54:39.547022Z",
     "iopub.status.busy": "2023-10-21T17:54:39.546652Z",
     "iopub.status.idle": "2023-10-21T17:54:39.554348Z",
     "shell.execute_reply": "2023-10-21T17:54:39.553268Z"
    },
    "papermill": {
     "duration": 0.085734,
     "end_time": "2023-10-21T17:54:39.556979",
     "exception": false,
     "start_time": "2023-10-21T17:54:39.471245",
     "status": "completed"
    },
    "tags": []
   },
   "outputs": [
    {
     "data": {
      "text/plain": [
       "('sush@outlook.com', 2564856855)"
      ]
     },
     "execution_count": 82,
     "metadata": {},
     "output_type": "execute_result"
    }
   ],
   "source": [
    "gg = (\"sush@gmail.com\",2564856855)\n",
    "gg = list(gg)\n",
    "gg[0] = \"sush@outlook.com\"\n",
    "gg = tuple(gg)\n",
    "gg"
   ]
  },
  {
   "cell_type": "code",
   "execution_count": 83,
   "id": "f7be1020",
   "metadata": {
    "execution": {
     "iopub.execute_input": "2023-10-21T17:54:39.709371Z",
     "iopub.status.busy": "2023-10-21T17:54:39.708974Z",
     "iopub.status.idle": "2023-10-21T17:54:39.716352Z",
     "shell.execute_reply": "2023-10-21T17:54:39.715254Z"
    },
    "papermill": {
     "duration": 0.086788,
     "end_time": "2023-10-21T17:54:39.718817",
     "exception": false,
     "start_time": "2023-10-21T17:54:39.632029",
     "status": "completed"
    },
    "tags": []
   },
   "outputs": [
    {
     "data": {
      "text/plain": [
       "[10, 20, 30]"
      ]
     },
     "execution_count": 83,
     "metadata": {},
     "output_type": "execute_result"
    }
   ],
   "source": [
    "a = [10,20,30,10]\n",
    "a = list(set(a))\n",
    "a"
   ]
  },
  {
   "cell_type": "code",
   "execution_count": 84,
   "id": "912ab7cc",
   "metadata": {
    "execution": {
     "iopub.execute_input": "2023-10-21T17:54:39.870703Z",
     "iopub.status.busy": "2023-10-21T17:54:39.869976Z",
     "iopub.status.idle": "2023-10-21T17:54:39.876015Z",
     "shell.execute_reply": "2023-10-21T17:54:39.875114Z"
    },
    "papermill": {
     "duration": 0.084973,
     "end_time": "2023-10-21T17:54:39.878313",
     "exception": false,
     "start_time": "2023-10-21T17:54:39.793340",
     "status": "completed"
    },
    "tags": []
   },
   "outputs": [
    {
     "data": {
      "text/plain": [
       "[10, 20, 30]"
      ]
     },
     "execution_count": 84,
     "metadata": {},
     "output_type": "execute_result"
    }
   ],
   "source": [
    "a = list(set(a))\n",
    "a"
   ]
  },
  {
   "cell_type": "code",
   "execution_count": 85,
   "id": "fa6fb1fb",
   "metadata": {
    "execution": {
     "iopub.execute_input": "2023-10-21T17:54:40.034009Z",
     "iopub.status.busy": "2023-10-21T17:54:40.033343Z",
     "iopub.status.idle": "2023-10-21T17:54:40.039450Z",
     "shell.execute_reply": "2023-10-21T17:54:40.038432Z"
    },
    "papermill": {
     "duration": 0.085583,
     "end_time": "2023-10-21T17:54:40.041839",
     "exception": false,
     "start_time": "2023-10-21T17:54:39.956256",
     "status": "completed"
    },
    "tags": []
   },
   "outputs": [
    {
     "data": {
      "text/plain": [
       "{10, 20, 30}"
      ]
     },
     "execution_count": 85,
     "metadata": {},
     "output_type": "execute_result"
    }
   ],
   "source": [
    "c = { 10,20,30,30}\n",
    "c \n",
    "\n"
   ]
  },
  {
   "cell_type": "code",
   "execution_count": 86,
   "id": "1867ce08",
   "metadata": {
    "execution": {
     "iopub.execute_input": "2023-10-21T17:54:40.195350Z",
     "iopub.status.busy": "2023-10-21T17:54:40.194941Z",
     "iopub.status.idle": "2023-10-21T17:54:40.201158Z",
     "shell.execute_reply": "2023-10-21T17:54:40.200002Z"
    },
    "papermill": {
     "duration": 0.085627,
     "end_time": "2023-10-21T17:54:40.204575",
     "exception": false,
     "start_time": "2023-10-21T17:54:40.118948",
     "status": "completed"
    },
    "tags": []
   },
   "outputs": [
    {
     "name": "stdout",
     "output_type": "stream",
     "text": [
      "3\n"
     ]
    }
   ],
   "source": [
    "thislist = [\"apple\", \"banana\", \"cherry\"]\n",
    "print(len(thislist))"
   ]
  },
  {
   "cell_type": "code",
   "execution_count": 87,
   "id": "7ba43b4b",
   "metadata": {
    "execution": {
     "iopub.execute_input": "2023-10-21T17:54:40.356447Z",
     "iopub.status.busy": "2023-10-21T17:54:40.356038Z",
     "iopub.status.idle": "2023-10-21T17:54:40.361988Z",
     "shell.execute_reply": "2023-10-21T17:54:40.360831Z"
    },
    "papermill": {
     "duration": 0.085243,
     "end_time": "2023-10-21T17:54:40.365246",
     "exception": false,
     "start_time": "2023-10-21T17:54:40.280003",
     "status": "completed"
    },
    "tags": []
   },
   "outputs": [
    {
     "name": "stdout",
     "output_type": "stream",
     "text": [
      "['apple', 'banana', 'cherry']\n"
     ]
    }
   ],
   "source": [
    "thislist = list((\"apple\", \"banana\", \"cherry\")) # note the double round-brackets\n",
    "print(thislist)"
   ]
  },
  {
   "cell_type": "code",
   "execution_count": 88,
   "id": "e78b9a3b",
   "metadata": {
    "execution": {
     "iopub.execute_input": "2023-10-21T17:54:40.520057Z",
     "iopub.status.busy": "2023-10-21T17:54:40.519664Z",
     "iopub.status.idle": "2023-10-21T17:54:40.525983Z",
     "shell.execute_reply": "2023-10-21T17:54:40.524683Z"
    },
    "papermill": {
     "duration": 0.086296,
     "end_time": "2023-10-21T17:54:40.528754",
     "exception": false,
     "start_time": "2023-10-21T17:54:40.442458",
     "status": "completed"
    },
    "tags": []
   },
   "outputs": [
    {
     "name": "stdout",
     "output_type": "stream",
     "text": [
      "['apple', 'banana', 'cherry', 'orange', 'kiwi', 'melon', 'mango']\n"
     ]
    }
   ],
   "source": [
    "thislist = [\"apple\", \"banana\", \"cherry\", \"orange\", \"kiwi\", \"melon\", \"mango\"]\n",
    "print(thislist[:])"
   ]
  },
  {
   "cell_type": "code",
   "execution_count": 89,
   "id": "4e213cf4",
   "metadata": {
    "execution": {
     "iopub.execute_input": "2023-10-21T17:54:40.749715Z",
     "iopub.status.busy": "2023-10-21T17:54:40.749326Z",
     "iopub.status.idle": "2023-10-21T17:54:40.755463Z",
     "shell.execute_reply": "2023-10-21T17:54:40.754425Z"
    },
    "papermill": {
     "duration": 0.152054,
     "end_time": "2023-10-21T17:54:40.757935",
     "exception": false,
     "start_time": "2023-10-21T17:54:40.605881",
     "status": "completed"
    },
    "tags": []
   },
   "outputs": [
    {
     "name": "stdout",
     "output_type": "stream",
     "text": [
      "['orange', 'kiwi', 'melon']\n"
     ]
    }
   ],
   "source": [
    "thislist = [\"apple\", \"banana\", \"cherry\", \"orange\", \"kiwi\", \"melon\", \"mango\"]\n",
    "print(thislist[-4:-1])"
   ]
  },
  {
   "cell_type": "code",
   "execution_count": 90,
   "id": "b7800135",
   "metadata": {
    "execution": {
     "iopub.execute_input": "2023-10-21T17:54:40.911829Z",
     "iopub.status.busy": "2023-10-21T17:54:40.911420Z",
     "iopub.status.idle": "2023-10-21T17:54:40.917428Z",
     "shell.execute_reply": "2023-10-21T17:54:40.916336Z"
    },
    "papermill": {
     "duration": 0.088304,
     "end_time": "2023-10-21T17:54:40.921134",
     "exception": false,
     "start_time": "2023-10-21T17:54:40.832830",
     "status": "completed"
    },
    "tags": []
   },
   "outputs": [
    {
     "name": "stdout",
     "output_type": "stream",
     "text": [
      "['apple', 'blackcurrant', 'cherry']\n"
     ]
    }
   ],
   "source": [
    "thislist = [\"apple\", \"banana\", \"cherry\"]\n",
    "thislist[1] = \"blackcurrant\"\n",
    "print(thislist)"
   ]
  },
  {
   "cell_type": "code",
   "execution_count": 91,
   "id": "f7a5fa47",
   "metadata": {
    "execution": {
     "iopub.execute_input": "2023-10-21T17:54:41.077454Z",
     "iopub.status.busy": "2023-10-21T17:54:41.077022Z",
     "iopub.status.idle": "2023-10-21T17:54:41.084787Z",
     "shell.execute_reply": "2023-10-21T17:54:41.083610Z"
    },
    "papermill": {
     "duration": 0.088869,
     "end_time": "2023-10-21T17:54:41.087433",
     "exception": false,
     "start_time": "2023-10-21T17:54:40.998564",
     "status": "completed"
    },
    "tags": []
   },
   "outputs": [
    {
     "data": {
      "text/plain": [
       "['apple', 'banana', 'cherry', 'orange']"
      ]
     },
     "execution_count": 91,
     "metadata": {},
     "output_type": "execute_result"
    }
   ],
   "source": [
    "fruits = ['apple', 'banana', 'cherry']\n",
    "fruits.append(\"orange\")\n",
    "fruits"
   ]
  },
  {
   "cell_type": "code",
   "execution_count": 92,
   "id": "0047a1c3",
   "metadata": {
    "execution": {
     "iopub.execute_input": "2023-10-21T17:54:41.242749Z",
     "iopub.status.busy": "2023-10-21T17:54:41.242333Z",
     "iopub.status.idle": "2023-10-21T17:54:41.247963Z",
     "shell.execute_reply": "2023-10-21T17:54:41.246672Z"
    },
    "papermill": {
     "duration": 0.08658,
     "end_time": "2023-10-21T17:54:41.250528",
     "exception": false,
     "start_time": "2023-10-21T17:54:41.163948",
     "status": "completed"
    },
    "tags": []
   },
   "outputs": [],
   "source": [
    "fruits = ['apple', 'banana', 'cherry', 'orange']\n",
    "\n",
    "fruits.clear()"
   ]
  },
  {
   "cell_type": "code",
   "execution_count": 93,
   "id": "3e4d631b",
   "metadata": {
    "execution": {
     "iopub.execute_input": "2023-10-21T17:54:41.414482Z",
     "iopub.status.busy": "2023-10-21T17:54:41.413990Z",
     "iopub.status.idle": "2023-10-21T17:54:41.423649Z",
     "shell.execute_reply": "2023-10-21T17:54:41.422232Z"
    },
    "papermill": {
     "duration": 0.095898,
     "end_time": "2023-10-21T17:54:41.426380",
     "exception": false,
     "start_time": "2023-10-21T17:54:41.330482",
     "status": "completed"
    },
    "tags": []
   },
   "outputs": [
    {
     "data": {
      "text/plain": [
       "[]"
      ]
     },
     "execution_count": 93,
     "metadata": {},
     "output_type": "execute_result"
    }
   ],
   "source": [
    "fruits "
   ]
  },
  {
   "cell_type": "code",
   "execution_count": 94,
   "id": "cbd8d50f",
   "metadata": {
    "execution": {
     "iopub.execute_input": "2023-10-21T17:54:41.587493Z",
     "iopub.status.busy": "2023-10-21T17:54:41.587073Z",
     "iopub.status.idle": "2023-10-21T17:54:41.594960Z",
     "shell.execute_reply": "2023-10-21T17:54:41.593879Z"
    },
    "papermill": {
     "duration": 0.087997,
     "end_time": "2023-10-21T17:54:41.597489",
     "exception": false,
     "start_time": "2023-10-21T17:54:41.509492",
     "status": "completed"
    },
    "tags": []
   },
   "outputs": [
    {
     "data": {
      "text/plain": [
       "2"
      ]
     },
     "execution_count": 94,
     "metadata": {},
     "output_type": "execute_result"
    }
   ],
   "source": [
    "tay = ['sush', 'sush', 'cherry']\n",
    "\n",
    "tay.count(\"sush\")"
   ]
  },
  {
   "cell_type": "code",
   "execution_count": 95,
   "id": "af1a610c",
   "metadata": {
    "execution": {
     "iopub.execute_input": "2023-10-21T17:54:41.753056Z",
     "iopub.status.busy": "2023-10-21T17:54:41.752687Z",
     "iopub.status.idle": "2023-10-21T17:54:41.760332Z",
     "shell.execute_reply": "2023-10-21T17:54:41.759209Z"
    },
    "papermill": {
     "duration": 0.089559,
     "end_time": "2023-10-21T17:54:41.762817",
     "exception": false,
     "start_time": "2023-10-21T17:54:41.673258",
     "status": "completed"
    },
    "tags": []
   },
   "outputs": [
    {
     "data": {
      "text/plain": [
       "1"
      ]
     },
     "execution_count": 95,
     "metadata": {},
     "output_type": "execute_result"
    }
   ],
   "source": [
    "fruits = ['apple', 'banana', 'cherry']\n",
    "\n",
    "points = (1, 4, 5, 9)\n",
    "\n",
    "fruits.extend(points)\n",
    "fruits[3]"
   ]
  },
  {
   "cell_type": "code",
   "execution_count": 96,
   "id": "55418c2a",
   "metadata": {
    "execution": {
     "iopub.execute_input": "2023-10-21T17:54:41.915392Z",
     "iopub.status.busy": "2023-10-21T17:54:41.915039Z",
     "iopub.status.idle": "2023-10-21T17:54:41.922813Z",
     "shell.execute_reply": "2023-10-21T17:54:41.922034Z"
    },
    "papermill": {
     "duration": 0.087008,
     "end_time": "2023-10-21T17:54:41.925137",
     "exception": false,
     "start_time": "2023-10-21T17:54:41.838129",
     "status": "completed"
    },
    "tags": []
   },
   "outputs": [
    {
     "data": {
      "text/plain": [
       "['apple', 'banana', 'cherry', (1, 4, 5, 9)]"
      ]
     },
     "execution_count": 96,
     "metadata": {},
     "output_type": "execute_result"
    }
   ],
   "source": [
    "fruits = ['apple', 'banana', 'cherry']\n",
    "\n",
    "points = (1, 4, 5, 9)\n",
    "\n",
    "fruits.append(points)\n",
    "fruits"
   ]
  },
  {
   "cell_type": "code",
   "execution_count": 97,
   "id": "775b01de",
   "metadata": {
    "execution": {
     "iopub.execute_input": "2023-10-21T17:54:42.078282Z",
     "iopub.status.busy": "2023-10-21T17:54:42.077856Z",
     "iopub.status.idle": "2023-10-21T17:54:42.084212Z",
     "shell.execute_reply": "2023-10-21T17:54:42.083098Z"
    },
    "papermill": {
     "duration": 0.086042,
     "end_time": "2023-10-21T17:54:42.086565",
     "exception": false,
     "start_time": "2023-10-21T17:54:42.000523",
     "status": "completed"
    },
    "tags": []
   },
   "outputs": [
    {
     "data": {
      "text/plain": [
       "(1, 4, 5, 9)"
      ]
     },
     "execution_count": 97,
     "metadata": {},
     "output_type": "execute_result"
    }
   ],
   "source": [
    "fruits[3]"
   ]
  },
  {
   "cell_type": "code",
   "execution_count": 98,
   "id": "9635680c",
   "metadata": {
    "execution": {
     "iopub.execute_input": "2023-10-21T17:54:42.239549Z",
     "iopub.status.busy": "2023-10-21T17:54:42.239108Z",
     "iopub.status.idle": "2023-10-21T17:54:42.246096Z",
     "shell.execute_reply": "2023-10-21T17:54:42.245243Z"
    },
    "papermill": {
     "duration": 0.086547,
     "end_time": "2023-10-21T17:54:42.248342",
     "exception": false,
     "start_time": "2023-10-21T17:54:42.161795",
     "status": "completed"
    },
    "tags": []
   },
   "outputs": [
    {
     "data": {
      "text/plain": [
       "0"
      ]
     },
     "execution_count": 98,
     "metadata": {},
     "output_type": "execute_result"
    }
   ],
   "source": [
    "fruits = ['c001asha', 'coo2swapna', 'c001asha']\n",
    "\n",
    "fruits.index(\"c001asha\")"
   ]
  },
  {
   "cell_type": "code",
   "execution_count": 99,
   "id": "0ea8fc44",
   "metadata": {
    "execution": {
     "iopub.execute_input": "2023-10-21T17:54:42.401853Z",
     "iopub.status.busy": "2023-10-21T17:54:42.401442Z",
     "iopub.status.idle": "2023-10-21T17:54:42.408115Z",
     "shell.execute_reply": "2023-10-21T17:54:42.407314Z"
    },
    "papermill": {
     "duration": 0.086093,
     "end_time": "2023-10-21T17:54:42.410139",
     "exception": false,
     "start_time": "2023-10-21T17:54:42.324046",
     "status": "completed"
    },
    "tags": []
   },
   "outputs": [
    {
     "data": {
      "text/plain": [
       "['apple', 'banana', 'orange', 'cherry']"
      ]
     },
     "execution_count": 99,
     "metadata": {},
     "output_type": "execute_result"
    }
   ],
   "source": [
    "fruits = ['apple', 'banana', 'cherry']\n",
    "\n",
    "fruits.insert(2, \"orange\")\n",
    "fruits"
   ]
  },
  {
   "cell_type": "code",
   "execution_count": 100,
   "id": "cfc05360",
   "metadata": {
    "execution": {
     "iopub.execute_input": "2023-10-21T17:54:42.568161Z",
     "iopub.status.busy": "2023-10-21T17:54:42.567749Z",
     "iopub.status.idle": "2023-10-21T17:54:42.576115Z",
     "shell.execute_reply": "2023-10-21T17:54:42.574691Z"
    },
    "papermill": {
     "duration": 0.08942,
     "end_time": "2023-10-21T17:54:42.578537",
     "exception": false,
     "start_time": "2023-10-21T17:54:42.489117",
     "status": "completed"
    },
    "tags": []
   },
   "outputs": [
    {
     "data": {
      "text/plain": [
       "'apple'"
      ]
     },
     "execution_count": 100,
     "metadata": {},
     "output_type": "execute_result"
    }
   ],
   "source": [
    "fruits = ['apple', 'banana', 'cherry']\n",
    "a = fruits.pop(0)\n",
    "a"
   ]
  },
  {
   "cell_type": "code",
   "execution_count": 101,
   "id": "6d510ef3",
   "metadata": {
    "execution": {
     "iopub.execute_input": "2023-10-21T17:54:42.732679Z",
     "iopub.status.busy": "2023-10-21T17:54:42.732258Z",
     "iopub.status.idle": "2023-10-21T17:54:42.739492Z",
     "shell.execute_reply": "2023-10-21T17:54:42.738463Z"
    },
    "papermill": {
     "duration": 0.087147,
     "end_time": "2023-10-21T17:54:42.741702",
     "exception": false,
     "start_time": "2023-10-21T17:54:42.654555",
     "status": "completed"
    },
    "tags": []
   },
   "outputs": [
    {
     "data": {
      "text/plain": [
       "0"
      ]
     },
     "execution_count": 101,
     "metadata": {},
     "output_type": "execute_result"
    }
   ],
   "source": [
    "fruits = ['apple', 'banana', 'cherry']\n",
    "a = fruits.index(\"apple\")\n",
    "a"
   ]
  },
  {
   "cell_type": "code",
   "execution_count": 102,
   "id": "9f4e2ef8",
   "metadata": {
    "execution": {
     "iopub.execute_input": "2023-10-21T17:54:42.897277Z",
     "iopub.status.busy": "2023-10-21T17:54:42.896227Z",
     "iopub.status.idle": "2023-10-21T17:54:42.903361Z",
     "shell.execute_reply": "2023-10-21T17:54:42.902485Z"
    },
    "papermill": {
     "duration": 0.087275,
     "end_time": "2023-10-21T17:54:42.905362",
     "exception": false,
     "start_time": "2023-10-21T17:54:42.818087",
     "status": "completed"
    },
    "tags": []
   },
   "outputs": [
    {
     "data": {
      "text/plain": [
       "['apple', 'banana', 'banana']"
      ]
     },
     "execution_count": 102,
     "metadata": {},
     "output_type": "execute_result"
    }
   ],
   "source": [
    "fruits = ['banana', \"apple\",'banana', 'banana']\n",
    "\n",
    "fruits.remove(\"banana\")\n",
    "fruits \n",
    "\n",
    "# ctr a\n",
    "#  ctr /"
   ]
  },
  {
   "cell_type": "code",
   "execution_count": 103,
   "id": "99bae47d",
   "metadata": {
    "execution": {
     "iopub.execute_input": "2023-10-21T17:54:43.061209Z",
     "iopub.status.busy": "2023-10-21T17:54:43.060832Z",
     "iopub.status.idle": "2023-10-21T17:54:43.067644Z",
     "shell.execute_reply": "2023-10-21T17:54:43.066587Z"
    },
    "papermill": {
     "duration": 0.087952,
     "end_time": "2023-10-21T17:54:43.069893",
     "exception": false,
     "start_time": "2023-10-21T17:54:42.981941",
     "status": "completed"
    },
    "tags": []
   },
   "outputs": [
    {
     "data": {
      "text/plain": [
       "['cherry', 'banana', 'apple']"
      ]
     },
     "execution_count": 103,
     "metadata": {},
     "output_type": "execute_result"
    }
   ],
   "source": [
    "fruits = ['apple', 'banana', 'cherry']\n",
    "\n",
    "fruits.reverse()\n",
    "fruits"
   ]
  },
  {
   "cell_type": "code",
   "execution_count": 104,
   "id": "627181bb",
   "metadata": {
    "execution": {
     "iopub.execute_input": "2023-10-21T17:54:43.226120Z",
     "iopub.status.busy": "2023-10-21T17:54:43.225687Z",
     "iopub.status.idle": "2023-10-21T17:54:43.232797Z",
     "shell.execute_reply": "2023-10-21T17:54:43.231834Z"
    },
    "papermill": {
     "duration": 0.087742,
     "end_time": "2023-10-21T17:54:43.235278",
     "exception": false,
     "start_time": "2023-10-21T17:54:43.147536",
     "status": "completed"
    },
    "tags": []
   },
   "outputs": [
    {
     "data": {
      "text/plain": [
       "[20, 11, 9, 30]"
      ]
     },
     "execution_count": 104,
     "metadata": {},
     "output_type": "execute_result"
    }
   ],
   "source": [
    "a= [20,11,9,30]\n",
    "a"
   ]
  },
  {
   "cell_type": "code",
   "execution_count": 105,
   "id": "6119c970",
   "metadata": {
    "execution": {
     "iopub.execute_input": "2023-10-21T17:54:43.391711Z",
     "iopub.status.busy": "2023-10-21T17:54:43.390743Z",
     "iopub.status.idle": "2023-10-21T17:54:43.398612Z",
     "shell.execute_reply": "2023-10-21T17:54:43.397581Z"
    },
    "papermill": {
     "duration": 0.088506,
     "end_time": "2023-10-21T17:54:43.400780",
     "exception": false,
     "start_time": "2023-10-21T17:54:43.312274",
     "status": "completed"
    },
    "tags": []
   },
   "outputs": [
    {
     "data": {
      "text/plain": [
       "[30, 20, 11, 9]"
      ]
     },
     "execution_count": 105,
     "metadata": {},
     "output_type": "execute_result"
    }
   ],
   "source": [
    "a.sort(reverse = True)\n",
    "a"
   ]
  },
  {
   "cell_type": "code",
   "execution_count": 106,
   "id": "06e71c94",
   "metadata": {
    "execution": {
     "iopub.execute_input": "2023-10-21T17:54:43.561017Z",
     "iopub.status.busy": "2023-10-21T17:54:43.560606Z",
     "iopub.status.idle": "2023-10-21T17:54:43.568536Z",
     "shell.execute_reply": "2023-10-21T17:54:43.567299Z"
    },
    "papermill": {
     "duration": 0.089413,
     "end_time": "2023-10-21T17:54:43.570956",
     "exception": false,
     "start_time": "2023-10-21T17:54:43.481543",
     "status": "completed"
    },
    "tags": []
   },
   "outputs": [
    {
     "data": {
      "text/plain": [
       "[10, 20, 30, [40, 50, 60]]"
      ]
     },
     "execution_count": 106,
     "metadata": {},
     "output_type": "execute_result"
    }
   ],
   "source": [
    "d = [10,20,30]\n",
    "d.append([40,50,60])\n",
    "d"
   ]
  },
  {
   "cell_type": "code",
   "execution_count": 107,
   "id": "b9859fc0",
   "metadata": {
    "execution": {
     "iopub.execute_input": "2023-10-21T17:54:43.727741Z",
     "iopub.status.busy": "2023-10-21T17:54:43.727045Z",
     "iopub.status.idle": "2023-10-21T17:54:43.734837Z",
     "shell.execute_reply": "2023-10-21T17:54:43.733761Z"
    },
    "papermill": {
     "duration": 0.089107,
     "end_time": "2023-10-21T17:54:43.737460",
     "exception": false,
     "start_time": "2023-10-21T17:54:43.648353",
     "status": "completed"
    },
    "tags": []
   },
   "outputs": [
    {
     "data": {
      "text/plain": [
       "[10, 20, 30, 40, 50, 60]"
      ]
     },
     "execution_count": 107,
     "metadata": {},
     "output_type": "execute_result"
    }
   ],
   "source": [
    "e = [10,20,30]\n",
    "e.extend([40,50,60])\n",
    "e"
   ]
  },
  {
   "cell_type": "code",
   "execution_count": 108,
   "id": "42407a77",
   "metadata": {
    "execution": {
     "iopub.execute_input": "2023-10-21T17:54:43.905726Z",
     "iopub.status.busy": "2023-10-21T17:54:43.905194Z",
     "iopub.status.idle": "2023-10-21T17:54:43.914056Z",
     "shell.execute_reply": "2023-10-21T17:54:43.912799Z"
    },
    "papermill": {
     "duration": 0.100274,
     "end_time": "2023-10-21T17:54:43.916320",
     "exception": false,
     "start_time": "2023-10-21T17:54:43.816046",
     "status": "completed"
    },
    "tags": []
   },
   "outputs": [
    {
     "data": {
      "text/plain": [
       "[2, 3, 4]"
      ]
     },
     "execution_count": 108,
     "metadata": {},
     "output_type": "execute_result"
    }
   ],
   "source": [
    "a = [2,3,4,4]\n",
    "a = list(set(a))\n",
    "a"
   ]
  },
  {
   "cell_type": "code",
   "execution_count": 109,
   "id": "a24fb72f",
   "metadata": {
    "execution": {
     "iopub.execute_input": "2023-10-21T17:54:44.080928Z",
     "iopub.status.busy": "2023-10-21T17:54:44.080536Z",
     "iopub.status.idle": "2023-10-21T17:54:44.086258Z",
     "shell.execute_reply": "2023-10-21T17:54:44.085200Z"
    },
    "papermill": {
     "duration": 0.089764,
     "end_time": "2023-10-21T17:54:44.088426",
     "exception": false,
     "start_time": "2023-10-21T17:54:43.998662",
     "status": "completed"
    },
    "tags": []
   },
   "outputs": [
    {
     "name": "stdout",
     "output_type": "stream",
     "text": [
      "yes\n",
      "tayyab\n",
      "prasad\n"
     ]
    }
   ],
   "source": [
    "if 9 > 6 : \n",
    "    print(\"yes\")\n",
    "    print(\"tayyab\")\n",
    "    \n",
    "print(\"prasad\")\n"
   ]
  },
  {
   "cell_type": "code",
   "execution_count": 110,
   "id": "a6dbbbe1",
   "metadata": {
    "execution": {
     "iopub.execute_input": "2023-10-21T17:54:44.265868Z",
     "iopub.status.busy": "2023-10-21T17:54:44.264698Z",
     "iopub.status.idle": "2023-10-21T17:54:44.271772Z",
     "shell.execute_reply": "2023-10-21T17:54:44.270353Z"
    },
    "papermill": {
     "duration": 0.102474,
     "end_time": "2023-10-21T17:54:44.274740",
     "exception": false,
     "start_time": "2023-10-21T17:54:44.172266",
     "status": "completed"
    },
    "tags": []
   },
   "outputs": [
    {
     "name": "stdout",
     "output_type": "stream",
     "text": [
      "prasad\n"
     ]
    }
   ],
   "source": [
    "if 9 > 16 : \n",
    "    print(\"yes\")\n",
    "    print(\"tayyab\")\n",
    "    \n",
    "print(\"prasad\")"
   ]
  },
  {
   "cell_type": "code",
   "execution_count": 111,
   "id": "407cdec9",
   "metadata": {
    "execution": {
     "iopub.execute_input": "2023-10-21T17:54:44.438545Z",
     "iopub.status.busy": "2023-10-21T17:54:44.437676Z",
     "iopub.status.idle": "2023-10-21T17:54:44.442638Z",
     "shell.execute_reply": "2023-10-21T17:54:44.441651Z"
    },
    "papermill": {
     "duration": 0.091262,
     "end_time": "2023-10-21T17:54:44.445253",
     "exception": false,
     "start_time": "2023-10-21T17:54:44.353991",
     "status": "completed"
    },
    "tags": []
   },
   "outputs": [],
   "source": [
    "# select *\n",
    "#             from table1"
   ]
  },
  {
   "cell_type": "code",
   "execution_count": 112,
   "id": "684089f4",
   "metadata": {
    "execution": {
     "iopub.execute_input": "2023-10-21T17:54:44.607392Z",
     "iopub.status.busy": "2023-10-21T17:54:44.606549Z",
     "iopub.status.idle": "2023-10-21T17:54:44.615035Z",
     "shell.execute_reply": "2023-10-21T17:54:44.613396Z"
    },
    "papermill": {
     "duration": 0.093281,
     "end_time": "2023-10-21T17:54:44.617469",
     "exception": false,
     "start_time": "2023-10-21T17:54:44.524188",
     "status": "completed"
    },
    "tags": []
   },
   "outputs": [
    {
     "name": "stdout",
     "output_type": "stream",
     "text": [
      "the girl got distinction\n",
      "distinction\n"
     ]
    }
   ],
   "source": [
    "marks = 80\n",
    "gender = \"female\"\n",
    "\n",
    "\n",
    "if marks > 75 :  \n",
    "    if gender == \"male\" :\n",
    "        print(\"the boy got distinction\")\n",
    "    else :\n",
    "        print(\"the girl got distinction\")        \n",
    "    print(\"distinction\")\n",
    "elif marks > 50 :\n",
    "    print(\"pass\")\n",
    "else :\n",
    "    print(\"fail\")"
   ]
  },
  {
   "cell_type": "code",
   "execution_count": 113,
   "id": "5f743cb2",
   "metadata": {
    "execution": {
     "iopub.execute_input": "2023-10-21T17:54:44.779686Z",
     "iopub.status.busy": "2023-10-21T17:54:44.778830Z",
     "iopub.status.idle": "2023-10-21T17:54:44.785968Z",
     "shell.execute_reply": "2023-10-21T17:54:44.784317Z"
    },
    "papermill": {
     "duration": 0.092879,
     "end_time": "2023-10-21T17:54:44.790123",
     "exception": false,
     "start_time": "2023-10-21T17:54:44.697244",
     "status": "completed"
    },
    "tags": []
   },
   "outputs": [
    {
     "name": "stdout",
     "output_type": "stream",
     "text": [
      "mlv 100\n",
      "mlv 97\n",
      "mlv 94\n",
      "mlv 91\n"
     ]
    }
   ],
   "source": [
    "salary = 100\n",
    "\n",
    "while salary > 90 :\n",
    "    print(\"mlv\",salary )\n",
    "    salary = salary - 3"
   ]
  },
  {
   "cell_type": "code",
   "execution_count": 114,
   "id": "ed5720cd",
   "metadata": {
    "execution": {
     "iopub.execute_input": "2023-10-21T17:54:44.950777Z",
     "iopub.status.busy": "2023-10-21T17:54:44.950361Z",
     "iopub.status.idle": "2023-10-21T17:54:44.956745Z",
     "shell.execute_reply": "2023-10-21T17:54:44.955567Z"
    },
    "papermill": {
     "duration": 0.090473,
     "end_time": "2023-10-21T17:54:44.959549",
     "exception": false,
     "start_time": "2023-10-21T17:54:44.869076",
     "status": "completed"
    },
    "tags": []
   },
   "outputs": [
    {
     "name": "stdout",
     "output_type": "stream",
     "text": [
      "10\n",
      "----\n",
      "13\n",
      "----\n",
      "16\n",
      "----\n",
      "19\n",
      "----\n"
     ]
    }
   ],
   "source": [
    "for i in  range(10,20,3) :\n",
    "    print(i)\n",
    "    print(\"----\")"
   ]
  },
  {
   "cell_type": "code",
   "execution_count": 115,
   "id": "c9ab5940",
   "metadata": {
    "execution": {
     "iopub.execute_input": "2023-10-21T17:54:45.118645Z",
     "iopub.status.busy": "2023-10-21T17:54:45.117868Z",
     "iopub.status.idle": "2023-10-21T17:54:45.125077Z",
     "shell.execute_reply": "2023-10-21T17:54:45.123279Z"
    },
    "papermill": {
     "duration": 0.089647,
     "end_time": "2023-10-21T17:54:45.127742",
     "exception": false,
     "start_time": "2023-10-21T17:54:45.038095",
     "status": "completed"
    },
    "tags": []
   },
   "outputs": [
    {
     "name": "stdout",
     "output_type": "stream",
     "text": [
      "10\n",
      "----\n",
      "husna\n",
      "13\n",
      "----\n",
      "husna\n",
      "16\n",
      "----\n",
      "husna\n",
      "19\n",
      "----\n",
      "husna\n"
     ]
    }
   ],
   "source": [
    "for i in  [10,13,16,19] :\n",
    "    print(i)\n",
    "    print(\"----\")\n",
    "    print(\"husna\")"
   ]
  },
  {
   "cell_type": "code",
   "execution_count": 116,
   "id": "732993ae",
   "metadata": {
    "execution": {
     "iopub.execute_input": "2023-10-21T17:54:45.355365Z",
     "iopub.status.busy": "2023-10-21T17:54:45.354599Z",
     "iopub.status.idle": "2023-10-21T17:54:45.361768Z",
     "shell.execute_reply": "2023-10-21T17:54:45.360469Z"
    },
    "papermill": {
     "duration": 0.157766,
     "end_time": "2023-10-21T17:54:45.364043",
     "exception": false,
     "start_time": "2023-10-21T17:54:45.206277",
     "status": "completed"
    },
    "tags": []
   },
   "outputs": [
    {
     "name": "stdout",
     "output_type": "stream",
     "text": [
      "the element is  10\n",
      "the element is  20\n",
      "the element is  30\n",
      "the element is  40\n",
      "the element is  50\n"
     ]
    }
   ],
   "source": [
    "a = [10,20,30,40,50]\n",
    "\n",
    "for  abhi  in a :\n",
    "    print(\"the element is \",abhi)"
   ]
  },
  {
   "cell_type": "code",
   "execution_count": 117,
   "id": "2e28dfd6",
   "metadata": {
    "execution": {
     "iopub.execute_input": "2023-10-21T17:54:45.525175Z",
     "iopub.status.busy": "2023-10-21T17:54:45.524520Z",
     "iopub.status.idle": "2023-10-21T17:54:45.531729Z",
     "shell.execute_reply": "2023-10-21T17:54:45.530499Z"
    },
    "papermill": {
     "duration": 0.090261,
     "end_time": "2023-10-21T17:54:45.534958",
     "exception": false,
     "start_time": "2023-10-21T17:54:45.444697",
     "status": "completed"
    },
    "tags": []
   },
   "outputs": [
    {
     "name": "stdout",
     "output_type": "stream",
     "text": [
      "the element is  10\n",
      "the element is  20\n",
      "the element is  30\n",
      "the element is  40\n",
      "the element is  50\n"
     ]
    }
   ],
   "source": [
    "a = [10,20,30,40,50]\n",
    "\n",
    "for abhi in range(len(a)) : # [ 0,1,2,3,4]\n",
    "    print(\"the element is \",a[abhi])\n",
    "    "
   ]
  },
  {
   "cell_type": "code",
   "execution_count": 118,
   "id": "4a0e412d",
   "metadata": {
    "execution": {
     "iopub.execute_input": "2023-10-21T17:54:45.696052Z",
     "iopub.status.busy": "2023-10-21T17:54:45.695666Z",
     "iopub.status.idle": "2023-10-21T17:54:45.701626Z",
     "shell.execute_reply": "2023-10-21T17:54:45.700495Z"
    },
    "papermill": {
     "duration": 0.089054,
     "end_time": "2023-10-21T17:54:45.703858",
     "exception": false,
     "start_time": "2023-10-21T17:54:45.614804",
     "status": "completed"
    },
    "tags": []
   },
   "outputs": [
    {
     "name": "stdout",
     "output_type": "stream",
     "text": [
      "1\n",
      "2\n",
      "3\n",
      "4\n"
     ]
    }
   ],
   "source": [
    "for i in range(1,5):\n",
    "    print(i)"
   ]
  },
  {
   "cell_type": "markdown",
   "id": "5a71a955",
   "metadata": {
    "papermill": {
     "duration": 0.078975,
     "end_time": "2023-10-21T17:54:45.862369",
     "exception": false,
     "start_time": "2023-10-21T17:54:45.783394",
     "status": "completed"
    },
    "tags": []
   },
   "source": [
    "### "
   ]
  },
  {
   "cell_type": "code",
   "execution_count": 119,
   "id": "645e0c81",
   "metadata": {
    "execution": {
     "iopub.execute_input": "2023-10-21T17:54:46.020965Z",
     "iopub.status.busy": "2023-10-21T17:54:46.020418Z",
     "iopub.status.idle": "2023-10-21T17:54:46.027598Z",
     "shell.execute_reply": "2023-10-21T17:54:46.026484Z"
    },
    "papermill": {
     "duration": 0.089381,
     "end_time": "2023-10-21T17:54:46.030108",
     "exception": false,
     "start_time": "2023-10-21T17:54:45.940727",
     "status": "completed"
    },
    "tags": []
   },
   "outputs": [
    {
     "name": "stdout",
     "output_type": "stream",
     "text": [
      "{'orange', 'cherry', 'apple', 'banana'}\n"
     ]
    }
   ],
   "source": [
    "fruits = {\"apple\", \"banana\", \"cherry\"}\n",
    "\n",
    "fruits.add(\"orange\")\n",
    "\n",
    "print(fruits)"
   ]
  },
  {
   "cell_type": "code",
   "execution_count": 120,
   "id": "6b07539f",
   "metadata": {
    "execution": {
     "iopub.execute_input": "2023-10-21T17:54:46.188894Z",
     "iopub.status.busy": "2023-10-21T17:54:46.188518Z",
     "iopub.status.idle": "2023-10-21T17:54:46.194679Z",
     "shell.execute_reply": "2023-10-21T17:54:46.193420Z"
    },
    "papermill": {
     "duration": 0.089184,
     "end_time": "2023-10-21T17:54:46.197909",
     "exception": false,
     "start_time": "2023-10-21T17:54:46.108725",
     "status": "completed"
    },
    "tags": []
   },
   "outputs": [
    {
     "name": "stdout",
     "output_type": "stream",
     "text": [
      "{'tayyab'}\n"
     ]
    }
   ],
   "source": [
    "fruits = {\"apple\", \"banana\", \"cherry\"}\n",
    "\n",
    "fruits.clear()\n",
    "\n",
    "fruits.add(\"tayyab\")\n",
    "\n",
    "print(fruits)"
   ]
  },
  {
   "cell_type": "code",
   "execution_count": 121,
   "id": "e59939c8",
   "metadata": {
    "execution": {
     "iopub.execute_input": "2023-10-21T17:54:46.357428Z",
     "iopub.status.busy": "2023-10-21T17:54:46.357013Z",
     "iopub.status.idle": "2023-10-21T17:54:46.363538Z",
     "shell.execute_reply": "2023-10-21T17:54:46.362205Z"
    },
    "papermill": {
     "duration": 0.08958,
     "end_time": "2023-10-21T17:54:46.366707",
     "exception": false,
     "start_time": "2023-10-21T17:54:46.277127",
     "status": "completed"
    },
    "tags": []
   },
   "outputs": [
    {
     "name": "stdout",
     "output_type": "stream",
     "text": [
      "{'banana', 'cherry'}\n"
     ]
    }
   ],
   "source": [
    "x = {\"apple\", \"banana\", \"cherry\"}\n",
    "y = {\"google\", \"microsoft\", \"apple\"}\n",
    "\n",
    "z = x.difference(y)\n",
    "\n",
    "print(z)"
   ]
  },
  {
   "cell_type": "code",
   "execution_count": 122,
   "id": "ff675eb6",
   "metadata": {
    "execution": {
     "iopub.execute_input": "2023-10-21T17:54:46.530982Z",
     "iopub.status.busy": "2023-10-21T17:54:46.530598Z",
     "iopub.status.idle": "2023-10-21T17:54:46.537572Z",
     "shell.execute_reply": "2023-10-21T17:54:46.536367Z"
    },
    "papermill": {
     "duration": 0.092598,
     "end_time": "2023-10-21T17:54:46.540905",
     "exception": false,
     "start_time": "2023-10-21T17:54:46.448307",
     "status": "completed"
    },
    "tags": []
   },
   "outputs": [
    {
     "name": "stdout",
     "output_type": "stream",
     "text": [
      "{'apple'}\n"
     ]
    }
   ],
   "source": [
    "x = {\"apple\", \"banana\", \"cherry\"}\n",
    "y = {\"google\", \"microsoft\", \"apple\"}\n",
    "\n",
    "z = y.intersection(x)\n",
    "\n",
    "print(z)"
   ]
  },
  {
   "cell_type": "code",
   "execution_count": 123,
   "id": "4842c647",
   "metadata": {
    "execution": {
     "iopub.execute_input": "2023-10-21T17:54:46.705508Z",
     "iopub.status.busy": "2023-10-21T17:54:46.705077Z",
     "iopub.status.idle": "2023-10-21T17:54:46.711173Z",
     "shell.execute_reply": "2023-10-21T17:54:46.710042Z"
    },
    "papermill": {
     "duration": 0.090636,
     "end_time": "2023-10-21T17:54:46.713487",
     "exception": false,
     "start_time": "2023-10-21T17:54:46.622851",
     "status": "completed"
    },
    "tags": []
   },
   "outputs": [
    {
     "name": "stdout",
     "output_type": "stream",
     "text": [
      "False\n"
     ]
    }
   ],
   "source": [
    "x = {\"apple\", \"google\", \"cherry\"}\n",
    "y = {\"google\", \"microsoft\", \"facebook\"}\n",
    "\n",
    "z = x.isdisjoint(y)\n",
    "\n",
    "print(z)\n"
   ]
  },
  {
   "cell_type": "code",
   "execution_count": 124,
   "id": "ea7fc3e3",
   "metadata": {
    "execution": {
     "iopub.execute_input": "2023-10-21T17:54:46.874922Z",
     "iopub.status.busy": "2023-10-21T17:54:46.874488Z",
     "iopub.status.idle": "2023-10-21T17:54:46.880584Z",
     "shell.execute_reply": "2023-10-21T17:54:46.879481Z"
    },
    "papermill": {
     "duration": 0.090242,
     "end_time": "2023-10-21T17:54:46.883759",
     "exception": false,
     "start_time": "2023-10-21T17:54:46.793517",
     "status": "completed"
    },
    "tags": []
   },
   "outputs": [
    {
     "name": "stdout",
     "output_type": "stream",
     "text": [
      "False\n"
     ]
    }
   ],
   "source": [
    "x = {\"a\", \"b\", \"h\"}\n",
    "y = {\"f\", \"e\", \"d\", \"c\", \"b\", \"a\"}\n",
    "\n",
    "z = x.issubset(y)\n",
    "\n",
    "print(z)"
   ]
  },
  {
   "cell_type": "code",
   "execution_count": 125,
   "id": "df9d092f",
   "metadata": {
    "execution": {
     "iopub.execute_input": "2023-10-21T17:54:47.045783Z",
     "iopub.status.busy": "2023-10-21T17:54:47.045369Z",
     "iopub.status.idle": "2023-10-21T17:54:47.053032Z",
     "shell.execute_reply": "2023-10-21T17:54:47.051706Z"
    },
    "papermill": {
     "duration": 0.090736,
     "end_time": "2023-10-21T17:54:47.055375",
     "exception": false,
     "start_time": "2023-10-21T17:54:46.964639",
     "status": "completed"
    },
    "tags": []
   },
   "outputs": [
    {
     "name": "stdout",
     "output_type": "stream",
     "text": [
      "False\n"
     ]
    }
   ],
   "source": [
    "x = {\"f\", \"e\", \"d\", \"c\", \"b\", \"a\"}\n",
    "y = {\"a\", \"b\", \"z\"}\n",
    "\n",
    "z = x.issuperset(y)\n",
    "\n",
    "print(z)"
   ]
  },
  {
   "cell_type": "code",
   "execution_count": 126,
   "id": "35ebd268",
   "metadata": {
    "execution": {
     "iopub.execute_input": "2023-10-21T17:54:47.217244Z",
     "iopub.status.busy": "2023-10-21T17:54:47.216089Z",
     "iopub.status.idle": "2023-10-21T17:54:47.222737Z",
     "shell.execute_reply": "2023-10-21T17:54:47.221035Z"
    },
    "papermill": {
     "duration": 0.090419,
     "end_time": "2023-10-21T17:54:47.226558",
     "exception": false,
     "start_time": "2023-10-21T17:54:47.136139",
     "status": "completed"
    },
    "tags": []
   },
   "outputs": [
    {
     "name": "stdout",
     "output_type": "stream",
     "text": [
      "{'apple', 'banana'}\n"
     ]
    }
   ],
   "source": [
    "fruits = {\"apple\", \"banana\", \"cherry\"}\n",
    "\n",
    "fruits.pop()\n",
    "\n",
    "print(fruits)"
   ]
  },
  {
   "cell_type": "code",
   "execution_count": 127,
   "id": "df864c6c",
   "metadata": {
    "execution": {
     "iopub.execute_input": "2023-10-21T17:54:47.391444Z",
     "iopub.status.busy": "2023-10-21T17:54:47.390260Z",
     "iopub.status.idle": "2023-10-21T17:54:47.397354Z",
     "shell.execute_reply": "2023-10-21T17:54:47.396298Z"
    },
    "papermill": {
     "duration": 0.090757,
     "end_time": "2023-10-21T17:54:47.399802",
     "exception": false,
     "start_time": "2023-10-21T17:54:47.309045",
     "status": "completed"
    },
    "tags": []
   },
   "outputs": [
    {
     "name": "stdout",
     "output_type": "stream",
     "text": [
      "{'cherry', 'apple', 'banana'}\n"
     ]
    }
   ],
   "source": [
    "x = {\"apple\", \"banana\", \"cherry\"}\n",
    "y = {\"google\", \"microsoft\", \"apple\"}\n",
    "\n",
    "z = x.union(y)\n",
    "\n",
    "print(x)"
   ]
  },
  {
   "cell_type": "code",
   "execution_count": 128,
   "id": "3fc26229",
   "metadata": {
    "execution": {
     "iopub.execute_input": "2023-10-21T17:54:47.566696Z",
     "iopub.status.busy": "2023-10-21T17:54:47.566296Z",
     "iopub.status.idle": "2023-10-21T17:54:47.573165Z",
     "shell.execute_reply": "2023-10-21T17:54:47.571926Z"
    },
    "papermill": {
     "duration": 0.093662,
     "end_time": "2023-10-21T17:54:47.575898",
     "exception": false,
     "start_time": "2023-10-21T17:54:47.482236",
     "status": "completed"
    },
    "tags": []
   },
   "outputs": [
    {
     "name": "stdout",
     "output_type": "stream",
     "text": [
      "{'banana', 'google', 'microsoft', 'apple', 'cherry'}\n"
     ]
    }
   ],
   "source": [
    "x = {\"apple\", \"banana\", \"cherry\"}\n",
    "y = {\"google\", \"microsoft\", \"apple\"}\n",
    "\n",
    "x.update(y)\n",
    "\n",
    "print(x)"
   ]
  },
  {
   "cell_type": "code",
   "execution_count": 129,
   "id": "646018d9",
   "metadata": {
    "execution": {
     "iopub.execute_input": "2023-10-21T17:54:47.739665Z",
     "iopub.status.busy": "2023-10-21T17:54:47.739044Z",
     "iopub.status.idle": "2023-10-21T17:54:47.745198Z",
     "shell.execute_reply": "2023-10-21T17:54:47.744116Z"
    },
    "papermill": {
     "duration": 0.090919,
     "end_time": "2023-10-21T17:54:47.748106",
     "exception": false,
     "start_time": "2023-10-21T17:54:47.657187",
     "status": "completed"
    },
    "tags": []
   },
   "outputs": [
    {
     "name": "stdout",
     "output_type": "stream",
     "text": [
      "{'key 1': 'sush', 'key 2': 'sush', 'key 3': 'sush'}\n"
     ]
    }
   ],
   "source": [
    "x = ('key 1', 'key 2', 'key 3')\n",
    "y = \"sush\"\n",
    "\n",
    "thisdict = dict.fromkeys(x, y)\n",
    "\n",
    "print(thisdict)"
   ]
  },
  {
   "cell_type": "code",
   "execution_count": 130,
   "id": "3498de8e",
   "metadata": {
    "execution": {
     "iopub.execute_input": "2023-10-21T17:54:47.910756Z",
     "iopub.status.busy": "2023-10-21T17:54:47.909672Z",
     "iopub.status.idle": "2023-10-21T17:54:47.916129Z",
     "shell.execute_reply": "2023-10-21T17:54:47.915308Z"
    },
    "papermill": {
     "duration": 0.089199,
     "end_time": "2023-10-21T17:54:47.918344",
     "exception": false,
     "start_time": "2023-10-21T17:54:47.829145",
     "status": "completed"
    },
    "tags": []
   },
   "outputs": [
    {
     "data": {
      "text/plain": [
       "{'key 1': 'sush', 'key 2': 'sush', 'key 3 ': 'sush'}"
      ]
     },
     "execution_count": 130,
     "metadata": {},
     "output_type": "execute_result"
    }
   ],
   "source": [
    "thisdict  = { \"key 1\" : \"sush\",\n",
    "            \"key 2\" : \"sush\",\n",
    "            \"key 3 \" : \"sush\"}\n",
    "thisdict"
   ]
  },
  {
   "cell_type": "code",
   "execution_count": 131,
   "id": "2006ff7e",
   "metadata": {
    "execution": {
     "iopub.execute_input": "2023-10-21T17:54:48.080379Z",
     "iopub.status.busy": "2023-10-21T17:54:48.079777Z",
     "iopub.status.idle": "2023-10-21T17:54:48.084720Z",
     "shell.execute_reply": "2023-10-21T17:54:48.083741Z"
    },
    "papermill": {
     "duration": 0.089325,
     "end_time": "2023-10-21T17:54:48.086895",
     "exception": false,
     "start_time": "2023-10-21T17:54:47.997570",
     "status": "completed"
    },
    "tags": []
   },
   "outputs": [],
   "source": [
    "x = ('st 1', 'st 2', 'st 3')\n",
    "y = 0 "
   ]
  },
  {
   "cell_type": "code",
   "execution_count": 132,
   "id": "462763dd",
   "metadata": {
    "execution": {
     "iopub.execute_input": "2023-10-21T17:54:48.248187Z",
     "iopub.status.busy": "2023-10-21T17:54:48.247515Z",
     "iopub.status.idle": "2023-10-21T17:54:48.254084Z",
     "shell.execute_reply": "2023-10-21T17:54:48.252952Z"
    },
    "papermill": {
     "duration": 0.090138,
     "end_time": "2023-10-21T17:54:48.256324",
     "exception": false,
     "start_time": "2023-10-21T17:54:48.166186",
     "status": "completed"
    },
    "tags": []
   },
   "outputs": [
    {
     "data": {
      "text/plain": [
       "'Mustang'"
      ]
     },
     "execution_count": 132,
     "metadata": {},
     "output_type": "execute_result"
    }
   ],
   "source": [
    "car = {\n",
    "  \"brand\": \"Ford\",\n",
    "  \"model\": \"Mustang\",\n",
    "  \"year\": 1964\n",
    "}\n",
    "\n",
    "car.get(\"model\")\n",
    "\n"
   ]
  },
  {
   "cell_type": "code",
   "execution_count": 133,
   "id": "187b8d49",
   "metadata": {
    "execution": {
     "iopub.execute_input": "2023-10-21T17:54:48.421111Z",
     "iopub.status.busy": "2023-10-21T17:54:48.420449Z",
     "iopub.status.idle": "2023-10-21T17:54:48.426570Z",
     "shell.execute_reply": "2023-10-21T17:54:48.425582Z"
    },
    "papermill": {
     "duration": 0.091219,
     "end_time": "2023-10-21T17:54:48.428791",
     "exception": false,
     "start_time": "2023-10-21T17:54:48.337572",
     "status": "completed"
    },
    "tags": []
   },
   "outputs": [
    {
     "data": {
      "text/plain": [
       "'Mustang'"
      ]
     },
     "execution_count": 133,
     "metadata": {},
     "output_type": "execute_result"
    }
   ],
   "source": [
    "car = {\n",
    "  \"brand\": \"Ford\",\n",
    "  \"model\": \"Mustang\",\n",
    "  \"year\": 1964\n",
    "}\n",
    "car[\"model\"]"
   ]
  },
  {
   "cell_type": "code",
   "execution_count": 134,
   "id": "2fd74693",
   "metadata": {
    "execution": {
     "iopub.execute_input": "2023-10-21T17:54:48.591364Z",
     "iopub.status.busy": "2023-10-21T17:54:48.590669Z",
     "iopub.status.idle": "2023-10-21T17:54:48.596897Z",
     "shell.execute_reply": "2023-10-21T17:54:48.595882Z"
    },
    "papermill": {
     "duration": 0.08983,
     "end_time": "2023-10-21T17:54:48.599019",
     "exception": false,
     "start_time": "2023-10-21T17:54:48.509189",
     "status": "completed"
    },
    "tags": []
   },
   "outputs": [
    {
     "data": {
      "text/plain": [
       "dict_keys(['brand', 'model', 'year'])"
      ]
     },
     "execution_count": 134,
     "metadata": {},
     "output_type": "execute_result"
    }
   ],
   "source": [
    "car = {\n",
    "  \"brand\": \"Ford\",\n",
    "  \"model\": \"Mustang\",\n",
    "  \"year\": 1964\n",
    "}\n",
    "\n",
    "car.keys()"
   ]
  },
  {
   "cell_type": "code",
   "execution_count": 135,
   "id": "f53166f0",
   "metadata": {
    "execution": {
     "iopub.execute_input": "2023-10-21T17:54:48.760963Z",
     "iopub.status.busy": "2023-10-21T17:54:48.760350Z",
     "iopub.status.idle": "2023-10-21T17:54:48.765725Z",
     "shell.execute_reply": "2023-10-21T17:54:48.764960Z"
    },
    "papermill": {
     "duration": 0.088732,
     "end_time": "2023-10-21T17:54:48.767757",
     "exception": false,
     "start_time": "2023-10-21T17:54:48.679025",
     "status": "completed"
    },
    "tags": []
   },
   "outputs": [
    {
     "data": {
      "text/plain": [
       "dict_values(['Ford', 'Mustang', 1964])"
      ]
     },
     "execution_count": 135,
     "metadata": {},
     "output_type": "execute_result"
    }
   ],
   "source": [
    "car.values()"
   ]
  },
  {
   "cell_type": "code",
   "execution_count": 136,
   "id": "0db5da8b",
   "metadata": {
    "execution": {
     "iopub.execute_input": "2023-10-21T17:54:48.929917Z",
     "iopub.status.busy": "2023-10-21T17:54:48.929546Z",
     "iopub.status.idle": "2023-10-21T17:54:48.936245Z",
     "shell.execute_reply": "2023-10-21T17:54:48.935197Z"
    },
    "papermill": {
     "duration": 0.090133,
     "end_time": "2023-10-21T17:54:48.938682",
     "exception": false,
     "start_time": "2023-10-21T17:54:48.848549",
     "status": "completed"
    },
    "tags": []
   },
   "outputs": [
    {
     "data": {
      "text/plain": [
       "dict_items([('brand', 'Ford'), ('model', 'Mustang'), ('year', 1964)])"
      ]
     },
     "execution_count": 136,
     "metadata": {},
     "output_type": "execute_result"
    }
   ],
   "source": [
    "car.items()"
   ]
  },
  {
   "cell_type": "code",
   "execution_count": 137,
   "id": "4017cd34",
   "metadata": {
    "execution": {
     "iopub.execute_input": "2023-10-21T17:54:49.103616Z",
     "iopub.status.busy": "2023-10-21T17:54:49.103146Z",
     "iopub.status.idle": "2023-10-21T17:54:49.109367Z",
     "shell.execute_reply": "2023-10-21T17:54:49.108622Z"
    },
    "papermill": {
     "duration": 0.091932,
     "end_time": "2023-10-21T17:54:49.111877",
     "exception": false,
     "start_time": "2023-10-21T17:54:49.019945",
     "status": "completed"
    },
    "tags": []
   },
   "outputs": [
    {
     "name": "stdout",
     "output_type": "stream",
     "text": [
      "{'brand': 'Ford', 'year': 1964}\n"
     ]
    }
   ],
   "source": [
    "car = {\n",
    "  \"brand\": \"Ford\",\n",
    "  \"model\": \"Mustang\",\n",
    "  \"year\": 1964\n",
    "}\n",
    "\n",
    "car.pop(\"model\")\n",
    "\n",
    "print(car)"
   ]
  },
  {
   "cell_type": "code",
   "execution_count": 138,
   "id": "ebe8dd20",
   "metadata": {
    "execution": {
     "iopub.execute_input": "2023-10-21T17:54:49.274852Z",
     "iopub.status.busy": "2023-10-21T17:54:49.273800Z",
     "iopub.status.idle": "2023-10-21T17:54:49.281142Z",
     "shell.execute_reply": "2023-10-21T17:54:49.279452Z"
    },
    "papermill": {
     "duration": 0.091774,
     "end_time": "2023-10-21T17:54:49.283781",
     "exception": false,
     "start_time": "2023-10-21T17:54:49.192007",
     "status": "completed"
    },
    "tags": []
   },
   "outputs": [
    {
     "name": "stdout",
     "output_type": "stream",
     "text": [
      "{'brand': 'Ford', 'model': 'Mustang'}\n"
     ]
    }
   ],
   "source": [
    "car = {\n",
    "  \"brand\": \"Ford\",\n",
    "  \"model\": \"Mustang\",\n",
    "  \"year\": 1964\n",
    "}\n",
    "\n",
    "car.popitem()\n",
    "\n",
    "print(car)"
   ]
  },
  {
   "cell_type": "code",
   "execution_count": 139,
   "id": "db6ec613",
   "metadata": {
    "execution": {
     "iopub.execute_input": "2023-10-21T17:54:49.448055Z",
     "iopub.status.busy": "2023-10-21T17:54:49.447320Z",
     "iopub.status.idle": "2023-10-21T17:54:49.454161Z",
     "shell.execute_reply": "2023-10-21T17:54:49.452766Z"
    },
    "papermill": {
     "duration": 0.092811,
     "end_time": "2023-10-21T17:54:49.457786",
     "exception": false,
     "start_time": "2023-10-21T17:54:49.364975",
     "status": "completed"
    },
    "tags": []
   },
   "outputs": [
    {
     "name": "stdout",
     "output_type": "stream",
     "text": [
      "None\n"
     ]
    }
   ],
   "source": [
    "car = {\n",
    "  \"brand\": \"Ford\",\n",
    "    \"model\" : None ,\n",
    "\n",
    "  \"year\": 1964\n",
    "}\n",
    "\n",
    "x = car.setdefault(\"model\", \"Bronco\")\n",
    "\n",
    "print(x)"
   ]
  },
  {
   "cell_type": "code",
   "execution_count": 140,
   "id": "9b32403f",
   "metadata": {
    "execution": {
     "iopub.execute_input": "2023-10-21T17:54:49.626789Z",
     "iopub.status.busy": "2023-10-21T17:54:49.626143Z",
     "iopub.status.idle": "2023-10-21T17:54:49.631630Z",
     "shell.execute_reply": "2023-10-21T17:54:49.630463Z"
    },
    "papermill": {
     "duration": 0.092344,
     "end_time": "2023-10-21T17:54:49.634033",
     "exception": false,
     "start_time": "2023-10-21T17:54:49.541689",
     "status": "completed"
    },
    "tags": []
   },
   "outputs": [
    {
     "name": "stdout",
     "output_type": "stream",
     "text": [
      "{'brand': 'Ford', 'model': 'Mustang', 'year': 1964, 'color': 'White'}\n"
     ]
    }
   ],
   "source": [
    "car = {\n",
    "  \"brand\": \"Ford\",\n",
    "  \"model\": \"Mustang\",\n",
    "  \"year\": 1964\n",
    "}\n",
    "\n",
    "\n",
    "car.update({\"color\": \"White\"})\n",
    "print(car)\n",
    "\n"
   ]
  },
  {
   "cell_type": "code",
   "execution_count": 141,
   "id": "a2822772",
   "metadata": {
    "execution": {
     "iopub.execute_input": "2023-10-21T17:54:49.797872Z",
     "iopub.status.busy": "2023-10-21T17:54:49.797395Z",
     "iopub.status.idle": "2023-10-21T17:54:49.801752Z",
     "shell.execute_reply": "2023-10-21T17:54:49.800595Z"
    },
    "papermill": {
     "duration": 0.088996,
     "end_time": "2023-10-21T17:54:49.804019",
     "exception": false,
     "start_time": "2023-10-21T17:54:49.715023",
     "status": "completed"
    },
    "tags": []
   },
   "outputs": [],
   "source": [
    "# *"
   ]
  },
  {
   "cell_type": "code",
   "execution_count": 142,
   "id": "07977856",
   "metadata": {
    "execution": {
     "iopub.execute_input": "2023-10-21T17:54:49.966623Z",
     "iopub.status.busy": "2023-10-21T17:54:49.965901Z",
     "iopub.status.idle": "2023-10-21T17:54:49.972240Z",
     "shell.execute_reply": "2023-10-21T17:54:49.970844Z"
    },
    "papermill": {
     "duration": 0.091143,
     "end_time": "2023-10-21T17:54:49.975583",
     "exception": false,
     "start_time": "2023-10-21T17:54:49.884440",
     "status": "completed"
    },
    "tags": []
   },
   "outputs": [
    {
     "name": "stdout",
     "output_type": "stream",
     "text": [
      "*\n"
     ]
    }
   ],
   "source": [
    "print(\"*\")"
   ]
  },
  {
   "cell_type": "code",
   "execution_count": 143,
   "id": "de878bfe",
   "metadata": {
    "execution": {
     "iopub.execute_input": "2023-10-21T17:54:50.140973Z",
     "iopub.status.busy": "2023-10-21T17:54:50.139799Z",
     "iopub.status.idle": "2023-10-21T17:54:50.144675Z",
     "shell.execute_reply": "2023-10-21T17:54:50.143880Z"
    },
    "papermill": {
     "duration": 0.089488,
     "end_time": "2023-10-21T17:54:50.146965",
     "exception": false,
     "start_time": "2023-10-21T17:54:50.057477",
     "status": "completed"
    },
    "tags": []
   },
   "outputs": [],
   "source": [
    "# *\n",
    "# **"
   ]
  },
  {
   "cell_type": "code",
   "execution_count": 144,
   "id": "ddeafb0b",
   "metadata": {
    "execution": {
     "iopub.execute_input": "2023-10-21T17:54:50.312670Z",
     "iopub.status.busy": "2023-10-21T17:54:50.311970Z",
     "iopub.status.idle": "2023-10-21T17:54:50.318259Z",
     "shell.execute_reply": "2023-10-21T17:54:50.317079Z"
    },
    "papermill": {
     "duration": 0.092993,
     "end_time": "2023-10-21T17:54:50.321566",
     "exception": false,
     "start_time": "2023-10-21T17:54:50.228573",
     "status": "completed"
    },
    "tags": []
   },
   "outputs": [
    {
     "name": "stdout",
     "output_type": "stream",
     "text": [
      "*\n",
      "**\n"
     ]
    }
   ],
   "source": [
    "print(\"*\")\n",
    "print(\"**\")"
   ]
  },
  {
   "cell_type": "code",
   "execution_count": 145,
   "id": "f7215a17",
   "metadata": {
    "execution": {
     "iopub.execute_input": "2023-10-21T17:54:50.488700Z",
     "iopub.status.busy": "2023-10-21T17:54:50.488260Z",
     "iopub.status.idle": "2023-10-21T17:54:50.493100Z",
     "shell.execute_reply": "2023-10-21T17:54:50.492073Z"
    },
    "papermill": {
     "duration": 0.091575,
     "end_time": "2023-10-21T17:54:50.495359",
     "exception": false,
     "start_time": "2023-10-21T17:54:50.403784",
     "status": "completed"
    },
    "tags": []
   },
   "outputs": [],
   "source": [
    "# *\n",
    "# **\n",
    "# ***\n",
    "# ****"
   ]
  },
  {
   "cell_type": "code",
   "execution_count": 146,
   "id": "57eab154",
   "metadata": {
    "execution": {
     "iopub.execute_input": "2023-10-21T17:54:50.662076Z",
     "iopub.status.busy": "2023-10-21T17:54:50.661337Z",
     "iopub.status.idle": "2023-10-21T17:54:50.668454Z",
     "shell.execute_reply": "2023-10-21T17:54:50.667189Z"
    },
    "papermill": {
     "duration": 0.092716,
     "end_time": "2023-10-21T17:54:50.670792",
     "exception": false,
     "start_time": "2023-10-21T17:54:50.578076",
     "status": "completed"
    },
    "tags": []
   },
   "outputs": [
    {
     "name": "stdout",
     "output_type": "stream",
     "text": [
      "   *\n",
      "  **\n",
      " ***\n",
      "****\n",
      " ***\n",
      "  **\n",
      "   *\n"
     ]
    }
   ],
   "source": [
    "for i in range(4) :\n",
    "    print(\" \"*(3-i),end=\"\")\n",
    "    print(\"*\"* (i+1))\n",
    "#     print(\"--\")\n",
    "for j in range(3):\n",
    "    print(\" \"*(j+1),end=\"\")\n",
    "    print(\"*\"*(3-j))"
   ]
  },
  {
   "cell_type": "code",
   "execution_count": 147,
   "id": "a8f3d555",
   "metadata": {
    "execution": {
     "iopub.execute_input": "2023-10-21T17:54:50.834367Z",
     "iopub.status.busy": "2023-10-21T17:54:50.833754Z",
     "iopub.status.idle": "2023-10-21T17:54:50.838468Z",
     "shell.execute_reply": "2023-10-21T17:54:50.837368Z"
    },
    "papermill": {
     "duration": 0.089965,
     "end_time": "2023-10-21T17:54:50.840987",
     "exception": false,
     "start_time": "2023-10-21T17:54:50.751022",
     "status": "completed"
    },
    "tags": []
   },
   "outputs": [],
   "source": [
    "#    *\n",
    "#   ***\n",
    "#  *****\n",
    "# *******\n",
    "\n",
    "#  *****\n",
    "#   ***\n",
    "#    *"
   ]
  },
  {
   "cell_type": "code",
   "execution_count": 148,
   "id": "6f251fb8",
   "metadata": {
    "execution": {
     "iopub.execute_input": "2023-10-21T17:54:51.005792Z",
     "iopub.status.busy": "2023-10-21T17:54:51.005336Z",
     "iopub.status.idle": "2023-10-21T17:54:51.009349Z",
     "shell.execute_reply": "2023-10-21T17:54:51.008489Z"
    },
    "papermill": {
     "duration": 0.089705,
     "end_time": "2023-10-21T17:54:51.011511",
     "exception": false,
     "start_time": "2023-10-21T17:54:50.921806",
     "status": "completed"
    },
    "tags": []
   },
   "outputs": [],
   "source": [
    "# *\n",
    "# ***\n",
    "# *****\n",
    "# *******\n",
    "\n",
    "\n",
    "# *****\n",
    "# ***\n",
    "# *"
   ]
  },
  {
   "cell_type": "code",
   "execution_count": 149,
   "id": "5aa490e9",
   "metadata": {
    "execution": {
     "iopub.execute_input": "2023-10-21T17:54:51.179241Z",
     "iopub.status.busy": "2023-10-21T17:54:51.178476Z",
     "iopub.status.idle": "2023-10-21T17:54:51.185676Z",
     "shell.execute_reply": "2023-10-21T17:54:51.184021Z"
    },
    "papermill": {
     "duration": 0.09493,
     "end_time": "2023-10-21T17:54:51.188938",
     "exception": false,
     "start_time": "2023-10-21T17:54:51.094008",
     "status": "completed"
    },
    "tags": []
   },
   "outputs": [
    {
     "name": "stdout",
     "output_type": "stream",
     "text": [
      "*\n",
      "***\n",
      "*****\n",
      "*******\n",
      "*\n",
      "*\n",
      "*\n"
     ]
    }
   ],
   "source": [
    "for i in range(4):\n",
    "    print(\"*\"* ((2*i)+1))\n",
    "for j in range(3):\n",
    "    print(\"*\")"
   ]
  },
  {
   "cell_type": "code",
   "execution_count": 150,
   "id": "d4d5c6c9",
   "metadata": {
    "execution": {
     "iopub.execute_input": "2023-10-21T17:54:51.358354Z",
     "iopub.status.busy": "2023-10-21T17:54:51.357861Z",
     "iopub.status.idle": "2023-10-21T17:54:51.362743Z",
     "shell.execute_reply": "2023-10-21T17:54:51.361476Z"
    },
    "papermill": {
     "duration": 0.092608,
     "end_time": "2023-10-21T17:54:51.364977",
     "exception": false,
     "start_time": "2023-10-21T17:54:51.272369",
     "status": "completed"
    },
    "tags": []
   },
   "outputs": [],
   "source": [
    "#     *\n",
    "#    ***\n",
    "#   *****\n",
    "#  *******\n",
    "# *********\n",
    "#  *******\n",
    "#   *****\n",
    "#    ***\n",
    "#     *"
   ]
  },
  {
   "cell_type": "code",
   "execution_count": 151,
   "id": "2211a012",
   "metadata": {
    "execution": {
     "iopub.execute_input": "2023-10-21T17:54:51.547554Z",
     "iopub.status.busy": "2023-10-21T17:54:51.546793Z",
     "iopub.status.idle": "2023-10-21T17:54:51.554461Z",
     "shell.execute_reply": "2023-10-21T17:54:51.553470Z"
    },
    "papermill": {
     "duration": 0.092806,
     "end_time": "2023-10-21T17:54:51.556941",
     "exception": false,
     "start_time": "2023-10-21T17:54:51.464135",
     "status": "completed"
    },
    "tags": []
   },
   "outputs": [
    {
     "name": "stdout",
     "output_type": "stream",
     "text": [
      "                        *\n",
      "                       ***\n",
      "                      *****\n",
      "                     *******\n",
      "                    *********\n",
      "                   ***********\n",
      "                  *************\n",
      "                 ***************\n",
      "                *****************\n",
      "               *******************\n",
      "              *********************\n",
      "             ***********************\n",
      "            *************************\n",
      "           ***************************\n",
      "          *****************************\n",
      "         *******************************\n",
      "        *********************************\n",
      "       ***********************************\n",
      "      *************************************\n",
      "     ***************************************\n",
      "    *****************************************\n",
      "   *******************************************\n",
      "  *********************************************\n",
      " ***********************************************\n",
      "*************************************************\n",
      " ***********************************************\n",
      "  *********************************************\n",
      "   *******************************************\n",
      "    *****************************************\n",
      "     ***************************************\n",
      "      *************************************\n",
      "       ***********************************\n",
      "        *********************************\n",
      "         *******************************\n",
      "          *****************************\n",
      "           ***************************\n",
      "            *************************\n",
      "             ***********************\n",
      "              *********************\n",
      "               *******************\n",
      "                *****************\n",
      "                 ***************\n",
      "                  *************\n",
      "                   ***********\n",
      "                    *********\n",
      "                     *******\n",
      "                      *****\n",
      "                       ***\n",
      "                        *\n"
     ]
    }
   ],
   "source": [
    "n =25\n",
    "\n",
    "for i in range(n):\n",
    "    print(\" \"*(n-1-i),end=\"\")\n",
    "    print(\"*\"*((2*i)+1))\n",
    "for j in range(n-1):\n",
    "    print(\" \"*(j+1),end=\"\")\n",
    "    print(\"*\"*((2*(n-2-j))+1))"
   ]
  },
  {
   "cell_type": "markdown",
   "id": "46bda631",
   "metadata": {
    "papermill": {
     "duration": 0.081817,
     "end_time": "2023-10-21T17:54:51.721473",
     "exception": false,
     "start_time": "2023-10-21T17:54:51.639656",
     "status": "completed"
    },
    "tags": []
   },
   "source": [
    "# "
   ]
  },
  {
   "cell_type": "code",
   "execution_count": 152,
   "id": "74cd8e3c",
   "metadata": {
    "execution": {
     "iopub.execute_input": "2023-10-21T17:54:51.887716Z",
     "iopub.status.busy": "2023-10-21T17:54:51.886784Z",
     "iopub.status.idle": "2023-10-21T17:54:51.892374Z",
     "shell.execute_reply": "2023-10-21T17:54:51.891261Z"
    },
    "papermill": {
     "duration": 0.092448,
     "end_time": "2023-10-21T17:54:51.894791",
     "exception": false,
     "start_time": "2023-10-21T17:54:51.802343",
     "status": "completed"
    },
    "tags": []
   },
   "outputs": [],
   "source": [
    "#    *    \n",
    "#   * *\n",
    "#  *   *\n",
    "# *     *\n",
    "#  *   *\n",
    "#   * *\n",
    "\n",
    "\n",
    "#    *"
   ]
  },
  {
   "cell_type": "code",
   "execution_count": 153,
   "id": "fcf0452b",
   "metadata": {
    "execution": {
     "iopub.execute_input": "2023-10-21T17:54:52.059167Z",
     "iopub.status.busy": "2023-10-21T17:54:52.058764Z",
     "iopub.status.idle": "2023-10-21T17:54:52.066959Z",
     "shell.execute_reply": "2023-10-21T17:54:52.065840Z"
    },
    "papermill": {
     "duration": 0.093649,
     "end_time": "2023-10-21T17:54:52.069472",
     "exception": false,
     "start_time": "2023-10-21T17:54:51.975823",
     "status": "completed"
    },
    "tags": []
   },
   "outputs": [
    {
     "name": "stdout",
     "output_type": "stream",
     "text": [
      "           *\n",
      "          * *\n",
      "         *   *\n",
      "        *     *\n",
      "       *       *\n",
      "      *         *\n",
      "     *           *\n",
      "    *             *\n",
      "   *               *\n",
      "  *                 *\n",
      " *                   *\n",
      "  *                 *\n",
      "   *               *\n",
      "    *             *\n",
      "     *           *\n",
      "      *         *\n",
      "       *       *\n",
      "        *     *\n",
      "         *   *\n",
      "          * *\n",
      "           *\n"
     ]
    }
   ],
   "source": [
    "n = 11\n",
    "# n = 4\n",
    "print(\" \"*(n-1),\"*\")\n",
    "for i in range((n-1)):\n",
    "    print(\" \"*(n-2-i),\"*\"+\" \"*((2*i )+1)+\"*\")\n",
    "for j in range(n-2):\n",
    "    print(\" \"*(j+1),\"*\"+\" \"*((2*(n-2-j))-1)+\"*\")\n",
    "    \n",
    "\n",
    "    \n",
    "print(\" \"*(n-1),\"*\")"
   ]
  },
  {
   "cell_type": "code",
   "execution_count": 154,
   "id": "2050de83",
   "metadata": {
    "execution": {
     "iopub.execute_input": "2023-10-21T17:54:52.234820Z",
     "iopub.status.busy": "2023-10-21T17:54:52.234191Z",
     "iopub.status.idle": "2023-10-21T17:54:52.239207Z",
     "shell.execute_reply": "2023-10-21T17:54:52.238102Z"
    },
    "papermill": {
     "duration": 0.089777,
     "end_time": "2023-10-21T17:54:52.241239",
     "exception": false,
     "start_time": "2023-10-21T17:54:52.151462",
     "status": "completed"
    },
    "tags": []
   },
   "outputs": [],
   "source": [
    "# 1\n",
    "# 1 1\n",
    "# 1 1 1\n",
    "# 1 1 1 1\n",
    "# 1 1 1 1 1"
   ]
  },
  {
   "cell_type": "code",
   "execution_count": 155,
   "id": "f23c0657",
   "metadata": {
    "execution": {
     "iopub.execute_input": "2023-10-21T17:54:52.405737Z",
     "iopub.status.busy": "2023-10-21T17:54:52.405073Z",
     "iopub.status.idle": "2023-10-21T17:54:52.410372Z",
     "shell.execute_reply": "2023-10-21T17:54:52.409412Z"
    },
    "papermill": {
     "duration": 0.090747,
     "end_time": "2023-10-21T17:54:52.413310",
     "exception": false,
     "start_time": "2023-10-21T17:54:52.322563",
     "status": "completed"
    },
    "tags": []
   },
   "outputs": [
    {
     "name": "stdout",
     "output_type": "stream",
     "text": [
      "1 \n",
      "1 1 \n",
      "1 1 1 \n",
      "1 1 1 1 \n",
      "1 1 1 1 1 \n"
     ]
    }
   ],
   "source": [
    "for i in range(5):\n",
    "    print(\"1 \"*(i+1))"
   ]
  },
  {
   "cell_type": "code",
   "execution_count": 156,
   "id": "519144e5",
   "metadata": {
    "execution": {
     "iopub.execute_input": "2023-10-21T17:54:52.582163Z",
     "iopub.status.busy": "2023-10-21T17:54:52.581183Z",
     "iopub.status.idle": "2023-10-21T17:54:52.586170Z",
     "shell.execute_reply": "2023-10-21T17:54:52.584915Z"
    },
    "papermill": {
     "duration": 0.090676,
     "end_time": "2023-10-21T17:54:52.588518",
     "exception": false,
     "start_time": "2023-10-21T17:54:52.497842",
     "status": "completed"
    },
    "tags": []
   },
   "outputs": [],
   "source": [
    "# 1\n",
    "# 1 2\n",
    "# 1 2 3\n",
    "# 1 2 3 4\n",
    "# 1 2 3 4 5"
   ]
  },
  {
   "cell_type": "code",
   "execution_count": 157,
   "id": "5e46e64a",
   "metadata": {
    "execution": {
     "iopub.execute_input": "2023-10-21T17:54:52.757138Z",
     "iopub.status.busy": "2023-10-21T17:54:52.756743Z",
     "iopub.status.idle": "2023-10-21T17:54:52.762956Z",
     "shell.execute_reply": "2023-10-21T17:54:52.761791Z"
    },
    "papermill": {
     "duration": 0.094174,
     "end_time": "2023-10-21T17:54:52.765691",
     "exception": false,
     "start_time": "2023-10-21T17:54:52.671517",
     "status": "completed"
    },
    "tags": []
   },
   "outputs": [
    {
     "name": "stdout",
     "output_type": "stream",
     "text": [
      "1 \n",
      "1 2 \n",
      "1 2 3 \n",
      "1 2 3 4 \n",
      "1 2 3 4 5 \n"
     ]
    }
   ],
   "source": [
    "for i in range(5):\n",
    "    for j in range(i+1) :\n",
    "        print(j+1,end=\" \")\n",
    "    print()"
   ]
  },
  {
   "cell_type": "code",
   "execution_count": 158,
   "id": "5933a3a9",
   "metadata": {
    "execution": {
     "iopub.execute_input": "2023-10-21T17:54:52.933930Z",
     "iopub.status.busy": "2023-10-21T17:54:52.933564Z",
     "iopub.status.idle": "2023-10-21T17:54:52.938151Z",
     "shell.execute_reply": "2023-10-21T17:54:52.937107Z"
    },
    "papermill": {
     "duration": 0.091483,
     "end_time": "2023-10-21T17:54:52.940548",
     "exception": false,
     "start_time": "2023-10-21T17:54:52.849065",
     "status": "completed"
    },
    "tags": []
   },
   "outputs": [],
   "source": [
    "#       1\n",
    "#     1 2 1\n",
    "#   1 2 3 2 1 \n",
    "# 1 2 3 4 3 2 1\n",
    "#   1 2 3 2 1\n",
    "#     1 2 1\n",
    "#       1"
   ]
  },
  {
   "cell_type": "code",
   "execution_count": 159,
   "id": "124b1c17",
   "metadata": {
    "execution": {
     "iopub.execute_input": "2023-10-21T17:54:53.105006Z",
     "iopub.status.busy": "2023-10-21T17:54:53.104599Z",
     "iopub.status.idle": "2023-10-21T17:54:53.116035Z",
     "shell.execute_reply": "2023-10-21T17:54:53.114448Z"
    },
    "papermill": {
     "duration": 0.096367,
     "end_time": "2023-10-21T17:54:53.118208",
     "exception": false,
     "start_time": "2023-10-21T17:54:53.021841",
     "status": "completed"
    },
    "tags": []
   },
   "outputs": [
    {
     "name": "stdout",
     "output_type": "stream",
     "text": [
      "              1 \n",
      "            1 2 1 \n",
      "          1 2 3 2 1 \n",
      "        1 2 3 4 3 2 1 \n",
      "      1 2 3 4 5 4 3 2 1 \n",
      "    1 2 3 4 5 6 5 4 3 2 1 \n",
      "  1 2 3 4 5 6 7 6 5 4 3 2 1 \n",
      "1 2 3 4 5 6 7 8 7 6 5 4 3 2 1 \n",
      "  1 2 3 4 5 6 7 6 5 4 3 2 1 \n",
      "    1 2 3 4 5 6 5 4 3 2 1 \n",
      "      1 2 3 4 5 4 3 2 1 \n",
      "        1 2 3 4 3 2 1 \n",
      "          1 2 3 2 1 \n",
      "            1 2 1 \n",
      "              1 \n"
     ]
    }
   ],
   "source": [
    "n = 8\n",
    "# 4\n",
    "for i in range(n):\n",
    "    print(\" \"*(2*(n-1-i)),end=\"\")\n",
    "    for j in range(i+1):\n",
    "        print(j+1 ,end=\" \")\n",
    "    for k in range(i-1,-1,-1):\n",
    "        print(k+1 ,end=\" \")\n",
    "    print()\n",
    "for p in range(n-1) : # 0 13\n",
    "    print(\" \"*(2*(p+1)),end=\"\")\n",
    "    for q in range(n-1-p) :\n",
    "        print(q+1,end=\" \")        \n",
    "    for r in range(n-p-3,-1,-1):\n",
    "        print(r+1,end=\" \")\n",
    "    print()"
   ]
  },
  {
   "cell_type": "markdown",
   "id": "e60a56e4",
   "metadata": {
    "execution": {
     "iopub.execute_input": "2023-10-20T17:08:22.412842Z",
     "iopub.status.busy": "2023-10-20T17:08:22.412393Z",
     "iopub.status.idle": "2023-10-20T17:08:22.418210Z",
     "shell.execute_reply": "2023-10-20T17:08:22.417396Z",
     "shell.execute_reply.started": "2023-10-20T17:08:22.412813Z"
    },
    "papermill": {
     "duration": 0.081535,
     "end_time": "2023-10-21T17:54:53.281109",
     "exception": false,
     "start_time": "2023-10-21T17:54:53.199574",
     "status": "completed"
    },
    "tags": []
   },
   "source": [
    "# for i in range(4):\n",
    "    print(i, end=\" \")"
   ]
  },
  {
   "cell_type": "code",
   "execution_count": 160,
   "id": "0e4a3e5d",
   "metadata": {
    "execution": {
     "iopub.execute_input": "2023-10-21T17:54:53.513870Z",
     "iopub.status.busy": "2023-10-21T17:54:53.513498Z",
     "iopub.status.idle": "2023-10-21T17:54:53.518893Z",
     "shell.execute_reply": "2023-10-21T17:54:53.517798Z"
    },
    "papermill": {
     "duration": 0.158203,
     "end_time": "2023-10-21T17:54:53.521108",
     "exception": false,
     "start_time": "2023-10-21T17:54:53.362905",
     "status": "completed"
    },
    "tags": []
   },
   "outputs": [
    {
     "name": "stdout",
     "output_type": "stream",
     "text": [
      "3 2 1 0 "
     ]
    }
   ],
   "source": [
    "for i in range(3,-1,-1):\n",
    "    print(i, end=\" \")"
   ]
  },
  {
   "cell_type": "code",
   "execution_count": 161,
   "id": "3cc70a01",
   "metadata": {
    "execution": {
     "iopub.execute_input": "2023-10-21T17:54:53.686655Z",
     "iopub.status.busy": "2023-10-21T17:54:53.686201Z",
     "iopub.status.idle": "2023-10-21T17:54:53.691114Z",
     "shell.execute_reply": "2023-10-21T17:54:53.690072Z"
    },
    "papermill": {
     "duration": 0.09052,
     "end_time": "2023-10-21T17:54:53.693308",
     "exception": false,
     "start_time": "2023-10-21T17:54:53.602788",
     "status": "completed"
    },
    "tags": []
   },
   "outputs": [],
   "source": [
    "# 0  \n",
    "\n",
    "# 0 1  \n",
    "\n",
    "# 0 2 4  \n",
    "\n",
    "# 0 3 6 9  \n",
    "\n",
    "# 0 4 8 12 16  \n",
    "\n",
    "# 0 5 10 15 20 25  \n",
    "\n",
    "# 0 6 12 18 24 30 36"
   ]
  },
  {
   "cell_type": "code",
   "execution_count": 162,
   "id": "b4bfa292",
   "metadata": {
    "execution": {
     "iopub.execute_input": "2023-10-21T17:54:53.858944Z",
     "iopub.status.busy": "2023-10-21T17:54:53.858576Z",
     "iopub.status.idle": "2023-10-21T17:54:53.866322Z",
     "shell.execute_reply": "2023-10-21T17:54:53.865204Z"
    },
    "papermill": {
     "duration": 0.094109,
     "end_time": "2023-10-21T17:54:53.868977",
     "exception": false,
     "start_time": "2023-10-21T17:54:53.774868",
     "status": "completed"
    },
    "tags": []
   },
   "outputs": [
    {
     "name": "stdout",
     "output_type": "stream",
     "text": [
      "0 \n",
      "0 1 \n",
      "0 2 4 \n",
      "0 3 6 9 \n",
      "0 4 8 12 16 \n",
      "0 5 10 15 20 25 \n",
      "0 6 12 18 24 30 36 \n",
      "0 7 14 21 28 35 42 49 \n",
      "0 8 16 24 32 40 48 56 64 \n",
      "0 9 18 27 36 45 54 63 72 81 \n",
      "0 10 20 30 40 50 60 70 80 90 100 \n",
      "0 11 22 33 44 55 66 77 88 99 110 121 \n",
      "0 12 24 36 48 60 72 84 96 108 120 132 144 \n",
      "0 13 26 39 52 65 78 91 104 117 130 143 156 169 \n",
      "0 14 28 42 56 70 84 98 112 126 140 154 168 182 196 \n",
      "0 15 30 45 60 75 90 105 120 135 150 165 180 195 210 225 \n"
     ]
    }
   ],
   "source": [
    "n = 15\n",
    "# 6\n",
    "for i in range(n+1):\n",
    "    for j in range(i+1):\n",
    "        print(j*i,end=\" \")\n",
    "    print()"
   ]
  },
  {
   "cell_type": "code",
   "execution_count": 163,
   "id": "30ec9ef8",
   "metadata": {
    "execution": {
     "iopub.execute_input": "2023-10-21T17:54:54.036521Z",
     "iopub.status.busy": "2023-10-21T17:54:54.036105Z",
     "iopub.status.idle": "2023-10-21T17:54:54.040611Z",
     "shell.execute_reply": "2023-10-21T17:54:54.039562Z"
    },
    "papermill": {
     "duration": 0.091762,
     "end_time": "2023-10-21T17:54:54.042935",
     "exception": false,
     "start_time": "2023-10-21T17:54:53.951173",
     "status": "completed"
    },
    "tags": []
   },
   "outputs": [],
   "source": [
    "# 1 \n",
    "\n",
    "# 3 3 \n",
    "\n",
    "# 5 5 5 \n",
    "\n",
    "# 7 7 7 7 \n",
    "\n",
    "# 9 9 9 9 9"
   ]
  },
  {
   "cell_type": "code",
   "execution_count": 164,
   "id": "3655f39e",
   "metadata": {
    "execution": {
     "iopub.execute_input": "2023-10-21T17:54:54.224996Z",
     "iopub.status.busy": "2023-10-21T17:54:54.224622Z",
     "iopub.status.idle": "2023-10-21T17:54:54.231460Z",
     "shell.execute_reply": "2023-10-21T17:54:54.230220Z"
    },
    "papermill": {
     "duration": 0.109683,
     "end_time": "2023-10-21T17:54:54.234128",
     "exception": false,
     "start_time": "2023-10-21T17:54:54.124445",
     "status": "completed"
    },
    "tags": []
   },
   "outputs": [
    {
     "name": "stdout",
     "output_type": "stream",
     "text": [
      "1 \n",
      "3 3 \n",
      "5 5 5 \n",
      "7 7 7 7 \n",
      "9 9 9 9 9 \n"
     ]
    }
   ],
   "source": [
    "\n",
    "n = 5\n",
    "for i in range(n):\n",
    "    for j in range(i+1):\n",
    "        print((2*i)+1,end=\" \")\n",
    "    print()"
   ]
  },
  {
   "cell_type": "code",
   "execution_count": 165,
   "id": "804189c3",
   "metadata": {
    "execution": {
     "iopub.execute_input": "2023-10-21T17:54:54.401692Z",
     "iopub.status.busy": "2023-10-21T17:54:54.401263Z",
     "iopub.status.idle": "2023-10-21T17:54:54.407107Z",
     "shell.execute_reply": "2023-10-21T17:54:54.405899Z"
    },
    "papermill": {
     "duration": 0.093549,
     "end_time": "2023-10-21T17:54:54.409593",
     "exception": false,
     "start_time": "2023-10-21T17:54:54.316044",
     "status": "completed"
    },
    "tags": []
   },
   "outputs": [],
   "source": [
    "# ******\n",
    "#     *\n",
    "#    *\n",
    "#   *\n",
    "#  *\n",
    "# ******"
   ]
  },
  {
   "cell_type": "code",
   "execution_count": 166,
   "id": "8a0bd625",
   "metadata": {
    "execution": {
     "iopub.execute_input": "2023-10-21T17:54:54.578816Z",
     "iopub.status.busy": "2023-10-21T17:54:54.578369Z",
     "iopub.status.idle": "2023-10-21T17:54:54.585468Z",
     "shell.execute_reply": "2023-10-21T17:54:54.584297Z"
    },
    "papermill": {
     "duration": 0.094021,
     "end_time": "2023-10-21T17:54:54.588016",
     "exception": false,
     "start_time": "2023-10-21T17:54:54.493995",
     "status": "completed"
    },
    "tags": []
   },
   "outputs": [
    {
     "name": "stdout",
     "output_type": "stream",
     "text": [
      "************\n",
      "          *\n",
      "         *\n",
      "        *\n",
      "       *\n",
      "      *\n",
      "     *\n",
      "    *\n",
      "   *\n",
      "  *\n",
      " *\n",
      "************\n"
     ]
    }
   ],
   "source": [
    "n = 12\n",
    "print(\"*\"*n)\n",
    "for i in range(n-2):\n",
    "    print(\" \"*(n-2-i),end=\"\")\n",
    "    print(\"*\")\n",
    "print(\"*\"*n)"
   ]
  },
  {
   "cell_type": "code",
   "execution_count": 167,
   "id": "7876feaa",
   "metadata": {
    "execution": {
     "iopub.execute_input": "2023-10-21T17:54:54.753746Z",
     "iopub.status.busy": "2023-10-21T17:54:54.752949Z",
     "iopub.status.idle": "2023-10-21T17:54:54.757276Z",
     "shell.execute_reply": "2023-10-21T17:54:54.756475Z"
    },
    "papermill": {
     "duration": 0.089866,
     "end_time": "2023-10-21T17:54:54.759340",
     "exception": false,
     "start_time": "2023-10-21T17:54:54.669474",
     "status": "completed"
    },
    "tags": []
   },
   "outputs": [],
   "source": [
    "# 1 2 3 * * * N\n",
    "#           *\n",
    "#         *\n",
    "#       *\n",
    "#     3\n",
    "#   2\n",
    "# 1 2 3 * * * N\n"
   ]
  },
  {
   "cell_type": "code",
   "execution_count": 168,
   "id": "8643edbb",
   "metadata": {
    "execution": {
     "iopub.execute_input": "2023-10-21T17:54:54.927211Z",
     "iopub.status.busy": "2023-10-21T17:54:54.926352Z",
     "iopub.status.idle": "2023-10-21T17:54:54.935948Z",
     "shell.execute_reply": "2023-10-21T17:54:54.934420Z"
    },
    "papermill": {
     "duration": 0.097449,
     "end_time": "2023-10-21T17:54:54.939311",
     "exception": false,
     "start_time": "2023-10-21T17:54:54.841862",
     "status": "completed"
    },
    "tags": []
   },
   "outputs": [
    {
     "name": "stdout",
     "output_type": "stream",
     "text": [
      "1 2 3 * * * N\n",
      "\n",
      "          *\n",
      "        *\n",
      "      *\n",
      "    3\n",
      "  2\n",
      "1 2 3 * * * N\n"
     ]
    }
   ],
   "source": [
    "for i in range(3):\n",
    "    print(i+1, end=\" \")\n",
    "for j in range(3):\n",
    "    print(\"* \",end=\"\")\n",
    "print(\"N\")\n",
    "\n",
    "print()\n",
    "for k in range(3):\n",
    "    print(\" \"*(2*(5-k)),end=\"\")\n",
    "    print(\"*\")\n",
    "for m in range(2):\n",
    "    print(\" \"*(2*(2-m)),end=\"\")\n",
    "    print(3-m)   \n",
    "    \n",
    "    \n",
    "for i in range(3):\n",
    "    print(i+1, end=\" \")\n",
    "for j in range(3):\n",
    "    print(\"* \",end=\"\")\n",
    "print(\"N\")"
   ]
  },
  {
   "cell_type": "code",
   "execution_count": 169,
   "id": "c49513a6",
   "metadata": {
    "execution": {
     "iopub.execute_input": "2023-10-21T17:54:55.108694Z",
     "iopub.status.busy": "2023-10-21T17:54:55.107462Z",
     "iopub.status.idle": "2023-10-21T17:54:55.114251Z",
     "shell.execute_reply": "2023-10-21T17:54:55.113096Z"
    },
    "papermill": {
     "duration": 0.093376,
     "end_time": "2023-10-21T17:54:55.116689",
     "exception": false,
     "start_time": "2023-10-21T17:54:55.023313",
     "status": "completed"
    },
    "tags": []
   },
   "outputs": [
    {
     "name": "stdout",
     "output_type": "stream",
     "text": [
      "prasad  is not eligible\n"
     ]
    }
   ],
   "source": [
    "m1 = 80\n",
    "m2 = 40\n",
    "student = \"prasad\"\n",
    "\n",
    "\n",
    "if m1 > 50 and m2 > 50 :\n",
    "    print(student , \" is eligible\")\n",
    "else :\n",
    "    print(student,\" is not eligible\")"
   ]
  },
  {
   "cell_type": "code",
   "execution_count": 170,
   "id": "e1a892e6",
   "metadata": {
    "execution": {
     "iopub.execute_input": "2023-10-21T17:54:55.285176Z",
     "iopub.status.busy": "2023-10-21T17:54:55.284174Z",
     "iopub.status.idle": "2023-10-21T17:54:55.290751Z",
     "shell.execute_reply": "2023-10-21T17:54:55.289800Z"
    },
    "papermill": {
     "duration": 0.093893,
     "end_time": "2023-10-21T17:54:55.293899",
     "exception": false,
     "start_time": "2023-10-21T17:54:55.200006",
     "status": "completed"
    },
    "tags": []
   },
   "outputs": [
    {
     "name": "stdout",
     "output_type": "stream",
     "text": [
      "sushmitha  is eligible\n"
     ]
    }
   ],
   "source": [
    "m1 = 70\n",
    "m2 = 80\n",
    "student = \"sushmitha\"\n",
    "if m1 > 50 and m2 > 50 :\n",
    "    print(student , \" is eligible\")\n",
    "else :\n",
    "    print(student,\" is not eligible\")\n"
   ]
  },
  {
   "cell_type": "code",
   "execution_count": 171,
   "id": "dc654cb2",
   "metadata": {
    "execution": {
     "iopub.execute_input": "2023-10-21T17:54:55.466925Z",
     "iopub.status.busy": "2023-10-21T17:54:55.465847Z",
     "iopub.status.idle": "2023-10-21T17:54:55.471723Z",
     "shell.execute_reply": "2023-10-21T17:54:55.470926Z"
    },
    "papermill": {
     "duration": 0.096521,
     "end_time": "2023-10-21T17:54:55.475348",
     "exception": false,
     "start_time": "2023-10-21T17:54:55.378827",
     "status": "completed"
    },
    "tags": []
   },
   "outputs": [],
   "source": [
    "def level(a,b,student) :\n",
    "    c = a+b\n",
    "    print(student,\" got \", c ,\" marks\")"
   ]
  },
  {
   "cell_type": "code",
   "execution_count": 172,
   "id": "1b606cad",
   "metadata": {
    "execution": {
     "iopub.execute_input": "2023-10-21T17:54:55.645953Z",
     "iopub.status.busy": "2023-10-21T17:54:55.645571Z",
     "iopub.status.idle": "2023-10-21T17:54:55.651109Z",
     "shell.execute_reply": "2023-10-21T17:54:55.649876Z"
    },
    "papermill": {
     "duration": 0.094983,
     "end_time": "2023-10-21T17:54:55.654644",
     "exception": false,
     "start_time": "2023-10-21T17:54:55.559661",
     "status": "completed"
    },
    "tags": []
   },
   "outputs": [
    {
     "name": "stdout",
     "output_type": "stream",
     "text": [
      "prasad  got  90  marks\n"
     ]
    }
   ],
   "source": [
    "level(40,50,\"prasad\")"
   ]
  },
  {
   "cell_type": "code",
   "execution_count": 173,
   "id": "9ad848a4",
   "metadata": {
    "execution": {
     "iopub.execute_input": "2023-10-21T17:54:55.822238Z",
     "iopub.status.busy": "2023-10-21T17:54:55.821854Z",
     "iopub.status.idle": "2023-10-21T17:54:55.827864Z",
     "shell.execute_reply": "2023-10-21T17:54:55.826774Z"
    },
    "papermill": {
     "duration": 0.092024,
     "end_time": "2023-10-21T17:54:55.830342",
     "exception": false,
     "start_time": "2023-10-21T17:54:55.738318",
     "status": "completed"
    },
    "tags": []
   },
   "outputs": [
    {
     "name": "stdout",
     "output_type": "stream",
     "text": [
      "sush  got  130  marks\n"
     ]
    }
   ],
   "source": [
    "level(80,50,\"sush\")"
   ]
  },
  {
   "cell_type": "code",
   "execution_count": 174,
   "id": "b36b874b",
   "metadata": {
    "execution": {
     "iopub.execute_input": "2023-10-21T17:54:55.997257Z",
     "iopub.status.busy": "2023-10-21T17:54:55.996874Z",
     "iopub.status.idle": "2023-10-21T17:54:56.004140Z",
     "shell.execute_reply": "2023-10-21T17:54:56.003093Z"
    },
    "papermill": {
     "duration": 0.093324,
     "end_time": "2023-10-21T17:54:56.006855",
     "exception": false,
     "start_time": "2023-10-21T17:54:55.913531",
     "status": "completed"
    },
    "tags": []
   },
   "outputs": [
    {
     "name": "stdout",
     "output_type": "stream",
     "text": [
      "--\n",
      "50\n",
      "def  is not eligible\n"
     ]
    }
   ],
   "source": [
    "\n",
    "\n",
    "def marks (m1,m2,student=\"def\"):\n",
    "    print(m1)\n",
    "    if m1 > 50 and m2 > 50 :\n",
    "        print(student , \" is eligible\")\n",
    "    else :\n",
    "        print(student,\" is not eligible\")\n",
    "        \n",
    "        \n",
    "        \n",
    "print(\"--\")\n",
    "\n",
    "        \n",
    "        \n",
    "        \n",
    "        \n",
    "marks(m1=50,m2=40)"
   ]
  },
  {
   "cell_type": "code",
   "execution_count": 175,
   "id": "8ef08ebb",
   "metadata": {
    "execution": {
     "iopub.execute_input": "2023-10-21T17:54:56.173373Z",
     "iopub.status.busy": "2023-10-21T17:54:56.172897Z",
     "iopub.status.idle": "2023-10-21T17:54:56.179005Z",
     "shell.execute_reply": "2023-10-21T17:54:56.177610Z"
    },
    "papermill": {
     "duration": 0.09246,
     "end_time": "2023-10-21T17:54:56.181531",
     "exception": false,
     "start_time": "2023-10-21T17:54:56.089071",
     "status": "completed"
    },
    "tags": []
   },
   "outputs": [
    {
     "name": "stdout",
     "output_type": "stream",
     "text": [
      "80\n",
      "swapna  is eligible\n"
     ]
    }
   ],
   "source": [
    "marks(student = \"swapna\",m2=90,m1=80)"
   ]
  },
  {
   "cell_type": "code",
   "execution_count": 176,
   "id": "0a5e8a04",
   "metadata": {
    "execution": {
     "iopub.execute_input": "2023-10-21T17:54:56.349431Z",
     "iopub.status.busy": "2023-10-21T17:54:56.348785Z",
     "iopub.status.idle": "2023-10-21T17:54:56.352717Z",
     "shell.execute_reply": "2023-10-21T17:54:56.351680Z"
    },
    "papermill": {
     "duration": 0.091052,
     "end_time": "2023-10-21T17:54:56.355196",
     "exception": false,
     "start_time": "2023-10-21T17:54:56.264144",
     "status": "completed"
    },
    "tags": []
   },
   "outputs": [],
   "source": [
    "# marks(\"student\",90,80)"
   ]
  },
  {
   "cell_type": "code",
   "execution_count": 177,
   "id": "d5640c9f",
   "metadata": {
    "execution": {
     "iopub.execute_input": "2023-10-21T17:54:56.524294Z",
     "iopub.status.busy": "2023-10-21T17:54:56.523912Z",
     "iopub.status.idle": "2023-10-21T17:54:56.529996Z",
     "shell.execute_reply": "2023-10-21T17:54:56.528807Z"
    },
    "papermill": {
     "duration": 0.094523,
     "end_time": "2023-10-21T17:54:56.532761",
     "exception": false,
     "start_time": "2023-10-21T17:54:56.438238",
     "status": "completed"
    },
    "tags": []
   },
   "outputs": [
    {
     "name": "stdout",
     "output_type": "stream",
     "text": [
      "30\n",
      "parth  is not eligible\n"
     ]
    }
   ],
   "source": [
    "marks(30,30,\"parth\")"
   ]
  },
  {
   "cell_type": "code",
   "execution_count": 178,
   "id": "27533344",
   "metadata": {
    "execution": {
     "iopub.execute_input": "2023-10-21T17:54:56.701046Z",
     "iopub.status.busy": "2023-10-21T17:54:56.700373Z",
     "iopub.status.idle": "2023-10-21T17:54:56.706565Z",
     "shell.execute_reply": "2023-10-21T17:54:56.705233Z"
    },
    "papermill": {
     "duration": 0.093921,
     "end_time": "2023-10-21T17:54:56.709790",
     "exception": false,
     "start_time": "2023-10-21T17:54:56.615869",
     "status": "completed"
    },
    "tags": []
   },
   "outputs": [
    {
     "name": "stdout",
     "output_type": "stream",
     "text": [
      "90\n",
      "tayyab  is eligible\n"
     ]
    }
   ],
   "source": [
    "marks(90,90,\"tayyab\")"
   ]
  },
  {
   "cell_type": "code",
   "execution_count": 179,
   "id": "a354af42",
   "metadata": {
    "execution": {
     "iopub.execute_input": "2023-10-21T17:54:56.877982Z",
     "iopub.status.busy": "2023-10-21T17:54:56.877110Z",
     "iopub.status.idle": "2023-10-21T17:54:56.884371Z",
     "shell.execute_reply": "2023-10-21T17:54:56.883075Z"
    },
    "papermill": {
     "duration": 0.093892,
     "end_time": "2023-10-21T17:54:56.886896",
     "exception": false,
     "start_time": "2023-10-21T17:54:56.793004",
     "status": "completed"
    },
    "tags": []
   },
   "outputs": [
    {
     "name": "stdout",
     "output_type": "stream",
     "text": [
      "0\n",
      "st  is not eligible\n"
     ]
    }
   ],
   "source": [
    "\n",
    "\n",
    "def marks (m1=0,m2=0,student=\"st\") :\n",
    "    print(m1)\n",
    "    if m1 > 50 and m2 > 50 :\n",
    "        print(student , \" is eligible\")\n",
    "    else :\n",
    "        print(student,\" is not eligible\")\n",
    "        \n",
    "marks()"
   ]
  },
  {
   "cell_type": "code",
   "execution_count": 180,
   "id": "15f8b209",
   "metadata": {
    "execution": {
     "iopub.execute_input": "2023-10-21T17:54:57.057632Z",
     "iopub.status.busy": "2023-10-21T17:54:57.056707Z",
     "iopub.status.idle": "2023-10-21T17:54:57.061292Z",
     "shell.execute_reply": "2023-10-21T17:54:57.060458Z"
    },
    "papermill": {
     "duration": 0.093309,
     "end_time": "2023-10-21T17:54:57.064177",
     "exception": false,
     "start_time": "2023-10-21T17:54:56.970868",
     "status": "completed"
    },
    "tags": []
   },
   "outputs": [],
   "source": [
    "# print \n",
    "# return"
   ]
  },
  {
   "cell_type": "code",
   "execution_count": 181,
   "id": "22e86190",
   "metadata": {
    "execution": {
     "iopub.execute_input": "2023-10-21T17:54:57.232709Z",
     "iopub.status.busy": "2023-10-21T17:54:57.232265Z",
     "iopub.status.idle": "2023-10-21T17:54:57.239169Z",
     "shell.execute_reply": "2023-10-21T17:54:57.237802Z"
    },
    "papermill": {
     "duration": 0.094535,
     "end_time": "2023-10-21T17:54:57.242601",
     "exception": false,
     "start_time": "2023-10-21T17:54:57.148066",
     "status": "completed"
    },
    "tags": []
   },
   "outputs": [
    {
     "name": "stdout",
     "output_type": "stream",
     "text": [
      "---- 15\n"
     ]
    }
   ],
   "source": [
    "def add (a,b) :\n",
    "    c = a+b\n",
    "    return c\n",
    "\n",
    "p= add(5,10)\n",
    "print(\"----\",p)"
   ]
  },
  {
   "cell_type": "code",
   "execution_count": 182,
   "id": "f3e40ff2",
   "metadata": {
    "execution": {
     "iopub.execute_input": "2023-10-21T17:54:57.413553Z",
     "iopub.status.busy": "2023-10-21T17:54:57.412926Z",
     "iopub.status.idle": "2023-10-21T17:54:57.418977Z",
     "shell.execute_reply": "2023-10-21T17:54:57.417768Z"
    },
    "papermill": {
     "duration": 0.094612,
     "end_time": "2023-10-21T17:54:57.422096",
     "exception": false,
     "start_time": "2023-10-21T17:54:57.327484",
     "status": "completed"
    },
    "tags": []
   },
   "outputs": [
    {
     "name": "stdout",
     "output_type": "stream",
     "text": [
      "15\n",
      "---- None\n"
     ]
    }
   ],
   "source": [
    "def add (a,b) :\n",
    "    c = a+b\n",
    "    print(c)\n",
    "\n",
    "p = add(5,10)\n",
    "print(\"----\",p)"
   ]
  },
  {
   "cell_type": "code",
   "execution_count": 183,
   "id": "2d7824e6",
   "metadata": {
    "execution": {
     "iopub.execute_input": "2023-10-21T17:54:57.593740Z",
     "iopub.status.busy": "2023-10-21T17:54:57.593305Z",
     "iopub.status.idle": "2023-10-21T17:54:57.597831Z",
     "shell.execute_reply": "2023-10-21T17:54:57.596929Z"
    },
    "papermill": {
     "duration": 0.091981,
     "end_time": "2023-10-21T17:54:57.599976",
     "exception": false,
     "start_time": "2023-10-21T17:54:57.507995",
     "status": "completed"
    },
    "tags": []
   },
   "outputs": [],
   "source": [
    "# if add(5,10 ) > 10 :\n",
    "#     print(\"eligible\")\n",
    "# else :\n",
    "#     print(\"not eligible\")"
   ]
  },
  {
   "cell_type": "code",
   "execution_count": 184,
   "id": "fe4e92db",
   "metadata": {
    "execution": {
     "iopub.execute_input": "2023-10-21T17:54:57.767906Z",
     "iopub.status.busy": "2023-10-21T17:54:57.766983Z",
     "iopub.status.idle": "2023-10-21T17:54:57.775109Z",
     "shell.execute_reply": "2023-10-21T17:54:57.774008Z"
    },
    "papermill": {
     "duration": 0.094859,
     "end_time": "2023-10-21T17:54:57.777807",
     "exception": false,
     "start_time": "2023-10-21T17:54:57.682948",
     "status": "completed"
    },
    "tags": []
   },
   "outputs": [
    {
     "data": {
      "text/plain": [
       "15"
      ]
     },
     "execution_count": 184,
     "metadata": {},
     "output_type": "execute_result"
    }
   ],
   "source": [
    "def add (a,b) :\n",
    "    c = a+b\n",
    "    return c\n",
    "\n",
    "add(5,10)"
   ]
  },
  {
   "cell_type": "code",
   "execution_count": 185,
   "id": "23fa4bdc",
   "metadata": {
    "execution": {
     "iopub.execute_input": "2023-10-21T17:54:57.949729Z",
     "iopub.status.busy": "2023-10-21T17:54:57.949006Z",
     "iopub.status.idle": "2023-10-21T17:54:57.956332Z",
     "shell.execute_reply": "2023-10-21T17:54:57.955260Z"
    },
    "papermill": {
     "duration": 0.09664,
     "end_time": "2023-10-21T17:54:57.958738",
     "exception": false,
     "start_time": "2023-10-21T17:54:57.862098",
     "status": "completed"
    },
    "tags": []
   },
   "outputs": [
    {
     "data": {
      "text/plain": [
       "17"
      ]
     },
     "execution_count": 185,
     "metadata": {},
     "output_type": "execute_result"
    }
   ],
   "source": [
    "add = lambda  a,b : a+b\n",
    "add(7,10)"
   ]
  },
  {
   "cell_type": "code",
   "execution_count": 186,
   "id": "36c0101d",
   "metadata": {
    "execution": {
     "iopub.execute_input": "2023-10-21T17:54:58.130194Z",
     "iopub.status.busy": "2023-10-21T17:54:58.129449Z",
     "iopub.status.idle": "2023-10-21T17:54:58.136631Z",
     "shell.execute_reply": "2023-10-21T17:54:58.135636Z"
    },
    "papermill": {
     "duration": 0.094703,
     "end_time": "2023-10-21T17:54:58.138931",
     "exception": false,
     "start_time": "2023-10-21T17:54:58.044228",
     "status": "completed"
    },
    "tags": []
   },
   "outputs": [
    {
     "data": {
      "text/plain": [
       "30"
      ]
     },
     "execution_count": 186,
     "metadata": {},
     "output_type": "execute_result"
    }
   ],
   "source": [
    "add(10,20)"
   ]
  },
  {
   "cell_type": "code",
   "execution_count": 187,
   "id": "3d580c36",
   "metadata": {
    "execution": {
     "iopub.execute_input": "2023-10-21T17:54:58.309697Z",
     "iopub.status.busy": "2023-10-21T17:54:58.308887Z",
     "iopub.status.idle": "2023-10-21T17:54:58.313841Z",
     "shell.execute_reply": "2023-10-21T17:54:58.312900Z"
    },
    "papermill": {
     "duration": 0.093434,
     "end_time": "2023-10-21T17:54:58.316338",
     "exception": false,
     "start_time": "2023-10-21T17:54:58.222904",
     "status": "completed"
    },
    "tags": []
   },
   "outputs": [],
   "source": [
    "# list comprehenison :  list + for loop / any loop"
   ]
  },
  {
   "cell_type": "code",
   "execution_count": 188,
   "id": "4d45f3ef",
   "metadata": {
    "execution": {
     "iopub.execute_input": "2023-10-21T17:54:58.493596Z",
     "iopub.status.busy": "2023-10-21T17:54:58.492739Z",
     "iopub.status.idle": "2023-10-21T17:54:58.501481Z",
     "shell.execute_reply": "2023-10-21T17:54:58.500443Z"
    },
    "papermill": {
     "duration": 0.100868,
     "end_time": "2023-10-21T17:54:58.503778",
     "exception": false,
     "start_time": "2023-10-21T17:54:58.402910",
     "status": "completed"
    },
    "tags": []
   },
   "outputs": [
    {
     "data": {
      "text/plain": [
       "[20, 30]"
      ]
     },
     "execution_count": 188,
     "metadata": {},
     "output_type": "execute_result"
    }
   ],
   "source": [
    "a = [20 ,25,30,35]\n",
    "\n",
    "even = []\n",
    "\n",
    "for i in a :\n",
    "    if i%2 == 0 :\n",
    "        even.append(i)\n",
    "        \n",
    "        \n",
    "        \n",
    "even"
   ]
  },
  {
   "cell_type": "code",
   "execution_count": 189,
   "id": "0991a9aa",
   "metadata": {
    "execution": {
     "iopub.execute_input": "2023-10-21T17:54:58.676148Z",
     "iopub.status.busy": "2023-10-21T17:54:58.675757Z",
     "iopub.status.idle": "2023-10-21T17:54:58.683231Z",
     "shell.execute_reply": "2023-10-21T17:54:58.682085Z"
    },
    "papermill": {
     "duration": 0.097686,
     "end_time": "2023-10-21T17:54:58.685668",
     "exception": false,
     "start_time": "2023-10-21T17:54:58.587982",
     "status": "completed"
    },
    "tags": []
   },
   "outputs": [
    {
     "data": {
      "text/plain": [
       "[20, 30]"
      ]
     },
     "execution_count": 189,
     "metadata": {},
     "output_type": "execute_result"
    }
   ],
   "source": [
    "a = [20 ,25,30,35]\n",
    "\n",
    "even = [  i  for i in a  if i%2 == 0   ]       \n",
    "        \n",
    "        \n",
    "even"
   ]
  },
  {
   "cell_type": "code",
   "execution_count": 190,
   "id": "c17e23db",
   "metadata": {
    "execution": {
     "iopub.execute_input": "2023-10-21T17:54:58.860624Z",
     "iopub.status.busy": "2023-10-21T17:54:58.860234Z",
     "iopub.status.idle": "2023-10-21T17:54:58.867972Z",
     "shell.execute_reply": "2023-10-21T17:54:58.866797Z"
    },
    "papermill": {
     "duration": 0.100773,
     "end_time": "2023-10-21T17:54:58.870577",
     "exception": false,
     "start_time": "2023-10-21T17:54:58.769804",
     "status": "completed"
    },
    "tags": []
   },
   "outputs": [
    {
     "data": {
      "text/plain": [
       "{20: 'Abhi', 30: 'Abhi'}"
      ]
     },
     "execution_count": 190,
     "metadata": {},
     "output_type": "execute_result"
    }
   ],
   "source": [
    "a = [20 ,25,30,35]\n",
    "\n",
    "even = { i: \"Abhi\"  for i in a  if i%2 == 0   }       \n",
    "        \n",
    "        \n",
    "even"
   ]
  },
  {
   "cell_type": "code",
   "execution_count": 191,
   "id": "62ebdac7",
   "metadata": {
    "execution": {
     "iopub.execute_input": "2023-10-21T17:54:59.042264Z",
     "iopub.status.busy": "2023-10-21T17:54:59.041823Z",
     "iopub.status.idle": "2023-10-21T17:54:59.046460Z",
     "shell.execute_reply": "2023-10-21T17:54:59.045225Z"
    },
    "papermill": {
     "duration": 0.09294,
     "end_time": "2023-10-21T17:54:59.048673",
     "exception": false,
     "start_time": "2023-10-21T17:54:58.955733",
     "status": "completed"
    },
    "tags": []
   },
   "outputs": [],
   "source": [
    "# break continue pass"
   ]
  },
  {
   "cell_type": "code",
   "execution_count": 192,
   "id": "c2d7f33b",
   "metadata": {
    "execution": {
     "iopub.execute_input": "2023-10-21T17:54:59.219961Z",
     "iopub.status.busy": "2023-10-21T17:54:59.218878Z",
     "iopub.status.idle": "2023-10-21T17:54:59.224293Z",
     "shell.execute_reply": "2023-10-21T17:54:59.223493Z"
    },
    "papermill": {
     "duration": 0.093462,
     "end_time": "2023-10-21T17:54:59.226526",
     "exception": false,
     "start_time": "2023-10-21T17:54:59.133064",
     "status": "completed"
    },
    "tags": []
   },
   "outputs": [],
   "source": [
    "def add(a,b):\n",
    "    pass\n",
    "    \n",
    "add(8,9)"
   ]
  },
  {
   "cell_type": "code",
   "execution_count": 193,
   "id": "0a69425b",
   "metadata": {
    "execution": {
     "iopub.execute_input": "2023-10-21T17:54:59.399202Z",
     "iopub.status.busy": "2023-10-21T17:54:59.397999Z",
     "iopub.status.idle": "2023-10-21T17:54:59.404854Z",
     "shell.execute_reply": "2023-10-21T17:54:59.403629Z"
    },
    "papermill": {
     "duration": 0.096804,
     "end_time": "2023-10-21T17:54:59.407922",
     "exception": false,
     "start_time": "2023-10-21T17:54:59.311118",
     "status": "completed"
    },
    "tags": []
   },
   "outputs": [
    {
     "name": "stdout",
     "output_type": "stream",
     "text": [
      "0\n",
      "1\n",
      "2\n"
     ]
    }
   ],
   "source": [
    "for i in range(5):\n",
    "    if i == 3 :\n",
    "        break\n",
    "    print(i)"
   ]
  },
  {
   "cell_type": "code",
   "execution_count": 194,
   "id": "08bb7682",
   "metadata": {
    "execution": {
     "iopub.execute_input": "2023-10-21T17:54:59.585490Z",
     "iopub.status.busy": "2023-10-21T17:54:59.584795Z",
     "iopub.status.idle": "2023-10-21T17:54:59.591094Z",
     "shell.execute_reply": "2023-10-21T17:54:59.589679Z"
    },
    "papermill": {
     "duration": 0.096425,
     "end_time": "2023-10-21T17:54:59.593700",
     "exception": false,
     "start_time": "2023-10-21T17:54:59.497275",
     "status": "completed"
    },
    "tags": []
   },
   "outputs": [
    {
     "name": "stdout",
     "output_type": "stream",
     "text": [
      "0\n",
      "1\n",
      "2\n",
      "4\n"
     ]
    }
   ],
   "source": [
    "for i in range(5):\n",
    "    if i == 3 :\n",
    "        continue\n",
    "    print(i)"
   ]
  },
  {
   "cell_type": "code",
   "execution_count": 195,
   "id": "4716bf44",
   "metadata": {
    "execution": {
     "iopub.execute_input": "2023-10-21T17:54:59.766897Z",
     "iopub.status.busy": "2023-10-21T17:54:59.766532Z",
     "iopub.status.idle": "2023-10-21T17:54:59.771368Z",
     "shell.execute_reply": "2023-10-21T17:54:59.769884Z"
    },
    "papermill": {
     "duration": 0.094824,
     "end_time": "2023-10-21T17:54:59.773844",
     "exception": false,
     "start_time": "2023-10-21T17:54:59.679020",
     "status": "completed"
    },
    "tags": []
   },
   "outputs": [],
   "source": [
    "# \\n = new line \\t tab"
   ]
  },
  {
   "cell_type": "code",
   "execution_count": 196,
   "id": "4d294b2f",
   "metadata": {
    "execution": {
     "iopub.execute_input": "2023-10-21T17:54:59.945172Z",
     "iopub.status.busy": "2023-10-21T17:54:59.944476Z",
     "iopub.status.idle": "2023-10-21T17:54:59.949899Z",
     "shell.execute_reply": "2023-10-21T17:54:59.948711Z"
    },
    "papermill": {
     "duration": 0.093962,
     "end_time": "2023-10-21T17:54:59.952271",
     "exception": false,
     "start_time": "2023-10-21T17:54:59.858309",
     "status": "completed"
    },
    "tags": []
   },
   "outputs": [
    {
     "name": "stdout",
     "output_type": "stream",
     "text": [
      "mlv\n",
      "prasad\n"
     ]
    }
   ],
   "source": [
    "print(\"mlv\")\n",
    "print(\"prasad\")"
   ]
  },
  {
   "cell_type": "code",
   "execution_count": 197,
   "id": "a8e1b911",
   "metadata": {
    "execution": {
     "iopub.execute_input": "2023-10-21T17:55:00.123691Z",
     "iopub.status.busy": "2023-10-21T17:55:00.123268Z",
     "iopub.status.idle": "2023-10-21T17:55:00.127866Z",
     "shell.execute_reply": "2023-10-21T17:55:00.126873Z"
    },
    "papermill": {
     "duration": 0.093135,
     "end_time": "2023-10-21T17:55:00.130281",
     "exception": false,
     "start_time": "2023-10-21T17:55:00.037146",
     "status": "completed"
    },
    "tags": []
   },
   "outputs": [
    {
     "name": "stdout",
     "output_type": "stream",
     "text": [
      "mlv\n",
      "prasad\n"
     ]
    }
   ],
   "source": [
    "print(\"mlv\\nprasad\")"
   ]
  },
  {
   "cell_type": "code",
   "execution_count": 198,
   "id": "6add25e2",
   "metadata": {
    "execution": {
     "iopub.execute_input": "2023-10-21T17:55:00.302000Z",
     "iopub.status.busy": "2023-10-21T17:55:00.301626Z",
     "iopub.status.idle": "2023-10-21T17:55:00.306797Z",
     "shell.execute_reply": "2023-10-21T17:55:00.305585Z"
    },
    "papermill": {
     "duration": 0.095088,
     "end_time": "2023-10-21T17:55:00.310103",
     "exception": false,
     "start_time": "2023-10-21T17:55:00.215015",
     "status": "completed"
    },
    "tags": []
   },
   "outputs": [
    {
     "name": "stdout",
     "output_type": "stream",
     "text": [
      "mlv    prasad    is    a    good    boy\n"
     ]
    }
   ],
   "source": [
    "print(\"mlv    prasad    is    a    good    boy\")"
   ]
  },
  {
   "cell_type": "code",
   "execution_count": 199,
   "id": "ff115b47",
   "metadata": {
    "execution": {
     "iopub.execute_input": "2023-10-21T17:55:00.482420Z",
     "iopub.status.busy": "2023-10-21T17:55:00.481743Z",
     "iopub.status.idle": "2023-10-21T17:55:00.487302Z",
     "shell.execute_reply": "2023-10-21T17:55:00.485926Z"
    },
    "papermill": {
     "duration": 0.094881,
     "end_time": "2023-10-21T17:55:00.489815",
     "exception": false,
     "start_time": "2023-10-21T17:55:00.394934",
     "status": "completed"
    },
    "tags": []
   },
   "outputs": [
    {
     "name": "stdout",
     "output_type": "stream",
     "text": [
      "mlv\tprasad\tis\ta\tgood\tboy\n"
     ]
    }
   ],
   "source": [
    "print(\"mlv\\tprasad\\tis\\ta\\tgood\\tboy\")"
   ]
  },
  {
   "cell_type": "code",
   "execution_count": 200,
   "id": "6668e83d",
   "metadata": {
    "execution": {
     "iopub.execute_input": "2023-10-21T17:55:00.662769Z",
     "iopub.status.busy": "2023-10-21T17:55:00.662334Z",
     "iopub.status.idle": "2023-10-21T17:55:00.667689Z",
     "shell.execute_reply": "2023-10-21T17:55:00.666436Z"
    },
    "papermill": {
     "duration": 0.094263,
     "end_time": "2023-10-21T17:55:00.670187",
     "exception": false,
     "start_time": "2023-10-21T17:55:00.575924",
     "status": "completed"
    },
    "tags": []
   },
   "outputs": [],
   "source": [
    "# * * * * *\n",
    "# * * * *\n",
    "# * * * \n",
    "# * * \n",
    "# *"
   ]
  },
  {
   "cell_type": "code",
   "execution_count": 201,
   "id": "6d5ffddc",
   "metadata": {
    "execution": {
     "iopub.execute_input": "2023-10-21T17:55:00.843938Z",
     "iopub.status.busy": "2023-10-21T17:55:00.843535Z",
     "iopub.status.idle": "2023-10-21T17:55:00.848845Z",
     "shell.execute_reply": "2023-10-21T17:55:00.848092Z"
    },
    "papermill": {
     "duration": 0.095448,
     "end_time": "2023-10-21T17:55:00.850981",
     "exception": false,
     "start_time": "2023-10-21T17:55:00.755533",
     "status": "completed"
    },
    "tags": []
   },
   "outputs": [
    {
     "name": "stdout",
     "output_type": "stream",
     "text": [
      "* * * * * \n",
      "* * * * \n",
      "* * * \n",
      "* * \n",
      "* \n"
     ]
    }
   ],
   "source": [
    "for i in range(5):\n",
    "    print(\"* \"*(5-i))"
   ]
  },
  {
   "cell_type": "code",
   "execution_count": null,
   "id": "bba11126",
   "metadata": {
    "papermill": {
     "duration": 0.087047,
     "end_time": "2023-10-21T17:55:01.022941",
     "exception": false,
     "start_time": "2023-10-21T17:55:00.935894",
     "status": "completed"
    },
    "tags": []
   },
   "outputs": [],
   "source": []
  },
  {
   "cell_type": "code",
   "execution_count": null,
   "id": "3bfc475c",
   "metadata": {
    "papermill": {
     "duration": 0.085916,
     "end_time": "2023-10-21T17:55:01.194682",
     "exception": false,
     "start_time": "2023-10-21T17:55:01.108766",
     "status": "completed"
    },
    "tags": []
   },
   "outputs": [],
   "source": []
  },
  {
   "cell_type": "code",
   "execution_count": null,
   "id": "d5c3ce8f",
   "metadata": {
    "papermill": {
     "duration": 0.086596,
     "end_time": "2023-10-21T17:55:01.368167",
     "exception": false,
     "start_time": "2023-10-21T17:55:01.281571",
     "status": "completed"
    },
    "tags": []
   },
   "outputs": [],
   "source": []
  },
  {
   "cell_type": "code",
   "execution_count": null,
   "id": "a18eb6d8",
   "metadata": {
    "papermill": {
     "duration": 0.086306,
     "end_time": "2023-10-21T17:55:01.563341",
     "exception": false,
     "start_time": "2023-10-21T17:55:01.477035",
     "status": "completed"
    },
    "tags": []
   },
   "outputs": [],
   "source": []
  },
  {
   "cell_type": "code",
   "execution_count": null,
   "id": "5b97c4e1",
   "metadata": {
    "papermill": {
     "duration": 0.083923,
     "end_time": "2023-10-21T17:55:01.732479",
     "exception": false,
     "start_time": "2023-10-21T17:55:01.648556",
     "status": "completed"
    },
    "tags": []
   },
   "outputs": [],
   "source": []
  },
  {
   "cell_type": "code",
   "execution_count": null,
   "id": "782786d6",
   "metadata": {
    "papermill": {
     "duration": 0.08442,
     "end_time": "2023-10-21T17:55:01.902024",
     "exception": false,
     "start_time": "2023-10-21T17:55:01.817604",
     "status": "completed"
    },
    "tags": []
   },
   "outputs": [],
   "source": []
  },
  {
   "cell_type": "code",
   "execution_count": null,
   "id": "540dc3dd",
   "metadata": {
    "papermill": {
     "duration": 0.085426,
     "end_time": "2023-10-21T17:55:02.071998",
     "exception": false,
     "start_time": "2023-10-21T17:55:01.986572",
     "status": "completed"
    },
    "tags": []
   },
   "outputs": [],
   "source": []
  },
  {
   "cell_type": "code",
   "execution_count": null,
   "id": "e556a65d",
   "metadata": {
    "papermill": {
     "duration": 0.085437,
     "end_time": "2023-10-21T17:55:02.242494",
     "exception": false,
     "start_time": "2023-10-21T17:55:02.157057",
     "status": "completed"
    },
    "tags": []
   },
   "outputs": [],
   "source": []
  },
  {
   "cell_type": "code",
   "execution_count": null,
   "id": "7139137a",
   "metadata": {
    "papermill": {
     "duration": 0.085198,
     "end_time": "2023-10-21T17:55:02.413762",
     "exception": false,
     "start_time": "2023-10-21T17:55:02.328564",
     "status": "completed"
    },
    "tags": []
   },
   "outputs": [],
   "source": []
  },
  {
   "cell_type": "code",
   "execution_count": null,
   "id": "77c8a940",
   "metadata": {
    "papermill": {
     "duration": 0.088531,
     "end_time": "2023-10-21T17:55:02.589069",
     "exception": false,
     "start_time": "2023-10-21T17:55:02.500538",
     "status": "completed"
    },
    "tags": []
   },
   "outputs": [],
   "source": []
  },
  {
   "cell_type": "code",
   "execution_count": null,
   "id": "c227fb64",
   "metadata": {
    "papermill": {
     "duration": 0.08381,
     "end_time": "2023-10-21T17:55:02.756929",
     "exception": false,
     "start_time": "2023-10-21T17:55:02.673119",
     "status": "completed"
    },
    "tags": []
   },
   "outputs": [],
   "source": []
  },
  {
   "cell_type": "code",
   "execution_count": null,
   "id": "d735b9b9",
   "metadata": {
    "papermill": {
     "duration": 0.084005,
     "end_time": "2023-10-21T17:55:02.925949",
     "exception": false,
     "start_time": "2023-10-21T17:55:02.841944",
     "status": "completed"
    },
    "tags": []
   },
   "outputs": [],
   "source": []
  },
  {
   "cell_type": "code",
   "execution_count": null,
   "id": "6bfe5c46",
   "metadata": {
    "papermill": {
     "duration": 0.085011,
     "end_time": "2023-10-21T17:55:03.096193",
     "exception": false,
     "start_time": "2023-10-21T17:55:03.011182",
     "status": "completed"
    },
    "tags": []
   },
   "outputs": [],
   "source": []
  },
  {
   "cell_type": "code",
   "execution_count": null,
   "id": "3607bc97",
   "metadata": {
    "papermill": {
     "duration": 0.085853,
     "end_time": "2023-10-21T17:55:03.267683",
     "exception": false,
     "start_time": "2023-10-21T17:55:03.181830",
     "status": "completed"
    },
    "tags": []
   },
   "outputs": [],
   "source": []
  },
  {
   "cell_type": "code",
   "execution_count": null,
   "id": "a6363bfa",
   "metadata": {
    "papermill": {
     "duration": 0.086107,
     "end_time": "2023-10-21T17:55:03.440460",
     "exception": false,
     "start_time": "2023-10-21T17:55:03.354353",
     "status": "completed"
    },
    "tags": []
   },
   "outputs": [],
   "source": []
  },
  {
   "cell_type": "code",
   "execution_count": null,
   "id": "73e48c41",
   "metadata": {
    "papermill": {
     "duration": 0.084811,
     "end_time": "2023-10-21T17:55:03.611198",
     "exception": false,
     "start_time": "2023-10-21T17:55:03.526387",
     "status": "completed"
    },
    "tags": []
   },
   "outputs": [],
   "source": []
  },
  {
   "cell_type": "code",
   "execution_count": null,
   "id": "414ded0f",
   "metadata": {
    "papermill": {
     "duration": 0.084467,
     "end_time": "2023-10-21T17:55:03.780860",
     "exception": false,
     "start_time": "2023-10-21T17:55:03.696393",
     "status": "completed"
    },
    "tags": []
   },
   "outputs": [],
   "source": []
  },
  {
   "cell_type": "code",
   "execution_count": null,
   "id": "20a41041",
   "metadata": {
    "papermill": {
     "duration": 0.085986,
     "end_time": "2023-10-21T17:55:03.953180",
     "exception": false,
     "start_time": "2023-10-21T17:55:03.867194",
     "status": "completed"
    },
    "tags": []
   },
   "outputs": [],
   "source": []
  },
  {
   "cell_type": "code",
   "execution_count": null,
   "id": "ab7e07dd",
   "metadata": {
    "papermill": {
     "duration": 0.084786,
     "end_time": "2023-10-21T17:55:04.122810",
     "exception": false,
     "start_time": "2023-10-21T17:55:04.038024",
     "status": "completed"
    },
    "tags": []
   },
   "outputs": [],
   "source": []
  },
  {
   "cell_type": "code",
   "execution_count": null,
   "id": "6b6f12f8",
   "metadata": {
    "papermill": {
     "duration": 0.085191,
     "end_time": "2023-10-21T17:55:04.293084",
     "exception": false,
     "start_time": "2023-10-21T17:55:04.207893",
     "status": "completed"
    },
    "tags": []
   },
   "outputs": [],
   "source": []
  },
  {
   "cell_type": "code",
   "execution_count": null,
   "id": "47182bd2",
   "metadata": {
    "papermill": {
     "duration": 0.085063,
     "end_time": "2023-10-21T17:55:04.462630",
     "exception": false,
     "start_time": "2023-10-21T17:55:04.377567",
     "status": "completed"
    },
    "tags": []
   },
   "outputs": [],
   "source": []
  }
 ],
 "metadata": {
  "kernelspec": {
   "display_name": "Python 3",
   "language": "python",
   "name": "python3"
  },
  "language_info": {
   "codemirror_mode": {
    "name": "ipython",
    "version": 3
   },
   "file_extension": ".py",
   "mimetype": "text/x-python",
   "name": "python",
   "nbconvert_exporter": "python",
   "pygments_lexer": "ipython3",
   "version": "3.10.12"
  },
  "papermill": {
   "default_parameters": {},
   "duration": 43.057894,
   "end_time": "2023-10-21T17:55:04.971384",
   "environment_variables": {},
   "exception": null,
   "input_path": "__notebook__.ipynb",
   "output_path": "__notebook__.ipynb",
   "parameters": {},
   "start_time": "2023-10-21T17:54:21.913490",
   "version": "2.4.0"
  }
 },
 "nbformat": 4,
 "nbformat_minor": 5
}
