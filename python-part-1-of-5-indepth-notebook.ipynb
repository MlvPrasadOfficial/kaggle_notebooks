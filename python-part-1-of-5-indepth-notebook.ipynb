{
 "cells": [
  {
   "cell_type": "markdown",
   "id": "4ee981a1",
   "metadata": {
    "papermill": {
     "duration": 0.064719,
     "end_time": "2023-08-13T09:14:27.847573",
     "exception": false,
     "start_time": "2023-08-13T09:14:27.782854",
     "status": "completed"
    },
    "tags": []
   },
   "source": [
    "![mlv prasad](https://github.com/MlvPrasadOfficial/pycharmkaggle/raw/master/Black%20and%20Ivory%20Modern%20Name%20YouTube%20Channel%20Art.png)"
   ]
  },
  {
   "cell_type": "markdown",
   "id": "899613ae",
   "metadata": {
    "_cell_guid": "b1076dfc-b9ad-4769-8c92-a6c4dae69d19",
    "_uuid": "8f2839f25d086af736a60e9eeb907d3b93b6e0e5",
    "papermill": {
     "duration": 0.06044,
     "end_time": "2023-08-13T09:14:27.978919",
     "exception": false,
     "start_time": "2023-08-13T09:14:27.918479",
     "status": "completed"
    },
    "tags": []
   },
   "source": [
    "![mlv prasad](https://github.com/MlvPrasadOfficial/kaggle_notebooks/raw/main/CANVAPYTHON/N1.png)"
   ]
  },
  {
   "cell_type": "markdown",
   "id": "19b5be52",
   "metadata": {
    "papermill": {
     "duration": 0.072122,
     "end_time": "2023-08-13T09:14:28.126707",
     "exception": false,
     "start_time": "2023-08-13T09:14:28.054585",
     "status": "completed"
    },
    "tags": []
   },
   "source": [
    "<h1 align=\"left\"><font color='red'>PYTHON - PART O1 OF 05</font></h1>"
   ]
  },
  {
   "cell_type": "markdown",
   "id": "add6849d",
   "metadata": {
    "papermill": {
     "duration": 0.060957,
     "end_time": "2023-08-13T09:14:28.258890",
     "exception": false,
     "start_time": "2023-08-13T09:14:28.197933",
     "status": "completed"
    },
    "tags": []
   },
   "source": [
    "\n",
    "### 1. Introduction to Python\n",
    "### 2. Variables and Data Types\n",
    "### 3. Basic Input and Output\n",
    "### 4. Operators and Expressions\n",
    "### 5. Control Structures\n",
    "* if Statement\n",
    "*  elif Statement\n",
    "*  else Statement\n",
    "   \n",
    "### 6. Loops\n",
    "*  while Loop\n",
    "*  for Loop\n",
    "   \n",
    "### 7. Functions and Scope\n",
    "*  Defining Functions\n",
    "*  Function Arguments\n",
    "*  Return Values\n",
    "   \n",
    "### 8. Function Parameters and Return Values\n",
    "*  Default Values\n",
    "*  Keyword Arguments\n",
    "* Returning Multiple Values\n",
    "   \n",
    "### 9. Global and Local Variables\n",
    "### 10. Modules and Importing\n",
    "* Importing Modules\n",
    "* Aliasing Modules\n",
    "    \n",
    "### 11. Built-in Functions\n",
    "*  Common Built-in Functions\n",
    "*  Examples of Built-in Functions\n",
    "    \n",
    "### 12. List Data Type\n",
    "* Creating Lists\n",
    "* Indexing and Slicing Lists\n",
    "* List Methods\n",
    "    \n",
    "### 13. Tuple Data Type\n",
    "* Creating Tuples\n",
    "* Unpacking Tuples\n",
    "    \n",
    "### 14. Dictionaries\n",
    "*  Creating Dictionaries\n",
    "* Accessing and Modifying Values\n",
    "    \n",
    "### 15. Sets\n",
    "* Creating Sets\n",
    "* Set Operations\n",
    "    \n",
    "### 16. Strings and String Methods\n",
    "*  Creating Strings\n",
    "* String Methods\n",
    "    \n",
    "### 17. String Formatting\n",
    "* Using f-strings\n",
    "* Using str.format()\n",
    "    \n",
    "### 18. Conditional Expressions (Ternary Operators)\n",
    "### 19. List Comprehensions\n",
    "* Basic List Comprehensions\n",
    "*  List Comprehensions with Conditionals\n",
    "    \n",
    "### 20. Generators and Iterators\n",
    "* Creating Generators\n",
    "* Using the yield Keyword"
   ]
  },
  {
   "cell_type": "markdown",
   "id": "07e2ad07",
   "metadata": {
    "papermill": {
     "duration": 0.063516,
     "end_time": "2023-08-13T09:14:28.382703",
     "exception": false,
     "start_time": "2023-08-13T09:14:28.319187",
     "status": "completed"
    },
    "tags": []
   },
   "source": [
    "\n",
    "<h1 align=\"left\"><font color='red'>1</font></h1>"
   ]
  },
  {
   "cell_type": "markdown",
   "id": "27cc568d",
   "metadata": {
    "papermill": {
     "duration": 0.066162,
     "end_time": "2023-08-13T09:14:28.509175",
     "exception": false,
     "start_time": "2023-08-13T09:14:28.443013",
     "status": "completed"
    },
    "tags": []
   },
   "source": [
    "# Python Programming Notebook\n",
    "\n",
    "\n",
    "\n",
    "# Chapter 1: Introduction to Python\n",
    "\n",
    "#### Python is a powerful and versatile programming language that is widely used in various domains. It is known for its simplicity and readability, making it an excellent choice for beginners and experienced developers alike.\n",
    "\n",
    "####  Python is an interpreted language, which means you don't need to compile your code before running it. This makes development and debugging faster.\n",
    "\n",
    "### Key Features of Python:\n",
    "\n",
    "####  - **Readable Syntax:** Python uses indentation to define code blocks, making the code more readable.\n",
    "####  - **Rich Standard Library:** Python comes with a wide range of built-in modules and functions.\n",
    "####  - **Dynamic Typing:** You don't need to declare the data type of a variable explicitly.\n",
    "####  - **Object-Oriented:** Everything in Python is an object, allowing you to use object-oriented programming (OOP) concepts.\n",
    "####  - **Extensive Documentation:** Python has extensive documentation and a large, active community.\n",
    "\n",
    "### Python Installation\n",
    "\n",
    "####  To get started, you need to install Python on your machine. Visit the official Python website (https://www.python.org) to download the latest version.\n",
    "\n",
    "## Your First Python Program\n",
    "\n",
    "#### Let's start with a simple \"Hello, World!\" program:\n",
    "\n",
    "\n",
    "\n"
   ]
  },
  {
   "cell_type": "code",
   "execution_count": 1,
   "id": "2fe833dc",
   "metadata": {
    "execution": {
     "iopub.execute_input": "2023-08-13T09:14:28.634033Z",
     "iopub.status.busy": "2023-08-13T09:14:28.632743Z",
     "iopub.status.idle": "2023-08-13T09:14:28.650439Z",
     "shell.execute_reply": "2023-08-13T09:14:28.648855Z"
    },
    "papermill": {
     "duration": 0.081475,
     "end_time": "2023-08-13T09:14:28.653521",
     "exception": false,
     "start_time": "2023-08-13T09:14:28.572046",
     "status": "completed"
    },
    "tags": []
   },
   "outputs": [
    {
     "name": "stdout",
     "output_type": "stream",
     "text": [
      "Hello, World!\n"
     ]
    }
   ],
   "source": [
    "print(\"Hello, World!\")"
   ]
  },
  {
   "cell_type": "markdown",
   "id": "488afb75",
   "metadata": {
    "papermill": {
     "duration": 0.058725,
     "end_time": "2023-08-13T09:14:28.773704",
     "exception": false,
     "start_time": "2023-08-13T09:14:28.714979",
     "status": "completed"
    },
    "tags": []
   },
   "source": [
    "#### This single line of code demonstrates the power of Python's simplicity.\n",
    "\n",
    "## Running Python Code\n",
    "### You can run Python code in several ways:\n",
    "\n",
    "#### `Interactive Interprete`: You can open a terminal and enter the Python interpreter by typing python. This allows you to write and run code interactively.\n",
    "\n",
    "#### `Script Execution`: Save your Python code in a .py file and run it using the command python filename.py.\n",
    "\n",
    "## Python IDEs\n",
    "#### While you can write Python code in a plain text editor, using an integrated development environment (IDE) can enhance your productivity. Some popular Python IDEs include:\n",
    "\n",
    "#### `PyCharm`: A powerful IDE with great features for Python development.\n",
    "#### `Visual Studio Code`: A lightweight IDE with Python support through extensions.\n",
    "#### `Jupyter Notebook`: A web-based interactive environment for data science and analysis.\n",
    "### Conclusion\n",
    "#### This introduction has provided a glimpse into the world of Python programming. In the upcoming chapters, we'll dive deeper into various Python concepts, including variables, data types, control structures, and more."
   ]
  },
  {
   "cell_type": "markdown",
   "id": "92e2074a",
   "metadata": {
    "papermill": {
     "duration": 0.056874,
     "end_time": "2023-08-13T09:14:28.887550",
     "exception": false,
     "start_time": "2023-08-13T09:14:28.830676",
     "status": "completed"
    },
    "tags": []
   },
   "source": [
    "\n",
    "<h1 align=\"left\"><font color='red'>2</font></h1>"
   ]
  },
  {
   "cell_type": "markdown",
   "id": "61ff0de6",
   "metadata": {
    "papermill": {
     "duration": 0.060342,
     "end_time": "2023-08-13T09:14:29.008338",
     "exception": false,
     "start_time": "2023-08-13T09:14:28.947996",
     "status": "completed"
    },
    "tags": []
   },
   "source": [
    "\n",
    "# Chapter 2: Variables and Data Types\n",
    "\n",
    "#### In Python, variables are used to store and manage data. Each variable has a name and a value associated with it. Python supports various data types that determine the kind of data a variable can hold.\n",
    "\n",
    "## Variables\n",
    "\n",
    "#### A variable is created by assigning a value to a name. Variable names must start with a letter or underscore, followed by letters, digits, or underscores. Python is case-sensitive, so `myVariable`, `MyVariable`, and `MYVARIABLE` are treated as different variables.\n",
    "\n",
    "### Example:\n",
    "\n"
   ]
  },
  {
   "cell_type": "code",
   "execution_count": 2,
   "id": "fdcc20e2",
   "metadata": {
    "execution": {
     "iopub.execute_input": "2023-08-13T09:14:29.128954Z",
     "iopub.status.busy": "2023-08-13T09:14:29.127469Z",
     "iopub.status.idle": "2023-08-13T09:14:29.135288Z",
     "shell.execute_reply": "2023-08-13T09:14:29.133485Z"
    },
    "papermill": {
     "duration": 0.072551,
     "end_time": "2023-08-13T09:14:29.138415",
     "exception": false,
     "start_time": "2023-08-13T09:14:29.065864",
     "status": "completed"
    },
    "tags": []
   },
   "outputs": [],
   "source": [
    "\n",
    "age = 25\n",
    "name = \"John\""
   ]
  },
  {
   "cell_type": "markdown",
   "id": "fe2c53db",
   "metadata": {
    "papermill": {
     "duration": 0.057035,
     "end_time": "2023-08-13T09:14:29.253638",
     "exception": false,
     "start_time": "2023-08-13T09:14:29.196603",
     "status": "completed"
    },
    "tags": []
   },
   "source": [
    "## Data Types\n",
    "#### Python has several built-in data types that define the type of data a variable can hold.\n",
    "\n",
    "## Numeric Types\n",
    "#### `int`: Represents integers (whole numbers).\n",
    "#### `float`: Represents floating-point numbers (numbers with decimal points).\n",
    "#### `complex`: Represents complex numbers in the form a + bj."
   ]
  },
  {
   "cell_type": "code",
   "execution_count": 3,
   "id": "c76fb3fc",
   "metadata": {
    "execution": {
     "iopub.execute_input": "2023-08-13T09:14:29.368576Z",
     "iopub.status.busy": "2023-08-13T09:14:29.368127Z",
     "iopub.status.idle": "2023-08-13T09:14:29.373332Z",
     "shell.execute_reply": "2023-08-13T09:14:29.372376Z"
    },
    "papermill": {
     "duration": 0.066432,
     "end_time": "2023-08-13T09:14:29.376031",
     "exception": false,
     "start_time": "2023-08-13T09:14:29.309599",
     "status": "completed"
    },
    "tags": []
   },
   "outputs": [],
   "source": [
    "integer_var = 42\n",
    "float_var = 3.14\n",
    "complex_var = 2 + 3j\n"
   ]
  },
  {
   "cell_type": "markdown",
   "id": "4e9c8873",
   "metadata": {
    "papermill": {
     "duration": 0.055576,
     "end_time": "2023-08-13T09:14:29.490655",
     "exception": false,
     "start_time": "2023-08-13T09:14:29.435079",
     "status": "completed"
    },
    "tags": []
   },
   "source": [
    "## Text Type\n",
    "#### `str`: Represents strings, which are sequences of characters enclosed in single or double quotes."
   ]
  },
  {
   "cell_type": "code",
   "execution_count": 4,
   "id": "b2cd601d",
   "metadata": {
    "execution": {
     "iopub.execute_input": "2023-08-13T09:14:29.607366Z",
     "iopub.status.busy": "2023-08-13T09:14:29.605557Z",
     "iopub.status.idle": "2023-08-13T09:14:29.612653Z",
     "shell.execute_reply": "2023-08-13T09:14:29.611153Z"
    },
    "papermill": {
     "duration": 0.068005,
     "end_time": "2023-08-13T09:14:29.615407",
     "exception": false,
     "start_time": "2023-08-13T09:14:29.547402",
     "status": "completed"
    },
    "tags": []
   },
   "outputs": [],
   "source": [
    "name = \"Alice\"\n",
    "message = 'Hello, World!'\n"
   ]
  },
  {
   "cell_type": "markdown",
   "id": "399e3bf6",
   "metadata": {
    "papermill": {
     "duration": 0.059436,
     "end_time": "2023-08-13T09:14:29.733084",
     "exception": false,
     "start_time": "2023-08-13T09:14:29.673648",
     "status": "completed"
    },
    "tags": []
   },
   "source": [
    "## Sequence Types\n",
    "#### `list`: Represents ordered collections of items.\n",
    "#### `tuple`: Represents ordered, immutable collections.\n",
    "#### `range`: Represents a sequence of numbers."
   ]
  },
  {
   "cell_type": "code",
   "execution_count": 5,
   "id": "85c84425",
   "metadata": {
    "execution": {
     "iopub.execute_input": "2023-08-13T09:14:29.849980Z",
     "iopub.status.busy": "2023-08-13T09:14:29.848877Z",
     "iopub.status.idle": "2023-08-13T09:14:29.855684Z",
     "shell.execute_reply": "2023-08-13T09:14:29.854191Z"
    },
    "papermill": {
     "duration": 0.067431,
     "end_time": "2023-08-13T09:14:29.858425",
     "exception": false,
     "start_time": "2023-08-13T09:14:29.790994",
     "status": "completed"
    },
    "tags": []
   },
   "outputs": [],
   "source": [
    "fruits = [\"apple\", \"banana\", \"cherry\"]\n",
    "coordinates = (3, 5)\n",
    "numbers = range(1, 6)  # Represents [1, 2, 3, 4, 5]\n"
   ]
  },
  {
   "cell_type": "markdown",
   "id": "d3a65899",
   "metadata": {
    "papermill": {
     "duration": 0.061914,
     "end_time": "2023-08-13T09:14:29.977398",
     "exception": false,
     "start_time": "2023-08-13T09:14:29.915484",
     "status": "completed"
    },
    "tags": []
   },
   "source": [
    "## Mapping Type\n",
    "#### `dict`: Represents key-value pairs where each key is associated with a value."
   ]
  },
  {
   "cell_type": "markdown",
   "id": "b324af0c",
   "metadata": {
    "papermill": {
     "duration": 0.057934,
     "end_time": "2023-08-13T09:14:30.092243",
     "exception": false,
     "start_time": "2023-08-13T09:14:30.034309",
     "status": "completed"
    },
    "tags": []
   },
   "source": [
    "## Set Types\n",
    "#### `set`: Represents an unordered collection of unique items.\n",
    "#### `frozenset`: Represents an immutable set."
   ]
  },
  {
   "cell_type": "code",
   "execution_count": 6,
   "id": "3375cdd4",
   "metadata": {
    "execution": {
     "iopub.execute_input": "2023-08-13T09:14:30.210745Z",
     "iopub.status.busy": "2023-08-13T09:14:30.210252Z",
     "iopub.status.idle": "2023-08-13T09:14:30.216294Z",
     "shell.execute_reply": "2023-08-13T09:14:30.214999Z"
    },
    "papermill": {
     "duration": 0.068177,
     "end_time": "2023-08-13T09:14:30.218787",
     "exception": false,
     "start_time": "2023-08-13T09:14:30.150610",
     "status": "completed"
    },
    "tags": []
   },
   "outputs": [],
   "source": [
    "fruits_set = {\"apple\", \"banana\", \"cherry\"}\n",
    "fruits_frozen = frozenset({\"apple\", \"banana\", \"cherry\"})\n"
   ]
  },
  {
   "cell_type": "markdown",
   "id": "c3e55e6a",
   "metadata": {
    "papermill": {
     "duration": 0.05551,
     "end_time": "2023-08-13T09:14:30.331888",
     "exception": false,
     "start_time": "2023-08-13T09:14:30.276378",
     "status": "completed"
    },
    "tags": []
   },
   "source": [
    "## Boolean Type\n",
    "#### `bool`: Represents a boolean value (True or False)."
   ]
  },
  {
   "cell_type": "code",
   "execution_count": 7,
   "id": "3b035fbd",
   "metadata": {
    "execution": {
     "iopub.execute_input": "2023-08-13T09:14:30.450573Z",
     "iopub.status.busy": "2023-08-13T09:14:30.449743Z",
     "iopub.status.idle": "2023-08-13T09:14:30.454839Z",
     "shell.execute_reply": "2023-08-13T09:14:30.454003Z"
    },
    "papermill": {
     "duration": 0.067313,
     "end_time": "2023-08-13T09:14:30.457949",
     "exception": false,
     "start_time": "2023-08-13T09:14:30.390636",
     "status": "completed"
    },
    "tags": []
   },
   "outputs": [],
   "source": [
    "is_student = True\n",
    "is_adult = False\n"
   ]
  },
  {
   "cell_type": "markdown",
   "id": "113b5210",
   "metadata": {
    "papermill": {
     "duration": 0.056162,
     "end_time": "2023-08-13T09:14:30.570998",
     "exception": false,
     "start_time": "2023-08-13T09:14:30.514836",
     "status": "completed"
    },
    "tags": []
   },
   "source": [
    "## None Type\n",
    "#### `None`: Represents the absence of a value or a null value."
   ]
  },
  {
   "cell_type": "code",
   "execution_count": 8,
   "id": "87785da0",
   "metadata": {
    "execution": {
     "iopub.execute_input": "2023-08-13T09:14:30.686229Z",
     "iopub.status.busy": "2023-08-13T09:14:30.685350Z",
     "iopub.status.idle": "2023-08-13T09:14:30.692119Z",
     "shell.execute_reply": "2023-08-13T09:14:30.690610Z"
    },
    "papermill": {
     "duration": 0.068503,
     "end_time": "2023-08-13T09:14:30.695307",
     "exception": false,
     "start_time": "2023-08-13T09:14:30.626804",
     "status": "completed"
    },
    "tags": []
   },
   "outputs": [],
   "source": [
    "empty_variable = None\n"
   ]
  },
  {
   "cell_type": "markdown",
   "id": "81c6f3a8",
   "metadata": {
    "papermill": {
     "duration": 0.056595,
     "end_time": "2023-08-13T09:14:30.809629",
     "exception": false,
     "start_time": "2023-08-13T09:14:30.753034",
     "status": "completed"
    },
    "tags": []
   },
   "source": [
    "## Type Conversion\n",
    "#### You can convert between different data types using built-in functions like int(), float(), str(), and more.\n",
    "\n",
    "### Example:"
   ]
  },
  {
   "cell_type": "code",
   "execution_count": 9,
   "id": "8abdb5a2",
   "metadata": {
    "execution": {
     "iopub.execute_input": "2023-08-13T09:14:30.927550Z",
     "iopub.status.busy": "2023-08-13T09:14:30.926941Z",
     "iopub.status.idle": "2023-08-13T09:14:30.933528Z",
     "shell.execute_reply": "2023-08-13T09:14:30.932224Z"
    },
    "papermill": {
     "duration": 0.068763,
     "end_time": "2023-08-13T09:14:30.936380",
     "exception": false,
     "start_time": "2023-08-13T09:14:30.867617",
     "status": "completed"
    },
    "tags": []
   },
   "outputs": [],
   "source": [
    "x = 5\n",
    "y = float(x)  # Converts x to a floating-point number\n",
    "z = str(x)    # Converts x to a string\n"
   ]
  },
  {
   "cell_type": "markdown",
   "id": "f0a44585",
   "metadata": {
    "papermill": {
     "duration": 0.055325,
     "end_time": "2023-08-13T09:14:31.047036",
     "exception": false,
     "start_time": "2023-08-13T09:14:30.991711",
     "status": "completed"
    },
    "tags": []
   },
   "source": [
    "### Conclusion\n",
    "#### Understanding variables and data types is essential for effectively working with data in Python. In the upcoming chapters, we'll explore more concepts that build on these fundamentals."
   ]
  },
  {
   "cell_type": "markdown",
   "id": "3e85b42c",
   "metadata": {
    "papermill": {
     "duration": 0.057842,
     "end_time": "2023-08-13T09:14:31.165190",
     "exception": false,
     "start_time": "2023-08-13T09:14:31.107348",
     "status": "completed"
    },
    "tags": []
   },
   "source": [
    "\n",
    "<h1 align=\"left\"><font color='red'>3</font></h1>"
   ]
  },
  {
   "cell_type": "markdown",
   "id": "cd7db633",
   "metadata": {
    "papermill": {
     "duration": 0.056418,
     "end_time": "2023-08-13T09:14:31.280581",
     "exception": false,
     "start_time": "2023-08-13T09:14:31.224163",
     "status": "completed"
    },
    "tags": []
   },
   "source": [
    "# Chapter 3: Basic Input and Output\n",
    "\n",
    "#### In this chapter, we will explore how to interact with users through input and output operations. Input allows us to gather information from users, while output allows us to display information to users.\n",
    "\n",
    "## Output (Printing)\n",
    "\n",
    "#### In Python, the `print()` function is used to display text and data to the screen. You can pass multiple arguments to `print()` to display them with a space separator.\n",
    "\n",
    "### Examples:"
   ]
  },
  {
   "cell_type": "code",
   "execution_count": 10,
   "id": "28164e4f",
   "metadata": {
    "execution": {
     "iopub.execute_input": "2023-08-13T09:14:31.393564Z",
     "iopub.status.busy": "2023-08-13T09:14:31.392724Z",
     "iopub.status.idle": "2023-08-13T09:14:31.399824Z",
     "shell.execute_reply": "2023-08-13T09:14:31.398279Z"
    },
    "papermill": {
     "duration": 0.067042,
     "end_time": "2023-08-13T09:14:31.402340",
     "exception": false,
     "start_time": "2023-08-13T09:14:31.335298",
     "status": "completed"
    },
    "tags": []
   },
   "outputs": [
    {
     "name": "stdout",
     "output_type": "stream",
     "text": [
      "Hello, World!\n",
      "My name is John\n"
     ]
    }
   ],
   "source": [
    "print(\"Hello, World!\")\n",
    "print(\"My name is\", \"John\")"
   ]
  },
  {
   "cell_type": "markdown",
   "id": "f89d1dc3",
   "metadata": {
    "papermill": {
     "duration": 0.056593,
     "end_time": "2023-08-13T09:14:31.515766",
     "exception": false,
     "start_time": "2023-08-13T09:14:31.459173",
     "status": "completed"
    },
    "tags": []
   },
   "source": [
    "####  You can also format output using f-strings or the .format() method.\n",
    "\n",
    "### Example (f-strings):"
   ]
  },
  {
   "cell_type": "code",
   "execution_count": 11,
   "id": "3100e425",
   "metadata": {
    "execution": {
     "iopub.execute_input": "2023-08-13T09:14:31.633552Z",
     "iopub.status.busy": "2023-08-13T09:14:31.632740Z",
     "iopub.status.idle": "2023-08-13T09:14:31.639708Z",
     "shell.execute_reply": "2023-08-13T09:14:31.638161Z"
    },
    "papermill": {
     "duration": 0.067881,
     "end_time": "2023-08-13T09:14:31.642256",
     "exception": false,
     "start_time": "2023-08-13T09:14:31.574375",
     "status": "completed"
    },
    "tags": []
   },
   "outputs": [
    {
     "name": "stdout",
     "output_type": "stream",
     "text": [
      "My name is Alice and I am 30 years old.\n"
     ]
    }
   ],
   "source": [
    "name = \"Alice\"\n",
    "age = 30\n",
    "print(f\"My name is {name} and I am {age} years old.\")\n"
   ]
  },
  {
   "cell_type": "markdown",
   "id": "499112a1",
   "metadata": {
    "papermill": {
     "duration": 0.060988,
     "end_time": "2023-08-13T09:14:31.761646",
     "exception": false,
     "start_time": "2023-08-13T09:14:31.700658",
     "status": "completed"
    },
    "tags": []
   },
   "source": [
    "### Example (.format() method):"
   ]
  },
  {
   "cell_type": "code",
   "execution_count": 12,
   "id": "fdd88db8",
   "metadata": {
    "execution": {
     "iopub.execute_input": "2023-08-13T09:14:31.894972Z",
     "iopub.status.busy": "2023-08-13T09:14:31.893785Z",
     "iopub.status.idle": "2023-08-13T09:14:31.901049Z",
     "shell.execute_reply": "2023-08-13T09:14:31.899707Z"
    },
    "papermill": {
     "duration": 0.078719,
     "end_time": "2023-08-13T09:14:31.904252",
     "exception": false,
     "start_time": "2023-08-13T09:14:31.825533",
     "status": "completed"
    },
    "tags": []
   },
   "outputs": [
    {
     "name": "stdout",
     "output_type": "stream",
     "text": [
      "My name is Bob and I am 25 years old.\n"
     ]
    }
   ],
   "source": [
    "name = \"Bob\"\n",
    "age = 25\n",
    "print(\"My name is {} and I am {} years old.\".format(name, age))\n"
   ]
  },
  {
   "cell_type": "markdown",
   "id": "28d31d8a",
   "metadata": {
    "papermill": {
     "duration": 0.076433,
     "end_time": "2023-08-13T09:14:32.045045",
     "exception": false,
     "start_time": "2023-08-13T09:14:31.968612",
     "status": "completed"
    },
    "tags": []
   },
   "source": [
    "## Input\n",
    "#### The input() function allows you to prompt the user for input. It displays a message and waits for the user to type something, then returns the entered text as a string.\n",
    "\n",
    "### Example:"
   ]
  },
  {
   "cell_type": "code",
   "execution_count": 13,
   "id": "2af3db7a",
   "metadata": {
    "execution": {
     "iopub.execute_input": "2023-08-13T09:14:32.168342Z",
     "iopub.status.busy": "2023-08-13T09:14:32.167916Z",
     "iopub.status.idle": "2023-08-13T09:14:32.172917Z",
     "shell.execute_reply": "2023-08-13T09:14:32.171801Z"
    },
    "papermill": {
     "duration": 0.068086,
     "end_time": "2023-08-13T09:14:32.176004",
     "exception": false,
     "start_time": "2023-08-13T09:14:32.107918",
     "status": "completed"
    },
    "tags": []
   },
   "outputs": [],
   "source": [
    "# name = input(\"Enter your name: \")\n",
    "# print(\"Hello,\", name)\n"
   ]
  },
  {
   "cell_type": "markdown",
   "id": "0abfae1b",
   "metadata": {
    "papermill": {
     "duration": 0.060648,
     "end_time": "2023-08-13T09:14:32.294530",
     "exception": false,
     "start_time": "2023-08-13T09:14:32.233882",
     "status": "completed"
    },
    "tags": []
   },
   "source": [
    "####  You can convert the input to other data types using functions like int(), float(), or bool().\n",
    "\n",
    "### Example:"
   ]
  },
  {
   "cell_type": "code",
   "execution_count": 14,
   "id": "f9480ba1",
   "metadata": {
    "execution": {
     "iopub.execute_input": "2023-08-13T09:14:32.415411Z",
     "iopub.status.busy": "2023-08-13T09:14:32.413955Z",
     "iopub.status.idle": "2023-08-13T09:14:32.419401Z",
     "shell.execute_reply": "2023-08-13T09:14:32.418058Z"
    },
    "papermill": {
     "duration": 0.067802,
     "end_time": "2023-08-13T09:14:32.422510",
     "exception": false,
     "start_time": "2023-08-13T09:14:32.354708",
     "status": "completed"
    },
    "tags": []
   },
   "outputs": [],
   "source": [
    "# age = int(input(\"Enter your age: \"))\n",
    "# age"
   ]
  },
  {
   "cell_type": "markdown",
   "id": "18288da4",
   "metadata": {
    "papermill": {
     "duration": 0.056427,
     "end_time": "2023-08-13T09:14:32.537373",
     "exception": false,
     "start_time": "2023-08-13T09:14:32.480946",
     "status": "completed"
    },
    "tags": []
   },
   "source": [
    "## File Input and Output\n",
    "####  Python provides built-in functions for working with files. You can open a file using the open() function, read from it using methods like .read() or .readline(), and write to it using methods like .write().\n",
    "\n",
    "### Example (Reading from a file):"
   ]
  },
  {
   "cell_type": "markdown",
   "id": "fa6e4145",
   "metadata": {
    "papermill": {
     "duration": 0.057403,
     "end_time": "2023-08-13T09:14:32.653369",
     "exception": false,
     "start_time": "2023-08-13T09:14:32.595966",
     "status": "completed"
    },
    "tags": []
   },
   "source": [
    "```python\n",
    "file = open(\"example.txt\", \"r\")\n",
    "content = file.read()\n",
    "print(content)\n",
    "file.close()\n",
    "```"
   ]
  },
  {
   "cell_type": "markdown",
   "id": "27b0d259",
   "metadata": {
    "papermill": {
     "duration": 0.053928,
     "end_time": "2023-08-13T09:14:32.765780",
     "exception": false,
     "start_time": "2023-08-13T09:14:32.711852",
     "status": "completed"
    },
    "tags": []
   },
   "source": [
    "### Example (Writing to a file):"
   ]
  },
  {
   "cell_type": "markdown",
   "id": "6a944ee0",
   "metadata": {
    "papermill": {
     "duration": 0.058746,
     "end_time": "2023-08-13T09:14:32.880105",
     "exception": false,
     "start_time": "2023-08-13T09:14:32.821359",
     "status": "completed"
    },
    "tags": []
   },
   "source": [
    "```python\n",
    "file = open(\"output.txt\", \"w\")\n",
    "file.write(\"This is a line written to the file.\")\n",
    "file.close()\n",
    "```"
   ]
  },
  {
   "cell_type": "markdown",
   "id": "31fc1c19",
   "metadata": {
    "papermill": {
     "duration": 0.057318,
     "end_time": "2023-08-13T09:14:32.999399",
     "exception": false,
     "start_time": "2023-08-13T09:14:32.942081",
     "status": "completed"
    },
    "tags": []
   },
   "source": [
    "## Formatted Output\n",
    "####  Python provides various ways to format output using placeholders and formatting options.\n",
    "\n",
    "### Example (Using placeholders):"
   ]
  },
  {
   "cell_type": "code",
   "execution_count": 15,
   "id": "a02eb1c6",
   "metadata": {
    "execution": {
     "iopub.execute_input": "2023-08-13T09:14:33.121231Z",
     "iopub.status.busy": "2023-08-13T09:14:33.120760Z",
     "iopub.status.idle": "2023-08-13T09:14:33.126882Z",
     "shell.execute_reply": "2023-08-13T09:14:33.125660Z"
    },
    "papermill": {
     "duration": 0.072752,
     "end_time": "2023-08-13T09:14:33.130404",
     "exception": false,
     "start_time": "2023-08-13T09:14:33.057652",
     "status": "completed"
    },
    "tags": []
   },
   "outputs": [
    {
     "name": "stdout",
     "output_type": "stream",
     "text": [
      "Name: Eve, Age: 22\n"
     ]
    }
   ],
   "source": [
    "name = \"Eve\"\n",
    "age = 22\n",
    "print(\"Name: {}, Age: {}\".format(name, age))\n"
   ]
  },
  {
   "cell_type": "markdown",
   "id": "a9cc19e9",
   "metadata": {
    "papermill": {
     "duration": 0.059051,
     "end_time": "2023-08-13T09:14:33.249421",
     "exception": false,
     "start_time": "2023-08-13T09:14:33.190370",
     "status": "completed"
    },
    "tags": []
   },
   "source": [
    "### Example (Using f-strings with formatting):"
   ]
  },
  {
   "cell_type": "code",
   "execution_count": 16,
   "id": "27796578",
   "metadata": {
    "execution": {
     "iopub.execute_input": "2023-08-13T09:14:33.368421Z",
     "iopub.status.busy": "2023-08-13T09:14:33.367930Z",
     "iopub.status.idle": "2023-08-13T09:14:33.373655Z",
     "shell.execute_reply": "2023-08-13T09:14:33.372166Z"
    },
    "papermill": {
     "duration": 0.06924,
     "end_time": "2023-08-13T09:14:33.377716",
     "exception": false,
     "start_time": "2023-08-13T09:14:33.308476",
     "status": "completed"
    },
    "tags": []
   },
   "outputs": [
    {
     "name": "stdout",
     "output_type": "stream",
     "text": [
      "Value of pi: 3.14\n"
     ]
    }
   ],
   "source": [
    "pi = 3.141592653589793\n",
    "print(f\"Value of pi: {pi:.2f}\")\n"
   ]
  },
  {
   "cell_type": "markdown",
   "id": "2e0e7958",
   "metadata": {
    "papermill": {
     "duration": 0.057811,
     "end_time": "2023-08-13T09:14:33.492594",
     "exception": false,
     "start_time": "2023-08-13T09:14:33.434783",
     "status": "completed"
    },
    "tags": []
   },
   "source": [
    "### Conclusion\n",
    "####  Understanding basic input and output operations is essential for building interactive Python programs. In the upcoming chapters, we'll delve into more advanced concepts that build on these fundamentals."
   ]
  },
  {
   "cell_type": "markdown",
   "id": "5e44f792",
   "metadata": {
    "papermill": {
     "duration": 0.054985,
     "end_time": "2023-08-13T09:14:33.603047",
     "exception": false,
     "start_time": "2023-08-13T09:14:33.548062",
     "status": "completed"
    },
    "tags": []
   },
   "source": [
    "\n",
    "<h1 align=\"left\"><font color='red'>4</font></h1>"
   ]
  },
  {
   "cell_type": "markdown",
   "id": "f21504cf",
   "metadata": {
    "papermill": {
     "duration": 0.060235,
     "end_time": "2023-08-13T09:14:33.721133",
     "exception": false,
     "start_time": "2023-08-13T09:14:33.660898",
     "status": "completed"
    },
    "tags": []
   },
   "source": [
    "# Chapter 4: Operators and Expressions\n",
    "\n",
    "####  In this chapter, we will explore operators and expressions in Python. Operators are symbols that perform operations on variables and values, and expressions combine variables, values, and operators to create new values.\n",
    "\n",
    "## Arithmetic Operators\n",
    "\n",
    "### Arithmetic operators are used to perform mathematical operations on numbers.\n",
    "\n",
    "####  - **Addition (+):** Adds two operands.\n",
    "####  - **Subtraction (-):** Subtracts the right operand from the left operand.\n",
    "####  - **Multiplication (*):** Multiplies two operands.\n",
    "####  - **Division (/):** Divides the left operand by the right operand.\n",
    "####  - **Modulus (%):** Returns the remainder of the division.\n",
    "####  - **Exponentiation (**):** Raises the left operand to the power of the right operand.\n",
    "####  - **Floor Division (//):** Divides and returns the integer part of the division.\n",
    "\n",
    "#### Examples:"
   ]
  },
  {
   "cell_type": "code",
   "execution_count": 17,
   "id": "015dded1",
   "metadata": {
    "execution": {
     "iopub.execute_input": "2023-08-13T09:14:33.838170Z",
     "iopub.status.busy": "2023-08-13T09:14:33.837450Z",
     "iopub.status.idle": "2023-08-13T09:14:33.844574Z",
     "shell.execute_reply": "2023-08-13T09:14:33.843291Z"
    },
    "papermill": {
     "duration": 0.067857,
     "end_time": "2023-08-13T09:14:33.847265",
     "exception": false,
     "start_time": "2023-08-13T09:14:33.779408",
     "status": "completed"
    },
    "tags": []
   },
   "outputs": [
    {
     "name": "stdout",
     "output_type": "stream",
     "text": [
      "13\n",
      "7\n",
      "30\n",
      "3.3333333333333335\n",
      "1\n",
      "1000\n",
      "3\n"
     ]
    }
   ],
   "source": [
    "x = 10\n",
    "y = 3\n",
    "print(x + y)      # Output: 13\n",
    "print(x - y)      # Output: 7\n",
    "print(x * y)      # Output: 30\n",
    "print(x / y)      # Output: 3.3333...\n",
    "print(x % y)      # Output: 1\n",
    "print(x ** y)     # Output: 1000\n",
    "print(x // y)     # Output: 3"
   ]
  },
  {
   "cell_type": "markdown",
   "id": "f6b2bb7c",
   "metadata": {
    "papermill": {
     "duration": 0.059485,
     "end_time": "2023-08-13T09:14:33.965430",
     "exception": false,
     "start_time": "2023-08-13T09:14:33.905945",
     "status": "completed"
    },
    "tags": []
   },
   "source": [
    "## Comparison Operators\n",
    "### Comparison operators are used to compare values.\n",
    "\n",
    "#### Equal to (==): Returns True if both operands are equal.\n",
    "#### Not equal to (!=): Returns True if operands are not equal.\n",
    "#### Greater than (>): Returns True if the left operand is greater than the right operand.\n",
    "#### Less than (<): Returns True if the left operand is less than the right operand.\n",
    "#### Greater than or equal to (>=): Returns True if the left operand is greater than or equal to the right operand.\n",
    "#### Less than or equal to (<=): Returns True if the left operand is less than or equal to the right operand."
   ]
  },
  {
   "cell_type": "code",
   "execution_count": 18,
   "id": "9015b441",
   "metadata": {
    "execution": {
     "iopub.execute_input": "2023-08-13T09:14:34.080913Z",
     "iopub.status.busy": "2023-08-13T09:14:34.080461Z",
     "iopub.status.idle": "2023-08-13T09:14:34.089222Z",
     "shell.execute_reply": "2023-08-13T09:14:34.087517Z"
    },
    "papermill": {
     "duration": 0.069383,
     "end_time": "2023-08-13T09:14:34.091723",
     "exception": false,
     "start_time": "2023-08-13T09:14:34.022340",
     "status": "completed"
    },
    "tags": []
   },
   "outputs": [
    {
     "name": "stdout",
     "output_type": "stream",
     "text": [
      "False\n",
      "True\n",
      "False\n",
      "True\n",
      "False\n",
      "True\n"
     ]
    }
   ],
   "source": [
    "a = 5\n",
    "b = 7\n",
    "print(a == b)     # Output: False\n",
    "print(a != b)     # Output: True\n",
    "print(a > b)      # Output: False\n",
    "print(a < b)      # Output: True\n",
    "print(a >= b)     # Output: False\n",
    "print(a <= b)     # Output: True"
   ]
  },
  {
   "cell_type": "markdown",
   "id": "92e8607d",
   "metadata": {
    "papermill": {
     "duration": 0.056524,
     "end_time": "2023-08-13T09:14:34.210276",
     "exception": false,
     "start_time": "2023-08-13T09:14:34.153752",
     "status": "completed"
    },
    "tags": []
   },
   "source": [
    "## Logical Operators\n",
    "### Logical operators are used to combine conditional statements.\n",
    "\n",
    "#### `and`: Returns True if both conditions are True.\n",
    "#### `or`: Returns True if at least one condition is True.\n",
    "#### `not`: Returns the opposite of the condition."
   ]
  },
  {
   "cell_type": "code",
   "execution_count": 19,
   "id": "7bc02962",
   "metadata": {
    "execution": {
     "iopub.execute_input": "2023-08-13T09:14:34.329304Z",
     "iopub.status.busy": "2023-08-13T09:14:34.328857Z",
     "iopub.status.idle": "2023-08-13T09:14:34.336483Z",
     "shell.execute_reply": "2023-08-13T09:14:34.335129Z"
    },
    "papermill": {
     "duration": 0.072208,
     "end_time": "2023-08-13T09:14:34.341895",
     "exception": false,
     "start_time": "2023-08-13T09:14:34.269687",
     "status": "completed"
    },
    "tags": []
   },
   "outputs": [
    {
     "name": "stdout",
     "output_type": "stream",
     "text": [
      "False\n",
      "True\n",
      "False\n"
     ]
    }
   ],
   "source": [
    "x = True\n",
    "y = False\n",
    "print(x and y)    # Output: False\n",
    "print(x or y)     # Output: True\n",
    "print(not x)      # Output: False\n"
   ]
  },
  {
   "cell_type": "markdown",
   "id": "fd0086f6",
   "metadata": {
    "papermill": {
     "duration": 0.058546,
     "end_time": "2023-08-13T09:14:34.461473",
     "exception": false,
     "start_time": "2023-08-13T09:14:34.402927",
     "status": "completed"
    },
    "tags": []
   },
   "source": [
    "## Assignment Operators\n",
    "### Assignment operators are used to assign values to variables.\n",
    "\n",
    "#### `=`: Assigns a value to a variable.\n",
    "#### `+=`: Adds and assigns a value to a variable.\n",
    "#### `-=`: Subtracts and assigns a value to a variable.\n",
    "#### `*=`: Multiplies and assigns a value to a variable.\n",
    "#### `/=`: Divides and assigns a value to a variable.\n",
    "#### `%=`: Performs modulus and assigns a value to a variable.\n",
    "#### `**=`: Performs exponentiation and assigns a value to a variable.\n",
    "#### `//=`: Performs floor division and assigns a value to a variable."
   ]
  },
  {
   "cell_type": "code",
   "execution_count": 20,
   "id": "590da19d",
   "metadata": {
    "execution": {
     "iopub.execute_input": "2023-08-13T09:14:34.584927Z",
     "iopub.status.busy": "2023-08-13T09:14:34.584530Z",
     "iopub.status.idle": "2023-08-13T09:14:34.590825Z",
     "shell.execute_reply": "2023-08-13T09:14:34.589372Z"
    },
    "papermill": {
     "duration": 0.072079,
     "end_time": "2023-08-13T09:14:34.593929",
     "exception": false,
     "start_time": "2023-08-13T09:14:34.521850",
     "status": "completed"
    },
    "tags": []
   },
   "outputs": [
    {
     "name": "stdout",
     "output_type": "stream",
     "text": [
      "15\n"
     ]
    }
   ],
   "source": [
    "x = 10\n",
    "x += 5   # Equivalent to x = x + 5\n",
    "print(x) # Output: 15\n"
   ]
  },
  {
   "cell_type": "markdown",
   "id": "e87ac229",
   "metadata": {
    "papermill": {
     "duration": 0.059705,
     "end_time": "2023-08-13T09:14:34.712712",
     "exception": false,
     "start_time": "2023-08-13T09:14:34.653007",
     "status": "completed"
    },
    "tags": []
   },
   "source": [
    "### Conclusion\n",
    "#### Understanding operators and expressions is crucial for performing various computations in Python. In the upcoming chapters, we'll explore more advanced topics that build upon these fundamentals."
   ]
  },
  {
   "cell_type": "markdown",
   "id": "34a3d090",
   "metadata": {
    "papermill": {
     "duration": 0.056576,
     "end_time": "2023-08-13T09:14:34.827559",
     "exception": false,
     "start_time": "2023-08-13T09:14:34.770983",
     "status": "completed"
    },
    "tags": []
   },
   "source": [
    "<h1 align=\"left\"><font color='red'>5</font></h1>"
   ]
  },
  {
   "cell_type": "markdown",
   "id": "0ad8972b",
   "metadata": {
    "papermill": {
     "duration": 0.059599,
     "end_time": "2023-08-13T09:14:34.944981",
     "exception": false,
     "start_time": "2023-08-13T09:14:34.885382",
     "status": "completed"
    },
    "tags": []
   },
   "source": [
    "# Chapter 5: Control Structures\n",
    "\n",
    "####  In this chapter, we will explore control structures that allow you to make decisions and control the flow of your program. We'll cover the `if`, `elif`, and `else` statements, which are essential for implementing conditional logic in Python.\n",
    "\n",
    "## if Statement\n",
    "\n",
    "#### The `if` statement allows you to execute a block of code if a specified condition is True.\n",
    "\n",
    "#### Example:\n",
    "\n"
   ]
  },
  {
   "cell_type": "code",
   "execution_count": 21,
   "id": "659344c7",
   "metadata": {
    "execution": {
     "iopub.execute_input": "2023-08-13T09:14:35.065391Z",
     "iopub.status.busy": "2023-08-13T09:14:35.064942Z",
     "iopub.status.idle": "2023-08-13T09:14:35.072782Z",
     "shell.execute_reply": "2023-08-13T09:14:35.071220Z"
    },
    "papermill": {
     "duration": 0.0717,
     "end_time": "2023-08-13T09:14:35.076280",
     "exception": false,
     "start_time": "2023-08-13T09:14:35.004580",
     "status": "completed"
    },
    "tags": []
   },
   "outputs": [
    {
     "name": "stdout",
     "output_type": "stream",
     "text": [
      "x is greater than 5\n"
     ]
    }
   ],
   "source": [
    "x = 10\n",
    "if x > 5:\n",
    "    print(\"x is greater than 5\")"
   ]
  },
  {
   "cell_type": "markdown",
   "id": "3751f7d2",
   "metadata": {
    "papermill": {
     "duration": 0.062393,
     "end_time": "2023-08-13T09:14:35.200044",
     "exception": false,
     "start_time": "2023-08-13T09:14:35.137651",
     "status": "completed"
    },
    "tags": []
   },
   "source": [
    "## elif Statement\n",
    "#### The `elif` (short for \"else if\") statement allows you to check multiple conditions sequentially. It is used when you want to check for multiple conditions and execute different code blocks based on those conditions."
   ]
  },
  {
   "cell_type": "code",
   "execution_count": 22,
   "id": "53104c25",
   "metadata": {
    "execution": {
     "iopub.execute_input": "2023-08-13T09:14:35.322040Z",
     "iopub.status.busy": "2023-08-13T09:14:35.320382Z",
     "iopub.status.idle": "2023-08-13T09:14:35.328930Z",
     "shell.execute_reply": "2023-08-13T09:14:35.327276Z"
    },
    "papermill": {
     "duration": 0.072278,
     "end_time": "2023-08-13T09:14:35.332142",
     "exception": false,
     "start_time": "2023-08-13T09:14:35.259864",
     "status": "completed"
    },
    "tags": []
   },
   "outputs": [
    {
     "name": "stdout",
     "output_type": "stream",
     "text": [
      "Good\n"
     ]
    }
   ],
   "source": [
    "grade = 85\n",
    "if grade >= 90:\n",
    "    print(\"Excellent\")\n",
    "elif grade >= 80:\n",
    "    print(\"Good\")\n",
    "elif grade >= 70:\n",
    "    print(\"Average\")\n",
    "else:\n",
    "    print(\"Needs Improvement\")\n"
   ]
  },
  {
   "cell_type": "markdown",
   "id": "412a0417",
   "metadata": {
    "papermill": {
     "duration": 0.062899,
     "end_time": "2023-08-13T09:14:35.531631",
     "exception": false,
     "start_time": "2023-08-13T09:14:35.468732",
     "status": "completed"
    },
    "tags": []
   },
   "source": [
    "## else Statement\n",
    "#### The else statement allows you to define a block of code that will be executed if the condition in the if statement is False."
   ]
  },
  {
   "cell_type": "code",
   "execution_count": 23,
   "id": "50625cf4",
   "metadata": {
    "execution": {
     "iopub.execute_input": "2023-08-13T09:14:35.652709Z",
     "iopub.status.busy": "2023-08-13T09:14:35.651772Z",
     "iopub.status.idle": "2023-08-13T09:14:35.659387Z",
     "shell.execute_reply": "2023-08-13T09:14:35.657679Z"
    },
    "papermill": {
     "duration": 0.069889,
     "end_time": "2023-08-13T09:14:35.662264",
     "exception": false,
     "start_time": "2023-08-13T09:14:35.592375",
     "status": "completed"
    },
    "tags": []
   },
   "outputs": [
    {
     "name": "stdout",
     "output_type": "stream",
     "text": [
      "You are an adult\n"
     ]
    }
   ],
   "source": [
    "age = 18\n",
    "if age >= 18:\n",
    "    print(\"You are an adult\")\n",
    "else:\n",
    "    print(\"You are not an adult\")\n"
   ]
  },
  {
   "cell_type": "markdown",
   "id": "57127f17",
   "metadata": {
    "papermill": {
     "duration": 0.06041,
     "end_time": "2023-08-13T09:14:35.782576",
     "exception": false,
     "start_time": "2023-08-13T09:14:35.722166",
     "status": "completed"
    },
    "tags": []
   },
   "source": [
    "## Nested if Statements\n",
    "#### You can also nest if statements inside other if statements to create more complex conditional logic."
   ]
  },
  {
   "cell_type": "code",
   "execution_count": 24,
   "id": "9411a89c",
   "metadata": {
    "execution": {
     "iopub.execute_input": "2023-08-13T09:14:35.909649Z",
     "iopub.status.busy": "2023-08-13T09:14:35.908966Z",
     "iopub.status.idle": "2023-08-13T09:14:35.917254Z",
     "shell.execute_reply": "2023-08-13T09:14:35.915833Z"
    },
    "papermill": {
     "duration": 0.077001,
     "end_time": "2023-08-13T09:14:35.920080",
     "exception": false,
     "start_time": "2023-08-13T09:14:35.843079",
     "status": "completed"
    },
    "tags": []
   },
   "outputs": [
    {
     "name": "stdout",
     "output_type": "stream",
     "text": [
      "Both conditions are True\n"
     ]
    }
   ],
   "source": [
    "x = 10\n",
    "y = 5\n",
    "if x > 5:\n",
    "    if y > 3:\n",
    "        print(\"Both conditions are True\")\n"
   ]
  },
  {
   "cell_type": "markdown",
   "id": "3544a40a",
   "metadata": {
    "papermill": {
     "duration": 0.058972,
     "end_time": "2023-08-13T09:14:36.042527",
     "exception": false,
     "start_time": "2023-08-13T09:14:35.983555",
     "status": "completed"
    },
    "tags": []
   },
   "source": [
    "## Logical Operators with if Statements\n",
    "#### You can combine multiple conditions using logical operators (and, or, not) within if statements."
   ]
  },
  {
   "cell_type": "code",
   "execution_count": 25,
   "id": "fd96b32f",
   "metadata": {
    "execution": {
     "iopub.execute_input": "2023-08-13T09:14:36.169886Z",
     "iopub.status.busy": "2023-08-13T09:14:36.169341Z",
     "iopub.status.idle": "2023-08-13T09:14:36.175737Z",
     "shell.execute_reply": "2023-08-13T09:14:36.174295Z"
    },
    "papermill": {
     "duration": 0.074665,
     "end_time": "2023-08-13T09:14:36.178575",
     "exception": false,
     "start_time": "2023-08-13T09:14:36.103910",
     "status": "completed"
    },
    "tags": []
   },
   "outputs": [],
   "source": [
    "temperature = 28\n",
    "if temperature > 30 or temperature < 0:\n",
    "    print(\"Extreme temperature\")\n"
   ]
  },
  {
   "cell_type": "markdown",
   "id": "6efc96c7",
   "metadata": {
    "papermill": {
     "duration": 0.058781,
     "end_time": "2023-08-13T09:14:36.297523",
     "exception": false,
     "start_time": "2023-08-13T09:14:36.238742",
     "status": "completed"
    },
    "tags": []
   },
   "source": [
    "## Conclusion\n",
    "#### Understanding control structures is crucial for creating programs that make decisions based on certain conditions. In the upcoming chapters, we'll explore more control structures and advanced topics that build upon these fundamentals."
   ]
  },
  {
   "cell_type": "markdown",
   "id": "b0821515",
   "metadata": {
    "papermill": {
     "duration": 0.06194,
     "end_time": "2023-08-13T09:14:36.419061",
     "exception": false,
     "start_time": "2023-08-13T09:14:36.357121",
     "status": "completed"
    },
    "tags": []
   },
   "source": [
    "<h1 align=\"left\"><font color='red'>6</font></h1>"
   ]
  },
  {
   "cell_type": "markdown",
   "id": "443a7c46",
   "metadata": {
    "papermill": {
     "duration": 0.061844,
     "end_time": "2023-08-13T09:14:36.540861",
     "exception": false,
     "start_time": "2023-08-13T09:14:36.479017",
     "status": "completed"
    },
    "tags": []
   },
   "source": [
    "# Chapter 6: Loops\n",
    "\n",
    "#### In this chapter, we will explore loops, which allow you to execute a block of code repeatedly. We'll cover the `while` and `for` loops, both of which are essential for creating efficient and repetitive tasks in Python.\n",
    "\n",
    "## while Loop\n",
    "\n",
    "#### The `while` loop allows you to repeatedly execute a block of code as long as a specified condition is True.\n",
    "\n",
    "#### Example:"
   ]
  },
  {
   "cell_type": "code",
   "execution_count": 26,
   "id": "3fb20b1f",
   "metadata": {
    "execution": {
     "iopub.execute_input": "2023-08-13T09:14:36.661192Z",
     "iopub.status.busy": "2023-08-13T09:14:36.660791Z",
     "iopub.status.idle": "2023-08-13T09:14:36.668263Z",
     "shell.execute_reply": "2023-08-13T09:14:36.665932Z"
    },
    "papermill": {
     "duration": 0.070827,
     "end_time": "2023-08-13T09:14:36.671392",
     "exception": false,
     "start_time": "2023-08-13T09:14:36.600565",
     "status": "completed"
    },
    "tags": []
   },
   "outputs": [
    {
     "name": "stdout",
     "output_type": "stream",
     "text": [
      "0\n",
      "1\n",
      "2\n",
      "3\n",
      "4\n"
     ]
    }
   ],
   "source": [
    "count = 0\n",
    "while count < 5:\n",
    "    print(count)\n",
    "    count += 1"
   ]
  },
  {
   "cell_type": "markdown",
   "id": "2ef10ef8",
   "metadata": {
    "papermill": {
     "duration": 0.05816,
     "end_time": "2023-08-13T09:14:36.791562",
     "exception": false,
     "start_time": "2023-08-13T09:14:36.733402",
     "status": "completed"
    },
    "tags": []
   },
   "source": [
    "## for Loop\n",
    "#### The for loop is used to iterate over a sequence (such as a list, tuple, or string) and execute a block of code for each item in the sequence.\n",
    "\n",
    "### Example (using a list):"
   ]
  },
  {
   "cell_type": "code",
   "execution_count": 27,
   "id": "2aee3dbb",
   "metadata": {
    "execution": {
     "iopub.execute_input": "2023-08-13T09:14:36.915114Z",
     "iopub.status.busy": "2023-08-13T09:14:36.914707Z",
     "iopub.status.idle": "2023-08-13T09:14:36.921084Z",
     "shell.execute_reply": "2023-08-13T09:14:36.919634Z"
    },
    "papermill": {
     "duration": 0.071819,
     "end_time": "2023-08-13T09:14:36.924044",
     "exception": false,
     "start_time": "2023-08-13T09:14:36.852225",
     "status": "completed"
    },
    "tags": []
   },
   "outputs": [
    {
     "name": "stdout",
     "output_type": "stream",
     "text": [
      "apple\n",
      "banana\n",
      "cherry\n"
     ]
    }
   ],
   "source": [
    "fruits = [\"apple\", \"banana\", \"cherry\"]\n",
    "for fruit in fruits:\n",
    "    print(fruit)\n"
   ]
  },
  {
   "cell_type": "markdown",
   "id": "605cd30b",
   "metadata": {
    "papermill": {
     "duration": 0.061304,
     "end_time": "2023-08-13T09:14:37.049715",
     "exception": false,
     "start_time": "2023-08-13T09:14:36.988411",
     "status": "completed"
    },
    "tags": []
   },
   "source": [
    "### Example (using a range):"
   ]
  },
  {
   "cell_type": "code",
   "execution_count": 28,
   "id": "86b11452",
   "metadata": {
    "execution": {
     "iopub.execute_input": "2023-08-13T09:14:37.174216Z",
     "iopub.status.busy": "2023-08-13T09:14:37.173778Z",
     "iopub.status.idle": "2023-08-13T09:14:37.180155Z",
     "shell.execute_reply": "2023-08-13T09:14:37.179085Z"
    },
    "papermill": {
     "duration": 0.075112,
     "end_time": "2023-08-13T09:14:37.185131",
     "exception": false,
     "start_time": "2023-08-13T09:14:37.110019",
     "status": "completed"
    },
    "tags": []
   },
   "outputs": [
    {
     "name": "stdout",
     "output_type": "stream",
     "text": [
      "0\n",
      "1\n",
      "2\n",
      "3\n",
      "4\n"
     ]
    }
   ],
   "source": [
    "for i in range(5):\n",
    "    print(i)\n"
   ]
  },
  {
   "cell_type": "markdown",
   "id": "79b0f430",
   "metadata": {
    "papermill": {
     "duration": 0.056611,
     "end_time": "2023-08-13T09:14:37.302032",
     "exception": false,
     "start_time": "2023-08-13T09:14:37.245421",
     "status": "completed"
    },
    "tags": []
   },
   "source": [
    "## Loop Control Statements\n",
    "### break Statement\n",
    "####  The break statement is used to exit the loop prematurely, even if the loop condition is still True."
   ]
  },
  {
   "cell_type": "code",
   "execution_count": 29,
   "id": "d527a416",
   "metadata": {
    "execution": {
     "iopub.execute_input": "2023-08-13T09:14:37.426314Z",
     "iopub.status.busy": "2023-08-13T09:14:37.425559Z",
     "iopub.status.idle": "2023-08-13T09:14:37.432845Z",
     "shell.execute_reply": "2023-08-13T09:14:37.431596Z"
    },
    "papermill": {
     "duration": 0.07202,
     "end_time": "2023-08-13T09:14:37.435480",
     "exception": false,
     "start_time": "2023-08-13T09:14:37.363460",
     "status": "completed"
    },
    "tags": []
   },
   "outputs": [
    {
     "name": "stdout",
     "output_type": "stream",
     "text": [
      "1\n",
      "2\n"
     ]
    }
   ],
   "source": [
    "numbers = [1, 2, 3, 4, 5]\n",
    "for num in numbers:\n",
    "    if num == 3:\n",
    "        break\n",
    "    print(num)\n"
   ]
  },
  {
   "cell_type": "markdown",
   "id": "3052703f",
   "metadata": {
    "execution": {
     "iopub.execute_input": "2023-08-12T20:38:09.867889Z",
     "iopub.status.busy": "2023-08-12T20:38:09.867439Z",
     "iopub.status.idle": "2023-08-12T20:38:09.873411Z",
     "shell.execute_reply": "2023-08-12T20:38:09.872089Z",
     "shell.execute_reply.started": "2023-08-12T20:38:09.867850Z"
    },
    "papermill": {
     "duration": 0.058411,
     "end_time": "2023-08-13T09:14:37.553114",
     "exception": false,
     "start_time": "2023-08-13T09:14:37.494703",
     "status": "completed"
    },
    "tags": []
   },
   "source": [
    "## continue Statement\n",
    "####  The continue statement is used to skip the current iteration of the loop and move to the next one."
   ]
  },
  {
   "cell_type": "code",
   "execution_count": 30,
   "id": "95fd8d0c",
   "metadata": {
    "execution": {
     "iopub.execute_input": "2023-08-13T09:14:37.671910Z",
     "iopub.status.busy": "2023-08-13T09:14:37.671482Z",
     "iopub.status.idle": "2023-08-13T09:14:37.678547Z",
     "shell.execute_reply": "2023-08-13T09:14:37.677137Z"
    },
    "papermill": {
     "duration": 0.070193,
     "end_time": "2023-08-13T09:14:37.681005",
     "exception": false,
     "start_time": "2023-08-13T09:14:37.610812",
     "status": "completed"
    },
    "tags": []
   },
   "outputs": [
    {
     "name": "stdout",
     "output_type": "stream",
     "text": [
      "1\n",
      "2\n",
      "4\n",
      "5\n"
     ]
    }
   ],
   "source": [
    "numbers = [1, 2, 3, 4, 5]\n",
    "for num in numbers:\n",
    "    if num == 3:\n",
    "        continue\n",
    "    print(num)\n"
   ]
  },
  {
   "cell_type": "markdown",
   "id": "9014f093",
   "metadata": {
    "papermill": {
     "duration": 0.061755,
     "end_time": "2023-08-13T09:14:37.808757",
     "exception": false,
     "start_time": "2023-08-13T09:14:37.747002",
     "status": "completed"
    },
    "tags": []
   },
   "source": [
    "## Nested Loops\n",
    "####  You can nest loops inside each other to create more complex iterations."
   ]
  },
  {
   "cell_type": "code",
   "execution_count": 31,
   "id": "03b8c0a2",
   "metadata": {
    "execution": {
     "iopub.execute_input": "2023-08-13T09:14:37.938404Z",
     "iopub.status.busy": "2023-08-13T09:14:37.937746Z",
     "iopub.status.idle": "2023-08-13T09:14:37.946140Z",
     "shell.execute_reply": "2023-08-13T09:14:37.944139Z"
    },
    "papermill": {
     "duration": 0.078847,
     "end_time": "2023-08-13T09:14:37.949223",
     "exception": false,
     "start_time": "2023-08-13T09:14:37.870376",
     "status": "completed"
    },
    "tags": []
   },
   "outputs": [
    {
     "name": "stdout",
     "output_type": "stream",
     "text": [
      "0 0\n",
      "0 1\n",
      "1 0\n",
      "1 1\n",
      "2 0\n",
      "2 1\n"
     ]
    }
   ],
   "source": [
    "for i in range(3):\n",
    "    for j in range(2):\n",
    "        print(i, j)\n"
   ]
  },
  {
   "cell_type": "markdown",
   "id": "b42c9142",
   "metadata": {
    "papermill": {
     "duration": 0.058288,
     "end_time": "2023-08-13T09:14:38.070524",
     "exception": false,
     "start_time": "2023-08-13T09:14:38.012236",
     "status": "completed"
    },
    "tags": []
   },
   "source": [
    "## Conclusion\n",
    "#### Loops are powerful tools for automating repetitive tasks and iterating over sequences. In the upcoming chapters, we'll explore more advanced loop techniques and other programming concepts."
   ]
  },
  {
   "cell_type": "markdown",
   "id": "cb4da8d7",
   "metadata": {
    "papermill": {
     "duration": 0.060451,
     "end_time": "2023-08-13T09:14:38.193152",
     "exception": false,
     "start_time": "2023-08-13T09:14:38.132701",
     "status": "completed"
    },
    "tags": []
   },
   "source": [
    "\n",
    "<h1 align=\"left\"><font color='red'>7</font></h1>"
   ]
  },
  {
   "cell_type": "markdown",
   "id": "74c97feb",
   "metadata": {
    "papermill": {
     "duration": 0.060686,
     "end_time": "2023-08-13T09:14:38.315771",
     "exception": false,
     "start_time": "2023-08-13T09:14:38.255085",
     "status": "completed"
    },
    "tags": []
   },
   "source": [
    "# Chapter 7: Functions and Scope\n",
    "\n",
    "#### In this chapter, we will explore functions, which allow you to encapsulate blocks of code into reusable units. We'll cover defining functions, working with function arguments, and returning values from functions.\n",
    "\n",
    "## Defining Functions\n",
    "\n",
    "#### A function is a block of code that performs a specific task. It allows you to organize your code and make it more modular.\n",
    "\n",
    "#### Example:"
   ]
  },
  {
   "cell_type": "code",
   "execution_count": 32,
   "id": "bb5c826f",
   "metadata": {
    "execution": {
     "iopub.execute_input": "2023-08-13T09:14:38.443569Z",
     "iopub.status.busy": "2023-08-13T09:14:38.442745Z",
     "iopub.status.idle": "2023-08-13T09:14:38.448318Z",
     "shell.execute_reply": "2023-08-13T09:14:38.447381Z"
    },
    "papermill": {
     "duration": 0.073009,
     "end_time": "2023-08-13T09:14:38.451711",
     "exception": false,
     "start_time": "2023-08-13T09:14:38.378702",
     "status": "completed"
    },
    "tags": []
   },
   "outputs": [],
   "source": [
    "def greet(name):\n",
    "    print(f\"Hello, {name}!\")"
   ]
  },
  {
   "cell_type": "markdown",
   "id": "3e8e75d7",
   "metadata": {
    "papermill": {
     "duration": 0.060625,
     "end_time": "2023-08-13T09:14:38.573942",
     "exception": false,
     "start_time": "2023-08-13T09:14:38.513317",
     "status": "completed"
    },
    "tags": []
   },
   "source": [
    "## Function Arguments\n",
    "#### Function arguments are values that you can pass to a function when you call it. Functions can have multiple arguments, and you can specify default values for them.\n",
    "\n",
    "### Example (function with arguments):"
   ]
  },
  {
   "cell_type": "code",
   "execution_count": 33,
   "id": "9834d7a1",
   "metadata": {
    "execution": {
     "iopub.execute_input": "2023-08-13T09:14:38.703547Z",
     "iopub.status.busy": "2023-08-13T09:14:38.702721Z",
     "iopub.status.idle": "2023-08-13T09:14:38.709222Z",
     "shell.execute_reply": "2023-08-13T09:14:38.707509Z"
    },
    "papermill": {
     "duration": 0.078573,
     "end_time": "2023-08-13T09:14:38.712663",
     "exception": false,
     "start_time": "2023-08-13T09:14:38.634090",
     "status": "completed"
    },
    "tags": []
   },
   "outputs": [],
   "source": [
    "def add_numbers(x, y):\n",
    "    return x + y\n"
   ]
  },
  {
   "cell_type": "markdown",
   "id": "03955c56",
   "metadata": {
    "papermill": {
     "duration": 0.061728,
     "end_time": "2023-08-13T09:14:38.841308",
     "exception": false,
     "start_time": "2023-08-13T09:14:38.779580",
     "status": "completed"
    },
    "tags": []
   },
   "source": [
    "### Example (function with default value):"
   ]
  },
  {
   "cell_type": "code",
   "execution_count": 34,
   "id": "8c3bb792",
   "metadata": {
    "execution": {
     "iopub.execute_input": "2023-08-13T09:14:38.968724Z",
     "iopub.status.busy": "2023-08-13T09:14:38.968291Z",
     "iopub.status.idle": "2023-08-13T09:14:38.974508Z",
     "shell.execute_reply": "2023-08-13T09:14:38.972890Z"
    },
    "papermill": {
     "duration": 0.075754,
     "end_time": "2023-08-13T09:14:38.977372",
     "exception": false,
     "start_time": "2023-08-13T09:14:38.901618",
     "status": "completed"
    },
    "tags": []
   },
   "outputs": [],
   "source": [
    "def greet(name=\"Guest\"):\n",
    "    print(f\"Hello, {name}!\")\n"
   ]
  },
  {
   "cell_type": "markdown",
   "id": "2bf28c27",
   "metadata": {
    "papermill": {
     "duration": 0.064775,
     "end_time": "2023-08-13T09:14:39.103084",
     "exception": false,
     "start_time": "2023-08-13T09:14:39.038309",
     "status": "completed"
    },
    "tags": []
   },
   "source": [
    "## Return Values\n",
    "####  A function can return a value using the return statement. The returned value can be used in other parts of your code."
   ]
  },
  {
   "cell_type": "code",
   "execution_count": 35,
   "id": "1ef50d66",
   "metadata": {
    "execution": {
     "iopub.execute_input": "2023-08-13T09:14:39.234903Z",
     "iopub.status.busy": "2023-08-13T09:14:39.234344Z",
     "iopub.status.idle": "2023-08-13T09:14:39.241368Z",
     "shell.execute_reply": "2023-08-13T09:14:39.240029Z"
    },
    "papermill": {
     "duration": 0.07799,
     "end_time": "2023-08-13T09:14:39.244336",
     "exception": false,
     "start_time": "2023-08-13T09:14:39.166346",
     "status": "completed"
    },
    "tags": []
   },
   "outputs": [
    {
     "name": "stdout",
     "output_type": "stream",
     "text": [
      "25\n"
     ]
    }
   ],
   "source": [
    "def square(x):\n",
    "    return x * x\n",
    "\n",
    "result = square(5)\n",
    "print(result)  # Output: 25\n"
   ]
  },
  {
   "cell_type": "markdown",
   "id": "d70cbdd1",
   "metadata": {
    "papermill": {
     "duration": 0.059119,
     "end_time": "2023-08-13T09:14:39.362868",
     "exception": false,
     "start_time": "2023-08-13T09:14:39.303749",
     "status": "completed"
    },
    "tags": []
   },
   "source": [
    "## Function Scope\n",
    "####  Variables defined inside a function are only accessible within that function's scope. They are called local variables."
   ]
  },
  {
   "cell_type": "code",
   "execution_count": 36,
   "id": "cb1c2c1f",
   "metadata": {
    "execution": {
     "iopub.execute_input": "2023-08-13T09:14:39.490709Z",
     "iopub.status.busy": "2023-08-13T09:14:39.490298Z",
     "iopub.status.idle": "2023-08-13T09:14:39.498439Z",
     "shell.execute_reply": "2023-08-13T09:14:39.496737Z"
    },
    "papermill": {
     "duration": 0.074539,
     "end_time": "2023-08-13T09:14:39.501499",
     "exception": false,
     "start_time": "2023-08-13T09:14:39.426960",
     "status": "completed"
    },
    "tags": []
   },
   "outputs": [
    {
     "name": "stdout",
     "output_type": "stream",
     "text": [
      "10\n",
      "10\n"
     ]
    }
   ],
   "source": [
    "def my_function():\n",
    "    x = 10  # local variable\n",
    "    print(x)\n",
    "\n",
    "my_function()\n",
    "print(x)  # This will raise an error because x is not defined in this scope\n"
   ]
  },
  {
   "cell_type": "markdown",
   "id": "12466917",
   "metadata": {
    "papermill": {
     "duration": 0.061231,
     "end_time": "2023-08-13T09:14:39.627244",
     "exception": false,
     "start_time": "2023-08-13T09:14:39.566013",
     "status": "completed"
    },
    "tags": []
   },
   "source": [
    "## Global Scope\n",
    "####  Variables defined outside any function have global scope and can be accessed from anywhere in the code."
   ]
  },
  {
   "cell_type": "code",
   "execution_count": 37,
   "id": "27f5b22a",
   "metadata": {
    "execution": {
     "iopub.execute_input": "2023-08-13T09:14:39.745143Z",
     "iopub.status.busy": "2023-08-13T09:14:39.744746Z",
     "iopub.status.idle": "2023-08-13T09:14:39.750734Z",
     "shell.execute_reply": "2023-08-13T09:14:39.749513Z"
    },
    "papermill": {
     "duration": 0.070444,
     "end_time": "2023-08-13T09:14:39.754287",
     "exception": false,
     "start_time": "2023-08-13T09:14:39.683843",
     "status": "completed"
    },
    "tags": []
   },
   "outputs": [
    {
     "name": "stdout",
     "output_type": "stream",
     "text": [
      "I am global\n",
      "I am global\n"
     ]
    }
   ],
   "source": [
    "global_var = \"I am global\"\n",
    "\n",
    "def print_global():\n",
    "    print(global_var)\n",
    "\n",
    "print_global()\n",
    "print(global_var)\n"
   ]
  },
  {
   "cell_type": "markdown",
   "id": "1f6279ce",
   "metadata": {
    "papermill": {
     "duration": 0.06152,
     "end_time": "2023-08-13T09:14:39.875052",
     "exception": false,
     "start_time": "2023-08-13T09:14:39.813532",
     "status": "completed"
    },
    "tags": []
   },
   "source": [
    "## Conclusion\n",
    "#### Functions are essential for creating organized and reusable code. They allow you to encapsulate logic, make your code more readable, and improve maintainability."
   ]
  },
  {
   "cell_type": "markdown",
   "id": "23d12a86",
   "metadata": {
    "papermill": {
     "duration": 0.063427,
     "end_time": "2023-08-13T09:14:39.998553",
     "exception": false,
     "start_time": "2023-08-13T09:14:39.935126",
     "status": "completed"
    },
    "tags": []
   },
   "source": [
    "\n",
    "<h1 align=\"left\"><font color='red'>8</font></h1>"
   ]
  },
  {
   "cell_type": "markdown",
   "id": "949a6508",
   "metadata": {
    "papermill": {
     "duration": 0.05893,
     "end_time": "2023-08-13T09:14:40.121362",
     "exception": false,
     "start_time": "2023-08-13T09:14:40.062432",
     "status": "completed"
    },
    "tags": []
   },
   "source": [
    "# Chapter 8: Function Parameters and Return Values\n",
    "\n",
    "#### In this chapter, we will delve deeper into function parameters and return values, exploring default values, keyword arguments, and returning multiple values from functions.\n",
    "\n",
    "## Default Values\n",
    "\n",
    "#### You can provide default values for function parameters. If a value is not provided when the function is called, the default value will be used.\n",
    "\n",
    "#### Example:"
   ]
  },
  {
   "cell_type": "code",
   "execution_count": 38,
   "id": "5b3b1084",
   "metadata": {
    "execution": {
     "iopub.execute_input": "2023-08-13T09:14:40.249284Z",
     "iopub.status.busy": "2023-08-13T09:14:40.248445Z",
     "iopub.status.idle": "2023-08-13T09:14:40.256114Z",
     "shell.execute_reply": "2023-08-13T09:14:40.254699Z"
    },
    "papermill": {
     "duration": 0.072841,
     "end_time": "2023-08-13T09:14:40.259022",
     "exception": false,
     "start_time": "2023-08-13T09:14:40.186181",
     "status": "completed"
    },
    "tags": []
   },
   "outputs": [
    {
     "name": "stdout",
     "output_type": "stream",
     "text": [
      "Hello, Guest!\n",
      "Hello, Alice!\n"
     ]
    }
   ],
   "source": [
    "\n",
    "def greet(name=\"Guest\"):\n",
    "    print(f\"Hello, {name}!\")\n",
    "\n",
    "greet()          # Output: Hello, Guest!\n",
    "greet(\"Alice\")   # Output: Hello, Alice!"
   ]
  },
  {
   "cell_type": "markdown",
   "id": "553ac806",
   "metadata": {
    "papermill": {
     "duration": 0.064816,
     "end_time": "2023-08-13T09:14:40.384174",
     "exception": false,
     "start_time": "2023-08-13T09:14:40.319358",
     "status": "completed"
    },
    "tags": []
   },
   "source": [
    "## Keyword Arguments\n",
    "#### Keyword arguments allow you to pass values to function parameters using the parameter names. This provides more clarity and flexibility when calling functions."
   ]
  },
  {
   "cell_type": "code",
   "execution_count": 39,
   "id": "0e628669",
   "metadata": {
    "execution": {
     "iopub.execute_input": "2023-08-13T09:14:40.511410Z",
     "iopub.status.busy": "2023-08-13T09:14:40.510951Z",
     "iopub.status.idle": "2023-08-13T09:14:40.516972Z",
     "shell.execute_reply": "2023-08-13T09:14:40.516028Z"
    },
    "papermill": {
     "duration": 0.072362,
     "end_time": "2023-08-13T09:14:40.519903",
     "exception": false,
     "start_time": "2023-08-13T09:14:40.447541",
     "status": "completed"
    },
    "tags": []
   },
   "outputs": [
    {
     "name": "stdout",
     "output_type": "stream",
     "text": [
      "Name: Bob, Age: 30\n"
     ]
    }
   ],
   "source": [
    "def person_info(name, age):\n",
    "    print(f\"Name: {name}, Age: {age}\")\n",
    "\n",
    "person_info(name=\"Bob\", age=30)\n"
   ]
  },
  {
   "cell_type": "markdown",
   "id": "0d3fdf54",
   "metadata": {
    "papermill": {
     "duration": 0.059475,
     "end_time": "2023-08-13T09:14:40.640747",
     "exception": false,
     "start_time": "2023-08-13T09:14:40.581272",
     "status": "completed"
    },
    "tags": []
   },
   "source": [
    "## Returning Multiple Values\n",
    "#### A function can return multiple values by separating them with commas. You can capture these values when calling the function."
   ]
  },
  {
   "cell_type": "code",
   "execution_count": 40,
   "id": "5a3444f9",
   "metadata": {
    "execution": {
     "iopub.execute_input": "2023-08-13T09:14:40.767775Z",
     "iopub.status.busy": "2023-08-13T09:14:40.766170Z",
     "iopub.status.idle": "2023-08-13T09:14:40.774696Z",
     "shell.execute_reply": "2023-08-13T09:14:40.773039Z"
    },
    "papermill": {
     "duration": 0.076067,
     "end_time": "2023-08-13T09:14:40.778085",
     "exception": false,
     "start_time": "2023-08-13T09:14:40.702018",
     "status": "completed"
    },
    "tags": []
   },
   "outputs": [
    {
     "name": "stdout",
     "output_type": "stream",
     "text": [
      "Area: 15, Perimeter: 16\n"
     ]
    }
   ],
   "source": [
    "def rectangle_info(length, width):\n",
    "    area = length * width\n",
    "    perimeter = 2 * (length + width)\n",
    "    return area, perimeter\n",
    "\n",
    "area, perimeter = rectangle_info(5, 3)\n",
    "print(f\"Area: {area}, Perimeter: {perimeter}\")\n"
   ]
  },
  {
   "cell_type": "markdown",
   "id": "ef80aea2",
   "metadata": {
    "papermill": {
     "duration": 0.059759,
     "end_time": "2023-08-13T09:14:40.896988",
     "exception": false,
     "start_time": "2023-08-13T09:14:40.837229",
     "status": "completed"
    },
    "tags": []
   },
   "source": [
    "## Conclusion\n",
    "#### Understanding function parameters and return values is crucial for creating flexible and powerful functions. Default values and keyword arguments provide ways to make your functions more versatile, while returning multiple values enhances the information you can extract from a function."
   ]
  },
  {
   "cell_type": "markdown",
   "id": "83a173b4",
   "metadata": {
    "papermill": {
     "duration": 0.058528,
     "end_time": "2023-08-13T09:14:41.015088",
     "exception": false,
     "start_time": "2023-08-13T09:14:40.956560",
     "status": "completed"
    },
    "tags": []
   },
   "source": [
    "\n",
    "<h1 align=\"left\"><font color='red'>9</font></h1>"
   ]
  },
  {
   "cell_type": "markdown",
   "id": "ff2c38d9",
   "metadata": {
    "papermill": {
     "duration": 0.05973,
     "end_time": "2023-08-13T09:14:41.135611",
     "exception": false,
     "start_time": "2023-08-13T09:14:41.075881",
     "status": "completed"
    },
    "tags": []
   },
   "source": [
    "# Chapter 9: Global and Local Variables\n",
    "\n",
    "#### In this chapter, we'll explore the concept of global and local variables in Python. Understanding these variable scopes is essential for writing clean, organized, and bug-free code.\n",
    "\n",
    "## Local Variables\n",
    "\n",
    "#### Local variables are defined within a function and have scope limited to that function. They can only be accessed within the function where they are defined.\n",
    "\n",
    "#### Example:\n"
   ]
  },
  {
   "cell_type": "code",
   "execution_count": 41,
   "id": "a455a5c8",
   "metadata": {
    "execution": {
     "iopub.execute_input": "2023-08-13T09:14:41.261075Z",
     "iopub.status.busy": "2023-08-13T09:14:41.260644Z",
     "iopub.status.idle": "2023-08-13T09:14:41.266370Z",
     "shell.execute_reply": "2023-08-13T09:14:41.265561Z"
    },
    "papermill": {
     "duration": 0.070362,
     "end_time": "2023-08-13T09:14:41.269035",
     "exception": false,
     "start_time": "2023-08-13T09:14:41.198673",
     "status": "completed"
    },
    "tags": []
   },
   "outputs": [
    {
     "name": "stdout",
     "output_type": "stream",
     "text": [
      "I am local\n"
     ]
    }
   ],
   "source": [
    "def my_function():\n",
    "    local_var = \"I am local\"\n",
    "    print(local_var)\n",
    "\n",
    "my_function()\n",
    "# print(local_var)  # This will raise an error because local_var is not defined in this scope"
   ]
  },
  {
   "cell_type": "markdown",
   "id": "cb005b33",
   "metadata": {
    "papermill": {
     "duration": 0.061542,
     "end_time": "2023-08-13T09:14:41.391485",
     "exception": false,
     "start_time": "2023-08-13T09:14:41.329943",
     "status": "completed"
    },
    "tags": []
   },
   "source": [
    "## Global Variables\n",
    "#### Global variables are defined outside any function and have a global scope. They can be accessed from any part of the code, including within functions."
   ]
  },
  {
   "cell_type": "code",
   "execution_count": 42,
   "id": "7203bb83",
   "metadata": {
    "execution": {
     "iopub.execute_input": "2023-08-13T09:14:41.512631Z",
     "iopub.status.busy": "2023-08-13T09:14:41.512231Z",
     "iopub.status.idle": "2023-08-13T09:14:41.519906Z",
     "shell.execute_reply": "2023-08-13T09:14:41.517924Z"
    },
    "papermill": {
     "duration": 0.071463,
     "end_time": "2023-08-13T09:14:41.523013",
     "exception": false,
     "start_time": "2023-08-13T09:14:41.451550",
     "status": "completed"
    },
    "tags": []
   },
   "outputs": [
    {
     "name": "stdout",
     "output_type": "stream",
     "text": [
      "I am global\n",
      "I am global\n"
     ]
    }
   ],
   "source": [
    "global_var = \"I am global\"\n",
    "\n",
    "def print_global():\n",
    "    print(global_var)\n",
    "\n",
    "print_global()\n",
    "print(global_var)\n"
   ]
  },
  {
   "cell_type": "markdown",
   "id": "069e1382",
   "metadata": {
    "papermill": {
     "duration": 0.06023,
     "end_time": "2023-08-13T09:14:41.641606",
     "exception": false,
     "start_time": "2023-08-13T09:14:41.581376",
     "status": "completed"
    },
    "tags": []
   },
   "source": [
    "## Modifying Global Variables\n",
    "#### While you can access global variables from within a function, modifying them requires using the global keyword to indicate that you want to modify the global variable, not create a new local variable with the same name."
   ]
  },
  {
   "cell_type": "code",
   "execution_count": 43,
   "id": "0773f2fa",
   "metadata": {
    "execution": {
     "iopub.execute_input": "2023-08-13T09:14:41.766129Z",
     "iopub.status.busy": "2023-08-13T09:14:41.765107Z",
     "iopub.status.idle": "2023-08-13T09:14:41.773355Z",
     "shell.execute_reply": "2023-08-13T09:14:41.771934Z"
    },
    "papermill": {
     "duration": 0.075478,
     "end_time": "2023-08-13T09:14:41.776104",
     "exception": false,
     "start_time": "2023-08-13T09:14:41.700626",
     "status": "completed"
    },
    "tags": []
   },
   "outputs": [
    {
     "name": "stdout",
     "output_type": "stream",
     "text": [
      "1\n"
     ]
    }
   ],
   "source": [
    "count = 0\n",
    "\n",
    "def increment_count():\n",
    "    global count\n",
    "    count += 1\n",
    "\n",
    "increment_count()\n",
    "print(count)  # Output: 1\n"
   ]
  },
  {
   "cell_type": "markdown",
   "id": "1cc50c47",
   "metadata": {
    "papermill": {
     "duration": 0.064524,
     "end_time": "2023-08-13T09:14:41.910568",
     "exception": false,
     "start_time": "2023-08-13T09:14:41.846044",
     "status": "completed"
    },
    "tags": []
   },
   "source": [
    "## Shadowing Variables\n",
    "#### Local variables can \"shadow\" global variables with the same name. When you have both a global and a local variable with the same name, the local variable takes precedence within the function."
   ]
  },
  {
   "cell_type": "code",
   "execution_count": 44,
   "id": "6ce28d62",
   "metadata": {
    "execution": {
     "iopub.execute_input": "2023-08-13T09:14:42.070914Z",
     "iopub.status.busy": "2023-08-13T09:14:42.070280Z",
     "iopub.status.idle": "2023-08-13T09:14:42.078665Z",
     "shell.execute_reply": "2023-08-13T09:14:42.077542Z"
    },
    "papermill": {
     "duration": 0.096239,
     "end_time": "2023-08-13T09:14:42.081603",
     "exception": false,
     "start_time": "2023-08-13T09:14:41.985364",
     "status": "completed"
    },
    "tags": []
   },
   "outputs": [
    {
     "name": "stdout",
     "output_type": "stream",
     "text": [
      "Local Name\n",
      "Global Name\n"
     ]
    }
   ],
   "source": [
    "name = \"Global Name\"\n",
    "\n",
    "def shadow_example():\n",
    "    name = \"Local Name\"\n",
    "    print(name)\n",
    "\n",
    "shadow_example()  # Output: Local Name\n",
    "print(name)       # Output: Global Name\n"
   ]
  },
  {
   "cell_type": "markdown",
   "id": "e90d0bbb",
   "metadata": {
    "papermill": {
     "duration": 0.071275,
     "end_time": "2023-08-13T09:14:42.222926",
     "exception": false,
     "start_time": "2023-08-13T09:14:42.151651",
     "status": "completed"
    },
    "tags": []
   },
   "source": [
    "## Conclusion\n",
    "#### Understanding the difference between global and local variables is crucial for writing maintainable and bug-free code. Local variables provide encapsulation and prevent unintended interactions between different parts of your code."
   ]
  },
  {
   "cell_type": "markdown",
   "id": "9685d984",
   "metadata": {
    "papermill": {
     "duration": 0.058867,
     "end_time": "2023-08-13T09:14:42.342431",
     "exception": false,
     "start_time": "2023-08-13T09:14:42.283564",
     "status": "completed"
    },
    "tags": []
   },
   "source": [
    "\n",
    "<h1 align=\"left\"><font color='red'>10</font></h1>"
   ]
  },
  {
   "cell_type": "markdown",
   "id": "5a3d2851",
   "metadata": {
    "papermill": {
     "duration": 0.060852,
     "end_time": "2023-08-13T09:14:42.464765",
     "exception": false,
     "start_time": "2023-08-13T09:14:42.403913",
     "status": "completed"
    },
    "tags": []
   },
   "source": [
    "# Chapter 10: Modules and Importing\n",
    "\n",
    "#### In this chapter, we'll explore the concept of modules and how to import and use them in your Python programs. Modules allow you to organize code into separate files and reuse functionality across multiple projects.\n",
    "\n",
    "## Importing Modules\n",
    "\n",
    "#### A module is a separate file containing Python code that can be reused in other programs. You can import modules to access their functions, classes, and variables.\n",
    "\n",
    "#### Example:\n"
   ]
  },
  {
   "cell_type": "code",
   "execution_count": 45,
   "id": "8a3c8585",
   "metadata": {
    "execution": {
     "iopub.execute_input": "2023-08-13T09:14:42.598310Z",
     "iopub.status.busy": "2023-08-13T09:14:42.597002Z",
     "iopub.status.idle": "2023-08-13T09:14:42.604313Z",
     "shell.execute_reply": "2023-08-13T09:14:42.602609Z"
    },
    "papermill": {
     "duration": 0.077239,
     "end_time": "2023-08-13T09:14:42.607259",
     "exception": false,
     "start_time": "2023-08-13T09:14:42.530020",
     "status": "completed"
    },
    "tags": []
   },
   "outputs": [
    {
     "name": "stdout",
     "output_type": "stream",
     "text": [
      "5.0\n"
     ]
    }
   ],
   "source": [
    "import math\n",
    "\n",
    "result = math.sqrt(25)\n",
    "print(result)  # Output: 5.0"
   ]
  },
  {
   "cell_type": "markdown",
   "id": "2aa5d0e4",
   "metadata": {
    "papermill": {
     "duration": 0.059726,
     "end_time": "2023-08-13T09:14:42.730473",
     "exception": false,
     "start_time": "2023-08-13T09:14:42.670747",
     "status": "completed"
    },
    "tags": []
   },
   "source": [
    "## Aliasing Modules\n",
    "#### You can provide a shorter name (alias) for a module using the as keyword. This can help simplify code and avoid naming conflicts."
   ]
  },
  {
   "cell_type": "code",
   "execution_count": 46,
   "id": "19a30a4d",
   "metadata": {
    "execution": {
     "iopub.execute_input": "2023-08-13T09:14:42.855718Z",
     "iopub.status.busy": "2023-08-13T09:14:42.855289Z",
     "iopub.status.idle": "2023-08-13T09:14:42.862235Z",
     "shell.execute_reply": "2023-08-13T09:14:42.860696Z"
    },
    "papermill": {
     "duration": 0.07032,
     "end_time": "2023-08-13T09:14:42.864811",
     "exception": false,
     "start_time": "2023-08-13T09:14:42.794491",
     "status": "completed"
    },
    "tags": []
   },
   "outputs": [
    {
     "name": "stdout",
     "output_type": "stream",
     "text": [
      "5.0\n"
     ]
    }
   ],
   "source": [
    "import math as m\n",
    "\n",
    "result = m.sqrt(25)\n",
    "print(result)  # Output: 5.0\n"
   ]
  },
  {
   "cell_type": "markdown",
   "id": "453e8f71",
   "metadata": {
    "papermill": {
     "duration": 0.059758,
     "end_time": "2023-08-13T09:14:42.988612",
     "exception": false,
     "start_time": "2023-08-13T09:14:42.928854",
     "status": "completed"
    },
    "tags": []
   },
   "source": [
    "## Importing Specific Items\n",
    "#### Instead of importing the entire module, you can import specific functions or variables using the from keyword.\n",
    "\n"
   ]
  },
  {
   "cell_type": "code",
   "execution_count": 47,
   "id": "ceb87cc0",
   "metadata": {
    "execution": {
     "iopub.execute_input": "2023-08-13T09:14:43.117412Z",
     "iopub.status.busy": "2023-08-13T09:14:43.116944Z",
     "iopub.status.idle": "2023-08-13T09:14:43.124297Z",
     "shell.execute_reply": "2023-08-13T09:14:43.122455Z"
    },
    "papermill": {
     "duration": 0.072604,
     "end_time": "2023-08-13T09:14:43.128043",
     "exception": false,
     "start_time": "2023-08-13T09:14:43.055439",
     "status": "completed"
    },
    "tags": []
   },
   "outputs": [
    {
     "name": "stdout",
     "output_type": "stream",
     "text": [
      "5.0\n"
     ]
    }
   ],
   "source": [
    "from math import sqrt\n",
    "\n",
    "result = sqrt(25)\n",
    "print(result)  # Output: 5.0\n"
   ]
  },
  {
   "cell_type": "markdown",
   "id": "ae293371",
   "metadata": {
    "papermill": {
     "duration": 0.063218,
     "end_time": "2023-08-13T09:14:43.250733",
     "exception": false,
     "start_time": "2023-08-13T09:14:43.187515",
     "status": "completed"
    },
    "tags": []
   },
   "source": [
    "## Importing All Items\n",
    "#### You can import all items from a module using the * wildcard. However, this is generally discouraged as it can lead to naming conflicts and reduced code clarity."
   ]
  },
  {
   "cell_type": "code",
   "execution_count": 48,
   "id": "41a84e4c",
   "metadata": {
    "execution": {
     "iopub.execute_input": "2023-08-13T09:14:43.376555Z",
     "iopub.status.busy": "2023-08-13T09:14:43.376129Z",
     "iopub.status.idle": "2023-08-13T09:14:43.382652Z",
     "shell.execute_reply": "2023-08-13T09:14:43.381390Z"
    },
    "papermill": {
     "duration": 0.072919,
     "end_time": "2023-08-13T09:14:43.385167",
     "exception": false,
     "start_time": "2023-08-13T09:14:43.312248",
     "status": "completed"
    },
    "tags": []
   },
   "outputs": [
    {
     "name": "stdout",
     "output_type": "stream",
     "text": [
      "5.0\n"
     ]
    }
   ],
   "source": [
    "from math import *\n",
    "\n",
    "result = sqrt(25)\n",
    "print(result)  # Output: 5.0\n"
   ]
  },
  {
   "cell_type": "markdown",
   "id": "ab2ae66c",
   "metadata": {
    "papermill": {
     "duration": 0.059207,
     "end_time": "2023-08-13T09:14:43.504947",
     "exception": false,
     "start_time": "2023-08-13T09:14:43.445740",
     "status": "completed"
    },
    "tags": []
   },
   "source": [
    "## Creating Your Own Modules\n",
    "#### You can create your own modules by placing Python code in separate files. To use your custom module, place it in the same directory as your program or specify its location using the appropriate path."
   ]
  },
  {
   "cell_type": "markdown",
   "id": "c2a3dbb7",
   "metadata": {
    "papermill": {
     "duration": 0.064508,
     "end_time": "2023-08-13T09:14:43.633598",
     "exception": false,
     "start_time": "2023-08-13T09:14:43.569090",
     "status": "completed"
    },
    "tags": []
   },
   "source": [
    "### Example (custom module - mymodule.py):"
   ]
  },
  {
   "cell_type": "code",
   "execution_count": 49,
   "id": "79632057",
   "metadata": {
    "execution": {
     "iopub.execute_input": "2023-08-13T09:14:43.758256Z",
     "iopub.status.busy": "2023-08-13T09:14:43.757839Z",
     "iopub.status.idle": "2023-08-13T09:14:43.764342Z",
     "shell.execute_reply": "2023-08-13T09:14:43.762895Z"
    },
    "papermill": {
     "duration": 0.070424,
     "end_time": "2023-08-13T09:14:43.767298",
     "exception": false,
     "start_time": "2023-08-13T09:14:43.696874",
     "status": "completed"
    },
    "tags": []
   },
   "outputs": [],
   "source": [
    "def greet(name):\n",
    "    print(f\"Hello, {name}!\")\n"
   ]
  },
  {
   "cell_type": "markdown",
   "id": "d9b1466e",
   "metadata": {
    "papermill": {
     "duration": 0.061661,
     "end_time": "2023-08-13T09:14:43.907047",
     "exception": false,
     "start_time": "2023-08-13T09:14:43.845386",
     "status": "completed"
    },
    "tags": []
   },
   "source": [
    "### Example (using the custom module):"
   ]
  },
  {
   "cell_type": "markdown",
   "id": "9c557082",
   "metadata": {
    "execution": {
     "iopub.execute_input": "2023-08-12T20:45:05.919200Z",
     "iopub.status.busy": "2023-08-12T20:45:05.918772Z",
     "iopub.status.idle": "2023-08-12T20:45:05.957068Z",
     "shell.execute_reply": "2023-08-12T20:45:05.955604Z",
     "shell.execute_reply.started": "2023-08-12T20:45:05.919168Z"
    },
    "papermill": {
     "duration": 0.062999,
     "end_time": "2023-08-13T09:14:44.031050",
     "exception": false,
     "start_time": "2023-08-13T09:14:43.968051",
     "status": "completed"
    },
    "tags": []
   },
   "source": [
    "```python\n",
    "import mymodule\n",
    "\n",
    "mymodule.greet(\"Alice\")  # Output: Hello, Alice!\n",
    "```"
   ]
  },
  {
   "cell_type": "markdown",
   "id": "081ed2a1",
   "metadata": {
    "papermill": {
     "duration": 0.06455,
     "end_time": "2023-08-13T09:14:44.158161",
     "exception": false,
     "start_time": "2023-08-13T09:14:44.093611",
     "status": "completed"
    },
    "tags": []
   },
   "source": [
    "### Conclusion\n",
    "#### Modules provide a powerful way to organize, reuse, and share code in your Python projects. By importing modules, you can leverage existing functionality and build upon it to create complex applications."
   ]
  },
  {
   "cell_type": "markdown",
   "id": "1e5bc93f",
   "metadata": {
    "papermill": {
     "duration": 0.059917,
     "end_time": "2023-08-13T09:14:44.282414",
     "exception": false,
     "start_time": "2023-08-13T09:14:44.222497",
     "status": "completed"
    },
    "tags": []
   },
   "source": [
    "\n",
    "<h1 align=\"left\"><font color='red'>11</font></h1>"
   ]
  },
  {
   "cell_type": "markdown",
   "id": "18c67eec",
   "metadata": {
    "papermill": {
     "duration": 0.06571,
     "end_time": "2023-08-13T09:14:44.406509",
     "exception": false,
     "start_time": "2023-08-13T09:14:44.340799",
     "status": "completed"
    },
    "tags": []
   },
   "source": [
    "# Chapter 11: Built-in Functions\n",
    "\n",
    "### In this chapter, we'll explore the extensive collection of built-in functions that Python offers. These functions provide ready-to-use functionality to perform various tasks, from manipulating strings to performing mathematical operations.\n",
    "\n",
    "## Common Built-in Functions\n",
    "\n",
    "#### Python provides a rich set of built-in functions that cover a wide range of operations. Some of the most commonly used built-in functions include:\n",
    "\n",
    "####  - `print()`: Outputs text or values to the console.\n",
    "#### - `len()`: Returns the length of a sequence (e.g., string, list, tuple).\n",
    "#### - `input()`: Reads input from the user.\n",
    "#### - `str()`: Converts a value to a string.\n",
    "#### - `int()`: Converts a value to an integer.\n",
    "#### - `float()`: Converts a value to a floating-point number.\n",
    "#### - `list()`: Converts a sequence to a list.\n",
    "####  `tuple()`: Converts a sequence to a tuple.\n",
    "#### - `range()`: Generates a sequence of numbers.\n",
    "#### - `max()`: Returns the maximum value from a sequence.\n",
    "#### - `min()`: Returns the minimum value from a sequence.\n",
    "\n",
    "## Examples of Built-in Functions\n",
    "\n",
    "#### Using `len()` function:"
   ]
  },
  {
   "cell_type": "code",
   "execution_count": 50,
   "id": "ab6ac634",
   "metadata": {
    "execution": {
     "iopub.execute_input": "2023-08-13T09:14:44.531019Z",
     "iopub.status.busy": "2023-08-13T09:14:44.530611Z",
     "iopub.status.idle": "2023-08-13T09:14:44.536461Z",
     "shell.execute_reply": "2023-08-13T09:14:44.535164Z"
    },
    "papermill": {
     "duration": 0.071451,
     "end_time": "2023-08-13T09:14:44.539707",
     "exception": false,
     "start_time": "2023-08-13T09:14:44.468256",
     "status": "completed"
    },
    "tags": []
   },
   "outputs": [
    {
     "name": "stdout",
     "output_type": "stream",
     "text": [
      "5\n"
     ]
    }
   ],
   "source": [
    "name = \"Alice\"\n",
    "length = len(name)\n",
    "print(length)  # Output: 5"
   ]
  },
  {
   "cell_type": "markdown",
   "id": "9eacba7e",
   "metadata": {
    "papermill": {
     "duration": 0.058099,
     "end_time": "2023-08-13T09:14:44.660124",
     "exception": false,
     "start_time": "2023-08-13T09:14:44.602025",
     "status": "completed"
    },
    "tags": []
   },
   "source": [
    "### Using int() function:"
   ]
  },
  {
   "cell_type": "code",
   "execution_count": 51,
   "id": "55a2c054",
   "metadata": {
    "execution": {
     "iopub.execute_input": "2023-08-13T09:14:44.787384Z",
     "iopub.status.busy": "2023-08-13T09:14:44.786612Z",
     "iopub.status.idle": "2023-08-13T09:14:44.793251Z",
     "shell.execute_reply": "2023-08-13T09:14:44.791893Z"
    },
    "papermill": {
     "duration": 0.073468,
     "end_time": "2023-08-13T09:14:44.796708",
     "exception": false,
     "start_time": "2023-08-13T09:14:44.723240",
     "status": "completed"
    },
    "tags": []
   },
   "outputs": [
    {
     "name": "stdout",
     "output_type": "stream",
     "text": [
      "30\n"
     ]
    }
   ],
   "source": [
    "age_str = \"30\"\n",
    "age_int = int(age_str)\n",
    "print(age_int)  # Output: 30\n"
   ]
  },
  {
   "cell_type": "markdown",
   "id": "6bbd35aa",
   "metadata": {
    "papermill": {
     "duration": 0.067614,
     "end_time": "2023-08-13T09:14:44.931029",
     "exception": false,
     "start_time": "2023-08-13T09:14:44.863415",
     "status": "completed"
    },
    "tags": []
   },
   "source": [
    "### Using range() function:"
   ]
  },
  {
   "cell_type": "code",
   "execution_count": 52,
   "id": "6b505b3a",
   "metadata": {
    "execution": {
     "iopub.execute_input": "2023-08-13T09:14:45.060509Z",
     "iopub.status.busy": "2023-08-13T09:14:45.060025Z",
     "iopub.status.idle": "2023-08-13T09:14:45.067705Z",
     "shell.execute_reply": "2023-08-13T09:14:45.065805Z"
    },
    "papermill": {
     "duration": 0.076166,
     "end_time": "2023-08-13T09:14:45.070283",
     "exception": false,
     "start_time": "2023-08-13T09:14:44.994117",
     "status": "completed"
    },
    "tags": []
   },
   "outputs": [
    {
     "name": "stdout",
     "output_type": "stream",
     "text": [
      "0\n",
      "1\n",
      "2\n",
      "3\n",
      "4\n"
     ]
    }
   ],
   "source": [
    "for i in range(5):\n",
    "    print(i)  # Output: 0, 1, 2, 3, 4\n"
   ]
  },
  {
   "cell_type": "markdown",
   "id": "081872d7",
   "metadata": {
    "papermill": {
     "duration": 0.060959,
     "end_time": "2023-08-13T09:14:45.194873",
     "exception": false,
     "start_time": "2023-08-13T09:14:45.133914",
     "status": "completed"
    },
    "tags": []
   },
   "source": [
    "### Using max() and min() functions:"
   ]
  },
  {
   "cell_type": "code",
   "execution_count": 53,
   "id": "4386659c",
   "metadata": {
    "execution": {
     "iopub.execute_input": "2023-08-13T09:14:45.322495Z",
     "iopub.status.busy": "2023-08-13T09:14:45.322096Z",
     "iopub.status.idle": "2023-08-13T09:14:45.328385Z",
     "shell.execute_reply": "2023-08-13T09:14:45.326853Z"
    },
    "papermill": {
     "duration": 0.071741,
     "end_time": "2023-08-13T09:14:45.331486",
     "exception": false,
     "start_time": "2023-08-13T09:14:45.259745",
     "status": "completed"
    },
    "tags": []
   },
   "outputs": [
    {
     "name": "stdout",
     "output_type": "stream",
     "text": [
      "10\n",
      "2\n"
     ]
    }
   ],
   "source": [
    "numbers = [5, 2, 8, 3, 10]\n",
    "max_value = max(numbers)\n",
    "min_value = min(numbers)\n",
    "print(max_value)  # Output: 10\n",
    "print(min_value)  # Output: 2\n"
   ]
  },
  {
   "cell_type": "markdown",
   "id": "c9e86e39",
   "metadata": {
    "papermill": {
     "duration": 0.06408,
     "end_time": "2023-08-13T09:14:45.455434",
     "exception": false,
     "start_time": "2023-08-13T09:14:45.391354",
     "status": "completed"
    },
    "tags": []
   },
   "source": [
    "## Conclusion\n",
    "#### Python's built-in functions provide a wide array of tools to simplify and accelerate your programming tasks. By leveraging these functions, you can perform various operations efficiently without having to implement everything from scratch."
   ]
  },
  {
   "cell_type": "markdown",
   "id": "fa13c187",
   "metadata": {
    "papermill": {
     "duration": 0.059193,
     "end_time": "2023-08-13T09:14:45.576749",
     "exception": false,
     "start_time": "2023-08-13T09:14:45.517556",
     "status": "completed"
    },
    "tags": []
   },
   "source": [
    "\n",
    "<h1 align=\"left\"><font color='red'>12</font></h1>"
   ]
  },
  {
   "cell_type": "markdown",
   "id": "42558ba8",
   "metadata": {
    "papermill": {
     "duration": 0.063965,
     "end_time": "2023-08-13T09:14:45.698639",
     "exception": false,
     "start_time": "2023-08-13T09:14:45.634674",
     "status": "completed"
    },
    "tags": []
   },
   "source": [
    "\n",
    "# Chapter 12: List Data Type\n",
    "\n",
    "### In this chapter, we'll explore the list data type in Python, which allows you to store and manipulate collections of items. Lists are versatile and widely used for various programming tasks.\n",
    "\n",
    "## Creating Lists\n",
    "\n",
    "#### Lists are defined using square brackets `[]`, and the items are separated by commas. Lists can contain elements of different data types.\n",
    "\n",
    "#### Example:"
   ]
  },
  {
   "cell_type": "code",
   "execution_count": 54,
   "id": "07fa6feb",
   "metadata": {
    "execution": {
     "iopub.execute_input": "2023-08-13T09:14:45.834472Z",
     "iopub.status.busy": "2023-08-13T09:14:45.834032Z",
     "iopub.status.idle": "2023-08-13T09:14:45.840394Z",
     "shell.execute_reply": "2023-08-13T09:14:45.838912Z"
    },
    "papermill": {
     "duration": 0.076817,
     "end_time": "2023-08-13T09:14:45.843015",
     "exception": false,
     "start_time": "2023-08-13T09:14:45.766198",
     "status": "completed"
    },
    "tags": []
   },
   "outputs": [],
   "source": [
    "fruits = [\"apple\", \"banana\", \"cherry\"]\n",
    "numbers = [1, 2, 3, 4, 5]\n",
    "mixed_list = [\"Alice\", 30, 5.7, True]"
   ]
  },
  {
   "cell_type": "markdown",
   "id": "e36b0a01",
   "metadata": {
    "papermill": {
     "duration": 0.062016,
     "end_time": "2023-08-13T09:14:45.969393",
     "exception": false,
     "start_time": "2023-08-13T09:14:45.907377",
     "status": "completed"
    },
    "tags": []
   },
   "source": [
    "## Indexing and Slicing Lists\n",
    "#### You can access individual elements of a list using indexing. Indexing starts from 0 for the first element, -1 for the last element, and so on. Slicing allows you to extract a subset of elements from a list.\n",
    "\n",
    "### Example (Indexing):"
   ]
  },
  {
   "cell_type": "code",
   "execution_count": 55,
   "id": "fb2e0677",
   "metadata": {
    "execution": {
     "iopub.execute_input": "2023-08-13T09:14:46.101840Z",
     "iopub.status.busy": "2023-08-13T09:14:46.100989Z",
     "iopub.status.idle": "2023-08-13T09:14:46.108456Z",
     "shell.execute_reply": "2023-08-13T09:14:46.106996Z"
    },
    "papermill": {
     "duration": 0.075586,
     "end_time": "2023-08-13T09:14:46.112290",
     "exception": false,
     "start_time": "2023-08-13T09:14:46.036704",
     "status": "completed"
    },
    "tags": []
   },
   "outputs": [
    {
     "name": "stdout",
     "output_type": "stream",
     "text": [
      "apple\n",
      "cherry\n"
     ]
    }
   ],
   "source": [
    "fruits = [\"apple\", \"banana\", \"cherry\"]\n",
    "print(fruits[0])      # Output: apple\n",
    "print(fruits[-1])     # Output: cherry\n"
   ]
  },
  {
   "cell_type": "markdown",
   "id": "647075f7",
   "metadata": {
    "papermill": {
     "duration": 0.062491,
     "end_time": "2023-08-13T09:14:46.238518",
     "exception": false,
     "start_time": "2023-08-13T09:14:46.176027",
     "status": "completed"
    },
    "tags": []
   },
   "source": [
    "### Example (Slicing):"
   ]
  },
  {
   "cell_type": "code",
   "execution_count": 56,
   "id": "cd6e2ad8",
   "metadata": {
    "execution": {
     "iopub.execute_input": "2023-08-13T09:14:46.369318Z",
     "iopub.status.busy": "2023-08-13T09:14:46.368851Z",
     "iopub.status.idle": "2023-08-13T09:14:46.376078Z",
     "shell.execute_reply": "2023-08-13T09:14:46.374777Z"
    },
    "papermill": {
     "duration": 0.076484,
     "end_time": "2023-08-13T09:14:46.379168",
     "exception": false,
     "start_time": "2023-08-13T09:14:46.302684",
     "status": "completed"
    },
    "tags": []
   },
   "outputs": [
    {
     "name": "stdout",
     "output_type": "stream",
     "text": [
      "[2, 3, 4]\n"
     ]
    }
   ],
   "source": [
    "numbers = [1, 2, 3, 4, 5]\n",
    "subset = numbers[1:4]  # Slice from index 1 to 3 (exclusive)\n",
    "print(subset)          # Output: [2, 3, 4]\n"
   ]
  },
  {
   "cell_type": "markdown",
   "id": "06a7704d",
   "metadata": {
    "papermill": {
     "duration": 0.060908,
     "end_time": "2023-08-13T09:14:46.502305",
     "exception": false,
     "start_time": "2023-08-13T09:14:46.441397",
     "status": "completed"
    },
    "tags": []
   },
   "source": [
    "## List Methods\n",
    "#### Python provides a variety of methods to manipulate lists. Some common list methods include:\n",
    "\n",
    "#### `append()`: Adds an item to the end of the list.\n",
    "#### `insert()`: Inserts an item at a specified position.\n",
    "#### `remove()`: Removes the first occurrence of a value.\n",
    "#### `pop()`: Removes and returns an item at a specified index.\n",
    "#### `sort()`: Sorts the list in ascending order.\n",
    "#### `reverse()`: Reverses the order of the list.\n",
    "#### Example (Using `append()` and `insert()`):"
   ]
  },
  {
   "cell_type": "code",
   "execution_count": 57,
   "id": "cbb9f7de",
   "metadata": {
    "execution": {
     "iopub.execute_input": "2023-08-13T09:14:46.628552Z",
     "iopub.status.busy": "2023-08-13T09:14:46.628097Z",
     "iopub.status.idle": "2023-08-13T09:14:46.634717Z",
     "shell.execute_reply": "2023-08-13T09:14:46.633271Z"
    },
    "papermill": {
     "duration": 0.074592,
     "end_time": "2023-08-13T09:14:46.638090",
     "exception": false,
     "start_time": "2023-08-13T09:14:46.563498",
     "status": "completed"
    },
    "tags": []
   },
   "outputs": [
    {
     "name": "stdout",
     "output_type": "stream",
     "text": [
      "['apple', 'grape', 'banana', 'cherry', 'orange']\n"
     ]
    }
   ],
   "source": [
    "fruits = [\"apple\", \"banana\", \"cherry\"]\n",
    "fruits.append(\"orange\")     # Adds \"orange\" to the end\n",
    "fruits.insert(1, \"grape\")   # Inserts \"grape\" at index 1\n",
    "print(fruits)               # Output: [\"apple\", \"grape\", \"banana\", \"cherry\", \"orange\"]\n"
   ]
  },
  {
   "cell_type": "markdown",
   "id": "798cf442",
   "metadata": {
    "papermill": {
     "duration": 0.062102,
     "end_time": "2023-08-13T09:14:46.766472",
     "exception": false,
     "start_time": "2023-08-13T09:14:46.704370",
     "status": "completed"
    },
    "tags": []
   },
   "source": [
    "### Example (Using remove() and pop()):"
   ]
  },
  {
   "cell_type": "code",
   "execution_count": 58,
   "id": "f6916e0a",
   "metadata": {
    "execution": {
     "iopub.execute_input": "2023-08-13T09:14:46.897517Z",
     "iopub.status.busy": "2023-08-13T09:14:46.897038Z",
     "iopub.status.idle": "2023-08-13T09:14:46.903662Z",
     "shell.execute_reply": "2023-08-13T09:14:46.902534Z"
    },
    "papermill": {
     "duration": 0.07776,
     "end_time": "2023-08-13T09:14:46.905988",
     "exception": false,
     "start_time": "2023-08-13T09:14:46.828228",
     "status": "completed"
    },
    "tags": []
   },
   "outputs": [
    {
     "name": "stdout",
     "output_type": "stream",
     "text": [
      "[1, 4, 5]\n",
      "2\n"
     ]
    }
   ],
   "source": [
    "numbers = [1, 2, 3, 4, 5]\n",
    "numbers.remove(3)           # Removes the first occurrence of 3\n",
    "popped_item = numbers.pop(1)  # Removes and returns item at index 1\n",
    "print(numbers)              # Output: [1, 2, 4, 5]\n",
    "print(popped_item)          # Output: 2\n"
   ]
  },
  {
   "cell_type": "markdown",
   "id": "2464d632",
   "metadata": {
    "papermill": {
     "duration": 0.06699,
     "end_time": "2023-08-13T09:14:47.034731",
     "exception": false,
     "start_time": "2023-08-13T09:14:46.967741",
     "status": "completed"
    },
    "tags": []
   },
   "source": [
    "## Conclusion\n",
    "#### Lists are fundamental data structures in Python, providing a flexible way to store and manipulate collections of items. By understanding list creation, indexing, slicing, and using list methods, you can effectively work with lists to perform various tasks.\n",
    "\n",
    "#### In the upcoming chapters, we'll explore more data structures and advanced techniques to further enhance your Python programming skills."
   ]
  },
  {
   "cell_type": "markdown",
   "id": "7773fd5e",
   "metadata": {
    "papermill": {
     "duration": 0.061048,
     "end_time": "2023-08-13T09:14:47.162085",
     "exception": false,
     "start_time": "2023-08-13T09:14:47.101037",
     "status": "completed"
    },
    "tags": []
   },
   "source": [
    "\n",
    "<h1 align=\"left\"><font color='red'>13</font></h1>"
   ]
  },
  {
   "cell_type": "markdown",
   "id": "dcba5630",
   "metadata": {
    "papermill": {
     "duration": 0.064955,
     "end_time": "2023-08-13T09:14:47.289554",
     "exception": false,
     "start_time": "2023-08-13T09:14:47.224599",
     "status": "completed"
    },
    "tags": []
   },
   "source": [
    "# Chapter 13: Tuple Data Type\n",
    "\n",
    "#### In this chapter, we'll explore the tuple data type in Python. Tuples are similar to lists but are immutable, meaning their elements cannot be changed after creation. Tuples are useful for representing collections of items that should not be modified.\n",
    "\n",
    "## Creating Tuples\n",
    "\n",
    "#### Tuples are defined using parentheses `()` and the items are separated by commas. Tuples can contain elements of different data types.\n",
    "\n",
    "#### Example:\n",
    "\n"
   ]
  },
  {
   "cell_type": "code",
   "execution_count": 59,
   "id": "31e03599",
   "metadata": {
    "execution": {
     "iopub.execute_input": "2023-08-13T09:14:47.419887Z",
     "iopub.status.busy": "2023-08-13T09:14:47.419033Z",
     "iopub.status.idle": "2023-08-13T09:14:47.430545Z",
     "shell.execute_reply": "2023-08-13T09:14:47.427779Z"
    },
    "papermill": {
     "duration": 0.082718,
     "end_time": "2023-08-13T09:14:47.434782",
     "exception": false,
     "start_time": "2023-08-13T09:14:47.352064",
     "status": "completed"
    },
    "tags": []
   },
   "outputs": [],
   "source": [
    "fruits = (\"apple\", \"banana\", \"cherry\")\n",
    "numbers = (1, 2, 3, 4, 5)\n",
    "mixed_tuple = (\"Alice\", 30, 5.7, True)"
   ]
  },
  {
   "cell_type": "markdown",
   "id": "ea358ce1",
   "metadata": {
    "papermill": {
     "duration": 0.062335,
     "end_time": "2023-08-13T09:14:47.563434",
     "exception": false,
     "start_time": "2023-08-13T09:14:47.501099",
     "status": "completed"
    },
    "tags": []
   },
   "source": [
    "## Unpacking Tuples\n",
    "#### You can assign the elements of a tuple to multiple variables using unpacking. This is useful when you want to access individual elements of a tuple.\n",
    "\n",
    "### Example (Unpacking):"
   ]
  },
  {
   "cell_type": "code",
   "execution_count": 60,
   "id": "2e0e3b6f",
   "metadata": {
    "execution": {
     "iopub.execute_input": "2023-08-13T09:14:47.690186Z",
     "iopub.status.busy": "2023-08-13T09:14:47.689416Z",
     "iopub.status.idle": "2023-08-13T09:14:47.696572Z",
     "shell.execute_reply": "2023-08-13T09:14:47.695569Z"
    },
    "papermill": {
     "duration": 0.073528,
     "end_time": "2023-08-13T09:14:47.699314",
     "exception": false,
     "start_time": "2023-08-13T09:14:47.625786",
     "status": "completed"
    },
    "tags": []
   },
   "outputs": [
    {
     "name": "stdout",
     "output_type": "stream",
     "text": [
      "3\n",
      "4\n"
     ]
    }
   ],
   "source": [
    "coordinates = (3, 4)\n",
    "x, y = coordinates\n",
    "print(x)  # Output: 3\n",
    "print(y)  # Output: 4\n"
   ]
  },
  {
   "cell_type": "markdown",
   "id": "9193927a",
   "metadata": {
    "papermill": {
     "duration": 0.061907,
     "end_time": "2023-08-13T09:14:47.821865",
     "exception": false,
     "start_time": "2023-08-13T09:14:47.759958",
     "status": "completed"
    },
    "tags": []
   },
   "source": [
    "## Immutable Nature of Tuples\n",
    "#### Unlike lists, tuples are immutable, which means their elements cannot be changed after creation. This property makes tuples suitable for representing fixed collections of data.\n",
    "\n",
    "### Example (Immutable):"
   ]
  },
  {
   "cell_type": "code",
   "execution_count": 61,
   "id": "da80b0a7",
   "metadata": {
    "execution": {
     "iopub.execute_input": "2023-08-13T09:14:47.948966Z",
     "iopub.status.busy": "2023-08-13T09:14:47.948525Z",
     "iopub.status.idle": "2023-08-13T09:14:47.954001Z",
     "shell.execute_reply": "2023-08-13T09:14:47.952706Z"
    },
    "papermill": {
     "duration": 0.071905,
     "end_time": "2023-08-13T09:14:47.957094",
     "exception": false,
     "start_time": "2023-08-13T09:14:47.885189",
     "status": "completed"
    },
    "tags": []
   },
   "outputs": [],
   "source": [
    "point = (3, 4)\n",
    "# point[0] = 5  # This will raise an error, as tuples are immutable\n"
   ]
  },
  {
   "cell_type": "markdown",
   "id": "a72dbb09",
   "metadata": {
    "papermill": {
     "duration": 0.068255,
     "end_time": "2023-08-13T09:14:48.088826",
     "exception": false,
     "start_time": "2023-08-13T09:14:48.020571",
     "status": "completed"
    },
    "tags": []
   },
   "source": [
    "## Benefits of Tuples\n",
    "#### Tuples are memory efficient compared to lists.\n",
    "#### Tuples can be used as keys in dictionaries.\n",
    "#### Tuples are often used to return multiple values from a function.\n",
    "### Example (Using Tuples as Keys):"
   ]
  },
  {
   "cell_type": "code",
   "execution_count": 62,
   "id": "7bb28d4c",
   "metadata": {
    "execution": {
     "iopub.execute_input": "2023-08-13T09:14:48.209793Z",
     "iopub.status.busy": "2023-08-13T09:14:48.209397Z",
     "iopub.status.idle": "2023-08-13T09:14:48.214808Z",
     "shell.execute_reply": "2023-08-13T09:14:48.213809Z"
    },
    "papermill": {
     "duration": 0.070811,
     "end_time": "2023-08-13T09:14:48.218731",
     "exception": false,
     "start_time": "2023-08-13T09:14:48.147920",
     "status": "completed"
    },
    "tags": []
   },
   "outputs": [
    {
     "name": "stdout",
     "output_type": "stream",
     "text": [
      "Point A\n"
     ]
    }
   ],
   "source": [
    "coordinates = (3, 4)\n",
    "points = {coordinates: \"Point A\"}\n",
    "print(points[coordinates])  # Output: Point A\n"
   ]
  },
  {
   "cell_type": "markdown",
   "id": "e7135899",
   "metadata": {
    "papermill": {
     "duration": 0.060221,
     "end_time": "2023-08-13T09:14:48.340563",
     "exception": false,
     "start_time": "2023-08-13T09:14:48.280342",
     "status": "completed"
    },
    "tags": []
   },
   "source": [
    "## Conclusion\n",
    "#### Tuples provide a useful way to represent collections of items that should not be modified. Their immutability and efficiency make them valuable in various programming scenarios, from representing coordinates to being used as dictionary keys."
   ]
  },
  {
   "cell_type": "markdown",
   "id": "6d3bc63c",
   "metadata": {
    "papermill": {
     "duration": 0.064396,
     "end_time": "2023-08-13T09:14:48.468332",
     "exception": false,
     "start_time": "2023-08-13T09:14:48.403936",
     "status": "completed"
    },
    "tags": []
   },
   "source": [
    "\n",
    "<h1 align=\"left\"><font color='red'>14</font></h1>"
   ]
  },
  {
   "cell_type": "markdown",
   "id": "7796788b",
   "metadata": {
    "papermill": {
     "duration": 0.064957,
     "end_time": "2023-08-13T09:14:48.594085",
     "exception": false,
     "start_time": "2023-08-13T09:14:48.529128",
     "status": "completed"
    },
    "tags": []
   },
   "source": [
    "# Chapter 14: Dictionaries\n",
    "\n",
    "#### In this chapter, we'll explore the dictionary data type in Python. Dictionaries allow you to store key-value pairs and provide a flexible way to organize and manage data.\n",
    "\n",
    "## Creating Dictionaries\n",
    "\n",
    "#### Dictionaries are defined using curly braces `{}`. Each item in a dictionary consists of a key and its associated value, separated by a colon. Items are separated by commas.\n",
    "\n",
    "#### Example:\n"
   ]
  },
  {
   "cell_type": "code",
   "execution_count": 63,
   "id": "20f2dee3",
   "metadata": {
    "execution": {
     "iopub.execute_input": "2023-08-13T09:14:48.715226Z",
     "iopub.status.busy": "2023-08-13T09:14:48.714796Z",
     "iopub.status.idle": "2023-08-13T09:14:48.720112Z",
     "shell.execute_reply": "2023-08-13T09:14:48.719022Z"
    },
    "papermill": {
     "duration": 0.068465,
     "end_time": "2023-08-13T09:14:48.722524",
     "exception": false,
     "start_time": "2023-08-13T09:14:48.654059",
     "status": "completed"
    },
    "tags": []
   },
   "outputs": [],
   "source": [
    "person = {\n",
    "    \"name\": \"Alice\",\n",
    "    \"age\": 30,\n",
    "    \"city\": \"New York\"\n",
    "}"
   ]
  },
  {
   "cell_type": "markdown",
   "id": "404b696f",
   "metadata": {
    "papermill": {
     "duration": 0.060903,
     "end_time": "2023-08-13T09:14:48.844886",
     "exception": false,
     "start_time": "2023-08-13T09:14:48.783983",
     "status": "completed"
    },
    "tags": []
   },
   "source": [
    "## Accessing and Modifying Values\n",
    "#### You can access the value of a specific key using square brackets [] and the key name. You can also modify the value associated with a key.\n",
    "\n",
    "### Example (Accessing Values):"
   ]
  },
  {
   "cell_type": "code",
   "execution_count": 64,
   "id": "03f07c54",
   "metadata": {
    "execution": {
     "iopub.execute_input": "2023-08-13T09:14:48.970099Z",
     "iopub.status.busy": "2023-08-13T09:14:48.969660Z",
     "iopub.status.idle": "2023-08-13T09:14:48.976445Z",
     "shell.execute_reply": "2023-08-13T09:14:48.975144Z"
    },
    "papermill": {
     "duration": 0.074723,
     "end_time": "2023-08-13T09:14:48.979655",
     "exception": false,
     "start_time": "2023-08-13T09:14:48.904932",
     "status": "completed"
    },
    "tags": []
   },
   "outputs": [
    {
     "name": "stdout",
     "output_type": "stream",
     "text": [
      "Alice\n",
      "30\n"
     ]
    }
   ],
   "source": [
    "person = {\n",
    "    \"name\": \"Alice\",\n",
    "    \"age\": 30,\n",
    "    \"city\": \"New York\"\n",
    "}\n",
    "\n",
    "print(person[\"name\"])  # Output: Alice\n",
    "print(person[\"age\"])   # Output: 30\n"
   ]
  },
  {
   "cell_type": "markdown",
   "id": "cc8d753c",
   "metadata": {
    "papermill": {
     "duration": 0.062317,
     "end_time": "2023-08-13T09:14:49.109734",
     "exception": false,
     "start_time": "2023-08-13T09:14:49.047417",
     "status": "completed"
    },
    "tags": []
   },
   "source": [
    "### Example (Modifying Values):"
   ]
  },
  {
   "cell_type": "code",
   "execution_count": 65,
   "id": "a5020fe7",
   "metadata": {
    "execution": {
     "iopub.execute_input": "2023-08-13T09:14:49.237127Z",
     "iopub.status.busy": "2023-08-13T09:14:49.236725Z",
     "iopub.status.idle": "2023-08-13T09:14:49.243432Z",
     "shell.execute_reply": "2023-08-13T09:14:49.241641Z"
    },
    "papermill": {
     "duration": 0.073871,
     "end_time": "2023-08-13T09:14:49.246621",
     "exception": false,
     "start_time": "2023-08-13T09:14:49.172750",
     "status": "completed"
    },
    "tags": []
   },
   "outputs": [
    {
     "name": "stdout",
     "output_type": "stream",
     "text": [
      "31\n"
     ]
    }
   ],
   "source": [
    "person = {\n",
    "    \"name\": \"Alice\",\n",
    "    \"age\": 30,\n",
    "    \"city\": \"New York\"\n",
    "}\n",
    "\n",
    "person[\"age\"] = 31\n",
    "print(person[\"age\"])   # Output: 31\n"
   ]
  },
  {
   "cell_type": "markdown",
   "id": "6e9075fd",
   "metadata": {
    "papermill": {
     "duration": 0.061704,
     "end_time": "2023-08-13T09:14:49.372868",
     "exception": false,
     "start_time": "2023-08-13T09:14:49.311164",
     "status": "completed"
    },
    "tags": []
   },
   "source": [
    "## Dictionary Methods\n",
    "#### Python provides various methods for working with dictionaries. Some common dictionary methods include:\n",
    "\n",
    "#### `keys()`: Returns a list of all keys in the dictionary.\n",
    "#### `values()`: Returns a list of all values in the dictionary.\n",
    "#### `items()`: Returns a list of key-value pairs as tuples.\n",
    "### Example (Using keys() and values()):"
   ]
  },
  {
   "cell_type": "code",
   "execution_count": 66,
   "id": "d6b34e48",
   "metadata": {
    "execution": {
     "iopub.execute_input": "2023-08-13T09:14:49.498300Z",
     "iopub.status.busy": "2023-08-13T09:14:49.497727Z",
     "iopub.status.idle": "2023-08-13T09:14:49.505731Z",
     "shell.execute_reply": "2023-08-13T09:14:49.503951Z"
    },
    "papermill": {
     "duration": 0.073023,
     "end_time": "2023-08-13T09:14:49.508692",
     "exception": false,
     "start_time": "2023-08-13T09:14:49.435669",
     "status": "completed"
    },
    "tags": []
   },
   "outputs": [
    {
     "name": "stdout",
     "output_type": "stream",
     "text": [
      "dict_keys(['name', 'age', 'city'])\n",
      "dict_values(['Alice', 30, 'New York'])\n"
     ]
    }
   ],
   "source": [
    "person = {\n",
    "    \"name\": \"Alice\",\n",
    "    \"age\": 30,\n",
    "    \"city\": \"New York\"\n",
    "}\n",
    "\n",
    "keys = person.keys()\n",
    "values = person.values()\n",
    "\n",
    "print(keys)    # Output: dict_keys(['name', 'age', 'city'])\n",
    "print(values)  # Output: dict_values(['Alice', 30, 'New York'])\n"
   ]
  },
  {
   "cell_type": "markdown",
   "id": "fdad04d1",
   "metadata": {
    "papermill": {
     "duration": 0.06281,
     "end_time": "2023-08-13T09:14:49.632153",
     "exception": false,
     "start_time": "2023-08-13T09:14:49.569343",
     "status": "completed"
    },
    "tags": []
   },
   "source": [
    "## Conclusion\n",
    "#### Dictionaries provide a powerful way to store and manage data using key-value pairs. They allow you to organize information efficiently and retrieve values quickly based on their keys."
   ]
  },
  {
   "cell_type": "markdown",
   "id": "d0624411",
   "metadata": {
    "papermill": {
     "duration": 0.063228,
     "end_time": "2023-08-13T09:14:49.757723",
     "exception": false,
     "start_time": "2023-08-13T09:14:49.694495",
     "status": "completed"
    },
    "tags": []
   },
   "source": [
    "\n",
    "<h1 align=\"left\"><font color='red'>15</font></h1>"
   ]
  },
  {
   "cell_type": "markdown",
   "id": "bbd88ff3",
   "metadata": {
    "papermill": {
     "duration": 0.061689,
     "end_time": "2023-08-13T09:14:49.878761",
     "exception": false,
     "start_time": "2023-08-13T09:14:49.817072",
     "status": "completed"
    },
    "tags": []
   },
   "source": [
    "# Chapter 15: Sets\n",
    "\n",
    "#### In this chapter, we'll explore the set data type in Python. Sets are collections of unique elements and provide efficient ways to perform various set operations.\n",
    "\n",
    "## Creating Sets\n",
    "\n",
    "#### Sets are defined using curly braces `{}`. Elements are separated by commas, and duplicates are automatically removed.\n",
    "\n",
    "#### Example:"
   ]
  },
  {
   "cell_type": "code",
   "execution_count": 67,
   "id": "6b90ae1d",
   "metadata": {
    "execution": {
     "iopub.execute_input": "2023-08-13T09:14:50.014969Z",
     "iopub.status.busy": "2023-08-13T09:14:50.014489Z",
     "iopub.status.idle": "2023-08-13T09:14:50.020128Z",
     "shell.execute_reply": "2023-08-13T09:14:50.018906Z"
    },
    "papermill": {
     "duration": 0.075893,
     "end_time": "2023-08-13T09:14:50.022929",
     "exception": false,
     "start_time": "2023-08-13T09:14:49.947036",
     "status": "completed"
    },
    "tags": []
   },
   "outputs": [],
   "source": [
    "fruits = {\"apple\", \"banana\", \"cherry\"}\n",
    "numbers = {1, 2, 3, 4, 5}\n",
    "mixed_set = {1, \"Alice\", 3.14, True}"
   ]
  },
  {
   "cell_type": "markdown",
   "id": "bb448be2",
   "metadata": {
    "papermill": {
     "duration": 0.062113,
     "end_time": "2023-08-13T09:14:50.147772",
     "exception": false,
     "start_time": "2023-08-13T09:14:50.085659",
     "status": "completed"
    },
    "tags": []
   },
   "source": [
    "## Set Operations\n",
    "#### Python provides various set operations to work with sets. Some common set operations include:\n",
    "\n",
    "#### `add()`: Adds an element to the set.\n",
    "#### `remove()`: Removes an element from the set (raises an error if not found).\n",
    "#### `discard()`: Removes an element from the set (does not raise an error if not found).\n",
    "#### `union()`: Returns the union of two sets.\n",
    "#### `intersection()`: Returns the intersection of two sets.\n",
    "#### `difference()`: Returns the difference between two sets.\n",
    "#### `ssubset()`: Checks if a set is a subset of another set.\n",
    "### Example (Using add() and remove()):"
   ]
  },
  {
   "cell_type": "code",
   "execution_count": 68,
   "id": "afcdbf7a",
   "metadata": {
    "execution": {
     "iopub.execute_input": "2023-08-13T09:14:50.278126Z",
     "iopub.status.busy": "2023-08-13T09:14:50.277644Z",
     "iopub.status.idle": "2023-08-13T09:14:50.285217Z",
     "shell.execute_reply": "2023-08-13T09:14:50.283567Z"
    },
    "papermill": {
     "duration": 0.076122,
     "end_time": "2023-08-13T09:14:50.288621",
     "exception": false,
     "start_time": "2023-08-13T09:14:50.212499",
     "status": "completed"
    },
    "tags": []
   },
   "outputs": [
    {
     "name": "stdout",
     "output_type": "stream",
     "text": [
      "{'orange', 'apple', 'cherry'}\n"
     ]
    }
   ],
   "source": [
    "fruits = {\"apple\", \"banana\", \"cherry\"}\n",
    "fruits.add(\"orange\")\n",
    "fruits.remove(\"banana\")\n",
    "print(fruits)  # Output: {\"apple\", \"cherry\", \"orange\"}\n"
   ]
  },
  {
   "cell_type": "markdown",
   "id": "e321cb0a",
   "metadata": {
    "papermill": {
     "duration": 0.061732,
     "end_time": "2023-08-13T09:14:50.413985",
     "exception": false,
     "start_time": "2023-08-13T09:14:50.352253",
     "status": "completed"
    },
    "tags": []
   },
   "source": [
    "### Example (Using Set Operations):"
   ]
  },
  {
   "cell_type": "code",
   "execution_count": 69,
   "id": "3bc15c05",
   "metadata": {
    "execution": {
     "iopub.execute_input": "2023-08-13T09:14:50.546788Z",
     "iopub.status.busy": "2023-08-13T09:14:50.546384Z",
     "iopub.status.idle": "2023-08-13T09:14:50.554165Z",
     "shell.execute_reply": "2023-08-13T09:14:50.552529Z"
    },
    "papermill": {
     "duration": 0.077857,
     "end_time": "2023-08-13T09:14:50.557173",
     "exception": false,
     "start_time": "2023-08-13T09:14:50.479316",
     "status": "completed"
    },
    "tags": []
   },
   "outputs": [
    {
     "name": "stdout",
     "output_type": "stream",
     "text": [
      "{1, 2, 3, 4, 5, 6}\n",
      "{3, 4}\n",
      "{1, 2}\n"
     ]
    }
   ],
   "source": [
    "set1 = {1, 2, 3, 4}\n",
    "set2 = {3, 4, 5, 6}\n",
    "\n",
    "union_set = set1.union(set2)\n",
    "intersection_set = set1.intersection(set2)\n",
    "difference_set = set1.difference(set2)\n",
    "\n",
    "print(union_set)        # Output: {1, 2, 3, 4, 5, 6}\n",
    "print(intersection_set) # Output: {3, 4}\n",
    "print(difference_set)   # Output: {1, 2}"
   ]
  },
  {
   "cell_type": "markdown",
   "id": "c464930e",
   "metadata": {
    "papermill": {
     "duration": 0.06241,
     "end_time": "2023-08-13T09:14:50.684045",
     "exception": false,
     "start_time": "2023-08-13T09:14:50.621635",
     "status": "completed"
    },
    "tags": []
   },
   "source": [
    "### Conclusion\n",
    "#### Sets provide a powerful way to work with collections of unique elements and perform set operations efficiently. They are particularly useful for tasks that involve membership testing, deduplication, and mathematical operations."
   ]
  },
  {
   "cell_type": "markdown",
   "id": "d9e84f5e",
   "metadata": {
    "papermill": {
     "duration": 0.067326,
     "end_time": "2023-08-13T09:14:50.814760",
     "exception": false,
     "start_time": "2023-08-13T09:14:50.747434",
     "status": "completed"
    },
    "tags": []
   },
   "source": [
    "\n",
    "<h1 align=\"left\"><font color='red'>16</font></h1>"
   ]
  },
  {
   "cell_type": "markdown",
   "id": "83661871",
   "metadata": {
    "papermill": {
     "duration": 0.066111,
     "end_time": "2023-08-13T09:14:50.943190",
     "exception": false,
     "start_time": "2023-08-13T09:14:50.877079",
     "status": "completed"
    },
    "tags": []
   },
   "source": [
    "# Chapter 16: Strings and String Methods\n",
    "\n",
    "#### In this chapter, we'll explore strings, one of the most fundamental data types in Python. Strings represent sequences of characters and are used extensively for text manipulation and processing.\n",
    "\n",
    "## Creating Strings\n",
    "\n",
    "#### Strings can be created using single quotes `'`, double quotes `\"`, or triple quotes `\"\"\"` for multi-line strings.\n",
    "\n",
    "#### Example:"
   ]
  },
  {
   "cell_type": "code",
   "execution_count": 70,
   "id": "48fccf12",
   "metadata": {
    "execution": {
     "iopub.execute_input": "2023-08-13T09:14:51.075964Z",
     "iopub.status.busy": "2023-08-13T09:14:51.075568Z",
     "iopub.status.idle": "2023-08-13T09:14:51.082039Z",
     "shell.execute_reply": "2023-08-13T09:14:51.080654Z"
    },
    "papermill": {
     "duration": 0.076261,
     "end_time": "2023-08-13T09:14:51.085137",
     "exception": false,
     "start_time": "2023-08-13T09:14:51.008876",
     "status": "completed"
    },
    "tags": []
   },
   "outputs": [
    {
     "name": "stdout",
     "output_type": "stream",
     "text": [
      "Hello, world! Python Programming \n",
      "This is a multi-line\n",
      "string example.\n",
      "\n"
     ]
    }
   ],
   "source": [
    "single_quoted = 'Hello, world!'\n",
    "double_quoted = \"Python Programming\"\n",
    "multi_line = \"\"\"\n",
    "This is a multi-line\n",
    "string example.\n",
    "\"\"\"\n",
    "print(single_quoted,double_quoted,multi_line)"
   ]
  },
  {
   "cell_type": "markdown",
   "id": "844e9759",
   "metadata": {
    "papermill": {
     "duration": 0.065806,
     "end_time": "2023-08-13T09:14:51.214907",
     "exception": false,
     "start_time": "2023-08-13T09:14:51.149101",
     "status": "completed"
    },
    "tags": []
   },
   "source": [
    "## String Methods\n",
    "#### Python provides a wide range of string methods for manipulating and working with strings. Some common string methods include:\n",
    "\n",
    "#### `len()`: Returns the length of a string.\n",
    "#### `lower()`: Converts a string to lowercase.\n",
    "#### `upper()`: Converts a string to uppercase.\n",
    "#### `strip()`: Removes leading and trailing whitespace.\n",
    "#### `split()`: Splits a string into a list of substrings.\n",
    "#### `join()`: Joins elements of a sequence (e.g., list) into a string.\n",
    "### Example (Using String Methods):"
   ]
  },
  {
   "cell_type": "code",
   "execution_count": 71,
   "id": "ab5d6dda",
   "metadata": {
    "execution": {
     "iopub.execute_input": "2023-08-13T09:14:51.347242Z",
     "iopub.status.busy": "2023-08-13T09:14:51.346750Z",
     "iopub.status.idle": "2023-08-13T09:14:51.355521Z",
     "shell.execute_reply": "2023-08-13T09:14:51.354376Z"
    },
    "papermill": {
     "duration": 0.077848,
     "end_time": "2023-08-13T09:14:51.358370",
     "exception": false,
     "start_time": "2023-08-13T09:14:51.280522",
     "status": "completed"
    },
    "tags": []
   },
   "outputs": [
    {
     "name": "stdout",
     "output_type": "stream",
     "text": [
      "24\n",
      "   python programming   \n",
      "   PYTHON PROGRAMMING   \n",
      "Python Programming\n",
      "['Python', 'Programming']\n",
      "Python Programming\n"
     ]
    }
   ],
   "source": [
    "text = \"   Python Programming   \"\n",
    "length = len(text)\n",
    "lower_case = text.lower()\n",
    "upper_case = text.upper()\n",
    "stripped = text.strip()\n",
    "words = text.split()\n",
    "joined = \" \".join(words)\n",
    "\n",
    "print(length)       # Output: 23\n",
    "print(lower_case)   # Output: python programming\n",
    "print(upper_case)   # Output: PYTHON PROGRAMMING\n",
    "print(stripped)     # Output: Python Programming\n",
    "print(words)        # Output: ['Python', 'Programming']\n",
    "print(joined)       # Output: Python Programming"
   ]
  },
  {
   "cell_type": "markdown",
   "id": "1802c868",
   "metadata": {
    "papermill": {
     "duration": 0.063583,
     "end_time": "2023-08-13T09:14:51.487904",
     "exception": false,
     "start_time": "2023-08-13T09:14:51.424321",
     "status": "completed"
    },
    "tags": []
   },
   "source": [
    "## String Formatting\n",
    "#### String formatting allows you to embed variables and values within strings using placeholders or f-strings (formatted string literals).\n",
    "\n",
    "### Example (String Formatting with Placeholders):"
   ]
  },
  {
   "cell_type": "code",
   "execution_count": 72,
   "id": "11712a9f",
   "metadata": {
    "execution": {
     "iopub.execute_input": "2023-08-13T09:14:51.616964Z",
     "iopub.status.busy": "2023-08-13T09:14:51.616532Z",
     "iopub.status.idle": "2023-08-13T09:14:51.624099Z",
     "shell.execute_reply": "2023-08-13T09:14:51.622541Z"
    },
    "papermill": {
     "duration": 0.075159,
     "end_time": "2023-08-13T09:14:51.627104",
     "exception": false,
     "start_time": "2023-08-13T09:14:51.551945",
     "status": "completed"
    },
    "tags": []
   },
   "outputs": [
    {
     "name": "stdout",
     "output_type": "stream",
     "text": [
      "Hello, Alice! You are 30 years old.\n"
     ]
    }
   ],
   "source": [
    "name = \"Alice\"\n",
    "age = 30\n",
    "greeting = \"Hello, {}! You are {} years old.\".format(name, age)\n",
    "print(greeting)  # Output: Hello, Alice! You are 30 years old."
   ]
  },
  {
   "cell_type": "markdown",
   "id": "46409c68",
   "metadata": {
    "papermill": {
     "duration": 0.061192,
     "end_time": "2023-08-13T09:14:51.751747",
     "exception": false,
     "start_time": "2023-08-13T09:14:51.690555",
     "status": "completed"
    },
    "tags": []
   },
   "source": [
    "### Example (Using f-strings):"
   ]
  },
  {
   "cell_type": "code",
   "execution_count": 73,
   "id": "7d0e1187",
   "metadata": {
    "execution": {
     "iopub.execute_input": "2023-08-13T09:14:51.886950Z",
     "iopub.status.busy": "2023-08-13T09:14:51.886455Z",
     "iopub.status.idle": "2023-08-13T09:14:51.895263Z",
     "shell.execute_reply": "2023-08-13T09:14:51.893546Z"
    },
    "papermill": {
     "duration": 0.080434,
     "end_time": "2023-08-13T09:14:51.898290",
     "exception": false,
     "start_time": "2023-08-13T09:14:51.817856",
     "status": "completed"
    },
    "tags": []
   },
   "outputs": [
    {
     "name": "stdout",
     "output_type": "stream",
     "text": [
      "Hello, Alice! You are 30 years old.\n"
     ]
    }
   ],
   "source": [
    "name = \"Alice\"\n",
    "age = 30\n",
    "greeting = f\"Hello, {name}! You are {age} years old.\"\n",
    "print(greeting)  # Output: Hello, Alice! You are 30 years old."
   ]
  },
  {
   "cell_type": "markdown",
   "id": "7db0f538",
   "metadata": {
    "papermill": {
     "duration": 0.079598,
     "end_time": "2023-08-13T09:14:52.048431",
     "exception": false,
     "start_time": "2023-08-13T09:14:51.968833",
     "status": "completed"
    },
    "tags": []
   },
   "source": [
    "## Conclusion\n",
    "#### Strings are essential for text processing and manipulation in Python. Understanding string creation, manipulation, and formatting is crucial for a wide range of programming tasks, from data processing to user interfaces."
   ]
  },
  {
   "cell_type": "markdown",
   "id": "e33b0e75",
   "metadata": {
    "papermill": {
     "duration": 0.069388,
     "end_time": "2023-08-13T09:14:52.184574",
     "exception": false,
     "start_time": "2023-08-13T09:14:52.115186",
     "status": "completed"
    },
    "tags": []
   },
   "source": [
    "\n",
    "<h1 align=\"left\"><font color='red'>17</font></h1>"
   ]
  },
  {
   "cell_type": "markdown",
   "id": "1418b195",
   "metadata": {
    "papermill": {
     "duration": 0.065341,
     "end_time": "2023-08-13T09:14:52.318693",
     "exception": false,
     "start_time": "2023-08-13T09:14:52.253352",
     "status": "completed"
    },
    "tags": []
   },
   "source": [
    "# Chapter 17: String Formatting\n",
    "\n",
    "#### In this chapter, we'll dive deeper into string formatting techniques in Python. Properly formatted strings are crucial for displaying dynamic and informative output in your programs.\n",
    "\n",
    "## `Using f-strings`\n",
    "\n",
    "### `f-strings` (formatted string literals) provide a concise and convenient way to embed expressions and variables directly within strings. They are introduced by the `f` or `F` prefix and use curly braces `{}` to enclose expressions.\n",
    "\n",
    "#### Example:\n",
    "\n"
   ]
  },
  {
   "cell_type": "code",
   "execution_count": 74,
   "id": "d092181d",
   "metadata": {
    "execution": {
     "iopub.execute_input": "2023-08-13T09:14:52.464752Z",
     "iopub.status.busy": "2023-08-13T09:14:52.464348Z",
     "iopub.status.idle": "2023-08-13T09:14:52.471545Z",
     "shell.execute_reply": "2023-08-13T09:14:52.470577Z"
    },
    "papermill": {
     "duration": 0.085201,
     "end_time": "2023-08-13T09:14:52.474115",
     "exception": false,
     "start_time": "2023-08-13T09:14:52.388914",
     "status": "completed"
    },
    "tags": []
   },
   "outputs": [
    {
     "name": "stdout",
     "output_type": "stream",
     "text": [
      "Hello, Alice! You are 30 years old.\n"
     ]
    }
   ],
   "source": [
    "name = \"Alice\"\n",
    "age = 30\n",
    "greeting = f\"Hello, {name}! You are {age} years old.\"\n",
    "print(greeting)  # Output: Hello, Alice! You are 30 years old."
   ]
  },
  {
   "cell_type": "markdown",
   "id": "9e96ce63",
   "metadata": {
    "papermill": {
     "duration": 0.060911,
     "end_time": "2023-08-13T09:14:52.597967",
     "exception": false,
     "start_time": "2023-08-13T09:14:52.537056",
     "status": "completed"
    },
    "tags": []
   },
   "source": [
    "## `Using str.format()`\n",
    "#### The str.format() method allows you to insert values into placeholders within a string. Placeholders are defined using curly braces {} and can be indexed or named.\n",
    "\n",
    "### Example:"
   ]
  },
  {
   "cell_type": "code",
   "execution_count": 75,
   "id": "02eeb114",
   "metadata": {
    "execution": {
     "iopub.execute_input": "2023-08-13T09:14:52.733063Z",
     "iopub.status.busy": "2023-08-13T09:14:52.732631Z",
     "iopub.status.idle": "2023-08-13T09:14:52.739169Z",
     "shell.execute_reply": "2023-08-13T09:14:52.737702Z"
    },
    "papermill": {
     "duration": 0.078309,
     "end_time": "2023-08-13T09:14:52.742609",
     "exception": false,
     "start_time": "2023-08-13T09:14:52.664300",
     "status": "completed"
    },
    "tags": []
   },
   "outputs": [
    {
     "name": "stdout",
     "output_type": "stream",
     "text": [
      "Hello, Alice! You are 30 years old.\n"
     ]
    }
   ],
   "source": [
    "name = \"Alice\"\n",
    "age = 30\n",
    "greeting = \"Hello, {}! You are {} years old.\".format(name, age)\n",
    "print(greeting)  # Output: Hello, Alice! You are 30 years old."
   ]
  },
  {
   "cell_type": "markdown",
   "id": "848b5aed",
   "metadata": {
    "papermill": {
     "duration": 0.063286,
     "end_time": "2023-08-13T09:14:52.870407",
     "exception": false,
     "start_time": "2023-08-13T09:14:52.807121",
     "status": "completed"
    },
    "tags": []
   },
   "source": [
    "## `Formatting Options`\n",
    "#### Both f-strings and str.format() provide various formatting options to control the appearance of the inserted values, such as precision for floating-point numbers and alignment.\n",
    "\n",
    "### Example (Formatting Options):"
   ]
  },
  {
   "cell_type": "markdown",
   "id": "6215ebdb",
   "metadata": {
    "papermill": {
     "duration": 0.067727,
     "end_time": "2023-08-13T09:14:53.003533",
     "exception": false,
     "start_time": "2023-08-13T09:14:52.935806",
     "status": "completed"
    },
    "tags": []
   },
   "source": [
    "## `Alignment and Width`\n",
    "#### You can use formatting options to align values within a certain width. This is useful for creating neatly formatted tables or columns.\n",
    "\n",
    "### Example (Alignment and Width):"
   ]
  },
  {
   "cell_type": "code",
   "execution_count": 76,
   "id": "f1dd6228",
   "metadata": {
    "execution": {
     "iopub.execute_input": "2023-08-13T09:14:53.141750Z",
     "iopub.status.busy": "2023-08-13T09:14:53.141337Z",
     "iopub.status.idle": "2023-08-13T09:14:53.148578Z",
     "shell.execute_reply": "2023-08-13T09:14:53.147082Z"
    },
    "papermill": {
     "duration": 0.080001,
     "end_time": "2023-08-13T09:14:53.151886",
     "exception": false,
     "start_time": "2023-08-13T09:14:53.071885",
     "status": "completed"
    },
    "tags": []
   },
   "outputs": [
    {
     "name": "stdout",
     "output_type": "stream",
     "text": [
      "Apple     \n",
      "Banana    \n",
      "Cherry    \n",
      "Orange    \n"
     ]
    }
   ],
   "source": [
    "items = [\"Apple\", \"Banana\", \"Cherry\", \"Orange\"]\n",
    "for item in items:\n",
    "    print(f\"{item:10}\")  # Output: Apple     \n",
    "                         #         Banana    \n",
    "                         #         Cherry    \n",
    "                         #         Orange"
   ]
  },
  {
   "cell_type": "markdown",
   "id": "178e347e",
   "metadata": {
    "papermill": {
     "duration": 0.063794,
     "end_time": "2023-08-13T09:14:53.283435",
     "exception": false,
     "start_time": "2023-08-13T09:14:53.219641",
     "status": "completed"
    },
    "tags": []
   },
   "source": [
    "### `Conclusion`\n",
    "#### Properly formatted strings are essential for presenting data effectively in your Python programs. Whether you choose f-strings or the str.format() method, understanding string formatting options allows you to create well-structured and informative output.\n",
    "\n",
    "#### In the upcoming chapters, we'll continue to explore more advanced string techniques and other programming concepts to further enhance your Python programming skills."
   ]
  },
  {
   "cell_type": "markdown",
   "id": "6bb42e93",
   "metadata": {
    "papermill": {
     "duration": 0.064912,
     "end_time": "2023-08-13T09:14:53.416797",
     "exception": false,
     "start_time": "2023-08-13T09:14:53.351885",
     "status": "completed"
    },
    "tags": []
   },
   "source": [
    "\n",
    "<h1 align=\"left\"><font color='red'>18</font></h1>"
   ]
  },
  {
   "cell_type": "markdown",
   "id": "a9634ca6",
   "metadata": {
    "papermill": {
     "duration": 0.063802,
     "end_time": "2023-08-13T09:14:53.546655",
     "exception": false,
     "start_time": "2023-08-13T09:14:53.482853",
     "status": "completed"
    },
    "tags": []
   },
   "source": [
    "# Chapter 18: Conditional Expressions (Ternary Operators)\n",
    "\n",
    "#### In this chapter, we'll explore conditional expressions, also known as ternary operators, which provide a concise way to write simple conditional statements.\n",
    "\n",
    "## Conditional Expressions\n",
    "\n",
    "#### Conditional expressions, also called ternary operators, allow you to write a conditional statement in a single line. The syntax is: `value_if_true if condition else value_if_false`.\n",
    "\n",
    "#### Example:"
   ]
  },
  {
   "cell_type": "code",
   "execution_count": 77,
   "id": "1e83bd89",
   "metadata": {
    "execution": {
     "iopub.execute_input": "2023-08-13T09:14:53.677072Z",
     "iopub.status.busy": "2023-08-13T09:14:53.676672Z",
     "iopub.status.idle": "2023-08-13T09:14:53.683936Z",
     "shell.execute_reply": "2023-08-13T09:14:53.681922Z"
    },
    "papermill": {
     "duration": 0.081213,
     "end_time": "2023-08-13T09:14:53.690177",
     "exception": false,
     "start_time": "2023-08-13T09:14:53.608964",
     "status": "completed"
    },
    "tags": []
   },
   "outputs": [
    {
     "name": "stdout",
     "output_type": "stream",
     "text": [
      "Adult\n"
     ]
    }
   ],
   "source": [
    "age = 18\n",
    "status = \"Adult\" if age >= 18 else \"Minor\"\n",
    "print(status)  # Output: Adult"
   ]
  },
  {
   "cell_type": "markdown",
   "id": "786202ca",
   "metadata": {
    "papermill": {
     "duration": 0.066003,
     "end_time": "2023-08-13T09:14:53.820347",
     "exception": false,
     "start_time": "2023-08-13T09:14:53.754344",
     "status": "completed"
    },
    "tags": []
   },
   "source": [
    "## Benefits of Ternary Operators\n",
    "#### Ternary operators offer a compact way to express simple conditional logic. They can enhance code readability when used appropriately and avoid the need for longer if statements.\n",
    "\n",
    "### Example (Without Ternary Operator):"
   ]
  },
  {
   "cell_type": "code",
   "execution_count": 78,
   "id": "32714aa2",
   "metadata": {
    "execution": {
     "iopub.execute_input": "2023-08-13T09:14:53.959832Z",
     "iopub.status.busy": "2023-08-13T09:14:53.959398Z",
     "iopub.status.idle": "2023-08-13T09:14:53.966232Z",
     "shell.execute_reply": "2023-08-13T09:14:53.964555Z"
    },
    "papermill": {
     "duration": 0.083782,
     "end_time": "2023-08-13T09:14:53.970266",
     "exception": false,
     "start_time": "2023-08-13T09:14:53.886484",
     "status": "completed"
    },
    "tags": []
   },
   "outputs": [
    {
     "name": "stdout",
     "output_type": "stream",
     "text": [
      "Adult\n"
     ]
    }
   ],
   "source": [
    "age = 18\n",
    "if age >= 18:\n",
    "    status = \"Adult\"\n",
    "else:\n",
    "    status = \"Minor\"\n",
    "print(status)  # Output: Adult\n"
   ]
  },
  {
   "cell_type": "markdown",
   "id": "99b1d91d",
   "metadata": {
    "papermill": {
     "duration": 0.069116,
     "end_time": "2023-08-13T09:14:54.108353",
     "exception": false,
     "start_time": "2023-08-13T09:14:54.039237",
     "status": "completed"
    },
    "tags": []
   },
   "source": [
    "## Using Ternary Operators Effectively\n",
    "#### While ternary operators are useful for simple conditions, be cautious not to overuse them. Complex conditions or multiple statements are better suited for traditional if statements for clarity.\n",
    "\n",
    "### Example (Multiple Ternary Operators):"
   ]
  },
  {
   "cell_type": "code",
   "execution_count": 79,
   "id": "39bfe11a",
   "metadata": {
    "execution": {
     "iopub.execute_input": "2023-08-13T09:14:54.236368Z",
     "iopub.status.busy": "2023-08-13T09:14:54.235943Z",
     "iopub.status.idle": "2023-08-13T09:14:54.243297Z",
     "shell.execute_reply": "2023-08-13T09:14:54.241562Z"
    },
    "papermill": {
     "duration": 0.073948,
     "end_time": "2023-08-13T09:14:54.246037",
     "exception": false,
     "start_time": "2023-08-13T09:14:54.172089",
     "status": "completed"
    },
    "tags": []
   },
   "outputs": [
    {
     "name": "stdout",
     "output_type": "stream",
     "text": [
      "Even\n",
      "Positive\n"
     ]
    }
   ],
   "source": [
    "x = 10\n",
    "result = \"Even\" if x % 2 == 0 else \"Odd\"\n",
    "parity = \"Positive\" if x > 0 else \"Negative\" if x < 0 else \"Zero\"\n",
    "print(result)  # Output: Even\n",
    "print(parity)  # Output: Positive\n"
   ]
  },
  {
   "cell_type": "markdown",
   "id": "596227f6",
   "metadata": {
    "papermill": {
     "duration": 0.067473,
     "end_time": "2023-08-13T09:14:54.377088",
     "exception": false,
     "start_time": "2023-08-13T09:14:54.309615",
     "status": "completed"
    },
    "tags": []
   },
   "source": [
    "## Nested Ternary Operators\n",
    "#### Ternary operators can be nested, but it's important to maintain readability. Excessive nesting can make code difficult to understand.\n",
    "\n",
    "### Example (Nested Ternary Operators):"
   ]
  },
  {
   "cell_type": "code",
   "execution_count": 80,
   "id": "d538383b",
   "metadata": {
    "execution": {
     "iopub.execute_input": "2023-08-13T09:14:54.512030Z",
     "iopub.status.busy": "2023-08-13T09:14:54.511610Z",
     "iopub.status.idle": "2023-08-13T09:14:54.518723Z",
     "shell.execute_reply": "2023-08-13T09:14:54.516824Z"
    },
    "papermill": {
     "duration": 0.079549,
     "end_time": "2023-08-13T09:14:54.522793",
     "exception": false,
     "start_time": "2023-08-13T09:14:54.443244",
     "status": "completed"
    },
    "tags": []
   },
   "outputs": [
    {
     "name": "stdout",
     "output_type": "stream",
     "text": [
      "Even\n"
     ]
    }
   ],
   "source": [
    "x = 10\n",
    "parity = \"Even\" if x % 2 == 0 else (\"Positive\" if x > 0 else \"Negative\")\n",
    "print(parity)  # Output: Even\n"
   ]
  },
  {
   "cell_type": "markdown",
   "id": "a9b1ad46",
   "metadata": {
    "papermill": {
     "duration": 0.065724,
     "end_time": "2023-08-13T09:14:54.655932",
     "exception": false,
     "start_time": "2023-08-13T09:14:54.590208",
     "status": "completed"
    },
    "tags": []
   },
   "source": [
    "## Conclusion\n",
    "#### Conditional expressions, or ternary operators, provide a concise and readable way to handle simple conditional logic in Python. They are particularly useful for assigning values based on conditions in a single line of code."
   ]
  },
  {
   "cell_type": "markdown",
   "id": "a38971de",
   "metadata": {
    "papermill": {
     "duration": 0.062341,
     "end_time": "2023-08-13T09:14:54.782256",
     "exception": false,
     "start_time": "2023-08-13T09:14:54.719915",
     "status": "completed"
    },
    "tags": []
   },
   "source": [
    "\n",
    "<h1 align=\"left\"><font color='red'>19</font></h1>"
   ]
  },
  {
   "cell_type": "markdown",
   "id": "2be0c881",
   "metadata": {
    "papermill": {
     "duration": 0.066313,
     "end_time": "2023-08-13T09:14:54.910719",
     "exception": false,
     "start_time": "2023-08-13T09:14:54.844406",
     "status": "completed"
    },
    "tags": []
   },
   "source": [
    "# Chapter 19: List Comprehensions\n",
    "\n",
    "#### In this chapter, we'll explore list comprehensions, a concise and expressive way to create lists in Python.\n",
    "\n",
    "## Basic List Comprehensions\n",
    "\n",
    "#### List comprehensions allow you to create new lists by specifying the elements you want to include. The basic syntax is: `[expression for item in iterable]`.\n",
    "\n",
    "### Example:\n"
   ]
  },
  {
   "cell_type": "code",
   "execution_count": 81,
   "id": "49475928",
   "metadata": {
    "execution": {
     "iopub.execute_input": "2023-08-13T09:14:55.047029Z",
     "iopub.status.busy": "2023-08-13T09:14:55.046538Z",
     "iopub.status.idle": "2023-08-13T09:14:55.054357Z",
     "shell.execute_reply": "2023-08-13T09:14:55.052694Z"
    },
    "papermill": {
     "duration": 0.077568,
     "end_time": "2023-08-13T09:14:55.057532",
     "exception": false,
     "start_time": "2023-08-13T09:14:54.979964",
     "status": "completed"
    },
    "tags": []
   },
   "outputs": [
    {
     "name": "stdout",
     "output_type": "stream",
     "text": [
      "[1, 4, 9, 16, 25]\n"
     ]
    }
   ],
   "source": [
    "numbers = [1, 2, 3, 4, 5]\n",
    "squared = [x ** 2 for x in numbers]\n",
    "print(squared)  # Output: [1, 4, 9, 16, 25]"
   ]
  },
  {
   "cell_type": "markdown",
   "id": "8d70490b",
   "metadata": {
    "papermill": {
     "duration": 0.068473,
     "end_time": "2023-08-13T09:14:55.190972",
     "exception": false,
     "start_time": "2023-08-13T09:14:55.122499",
     "status": "completed"
    },
    "tags": []
   },
   "source": [
    "## `List Comprehensions with Conditionals`\n",
    "#### List comprehensions can also include conditional statements to filter elements. The syntax is: [expression for item in iterable if condition].\n",
    "\n",
    "### Example:"
   ]
  },
  {
   "cell_type": "code",
   "execution_count": 82,
   "id": "46c6b0b2",
   "metadata": {
    "execution": {
     "iopub.execute_input": "2023-08-13T09:14:55.324439Z",
     "iopub.status.busy": "2023-08-13T09:14:55.323899Z",
     "iopub.status.idle": "2023-08-13T09:14:55.330705Z",
     "shell.execute_reply": "2023-08-13T09:14:55.329375Z"
    },
    "papermill": {
     "duration": 0.075882,
     "end_time": "2023-08-13T09:14:55.333357",
     "exception": false,
     "start_time": "2023-08-13T09:14:55.257475",
     "status": "completed"
    },
    "tags": []
   },
   "outputs": [
    {
     "name": "stdout",
     "output_type": "stream",
     "text": [
      "[4, 16]\n"
     ]
    }
   ],
   "source": [
    "numbers = [1, 2, 3, 4, 5]\n",
    "even_squared = [x ** 2 for x in numbers if x % 2 == 0]\n",
    "print(even_squared)  # Output: [4, 16]\n"
   ]
  },
  {
   "cell_type": "markdown",
   "id": "4a772161",
   "metadata": {
    "papermill": {
     "duration": 0.063693,
     "end_time": "2023-08-13T09:14:55.467550",
     "exception": false,
     "start_time": "2023-08-13T09:14:55.403857",
     "status": "completed"
    },
    "tags": []
   },
   "source": [
    "## `Multiple Conditionals`\n",
    "#### You can use multiple conditionals to create more complex list comprehensions. The order of conditionals matters, and you can use logical operators (and, or) to combine conditions.\n",
    "\n",
    "### Example (Multiple Conditionals):"
   ]
  },
  {
   "cell_type": "code",
   "execution_count": 83,
   "id": "b76df554",
   "metadata": {
    "execution": {
     "iopub.execute_input": "2023-08-13T09:14:55.598425Z",
     "iopub.status.busy": "2023-08-13T09:14:55.597908Z",
     "iopub.status.idle": "2023-08-13T09:14:55.605316Z",
     "shell.execute_reply": "2023-08-13T09:14:55.603930Z"
    },
    "papermill": {
     "duration": 0.076074,
     "end_time": "2023-08-13T09:14:55.608482",
     "exception": false,
     "start_time": "2023-08-13T09:14:55.532408",
     "status": "completed"
    },
    "tags": []
   },
   "outputs": [
    {
     "name": "stdout",
     "output_type": "stream",
     "text": [
      "[6, 8, 10]\n"
     ]
    }
   ],
   "source": [
    "numbers = [1, 2, 3, 4, 5, 6, 7, 8, 9, 10]\n",
    "filtered = [x for x in numbers if x % 2 == 0 and x > 5]\n",
    "print(filtered)  # Output: [6, 8, 10]\n"
   ]
  },
  {
   "cell_type": "markdown",
   "id": "6f7b05a4",
   "metadata": {
    "papermill": {
     "duration": 0.065384,
     "end_time": "2023-08-13T09:14:55.741356",
     "exception": false,
     "start_time": "2023-08-13T09:14:55.675972",
     "status": "completed"
    },
    "tags": []
   },
   "source": [
    "## `Nested List Comprehensions`\n",
    "#### List comprehensions can also be nested for more advanced operations. However, be cautious not to sacrifice readability for complexity.\n",
    "\n",
    "### Example (Nested List Comprehensions):"
   ]
  },
  {
   "cell_type": "code",
   "execution_count": 84,
   "id": "3d81461f",
   "metadata": {
    "execution": {
     "iopub.execute_input": "2023-08-13T09:14:55.875899Z",
     "iopub.status.busy": "2023-08-13T09:14:55.875516Z",
     "iopub.status.idle": "2023-08-13T09:14:55.882167Z",
     "shell.execute_reply": "2023-08-13T09:14:55.880832Z"
    },
    "papermill": {
     "duration": 0.075371,
     "end_time": "2023-08-13T09:14:55.884794",
     "exception": false,
     "start_time": "2023-08-13T09:14:55.809423",
     "status": "completed"
    },
    "tags": []
   },
   "outputs": [
    {
     "name": "stdout",
     "output_type": "stream",
     "text": [
      "[1, 2, 3, 4, 5, 6, 7, 8, 9]\n"
     ]
    }
   ],
   "source": [
    "matrix = [[1, 2, 3], [4, 5, 6], [7, 8, 9]]\n",
    "flattened = [x for row in matrix for x in row]\n",
    "print(flattened)  # Output: [1, 2, 3, 4, 5, 6, 7, 8, 9]\n"
   ]
  },
  {
   "cell_type": "markdown",
   "id": "2c40b45c",
   "metadata": {
    "papermill": {
     "duration": 0.063891,
     "end_time": "2023-08-13T09:14:56.012301",
     "exception": false,
     "start_time": "2023-08-13T09:14:55.948410",
     "status": "completed"
    },
    "tags": []
   },
   "source": [
    "## Conclusion\n",
    "#### List comprehensions provide a concise and elegant way to create lists and perform transformations on existing lists. They can significantly simplify your code and make it more readable, especially for cases involving iteration and filtering."
   ]
  },
  {
   "cell_type": "markdown",
   "id": "de850549",
   "metadata": {
    "papermill": {
     "duration": 0.067357,
     "end_time": "2023-08-13T09:14:56.147947",
     "exception": false,
     "start_time": "2023-08-13T09:14:56.080590",
     "status": "completed"
    },
    "tags": []
   },
   "source": [
    "\n",
    "<h1 align=\"left\"><font color='red'>20</font></h1>"
   ]
  },
  {
   "cell_type": "markdown",
   "id": "fde403d8",
   "metadata": {
    "papermill": {
     "duration": 0.066283,
     "end_time": "2023-08-13T09:14:56.281789",
     "exception": false,
     "start_time": "2023-08-13T09:14:56.215506",
     "status": "completed"
    },
    "tags": []
   },
   "source": [
    "# Chapter 20: Generators and Iterators\n",
    "\n",
    "#### In this chapter, we'll explore generators and iterators, which provide memory-efficient ways to create and iterate over sequences of values in Python.\n",
    "\n",
    "## Creating Generators\n",
    "\n",
    "#### Generators are a type of iterable in Python that allow you to lazily produce values on-the-fly, without storing them in memory. They are created using functions with the `yield` keyword.\n",
    "\n",
    "#### Example (Creating a Generator):\n"
   ]
  },
  {
   "cell_type": "code",
   "execution_count": 85,
   "id": "84d8e26f",
   "metadata": {
    "execution": {
     "iopub.execute_input": "2023-08-13T09:14:56.411813Z",
     "iopub.status.busy": "2023-08-13T09:14:56.411417Z",
     "iopub.status.idle": "2023-08-13T09:14:56.419497Z",
     "shell.execute_reply": "2023-08-13T09:14:56.418241Z"
    },
    "papermill": {
     "duration": 0.076054,
     "end_time": "2023-08-13T09:14:56.422080",
     "exception": false,
     "start_time": "2023-08-13T09:14:56.346026",
     "status": "completed"
    },
    "tags": []
   },
   "outputs": [
    {
     "name": "stdout",
     "output_type": "stream",
     "text": [
      "1\n",
      "2\n",
      "3\n",
      "4\n",
      "5\n"
     ]
    }
   ],
   "source": [
    "def count_up_to(limit):\n",
    "    num = 1\n",
    "    while num <= limit:\n",
    "        yield num\n",
    "        num += 1\n",
    "\n",
    "numbers = count_up_to(5)\n",
    "for num in numbers:\n",
    "    print(num)  # Output: 1, 2, 3, 4, 5"
   ]
  },
  {
   "cell_type": "markdown",
   "id": "edae7e3a",
   "metadata": {
    "papermill": {
     "duration": 0.061293,
     "end_time": "2023-08-13T09:14:56.550349",
     "exception": false,
     "start_time": "2023-08-13T09:14:56.489056",
     "status": "completed"
    },
    "tags": []
   },
   "source": [
    "## Using the yield Keyword\n",
    "#### The yield keyword is used within a generator function to yield values one at a time. When a generator function is called, it returns a generator object that can be iterated over using a loop or other iterable methods.\n",
    "\n",
    "### Example (Using yield):"
   ]
  },
  {
   "cell_type": "code",
   "execution_count": 86,
   "id": "f8ef3b08",
   "metadata": {
    "execution": {
     "iopub.execute_input": "2023-08-13T09:14:56.678689Z",
     "iopub.status.busy": "2023-08-13T09:14:56.678288Z",
     "iopub.status.idle": "2023-08-13T09:14:56.685132Z",
     "shell.execute_reply": "2023-08-13T09:14:56.683884Z"
    },
    "papermill": {
     "duration": 0.074427,
     "end_time": "2023-08-13T09:14:56.688277",
     "exception": false,
     "start_time": "2023-08-13T09:14:56.613850",
     "status": "completed"
    },
    "tags": []
   },
   "outputs": [
    {
     "name": "stdout",
     "output_type": "stream",
     "text": [
      "3\n",
      "2\n",
      "1\n"
     ]
    }
   ],
   "source": [
    "def countdown(start):\n",
    "    while start > 0:\n",
    "        yield start\n",
    "        start -= 1\n",
    "\n",
    "count = countdown(3)\n",
    "for num in count:\n",
    "    print(num)  # Output: 3, 2, 1"
   ]
  },
  {
   "cell_type": "markdown",
   "id": "5798ea17",
   "metadata": {
    "papermill": {
     "duration": 0.065972,
     "end_time": "2023-08-13T09:14:56.818068",
     "exception": false,
     "start_time": "2023-08-13T09:14:56.752096",
     "status": "completed"
    },
    "tags": []
   },
   "source": [
    "## Memory Efficiency\n",
    "#### Generators are memory-efficient because they produce values on-the-fly and do not store the entire sequence in memory. This makes them suitable for working with large datasets or infinite sequences.\n",
    "\n",
    "## Generator Expressions\n",
    "#### Generator expressions are similar to list comprehensions but create generators instead of lists. They are created using parentheses () instead of brackets [].\n",
    "\n",
    "## Example (Generator Expression):"
   ]
  },
  {
   "cell_type": "code",
   "execution_count": 87,
   "id": "c3f9c3e6",
   "metadata": {
    "execution": {
     "iopub.execute_input": "2023-08-13T09:14:56.947880Z",
     "iopub.status.busy": "2023-08-13T09:14:56.947459Z",
     "iopub.status.idle": "2023-08-13T09:14:56.954695Z",
     "shell.execute_reply": "2023-08-13T09:14:56.953011Z"
    },
    "papermill": {
     "duration": 0.074086,
     "end_time": "2023-08-13T09:14:56.957324",
     "exception": false,
     "start_time": "2023-08-13T09:14:56.883238",
     "status": "completed"
    },
    "tags": []
   },
   "outputs": [
    {
     "name": "stdout",
     "output_type": "stream",
     "text": [
      "1\n",
      "4\n",
      "9\n",
      "16\n",
      "25\n"
     ]
    }
   ],
   "source": [
    "squares = (x ** 2 for x in range(1, 6))\n",
    "for square in squares:\n",
    "    print(square)  # Output: 1, 4, 9, 16, 25"
   ]
  },
  {
   "cell_type": "markdown",
   "id": "8f056be1",
   "metadata": {
    "papermill": {
     "duration": 0.07,
     "end_time": "2023-08-13T09:14:57.098811",
     "exception": false,
     "start_time": "2023-08-13T09:14:57.028811",
     "status": "completed"
    },
    "tags": []
   },
   "source": [
    "## Conclusion\n",
    "#### Generators and iterators provide a powerful mechanism for working with sequences of values, especially when memory efficiency is a concern. They allow you to generate and process values on-the-fly without loading the entire sequence into memory."
   ]
  },
  {
   "cell_type": "markdown",
   "id": "3c030c14",
   "metadata": {
    "papermill": {
     "duration": 0.064971,
     "end_time": "2023-08-13T09:14:57.228400",
     "exception": false,
     "start_time": "2023-08-13T09:14:57.163429",
     "status": "completed"
    },
    "tags": []
   },
   "source": [
    "\n",
    "![mlv prasad](https://github.com/MlvPrasadOfficial/kaggle_notebooks/raw/main/CANVAPYTHON/P1.png)"
   ]
  }
 ],
 "metadata": {
  "kernelspec": {
   "display_name": "Python 3",
   "language": "python",
   "name": "python3"
  },
  "language_info": {
   "codemirror_mode": {
    "name": "ipython",
    "version": 3
   },
   "file_extension": ".py",
   "mimetype": "text/x-python",
   "name": "python",
   "nbconvert_exporter": "python",
   "pygments_lexer": "ipython3",
   "version": "3.10.12"
  },
  "papermill": {
   "default_parameters": {},
   "duration": 45.510676,
   "end_time": "2023-08-13T09:14:58.420359",
   "environment_variables": {},
   "exception": null,
   "input_path": "__notebook__.ipynb",
   "output_path": "__notebook__.ipynb",
   "parameters": {},
   "start_time": "2023-08-13T09:14:12.909683",
   "version": "2.4.0"
  }
 },
 "nbformat": 4,
 "nbformat_minor": 5
}
