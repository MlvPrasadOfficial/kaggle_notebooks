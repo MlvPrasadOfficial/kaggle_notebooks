{
 "cells": [
  {
   "cell_type": "code",
   "execution_count": null,
   "id": "45cd24d5",
   "metadata": {
    "_cell_guid": "b1076dfc-b9ad-4769-8c92-a6c4dae69d19",
    "_uuid": "8f2839f25d086af736a60e9eeb907d3b93b6e0e5",
    "papermill": {
     "duration": 0.038984,
     "end_time": "2023-08-13T08:35:52.113425",
     "exception": false,
     "start_time": "2023-08-13T08:35:52.074441",
     "status": "completed"
    },
    "tags": []
   },
   "outputs": [],
   "source": []
  },
  {
   "cell_type": "markdown",
   "id": "6e3952ed",
   "metadata": {
    "papermill": {
     "duration": 0.035427,
     "end_time": "2023-08-13T08:35:52.184800",
     "exception": false,
     "start_time": "2023-08-13T08:35:52.149373",
     "status": "completed"
    },
    "tags": []
   },
   "source": [
    "# Python Programming Notebook\n",
    "\n",
    "## Python Fundamentals\n",
    "1. Introduction to Python\n",
    "2. Variables and Data Types\n",
    "3. Basic Input and Output\n",
    "4. Operators and Expressions\n",
    "5. Control Structures\n",
    "   - if Statement\n",
    "   - elif Statement\n",
    "   - else Statement\n",
    "6. Loops\n",
    "   - while Loop\n",
    "   - for Loop\n",
    "7. Functions and Scope\n",
    "   - Defining Functions\n",
    "   - Function Arguments\n",
    "   - Return Values\n",
    "8. Function Parameters and Return Values\n",
    "   - Default Values\n",
    "   - Keyword Arguments\n",
    "   - Returning Multiple Values\n",
    "9. Global and Local Variables\n",
    "10. Modules and Importing\n",
    "    - Importing Modules\n",
    "    - Aliasing Modules\n",
    "11. Built-in Functions\n",
    "    - Common Built-in Functions\n",
    "    - Examples of Built-in Functions\n",
    "12. List Data Type\n",
    "    - Creating Lists\n",
    "    - Indexing and Slicing Lists\n",
    "    - List Methods\n",
    "13. Tuple Data Type\n",
    "    - Creating Tuples\n",
    "    - Unpacking Tuples\n",
    "14. Dictionaries\n",
    "    - Creating Dictionaries\n",
    "    - Accessing and Modifying Values\n",
    "15. Sets\n",
    "    - Creating Sets\n",
    "    - Set Operations\n",
    "16. Strings and String Methods\n",
    "    - Creating Strings\n",
    "    - String Methods\n",
    "17. String Formatting\n",
    "    - Using f-strings\n",
    "    - Using str.format()\n",
    "18. Conditional Expressions (Ternary Operators)\n",
    "19. List Comprehensions\n",
    "    - Basic List Comprehensions\n",
    "    - List Comprehensions with Conditionals\n",
    "20. Generators and Iterators\n",
    "    - Creating Generators\n",
    "    - Using the yield Keyword\n",
    "21. Exception Handling\n",
    "    - try and except Blocks\n",
    "    - Handling Multiple Exceptions\n",
    "22. User-Defined Exceptions\n",
    "    - Creating Custom Exceptions\n",
    "    - Handling Custom Exceptions\n",
    "23. File Handling: Reading and Writing\n",
    "    - Opening and Closing Files\n",
    "    - Reading Text Files\n",
    "    - Writing Text Files\n",
    "24. Context Managers (with statements)\n",
    "    - Using the with Statement\n",
    "    - Creating Custom Context Managers\n",
    "\n",
    "## Object-Oriented Programming (OOP)\n",
    "25. Object-Oriented Programming Basics\n",
    "26. Classes and Objects\n",
    "    - Attributes and Methods\n",
    "    - Instance Attributes\n",
    "    - Class Attributes\n",
    "    - Methods\n",
    "27. Constructors and Destructors\n",
    "    - The __init__ Constructor\n",
    "    - The __del__ Destructor\n",
    "28. Inheritance and Subclasses\n",
    "    - Creating Subclasses\n",
    "    - Overriding Methods\n",
    "29. Method Overriding\n",
    "30. Multiple Inheritance\n",
    "31. Encapsulation and Access Modifiers\n",
    "    - Access Modifiers\n",
    "    - Properties and Getters/Setters\n",
    "32. Abstract Classes and Interfaces\n",
    "33. Polymorphism and Duck Typing\n",
    "34. Magic Methods and Operator Overloading\n",
    "35. Lambda Functions\n",
    "36. Map, Filter, and Reduce\n",
    "37. Decorators\n",
    "38. Iterables and Iterators\n",
    "39. Generators and the yield Keyword\n",
    "40. List Comprehensions vs. Generators\n",
    "41. Working with Files and Directories\n",
    "42. Regular Expressions (re module)\n",
    "43. Working with Dates and Times (datetime module)\n",
    "44. JSON Serialization and Deserialization\n",
    "45. Recursion and Recursive Functions\n",
    "46. Global Interpreter Lock (GIL)\n",
    "47. Context Managers and the with Statement\n",
    "48. Virtual Environments and pip\n",
    "49. Command Line Arguments (sys.argv)\n",
    "50. Command Line Argument Parsing (argparse)\n",
    "\n",
    "## Testing, Debugging, and Optimization\n",
    "51. Unit Testing with unittest\n",
    "52. Debugging Techniques and pdb\n",
    "53. Profiling and Optimization\n",
    "\n",
    "## Advanced Python Concepts\n",
    "54. Python's Global Scope and Namespaces\n",
    "55. Function Closures\n",
    "56. Introduction to Decorators\n",
    "57. Implementing Decorators\n",
    "58. Using Decorators for Logging and Timing\n",
    "59. Python's Built-in Decorators\n",
    "60. Introduction to Context Managers\n",
    "61. Writing Context Managers\n",
    "62. Contextlib and @contextmanager\n",
    "63. Threading and Multithreading\n",
    "64. The Global Interpreter Lock (GIL)\n",
    "65. Thread Synchronization and Locks\n",
    "66. Thread Safety and Thread-local Data\n",
    "67. Multiprocessing\n",
    "68. Parallel Execution with Pool\n",
    "69. Inter-process Communication (IPC)\n",
    "70. Introduction to Regular Expressions\n",
    "71. Basic Regular Expression Patterns\n",
    "72. Character Classes and Quantifiers\n",
    "73. Capturing and Grouping\n",
    "74. Look-ahead and Look-behind Assertions\n",
    "75. Introduction to String Formatting\n",
    "76. Old-style String Formatting (% operator)\n",
    "77. New-style String Formatting (str.format())\n",
    "78. f-strings (Formatted String Literals)\n",
    "79. Introduction to File Handling\n",
    "80. Reading Text Files\n",
    "81. Writing Text Files\n",
    "82. Working with Binary Files\n",
    "83. Introduction to Error Handling\n",
    "84. Handling Exceptions with try and except\n",
    "85. Multiple except Clauses\n",
    "86. Handling Multiple Exception Types\n",
    "87. The else and finally Clauses\n",
    "88. Creating Custom Exceptions\n",
    "\n",
    "## Object-Oriented Programming (OOP) Continued\n",
    "89. Introduction to Classes and Objects\n",
    "90. Class Attributes and Methods\n",
    "91. The __init__ Constructor\n",
    "92. Inheritance and Subclasses\n",
    "93. Method Overriding\n",
    "94. Instance vs. Class Attributes\n",
    "95. Introduction to Object-Oriented Programming\n",
    "96. Inheritance and Polymorphism\n",
    "97. Encapsulation and Access Modifiers\n",
    "98. Operator Overloading and Magic Methods\n",
    "99. Design Patterns in Python\n",
    "\n",
    "## Conclusion\n",
    "100. Conclusion\n",
    "\n",
    "\n"
   ]
  },
  {
   "cell_type": "markdown",
   "id": "9f6f7d2c",
   "metadata": {
    "papermill": {
     "duration": 0.035031,
     "end_time": "2023-08-13T08:35:52.255277",
     "exception": false,
     "start_time": "2023-08-13T08:35:52.220246",
     "status": "completed"
    },
    "tags": []
   },
   "source": [
    "\n",
    "<h1 align=\"left\"><font color='red'>1</font></h1>"
   ]
  },
  {
   "cell_type": "markdown",
   "id": "271019e5",
   "metadata": {
    "papermill": {
     "duration": 0.035201,
     "end_time": "2023-08-13T08:35:52.325858",
     "exception": false,
     "start_time": "2023-08-13T08:35:52.290657",
     "status": "completed"
    },
    "tags": []
   },
   "source": [
    "# Python Programming Notebook\n",
    "\n",
    "\n",
    "\n",
    "# Chapter 1: Introduction to Python\n",
    "\n",
    "#### Python is a powerful and versatile programming language that is widely used in various domains. It is known for its simplicity and readability, making it an excellent choice for beginners and experienced developers alike.\n",
    "\n",
    "####  Python is an interpreted language, which means you don't need to compile your code before running it. This makes development and debugging faster.\n",
    "\n",
    "### Key Features of Python:\n",
    "\n",
    "####  - **Readable Syntax:** Python uses indentation to define code blocks, making the code more readable.\n",
    "####  - **Rich Standard Library:** Python comes with a wide range of built-in modules and functions.\n",
    "####  - **Dynamic Typing:** You don't need to declare the data type of a variable explicitly.\n",
    "####  - **Object-Oriented:** Everything in Python is an object, allowing you to use object-oriented programming (OOP) concepts.\n",
    "####  - **Extensive Documentation:** Python has extensive documentation and a large, active community.\n",
    "\n",
    "### Python Installation\n",
    "\n",
    "####  To get started, you need to install Python on your machine. Visit the official Python website (https://www.python.org) to download the latest version.\n",
    "\n",
    "## Your First Python Program\n",
    "\n",
    "#### Let's start with a simple \"Hello, World!\" program:\n",
    "\n",
    "\n",
    "\n"
   ]
  },
  {
   "cell_type": "code",
   "execution_count": 1,
   "id": "99a7f246",
   "metadata": {
    "execution": {
     "iopub.execute_input": "2023-08-13T08:35:52.399331Z",
     "iopub.status.busy": "2023-08-13T08:35:52.398668Z",
     "iopub.status.idle": "2023-08-13T08:35:52.409700Z",
     "shell.execute_reply": "2023-08-13T08:35:52.408493Z"
    },
    "papermill": {
     "duration": 0.050408,
     "end_time": "2023-08-13T08:35:52.411885",
     "exception": false,
     "start_time": "2023-08-13T08:35:52.361477",
     "status": "completed"
    },
    "tags": []
   },
   "outputs": [
    {
     "name": "stdout",
     "output_type": "stream",
     "text": [
      "Hello, World!\n"
     ]
    }
   ],
   "source": [
    "print(\"Hello, World!\")"
   ]
  },
  {
   "cell_type": "markdown",
   "id": "be082393",
   "metadata": {
    "papermill": {
     "duration": 0.035737,
     "end_time": "2023-08-13T08:35:52.484160",
     "exception": false,
     "start_time": "2023-08-13T08:35:52.448423",
     "status": "completed"
    },
    "tags": []
   },
   "source": [
    "#### This single line of code demonstrates the power of Python's simplicity.\n",
    "\n",
    "## Running Python Code\n",
    "### You can run Python code in several ways:\n",
    "\n",
    "#### `Interactive Interprete`: You can open a terminal and enter the Python interpreter by typing python. This allows you to write and run code interactively.\n",
    "\n",
    "#### `Script Execution`: Save your Python code in a .py file and run it using the command python filename.py.\n",
    "\n",
    "## Python IDEs\n",
    "#### While you can write Python code in a plain text editor, using an integrated development environment (IDE) can enhance your productivity. Some popular Python IDEs include:\n",
    "\n",
    "#### `PyCharm`: A powerful IDE with great features for Python development.\n",
    "#### `Visual Studio Code`: A lightweight IDE with Python support through extensions.\n",
    "#### `Jupyter Notebook`: A web-based interactive environment for data science and analysis.\n",
    "### Conclusion\n",
    "#### This introduction has provided a glimpse into the world of Python programming. In the upcoming chapters, we'll dive deeper into various Python concepts, including variables, data types, control structures, and more."
   ]
  },
  {
   "cell_type": "markdown",
   "id": "357ddfdd",
   "metadata": {
    "papermill": {
     "duration": 0.035484,
     "end_time": "2023-08-13T08:35:52.555587",
     "exception": false,
     "start_time": "2023-08-13T08:35:52.520103",
     "status": "completed"
    },
    "tags": []
   },
   "source": [
    "\n",
    "<h1 align=\"left\"><font color='red'>2</font></h1>"
   ]
  },
  {
   "cell_type": "markdown",
   "id": "d845e343",
   "metadata": {
    "papermill": {
     "duration": 0.035672,
     "end_time": "2023-08-13T08:35:52.627085",
     "exception": false,
     "start_time": "2023-08-13T08:35:52.591413",
     "status": "completed"
    },
    "tags": []
   },
   "source": [
    "\n",
    "# Chapter 2: Variables and Data Types\n",
    "\n",
    "#### In Python, variables are used to store and manage data. Each variable has a name and a value associated with it. Python supports various data types that determine the kind of data a variable can hold.\n",
    "\n",
    "## Variables\n",
    "\n",
    "#### A variable is created by assigning a value to a name. Variable names must start with a letter or underscore, followed by letters, digits, or underscores. Python is case-sensitive, so `myVariable`, `MyVariable`, and `MYVARIABLE` are treated as different variables.\n",
    "\n",
    "### Example:\n",
    "\n"
   ]
  },
  {
   "cell_type": "code",
   "execution_count": 2,
   "id": "fc463f03",
   "metadata": {
    "execution": {
     "iopub.execute_input": "2023-08-13T08:35:52.702537Z",
     "iopub.status.busy": "2023-08-13T08:35:52.701887Z",
     "iopub.status.idle": "2023-08-13T08:35:52.705687Z",
     "shell.execute_reply": "2023-08-13T08:35:52.704921Z"
    },
    "papermill": {
     "duration": 0.043694,
     "end_time": "2023-08-13T08:35:52.707661",
     "exception": false,
     "start_time": "2023-08-13T08:35:52.663967",
     "status": "completed"
    },
    "tags": []
   },
   "outputs": [],
   "source": [
    "\n",
    "age = 25\n",
    "name = \"John\""
   ]
  },
  {
   "cell_type": "markdown",
   "id": "8f6b8387",
   "metadata": {
    "papermill": {
     "duration": 0.035892,
     "end_time": "2023-08-13T08:35:52.780191",
     "exception": false,
     "start_time": "2023-08-13T08:35:52.744299",
     "status": "completed"
    },
    "tags": []
   },
   "source": [
    "## Data Types\n",
    "#### Python has several built-in data types that define the type of data a variable can hold.\n",
    "\n",
    "## Numeric Types\n",
    "#### `int`: Represents integers (whole numbers).\n",
    "#### `float`: Represents floating-point numbers (numbers with decimal points).\n",
    "#### `complex`: Represents complex numbers in the form a + bj."
   ]
  },
  {
   "cell_type": "code",
   "execution_count": 3,
   "id": "65be9765",
   "metadata": {
    "execution": {
     "iopub.execute_input": "2023-08-13T08:35:52.854483Z",
     "iopub.status.busy": "2023-08-13T08:35:52.853849Z",
     "iopub.status.idle": "2023-08-13T08:35:52.858075Z",
     "shell.execute_reply": "2023-08-13T08:35:52.857003Z"
    },
    "papermill": {
     "duration": 0.043831,
     "end_time": "2023-08-13T08:35:52.860145",
     "exception": false,
     "start_time": "2023-08-13T08:35:52.816314",
     "status": "completed"
    },
    "tags": []
   },
   "outputs": [],
   "source": [
    "integer_var = 42\n",
    "float_var = 3.14\n",
    "complex_var = 2 + 3j\n"
   ]
  },
  {
   "cell_type": "markdown",
   "id": "b8be09ce",
   "metadata": {
    "papermill": {
     "duration": 0.035274,
     "end_time": "2023-08-13T08:35:52.930887",
     "exception": false,
     "start_time": "2023-08-13T08:35:52.895613",
     "status": "completed"
    },
    "tags": []
   },
   "source": [
    "## Text Type\n",
    "#### `str`: Represents strings, which are sequences of characters enclosed in single or double quotes."
   ]
  },
  {
   "cell_type": "code",
   "execution_count": 4,
   "id": "efcb3b71",
   "metadata": {
    "execution": {
     "iopub.execute_input": "2023-08-13T08:35:53.004434Z",
     "iopub.status.busy": "2023-08-13T08:35:53.004027Z",
     "iopub.status.idle": "2023-08-13T08:35:53.008781Z",
     "shell.execute_reply": "2023-08-13T08:35:53.007542Z"
    },
    "papermill": {
     "duration": 0.044592,
     "end_time": "2023-08-13T08:35:53.011131",
     "exception": false,
     "start_time": "2023-08-13T08:35:52.966539",
     "status": "completed"
    },
    "tags": []
   },
   "outputs": [],
   "source": [
    "name = \"Alice\"\n",
    "message = 'Hello, World!'\n"
   ]
  },
  {
   "cell_type": "markdown",
   "id": "00395d62",
   "metadata": {
    "papermill": {
     "duration": 0.035805,
     "end_time": "2023-08-13T08:35:53.085955",
     "exception": false,
     "start_time": "2023-08-13T08:35:53.050150",
     "status": "completed"
    },
    "tags": []
   },
   "source": [
    "## Sequence Types\n",
    "#### `list`: Represents ordered collections of items.\n",
    "#### `tuple`: Represents ordered, immutable collections.\n",
    "#### `range`: Represents a sequence of numbers."
   ]
  },
  {
   "cell_type": "code",
   "execution_count": 5,
   "id": "dbee9196",
   "metadata": {
    "execution": {
     "iopub.execute_input": "2023-08-13T08:35:53.159419Z",
     "iopub.status.busy": "2023-08-13T08:35:53.159005Z",
     "iopub.status.idle": "2023-08-13T08:35:53.163914Z",
     "shell.execute_reply": "2023-08-13T08:35:53.162840Z"
    },
    "papermill": {
     "duration": 0.044253,
     "end_time": "2023-08-13T08:35:53.165908",
     "exception": false,
     "start_time": "2023-08-13T08:35:53.121655",
     "status": "completed"
    },
    "tags": []
   },
   "outputs": [],
   "source": [
    "fruits = [\"apple\", \"banana\", \"cherry\"]\n",
    "coordinates = (3, 5)\n",
    "numbers = range(1, 6)  # Represents [1, 2, 3, 4, 5]\n"
   ]
  },
  {
   "cell_type": "markdown",
   "id": "d8d1a8d2",
   "metadata": {
    "papermill": {
     "duration": 0.035611,
     "end_time": "2023-08-13T08:35:53.238288",
     "exception": false,
     "start_time": "2023-08-13T08:35:53.202677",
     "status": "completed"
    },
    "tags": []
   },
   "source": [
    "## Mapping Type\n",
    "#### `dict`: Represents key-value pairs where each key is associated with a value."
   ]
  },
  {
   "cell_type": "markdown",
   "id": "78b1d73a",
   "metadata": {
    "papermill": {
     "duration": 0.035759,
     "end_time": "2023-08-13T08:35:53.309934",
     "exception": false,
     "start_time": "2023-08-13T08:35:53.274175",
     "status": "completed"
    },
    "tags": []
   },
   "source": [
    "## Set Types\n",
    "#### `set`: Represents an unordered collection of unique items.\n",
    "#### `frozenset`: Represents an immutable set."
   ]
  },
  {
   "cell_type": "code",
   "execution_count": 6,
   "id": "6cfbd926",
   "metadata": {
    "execution": {
     "iopub.execute_input": "2023-08-13T08:35:53.383170Z",
     "iopub.status.busy": "2023-08-13T08:35:53.382796Z",
     "iopub.status.idle": "2023-08-13T08:35:53.387530Z",
     "shell.execute_reply": "2023-08-13T08:35:53.386389Z"
    },
    "papermill": {
     "duration": 0.044127,
     "end_time": "2023-08-13T08:35:53.389600",
     "exception": false,
     "start_time": "2023-08-13T08:35:53.345473",
     "status": "completed"
    },
    "tags": []
   },
   "outputs": [],
   "source": [
    "fruits_set = {\"apple\", \"banana\", \"cherry\"}\n",
    "fruits_frozen = frozenset({\"apple\", \"banana\", \"cherry\"})\n"
   ]
  },
  {
   "cell_type": "markdown",
   "id": "3e705e51",
   "metadata": {
    "papermill": {
     "duration": 0.036428,
     "end_time": "2023-08-13T08:35:53.463058",
     "exception": false,
     "start_time": "2023-08-13T08:35:53.426630",
     "status": "completed"
    },
    "tags": []
   },
   "source": [
    "## Boolean Type\n",
    "#### `bool`: Represents a boolean value (True or False)."
   ]
  },
  {
   "cell_type": "code",
   "execution_count": 7,
   "id": "6a558fea",
   "metadata": {
    "execution": {
     "iopub.execute_input": "2023-08-13T08:35:53.537117Z",
     "iopub.status.busy": "2023-08-13T08:35:53.536750Z",
     "iopub.status.idle": "2023-08-13T08:35:53.541063Z",
     "shell.execute_reply": "2023-08-13T08:35:53.540000Z"
    },
    "papermill": {
     "duration": 0.044457,
     "end_time": "2023-08-13T08:35:53.543412",
     "exception": false,
     "start_time": "2023-08-13T08:35:53.498955",
     "status": "completed"
    },
    "tags": []
   },
   "outputs": [],
   "source": [
    "is_student = True\n",
    "is_adult = False\n"
   ]
  },
  {
   "cell_type": "markdown",
   "id": "533a4b98",
   "metadata": {
    "papermill": {
     "duration": 0.035546,
     "end_time": "2023-08-13T08:35:53.614937",
     "exception": false,
     "start_time": "2023-08-13T08:35:53.579391",
     "status": "completed"
    },
    "tags": []
   },
   "source": [
    "## None Type\n",
    "#### `None`: Represents the absence of a value or a null value."
   ]
  },
  {
   "cell_type": "code",
   "execution_count": 8,
   "id": "be207bd4",
   "metadata": {
    "execution": {
     "iopub.execute_input": "2023-08-13T08:35:53.690431Z",
     "iopub.status.busy": "2023-08-13T08:35:53.690031Z",
     "iopub.status.idle": "2023-08-13T08:35:53.694919Z",
     "shell.execute_reply": "2023-08-13T08:35:53.693899Z"
    },
    "papermill": {
     "duration": 0.044957,
     "end_time": "2023-08-13T08:35:53.697087",
     "exception": false,
     "start_time": "2023-08-13T08:35:53.652130",
     "status": "completed"
    },
    "tags": []
   },
   "outputs": [],
   "source": [
    "empty_variable = None\n"
   ]
  },
  {
   "cell_type": "markdown",
   "id": "3e6182ee",
   "metadata": {
    "papermill": {
     "duration": 0.035444,
     "end_time": "2023-08-13T08:35:53.768426",
     "exception": false,
     "start_time": "2023-08-13T08:35:53.732982",
     "status": "completed"
    },
    "tags": []
   },
   "source": [
    "## Type Conversion\n",
    "#### You can convert between different data types using built-in functions like int(), float(), str(), and more.\n",
    "\n",
    "### Example:"
   ]
  },
  {
   "cell_type": "code",
   "execution_count": 9,
   "id": "bc6355d5",
   "metadata": {
    "execution": {
     "iopub.execute_input": "2023-08-13T08:35:53.841903Z",
     "iopub.status.busy": "2023-08-13T08:35:53.841499Z",
     "iopub.status.idle": "2023-08-13T08:35:53.846482Z",
     "shell.execute_reply": "2023-08-13T08:35:53.845393Z"
    },
    "papermill": {
     "duration": 0.044745,
     "end_time": "2023-08-13T08:35:53.848744",
     "exception": false,
     "start_time": "2023-08-13T08:35:53.803999",
     "status": "completed"
    },
    "tags": []
   },
   "outputs": [],
   "source": [
    "x = 5\n",
    "y = float(x)  # Converts x to a floating-point number\n",
    "z = str(x)    # Converts x to a string\n"
   ]
  },
  {
   "cell_type": "markdown",
   "id": "ca980dd1",
   "metadata": {
    "papermill": {
     "duration": 0.0363,
     "end_time": "2023-08-13T08:35:53.921074",
     "exception": false,
     "start_time": "2023-08-13T08:35:53.884774",
     "status": "completed"
    },
    "tags": []
   },
   "source": [
    "### Conclusion\n",
    "#### Understanding variables and data types is essential for effectively working with data in Python. In the upcoming chapters, we'll explore more concepts that build on these fundamentals."
   ]
  },
  {
   "cell_type": "markdown",
   "id": "6d9a328f",
   "metadata": {
    "papermill": {
     "duration": 0.035362,
     "end_time": "2023-08-13T08:35:53.992659",
     "exception": false,
     "start_time": "2023-08-13T08:35:53.957297",
     "status": "completed"
    },
    "tags": []
   },
   "source": [
    "\n",
    "<h1 align=\"left\"><font color='red'>3</font></h1>"
   ]
  },
  {
   "cell_type": "markdown",
   "id": "9eab27dd",
   "metadata": {
    "papermill": {
     "duration": 0.035147,
     "end_time": "2023-08-13T08:35:54.063587",
     "exception": false,
     "start_time": "2023-08-13T08:35:54.028440",
     "status": "completed"
    },
    "tags": []
   },
   "source": [
    "# Chapter 3: Basic Input and Output\n",
    "\n",
    "#### In this chapter, we will explore how to interact with users through input and output operations. Input allows us to gather information from users, while output allows us to display information to users.\n",
    "\n",
    "## Output (Printing)\n",
    "\n",
    "#### In Python, the `print()` function is used to display text and data to the screen. You can pass multiple arguments to `print()` to display them with a space separator.\n",
    "\n",
    "### Examples:"
   ]
  },
  {
   "cell_type": "code",
   "execution_count": 10,
   "id": "74fcb952",
   "metadata": {
    "execution": {
     "iopub.execute_input": "2023-08-13T08:35:54.136998Z",
     "iopub.status.busy": "2023-08-13T08:35:54.135828Z",
     "iopub.status.idle": "2023-08-13T08:35:54.141991Z",
     "shell.execute_reply": "2023-08-13T08:35:54.140789Z"
    },
    "papermill": {
     "duration": 0.044972,
     "end_time": "2023-08-13T08:35:54.143958",
     "exception": false,
     "start_time": "2023-08-13T08:35:54.098986",
     "status": "completed"
    },
    "tags": []
   },
   "outputs": [
    {
     "name": "stdout",
     "output_type": "stream",
     "text": [
      "Hello, World!\n",
      "My name is John\n"
     ]
    }
   ],
   "source": [
    "print(\"Hello, World!\")\n",
    "print(\"My name is\", \"John\")"
   ]
  },
  {
   "cell_type": "markdown",
   "id": "9ece895c",
   "metadata": {
    "papermill": {
     "duration": 0.035814,
     "end_time": "2023-08-13T08:35:54.215670",
     "exception": false,
     "start_time": "2023-08-13T08:35:54.179856",
     "status": "completed"
    },
    "tags": []
   },
   "source": [
    "####  You can also format output using f-strings or the .format() method.\n",
    "\n",
    "### Example (f-strings):"
   ]
  },
  {
   "cell_type": "code",
   "execution_count": 11,
   "id": "4f6de30e",
   "metadata": {
    "execution": {
     "iopub.execute_input": "2023-08-13T08:35:54.289435Z",
     "iopub.status.busy": "2023-08-13T08:35:54.289076Z",
     "iopub.status.idle": "2023-08-13T08:35:54.294443Z",
     "shell.execute_reply": "2023-08-13T08:35:54.292911Z"
    },
    "papermill": {
     "duration": 0.045169,
     "end_time": "2023-08-13T08:35:54.296825",
     "exception": false,
     "start_time": "2023-08-13T08:35:54.251656",
     "status": "completed"
    },
    "tags": []
   },
   "outputs": [
    {
     "name": "stdout",
     "output_type": "stream",
     "text": [
      "My name is Alice and I am 30 years old.\n"
     ]
    }
   ],
   "source": [
    "name = \"Alice\"\n",
    "age = 30\n",
    "print(f\"My name is {name} and I am {age} years old.\")\n"
   ]
  },
  {
   "cell_type": "markdown",
   "id": "0dd60a73",
   "metadata": {
    "papermill": {
     "duration": 0.036384,
     "end_time": "2023-08-13T08:35:54.369037",
     "exception": false,
     "start_time": "2023-08-13T08:35:54.332653",
     "status": "completed"
    },
    "tags": []
   },
   "source": [
    "### Example (.format() method):"
   ]
  },
  {
   "cell_type": "code",
   "execution_count": 12,
   "id": "5e1429b5",
   "metadata": {
    "execution": {
     "iopub.execute_input": "2023-08-13T08:35:54.443468Z",
     "iopub.status.busy": "2023-08-13T08:35:54.443096Z",
     "iopub.status.idle": "2023-08-13T08:35:54.448690Z",
     "shell.execute_reply": "2023-08-13T08:35:54.447424Z"
    },
    "papermill": {
     "duration": 0.045937,
     "end_time": "2023-08-13T08:35:54.450955",
     "exception": false,
     "start_time": "2023-08-13T08:35:54.405018",
     "status": "completed"
    },
    "tags": []
   },
   "outputs": [
    {
     "name": "stdout",
     "output_type": "stream",
     "text": [
      "My name is Bob and I am 25 years old.\n"
     ]
    }
   ],
   "source": [
    "name = \"Bob\"\n",
    "age = 25\n",
    "print(\"My name is {} and I am {} years old.\".format(name, age))\n"
   ]
  },
  {
   "cell_type": "markdown",
   "id": "32d43cdc",
   "metadata": {
    "papermill": {
     "duration": 0.035732,
     "end_time": "2023-08-13T08:35:54.523350",
     "exception": false,
     "start_time": "2023-08-13T08:35:54.487618",
     "status": "completed"
    },
    "tags": []
   },
   "source": [
    "## Input\n",
    "#### The input() function allows you to prompt the user for input. It displays a message and waits for the user to type something, then returns the entered text as a string.\n",
    "\n",
    "### Example:"
   ]
  },
  {
   "cell_type": "code",
   "execution_count": 13,
   "id": "8db63d4c",
   "metadata": {
    "execution": {
     "iopub.execute_input": "2023-08-13T08:35:54.597133Z",
     "iopub.status.busy": "2023-08-13T08:35:54.596103Z",
     "iopub.status.idle": "2023-08-13T08:35:54.600763Z",
     "shell.execute_reply": "2023-08-13T08:35:54.599665Z"
    },
    "papermill": {
     "duration": 0.043922,
     "end_time": "2023-08-13T08:35:54.603059",
     "exception": false,
     "start_time": "2023-08-13T08:35:54.559137",
     "status": "completed"
    },
    "tags": []
   },
   "outputs": [],
   "source": [
    "# name = input(\"Enter your name: \")\n",
    "# print(\"Hello,\", name)\n"
   ]
  },
  {
   "cell_type": "markdown",
   "id": "6ab07f8d",
   "metadata": {
    "papermill": {
     "duration": 0.0374,
     "end_time": "2023-08-13T08:35:54.676434",
     "exception": false,
     "start_time": "2023-08-13T08:35:54.639034",
     "status": "completed"
    },
    "tags": []
   },
   "source": [
    "####  You can convert the input to other data types using functions like int(), float(), or bool().\n",
    "\n",
    "### Example:"
   ]
  },
  {
   "cell_type": "code",
   "execution_count": 14,
   "id": "afdad170",
   "metadata": {
    "execution": {
     "iopub.execute_input": "2023-08-13T08:35:54.749901Z",
     "iopub.status.busy": "2023-08-13T08:35:54.749541Z",
     "iopub.status.idle": "2023-08-13T08:35:54.752840Z",
     "shell.execute_reply": "2023-08-13T08:35:54.752075Z"
    },
    "papermill": {
     "duration": 0.042376,
     "end_time": "2023-08-13T08:35:54.754788",
     "exception": false,
     "start_time": "2023-08-13T08:35:54.712412",
     "status": "completed"
    },
    "tags": []
   },
   "outputs": [],
   "source": [
    "# age = int(input(\"Enter your age: \"))\n",
    "# age"
   ]
  },
  {
   "cell_type": "markdown",
   "id": "e91f24a1",
   "metadata": {
    "papermill": {
     "duration": 0.037554,
     "end_time": "2023-08-13T08:35:54.829001",
     "exception": false,
     "start_time": "2023-08-13T08:35:54.791447",
     "status": "completed"
    },
    "tags": []
   },
   "source": [
    "## File Input and Output\n",
    "####  Python provides built-in functions for working with files. You can open a file using the open() function, read from it using methods like .read() or .readline(), and write to it using methods like .write().\n",
    "\n",
    "### Example (Reading from a file):"
   ]
  },
  {
   "cell_type": "markdown",
   "id": "4bdb825b",
   "metadata": {
    "papermill": {
     "duration": 0.035732,
     "end_time": "2023-08-13T08:35:54.901940",
     "exception": false,
     "start_time": "2023-08-13T08:35:54.866208",
     "status": "completed"
    },
    "tags": []
   },
   "source": [
    "```python\n",
    "file = open(\"example.txt\", \"r\")\n",
    "content = file.read()\n",
    "print(content)\n",
    "file.close()\n",
    "```"
   ]
  },
  {
   "cell_type": "markdown",
   "id": "4575ad27",
   "metadata": {
    "papermill": {
     "duration": 0.035536,
     "end_time": "2023-08-13T08:35:54.973602",
     "exception": false,
     "start_time": "2023-08-13T08:35:54.938066",
     "status": "completed"
    },
    "tags": []
   },
   "source": [
    "### Example (Writing to a file):"
   ]
  },
  {
   "cell_type": "markdown",
   "id": "9a4a7184",
   "metadata": {
    "papermill": {
     "duration": 0.036613,
     "end_time": "2023-08-13T08:35:55.046827",
     "exception": false,
     "start_time": "2023-08-13T08:35:55.010214",
     "status": "completed"
    },
    "tags": []
   },
   "source": [
    "```python\n",
    "file = open(\"output.txt\", \"w\")\n",
    "file.write(\"This is a line written to the file.\")\n",
    "file.close()\n",
    "```"
   ]
  },
  {
   "cell_type": "markdown",
   "id": "605b7775",
   "metadata": {
    "papermill": {
     "duration": 0.03563,
     "end_time": "2023-08-13T08:35:55.118676",
     "exception": false,
     "start_time": "2023-08-13T08:35:55.083046",
     "status": "completed"
    },
    "tags": []
   },
   "source": [
    "## Formatted Output\n",
    "####  Python provides various ways to format output using placeholders and formatting options.\n",
    "\n",
    "### Example (Using placeholders):"
   ]
  },
  {
   "cell_type": "code",
   "execution_count": 15,
   "id": "79949f8d",
   "metadata": {
    "execution": {
     "iopub.execute_input": "2023-08-13T08:35:55.192291Z",
     "iopub.status.busy": "2023-08-13T08:35:55.191932Z",
     "iopub.status.idle": "2023-08-13T08:35:55.196651Z",
     "shell.execute_reply": "2023-08-13T08:35:55.195604Z"
    },
    "papermill": {
     "duration": 0.044999,
     "end_time": "2023-08-13T08:35:55.199620",
     "exception": false,
     "start_time": "2023-08-13T08:35:55.154621",
     "status": "completed"
    },
    "tags": []
   },
   "outputs": [
    {
     "name": "stdout",
     "output_type": "stream",
     "text": [
      "Name: Eve, Age: 22\n"
     ]
    }
   ],
   "source": [
    "name = \"Eve\"\n",
    "age = 22\n",
    "print(\"Name: {}, Age: {}\".format(name, age))\n"
   ]
  },
  {
   "cell_type": "markdown",
   "id": "e1690a0f",
   "metadata": {
    "papermill": {
     "duration": 0.03557,
     "end_time": "2023-08-13T08:35:55.271843",
     "exception": false,
     "start_time": "2023-08-13T08:35:55.236273",
     "status": "completed"
    },
    "tags": []
   },
   "source": [
    "### Example (Using f-strings with formatting):"
   ]
  },
  {
   "cell_type": "code",
   "execution_count": 16,
   "id": "0238957c",
   "metadata": {
    "execution": {
     "iopub.execute_input": "2023-08-13T08:35:55.346415Z",
     "iopub.status.busy": "2023-08-13T08:35:55.345128Z",
     "iopub.status.idle": "2023-08-13T08:35:55.351377Z",
     "shell.execute_reply": "2023-08-13T08:35:55.350271Z"
    },
    "papermill": {
     "duration": 0.045688,
     "end_time": "2023-08-13T08:35:55.353482",
     "exception": false,
     "start_time": "2023-08-13T08:35:55.307794",
     "status": "completed"
    },
    "tags": []
   },
   "outputs": [
    {
     "name": "stdout",
     "output_type": "stream",
     "text": [
      "Value of pi: 3.14\n"
     ]
    }
   ],
   "source": [
    "pi = 3.141592653589793\n",
    "print(f\"Value of pi: {pi:.2f}\")\n"
   ]
  },
  {
   "cell_type": "markdown",
   "id": "fe9ce7d9",
   "metadata": {
    "papermill": {
     "duration": 0.036196,
     "end_time": "2023-08-13T08:35:55.426126",
     "exception": false,
     "start_time": "2023-08-13T08:35:55.389930",
     "status": "completed"
    },
    "tags": []
   },
   "source": [
    "### Conclusion\n",
    "####  Understanding basic input and output operations is essential for building interactive Python programs. In the upcoming chapters, we'll delve into more advanced concepts that build on these fundamentals."
   ]
  },
  {
   "cell_type": "markdown",
   "id": "15f11d28",
   "metadata": {
    "papermill": {
     "duration": 0.036112,
     "end_time": "2023-08-13T08:35:55.498794",
     "exception": false,
     "start_time": "2023-08-13T08:35:55.462682",
     "status": "completed"
    },
    "tags": []
   },
   "source": [
    "\n",
    "<h1 align=\"left\"><font color='red'>4</font></h1>"
   ]
  },
  {
   "cell_type": "markdown",
   "id": "42015e7c",
   "metadata": {
    "papermill": {
     "duration": 0.036614,
     "end_time": "2023-08-13T08:35:55.571987",
     "exception": false,
     "start_time": "2023-08-13T08:35:55.535373",
     "status": "completed"
    },
    "tags": []
   },
   "source": [
    "# Chapter 4: Operators and Expressions\n",
    "\n",
    "####  In this chapter, we will explore operators and expressions in Python. Operators are symbols that perform operations on variables and values, and expressions combine variables, values, and operators to create new values.\n",
    "\n",
    "## Arithmetic Operators\n",
    "\n",
    "### Arithmetic operators are used to perform mathematical operations on numbers.\n",
    "\n",
    "####  - **Addition (+):** Adds two operands.\n",
    "####  - **Subtraction (-):** Subtracts the right operand from the left operand.\n",
    "####  - **Multiplication (*):** Multiplies two operands.\n",
    "####  - **Division (/):** Divides the left operand by the right operand.\n",
    "####  - **Modulus (%):** Returns the remainder of the division.\n",
    "####  - **Exponentiation (**):** Raises the left operand to the power of the right operand.\n",
    "####  - **Floor Division (//):** Divides and returns the integer part of the division.\n",
    "\n",
    "#### Examples:"
   ]
  },
  {
   "cell_type": "code",
   "execution_count": 17,
   "id": "4132d67f",
   "metadata": {
    "execution": {
     "iopub.execute_input": "2023-08-13T08:35:55.651464Z",
     "iopub.status.busy": "2023-08-13T08:35:55.650927Z",
     "iopub.status.idle": "2023-08-13T08:35:55.657579Z",
     "shell.execute_reply": "2023-08-13T08:35:55.656531Z"
    },
    "papermill": {
     "duration": 0.049535,
     "end_time": "2023-08-13T08:35:55.659695",
     "exception": false,
     "start_time": "2023-08-13T08:35:55.610160",
     "status": "completed"
    },
    "tags": []
   },
   "outputs": [
    {
     "name": "stdout",
     "output_type": "stream",
     "text": [
      "13\n",
      "7\n",
      "30\n",
      "3.3333333333333335\n",
      "1\n",
      "1000\n",
      "3\n"
     ]
    }
   ],
   "source": [
    "x = 10\n",
    "y = 3\n",
    "print(x + y)      # Output: 13\n",
    "print(x - y)      # Output: 7\n",
    "print(x * y)      # Output: 30\n",
    "print(x / y)      # Output: 3.3333...\n",
    "print(x % y)      # Output: 1\n",
    "print(x ** y)     # Output: 1000\n",
    "print(x // y)     # Output: 3"
   ]
  },
  {
   "cell_type": "markdown",
   "id": "46be37ea",
   "metadata": {
    "papermill": {
     "duration": 0.035784,
     "end_time": "2023-08-13T08:35:55.731590",
     "exception": false,
     "start_time": "2023-08-13T08:35:55.695806",
     "status": "completed"
    },
    "tags": []
   },
   "source": [
    "## Comparison Operators\n",
    "### Comparison operators are used to compare values.\n",
    "\n",
    "#### Equal to (==): Returns True if both operands are equal.\n",
    "#### Not equal to (!=): Returns True if operands are not equal.\n",
    "#### Greater than (>): Returns True if the left operand is greater than the right operand.\n",
    "#### Less than (<): Returns True if the left operand is less than the right operand.\n",
    "#### Greater than or equal to (>=): Returns True if the left operand is greater than or equal to the right operand.\n",
    "#### Less than or equal to (<=): Returns True if the left operand is less than or equal to the right operand."
   ]
  },
  {
   "cell_type": "code",
   "execution_count": 18,
   "id": "c5f91980",
   "metadata": {
    "execution": {
     "iopub.execute_input": "2023-08-13T08:35:55.805267Z",
     "iopub.status.busy": "2023-08-13T08:35:55.804892Z",
     "iopub.status.idle": "2023-08-13T08:35:55.810545Z",
     "shell.execute_reply": "2023-08-13T08:35:55.809592Z"
    },
    "papermill": {
     "duration": 0.045054,
     "end_time": "2023-08-13T08:35:55.812786",
     "exception": false,
     "start_time": "2023-08-13T08:35:55.767732",
     "status": "completed"
    },
    "tags": []
   },
   "outputs": [
    {
     "name": "stdout",
     "output_type": "stream",
     "text": [
      "False\n",
      "True\n",
      "False\n",
      "True\n",
      "False\n",
      "True\n"
     ]
    }
   ],
   "source": [
    "a = 5\n",
    "b = 7\n",
    "print(a == b)     # Output: False\n",
    "print(a != b)     # Output: True\n",
    "print(a > b)      # Output: False\n",
    "print(a < b)      # Output: True\n",
    "print(a >= b)     # Output: False\n",
    "print(a <= b)     # Output: True"
   ]
  },
  {
   "cell_type": "markdown",
   "id": "380b2479",
   "metadata": {
    "papermill": {
     "duration": 0.036172,
     "end_time": "2023-08-13T08:35:55.886957",
     "exception": false,
     "start_time": "2023-08-13T08:35:55.850785",
     "status": "completed"
    },
    "tags": []
   },
   "source": [
    "## Logical Operators\n",
    "### Logical operators are used to combine conditional statements.\n",
    "\n",
    "#### `and`: Returns True if both conditions are True.\n",
    "#### `or`: Returns True if at least one condition is True.\n",
    "#### `not`: Returns the opposite of the condition."
   ]
  },
  {
   "cell_type": "code",
   "execution_count": 19,
   "id": "427abba6",
   "metadata": {
    "execution": {
     "iopub.execute_input": "2023-08-13T08:35:55.961052Z",
     "iopub.status.busy": "2023-08-13T08:35:55.960659Z",
     "iopub.status.idle": "2023-08-13T08:35:55.966189Z",
     "shell.execute_reply": "2023-08-13T08:35:55.965196Z"
    },
    "papermill": {
     "duration": 0.045391,
     "end_time": "2023-08-13T08:35:55.968388",
     "exception": false,
     "start_time": "2023-08-13T08:35:55.922997",
     "status": "completed"
    },
    "tags": []
   },
   "outputs": [
    {
     "name": "stdout",
     "output_type": "stream",
     "text": [
      "False\n",
      "True\n",
      "False\n"
     ]
    }
   ],
   "source": [
    "x = True\n",
    "y = False\n",
    "print(x and y)    # Output: False\n",
    "print(x or y)     # Output: True\n",
    "print(not x)      # Output: False\n"
   ]
  },
  {
   "cell_type": "markdown",
   "id": "c940702f",
   "metadata": {
    "papermill": {
     "duration": 0.03694,
     "end_time": "2023-08-13T08:35:56.041631",
     "exception": false,
     "start_time": "2023-08-13T08:35:56.004691",
     "status": "completed"
    },
    "tags": []
   },
   "source": [
    "## Assignment Operators\n",
    "### Assignment operators are used to assign values to variables.\n",
    "\n",
    "#### `=`: Assigns a value to a variable.\n",
    "#### `+=`: Adds and assigns a value to a variable.\n",
    "#### `-=`: Subtracts and assigns a value to a variable.\n",
    "#### `*=`: Multiplies and assigns a value to a variable.\n",
    "#### `/=`: Divides and assigns a value to a variable.\n",
    "#### `%=`: Performs modulus and assigns a value to a variable.\n",
    "#### `**=`: Performs exponentiation and assigns a value to a variable.\n",
    "#### `//=`: Performs floor division and assigns a value to a variable."
   ]
  },
  {
   "cell_type": "code",
   "execution_count": 20,
   "id": "ef4028ad",
   "metadata": {
    "execution": {
     "iopub.execute_input": "2023-08-13T08:35:56.116459Z",
     "iopub.status.busy": "2023-08-13T08:35:56.116101Z",
     "iopub.status.idle": "2023-08-13T08:35:56.121456Z",
     "shell.execute_reply": "2023-08-13T08:35:56.120293Z"
    },
    "papermill": {
     "duration": 0.045057,
     "end_time": "2023-08-13T08:35:56.123571",
     "exception": false,
     "start_time": "2023-08-13T08:35:56.078514",
     "status": "completed"
    },
    "tags": []
   },
   "outputs": [
    {
     "name": "stdout",
     "output_type": "stream",
     "text": [
      "15\n"
     ]
    }
   ],
   "source": [
    "x = 10\n",
    "x += 5   # Equivalent to x = x + 5\n",
    "print(x) # Output: 15\n"
   ]
  },
  {
   "cell_type": "markdown",
   "id": "cdd280d4",
   "metadata": {
    "papermill": {
     "duration": 0.036085,
     "end_time": "2023-08-13T08:35:56.196049",
     "exception": false,
     "start_time": "2023-08-13T08:35:56.159964",
     "status": "completed"
    },
    "tags": []
   },
   "source": [
    "### Conclusion\n",
    "#### Understanding operators and expressions is crucial for performing various computations in Python. In the upcoming chapters, we'll explore more advanced topics that build upon these fundamentals."
   ]
  },
  {
   "cell_type": "markdown",
   "id": "e725486c",
   "metadata": {
    "papermill": {
     "duration": 0.035898,
     "end_time": "2023-08-13T08:35:56.268150",
     "exception": false,
     "start_time": "2023-08-13T08:35:56.232252",
     "status": "completed"
    },
    "tags": []
   },
   "source": [
    "<h1 align=\"left\"><font color='red'>5</font></h1>"
   ]
  },
  {
   "cell_type": "markdown",
   "id": "edd312e7",
   "metadata": {
    "papermill": {
     "duration": 0.037243,
     "end_time": "2023-08-13T08:35:56.341790",
     "exception": false,
     "start_time": "2023-08-13T08:35:56.304547",
     "status": "completed"
    },
    "tags": []
   },
   "source": [
    "# Chapter 5: Control Structures\n",
    "\n",
    "####  In this chapter, we will explore control structures that allow you to make decisions and control the flow of your program. We'll cover the `if`, `elif`, and `else` statements, which are essential for implementing conditional logic in Python.\n",
    "\n",
    "## if Statement\n",
    "\n",
    "#### The `if` statement allows you to execute a block of code if a specified condition is True.\n",
    "\n",
    "#### Example:\n",
    "\n"
   ]
  },
  {
   "cell_type": "code",
   "execution_count": 21,
   "id": "9f02df73",
   "metadata": {
    "execution": {
     "iopub.execute_input": "2023-08-13T08:35:56.416496Z",
     "iopub.status.busy": "2023-08-13T08:35:56.415770Z",
     "iopub.status.idle": "2023-08-13T08:35:56.421318Z",
     "shell.execute_reply": "2023-08-13T08:35:56.420115Z"
    },
    "papermill": {
     "duration": 0.045415,
     "end_time": "2023-08-13T08:35:56.423563",
     "exception": false,
     "start_time": "2023-08-13T08:35:56.378148",
     "status": "completed"
    },
    "tags": []
   },
   "outputs": [
    {
     "name": "stdout",
     "output_type": "stream",
     "text": [
      "x is greater than 5\n"
     ]
    }
   ],
   "source": [
    "x = 10\n",
    "if x > 5:\n",
    "    print(\"x is greater than 5\")"
   ]
  },
  {
   "cell_type": "markdown",
   "id": "a407f4f9",
   "metadata": {
    "papermill": {
     "duration": 0.036228,
     "end_time": "2023-08-13T08:35:56.496505",
     "exception": false,
     "start_time": "2023-08-13T08:35:56.460277",
     "status": "completed"
    },
    "tags": []
   },
   "source": [
    "## elif Statement\n",
    "#### The `elif` (short for \"else if\") statement allows you to check multiple conditions sequentially. It is used when you want to check for multiple conditions and execute different code blocks based on those conditions."
   ]
  },
  {
   "cell_type": "code",
   "execution_count": 22,
   "id": "805a5e14",
   "metadata": {
    "execution": {
     "iopub.execute_input": "2023-08-13T08:35:56.572978Z",
     "iopub.status.busy": "2023-08-13T08:35:56.572261Z",
     "iopub.status.idle": "2023-08-13T08:35:56.577835Z",
     "shell.execute_reply": "2023-08-13T08:35:56.576840Z"
    },
    "papermill": {
     "duration": 0.045871,
     "end_time": "2023-08-13T08:35:56.579976",
     "exception": false,
     "start_time": "2023-08-13T08:35:56.534105",
     "status": "completed"
    },
    "tags": []
   },
   "outputs": [
    {
     "name": "stdout",
     "output_type": "stream",
     "text": [
      "Good\n"
     ]
    }
   ],
   "source": [
    "grade = 85\n",
    "if grade >= 90:\n",
    "    print(\"Excellent\")\n",
    "elif grade >= 80:\n",
    "    print(\"Good\")\n",
    "elif grade >= 70:\n",
    "    print(\"Average\")\n",
    "else:\n",
    "    print(\"Needs Improvement\")\n"
   ]
  },
  {
   "cell_type": "markdown",
   "id": "52a61e61",
   "metadata": {
    "papermill": {
     "duration": 0.039725,
     "end_time": "2023-08-13T08:35:56.657619",
     "exception": false,
     "start_time": "2023-08-13T08:35:56.617894",
     "status": "completed"
    },
    "tags": []
   },
   "source": [
    "## else Statement\n",
    "#### The else statement allows you to define a block of code that will be executed if the condition in the if statement is False."
   ]
  },
  {
   "cell_type": "code",
   "execution_count": 23,
   "id": "a0968099",
   "metadata": {
    "execution": {
     "iopub.execute_input": "2023-08-13T08:35:56.733450Z",
     "iopub.status.busy": "2023-08-13T08:35:56.732694Z",
     "iopub.status.idle": "2023-08-13T08:35:56.737966Z",
     "shell.execute_reply": "2023-08-13T08:35:56.736869Z"
    },
    "papermill": {
     "duration": 0.045355,
     "end_time": "2023-08-13T08:35:56.739842",
     "exception": false,
     "start_time": "2023-08-13T08:35:56.694487",
     "status": "completed"
    },
    "tags": []
   },
   "outputs": [
    {
     "name": "stdout",
     "output_type": "stream",
     "text": [
      "You are an adult\n"
     ]
    }
   ],
   "source": [
    "age = 18\n",
    "if age >= 18:\n",
    "    print(\"You are an adult\")\n",
    "else:\n",
    "    print(\"You are not an adult\")\n"
   ]
  },
  {
   "cell_type": "markdown",
   "id": "e0e9dd6e",
   "metadata": {
    "papermill": {
     "duration": 0.03669,
     "end_time": "2023-08-13T08:35:56.872327",
     "exception": false,
     "start_time": "2023-08-13T08:35:56.835637",
     "status": "completed"
    },
    "tags": []
   },
   "source": [
    "## Nested if Statements\n",
    "#### You can also nest if statements inside other if statements to create more complex conditional logic."
   ]
  },
  {
   "cell_type": "code",
   "execution_count": 24,
   "id": "59f9a3c0",
   "metadata": {
    "execution": {
     "iopub.execute_input": "2023-08-13T08:35:56.948179Z",
     "iopub.status.busy": "2023-08-13T08:35:56.947799Z",
     "iopub.status.idle": "2023-08-13T08:35:56.953442Z",
     "shell.execute_reply": "2023-08-13T08:35:56.952346Z"
    },
    "papermill": {
     "duration": 0.046692,
     "end_time": "2023-08-13T08:35:56.956105",
     "exception": false,
     "start_time": "2023-08-13T08:35:56.909413",
     "status": "completed"
    },
    "tags": []
   },
   "outputs": [
    {
     "name": "stdout",
     "output_type": "stream",
     "text": [
      "Both conditions are True\n"
     ]
    }
   ],
   "source": [
    "x = 10\n",
    "y = 5\n",
    "if x > 5:\n",
    "    if y > 3:\n",
    "        print(\"Both conditions are True\")\n"
   ]
  },
  {
   "cell_type": "markdown",
   "id": "9880e1d0",
   "metadata": {
    "papermill": {
     "duration": 0.036852,
     "end_time": "2023-08-13T08:35:57.030210",
     "exception": false,
     "start_time": "2023-08-13T08:35:56.993358",
     "status": "completed"
    },
    "tags": []
   },
   "source": [
    "## Logical Operators with if Statements\n",
    "#### You can combine multiple conditions using logical operators (and, or, not) within if statements."
   ]
  },
  {
   "cell_type": "code",
   "execution_count": 25,
   "id": "e63ab139",
   "metadata": {
    "execution": {
     "iopub.execute_input": "2023-08-13T08:35:57.107239Z",
     "iopub.status.busy": "2023-08-13T08:35:57.106265Z",
     "iopub.status.idle": "2023-08-13T08:35:57.111252Z",
     "shell.execute_reply": "2023-08-13T08:35:57.110395Z"
    },
    "papermill": {
     "duration": 0.045888,
     "end_time": "2023-08-13T08:35:57.113336",
     "exception": false,
     "start_time": "2023-08-13T08:35:57.067448",
     "status": "completed"
    },
    "tags": []
   },
   "outputs": [],
   "source": [
    "temperature = 28\n",
    "if temperature > 30 or temperature < 0:\n",
    "    print(\"Extreme temperature\")\n"
   ]
  },
  {
   "cell_type": "markdown",
   "id": "3b1e1190",
   "metadata": {
    "papermill": {
     "duration": 0.036659,
     "end_time": "2023-08-13T08:35:57.187018",
     "exception": false,
     "start_time": "2023-08-13T08:35:57.150359",
     "status": "completed"
    },
    "tags": []
   },
   "source": [
    "## Conclusion\n",
    "#### Understanding control structures is crucial for creating programs that make decisions based on certain conditions. In the upcoming chapters, we'll explore more control structures and advanced topics that build upon these fundamentals."
   ]
  },
  {
   "cell_type": "markdown",
   "id": "41851236",
   "metadata": {
    "papermill": {
     "duration": 0.036668,
     "end_time": "2023-08-13T08:35:57.260744",
     "exception": false,
     "start_time": "2023-08-13T08:35:57.224076",
     "status": "completed"
    },
    "tags": []
   },
   "source": [
    "<h1 align=\"left\"><font color='red'>6</font></h1>"
   ]
  },
  {
   "cell_type": "markdown",
   "id": "ce0fc38c",
   "metadata": {
    "papermill": {
     "duration": 0.036802,
     "end_time": "2023-08-13T08:35:57.334451",
     "exception": false,
     "start_time": "2023-08-13T08:35:57.297649",
     "status": "completed"
    },
    "tags": []
   },
   "source": [
    "# Chapter 6: Loops\n",
    "\n",
    "#### In this chapter, we will explore loops, which allow you to execute a block of code repeatedly. We'll cover the `while` and `for` loops, both of which are essential for creating efficient and repetitive tasks in Python.\n",
    "\n",
    "## while Loop\n",
    "\n",
    "#### The `while` loop allows you to repeatedly execute a block of code as long as a specified condition is True.\n",
    "\n",
    "#### Example:"
   ]
  },
  {
   "cell_type": "code",
   "execution_count": 26,
   "id": "c35d4578",
   "metadata": {
    "execution": {
     "iopub.execute_input": "2023-08-13T08:35:57.410231Z",
     "iopub.status.busy": "2023-08-13T08:35:57.409450Z",
     "iopub.status.idle": "2023-08-13T08:35:57.415507Z",
     "shell.execute_reply": "2023-08-13T08:35:57.414395Z"
    },
    "papermill": {
     "duration": 0.046518,
     "end_time": "2023-08-13T08:35:57.417756",
     "exception": false,
     "start_time": "2023-08-13T08:35:57.371238",
     "status": "completed"
    },
    "tags": []
   },
   "outputs": [
    {
     "name": "stdout",
     "output_type": "stream",
     "text": [
      "0\n",
      "1\n",
      "2\n",
      "3\n",
      "4\n"
     ]
    }
   ],
   "source": [
    "count = 0\n",
    "while count < 5:\n",
    "    print(count)\n",
    "    count += 1"
   ]
  },
  {
   "cell_type": "markdown",
   "id": "23be43bc",
   "metadata": {
    "papermill": {
     "duration": 0.036925,
     "end_time": "2023-08-13T08:35:57.494326",
     "exception": false,
     "start_time": "2023-08-13T08:35:57.457401",
     "status": "completed"
    },
    "tags": []
   },
   "source": [
    "## for Loop\n",
    "#### The for loop is used to iterate over a sequence (such as a list, tuple, or string) and execute a block of code for each item in the sequence.\n",
    "\n",
    "### Example (using a list):"
   ]
  },
  {
   "cell_type": "code",
   "execution_count": 27,
   "id": "8a648898",
   "metadata": {
    "execution": {
     "iopub.execute_input": "2023-08-13T08:35:57.572081Z",
     "iopub.status.busy": "2023-08-13T08:35:57.571407Z",
     "iopub.status.idle": "2023-08-13T08:35:57.576594Z",
     "shell.execute_reply": "2023-08-13T08:35:57.575515Z"
    },
    "papermill": {
     "duration": 0.046965,
     "end_time": "2023-08-13T08:35:57.578829",
     "exception": false,
     "start_time": "2023-08-13T08:35:57.531864",
     "status": "completed"
    },
    "tags": []
   },
   "outputs": [
    {
     "name": "stdout",
     "output_type": "stream",
     "text": [
      "apple\n",
      "banana\n",
      "cherry\n"
     ]
    }
   ],
   "source": [
    "fruits = [\"apple\", \"banana\", \"cherry\"]\n",
    "for fruit in fruits:\n",
    "    print(fruit)\n"
   ]
  },
  {
   "cell_type": "markdown",
   "id": "24c0c4ff",
   "metadata": {
    "papermill": {
     "duration": 0.037998,
     "end_time": "2023-08-13T08:35:57.655332",
     "exception": false,
     "start_time": "2023-08-13T08:35:57.617334",
     "status": "completed"
    },
    "tags": []
   },
   "source": [
    "### Example (using a range):"
   ]
  },
  {
   "cell_type": "code",
   "execution_count": 28,
   "id": "f947e0bc",
   "metadata": {
    "execution": {
     "iopub.execute_input": "2023-08-13T08:35:57.734499Z",
     "iopub.status.busy": "2023-08-13T08:35:57.734121Z",
     "iopub.status.idle": "2023-08-13T08:35:57.739025Z",
     "shell.execute_reply": "2023-08-13T08:35:57.738027Z"
    },
    "papermill": {
     "duration": 0.046984,
     "end_time": "2023-08-13T08:35:57.741259",
     "exception": false,
     "start_time": "2023-08-13T08:35:57.694275",
     "status": "completed"
    },
    "tags": []
   },
   "outputs": [
    {
     "name": "stdout",
     "output_type": "stream",
     "text": [
      "0\n",
      "1\n",
      "2\n",
      "3\n",
      "4\n"
     ]
    }
   ],
   "source": [
    "for i in range(5):\n",
    "    print(i)\n"
   ]
  },
  {
   "cell_type": "markdown",
   "id": "c638856c",
   "metadata": {
    "papermill": {
     "duration": 0.037701,
     "end_time": "2023-08-13T08:35:57.816266",
     "exception": false,
     "start_time": "2023-08-13T08:35:57.778565",
     "status": "completed"
    },
    "tags": []
   },
   "source": [
    "## Loop Control Statements\n",
    "### break Statement\n",
    "####  The break statement is used to exit the loop prematurely, even if the loop condition is still True."
   ]
  },
  {
   "cell_type": "code",
   "execution_count": 29,
   "id": "d131a5a0",
   "metadata": {
    "execution": {
     "iopub.execute_input": "2023-08-13T08:35:57.893972Z",
     "iopub.status.busy": "2023-08-13T08:35:57.893339Z",
     "iopub.status.idle": "2023-08-13T08:35:57.899646Z",
     "shell.execute_reply": "2023-08-13T08:35:57.898597Z"
    },
    "papermill": {
     "duration": 0.047981,
     "end_time": "2023-08-13T08:35:57.901928",
     "exception": false,
     "start_time": "2023-08-13T08:35:57.853947",
     "status": "completed"
    },
    "tags": []
   },
   "outputs": [
    {
     "name": "stdout",
     "output_type": "stream",
     "text": [
      "1\n",
      "2\n"
     ]
    }
   ],
   "source": [
    "numbers = [1, 2, 3, 4, 5]\n",
    "for num in numbers:\n",
    "    if num == 3:\n",
    "        break\n",
    "    print(num)\n"
   ]
  },
  {
   "cell_type": "markdown",
   "id": "d223c35a",
   "metadata": {
    "execution": {
     "iopub.execute_input": "2023-08-12T20:38:09.867889Z",
     "iopub.status.busy": "2023-08-12T20:38:09.867439Z",
     "iopub.status.idle": "2023-08-12T20:38:09.873411Z",
     "shell.execute_reply": "2023-08-12T20:38:09.872089Z",
     "shell.execute_reply.started": "2023-08-12T20:38:09.867850Z"
    },
    "papermill": {
     "duration": 0.036781,
     "end_time": "2023-08-13T08:35:57.976010",
     "exception": false,
     "start_time": "2023-08-13T08:35:57.939229",
     "status": "completed"
    },
    "tags": []
   },
   "source": [
    "## continue Statement\n",
    "####  The continue statement is used to skip the current iteration of the loop and move to the next one."
   ]
  },
  {
   "cell_type": "code",
   "execution_count": 30,
   "id": "a37d4bde",
   "metadata": {
    "execution": {
     "iopub.execute_input": "2023-08-13T08:35:58.052293Z",
     "iopub.status.busy": "2023-08-13T08:35:58.051894Z",
     "iopub.status.idle": "2023-08-13T08:35:58.057363Z",
     "shell.execute_reply": "2023-08-13T08:35:58.056327Z"
    },
    "papermill": {
     "duration": 0.046299,
     "end_time": "2023-08-13T08:35:58.059363",
     "exception": false,
     "start_time": "2023-08-13T08:35:58.013064",
     "status": "completed"
    },
    "tags": []
   },
   "outputs": [
    {
     "name": "stdout",
     "output_type": "stream",
     "text": [
      "1\n",
      "2\n",
      "4\n",
      "5\n"
     ]
    }
   ],
   "source": [
    "numbers = [1, 2, 3, 4, 5]\n",
    "for num in numbers:\n",
    "    if num == 3:\n",
    "        continue\n",
    "    print(num)\n"
   ]
  },
  {
   "cell_type": "markdown",
   "id": "a597ffbe",
   "metadata": {
    "papermill": {
     "duration": 0.037051,
     "end_time": "2023-08-13T08:35:58.133402",
     "exception": false,
     "start_time": "2023-08-13T08:35:58.096351",
     "status": "completed"
    },
    "tags": []
   },
   "source": [
    "## Nested Loops\n",
    "####  You can nest loops inside each other to create more complex iterations."
   ]
  },
  {
   "cell_type": "code",
   "execution_count": 31,
   "id": "2788a4e4",
   "metadata": {
    "execution": {
     "iopub.execute_input": "2023-08-13T08:35:58.209038Z",
     "iopub.status.busy": "2023-08-13T08:35:58.208609Z",
     "iopub.status.idle": "2023-08-13T08:35:58.214040Z",
     "shell.execute_reply": "2023-08-13T08:35:58.212650Z"
    },
    "papermill": {
     "duration": 0.045775,
     "end_time": "2023-08-13T08:35:58.216034",
     "exception": false,
     "start_time": "2023-08-13T08:35:58.170259",
     "status": "completed"
    },
    "tags": []
   },
   "outputs": [
    {
     "name": "stdout",
     "output_type": "stream",
     "text": [
      "0 0\n",
      "0 1\n",
      "1 0\n",
      "1 1\n",
      "2 0\n",
      "2 1\n"
     ]
    }
   ],
   "source": [
    "for i in range(3):\n",
    "    for j in range(2):\n",
    "        print(i, j)\n"
   ]
  },
  {
   "cell_type": "markdown",
   "id": "d8c8840c",
   "metadata": {
    "papermill": {
     "duration": 0.036972,
     "end_time": "2023-08-13T08:35:58.290107",
     "exception": false,
     "start_time": "2023-08-13T08:35:58.253135",
     "status": "completed"
    },
    "tags": []
   },
   "source": [
    "## Conclusion\n",
    "#### Loops are powerful tools for automating repetitive tasks and iterating over sequences. In the upcoming chapters, we'll explore more advanced loop techniques and other programming concepts."
   ]
  },
  {
   "cell_type": "markdown",
   "id": "021ce8fc",
   "metadata": {
    "papermill": {
     "duration": 0.036799,
     "end_time": "2023-08-13T08:35:58.363944",
     "exception": false,
     "start_time": "2023-08-13T08:35:58.327145",
     "status": "completed"
    },
    "tags": []
   },
   "source": [
    "\n",
    "<h1 align=\"left\"><font color='red'>7</font></h1>"
   ]
  },
  {
   "cell_type": "markdown",
   "id": "afdf1258",
   "metadata": {
    "papermill": {
     "duration": 0.036991,
     "end_time": "2023-08-13T08:35:58.438024",
     "exception": false,
     "start_time": "2023-08-13T08:35:58.401033",
     "status": "completed"
    },
    "tags": []
   },
   "source": [
    "# Chapter 7: Functions and Scope\n",
    "\n",
    "#### In this chapter, we will explore functions, which allow you to encapsulate blocks of code into reusable units. We'll cover defining functions, working with function arguments, and returning values from functions.\n",
    "\n",
    "## Defining Functions\n",
    "\n",
    "#### A function is a block of code that performs a specific task. It allows you to organize your code and make it more modular.\n",
    "\n",
    "#### Example:"
   ]
  },
  {
   "cell_type": "code",
   "execution_count": 32,
   "id": "05f02d8e",
   "metadata": {
    "execution": {
     "iopub.execute_input": "2023-08-13T08:35:58.516028Z",
     "iopub.status.busy": "2023-08-13T08:35:58.515372Z",
     "iopub.status.idle": "2023-08-13T08:35:58.520228Z",
     "shell.execute_reply": "2023-08-13T08:35:58.519154Z"
    },
    "papermill": {
     "duration": 0.046317,
     "end_time": "2023-08-13T08:35:58.522164",
     "exception": false,
     "start_time": "2023-08-13T08:35:58.475847",
     "status": "completed"
    },
    "tags": []
   },
   "outputs": [],
   "source": [
    "def greet(name):\n",
    "    print(f\"Hello, {name}!\")"
   ]
  },
  {
   "cell_type": "markdown",
   "id": "d4537f32",
   "metadata": {
    "papermill": {
     "duration": 0.036944,
     "end_time": "2023-08-13T08:35:58.597529",
     "exception": false,
     "start_time": "2023-08-13T08:35:58.560585",
     "status": "completed"
    },
    "tags": []
   },
   "source": [
    "## Function Arguments\n",
    "#### Function arguments are values that you can pass to a function when you call it. Functions can have multiple arguments, and you can specify default values for them.\n",
    "\n",
    "### Example (function with arguments):"
   ]
  },
  {
   "cell_type": "code",
   "execution_count": 33,
   "id": "90125f2f",
   "metadata": {
    "execution": {
     "iopub.execute_input": "2023-08-13T08:35:58.679703Z",
     "iopub.status.busy": "2023-08-13T08:35:58.679325Z",
     "iopub.status.idle": "2023-08-13T08:35:58.684264Z",
     "shell.execute_reply": "2023-08-13T08:35:58.683262Z"
    },
    "papermill": {
     "duration": 0.048425,
     "end_time": "2023-08-13T08:35:58.686451",
     "exception": false,
     "start_time": "2023-08-13T08:35:58.638026",
     "status": "completed"
    },
    "tags": []
   },
   "outputs": [],
   "source": [
    "def add_numbers(x, y):\n",
    "    return x + y\n"
   ]
  },
  {
   "cell_type": "markdown",
   "id": "a1d8b87f",
   "metadata": {
    "papermill": {
     "duration": 0.037266,
     "end_time": "2023-08-13T08:35:58.760968",
     "exception": false,
     "start_time": "2023-08-13T08:35:58.723702",
     "status": "completed"
    },
    "tags": []
   },
   "source": [
    "### Example (function with default value):"
   ]
  },
  {
   "cell_type": "code",
   "execution_count": 34,
   "id": "c8ff6f42",
   "metadata": {
    "execution": {
     "iopub.execute_input": "2023-08-13T08:35:58.838398Z",
     "iopub.status.busy": "2023-08-13T08:35:58.838019Z",
     "iopub.status.idle": "2023-08-13T08:35:58.842210Z",
     "shell.execute_reply": "2023-08-13T08:35:58.841181Z"
    },
    "papermill": {
     "duration": 0.046488,
     "end_time": "2023-08-13T08:35:58.844665",
     "exception": false,
     "start_time": "2023-08-13T08:35:58.798177",
     "status": "completed"
    },
    "tags": []
   },
   "outputs": [],
   "source": [
    "def greet(name=\"Guest\"):\n",
    "    print(f\"Hello, {name}!\")\n"
   ]
  },
  {
   "cell_type": "markdown",
   "id": "94b9ddc9",
   "metadata": {
    "papermill": {
     "duration": 0.037681,
     "end_time": "2023-08-13T08:35:58.919819",
     "exception": false,
     "start_time": "2023-08-13T08:35:58.882138",
     "status": "completed"
    },
    "tags": []
   },
   "source": [
    "## Return Values\n",
    "####  A function can return a value using the return statement. The returned value can be used in other parts of your code."
   ]
  },
  {
   "cell_type": "code",
   "execution_count": 35,
   "id": "7a8c0e9d",
   "metadata": {
    "execution": {
     "iopub.execute_input": "2023-08-13T08:35:58.997120Z",
     "iopub.status.busy": "2023-08-13T08:35:58.996692Z",
     "iopub.status.idle": "2023-08-13T08:35:59.002141Z",
     "shell.execute_reply": "2023-08-13T08:35:59.001239Z"
    },
    "papermill": {
     "duration": 0.047435,
     "end_time": "2023-08-13T08:35:59.004947",
     "exception": false,
     "start_time": "2023-08-13T08:35:58.957512",
     "status": "completed"
    },
    "tags": []
   },
   "outputs": [
    {
     "name": "stdout",
     "output_type": "stream",
     "text": [
      "25\n"
     ]
    }
   ],
   "source": [
    "def square(x):\n",
    "    return x * x\n",
    "\n",
    "result = square(5)\n",
    "print(result)  # Output: 25\n"
   ]
  },
  {
   "cell_type": "markdown",
   "id": "b3181a03",
   "metadata": {
    "papermill": {
     "duration": 0.038194,
     "end_time": "2023-08-13T08:35:59.081407",
     "exception": false,
     "start_time": "2023-08-13T08:35:59.043213",
     "status": "completed"
    },
    "tags": []
   },
   "source": [
    "## Function Scope\n",
    "####  Variables defined inside a function are only accessible within that function's scope. They are called local variables."
   ]
  },
  {
   "cell_type": "code",
   "execution_count": 36,
   "id": "a302617c",
   "metadata": {
    "execution": {
     "iopub.execute_input": "2023-08-13T08:35:59.158184Z",
     "iopub.status.busy": "2023-08-13T08:35:59.157810Z",
     "iopub.status.idle": "2023-08-13T08:35:59.163946Z",
     "shell.execute_reply": "2023-08-13T08:35:59.162772Z"
    },
    "papermill": {
     "duration": 0.046924,
     "end_time": "2023-08-13T08:35:59.165812",
     "exception": false,
     "start_time": "2023-08-13T08:35:59.118888",
     "status": "completed"
    },
    "tags": []
   },
   "outputs": [
    {
     "name": "stdout",
     "output_type": "stream",
     "text": [
      "10\n",
      "10\n"
     ]
    }
   ],
   "source": [
    "def my_function():\n",
    "    x = 10  # local variable\n",
    "    print(x)\n",
    "\n",
    "my_function()\n",
    "print(x)  # This will raise an error because x is not defined in this scope\n"
   ]
  },
  {
   "cell_type": "markdown",
   "id": "4e3e9d8e",
   "metadata": {
    "papermill": {
     "duration": 0.038076,
     "end_time": "2023-08-13T08:35:59.241050",
     "exception": false,
     "start_time": "2023-08-13T08:35:59.202974",
     "status": "completed"
    },
    "tags": []
   },
   "source": [
    "## Global Scope\n",
    "####  Variables defined outside any function have global scope and can be accessed from anywhere in the code."
   ]
  },
  {
   "cell_type": "code",
   "execution_count": 37,
   "id": "19100a52",
   "metadata": {
    "execution": {
     "iopub.execute_input": "2023-08-13T08:35:59.317283Z",
     "iopub.status.busy": "2023-08-13T08:35:59.316883Z",
     "iopub.status.idle": "2023-08-13T08:35:59.322367Z",
     "shell.execute_reply": "2023-08-13T08:35:59.321272Z"
    },
    "papermill": {
     "duration": 0.046059,
     "end_time": "2023-08-13T08:35:59.324288",
     "exception": false,
     "start_time": "2023-08-13T08:35:59.278229",
     "status": "completed"
    },
    "tags": []
   },
   "outputs": [
    {
     "name": "stdout",
     "output_type": "stream",
     "text": [
      "I am global\n",
      "I am global\n"
     ]
    }
   ],
   "source": [
    "global_var = \"I am global\"\n",
    "\n",
    "def print_global():\n",
    "    print(global_var)\n",
    "\n",
    "print_global()\n",
    "print(global_var)\n"
   ]
  },
  {
   "cell_type": "markdown",
   "id": "63ae7dd3",
   "metadata": {
    "papermill": {
     "duration": 0.036936,
     "end_time": "2023-08-13T08:35:59.398975",
     "exception": false,
     "start_time": "2023-08-13T08:35:59.362039",
     "status": "completed"
    },
    "tags": []
   },
   "source": [
    "## Conclusion\n",
    "#### Functions are essential for creating organized and reusable code. They allow you to encapsulate logic, make your code more readable, and improve maintainability."
   ]
  },
  {
   "cell_type": "markdown",
   "id": "fca1aed9",
   "metadata": {
    "papermill": {
     "duration": 0.037329,
     "end_time": "2023-08-13T08:35:59.474157",
     "exception": false,
     "start_time": "2023-08-13T08:35:59.436828",
     "status": "completed"
    },
    "tags": []
   },
   "source": [
    "\n",
    "<h1 align=\"left\"><font color='red'>8</font></h1>"
   ]
  },
  {
   "cell_type": "markdown",
   "id": "9d032a1f",
   "metadata": {
    "papermill": {
     "duration": 0.037279,
     "end_time": "2023-08-13T08:35:59.548787",
     "exception": false,
     "start_time": "2023-08-13T08:35:59.511508",
     "status": "completed"
    },
    "tags": []
   },
   "source": [
    "# Chapter 8: Function Parameters and Return Values\n",
    "\n",
    "#### In this chapter, we will delve deeper into function parameters and return values, exploring default values, keyword arguments, and returning multiple values from functions.\n",
    "\n",
    "## Default Values\n",
    "\n",
    "#### You can provide default values for function parameters. If a value is not provided when the function is called, the default value will be used.\n",
    "\n",
    "#### Example:"
   ]
  },
  {
   "cell_type": "code",
   "execution_count": 38,
   "id": "3d21e45b",
   "metadata": {
    "execution": {
     "iopub.execute_input": "2023-08-13T08:35:59.624889Z",
     "iopub.status.busy": "2023-08-13T08:35:59.624146Z",
     "iopub.status.idle": "2023-08-13T08:35:59.629875Z",
     "shell.execute_reply": "2023-08-13T08:35:59.628651Z"
    },
    "papermill": {
     "duration": 0.0461,
     "end_time": "2023-08-13T08:35:59.631886",
     "exception": false,
     "start_time": "2023-08-13T08:35:59.585786",
     "status": "completed"
    },
    "tags": []
   },
   "outputs": [
    {
     "name": "stdout",
     "output_type": "stream",
     "text": [
      "Hello, Guest!\n",
      "Hello, Alice!\n"
     ]
    }
   ],
   "source": [
    "\n",
    "def greet(name=\"Guest\"):\n",
    "    print(f\"Hello, {name}!\")\n",
    "\n",
    "greet()          # Output: Hello, Guest!\n",
    "greet(\"Alice\")   # Output: Hello, Alice!"
   ]
  },
  {
   "cell_type": "markdown",
   "id": "ec518947",
   "metadata": {
    "papermill": {
     "duration": 0.037254,
     "end_time": "2023-08-13T08:35:59.707434",
     "exception": false,
     "start_time": "2023-08-13T08:35:59.670180",
     "status": "completed"
    },
    "tags": []
   },
   "source": [
    "## Keyword Arguments\n",
    "#### Keyword arguments allow you to pass values to function parameters using the parameter names. This provides more clarity and flexibility when calling functions."
   ]
  },
  {
   "cell_type": "code",
   "execution_count": 39,
   "id": "eec3337d",
   "metadata": {
    "execution": {
     "iopub.execute_input": "2023-08-13T08:35:59.785134Z",
     "iopub.status.busy": "2023-08-13T08:35:59.784327Z",
     "iopub.status.idle": "2023-08-13T08:35:59.790096Z",
     "shell.execute_reply": "2023-08-13T08:35:59.788986Z"
    },
    "papermill": {
     "duration": 0.0474,
     "end_time": "2023-08-13T08:35:59.792171",
     "exception": false,
     "start_time": "2023-08-13T08:35:59.744771",
     "status": "completed"
    },
    "tags": []
   },
   "outputs": [
    {
     "name": "stdout",
     "output_type": "stream",
     "text": [
      "Name: Bob, Age: 30\n"
     ]
    }
   ],
   "source": [
    "def person_info(name, age):\n",
    "    print(f\"Name: {name}, Age: {age}\")\n",
    "\n",
    "person_info(name=\"Bob\", age=30)\n"
   ]
  },
  {
   "cell_type": "markdown",
   "id": "8c45af9c",
   "metadata": {
    "papermill": {
     "duration": 0.038315,
     "end_time": "2023-08-13T08:35:59.868060",
     "exception": false,
     "start_time": "2023-08-13T08:35:59.829745",
     "status": "completed"
    },
    "tags": []
   },
   "source": [
    "## Returning Multiple Values\n",
    "#### A function can return multiple values by separating them with commas. You can capture these values when calling the function."
   ]
  },
  {
   "cell_type": "code",
   "execution_count": 40,
   "id": "169d5c0f",
   "metadata": {
    "execution": {
     "iopub.execute_input": "2023-08-13T08:35:59.945806Z",
     "iopub.status.busy": "2023-08-13T08:35:59.945073Z",
     "iopub.status.idle": "2023-08-13T08:35:59.951140Z",
     "shell.execute_reply": "2023-08-13T08:35:59.950024Z"
    },
    "papermill": {
     "duration": 0.047247,
     "end_time": "2023-08-13T08:35:59.953251",
     "exception": false,
     "start_time": "2023-08-13T08:35:59.906004",
     "status": "completed"
    },
    "tags": []
   },
   "outputs": [
    {
     "name": "stdout",
     "output_type": "stream",
     "text": [
      "Area: 15, Perimeter: 16\n"
     ]
    }
   ],
   "source": [
    "def rectangle_info(length, width):\n",
    "    area = length * width\n",
    "    perimeter = 2 * (length + width)\n",
    "    return area, perimeter\n",
    "\n",
    "area, perimeter = rectangle_info(5, 3)\n",
    "print(f\"Area: {area}, Perimeter: {perimeter}\")\n"
   ]
  },
  {
   "cell_type": "markdown",
   "id": "7ce4f32d",
   "metadata": {
    "papermill": {
     "duration": 0.037585,
     "end_time": "2023-08-13T08:36:00.029331",
     "exception": false,
     "start_time": "2023-08-13T08:35:59.991746",
     "status": "completed"
    },
    "tags": []
   },
   "source": [
    "## Conclusion\n",
    "#### Understanding function parameters and return values is crucial for creating flexible and powerful functions. Default values and keyword arguments provide ways to make your functions more versatile, while returning multiple values enhances the information you can extract from a function."
   ]
  },
  {
   "cell_type": "markdown",
   "id": "73017169",
   "metadata": {
    "papermill": {
     "duration": 0.037624,
     "end_time": "2023-08-13T08:36:00.105602",
     "exception": false,
     "start_time": "2023-08-13T08:36:00.067978",
     "status": "completed"
    },
    "tags": []
   },
   "source": [
    "\n",
    "<h1 align=\"left\"><font color='red'>9</font></h1>"
   ]
  },
  {
   "cell_type": "markdown",
   "id": "435e6c5f",
   "metadata": {
    "papermill": {
     "duration": 0.037762,
     "end_time": "2023-08-13T08:36:00.181328",
     "exception": false,
     "start_time": "2023-08-13T08:36:00.143566",
     "status": "completed"
    },
    "tags": []
   },
   "source": [
    "# Chapter 9: Global and Local Variables\n",
    "\n",
    "#### In this chapter, we'll explore the concept of global and local variables in Python. Understanding these variable scopes is essential for writing clean, organized, and bug-free code.\n",
    "\n",
    "## Local Variables\n",
    "\n",
    "#### Local variables are defined within a function and have scope limited to that function. They can only be accessed within the function where they are defined.\n",
    "\n",
    "#### Example:\n"
   ]
  },
  {
   "cell_type": "code",
   "execution_count": 41,
   "id": "b5ab2d7f",
   "metadata": {
    "execution": {
     "iopub.execute_input": "2023-08-13T08:36:00.259462Z",
     "iopub.status.busy": "2023-08-13T08:36:00.258170Z",
     "iopub.status.idle": "2023-08-13T08:36:00.264509Z",
     "shell.execute_reply": "2023-08-13T08:36:00.263365Z"
    },
    "papermill": {
     "duration": 0.047884,
     "end_time": "2023-08-13T08:36:00.266788",
     "exception": false,
     "start_time": "2023-08-13T08:36:00.218904",
     "status": "completed"
    },
    "tags": []
   },
   "outputs": [
    {
     "name": "stdout",
     "output_type": "stream",
     "text": [
      "I am local\n"
     ]
    }
   ],
   "source": [
    "def my_function():\n",
    "    local_var = \"I am local\"\n",
    "    print(local_var)\n",
    "\n",
    "my_function()\n",
    "# print(local_var)  # This will raise an error because local_var is not defined in this scope"
   ]
  },
  {
   "cell_type": "markdown",
   "id": "37c8748f",
   "metadata": {
    "papermill": {
     "duration": 0.037963,
     "end_time": "2023-08-13T08:36:00.343795",
     "exception": false,
     "start_time": "2023-08-13T08:36:00.305832",
     "status": "completed"
    },
    "tags": []
   },
   "source": [
    "## Global Variables\n",
    "#### Global variables are defined outside any function and have a global scope. They can be accessed from any part of the code, including within functions."
   ]
  },
  {
   "cell_type": "code",
   "execution_count": 42,
   "id": "aa37f4a0",
   "metadata": {
    "execution": {
     "iopub.execute_input": "2023-08-13T08:36:00.422853Z",
     "iopub.status.busy": "2023-08-13T08:36:00.422116Z",
     "iopub.status.idle": "2023-08-13T08:36:00.427537Z",
     "shell.execute_reply": "2023-08-13T08:36:00.426397Z"
    },
    "papermill": {
     "duration": 0.046809,
     "end_time": "2023-08-13T08:36:00.429493",
     "exception": false,
     "start_time": "2023-08-13T08:36:00.382684",
     "status": "completed"
    },
    "tags": []
   },
   "outputs": [
    {
     "name": "stdout",
     "output_type": "stream",
     "text": [
      "I am global\n",
      "I am global\n"
     ]
    }
   ],
   "source": [
    "global_var = \"I am global\"\n",
    "\n",
    "def print_global():\n",
    "    print(global_var)\n",
    "\n",
    "print_global()\n",
    "print(global_var)\n"
   ]
  },
  {
   "cell_type": "markdown",
   "id": "6fca1124",
   "metadata": {
    "papermill": {
     "duration": 0.038281,
     "end_time": "2023-08-13T08:36:00.506162",
     "exception": false,
     "start_time": "2023-08-13T08:36:00.467881",
     "status": "completed"
    },
    "tags": []
   },
   "source": [
    "## Modifying Global Variables\n",
    "#### While you can access global variables from within a function, modifying them requires using the global keyword to indicate that you want to modify the global variable, not create a new local variable with the same name."
   ]
  },
  {
   "cell_type": "code",
   "execution_count": 43,
   "id": "1d842975",
   "metadata": {
    "execution": {
     "iopub.execute_input": "2023-08-13T08:36:00.584555Z",
     "iopub.status.busy": "2023-08-13T08:36:00.583503Z",
     "iopub.status.idle": "2023-08-13T08:36:00.589520Z",
     "shell.execute_reply": "2023-08-13T08:36:00.588500Z"
    },
    "papermill": {
     "duration": 0.047715,
     "end_time": "2023-08-13T08:36:00.591632",
     "exception": false,
     "start_time": "2023-08-13T08:36:00.543917",
     "status": "completed"
    },
    "tags": []
   },
   "outputs": [
    {
     "name": "stdout",
     "output_type": "stream",
     "text": [
      "1\n"
     ]
    }
   ],
   "source": [
    "count = 0\n",
    "\n",
    "def increment_count():\n",
    "    global count\n",
    "    count += 1\n",
    "\n",
    "increment_count()\n",
    "print(count)  # Output: 1\n"
   ]
  },
  {
   "cell_type": "markdown",
   "id": "99c0f1b5",
   "metadata": {
    "papermill": {
     "duration": 0.037726,
     "end_time": "2023-08-13T08:36:00.667432",
     "exception": false,
     "start_time": "2023-08-13T08:36:00.629706",
     "status": "completed"
    },
    "tags": []
   },
   "source": [
    "## Shadowing Variables\n",
    "#### Local variables can \"shadow\" global variables with the same name. When you have both a global and a local variable with the same name, the local variable takes precedence within the function."
   ]
  },
  {
   "cell_type": "code",
   "execution_count": 44,
   "id": "b9018b1d",
   "metadata": {
    "execution": {
     "iopub.execute_input": "2023-08-13T08:36:00.749526Z",
     "iopub.status.busy": "2023-08-13T08:36:00.749132Z",
     "iopub.status.idle": "2023-08-13T08:36:00.755466Z",
     "shell.execute_reply": "2023-08-13T08:36:00.753879Z"
    },
    "papermill": {
     "duration": 0.048893,
     "end_time": "2023-08-13T08:36:00.757488",
     "exception": false,
     "start_time": "2023-08-13T08:36:00.708595",
     "status": "completed"
    },
    "tags": []
   },
   "outputs": [
    {
     "name": "stdout",
     "output_type": "stream",
     "text": [
      "Local Name\n",
      "Global Name\n"
     ]
    }
   ],
   "source": [
    "name = \"Global Name\"\n",
    "\n",
    "def shadow_example():\n",
    "    name = \"Local Name\"\n",
    "    print(name)\n",
    "\n",
    "shadow_example()  # Output: Local Name\n",
    "print(name)       # Output: Global Name\n"
   ]
  },
  {
   "cell_type": "markdown",
   "id": "5686759b",
   "metadata": {
    "papermill": {
     "duration": 0.039265,
     "end_time": "2023-08-13T08:36:00.835407",
     "exception": false,
     "start_time": "2023-08-13T08:36:00.796142",
     "status": "completed"
    },
    "tags": []
   },
   "source": [
    "## Conclusion\n",
    "#### Understanding the difference between global and local variables is crucial for writing maintainable and bug-free code. Local variables provide encapsulation and prevent unintended interactions between different parts of your code."
   ]
  },
  {
   "cell_type": "markdown",
   "id": "6e7ca7c5",
   "metadata": {
    "papermill": {
     "duration": 0.038541,
     "end_time": "2023-08-13T08:36:00.912419",
     "exception": false,
     "start_time": "2023-08-13T08:36:00.873878",
     "status": "completed"
    },
    "tags": []
   },
   "source": [
    "\n",
    "<h1 align=\"left\"><font color='red'>10</font></h1>"
   ]
  },
  {
   "cell_type": "markdown",
   "id": "2c8a4bcf",
   "metadata": {
    "papermill": {
     "duration": 0.03826,
     "end_time": "2023-08-13T08:36:00.989333",
     "exception": false,
     "start_time": "2023-08-13T08:36:00.951073",
     "status": "completed"
    },
    "tags": []
   },
   "source": [
    "# Chapter 10: Modules and Importing\n",
    "\n",
    "#### In this chapter, we'll explore the concept of modules and how to import and use them in your Python programs. Modules allow you to organize code into separate files and reuse functionality across multiple projects.\n",
    "\n",
    "## Importing Modules\n",
    "\n",
    "#### A module is a separate file containing Python code that can be reused in other programs. You can import modules to access their functions, classes, and variables.\n",
    "\n",
    "#### Example:\n"
   ]
  },
  {
   "cell_type": "code",
   "execution_count": 45,
   "id": "582c6538",
   "metadata": {
    "execution": {
     "iopub.execute_input": "2023-08-13T08:36:01.067345Z",
     "iopub.status.busy": "2023-08-13T08:36:01.066976Z",
     "iopub.status.idle": "2023-08-13T08:36:01.072597Z",
     "shell.execute_reply": "2023-08-13T08:36:01.071617Z"
    },
    "papermill": {
     "duration": 0.047316,
     "end_time": "2023-08-13T08:36:01.074737",
     "exception": false,
     "start_time": "2023-08-13T08:36:01.027421",
     "status": "completed"
    },
    "tags": []
   },
   "outputs": [
    {
     "name": "stdout",
     "output_type": "stream",
     "text": [
      "5.0\n"
     ]
    }
   ],
   "source": [
    "import math\n",
    "\n",
    "result = math.sqrt(25)\n",
    "print(result)  # Output: 5.0"
   ]
  },
  {
   "cell_type": "markdown",
   "id": "438e5894",
   "metadata": {
    "papermill": {
     "duration": 0.03881,
     "end_time": "2023-08-13T08:36:01.151970",
     "exception": false,
     "start_time": "2023-08-13T08:36:01.113160",
     "status": "completed"
    },
    "tags": []
   },
   "source": [
    "## Aliasing Modules\n",
    "#### You can provide a shorter name (alias) for a module using the as keyword. This can help simplify code and avoid naming conflicts."
   ]
  },
  {
   "cell_type": "code",
   "execution_count": 46,
   "id": "1fd35125",
   "metadata": {
    "execution": {
     "iopub.execute_input": "2023-08-13T08:36:01.230795Z",
     "iopub.status.busy": "2023-08-13T08:36:01.230374Z",
     "iopub.status.idle": "2023-08-13T08:36:01.235011Z",
     "shell.execute_reply": "2023-08-13T08:36:01.234166Z"
    },
    "papermill": {
     "duration": 0.046443,
     "end_time": "2023-08-13T08:36:01.237016",
     "exception": false,
     "start_time": "2023-08-13T08:36:01.190573",
     "status": "completed"
    },
    "tags": []
   },
   "outputs": [
    {
     "name": "stdout",
     "output_type": "stream",
     "text": [
      "5.0\n"
     ]
    }
   ],
   "source": [
    "import math as m\n",
    "\n",
    "result = m.sqrt(25)\n",
    "print(result)  # Output: 5.0\n"
   ]
  },
  {
   "cell_type": "markdown",
   "id": "1ed24010",
   "metadata": {
    "papermill": {
     "duration": 0.037962,
     "end_time": "2023-08-13T08:36:01.313202",
     "exception": false,
     "start_time": "2023-08-13T08:36:01.275240",
     "status": "completed"
    },
    "tags": []
   },
   "source": [
    "## Importing Specific Items\n",
    "#### Instead of importing the entire module, you can import specific functions or variables using the from keyword.\n",
    "\n"
   ]
  },
  {
   "cell_type": "code",
   "execution_count": 47,
   "id": "68a60ce3",
   "metadata": {
    "execution": {
     "iopub.execute_input": "2023-08-13T08:36:01.391489Z",
     "iopub.status.busy": "2023-08-13T08:36:01.391127Z",
     "iopub.status.idle": "2023-08-13T08:36:01.395668Z",
     "shell.execute_reply": "2023-08-13T08:36:01.394920Z"
    },
    "papermill": {
     "duration": 0.04606,
     "end_time": "2023-08-13T08:36:01.397706",
     "exception": false,
     "start_time": "2023-08-13T08:36:01.351646",
     "status": "completed"
    },
    "tags": []
   },
   "outputs": [
    {
     "name": "stdout",
     "output_type": "stream",
     "text": [
      "5.0\n"
     ]
    }
   ],
   "source": [
    "from math import sqrt\n",
    "\n",
    "result = sqrt(25)\n",
    "print(result)  # Output: 5.0\n"
   ]
  },
  {
   "cell_type": "markdown",
   "id": "17eb49f5",
   "metadata": {
    "papermill": {
     "duration": 0.037749,
     "end_time": "2023-08-13T08:36:01.473682",
     "exception": false,
     "start_time": "2023-08-13T08:36:01.435933",
     "status": "completed"
    },
    "tags": []
   },
   "source": [
    "## Importing All Items\n",
    "#### You can import all items from a module using the * wildcard. However, this is generally discouraged as it can lead to naming conflicts and reduced code clarity."
   ]
  },
  {
   "cell_type": "code",
   "execution_count": 48,
   "id": "d92cd32c",
   "metadata": {
    "execution": {
     "iopub.execute_input": "2023-08-13T08:36:01.552172Z",
     "iopub.status.busy": "2023-08-13T08:36:01.551800Z",
     "iopub.status.idle": "2023-08-13T08:36:01.557436Z",
     "shell.execute_reply": "2023-08-13T08:36:01.556362Z"
    },
    "papermill": {
     "duration": 0.047056,
     "end_time": "2023-08-13T08:36:01.559533",
     "exception": false,
     "start_time": "2023-08-13T08:36:01.512477",
     "status": "completed"
    },
    "tags": []
   },
   "outputs": [
    {
     "name": "stdout",
     "output_type": "stream",
     "text": [
      "5.0\n"
     ]
    }
   ],
   "source": [
    "from math import *\n",
    "\n",
    "result = sqrt(25)\n",
    "print(result)  # Output: 5.0\n"
   ]
  },
  {
   "cell_type": "markdown",
   "id": "3beac9dc",
   "metadata": {
    "papermill": {
     "duration": 0.040464,
     "end_time": "2023-08-13T08:36:01.642896",
     "exception": false,
     "start_time": "2023-08-13T08:36:01.602432",
     "status": "completed"
    },
    "tags": []
   },
   "source": [
    "## Creating Your Own Modules\n",
    "#### You can create your own modules by placing Python code in separate files. To use your custom module, place it in the same directory as your program or specify its location using the appropriate path."
   ]
  },
  {
   "cell_type": "markdown",
   "id": "bbda3500",
   "metadata": {
    "papermill": {
     "duration": 0.038675,
     "end_time": "2023-08-13T08:36:01.722744",
     "exception": false,
     "start_time": "2023-08-13T08:36:01.684069",
     "status": "completed"
    },
    "tags": []
   },
   "source": [
    "### Example (custom module - mymodule.py):"
   ]
  },
  {
   "cell_type": "code",
   "execution_count": 49,
   "id": "ff7350e1",
   "metadata": {
    "execution": {
     "iopub.execute_input": "2023-08-13T08:36:01.819134Z",
     "iopub.status.busy": "2023-08-13T08:36:01.818596Z",
     "iopub.status.idle": "2023-08-13T08:36:01.824213Z",
     "shell.execute_reply": "2023-08-13T08:36:01.822975Z"
    },
    "papermill": {
     "duration": 0.058325,
     "end_time": "2023-08-13T08:36:01.826473",
     "exception": false,
     "start_time": "2023-08-13T08:36:01.768148",
     "status": "completed"
    },
    "tags": []
   },
   "outputs": [],
   "source": [
    "def greet(name):\n",
    "    print(f\"Hello, {name}!\")\n"
   ]
  },
  {
   "cell_type": "markdown",
   "id": "d43aa412",
   "metadata": {
    "papermill": {
     "duration": 0.038757,
     "end_time": "2023-08-13T08:36:01.907526",
     "exception": false,
     "start_time": "2023-08-13T08:36:01.868769",
     "status": "completed"
    },
    "tags": []
   },
   "source": [
    "### Example (using the custom module):"
   ]
  },
  {
   "cell_type": "markdown",
   "id": "979b0b94",
   "metadata": {
    "execution": {
     "iopub.execute_input": "2023-08-12T20:45:05.919200Z",
     "iopub.status.busy": "2023-08-12T20:45:05.918772Z",
     "iopub.status.idle": "2023-08-12T20:45:05.957068Z",
     "shell.execute_reply": "2023-08-12T20:45:05.955604Z",
     "shell.execute_reply.started": "2023-08-12T20:45:05.919168Z"
    },
    "papermill": {
     "duration": 0.03808,
     "end_time": "2023-08-13T08:36:01.984101",
     "exception": false,
     "start_time": "2023-08-13T08:36:01.946021",
     "status": "completed"
    },
    "tags": []
   },
   "source": [
    "```python\n",
    "import mymodule\n",
    "\n",
    "mymodule.greet(\"Alice\")  # Output: Hello, Alice!\n",
    "```"
   ]
  },
  {
   "cell_type": "markdown",
   "id": "af3886d5",
   "metadata": {
    "papermill": {
     "duration": 0.038437,
     "end_time": "2023-08-13T08:36:02.060971",
     "exception": false,
     "start_time": "2023-08-13T08:36:02.022534",
     "status": "completed"
    },
    "tags": []
   },
   "source": [
    "### Conclusion\n",
    "#### Modules provide a powerful way to organize, reuse, and share code in your Python projects. By importing modules, you can leverage existing functionality and build upon it to create complex applications."
   ]
  },
  {
   "cell_type": "markdown",
   "id": "97b6bf17",
   "metadata": {
    "papermill": {
     "duration": 0.038134,
     "end_time": "2023-08-13T08:36:02.137491",
     "exception": false,
     "start_time": "2023-08-13T08:36:02.099357",
     "status": "completed"
    },
    "tags": []
   },
   "source": [
    "\n",
    "<h1 align=\"left\"><font color='red'>11</font></h1>"
   ]
  },
  {
   "cell_type": "markdown",
   "id": "3e9132c1",
   "metadata": {
    "papermill": {
     "duration": 0.038337,
     "end_time": "2023-08-13T08:36:02.215738",
     "exception": false,
     "start_time": "2023-08-13T08:36:02.177401",
     "status": "completed"
    },
    "tags": []
   },
   "source": [
    "# Chapter 11: Built-in Functions\n",
    "\n",
    "### In this chapter, we'll explore the extensive collection of built-in functions that Python offers. These functions provide ready-to-use functionality to perform various tasks, from manipulating strings to performing mathematical operations.\n",
    "\n",
    "## Common Built-in Functions\n",
    "\n",
    "#### Python provides a rich set of built-in functions that cover a wide range of operations. Some of the most commonly used built-in functions include:\n",
    "\n",
    "####  - `print()`: Outputs text or values to the console.\n",
    "#### - `len()`: Returns the length of a sequence (e.g., string, list, tuple).\n",
    "#### - `input()`: Reads input from the user.\n",
    "#### - `str()`: Converts a value to a string.\n",
    "#### - `int()`: Converts a value to an integer.\n",
    "#### - `float()`: Converts a value to a floating-point number.\n",
    "#### - `list()`: Converts a sequence to a list.\n",
    "####  `tuple()`: Converts a sequence to a tuple.\n",
    "#### - `range()`: Generates a sequence of numbers.\n",
    "#### - `max()`: Returns the maximum value from a sequence.\n",
    "#### - `min()`: Returns the minimum value from a sequence.\n",
    "\n",
    "## Examples of Built-in Functions\n",
    "\n",
    "#### Using `len()` function:"
   ]
  },
  {
   "cell_type": "code",
   "execution_count": 50,
   "id": "0c18372f",
   "metadata": {
    "execution": {
     "iopub.execute_input": "2023-08-13T08:36:02.294690Z",
     "iopub.status.busy": "2023-08-13T08:36:02.294224Z",
     "iopub.status.idle": "2023-08-13T08:36:02.299591Z",
     "shell.execute_reply": "2023-08-13T08:36:02.298769Z"
    },
    "papermill": {
     "duration": 0.047602,
     "end_time": "2023-08-13T08:36:02.301798",
     "exception": false,
     "start_time": "2023-08-13T08:36:02.254196",
     "status": "completed"
    },
    "tags": []
   },
   "outputs": [
    {
     "name": "stdout",
     "output_type": "stream",
     "text": [
      "5\n"
     ]
    }
   ],
   "source": [
    "name = \"Alice\"\n",
    "length = len(name)\n",
    "print(length)  # Output: 5"
   ]
  },
  {
   "cell_type": "markdown",
   "id": "d15982b9",
   "metadata": {
    "papermill": {
     "duration": 0.038495,
     "end_time": "2023-08-13T08:36:02.380110",
     "exception": false,
     "start_time": "2023-08-13T08:36:02.341615",
     "status": "completed"
    },
    "tags": []
   },
   "source": [
    "### Using int() function:"
   ]
  },
  {
   "cell_type": "code",
   "execution_count": 51,
   "id": "c9af8148",
   "metadata": {
    "execution": {
     "iopub.execute_input": "2023-08-13T08:36:02.460555Z",
     "iopub.status.busy": "2023-08-13T08:36:02.460183Z",
     "iopub.status.idle": "2023-08-13T08:36:02.464816Z",
     "shell.execute_reply": "2023-08-13T08:36:02.463992Z"
    },
    "papermill": {
     "duration": 0.047105,
     "end_time": "2023-08-13T08:36:02.466673",
     "exception": false,
     "start_time": "2023-08-13T08:36:02.419568",
     "status": "completed"
    },
    "tags": []
   },
   "outputs": [
    {
     "name": "stdout",
     "output_type": "stream",
     "text": [
      "30\n"
     ]
    }
   ],
   "source": [
    "age_str = \"30\"\n",
    "age_int = int(age_str)\n",
    "print(age_int)  # Output: 30\n"
   ]
  },
  {
   "cell_type": "markdown",
   "id": "913a337a",
   "metadata": {
    "papermill": {
     "duration": 0.038591,
     "end_time": "2023-08-13T08:36:02.544451",
     "exception": false,
     "start_time": "2023-08-13T08:36:02.505860",
     "status": "completed"
    },
    "tags": []
   },
   "source": [
    "### Using range() function:"
   ]
  },
  {
   "cell_type": "code",
   "execution_count": 52,
   "id": "f210007c",
   "metadata": {
    "execution": {
     "iopub.execute_input": "2023-08-13T08:36:02.624141Z",
     "iopub.status.busy": "2023-08-13T08:36:02.623695Z",
     "iopub.status.idle": "2023-08-13T08:36:02.629343Z",
     "shell.execute_reply": "2023-08-13T08:36:02.628178Z"
    },
    "papermill": {
     "duration": 0.048158,
     "end_time": "2023-08-13T08:36:02.631237",
     "exception": false,
     "start_time": "2023-08-13T08:36:02.583079",
     "status": "completed"
    },
    "tags": []
   },
   "outputs": [
    {
     "name": "stdout",
     "output_type": "stream",
     "text": [
      "0\n",
      "1\n",
      "2\n",
      "3\n",
      "4\n"
     ]
    }
   ],
   "source": [
    "for i in range(5):\n",
    "    print(i)  # Output: 0, 1, 2, 3, 4\n"
   ]
  },
  {
   "cell_type": "markdown",
   "id": "225448ff",
   "metadata": {
    "papermill": {
     "duration": 0.040432,
     "end_time": "2023-08-13T08:36:02.712388",
     "exception": false,
     "start_time": "2023-08-13T08:36:02.671956",
     "status": "completed"
    },
    "tags": []
   },
   "source": [
    "### Using max() and min() functions:"
   ]
  },
  {
   "cell_type": "code",
   "execution_count": 53,
   "id": "41f8974e",
   "metadata": {
    "execution": {
     "iopub.execute_input": "2023-08-13T08:36:02.791971Z",
     "iopub.status.busy": "2023-08-13T08:36:02.791542Z",
     "iopub.status.idle": "2023-08-13T08:36:02.797784Z",
     "shell.execute_reply": "2023-08-13T08:36:02.796646Z"
    },
    "papermill": {
     "duration": 0.048898,
     "end_time": "2023-08-13T08:36:02.800124",
     "exception": false,
     "start_time": "2023-08-13T08:36:02.751226",
     "status": "completed"
    },
    "tags": []
   },
   "outputs": [
    {
     "name": "stdout",
     "output_type": "stream",
     "text": [
      "10\n",
      "2\n"
     ]
    }
   ],
   "source": [
    "numbers = [5, 2, 8, 3, 10]\n",
    "max_value = max(numbers)\n",
    "min_value = min(numbers)\n",
    "print(max_value)  # Output: 10\n",
    "print(min_value)  # Output: 2\n"
   ]
  },
  {
   "cell_type": "markdown",
   "id": "76b5eada",
   "metadata": {
    "papermill": {
     "duration": 0.039375,
     "end_time": "2023-08-13T08:36:02.880946",
     "exception": false,
     "start_time": "2023-08-13T08:36:02.841571",
     "status": "completed"
    },
    "tags": []
   },
   "source": [
    "## Conclusion\n",
    "#### Python's built-in functions provide a wide array of tools to simplify and accelerate your programming tasks. By leveraging these functions, you can perform various operations efficiently without having to implement everything from scratch."
   ]
  },
  {
   "cell_type": "markdown",
   "id": "bcc7d0e6",
   "metadata": {
    "papermill": {
     "duration": 0.038772,
     "end_time": "2023-08-13T08:36:02.958507",
     "exception": false,
     "start_time": "2023-08-13T08:36:02.919735",
     "status": "completed"
    },
    "tags": []
   },
   "source": [
    "\n",
    "<h1 align=\"left\"><font color='red'>12</font></h1>"
   ]
  },
  {
   "cell_type": "markdown",
   "id": "ed523a12",
   "metadata": {
    "papermill": {
     "duration": 0.038753,
     "end_time": "2023-08-13T08:36:03.035947",
     "exception": false,
     "start_time": "2023-08-13T08:36:02.997194",
     "status": "completed"
    },
    "tags": []
   },
   "source": [
    "\n",
    "# Chapter 12: List Data Type\n",
    "\n",
    "### In this chapter, we'll explore the list data type in Python, which allows you to store and manipulate collections of items. Lists are versatile and widely used for various programming tasks.\n",
    "\n",
    "## Creating Lists\n",
    "\n",
    "#### Lists are defined using square brackets `[]`, and the items are separated by commas. Lists can contain elements of different data types.\n",
    "\n",
    "#### Example:"
   ]
  },
  {
   "cell_type": "code",
   "execution_count": 54,
   "id": "26743200",
   "metadata": {
    "execution": {
     "iopub.execute_input": "2023-08-13T08:36:03.115873Z",
     "iopub.status.busy": "2023-08-13T08:36:03.115462Z",
     "iopub.status.idle": "2023-08-13T08:36:03.120889Z",
     "shell.execute_reply": "2023-08-13T08:36:03.119683Z"
    },
    "papermill": {
     "duration": 0.047756,
     "end_time": "2023-08-13T08:36:03.123105",
     "exception": false,
     "start_time": "2023-08-13T08:36:03.075349",
     "status": "completed"
    },
    "tags": []
   },
   "outputs": [],
   "source": [
    "fruits = [\"apple\", \"banana\", \"cherry\"]\n",
    "numbers = [1, 2, 3, 4, 5]\n",
    "mixed_list = [\"Alice\", 30, 5.7, True]"
   ]
  },
  {
   "cell_type": "markdown",
   "id": "ec48b199",
   "metadata": {
    "papermill": {
     "duration": 0.039267,
     "end_time": "2023-08-13T08:36:03.201479",
     "exception": false,
     "start_time": "2023-08-13T08:36:03.162212",
     "status": "completed"
    },
    "tags": []
   },
   "source": [
    "## Indexing and Slicing Lists\n",
    "#### You can access individual elements of a list using indexing. Indexing starts from 0 for the first element, -1 for the last element, and so on. Slicing allows you to extract a subset of elements from a list.\n",
    "\n",
    "### Example (Indexing):"
   ]
  },
  {
   "cell_type": "code",
   "execution_count": 55,
   "id": "c15d2b9f",
   "metadata": {
    "execution": {
     "iopub.execute_input": "2023-08-13T08:36:03.280100Z",
     "iopub.status.busy": "2023-08-13T08:36:03.279685Z",
     "iopub.status.idle": "2023-08-13T08:36:03.285696Z",
     "shell.execute_reply": "2023-08-13T08:36:03.284495Z"
    },
    "papermill": {
     "duration": 0.048292,
     "end_time": "2023-08-13T08:36:03.288251",
     "exception": false,
     "start_time": "2023-08-13T08:36:03.239959",
     "status": "completed"
    },
    "tags": []
   },
   "outputs": [
    {
     "name": "stdout",
     "output_type": "stream",
     "text": [
      "apple\n",
      "cherry\n"
     ]
    }
   ],
   "source": [
    "fruits = [\"apple\", \"banana\", \"cherry\"]\n",
    "print(fruits[0])      # Output: apple\n",
    "print(fruits[-1])     # Output: cherry\n"
   ]
  },
  {
   "cell_type": "markdown",
   "id": "3aa1c2f3",
   "metadata": {
    "papermill": {
     "duration": 0.039176,
     "end_time": "2023-08-13T08:36:03.367535",
     "exception": false,
     "start_time": "2023-08-13T08:36:03.328359",
     "status": "completed"
    },
    "tags": []
   },
   "source": [
    "### Example (Slicing):"
   ]
  },
  {
   "cell_type": "code",
   "execution_count": 56,
   "id": "dd91ef95",
   "metadata": {
    "execution": {
     "iopub.execute_input": "2023-08-13T08:36:03.447104Z",
     "iopub.status.busy": "2023-08-13T08:36:03.446681Z",
     "iopub.status.idle": "2023-08-13T08:36:03.452670Z",
     "shell.execute_reply": "2023-08-13T08:36:03.451472Z"
    },
    "papermill": {
     "duration": 0.048522,
     "end_time": "2023-08-13T08:36:03.454957",
     "exception": false,
     "start_time": "2023-08-13T08:36:03.406435",
     "status": "completed"
    },
    "tags": []
   },
   "outputs": [
    {
     "name": "stdout",
     "output_type": "stream",
     "text": [
      "[2, 3, 4]\n"
     ]
    }
   ],
   "source": [
    "numbers = [1, 2, 3, 4, 5]\n",
    "subset = numbers[1:4]  # Slice from index 1 to 3 (exclusive)\n",
    "print(subset)          # Output: [2, 3, 4]\n"
   ]
  },
  {
   "cell_type": "markdown",
   "id": "9a5ba5fa",
   "metadata": {
    "papermill": {
     "duration": 0.040514,
     "end_time": "2023-08-13T08:36:03.534293",
     "exception": false,
     "start_time": "2023-08-13T08:36:03.493779",
     "status": "completed"
    },
    "tags": []
   },
   "source": [
    "## List Methods\n",
    "#### Python provides a variety of methods to manipulate lists. Some common list methods include:\n",
    "\n",
    "#### `append()`: Adds an item to the end of the list.\n",
    "#### `insert()`: Inserts an item at a specified position.\n",
    "#### `remove()`: Removes the first occurrence of a value.\n",
    "#### `pop()`: Removes and returns an item at a specified index.\n",
    "#### `sort()`: Sorts the list in ascending order.\n",
    "#### `reverse()`: Reverses the order of the list.\n",
    "#### Example (Using `append()` and `insert()`):"
   ]
  },
  {
   "cell_type": "code",
   "execution_count": 57,
   "id": "ae558b97",
   "metadata": {
    "execution": {
     "iopub.execute_input": "2023-08-13T08:36:03.614646Z",
     "iopub.status.busy": "2023-08-13T08:36:03.614297Z",
     "iopub.status.idle": "2023-08-13T08:36:03.619098Z",
     "shell.execute_reply": "2023-08-13T08:36:03.618359Z"
    },
    "papermill": {
     "duration": 0.046883,
     "end_time": "2023-08-13T08:36:03.621079",
     "exception": false,
     "start_time": "2023-08-13T08:36:03.574196",
     "status": "completed"
    },
    "tags": []
   },
   "outputs": [
    {
     "name": "stdout",
     "output_type": "stream",
     "text": [
      "['apple', 'grape', 'banana', 'cherry', 'orange']\n"
     ]
    }
   ],
   "source": [
    "fruits = [\"apple\", \"banana\", \"cherry\"]\n",
    "fruits.append(\"orange\")     # Adds \"orange\" to the end\n",
    "fruits.insert(1, \"grape\")   # Inserts \"grape\" at index 1\n",
    "print(fruits)               # Output: [\"apple\", \"grape\", \"banana\", \"cherry\", \"orange\"]\n"
   ]
  },
  {
   "cell_type": "markdown",
   "id": "5f19e021",
   "metadata": {
    "papermill": {
     "duration": 0.04118,
     "end_time": "2023-08-13T08:36:03.701801",
     "exception": false,
     "start_time": "2023-08-13T08:36:03.660621",
     "status": "completed"
    },
    "tags": []
   },
   "source": [
    "### Example (Using remove() and pop()):"
   ]
  },
  {
   "cell_type": "code",
   "execution_count": 58,
   "id": "75c328dd",
   "metadata": {
    "execution": {
     "iopub.execute_input": "2023-08-13T08:36:03.781771Z",
     "iopub.status.busy": "2023-08-13T08:36:03.781357Z",
     "iopub.status.idle": "2023-08-13T08:36:03.787075Z",
     "shell.execute_reply": "2023-08-13T08:36:03.786064Z"
    },
    "papermill": {
     "duration": 0.048224,
     "end_time": "2023-08-13T08:36:03.789295",
     "exception": false,
     "start_time": "2023-08-13T08:36:03.741071",
     "status": "completed"
    },
    "tags": []
   },
   "outputs": [
    {
     "name": "stdout",
     "output_type": "stream",
     "text": [
      "[1, 4, 5]\n",
      "2\n"
     ]
    }
   ],
   "source": [
    "numbers = [1, 2, 3, 4, 5]\n",
    "numbers.remove(3)           # Removes the first occurrence of 3\n",
    "popped_item = numbers.pop(1)  # Removes and returns item at index 1\n",
    "print(numbers)              # Output: [1, 2, 4, 5]\n",
    "print(popped_item)          # Output: 2\n"
   ]
  },
  {
   "cell_type": "markdown",
   "id": "0d756fad",
   "metadata": {
    "papermill": {
     "duration": 0.038757,
     "end_time": "2023-08-13T08:36:03.867329",
     "exception": false,
     "start_time": "2023-08-13T08:36:03.828572",
     "status": "completed"
    },
    "tags": []
   },
   "source": [
    "## Conclusion\n",
    "#### Lists are fundamental data structures in Python, providing a flexible way to store and manipulate collections of items. By understanding list creation, indexing, slicing, and using list methods, you can effectively work with lists to perform various tasks.\n",
    "\n",
    "#### In the upcoming chapters, we'll explore more data structures and advanced techniques to further enhance your Python programming skills."
   ]
  },
  {
   "cell_type": "markdown",
   "id": "66b019de",
   "metadata": {
    "papermill": {
     "duration": 0.038609,
     "end_time": "2023-08-13T08:36:03.945253",
     "exception": false,
     "start_time": "2023-08-13T08:36:03.906644",
     "status": "completed"
    },
    "tags": []
   },
   "source": [
    "\n",
    "<h1 align=\"left\"><font color='red'>13</font></h1>"
   ]
  },
  {
   "cell_type": "markdown",
   "id": "169da7ca",
   "metadata": {
    "papermill": {
     "duration": 0.039514,
     "end_time": "2023-08-13T08:36:04.025582",
     "exception": false,
     "start_time": "2023-08-13T08:36:03.986068",
     "status": "completed"
    },
    "tags": []
   },
   "source": [
    "# Chapter 13: Tuple Data Type\n",
    "\n",
    "#### In this chapter, we'll explore the tuple data type in Python. Tuples are similar to lists but are immutable, meaning their elements cannot be changed after creation. Tuples are useful for representing collections of items that should not be modified.\n",
    "\n",
    "## Creating Tuples\n",
    "\n",
    "#### Tuples are defined using parentheses `()` and the items are separated by commas. Tuples can contain elements of different data types.\n",
    "\n",
    "#### Example:\n",
    "\n"
   ]
  },
  {
   "cell_type": "code",
   "execution_count": 59,
   "id": "9715ed71",
   "metadata": {
    "execution": {
     "iopub.execute_input": "2023-08-13T08:36:04.106531Z",
     "iopub.status.busy": "2023-08-13T08:36:04.106173Z",
     "iopub.status.idle": "2023-08-13T08:36:04.111043Z",
     "shell.execute_reply": "2023-08-13T08:36:04.109962Z"
    },
    "papermill": {
     "duration": 0.048306,
     "end_time": "2023-08-13T08:36:04.113250",
     "exception": false,
     "start_time": "2023-08-13T08:36:04.064944",
     "status": "completed"
    },
    "tags": []
   },
   "outputs": [],
   "source": [
    "fruits = (\"apple\", \"banana\", \"cherry\")\n",
    "numbers = (1, 2, 3, 4, 5)\n",
    "mixed_tuple = (\"Alice\", 30, 5.7, True)"
   ]
  },
  {
   "cell_type": "markdown",
   "id": "b818a163",
   "metadata": {
    "papermill": {
     "duration": 0.039763,
     "end_time": "2023-08-13T08:36:04.192668",
     "exception": false,
     "start_time": "2023-08-13T08:36:04.152905",
     "status": "completed"
    },
    "tags": []
   },
   "source": [
    "## Unpacking Tuples\n",
    "#### You can assign the elements of a tuple to multiple variables using unpacking. This is useful when you want to access individual elements of a tuple.\n",
    "\n",
    "### Example (Unpacking):"
   ]
  },
  {
   "cell_type": "code",
   "execution_count": 60,
   "id": "f7a6a3a4",
   "metadata": {
    "execution": {
     "iopub.execute_input": "2023-08-13T08:36:04.272952Z",
     "iopub.status.busy": "2023-08-13T08:36:04.272308Z",
     "iopub.status.idle": "2023-08-13T08:36:04.278230Z",
     "shell.execute_reply": "2023-08-13T08:36:04.277037Z"
    },
    "papermill": {
     "duration": 0.048614,
     "end_time": "2023-08-13T08:36:04.280685",
     "exception": false,
     "start_time": "2023-08-13T08:36:04.232071",
     "status": "completed"
    },
    "tags": []
   },
   "outputs": [
    {
     "name": "stdout",
     "output_type": "stream",
     "text": [
      "3\n",
      "4\n"
     ]
    }
   ],
   "source": [
    "coordinates = (3, 4)\n",
    "x, y = coordinates\n",
    "print(x)  # Output: 3\n",
    "print(y)  # Output: 4\n"
   ]
  },
  {
   "cell_type": "markdown",
   "id": "42d3021a",
   "metadata": {
    "papermill": {
     "duration": 0.039718,
     "end_time": "2023-08-13T08:36:04.360996",
     "exception": false,
     "start_time": "2023-08-13T08:36:04.321278",
     "status": "completed"
    },
    "tags": []
   },
   "source": [
    "## Immutable Nature of Tuples\n",
    "#### Unlike lists, tuples are immutable, which means their elements cannot be changed after creation. This property makes tuples suitable for representing fixed collections of data.\n",
    "\n",
    "### Example (Immutable):"
   ]
  },
  {
   "cell_type": "code",
   "execution_count": 61,
   "id": "c4371d05",
   "metadata": {
    "execution": {
     "iopub.execute_input": "2023-08-13T08:36:04.441233Z",
     "iopub.status.busy": "2023-08-13T08:36:04.440810Z",
     "iopub.status.idle": "2023-08-13T08:36:04.445675Z",
     "shell.execute_reply": "2023-08-13T08:36:04.444647Z"
    },
    "papermill": {
     "duration": 0.047306,
     "end_time": "2023-08-13T08:36:04.447893",
     "exception": false,
     "start_time": "2023-08-13T08:36:04.400587",
     "status": "completed"
    },
    "tags": []
   },
   "outputs": [],
   "source": [
    "point = (3, 4)\n",
    "# point[0] = 5  # This will raise an error, as tuples are immutable\n"
   ]
  },
  {
   "cell_type": "markdown",
   "id": "93d5c416",
   "metadata": {
    "papermill": {
     "duration": 0.039781,
     "end_time": "2023-08-13T08:36:04.527183",
     "exception": false,
     "start_time": "2023-08-13T08:36:04.487402",
     "status": "completed"
    },
    "tags": []
   },
   "source": [
    "## Benefits of Tuples\n",
    "#### Tuples are memory efficient compared to lists.\n",
    "#### Tuples can be used as keys in dictionaries.\n",
    "#### Tuples are often used to return multiple values from a function.\n",
    "### Example (Using Tuples as Keys):"
   ]
  },
  {
   "cell_type": "code",
   "execution_count": 62,
   "id": "337130c6",
   "metadata": {
    "execution": {
     "iopub.execute_input": "2023-08-13T08:36:04.607322Z",
     "iopub.status.busy": "2023-08-13T08:36:04.606921Z",
     "iopub.status.idle": "2023-08-13T08:36:04.612145Z",
     "shell.execute_reply": "2023-08-13T08:36:04.611354Z"
    },
    "papermill": {
     "duration": 0.047873,
     "end_time": "2023-08-13T08:36:04.614175",
     "exception": false,
     "start_time": "2023-08-13T08:36:04.566302",
     "status": "completed"
    },
    "tags": []
   },
   "outputs": [
    {
     "name": "stdout",
     "output_type": "stream",
     "text": [
      "Point A\n"
     ]
    }
   ],
   "source": [
    "coordinates = (3, 4)\n",
    "points = {coordinates: \"Point A\"}\n",
    "print(points[coordinates])  # Output: Point A\n"
   ]
  },
  {
   "cell_type": "markdown",
   "id": "2b3f0095",
   "metadata": {
    "papermill": {
     "duration": 0.040045,
     "end_time": "2023-08-13T08:36:04.693688",
     "exception": false,
     "start_time": "2023-08-13T08:36:04.653643",
     "status": "completed"
    },
    "tags": []
   },
   "source": [
    "## Conclusion\n",
    "#### Tuples provide a useful way to represent collections of items that should not be modified. Their immutability and efficiency make them valuable in various programming scenarios, from representing coordinates to being used as dictionary keys."
   ]
  },
  {
   "cell_type": "markdown",
   "id": "263118f1",
   "metadata": {
    "papermill": {
     "duration": 0.038788,
     "end_time": "2023-08-13T08:36:04.771387",
     "exception": false,
     "start_time": "2023-08-13T08:36:04.732599",
     "status": "completed"
    },
    "tags": []
   },
   "source": [
    "\n",
    "<h1 align=\"left\"><font color='red'>14</font></h1>"
   ]
  },
  {
   "cell_type": "markdown",
   "id": "d4fc0283",
   "metadata": {
    "papermill": {
     "duration": 0.039874,
     "end_time": "2023-08-13T08:36:04.850856",
     "exception": false,
     "start_time": "2023-08-13T08:36:04.810982",
     "status": "completed"
    },
    "tags": []
   },
   "source": [
    "# Chapter 14: Dictionaries\n",
    "\n",
    "#### In this chapter, we'll explore the dictionary data type in Python. Dictionaries allow you to store key-value pairs and provide a flexible way to organize and manage data.\n",
    "\n",
    "## Creating Dictionaries\n",
    "\n",
    "#### Dictionaries are defined using curly braces `{}`. Each item in a dictionary consists of a key and its associated value, separated by a colon. Items are separated by commas.\n",
    "\n",
    "#### Example:\n"
   ]
  },
  {
   "cell_type": "code",
   "execution_count": 63,
   "id": "be398659",
   "metadata": {
    "execution": {
     "iopub.execute_input": "2023-08-13T08:36:04.933129Z",
     "iopub.status.busy": "2023-08-13T08:36:04.932743Z",
     "iopub.status.idle": "2023-08-13T08:36:04.937330Z",
     "shell.execute_reply": "2023-08-13T08:36:04.936136Z"
    },
    "papermill": {
     "duration": 0.049196,
     "end_time": "2023-08-13T08:36:04.939460",
     "exception": false,
     "start_time": "2023-08-13T08:36:04.890264",
     "status": "completed"
    },
    "tags": []
   },
   "outputs": [],
   "source": [
    "person = {\n",
    "    \"name\": \"Alice\",\n",
    "    \"age\": 30,\n",
    "    \"city\": \"New York\"\n",
    "}"
   ]
  },
  {
   "cell_type": "markdown",
   "id": "e2ba9260",
   "metadata": {
    "papermill": {
     "duration": 0.03948,
     "end_time": "2023-08-13T08:36:05.019600",
     "exception": false,
     "start_time": "2023-08-13T08:36:04.980120",
     "status": "completed"
    },
    "tags": []
   },
   "source": [
    "## Accessing and Modifying Values\n",
    "#### You can access the value of a specific key using square brackets [] and the key name. You can also modify the value associated with a key.\n",
    "\n",
    "### Example (Accessing Values):"
   ]
  },
  {
   "cell_type": "code",
   "execution_count": 64,
   "id": "f6812048",
   "metadata": {
    "execution": {
     "iopub.execute_input": "2023-08-13T08:36:05.099764Z",
     "iopub.status.busy": "2023-08-13T08:36:05.099369Z",
     "iopub.status.idle": "2023-08-13T08:36:05.104789Z",
     "shell.execute_reply": "2023-08-13T08:36:05.103848Z"
    },
    "papermill": {
     "duration": 0.048271,
     "end_time": "2023-08-13T08:36:05.107146",
     "exception": false,
     "start_time": "2023-08-13T08:36:05.058875",
     "status": "completed"
    },
    "tags": []
   },
   "outputs": [
    {
     "name": "stdout",
     "output_type": "stream",
     "text": [
      "Alice\n",
      "30\n"
     ]
    }
   ],
   "source": [
    "person = {\n",
    "    \"name\": \"Alice\",\n",
    "    \"age\": 30,\n",
    "    \"city\": \"New York\"\n",
    "}\n",
    "\n",
    "print(person[\"name\"])  # Output: Alice\n",
    "print(person[\"age\"])   # Output: 30\n"
   ]
  },
  {
   "cell_type": "markdown",
   "id": "4bf71eea",
   "metadata": {
    "papermill": {
     "duration": 0.039044,
     "end_time": "2023-08-13T08:36:05.184899",
     "exception": false,
     "start_time": "2023-08-13T08:36:05.145855",
     "status": "completed"
    },
    "tags": []
   },
   "source": [
    "### Example (Modifying Values):"
   ]
  },
  {
   "cell_type": "code",
   "execution_count": 65,
   "id": "dc7d1249",
   "metadata": {
    "execution": {
     "iopub.execute_input": "2023-08-13T08:36:05.264350Z",
     "iopub.status.busy": "2023-08-13T08:36:05.263954Z",
     "iopub.status.idle": "2023-08-13T08:36:05.270311Z",
     "shell.execute_reply": "2023-08-13T08:36:05.269197Z"
    },
    "papermill": {
     "duration": 0.048789,
     "end_time": "2023-08-13T08:36:05.272497",
     "exception": false,
     "start_time": "2023-08-13T08:36:05.223708",
     "status": "completed"
    },
    "tags": []
   },
   "outputs": [
    {
     "name": "stdout",
     "output_type": "stream",
     "text": [
      "31\n"
     ]
    }
   ],
   "source": [
    "person = {\n",
    "    \"name\": \"Alice\",\n",
    "    \"age\": 30,\n",
    "    \"city\": \"New York\"\n",
    "}\n",
    "\n",
    "person[\"age\"] = 31\n",
    "print(person[\"age\"])   # Output: 31\n"
   ]
  },
  {
   "cell_type": "markdown",
   "id": "99c2808a",
   "metadata": {
    "papermill": {
     "duration": 0.039418,
     "end_time": "2023-08-13T08:36:05.352556",
     "exception": false,
     "start_time": "2023-08-13T08:36:05.313138",
     "status": "completed"
    },
    "tags": []
   },
   "source": [
    "## Dictionary Methods\n",
    "#### Python provides various methods for working with dictionaries. Some common dictionary methods include:\n",
    "\n",
    "#### `keys()`: Returns a list of all keys in the dictionary.\n",
    "#### `values()`: Returns a list of all values in the dictionary.\n",
    "#### `items()`: Returns a list of key-value pairs as tuples.\n",
    "### Example (Using keys() and values()):"
   ]
  },
  {
   "cell_type": "code",
   "execution_count": 66,
   "id": "cd1d07c4",
   "metadata": {
    "execution": {
     "iopub.execute_input": "2023-08-13T08:36:05.434569Z",
     "iopub.status.busy": "2023-08-13T08:36:05.434181Z",
     "iopub.status.idle": "2023-08-13T08:36:05.441138Z",
     "shell.execute_reply": "2023-08-13T08:36:05.439798Z"
    },
    "papermill": {
     "duration": 0.0509,
     "end_time": "2023-08-13T08:36:05.443479",
     "exception": false,
     "start_time": "2023-08-13T08:36:05.392579",
     "status": "completed"
    },
    "tags": []
   },
   "outputs": [
    {
     "name": "stdout",
     "output_type": "stream",
     "text": [
      "dict_keys(['name', 'age', 'city'])\n",
      "dict_values(['Alice', 30, 'New York'])\n"
     ]
    }
   ],
   "source": [
    "person = {\n",
    "    \"name\": \"Alice\",\n",
    "    \"age\": 30,\n",
    "    \"city\": \"New York\"\n",
    "}\n",
    "\n",
    "keys = person.keys()\n",
    "values = person.values()\n",
    "\n",
    "print(keys)    # Output: dict_keys(['name', 'age', 'city'])\n",
    "print(values)  # Output: dict_values(['Alice', 30, 'New York'])\n"
   ]
  },
  {
   "cell_type": "markdown",
   "id": "5b2c86d2",
   "metadata": {
    "papermill": {
     "duration": 0.042276,
     "end_time": "2023-08-13T08:36:05.526613",
     "exception": false,
     "start_time": "2023-08-13T08:36:05.484337",
     "status": "completed"
    },
    "tags": []
   },
   "source": [
    "## Conclusion\n",
    "#### Dictionaries provide a powerful way to store and manage data using key-value pairs. They allow you to organize information efficiently and retrieve values quickly based on their keys."
   ]
  },
  {
   "cell_type": "markdown",
   "id": "c5f92842",
   "metadata": {
    "papermill": {
     "duration": 0.041734,
     "end_time": "2023-08-13T08:36:05.625757",
     "exception": false,
     "start_time": "2023-08-13T08:36:05.584023",
     "status": "completed"
    },
    "tags": []
   },
   "source": [
    "\n",
    "<h1 align=\"left\"><font color='red'>15</font></h1>"
   ]
  },
  {
   "cell_type": "markdown",
   "id": "5cb4d43f",
   "metadata": {
    "papermill": {
     "duration": 0.04415,
     "end_time": "2023-08-13T08:36:05.710102",
     "exception": false,
     "start_time": "2023-08-13T08:36:05.665952",
     "status": "completed"
    },
    "tags": []
   },
   "source": [
    "# Chapter 15: Sets\n",
    "\n",
    "#### In this chapter, we'll explore the set data type in Python. Sets are collections of unique elements and provide efficient ways to perform various set operations.\n",
    "\n",
    "## Creating Sets\n",
    "\n",
    "#### Sets are defined using curly braces `{}`. Elements are separated by commas, and duplicates are automatically removed.\n",
    "\n",
    "#### Example:"
   ]
  },
  {
   "cell_type": "code",
   "execution_count": 67,
   "id": "5f15b5d6",
   "metadata": {
    "execution": {
     "iopub.execute_input": "2023-08-13T08:36:05.791555Z",
     "iopub.status.busy": "2023-08-13T08:36:05.791121Z",
     "iopub.status.idle": "2023-08-13T08:36:05.796287Z",
     "shell.execute_reply": "2023-08-13T08:36:05.795098Z"
    },
    "papermill": {
     "duration": 0.048887,
     "end_time": "2023-08-13T08:36:05.798768",
     "exception": false,
     "start_time": "2023-08-13T08:36:05.749881",
     "status": "completed"
    },
    "tags": []
   },
   "outputs": [],
   "source": [
    "fruits = {\"apple\", \"banana\", \"cherry\"}\n",
    "numbers = {1, 2, 3, 4, 5}\n",
    "mixed_set = {1, \"Alice\", 3.14, True}"
   ]
  },
  {
   "cell_type": "markdown",
   "id": "4a9ea742",
   "metadata": {
    "papermill": {
     "duration": 0.040092,
     "end_time": "2023-08-13T08:36:05.887104",
     "exception": false,
     "start_time": "2023-08-13T08:36:05.847012",
     "status": "completed"
    },
    "tags": []
   },
   "source": [
    "## Set Operations\n",
    "#### Python provides various set operations to work with sets. Some common set operations include:\n",
    "\n",
    "#### `add()`: Adds an element to the set.\n",
    "#### `remove()`: Removes an element from the set (raises an error if not found).\n",
    "#### `discard()`: Removes an element from the set (does not raise an error if not found).\n",
    "#### `union()`: Returns the union of two sets.\n",
    "#### `intersection()`: Returns the intersection of two sets.\n",
    "#### `difference()`: Returns the difference between two sets.\n",
    "#### `ssubset()`: Checks if a set is a subset of another set.\n",
    "### Example (Using add() and remove()):"
   ]
  },
  {
   "cell_type": "code",
   "execution_count": 68,
   "id": "242c7367",
   "metadata": {
    "execution": {
     "iopub.execute_input": "2023-08-13T08:36:05.975754Z",
     "iopub.status.busy": "2023-08-13T08:36:05.975269Z",
     "iopub.status.idle": "2023-08-13T08:36:05.981437Z",
     "shell.execute_reply": "2023-08-13T08:36:05.980475Z"
    },
    "papermill": {
     "duration": 0.056548,
     "end_time": "2023-08-13T08:36:05.983561",
     "exception": false,
     "start_time": "2023-08-13T08:36:05.927013",
     "status": "completed"
    },
    "tags": []
   },
   "outputs": [
    {
     "name": "stdout",
     "output_type": "stream",
     "text": [
      "{'orange', 'cherry', 'apple'}\n"
     ]
    }
   ],
   "source": [
    "fruits = {\"apple\", \"banana\", \"cherry\"}\n",
    "fruits.add(\"orange\")\n",
    "fruits.remove(\"banana\")\n",
    "print(fruits)  # Output: {\"apple\", \"cherry\", \"orange\"}\n"
   ]
  },
  {
   "cell_type": "markdown",
   "id": "cc0d530b",
   "metadata": {
    "papermill": {
     "duration": 0.039288,
     "end_time": "2023-08-13T08:36:06.063363",
     "exception": false,
     "start_time": "2023-08-13T08:36:06.024075",
     "status": "completed"
    },
    "tags": []
   },
   "source": [
    "### Example (Using Set Operations):"
   ]
  },
  {
   "cell_type": "code",
   "execution_count": 69,
   "id": "5b3fdb2c",
   "metadata": {
    "execution": {
     "iopub.execute_input": "2023-08-13T08:36:06.145857Z",
     "iopub.status.busy": "2023-08-13T08:36:06.144941Z",
     "iopub.status.idle": "2023-08-13T08:36:06.152914Z",
     "shell.execute_reply": "2023-08-13T08:36:06.151681Z"
    },
    "papermill": {
     "duration": 0.051494,
     "end_time": "2023-08-13T08:36:06.155011",
     "exception": false,
     "start_time": "2023-08-13T08:36:06.103517",
     "status": "completed"
    },
    "tags": []
   },
   "outputs": [
    {
     "name": "stdout",
     "output_type": "stream",
     "text": [
      "{1, 2, 3, 4, 5, 6}\n",
      "{3, 4}\n",
      "{1, 2}\n"
     ]
    }
   ],
   "source": [
    "set1 = {1, 2, 3, 4}\n",
    "set2 = {3, 4, 5, 6}\n",
    "\n",
    "union_set = set1.union(set2)\n",
    "intersection_set = set1.intersection(set2)\n",
    "difference_set = set1.difference(set2)\n",
    "\n",
    "print(union_set)        # Output: {1, 2, 3, 4, 5, 6}\n",
    "print(intersection_set) # Output: {3, 4}\n",
    "print(difference_set)   # Output: {1, 2}"
   ]
  },
  {
   "cell_type": "markdown",
   "id": "f920a491",
   "metadata": {
    "papermill": {
     "duration": 0.0395,
     "end_time": "2023-08-13T08:36:06.234642",
     "exception": false,
     "start_time": "2023-08-13T08:36:06.195142",
     "status": "completed"
    },
    "tags": []
   },
   "source": [
    "### Conclusion\n",
    "#### Sets provide a powerful way to work with collections of unique elements and perform set operations efficiently. They are particularly useful for tasks that involve membership testing, deduplication, and mathematical operations."
   ]
  },
  {
   "cell_type": "markdown",
   "id": "21ad8629",
   "metadata": {
    "papermill": {
     "duration": 0.039982,
     "end_time": "2023-08-13T08:36:06.314896",
     "exception": false,
     "start_time": "2023-08-13T08:36:06.274914",
     "status": "completed"
    },
    "tags": []
   },
   "source": [
    "\n",
    "<h1 align=\"left\"><font color='red'>16</font></h1>"
   ]
  },
  {
   "cell_type": "markdown",
   "id": "670aa4e8",
   "metadata": {
    "papermill": {
     "duration": 0.039718,
     "end_time": "2023-08-13T08:36:06.394602",
     "exception": false,
     "start_time": "2023-08-13T08:36:06.354884",
     "status": "completed"
    },
    "tags": []
   },
   "source": [
    "# Chapter 16: Strings and String Methods\n",
    "\n",
    "#### In this chapter, we'll explore strings, one of the most fundamental data types in Python. Strings represent sequences of characters and are used extensively for text manipulation and processing.\n",
    "\n",
    "## Creating Strings\n",
    "\n",
    "#### Strings can be created using single quotes `'`, double quotes `\"`, or triple quotes `\"\"\"` for multi-line strings.\n",
    "\n",
    "#### Example:"
   ]
  },
  {
   "cell_type": "code",
   "execution_count": 70,
   "id": "cf2ad36a",
   "metadata": {
    "execution": {
     "iopub.execute_input": "2023-08-13T08:36:06.477964Z",
     "iopub.status.busy": "2023-08-13T08:36:06.477098Z",
     "iopub.status.idle": "2023-08-13T08:36:06.483901Z",
     "shell.execute_reply": "2023-08-13T08:36:06.482762Z"
    },
    "papermill": {
     "duration": 0.051636,
     "end_time": "2023-08-13T08:36:06.486855",
     "exception": false,
     "start_time": "2023-08-13T08:36:06.435219",
     "status": "completed"
    },
    "tags": []
   },
   "outputs": [
    {
     "name": "stdout",
     "output_type": "stream",
     "text": [
      "Hello, world! Python Programming \n",
      "This is a multi-line\n",
      "string example.\n",
      "\n"
     ]
    }
   ],
   "source": [
    "single_quoted = 'Hello, world!'\n",
    "double_quoted = \"Python Programming\"\n",
    "multi_line = \"\"\"\n",
    "This is a multi-line\n",
    "string example.\n",
    "\"\"\"\n",
    "print(single_quoted,double_quoted,multi_line)"
   ]
  },
  {
   "cell_type": "markdown",
   "id": "d09d3f9e",
   "metadata": {
    "papermill": {
     "duration": 0.040303,
     "end_time": "2023-08-13T08:36:06.571790",
     "exception": false,
     "start_time": "2023-08-13T08:36:06.531487",
     "status": "completed"
    },
    "tags": []
   },
   "source": [
    "## String Methods\n",
    "#### Python provides a wide range of string methods for manipulating and working with strings. Some common string methods include:\n",
    "\n",
    "#### `len()`: Returns the length of a string.\n",
    "#### `lower()`: Converts a string to lowercase.\n",
    "#### `upper()`: Converts a string to uppercase.\n",
    "#### `strip()`: Removes leading and trailing whitespace.\n",
    "#### `split()`: Splits a string into a list of substrings.\n",
    "#### `join()`: Joins elements of a sequence (e.g., list) into a string.\n",
    "### Example (Using String Methods):"
   ]
  },
  {
   "cell_type": "code",
   "execution_count": 71,
   "id": "ce938c5d",
   "metadata": {
    "execution": {
     "iopub.execute_input": "2023-08-13T08:36:06.652351Z",
     "iopub.status.busy": "2023-08-13T08:36:06.651910Z",
     "iopub.status.idle": "2023-08-13T08:36:06.658807Z",
     "shell.execute_reply": "2023-08-13T08:36:06.657651Z"
    },
    "papermill": {
     "duration": 0.050146,
     "end_time": "2023-08-13T08:36:06.661417",
     "exception": false,
     "start_time": "2023-08-13T08:36:06.611271",
     "status": "completed"
    },
    "tags": []
   },
   "outputs": [
    {
     "name": "stdout",
     "output_type": "stream",
     "text": [
      "24\n",
      "   python programming   \n",
      "   PYTHON PROGRAMMING   \n",
      "Python Programming\n",
      "['Python', 'Programming']\n",
      "Python Programming\n"
     ]
    }
   ],
   "source": [
    "text = \"   Python Programming   \"\n",
    "length = len(text)\n",
    "lower_case = text.lower()\n",
    "upper_case = text.upper()\n",
    "stripped = text.strip()\n",
    "words = text.split()\n",
    "joined = \" \".join(words)\n",
    "\n",
    "print(length)       # Output: 23\n",
    "print(lower_case)   # Output: python programming\n",
    "print(upper_case)   # Output: PYTHON PROGRAMMING\n",
    "print(stripped)     # Output: Python Programming\n",
    "print(words)        # Output: ['Python', 'Programming']\n",
    "print(joined)       # Output: Python Programming"
   ]
  },
  {
   "cell_type": "markdown",
   "id": "bcaf8ca3",
   "metadata": {
    "papermill": {
     "duration": 0.039328,
     "end_time": "2023-08-13T08:36:06.742402",
     "exception": false,
     "start_time": "2023-08-13T08:36:06.703074",
     "status": "completed"
    },
    "tags": []
   },
   "source": [
    "## String Formatting\n",
    "#### String formatting allows you to embed variables and values within strings using placeholders or f-strings (formatted string literals).\n",
    "\n",
    "### Example (String Formatting with Placeholders):"
   ]
  },
  {
   "cell_type": "code",
   "execution_count": 72,
   "id": "75d2f80a",
   "metadata": {
    "execution": {
     "iopub.execute_input": "2023-08-13T08:36:06.823377Z",
     "iopub.status.busy": "2023-08-13T08:36:06.822663Z",
     "iopub.status.idle": "2023-08-13T08:36:06.827979Z",
     "shell.execute_reply": "2023-08-13T08:36:06.826801Z"
    },
    "papermill": {
     "duration": 0.048169,
     "end_time": "2023-08-13T08:36:06.830129",
     "exception": false,
     "start_time": "2023-08-13T08:36:06.781960",
     "status": "completed"
    },
    "tags": []
   },
   "outputs": [
    {
     "name": "stdout",
     "output_type": "stream",
     "text": [
      "Hello, Alice! You are 30 years old.\n"
     ]
    }
   ],
   "source": [
    "name = \"Alice\"\n",
    "age = 30\n",
    "greeting = \"Hello, {}! You are {} years old.\".format(name, age)\n",
    "print(greeting)  # Output: Hello, Alice! You are 30 years old."
   ]
  },
  {
   "cell_type": "markdown",
   "id": "016812d5",
   "metadata": {
    "papermill": {
     "duration": 0.039173,
     "end_time": "2023-08-13T08:36:06.909213",
     "exception": false,
     "start_time": "2023-08-13T08:36:06.870040",
     "status": "completed"
    },
    "tags": []
   },
   "source": [
    "### Example (Using f-strings):"
   ]
  },
  {
   "cell_type": "code",
   "execution_count": 73,
   "id": "a7543a8d",
   "metadata": {
    "execution": {
     "iopub.execute_input": "2023-08-13T08:36:06.990193Z",
     "iopub.status.busy": "2023-08-13T08:36:06.989796Z",
     "iopub.status.idle": "2023-08-13T08:36:06.995279Z",
     "shell.execute_reply": "2023-08-13T08:36:06.994247Z"
    },
    "papermill": {
     "duration": 0.048667,
     "end_time": "2023-08-13T08:36:06.997418",
     "exception": false,
     "start_time": "2023-08-13T08:36:06.948751",
     "status": "completed"
    },
    "tags": []
   },
   "outputs": [
    {
     "name": "stdout",
     "output_type": "stream",
     "text": [
      "Hello, Alice! You are 30 years old.\n"
     ]
    }
   ],
   "source": [
    "name = \"Alice\"\n",
    "age = 30\n",
    "greeting = f\"Hello, {name}! You are {age} years old.\"\n",
    "print(greeting)  # Output: Hello, Alice! You are 30 years old."
   ]
  },
  {
   "cell_type": "markdown",
   "id": "8731c824",
   "metadata": {
    "papermill": {
     "duration": 0.039422,
     "end_time": "2023-08-13T08:36:07.076823",
     "exception": false,
     "start_time": "2023-08-13T08:36:07.037401",
     "status": "completed"
    },
    "tags": []
   },
   "source": [
    "## Conclusion\n",
    "#### Strings are essential for text processing and manipulation in Python. Understanding string creation, manipulation, and formatting is crucial for a wide range of programming tasks, from data processing to user interfaces."
   ]
  },
  {
   "cell_type": "markdown",
   "id": "bdf53bab",
   "metadata": {
    "papermill": {
     "duration": 0.039502,
     "end_time": "2023-08-13T08:36:07.156292",
     "exception": false,
     "start_time": "2023-08-13T08:36:07.116790",
     "status": "completed"
    },
    "tags": []
   },
   "source": [
    "\n",
    "<h1 align=\"left\"><font color='red'>17</font></h1>"
   ]
  },
  {
   "cell_type": "markdown",
   "id": "b3244f03",
   "metadata": {
    "papermill": {
     "duration": 0.039846,
     "end_time": "2023-08-13T08:36:07.236195",
     "exception": false,
     "start_time": "2023-08-13T08:36:07.196349",
     "status": "completed"
    },
    "tags": []
   },
   "source": [
    "# Chapter 17: String Formatting\n",
    "\n",
    "#### In this chapter, we'll dive deeper into string formatting techniques in Python. Properly formatted strings are crucial for displaying dynamic and informative output in your programs.\n",
    "\n",
    "## `Using f-strings`\n",
    "\n",
    "### `f-strings` (formatted string literals) provide a concise and convenient way to embed expressions and variables directly within strings. They are introduced by the `f` or `F` prefix and use curly braces `{}` to enclose expressions.\n",
    "\n",
    "#### Example:\n",
    "\n"
   ]
  },
  {
   "cell_type": "code",
   "execution_count": 74,
   "id": "5b27a3b6",
   "metadata": {
    "execution": {
     "iopub.execute_input": "2023-08-13T08:36:07.318394Z",
     "iopub.status.busy": "2023-08-13T08:36:07.317653Z",
     "iopub.status.idle": "2023-08-13T08:36:07.323199Z",
     "shell.execute_reply": "2023-08-13T08:36:07.322027Z"
    },
    "papermill": {
     "duration": 0.049164,
     "end_time": "2023-08-13T08:36:07.325131",
     "exception": false,
     "start_time": "2023-08-13T08:36:07.275967",
     "status": "completed"
    },
    "tags": []
   },
   "outputs": [
    {
     "name": "stdout",
     "output_type": "stream",
     "text": [
      "Hello, Alice! You are 30 years old.\n"
     ]
    }
   ],
   "source": [
    "name = \"Alice\"\n",
    "age = 30\n",
    "greeting = f\"Hello, {name}! You are {age} years old.\"\n",
    "print(greeting)  # Output: Hello, Alice! You are 30 years old."
   ]
  },
  {
   "cell_type": "markdown",
   "id": "aba61d8a",
   "metadata": {
    "papermill": {
     "duration": 0.040731,
     "end_time": "2023-08-13T08:36:07.406262",
     "exception": false,
     "start_time": "2023-08-13T08:36:07.365531",
     "status": "completed"
    },
    "tags": []
   },
   "source": [
    "## `Using str.format()`\n",
    "#### The str.format() method allows you to insert values into placeholders within a string. Placeholders are defined using curly braces {} and can be indexed or named.\n",
    "\n",
    "### Example:"
   ]
  },
  {
   "cell_type": "code",
   "execution_count": 75,
   "id": "c1d2093c",
   "metadata": {
    "execution": {
     "iopub.execute_input": "2023-08-13T08:36:07.488233Z",
     "iopub.status.busy": "2023-08-13T08:36:07.487836Z",
     "iopub.status.idle": "2023-08-13T08:36:07.493677Z",
     "shell.execute_reply": "2023-08-13T08:36:07.492481Z"
    },
    "papermill": {
     "duration": 0.049618,
     "end_time": "2023-08-13T08:36:07.496070",
     "exception": false,
     "start_time": "2023-08-13T08:36:07.446452",
     "status": "completed"
    },
    "tags": []
   },
   "outputs": [
    {
     "name": "stdout",
     "output_type": "stream",
     "text": [
      "Hello, Alice! You are 30 years old.\n"
     ]
    }
   ],
   "source": [
    "name = \"Alice\"\n",
    "age = 30\n",
    "greeting = \"Hello, {}! You are {} years old.\".format(name, age)\n",
    "print(greeting)  # Output: Hello, Alice! You are 30 years old."
   ]
  },
  {
   "cell_type": "markdown",
   "id": "7dcaf0cb",
   "metadata": {
    "papermill": {
     "duration": 0.040819,
     "end_time": "2023-08-13T08:36:07.577685",
     "exception": false,
     "start_time": "2023-08-13T08:36:07.536866",
     "status": "completed"
    },
    "tags": []
   },
   "source": [
    "## `Formatting Options`\n",
    "#### Both f-strings and str.format() provide various formatting options to control the appearance of the inserted values, such as precision for floating-point numbers and alignment.\n",
    "\n",
    "### Example (Formatting Options):"
   ]
  },
  {
   "cell_type": "markdown",
   "id": "6adf7874",
   "metadata": {
    "papermill": {
     "duration": 0.040021,
     "end_time": "2023-08-13T08:36:07.657532",
     "exception": false,
     "start_time": "2023-08-13T08:36:07.617511",
     "status": "completed"
    },
    "tags": []
   },
   "source": [
    "## `Alignment and Width`\n",
    "#### You can use formatting options to align values within a certain width. This is useful for creating neatly formatted tables or columns.\n",
    "\n",
    "### Example (Alignment and Width):"
   ]
  },
  {
   "cell_type": "code",
   "execution_count": 76,
   "id": "95c2d91e",
   "metadata": {
    "execution": {
     "iopub.execute_input": "2023-08-13T08:36:07.741388Z",
     "iopub.status.busy": "2023-08-13T08:36:07.740990Z",
     "iopub.status.idle": "2023-08-13T08:36:07.746408Z",
     "shell.execute_reply": "2023-08-13T08:36:07.745367Z"
    },
    "papermill": {
     "duration": 0.050521,
     "end_time": "2023-08-13T08:36:07.748839",
     "exception": false,
     "start_time": "2023-08-13T08:36:07.698318",
     "status": "completed"
    },
    "tags": []
   },
   "outputs": [
    {
     "name": "stdout",
     "output_type": "stream",
     "text": [
      "Apple     \n",
      "Banana    \n",
      "Cherry    \n",
      "Orange    \n"
     ]
    }
   ],
   "source": [
    "items = [\"Apple\", \"Banana\", \"Cherry\", \"Orange\"]\n",
    "for item in items:\n",
    "    print(f\"{item:10}\")  # Output: Apple     \n",
    "                         #         Banana    \n",
    "                         #         Cherry    \n",
    "                         #         Orange"
   ]
  },
  {
   "cell_type": "markdown",
   "id": "c4e6dd73",
   "metadata": {
    "papermill": {
     "duration": 0.039761,
     "end_time": "2023-08-13T08:36:07.830664",
     "exception": false,
     "start_time": "2023-08-13T08:36:07.790903",
     "status": "completed"
    },
    "tags": []
   },
   "source": [
    "### `Conclusion`\n",
    "#### Properly formatted strings are essential for presenting data effectively in your Python programs. Whether you choose f-strings or the str.format() method, understanding string formatting options allows you to create well-structured and informative output.\n",
    "\n",
    "#### In the upcoming chapters, we'll continue to explore more advanced string techniques and other programming concepts to further enhance your Python programming skills."
   ]
  },
  {
   "cell_type": "markdown",
   "id": "0c1bb0bb",
   "metadata": {
    "papermill": {
     "duration": 0.039673,
     "end_time": "2023-08-13T08:36:07.911140",
     "exception": false,
     "start_time": "2023-08-13T08:36:07.871467",
     "status": "completed"
    },
    "tags": []
   },
   "source": [
    "\n",
    "<h1 align=\"left\"><font color='red'>18</font></h1>"
   ]
  },
  {
   "cell_type": "markdown",
   "id": "61ae1c4a",
   "metadata": {
    "papermill": {
     "duration": 0.040212,
     "end_time": "2023-08-13T08:36:07.991506",
     "exception": false,
     "start_time": "2023-08-13T08:36:07.951294",
     "status": "completed"
    },
    "tags": []
   },
   "source": [
    "# Chapter 18: Conditional Expressions (Ternary Operators)\n",
    "\n",
    "#### In this chapter, we'll explore conditional expressions, also known as ternary operators, which provide a concise way to write simple conditional statements.\n",
    "\n",
    "## Conditional Expressions\n",
    "\n",
    "#### Conditional expressions, also called ternary operators, allow you to write a conditional statement in a single line. The syntax is: `value_if_true if condition else value_if_false`.\n",
    "\n",
    "#### Example:"
   ]
  },
  {
   "cell_type": "code",
   "execution_count": 77,
   "id": "4d2a0657",
   "metadata": {
    "execution": {
     "iopub.execute_input": "2023-08-13T08:36:08.073776Z",
     "iopub.status.busy": "2023-08-13T08:36:08.073374Z",
     "iopub.status.idle": "2023-08-13T08:36:08.079237Z",
     "shell.execute_reply": "2023-08-13T08:36:08.077914Z"
    },
    "papermill": {
     "duration": 0.049672,
     "end_time": "2023-08-13T08:36:08.081515",
     "exception": false,
     "start_time": "2023-08-13T08:36:08.031843",
     "status": "completed"
    },
    "tags": []
   },
   "outputs": [
    {
     "name": "stdout",
     "output_type": "stream",
     "text": [
      "Adult\n"
     ]
    }
   ],
   "source": [
    "age = 18\n",
    "status = \"Adult\" if age >= 18 else \"Minor\"\n",
    "print(status)  # Output: Adult"
   ]
  },
  {
   "cell_type": "markdown",
   "id": "85e7802d",
   "metadata": {
    "papermill": {
     "duration": 0.03969,
     "end_time": "2023-08-13T08:36:08.162106",
     "exception": false,
     "start_time": "2023-08-13T08:36:08.122416",
     "status": "completed"
    },
    "tags": []
   },
   "source": [
    "## Benefits of Ternary Operators\n",
    "#### Ternary operators offer a compact way to express simple conditional logic. They can enhance code readability when used appropriately and avoid the need for longer if statements.\n",
    "\n",
    "### Example (Without Ternary Operator):"
   ]
  },
  {
   "cell_type": "code",
   "execution_count": 78,
   "id": "71c2c320",
   "metadata": {
    "execution": {
     "iopub.execute_input": "2023-08-13T08:36:08.243613Z",
     "iopub.status.busy": "2023-08-13T08:36:08.243249Z",
     "iopub.status.idle": "2023-08-13T08:36:08.248399Z",
     "shell.execute_reply": "2023-08-13T08:36:08.247446Z"
    },
    "papermill": {
     "duration": 0.048826,
     "end_time": "2023-08-13T08:36:08.250945",
     "exception": false,
     "start_time": "2023-08-13T08:36:08.202119",
     "status": "completed"
    },
    "tags": []
   },
   "outputs": [
    {
     "name": "stdout",
     "output_type": "stream",
     "text": [
      "Adult\n"
     ]
    }
   ],
   "source": [
    "age = 18\n",
    "if age >= 18:\n",
    "    status = \"Adult\"\n",
    "else:\n",
    "    status = \"Minor\"\n",
    "print(status)  # Output: Adult\n"
   ]
  },
  {
   "cell_type": "markdown",
   "id": "f3676298",
   "metadata": {
    "papermill": {
     "duration": 0.039911,
     "end_time": "2023-08-13T08:36:08.331101",
     "exception": false,
     "start_time": "2023-08-13T08:36:08.291190",
     "status": "completed"
    },
    "tags": []
   },
   "source": [
    "## Using Ternary Operators Effectively\n",
    "#### While ternary operators are useful for simple conditions, be cautious not to overuse them. Complex conditions or multiple statements are better suited for traditional if statements for clarity.\n",
    "\n",
    "### Example (Multiple Ternary Operators):"
   ]
  },
  {
   "cell_type": "code",
   "execution_count": 79,
   "id": "c2c8cef2",
   "metadata": {
    "execution": {
     "iopub.execute_input": "2023-08-13T08:36:08.413431Z",
     "iopub.status.busy": "2023-08-13T08:36:08.412692Z",
     "iopub.status.idle": "2023-08-13T08:36:08.418624Z",
     "shell.execute_reply": "2023-08-13T08:36:08.417625Z"
    },
    "papermill": {
     "duration": 0.049792,
     "end_time": "2023-08-13T08:36:08.421006",
     "exception": false,
     "start_time": "2023-08-13T08:36:08.371214",
     "status": "completed"
    },
    "tags": []
   },
   "outputs": [
    {
     "name": "stdout",
     "output_type": "stream",
     "text": [
      "Even\n",
      "Positive\n"
     ]
    }
   ],
   "source": [
    "x = 10\n",
    "result = \"Even\" if x % 2 == 0 else \"Odd\"\n",
    "parity = \"Positive\" if x > 0 else \"Negative\" if x < 0 else \"Zero\"\n",
    "print(result)  # Output: Even\n",
    "print(parity)  # Output: Positive\n"
   ]
  },
  {
   "cell_type": "markdown",
   "id": "4856563a",
   "metadata": {
    "papermill": {
     "duration": 0.040144,
     "end_time": "2023-08-13T08:36:08.501825",
     "exception": false,
     "start_time": "2023-08-13T08:36:08.461681",
     "status": "completed"
    },
    "tags": []
   },
   "source": [
    "## Nested Ternary Operators\n",
    "#### Ternary operators can be nested, but it's important to maintain readability. Excessive nesting can make code difficult to understand.\n",
    "\n",
    "### Example (Nested Ternary Operators):"
   ]
  },
  {
   "cell_type": "code",
   "execution_count": 80,
   "id": "dc61253a",
   "metadata": {
    "execution": {
     "iopub.execute_input": "2023-08-13T08:36:08.585624Z",
     "iopub.status.busy": "2023-08-13T08:36:08.585263Z",
     "iopub.status.idle": "2023-08-13T08:36:08.591222Z",
     "shell.execute_reply": "2023-08-13T08:36:08.590042Z"
    },
    "papermill": {
     "duration": 0.050834,
     "end_time": "2023-08-13T08:36:08.593759",
     "exception": false,
     "start_time": "2023-08-13T08:36:08.542925",
     "status": "completed"
    },
    "tags": []
   },
   "outputs": [
    {
     "name": "stdout",
     "output_type": "stream",
     "text": [
      "Even\n"
     ]
    }
   ],
   "source": [
    "x = 10\n",
    "parity = \"Even\" if x % 2 == 0 else (\"Positive\" if x > 0 else \"Negative\")\n",
    "print(parity)  # Output: Even\n"
   ]
  },
  {
   "cell_type": "markdown",
   "id": "1c36435e",
   "metadata": {
    "papermill": {
     "duration": 0.040551,
     "end_time": "2023-08-13T08:36:08.675778",
     "exception": false,
     "start_time": "2023-08-13T08:36:08.635227",
     "status": "completed"
    },
    "tags": []
   },
   "source": [
    "## Conclusion\n",
    "#### Conditional expressions, or ternary operators, provide a concise and readable way to handle simple conditional logic in Python. They are particularly useful for assigning values based on conditions in a single line of code."
   ]
  },
  {
   "cell_type": "markdown",
   "id": "726776fc",
   "metadata": {
    "papermill": {
     "duration": 0.041372,
     "end_time": "2023-08-13T08:36:08.759645",
     "exception": false,
     "start_time": "2023-08-13T08:36:08.718273",
     "status": "completed"
    },
    "tags": []
   },
   "source": [
    "\n",
    "<h1 align=\"left\"><font color='red'>19</font></h1>"
   ]
  },
  {
   "cell_type": "markdown",
   "id": "2986c90a",
   "metadata": {
    "papermill": {
     "duration": 0.041575,
     "end_time": "2023-08-13T08:36:08.842474",
     "exception": false,
     "start_time": "2023-08-13T08:36:08.800899",
     "status": "completed"
    },
    "tags": []
   },
   "source": [
    "# Chapter 19: List Comprehensions\n",
    "\n",
    "#### In this chapter, we'll explore list comprehensions, a concise and expressive way to create lists in Python.\n",
    "\n",
    "## Basic List Comprehensions\n",
    "\n",
    "#### List comprehensions allow you to create new lists by specifying the elements you want to include. The basic syntax is: `[expression for item in iterable]`.\n",
    "\n",
    "### Example:\n"
   ]
  },
  {
   "cell_type": "code",
   "execution_count": 81,
   "id": "3affc83f",
   "metadata": {
    "execution": {
     "iopub.execute_input": "2023-08-13T08:36:08.926123Z",
     "iopub.status.busy": "2023-08-13T08:36:08.925755Z",
     "iopub.status.idle": "2023-08-13T08:36:08.930402Z",
     "shell.execute_reply": "2023-08-13T08:36:08.929780Z"
    },
    "papermill": {
     "duration": 0.048553,
     "end_time": "2023-08-13T08:36:08.932655",
     "exception": false,
     "start_time": "2023-08-13T08:36:08.884102",
     "status": "completed"
    },
    "tags": []
   },
   "outputs": [
    {
     "name": "stdout",
     "output_type": "stream",
     "text": [
      "[1, 4, 9, 16, 25]\n"
     ]
    }
   ],
   "source": [
    "numbers = [1, 2, 3, 4, 5]\n",
    "squared = [x ** 2 for x in numbers]\n",
    "print(squared)  # Output: [1, 4, 9, 16, 25]"
   ]
  },
  {
   "cell_type": "markdown",
   "id": "fec6ecc7",
   "metadata": {
    "papermill": {
     "duration": 0.039718,
     "end_time": "2023-08-13T08:36:09.013009",
     "exception": false,
     "start_time": "2023-08-13T08:36:08.973291",
     "status": "completed"
    },
    "tags": []
   },
   "source": [
    "## `List Comprehensions with Conditionals`\n",
    "#### List comprehensions can also include conditional statements to filter elements. The syntax is: [expression for item in iterable if condition].\n",
    "\n",
    "### Example:"
   ]
  },
  {
   "cell_type": "code",
   "execution_count": 82,
   "id": "c1d91966",
   "metadata": {
    "execution": {
     "iopub.execute_input": "2023-08-13T08:36:09.095305Z",
     "iopub.status.busy": "2023-08-13T08:36:09.094931Z",
     "iopub.status.idle": "2023-08-13T08:36:09.099632Z",
     "shell.execute_reply": "2023-08-13T08:36:09.098964Z"
    },
    "papermill": {
     "duration": 0.048126,
     "end_time": "2023-08-13T08:36:09.101393",
     "exception": false,
     "start_time": "2023-08-13T08:36:09.053267",
     "status": "completed"
    },
    "tags": []
   },
   "outputs": [
    {
     "name": "stdout",
     "output_type": "stream",
     "text": [
      "[4, 16]\n"
     ]
    }
   ],
   "source": [
    "numbers = [1, 2, 3, 4, 5]\n",
    "even_squared = [x ** 2 for x in numbers if x % 2 == 0]\n",
    "print(even_squared)  # Output: [4, 16]\n"
   ]
  },
  {
   "cell_type": "markdown",
   "id": "96a574b0",
   "metadata": {
    "papermill": {
     "duration": 0.04036,
     "end_time": "2023-08-13T08:36:09.182361",
     "exception": false,
     "start_time": "2023-08-13T08:36:09.142001",
     "status": "completed"
    },
    "tags": []
   },
   "source": [
    "## `Multiple Conditionals`\n",
    "#### You can use multiple conditionals to create more complex list comprehensions. The order of conditionals matters, and you can use logical operators (and, or) to combine conditions.\n",
    "\n",
    "### Example (Multiple Conditionals):"
   ]
  },
  {
   "cell_type": "code",
   "execution_count": 83,
   "id": "ca1cd2d2",
   "metadata": {
    "execution": {
     "iopub.execute_input": "2023-08-13T08:36:09.264912Z",
     "iopub.status.busy": "2023-08-13T08:36:09.264495Z",
     "iopub.status.idle": "2023-08-13T08:36:09.270904Z",
     "shell.execute_reply": "2023-08-13T08:36:09.269757Z"
    },
    "papermill": {
     "duration": 0.050285,
     "end_time": "2023-08-13T08:36:09.273153",
     "exception": false,
     "start_time": "2023-08-13T08:36:09.222868",
     "status": "completed"
    },
    "tags": []
   },
   "outputs": [
    {
     "name": "stdout",
     "output_type": "stream",
     "text": [
      "[6, 8, 10]\n"
     ]
    }
   ],
   "source": [
    "numbers = [1, 2, 3, 4, 5, 6, 7, 8, 9, 10]\n",
    "filtered = [x for x in numbers if x % 2 == 0 and x > 5]\n",
    "print(filtered)  # Output: [6, 8, 10]\n"
   ]
  },
  {
   "cell_type": "markdown",
   "id": "20d26e8e",
   "metadata": {
    "papermill": {
     "duration": 0.040289,
     "end_time": "2023-08-13T08:36:09.354031",
     "exception": false,
     "start_time": "2023-08-13T08:36:09.313742",
     "status": "completed"
    },
    "tags": []
   },
   "source": [
    "## `Nested List Comprehensions`\n",
    "#### List comprehensions can also be nested for more advanced operations. However, be cautious not to sacrifice readability for complexity.\n",
    "\n",
    "### Example (Nested List Comprehensions):"
   ]
  },
  {
   "cell_type": "code",
   "execution_count": 84,
   "id": "8c396622",
   "metadata": {
    "execution": {
     "iopub.execute_input": "2023-08-13T08:36:09.437579Z",
     "iopub.status.busy": "2023-08-13T08:36:09.437155Z",
     "iopub.status.idle": "2023-08-13T08:36:09.444105Z",
     "shell.execute_reply": "2023-08-13T08:36:09.442641Z"
    },
    "papermill": {
     "duration": 0.051195,
     "end_time": "2023-08-13T08:36:09.446042",
     "exception": false,
     "start_time": "2023-08-13T08:36:09.394847",
     "status": "completed"
    },
    "tags": []
   },
   "outputs": [
    {
     "name": "stdout",
     "output_type": "stream",
     "text": [
      "[1, 2, 3, 4, 5, 6, 7, 8, 9]\n"
     ]
    }
   ],
   "source": [
    "matrix = [[1, 2, 3], [4, 5, 6], [7, 8, 9]]\n",
    "flattened = [x for row in matrix for x in row]\n",
    "print(flattened)  # Output: [1, 2, 3, 4, 5, 6, 7, 8, 9]\n"
   ]
  },
  {
   "cell_type": "markdown",
   "id": "44f88cd3",
   "metadata": {
    "papermill": {
     "duration": 0.040094,
     "end_time": "2023-08-13T08:36:09.526654",
     "exception": false,
     "start_time": "2023-08-13T08:36:09.486560",
     "status": "completed"
    },
    "tags": []
   },
   "source": [
    "## Conclusion\n",
    "#### List comprehensions provide a concise and elegant way to create lists and perform transformations on existing lists. They can significantly simplify your code and make it more readable, especially for cases involving iteration and filtering."
   ]
  },
  {
   "cell_type": "markdown",
   "id": "db207cb2",
   "metadata": {
    "papermill": {
     "duration": 0.040919,
     "end_time": "2023-08-13T08:36:09.608092",
     "exception": false,
     "start_time": "2023-08-13T08:36:09.567173",
     "status": "completed"
    },
    "tags": []
   },
   "source": [
    "\n",
    "<h1 align=\"left\"><font color='red'>20</font></h1>"
   ]
  },
  {
   "cell_type": "markdown",
   "id": "1e8f0dd3",
   "metadata": {
    "papermill": {
     "duration": 0.040131,
     "end_time": "2023-08-13T08:36:09.689217",
     "exception": false,
     "start_time": "2023-08-13T08:36:09.649086",
     "status": "completed"
    },
    "tags": []
   },
   "source": [
    "# Chapter 20: Generators and Iterators\n",
    "\n",
    "#### In this chapter, we'll explore generators and iterators, which provide memory-efficient ways to create and iterate over sequences of values in Python.\n",
    "\n",
    "## Creating Generators\n",
    "\n",
    "#### Generators are a type of iterable in Python that allow you to lazily produce values on-the-fly, without storing them in memory. They are created using functions with the `yield` keyword.\n",
    "\n",
    "#### Example (Creating a Generator):\n"
   ]
  },
  {
   "cell_type": "code",
   "execution_count": 85,
   "id": "f2e1e612",
   "metadata": {
    "execution": {
     "iopub.execute_input": "2023-08-13T08:36:09.773882Z",
     "iopub.status.busy": "2023-08-13T08:36:09.773142Z",
     "iopub.status.idle": "2023-08-13T08:36:09.780402Z",
     "shell.execute_reply": "2023-08-13T08:36:09.779323Z"
    },
    "papermill": {
     "duration": 0.051141,
     "end_time": "2023-08-13T08:36:09.782575",
     "exception": false,
     "start_time": "2023-08-13T08:36:09.731434",
     "status": "completed"
    },
    "tags": []
   },
   "outputs": [
    {
     "name": "stdout",
     "output_type": "stream",
     "text": [
      "1\n",
      "2\n",
      "3\n",
      "4\n",
      "5\n"
     ]
    }
   ],
   "source": [
    "def count_up_to(limit):\n",
    "    num = 1\n",
    "    while num <= limit:\n",
    "        yield num\n",
    "        num += 1\n",
    "\n",
    "numbers = count_up_to(5)\n",
    "for num in numbers:\n",
    "    print(num)  # Output: 1, 2, 3, 4, 5"
   ]
  },
  {
   "cell_type": "markdown",
   "id": "292956fb",
   "metadata": {
    "papermill": {
     "duration": 0.040264,
     "end_time": "2023-08-13T08:36:09.863582",
     "exception": false,
     "start_time": "2023-08-13T08:36:09.823318",
     "status": "completed"
    },
    "tags": []
   },
   "source": [
    "## Using the yield Keyword\n",
    "#### The yield keyword is used within a generator function to yield values one at a time. When a generator function is called, it returns a generator object that can be iterated over using a loop or other iterable methods.\n",
    "\n",
    "### Example (Using yield):"
   ]
  },
  {
   "cell_type": "code",
   "execution_count": 86,
   "id": "c1ad3af6",
   "metadata": {
    "execution": {
     "iopub.execute_input": "2023-08-13T08:36:09.946346Z",
     "iopub.status.busy": "2023-08-13T08:36:09.945969Z",
     "iopub.status.idle": "2023-08-13T08:36:09.952100Z",
     "shell.execute_reply": "2023-08-13T08:36:09.950600Z"
    },
    "papermill": {
     "duration": 0.050178,
     "end_time": "2023-08-13T08:36:09.954392",
     "exception": false,
     "start_time": "2023-08-13T08:36:09.904214",
     "status": "completed"
    },
    "tags": []
   },
   "outputs": [
    {
     "name": "stdout",
     "output_type": "stream",
     "text": [
      "3\n",
      "2\n",
      "1\n"
     ]
    }
   ],
   "source": [
    "def countdown(start):\n",
    "    while start > 0:\n",
    "        yield start\n",
    "        start -= 1\n",
    "\n",
    "count = countdown(3)\n",
    "for num in count:\n",
    "    print(num)  # Output: 3, 2, 1"
   ]
  },
  {
   "cell_type": "markdown",
   "id": "0c422278",
   "metadata": {
    "papermill": {
     "duration": 0.041728,
     "end_time": "2023-08-13T08:36:10.038172",
     "exception": false,
     "start_time": "2023-08-13T08:36:09.996444",
     "status": "completed"
    },
    "tags": []
   },
   "source": [
    "## Memory Efficiency\n",
    "#### Generators are memory-efficient because they produce values on-the-fly and do not store the entire sequence in memory. This makes them suitable for working with large datasets or infinite sequences.\n",
    "\n",
    "## Generator Expressions\n",
    "#### Generator expressions are similar to list comprehensions but create generators instead of lists. They are created using parentheses () instead of brackets [].\n",
    "\n",
    "## Example (Generator Expression):"
   ]
  },
  {
   "cell_type": "code",
   "execution_count": 87,
   "id": "ee878a26",
   "metadata": {
    "execution": {
     "iopub.execute_input": "2023-08-13T08:36:10.122283Z",
     "iopub.status.busy": "2023-08-13T08:36:10.120431Z",
     "iopub.status.idle": "2023-08-13T08:36:10.126855Z",
     "shell.execute_reply": "2023-08-13T08:36:10.125789Z"
    },
    "papermill": {
     "duration": 0.05041,
     "end_time": "2023-08-13T08:36:10.129143",
     "exception": false,
     "start_time": "2023-08-13T08:36:10.078733",
     "status": "completed"
    },
    "tags": []
   },
   "outputs": [
    {
     "name": "stdout",
     "output_type": "stream",
     "text": [
      "1\n",
      "4\n",
      "9\n",
      "16\n",
      "25\n"
     ]
    }
   ],
   "source": [
    "squares = (x ** 2 for x in range(1, 6))\n",
    "for square in squares:\n",
    "    print(square)  # Output: 1, 4, 9, 16, 25"
   ]
  },
  {
   "cell_type": "markdown",
   "id": "e810ba91",
   "metadata": {
    "papermill": {
     "duration": 0.040461,
     "end_time": "2023-08-13T08:36:10.210559",
     "exception": false,
     "start_time": "2023-08-13T08:36:10.170098",
     "status": "completed"
    },
    "tags": []
   },
   "source": [
    "## Conclusion\n",
    "#### Generators and iterators provide a powerful mechanism for working with sequences of values, especially when memory efficiency is a concern. They allow you to generate and process values on-the-fly without loading the entire sequence into memory."
   ]
  }
 ],
 "metadata": {
  "kernelspec": {
   "display_name": "Python 3",
   "language": "python",
   "name": "python3"
  },
  "language_info": {
   "codemirror_mode": {
    "name": "ipython",
    "version": 3
   },
   "file_extension": ".py",
   "mimetype": "text/x-python",
   "name": "python",
   "nbconvert_exporter": "python",
   "pygments_lexer": "ipython3",
   "version": "3.10.12"
  },
  "papermill": {
   "default_parameters": {},
   "duration": 28.189038,
   "end_time": "2023-08-13T08:36:11.072327",
   "environment_variables": {},
   "exception": null,
   "input_path": "__notebook__.ipynb",
   "output_path": "__notebook__.ipynb",
   "parameters": {},
   "start_time": "2023-08-13T08:35:42.883289",
   "version": "2.4.0"
  }
 },
 "nbformat": 4,
 "nbformat_minor": 5
}
