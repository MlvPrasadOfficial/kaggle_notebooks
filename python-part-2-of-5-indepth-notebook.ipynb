{
 "cells": [
  {
   "cell_type": "markdown",
   "id": "3a05fd10",
   "metadata": {
    "_cell_guid": "b1076dfc-b9ad-4769-8c92-a6c4dae69d19",
    "_uuid": "8f2839f25d086af736a60e9eeb907d3b93b6e0e5",
    "papermill": {
     "duration": 0.02213,
     "end_time": "2023-08-13T19:29:20.614420",
     "exception": false,
     "start_time": "2023-08-13T19:29:20.592290",
     "status": "completed"
    },
    "tags": []
   },
   "source": [
    "![mlv prasad](https://github.com/MlvPrasadOfficial/pycharmkaggle/raw/master/Black%20and%20Ivory%20Modern%20Name%20YouTube%20Channel%20Art.png)\n"
   ]
  },
  {
   "cell_type": "markdown",
   "id": "97412516",
   "metadata": {
    "execution": {
     "iopub.execute_input": "2023-08-13T18:50:32.681017Z",
     "iopub.status.busy": "2023-08-13T18:50:32.680590Z",
     "iopub.status.idle": "2023-08-13T18:50:33.712599Z",
     "shell.execute_reply": "2023-08-13T18:50:33.711515Z",
     "shell.execute_reply.started": "2023-08-13T18:50:32.680981Z"
    },
    "papermill": {
     "duration": 0.022024,
     "end_time": "2023-08-13T19:29:20.658467",
     "exception": false,
     "start_time": "2023-08-13T19:29:20.636443",
     "status": "completed"
    },
    "tags": []
   },
   "source": [
    "![mlv prasad](https://github.com/MlvPrasadOfficial/kaggle_notebooks/raw/main/CANVAPYTHON/N2.png)"
   ]
  },
  {
   "cell_type": "markdown",
   "id": "b6a7acaf",
   "metadata": {
    "papermill": {
     "duration": 0.022283,
     "end_time": "2023-08-13T19:29:20.702311",
     "exception": false,
     "start_time": "2023-08-13T19:29:20.680028",
     "status": "completed"
    },
    "tags": []
   },
   "source": [
    "<h1 align=\"left\"><font color='red'>PART 2 OF 5</font></h1>"
   ]
  },
  {
   "cell_type": "markdown",
   "id": "0ee69008",
   "metadata": {
    "papermill": {
     "duration": 0.022053,
     "end_time": "2023-08-13T19:29:20.746957",
     "exception": false,
     "start_time": "2023-08-13T19:29:20.724904",
     "status": "completed"
    },
    "tags": []
   },
   "source": [
    "## 21. Exception Handling\n",
    "*  try and except Blocks\n",
    "*  Handling Multiple Exceptions\n",
    "    \n",
    "## 22. User-Defined Exceptions\n",
    "*  Creating Custom Exceptions\n",
    "*   Handling Custom Exceptions\n",
    "\n",
    "## 23. File Handling: Reading and Writing\n",
    "*   Opening and Closing Files\n",
    "*  Reading Text Files\n",
    "*   Writing Text Files\n",
    "\n",
    "## 24. Context Managers (with statements)\n",
    "*  Using the with Statement\n",
    "*   Creating Custom Context Managers\n",
    "\n",
    "<h1 align=\"left\"><font color='red'>Object-Oriented Programming (OOP)</font></h1>\n",
    "\n",
    "\n",
    "## 25. Object-Oriented Programming Basics\n",
    "\n",
    "## 26. Classes and Objects\n",
    "*   Attributes and Methods\n",
    "*   Instance Attributes\n",
    "*   Class Attributes\n",
    "*  Methods\n",
    "    \n",
    "## 27. Constructors and Destructors\n",
    "*   The __init__ Constructor\n",
    "*   The __del__ Destructor\n",
    "    \n",
    "## 28. Inheritance and Subclasses\n",
    "*   Creating Subclasses\n",
    "*   Overriding Methods\n",
    "    \n",
    "## 29. Method Overriding\n",
    "\n",
    "## 30. Multiple Inheritance\n",
    "\n",
    "## 31. Encapsulation and Access Modifiers\n",
    "*  Access Modifiers\n",
    "*   Properties and Getters/Setters\n",
    "\n",
    "## 32. Abstract Classes and Interfaces\n",
    "## 33. Polymorphism and Duck Typing\n",
    "## 34. Magic Methods and Operator Overloading\n",
    "## 35. Lambda Functions\n",
    "## 36. Map, Filter, and Reduce\n",
    "## 37. Decorators\n",
    "## 38. Iterables and Iterators\n",
    "## 39. Generators and the yield Keyword\n",
    "## 40. List Comprehensions vs. Generators\n"
   ]
  },
  {
   "cell_type": "markdown",
   "id": "dfc995b5",
   "metadata": {
    "papermill": {
     "duration": 0.021763,
     "end_time": "2023-08-13T19:29:20.791737",
     "exception": false,
     "start_time": "2023-08-13T19:29:20.769974",
     "status": "completed"
    },
    "tags": []
   },
   "source": [
    "\n",
    "<h1 align=\"left\"><font color='red'>21</font></h1>\n"
   ]
  },
  {
   "cell_type": "markdown",
   "id": "f18e6a3f",
   "metadata": {
    "papermill": {
     "duration": 0.022008,
     "end_time": "2023-08-13T19:29:20.835834",
     "exception": false,
     "start_time": "2023-08-13T19:29:20.813826",
     "status": "completed"
    },
    "tags": []
   },
   "source": [
    "# `Chapter 21`: `Exception Handling`\n",
    "\n",
    "#### In this chapter, we'll explore exception handling in Python, which allows you to gracefully handle errors and exceptions that may occur during program execution.\n",
    "\n",
    "## `try and except Blocks` :\n",
    "\n",
    "#### Exception handling in Python is achieved using the `try` and `except` blocks. Code that might raise an exception is placed within the `try` block, and the handling of the exception is defined in the corresponding `except` block.\n",
    "\n",
    "### `Example (Using try and except)`:"
   ]
  },
  {
   "cell_type": "markdown",
   "id": "719816b0",
   "metadata": {
    "papermill": {
     "duration": 0.027469,
     "end_time": "2023-08-13T19:29:20.886683",
     "exception": false,
     "start_time": "2023-08-13T19:29:20.859214",
     "status": "completed"
    },
    "tags": []
   },
   "source": [
    "```python\n",
    "try:\n",
    "    num = int(input(\"Enter a number: \"))\n",
    "    result = 10 / num\n",
    "    print(\"Result:\", result)\n",
    "except ZeroDivisionError:\n",
    "    print(\"Error: Cannot divide by zero.\")\n",
    "except ValueError:\n",
    "    print(\"Error: Invalid input. Please enter a valid number.\")\n",
    " ```"
   ]
  },
  {
   "cell_type": "markdown",
   "id": "9f99e49b",
   "metadata": {
    "papermill": {
     "duration": 0.02615,
     "end_time": "2023-08-13T19:29:20.939137",
     "exception": false,
     "start_time": "2023-08-13T19:29:20.912987",
     "status": "completed"
    },
    "tags": []
   },
   "source": [
    "## `Handling Multiple Exceptions`\n",
    "#### You can handle multiple exceptions by including multiple except blocks. The first matching except block will handle the exception.\n",
    "\n",
    "### Example (Handling Multiple Exceptions):"
   ]
  },
  {
   "cell_type": "markdown",
   "id": "bc2c6aec",
   "metadata": {
    "papermill": {
     "duration": 0.025146,
     "end_time": "2023-08-13T19:29:20.991020",
     "exception": false,
     "start_time": "2023-08-13T19:29:20.965874",
     "status": "completed"
    },
    "tags": []
   },
   "source": [
    "```python\n",
    "try:\n",
    "    num = int(input(\"Enter a number: \"))\n",
    "    result = 10 / num\n",
    "    print(\"Result:\", result)\n",
    "except ZeroDivisionError:\n",
    "    print(\"Error: Cannot divide by zero.\")\n",
    "except ValueError:\n",
    "    print(\"Error: Invalid input. Please enter a valid number.\")\n",
    "except Exception as e:\n",
    "    print(\"An error occurred:\", e)\n",
    " \n",
    " ```\n"
   ]
  },
  {
   "cell_type": "markdown",
   "id": "10438e39",
   "metadata": {
    "papermill": {
     "duration": 0.025923,
     "end_time": "2023-08-13T19:29:21.043675",
     "exception": false,
     "start_time": "2023-08-13T19:29:21.017752",
     "status": "completed"
    },
    "tags": []
   },
   "source": [
    "## `Handling All Exceptions`\n",
    "#### To handle all types of exceptions, you can use a generic except block without specifying the exception type. However, this should be used with caution, as it may catch unexpected errors.\n",
    "\n",
    "### Example (Handling All Exceptions):"
   ]
  },
  {
   "cell_type": "markdown",
   "id": "6ec754cd",
   "metadata": {
    "papermill": {
     "duration": 0.02374,
     "end_time": "2023-08-13T19:29:21.091596",
     "exception": false,
     "start_time": "2023-08-13T19:29:21.067856",
     "status": "completed"
    },
    "tags": []
   },
   "source": [
    "```python\n",
    "try:\n",
    "    num = int(input(\"Enter a number: \"))\n",
    "    result = 10 / num\n",
    "    print(\"Result:\", result)\n",
    "except Exception as e:\n",
    "    print(\"An error occurred:\", e)\n",
    "```"
   ]
  },
  {
   "cell_type": "markdown",
   "id": "0a664d5d",
   "metadata": {
    "papermill": {
     "duration": 0.022361,
     "end_time": "2023-08-13T19:29:21.138796",
     "exception": false,
     "start_time": "2023-08-13T19:29:21.116435",
     "status": "completed"
    },
    "tags": []
   },
   "source": [
    "## `finally Block`\n",
    "#### You can use the finally block to define code that will be executed regardless of whether an exception occurs or not. This is useful for cleanup operations.\n",
    "\n",
    "## Example (finally Block):"
   ]
  },
  {
   "cell_type": "markdown",
   "id": "1ad1d27f",
   "metadata": {
    "papermill": {
     "duration": 0.022398,
     "end_time": "2023-08-13T19:29:21.183629",
     "exception": false,
     "start_time": "2023-08-13T19:29:21.161231",
     "status": "completed"
    },
    "tags": []
   },
   "source": [
    "```python\n",
    "try:\n",
    "    file = open(\"example.txt\", \"r\")\n",
    "    content = file.read()\n",
    "    print(\"File content:\", content)\n",
    "except FileNotFoundError:\n",
    "    print(\"Error: File not found.\")\n",
    "finally:\n",
    "    file.close()\n",
    "```"
   ]
  },
  {
   "cell_type": "markdown",
   "id": "e8dc3f0c",
   "metadata": {
    "papermill": {
     "duration": 0.022376,
     "end_time": "2023-08-13T19:29:21.233754",
     "exception": false,
     "start_time": "2023-08-13T19:29:21.211378",
     "status": "completed"
    },
    "tags": []
   },
   "source": [
    "### `Conclusion`\n",
    "#### Exception handling allows you to write robust and reliable code by gracefully handling errors that may arise during program execution. The try and except blocks provide a structured way to handle specific exceptions and maintain program flow."
   ]
  },
  {
   "cell_type": "markdown",
   "id": "a24222c3",
   "metadata": {
    "papermill": {
     "duration": 0.023175,
     "end_time": "2023-08-13T19:29:21.280062",
     "exception": false,
     "start_time": "2023-08-13T19:29:21.256887",
     "status": "completed"
    },
    "tags": []
   },
   "source": [
    "\n",
    "<h1 align=\"left\"><font color='red'>22</font></h1>\n"
   ]
  },
  {
   "cell_type": "markdown",
   "id": "4b59e122",
   "metadata": {
    "papermill": {
     "duration": 0.022271,
     "end_time": "2023-08-13T19:29:21.325070",
     "exception": false,
     "start_time": "2023-08-13T19:29:21.302799",
     "status": "completed"
    },
    "tags": []
   },
   "source": [
    "# `Chapter 22: User-Defined Exceptions`\n",
    "\n",
    "#### In this chapter, we'll explore user-defined exceptions, which allow you to create your own custom exceptions to handle specific error scenarios in your Python programs.\n",
    "\n",
    "## Creating Custom Exceptions\n",
    "\n",
    "##### You can create custom exceptions by defining a new class that inherits from the built-in `Exception` class or one of its subclasses.\n",
    "\n",
    "### Example (Creating a Custom Exception):\n",
    "\n"
   ]
  },
  {
   "cell_type": "markdown",
   "id": "6f3db160",
   "metadata": {
    "papermill": {
     "duration": 0.021869,
     "end_time": "2023-08-13T19:29:21.369609",
     "exception": false,
     "start_time": "2023-08-13T19:29:21.347740",
     "status": "completed"
    },
    "tags": []
   },
   "source": [
    "```python\n",
    "class MyCustomError(Exception):\n",
    "    pass\n",
    "\n",
    "def example_function(value):\n",
    "    if value < 0:\n",
    "        raise MyCustomError(\"Value must be non-negative.\")\n",
    "\n",
    "try:\n",
    "    user_value = int(input(\"Enter a positive number: \"))\n",
    "    example_function(user_value)\n",
    "except MyCustomError as e:\n",
    "    print(\"Custom Error:\", e)\n",
    " ```"
   ]
  },
  {
   "cell_type": "markdown",
   "id": "d9222d54",
   "metadata": {
    "papermill": {
     "duration": 0.021401,
     "end_time": "2023-08-13T19:29:21.412922",
     "exception": false,
     "start_time": "2023-08-13T19:29:21.391521",
     "status": "completed"
    },
    "tags": []
   },
   "source": [
    "## `Handling Custom Exceptions`\n",
    "#### To handle custom exceptions, you can use the try and except blocks just like you do with built-in exceptions.\n",
    "\n",
    "### Example (Handling Custom Exceptions):"
   ]
  },
  {
   "cell_type": "markdown",
   "id": "eec8cd4f",
   "metadata": {
    "papermill": {
     "duration": 0.021816,
     "end_time": "2023-08-13T19:29:21.456703",
     "exception": false,
     "start_time": "2023-08-13T19:29:21.434887",
     "status": "completed"
    },
    "tags": []
   },
   "source": [
    "```python\n",
    "class MyCustomError(Exception):\n",
    "    pass\n",
    "\n",
    "def example_function(value):\n",
    "    if value < 0:\n",
    "        raise MyCustomError(\"Value must be non-negative.\")\n",
    "\n",
    "try:\n",
    "    user_value = int(input(\"Enter a positive number: \"))\n",
    "    example_function(user_value)\n",
    "except MyCustomError as e:\n",
    "    print(\"Custom Error:\", e)\n",
    "else:\n",
    "    print(\"No error occurred.\")\n",
    "```"
   ]
  },
  {
   "cell_type": "markdown",
   "id": "fa45595b",
   "metadata": {
    "papermill": {
     "duration": 0.022869,
     "end_time": "2023-08-13T19:29:21.501755",
     "exception": false,
     "start_time": "2023-08-13T19:29:21.478886",
     "status": "completed"
    },
    "tags": []
   },
   "source": [
    "## `Custom Exception Properties`\n",
    "#### You can add properties and methods to your custom exceptions to provide additional information about the error.\n",
    "\n",
    "### Example (Custom Exception Properties):"
   ]
  },
  {
   "cell_type": "markdown",
   "id": "a44726b4",
   "metadata": {
    "papermill": {
     "duration": 0.022343,
     "end_time": "2023-08-13T19:29:21.546818",
     "exception": false,
     "start_time": "2023-08-13T19:29:21.524475",
     "status": "completed"
    },
    "tags": []
   },
   "source": [
    "```python\n",
    "class MyCustomError(Exception):\n",
    "    def __init__(self, value):\n",
    "        self.value = value\n",
    "        super().__init__(f\"Custom Error: {value}\")\n",
    "\n",
    "try:\n",
    "    user_value = int(input(\"Enter a positive number: \"))\n",
    "    if user_value < 0:\n",
    "        raise MyCustomError(user_value)\n",
    "except MyCustomError as e:\n",
    "    print(e)\n",
    "```"
   ]
  },
  {
   "cell_type": "markdown",
   "id": "f3a86176",
   "metadata": {
    "papermill": {
     "duration": 0.02284,
     "end_time": "2023-08-13T19:29:21.592130",
     "exception": false,
     "start_time": "2023-08-13T19:29:21.569290",
     "status": "completed"
    },
    "tags": []
   },
   "source": [
    "## `Conclusion`\n",
    "#### User-defined exceptions allow you to create meaningful and specific error handling for your Python programs. By creating custom exceptions, you can provide clear and informative error messages tailored to the needs of your application."
   ]
  },
  {
   "cell_type": "markdown",
   "id": "b0c074ac",
   "metadata": {
    "papermill": {
     "duration": 0.021914,
     "end_time": "2023-08-13T19:29:21.636622",
     "exception": false,
     "start_time": "2023-08-13T19:29:21.614708",
     "status": "completed"
    },
    "tags": []
   },
   "source": [
    "\n",
    "<h1 align=\"left\"><font color='red'>23</font></h1>\n"
   ]
  },
  {
   "cell_type": "markdown",
   "id": "454edfdd",
   "metadata": {
    "papermill": {
     "duration": 0.022269,
     "end_time": "2023-08-13T19:29:21.682294",
     "exception": false,
     "start_time": "2023-08-13T19:29:21.660025",
     "status": "completed"
    },
    "tags": []
   },
   "source": [
    "# `Chapter 23: File Handling: Reading and Writing`\n",
    "\n",
    "#### In this chapter, we'll explore file handling in Python, covering the process of opening, reading, and writing text files.\n",
    "\n",
    "## Opening and Closing Files\n",
    "\n",
    "#### Files are opened in Python using the built-in `open()` function. It is important to close files using the `close()` method to free up system resources.\n",
    "\n",
    "#### Example (Opening and Closing Files):\n"
   ]
  },
  {
   "cell_type": "markdown",
   "id": "b8ade432",
   "metadata": {
    "papermill": {
     "duration": 0.022208,
     "end_time": "2023-08-13T19:29:21.727363",
     "exception": false,
     "start_time": "2023-08-13T19:29:21.705155",
     "status": "completed"
    },
    "tags": []
   },
   "source": [
    "```python\n",
    "try:\n",
    "    file = open(\"example.txt\", \"r\")  # Open file for reading\n",
    "    content = file.read()\n",
    "    print(\"File content:\", content)\n",
    "finally:\n",
    "    file.close()  # Close the file\n",
    " ```"
   ]
  },
  {
   "cell_type": "markdown",
   "id": "58178d83",
   "metadata": {
    "papermill": {
     "duration": 0.022081,
     "end_time": "2023-08-13T19:29:21.772396",
     "exception": false,
     "start_time": "2023-08-13T19:29:21.750315",
     "status": "completed"
    },
    "tags": []
   },
   "source": [
    "## Reading Text Files\n",
    "#### Text files can be read using methods such as read(), readline(), or by iterating over the file object itself.\n",
    "\n",
    "### Example (Reading Text Files):"
   ]
  },
  {
   "cell_type": "markdown",
   "id": "d87dae20",
   "metadata": {
    "papermill": {
     "duration": 0.021589,
     "end_time": "2023-08-13T19:29:21.817075",
     "exception": false,
     "start_time": "2023-08-13T19:29:21.795486",
     "status": "completed"
    },
    "tags": []
   },
   "source": [
    "```python\n",
    "try:\n",
    "    file = open(\"example.txt\", \"r\")\n",
    "    lines = file.readlines()\n",
    "    for line in lines:\n",
    "        print(line.strip())  # Remove newline characters\n",
    "finally:\n",
    "    file.close()\n",
    "```"
   ]
  },
  {
   "cell_type": "markdown",
   "id": "ac3b2163",
   "metadata": {
    "papermill": {
     "duration": 0.021928,
     "end_time": "2023-08-13T19:29:21.860635",
     "exception": false,
     "start_time": "2023-08-13T19:29:21.838707",
     "status": "completed"
    },
    "tags": []
   },
   "source": [
    "## Writing Text Files\n",
    "#### Text files can be written using the write() method. Be cautious when writing to files, as existing content may be overwritten.\n",
    "\n",
    "### Example (Writing Text Files):"
   ]
  },
  {
   "cell_type": "markdown",
   "id": "a3d63f96",
   "metadata": {
    "papermill": {
     "duration": 0.022364,
     "end_time": "2023-08-13T19:29:21.905231",
     "exception": false,
     "start_time": "2023-08-13T19:29:21.882867",
     "status": "completed"
    },
    "tags": []
   },
   "source": [
    "```python\n",
    "try:\n",
    "    file = open(\"output.txt\", \"w\")  # Open file for writing\n",
    "    file.write(\"Hello, world!\\n\")\n",
    "    file.write(\"This is a new line.\")\n",
    "finally:\n",
    "    file.close()\n",
    "```"
   ]
  },
  {
   "cell_type": "markdown",
   "id": "21fb229a",
   "metadata": {
    "papermill": {
     "duration": 0.021338,
     "end_time": "2023-08-13T19:29:21.949067",
     "exception": false,
     "start_time": "2023-08-13T19:29:21.927729",
     "status": "completed"
    },
    "tags": []
   },
   "source": [
    "## Using with Statement\n",
    "#### The with statement ensures that the file is properly closed after the block of code is executed, even if an exception occurs.\n",
    "\n",
    "### Example (Using with Statement):"
   ]
  },
  {
   "cell_type": "markdown",
   "id": "790cdd43",
   "metadata": {
    "papermill": {
     "duration": 0.021823,
     "end_time": "2023-08-13T19:29:21.992768",
     "exception": false,
     "start_time": "2023-08-13T19:29:21.970945",
     "status": "completed"
    },
    "tags": []
   },
   "source": [
    "```python\n",
    "with open(\"example.txt\", \"r\") as file:\n",
    "    content = file.read()\n",
    "    print(\"File content:\", content)\n",
    "```"
   ]
  },
  {
   "cell_type": "markdown",
   "id": "c6e28331",
   "metadata": {
    "papermill": {
     "duration": 0.021549,
     "end_time": "2023-08-13T19:29:22.036197",
     "exception": false,
     "start_time": "2023-08-13T19:29:22.014648",
     "status": "completed"
    },
    "tags": []
   },
   "source": [
    "## Conclusion\n",
    "#### File handling is an essential aspect of programming, allowing you to interact with external files for data input and output. Understanding how to open, read, and write text files in Python is crucial for various applications."
   ]
  },
  {
   "cell_type": "markdown",
   "id": "a09c788a",
   "metadata": {
    "papermill": {
     "duration": 0.02185,
     "end_time": "2023-08-13T19:29:22.080305",
     "exception": false,
     "start_time": "2023-08-13T19:29:22.058455",
     "status": "completed"
    },
    "tags": []
   },
   "source": [
    "\n",
    "<h1 align=\"left\"><font color='red'>24</font></h1>\n"
   ]
  },
  {
   "cell_type": "markdown",
   "id": "ead33c97",
   "metadata": {
    "papermill": {
     "duration": 0.021847,
     "end_time": "2023-08-13T19:29:22.124772",
     "exception": false,
     "start_time": "2023-08-13T19:29:22.102925",
     "status": "completed"
    },
    "tags": []
   },
   "source": [
    "# `Chapter 24: Context Managers (with statements)`\n",
    "\n",
    "#### In this chapter, we'll explore context managers and the `with` statement in Python, which provide a cleaner and more efficient way to manage resources and handle setup and cleanup operations.\n",
    "\n",
    "## Using the `with` Statement\n",
    "\n",
    "#### The `with` statement is used to create a context within which a resource is managed. It ensures proper setup and cleanup of resources, such as files or network connections.\n",
    "\n",
    "#### Example (Using the `with` Statement):\n",
    "\n"
   ]
  },
  {
   "cell_type": "markdown",
   "id": "b4fbd090",
   "metadata": {
    "papermill": {
     "duration": 0.021765,
     "end_time": "2023-08-13T19:29:22.168714",
     "exception": false,
     "start_time": "2023-08-13T19:29:22.146949",
     "status": "completed"
    },
    "tags": []
   },
   "source": [
    "```python\n",
    "with open(\"example.txt\", \"r\") as file:\n",
    "    content = file.read()\n",
    "    print(\"File content:\", content)\n",
    "```"
   ]
  },
  {
   "cell_type": "markdown",
   "id": "0396bc8f",
   "metadata": {
    "papermill": {
     "duration": 0.021605,
     "end_time": "2023-08-13T19:29:22.212121",
     "exception": false,
     "start_time": "2023-08-13T19:29:22.190516",
     "status": "completed"
    },
    "tags": []
   },
   "source": [
    "## Creating Custom Context Managers\n",
    "#### You can create custom context managers using the contextlib module or by defining classes with __enter__() and __exit__() methods.\n",
    "\n",
    "### Example (Creating a Custom Context Manager):"
   ]
  },
  {
   "cell_type": "code",
   "execution_count": 1,
   "id": "263f935e",
   "metadata": {
    "execution": {
     "iopub.execute_input": "2023-08-13T19:29:22.258139Z",
     "iopub.status.busy": "2023-08-13T19:29:22.257630Z",
     "iopub.status.idle": "2023-08-13T19:29:22.272491Z",
     "shell.execute_reply": "2023-08-13T19:29:22.270927Z"
    },
    "papermill": {
     "duration": 0.040707,
     "end_time": "2023-08-13T19:29:22.274651",
     "exception": false,
     "start_time": "2023-08-13T19:29:22.233944",
     "status": "completed"
    },
    "tags": []
   },
   "outputs": [
    {
     "name": "stdout",
     "output_type": "stream",
     "text": [
      "Entering custom context\n",
      "Inside custom context\n",
      "Exiting custom context\n"
     ]
    }
   ],
   "source": [
    "\n",
    "from contextlib import contextmanager\n",
    "\n",
    "@contextmanager\n",
    "def custom_context():\n",
    "    print(\"Entering custom context\")\n",
    "    yield\n",
    "    print(\"Exiting custom context\")\n",
    "\n",
    "with custom_context():\n",
    "    print(\"Inside custom context\")\n"
   ]
  },
  {
   "cell_type": "markdown",
   "id": "d370090f",
   "metadata": {
    "execution": {
     "iopub.execute_input": "2023-08-13T18:58:25.725382Z",
     "iopub.status.busy": "2023-08-13T18:58:25.724887Z",
     "iopub.status.idle": "2023-08-13T18:58:25.730553Z",
     "shell.execute_reply": "2023-08-13T18:58:25.729353Z",
     "shell.execute_reply.started": "2023-08-13T18:58:25.725341Z"
    },
    "papermill": {
     "duration": 0.022388,
     "end_time": "2023-08-13T19:29:22.319487",
     "exception": false,
     "start_time": "2023-08-13T19:29:22.297099",
     "status": "completed"
    },
    "tags": []
   },
   "source": [
    "## __enter__() and __exit__() Methods\n",
    "#### When creating custom context managers using classes, the __enter__() method sets up the resource, and the __exit__() method handles resource cleanup.\n",
    "\n",
    "### Example (Custom Context Manager Class):"
   ]
  },
  {
   "cell_type": "code",
   "execution_count": 2,
   "id": "d1c0868f",
   "metadata": {
    "execution": {
     "iopub.execute_input": "2023-08-13T19:29:22.366449Z",
     "iopub.status.busy": "2023-08-13T19:29:22.366122Z",
     "iopub.status.idle": "2023-08-13T19:29:22.371359Z",
     "shell.execute_reply": "2023-08-13T19:29:22.370540Z"
    },
    "papermill": {
     "duration": 0.030813,
     "end_time": "2023-08-13T19:29:22.373124",
     "exception": false,
     "start_time": "2023-08-13T19:29:22.342311",
     "status": "completed"
    },
    "tags": []
   },
   "outputs": [
    {
     "name": "stdout",
     "output_type": "stream",
     "text": [
      "Entering custom context\n",
      "Inside custom context\n",
      "Exiting custom context\n"
     ]
    }
   ],
   "source": [
    "\n",
    "class CustomContext:\n",
    "    def __enter__(self):\n",
    "        print(\"Entering custom context\")\n",
    "        return self\n",
    "    \n",
    "    def __exit__(self, exc_type, exc_value, traceback):\n",
    "        print(\"Exiting custom context\")\n",
    "\n",
    "with CustomContext():\n",
    "    print(\"Inside custom context\")\n"
   ]
  },
  {
   "cell_type": "markdown",
   "id": "f8418349",
   "metadata": {
    "papermill": {
     "duration": 0.021709,
     "end_time": "2023-08-13T19:29:22.416692",
     "exception": false,
     "start_time": "2023-08-13T19:29:22.394983",
     "status": "completed"
    },
    "tags": []
   },
   "source": [
    "## Error Handling in Context Managers\n",
    "#### Context managers can also handle exceptions that occur within the managed context, allowing for controlled cleanup even if an exception occurs.\n",
    "\n",
    "### Example (Error Handling in Context Managers):"
   ]
  },
  {
   "cell_type": "code",
   "execution_count": 3,
   "id": "44f48960",
   "metadata": {
    "execution": {
     "iopub.execute_input": "2023-08-13T19:29:22.463569Z",
     "iopub.status.busy": "2023-08-13T19:29:22.463000Z",
     "iopub.status.idle": "2023-08-13T19:29:22.468680Z",
     "shell.execute_reply": "2023-08-13T19:29:22.467643Z"
    },
    "papermill": {
     "duration": 0.032488,
     "end_time": "2023-08-13T19:29:22.471409",
     "exception": false,
     "start_time": "2023-08-13T19:29:22.438921",
     "status": "completed"
    },
    "tags": []
   },
   "outputs": [
    {
     "name": "stdout",
     "output_type": "stream",
     "text": [
      "Division by zero not allowed.\n"
     ]
    }
   ],
   "source": [
    "\n",
    "class SafeDivide:\n",
    "    def __enter__(self):\n",
    "        return self\n",
    "    \n",
    "    def __exit__(self, exc_type, exc_value, traceback):\n",
    "        if exc_type == ZeroDivisionError:\n",
    "            print(\"Division by zero not allowed.\")\n",
    "            return True  # Suppress the exception\n",
    "        return False\n",
    "\n",
    "with SafeDivide():\n",
    "    result = 10 / 0\n",
    "    print(\"Result:\", result)\n"
   ]
  },
  {
   "cell_type": "markdown",
   "id": "94249724",
   "metadata": {
    "papermill": {
     "duration": 0.022365,
     "end_time": "2023-08-13T19:29:22.516373",
     "exception": false,
     "start_time": "2023-08-13T19:29:22.494008",
     "status": "completed"
    },
    "tags": []
   },
   "source": [
    "## Conclusion\n",
    "### Context managers and the with statement provide a clean and efficient way to manage resources and handle setup and cleanup operations in Python. They ensure proper resource management and help avoid common pitfalls."
   ]
  },
  {
   "cell_type": "markdown",
   "id": "55468188",
   "metadata": {
    "papermill": {
     "duration": 0.022186,
     "end_time": "2023-08-13T19:29:22.561135",
     "exception": false,
     "start_time": "2023-08-13T19:29:22.538949",
     "status": "completed"
    },
    "tags": []
   },
   "source": [
    "\n",
    "<h1 align=\"left\"><font color='red'>25</font></h1>\n"
   ]
  },
  {
   "cell_type": "markdown",
   "id": "60b40725",
   "metadata": {
    "papermill": {
     "duration": 0.022291,
     "end_time": "2023-08-13T19:29:22.606213",
     "exception": false,
     "start_time": "2023-08-13T19:29:22.583922",
     "status": "completed"
    },
    "tags": []
   },
   "source": [
    "# `Chapter 25: Object-Oriented Programming Basics`\n",
    "\n",
    "#### In this chapter, we'll dive into the fundamentals of object-oriented programming (OOP) in Python. OOP is a programming paradigm that organizes code into objects and classes.\n",
    "\n",
    "## Classes and Objects\n",
    "\n",
    "#### A class is a blueprint for creating objects, which are instances of that class. Objects have attributes (variables) and methods (functions) associated with them.\n",
    "\n",
    "#### Example (Defining a Class and Creating Objects):\n"
   ]
  },
  {
   "cell_type": "code",
   "execution_count": 4,
   "id": "234d0c75",
   "metadata": {
    "execution": {
     "iopub.execute_input": "2023-08-13T19:29:22.653376Z",
     "iopub.status.busy": "2023-08-13T19:29:22.652676Z",
     "iopub.status.idle": "2023-08-13T19:29:22.659169Z",
     "shell.execute_reply": "2023-08-13T19:29:22.658191Z"
    },
    "papermill": {
     "duration": 0.03215,
     "end_time": "2023-08-13T19:29:22.660973",
     "exception": false,
     "start_time": "2023-08-13T19:29:22.628823",
     "status": "completed"
    },
    "tags": []
   },
   "outputs": [
    {
     "name": "stdout",
     "output_type": "stream",
     "text": [
      "Buddy barks!\n",
      "Charlie barks!\n"
     ]
    }
   ],
   "source": [
    "class Dog:\n",
    "    def __init__(self, name, age):\n",
    "        self.name = name\n",
    "        self.age = age\n",
    "    \n",
    "    def bark(self):\n",
    "        print(f\"{self.name} barks!\")\n",
    "\n",
    "dog1 = Dog(\"Buddy\", 3)\n",
    "dog2 = Dog(\"Charlie\", 5)\n",
    "\n",
    "dog1.bark()  # Output: Buddy barks!\n",
    "dog2.bark()  # Output: Charlie barks!\n"
   ]
  },
  {
   "cell_type": "markdown",
   "id": "b7654db9",
   "metadata": {
    "papermill": {
     "duration": 0.022213,
     "end_time": "2023-08-13T19:29:22.705947",
     "exception": false,
     "start_time": "2023-08-13T19:29:22.683734",
     "status": "completed"
    },
    "tags": []
   },
   "source": [
    "## Constructors and Methods\n",
    "#### The __init__() method is a constructor that initializes object attributes. Other methods are defined within the class to perform specific actions on objects.\n",
    "\n",
    "## Encapsulation\n",
    "#### Encapsulation refers to the concept of bundling data (attributes) and methods (functions) that operate on the data within a single unit (class). It helps protect the internal state of objects.\n",
    "\n",
    "### Inheritance\n",
    "#### Inheritance allows one class (subclass) to inherit attributes and methods from another class (base or parent class). It promotes code reuse and allows for hierarchical organization.\n",
    "\n",
    "### Example (Inheritance):"
   ]
  },
  {
   "cell_type": "code",
   "execution_count": 5,
   "id": "f85781db",
   "metadata": {
    "execution": {
     "iopub.execute_input": "2023-08-13T19:29:22.754249Z",
     "iopub.status.busy": "2023-08-13T19:29:22.753550Z",
     "iopub.status.idle": "2023-08-13T19:29:22.760671Z",
     "shell.execute_reply": "2023-08-13T19:29:22.759621Z"
    },
    "papermill": {
     "duration": 0.034241,
     "end_time": "2023-08-13T19:29:22.762658",
     "exception": false,
     "start_time": "2023-08-13T19:29:22.728417",
     "status": "completed"
    },
    "tags": []
   },
   "outputs": [
    {
     "name": "stdout",
     "output_type": "stream",
     "text": [
      "Whiskers meows!\n",
      "Buddy barks!\n"
     ]
    }
   ],
   "source": [
    "\n",
    "class Animal:\n",
    "    def __init__(self, name):\n",
    "        self.name = name\n",
    "    \n",
    "    def speak(self):\n",
    "        pass\n",
    "\n",
    "class Cat(Animal):\n",
    "    def speak(self):\n",
    "        print(f\"{self.name} meows!\")\n",
    "\n",
    "class Dog(Animal):\n",
    "    def speak(self):\n",
    "        print(f\"{self.name} barks!\")\n",
    "\n",
    "cat = Cat(\"Whiskers\")\n",
    "dog = Dog(\"Buddy\")\n",
    "\n",
    "cat.speak()  # Output: Whiskers meows!\n",
    "dog.speak()  # Output: Buddy barks!\n"
   ]
  },
  {
   "cell_type": "markdown",
   "id": "428b3607",
   "metadata": {
    "papermill": {
     "duration": 0.023137,
     "end_time": "2023-08-13T19:29:22.809108",
     "exception": false,
     "start_time": "2023-08-13T19:29:22.785971",
     "status": "completed"
    },
    "tags": []
   },
   "source": [
    "## Polymorphism\n",
    "#### Polymorphism allows different classes to be treated as instances of the same base class. It promotes flexibility and enables dynamic behavior.\n",
    "\n",
    "### Example (Polymorphism):"
   ]
  },
  {
   "cell_type": "code",
   "execution_count": 6,
   "id": "f78441b0",
   "metadata": {
    "execution": {
     "iopub.execute_input": "2023-08-13T19:29:22.856265Z",
     "iopub.status.busy": "2023-08-13T19:29:22.855513Z",
     "iopub.status.idle": "2023-08-13T19:29:22.862140Z",
     "shell.execute_reply": "2023-08-13T19:29:22.860609Z"
    },
    "papermill": {
     "duration": 0.033123,
     "end_time": "2023-08-13T19:29:22.864857",
     "exception": false,
     "start_time": "2023-08-13T19:29:22.831734",
     "status": "completed"
    },
    "tags": []
   },
   "outputs": [
    {
     "name": "stdout",
     "output_type": "stream",
     "text": [
      "Whiskers meows!\n",
      "Buddy barks!\n"
     ]
    }
   ],
   "source": [
    "\n",
    "def animal_sound(animal):\n",
    "    animal.speak()\n",
    "\n",
    "animals = [Cat(\"Whiskers\"), Dog(\"Buddy\")]\n",
    "\n",
    "for animal in animals:\n",
    "    animal_sound(animal)\n"
   ]
  },
  {
   "cell_type": "markdown",
   "id": "90178901",
   "metadata": {
    "papermill": {
     "duration": 0.023983,
     "end_time": "2023-08-13T19:29:22.912089",
     "exception": false,
     "start_time": "2023-08-13T19:29:22.888106",
     "status": "completed"
    },
    "tags": []
   },
   "source": [
    "## `Conclusion`\n",
    "### Object-oriented programming (OOP) is a powerful paradigm that promotes code organization, modularity, and reusability. It enables the creation of well-structured, maintainable, and extensible code."
   ]
  },
  {
   "cell_type": "markdown",
   "id": "b37d0d90",
   "metadata": {
    "papermill": {
     "duration": 0.02267,
     "end_time": "2023-08-13T19:29:22.957754",
     "exception": false,
     "start_time": "2023-08-13T19:29:22.935084",
     "status": "completed"
    },
    "tags": []
   },
   "source": [
    "\n",
    "<h1 align=\"left\"><font color='red'>26</font></h1>\n"
   ]
  },
  {
   "cell_type": "markdown",
   "id": "734cc631",
   "metadata": {
    "papermill": {
     "duration": 0.023637,
     "end_time": "2023-08-13T19:29:23.004387",
     "exception": false,
     "start_time": "2023-08-13T19:29:22.980750",
     "status": "completed"
    },
    "tags": []
   },
   "source": [
    "# `Chapter 26: Classes and Objects`\n",
    "\n",
    "#### In this chapter, we'll continue exploring classes and objects in Python, delving into attributes and methods, instance attributes, class attributes, and methods associated with classes.\n",
    "\n",
    "## Attributes and Methods\n",
    "\n",
    "#### Attributes are variables that store data within objects, while methods are functions that perform actions on objects.\n",
    "\n",
    "## Instance Attributes\n",
    "\n",
    "#### Instance attributes are unique to each instance of a class and are defined within the `__init__()` method. They store data specific to that instance.\n",
    "\n",
    "#### Example (Instance Attributes):\n",
    "\n"
   ]
  },
  {
   "cell_type": "code",
   "execution_count": 7,
   "id": "c9ec9ba5",
   "metadata": {
    "execution": {
     "iopub.execute_input": "2023-08-13T19:29:23.052393Z",
     "iopub.status.busy": "2023-08-13T19:29:23.052045Z",
     "iopub.status.idle": "2023-08-13T19:29:23.058600Z",
     "shell.execute_reply": "2023-08-13T19:29:23.057058Z"
    },
    "papermill": {
     "duration": 0.033496,
     "end_time": "2023-08-13T19:29:23.060919",
     "exception": false,
     "start_time": "2023-08-13T19:29:23.027423",
     "status": "completed"
    },
    "tags": []
   },
   "outputs": [
    {
     "name": "stdout",
     "output_type": "stream",
     "text": [
      "5\n",
      "7\n"
     ]
    }
   ],
   "source": [
    "\n",
    "class Circle:\n",
    "    def __init__(self, radius):\n",
    "        self.radius = radius\n",
    "\n",
    "circle1 = Circle(5)\n",
    "circle2 = Circle(7)\n",
    "\n",
    "print(circle1.radius)  # Output: 5\n",
    "print(circle2.radius)  # Output: 7\n"
   ]
  },
  {
   "cell_type": "markdown",
   "id": "8c373814",
   "metadata": {
    "papermill": {
     "duration": 0.023386,
     "end_time": "2023-08-13T19:29:23.108879",
     "exception": false,
     "start_time": "2023-08-13T19:29:23.085493",
     "status": "completed"
    },
    "tags": []
   },
   "source": [
    "## Class Attributes\n",
    "#### Class attributes are shared among all instances of a class and are defined outside any methods. They store data common to all instances.\n",
    "\n",
    "### Example (Class Attributes):"
   ]
  },
  {
   "cell_type": "code",
   "execution_count": 8,
   "id": "4a23b721",
   "metadata": {
    "execution": {
     "iopub.execute_input": "2023-08-13T19:29:23.156036Z",
     "iopub.status.busy": "2023-08-13T19:29:23.155651Z",
     "iopub.status.idle": "2023-08-13T19:29:23.162358Z",
     "shell.execute_reply": "2023-08-13T19:29:23.160689Z"
    },
    "papermill": {
     "duration": 0.033167,
     "end_time": "2023-08-13T19:29:23.164826",
     "exception": false,
     "start_time": "2023-08-13T19:29:23.131659",
     "status": "completed"
    },
    "tags": []
   },
   "outputs": [
    {
     "name": "stdout",
     "output_type": "stream",
     "text": [
      "5\n",
      "3.14159\n"
     ]
    }
   ],
   "source": [
    "\n",
    "class Circle:\n",
    "    pi = 3.14159\n",
    "\n",
    "    def __init__(self, radius):\n",
    "        self.radius = radius\n",
    "\n",
    "circle = Circle(5)\n",
    "\n",
    "print(circle.radius)  # Output: 5\n",
    "print(Circle.pi)      # Output: 3.14159\n"
   ]
  },
  {
   "cell_type": "markdown",
   "id": "c8b13394",
   "metadata": {
    "papermill": {
     "duration": 0.022594,
     "end_time": "2023-08-13T19:29:23.210430",
     "exception": false,
     "start_time": "2023-08-13T19:29:23.187836",
     "status": "completed"
    },
    "tags": []
   },
   "source": [
    "## Methods\n",
    "#### Methods are functions defined within a class that operate on the attributes of instances. They can be used to perform various actions on objects.\n",
    "\n",
    "### Example (Methods):"
   ]
  },
  {
   "cell_type": "code",
   "execution_count": 9,
   "id": "0f84b1a7",
   "metadata": {
    "execution": {
     "iopub.execute_input": "2023-08-13T19:29:23.260585Z",
     "iopub.status.busy": "2023-08-13T19:29:23.259053Z",
     "iopub.status.idle": "2023-08-13T19:29:23.265751Z",
     "shell.execute_reply": "2023-08-13T19:29:23.265072Z"
    },
    "papermill": {
     "duration": 0.033488,
     "end_time": "2023-08-13T19:29:23.267658",
     "exception": false,
     "start_time": "2023-08-13T19:29:23.234170",
     "status": "completed"
    },
    "tags": []
   },
   "outputs": [
    {
     "name": "stdout",
     "output_type": "stream",
     "text": [
      "20\n"
     ]
    }
   ],
   "source": [
    "\n",
    "class Rectangle:\n",
    "    def __init__(self, width, height):\n",
    "        self.width = width\n",
    "        self.height = height\n",
    "    \n",
    "    def area(self):\n",
    "        return self.width * self.height\n",
    "\n",
    "rectangle = Rectangle(4, 5)\n",
    "print(rectangle.area())  # Output: 20\n"
   ]
  },
  {
   "cell_type": "markdown",
   "id": "45769e68",
   "metadata": {
    "papermill": {
     "duration": 0.022682,
     "end_time": "2023-08-13T19:29:23.312975",
     "exception": false,
     "start_time": "2023-08-13T19:29:23.290293",
     "status": "completed"
    },
    "tags": []
   },
   "source": [
    "## Conclusion\n",
    "#### Understanding attributes and methods is essential for working with classes and objects in Python. Instance attributes store unique data for each instance, while class attributes store data shared among all instances. Methods allow you to define actions that can be performed on instances."
   ]
  },
  {
   "cell_type": "markdown",
   "id": "06354aa0",
   "metadata": {
    "papermill": {
     "duration": 0.022202,
     "end_time": "2023-08-13T19:29:23.358934",
     "exception": false,
     "start_time": "2023-08-13T19:29:23.336732",
     "status": "completed"
    },
    "tags": []
   },
   "source": [
    "\n",
    "<h1 align=\"left\"><font color='red'>27</font></h1>\n"
   ]
  },
  {
   "cell_type": "markdown",
   "id": "3066a257",
   "metadata": {
    "papermill": {
     "duration": 0.022062,
     "end_time": "2023-08-13T19:29:23.403432",
     "exception": false,
     "start_time": "2023-08-13T19:29:23.381370",
     "status": "completed"
    },
    "tags": []
   },
   "source": [
    "# `Chapter 27: Constructors and Destructors`\n",
    "\n",
    "#### In this chapter, we'll explore constructors and destructors in Python, which are special methods used to initialize and clean up objects.\n",
    "\n",
    "## The `__init__` Constructor\n",
    "\n",
    "#### The `__init__` method is a special method in Python that is automatically called when an object is created. It is used to initialize the attributes of an object.\n",
    "\n",
    "#### Example (`__init__` Constructor):\n",
    "\n"
   ]
  },
  {
   "cell_type": "code",
   "execution_count": 10,
   "id": "15fcb6ff",
   "metadata": {
    "execution": {
     "iopub.execute_input": "2023-08-13T19:29:23.450604Z",
     "iopub.status.busy": "2023-08-13T19:29:23.449930Z",
     "iopub.status.idle": "2023-08-13T19:29:23.456488Z",
     "shell.execute_reply": "2023-08-13T19:29:23.454955Z"
    },
    "papermill": {
     "duration": 0.032541,
     "end_time": "2023-08-13T19:29:23.458385",
     "exception": false,
     "start_time": "2023-08-13T19:29:23.425844",
     "status": "completed"
    },
    "tags": []
   },
   "outputs": [
    {
     "name": "stdout",
     "output_type": "stream",
     "text": [
      "Alice\n",
      "30\n"
     ]
    }
   ],
   "source": [
    "\n",
    "class Person:\n",
    "    def __init__(self, name, age):\n",
    "        self.name = name\n",
    "        self.age = age\n",
    "\n",
    "person = Person(\"Alice\", 30)\n",
    "print(person.name)  # Output: Alice\n",
    "print(person.age)   # Output: 30\n"
   ]
  },
  {
   "cell_type": "markdown",
   "id": "ebd50e05",
   "metadata": {
    "papermill": {
     "duration": 0.022356,
     "end_time": "2023-08-13T19:29:23.503272",
     "exception": false,
     "start_time": "2023-08-13T19:29:23.480916",
     "status": "completed"
    },
    "tags": []
   },
   "source": [
    "## The __del__ Destructor\n",
    "#### The __del__ method is a special method in Python that is automatically called when an object is about to be destroyed. It is used for clean-up operations.\n",
    "\n",
    "### Example (__del__ Destructor):"
   ]
  },
  {
   "cell_type": "code",
   "execution_count": 11,
   "id": "cbb4384d",
   "metadata": {
    "execution": {
     "iopub.execute_input": "2023-08-13T19:29:23.550968Z",
     "iopub.status.busy": "2023-08-13T19:29:23.550624Z",
     "iopub.status.idle": "2023-08-13T19:29:23.556185Z",
     "shell.execute_reply": "2023-08-13T19:29:23.554921Z"
    },
    "papermill": {
     "duration": 0.032326,
     "end_time": "2023-08-13T19:29:23.558380",
     "exception": false,
     "start_time": "2023-08-13T19:29:23.526054",
     "status": "completed"
    },
    "tags": []
   },
   "outputs": [
    {
     "name": "stdout",
     "output_type": "stream",
     "text": [
      "Resource created\n",
      "Resource destroyed\n"
     ]
    }
   ],
   "source": [
    "\n",
    "class Resource:\n",
    "    def __init__(self):\n",
    "        print(\"Resource created\")\n",
    "    \n",
    "    def __del__(self):\n",
    "        print(\"Resource destroyed\")\n",
    "\n",
    "resource = Resource()\n",
    "del resource  # Output: Resource destroyed\n"
   ]
  },
  {
   "cell_type": "markdown",
   "id": "f27b126f",
   "metadata": {
    "papermill": {
     "duration": 0.026534,
     "end_time": "2023-08-13T19:29:23.608963",
     "exception": false,
     "start_time": "2023-08-13T19:29:23.582429",
     "status": "completed"
    },
    "tags": []
   },
   "source": [
    "## Destructor Caveats\n",
    "#### Python's garbage collector automatically handles object destruction, so the __del__ method is not always necessary. It is mainly used for cleanup tasks like closing files or releasing resources.\n",
    "\n",
    "## Conclusion\n",
    "#### Constructors and destructors are essential for initializing object attributes and performing cleanup operations. The __init__ constructor is used for object initialization, while the __del__ destructor is used for cleanup tasks before object destruction."
   ]
  },
  {
   "cell_type": "markdown",
   "id": "7f6a8648",
   "metadata": {
    "papermill": {
     "duration": 0.023491,
     "end_time": "2023-08-13T19:29:23.659435",
     "exception": false,
     "start_time": "2023-08-13T19:29:23.635944",
     "status": "completed"
    },
    "tags": []
   },
   "source": [
    "\n",
    "<h1 align=\"left\"><font color='red'>28</font></h1>\n"
   ]
  },
  {
   "cell_type": "markdown",
   "id": "51c97d46",
   "metadata": {
    "papermill": {
     "duration": 0.024754,
     "end_time": "2023-08-13T19:29:23.711026",
     "exception": false,
     "start_time": "2023-08-13T19:29:23.686272",
     "status": "completed"
    },
    "tags": []
   },
   "source": [
    "# `Chapter 28: Inheritance and Subclasses`\n",
    "\n",
    "#### In this chapter, we'll delve into inheritance and subclasses in Python, which allow you to create new classes based on existing ones and customize their behavior.\n",
    "\n",
    "## Creating Subclasses\n",
    "\n",
    "#### Subclasses are new classes that inherit attributes and methods from an existing class (base or parent class). They can add new attributes and methods or override existing ones.\n",
    "\n",
    "#### Example (Creating Subclasses):\n"
   ]
  },
  {
   "cell_type": "code",
   "execution_count": 12,
   "id": "4c554a25",
   "metadata": {
    "execution": {
     "iopub.execute_input": "2023-08-13T19:29:23.759657Z",
     "iopub.status.busy": "2023-08-13T19:29:23.759074Z",
     "iopub.status.idle": "2023-08-13T19:29:23.765413Z",
     "shell.execute_reply": "2023-08-13T19:29:23.764607Z"
    },
    "papermill": {
     "duration": 0.033875,
     "end_time": "2023-08-13T19:29:23.768435",
     "exception": false,
     "start_time": "2023-08-13T19:29:23.734560",
     "status": "completed"
    },
    "tags": []
   },
   "outputs": [
    {
     "name": "stdout",
     "output_type": "stream",
     "text": [
      "Whiskers meows!\n"
     ]
    }
   ],
   "source": [
    "class Animal:\n",
    "    def __init__(self, name):\n",
    "        self.name = name\n",
    "    \n",
    "    def speak(self):\n",
    "        pass\n",
    "\n",
    "class Cat(Animal):\n",
    "    def speak(self):\n",
    "        print(f\"{self.name} meows!\")\n",
    "\n",
    "class Dog(Animal):\n",
    "    def speak(self):\n",
    "        print(f\"{self.name} barks!\")\n",
    "\n",
    "cat = Cat(\"Whiskers\")\n",
    "dog = Dog(\"Buddy\")\n",
    "\n",
    "cat.speak()  # Output: Whiskers meows!"
   ]
  },
  {
   "cell_type": "markdown",
   "id": "4ba36d54",
   "metadata": {
    "papermill": {
     "duration": 0.023705,
     "end_time": "2023-08-13T19:29:23.819389",
     "exception": false,
     "start_time": "2023-08-13T19:29:23.795684",
     "status": "completed"
    },
    "tags": []
   },
   "source": [
    "## Overriding Methods\n",
    "#### Subclasses can override methods of the base class by defining methods with the same name. This allows you to customize the behavior of methods for specific subclasses.\n",
    "\n",
    "### Example (Overriding Methods):"
   ]
  },
  {
   "cell_type": "code",
   "execution_count": 13,
   "id": "4530012a",
   "metadata": {
    "execution": {
     "iopub.execute_input": "2023-08-13T19:29:23.868543Z",
     "iopub.status.busy": "2023-08-13T19:29:23.867836Z",
     "iopub.status.idle": "2023-08-13T19:29:23.875878Z",
     "shell.execute_reply": "2023-08-13T19:29:23.874285Z"
    },
    "papermill": {
     "duration": 0.035747,
     "end_time": "2023-08-13T19:29:23.878730",
     "exception": false,
     "start_time": "2023-08-13T19:29:23.842983",
     "status": "completed"
    },
    "tags": []
   },
   "outputs": [
    {
     "name": "stdout",
     "output_type": "stream",
     "text": [
      "Car is driving.\n",
      "Vehicle is driving.\n"
     ]
    }
   ],
   "source": [
    "class Vehicle:\n",
    "    def drive(self):\n",
    "        print(\"Vehicle is driving.\")\n",
    "\n",
    "class Car(Vehicle):\n",
    "    def drive(self):\n",
    "        print(\"Car is driving.\")\n",
    "\n",
    "class Bicycle(Vehicle):\n",
    "    pass\n",
    "\n",
    "car = Car()\n",
    "bike = Bicycle()\n",
    "\n",
    "car.drive()  # Output: Car is driving.\n",
    "bike.drive()  # Output: Vehicle is driving."
   ]
  },
  {
   "cell_type": "markdown",
   "id": "a8cdf4a4",
   "metadata": {
    "papermill": {
     "duration": 0.024201,
     "end_time": "2023-08-13T19:29:23.928450",
     "exception": false,
     "start_time": "2023-08-13T19:29:23.904249",
     "status": "completed"
    },
    "tags": []
   },
   "source": [
    "## Method Resolution Order (MRO)\n",
    "#### Python follows the C3 Linearization algorithm to determine the order in which methods are resolved in multiple inheritance scenarios.\n",
    "\n",
    "## Conclusion\n",
    "#### Inheritance and subclasses provide a powerful way to create new classes based on existing ones and customize their behavior. Subclasses can override methods to tailor functionality to their specific needs."
   ]
  },
  {
   "cell_type": "markdown",
   "id": "d332b15a",
   "metadata": {
    "papermill": {
     "duration": 0.023222,
     "end_time": "2023-08-13T19:29:23.974424",
     "exception": false,
     "start_time": "2023-08-13T19:29:23.951202",
     "status": "completed"
    },
    "tags": []
   },
   "source": [
    "\n",
    "<h1 align=\"left\"><font color='red'>29</font></h1>\n"
   ]
  },
  {
   "cell_type": "markdown",
   "id": "186a2e24",
   "metadata": {
    "papermill": {
     "duration": 0.023232,
     "end_time": "2023-08-13T19:29:24.020696",
     "exception": false,
     "start_time": "2023-08-13T19:29:23.997464",
     "status": "completed"
    },
    "tags": []
   },
   "source": [
    "# `Chapter 29: Method Overriding`\n",
    "\n",
    "#### In this chapter, we'll take a closer look at method overriding in Python, which allows you to provide a new implementation for a method in a subclass, changing its behavior.\n",
    "\n",
    "## Method Overriding\n",
    "\n",
    "### Method overriding occurs when a subclass provides a new implementation for a method that is already defined in its base class. This allows you to customize the behavior of the method for the subclass.\n",
    "\n",
    "#### Example (Method Overriding):\n",
    "\n"
   ]
  },
  {
   "cell_type": "code",
   "execution_count": 14,
   "id": "1b9c8bd4",
   "metadata": {
    "execution": {
     "iopub.execute_input": "2023-08-13T19:29:24.070615Z",
     "iopub.status.busy": "2023-08-13T19:29:24.069913Z",
     "iopub.status.idle": "2023-08-13T19:29:24.078392Z",
     "shell.execute_reply": "2023-08-13T19:29:24.077322Z"
    },
    "papermill": {
     "duration": 0.036591,
     "end_time": "2023-08-13T19:29:24.080517",
     "exception": false,
     "start_time": "2023-08-13T19:29:24.043926",
     "status": "completed"
    },
    "tags": []
   },
   "outputs": [
    {
     "name": "stdout",
     "output_type": "stream",
     "text": [
      "Circle Area: 78.53975\n",
      "Square Area: 16\n"
     ]
    }
   ],
   "source": [
    "class Shape:\n",
    "    def area(self):\n",
    "        pass\n",
    "\n",
    "class Circle(Shape):\n",
    "    def __init__(self, radius):\n",
    "        self.radius = radius\n",
    "    \n",
    "    def area(self):\n",
    "        return 3.14159 * self.radius ** 2\n",
    "\n",
    "class Square(Shape):\n",
    "    def __init__(self, side):\n",
    "        self.side = side\n",
    "    \n",
    "    def area(self):\n",
    "        return self.side ** 2\n",
    "\n",
    "circle = Circle(5)\n",
    "square = Square(4)\n",
    "\n",
    "print(\"Circle Area:\", circle.area())  # Output: Circle Area: 78.53975\n",
    "print(\"Square Area:\", square.area())  # Output: Square Area: 16\n"
   ]
  },
  {
   "cell_type": "markdown",
   "id": "9e683f93",
   "metadata": {
    "papermill": {
     "duration": 0.024843,
     "end_time": "2023-08-13T19:29:24.129642",
     "exception": false,
     "start_time": "2023-08-13T19:29:24.104799",
     "status": "completed"
    },
    "tags": []
   },
   "source": [
    "## `Base Class Method Call`\n",
    "#### In a subclass, you can call the method of the base class using the super() function. This allows you to access the overridden method in the base class.\n",
    "\n",
    "### Example (Base Class Method Call):"
   ]
  },
  {
   "cell_type": "code",
   "execution_count": 15,
   "id": "dde5eb90",
   "metadata": {
    "execution": {
     "iopub.execute_input": "2023-08-13T19:29:24.178892Z",
     "iopub.status.busy": "2023-08-13T19:29:24.178509Z",
     "iopub.status.idle": "2023-08-13T19:29:24.183849Z",
     "shell.execute_reply": "2023-08-13T19:29:24.182986Z"
    },
    "papermill": {
     "duration": 0.033399,
     "end_time": "2023-08-13T19:29:24.186349",
     "exception": false,
     "start_time": "2023-08-13T19:29:24.152950",
     "status": "completed"
    },
    "tags": []
   },
   "outputs": [
    {
     "name": "stdout",
     "output_type": "stream",
     "text": [
      "Animal speaks.\n",
      "Dog barks.\n"
     ]
    }
   ],
   "source": [
    "\n",
    "class Animal:\n",
    "    def speak(self):\n",
    "        print(\"Animal speaks.\")\n",
    "\n",
    "class Dog(Animal):\n",
    "    def speak(self):\n",
    "        super().speak()\n",
    "        print(\"Dog barks.\")\n",
    "\n",
    "dog = Dog()\n",
    "dog.speak()  # Output: Animal speaks. Dog barks.\n"
   ]
  },
  {
   "cell_type": "markdown",
   "id": "bcb13f93",
   "metadata": {
    "papermill": {
     "duration": 0.024533,
     "end_time": "2023-08-13T19:29:24.234739",
     "exception": false,
     "start_time": "2023-08-13T19:29:24.210206",
     "status": "completed"
    },
    "tags": []
   },
   "source": [
    "## Conclusion\n",
    "#### Method overriding is a powerful concept in object-oriented programming that allows you to customize the behavior of methods in subclasses. It promotes code reuse and flexibility by enabling you to provide specialized implementations."
   ]
  },
  {
   "cell_type": "markdown",
   "id": "2b189ed7",
   "metadata": {
    "papermill": {
     "duration": 0.024688,
     "end_time": "2023-08-13T19:29:24.286683",
     "exception": false,
     "start_time": "2023-08-13T19:29:24.261995",
     "status": "completed"
    },
    "tags": []
   },
   "source": [
    "\n",
    "<h1 align=\"left\"><font color='red'>30</font></h1>\n"
   ]
  },
  {
   "cell_type": "markdown",
   "id": "90f27893",
   "metadata": {
    "papermill": {
     "duration": 0.023013,
     "end_time": "2023-08-13T19:29:24.334354",
     "exception": false,
     "start_time": "2023-08-13T19:29:24.311341",
     "status": "completed"
    },
    "tags": []
   },
   "source": [
    "# `Chapter 30: Multiple Inheritance`\n",
    "\n",
    "#### In this chapter, we'll explore multiple inheritance in Python, which allows a class to inherit attributes and methods from more than one parent class.\n",
    "\n",
    "## Multiple Inheritance\n",
    "\n",
    "#### Multiple inheritance occurs when a class inherits attributes and methods from two or more parent classes. This allows you to combine features from multiple sources.\n",
    "\n",
    "#### Example (Multiple Inheritance):\n",
    "\n"
   ]
  },
  {
   "cell_type": "code",
   "execution_count": 16,
   "id": "96408b92",
   "metadata": {
    "execution": {
     "iopub.execute_input": "2023-08-13T19:29:24.384763Z",
     "iopub.status.busy": "2023-08-13T19:29:24.384331Z",
     "iopub.status.idle": "2023-08-13T19:29:24.392178Z",
     "shell.execute_reply": "2023-08-13T19:29:24.390405Z"
    },
    "papermill": {
     "duration": 0.036202,
     "end_time": "2023-08-13T19:29:24.394664",
     "exception": false,
     "start_time": "2023-08-13T19:29:24.358462",
     "status": "completed"
    },
    "tags": []
   },
   "outputs": [
    {
     "name": "stdout",
     "output_type": "stream",
     "text": [
      "Method 1 from Parent 1\n",
      "Method 2 from Parent 2\n"
     ]
    }
   ],
   "source": [
    "\n",
    "class Parent1:\n",
    "    def method1(self):\n",
    "        print(\"Method 1 from Parent 1\")\n",
    "\n",
    "class Parent2:\n",
    "    def method2(self):\n",
    "        print(\"Method 2 from Parent 2\")\n",
    "\n",
    "class Child(Parent1, Parent2):\n",
    "    pass\n",
    "\n",
    "child = Child()\n",
    "child.method1()  # Output: Method 1 from Parent 1\n",
    "child.method2()  # Output: Method 2 from Parent 2\n"
   ]
  },
  {
   "cell_type": "markdown",
   "id": "aa08a72f",
   "metadata": {
    "papermill": {
     "duration": 0.023541,
     "end_time": "2023-08-13T19:29:24.442002",
     "exception": false,
     "start_time": "2023-08-13T19:29:24.418461",
     "status": "completed"
    },
    "tags": []
   },
   "source": [
    "## Method Resolution Order (MRO) in Multiple Inheritance\n",
    "#### Python uses the C3 Linearization algorithm to determine the method resolution order (MRO) in cases of multiple inheritance. The MRO ensures a consistent order for method lookup.\n",
    "\n",
    "### Example (MRO in Multiple Inheritance):"
   ]
  },
  {
   "cell_type": "code",
   "execution_count": 17,
   "id": "c989eddc",
   "metadata": {
    "execution": {
     "iopub.execute_input": "2023-08-13T19:29:24.492623Z",
     "iopub.status.busy": "2023-08-13T19:29:24.492241Z",
     "iopub.status.idle": "2023-08-13T19:29:24.499923Z",
     "shell.execute_reply": "2023-08-13T19:29:24.498315Z"
    },
    "papermill": {
     "duration": 0.036185,
     "end_time": "2023-08-13T19:29:24.502227",
     "exception": false,
     "start_time": "2023-08-13T19:29:24.466042",
     "status": "completed"
    },
    "tags": []
   },
   "outputs": [
    {
     "name": "stdout",
     "output_type": "stream",
     "text": [
      "Method from C\n"
     ]
    }
   ],
   "source": [
    "\n",
    "class A:\n",
    "    def method(self):\n",
    "        print(\"Method from A\")\n",
    "\n",
    "class B(A):\n",
    "    pass\n",
    "\n",
    "class C(A):\n",
    "    def method(self):\n",
    "        print(\"Method from C\")\n",
    "\n",
    "class D(B, C):\n",
    "    pass\n",
    "\n",
    "d = D()\n",
    "d.method()  # Output: Method from C\n"
   ]
  },
  {
   "cell_type": "markdown",
   "id": "dbdd1fe2",
   "metadata": {
    "papermill": {
     "duration": 0.023902,
     "end_time": "2023-08-13T19:29:24.550817",
     "exception": false,
     "start_time": "2023-08-13T19:29:24.526915",
     "status": "completed"
    },
    "tags": []
   },
   "source": [
    "## Diamond Problem\n",
    "#### The diamond problem is a challenge that can arise in multiple inheritance when a class inherits from two classes that have a common ancestor. Python's MRO helps resolve this issue.\n",
    "\n",
    "### Conclusion\n",
    "#### Multiple inheritance is a powerful feature that allows classes to inherit attributes and methods from multiple parent classes. Python's method resolution order (MRO) ensures a consistent and predictable method lookup."
   ]
  },
  {
   "cell_type": "markdown",
   "id": "a24a8728",
   "metadata": {
    "papermill": {
     "duration": 0.023581,
     "end_time": "2023-08-13T19:29:24.599039",
     "exception": false,
     "start_time": "2023-08-13T19:29:24.575458",
     "status": "completed"
    },
    "tags": []
   },
   "source": [
    "\n",
    "<h1 align=\"left\"><font color='red'>31</font></h1>\n"
   ]
  },
  {
   "cell_type": "markdown",
   "id": "c87cf2dc",
   "metadata": {
    "papermill": {
     "duration": 0.024194,
     "end_time": "2023-08-13T19:29:24.648616",
     "exception": false,
     "start_time": "2023-08-13T19:29:24.624422",
     "status": "completed"
    },
    "tags": []
   },
   "source": [
    "# `Chapter 31: Encapsulation and Access Modifiers`\n",
    "\n",
    "#### In this chapter, we'll delve into encapsulation, access modifiers, and techniques to control the visibility of attributes and methods in Python classes.\n",
    "\n",
    "## Access Modifiers\n",
    "\n",
    "#### Access modifiers are keywords that control the visibility of attributes and methods within a class. Python provides convention-based access control using underscores.\n",
    "\n",
    "#### Example (Access Modifiers):\n"
   ]
  },
  {
   "cell_type": "code",
   "execution_count": 18,
   "id": "39d4f676",
   "metadata": {
    "execution": {
     "iopub.execute_input": "2023-08-13T19:29:24.697756Z",
     "iopub.status.busy": "2023-08-13T19:29:24.697314Z",
     "iopub.status.idle": "2023-08-13T19:29:24.705306Z",
     "shell.execute_reply": "2023-08-13T19:29:24.703686Z"
    },
    "papermill": {
     "duration": 0.035343,
     "end_time": "2023-08-13T19:29:24.708185",
     "exception": false,
     "start_time": "2023-08-13T19:29:24.672842",
     "status": "completed"
    },
    "tags": []
   },
   "outputs": [
    {
     "name": "stdout",
     "output_type": "stream",
     "text": [
      "Name: Alice\n"
     ]
    }
   ],
   "source": [
    "class Student:\n",
    "    def __init__(self, name, age):\n",
    "        self._name = name  # Protected attribute\n",
    "        self.__age = age   # Private attribute\n",
    "    \n",
    "    def _display_name(self):  # Protected method\n",
    "        print(\"Name:\", self._name)\n",
    "    \n",
    "    def __display_age(self):  # Private method\n",
    "        print(\"Age:\", self.__age)\n",
    "\n",
    "student = Student(\"Alice\", 20)\n",
    "student._display_name()  # Output: Name: Alice\n",
    "# student.__display_age()  # Raises AttributeError\n"
   ]
  },
  {
   "cell_type": "markdown",
   "id": "bbf8a0a2",
   "metadata": {
    "papermill": {
     "duration": 0.023982,
     "end_time": "2023-08-13T19:29:24.756675",
     "exception": false,
     "start_time": "2023-08-13T19:29:24.732693",
     "status": "completed"
    },
    "tags": []
   },
   "source": [
    "## Properties and Getters/Setters\n",
    "#### Properties provide a way to encapsulate attributes and define custom behavior for getting and setting their values using getter and setter methods.\n",
    "\n",
    "### Example (Properties and Getters/Setters):"
   ]
  },
  {
   "cell_type": "code",
   "execution_count": 19,
   "id": "acc1804f",
   "metadata": {
    "execution": {
     "iopub.execute_input": "2023-08-13T19:29:24.807742Z",
     "iopub.status.busy": "2023-08-13T19:29:24.806669Z",
     "iopub.status.idle": "2023-08-13T19:29:24.815109Z",
     "shell.execute_reply": "2023-08-13T19:29:24.813707Z"
    },
    "papermill": {
     "duration": 0.036328,
     "end_time": "2023-08-13T19:29:24.817054",
     "exception": false,
     "start_time": "2023-08-13T19:29:24.780726",
     "status": "completed"
    },
    "tags": []
   },
   "outputs": [
    {
     "name": "stdout",
     "output_type": "stream",
     "text": [
      "5\n",
      "7\n"
     ]
    }
   ],
   "source": [
    "\n",
    "class Circle:\n",
    "    def __init__(self, radius):\n",
    "        self._radius = radius\n",
    "    \n",
    "    @property\n",
    "    def radius(self):\n",
    "        return self._radius\n",
    "    \n",
    "    @radius.setter\n",
    "    def radius(self, value):\n",
    "        if value >= 0:\n",
    "            self._radius = value\n",
    "        else:\n",
    "            raise ValueError(\"Radius cannot be negative\")\n",
    "\n",
    "circle = Circle(5)\n",
    "print(circle.radius)  # Output: 5\n",
    "circle.radius = 7\n",
    "print(circle.radius)  # Output: 7\n",
    "# circle.radius = -3  # Raises ValueError\n"
   ]
  },
  {
   "cell_type": "markdown",
   "id": "0e85318e",
   "metadata": {
    "papermill": {
     "duration": 0.024412,
     "end_time": "2023-08-13T19:29:24.865907",
     "exception": false,
     "start_time": "2023-08-13T19:29:24.841495",
     "status": "completed"
    },
    "tags": []
   },
   "source": [
    "## Conclusion\n",
    "#### Encapsulation and access modifiers provide a way to control the visibility of attributes and methods in Python classes. Properties and getters/setters allow you to customize attribute access and ensure data integrity."
   ]
  },
  {
   "cell_type": "markdown",
   "id": "448480af",
   "metadata": {
    "papermill": {
     "duration": 0.025594,
     "end_time": "2023-08-13T19:29:24.918488",
     "exception": false,
     "start_time": "2023-08-13T19:29:24.892894",
     "status": "completed"
    },
    "tags": []
   },
   "source": [
    "\n",
    "<h1 align=\"left\"><font color='red'>32</font></h1>\n"
   ]
  },
  {
   "cell_type": "markdown",
   "id": "d156eb34",
   "metadata": {
    "papermill": {
     "duration": 0.024145,
     "end_time": "2023-08-13T19:29:24.966266",
     "exception": false,
     "start_time": "2023-08-13T19:29:24.942121",
     "status": "completed"
    },
    "tags": []
   },
   "source": [
    "# `Chapter 32: Abstract Classes and Interfaces`\n",
    "\n",
    "#### In this chapter, we'll explore abstract classes and interfaces in Python, which provide a way to define common behavior and structure for classes.\n",
    "\n",
    "## Abstract Classes\n",
    "\n",
    "#### An abstract class is a class that cannot be instantiated directly and is meant to serve as a blueprint for other classes. It may contain abstract methods that must be implemented by its subclasses.\n",
    "\n",
    "#### Example (Abstract Class):\n",
    "\n"
   ]
  },
  {
   "cell_type": "code",
   "execution_count": 20,
   "id": "7dbc0b32",
   "metadata": {
    "execution": {
     "iopub.execute_input": "2023-08-13T19:29:25.016732Z",
     "iopub.status.busy": "2023-08-13T19:29:25.014991Z",
     "iopub.status.idle": "2023-08-13T19:29:25.025088Z",
     "shell.execute_reply": "2023-08-13T19:29:25.023605Z"
    },
    "papermill": {
     "duration": 0.037427,
     "end_time": "2023-08-13T19:29:25.027170",
     "exception": false,
     "start_time": "2023-08-13T19:29:24.989743",
     "status": "completed"
    },
    "tags": []
   },
   "outputs": [
    {
     "name": "stdout",
     "output_type": "stream",
     "text": [
      "Circle Area: 78.53975\n",
      "Square Area: 16\n"
     ]
    }
   ],
   "source": [
    "\n",
    "from abc import ABC, abstractmethod\n",
    "\n",
    "class Shape(ABC):\n",
    "    @abstractmethod\n",
    "    def area(self):\n",
    "        pass\n",
    "\n",
    "class Circle(Shape):\n",
    "    def __init__(self, radius):\n",
    "        self.radius = radius\n",
    "    \n",
    "    def area(self):\n",
    "        return 3.14159 * self.radius ** 2\n",
    "\n",
    "class Square(Shape):\n",
    "    def __init__(self, side):\n",
    "        self.side = side\n",
    "    \n",
    "    def area(self):\n",
    "        return self.side ** 2\n",
    "\n",
    "circle = Circle(5)\n",
    "square = Square(4)\n",
    "\n",
    "print(\"Circle Area:\", circle.area())  # Output: Circle Area: 78.53975\n",
    "print(\"Square Area:\", square.area())  # Output: Square Area: 16\n"
   ]
  },
  {
   "cell_type": "markdown",
   "id": "b340733b",
   "metadata": {
    "papermill": {
     "duration": 0.023541,
     "end_time": "2023-08-13T19:29:25.074569",
     "exception": false,
     "start_time": "2023-08-13T19:29:25.051028",
     "status": "completed"
    },
    "tags": []
   },
   "source": [
    "## Interfaces\n",
    "#### Interfaces define a contract for classes to follow, specifying which methods must be implemented. In Python, interfaces are typically represented using abstract base classes.\n",
    "\n",
    "### Example (Interface-like Abstract Class):"
   ]
  },
  {
   "cell_type": "code",
   "execution_count": 21,
   "id": "8826b951",
   "metadata": {
    "execution": {
     "iopub.execute_input": "2023-08-13T19:29:25.124119Z",
     "iopub.status.busy": "2023-08-13T19:29:25.123559Z",
     "iopub.status.idle": "2023-08-13T19:29:25.130250Z",
     "shell.execute_reply": "2023-08-13T19:29:25.128711Z"
    },
    "papermill": {
     "duration": 0.034846,
     "end_time": "2023-08-13T19:29:25.132845",
     "exception": false,
     "start_time": "2023-08-13T19:29:25.097999",
     "status": "completed"
    },
    "tags": []
   },
   "outputs": [
    {
     "name": "stdout",
     "output_type": "stream",
     "text": [
      "Drawing a circle\n",
      "Drawing a square\n"
     ]
    }
   ],
   "source": [
    "\n",
    "from abc import ABC, abstractmethod\n",
    "\n",
    "class Drawable(ABC):\n",
    "    @abstractmethod\n",
    "    def draw(self):\n",
    "        pass\n",
    "\n",
    "class Circle(Drawable):\n",
    "    def draw(self):\n",
    "        print(\"Drawing a circle\")\n",
    "\n",
    "class Square(Drawable):\n",
    "    def draw(self):\n",
    "        print(\"Drawing a square\")\n",
    "\n",
    "circle = Circle()\n",
    "square = Square()\n",
    "\n",
    "circle.draw()  # Output: Drawing a circle\n",
    "square.draw()  # Output: Drawing a square\n"
   ]
  },
  {
   "cell_type": "markdown",
   "id": "36101492",
   "metadata": {
    "papermill": {
     "duration": 0.023702,
     "end_time": "2023-08-13T19:29:25.180761",
     "exception": false,
     "start_time": "2023-08-13T19:29:25.157059",
     "status": "completed"
    },
    "tags": []
   },
   "source": [
    "## Conclusion\n",
    "#### Abstract classes and interfaces provide a way to define common structure and behavior for classes. Abstract classes can have abstract methods that must be implemented by subclasses, while interfaces define a contract for method implementation."
   ]
  },
  {
   "cell_type": "markdown",
   "id": "e0142949",
   "metadata": {
    "papermill": {
     "duration": 0.024524,
     "end_time": "2023-08-13T19:29:25.229677",
     "exception": false,
     "start_time": "2023-08-13T19:29:25.205153",
     "status": "completed"
    },
    "tags": []
   },
   "source": [
    "\n",
    "<h1 align=\"left\"><font color='red'>33</font></h1>\n"
   ]
  },
  {
   "cell_type": "markdown",
   "id": "f9833d04",
   "metadata": {
    "papermill": {
     "duration": 0.023944,
     "end_time": "2023-08-13T19:29:25.279112",
     "exception": false,
     "start_time": "2023-08-13T19:29:25.255168",
     "status": "completed"
    },
    "tags": []
   },
   "source": [
    "# `Chapter 33: Polymorphism and Duck Typing`\n",
    "\n",
    "#### In this chapter, we'll explore polymorphism and duck typing in Python, which allow objects of different classes to be treated interchangeably based on their behavior.\n",
    "\n",
    "## `Polymorphism`\n",
    "\n",
    "#### Polymorphism is a concept in object-oriented programming where objects of different classes can be treated as instances of a common base class. This enables flexibility and interchangeability in code.\n",
    "\n",
    "#### Example (Polymorphism):\n"
   ]
  },
  {
   "cell_type": "code",
   "execution_count": 22,
   "id": "619a5ebf",
   "metadata": {
    "execution": {
     "iopub.execute_input": "2023-08-13T19:29:25.330323Z",
     "iopub.status.busy": "2023-08-13T19:29:25.329066Z",
     "iopub.status.idle": "2023-08-13T19:29:25.337961Z",
     "shell.execute_reply": "2023-08-13T19:29:25.336827Z"
    },
    "papermill": {
     "duration": 0.036733,
     "end_time": "2023-08-13T19:29:25.339848",
     "exception": false,
     "start_time": "2023-08-13T19:29:25.303115",
     "status": "completed"
    },
    "tags": []
   },
   "outputs": [
    {
     "name": "stdout",
     "output_type": "stream",
     "text": [
      "Circle Area: 78.53975\n",
      "Square Area: 16\n"
     ]
    }
   ],
   "source": [
    "class Shape:\n",
    "    def area(self):\n",
    "        pass\n",
    "\n",
    "class Circle(Shape):\n",
    "    def __init__(self, radius):\n",
    "        self.radius = radius\n",
    "    \n",
    "    def area(self):\n",
    "        return 3.14159 * self.radius ** 2\n",
    "\n",
    "class Square(Shape):\n",
    "    def __init__(self, side):\n",
    "        self.side = side\n",
    "    \n",
    "    def area(self):\n",
    "        return self.side ** 2\n",
    "\n",
    "def calculate_area(shape):\n",
    "    return shape.area()\n",
    "\n",
    "circle = Circle(5)\n",
    "square = Square(4)\n",
    "\n",
    "print(\"Circle Area:\", calculate_area(circle))  # Output: Circle Area: 78.53975\n",
    "print(\"Square Area:\", calculate_area(square))  # Output: Square Area: 16\n"
   ]
  },
  {
   "cell_type": "markdown",
   "id": "6f4cfd9e",
   "metadata": {
    "papermill": {
     "duration": 0.024211,
     "end_time": "2023-08-13T19:29:25.388278",
     "exception": false,
     "start_time": "2023-08-13T19:29:25.364067",
     "status": "completed"
    },
    "tags": []
   },
   "source": [
    "## `Duck Typing`\n",
    "#### Duck typing is a dynamic typing concept in Python where the type or class of an object is determined by its behavior rather than its explicit type. If an object behaves like a certain type, it is treated as that type.\n",
    "\n",
    "### `Example (Duck Typing)`:"
   ]
  },
  {
   "cell_type": "code",
   "execution_count": 23,
   "id": "1a9d3aac",
   "metadata": {
    "execution": {
     "iopub.execute_input": "2023-08-13T19:29:25.438148Z",
     "iopub.status.busy": "2023-08-13T19:29:25.437248Z",
     "iopub.status.idle": "2023-08-13T19:29:25.444561Z",
     "shell.execute_reply": "2023-08-13T19:29:25.443767Z"
    },
    "papermill": {
     "duration": 0.034229,
     "end_time": "2023-08-13T19:29:25.446310",
     "exception": false,
     "start_time": "2023-08-13T19:29:25.412081",
     "status": "completed"
    },
    "tags": []
   },
   "outputs": [
    {
     "name": "stdout",
     "output_type": "stream",
     "text": [
      "Woof!\n",
      "Meow!\n",
      "Quack!\n"
     ]
    }
   ],
   "source": [
    "\n",
    "class Dog:\n",
    "    def sound(self):\n",
    "        return \"Woof!\"\n",
    "\n",
    "class Cat:\n",
    "    def sound(self):\n",
    "        return \"Meow!\"\n",
    "\n",
    "class Duck:\n",
    "    def sound(self):\n",
    "        return \"Quack!\"\n",
    "\n",
    "def make_sound(animal):\n",
    "    return animal.sound()\n",
    "\n",
    "dog = Dog()\n",
    "cat = Cat()\n",
    "duck = Duck()\n",
    "\n",
    "print(make_sound(dog))  # Output: Woof!\n",
    "print(make_sound(cat))  # Output: Meow!\n",
    "print(make_sound(duck))  # Output: Quack!\n"
   ]
  },
  {
   "cell_type": "markdown",
   "id": "e25c1b76",
   "metadata": {
    "papermill": {
     "duration": 0.02382,
     "end_time": "2023-08-13T19:29:25.494176",
     "exception": false,
     "start_time": "2023-08-13T19:29:25.470356",
     "status": "completed"
    },
    "tags": []
   },
   "source": [
    "## Conclusion\n",
    "#### Polymorphism and duck typing provide a flexible and dynamic approach to working with objects in Python. They allow you to write code that operates on objects of different classes as long as they exhibit the expected behavior."
   ]
  },
  {
   "cell_type": "markdown",
   "id": "9cc07507",
   "metadata": {
    "papermill": {
     "duration": 0.024271,
     "end_time": "2023-08-13T19:29:25.542786",
     "exception": false,
     "start_time": "2023-08-13T19:29:25.518515",
     "status": "completed"
    },
    "tags": []
   },
   "source": [
    "\n",
    "<h1 align=\"left\"><font color='red'>34</font></h1>\n"
   ]
  },
  {
   "cell_type": "markdown",
   "id": "6d50934a",
   "metadata": {
    "papermill": {
     "duration": 0.023916,
     "end_time": "2023-08-13T19:29:25.591199",
     "exception": false,
     "start_time": "2023-08-13T19:29:25.567283",
     "status": "completed"
    },
    "tags": []
   },
   "source": [
    "# `Chapter 34: Magic Methods and Operator Overloading`\n",
    "\n",
    "#### In this chapter, we'll delve into magic methods and operator overloading in Python, which allow you to define special behaviors for built-in operations.\n",
    "\n",
    "## Magic Methods\n",
    "\n",
    "#### Magic methods, also known as dunder methods (double underscore methods), are special methods in Python that have double underscores at the beginning and end of their names. They allow you to customize the behavior of classes in response to built-in operations.\n",
    "\n",
    "#### Example (Magic Methods):\n"
   ]
  },
  {
   "cell_type": "code",
   "execution_count": 24,
   "id": "1a4da873",
   "metadata": {
    "execution": {
     "iopub.execute_input": "2023-08-13T19:29:25.645590Z",
     "iopub.status.busy": "2023-08-13T19:29:25.645172Z",
     "iopub.status.idle": "2023-08-13T19:29:25.653222Z",
     "shell.execute_reply": "2023-08-13T19:29:25.651934Z"
    },
    "papermill": {
     "duration": 0.039301,
     "end_time": "2023-08-13T19:29:25.655356",
     "exception": false,
     "start_time": "2023-08-13T19:29:25.616055",
     "status": "completed"
    },
    "tags": []
   },
   "outputs": [
    {
     "name": "stdout",
     "output_type": "stream",
     "text": [
      "4 + 6i\n"
     ]
    }
   ],
   "source": [
    "\n",
    "class ComplexNumber:\n",
    "    def __init__(self, real, imaginary):\n",
    "        self.real = real\n",
    "        self.imaginary = imaginary\n",
    "    \n",
    "    def __add__(self, other):\n",
    "        real_sum = self.real + other.real\n",
    "        imag_sum = self.imaginary + other.imaginary\n",
    "        return ComplexNumber(real_sum, imag_sum)\n",
    "    \n",
    "    def __str__(self):\n",
    "        return f\"{self.real} + {self.imaginary}i\"\n",
    "\n",
    "num1 = ComplexNumber(3, 4)\n",
    "num2 = ComplexNumber(1, 2)\n",
    "\n",
    "sum_result = num1 + num2\n",
    "print(sum_result)  # Output: 4 + 6i\n"
   ]
  },
  {
   "cell_type": "markdown",
   "id": "f09b87cf",
   "metadata": {
    "papermill": {
     "duration": 0.024902,
     "end_time": "2023-08-13T19:29:25.706859",
     "exception": false,
     "start_time": "2023-08-13T19:29:25.681957",
     "status": "completed"
    },
    "tags": []
   },
   "source": [
    "## `Operator Overloading`\n",
    "#### Operator overloading allows you to define the behavior of built-in operators for custom classes. By implementing magic methods, you can specify how operators work with instances of your class.\n",
    "\n",
    "### Example (Operator Overloading):"
   ]
  },
  {
   "cell_type": "code",
   "execution_count": 25,
   "id": "d6fc45c6",
   "metadata": {
    "execution": {
     "iopub.execute_input": "2023-08-13T19:29:25.760189Z",
     "iopub.status.busy": "2023-08-13T19:29:25.759289Z",
     "iopub.status.idle": "2023-08-13T19:29:25.768134Z",
     "shell.execute_reply": "2023-08-13T19:29:25.766518Z"
    },
    "papermill": {
     "duration": 0.038681,
     "end_time": "2023-08-13T19:29:25.770492",
     "exception": false,
     "start_time": "2023-08-13T19:29:25.731811",
     "status": "completed"
    },
    "tags": []
   },
   "outputs": [
    {
     "name": "stdout",
     "output_type": "stream",
     "text": [
      "(4, 6)\n"
     ]
    }
   ],
   "source": [
    "\n",
    "class Vector:\n",
    "    def __init__(self, x, y):\n",
    "        self.x = x\n",
    "        self.y = y\n",
    "    \n",
    "    def __add__(self, other):\n",
    "        x_sum = self.x + other.x\n",
    "        y_sum = self.y + other.y\n",
    "        return Vector(x_sum, y_sum)\n",
    "    \n",
    "    def __str__(self):\n",
    "        return f\"({self.x}, {self.y})\"\n",
    "\n",
    "v1 = Vector(1, 2)\n",
    "v2 = Vector(3, 4)\n",
    "\n",
    "sum_vector = v1 + v2\n",
    "print(sum_vector)  # Output: (4, 6)\n"
   ]
  },
  {
   "cell_type": "markdown",
   "id": "58caeea1",
   "metadata": {
    "papermill": {
     "duration": 0.024925,
     "end_time": "2023-08-13T19:29:25.820146",
     "exception": false,
     "start_time": "2023-08-13T19:29:25.795221",
     "status": "completed"
    },
    "tags": []
   },
   "source": [
    "## Conclusion\n",
    "#### Magic methods and operator overloading allow you to define custom behaviors for built-in operations and operators. By implementing magic methods, you can make your classes more intuitive and user-friendly."
   ]
  },
  {
   "cell_type": "markdown",
   "id": "df8a25ed",
   "metadata": {
    "papermill": {
     "duration": 0.024424,
     "end_time": "2023-08-13T19:29:25.870000",
     "exception": false,
     "start_time": "2023-08-13T19:29:25.845576",
     "status": "completed"
    },
    "tags": []
   },
   "source": [
    "<h1 align=\"left\"><font color='red'>35</font></h1>"
   ]
  },
  {
   "cell_type": "markdown",
   "id": "bac1c3d4",
   "metadata": {
    "papermill": {
     "duration": 0.02622,
     "end_time": "2023-08-13T19:29:25.922202",
     "exception": false,
     "start_time": "2023-08-13T19:29:25.895982",
     "status": "completed"
    },
    "tags": []
   },
   "source": [
    "# `Chapter 35: Lambda Functions`\n",
    "\n",
    "#### In this chapter, we'll explore lambda functions in Python, which allow you to create small, anonymous functions for quick and simple tasks.\n",
    "\n",
    "## Lambda Functions\n",
    "\n",
    "### Lambda functions, also known as anonymous functions, are small, one-line functions that can be defined without a name using the `lambda` keyword.\n",
    "\n",
    "#### Example (Lambda Functions):\n",
    "\n"
   ]
  },
  {
   "cell_type": "code",
   "execution_count": 26,
   "id": "c51e970e",
   "metadata": {
    "execution": {
     "iopub.execute_input": "2023-08-13T19:29:25.975757Z",
     "iopub.status.busy": "2023-08-13T19:29:25.974021Z",
     "iopub.status.idle": "2023-08-13T19:29:25.981354Z",
     "shell.execute_reply": "2023-08-13T19:29:25.980417Z"
    },
    "papermill": {
     "duration": 0.036635,
     "end_time": "2023-08-13T19:29:25.984021",
     "exception": false,
     "start_time": "2023-08-13T19:29:25.947386",
     "status": "completed"
    },
    "tags": []
   },
   "outputs": [
    {
     "name": "stdout",
     "output_type": "stream",
     "text": [
      "25\n",
      "25\n"
     ]
    }
   ],
   "source": [
    "\n",
    "# Regular function\n",
    "def square(x):\n",
    "    return x ** 2\n",
    "\n",
    "# Equivalent lambda function\n",
    "square_lambda = lambda x: x ** 2\n",
    "\n",
    "print(square(5))           # Output: 25\n",
    "print(square_lambda(5))    # Output: 25"
   ]
  },
  {
   "cell_type": "markdown",
   "id": "7359543a",
   "metadata": {
    "papermill": {
     "duration": 0.024682,
     "end_time": "2023-08-13T19:29:26.033800",
     "exception": false,
     "start_time": "2023-08-13T19:29:26.009118",
     "status": "completed"
    },
    "tags": []
   },
   "source": [
    "## `Usage of Lambda Functions`\n",
    "#### Lambda functions are often used when a small function is needed for a short period and a full function definition is not necessary. They can be used in various contexts, such as sorting, mapping, and filtering.\n",
    "\n",
    "### Example (Using Lambda with Sorting):"
   ]
  },
  {
   "cell_type": "code",
   "execution_count": 27,
   "id": "dea63052",
   "metadata": {
    "execution": {
     "iopub.execute_input": "2023-08-13T19:29:26.086249Z",
     "iopub.status.busy": "2023-08-13T19:29:26.085856Z",
     "iopub.status.idle": "2023-08-13T19:29:26.092268Z",
     "shell.execute_reply": "2023-08-13T19:29:26.090781Z"
    },
    "papermill": {
     "duration": 0.035156,
     "end_time": "2023-08-13T19:29:26.094246",
     "exception": false,
     "start_time": "2023-08-13T19:29:26.059090",
     "status": "completed"
    },
    "tags": []
   },
   "outputs": [
    {
     "name": "stdout",
     "output_type": "stream",
     "text": [
      "['Bob', 'Eve', 'Alice', 'David', 'Charlie']\n"
     ]
    }
   ],
   "source": [
    "names = [\"Alice\", \"Bob\", \"Charlie\", \"David\", \"Eve\"]\n",
    "\n",
    "# Sort names based on length\n",
    "sorted_names = sorted(names, key=lambda name: len(name))\n",
    "print(sorted_names)  # Output: ['Bob', 'Eve', 'Alice', 'David', 'Charlie']\n"
   ]
  },
  {
   "cell_type": "markdown",
   "id": "faad81dd",
   "metadata": {
    "papermill": {
     "duration": 0.025496,
     "end_time": "2023-08-13T19:29:26.145062",
     "exception": false,
     "start_time": "2023-08-13T19:29:26.119566",
     "status": "completed"
    },
    "tags": []
   },
   "source": [
    "## `When to Use Lambda Functions`\n",
    "#### Lambda functions are suitable for simple operations where a named function is not required. However, for more complex logic, it's better to use regular named functions.\n",
    "\n",
    "## `Conclusion`\n",
    "#### Lambda functions provide a concise way to create small, anonymous functions for specific tasks. They are particularly useful in situations where a short function is needed temporarily."
   ]
  },
  {
   "cell_type": "markdown",
   "id": "f0e78d35",
   "metadata": {
    "papermill": {
     "duration": 0.024651,
     "end_time": "2023-08-13T19:29:26.195235",
     "exception": false,
     "start_time": "2023-08-13T19:29:26.170584",
     "status": "completed"
    },
    "tags": []
   },
   "source": [
    "\n",
    "<h1 align=\"left\"><font color='red'>36</font></h1>\n"
   ]
  },
  {
   "cell_type": "markdown",
   "id": "fa2ddec3",
   "metadata": {
    "papermill": {
     "duration": 0.024425,
     "end_time": "2023-08-13T19:29:26.244225",
     "exception": false,
     "start_time": "2023-08-13T19:29:26.219800",
     "status": "completed"
    },
    "tags": []
   },
   "source": [
    "# `Chapter 36: Map, Filter, and Reduce`\n",
    "\n",
    "#### In this chapter, we'll explore the `map`, `filter`, and `reduce` functions in Python, which are powerful tools for processing and transforming data in functional programming style.\n",
    "\n",
    "## Map Function\n",
    "\n",
    "#### The `map` function applies a given function to each item in an iterable (such as a list) and returns an iterator with the results.\n",
    "\n",
    "#### Example (Map Function):\n",
    "\n"
   ]
  },
  {
   "cell_type": "code",
   "execution_count": 28,
   "id": "e3ab6ccc",
   "metadata": {
    "execution": {
     "iopub.execute_input": "2023-08-13T19:29:26.297809Z",
     "iopub.status.busy": "2023-08-13T19:29:26.297042Z",
     "iopub.status.idle": "2023-08-13T19:29:26.302979Z",
     "shell.execute_reply": "2023-08-13T19:29:26.302074Z"
    },
    "papermill": {
     "duration": 0.034127,
     "end_time": "2023-08-13T19:29:26.304847",
     "exception": false,
     "start_time": "2023-08-13T19:29:26.270720",
     "status": "completed"
    },
    "tags": []
   },
   "outputs": [
    {
     "name": "stdout",
     "output_type": "stream",
     "text": [
      "[1, 4, 9, 16, 25]\n"
     ]
    }
   ],
   "source": [
    "numbers = [1, 2, 3, 4, 5]\n",
    "# Square each number using map\n",
    "squared = map(lambda x: x ** 2, numbers)\n",
    "squared_list = list(squared)\n",
    "print(squared_list)  # Output: [1, 4, 9, 16, 25]\n"
   ]
  },
  {
   "cell_type": "markdown",
   "id": "4f7dac31",
   "metadata": {
    "papermill": {
     "duration": 0.023728,
     "end_time": "2023-08-13T19:29:26.352642",
     "exception": false,
     "start_time": "2023-08-13T19:29:26.328914",
     "status": "completed"
    },
    "tags": []
   },
   "source": [
    "## Filter Function\n",
    "#### The filter function filters items from an iterable based on a given function's criteria and returns an iterator with the filtered items.\n",
    "\n",
    "### Example (Filter Function):"
   ]
  },
  {
   "cell_type": "code",
   "execution_count": 29,
   "id": "1ac27065",
   "metadata": {
    "execution": {
     "iopub.execute_input": "2023-08-13T19:29:26.402463Z",
     "iopub.status.busy": "2023-08-13T19:29:26.401793Z",
     "iopub.status.idle": "2023-08-13T19:29:26.407697Z",
     "shell.execute_reply": "2023-08-13T19:29:26.406779Z"
    },
    "papermill": {
     "duration": 0.032712,
     "end_time": "2023-08-13T19:29:26.409396",
     "exception": false,
     "start_time": "2023-08-13T19:29:26.376684",
     "status": "completed"
    },
    "tags": []
   },
   "outputs": [
    {
     "name": "stdout",
     "output_type": "stream",
     "text": [
      "[2, 4, 6, 8, 10]\n"
     ]
    }
   ],
   "source": [
    "numbers = [1, 2, 3, 4, 5, 6, 7, 8, 9, 10]\n",
    "\n",
    "# Filter even numbers using filter\n",
    "even_numbers = filter(lambda x: x % 2 == 0, numbers)\n",
    "even_list = list(even_numbers)\n",
    "print(even_list)  # Output: [2, 4, 6, 8, 10]\n"
   ]
  },
  {
   "cell_type": "markdown",
   "id": "09d58f5a",
   "metadata": {
    "papermill": {
     "duration": 0.023898,
     "end_time": "2023-08-13T19:29:26.457863",
     "exception": false,
     "start_time": "2023-08-13T19:29:26.433965",
     "status": "completed"
    },
    "tags": []
   },
   "source": [
    "## Reduce Function\n",
    "#### The reduce function (available in the functools module) accumulates items from an iterable using a given function and returns a single result.\n",
    "\n",
    "### Example (Reduce Function):"
   ]
  },
  {
   "cell_type": "code",
   "execution_count": 30,
   "id": "5948d594",
   "metadata": {
    "execution": {
     "iopub.execute_input": "2023-08-13T19:29:26.507897Z",
     "iopub.status.busy": "2023-08-13T19:29:26.507489Z",
     "iopub.status.idle": "2023-08-13T19:29:26.512721Z",
     "shell.execute_reply": "2023-08-13T19:29:26.511758Z"
    },
    "papermill": {
     "duration": 0.033291,
     "end_time": "2023-08-13T19:29:26.515014",
     "exception": false,
     "start_time": "2023-08-13T19:29:26.481723",
     "status": "completed"
    },
    "tags": []
   },
   "outputs": [
    {
     "name": "stdout",
     "output_type": "stream",
     "text": [
      "120\n"
     ]
    }
   ],
   "source": [
    "from functools import reduce\n",
    "\n",
    "numbers = [1, 2, 3, 4, 5]\n",
    "\n",
    "# Calculate the product using reduce\n",
    "product = reduce(lambda x, y: x * y, numbers)\n",
    "print(product)  # Output: 120\n"
   ]
  },
  {
   "cell_type": "markdown",
   "id": "d92c4da4",
   "metadata": {
    "papermill": {
     "duration": 0.024254,
     "end_time": "2023-08-13T19:29:26.563169",
     "exception": false,
     "start_time": "2023-08-13T19:29:26.538915",
     "status": "completed"
    },
    "tags": []
   },
   "source": [
    "## Usage of Map, Filter, and Reduce\n",
    "#### These functions are useful for processing data in a functional style, where you apply operations to collections of data without explicit loops.\n",
    "\n",
    "### Conclusion\n",
    "#### The map, filter, and reduce functions are powerful tools for transforming and processing data in Python. They promote a functional programming paradigm and provide concise ways to work with collections."
   ]
  },
  {
   "cell_type": "markdown",
   "id": "10e9d12f",
   "metadata": {
    "papermill": {
     "duration": 0.023876,
     "end_time": "2023-08-13T19:29:26.672067",
     "exception": false,
     "start_time": "2023-08-13T19:29:26.648191",
     "status": "completed"
    },
    "tags": []
   },
   "source": [
    "\n",
    "<h1 align=\"left\"><font color='red'>37</font></h1>\n"
   ]
  },
  {
   "cell_type": "markdown",
   "id": "dabf82e2",
   "metadata": {
    "papermill": {
     "duration": 0.023884,
     "end_time": "2023-08-13T19:29:26.720666",
     "exception": false,
     "start_time": "2023-08-13T19:29:26.696782",
     "status": "completed"
    },
    "tags": []
   },
   "source": [
    "# `Chapter 37: Decorators`\n",
    "\n",
    "#### In this chapter, we'll explore decorators in Python, which allow you to modify or enhance the behavior of functions without changing their code.\n",
    "\n",
    "## Decorators\n",
    "\n",
    "#### Decorators are a powerful feature in Python that allow you to modify, enhance, or extend the behavior of functions or methods. Decorators are often used for tasks such as logging, authentication, and caching.\n",
    "\n",
    "#### Example (Decorator):\n"
   ]
  },
  {
   "cell_type": "code",
   "execution_count": 31,
   "id": "843d077f",
   "metadata": {
    "execution": {
     "iopub.execute_input": "2023-08-13T19:29:26.770439Z",
     "iopub.status.busy": "2023-08-13T19:29:26.770065Z",
     "iopub.status.idle": "2023-08-13T19:29:26.776323Z",
     "shell.execute_reply": "2023-08-13T19:29:26.775164Z"
    },
    "papermill": {
     "duration": 0.034713,
     "end_time": "2023-08-13T19:29:26.779229",
     "exception": false,
     "start_time": "2023-08-13T19:29:26.744516",
     "status": "completed"
    },
    "tags": []
   },
   "outputs": [
    {
     "name": "stdout",
     "output_type": "stream",
     "text": [
      "Something is happening before the function is called.\n",
      "Hello!\n",
      "Something is happening after the function is called.\n"
     ]
    }
   ],
   "source": [
    "\n",
    "def my_decorator(func):\n",
    "    def wrapper():\n",
    "        print(\"Something is happening before the function is called.\")\n",
    "        func()\n",
    "        print(\"Something is happening after the function is called.\")\n",
    "    return wrapper\n",
    "\n",
    "@my_decorator\n",
    "def say_hello():\n",
    "    print(\"Hello!\")\n",
    "\n",
    "say_hello()\n"
   ]
  },
  {
   "cell_type": "markdown",
   "id": "fdf25850",
   "metadata": {
    "papermill": {
     "duration": 0.025551,
     "end_time": "2023-08-13T19:29:26.830362",
     "exception": false,
     "start_time": "2023-08-13T19:29:26.804811",
     "status": "completed"
    },
    "tags": []
   },
   "source": [
    "## `Creating Decorators`\n",
    "#### Decorators are created by defining a function that takes another function as an argument and returns a new function that usually calls the original function and adds some behavior before or after.\n",
    "\n",
    "## Decorator Syntax\n",
    "#### Decorators are applied using the @ symbol followed by the decorator function's name, placed above the function definition.\n",
    "\n",
    "## Use Cases of Decorators\n",
    "#### Decorators are versatile and can be used for a variety of purposes, such as logging, timing, caching, access control, and more.\n",
    "\n",
    "### Example (Logging Decorator):"
   ]
  },
  {
   "cell_type": "code",
   "execution_count": 32,
   "id": "d9e8a9d0",
   "metadata": {
    "execution": {
     "iopub.execute_input": "2023-08-13T19:29:26.883169Z",
     "iopub.status.busy": "2023-08-13T19:29:26.882749Z",
     "iopub.status.idle": "2023-08-13T19:29:26.890469Z",
     "shell.execute_reply": "2023-08-13T19:29:26.889183Z"
    },
    "papermill": {
     "duration": 0.036986,
     "end_time": "2023-08-13T19:29:26.892751",
     "exception": false,
     "start_time": "2023-08-13T19:29:26.855765",
     "status": "completed"
    },
    "tags": []
   },
   "outputs": [
    {
     "name": "stdout",
     "output_type": "stream",
     "text": [
      "Calling add\n",
      "add returned 8\n",
      "8\n"
     ]
    }
   ],
   "source": [
    "\n",
    "def log_function_call(func):\n",
    "    def wrapper(*args, **kwargs):\n",
    "        print(f\"Calling {func.__name__}\")\n",
    "        result = func(*args, **kwargs)\n",
    "        print(f\"{func.__name__} returned {result}\")\n",
    "        return result\n",
    "    return wrapper\n",
    "\n",
    "@log_function_call\n",
    "def add(a, b):\n",
    "    return a + b\n",
    "\n",
    "print(add(3, 5))\n",
    "# Output:\n",
    "# Calling add\n",
    "# add returned 8\n",
    "# 8\n"
   ]
  },
  {
   "cell_type": "markdown",
   "id": "270341b2",
   "metadata": {
    "papermill": {
     "duration": 0.024345,
     "end_time": "2023-08-13T19:29:26.942701",
     "exception": false,
     "start_time": "2023-08-13T19:29:26.918356",
     "status": "completed"
    },
    "tags": []
   },
   "source": [
    "## Conclusion\n",
    "#### Decorators are a powerful tool for modifying or enhancing the behavior of functions in Python without changing their code. They provide a clean and elegant way to add additional functionality to functions."
   ]
  },
  {
   "cell_type": "markdown",
   "id": "94552275",
   "metadata": {
    "papermill": {
     "duration": 0.025862,
     "end_time": "2023-08-13T19:29:26.994069",
     "exception": false,
     "start_time": "2023-08-13T19:29:26.968207",
     "status": "completed"
    },
    "tags": []
   },
   "source": [
    "<h1 align=\"left\"><font color='red'>38</font></h1>"
   ]
  },
  {
   "cell_type": "markdown",
   "id": "92f29f68",
   "metadata": {
    "papermill": {
     "duration": 0.024282,
     "end_time": "2023-08-13T19:29:27.043346",
     "exception": false,
     "start_time": "2023-08-13T19:29:27.019064",
     "status": "completed"
    },
    "tags": []
   },
   "source": [
    "# `Chapter 38: Iterables and Iterators`\n",
    "\n",
    "#### In this chapter, we'll explore iterables and iterators in Python, which are essential concepts for working with sequences of data.\n",
    "\n",
    "## Iterables\n",
    "\n",
    "#### An iterable is an object that can be iterated (looped) over. Examples of iterables include lists, tuples, strings, dictionaries, and more.\n",
    "\n",
    "#### Example (Iterables):\n"
   ]
  },
  {
   "cell_type": "code",
   "execution_count": 33,
   "id": "4db43b4d",
   "metadata": {
    "execution": {
     "iopub.execute_input": "2023-08-13T19:29:27.096354Z",
     "iopub.status.busy": "2023-08-13T19:29:27.095188Z",
     "iopub.status.idle": "2023-08-13T19:29:27.101443Z",
     "shell.execute_reply": "2023-08-13T19:29:27.100357Z"
    },
    "papermill": {
     "duration": 0.034044,
     "end_time": "2023-08-13T19:29:27.103208",
     "exception": false,
     "start_time": "2023-08-13T19:29:27.069164",
     "status": "completed"
    },
    "tags": []
   },
   "outputs": [
    {
     "name": "stdout",
     "output_type": "stream",
     "text": [
      "1\n",
      "2\n",
      "3\n",
      "4\n",
      "5\n"
     ]
    }
   ],
   "source": [
    "\n",
    "numbers = [1, 2, 3, 4, 5]  # List is an iterable\n",
    "\n",
    "for num in numbers:\n",
    "    print(num)\n"
   ]
  },
  {
   "cell_type": "markdown",
   "id": "407e73f3",
   "metadata": {
    "papermill": {
     "duration": 0.024303,
     "end_time": "2023-08-13T19:29:27.152116",
     "exception": false,
     "start_time": "2023-08-13T19:29:27.127813",
     "status": "completed"
    },
    "tags": []
   },
   "source": [
    "## Iterators\n",
    "#### An iterator is an object that represents a stream of data and implements the methods __iter__() and __next__(). It allows you to iterate over elements one by one.\n",
    "\n",
    "### Example (Iterators):"
   ]
  },
  {
   "cell_type": "code",
   "execution_count": 34,
   "id": "a5d7eaea",
   "metadata": {
    "execution": {
     "iopub.execute_input": "2023-08-13T19:29:27.204514Z",
     "iopub.status.busy": "2023-08-13T19:29:27.203954Z",
     "iopub.status.idle": "2023-08-13T19:29:27.209661Z",
     "shell.execute_reply": "2023-08-13T19:29:27.208726Z"
    },
    "papermill": {
     "duration": 0.034456,
     "end_time": "2023-08-13T19:29:27.211681",
     "exception": false,
     "start_time": "2023-08-13T19:29:27.177225",
     "status": "completed"
    },
    "tags": []
   },
   "outputs": [
    {
     "name": "stdout",
     "output_type": "stream",
     "text": [
      "1\n",
      "2\n",
      "3\n"
     ]
    }
   ],
   "source": [
    "numbers = [1, 2, 3, 4, 5]\n",
    "iterator = iter(numbers)\n",
    "\n",
    "print(next(iterator))  # Output: 1\n",
    "print(next(iterator))  # Output: 2\n",
    "print(next(iterator))  # Output: 3\n"
   ]
  },
  {
   "cell_type": "markdown",
   "id": "6ca69d3d",
   "metadata": {
    "papermill": {
     "duration": 0.024522,
     "end_time": "2023-08-13T19:29:27.260954",
     "exception": false,
     "start_time": "2023-08-13T19:29:27.236432",
     "status": "completed"
    },
    "tags": []
   },
   "source": [
    "## Creating Custom Iterables\n",
    "#### You can create custom iterables by defining a class with the __iter__() method that returns an iterator object.\n",
    "\n",
    "### Example (Custom Iterable):"
   ]
  },
  {
   "cell_type": "code",
   "execution_count": 35,
   "id": "286d416c",
   "metadata": {
    "execution": {
     "iopub.execute_input": "2023-08-13T19:29:27.313228Z",
     "iopub.status.busy": "2023-08-13T19:29:27.312898Z",
     "iopub.status.idle": "2023-08-13T19:29:27.321274Z",
     "shell.execute_reply": "2023-08-13T19:29:27.319594Z"
    },
    "papermill": {
     "duration": 0.037526,
     "end_time": "2023-08-13T19:29:27.323192",
     "exception": false,
     "start_time": "2023-08-13T19:29:27.285666",
     "status": "completed"
    },
    "tags": []
   },
   "outputs": [
    {
     "name": "stdout",
     "output_type": "stream",
     "text": [
      "1\n",
      "4\n",
      "9\n",
      "16\n",
      "25\n"
     ]
    }
   ],
   "source": [
    "class Squares:\n",
    "    def __init__(self, limit):\n",
    "        self.limit = limit\n",
    "    \n",
    "    def __iter__(self):\n",
    "        return self.SquaresIterator(self.limit)\n",
    "    \n",
    "    class SquaresIterator:\n",
    "        def __init__(self, limit):\n",
    "            self.limit = limit\n",
    "            self.n = 1\n",
    "        \n",
    "        def __iter__(self):\n",
    "            return self\n",
    "        \n",
    "        def __next__(self):\n",
    "            if self.n <= self.limit:\n",
    "                square = self.n ** 2\n",
    "                self.n += 1\n",
    "                return square\n",
    "            else:\n",
    "                raise StopIteration\n",
    "\n",
    "squares = Squares(5)\n",
    "for num in squares:\n",
    "    print(num)"
   ]
  },
  {
   "cell_type": "markdown",
   "id": "f56ef6e1",
   "metadata": {
    "papermill": {
     "duration": 0.025028,
     "end_time": "2023-08-13T19:29:27.373305",
     "exception": false,
     "start_time": "2023-08-13T19:29:27.348277",
     "status": "completed"
    },
    "tags": []
   },
   "source": [
    "\n",
    "<h1 align=\"left\"><font color='red'>39</font></h1>\n"
   ]
  },
  {
   "cell_type": "markdown",
   "id": "0a708ee0",
   "metadata": {
    "papermill": {
     "duration": 0.024717,
     "end_time": "2023-08-13T19:29:27.423977",
     "exception": false,
     "start_time": "2023-08-13T19:29:27.399260",
     "status": "completed"
    },
    "tags": []
   },
   "source": [
    "# `Chapter 39: Generators and the `yield` Keyword`\n",
    "\n",
    "#### In this chapter, we'll explore generators and the `yield` keyword in Python, which allow you to create iterators in a more concise and memory-efficient manner.\n",
    "\n",
    "## Generators\n",
    "\n",
    "#### Generators are a type of iterable in Python that are created using functions with the `yield` keyword. They allow you to iterate over a sequence of values without loading the entire sequence into memory.\n",
    "\n",
    "#### Example (Generator):\n",
    "\n"
   ]
  },
  {
   "cell_type": "code",
   "execution_count": 36,
   "id": "f3686ddf",
   "metadata": {
    "execution": {
     "iopub.execute_input": "2023-08-13T19:29:27.477089Z",
     "iopub.status.busy": "2023-08-13T19:29:27.476747Z",
     "iopub.status.idle": "2023-08-13T19:29:27.482838Z",
     "shell.execute_reply": "2023-08-13T19:29:27.481577Z"
    },
    "papermill": {
     "duration": 0.035587,
     "end_time": "2023-08-13T19:29:27.485153",
     "exception": false,
     "start_time": "2023-08-13T19:29:27.449566",
     "status": "completed"
    },
    "tags": []
   },
   "outputs": [
    {
     "name": "stdout",
     "output_type": "stream",
     "text": [
      "1\n",
      "4\n",
      "9\n",
      "16\n",
      "25\n"
     ]
    }
   ],
   "source": [
    "def squares_generator(limit):\n",
    "    n = 1\n",
    "    while n <= limit:\n",
    "        yield n ** 2\n",
    "        n += 1\n",
    "\n",
    "squares = squares_generator(5)\n",
    "\n",
    "for num in squares:\n",
    "    print(num)"
   ]
  },
  {
   "cell_type": "markdown",
   "id": "1ef8f553",
   "metadata": {
    "papermill": {
     "duration": 0.025155,
     "end_time": "2023-08-13T19:29:27.535775",
     "exception": false,
     "start_time": "2023-08-13T19:29:27.510620",
     "status": "completed"
    },
    "tags": []
   },
   "source": [
    "## The yield Keyword\n",
    "#### The yield keyword is used in generator functions to pause the function's execution and return a value to the caller. The state of the function is saved, allowing it to resume execution from where it left off when the next value is requested.\n",
    "\n",
    "## Advantages of Generators\n",
    "#### Generators offer several advantages over lists and iterators. They are memory-efficient, as they generate values on-the-fly and do not store them in memory. They are also more concise and can represent infinite sequences.\n",
    "\n",
    "## Use Cases of Generators\n",
    "#### Generators are particularly useful when dealing with large datasets, streaming data, or when you need to generate values lazily.\n",
    "\n",
    "### Example (Infinite Fibonacci Sequence):"
   ]
  },
  {
   "cell_type": "code",
   "execution_count": 37,
   "id": "c66c4829",
   "metadata": {
    "execution": {
     "iopub.execute_input": "2023-08-13T19:29:27.587973Z",
     "iopub.status.busy": "2023-08-13T19:29:27.587588Z",
     "iopub.status.idle": "2023-08-13T19:29:27.595100Z",
     "shell.execute_reply": "2023-08-13T19:29:27.593232Z"
    },
    "papermill": {
     "duration": 0.036253,
     "end_time": "2023-08-13T19:29:27.597243",
     "exception": false,
     "start_time": "2023-08-13T19:29:27.560990",
     "status": "completed"
    },
    "tags": []
   },
   "outputs": [
    {
     "name": "stdout",
     "output_type": "stream",
     "text": [
      "0\n",
      "1\n",
      "1\n",
      "2\n",
      "3\n",
      "5\n",
      "8\n",
      "13\n",
      "21\n",
      "34\n"
     ]
    }
   ],
   "source": [
    "def fibonacci_generator():\n",
    "    a, b = 0, 1\n",
    "    while True:\n",
    "        yield a\n",
    "        a, b = b, a + b\n",
    "\n",
    "fibonacci = fibonacci_generator()\n",
    "\n",
    "for _ in range(10):\n",
    "    print(next(fibonacci))"
   ]
  },
  {
   "cell_type": "markdown",
   "id": "657de7f5",
   "metadata": {
    "papermill": {
     "duration": 0.024803,
     "end_time": "2023-08-13T19:29:27.647570",
     "exception": false,
     "start_time": "2023-08-13T19:29:27.622767",
     "status": "completed"
    },
    "tags": []
   },
   "source": [
    "## Conclusion\n",
    "#### Generators and the yield keyword provide a powerful mechanism for creating memory-efficient iterators in Python. They allow you to work with sequences of data without loading the entire sequence into memory."
   ]
  },
  {
   "cell_type": "markdown",
   "id": "79ba85d1",
   "metadata": {
    "papermill": {
     "duration": 0.024868,
     "end_time": "2023-08-13T19:29:27.697786",
     "exception": false,
     "start_time": "2023-08-13T19:29:27.672918",
     "status": "completed"
    },
    "tags": []
   },
   "source": [
    "\n",
    "<h1 align=\"left\"><font color='red'>40</font></h1>\n"
   ]
  },
  {
   "cell_type": "markdown",
   "id": "41af5266",
   "metadata": {
    "papermill": {
     "duration": 0.023858,
     "end_time": "2023-08-13T19:29:27.746467",
     "exception": false,
     "start_time": "2023-08-13T19:29:27.722609",
     "status": "completed"
    },
    "tags": []
   },
   "source": [
    "# `Chapter 40: List Comprehensions vs. Generators`\n",
    "\n",
    "#### In this chapter, we'll compare list comprehensions and generators in Python, exploring their differences and use cases.\n",
    "\n",
    "## List Comprehensions\n",
    "\n",
    "#### List comprehensions are a concise way to create lists by applying an expression to each item in an iterable and collecting the results.\n",
    "\n",
    "#### Example (List Comprehension):\n",
    "\n"
   ]
  },
  {
   "cell_type": "code",
   "execution_count": 38,
   "id": "44077413",
   "metadata": {
    "execution": {
     "iopub.execute_input": "2023-08-13T19:29:27.797952Z",
     "iopub.status.busy": "2023-08-13T19:29:27.797565Z",
     "iopub.status.idle": "2023-08-13T19:29:27.805213Z",
     "shell.execute_reply": "2023-08-13T19:29:27.803196Z"
    },
    "papermill": {
     "duration": 0.036263,
     "end_time": "2023-08-13T19:29:27.807231",
     "exception": false,
     "start_time": "2023-08-13T19:29:27.770968",
     "status": "completed"
    },
    "tags": []
   },
   "outputs": [
    {
     "name": "stdout",
     "output_type": "stream",
     "text": [
      "[1, 4, 9, 16, 25]\n"
     ]
    }
   ],
   "source": [
    "numbers = [1, 2, 3, 4, 5]\n",
    "\n",
    "squared = [x ** 2 for x in numbers]\n",
    "print(squared)  # Output: [1, 4, 9, 16, 25]"
   ]
  },
  {
   "cell_type": "markdown",
   "id": "22b5ca60",
   "metadata": {
    "papermill": {
     "duration": 0.024977,
     "end_time": "2023-08-13T19:29:27.857752",
     "exception": false,
     "start_time": "2023-08-13T19:29:27.832775",
     "status": "completed"
    },
    "tags": []
   },
   "source": [
    "## Generators\n",
    "#### Generators, as we've seen before, are a memory-efficient way to create iterators using functions with the yield keyword. They generate values lazily, only when requested.\n",
    "\n",
    "### Example (Generator):"
   ]
  },
  {
   "cell_type": "code",
   "execution_count": 39,
   "id": "ccfb646a",
   "metadata": {
    "execution": {
     "iopub.execute_input": "2023-08-13T19:29:27.910131Z",
     "iopub.status.busy": "2023-08-13T19:29:27.909748Z",
     "iopub.status.idle": "2023-08-13T19:29:27.915206Z",
     "shell.execute_reply": "2023-08-13T19:29:27.914196Z"
    },
    "papermill": {
     "duration": 0.033677,
     "end_time": "2023-08-13T19:29:27.917085",
     "exception": false,
     "start_time": "2023-08-13T19:29:27.883408",
     "status": "completed"
    },
    "tags": []
   },
   "outputs": [
    {
     "name": "stdout",
     "output_type": "stream",
     "text": [
      "1\n",
      "4\n",
      "9\n",
      "16\n",
      "25\n"
     ]
    }
   ],
   "source": [
    "def squares_generator(limit):\n",
    "    n = 1\n",
    "    while n <= limit:\n",
    "        yield n ** 2\n",
    "        n += 1\n",
    "\n",
    "squares = squares_generator(5)\n",
    "for num in squares:\n",
    "    print(num)"
   ]
  },
  {
   "cell_type": "markdown",
   "id": "c36263c8",
   "metadata": {
    "papermill": {
     "duration": 0.025256,
     "end_time": "2023-08-13T19:29:27.969445",
     "exception": false,
     "start_time": "2023-08-13T19:29:27.944189",
     "status": "completed"
    },
    "tags": []
   },
   "source": [
    "## `List Comprehensions vs. Generators`\n",
    "## Memory Efficiency:\n",
    "#### List comprehensions create an entire list in memory, which can be memory-intensive for large datasets. Generators generate values on-the-fly and are more memory-efficient.\n",
    "\n",
    "## Use Cases:\n",
    "#### List comprehensions are suitable when you want to create a list and store it in memory. Generators are preferable when you want to generate values lazily, especially for large or infinite sequences.\n",
    "\n",
    "## Syntax:\n",
    "#### List comprehensions use a compact syntax similar to a for loop. Generators use a function with the yield keyword.\n",
    "\n",
    "## Choosing Between List Comprehensions and Generators\n",
    "#### Choose list comprehensions when you need to create and store a list. Choose generators when you want to avoid storing the entire sequence in memory or when working with infinite sequences.\n",
    "\n",
    "### Example (Even Squares using List Comprehension):"
   ]
  },
  {
   "cell_type": "code",
   "execution_count": 40,
   "id": "e89cde88",
   "metadata": {
    "execution": {
     "iopub.execute_input": "2023-08-13T19:29:28.021718Z",
     "iopub.status.busy": "2023-08-13T19:29:28.021291Z",
     "iopub.status.idle": "2023-08-13T19:29:28.027710Z",
     "shell.execute_reply": "2023-08-13T19:29:28.026471Z"
    },
    "papermill": {
     "duration": 0.035426,
     "end_time": "2023-08-13T19:29:28.029887",
     "exception": false,
     "start_time": "2023-08-13T19:29:27.994461",
     "status": "completed"
    },
    "tags": []
   },
   "outputs": [
    {
     "name": "stdout",
     "output_type": "stream",
     "text": [
      "[4, 16]\n"
     ]
    }
   ],
   "source": [
    "even_squares = [x ** 2 for x in range(1, 6) if x % 2 == 0]\n",
    "print(even_squares)  # Output: [4, 16]\n"
   ]
  },
  {
   "cell_type": "markdown",
   "id": "a5452abf",
   "metadata": {
    "papermill": {
     "duration": 0.025858,
     "end_time": "2023-08-13T19:29:28.081321",
     "exception": false,
     "start_time": "2023-08-13T19:29:28.055463",
     "status": "completed"
    },
    "tags": []
   },
   "source": [
    "### Example (Even Squares using Generator Expression)"
   ]
  },
  {
   "cell_type": "code",
   "execution_count": 41,
   "id": "1a1cd410",
   "metadata": {
    "execution": {
     "iopub.execute_input": "2023-08-13T19:29:28.136322Z",
     "iopub.status.busy": "2023-08-13T19:29:28.135956Z",
     "iopub.status.idle": "2023-08-13T19:29:28.142685Z",
     "shell.execute_reply": "2023-08-13T19:29:28.140866Z"
    },
    "papermill": {
     "duration": 0.037524,
     "end_time": "2023-08-13T19:29:28.144768",
     "exception": false,
     "start_time": "2023-08-13T19:29:28.107244",
     "status": "completed"
    },
    "tags": []
   },
   "outputs": [
    {
     "name": "stdout",
     "output_type": "stream",
     "text": [
      "4\n",
      "16\n"
     ]
    }
   ],
   "source": [
    "even_squares_gen = (x ** 2 for x in range(1, 6) if x % 2 == 0)\n",
    "for num in even_squares_gen:\n",
    "    print(num)\n",
    "\n"
   ]
  },
  {
   "cell_type": "markdown",
   "id": "291989d7",
   "metadata": {
    "papermill": {
     "duration": 0.025402,
     "end_time": "2023-08-13T19:29:28.195682",
     "exception": false,
     "start_time": "2023-08-13T19:29:28.170280",
     "status": "completed"
    },
    "tags": []
   },
   "source": [
    "## `Conclusion`\n",
    "#### List comprehensions and generators provide different approaches for working with sequences in Python. List comprehensions are suitable for creating lists in memory, while generators are ideal for lazy evaluation and memory efficiency.\n",
    "\n",
    "#### In the upcoming chapters, we'll continue to explore more advanced programming techniques and concepts related to data manipulation, optimization, and functional programming."
   ]
  },
  {
   "cell_type": "markdown",
   "id": "4bd26f3c",
   "metadata": {
    "papermill": {
     "duration": 0.025655,
     "end_time": "2023-08-13T19:29:28.246629",
     "exception": false,
     "start_time": "2023-08-13T19:29:28.220974",
     "status": "completed"
    },
    "tags": []
   },
   "source": [
    "![mlv prasad](https://github.com/MlvPrasadOfficial/kaggle_notebooks/raw/main/CANVAPYTHON/P2.png)\n"
   ]
  }
 ],
 "metadata": {
  "kernelspec": {
   "display_name": "Python 3",
   "language": "python",
   "name": "python3"
  },
  "language_info": {
   "codemirror_mode": {
    "name": "ipython",
    "version": 3
   },
   "file_extension": ".py",
   "mimetype": "text/x-python",
   "name": "python",
   "nbconvert_exporter": "python",
   "pygments_lexer": "ipython3",
   "version": "3.10.12"
  },
  "papermill": {
   "default_parameters": {},
   "duration": 17.289355,
   "end_time": "2023-08-13T19:29:29.096268",
   "environment_variables": {},
   "exception": null,
   "input_path": "__notebook__.ipynb",
   "output_path": "__notebook__.ipynb",
   "parameters": {},
   "start_time": "2023-08-13T19:29:11.806913",
   "version": "2.4.0"
  }
 },
 "nbformat": 4,
 "nbformat_minor": 5
}
