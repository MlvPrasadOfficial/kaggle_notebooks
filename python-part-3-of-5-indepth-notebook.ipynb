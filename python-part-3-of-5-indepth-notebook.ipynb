{
 "cells": [
  {
   "cell_type": "markdown",
   "id": "63f3cc4e",
   "metadata": {
    "_cell_guid": "b1076dfc-b9ad-4769-8c92-a6c4dae69d19",
    "_uuid": "8f2839f25d086af736a60e9eeb907d3b93b6e0e5",
    "papermill": {
     "duration": 0.023309,
     "end_time": "2023-08-17T05:41:34.022545",
     "exception": false,
     "start_time": "2023-08-17T05:41:33.999236",
     "status": "completed"
    },
    "tags": []
   },
   "source": [
    "![mlv prasad](https://github.com/MlvPrasadOfficial/pycharmkaggle/raw/master/Black%20and%20Ivory%20Modern%20Name%20YouTube%20Channel%20Art.png)\n"
   ]
  },
  {
   "cell_type": "markdown",
   "id": "0c6a093e",
   "metadata": {
    "papermill": {
     "duration": 0.023082,
     "end_time": "2023-08-17T05:41:34.068869",
     "exception": false,
     "start_time": "2023-08-17T05:41:34.045787",
     "status": "completed"
    },
    "tags": []
   },
   "source": [
    "\n",
    "![mlv prasad](https://github.com/MlvPrasadOfficial/kaggle_notebooks/raw/main/CANVAPYTHON/N3.png)"
   ]
  },
  {
   "cell_type": "markdown",
   "id": "d0d5db52",
   "metadata": {
    "papermill": {
     "duration": 0.022597,
     "end_time": "2023-08-17T05:41:34.114218",
     "exception": false,
     "start_time": "2023-08-17T05:41:34.091621",
     "status": "completed"
    },
    "tags": []
   },
   "source": [
    "## 41. Working with Files and Directories\n",
    "\n",
    "## 42. Regular Expressions (re module)\n",
    "\n",
    "## 43. Working with Dates and Times (datetime module)\n",
    "\n",
    "## 44. JSON Serialization and Deserialization\n",
    "\n",
    "## 45. Recursion and Recursive Functions\n",
    "\n",
    "## 46. Global Interpreter Lock (GIL)\n",
    "\n",
    "## 47. Context Managers and the with Statement\n",
    "\n",
    "## 48. Virtual Environments and pip\n",
    "\n",
    "## 49. Command Line Arguments (sys.argv)\n",
    "\n",
    "## 50. Command Line Argument Parsing (argparse)\n",
    "\n",
    "\n",
    "<h1 align=\"left\"><font color='red'>Testing, Debugging, and Optimization\n",
    "</font></h1> \n",
    "\n",
    "## 51. Unit Testing with unittest\n",
    "\n",
    "## 52. Debugging Techniques and pdb\n",
    "\n",
    "## 53. Profiling and Optimization\n",
    "\n",
    "<h1 align=\"left\"><font color='red'> Advanced Python Concepts\n",
    "</font></h1> \n",
    "\n",
    "\n",
    "## 54. Python's Global Scope and Namespaces\n",
    "\n",
    "## 55. Function Closures\n",
    "\n",
    "## 56. Introduction to Decorators\n",
    "\n",
    "## 57. Implementing Decorators\n",
    "\n",
    "## 58. Using Decorators for Logging and Timing\n",
    "\n",
    "## 59. Python's Built-in Decorators\n",
    "\n",
    "## 60. Introduction to Context Managers\n",
    "\n"
   ]
  },
  {
   "cell_type": "code",
   "execution_count": 1,
   "id": "833aa1cb",
   "metadata": {
    "execution": {
     "iopub.execute_input": "2023-08-17T05:41:34.163462Z",
     "iopub.status.busy": "2023-08-17T05:41:34.163072Z",
     "iopub.status.idle": "2023-08-17T05:41:34.171004Z",
     "shell.execute_reply": "2023-08-17T05:41:34.170288Z"
    },
    "papermill": {
     "duration": 0.034842,
     "end_time": "2023-08-17T05:41:34.172700",
     "exception": false,
     "start_time": "2023-08-17T05:41:34.137858",
     "status": "completed"
    },
    "tags": []
   },
   "outputs": [],
   "source": [
    "import warnings\n",
    "\n",
    "# Ignore all warnings\n",
    "warnings.filterwarnings(\"ignore\")\n",
    "\n",
    "# Your code here\n",
    "\n",
    "# Reset the warning filter if needed\n",
    "warnings.resetwarnings()"
   ]
  },
  {
   "cell_type": "markdown",
   "id": "1d4fda59",
   "metadata": {
    "papermill": {
     "duration": 0.021759,
     "end_time": "2023-08-17T05:41:34.217544",
     "exception": false,
     "start_time": "2023-08-17T05:41:34.195785",
     "status": "completed"
    },
    "tags": []
   },
   "source": [
    "<h1 align=\"left\"><font color='red'>41</font></h1>"
   ]
  },
  {
   "cell_type": "markdown",
   "id": "93937b2a",
   "metadata": {
    "papermill": {
     "duration": 0.022734,
     "end_time": "2023-08-17T05:41:34.264570",
     "exception": false,
     "start_time": "2023-08-17T05:41:34.241836",
     "status": "completed"
    },
    "tags": []
   },
   "source": [
    "# Chapter 41: Working with Files and Directories\n",
    "\n",
    "#### In this chapter, we'll explore how to work with files and directories in Python, including reading and writing files, manipulating paths, and more.\n",
    "\n",
    "## File Handling Basics\n",
    "\n",
    "#### File handling involves operations such as opening, reading, writing, and closing files. Python provides built-in functions and methods to perform these operations.\n",
    "\n",
    "#### Example (File Handling):\n",
    "\n"
   ]
  },
  {
   "cell_type": "markdown",
   "id": "81aac11a",
   "metadata": {
    "papermill": {
     "duration": 0.023093,
     "end_time": "2023-08-17T05:41:34.310616",
     "exception": false,
     "start_time": "2023-08-17T05:41:34.287523",
     "status": "completed"
    },
    "tags": []
   },
   "source": [
    "```python\n",
    "# Writing to a file\n",
    "with open(\"example.txt\", \"w\") as file:\n",
    "    file.write(\"Hello, world!\")\n",
    "\n",
    "# Reading from a file\n",
    "with open(\"example.txt\", \"r\") as file:\n",
    "    content = file.read()\n",
    "    print(content)  # Output: Hello, world!\n",
    "```"
   ]
  },
  {
   "cell_type": "markdown",
   "id": "dfdc04aa",
   "metadata": {
    "papermill": {
     "duration": 0.02163,
     "end_time": "2023-08-17T05:41:34.354841",
     "exception": false,
     "start_time": "2023-08-17T05:41:34.333211",
     "status": "completed"
    },
    "tags": []
   },
   "source": [
    "## Working with Directories\n",
    "#### Python's os module provides functions for working with directories, including creating, listing, renaming, and deleting directories.\n",
    "\n",
    "### Example (Working with Directories):"
   ]
  },
  {
   "cell_type": "markdown",
   "id": "72d7168a",
   "metadata": {
    "papermill": {
     "duration": 0.022157,
     "end_time": "2023-08-17T05:41:34.399340",
     "exception": false,
     "start_time": "2023-08-17T05:41:34.377183",
     "status": "completed"
    },
    "tags": []
   },
   "source": [
    "```python\n",
    "import os\n",
    "\n",
    "# Creating a directory\n",
    "os.mkdir(\"my_directory\")\n",
    "\n",
    "# Listing contents of a directory\n",
    "contents = os.listdir(\"my_directory\")\n",
    "print(contents)  # Output: ['file1.txt', 'file2.txt', 'subdirectory']\n",
    "\n",
    "# Renaming a directory\n",
    "os.rename(\"my_directory\", \"new_directory\")\n",
    "\n",
    "# Deleting a directory\n",
    "os.rmdir(\"new_directory\")\n",
    "```"
   ]
  },
  {
   "cell_type": "markdown",
   "id": "a21fbfc7",
   "metadata": {
    "papermill": {
     "duration": 0.021894,
     "end_time": "2023-08-17T05:41:34.443630",
     "exception": false,
     "start_time": "2023-08-17T05:41:34.421736",
     "status": "completed"
    },
    "tags": []
   },
   "source": [
    "## File and Directory Paths\n",
    "#### Python's os.path module provides functions for manipulating file and directory paths, including joining, splitting, and checking existence.\n",
    "\n",
    "### Example (File and Directory Paths):"
   ]
  },
  {
   "cell_type": "markdown",
   "id": "555b3d25",
   "metadata": {
    "papermill": {
     "duration": 0.022612,
     "end_time": "2023-08-17T05:41:34.488804",
     "exception": false,
     "start_time": "2023-08-17T05:41:34.466192",
     "status": "completed"
    },
    "tags": []
   },
   "source": [
    "```python\n",
    "import os\n",
    "\n",
    "path = os.path.join(\"folder\", \"subfolder\", \"file.txt\")\n",
    "print(path)  # Output: folder/subfolder/file.txt\n",
    "\n",
    "basename = os.path.basename(path)\n",
    "print(basename)  # Output: file.txt\n",
    "\n",
    "dirname = os.path.dirname(path)\n",
    "print(dirname)  # Output: folder/subfolder\n",
    "\n",
    "exists = os.path.exists(path)\n",
    "print(exists)  # Output: False (assuming the path does not exist)\n",
    "```"
   ]
  },
  {
   "cell_type": "markdown",
   "id": "65abb343",
   "metadata": {
    "papermill": {
     "duration": 0.02239,
     "end_time": "2023-08-17T05:41:34.533937",
     "exception": false,
     "start_time": "2023-08-17T05:41:34.511547",
     "status": "completed"
    },
    "tags": []
   },
   "source": [
    "## Conclusion\n",
    "#### Working with files and directories is an essential part of many programming tasks. Python provides a variety of functions and modules to make these operations straightforward and efficient."
   ]
  },
  {
   "cell_type": "markdown",
   "id": "5cb3f076",
   "metadata": {
    "papermill": {
     "duration": 0.022127,
     "end_time": "2023-08-17T05:41:34.578619",
     "exception": false,
     "start_time": "2023-08-17T05:41:34.556492",
     "status": "completed"
    },
    "tags": []
   },
   "source": [
    "<h1 align=\"left\"><font color='red'>42</font></h1>"
   ]
  },
  {
   "cell_type": "markdown",
   "id": "afb48805",
   "metadata": {
    "papermill": {
     "duration": 0.022909,
     "end_time": "2023-08-17T05:41:34.623809",
     "exception": false,
     "start_time": "2023-08-17T05:41:34.600900",
     "status": "completed"
    },
    "tags": []
   },
   "source": [
    "# Chapter 42: Regular Expressions (re module)\n",
    "\n",
    "#### In this chapter, we'll explore regular expressions and the `re` module in Python, which provide a powerful tool for pattern matching and text manipulation.\n",
    "\n",
    "## Regular Expressions\n",
    "\n",
    "#### Regular expressions (regex or regexp) are sequences of characters that define a search pattern. They are used for searching, matching, and manipulating text.\n",
    "\n",
    "#### Example (Regular Expression):\n",
    "\n",
    "`"
   ]
  },
  {
   "cell_type": "markdown",
   "id": "9f7a9562",
   "metadata": {
    "papermill": {
     "duration": 0.022017,
     "end_time": "2023-08-17T05:41:34.667996",
     "exception": false,
     "start_time": "2023-08-17T05:41:34.645979",
     "status": "completed"
    },
    "tags": []
   },
   "source": [
    "```python\n",
    "import re\n",
    "\n",
    "pattern = r\"\\b\\w+@\\w+\\.\\w+\\b\"\n",
    "text = \"Contact us at support@example.com or info@website.org.\"\n",
    "\n",
    "matches = re.findall(pattern, text)\n",
    "print(matches)  # Output: ['support@example.com', 'info@website.org']\n",
    "```"
   ]
  },
  {
   "cell_type": "markdown",
   "id": "f3621df8",
   "metadata": {
    "papermill": {
     "duration": 0.022054,
     "end_time": "2023-08-17T05:41:34.712267",
     "exception": false,
     "start_time": "2023-08-17T05:41:34.690213",
     "status": "completed"
    },
    "tags": []
   },
   "source": [
    "## The re Module\n",
    "#### Python's re module provides functions for working with regular expressions, including searching, matching, substitution, and more.\n",
    "\n",
    "### Example (Using the re Module):"
   ]
  },
  {
   "cell_type": "code",
   "execution_count": 2,
   "id": "340f8f78",
   "metadata": {
    "execution": {
     "iopub.execute_input": "2023-08-17T05:41:34.758251Z",
     "iopub.status.busy": "2023-08-17T05:41:34.757955Z",
     "iopub.status.idle": "2023-08-17T05:41:34.764131Z",
     "shell.execute_reply": "2023-08-17T05:41:34.762715Z"
    },
    "papermill": {
     "duration": 0.031819,
     "end_time": "2023-08-17T05:41:34.765939",
     "exception": false,
     "start_time": "2023-08-17T05:41:34.734120",
     "status": "completed"
    },
    "tags": []
   },
   "outputs": [
    {
     "name": "stdout",
     "output_type": "stream",
     "text": [
      "['123-45-6789', '987-65-4321']\n"
     ]
    }
   ],
   "source": [
    "import re\n",
    "\n",
    "pattern = r\"\\b\\d{3}-\\d{2}-\\d{4}\\b\"\n",
    "text = \"Social security numbers: 123-45-6789, 987-65-4321\"\n",
    "\n",
    "matches = re.findall(pattern, text)\n",
    "print(matches)  # Output: ['123-45-6789', '987-65-4321']\n"
   ]
  },
  {
   "cell_type": "markdown",
   "id": "02ad4d44",
   "metadata": {
    "papermill": {
     "duration": 0.022266,
     "end_time": "2023-08-17T05:41:34.810819",
     "exception": false,
     "start_time": "2023-08-17T05:41:34.788553",
     "status": "completed"
    },
    "tags": []
   },
   "source": [
    "### Common Regular Expression Patterns\n",
    "#### `\\d`: Matches any digit (0-9).\n",
    "#### `\\w`: Matches any alphanumeric character.\n",
    "#### `\\s`: Matches any whitespace character.\n",
    "#### `.`: Matches any character except a newline.\n",
    "#### `*`: Matches zero or more occurrences.\n",
    "#### `+`: Matches one or more occurrences.\n",
    "#### `?`: Matches zero or one occurrence.\n",
    "#### `[]`: Defines a character set.\n",
    "#### `|`: Represents an OR operation."
   ]
  },
  {
   "cell_type": "markdown",
   "id": "bf24382a",
   "metadata": {
    "papermill": {
     "duration": 0.021581,
     "end_time": "2023-08-17T05:41:34.854781",
     "exception": false,
     "start_time": "2023-08-17T05:41:34.833200",
     "status": "completed"
    },
    "tags": []
   },
   "source": [
    "## Use Cases of Regular Expressions\n",
    "#### Regular expressions are useful for tasks such as data validation, text extraction, parsing, and text manipulation.\n",
    "\n",
    "### Example (Extracting URLs):"
   ]
  },
  {
   "cell_type": "code",
   "execution_count": 3,
   "id": "0977c8b0",
   "metadata": {
    "execution": {
     "iopub.execute_input": "2023-08-17T05:41:34.900382Z",
     "iopub.status.busy": "2023-08-17T05:41:34.899779Z",
     "iopub.status.idle": "2023-08-17T05:41:34.904683Z",
     "shell.execute_reply": "2023-08-17T05:41:34.904067Z"
    },
    "papermill": {
     "duration": 0.029986,
     "end_time": "2023-08-17T05:41:34.906476",
     "exception": false,
     "start_time": "2023-08-17T05:41:34.876490",
     "status": "completed"
    },
    "tags": []
   },
   "outputs": [
    {
     "name": "stdout",
     "output_type": "stream",
     "text": [
      "['http://www.example.com.']\n"
     ]
    }
   ],
   "source": [
    "import re\n",
    "\n",
    "pattern = r\"https?://\\S+\"\n",
    "text = \"Check out our website at http://www.example.com.\"\n",
    "\n",
    "urls = re.findall(pattern, text)\n",
    "print(urls)  # Output: ['http://www.example.com']\n"
   ]
  },
  {
   "cell_type": "markdown",
   "id": "b2081d6b",
   "metadata": {
    "papermill": {
     "duration": 0.022736,
     "end_time": "2023-08-17T05:41:34.953348",
     "exception": false,
     "start_time": "2023-08-17T05:41:34.930612",
     "status": "completed"
    },
    "tags": []
   },
   "source": [
    "## Conclusion\n",
    "#### Regular expressions are a powerful tool for working with text patterns and performing advanced text manipulation tasks. The re module in Python provides a wide range of functions to work with regular expressions."
   ]
  },
  {
   "cell_type": "markdown",
   "id": "cf785d7f",
   "metadata": {
    "papermill": {
     "duration": 0.022721,
     "end_time": "2023-08-17T05:41:34.999510",
     "exception": false,
     "start_time": "2023-08-17T05:41:34.976789",
     "status": "completed"
    },
    "tags": []
   },
   "source": [
    "<h1 align=\"left\"><font color='red'>43</font></h1>"
   ]
  },
  {
   "cell_type": "markdown",
   "id": "6ed640c4",
   "metadata": {
    "papermill": {
     "duration": 0.022444,
     "end_time": "2023-08-17T05:41:35.044575",
     "exception": false,
     "start_time": "2023-08-17T05:41:35.022131",
     "status": "completed"
    },
    "tags": []
   },
   "source": [
    "# Chapter 43: Working with Dates and Times (datetime module)\n",
    "\n",
    "#### In this chapter, we'll explore how to work with dates and times in Python using the `datetime` module, which provides powerful tools for handling and manipulating time-related data.\n",
    "\n",
    "## The `datetime` Module\n",
    "\n",
    "#### The `datetime` module provides classes and functions to work with dates, times, and time intervals. It allows you to perform various operations, including creating, formatting, and calculating dates and times.\n",
    "\n",
    "#### Example (Using the `datetime` Module):\n",
    "\n"
   ]
  },
  {
   "cell_type": "code",
   "execution_count": 4,
   "id": "a5245d85",
   "metadata": {
    "execution": {
     "iopub.execute_input": "2023-08-17T05:41:35.092180Z",
     "iopub.status.busy": "2023-08-17T05:41:35.091579Z",
     "iopub.status.idle": "2023-08-17T05:41:35.097484Z",
     "shell.execute_reply": "2023-08-17T05:41:35.096371Z"
    },
    "papermill": {
     "duration": 0.031847,
     "end_time": "2023-08-17T05:41:35.099096",
     "exception": false,
     "start_time": "2023-08-17T05:41:35.067249",
     "status": "completed"
    },
    "tags": []
   },
   "outputs": [
    {
     "name": "stdout",
     "output_type": "stream",
     "text": [
      "2023-08-17 05:41:35.094273\n",
      "2023-08-15 14:30:00\n",
      "2023-08-24 05:41:35.094273\n"
     ]
    }
   ],
   "source": [
    "\n",
    "from datetime import datetime, timedelta\n",
    "\n",
    "# Get the current date and time\n",
    "current_datetime = datetime.now()\n",
    "print(current_datetime)  # Output: 2023-08-11 10:30:00.123456\n",
    "\n",
    "# Create a specific date\n",
    "specific_date = datetime(2023, 8, 15, 14, 30, 0)\n",
    "print(specific_date)  # Output: 2023-08-15 14:30:00\n",
    "\n",
    "# Calculate a time interval\n",
    "one_week = timedelta(weeks=1)\n",
    "next_week = current_datetime + one_week\n",
    "print(next_week)  # Output: 2023-08-18 10:30:00.123456"
   ]
  },
  {
   "cell_type": "markdown",
   "id": "5a1f4c00",
   "metadata": {
    "papermill": {
     "duration": 0.023315,
     "end_time": "2023-08-17T05:41:35.146676",
     "exception": false,
     "start_time": "2023-08-17T05:41:35.123361",
     "status": "completed"
    },
    "tags": []
   },
   "source": [
    "## Formatting Dates and Times\n",
    "#### The strftime() method of the datetime class allows you to format dates and times as strings.\n",
    "\n",
    "### Example (Formatting Dates and Times):"
   ]
  },
  {
   "cell_type": "code",
   "execution_count": 5,
   "id": "8ffc97af",
   "metadata": {
    "execution": {
     "iopub.execute_input": "2023-08-17T05:41:35.197124Z",
     "iopub.status.busy": "2023-08-17T05:41:35.196594Z",
     "iopub.status.idle": "2023-08-17T05:41:35.201892Z",
     "shell.execute_reply": "2023-08-17T05:41:35.200474Z"
    },
    "papermill": {
     "duration": 0.03191,
     "end_time": "2023-08-17T05:41:35.203634",
     "exception": false,
     "start_time": "2023-08-17T05:41:35.171724",
     "status": "completed"
    },
    "tags": []
   },
   "outputs": [
    {
     "name": "stdout",
     "output_type": "stream",
     "text": [
      "2023-08-17\n",
      "05:41:35\n"
     ]
    }
   ],
   "source": [
    "from datetime import datetime\n",
    "\n",
    "current_datetime = datetime.now()\n",
    "\n",
    "formatted_date = current_datetime.strftime(\"%Y-%m-%d\")\n",
    "print(formatted_date)  # Output: 2023-08-11\n",
    "\n",
    "formatted_time = current_datetime.strftime(\"%H:%M:%S\")\n",
    "print(formatted_time)  # Output: 10:30:00\n"
   ]
  },
  {
   "cell_type": "markdown",
   "id": "306991ac",
   "metadata": {
    "papermill": {
     "duration": 0.022527,
     "end_time": "2023-08-17T05:41:35.249365",
     "exception": false,
     "start_time": "2023-08-17T05:41:35.226838",
     "status": "completed"
    },
    "tags": []
   },
   "source": [
    "## Parsing Strings into Datetimes\n",
    "#### The strptime() function of the datetime class can be used to parse strings into datetime objects.\n",
    "\n",
    "### Example (Parsing Strings into Datetimes):"
   ]
  },
  {
   "cell_type": "code",
   "execution_count": 6,
   "id": "117006ef",
   "metadata": {
    "execution": {
     "iopub.execute_input": "2023-08-17T05:41:35.298485Z",
     "iopub.status.busy": "2023-08-17T05:41:35.297974Z",
     "iopub.status.idle": "2023-08-17T05:41:35.303273Z",
     "shell.execute_reply": "2023-08-17T05:41:35.302100Z"
    },
    "papermill": {
     "duration": 0.032503,
     "end_time": "2023-08-17T05:41:35.304976",
     "exception": false,
     "start_time": "2023-08-17T05:41:35.272473",
     "status": "completed"
    },
    "tags": []
   },
   "outputs": [
    {
     "name": "stdout",
     "output_type": "stream",
     "text": [
      "2023-08-15 00:00:00\n"
     ]
    }
   ],
   "source": [
    "from datetime import datetime\n",
    "\n",
    "date_string = \"2023-08-15\"\n",
    "parsed_date = datetime.strptime(date_string, \"%Y-%m-%d\")\n",
    "print(parsed_date)  # Output: 2023-08-15 00:00:00\n"
   ]
  },
  {
   "cell_type": "markdown",
   "id": "98d51141",
   "metadata": {
    "papermill": {
     "duration": 0.022232,
     "end_time": "2023-08-17T05:41:35.349803",
     "exception": false,
     "start_time": "2023-08-17T05:41:35.327571",
     "status": "completed"
    },
    "tags": []
   },
   "source": [
    "## Time Zones and DST\n",
    "#### The pytz library provides support for working with time zones and handling daylight saving time (DST) changes.\n",
    "\n",
    "### Example (Using pytz for Time Zones):"
   ]
  },
  {
   "cell_type": "code",
   "execution_count": 7,
   "id": "632bd9ef",
   "metadata": {
    "execution": {
     "iopub.execute_input": "2023-08-17T05:41:35.395867Z",
     "iopub.status.busy": "2023-08-17T05:41:35.395558Z",
     "iopub.status.idle": "2023-08-17T05:41:35.431148Z",
     "shell.execute_reply": "2023-08-17T05:41:35.429877Z"
    },
    "papermill": {
     "duration": 0.060778,
     "end_time": "2023-08-17T05:41:35.432793",
     "exception": false,
     "start_time": "2023-08-17T05:41:35.372015",
     "status": "completed"
    },
    "tags": []
   },
   "outputs": [
    {
     "name": "stdout",
     "output_type": "stream",
     "text": [
      "2023-08-17 01:41:35.427499-04:00\n"
     ]
    }
   ],
   "source": [
    "from datetime import datetime\n",
    "import pytz\n",
    "\n",
    "tz = pytz.timezone('US/Eastern')\n",
    "localized_time = datetime.now(tz)\n",
    "print(localized_time)  # Output: 2023-08-11 10:30:00.123456-04:00\n"
   ]
  },
  {
   "cell_type": "markdown",
   "id": "dd8e5025",
   "metadata": {
    "papermill": {
     "duration": 0.022985,
     "end_time": "2023-08-17T05:41:35.479122",
     "exception": false,
     "start_time": "2023-08-17T05:41:35.456137",
     "status": "completed"
    },
    "tags": []
   },
   "source": [
    "## Conclusion\n",
    "#### The datetime module in Python provides comprehensive tools for working with dates and times, allowing you to handle various time-related tasks. Additionally, the pytz library enhances this functionality by enabling time zone support."
   ]
  },
  {
   "cell_type": "markdown",
   "id": "7be10229",
   "metadata": {
    "papermill": {
     "duration": 0.023128,
     "end_time": "2023-08-17T05:41:35.525482",
     "exception": false,
     "start_time": "2023-08-17T05:41:35.502354",
     "status": "completed"
    },
    "tags": []
   },
   "source": [
    "<h1 align=\"left\"><font color='red'>44</font></h1>"
   ]
  },
  {
   "cell_type": "markdown",
   "id": "04d1ed46",
   "metadata": {
    "papermill": {
     "duration": 0.023219,
     "end_time": "2023-08-17T05:41:35.571850",
     "exception": false,
     "start_time": "2023-08-17T05:41:35.548631",
     "status": "completed"
    },
    "tags": []
   },
   "source": [
    "# Chapter 44: JSON Serialization and Deserialization\n",
    "\n",
    "#### In this chapter, we'll explore JSON serialization and deserialization in Python using the `json` module. JSON (JavaScript Object Notation) is a widely used format for data interchange.\n",
    "\n",
    "## JSON Basics\n",
    "\n",
    "#### JSON is a lightweight text-based format for representing structured data. It consists of key-value pairs and supports various data types, including objects, arrays, numbers, strings, booleans, and null.\n",
    "\n",
    "#### Example (JSON Object):\n",
    "\n"
   ]
  },
  {
   "cell_type": "code",
   "execution_count": 8,
   "id": "7927c7b2",
   "metadata": {
    "execution": {
     "iopub.execute_input": "2023-08-17T05:41:35.619777Z",
     "iopub.status.busy": "2023-08-17T05:41:35.618957Z",
     "iopub.status.idle": "2023-08-17T05:41:35.624485Z",
     "shell.execute_reply": "2023-08-17T05:41:35.623448Z"
    },
    "papermill": {
     "duration": 0.031286,
     "end_time": "2023-08-17T05:41:35.626135",
     "exception": false,
     "start_time": "2023-08-17T05:41:35.594849",
     "status": "completed"
    },
    "tags": []
   },
   "outputs": [
    {
     "name": "stdout",
     "output_type": "stream",
     "text": [
      "{\n",
      "    \"name\": \"John Doe\",\n",
      "    \"age\": 30,\n",
      "    \"is_student\": false,\n",
      "    \"hobbies\": [\n",
      "        \"reading\",\n",
      "        \"gaming\",\n",
      "        \"coding\"\n",
      "    ]\n",
      "}\n"
     ]
    }
   ],
   "source": [
    "\n",
    "import json\n",
    "\n",
    "person = {\n",
    "    \"name\": \"John Doe\",\n",
    "    \"age\": 30,\n",
    "    \"is_student\": False,\n",
    "    \"hobbies\": [\"reading\", \"gaming\", \"coding\"]\n",
    "}\n",
    "\n",
    "# Serialize Python object to JSON\n",
    "json_data = json.dumps(person, indent=4)\n",
    "print(json_data)"
   ]
  },
  {
   "cell_type": "markdown",
   "id": "aaa99be4",
   "metadata": {
    "papermill": {
     "duration": 0.022368,
     "end_time": "2023-08-17T05:41:35.672218",
     "exception": false,
     "start_time": "2023-08-17T05:41:35.649850",
     "status": "completed"
    },
    "tags": []
   },
   "source": [
    "## Serializing Python Objects to JSON\n",
    "#### The json module provides functions to convert Python objects into JSON strings.\n",
    "\n",
    "### Example (Serializing Python Objects):"
   ]
  },
  {
   "cell_type": "code",
   "execution_count": 9,
   "id": "e1764772",
   "metadata": {
    "execution": {
     "iopub.execute_input": "2023-08-17T05:41:35.720506Z",
     "iopub.status.busy": "2023-08-17T05:41:35.719909Z",
     "iopub.status.idle": "2023-08-17T05:41:35.725218Z",
     "shell.execute_reply": "2023-08-17T05:41:35.724064Z"
    },
    "papermill": {
     "duration": 0.031224,
     "end_time": "2023-08-17T05:41:35.726745",
     "exception": false,
     "start_time": "2023-08-17T05:41:35.695521",
     "status": "completed"
    },
    "tags": []
   },
   "outputs": [
    {
     "name": "stdout",
     "output_type": "stream",
     "text": [
      "{\n",
      "  \"name\": \"Alice\",\n",
      "  \"age\": 25,\n",
      "  \"is_student\": true\n",
      "}\n"
     ]
    }
   ],
   "source": [
    "import json\n",
    "\n",
    "data = {\n",
    "    \"name\": \"Alice\",\n",
    "    \"age\": 25,\n",
    "    \"is_student\": True\n",
    "}\n",
    "\n",
    "# Serialize Python dictionary to JSON\n",
    "json_data = json.dumps(data, indent=2)\n",
    "print(json_data)\n"
   ]
  },
  {
   "cell_type": "markdown",
   "id": "713d5f1c",
   "metadata": {
    "papermill": {
     "duration": 0.024101,
     "end_time": "2023-08-17T05:41:35.773950",
     "exception": false,
     "start_time": "2023-08-17T05:41:35.749849",
     "status": "completed"
    },
    "tags": []
   },
   "source": [
    "## Deserializing JSON to Python Objects\n",
    "#### You can use the json module to deserialize JSON strings back into Python objects.\n",
    "\n",
    "### Example (Deserializing JSON):"
   ]
  },
  {
   "cell_type": "code",
   "execution_count": 10,
   "id": "34818ddb",
   "metadata": {
    "execution": {
     "iopub.execute_input": "2023-08-17T05:41:35.821945Z",
     "iopub.status.busy": "2023-08-17T05:41:35.821623Z",
     "iopub.status.idle": "2023-08-17T05:41:35.826041Z",
     "shell.execute_reply": "2023-08-17T05:41:35.825227Z"
    },
    "papermill": {
     "duration": 0.030187,
     "end_time": "2023-08-17T05:41:35.827805",
     "exception": false,
     "start_time": "2023-08-17T05:41:35.797618",
     "status": "completed"
    },
    "tags": []
   },
   "outputs": [
    {
     "name": "stdout",
     "output_type": "stream",
     "text": [
      "Bob\n"
     ]
    }
   ],
   "source": [
    "import json\n",
    "\n",
    "json_string = '{\"name\": \"Bob\", \"age\": 28, \"is_student\": false}'\n",
    "\n",
    "# Deserialize JSON to Python dictionary\n",
    "parsed_data = json.loads(json_string)\n",
    "print(parsed_data[\"name\"])  # Output: Bob\n"
   ]
  },
  {
   "cell_type": "markdown",
   "id": "3afa8580",
   "metadata": {
    "papermill": {
     "duration": 0.02336,
     "end_time": "2023-08-17T05:41:35.874956",
     "exception": false,
     "start_time": "2023-08-17T05:41:35.851596",
     "status": "completed"
    },
    "tags": []
   },
   "source": [
    "## Working with JSON Files\n",
    "#### JSON data can be read from and written to files using the json module.\n",
    "\n",
    "### Example (Working with JSON Files):"
   ]
  },
  {
   "cell_type": "code",
   "execution_count": 11,
   "id": "592d78cd",
   "metadata": {
    "execution": {
     "iopub.execute_input": "2023-08-17T05:41:35.924277Z",
     "iopub.status.busy": "2023-08-17T05:41:35.923923Z",
     "iopub.status.idle": "2023-08-17T05:41:35.930645Z",
     "shell.execute_reply": "2023-08-17T05:41:35.929668Z"
    },
    "papermill": {
     "duration": 0.033274,
     "end_time": "2023-08-17T05:41:35.932168",
     "exception": false,
     "start_time": "2023-08-17T05:41:35.898894",
     "status": "completed"
    },
    "tags": []
   },
   "outputs": [
    {
     "name": "stdout",
     "output_type": "stream",
     "text": [
      "{'name': 'Eve', 'age': 22, 'is_student': True}\n"
     ]
    }
   ],
   "source": [
    "import json\n",
    "\n",
    "data = {\n",
    "    \"name\": \"Eve\",\n",
    "    \"age\": 22,\n",
    "    \"is_student\": True\n",
    "}\n",
    "\n",
    "# Write JSON data to a file\n",
    "with open(\"data.json\", \"w\") as json_file:\n",
    "    json.dump(data, json_file, indent=2)\n",
    "\n",
    "# Read JSON data from a file\n",
    "with open(\"data.json\", \"r\") as json_file:\n",
    "    loaded_data = json.load(json_file)\n",
    "    print(loaded_data)\n"
   ]
  },
  {
   "cell_type": "markdown",
   "id": "3c63e448",
   "metadata": {
    "papermill": {
     "duration": 0.023111,
     "end_time": "2023-08-17T05:41:35.978654",
     "exception": false,
     "start_time": "2023-08-17T05:41:35.955543",
     "status": "completed"
    },
    "tags": []
   },
   "source": [
    "## Conclusion\n",
    "#### The json module in Python provides a convenient way to work with JSON data, allowing you to serialize and deserialize Python objects. JSON is widely used for data interchange between different systems and applications."
   ]
  },
  {
   "cell_type": "markdown",
   "id": "3cdc9a36",
   "metadata": {
    "papermill": {
     "duration": 0.023348,
     "end_time": "2023-08-17T05:41:36.025117",
     "exception": false,
     "start_time": "2023-08-17T05:41:36.001769",
     "status": "completed"
    },
    "tags": []
   },
   "source": [
    "<h1 align=\"left\"><font color='red'>45</font></h1>"
   ]
  },
  {
   "cell_type": "markdown",
   "id": "dcd22ad9",
   "metadata": {
    "papermill": {
     "duration": 0.022807,
     "end_time": "2023-08-17T05:41:36.071459",
     "exception": false,
     "start_time": "2023-08-17T05:41:36.048652",
     "status": "completed"
    },
    "tags": []
   },
   "source": [
    "# Chapter 45: Recursion and Recursive Functions\n",
    "\n",
    "#### In this chapter, we'll explore the concept of recursion in Python, which involves solving problems by breaking them down into smaller instances of the same problem.\n",
    "\n",
    "## What is Recursion?\n",
    "\n",
    "#### Recursion is a programming technique where a function calls itself to solve a problem. It is based on the idea of solving a complex problem by dividing it into simpler, similar sub-problems.\n",
    "\n",
    "#### Example (Factorial using Recursion):\n",
    "\n"
   ]
  },
  {
   "cell_type": "code",
   "execution_count": 12,
   "id": "49ff0083",
   "metadata": {
    "execution": {
     "iopub.execute_input": "2023-08-17T05:41:36.118739Z",
     "iopub.status.busy": "2023-08-17T05:41:36.118083Z",
     "iopub.status.idle": "2023-08-17T05:41:36.123881Z",
     "shell.execute_reply": "2023-08-17T05:41:36.122865Z"
    },
    "papermill": {
     "duration": 0.031316,
     "end_time": "2023-08-17T05:41:36.125485",
     "exception": false,
     "start_time": "2023-08-17T05:41:36.094169",
     "status": "completed"
    },
    "tags": []
   },
   "outputs": [
    {
     "name": "stdout",
     "output_type": "stream",
     "text": [
      "120\n"
     ]
    }
   ],
   "source": [
    "\n",
    "def factorial(n):\n",
    "    if n == 0 or n == 1:\n",
    "        return 1\n",
    "    else:\n",
    "        return n * factorial(n - 1)\n",
    "\n",
    "result = factorial(5)\n",
    "print(result)  # Output: 120"
   ]
  },
  {
   "cell_type": "markdown",
   "id": "aca2bec3",
   "metadata": {
    "papermill": {
     "duration": 0.022414,
     "end_time": "2023-08-17T05:41:36.171282",
     "exception": false,
     "start_time": "2023-08-17T05:41:36.148868",
     "status": "completed"
    },
    "tags": []
   },
   "source": [
    "## The Base Case\n",
    "### Recursion requires a base case, which is a condition that defines when the function should stop calling itself. Without a base case, the function will continue to call itself indefinitely, leading to a stack overflow.\n",
    "\n",
    "## Indirect Recursion\n",
    "#### In indirect recursion, multiple functions call each other in a circular manner to achieve a specific task.\n",
    "\n",
    "### Example (Indirect Recursion):"
   ]
  },
  {
   "cell_type": "code",
   "execution_count": 13,
   "id": "8d00473f",
   "metadata": {
    "execution": {
     "iopub.execute_input": "2023-08-17T05:41:36.219488Z",
     "iopub.status.busy": "2023-08-17T05:41:36.219107Z",
     "iopub.status.idle": "2023-08-17T05:41:36.225996Z",
     "shell.execute_reply": "2023-08-17T05:41:36.224367Z"
    },
    "papermill": {
     "duration": 0.034076,
     "end_time": "2023-08-17T05:41:36.228282",
     "exception": false,
     "start_time": "2023-08-17T05:41:36.194206",
     "status": "completed"
    },
    "tags": []
   },
   "outputs": [
    {
     "name": "stdout",
     "output_type": "stream",
     "text": [
      "True\n",
      "False\n"
     ]
    }
   ],
   "source": [
    "def even(n):\n",
    "    if n == 0:\n",
    "        return True\n",
    "    else:\n",
    "        return odd(n - 1)\n",
    "\n",
    "def odd(n):\n",
    "    return not even(n)\n",
    "\n",
    "print(even(4))  # Output: True\n",
    "print(odd(4))   # Output: False\n"
   ]
  },
  {
   "cell_type": "markdown",
   "id": "b0328c90",
   "metadata": {
    "papermill": {
     "duration": 0.030651,
     "end_time": "2023-08-17T05:41:36.285255",
     "exception": false,
     "start_time": "2023-08-17T05:41:36.254604",
     "status": "completed"
    },
    "tags": []
   },
   "source": [
    "## Recursive vs. Iterative Approaches\n",
    "#### Recursion is an elegant way to solve certain problems, but it can sometimes be less efficient than iterative approaches due to the overhead of function calls.\n",
    "\n",
    "## When to Use Recursion\n",
    "#### Recursion is suitable for problems that can be broken down into smaller instances of the same problem. It is often used for tasks such as traversing trees, searching through directories, and more.\n",
    "\n",
    "## Limitations and Considerations\n",
    "#### Recursive functions can lead to stack overflow errors if not designed carefully. Tail recursion optimization is a technique that can mitigate this issue.\n",
    "\n",
    "## Conclusion\n",
    "#### Recursion is a powerful programming technique that allows you to solve complex problems by breaking them down into smaller sub-problems. Recursive functions call themselves to achieve this division and conquer approach."
   ]
  },
  {
   "cell_type": "markdown",
   "id": "06ee018b",
   "metadata": {
    "papermill": {
     "duration": 0.025369,
     "end_time": "2023-08-17T05:41:36.336808",
     "exception": false,
     "start_time": "2023-08-17T05:41:36.311439",
     "status": "completed"
    },
    "tags": []
   },
   "source": [
    "<h1 align=\"left\"><font color='red'>46</font></h1>"
   ]
  },
  {
   "cell_type": "markdown",
   "id": "89820c85",
   "metadata": {
    "papermill": {
     "duration": 0.026616,
     "end_time": "2023-08-17T05:41:36.392183",
     "exception": false,
     "start_time": "2023-08-17T05:41:36.365567",
     "status": "completed"
    },
    "tags": []
   },
   "source": [
    "# Chapter 46: Global Interpreter Lock (GIL)\n",
    "\n",
    "#### In this chapter, we'll explore the Global Interpreter Lock (GIL) in Python, its purpose, and its impact on multi-threading and multi-processing.\n",
    "\n",
    "## What is the Global Interpreter Lock (GIL)?\n",
    "\n",
    "#### The Global Interpreter Lock (GIL) is a mutex used in CPython (the most widely used implementation of Python) to synchronize access to Python objects, preventing multiple threads from executing Python bytecodes simultaneously in a single process.\n",
    "\n",
    "## GIL's Impact on Multi-Threading\n",
    "\n",
    "#### Due to the GIL, multi-threaded Python programs cannot achieve true parallelism in CPU-bound tasks. This means that even though you might use multiple threads, only one thread is executing Python code at a time.\n",
    "\n",
    "#### Example (GIL's Impact on Multi-Threading):\n",
    "\n"
   ]
  },
  {
   "cell_type": "code",
   "execution_count": 14,
   "id": "d7c1ed6e",
   "metadata": {
    "execution": {
     "iopub.execute_input": "2023-08-17T05:41:36.440174Z",
     "iopub.status.busy": "2023-08-17T05:41:36.439833Z",
     "iopub.status.idle": "2023-08-17T05:41:36.854216Z",
     "shell.execute_reply": "2023-08-17T05:41:36.853062Z"
    },
    "papermill": {
     "duration": 0.441165,
     "end_time": "2023-08-17T05:41:36.856430",
     "exception": false,
     "start_time": "2023-08-17T05:41:36.415265",
     "status": "completed"
    },
    "tags": []
   },
   "outputs": [
    {
     "name": "stdout",
     "output_type": "stream",
     "text": [
      "Threads finished\n"
     ]
    }
   ],
   "source": [
    "\n",
    "import threading\n",
    "\n",
    "def count_up(limit):\n",
    "    for _ in range(limit):\n",
    "        pass\n",
    "\n",
    "limit = 10000000\n",
    "\n",
    "thread1 = threading.Thread(target=count_up, args=(limit,))\n",
    "thread2 = threading.Thread(target=count_up, args=(limit,))\n",
    "\n",
    "thread1.start()\n",
    "thread2.start()\n",
    "\n",
    "thread1.join()\n",
    "thread2.join()\n",
    "\n",
    "print(\"Threads finished\")"
   ]
  },
  {
   "cell_type": "markdown",
   "id": "62f9c22a",
   "metadata": {
    "papermill": {
     "duration": 0.026554,
     "end_time": "2023-08-17T05:41:36.907455",
     "exception": false,
     "start_time": "2023-08-17T05:41:36.880901",
     "status": "completed"
    },
    "tags": []
   },
   "source": [
    "## GIL and Multi-Processing\n",
    "#### The GIL does not prevent multi-processing, which allows true parallelism by running separate processes. Each process runs in its own Python interpreter with its own GIL.\n",
    "\n",
    "### Example (Using Multi-Processing):"
   ]
  },
  {
   "cell_type": "code",
   "execution_count": 15,
   "id": "302312f5",
   "metadata": {
    "execution": {
     "iopub.execute_input": "2023-08-17T05:41:36.962995Z",
     "iopub.status.busy": "2023-08-17T05:41:36.962685Z",
     "iopub.status.idle": "2023-08-17T05:41:37.259575Z",
     "shell.execute_reply": "2023-08-17T05:41:37.258366Z"
    },
    "papermill": {
     "duration": 0.325975,
     "end_time": "2023-08-17T05:41:37.261779",
     "exception": false,
     "start_time": "2023-08-17T05:41:36.935804",
     "status": "completed"
    },
    "tags": []
   },
   "outputs": [
    {
     "name": "stdout",
     "output_type": "stream",
     "text": [
      "Processes finished\n"
     ]
    }
   ],
   "source": [
    "import multiprocessing\n",
    "\n",
    "def count_up(limit):\n",
    "    for _ in range(limit):\n",
    "        pass\n",
    "\n",
    "limit = 10000000\n",
    "\n",
    "process1 = multiprocessing.Process(target=count_up, args=(limit,))\n",
    "process2 = multiprocessing.Process(target=count_up, args=(limit,))\n",
    "\n",
    "process1.start()\n",
    "process2.start()\n",
    "\n",
    "process1.join()\n",
    "process2.join()\n",
    "\n",
    "print(\"Processes finished\")\n"
   ]
  },
  {
   "cell_type": "markdown",
   "id": "6594fc3c",
   "metadata": {
    "papermill": {
     "duration": 0.023832,
     "end_time": "2023-08-17T05:41:37.310323",
     "exception": false,
     "start_time": "2023-08-17T05:41:37.286491",
     "status": "completed"
    },
    "tags": []
   },
   "source": [
    "## Use Cases and Considerations\n",
    "#### The GIL is less of a concern for I/O-bound tasks (such as network operations) or multi-processing, where parallelism can be achieved through separate processes.\n",
    "\n",
    "## Conclusion\n",
    "#### The Global Interpreter Lock (GIL) in Python is a controversial topic, as it limits true multi-threading in CPU-bound tasks within a single process. However, Python's multi-processing and asynchronous programming libraries allow developers to work around this limitation and achieve concurrency and parallelism."
   ]
  },
  {
   "cell_type": "markdown",
   "id": "16de610a",
   "metadata": {
    "papermill": {
     "duration": 0.022757,
     "end_time": "2023-08-17T05:41:37.356513",
     "exception": false,
     "start_time": "2023-08-17T05:41:37.333756",
     "status": "completed"
    },
    "tags": []
   },
   "source": [
    "<h1 align=\"left\"><font color='red'>47</font></h1>"
   ]
  },
  {
   "cell_type": "markdown",
   "id": "c07f77e9",
   "metadata": {
    "papermill": {
     "duration": 0.022914,
     "end_time": "2023-08-17T05:41:37.402721",
     "exception": false,
     "start_time": "2023-08-17T05:41:37.379807",
     "status": "completed"
    },
    "tags": []
   },
   "source": [
    "# Chapter 47: Context Managers and the `with` Statement\n",
    "\n",
    "#### In this chapter, we'll explore context managers in Python and how they are used with the `with` statement to manage resources, such as files, network connections, and more.\n",
    "\n",
    "## What are Context Managers?\n",
    "\n",
    "#### Context managers are objects that facilitate the allocation and release of resources, ensuring that resources are properly managed and cleaned up when they are no longer needed.\n",
    "\n",
    "## Using the `with` Statement\n",
    "\n",
    "#### The `with` statement in Python provides a convenient way to work with context managers. It ensures that resources are properly initialized before the code block and properly cleaned up afterward, even if an exception is raised.\n",
    "\n",
    "#### Example (Using `with` for File Handling):\n",
    "\n"
   ]
  },
  {
   "cell_type": "markdown",
   "id": "c0d127d5",
   "metadata": {
    "execution": {
     "iopub.execute_input": "2023-08-17T05:09:57.141379Z",
     "iopub.status.busy": "2023-08-17T05:09:57.140972Z",
     "iopub.status.idle": "2023-08-17T05:09:57.821689Z",
     "shell.execute_reply": "2023-08-17T05:09:57.820060Z",
     "shell.execute_reply.started": "2023-08-17T05:09:57.141341Z"
    },
    "papermill": {
     "duration": 0.023953,
     "end_time": "2023-08-17T05:41:37.450071",
     "exception": false,
     "start_time": "2023-08-17T05:41:37.426118",
     "status": "completed"
    },
    "tags": []
   },
   "source": [
    "```python\n",
    "with open(\"example.txt\", \"r\") as file:\n",
    "    content = file.read()\n",
    "    print(content)\n",
    "# File is automatically closed outside the `with` block\n",
    "```"
   ]
  },
  {
   "cell_type": "markdown",
   "id": "63d66471",
   "metadata": {
    "papermill": {
     "duration": 0.022734,
     "end_time": "2023-08-17T05:41:37.545902",
     "exception": false,
     "start_time": "2023-08-17T05:41:37.523168",
     "status": "completed"
    },
    "tags": []
   },
   "source": [
    "## Creating Custom Context Managers\n",
    "#### You can create your own context managers using the contextlib module or by defining a class with __enter__ and __exit__ methods.\n",
    "\n",
    "### Example (Custom Context Manager using Class):"
   ]
  },
  {
   "cell_type": "code",
   "execution_count": 16,
   "id": "f541a9b7",
   "metadata": {
    "execution": {
     "iopub.execute_input": "2023-08-17T05:41:37.593455Z",
     "iopub.status.busy": "2023-08-17T05:41:37.593111Z",
     "iopub.status.idle": "2023-08-17T05:41:37.598684Z",
     "shell.execute_reply": "2023-08-17T05:41:37.597876Z"
    },
    "papermill": {
     "duration": 0.032041,
     "end_time": "2023-08-17T05:41:37.600921",
     "exception": false,
     "start_time": "2023-08-17T05:41:37.568880",
     "status": "completed"
    },
    "tags": []
   },
   "outputs": [
    {
     "name": "stdout",
     "output_type": "stream",
     "text": [
      "Entering the context\n",
      "Inside the context\n",
      "Exiting the context\n"
     ]
    }
   ],
   "source": [
    "class MyContext:\n",
    "    def __enter__(self):\n",
    "        print(\"Entering the context\")\n",
    "        return self\n",
    "\n",
    "    def __exit__(self, exc_type, exc_value, traceback):\n",
    "        print(\"Exiting the context\")\n",
    "\n",
    "with MyContext() as context:\n",
    "    print(\"Inside the context\")\n",
    "# \"Entering the context\" is printed first, then \"Inside the context\", and finally \"Exiting the context\"\n"
   ]
  },
  {
   "cell_type": "markdown",
   "id": "3db4fb46",
   "metadata": {
    "papermill": {
     "duration": 0.023476,
     "end_time": "2023-08-17T05:41:37.649249",
     "exception": false,
     "start_time": "2023-08-17T05:41:37.625773",
     "status": "completed"
    },
    "tags": []
   },
   "source": [
    "## Using contextlib for Simple Context Managers\n",
    "#### The contextlib module provides utilities for creating simple context managers using functions and decorators.\n",
    "\n",
    "### Example (Custom Context Manager using contextlib):"
   ]
  },
  {
   "cell_type": "code",
   "execution_count": 17,
   "id": "e9ce1008",
   "metadata": {
    "execution": {
     "iopub.execute_input": "2023-08-17T05:41:37.697998Z",
     "iopub.status.busy": "2023-08-17T05:41:37.697675Z",
     "iopub.status.idle": "2023-08-17T05:41:37.703251Z",
     "shell.execute_reply": "2023-08-17T05:41:37.702216Z"
    },
    "papermill": {
     "duration": 0.032554,
     "end_time": "2023-08-17T05:41:37.705270",
     "exception": false,
     "start_time": "2023-08-17T05:41:37.672716",
     "status": "completed"
    },
    "tags": []
   },
   "outputs": [
    {
     "name": "stdout",
     "output_type": "stream",
     "text": [
      "Entering the context\n",
      "Inside the context\n",
      "Exiting the context\n"
     ]
    }
   ],
   "source": [
    "from contextlib import contextmanager\n",
    "\n",
    "@contextmanager\n",
    "def my_context():\n",
    "    print(\"Entering the context\")\n",
    "    yield\n",
    "    print(\"Exiting the context\")\n",
    "\n",
    "with my_context():\n",
    "    print(\"Inside the context\")\n",
    "# \"Entering the context\" is printed first, then \"Inside the context\", and finally \"Exiting the context\"\n"
   ]
  },
  {
   "cell_type": "markdown",
   "id": "071a382d",
   "metadata": {
    "papermill": {
     "duration": 0.025207,
     "end_time": "2023-08-17T05:41:37.754172",
     "exception": false,
     "start_time": "2023-08-17T05:41:37.728965",
     "status": "completed"
    },
    "tags": []
   },
   "source": [
    "## Use Cases of Context Managers\n",
    "#### Context managers are useful for managing resources such as files, database connections, locks, and more. They ensure proper cleanup and resource management.\n",
    "\n",
    "## Conclusion\n",
    "#### Context managers and the with statement in Python provide a clean and efficient way to manage resources, ensuring that they are properly initialized and cleaned up. This helps in avoiding resource leaks and simplifies the code."
   ]
  },
  {
   "cell_type": "markdown",
   "id": "739c99b7",
   "metadata": {
    "papermill": {
     "duration": 0.024554,
     "end_time": "2023-08-17T05:41:37.803581",
     "exception": false,
     "start_time": "2023-08-17T05:41:37.779027",
     "status": "completed"
    },
    "tags": []
   },
   "source": [
    "<h1 align=\"left\"><font color='red'>48</font></h1>"
   ]
  },
  {
   "cell_type": "markdown",
   "id": "610330c6",
   "metadata": {
    "papermill": {
     "duration": 0.023933,
     "end_time": "2023-08-17T05:41:37.852447",
     "exception": false,
     "start_time": "2023-08-17T05:41:37.828514",
     "status": "completed"
    },
    "tags": []
   },
   "source": [
    "# Chapter 48: Virtual Environments and `pip`\n",
    "\n",
    "#### In this chapter, we'll explore virtual environments in Python and how to use the `pip` package manager to manage dependencies within these environments.\n",
    "\n",
    "## What are Virtual Environments?\n",
    "\n",
    "#### A virtual environment is an isolated environment that allows you to install and manage Python packages separately from the system-wide Python installation. This is useful for managing project-specific dependencies and avoiding conflicts between packages.\n",
    "\n",
    "## Creating a Virtual Environment\n",
    "\n",
    "#### You can create a virtual environment using the `venv` module (Python 3.3+) or the `virtualenv` package.\n",
    "\n",
    "#### Example (Creating a Virtual Environment using `venv`):\n",
    "\n"
   ]
  },
  {
   "cell_type": "markdown",
   "id": "67e00be5",
   "metadata": {
    "papermill": {
     "duration": 0.023329,
     "end_time": "2023-08-17T05:41:37.899785",
     "exception": false,
     "start_time": "2023-08-17T05:41:37.876456",
     "status": "completed"
    },
    "tags": []
   },
   "source": [
    "\n",
    "```bash\n",
    "python -m venv myenv\n",
    "```"
   ]
  },
  {
   "cell_type": "markdown",
   "id": "51b1f45b",
   "metadata": {
    "papermill": {
     "duration": 0.023946,
     "end_time": "2023-08-17T05:41:37.947719",
     "exception": false,
     "start_time": "2023-08-17T05:41:37.923773",
     "status": "completed"
    },
    "tags": []
   },
   "source": [
    "## Activating and Deactivating a Virtual Environment\n",
    "#### Once a virtual environment is created, you need to activate it before using it.\n",
    "\n",
    "### Example (Activating a Virtual Environment):"
   ]
  },
  {
   "cell_type": "markdown",
   "id": "167ded7b",
   "metadata": {
    "papermill": {
     "duration": 0.024625,
     "end_time": "2023-08-17T05:41:37.997298",
     "exception": false,
     "start_time": "2023-08-17T05:41:37.972673",
     "status": "completed"
    },
    "tags": []
   },
   "source": [
    "```python\n",
    "# On Windows\n",
    "myenv\\Scripts\\activate\n",
    "\n",
    "# On macOS and Linux\n",
    "source myenv/bin/activate\n",
    "```"
   ]
  },
  {
   "cell_type": "markdown",
   "id": "098e2fe2",
   "metadata": {
    "papermill": {
     "duration": 0.023773,
     "end_time": "2023-08-17T05:41:38.045302",
     "exception": false,
     "start_time": "2023-08-17T05:41:38.021529",
     "status": "completed"
    },
    "tags": []
   },
   "source": [
    "## To deactivate the virtual environment, simply use the deactivate command.\n",
    "\n",
    "### Installing Packages using pip\n",
    "#### The pip command is used to install, upgrade, and manage Python packages within a virtual environment.\n",
    "\n",
    "### Example (Installing a Package using pip):"
   ]
  },
  {
   "cell_type": "markdown",
   "id": "1c89dab6",
   "metadata": {
    "papermill": {
     "duration": 0.02386,
     "end_time": "2023-08-17T05:41:38.093333",
     "exception": false,
     "start_time": "2023-08-17T05:41:38.069473",
     "status": "completed"
    },
    "tags": []
   },
   "source": [
    "```python\n",
    "pip install requests\n",
    "```"
   ]
  },
  {
   "cell_type": "markdown",
   "id": "fee7b649",
   "metadata": {
    "papermill": {
     "duration": 0.023982,
     "end_time": "2023-08-17T05:41:38.141261",
     "exception": false,
     "start_time": "2023-08-17T05:41:38.117279",
     "status": "completed"
    },
    "tags": []
   },
   "source": [
    "## Managing Dependencies with requirements.txt\n",
    "#### You can create a requirements.txt file to list all the required packages for your project. This file can then be used to install all dependencies at once.\n",
    "\n",
    "### Example (requirements.txt):"
   ]
  },
  {
   "cell_type": "markdown",
   "id": "65777d7a",
   "metadata": {
    "papermill": {
     "duration": 0.024032,
     "end_time": "2023-08-17T05:41:38.189164",
     "exception": false,
     "start_time": "2023-08-17T05:41:38.165132",
     "status": "completed"
    },
    "tags": []
   },
   "source": [
    "```python\n",
    "\n",
    "requests==2.26.0\n",
    "numpy==1.22.0\n",
    "```"
   ]
  },
  {
   "cell_type": "markdown",
   "id": "e60fa627",
   "metadata": {
    "papermill": {
     "duration": 0.02368,
     "end_time": "2023-08-17T05:41:38.237519",
     "exception": false,
     "start_time": "2023-08-17T05:41:38.213839",
     "status": "completed"
    },
    "tags": []
   },
   "source": [
    "### Install packages from requirements.txt using the following command:"
   ]
  },
  {
   "cell_type": "markdown",
   "id": "5a6b306a",
   "metadata": {
    "papermill": {
     "duration": 0.023611,
     "end_time": "2023-08-17T05:41:38.285237",
     "exception": false,
     "start_time": "2023-08-17T05:41:38.261626",
     "status": "completed"
    },
    "tags": []
   },
   "source": [
    "```python\n",
    "pip install -r requirements.txt\n",
    "```"
   ]
  },
  {
   "cell_type": "markdown",
   "id": "956d4a41",
   "metadata": {
    "papermill": {
     "duration": 0.02317,
     "end_time": "2023-08-17T05:41:38.334474",
     "exception": false,
     "start_time": "2023-08-17T05:41:38.311304",
     "status": "completed"
    },
    "tags": []
   },
   "source": [
    "## Isolating Projects with Virtual Environments\n",
    "#### Virtual environments allow you to isolate projects and their dependencies, ensuring that packages from one project do not interfere with another.\n",
    "\n",
    "## Conclusion\n",
    "#### virtual environments and the pip package manager are essential tools for managing Python projects and their dependencies. They provide isolation, version control, and reproducibility, enabling you to develop and distribute projects without worrying about conflicts."
   ]
  },
  {
   "cell_type": "markdown",
   "id": "f844c747",
   "metadata": {
    "papermill": {
     "duration": 0.023128,
     "end_time": "2023-08-17T05:41:38.380948",
     "exception": false,
     "start_time": "2023-08-17T05:41:38.357820",
     "status": "completed"
    },
    "tags": []
   },
   "source": [
    "<h1 align=\"left\"><font color='red'>49</font></h1>"
   ]
  },
  {
   "cell_type": "markdown",
   "id": "cce40921",
   "metadata": {
    "papermill": {
     "duration": 0.022673,
     "end_time": "2023-08-17T05:41:38.426733",
     "exception": false,
     "start_time": "2023-08-17T05:41:38.404060",
     "status": "completed"
    },
    "tags": []
   },
   "source": [
    "# Chapter 49: Command Line Arguments (`sys.argv`)\n",
    "\n",
    "#### In this chapter, we'll explore how to work with command-line arguments in Python using the `sys.argv` list and how to utilize them in your scripts.\n",
    "\n",
    "## Understanding Command Line Arguments\n",
    "\n",
    "#### Command line arguments are values provided to a program when it is executed from the command line. These arguments can be used to modify the behavior of the program or provide input data.\n",
    "\n",
    "## Accessing Command Line Arguments with `sys.argv`\n",
    "\n",
    "#### Python's `sys` module provides access to command-line arguments through the `sys.argv` list. The first element (`sys.argv[0]`) is the name of the script itself, and subsequent elements contain the provided arguments.\n",
    "\n",
    "#### Example (Accessing Command Line Arguments):\n",
    "\n"
   ]
  },
  {
   "cell_type": "code",
   "execution_count": 18,
   "id": "05c3a6d7",
   "metadata": {
    "execution": {
     "iopub.execute_input": "2023-08-17T05:41:38.474051Z",
     "iopub.status.busy": "2023-08-17T05:41:38.473741Z",
     "iopub.status.idle": "2023-08-17T05:41:38.479463Z",
     "shell.execute_reply": "2023-08-17T05:41:38.478175Z"
    },
    "papermill": {
     "duration": 0.03135,
     "end_time": "2023-08-17T05:41:38.481079",
     "exception": false,
     "start_time": "2023-08-17T05:41:38.449729",
     "status": "completed"
    },
    "tags": []
   },
   "outputs": [
    {
     "name": "stdout",
     "output_type": "stream",
     "text": [
      "Script name: /opt/conda/lib/python3.10/site-packages/ipykernel_launcher.py\n",
      "Arguments: ['-f', '/tmp/tmpdujrtog1.json', '--HistoryManager.hist_file=:memory:']\n"
     ]
    }
   ],
   "source": [
    "\n",
    "import sys\n",
    "\n",
    "print(\"Script name:\", sys.argv[0])\n",
    "print(\"Arguments:\", sys.argv[1:])"
   ]
  },
  {
   "cell_type": "markdown",
   "id": "edd03018",
   "metadata": {
    "papermill": {
     "duration": 0.022977,
     "end_time": "2023-08-17T05:41:38.527745",
     "exception": false,
     "start_time": "2023-08-17T05:41:38.504768",
     "status": "completed"
    },
    "tags": []
   },
   "source": [
    "## Using Command Line Arguments\n",
    "#### You can use command line arguments to customize the behavior of your Python script. For instance, you can provide input data, specify file paths, or enable certain features.\n",
    "\n",
    "### Example (Using Command Line Arguments):"
   ]
  },
  {
   "cell_type": "code",
   "execution_count": 19,
   "id": "e92e7e78",
   "metadata": {
    "execution": {
     "iopub.execute_input": "2023-08-17T05:41:38.576415Z",
     "iopub.status.busy": "2023-08-17T05:41:38.576075Z",
     "iopub.status.idle": "2023-08-17T05:41:38.581190Z",
     "shell.execute_reply": "2023-08-17T05:41:38.580303Z"
    },
    "papermill": {
     "duration": 0.031922,
     "end_time": "2023-08-17T05:41:38.583103",
     "exception": false,
     "start_time": "2023-08-17T05:41:38.551181",
     "status": "completed"
    },
    "tags": []
   },
   "outputs": [
    {
     "name": "stdout",
     "output_type": "stream",
     "text": [
      "Hello, -f!\n"
     ]
    }
   ],
   "source": [
    "import sys\n",
    "\n",
    "if len(sys.argv) > 1:\n",
    "    name = sys.argv[1]\n",
    "    print(f\"Hello, {name}!\")\n",
    "else:\n",
    "    print(\"Hello, World!\")\n"
   ]
  },
  {
   "cell_type": "markdown",
   "id": "ea7f824c",
   "metadata": {
    "papermill": {
     "duration": 0.023814,
     "end_time": "2023-08-17T05:41:38.631609",
     "exception": false,
     "start_time": "2023-08-17T05:41:38.607795",
     "status": "completed"
    },
    "tags": []
   },
   "source": [
    "## Parsing Command Line Arguments\n",
    "#### For more complex scenarios, you might want to parse command line arguments using libraries like argparse or click, which provide a structured way to define and handle arguments.\n",
    "\n",
    "## Benefits of Command Line Arguments\n",
    "#### Using command line arguments provides flexibility and ease of use. It allows users to interact with your script without modifying the source code.\n",
    "\n",
    "## Conclusion\n",
    "#### Command line arguments, accessed through the sys.argv list, are a powerful way to customize the behavior of your Python scripts based on user input. They enable you to create more versatile and user-friendly applications."
   ]
  },
  {
   "cell_type": "markdown",
   "id": "b9484932",
   "metadata": {
    "papermill": {
     "duration": 0.022983,
     "end_time": "2023-08-17T05:41:38.678274",
     "exception": false,
     "start_time": "2023-08-17T05:41:38.655291",
     "status": "completed"
    },
    "tags": []
   },
   "source": [
    "<h1 align=\"left\"><font color='red'>50</font></h1>"
   ]
  },
  {
   "cell_type": "markdown",
   "id": "97e52115",
   "metadata": {
    "papermill": {
     "duration": 0.024132,
     "end_time": "2023-08-17T05:41:38.726628",
     "exception": false,
     "start_time": "2023-08-17T05:41:38.702496",
     "status": "completed"
    },
    "tags": []
   },
   "source": [
    "# Chapter 50: Command Line Argument Parsing (`argparse`)\n",
    "\n",
    "#### In this chapter, we'll explore how to use the `argparse` module in Python to create structured and user-friendly command-line interfaces for your scripts.\n",
    "\n",
    "## Introduction to `argparse`\n",
    "\n",
    "#### `argparse` is a powerful module that simplifies the process of defining and handling command-line arguments. It provides a convenient way to create robust and user-friendly command-line interfaces for your Python scripts.\n",
    "\n",
    "## Basic Usage of `argparse`\n",
    "\n",
    "#### 1. Import the `argparse` module.\n",
    "#### 2. Create an `ArgumentParser` object to define arguments.\n",
    "#### 3. Add arguments using the `.add_argument()` method.\n",
    "#### 4. Parse the command-line arguments using `.parse_args()`.\n",
    "\n",
    "#### Example (Basic `argparse` Usage):\n",
    "\n"
   ]
  },
  {
   "cell_type": "markdown",
   "id": "02341557",
   "metadata": {
    "execution": {
     "iopub.execute_input": "2023-08-17T05:18:48.068992Z",
     "iopub.status.busy": "2023-08-17T05:18:48.068512Z",
     "iopub.status.idle": "2023-08-17T05:18:48.078060Z",
     "shell.execute_reply": "2023-08-17T05:18:48.075890Z",
     "shell.execute_reply.started": "2023-08-17T05:18:48.068957Z"
    },
    "papermill": {
     "duration": 0.025111,
     "end_time": "2023-08-17T05:41:38.775851",
     "exception": false,
     "start_time": "2023-08-17T05:41:38.750740",
     "status": "completed"
    },
    "tags": []
   },
   "source": [
    "```python\n",
    "import argparse\n",
    "\n",
    "parser = argparse.ArgumentParser(description=\"A simple command-line tool.\")\n",
    "parser.add_argument(\"name\", help=\"Name of the user\")\n",
    "\n",
    "args = parser.parse_args()\n",
    "\n",
    "print(f\"Hello, {args.name}!\")\n",
    "```"
   ]
  },
  {
   "cell_type": "markdown",
   "id": "53c23aac",
   "metadata": {
    "papermill": {
     "duration": 0.023153,
     "end_time": "2023-08-17T05:41:38.822883",
     "exception": false,
     "start_time": "2023-08-17T05:41:38.799730",
     "status": "completed"
    },
    "tags": []
   },
   "source": [
    "## Specifying Argument Types\n",
    "#### You can specify the type of an argument using the type parameter, which ensures that the input is converted to the desired type.\n",
    "\n",
    "### Example (Specifying Argument Type):"
   ]
  },
  {
   "cell_type": "markdown",
   "id": "1460c5e9",
   "metadata": {
    "papermill": {
     "duration": 0.025448,
     "end_time": "2023-08-17T05:41:38.873021",
     "exception": false,
     "start_time": "2023-08-17T05:41:38.847573",
     "status": "completed"
    },
    "tags": []
   },
   "source": [
    "```python\n",
    "import argparse\n",
    "\n",
    "parser = argparse.ArgumentParser(description=\"A tool to calculate squares.\")\n",
    "parser.add_argument(\"number\", type=int, help=\"An integer to calculate its square\")\n",
    "\n",
    "args = parser.parse_args()\n",
    "\n",
    "result = args.number ** 2\n",
    "print(f\"The square of {args.number} is {result}\")\n",
    "```"
   ]
  },
  {
   "cell_type": "markdown",
   "id": "94c3bddd",
   "metadata": {
    "papermill": {
     "duration": 0.023154,
     "end_time": "2023-08-17T05:41:38.920018",
     "exception": false,
     "start_time": "2023-08-17T05:41:38.896864",
     "status": "completed"
    },
    "tags": []
   },
   "source": [
    "## Providing Optional Arguments\n",
    "#### You can add optional arguments by specifying a flag (e.g., -f or --flag) using the add_argument method.\n",
    "\n",
    "### Example (Optional Argument):"
   ]
  },
  {
   "cell_type": "markdown",
   "id": "d5f4cc09",
   "metadata": {
    "papermill": {
     "duration": 0.022883,
     "end_time": "2023-08-17T05:41:38.965936",
     "exception": false,
     "start_time": "2023-08-17T05:41:38.943053",
     "status": "completed"
    },
    "tags": []
   },
   "source": [
    "```python\n",
    "import argparse\n",
    "\n",
    "parser = argparse.ArgumentParser(description=\"A tool to greet users.\")\n",
    "parser.add_argument(\"--greet\", help=\"An optional greeting message\")\n",
    "\n",
    "args = parser.parse_args()\n",
    "\n",
    "if args.greet:\n",
    "    print(args.greet)\n",
    "else:\n",
    "    print(\"Hello!\")\n",
    "```"
   ]
  },
  {
   "cell_type": "markdown",
   "id": "a02e3acf",
   "metadata": {
    "papermill": {
     "duration": 0.023708,
     "end_time": "2023-08-17T05:41:39.015270",
     "exception": false,
     "start_time": "2023-08-17T05:41:38.991562",
     "status": "completed"
    },
    "tags": []
   },
   "source": [
    "## More Advanced Features\n",
    "#### argparse provides features like default values, mutually exclusive arguments, subparsers, and more, to create versatile command-line interfaces for your scripts.\n",
    "\n",
    "## Benefits of Using argparse\n",
    "#### Using argparse makes your scripts more user-friendly, helps prevent errors, and allows users to easily understand and modify script behavior.\n",
    "\n",
    "## Conclusion\n",
    "#### The argparse module in Python simplifies the process of creating user-friendly command-line interfaces for your scripts. It provides a structured way to define and handle arguments, making it easier for both developers and users."
   ]
  },
  {
   "cell_type": "markdown",
   "id": "e3002113",
   "metadata": {
    "papermill": {
     "duration": 0.026923,
     "end_time": "2023-08-17T05:41:39.066763",
     "exception": false,
     "start_time": "2023-08-17T05:41:39.039840",
     "status": "completed"
    },
    "tags": []
   },
   "source": [
    "<h1 align=\"left\"><font color='red'>51</font></h1>"
   ]
  },
  {
   "cell_type": "markdown",
   "id": "b31edd22",
   "metadata": {
    "papermill": {
     "duration": 0.024125,
     "end_time": "2023-08-17T05:41:39.117120",
     "exception": false,
     "start_time": "2023-08-17T05:41:39.092995",
     "status": "completed"
    },
    "tags": []
   },
   "source": [
    "# Chapter 51: Unit Testing with `unittest`\n",
    "\n",
    "#### In this chapter, we'll explore how to perform unit testing in Python using the built-in `unittest` framework to ensure the reliability and correctness of your code.\n",
    "\n",
    "## Introduction to Unit Testing\n",
    "\n",
    "#### Unit testing is a software testing technique where individual components or functions of a program are tested in isolation to verify their correctness.\n",
    "\n",
    "## Using `unittest` for Unit Testing\n",
    "\n",
    "#### 1. Import the `unittest` module.\n",
    "#### 2. Create test cases as subclasses of `unittest.TestCase`.\n",
    "#### 3. Write test methods within test case classes using assertion methods.\n",
    "\n",
    "#### Example (Using `unittest` for Unit Testing):\n",
    "\n"
   ]
  },
  {
   "cell_type": "markdown",
   "id": "e8fe2a7d",
   "metadata": {
    "execution": {
     "iopub.execute_input": "2023-08-17T05:20:30.468486Z",
     "iopub.status.busy": "2023-08-17T05:20:30.468080Z",
     "iopub.status.idle": "2023-08-17T05:20:30.497117Z",
     "shell.execute_reply": "2023-08-17T05:20:30.495507Z",
     "shell.execute_reply.started": "2023-08-17T05:20:30.468455Z"
    },
    "papermill": {
     "duration": 0.023902,
     "end_time": "2023-08-17T05:41:39.165598",
     "exception": false,
     "start_time": "2023-08-17T05:41:39.141696",
     "status": "completed"
    },
    "tags": []
   },
   "source": [
    "```python\n",
    "import unittest\n",
    "\n",
    "def add(a, b):\n",
    "    return a + b\n",
    "\n",
    "class TestAddFunction(unittest.TestCase):\n",
    "\n",
    "    def test_positive_numbers(self):\n",
    "        self.assertEqual(add(2, 3), 5)\n",
    "\n",
    "    def test_negative_numbers(self):\n",
    "        self.assertEqual(add(-2, -3), -5)\n",
    "\n",
    "if __name__ == '__main__':\n",
    "    unittest.main()\n",
    "```"
   ]
  },
  {
   "cell_type": "markdown",
   "id": "3efcafac",
   "metadata": {
    "papermill": {
     "duration": 0.024726,
     "end_time": "2023-08-17T05:41:39.214321",
     "exception": false,
     "start_time": "2023-08-17T05:41:39.189595",
     "status": "completed"
    },
    "tags": []
   },
   "source": [
    "### Running Tests\n",
    "#### You can run tests using the unittest test runner:"
   ]
  },
  {
   "cell_type": "markdown",
   "id": "587d5805",
   "metadata": {
    "papermill": {
     "duration": 0.024082,
     "end_time": "2023-08-17T05:41:39.262875",
     "exception": false,
     "start_time": "2023-08-17T05:41:39.238793",
     "status": "completed"
    },
    "tags": []
   },
   "source": [
    "```python\n",
    "python test_module.py\n",
    "```"
   ]
  },
  {
   "cell_type": "markdown",
   "id": "316e6ad7",
   "metadata": {
    "papermill": {
     "duration": 0.024937,
     "end_time": "2023-08-17T05:41:39.311771",
     "exception": false,
     "start_time": "2023-08-17T05:41:39.286834",
     "status": "completed"
    },
    "tags": []
   },
   "source": [
    "## Assertion Methods\n",
    "#### unittest provides various assertion methods like assertEqual, assertRaises, and more to verify expected outcomes.\n",
    "\n",
    "## Test Discovery\n",
    "#### unittest can automatically discover and run test cases in a directory using the unittest test discovery mechanism.\n",
    "\n",
    "## Benefits of Unit Testing\n",
    "#### Unit testing helps identify and fix bugs early in development, ensures code correctness, and supports code refactoring.\n",
    "\n",
    "## Conclusion\n",
    "#### Unit testing using the unittest framework is a fundamental practice for ensuring code reliability and correctness. It helps catch bugs early and builds confidence in the functionality of your code."
   ]
  },
  {
   "cell_type": "markdown",
   "id": "c5c0a962",
   "metadata": {
    "papermill": {
     "duration": 0.022843,
     "end_time": "2023-08-17T05:41:39.358155",
     "exception": false,
     "start_time": "2023-08-17T05:41:39.335312",
     "status": "completed"
    },
    "tags": []
   },
   "source": [
    "<h1 align=\"left\"><font color='red'>52</font></h1>"
   ]
  },
  {
   "cell_type": "markdown",
   "id": "cf650ac8",
   "metadata": {
    "papermill": {
     "duration": 0.023862,
     "end_time": "2023-08-17T05:41:39.407061",
     "exception": false,
     "start_time": "2023-08-17T05:41:39.383199",
     "status": "completed"
    },
    "tags": []
   },
   "source": [
    "# Chapter 52: Debugging Techniques and `pdb`\n",
    "\n",
    "#### In this chapter, we'll explore debugging techniques in Python using the built-in `pdb` (Python Debugger) module to identify and fix issues in your code.\n",
    "\n",
    "## Introduction to Debugging\n",
    "\n",
    "#### Debugging is the process of identifying and fixing errors, also known as bugs, in your code. Effective debugging is crucial for ensuring the reliability and correctness of your programs.\n",
    "\n",
    "## Using `pdb` for Debugging\n",
    "\n",
    "#### 1. Import the `pdb` module.\n",
    "#### 2. Insert the line `pdb.set_trace()` at the point where you want to start debugging.\n",
    "#### 3. Run your script, and it will halt at the `pdb` breakpoint.\n",
    "\n",
    "#### Example (Using `pdb` for Debugging):\n",
    "\n"
   ]
  },
  {
   "cell_type": "markdown",
   "id": "2ca72d98",
   "metadata": {
    "execution": {
     "iopub.execute_input": "2023-08-17T05:22:03.970024Z",
     "iopub.status.busy": "2023-08-17T05:22:03.969562Z",
     "iopub.status.idle": "2023-08-17T05:22:11.973609Z",
     "shell.execute_reply": "2023-08-17T05:22:11.971953Z",
     "shell.execute_reply.started": "2023-08-17T05:22:03.969990Z"
    },
    "papermill": {
     "duration": 0.02401,
     "end_time": "2023-08-17T05:41:39.455304",
     "exception": false,
     "start_time": "2023-08-17T05:41:39.431294",
     "status": "completed"
    },
    "tags": []
   },
   "source": [
    "```python\n",
    "import pdb\n",
    "\n",
    "def divide(a, b):\n",
    "    result = a / b\n",
    "    return result\n",
    "\n",
    "x = 10\n",
    "y = 0\n",
    "\n",
    "pdb.set_trace()  # Start debugging here\n",
    "result = divide(x, y)\n",
    "print(result)\n",
    "```"
   ]
  },
  {
   "cell_type": "markdown",
   "id": "3ec40a8f",
   "metadata": {
    "papermill": {
     "duration": 0.024215,
     "end_time": "2023-08-17T05:41:39.503959",
     "exception": false,
     "start_time": "2023-08-17T05:41:39.479744",
     "status": "completed"
    },
    "tags": []
   },
   "source": [
    "### pdb Commands\n",
    "#### During debugging, you can use various pdb commands to navigate through your code, inspect variables, and control the debugging process.\n",
    "\n",
    "### Stepping Through Code\n",
    "#### `n`: Execute the current line and move to the next line.\n",
    "#### `c`: Continue execution until a breakpoint is encountered.\n",
    "### Inspecting Variables\n",
    "#### `p variable`: Print the value of the specified variable.\n",
    "#### `pp variable`: Pretty-print the value of the specified variable.\n",
    "### Exiting Debugging\n",
    "#### `q`: Quit the debugger and exit.\n",
    "### Benefits of Using pdb\n",
    "#### pdb allows you to track the flow of your code, inspect variables, and understand what is happening at each step of execution.\n",
    "\n",
    "## Conclusion\n",
    "#### Debugging is a crucial skill for any programmer. Using the pdb module in Python, you can effectively identify and fix issues in your code, ensuring that your programs run correctly and produce the desired output."
   ]
  },
  {
   "cell_type": "markdown",
   "id": "030c4b57",
   "metadata": {
    "papermill": {
     "duration": 0.024041,
     "end_time": "2023-08-17T05:41:39.551976",
     "exception": false,
     "start_time": "2023-08-17T05:41:39.527935",
     "status": "completed"
    },
    "tags": []
   },
   "source": [
    "<h1 align=\"left\"><font color='red'>53</font></h1>"
   ]
  },
  {
   "cell_type": "markdown",
   "id": "e9eed687",
   "metadata": {
    "papermill": {
     "duration": 0.024023,
     "end_time": "2023-08-17T05:41:39.600110",
     "exception": false,
     "start_time": "2023-08-17T05:41:39.576087",
     "status": "completed"
    },
    "tags": []
   },
   "source": [
    "# Chapter 53: Profiling and Optimization\n",
    "\n",
    "### In this chapter, we'll explore techniques for profiling and optimizing Python code to enhance its performance and efficiency.\n",
    "\n",
    "## Introduction to Profiling and Optimization\n",
    "\n",
    "#### Profiling involves analyzing the execution time and resource usage of your code to identify bottlenecks and areas for improvement. Optimization focuses on making code run faster and use fewer resources.\n",
    "\n",
    "## Profiling with `cProfile`\n",
    "\n",
    "#### Python's `cProfile` module is used to profile code and measure its execution time.\n",
    "\n",
    "#### Example (Profiling with `cProfile`):\n"
   ]
  },
  {
   "cell_type": "code",
   "execution_count": 20,
   "id": "1741aad2",
   "metadata": {
    "execution": {
     "iopub.execute_input": "2023-08-17T05:41:39.650588Z",
     "iopub.status.busy": "2023-08-17T05:41:39.650259Z",
     "iopub.status.idle": "2023-08-17T05:41:39.655197Z",
     "shell.execute_reply": "2023-08-17T05:41:39.654490Z"
    },
    "papermill": {
     "duration": 0.03338,
     "end_time": "2023-08-17T05:41:39.657686",
     "exception": false,
     "start_time": "2023-08-17T05:41:39.624306",
     "status": "completed"
    },
    "tags": []
   },
   "outputs": [
    {
     "name": "stdout",
     "output_type": "stream",
     "text": [
      "         23 function calls (4 primitive calls) in 0.000 seconds\n",
      "\n",
      "   Ordered by: standard name\n",
      "\n",
      "   ncalls  tottime  percall  cumtime  percall filename:lineno(function)\n",
      "     20/1    0.000    0.000    0.000    0.000 3502990483.py:3(factorial)\n",
      "        1    0.000    0.000    0.000    0.000 <string>:1(<module>)\n",
      "        1    0.000    0.000    0.000    0.000 {built-in method builtins.exec}\n",
      "        1    0.000    0.000    0.000    0.000 {method 'disable' of '_lsprof.Profiler' objects}\n",
      "\n",
      "\n"
     ]
    }
   ],
   "source": [
    "\n",
    "import cProfile\n",
    "\n",
    "def factorial(n):\n",
    "    if n <= 1:\n",
    "        return 1\n",
    "    return n * factorial(n - 1)\n",
    "\n",
    "if __name__ == '__main__':\n",
    "    cProfile.run('factorial(20)')"
   ]
  },
  {
   "cell_type": "markdown",
   "id": "d256e82c",
   "metadata": {
    "papermill": {
     "duration": 0.022943,
     "end_time": "2023-08-17T05:41:39.704582",
     "exception": false,
     "start_time": "2023-08-17T05:41:39.681639",
     "status": "completed"
    },
    "tags": []
   },
   "source": [
    "### Identifying Bottlenecks\n",
    "#### Profiling results help identify which functions or code sections are consuming the most time and resources.\n",
    "\n",
    "### Optimizing with timeit\n",
    "#### Python's timeit module is used to measure the execution time of small code snippets.\n",
    "\n",
    "### Example (Optimizing with timeit):"
   ]
  },
  {
   "cell_type": "code",
   "execution_count": 21,
   "id": "c1d757e6",
   "metadata": {
    "execution": {
     "iopub.execute_input": "2023-08-17T05:41:39.752940Z",
     "iopub.status.busy": "2023-08-17T05:41:39.752520Z",
     "iopub.status.idle": "2023-08-17T05:41:42.853505Z",
     "shell.execute_reply": "2023-08-17T05:41:42.852280Z"
    },
    "papermill": {
     "duration": 3.127252,
     "end_time": "2023-08-17T05:41:42.855356",
     "exception": false,
     "start_time": "2023-08-17T05:41:39.728104",
     "status": "completed"
    },
    "tags": []
   },
   "outputs": [
    {
     "name": "stdout",
     "output_type": "stream",
     "text": [
      "Recursive: 3.089437330999999\n",
      "Iterative: 0.003675870999984454\n"
     ]
    }
   ],
   "source": [
    "import timeit\n",
    "\n",
    "def fibonacci_recursive(n):\n",
    "    if n <= 1:\n",
    "        return n\n",
    "    return fibonacci_recursive(n - 1) + fibonacci_recursive(n - 2)\n",
    "\n",
    "def fibonacci_iterative(n):\n",
    "    fib = [0, 1]\n",
    "    for i in range(2, n + 1):\n",
    "        fib.append(fib[i - 1] + fib[i - 2])\n",
    "    return fib[n]\n",
    "\n",
    "if __name__ == '__main__':\n",
    "    print(\"Recursive:\", timeit.timeit('fibonacci_recursive(20)', globals=globals(), number=1000))\n",
    "    print(\"Iterative:\", timeit.timeit('fibonacci_iterative(20)', globals=globals(), number=1000))\n"
   ]
  },
  {
   "cell_type": "markdown",
   "id": "0aacb69b",
   "metadata": {
    "papermill": {
     "duration": 0.023155,
     "end_time": "2023-08-17T05:41:42.902624",
     "exception": false,
     "start_time": "2023-08-17T05:41:42.879469",
     "status": "completed"
    },
    "tags": []
   },
   "source": [
    "### Optimizing Techniques\n",
    "#### Algorithmic Optimization: Choose efficient algorithms and data structures.\n",
    "#### Code Optimization: Eliminate redundant calculations and loops.\n",
    "#### Vectorization: Utilize NumPy or other libraries for efficient array operations.\n",
    "### Benefits of Profiling and Optimization\n",
    "#### Profiling and optimization help improve code performance, reduce execution time, and enhance the overall user experience.\n",
    "\n",
    "### Conclusion\n",
    "#### Profiling and optimizing Python code are essential steps to ensure that your programs run efficiently and respond quickly. By identifying bottlenecks and implementing optimization techniques, you can significantly enhance the performance of your code."
   ]
  },
  {
   "cell_type": "markdown",
   "id": "da7f4edf",
   "metadata": {
    "papermill": {
     "duration": 0.023016,
     "end_time": "2023-08-17T05:41:42.949013",
     "exception": false,
     "start_time": "2023-08-17T05:41:42.925997",
     "status": "completed"
    },
    "tags": []
   },
   "source": [
    "<h1 align=\"left\"><font color='red'>54</font></h1>"
   ]
  },
  {
   "cell_type": "markdown",
   "id": "4ceda774",
   "metadata": {
    "papermill": {
     "duration": 0.023042,
     "end_time": "2023-08-17T05:41:42.995071",
     "exception": false,
     "start_time": "2023-08-17T05:41:42.972029",
     "status": "completed"
    },
    "tags": []
   },
   "source": [
    "# Chapter 54: Python's Global Scope and Namespaces\n",
    "\n",
    "#### In this chapter, we'll delve into Python's global scope, namespaces, and how variables are scoped and accessed within different parts of your code.\n",
    "\n",
    "## Introduction to Namespaces and Scope\n",
    "\n",
    "#### A namespace is a container that holds a set of identifiers (variables, functions, classes, etc.) and provides a way to distinguish between identifiers with the same name. Python has different levels of namespaces, and understanding them is crucial for writing clean and organized code.\n",
    "\n",
    "## Global Scope in Python\n",
    "\n",
    "#### The global scope is the top-level namespace that includes names defined at the top level of a Python module or script. Names defined in the global scope are accessible throughout the module.\n",
    "\n",
    "#### Example (Global Scope):\n",
    "\n"
   ]
  },
  {
   "cell_type": "code",
   "execution_count": 22,
   "id": "8156b8fc",
   "metadata": {
    "execution": {
     "iopub.execute_input": "2023-08-17T05:41:43.042970Z",
     "iopub.status.busy": "2023-08-17T05:41:43.042667Z",
     "iopub.status.idle": "2023-08-17T05:41:43.047870Z",
     "shell.execute_reply": "2023-08-17T05:41:43.046684Z"
    },
    "papermill": {
     "duration": 0.031183,
     "end_time": "2023-08-17T05:41:43.049418",
     "exception": false,
     "start_time": "2023-08-17T05:41:43.018235",
     "status": "completed"
    },
    "tags": []
   },
   "outputs": [
    {
     "name": "stdout",
     "output_type": "stream",
     "text": [
      "10\n"
     ]
    }
   ],
   "source": [
    "\n",
    "global_var = 10\n",
    "\n",
    "def print_global():\n",
    "    print(global_var)\n",
    "\n",
    "print_global()"
   ]
  },
  {
   "cell_type": "markdown",
   "id": "8c4f6c35",
   "metadata": {
    "papermill": {
     "duration": 0.023251,
     "end_time": "2023-08-17T05:41:43.096972",
     "exception": false,
     "start_time": "2023-08-17T05:41:43.073721",
     "status": "completed"
    },
    "tags": []
   },
   "source": [
    "## Local Scope and Variable Shadowing\n",
    "#### Local scope is the namespace inside a function. Variables defined in a function have local scope and are not accessible outside of the function. If a variable is defined in both global and local scopes, the local variable \"shadows\" the global variable within that scope.\n",
    "\n",
    "### Example (Local Scope and Shadowing):"
   ]
  },
  {
   "cell_type": "code",
   "execution_count": 23,
   "id": "b9368f5e",
   "metadata": {
    "execution": {
     "iopub.execute_input": "2023-08-17T05:41:43.146087Z",
     "iopub.status.busy": "2023-08-17T05:41:43.145289Z",
     "iopub.status.idle": "2023-08-17T05:41:43.150707Z",
     "shell.execute_reply": "2023-08-17T05:41:43.149593Z"
    },
    "papermill": {
     "duration": 0.031978,
     "end_time": "2023-08-17T05:41:43.152248",
     "exception": false,
     "start_time": "2023-08-17T05:41:43.120270",
     "status": "completed"
    },
    "tags": []
   },
   "outputs": [
    {
     "name": "stdout",
     "output_type": "stream",
     "text": [
      "20\n"
     ]
    }
   ],
   "source": [
    "def local_scope_example():\n",
    "    local_var = 20\n",
    "    print(local_var)\n",
    "\n",
    "local_scope_example()\n"
   ]
  },
  {
   "cell_type": "markdown",
   "id": "c3209d44",
   "metadata": {
    "papermill": {
     "duration": 0.02482,
     "end_time": "2023-08-17T05:41:43.202535",
     "exception": false,
     "start_time": "2023-08-17T05:41:43.177715",
     "status": "completed"
    },
    "tags": []
   },
   "source": [
    "### Nested Functions and Closures\n",
    "#### In Python, functions can be nested within other functions. Each nested function has its own local scope, and it can access variables from its own scope, as well as from the enclosing function's scope (closure).\n",
    "\n",
    "### Example (Nested Functions and Closures):"
   ]
  },
  {
   "cell_type": "code",
   "execution_count": 24,
   "id": "eec7c136",
   "metadata": {
    "execution": {
     "iopub.execute_input": "2023-08-17T05:41:43.254846Z",
     "iopub.status.busy": "2023-08-17T05:41:43.253851Z",
     "iopub.status.idle": "2023-08-17T05:41:43.260228Z",
     "shell.execute_reply": "2023-08-17T05:41:43.258847Z"
    },
    "papermill": {
     "duration": 0.03547,
     "end_time": "2023-08-17T05:41:43.262664",
     "exception": false,
     "start_time": "2023-08-17T05:41:43.227194",
     "status": "completed"
    },
    "tags": []
   },
   "outputs": [
    {
     "name": "stdout",
     "output_type": "stream",
     "text": [
      "I'm from inner function\n",
      "I'm from outer function\n"
     ]
    }
   ],
   "source": [
    "def outer_function():\n",
    "    outer_var = \"I'm from outer function\"\n",
    "\n",
    "    def inner_function():\n",
    "        inner_var = \"I'm from inner function\"\n",
    "        print(inner_var)\n",
    "        print(outer_var)\n",
    "\n",
    "    inner_function()\n",
    "\n",
    "outer_function()\n"
   ]
  },
  {
   "cell_type": "markdown",
   "id": "7ae87f94",
   "metadata": {
    "papermill": {
     "duration": 0.02473,
     "end_time": "2023-08-17T05:41:43.312545",
     "exception": false,
     "start_time": "2023-08-17T05:41:43.287815",
     "status": "completed"
    },
    "tags": []
   },
   "source": [
    "### Built-in Scope\n",
    "#### Python also has a built-in scope that contains names like built-in functions (print, len, etc.) and exception names (ValueError, TypeError, etc.). These names are available without needing to import any module.\n",
    "\n",
    "### Benefits of Understanding Scope and Namespaces\n",
    "#### Understanding scope and namespaces helps prevent naming conflicts, allows for modular and organized code, and improves code maintainability.\n",
    "\n",
    "### Conclusion\n",
    "#### Understanding Python's global scope, local scope, and namespaces is crucial for writing clean, modular, and organized code. By managing scope effectively, you can avoid naming conflicts and create more reliable and maintainable programs."
   ]
  },
  {
   "cell_type": "markdown",
   "id": "4949d807",
   "metadata": {
    "papermill": {
     "duration": 0.024449,
     "end_time": "2023-08-17T05:41:43.361510",
     "exception": false,
     "start_time": "2023-08-17T05:41:43.337061",
     "status": "completed"
    },
    "tags": []
   },
   "source": [
    "<h1 align=\"left\"><font color='red'>55</font></h1>"
   ]
  },
  {
   "cell_type": "markdown",
   "id": "50af1aea",
   "metadata": {
    "papermill": {
     "duration": 0.024094,
     "end_time": "2023-08-17T05:41:43.410562",
     "exception": false,
     "start_time": "2023-08-17T05:41:43.386468",
     "status": "completed"
    },
    "tags": []
   },
   "source": [
    "# Chapter 55: Function Closures\n",
    "\n",
    "#### In this chapter, we'll explore the concept of function closures in Python, which allow functions to remember and access variables from their containing (enclosing) scope even after that scope has finished executing.\n",
    "\n",
    "## Introduction to Function Closures\n",
    "\n",
    "#### A closure is a function that \"closes over\" variables from its containing scope, allowing it to retain access to those variables even when the containing scope is no longer active.\n",
    "\n",
    "## Creating a Closure\n",
    "\n",
    "#### Closures are created when a nested function references variables from its containing function. The inner function can access and manipulate these variables, even after the outer function has completed execution.\n",
    "\n",
    "#### Example (Creating a Closure):\n",
    "\n"
   ]
  },
  {
   "cell_type": "code",
   "execution_count": 25,
   "id": "819385d1",
   "metadata": {
    "execution": {
     "iopub.execute_input": "2023-08-17T05:41:43.461377Z",
     "iopub.status.busy": "2023-08-17T05:41:43.461058Z",
     "iopub.status.idle": "2023-08-17T05:41:43.466487Z",
     "shell.execute_reply": "2023-08-17T05:41:43.465296Z"
    },
    "papermill": {
     "duration": 0.033386,
     "end_time": "2023-08-17T05:41:43.468250",
     "exception": false,
     "start_time": "2023-08-17T05:41:43.434864",
     "status": "completed"
    },
    "tags": []
   },
   "outputs": [
    {
     "name": "stdout",
     "output_type": "stream",
     "text": [
      "15\n"
     ]
    }
   ],
   "source": [
    "def outer_function(x):\n",
    "    def inner_function(y):\n",
    "        return x + y\n",
    "    return inner_function\n",
    "\n",
    "closure = outer_function(10)\n",
    "result = closure(5)\n",
    "print(result)  # Output: 15"
   ]
  },
  {
   "cell_type": "markdown",
   "id": "ba76d5ce",
   "metadata": {
    "papermill": {
     "duration": 0.025459,
     "end_time": "2023-08-17T05:41:43.518258",
     "exception": false,
     "start_time": "2023-08-17T05:41:43.492799",
     "status": "completed"
    },
    "tags": []
   },
   "source": [
    "### Benefits of Closures\n",
    "#### Closures provide a way to encapsulate data within a function, making it accessible only through that function's interface. They are commonly used for creating decorators, callbacks, and other advanced programming patterns.\n",
    "\n",
    "### Practical Use Cases\n",
    "#### 1. Creating Decorators\n",
    "#### Closures can be used to create decorators, which are functions that modify the behavior of other functions.\n",
    "\n",
    "### Example (Creating a Decorator with a Closure):"
   ]
  },
  {
   "cell_type": "code",
   "execution_count": 26,
   "id": "bfdc3858",
   "metadata": {
    "execution": {
     "iopub.execute_input": "2023-08-17T05:41:43.568042Z",
     "iopub.status.busy": "2023-08-17T05:41:43.567700Z",
     "iopub.status.idle": "2023-08-17T05:41:45.576028Z",
     "shell.execute_reply": "2023-08-17T05:41:45.574802Z"
    },
    "papermill": {
     "duration": 2.036443,
     "end_time": "2023-08-17T05:41:45.578830",
     "exception": false,
     "start_time": "2023-08-17T05:41:43.542387",
     "status": "completed"
    },
    "tags": []
   },
   "outputs": [
    {
     "name": "stdout",
     "output_type": "stream",
     "text": [
      "Function slow_function took 2.0021235942840576 seconds.\n"
     ]
    }
   ],
   "source": [
    "def timer_decorator(func):\n",
    "    import time\n",
    "\n",
    "    def wrapper(*args, **kwargs):\n",
    "        start_time = time.time()\n",
    "        result = func(*args, **kwargs)\n",
    "        end_time = time.time()\n",
    "        print(f\"Function {func.__name__} took {end_time - start_time} seconds.\")\n",
    "        return result\n",
    "\n",
    "    return wrapper\n",
    "\n",
    "@timer_decorator\n",
    "def slow_function():\n",
    "    import time\n",
    "    time.sleep(2)\n",
    "\n",
    "slow_function()\n"
   ]
  },
  {
   "cell_type": "markdown",
   "id": "f45c8dad",
   "metadata": {
    "papermill": {
     "duration": 0.024237,
     "end_time": "2023-08-17T05:41:45.628332",
     "exception": false,
     "start_time": "2023-08-17T05:41:45.604095",
     "status": "completed"
    },
    "tags": []
   },
   "source": [
    "## 2. Creating Factory Functions\n",
    "#### Closures can also be used to create factory functions, which generate specialized functions with preset parameters.\n",
    "\n",
    "### Example (Creating a Factory Function with a Closure):"
   ]
  },
  {
   "cell_type": "code",
   "execution_count": 27,
   "id": "a1a1c068",
   "metadata": {
    "execution": {
     "iopub.execute_input": "2023-08-17T05:41:45.677719Z",
     "iopub.status.busy": "2023-08-17T05:41:45.677361Z",
     "iopub.status.idle": "2023-08-17T05:41:45.683959Z",
     "shell.execute_reply": "2023-08-17T05:41:45.682380Z"
    },
    "papermill": {
     "duration": 0.033874,
     "end_time": "2023-08-17T05:41:45.686362",
     "exception": false,
     "start_time": "2023-08-17T05:41:45.652488",
     "status": "completed"
    },
    "tags": []
   },
   "outputs": [
    {
     "name": "stdout",
     "output_type": "stream",
     "text": [
      "16\n",
      "27\n"
     ]
    }
   ],
   "source": [
    "def exponent_factory(power):\n",
    "    def exponent(x):\n",
    "        return x ** power\n",
    "    return exponent\n",
    "\n",
    "square = exponent_factory(2)\n",
    "cube = exponent_factory(3)\n",
    "\n",
    "print(square(4))  # Output: 16\n",
    "print(cube(3))    # Output: 27\n"
   ]
  },
  {
   "cell_type": "markdown",
   "id": "158a5c36",
   "metadata": {
    "papermill": {
     "duration": 0.023485,
     "end_time": "2023-08-17T05:41:45.734811",
     "exception": false,
     "start_time": "2023-08-17T05:41:45.711326",
     "status": "completed"
    },
    "tags": []
   },
   "source": [
    "### Conclusion\n",
    "#### Function closures are a powerful concept in Python that enable functions to retain access to variables from their containing scope. Closures provide a way to create more flexible and reusable code, allowing for advanced programming patterns such as decorators and factory functions."
   ]
  },
  {
   "cell_type": "markdown",
   "id": "b460f8e2",
   "metadata": {
    "papermill": {
     "duration": 0.023854,
     "end_time": "2023-08-17T05:41:45.782533",
     "exception": false,
     "start_time": "2023-08-17T05:41:45.758679",
     "status": "completed"
    },
    "tags": []
   },
   "source": [
    "<h1 align=\"left\"><font color='red'>56</font></h1>"
   ]
  },
  {
   "cell_type": "markdown",
   "id": "65e75a76",
   "metadata": {
    "papermill": {
     "duration": 0.02399,
     "end_time": "2023-08-17T05:41:45.830459",
     "exception": false,
     "start_time": "2023-08-17T05:41:45.806469",
     "status": "completed"
    },
    "tags": []
   },
   "source": [
    "# Chapter 56: Introduction to Decorators\n",
    "\n",
    "#### In this chapter, we'll introduce the concept of decorators in Python, which allow you to modify or enhance the behavior of functions and methods without changing their source code.\n",
    "\n",
    "## Introduction to Decorators\n",
    "\n",
    "#### A decorator is a special type of function that wraps another function or method, adding or modifying its behavior. Decorators are used to apply common functionality to multiple functions or to enhance the behavior of a single function.\n",
    "\n",
    "## Creating a Simple Decorator\n",
    "\n",
    "#### To create a decorator, define a wrapper function that takes the original function as an argument, performs some action, and returns the modified function.\n",
    "\n",
    "#### Example (Creating a Simple Decorator):\n",
    "\n"
   ]
  },
  {
   "cell_type": "code",
   "execution_count": 28,
   "id": "01812348",
   "metadata": {
    "execution": {
     "iopub.execute_input": "2023-08-17T05:41:45.880375Z",
     "iopub.status.busy": "2023-08-17T05:41:45.879914Z",
     "iopub.status.idle": "2023-08-17T05:41:45.886352Z",
     "shell.execute_reply": "2023-08-17T05:41:45.884924Z"
    },
    "papermill": {
     "duration": 0.03436,
     "end_time": "2023-08-17T05:41:45.888307",
     "exception": false,
     "start_time": "2023-08-17T05:41:45.853947",
     "status": "completed"
    },
    "tags": []
   },
   "outputs": [
    {
     "name": "stdout",
     "output_type": "stream",
     "text": [
      "Something is happening before the function is called.\n",
      "Hello!\n",
      "Something is happening after the function is called.\n"
     ]
    }
   ],
   "source": [
    "\n",
    "def my_decorator(func):\n",
    "    def wrapper():\n",
    "        print(\"Something is happening before the function is called.\")\n",
    "        func()\n",
    "        print(\"Something is happening after the function is called.\")\n",
    "    return wrapper\n",
    "\n",
    "@my_decorator\n",
    "def say_hello():\n",
    "    print(\"Hello!\")\n",
    "\n",
    "say_hello()"
   ]
  },
  {
   "cell_type": "markdown",
   "id": "ae01a3e5",
   "metadata": {
    "papermill": {
     "duration": 0.024222,
     "end_time": "2023-08-17T05:41:45.937309",
     "exception": false,
     "start_time": "2023-08-17T05:41:45.913087",
     "status": "completed"
    },
    "tags": []
   },
   "source": [
    "## Applying Multiple Decorators\n",
    "#### You can apply multiple decorators to a single function. The order of decorator application matters, as they are executed from the innermost to the outermost decorator.\n",
    "\n",
    "### Example (Applying Multiple Decorators):"
   ]
  },
  {
   "cell_type": "code",
   "execution_count": 29,
   "id": "ceef40c1",
   "metadata": {
    "execution": {
     "iopub.execute_input": "2023-08-17T05:41:45.988190Z",
     "iopub.status.busy": "2023-08-17T05:41:45.987842Z",
     "iopub.status.idle": "2023-08-17T05:41:45.994643Z",
     "shell.execute_reply": "2023-08-17T05:41:45.993280Z"
    },
    "papermill": {
     "duration": 0.034152,
     "end_time": "2023-08-17T05:41:45.996312",
     "exception": false,
     "start_time": "2023-08-17T05:41:45.962160",
     "status": "completed"
    },
    "tags": []
   },
   "outputs": [
    {
     "name": "stdout",
     "output_type": "stream",
     "text": [
      "HELLO!\n"
     ]
    }
   ],
   "source": [
    "def uppercase_decorator(func):\n",
    "    def wrapper():\n",
    "        result = func()\n",
    "        return result.upper()\n",
    "    return wrapper\n",
    "\n",
    "def exclamation_decorator(func):\n",
    "    def wrapper():\n",
    "        result = func()\n",
    "        return result + \"!\"\n",
    "    return wrapper\n",
    "\n",
    "@exclamation_decorator\n",
    "@uppercase_decorator\n",
    "def greet():\n",
    "    return \"hello\"\n",
    "\n",
    "print(greet())  # Output: HELLO!\n"
   ]
  },
  {
   "cell_type": "markdown",
   "id": "ab7a613d",
   "metadata": {
    "papermill": {
     "duration": 0.023933,
     "end_time": "2023-08-17T05:41:46.048453",
     "exception": false,
     "start_time": "2023-08-17T05:41:46.024520",
     "status": "completed"
    },
    "tags": []
   },
   "source": [
    "### Real-World Use Cases for Decorators\n",
    "#### Decorators are commonly used for:\n",
    "\n",
    "#### Logging and debugging.\n",
    "#### Timing function execution.\n",
    "#### Caching results.\n",
    "#### Adding security checks.\n",
    "#### Applying authentication and authorization.\n",
    "#### Built-in Python Decorators\n",
    "#### Python provides several built-in decorators, such as @staticmethod, @classmethod, and @property, which add specific behaviors to class methods and attributes.\n",
    "\n",
    "### Conclusion\n",
    "#### Decorators are a powerful and flexible feature in Python that allow you to modify and enhance the behavior of functions and methods. They provide a clean and elegant way to apply common functionality to multiple functions, improving code organization and reusability."
   ]
  },
  {
   "cell_type": "markdown",
   "id": "3273a828",
   "metadata": {
    "papermill": {
     "duration": 0.023474,
     "end_time": "2023-08-17T05:41:46.095909",
     "exception": false,
     "start_time": "2023-08-17T05:41:46.072435",
     "status": "completed"
    },
    "tags": []
   },
   "source": [
    "<h1 align=\"left\"><font color='red'>57</font></h1>"
   ]
  },
  {
   "cell_type": "markdown",
   "id": "62a050c8",
   "metadata": {
    "papermill": {
     "duration": 0.026097,
     "end_time": "2023-08-17T05:41:46.145911",
     "exception": false,
     "start_time": "2023-08-17T05:41:46.119814",
     "status": "completed"
    },
    "tags": []
   },
   "source": [
    "# Chapter 57: Implementing Decorators\n",
    "\n",
    "#### In this chapter, we'll dive deeper into implementing and using decorators in Python, exploring various scenarios and patterns for applying decorators to functions and methods.\n",
    "\n",
    "## Implementing Decorators\n",
    "\n",
    "#### Implementing a decorator involves defining a wrapper function that takes the original function as an argument, performs some action, and returns the modified function. Decorators can be used to modify the behavior of existing functions or to enhance the behavior of new functions.\n",
    "\n",
    "## Modifying Function Behavior\n",
    "\n",
    "#### Decorators can modify the behavior of functions by intercepting their inputs and outputs, and performing additional actions before or after the function's execution.\n",
    "\n",
    "#### Example (Modifying Function Behavior):\n",
    "\n"
   ]
  },
  {
   "cell_type": "code",
   "execution_count": 30,
   "id": "6195edf6",
   "metadata": {
    "execution": {
     "iopub.execute_input": "2023-08-17T05:41:46.199208Z",
     "iopub.status.busy": "2023-08-17T05:41:46.198878Z",
     "iopub.status.idle": "2023-08-17T05:41:46.205115Z",
     "shell.execute_reply": "2023-08-17T05:41:46.204020Z"
    },
    "papermill": {
     "duration": 0.035747,
     "end_time": "2023-08-17T05:41:46.207694",
     "exception": false,
     "start_time": "2023-08-17T05:41:46.171947",
     "status": "completed"
    },
    "tags": []
   },
   "outputs": [
    {
     "name": "stdout",
     "output_type": "stream",
     "text": [
      "HELLO, ALICE!\n"
     ]
    }
   ],
   "source": [
    "def uppercase_decorator(func):\n",
    "    def wrapper(text):\n",
    "        result = func(text)\n",
    "        return result.upper()\n",
    "    return wrapper\n",
    "\n",
    "@uppercase_decorator\n",
    "def greet(name):\n",
    "    return f\"Hello, {name}!\"\n",
    "\n",
    "print(greet(\"Alice\"))  # Output: HELLO, ALICE!"
   ]
  },
  {
   "cell_type": "markdown",
   "id": "5e83987f",
   "metadata": {
    "papermill": {
     "duration": 0.025896,
     "end_time": "2023-08-17T05:41:46.258893",
     "exception": false,
     "start_time": "2023-08-17T05:41:46.232997",
     "status": "completed"
    },
    "tags": []
   },
   "source": [
    "### Decorators with Arguments\n",
    "#### Decorators can accept arguments, allowing you to customize their behavior based on the provided arguments.\n",
    "\n",
    "### Example (Decorators with Arguments):"
   ]
  },
  {
   "cell_type": "code",
   "execution_count": 31,
   "id": "9afdf909",
   "metadata": {
    "execution": {
     "iopub.execute_input": "2023-08-17T05:41:46.310060Z",
     "iopub.status.busy": "2023-08-17T05:41:46.309634Z",
     "iopub.status.idle": "2023-08-17T05:41:46.316857Z",
     "shell.execute_reply": "2023-08-17T05:41:46.315688Z"
    },
    "papermill": {
     "duration": 0.034729,
     "end_time": "2023-08-17T05:41:46.318837",
     "exception": false,
     "start_time": "2023-08-17T05:41:46.284108",
     "status": "completed"
    },
    "tags": []
   },
   "outputs": [
    {
     "name": "stdout",
     "output_type": "stream",
     "text": [
      "Hello, Hello, Hello, \n"
     ]
    }
   ],
   "source": [
    "def repeat_decorator(times):\n",
    "    def decorator(func):\n",
    "        def wrapper(*args, **kwargs):\n",
    "            result = func(*args, **kwargs)\n",
    "            return result * times\n",
    "        return wrapper\n",
    "    return decorator\n",
    "\n",
    "@repeat_decorator(times=3)\n",
    "def echo(text):\n",
    "    return text\n",
    "\n",
    "print(echo(\"Hello, \"))  # Output: Hello, Hello, Hello,\n"
   ]
  },
  {
   "cell_type": "markdown",
   "id": "e0d7692b",
   "metadata": {
    "papermill": {
     "duration": 0.032744,
     "end_time": "2023-08-17T05:41:46.383333",
     "exception": false,
     "start_time": "2023-08-17T05:41:46.350589",
     "status": "completed"
    },
    "tags": []
   },
   "source": [
    "## Class-based Decorators\n",
    "#### Decorators can also be implemented as classes by defining __call__ methods that perform the decoration.\n",
    "\n",
    "### Example (Class-based Decorator):"
   ]
  },
  {
   "cell_type": "code",
   "execution_count": 32,
   "id": "b1f7ff51",
   "metadata": {
    "execution": {
     "iopub.execute_input": "2023-08-17T05:41:46.434356Z",
     "iopub.status.busy": "2023-08-17T05:41:46.433985Z",
     "iopub.status.idle": "2023-08-17T05:41:46.441099Z",
     "shell.execute_reply": "2023-08-17T05:41:46.439284Z"
    },
    "papermill": {
     "duration": 0.035008,
     "end_time": "2023-08-17T05:41:46.443117",
     "exception": false,
     "start_time": "2023-08-17T05:41:46.408109",
     "status": "completed"
    },
    "tags": []
   },
   "outputs": [
    {
     "name": "stdout",
     "output_type": "stream",
     "text": [
      "*** Important\n"
     ]
    }
   ],
   "source": [
    "class PrefixDecorator:\n",
    "    def __init__(self, prefix):\n",
    "        self.prefix = prefix\n",
    "\n",
    "    def __call__(self, func):\n",
    "        def wrapper(text):\n",
    "            result = func(text)\n",
    "            return self.prefix + result\n",
    "        return wrapper\n",
    "\n",
    "@PrefixDecorator(prefix=\"*** \")\n",
    "def emphasize(text):\n",
    "    return text\n",
    "\n",
    "print(emphasize(\"Important\"))  # Output: *** Important\n"
   ]
  },
  {
   "cell_type": "markdown",
   "id": "161d7f63",
   "metadata": {
    "papermill": {
     "duration": 0.025641,
     "end_time": "2023-08-17T05:41:46.494131",
     "exception": false,
     "start_time": "2023-08-17T05:41:46.468490",
     "status": "completed"
    },
    "tags": []
   },
   "source": [
    "## Chaining Decorators\n",
    "#### You can chain multiple decorators on a single function, applying a sequence of modifications.\n",
    "\n",
    "### Example (Chaining Decorators):"
   ]
  },
  {
   "cell_type": "code",
   "execution_count": 33,
   "id": "6362f070",
   "metadata": {
    "execution": {
     "iopub.execute_input": "2023-08-17T05:41:46.543917Z",
     "iopub.status.busy": "2023-08-17T05:41:46.543615Z",
     "iopub.status.idle": "2023-08-17T05:41:46.548278Z",
     "shell.execute_reply": "2023-08-17T05:41:46.547458Z"
    },
    "papermill": {
     "duration": 0.03159,
     "end_time": "2023-08-17T05:41:46.550165",
     "exception": false,
     "start_time": "2023-08-17T05:41:46.518575",
     "status": "completed"
    },
    "tags": []
   },
   "outputs": [
    {
     "name": "stdout",
     "output_type": "stream",
     "text": [
      "HELLOHELLO\n"
     ]
    }
   ],
   "source": [
    "@uppercase_decorator\n",
    "@repeat_decorator(times=2)\n",
    "def shout(text):\n",
    "    return text\n",
    "\n",
    "print(shout(\"hello\"))  # Output: HELLOHELLO\n"
   ]
  },
  {
   "cell_type": "markdown",
   "id": "c3e58692",
   "metadata": {
    "papermill": {
     "duration": 0.024009,
     "end_time": "2023-08-17T05:41:46.600171",
     "exception": false,
     "start_time": "2023-08-17T05:41:46.576162",
     "status": "completed"
    },
    "tags": []
   },
   "source": [
    "### Conclusion\n",
    "#### Implementing decorators in Python provides a versatile way to modify or enhance the behavior of functions and methods. By intercepting inputs and outputs, decorators enable you to encapsulate common functionality and apply it to multiple functions, leading to cleaner and more organized code."
   ]
  },
  {
   "cell_type": "markdown",
   "id": "3dde95bd",
   "metadata": {
    "papermill": {
     "duration": 0.025755,
     "end_time": "2023-08-17T05:41:46.650535",
     "exception": false,
     "start_time": "2023-08-17T05:41:46.624780",
     "status": "completed"
    },
    "tags": []
   },
   "source": [
    "<h1 align=\"left\"><font color='red'>58</font></h1>"
   ]
  },
  {
   "cell_type": "markdown",
   "id": "d3fcaea7",
   "metadata": {
    "papermill": {
     "duration": 0.026004,
     "end_time": "2023-08-17T05:41:46.702906",
     "exception": false,
     "start_time": "2023-08-17T05:41:46.676902",
     "status": "completed"
    },
    "tags": []
   },
   "source": [
    "# Chapter 58: Using Decorators for Logging and Timing\n",
    "\n",
    "#### In this chapter, we'll explore practical use cases of decorators for logging and timing in Python. Decorators can help automate logging messages and measure the execution time of functions.\n",
    "\n",
    "## Logging with Decorators\n",
    "\n",
    "#### Decorators can be used to automatically log information about function calls, inputs, and outputs, providing insights into the behavior of your code.\n",
    "\n",
    "## Example (Logging with Decorators):\n"
   ]
  },
  {
   "cell_type": "code",
   "execution_count": 34,
   "id": "209e0a5c",
   "metadata": {
    "execution": {
     "iopub.execute_input": "2023-08-17T05:41:46.756883Z",
     "iopub.status.busy": "2023-08-17T05:41:46.756543Z",
     "iopub.status.idle": "2023-08-17T05:41:46.763800Z",
     "shell.execute_reply": "2023-08-17T05:41:46.762387Z"
    },
    "papermill": {
     "duration": 0.036725,
     "end_time": "2023-08-17T05:41:46.765516",
     "exception": false,
     "start_time": "2023-08-17T05:41:46.728791",
     "status": "completed"
    },
    "tags": []
   },
   "outputs": [
    {
     "name": "stdout",
     "output_type": "stream",
     "text": [
      "Calling add with arguments: (3, 5), {}\n",
      "add returned: 8\n"
     ]
    }
   ],
   "source": [
    "\n",
    "def log_decorator(func):\n",
    "    def wrapper(*args, **kwargs):\n",
    "        print(f\"Calling {func.__name__} with arguments: {args}, {kwargs}\")\n",
    "        result = func(*args, **kwargs)\n",
    "        print(f\"{func.__name__} returned: {result}\")\n",
    "        return result\n",
    "    return wrapper\n",
    "\n",
    "@log_decorator\n",
    "def add(a, b):\n",
    "    return a + b\n",
    "\n",
    "result = add(3, 5)  # Output will include logging messages"
   ]
  },
  {
   "cell_type": "markdown",
   "id": "de1a3e89",
   "metadata": {
    "papermill": {
     "duration": 0.025334,
     "end_time": "2023-08-17T05:41:46.817030",
     "exception": false,
     "start_time": "2023-08-17T05:41:46.791696",
     "status": "completed"
    },
    "tags": []
   },
   "source": [
    "### Timing Function Execution\n",
    "#### Decorators can also measure the execution time of functions, helping you identify bottlenecks and optimize code performance.\n",
    "\n",
    "### Example (Timing Function Execution with Decorators):"
   ]
  },
  {
   "cell_type": "code",
   "execution_count": 35,
   "id": "7cc69a0b",
   "metadata": {
    "execution": {
     "iopub.execute_input": "2023-08-17T05:41:46.869798Z",
     "iopub.status.busy": "2023-08-17T05:41:46.869014Z",
     "iopub.status.idle": "2023-08-17T05:41:48.878388Z",
     "shell.execute_reply": "2023-08-17T05:41:48.877190Z"
    },
    "papermill": {
     "duration": 2.037531,
     "end_time": "2023-08-17T05:41:48.880492",
     "exception": false,
     "start_time": "2023-08-17T05:41:46.842961",
     "status": "completed"
    },
    "tags": []
   },
   "outputs": [
    {
     "name": "stdout",
     "output_type": "stream",
     "text": [
      "slow_function took 2.002109 seconds to execute.\n"
     ]
    }
   ],
   "source": [
    "import time\n",
    "\n",
    "def timeit_decorator(func):\n",
    "    def wrapper(*args, **kwargs):\n",
    "        start_time = time.time()\n",
    "        result = func(*args, **kwargs)\n",
    "        end_time = time.time()\n",
    "        print(f\"{func.__name__} took {end_time - start_time:.6f} seconds to execute.\")\n",
    "        return result\n",
    "    return wrapper\n",
    "\n",
    "@timeit_decorator\n",
    "def slow_function():\n",
    "    time.sleep(2)\n",
    "\n",
    "slow_function()  # Output will include timing information\n"
   ]
  },
  {
   "cell_type": "markdown",
   "id": "b6e4f0a1",
   "metadata": {
    "papermill": {
     "duration": 0.024112,
     "end_time": "2023-08-17T05:41:48.929497",
     "exception": false,
     "start_time": "2023-08-17T05:41:48.905385",
     "status": "completed"
    },
    "tags": []
   },
   "source": [
    "## Combining Logging and Timing\n",
    "#### You can combine logging and timing decorators to gain insights into function behavior and execution time simultaneously.\n",
    "\n",
    "### Example (Combining Logging and Timing Decorators):"
   ]
  },
  {
   "cell_type": "code",
   "execution_count": 36,
   "id": "429b0632",
   "metadata": {
    "execution": {
     "iopub.execute_input": "2023-08-17T05:41:48.982531Z",
     "iopub.status.busy": "2023-08-17T05:41:48.982178Z",
     "iopub.status.idle": "2023-08-17T05:41:48.988287Z",
     "shell.execute_reply": "2023-08-17T05:41:48.986467Z"
    },
    "papermill": {
     "duration": 0.034239,
     "end_time": "2023-08-17T05:41:48.990232",
     "exception": false,
     "start_time": "2023-08-17T05:41:48.955993",
     "status": "completed"
    },
    "tags": []
   },
   "outputs": [
    {
     "name": "stdout",
     "output_type": "stream",
     "text": [
      "Calling wrapper with arguments: (2, 5), {}\n",
      "complex_calculation took 0.000002 seconds to execute.\n",
      "wrapper returned: 1.28\n"
     ]
    }
   ],
   "source": [
    "@log_decorator\n",
    "@timeit_decorator\n",
    "def complex_calculation(x, y):\n",
    "    result = (x ** y) / (y ** x)\n",
    "    return result\n",
    "\n",
    "result = complex_calculation(2, 5)  # Output will include logging and timing information\n"
   ]
  },
  {
   "cell_type": "markdown",
   "id": "37ec5741",
   "metadata": {
    "papermill": {
     "duration": 0.025641,
     "end_time": "2023-08-17T05:41:49.041961",
     "exception": false,
     "start_time": "2023-08-17T05:41:49.016320",
     "status": "completed"
    },
    "tags": []
   },
   "source": [
    "## Benefits of Using Decorators for Logging and Timing\n",
    "#### Using decorators for logging and timing helps you gather valuable information about your code's behavior and performance without cluttering your functions with additional code.\n",
    "\n",
    "### Conclusion\n",
    "#### Decorators provide a powerful way to automate logging messages and measure execution time in your Python code. By applying logging and timing decorators, you can gain insights into function behavior and optimize performance, enhancing the overall quality of your programs."
   ]
  },
  {
   "cell_type": "markdown",
   "id": "53fd1bdc",
   "metadata": {
    "papermill": {
     "duration": 0.02599,
     "end_time": "2023-08-17T05:41:49.093657",
     "exception": false,
     "start_time": "2023-08-17T05:41:49.067667",
     "status": "completed"
    },
    "tags": []
   },
   "source": [
    "<h1 align=\"left\"><font color='red'>59</font></h1>"
   ]
  },
  {
   "cell_type": "markdown",
   "id": "b757b021",
   "metadata": {
    "papermill": {
     "duration": 0.025198,
     "end_time": "2023-08-17T05:41:49.145179",
     "exception": false,
     "start_time": "2023-08-17T05:41:49.119981",
     "status": "completed"
    },
    "tags": []
   },
   "source": [
    "# Chapter 59: Python's Built-in Decorators\n",
    "\n",
    "#### In this chapter, we'll explore Python's built-in decorators, which provide useful functionality for modifying and enhancing the behavior of functions and methods.\n",
    "\n",
    "## Introduction to Built-in Decorators\n",
    "\n",
    "#### Python includes several built-in decorators that offer specialized behavior to functions and methods. These decorators provide a clean and standardized way to achieve common programming tasks.\n",
    "\n",
    "## @staticmethod and @classmethod\n",
    "\n",
    "#### The `@staticmethod` and `@classmethod` decorators are used with methods in classes.\n",
    "\n",
    "### @staticmethod\n",
    "\n",
    "#### A static method is a method that belongs to a class rather than an instance. It doesn't have access to instance-specific data.\n",
    "\n",
    "#### Example (@staticmethod):\n",
    "\n"
   ]
  },
  {
   "cell_type": "code",
   "execution_count": 37,
   "id": "117d958a",
   "metadata": {
    "execution": {
     "iopub.execute_input": "2023-08-17T05:41:49.197709Z",
     "iopub.status.busy": "2023-08-17T05:41:49.197338Z",
     "iopub.status.idle": "2023-08-17T05:41:49.202417Z",
     "shell.execute_reply": "2023-08-17T05:41:49.201575Z"
    },
    "papermill": {
     "duration": 0.033608,
     "end_time": "2023-08-17T05:41:49.204323",
     "exception": false,
     "start_time": "2023-08-17T05:41:49.170715",
     "status": "completed"
    },
    "tags": []
   },
   "outputs": [],
   "source": [
    "class MathUtils:\n",
    "    @staticmethod\n",
    "    def add(x, y):\n",
    "        return x + y\n",
    "\n",
    "result = MathUtils.add(3, 5)"
   ]
  },
  {
   "cell_type": "markdown",
   "id": "40dd2296",
   "metadata": {
    "papermill": {
     "duration": 0.025299,
     "end_time": "2023-08-17T05:41:49.255292",
     "exception": false,
     "start_time": "2023-08-17T05:41:49.229993",
     "status": "completed"
    },
    "tags": []
   },
   "source": [
    "### @classmethod\n",
    "#### A class method takes the class itself as its first argument. It's often used for creating alternative constructors.\n",
    "\n",
    "### Example (@classmethod):"
   ]
  },
  {
   "cell_type": "code",
   "execution_count": 38,
   "id": "a6359ac8",
   "metadata": {
    "execution": {
     "iopub.execute_input": "2023-08-17T05:41:49.308368Z",
     "iopub.status.busy": "2023-08-17T05:41:49.307775Z",
     "iopub.status.idle": "2023-08-17T05:41:49.315013Z",
     "shell.execute_reply": "2023-08-17T05:41:49.314171Z"
    },
    "papermill": {
     "duration": 0.035916,
     "end_time": "2023-08-17T05:41:49.316754",
     "exception": false,
     "start_time": "2023-08-17T05:41:49.280838",
     "status": "completed"
    },
    "tags": []
   },
   "outputs": [
    {
     "data": {
      "text/plain": [
       "<__main__.Person at 0x7962395812d0>"
      ]
     },
     "execution_count": 38,
     "metadata": {},
     "output_type": "execute_result"
    }
   ],
   "source": [
    "class Person:\n",
    "    def __init__(self, name):\n",
    "        self.name = name\n",
    "\n",
    "    @classmethod\n",
    "    def create(cls, name):\n",
    "        person = cls(name)\n",
    "        return person\n",
    "\n",
    "person = Person.create(\"Alice\")\n",
    "person\n"
   ]
  },
  {
   "cell_type": "markdown",
   "id": "080bfdba",
   "metadata": {
    "papermill": {
     "duration": 0.025276,
     "end_time": "2023-08-17T05:41:49.369902",
     "exception": false,
     "start_time": "2023-08-17T05:41:49.344626",
     "status": "completed"
    },
    "tags": []
   },
   "source": [
    "## @property\n",
    "#### The @property decorator allows you to define a method as a \"getter\" for a class attribute, enabling attribute access like a property.\n",
    "\n",
    "### Example (@property):"
   ]
  },
  {
   "cell_type": "code",
   "execution_count": 39,
   "id": "8815535f",
   "metadata": {
    "execution": {
     "iopub.execute_input": "2023-08-17T05:41:49.422836Z",
     "iopub.status.busy": "2023-08-17T05:41:49.422515Z",
     "iopub.status.idle": "2023-08-17T05:41:49.429093Z",
     "shell.execute_reply": "2023-08-17T05:41:49.427391Z"
    },
    "papermill": {
     "duration": 0.035765,
     "end_time": "2023-08-17T05:41:49.431556",
     "exception": false,
     "start_time": "2023-08-17T05:41:49.395791",
     "status": "completed"
    },
    "tags": []
   },
   "outputs": [
    {
     "name": "stdout",
     "output_type": "stream",
     "text": [
      "78.53975\n"
     ]
    }
   ],
   "source": [
    "class Circle:\n",
    "    def __init__(self, radius):\n",
    "        self.radius = radius\n",
    "\n",
    "    @property\n",
    "    def area(self):\n",
    "        return 3.14159 * self.radius * self.radius\n",
    "\n",
    "circle = Circle(5)\n",
    "print(circle.area)  # Accesses the area as a property\n"
   ]
  },
  {
   "cell_type": "markdown",
   "id": "80c592eb",
   "metadata": {
    "papermill": {
     "duration": 0.026258,
     "end_time": "2023-08-17T05:41:49.485142",
     "exception": false,
     "start_time": "2023-08-17T05:41:49.458884",
     "status": "completed"
    },
    "tags": []
   },
   "source": [
    "### @staticmethod, @classmethod, and @property Together\n",
    "#### You can use @staticmethod, @classmethod, and @property together to define a class with custom behavior.\n",
    "\n",
    "### Example (Using Decorators Together):"
   ]
  },
  {
   "cell_type": "code",
   "execution_count": 40,
   "id": "564cb419",
   "metadata": {
    "execution": {
     "iopub.execute_input": "2023-08-17T05:41:49.535484Z",
     "iopub.status.busy": "2023-08-17T05:41:49.535159Z",
     "iopub.status.idle": "2023-08-17T05:41:49.540462Z",
     "shell.execute_reply": "2023-08-17T05:41:49.539802Z"
    },
    "papermill": {
     "duration": 0.03219,
     "end_time": "2023-08-17T05:41:49.542056",
     "exception": false,
     "start_time": "2023-08-17T05:41:49.509866",
     "status": "completed"
    },
    "tags": []
   },
   "outputs": [],
   "source": [
    "class StringUtils:\n",
    "    @staticmethod\n",
    "    def is_palindrome(string):\n",
    "        return string == string[::-1]\n",
    "\n",
    "    @classmethod\n",
    "    def create_uppercase(cls, string):\n",
    "        return cls(string.upper())\n",
    "\n",
    "    def __init__(self, string):\n",
    "        self.string = string\n",
    "\n",
    "    @property\n",
    "    def length(self):\n",
    "        return len(self.string)\n",
    "\n",
    "result = StringUtils.is_palindrome(\"radar\")\n",
    "uppercase_string = StringUtils.create_uppercase(\"hello\")\n",
    "length = StringUtils(\"python\").length\n"
   ]
  },
  {
   "cell_type": "markdown",
   "id": "e0fb85cc",
   "metadata": {
    "papermill": {
     "duration": 0.024789,
     "end_time": "2023-08-17T05:41:49.592130",
     "exception": false,
     "start_time": "2023-08-17T05:41:49.567341",
     "status": "completed"
    },
    "tags": []
   },
   "source": [
    "### Conclusion\n",
    "#### Python's built-in decorators, such as @staticmethod, @classmethod, and @property, provide specialized behavior for methods in classes, enhancing the functionality and readability of your code. These decorators are essential tools for creating clean and organized object-oriented programs."
   ]
  },
  {
   "cell_type": "markdown",
   "id": "5ba64018",
   "metadata": {
    "papermill": {
     "duration": 0.023719,
     "end_time": "2023-08-17T05:41:49.640183",
     "exception": false,
     "start_time": "2023-08-17T05:41:49.616464",
     "status": "completed"
    },
    "tags": []
   },
   "source": [
    "<h1 align=\"left\"><font color='red'>60</font></h1>"
   ]
  },
  {
   "cell_type": "markdown",
   "id": "50a29c5a",
   "metadata": {
    "papermill": {
     "duration": 0.02392,
     "end_time": "2023-08-17T05:41:49.689011",
     "exception": false,
     "start_time": "2023-08-17T05:41:49.665091",
     "status": "completed"
    },
    "tags": []
   },
   "source": [
    "# Chapter 60: Introduction to Context Managers\n",
    "\n",
    "#### In this chapter, we'll introduce the concept of context managers in Python, which provide a convenient way to manage resources and perform setup and teardown operations.\n",
    "\n",
    "## Introduction to Context Managers\n",
    "\n",
    "#### A context manager is an object that manages resources, such as file handles or network connections, ensuring they are properly acquired and released. Context managers are commonly used with the `with` statement to encapsulate resource management.\n",
    "\n",
    "## Using Context Managers with the `with` Statement\n",
    "\n",
    "#### The `with` statement provides a way to create a context within which a context manager is active. It ensures that resources are properly managed and released when they are no longer needed.\n",
    "\n",
    "### Example (Using Context Managers with the `with` Statement):\n"
   ]
  },
  {
   "cell_type": "markdown",
   "id": "8b7f1452",
   "metadata": {
    "execution": {
     "iopub.execute_input": "2023-08-17T05:34:55.534428Z",
     "iopub.status.busy": "2023-08-17T05:34:55.533956Z",
     "iopub.status.idle": "2023-08-17T05:34:55.545424Z",
     "shell.execute_reply": "2023-08-17T05:34:55.543169Z",
     "shell.execute_reply.started": "2023-08-17T05:34:55.534388Z"
    },
    "papermill": {
     "duration": 0.024537,
     "end_time": "2023-08-17T05:41:49.737893",
     "exception": false,
     "start_time": "2023-08-17T05:41:49.713356",
     "status": "completed"
    },
    "tags": []
   },
   "source": [
    "```python\n",
    "\n",
    "with open(\"file.txt\", \"r\") as file:\n",
    "    contents = file.read()\n",
    "    # File is automatically closed when the block is exited\n",
    "```"
   ]
  },
  {
   "cell_type": "markdown",
   "id": "1043a0cc",
   "metadata": {
    "papermill": {
     "duration": 0.025945,
     "end_time": "2023-08-17T05:41:49.787906",
     "exception": false,
     "start_time": "2023-08-17T05:41:49.761961",
     "status": "completed"
    },
    "tags": []
   },
   "source": [
    "## Implementing Context Managers\n",
    "#### Context managers can be implemented using the contextlib module's contextmanager decorator or by defining classes with __enter__ and __exit__ methods.\n",
    "\n",
    "### Example (Implementing a Context Manager with a Class):"
   ]
  },
  {
   "cell_type": "code",
   "execution_count": 41,
   "id": "7cad1bf2",
   "metadata": {
    "execution": {
     "iopub.execute_input": "2023-08-17T05:41:49.839381Z",
     "iopub.status.busy": "2023-08-17T05:41:49.839074Z",
     "iopub.status.idle": "2023-08-17T05:41:51.848004Z",
     "shell.execute_reply": "2023-08-17T05:41:51.846851Z"
    },
    "papermill": {
     "duration": 2.037151,
     "end_time": "2023-08-17T05:41:51.850134",
     "exception": false,
     "start_time": "2023-08-17T05:41:49.812983",
     "status": "completed"
    },
    "tags": []
   },
   "outputs": [
    {
     "name": "stdout",
     "output_type": "stream",
     "text": [
      "Elapsed time: 2.002117872238159 seconds\n"
     ]
    }
   ],
   "source": [
    "class Timer:\n",
    "    def __enter__(self):\n",
    "        self.start_time = time.time()\n",
    "        return self\n",
    "\n",
    "    def __exit__(self, exc_type, exc_value, traceback):\n",
    "        self.end_time = time.time()\n",
    "        print(f\"Elapsed time: {self.end_time - self.start_time} seconds\")\n",
    "\n",
    "with Timer():\n",
    "    time.sleep(2)  # Elapsed time: 2.000123 seconds\n"
   ]
  },
  {
   "cell_type": "markdown",
   "id": "646e38ef",
   "metadata": {
    "papermill": {
     "duration": 0.024902,
     "end_time": "2023-08-17T05:41:51.901595",
     "exception": false,
     "start_time": "2023-08-17T05:41:51.876693",
     "status": "completed"
    },
    "tags": []
   },
   "source": [
    "## Use Cases for Context Managers\n",
    "#### Context managers are useful for managing resources that need to be acquired and released reliably, such as files, network connections, database connections, and more.\n",
    "\n",
    "## Context Managers for Exception Handling\n",
    "#### Context managers can also be used to handle exceptions and perform cleanup operations when exceptions occur.\n",
    "\n",
    "### Example (Context Managers for Exception Handling):"
   ]
  },
  {
   "cell_type": "code",
   "execution_count": 42,
   "id": "dcedcc41",
   "metadata": {
    "execution": {
     "iopub.execute_input": "2023-08-17T05:41:51.951959Z",
     "iopub.status.busy": "2023-08-17T05:41:51.951653Z",
     "iopub.status.idle": "2023-08-17T05:41:51.957399Z",
     "shell.execute_reply": "2023-08-17T05:41:51.956367Z"
    },
    "papermill": {
     "duration": 0.033977,
     "end_time": "2023-08-17T05:41:51.960027",
     "exception": false,
     "start_time": "2023-08-17T05:41:51.926050",
     "status": "completed"
    },
    "tags": []
   },
   "outputs": [
    {
     "name": "stdout",
     "output_type": "stream",
     "text": [
      "Error: Division by zero\n"
     ]
    }
   ],
   "source": [
    "class SafeDivision:\n",
    "    def __enter__(self):\n",
    "        return self\n",
    "\n",
    "    def __exit__(self, exc_type, exc_value, traceback):\n",
    "        if exc_type is not None and issubclass(exc_type, ZeroDivisionError):\n",
    "            print(\"Error: Division by zero\")\n",
    "            return True  # Suppress the exception\n",
    "        return False\n",
    "\n",
    "with SafeDivision():\n",
    "    result = 5 / 0\n",
    "    print(result)  # This code will not raise an exception\n"
   ]
  },
  {
   "cell_type": "markdown",
   "id": "428c1b69",
   "metadata": {
    "papermill": {
     "duration": 0.026249,
     "end_time": "2023-08-17T05:41:52.012550",
     "exception": false,
     "start_time": "2023-08-17T05:41:51.986301",
     "status": "completed"
    },
    "tags": []
   },
   "source": [
    "## Conclusion\n",
    "#### Context managers provide a powerful way to manage resources, perform setup and teardown operations, and handle exceptions in a clean and reliable manner. The with statement simplifies resource management and helps ensure proper resource cleanup."
   ]
  },
  {
   "cell_type": "markdown",
   "id": "95d7a642",
   "metadata": {
    "papermill": {
     "duration": 0.026111,
     "end_time": "2023-08-17T05:41:52.065725",
     "exception": false,
     "start_time": "2023-08-17T05:41:52.039614",
     "status": "completed"
    },
    "tags": []
   },
   "source": [
    "### ![mlv prasad](https://github.com/MlvPrasadOfficial/kaggle_notebooks/raw/main/CANVAPYTHON/P3.png)"
   ]
  }
 ],
 "metadata": {
  "kernelspec": {
   "display_name": "Python 3",
   "language": "python",
   "name": "python3"
  },
  "language_info": {
   "codemirror_mode": {
    "name": "ipython",
    "version": 3
   },
   "file_extension": ".py",
   "mimetype": "text/x-python",
   "name": "python",
   "nbconvert_exporter": "python",
   "pygments_lexer": "ipython3",
   "version": "3.10.12"
  },
  "papermill": {
   "default_parameters": {},
   "duration": 26.506024,
   "end_time": "2023-08-17T05:41:52.811493",
   "environment_variables": {},
   "exception": null,
   "input_path": "__notebook__.ipynb",
   "output_path": "__notebook__.ipynb",
   "parameters": {},
   "start_time": "2023-08-17T05:41:26.305469",
   "version": "2.4.0"
  }
 },
 "nbformat": 4,
 "nbformat_minor": 5
}
