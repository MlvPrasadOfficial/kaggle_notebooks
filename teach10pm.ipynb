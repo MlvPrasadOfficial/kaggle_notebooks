{
 "cells": [
  {
   "cell_type": "code",
   "execution_count": 1,
   "id": "34dc68a7",
   "metadata": {
    "_cell_guid": "b1076dfc-b9ad-4769-8c92-a6c4dae69d19",
    "_uuid": "8f2839f25d086af736a60e9eeb907d3b93b6e0e5",
    "execution": {
     "iopub.execute_input": "2023-08-19T18:07:36.666924Z",
     "iopub.status.busy": "2023-08-19T18:07:36.666098Z",
     "iopub.status.idle": "2023-08-19T18:07:36.679476Z",
     "shell.execute_reply": "2023-08-19T18:07:36.678477Z"
    },
    "papermill": {
     "duration": 0.063148,
     "end_time": "2023-08-19T18:07:36.681803",
     "exception": false,
     "start_time": "2023-08-19T18:07:36.618655",
     "status": "completed"
    },
    "tags": []
   },
   "outputs": [
    {
     "name": "stdout",
     "output_type": "stream",
     "text": [
      "sharma is a good boy\n"
     ]
    }
   ],
   "source": [
    "# 0/p\n",
    "print(\"sharma is a good boy\")"
   ]
  },
  {
   "cell_type": "code",
   "execution_count": 2,
   "id": "75f0965a",
   "metadata": {
    "execution": {
     "iopub.execute_input": "2023-08-19T18:07:36.771242Z",
     "iopub.status.busy": "2023-08-19T18:07:36.770223Z",
     "iopub.status.idle": "2023-08-19T18:07:36.774875Z",
     "shell.execute_reply": "2023-08-19T18:07:36.773959Z"
    },
    "papermill": {
     "duration": 0.05146,
     "end_time": "2023-08-19T18:07:36.777095",
     "exception": false,
     "start_time": "2023-08-19T18:07:36.725635",
     "status": "completed"
    },
    "tags": []
   },
   "outputs": [],
   "source": [
    "# i/p\n",
    "\n",
    "# name = input()\n",
    "# print(name , \" is a good boy\")"
   ]
  },
  {
   "cell_type": "code",
   "execution_count": 3,
   "id": "7ea17f65",
   "metadata": {
    "execution": {
     "iopub.execute_input": "2023-08-19T18:07:36.866582Z",
     "iopub.status.busy": "2023-08-19T18:07:36.866204Z",
     "iopub.status.idle": "2023-08-19T18:07:36.872106Z",
     "shell.execute_reply": "2023-08-19T18:07:36.871103Z"
    },
    "papermill": {
     "duration": 0.05363,
     "end_time": "2023-08-19T18:07:36.874601",
     "exception": false,
     "start_time": "2023-08-19T18:07:36.820971",
     "status": "completed"
    },
    "tags": []
   },
   "outputs": [
    {
     "name": "stdout",
     "output_type": "stream",
     "text": [
      "yasmin\n",
      "----\n",
      "yasmin\n",
      "asha\n"
     ]
    }
   ],
   "source": [
    "name = \"yasmin\"\n",
    "\n",
    "print(name)\n",
    "print(\"----\")\n",
    "print(name)\n",
    "name = \"asha\" \n",
    "\n",
    "print(name)"
   ]
  },
  {
   "cell_type": "code",
   "execution_count": 4,
   "id": "0e198ca7",
   "metadata": {
    "execution": {
     "iopub.execute_input": "2023-08-19T18:07:36.962992Z",
     "iopub.status.busy": "2023-08-19T18:07:36.962574Z",
     "iopub.status.idle": "2023-08-19T18:07:36.969872Z",
     "shell.execute_reply": "2023-08-19T18:07:36.968916Z"
    },
    "papermill": {
     "duration": 0.054769,
     "end_time": "2023-08-19T18:07:36.972277",
     "exception": false,
     "start_time": "2023-08-19T18:07:36.917508",
     "status": "completed"
    },
    "tags": []
   },
   "outputs": [
    {
     "data": {
      "text/plain": [
       "int"
      ]
     },
     "execution_count": 4,
     "metadata": {},
     "output_type": "execute_result"
    }
   ],
   "source": [
    "a = 7\n",
    "\n",
    "type(a)\n"
   ]
  },
  {
   "cell_type": "code",
   "execution_count": 5,
   "id": "3f73fcc2",
   "metadata": {
    "execution": {
     "iopub.execute_input": "2023-08-19T18:07:37.062410Z",
     "iopub.status.busy": "2023-08-19T18:07:37.062047Z",
     "iopub.status.idle": "2023-08-19T18:07:37.068496Z",
     "shell.execute_reply": "2023-08-19T18:07:37.067604Z"
    },
    "papermill": {
     "duration": 0.053913,
     "end_time": "2023-08-19T18:07:37.070619",
     "exception": false,
     "start_time": "2023-08-19T18:07:37.016706",
     "status": "completed"
    },
    "tags": []
   },
   "outputs": [
    {
     "data": {
      "text/plain": [
       "float"
      ]
     },
     "execution_count": 5,
     "metadata": {},
     "output_type": "execute_result"
    }
   ],
   "source": [
    "b = 7.5\n",
    "\n",
    "type(b)"
   ]
  },
  {
   "cell_type": "code",
   "execution_count": 6,
   "id": "5644e406",
   "metadata": {
    "execution": {
     "iopub.execute_input": "2023-08-19T18:07:37.161048Z",
     "iopub.status.busy": "2023-08-19T18:07:37.158997Z",
     "iopub.status.idle": "2023-08-19T18:07:37.170262Z",
     "shell.execute_reply": "2023-08-19T18:07:37.169180Z"
    },
    "papermill": {
     "duration": 0.058508,
     "end_time": "2023-08-19T18:07:37.172403",
     "exception": false,
     "start_time": "2023-08-19T18:07:37.113895",
     "status": "completed"
    },
    "tags": []
   },
   "outputs": [
    {
     "data": {
      "text/plain": [
       "str"
      ]
     },
     "execution_count": 6,
     "metadata": {},
     "output_type": "execute_result"
    }
   ],
   "source": [
    "c = \"sharma\"\n",
    "type(c)"
   ]
  },
  {
   "cell_type": "code",
   "execution_count": 7,
   "id": "a09c51c3",
   "metadata": {
    "execution": {
     "iopub.execute_input": "2023-08-19T18:07:37.264372Z",
     "iopub.status.busy": "2023-08-19T18:07:37.263364Z",
     "iopub.status.idle": "2023-08-19T18:07:37.270565Z",
     "shell.execute_reply": "2023-08-19T18:07:37.269495Z"
    },
    "papermill": {
     "duration": 0.054878,
     "end_time": "2023-08-19T18:07:37.272730",
     "exception": false,
     "start_time": "2023-08-19T18:07:37.217852",
     "status": "completed"
    },
    "tags": []
   },
   "outputs": [
    {
     "data": {
      "text/plain": [
       "str"
      ]
     },
     "execution_count": 7,
     "metadata": {},
     "output_type": "execute_result"
    }
   ],
   "source": [
    "d = \"44-5-14\"\n",
    "\n",
    "type(d)"
   ]
  },
  {
   "cell_type": "code",
   "execution_count": 8,
   "id": "14930a75",
   "metadata": {
    "execution": {
     "iopub.execute_input": "2023-08-19T18:07:37.365545Z",
     "iopub.status.busy": "2023-08-19T18:07:37.365175Z",
     "iopub.status.idle": "2023-08-19T18:07:37.371425Z",
     "shell.execute_reply": "2023-08-19T18:07:37.370474Z"
    },
    "papermill": {
     "duration": 0.054323,
     "end_time": "2023-08-19T18:07:37.373461",
     "exception": false,
     "start_time": "2023-08-19T18:07:37.319138",
     "status": "completed"
    },
    "tags": []
   },
   "outputs": [
    {
     "data": {
      "text/plain": [
       "str"
      ]
     },
     "execution_count": 8,
     "metadata": {},
     "output_type": "execute_result"
    }
   ],
   "source": [
    "e = \"19\"\n",
    "type(e)"
   ]
  },
  {
   "cell_type": "code",
   "execution_count": 9,
   "id": "9437956e",
   "metadata": {
    "execution": {
     "iopub.execute_input": "2023-08-19T18:07:37.464456Z",
     "iopub.status.busy": "2023-08-19T18:07:37.463512Z",
     "iopub.status.idle": "2023-08-19T18:07:37.470501Z",
     "shell.execute_reply": "2023-08-19T18:07:37.469366Z"
    },
    "papermill": {
     "duration": 0.055059,
     "end_time": "2023-08-19T18:07:37.473341",
     "exception": false,
     "start_time": "2023-08-19T18:07:37.418282",
     "status": "completed"
    },
    "tags": []
   },
   "outputs": [
    {
     "data": {
      "text/plain": [
       "int"
      ]
     },
     "execution_count": 9,
     "metadata": {},
     "output_type": "execute_result"
    }
   ],
   "source": [
    "f = 19\n",
    "type(f)"
   ]
  },
  {
   "cell_type": "code",
   "execution_count": 10,
   "id": "a91e1b8e",
   "metadata": {
    "execution": {
     "iopub.execute_input": "2023-08-19T18:07:37.563159Z",
     "iopub.status.busy": "2023-08-19T18:07:37.562763Z",
     "iopub.status.idle": "2023-08-19T18:07:37.568300Z",
     "shell.execute_reply": "2023-08-19T18:07:37.567337Z"
    },
    "papermill": {
     "duration": 0.053646,
     "end_time": "2023-08-19T18:07:37.571064",
     "exception": false,
     "start_time": "2023-08-19T18:07:37.517418",
     "status": "completed"
    },
    "tags": []
   },
   "outputs": [
    {
     "name": "stdout",
     "output_type": "stream",
     "text": [
      "<class 'int'>\n",
      "<class 'str'>\n"
     ]
    }
   ],
   "source": [
    "#type casting\n",
    "\n",
    "num = 19\n",
    "print(type(num))\n",
    "\n",
    "num = str(num)\n",
    "print(type(num))"
   ]
  },
  {
   "cell_type": "code",
   "execution_count": 11,
   "id": "795d8b8b",
   "metadata": {
    "execution": {
     "iopub.execute_input": "2023-08-19T18:07:37.662115Z",
     "iopub.status.busy": "2023-08-19T18:07:37.661711Z",
     "iopub.status.idle": "2023-08-19T18:07:37.667843Z",
     "shell.execute_reply": "2023-08-19T18:07:37.666807Z"
    },
    "papermill": {
     "duration": 0.055257,
     "end_time": "2023-08-19T18:07:37.670792",
     "exception": false,
     "start_time": "2023-08-19T18:07:37.615535",
     "status": "completed"
    },
    "tags": []
   },
   "outputs": [
    {
     "name": "stdout",
     "output_type": "stream",
     "text": [
      "19 <class 'int'>\n",
      "19.0 <class 'float'>\n",
      "19.0 <class 'str'>\n"
     ]
    }
   ],
   "source": [
    "num = 19\n",
    "print(num, type(num))\n",
    "num = float(num) # 19.0\n",
    "print(num, type(num))\n",
    "num = str(num)\n",
    "print(num, type(num))"
   ]
  },
  {
   "cell_type": "code",
   "execution_count": 12,
   "id": "8821c146",
   "metadata": {
    "execution": {
     "iopub.execute_input": "2023-08-19T18:07:37.764357Z",
     "iopub.status.busy": "2023-08-19T18:07:37.763341Z",
     "iopub.status.idle": "2023-08-19T18:07:37.768304Z",
     "shell.execute_reply": "2023-08-19T18:07:37.767386Z"
    },
    "papermill": {
     "duration": 0.052973,
     "end_time": "2023-08-19T18:07:37.770323",
     "exception": false,
     "start_time": "2023-08-19T18:07:37.717350",
     "status": "completed"
    },
    "tags": []
   },
   "outputs": [],
   "source": [
    "# 3num = 19"
   ]
  },
  {
   "cell_type": "code",
   "execution_count": 13,
   "id": "f10e48cc",
   "metadata": {
    "execution": {
     "iopub.execute_input": "2023-08-19T18:07:37.863144Z",
     "iopub.status.busy": "2023-08-19T18:07:37.862325Z",
     "iopub.status.idle": "2023-08-19T18:07:37.867051Z",
     "shell.execute_reply": "2023-08-19T18:07:37.865971Z"
    },
    "papermill": {
     "duration": 0.052865,
     "end_time": "2023-08-19T18:07:37.869053",
     "exception": false,
     "start_time": "2023-08-19T18:07:37.816188",
     "status": "completed"
    },
    "tags": []
   },
   "outputs": [],
   "source": [
    "mynameissharma = 19\n",
    "my_name_is_sharma = 20\n",
    "# myNameIsSharma"
   ]
  },
  {
   "cell_type": "code",
   "execution_count": 14,
   "id": "7b62909b",
   "metadata": {
    "execution": {
     "iopub.execute_input": "2023-08-19T18:07:37.958151Z",
     "iopub.status.busy": "2023-08-19T18:07:37.957258Z",
     "iopub.status.idle": "2023-08-19T18:07:37.963639Z",
     "shell.execute_reply": "2023-08-19T18:07:37.962231Z"
    },
    "papermill": {
     "duration": 0.053418,
     "end_time": "2023-08-19T18:07:37.965757",
     "exception": false,
     "start_time": "2023-08-19T18:07:37.912339",
     "status": "completed"
    },
    "tags": []
   },
   "outputs": [
    {
     "name": "stdout",
     "output_type": "stream",
     "text": [
      "9 __ 8\n"
     ]
    }
   ],
   "source": [
    "a = 9\n",
    "b = 8\n",
    "print(a, \"__\", b)"
   ]
  },
  {
   "cell_type": "code",
   "execution_count": 15,
   "id": "c7a6a0ac",
   "metadata": {
    "execution": {
     "iopub.execute_input": "2023-08-19T18:07:38.054528Z",
     "iopub.status.busy": "2023-08-19T18:07:38.054177Z",
     "iopub.status.idle": "2023-08-19T18:07:38.059621Z",
     "shell.execute_reply": "2023-08-19T18:07:38.058650Z"
    },
    "papermill": {
     "duration": 0.052731,
     "end_time": "2023-08-19T18:07:38.062233",
     "exception": false,
     "start_time": "2023-08-19T18:07:38.009502",
     "status": "completed"
    },
    "tags": []
   },
   "outputs": [
    {
     "name": "stdout",
     "output_type": "stream",
     "text": [
      "9 __ 8\n"
     ]
    }
   ],
   "source": [
    "a, b = 9,8 \n",
    "print(a, \"__\", b)"
   ]
  },
  {
   "cell_type": "code",
   "execution_count": 16,
   "id": "4c061dea",
   "metadata": {
    "execution": {
     "iopub.execute_input": "2023-08-19T18:07:38.151410Z",
     "iopub.status.busy": "2023-08-19T18:07:38.151052Z",
     "iopub.status.idle": "2023-08-19T18:07:38.156602Z",
     "shell.execute_reply": "2023-08-19T18:07:38.155664Z"
    },
    "papermill": {
     "duration": 0.052236,
     "end_time": "2023-08-19T18:07:38.159186",
     "exception": false,
     "start_time": "2023-08-19T18:07:38.106950",
     "status": "completed"
    },
    "tags": []
   },
   "outputs": [
    {
     "name": "stdout",
     "output_type": "stream",
     "text": [
      "Orange\n",
      "Banana\n",
      "Cherry\n"
     ]
    }
   ],
   "source": [
    "x, y, z = \"Orange\", \"Banana\", \"Cherry\"\n",
    "print(x)\n",
    "print(y)\n",
    "print(z)"
   ]
  },
  {
   "cell_type": "code",
   "execution_count": 17,
   "id": "420cda3c",
   "metadata": {
    "execution": {
     "iopub.execute_input": "2023-08-19T18:07:38.254421Z",
     "iopub.status.busy": "2023-08-19T18:07:38.253441Z",
     "iopub.status.idle": "2023-08-19T18:07:38.260033Z",
     "shell.execute_reply": "2023-08-19T18:07:38.258891Z"
    },
    "papermill": {
     "duration": 0.05593,
     "end_time": "2023-08-19T18:07:38.262296",
     "exception": false,
     "start_time": "2023-08-19T18:07:38.206366",
     "status": "completed"
    },
    "tags": []
   },
   "outputs": [
    {
     "name": "stdout",
     "output_type": "stream",
     "text": [
      "Orange\n",
      "Banana\n",
      "Cherry\n"
     ]
    }
   ],
   "source": [
    "x =  \"Orange\"\n",
    "y =  \"Banana\"\n",
    "z =  \"Cherry\"\n",
    "print(x)\n",
    "print(y)\n",
    "print(z)"
   ]
  },
  {
   "cell_type": "code",
   "execution_count": 18,
   "id": "31312cc0",
   "metadata": {
    "execution": {
     "iopub.execute_input": "2023-08-19T18:07:38.355677Z",
     "iopub.status.busy": "2023-08-19T18:07:38.355333Z",
     "iopub.status.idle": "2023-08-19T18:07:38.361659Z",
     "shell.execute_reply": "2023-08-19T18:07:38.360697Z"
    },
    "papermill": {
     "duration": 0.056466,
     "end_time": "2023-08-19T18:07:38.363956",
     "exception": false,
     "start_time": "2023-08-19T18:07:38.307490",
     "status": "completed"
    },
    "tags": []
   },
   "outputs": [
    {
     "data": {
      "text/plain": [
       "int"
      ]
     },
     "execution_count": 18,
     "metadata": {},
     "output_type": "execute_result"
    }
   ],
   "source": [
    "a  = 9 \n",
    "type(a)"
   ]
  },
  {
   "cell_type": "code",
   "execution_count": 19,
   "id": "2c80aeb9",
   "metadata": {
    "execution": {
     "iopub.execute_input": "2023-08-19T18:07:38.455735Z",
     "iopub.status.busy": "2023-08-19T18:07:38.454787Z",
     "iopub.status.idle": "2023-08-19T18:07:38.461585Z",
     "shell.execute_reply": "2023-08-19T18:07:38.460500Z"
    },
    "papermill": {
     "duration": 0.054694,
     "end_time": "2023-08-19T18:07:38.463688",
     "exception": false,
     "start_time": "2023-08-19T18:07:38.408994",
     "status": "completed"
    },
    "tags": []
   },
   "outputs": [
    {
     "data": {
      "text/plain": [
       "list"
      ]
     },
     "execution_count": 19,
     "metadata": {},
     "output_type": "execute_result"
    }
   ],
   "source": [
    "a = [9]\n",
    "type(a)\n"
   ]
  },
  {
   "cell_type": "code",
   "execution_count": 20,
   "id": "ca3b6e03",
   "metadata": {
    "execution": {
     "iopub.execute_input": "2023-08-19T18:07:38.555284Z",
     "iopub.status.busy": "2023-08-19T18:07:38.554889Z",
     "iopub.status.idle": "2023-08-19T18:07:38.562057Z",
     "shell.execute_reply": "2023-08-19T18:07:38.561121Z"
    },
    "papermill": {
     "duration": 0.055349,
     "end_time": "2023-08-19T18:07:38.564106",
     "exception": false,
     "start_time": "2023-08-19T18:07:38.508757",
     "status": "completed"
    },
    "tags": []
   },
   "outputs": [
    {
     "data": {
      "text/plain": [
       "[20, 'sharma', 'prasad', 4, 45, 4543, 454354]"
      ]
     },
     "execution_count": 20,
     "metadata": {},
     "output_type": "execute_result"
    }
   ],
   "source": [
    "# property 1 \n",
    "# index positions\n",
    "\n",
    "\n",
    "a = [ 10,20,\"sharma\",\"prasad\",4,45,4543,454354] # 4\n",
    "a[1:8]"
   ]
  },
  {
   "cell_type": "markdown",
   "id": "30168e32",
   "metadata": {
    "papermill": {
     "duration": 0.044464,
     "end_time": "2023-08-19T18:07:38.653500",
     "exception": false,
     "start_time": "2023-08-19T18:07:38.609036",
     "status": "completed"
    },
    "tags": []
   },
   "source": [
    "#### "
   ]
  },
  {
   "cell_type": "code",
   "execution_count": 21,
   "id": "36ab7398",
   "metadata": {
    "execution": {
     "iopub.execute_input": "2023-08-19T18:07:38.747969Z",
     "iopub.status.busy": "2023-08-19T18:07:38.747275Z",
     "iopub.status.idle": "2023-08-19T18:07:38.754496Z",
     "shell.execute_reply": "2023-08-19T18:07:38.753471Z"
    },
    "papermill": {
     "duration": 0.057237,
     "end_time": "2023-08-19T18:07:38.756602",
     "exception": false,
     "start_time": "2023-08-19T18:07:38.699365",
     "status": "completed"
    },
    "tags": []
   },
   "outputs": [
    {
     "data": {
      "text/plain": [
       "['sharma', 45]"
      ]
     },
     "execution_count": 21,
     "metadata": {},
     "output_type": "execute_result"
    }
   ],
   "source": [
    "a[2:7:3]"
   ]
  },
  {
   "cell_type": "code",
   "execution_count": 22,
   "id": "01ae822c",
   "metadata": {
    "execution": {
     "iopub.execute_input": "2023-08-19T18:07:38.851360Z",
     "iopub.status.busy": "2023-08-19T18:07:38.850340Z",
     "iopub.status.idle": "2023-08-19T18:07:38.857135Z",
     "shell.execute_reply": "2023-08-19T18:07:38.855975Z"
    },
    "papermill": {
     "duration": 0.05621,
     "end_time": "2023-08-19T18:07:38.859433",
     "exception": false,
     "start_time": "2023-08-19T18:07:38.803223",
     "status": "completed"
    },
    "tags": []
   },
   "outputs": [
    {
     "name": "stdout",
     "output_type": "stream",
     "text": [
      "454354\n"
     ]
    }
   ],
   "source": [
    "# mutable\n",
    "a = [ 10,20,\"sharma\",\"prasad\",4,45,4543,454354]\n",
    "a[0] = \"anusha\"\n",
    "print(a[7])\n",
    "# b = 8\n",
    "# print(b)\n",
    "# c = [1,2]\n",
    "# print(c)"
   ]
  },
  {
   "cell_type": "code",
   "execution_count": 23,
   "id": "b2ba973c",
   "metadata": {
    "execution": {
     "iopub.execute_input": "2023-08-19T18:07:38.965762Z",
     "iopub.status.busy": "2023-08-19T18:07:38.965375Z",
     "iopub.status.idle": "2023-08-19T18:07:38.976094Z",
     "shell.execute_reply": "2023-08-19T18:07:38.974967Z"
    },
    "papermill": {
     "duration": 0.073274,
     "end_time": "2023-08-19T18:07:38.979428",
     "exception": false,
     "start_time": "2023-08-19T18:07:38.906154",
     "status": "completed"
    },
    "tags": []
   },
   "outputs": [
    {
     "data": {
      "text/plain": [
       "[1, 2]"
      ]
     },
     "execution_count": 23,
     "metadata": {},
     "output_type": "execute_result"
    }
   ],
   "source": [
    "# mutable\n",
    "a = [ 10,20,\"sharma\",\"prasad\",4,45,4543,454354]\n",
    "a[0] = \"anusha\"\n",
    "a\n",
    "b = 8\n",
    "b\n",
    "c = [1,2]\n",
    "c"
   ]
  },
  {
   "cell_type": "code",
   "execution_count": 24,
   "id": "58da8aa6",
   "metadata": {
    "execution": {
     "iopub.execute_input": "2023-08-19T18:07:39.122973Z",
     "iopub.status.busy": "2023-08-19T18:07:39.122419Z",
     "iopub.status.idle": "2023-08-19T18:07:39.128788Z",
     "shell.execute_reply": "2023-08-19T18:07:39.127895Z"
    },
    "papermill": {
     "duration": 0.078437,
     "end_time": "2023-08-19T18:07:39.135164",
     "exception": false,
     "start_time": "2023-08-19T18:07:39.056727",
     "status": "completed"
    },
    "tags": []
   },
   "outputs": [
    {
     "name": "stdout",
     "output_type": "stream",
     "text": [
      "8\n"
     ]
    }
   ],
   "source": [
    "a = [ 10,20,\"sharma\",\"prasad\",4,45,4543,454354]\n",
    "print(len(a))"
   ]
  },
  {
   "cell_type": "code",
   "execution_count": 25,
   "id": "b0550c02",
   "metadata": {
    "execution": {
     "iopub.execute_input": "2023-08-19T18:07:39.268729Z",
     "iopub.status.busy": "2023-08-19T18:07:39.268192Z",
     "iopub.status.idle": "2023-08-19T18:07:39.277865Z",
     "shell.execute_reply": "2023-08-19T18:07:39.276977Z"
    },
    "papermill": {
     "duration": 0.080294,
     "end_time": "2023-08-19T18:07:39.281898",
     "exception": false,
     "start_time": "2023-08-19T18:07:39.201604",
     "status": "completed"
    },
    "tags": []
   },
   "outputs": [
    {
     "data": {
      "text/plain": [
       "tuple"
      ]
     },
     "execution_count": 25,
     "metadata": {},
     "output_type": "execute_result"
    }
   ],
   "source": [
    "a = ( 10,20,\"sharma\",\"prasad\",4,45,4543,454354)\n",
    "type(a)"
   ]
  },
  {
   "cell_type": "code",
   "execution_count": 26,
   "id": "5d941ff5",
   "metadata": {
    "execution": {
     "iopub.execute_input": "2023-08-19T18:07:39.415643Z",
     "iopub.status.busy": "2023-08-19T18:07:39.415204Z",
     "iopub.status.idle": "2023-08-19T18:07:39.419726Z",
     "shell.execute_reply": "2023-08-19T18:07:39.418821Z"
    },
    "papermill": {
     "duration": 0.075888,
     "end_time": "2023-08-19T18:07:39.424561",
     "exception": false,
     "start_time": "2023-08-19T18:07:39.348673",
     "status": "completed"
    },
    "tags": []
   },
   "outputs": [],
   "source": [
    "# a = ( 10,20,\"sharma\",\"prasad\",4,45,4543,454354)\n",
    "# a[7] = 10\n",
    "# a"
   ]
  },
  {
   "cell_type": "code",
   "execution_count": 27,
   "id": "46777691",
   "metadata": {
    "execution": {
     "iopub.execute_input": "2023-08-19T18:07:39.556211Z",
     "iopub.status.busy": "2023-08-19T18:07:39.555776Z",
     "iopub.status.idle": "2023-08-19T18:07:39.566275Z",
     "shell.execute_reply": "2023-08-19T18:07:39.565307Z"
    },
    "papermill": {
     "duration": 0.079082,
     "end_time": "2023-08-19T18:07:39.569166",
     "exception": false,
     "start_time": "2023-08-19T18:07:39.490084",
     "status": "completed"
    },
    "tags": []
   },
   "outputs": [
    {
     "name": "stdout",
     "output_type": "stream",
     "text": [
      "(10, 20, 'sharma', 'prasad', 4, 45, 4543, 454354) <class 'tuple'>\n",
      "[1, 20, 'sharma', 'prasad', 4, 45, 4543, 454354] <class 'list'>\n",
      "(1, 20, 'sharma', 'prasad', 4, 45, 4543, 454354) <class 'tuple'>\n"
     ]
    }
   ],
   "source": [
    "a = ( 10,20,\"sharma\",\"prasad\",4,45,4543,454354)\n",
    "\n",
    "print(a, type(a))\n",
    "a = list(a)\n",
    "a[0]= 1\n",
    "print(a, type(a))\n",
    "a = tuple(a)\n",
    "print(a, type(a))"
   ]
  },
  {
   "cell_type": "code",
   "execution_count": 28,
   "id": "105aa412",
   "metadata": {
    "execution": {
     "iopub.execute_input": "2023-08-19T18:07:39.708465Z",
     "iopub.status.busy": "2023-08-19T18:07:39.708019Z",
     "iopub.status.idle": "2023-08-19T18:07:39.713431Z",
     "shell.execute_reply": "2023-08-19T18:07:39.712457Z"
    },
    "papermill": {
     "duration": 0.078926,
     "end_time": "2023-08-19T18:07:39.717673",
     "exception": false,
     "start_time": "2023-08-19T18:07:39.638747",
     "status": "completed"
    },
    "tags": []
   },
   "outputs": [],
   "source": [
    "tupledetails = (\"c001\", \"asha\",\"7680896860\")\n",
    "listdetails = [90,80,100]\n"
   ]
  },
  {
   "cell_type": "code",
   "execution_count": 29,
   "id": "93701ad6",
   "metadata": {
    "execution": {
     "iopub.execute_input": "2023-08-19T18:07:39.852287Z",
     "iopub.status.busy": "2023-08-19T18:07:39.851846Z",
     "iopub.status.idle": "2023-08-19T18:07:39.862884Z",
     "shell.execute_reply": "2023-08-19T18:07:39.861972Z"
    },
    "papermill": {
     "duration": 0.083352,
     "end_time": "2023-08-19T18:07:39.865743",
     "exception": false,
     "start_time": "2023-08-19T18:07:39.782391",
     "status": "completed"
    },
    "tags": []
   },
   "outputs": [
    {
     "data": {
      "text/plain": [
       "{1, 2, 3, 4, 5, 6, 7}"
      ]
     },
     "execution_count": 29,
     "metadata": {},
     "output_type": "execute_result"
    }
   ],
   "source": [
    "a = {1,2,3,4,5,6,1,2,3,5,7}\n",
    "a"
   ]
  },
  {
   "cell_type": "code",
   "execution_count": 30,
   "id": "bdeb0d33",
   "metadata": {
    "execution": {
     "iopub.execute_input": "2023-08-19T18:07:40.000708Z",
     "iopub.status.busy": "2023-08-19T18:07:40.000278Z",
     "iopub.status.idle": "2023-08-19T18:07:40.011878Z",
     "shell.execute_reply": "2023-08-19T18:07:40.010866Z"
    },
    "papermill": {
     "duration": 0.081978,
     "end_time": "2023-08-19T18:07:40.014609",
     "exception": false,
     "start_time": "2023-08-19T18:07:39.932631",
     "status": "completed"
    },
    "tags": []
   },
   "outputs": [
    {
     "data": {
      "text/plain": [
       "dict_items([('a', {'a.1': 2, 'a.2': [10, 20, 30]}), ('b', {'b.1': {'b.1.1': 4}}), ('c', {'c.1': 5, 'c.2': {'c.2.1': [6, 55]}})])"
      ]
     },
     "execution_count": 30,
     "metadata": {},
     "output_type": "execute_result"
    }
   ],
   "source": [
    "sha = { \"a\" : { \n",
    "            \"a.1\" : 2,\n",
    "            \"a.2\"  : [10,20,30]\n",
    "            }\n",
    "     ,\n",
    "     \n",
    "     \"b\" : { \n",
    "            \"b.1\" : {\n",
    "                     \"b.1.1\" : 4\n",
    "                    }\n",
    "           }\n",
    "     ,\n",
    "      \"c\"  : {\n",
    "             \"c.1\" : 5,\n",
    "             \"c.2\"  : {\n",
    "                         \"c.2.1\" : [6,55]\n",
    "                      }\n",
    "       }}\n",
    "\n",
    "\n",
    "# sha[\"c\"][\"c.2\"][\"c.2.1\"][0]\n",
    "sha.items()"
   ]
  },
  {
   "cell_type": "code",
   "execution_count": 31,
   "id": "824d93ad",
   "metadata": {
    "execution": {
     "iopub.execute_input": "2023-08-19T18:07:40.148766Z",
     "iopub.status.busy": "2023-08-19T18:07:40.148217Z",
     "iopub.status.idle": "2023-08-19T18:07:40.159066Z",
     "shell.execute_reply": "2023-08-19T18:07:40.158145Z"
    },
    "papermill": {
     "duration": 0.080393,
     "end_time": "2023-08-19T18:07:40.161881",
     "exception": false,
     "start_time": "2023-08-19T18:07:40.081488",
     "status": "completed"
    },
    "tags": []
   },
   "outputs": [
    {
     "data": {
      "text/plain": [
       "[21, 2000, 43]"
      ]
     },
     "execution_count": 31,
     "metadata": {},
     "output_type": "execute_result"
    }
   ],
   "source": [
    "asha = [21,32,43]\n",
    "asha[1] = 2000\n",
    "asha\n"
   ]
  },
  {
   "cell_type": "code",
   "execution_count": 32,
   "id": "30b50e9d",
   "metadata": {
    "execution": {
     "iopub.execute_input": "2023-08-19T18:07:40.297946Z",
     "iopub.status.busy": "2023-08-19T18:07:40.297394Z",
     "iopub.status.idle": "2023-08-19T18:07:40.308486Z",
     "shell.execute_reply": "2023-08-19T18:07:40.307575Z"
    },
    "papermill": {
     "duration": 0.081493,
     "end_time": "2023-08-19T18:07:40.311302",
     "exception": false,
     "start_time": "2023-08-19T18:07:40.229809",
     "status": "completed"
    },
    "tags": []
   },
   "outputs": [
    {
     "data": {
      "text/plain": [
       "['apple', 'watermelon']"
      ]
     },
     "execution_count": 32,
     "metadata": {},
     "output_type": "execute_result"
    }
   ],
   "source": [
    "thislist = [\"apple\", \"banana\", \"cherry\"]\n",
    "# thislist[1:3] = [\"watermelon\",\"sharma\"]\n",
    "thislist[1:3]= [\"watermelon\"]\n",
    "thislist"
   ]
  },
  {
   "cell_type": "code",
   "execution_count": 33,
   "id": "7a11c2b8",
   "metadata": {
    "execution": {
     "iopub.execute_input": "2023-08-19T18:07:40.448484Z",
     "iopub.status.busy": "2023-08-19T18:07:40.447935Z",
     "iopub.status.idle": "2023-08-19T18:07:40.452701Z",
     "shell.execute_reply": "2023-08-19T18:07:40.451817Z"
    },
    "papermill": {
     "duration": 0.076945,
     "end_time": "2023-08-19T18:07:40.457062",
     "exception": false,
     "start_time": "2023-08-19T18:07:40.380117",
     "status": "completed"
    },
    "tags": []
   },
   "outputs": [],
   "source": [
    "# thislist = [\"apple\", \"banana\", \"cherry\"]\n",
    "# thislist[1:3] = 200\n",
    "# thislist"
   ]
  },
  {
   "cell_type": "code",
   "execution_count": 34,
   "id": "44d980f9",
   "metadata": {
    "execution": {
     "iopub.execute_input": "2023-08-19T18:07:40.589503Z",
     "iopub.status.busy": "2023-08-19T18:07:40.588957Z",
     "iopub.status.idle": "2023-08-19T18:07:40.599240Z",
     "shell.execute_reply": "2023-08-19T18:07:40.598096Z"
    },
    "papermill": {
     "duration": 0.080296,
     "end_time": "2023-08-19T18:07:40.603345",
     "exception": false,
     "start_time": "2023-08-19T18:07:40.523049",
     "status": "completed"
    },
    "tags": []
   },
   "outputs": [
    {
     "data": {
      "text/plain": [
       "['apple', 'watermelon', 'sah']"
      ]
     },
     "execution_count": 34,
     "metadata": {},
     "output_type": "execute_result"
    }
   ],
   "source": [
    "thislist = [\"apple\", \"banana\", \"cherry\"]\n",
    "thislist[1:3] = [\"watermelon\",\"sah\"]\n",
    "thislist"
   ]
  },
  {
   "cell_type": "code",
   "execution_count": null,
   "id": "743dd360",
   "metadata": {
    "papermill": {
     "duration": 0.046774,
     "end_time": "2023-08-19T18:07:40.696506",
     "exception": false,
     "start_time": "2023-08-19T18:07:40.649732",
     "status": "completed"
    },
    "tags": []
   },
   "outputs": [],
   "source": []
  },
  {
   "cell_type": "code",
   "execution_count": null,
   "id": "de88141f",
   "metadata": {
    "papermill": {
     "duration": 0.047981,
     "end_time": "2023-08-19T18:07:40.790094",
     "exception": false,
     "start_time": "2023-08-19T18:07:40.742113",
     "status": "completed"
    },
    "tags": []
   },
   "outputs": [],
   "source": []
  },
  {
   "cell_type": "code",
   "execution_count": 35,
   "id": "bc45a256",
   "metadata": {
    "execution": {
     "iopub.execute_input": "2023-08-19T18:07:40.886848Z",
     "iopub.status.busy": "2023-08-19T18:07:40.885821Z",
     "iopub.status.idle": "2023-08-19T18:07:40.892819Z",
     "shell.execute_reply": "2023-08-19T18:07:40.891220Z"
    },
    "papermill": {
     "duration": 0.058079,
     "end_time": "2023-08-19T18:07:40.895223",
     "exception": false,
     "start_time": "2023-08-19T18:07:40.837144",
     "status": "completed"
    },
    "tags": []
   },
   "outputs": [
    {
     "name": "stdout",
     "output_type": "stream",
     "text": [
      "anusha\n",
      "yasmin\n",
      "anusha\n",
      "yasmin\n",
      "anusha\n",
      "yasmin\n",
      "anusha\n",
      "yasmin\n",
      "anusha\n",
      "yasmin\n",
      "sharma\n"
     ]
    }
   ],
   "source": [
    "for i in range(5) :\n",
    "    print(\"anusha\")\n",
    "    print(\"yasmin\")\n",
    "    \n",
    "print(\"sharma\")\n"
   ]
  },
  {
   "cell_type": "code",
   "execution_count": 36,
   "id": "7587eb4e",
   "metadata": {
    "execution": {
     "iopub.execute_input": "2023-08-19T18:07:40.992618Z",
     "iopub.status.busy": "2023-08-19T18:07:40.991730Z",
     "iopub.status.idle": "2023-08-19T18:07:40.998283Z",
     "shell.execute_reply": "2023-08-19T18:07:40.996715Z"
    },
    "papermill": {
     "duration": 0.056955,
     "end_time": "2023-08-19T18:07:41.000537",
     "exception": false,
     "start_time": "2023-08-19T18:07:40.943582",
     "status": "completed"
    },
    "tags": []
   },
   "outputs": [
    {
     "name": "stdout",
     "output_type": "stream",
     "text": [
      "0\n",
      "1\n",
      "2\n",
      "3\n",
      "4\n"
     ]
    }
   ],
   "source": [
    "a = range(5)\n",
    "for i in a : \n",
    "    print(i)"
   ]
  },
  {
   "cell_type": "code",
   "execution_count": 37,
   "id": "4ed3a3e8",
   "metadata": {
    "execution": {
     "iopub.execute_input": "2023-08-19T18:07:41.097591Z",
     "iopub.status.busy": "2023-08-19T18:07:41.096416Z",
     "iopub.status.idle": "2023-08-19T18:07:41.103368Z",
     "shell.execute_reply": "2023-08-19T18:07:41.101894Z"
    },
    "papermill": {
     "duration": 0.057845,
     "end_time": "2023-08-19T18:07:41.105404",
     "exception": false,
     "start_time": "2023-08-19T18:07:41.047559",
     "status": "completed"
    },
    "tags": []
   },
   "outputs": [
    {
     "name": "stdout",
     "output_type": "stream",
     "text": [
      "0\n",
      "1\n",
      "2\n",
      "3\n",
      "4\n"
     ]
    }
   ],
   "source": [
    "for i in range(5):\n",
    "    print(i)"
   ]
  },
  {
   "cell_type": "code",
   "execution_count": 38,
   "id": "cc52cdc0",
   "metadata": {
    "execution": {
     "iopub.execute_input": "2023-08-19T18:07:41.204515Z",
     "iopub.status.busy": "2023-08-19T18:07:41.203425Z",
     "iopub.status.idle": "2023-08-19T18:07:41.210122Z",
     "shell.execute_reply": "2023-08-19T18:07:41.208611Z"
    },
    "papermill": {
     "duration": 0.059809,
     "end_time": "2023-08-19T18:07:41.212323",
     "exception": false,
     "start_time": "2023-08-19T18:07:41.152514",
     "status": "completed"
    },
    "tags": []
   },
   "outputs": [
    {
     "name": "stdout",
     "output_type": "stream",
     "text": [
      "0\n",
      "1\n",
      "2\n",
      "3\n",
      "4\n"
     ]
    }
   ],
   "source": [
    "for i in [0,1,2,3,4]:\n",
    "    print(i)"
   ]
  },
  {
   "cell_type": "code",
   "execution_count": 39,
   "id": "d9e133a2",
   "metadata": {
    "execution": {
     "iopub.execute_input": "2023-08-19T18:07:41.308342Z",
     "iopub.status.busy": "2023-08-19T18:07:41.307140Z",
     "iopub.status.idle": "2023-08-19T18:07:41.313441Z",
     "shell.execute_reply": "2023-08-19T18:07:41.312035Z"
    },
    "papermill": {
     "duration": 0.057815,
     "end_time": "2023-08-19T18:07:41.316853",
     "exception": false,
     "start_time": "2023-08-19T18:07:41.259038",
     "status": "completed"
    },
    "tags": []
   },
   "outputs": [
    {
     "name": "stdout",
     "output_type": "stream",
     "text": [
      "3\n",
      "4\n",
      "5\n",
      "6\n",
      "7\n",
      "8\n"
     ]
    }
   ],
   "source": [
    "for i in range(3,9):\n",
    "    print(i)"
   ]
  },
  {
   "cell_type": "code",
   "execution_count": 40,
   "id": "52f848de",
   "metadata": {
    "execution": {
     "iopub.execute_input": "2023-08-19T18:07:41.414458Z",
     "iopub.status.busy": "2023-08-19T18:07:41.413477Z",
     "iopub.status.idle": "2023-08-19T18:07:41.420077Z",
     "shell.execute_reply": "2023-08-19T18:07:41.418641Z"
    },
    "papermill": {
     "duration": 0.058051,
     "end_time": "2023-08-19T18:07:41.422262",
     "exception": false,
     "start_time": "2023-08-19T18:07:41.364211",
     "status": "completed"
    },
    "tags": []
   },
   "outputs": [
    {
     "name": "stdout",
     "output_type": "stream",
     "text": [
      "9\n",
      "11\n",
      "13\n",
      "15\n"
     ]
    }
   ],
   "source": [
    "for i  in range(9,16,2):\n",
    "    print(i)"
   ]
  },
  {
   "cell_type": "code",
   "execution_count": 41,
   "id": "1884cf76",
   "metadata": {
    "execution": {
     "iopub.execute_input": "2023-08-19T18:07:41.520592Z",
     "iopub.status.busy": "2023-08-19T18:07:41.519641Z",
     "iopub.status.idle": "2023-08-19T18:07:41.524781Z",
     "shell.execute_reply": "2023-08-19T18:07:41.523819Z"
    },
    "papermill": {
     "duration": 0.056465,
     "end_time": "2023-08-19T18:07:41.526826",
     "exception": false,
     "start_time": "2023-08-19T18:07:41.470361",
     "status": "completed"
    },
    "tags": []
   },
   "outputs": [],
   "source": [
    "# for ( i = 0 , i < 5 , i ++) \n",
    "#             {\n",
    "\n",
    "#                 print(i)\n",
    "#             }\n",
    "    \n",
    "# print(\"anusha innocent \")"
   ]
  },
  {
   "cell_type": "code",
   "execution_count": 42,
   "id": "8ca70a69",
   "metadata": {
    "execution": {
     "iopub.execute_input": "2023-08-19T18:07:41.622919Z",
     "iopub.status.busy": "2023-08-19T18:07:41.622525Z",
     "iopub.status.idle": "2023-08-19T18:07:41.627846Z",
     "shell.execute_reply": "2023-08-19T18:07:41.626845Z"
    },
    "papermill": {
     "duration": 0.056904,
     "end_time": "2023-08-19T18:07:41.630673",
     "exception": false,
     "start_time": "2023-08-19T18:07:41.573769",
     "status": "completed"
    },
    "tags": []
   },
   "outputs": [
    {
     "name": "stdout",
     "output_type": "stream",
     "text": [
      "10\n",
      "20\n",
      "30\n"
     ]
    }
   ],
   "source": [
    "# step - 1\n",
    "a = [10,20,30]\n",
    "\n",
    "for i in a :\n",
    "    print(i)"
   ]
  },
  {
   "cell_type": "code",
   "execution_count": 43,
   "id": "60b46e0e",
   "metadata": {
    "execution": {
     "iopub.execute_input": "2023-08-19T18:07:41.731760Z",
     "iopub.status.busy": "2023-08-19T18:07:41.731382Z",
     "iopub.status.idle": "2023-08-19T18:07:41.736990Z",
     "shell.execute_reply": "2023-08-19T18:07:41.735975Z"
    },
    "papermill": {
     "duration": 0.060711,
     "end_time": "2023-08-19T18:07:41.739891",
     "exception": false,
     "start_time": "2023-08-19T18:07:41.679180",
     "status": "completed"
    },
    "tags": []
   },
   "outputs": [
    {
     "name": "stdout",
     "output_type": "stream",
     "text": [
      "10\n",
      "20\n",
      "30\n"
     ]
    }
   ],
   "source": [
    "#step - 2\n",
    "a = [10,20,30]\n",
    "for i in range(len(a)) :# 0 1 2\n",
    "    print(a[i])"
   ]
  },
  {
   "cell_type": "code",
   "execution_count": 44,
   "id": "0c674e0b",
   "metadata": {
    "execution": {
     "iopub.execute_input": "2023-08-19T18:07:41.836940Z",
     "iopub.status.busy": "2023-08-19T18:07:41.835881Z",
     "iopub.status.idle": "2023-08-19T18:07:41.845855Z",
     "shell.execute_reply": "2023-08-19T18:07:41.843828Z"
    },
    "papermill": {
     "duration": 0.060631,
     "end_time": "2023-08-19T18:07:41.848164",
     "exception": false,
     "start_time": "2023-08-19T18:07:41.787533",
     "status": "completed"
    },
    "tags": []
   },
   "outputs": [
    {
     "name": "stdout",
     "output_type": "stream",
     "text": [
      "0 0 0\n",
      "0 0 1\n",
      "0 0 0\n",
      "0 0 1\n",
      "0 1 0\n",
      "0 1 1\n",
      "0 1 0\n",
      "0 1 1\n",
      "0 2 0\n",
      "0 2 1\n",
      "0 2 0\n",
      "0 2 1\n",
      "0 0\n",
      "0 1\n",
      "0 2\n",
      "0 3\n",
      "loop is done\n",
      "1 0 0\n",
      "1 0 1\n",
      "1 0 0\n",
      "1 0 1\n",
      "1 1 0\n",
      "1 1 1\n",
      "1 1 0\n",
      "1 1 1\n",
      "1 2 0\n",
      "1 2 1\n",
      "1 2 0\n",
      "1 2 1\n",
      "1 0\n",
      "1 1\n",
      "1 2\n",
      "1 3\n",
      "loop is done\n",
      "2 0 0\n",
      "2 0 1\n",
      "2 0 0\n",
      "2 0 1\n",
      "2 1 0\n",
      "2 1 1\n",
      "2 1 0\n",
      "2 1 1\n",
      "2 2 0\n",
      "2 2 1\n",
      "2 2 0\n",
      "2 2 1\n",
      "2 0\n",
      "2 1\n",
      "2 2\n",
      "2 3\n",
      "loop is done\n",
      "3 0 0\n",
      "3 0 1\n",
      "3 0 0\n",
      "3 0 1\n",
      "3 1 0\n",
      "3 1 1\n",
      "3 1 0\n",
      "3 1 1\n",
      "3 2 0\n",
      "3 2 1\n",
      "3 2 0\n",
      "3 2 1\n",
      "3 0\n",
      "3 1\n",
      "3 2\n",
      "3 3\n",
      "loop is done\n",
      "4 0 0\n",
      "4 0 1\n",
      "4 0 0\n",
      "4 0 1\n",
      "4 1 0\n",
      "4 1 1\n",
      "4 1 0\n",
      "4 1 1\n",
      "4 2 0\n",
      "4 2 1\n",
      "4 2 0\n",
      "4 2 1\n",
      "4 0\n",
      "4 1\n",
      "4 2\n",
      "4 3\n",
      "loop is done\n"
     ]
    }
   ],
   "source": [
    "for i  in range(5): # 1    \n",
    "    for j in range (3): # 1.1\n",
    "        for k in range(2) : # 1.1.1\n",
    "            print(i,j,k)\n",
    "        for l in range(2) : # 1.1.2\n",
    "            print(i,j,l)            \n",
    "    for m in range(4) : # 1.2\n",
    "        print(i,m)\n",
    "    print(\"loop is done\")"
   ]
  },
  {
   "cell_type": "code",
   "execution_count": 45,
   "id": "9a3bcdf8",
   "metadata": {
    "execution": {
     "iopub.execute_input": "2023-08-19T18:07:41.946033Z",
     "iopub.status.busy": "2023-08-19T18:07:41.945628Z",
     "iopub.status.idle": "2023-08-19T18:07:41.950107Z",
     "shell.execute_reply": "2023-08-19T18:07:41.949044Z"
    },
    "papermill": {
     "duration": 0.05604,
     "end_time": "2023-08-19T18:07:41.952265",
     "exception": false,
     "start_time": "2023-08-19T18:07:41.896225",
     "status": "completed"
    },
    "tags": []
   },
   "outputs": [],
   "source": [
    "# * \n",
    "# * * \n",
    "# * * * \n",
    "# * * * * \n",
    "# * * * * * "
   ]
  },
  {
   "cell_type": "code",
   "execution_count": 46,
   "id": "8eace0cf",
   "metadata": {
    "execution": {
     "iopub.execute_input": "2023-08-19T18:07:42.050210Z",
     "iopub.status.busy": "2023-08-19T18:07:42.049249Z",
     "iopub.status.idle": "2023-08-19T18:07:42.056282Z",
     "shell.execute_reply": "2023-08-19T18:07:42.054646Z"
    },
    "papermill": {
     "duration": 0.05838,
     "end_time": "2023-08-19T18:07:42.058548",
     "exception": false,
     "start_time": "2023-08-19T18:07:42.000168",
     "status": "completed"
    },
    "tags": []
   },
   "outputs": [
    {
     "name": "stdout",
     "output_type": "stream",
     "text": [
      "* \n",
      "* * \n",
      "* * * \n",
      "* * * * \n",
      "* * * * * \n"
     ]
    }
   ],
   "source": [
    "for i in range(5) :\n",
    "    print(\"* \" * (int(i)+1))"
   ]
  },
  {
   "cell_type": "code",
   "execution_count": 47,
   "id": "a3aa4f57",
   "metadata": {
    "execution": {
     "iopub.execute_input": "2023-08-19T18:07:42.155124Z",
     "iopub.status.busy": "2023-08-19T18:07:42.154047Z",
     "iopub.status.idle": "2023-08-19T18:07:42.159029Z",
     "shell.execute_reply": "2023-08-19T18:07:42.157952Z"
    },
    "papermill": {
     "duration": 0.054805,
     "end_time": "2023-08-19T18:07:42.161178",
     "exception": false,
     "start_time": "2023-08-19T18:07:42.106373",
     "status": "completed"
    },
    "tags": []
   },
   "outputs": [],
   "source": [
    "# *\n",
    "# **\n",
    "# ***\n",
    "# ****\n",
    "# *****\n",
    "\n",
    "# *****\n",
    "# ****\n",
    "# ***\n",
    "# **\n",
    "# *"
   ]
  },
  {
   "cell_type": "code",
   "execution_count": 48,
   "id": "ff5a41e5",
   "metadata": {
    "execution": {
     "iopub.execute_input": "2023-08-19T18:07:42.259529Z",
     "iopub.status.busy": "2023-08-19T18:07:42.258583Z",
     "iopub.status.idle": "2023-08-19T18:07:42.265531Z",
     "shell.execute_reply": "2023-08-19T18:07:42.264364Z"
    },
    "papermill": {
     "duration": 0.057238,
     "end_time": "2023-08-19T18:07:42.267675",
     "exception": false,
     "start_time": "2023-08-19T18:07:42.210437",
     "status": "completed"
    },
    "tags": []
   },
   "outputs": [
    {
     "name": "stdout",
     "output_type": "stream",
     "text": [
      "*\n",
      "**\n",
      "***\n",
      "****\n",
      "*****\n",
      "*****\n",
      "****\n",
      "***\n",
      "**\n",
      "*\n"
     ]
    }
   ],
   "source": [
    "for i in range(5) :\n",
    "    print(\"*\" * (int(i)+1))\n",
    "for i in range(5) :\n",
    "    print(\"*\" * (5 - int(i)))"
   ]
  },
  {
   "cell_type": "code",
   "execution_count": 49,
   "id": "09c56734",
   "metadata": {
    "execution": {
     "iopub.execute_input": "2023-08-19T18:07:42.366028Z",
     "iopub.status.busy": "2023-08-19T18:07:42.365293Z",
     "iopub.status.idle": "2023-08-19T18:07:42.369972Z",
     "shell.execute_reply": "2023-08-19T18:07:42.368980Z"
    },
    "papermill": {
     "duration": 0.056393,
     "end_time": "2023-08-19T18:07:42.372056",
     "exception": false,
     "start_time": "2023-08-19T18:07:42.315663",
     "status": "completed"
    },
    "tags": []
   },
   "outputs": [],
   "source": [
    "if 10 < 5 :\n",
    "    print(\"yes\")"
   ]
  },
  {
   "cell_type": "code",
   "execution_count": 50,
   "id": "601854a8",
   "metadata": {
    "execution": {
     "iopub.execute_input": "2023-08-19T18:07:42.469341Z",
     "iopub.status.busy": "2023-08-19T18:07:42.468980Z",
     "iopub.status.idle": "2023-08-19T18:07:42.474329Z",
     "shell.execute_reply": "2023-08-19T18:07:42.473344Z"
    },
    "papermill": {
     "duration": 0.057317,
     "end_time": "2023-08-19T18:07:42.477198",
     "exception": false,
     "start_time": "2023-08-19T18:07:42.419881",
     "status": "completed"
    },
    "tags": []
   },
   "outputs": [
    {
     "name": "stdout",
     "output_type": "stream",
     "text": [
      "no\n"
     ]
    }
   ],
   "source": [
    "if 10 < 5 :\n",
    "    print(\"yes\")\n",
    "else :\n",
    "    print(\"no\")"
   ]
  },
  {
   "cell_type": "code",
   "execution_count": 51,
   "id": "885f1dde",
   "metadata": {
    "execution": {
     "iopub.execute_input": "2023-08-19T18:07:42.575252Z",
     "iopub.status.busy": "2023-08-19T18:07:42.574842Z",
     "iopub.status.idle": "2023-08-19T18:07:42.580948Z",
     "shell.execute_reply": "2023-08-19T18:07:42.579938Z"
    },
    "papermill": {
     "duration": 0.058119,
     "end_time": "2023-08-19T18:07:42.583896",
     "exception": false,
     "start_time": "2023-08-19T18:07:42.525777",
     "status": "completed"
    },
    "tags": []
   },
   "outputs": [
    {
     "name": "stdout",
     "output_type": "stream",
     "text": [
      "passed\n"
     ]
    }
   ],
   "source": [
    "marks = 30\n",
    "\n",
    "if marks > 95 :\n",
    "    print(\"distinction\")\n",
    "    \n",
    "elif marks > 75 :\n",
    "    print(\"firstgrade\")\n",
    "elif marks > 50 :\n",
    "    print(\"secondgrade\")\n",
    "    \n",
    "else :\n",
    "    print(\"passed\")"
   ]
  },
  {
   "cell_type": "markdown",
   "id": "91402dae",
   "metadata": {
    "papermill": {
     "duration": 0.047918,
     "end_time": "2023-08-19T18:07:42.679441",
     "exception": false,
     "start_time": "2023-08-19T18:07:42.631523",
     "status": "completed"
    },
    "tags": []
   },
   "source": []
  },
  {
   "cell_type": "code",
   "execution_count": 52,
   "id": "6b5f86c8",
   "metadata": {
    "execution": {
     "iopub.execute_input": "2023-08-19T18:07:42.777118Z",
     "iopub.status.busy": "2023-08-19T18:07:42.776136Z",
     "iopub.status.idle": "2023-08-19T18:07:42.782472Z",
     "shell.execute_reply": "2023-08-19T18:07:42.781448Z"
    },
    "papermill": {
     "duration": 0.057242,
     "end_time": "2023-08-19T18:07:42.784731",
     "exception": false,
     "start_time": "2023-08-19T18:07:42.727489",
     "status": "completed"
    },
    "tags": []
   },
   "outputs": [
    {
     "name": "stdout",
     "output_type": "stream",
     "text": [
      "10\n",
      "9\n",
      "8\n",
      "7\n",
      "6\n"
     ]
    }
   ],
   "source": [
    "a  = 10 \n",
    "\n",
    "while a > 5 : # true 9\n",
    "    print(a) \n",
    "    a = a -  1"
   ]
  },
  {
   "cell_type": "code",
   "execution_count": 53,
   "id": "e86ff9f2",
   "metadata": {
    "execution": {
     "iopub.execute_input": "2023-08-19T18:07:42.883048Z",
     "iopub.status.busy": "2023-08-19T18:07:42.882634Z",
     "iopub.status.idle": "2023-08-19T18:07:42.887439Z",
     "shell.execute_reply": "2023-08-19T18:07:42.886399Z"
    },
    "papermill": {
     "duration": 0.056381,
     "end_time": "2023-08-19T18:07:42.889712",
     "exception": false,
     "start_time": "2023-08-19T18:07:42.833331",
     "status": "completed"
    },
    "tags": []
   },
   "outputs": [],
   "source": [
    "# * * * * *\n",
    "# * * * * \n",
    "# * * * \n",
    "# * * \n",
    "# *"
   ]
  },
  {
   "cell_type": "code",
   "execution_count": 54,
   "id": "298b968f",
   "metadata": {
    "execution": {
     "iopub.execute_input": "2023-08-19T18:07:42.986440Z",
     "iopub.status.busy": "2023-08-19T18:07:42.986072Z",
     "iopub.status.idle": "2023-08-19T18:07:42.991651Z",
     "shell.execute_reply": "2023-08-19T18:07:42.990669Z"
    },
    "papermill": {
     "duration": 0.056902,
     "end_time": "2023-08-19T18:07:42.994544",
     "exception": false,
     "start_time": "2023-08-19T18:07:42.937642",
     "status": "completed"
    },
    "tags": []
   },
   "outputs": [
    {
     "name": "stdout",
     "output_type": "stream",
     "text": [
      "* * * * * \n",
      "* * * * \n",
      "* * * \n",
      "* * \n",
      "* \n"
     ]
    }
   ],
   "source": [
    "for i in range(5) :\n",
    "    print(\"* \" * (5-i))"
   ]
  },
  {
   "cell_type": "code",
   "execution_count": 55,
   "id": "323f8f43",
   "metadata": {
    "execution": {
     "iopub.execute_input": "2023-08-19T18:07:43.099572Z",
     "iopub.status.busy": "2023-08-19T18:07:43.097872Z",
     "iopub.status.idle": "2023-08-19T18:07:43.106815Z",
     "shell.execute_reply": "2023-08-19T18:07:43.105805Z"
    },
    "papermill": {
     "duration": 0.066845,
     "end_time": "2023-08-19T18:07:43.108967",
     "exception": false,
     "start_time": "2023-08-19T18:07:43.042122",
     "status": "completed"
    },
    "tags": []
   },
   "outputs": [],
   "source": [
    "# *\n",
    "# **\n",
    "# ***\n",
    "# ****\n",
    "# *****"
   ]
  },
  {
   "cell_type": "code",
   "execution_count": 56,
   "id": "fad24cd1",
   "metadata": {
    "execution": {
     "iopub.execute_input": "2023-08-19T18:07:43.206384Z",
     "iopub.status.busy": "2023-08-19T18:07:43.205877Z",
     "iopub.status.idle": "2023-08-19T18:07:43.211225Z",
     "shell.execute_reply": "2023-08-19T18:07:43.210281Z"
    },
    "papermill": {
     "duration": 0.058328,
     "end_time": "2023-08-19T18:07:43.214537",
     "exception": false,
     "start_time": "2023-08-19T18:07:43.156209",
     "status": "completed"
    },
    "tags": []
   },
   "outputs": [
    {
     "name": "stdout",
     "output_type": "stream",
     "text": [
      "*\n",
      "**\n",
      "***\n",
      "****\n",
      "*****\n"
     ]
    }
   ],
   "source": [
    "for i in range(5) :\n",
    "    print(\"*\" * (int(i)+1))"
   ]
  },
  {
   "cell_type": "code",
   "execution_count": 57,
   "id": "8c6d25a0",
   "metadata": {
    "execution": {
     "iopub.execute_input": "2023-08-19T18:07:43.320703Z",
     "iopub.status.busy": "2023-08-19T18:07:43.320234Z",
     "iopub.status.idle": "2023-08-19T18:07:43.327403Z",
     "shell.execute_reply": "2023-08-19T18:07:43.326307Z"
    },
    "papermill": {
     "duration": 0.070804,
     "end_time": "2023-08-19T18:07:43.331598",
     "exception": false,
     "start_time": "2023-08-19T18:07:43.260794",
     "status": "completed"
    },
    "tags": []
   },
   "outputs": [],
   "source": [
    "#         *\n",
    "#       **\n",
    "#     ***\n",
    "#   ****\n",
    "# *****"
   ]
  },
  {
   "cell_type": "code",
   "execution_count": 58,
   "id": "67924ef0",
   "metadata": {
    "execution": {
     "iopub.execute_input": "2023-08-19T18:07:43.466262Z",
     "iopub.status.busy": "2023-08-19T18:07:43.465868Z",
     "iopub.status.idle": "2023-08-19T18:07:43.471580Z",
     "shell.execute_reply": "2023-08-19T18:07:43.470621Z"
    },
    "papermill": {
     "duration": 0.05674,
     "end_time": "2023-08-19T18:07:43.474369",
     "exception": false,
     "start_time": "2023-08-19T18:07:43.417629",
     "status": "completed"
    },
    "tags": []
   },
   "outputs": [
    {
     "name": "stdout",
     "output_type": "stream",
     "text": [
      "           *\n",
      "         **\n",
      "       ***\n",
      "     ****\n",
      "   *****\n"
     ]
    }
   ],
   "source": [
    "for i in range(5) :\n",
    "    print(\" \"* ((5-i)*2),\"*\" * (int(i)+1))"
   ]
  },
  {
   "cell_type": "code",
   "execution_count": 59,
   "id": "1fd72f03",
   "metadata": {
    "execution": {
     "iopub.execute_input": "2023-08-19T18:07:43.570845Z",
     "iopub.status.busy": "2023-08-19T18:07:43.569876Z",
     "iopub.status.idle": "2023-08-19T18:07:43.575506Z",
     "shell.execute_reply": "2023-08-19T18:07:43.574572Z"
    },
    "papermill": {
     "duration": 0.056983,
     "end_time": "2023-08-19T18:07:43.578111",
     "exception": false,
     "start_time": "2023-08-19T18:07:43.521128",
     "status": "completed"
    },
    "tags": []
   },
   "outputs": [
    {
     "name": "stdout",
     "output_type": "stream",
     "text": [
      "* * * * * \n",
      "* * * * \n",
      "* * * \n",
      "* * \n",
      "* * * \n"
     ]
    }
   ],
   "source": [
    "for i in range(4):\n",
    "    print(\"* \" * (5-i))\n",
    "print(\"* \"* 3)"
   ]
  },
  {
   "cell_type": "code",
   "execution_count": 60,
   "id": "b68cbb4e",
   "metadata": {
    "execution": {
     "iopub.execute_input": "2023-08-19T18:07:43.676031Z",
     "iopub.status.busy": "2023-08-19T18:07:43.675126Z",
     "iopub.status.idle": "2023-08-19T18:07:43.679989Z",
     "shell.execute_reply": "2023-08-19T18:07:43.679036Z"
    },
    "papermill": {
     "duration": 0.056311,
     "end_time": "2023-08-19T18:07:43.682134",
     "exception": false,
     "start_time": "2023-08-19T18:07:43.625823",
     "status": "completed"
    },
    "tags": []
   },
   "outputs": [],
   "source": [
    "#     * \n",
    "#    **\n",
    "#   ***\n",
    "#  ****\n",
    "# *****"
   ]
  },
  {
   "cell_type": "code",
   "execution_count": 61,
   "id": "ac35fc80",
   "metadata": {
    "execution": {
     "iopub.execute_input": "2023-08-19T18:07:43.779319Z",
     "iopub.status.busy": "2023-08-19T18:07:43.778374Z",
     "iopub.status.idle": "2023-08-19T18:07:43.785272Z",
     "shell.execute_reply": "2023-08-19T18:07:43.783836Z"
    },
    "papermill": {
     "duration": 0.057578,
     "end_time": "2023-08-19T18:07:43.787590",
     "exception": false,
     "start_time": "2023-08-19T18:07:43.730012",
     "status": "completed"
    },
    "tags": []
   },
   "outputs": [
    {
     "name": "stdout",
     "output_type": "stream",
     "text": [
      "     *\n",
      "    **\n",
      "   ***\n",
      "  ****\n",
      " *****\n"
     ]
    }
   ],
   "source": [
    "for i in range(5):\n",
    "    print(\" \"* (4-int(i)),\"*\" * (i+1))"
   ]
  },
  {
   "cell_type": "code",
   "execution_count": 62,
   "id": "aaae966e",
   "metadata": {
    "execution": {
     "iopub.execute_input": "2023-08-19T18:07:43.883698Z",
     "iopub.status.busy": "2023-08-19T18:07:43.882748Z",
     "iopub.status.idle": "2023-08-19T18:07:43.887788Z",
     "shell.execute_reply": "2023-08-19T18:07:43.886804Z"
    },
    "papermill": {
     "duration": 0.054685,
     "end_time": "2023-08-19T18:07:43.889881",
     "exception": false,
     "start_time": "2023-08-19T18:07:43.835196",
     "status": "completed"
    },
    "tags": []
   },
   "outputs": [],
   "source": [
    "#        * \n",
    "#       * * \n",
    "#      * * * \n",
    "#     * * * * \n",
    "#    * * * * *"
   ]
  },
  {
   "cell_type": "code",
   "execution_count": 63,
   "id": "84c3738e",
   "metadata": {
    "execution": {
     "iopub.execute_input": "2023-08-19T18:07:43.988227Z",
     "iopub.status.busy": "2023-08-19T18:07:43.987189Z",
     "iopub.status.idle": "2023-08-19T18:07:43.994083Z",
     "shell.execute_reply": "2023-08-19T18:07:43.992694Z"
    },
    "papermill": {
     "duration": 0.057363,
     "end_time": "2023-08-19T18:07:43.996112",
     "exception": false,
     "start_time": "2023-08-19T18:07:43.938749",
     "status": "completed"
    },
    "tags": []
   },
   "outputs": [
    {
     "name": "stdout",
     "output_type": "stream",
     "text": [
      "        * \n",
      "       * * \n",
      "      * * * \n",
      "     * * * * \n",
      "    * * * * * \n"
     ]
    }
   ],
   "source": [
    "for i in range(5) :\n",
    "    print(\" \" * (7-int(i)),\"* \" * (int(i) + 1))"
   ]
  },
  {
   "cell_type": "code",
   "execution_count": 64,
   "id": "5e60a34f",
   "metadata": {
    "execution": {
     "iopub.execute_input": "2023-08-19T18:07:44.092088Z",
     "iopub.status.busy": "2023-08-19T18:07:44.091143Z",
     "iopub.status.idle": "2023-08-19T18:07:44.096005Z",
     "shell.execute_reply": "2023-08-19T18:07:44.095043Z"
    },
    "papermill": {
     "duration": 0.054981,
     "end_time": "2023-08-19T18:07:44.098178",
     "exception": false,
     "start_time": "2023-08-19T18:07:44.043197",
     "status": "completed"
    },
    "tags": []
   },
   "outputs": [],
   "source": [
    "#  * * * * *     \n",
    "#  * * * * * \n",
    "#   * * * * \n",
    "#    * * * \n",
    "#     * * \n",
    "#      * "
   ]
  },
  {
   "cell_type": "code",
   "execution_count": 65,
   "id": "31ee3da0",
   "metadata": {
    "execution": {
     "iopub.execute_input": "2023-08-19T18:07:44.197288Z",
     "iopub.status.busy": "2023-08-19T18:07:44.196875Z",
     "iopub.status.idle": "2023-08-19T18:07:44.202334Z",
     "shell.execute_reply": "2023-08-19T18:07:44.201386Z"
    },
    "papermill": {
     "duration": 0.059386,
     "end_time": "2023-08-19T18:07:44.205333",
     "exception": false,
     "start_time": "2023-08-19T18:07:44.145947",
     "status": "completed"
    },
    "tags": []
   },
   "outputs": [
    {
     "name": "stdout",
     "output_type": "stream",
     "text": [
      "  * * * * * \n",
      "  * * * * * \n",
      "   * * * * \n",
      "    * * * \n",
      "     * * \n",
      "      * \n"
     ]
    }
   ],
   "source": [
    "print(\" \",\"* \"* 5)\n",
    "for i in range(5) :\n",
    "    print(\" \"* (int(i) +1),\"* \"* (5- int(i)))"
   ]
  },
  {
   "cell_type": "code",
   "execution_count": 66,
   "id": "7b883380",
   "metadata": {
    "execution": {
     "iopub.execute_input": "2023-08-19T18:07:44.302551Z",
     "iopub.status.busy": "2023-08-19T18:07:44.301855Z",
     "iopub.status.idle": "2023-08-19T18:07:44.307328Z",
     "shell.execute_reply": "2023-08-19T18:07:44.306393Z"
    },
    "papermill": {
     "duration": 0.056774,
     "end_time": "2023-08-19T18:07:44.309992",
     "exception": false,
     "start_time": "2023-08-19T18:07:44.253218",
     "status": "completed"
    },
    "tags": []
   },
   "outputs": [
    {
     "name": "stdout",
     "output_type": "stream",
     "text": [
      "10\n",
      "9\n"
     ]
    }
   ],
   "source": [
    "a = 10\n",
    "\n",
    "while a > 1 :\n",
    "    print(a)\n",
    "    if a == 9 :\n",
    "        break\n",
    "    a = a - 1"
   ]
  },
  {
   "cell_type": "code",
   "execution_count": 67,
   "id": "164a9529",
   "metadata": {
    "execution": {
     "iopub.execute_input": "2023-08-19T18:07:44.409389Z",
     "iopub.status.busy": "2023-08-19T18:07:44.407308Z",
     "iopub.status.idle": "2023-08-19T18:07:44.412884Z",
     "shell.execute_reply": "2023-08-19T18:07:44.411891Z"
    },
    "papermill": {
     "duration": 0.057064,
     "end_time": "2023-08-19T18:07:44.415097",
     "exception": false,
     "start_time": "2023-08-19T18:07:44.358033",
     "status": "completed"
    },
    "tags": []
   },
   "outputs": [],
   "source": [
    "# day - 3"
   ]
  },
  {
   "cell_type": "code",
   "execution_count": 68,
   "id": "a4733476",
   "metadata": {
    "execution": {
     "iopub.execute_input": "2023-08-19T18:07:44.514290Z",
     "iopub.status.busy": "2023-08-19T18:07:44.513382Z",
     "iopub.status.idle": "2023-08-19T18:07:44.520229Z",
     "shell.execute_reply": "2023-08-19T18:07:44.518819Z"
    },
    "papermill": {
     "duration": 0.05894,
     "end_time": "2023-08-19T18:07:44.522386",
     "exception": false,
     "start_time": "2023-08-19T18:07:44.463446",
     "status": "completed"
    },
    "tags": []
   },
   "outputs": [
    {
     "name": "stdout",
     "output_type": "stream",
     "text": [
      "        * \n",
      "       * * \n",
      "      * * * \n",
      "     * * * * \n",
      "    * * * * * \n"
     ]
    }
   ],
   "source": [
    "for i  in range(5) :\n",
    "    print(\" \" * (7 - int(i)), \"* \" * (int(i) + 1))"
   ]
  },
  {
   "cell_type": "code",
   "execution_count": 69,
   "id": "5bc75b16",
   "metadata": {
    "execution": {
     "iopub.execute_input": "2023-08-19T18:07:44.620451Z",
     "iopub.status.busy": "2023-08-19T18:07:44.619455Z",
     "iopub.status.idle": "2023-08-19T18:07:44.624365Z",
     "shell.execute_reply": "2023-08-19T18:07:44.623416Z"
    },
    "papermill": {
     "duration": 0.056041,
     "end_time": "2023-08-19T18:07:44.626400",
     "exception": false,
     "start_time": "2023-08-19T18:07:44.570359",
     "status": "completed"
    },
    "tags": []
   },
   "outputs": [],
   "source": [
    "#         * \n",
    "#        * *      \n",
    "#       * * * \n",
    "#      * * * * \n",
    "#     * * * * *"
   ]
  },
  {
   "cell_type": "code",
   "execution_count": 70,
   "id": "26803876",
   "metadata": {
    "execution": {
     "iopub.execute_input": "2023-08-19T18:07:44.724830Z",
     "iopub.status.busy": "2023-08-19T18:07:44.723775Z",
     "iopub.status.idle": "2023-08-19T18:07:44.728633Z",
     "shell.execute_reply": "2023-08-19T18:07:44.727650Z"
    },
    "papermill": {
     "duration": 0.055606,
     "end_time": "2023-08-19T18:07:44.730750",
     "exception": false,
     "start_time": "2023-08-19T18:07:44.675144",
     "status": "completed"
    },
    "tags": []
   },
   "outputs": [],
   "source": [
    "# 1\n",
    "# 2 2\n",
    "# 3 3 3\n",
    "# 4 4 4 4\n",
    "# 5 5 5 5 5"
   ]
  },
  {
   "cell_type": "code",
   "execution_count": 71,
   "id": "b073f477",
   "metadata": {
    "execution": {
     "iopub.execute_input": "2023-08-19T18:07:44.828188Z",
     "iopub.status.busy": "2023-08-19T18:07:44.827249Z",
     "iopub.status.idle": "2023-08-19T18:07:44.833285Z",
     "shell.execute_reply": "2023-08-19T18:07:44.832297Z"
    },
    "papermill": {
     "duration": 0.057918,
     "end_time": "2023-08-19T18:07:44.835878",
     "exception": false,
     "start_time": "2023-08-19T18:07:44.777960",
     "status": "completed"
    },
    "tags": []
   },
   "outputs": [
    {
     "name": "stdout",
     "output_type": "stream",
     "text": [
      "1 \n",
      "2 2 \n",
      "3 3 3 \n",
      "4 4 4 4 \n",
      "5 5 5 5 5 \n"
     ]
    }
   ],
   "source": [
    "for i in range(5) :\n",
    "    print((str(i+1)+ \" \") * (int(i)+1))"
   ]
  },
  {
   "cell_type": "code",
   "execution_count": 72,
   "id": "790e8a98",
   "metadata": {
    "execution": {
     "iopub.execute_input": "2023-08-19T18:07:44.935563Z",
     "iopub.status.busy": "2023-08-19T18:07:44.933536Z",
     "iopub.status.idle": "2023-08-19T18:07:44.938970Z",
     "shell.execute_reply": "2023-08-19T18:07:44.937965Z"
    },
    "papermill": {
     "duration": 0.05801,
     "end_time": "2023-08-19T18:07:44.941120",
     "exception": false,
     "start_time": "2023-08-19T18:07:44.883110",
     "status": "completed"
    },
    "tags": []
   },
   "outputs": [],
   "source": [
    "# a\n",
    "# b b\n",
    "# c c c\n",
    "# d d d d\n",
    "# # e e e e e\n"
   ]
  },
  {
   "cell_type": "code",
   "execution_count": 73,
   "id": "4ca53c8e",
   "metadata": {
    "execution": {
     "iopub.execute_input": "2023-08-19T18:07:45.038446Z",
     "iopub.status.busy": "2023-08-19T18:07:45.037556Z",
     "iopub.status.idle": "2023-08-19T18:07:45.044427Z",
     "shell.execute_reply": "2023-08-19T18:07:45.043058Z"
    },
    "papermill": {
     "duration": 0.058191,
     "end_time": "2023-08-19T18:07:45.046481",
     "exception": false,
     "start_time": "2023-08-19T18:07:44.988290",
     "status": "completed"
    },
    "tags": []
   },
   "outputs": [
    {
     "name": "stdout",
     "output_type": "stream",
     "text": [
      "a \n",
      "b b \n",
      "c c c \n",
      "d d d d \n",
      "e e e e e \n"
     ]
    }
   ],
   "source": [
    "anbhu = [\"a\",\"b\",\"c\",\"d\",\"e\"]\n",
    "for i in range(5) :\n",
    "    print((anbhu[i]+\" \") * (int(i)+1))"
   ]
  },
  {
   "cell_type": "code",
   "execution_count": 74,
   "id": "e97ecda8",
   "metadata": {
    "execution": {
     "iopub.execute_input": "2023-08-19T18:07:45.144447Z",
     "iopub.status.busy": "2023-08-19T18:07:45.143270Z",
     "iopub.status.idle": "2023-08-19T18:07:45.150312Z",
     "shell.execute_reply": "2023-08-19T18:07:45.148989Z"
    },
    "papermill": {
     "duration": 0.057768,
     "end_time": "2023-08-19T18:07:45.152469",
     "exception": false,
     "start_time": "2023-08-19T18:07:45.094701",
     "status": "completed"
    },
    "tags": []
   },
   "outputs": [
    {
     "name": "stdout",
     "output_type": "stream",
     "text": [
      "         *\n",
      "       **\n",
      "     ***\n",
      "   ****\n",
      " *****\n"
     ]
    }
   ],
   "source": [
    "for i in range(5) :\n",
    "    print(\" \" * (2* (4-int(i))), \"*\" * (int(i) + 1) )"
   ]
  },
  {
   "cell_type": "code",
   "execution_count": 75,
   "id": "4680ee0d",
   "metadata": {
    "execution": {
     "iopub.execute_input": "2023-08-19T18:07:45.253140Z",
     "iopub.status.busy": "2023-08-19T18:07:45.252748Z",
     "iopub.status.idle": "2023-08-19T18:07:45.257304Z",
     "shell.execute_reply": "2023-08-19T18:07:45.256338Z"
    },
    "papermill": {
     "duration": 0.057297,
     "end_time": "2023-08-19T18:07:45.259383",
     "exception": false,
     "start_time": "2023-08-19T18:07:45.202086",
     "status": "completed"
    },
    "tags": []
   },
   "outputs": [],
   "source": [
    "# * * * * * \n",
    "# * * * * * \n",
    "#  * * * * \n",
    "#   * * * \n",
    "#    * * \n",
    "#     * "
   ]
  },
  {
   "cell_type": "code",
   "execution_count": 76,
   "id": "c823f48c",
   "metadata": {
    "execution": {
     "iopub.execute_input": "2023-08-19T18:07:45.358092Z",
     "iopub.status.busy": "2023-08-19T18:07:45.357702Z",
     "iopub.status.idle": "2023-08-19T18:07:45.363409Z",
     "shell.execute_reply": "2023-08-19T18:07:45.362481Z"
    },
    "papermill": {
     "duration": 0.059324,
     "end_time": "2023-08-19T18:07:45.366388",
     "exception": false,
     "start_time": "2023-08-19T18:07:45.307064",
     "status": "completed"
    },
    "tags": []
   },
   "outputs": [
    {
     "name": "stdout",
     "output_type": "stream",
     "text": [
      " * * * * *\n",
      " * * * * * \n",
      "  * * * * \n",
      "   * * * \n",
      "    * * \n",
      "     * \n"
     ]
    }
   ],
   "source": [
    "print(\" *\"* 5)\n",
    "for i in range(5) :\n",
    "    print(\" \" * i, \"* \" * (5- int(i)))"
   ]
  },
  {
   "cell_type": "code",
   "execution_count": 77,
   "id": "1db044dd",
   "metadata": {
    "execution": {
     "iopub.execute_input": "2023-08-19T18:07:45.466358Z",
     "iopub.status.busy": "2023-08-19T18:07:45.465354Z",
     "iopub.status.idle": "2023-08-19T18:07:45.470341Z",
     "shell.execute_reply": "2023-08-19T18:07:45.469394Z"
    },
    "papermill": {
     "duration": 0.057411,
     "end_time": "2023-08-19T18:07:45.472521",
     "exception": false,
     "start_time": "2023-08-19T18:07:45.415110",
     "status": "completed"
    },
    "tags": []
   },
   "outputs": [],
   "source": [
    "# 5 5 5 5 5 \n",
    "\n",
    "# 5 5 5 5 \n",
    "\n",
    "# 5 5 5 \n",
    "\n",
    "# 5 5 \n",
    "\n",
    "# 5"
   ]
  },
  {
   "cell_type": "code",
   "execution_count": 78,
   "id": "93ee6257",
   "metadata": {
    "execution": {
     "iopub.execute_input": "2023-08-19T18:07:45.571342Z",
     "iopub.status.busy": "2023-08-19T18:07:45.570969Z",
     "iopub.status.idle": "2023-08-19T18:07:45.576507Z",
     "shell.execute_reply": "2023-08-19T18:07:45.575517Z"
    },
    "papermill": {
     "duration": 0.058228,
     "end_time": "2023-08-19T18:07:45.579164",
     "exception": false,
     "start_time": "2023-08-19T18:07:45.520936",
     "status": "completed"
    },
    "tags": []
   },
   "outputs": [
    {
     "name": "stdout",
     "output_type": "stream",
     "text": [
      "5 5 5 5 5 \n",
      "5 5 5 5 \n",
      "5 5 5 \n",
      "5 5 \n",
      "5 \n"
     ]
    }
   ],
   "source": [
    "for i in range(5) :\n",
    "    print(\"5 \" *( 5 - int(i)))"
   ]
  },
  {
   "cell_type": "code",
   "execution_count": 79,
   "id": "093dba48",
   "metadata": {
    "execution": {
     "iopub.execute_input": "2023-08-19T18:07:45.678470Z",
     "iopub.status.busy": "2023-08-19T18:07:45.678087Z",
     "iopub.status.idle": "2023-08-19T18:07:45.684001Z",
     "shell.execute_reply": "2023-08-19T18:07:45.683038Z"
    },
    "papermill": {
     "duration": 0.059229,
     "end_time": "2023-08-19T18:07:45.686997",
     "exception": false,
     "start_time": "2023-08-19T18:07:45.627768",
     "status": "completed"
    },
    "tags": []
   },
   "outputs": [
    {
     "name": "stdout",
     "output_type": "stream",
     "text": [
      "asha  is unqualified \n"
     ]
    }
   ],
   "source": [
    "m1 = 80\n",
    "m2 = 80\n",
    "name = \"asha\"\n",
    "\n",
    "if m1 > 85 and m2 > 85 :\n",
    "    print(name , \"is qualified\")\n",
    "else :\n",
    "    print(name , \" is unqualified \")"
   ]
  },
  {
   "cell_type": "code",
   "execution_count": 80,
   "id": "cac1f7ad",
   "metadata": {
    "execution": {
     "iopub.execute_input": "2023-08-19T18:07:45.786514Z",
     "iopub.status.busy": "2023-08-19T18:07:45.786137Z",
     "iopub.status.idle": "2023-08-19T18:07:45.791184Z",
     "shell.execute_reply": "2023-08-19T18:07:45.790071Z"
    },
    "papermill": {
     "duration": 0.057062,
     "end_time": "2023-08-19T18:07:45.793292",
     "exception": false,
     "start_time": "2023-08-19T18:07:45.736230",
     "status": "completed"
    },
    "tags": []
   },
   "outputs": [],
   "source": [
    "\n",
    "# print(\"start\")\n",
    "\n",
    "# m1 = int(input(\"enter m1 marks\"))\n",
    "# print(\"m1 done\")\n",
    "# m2 = int(input(\"enter m2 marks\"))\n",
    "# name = input()\n",
    "\n",
    "# if m1 > 85 and m2 > 85 :\n",
    "#     print(name , \"is qualified\")\n",
    "# else :\n",
    "#     print(name , \" is unqualified \")"
   ]
  },
  {
   "cell_type": "code",
   "execution_count": 81,
   "id": "475f5a63",
   "metadata": {
    "execution": {
     "iopub.execute_input": "2023-08-19T18:07:45.895754Z",
     "iopub.status.busy": "2023-08-19T18:07:45.894745Z",
     "iopub.status.idle": "2023-08-19T18:07:45.902028Z",
     "shell.execute_reply": "2023-08-19T18:07:45.900594Z"
    },
    "papermill": {
     "duration": 0.060671,
     "end_time": "2023-08-19T18:07:45.904193",
     "exception": false,
     "start_time": "2023-08-19T18:07:45.843522",
     "status": "completed"
    },
    "tags": []
   },
   "outputs": [
    {
     "name": "stdout",
     "output_type": "stream",
     "text": [
      "sharma is qualified\n"
     ]
    }
   ],
   "source": [
    "m1 = 90\n",
    "m2 = 95\n",
    "name = \"sharma\"\n",
    "\n",
    "if m1 > 85 and m2 > 85 :\n",
    "    print(name , \"is qualified\")\n",
    "else :\n",
    "    print(name , \" is unqualified \")"
   ]
  },
  {
   "cell_type": "code",
   "execution_count": 82,
   "id": "b5ca8581",
   "metadata": {
    "execution": {
     "iopub.execute_input": "2023-08-19T18:07:46.004773Z",
     "iopub.status.busy": "2023-08-19T18:07:46.004387Z",
     "iopub.status.idle": "2023-08-19T18:07:46.011039Z",
     "shell.execute_reply": "2023-08-19T18:07:46.010077Z"
    },
    "papermill": {
     "duration": 0.059573,
     "end_time": "2023-08-19T18:07:46.013753",
     "exception": false,
     "start_time": "2023-08-19T18:07:45.954180",
     "status": "completed"
    },
    "tags": []
   },
   "outputs": [
    {
     "name": "stdout",
     "output_type": "stream",
     "text": [
      "student is qualified\n"
     ]
    }
   ],
   "source": [
    "# write a functin to check \n",
    "def check (m1= 0,m2 = 0,name = \"student\"):\n",
    "    \"\"\"\n",
    "    this is written by @mlv prasad\n",
    "    \"\"\"\n",
    "     \n",
    "    if m1 > 85 and m2 > 85 : # check marks\n",
    "        print(name , \"is qualified\")\n",
    "    else :\n",
    "        print(name, \"no qualified \")\n",
    "\n",
    "\n",
    "check(m1 =  90, m2  = 95)   \n",
    "\n"
   ]
  },
  {
   "cell_type": "code",
   "execution_count": 83,
   "id": "65965700",
   "metadata": {
    "execution": {
     "iopub.execute_input": "2023-08-19T18:07:46.113424Z",
     "iopub.status.busy": "2023-08-19T18:07:46.112530Z",
     "iopub.status.idle": "2023-08-19T18:07:46.117240Z",
     "shell.execute_reply": "2023-08-19T18:07:46.116265Z"
    },
    "papermill": {
     "duration": 0.056962,
     "end_time": "2023-08-19T18:07:46.119417",
     "exception": false,
     "start_time": "2023-08-19T18:07:46.062455",
     "status": "completed"
    },
    "tags": []
   },
   "outputs": [],
   "source": [
    "# yasmin\n",
    "# asha\n",
    "# sharma\n",
    "# anusha\n",
    "\n",
    "\n"
   ]
  },
  {
   "cell_type": "code",
   "execution_count": 84,
   "id": "436d473c",
   "metadata": {
    "execution": {
     "iopub.execute_input": "2023-08-19T18:07:46.218977Z",
     "iopub.status.busy": "2023-08-19T18:07:46.218599Z",
     "iopub.status.idle": "2023-08-19T18:07:46.224585Z",
     "shell.execute_reply": "2023-08-19T18:07:46.223712Z"
    },
    "papermill": {
     "duration": 0.059138,
     "end_time": "2023-08-19T18:07:46.226553",
     "exception": false,
     "start_time": "2023-08-19T18:07:46.167415",
     "status": "completed"
    },
    "tags": []
   },
   "outputs": [
    {
     "data": {
      "text/plain": [
       "'\\nyasmin\\nasha\\nanusha\\nsharma\\n\\n'"
      ]
     },
     "execution_count": 84,
     "metadata": {},
     "output_type": "execute_result"
    }
   ],
   "source": [
    "\"\"\"\n",
    "yasmin\n",
    "asha\n",
    "anusha\n",
    "sharma\n",
    "\n",
    "\"\"\""
   ]
  },
  {
   "cell_type": "code",
   "execution_count": 85,
   "id": "bb115e8d",
   "metadata": {
    "execution": {
     "iopub.execute_input": "2023-08-19T18:07:46.324869Z",
     "iopub.status.busy": "2023-08-19T18:07:46.324174Z",
     "iopub.status.idle": "2023-08-19T18:07:46.330338Z",
     "shell.execute_reply": "2023-08-19T18:07:46.328816Z"
    },
    "papermill": {
     "duration": 0.058966,
     "end_time": "2023-08-19T18:07:46.333826",
     "exception": false,
     "start_time": "2023-08-19T18:07:46.274860",
     "status": "completed"
    },
    "tags": []
   },
   "outputs": [
    {
     "name": "stdout",
     "output_type": "stream",
     "text": [
      "69\n",
      "69\n"
     ]
    }
   ],
   "source": [
    "print(str(6) + \"9\")\n",
    "print(\"6\" + \"9\")"
   ]
  },
  {
   "cell_type": "code",
   "execution_count": 86,
   "id": "7f9c8c7c",
   "metadata": {
    "execution": {
     "iopub.execute_input": "2023-08-19T18:07:46.433542Z",
     "iopub.status.busy": "2023-08-19T18:07:46.432572Z",
     "iopub.status.idle": "2023-08-19T18:07:46.439531Z",
     "shell.execute_reply": "2023-08-19T18:07:46.438405Z"
    },
    "papermill": {
     "duration": 0.060045,
     "end_time": "2023-08-19T18:07:46.441709",
     "exception": false,
     "start_time": "2023-08-19T18:07:46.381664",
     "status": "completed"
    },
    "tags": []
   },
   "outputs": [
    {
     "name": "stdout",
     "output_type": "stream",
     "text": [
      "16\n",
      "90\n"
     ]
    }
   ],
   "source": [
    "ans = 9 \n",
    "\n",
    "def add (a,b) :\n",
    "    global ans\n",
    "    ans = a + b  \n",
    "    print(ans)\n",
    "    \n",
    "add(7,9) \n",
    "ans = 90 \n",
    "print(ans)\n",
    "    \n"
   ]
  },
  {
   "cell_type": "code",
   "execution_count": 87,
   "id": "7d000ce5",
   "metadata": {
    "execution": {
     "iopub.execute_input": "2023-08-19T18:07:46.542725Z",
     "iopub.status.busy": "2023-08-19T18:07:46.541734Z",
     "iopub.status.idle": "2023-08-19T18:07:46.548642Z",
     "shell.execute_reply": "2023-08-19T18:07:46.547176Z"
    },
    "papermill": {
     "duration": 0.060043,
     "end_time": "2023-08-19T18:07:46.550775",
     "exception": false,
     "start_time": "2023-08-19T18:07:46.490732",
     "status": "completed"
    },
    "tags": []
   },
   "outputs": [
    {
     "name": "stdout",
     "output_type": "stream",
     "text": [
      "Python is fantastic\n"
     ]
    }
   ],
   "source": [
    "def myfunc():\n",
    "  global x\n",
    "  x = \"fantastic\"\n",
    "\n",
    "myfunc()\n",
    "\n",
    "print(\"Python is \" + x)"
   ]
  },
  {
   "cell_type": "code",
   "execution_count": 88,
   "id": "deb6657c",
   "metadata": {
    "execution": {
     "iopub.execute_input": "2023-08-19T18:07:46.652435Z",
     "iopub.status.busy": "2023-08-19T18:07:46.651681Z",
     "iopub.status.idle": "2023-08-19T18:07:46.658674Z",
     "shell.execute_reply": "2023-08-19T18:07:46.657538Z"
    },
    "papermill": {
     "duration": 0.060827,
     "end_time": "2023-08-19T18:07:46.660889",
     "exception": false,
     "start_time": "2023-08-19T18:07:46.600062",
     "status": "completed"
    },
    "tags": []
   },
   "outputs": [
    {
     "name": "stdout",
     "output_type": "stream",
     "text": [
      "Python is yasmin\n"
     ]
    }
   ],
   "source": [
    "x = \"awesome\"\n",
    "\n",
    "def myfunc():\n",
    "#   global x\n",
    "  x = \"fantastic\"\n",
    "    \n",
    "x = \"yasmin\"\n",
    "\n",
    "myfunc()\n",
    "\n",
    "print(\"Python is \" + x)"
   ]
  },
  {
   "cell_type": "code",
   "execution_count": 89,
   "id": "dd650251",
   "metadata": {
    "execution": {
     "iopub.execute_input": "2023-08-19T18:07:46.767053Z",
     "iopub.status.busy": "2023-08-19T18:07:46.766643Z",
     "iopub.status.idle": "2023-08-19T18:07:46.771087Z",
     "shell.execute_reply": "2023-08-19T18:07:46.770116Z"
    },
    "papermill": {
     "duration": 0.061979,
     "end_time": "2023-08-19T18:07:46.773314",
     "exception": false,
     "start_time": "2023-08-19T18:07:46.711335",
     "status": "completed"
    },
    "tags": []
   },
   "outputs": [],
   "source": [
    "# a = 5 + 2j\n",
    "# real(a)"
   ]
  },
  {
   "cell_type": "code",
   "execution_count": 90,
   "id": "e754b738",
   "metadata": {
    "execution": {
     "iopub.execute_input": "2023-08-19T18:07:46.875229Z",
     "iopub.status.busy": "2023-08-19T18:07:46.874316Z",
     "iopub.status.idle": "2023-08-19T18:07:46.879125Z",
     "shell.execute_reply": "2023-08-19T18:07:46.878191Z"
    },
    "papermill": {
     "duration": 0.057004,
     "end_time": "2023-08-19T18:07:46.881135",
     "exception": false,
     "start_time": "2023-08-19T18:07:46.824131",
     "status": "completed"
    },
    "tags": []
   },
   "outputs": [],
   "source": [
    "# a = 5 + 2j\n",
    "# x = complex(a)\n",
    "# real(x)"
   ]
  },
  {
   "cell_type": "code",
   "execution_count": 91,
   "id": "12ba8d6b",
   "metadata": {
    "execution": {
     "iopub.execute_input": "2023-08-19T18:07:46.983909Z",
     "iopub.status.busy": "2023-08-19T18:07:46.983535Z",
     "iopub.status.idle": "2023-08-19T18:07:46.988668Z",
     "shell.execute_reply": "2023-08-19T18:07:46.987703Z"
    },
    "papermill": {
     "duration": 0.059544,
     "end_time": "2023-08-19T18:07:46.991365",
     "exception": false,
     "start_time": "2023-08-19T18:07:46.931821",
     "status": "completed"
    },
    "tags": []
   },
   "outputs": [
    {
     "name": "stdout",
     "output_type": "stream",
     "text": [
      "3500000000000000.0\n"
     ]
    }
   ],
   "source": [
    "x = 35e14\n",
    "print(x)"
   ]
  },
  {
   "cell_type": "code",
   "execution_count": 92,
   "id": "69541ad8",
   "metadata": {
    "execution": {
     "iopub.execute_input": "2023-08-19T18:07:47.092171Z",
     "iopub.status.busy": "2023-08-19T18:07:47.091206Z",
     "iopub.status.idle": "2023-08-19T18:07:47.097822Z",
     "shell.execute_reply": "2023-08-19T18:07:47.096408Z"
    },
    "papermill": {
     "duration": 0.058931,
     "end_time": "2023-08-19T18:07:47.100024",
     "exception": false,
     "start_time": "2023-08-19T18:07:47.041093",
     "status": "completed"
    },
    "tags": []
   },
   "outputs": [
    {
     "name": "stdout",
     "output_type": "stream",
     "text": [
      "Lorem ipsum dolor sit amet,\n",
      "consectetur adipiscing elit,\n",
      "sed do eiusmod tempor incididunt\n",
      "ut labore et dolore magna aliqua.\n"
     ]
    }
   ],
   "source": [
    "a = \"\"\"Lorem ipsum dolor sit amet,\n",
    "consectetur adipiscing elit,\n",
    "sed do eiusmod tempor incididunt\n",
    "ut labore et dolore magna aliqua.\"\"\"\n",
    "print(a)"
   ]
  },
  {
   "cell_type": "code",
   "execution_count": 93,
   "id": "7f691471",
   "metadata": {
    "execution": {
     "iopub.execute_input": "2023-08-19T18:07:47.217686Z",
     "iopub.status.busy": "2023-08-19T18:07:47.216113Z",
     "iopub.status.idle": "2023-08-19T18:07:47.223063Z",
     "shell.execute_reply": "2023-08-19T18:07:47.221754Z"
    },
    "papermill": {
     "duration": 0.075369,
     "end_time": "2023-08-19T18:07:47.225196",
     "exception": false,
     "start_time": "2023-08-19T18:07:47.149827",
     "status": "completed"
    },
    "tags": []
   },
   "outputs": [
    {
     "name": "stdout",
     "output_type": "stream",
     "text": [
      "Lorem ipsum dolor sit amet,consectetur adipiscing elit,sed do eiusmod tempor incididuntut labore et dolore magna aliqua.\n"
     ]
    }
   ],
   "source": [
    "a = \"Lorem ipsum dolor sit amet,consectetur adipiscing elit,sed do eiusmod tempor incididuntut labore et dolore magna aliqua.\"\n",
    "print(a)"
   ]
  },
  {
   "cell_type": "code",
   "execution_count": 94,
   "id": "b832ca1c",
   "metadata": {
    "execution": {
     "iopub.execute_input": "2023-08-19T18:07:47.325674Z",
     "iopub.status.busy": "2023-08-19T18:07:47.324706Z",
     "iopub.status.idle": "2023-08-19T18:07:47.332551Z",
     "shell.execute_reply": "2023-08-19T18:07:47.329758Z"
    },
    "papermill": {
     "duration": 0.060446,
     "end_time": "2023-08-19T18:07:47.334829",
     "exception": false,
     "start_time": "2023-08-19T18:07:47.274383",
     "status": "completed"
    },
    "tags": []
   },
   "outputs": [
    {
     "name": "stdout",
     "output_type": "stream",
     "text": [
      "13\n"
     ]
    }
   ],
   "source": [
    "a = \"Hello, World!\"\n",
    "print(len(a))"
   ]
  },
  {
   "cell_type": "code",
   "execution_count": 95,
   "id": "fb19d4ba",
   "metadata": {
    "execution": {
     "iopub.execute_input": "2023-08-19T18:07:47.436498Z",
     "iopub.status.busy": "2023-08-19T18:07:47.435552Z",
     "iopub.status.idle": "2023-08-19T18:07:47.442701Z",
     "shell.execute_reply": "2023-08-19T18:07:47.441673Z"
    },
    "papermill": {
     "duration": 0.060995,
     "end_time": "2023-08-19T18:07:47.444803",
     "exception": false,
     "start_time": "2023-08-19T18:07:47.383808",
     "status": "completed"
    },
    "tags": []
   },
   "outputs": [
    {
     "data": {
      "text/plain": [
       "'llo'"
      ]
     },
     "execution_count": 95,
     "metadata": {},
     "output_type": "execute_result"
    }
   ],
   "source": [
    "a = \"Hello, World!\"\n",
    "a[2:5]\n"
   ]
  },
  {
   "cell_type": "code",
   "execution_count": 96,
   "id": "ec9628fb",
   "metadata": {
    "execution": {
     "iopub.execute_input": "2023-08-19T18:07:47.546410Z",
     "iopub.status.busy": "2023-08-19T18:07:47.545464Z",
     "iopub.status.idle": "2023-08-19T18:07:47.552784Z",
     "shell.execute_reply": "2023-08-19T18:07:47.551740Z"
    },
    "papermill": {
     "duration": 0.060668,
     "end_time": "2023-08-19T18:07:47.554885",
     "exception": false,
     "start_time": "2023-08-19T18:07:47.494217",
     "status": "completed"
    },
    "tags": []
   },
   "outputs": [
    {
     "data": {
      "text/plain": [
       "[3, 4, 5]"
      ]
     },
     "execution_count": 96,
     "metadata": {},
     "output_type": "execute_result"
    }
   ],
   "source": [
    "a = [1,2,3,4,5]\n",
    "a[2:5]"
   ]
  },
  {
   "cell_type": "code",
   "execution_count": 97,
   "id": "90be3928",
   "metadata": {
    "execution": {
     "iopub.execute_input": "2023-08-19T18:07:47.656059Z",
     "iopub.status.busy": "2023-08-19T18:07:47.655640Z",
     "iopub.status.idle": "2023-08-19T18:07:47.660733Z",
     "shell.execute_reply": "2023-08-19T18:07:47.659780Z"
    },
    "papermill": {
     "duration": 0.058666,
     "end_time": "2023-08-19T18:07:47.663329",
     "exception": false,
     "start_time": "2023-08-19T18:07:47.604663",
     "status": "completed"
    },
    "tags": []
   },
   "outputs": [
    {
     "name": "stdout",
     "output_type": "stream",
     "text": [
      "Hello\n"
     ]
    }
   ],
   "source": [
    "b = \"Hello, World!\"\n",
    "print(b[:5])"
   ]
  },
  {
   "cell_type": "code",
   "execution_count": 98,
   "id": "d7faa3c3",
   "metadata": {
    "execution": {
     "iopub.execute_input": "2023-08-19T18:07:47.765075Z",
     "iopub.status.busy": "2023-08-19T18:07:47.764682Z",
     "iopub.status.idle": "2023-08-19T18:07:47.770036Z",
     "shell.execute_reply": "2023-08-19T18:07:47.769072Z"
    },
    "papermill": {
     "duration": 0.057577,
     "end_time": "2023-08-19T18:07:47.772403",
     "exception": false,
     "start_time": "2023-08-19T18:07:47.714826",
     "status": "completed"
    },
    "tags": []
   },
   "outputs": [
    {
     "name": "stdout",
     "output_type": "stream",
     "text": [
      "llo, World!\n"
     ]
    }
   ],
   "source": [
    "b = \"Hello, World!\"\n",
    "print(b[2:])"
   ]
  },
  {
   "cell_type": "code",
   "execution_count": 99,
   "id": "d1437bfb",
   "metadata": {
    "execution": {
     "iopub.execute_input": "2023-08-19T18:07:47.876156Z",
     "iopub.status.busy": "2023-08-19T18:07:47.875200Z",
     "iopub.status.idle": "2023-08-19T18:07:47.881609Z",
     "shell.execute_reply": "2023-08-19T18:07:47.880223Z"
    },
    "papermill": {
     "duration": 0.060397,
     "end_time": "2023-08-19T18:07:47.883720",
     "exception": false,
     "start_time": "2023-08-19T18:07:47.823323",
     "status": "completed"
    },
    "tags": []
   },
   "outputs": [
    {
     "name": "stdout",
     "output_type": "stream",
     "text": [
      "orl\n"
     ]
    }
   ],
   "source": [
    "b = \"Hello, World!\"\n",
    "print(b[-5:-2])"
   ]
  },
  {
   "cell_type": "code",
   "execution_count": 100,
   "id": "cd5c572c",
   "metadata": {
    "execution": {
     "iopub.execute_input": "2023-08-19T18:07:47.986958Z",
     "iopub.status.busy": "2023-08-19T18:07:47.986579Z",
     "iopub.status.idle": "2023-08-19T18:07:47.991804Z",
     "shell.execute_reply": "2023-08-19T18:07:47.990801Z"
    },
    "papermill": {
     "duration": 0.058955,
     "end_time": "2023-08-19T18:07:47.994509",
     "exception": false,
     "start_time": "2023-08-19T18:07:47.935554",
     "status": "completed"
    },
    "tags": []
   },
   "outputs": [
    {
     "name": "stdout",
     "output_type": "stream",
     "text": [
      "HELLO, WORLD!\n"
     ]
    }
   ],
   "source": [
    "a = \"Hello, World!\"\n",
    "print(a.upper())"
   ]
  },
  {
   "cell_type": "code",
   "execution_count": 101,
   "id": "40163830",
   "metadata": {
    "execution": {
     "iopub.execute_input": "2023-08-19T18:07:48.096702Z",
     "iopub.status.busy": "2023-08-19T18:07:48.095747Z",
     "iopub.status.idle": "2023-08-19T18:07:48.101733Z",
     "shell.execute_reply": "2023-08-19T18:07:48.100641Z"
    },
    "papermill": {
     "duration": 0.059347,
     "end_time": "2023-08-19T18:07:48.103871",
     "exception": false,
     "start_time": "2023-08-19T18:07:48.044524",
     "status": "completed"
    },
    "tags": []
   },
   "outputs": [
    {
     "name": "stdout",
     "output_type": "stream",
     "text": [
      "hello, world!\n"
     ]
    }
   ],
   "source": [
    "a = \"Hello, World!\"\n",
    "print(a.lower())"
   ]
  },
  {
   "cell_type": "code",
   "execution_count": 102,
   "id": "b10d244f",
   "metadata": {
    "execution": {
     "iopub.execute_input": "2023-08-19T18:07:48.206224Z",
     "iopub.status.busy": "2023-08-19T18:07:48.205324Z",
     "iopub.status.idle": "2023-08-19T18:07:48.211720Z",
     "shell.execute_reply": "2023-08-19T18:07:48.210251Z"
    },
    "papermill": {
     "duration": 0.061499,
     "end_time": "2023-08-19T18:07:48.215574",
     "exception": false,
     "start_time": "2023-08-19T18:07:48.154075",
     "status": "completed"
    },
    "tags": []
   },
   "outputs": [
    {
     "name": "stdout",
     "output_type": "stream",
     "text": [
      "Hello, World!\n"
     ]
    }
   ],
   "source": [
    "a = \" Hello, World! \"\n",
    "print(a.strip()) # returns \"Hello, World!\""
   ]
  },
  {
   "cell_type": "code",
   "execution_count": 103,
   "id": "3130b35d",
   "metadata": {
    "execution": {
     "iopub.execute_input": "2023-08-19T18:07:48.322056Z",
     "iopub.status.busy": "2023-08-19T18:07:48.321048Z",
     "iopub.status.idle": "2023-08-19T18:07:48.327269Z",
     "shell.execute_reply": "2023-08-19T18:07:48.326219Z"
    },
    "papermill": {
     "duration": 0.059801,
     "end_time": "2023-08-19T18:07:48.329376",
     "exception": false,
     "start_time": "2023-08-19T18:07:48.269575",
     "status": "completed"
    },
    "tags": []
   },
   "outputs": [
    {
     "name": "stdout",
     "output_type": "stream",
     "text": [
      "Jllo, World!\n"
     ]
    }
   ],
   "source": [
    "a = \"Hello, World!\"\n",
    "print(a.replace(\"He\", \"J\"))"
   ]
  },
  {
   "cell_type": "code",
   "execution_count": 104,
   "id": "255122ee",
   "metadata": {
    "execution": {
     "iopub.execute_input": "2023-08-19T18:07:48.433754Z",
     "iopub.status.busy": "2023-08-19T18:07:48.433388Z",
     "iopub.status.idle": "2023-08-19T18:07:48.438815Z",
     "shell.execute_reply": "2023-08-19T18:07:48.437851Z"
    },
    "papermill": {
     "duration": 0.061214,
     "end_time": "2023-08-19T18:07:48.441445",
     "exception": false,
     "start_time": "2023-08-19T18:07:48.380231",
     "status": "completed"
    },
    "tags": []
   },
   "outputs": [
    {
     "name": "stdout",
     "output_type": "stream",
     "text": [
      "['Hello,', 'World!', 'prasad!', 'sharma']\n"
     ]
    }
   ],
   "source": [
    "a = \"Hello, World! prasad! sharma\"\n",
    "print(a.split())"
   ]
  },
  {
   "cell_type": "code",
   "execution_count": 105,
   "id": "a025660f",
   "metadata": {
    "execution": {
     "iopub.execute_input": "2023-08-19T18:07:48.544237Z",
     "iopub.status.busy": "2023-08-19T18:07:48.543308Z",
     "iopub.status.idle": "2023-08-19T18:07:48.550323Z",
     "shell.execute_reply": "2023-08-19T18:07:48.549269Z"
    },
    "papermill": {
     "duration": 0.060621,
     "end_time": "2023-08-19T18:07:48.552387",
     "exception": false,
     "start_time": "2023-08-19T18:07:48.491766",
     "status": "completed"
    },
    "tags": []
   },
   "outputs": [
    {
     "data": {
      "text/plain": [
       "'anusha superstudent'"
      ]
     },
     "execution_count": 105,
     "metadata": {},
     "output_type": "execute_result"
    }
   ],
   "source": [
    "a = \"anusha\" +\" \"+ \"superstudent\"\n",
    "a"
   ]
  },
  {
   "cell_type": "code",
   "execution_count": 106,
   "id": "9a793039",
   "metadata": {
    "execution": {
     "iopub.execute_input": "2023-08-19T18:07:48.655794Z",
     "iopub.status.busy": "2023-08-19T18:07:48.654740Z",
     "iopub.status.idle": "2023-08-19T18:07:48.661969Z",
     "shell.execute_reply": "2023-08-19T18:07:48.660920Z"
    },
    "papermill": {
     "duration": 0.061658,
     "end_time": "2023-08-19T18:07:48.664132",
     "exception": false,
     "start_time": "2023-08-19T18:07:48.602474",
     "status": "completed"
    },
    "tags": []
   },
   "outputs": [
    {
     "data": {
      "text/plain": [
       "15"
      ]
     },
     "execution_count": 106,
     "metadata": {},
     "output_type": "execute_result"
    }
   ],
   "source": [
    "b = 6 + 9\n",
    "b"
   ]
  },
  {
   "cell_type": "code",
   "execution_count": 107,
   "id": "9d4816a0",
   "metadata": {
    "execution": {
     "iopub.execute_input": "2023-08-19T18:07:48.768190Z",
     "iopub.status.busy": "2023-08-19T18:07:48.767214Z",
     "iopub.status.idle": "2023-08-19T18:07:48.774174Z",
     "shell.execute_reply": "2023-08-19T18:07:48.772782Z"
    },
    "papermill": {
     "duration": 0.061297,
     "end_time": "2023-08-19T18:07:48.776350",
     "exception": false,
     "start_time": "2023-08-19T18:07:48.715053",
     "status": "completed"
    },
    "tags": []
   },
   "outputs": [
    {
     "name": "stdout",
     "output_type": "stream",
     "text": [
      "I want 3 pieces of item 567 for 49.95 dollars.\n"
     ]
    }
   ],
   "source": [
    "quantity = 3\n",
    "itemno = 567\n",
    "price = 49.95\n",
    "myorder = \"I want {} pieces of item {} for {} dollars.\"\n",
    "print(myorder.format(quantity, itemno, price))"
   ]
  },
  {
   "cell_type": "code",
   "execution_count": 108,
   "id": "4ce5a759",
   "metadata": {
    "execution": {
     "iopub.execute_input": "2023-08-19T18:07:48.880674Z",
     "iopub.status.busy": "2023-08-19T18:07:48.879636Z",
     "iopub.status.idle": "2023-08-19T18:07:48.886184Z",
     "shell.execute_reply": "2023-08-19T18:07:48.885212Z"
    },
    "papermill": {
     "duration": 0.061102,
     "end_time": "2023-08-19T18:07:48.888538",
     "exception": false,
     "start_time": "2023-08-19T18:07:48.827436",
     "status": "completed"
    },
    "tags": []
   },
   "outputs": [
    {
     "name": "stdout",
     "output_type": "stream",
     "text": [
      "I want 3 pieces of item 567 for 49.95 dollars\n"
     ]
    }
   ],
   "source": [
    "quantity = 3\n",
    "itemno = 567\n",
    "price = 49.95\n",
    "ans = \"I want {} pieces of item {} for {} dollars\"\n",
    "print(ans.format(quantity, itemno,price))"
   ]
  },
  {
   "cell_type": "code",
   "execution_count": 109,
   "id": "804612c8",
   "metadata": {
    "execution": {
     "iopub.execute_input": "2023-08-19T18:07:48.995811Z",
     "iopub.status.busy": "2023-08-19T18:07:48.995412Z",
     "iopub.status.idle": "2023-08-19T18:07:49.000585Z",
     "shell.execute_reply": "2023-08-19T18:07:48.999611Z"
    },
    "papermill": {
     "duration": 0.062355,
     "end_time": "2023-08-19T18:07:49.003349",
     "exception": false,
     "start_time": "2023-08-19T18:07:48.940994",
     "status": "completed"
    },
    "tags": []
   },
   "outputs": [
    {
     "name": "stdout",
     "output_type": "stream",
     "text": [
      "i 4\\5\" aaa\n"
     ]
    }
   ],
   "source": [
    "print(\"i 4\\\\5\\\" aaa\")"
   ]
  },
  {
   "cell_type": "code",
   "execution_count": 110,
   "id": "fc460d76",
   "metadata": {
    "execution": {
     "iopub.execute_input": "2023-08-19T18:07:49.107460Z",
     "iopub.status.busy": "2023-08-19T18:07:49.106306Z",
     "iopub.status.idle": "2023-08-19T18:07:49.113481Z",
     "shell.execute_reply": "2023-08-19T18:07:49.112484Z"
    },
    "papermill": {
     "duration": 0.061186,
     "end_time": "2023-08-19T18:07:49.115495",
     "exception": false,
     "start_time": "2023-08-19T18:07:49.054309",
     "status": "completed"
    },
    "tags": []
   },
   "outputs": [
    {
     "data": {
      "text/plain": [
       "'YASMINKHAN'"
      ]
     },
     "execution_count": 110,
     "metadata": {},
     "output_type": "execute_result"
    }
   ],
   "source": [
    "a = \"YasminKhan\"\n",
    "a.upper()"
   ]
  },
  {
   "cell_type": "code",
   "execution_count": 111,
   "id": "2a22df48",
   "metadata": {
    "execution": {
     "iopub.execute_input": "2023-08-19T18:07:49.216795Z",
     "iopub.status.busy": "2023-08-19T18:07:49.215821Z",
     "iopub.status.idle": "2023-08-19T18:07:49.222503Z",
     "shell.execute_reply": "2023-08-19T18:07:49.221481Z"
    },
    "papermill": {
     "duration": 0.060089,
     "end_time": "2023-08-19T18:07:49.224610",
     "exception": false,
     "start_time": "2023-08-19T18:07:49.164521",
     "status": "completed"
    },
    "tags": []
   },
   "outputs": [
    {
     "data": {
      "text/plain": [
       "'Yasminkhan'"
      ]
     },
     "execution_count": 111,
     "metadata": {},
     "output_type": "execute_result"
    }
   ],
   "source": [
    "a = \"YasminKHan\"\n",
    "a.capitalize()"
   ]
  },
  {
   "cell_type": "code",
   "execution_count": 112,
   "id": "2d18fc32",
   "metadata": {
    "execution": {
     "iopub.execute_input": "2023-08-19T18:07:49.329317Z",
     "iopub.status.busy": "2023-08-19T18:07:49.328323Z",
     "iopub.status.idle": "2023-08-19T18:07:49.333386Z",
     "shell.execute_reply": "2023-08-19T18:07:49.332487Z"
    },
    "papermill": {
     "duration": 0.059811,
     "end_time": "2023-08-19T18:07:49.337227",
     "exception": false,
     "start_time": "2023-08-19T18:07:49.277416",
     "status": "completed"
    },
    "tags": []
   },
   "outputs": [],
   "source": [
    "a = \"YasminKHan\"\n",
    "# a.center()"
   ]
  },
  {
   "cell_type": "code",
   "execution_count": 113,
   "id": "bd51208b",
   "metadata": {
    "execution": {
     "iopub.execute_input": "2023-08-19T18:07:49.441317Z",
     "iopub.status.busy": "2023-08-19T18:07:49.440414Z",
     "iopub.status.idle": "2023-08-19T18:07:49.447225Z",
     "shell.execute_reply": "2023-08-19T18:07:49.446240Z"
    },
    "papermill": {
     "duration": 0.061474,
     "end_time": "2023-08-19T18:07:49.449349",
     "exception": false,
     "start_time": "2023-08-19T18:07:49.387875",
     "status": "completed"
    },
    "tags": []
   },
   "outputs": [
    {
     "data": {
      "text/plain": [
       "2"
      ]
     },
     "execution_count": 113,
     "metadata": {},
     "output_type": "execute_result"
    }
   ],
   "source": [
    "a = \"YasminKHan\"\n",
    "a.count(\"a\")"
   ]
  },
  {
   "cell_type": "code",
   "execution_count": 114,
   "id": "356487b7",
   "metadata": {
    "execution": {
     "iopub.execute_input": "2023-08-19T18:07:49.553499Z",
     "iopub.status.busy": "2023-08-19T18:07:49.552572Z",
     "iopub.status.idle": "2023-08-19T18:07:49.559471Z",
     "shell.execute_reply": "2023-08-19T18:07:49.558429Z"
    },
    "papermill": {
     "duration": 0.060562,
     "end_time": "2023-08-19T18:07:49.561570",
     "exception": false,
     "start_time": "2023-08-19T18:07:49.501008",
     "status": "completed"
    },
    "tags": []
   },
   "outputs": [
    {
     "data": {
      "text/plain": [
       "True"
      ]
     },
     "execution_count": 114,
     "metadata": {},
     "output_type": "execute_result"
    }
   ],
   "source": [
    "a = \"YasminKhan\"\n",
    "a.endswith(\"Khan\")"
   ]
  },
  {
   "cell_type": "code",
   "execution_count": 115,
   "id": "83e7ffc2",
   "metadata": {
    "execution": {
     "iopub.execute_input": "2023-08-19T18:07:49.665620Z",
     "iopub.status.busy": "2023-08-19T18:07:49.664595Z",
     "iopub.status.idle": "2023-08-19T18:07:49.671856Z",
     "shell.execute_reply": "2023-08-19T18:07:49.670695Z"
    },
    "papermill": {
     "duration": 0.062513,
     "end_time": "2023-08-19T18:07:49.673972",
     "exception": false,
     "start_time": "2023-08-19T18:07:49.611459",
     "status": "completed"
    },
    "tags": []
   },
   "outputs": [
    {
     "data": {
      "text/plain": [
       "5"
      ]
     },
     "execution_count": 115,
     "metadata": {},
     "output_type": "execute_result"
    }
   ],
   "source": [
    "a = \"YasminKhan\"\n",
    "a.index(\"n\")"
   ]
  },
  {
   "cell_type": "code",
   "execution_count": 116,
   "id": "1910154d",
   "metadata": {
    "execution": {
     "iopub.execute_input": "2023-08-19T18:07:49.776333Z",
     "iopub.status.busy": "2023-08-19T18:07:49.775590Z",
     "iopub.status.idle": "2023-08-19T18:07:49.781235Z",
     "shell.execute_reply": "2023-08-19T18:07:49.780245Z"
    },
    "papermill": {
     "duration": 0.060028,
     "end_time": "2023-08-19T18:07:49.784054",
     "exception": false,
     "start_time": "2023-08-19T18:07:49.724026",
     "status": "completed"
    },
    "tags": []
   },
   "outputs": [
    {
     "name": "stdout",
     "output_type": "stream",
     "text": [
      "no\n",
      "no\n",
      "no\n",
      "yes\n",
      "no\n"
     ]
    }
   ],
   "source": [
    "ans = \"a12 3\"\n",
    "for i in ans :\n",
    "    if i.isspace():\n",
    "        print(\"yes\")\n",
    "    else :\n",
    "        print(\"no\")"
   ]
  },
  {
   "cell_type": "code",
   "execution_count": 117,
   "id": "8fc6b7c3",
   "metadata": {
    "execution": {
     "iopub.execute_input": "2023-08-19T18:07:49.888695Z",
     "iopub.status.busy": "2023-08-19T18:07:49.887709Z",
     "iopub.status.idle": "2023-08-19T18:07:49.894871Z",
     "shell.execute_reply": "2023-08-19T18:07:49.893838Z"
    },
    "papermill": {
     "duration": 0.06221,
     "end_time": "2023-08-19T18:07:49.897135",
     "exception": false,
     "start_time": "2023-08-19T18:07:49.834925",
     "status": "completed"
    },
    "tags": []
   },
   "outputs": [
    {
     "data": {
      "text/plain": [
       "['Thank you for the music', 'Welcome to the jungle']"
      ]
     },
     "execution_count": 117,
     "metadata": {},
     "output_type": "execute_result"
    }
   ],
   "source": [
    "txt = \"Thank you for the music\\nWelcome to the jungle\"\n",
    "txt.splitlines()"
   ]
  },
  {
   "cell_type": "code",
   "execution_count": 118,
   "id": "66c78a2c",
   "metadata": {
    "execution": {
     "iopub.execute_input": "2023-08-19T18:07:50.004311Z",
     "iopub.status.busy": "2023-08-19T18:07:50.003356Z",
     "iopub.status.idle": "2023-08-19T18:07:50.010334Z",
     "shell.execute_reply": "2023-08-19T18:07:50.009283Z"
    },
    "papermill": {
     "duration": 0.062695,
     "end_time": "2023-08-19T18:07:50.012406",
     "exception": false,
     "start_time": "2023-08-19T18:07:49.949711",
     "status": "completed"
    },
    "tags": []
   },
   "outputs": [
    {
     "data": {
      "text/plain": [
       "'YASMINkhan'"
      ]
     },
     "execution_count": 118,
     "metadata": {},
     "output_type": "execute_result"
    }
   ],
   "source": [
    "a = \"yasminKHAN\"\n",
    "a.swapcase()"
   ]
  },
  {
   "cell_type": "code",
   "execution_count": 119,
   "id": "0cc5f813",
   "metadata": {
    "execution": {
     "iopub.execute_input": "2023-08-19T18:07:50.119581Z",
     "iopub.status.busy": "2023-08-19T18:07:50.118633Z",
     "iopub.status.idle": "2023-08-19T18:07:50.124802Z",
     "shell.execute_reply": "2023-08-19T18:07:50.123696Z"
    },
    "papermill": {
     "duration": 0.061602,
     "end_time": "2023-08-19T18:07:50.126966",
     "exception": false,
     "start_time": "2023-08-19T18:07:50.065364",
     "status": "completed"
    },
    "tags": []
   },
   "outputs": [
    {
     "name": "stdout",
     "output_type": "stream",
     "text": [
      "Welcome To My World\n"
     ]
    }
   ],
   "source": [
    "txt = \"Welcome to my world\"\n",
    "\n",
    "x = txt.title()\n",
    "\n",
    "print(x)"
   ]
  },
  {
   "cell_type": "code",
   "execution_count": 120,
   "id": "2f2d9158",
   "metadata": {
    "execution": {
     "iopub.execute_input": "2023-08-19T18:07:50.237237Z",
     "iopub.status.busy": "2023-08-19T18:07:50.236176Z",
     "iopub.status.idle": "2023-08-19T18:07:50.242604Z",
     "shell.execute_reply": "2023-08-19T18:07:50.241323Z"
    },
    "papermill": {
     "duration": 0.064317,
     "end_time": "2023-08-19T18:07:50.244577",
     "exception": false,
     "start_time": "2023-08-19T18:07:50.180260",
     "status": "completed"
    },
    "tags": []
   },
   "outputs": [
    {
     "name": "stdout",
     "output_type": "stream",
     "text": [
      "00001\n"
     ]
    }
   ],
   "source": [
    "txt = \"1\"\n",
    "\n",
    "x = txt.zfill(5)\n",
    "\n",
    "print(x)"
   ]
  },
  {
   "cell_type": "code",
   "execution_count": 121,
   "id": "661bcb14",
   "metadata": {
    "execution": {
     "iopub.execute_input": "2023-08-19T18:07:50.354158Z",
     "iopub.status.busy": "2023-08-19T18:07:50.353165Z",
     "iopub.status.idle": "2023-08-19T18:07:50.359320Z",
     "shell.execute_reply": "2023-08-19T18:07:50.358239Z"
    },
    "papermill": {
     "duration": 0.064264,
     "end_time": "2023-08-19T18:07:50.361367",
     "exception": false,
     "start_time": "2023-08-19T18:07:50.297103",
     "status": "completed"
    },
    "tags": []
   },
   "outputs": [
    {
     "name": "stdout",
     "output_type": "stream",
     "text": [
      "7\n"
     ]
    }
   ],
   "source": [
    "txt = \"Hello, welcome to my world.\"\n",
    "\n",
    "x = txt.index(\"welcom\")\n",
    "\n",
    "print(x)"
   ]
  },
  {
   "cell_type": "code",
   "execution_count": 122,
   "id": "50962f5f",
   "metadata": {
    "execution": {
     "iopub.execute_input": "2023-08-19T18:07:50.468329Z",
     "iopub.status.busy": "2023-08-19T18:07:50.467969Z",
     "iopub.status.idle": "2023-08-19T18:07:50.472599Z",
     "shell.execute_reply": "2023-08-19T18:07:50.471502Z"
    },
    "papermill": {
     "duration": 0.061126,
     "end_time": "2023-08-19T18:07:50.474838",
     "exception": false,
     "start_time": "2023-08-19T18:07:50.413712",
     "status": "completed"
    },
    "tags": []
   },
   "outputs": [],
   "source": [
    "import pandas as pd"
   ]
  },
  {
   "cell_type": "code",
   "execution_count": 123,
   "id": "f0acc480",
   "metadata": {
    "execution": {
     "iopub.execute_input": "2023-08-19T18:07:50.581327Z",
     "iopub.status.busy": "2023-08-19T18:07:50.580967Z",
     "iopub.status.idle": "2023-08-19T18:07:50.587483Z",
     "shell.execute_reply": "2023-08-19T18:07:50.586546Z"
    },
    "papermill": {
     "duration": 0.062378,
     "end_time": "2023-08-19T18:07:50.589589",
     "exception": false,
     "start_time": "2023-08-19T18:07:50.527211",
     "status": "completed"
    },
    "tags": []
   },
   "outputs": [
    {
     "data": {
      "text/plain": [
       "'1**2**3**4**5'"
      ]
     },
     "execution_count": 123,
     "metadata": {},
     "output_type": "execute_result"
    }
   ],
   "source": [
    "a = (\"1\",\"2\",\"3\",\"4\",\"5\")\n",
    "ans = \"**\".join(a)\n",
    "ans"
   ]
  },
  {
   "cell_type": "code",
   "execution_count": 124,
   "id": "02dd02e0",
   "metadata": {
    "execution": {
     "iopub.execute_input": "2023-08-19T18:07:50.696389Z",
     "iopub.status.busy": "2023-08-19T18:07:50.696023Z",
     "iopub.status.idle": "2023-08-19T18:07:50.701305Z",
     "shell.execute_reply": "2023-08-19T18:07:50.700340Z"
    },
    "papermill": {
     "duration": 0.061944,
     "end_time": "2023-08-19T18:07:50.703829",
     "exception": false,
     "start_time": "2023-08-19T18:07:50.641885",
     "status": "completed"
    },
    "tags": []
   },
   "outputs": [
    {
     "name": "stdout",
     "output_type": "stream",
     "text": [
      "True\n",
      "True\n"
     ]
    }
   ],
   "source": [
    "print(bool(\"a\"))\n",
    "print(bool(10))"
   ]
  },
  {
   "cell_type": "code",
   "execution_count": 125,
   "id": "4f59dc06",
   "metadata": {
    "execution": {
     "iopub.execute_input": "2023-08-19T18:07:50.811481Z",
     "iopub.status.busy": "2023-08-19T18:07:50.811112Z",
     "iopub.status.idle": "2023-08-19T18:07:50.817110Z",
     "shell.execute_reply": "2023-08-19T18:07:50.816106Z"
    },
    "papermill": {
     "duration": 0.062607,
     "end_time": "2023-08-19T18:07:50.819336",
     "exception": false,
     "start_time": "2023-08-19T18:07:50.756729",
     "status": "completed"
    },
    "tags": []
   },
   "outputs": [
    {
     "data": {
      "text/plain": [
       "25"
      ]
     },
     "execution_count": 125,
     "metadata": {},
     "output_type": "execute_result"
    }
   ],
   "source": [
    "5 ** 2"
   ]
  },
  {
   "cell_type": "code",
   "execution_count": 126,
   "id": "ed825dd3",
   "metadata": {
    "execution": {
     "iopub.execute_input": "2023-08-19T18:07:50.931812Z",
     "iopub.status.busy": "2023-08-19T18:07:50.930775Z",
     "iopub.status.idle": "2023-08-19T18:07:50.937430Z",
     "shell.execute_reply": "2023-08-19T18:07:50.936436Z"
    },
    "papermill": {
     "duration": 0.068445,
     "end_time": "2023-08-19T18:07:50.939659",
     "exception": false,
     "start_time": "2023-08-19T18:07:50.871214",
     "status": "completed"
    },
    "tags": []
   },
   "outputs": [
    {
     "data": {
      "text/plain": [
       "3"
      ]
     },
     "execution_count": 126,
     "metadata": {},
     "output_type": "execute_result"
    }
   ],
   "source": [
    "7 // 2"
   ]
  },
  {
   "cell_type": "code",
   "execution_count": 127,
   "id": "6bd6df87",
   "metadata": {
    "execution": {
     "iopub.execute_input": "2023-08-19T18:07:51.050415Z",
     "iopub.status.busy": "2023-08-19T18:07:51.050055Z",
     "iopub.status.idle": "2023-08-19T18:07:51.056697Z",
     "shell.execute_reply": "2023-08-19T18:07:51.055751Z"
    },
    "papermill": {
     "duration": 0.065204,
     "end_time": "2023-08-19T18:07:51.058791",
     "exception": false,
     "start_time": "2023-08-19T18:07:50.993587",
     "status": "completed"
    },
    "tags": []
   },
   "outputs": [
    {
     "data": {
      "text/plain": [
       "'/kaggle/working'"
      ]
     },
     "execution_count": 127,
     "metadata": {},
     "output_type": "execute_result"
    }
   ],
   "source": [
    "pwd"
   ]
  },
  {
   "cell_type": "markdown",
   "id": "aa4b1e67",
   "metadata": {
    "execution": {
     "iopub.execute_input": "2023-08-19T18:06:32.653755Z",
     "iopub.status.busy": "2023-08-19T18:06:32.653333Z",
     "iopub.status.idle": "2023-08-19T18:06:32.857071Z",
     "shell.execute_reply": "2023-08-19T18:06:32.854898Z",
     "shell.execute_reply.started": "2023-08-19T18:06:32.653729Z"
    },
    "papermill": {
     "duration": 0.053155,
     "end_time": "2023-08-19T18:07:51.165889",
     "exception": false,
     "start_time": "2023-08-19T18:07:51.112734",
     "status": "completed"
    },
    "tags": []
   },
   "source": [
    "file = open(\"example.txt\", \"r\")\n",
    "content = file.read()\n",
    "print(content)\n",
    "file.close()"
   ]
  },
  {
   "cell_type": "code",
   "execution_count": 128,
   "id": "da0722cb",
   "metadata": {
    "execution": {
     "iopub.execute_input": "2023-08-19T18:07:51.276117Z",
     "iopub.status.busy": "2023-08-19T18:07:51.275093Z",
     "iopub.status.idle": "2023-08-19T18:07:51.317707Z",
     "shell.execute_reply": "2023-08-19T18:07:51.316717Z"
    },
    "papermill": {
     "duration": 0.10187,
     "end_time": "2023-08-19T18:07:51.320120",
     "exception": false,
     "start_time": "2023-08-19T18:07:51.218250",
     "status": "completed"
    },
    "tags": []
   },
   "outputs": [
    {
     "data": {
      "text/html": [
       "<div>\n",
       "<style scoped>\n",
       "    .dataframe tbody tr th:only-of-type {\n",
       "        vertical-align: middle;\n",
       "    }\n",
       "\n",
       "    .dataframe tbody tr th {\n",
       "        vertical-align: top;\n",
       "    }\n",
       "\n",
       "    .dataframe thead th {\n",
       "        text-align: right;\n",
       "    }\n",
       "</style>\n",
       "<table border=\"1\" class=\"dataframe\">\n",
       "  <thead>\n",
       "    <tr style=\"text-align: right;\">\n",
       "      <th></th>\n",
       "      <th>No.</th>\n",
       "      <th>Company</th>\n",
       "      <th>Sector</th>\n",
       "      <th>Entry Valuation^^ ($B)</th>\n",
       "      <th>Valuation ($B)</th>\n",
       "      <th>Entry</th>\n",
       "      <th>Location</th>\n",
       "      <th>Select Investors</th>\n",
       "    </tr>\n",
       "  </thead>\n",
       "  <tbody>\n",
       "    <tr>\n",
       "      <th>0</th>\n",
       "      <td>1</td>\n",
       "      <td>InMobi</td>\n",
       "      <td>Adtech - Mobile Ads</td>\n",
       "      <td>1.00</td>\n",
       "      <td>1.00</td>\n",
       "      <td>Sep/2011</td>\n",
       "      <td>Bangalore/Singapore</td>\n",
       "      <td>KPCB, Sherpalo Ventures, SoftBank</td>\n",
       "    </tr>\n",
       "    <tr>\n",
       "      <th>1</th>\n",
       "      <td>2</td>\n",
       "      <td>Flipkart^</td>\n",
       "      <td>E-Commerce</td>\n",
       "      <td>1.00</td>\n",
       "      <td>37.60</td>\n",
       "      <td>Feb/2012</td>\n",
       "      <td>Bangalore/Singapore</td>\n",
       "      <td>Accel, Tiger Global, Naspers, SoftBank, Tencent</td>\n",
       "    </tr>\n",
       "    <tr>\n",
       "      <th>2</th>\n",
       "      <td>3</td>\n",
       "      <td>Mu Sigma</td>\n",
       "      <td>SaaS - Analytics</td>\n",
       "      <td>1.00</td>\n",
       "      <td>1.50</td>\n",
       "      <td>Feb/2013</td>\n",
       "      <td>Bangalore/Chicago</td>\n",
       "      <td>Accel, Sequoia Capital, General Atlantic</td>\n",
       "    </tr>\n",
       "    <tr>\n",
       "      <th>3</th>\n",
       "      <td>4</td>\n",
       "      <td>Snapdeal*</td>\n",
       "      <td>E-Commerce</td>\n",
       "      <td>1.80</td>\n",
       "      <td>2.40</td>\n",
       "      <td>Oct/2014</td>\n",
       "      <td>Delhi</td>\n",
       "      <td>Kalaari Capital, Nexus Ventures, Bessemer, Sof...</td>\n",
       "    </tr>\n",
       "    <tr>\n",
       "      <th>4</th>\n",
       "      <td>5</td>\n",
       "      <td>PayTM^</td>\n",
       "      <td>Fintech - Payments &amp; Wallet</td>\n",
       "      <td>1.70</td>\n",
       "      <td>16.00</td>\n",
       "      <td>Feb/2015</td>\n",
       "      <td>Noida</td>\n",
       "      <td>Saama Capital, Elevation Capital, Alibaba, Ber...</td>\n",
       "    </tr>\n",
       "    <tr>\n",
       "      <th>...</th>\n",
       "      <td>...</td>\n",
       "      <td>...</td>\n",
       "      <td>...</td>\n",
       "      <td>...</td>\n",
       "      <td>...</td>\n",
       "      <td>...</td>\n",
       "      <td>...</td>\n",
       "      <td>...</td>\n",
       "    </tr>\n",
       "    <tr>\n",
       "      <th>97</th>\n",
       "      <td>98</td>\n",
       "      <td>Purplle</td>\n",
       "      <td>E-Commerce - Personal Care &amp; Cosmetics</td>\n",
       "      <td>1.10</td>\n",
       "      <td>1.10</td>\n",
       "      <td>Jun/2022</td>\n",
       "      <td>Mumbai</td>\n",
       "      <td>JSW Ventures, IvyCap Ventures, Blume Ventures,...</td>\n",
       "    </tr>\n",
       "    <tr>\n",
       "      <th>98</th>\n",
       "      <td>99</td>\n",
       "      <td>Leadsquared</td>\n",
       "      <td>SaaS - CRM</td>\n",
       "      <td>1.00</td>\n",
       "      <td>1.00</td>\n",
       "      <td>Jun/2022</td>\n",
       "      <td>Bangalore</td>\n",
       "      <td>Stakeboat Capital, Gaja Capital, WestBridge</td>\n",
       "    </tr>\n",
       "    <tr>\n",
       "      <th>99</th>\n",
       "      <td>100</td>\n",
       "      <td>OneCard</td>\n",
       "      <td>Fintech - Credit Cards</td>\n",
       "      <td>1.30</td>\n",
       "      <td>1.30</td>\n",
       "      <td>Jul/2022</td>\n",
       "      <td>Pune</td>\n",
       "      <td>QED Investors, Matrix Partners India, Sequoia ...</td>\n",
       "    </tr>\n",
       "    <tr>\n",
       "      <th>100</th>\n",
       "      <td>101</td>\n",
       "      <td>Shiprocket</td>\n",
       "      <td>Aggregator - Logistics Services</td>\n",
       "      <td>1.23</td>\n",
       "      <td>1.23</td>\n",
       "      <td>Aug/2022</td>\n",
       "      <td>Delhi</td>\n",
       "      <td>Lightrock India, Info Edge, Tribe Capital, Tem...</td>\n",
       "    </tr>\n",
       "    <tr>\n",
       "      <th>101</th>\n",
       "      <td>102</td>\n",
       "      <td>Molbio Diagnostics</td>\n",
       "      <td>Healthtech - Diagnostics</td>\n",
       "      <td>1.53</td>\n",
       "      <td>1.53</td>\n",
       "      <td>Sep/2022</td>\n",
       "      <td>Goa</td>\n",
       "      <td>Temasek, Motilal Oswal</td>\n",
       "    </tr>\n",
       "  </tbody>\n",
       "</table>\n",
       "<p>102 rows × 8 columns</p>\n",
       "</div>"
      ],
      "text/plain": [
       "     No.             Company                                  Sector  \\\n",
       "0      1              InMobi                     Adtech - Mobile Ads   \n",
       "1      2           Flipkart^                              E-Commerce   \n",
       "2      3            Mu Sigma                        SaaS - Analytics   \n",
       "3      4           Snapdeal*                              E-Commerce   \n",
       "4      5              PayTM^             Fintech - Payments & Wallet   \n",
       "..   ...                 ...                                     ...   \n",
       "97    98             Purplle  E-Commerce - Personal Care & Cosmetics   \n",
       "98    99         Leadsquared                              SaaS - CRM   \n",
       "99   100             OneCard                  Fintech - Credit Cards   \n",
       "100  101          Shiprocket         Aggregator - Logistics Services   \n",
       "101  102  Molbio Diagnostics                Healthtech - Diagnostics   \n",
       "\n",
       "     Entry Valuation^^ ($B)  Valuation ($B)     Entry             Location  \\\n",
       "0                      1.00            1.00  Sep/2011  Bangalore/Singapore   \n",
       "1                      1.00           37.60  Feb/2012  Bangalore/Singapore   \n",
       "2                      1.00            1.50  Feb/2013    Bangalore/Chicago   \n",
       "3                      1.80            2.40  Oct/2014                Delhi   \n",
       "4                      1.70           16.00  Feb/2015                Noida   \n",
       "..                      ...             ...       ...                  ...   \n",
       "97                     1.10            1.10  Jun/2022               Mumbai   \n",
       "98                     1.00            1.00  Jun/2022            Bangalore   \n",
       "99                     1.30            1.30  Jul/2022                 Pune   \n",
       "100                    1.23            1.23  Aug/2022                Delhi   \n",
       "101                    1.53            1.53  Sep/2022                  Goa   \n",
       "\n",
       "                                      Select Investors  \n",
       "0                    KPCB, Sherpalo Ventures, SoftBank  \n",
       "1      Accel, Tiger Global, Naspers, SoftBank, Tencent  \n",
       "2             Accel, Sequoia Capital, General Atlantic  \n",
       "3    Kalaari Capital, Nexus Ventures, Bessemer, Sof...  \n",
       "4    Saama Capital, Elevation Capital, Alibaba, Ber...  \n",
       "..                                                 ...  \n",
       "97   JSW Ventures, IvyCap Ventures, Blume Ventures,...  \n",
       "98         Stakeboat Capital, Gaja Capital, WestBridge  \n",
       "99   QED Investors, Matrix Partners India, Sequoia ...  \n",
       "100  Lightrock India, Info Edge, Tribe Capital, Tem...  \n",
       "101                             Temasek, Motilal Oswal  \n",
       "\n",
       "[102 rows x 8 columns]"
      ]
     },
     "execution_count": 128,
     "metadata": {},
     "output_type": "execute_result"
    }
   ],
   "source": [
    "\n",
    "a = pd.read_csv(\"/kaggle/input/indian-unicorn-startups-2023-june-updated/Indian Unicorn startups 2023 updated.csv\")\n",
    "a"
   ]
  },
  {
   "cell_type": "code",
   "execution_count": 129,
   "id": "dd552087",
   "metadata": {
    "execution": {
     "iopub.execute_input": "2023-08-19T18:07:51.441412Z",
     "iopub.status.busy": "2023-08-19T18:07:51.440271Z",
     "iopub.status.idle": "2023-08-19T18:07:51.448309Z",
     "shell.execute_reply": "2023-08-19T18:07:51.447205Z"
    },
    "papermill": {
     "duration": 0.070845,
     "end_time": "2023-08-19T18:07:51.450421",
     "exception": false,
     "start_time": "2023-08-19T18:07:51.379576",
     "status": "completed"
    },
    "tags": []
   },
   "outputs": [
    {
     "data": {
      "text/plain": [
       "[2, 3, 4, 5, 11]"
      ]
     },
     "execution_count": 129,
     "metadata": {},
     "output_type": "execute_result"
    }
   ],
   "source": [
    "numbers = [11, 2, 3, 4, 5]\n",
    "numbers.sort()\n",
    "numbers"
   ]
  },
  {
   "cell_type": "code",
   "execution_count": 130,
   "id": "4da29824",
   "metadata": {
    "execution": {
     "iopub.execute_input": "2023-08-19T18:07:51.563327Z",
     "iopub.status.busy": "2023-08-19T18:07:51.562382Z",
     "iopub.status.idle": "2023-08-19T18:07:51.570000Z",
     "shell.execute_reply": "2023-08-19T18:07:51.568971Z"
    },
    "papermill": {
     "duration": 0.06623,
     "end_time": "2023-08-19T18:07:51.572060",
     "exception": false,
     "start_time": "2023-08-19T18:07:51.505830",
     "status": "completed"
    },
    "tags": []
   },
   "outputs": [
    {
     "data": {
      "text/plain": [
       "[5, 4, 3, 2, 11]"
      ]
     },
     "execution_count": 130,
     "metadata": {},
     "output_type": "execute_result"
    }
   ],
   "source": [
    "numbers = [11, 2, 3, 4, 5]\n",
    "numbers.reverse()\n",
    "numbers"
   ]
  },
  {
   "cell_type": "code",
   "execution_count": 131,
   "id": "aeab5d38",
   "metadata": {
    "execution": {
     "iopub.execute_input": "2023-08-19T18:07:51.684294Z",
     "iopub.status.busy": "2023-08-19T18:07:51.683339Z",
     "iopub.status.idle": "2023-08-19T18:07:51.690412Z",
     "shell.execute_reply": "2023-08-19T18:07:51.688973Z"
    },
    "papermill": {
     "duration": 0.066616,
     "end_time": "2023-08-19T18:07:51.692544",
     "exception": false,
     "start_time": "2023-08-19T18:07:51.625928",
     "status": "completed"
    },
    "tags": []
   },
   "outputs": [
    {
     "name": "stdout",
     "output_type": "stream",
     "text": [
      "Local Name\n",
      "Local Name\n"
     ]
    }
   ],
   "source": [
    "name = \"Global Name\"\n",
    "\n",
    "def shadow_example():\n",
    "    global name\n",
    "    name = \"Local Name\"\n",
    "    print(name)\n",
    "\n",
    "shadow_example()  # Output: Local Name\n",
    "\n",
    "print(name)    "
   ]
  },
  {
   "cell_type": "code",
   "execution_count": 132,
   "id": "92030ba1",
   "metadata": {
    "execution": {
     "iopub.execute_input": "2023-08-19T18:07:51.808645Z",
     "iopub.status.busy": "2023-08-19T18:07:51.808286Z",
     "iopub.status.idle": "2023-08-19T18:07:51.814672Z",
     "shell.execute_reply": "2023-08-19T18:07:51.813707Z"
    },
    "papermill": {
     "duration": 0.069046,
     "end_time": "2023-08-19T18:07:51.817499",
     "exception": false,
     "start_time": "2023-08-19T18:07:51.748453",
     "status": "completed"
    },
    "tags": []
   },
   "outputs": [
    {
     "name": "stdout",
     "output_type": "stream",
     "text": [
      "{1, 2, 3, 4, 5, 6} {3, 4} {1, 2}\n"
     ]
    }
   ],
   "source": [
    "set1 = {1, 2, 3, 4}\n",
    "set2 = {3, 4, 5, 6}\n",
    "\n",
    "union_set = set1.union(set2)\n",
    "intersection_set = set1.intersection(set2)\n",
    "difference_set = set1.difference(set2) \n",
    "print(union_set,intersection_set ,difference_set)"
   ]
  },
  {
   "cell_type": "code",
   "execution_count": 133,
   "id": "31663bae",
   "metadata": {
    "execution": {
     "iopub.execute_input": "2023-08-19T18:07:51.934197Z",
     "iopub.status.busy": "2023-08-19T18:07:51.933105Z",
     "iopub.status.idle": "2023-08-19T18:07:51.940319Z",
     "shell.execute_reply": "2023-08-19T18:07:51.939277Z"
    },
    "papermill": {
     "duration": 0.070901,
     "end_time": "2023-08-19T18:07:51.942392",
     "exception": false,
     "start_time": "2023-08-19T18:07:51.871491",
     "status": "completed"
    },
    "tags": []
   },
   "outputs": [
    {
     "data": {
      "text/plain": [
       "{1, 2}"
      ]
     },
     "execution_count": 133,
     "metadata": {},
     "output_type": "execute_result"
    }
   ],
   "source": [
    "a = {1,2}\n",
    "a"
   ]
  },
  {
   "cell_type": "code",
   "execution_count": 134,
   "id": "cb998da3",
   "metadata": {
    "execution": {
     "iopub.execute_input": "2023-08-19T18:07:52.054287Z",
     "iopub.status.busy": "2023-08-19T18:07:52.053890Z",
     "iopub.status.idle": "2023-08-19T18:07:52.060364Z",
     "shell.execute_reply": "2023-08-19T18:07:52.059348Z"
    },
    "papermill": {
     "duration": 0.066816,
     "end_time": "2023-08-19T18:07:52.063770",
     "exception": false,
     "start_time": "2023-08-19T18:07:51.996954",
     "status": "completed"
    },
    "tags": []
   },
   "outputs": [
    {
     "name": "stdout",
     "output_type": "stream",
     "text": [
      "{1, 2, 3, 4, 5, 6} {3, 4} {5, 6}\n"
     ]
    }
   ],
   "source": [
    "set1 = {1, 2, 3, 4}\n",
    "set2 = {3, 4, 5, 6}\n",
    "\n",
    "union_set = set1.union(set2)\n",
    "intersection_set = set1.intersection(set2)\n",
    "difference_set = set2.difference(set1)\n",
    "print(union_set,intersection_set ,difference_set)"
   ]
  },
  {
   "cell_type": "code",
   "execution_count": 135,
   "id": "fee189f8",
   "metadata": {
    "execution": {
     "iopub.execute_input": "2023-08-19T18:07:52.173341Z",
     "iopub.status.busy": "2023-08-19T18:07:52.172375Z",
     "iopub.status.idle": "2023-08-19T18:07:52.180217Z",
     "shell.execute_reply": "2023-08-19T18:07:52.178887Z"
    },
    "papermill": {
     "duration": 0.064517,
     "end_time": "2023-08-19T18:07:52.182411",
     "exception": false,
     "start_time": "2023-08-19T18:07:52.117894",
     "status": "completed"
    },
    "tags": []
   },
   "outputs": [
    {
     "name": "stdout",
     "output_type": "stream",
     "text": [
      "        1 \n",
      "      2 1 2 \n",
      "    3 2 1 2 3 \n",
      "  4 3 2 1 2 3 4 \n",
      "5 4 3 2 1 2 3 4 5 \n"
     ]
    }
   ],
   "source": [
    "for i in range(5):\n",
    "    print(\" \"* (2*(4- int(i))),end=\"\")\n",
    "    for j in range(i+1,0,-1):\n",
    "        print(j,end= \" \")\n",
    "    for k in range (i):\n",
    "        print(k+2,end=\" \")\n",
    "    print()"
   ]
  },
  {
   "cell_type": "code",
   "execution_count": 136,
   "id": "7e8d30f7",
   "metadata": {
    "execution": {
     "iopub.execute_input": "2023-08-19T18:07:52.295680Z",
     "iopub.status.busy": "2023-08-19T18:07:52.294666Z",
     "iopub.status.idle": "2023-08-19T18:07:52.302286Z",
     "shell.execute_reply": "2023-08-19T18:07:52.301152Z"
    },
    "papermill": {
     "duration": 0.067952,
     "end_time": "2023-08-19T18:07:52.304473",
     "exception": false,
     "start_time": "2023-08-19T18:07:52.236521",
     "status": "completed"
    },
    "tags": []
   },
   "outputs": [
    {
     "data": {
      "text/plain": [
       "'i am &&a good &&boy'"
      ]
     },
     "execution_count": 136,
     "metadata": {},
     "output_type": "execute_result"
    }
   ],
   "source": [
    "a = \"i am ,a good ,boy\"\n",
    "b = a.split(',')\n",
    "\"&&\".join(b)"
   ]
  },
  {
   "cell_type": "code",
   "execution_count": null,
   "id": "1a317b5c",
   "metadata": {
    "papermill": {
     "duration": 0.055314,
     "end_time": "2023-08-19T18:07:52.419197",
     "exception": false,
     "start_time": "2023-08-19T18:07:52.363883",
     "status": "completed"
    },
    "tags": []
   },
   "outputs": [],
   "source": []
  },
  {
   "cell_type": "markdown",
   "id": "19d2fe73",
   "metadata": {
    "papermill": {
     "duration": 0.055599,
     "end_time": "2023-08-19T18:07:52.530293",
     "exception": false,
     "start_time": "2023-08-19T18:07:52.474694",
     "status": "completed"
    },
    "tags": []
   },
   "source": [
    "        1\n",
    "      2 1 2\n",
    "    3 2 1 2 3\n",
    "  4 3 2 1 2 3 4\n",
    "5 4 3 2 1 2 3 4 5 "
   ]
  },
  {
   "cell_type": "code",
   "execution_count": 137,
   "id": "26a2a5f5",
   "metadata": {
    "execution": {
     "iopub.execute_input": "2023-08-19T18:07:52.638445Z",
     "iopub.status.busy": "2023-08-19T18:07:52.638055Z",
     "iopub.status.idle": "2023-08-19T18:07:52.643533Z",
     "shell.execute_reply": "2023-08-19T18:07:52.642553Z"
    },
    "papermill": {
     "duration": 0.062176,
     "end_time": "2023-08-19T18:07:52.646168",
     "exception": false,
     "start_time": "2023-08-19T18:07:52.583992",
     "status": "completed"
    },
    "tags": []
   },
   "outputs": [
    {
     "name": "stdout",
     "output_type": "stream",
     "text": [
      "1\n",
      "2\n",
      "3\n",
      "4\n",
      "5\n"
     ]
    }
   ],
   "source": [
    "for i  in range(5):\n",
    "    print(i+1)"
   ]
  },
  {
   "cell_type": "code",
   "execution_count": 138,
   "id": "a76b8dce",
   "metadata": {
    "execution": {
     "iopub.execute_input": "2023-08-19T18:07:52.762316Z",
     "iopub.status.busy": "2023-08-19T18:07:52.761927Z",
     "iopub.status.idle": "2023-08-19T18:07:52.767389Z",
     "shell.execute_reply": "2023-08-19T18:07:52.766343Z"
    },
    "papermill": {
     "duration": 0.063387,
     "end_time": "2023-08-19T18:07:52.770412",
     "exception": false,
     "start_time": "2023-08-19T18:07:52.707025",
     "status": "completed"
    },
    "tags": []
   },
   "outputs": [
    {
     "name": "stdout",
     "output_type": "stream",
     "text": [
      "5\n",
      "4\n",
      "3\n",
      "2\n",
      "1\n"
     ]
    }
   ],
   "source": [
    "for i in range(5,0,-1):\n",
    "    print(i)"
   ]
  },
  {
   "cell_type": "code",
   "execution_count": 139,
   "id": "ad6b53db",
   "metadata": {
    "execution": {
     "iopub.execute_input": "2023-08-19T18:07:52.881851Z",
     "iopub.status.busy": "2023-08-19T18:07:52.880786Z",
     "iopub.status.idle": "2023-08-19T18:07:52.887020Z",
     "shell.execute_reply": "2023-08-19T18:07:52.885888Z"
    },
    "papermill": {
     "duration": 0.063426,
     "end_time": "2023-08-19T18:07:52.889214",
     "exception": false,
     "start_time": "2023-08-19T18:07:52.825788",
     "status": "completed"
    },
    "tags": []
   },
   "outputs": [
    {
     "name": "stdout",
     "output_type": "stream",
     "text": [
      "mlv\n"
     ]
    }
   ],
   "source": [
    "print(\"mlv\")"
   ]
  },
  {
   "cell_type": "code",
   "execution_count": null,
   "id": "43d745bb",
   "metadata": {
    "papermill": {
     "duration": 0.055722,
     "end_time": "2023-08-19T18:07:53.001575",
     "exception": false,
     "start_time": "2023-08-19T18:07:52.945853",
     "status": "completed"
    },
    "tags": []
   },
   "outputs": [],
   "source": []
  },
  {
   "cell_type": "code",
   "execution_count": null,
   "id": "8ad914d6",
   "metadata": {
    "papermill": {
     "duration": 0.063303,
     "end_time": "2023-08-19T18:07:53.121549",
     "exception": false,
     "start_time": "2023-08-19T18:07:53.058246",
     "status": "completed"
    },
    "tags": []
   },
   "outputs": [],
   "source": []
  },
  {
   "cell_type": "code",
   "execution_count": null,
   "id": "ffb90ae8",
   "metadata": {
    "papermill": {
     "duration": 0.054409,
     "end_time": "2023-08-19T18:07:53.230293",
     "exception": false,
     "start_time": "2023-08-19T18:07:53.175884",
     "status": "completed"
    },
    "tags": []
   },
   "outputs": [],
   "source": []
  },
  {
   "cell_type": "code",
   "execution_count": null,
   "id": "f287bc19",
   "metadata": {
    "papermill": {
     "duration": 0.067673,
     "end_time": "2023-08-19T18:07:53.439049",
     "exception": false,
     "start_time": "2023-08-19T18:07:53.371376",
     "status": "completed"
    },
    "tags": []
   },
   "outputs": [],
   "source": []
  },
  {
   "cell_type": "code",
   "execution_count": null,
   "id": "e44f3339",
   "metadata": {
    "papermill": {
     "duration": 0.055698,
     "end_time": "2023-08-19T18:07:53.550296",
     "exception": false,
     "start_time": "2023-08-19T18:07:53.494598",
     "status": "completed"
    },
    "tags": []
   },
   "outputs": [],
   "source": []
  },
  {
   "cell_type": "code",
   "execution_count": null,
   "id": "c12959c7",
   "metadata": {
    "papermill": {
     "duration": 0.058128,
     "end_time": "2023-08-19T18:07:53.664017",
     "exception": false,
     "start_time": "2023-08-19T18:07:53.605889",
     "status": "completed"
    },
    "tags": []
   },
   "outputs": [],
   "source": []
  },
  {
   "cell_type": "code",
   "execution_count": null,
   "id": "e610308c",
   "metadata": {
    "papermill": {
     "duration": 0.060613,
     "end_time": "2023-08-19T18:07:53.784762",
     "exception": false,
     "start_time": "2023-08-19T18:07:53.724149",
     "status": "completed"
    },
    "tags": []
   },
   "outputs": [],
   "source": []
  },
  {
   "cell_type": "code",
   "execution_count": null,
   "id": "2376ae1f",
   "metadata": {
    "papermill": {
     "duration": 0.060656,
     "end_time": "2023-08-19T18:07:53.906237",
     "exception": false,
     "start_time": "2023-08-19T18:07:53.845581",
     "status": "completed"
    },
    "tags": []
   },
   "outputs": [],
   "source": []
  },
  {
   "cell_type": "code",
   "execution_count": null,
   "id": "01777c4a",
   "metadata": {
    "papermill": {
     "duration": 0.060849,
     "end_time": "2023-08-19T18:07:54.028888",
     "exception": false,
     "start_time": "2023-08-19T18:07:53.968039",
     "status": "completed"
    },
    "tags": []
   },
   "outputs": [],
   "source": []
  },
  {
   "cell_type": "code",
   "execution_count": null,
   "id": "53ce9d44",
   "metadata": {
    "papermill": {
     "duration": 0.059145,
     "end_time": "2023-08-19T18:07:54.150497",
     "exception": false,
     "start_time": "2023-08-19T18:07:54.091352",
     "status": "completed"
    },
    "tags": []
   },
   "outputs": [],
   "source": []
  },
  {
   "cell_type": "code",
   "execution_count": null,
   "id": "5c11171b",
   "metadata": {
    "papermill": {
     "duration": 0.060162,
     "end_time": "2023-08-19T18:07:54.269730",
     "exception": false,
     "start_time": "2023-08-19T18:07:54.209568",
     "status": "completed"
    },
    "tags": []
   },
   "outputs": [],
   "source": []
  },
  {
   "cell_type": "code",
   "execution_count": null,
   "id": "0492f76b",
   "metadata": {
    "papermill": {
     "duration": 0.058897,
     "end_time": "2023-08-19T18:07:54.386451",
     "exception": false,
     "start_time": "2023-08-19T18:07:54.327554",
     "status": "completed"
    },
    "tags": []
   },
   "outputs": [],
   "source": []
  },
  {
   "cell_type": "code",
   "execution_count": null,
   "id": "648dfc6b",
   "metadata": {
    "papermill": {
     "duration": 0.058578,
     "end_time": "2023-08-19T18:07:54.504851",
     "exception": false,
     "start_time": "2023-08-19T18:07:54.446273",
     "status": "completed"
    },
    "tags": []
   },
   "outputs": [],
   "source": []
  },
  {
   "cell_type": "code",
   "execution_count": null,
   "id": "e003d5b7",
   "metadata": {
    "papermill": {
     "duration": 0.065229,
     "end_time": "2023-08-19T18:07:54.629697",
     "exception": false,
     "start_time": "2023-08-19T18:07:54.564468",
     "status": "completed"
    },
    "tags": []
   },
   "outputs": [],
   "source": []
  },
  {
   "cell_type": "code",
   "execution_count": null,
   "id": "2ed1eba7",
   "metadata": {
    "papermill": {
     "duration": 0.061204,
     "end_time": "2023-08-19T18:07:54.751103",
     "exception": false,
     "start_time": "2023-08-19T18:07:54.689899",
     "status": "completed"
    },
    "tags": []
   },
   "outputs": [],
   "source": []
  },
  {
   "cell_type": "code",
   "execution_count": null,
   "id": "02a799d3",
   "metadata": {
    "papermill": {
     "duration": 0.058182,
     "end_time": "2023-08-19T18:07:54.868240",
     "exception": false,
     "start_time": "2023-08-19T18:07:54.810058",
     "status": "completed"
    },
    "tags": []
   },
   "outputs": [],
   "source": []
  },
  {
   "cell_type": "code",
   "execution_count": null,
   "id": "32445cb9",
   "metadata": {
    "papermill": {
     "duration": 0.057932,
     "end_time": "2023-08-19T18:07:54.984951",
     "exception": false,
     "start_time": "2023-08-19T18:07:54.927019",
     "status": "completed"
    },
    "tags": []
   },
   "outputs": [],
   "source": []
  },
  {
   "cell_type": "code",
   "execution_count": null,
   "id": "774d342f",
   "metadata": {
    "papermill": {
     "duration": 0.059381,
     "end_time": "2023-08-19T18:07:55.102711",
     "exception": false,
     "start_time": "2023-08-19T18:07:55.043330",
     "status": "completed"
    },
    "tags": []
   },
   "outputs": [],
   "source": []
  },
  {
   "cell_type": "code",
   "execution_count": null,
   "id": "a45e84de",
   "metadata": {
    "papermill": {
     "duration": 0.054818,
     "end_time": "2023-08-19T18:07:55.214443",
     "exception": false,
     "start_time": "2023-08-19T18:07:55.159625",
     "status": "completed"
    },
    "tags": []
   },
   "outputs": [],
   "source": []
  },
  {
   "cell_type": "code",
   "execution_count": null,
   "id": "8b82c809",
   "metadata": {
    "papermill": {
     "duration": 0.05442,
     "end_time": "2023-08-19T18:07:55.325707",
     "exception": false,
     "start_time": "2023-08-19T18:07:55.271287",
     "status": "completed"
    },
    "tags": []
   },
   "outputs": [],
   "source": []
  },
  {
   "cell_type": "code",
   "execution_count": null,
   "id": "842367b8",
   "metadata": {
    "papermill": {
     "duration": 0.056099,
     "end_time": "2023-08-19T18:07:55.438586",
     "exception": false,
     "start_time": "2023-08-19T18:07:55.382487",
     "status": "completed"
    },
    "tags": []
   },
   "outputs": [],
   "source": []
  },
  {
   "cell_type": "code",
   "execution_count": null,
   "id": "bf8ce00f",
   "metadata": {
    "papermill": {
     "duration": 0.055484,
     "end_time": "2023-08-19T18:07:55.549789",
     "exception": false,
     "start_time": "2023-08-19T18:07:55.494305",
     "status": "completed"
    },
    "tags": []
   },
   "outputs": [],
   "source": []
  },
  {
   "cell_type": "code",
   "execution_count": null,
   "id": "8b5374ed",
   "metadata": {
    "papermill": {
     "duration": 0.06265,
     "end_time": "2023-08-19T18:07:55.671021",
     "exception": false,
     "start_time": "2023-08-19T18:07:55.608371",
     "status": "completed"
    },
    "tags": []
   },
   "outputs": [],
   "source": []
  },
  {
   "cell_type": "code",
   "execution_count": null,
   "id": "40379cf0",
   "metadata": {
    "papermill": {
     "duration": 0.061786,
     "end_time": "2023-08-19T18:07:55.795345",
     "exception": false,
     "start_time": "2023-08-19T18:07:55.733559",
     "status": "completed"
    },
    "tags": []
   },
   "outputs": [],
   "source": []
  },
  {
   "cell_type": "code",
   "execution_count": null,
   "id": "7e190138",
   "metadata": {
    "papermill": {
     "duration": 0.054566,
     "end_time": "2023-08-19T18:07:55.904267",
     "exception": false,
     "start_time": "2023-08-19T18:07:55.849701",
     "status": "completed"
    },
    "tags": []
   },
   "outputs": [],
   "source": []
  },
  {
   "cell_type": "code",
   "execution_count": null,
   "id": "ea5d87ed",
   "metadata": {
    "papermill": {
     "duration": 0.055327,
     "end_time": "2023-08-19T18:07:56.014891",
     "exception": false,
     "start_time": "2023-08-19T18:07:55.959564",
     "status": "completed"
    },
    "tags": []
   },
   "outputs": [],
   "source": []
  },
  {
   "cell_type": "code",
   "execution_count": null,
   "id": "2113b863",
   "metadata": {
    "papermill": {
     "duration": 0.054444,
     "end_time": "2023-08-19T18:07:56.125136",
     "exception": false,
     "start_time": "2023-08-19T18:07:56.070692",
     "status": "completed"
    },
    "tags": []
   },
   "outputs": [],
   "source": []
  },
  {
   "cell_type": "code",
   "execution_count": null,
   "id": "fe9c1d34",
   "metadata": {
    "papermill": {
     "duration": 0.055348,
     "end_time": "2023-08-19T18:07:56.234376",
     "exception": false,
     "start_time": "2023-08-19T18:07:56.179028",
     "status": "completed"
    },
    "tags": []
   },
   "outputs": [],
   "source": []
  },
  {
   "cell_type": "code",
   "execution_count": null,
   "id": "60340163",
   "metadata": {
    "papermill": {
     "duration": 0.054214,
     "end_time": "2023-08-19T18:07:56.345104",
     "exception": false,
     "start_time": "2023-08-19T18:07:56.290890",
     "status": "completed"
    },
    "tags": []
   },
   "outputs": [],
   "source": []
  },
  {
   "cell_type": "code",
   "execution_count": null,
   "id": "325bff53",
   "metadata": {
    "papermill": {
     "duration": 0.056299,
     "end_time": "2023-08-19T18:07:56.458379",
     "exception": false,
     "start_time": "2023-08-19T18:07:56.402080",
     "status": "completed"
    },
    "tags": []
   },
   "outputs": [],
   "source": []
  },
  {
   "cell_type": "code",
   "execution_count": null,
   "id": "2ff680cd",
   "metadata": {
    "papermill": {
     "duration": 0.055195,
     "end_time": "2023-08-19T18:07:56.569631",
     "exception": false,
     "start_time": "2023-08-19T18:07:56.514436",
     "status": "completed"
    },
    "tags": []
   },
   "outputs": [],
   "source": []
  },
  {
   "cell_type": "code",
   "execution_count": null,
   "id": "e819c00e",
   "metadata": {
    "papermill": {
     "duration": 0.055637,
     "end_time": "2023-08-19T18:07:56.680504",
     "exception": false,
     "start_time": "2023-08-19T18:07:56.624867",
     "status": "completed"
    },
    "tags": []
   },
   "outputs": [],
   "source": []
  },
  {
   "cell_type": "code",
   "execution_count": null,
   "id": "5a95b87f",
   "metadata": {
    "papermill": {
     "duration": 0.055093,
     "end_time": "2023-08-19T18:07:56.791058",
     "exception": false,
     "start_time": "2023-08-19T18:07:56.735965",
     "status": "completed"
    },
    "tags": []
   },
   "outputs": [],
   "source": []
  },
  {
   "cell_type": "code",
   "execution_count": null,
   "id": "aa106bc5",
   "metadata": {
    "papermill": {
     "duration": 0.055325,
     "end_time": "2023-08-19T18:07:56.905288",
     "exception": false,
     "start_time": "2023-08-19T18:07:56.849963",
     "status": "completed"
    },
    "tags": []
   },
   "outputs": [],
   "source": []
  },
  {
   "cell_type": "code",
   "execution_count": null,
   "id": "5d13bf58",
   "metadata": {
    "papermill": {
     "duration": 0.054911,
     "end_time": "2023-08-19T18:07:57.016319",
     "exception": false,
     "start_time": "2023-08-19T18:07:56.961408",
     "status": "completed"
    },
    "tags": []
   },
   "outputs": [],
   "source": []
  },
  {
   "cell_type": "code",
   "execution_count": null,
   "id": "596222bc",
   "metadata": {
    "papermill": {
     "duration": 0.056763,
     "end_time": "2023-08-19T18:07:57.129325",
     "exception": false,
     "start_time": "2023-08-19T18:07:57.072562",
     "status": "completed"
    },
    "tags": []
   },
   "outputs": [],
   "source": []
  },
  {
   "cell_type": "code",
   "execution_count": null,
   "id": "ba5348e6",
   "metadata": {
    "papermill": {
     "duration": 0.056221,
     "end_time": "2023-08-19T18:07:57.242608",
     "exception": false,
     "start_time": "2023-08-19T18:07:57.186387",
     "status": "completed"
    },
    "tags": []
   },
   "outputs": [],
   "source": []
  },
  {
   "cell_type": "code",
   "execution_count": null,
   "id": "0c2a67f8",
   "metadata": {
    "papermill": {
     "duration": 0.057266,
     "end_time": "2023-08-19T18:07:57.362141",
     "exception": false,
     "start_time": "2023-08-19T18:07:57.304875",
     "status": "completed"
    },
    "tags": []
   },
   "outputs": [],
   "source": []
  },
  {
   "cell_type": "code",
   "execution_count": null,
   "id": "594ad087",
   "metadata": {
    "papermill": {
     "duration": 0.056487,
     "end_time": "2023-08-19T18:07:57.475758",
     "exception": false,
     "start_time": "2023-08-19T18:07:57.419271",
     "status": "completed"
    },
    "tags": []
   },
   "outputs": [],
   "source": []
  }
 ],
 "metadata": {
  "kernelspec": {
   "display_name": "Python 3",
   "language": "python",
   "name": "python3"
  },
  "language_info": {
   "codemirror_mode": {
    "name": "ipython",
    "version": 3
   },
   "file_extension": ".py",
   "mimetype": "text/x-python",
   "name": "python",
   "nbconvert_exporter": "python",
   "pygments_lexer": "ipython3",
   "version": "3.10.12"
  },
  "papermill": {
   "default_parameters": {},
   "duration": 32.324101,
   "end_time": "2023-08-19T18:07:58.252404",
   "environment_variables": {},
   "exception": null,
   "input_path": "__notebook__.ipynb",
   "output_path": "__notebook__.ipynb",
   "parameters": {},
   "start_time": "2023-08-19T18:07:25.928303",
   "version": "2.4.0"
  }
 },
 "nbformat": 4,
 "nbformat_minor": 5
}
