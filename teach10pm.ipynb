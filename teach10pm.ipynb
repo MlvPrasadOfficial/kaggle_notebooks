{
 "cells": [
  {
   "cell_type": "code",
   "execution_count": 1,
   "id": "92a7df16",
   "metadata": {
    "_cell_guid": "b1076dfc-b9ad-4769-8c92-a6c4dae69d19",
    "_uuid": "8f2839f25d086af736a60e9eeb907d3b93b6e0e5",
    "execution": {
     "iopub.execute_input": "2023-08-16T18:20:34.555895Z",
     "iopub.status.busy": "2023-08-16T18:20:34.554831Z",
     "iopub.status.idle": "2023-08-16T18:20:34.566932Z",
     "shell.execute_reply": "2023-08-16T18:20:34.566107Z"
    },
    "papermill": {
     "duration": 0.029212,
     "end_time": "2023-08-16T18:20:34.569280",
     "exception": false,
     "start_time": "2023-08-16T18:20:34.540068",
     "status": "completed"
    },
    "tags": []
   },
   "outputs": [
    {
     "name": "stdout",
     "output_type": "stream",
     "text": [
      "sharma is a good boy\n"
     ]
    }
   ],
   "source": [
    "# 0/p\n",
    "print(\"sharma is a good boy\")"
   ]
  },
  {
   "cell_type": "code",
   "execution_count": 2,
   "id": "fc8bb04c",
   "metadata": {
    "execution": {
     "iopub.execute_input": "2023-08-16T18:20:34.596993Z",
     "iopub.status.busy": "2023-08-16T18:20:34.596541Z",
     "iopub.status.idle": "2023-08-16T18:20:34.601387Z",
     "shell.execute_reply": "2023-08-16T18:20:34.600118Z"
    },
    "papermill": {
     "duration": 0.021302,
     "end_time": "2023-08-16T18:20:34.603810",
     "exception": false,
     "start_time": "2023-08-16T18:20:34.582508",
     "status": "completed"
    },
    "tags": []
   },
   "outputs": [],
   "source": [
    "# i/p\n",
    "\n",
    "# name = input()\n",
    "# print(name , \" is a good boy\")"
   ]
  },
  {
   "cell_type": "code",
   "execution_count": 3,
   "id": "50061c21",
   "metadata": {
    "execution": {
     "iopub.execute_input": "2023-08-16T18:20:34.632570Z",
     "iopub.status.busy": "2023-08-16T18:20:34.632161Z",
     "iopub.status.idle": "2023-08-16T18:20:34.637997Z",
     "shell.execute_reply": "2023-08-16T18:20:34.636879Z"
    },
    "papermill": {
     "duration": 0.02425,
     "end_time": "2023-08-16T18:20:34.640769",
     "exception": false,
     "start_time": "2023-08-16T18:20:34.616519",
     "status": "completed"
    },
    "tags": []
   },
   "outputs": [
    {
     "name": "stdout",
     "output_type": "stream",
     "text": [
      "yasmin\n",
      "----\n",
      "yasmin\n",
      "asha\n"
     ]
    }
   ],
   "source": [
    "name = \"yasmin\"\n",
    "\n",
    "print(name)\n",
    "print(\"----\")\n",
    "print(name)\n",
    "name = \"asha\" \n",
    "\n",
    "print(name)"
   ]
  },
  {
   "cell_type": "code",
   "execution_count": 4,
   "id": "c6afa428",
   "metadata": {
    "execution": {
     "iopub.execute_input": "2023-08-16T18:20:34.668660Z",
     "iopub.status.busy": "2023-08-16T18:20:34.668252Z",
     "iopub.status.idle": "2023-08-16T18:20:34.676136Z",
     "shell.execute_reply": "2023-08-16T18:20:34.675072Z"
    },
    "papermill": {
     "duration": 0.025317,
     "end_time": "2023-08-16T18:20:34.678799",
     "exception": false,
     "start_time": "2023-08-16T18:20:34.653482",
     "status": "completed"
    },
    "tags": []
   },
   "outputs": [
    {
     "data": {
      "text/plain": [
       "int"
      ]
     },
     "execution_count": 4,
     "metadata": {},
     "output_type": "execute_result"
    }
   ],
   "source": [
    "a = 7\n",
    "\n",
    "type(a)\n"
   ]
  },
  {
   "cell_type": "code",
   "execution_count": 5,
   "id": "6957231a",
   "metadata": {
    "execution": {
     "iopub.execute_input": "2023-08-16T18:20:34.707246Z",
     "iopub.status.busy": "2023-08-16T18:20:34.706787Z",
     "iopub.status.idle": "2023-08-16T18:20:34.713890Z",
     "shell.execute_reply": "2023-08-16T18:20:34.712757Z"
    },
    "papermill": {
     "duration": 0.02442,
     "end_time": "2023-08-16T18:20:34.716433",
     "exception": false,
     "start_time": "2023-08-16T18:20:34.692013",
     "status": "completed"
    },
    "tags": []
   },
   "outputs": [
    {
     "data": {
      "text/plain": [
       "float"
      ]
     },
     "execution_count": 5,
     "metadata": {},
     "output_type": "execute_result"
    }
   ],
   "source": [
    "b = 7.5\n",
    "\n",
    "type(b)"
   ]
  },
  {
   "cell_type": "code",
   "execution_count": 6,
   "id": "2ec35ab8",
   "metadata": {
    "execution": {
     "iopub.execute_input": "2023-08-16T18:20:34.744830Z",
     "iopub.status.busy": "2023-08-16T18:20:34.744434Z",
     "iopub.status.idle": "2023-08-16T18:20:34.751375Z",
     "shell.execute_reply": "2023-08-16T18:20:34.750236Z"
    },
    "papermill": {
     "duration": 0.024449,
     "end_time": "2023-08-16T18:20:34.753778",
     "exception": false,
     "start_time": "2023-08-16T18:20:34.729329",
     "status": "completed"
    },
    "tags": []
   },
   "outputs": [
    {
     "data": {
      "text/plain": [
       "str"
      ]
     },
     "execution_count": 6,
     "metadata": {},
     "output_type": "execute_result"
    }
   ],
   "source": [
    "c = \"sharma\"\n",
    "type(c)"
   ]
  },
  {
   "cell_type": "code",
   "execution_count": 7,
   "id": "87f7bc1a",
   "metadata": {
    "execution": {
     "iopub.execute_input": "2023-08-16T18:20:34.782450Z",
     "iopub.status.busy": "2023-08-16T18:20:34.782027Z",
     "iopub.status.idle": "2023-08-16T18:20:34.788792Z",
     "shell.execute_reply": "2023-08-16T18:20:34.787685Z"
    },
    "papermill": {
     "duration": 0.023929,
     "end_time": "2023-08-16T18:20:34.791165",
     "exception": false,
     "start_time": "2023-08-16T18:20:34.767236",
     "status": "completed"
    },
    "tags": []
   },
   "outputs": [
    {
     "data": {
      "text/plain": [
       "str"
      ]
     },
     "execution_count": 7,
     "metadata": {},
     "output_type": "execute_result"
    }
   ],
   "source": [
    "d = \"44-5-14\"\n",
    "\n",
    "type(d)"
   ]
  },
  {
   "cell_type": "code",
   "execution_count": 8,
   "id": "d9392b15",
   "metadata": {
    "execution": {
     "iopub.execute_input": "2023-08-16T18:20:34.820241Z",
     "iopub.status.busy": "2023-08-16T18:20:34.819520Z",
     "iopub.status.idle": "2023-08-16T18:20:34.826602Z",
     "shell.execute_reply": "2023-08-16T18:20:34.825477Z"
    },
    "papermill": {
     "duration": 0.024827,
     "end_time": "2023-08-16T18:20:34.829297",
     "exception": false,
     "start_time": "2023-08-16T18:20:34.804470",
     "status": "completed"
    },
    "tags": []
   },
   "outputs": [
    {
     "data": {
      "text/plain": [
       "str"
      ]
     },
     "execution_count": 8,
     "metadata": {},
     "output_type": "execute_result"
    }
   ],
   "source": [
    "e = \"19\"\n",
    "type(e)"
   ]
  },
  {
   "cell_type": "code",
   "execution_count": 9,
   "id": "4a4976b7",
   "metadata": {
    "execution": {
     "iopub.execute_input": "2023-08-16T18:20:34.858737Z",
     "iopub.status.busy": "2023-08-16T18:20:34.858304Z",
     "iopub.status.idle": "2023-08-16T18:20:34.864730Z",
     "shell.execute_reply": "2023-08-16T18:20:34.863680Z"
    },
    "papermill": {
     "duration": 0.024127,
     "end_time": "2023-08-16T18:20:34.867133",
     "exception": false,
     "start_time": "2023-08-16T18:20:34.843006",
     "status": "completed"
    },
    "tags": []
   },
   "outputs": [
    {
     "data": {
      "text/plain": [
       "int"
      ]
     },
     "execution_count": 9,
     "metadata": {},
     "output_type": "execute_result"
    }
   ],
   "source": [
    "f = 19\n",
    "type(f)"
   ]
  },
  {
   "cell_type": "code",
   "execution_count": 10,
   "id": "cf8b1162",
   "metadata": {
    "execution": {
     "iopub.execute_input": "2023-08-16T18:20:34.897552Z",
     "iopub.status.busy": "2023-08-16T18:20:34.896845Z",
     "iopub.status.idle": "2023-08-16T18:20:34.903192Z",
     "shell.execute_reply": "2023-08-16T18:20:34.902170Z"
    },
    "papermill": {
     "duration": 0.024205,
     "end_time": "2023-08-16T18:20:34.905671",
     "exception": false,
     "start_time": "2023-08-16T18:20:34.881466",
     "status": "completed"
    },
    "tags": []
   },
   "outputs": [
    {
     "name": "stdout",
     "output_type": "stream",
     "text": [
      "<class 'int'>\n",
      "<class 'str'>\n"
     ]
    }
   ],
   "source": [
    "#type casting\n",
    "\n",
    "num = 19\n",
    "print(type(num))\n",
    "\n",
    "num = str(num)\n",
    "print(type(num))"
   ]
  },
  {
   "cell_type": "code",
   "execution_count": 11,
   "id": "d86774ea",
   "metadata": {
    "execution": {
     "iopub.execute_input": "2023-08-16T18:20:34.935315Z",
     "iopub.status.busy": "2023-08-16T18:20:34.934882Z",
     "iopub.status.idle": "2023-08-16T18:20:34.941016Z",
     "shell.execute_reply": "2023-08-16T18:20:34.940169Z"
    },
    "papermill": {
     "duration": 0.023757,
     "end_time": "2023-08-16T18:20:34.943573",
     "exception": false,
     "start_time": "2023-08-16T18:20:34.919816",
     "status": "completed"
    },
    "tags": []
   },
   "outputs": [
    {
     "name": "stdout",
     "output_type": "stream",
     "text": [
      "19 <class 'int'>\n",
      "19.0 <class 'float'>\n",
      "19.0 <class 'str'>\n"
     ]
    }
   ],
   "source": [
    "num = 19\n",
    "print(num, type(num))\n",
    "num = float(num) # 19.0\n",
    "print(num, type(num))\n",
    "num = str(num)\n",
    "print(num, type(num))"
   ]
  },
  {
   "cell_type": "code",
   "execution_count": 12,
   "id": "9f6a81b7",
   "metadata": {
    "execution": {
     "iopub.execute_input": "2023-08-16T18:20:34.973301Z",
     "iopub.status.busy": "2023-08-16T18:20:34.972861Z",
     "iopub.status.idle": "2023-08-16T18:20:34.977822Z",
     "shell.execute_reply": "2023-08-16T18:20:34.976727Z"
    },
    "papermill": {
     "duration": 0.022577,
     "end_time": "2023-08-16T18:20:34.980196",
     "exception": false,
     "start_time": "2023-08-16T18:20:34.957619",
     "status": "completed"
    },
    "tags": []
   },
   "outputs": [],
   "source": [
    "# 3num = 19"
   ]
  },
  {
   "cell_type": "code",
   "execution_count": 13,
   "id": "2b91b655",
   "metadata": {
    "execution": {
     "iopub.execute_input": "2023-08-16T18:20:35.009767Z",
     "iopub.status.busy": "2023-08-16T18:20:35.009277Z",
     "iopub.status.idle": "2023-08-16T18:20:35.014624Z",
     "shell.execute_reply": "2023-08-16T18:20:35.013402Z"
    },
    "papermill": {
     "duration": 0.023191,
     "end_time": "2023-08-16T18:20:35.017290",
     "exception": false,
     "start_time": "2023-08-16T18:20:34.994099",
     "status": "completed"
    },
    "tags": []
   },
   "outputs": [],
   "source": [
    "mynameissharma = 19\n",
    "my_name_is_sharma = 20\n",
    "# myNameIsSharma"
   ]
  },
  {
   "cell_type": "code",
   "execution_count": 14,
   "id": "b5a74c1d",
   "metadata": {
    "execution": {
     "iopub.execute_input": "2023-08-16T18:20:35.048210Z",
     "iopub.status.busy": "2023-08-16T18:20:35.046908Z",
     "iopub.status.idle": "2023-08-16T18:20:35.053987Z",
     "shell.execute_reply": "2023-08-16T18:20:35.052759Z"
    },
    "papermill": {
     "duration": 0.024955,
     "end_time": "2023-08-16T18:20:35.056283",
     "exception": false,
     "start_time": "2023-08-16T18:20:35.031328",
     "status": "completed"
    },
    "tags": []
   },
   "outputs": [
    {
     "name": "stdout",
     "output_type": "stream",
     "text": [
      "9 __ 8\n"
     ]
    }
   ],
   "source": [
    "a = 9\n",
    "b = 8\n",
    "print(a, \"__\", b)"
   ]
  },
  {
   "cell_type": "code",
   "execution_count": 15,
   "id": "d4c47d18",
   "metadata": {
    "execution": {
     "iopub.execute_input": "2023-08-16T18:20:35.085982Z",
     "iopub.status.busy": "2023-08-16T18:20:35.085322Z",
     "iopub.status.idle": "2023-08-16T18:20:35.090705Z",
     "shell.execute_reply": "2023-08-16T18:20:35.089362Z"
    },
    "papermill": {
     "duration": 0.023341,
     "end_time": "2023-08-16T18:20:35.093145",
     "exception": false,
     "start_time": "2023-08-16T18:20:35.069804",
     "status": "completed"
    },
    "tags": []
   },
   "outputs": [
    {
     "name": "stdout",
     "output_type": "stream",
     "text": [
      "9 __ 8\n"
     ]
    }
   ],
   "source": [
    "a, b = 9,8 \n",
    "print(a, \"__\", b)"
   ]
  },
  {
   "cell_type": "code",
   "execution_count": 16,
   "id": "19f08ca0",
   "metadata": {
    "execution": {
     "iopub.execute_input": "2023-08-16T18:20:35.123979Z",
     "iopub.status.busy": "2023-08-16T18:20:35.123311Z",
     "iopub.status.idle": "2023-08-16T18:20:35.129835Z",
     "shell.execute_reply": "2023-08-16T18:20:35.128562Z"
    },
    "papermill": {
     "duration": 0.024681,
     "end_time": "2023-08-16T18:20:35.132239",
     "exception": false,
     "start_time": "2023-08-16T18:20:35.107558",
     "status": "completed"
    },
    "tags": []
   },
   "outputs": [
    {
     "name": "stdout",
     "output_type": "stream",
     "text": [
      "Orange\n",
      "Banana\n",
      "Cherry\n"
     ]
    }
   ],
   "source": [
    "x, y, z = \"Orange\", \"Banana\", \"Cherry\"\n",
    "print(x)\n",
    "print(y)\n",
    "print(z)"
   ]
  },
  {
   "cell_type": "code",
   "execution_count": 17,
   "id": "1d3bb310",
   "metadata": {
    "execution": {
     "iopub.execute_input": "2023-08-16T18:20:35.163100Z",
     "iopub.status.busy": "2023-08-16T18:20:35.162651Z",
     "iopub.status.idle": "2023-08-16T18:20:35.167788Z",
     "shell.execute_reply": "2023-08-16T18:20:35.167013Z"
    },
    "papermill": {
     "duration": 0.024153,
     "end_time": "2023-08-16T18:20:35.171112",
     "exception": false,
     "start_time": "2023-08-16T18:20:35.146959",
     "status": "completed"
    },
    "tags": []
   },
   "outputs": [
    {
     "name": "stdout",
     "output_type": "stream",
     "text": [
      "Orange\n",
      "Banana\n",
      "Cherry\n"
     ]
    }
   ],
   "source": [
    "x =  \"Orange\"\n",
    "y =  \"Banana\"\n",
    "z =  \"Cherry\"\n",
    "print(x)\n",
    "print(y)\n",
    "print(z)"
   ]
  },
  {
   "cell_type": "code",
   "execution_count": 18,
   "id": "20ae2e3f",
   "metadata": {
    "execution": {
     "iopub.execute_input": "2023-08-16T18:20:35.201889Z",
     "iopub.status.busy": "2023-08-16T18:20:35.201171Z",
     "iopub.status.idle": "2023-08-16T18:20:35.206967Z",
     "shell.execute_reply": "2023-08-16T18:20:35.206214Z"
    },
    "papermill": {
     "duration": 0.023894,
     "end_time": "2023-08-16T18:20:35.209200",
     "exception": false,
     "start_time": "2023-08-16T18:20:35.185306",
     "status": "completed"
    },
    "tags": []
   },
   "outputs": [
    {
     "data": {
      "text/plain": [
       "int"
      ]
     },
     "execution_count": 18,
     "metadata": {},
     "output_type": "execute_result"
    }
   ],
   "source": [
    "a  = 9 \n",
    "type(a)"
   ]
  },
  {
   "cell_type": "code",
   "execution_count": 19,
   "id": "c4dbe812",
   "metadata": {
    "execution": {
     "iopub.execute_input": "2023-08-16T18:20:35.239773Z",
     "iopub.status.busy": "2023-08-16T18:20:35.239369Z",
     "iopub.status.idle": "2023-08-16T18:20:35.246364Z",
     "shell.execute_reply": "2023-08-16T18:20:35.245110Z"
    },
    "papermill": {
     "duration": 0.025255,
     "end_time": "2023-08-16T18:20:35.248844",
     "exception": false,
     "start_time": "2023-08-16T18:20:35.223589",
     "status": "completed"
    },
    "tags": []
   },
   "outputs": [
    {
     "data": {
      "text/plain": [
       "list"
      ]
     },
     "execution_count": 19,
     "metadata": {},
     "output_type": "execute_result"
    }
   ],
   "source": [
    "a = [9]\n",
    "type(a)\n"
   ]
  },
  {
   "cell_type": "code",
   "execution_count": 20,
   "id": "60341dfd",
   "metadata": {
    "execution": {
     "iopub.execute_input": "2023-08-16T18:20:35.279583Z",
     "iopub.status.busy": "2023-08-16T18:20:35.279176Z",
     "iopub.status.idle": "2023-08-16T18:20:35.286416Z",
     "shell.execute_reply": "2023-08-16T18:20:35.285320Z"
    },
    "papermill": {
     "duration": 0.025652,
     "end_time": "2023-08-16T18:20:35.289064",
     "exception": false,
     "start_time": "2023-08-16T18:20:35.263412",
     "status": "completed"
    },
    "tags": []
   },
   "outputs": [
    {
     "data": {
      "text/plain": [
       "[20, 'sharma', 'prasad', 4, 45, 4543, 454354]"
      ]
     },
     "execution_count": 20,
     "metadata": {},
     "output_type": "execute_result"
    }
   ],
   "source": [
    "# property 1 \n",
    "# index positions\n",
    "\n",
    "\n",
    "a = [ 10,20,\"sharma\",\"prasad\",4,45,4543,454354] # 4\n",
    "a[1:8]"
   ]
  },
  {
   "cell_type": "markdown",
   "id": "d90323b8",
   "metadata": {
    "papermill": {
     "duration": 0.014597,
     "end_time": "2023-08-16T18:20:35.318289",
     "exception": false,
     "start_time": "2023-08-16T18:20:35.303692",
     "status": "completed"
    },
    "tags": []
   },
   "source": [
    "#### "
   ]
  },
  {
   "cell_type": "code",
   "execution_count": 21,
   "id": "8a278de6",
   "metadata": {
    "execution": {
     "iopub.execute_input": "2023-08-16T18:20:35.350761Z",
     "iopub.status.busy": "2023-08-16T18:20:35.350312Z",
     "iopub.status.idle": "2023-08-16T18:20:35.357196Z",
     "shell.execute_reply": "2023-08-16T18:20:35.356056Z"
    },
    "papermill": {
     "duration": 0.026635,
     "end_time": "2023-08-16T18:20:35.359624",
     "exception": false,
     "start_time": "2023-08-16T18:20:35.332989",
     "status": "completed"
    },
    "tags": []
   },
   "outputs": [
    {
     "data": {
      "text/plain": [
       "['sharma', 45]"
      ]
     },
     "execution_count": 21,
     "metadata": {},
     "output_type": "execute_result"
    }
   ],
   "source": [
    "a[2:7:3]"
   ]
  },
  {
   "cell_type": "code",
   "execution_count": 22,
   "id": "fbd36505",
   "metadata": {
    "execution": {
     "iopub.execute_input": "2023-08-16T18:20:35.391193Z",
     "iopub.status.busy": "2023-08-16T18:20:35.390705Z",
     "iopub.status.idle": "2023-08-16T18:20:35.397564Z",
     "shell.execute_reply": "2023-08-16T18:20:35.396488Z"
    },
    "papermill": {
     "duration": 0.025639,
     "end_time": "2023-08-16T18:20:35.400246",
     "exception": false,
     "start_time": "2023-08-16T18:20:35.374607",
     "status": "completed"
    },
    "tags": []
   },
   "outputs": [
    {
     "name": "stdout",
     "output_type": "stream",
     "text": [
      "454354\n"
     ]
    }
   ],
   "source": [
    "# mutable\n",
    "a = [ 10,20,\"sharma\",\"prasad\",4,45,4543,454354]\n",
    "a[0] = \"anusha\"\n",
    "print(a[7])\n",
    "# b = 8\n",
    "# print(b)\n",
    "# c = [1,2]\n",
    "# print(c)"
   ]
  },
  {
   "cell_type": "code",
   "execution_count": 23,
   "id": "14608fb5",
   "metadata": {
    "execution": {
     "iopub.execute_input": "2023-08-16T18:20:35.431382Z",
     "iopub.status.busy": "2023-08-16T18:20:35.430930Z",
     "iopub.status.idle": "2023-08-16T18:20:35.439201Z",
     "shell.execute_reply": "2023-08-16T18:20:35.437982Z"
    },
    "papermill": {
     "duration": 0.026481,
     "end_time": "2023-08-16T18:20:35.441504",
     "exception": false,
     "start_time": "2023-08-16T18:20:35.415023",
     "status": "completed"
    },
    "tags": []
   },
   "outputs": [
    {
     "data": {
      "text/plain": [
       "[1, 2]"
      ]
     },
     "execution_count": 23,
     "metadata": {},
     "output_type": "execute_result"
    }
   ],
   "source": [
    "# mutable\n",
    "a = [ 10,20,\"sharma\",\"prasad\",4,45,4543,454354]\n",
    "a[0] = \"anusha\"\n",
    "a\n",
    "b = 8\n",
    "b\n",
    "c = [1,2]\n",
    "c"
   ]
  },
  {
   "cell_type": "code",
   "execution_count": 24,
   "id": "e61f6bc6",
   "metadata": {
    "execution": {
     "iopub.execute_input": "2023-08-16T18:20:35.473160Z",
     "iopub.status.busy": "2023-08-16T18:20:35.472708Z",
     "iopub.status.idle": "2023-08-16T18:20:35.478866Z",
     "shell.execute_reply": "2023-08-16T18:20:35.477825Z"
    },
    "papermill": {
     "duration": 0.025063,
     "end_time": "2023-08-16T18:20:35.481499",
     "exception": false,
     "start_time": "2023-08-16T18:20:35.456436",
     "status": "completed"
    },
    "tags": []
   },
   "outputs": [
    {
     "name": "stdout",
     "output_type": "stream",
     "text": [
      "8\n"
     ]
    }
   ],
   "source": [
    "a = [ 10,20,\"sharma\",\"prasad\",4,45,4543,454354]\n",
    "print(len(a))"
   ]
  },
  {
   "cell_type": "code",
   "execution_count": 25,
   "id": "d8faef77",
   "metadata": {
    "execution": {
     "iopub.execute_input": "2023-08-16T18:20:35.513378Z",
     "iopub.status.busy": "2023-08-16T18:20:35.512939Z",
     "iopub.status.idle": "2023-08-16T18:20:35.520717Z",
     "shell.execute_reply": "2023-08-16T18:20:35.519686Z"
    },
    "papermill": {
     "duration": 0.026475,
     "end_time": "2023-08-16T18:20:35.522984",
     "exception": false,
     "start_time": "2023-08-16T18:20:35.496509",
     "status": "completed"
    },
    "tags": []
   },
   "outputs": [
    {
     "data": {
      "text/plain": [
       "tuple"
      ]
     },
     "execution_count": 25,
     "metadata": {},
     "output_type": "execute_result"
    }
   ],
   "source": [
    "a = ( 10,20,\"sharma\",\"prasad\",4,45,4543,454354)\n",
    "type(a)"
   ]
  },
  {
   "cell_type": "code",
   "execution_count": 26,
   "id": "e4ae4166",
   "metadata": {
    "execution": {
     "iopub.execute_input": "2023-08-16T18:20:35.555649Z",
     "iopub.status.busy": "2023-08-16T18:20:35.555224Z",
     "iopub.status.idle": "2023-08-16T18:20:35.560211Z",
     "shell.execute_reply": "2023-08-16T18:20:35.559071Z"
    },
    "papermill": {
     "duration": 0.024148,
     "end_time": "2023-08-16T18:20:35.562571",
     "exception": false,
     "start_time": "2023-08-16T18:20:35.538423",
     "status": "completed"
    },
    "tags": []
   },
   "outputs": [],
   "source": [
    "# a = ( 10,20,\"sharma\",\"prasad\",4,45,4543,454354)\n",
    "# a[7] = 10\n",
    "# a"
   ]
  },
  {
   "cell_type": "code",
   "execution_count": 27,
   "id": "adbae538",
   "metadata": {
    "execution": {
     "iopub.execute_input": "2023-08-16T18:20:35.595057Z",
     "iopub.status.busy": "2023-08-16T18:20:35.594556Z",
     "iopub.status.idle": "2023-08-16T18:20:35.602385Z",
     "shell.execute_reply": "2023-08-16T18:20:35.601308Z"
    },
    "papermill": {
     "duration": 0.027216,
     "end_time": "2023-08-16T18:20:35.605057",
     "exception": false,
     "start_time": "2023-08-16T18:20:35.577841",
     "status": "completed"
    },
    "tags": []
   },
   "outputs": [
    {
     "name": "stdout",
     "output_type": "stream",
     "text": [
      "(10, 20, 'sharma', 'prasad', 4, 45, 4543, 454354) <class 'tuple'>\n",
      "[1, 20, 'sharma', 'prasad', 4, 45, 4543, 454354] <class 'list'>\n",
      "(1, 20, 'sharma', 'prasad', 4, 45, 4543, 454354) <class 'tuple'>\n"
     ]
    }
   ],
   "source": [
    "a = ( 10,20,\"sharma\",\"prasad\",4,45,4543,454354)\n",
    "\n",
    "print(a, type(a))\n",
    "a = list(a)\n",
    "a[0]= 1\n",
    "print(a, type(a))\n",
    "a = tuple(a)\n",
    "print(a, type(a))"
   ]
  },
  {
   "cell_type": "code",
   "execution_count": 28,
   "id": "8eddda30",
   "metadata": {
    "execution": {
     "iopub.execute_input": "2023-08-16T18:20:35.637442Z",
     "iopub.status.busy": "2023-08-16T18:20:35.637019Z",
     "iopub.status.idle": "2023-08-16T18:20:35.642117Z",
     "shell.execute_reply": "2023-08-16T18:20:35.640909Z"
    },
    "papermill": {
     "duration": 0.024119,
     "end_time": "2023-08-16T18:20:35.644578",
     "exception": false,
     "start_time": "2023-08-16T18:20:35.620459",
     "status": "completed"
    },
    "tags": []
   },
   "outputs": [],
   "source": [
    "tupledetails = (\"c001\", \"asha\",\"7680896860\")\n",
    "listdetails = [90,80,100]\n"
   ]
  },
  {
   "cell_type": "code",
   "execution_count": 29,
   "id": "81d205b2",
   "metadata": {
    "execution": {
     "iopub.execute_input": "2023-08-16T18:20:35.677098Z",
     "iopub.status.busy": "2023-08-16T18:20:35.676336Z",
     "iopub.status.idle": "2023-08-16T18:20:35.683892Z",
     "shell.execute_reply": "2023-08-16T18:20:35.682801Z"
    },
    "papermill": {
     "duration": 0.026312,
     "end_time": "2023-08-16T18:20:35.686170",
     "exception": false,
     "start_time": "2023-08-16T18:20:35.659858",
     "status": "completed"
    },
    "tags": []
   },
   "outputs": [
    {
     "data": {
      "text/plain": [
       "{1, 2, 3, 4, 5, 6, 7}"
      ]
     },
     "execution_count": 29,
     "metadata": {},
     "output_type": "execute_result"
    }
   ],
   "source": [
    "a = {1,2,3,4,5,6,1,2,3,5,7}\n",
    "a"
   ]
  },
  {
   "cell_type": "code",
   "execution_count": 30,
   "id": "0fb17ee3",
   "metadata": {
    "execution": {
     "iopub.execute_input": "2023-08-16T18:20:35.718933Z",
     "iopub.status.busy": "2023-08-16T18:20:35.718547Z",
     "iopub.status.idle": "2023-08-16T18:20:35.726791Z",
     "shell.execute_reply": "2023-08-16T18:20:35.725653Z"
    },
    "papermill": {
     "duration": 0.027615,
     "end_time": "2023-08-16T18:20:35.729117",
     "exception": false,
     "start_time": "2023-08-16T18:20:35.701502",
     "status": "completed"
    },
    "tags": []
   },
   "outputs": [
    {
     "data": {
      "text/plain": [
       "dict_items([('a', {'a.1': 2, 'a.2': [10, 20, 30]}), ('b', {'b.1': {'b.1.1': 4}}), ('c', {'c.1': 5, 'c.2': {'c.2.1': [6, 55]}})])"
      ]
     },
     "execution_count": 30,
     "metadata": {},
     "output_type": "execute_result"
    }
   ],
   "source": [
    "sha = { \"a\" : { \n",
    "            \"a.1\" : 2,\n",
    "            \"a.2\"  : [10,20,30]\n",
    "            }\n",
    "     ,\n",
    "     \n",
    "     \"b\" : { \n",
    "            \"b.1\" : {\n",
    "                     \"b.1.1\" : 4\n",
    "                    }\n",
    "           }\n",
    "     ,\n",
    "      \"c\"  : {\n",
    "             \"c.1\" : 5,\n",
    "             \"c.2\"  : {\n",
    "                         \"c.2.1\" : [6,55]\n",
    "                      }\n",
    "       }}\n",
    "\n",
    "\n",
    "# sha[\"c\"][\"c.2\"][\"c.2.1\"][0]\n",
    "sha.items()"
   ]
  },
  {
   "cell_type": "code",
   "execution_count": null,
   "id": "376a3e81",
   "metadata": {
    "papermill": {
     "duration": 0.015029,
     "end_time": "2023-08-16T18:20:35.759521",
     "exception": false,
     "start_time": "2023-08-16T18:20:35.744492",
     "status": "completed"
    },
    "tags": []
   },
   "outputs": [],
   "source": []
  },
  {
   "cell_type": "code",
   "execution_count": null,
   "id": "64b33bfd",
   "metadata": {
    "papermill": {
     "duration": 0.014957,
     "end_time": "2023-08-16T18:20:35.789748",
     "exception": false,
     "start_time": "2023-08-16T18:20:35.774791",
     "status": "completed"
    },
    "tags": []
   },
   "outputs": [],
   "source": []
  },
  {
   "cell_type": "code",
   "execution_count": null,
   "id": "40bd9abc",
   "metadata": {
    "papermill": {
     "duration": 0.01507,
     "end_time": "2023-08-16T18:20:35.820260",
     "exception": false,
     "start_time": "2023-08-16T18:20:35.805190",
     "status": "completed"
    },
    "tags": []
   },
   "outputs": [],
   "source": []
  },
  {
   "cell_type": "code",
   "execution_count": null,
   "id": "0a409bde",
   "metadata": {
    "papermill": {
     "duration": 0.015081,
     "end_time": "2023-08-16T18:20:35.850645",
     "exception": false,
     "start_time": "2023-08-16T18:20:35.835564",
     "status": "completed"
    },
    "tags": []
   },
   "outputs": [],
   "source": []
  },
  {
   "cell_type": "code",
   "execution_count": null,
   "id": "ffa55e92",
   "metadata": {
    "papermill": {
     "duration": 0.015223,
     "end_time": "2023-08-16T18:20:35.882018",
     "exception": false,
     "start_time": "2023-08-16T18:20:35.866795",
     "status": "completed"
    },
    "tags": []
   },
   "outputs": [],
   "source": []
  },
  {
   "cell_type": "code",
   "execution_count": null,
   "id": "2c679426",
   "metadata": {
    "papermill": {
     "duration": 0.01525,
     "end_time": "2023-08-16T18:20:35.912771",
     "exception": false,
     "start_time": "2023-08-16T18:20:35.897521",
     "status": "completed"
    },
    "tags": []
   },
   "outputs": [],
   "source": []
  },
  {
   "cell_type": "code",
   "execution_count": null,
   "id": "86c43cdd",
   "metadata": {
    "papermill": {
     "duration": 0.015092,
     "end_time": "2023-08-16T18:20:35.943251",
     "exception": false,
     "start_time": "2023-08-16T18:20:35.928159",
     "status": "completed"
    },
    "tags": []
   },
   "outputs": [],
   "source": []
  },
  {
   "cell_type": "code",
   "execution_count": null,
   "id": "e868c0cd",
   "metadata": {
    "papermill": {
     "duration": 0.015169,
     "end_time": "2023-08-16T18:20:35.973755",
     "exception": false,
     "start_time": "2023-08-16T18:20:35.958586",
     "status": "completed"
    },
    "tags": []
   },
   "outputs": [],
   "source": []
  },
  {
   "cell_type": "code",
   "execution_count": null,
   "id": "50fccd95",
   "metadata": {
    "papermill": {
     "duration": 0.015353,
     "end_time": "2023-08-16T18:20:36.004965",
     "exception": false,
     "start_time": "2023-08-16T18:20:35.989612",
     "status": "completed"
    },
    "tags": []
   },
   "outputs": [],
   "source": []
  },
  {
   "cell_type": "code",
   "execution_count": null,
   "id": "73316209",
   "metadata": {
    "papermill": {
     "duration": 0.015013,
     "end_time": "2023-08-16T18:20:36.035470",
     "exception": false,
     "start_time": "2023-08-16T18:20:36.020457",
     "status": "completed"
    },
    "tags": []
   },
   "outputs": [],
   "source": []
  },
  {
   "cell_type": "code",
   "execution_count": null,
   "id": "064c938f",
   "metadata": {
    "papermill": {
     "duration": 0.015031,
     "end_time": "2023-08-16T18:20:36.065735",
     "exception": false,
     "start_time": "2023-08-16T18:20:36.050704",
     "status": "completed"
    },
    "tags": []
   },
   "outputs": [],
   "source": []
  },
  {
   "cell_type": "code",
   "execution_count": null,
   "id": "f475d694",
   "metadata": {
    "papermill": {
     "duration": 0.014961,
     "end_time": "2023-08-16T18:20:36.095968",
     "exception": false,
     "start_time": "2023-08-16T18:20:36.081007",
     "status": "completed"
    },
    "tags": []
   },
   "outputs": [],
   "source": []
  }
 ],
 "metadata": {
  "kernelspec": {
   "display_name": "Python 3",
   "language": "python",
   "name": "python3"
  },
  "language_info": {
   "codemirror_mode": {
    "name": "ipython",
    "version": 3
   },
   "file_extension": ".py",
   "mimetype": "text/x-python",
   "name": "python",
   "nbconvert_exporter": "python",
   "pygments_lexer": "ipython3",
   "version": "3.10.12"
  },
  "papermill": {
   "default_parameters": {},
   "duration": 15.494211,
   "end_time": "2023-08-16T18:20:36.933629",
   "environment_variables": {},
   "exception": null,
   "input_path": "__notebook__.ipynb",
   "output_path": "__notebook__.ipynb",
   "parameters": {},
   "start_time": "2023-08-16T18:20:21.439418",
   "version": "2.4.0"
  }
 },
 "nbformat": 4,
 "nbformat_minor": 5
}
