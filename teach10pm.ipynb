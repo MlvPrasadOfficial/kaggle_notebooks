{
 "cells": [
  {
   "cell_type": "code",
   "execution_count": 1,
   "id": "5ab34127",
   "metadata": {
    "_cell_guid": "b1076dfc-b9ad-4769-8c92-a6c4dae69d19",
    "_uuid": "8f2839f25d086af736a60e9eeb907d3b93b6e0e5",
    "execution": {
     "iopub.execute_input": "2023-08-17T18:20:39.086425Z",
     "iopub.status.busy": "2023-08-17T18:20:39.085770Z",
     "iopub.status.idle": "2023-08-17T18:20:39.102931Z",
     "shell.execute_reply": "2023-08-17T18:20:39.102025Z"
    },
    "papermill": {
     "duration": 0.047975,
     "end_time": "2023-08-17T18:20:39.105624",
     "exception": false,
     "start_time": "2023-08-17T18:20:39.057649",
     "status": "completed"
    },
    "tags": []
   },
   "outputs": [
    {
     "name": "stdout",
     "output_type": "stream",
     "text": [
      "sharma is a good boy\n"
     ]
    }
   ],
   "source": [
    "# 0/p\n",
    "print(\"sharma is a good boy\")"
   ]
  },
  {
   "cell_type": "code",
   "execution_count": 2,
   "id": "373ac872",
   "metadata": {
    "execution": {
     "iopub.execute_input": "2023-08-17T18:20:39.159249Z",
     "iopub.status.busy": "2023-08-17T18:20:39.158832Z",
     "iopub.status.idle": "2023-08-17T18:20:39.163632Z",
     "shell.execute_reply": "2023-08-17T18:20:39.162366Z"
    },
    "papermill": {
     "duration": 0.034241,
     "end_time": "2023-08-17T18:20:39.166268",
     "exception": false,
     "start_time": "2023-08-17T18:20:39.132027",
     "status": "completed"
    },
    "tags": []
   },
   "outputs": [],
   "source": [
    "# i/p\n",
    "\n",
    "# name = input()\n",
    "# print(name , \" is a good boy\")"
   ]
  },
  {
   "cell_type": "code",
   "execution_count": 3,
   "id": "7b4fbc96",
   "metadata": {
    "execution": {
     "iopub.execute_input": "2023-08-17T18:20:39.218962Z",
     "iopub.status.busy": "2023-08-17T18:20:39.218528Z",
     "iopub.status.idle": "2023-08-17T18:20:39.225063Z",
     "shell.execute_reply": "2023-08-17T18:20:39.223812Z"
    },
    "papermill": {
     "duration": 0.03589,
     "end_time": "2023-08-17T18:20:39.227748",
     "exception": false,
     "start_time": "2023-08-17T18:20:39.191858",
     "status": "completed"
    },
    "tags": []
   },
   "outputs": [
    {
     "name": "stdout",
     "output_type": "stream",
     "text": [
      "yasmin\n",
      "----\n",
      "yasmin\n",
      "asha\n"
     ]
    }
   ],
   "source": [
    "name = \"yasmin\"\n",
    "\n",
    "print(name)\n",
    "print(\"----\")\n",
    "print(name)\n",
    "name = \"asha\" \n",
    "\n",
    "print(name)"
   ]
  },
  {
   "cell_type": "code",
   "execution_count": 4,
   "id": "183e21d7",
   "metadata": {
    "execution": {
     "iopub.execute_input": "2023-08-17T18:20:39.281939Z",
     "iopub.status.busy": "2023-08-17T18:20:39.281477Z",
     "iopub.status.idle": "2023-08-17T18:20:39.291386Z",
     "shell.execute_reply": "2023-08-17T18:20:39.289993Z"
    },
    "papermill": {
     "duration": 0.040347,
     "end_time": "2023-08-17T18:20:39.293985",
     "exception": false,
     "start_time": "2023-08-17T18:20:39.253638",
     "status": "completed"
    },
    "tags": []
   },
   "outputs": [
    {
     "data": {
      "text/plain": [
       "int"
      ]
     },
     "execution_count": 4,
     "metadata": {},
     "output_type": "execute_result"
    }
   ],
   "source": [
    "a = 7\n",
    "\n",
    "type(a)\n"
   ]
  },
  {
   "cell_type": "code",
   "execution_count": 5,
   "id": "9116e27d",
   "metadata": {
    "execution": {
     "iopub.execute_input": "2023-08-17T18:20:39.349907Z",
     "iopub.status.busy": "2023-08-17T18:20:39.349480Z",
     "iopub.status.idle": "2023-08-17T18:20:39.357854Z",
     "shell.execute_reply": "2023-08-17T18:20:39.356617Z"
    },
    "papermill": {
     "duration": 0.040915,
     "end_time": "2023-08-17T18:20:39.360967",
     "exception": false,
     "start_time": "2023-08-17T18:20:39.320052",
     "status": "completed"
    },
    "tags": []
   },
   "outputs": [
    {
     "data": {
      "text/plain": [
       "float"
      ]
     },
     "execution_count": 5,
     "metadata": {},
     "output_type": "execute_result"
    }
   ],
   "source": [
    "b = 7.5\n",
    "\n",
    "type(b)"
   ]
  },
  {
   "cell_type": "code",
   "execution_count": 6,
   "id": "d1838ad3",
   "metadata": {
    "execution": {
     "iopub.execute_input": "2023-08-17T18:20:39.414859Z",
     "iopub.status.busy": "2023-08-17T18:20:39.413635Z",
     "iopub.status.idle": "2023-08-17T18:20:39.422711Z",
     "shell.execute_reply": "2023-08-17T18:20:39.421205Z"
    },
    "papermill": {
     "duration": 0.038917,
     "end_time": "2023-08-17T18:20:39.425737",
     "exception": false,
     "start_time": "2023-08-17T18:20:39.386820",
     "status": "completed"
    },
    "tags": []
   },
   "outputs": [
    {
     "data": {
      "text/plain": [
       "str"
      ]
     },
     "execution_count": 6,
     "metadata": {},
     "output_type": "execute_result"
    }
   ],
   "source": [
    "c = \"sharma\"\n",
    "type(c)"
   ]
  },
  {
   "cell_type": "code",
   "execution_count": 7,
   "id": "ec94cc9a",
   "metadata": {
    "execution": {
     "iopub.execute_input": "2023-08-17T18:20:39.481175Z",
     "iopub.status.busy": "2023-08-17T18:20:39.480619Z",
     "iopub.status.idle": "2023-08-17T18:20:39.489823Z",
     "shell.execute_reply": "2023-08-17T18:20:39.488451Z"
    },
    "papermill": {
     "duration": 0.039704,
     "end_time": "2023-08-17T18:20:39.492895",
     "exception": false,
     "start_time": "2023-08-17T18:20:39.453191",
     "status": "completed"
    },
    "tags": []
   },
   "outputs": [
    {
     "data": {
      "text/plain": [
       "str"
      ]
     },
     "execution_count": 7,
     "metadata": {},
     "output_type": "execute_result"
    }
   ],
   "source": [
    "d = \"44-5-14\"\n",
    "\n",
    "type(d)"
   ]
  },
  {
   "cell_type": "code",
   "execution_count": 8,
   "id": "a9391351",
   "metadata": {
    "execution": {
     "iopub.execute_input": "2023-08-17T18:20:39.546904Z",
     "iopub.status.busy": "2023-08-17T18:20:39.546430Z",
     "iopub.status.idle": "2023-08-17T18:20:39.554874Z",
     "shell.execute_reply": "2023-08-17T18:20:39.553334Z"
    },
    "papermill": {
     "duration": 0.038945,
     "end_time": "2023-08-17T18:20:39.557627",
     "exception": false,
     "start_time": "2023-08-17T18:20:39.518682",
     "status": "completed"
    },
    "tags": []
   },
   "outputs": [
    {
     "data": {
      "text/plain": [
       "str"
      ]
     },
     "execution_count": 8,
     "metadata": {},
     "output_type": "execute_result"
    }
   ],
   "source": [
    "e = \"19\"\n",
    "type(e)"
   ]
  },
  {
   "cell_type": "code",
   "execution_count": 9,
   "id": "358afa2a",
   "metadata": {
    "execution": {
     "iopub.execute_input": "2023-08-17T18:20:39.614951Z",
     "iopub.status.busy": "2023-08-17T18:20:39.614539Z",
     "iopub.status.idle": "2023-08-17T18:20:39.621936Z",
     "shell.execute_reply": "2023-08-17T18:20:39.620691Z"
    },
    "papermill": {
     "duration": 0.039696,
     "end_time": "2023-08-17T18:20:39.624662",
     "exception": false,
     "start_time": "2023-08-17T18:20:39.584966",
     "status": "completed"
    },
    "tags": []
   },
   "outputs": [
    {
     "data": {
      "text/plain": [
       "int"
      ]
     },
     "execution_count": 9,
     "metadata": {},
     "output_type": "execute_result"
    }
   ],
   "source": [
    "f = 19\n",
    "type(f)"
   ]
  },
  {
   "cell_type": "code",
   "execution_count": 10,
   "id": "4f6ddbbc",
   "metadata": {
    "execution": {
     "iopub.execute_input": "2023-08-17T18:20:39.681331Z",
     "iopub.status.busy": "2023-08-17T18:20:39.680851Z",
     "iopub.status.idle": "2023-08-17T18:20:39.687534Z",
     "shell.execute_reply": "2023-08-17T18:20:39.686193Z"
    },
    "papermill": {
     "duration": 0.038392,
     "end_time": "2023-08-17T18:20:39.690427",
     "exception": false,
     "start_time": "2023-08-17T18:20:39.652035",
     "status": "completed"
    },
    "tags": []
   },
   "outputs": [
    {
     "name": "stdout",
     "output_type": "stream",
     "text": [
      "<class 'int'>\n",
      "<class 'str'>\n"
     ]
    }
   ],
   "source": [
    "#type casting\n",
    "\n",
    "num = 19\n",
    "print(type(num))\n",
    "\n",
    "num = str(num)\n",
    "print(type(num))"
   ]
  },
  {
   "cell_type": "code",
   "execution_count": 11,
   "id": "20528b71",
   "metadata": {
    "execution": {
     "iopub.execute_input": "2023-08-17T18:20:39.744613Z",
     "iopub.status.busy": "2023-08-17T18:20:39.744111Z",
     "iopub.status.idle": "2023-08-17T18:20:39.751513Z",
     "shell.execute_reply": "2023-08-17T18:20:39.749985Z"
    },
    "papermill": {
     "duration": 0.037956,
     "end_time": "2023-08-17T18:20:39.754244",
     "exception": false,
     "start_time": "2023-08-17T18:20:39.716288",
     "status": "completed"
    },
    "tags": []
   },
   "outputs": [
    {
     "name": "stdout",
     "output_type": "stream",
     "text": [
      "19 <class 'int'>\n",
      "19.0 <class 'float'>\n",
      "19.0 <class 'str'>\n"
     ]
    }
   ],
   "source": [
    "num = 19\n",
    "print(num, type(num))\n",
    "num = float(num) # 19.0\n",
    "print(num, type(num))\n",
    "num = str(num)\n",
    "print(num, type(num))"
   ]
  },
  {
   "cell_type": "code",
   "execution_count": 12,
   "id": "6cea824b",
   "metadata": {
    "execution": {
     "iopub.execute_input": "2023-08-17T18:20:39.809552Z",
     "iopub.status.busy": "2023-08-17T18:20:39.809024Z",
     "iopub.status.idle": "2023-08-17T18:20:39.814266Z",
     "shell.execute_reply": "2023-08-17T18:20:39.813261Z"
    },
    "papermill": {
     "duration": 0.03633,
     "end_time": "2023-08-17T18:20:39.816672",
     "exception": false,
     "start_time": "2023-08-17T18:20:39.780342",
     "status": "completed"
    },
    "tags": []
   },
   "outputs": [],
   "source": [
    "# 3num = 19"
   ]
  },
  {
   "cell_type": "code",
   "execution_count": 13,
   "id": "3b0c18c0",
   "metadata": {
    "execution": {
     "iopub.execute_input": "2023-08-17T18:20:39.871680Z",
     "iopub.status.busy": "2023-08-17T18:20:39.871303Z",
     "iopub.status.idle": "2023-08-17T18:20:39.876604Z",
     "shell.execute_reply": "2023-08-17T18:20:39.875274Z"
    },
    "papermill": {
     "duration": 0.035563,
     "end_time": "2023-08-17T18:20:39.878997",
     "exception": false,
     "start_time": "2023-08-17T18:20:39.843434",
     "status": "completed"
    },
    "tags": []
   },
   "outputs": [],
   "source": [
    "mynameissharma = 19\n",
    "my_name_is_sharma = 20\n",
    "# myNameIsSharma"
   ]
  },
  {
   "cell_type": "code",
   "execution_count": 14,
   "id": "1e9db5f3",
   "metadata": {
    "execution": {
     "iopub.execute_input": "2023-08-17T18:20:39.932901Z",
     "iopub.status.busy": "2023-08-17T18:20:39.932475Z",
     "iopub.status.idle": "2023-08-17T18:20:39.938684Z",
     "shell.execute_reply": "2023-08-17T18:20:39.937416Z"
    },
    "papermill": {
     "duration": 0.036152,
     "end_time": "2023-08-17T18:20:39.941060",
     "exception": false,
     "start_time": "2023-08-17T18:20:39.904908",
     "status": "completed"
    },
    "tags": []
   },
   "outputs": [
    {
     "name": "stdout",
     "output_type": "stream",
     "text": [
      "9 __ 8\n"
     ]
    }
   ],
   "source": [
    "a = 9\n",
    "b = 8\n",
    "print(a, \"__\", b)"
   ]
  },
  {
   "cell_type": "code",
   "execution_count": 15,
   "id": "6d86e985",
   "metadata": {
    "execution": {
     "iopub.execute_input": "2023-08-17T18:20:39.995432Z",
     "iopub.status.busy": "2023-08-17T18:20:39.995036Z",
     "iopub.status.idle": "2023-08-17T18:20:40.000450Z",
     "shell.execute_reply": "2023-08-17T18:20:39.999129Z"
    },
    "papermill": {
     "duration": 0.036526,
     "end_time": "2023-08-17T18:20:40.003589",
     "exception": false,
     "start_time": "2023-08-17T18:20:39.967063",
     "status": "completed"
    },
    "tags": []
   },
   "outputs": [
    {
     "name": "stdout",
     "output_type": "stream",
     "text": [
      "9 __ 8\n"
     ]
    }
   ],
   "source": [
    "a, b = 9,8 \n",
    "print(a, \"__\", b)"
   ]
  },
  {
   "cell_type": "code",
   "execution_count": 16,
   "id": "c71280e6",
   "metadata": {
    "execution": {
     "iopub.execute_input": "2023-08-17T18:20:40.066303Z",
     "iopub.status.busy": "2023-08-17T18:20:40.065800Z",
     "iopub.status.idle": "2023-08-17T18:20:40.072780Z",
     "shell.execute_reply": "2023-08-17T18:20:40.071476Z"
    },
    "papermill": {
     "duration": 0.039853,
     "end_time": "2023-08-17T18:20:40.075368",
     "exception": false,
     "start_time": "2023-08-17T18:20:40.035515",
     "status": "completed"
    },
    "tags": []
   },
   "outputs": [
    {
     "name": "stdout",
     "output_type": "stream",
     "text": [
      "Orange\n",
      "Banana\n",
      "Cherry\n"
     ]
    }
   ],
   "source": [
    "x, y, z = \"Orange\", \"Banana\", \"Cherry\"\n",
    "print(x)\n",
    "print(y)\n",
    "print(z)"
   ]
  },
  {
   "cell_type": "code",
   "execution_count": 17,
   "id": "816d4585",
   "metadata": {
    "execution": {
     "iopub.execute_input": "2023-08-17T18:20:40.132083Z",
     "iopub.status.busy": "2023-08-17T18:20:40.131656Z",
     "iopub.status.idle": "2023-08-17T18:20:40.137810Z",
     "shell.execute_reply": "2023-08-17T18:20:40.136897Z"
    },
    "papermill": {
     "duration": 0.037778,
     "end_time": "2023-08-17T18:20:40.140407",
     "exception": false,
     "start_time": "2023-08-17T18:20:40.102629",
     "status": "completed"
    },
    "tags": []
   },
   "outputs": [
    {
     "name": "stdout",
     "output_type": "stream",
     "text": [
      "Orange\n",
      "Banana\n",
      "Cherry\n"
     ]
    }
   ],
   "source": [
    "x =  \"Orange\"\n",
    "y =  \"Banana\"\n",
    "z =  \"Cherry\"\n",
    "print(x)\n",
    "print(y)\n",
    "print(z)"
   ]
  },
  {
   "cell_type": "code",
   "execution_count": 18,
   "id": "a1a378f3",
   "metadata": {
    "execution": {
     "iopub.execute_input": "2023-08-17T18:20:40.195894Z",
     "iopub.status.busy": "2023-08-17T18:20:40.195448Z",
     "iopub.status.idle": "2023-08-17T18:20:40.202047Z",
     "shell.execute_reply": "2023-08-17T18:20:40.201222Z"
    },
    "papermill": {
     "duration": 0.037466,
     "end_time": "2023-08-17T18:20:40.204354",
     "exception": false,
     "start_time": "2023-08-17T18:20:40.166888",
     "status": "completed"
    },
    "tags": []
   },
   "outputs": [
    {
     "data": {
      "text/plain": [
       "int"
      ]
     },
     "execution_count": 18,
     "metadata": {},
     "output_type": "execute_result"
    }
   ],
   "source": [
    "a  = 9 \n",
    "type(a)"
   ]
  },
  {
   "cell_type": "code",
   "execution_count": 19,
   "id": "6b098db5",
   "metadata": {
    "execution": {
     "iopub.execute_input": "2023-08-17T18:20:40.260526Z",
     "iopub.status.busy": "2023-08-17T18:20:40.260044Z",
     "iopub.status.idle": "2023-08-17T18:20:40.267155Z",
     "shell.execute_reply": "2023-08-17T18:20:40.266252Z"
    },
    "papermill": {
     "duration": 0.037792,
     "end_time": "2023-08-17T18:20:40.269408",
     "exception": false,
     "start_time": "2023-08-17T18:20:40.231616",
     "status": "completed"
    },
    "tags": []
   },
   "outputs": [
    {
     "data": {
      "text/plain": [
       "list"
      ]
     },
     "execution_count": 19,
     "metadata": {},
     "output_type": "execute_result"
    }
   ],
   "source": [
    "a = [9]\n",
    "type(a)\n"
   ]
  },
  {
   "cell_type": "code",
   "execution_count": 20,
   "id": "0c92678f",
   "metadata": {
    "execution": {
     "iopub.execute_input": "2023-08-17T18:20:40.325531Z",
     "iopub.status.busy": "2023-08-17T18:20:40.325037Z",
     "iopub.status.idle": "2023-08-17T18:20:40.333512Z",
     "shell.execute_reply": "2023-08-17T18:20:40.332222Z"
    },
    "papermill": {
     "duration": 0.039301,
     "end_time": "2023-08-17T18:20:40.336057",
     "exception": false,
     "start_time": "2023-08-17T18:20:40.296756",
     "status": "completed"
    },
    "tags": []
   },
   "outputs": [
    {
     "data": {
      "text/plain": [
       "[20, 'sharma', 'prasad', 4, 45, 4543, 454354]"
      ]
     },
     "execution_count": 20,
     "metadata": {},
     "output_type": "execute_result"
    }
   ],
   "source": [
    "# property 1 \n",
    "# index positions\n",
    "\n",
    "\n",
    "a = [ 10,20,\"sharma\",\"prasad\",4,45,4543,454354] # 4\n",
    "a[1:8]"
   ]
  },
  {
   "cell_type": "markdown",
   "id": "575f3738",
   "metadata": {
    "papermill": {
     "duration": 0.026663,
     "end_time": "2023-08-17T18:20:40.391337",
     "exception": false,
     "start_time": "2023-08-17T18:20:40.364674",
     "status": "completed"
    },
    "tags": []
   },
   "source": [
    "#### "
   ]
  },
  {
   "cell_type": "code",
   "execution_count": 21,
   "id": "6913013f",
   "metadata": {
    "execution": {
     "iopub.execute_input": "2023-08-17T18:20:40.448832Z",
     "iopub.status.busy": "2023-08-17T18:20:40.448389Z",
     "iopub.status.idle": "2023-08-17T18:20:40.456997Z",
     "shell.execute_reply": "2023-08-17T18:20:40.455532Z"
    },
    "papermill": {
     "duration": 0.040527,
     "end_time": "2023-08-17T18:20:40.459974",
     "exception": false,
     "start_time": "2023-08-17T18:20:40.419447",
     "status": "completed"
    },
    "tags": []
   },
   "outputs": [
    {
     "data": {
      "text/plain": [
       "['sharma', 45]"
      ]
     },
     "execution_count": 21,
     "metadata": {},
     "output_type": "execute_result"
    }
   ],
   "source": [
    "a[2:7:3]"
   ]
  },
  {
   "cell_type": "code",
   "execution_count": 22,
   "id": "75d5397f",
   "metadata": {
    "execution": {
     "iopub.execute_input": "2023-08-17T18:20:40.515688Z",
     "iopub.status.busy": "2023-08-17T18:20:40.515255Z",
     "iopub.status.idle": "2023-08-17T18:20:40.523107Z",
     "shell.execute_reply": "2023-08-17T18:20:40.521199Z"
    },
    "papermill": {
     "duration": 0.038583,
     "end_time": "2023-08-17T18:20:40.525545",
     "exception": false,
     "start_time": "2023-08-17T18:20:40.486962",
     "status": "completed"
    },
    "tags": []
   },
   "outputs": [
    {
     "name": "stdout",
     "output_type": "stream",
     "text": [
      "454354\n"
     ]
    }
   ],
   "source": [
    "# mutable\n",
    "a = [ 10,20,\"sharma\",\"prasad\",4,45,4543,454354]\n",
    "a[0] = \"anusha\"\n",
    "print(a[7])\n",
    "# b = 8\n",
    "# print(b)\n",
    "# c = [1,2]\n",
    "# print(c)"
   ]
  },
  {
   "cell_type": "code",
   "execution_count": 23,
   "id": "b86b61e5",
   "metadata": {
    "execution": {
     "iopub.execute_input": "2023-08-17T18:20:40.581707Z",
     "iopub.status.busy": "2023-08-17T18:20:40.581284Z",
     "iopub.status.idle": "2023-08-17T18:20:40.589746Z",
     "shell.execute_reply": "2023-08-17T18:20:40.588579Z"
    },
    "papermill": {
     "duration": 0.03981,
     "end_time": "2023-08-17T18:20:40.592370",
     "exception": false,
     "start_time": "2023-08-17T18:20:40.552560",
     "status": "completed"
    },
    "tags": []
   },
   "outputs": [
    {
     "data": {
      "text/plain": [
       "[1, 2]"
      ]
     },
     "execution_count": 23,
     "metadata": {},
     "output_type": "execute_result"
    }
   ],
   "source": [
    "# mutable\n",
    "a = [ 10,20,\"sharma\",\"prasad\",4,45,4543,454354]\n",
    "a[0] = \"anusha\"\n",
    "a\n",
    "b = 8\n",
    "b\n",
    "c = [1,2]\n",
    "c"
   ]
  },
  {
   "cell_type": "code",
   "execution_count": 24,
   "id": "dfdbd8ac",
   "metadata": {
    "execution": {
     "iopub.execute_input": "2023-08-17T18:20:40.648406Z",
     "iopub.status.busy": "2023-08-17T18:20:40.647723Z",
     "iopub.status.idle": "2023-08-17T18:20:40.654366Z",
     "shell.execute_reply": "2023-08-17T18:20:40.653212Z"
    },
    "papermill": {
     "duration": 0.037903,
     "end_time": "2023-08-17T18:20:40.656980",
     "exception": false,
     "start_time": "2023-08-17T18:20:40.619077",
     "status": "completed"
    },
    "tags": []
   },
   "outputs": [
    {
     "name": "stdout",
     "output_type": "stream",
     "text": [
      "8\n"
     ]
    }
   ],
   "source": [
    "a = [ 10,20,\"sharma\",\"prasad\",4,45,4543,454354]\n",
    "print(len(a))"
   ]
  },
  {
   "cell_type": "code",
   "execution_count": 25,
   "id": "c3a71628",
   "metadata": {
    "execution": {
     "iopub.execute_input": "2023-08-17T18:20:40.713442Z",
     "iopub.status.busy": "2023-08-17T18:20:40.712503Z",
     "iopub.status.idle": "2023-08-17T18:20:40.720984Z",
     "shell.execute_reply": "2023-08-17T18:20:40.719485Z"
    },
    "papermill": {
     "duration": 0.040204,
     "end_time": "2023-08-17T18:20:40.723822",
     "exception": false,
     "start_time": "2023-08-17T18:20:40.683618",
     "status": "completed"
    },
    "tags": []
   },
   "outputs": [
    {
     "data": {
      "text/plain": [
       "tuple"
      ]
     },
     "execution_count": 25,
     "metadata": {},
     "output_type": "execute_result"
    }
   ],
   "source": [
    "a = ( 10,20,\"sharma\",\"prasad\",4,45,4543,454354)\n",
    "type(a)"
   ]
  },
  {
   "cell_type": "code",
   "execution_count": 26,
   "id": "c9d9ec46",
   "metadata": {
    "execution": {
     "iopub.execute_input": "2023-08-17T18:20:40.781540Z",
     "iopub.status.busy": "2023-08-17T18:20:40.781107Z",
     "iopub.status.idle": "2023-08-17T18:20:40.785875Z",
     "shell.execute_reply": "2023-08-17T18:20:40.784800Z"
    },
    "papermill": {
     "duration": 0.0366,
     "end_time": "2023-08-17T18:20:40.788377",
     "exception": false,
     "start_time": "2023-08-17T18:20:40.751777",
     "status": "completed"
    },
    "tags": []
   },
   "outputs": [],
   "source": [
    "# a = ( 10,20,\"sharma\",\"prasad\",4,45,4543,454354)\n",
    "# a[7] = 10\n",
    "# a"
   ]
  },
  {
   "cell_type": "code",
   "execution_count": 27,
   "id": "eeda2468",
   "metadata": {
    "execution": {
     "iopub.execute_input": "2023-08-17T18:20:40.845108Z",
     "iopub.status.busy": "2023-08-17T18:20:40.844612Z",
     "iopub.status.idle": "2023-08-17T18:20:40.852220Z",
     "shell.execute_reply": "2023-08-17T18:20:40.850975Z"
    },
    "papermill": {
     "duration": 0.039111,
     "end_time": "2023-08-17T18:20:40.854933",
     "exception": false,
     "start_time": "2023-08-17T18:20:40.815822",
     "status": "completed"
    },
    "tags": []
   },
   "outputs": [
    {
     "name": "stdout",
     "output_type": "stream",
     "text": [
      "(10, 20, 'sharma', 'prasad', 4, 45, 4543, 454354) <class 'tuple'>\n",
      "[1, 20, 'sharma', 'prasad', 4, 45, 4543, 454354] <class 'list'>\n",
      "(1, 20, 'sharma', 'prasad', 4, 45, 4543, 454354) <class 'tuple'>\n"
     ]
    }
   ],
   "source": [
    "a = ( 10,20,\"sharma\",\"prasad\",4,45,4543,454354)\n",
    "\n",
    "print(a, type(a))\n",
    "a = list(a)\n",
    "a[0]= 1\n",
    "print(a, type(a))\n",
    "a = tuple(a)\n",
    "print(a, type(a))"
   ]
  },
  {
   "cell_type": "code",
   "execution_count": 28,
   "id": "b4072e69",
   "metadata": {
    "execution": {
     "iopub.execute_input": "2023-08-17T18:20:40.910904Z",
     "iopub.status.busy": "2023-08-17T18:20:40.910450Z",
     "iopub.status.idle": "2023-08-17T18:20:40.917364Z",
     "shell.execute_reply": "2023-08-17T18:20:40.915871Z"
    },
    "papermill": {
     "duration": 0.038033,
     "end_time": "2023-08-17T18:20:40.920030",
     "exception": false,
     "start_time": "2023-08-17T18:20:40.881997",
     "status": "completed"
    },
    "tags": []
   },
   "outputs": [],
   "source": [
    "tupledetails = (\"c001\", \"asha\",\"7680896860\")\n",
    "listdetails = [90,80,100]\n"
   ]
  },
  {
   "cell_type": "code",
   "execution_count": 29,
   "id": "7eea4f9f",
   "metadata": {
    "execution": {
     "iopub.execute_input": "2023-08-17T18:20:40.976961Z",
     "iopub.status.busy": "2023-08-17T18:20:40.976500Z",
     "iopub.status.idle": "2023-08-17T18:20:40.984022Z",
     "shell.execute_reply": "2023-08-17T18:20:40.983039Z"
    },
    "papermill": {
     "duration": 0.038808,
     "end_time": "2023-08-17T18:20:40.986488",
     "exception": false,
     "start_time": "2023-08-17T18:20:40.947680",
     "status": "completed"
    },
    "tags": []
   },
   "outputs": [
    {
     "data": {
      "text/plain": [
       "{1, 2, 3, 4, 5, 6, 7}"
      ]
     },
     "execution_count": 29,
     "metadata": {},
     "output_type": "execute_result"
    }
   ],
   "source": [
    "a = {1,2,3,4,5,6,1,2,3,5,7}\n",
    "a"
   ]
  },
  {
   "cell_type": "code",
   "execution_count": 30,
   "id": "904d1f8d",
   "metadata": {
    "execution": {
     "iopub.execute_input": "2023-08-17T18:20:41.047709Z",
     "iopub.status.busy": "2023-08-17T18:20:41.047258Z",
     "iopub.status.idle": "2023-08-17T18:20:41.057857Z",
     "shell.execute_reply": "2023-08-17T18:20:41.056852Z"
    },
    "papermill": {
     "duration": 0.04302,
     "end_time": "2023-08-17T18:20:41.060709",
     "exception": false,
     "start_time": "2023-08-17T18:20:41.017689",
     "status": "completed"
    },
    "tags": []
   },
   "outputs": [
    {
     "data": {
      "text/plain": [
       "dict_items([('a', {'a.1': 2, 'a.2': [10, 20, 30]}), ('b', {'b.1': {'b.1.1': 4}}), ('c', {'c.1': 5, 'c.2': {'c.2.1': [6, 55]}})])"
      ]
     },
     "execution_count": 30,
     "metadata": {},
     "output_type": "execute_result"
    }
   ],
   "source": [
    "sha = { \"a\" : { \n",
    "            \"a.1\" : 2,\n",
    "            \"a.2\"  : [10,20,30]\n",
    "            }\n",
    "     ,\n",
    "     \n",
    "     \"b\" : { \n",
    "            \"b.1\" : {\n",
    "                     \"b.1.1\" : 4\n",
    "                    }\n",
    "           }\n",
    "     ,\n",
    "      \"c\"  : {\n",
    "             \"c.1\" : 5,\n",
    "             \"c.2\"  : {\n",
    "                         \"c.2.1\" : [6,55]\n",
    "                      }\n",
    "       }}\n",
    "\n",
    "\n",
    "# sha[\"c\"][\"c.2\"][\"c.2.1\"][0]\n",
    "sha.items()"
   ]
  },
  {
   "cell_type": "code",
   "execution_count": 31,
   "id": "1941bc73",
   "metadata": {
    "execution": {
     "iopub.execute_input": "2023-08-17T18:20:41.122925Z",
     "iopub.status.busy": "2023-08-17T18:20:41.122471Z",
     "iopub.status.idle": "2023-08-17T18:20:41.129417Z",
     "shell.execute_reply": "2023-08-17T18:20:41.128550Z"
    },
    "papermill": {
     "duration": 0.041195,
     "end_time": "2023-08-17T18:20:41.131759",
     "exception": false,
     "start_time": "2023-08-17T18:20:41.090564",
     "status": "completed"
    },
    "tags": []
   },
   "outputs": [
    {
     "data": {
      "text/plain": [
       "[21, 2000, 43]"
      ]
     },
     "execution_count": 31,
     "metadata": {},
     "output_type": "execute_result"
    }
   ],
   "source": [
    "asha = [21,32,43]\n",
    "asha[1] = 2000\n",
    "asha\n"
   ]
  },
  {
   "cell_type": "code",
   "execution_count": 32,
   "id": "e596a3b1",
   "metadata": {
    "execution": {
     "iopub.execute_input": "2023-08-17T18:20:41.191616Z",
     "iopub.status.busy": "2023-08-17T18:20:41.191177Z",
     "iopub.status.idle": "2023-08-17T18:20:41.198847Z",
     "shell.execute_reply": "2023-08-17T18:20:41.197716Z"
    },
    "papermill": {
     "duration": 0.040897,
     "end_time": "2023-08-17T18:20:41.201442",
     "exception": false,
     "start_time": "2023-08-17T18:20:41.160545",
     "status": "completed"
    },
    "tags": []
   },
   "outputs": [
    {
     "data": {
      "text/plain": [
       "['apple', 'watermelon']"
      ]
     },
     "execution_count": 32,
     "metadata": {},
     "output_type": "execute_result"
    }
   ],
   "source": [
    "thislist = [\"apple\", \"banana\", \"cherry\"]\n",
    "# thislist[1:3] = [\"watermelon\",\"sharma\"]\n",
    "thislist[1:3]= [\"watermelon\"]\n",
    "thislist"
   ]
  },
  {
   "cell_type": "code",
   "execution_count": 33,
   "id": "369c60b9",
   "metadata": {
    "execution": {
     "iopub.execute_input": "2023-08-17T18:20:41.261752Z",
     "iopub.status.busy": "2023-08-17T18:20:41.261305Z",
     "iopub.status.idle": "2023-08-17T18:20:41.266808Z",
     "shell.execute_reply": "2023-08-17T18:20:41.265449Z"
    },
    "papermill": {
     "duration": 0.039158,
     "end_time": "2023-08-17T18:20:41.269472",
     "exception": false,
     "start_time": "2023-08-17T18:20:41.230314",
     "status": "completed"
    },
    "tags": []
   },
   "outputs": [],
   "source": [
    "# thislist = [\"apple\", \"banana\", \"cherry\"]\n",
    "# thislist[1:3] = 200\n",
    "# thislist"
   ]
  },
  {
   "cell_type": "code",
   "execution_count": 34,
   "id": "8f867242",
   "metadata": {
    "execution": {
     "iopub.execute_input": "2023-08-17T18:20:41.330413Z",
     "iopub.status.busy": "2023-08-17T18:20:41.328932Z",
     "iopub.status.idle": "2023-08-17T18:20:41.338582Z",
     "shell.execute_reply": "2023-08-17T18:20:41.337071Z"
    },
    "papermill": {
     "duration": 0.04237,
     "end_time": "2023-08-17T18:20:41.341009",
     "exception": false,
     "start_time": "2023-08-17T18:20:41.298639",
     "status": "completed"
    },
    "tags": []
   },
   "outputs": [
    {
     "data": {
      "text/plain": [
       "['apple', 'watermelon', 'sah']"
      ]
     },
     "execution_count": 34,
     "metadata": {},
     "output_type": "execute_result"
    }
   ],
   "source": [
    "thislist = [\"apple\", \"banana\", \"cherry\"]\n",
    "thislist[1:3] = [\"watermelon\",\"sah\"]\n",
    "thislist"
   ]
  },
  {
   "cell_type": "code",
   "execution_count": null,
   "id": "062f72d3",
   "metadata": {
    "papermill": {
     "duration": 0.028296,
     "end_time": "2023-08-17T18:20:41.398057",
     "exception": false,
     "start_time": "2023-08-17T18:20:41.369761",
     "status": "completed"
    },
    "tags": []
   },
   "outputs": [],
   "source": []
  },
  {
   "cell_type": "code",
   "execution_count": null,
   "id": "25154ed3",
   "metadata": {
    "papermill": {
     "duration": 0.028268,
     "end_time": "2023-08-17T18:20:41.454113",
     "exception": false,
     "start_time": "2023-08-17T18:20:41.425845",
     "status": "completed"
    },
    "tags": []
   },
   "outputs": [],
   "source": []
  },
  {
   "cell_type": "code",
   "execution_count": 35,
   "id": "32633078",
   "metadata": {
    "execution": {
     "iopub.execute_input": "2023-08-17T18:20:41.516059Z",
     "iopub.status.busy": "2023-08-17T18:20:41.515619Z",
     "iopub.status.idle": "2023-08-17T18:20:41.522872Z",
     "shell.execute_reply": "2023-08-17T18:20:41.521357Z"
    },
    "papermill": {
     "duration": 0.042128,
     "end_time": "2023-08-17T18:20:41.525849",
     "exception": false,
     "start_time": "2023-08-17T18:20:41.483721",
     "status": "completed"
    },
    "tags": []
   },
   "outputs": [
    {
     "name": "stdout",
     "output_type": "stream",
     "text": [
      "anusha\n",
      "yasmin\n",
      "anusha\n",
      "yasmin\n",
      "anusha\n",
      "yasmin\n",
      "anusha\n",
      "yasmin\n",
      "anusha\n",
      "yasmin\n",
      "sharma\n"
     ]
    }
   ],
   "source": [
    "for i in range(5) :\n",
    "    print(\"anusha\")\n",
    "    print(\"yasmin\")\n",
    "    \n",
    "print(\"sharma\")\n"
   ]
  },
  {
   "cell_type": "code",
   "execution_count": 36,
   "id": "846ff438",
   "metadata": {
    "execution": {
     "iopub.execute_input": "2023-08-17T18:20:41.586019Z",
     "iopub.status.busy": "2023-08-17T18:20:41.585585Z",
     "iopub.status.idle": "2023-08-17T18:20:41.592042Z",
     "shell.execute_reply": "2023-08-17T18:20:41.590587Z"
    },
    "papermill": {
     "duration": 0.039782,
     "end_time": "2023-08-17T18:20:41.594747",
     "exception": false,
     "start_time": "2023-08-17T18:20:41.554965",
     "status": "completed"
    },
    "tags": []
   },
   "outputs": [
    {
     "name": "stdout",
     "output_type": "stream",
     "text": [
      "0\n",
      "1\n",
      "2\n",
      "3\n",
      "4\n"
     ]
    }
   ],
   "source": [
    "a = range(5)\n",
    "for i in a : \n",
    "    print(i)"
   ]
  },
  {
   "cell_type": "code",
   "execution_count": 37,
   "id": "89e9af4e",
   "metadata": {
    "execution": {
     "iopub.execute_input": "2023-08-17T18:20:41.655307Z",
     "iopub.status.busy": "2023-08-17T18:20:41.654847Z",
     "iopub.status.idle": "2023-08-17T18:20:41.661705Z",
     "shell.execute_reply": "2023-08-17T18:20:41.660171Z"
    },
    "papermill": {
     "duration": 0.041313,
     "end_time": "2023-08-17T18:20:41.664597",
     "exception": false,
     "start_time": "2023-08-17T18:20:41.623284",
     "status": "completed"
    },
    "tags": []
   },
   "outputs": [
    {
     "name": "stdout",
     "output_type": "stream",
     "text": [
      "0\n",
      "1\n",
      "2\n",
      "3\n",
      "4\n"
     ]
    }
   ],
   "source": [
    "for i in range(5):\n",
    "    print(i)"
   ]
  },
  {
   "cell_type": "code",
   "execution_count": 38,
   "id": "6d47fd3d",
   "metadata": {
    "execution": {
     "iopub.execute_input": "2023-08-17T18:20:41.723931Z",
     "iopub.status.busy": "2023-08-17T18:20:41.723531Z",
     "iopub.status.idle": "2023-08-17T18:20:41.731056Z",
     "shell.execute_reply": "2023-08-17T18:20:41.729294Z"
    },
    "papermill": {
     "duration": 0.040347,
     "end_time": "2023-08-17T18:20:41.733527",
     "exception": false,
     "start_time": "2023-08-17T18:20:41.693180",
     "status": "completed"
    },
    "tags": []
   },
   "outputs": [
    {
     "name": "stdout",
     "output_type": "stream",
     "text": [
      "0\n",
      "1\n",
      "2\n",
      "3\n",
      "4\n"
     ]
    }
   ],
   "source": [
    "for i in [0,1,2,3,4]:\n",
    "    print(i)"
   ]
  },
  {
   "cell_type": "code",
   "execution_count": 39,
   "id": "13ac51f8",
   "metadata": {
    "execution": {
     "iopub.execute_input": "2023-08-17T18:20:41.794925Z",
     "iopub.status.busy": "2023-08-17T18:20:41.794475Z",
     "iopub.status.idle": "2023-08-17T18:20:41.800584Z",
     "shell.execute_reply": "2023-08-17T18:20:41.799587Z"
    },
    "papermill": {
     "duration": 0.040847,
     "end_time": "2023-08-17T18:20:41.803154",
     "exception": false,
     "start_time": "2023-08-17T18:20:41.762307",
     "status": "completed"
    },
    "tags": []
   },
   "outputs": [
    {
     "name": "stdout",
     "output_type": "stream",
     "text": [
      "3\n",
      "4\n",
      "5\n",
      "6\n",
      "7\n",
      "8\n"
     ]
    }
   ],
   "source": [
    "for i in range(3,9):\n",
    "    print(i)"
   ]
  },
  {
   "cell_type": "code",
   "execution_count": 40,
   "id": "154bc4df",
   "metadata": {
    "execution": {
     "iopub.execute_input": "2023-08-17T18:20:41.867372Z",
     "iopub.status.busy": "2023-08-17T18:20:41.866796Z",
     "iopub.status.idle": "2023-08-17T18:20:41.872970Z",
     "shell.execute_reply": "2023-08-17T18:20:41.872108Z"
    },
    "papermill": {
     "duration": 0.041433,
     "end_time": "2023-08-17T18:20:41.875606",
     "exception": false,
     "start_time": "2023-08-17T18:20:41.834173",
     "status": "completed"
    },
    "tags": []
   },
   "outputs": [
    {
     "name": "stdout",
     "output_type": "stream",
     "text": [
      "9\n",
      "11\n",
      "13\n",
      "15\n"
     ]
    }
   ],
   "source": [
    "for i  in range(9,16,2):\n",
    "    print(i)"
   ]
  },
  {
   "cell_type": "code",
   "execution_count": 41,
   "id": "76a1e182",
   "metadata": {
    "execution": {
     "iopub.execute_input": "2023-08-17T18:20:41.937802Z",
     "iopub.status.busy": "2023-08-17T18:20:41.937376Z",
     "iopub.status.idle": "2023-08-17T18:20:41.942422Z",
     "shell.execute_reply": "2023-08-17T18:20:41.941031Z"
    },
    "papermill": {
     "duration": 0.040537,
     "end_time": "2023-08-17T18:20:41.945150",
     "exception": false,
     "start_time": "2023-08-17T18:20:41.904613",
     "status": "completed"
    },
    "tags": []
   },
   "outputs": [],
   "source": [
    "# for ( i = 0 , i < 5 , i ++) \n",
    "#             {\n",
    "\n",
    "#                 print(i)\n",
    "#             }\n",
    "    \n",
    "# print(\"anusha innocent \")"
   ]
  },
  {
   "cell_type": "code",
   "execution_count": 42,
   "id": "a168f991",
   "metadata": {
    "execution": {
     "iopub.execute_input": "2023-08-17T18:20:42.015008Z",
     "iopub.status.busy": "2023-08-17T18:20:42.014484Z",
     "iopub.status.idle": "2023-08-17T18:20:42.023410Z",
     "shell.execute_reply": "2023-08-17T18:20:42.021330Z"
    },
    "papermill": {
     "duration": 0.051412,
     "end_time": "2023-08-17T18:20:42.026624",
     "exception": false,
     "start_time": "2023-08-17T18:20:41.975212",
     "status": "completed"
    },
    "tags": []
   },
   "outputs": [
    {
     "name": "stdout",
     "output_type": "stream",
     "text": [
      "10\n",
      "20\n",
      "30\n"
     ]
    }
   ],
   "source": [
    "# step - 1\n",
    "a = [10,20,30]\n",
    "\n",
    "for i in a :\n",
    "    print(i)"
   ]
  },
  {
   "cell_type": "code",
   "execution_count": 43,
   "id": "4d9b4c14",
   "metadata": {
    "execution": {
     "iopub.execute_input": "2023-08-17T18:20:42.089237Z",
     "iopub.status.busy": "2023-08-17T18:20:42.088733Z",
     "iopub.status.idle": "2023-08-17T18:20:42.095834Z",
     "shell.execute_reply": "2023-08-17T18:20:42.094405Z"
    },
    "papermill": {
     "duration": 0.041957,
     "end_time": "2023-08-17T18:20:42.098561",
     "exception": false,
     "start_time": "2023-08-17T18:20:42.056604",
     "status": "completed"
    },
    "tags": []
   },
   "outputs": [
    {
     "name": "stdout",
     "output_type": "stream",
     "text": [
      "10\n",
      "20\n",
      "30\n"
     ]
    }
   ],
   "source": [
    "#step - 2\n",
    "a = [10,20,30]\n",
    "for i in range(len(a)) :# 0 1 2\n",
    "    print(a[i])"
   ]
  },
  {
   "cell_type": "code",
   "execution_count": 44,
   "id": "3114526e",
   "metadata": {
    "execution": {
     "iopub.execute_input": "2023-08-17T18:20:42.160963Z",
     "iopub.status.busy": "2023-08-17T18:20:42.160551Z",
     "iopub.status.idle": "2023-08-17T18:20:42.171613Z",
     "shell.execute_reply": "2023-08-17T18:20:42.169256Z"
    },
    "papermill": {
     "duration": 0.045879,
     "end_time": "2023-08-17T18:20:42.174496",
     "exception": false,
     "start_time": "2023-08-17T18:20:42.128617",
     "status": "completed"
    },
    "tags": []
   },
   "outputs": [
    {
     "name": "stdout",
     "output_type": "stream",
     "text": [
      "0 0 0\n",
      "0 0 1\n",
      "0 0 0\n",
      "0 0 1\n",
      "0 1 0\n",
      "0 1 1\n",
      "0 1 0\n",
      "0 1 1\n",
      "0 2 0\n",
      "0 2 1\n",
      "0 2 0\n",
      "0 2 1\n",
      "0 0\n",
      "0 1\n",
      "0 2\n",
      "0 3\n",
      "loop is done\n",
      "1 0 0\n",
      "1 0 1\n",
      "1 0 0\n",
      "1 0 1\n",
      "1 1 0\n",
      "1 1 1\n",
      "1 1 0\n",
      "1 1 1\n",
      "1 2 0\n",
      "1 2 1\n",
      "1 2 0\n",
      "1 2 1\n",
      "1 0\n",
      "1 1\n",
      "1 2\n",
      "1 3\n",
      "loop is done\n",
      "2 0 0\n",
      "2 0 1\n",
      "2 0 0\n",
      "2 0 1\n",
      "2 1 0\n",
      "2 1 1\n",
      "2 1 0\n",
      "2 1 1\n",
      "2 2 0\n",
      "2 2 1\n",
      "2 2 0\n",
      "2 2 1\n",
      "2 0\n",
      "2 1\n",
      "2 2\n",
      "2 3\n",
      "loop is done\n",
      "3 0 0\n",
      "3 0 1\n",
      "3 0 0\n",
      "3 0 1\n",
      "3 1 0\n",
      "3 1 1\n",
      "3 1 0\n",
      "3 1 1\n",
      "3 2 0\n",
      "3 2 1\n",
      "3 2 0\n",
      "3 2 1\n",
      "3 0\n",
      "3 1\n",
      "3 2\n",
      "3 3\n",
      "loop is done\n",
      "4 0 0\n",
      "4 0 1\n",
      "4 0 0\n",
      "4 0 1\n",
      "4 1 0\n",
      "4 1 1\n",
      "4 1 0\n",
      "4 1 1\n",
      "4 2 0\n",
      "4 2 1\n",
      "4 2 0\n",
      "4 2 1\n",
      "4 0\n",
      "4 1\n",
      "4 2\n",
      "4 3\n",
      "loop is done\n"
     ]
    }
   ],
   "source": [
    "for i  in range(5): # 1    \n",
    "    for j in range (3): # 1.1\n",
    "        for k in range(2) : # 1.1.1\n",
    "            print(i,j,k)\n",
    "        for l in range(2) : # 1.1.2\n",
    "            print(i,j,l)            \n",
    "    for m in range(4) : # 1.2\n",
    "        print(i,m)\n",
    "    print(\"loop is done\")"
   ]
  },
  {
   "cell_type": "code",
   "execution_count": 45,
   "id": "4028c7e5",
   "metadata": {
    "execution": {
     "iopub.execute_input": "2023-08-17T18:20:42.235335Z",
     "iopub.status.busy": "2023-08-17T18:20:42.234098Z",
     "iopub.status.idle": "2023-08-17T18:20:42.239516Z",
     "shell.execute_reply": "2023-08-17T18:20:42.238397Z"
    },
    "papermill": {
     "duration": 0.038549,
     "end_time": "2023-08-17T18:20:42.242019",
     "exception": false,
     "start_time": "2023-08-17T18:20:42.203470",
     "status": "completed"
    },
    "tags": []
   },
   "outputs": [],
   "source": [
    "# * \n",
    "# * * \n",
    "# * * * \n",
    "# * * * * \n",
    "# * * * * * "
   ]
  },
  {
   "cell_type": "code",
   "execution_count": 46,
   "id": "1b938c48",
   "metadata": {
    "execution": {
     "iopub.execute_input": "2023-08-17T18:20:42.301761Z",
     "iopub.status.busy": "2023-08-17T18:20:42.301331Z",
     "iopub.status.idle": "2023-08-17T18:20:42.308740Z",
     "shell.execute_reply": "2023-08-17T18:20:42.307094Z"
    },
    "papermill": {
     "duration": 0.04048,
     "end_time": "2023-08-17T18:20:42.311140",
     "exception": false,
     "start_time": "2023-08-17T18:20:42.270660",
     "status": "completed"
    },
    "tags": []
   },
   "outputs": [
    {
     "name": "stdout",
     "output_type": "stream",
     "text": [
      "* \n",
      "* * \n",
      "* * * \n",
      "* * * * \n",
      "* * * * * \n"
     ]
    }
   ],
   "source": [
    "for i in range(5) :\n",
    "    print(\"* \" * (int(i)+1))"
   ]
  },
  {
   "cell_type": "code",
   "execution_count": 47,
   "id": "5e4b85a7",
   "metadata": {
    "execution": {
     "iopub.execute_input": "2023-08-17T18:20:42.376420Z",
     "iopub.status.busy": "2023-08-17T18:20:42.375066Z",
     "iopub.status.idle": "2023-08-17T18:20:42.380573Z",
     "shell.execute_reply": "2023-08-17T18:20:42.379795Z"
    },
    "papermill": {
     "duration": 0.041282,
     "end_time": "2023-08-17T18:20:42.382867",
     "exception": false,
     "start_time": "2023-08-17T18:20:42.341585",
     "status": "completed"
    },
    "tags": []
   },
   "outputs": [],
   "source": [
    "# *\n",
    "# **\n",
    "# ***\n",
    "# ****\n",
    "# *****\n",
    "\n",
    "# *****\n",
    "# ****\n",
    "# ***\n",
    "# **\n",
    "# *"
   ]
  },
  {
   "cell_type": "code",
   "execution_count": 48,
   "id": "e5eb416e",
   "metadata": {
    "execution": {
     "iopub.execute_input": "2023-08-17T18:20:42.446386Z",
     "iopub.status.busy": "2023-08-17T18:20:42.445238Z",
     "iopub.status.idle": "2023-08-17T18:20:42.453814Z",
     "shell.execute_reply": "2023-08-17T18:20:42.451988Z"
    },
    "papermill": {
     "duration": 0.043742,
     "end_time": "2023-08-17T18:20:42.456501",
     "exception": false,
     "start_time": "2023-08-17T18:20:42.412759",
     "status": "completed"
    },
    "tags": []
   },
   "outputs": [
    {
     "name": "stdout",
     "output_type": "stream",
     "text": [
      "*\n",
      "**\n",
      "***\n",
      "****\n",
      "*****\n",
      "*****\n",
      "****\n",
      "***\n",
      "**\n",
      "*\n"
     ]
    }
   ],
   "source": [
    "for i in range(5) :\n",
    "    print(\"*\" * (int(i)+1))\n",
    "for i in range(5) :\n",
    "    print(\"*\" * (5 - int(i)))"
   ]
  },
  {
   "cell_type": "code",
   "execution_count": 49,
   "id": "5531d32e",
   "metadata": {
    "execution": {
     "iopub.execute_input": "2023-08-17T18:20:42.518947Z",
     "iopub.status.busy": "2023-08-17T18:20:42.517568Z",
     "iopub.status.idle": "2023-08-17T18:20:42.523508Z",
     "shell.execute_reply": "2023-08-17T18:20:42.522499Z"
    },
    "papermill": {
     "duration": 0.039524,
     "end_time": "2023-08-17T18:20:42.526106",
     "exception": false,
     "start_time": "2023-08-17T18:20:42.486582",
     "status": "completed"
    },
    "tags": []
   },
   "outputs": [],
   "source": [
    "if 10 < 5 :\n",
    "    print(\"yes\")"
   ]
  },
  {
   "cell_type": "code",
   "execution_count": 50,
   "id": "e3782443",
   "metadata": {
    "execution": {
     "iopub.execute_input": "2023-08-17T18:20:42.587039Z",
     "iopub.status.busy": "2023-08-17T18:20:42.586583Z",
     "iopub.status.idle": "2023-08-17T18:20:42.593670Z",
     "shell.execute_reply": "2023-08-17T18:20:42.592188Z"
    },
    "papermill": {
     "duration": 0.04098,
     "end_time": "2023-08-17T18:20:42.596410",
     "exception": false,
     "start_time": "2023-08-17T18:20:42.555430",
     "status": "completed"
    },
    "tags": []
   },
   "outputs": [
    {
     "name": "stdout",
     "output_type": "stream",
     "text": [
      "no\n"
     ]
    }
   ],
   "source": [
    "if 10 < 5 :\n",
    "    print(\"yes\")\n",
    "else :\n",
    "    print(\"no\")"
   ]
  },
  {
   "cell_type": "code",
   "execution_count": 51,
   "id": "e51c8a68",
   "metadata": {
    "execution": {
     "iopub.execute_input": "2023-08-17T18:20:42.659803Z",
     "iopub.status.busy": "2023-08-17T18:20:42.659206Z",
     "iopub.status.idle": "2023-08-17T18:20:42.668330Z",
     "shell.execute_reply": "2023-08-17T18:20:42.666493Z"
    },
    "papermill": {
     "duration": 0.043666,
     "end_time": "2023-08-17T18:20:42.670747",
     "exception": false,
     "start_time": "2023-08-17T18:20:42.627081",
     "status": "completed"
    },
    "tags": []
   },
   "outputs": [
    {
     "name": "stdout",
     "output_type": "stream",
     "text": [
      "passed\n"
     ]
    }
   ],
   "source": [
    "marks = 30\n",
    "\n",
    "if marks > 95 :\n",
    "    print(\"distinction\")\n",
    "    \n",
    "elif marks > 75 :\n",
    "    print(\"firstgrade\")\n",
    "elif marks > 50 :\n",
    "    print(\"secondgrade\")\n",
    "    \n",
    "else :\n",
    "    print(\"passed\")"
   ]
  },
  {
   "cell_type": "markdown",
   "id": "7af38bd6",
   "metadata": {
    "papermill": {
     "duration": 0.028956,
     "end_time": "2023-08-17T18:20:42.729326",
     "exception": false,
     "start_time": "2023-08-17T18:20:42.700370",
     "status": "completed"
    },
    "tags": []
   },
   "source": []
  },
  {
   "cell_type": "code",
   "execution_count": 52,
   "id": "c10b74da",
   "metadata": {
    "execution": {
     "iopub.execute_input": "2023-08-17T18:20:42.793237Z",
     "iopub.status.busy": "2023-08-17T18:20:42.791590Z",
     "iopub.status.idle": "2023-08-17T18:20:42.799678Z",
     "shell.execute_reply": "2023-08-17T18:20:42.798086Z"
    },
    "papermill": {
     "duration": 0.042367,
     "end_time": "2023-08-17T18:20:42.802453",
     "exception": false,
     "start_time": "2023-08-17T18:20:42.760086",
     "status": "completed"
    },
    "tags": []
   },
   "outputs": [
    {
     "name": "stdout",
     "output_type": "stream",
     "text": [
      "10\n",
      "9\n",
      "8\n",
      "7\n",
      "6\n"
     ]
    }
   ],
   "source": [
    "a  = 10 \n",
    "\n",
    "while a > 5 : # true 9\n",
    "    print(a) \n",
    "    a = a -  1"
   ]
  },
  {
   "cell_type": "code",
   "execution_count": 53,
   "id": "91cfcd7e",
   "metadata": {
    "execution": {
     "iopub.execute_input": "2023-08-17T18:20:42.865078Z",
     "iopub.status.busy": "2023-08-17T18:20:42.864613Z",
     "iopub.status.idle": "2023-08-17T18:20:42.868901Z",
     "shell.execute_reply": "2023-08-17T18:20:42.867994Z"
    },
    "papermill": {
     "duration": 0.038553,
     "end_time": "2023-08-17T18:20:42.871194",
     "exception": false,
     "start_time": "2023-08-17T18:20:42.832641",
     "status": "completed"
    },
    "tags": []
   },
   "outputs": [],
   "source": [
    "# * * * * *\n",
    "# * * * * \n",
    "# * * * \n",
    "# * * \n",
    "# *"
   ]
  },
  {
   "cell_type": "code",
   "execution_count": 54,
   "id": "247d5496",
   "metadata": {
    "execution": {
     "iopub.execute_input": "2023-08-17T18:20:42.935231Z",
     "iopub.status.busy": "2023-08-17T18:20:42.934200Z",
     "iopub.status.idle": "2023-08-17T18:20:42.941185Z",
     "shell.execute_reply": "2023-08-17T18:20:42.939773Z"
    },
    "papermill": {
     "duration": 0.041889,
     "end_time": "2023-08-17T18:20:42.943607",
     "exception": false,
     "start_time": "2023-08-17T18:20:42.901718",
     "status": "completed"
    },
    "tags": []
   },
   "outputs": [
    {
     "name": "stdout",
     "output_type": "stream",
     "text": [
      "* * * * * \n",
      "* * * * \n",
      "* * * \n",
      "* * \n",
      "* \n"
     ]
    }
   ],
   "source": [
    "for i in range(5) :\n",
    "    print(\"* \" * (5-i))"
   ]
  },
  {
   "cell_type": "code",
   "execution_count": 55,
   "id": "9e596f6d",
   "metadata": {
    "execution": {
     "iopub.execute_input": "2023-08-17T18:20:43.013065Z",
     "iopub.status.busy": "2023-08-17T18:20:43.011900Z",
     "iopub.status.idle": "2023-08-17T18:20:43.016965Z",
     "shell.execute_reply": "2023-08-17T18:20:43.015866Z"
    },
    "papermill": {
     "duration": 0.044742,
     "end_time": "2023-08-17T18:20:43.019588",
     "exception": false,
     "start_time": "2023-08-17T18:20:42.974846",
     "status": "completed"
    },
    "tags": []
   },
   "outputs": [],
   "source": [
    "# *\n",
    "# **\n",
    "# ***\n",
    "# ****\n",
    "# *****"
   ]
  },
  {
   "cell_type": "code",
   "execution_count": 56,
   "id": "1351f320",
   "metadata": {
    "execution": {
     "iopub.execute_input": "2023-08-17T18:20:43.084521Z",
     "iopub.status.busy": "2023-08-17T18:20:43.084060Z",
     "iopub.status.idle": "2023-08-17T18:20:43.090294Z",
     "shell.execute_reply": "2023-08-17T18:20:43.089173Z"
    },
    "papermill": {
     "duration": 0.041742,
     "end_time": "2023-08-17T18:20:43.093405",
     "exception": false,
     "start_time": "2023-08-17T18:20:43.051663",
     "status": "completed"
    },
    "tags": []
   },
   "outputs": [
    {
     "name": "stdout",
     "output_type": "stream",
     "text": [
      "*\n",
      "**\n",
      "***\n",
      "****\n",
      "*****\n"
     ]
    }
   ],
   "source": [
    "for i in range(5) :\n",
    "    print(\"*\" * (int(i)+1))"
   ]
  },
  {
   "cell_type": "code",
   "execution_count": 57,
   "id": "be0dc7c2",
   "metadata": {
    "execution": {
     "iopub.execute_input": "2023-08-17T18:20:43.158647Z",
     "iopub.status.busy": "2023-08-17T18:20:43.157735Z",
     "iopub.status.idle": "2023-08-17T18:20:43.164876Z",
     "shell.execute_reply": "2023-08-17T18:20:43.163871Z"
    },
    "papermill": {
     "duration": 0.042202,
     "end_time": "2023-08-17T18:20:43.167531",
     "exception": false,
     "start_time": "2023-08-17T18:20:43.125329",
     "status": "completed"
    },
    "tags": []
   },
   "outputs": [],
   "source": [
    "#         *\n",
    "#       **\n",
    "#     ***\n",
    "#   ****\n",
    "# *****"
   ]
  },
  {
   "cell_type": "code",
   "execution_count": 58,
   "id": "6077af21",
   "metadata": {
    "execution": {
     "iopub.execute_input": "2023-08-17T18:20:43.230803Z",
     "iopub.status.busy": "2023-08-17T18:20:43.230358Z",
     "iopub.status.idle": "2023-08-17T18:20:43.237141Z",
     "shell.execute_reply": "2023-08-17T18:20:43.235850Z"
    },
    "papermill": {
     "duration": 0.041778,
     "end_time": "2023-08-17T18:20:43.239750",
     "exception": false,
     "start_time": "2023-08-17T18:20:43.197972",
     "status": "completed"
    },
    "tags": []
   },
   "outputs": [
    {
     "name": "stdout",
     "output_type": "stream",
     "text": [
      "           *\n",
      "         **\n",
      "       ***\n",
      "     ****\n",
      "   *****\n"
     ]
    }
   ],
   "source": [
    "for i in range(5) :\n",
    "    print(\" \"* ((5-i)*2),\"*\" * (int(i)+1))"
   ]
  },
  {
   "cell_type": "code",
   "execution_count": 59,
   "id": "a6d77df7",
   "metadata": {
    "execution": {
     "iopub.execute_input": "2023-08-17T18:20:43.303699Z",
     "iopub.status.busy": "2023-08-17T18:20:43.303256Z",
     "iopub.status.idle": "2023-08-17T18:20:43.309889Z",
     "shell.execute_reply": "2023-08-17T18:20:43.308403Z"
    },
    "papermill": {
     "duration": 0.042302,
     "end_time": "2023-08-17T18:20:43.312841",
     "exception": false,
     "start_time": "2023-08-17T18:20:43.270539",
     "status": "completed"
    },
    "tags": []
   },
   "outputs": [
    {
     "name": "stdout",
     "output_type": "stream",
     "text": [
      "* * * * * \n",
      "* * * * \n",
      "* * * \n",
      "* * \n",
      "* * * \n"
     ]
    }
   ],
   "source": [
    "for i in range(4):\n",
    "    print(\"* \" * (5-i))\n",
    "print(\"* \"* 3)"
   ]
  },
  {
   "cell_type": "code",
   "execution_count": 60,
   "id": "93e39491",
   "metadata": {
    "execution": {
     "iopub.execute_input": "2023-08-17T18:20:43.380618Z",
     "iopub.status.busy": "2023-08-17T18:20:43.380101Z",
     "iopub.status.idle": "2023-08-17T18:20:43.385470Z",
     "shell.execute_reply": "2023-08-17T18:20:43.384113Z"
    },
    "papermill": {
     "duration": 0.043761,
     "end_time": "2023-08-17T18:20:43.387963",
     "exception": false,
     "start_time": "2023-08-17T18:20:43.344202",
     "status": "completed"
    },
    "tags": []
   },
   "outputs": [],
   "source": [
    "#     * \n",
    "#    **\n",
    "#   ***\n",
    "#  ****\n",
    "# *****"
   ]
  },
  {
   "cell_type": "code",
   "execution_count": 61,
   "id": "56e69ed7",
   "metadata": {
    "execution": {
     "iopub.execute_input": "2023-08-17T18:20:43.457490Z",
     "iopub.status.busy": "2023-08-17T18:20:43.456997Z",
     "iopub.status.idle": "2023-08-17T18:20:43.463843Z",
     "shell.execute_reply": "2023-08-17T18:20:43.462447Z"
    },
    "papermill": {
     "duration": 0.045901,
     "end_time": "2023-08-17T18:20:43.466760",
     "exception": false,
     "start_time": "2023-08-17T18:20:43.420859",
     "status": "completed"
    },
    "tags": []
   },
   "outputs": [
    {
     "name": "stdout",
     "output_type": "stream",
     "text": [
      "     *\n",
      "    **\n",
      "   ***\n",
      "  ****\n",
      " *****\n"
     ]
    }
   ],
   "source": [
    "for i in range(5):\n",
    "    print(\" \"* (4-int(i)),\"*\" * (i+1))"
   ]
  },
  {
   "cell_type": "code",
   "execution_count": 62,
   "id": "3f1ccd4e",
   "metadata": {
    "execution": {
     "iopub.execute_input": "2023-08-17T18:20:43.534581Z",
     "iopub.status.busy": "2023-08-17T18:20:43.533981Z",
     "iopub.status.idle": "2023-08-17T18:20:43.540189Z",
     "shell.execute_reply": "2023-08-17T18:20:43.538961Z"
    },
    "papermill": {
     "duration": 0.044001,
     "end_time": "2023-08-17T18:20:43.542691",
     "exception": false,
     "start_time": "2023-08-17T18:20:43.498690",
     "status": "completed"
    },
    "tags": []
   },
   "outputs": [],
   "source": [
    "#        * \n",
    "#       * * \n",
    "#      * * * \n",
    "#     * * * * \n",
    "#    * * * * *"
   ]
  },
  {
   "cell_type": "code",
   "execution_count": 63,
   "id": "d7d54c2d",
   "metadata": {
    "execution": {
     "iopub.execute_input": "2023-08-17T18:20:43.605352Z",
     "iopub.status.busy": "2023-08-17T18:20:43.603934Z",
     "iopub.status.idle": "2023-08-17T18:20:43.611525Z",
     "shell.execute_reply": "2023-08-17T18:20:43.610111Z"
    },
    "papermill": {
     "duration": 0.042019,
     "end_time": "2023-08-17T18:20:43.614563",
     "exception": false,
     "start_time": "2023-08-17T18:20:43.572544",
     "status": "completed"
    },
    "tags": []
   },
   "outputs": [
    {
     "name": "stdout",
     "output_type": "stream",
     "text": [
      "        * \n",
      "       * * \n",
      "      * * * \n",
      "     * * * * \n",
      "    * * * * * \n"
     ]
    }
   ],
   "source": [
    "for i in range(5) :\n",
    "    print(\" \" * (7-int(i)),\"* \" * (int(i) + 1))"
   ]
  },
  {
   "cell_type": "code",
   "execution_count": 64,
   "id": "42fcde4a",
   "metadata": {
    "execution": {
     "iopub.execute_input": "2023-08-17T18:20:43.676630Z",
     "iopub.status.busy": "2023-08-17T18:20:43.676237Z",
     "iopub.status.idle": "2023-08-17T18:20:43.681391Z",
     "shell.execute_reply": "2023-08-17T18:20:43.680033Z"
    },
    "papermill": {
     "duration": 0.039651,
     "end_time": "2023-08-17T18:20:43.684033",
     "exception": false,
     "start_time": "2023-08-17T18:20:43.644382",
     "status": "completed"
    },
    "tags": []
   },
   "outputs": [],
   "source": [
    "#  * * * * *     \n",
    "#  * * * * * \n",
    "#   * * * * \n",
    "#    * * * \n",
    "#     * * \n",
    "#      * "
   ]
  },
  {
   "cell_type": "code",
   "execution_count": 65,
   "id": "0fdd1228",
   "metadata": {
    "execution": {
     "iopub.execute_input": "2023-08-17T18:20:43.747259Z",
     "iopub.status.busy": "2023-08-17T18:20:43.745926Z",
     "iopub.status.idle": "2023-08-17T18:20:43.753866Z",
     "shell.execute_reply": "2023-08-17T18:20:43.752650Z"
    },
    "papermill": {
     "duration": 0.042331,
     "end_time": "2023-08-17T18:20:43.756550",
     "exception": false,
     "start_time": "2023-08-17T18:20:43.714219",
     "status": "completed"
    },
    "tags": []
   },
   "outputs": [
    {
     "name": "stdout",
     "output_type": "stream",
     "text": [
      "  * * * * * \n",
      "  * * * * * \n",
      "   * * * * \n",
      "    * * * \n",
      "     * * \n",
      "      * \n"
     ]
    }
   ],
   "source": [
    "print(\" \",\"* \"* 5)\n",
    "for i in range(5) :\n",
    "    print(\" \"* (int(i) +1),\"* \"* (5- int(i)))"
   ]
  },
  {
   "cell_type": "code",
   "execution_count": 66,
   "id": "b635ca81",
   "metadata": {
    "execution": {
     "iopub.execute_input": "2023-08-17T18:20:43.818752Z",
     "iopub.status.busy": "2023-08-17T18:20:43.818327Z",
     "iopub.status.idle": "2023-08-17T18:20:43.825702Z",
     "shell.execute_reply": "2023-08-17T18:20:43.824043Z"
    },
    "papermill": {
     "duration": 0.041876,
     "end_time": "2023-08-17T18:20:43.828743",
     "exception": false,
     "start_time": "2023-08-17T18:20:43.786867",
     "status": "completed"
    },
    "tags": []
   },
   "outputs": [
    {
     "name": "stdout",
     "output_type": "stream",
     "text": [
      "10\n",
      "9\n"
     ]
    }
   ],
   "source": [
    "a = 10\n",
    "\n",
    "while a > 1 :\n",
    "    print(a)\n",
    "    if a == 9 :\n",
    "        break\n",
    "    a = a - 1"
   ]
  },
  {
   "cell_type": "code",
   "execution_count": null,
   "id": "b061534d",
   "metadata": {
    "papermill": {
     "duration": 0.031341,
     "end_time": "2023-08-17T18:20:43.889811",
     "exception": false,
     "start_time": "2023-08-17T18:20:43.858470",
     "status": "completed"
    },
    "tags": []
   },
   "outputs": [],
   "source": []
  },
  {
   "cell_type": "code",
   "execution_count": null,
   "id": "932bfa72",
   "metadata": {
    "papermill": {
     "duration": 0.030664,
     "end_time": "2023-08-17T18:20:43.950562",
     "exception": false,
     "start_time": "2023-08-17T18:20:43.919898",
     "status": "completed"
    },
    "tags": []
   },
   "outputs": [],
   "source": []
  },
  {
   "cell_type": "code",
   "execution_count": null,
   "id": "5583ddab",
   "metadata": {
    "papermill": {
     "duration": 0.033692,
     "end_time": "2023-08-17T18:20:44.014803",
     "exception": false,
     "start_time": "2023-08-17T18:20:43.981111",
     "status": "completed"
    },
    "tags": []
   },
   "outputs": [],
   "source": []
  },
  {
   "cell_type": "code",
   "execution_count": null,
   "id": "29c22165",
   "metadata": {
    "papermill": {
     "duration": 0.02946,
     "end_time": "2023-08-17T18:20:44.074924",
     "exception": false,
     "start_time": "2023-08-17T18:20:44.045464",
     "status": "completed"
    },
    "tags": []
   },
   "outputs": [],
   "source": []
  },
  {
   "cell_type": "code",
   "execution_count": null,
   "id": "b19550d9",
   "metadata": {
    "papermill": {
     "duration": 0.030894,
     "end_time": "2023-08-17T18:20:44.135856",
     "exception": false,
     "start_time": "2023-08-17T18:20:44.104962",
     "status": "completed"
    },
    "tags": []
   },
   "outputs": [],
   "source": []
  },
  {
   "cell_type": "code",
   "execution_count": null,
   "id": "9f14ed61",
   "metadata": {
    "papermill": {
     "duration": 0.030693,
     "end_time": "2023-08-17T18:20:44.197246",
     "exception": false,
     "start_time": "2023-08-17T18:20:44.166553",
     "status": "completed"
    },
    "tags": []
   },
   "outputs": [],
   "source": []
  },
  {
   "cell_type": "code",
   "execution_count": null,
   "id": "c1b24070",
   "metadata": {
    "papermill": {
     "duration": 0.030852,
     "end_time": "2023-08-17T18:20:44.258205",
     "exception": false,
     "start_time": "2023-08-17T18:20:44.227353",
     "status": "completed"
    },
    "tags": []
   },
   "outputs": [],
   "source": []
  },
  {
   "cell_type": "code",
   "execution_count": null,
   "id": "2eb9e7e3",
   "metadata": {
    "papermill": {
     "duration": 0.029839,
     "end_time": "2023-08-17T18:20:44.318806",
     "exception": false,
     "start_time": "2023-08-17T18:20:44.288967",
     "status": "completed"
    },
    "tags": []
   },
   "outputs": [],
   "source": []
  },
  {
   "cell_type": "code",
   "execution_count": null,
   "id": "59b9461f",
   "metadata": {
    "papermill": {
     "duration": 0.02991,
     "end_time": "2023-08-17T18:20:44.378642",
     "exception": false,
     "start_time": "2023-08-17T18:20:44.348732",
     "status": "completed"
    },
    "tags": []
   },
   "outputs": [],
   "source": []
  },
  {
   "cell_type": "code",
   "execution_count": null,
   "id": "b6a9b0ca",
   "metadata": {
    "papermill": {
     "duration": 0.033875,
     "end_time": "2023-08-17T18:20:44.442337",
     "exception": false,
     "start_time": "2023-08-17T18:20:44.408462",
     "status": "completed"
    },
    "tags": []
   },
   "outputs": [],
   "source": []
  },
  {
   "cell_type": "code",
   "execution_count": null,
   "id": "ba0893cb",
   "metadata": {
    "papermill": {
     "duration": 0.034507,
     "end_time": "2023-08-17T18:20:44.514611",
     "exception": false,
     "start_time": "2023-08-17T18:20:44.480104",
     "status": "completed"
    },
    "tags": []
   },
   "outputs": [],
   "source": []
  },
  {
   "cell_type": "code",
   "execution_count": null,
   "id": "b34ee078",
   "metadata": {
    "papermill": {
     "duration": 0.032874,
     "end_time": "2023-08-17T18:20:44.582824",
     "exception": false,
     "start_time": "2023-08-17T18:20:44.549950",
     "status": "completed"
    },
    "tags": []
   },
   "outputs": [],
   "source": []
  },
  {
   "cell_type": "code",
   "execution_count": null,
   "id": "493cfea4",
   "metadata": {
    "papermill": {
     "duration": 0.032155,
     "end_time": "2023-08-17T18:20:44.647242",
     "exception": false,
     "start_time": "2023-08-17T18:20:44.615087",
     "status": "completed"
    },
    "tags": []
   },
   "outputs": [],
   "source": []
  },
  {
   "cell_type": "code",
   "execution_count": null,
   "id": "fe9a8999",
   "metadata": {
    "papermill": {
     "duration": 0.030567,
     "end_time": "2023-08-17T18:20:44.708628",
     "exception": false,
     "start_time": "2023-08-17T18:20:44.678061",
     "status": "completed"
    },
    "tags": []
   },
   "outputs": [],
   "source": []
  },
  {
   "cell_type": "code",
   "execution_count": null,
   "id": "8fe090ec",
   "metadata": {
    "papermill": {
     "duration": 0.031611,
     "end_time": "2023-08-17T18:20:44.772239",
     "exception": false,
     "start_time": "2023-08-17T18:20:44.740628",
     "status": "completed"
    },
    "tags": []
   },
   "outputs": [],
   "source": []
  },
  {
   "cell_type": "code",
   "execution_count": null,
   "id": "0ac0e26f",
   "metadata": {
    "papermill": {
     "duration": 0.031725,
     "end_time": "2023-08-17T18:20:44.835297",
     "exception": false,
     "start_time": "2023-08-17T18:20:44.803572",
     "status": "completed"
    },
    "tags": []
   },
   "outputs": [],
   "source": []
  },
  {
   "cell_type": "code",
   "execution_count": null,
   "id": "2d1c5ef9",
   "metadata": {
    "papermill": {
     "duration": 0.031233,
     "end_time": "2023-08-17T18:20:44.897468",
     "exception": false,
     "start_time": "2023-08-17T18:20:44.866235",
     "status": "completed"
    },
    "tags": []
   },
   "outputs": [],
   "source": []
  },
  {
   "cell_type": "code",
   "execution_count": null,
   "id": "523e3f2a",
   "metadata": {
    "papermill": {
     "duration": 0.030311,
     "end_time": "2023-08-17T18:20:44.958368",
     "exception": false,
     "start_time": "2023-08-17T18:20:44.928057",
     "status": "completed"
    },
    "tags": []
   },
   "outputs": [],
   "source": []
  }
 ],
 "metadata": {
  "kernelspec": {
   "display_name": "Python 3",
   "language": "python",
   "name": "python3"
  },
  "language_info": {
   "codemirror_mode": {
    "name": "ipython",
    "version": 3
   },
   "file_extension": ".py",
   "mimetype": "text/x-python",
   "name": "python",
   "nbconvert_exporter": "python",
   "pygments_lexer": "ipython3",
   "version": "3.10.12"
  },
  "papermill": {
   "default_parameters": {},
   "duration": 20.275864,
   "end_time": "2023-08-17T18:20:46.114489",
   "environment_variables": {},
   "exception": null,
   "input_path": "__notebook__.ipynb",
   "output_path": "__notebook__.ipynb",
   "parameters": {},
   "start_time": "2023-08-17T18:20:25.838625",
   "version": "2.4.0"
  }
 },
 "nbformat": 4,
 "nbformat_minor": 5
}
