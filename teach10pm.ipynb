{
 "cells": [
  {
   "cell_type": "code",
   "execution_count": 1,
   "id": "809925ab",
   "metadata": {
    "_cell_guid": "b1076dfc-b9ad-4769-8c92-a6c4dae69d19",
    "_uuid": "8f2839f25d086af736a60e9eeb907d3b93b6e0e5",
    "execution": {
     "iopub.execute_input": "2023-08-24T15:56:25.325933Z",
     "iopub.status.busy": "2023-08-24T15:56:25.325478Z",
     "iopub.status.idle": "2023-08-24T15:56:25.339081Z",
     "shell.execute_reply": "2023-08-24T15:56:25.338095Z"
    },
    "papermill": {
     "duration": 0.105604,
     "end_time": "2023-08-24T15:56:25.341791",
     "exception": false,
     "start_time": "2023-08-24T15:56:25.236187",
     "status": "completed"
    },
    "tags": []
   },
   "outputs": [
    {
     "name": "stdout",
     "output_type": "stream",
     "text": [
      "sharma is a good boy\n"
     ]
    }
   ],
   "source": [
    "# 0/p\n",
    "print(\"sharma is a good boy\")"
   ]
  },
  {
   "cell_type": "code",
   "execution_count": 2,
   "id": "13600344",
   "metadata": {
    "execution": {
     "iopub.execute_input": "2023-08-24T15:56:25.449608Z",
     "iopub.status.busy": "2023-08-24T15:56:25.449320Z",
     "iopub.status.idle": "2023-08-24T15:56:25.453147Z",
     "shell.execute_reply": "2023-08-24T15:56:25.452297Z"
    },
    "papermill": {
     "duration": 0.05988,
     "end_time": "2023-08-24T15:56:25.455162",
     "exception": false,
     "start_time": "2023-08-24T15:56:25.395282",
     "status": "completed"
    },
    "tags": []
   },
   "outputs": [],
   "source": [
    "# i/p\n",
    "\n",
    "# name = input()\n",
    "# print(name , \" is a good boy\")"
   ]
  },
  {
   "cell_type": "code",
   "execution_count": 3,
   "id": "ccf35396",
   "metadata": {
    "execution": {
     "iopub.execute_input": "2023-08-24T15:56:25.561379Z",
     "iopub.status.busy": "2023-08-24T15:56:25.560560Z",
     "iopub.status.idle": "2023-08-24T15:56:25.566355Z",
     "shell.execute_reply": "2023-08-24T15:56:25.565294Z"
    },
    "papermill": {
     "duration": 0.060653,
     "end_time": "2023-08-24T15:56:25.568977",
     "exception": false,
     "start_time": "2023-08-24T15:56:25.508324",
     "status": "completed"
    },
    "tags": []
   },
   "outputs": [
    {
     "name": "stdout",
     "output_type": "stream",
     "text": [
      "yasmin\n",
      "----\n",
      "yasmin\n",
      "asha\n"
     ]
    }
   ],
   "source": [
    "name = \"yasmin\"\n",
    "\n",
    "print(name)\n",
    "print(\"----\")\n",
    "print(name)\n",
    "name = \"asha\" \n",
    "\n",
    "print(name)"
   ]
  },
  {
   "cell_type": "code",
   "execution_count": 4,
   "id": "71690522",
   "metadata": {
    "execution": {
     "iopub.execute_input": "2023-08-24T15:56:25.672992Z",
     "iopub.status.busy": "2023-08-24T15:56:25.672529Z",
     "iopub.status.idle": "2023-08-24T15:56:25.679275Z",
     "shell.execute_reply": "2023-08-24T15:56:25.678317Z"
    },
    "papermill": {
     "duration": 0.06159,
     "end_time": "2023-08-24T15:56:25.681172",
     "exception": false,
     "start_time": "2023-08-24T15:56:25.619582",
     "status": "completed"
    },
    "tags": []
   },
   "outputs": [
    {
     "data": {
      "text/plain": [
       "int"
      ]
     },
     "execution_count": 4,
     "metadata": {},
     "output_type": "execute_result"
    }
   ],
   "source": [
    "a = 7\n",
    "\n",
    "type(a)\n"
   ]
  },
  {
   "cell_type": "code",
   "execution_count": 5,
   "id": "9ad88204",
   "metadata": {
    "execution": {
     "iopub.execute_input": "2023-08-24T15:56:25.787697Z",
     "iopub.status.busy": "2023-08-24T15:56:25.787422Z",
     "iopub.status.idle": "2023-08-24T15:56:25.793313Z",
     "shell.execute_reply": "2023-08-24T15:56:25.792383Z"
    },
    "papermill": {
     "duration": 0.061107,
     "end_time": "2023-08-24T15:56:25.795512",
     "exception": false,
     "start_time": "2023-08-24T15:56:25.734405",
     "status": "completed"
    },
    "tags": []
   },
   "outputs": [
    {
     "data": {
      "text/plain": [
       "float"
      ]
     },
     "execution_count": 5,
     "metadata": {},
     "output_type": "execute_result"
    }
   ],
   "source": [
    "b = 7.5\n",
    "\n",
    "type(b)"
   ]
  },
  {
   "cell_type": "code",
   "execution_count": 6,
   "id": "96f69b0a",
   "metadata": {
    "execution": {
     "iopub.execute_input": "2023-08-24T15:56:25.908653Z",
     "iopub.status.busy": "2023-08-24T15:56:25.907674Z",
     "iopub.status.idle": "2023-08-24T15:56:25.914563Z",
     "shell.execute_reply": "2023-08-24T15:56:25.913549Z"
    },
    "papermill": {
     "duration": 0.065523,
     "end_time": "2023-08-24T15:56:25.916700",
     "exception": false,
     "start_time": "2023-08-24T15:56:25.851177",
     "status": "completed"
    },
    "tags": []
   },
   "outputs": [
    {
     "data": {
      "text/plain": [
       "str"
      ]
     },
     "execution_count": 6,
     "metadata": {},
     "output_type": "execute_result"
    }
   ],
   "source": [
    "c = \"sharma\"\n",
    "type(c)"
   ]
  },
  {
   "cell_type": "code",
   "execution_count": 7,
   "id": "e6373a28",
   "metadata": {
    "execution": {
     "iopub.execute_input": "2023-08-24T15:56:26.028882Z",
     "iopub.status.busy": "2023-08-24T15:56:26.027958Z",
     "iopub.status.idle": "2023-08-24T15:56:26.034832Z",
     "shell.execute_reply": "2023-08-24T15:56:26.033732Z"
    },
    "papermill": {
     "duration": 0.064957,
     "end_time": "2023-08-24T15:56:26.036954",
     "exception": false,
     "start_time": "2023-08-24T15:56:25.971997",
     "status": "completed"
    },
    "tags": []
   },
   "outputs": [
    {
     "data": {
      "text/plain": [
       "str"
      ]
     },
     "execution_count": 7,
     "metadata": {},
     "output_type": "execute_result"
    }
   ],
   "source": [
    "d = \"44-5-14\"\n",
    "\n",
    "type(d)"
   ]
  },
  {
   "cell_type": "code",
   "execution_count": 8,
   "id": "a2b76e33",
   "metadata": {
    "execution": {
     "iopub.execute_input": "2023-08-24T15:56:26.149819Z",
     "iopub.status.busy": "2023-08-24T15:56:26.148869Z",
     "iopub.status.idle": "2023-08-24T15:56:26.155425Z",
     "shell.execute_reply": "2023-08-24T15:56:26.154436Z"
    },
    "papermill": {
     "duration": 0.064459,
     "end_time": "2023-08-24T15:56:26.157391",
     "exception": false,
     "start_time": "2023-08-24T15:56:26.092932",
     "status": "completed"
    },
    "tags": []
   },
   "outputs": [
    {
     "data": {
      "text/plain": [
       "str"
      ]
     },
     "execution_count": 8,
     "metadata": {},
     "output_type": "execute_result"
    }
   ],
   "source": [
    "e = \"19\"\n",
    "type(e)"
   ]
  },
  {
   "cell_type": "code",
   "execution_count": 9,
   "id": "bb64f234",
   "metadata": {
    "execution": {
     "iopub.execute_input": "2023-08-24T15:56:26.268032Z",
     "iopub.status.busy": "2023-08-24T15:56:26.267724Z",
     "iopub.status.idle": "2023-08-24T15:56:26.273588Z",
     "shell.execute_reply": "2023-08-24T15:56:26.272721Z"
    },
    "papermill": {
     "duration": 0.063652,
     "end_time": "2023-08-24T15:56:26.275613",
     "exception": false,
     "start_time": "2023-08-24T15:56:26.211961",
     "status": "completed"
    },
    "tags": []
   },
   "outputs": [
    {
     "data": {
      "text/plain": [
       "int"
      ]
     },
     "execution_count": 9,
     "metadata": {},
     "output_type": "execute_result"
    }
   ],
   "source": [
    "f = 19\n",
    "type(f)"
   ]
  },
  {
   "cell_type": "code",
   "execution_count": 10,
   "id": "91b83acc",
   "metadata": {
    "execution": {
     "iopub.execute_input": "2023-08-24T15:56:26.384653Z",
     "iopub.status.busy": "2023-08-24T15:56:26.383863Z",
     "iopub.status.idle": "2023-08-24T15:56:26.391210Z",
     "shell.execute_reply": "2023-08-24T15:56:26.390282Z"
    },
    "papermill": {
     "duration": 0.064482,
     "end_time": "2023-08-24T15:56:26.393325",
     "exception": false,
     "start_time": "2023-08-24T15:56:26.328843",
     "status": "completed"
    },
    "tags": []
   },
   "outputs": [
    {
     "name": "stdout",
     "output_type": "stream",
     "text": [
      "<class 'int'>\n",
      "<class 'str'>\n"
     ]
    }
   ],
   "source": [
    "#type casting\n",
    "\n",
    "num = 19\n",
    "print(type(num))\n",
    "\n",
    "num = str(num)\n",
    "print(type(num))"
   ]
  },
  {
   "cell_type": "code",
   "execution_count": 11,
   "id": "535f9b78",
   "metadata": {
    "execution": {
     "iopub.execute_input": "2023-08-24T15:56:26.500793Z",
     "iopub.status.busy": "2023-08-24T15:56:26.500035Z",
     "iopub.status.idle": "2023-08-24T15:56:26.506444Z",
     "shell.execute_reply": "2023-08-24T15:56:26.505101Z"
    },
    "papermill": {
     "duration": 0.061606,
     "end_time": "2023-08-24T15:56:26.508605",
     "exception": false,
     "start_time": "2023-08-24T15:56:26.446999",
     "status": "completed"
    },
    "tags": []
   },
   "outputs": [
    {
     "name": "stdout",
     "output_type": "stream",
     "text": [
      "19 <class 'int'>\n",
      "19.0 <class 'float'>\n",
      "19.0 <class 'str'>\n"
     ]
    }
   ],
   "source": [
    "num = 19\n",
    "print(num, type(num))\n",
    "num = float(num) # 19.0\n",
    "print(num, type(num))\n",
    "num = str(num)\n",
    "print(num, type(num))"
   ]
  },
  {
   "cell_type": "code",
   "execution_count": 12,
   "id": "82216e8d",
   "metadata": {
    "execution": {
     "iopub.execute_input": "2023-08-24T15:56:26.618477Z",
     "iopub.status.busy": "2023-08-24T15:56:26.618182Z",
     "iopub.status.idle": "2023-08-24T15:56:26.622213Z",
     "shell.execute_reply": "2023-08-24T15:56:26.621302Z"
    },
    "papermill": {
     "duration": 0.060645,
     "end_time": "2023-08-24T15:56:26.624145",
     "exception": false,
     "start_time": "2023-08-24T15:56:26.563500",
     "status": "completed"
    },
    "tags": []
   },
   "outputs": [],
   "source": [
    "# 3num = 19"
   ]
  },
  {
   "cell_type": "code",
   "execution_count": 13,
   "id": "a2d565ab",
   "metadata": {
    "execution": {
     "iopub.execute_input": "2023-08-24T15:56:26.734037Z",
     "iopub.status.busy": "2023-08-24T15:56:26.732951Z",
     "iopub.status.idle": "2023-08-24T15:56:26.738195Z",
     "shell.execute_reply": "2023-08-24T15:56:26.737270Z"
    },
    "papermill": {
     "duration": 0.06224,
     "end_time": "2023-08-24T15:56:26.740382",
     "exception": false,
     "start_time": "2023-08-24T15:56:26.678142",
     "status": "completed"
    },
    "tags": []
   },
   "outputs": [],
   "source": [
    "mynameissharma = 19\n",
    "my_name_is_sharma = 20\n",
    "# myNameIsSharma"
   ]
  },
  {
   "cell_type": "code",
   "execution_count": 14,
   "id": "ddf432ad",
   "metadata": {
    "execution": {
     "iopub.execute_input": "2023-08-24T15:56:26.847963Z",
     "iopub.status.busy": "2023-08-24T15:56:26.847076Z",
     "iopub.status.idle": "2023-08-24T15:56:26.852688Z",
     "shell.execute_reply": "2023-08-24T15:56:26.851669Z"
    },
    "papermill": {
     "duration": 0.060824,
     "end_time": "2023-08-24T15:56:26.854760",
     "exception": false,
     "start_time": "2023-08-24T15:56:26.793936",
     "status": "completed"
    },
    "tags": []
   },
   "outputs": [
    {
     "name": "stdout",
     "output_type": "stream",
     "text": [
      "9 __ 8\n"
     ]
    }
   ],
   "source": [
    "a = 9\n",
    "b = 8\n",
    "print(a, \"__\", b)"
   ]
  },
  {
   "cell_type": "code",
   "execution_count": 15,
   "id": "5eff02aa",
   "metadata": {
    "execution": {
     "iopub.execute_input": "2023-08-24T15:56:26.962618Z",
     "iopub.status.busy": "2023-08-24T15:56:26.961789Z",
     "iopub.status.idle": "2023-08-24T15:56:26.967534Z",
     "shell.execute_reply": "2023-08-24T15:56:26.966261Z"
    },
    "papermill": {
     "duration": 0.061516,
     "end_time": "2023-08-24T15:56:26.969880",
     "exception": false,
     "start_time": "2023-08-24T15:56:26.908364",
     "status": "completed"
    },
    "tags": []
   },
   "outputs": [
    {
     "name": "stdout",
     "output_type": "stream",
     "text": [
      "9 __ 8\n"
     ]
    }
   ],
   "source": [
    "a, b = 9,8 \n",
    "print(a, \"__\", b)"
   ]
  },
  {
   "cell_type": "code",
   "execution_count": 16,
   "id": "5a8cdecc",
   "metadata": {
    "execution": {
     "iopub.execute_input": "2023-08-24T15:56:27.077989Z",
     "iopub.status.busy": "2023-08-24T15:56:27.077004Z",
     "iopub.status.idle": "2023-08-24T15:56:27.083342Z",
     "shell.execute_reply": "2023-08-24T15:56:27.082070Z"
    },
    "papermill": {
     "duration": 0.062652,
     "end_time": "2023-08-24T15:56:27.085394",
     "exception": false,
     "start_time": "2023-08-24T15:56:27.022742",
     "status": "completed"
    },
    "tags": []
   },
   "outputs": [
    {
     "name": "stdout",
     "output_type": "stream",
     "text": [
      "Orange\n",
      "Banana\n",
      "Cherry\n"
     ]
    }
   ],
   "source": [
    "x, y, z = \"Orange\", \"Banana\", \"Cherry\"\n",
    "print(x)\n",
    "print(y)\n",
    "print(z)"
   ]
  },
  {
   "cell_type": "code",
   "execution_count": 17,
   "id": "951dc2c4",
   "metadata": {
    "execution": {
     "iopub.execute_input": "2023-08-24T15:56:27.201398Z",
     "iopub.status.busy": "2023-08-24T15:56:27.201052Z",
     "iopub.status.idle": "2023-08-24T15:56:27.206375Z",
     "shell.execute_reply": "2023-08-24T15:56:27.205433Z"
    },
    "papermill": {
     "duration": 0.066754,
     "end_time": "2023-08-24T15:56:27.209290",
     "exception": false,
     "start_time": "2023-08-24T15:56:27.142536",
     "status": "completed"
    },
    "tags": []
   },
   "outputs": [
    {
     "name": "stdout",
     "output_type": "stream",
     "text": [
      "Orange\n",
      "Banana\n",
      "Cherry\n"
     ]
    }
   ],
   "source": [
    "x =  \"Orange\"\n",
    "y =  \"Banana\"\n",
    "z =  \"Cherry\"\n",
    "print(x)\n",
    "print(y)\n",
    "print(z)"
   ]
  },
  {
   "cell_type": "code",
   "execution_count": 18,
   "id": "2030bbc7",
   "metadata": {
    "execution": {
     "iopub.execute_input": "2023-08-24T15:56:27.319300Z",
     "iopub.status.busy": "2023-08-24T15:56:27.318411Z",
     "iopub.status.idle": "2023-08-24T15:56:27.324963Z",
     "shell.execute_reply": "2023-08-24T15:56:27.323975Z"
    },
    "papermill": {
     "duration": 0.062576,
     "end_time": "2023-08-24T15:56:27.327018",
     "exception": false,
     "start_time": "2023-08-24T15:56:27.264442",
     "status": "completed"
    },
    "tags": []
   },
   "outputs": [
    {
     "data": {
      "text/plain": [
       "int"
      ]
     },
     "execution_count": 18,
     "metadata": {},
     "output_type": "execute_result"
    }
   ],
   "source": [
    "a  = 9 \n",
    "type(a)"
   ]
  },
  {
   "cell_type": "code",
   "execution_count": 19,
   "id": "437966a4",
   "metadata": {
    "execution": {
     "iopub.execute_input": "2023-08-24T15:56:27.434312Z",
     "iopub.status.busy": "2023-08-24T15:56:27.433346Z",
     "iopub.status.idle": "2023-08-24T15:56:27.439800Z",
     "shell.execute_reply": "2023-08-24T15:56:27.438837Z"
    },
    "papermill": {
     "duration": 0.061675,
     "end_time": "2023-08-24T15:56:27.441783",
     "exception": false,
     "start_time": "2023-08-24T15:56:27.380108",
     "status": "completed"
    },
    "tags": []
   },
   "outputs": [
    {
     "data": {
      "text/plain": [
       "list"
      ]
     },
     "execution_count": 19,
     "metadata": {},
     "output_type": "execute_result"
    }
   ],
   "source": [
    "a = [9]\n",
    "type(a)\n"
   ]
  },
  {
   "cell_type": "code",
   "execution_count": 20,
   "id": "bf198cce",
   "metadata": {
    "execution": {
     "iopub.execute_input": "2023-08-24T15:56:27.550543Z",
     "iopub.status.busy": "2023-08-24T15:56:27.550206Z",
     "iopub.status.idle": "2023-08-24T15:56:27.560524Z",
     "shell.execute_reply": "2023-08-24T15:56:27.559112Z"
    },
    "papermill": {
     "duration": 0.069616,
     "end_time": "2023-08-24T15:56:27.564692",
     "exception": false,
     "start_time": "2023-08-24T15:56:27.495076",
     "status": "completed"
    },
    "tags": []
   },
   "outputs": [
    {
     "data": {
      "text/plain": [
       "[20, 'sharma', 'prasad', 4, 45, 4543, 454354]"
      ]
     },
     "execution_count": 20,
     "metadata": {},
     "output_type": "execute_result"
    }
   ],
   "source": [
    "# property 1 \n",
    "# index positions\n",
    "\n",
    "\n",
    "a = [ 10,20,\"sharma\",\"prasad\",4,45,4543,454354] # 4\n",
    "a[1:8]"
   ]
  },
  {
   "cell_type": "markdown",
   "id": "f14a486a",
   "metadata": {
    "papermill": {
     "duration": 0.076154,
     "end_time": "2023-08-24T15:56:27.732227",
     "exception": false,
     "start_time": "2023-08-24T15:56:27.656073",
     "status": "completed"
    },
    "tags": []
   },
   "source": [
    "#### "
   ]
  },
  {
   "cell_type": "code",
   "execution_count": 21,
   "id": "66efa62a",
   "metadata": {
    "execution": {
     "iopub.execute_input": "2023-08-24T15:56:27.883359Z",
     "iopub.status.busy": "2023-08-24T15:56:27.882931Z",
     "iopub.status.idle": "2023-08-24T15:56:27.889430Z",
     "shell.execute_reply": "2023-08-24T15:56:27.888581Z"
    },
    "papermill": {
     "duration": 0.088084,
     "end_time": "2023-08-24T15:56:27.894892",
     "exception": false,
     "start_time": "2023-08-24T15:56:27.806808",
     "status": "completed"
    },
    "tags": []
   },
   "outputs": [
    {
     "data": {
      "text/plain": [
       "['sharma', 45]"
      ]
     },
     "execution_count": 21,
     "metadata": {},
     "output_type": "execute_result"
    }
   ],
   "source": [
    "a[2:7:3]"
   ]
  },
  {
   "cell_type": "code",
   "execution_count": 22,
   "id": "15208fe4",
   "metadata": {
    "execution": {
     "iopub.execute_input": "2023-08-24T15:56:28.053493Z",
     "iopub.status.busy": "2023-08-24T15:56:28.053073Z",
     "iopub.status.idle": "2023-08-24T15:56:28.059034Z",
     "shell.execute_reply": "2023-08-24T15:56:28.058179Z"
    },
    "papermill": {
     "duration": 0.097576,
     "end_time": "2023-08-24T15:56:28.064965",
     "exception": false,
     "start_time": "2023-08-24T15:56:27.967389",
     "status": "completed"
    },
    "tags": []
   },
   "outputs": [
    {
     "name": "stdout",
     "output_type": "stream",
     "text": [
      "454354\n"
     ]
    }
   ],
   "source": [
    "# mutable\n",
    "a = [ 10,20,\"sharma\",\"prasad\",4,45,4543,454354]\n",
    "a[0] = \"anusha\"\n",
    "print(a[7])\n",
    "# b = 8\n",
    "# print(b)\n",
    "# c = [1,2]\n",
    "# print(c)"
   ]
  },
  {
   "cell_type": "code",
   "execution_count": 23,
   "id": "f83ea589",
   "metadata": {
    "execution": {
     "iopub.execute_input": "2023-08-24T15:56:28.219566Z",
     "iopub.status.busy": "2023-08-24T15:56:28.219009Z",
     "iopub.status.idle": "2023-08-24T15:56:28.229255Z",
     "shell.execute_reply": "2023-08-24T15:56:28.228281Z"
    },
    "papermill": {
     "duration": 0.090787,
     "end_time": "2023-08-24T15:56:28.232508",
     "exception": false,
     "start_time": "2023-08-24T15:56:28.141721",
     "status": "completed"
    },
    "tags": []
   },
   "outputs": [
    {
     "data": {
      "text/plain": [
       "[1, 2]"
      ]
     },
     "execution_count": 23,
     "metadata": {},
     "output_type": "execute_result"
    }
   ],
   "source": [
    "# mutable\n",
    "a = [ 10,20,\"sharma\",\"prasad\",4,45,4543,454354]\n",
    "a[0] = \"anusha\"\n",
    "a\n",
    "b = 8\n",
    "b\n",
    "c = [1,2]\n",
    "c"
   ]
  },
  {
   "cell_type": "code",
   "execution_count": 24,
   "id": "028d5b40",
   "metadata": {
    "execution": {
     "iopub.execute_input": "2023-08-24T15:56:28.390973Z",
     "iopub.status.busy": "2023-08-24T15:56:28.390512Z",
     "iopub.status.idle": "2023-08-24T15:56:28.396190Z",
     "shell.execute_reply": "2023-08-24T15:56:28.395384Z"
    },
    "papermill": {
     "duration": 0.088898,
     "end_time": "2023-08-24T15:56:28.401616",
     "exception": false,
     "start_time": "2023-08-24T15:56:28.312718",
     "status": "completed"
    },
    "tags": []
   },
   "outputs": [
    {
     "name": "stdout",
     "output_type": "stream",
     "text": [
      "8\n"
     ]
    }
   ],
   "source": [
    "a = [ 10,20,\"sharma\",\"prasad\",4,45,4543,454354]\n",
    "print(len(a))"
   ]
  },
  {
   "cell_type": "code",
   "execution_count": 25,
   "id": "75b3e7d3",
   "metadata": {
    "execution": {
     "iopub.execute_input": "2023-08-24T15:56:28.553182Z",
     "iopub.status.busy": "2023-08-24T15:56:28.552851Z",
     "iopub.status.idle": "2023-08-24T15:56:28.559303Z",
     "shell.execute_reply": "2023-08-24T15:56:28.558455Z"
    },
    "papermill": {
     "duration": 0.087291,
     "end_time": "2023-08-24T15:56:28.564417",
     "exception": false,
     "start_time": "2023-08-24T15:56:28.477126",
     "status": "completed"
    },
    "tags": []
   },
   "outputs": [
    {
     "data": {
      "text/plain": [
       "tuple"
      ]
     },
     "execution_count": 25,
     "metadata": {},
     "output_type": "execute_result"
    }
   ],
   "source": [
    "a = ( 10,20,\"sharma\",\"prasad\",4,45,4543,454354)\n",
    "type(a)"
   ]
  },
  {
   "cell_type": "code",
   "execution_count": 26,
   "id": "79a2cc3a",
   "metadata": {
    "execution": {
     "iopub.execute_input": "2023-08-24T15:56:28.719658Z",
     "iopub.status.busy": "2023-08-24T15:56:28.719242Z",
     "iopub.status.idle": "2023-08-24T15:56:28.723253Z",
     "shell.execute_reply": "2023-08-24T15:56:28.722449Z"
    },
    "papermill": {
     "duration": 0.086252,
     "end_time": "2023-08-24T15:56:28.727306",
     "exception": false,
     "start_time": "2023-08-24T15:56:28.641054",
     "status": "completed"
    },
    "tags": []
   },
   "outputs": [],
   "source": [
    "# a = ( 10,20,\"sharma\",\"prasad\",4,45,4543,454354)\n",
    "# a[7] = 10\n",
    "# a"
   ]
  },
  {
   "cell_type": "code",
   "execution_count": 27,
   "id": "f65759c0",
   "metadata": {
    "execution": {
     "iopub.execute_input": "2023-08-24T15:56:28.882328Z",
     "iopub.status.busy": "2023-08-24T15:56:28.881964Z",
     "iopub.status.idle": "2023-08-24T15:56:28.891953Z",
     "shell.execute_reply": "2023-08-24T15:56:28.891126Z"
    },
    "papermill": {
     "duration": 0.090865,
     "end_time": "2023-08-24T15:56:28.894497",
     "exception": false,
     "start_time": "2023-08-24T15:56:28.803632",
     "status": "completed"
    },
    "tags": []
   },
   "outputs": [
    {
     "name": "stdout",
     "output_type": "stream",
     "text": [
      "(10, 20, 'sharma', 'prasad', 4, 45, 4543, 454354) <class 'tuple'>\n",
      "[1, 20, 'sharma', 'prasad', 4, 45, 4543, 454354] <class 'list'>\n",
      "(1, 20, 'sharma', 'prasad', 4, 45, 4543, 454354) <class 'tuple'>\n"
     ]
    }
   ],
   "source": [
    "a = ( 10,20,\"sharma\",\"prasad\",4,45,4543,454354)\n",
    "\n",
    "print(a, type(a))\n",
    "a = list(a)\n",
    "a[0]= 1\n",
    "print(a, type(a))\n",
    "a = tuple(a)\n",
    "print(a, type(a))"
   ]
  },
  {
   "cell_type": "code",
   "execution_count": 28,
   "id": "149f3f2b",
   "metadata": {
    "execution": {
     "iopub.execute_input": "2023-08-24T15:56:29.049507Z",
     "iopub.status.busy": "2023-08-24T15:56:29.049156Z",
     "iopub.status.idle": "2023-08-24T15:56:29.053546Z",
     "shell.execute_reply": "2023-08-24T15:56:29.052739Z"
    },
    "papermill": {
     "duration": 0.086783,
     "end_time": "2023-08-24T15:56:29.057577",
     "exception": false,
     "start_time": "2023-08-24T15:56:28.970794",
     "status": "completed"
    },
    "tags": []
   },
   "outputs": [],
   "source": [
    "tupledetails = (\"c001\", \"asha\",\"7680896860\")\n",
    "listdetails = [90,80,100]\n"
   ]
  },
  {
   "cell_type": "code",
   "execution_count": 29,
   "id": "02499e5f",
   "metadata": {
    "execution": {
     "iopub.execute_input": "2023-08-24T15:56:29.222010Z",
     "iopub.status.busy": "2023-08-24T15:56:29.221672Z",
     "iopub.status.idle": "2023-08-24T15:56:29.228655Z",
     "shell.execute_reply": "2023-08-24T15:56:29.227654Z"
    },
    "papermill": {
     "duration": 0.086497,
     "end_time": "2023-08-24T15:56:29.231051",
     "exception": false,
     "start_time": "2023-08-24T15:56:29.144554",
     "status": "completed"
    },
    "tags": []
   },
   "outputs": [
    {
     "data": {
      "text/plain": [
       "{1, 2, 3, 4, 5, 6, 7}"
      ]
     },
     "execution_count": 29,
     "metadata": {},
     "output_type": "execute_result"
    }
   ],
   "source": [
    "a = {1,2,3,4,5,6,1,2,3,5,7}\n",
    "a"
   ]
  },
  {
   "cell_type": "code",
   "execution_count": 30,
   "id": "7b8639b8",
   "metadata": {
    "execution": {
     "iopub.execute_input": "2023-08-24T15:56:29.356911Z",
     "iopub.status.busy": "2023-08-24T15:56:29.355986Z",
     "iopub.status.idle": "2023-08-24T15:56:29.364295Z",
     "shell.execute_reply": "2023-08-24T15:56:29.363306Z"
    },
    "papermill": {
     "duration": 0.073631,
     "end_time": "2023-08-24T15:56:29.366500",
     "exception": false,
     "start_time": "2023-08-24T15:56:29.292869",
     "status": "completed"
    },
    "tags": []
   },
   "outputs": [
    {
     "data": {
      "text/plain": [
       "dict_items([('a', {'a.1': 2, 'a.2': [10, 20, 30]}), ('b', {'b.1': {'b.1.1': 4}}), ('c', {'c.1': 5, 'c.2': {'c.2.1': [6, 55]}})])"
      ]
     },
     "execution_count": 30,
     "metadata": {},
     "output_type": "execute_result"
    }
   ],
   "source": [
    "sha = { \"a\" : { \n",
    "            \"a.1\" : 2,\n",
    "            \"a.2\"  : [10,20,30]\n",
    "            }\n",
    "     ,\n",
    "     \n",
    "     \"b\" : { \n",
    "            \"b.1\" : {\n",
    "                     \"b.1.1\" : 4\n",
    "                    }\n",
    "           }\n",
    "     ,\n",
    "      \"c\"  : {\n",
    "             \"c.1\" : 5,\n",
    "             \"c.2\"  : {\n",
    "                         \"c.2.1\" : [6,55]\n",
    "                      }\n",
    "       }}\n",
    "\n",
    "\n",
    "# sha[\"c\"][\"c.2\"][\"c.2.1\"][0]\n",
    "sha.items()"
   ]
  },
  {
   "cell_type": "code",
   "execution_count": 31,
   "id": "420594f1",
   "metadata": {
    "execution": {
     "iopub.execute_input": "2023-08-24T15:56:29.487822Z",
     "iopub.status.busy": "2023-08-24T15:56:29.486934Z",
     "iopub.status.idle": "2023-08-24T15:56:29.494017Z",
     "shell.execute_reply": "2023-08-24T15:56:29.493057Z"
    },
    "papermill": {
     "duration": 0.067596,
     "end_time": "2023-08-24T15:56:29.496132",
     "exception": false,
     "start_time": "2023-08-24T15:56:29.428536",
     "status": "completed"
    },
    "tags": []
   },
   "outputs": [
    {
     "data": {
      "text/plain": [
       "[21, 2000, 43]"
      ]
     },
     "execution_count": 31,
     "metadata": {},
     "output_type": "execute_result"
    }
   ],
   "source": [
    "asha = [21,32,43]\n",
    "asha[1] = 2000\n",
    "asha\n"
   ]
  },
  {
   "cell_type": "code",
   "execution_count": 32,
   "id": "b35177a9",
   "metadata": {
    "execution": {
     "iopub.execute_input": "2023-08-24T15:56:29.606497Z",
     "iopub.status.busy": "2023-08-24T15:56:29.606186Z",
     "iopub.status.idle": "2023-08-24T15:56:29.612328Z",
     "shell.execute_reply": "2023-08-24T15:56:29.611392Z"
    },
    "papermill": {
     "duration": 0.062312,
     "end_time": "2023-08-24T15:56:29.614272",
     "exception": false,
     "start_time": "2023-08-24T15:56:29.551960",
     "status": "completed"
    },
    "tags": []
   },
   "outputs": [
    {
     "data": {
      "text/plain": [
       "['apple', 'watermelon']"
      ]
     },
     "execution_count": 32,
     "metadata": {},
     "output_type": "execute_result"
    }
   ],
   "source": [
    "thislist = [\"apple\", \"banana\", \"cherry\"]\n",
    "# thislist[1:3] = [\"watermelon\",\"sharma\"]\n",
    "thislist[1:3]= [\"watermelon\"]\n",
    "thislist"
   ]
  },
  {
   "cell_type": "code",
   "execution_count": 33,
   "id": "86687548",
   "metadata": {
    "execution": {
     "iopub.execute_input": "2023-08-24T15:56:29.728434Z",
     "iopub.status.busy": "2023-08-24T15:56:29.727693Z",
     "iopub.status.idle": "2023-08-24T15:56:29.731940Z",
     "shell.execute_reply": "2023-08-24T15:56:29.730904Z"
    },
    "papermill": {
     "duration": 0.062926,
     "end_time": "2023-08-24T15:56:29.734029",
     "exception": false,
     "start_time": "2023-08-24T15:56:29.671103",
     "status": "completed"
    },
    "tags": []
   },
   "outputs": [],
   "source": [
    "# thislist = [\"apple\", \"banana\", \"cherry\"]\n",
    "# thislist[1:3] = 200\n",
    "# thislist"
   ]
  },
  {
   "cell_type": "code",
   "execution_count": 34,
   "id": "4adccb88",
   "metadata": {
    "execution": {
     "iopub.execute_input": "2023-08-24T15:56:29.845583Z",
     "iopub.status.busy": "2023-08-24T15:56:29.844873Z",
     "iopub.status.idle": "2023-08-24T15:56:29.853073Z",
     "shell.execute_reply": "2023-08-24T15:56:29.852090Z"
    },
    "papermill": {
     "duration": 0.066287,
     "end_time": "2023-08-24T15:56:29.855122",
     "exception": false,
     "start_time": "2023-08-24T15:56:29.788835",
     "status": "completed"
    },
    "tags": []
   },
   "outputs": [
    {
     "data": {
      "text/plain": [
       "['apple', 'watermelon', 'sah']"
      ]
     },
     "execution_count": 34,
     "metadata": {},
     "output_type": "execute_result"
    }
   ],
   "source": [
    "thislist = [\"apple\", \"banana\", \"cherry\"]\n",
    "thislist[1:3] = [\"watermelon\",\"sah\"]\n",
    "thislist"
   ]
  },
  {
   "cell_type": "code",
   "execution_count": null,
   "id": "c94faee6",
   "metadata": {
    "papermill": {
     "duration": 0.056093,
     "end_time": "2023-08-24T15:56:29.966754",
     "exception": false,
     "start_time": "2023-08-24T15:56:29.910661",
     "status": "completed"
    },
    "tags": []
   },
   "outputs": [],
   "source": []
  },
  {
   "cell_type": "code",
   "execution_count": null,
   "id": "3afd5507",
   "metadata": {
    "papermill": {
     "duration": 0.05516,
     "end_time": "2023-08-24T15:56:30.077377",
     "exception": false,
     "start_time": "2023-08-24T15:56:30.022217",
     "status": "completed"
    },
    "tags": []
   },
   "outputs": [],
   "source": []
  },
  {
   "cell_type": "code",
   "execution_count": 35,
   "id": "e4030e65",
   "metadata": {
    "execution": {
     "iopub.execute_input": "2023-08-24T15:56:30.192133Z",
     "iopub.status.busy": "2023-08-24T15:56:30.188825Z",
     "iopub.status.idle": "2023-08-24T15:56:30.196749Z",
     "shell.execute_reply": "2023-08-24T15:56:30.195585Z"
    },
    "papermill": {
     "duration": 0.066945,
     "end_time": "2023-08-24T15:56:30.198798",
     "exception": false,
     "start_time": "2023-08-24T15:56:30.131853",
     "status": "completed"
    },
    "tags": []
   },
   "outputs": [
    {
     "name": "stdout",
     "output_type": "stream",
     "text": [
      "anusha\n",
      "yasmin\n",
      "anusha\n",
      "yasmin\n",
      "anusha\n",
      "yasmin\n",
      "anusha\n",
      "yasmin\n",
      "anusha\n",
      "yasmin\n",
      "sharma\n"
     ]
    }
   ],
   "source": [
    "for i in range(5) :\n",
    "    print(\"anusha\")\n",
    "    print(\"yasmin\")\n",
    "    \n",
    "print(\"sharma\")\n"
   ]
  },
  {
   "cell_type": "code",
   "execution_count": 36,
   "id": "4eab0e48",
   "metadata": {
    "execution": {
     "iopub.execute_input": "2023-08-24T15:56:30.357247Z",
     "iopub.status.busy": "2023-08-24T15:56:30.356875Z",
     "iopub.status.idle": "2023-08-24T15:56:30.363215Z",
     "shell.execute_reply": "2023-08-24T15:56:30.362289Z"
    },
    "papermill": {
     "duration": 0.069662,
     "end_time": "2023-08-24T15:56:30.367170",
     "exception": false,
     "start_time": "2023-08-24T15:56:30.297508",
     "status": "completed"
    },
    "tags": []
   },
   "outputs": [
    {
     "name": "stdout",
     "output_type": "stream",
     "text": [
      "0\n",
      "1\n",
      "2\n",
      "3\n",
      "4\n"
     ]
    }
   ],
   "source": [
    "a = range(5)\n",
    "for i in a : \n",
    "    print(i)"
   ]
  },
  {
   "cell_type": "code",
   "execution_count": 37,
   "id": "d64db529",
   "metadata": {
    "execution": {
     "iopub.execute_input": "2023-08-24T15:56:30.481349Z",
     "iopub.status.busy": "2023-08-24T15:56:30.481044Z",
     "iopub.status.idle": "2023-08-24T15:56:30.485740Z",
     "shell.execute_reply": "2023-08-24T15:56:30.484843Z"
    },
    "papermill": {
     "duration": 0.06473,
     "end_time": "2023-08-24T15:56:30.488797",
     "exception": false,
     "start_time": "2023-08-24T15:56:30.424067",
     "status": "completed"
    },
    "tags": []
   },
   "outputs": [
    {
     "name": "stdout",
     "output_type": "stream",
     "text": [
      "0\n",
      "1\n",
      "2\n",
      "3\n",
      "4\n"
     ]
    }
   ],
   "source": [
    "for i in range(5):\n",
    "    print(i)"
   ]
  },
  {
   "cell_type": "code",
   "execution_count": 38,
   "id": "685d940f",
   "metadata": {
    "execution": {
     "iopub.execute_input": "2023-08-24T15:56:30.602725Z",
     "iopub.status.busy": "2023-08-24T15:56:30.602454Z",
     "iopub.status.idle": "2023-08-24T15:56:30.607205Z",
     "shell.execute_reply": "2023-08-24T15:56:30.606299Z"
    },
    "papermill": {
     "duration": 0.064799,
     "end_time": "2023-08-24T15:56:30.609757",
     "exception": false,
     "start_time": "2023-08-24T15:56:30.544958",
     "status": "completed"
    },
    "tags": []
   },
   "outputs": [
    {
     "name": "stdout",
     "output_type": "stream",
     "text": [
      "0\n",
      "1\n",
      "2\n",
      "3\n",
      "4\n"
     ]
    }
   ],
   "source": [
    "for i in [0,1,2,3,4]:\n",
    "    print(i)"
   ]
  },
  {
   "cell_type": "code",
   "execution_count": 39,
   "id": "b252945c",
   "metadata": {
    "execution": {
     "iopub.execute_input": "2023-08-24T15:56:30.724442Z",
     "iopub.status.busy": "2023-08-24T15:56:30.723655Z",
     "iopub.status.idle": "2023-08-24T15:56:30.729426Z",
     "shell.execute_reply": "2023-08-24T15:56:30.728298Z"
    },
    "papermill": {
     "duration": 0.064791,
     "end_time": "2023-08-24T15:56:30.731506",
     "exception": false,
     "start_time": "2023-08-24T15:56:30.666715",
     "status": "completed"
    },
    "tags": []
   },
   "outputs": [
    {
     "name": "stdout",
     "output_type": "stream",
     "text": [
      "3\n",
      "4\n",
      "5\n",
      "6\n",
      "7\n",
      "8\n"
     ]
    }
   ],
   "source": [
    "for i in range(3,9):\n",
    "    print(i)"
   ]
  },
  {
   "cell_type": "code",
   "execution_count": 40,
   "id": "282313e8",
   "metadata": {
    "execution": {
     "iopub.execute_input": "2023-08-24T15:56:30.843641Z",
     "iopub.status.busy": "2023-08-24T15:56:30.843044Z",
     "iopub.status.idle": "2023-08-24T15:56:30.849332Z",
     "shell.execute_reply": "2023-08-24T15:56:30.848011Z"
    },
    "papermill": {
     "duration": 0.065524,
     "end_time": "2023-08-24T15:56:30.851543",
     "exception": false,
     "start_time": "2023-08-24T15:56:30.786019",
     "status": "completed"
    },
    "tags": []
   },
   "outputs": [
    {
     "name": "stdout",
     "output_type": "stream",
     "text": [
      "9\n",
      "11\n",
      "13\n",
      "15\n"
     ]
    }
   ],
   "source": [
    "for i  in range(9,16,2):\n",
    "    print(i)"
   ]
  },
  {
   "cell_type": "code",
   "execution_count": 41,
   "id": "5dcb102d",
   "metadata": {
    "execution": {
     "iopub.execute_input": "2023-08-24T15:56:30.965160Z",
     "iopub.status.busy": "2023-08-24T15:56:30.964446Z",
     "iopub.status.idle": "2023-08-24T15:56:30.968877Z",
     "shell.execute_reply": "2023-08-24T15:56:30.968007Z"
    },
    "papermill": {
     "duration": 0.063306,
     "end_time": "2023-08-24T15:56:30.970905",
     "exception": false,
     "start_time": "2023-08-24T15:56:30.907599",
     "status": "completed"
    },
    "tags": []
   },
   "outputs": [],
   "source": [
    "# for ( i = 0 , i < 5 , i ++) \n",
    "#             {\n",
    "\n",
    "#                 print(i)\n",
    "#             }\n",
    "    \n",
    "# print(\"anusha innocent \")"
   ]
  },
  {
   "cell_type": "code",
   "execution_count": 42,
   "id": "9ed52e05",
   "metadata": {
    "execution": {
     "iopub.execute_input": "2023-08-24T15:56:31.085389Z",
     "iopub.status.busy": "2023-08-24T15:56:31.084548Z",
     "iopub.status.idle": "2023-08-24T15:56:31.090758Z",
     "shell.execute_reply": "2023-08-24T15:56:31.089302Z"
    },
    "papermill": {
     "duration": 0.065512,
     "end_time": "2023-08-24T15:56:31.092828",
     "exception": false,
     "start_time": "2023-08-24T15:56:31.027316",
     "status": "completed"
    },
    "tags": []
   },
   "outputs": [
    {
     "name": "stdout",
     "output_type": "stream",
     "text": [
      "10\n",
      "20\n",
      "30\n"
     ]
    }
   ],
   "source": [
    "# step - 1\n",
    "a = [10,20,30]\n",
    "\n",
    "for i in a :\n",
    "    print(i)"
   ]
  },
  {
   "cell_type": "code",
   "execution_count": 43,
   "id": "228d5d35",
   "metadata": {
    "execution": {
     "iopub.execute_input": "2023-08-24T15:56:31.213464Z",
     "iopub.status.busy": "2023-08-24T15:56:31.213115Z",
     "iopub.status.idle": "2023-08-24T15:56:31.218065Z",
     "shell.execute_reply": "2023-08-24T15:56:31.217206Z"
    },
    "papermill": {
     "duration": 0.068114,
     "end_time": "2023-08-24T15:56:31.220685",
     "exception": false,
     "start_time": "2023-08-24T15:56:31.152571",
     "status": "completed"
    },
    "tags": []
   },
   "outputs": [
    {
     "name": "stdout",
     "output_type": "stream",
     "text": [
      "rgrtgert\n",
      "134\n",
      "sharma\n"
     ]
    }
   ],
   "source": [
    "students = [\"rgrtgert\",134,\"sharma\"]\n",
    "for i in students :\n",
    "    print(i)"
   ]
  },
  {
   "cell_type": "code",
   "execution_count": 44,
   "id": "2c5dce1a",
   "metadata": {
    "execution": {
     "iopub.execute_input": "2023-08-24T15:56:31.335925Z",
     "iopub.status.busy": "2023-08-24T15:56:31.335124Z",
     "iopub.status.idle": "2023-08-24T15:56:31.340682Z",
     "shell.execute_reply": "2023-08-24T15:56:31.339677Z"
    },
    "papermill": {
     "duration": 0.064639,
     "end_time": "2023-08-24T15:56:31.343147",
     "exception": false,
     "start_time": "2023-08-24T15:56:31.278508",
     "status": "completed"
    },
    "tags": []
   },
   "outputs": [
    {
     "name": "stdout",
     "output_type": "stream",
     "text": [
      "30\n",
      "20\n",
      "10\n"
     ]
    }
   ],
   "source": [
    "#step - 2\n",
    "a = [10,20,30]\n",
    "#for i in [0,1,2] :\n",
    "for i in range(len(a)-1,-1,-1) :# 0 1 2\n",
    "    print(a[i])"
   ]
  },
  {
   "cell_type": "code",
   "execution_count": 45,
   "id": "93beeaf5",
   "metadata": {
    "execution": {
     "iopub.execute_input": "2023-08-24T15:56:31.455334Z",
     "iopub.status.busy": "2023-08-24T15:56:31.454567Z",
     "iopub.status.idle": "2023-08-24T15:56:31.460593Z",
     "shell.execute_reply": "2023-08-24T15:56:31.459195Z"
    },
    "papermill": {
     "duration": 0.06442,
     "end_time": "2023-08-24T15:56:31.462729",
     "exception": false,
     "start_time": "2023-08-24T15:56:31.398309",
     "status": "completed"
    },
    "tags": []
   },
   "outputs": [
    {
     "name": "stdout",
     "output_type": "stream",
     "text": [
      "rgrtgert\n",
      "134\n",
      "sharma\n"
     ]
    }
   ],
   "source": [
    "students = [\"rgrtgert\",134,\"sharma\"]\n",
    "\n",
    "\n",
    "for i in range(len(students)) :\n",
    "    print(students[i])"
   ]
  },
  {
   "cell_type": "code",
   "execution_count": 46,
   "id": "f430820e",
   "metadata": {
    "execution": {
     "iopub.execute_input": "2023-08-24T15:56:31.582093Z",
     "iopub.status.busy": "2023-08-24T15:56:31.580385Z",
     "iopub.status.idle": "2023-08-24T15:56:31.588626Z",
     "shell.execute_reply": "2023-08-24T15:56:31.587764Z"
    },
    "papermill": {
     "duration": 0.071575,
     "end_time": "2023-08-24T15:56:31.592060",
     "exception": false,
     "start_time": "2023-08-24T15:56:31.520485",
     "status": "completed"
    },
    "tags": []
   },
   "outputs": [
    {
     "name": "stdout",
     "output_type": "stream",
     "text": [
      "0 0 0\n",
      "0 0 1\n",
      "0 0 0\n",
      "0 0 1\n",
      "0 1 0\n",
      "0 1 1\n",
      "0 1 0\n",
      "0 1 1\n",
      "0 2 0\n",
      "0 2 1\n",
      "0 2 0\n",
      "0 2 1\n",
      "0 0\n",
      "0 1\n",
      "0 2\n",
      "0 3\n",
      "loop is done\n",
      "1 0 0\n",
      "1 0 1\n",
      "1 0 0\n",
      "1 0 1\n",
      "1 1 0\n",
      "1 1 1\n",
      "1 1 0\n",
      "1 1 1\n",
      "1 2 0\n",
      "1 2 1\n",
      "1 2 0\n",
      "1 2 1\n",
      "1 0\n",
      "1 1\n",
      "1 2\n",
      "1 3\n",
      "loop is done\n",
      "2 0 0\n",
      "2 0 1\n",
      "2 0 0\n",
      "2 0 1\n",
      "2 1 0\n",
      "2 1 1\n",
      "2 1 0\n",
      "2 1 1\n",
      "2 2 0\n",
      "2 2 1\n",
      "2 2 0\n",
      "2 2 1\n",
      "2 0\n",
      "2 1\n",
      "2 2\n",
      "2 3\n",
      "loop is done\n",
      "3 0 0\n",
      "3 0 1\n",
      "3 0 0\n",
      "3 0 1\n",
      "3 1 0\n",
      "3 1 1\n",
      "3 1 0\n",
      "3 1 1\n",
      "3 2 0\n",
      "3 2 1\n",
      "3 2 0\n",
      "3 2 1\n",
      "3 0\n",
      "3 1\n",
      "3 2\n",
      "3 3\n",
      "loop is done\n",
      "4 0 0\n",
      "4 0 1\n",
      "4 0 0\n",
      "4 0 1\n",
      "4 1 0\n",
      "4 1 1\n",
      "4 1 0\n",
      "4 1 1\n",
      "4 2 0\n",
      "4 2 1\n",
      "4 2 0\n",
      "4 2 1\n",
      "4 0\n",
      "4 1\n",
      "4 2\n",
      "4 3\n",
      "loop is done\n"
     ]
    }
   ],
   "source": [
    "for i  in range(5): # 1    \n",
    "    for j in range (3): # 1.1\n",
    "        for k in range(2) : # 1.1.1\n",
    "            print(i,j,k)\n",
    "        for l in range(2) : # 1.1.2\n",
    "            print(i,j,l)            \n",
    "    for m in range(4) : # 1.2\n",
    "        print(i,m)\n",
    "    print(\"loop is done\")"
   ]
  },
  {
   "cell_type": "code",
   "execution_count": 47,
   "id": "befd11a1",
   "metadata": {
    "execution": {
     "iopub.execute_input": "2023-08-24T15:56:31.703705Z",
     "iopub.status.busy": "2023-08-24T15:56:31.703036Z",
     "iopub.status.idle": "2023-08-24T15:56:31.707179Z",
     "shell.execute_reply": "2023-08-24T15:56:31.706190Z"
    },
    "papermill": {
     "duration": 0.061882,
     "end_time": "2023-08-24T15:56:31.709085",
     "exception": false,
     "start_time": "2023-08-24T15:56:31.647203",
     "status": "completed"
    },
    "tags": []
   },
   "outputs": [],
   "source": [
    "# * \n",
    "# * * \n",
    "# * * * \n",
    "# * * * * \n",
    "# * * * * * "
   ]
  },
  {
   "cell_type": "code",
   "execution_count": 48,
   "id": "56a29ce7",
   "metadata": {
    "execution": {
     "iopub.execute_input": "2023-08-24T15:56:31.821422Z",
     "iopub.status.busy": "2023-08-24T15:56:31.820637Z",
     "iopub.status.idle": "2023-08-24T15:56:31.826190Z",
     "shell.execute_reply": "2023-08-24T15:56:31.824814Z"
    },
    "papermill": {
     "duration": 0.063961,
     "end_time": "2023-08-24T15:56:31.828151",
     "exception": false,
     "start_time": "2023-08-24T15:56:31.764190",
     "status": "completed"
    },
    "tags": []
   },
   "outputs": [
    {
     "name": "stdout",
     "output_type": "stream",
     "text": [
      "* \n",
      "* * \n",
      "* * * \n",
      "* * * * \n",
      "* * * * * \n"
     ]
    }
   ],
   "source": [
    "for i in range(5) :\n",
    "    print(\"* \" * (int(i)+1))"
   ]
  },
  {
   "cell_type": "code",
   "execution_count": 49,
   "id": "bc3871c2",
   "metadata": {
    "execution": {
     "iopub.execute_input": "2023-08-24T15:56:31.943070Z",
     "iopub.status.busy": "2023-08-24T15:56:31.942299Z",
     "iopub.status.idle": "2023-08-24T15:56:31.946623Z",
     "shell.execute_reply": "2023-08-24T15:56:31.945785Z"
    },
    "papermill": {
     "duration": 0.063823,
     "end_time": "2023-08-24T15:56:31.948591",
     "exception": false,
     "start_time": "2023-08-24T15:56:31.884768",
     "status": "completed"
    },
    "tags": []
   },
   "outputs": [],
   "source": [
    "# *\n",
    "# **\n",
    "# ***\n",
    "# ****\n",
    "# *****\n",
    "\n",
    "# *****\n",
    "# ****\n",
    "# ***\n",
    "# **\n",
    "# *"
   ]
  },
  {
   "cell_type": "code",
   "execution_count": 50,
   "id": "5263f402",
   "metadata": {
    "execution": {
     "iopub.execute_input": "2023-08-24T15:56:32.060647Z",
     "iopub.status.busy": "2023-08-24T15:56:32.059853Z",
     "iopub.status.idle": "2023-08-24T15:56:32.065292Z",
     "shell.execute_reply": "2023-08-24T15:56:32.064436Z"
    },
    "papermill": {
     "duration": 0.063628,
     "end_time": "2023-08-24T15:56:32.067556",
     "exception": false,
     "start_time": "2023-08-24T15:56:32.003928",
     "status": "completed"
    },
    "tags": []
   },
   "outputs": [
    {
     "name": "stdout",
     "output_type": "stream",
     "text": [
      "*\n",
      "**\n",
      "***\n",
      "****\n",
      "*****\n",
      "*****\n",
      "****\n",
      "***\n",
      "**\n",
      "*\n"
     ]
    }
   ],
   "source": [
    "for i in range(5) :\n",
    "    print(\"*\" * (int(i)+1))\n",
    "for i in range(5) :\n",
    "    print(\"*\" * (5 - int(i)))"
   ]
  },
  {
   "cell_type": "code",
   "execution_count": 51,
   "id": "957a3602",
   "metadata": {
    "execution": {
     "iopub.execute_input": "2023-08-24T15:56:32.188771Z",
     "iopub.status.busy": "2023-08-24T15:56:32.188444Z",
     "iopub.status.idle": "2023-08-24T15:56:32.193220Z",
     "shell.execute_reply": "2023-08-24T15:56:32.192222Z"
    },
    "papermill": {
     "duration": 0.072513,
     "end_time": "2023-08-24T15:56:32.196515",
     "exception": false,
     "start_time": "2023-08-24T15:56:32.124002",
     "status": "completed"
    },
    "tags": []
   },
   "outputs": [],
   "source": [
    "if 10 < 5 :\n",
    "    print(\"yes\")"
   ]
  },
  {
   "cell_type": "code",
   "execution_count": 52,
   "id": "77c0ab90",
   "metadata": {
    "execution": {
     "iopub.execute_input": "2023-08-24T15:56:32.313003Z",
     "iopub.status.busy": "2023-08-24T15:56:32.312202Z",
     "iopub.status.idle": "2023-08-24T15:56:32.317874Z",
     "shell.execute_reply": "2023-08-24T15:56:32.316787Z"
    },
    "papermill": {
     "duration": 0.064822,
     "end_time": "2023-08-24T15:56:32.319913",
     "exception": false,
     "start_time": "2023-08-24T15:56:32.255091",
     "status": "completed"
    },
    "tags": []
   },
   "outputs": [
    {
     "name": "stdout",
     "output_type": "stream",
     "text": [
      "no\n"
     ]
    }
   ],
   "source": [
    "if 10 < 5 :\n",
    "    print(\"yes\")\n",
    "else :\n",
    "    print(\"no\")"
   ]
  },
  {
   "cell_type": "code",
   "execution_count": 53,
   "id": "67e780ab",
   "metadata": {
    "execution": {
     "iopub.execute_input": "2023-08-24T15:56:32.435125Z",
     "iopub.status.busy": "2023-08-24T15:56:32.434559Z",
     "iopub.status.idle": "2023-08-24T15:56:32.441282Z",
     "shell.execute_reply": "2023-08-24T15:56:32.440085Z"
    },
    "papermill": {
     "duration": 0.066822,
     "end_time": "2023-08-24T15:56:32.443285",
     "exception": false,
     "start_time": "2023-08-24T15:56:32.376463",
     "status": "completed"
    },
    "tags": []
   },
   "outputs": [
    {
     "name": "stdout",
     "output_type": "stream",
     "text": [
      "passed\n"
     ]
    }
   ],
   "source": [
    "marks = 30\n",
    "\n",
    "if marks > 95 :\n",
    "    print(\"distinction\")\n",
    "    \n",
    "elif marks > 75 :\n",
    "    print(\"firstgrade\")\n",
    "elif marks > 50 :\n",
    "    print(\"secondgrade\")\n",
    "    \n",
    "else :\n",
    "    print(\"passed\")"
   ]
  },
  {
   "cell_type": "markdown",
   "id": "26c31fe2",
   "metadata": {
    "papermill": {
     "duration": 0.057051,
     "end_time": "2023-08-24T15:56:32.557324",
     "exception": false,
     "start_time": "2023-08-24T15:56:32.500273",
     "status": "completed"
    },
    "tags": []
   },
   "source": []
  },
  {
   "cell_type": "code",
   "execution_count": 54,
   "id": "81c8b90f",
   "metadata": {
    "execution": {
     "iopub.execute_input": "2023-08-24T15:56:32.672949Z",
     "iopub.status.busy": "2023-08-24T15:56:32.672633Z",
     "iopub.status.idle": "2023-08-24T15:56:32.677945Z",
     "shell.execute_reply": "2023-08-24T15:56:32.677078Z"
    },
    "papermill": {
     "duration": 0.067281,
     "end_time": "2023-08-24T15:56:32.680530",
     "exception": false,
     "start_time": "2023-08-24T15:56:32.613249",
     "status": "completed"
    },
    "tags": []
   },
   "outputs": [
    {
     "name": "stdout",
     "output_type": "stream",
     "text": [
      "10\n",
      "9\n",
      "8\n",
      "7\n",
      "6\n"
     ]
    }
   ],
   "source": [
    "a  = 10 \n",
    "\n",
    "while a > 5 : # true 9\n",
    "    print(a) \n",
    "    a = a -  1"
   ]
  },
  {
   "cell_type": "code",
   "execution_count": 55,
   "id": "cf015122",
   "metadata": {
    "execution": {
     "iopub.execute_input": "2023-08-24T15:56:32.793701Z",
     "iopub.status.busy": "2023-08-24T15:56:32.793014Z",
     "iopub.status.idle": "2023-08-24T15:56:32.797218Z",
     "shell.execute_reply": "2023-08-24T15:56:32.796285Z"
    },
    "papermill": {
     "duration": 0.063966,
     "end_time": "2023-08-24T15:56:32.799737",
     "exception": false,
     "start_time": "2023-08-24T15:56:32.735771",
     "status": "completed"
    },
    "tags": []
   },
   "outputs": [],
   "source": [
    "# * * * * *\n",
    "# * * * * \n",
    "# * * * \n",
    "# * * \n",
    "# *"
   ]
  },
  {
   "cell_type": "code",
   "execution_count": 56,
   "id": "0903a1fc",
   "metadata": {
    "execution": {
     "iopub.execute_input": "2023-08-24T15:56:32.918592Z",
     "iopub.status.busy": "2023-08-24T15:56:32.917666Z",
     "iopub.status.idle": "2023-08-24T15:56:32.924009Z",
     "shell.execute_reply": "2023-08-24T15:56:32.922821Z"
    },
    "papermill": {
     "duration": 0.06817,
     "end_time": "2023-08-24T15:56:32.926095",
     "exception": false,
     "start_time": "2023-08-24T15:56:32.857925",
     "status": "completed"
    },
    "tags": []
   },
   "outputs": [
    {
     "name": "stdout",
     "output_type": "stream",
     "text": [
      "* * * * * \n",
      "* * * * \n",
      "* * * \n",
      "* * \n",
      "* \n"
     ]
    }
   ],
   "source": [
    "for i in range(5) :\n",
    "    print(\"* \" * (5-i))"
   ]
  },
  {
   "cell_type": "code",
   "execution_count": 57,
   "id": "a0f98c9b",
   "metadata": {
    "execution": {
     "iopub.execute_input": "2023-08-24T15:56:33.040953Z",
     "iopub.status.busy": "2023-08-24T15:56:33.040096Z",
     "iopub.status.idle": "2023-08-24T15:56:33.044282Z",
     "shell.execute_reply": "2023-08-24T15:56:33.043464Z"
    },
    "papermill": {
     "duration": 0.064244,
     "end_time": "2023-08-24T15:56:33.046269",
     "exception": false,
     "start_time": "2023-08-24T15:56:32.982025",
     "status": "completed"
    },
    "tags": []
   },
   "outputs": [],
   "source": [
    "# *\n",
    "# **\n",
    "# ***\n",
    "# ****\n",
    "# *****"
   ]
  },
  {
   "cell_type": "code",
   "execution_count": 58,
   "id": "5a453b22",
   "metadata": {
    "execution": {
     "iopub.execute_input": "2023-08-24T15:56:33.165219Z",
     "iopub.status.busy": "2023-08-24T15:56:33.164897Z",
     "iopub.status.idle": "2023-08-24T15:56:33.170265Z",
     "shell.execute_reply": "2023-08-24T15:56:33.169301Z"
    },
    "papermill": {
     "duration": 0.069427,
     "end_time": "2023-08-24T15:56:33.172975",
     "exception": false,
     "start_time": "2023-08-24T15:56:33.103548",
     "status": "completed"
    },
    "tags": []
   },
   "outputs": [
    {
     "name": "stdout",
     "output_type": "stream",
     "text": [
      "*\n",
      "**\n",
      "***\n",
      "****\n",
      "*****\n"
     ]
    }
   ],
   "source": [
    "for i in range(5) :\n",
    "    print(\"*\" * (int(i)+1))"
   ]
  },
  {
   "cell_type": "code",
   "execution_count": 59,
   "id": "c84fdea8",
   "metadata": {
    "execution": {
     "iopub.execute_input": "2023-08-24T15:56:33.293533Z",
     "iopub.status.busy": "2023-08-24T15:56:33.292959Z",
     "iopub.status.idle": "2023-08-24T15:56:33.297468Z",
     "shell.execute_reply": "2023-08-24T15:56:33.296532Z"
    },
    "papermill": {
     "duration": 0.066035,
     "end_time": "2023-08-24T15:56:33.299547",
     "exception": false,
     "start_time": "2023-08-24T15:56:33.233512",
     "status": "completed"
    },
    "tags": []
   },
   "outputs": [],
   "source": [
    "#         *\n",
    "#       **\n",
    "#     ***\n",
    "#   ****\n",
    "# *****"
   ]
  },
  {
   "cell_type": "code",
   "execution_count": 60,
   "id": "2607b12e",
   "metadata": {
    "execution": {
     "iopub.execute_input": "2023-08-24T15:56:33.414691Z",
     "iopub.status.busy": "2023-08-24T15:56:33.413928Z",
     "iopub.status.idle": "2023-08-24T15:56:33.419785Z",
     "shell.execute_reply": "2023-08-24T15:56:33.418563Z"
    },
    "papermill": {
     "duration": 0.064781,
     "end_time": "2023-08-24T15:56:33.421726",
     "exception": false,
     "start_time": "2023-08-24T15:56:33.356945",
     "status": "completed"
    },
    "tags": []
   },
   "outputs": [
    {
     "name": "stdout",
     "output_type": "stream",
     "text": [
      "           *\n",
      "         **\n",
      "       ***\n",
      "     ****\n",
      "   *****\n"
     ]
    }
   ],
   "source": [
    "for i in range(5) :\n",
    "    print(\" \"* ((5-i)*2),\"*\" * (int(i)+1))"
   ]
  },
  {
   "cell_type": "code",
   "execution_count": 61,
   "id": "3f7fe325",
   "metadata": {
    "execution": {
     "iopub.execute_input": "2023-08-24T15:56:33.534352Z",
     "iopub.status.busy": "2023-08-24T15:56:33.533552Z",
     "iopub.status.idle": "2023-08-24T15:56:33.539176Z",
     "shell.execute_reply": "2023-08-24T15:56:33.538129Z"
    },
    "papermill": {
     "duration": 0.064367,
     "end_time": "2023-08-24T15:56:33.541236",
     "exception": false,
     "start_time": "2023-08-24T15:56:33.476869",
     "status": "completed"
    },
    "tags": []
   },
   "outputs": [
    {
     "name": "stdout",
     "output_type": "stream",
     "text": [
      "* * * * * \n",
      "* * * * \n",
      "* * * \n",
      "* * \n",
      "* * * \n"
     ]
    }
   ],
   "source": [
    "for i in range(4):\n",
    "    print(\"* \" * (5-i))\n",
    "print(\"* \"* 3)"
   ]
  },
  {
   "cell_type": "code",
   "execution_count": 62,
   "id": "3a6351ad",
   "metadata": {
    "execution": {
     "iopub.execute_input": "2023-08-24T15:56:33.654941Z",
     "iopub.status.busy": "2023-08-24T15:56:33.654664Z",
     "iopub.status.idle": "2023-08-24T15:56:33.658476Z",
     "shell.execute_reply": "2023-08-24T15:56:33.657589Z"
    },
    "papermill": {
     "duration": 0.062561,
     "end_time": "2023-08-24T15:56:33.660443",
     "exception": false,
     "start_time": "2023-08-24T15:56:33.597882",
     "status": "completed"
    },
    "tags": []
   },
   "outputs": [],
   "source": [
    "#     * \n",
    "#    **\n",
    "#   ***\n",
    "#  ****\n",
    "# *****"
   ]
  },
  {
   "cell_type": "code",
   "execution_count": 63,
   "id": "c2059e66",
   "metadata": {
    "execution": {
     "iopub.execute_input": "2023-08-24T15:56:33.774841Z",
     "iopub.status.busy": "2023-08-24T15:56:33.774558Z",
     "iopub.status.idle": "2023-08-24T15:56:33.779415Z",
     "shell.execute_reply": "2023-08-24T15:56:33.778542Z"
    },
    "papermill": {
     "duration": 0.064697,
     "end_time": "2023-08-24T15:56:33.781782",
     "exception": false,
     "start_time": "2023-08-24T15:56:33.717085",
     "status": "completed"
    },
    "tags": []
   },
   "outputs": [
    {
     "name": "stdout",
     "output_type": "stream",
     "text": [
      "     *\n",
      "    **\n",
      "   ***\n",
      "  ****\n",
      " *****\n"
     ]
    }
   ],
   "source": [
    "for i in range(5):\n",
    "    print(\" \"* (4-int(i)),\"*\" * (i+1))"
   ]
  },
  {
   "cell_type": "code",
   "execution_count": 64,
   "id": "1f96c4ba",
   "metadata": {
    "execution": {
     "iopub.execute_input": "2023-08-24T15:56:33.898570Z",
     "iopub.status.busy": "2023-08-24T15:56:33.898268Z",
     "iopub.status.idle": "2023-08-24T15:56:33.902401Z",
     "shell.execute_reply": "2023-08-24T15:56:33.901468Z"
    },
    "papermill": {
     "duration": 0.063578,
     "end_time": "2023-08-24T15:56:33.904394",
     "exception": false,
     "start_time": "2023-08-24T15:56:33.840816",
     "status": "completed"
    },
    "tags": []
   },
   "outputs": [],
   "source": [
    "#        * \n",
    "#       * * \n",
    "#      * * * \n",
    "#     * * * * \n",
    "#    * * * * *"
   ]
  },
  {
   "cell_type": "code",
   "execution_count": 65,
   "id": "c52b91da",
   "metadata": {
    "execution": {
     "iopub.execute_input": "2023-08-24T15:56:34.022449Z",
     "iopub.status.busy": "2023-08-24T15:56:34.021636Z",
     "iopub.status.idle": "2023-08-24T15:56:34.027645Z",
     "shell.execute_reply": "2023-08-24T15:56:34.026503Z"
    },
    "papermill": {
     "duration": 0.066532,
     "end_time": "2023-08-24T15:56:34.029689",
     "exception": false,
     "start_time": "2023-08-24T15:56:33.963157",
     "status": "completed"
    },
    "tags": []
   },
   "outputs": [
    {
     "name": "stdout",
     "output_type": "stream",
     "text": [
      "        * \n",
      "       * * \n",
      "      * * * \n",
      "     * * * * \n",
      "    * * * * * \n"
     ]
    }
   ],
   "source": [
    "for i in range(5) :\n",
    "    print(\" \" * (7-int(i)),\"* \" * (int(i) + 1))"
   ]
  },
  {
   "cell_type": "code",
   "execution_count": 66,
   "id": "0c2e5de0",
   "metadata": {
    "execution": {
     "iopub.execute_input": "2023-08-24T15:56:34.144287Z",
     "iopub.status.busy": "2023-08-24T15:56:34.143503Z",
     "iopub.status.idle": "2023-08-24T15:56:34.147811Z",
     "shell.execute_reply": "2023-08-24T15:56:34.146960Z"
    },
    "papermill": {
     "duration": 0.062598,
     "end_time": "2023-08-24T15:56:34.149809",
     "exception": false,
     "start_time": "2023-08-24T15:56:34.087211",
     "status": "completed"
    },
    "tags": []
   },
   "outputs": [],
   "source": [
    "#  * * * * *     \n",
    "#  * * * * * \n",
    "#   * * * * \n",
    "#    * * * \n",
    "#     * * \n",
    "#      * "
   ]
  },
  {
   "cell_type": "code",
   "execution_count": 67,
   "id": "d92a2209",
   "metadata": {
    "execution": {
     "iopub.execute_input": "2023-08-24T15:56:34.269199Z",
     "iopub.status.busy": "2023-08-24T15:56:34.268916Z",
     "iopub.status.idle": "2023-08-24T15:56:34.274406Z",
     "shell.execute_reply": "2023-08-24T15:56:34.273385Z"
    },
    "papermill": {
     "duration": 0.065364,
     "end_time": "2023-08-24T15:56:34.277315",
     "exception": false,
     "start_time": "2023-08-24T15:56:34.211951",
     "status": "completed"
    },
    "tags": []
   },
   "outputs": [
    {
     "name": "stdout",
     "output_type": "stream",
     "text": [
      "  * * * * * \n",
      "  * * * * * \n",
      "   * * * * \n",
      "    * * * \n",
      "     * * \n",
      "      * \n"
     ]
    }
   ],
   "source": [
    "print(\" \",\"* \"* 5)\n",
    "for i in range(5) :\n",
    "    print(\" \"* (int(i) +1),\"* \"* (5- int(i)))"
   ]
  },
  {
   "cell_type": "code",
   "execution_count": 68,
   "id": "5bf4751c",
   "metadata": {
    "execution": {
     "iopub.execute_input": "2023-08-24T15:56:34.391687Z",
     "iopub.status.busy": "2023-08-24T15:56:34.390925Z",
     "iopub.status.idle": "2023-08-24T15:56:34.397357Z",
     "shell.execute_reply": "2023-08-24T15:56:34.395924Z"
    },
    "papermill": {
     "duration": 0.066609,
     "end_time": "2023-08-24T15:56:34.399436",
     "exception": false,
     "start_time": "2023-08-24T15:56:34.332827",
     "status": "completed"
    },
    "tags": []
   },
   "outputs": [
    {
     "name": "stdout",
     "output_type": "stream",
     "text": [
      "10\n",
      "9\n"
     ]
    }
   ],
   "source": [
    "a = 10\n",
    "\n",
    "while a > 1 :\n",
    "    print(a)\n",
    "    if a == 9 :\n",
    "        break\n",
    "    a = a - 1"
   ]
  },
  {
   "cell_type": "code",
   "execution_count": 69,
   "id": "a6406b51",
   "metadata": {
    "execution": {
     "iopub.execute_input": "2023-08-24T15:56:34.515460Z",
     "iopub.status.busy": "2023-08-24T15:56:34.514597Z",
     "iopub.status.idle": "2023-08-24T15:56:34.519060Z",
     "shell.execute_reply": "2023-08-24T15:56:34.518216Z"
    },
    "papermill": {
     "duration": 0.064443,
     "end_time": "2023-08-24T15:56:34.521105",
     "exception": false,
     "start_time": "2023-08-24T15:56:34.456662",
     "status": "completed"
    },
    "tags": []
   },
   "outputs": [],
   "source": [
    "# day - 3"
   ]
  },
  {
   "cell_type": "code",
   "execution_count": 70,
   "id": "74a0d988",
   "metadata": {
    "execution": {
     "iopub.execute_input": "2023-08-24T15:56:34.635430Z",
     "iopub.status.busy": "2023-08-24T15:56:34.634701Z",
     "iopub.status.idle": "2023-08-24T15:56:34.640171Z",
     "shell.execute_reply": "2023-08-24T15:56:34.639278Z"
    },
    "papermill": {
     "duration": 0.066028,
     "end_time": "2023-08-24T15:56:34.642711",
     "exception": false,
     "start_time": "2023-08-24T15:56:34.576683",
     "status": "completed"
    },
    "tags": []
   },
   "outputs": [
    {
     "name": "stdout",
     "output_type": "stream",
     "text": [
      "        * \n",
      "       * * \n",
      "      * * * \n",
      "     * * * * \n",
      "    * * * * * \n"
     ]
    }
   ],
   "source": [
    "for i  in range(5) :\n",
    "    print(\" \" * (7 - int(i)), \"* \" * (int(i) + 1))"
   ]
  },
  {
   "cell_type": "code",
   "execution_count": 71,
   "id": "38905877",
   "metadata": {
    "execution": {
     "iopub.execute_input": "2023-08-24T15:56:34.759804Z",
     "iopub.status.busy": "2023-08-24T15:56:34.758914Z",
     "iopub.status.idle": "2023-08-24T15:56:34.763789Z",
     "shell.execute_reply": "2023-08-24T15:56:34.762880Z"
    },
    "papermill": {
     "duration": 0.065873,
     "end_time": "2023-08-24T15:56:34.766143",
     "exception": false,
     "start_time": "2023-08-24T15:56:34.700270",
     "status": "completed"
    },
    "tags": []
   },
   "outputs": [],
   "source": [
    "#         * \n",
    "#        * *      \n",
    "#       * * * \n",
    "#      * * * * \n",
    "#     * * * * *"
   ]
  },
  {
   "cell_type": "code",
   "execution_count": 72,
   "id": "53d5975d",
   "metadata": {
    "execution": {
     "iopub.execute_input": "2023-08-24T15:56:34.887121Z",
     "iopub.status.busy": "2023-08-24T15:56:34.886797Z",
     "iopub.status.idle": "2023-08-24T15:56:34.890764Z",
     "shell.execute_reply": "2023-08-24T15:56:34.889846Z"
    },
    "papermill": {
     "duration": 0.065731,
     "end_time": "2023-08-24T15:56:34.892901",
     "exception": false,
     "start_time": "2023-08-24T15:56:34.827170",
     "status": "completed"
    },
    "tags": []
   },
   "outputs": [],
   "source": [
    "# 1\n",
    "# 2 2\n",
    "# 3 3 3\n",
    "# 4 4 4 4\n",
    "# 5 5 5 5 5"
   ]
  },
  {
   "cell_type": "code",
   "execution_count": 73,
   "id": "99b968a7",
   "metadata": {
    "execution": {
     "iopub.execute_input": "2023-08-24T15:56:35.007440Z",
     "iopub.status.busy": "2023-08-24T15:56:35.007139Z",
     "iopub.status.idle": "2023-08-24T15:56:35.012315Z",
     "shell.execute_reply": "2023-08-24T15:56:35.011462Z"
    },
    "papermill": {
     "duration": 0.06469,
     "end_time": "2023-08-24T15:56:35.014784",
     "exception": false,
     "start_time": "2023-08-24T15:56:34.950094",
     "status": "completed"
    },
    "tags": []
   },
   "outputs": [
    {
     "name": "stdout",
     "output_type": "stream",
     "text": [
      "1 \n",
      "2 2 \n",
      "3 3 3 \n",
      "4 4 4 4 \n",
      "5 5 5 5 5 \n"
     ]
    }
   ],
   "source": [
    "for i in range(5) :\n",
    "    print((str(i+1)+ \" \") * (int(i)+1))"
   ]
  },
  {
   "cell_type": "code",
   "execution_count": 74,
   "id": "1b87158f",
   "metadata": {
    "execution": {
     "iopub.execute_input": "2023-08-24T15:56:35.137737Z",
     "iopub.status.busy": "2023-08-24T15:56:35.136876Z",
     "iopub.status.idle": "2023-08-24T15:56:35.141016Z",
     "shell.execute_reply": "2023-08-24T15:56:35.140081Z"
    },
    "papermill": {
     "duration": 0.064012,
     "end_time": "2023-08-24T15:56:35.142942",
     "exception": false,
     "start_time": "2023-08-24T15:56:35.078930",
     "status": "completed"
    },
    "tags": []
   },
   "outputs": [],
   "source": [
    "# a\n",
    "# b b\n",
    "# c c c\n",
    "# d d d d\n",
    "# # e e e e e\n"
   ]
  },
  {
   "cell_type": "code",
   "execution_count": 75,
   "id": "e5e65252",
   "metadata": {
    "execution": {
     "iopub.execute_input": "2023-08-24T15:56:35.305451Z",
     "iopub.status.busy": "2023-08-24T15:56:35.304923Z",
     "iopub.status.idle": "2023-08-24T15:56:35.311653Z",
     "shell.execute_reply": "2023-08-24T15:56:35.310773Z"
    },
    "papermill": {
     "duration": 0.111996,
     "end_time": "2023-08-24T15:56:35.314616",
     "exception": false,
     "start_time": "2023-08-24T15:56:35.202620",
     "status": "completed"
    },
    "tags": []
   },
   "outputs": [
    {
     "name": "stdout",
     "output_type": "stream",
     "text": [
      "a \n",
      "b b \n",
      "c c c \n",
      "d d d d \n",
      "e e e e e \n"
     ]
    }
   ],
   "source": [
    "anbhu = [\"a\",\"b\",\"c\",\"d\",\"e\"]\n",
    "for i in range(5) :\n",
    "    print((anbhu[i]+\" \") * (int(i)+1))"
   ]
  },
  {
   "cell_type": "code",
   "execution_count": 76,
   "id": "0067490c",
   "metadata": {
    "execution": {
     "iopub.execute_input": "2023-08-24T15:56:35.444827Z",
     "iopub.status.busy": "2023-08-24T15:56:35.444465Z",
     "iopub.status.idle": "2023-08-24T15:56:35.450056Z",
     "shell.execute_reply": "2023-08-24T15:56:35.449112Z"
    },
    "papermill": {
     "duration": 0.073649,
     "end_time": "2023-08-24T15:56:35.452378",
     "exception": false,
     "start_time": "2023-08-24T15:56:35.378729",
     "status": "completed"
    },
    "tags": []
   },
   "outputs": [
    {
     "name": "stdout",
     "output_type": "stream",
     "text": [
      "         *\n",
      "       **\n",
      "     ***\n",
      "   ****\n",
      " *****\n"
     ]
    }
   ],
   "source": [
    "for i in range(5) :\n",
    "    print(\" \" * (2* (4-int(i))), \"*\" * (int(i) + 1) )"
   ]
  },
  {
   "cell_type": "code",
   "execution_count": 77,
   "id": "e370b26c",
   "metadata": {
    "execution": {
     "iopub.execute_input": "2023-08-24T15:56:35.566733Z",
     "iopub.status.busy": "2023-08-24T15:56:35.565923Z",
     "iopub.status.idle": "2023-08-24T15:56:35.570196Z",
     "shell.execute_reply": "2023-08-24T15:56:35.569184Z"
    },
    "papermill": {
     "duration": 0.063547,
     "end_time": "2023-08-24T15:56:35.572161",
     "exception": false,
     "start_time": "2023-08-24T15:56:35.508614",
     "status": "completed"
    },
    "tags": []
   },
   "outputs": [],
   "source": [
    "# * * * * * \n",
    "# * * * * * \n",
    "#  * * * * \n",
    "#   * * * \n",
    "#    * * \n",
    "#     * "
   ]
  },
  {
   "cell_type": "code",
   "execution_count": 78,
   "id": "bda93b01",
   "metadata": {
    "execution": {
     "iopub.execute_input": "2023-08-24T15:56:35.688419Z",
     "iopub.status.busy": "2023-08-24T15:56:35.687591Z",
     "iopub.status.idle": "2023-08-24T15:56:35.693599Z",
     "shell.execute_reply": "2023-08-24T15:56:35.692541Z"
    },
    "papermill": {
     "duration": 0.06604,
     "end_time": "2023-08-24T15:56:35.695629",
     "exception": false,
     "start_time": "2023-08-24T15:56:35.629589",
     "status": "completed"
    },
    "tags": []
   },
   "outputs": [
    {
     "name": "stdout",
     "output_type": "stream",
     "text": [
      " * * * * *\n",
      " * * * * * \n",
      "  * * * * \n",
      "   * * * \n",
      "    * * \n",
      "     * \n"
     ]
    }
   ],
   "source": [
    "print(\" *\"* 5)\n",
    "for i in range(5) :\n",
    "    print(\" \" * i, \"* \" * (5- int(i)))"
   ]
  },
  {
   "cell_type": "code",
   "execution_count": 79,
   "id": "507548a5",
   "metadata": {
    "execution": {
     "iopub.execute_input": "2023-08-24T15:56:35.810849Z",
     "iopub.status.busy": "2023-08-24T15:56:35.809257Z",
     "iopub.status.idle": "2023-08-24T15:56:35.814390Z",
     "shell.execute_reply": "2023-08-24T15:56:35.813560Z"
    },
    "papermill": {
     "duration": 0.064478,
     "end_time": "2023-08-24T15:56:35.816158",
     "exception": false,
     "start_time": "2023-08-24T15:56:35.751680",
     "status": "completed"
    },
    "tags": []
   },
   "outputs": [],
   "source": [
    "# 5 5 5 5 5 \n",
    "\n",
    "# 5 5 5 5 \n",
    "\n",
    "# 5 5 5 \n",
    "\n",
    "# 5 5 \n",
    "\n",
    "# 5"
   ]
  },
  {
   "cell_type": "code",
   "execution_count": 80,
   "id": "5bd9a4e7",
   "metadata": {
    "execution": {
     "iopub.execute_input": "2023-08-24T15:56:35.934776Z",
     "iopub.status.busy": "2023-08-24T15:56:35.933951Z",
     "iopub.status.idle": "2023-08-24T15:56:35.938921Z",
     "shell.execute_reply": "2023-08-24T15:56:35.938078Z"
    },
    "papermill": {
     "duration": 0.067221,
     "end_time": "2023-08-24T15:56:35.941389",
     "exception": false,
     "start_time": "2023-08-24T15:56:35.874168",
     "status": "completed"
    },
    "tags": []
   },
   "outputs": [
    {
     "name": "stdout",
     "output_type": "stream",
     "text": [
      "5 5 5 5 5 \n",
      "5 5 5 5 \n",
      "5 5 5 \n",
      "5 5 \n",
      "5 \n"
     ]
    }
   ],
   "source": [
    "for i in range(5) :\n",
    "    print(\"5 \" *( 5 - int(i)))"
   ]
  },
  {
   "cell_type": "code",
   "execution_count": 81,
   "id": "36846a69",
   "metadata": {
    "execution": {
     "iopub.execute_input": "2023-08-24T15:56:36.056024Z",
     "iopub.status.busy": "2023-08-24T15:56:36.055700Z",
     "iopub.status.idle": "2023-08-24T15:56:36.061368Z",
     "shell.execute_reply": "2023-08-24T15:56:36.060417Z"
    },
    "papermill": {
     "duration": 0.066098,
     "end_time": "2023-08-24T15:56:36.063894",
     "exception": false,
     "start_time": "2023-08-24T15:56:35.997796",
     "status": "completed"
    },
    "tags": []
   },
   "outputs": [
    {
     "name": "stdout",
     "output_type": "stream",
     "text": [
      "asha  is unqualified \n"
     ]
    }
   ],
   "source": [
    "m1 = 80\n",
    "m2 = 80\n",
    "name = \"asha\"\n",
    "\n",
    "if m1 > 85 and m2 > 85 :\n",
    "    print(name , \"is qualified\")\n",
    "else :\n",
    "    print(name , \" is unqualified \")"
   ]
  },
  {
   "cell_type": "code",
   "execution_count": 82,
   "id": "6df259b6",
   "metadata": {
    "execution": {
     "iopub.execute_input": "2023-08-24T15:56:36.180853Z",
     "iopub.status.busy": "2023-08-24T15:56:36.180026Z",
     "iopub.status.idle": "2023-08-24T15:56:36.184751Z",
     "shell.execute_reply": "2023-08-24T15:56:36.183901Z"
    },
    "papermill": {
     "duration": 0.065798,
     "end_time": "2023-08-24T15:56:36.186910",
     "exception": false,
     "start_time": "2023-08-24T15:56:36.121112",
     "status": "completed"
    },
    "tags": []
   },
   "outputs": [],
   "source": [
    "\n",
    "# print(\"start\")\n",
    "\n",
    "# m1 = int(input(\"enter m1 marks\"))\n",
    "# print(\"m1 done\")\n",
    "# m2 = int(input(\"enter m2 marks\"))\n",
    "# name = input()\n",
    "\n",
    "# if m1 > 85 and m2 > 85 :\n",
    "#     print(name , \"is qualified\")\n",
    "# else :\n",
    "#     print(name , \" is unqualified \")"
   ]
  },
  {
   "cell_type": "code",
   "execution_count": 83,
   "id": "592e490f",
   "metadata": {
    "execution": {
     "iopub.execute_input": "2023-08-24T15:56:36.307496Z",
     "iopub.status.busy": "2023-08-24T15:56:36.307153Z",
     "iopub.status.idle": "2023-08-24T15:56:36.312602Z",
     "shell.execute_reply": "2023-08-24T15:56:36.311652Z"
    },
    "papermill": {
     "duration": 0.068574,
     "end_time": "2023-08-24T15:56:36.315201",
     "exception": false,
     "start_time": "2023-08-24T15:56:36.246627",
     "status": "completed"
    },
    "tags": []
   },
   "outputs": [
    {
     "name": "stdout",
     "output_type": "stream",
     "text": [
      "sharma is qualified\n"
     ]
    }
   ],
   "source": [
    "m1 = 90\n",
    "m2 = 95\n",
    "name = \"sharma\"\n",
    "\n",
    "if m1 > 85 and m2 > 85 :\n",
    "    print(name , \"is qualified\")\n",
    "else :\n",
    "    print(name , \" is unqualified \")"
   ]
  },
  {
   "cell_type": "code",
   "execution_count": 84,
   "id": "ddb0fb41",
   "metadata": {
    "execution": {
     "iopub.execute_input": "2023-08-24T15:56:36.438210Z",
     "iopub.status.busy": "2023-08-24T15:56:36.437295Z",
     "iopub.status.idle": "2023-08-24T15:56:36.445292Z",
     "shell.execute_reply": "2023-08-24T15:56:36.444132Z"
    },
    "papermill": {
     "duration": 0.072471,
     "end_time": "2023-08-24T15:56:36.447408",
     "exception": false,
     "start_time": "2023-08-24T15:56:36.374937",
     "status": "completed"
    },
    "tags": []
   },
   "outputs": [
    {
     "name": "stdout",
     "output_type": "stream",
     "text": [
      "student is qualified\n"
     ]
    }
   ],
   "source": [
    "# write a functin to check \n",
    "def check (m1= 0,m2 = 0,name = \"student\"):\n",
    "    \"\"\"\n",
    "    this is written by @mlv prasad\n",
    "    \"\"\"\n",
    "     \n",
    "    if m1 > 85 and m2 > 85 : # check marks\n",
    "        print(name , \"is qualified\")\n",
    "    else :\n",
    "        print(name, \"no qualified \")\n",
    "\n",
    "\n",
    "check(m1 =  90, m2  = 95)   \n",
    "\n"
   ]
  },
  {
   "cell_type": "code",
   "execution_count": 85,
   "id": "891cd255",
   "metadata": {
    "execution": {
     "iopub.execute_input": "2023-08-24T15:56:36.567479Z",
     "iopub.status.busy": "2023-08-24T15:56:36.566677Z",
     "iopub.status.idle": "2023-08-24T15:56:36.571139Z",
     "shell.execute_reply": "2023-08-24T15:56:36.570279Z"
    },
    "papermill": {
     "duration": 0.068558,
     "end_time": "2023-08-24T15:56:36.573095",
     "exception": false,
     "start_time": "2023-08-24T15:56:36.504537",
     "status": "completed"
    },
    "tags": []
   },
   "outputs": [],
   "source": [
    "# yasmin\n",
    "# asha\n",
    "# sharma\n",
    "# anusha\n",
    "\n",
    "\n"
   ]
  },
  {
   "cell_type": "code",
   "execution_count": 86,
   "id": "bdb15ba0",
   "metadata": {
    "execution": {
     "iopub.execute_input": "2023-08-24T15:56:36.690470Z",
     "iopub.status.busy": "2023-08-24T15:56:36.690141Z",
     "iopub.status.idle": "2023-08-24T15:56:36.696170Z",
     "shell.execute_reply": "2023-08-24T15:56:36.695291Z"
    },
    "papermill": {
     "duration": 0.067053,
     "end_time": "2023-08-24T15:56:36.698313",
     "exception": false,
     "start_time": "2023-08-24T15:56:36.631260",
     "status": "completed"
    },
    "tags": []
   },
   "outputs": [
    {
     "data": {
      "text/plain": [
       "'\\nyasmin\\nasha\\nanusha\\nsharma\\n\\n'"
      ]
     },
     "execution_count": 86,
     "metadata": {},
     "output_type": "execute_result"
    }
   ],
   "source": [
    "\"\"\"\n",
    "yasmin\n",
    "asha\n",
    "anusha\n",
    "sharma\n",
    "\n",
    "\"\"\""
   ]
  },
  {
   "cell_type": "code",
   "execution_count": 87,
   "id": "bb290ba8",
   "metadata": {
    "execution": {
     "iopub.execute_input": "2023-08-24T15:56:36.814998Z",
     "iopub.status.busy": "2023-08-24T15:56:36.814709Z",
     "iopub.status.idle": "2023-08-24T15:56:36.819500Z",
     "shell.execute_reply": "2023-08-24T15:56:36.818580Z"
    },
    "papermill": {
     "duration": 0.06717,
     "end_time": "2023-08-24T15:56:36.822334",
     "exception": false,
     "start_time": "2023-08-24T15:56:36.755164",
     "status": "completed"
    },
    "tags": []
   },
   "outputs": [
    {
     "name": "stdout",
     "output_type": "stream",
     "text": [
      "69\n",
      "69\n"
     ]
    }
   ],
   "source": [
    "print(str(6) + \"9\")\n",
    "print(\"6\" + \"9\")"
   ]
  },
  {
   "cell_type": "code",
   "execution_count": 88,
   "id": "b18987cd",
   "metadata": {
    "execution": {
     "iopub.execute_input": "2023-08-24T15:56:36.943704Z",
     "iopub.status.busy": "2023-08-24T15:56:36.942833Z",
     "iopub.status.idle": "2023-08-24T15:56:36.949744Z",
     "shell.execute_reply": "2023-08-24T15:56:36.948251Z"
    },
    "papermill": {
     "duration": 0.070141,
     "end_time": "2023-08-24T15:56:36.951870",
     "exception": false,
     "start_time": "2023-08-24T15:56:36.881729",
     "status": "completed"
    },
    "tags": []
   },
   "outputs": [
    {
     "name": "stdout",
     "output_type": "stream",
     "text": [
      "16\n",
      "90\n"
     ]
    }
   ],
   "source": [
    "ans = 9 \n",
    "\n",
    "def add (a,b) :\n",
    "    global ans\n",
    "    ans = a + b  \n",
    "    print(ans)\n",
    "    \n",
    "add(7,9) \n",
    "ans = 90 \n",
    "print(ans)\n",
    "    \n"
   ]
  },
  {
   "cell_type": "code",
   "execution_count": 89,
   "id": "faac1415",
   "metadata": {
    "execution": {
     "iopub.execute_input": "2023-08-24T15:56:37.117450Z",
     "iopub.status.busy": "2023-08-24T15:56:37.116478Z",
     "iopub.status.idle": "2023-08-24T15:56:37.122896Z",
     "shell.execute_reply": "2023-08-24T15:56:37.121593Z"
    },
    "papermill": {
     "duration": 0.073945,
     "end_time": "2023-08-24T15:56:37.125018",
     "exception": false,
     "start_time": "2023-08-24T15:56:37.051073",
     "status": "completed"
    },
    "tags": []
   },
   "outputs": [
    {
     "name": "stdout",
     "output_type": "stream",
     "text": [
      "Python is fantastic\n"
     ]
    }
   ],
   "source": [
    "def myfunc():\n",
    "  global x\n",
    "  x = \"fantastic\"\n",
    "\n",
    "myfunc()\n",
    "\n",
    "print(\"Python is \" + x)"
   ]
  },
  {
   "cell_type": "code",
   "execution_count": 90,
   "id": "e75e32c2",
   "metadata": {
    "execution": {
     "iopub.execute_input": "2023-08-24T15:56:37.252057Z",
     "iopub.status.busy": "2023-08-24T15:56:37.251414Z",
     "iopub.status.idle": "2023-08-24T15:56:37.257142Z",
     "shell.execute_reply": "2023-08-24T15:56:37.256276Z"
    },
    "papermill": {
     "duration": 0.070973,
     "end_time": "2023-08-24T15:56:37.259605",
     "exception": false,
     "start_time": "2023-08-24T15:56:37.188632",
     "status": "completed"
    },
    "tags": []
   },
   "outputs": [
    {
     "name": "stdout",
     "output_type": "stream",
     "text": [
      "Python is yasmin\n"
     ]
    }
   ],
   "source": [
    "x = \"awesome\"\n",
    "\n",
    "def myfunc():\n",
    "#   global x\n",
    "  x = \"fantastic\"\n",
    "    \n",
    "x = \"yasmin\"\n",
    "\n",
    "myfunc()\n",
    "\n",
    "print(\"Python is \" + x)"
   ]
  },
  {
   "cell_type": "code",
   "execution_count": 91,
   "id": "9c23bb3b",
   "metadata": {
    "execution": {
     "iopub.execute_input": "2023-08-24T15:56:37.379433Z",
     "iopub.status.busy": "2023-08-24T15:56:37.377834Z",
     "iopub.status.idle": "2023-08-24T15:56:37.382558Z",
     "shell.execute_reply": "2023-08-24T15:56:37.381688Z"
    },
    "papermill": {
     "duration": 0.066372,
     "end_time": "2023-08-24T15:56:37.384685",
     "exception": false,
     "start_time": "2023-08-24T15:56:37.318313",
     "status": "completed"
    },
    "tags": []
   },
   "outputs": [],
   "source": [
    "# a = 5 + 2j\n",
    "# real(a)"
   ]
  },
  {
   "cell_type": "code",
   "execution_count": 92,
   "id": "6ee3709e",
   "metadata": {
    "execution": {
     "iopub.execute_input": "2023-08-24T15:56:37.501975Z",
     "iopub.status.busy": "2023-08-24T15:56:37.501315Z",
     "iopub.status.idle": "2023-08-24T15:56:37.505304Z",
     "shell.execute_reply": "2023-08-24T15:56:37.504461Z"
    },
    "papermill": {
     "duration": 0.064986,
     "end_time": "2023-08-24T15:56:37.507344",
     "exception": false,
     "start_time": "2023-08-24T15:56:37.442358",
     "status": "completed"
    },
    "tags": []
   },
   "outputs": [],
   "source": [
    "# a = 5 + 2j\n",
    "# x = complex(a)\n",
    "# real(x)"
   ]
  },
  {
   "cell_type": "code",
   "execution_count": 93,
   "id": "99d539ab",
   "metadata": {
    "execution": {
     "iopub.execute_input": "2023-08-24T15:56:37.625966Z",
     "iopub.status.busy": "2023-08-24T15:56:37.625300Z",
     "iopub.status.idle": "2023-08-24T15:56:37.630470Z",
     "shell.execute_reply": "2023-08-24T15:56:37.629462Z"
    },
    "papermill": {
     "duration": 0.068322,
     "end_time": "2023-08-24T15:56:37.633336",
     "exception": false,
     "start_time": "2023-08-24T15:56:37.565014",
     "status": "completed"
    },
    "tags": []
   },
   "outputs": [
    {
     "name": "stdout",
     "output_type": "stream",
     "text": [
      "3500000000000000.0\n"
     ]
    }
   ],
   "source": [
    "x = 35e14\n",
    "print(x)"
   ]
  },
  {
   "cell_type": "code",
   "execution_count": 94,
   "id": "f2786a51",
   "metadata": {
    "execution": {
     "iopub.execute_input": "2023-08-24T15:56:37.758190Z",
     "iopub.status.busy": "2023-08-24T15:56:37.757561Z",
     "iopub.status.idle": "2023-08-24T15:56:37.762927Z",
     "shell.execute_reply": "2023-08-24T15:56:37.762000Z"
    },
    "papermill": {
     "duration": 0.070502,
     "end_time": "2023-08-24T15:56:37.765803",
     "exception": false,
     "start_time": "2023-08-24T15:56:37.695301",
     "status": "completed"
    },
    "tags": []
   },
   "outputs": [
    {
     "name": "stdout",
     "output_type": "stream",
     "text": [
      "Lorem ipsum dolor sit amet,\n",
      "consectetur adipiscing elit,\n",
      "sed do eiusmod tempor incididunt\n",
      "ut labore et dolore magna aliqua.\n"
     ]
    }
   ],
   "source": [
    "a = \"\"\"Lorem ipsum dolor sit amet,\n",
    "consectetur adipiscing elit,\n",
    "sed do eiusmod tempor incididunt\n",
    "ut labore et dolore magna aliqua.\"\"\"\n",
    "print(a)"
   ]
  },
  {
   "cell_type": "code",
   "execution_count": 95,
   "id": "5caf49c1",
   "metadata": {
    "execution": {
     "iopub.execute_input": "2023-08-24T15:56:37.886678Z",
     "iopub.status.busy": "2023-08-24T15:56:37.885705Z",
     "iopub.status.idle": "2023-08-24T15:56:37.891610Z",
     "shell.execute_reply": "2023-08-24T15:56:37.890282Z"
    },
    "papermill": {
     "duration": 0.067166,
     "end_time": "2023-08-24T15:56:37.893665",
     "exception": false,
     "start_time": "2023-08-24T15:56:37.826499",
     "status": "completed"
    },
    "tags": []
   },
   "outputs": [
    {
     "name": "stdout",
     "output_type": "stream",
     "text": [
      "Lorem ipsum dolor sit amet,consectetur adipiscing elit,sed do eiusmod tempor incididuntut labore et dolore magna aliqua.\n"
     ]
    }
   ],
   "source": [
    "a = \"Lorem ipsum dolor sit amet,consectetur adipiscing elit,sed do eiusmod tempor incididuntut labore et dolore magna aliqua.\"\n",
    "print(a)"
   ]
  },
  {
   "cell_type": "code",
   "execution_count": 96,
   "id": "ebfa6348",
   "metadata": {
    "execution": {
     "iopub.execute_input": "2023-08-24T15:56:38.015977Z",
     "iopub.status.busy": "2023-08-24T15:56:38.014436Z",
     "iopub.status.idle": "2023-08-24T15:56:38.020574Z",
     "shell.execute_reply": "2023-08-24T15:56:38.019210Z"
    },
    "papermill": {
     "duration": 0.06949,
     "end_time": "2023-08-24T15:56:38.022750",
     "exception": false,
     "start_time": "2023-08-24T15:56:37.953260",
     "status": "completed"
    },
    "tags": []
   },
   "outputs": [
    {
     "name": "stdout",
     "output_type": "stream",
     "text": [
      "13\n"
     ]
    }
   ],
   "source": [
    "a = \"Hello, World!\"\n",
    "print(len(a))"
   ]
  },
  {
   "cell_type": "code",
   "execution_count": 97,
   "id": "741948f3",
   "metadata": {
    "execution": {
     "iopub.execute_input": "2023-08-24T15:56:38.142352Z",
     "iopub.status.busy": "2023-08-24T15:56:38.142044Z",
     "iopub.status.idle": "2023-08-24T15:56:38.147872Z",
     "shell.execute_reply": "2023-08-24T15:56:38.147026Z"
    },
    "papermill": {
     "duration": 0.067018,
     "end_time": "2023-08-24T15:56:38.150087",
     "exception": false,
     "start_time": "2023-08-24T15:56:38.083069",
     "status": "completed"
    },
    "tags": []
   },
   "outputs": [
    {
     "data": {
      "text/plain": [
       "'llo'"
      ]
     },
     "execution_count": 97,
     "metadata": {},
     "output_type": "execute_result"
    }
   ],
   "source": [
    "a = \"Hello, World!\"\n",
    "a[2:5]\n"
   ]
  },
  {
   "cell_type": "code",
   "execution_count": 98,
   "id": "a96086f6",
   "metadata": {
    "execution": {
     "iopub.execute_input": "2023-08-24T15:56:38.278924Z",
     "iopub.status.busy": "2023-08-24T15:56:38.278563Z",
     "iopub.status.idle": "2023-08-24T15:56:38.284877Z",
     "shell.execute_reply": "2023-08-24T15:56:38.284018Z"
    },
    "papermill": {
     "duration": 0.072591,
     "end_time": "2023-08-24T15:56:38.286901",
     "exception": false,
     "start_time": "2023-08-24T15:56:38.214310",
     "status": "completed"
    },
    "tags": []
   },
   "outputs": [
    {
     "data": {
      "text/plain": [
       "[3, 4, 5]"
      ]
     },
     "execution_count": 98,
     "metadata": {},
     "output_type": "execute_result"
    }
   ],
   "source": [
    "a = [1,2,3,4,5]\n",
    "a[2:5]"
   ]
  },
  {
   "cell_type": "code",
   "execution_count": 99,
   "id": "d3091e38",
   "metadata": {
    "execution": {
     "iopub.execute_input": "2023-08-24T15:56:38.407667Z",
     "iopub.status.busy": "2023-08-24T15:56:38.407007Z",
     "iopub.status.idle": "2023-08-24T15:56:38.413062Z",
     "shell.execute_reply": "2023-08-24T15:56:38.411654Z"
    },
    "papermill": {
     "duration": 0.068413,
     "end_time": "2023-08-24T15:56:38.415150",
     "exception": false,
     "start_time": "2023-08-24T15:56:38.346737",
     "status": "completed"
    },
    "tags": []
   },
   "outputs": [
    {
     "name": "stdout",
     "output_type": "stream",
     "text": [
      "Hello\n"
     ]
    }
   ],
   "source": [
    "b = \"Hello, World!\"\n",
    "print(b[:5])"
   ]
  },
  {
   "cell_type": "code",
   "execution_count": 100,
   "id": "6bcd5601",
   "metadata": {
    "execution": {
     "iopub.execute_input": "2023-08-24T15:56:38.537204Z",
     "iopub.status.busy": "2023-08-24T15:56:38.536267Z",
     "iopub.status.idle": "2023-08-24T15:56:38.541800Z",
     "shell.execute_reply": "2023-08-24T15:56:38.540829Z"
    },
    "papermill": {
     "duration": 0.069348,
     "end_time": "2023-08-24T15:56:38.543970",
     "exception": false,
     "start_time": "2023-08-24T15:56:38.474622",
     "status": "completed"
    },
    "tags": []
   },
   "outputs": [
    {
     "name": "stdout",
     "output_type": "stream",
     "text": [
      "llo, World!\n"
     ]
    }
   ],
   "source": [
    "b = \"Hello, World!\"\n",
    "print(b[2:])"
   ]
  },
  {
   "cell_type": "code",
   "execution_count": 101,
   "id": "c4f4654c",
   "metadata": {
    "execution": {
     "iopub.execute_input": "2023-08-24T15:56:38.668743Z",
     "iopub.status.busy": "2023-08-24T15:56:38.668411Z",
     "iopub.status.idle": "2023-08-24T15:56:38.673737Z",
     "shell.execute_reply": "2023-08-24T15:56:38.672735Z"
    },
    "papermill": {
     "duration": 0.071125,
     "end_time": "2023-08-24T15:56:38.676320",
     "exception": false,
     "start_time": "2023-08-24T15:56:38.605195",
     "status": "completed"
    },
    "tags": []
   },
   "outputs": [
    {
     "name": "stdout",
     "output_type": "stream",
     "text": [
      "orl\n"
     ]
    }
   ],
   "source": [
    "b = \"Hello, World!\"\n",
    "print(b[-5:-2])"
   ]
  },
  {
   "cell_type": "code",
   "execution_count": 102,
   "id": "95d48d46",
   "metadata": {
    "execution": {
     "iopub.execute_input": "2023-08-24T15:56:38.803219Z",
     "iopub.status.busy": "2023-08-24T15:56:38.802556Z",
     "iopub.status.idle": "2023-08-24T15:56:38.807797Z",
     "shell.execute_reply": "2023-08-24T15:56:38.806741Z"
    },
    "papermill": {
     "duration": 0.071266,
     "end_time": "2023-08-24T15:56:38.810755",
     "exception": false,
     "start_time": "2023-08-24T15:56:38.739489",
     "status": "completed"
    },
    "tags": []
   },
   "outputs": [
    {
     "name": "stdout",
     "output_type": "stream",
     "text": [
      "HELLO, WORLD!\n"
     ]
    }
   ],
   "source": [
    "a = \"Hello, World!\"\n",
    "print(a.upper())"
   ]
  },
  {
   "cell_type": "code",
   "execution_count": 103,
   "id": "c251fff9",
   "metadata": {
    "execution": {
     "iopub.execute_input": "2023-08-24T15:56:38.934425Z",
     "iopub.status.busy": "2023-08-24T15:56:38.932646Z",
     "iopub.status.idle": "2023-08-24T15:56:38.939075Z",
     "shell.execute_reply": "2023-08-24T15:56:38.937730Z"
    },
    "papermill": {
     "duration": 0.070062,
     "end_time": "2023-08-24T15:56:38.941159",
     "exception": false,
     "start_time": "2023-08-24T15:56:38.871097",
     "status": "completed"
    },
    "tags": []
   },
   "outputs": [
    {
     "name": "stdout",
     "output_type": "stream",
     "text": [
      "hello, world!\n"
     ]
    }
   ],
   "source": [
    "a = \"Hello, World!\"\n",
    "print(a.lower())"
   ]
  },
  {
   "cell_type": "code",
   "execution_count": 104,
   "id": "6c0c6097",
   "metadata": {
    "execution": {
     "iopub.execute_input": "2023-08-24T15:56:39.064714Z",
     "iopub.status.busy": "2023-08-24T15:56:39.064357Z",
     "iopub.status.idle": "2023-08-24T15:56:39.069739Z",
     "shell.execute_reply": "2023-08-24T15:56:39.068788Z"
    },
    "papermill": {
     "duration": 0.070214,
     "end_time": "2023-08-24T15:56:39.072344",
     "exception": false,
     "start_time": "2023-08-24T15:56:39.002130",
     "status": "completed"
    },
    "tags": []
   },
   "outputs": [
    {
     "name": "stdout",
     "output_type": "stream",
     "text": [
      "Hello, World!\n"
     ]
    }
   ],
   "source": [
    "a = \" Hello, World! \"\n",
    "print(a.strip()) # returns \"Hello, World!\""
   ]
  },
  {
   "cell_type": "code",
   "execution_count": 105,
   "id": "64af1751",
   "metadata": {
    "execution": {
     "iopub.execute_input": "2023-08-24T15:56:39.199356Z",
     "iopub.status.busy": "2023-08-24T15:56:39.198958Z",
     "iopub.status.idle": "2023-08-24T15:56:39.203938Z",
     "shell.execute_reply": "2023-08-24T15:56:39.203046Z"
    },
    "papermill": {
     "duration": 0.071814,
     "end_time": "2023-08-24T15:56:39.206573",
     "exception": false,
     "start_time": "2023-08-24T15:56:39.134759",
     "status": "completed"
    },
    "tags": []
   },
   "outputs": [
    {
     "name": "stdout",
     "output_type": "stream",
     "text": [
      "Jllo, World!\n"
     ]
    }
   ],
   "source": [
    "a = \"Hello, World!\"\n",
    "print(a.replace(\"He\", \"J\"))"
   ]
  },
  {
   "cell_type": "code",
   "execution_count": 106,
   "id": "2ea18e01",
   "metadata": {
    "execution": {
     "iopub.execute_input": "2023-08-24T15:56:39.330706Z",
     "iopub.status.busy": "2023-08-24T15:56:39.328978Z",
     "iopub.status.idle": "2023-08-24T15:56:39.335139Z",
     "shell.execute_reply": "2023-08-24T15:56:39.334244Z"
    },
    "papermill": {
     "duration": 0.068704,
     "end_time": "2023-08-24T15:56:39.337314",
     "exception": false,
     "start_time": "2023-08-24T15:56:39.268610",
     "status": "completed"
    },
    "tags": []
   },
   "outputs": [
    {
     "name": "stdout",
     "output_type": "stream",
     "text": [
      "['Hello,', 'World!', 'prasad!', 'sharma']\n"
     ]
    }
   ],
   "source": [
    "a = \"Hello, World! prasad! sharma\"\n",
    "print(a.split())"
   ]
  },
  {
   "cell_type": "code",
   "execution_count": 107,
   "id": "32fbc28f",
   "metadata": {
    "execution": {
     "iopub.execute_input": "2023-08-24T15:56:39.463703Z",
     "iopub.status.busy": "2023-08-24T15:56:39.463350Z",
     "iopub.status.idle": "2023-08-24T15:56:39.469509Z",
     "shell.execute_reply": "2023-08-24T15:56:39.468597Z"
    },
    "papermill": {
     "duration": 0.071304,
     "end_time": "2023-08-24T15:56:39.471622",
     "exception": false,
     "start_time": "2023-08-24T15:56:39.400318",
     "status": "completed"
    },
    "tags": []
   },
   "outputs": [
    {
     "data": {
      "text/plain": [
       "'anusha superstudent'"
      ]
     },
     "execution_count": 107,
     "metadata": {},
     "output_type": "execute_result"
    }
   ],
   "source": [
    "a = \"anusha\" +\" \"+ \"superstudent\"\n",
    "a"
   ]
  },
  {
   "cell_type": "code",
   "execution_count": 108,
   "id": "1a32c315",
   "metadata": {
    "execution": {
     "iopub.execute_input": "2023-08-24T15:56:39.596815Z",
     "iopub.status.busy": "2023-08-24T15:56:39.595006Z",
     "iopub.status.idle": "2023-08-24T15:56:39.602372Z",
     "shell.execute_reply": "2023-08-24T15:56:39.601302Z"
    },
    "papermill": {
     "duration": 0.071759,
     "end_time": "2023-08-24T15:56:39.604522",
     "exception": false,
     "start_time": "2023-08-24T15:56:39.532763",
     "status": "completed"
    },
    "tags": []
   },
   "outputs": [
    {
     "data": {
      "text/plain": [
       "15"
      ]
     },
     "execution_count": 108,
     "metadata": {},
     "output_type": "execute_result"
    }
   ],
   "source": [
    "b = 6 + 9\n",
    "b"
   ]
  },
  {
   "cell_type": "code",
   "execution_count": 109,
   "id": "1edea0d7",
   "metadata": {
    "execution": {
     "iopub.execute_input": "2023-08-24T15:56:39.731059Z",
     "iopub.status.busy": "2023-08-24T15:56:39.730697Z",
     "iopub.status.idle": "2023-08-24T15:56:39.736291Z",
     "shell.execute_reply": "2023-08-24T15:56:39.735399Z"
    },
    "papermill": {
     "duration": 0.070316,
     "end_time": "2023-08-24T15:56:39.738622",
     "exception": false,
     "start_time": "2023-08-24T15:56:39.668306",
     "status": "completed"
    },
    "tags": []
   },
   "outputs": [
    {
     "name": "stdout",
     "output_type": "stream",
     "text": [
      "I want 3 pieces of item 567 for 49.95 dollars.\n"
     ]
    }
   ],
   "source": [
    "quantity = 3\n",
    "itemno = 567\n",
    "price = 49.95\n",
    "myorder = \"I want {} pieces of item {} for {} dollars.\"\n",
    "print(myorder.format(quantity, itemno, price))"
   ]
  },
  {
   "cell_type": "code",
   "execution_count": 110,
   "id": "0ac03b4f",
   "metadata": {
    "execution": {
     "iopub.execute_input": "2023-08-24T15:56:39.859212Z",
     "iopub.status.busy": "2023-08-24T15:56:39.858258Z",
     "iopub.status.idle": "2023-08-24T15:56:39.864639Z",
     "shell.execute_reply": "2023-08-24T15:56:39.863651Z"
    },
    "papermill": {
     "duration": 0.069469,
     "end_time": "2023-08-24T15:56:39.866777",
     "exception": false,
     "start_time": "2023-08-24T15:56:39.797308",
     "status": "completed"
    },
    "tags": []
   },
   "outputs": [
    {
     "name": "stdout",
     "output_type": "stream",
     "text": [
      "I want 3 pieces of item 567 for 49.95 dollars\n"
     ]
    }
   ],
   "source": [
    "quantity = 3\n",
    "itemno = 567\n",
    "price = 49.95\n",
    "ans = \"I want {} pieces of item {} for {} dollars\"\n",
    "print(ans.format(quantity, itemno,price))"
   ]
  },
  {
   "cell_type": "code",
   "execution_count": 111,
   "id": "ca06ef85",
   "metadata": {
    "execution": {
     "iopub.execute_input": "2023-08-24T15:56:39.991673Z",
     "iopub.status.busy": "2023-08-24T15:56:39.990638Z",
     "iopub.status.idle": "2023-08-24T15:56:39.996902Z",
     "shell.execute_reply": "2023-08-24T15:56:39.995871Z"
    },
    "papermill": {
     "duration": 0.070961,
     "end_time": "2023-08-24T15:56:39.998957",
     "exception": false,
     "start_time": "2023-08-24T15:56:39.927996",
     "status": "completed"
    },
    "tags": []
   },
   "outputs": [
    {
     "name": "stdout",
     "output_type": "stream",
     "text": [
      "i 4\\5\" aaa\n"
     ]
    }
   ],
   "source": [
    "print(\"i 4\\\\5\\\" aaa\")"
   ]
  },
  {
   "cell_type": "code",
   "execution_count": 112,
   "id": "dd470dfb",
   "metadata": {
    "execution": {
     "iopub.execute_input": "2023-08-24T15:56:40.120731Z",
     "iopub.status.busy": "2023-08-24T15:56:40.120431Z",
     "iopub.status.idle": "2023-08-24T15:56:40.126287Z",
     "shell.execute_reply": "2023-08-24T15:56:40.125448Z"
    },
    "papermill": {
     "duration": 0.069515,
     "end_time": "2023-08-24T15:56:40.128211",
     "exception": false,
     "start_time": "2023-08-24T15:56:40.058696",
     "status": "completed"
    },
    "tags": []
   },
   "outputs": [
    {
     "data": {
      "text/plain": [
       "'YASMINKHAN'"
      ]
     },
     "execution_count": 112,
     "metadata": {},
     "output_type": "execute_result"
    }
   ],
   "source": [
    "a = \"YasminKhan\"\n",
    "a.upper()"
   ]
  },
  {
   "cell_type": "code",
   "execution_count": 113,
   "id": "52aed507",
   "metadata": {
    "execution": {
     "iopub.execute_input": "2023-08-24T15:56:40.255104Z",
     "iopub.status.busy": "2023-08-24T15:56:40.253592Z",
     "iopub.status.idle": "2023-08-24T15:56:40.260157Z",
     "shell.execute_reply": "2023-08-24T15:56:40.259174Z"
    },
    "papermill": {
     "duration": 0.071428,
     "end_time": "2023-08-24T15:56:40.262267",
     "exception": false,
     "start_time": "2023-08-24T15:56:40.190839",
     "status": "completed"
    },
    "tags": []
   },
   "outputs": [
    {
     "data": {
      "text/plain": [
       "'Yasminkhan'"
      ]
     },
     "execution_count": 113,
     "metadata": {},
     "output_type": "execute_result"
    }
   ],
   "source": [
    "a = \"YasminKHan\"\n",
    "a.capitalize()"
   ]
  },
  {
   "cell_type": "code",
   "execution_count": 114,
   "id": "418a8172",
   "metadata": {
    "execution": {
     "iopub.execute_input": "2023-08-24T15:56:40.384688Z",
     "iopub.status.busy": "2023-08-24T15:56:40.383751Z",
     "iopub.status.idle": "2023-08-24T15:56:40.389500Z",
     "shell.execute_reply": "2023-08-24T15:56:40.388268Z"
    },
    "papermill": {
     "duration": 0.069348,
     "end_time": "2023-08-24T15:56:40.391908",
     "exception": false,
     "start_time": "2023-08-24T15:56:40.322560",
     "status": "completed"
    },
    "tags": []
   },
   "outputs": [],
   "source": [
    "a = \"YasminKHan\"\n",
    "# a.center()"
   ]
  },
  {
   "cell_type": "code",
   "execution_count": 115,
   "id": "7d1325dc",
   "metadata": {
    "execution": {
     "iopub.execute_input": "2023-08-24T15:56:40.515398Z",
     "iopub.status.busy": "2023-08-24T15:56:40.514503Z",
     "iopub.status.idle": "2023-08-24T15:56:40.520767Z",
     "shell.execute_reply": "2023-08-24T15:56:40.519755Z"
    },
    "papermill": {
     "duration": 0.068016,
     "end_time": "2023-08-24T15:56:40.522821",
     "exception": false,
     "start_time": "2023-08-24T15:56:40.454805",
     "status": "completed"
    },
    "tags": []
   },
   "outputs": [
    {
     "data": {
      "text/plain": [
       "2"
      ]
     },
     "execution_count": 115,
     "metadata": {},
     "output_type": "execute_result"
    }
   ],
   "source": [
    "a = \"YasminKHan\"\n",
    "a.count(\"a\")"
   ]
  },
  {
   "cell_type": "code",
   "execution_count": 116,
   "id": "b9731f1c",
   "metadata": {
    "execution": {
     "iopub.execute_input": "2023-08-24T15:56:40.642409Z",
     "iopub.status.busy": "2023-08-24T15:56:40.642082Z",
     "iopub.status.idle": "2023-08-24T15:56:40.647918Z",
     "shell.execute_reply": "2023-08-24T15:56:40.647013Z"
    },
    "papermill": {
     "duration": 0.067567,
     "end_time": "2023-08-24T15:56:40.649850",
     "exception": false,
     "start_time": "2023-08-24T15:56:40.582283",
     "status": "completed"
    },
    "tags": []
   },
   "outputs": [
    {
     "data": {
      "text/plain": [
       "True"
      ]
     },
     "execution_count": 116,
     "metadata": {},
     "output_type": "execute_result"
    }
   ],
   "source": [
    "a = \"YasminKhan\"\n",
    "a.endswith(\"Khan\")"
   ]
  },
  {
   "cell_type": "code",
   "execution_count": 117,
   "id": "82ab8172",
   "metadata": {
    "execution": {
     "iopub.execute_input": "2023-08-24T15:56:40.770867Z",
     "iopub.status.busy": "2023-08-24T15:56:40.770559Z",
     "iopub.status.idle": "2023-08-24T15:56:40.776382Z",
     "shell.execute_reply": "2023-08-24T15:56:40.775511Z"
    },
    "papermill": {
     "duration": 0.068381,
     "end_time": "2023-08-24T15:56:40.778467",
     "exception": false,
     "start_time": "2023-08-24T15:56:40.710086",
     "status": "completed"
    },
    "tags": []
   },
   "outputs": [
    {
     "data": {
      "text/plain": [
       "5"
      ]
     },
     "execution_count": 117,
     "metadata": {},
     "output_type": "execute_result"
    }
   ],
   "source": [
    "a = \"YasminKhan\"\n",
    "a.index(\"n\")"
   ]
  },
  {
   "cell_type": "code",
   "execution_count": 118,
   "id": "acbd1006",
   "metadata": {
    "execution": {
     "iopub.execute_input": "2023-08-24T15:56:40.901586Z",
     "iopub.status.busy": "2023-08-24T15:56:40.900720Z",
     "iopub.status.idle": "2023-08-24T15:56:40.906894Z",
     "shell.execute_reply": "2023-08-24T15:56:40.905842Z"
    },
    "papermill": {
     "duration": 0.070715,
     "end_time": "2023-08-24T15:56:40.909051",
     "exception": false,
     "start_time": "2023-08-24T15:56:40.838336",
     "status": "completed"
    },
    "tags": []
   },
   "outputs": [
    {
     "name": "stdout",
     "output_type": "stream",
     "text": [
      "no\n",
      "no\n",
      "no\n",
      "yes\n",
      "no\n"
     ]
    }
   ],
   "source": [
    "ans = \"a12 3\"\n",
    "for i in ans :\n",
    "    if i.isspace():\n",
    "        print(\"yes\")\n",
    "    else :\n",
    "        print(\"no\")"
   ]
  },
  {
   "cell_type": "code",
   "execution_count": 119,
   "id": "1f66b533",
   "metadata": {
    "execution": {
     "iopub.execute_input": "2023-08-24T15:56:41.035201Z",
     "iopub.status.busy": "2023-08-24T15:56:41.034414Z",
     "iopub.status.idle": "2023-08-24T15:56:41.041058Z",
     "shell.execute_reply": "2023-08-24T15:56:41.039954Z"
    },
    "papermill": {
     "duration": 0.071896,
     "end_time": "2023-08-24T15:56:41.043161",
     "exception": false,
     "start_time": "2023-08-24T15:56:40.971265",
     "status": "completed"
    },
    "tags": []
   },
   "outputs": [
    {
     "data": {
      "text/plain": [
       "['Thank you for the music', 'Welcome to the jungle']"
      ]
     },
     "execution_count": 119,
     "metadata": {},
     "output_type": "execute_result"
    }
   ],
   "source": [
    "txt = \"Thank you for the music\\nWelcome to the jungle\"\n",
    "txt.splitlines()"
   ]
  },
  {
   "cell_type": "code",
   "execution_count": 120,
   "id": "ef72020f",
   "metadata": {
    "execution": {
     "iopub.execute_input": "2023-08-24T15:56:41.171293Z",
     "iopub.status.busy": "2023-08-24T15:56:41.170383Z",
     "iopub.status.idle": "2023-08-24T15:56:41.177365Z",
     "shell.execute_reply": "2023-08-24T15:56:41.176293Z"
    },
    "papermill": {
     "duration": 0.072612,
     "end_time": "2023-08-24T15:56:41.179467",
     "exception": false,
     "start_time": "2023-08-24T15:56:41.106855",
     "status": "completed"
    },
    "tags": []
   },
   "outputs": [
    {
     "data": {
      "text/plain": [
       "'YASMINkhan'"
      ]
     },
     "execution_count": 120,
     "metadata": {},
     "output_type": "execute_result"
    }
   ],
   "source": [
    "a = \"yasminKHAN\"\n",
    "a.swapcase()"
   ]
  },
  {
   "cell_type": "code",
   "execution_count": 121,
   "id": "9287eb5a",
   "metadata": {
    "execution": {
     "iopub.execute_input": "2023-08-24T15:56:41.313904Z",
     "iopub.status.busy": "2023-08-24T15:56:41.312935Z",
     "iopub.status.idle": "2023-08-24T15:56:41.318668Z",
     "shell.execute_reply": "2023-08-24T15:56:41.317732Z"
    },
    "papermill": {
     "duration": 0.073707,
     "end_time": "2023-08-24T15:56:41.321202",
     "exception": false,
     "start_time": "2023-08-24T15:56:41.247495",
     "status": "completed"
    },
    "tags": []
   },
   "outputs": [
    {
     "name": "stdout",
     "output_type": "stream",
     "text": [
      "Welcome To My World\n"
     ]
    }
   ],
   "source": [
    "txt = \"Welcome to my world\"\n",
    "\n",
    "x = txt.title()\n",
    "\n",
    "print(x)"
   ]
  },
  {
   "cell_type": "code",
   "execution_count": 122,
   "id": "3be54f02",
   "metadata": {
    "execution": {
     "iopub.execute_input": "2023-08-24T15:56:41.445224Z",
     "iopub.status.busy": "2023-08-24T15:56:41.444424Z",
     "iopub.status.idle": "2023-08-24T15:56:41.450468Z",
     "shell.execute_reply": "2023-08-24T15:56:41.449222Z"
    },
    "papermill": {
     "duration": 0.069614,
     "end_time": "2023-08-24T15:56:41.452526",
     "exception": false,
     "start_time": "2023-08-24T15:56:41.382912",
     "status": "completed"
    },
    "tags": []
   },
   "outputs": [
    {
     "name": "stdout",
     "output_type": "stream",
     "text": [
      "00001\n"
     ]
    }
   ],
   "source": [
    "txt = \"1\"\n",
    "\n",
    "x = txt.zfill(5)\n",
    "\n",
    "print(x)"
   ]
  },
  {
   "cell_type": "code",
   "execution_count": 123,
   "id": "a6c1e46f",
   "metadata": {
    "execution": {
     "iopub.execute_input": "2023-08-24T15:56:41.575669Z",
     "iopub.status.busy": "2023-08-24T15:56:41.574783Z",
     "iopub.status.idle": "2023-08-24T15:56:41.580876Z",
     "shell.execute_reply": "2023-08-24T15:56:41.579561Z"
    },
    "papermill": {
     "duration": 0.070113,
     "end_time": "2023-08-24T15:56:41.582917",
     "exception": false,
     "start_time": "2023-08-24T15:56:41.512804",
     "status": "completed"
    },
    "tags": []
   },
   "outputs": [
    {
     "name": "stdout",
     "output_type": "stream",
     "text": [
      "7\n"
     ]
    }
   ],
   "source": [
    "txt = \"Hello, welcome to my world.\"\n",
    "\n",
    "x = txt.index(\"welcom\")\n",
    "\n",
    "print(x)"
   ]
  },
  {
   "cell_type": "code",
   "execution_count": 124,
   "id": "be80819a",
   "metadata": {
    "execution": {
     "iopub.execute_input": "2023-08-24T15:56:41.705309Z",
     "iopub.status.busy": "2023-08-24T15:56:41.704988Z",
     "iopub.status.idle": "2023-08-24T15:56:41.709221Z",
     "shell.execute_reply": "2023-08-24T15:56:41.708253Z"
    },
    "papermill": {
     "duration": 0.067887,
     "end_time": "2023-08-24T15:56:41.711230",
     "exception": false,
     "start_time": "2023-08-24T15:56:41.643343",
     "status": "completed"
    },
    "tags": []
   },
   "outputs": [],
   "source": [
    "import pandas as pd"
   ]
  },
  {
   "cell_type": "code",
   "execution_count": 125,
   "id": "37279d59",
   "metadata": {
    "execution": {
     "iopub.execute_input": "2023-08-24T15:56:41.834895Z",
     "iopub.status.busy": "2023-08-24T15:56:41.834596Z",
     "iopub.status.idle": "2023-08-24T15:56:41.840924Z",
     "shell.execute_reply": "2023-08-24T15:56:41.839903Z"
    },
    "papermill": {
     "duration": 0.071538,
     "end_time": "2023-08-24T15:56:41.842951",
     "exception": false,
     "start_time": "2023-08-24T15:56:41.771413",
     "status": "completed"
    },
    "tags": []
   },
   "outputs": [
    {
     "data": {
      "text/plain": [
       "'1**2**3**4**5'"
      ]
     },
     "execution_count": 125,
     "metadata": {},
     "output_type": "execute_result"
    }
   ],
   "source": [
    "a = (\"1\",\"2\",\"3\",\"4\",\"5\")\n",
    "ans = \"**\".join(a)\n",
    "ans"
   ]
  },
  {
   "cell_type": "code",
   "execution_count": 126,
   "id": "f5a58135",
   "metadata": {
    "execution": {
     "iopub.execute_input": "2023-08-24T15:56:41.969967Z",
     "iopub.status.busy": "2023-08-24T15:56:41.969123Z",
     "iopub.status.idle": "2023-08-24T15:56:41.974506Z",
     "shell.execute_reply": "2023-08-24T15:56:41.973641Z"
    },
    "papermill": {
     "duration": 0.070067,
     "end_time": "2023-08-24T15:56:41.976782",
     "exception": false,
     "start_time": "2023-08-24T15:56:41.906715",
     "status": "completed"
    },
    "tags": []
   },
   "outputs": [
    {
     "name": "stdout",
     "output_type": "stream",
     "text": [
      "True\n",
      "True\n"
     ]
    }
   ],
   "source": [
    "print(bool(\"a\"))\n",
    "print(bool(10))"
   ]
  },
  {
   "cell_type": "code",
   "execution_count": 127,
   "id": "b879471f",
   "metadata": {
    "execution": {
     "iopub.execute_input": "2023-08-24T15:56:42.100526Z",
     "iopub.status.busy": "2023-08-24T15:56:42.099773Z",
     "iopub.status.idle": "2023-08-24T15:56:42.106445Z",
     "shell.execute_reply": "2023-08-24T15:56:42.105423Z"
    },
    "papermill": {
     "duration": 0.071148,
     "end_time": "2023-08-24T15:56:42.108512",
     "exception": false,
     "start_time": "2023-08-24T15:56:42.037364",
     "status": "completed"
    },
    "tags": []
   },
   "outputs": [
    {
     "data": {
      "text/plain": [
       "25"
      ]
     },
     "execution_count": 127,
     "metadata": {},
     "output_type": "execute_result"
    }
   ],
   "source": [
    "5 ** 2"
   ]
  },
  {
   "cell_type": "code",
   "execution_count": 128,
   "id": "4be3f34c",
   "metadata": {
    "execution": {
     "iopub.execute_input": "2023-08-24T15:56:42.240912Z",
     "iopub.status.busy": "2023-08-24T15:56:42.240532Z",
     "iopub.status.idle": "2023-08-24T15:56:42.247041Z",
     "shell.execute_reply": "2023-08-24T15:56:42.246071Z"
    },
    "papermill": {
     "duration": 0.078438,
     "end_time": "2023-08-24T15:56:42.249382",
     "exception": false,
     "start_time": "2023-08-24T15:56:42.170944",
     "status": "completed"
    },
    "tags": []
   },
   "outputs": [
    {
     "data": {
      "text/plain": [
       "3"
      ]
     },
     "execution_count": 128,
     "metadata": {},
     "output_type": "execute_result"
    }
   ],
   "source": [
    "7 // 2"
   ]
  },
  {
   "cell_type": "code",
   "execution_count": 129,
   "id": "8bb21c8d",
   "metadata": {
    "execution": {
     "iopub.execute_input": "2023-08-24T15:56:42.378752Z",
     "iopub.status.busy": "2023-08-24T15:56:42.377884Z",
     "iopub.status.idle": "2023-08-24T15:56:42.384426Z",
     "shell.execute_reply": "2023-08-24T15:56:42.383493Z"
    },
    "papermill": {
     "duration": 0.071843,
     "end_time": "2023-08-24T15:56:42.386466",
     "exception": false,
     "start_time": "2023-08-24T15:56:42.314623",
     "status": "completed"
    },
    "tags": []
   },
   "outputs": [
    {
     "data": {
      "text/plain": [
       "'/kaggle/working'"
      ]
     },
     "execution_count": 129,
     "metadata": {},
     "output_type": "execute_result"
    }
   ],
   "source": [
    "pwd"
   ]
  },
  {
   "cell_type": "markdown",
   "id": "b28223f8",
   "metadata": {
    "execution": {
     "iopub.execute_input": "2023-08-19T18:06:32.653755Z",
     "iopub.status.busy": "2023-08-19T18:06:32.653333Z",
     "iopub.status.idle": "2023-08-19T18:06:32.857071Z",
     "shell.execute_reply": "2023-08-19T18:06:32.854898Z",
     "shell.execute_reply.started": "2023-08-19T18:06:32.653729Z"
    },
    "papermill": {
     "duration": 0.062198,
     "end_time": "2023-08-24T15:56:42.510504",
     "exception": false,
     "start_time": "2023-08-24T15:56:42.448306",
     "status": "completed"
    },
    "tags": []
   },
   "source": [
    "file = open(\"example.txt\", \"r\")\n",
    "content = file.read()\n",
    "print(content)\n",
    "file.close()"
   ]
  },
  {
   "cell_type": "code",
   "execution_count": 130,
   "id": "d5b1331b",
   "metadata": {
    "execution": {
     "iopub.execute_input": "2023-08-24T15:56:42.634912Z",
     "iopub.status.busy": "2023-08-24T15:56:42.634012Z",
     "iopub.status.idle": "2023-08-24T15:56:42.690188Z",
     "shell.execute_reply": "2023-08-24T15:56:42.689240Z"
    },
    "papermill": {
     "duration": 0.120373,
     "end_time": "2023-08-24T15:56:42.692845",
     "exception": false,
     "start_time": "2023-08-24T15:56:42.572472",
     "status": "completed"
    },
    "tags": []
   },
   "outputs": [
    {
     "data": {
      "text/html": [
       "<div>\n",
       "<style scoped>\n",
       "    .dataframe tbody tr th:only-of-type {\n",
       "        vertical-align: middle;\n",
       "    }\n",
       "\n",
       "    .dataframe tbody tr th {\n",
       "        vertical-align: top;\n",
       "    }\n",
       "\n",
       "    .dataframe thead th {\n",
       "        text-align: right;\n",
       "    }\n",
       "</style>\n",
       "<table border=\"1\" class=\"dataframe\">\n",
       "  <thead>\n",
       "    <tr style=\"text-align: right;\">\n",
       "      <th></th>\n",
       "      <th>No.</th>\n",
       "      <th>Company</th>\n",
       "      <th>Sector</th>\n",
       "      <th>Entry Valuation^^ ($B)</th>\n",
       "      <th>Valuation ($B)</th>\n",
       "      <th>Entry</th>\n",
       "      <th>Location</th>\n",
       "      <th>Select Investors</th>\n",
       "    </tr>\n",
       "  </thead>\n",
       "  <tbody>\n",
       "    <tr>\n",
       "      <th>0</th>\n",
       "      <td>1</td>\n",
       "      <td>InMobi</td>\n",
       "      <td>Adtech - Mobile Ads</td>\n",
       "      <td>1.00</td>\n",
       "      <td>1.00</td>\n",
       "      <td>Sep/2011</td>\n",
       "      <td>Bangalore/Singapore</td>\n",
       "      <td>KPCB, Sherpalo Ventures, SoftBank</td>\n",
       "    </tr>\n",
       "    <tr>\n",
       "      <th>1</th>\n",
       "      <td>2</td>\n",
       "      <td>Flipkart^</td>\n",
       "      <td>E-Commerce</td>\n",
       "      <td>1.00</td>\n",
       "      <td>37.60</td>\n",
       "      <td>Feb/2012</td>\n",
       "      <td>Bangalore/Singapore</td>\n",
       "      <td>Accel, Tiger Global, Naspers, SoftBank, Tencent</td>\n",
       "    </tr>\n",
       "    <tr>\n",
       "      <th>2</th>\n",
       "      <td>3</td>\n",
       "      <td>Mu Sigma</td>\n",
       "      <td>SaaS - Analytics</td>\n",
       "      <td>1.00</td>\n",
       "      <td>1.50</td>\n",
       "      <td>Feb/2013</td>\n",
       "      <td>Bangalore/Chicago</td>\n",
       "      <td>Accel, Sequoia Capital, General Atlantic</td>\n",
       "    </tr>\n",
       "    <tr>\n",
       "      <th>3</th>\n",
       "      <td>4</td>\n",
       "      <td>Snapdeal*</td>\n",
       "      <td>E-Commerce</td>\n",
       "      <td>1.80</td>\n",
       "      <td>2.40</td>\n",
       "      <td>Oct/2014</td>\n",
       "      <td>Delhi</td>\n",
       "      <td>Kalaari Capital, Nexus Ventures, Bessemer, Sof...</td>\n",
       "    </tr>\n",
       "    <tr>\n",
       "      <th>4</th>\n",
       "      <td>5</td>\n",
       "      <td>PayTM^</td>\n",
       "      <td>Fintech - Payments &amp; Wallet</td>\n",
       "      <td>1.70</td>\n",
       "      <td>16.00</td>\n",
       "      <td>Feb/2015</td>\n",
       "      <td>Noida</td>\n",
       "      <td>Saama Capital, Elevation Capital, Alibaba, Ber...</td>\n",
       "    </tr>\n",
       "    <tr>\n",
       "      <th>...</th>\n",
       "      <td>...</td>\n",
       "      <td>...</td>\n",
       "      <td>...</td>\n",
       "      <td>...</td>\n",
       "      <td>...</td>\n",
       "      <td>...</td>\n",
       "      <td>...</td>\n",
       "      <td>...</td>\n",
       "    </tr>\n",
       "    <tr>\n",
       "      <th>97</th>\n",
       "      <td>98</td>\n",
       "      <td>Purplle</td>\n",
       "      <td>E-Commerce - Personal Care &amp; Cosmetics</td>\n",
       "      <td>1.10</td>\n",
       "      <td>1.10</td>\n",
       "      <td>Jun/2022</td>\n",
       "      <td>Mumbai</td>\n",
       "      <td>JSW Ventures, IvyCap Ventures, Blume Ventures,...</td>\n",
       "    </tr>\n",
       "    <tr>\n",
       "      <th>98</th>\n",
       "      <td>99</td>\n",
       "      <td>Leadsquared</td>\n",
       "      <td>SaaS - CRM</td>\n",
       "      <td>1.00</td>\n",
       "      <td>1.00</td>\n",
       "      <td>Jun/2022</td>\n",
       "      <td>Bangalore</td>\n",
       "      <td>Stakeboat Capital, Gaja Capital, WestBridge</td>\n",
       "    </tr>\n",
       "    <tr>\n",
       "      <th>99</th>\n",
       "      <td>100</td>\n",
       "      <td>OneCard</td>\n",
       "      <td>Fintech - Credit Cards</td>\n",
       "      <td>1.30</td>\n",
       "      <td>1.30</td>\n",
       "      <td>Jul/2022</td>\n",
       "      <td>Pune</td>\n",
       "      <td>QED Investors, Matrix Partners India, Sequoia ...</td>\n",
       "    </tr>\n",
       "    <tr>\n",
       "      <th>100</th>\n",
       "      <td>101</td>\n",
       "      <td>Shiprocket</td>\n",
       "      <td>Aggregator - Logistics Services</td>\n",
       "      <td>1.23</td>\n",
       "      <td>1.23</td>\n",
       "      <td>Aug/2022</td>\n",
       "      <td>Delhi</td>\n",
       "      <td>Lightrock India, Info Edge, Tribe Capital, Tem...</td>\n",
       "    </tr>\n",
       "    <tr>\n",
       "      <th>101</th>\n",
       "      <td>102</td>\n",
       "      <td>Molbio Diagnostics</td>\n",
       "      <td>Healthtech - Diagnostics</td>\n",
       "      <td>1.53</td>\n",
       "      <td>1.53</td>\n",
       "      <td>Sep/2022</td>\n",
       "      <td>Goa</td>\n",
       "      <td>Temasek, Motilal Oswal</td>\n",
       "    </tr>\n",
       "  </tbody>\n",
       "</table>\n",
       "<p>102 rows × 8 columns</p>\n",
       "</div>"
      ],
      "text/plain": [
       "     No.             Company                                  Sector  \\\n",
       "0      1              InMobi                     Adtech - Mobile Ads   \n",
       "1      2           Flipkart^                              E-Commerce   \n",
       "2      3            Mu Sigma                        SaaS - Analytics   \n",
       "3      4           Snapdeal*                              E-Commerce   \n",
       "4      5              PayTM^             Fintech - Payments & Wallet   \n",
       "..   ...                 ...                                     ...   \n",
       "97    98             Purplle  E-Commerce - Personal Care & Cosmetics   \n",
       "98    99         Leadsquared                              SaaS - CRM   \n",
       "99   100             OneCard                  Fintech - Credit Cards   \n",
       "100  101          Shiprocket         Aggregator - Logistics Services   \n",
       "101  102  Molbio Diagnostics                Healthtech - Diagnostics   \n",
       "\n",
       "     Entry Valuation^^ ($B)  Valuation ($B)     Entry             Location  \\\n",
       "0                      1.00            1.00  Sep/2011  Bangalore/Singapore   \n",
       "1                      1.00           37.60  Feb/2012  Bangalore/Singapore   \n",
       "2                      1.00            1.50  Feb/2013    Bangalore/Chicago   \n",
       "3                      1.80            2.40  Oct/2014                Delhi   \n",
       "4                      1.70           16.00  Feb/2015                Noida   \n",
       "..                      ...             ...       ...                  ...   \n",
       "97                     1.10            1.10  Jun/2022               Mumbai   \n",
       "98                     1.00            1.00  Jun/2022            Bangalore   \n",
       "99                     1.30            1.30  Jul/2022                 Pune   \n",
       "100                    1.23            1.23  Aug/2022                Delhi   \n",
       "101                    1.53            1.53  Sep/2022                  Goa   \n",
       "\n",
       "                                      Select Investors  \n",
       "0                    KPCB, Sherpalo Ventures, SoftBank  \n",
       "1      Accel, Tiger Global, Naspers, SoftBank, Tencent  \n",
       "2             Accel, Sequoia Capital, General Atlantic  \n",
       "3    Kalaari Capital, Nexus Ventures, Bessemer, Sof...  \n",
       "4    Saama Capital, Elevation Capital, Alibaba, Ber...  \n",
       "..                                                 ...  \n",
       "97   JSW Ventures, IvyCap Ventures, Blume Ventures,...  \n",
       "98         Stakeboat Capital, Gaja Capital, WestBridge  \n",
       "99   QED Investors, Matrix Partners India, Sequoia ...  \n",
       "100  Lightrock India, Info Edge, Tribe Capital, Tem...  \n",
       "101                             Temasek, Motilal Oswal  \n",
       "\n",
       "[102 rows x 8 columns]"
      ]
     },
     "execution_count": 130,
     "metadata": {},
     "output_type": "execute_result"
    }
   ],
   "source": [
    "\n",
    "a = pd.read_csv(\"/kaggle/input/indian-unicorn-startups-2023-june-updated/Indian Unicorn startups 2023 updated.csv\")\n",
    "a"
   ]
  },
  {
   "cell_type": "code",
   "execution_count": 131,
   "id": "47255d30",
   "metadata": {
    "execution": {
     "iopub.execute_input": "2023-08-24T15:56:42.823359Z",
     "iopub.status.busy": "2023-08-24T15:56:42.823008Z",
     "iopub.status.idle": "2023-08-24T15:56:42.829980Z",
     "shell.execute_reply": "2023-08-24T15:56:42.829096Z"
    },
    "papermill": {
     "duration": 0.073139,
     "end_time": "2023-08-24T15:56:42.832204",
     "exception": false,
     "start_time": "2023-08-24T15:56:42.759065",
     "status": "completed"
    },
    "tags": []
   },
   "outputs": [
    {
     "data": {
      "text/plain": [
       "[2, 3, 4, 5, 11]"
      ]
     },
     "execution_count": 131,
     "metadata": {},
     "output_type": "execute_result"
    }
   ],
   "source": [
    "numbers = [11, 2, 3, 4, 5]\n",
    "numbers.sort()\n",
    "numbers"
   ]
  },
  {
   "cell_type": "code",
   "execution_count": 132,
   "id": "439dee49",
   "metadata": {
    "execution": {
     "iopub.execute_input": "2023-08-24T15:56:42.961748Z",
     "iopub.status.busy": "2023-08-24T15:56:42.961378Z",
     "iopub.status.idle": "2023-08-24T15:56:42.967638Z",
     "shell.execute_reply": "2023-08-24T15:56:42.966771Z"
    },
    "papermill": {
     "duration": 0.072218,
     "end_time": "2023-08-24T15:56:42.969526",
     "exception": false,
     "start_time": "2023-08-24T15:56:42.897308",
     "status": "completed"
    },
    "tags": []
   },
   "outputs": [
    {
     "data": {
      "text/plain": [
       "[5, 4, 3, 2, 11]"
      ]
     },
     "execution_count": 132,
     "metadata": {},
     "output_type": "execute_result"
    }
   ],
   "source": [
    "numbers = [11, 2, 3, 4, 5]\n",
    "numbers.reverse()\n",
    "numbers"
   ]
  },
  {
   "cell_type": "code",
   "execution_count": 133,
   "id": "7ffd5406",
   "metadata": {
    "execution": {
     "iopub.execute_input": "2023-08-24T15:56:43.098803Z",
     "iopub.status.busy": "2023-08-24T15:56:43.097941Z",
     "iopub.status.idle": "2023-08-24T15:56:43.104553Z",
     "shell.execute_reply": "2023-08-24T15:56:43.103475Z"
    },
    "papermill": {
     "duration": 0.074577,
     "end_time": "2023-08-24T15:56:43.106614",
     "exception": false,
     "start_time": "2023-08-24T15:56:43.032037",
     "status": "completed"
    },
    "tags": []
   },
   "outputs": [
    {
     "name": "stdout",
     "output_type": "stream",
     "text": [
      "Local Name\n",
      "Local Name\n"
     ]
    }
   ],
   "source": [
    "name = \"Global Name\"\n",
    "\n",
    "def shadow_example():\n",
    "    global name\n",
    "    name = \"Local Name\"\n",
    "    print(name)\n",
    "\n",
    "shadow_example()  # Output: Local Name\n",
    "\n",
    "print(name)    "
   ]
  },
  {
   "cell_type": "code",
   "execution_count": 134,
   "id": "ae70eebb",
   "metadata": {
    "execution": {
     "iopub.execute_input": "2023-08-24T15:56:43.241453Z",
     "iopub.status.busy": "2023-08-24T15:56:43.241044Z",
     "iopub.status.idle": "2023-08-24T15:56:43.247177Z",
     "shell.execute_reply": "2023-08-24T15:56:43.246221Z"
    },
    "papermill": {
     "duration": 0.077909,
     "end_time": "2023-08-24T15:56:43.249704",
     "exception": false,
     "start_time": "2023-08-24T15:56:43.171795",
     "status": "completed"
    },
    "tags": []
   },
   "outputs": [
    {
     "name": "stdout",
     "output_type": "stream",
     "text": [
      "{1, 2, 3, 4, 5, 6} {3, 4} {1, 2}\n"
     ]
    }
   ],
   "source": [
    "set1 = {1, 2, 3, 4}\n",
    "set2 = {3, 4, 5, 6}\n",
    "\n",
    "union_set = set1.union(set2)\n",
    "intersection_set = set1.intersection(set2)\n",
    "difference_set = set1.difference(set2) \n",
    "print(union_set,intersection_set ,difference_set)"
   ]
  },
  {
   "cell_type": "code",
   "execution_count": 135,
   "id": "b41f48b9",
   "metadata": {
    "execution": {
     "iopub.execute_input": "2023-08-24T15:56:43.379429Z",
     "iopub.status.busy": "2023-08-24T15:56:43.379056Z",
     "iopub.status.idle": "2023-08-24T15:56:43.385108Z",
     "shell.execute_reply": "2023-08-24T15:56:43.384201Z"
    },
    "papermill": {
     "duration": 0.074448,
     "end_time": "2023-08-24T15:56:43.387365",
     "exception": false,
     "start_time": "2023-08-24T15:56:43.312917",
     "status": "completed"
    },
    "tags": []
   },
   "outputs": [
    {
     "data": {
      "text/plain": [
       "{1, 2}"
      ]
     },
     "execution_count": 135,
     "metadata": {},
     "output_type": "execute_result"
    }
   ],
   "source": [
    "a = {1,2}\n",
    "a"
   ]
  },
  {
   "cell_type": "code",
   "execution_count": 136,
   "id": "196a9e17",
   "metadata": {
    "execution": {
     "iopub.execute_input": "2023-08-24T15:56:43.512176Z",
     "iopub.status.busy": "2023-08-24T15:56:43.511408Z",
     "iopub.status.idle": "2023-08-24T15:56:43.517930Z",
     "shell.execute_reply": "2023-08-24T15:56:43.516752Z"
    },
    "papermill": {
     "duration": 0.070127,
     "end_time": "2023-08-24T15:56:43.519926",
     "exception": false,
     "start_time": "2023-08-24T15:56:43.449799",
     "status": "completed"
    },
    "tags": []
   },
   "outputs": [
    {
     "name": "stdout",
     "output_type": "stream",
     "text": [
      "{1, 2, 3, 4, 5, 6} {3, 4} {5, 6}\n"
     ]
    }
   ],
   "source": [
    "set1 = {1, 2, 3, 4}\n",
    "set2 = {3, 4, 5, 6}\n",
    "\n",
    "union_set = set1.union(set2)\n",
    "intersection_set = set1.intersection(set2)\n",
    "difference_set = set2.difference(set1)\n",
    "print(union_set,intersection_set ,difference_set)"
   ]
  },
  {
   "cell_type": "code",
   "execution_count": 137,
   "id": "4d51ebd5",
   "metadata": {
    "execution": {
     "iopub.execute_input": "2023-08-24T15:56:43.645457Z",
     "iopub.status.busy": "2023-08-24T15:56:43.645120Z",
     "iopub.status.idle": "2023-08-24T15:56:43.651448Z",
     "shell.execute_reply": "2023-08-24T15:56:43.650534Z"
    },
    "papermill": {
     "duration": 0.07151,
     "end_time": "2023-08-24T15:56:43.653959",
     "exception": false,
     "start_time": "2023-08-24T15:56:43.582449",
     "status": "completed"
    },
    "tags": []
   },
   "outputs": [
    {
     "name": "stdout",
     "output_type": "stream",
     "text": [
      "        1 \n",
      "      2 1 2 \n",
      "    3 2 1 2 3 \n",
      "  4 3 2 1 2 3 4 \n",
      "5 4 3 2 1 2 3 4 5 \n"
     ]
    }
   ],
   "source": [
    "for i in range(5):\n",
    "    print(\" \"* (2*(4- int(i))),end=\"\")\n",
    "    for j in range(i+1,0,-1):\n",
    "        print(j,end= \" \")\n",
    "    for k in range (i):\n",
    "        print(k+2,end=\" \")\n",
    "    print()"
   ]
  },
  {
   "cell_type": "code",
   "execution_count": 138,
   "id": "7730c186",
   "metadata": {
    "execution": {
     "iopub.execute_input": "2023-08-24T15:56:43.778779Z",
     "iopub.status.busy": "2023-08-24T15:56:43.778493Z",
     "iopub.status.idle": "2023-08-24T15:56:43.784308Z",
     "shell.execute_reply": "2023-08-24T15:56:43.783447Z"
    },
    "papermill": {
     "duration": 0.070741,
     "end_time": "2023-08-24T15:56:43.786287",
     "exception": false,
     "start_time": "2023-08-24T15:56:43.715546",
     "status": "completed"
    },
    "tags": []
   },
   "outputs": [
    {
     "data": {
      "text/plain": [
       "'i am &&a good &&boy'"
      ]
     },
     "execution_count": 138,
     "metadata": {},
     "output_type": "execute_result"
    }
   ],
   "source": [
    "a = \"i am ,a good ,boy\"\n",
    "b = a.split(',')\n",
    "\"&&\".join(b)"
   ]
  },
  {
   "cell_type": "code",
   "execution_count": null,
   "id": "d977c452",
   "metadata": {
    "papermill": {
     "duration": 0.061788,
     "end_time": "2023-08-24T15:56:43.908857",
     "exception": false,
     "start_time": "2023-08-24T15:56:43.847069",
     "status": "completed"
    },
    "tags": []
   },
   "outputs": [],
   "source": []
  },
  {
   "cell_type": "markdown",
   "id": "fea36d21",
   "metadata": {
    "papermill": {
     "duration": 0.0642,
     "end_time": "2023-08-24T15:56:44.035784",
     "exception": false,
     "start_time": "2023-08-24T15:56:43.971584",
     "status": "completed"
    },
    "tags": []
   },
   "source": [
    "        1\n",
    "      2 1 2\n",
    "    3 2 1 2 3\n",
    "  4 3 2 1 2 3 4\n",
    "5 4 3 2 1 2 3 4 5 "
   ]
  },
  {
   "cell_type": "code",
   "execution_count": 139,
   "id": "937d3bd0",
   "metadata": {
    "execution": {
     "iopub.execute_input": "2023-08-24T15:56:44.167096Z",
     "iopub.status.busy": "2023-08-24T15:56:44.166117Z",
     "iopub.status.idle": "2023-08-24T15:56:44.171589Z",
     "shell.execute_reply": "2023-08-24T15:56:44.170647Z"
    },
    "papermill": {
     "duration": 0.072148,
     "end_time": "2023-08-24T15:56:44.173992",
     "exception": false,
     "start_time": "2023-08-24T15:56:44.101844",
     "status": "completed"
    },
    "tags": []
   },
   "outputs": [
    {
     "name": "stdout",
     "output_type": "stream",
     "text": [
      "1\n",
      "2\n",
      "3\n",
      "4\n",
      "5\n"
     ]
    }
   ],
   "source": [
    "for i  in range(5):\n",
    "    print(i+1)"
   ]
  },
  {
   "cell_type": "code",
   "execution_count": 140,
   "id": "42b3300f",
   "metadata": {
    "execution": {
     "iopub.execute_input": "2023-08-24T15:56:44.353599Z",
     "iopub.status.busy": "2023-08-24T15:56:44.352565Z",
     "iopub.status.idle": "2023-08-24T15:56:44.358967Z",
     "shell.execute_reply": "2023-08-24T15:56:44.357635Z"
    },
    "papermill": {
     "duration": 0.074984,
     "end_time": "2023-08-24T15:56:44.360988",
     "exception": false,
     "start_time": "2023-08-24T15:56:44.286004",
     "status": "completed"
    },
    "tags": []
   },
   "outputs": [
    {
     "name": "stdout",
     "output_type": "stream",
     "text": [
      "5\n",
      "4\n",
      "3\n",
      "2\n",
      "1\n"
     ]
    }
   ],
   "source": [
    "for i in range(5,0,-1):\n",
    "    print(i)"
   ]
  },
  {
   "cell_type": "code",
   "execution_count": 141,
   "id": "9fa1d5c8",
   "metadata": {
    "execution": {
     "iopub.execute_input": "2023-08-24T15:56:44.488075Z",
     "iopub.status.busy": "2023-08-24T15:56:44.487413Z",
     "iopub.status.idle": "2023-08-24T15:56:44.492132Z",
     "shell.execute_reply": "2023-08-24T15:56:44.491276Z"
    },
    "papermill": {
     "duration": 0.069482,
     "end_time": "2023-08-24T15:56:44.494243",
     "exception": false,
     "start_time": "2023-08-24T15:56:44.424761",
     "status": "completed"
    },
    "tags": []
   },
   "outputs": [
    {
     "name": "stdout",
     "output_type": "stream",
     "text": [
      "mlv\n"
     ]
    }
   ],
   "source": [
    "print(\"mlv\")"
   ]
  },
  {
   "cell_type": "code",
   "execution_count": 142,
   "id": "444f6e71",
   "metadata": {
    "execution": {
     "iopub.execute_input": "2023-08-24T15:56:44.621106Z",
     "iopub.status.busy": "2023-08-24T15:56:44.620296Z",
     "iopub.status.idle": "2023-08-24T15:56:44.626733Z",
     "shell.execute_reply": "2023-08-24T15:56:44.625749Z"
    },
    "papermill": {
     "duration": 0.072077,
     "end_time": "2023-08-24T15:56:44.628801",
     "exception": false,
     "start_time": "2023-08-24T15:56:44.556724",
     "status": "completed"
    },
    "tags": []
   },
   "outputs": [
    {
     "data": {
      "text/plain": [
       "'najar ahsa'"
      ]
     },
     "execution_count": 142,
     "metadata": {},
     "output_type": "execute_result"
    }
   ],
   "source": [
    "ans = \"asha rajan\"\n",
    "ans[::-1]"
   ]
  },
  {
   "cell_type": "code",
   "execution_count": 143,
   "id": "bf109b9e",
   "metadata": {
    "execution": {
     "iopub.execute_input": "2023-08-24T15:56:44.761890Z",
     "iopub.status.busy": "2023-08-24T15:56:44.761545Z",
     "iopub.status.idle": "2023-08-24T15:56:44.766465Z",
     "shell.execute_reply": "2023-08-24T15:56:44.765531Z"
    },
    "papermill": {
     "duration": 0.075786,
     "end_time": "2023-08-24T15:56:44.768895",
     "exception": false,
     "start_time": "2023-08-24T15:56:44.693109",
     "status": "completed"
    },
    "tags": []
   },
   "outputs": [
    {
     "name": "stdout",
     "output_type": "stream",
     "text": [
      "0\n",
      "1\n",
      "2\n",
      "3\n",
      "4\n"
     ]
    }
   ],
   "source": [
    "for i in range(5):\n",
    "    print(i)"
   ]
  },
  {
   "cell_type": "code",
   "execution_count": 144,
   "id": "886bd05a",
   "metadata": {
    "execution": {
     "iopub.execute_input": "2023-08-24T15:56:44.896508Z",
     "iopub.status.busy": "2023-08-24T15:56:44.896147Z",
     "iopub.status.idle": "2023-08-24T15:56:44.901037Z",
     "shell.execute_reply": "2023-08-24T15:56:44.900187Z"
    },
    "papermill": {
     "duration": 0.070101,
     "end_time": "2023-08-24T15:56:44.903203",
     "exception": false,
     "start_time": "2023-08-24T15:56:44.833102",
     "status": "completed"
    },
    "tags": []
   },
   "outputs": [
    {
     "name": "stdout",
     "output_type": "stream",
     "text": [
      "5\n",
      "4\n",
      "3\n",
      "2\n",
      "1\n"
     ]
    }
   ],
   "source": [
    "for i in range(5,0,-1) :\n",
    "    print(i)"
   ]
  },
  {
   "cell_type": "code",
   "execution_count": 145,
   "id": "1794e28b",
   "metadata": {
    "execution": {
     "iopub.execute_input": "2023-08-24T15:56:45.041052Z",
     "iopub.status.busy": "2023-08-24T15:56:45.040175Z",
     "iopub.status.idle": "2023-08-24T15:56:45.047287Z",
     "shell.execute_reply": "2023-08-24T15:56:45.046193Z"
    },
    "papermill": {
     "duration": 0.083647,
     "end_time": "2023-08-24T15:56:45.049413",
     "exception": false,
     "start_time": "2023-08-24T15:56:44.965766",
     "status": "completed"
    },
    "tags": []
   },
   "outputs": [
    {
     "data": {
      "text/plain": [
       "15"
      ]
     },
     "execution_count": 145,
     "metadata": {},
     "output_type": "execute_result"
    }
   ],
   "source": [
    "def add (x,y) :  \n",
    "    return x + y\n",
    "add(7,8)"
   ]
  },
  {
   "cell_type": "code",
   "execution_count": 146,
   "id": "fa8c3ca7",
   "metadata": {
    "execution": {
     "iopub.execute_input": "2023-08-24T15:56:45.179326Z",
     "iopub.status.busy": "2023-08-24T15:56:45.178538Z",
     "iopub.status.idle": "2023-08-24T15:56:45.184730Z",
     "shell.execute_reply": "2023-08-24T15:56:45.183507Z"
    },
    "papermill": {
     "duration": 0.072098,
     "end_time": "2023-08-24T15:56:45.186856",
     "exception": false,
     "start_time": "2023-08-24T15:56:45.114758",
     "status": "completed"
    },
    "tags": []
   },
   "outputs": [
    {
     "name": "stdout",
     "output_type": "stream",
     "text": [
      "15\n"
     ]
    }
   ],
   "source": [
    "add = lambda x,y  : x + y \n",
    "\n",
    "b = add(7,8)\n",
    "print(b)"
   ]
  },
  {
   "cell_type": "code",
   "execution_count": 147,
   "id": "4aa1d595",
   "metadata": {
    "execution": {
     "iopub.execute_input": "2023-08-24T15:56:45.367995Z",
     "iopub.status.busy": "2023-08-24T15:56:45.367644Z",
     "iopub.status.idle": "2023-08-24T15:56:45.373012Z",
     "shell.execute_reply": "2023-08-24T15:56:45.372135Z"
    },
    "papermill": {
     "duration": 0.087976,
     "end_time": "2023-08-24T15:56:45.376127",
     "exception": false,
     "start_time": "2023-08-24T15:56:45.288151",
     "status": "completed"
    },
    "tags": []
   },
   "outputs": [
    {
     "name": "stdout",
     "output_type": "stream",
     "text": [
      "15\n"
     ]
    }
   ],
   "source": [
    "x = lambda a : a + 10\n",
    "print(x(5))"
   ]
  },
  {
   "cell_type": "code",
   "execution_count": 148,
   "id": "1f0f07f8",
   "metadata": {
    "execution": {
     "iopub.execute_input": "2023-08-24T15:56:45.505576Z",
     "iopub.status.busy": "2023-08-24T15:56:45.505199Z",
     "iopub.status.idle": "2023-08-24T15:56:45.511752Z",
     "shell.execute_reply": "2023-08-24T15:56:45.510748Z"
    },
    "papermill": {
     "duration": 0.075671,
     "end_time": "2023-08-24T15:56:45.513865",
     "exception": false,
     "start_time": "2023-08-24T15:56:45.438194",
     "status": "completed"
    },
    "tags": []
   },
   "outputs": [
    {
     "data": {
      "text/plain": [
       "35"
      ]
     },
     "execution_count": 148,
     "metadata": {},
     "output_type": "execute_result"
    }
   ],
   "source": [
    "x = lambda a : a + 10\n",
    "x(25)"
   ]
  },
  {
   "cell_type": "code",
   "execution_count": 149,
   "id": "4a2170b1",
   "metadata": {
    "execution": {
     "iopub.execute_input": "2023-08-24T15:56:45.643298Z",
     "iopub.status.busy": "2023-08-24T15:56:45.642416Z",
     "iopub.status.idle": "2023-08-24T15:56:45.649303Z",
     "shell.execute_reply": "2023-08-24T15:56:45.648295Z"
    },
    "papermill": {
     "duration": 0.072928,
     "end_time": "2023-08-24T15:56:45.651328",
     "exception": false,
     "start_time": "2023-08-24T15:56:45.578400",
     "status": "completed"
    },
    "tags": []
   },
   "outputs": [
    {
     "data": {
      "text/plain": [
       "30"
      ]
     },
     "execution_count": 149,
     "metadata": {},
     "output_type": "execute_result"
    }
   ],
   "source": [
    "x = lambda a, b : a * b\n",
    "x(5, 6)"
   ]
  },
  {
   "cell_type": "code",
   "execution_count": 150,
   "id": "a65c77b7",
   "metadata": {
    "execution": {
     "iopub.execute_input": "2023-08-24T15:56:45.779493Z",
     "iopub.status.busy": "2023-08-24T15:56:45.779122Z",
     "iopub.status.idle": "2023-08-24T15:56:45.784484Z",
     "shell.execute_reply": "2023-08-24T15:56:45.783600Z"
    },
    "papermill": {
     "duration": 0.072667,
     "end_time": "2023-08-24T15:56:45.786681",
     "exception": false,
     "start_time": "2023-08-24T15:56:45.714014",
     "status": "completed"
    },
    "tags": []
   },
   "outputs": [
    {
     "name": "stdout",
     "output_type": "stream",
     "text": [
      "13\n"
     ]
    }
   ],
   "source": [
    "x = lambda a, b, c : a + b + c\n",
    "print(x(5, 6, 2))"
   ]
  },
  {
   "cell_type": "code",
   "execution_count": 151,
   "id": "8d432654",
   "metadata": {
    "execution": {
     "iopub.execute_input": "2023-08-24T15:56:45.915307Z",
     "iopub.status.busy": "2023-08-24T15:56:45.914377Z",
     "iopub.status.idle": "2023-08-24T15:56:45.918882Z",
     "shell.execute_reply": "2023-08-24T15:56:45.917983Z"
    },
    "papermill": {
     "duration": 0.071106,
     "end_time": "2023-08-24T15:56:45.920929",
     "exception": false,
     "start_time": "2023-08-24T15:56:45.849823",
     "status": "completed"
    },
    "tags": []
   },
   "outputs": [],
   "source": [
    "# def myfunc(n):\n",
    "#   return lambda a : a * n\n",
    "\n",
    "# mydoubler = lambda a : a * 2 \n",
    "\n",
    "# print(mydoubler(11))"
   ]
  },
  {
   "cell_type": "code",
   "execution_count": 152,
   "id": "a82dd310",
   "metadata": {
    "execution": {
     "iopub.execute_input": "2023-08-24T15:56:46.048810Z",
     "iopub.status.busy": "2023-08-24T15:56:46.048520Z",
     "iopub.status.idle": "2023-08-24T15:56:46.052671Z",
     "shell.execute_reply": "2023-08-24T15:56:46.051701Z"
    },
    "papermill": {
     "duration": 0.070914,
     "end_time": "2023-08-24T15:56:46.054644",
     "exception": false,
     "start_time": "2023-08-24T15:56:45.983730",
     "status": "completed"
    },
    "tags": []
   },
   "outputs": [],
   "source": [
    "# def myfunc(n):\n",
    "#   return lambda a : a * n\n",
    "\n",
    "# mydoubler = lambda a : a * 2\n",
    "\n",
    "# print(mydoubler(11))"
   ]
  },
  {
   "cell_type": "code",
   "execution_count": 153,
   "id": "f123ccc3",
   "metadata": {
    "execution": {
     "iopub.execute_input": "2023-08-24T15:56:46.185407Z",
     "iopub.status.busy": "2023-08-24T15:56:46.184200Z",
     "iopub.status.idle": "2023-08-24T15:56:46.190950Z",
     "shell.execute_reply": "2023-08-24T15:56:46.189740Z"
    },
    "papermill": {
     "duration": 0.07402,
     "end_time": "2023-08-24T15:56:46.193040",
     "exception": false,
     "start_time": "2023-08-24T15:56:46.119020",
     "status": "completed"
    },
    "tags": []
   },
   "outputs": [
    {
     "name": "stdout",
     "output_type": "stream",
     "text": [
      "22\n"
     ]
    }
   ],
   "source": [
    "def myfunc(n):\n",
    "  return lambda a : a * n\n",
    "\n",
    "mydoubler = myfunc(2)\n",
    "\n",
    "print(mydoubler(11))"
   ]
  },
  {
   "cell_type": "code",
   "execution_count": 154,
   "id": "eda96d14",
   "metadata": {
    "execution": {
     "iopub.execute_input": "2023-08-24T15:56:46.333803Z",
     "iopub.status.busy": "2023-08-24T15:56:46.333480Z",
     "iopub.status.idle": "2023-08-24T15:56:46.337794Z",
     "shell.execute_reply": "2023-08-24T15:56:46.336827Z"
    },
    "papermill": {
     "duration": 0.073995,
     "end_time": "2023-08-24T15:56:46.339845",
     "exception": false,
     "start_time": "2023-08-24T15:56:46.265850",
     "status": "completed"
    },
    "tags": []
   },
   "outputs": [],
   "source": [
    "# def myfunc(n):\n",
    "#   return lambda a : a * n\n",
    "\n",
    "# mydoubler = lambda a : a * 2\n",
    "# mytripler = lambda a : a * 3\n",
    "\n",
    "# print(mydoubler(11))\n",
    "# print(mytripler(11))"
   ]
  },
  {
   "cell_type": "code",
   "execution_count": 155,
   "id": "6880d852",
   "metadata": {
    "execution": {
     "iopub.execute_input": "2023-08-24T15:56:46.470646Z",
     "iopub.status.busy": "2023-08-24T15:56:46.470294Z",
     "iopub.status.idle": "2023-08-24T15:56:46.476051Z",
     "shell.execute_reply": "2023-08-24T15:56:46.475208Z"
    },
    "papermill": {
     "duration": 0.07398,
     "end_time": "2023-08-24T15:56:46.478370",
     "exception": false,
     "start_time": "2023-08-24T15:56:46.404390",
     "status": "completed"
    },
    "tags": []
   },
   "outputs": [
    {
     "name": "stdout",
     "output_type": "stream",
     "text": [
      "22\n",
      "33\n"
     ]
    }
   ],
   "source": [
    "def myfunc(n):\n",
    "  return lambda a : a * n\n",
    "\n",
    "mydoubler = myfunc(2)\n",
    "mytripler = myfunc(3)\n",
    "\n",
    "print(mydoubler(11))\n",
    "print(mytripler(11))\n"
   ]
  },
  {
   "cell_type": "code",
   "execution_count": 156,
   "id": "093ad070",
   "metadata": {
    "execution": {
     "iopub.execute_input": "2023-08-24T15:56:46.610726Z",
     "iopub.status.busy": "2023-08-24T15:56:46.609866Z",
     "iopub.status.idle": "2023-08-24T15:56:46.615487Z",
     "shell.execute_reply": "2023-08-24T15:56:46.614576Z"
    },
    "papermill": {
     "duration": 0.075511,
     "end_time": "2023-08-24T15:56:46.617674",
     "exception": false,
     "start_time": "2023-08-24T15:56:46.542163",
     "status": "completed"
    },
    "tags": []
   },
   "outputs": [],
   "source": [
    "class fashion():\n",
    "    design = \"pattern design by yasmin \"\n",
    "    designer = \"yasmin\"\n",
    "    def color(self,choosecolour) :\n",
    "        print(\"kurtha is in  \",choosecolour)\n",
    "   "
   ]
  },
  {
   "cell_type": "code",
   "execution_count": 157,
   "id": "0c7f664c",
   "metadata": {
    "execution": {
     "iopub.execute_input": "2023-08-24T15:56:46.752776Z",
     "iopub.status.busy": "2023-08-24T15:56:46.752141Z",
     "iopub.status.idle": "2023-08-24T15:56:46.759599Z",
     "shell.execute_reply": "2023-08-24T15:56:46.758297Z"
    },
    "papermill": {
     "duration": 0.076967,
     "end_time": "2023-08-24T15:56:46.762065",
     "exception": false,
     "start_time": "2023-08-24T15:56:46.685098",
     "status": "completed"
    },
    "tags": []
   },
   "outputs": [
    {
     "name": "stdout",
     "output_type": "stream",
     "text": [
      "kurtha is in   red\n"
     ]
    },
    {
     "data": {
      "text/plain": [
       "'pattern design by yasmin '"
      ]
     },
     "execution_count": 157,
     "metadata": {},
     "output_type": "execute_result"
    }
   ],
   "source": [
    "anusha = fashion()\n",
    "anusha.color(\"red\")\n",
    "anusha.designer\n",
    "anusha.design"
   ]
  },
  {
   "cell_type": "code",
   "execution_count": 158,
   "id": "e7e11efd",
   "metadata": {
    "execution": {
     "iopub.execute_input": "2023-08-24T15:56:46.892522Z",
     "iopub.status.busy": "2023-08-24T15:56:46.891702Z",
     "iopub.status.idle": "2023-08-24T15:56:46.896266Z",
     "shell.execute_reply": "2023-08-24T15:56:46.895283Z"
    },
    "papermill": {
     "duration": 0.071756,
     "end_time": "2023-08-24T15:56:46.898194",
     "exception": false,
     "start_time": "2023-08-24T15:56:46.826438",
     "status": "completed"
    },
    "tags": []
   },
   "outputs": [],
   "source": [
    "#anbhu = sharmahouse()\n",
    "#anbhu.style(\"red\")"
   ]
  },
  {
   "cell_type": "code",
   "execution_count": 159,
   "id": "0c625b28",
   "metadata": {
    "execution": {
     "iopub.execute_input": "2023-08-24T15:56:47.041265Z",
     "iopub.status.busy": "2023-08-24T15:56:47.040181Z",
     "iopub.status.idle": "2023-08-24T15:56:47.050503Z",
     "shell.execute_reply": "2023-08-24T15:56:47.049534Z"
    },
    "papermill": {
     "duration": 0.084487,
     "end_time": "2023-08-24T15:56:47.052562",
     "exception": false,
     "start_time": "2023-08-24T15:56:46.968075",
     "status": "completed"
    },
    "tags": []
   },
   "outputs": [
    {
     "data": {
      "text/plain": [
       "'italian'"
      ]
     },
     "execution_count": 159,
     "metadata": {},
     "output_type": "execute_result"
    }
   ],
   "source": [
    "class Sharmadesign :\n",
    "    design = \"italian\"\n",
    "    \n",
    "    def __init__(self, color, size):\n",
    "        self.style = color \n",
    "        self.area = size\n",
    "\n",
    "    def beauty(self):\n",
    "        print(\"my house is a \",self.style ,\" and \",self.area)\n",
    "\n",
    "anbhu = Sharmadesign(\"red\", 100)\n",
    "anusha = Sharmadesign(\"blue\", 30)\n",
    "\n",
    "anbhu.design = \"japanese\"\n",
    "del anbhu.design\n",
    "anbhu.design"
   ]
  },
  {
   "cell_type": "code",
   "execution_count": 160,
   "id": "923f1a61",
   "metadata": {
    "execution": {
     "iopub.execute_input": "2023-08-24T15:56:47.197165Z",
     "iopub.status.busy": "2023-08-24T15:56:47.196525Z",
     "iopub.status.idle": "2023-08-24T15:56:47.201437Z",
     "shell.execute_reply": "2023-08-24T15:56:47.200413Z"
    },
    "papermill": {
     "duration": 0.079307,
     "end_time": "2023-08-24T15:56:47.203550",
     "exception": false,
     "start_time": "2023-08-24T15:56:47.124243",
     "status": "completed"
    },
    "tags": []
   },
   "outputs": [],
   "source": [
    "for i in range(5):\n",
    "    pass\n"
   ]
  },
  {
   "cell_type": "code",
   "execution_count": 161,
   "id": "67195ca5",
   "metadata": {
    "execution": {
     "iopub.execute_input": "2023-08-24T15:56:47.350078Z",
     "iopub.status.busy": "2023-08-24T15:56:47.348034Z",
     "iopub.status.idle": "2023-08-24T15:56:47.354628Z",
     "shell.execute_reply": "2023-08-24T15:56:47.353622Z"
    },
    "papermill": {
     "duration": 0.07476,
     "end_time": "2023-08-24T15:56:47.356813",
     "exception": false,
     "start_time": "2023-08-24T15:56:47.282053",
     "status": "completed"
    },
    "tags": []
   },
   "outputs": [],
   "source": [
    "class sharma :\n",
    "    def size() :\n",
    "        print(\"aa\") \n",
    "    def area() :\n",
    "        pass"
   ]
  },
  {
   "cell_type": "code",
   "execution_count": 162,
   "id": "186f9792",
   "metadata": {
    "execution": {
     "iopub.execute_input": "2023-08-24T15:56:47.488951Z",
     "iopub.status.busy": "2023-08-24T15:56:47.488071Z",
     "iopub.status.idle": "2023-08-24T15:56:47.494180Z",
     "shell.execute_reply": "2023-08-24T15:56:47.492834Z"
    },
    "papermill": {
     "duration": 0.072113,
     "end_time": "2023-08-24T15:56:47.496160",
     "exception": false,
     "start_time": "2023-08-24T15:56:47.424047",
     "status": "completed"
    },
    "tags": []
   },
   "outputs": [
    {
     "name": "stdout",
     "output_type": "stream",
     "text": [
      "Adult\n"
     ]
    }
   ],
   "source": [
    "age = 18\n",
    "status = \"Adult\" if age >= 18 else \"Minor\"\n",
    "print(status)  # Output: Adult"
   ]
  },
  {
   "cell_type": "code",
   "execution_count": 163,
   "id": "2456a274",
   "metadata": {
    "execution": {
     "iopub.execute_input": "2023-08-24T15:56:47.626206Z",
     "iopub.status.busy": "2023-08-24T15:56:47.625404Z",
     "iopub.status.idle": "2023-08-24T15:56:47.631196Z",
     "shell.execute_reply": "2023-08-24T15:56:47.629910Z"
    },
    "papermill": {
     "duration": 0.072952,
     "end_time": "2023-08-24T15:56:47.633176",
     "exception": false,
     "start_time": "2023-08-24T15:56:47.560224",
     "status": "completed"
    },
    "tags": []
   },
   "outputs": [
    {
     "name": "stdout",
     "output_type": "stream",
     "text": [
      "Adult\n"
     ]
    }
   ],
   "source": [
    "age = 18\n",
    "if age >=  18:\n",
    "    status = \"Adult\"\n",
    "else  :\n",
    "    status = \"Minor\"\n",
    "print(status)"
   ]
  },
  {
   "cell_type": "code",
   "execution_count": 164,
   "id": "170670d4",
   "metadata": {
    "execution": {
     "iopub.execute_input": "2023-08-24T15:56:47.767855Z",
     "iopub.status.busy": "2023-08-24T15:56:47.767564Z",
     "iopub.status.idle": "2023-08-24T15:56:47.773053Z",
     "shell.execute_reply": "2023-08-24T15:56:47.772104Z"
    },
    "papermill": {
     "duration": 0.074741,
     "end_time": "2023-08-24T15:56:47.775727",
     "exception": false,
     "start_time": "2023-08-24T15:56:47.700986",
     "status": "completed"
    },
    "tags": []
   },
   "outputs": [
    {
     "name": "stdout",
     "output_type": "stream",
     "text": [
      "[16]\n"
     ]
    }
   ],
   "source": [
    "numbers = [1, 2, 3, 4, 5]\n",
    "squared = [i ** 2 for i in numbers if i > 3  if i < 5]\n",
    "print(squared)  "
   ]
  },
  {
   "cell_type": "code",
   "execution_count": 165,
   "id": "a1239a55",
   "metadata": {
    "execution": {
     "iopub.execute_input": "2023-08-24T15:56:47.905892Z",
     "iopub.status.busy": "2023-08-24T15:56:47.904983Z",
     "iopub.status.idle": "2023-08-24T15:56:47.913132Z",
     "shell.execute_reply": "2023-08-24T15:56:47.911871Z"
    },
    "papermill": {
     "duration": 0.075612,
     "end_time": "2023-08-24T15:56:47.915214",
     "exception": false,
     "start_time": "2023-08-24T15:56:47.839602",
     "status": "completed"
    },
    "tags": []
   },
   "outputs": [
    {
     "data": {
      "text/plain": [
       "[16]"
      ]
     },
     "execution_count": 165,
     "metadata": {},
     "output_type": "execute_result"
    }
   ],
   "source": [
    "numbers = [1, 2, 3, 4, 5]\n",
    "squared = []\n",
    "for i in numbers :\n",
    "    if i > 3 : \n",
    "        if i < 5 :\n",
    "            squared.append(i**2)\n",
    "squared\n",
    "    "
   ]
  },
  {
   "cell_type": "markdown",
   "id": "a8fe5c7a",
   "metadata": {
    "execution": {
     "iopub.execute_input": "2023-08-24T15:17:55.457068Z",
     "iopub.status.busy": "2023-08-24T15:17:55.456184Z"
    },
    "papermill": {
     "duration": 0.065091,
     "end_time": "2023-08-24T15:56:48.045755",
     "exception": false,
     "start_time": "2023-08-24T15:56:47.980664",
     "status": "completed"
    },
    "tags": []
   },
   "source": [
    "# def count_up_to(limit):\n",
    "    num = 1\n",
    "    while num <= limit:\n",
    "        yield num\n",
    "        num += 1\n",
    "\n",
    "numbers = count_up_to(1000000)\n",
    "for num in numbers:\n",
    "    print(num)  # Output: 1, 2, 3, 4, 5"
   ]
  },
  {
   "cell_type": "code",
   "execution_count": 166,
   "id": "ba22205f",
   "metadata": {
    "execution": {
     "iopub.execute_input": "2023-08-24T15:56:48.177139Z",
     "iopub.status.busy": "2023-08-24T15:56:48.176791Z",
     "iopub.status.idle": "2023-08-24T15:56:48.183798Z",
     "shell.execute_reply": "2023-08-24T15:56:48.182905Z"
    },
    "papermill": {
     "duration": 0.074895,
     "end_time": "2023-08-24T15:56:48.185692",
     "exception": false,
     "start_time": "2023-08-24T15:56:48.110797",
     "status": "completed"
    },
    "tags": []
   },
   "outputs": [
    {
     "data": {
      "text/plain": [
       "6"
      ]
     },
     "execution_count": 166,
     "metadata": {},
     "output_type": "execute_result"
    }
   ],
   "source": [
    "def count_up_to(limit):\n",
    "    num = 1\n",
    "    while num <= limit:\n",
    "        \n",
    "        num += 1\n",
    "    return num\n",
    "\n",
    "numbers = count_up_to(5)\n",
    "# for num in numbers:\n",
    "#     print(num)  # Output: 1, 2, 3, 4, 5\n",
    "numbers"
   ]
  },
  {
   "cell_type": "code",
   "execution_count": 167,
   "id": "d77249e1",
   "metadata": {
    "execution": {
     "iopub.execute_input": "2023-08-24T15:56:48.325137Z",
     "iopub.status.busy": "2023-08-24T15:56:48.324830Z",
     "iopub.status.idle": "2023-08-24T15:56:48.330335Z",
     "shell.execute_reply": "2023-08-24T15:56:48.329456Z"
    },
    "papermill": {
     "duration": 0.073496,
     "end_time": "2023-08-24T15:56:48.332923",
     "exception": false,
     "start_time": "2023-08-24T15:56:48.259427",
     "status": "completed"
    },
    "tags": []
   },
   "outputs": [
    {
     "name": "stdout",
     "output_type": "stream",
     "text": [
      "3\n",
      "2\n",
      "1\n"
     ]
    }
   ],
   "source": [
    "def countdown(start):\n",
    "    while start > 0:\n",
    "        yield start\n",
    "        start -= 1\n",
    "\n",
    "count = countdown(3)\n",
    "for num in count:\n",
    "    print(num)  # Output: 3, 2, 1"
   ]
  },
  {
   "cell_type": "code",
   "execution_count": null,
   "id": "d80419ed",
   "metadata": {
    "papermill": {
     "duration": 0.066648,
     "end_time": "2023-08-24T15:56:48.463840",
     "exception": false,
     "start_time": "2023-08-24T15:56:48.397192",
     "status": "completed"
    },
    "tags": []
   },
   "outputs": [],
   "source": []
  },
  {
   "cell_type": "code",
   "execution_count": 168,
   "id": "f4617ca4",
   "metadata": {
    "execution": {
     "iopub.execute_input": "2023-08-24T15:56:48.595009Z",
     "iopub.status.busy": "2023-08-24T15:56:48.594111Z",
     "iopub.status.idle": "2023-08-24T15:56:48.599684Z",
     "shell.execute_reply": "2023-08-24T15:56:48.598805Z"
    },
    "papermill": {
     "duration": 0.073894,
     "end_time": "2023-08-24T15:56:48.602139",
     "exception": false,
     "start_time": "2023-08-24T15:56:48.528245",
     "status": "completed"
    },
    "tags": []
   },
   "outputs": [
    {
     "name": "stdout",
     "output_type": "stream",
     "text": [
      "1\n",
      "4\n",
      "9\n",
      "16\n",
      "25\n"
     ]
    }
   ],
   "source": [
    "squares = (x ** 2 for x in range(1, 6))\n",
    "for square in squares:\n",
    "    print(square)  # Output: 1, 4, 9, 16, 25"
   ]
  },
  {
   "cell_type": "code",
   "execution_count": null,
   "id": "84922e72",
   "metadata": {
    "papermill": {
     "duration": 0.065149,
     "end_time": "2023-08-24T15:56:48.733701",
     "exception": false,
     "start_time": "2023-08-24T15:56:48.668552",
     "status": "completed"
    },
    "tags": []
   },
   "outputs": [],
   "source": []
  },
  {
   "cell_type": "code",
   "execution_count": 169,
   "id": "6d7d9507",
   "metadata": {
    "execution": {
     "iopub.execute_input": "2023-08-24T15:56:48.868892Z",
     "iopub.status.busy": "2023-08-24T15:56:48.868555Z",
     "iopub.status.idle": "2023-08-24T15:56:48.874529Z",
     "shell.execute_reply": "2023-08-24T15:56:48.873597Z"
    },
    "papermill": {
     "duration": 0.076214,
     "end_time": "2023-08-24T15:56:48.877138",
     "exception": false,
     "start_time": "2023-08-24T15:56:48.800924",
     "status": "completed"
    },
    "tags": []
   },
   "outputs": [
    {
     "name": "stdout",
     "output_type": "stream",
     "text": [
      "sharma\n",
      "35\n"
     ]
    }
   ],
   "source": [
    "class avs:\n",
    "    def __init__(self,name,age):\n",
    "        self.name = name\n",
    "        self.age = age\n",
    "        \n",
    "x =  avs(\"sharma\",35)\n",
    "print(x.name)\n",
    "print(x.age)"
   ]
  },
  {
   "cell_type": "code",
   "execution_count": 170,
   "id": "4199857e",
   "metadata": {
    "execution": {
     "iopub.execute_input": "2023-08-24T15:56:49.010138Z",
     "iopub.status.busy": "2023-08-24T15:56:49.009300Z",
     "iopub.status.idle": "2023-08-24T15:56:49.014064Z",
     "shell.execute_reply": "2023-08-24T15:56:49.013088Z"
    },
    "papermill": {
     "duration": 0.073533,
     "end_time": "2023-08-24T15:56:49.015900",
     "exception": false,
     "start_time": "2023-08-24T15:56:48.942367",
     "status": "completed"
    },
    "tags": []
   },
   "outputs": [],
   "source": [
    "# a = [10 ,15 ,17,20]\n",
    "\n",
    "# ans = list (filter(lambda x : x %2 , a ))\n",
    "# ans"
   ]
  },
  {
   "cell_type": "code",
   "execution_count": 171,
   "id": "e1d78cbe",
   "metadata": {
    "execution": {
     "iopub.execute_input": "2023-08-24T15:56:49.151475Z",
     "iopub.status.busy": "2023-08-24T15:56:49.150787Z",
     "iopub.status.idle": "2023-08-24T15:56:49.157195Z",
     "shell.execute_reply": "2023-08-24T15:56:49.156297Z"
    },
    "papermill": {
     "duration": 0.076716,
     "end_time": "2023-08-24T15:56:49.159180",
     "exception": false,
     "start_time": "2023-08-24T15:56:49.082464",
     "status": "completed"
    },
    "tags": []
   },
   "outputs": [
    {
     "data": {
      "text/plain": [
       "__main__.sharma"
      ]
     },
     "execution_count": 171,
     "metadata": {},
     "output_type": "execute_result"
    }
   ],
   "source": [
    "ans = [ 10, 20 , 30]\n",
    "\n",
    "sharma "
   ]
  },
  {
   "cell_type": "code",
   "execution_count": 172,
   "id": "e2a4f871",
   "metadata": {
    "execution": {
     "iopub.execute_input": "2023-08-24T15:56:49.296456Z",
     "iopub.status.busy": "2023-08-24T15:56:49.295640Z",
     "iopub.status.idle": "2023-08-24T15:56:49.301613Z",
     "shell.execute_reply": "2023-08-24T15:56:49.300451Z"
    },
    "papermill": {
     "duration": 0.078785,
     "end_time": "2023-08-24T15:56:49.303619",
     "exception": false,
     "start_time": "2023-08-24T15:56:49.224834",
     "status": "completed"
    },
    "tags": []
   },
   "outputs": [
    {
     "name": "stdout",
     "output_type": "stream",
     "text": [
      "yes\n"
     ]
    }
   ],
   "source": [
    "a = 10 \n",
    "\n",
    "\n",
    "if a > 5 :\n",
    "    print(\"yes\")\n",
    "else :\n",
    "    print(\"no\")"
   ]
  },
  {
   "cell_type": "code",
   "execution_count": 173,
   "id": "c182cecb",
   "metadata": {
    "execution": {
     "iopub.execute_input": "2023-08-24T15:56:49.442730Z",
     "iopub.status.busy": "2023-08-24T15:56:49.441816Z",
     "iopub.status.idle": "2023-08-24T15:56:49.448284Z",
     "shell.execute_reply": "2023-08-24T15:56:49.447298Z"
    },
    "papermill": {
     "duration": 0.078602,
     "end_time": "2023-08-24T15:56:49.450349",
     "exception": false,
     "start_time": "2023-08-24T15:56:49.371747",
     "status": "completed"
    },
    "tags": []
   },
   "outputs": [
    {
     "data": {
      "text/plain": [
       "'yes'"
      ]
     },
     "execution_count": 173,
     "metadata": {},
     "output_type": "execute_result"
    }
   ],
   "source": [
    "a = 10\n",
    "sharma = \"yes\"  if a > 5 else  \"no\"\n",
    "sharma"
   ]
  },
  {
   "cell_type": "code",
   "execution_count": 174,
   "id": "eda59249",
   "metadata": {
    "execution": {
     "iopub.execute_input": "2023-08-24T15:56:49.584925Z",
     "iopub.status.busy": "2023-08-24T15:56:49.584159Z",
     "iopub.status.idle": "2023-08-24T15:56:49.590467Z",
     "shell.execute_reply": "2023-08-24T15:56:49.589549Z"
    },
    "papermill": {
     "duration": 0.076668,
     "end_time": "2023-08-24T15:56:49.592591",
     "exception": false,
     "start_time": "2023-08-24T15:56:49.515923",
     "status": "completed"
    },
    "tags": []
   },
   "outputs": [
    {
     "data": {
      "text/plain": [
       "30"
      ]
     },
     "execution_count": 174,
     "metadata": {},
     "output_type": "execute_result"
    }
   ],
   "source": [
    "anbhu = lambda x,y  :  x+ y\n",
    "anbhu(10,20)"
   ]
  },
  {
   "cell_type": "code",
   "execution_count": 175,
   "id": "b6f079e9",
   "metadata": {
    "execution": {
     "iopub.execute_input": "2023-08-24T15:56:49.727573Z",
     "iopub.status.busy": "2023-08-24T15:56:49.726729Z",
     "iopub.status.idle": "2023-08-24T15:56:49.734126Z",
     "shell.execute_reply": "2023-08-24T15:56:49.732683Z"
    },
    "papermill": {
     "duration": 0.07643,
     "end_time": "2023-08-24T15:56:49.736321",
     "exception": false,
     "start_time": "2023-08-24T15:56:49.659891",
     "status": "completed"
    },
    "tags": []
   },
   "outputs": [
    {
     "name": "stdout",
     "output_type": "stream",
     "text": [
      "Original arrays:\n",
      "[1, 2, 3, 5, 7, 8, 9, 10]\n",
      "[1, 2, 4, 8, 9]\n",
      "\n",
      "Intersection of the said arrays:  [1, 2, 8, 9]\n"
     ]
    }
   ],
   "source": [
    "array_nums1 = [1, 2, 3, 5, 7, 8, 9, 10]\n",
    "array_nums2 = [1, 2, 4, 8, 9]\n",
    "print(\"Original arrays:\")\n",
    "print(array_nums1)\n",
    "print(array_nums2)\n",
    "result = list(filter(lambda x: x in array_nums1, array_nums2)) \n",
    "print (\"\\nIntersection of the said arrays: \",result)\n"
   ]
  },
  {
   "cell_type": "code",
   "execution_count": 176,
   "id": "73512f09",
   "metadata": {
    "execution": {
     "iopub.execute_input": "2023-08-24T15:56:49.870634Z",
     "iopub.status.busy": "2023-08-24T15:56:49.869803Z",
     "iopub.status.idle": "2023-08-24T15:56:49.874388Z",
     "shell.execute_reply": "2023-08-24T15:56:49.873578Z"
    },
    "papermill": {
     "duration": 0.073691,
     "end_time": "2023-08-24T15:56:49.876401",
     "exception": false,
     "start_time": "2023-08-24T15:56:49.802710",
     "status": "completed"
    },
    "tags": []
   },
   "outputs": [],
   "source": [
    "# class myfunc():\n",
    "#     z = 300\n",
    "#     def myinnerfunc():\n",
    "#         print(z)\n",
    "#     myinnerfunc()\n",
    "\n",
    "# myfunc()\n"
   ]
  },
  {
   "cell_type": "code",
   "execution_count": 177,
   "id": "1fd9399b",
   "metadata": {
    "execution": {
     "iopub.execute_input": "2023-08-24T15:56:50.007419Z",
     "iopub.status.busy": "2023-08-24T15:56:50.006600Z",
     "iopub.status.idle": "2023-08-24T15:56:50.017658Z",
     "shell.execute_reply": "2023-08-24T15:56:50.016682Z"
    },
    "papermill": {
     "duration": 0.077931,
     "end_time": "2023-08-24T15:56:50.019666",
     "exception": false,
     "start_time": "2023-08-24T15:56:49.941735",
     "status": "completed"
    },
    "tags": []
   },
   "outputs": [
    {
     "data": {
      "text/plain": [
       "'2023 result is very good'"
      ]
     },
     "execution_count": 177,
     "metadata": {},
     "output_type": "execute_result"
    }
   ],
   "source": [
    "class exam :\n",
    "    sharmastd = 90\n",
    "    ashastd   = 80 \n",
    "    anushastd = 75\n",
    "    anbhustd = 90 \n",
    "    student =  [\"asha\",\"sharma\",\"anusha\",\"anbhu\"]\n",
    "    \n",
    "    def __init__ (self,given,studentname  ):\n",
    "        self.mlvmarks  = given\n",
    "        self.result = studentname + \"has got \" + str(self.mlvmarks)\n",
    "        self.studentname = studentname\n",
    "        self.student1 = [\"asha\",\"sharma\",\"anusha\",\"anbhu\"]\n",
    "        self.marks =   [80,90,75,90] \n",
    "        \n",
    "    def review(self,year) :\n",
    "        for i in range(len(self.student)) :\n",
    "            if self.student1[i] == self.studentname :                 \n",
    "                if self.mlvmarks >  self.marks[i] :\n",
    "                    return str(year) + \" result is very good\" \n",
    "                else :\n",
    "                    return str(year)  + \" result is rewrite exam\"\n",
    "                \n",
    "anusharesult = exam(80,\"anusha\")\n",
    "anusharesult.review(2023)\n",
    "\n",
    "# anbhuresult = exam(65,\"anbhu\")\n",
    "# print(anusharesult.mlvmarks,\" \",anusharesult.anushastd,\" \" ,anusharesult.result,\" \",anusharesult.review())\n",
    "# print(anbhuresult.mlvmarks,\" \",anbhuresult.anbhustd,\" \" ,anbhuresult.result,\" \",anbhuresult.review())"
   ]
  },
  {
   "cell_type": "code",
   "execution_count": 178,
   "id": "0f40b2a4",
   "metadata": {
    "execution": {
     "iopub.execute_input": "2023-08-24T15:56:50.151444Z",
     "iopub.status.busy": "2023-08-24T15:56:50.150609Z",
     "iopub.status.idle": "2023-08-24T15:56:50.155114Z",
     "shell.execute_reply": "2023-08-24T15:56:50.154281Z"
    },
    "papermill": {
     "duration": 0.072055,
     "end_time": "2023-08-24T15:56:50.157046",
     "exception": false,
     "start_time": "2023-08-24T15:56:50.084991",
     "status": "completed"
    },
    "tags": []
   },
   "outputs": [],
   "source": [
    "# def anbhu(self) :\n",
    "#         print(\"good girl\")\n",
    "# ans = self.anbhu()"
   ]
  },
  {
   "cell_type": "code",
   "execution_count": 179,
   "id": "0912c9ef",
   "metadata": {
    "execution": {
     "iopub.execute_input": "2023-08-24T15:56:50.295446Z",
     "iopub.status.busy": "2023-08-24T15:56:50.294563Z",
     "iopub.status.idle": "2023-08-24T15:56:50.304332Z",
     "shell.execute_reply": "2023-08-24T15:56:50.303298Z"
    },
    "papermill": {
     "duration": 0.083772,
     "end_time": "2023-08-24T15:56:50.306714",
     "exception": false,
     "start_time": "2023-08-24T15:56:50.222942",
     "status": "completed"
    },
    "tags": []
   },
   "outputs": [
    {
     "data": {
      "text/plain": [
       "90"
      ]
     },
     "execution_count": 179,
     "metadata": {},
     "output_type": "execute_result"
    }
   ],
   "source": [
    "class area:\n",
    "    asha = 90\n",
    "\n",
    "    def __init__(self,l,b = 50):\n",
    "        self.length=l\n",
    "        self.breadth=b\n",
    "    def area_rec(self): \n",
    "        print('length='+str(self.length))\n",
    "        print('breadth='+str(self.breadth))\n",
    "    def display(self,aa):\n",
    "        print(self.length*self.breadth*aa)\n",
    "    def area_square(self,p,q):\n",
    "        print(p*q)\n",
    "# i1 = int(input()) \n",
    "# i2 = int(input())\n",
    "a=area(10)\n",
    "# a.area_rec()\n",
    "a.asha\n",
    "# a.display()"
   ]
  },
  {
   "cell_type": "code",
   "execution_count": 180,
   "id": "449e6534",
   "metadata": {
    "execution": {
     "iopub.execute_input": "2023-08-24T15:56:50.438806Z",
     "iopub.status.busy": "2023-08-24T15:56:50.438507Z",
     "iopub.status.idle": "2023-08-24T15:56:50.444991Z",
     "shell.execute_reply": "2023-08-24T15:56:50.444122Z"
    },
    "papermill": {
     "duration": 0.074273,
     "end_time": "2023-08-24T15:56:50.447042",
     "exception": false,
     "start_time": "2023-08-24T15:56:50.372769",
     "status": "completed"
    },
    "tags": []
   },
   "outputs": [
    {
     "data": {
      "text/plain": [
       "[1, 4, 9, 16]"
      ]
     },
     "execution_count": 180,
     "metadata": {},
     "output_type": "execute_result"
    }
   ],
   "source": [
    "ans = [1,2,3,4]\n",
    "\n",
    "a = [ i**2 for i in ans]\n",
    "a"
   ]
  },
  {
   "cell_type": "code",
   "execution_count": 181,
   "id": "3aba10b6",
   "metadata": {
    "execution": {
     "iopub.execute_input": "2023-08-24T15:56:50.583439Z",
     "iopub.status.busy": "2023-08-24T15:56:50.583100Z",
     "iopub.status.idle": "2023-08-24T15:56:50.590187Z",
     "shell.execute_reply": "2023-08-24T15:56:50.589123Z"
    },
    "papermill": {
     "duration": 0.079776,
     "end_time": "2023-08-24T15:56:50.592211",
     "exception": false,
     "start_time": "2023-08-24T15:56:50.512435",
     "status": "completed"
    },
    "tags": []
   },
   "outputs": [
    {
     "data": {
      "text/plain": [
       "[1, 4, 9, 16]"
      ]
     },
     "execution_count": 181,
     "metadata": {},
     "output_type": "execute_result"
    }
   ],
   "source": [
    "ans = [1,2,3,4]\n",
    "a = [i**2 for i in ans   ]\n",
    "\n",
    "\n",
    "a"
   ]
  },
  {
   "cell_type": "code",
   "execution_count": 182,
   "id": "93104378",
   "metadata": {
    "execution": {
     "iopub.execute_input": "2023-08-24T15:56:50.726619Z",
     "iopub.status.busy": "2023-08-24T15:56:50.725719Z",
     "iopub.status.idle": "2023-08-24T15:56:50.733292Z",
     "shell.execute_reply": "2023-08-24T15:56:50.732284Z"
    },
    "papermill": {
     "duration": 0.076333,
     "end_time": "2023-08-24T15:56:50.735426",
     "exception": false,
     "start_time": "2023-08-24T15:56:50.659093",
     "status": "completed"
    },
    "tags": []
   },
   "outputs": [
    {
     "data": {
      "text/plain": [
       "{1: 1, 2: 4, 3: 9, 4: 16}"
      ]
     },
     "execution_count": 182,
     "metadata": {},
     "output_type": "execute_result"
    }
   ],
   "source": [
    "ans = [1,2,3,4]\n",
    "a = {  x : x**2 for x in ans}\n",
    "a"
   ]
  },
  {
   "cell_type": "code",
   "execution_count": 183,
   "id": "1f55d3bf",
   "metadata": {
    "execution": {
     "iopub.execute_input": "2023-08-24T15:56:50.871969Z",
     "iopub.status.busy": "2023-08-24T15:56:50.871644Z",
     "iopub.status.idle": "2023-08-24T15:56:50.876272Z",
     "shell.execute_reply": "2023-08-24T15:56:50.875156Z"
    },
    "papermill": {
     "duration": 0.074404,
     "end_time": "2023-08-24T15:56:50.878443",
     "exception": false,
     "start_time": "2023-08-24T15:56:50.804039",
     "status": "completed"
    },
    "tags": []
   },
   "outputs": [],
   "source": [
    "import numpy as np"
   ]
  },
  {
   "cell_type": "code",
   "execution_count": 184,
   "id": "4f2b3ebb",
   "metadata": {
    "execution": {
     "iopub.execute_input": "2023-08-24T15:56:51.010739Z",
     "iopub.status.busy": "2023-08-24T15:56:51.010457Z",
     "iopub.status.idle": "2023-08-24T15:56:51.016380Z",
     "shell.execute_reply": "2023-08-24T15:56:51.015499Z"
    },
    "papermill": {
     "duration": 0.073125,
     "end_time": "2023-08-24T15:56:51.018315",
     "exception": false,
     "start_time": "2023-08-24T15:56:50.945190",
     "status": "completed"
    },
    "tags": []
   },
   "outputs": [
    {
     "data": {
      "text/plain": [
       "[1, 2, 3]"
      ]
     },
     "execution_count": 184,
     "metadata": {},
     "output_type": "execute_result"
    }
   ],
   "source": [
    "a  = [1,2,3]\n",
    "a"
   ]
  },
  {
   "cell_type": "code",
   "execution_count": 185,
   "id": "3a18b7bc",
   "metadata": {
    "execution": {
     "iopub.execute_input": "2023-08-24T15:56:51.151099Z",
     "iopub.status.busy": "2023-08-24T15:56:51.150820Z",
     "iopub.status.idle": "2023-08-24T15:56:51.156877Z",
     "shell.execute_reply": "2023-08-24T15:56:51.156025Z"
    },
    "papermill": {
     "duration": 0.074898,
     "end_time": "2023-08-24T15:56:51.158790",
     "exception": false,
     "start_time": "2023-08-24T15:56:51.083892",
     "status": "completed"
    },
    "tags": []
   },
   "outputs": [
    {
     "data": {
      "text/plain": [
       "numpy.ndarray"
      ]
     },
     "execution_count": 185,
     "metadata": {},
     "output_type": "execute_result"
    }
   ],
   "source": [
    "b = np.array([1,2,3])\n",
    "type(b )"
   ]
  },
  {
   "cell_type": "code",
   "execution_count": 186,
   "id": "6e61d163",
   "metadata": {
    "execution": {
     "iopub.execute_input": "2023-08-24T15:56:51.294490Z",
     "iopub.status.busy": "2023-08-24T15:56:51.294143Z",
     "iopub.status.idle": "2023-08-24T15:56:51.298812Z",
     "shell.execute_reply": "2023-08-24T15:56:51.297935Z"
    },
    "papermill": {
     "duration": 0.077473,
     "end_time": "2023-08-24T15:56:51.301043",
     "exception": false,
     "start_time": "2023-08-24T15:56:51.223570",
     "status": "completed"
    },
    "tags": []
   },
   "outputs": [
    {
     "name": "stdout",
     "output_type": "stream",
     "text": [
      "1.23.5\n"
     ]
    }
   ],
   "source": [
    "print(np.__version__)"
   ]
  },
  {
   "cell_type": "code",
   "execution_count": 187,
   "id": "1f76d875",
   "metadata": {
    "execution": {
     "iopub.execute_input": "2023-08-24T15:56:51.434379Z",
     "iopub.status.busy": "2023-08-24T15:56:51.434024Z",
     "iopub.status.idle": "2023-08-24T15:56:51.438769Z",
     "shell.execute_reply": "2023-08-24T15:56:51.437906Z"
    },
    "papermill": {
     "duration": 0.074363,
     "end_time": "2023-08-24T15:56:51.441151",
     "exception": false,
     "start_time": "2023-08-24T15:56:51.366788",
     "status": "completed"
    },
    "tags": []
   },
   "outputs": [
    {
     "name": "stdout",
     "output_type": "stream",
     "text": [
      "1.5.3\n"
     ]
    }
   ],
   "source": [
    "import pandas as pd\n",
    "print(pd.__version__)"
   ]
  },
  {
   "cell_type": "code",
   "execution_count": 188,
   "id": "4dbc8dac",
   "metadata": {
    "execution": {
     "iopub.execute_input": "2023-08-24T15:56:51.578579Z",
     "iopub.status.busy": "2023-08-24T15:56:51.577720Z",
     "iopub.status.idle": "2023-08-24T15:56:51.585363Z",
     "shell.execute_reply": "2023-08-24T15:56:51.584271Z"
    },
    "papermill": {
     "duration": 0.079492,
     "end_time": "2023-08-24T15:56:51.587637",
     "exception": false,
     "start_time": "2023-08-24T15:56:51.508145",
     "status": "completed"
    },
    "tags": []
   },
   "outputs": [
    {
     "data": {
      "text/plain": [
       "array([1, 2, 3, 4, 5])"
      ]
     },
     "execution_count": 188,
     "metadata": {},
     "output_type": "execute_result"
    }
   ],
   "source": [
    "\n",
    "list_data = [1, 2, 3, 4, 5]\n",
    "asha= np.array(list_data)\n",
    "asha"
   ]
  },
  {
   "cell_type": "code",
   "execution_count": 189,
   "id": "ff76fc4e",
   "metadata": {
    "execution": {
     "iopub.execute_input": "2023-08-24T15:56:51.729092Z",
     "iopub.status.busy": "2023-08-24T15:56:51.728299Z",
     "iopub.status.idle": "2023-08-24T15:56:51.735521Z",
     "shell.execute_reply": "2023-08-24T15:56:51.734494Z"
    },
    "papermill": {
     "duration": 0.078087,
     "end_time": "2023-08-24T15:56:51.737903",
     "exception": false,
     "start_time": "2023-08-24T15:56:51.659816",
     "status": "completed"
    },
    "tags": []
   },
   "outputs": [
    {
     "data": {
      "text/plain": [
       "array([[0., 0., 0.],\n",
       "       [0., 0., 0.]])"
      ]
     },
     "execution_count": 189,
     "metadata": {},
     "output_type": "execute_result"
    }
   ],
   "source": [
    "zeros_array = np.zeros((2,3))\n",
    "zeros_array"
   ]
  },
  {
   "cell_type": "code",
   "execution_count": 190,
   "id": "fe1507e8",
   "metadata": {
    "execution": {
     "iopub.execute_input": "2023-08-24T15:56:51.878333Z",
     "iopub.status.busy": "2023-08-24T15:56:51.878000Z",
     "iopub.status.idle": "2023-08-24T15:56:51.885260Z",
     "shell.execute_reply": "2023-08-24T15:56:51.884307Z"
    },
    "papermill": {
     "duration": 0.076652,
     "end_time": "2023-08-24T15:56:51.887301",
     "exception": false,
     "start_time": "2023-08-24T15:56:51.810649",
     "status": "completed"
    },
    "tags": []
   },
   "outputs": [
    {
     "data": {
      "text/plain": [
       "array([[60., 60., 60.],\n",
       "       [60., 60., 60.]])"
      ]
     },
     "execution_count": 190,
     "metadata": {},
     "output_type": "execute_result"
    }
   ],
   "source": [
    "# np.ones(): \n",
    "#Creates an array filled with ones.\n",
    "\n",
    "ones_array = 60 * np.ones((2, 3)) \n",
    "# creates a 2x3 array filled with ones\n",
    "ones_array"
   ]
  },
  {
   "cell_type": "code",
   "execution_count": 191,
   "id": "a3a22c12",
   "metadata": {
    "execution": {
     "iopub.execute_input": "2023-08-24T15:56:52.022025Z",
     "iopub.status.busy": "2023-08-24T15:56:52.021146Z",
     "iopub.status.idle": "2023-08-24T15:56:52.027771Z",
     "shell.execute_reply": "2023-08-24T15:56:52.026826Z"
    },
    "papermill": {
     "duration": 0.07648,
     "end_time": "2023-08-24T15:56:52.029982",
     "exception": false,
     "start_time": "2023-08-24T15:56:51.953502",
     "status": "completed"
    },
    "tags": []
   },
   "outputs": [
    {
     "data": {
      "text/plain": [
       "array([[60, 60, 60],\n",
       "       [60, 60, 60]])"
      ]
     },
     "execution_count": 191,
     "metadata": {},
     "output_type": "execute_result"
    }
   ],
   "source": [
    "constant_array = np.full((2, 3), 60)  \n",
    "constant_array "
   ]
  },
  {
   "cell_type": "code",
   "execution_count": 192,
   "id": "e8ada2d1",
   "metadata": {
    "execution": {
     "iopub.execute_input": "2023-08-24T15:56:52.168406Z",
     "iopub.status.busy": "2023-08-24T15:56:52.167765Z",
     "iopub.status.idle": "2023-08-24T15:56:52.175104Z",
     "shell.execute_reply": "2023-08-24T15:56:52.174036Z"
    },
    "papermill": {
     "duration": 0.077378,
     "end_time": "2023-08-24T15:56:52.177280",
     "exception": false,
     "start_time": "2023-08-24T15:56:52.099902",
     "status": "completed"
    },
    "tags": []
   },
   "outputs": [
    {
     "data": {
      "text/plain": [
       "array([0, 2, 4, 6, 8])"
      ]
     },
     "execution_count": 192,
     "metadata": {},
     "output_type": "execute_result"
    }
   ],
   "source": [
    "range_array = np.arange(0, 10, 2) \n",
    "range_array"
   ]
  },
  {
   "cell_type": "code",
   "execution_count": 193,
   "id": "da4328bd",
   "metadata": {
    "execution": {
     "iopub.execute_input": "2023-08-24T15:56:52.324551Z",
     "iopub.status.busy": "2023-08-24T15:56:52.323625Z",
     "iopub.status.idle": "2023-08-24T15:56:52.331640Z",
     "shell.execute_reply": "2023-08-24T15:56:52.330516Z"
    },
    "papermill": {
     "duration": 0.082265,
     "end_time": "2023-08-24T15:56:52.334001",
     "exception": false,
     "start_time": "2023-08-24T15:56:52.251736",
     "status": "completed"
    },
    "tags": []
   },
   "outputs": [
    {
     "data": {
      "text/plain": [
       "array([12., 14., 16., 18., 20., 22.])"
      ]
     },
     "execution_count": 193,
     "metadata": {},
     "output_type": "execute_result"
    }
   ],
   "source": [
    "linspace_array = np.linspace(12,22, 6) \n",
    "linspace_array"
   ]
  },
  {
   "cell_type": "code",
   "execution_count": 194,
   "id": "fa464d37",
   "metadata": {
    "execution": {
     "iopub.execute_input": "2023-08-24T15:56:52.474454Z",
     "iopub.status.busy": "2023-08-24T15:56:52.473630Z",
     "iopub.status.idle": "2023-08-24T15:56:52.480470Z",
     "shell.execute_reply": "2023-08-24T15:56:52.479411Z"
    },
    "papermill": {
     "duration": 0.076344,
     "end_time": "2023-08-24T15:56:52.482767",
     "exception": false,
     "start_time": "2023-08-24T15:56:52.406423",
     "status": "completed"
    },
    "tags": []
   },
   "outputs": [
    {
     "data": {
      "text/plain": [
       "array([[0.61199651, 0.5422959 , 0.17714572],\n",
       "       [0.58128085, 0.36404382, 0.74624114],\n",
       "       [0.36565737, 0.47224031, 0.32629527]])"
      ]
     },
     "execution_count": 194,
     "metadata": {},
     "output_type": "execute_result"
    }
   ],
   "source": [
    "random_array =  np.random.rand(3, 3)\n",
    "random_array "
   ]
  },
  {
   "cell_type": "code",
   "execution_count": 195,
   "id": "64b56744",
   "metadata": {
    "execution": {
     "iopub.execute_input": "2023-08-24T15:56:52.621664Z",
     "iopub.status.busy": "2023-08-24T15:56:52.620769Z",
     "iopub.status.idle": "2023-08-24T15:56:52.628030Z",
     "shell.execute_reply": "2023-08-24T15:56:52.627083Z"
    },
    "papermill": {
     "duration": 0.076217,
     "end_time": "2023-08-24T15:56:52.630180",
     "exception": false,
     "start_time": "2023-08-24T15:56:52.553963",
     "status": "completed"
    },
    "tags": []
   },
   "outputs": [
    {
     "data": {
      "text/plain": [
       "array([[73, 71, 77],\n",
       "       [89, 88, 74],\n",
       "       [83, 77, 84]])"
      ]
     },
     "execution_count": 195,
     "metadata": {},
     "output_type": "execute_result"
    }
   ],
   "source": [
    "random_int_array = np.random.randint(70, 90, size=(3, 3)) \n",
    "random_int_array "
   ]
  },
  {
   "cell_type": "code",
   "execution_count": 196,
   "id": "ee576655",
   "metadata": {
    "execution": {
     "iopub.execute_input": "2023-08-24T15:56:52.775668Z",
     "iopub.status.busy": "2023-08-24T15:56:52.773720Z",
     "iopub.status.idle": "2023-08-24T15:56:52.781478Z",
     "shell.execute_reply": "2023-08-24T15:56:52.780444Z"
    },
    "papermill": {
     "duration": 0.079325,
     "end_time": "2023-08-24T15:56:52.783516",
     "exception": false,
     "start_time": "2023-08-24T15:56:52.704191",
     "status": "completed"
    },
    "tags": []
   },
   "outputs": [
    {
     "data": {
      "text/plain": [
       "(1, 6)"
      ]
     },
     "execution_count": 196,
     "metadata": {},
     "output_type": "execute_result"
    }
   ],
   "source": [
    "arr = np.array([[1, 2, 3, 4, 5, 6]])\n",
    "arr.shape\n",
    "# new_arr = arr.reshape((2, 3))"
   ]
  },
  {
   "cell_type": "code",
   "execution_count": 197,
   "id": "95e69c0c",
   "metadata": {
    "execution": {
     "iopub.execute_input": "2023-08-24T15:56:52.919602Z",
     "iopub.status.busy": "2023-08-24T15:56:52.919299Z",
     "iopub.status.idle": "2023-08-24T15:56:52.924883Z",
     "shell.execute_reply": "2023-08-24T15:56:52.923859Z"
    },
    "papermill": {
     "duration": 0.075926,
     "end_time": "2023-08-24T15:56:52.927649",
     "exception": false,
     "start_time": "2023-08-24T15:56:52.851723",
     "status": "completed"
    },
    "tags": []
   },
   "outputs": [
    {
     "name": "stdout",
     "output_type": "stream",
     "text": [
      "[[1 2 3 4 5 6]]\n"
     ]
    }
   ],
   "source": [
    "print(arr)"
   ]
  },
  {
   "cell_type": "code",
   "execution_count": 198,
   "id": "0f31b58a",
   "metadata": {
    "execution": {
     "iopub.execute_input": "2023-08-24T15:56:53.069080Z",
     "iopub.status.busy": "2023-08-24T15:56:53.068323Z",
     "iopub.status.idle": "2023-08-24T15:56:53.075047Z",
     "shell.execute_reply": "2023-08-24T15:56:53.074065Z"
    },
    "papermill": {
     "duration": 0.077876,
     "end_time": "2023-08-24T15:56:53.077228",
     "exception": false,
     "start_time": "2023-08-24T15:56:52.999352",
     "status": "completed"
    },
    "tags": []
   },
   "outputs": [
    {
     "data": {
      "text/plain": [
       "array([[1, 2, 3],\n",
       "       [4, 5, 6]])"
      ]
     },
     "execution_count": 198,
     "metadata": {},
     "output_type": "execute_result"
    }
   ],
   "source": [
    "arr.reshape(2,3)"
   ]
  },
  {
   "cell_type": "code",
   "execution_count": 199,
   "id": "9b3ef0ab",
   "metadata": {
    "execution": {
     "iopub.execute_input": "2023-08-24T15:56:53.220039Z",
     "iopub.status.busy": "2023-08-24T15:56:53.219732Z",
     "iopub.status.idle": "2023-08-24T15:56:53.226214Z",
     "shell.execute_reply": "2023-08-24T15:56:53.225212Z"
    },
    "papermill": {
     "duration": 0.078174,
     "end_time": "2023-08-24T15:56:53.228615",
     "exception": false,
     "start_time": "2023-08-24T15:56:53.150441",
     "status": "completed"
    },
    "tags": []
   },
   "outputs": [
    {
     "data": {
      "text/plain": [
       "array([[1, 2],\n",
       "       [3, 4],\n",
       "       [5, 6]])"
      ]
     },
     "execution_count": 199,
     "metadata": {},
     "output_type": "execute_result"
    }
   ],
   "source": [
    "arr.reshape(3,2)"
   ]
  },
  {
   "cell_type": "code",
   "execution_count": 200,
   "id": "ef236c27",
   "metadata": {
    "execution": {
     "iopub.execute_input": "2023-08-24T15:56:53.382702Z",
     "iopub.status.busy": "2023-08-24T15:56:53.381718Z",
     "iopub.status.idle": "2023-08-24T15:56:53.388581Z",
     "shell.execute_reply": "2023-08-24T15:56:53.387577Z"
    },
    "papermill": {
     "duration": 0.081051,
     "end_time": "2023-08-24T15:56:53.390667",
     "exception": false,
     "start_time": "2023-08-24T15:56:53.309616",
     "status": "completed"
    },
    "tags": []
   },
   "outputs": [
    {
     "data": {
      "text/plain": [
       "2"
      ]
     },
     "execution_count": 200,
     "metadata": {},
     "output_type": "execute_result"
    }
   ],
   "source": [
    "#rr.reshape(3,2)\n",
    "arr.ndim"
   ]
  },
  {
   "cell_type": "code",
   "execution_count": 201,
   "id": "727f2659",
   "metadata": {
    "execution": {
     "iopub.execute_input": "2023-08-24T15:56:53.529079Z",
     "iopub.status.busy": "2023-08-24T15:56:53.528224Z",
     "iopub.status.idle": "2023-08-24T15:56:53.535178Z",
     "shell.execute_reply": "2023-08-24T15:56:53.534160Z"
    },
    "papermill": {
     "duration": 0.077167,
     "end_time": "2023-08-24T15:56:53.537403",
     "exception": false,
     "start_time": "2023-08-24T15:56:53.460236",
     "status": "completed"
    },
    "tags": []
   },
   "outputs": [
    {
     "data": {
      "text/plain": [
       "array([1, 2, 3])"
      ]
     },
     "execution_count": 201,
     "metadata": {},
     "output_type": "execute_result"
    }
   ],
   "source": [
    "arr = np.array([1, 2, 3])\n",
    "arr"
   ]
  },
  {
   "cell_type": "code",
   "execution_count": 202,
   "id": "bdf617f9",
   "metadata": {
    "execution": {
     "iopub.execute_input": "2023-08-24T15:56:53.680536Z",
     "iopub.status.busy": "2023-08-24T15:56:53.679687Z",
     "iopub.status.idle": "2023-08-24T15:56:53.687281Z",
     "shell.execute_reply": "2023-08-24T15:56:53.686138Z"
    },
    "papermill": {
     "duration": 0.079071,
     "end_time": "2023-08-24T15:56:53.689566",
     "exception": false,
     "start_time": "2023-08-24T15:56:53.610495",
     "status": "completed"
    },
    "tags": []
   },
   "outputs": [
    {
     "data": {
      "text/plain": [
       "array([1., 2., 3.])"
      ]
     },
     "execution_count": 202,
     "metadata": {},
     "output_type": "execute_result"
    }
   ],
   "source": [
    "arr = np.array([1, 2, 3], dtype=float) \n",
    "arr"
   ]
  },
  {
   "cell_type": "code",
   "execution_count": 203,
   "id": "f519f411",
   "metadata": {
    "execution": {
     "iopub.execute_input": "2023-08-24T15:56:53.831535Z",
     "iopub.status.busy": "2023-08-24T15:56:53.830791Z",
     "iopub.status.idle": "2023-08-24T15:56:53.839115Z",
     "shell.execute_reply": "2023-08-24T15:56:53.837994Z"
    },
    "papermill": {
     "duration": 0.079147,
     "end_time": "2023-08-24T15:56:53.841449",
     "exception": false,
     "start_time": "2023-08-24T15:56:53.762302",
     "status": "completed"
    },
    "tags": []
   },
   "outputs": [
    {
     "data": {
      "text/plain": [
       "array([5, 7, 9])"
      ]
     },
     "execution_count": 203,
     "metadata": {},
     "output_type": "execute_result"
    }
   ],
   "source": [
    "import numpy as np\n",
    "\n",
    "arr1 = np.array([1, 2, 3])\n",
    "arr2 = np.array([4, 5, 6])\n",
    "\n",
    "# Addition\n",
    "result_add = arr1 + arr2\n",
    "result_add\n",
    "\n",
    "# # Subtraction\n",
    "# result_sub = arr1 - arr2\n",
    "\n",
    "# # Multiplication\n",
    "# result_mul = arr1 * arr2\n",
    "\n",
    "# # Division\n",
    "# result_div = arr1 / arr2"
   ]
  },
  {
   "cell_type": "code",
   "execution_count": 204,
   "id": "f4f549b1",
   "metadata": {
    "execution": {
     "iopub.execute_input": "2023-08-24T15:56:53.989659Z",
     "iopub.status.busy": "2023-08-24T15:56:53.989049Z",
     "iopub.status.idle": "2023-08-24T15:56:53.997167Z",
     "shell.execute_reply": "2023-08-24T15:56:53.995896Z"
    },
    "papermill": {
     "duration": 0.082251,
     "end_time": "2023-08-24T15:56:53.999731",
     "exception": false,
     "start_time": "2023-08-24T15:56:53.917480",
     "status": "completed"
    },
    "tags": []
   },
   "outputs": [
    {
     "data": {
      "text/plain": [
       "array([11, 12, 13])"
      ]
     },
     "execution_count": 204,
     "metadata": {},
     "output_type": "execute_result"
    }
   ],
   "source": [
    "arr = np.array([1, 2, 3])\n",
    "\n",
    "arr1  = np.array([10, 10, 10])\n",
    "arr + arr1"
   ]
  },
  {
   "cell_type": "code",
   "execution_count": 205,
   "id": "c03193d2",
   "metadata": {
    "execution": {
     "iopub.execute_input": "2023-08-24T15:56:54.145397Z",
     "iopub.status.busy": "2023-08-24T15:56:54.145021Z",
     "iopub.status.idle": "2023-08-24T15:56:54.151460Z",
     "shell.execute_reply": "2023-08-24T15:56:54.150454Z"
    },
    "papermill": {
     "duration": 0.079188,
     "end_time": "2023-08-24T15:56:54.153652",
     "exception": false,
     "start_time": "2023-08-24T15:56:54.074464",
     "status": "completed"
    },
    "tags": []
   },
   "outputs": [
    {
     "data": {
      "text/plain": [
       "array([11, 12, 13])"
      ]
     },
     "execution_count": 205,
     "metadata": {},
     "output_type": "execute_result"
    }
   ],
   "source": [
    "arr = np.array([1, 2, 3])\n",
    "arr + 10 "
   ]
  },
  {
   "cell_type": "code",
   "execution_count": null,
   "id": "f8fddf63",
   "metadata": {
    "papermill": {
     "duration": 0.078882,
     "end_time": "2023-08-24T15:56:54.308015",
     "exception": false,
     "start_time": "2023-08-24T15:56:54.229133",
     "status": "completed"
    },
    "tags": []
   },
   "outputs": [],
   "source": []
  },
  {
   "cell_type": "code",
   "execution_count": null,
   "id": "818068e3",
   "metadata": {
    "papermill": {
     "duration": 0.072023,
     "end_time": "2023-08-24T15:56:54.453814",
     "exception": false,
     "start_time": "2023-08-24T15:56:54.381791",
     "status": "completed"
    },
    "tags": []
   },
   "outputs": [],
   "source": []
  },
  {
   "cell_type": "code",
   "execution_count": null,
   "id": "8af5b7e7",
   "metadata": {
    "papermill": {
     "duration": 0.067411,
     "end_time": "2023-08-24T15:56:54.591311",
     "exception": false,
     "start_time": "2023-08-24T15:56:54.523900",
     "status": "completed"
    },
    "tags": []
   },
   "outputs": [],
   "source": []
  }
 ],
 "metadata": {
  "kernelspec": {
   "display_name": "Python 3",
   "language": "python",
   "name": "python3"
  },
  "language_info": {
   "codemirror_mode": {
    "name": "ipython",
    "version": 3
   },
   "file_extension": ".py",
   "mimetype": "text/x-python",
   "name": "python",
   "nbconvert_exporter": "python",
   "pygments_lexer": "ipython3",
   "version": "3.10.12"
  },
  "papermill": {
   "default_parameters": {},
   "duration": 43.459646,
   "end_time": "2023-08-24T15:56:55.281919",
   "environment_variables": {},
   "exception": null,
   "input_path": "__notebook__.ipynb",
   "output_path": "__notebook__.ipynb",
   "parameters": {},
   "start_time": "2023-08-24T15:56:11.822273",
   "version": "2.4.0"
  }
 },
 "nbformat": 4,
 "nbformat_minor": 5
}
