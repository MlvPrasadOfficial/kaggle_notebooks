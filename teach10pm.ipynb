{
 "cells": [
  {
   "cell_type": "code",
   "execution_count": 1,
   "id": "79352d22",
   "metadata": {
    "_cell_guid": "b1076dfc-b9ad-4769-8c92-a6c4dae69d19",
    "_uuid": "8f2839f25d086af736a60e9eeb907d3b93b6e0e5",
    "execution": {
     "iopub.execute_input": "2023-08-24T16:20:05.100173Z",
     "iopub.status.busy": "2023-08-24T16:20:05.099389Z",
     "iopub.status.idle": "2023-08-24T16:20:05.113253Z",
     "shell.execute_reply": "2023-08-24T16:20:05.111799Z"
    },
    "papermill": {
     "duration": 0.074955,
     "end_time": "2023-08-24T16:20:05.115366",
     "exception": false,
     "start_time": "2023-08-24T16:20:05.040411",
     "status": "completed"
    },
    "tags": []
   },
   "outputs": [
    {
     "name": "stdout",
     "output_type": "stream",
     "text": [
      "sharma is a good boy\n"
     ]
    }
   ],
   "source": [
    "# 0/p\n",
    "print(\"sharma is a good boy\")"
   ]
  },
  {
   "cell_type": "code",
   "execution_count": 2,
   "id": "9204d16a",
   "metadata": {
    "execution": {
     "iopub.execute_input": "2023-08-24T16:20:05.226211Z",
     "iopub.status.busy": "2023-08-24T16:20:05.225861Z",
     "iopub.status.idle": "2023-08-24T16:20:05.229886Z",
     "shell.execute_reply": "2023-08-24T16:20:05.229014Z"
    },
    "papermill": {
     "duration": 0.0621,
     "end_time": "2023-08-24T16:20:05.231909",
     "exception": false,
     "start_time": "2023-08-24T16:20:05.169809",
     "status": "completed"
    },
    "tags": []
   },
   "outputs": [],
   "source": [
    "# i/p\n",
    "\n",
    "# name = input()\n",
    "# print(name , \" is a good boy\")"
   ]
  },
  {
   "cell_type": "code",
   "execution_count": 3,
   "id": "9ee97ae2",
   "metadata": {
    "execution": {
     "iopub.execute_input": "2023-08-24T16:20:05.336873Z",
     "iopub.status.busy": "2023-08-24T16:20:05.336279Z",
     "iopub.status.idle": "2023-08-24T16:20:05.342110Z",
     "shell.execute_reply": "2023-08-24T16:20:05.341194Z"
    },
    "papermill": {
     "duration": 0.061989,
     "end_time": "2023-08-24T16:20:05.344298",
     "exception": false,
     "start_time": "2023-08-24T16:20:05.282309",
     "status": "completed"
    },
    "tags": []
   },
   "outputs": [
    {
     "name": "stdout",
     "output_type": "stream",
     "text": [
      "yasmin\n",
      "----\n",
      "yasmin\n",
      "asha\n"
     ]
    }
   ],
   "source": [
    "name = \"yasmin\"\n",
    "\n",
    "print(name)\n",
    "print(\"----\")\n",
    "print(name)\n",
    "name = \"asha\" \n",
    "\n",
    "print(name)"
   ]
  },
  {
   "cell_type": "code",
   "execution_count": 4,
   "id": "dd83c289",
   "metadata": {
    "execution": {
     "iopub.execute_input": "2023-08-24T16:20:05.448523Z",
     "iopub.status.busy": "2023-08-24T16:20:05.447825Z",
     "iopub.status.idle": "2023-08-24T16:20:05.455330Z",
     "shell.execute_reply": "2023-08-24T16:20:05.454410Z"
    },
    "papermill": {
     "duration": 0.061473,
     "end_time": "2023-08-24T16:20:05.457436",
     "exception": false,
     "start_time": "2023-08-24T16:20:05.395963",
     "status": "completed"
    },
    "tags": []
   },
   "outputs": [
    {
     "data": {
      "text/plain": [
       "int"
      ]
     },
     "execution_count": 4,
     "metadata": {},
     "output_type": "execute_result"
    }
   ],
   "source": [
    "a = 7\n",
    "\n",
    "type(a)\n"
   ]
  },
  {
   "cell_type": "code",
   "execution_count": 5,
   "id": "c714756c",
   "metadata": {
    "execution": {
     "iopub.execute_input": "2023-08-24T16:20:05.560868Z",
     "iopub.status.busy": "2023-08-24T16:20:05.560586Z",
     "iopub.status.idle": "2023-08-24T16:20:05.566225Z",
     "shell.execute_reply": "2023-08-24T16:20:05.565347Z"
    },
    "papermill": {
     "duration": 0.059555,
     "end_time": "2023-08-24T16:20:05.568206",
     "exception": false,
     "start_time": "2023-08-24T16:20:05.508651",
     "status": "completed"
    },
    "tags": []
   },
   "outputs": [
    {
     "data": {
      "text/plain": [
       "float"
      ]
     },
     "execution_count": 5,
     "metadata": {},
     "output_type": "execute_result"
    }
   ],
   "source": [
    "b = 7.5\n",
    "\n",
    "type(b)"
   ]
  },
  {
   "cell_type": "code",
   "execution_count": 6,
   "id": "9b3142c5",
   "metadata": {
    "execution": {
     "iopub.execute_input": "2023-08-24T16:20:05.673782Z",
     "iopub.status.busy": "2023-08-24T16:20:05.673501Z",
     "iopub.status.idle": "2023-08-24T16:20:05.679187Z",
     "shell.execute_reply": "2023-08-24T16:20:05.678274Z"
    },
    "papermill": {
     "duration": 0.060246,
     "end_time": "2023-08-24T16:20:05.681118",
     "exception": false,
     "start_time": "2023-08-24T16:20:05.620872",
     "status": "completed"
    },
    "tags": []
   },
   "outputs": [
    {
     "data": {
      "text/plain": [
       "str"
      ]
     },
     "execution_count": 6,
     "metadata": {},
     "output_type": "execute_result"
    }
   ],
   "source": [
    "c = \"sharma\"\n",
    "type(c)"
   ]
  },
  {
   "cell_type": "code",
   "execution_count": 7,
   "id": "d525a958",
   "metadata": {
    "execution": {
     "iopub.execute_input": "2023-08-24T16:20:05.786518Z",
     "iopub.status.busy": "2023-08-24T16:20:05.786183Z",
     "iopub.status.idle": "2023-08-24T16:20:05.792719Z",
     "shell.execute_reply": "2023-08-24T16:20:05.791653Z"
    },
    "papermill": {
     "duration": 0.06361,
     "end_time": "2023-08-24T16:20:05.796239",
     "exception": false,
     "start_time": "2023-08-24T16:20:05.732629",
     "status": "completed"
    },
    "tags": []
   },
   "outputs": [
    {
     "data": {
      "text/plain": [
       "str"
      ]
     },
     "execution_count": 7,
     "metadata": {},
     "output_type": "execute_result"
    }
   ],
   "source": [
    "d = \"44-5-14\"\n",
    "\n",
    "type(d)"
   ]
  },
  {
   "cell_type": "code",
   "execution_count": 8,
   "id": "a3b07032",
   "metadata": {
    "execution": {
     "iopub.execute_input": "2023-08-24T16:20:05.904512Z",
     "iopub.status.busy": "2023-08-24T16:20:05.904202Z",
     "iopub.status.idle": "2023-08-24T16:20:05.910222Z",
     "shell.execute_reply": "2023-08-24T16:20:05.909349Z"
    },
    "papermill": {
     "duration": 0.06292,
     "end_time": "2023-08-24T16:20:05.912202",
     "exception": false,
     "start_time": "2023-08-24T16:20:05.849282",
     "status": "completed"
    },
    "tags": []
   },
   "outputs": [
    {
     "data": {
      "text/plain": [
       "str"
      ]
     },
     "execution_count": 8,
     "metadata": {},
     "output_type": "execute_result"
    }
   ],
   "source": [
    "e = \"19\"\n",
    "type(e)"
   ]
  },
  {
   "cell_type": "code",
   "execution_count": 9,
   "id": "a3caf015",
   "metadata": {
    "execution": {
     "iopub.execute_input": "2023-08-24T16:20:06.021452Z",
     "iopub.status.busy": "2023-08-24T16:20:06.020886Z",
     "iopub.status.idle": "2023-08-24T16:20:06.026640Z",
     "shell.execute_reply": "2023-08-24T16:20:06.025654Z"
    },
    "papermill": {
     "duration": 0.0617,
     "end_time": "2023-08-24T16:20:06.028667",
     "exception": false,
     "start_time": "2023-08-24T16:20:05.966967",
     "status": "completed"
    },
    "tags": []
   },
   "outputs": [
    {
     "data": {
      "text/plain": [
       "int"
      ]
     },
     "execution_count": 9,
     "metadata": {},
     "output_type": "execute_result"
    }
   ],
   "source": [
    "f = 19\n",
    "type(f)"
   ]
  },
  {
   "cell_type": "code",
   "execution_count": 10,
   "id": "a2061d8d",
   "metadata": {
    "execution": {
     "iopub.execute_input": "2023-08-24T16:20:06.135303Z",
     "iopub.status.busy": "2023-08-24T16:20:06.134391Z",
     "iopub.status.idle": "2023-08-24T16:20:06.140999Z",
     "shell.execute_reply": "2023-08-24T16:20:06.139609Z"
    },
    "papermill": {
     "duration": 0.062559,
     "end_time": "2023-08-24T16:20:06.143092",
     "exception": false,
     "start_time": "2023-08-24T16:20:06.080533",
     "status": "completed"
    },
    "tags": []
   },
   "outputs": [
    {
     "name": "stdout",
     "output_type": "stream",
     "text": [
      "<class 'int'>\n",
      "<class 'str'>\n"
     ]
    }
   ],
   "source": [
    "#type casting\n",
    "\n",
    "num = 19\n",
    "print(type(num))\n",
    "\n",
    "num = str(num)\n",
    "print(type(num))"
   ]
  },
  {
   "cell_type": "code",
   "execution_count": 11,
   "id": "076f5143",
   "metadata": {
    "execution": {
     "iopub.execute_input": "2023-08-24T16:20:06.256994Z",
     "iopub.status.busy": "2023-08-24T16:20:06.256070Z",
     "iopub.status.idle": "2023-08-24T16:20:06.262727Z",
     "shell.execute_reply": "2023-08-24T16:20:06.261645Z"
    },
    "papermill": {
     "duration": 0.06719,
     "end_time": "2023-08-24T16:20:06.264888",
     "exception": false,
     "start_time": "2023-08-24T16:20:06.197698",
     "status": "completed"
    },
    "tags": []
   },
   "outputs": [
    {
     "name": "stdout",
     "output_type": "stream",
     "text": [
      "19 <class 'int'>\n",
      "19.0 <class 'float'>\n",
      "19.0 <class 'str'>\n"
     ]
    }
   ],
   "source": [
    "num = 19\n",
    "print(num, type(num))\n",
    "num = float(num) # 19.0\n",
    "print(num, type(num))\n",
    "num = str(num)\n",
    "print(num, type(num))"
   ]
  },
  {
   "cell_type": "code",
   "execution_count": 12,
   "id": "9471b6b2",
   "metadata": {
    "execution": {
     "iopub.execute_input": "2023-08-24T16:20:06.377773Z",
     "iopub.status.busy": "2023-08-24T16:20:06.377449Z",
     "iopub.status.idle": "2023-08-24T16:20:06.382021Z",
     "shell.execute_reply": "2023-08-24T16:20:06.380915Z"
    },
    "papermill": {
     "duration": 0.06466,
     "end_time": "2023-08-24T16:20:06.384297",
     "exception": false,
     "start_time": "2023-08-24T16:20:06.319637",
     "status": "completed"
    },
    "tags": []
   },
   "outputs": [],
   "source": [
    "# 3num = 19"
   ]
  },
  {
   "cell_type": "code",
   "execution_count": 13,
   "id": "aaa5f048",
   "metadata": {
    "execution": {
     "iopub.execute_input": "2023-08-24T16:20:06.490414Z",
     "iopub.status.busy": "2023-08-24T16:20:06.490132Z",
     "iopub.status.idle": "2023-08-24T16:20:06.494624Z",
     "shell.execute_reply": "2023-08-24T16:20:06.493653Z"
    },
    "papermill": {
     "duration": 0.059139,
     "end_time": "2023-08-24T16:20:06.496698",
     "exception": false,
     "start_time": "2023-08-24T16:20:06.437559",
     "status": "completed"
    },
    "tags": []
   },
   "outputs": [],
   "source": [
    "mynameissharma = 19\n",
    "my_name_is_sharma = 20\n",
    "# myNameIsSharma"
   ]
  },
  {
   "cell_type": "code",
   "execution_count": 14,
   "id": "af5db9f4",
   "metadata": {
    "execution": {
     "iopub.execute_input": "2023-08-24T16:20:06.601020Z",
     "iopub.status.busy": "2023-08-24T16:20:06.600719Z",
     "iopub.status.idle": "2023-08-24T16:20:06.605534Z",
     "shell.execute_reply": "2023-08-24T16:20:06.604677Z"
    },
    "papermill": {
     "duration": 0.059707,
     "end_time": "2023-08-24T16:20:06.607998",
     "exception": false,
     "start_time": "2023-08-24T16:20:06.548291",
     "status": "completed"
    },
    "tags": []
   },
   "outputs": [
    {
     "name": "stdout",
     "output_type": "stream",
     "text": [
      "9 __ 8\n"
     ]
    }
   ],
   "source": [
    "a = 9\n",
    "b = 8\n",
    "print(a, \"__\", b)"
   ]
  },
  {
   "cell_type": "code",
   "execution_count": 15,
   "id": "5a35775a",
   "metadata": {
    "execution": {
     "iopub.execute_input": "2023-08-24T16:20:06.716911Z",
     "iopub.status.busy": "2023-08-24T16:20:06.716614Z",
     "iopub.status.idle": "2023-08-24T16:20:06.721582Z",
     "shell.execute_reply": "2023-08-24T16:20:06.720626Z"
    },
    "papermill": {
     "duration": 0.063578,
     "end_time": "2023-08-24T16:20:06.723992",
     "exception": false,
     "start_time": "2023-08-24T16:20:06.660414",
     "status": "completed"
    },
    "tags": []
   },
   "outputs": [
    {
     "name": "stdout",
     "output_type": "stream",
     "text": [
      "9 __ 8\n"
     ]
    }
   ],
   "source": [
    "a, b = 9,8 \n",
    "print(a, \"__\", b)"
   ]
  },
  {
   "cell_type": "code",
   "execution_count": 16,
   "id": "4831d7e0",
   "metadata": {
    "execution": {
     "iopub.execute_input": "2023-08-24T16:20:06.832615Z",
     "iopub.status.busy": "2023-08-24T16:20:06.832295Z",
     "iopub.status.idle": "2023-08-24T16:20:06.837410Z",
     "shell.execute_reply": "2023-08-24T16:20:06.836501Z"
    },
    "papermill": {
     "duration": 0.061837,
     "end_time": "2023-08-24T16:20:06.839828",
     "exception": false,
     "start_time": "2023-08-24T16:20:06.777991",
     "status": "completed"
    },
    "tags": []
   },
   "outputs": [
    {
     "name": "stdout",
     "output_type": "stream",
     "text": [
      "Orange\n",
      "Banana\n",
      "Cherry\n"
     ]
    }
   ],
   "source": [
    "x, y, z = \"Orange\", \"Banana\", \"Cherry\"\n",
    "print(x)\n",
    "print(y)\n",
    "print(z)"
   ]
  },
  {
   "cell_type": "code",
   "execution_count": 17,
   "id": "b85e471f",
   "metadata": {
    "execution": {
     "iopub.execute_input": "2023-08-24T16:20:06.944726Z",
     "iopub.status.busy": "2023-08-24T16:20:06.944388Z",
     "iopub.status.idle": "2023-08-24T16:20:06.949513Z",
     "shell.execute_reply": "2023-08-24T16:20:06.948628Z"
    },
    "papermill": {
     "duration": 0.060252,
     "end_time": "2023-08-24T16:20:06.951997",
     "exception": false,
     "start_time": "2023-08-24T16:20:06.891745",
     "status": "completed"
    },
    "tags": []
   },
   "outputs": [
    {
     "name": "stdout",
     "output_type": "stream",
     "text": [
      "Orange\n",
      "Banana\n",
      "Cherry\n"
     ]
    }
   ],
   "source": [
    "x =  \"Orange\"\n",
    "y =  \"Banana\"\n",
    "z =  \"Cherry\"\n",
    "print(x)\n",
    "print(y)\n",
    "print(z)"
   ]
  },
  {
   "cell_type": "code",
   "execution_count": 18,
   "id": "00f6af7c",
   "metadata": {
    "execution": {
     "iopub.execute_input": "2023-08-24T16:20:07.058150Z",
     "iopub.status.busy": "2023-08-24T16:20:07.057821Z",
     "iopub.status.idle": "2023-08-24T16:20:07.063922Z",
     "shell.execute_reply": "2023-08-24T16:20:07.063014Z"
    },
    "papermill": {
     "duration": 0.062187,
     "end_time": "2023-08-24T16:20:07.065868",
     "exception": false,
     "start_time": "2023-08-24T16:20:07.003681",
     "status": "completed"
    },
    "tags": []
   },
   "outputs": [
    {
     "data": {
      "text/plain": [
       "int"
      ]
     },
     "execution_count": 18,
     "metadata": {},
     "output_type": "execute_result"
    }
   ],
   "source": [
    "a  = 9 \n",
    "type(a)"
   ]
  },
  {
   "cell_type": "code",
   "execution_count": 19,
   "id": "ad7cd004",
   "metadata": {
    "execution": {
     "iopub.execute_input": "2023-08-24T16:20:07.173308Z",
     "iopub.status.busy": "2023-08-24T16:20:07.172455Z",
     "iopub.status.idle": "2023-08-24T16:20:07.179112Z",
     "shell.execute_reply": "2023-08-24T16:20:07.178010Z"
    },
    "papermill": {
     "duration": 0.06216,
     "end_time": "2023-08-24T16:20:07.181259",
     "exception": false,
     "start_time": "2023-08-24T16:20:07.119099",
     "status": "completed"
    },
    "tags": []
   },
   "outputs": [
    {
     "data": {
      "text/plain": [
       "list"
      ]
     },
     "execution_count": 19,
     "metadata": {},
     "output_type": "execute_result"
    }
   ],
   "source": [
    "a = [9]\n",
    "type(a)\n"
   ]
  },
  {
   "cell_type": "code",
   "execution_count": 20,
   "id": "17411912",
   "metadata": {
    "execution": {
     "iopub.execute_input": "2023-08-24T16:20:07.295459Z",
     "iopub.status.busy": "2023-08-24T16:20:07.294026Z",
     "iopub.status.idle": "2023-08-24T16:20:07.302960Z",
     "shell.execute_reply": "2023-08-24T16:20:07.301875Z"
    },
    "papermill": {
     "duration": 0.06674,
     "end_time": "2023-08-24T16:20:07.305095",
     "exception": false,
     "start_time": "2023-08-24T16:20:07.238355",
     "status": "completed"
    },
    "tags": []
   },
   "outputs": [
    {
     "data": {
      "text/plain": [
       "[20, 'sharma', 'prasad', 4, 45, 4543, 454354]"
      ]
     },
     "execution_count": 20,
     "metadata": {},
     "output_type": "execute_result"
    }
   ],
   "source": [
    "# property 1 \n",
    "# index positions\n",
    "\n",
    "\n",
    "a = [ 10,20,\"sharma\",\"prasad\",4,45,4543,454354] # 4\n",
    "a[1:8]"
   ]
  },
  {
   "cell_type": "markdown",
   "id": "c3d0ad37",
   "metadata": {
    "papermill": {
     "duration": 0.054769,
     "end_time": "2023-08-24T16:20:07.415469",
     "exception": false,
     "start_time": "2023-08-24T16:20:07.360700",
     "status": "completed"
    },
    "tags": []
   },
   "source": [
    "#### "
   ]
  },
  {
   "cell_type": "code",
   "execution_count": 21,
   "id": "bfb67fa5",
   "metadata": {
    "execution": {
     "iopub.execute_input": "2023-08-24T16:20:07.525287Z",
     "iopub.status.busy": "2023-08-24T16:20:07.524921Z",
     "iopub.status.idle": "2023-08-24T16:20:07.531010Z",
     "shell.execute_reply": "2023-08-24T16:20:07.530142Z"
    },
    "papermill": {
     "duration": 0.06207,
     "end_time": "2023-08-24T16:20:07.532930",
     "exception": false,
     "start_time": "2023-08-24T16:20:07.470860",
     "status": "completed"
    },
    "tags": []
   },
   "outputs": [
    {
     "data": {
      "text/plain": [
       "['sharma', 45]"
      ]
     },
     "execution_count": 21,
     "metadata": {},
     "output_type": "execute_result"
    }
   ],
   "source": [
    "a[2:7:3]"
   ]
  },
  {
   "cell_type": "code",
   "execution_count": 22,
   "id": "e59417a9",
   "metadata": {
    "execution": {
     "iopub.execute_input": "2023-08-24T16:20:07.639457Z",
     "iopub.status.busy": "2023-08-24T16:20:07.638653Z",
     "iopub.status.idle": "2023-08-24T16:20:07.645052Z",
     "shell.execute_reply": "2023-08-24T16:20:07.643720Z"
    },
    "papermill": {
     "duration": 0.061398,
     "end_time": "2023-08-24T16:20:07.647141",
     "exception": false,
     "start_time": "2023-08-24T16:20:07.585743",
     "status": "completed"
    },
    "tags": []
   },
   "outputs": [
    {
     "name": "stdout",
     "output_type": "stream",
     "text": [
      "454354\n"
     ]
    }
   ],
   "source": [
    "# mutable\n",
    "a = [ 10,20,\"sharma\",\"prasad\",4,45,4543,454354]\n",
    "a[0] = \"anusha\"\n",
    "print(a[7])\n",
    "# b = 8\n",
    "# print(b)\n",
    "# c = [1,2]\n",
    "# print(c)"
   ]
  },
  {
   "cell_type": "code",
   "execution_count": 23,
   "id": "bd3015a8",
   "metadata": {
    "execution": {
     "iopub.execute_input": "2023-08-24T16:20:07.755150Z",
     "iopub.status.busy": "2023-08-24T16:20:07.754302Z",
     "iopub.status.idle": "2023-08-24T16:20:07.762030Z",
     "shell.execute_reply": "2023-08-24T16:20:07.761007Z"
    },
    "papermill": {
     "duration": 0.065602,
     "end_time": "2023-08-24T16:20:07.764106",
     "exception": false,
     "start_time": "2023-08-24T16:20:07.698504",
     "status": "completed"
    },
    "tags": []
   },
   "outputs": [
    {
     "data": {
      "text/plain": [
       "[1, 2]"
      ]
     },
     "execution_count": 23,
     "metadata": {},
     "output_type": "execute_result"
    }
   ],
   "source": [
    "# mutable\n",
    "a = [ 10,20,\"sharma\",\"prasad\",4,45,4543,454354]\n",
    "a[0] = \"anusha\"\n",
    "a\n",
    "b = 8\n",
    "b\n",
    "c = [1,2]\n",
    "c"
   ]
  },
  {
   "cell_type": "code",
   "execution_count": 24,
   "id": "097ca3f7",
   "metadata": {
    "execution": {
     "iopub.execute_input": "2023-08-24T16:20:07.874220Z",
     "iopub.status.busy": "2023-08-24T16:20:07.873381Z",
     "iopub.status.idle": "2023-08-24T16:20:07.879220Z",
     "shell.execute_reply": "2023-08-24T16:20:07.878194Z"
    },
    "papermill": {
     "duration": 0.063075,
     "end_time": "2023-08-24T16:20:07.881308",
     "exception": false,
     "start_time": "2023-08-24T16:20:07.818233",
     "status": "completed"
    },
    "tags": []
   },
   "outputs": [
    {
     "name": "stdout",
     "output_type": "stream",
     "text": [
      "8\n"
     ]
    }
   ],
   "source": [
    "a = [ 10,20,\"sharma\",\"prasad\",4,45,4543,454354]\n",
    "print(len(a))"
   ]
  },
  {
   "cell_type": "code",
   "execution_count": 25,
   "id": "ad3497cd",
   "metadata": {
    "execution": {
     "iopub.execute_input": "2023-08-24T16:20:07.988492Z",
     "iopub.status.busy": "2023-08-24T16:20:07.987649Z",
     "iopub.status.idle": "2023-08-24T16:20:07.994569Z",
     "shell.execute_reply": "2023-08-24T16:20:07.993578Z"
    },
    "papermill": {
     "duration": 0.062887,
     "end_time": "2023-08-24T16:20:07.996584",
     "exception": false,
     "start_time": "2023-08-24T16:20:07.933697",
     "status": "completed"
    },
    "tags": []
   },
   "outputs": [
    {
     "data": {
      "text/plain": [
       "tuple"
      ]
     },
     "execution_count": 25,
     "metadata": {},
     "output_type": "execute_result"
    }
   ],
   "source": [
    "a = ( 10,20,\"sharma\",\"prasad\",4,45,4543,454354)\n",
    "type(a)"
   ]
  },
  {
   "cell_type": "code",
   "execution_count": 26,
   "id": "af4755bb",
   "metadata": {
    "execution": {
     "iopub.execute_input": "2023-08-24T16:20:08.106889Z",
     "iopub.status.busy": "2023-08-24T16:20:08.106534Z",
     "iopub.status.idle": "2023-08-24T16:20:08.110864Z",
     "shell.execute_reply": "2023-08-24T16:20:08.109904Z"
    },
    "papermill": {
     "duration": 0.060417,
     "end_time": "2023-08-24T16:20:08.112873",
     "exception": false,
     "start_time": "2023-08-24T16:20:08.052456",
     "status": "completed"
    },
    "tags": []
   },
   "outputs": [],
   "source": [
    "# a = ( 10,20,\"sharma\",\"prasad\",4,45,4543,454354)\n",
    "# a[7] = 10\n",
    "# a"
   ]
  },
  {
   "cell_type": "code",
   "execution_count": 27,
   "id": "3a8f9f71",
   "metadata": {
    "execution": {
     "iopub.execute_input": "2023-08-24T16:20:08.221769Z",
     "iopub.status.busy": "2023-08-24T16:20:08.220895Z",
     "iopub.status.idle": "2023-08-24T16:20:08.228271Z",
     "shell.execute_reply": "2023-08-24T16:20:08.226917Z"
    },
    "papermill": {
     "duration": 0.065274,
     "end_time": "2023-08-24T16:20:08.230242",
     "exception": false,
     "start_time": "2023-08-24T16:20:08.164968",
     "status": "completed"
    },
    "tags": []
   },
   "outputs": [
    {
     "name": "stdout",
     "output_type": "stream",
     "text": [
      "(10, 20, 'sharma', 'prasad', 4, 45, 4543, 454354) <class 'tuple'>\n",
      "[1, 20, 'sharma', 'prasad', 4, 45, 4543, 454354] <class 'list'>\n",
      "(1, 20, 'sharma', 'prasad', 4, 45, 4543, 454354) <class 'tuple'>\n"
     ]
    }
   ],
   "source": [
    "a = ( 10,20,\"sharma\",\"prasad\",4,45,4543,454354)\n",
    "\n",
    "print(a, type(a))\n",
    "a = list(a)\n",
    "a[0]= 1\n",
    "print(a, type(a))\n",
    "a = tuple(a)\n",
    "print(a, type(a))"
   ]
  },
  {
   "cell_type": "code",
   "execution_count": 28,
   "id": "7a797d7a",
   "metadata": {
    "execution": {
     "iopub.execute_input": "2023-08-24T16:20:08.340674Z",
     "iopub.status.busy": "2023-08-24T16:20:08.340020Z",
     "iopub.status.idle": "2023-08-24T16:20:08.344606Z",
     "shell.execute_reply": "2023-08-24T16:20:08.343663Z"
    },
    "papermill": {
     "duration": 0.063465,
     "end_time": "2023-08-24T16:20:08.346596",
     "exception": false,
     "start_time": "2023-08-24T16:20:08.283131",
     "status": "completed"
    },
    "tags": []
   },
   "outputs": [],
   "source": [
    "tupledetails = (\"c001\", \"asha\",\"7680896860\")\n",
    "listdetails = [90,80,100]\n"
   ]
  },
  {
   "cell_type": "code",
   "execution_count": 29,
   "id": "ba9283fc",
   "metadata": {
    "execution": {
     "iopub.execute_input": "2023-08-24T16:20:08.455602Z",
     "iopub.status.busy": "2023-08-24T16:20:08.454791Z",
     "iopub.status.idle": "2023-08-24T16:20:08.461747Z",
     "shell.execute_reply": "2023-08-24T16:20:08.460763Z"
    },
    "papermill": {
     "duration": 0.063704,
     "end_time": "2023-08-24T16:20:08.463749",
     "exception": false,
     "start_time": "2023-08-24T16:20:08.400045",
     "status": "completed"
    },
    "tags": []
   },
   "outputs": [
    {
     "data": {
      "text/plain": [
       "{1, 2, 3, 4, 5, 6, 7}"
      ]
     },
     "execution_count": 29,
     "metadata": {},
     "output_type": "execute_result"
    }
   ],
   "source": [
    "a = {1,2,3,4,5,6,1,2,3,5,7}\n",
    "a"
   ]
  },
  {
   "cell_type": "code",
   "execution_count": 30,
   "id": "0d16ac1c",
   "metadata": {
    "execution": {
     "iopub.execute_input": "2023-08-24T16:20:08.572867Z",
     "iopub.status.busy": "2023-08-24T16:20:08.572070Z",
     "iopub.status.idle": "2023-08-24T16:20:08.580529Z",
     "shell.execute_reply": "2023-08-24T16:20:08.579503Z"
    },
    "papermill": {
     "duration": 0.065569,
     "end_time": "2023-08-24T16:20:08.582596",
     "exception": false,
     "start_time": "2023-08-24T16:20:08.517027",
     "status": "completed"
    },
    "tags": []
   },
   "outputs": [
    {
     "data": {
      "text/plain": [
       "dict_items([('a', {'a.1': 2, 'a.2': [10, 20, 30]}), ('b', {'b.1': {'b.1.1': 4}}), ('c', {'c.1': 5, 'c.2': {'c.2.1': [6, 55]}})])"
      ]
     },
     "execution_count": 30,
     "metadata": {},
     "output_type": "execute_result"
    }
   ],
   "source": [
    "sha = { \"a\" : { \n",
    "            \"a.1\" : 2,\n",
    "            \"a.2\"  : [10,20,30]\n",
    "            }\n",
    "     ,\n",
    "     \n",
    "     \"b\" : { \n",
    "            \"b.1\" : {\n",
    "                     \"b.1.1\" : 4\n",
    "                    }\n",
    "           }\n",
    "     ,\n",
    "      \"c\"  : {\n",
    "             \"c.1\" : 5,\n",
    "             \"c.2\"  : {\n",
    "                         \"c.2.1\" : [6,55]\n",
    "                      }\n",
    "       }}\n",
    "\n",
    "\n",
    "# sha[\"c\"][\"c.2\"][\"c.2.1\"][0]\n",
    "sha.items()"
   ]
  },
  {
   "cell_type": "code",
   "execution_count": 31,
   "id": "ecfe6ac1",
   "metadata": {
    "execution": {
     "iopub.execute_input": "2023-08-24T16:20:08.692064Z",
     "iopub.status.busy": "2023-08-24T16:20:08.691224Z",
     "iopub.status.idle": "2023-08-24T16:20:08.697938Z",
     "shell.execute_reply": "2023-08-24T16:20:08.697003Z"
    },
    "papermill": {
     "duration": 0.063013,
     "end_time": "2023-08-24T16:20:08.699921",
     "exception": false,
     "start_time": "2023-08-24T16:20:08.636908",
     "status": "completed"
    },
    "tags": []
   },
   "outputs": [
    {
     "data": {
      "text/plain": [
       "[21, 2000, 43]"
      ]
     },
     "execution_count": 31,
     "metadata": {},
     "output_type": "execute_result"
    }
   ],
   "source": [
    "asha = [21,32,43]\n",
    "asha[1] = 2000\n",
    "asha\n"
   ]
  },
  {
   "cell_type": "code",
   "execution_count": 32,
   "id": "16be996a",
   "metadata": {
    "execution": {
     "iopub.execute_input": "2023-08-24T16:20:08.810198Z",
     "iopub.status.busy": "2023-08-24T16:20:08.809866Z",
     "iopub.status.idle": "2023-08-24T16:20:08.816313Z",
     "shell.execute_reply": "2023-08-24T16:20:08.815397Z"
    },
    "papermill": {
     "duration": 0.064515,
     "end_time": "2023-08-24T16:20:08.818333",
     "exception": false,
     "start_time": "2023-08-24T16:20:08.753818",
     "status": "completed"
    },
    "tags": []
   },
   "outputs": [
    {
     "data": {
      "text/plain": [
       "['apple', 'watermelon']"
      ]
     },
     "execution_count": 32,
     "metadata": {},
     "output_type": "execute_result"
    }
   ],
   "source": [
    "thislist = [\"apple\", \"banana\", \"cherry\"]\n",
    "# thislist[1:3] = [\"watermelon\",\"sharma\"]\n",
    "thislist[1:3]= [\"watermelon\"]\n",
    "thislist"
   ]
  },
  {
   "cell_type": "code",
   "execution_count": 33,
   "id": "773db19d",
   "metadata": {
    "execution": {
     "iopub.execute_input": "2023-08-24T16:20:08.931040Z",
     "iopub.status.busy": "2023-08-24T16:20:08.930181Z",
     "iopub.status.idle": "2023-08-24T16:20:08.934616Z",
     "shell.execute_reply": "2023-08-24T16:20:08.933693Z"
    },
    "papermill": {
     "duration": 0.063375,
     "end_time": "2023-08-24T16:20:08.936552",
     "exception": false,
     "start_time": "2023-08-24T16:20:08.873177",
     "status": "completed"
    },
    "tags": []
   },
   "outputs": [],
   "source": [
    "# thislist = [\"apple\", \"banana\", \"cherry\"]\n",
    "# thislist[1:3] = 200\n",
    "# thislist"
   ]
  },
  {
   "cell_type": "code",
   "execution_count": 34,
   "id": "fb1b2d7d",
   "metadata": {
    "execution": {
     "iopub.execute_input": "2023-08-24T16:20:09.048668Z",
     "iopub.status.busy": "2023-08-24T16:20:09.047296Z",
     "iopub.status.idle": "2023-08-24T16:20:09.054867Z",
     "shell.execute_reply": "2023-08-24T16:20:09.053868Z"
    },
    "papermill": {
     "duration": 0.06657,
     "end_time": "2023-08-24T16:20:09.056908",
     "exception": false,
     "start_time": "2023-08-24T16:20:08.990338",
     "status": "completed"
    },
    "tags": []
   },
   "outputs": [
    {
     "data": {
      "text/plain": [
       "['apple', 'watermelon', 'sah']"
      ]
     },
     "execution_count": 34,
     "metadata": {},
     "output_type": "execute_result"
    }
   ],
   "source": [
    "thislist = [\"apple\", \"banana\", \"cherry\"]\n",
    "thislist[1:3] = [\"watermelon\",\"sah\"]\n",
    "thislist"
   ]
  },
  {
   "cell_type": "code",
   "execution_count": null,
   "id": "d5e30f1a",
   "metadata": {
    "papermill": {
     "duration": 0.054913,
     "end_time": "2023-08-24T16:20:09.166510",
     "exception": false,
     "start_time": "2023-08-24T16:20:09.111597",
     "status": "completed"
    },
    "tags": []
   },
   "outputs": [],
   "source": []
  },
  {
   "cell_type": "code",
   "execution_count": null,
   "id": "4b86ecab",
   "metadata": {
    "papermill": {
     "duration": 0.052467,
     "end_time": "2023-08-24T16:20:09.275370",
     "exception": false,
     "start_time": "2023-08-24T16:20:09.222903",
     "status": "completed"
    },
    "tags": []
   },
   "outputs": [],
   "source": []
  },
  {
   "cell_type": "code",
   "execution_count": 35,
   "id": "6fb46f48",
   "metadata": {
    "execution": {
     "iopub.execute_input": "2023-08-24T16:20:09.388024Z",
     "iopub.status.busy": "2023-08-24T16:20:09.387653Z",
     "iopub.status.idle": "2023-08-24T16:20:09.392935Z",
     "shell.execute_reply": "2023-08-24T16:20:09.392010Z"
    },
    "papermill": {
     "duration": 0.065046,
     "end_time": "2023-08-24T16:20:09.395347",
     "exception": false,
     "start_time": "2023-08-24T16:20:09.330301",
     "status": "completed"
    },
    "tags": []
   },
   "outputs": [
    {
     "name": "stdout",
     "output_type": "stream",
     "text": [
      "anusha\n",
      "yasmin\n",
      "anusha\n",
      "yasmin\n",
      "anusha\n",
      "yasmin\n",
      "anusha\n",
      "yasmin\n",
      "anusha\n",
      "yasmin\n",
      "sharma\n"
     ]
    }
   ],
   "source": [
    "for i in range(5) :\n",
    "    print(\"anusha\")\n",
    "    print(\"yasmin\")\n",
    "    \n",
    "print(\"sharma\")\n"
   ]
  },
  {
   "cell_type": "code",
   "execution_count": 36,
   "id": "7d9a68d3",
   "metadata": {
    "execution": {
     "iopub.execute_input": "2023-08-24T16:20:09.546769Z",
     "iopub.status.busy": "2023-08-24T16:20:09.546213Z",
     "iopub.status.idle": "2023-08-24T16:20:09.551622Z",
     "shell.execute_reply": "2023-08-24T16:20:09.550623Z"
    },
    "papermill": {
     "duration": 0.063089,
     "end_time": "2023-08-24T16:20:09.554316",
     "exception": false,
     "start_time": "2023-08-24T16:20:09.491227",
     "status": "completed"
    },
    "tags": []
   },
   "outputs": [
    {
     "name": "stdout",
     "output_type": "stream",
     "text": [
      "0\n",
      "1\n",
      "2\n",
      "3\n",
      "4\n"
     ]
    }
   ],
   "source": [
    "a = range(5)\n",
    "for i in a : \n",
    "    print(i)"
   ]
  },
  {
   "cell_type": "code",
   "execution_count": 37,
   "id": "0b533337",
   "metadata": {
    "execution": {
     "iopub.execute_input": "2023-08-24T16:20:09.667757Z",
     "iopub.status.busy": "2023-08-24T16:20:09.667437Z",
     "iopub.status.idle": "2023-08-24T16:20:09.672359Z",
     "shell.execute_reply": "2023-08-24T16:20:09.671493Z"
    },
    "papermill": {
     "duration": 0.063845,
     "end_time": "2023-08-24T16:20:09.674849",
     "exception": false,
     "start_time": "2023-08-24T16:20:09.611004",
     "status": "completed"
    },
    "tags": []
   },
   "outputs": [
    {
     "name": "stdout",
     "output_type": "stream",
     "text": [
      "0\n",
      "1\n",
      "2\n",
      "3\n",
      "4\n"
     ]
    }
   ],
   "source": [
    "for i in range(5):\n",
    "    print(i)"
   ]
  },
  {
   "cell_type": "code",
   "execution_count": 38,
   "id": "cc62d230",
   "metadata": {
    "execution": {
     "iopub.execute_input": "2023-08-24T16:20:09.787581Z",
     "iopub.status.busy": "2023-08-24T16:20:09.786691Z",
     "iopub.status.idle": "2023-08-24T16:20:09.792088Z",
     "shell.execute_reply": "2023-08-24T16:20:09.791008Z"
    },
    "papermill": {
     "duration": 0.064461,
     "end_time": "2023-08-24T16:20:09.794522",
     "exception": false,
     "start_time": "2023-08-24T16:20:09.730061",
     "status": "completed"
    },
    "tags": []
   },
   "outputs": [
    {
     "name": "stdout",
     "output_type": "stream",
     "text": [
      "0\n",
      "1\n",
      "2\n",
      "3\n",
      "4\n"
     ]
    }
   ],
   "source": [
    "for i in [0,1,2,3,4]:\n",
    "    print(i)"
   ]
  },
  {
   "cell_type": "code",
   "execution_count": 39,
   "id": "5aec89a3",
   "metadata": {
    "execution": {
     "iopub.execute_input": "2023-08-24T16:20:09.908833Z",
     "iopub.status.busy": "2023-08-24T16:20:09.908023Z",
     "iopub.status.idle": "2023-08-24T16:20:09.913965Z",
     "shell.execute_reply": "2023-08-24T16:20:09.912637Z"
    },
    "papermill": {
     "duration": 0.065761,
     "end_time": "2023-08-24T16:20:09.915929",
     "exception": false,
     "start_time": "2023-08-24T16:20:09.850168",
     "status": "completed"
    },
    "tags": []
   },
   "outputs": [
    {
     "name": "stdout",
     "output_type": "stream",
     "text": [
      "3\n",
      "4\n",
      "5\n",
      "6\n",
      "7\n",
      "8\n"
     ]
    }
   ],
   "source": [
    "for i in range(3,9):\n",
    "    print(i)"
   ]
  },
  {
   "cell_type": "code",
   "execution_count": 40,
   "id": "d4a5f226",
   "metadata": {
    "execution": {
     "iopub.execute_input": "2023-08-24T16:20:10.027186Z",
     "iopub.status.busy": "2023-08-24T16:20:10.026301Z",
     "iopub.status.idle": "2023-08-24T16:20:10.032300Z",
     "shell.execute_reply": "2023-08-24T16:20:10.030904Z"
    },
    "papermill": {
     "duration": 0.063984,
     "end_time": "2023-08-24T16:20:10.034320",
     "exception": false,
     "start_time": "2023-08-24T16:20:09.970336",
     "status": "completed"
    },
    "tags": []
   },
   "outputs": [
    {
     "name": "stdout",
     "output_type": "stream",
     "text": [
      "9\n",
      "11\n",
      "13\n",
      "15\n"
     ]
    }
   ],
   "source": [
    "for i  in range(9,16,2):\n",
    "    print(i)"
   ]
  },
  {
   "cell_type": "code",
   "execution_count": 41,
   "id": "1f0e4aba",
   "metadata": {
    "execution": {
     "iopub.execute_input": "2023-08-24T16:20:10.150826Z",
     "iopub.status.busy": "2023-08-24T16:20:10.150432Z",
     "iopub.status.idle": "2023-08-24T16:20:10.156104Z",
     "shell.execute_reply": "2023-08-24T16:20:10.154986Z"
    },
    "papermill": {
     "duration": 0.071223,
     "end_time": "2023-08-24T16:20:10.159036",
     "exception": false,
     "start_time": "2023-08-24T16:20:10.087813",
     "status": "completed"
    },
    "tags": []
   },
   "outputs": [],
   "source": [
    "# for ( i = 0 , i < 5 , i ++) \n",
    "#             {\n",
    "\n",
    "#                 print(i)\n",
    "#             }\n",
    "    \n",
    "# print(\"anusha innocent \")"
   ]
  },
  {
   "cell_type": "code",
   "execution_count": 42,
   "id": "d24df9ed",
   "metadata": {
    "execution": {
     "iopub.execute_input": "2023-08-24T16:20:10.273369Z",
     "iopub.status.busy": "2023-08-24T16:20:10.272485Z",
     "iopub.status.idle": "2023-08-24T16:20:10.278600Z",
     "shell.execute_reply": "2023-08-24T16:20:10.277303Z"
    },
    "papermill": {
     "duration": 0.064331,
     "end_time": "2023-08-24T16:20:10.280628",
     "exception": false,
     "start_time": "2023-08-24T16:20:10.216297",
     "status": "completed"
    },
    "tags": []
   },
   "outputs": [
    {
     "name": "stdout",
     "output_type": "stream",
     "text": [
      "10\n",
      "20\n",
      "30\n"
     ]
    }
   ],
   "source": [
    "# step - 1\n",
    "a = [10,20,30]\n",
    "\n",
    "for i in a :\n",
    "    print(i)"
   ]
  },
  {
   "cell_type": "code",
   "execution_count": 43,
   "id": "64afde80",
   "metadata": {
    "execution": {
     "iopub.execute_input": "2023-08-24T16:20:10.434758Z",
     "iopub.status.busy": "2023-08-24T16:20:10.433658Z",
     "iopub.status.idle": "2023-08-24T16:20:10.445194Z",
     "shell.execute_reply": "2023-08-24T16:20:10.443208Z"
    },
    "papermill": {
     "duration": 0.10555,
     "end_time": "2023-08-24T16:20:10.447900",
     "exception": false,
     "start_time": "2023-08-24T16:20:10.342350",
     "status": "completed"
    },
    "tags": []
   },
   "outputs": [
    {
     "name": "stdout",
     "output_type": "stream",
     "text": [
      "rgrtgert\n",
      "134\n",
      "sharma\n"
     ]
    }
   ],
   "source": [
    "students = [\"rgrtgert\",134,\"sharma\"]\n",
    "for i in students :\n",
    "    print(i)"
   ]
  },
  {
   "cell_type": "code",
   "execution_count": 44,
   "id": "fb01e7ee",
   "metadata": {
    "execution": {
     "iopub.execute_input": "2023-08-24T16:20:10.562603Z",
     "iopub.status.busy": "2023-08-24T16:20:10.561747Z",
     "iopub.status.idle": "2023-08-24T16:20:10.568178Z",
     "shell.execute_reply": "2023-08-24T16:20:10.566907Z"
    },
    "papermill": {
     "duration": 0.066384,
     "end_time": "2023-08-24T16:20:10.570203",
     "exception": false,
     "start_time": "2023-08-24T16:20:10.503819",
     "status": "completed"
    },
    "tags": []
   },
   "outputs": [
    {
     "name": "stdout",
     "output_type": "stream",
     "text": [
      "30\n",
      "20\n",
      "10\n"
     ]
    }
   ],
   "source": [
    "#step - 2\n",
    "a = [10,20,30]\n",
    "#for i in [0,1,2] :\n",
    "for i in range(len(a)-1,-1,-1) :# 0 1 2\n",
    "    print(a[i])"
   ]
  },
  {
   "cell_type": "code",
   "execution_count": 45,
   "id": "9c385974",
   "metadata": {
    "execution": {
     "iopub.execute_input": "2023-08-24T16:20:10.682284Z",
     "iopub.status.busy": "2023-08-24T16:20:10.681385Z",
     "iopub.status.idle": "2023-08-24T16:20:10.688214Z",
     "shell.execute_reply": "2023-08-24T16:20:10.686680Z"
    },
    "papermill": {
     "duration": 0.066426,
     "end_time": "2023-08-24T16:20:10.690600",
     "exception": false,
     "start_time": "2023-08-24T16:20:10.624174",
     "status": "completed"
    },
    "tags": []
   },
   "outputs": [
    {
     "name": "stdout",
     "output_type": "stream",
     "text": [
      "rgrtgert\n",
      "134\n",
      "sharma\n"
     ]
    }
   ],
   "source": [
    "students = [\"rgrtgert\",134,\"sharma\"]\n",
    "\n",
    "\n",
    "for i in range(len(students)) :\n",
    "    print(students[i])"
   ]
  },
  {
   "cell_type": "code",
   "execution_count": 46,
   "id": "e84b72ae",
   "metadata": {
    "execution": {
     "iopub.execute_input": "2023-08-24T16:20:10.813673Z",
     "iopub.status.busy": "2023-08-24T16:20:10.812729Z",
     "iopub.status.idle": "2023-08-24T16:20:10.821826Z",
     "shell.execute_reply": "2023-08-24T16:20:10.820493Z"
    },
    "papermill": {
     "duration": 0.078205,
     "end_time": "2023-08-24T16:20:10.824530",
     "exception": false,
     "start_time": "2023-08-24T16:20:10.746325",
     "status": "completed"
    },
    "tags": []
   },
   "outputs": [
    {
     "name": "stdout",
     "output_type": "stream",
     "text": [
      "0 0 0\n",
      "0 0 1\n",
      "0 0 0\n",
      "0 0 1\n",
      "0 1 0\n",
      "0 1 1\n",
      "0 1 0\n",
      "0 1 1\n",
      "0 2 0\n",
      "0 2 1\n",
      "0 2 0\n",
      "0 2 1\n",
      "0 0\n",
      "0 1\n",
      "0 2\n",
      "0 3\n",
      "loop is done\n",
      "1 0 0\n",
      "1 0 1\n",
      "1 0 0\n",
      "1 0 1\n",
      "1 1 0\n",
      "1 1 1\n",
      "1 1 0\n",
      "1 1 1\n",
      "1 2 0\n",
      "1 2 1\n",
      "1 2 0\n",
      "1 2 1\n",
      "1 0\n",
      "1 1\n",
      "1 2\n",
      "1 3\n",
      "loop is done\n",
      "2 0 0\n",
      "2 0 1\n",
      "2 0 0\n",
      "2 0 1\n",
      "2 1 0\n",
      "2 1 1\n",
      "2 1 0\n",
      "2 1 1\n",
      "2 2 0\n",
      "2 2 1\n",
      "2 2 0\n",
      "2 2 1\n",
      "2 0\n",
      "2 1\n",
      "2 2\n",
      "2 3\n",
      "loop is done\n",
      "3 0 0\n",
      "3 0 1\n",
      "3 0 0\n",
      "3 0 1\n",
      "3 1 0\n",
      "3 1 1\n",
      "3 1 0\n",
      "3 1 1\n",
      "3 2 0\n",
      "3 2 1\n",
      "3 2 0\n",
      "3 2 1\n",
      "3 0\n",
      "3 1\n",
      "3 2\n",
      "3 3\n",
      "loop is done\n",
      "4 0 0\n",
      "4 0 1\n",
      "4 0 0\n",
      "4 0 1\n",
      "4 1 0\n",
      "4 1 1\n",
      "4 1 0\n",
      "4 1 1\n",
      "4 2 0\n",
      "4 2 1\n",
      "4 2 0\n",
      "4 2 1\n",
      "4 0\n",
      "4 1\n",
      "4 2\n",
      "4 3\n",
      "loop is done\n"
     ]
    }
   ],
   "source": [
    "for i  in range(5): # 1    \n",
    "    for j in range (3): # 1.1\n",
    "        for k in range(2) : # 1.1.1\n",
    "            print(i,j,k)\n",
    "        for l in range(2) : # 1.1.2\n",
    "            print(i,j,l)            \n",
    "    for m in range(4) : # 1.2\n",
    "        print(i,m)\n",
    "    print(\"loop is done\")"
   ]
  },
  {
   "cell_type": "code",
   "execution_count": 47,
   "id": "b287c86b",
   "metadata": {
    "execution": {
     "iopub.execute_input": "2023-08-24T16:20:10.939888Z",
     "iopub.status.busy": "2023-08-24T16:20:10.939580Z",
     "iopub.status.idle": "2023-08-24T16:20:10.943922Z",
     "shell.execute_reply": "2023-08-24T16:20:10.942984Z"
    },
    "papermill": {
     "duration": 0.064399,
     "end_time": "2023-08-24T16:20:10.946004",
     "exception": false,
     "start_time": "2023-08-24T16:20:10.881605",
     "status": "completed"
    },
    "tags": []
   },
   "outputs": [],
   "source": [
    "# * \n",
    "# * * \n",
    "# * * * \n",
    "# * * * * \n",
    "# * * * * * "
   ]
  },
  {
   "cell_type": "code",
   "execution_count": 48,
   "id": "46d027bf",
   "metadata": {
    "execution": {
     "iopub.execute_input": "2023-08-24T16:20:11.061398Z",
     "iopub.status.busy": "2023-08-24T16:20:11.060735Z",
     "iopub.status.idle": "2023-08-24T16:20:11.067187Z",
     "shell.execute_reply": "2023-08-24T16:20:11.065700Z"
    },
    "papermill": {
     "duration": 0.066881,
     "end_time": "2023-08-24T16:20:11.069395",
     "exception": false,
     "start_time": "2023-08-24T16:20:11.002514",
     "status": "completed"
    },
    "tags": []
   },
   "outputs": [
    {
     "name": "stdout",
     "output_type": "stream",
     "text": [
      "* \n",
      "* * \n",
      "* * * \n",
      "* * * * \n",
      "* * * * * \n"
     ]
    }
   ],
   "source": [
    "for i in range(5) :\n",
    "    print(\"* \" * (int(i)+1))"
   ]
  },
  {
   "cell_type": "code",
   "execution_count": 49,
   "id": "17db3468",
   "metadata": {
    "execution": {
     "iopub.execute_input": "2023-08-24T16:20:11.181280Z",
     "iopub.status.busy": "2023-08-24T16:20:11.180967Z",
     "iopub.status.idle": "2023-08-24T16:20:11.184980Z",
     "shell.execute_reply": "2023-08-24T16:20:11.184005Z"
    },
    "papermill": {
     "duration": 0.061388,
     "end_time": "2023-08-24T16:20:11.186915",
     "exception": false,
     "start_time": "2023-08-24T16:20:11.125527",
     "status": "completed"
    },
    "tags": []
   },
   "outputs": [],
   "source": [
    "# *\n",
    "# **\n",
    "# ***\n",
    "# ****\n",
    "# *****\n",
    "\n",
    "# *****\n",
    "# ****\n",
    "# ***\n",
    "# **\n",
    "# *"
   ]
  },
  {
   "cell_type": "code",
   "execution_count": 50,
   "id": "cb44e2a0",
   "metadata": {
    "execution": {
     "iopub.execute_input": "2023-08-24T16:20:11.301690Z",
     "iopub.status.busy": "2023-08-24T16:20:11.301373Z",
     "iopub.status.idle": "2023-08-24T16:20:11.307625Z",
     "shell.execute_reply": "2023-08-24T16:20:11.306764Z"
    },
    "papermill": {
     "duration": 0.065733,
     "end_time": "2023-08-24T16:20:11.311218",
     "exception": false,
     "start_time": "2023-08-24T16:20:11.245485",
     "status": "completed"
    },
    "tags": []
   },
   "outputs": [
    {
     "name": "stdout",
     "output_type": "stream",
     "text": [
      "*\n",
      "**\n",
      "***\n",
      "****\n",
      "*****\n",
      "*****\n",
      "****\n",
      "***\n",
      "**\n",
      "*\n"
     ]
    }
   ],
   "source": [
    "for i in range(5) :\n",
    "    print(\"*\" * (int(i)+1))\n",
    "for i in range(5) :\n",
    "    print(\"*\" * (5 - int(i)))"
   ]
  },
  {
   "cell_type": "code",
   "execution_count": 51,
   "id": "1bdb4299",
   "metadata": {
    "execution": {
     "iopub.execute_input": "2023-08-24T16:20:11.424003Z",
     "iopub.status.busy": "2023-08-24T16:20:11.423672Z",
     "iopub.status.idle": "2023-08-24T16:20:11.427870Z",
     "shell.execute_reply": "2023-08-24T16:20:11.427010Z"
    },
    "papermill": {
     "duration": 0.062545,
     "end_time": "2023-08-24T16:20:11.429890",
     "exception": false,
     "start_time": "2023-08-24T16:20:11.367345",
     "status": "completed"
    },
    "tags": []
   },
   "outputs": [],
   "source": [
    "if 10 < 5 :\n",
    "    print(\"yes\")"
   ]
  },
  {
   "cell_type": "code",
   "execution_count": 52,
   "id": "4b710ea4",
   "metadata": {
    "execution": {
     "iopub.execute_input": "2023-08-24T16:20:11.541984Z",
     "iopub.status.busy": "2023-08-24T16:20:11.541671Z",
     "iopub.status.idle": "2023-08-24T16:20:11.546515Z",
     "shell.execute_reply": "2023-08-24T16:20:11.545657Z"
    },
    "papermill": {
     "duration": 0.065114,
     "end_time": "2023-08-24T16:20:11.548857",
     "exception": false,
     "start_time": "2023-08-24T16:20:11.483743",
     "status": "completed"
    },
    "tags": []
   },
   "outputs": [
    {
     "name": "stdout",
     "output_type": "stream",
     "text": [
      "no\n"
     ]
    }
   ],
   "source": [
    "if 10 < 5 :\n",
    "    print(\"yes\")\n",
    "else :\n",
    "    print(\"no\")"
   ]
  },
  {
   "cell_type": "code",
   "execution_count": 53,
   "id": "f9424830",
   "metadata": {
    "execution": {
     "iopub.execute_input": "2023-08-24T16:20:11.659617Z",
     "iopub.status.busy": "2023-08-24T16:20:11.659316Z",
     "iopub.status.idle": "2023-08-24T16:20:11.664678Z",
     "shell.execute_reply": "2023-08-24T16:20:11.663810Z"
    },
    "papermill": {
     "duration": 0.063548,
     "end_time": "2023-08-24T16:20:11.666933",
     "exception": false,
     "start_time": "2023-08-24T16:20:11.603385",
     "status": "completed"
    },
    "tags": []
   },
   "outputs": [
    {
     "name": "stdout",
     "output_type": "stream",
     "text": [
      "passed\n"
     ]
    }
   ],
   "source": [
    "marks = 30\n",
    "\n",
    "if marks > 95 :\n",
    "    print(\"distinction\")\n",
    "    \n",
    "elif marks > 75 :\n",
    "    print(\"firstgrade\")\n",
    "elif marks > 50 :\n",
    "    print(\"secondgrade\")\n",
    "    \n",
    "else :\n",
    "    print(\"passed\")"
   ]
  },
  {
   "cell_type": "markdown",
   "id": "5eccc70e",
   "metadata": {
    "papermill": {
     "duration": 0.055109,
     "end_time": "2023-08-24T16:20:11.776356",
     "exception": false,
     "start_time": "2023-08-24T16:20:11.721247",
     "status": "completed"
    },
    "tags": []
   },
   "source": []
  },
  {
   "cell_type": "code",
   "execution_count": 54,
   "id": "c748c572",
   "metadata": {
    "execution": {
     "iopub.execute_input": "2023-08-24T16:20:11.928128Z",
     "iopub.status.busy": "2023-08-24T16:20:11.927250Z",
     "iopub.status.idle": "2023-08-24T16:20:11.940914Z",
     "shell.execute_reply": "2023-08-24T16:20:11.940013Z"
    },
    "papermill": {
     "duration": 0.110843,
     "end_time": "2023-08-24T16:20:11.943986",
     "exception": false,
     "start_time": "2023-08-24T16:20:11.833143",
     "status": "completed"
    },
    "tags": []
   },
   "outputs": [
    {
     "name": "stdout",
     "output_type": "stream",
     "text": [
      "10\n",
      "9\n",
      "8\n",
      "7\n",
      "6\n"
     ]
    }
   ],
   "source": [
    "a  = 10 \n",
    "\n",
    "while a > 5 : # true 9\n",
    "    print(a) \n",
    "    a = a -  1"
   ]
  },
  {
   "cell_type": "code",
   "execution_count": 55,
   "id": "7bdd9166",
   "metadata": {
    "execution": {
     "iopub.execute_input": "2023-08-24T16:20:12.118378Z",
     "iopub.status.busy": "2023-08-24T16:20:12.117877Z",
     "iopub.status.idle": "2023-08-24T16:20:12.122168Z",
     "shell.execute_reply": "2023-08-24T16:20:12.121229Z"
    },
    "papermill": {
     "duration": 0.090148,
     "end_time": "2023-08-24T16:20:12.126475",
     "exception": false,
     "start_time": "2023-08-24T16:20:12.036327",
     "status": "completed"
    },
    "tags": []
   },
   "outputs": [],
   "source": [
    "# * * * * *\n",
    "# * * * * \n",
    "# * * * \n",
    "# * * \n",
    "# *"
   ]
  },
  {
   "cell_type": "code",
   "execution_count": 56,
   "id": "e7504b8d",
   "metadata": {
    "execution": {
     "iopub.execute_input": "2023-08-24T16:20:12.290737Z",
     "iopub.status.busy": "2023-08-24T16:20:12.290326Z",
     "iopub.status.idle": "2023-08-24T16:20:12.295567Z",
     "shell.execute_reply": "2023-08-24T16:20:12.294745Z"
    },
    "papermill": {
     "duration": 0.092357,
     "end_time": "2023-08-24T16:20:12.301604",
     "exception": false,
     "start_time": "2023-08-24T16:20:12.209247",
     "status": "completed"
    },
    "tags": []
   },
   "outputs": [
    {
     "name": "stdout",
     "output_type": "stream",
     "text": [
      "* * * * * \n",
      "* * * * \n",
      "* * * \n",
      "* * \n",
      "* \n"
     ]
    }
   ],
   "source": [
    "for i in range(5) :\n",
    "    print(\"* \" * (5-i))"
   ]
  },
  {
   "cell_type": "code",
   "execution_count": 57,
   "id": "20722233",
   "metadata": {
    "execution": {
     "iopub.execute_input": "2023-08-24T16:20:12.466897Z",
     "iopub.status.busy": "2023-08-24T16:20:12.466475Z",
     "iopub.status.idle": "2023-08-24T16:20:12.470620Z",
     "shell.execute_reply": "2023-08-24T16:20:12.469802Z"
    },
    "papermill": {
     "duration": 0.089305,
     "end_time": "2023-08-24T16:20:12.474987",
     "exception": false,
     "start_time": "2023-08-24T16:20:12.385682",
     "status": "completed"
    },
    "tags": []
   },
   "outputs": [],
   "source": [
    "# *\n",
    "# **\n",
    "# ***\n",
    "# ****\n",
    "# *****"
   ]
  },
  {
   "cell_type": "code",
   "execution_count": 58,
   "id": "51f81abb",
   "metadata": {
    "execution": {
     "iopub.execute_input": "2023-08-24T16:20:12.644894Z",
     "iopub.status.busy": "2023-08-24T16:20:12.644463Z",
     "iopub.status.idle": "2023-08-24T16:20:12.650639Z",
     "shell.execute_reply": "2023-08-24T16:20:12.649700Z"
    },
    "papermill": {
     "duration": 0.10581,
     "end_time": "2023-08-24T16:20:12.657346",
     "exception": false,
     "start_time": "2023-08-24T16:20:12.551536",
     "status": "completed"
    },
    "tags": []
   },
   "outputs": [
    {
     "name": "stdout",
     "output_type": "stream",
     "text": [
      "*\n",
      "**\n",
      "***\n",
      "****\n",
      "*****\n"
     ]
    }
   ],
   "source": [
    "for i in range(5) :\n",
    "    print(\"*\" * (int(i)+1))"
   ]
  },
  {
   "cell_type": "code",
   "execution_count": 59,
   "id": "12173b19",
   "metadata": {
    "execution": {
     "iopub.execute_input": "2023-08-24T16:20:12.835510Z",
     "iopub.status.busy": "2023-08-24T16:20:12.835131Z",
     "iopub.status.idle": "2023-08-24T16:20:12.839309Z",
     "shell.execute_reply": "2023-08-24T16:20:12.838466Z"
    },
    "papermill": {
     "duration": 0.094124,
     "end_time": "2023-08-24T16:20:12.843616",
     "exception": false,
     "start_time": "2023-08-24T16:20:12.749492",
     "status": "completed"
    },
    "tags": []
   },
   "outputs": [],
   "source": [
    "#         *\n",
    "#       **\n",
    "#     ***\n",
    "#   ****\n",
    "# *****"
   ]
  },
  {
   "cell_type": "code",
   "execution_count": 60,
   "id": "74d5fd4f",
   "metadata": {
    "execution": {
     "iopub.execute_input": "2023-08-24T16:20:13.007425Z",
     "iopub.status.busy": "2023-08-24T16:20:13.007042Z",
     "iopub.status.idle": "2023-08-24T16:20:13.013164Z",
     "shell.execute_reply": "2023-08-24T16:20:13.012298Z"
    },
    "papermill": {
     "duration": 0.093632,
     "end_time": "2023-08-24T16:20:13.019397",
     "exception": false,
     "start_time": "2023-08-24T16:20:12.925765",
     "status": "completed"
    },
    "tags": []
   },
   "outputs": [
    {
     "name": "stdout",
     "output_type": "stream",
     "text": [
      "           *\n",
      "         **\n",
      "       ***\n",
      "     ****\n",
      "   *****\n"
     ]
    }
   ],
   "source": [
    "for i in range(5) :\n",
    "    print(\" \"* ((5-i)*2),\"*\" * (int(i)+1))"
   ]
  },
  {
   "cell_type": "code",
   "execution_count": 61,
   "id": "d8004669",
   "metadata": {
    "execution": {
     "iopub.execute_input": "2023-08-24T16:20:13.182529Z",
     "iopub.status.busy": "2023-08-24T16:20:13.182153Z",
     "iopub.status.idle": "2023-08-24T16:20:13.187430Z",
     "shell.execute_reply": "2023-08-24T16:20:13.186633Z"
    },
    "papermill": {
     "duration": 0.094049,
     "end_time": "2023-08-24T16:20:13.193605",
     "exception": false,
     "start_time": "2023-08-24T16:20:13.099556",
     "status": "completed"
    },
    "tags": []
   },
   "outputs": [
    {
     "name": "stdout",
     "output_type": "stream",
     "text": [
      "* * * * * \n",
      "* * * * \n",
      "* * * \n",
      "* * \n",
      "* * * \n"
     ]
    }
   ],
   "source": [
    "for i in range(4):\n",
    "    print(\"* \" * (5-i))\n",
    "print(\"* \"* 3)"
   ]
  },
  {
   "cell_type": "code",
   "execution_count": 62,
   "id": "db43947c",
   "metadata": {
    "execution": {
     "iopub.execute_input": "2023-08-24T16:20:13.359786Z",
     "iopub.status.busy": "2023-08-24T16:20:13.359403Z",
     "iopub.status.idle": "2023-08-24T16:20:13.363645Z",
     "shell.execute_reply": "2023-08-24T16:20:13.362836Z"
    },
    "papermill": {
     "duration": 0.091325,
     "end_time": "2023-08-24T16:20:13.367823",
     "exception": false,
     "start_time": "2023-08-24T16:20:13.276498",
     "status": "completed"
    },
    "tags": []
   },
   "outputs": [],
   "source": [
    "#     * \n",
    "#    **\n",
    "#   ***\n",
    "#  ****\n",
    "# *****"
   ]
  },
  {
   "cell_type": "code",
   "execution_count": 63,
   "id": "94ce6121",
   "metadata": {
    "execution": {
     "iopub.execute_input": "2023-08-24T16:20:13.519360Z",
     "iopub.status.busy": "2023-08-24T16:20:13.519040Z",
     "iopub.status.idle": "2023-08-24T16:20:13.524138Z",
     "shell.execute_reply": "2023-08-24T16:20:13.523267Z"
    },
    "papermill": {
     "duration": 0.078924,
     "end_time": "2023-08-24T16:20:13.526445",
     "exception": false,
     "start_time": "2023-08-24T16:20:13.447521",
     "status": "completed"
    },
    "tags": []
   },
   "outputs": [
    {
     "name": "stdout",
     "output_type": "stream",
     "text": [
      "     *\n",
      "    **\n",
      "   ***\n",
      "  ****\n",
      " *****\n"
     ]
    }
   ],
   "source": [
    "for i in range(5):\n",
    "    print(\" \"* (4-int(i)),\"*\" * (i+1))"
   ]
  },
  {
   "cell_type": "code",
   "execution_count": 64,
   "id": "2257ee5e",
   "metadata": {
    "execution": {
     "iopub.execute_input": "2023-08-24T16:20:13.638417Z",
     "iopub.status.busy": "2023-08-24T16:20:13.637674Z",
     "iopub.status.idle": "2023-08-24T16:20:13.641912Z",
     "shell.execute_reply": "2023-08-24T16:20:13.641082Z"
    },
    "papermill": {
     "duration": 0.061841,
     "end_time": "2023-08-24T16:20:13.643721",
     "exception": false,
     "start_time": "2023-08-24T16:20:13.581880",
     "status": "completed"
    },
    "tags": []
   },
   "outputs": [],
   "source": [
    "#        * \n",
    "#       * * \n",
    "#      * * * \n",
    "#     * * * * \n",
    "#    * * * * *"
   ]
  },
  {
   "cell_type": "code",
   "execution_count": 65,
   "id": "537b04d8",
   "metadata": {
    "execution": {
     "iopub.execute_input": "2023-08-24T16:20:13.761889Z",
     "iopub.status.busy": "2023-08-24T16:20:13.761067Z",
     "iopub.status.idle": "2023-08-24T16:20:13.767572Z",
     "shell.execute_reply": "2023-08-24T16:20:13.766144Z"
    },
    "papermill": {
     "duration": 0.06712,
     "end_time": "2023-08-24T16:20:13.769672",
     "exception": false,
     "start_time": "2023-08-24T16:20:13.702552",
     "status": "completed"
    },
    "tags": []
   },
   "outputs": [
    {
     "name": "stdout",
     "output_type": "stream",
     "text": [
      "        * \n",
      "       * * \n",
      "      * * * \n",
      "     * * * * \n",
      "    * * * * * \n"
     ]
    }
   ],
   "source": [
    "for i in range(5) :\n",
    "    print(\" \" * (7-int(i)),\"* \" * (int(i) + 1))"
   ]
  },
  {
   "cell_type": "code",
   "execution_count": 66,
   "id": "8ba2d513",
   "metadata": {
    "execution": {
     "iopub.execute_input": "2023-08-24T16:20:13.885153Z",
     "iopub.status.busy": "2023-08-24T16:20:13.884340Z",
     "iopub.status.idle": "2023-08-24T16:20:13.888783Z",
     "shell.execute_reply": "2023-08-24T16:20:13.887906Z"
    },
    "papermill": {
     "duration": 0.06257,
     "end_time": "2023-08-24T16:20:13.890774",
     "exception": false,
     "start_time": "2023-08-24T16:20:13.828204",
     "status": "completed"
    },
    "tags": []
   },
   "outputs": [],
   "source": [
    "#  * * * * *     \n",
    "#  * * * * * \n",
    "#   * * * * \n",
    "#    * * * \n",
    "#     * * \n",
    "#      * "
   ]
  },
  {
   "cell_type": "code",
   "execution_count": 67,
   "id": "b7961ecb",
   "metadata": {
    "execution": {
     "iopub.execute_input": "2023-08-24T16:20:14.003154Z",
     "iopub.status.busy": "2023-08-24T16:20:14.002255Z",
     "iopub.status.idle": "2023-08-24T16:20:14.008743Z",
     "shell.execute_reply": "2023-08-24T16:20:14.007284Z"
    },
    "papermill": {
     "duration": 0.065036,
     "end_time": "2023-08-24T16:20:14.010722",
     "exception": false,
     "start_time": "2023-08-24T16:20:13.945686",
     "status": "completed"
    },
    "tags": []
   },
   "outputs": [
    {
     "name": "stdout",
     "output_type": "stream",
     "text": [
      "  * * * * * \n",
      "  * * * * * \n",
      "   * * * * \n",
      "    * * * \n",
      "     * * \n",
      "      * \n"
     ]
    }
   ],
   "source": [
    "print(\" \",\"* \"* 5)\n",
    "for i in range(5) :\n",
    "    print(\" \"* (int(i) +1),\"* \"* (5- int(i)))"
   ]
  },
  {
   "cell_type": "code",
   "execution_count": 68,
   "id": "efe207c0",
   "metadata": {
    "execution": {
     "iopub.execute_input": "2023-08-24T16:20:14.123232Z",
     "iopub.status.busy": "2023-08-24T16:20:14.122396Z",
     "iopub.status.idle": "2023-08-24T16:20:14.128812Z",
     "shell.execute_reply": "2023-08-24T16:20:14.127580Z"
    },
    "papermill": {
     "duration": 0.06425,
     "end_time": "2023-08-24T16:20:14.130788",
     "exception": false,
     "start_time": "2023-08-24T16:20:14.066538",
     "status": "completed"
    },
    "tags": []
   },
   "outputs": [
    {
     "name": "stdout",
     "output_type": "stream",
     "text": [
      "10\n",
      "9\n"
     ]
    }
   ],
   "source": [
    "a = 10\n",
    "\n",
    "while a > 1 :\n",
    "    print(a)\n",
    "    if a == 9 :\n",
    "        break\n",
    "    a = a - 1"
   ]
  },
  {
   "cell_type": "code",
   "execution_count": 69,
   "id": "623e9bcc",
   "metadata": {
    "execution": {
     "iopub.execute_input": "2023-08-24T16:20:14.246668Z",
     "iopub.status.busy": "2023-08-24T16:20:14.245704Z",
     "iopub.status.idle": "2023-08-24T16:20:14.250296Z",
     "shell.execute_reply": "2023-08-24T16:20:14.249448Z"
    },
    "papermill": {
     "duration": 0.066159,
     "end_time": "2023-08-24T16:20:14.252267",
     "exception": false,
     "start_time": "2023-08-24T16:20:14.186108",
     "status": "completed"
    },
    "tags": []
   },
   "outputs": [],
   "source": [
    "# day - 3"
   ]
  },
  {
   "cell_type": "code",
   "execution_count": 70,
   "id": "c56f10d0",
   "metadata": {
    "execution": {
     "iopub.execute_input": "2023-08-24T16:20:14.366853Z",
     "iopub.status.busy": "2023-08-24T16:20:14.366033Z",
     "iopub.status.idle": "2023-08-24T16:20:14.372115Z",
     "shell.execute_reply": "2023-08-24T16:20:14.371018Z"
    },
    "papermill": {
     "duration": 0.066866,
     "end_time": "2023-08-24T16:20:14.374083",
     "exception": false,
     "start_time": "2023-08-24T16:20:14.307217",
     "status": "completed"
    },
    "tags": []
   },
   "outputs": [
    {
     "name": "stdout",
     "output_type": "stream",
     "text": [
      "        * \n",
      "       * * \n",
      "      * * * \n",
      "     * * * * \n",
      "    * * * * * \n"
     ]
    }
   ],
   "source": [
    "for i  in range(5) :\n",
    "    print(\" \" * (7 - int(i)), \"* \" * (int(i) + 1))"
   ]
  },
  {
   "cell_type": "code",
   "execution_count": 71,
   "id": "16ab54f8",
   "metadata": {
    "execution": {
     "iopub.execute_input": "2023-08-24T16:20:14.490689Z",
     "iopub.status.busy": "2023-08-24T16:20:14.490378Z",
     "iopub.status.idle": "2023-08-24T16:20:14.494911Z",
     "shell.execute_reply": "2023-08-24T16:20:14.493809Z"
    },
    "papermill": {
     "duration": 0.065021,
     "end_time": "2023-08-24T16:20:14.497031",
     "exception": false,
     "start_time": "2023-08-24T16:20:14.432010",
     "status": "completed"
    },
    "tags": []
   },
   "outputs": [],
   "source": [
    "#         * \n",
    "#        * *      \n",
    "#       * * * \n",
    "#      * * * * \n",
    "#     * * * * *"
   ]
  },
  {
   "cell_type": "code",
   "execution_count": 72,
   "id": "9b38d049",
   "metadata": {
    "execution": {
     "iopub.execute_input": "2023-08-24T16:20:14.613755Z",
     "iopub.status.busy": "2023-08-24T16:20:14.612830Z",
     "iopub.status.idle": "2023-08-24T16:20:14.617367Z",
     "shell.execute_reply": "2023-08-24T16:20:14.616329Z"
    },
    "papermill": {
     "duration": 0.064933,
     "end_time": "2023-08-24T16:20:14.619517",
     "exception": false,
     "start_time": "2023-08-24T16:20:14.554584",
     "status": "completed"
    },
    "tags": []
   },
   "outputs": [],
   "source": [
    "# 1\n",
    "# 2 2\n",
    "# 3 3 3\n",
    "# 4 4 4 4\n",
    "# 5 5 5 5 5"
   ]
  },
  {
   "cell_type": "code",
   "execution_count": 73,
   "id": "af067a82",
   "metadata": {
    "execution": {
     "iopub.execute_input": "2023-08-24T16:20:14.742253Z",
     "iopub.status.busy": "2023-08-24T16:20:14.741379Z",
     "iopub.status.idle": "2023-08-24T16:20:14.747572Z",
     "shell.execute_reply": "2023-08-24T16:20:14.746609Z"
    },
    "papermill": {
     "duration": 0.069384,
     "end_time": "2023-08-24T16:20:14.749718",
     "exception": false,
     "start_time": "2023-08-24T16:20:14.680334",
     "status": "completed"
    },
    "tags": []
   },
   "outputs": [
    {
     "name": "stdout",
     "output_type": "stream",
     "text": [
      "1 \n",
      "2 2 \n",
      "3 3 3 \n",
      "4 4 4 4 \n",
      "5 5 5 5 5 \n"
     ]
    }
   ],
   "source": [
    "for i in range(5) :\n",
    "    print((str(i+1)+ \" \") * (int(i)+1))"
   ]
  },
  {
   "cell_type": "code",
   "execution_count": 74,
   "id": "61d75e54",
   "metadata": {
    "execution": {
     "iopub.execute_input": "2023-08-24T16:20:14.864429Z",
     "iopub.status.busy": "2023-08-24T16:20:14.863640Z",
     "iopub.status.idle": "2023-08-24T16:20:14.868058Z",
     "shell.execute_reply": "2023-08-24T16:20:14.867214Z"
    },
    "papermill": {
     "duration": 0.064878,
     "end_time": "2023-08-24T16:20:14.870087",
     "exception": false,
     "start_time": "2023-08-24T16:20:14.805209",
     "status": "completed"
    },
    "tags": []
   },
   "outputs": [],
   "source": [
    "# a\n",
    "# b b\n",
    "# c c c\n",
    "# d d d d\n",
    "# # e e e e e\n"
   ]
  },
  {
   "cell_type": "code",
   "execution_count": 75,
   "id": "aa9907dc",
   "metadata": {
    "execution": {
     "iopub.execute_input": "2023-08-24T16:20:14.984110Z",
     "iopub.status.busy": "2023-08-24T16:20:14.983302Z",
     "iopub.status.idle": "2023-08-24T16:20:14.989767Z",
     "shell.execute_reply": "2023-08-24T16:20:14.988610Z"
    },
    "papermill": {
     "duration": 0.065949,
     "end_time": "2023-08-24T16:20:14.992012",
     "exception": false,
     "start_time": "2023-08-24T16:20:14.926063",
     "status": "completed"
    },
    "tags": []
   },
   "outputs": [
    {
     "name": "stdout",
     "output_type": "stream",
     "text": [
      "a \n",
      "b b \n",
      "c c c \n",
      "d d d d \n",
      "e e e e e \n"
     ]
    }
   ],
   "source": [
    "anbhu = [\"a\",\"b\",\"c\",\"d\",\"e\"]\n",
    "for i in range(5) :\n",
    "    print((anbhu[i]+\" \") * (int(i)+1))"
   ]
  },
  {
   "cell_type": "code",
   "execution_count": 76,
   "id": "8881a67e",
   "metadata": {
    "execution": {
     "iopub.execute_input": "2023-08-24T16:20:15.109586Z",
     "iopub.status.busy": "2023-08-24T16:20:15.108735Z",
     "iopub.status.idle": "2023-08-24T16:20:15.114987Z",
     "shell.execute_reply": "2023-08-24T16:20:15.113795Z"
    },
    "papermill": {
     "duration": 0.066289,
     "end_time": "2023-08-24T16:20:15.117065",
     "exception": false,
     "start_time": "2023-08-24T16:20:15.050776",
     "status": "completed"
    },
    "tags": []
   },
   "outputs": [
    {
     "name": "stdout",
     "output_type": "stream",
     "text": [
      "         *\n",
      "       **\n",
      "     ***\n",
      "   ****\n",
      " *****\n"
     ]
    }
   ],
   "source": [
    "for i in range(5) :\n",
    "    print(\" \" * (2* (4-int(i))), \"*\" * (int(i) + 1) )"
   ]
  },
  {
   "cell_type": "code",
   "execution_count": 77,
   "id": "c6139351",
   "metadata": {
    "execution": {
     "iopub.execute_input": "2023-08-24T16:20:15.235661Z",
     "iopub.status.busy": "2023-08-24T16:20:15.235334Z",
     "iopub.status.idle": "2023-08-24T16:20:15.239447Z",
     "shell.execute_reply": "2023-08-24T16:20:15.238476Z"
    },
    "papermill": {
     "duration": 0.068544,
     "end_time": "2023-08-24T16:20:15.241634",
     "exception": false,
     "start_time": "2023-08-24T16:20:15.173090",
     "status": "completed"
    },
    "tags": []
   },
   "outputs": [],
   "source": [
    "# * * * * * \n",
    "# * * * * * \n",
    "#  * * * * \n",
    "#   * * * \n",
    "#    * * \n",
    "#     * "
   ]
  },
  {
   "cell_type": "code",
   "execution_count": 78,
   "id": "4a3ac06c",
   "metadata": {
    "execution": {
     "iopub.execute_input": "2023-08-24T16:20:15.369484Z",
     "iopub.status.busy": "2023-08-24T16:20:15.369145Z",
     "iopub.status.idle": "2023-08-24T16:20:15.374633Z",
     "shell.execute_reply": "2023-08-24T16:20:15.373719Z"
    },
    "papermill": {
     "duration": 0.070962,
     "end_time": "2023-08-24T16:20:15.377382",
     "exception": false,
     "start_time": "2023-08-24T16:20:15.306420",
     "status": "completed"
    },
    "tags": []
   },
   "outputs": [
    {
     "name": "stdout",
     "output_type": "stream",
     "text": [
      " * * * * *\n",
      " * * * * * \n",
      "  * * * * \n",
      "   * * * \n",
      "    * * \n",
      "     * \n"
     ]
    }
   ],
   "source": [
    "print(\" *\"* 5)\n",
    "for i in range(5) :\n",
    "    print(\" \" * i, \"* \" * (5- int(i)))"
   ]
  },
  {
   "cell_type": "code",
   "execution_count": 79,
   "id": "eaa611eb",
   "metadata": {
    "execution": {
     "iopub.execute_input": "2023-08-24T16:20:15.496324Z",
     "iopub.status.busy": "2023-08-24T16:20:15.495994Z",
     "iopub.status.idle": "2023-08-24T16:20:15.500150Z",
     "shell.execute_reply": "2023-08-24T16:20:15.499160Z"
    },
    "papermill": {
     "duration": 0.06439,
     "end_time": "2023-08-24T16:20:15.502157",
     "exception": false,
     "start_time": "2023-08-24T16:20:15.437767",
     "status": "completed"
    },
    "tags": []
   },
   "outputs": [],
   "source": [
    "# 5 5 5 5 5 \n",
    "\n",
    "# 5 5 5 5 \n",
    "\n",
    "# 5 5 5 \n",
    "\n",
    "# 5 5 \n",
    "\n",
    "# 5"
   ]
  },
  {
   "cell_type": "code",
   "execution_count": 80,
   "id": "7911d9e6",
   "metadata": {
    "execution": {
     "iopub.execute_input": "2023-08-24T16:20:15.625605Z",
     "iopub.status.busy": "2023-08-24T16:20:15.625287Z",
     "iopub.status.idle": "2023-08-24T16:20:15.630265Z",
     "shell.execute_reply": "2023-08-24T16:20:15.629320Z"
    },
    "papermill": {
     "duration": 0.065777,
     "end_time": "2023-08-24T16:20:15.633013",
     "exception": false,
     "start_time": "2023-08-24T16:20:15.567236",
     "status": "completed"
    },
    "tags": []
   },
   "outputs": [
    {
     "name": "stdout",
     "output_type": "stream",
     "text": [
      "5 5 5 5 5 \n",
      "5 5 5 5 \n",
      "5 5 5 \n",
      "5 5 \n",
      "5 \n"
     ]
    }
   ],
   "source": [
    "for i in range(5) :\n",
    "    print(\"5 \" *( 5 - int(i)))"
   ]
  },
  {
   "cell_type": "code",
   "execution_count": 81,
   "id": "857351f8",
   "metadata": {
    "execution": {
     "iopub.execute_input": "2023-08-24T16:20:15.751420Z",
     "iopub.status.busy": "2023-08-24T16:20:15.750593Z",
     "iopub.status.idle": "2023-08-24T16:20:15.757064Z",
     "shell.execute_reply": "2023-08-24T16:20:15.755838Z"
    },
    "papermill": {
     "duration": 0.068385,
     "end_time": "2023-08-24T16:20:15.759174",
     "exception": false,
     "start_time": "2023-08-24T16:20:15.690789",
     "status": "completed"
    },
    "tags": []
   },
   "outputs": [
    {
     "name": "stdout",
     "output_type": "stream",
     "text": [
      "asha  is unqualified \n"
     ]
    }
   ],
   "source": [
    "m1 = 80\n",
    "m2 = 80\n",
    "name = \"asha\"\n",
    "\n",
    "if m1 > 85 and m2 > 85 :\n",
    "    print(name , \"is qualified\")\n",
    "else :\n",
    "    print(name , \" is unqualified \")"
   ]
  },
  {
   "cell_type": "code",
   "execution_count": 82,
   "id": "b2e7b659",
   "metadata": {
    "execution": {
     "iopub.execute_input": "2023-08-24T16:20:15.878250Z",
     "iopub.status.busy": "2023-08-24T16:20:15.877366Z",
     "iopub.status.idle": "2023-08-24T16:20:15.882374Z",
     "shell.execute_reply": "2023-08-24T16:20:15.881454Z"
    },
    "papermill": {
     "duration": 0.065694,
     "end_time": "2023-08-24T16:20:15.884366",
     "exception": false,
     "start_time": "2023-08-24T16:20:15.818672",
     "status": "completed"
    },
    "tags": []
   },
   "outputs": [],
   "source": [
    "\n",
    "# print(\"start\")\n",
    "\n",
    "# m1 = int(input(\"enter m1 marks\"))\n",
    "# print(\"m1 done\")\n",
    "# m2 = int(input(\"enter m2 marks\"))\n",
    "# name = input()\n",
    "\n",
    "# if m1 > 85 and m2 > 85 :\n",
    "#     print(name , \"is qualified\")\n",
    "# else :\n",
    "#     print(name , \" is unqualified \")"
   ]
  },
  {
   "cell_type": "code",
   "execution_count": 83,
   "id": "2e377eee",
   "metadata": {
    "execution": {
     "iopub.execute_input": "2023-08-24T16:20:16.001967Z",
     "iopub.status.busy": "2023-08-24T16:20:16.001155Z",
     "iopub.status.idle": "2023-08-24T16:20:16.007618Z",
     "shell.execute_reply": "2023-08-24T16:20:16.006272Z"
    },
    "papermill": {
     "duration": 0.066704,
     "end_time": "2023-08-24T16:20:16.009612",
     "exception": false,
     "start_time": "2023-08-24T16:20:15.942908",
     "status": "completed"
    },
    "tags": []
   },
   "outputs": [
    {
     "name": "stdout",
     "output_type": "stream",
     "text": [
      "sharma is qualified\n"
     ]
    }
   ],
   "source": [
    "m1 = 90\n",
    "m2 = 95\n",
    "name = \"sharma\"\n",
    "\n",
    "if m1 > 85 and m2 > 85 :\n",
    "    print(name , \"is qualified\")\n",
    "else :\n",
    "    print(name , \" is unqualified \")"
   ]
  },
  {
   "cell_type": "code",
   "execution_count": 84,
   "id": "7c4d468c",
   "metadata": {
    "execution": {
     "iopub.execute_input": "2023-08-24T16:20:16.125585Z",
     "iopub.status.busy": "2023-08-24T16:20:16.124667Z",
     "iopub.status.idle": "2023-08-24T16:20:16.132017Z",
     "shell.execute_reply": "2023-08-24T16:20:16.130724Z"
    },
    "papermill": {
     "duration": 0.067568,
     "end_time": "2023-08-24T16:20:16.134257",
     "exception": false,
     "start_time": "2023-08-24T16:20:16.066689",
     "status": "completed"
    },
    "tags": []
   },
   "outputs": [
    {
     "name": "stdout",
     "output_type": "stream",
     "text": [
      "student is qualified\n"
     ]
    }
   ],
   "source": [
    "# write a functin to check \n",
    "def check (m1= 0,m2 = 0,name = \"student\"):\n",
    "    \"\"\"\n",
    "    this is written by @mlv prasad\n",
    "    \"\"\"\n",
    "     \n",
    "    if m1 > 85 and m2 > 85 : # check marks\n",
    "        print(name , \"is qualified\")\n",
    "    else :\n",
    "        print(name, \"no qualified \")\n",
    "\n",
    "\n",
    "check(m1 =  90, m2  = 95)   \n",
    "\n"
   ]
  },
  {
   "cell_type": "code",
   "execution_count": 85,
   "id": "7c2ec933",
   "metadata": {
    "execution": {
     "iopub.execute_input": "2023-08-24T16:20:16.250617Z",
     "iopub.status.busy": "2023-08-24T16:20:16.249825Z",
     "iopub.status.idle": "2023-08-24T16:20:16.255162Z",
     "shell.execute_reply": "2023-08-24T16:20:16.253561Z"
    },
    "papermill": {
     "duration": 0.067668,
     "end_time": "2023-08-24T16:20:16.258795",
     "exception": false,
     "start_time": "2023-08-24T16:20:16.191127",
     "status": "completed"
    },
    "tags": []
   },
   "outputs": [],
   "source": [
    "# yasmin\n",
    "# asha\n",
    "# sharma\n",
    "# anusha\n",
    "\n",
    "\n"
   ]
  },
  {
   "cell_type": "code",
   "execution_count": 86,
   "id": "b21dd77c",
   "metadata": {
    "execution": {
     "iopub.execute_input": "2023-08-24T16:20:16.379753Z",
     "iopub.status.busy": "2023-08-24T16:20:16.379422Z",
     "iopub.status.idle": "2023-08-24T16:20:16.385240Z",
     "shell.execute_reply": "2023-08-24T16:20:16.384354Z"
    },
    "papermill": {
     "duration": 0.071403,
     "end_time": "2023-08-24T16:20:16.387295",
     "exception": false,
     "start_time": "2023-08-24T16:20:16.315892",
     "status": "completed"
    },
    "tags": []
   },
   "outputs": [
    {
     "data": {
      "text/plain": [
       "'\\nyasmin\\nasha\\nanusha\\nsharma\\n\\n'"
      ]
     },
     "execution_count": 86,
     "metadata": {},
     "output_type": "execute_result"
    }
   ],
   "source": [
    "\"\"\"\n",
    "yasmin\n",
    "asha\n",
    "anusha\n",
    "sharma\n",
    "\n",
    "\"\"\""
   ]
  },
  {
   "cell_type": "code",
   "execution_count": 87,
   "id": "e63ce017",
   "metadata": {
    "execution": {
     "iopub.execute_input": "2023-08-24T16:20:16.503625Z",
     "iopub.status.busy": "2023-08-24T16:20:16.502777Z",
     "iopub.status.idle": "2023-08-24T16:20:16.508831Z",
     "shell.execute_reply": "2023-08-24T16:20:16.507430Z"
    },
    "papermill": {
     "duration": 0.066526,
     "end_time": "2023-08-24T16:20:16.510789",
     "exception": false,
     "start_time": "2023-08-24T16:20:16.444263",
     "status": "completed"
    },
    "tags": []
   },
   "outputs": [
    {
     "name": "stdout",
     "output_type": "stream",
     "text": [
      "69\n",
      "69\n"
     ]
    }
   ],
   "source": [
    "print(str(6) + \"9\")\n",
    "print(\"6\" + \"9\")"
   ]
  },
  {
   "cell_type": "code",
   "execution_count": 88,
   "id": "cca0ec8c",
   "metadata": {
    "execution": {
     "iopub.execute_input": "2023-08-24T16:20:16.627977Z",
     "iopub.status.busy": "2023-08-24T16:20:16.627151Z",
     "iopub.status.idle": "2023-08-24T16:20:16.633748Z",
     "shell.execute_reply": "2023-08-24T16:20:16.632442Z"
    },
    "papermill": {
     "duration": 0.067325,
     "end_time": "2023-08-24T16:20:16.635863",
     "exception": false,
     "start_time": "2023-08-24T16:20:16.568538",
     "status": "completed"
    },
    "tags": []
   },
   "outputs": [
    {
     "name": "stdout",
     "output_type": "stream",
     "text": [
      "16\n",
      "90\n"
     ]
    }
   ],
   "source": [
    "ans = 9 \n",
    "\n",
    "def add (a,b) :\n",
    "    global ans\n",
    "    ans = a + b  \n",
    "    print(ans)\n",
    "    \n",
    "add(7,9) \n",
    "ans = 90 \n",
    "print(ans)\n",
    "    \n"
   ]
  },
  {
   "cell_type": "code",
   "execution_count": 89,
   "id": "64b1c99f",
   "metadata": {
    "execution": {
     "iopub.execute_input": "2023-08-24T16:20:16.796434Z",
     "iopub.status.busy": "2023-08-24T16:20:16.795767Z",
     "iopub.status.idle": "2023-08-24T16:20:16.802370Z",
     "shell.execute_reply": "2023-08-24T16:20:16.801010Z"
    },
    "papermill": {
     "duration": 0.06787,
     "end_time": "2023-08-24T16:20:16.804484",
     "exception": false,
     "start_time": "2023-08-24T16:20:16.736614",
     "status": "completed"
    },
    "tags": []
   },
   "outputs": [
    {
     "name": "stdout",
     "output_type": "stream",
     "text": [
      "Python is fantastic\n"
     ]
    }
   ],
   "source": [
    "def myfunc():\n",
    "  global x\n",
    "  x = \"fantastic\"\n",
    "\n",
    "myfunc()\n",
    "\n",
    "print(\"Python is \" + x)"
   ]
  },
  {
   "cell_type": "code",
   "execution_count": 90,
   "id": "c8ea5a10",
   "metadata": {
    "execution": {
     "iopub.execute_input": "2023-08-24T16:20:16.921079Z",
     "iopub.status.busy": "2023-08-24T16:20:16.920162Z",
     "iopub.status.idle": "2023-08-24T16:20:16.926730Z",
     "shell.execute_reply": "2023-08-24T16:20:16.925455Z"
    },
    "papermill": {
     "duration": 0.067503,
     "end_time": "2023-08-24T16:20:16.928752",
     "exception": false,
     "start_time": "2023-08-24T16:20:16.861249",
     "status": "completed"
    },
    "tags": []
   },
   "outputs": [
    {
     "name": "stdout",
     "output_type": "stream",
     "text": [
      "Python is yasmin\n"
     ]
    }
   ],
   "source": [
    "x = \"awesome\"\n",
    "\n",
    "def myfunc():\n",
    "#   global x\n",
    "  x = \"fantastic\"\n",
    "    \n",
    "x = \"yasmin\"\n",
    "\n",
    "myfunc()\n",
    "\n",
    "print(\"Python is \" + x)"
   ]
  },
  {
   "cell_type": "code",
   "execution_count": 91,
   "id": "e224672d",
   "metadata": {
    "execution": {
     "iopub.execute_input": "2023-08-24T16:20:17.049335Z",
     "iopub.status.busy": "2023-08-24T16:20:17.048450Z",
     "iopub.status.idle": "2023-08-24T16:20:17.052985Z",
     "shell.execute_reply": "2023-08-24T16:20:17.052104Z"
    },
    "papermill": {
     "duration": 0.068538,
     "end_time": "2023-08-24T16:20:17.055047",
     "exception": false,
     "start_time": "2023-08-24T16:20:16.986509",
     "status": "completed"
    },
    "tags": []
   },
   "outputs": [],
   "source": [
    "# a = 5 + 2j\n",
    "# real(a)"
   ]
  },
  {
   "cell_type": "code",
   "execution_count": 92,
   "id": "0f3be27b",
   "metadata": {
    "execution": {
     "iopub.execute_input": "2023-08-24T16:20:17.171623Z",
     "iopub.status.busy": "2023-08-24T16:20:17.170701Z",
     "iopub.status.idle": "2023-08-24T16:20:17.175311Z",
     "shell.execute_reply": "2023-08-24T16:20:17.174411Z"
    },
    "papermill": {
     "duration": 0.064497,
     "end_time": "2023-08-24T16:20:17.177334",
     "exception": false,
     "start_time": "2023-08-24T16:20:17.112837",
     "status": "completed"
    },
    "tags": []
   },
   "outputs": [],
   "source": [
    "# a = 5 + 2j\n",
    "# x = complex(a)\n",
    "# real(x)"
   ]
  },
  {
   "cell_type": "code",
   "execution_count": 93,
   "id": "dc19ce00",
   "metadata": {
    "execution": {
     "iopub.execute_input": "2023-08-24T16:20:17.299908Z",
     "iopub.status.busy": "2023-08-24T16:20:17.299101Z",
     "iopub.status.idle": "2023-08-24T16:20:17.304636Z",
     "shell.execute_reply": "2023-08-24T16:20:17.303595Z"
    },
    "papermill": {
     "duration": 0.070528,
     "end_time": "2023-08-24T16:20:17.306735",
     "exception": false,
     "start_time": "2023-08-24T16:20:17.236207",
     "status": "completed"
    },
    "tags": []
   },
   "outputs": [
    {
     "name": "stdout",
     "output_type": "stream",
     "text": [
      "3500000000000000.0\n"
     ]
    }
   ],
   "source": [
    "x = 35e14\n",
    "print(x)"
   ]
  },
  {
   "cell_type": "code",
   "execution_count": 94,
   "id": "e5757656",
   "metadata": {
    "execution": {
     "iopub.execute_input": "2023-08-24T16:20:17.427748Z",
     "iopub.status.busy": "2023-08-24T16:20:17.427407Z",
     "iopub.status.idle": "2023-08-24T16:20:17.432380Z",
     "shell.execute_reply": "2023-08-24T16:20:17.431470Z"
    },
    "papermill": {
     "duration": 0.067469,
     "end_time": "2023-08-24T16:20:17.434824",
     "exception": false,
     "start_time": "2023-08-24T16:20:17.367355",
     "status": "completed"
    },
    "tags": []
   },
   "outputs": [
    {
     "name": "stdout",
     "output_type": "stream",
     "text": [
      "Lorem ipsum dolor sit amet,\n",
      "consectetur adipiscing elit,\n",
      "sed do eiusmod tempor incididunt\n",
      "ut labore et dolore magna aliqua.\n"
     ]
    }
   ],
   "source": [
    "a = \"\"\"Lorem ipsum dolor sit amet,\n",
    "consectetur adipiscing elit,\n",
    "sed do eiusmod tempor incididunt\n",
    "ut labore et dolore magna aliqua.\"\"\"\n",
    "print(a)"
   ]
  },
  {
   "cell_type": "code",
   "execution_count": 95,
   "id": "b932663f",
   "metadata": {
    "execution": {
     "iopub.execute_input": "2023-08-24T16:20:17.551361Z",
     "iopub.status.busy": "2023-08-24T16:20:17.551016Z",
     "iopub.status.idle": "2023-08-24T16:20:17.556141Z",
     "shell.execute_reply": "2023-08-24T16:20:17.555220Z"
    },
    "papermill": {
     "duration": 0.066985,
     "end_time": "2023-08-24T16:20:17.558429",
     "exception": false,
     "start_time": "2023-08-24T16:20:17.491444",
     "status": "completed"
    },
    "tags": []
   },
   "outputs": [
    {
     "name": "stdout",
     "output_type": "stream",
     "text": [
      "Lorem ipsum dolor sit amet,consectetur adipiscing elit,sed do eiusmod tempor incididuntut labore et dolore magna aliqua.\n"
     ]
    }
   ],
   "source": [
    "a = \"Lorem ipsum dolor sit amet,consectetur adipiscing elit,sed do eiusmod tempor incididuntut labore et dolore magna aliqua.\"\n",
    "print(a)"
   ]
  },
  {
   "cell_type": "code",
   "execution_count": 96,
   "id": "8ac79472",
   "metadata": {
    "execution": {
     "iopub.execute_input": "2023-08-24T16:20:17.678670Z",
     "iopub.status.busy": "2023-08-24T16:20:17.677766Z",
     "iopub.status.idle": "2023-08-24T16:20:17.682776Z",
     "shell.execute_reply": "2023-08-24T16:20:17.681928Z"
    },
    "papermill": {
     "duration": 0.067382,
     "end_time": "2023-08-24T16:20:17.685225",
     "exception": false,
     "start_time": "2023-08-24T16:20:17.617843",
     "status": "completed"
    },
    "tags": []
   },
   "outputs": [
    {
     "name": "stdout",
     "output_type": "stream",
     "text": [
      "13\n"
     ]
    }
   ],
   "source": [
    "a = \"Hello, World!\"\n",
    "print(len(a))"
   ]
  },
  {
   "cell_type": "code",
   "execution_count": 97,
   "id": "6aace9e0",
   "metadata": {
    "execution": {
     "iopub.execute_input": "2023-08-24T16:20:17.802771Z",
     "iopub.status.busy": "2023-08-24T16:20:17.802442Z",
     "iopub.status.idle": "2023-08-24T16:20:17.808552Z",
     "shell.execute_reply": "2023-08-24T16:20:17.807661Z"
    },
    "papermill": {
     "duration": 0.067477,
     "end_time": "2023-08-24T16:20:17.810778",
     "exception": false,
     "start_time": "2023-08-24T16:20:17.743301",
     "status": "completed"
    },
    "tags": []
   },
   "outputs": [
    {
     "data": {
      "text/plain": [
       "'llo'"
      ]
     },
     "execution_count": 97,
     "metadata": {},
     "output_type": "execute_result"
    }
   ],
   "source": [
    "a = \"Hello, World!\"\n",
    "a[2:5]\n"
   ]
  },
  {
   "cell_type": "code",
   "execution_count": 98,
   "id": "6becbabb",
   "metadata": {
    "execution": {
     "iopub.execute_input": "2023-08-24T16:20:17.928869Z",
     "iopub.status.busy": "2023-08-24T16:20:17.928020Z",
     "iopub.status.idle": "2023-08-24T16:20:17.934778Z",
     "shell.execute_reply": "2023-08-24T16:20:17.933843Z"
    },
    "papermill": {
     "duration": 0.066327,
     "end_time": "2023-08-24T16:20:17.936711",
     "exception": false,
     "start_time": "2023-08-24T16:20:17.870384",
     "status": "completed"
    },
    "tags": []
   },
   "outputs": [
    {
     "data": {
      "text/plain": [
       "[3, 4, 5]"
      ]
     },
     "execution_count": 98,
     "metadata": {},
     "output_type": "execute_result"
    }
   ],
   "source": [
    "a = [1,2,3,4,5]\n",
    "a[2:5]"
   ]
  },
  {
   "cell_type": "code",
   "execution_count": 99,
   "id": "0f52f7b1",
   "metadata": {
    "execution": {
     "iopub.execute_input": "2023-08-24T16:20:18.058461Z",
     "iopub.status.busy": "2023-08-24T16:20:18.057483Z",
     "iopub.status.idle": "2023-08-24T16:20:18.063423Z",
     "shell.execute_reply": "2023-08-24T16:20:18.062316Z"
    },
    "papermill": {
     "duration": 0.070624,
     "end_time": "2023-08-24T16:20:18.065376",
     "exception": false,
     "start_time": "2023-08-24T16:20:17.994752",
     "status": "completed"
    },
    "tags": []
   },
   "outputs": [
    {
     "name": "stdout",
     "output_type": "stream",
     "text": [
      "Hello\n"
     ]
    }
   ],
   "source": [
    "b = \"Hello, World!\"\n",
    "print(b[:5])"
   ]
  },
  {
   "cell_type": "code",
   "execution_count": 100,
   "id": "172771b3",
   "metadata": {
    "execution": {
     "iopub.execute_input": "2023-08-24T16:20:18.186785Z",
     "iopub.status.busy": "2023-08-24T16:20:18.185984Z",
     "iopub.status.idle": "2023-08-24T16:20:18.191757Z",
     "shell.execute_reply": "2023-08-24T16:20:18.190494Z"
    },
    "papermill": {
     "duration": 0.06669,
     "end_time": "2023-08-24T16:20:18.193768",
     "exception": false,
     "start_time": "2023-08-24T16:20:18.127078",
     "status": "completed"
    },
    "tags": []
   },
   "outputs": [
    {
     "name": "stdout",
     "output_type": "stream",
     "text": [
      "llo, World!\n"
     ]
    }
   ],
   "source": [
    "b = \"Hello, World!\"\n",
    "print(b[2:])"
   ]
  },
  {
   "cell_type": "code",
   "execution_count": 101,
   "id": "c4e1cc59",
   "metadata": {
    "execution": {
     "iopub.execute_input": "2023-08-24T16:20:18.313344Z",
     "iopub.status.busy": "2023-08-24T16:20:18.313029Z",
     "iopub.status.idle": "2023-08-24T16:20:18.318058Z",
     "shell.execute_reply": "2023-08-24T16:20:18.317039Z"
    },
    "papermill": {
     "duration": 0.068936,
     "end_time": "2023-08-24T16:20:18.320511",
     "exception": false,
     "start_time": "2023-08-24T16:20:18.251575",
     "status": "completed"
    },
    "tags": []
   },
   "outputs": [
    {
     "name": "stdout",
     "output_type": "stream",
     "text": [
      "orl\n"
     ]
    }
   ],
   "source": [
    "b = \"Hello, World!\"\n",
    "print(b[-5:-2])"
   ]
  },
  {
   "cell_type": "code",
   "execution_count": 102,
   "id": "7c8b7d11",
   "metadata": {
    "execution": {
     "iopub.execute_input": "2023-08-24T16:20:18.438548Z",
     "iopub.status.busy": "2023-08-24T16:20:18.438248Z",
     "iopub.status.idle": "2023-08-24T16:20:18.442872Z",
     "shell.execute_reply": "2023-08-24T16:20:18.442007Z"
    },
    "papermill": {
     "duration": 0.065431,
     "end_time": "2023-08-24T16:20:18.445593",
     "exception": false,
     "start_time": "2023-08-24T16:20:18.380162",
     "status": "completed"
    },
    "tags": []
   },
   "outputs": [
    {
     "name": "stdout",
     "output_type": "stream",
     "text": [
      "HELLO, WORLD!\n"
     ]
    }
   ],
   "source": [
    "a = \"Hello, World!\"\n",
    "print(a.upper())"
   ]
  },
  {
   "cell_type": "code",
   "execution_count": 103,
   "id": "f7297827",
   "metadata": {
    "execution": {
     "iopub.execute_input": "2023-08-24T16:20:18.569056Z",
     "iopub.status.busy": "2023-08-24T16:20:18.568746Z",
     "iopub.status.idle": "2023-08-24T16:20:18.573544Z",
     "shell.execute_reply": "2023-08-24T16:20:18.572636Z"
    },
    "papermill": {
     "duration": 0.067205,
     "end_time": "2023-08-24T16:20:18.575907",
     "exception": false,
     "start_time": "2023-08-24T16:20:18.508702",
     "status": "completed"
    },
    "tags": []
   },
   "outputs": [
    {
     "name": "stdout",
     "output_type": "stream",
     "text": [
      "hello, world!\n"
     ]
    }
   ],
   "source": [
    "a = \"Hello, World!\"\n",
    "print(a.lower())"
   ]
  },
  {
   "cell_type": "code",
   "execution_count": 104,
   "id": "126b58fb",
   "metadata": {
    "execution": {
     "iopub.execute_input": "2023-08-24T16:20:18.695538Z",
     "iopub.status.busy": "2023-08-24T16:20:18.694700Z",
     "iopub.status.idle": "2023-08-24T16:20:18.700806Z",
     "shell.execute_reply": "2023-08-24T16:20:18.699658Z"
    },
    "papermill": {
     "duration": 0.066695,
     "end_time": "2023-08-24T16:20:18.702757",
     "exception": false,
     "start_time": "2023-08-24T16:20:18.636062",
     "status": "completed"
    },
    "tags": []
   },
   "outputs": [
    {
     "name": "stdout",
     "output_type": "stream",
     "text": [
      "Hello, World!\n"
     ]
    }
   ],
   "source": [
    "a = \" Hello, World! \"\n",
    "print(a.strip()) # returns \"Hello, World!\""
   ]
  },
  {
   "cell_type": "code",
   "execution_count": 105,
   "id": "d4c829a7",
   "metadata": {
    "execution": {
     "iopub.execute_input": "2023-08-24T16:20:18.821801Z",
     "iopub.status.busy": "2023-08-24T16:20:18.821003Z",
     "iopub.status.idle": "2023-08-24T16:20:18.826864Z",
     "shell.execute_reply": "2023-08-24T16:20:18.825510Z"
    },
    "papermill": {
     "duration": 0.06771,
     "end_time": "2023-08-24T16:20:18.828864",
     "exception": false,
     "start_time": "2023-08-24T16:20:18.761154",
     "status": "completed"
    },
    "tags": []
   },
   "outputs": [
    {
     "name": "stdout",
     "output_type": "stream",
     "text": [
      "Jllo, World!\n"
     ]
    }
   ],
   "source": [
    "a = \"Hello, World!\"\n",
    "print(a.replace(\"He\", \"J\"))"
   ]
  },
  {
   "cell_type": "code",
   "execution_count": 106,
   "id": "6b1912e2",
   "metadata": {
    "execution": {
     "iopub.execute_input": "2023-08-24T16:20:18.947311Z",
     "iopub.status.busy": "2023-08-24T16:20:18.946379Z",
     "iopub.status.idle": "2023-08-24T16:20:18.953468Z",
     "shell.execute_reply": "2023-08-24T16:20:18.951668Z"
    },
    "papermill": {
     "duration": 0.069549,
     "end_time": "2023-08-24T16:20:18.955835",
     "exception": false,
     "start_time": "2023-08-24T16:20:18.886286",
     "status": "completed"
    },
    "tags": []
   },
   "outputs": [
    {
     "name": "stdout",
     "output_type": "stream",
     "text": [
      "['Hello,', 'World!', 'prasad!', 'sharma']\n"
     ]
    }
   ],
   "source": [
    "a = \"Hello, World! prasad! sharma\"\n",
    "print(a.split())"
   ]
  },
  {
   "cell_type": "code",
   "execution_count": 107,
   "id": "0bc0c35f",
   "metadata": {
    "execution": {
     "iopub.execute_input": "2023-08-24T16:20:19.078776Z",
     "iopub.status.busy": "2023-08-24T16:20:19.077757Z",
     "iopub.status.idle": "2023-08-24T16:20:19.084649Z",
     "shell.execute_reply": "2023-08-24T16:20:19.083688Z"
    },
    "papermill": {
     "duration": 0.072561,
     "end_time": "2023-08-24T16:20:19.086690",
     "exception": false,
     "start_time": "2023-08-24T16:20:19.014129",
     "status": "completed"
    },
    "tags": []
   },
   "outputs": [
    {
     "data": {
      "text/plain": [
       "'anusha superstudent'"
      ]
     },
     "execution_count": 107,
     "metadata": {},
     "output_type": "execute_result"
    }
   ],
   "source": [
    "a = \"anusha\" +\" \"+ \"superstudent\"\n",
    "a"
   ]
  },
  {
   "cell_type": "code",
   "execution_count": 108,
   "id": "4497efac",
   "metadata": {
    "execution": {
     "iopub.execute_input": "2023-08-24T16:20:19.211078Z",
     "iopub.status.busy": "2023-08-24T16:20:19.210269Z",
     "iopub.status.idle": "2023-08-24T16:20:19.216559Z",
     "shell.execute_reply": "2023-08-24T16:20:19.215627Z"
    },
    "papermill": {
     "duration": 0.070186,
     "end_time": "2023-08-24T16:20:19.218521",
     "exception": false,
     "start_time": "2023-08-24T16:20:19.148335",
     "status": "completed"
    },
    "tags": []
   },
   "outputs": [
    {
     "data": {
      "text/plain": [
       "15"
      ]
     },
     "execution_count": 108,
     "metadata": {},
     "output_type": "execute_result"
    }
   ],
   "source": [
    "b = 6 + 9\n",
    "b"
   ]
  },
  {
   "cell_type": "code",
   "execution_count": 109,
   "id": "38bc8d2a",
   "metadata": {
    "execution": {
     "iopub.execute_input": "2023-08-24T16:20:19.345353Z",
     "iopub.status.busy": "2023-08-24T16:20:19.344993Z",
     "iopub.status.idle": "2023-08-24T16:20:19.350523Z",
     "shell.execute_reply": "2023-08-24T16:20:19.349569Z"
    },
    "papermill": {
     "duration": 0.073086,
     "end_time": "2023-08-24T16:20:19.353190",
     "exception": false,
     "start_time": "2023-08-24T16:20:19.280104",
     "status": "completed"
    },
    "tags": []
   },
   "outputs": [
    {
     "name": "stdout",
     "output_type": "stream",
     "text": [
      "I want 3 pieces of item 567 for 49.95 dollars.\n"
     ]
    }
   ],
   "source": [
    "quantity = 3\n",
    "itemno = 567\n",
    "price = 49.95\n",
    "myorder = \"I want {} pieces of item {} for {} dollars.\"\n",
    "print(myorder.format(quantity, itemno, price))"
   ]
  },
  {
   "cell_type": "code",
   "execution_count": 110,
   "id": "094da1ae",
   "metadata": {
    "execution": {
     "iopub.execute_input": "2023-08-24T16:20:19.474969Z",
     "iopub.status.busy": "2023-08-24T16:20:19.474629Z",
     "iopub.status.idle": "2023-08-24T16:20:19.480252Z",
     "shell.execute_reply": "2023-08-24T16:20:19.479322Z"
    },
    "papermill": {
     "duration": 0.067474,
     "end_time": "2023-08-24T16:20:19.482800",
     "exception": false,
     "start_time": "2023-08-24T16:20:19.415326",
     "status": "completed"
    },
    "tags": []
   },
   "outputs": [
    {
     "name": "stdout",
     "output_type": "stream",
     "text": [
      "I want 3 pieces of item 567 for 49.95 dollars\n"
     ]
    }
   ],
   "source": [
    "quantity = 3\n",
    "itemno = 567\n",
    "price = 49.95\n",
    "ans = \"I want {} pieces of item {} for {} dollars\"\n",
    "print(ans.format(quantity, itemno,price))"
   ]
  },
  {
   "cell_type": "code",
   "execution_count": 111,
   "id": "2eb379ae",
   "metadata": {
    "execution": {
     "iopub.execute_input": "2023-08-24T16:20:19.606583Z",
     "iopub.status.busy": "2023-08-24T16:20:19.605689Z",
     "iopub.status.idle": "2023-08-24T16:20:19.611433Z",
     "shell.execute_reply": "2023-08-24T16:20:19.610441Z"
    },
    "papermill": {
     "duration": 0.071189,
     "end_time": "2023-08-24T16:20:19.613551",
     "exception": false,
     "start_time": "2023-08-24T16:20:19.542362",
     "status": "completed"
    },
    "tags": []
   },
   "outputs": [
    {
     "name": "stdout",
     "output_type": "stream",
     "text": [
      "i 4\\5\" aaa\n"
     ]
    }
   ],
   "source": [
    "print(\"i 4\\\\5\\\" aaa\")"
   ]
  },
  {
   "cell_type": "code",
   "execution_count": 112,
   "id": "f56c8c6b",
   "metadata": {
    "execution": {
     "iopub.execute_input": "2023-08-24T16:20:19.737007Z",
     "iopub.status.busy": "2023-08-24T16:20:19.736191Z",
     "iopub.status.idle": "2023-08-24T16:20:19.742646Z",
     "shell.execute_reply": "2023-08-24T16:20:19.741684Z"
    },
    "papermill": {
     "duration": 0.071045,
     "end_time": "2023-08-24T16:20:19.744849",
     "exception": false,
     "start_time": "2023-08-24T16:20:19.673804",
     "status": "completed"
    },
    "tags": []
   },
   "outputs": [
    {
     "data": {
      "text/plain": [
       "'YASMINKHAN'"
      ]
     },
     "execution_count": 112,
     "metadata": {},
     "output_type": "execute_result"
    }
   ],
   "source": [
    "a = \"YasminKhan\"\n",
    "a.upper()"
   ]
  },
  {
   "cell_type": "code",
   "execution_count": 113,
   "id": "ea407857",
   "metadata": {
    "execution": {
     "iopub.execute_input": "2023-08-24T16:20:19.865837Z",
     "iopub.status.busy": "2023-08-24T16:20:19.865539Z",
     "iopub.status.idle": "2023-08-24T16:20:19.871356Z",
     "shell.execute_reply": "2023-08-24T16:20:19.870472Z"
    },
    "papermill": {
     "duration": 0.069003,
     "end_time": "2023-08-24T16:20:19.873301",
     "exception": false,
     "start_time": "2023-08-24T16:20:19.804298",
     "status": "completed"
    },
    "tags": []
   },
   "outputs": [
    {
     "data": {
      "text/plain": [
       "'Yasminkhan'"
      ]
     },
     "execution_count": 113,
     "metadata": {},
     "output_type": "execute_result"
    }
   ],
   "source": [
    "a = \"YasminKHan\"\n",
    "a.capitalize()"
   ]
  },
  {
   "cell_type": "code",
   "execution_count": 114,
   "id": "0312e817",
   "metadata": {
    "execution": {
     "iopub.execute_input": "2023-08-24T16:20:19.994436Z",
     "iopub.status.busy": "2023-08-24T16:20:19.994106Z",
     "iopub.status.idle": "2023-08-24T16:20:19.998424Z",
     "shell.execute_reply": "2023-08-24T16:20:19.997438Z"
    },
    "papermill": {
     "duration": 0.06818,
     "end_time": "2023-08-24T16:20:20.000392",
     "exception": false,
     "start_time": "2023-08-24T16:20:19.932212",
     "status": "completed"
    },
    "tags": []
   },
   "outputs": [],
   "source": [
    "a = \"YasminKHan\"\n",
    "# a.center()"
   ]
  },
  {
   "cell_type": "code",
   "execution_count": 115,
   "id": "26ead1f1",
   "metadata": {
    "execution": {
     "iopub.execute_input": "2023-08-24T16:20:20.123887Z",
     "iopub.status.busy": "2023-08-24T16:20:20.123180Z",
     "iopub.status.idle": "2023-08-24T16:20:20.134856Z",
     "shell.execute_reply": "2023-08-24T16:20:20.133898Z"
    },
    "papermill": {
     "duration": 0.077557,
     "end_time": "2023-08-24T16:20:20.137153",
     "exception": false,
     "start_time": "2023-08-24T16:20:20.059596",
     "status": "completed"
    },
    "tags": []
   },
   "outputs": [
    {
     "data": {
      "text/plain": [
       "2"
      ]
     },
     "execution_count": 115,
     "metadata": {},
     "output_type": "execute_result"
    }
   ],
   "source": [
    "a = \"YasminKHan\"\n",
    "a.count(\"a\")"
   ]
  },
  {
   "cell_type": "code",
   "execution_count": 116,
   "id": "660699b7",
   "metadata": {
    "execution": {
     "iopub.execute_input": "2023-08-24T16:20:20.258437Z",
     "iopub.status.busy": "2023-08-24T16:20:20.258130Z",
     "iopub.status.idle": "2023-08-24T16:20:20.264019Z",
     "shell.execute_reply": "2023-08-24T16:20:20.263156Z"
    },
    "papermill": {
     "duration": 0.070403,
     "end_time": "2023-08-24T16:20:20.266004",
     "exception": false,
     "start_time": "2023-08-24T16:20:20.195601",
     "status": "completed"
    },
    "tags": []
   },
   "outputs": [
    {
     "data": {
      "text/plain": [
       "True"
      ]
     },
     "execution_count": 116,
     "metadata": {},
     "output_type": "execute_result"
    }
   ],
   "source": [
    "a = \"YasminKhan\"\n",
    "a.endswith(\"Khan\")"
   ]
  },
  {
   "cell_type": "code",
   "execution_count": 117,
   "id": "c6aec4f7",
   "metadata": {
    "execution": {
     "iopub.execute_input": "2023-08-24T16:20:20.434869Z",
     "iopub.status.busy": "2023-08-24T16:20:20.434538Z",
     "iopub.status.idle": "2023-08-24T16:20:20.440893Z",
     "shell.execute_reply": "2023-08-24T16:20:20.439926Z"
    },
    "papermill": {
     "duration": 0.114746,
     "end_time": "2023-08-24T16:20:20.442975",
     "exception": false,
     "start_time": "2023-08-24T16:20:20.328229",
     "status": "completed"
    },
    "tags": []
   },
   "outputs": [
    {
     "data": {
      "text/plain": [
       "5"
      ]
     },
     "execution_count": 117,
     "metadata": {},
     "output_type": "execute_result"
    }
   ],
   "source": [
    "a = \"YasminKhan\"\n",
    "a.index(\"n\")"
   ]
  },
  {
   "cell_type": "code",
   "execution_count": 118,
   "id": "78b87614",
   "metadata": {
    "execution": {
     "iopub.execute_input": "2023-08-24T16:20:20.576885Z",
     "iopub.status.busy": "2023-08-24T16:20:20.576544Z",
     "iopub.status.idle": "2023-08-24T16:20:20.582178Z",
     "shell.execute_reply": "2023-08-24T16:20:20.581255Z"
    },
    "papermill": {
     "duration": 0.074297,
     "end_time": "2023-08-24T16:20:20.584539",
     "exception": false,
     "start_time": "2023-08-24T16:20:20.510242",
     "status": "completed"
    },
    "tags": []
   },
   "outputs": [
    {
     "name": "stdout",
     "output_type": "stream",
     "text": [
      "no\n",
      "no\n",
      "no\n",
      "yes\n",
      "no\n"
     ]
    }
   ],
   "source": [
    "ans = \"a12 3\"\n",
    "for i in ans :\n",
    "    if i.isspace():\n",
    "        print(\"yes\")\n",
    "    else :\n",
    "        print(\"no\")"
   ]
  },
  {
   "cell_type": "code",
   "execution_count": 119,
   "id": "5959e88d",
   "metadata": {
    "execution": {
     "iopub.execute_input": "2023-08-24T16:20:20.706213Z",
     "iopub.status.busy": "2023-08-24T16:20:20.705874Z",
     "iopub.status.idle": "2023-08-24T16:20:20.711999Z",
     "shell.execute_reply": "2023-08-24T16:20:20.711116Z"
    },
    "papermill": {
     "duration": 0.068309,
     "end_time": "2023-08-24T16:20:20.714063",
     "exception": false,
     "start_time": "2023-08-24T16:20:20.645754",
     "status": "completed"
    },
    "tags": []
   },
   "outputs": [
    {
     "data": {
      "text/plain": [
       "['Thank you for the music', 'Welcome to the jungle']"
      ]
     },
     "execution_count": 119,
     "metadata": {},
     "output_type": "execute_result"
    }
   ],
   "source": [
    "txt = \"Thank you for the music\\nWelcome to the jungle\"\n",
    "txt.splitlines()"
   ]
  },
  {
   "cell_type": "code",
   "execution_count": 120,
   "id": "7ddb6e67",
   "metadata": {
    "execution": {
     "iopub.execute_input": "2023-08-24T16:20:20.838573Z",
     "iopub.status.busy": "2023-08-24T16:20:20.837718Z",
     "iopub.status.idle": "2023-08-24T16:20:20.844251Z",
     "shell.execute_reply": "2023-08-24T16:20:20.843300Z"
    },
    "papermill": {
     "duration": 0.070351,
     "end_time": "2023-08-24T16:20:20.846240",
     "exception": false,
     "start_time": "2023-08-24T16:20:20.775889",
     "status": "completed"
    },
    "tags": []
   },
   "outputs": [
    {
     "data": {
      "text/plain": [
       "'YASMINkhan'"
      ]
     },
     "execution_count": 120,
     "metadata": {},
     "output_type": "execute_result"
    }
   ],
   "source": [
    "a = \"yasminKHAN\"\n",
    "a.swapcase()"
   ]
  },
  {
   "cell_type": "code",
   "execution_count": 121,
   "id": "5fc58c92",
   "metadata": {
    "execution": {
     "iopub.execute_input": "2023-08-24T16:20:20.965687Z",
     "iopub.status.busy": "2023-08-24T16:20:20.964833Z",
     "iopub.status.idle": "2023-08-24T16:20:20.969857Z",
     "shell.execute_reply": "2023-08-24T16:20:20.969005Z"
    },
    "papermill": {
     "duration": 0.066897,
     "end_time": "2023-08-24T16:20:20.971931",
     "exception": false,
     "start_time": "2023-08-24T16:20:20.905034",
     "status": "completed"
    },
    "tags": []
   },
   "outputs": [
    {
     "name": "stdout",
     "output_type": "stream",
     "text": [
      "Welcome To My World\n"
     ]
    }
   ],
   "source": [
    "txt = \"Welcome to my world\"\n",
    "\n",
    "x = txt.title()\n",
    "\n",
    "print(x)"
   ]
  },
  {
   "cell_type": "code",
   "execution_count": 122,
   "id": "feb4ffbf",
   "metadata": {
    "execution": {
     "iopub.execute_input": "2023-08-24T16:20:21.095328Z",
     "iopub.status.busy": "2023-08-24T16:20:21.095031Z",
     "iopub.status.idle": "2023-08-24T16:20:21.100198Z",
     "shell.execute_reply": "2023-08-24T16:20:21.099269Z"
    },
    "papermill": {
     "duration": 0.070018,
     "end_time": "2023-08-24T16:20:21.102735",
     "exception": false,
     "start_time": "2023-08-24T16:20:21.032717",
     "status": "completed"
    },
    "tags": []
   },
   "outputs": [
    {
     "name": "stdout",
     "output_type": "stream",
     "text": [
      "00001\n"
     ]
    }
   ],
   "source": [
    "txt = \"1\"\n",
    "\n",
    "x = txt.zfill(5)\n",
    "\n",
    "print(x)"
   ]
  },
  {
   "cell_type": "code",
   "execution_count": 123,
   "id": "9780ea48",
   "metadata": {
    "execution": {
     "iopub.execute_input": "2023-08-24T16:20:21.230217Z",
     "iopub.status.busy": "2023-08-24T16:20:21.229862Z",
     "iopub.status.idle": "2023-08-24T16:20:21.235065Z",
     "shell.execute_reply": "2023-08-24T16:20:21.234147Z"
    },
    "papermill": {
     "duration": 0.072118,
     "end_time": "2023-08-24T16:20:21.237570",
     "exception": false,
     "start_time": "2023-08-24T16:20:21.165452",
     "status": "completed"
    },
    "tags": []
   },
   "outputs": [
    {
     "name": "stdout",
     "output_type": "stream",
     "text": [
      "7\n"
     ]
    }
   ],
   "source": [
    "txt = \"Hello, welcome to my world.\"\n",
    "\n",
    "x = txt.index(\"welcom\")\n",
    "\n",
    "print(x)"
   ]
  },
  {
   "cell_type": "code",
   "execution_count": 124,
   "id": "0f516b9d",
   "metadata": {
    "execution": {
     "iopub.execute_input": "2023-08-24T16:20:21.371916Z",
     "iopub.status.busy": "2023-08-24T16:20:21.370939Z",
     "iopub.status.idle": "2023-08-24T16:20:21.376215Z",
     "shell.execute_reply": "2023-08-24T16:20:21.375245Z"
    },
    "papermill": {
     "duration": 0.071828,
     "end_time": "2023-08-24T16:20:21.378223",
     "exception": false,
     "start_time": "2023-08-24T16:20:21.306395",
     "status": "completed"
    },
    "tags": []
   },
   "outputs": [],
   "source": [
    "import pandas as pd"
   ]
  },
  {
   "cell_type": "code",
   "execution_count": 125,
   "id": "e047eebe",
   "metadata": {
    "execution": {
     "iopub.execute_input": "2023-08-24T16:20:21.506933Z",
     "iopub.status.busy": "2023-08-24T16:20:21.506206Z",
     "iopub.status.idle": "2023-08-24T16:20:21.512927Z",
     "shell.execute_reply": "2023-08-24T16:20:21.511910Z"
    },
    "papermill": {
     "duration": 0.073259,
     "end_time": "2023-08-24T16:20:21.515024",
     "exception": false,
     "start_time": "2023-08-24T16:20:21.441765",
     "status": "completed"
    },
    "tags": []
   },
   "outputs": [
    {
     "data": {
      "text/plain": [
       "'1**2**3**4**5'"
      ]
     },
     "execution_count": 125,
     "metadata": {},
     "output_type": "execute_result"
    }
   ],
   "source": [
    "a = (\"1\",\"2\",\"3\",\"4\",\"5\")\n",
    "ans = \"**\".join(a)\n",
    "ans"
   ]
  },
  {
   "cell_type": "code",
   "execution_count": 126,
   "id": "8ea3f2a6",
   "metadata": {
    "execution": {
     "iopub.execute_input": "2023-08-24T16:20:21.635227Z",
     "iopub.status.busy": "2023-08-24T16:20:21.634904Z",
     "iopub.status.idle": "2023-08-24T16:20:21.639673Z",
     "shell.execute_reply": "2023-08-24T16:20:21.638816Z"
    },
    "papermill": {
     "duration": 0.067708,
     "end_time": "2023-08-24T16:20:21.641998",
     "exception": false,
     "start_time": "2023-08-24T16:20:21.574290",
     "status": "completed"
    },
    "tags": []
   },
   "outputs": [
    {
     "name": "stdout",
     "output_type": "stream",
     "text": [
      "True\n",
      "True\n"
     ]
    }
   ],
   "source": [
    "print(bool(\"a\"))\n",
    "print(bool(10))"
   ]
  },
  {
   "cell_type": "code",
   "execution_count": 127,
   "id": "a9b5a2e3",
   "metadata": {
    "execution": {
     "iopub.execute_input": "2023-08-24T16:20:21.769557Z",
     "iopub.status.busy": "2023-08-24T16:20:21.768640Z",
     "iopub.status.idle": "2023-08-24T16:20:21.775485Z",
     "shell.execute_reply": "2023-08-24T16:20:21.774494Z"
    },
    "papermill": {
     "duration": 0.074313,
     "end_time": "2023-08-24T16:20:21.777561",
     "exception": false,
     "start_time": "2023-08-24T16:20:21.703248",
     "status": "completed"
    },
    "tags": []
   },
   "outputs": [
    {
     "data": {
      "text/plain": [
       "25"
      ]
     },
     "execution_count": 127,
     "metadata": {},
     "output_type": "execute_result"
    }
   ],
   "source": [
    "5 ** 2"
   ]
  },
  {
   "cell_type": "code",
   "execution_count": 128,
   "id": "20a5445b",
   "metadata": {
    "execution": {
     "iopub.execute_input": "2023-08-24T16:20:21.903819Z",
     "iopub.status.busy": "2023-08-24T16:20:21.902928Z",
     "iopub.status.idle": "2023-08-24T16:20:21.909444Z",
     "shell.execute_reply": "2023-08-24T16:20:21.908415Z"
    },
    "papermill": {
     "duration": 0.071797,
     "end_time": "2023-08-24T16:20:21.911536",
     "exception": false,
     "start_time": "2023-08-24T16:20:21.839739",
     "status": "completed"
    },
    "tags": []
   },
   "outputs": [
    {
     "data": {
      "text/plain": [
       "3"
      ]
     },
     "execution_count": 128,
     "metadata": {},
     "output_type": "execute_result"
    }
   ],
   "source": [
    "7 // 2"
   ]
  },
  {
   "cell_type": "code",
   "execution_count": 129,
   "id": "cb8d5998",
   "metadata": {
    "execution": {
     "iopub.execute_input": "2023-08-24T16:20:22.040925Z",
     "iopub.status.busy": "2023-08-24T16:20:22.039903Z",
     "iopub.status.idle": "2023-08-24T16:20:22.047310Z",
     "shell.execute_reply": "2023-08-24T16:20:22.046268Z"
    },
    "papermill": {
     "duration": 0.076668,
     "end_time": "2023-08-24T16:20:22.049408",
     "exception": false,
     "start_time": "2023-08-24T16:20:21.972740",
     "status": "completed"
    },
    "tags": []
   },
   "outputs": [
    {
     "data": {
      "text/plain": [
       "'/kaggle/working'"
      ]
     },
     "execution_count": 129,
     "metadata": {},
     "output_type": "execute_result"
    }
   ],
   "source": [
    "pwd"
   ]
  },
  {
   "cell_type": "markdown",
   "id": "1c0e2ecb",
   "metadata": {
    "execution": {
     "iopub.execute_input": "2023-08-19T18:06:32.653755Z",
     "iopub.status.busy": "2023-08-19T18:06:32.653333Z",
     "iopub.status.idle": "2023-08-19T18:06:32.857071Z",
     "shell.execute_reply": "2023-08-19T18:06:32.854898Z",
     "shell.execute_reply.started": "2023-08-19T18:06:32.653729Z"
    },
    "papermill": {
     "duration": 0.062844,
     "end_time": "2023-08-24T16:20:22.176163",
     "exception": false,
     "start_time": "2023-08-24T16:20:22.113319",
     "status": "completed"
    },
    "tags": []
   },
   "source": [
    "file = open(\"example.txt\", \"r\")\n",
    "content = file.read()\n",
    "print(content)\n",
    "file.close()"
   ]
  },
  {
   "cell_type": "code",
   "execution_count": 130,
   "id": "13c7137f",
   "metadata": {
    "execution": {
     "iopub.execute_input": "2023-08-24T16:20:22.304255Z",
     "iopub.status.busy": "2023-08-24T16:20:22.303742Z",
     "iopub.status.idle": "2023-08-24T16:20:22.350177Z",
     "shell.execute_reply": "2023-08-24T16:20:22.349204Z"
    },
    "papermill": {
     "duration": 0.112548,
     "end_time": "2023-08-24T16:20:22.352392",
     "exception": false,
     "start_time": "2023-08-24T16:20:22.239844",
     "status": "completed"
    },
    "tags": []
   },
   "outputs": [
    {
     "data": {
      "text/html": [
       "<div>\n",
       "<style scoped>\n",
       "    .dataframe tbody tr th:only-of-type {\n",
       "        vertical-align: middle;\n",
       "    }\n",
       "\n",
       "    .dataframe tbody tr th {\n",
       "        vertical-align: top;\n",
       "    }\n",
       "\n",
       "    .dataframe thead th {\n",
       "        text-align: right;\n",
       "    }\n",
       "</style>\n",
       "<table border=\"1\" class=\"dataframe\">\n",
       "  <thead>\n",
       "    <tr style=\"text-align: right;\">\n",
       "      <th></th>\n",
       "      <th>No.</th>\n",
       "      <th>Company</th>\n",
       "      <th>Sector</th>\n",
       "      <th>Entry Valuation^^ ($B)</th>\n",
       "      <th>Valuation ($B)</th>\n",
       "      <th>Entry</th>\n",
       "      <th>Location</th>\n",
       "      <th>Select Investors</th>\n",
       "    </tr>\n",
       "  </thead>\n",
       "  <tbody>\n",
       "    <tr>\n",
       "      <th>0</th>\n",
       "      <td>1</td>\n",
       "      <td>InMobi</td>\n",
       "      <td>Adtech - Mobile Ads</td>\n",
       "      <td>1.00</td>\n",
       "      <td>1.00</td>\n",
       "      <td>Sep/2011</td>\n",
       "      <td>Bangalore/Singapore</td>\n",
       "      <td>KPCB, Sherpalo Ventures, SoftBank</td>\n",
       "    </tr>\n",
       "    <tr>\n",
       "      <th>1</th>\n",
       "      <td>2</td>\n",
       "      <td>Flipkart^</td>\n",
       "      <td>E-Commerce</td>\n",
       "      <td>1.00</td>\n",
       "      <td>37.60</td>\n",
       "      <td>Feb/2012</td>\n",
       "      <td>Bangalore/Singapore</td>\n",
       "      <td>Accel, Tiger Global, Naspers, SoftBank, Tencent</td>\n",
       "    </tr>\n",
       "    <tr>\n",
       "      <th>2</th>\n",
       "      <td>3</td>\n",
       "      <td>Mu Sigma</td>\n",
       "      <td>SaaS - Analytics</td>\n",
       "      <td>1.00</td>\n",
       "      <td>1.50</td>\n",
       "      <td>Feb/2013</td>\n",
       "      <td>Bangalore/Chicago</td>\n",
       "      <td>Accel, Sequoia Capital, General Atlantic</td>\n",
       "    </tr>\n",
       "    <tr>\n",
       "      <th>3</th>\n",
       "      <td>4</td>\n",
       "      <td>Snapdeal*</td>\n",
       "      <td>E-Commerce</td>\n",
       "      <td>1.80</td>\n",
       "      <td>2.40</td>\n",
       "      <td>Oct/2014</td>\n",
       "      <td>Delhi</td>\n",
       "      <td>Kalaari Capital, Nexus Ventures, Bessemer, Sof...</td>\n",
       "    </tr>\n",
       "    <tr>\n",
       "      <th>4</th>\n",
       "      <td>5</td>\n",
       "      <td>PayTM^</td>\n",
       "      <td>Fintech - Payments &amp; Wallet</td>\n",
       "      <td>1.70</td>\n",
       "      <td>16.00</td>\n",
       "      <td>Feb/2015</td>\n",
       "      <td>Noida</td>\n",
       "      <td>Saama Capital, Elevation Capital, Alibaba, Ber...</td>\n",
       "    </tr>\n",
       "    <tr>\n",
       "      <th>...</th>\n",
       "      <td>...</td>\n",
       "      <td>...</td>\n",
       "      <td>...</td>\n",
       "      <td>...</td>\n",
       "      <td>...</td>\n",
       "      <td>...</td>\n",
       "      <td>...</td>\n",
       "      <td>...</td>\n",
       "    </tr>\n",
       "    <tr>\n",
       "      <th>97</th>\n",
       "      <td>98</td>\n",
       "      <td>Purplle</td>\n",
       "      <td>E-Commerce - Personal Care &amp; Cosmetics</td>\n",
       "      <td>1.10</td>\n",
       "      <td>1.10</td>\n",
       "      <td>Jun/2022</td>\n",
       "      <td>Mumbai</td>\n",
       "      <td>JSW Ventures, IvyCap Ventures, Blume Ventures,...</td>\n",
       "    </tr>\n",
       "    <tr>\n",
       "      <th>98</th>\n",
       "      <td>99</td>\n",
       "      <td>Leadsquared</td>\n",
       "      <td>SaaS - CRM</td>\n",
       "      <td>1.00</td>\n",
       "      <td>1.00</td>\n",
       "      <td>Jun/2022</td>\n",
       "      <td>Bangalore</td>\n",
       "      <td>Stakeboat Capital, Gaja Capital, WestBridge</td>\n",
       "    </tr>\n",
       "    <tr>\n",
       "      <th>99</th>\n",
       "      <td>100</td>\n",
       "      <td>OneCard</td>\n",
       "      <td>Fintech - Credit Cards</td>\n",
       "      <td>1.30</td>\n",
       "      <td>1.30</td>\n",
       "      <td>Jul/2022</td>\n",
       "      <td>Pune</td>\n",
       "      <td>QED Investors, Matrix Partners India, Sequoia ...</td>\n",
       "    </tr>\n",
       "    <tr>\n",
       "      <th>100</th>\n",
       "      <td>101</td>\n",
       "      <td>Shiprocket</td>\n",
       "      <td>Aggregator - Logistics Services</td>\n",
       "      <td>1.23</td>\n",
       "      <td>1.23</td>\n",
       "      <td>Aug/2022</td>\n",
       "      <td>Delhi</td>\n",
       "      <td>Lightrock India, Info Edge, Tribe Capital, Tem...</td>\n",
       "    </tr>\n",
       "    <tr>\n",
       "      <th>101</th>\n",
       "      <td>102</td>\n",
       "      <td>Molbio Diagnostics</td>\n",
       "      <td>Healthtech - Diagnostics</td>\n",
       "      <td>1.53</td>\n",
       "      <td>1.53</td>\n",
       "      <td>Sep/2022</td>\n",
       "      <td>Goa</td>\n",
       "      <td>Temasek, Motilal Oswal</td>\n",
       "    </tr>\n",
       "  </tbody>\n",
       "</table>\n",
       "<p>102 rows × 8 columns</p>\n",
       "</div>"
      ],
      "text/plain": [
       "     No.             Company                                  Sector  \\\n",
       "0      1              InMobi                     Adtech - Mobile Ads   \n",
       "1      2           Flipkart^                              E-Commerce   \n",
       "2      3            Mu Sigma                        SaaS - Analytics   \n",
       "3      4           Snapdeal*                              E-Commerce   \n",
       "4      5              PayTM^             Fintech - Payments & Wallet   \n",
       "..   ...                 ...                                     ...   \n",
       "97    98             Purplle  E-Commerce - Personal Care & Cosmetics   \n",
       "98    99         Leadsquared                              SaaS - CRM   \n",
       "99   100             OneCard                  Fintech - Credit Cards   \n",
       "100  101          Shiprocket         Aggregator - Logistics Services   \n",
       "101  102  Molbio Diagnostics                Healthtech - Diagnostics   \n",
       "\n",
       "     Entry Valuation^^ ($B)  Valuation ($B)     Entry             Location  \\\n",
       "0                      1.00            1.00  Sep/2011  Bangalore/Singapore   \n",
       "1                      1.00           37.60  Feb/2012  Bangalore/Singapore   \n",
       "2                      1.00            1.50  Feb/2013    Bangalore/Chicago   \n",
       "3                      1.80            2.40  Oct/2014                Delhi   \n",
       "4                      1.70           16.00  Feb/2015                Noida   \n",
       "..                      ...             ...       ...                  ...   \n",
       "97                     1.10            1.10  Jun/2022               Mumbai   \n",
       "98                     1.00            1.00  Jun/2022            Bangalore   \n",
       "99                     1.30            1.30  Jul/2022                 Pune   \n",
       "100                    1.23            1.23  Aug/2022                Delhi   \n",
       "101                    1.53            1.53  Sep/2022                  Goa   \n",
       "\n",
       "                                      Select Investors  \n",
       "0                    KPCB, Sherpalo Ventures, SoftBank  \n",
       "1      Accel, Tiger Global, Naspers, SoftBank, Tencent  \n",
       "2             Accel, Sequoia Capital, General Atlantic  \n",
       "3    Kalaari Capital, Nexus Ventures, Bessemer, Sof...  \n",
       "4    Saama Capital, Elevation Capital, Alibaba, Ber...  \n",
       "..                                                 ...  \n",
       "97   JSW Ventures, IvyCap Ventures, Blume Ventures,...  \n",
       "98         Stakeboat Capital, Gaja Capital, WestBridge  \n",
       "99   QED Investors, Matrix Partners India, Sequoia ...  \n",
       "100  Lightrock India, Info Edge, Tribe Capital, Tem...  \n",
       "101                             Temasek, Motilal Oswal  \n",
       "\n",
       "[102 rows x 8 columns]"
      ]
     },
     "execution_count": 130,
     "metadata": {},
     "output_type": "execute_result"
    }
   ],
   "source": [
    "\n",
    "a = pd.read_csv(\"/kaggle/input/indian-unicorn-startups-2023-june-updated/Indian Unicorn startups 2023 updated.csv\")\n",
    "a"
   ]
  },
  {
   "cell_type": "code",
   "execution_count": 131,
   "id": "18bf3669",
   "metadata": {
    "execution": {
     "iopub.execute_input": "2023-08-24T16:20:22.476252Z",
     "iopub.status.busy": "2023-08-24T16:20:22.475887Z",
     "iopub.status.idle": "2023-08-24T16:20:22.482157Z",
     "shell.execute_reply": "2023-08-24T16:20:22.481273Z"
    },
    "papermill": {
     "duration": 0.069295,
     "end_time": "2023-08-24T16:20:22.484158",
     "exception": false,
     "start_time": "2023-08-24T16:20:22.414863",
     "status": "completed"
    },
    "tags": []
   },
   "outputs": [
    {
     "data": {
      "text/plain": [
       "[2, 3, 4, 5, 11]"
      ]
     },
     "execution_count": 131,
     "metadata": {},
     "output_type": "execute_result"
    }
   ],
   "source": [
    "numbers = [11, 2, 3, 4, 5]\n",
    "numbers.sort()\n",
    "numbers"
   ]
  },
  {
   "cell_type": "code",
   "execution_count": 132,
   "id": "3b45fccd",
   "metadata": {
    "execution": {
     "iopub.execute_input": "2023-08-24T16:20:22.614295Z",
     "iopub.status.busy": "2023-08-24T16:20:22.613425Z",
     "iopub.status.idle": "2023-08-24T16:20:22.620225Z",
     "shell.execute_reply": "2023-08-24T16:20:22.619327Z"
    },
    "papermill": {
     "duration": 0.073981,
     "end_time": "2023-08-24T16:20:22.622280",
     "exception": false,
     "start_time": "2023-08-24T16:20:22.548299",
     "status": "completed"
    },
    "tags": []
   },
   "outputs": [
    {
     "data": {
      "text/plain": [
       "[5, 4, 3, 2, 11]"
      ]
     },
     "execution_count": 132,
     "metadata": {},
     "output_type": "execute_result"
    }
   ],
   "source": [
    "numbers = [11, 2, 3, 4, 5]\n",
    "numbers.reverse()\n",
    "numbers"
   ]
  },
  {
   "cell_type": "code",
   "execution_count": 133,
   "id": "fff0e3d7",
   "metadata": {
    "execution": {
     "iopub.execute_input": "2023-08-24T16:20:22.751647Z",
     "iopub.status.busy": "2023-08-24T16:20:22.751296Z",
     "iopub.status.idle": "2023-08-24T16:20:22.757211Z",
     "shell.execute_reply": "2023-08-24T16:20:22.756251Z"
    },
    "papermill": {
     "duration": 0.073984,
     "end_time": "2023-08-24T16:20:22.759825",
     "exception": false,
     "start_time": "2023-08-24T16:20:22.685841",
     "status": "completed"
    },
    "tags": []
   },
   "outputs": [
    {
     "name": "stdout",
     "output_type": "stream",
     "text": [
      "Local Name\n",
      "Local Name\n"
     ]
    }
   ],
   "source": [
    "name = \"Global Name\"\n",
    "\n",
    "def shadow_example():\n",
    "    global name\n",
    "    name = \"Local Name\"\n",
    "    print(name)\n",
    "\n",
    "shadow_example()  # Output: Local Name\n",
    "\n",
    "print(name)    "
   ]
  },
  {
   "cell_type": "code",
   "execution_count": 134,
   "id": "5b5724bc",
   "metadata": {
    "execution": {
     "iopub.execute_input": "2023-08-24T16:20:22.888832Z",
     "iopub.status.busy": "2023-08-24T16:20:22.888038Z",
     "iopub.status.idle": "2023-08-24T16:20:22.895167Z",
     "shell.execute_reply": "2023-08-24T16:20:22.893745Z"
    },
    "papermill": {
     "duration": 0.072365,
     "end_time": "2023-08-24T16:20:22.897175",
     "exception": false,
     "start_time": "2023-08-24T16:20:22.824810",
     "status": "completed"
    },
    "tags": []
   },
   "outputs": [
    {
     "name": "stdout",
     "output_type": "stream",
     "text": [
      "{1, 2, 3, 4, 5, 6} {3, 4} {1, 2}\n"
     ]
    }
   ],
   "source": [
    "set1 = {1, 2, 3, 4}\n",
    "set2 = {3, 4, 5, 6}\n",
    "\n",
    "union_set = set1.union(set2)\n",
    "intersection_set = set1.intersection(set2)\n",
    "difference_set = set1.difference(set2) \n",
    "print(union_set,intersection_set ,difference_set)"
   ]
  },
  {
   "cell_type": "code",
   "execution_count": 135,
   "id": "71c1eb7f",
   "metadata": {
    "execution": {
     "iopub.execute_input": "2023-08-24T16:20:23.021076Z",
     "iopub.status.busy": "2023-08-24T16:20:23.020192Z",
     "iopub.status.idle": "2023-08-24T16:20:23.027060Z",
     "shell.execute_reply": "2023-08-24T16:20:23.025988Z"
    },
    "papermill": {
     "duration": 0.07133,
     "end_time": "2023-08-24T16:20:23.029110",
     "exception": false,
     "start_time": "2023-08-24T16:20:22.957780",
     "status": "completed"
    },
    "tags": []
   },
   "outputs": [
    {
     "data": {
      "text/plain": [
       "{1, 2}"
      ]
     },
     "execution_count": 135,
     "metadata": {},
     "output_type": "execute_result"
    }
   ],
   "source": [
    "a = {1,2}\n",
    "a"
   ]
  },
  {
   "cell_type": "code",
   "execution_count": 136,
   "id": "a4430b6d",
   "metadata": {
    "execution": {
     "iopub.execute_input": "2023-08-24T16:20:23.162397Z",
     "iopub.status.busy": "2023-08-24T16:20:23.161461Z",
     "iopub.status.idle": "2023-08-24T16:20:23.168618Z",
     "shell.execute_reply": "2023-08-24T16:20:23.167263Z"
    },
    "papermill": {
     "duration": 0.076746,
     "end_time": "2023-08-24T16:20:23.170681",
     "exception": false,
     "start_time": "2023-08-24T16:20:23.093935",
     "status": "completed"
    },
    "tags": []
   },
   "outputs": [
    {
     "name": "stdout",
     "output_type": "stream",
     "text": [
      "{1, 2, 3, 4, 5, 6} {3, 4} {5, 6}\n"
     ]
    }
   ],
   "source": [
    "set1 = {1, 2, 3, 4}\n",
    "set2 = {3, 4, 5, 6}\n",
    "\n",
    "union_set = set1.union(set2)\n",
    "intersection_set = set1.intersection(set2)\n",
    "difference_set = set2.difference(set1)\n",
    "print(union_set,intersection_set ,difference_set)"
   ]
  },
  {
   "cell_type": "code",
   "execution_count": 137,
   "id": "f0508f89",
   "metadata": {
    "execution": {
     "iopub.execute_input": "2023-08-24T16:20:23.307459Z",
     "iopub.status.busy": "2023-08-24T16:20:23.306370Z",
     "iopub.status.idle": "2023-08-24T16:20:23.314557Z",
     "shell.execute_reply": "2023-08-24T16:20:23.313141Z"
    },
    "papermill": {
     "duration": 0.078402,
     "end_time": "2023-08-24T16:20:23.316727",
     "exception": false,
     "start_time": "2023-08-24T16:20:23.238325",
     "status": "completed"
    },
    "tags": []
   },
   "outputs": [
    {
     "name": "stdout",
     "output_type": "stream",
     "text": [
      "        1 \n",
      "      2 1 2 \n",
      "    3 2 1 2 3 \n",
      "  4 3 2 1 2 3 4 \n",
      "5 4 3 2 1 2 3 4 5 \n"
     ]
    }
   ],
   "source": [
    "for i in range(5):\n",
    "    print(\" \"* (2*(4- int(i))),end=\"\")\n",
    "    for j in range(i+1,0,-1):\n",
    "        print(j,end= \" \")\n",
    "    for k in range (i):\n",
    "        print(k+2,end=\" \")\n",
    "    print()"
   ]
  },
  {
   "cell_type": "code",
   "execution_count": 138,
   "id": "48351c7f",
   "metadata": {
    "execution": {
     "iopub.execute_input": "2023-08-24T16:20:23.446276Z",
     "iopub.status.busy": "2023-08-24T16:20:23.445767Z",
     "iopub.status.idle": "2023-08-24T16:20:23.451954Z",
     "shell.execute_reply": "2023-08-24T16:20:23.451107Z"
    },
    "papermill": {
     "duration": 0.070701,
     "end_time": "2023-08-24T16:20:23.454096",
     "exception": false,
     "start_time": "2023-08-24T16:20:23.383395",
     "status": "completed"
    },
    "tags": []
   },
   "outputs": [
    {
     "data": {
      "text/plain": [
       "'i am &&a good &&boy'"
      ]
     },
     "execution_count": 138,
     "metadata": {},
     "output_type": "execute_result"
    }
   ],
   "source": [
    "a = \"i am ,a good ,boy\"\n",
    "b = a.split(',')\n",
    "\"&&\".join(b)"
   ]
  },
  {
   "cell_type": "code",
   "execution_count": null,
   "id": "30f01aeb",
   "metadata": {
    "papermill": {
     "duration": 0.061752,
     "end_time": "2023-08-24T16:20:23.578501",
     "exception": false,
     "start_time": "2023-08-24T16:20:23.516749",
     "status": "completed"
    },
    "tags": []
   },
   "outputs": [],
   "source": []
  },
  {
   "cell_type": "markdown",
   "id": "ca6cc230",
   "metadata": {
    "papermill": {
     "duration": 0.06164,
     "end_time": "2023-08-24T16:20:23.701933",
     "exception": false,
     "start_time": "2023-08-24T16:20:23.640293",
     "status": "completed"
    },
    "tags": []
   },
   "source": [
    "        1\n",
    "      2 1 2\n",
    "    3 2 1 2 3\n",
    "  4 3 2 1 2 3 4\n",
    "5 4 3 2 1 2 3 4 5 "
   ]
  },
  {
   "cell_type": "code",
   "execution_count": 139,
   "id": "6fc51e6e",
   "metadata": {
    "execution": {
     "iopub.execute_input": "2023-08-24T16:20:23.828064Z",
     "iopub.status.busy": "2023-08-24T16:20:23.827665Z",
     "iopub.status.idle": "2023-08-24T16:20:23.832814Z",
     "shell.execute_reply": "2023-08-24T16:20:23.831908Z"
    },
    "papermill": {
     "duration": 0.070327,
     "end_time": "2023-08-24T16:20:23.835371",
     "exception": false,
     "start_time": "2023-08-24T16:20:23.765044",
     "status": "completed"
    },
    "tags": []
   },
   "outputs": [
    {
     "name": "stdout",
     "output_type": "stream",
     "text": [
      "1\n",
      "2\n",
      "3\n",
      "4\n",
      "5\n"
     ]
    }
   ],
   "source": [
    "for i  in range(5):\n",
    "    print(i+1)"
   ]
  },
  {
   "cell_type": "code",
   "execution_count": 140,
   "id": "4eb80c3d",
   "metadata": {
    "execution": {
     "iopub.execute_input": "2023-08-24T16:20:24.006284Z",
     "iopub.status.busy": "2023-08-24T16:20:24.005382Z",
     "iopub.status.idle": "2023-08-24T16:20:24.011834Z",
     "shell.execute_reply": "2023-08-24T16:20:24.010453Z"
    },
    "papermill": {
     "duration": 0.07251,
     "end_time": "2023-08-24T16:20:24.013872",
     "exception": false,
     "start_time": "2023-08-24T16:20:23.941362",
     "status": "completed"
    },
    "tags": []
   },
   "outputs": [
    {
     "name": "stdout",
     "output_type": "stream",
     "text": [
      "5\n",
      "4\n",
      "3\n",
      "2\n",
      "1\n"
     ]
    }
   ],
   "source": [
    "for i in range(5,0,-1):\n",
    "    print(i)"
   ]
  },
  {
   "cell_type": "code",
   "execution_count": 141,
   "id": "6abf2304",
   "metadata": {
    "execution": {
     "iopub.execute_input": "2023-08-24T16:20:24.142023Z",
     "iopub.status.busy": "2023-08-24T16:20:24.141033Z",
     "iopub.status.idle": "2023-08-24T16:20:24.147304Z",
     "shell.execute_reply": "2023-08-24T16:20:24.145927Z"
    },
    "papermill": {
     "duration": 0.072597,
     "end_time": "2023-08-24T16:20:24.149426",
     "exception": false,
     "start_time": "2023-08-24T16:20:24.076829",
     "status": "completed"
    },
    "tags": []
   },
   "outputs": [
    {
     "name": "stdout",
     "output_type": "stream",
     "text": [
      "mlv\n"
     ]
    }
   ],
   "source": [
    "print(\"mlv\")"
   ]
  },
  {
   "cell_type": "code",
   "execution_count": 142,
   "id": "27826cbc",
   "metadata": {
    "execution": {
     "iopub.execute_input": "2023-08-24T16:20:24.275463Z",
     "iopub.status.busy": "2023-08-24T16:20:24.275146Z",
     "iopub.status.idle": "2023-08-24T16:20:24.281289Z",
     "shell.execute_reply": "2023-08-24T16:20:24.280334Z"
    },
    "papermill": {
     "duration": 0.071147,
     "end_time": "2023-08-24T16:20:24.283251",
     "exception": false,
     "start_time": "2023-08-24T16:20:24.212104",
     "status": "completed"
    },
    "tags": []
   },
   "outputs": [
    {
     "data": {
      "text/plain": [
       "'najar ahsa'"
      ]
     },
     "execution_count": 142,
     "metadata": {},
     "output_type": "execute_result"
    }
   ],
   "source": [
    "ans = \"asha rajan\"\n",
    "ans[::-1]"
   ]
  },
  {
   "cell_type": "code",
   "execution_count": 143,
   "id": "1e2b4072",
   "metadata": {
    "execution": {
     "iopub.execute_input": "2023-08-24T16:20:24.416411Z",
     "iopub.status.busy": "2023-08-24T16:20:24.415555Z",
     "iopub.status.idle": "2023-08-24T16:20:24.421526Z",
     "shell.execute_reply": "2023-08-24T16:20:24.420425Z"
    },
    "papermill": {
     "duration": 0.073328,
     "end_time": "2023-08-24T16:20:24.423679",
     "exception": false,
     "start_time": "2023-08-24T16:20:24.350351",
     "status": "completed"
    },
    "tags": []
   },
   "outputs": [
    {
     "name": "stdout",
     "output_type": "stream",
     "text": [
      "0\n",
      "1\n",
      "2\n",
      "3\n",
      "4\n"
     ]
    }
   ],
   "source": [
    "for i in range(5):\n",
    "    print(i)"
   ]
  },
  {
   "cell_type": "code",
   "execution_count": 144,
   "id": "af6a0f9e",
   "metadata": {
    "execution": {
     "iopub.execute_input": "2023-08-24T16:20:24.550371Z",
     "iopub.status.busy": "2023-08-24T16:20:24.549523Z",
     "iopub.status.idle": "2023-08-24T16:20:24.555536Z",
     "shell.execute_reply": "2023-08-24T16:20:24.554194Z"
    },
    "papermill": {
     "duration": 0.071553,
     "end_time": "2023-08-24T16:20:24.557574",
     "exception": false,
     "start_time": "2023-08-24T16:20:24.486021",
     "status": "completed"
    },
    "tags": []
   },
   "outputs": [
    {
     "name": "stdout",
     "output_type": "stream",
     "text": [
      "5\n",
      "4\n",
      "3\n",
      "2\n",
      "1\n"
     ]
    }
   ],
   "source": [
    "for i in range(5,0,-1) :\n",
    "    print(i)"
   ]
  },
  {
   "cell_type": "code",
   "execution_count": 145,
   "id": "93b9bc89",
   "metadata": {
    "execution": {
     "iopub.execute_input": "2023-08-24T16:20:24.690355Z",
     "iopub.status.busy": "2023-08-24T16:20:24.690018Z",
     "iopub.status.idle": "2023-08-24T16:20:24.696496Z",
     "shell.execute_reply": "2023-08-24T16:20:24.695597Z"
    },
    "papermill": {
     "duration": 0.076153,
     "end_time": "2023-08-24T16:20:24.698471",
     "exception": false,
     "start_time": "2023-08-24T16:20:24.622318",
     "status": "completed"
    },
    "tags": []
   },
   "outputs": [
    {
     "data": {
      "text/plain": [
       "15"
      ]
     },
     "execution_count": 145,
     "metadata": {},
     "output_type": "execute_result"
    }
   ],
   "source": [
    "def add (x,y) :  \n",
    "    return x + y\n",
    "add(7,8)"
   ]
  },
  {
   "cell_type": "code",
   "execution_count": 146,
   "id": "23e2e641",
   "metadata": {
    "execution": {
     "iopub.execute_input": "2023-08-24T16:20:24.827203Z",
     "iopub.status.busy": "2023-08-24T16:20:24.826373Z",
     "iopub.status.idle": "2023-08-24T16:20:24.832426Z",
     "shell.execute_reply": "2023-08-24T16:20:24.831434Z"
    },
    "papermill": {
     "duration": 0.072222,
     "end_time": "2023-08-24T16:20:24.834556",
     "exception": false,
     "start_time": "2023-08-24T16:20:24.762334",
     "status": "completed"
    },
    "tags": []
   },
   "outputs": [
    {
     "name": "stdout",
     "output_type": "stream",
     "text": [
      "15\n"
     ]
    }
   ],
   "source": [
    "add = lambda x,y  : x + y \n",
    "\n",
    "b = add(7,8)\n",
    "print(b)"
   ]
  },
  {
   "cell_type": "code",
   "execution_count": 147,
   "id": "ca63e681",
   "metadata": {
    "execution": {
     "iopub.execute_input": "2023-08-24T16:20:24.963457Z",
     "iopub.status.busy": "2023-08-24T16:20:24.962596Z",
     "iopub.status.idle": "2023-08-24T16:20:24.968665Z",
     "shell.execute_reply": "2023-08-24T16:20:24.967356Z"
    },
    "papermill": {
     "duration": 0.074222,
     "end_time": "2023-08-24T16:20:24.970508",
     "exception": false,
     "start_time": "2023-08-24T16:20:24.896286",
     "status": "completed"
    },
    "tags": []
   },
   "outputs": [
    {
     "name": "stdout",
     "output_type": "stream",
     "text": [
      "15\n"
     ]
    }
   ],
   "source": [
    "x = lambda a : a + 10\n",
    "print(x(5))"
   ]
  },
  {
   "cell_type": "code",
   "execution_count": 148,
   "id": "deefc816",
   "metadata": {
    "execution": {
     "iopub.execute_input": "2023-08-24T16:20:25.101014Z",
     "iopub.status.busy": "2023-08-24T16:20:25.100140Z",
     "iopub.status.idle": "2023-08-24T16:20:25.107059Z",
     "shell.execute_reply": "2023-08-24T16:20:25.105989Z"
    },
    "papermill": {
     "duration": 0.073587,
     "end_time": "2023-08-24T16:20:25.109168",
     "exception": false,
     "start_time": "2023-08-24T16:20:25.035581",
     "status": "completed"
    },
    "tags": []
   },
   "outputs": [
    {
     "data": {
      "text/plain": [
       "35"
      ]
     },
     "execution_count": 148,
     "metadata": {},
     "output_type": "execute_result"
    }
   ],
   "source": [
    "x = lambda a : a + 10\n",
    "x(25)"
   ]
  },
  {
   "cell_type": "code",
   "execution_count": 149,
   "id": "f1ae468f",
   "metadata": {
    "execution": {
     "iopub.execute_input": "2023-08-24T16:20:25.240130Z",
     "iopub.status.busy": "2023-08-24T16:20:25.239504Z",
     "iopub.status.idle": "2023-08-24T16:20:25.247282Z",
     "shell.execute_reply": "2023-08-24T16:20:25.245868Z"
    },
    "papermill": {
     "duration": 0.077482,
     "end_time": "2023-08-24T16:20:25.250201",
     "exception": false,
     "start_time": "2023-08-24T16:20:25.172719",
     "status": "completed"
    },
    "tags": []
   },
   "outputs": [
    {
     "data": {
      "text/plain": [
       "30"
      ]
     },
     "execution_count": 149,
     "metadata": {},
     "output_type": "execute_result"
    }
   ],
   "source": [
    "x = lambda a, b : a * b\n",
    "x(5, 6)"
   ]
  },
  {
   "cell_type": "code",
   "execution_count": 150,
   "id": "fc4c1fd7",
   "metadata": {
    "execution": {
     "iopub.execute_input": "2023-08-24T16:20:25.388568Z",
     "iopub.status.busy": "2023-08-24T16:20:25.388225Z",
     "iopub.status.idle": "2023-08-24T16:20:25.393364Z",
     "shell.execute_reply": "2023-08-24T16:20:25.392436Z"
    },
    "papermill": {
     "duration": 0.076001,
     "end_time": "2023-08-24T16:20:25.395798",
     "exception": false,
     "start_time": "2023-08-24T16:20:25.319797",
     "status": "completed"
    },
    "tags": []
   },
   "outputs": [
    {
     "name": "stdout",
     "output_type": "stream",
     "text": [
      "13\n"
     ]
    }
   ],
   "source": [
    "x = lambda a, b, c : a + b + c\n",
    "print(x(5, 6, 2))"
   ]
  },
  {
   "cell_type": "code",
   "execution_count": 151,
   "id": "800cfc46",
   "metadata": {
    "execution": {
     "iopub.execute_input": "2023-08-24T16:20:25.524412Z",
     "iopub.status.busy": "2023-08-24T16:20:25.524038Z",
     "iopub.status.idle": "2023-08-24T16:20:25.528375Z",
     "shell.execute_reply": "2023-08-24T16:20:25.527364Z"
    },
    "papermill": {
     "duration": 0.070738,
     "end_time": "2023-08-24T16:20:25.530287",
     "exception": false,
     "start_time": "2023-08-24T16:20:25.459549",
     "status": "completed"
    },
    "tags": []
   },
   "outputs": [],
   "source": [
    "# def myfunc(n):\n",
    "#   return lambda a : a * n\n",
    "\n",
    "# mydoubler = lambda a : a * 2 \n",
    "\n",
    "# print(mydoubler(11))"
   ]
  },
  {
   "cell_type": "code",
   "execution_count": 152,
   "id": "cb24a1ac",
   "metadata": {
    "execution": {
     "iopub.execute_input": "2023-08-24T16:20:25.659806Z",
     "iopub.status.busy": "2023-08-24T16:20:25.659458Z",
     "iopub.status.idle": "2023-08-24T16:20:25.663847Z",
     "shell.execute_reply": "2023-08-24T16:20:25.662827Z"
    },
    "papermill": {
     "duration": 0.070891,
     "end_time": "2023-08-24T16:20:25.666010",
     "exception": false,
     "start_time": "2023-08-24T16:20:25.595119",
     "status": "completed"
    },
    "tags": []
   },
   "outputs": [],
   "source": [
    "# def myfunc(n):\n",
    "#   return lambda a : a * n\n",
    "\n",
    "# mydoubler = lambda a : a * 2\n",
    "\n",
    "# print(mydoubler(11))"
   ]
  },
  {
   "cell_type": "code",
   "execution_count": 153,
   "id": "8f4f2095",
   "metadata": {
    "execution": {
     "iopub.execute_input": "2023-08-24T16:20:25.795596Z",
     "iopub.status.busy": "2023-08-24T16:20:25.794500Z",
     "iopub.status.idle": "2023-08-24T16:20:25.801467Z",
     "shell.execute_reply": "2023-08-24T16:20:25.799979Z"
    },
    "papermill": {
     "duration": 0.074822,
     "end_time": "2023-08-24T16:20:25.803586",
     "exception": false,
     "start_time": "2023-08-24T16:20:25.728764",
     "status": "completed"
    },
    "tags": []
   },
   "outputs": [
    {
     "name": "stdout",
     "output_type": "stream",
     "text": [
      "22\n"
     ]
    }
   ],
   "source": [
    "def myfunc(n):\n",
    "  return lambda a : a * n\n",
    "\n",
    "mydoubler = myfunc(2)\n",
    "\n",
    "print(mydoubler(11))"
   ]
  },
  {
   "cell_type": "code",
   "execution_count": 154,
   "id": "eaa1e443",
   "metadata": {
    "execution": {
     "iopub.execute_input": "2023-08-24T16:20:25.934225Z",
     "iopub.status.busy": "2023-08-24T16:20:25.933876Z",
     "iopub.status.idle": "2023-08-24T16:20:25.938235Z",
     "shell.execute_reply": "2023-08-24T16:20:25.937225Z"
    },
    "papermill": {
     "duration": 0.072068,
     "end_time": "2023-08-24T16:20:25.940242",
     "exception": false,
     "start_time": "2023-08-24T16:20:25.868174",
     "status": "completed"
    },
    "tags": []
   },
   "outputs": [],
   "source": [
    "# def myfunc(n):\n",
    "#   return lambda a : a * n\n",
    "\n",
    "# mydoubler = lambda a : a * 2\n",
    "# mytripler = lambda a : a * 3\n",
    "\n",
    "# print(mydoubler(11))\n",
    "# print(mytripler(11))"
   ]
  },
  {
   "cell_type": "code",
   "execution_count": 155,
   "id": "9a0b99e9",
   "metadata": {
    "execution": {
     "iopub.execute_input": "2023-08-24T16:20:26.069202Z",
     "iopub.status.busy": "2023-08-24T16:20:26.068389Z",
     "iopub.status.idle": "2023-08-24T16:20:26.075611Z",
     "shell.execute_reply": "2023-08-24T16:20:26.074260Z"
    },
    "papermill": {
     "duration": 0.074125,
     "end_time": "2023-08-24T16:20:26.077601",
     "exception": false,
     "start_time": "2023-08-24T16:20:26.003476",
     "status": "completed"
    },
    "tags": []
   },
   "outputs": [
    {
     "name": "stdout",
     "output_type": "stream",
     "text": [
      "22\n",
      "33\n"
     ]
    }
   ],
   "source": [
    "def myfunc(n):\n",
    "  return lambda a : a * n\n",
    "\n",
    "mydoubler = myfunc(2)\n",
    "mytripler = myfunc(3)\n",
    "\n",
    "print(mydoubler(11))\n",
    "print(mytripler(11))\n"
   ]
  },
  {
   "cell_type": "code",
   "execution_count": 156,
   "id": "f05db5bc",
   "metadata": {
    "execution": {
     "iopub.execute_input": "2023-08-24T16:20:26.205746Z",
     "iopub.status.busy": "2023-08-24T16:20:26.204729Z",
     "iopub.status.idle": "2023-08-24T16:20:26.210241Z",
     "shell.execute_reply": "2023-08-24T16:20:26.209357Z"
    },
    "papermill": {
     "duration": 0.071333,
     "end_time": "2023-08-24T16:20:26.212161",
     "exception": false,
     "start_time": "2023-08-24T16:20:26.140828",
     "status": "completed"
    },
    "tags": []
   },
   "outputs": [],
   "source": [
    "class fashion():\n",
    "    design = \"pattern design by yasmin \"\n",
    "    designer = \"yasmin\"\n",
    "    def color(self,choosecolour) :\n",
    "        print(\"kurtha is in  \",choosecolour)\n",
    "   "
   ]
  },
  {
   "cell_type": "code",
   "execution_count": 157,
   "id": "e1a85da3",
   "metadata": {
    "execution": {
     "iopub.execute_input": "2023-08-24T16:20:26.343188Z",
     "iopub.status.busy": "2023-08-24T16:20:26.342181Z",
     "iopub.status.idle": "2023-08-24T16:20:26.351670Z",
     "shell.execute_reply": "2023-08-24T16:20:26.350211Z"
    },
    "papermill": {
     "duration": 0.079621,
     "end_time": "2023-08-24T16:20:26.354214",
     "exception": false,
     "start_time": "2023-08-24T16:20:26.274593",
     "status": "completed"
    },
    "tags": []
   },
   "outputs": [
    {
     "name": "stdout",
     "output_type": "stream",
     "text": [
      "kurtha is in   red\n"
     ]
    },
    {
     "data": {
      "text/plain": [
       "'pattern design by yasmin '"
      ]
     },
     "execution_count": 157,
     "metadata": {},
     "output_type": "execute_result"
    }
   ],
   "source": [
    "anusha = fashion()\n",
    "anusha.color(\"red\")\n",
    "anusha.designer\n",
    "anusha.design"
   ]
  },
  {
   "cell_type": "code",
   "execution_count": 158,
   "id": "b58a3c15",
   "metadata": {
    "execution": {
     "iopub.execute_input": "2023-08-24T16:20:26.484904Z",
     "iopub.status.busy": "2023-08-24T16:20:26.483966Z",
     "iopub.status.idle": "2023-08-24T16:20:26.488493Z",
     "shell.execute_reply": "2023-08-24T16:20:26.487404Z"
    },
    "papermill": {
     "duration": 0.07264,
     "end_time": "2023-08-24T16:20:26.490527",
     "exception": false,
     "start_time": "2023-08-24T16:20:26.417887",
     "status": "completed"
    },
    "tags": []
   },
   "outputs": [],
   "source": [
    "#anbhu = sharmahouse()\n",
    "#anbhu.style(\"red\")"
   ]
  },
  {
   "cell_type": "code",
   "execution_count": 159,
   "id": "03ff9d4e",
   "metadata": {
    "execution": {
     "iopub.execute_input": "2023-08-24T16:20:26.627718Z",
     "iopub.status.busy": "2023-08-24T16:20:26.627358Z",
     "iopub.status.idle": "2023-08-24T16:20:26.635750Z",
     "shell.execute_reply": "2023-08-24T16:20:26.634877Z"
    },
    "papermill": {
     "duration": 0.078218,
     "end_time": "2023-08-24T16:20:26.637680",
     "exception": false,
     "start_time": "2023-08-24T16:20:26.559462",
     "status": "completed"
    },
    "tags": []
   },
   "outputs": [
    {
     "data": {
      "text/plain": [
       "'italian'"
      ]
     },
     "execution_count": 159,
     "metadata": {},
     "output_type": "execute_result"
    }
   ],
   "source": [
    "class Sharmadesign :\n",
    "    design = \"italian\"\n",
    "    \n",
    "    def __init__(self, color, size):\n",
    "        self.style = color \n",
    "        self.area = size\n",
    "\n",
    "    def beauty(self):\n",
    "        print(\"my house is a \",self.style ,\" and \",self.area)\n",
    "\n",
    "anbhu = Sharmadesign(\"red\", 100)\n",
    "anusha = Sharmadesign(\"blue\", 30)\n",
    "\n",
    "anbhu.design = \"japanese\"\n",
    "del anbhu.design\n",
    "anbhu.design"
   ]
  },
  {
   "cell_type": "code",
   "execution_count": 160,
   "id": "cf86e922",
   "metadata": {
    "execution": {
     "iopub.execute_input": "2023-08-24T16:20:26.766297Z",
     "iopub.status.busy": "2023-08-24T16:20:26.765429Z",
     "iopub.status.idle": "2023-08-24T16:20:26.770251Z",
     "shell.execute_reply": "2023-08-24T16:20:26.769382Z"
    },
    "papermill": {
     "duration": 0.071602,
     "end_time": "2023-08-24T16:20:26.772488",
     "exception": false,
     "start_time": "2023-08-24T16:20:26.700886",
     "status": "completed"
    },
    "tags": []
   },
   "outputs": [],
   "source": [
    "for i in range(5):\n",
    "    pass\n"
   ]
  },
  {
   "cell_type": "code",
   "execution_count": 161,
   "id": "f45181dc",
   "metadata": {
    "execution": {
     "iopub.execute_input": "2023-08-24T16:20:26.900382Z",
     "iopub.status.busy": "2023-08-24T16:20:26.899518Z",
     "iopub.status.idle": "2023-08-24T16:20:26.904673Z",
     "shell.execute_reply": "2023-08-24T16:20:26.903763Z"
    },
    "papermill": {
     "duration": 0.070953,
     "end_time": "2023-08-24T16:20:26.906641",
     "exception": false,
     "start_time": "2023-08-24T16:20:26.835688",
     "status": "completed"
    },
    "tags": []
   },
   "outputs": [],
   "source": [
    "class sharma :\n",
    "    def size() :\n",
    "        print(\"aa\") \n",
    "    def area() :\n",
    "        pass"
   ]
  },
  {
   "cell_type": "code",
   "execution_count": 162,
   "id": "60f94fbb",
   "metadata": {
    "execution": {
     "iopub.execute_input": "2023-08-24T16:20:27.036328Z",
     "iopub.status.busy": "2023-08-24T16:20:27.035938Z",
     "iopub.status.idle": "2023-08-24T16:20:27.041418Z",
     "shell.execute_reply": "2023-08-24T16:20:27.040414Z"
    },
    "papermill": {
     "duration": 0.075675,
     "end_time": "2023-08-24T16:20:27.044367",
     "exception": false,
     "start_time": "2023-08-24T16:20:26.968692",
     "status": "completed"
    },
    "tags": []
   },
   "outputs": [
    {
     "name": "stdout",
     "output_type": "stream",
     "text": [
      "Adult\n"
     ]
    }
   ],
   "source": [
    "age = 18\n",
    "status = \"Adult\" if age >= 18 else \"Minor\"\n",
    "print(status)  # Output: Adult"
   ]
  },
  {
   "cell_type": "code",
   "execution_count": 163,
   "id": "b5cf332c",
   "metadata": {
    "execution": {
     "iopub.execute_input": "2023-08-24T16:20:27.178292Z",
     "iopub.status.busy": "2023-08-24T16:20:27.177926Z",
     "iopub.status.idle": "2023-08-24T16:20:27.183230Z",
     "shell.execute_reply": "2023-08-24T16:20:27.182260Z"
    },
    "papermill": {
     "duration": 0.074395,
     "end_time": "2023-08-24T16:20:27.186080",
     "exception": false,
     "start_time": "2023-08-24T16:20:27.111685",
     "status": "completed"
    },
    "tags": []
   },
   "outputs": [
    {
     "name": "stdout",
     "output_type": "stream",
     "text": [
      "Adult\n"
     ]
    }
   ],
   "source": [
    "age = 18\n",
    "if age >=  18:\n",
    "    status = \"Adult\"\n",
    "else  :\n",
    "    status = \"Minor\"\n",
    "print(status)"
   ]
  },
  {
   "cell_type": "code",
   "execution_count": 164,
   "id": "800144f1",
   "metadata": {
    "execution": {
     "iopub.execute_input": "2023-08-24T16:20:27.325859Z",
     "iopub.status.busy": "2023-08-24T16:20:27.324878Z",
     "iopub.status.idle": "2023-08-24T16:20:27.331552Z",
     "shell.execute_reply": "2023-08-24T16:20:27.330480Z"
    },
    "papermill": {
     "duration": 0.081144,
     "end_time": "2023-08-24T16:20:27.333735",
     "exception": false,
     "start_time": "2023-08-24T16:20:27.252591",
     "status": "completed"
    },
    "tags": []
   },
   "outputs": [
    {
     "name": "stdout",
     "output_type": "stream",
     "text": [
      "[16]\n"
     ]
    }
   ],
   "source": [
    "numbers = [1, 2, 3, 4, 5]\n",
    "squared = [i ** 2 for i in numbers if i > 3  if i < 5]\n",
    "print(squared)  "
   ]
  },
  {
   "cell_type": "code",
   "execution_count": 165,
   "id": "c7297ebb",
   "metadata": {
    "execution": {
     "iopub.execute_input": "2023-08-24T16:20:27.469551Z",
     "iopub.status.busy": "2023-08-24T16:20:27.469222Z",
     "iopub.status.idle": "2023-08-24T16:20:27.476282Z",
     "shell.execute_reply": "2023-08-24T16:20:27.475431Z"
    },
    "papermill": {
     "duration": 0.075149,
     "end_time": "2023-08-24T16:20:27.478241",
     "exception": false,
     "start_time": "2023-08-24T16:20:27.403092",
     "status": "completed"
    },
    "tags": []
   },
   "outputs": [
    {
     "data": {
      "text/plain": [
       "[16]"
      ]
     },
     "execution_count": 165,
     "metadata": {},
     "output_type": "execute_result"
    }
   ],
   "source": [
    "numbers = [1, 2, 3, 4, 5]\n",
    "squared = []\n",
    "for i in numbers :\n",
    "    if i > 3 : \n",
    "        if i < 5 :\n",
    "            squared.append(i**2)\n",
    "squared\n",
    "    "
   ]
  },
  {
   "cell_type": "markdown",
   "id": "e3d9c142",
   "metadata": {
    "execution": {
     "iopub.execute_input": "2023-08-24T15:17:55.457068Z",
     "iopub.status.busy": "2023-08-24T15:17:55.456184Z"
    },
    "papermill": {
     "duration": 0.065368,
     "end_time": "2023-08-24T16:20:27.609049",
     "exception": false,
     "start_time": "2023-08-24T16:20:27.543681",
     "status": "completed"
    },
    "tags": []
   },
   "source": [
    "# def count_up_to(limit):\n",
    "    num = 1\n",
    "    while num <= limit:\n",
    "        yield num\n",
    "        num += 1\n",
    "\n",
    "numbers = count_up_to(1000000)\n",
    "for num in numbers:\n",
    "    print(num)  # Output: 1, 2, 3, 4, 5"
   ]
  },
  {
   "cell_type": "code",
   "execution_count": 166,
   "id": "6e0c1d68",
   "metadata": {
    "execution": {
     "iopub.execute_input": "2023-08-24T16:20:27.739071Z",
     "iopub.status.busy": "2023-08-24T16:20:27.738699Z",
     "iopub.status.idle": "2023-08-24T16:20:27.745477Z",
     "shell.execute_reply": "2023-08-24T16:20:27.744618Z"
    },
    "papermill": {
     "duration": 0.074254,
     "end_time": "2023-08-24T16:20:27.747352",
     "exception": false,
     "start_time": "2023-08-24T16:20:27.673098",
     "status": "completed"
    },
    "tags": []
   },
   "outputs": [
    {
     "data": {
      "text/plain": [
       "6"
      ]
     },
     "execution_count": 166,
     "metadata": {},
     "output_type": "execute_result"
    }
   ],
   "source": [
    "def count_up_to(limit):\n",
    "    num = 1\n",
    "    while num <= limit:\n",
    "        \n",
    "        num += 1\n",
    "    return num\n",
    "\n",
    "numbers = count_up_to(5)\n",
    "# for num in numbers:\n",
    "#     print(num)  # Output: 1, 2, 3, 4, 5\n",
    "numbers"
   ]
  },
  {
   "cell_type": "code",
   "execution_count": 167,
   "id": "da21ffab",
   "metadata": {
    "execution": {
     "iopub.execute_input": "2023-08-24T16:20:27.877972Z",
     "iopub.status.busy": "2023-08-24T16:20:27.877651Z",
     "iopub.status.idle": "2023-08-24T16:20:27.883205Z",
     "shell.execute_reply": "2023-08-24T16:20:27.882329Z"
    },
    "papermill": {
     "duration": 0.073082,
     "end_time": "2023-08-24T16:20:27.885472",
     "exception": false,
     "start_time": "2023-08-24T16:20:27.812390",
     "status": "completed"
    },
    "tags": []
   },
   "outputs": [
    {
     "name": "stdout",
     "output_type": "stream",
     "text": [
      "3\n",
      "2\n",
      "1\n"
     ]
    }
   ],
   "source": [
    "def countdown(start):\n",
    "    while start > 0:\n",
    "        yield start\n",
    "        start -= 1\n",
    "\n",
    "count = countdown(3)\n",
    "for num in count:\n",
    "    print(num)  # Output: 3, 2, 1"
   ]
  },
  {
   "cell_type": "code",
   "execution_count": null,
   "id": "6758ed27",
   "metadata": {
    "papermill": {
     "duration": 0.063628,
     "end_time": "2023-08-24T16:20:28.012989",
     "exception": false,
     "start_time": "2023-08-24T16:20:27.949361",
     "status": "completed"
    },
    "tags": []
   },
   "outputs": [],
   "source": []
  },
  {
   "cell_type": "code",
   "execution_count": 168,
   "id": "8db43cbb",
   "metadata": {
    "execution": {
     "iopub.execute_input": "2023-08-24T16:20:28.140790Z",
     "iopub.status.busy": "2023-08-24T16:20:28.140413Z",
     "iopub.status.idle": "2023-08-24T16:20:28.145903Z",
     "shell.execute_reply": "2023-08-24T16:20:28.145012Z"
    },
    "papermill": {
     "duration": 0.072061,
     "end_time": "2023-08-24T16:20:28.148671",
     "exception": false,
     "start_time": "2023-08-24T16:20:28.076610",
     "status": "completed"
    },
    "tags": []
   },
   "outputs": [
    {
     "name": "stdout",
     "output_type": "stream",
     "text": [
      "1\n",
      "4\n",
      "9\n",
      "16\n",
      "25\n"
     ]
    }
   ],
   "source": [
    "squares = (x ** 2 for x in range(1, 6))\n",
    "for square in squares:\n",
    "    print(square)  # Output: 1, 4, 9, 16, 25"
   ]
  },
  {
   "cell_type": "code",
   "execution_count": null,
   "id": "6fe7bbb7",
   "metadata": {
    "papermill": {
     "duration": 0.063114,
     "end_time": "2023-08-24T16:20:28.275248",
     "exception": false,
     "start_time": "2023-08-24T16:20:28.212134",
     "status": "completed"
    },
    "tags": []
   },
   "outputs": [],
   "source": []
  },
  {
   "cell_type": "code",
   "execution_count": 169,
   "id": "e42ba269",
   "metadata": {
    "execution": {
     "iopub.execute_input": "2023-08-24T16:20:28.406656Z",
     "iopub.status.busy": "2023-08-24T16:20:28.406318Z",
     "iopub.status.idle": "2023-08-24T16:20:28.412302Z",
     "shell.execute_reply": "2023-08-24T16:20:28.411412Z"
    },
    "papermill": {
     "duration": 0.073732,
     "end_time": "2023-08-24T16:20:28.414619",
     "exception": false,
     "start_time": "2023-08-24T16:20:28.340887",
     "status": "completed"
    },
    "tags": []
   },
   "outputs": [
    {
     "name": "stdout",
     "output_type": "stream",
     "text": [
      "sharma\n",
      "35\n"
     ]
    }
   ],
   "source": [
    "class avs:\n",
    "    def __init__(self,name,age):\n",
    "        self.name = name\n",
    "        self.age = age\n",
    "        \n",
    "x =  avs(\"sharma\",35)\n",
    "print(x.name)\n",
    "print(x.age)"
   ]
  },
  {
   "cell_type": "code",
   "execution_count": 170,
   "id": "20b125ba",
   "metadata": {
    "execution": {
     "iopub.execute_input": "2023-08-24T16:20:28.546209Z",
     "iopub.status.busy": "2023-08-24T16:20:28.545363Z",
     "iopub.status.idle": "2023-08-24T16:20:28.549849Z",
     "shell.execute_reply": "2023-08-24T16:20:28.548985Z"
    },
    "papermill": {
     "duration": 0.073543,
     "end_time": "2023-08-24T16:20:28.551918",
     "exception": false,
     "start_time": "2023-08-24T16:20:28.478375",
     "status": "completed"
    },
    "tags": []
   },
   "outputs": [],
   "source": [
    "# a = [10 ,15 ,17,20]\n",
    "\n",
    "# ans = list (filter(lambda x : x %2 , a ))\n",
    "# ans"
   ]
  },
  {
   "cell_type": "code",
   "execution_count": 171,
   "id": "3a169767",
   "metadata": {
    "execution": {
     "iopub.execute_input": "2023-08-24T16:20:28.689400Z",
     "iopub.status.busy": "2023-08-24T16:20:28.689048Z",
     "iopub.status.idle": "2023-08-24T16:20:28.695419Z",
     "shell.execute_reply": "2023-08-24T16:20:28.694451Z"
    },
    "papermill": {
     "duration": 0.077441,
     "end_time": "2023-08-24T16:20:28.697489",
     "exception": false,
     "start_time": "2023-08-24T16:20:28.620048",
     "status": "completed"
    },
    "tags": []
   },
   "outputs": [
    {
     "data": {
      "text/plain": [
       "__main__.sharma"
      ]
     },
     "execution_count": 171,
     "metadata": {},
     "output_type": "execute_result"
    }
   ],
   "source": [
    "ans = [ 10, 20 , 30]\n",
    "\n",
    "sharma "
   ]
  },
  {
   "cell_type": "code",
   "execution_count": 172,
   "id": "53fe464d",
   "metadata": {
    "execution": {
     "iopub.execute_input": "2023-08-24T16:20:28.831757Z",
     "iopub.status.busy": "2023-08-24T16:20:28.830915Z",
     "iopub.status.idle": "2023-08-24T16:20:28.836371Z",
     "shell.execute_reply": "2023-08-24T16:20:28.835480Z"
    },
    "papermill": {
     "duration": 0.072615,
     "end_time": "2023-08-24T16:20:28.838525",
     "exception": false,
     "start_time": "2023-08-24T16:20:28.765910",
     "status": "completed"
    },
    "tags": []
   },
   "outputs": [
    {
     "name": "stdout",
     "output_type": "stream",
     "text": [
      "yes\n"
     ]
    }
   ],
   "source": [
    "a = 10 \n",
    "\n",
    "\n",
    "if a > 5 :\n",
    "    print(\"yes\")\n",
    "else :\n",
    "    print(\"no\")"
   ]
  },
  {
   "cell_type": "code",
   "execution_count": 173,
   "id": "d7b65006",
   "metadata": {
    "execution": {
     "iopub.execute_input": "2023-08-24T16:20:28.966510Z",
     "iopub.status.busy": "2023-08-24T16:20:28.965656Z",
     "iopub.status.idle": "2023-08-24T16:20:28.972593Z",
     "shell.execute_reply": "2023-08-24T16:20:28.971628Z"
    },
    "papermill": {
     "duration": 0.073526,
     "end_time": "2023-08-24T16:20:28.974640",
     "exception": false,
     "start_time": "2023-08-24T16:20:28.901114",
     "status": "completed"
    },
    "tags": []
   },
   "outputs": [
    {
     "data": {
      "text/plain": [
       "'yes'"
      ]
     },
     "execution_count": 173,
     "metadata": {},
     "output_type": "execute_result"
    }
   ],
   "source": [
    "a = 10\n",
    "sharma = \"yes\"  if a > 5 else  \"no\"\n",
    "sharma"
   ]
  },
  {
   "cell_type": "code",
   "execution_count": 174,
   "id": "f3e60478",
   "metadata": {
    "execution": {
     "iopub.execute_input": "2023-08-24T16:20:29.107590Z",
     "iopub.status.busy": "2023-08-24T16:20:29.107247Z",
     "iopub.status.idle": "2023-08-24T16:20:29.113445Z",
     "shell.execute_reply": "2023-08-24T16:20:29.112540Z"
    },
    "papermill": {
     "duration": 0.074527,
     "end_time": "2023-08-24T16:20:29.115450",
     "exception": false,
     "start_time": "2023-08-24T16:20:29.040923",
     "status": "completed"
    },
    "tags": []
   },
   "outputs": [
    {
     "data": {
      "text/plain": [
       "30"
      ]
     },
     "execution_count": 174,
     "metadata": {},
     "output_type": "execute_result"
    }
   ],
   "source": [
    "anbhu = lambda x,y  :  x+ y\n",
    "anbhu(10,20)"
   ]
  },
  {
   "cell_type": "code",
   "execution_count": 175,
   "id": "f2c4d2aa",
   "metadata": {
    "execution": {
     "iopub.execute_input": "2023-08-24T16:20:29.252461Z",
     "iopub.status.busy": "2023-08-24T16:20:29.251612Z",
     "iopub.status.idle": "2023-08-24T16:20:29.258996Z",
     "shell.execute_reply": "2023-08-24T16:20:29.257712Z"
    },
    "papermill": {
     "duration": 0.077762,
     "end_time": "2023-08-24T16:20:29.261164",
     "exception": false,
     "start_time": "2023-08-24T16:20:29.183402",
     "status": "completed"
    },
    "tags": []
   },
   "outputs": [
    {
     "name": "stdout",
     "output_type": "stream",
     "text": [
      "Original arrays:\n",
      "[1, 2, 3, 5, 7, 8, 9, 10]\n",
      "[1, 2, 4, 8, 9]\n",
      "\n",
      "Intersection of the said arrays:  [1, 2, 8, 9]\n"
     ]
    }
   ],
   "source": [
    "array_nums1 = [1, 2, 3, 5, 7, 8, 9, 10]\n",
    "array_nums2 = [1, 2, 4, 8, 9]\n",
    "print(\"Original arrays:\")\n",
    "print(array_nums1)\n",
    "print(array_nums2)\n",
    "result = list(filter(lambda x: x in array_nums1, array_nums2)) \n",
    "print (\"\\nIntersection of the said arrays: \",result)\n"
   ]
  },
  {
   "cell_type": "code",
   "execution_count": 176,
   "id": "c839aa0d",
   "metadata": {
    "execution": {
     "iopub.execute_input": "2023-08-24T16:20:29.401204Z",
     "iopub.status.busy": "2023-08-24T16:20:29.400163Z",
     "iopub.status.idle": "2023-08-24T16:20:29.404934Z",
     "shell.execute_reply": "2023-08-24T16:20:29.404098Z"
    },
    "papermill": {
     "duration": 0.077731,
     "end_time": "2023-08-24T16:20:29.406784",
     "exception": false,
     "start_time": "2023-08-24T16:20:29.329053",
     "status": "completed"
    },
    "tags": []
   },
   "outputs": [],
   "source": [
    "# class myfunc():\n",
    "#     z = 300\n",
    "#     def myinnerfunc():\n",
    "#         print(z)\n",
    "#     myinnerfunc()\n",
    "\n",
    "# myfunc()\n"
   ]
  },
  {
   "cell_type": "code",
   "execution_count": 177,
   "id": "df1e4401",
   "metadata": {
    "execution": {
     "iopub.execute_input": "2023-08-24T16:20:29.537206Z",
     "iopub.status.busy": "2023-08-24T16:20:29.536301Z",
     "iopub.status.idle": "2023-08-24T16:20:29.547998Z",
     "shell.execute_reply": "2023-08-24T16:20:29.547009Z"
    },
    "papermill": {
     "duration": 0.07975,
     "end_time": "2023-08-24T16:20:29.550131",
     "exception": false,
     "start_time": "2023-08-24T16:20:29.470381",
     "status": "completed"
    },
    "tags": []
   },
   "outputs": [
    {
     "data": {
      "text/plain": [
       "'2023 result is very good'"
      ]
     },
     "execution_count": 177,
     "metadata": {},
     "output_type": "execute_result"
    }
   ],
   "source": [
    "class exam :\n",
    "    sharmastd = 90\n",
    "    ashastd   = 80 \n",
    "    anushastd = 75\n",
    "    anbhustd = 90 \n",
    "    student =  [\"asha\",\"sharma\",\"anusha\",\"anbhu\"]\n",
    "    \n",
    "    def __init__ (self,given,studentname  ):\n",
    "        self.mlvmarks  = given\n",
    "        self.result = studentname + \"has got \" + str(self.mlvmarks)\n",
    "        self.studentname = studentname\n",
    "        self.student1 = [\"asha\",\"sharma\",\"anusha\",\"anbhu\"]\n",
    "        self.marks =   [80,90,75,90] \n",
    "        \n",
    "    def review(self,year) :\n",
    "        for i in range(len(self.student)) :\n",
    "            if self.student1[i] == self.studentname :                 \n",
    "                if self.mlvmarks >  self.marks[i] :\n",
    "                    return str(year) + \" result is very good\" \n",
    "                else :\n",
    "                    return str(year)  + \" result is rewrite exam\"\n",
    "                \n",
    "anusharesult = exam(80,\"anusha\")\n",
    "anusharesult.review(2023)\n",
    "\n",
    "# anbhuresult = exam(65,\"anbhu\")\n",
    "# print(anusharesult.mlvmarks,\" \",anusharesult.anushastd,\" \" ,anusharesult.result,\" \",anusharesult.review())\n",
    "# print(anbhuresult.mlvmarks,\" \",anbhuresult.anbhustd,\" \" ,anbhuresult.result,\" \",anbhuresult.review())"
   ]
  },
  {
   "cell_type": "code",
   "execution_count": 178,
   "id": "a7c6772c",
   "metadata": {
    "execution": {
     "iopub.execute_input": "2023-08-24T16:20:29.686031Z",
     "iopub.status.busy": "2023-08-24T16:20:29.685648Z",
     "iopub.status.idle": "2023-08-24T16:20:29.690049Z",
     "shell.execute_reply": "2023-08-24T16:20:29.689032Z"
    },
    "papermill": {
     "duration": 0.074728,
     "end_time": "2023-08-24T16:20:29.692136",
     "exception": false,
     "start_time": "2023-08-24T16:20:29.617408",
     "status": "completed"
    },
    "tags": []
   },
   "outputs": [],
   "source": [
    "# def anbhu(self) :\n",
    "#         print(\"good girl\")\n",
    "# ans = self.anbhu()"
   ]
  },
  {
   "cell_type": "code",
   "execution_count": 179,
   "id": "391ab41c",
   "metadata": {
    "execution": {
     "iopub.execute_input": "2023-08-24T16:20:29.828880Z",
     "iopub.status.busy": "2023-08-24T16:20:29.827902Z",
     "iopub.status.idle": "2023-08-24T16:20:29.838126Z",
     "shell.execute_reply": "2023-08-24T16:20:29.837078Z"
    },
    "papermill": {
     "duration": 0.081154,
     "end_time": "2023-08-24T16:20:29.840229",
     "exception": false,
     "start_time": "2023-08-24T16:20:29.759075",
     "status": "completed"
    },
    "tags": []
   },
   "outputs": [
    {
     "data": {
      "text/plain": [
       "90"
      ]
     },
     "execution_count": 179,
     "metadata": {},
     "output_type": "execute_result"
    }
   ],
   "source": [
    "class area:\n",
    "    asha = 90\n",
    "\n",
    "    def __init__(self,l,b = 50):\n",
    "        self.length=l\n",
    "        self.breadth=b\n",
    "    def area_rec(self): \n",
    "        print('length='+str(self.length))\n",
    "        print('breadth='+str(self.breadth))\n",
    "    def display(self,aa):\n",
    "        print(self.length*self.breadth*aa)\n",
    "    def area_square(self,p,q):\n",
    "        print(p*q)\n",
    "# i1 = int(input()) \n",
    "# i2 = int(input())\n",
    "a=area(10)\n",
    "# a.area_rec()\n",
    "a.asha\n",
    "# a.display()"
   ]
  },
  {
   "cell_type": "code",
   "execution_count": 180,
   "id": "cc5b7800",
   "metadata": {
    "execution": {
     "iopub.execute_input": "2023-08-24T16:20:29.971524Z",
     "iopub.status.busy": "2023-08-24T16:20:29.970649Z",
     "iopub.status.idle": "2023-08-24T16:20:29.977921Z",
     "shell.execute_reply": "2023-08-24T16:20:29.976934Z"
    },
    "papermill": {
     "duration": 0.074793,
     "end_time": "2023-08-24T16:20:29.980121",
     "exception": false,
     "start_time": "2023-08-24T16:20:29.905328",
     "status": "completed"
    },
    "tags": []
   },
   "outputs": [
    {
     "data": {
      "text/plain": [
       "[1, 4, 9, 16]"
      ]
     },
     "execution_count": 180,
     "metadata": {},
     "output_type": "execute_result"
    }
   ],
   "source": [
    "ans = [1,2,3,4]\n",
    "\n",
    "a = [ i**2 for i in ans]\n",
    "a"
   ]
  },
  {
   "cell_type": "code",
   "execution_count": 181,
   "id": "229ab0e2",
   "metadata": {
    "execution": {
     "iopub.execute_input": "2023-08-24T16:20:30.115987Z",
     "iopub.status.busy": "2023-08-24T16:20:30.115660Z",
     "iopub.status.idle": "2023-08-24T16:20:30.133772Z",
     "shell.execute_reply": "2023-08-24T16:20:30.130387Z"
    },
    "papermill": {
     "duration": 0.088388,
     "end_time": "2023-08-24T16:20:30.135884",
     "exception": false,
     "start_time": "2023-08-24T16:20:30.047496",
     "status": "completed"
    },
    "tags": []
   },
   "outputs": [
    {
     "data": {
      "text/plain": [
       "[1, 4, 9, 16]"
      ]
     },
     "execution_count": 181,
     "metadata": {},
     "output_type": "execute_result"
    }
   ],
   "source": [
    "ans = [1,2,3,4]\n",
    "a = [i**2 for i in ans   ]\n",
    "\n",
    "\n",
    "a"
   ]
  },
  {
   "cell_type": "code",
   "execution_count": 182,
   "id": "33d6e07e",
   "metadata": {
    "execution": {
     "iopub.execute_input": "2023-08-24T16:20:30.268314Z",
     "iopub.status.busy": "2023-08-24T16:20:30.267384Z",
     "iopub.status.idle": "2023-08-24T16:20:30.276645Z",
     "shell.execute_reply": "2023-08-24T16:20:30.275655Z"
    },
    "papermill": {
     "duration": 0.078096,
     "end_time": "2023-08-24T16:20:30.279291",
     "exception": false,
     "start_time": "2023-08-24T16:20:30.201195",
     "status": "completed"
    },
    "tags": []
   },
   "outputs": [
    {
     "data": {
      "text/plain": [
       "{1: 1, 2: 4, 3: 9, 4: 16}"
      ]
     },
     "execution_count": 182,
     "metadata": {},
     "output_type": "execute_result"
    }
   ],
   "source": [
    "ans = [1,2,3,4]\n",
    "a = {  x : x**2 for x in ans}\n",
    "a"
   ]
  },
  {
   "cell_type": "code",
   "execution_count": 183,
   "id": "a424390f",
   "metadata": {
    "execution": {
     "iopub.execute_input": "2023-08-24T16:20:30.461738Z",
     "iopub.status.busy": "2023-08-24T16:20:30.461377Z",
     "iopub.status.idle": "2023-08-24T16:20:30.465696Z",
     "shell.execute_reply": "2023-08-24T16:20:30.464799Z"
    },
    "papermill": {
     "duration": 0.103172,
     "end_time": "2023-08-24T16:20:30.467707",
     "exception": false,
     "start_time": "2023-08-24T16:20:30.364535",
     "status": "completed"
    },
    "tags": []
   },
   "outputs": [],
   "source": [
    "import numpy as np"
   ]
  },
  {
   "cell_type": "code",
   "execution_count": 184,
   "id": "23b70353",
   "metadata": {
    "execution": {
     "iopub.execute_input": "2023-08-24T16:20:30.600805Z",
     "iopub.status.busy": "2023-08-24T16:20:30.600476Z",
     "iopub.status.idle": "2023-08-24T16:20:30.606364Z",
     "shell.execute_reply": "2023-08-24T16:20:30.605496Z"
    },
    "papermill": {
     "duration": 0.07404,
     "end_time": "2023-08-24T16:20:30.608296",
     "exception": false,
     "start_time": "2023-08-24T16:20:30.534256",
     "status": "completed"
    },
    "tags": []
   },
   "outputs": [
    {
     "data": {
      "text/plain": [
       "[1, 2, 3]"
      ]
     },
     "execution_count": 184,
     "metadata": {},
     "output_type": "execute_result"
    }
   ],
   "source": [
    "a  = [1,2,3]\n",
    "a"
   ]
  },
  {
   "cell_type": "code",
   "execution_count": 185,
   "id": "1c162462",
   "metadata": {
    "execution": {
     "iopub.execute_input": "2023-08-24T16:20:30.738457Z",
     "iopub.status.busy": "2023-08-24T16:20:30.737598Z",
     "iopub.status.idle": "2023-08-24T16:20:30.744483Z",
     "shell.execute_reply": "2023-08-24T16:20:30.743435Z"
    },
    "papermill": {
     "duration": 0.074044,
     "end_time": "2023-08-24T16:20:30.746500",
     "exception": false,
     "start_time": "2023-08-24T16:20:30.672456",
     "status": "completed"
    },
    "tags": []
   },
   "outputs": [
    {
     "data": {
      "text/plain": [
       "numpy.ndarray"
      ]
     },
     "execution_count": 185,
     "metadata": {},
     "output_type": "execute_result"
    }
   ],
   "source": [
    "b = np.array([1,2,3])\n",
    "type(b )"
   ]
  },
  {
   "cell_type": "code",
   "execution_count": 186,
   "id": "37ff181a",
   "metadata": {
    "execution": {
     "iopub.execute_input": "2023-08-24T16:20:30.881241Z",
     "iopub.status.busy": "2023-08-24T16:20:30.880328Z",
     "iopub.status.idle": "2023-08-24T16:20:30.886355Z",
     "shell.execute_reply": "2023-08-24T16:20:30.885006Z"
    },
    "papermill": {
     "duration": 0.077566,
     "end_time": "2023-08-24T16:20:30.888615",
     "exception": false,
     "start_time": "2023-08-24T16:20:30.811049",
     "status": "completed"
    },
    "tags": []
   },
   "outputs": [
    {
     "name": "stdout",
     "output_type": "stream",
     "text": [
      "1.23.5\n"
     ]
    }
   ],
   "source": [
    "print(np.__version__)"
   ]
  },
  {
   "cell_type": "code",
   "execution_count": 187,
   "id": "2f31944b",
   "metadata": {
    "execution": {
     "iopub.execute_input": "2023-08-24T16:20:31.024988Z",
     "iopub.status.busy": "2023-08-24T16:20:31.024136Z",
     "iopub.status.idle": "2023-08-24T16:20:31.030279Z",
     "shell.execute_reply": "2023-08-24T16:20:31.029078Z"
    },
    "papermill": {
     "duration": 0.077598,
     "end_time": "2023-08-24T16:20:31.032434",
     "exception": false,
     "start_time": "2023-08-24T16:20:30.954836",
     "status": "completed"
    },
    "tags": []
   },
   "outputs": [
    {
     "name": "stdout",
     "output_type": "stream",
     "text": [
      "1.5.3\n"
     ]
    }
   ],
   "source": [
    "import pandas as pd\n",
    "print(pd.__version__)"
   ]
  },
  {
   "cell_type": "code",
   "execution_count": 188,
   "id": "2a5eb455",
   "metadata": {
    "execution": {
     "iopub.execute_input": "2023-08-24T16:20:31.169078Z",
     "iopub.status.busy": "2023-08-24T16:20:31.168181Z",
     "iopub.status.idle": "2023-08-24T16:20:31.175904Z",
     "shell.execute_reply": "2023-08-24T16:20:31.174782Z"
    },
    "papermill": {
     "duration": 0.077519,
     "end_time": "2023-08-24T16:20:31.178171",
     "exception": false,
     "start_time": "2023-08-24T16:20:31.100652",
     "status": "completed"
    },
    "tags": []
   },
   "outputs": [
    {
     "data": {
      "text/plain": [
       "array([1, 2, 3, 4, 5])"
      ]
     },
     "execution_count": 188,
     "metadata": {},
     "output_type": "execute_result"
    }
   ],
   "source": [
    "\n",
    "list_data = [1, 2, 3, 4, 5]\n",
    "asha= np.array(list_data)\n",
    "asha"
   ]
  },
  {
   "cell_type": "code",
   "execution_count": 189,
   "id": "d3dd24fe",
   "metadata": {
    "execution": {
     "iopub.execute_input": "2023-08-24T16:20:31.317367Z",
     "iopub.status.busy": "2023-08-24T16:20:31.316392Z",
     "iopub.status.idle": "2023-08-24T16:20:31.324071Z",
     "shell.execute_reply": "2023-08-24T16:20:31.322999Z"
    },
    "papermill": {
     "duration": 0.077191,
     "end_time": "2023-08-24T16:20:31.326316",
     "exception": false,
     "start_time": "2023-08-24T16:20:31.249125",
     "status": "completed"
    },
    "tags": []
   },
   "outputs": [
    {
     "data": {
      "text/plain": [
       "array([[0., 0., 0.],\n",
       "       [0., 0., 0.]])"
      ]
     },
     "execution_count": 189,
     "metadata": {},
     "output_type": "execute_result"
    }
   ],
   "source": [
    "zeros_array = np.zeros((2,3))\n",
    "zeros_array"
   ]
  },
  {
   "cell_type": "code",
   "execution_count": 190,
   "id": "03eb9b5b",
   "metadata": {
    "execution": {
     "iopub.execute_input": "2023-08-24T16:20:31.479644Z",
     "iopub.status.busy": "2023-08-24T16:20:31.479318Z",
     "iopub.status.idle": "2023-08-24T16:20:31.486161Z",
     "shell.execute_reply": "2023-08-24T16:20:31.485202Z"
    },
    "papermill": {
     "duration": 0.079319,
     "end_time": "2023-08-24T16:20:31.488428",
     "exception": false,
     "start_time": "2023-08-24T16:20:31.409109",
     "status": "completed"
    },
    "tags": []
   },
   "outputs": [
    {
     "data": {
      "text/plain": [
       "array([[60., 60., 60.],\n",
       "       [60., 60., 60.]])"
      ]
     },
     "execution_count": 190,
     "metadata": {},
     "output_type": "execute_result"
    }
   ],
   "source": [
    "# np.ones(): \n",
    "#Creates an array filled with ones.\n",
    "\n",
    "ones_array = 60 * np.ones((2, 3)) \n",
    "# creates a 2x3 array filled with ones\n",
    "ones_array"
   ]
  },
  {
   "cell_type": "code",
   "execution_count": 191,
   "id": "60770681",
   "metadata": {
    "execution": {
     "iopub.execute_input": "2023-08-24T16:20:31.629696Z",
     "iopub.status.busy": "2023-08-24T16:20:31.629078Z",
     "iopub.status.idle": "2023-08-24T16:20:31.636520Z",
     "shell.execute_reply": "2023-08-24T16:20:31.635501Z"
    },
    "papermill": {
     "duration": 0.079093,
     "end_time": "2023-08-24T16:20:31.638649",
     "exception": false,
     "start_time": "2023-08-24T16:20:31.559556",
     "status": "completed"
    },
    "tags": []
   },
   "outputs": [
    {
     "data": {
      "text/plain": [
       "array([[60, 60, 60],\n",
       "       [60, 60, 60]])"
      ]
     },
     "execution_count": 191,
     "metadata": {},
     "output_type": "execute_result"
    }
   ],
   "source": [
    "constant_array = np.full((2, 3), 60)  \n",
    "constant_array "
   ]
  },
  {
   "cell_type": "code",
   "execution_count": 192,
   "id": "efd0c6e3",
   "metadata": {
    "execution": {
     "iopub.execute_input": "2023-08-24T16:20:31.783486Z",
     "iopub.status.busy": "2023-08-24T16:20:31.782522Z",
     "iopub.status.idle": "2023-08-24T16:20:31.790383Z",
     "shell.execute_reply": "2023-08-24T16:20:31.789130Z"
    },
    "papermill": {
     "duration": 0.081735,
     "end_time": "2023-08-24T16:20:31.792641",
     "exception": false,
     "start_time": "2023-08-24T16:20:31.710906",
     "status": "completed"
    },
    "tags": []
   },
   "outputs": [
    {
     "data": {
      "text/plain": [
       "array([0, 2, 4, 6, 8])"
      ]
     },
     "execution_count": 192,
     "metadata": {},
     "output_type": "execute_result"
    }
   ],
   "source": [
    "range_array = np.arange(0, 10, 2) \n",
    "range_array"
   ]
  },
  {
   "cell_type": "code",
   "execution_count": 193,
   "id": "886b8bc9",
   "metadata": {
    "execution": {
     "iopub.execute_input": "2023-08-24T16:20:31.940810Z",
     "iopub.status.busy": "2023-08-24T16:20:31.939899Z",
     "iopub.status.idle": "2023-08-24T16:20:31.947697Z",
     "shell.execute_reply": "2023-08-24T16:20:31.946550Z"
    },
    "papermill": {
     "duration": 0.080164,
     "end_time": "2023-08-24T16:20:31.949915",
     "exception": false,
     "start_time": "2023-08-24T16:20:31.869751",
     "status": "completed"
    },
    "tags": []
   },
   "outputs": [
    {
     "data": {
      "text/plain": [
       "array([12., 14., 16., 18., 20., 22.])"
      ]
     },
     "execution_count": 193,
     "metadata": {},
     "output_type": "execute_result"
    }
   ],
   "source": [
    "linspace_array = np.linspace(12,22, 6) \n",
    "linspace_array"
   ]
  },
  {
   "cell_type": "code",
   "execution_count": 194,
   "id": "351326b5",
   "metadata": {
    "execution": {
     "iopub.execute_input": "2023-08-24T16:20:32.098389Z",
     "iopub.status.busy": "2023-08-24T16:20:32.098033Z",
     "iopub.status.idle": "2023-08-24T16:20:32.105379Z",
     "shell.execute_reply": "2023-08-24T16:20:32.104359Z"
    },
    "papermill": {
     "duration": 0.083747,
     "end_time": "2023-08-24T16:20:32.107891",
     "exception": false,
     "start_time": "2023-08-24T16:20:32.024144",
     "status": "completed"
    },
    "tags": []
   },
   "outputs": [
    {
     "data": {
      "text/plain": [
       "array([[0.12523856, 0.89721455, 0.6617798 ],\n",
       "       [0.64535092, 0.25025179, 0.194645  ],\n",
       "       [0.63496599, 0.48535952, 0.7564253 ]])"
      ]
     },
     "execution_count": 194,
     "metadata": {},
     "output_type": "execute_result"
    }
   ],
   "source": [
    "random_array =  np.random.rand(3, 3)\n",
    "random_array "
   ]
  },
  {
   "cell_type": "code",
   "execution_count": 195,
   "id": "c8fbff92",
   "metadata": {
    "execution": {
     "iopub.execute_input": "2023-08-24T16:20:32.260533Z",
     "iopub.status.busy": "2023-08-24T16:20:32.259668Z",
     "iopub.status.idle": "2023-08-24T16:20:32.267403Z",
     "shell.execute_reply": "2023-08-24T16:20:32.266254Z"
    },
    "papermill": {
     "duration": 0.083266,
     "end_time": "2023-08-24T16:20:32.269688",
     "exception": false,
     "start_time": "2023-08-24T16:20:32.186422",
     "status": "completed"
    },
    "tags": []
   },
   "outputs": [
    {
     "data": {
      "text/plain": [
       "array([[86, 76, 84],\n",
       "       [80, 77, 79],\n",
       "       [80, 79, 77]])"
      ]
     },
     "execution_count": 195,
     "metadata": {},
     "output_type": "execute_result"
    }
   ],
   "source": [
    "random_int_array = np.random.randint(70, 90, size=(3, 3)) \n",
    "random_int_array "
   ]
  },
  {
   "cell_type": "code",
   "execution_count": 196,
   "id": "ea667483",
   "metadata": {
    "execution": {
     "iopub.execute_input": "2023-08-24T16:20:32.414223Z",
     "iopub.status.busy": "2023-08-24T16:20:32.413361Z",
     "iopub.status.idle": "2023-08-24T16:20:32.420380Z",
     "shell.execute_reply": "2023-08-24T16:20:32.419453Z"
    },
    "papermill": {
     "duration": 0.082439,
     "end_time": "2023-08-24T16:20:32.422364",
     "exception": false,
     "start_time": "2023-08-24T16:20:32.339925",
     "status": "completed"
    },
    "tags": []
   },
   "outputs": [
    {
     "data": {
      "text/plain": [
       "(1, 6)"
      ]
     },
     "execution_count": 196,
     "metadata": {},
     "output_type": "execute_result"
    }
   ],
   "source": [
    "arr = np.array([[1, 2, 3, 4, 5, 6]])\n",
    "arr.shape\n",
    "# new_arr = arr.reshape((2, 3))"
   ]
  },
  {
   "cell_type": "code",
   "execution_count": 197,
   "id": "1841982d",
   "metadata": {
    "execution": {
     "iopub.execute_input": "2023-08-24T16:20:32.562401Z",
     "iopub.status.busy": "2023-08-24T16:20:32.561461Z",
     "iopub.status.idle": "2023-08-24T16:20:32.567904Z",
     "shell.execute_reply": "2023-08-24T16:20:32.566731Z"
    },
    "papermill": {
     "duration": 0.079813,
     "end_time": "2023-08-24T16:20:32.570331",
     "exception": false,
     "start_time": "2023-08-24T16:20:32.490518",
     "status": "completed"
    },
    "tags": []
   },
   "outputs": [
    {
     "name": "stdout",
     "output_type": "stream",
     "text": [
      "[[1 2 3 4 5 6]]\n"
     ]
    }
   ],
   "source": [
    "print(arr)"
   ]
  },
  {
   "cell_type": "code",
   "execution_count": 198,
   "id": "291e8282",
   "metadata": {
    "execution": {
     "iopub.execute_input": "2023-08-24T16:20:32.716789Z",
     "iopub.status.busy": "2023-08-24T16:20:32.716479Z",
     "iopub.status.idle": "2023-08-24T16:20:32.723158Z",
     "shell.execute_reply": "2023-08-24T16:20:32.722160Z"
    },
    "papermill": {
     "duration": 0.078423,
     "end_time": "2023-08-24T16:20:32.725499",
     "exception": false,
     "start_time": "2023-08-24T16:20:32.647076",
     "status": "completed"
    },
    "tags": []
   },
   "outputs": [
    {
     "data": {
      "text/plain": [
       "array([[1, 2, 3],\n",
       "       [4, 5, 6]])"
      ]
     },
     "execution_count": 198,
     "metadata": {},
     "output_type": "execute_result"
    }
   ],
   "source": [
    "arr.reshape(2,3)"
   ]
  },
  {
   "cell_type": "code",
   "execution_count": 199,
   "id": "bf527b7c",
   "metadata": {
    "execution": {
     "iopub.execute_input": "2023-08-24T16:20:32.871233Z",
     "iopub.status.busy": "2023-08-24T16:20:32.870409Z",
     "iopub.status.idle": "2023-08-24T16:20:32.877391Z",
     "shell.execute_reply": "2023-08-24T16:20:32.876355Z"
    },
    "papermill": {
     "duration": 0.078465,
     "end_time": "2023-08-24T16:20:32.879544",
     "exception": false,
     "start_time": "2023-08-24T16:20:32.801079",
     "status": "completed"
    },
    "tags": []
   },
   "outputs": [
    {
     "data": {
      "text/plain": [
       "array([[1, 2],\n",
       "       [3, 4],\n",
       "       [5, 6]])"
      ]
     },
     "execution_count": 199,
     "metadata": {},
     "output_type": "execute_result"
    }
   ],
   "source": [
    "arr.reshape(3,2)"
   ]
  },
  {
   "cell_type": "code",
   "execution_count": 200,
   "id": "c1e0c457",
   "metadata": {
    "execution": {
     "iopub.execute_input": "2023-08-24T16:20:33.023807Z",
     "iopub.status.busy": "2023-08-24T16:20:33.022892Z",
     "iopub.status.idle": "2023-08-24T16:20:33.029776Z",
     "shell.execute_reply": "2023-08-24T16:20:33.028725Z"
    },
    "papermill": {
     "duration": 0.081891,
     "end_time": "2023-08-24T16:20:33.031823",
     "exception": false,
     "start_time": "2023-08-24T16:20:32.949932",
     "status": "completed"
    },
    "tags": []
   },
   "outputs": [
    {
     "data": {
      "text/plain": [
       "2"
      ]
     },
     "execution_count": 200,
     "metadata": {},
     "output_type": "execute_result"
    }
   ],
   "source": [
    "#rr.reshape(3,2)\n",
    "arr.ndim"
   ]
  },
  {
   "cell_type": "code",
   "execution_count": 201,
   "id": "410c98a3",
   "metadata": {
    "execution": {
     "iopub.execute_input": "2023-08-24T16:20:33.175209Z",
     "iopub.status.busy": "2023-08-24T16:20:33.173736Z",
     "iopub.status.idle": "2023-08-24T16:20:33.181394Z",
     "shell.execute_reply": "2023-08-24T16:20:33.180201Z"
    },
    "papermill": {
     "duration": 0.081227,
     "end_time": "2023-08-24T16:20:33.183777",
     "exception": false,
     "start_time": "2023-08-24T16:20:33.102550",
     "status": "completed"
    },
    "tags": []
   },
   "outputs": [
    {
     "data": {
      "text/plain": [
       "array([1, 2, 3])"
      ]
     },
     "execution_count": 201,
     "metadata": {},
     "output_type": "execute_result"
    }
   ],
   "source": [
    "arr = np.array([1, 2, 3])\n",
    "arr"
   ]
  },
  {
   "cell_type": "code",
   "execution_count": 202,
   "id": "99f6bf0e",
   "metadata": {
    "execution": {
     "iopub.execute_input": "2023-08-24T16:20:33.330504Z",
     "iopub.status.busy": "2023-08-24T16:20:33.330179Z",
     "iopub.status.idle": "2023-08-24T16:20:33.337170Z",
     "shell.execute_reply": "2023-08-24T16:20:33.336178Z"
    },
    "papermill": {
     "duration": 0.08024,
     "end_time": "2023-08-24T16:20:33.339481",
     "exception": false,
     "start_time": "2023-08-24T16:20:33.259241",
     "status": "completed"
    },
    "tags": []
   },
   "outputs": [
    {
     "data": {
      "text/plain": [
       "array([1., 2., 3.])"
      ]
     },
     "execution_count": 202,
     "metadata": {},
     "output_type": "execute_result"
    }
   ],
   "source": [
    "arr = np.array([1, 2, 3], dtype=float) \n",
    "arr"
   ]
  },
  {
   "cell_type": "code",
   "execution_count": 203,
   "id": "bf9471ee",
   "metadata": {
    "execution": {
     "iopub.execute_input": "2023-08-24T16:20:33.489180Z",
     "iopub.status.busy": "2023-08-24T16:20:33.488849Z",
     "iopub.status.idle": "2023-08-24T16:20:33.496447Z",
     "shell.execute_reply": "2023-08-24T16:20:33.495517Z"
    },
    "papermill": {
     "duration": 0.079046,
     "end_time": "2023-08-24T16:20:33.498543",
     "exception": false,
     "start_time": "2023-08-24T16:20:33.419497",
     "status": "completed"
    },
    "tags": []
   },
   "outputs": [
    {
     "data": {
      "text/plain": [
       "array([5, 7, 9])"
      ]
     },
     "execution_count": 203,
     "metadata": {},
     "output_type": "execute_result"
    }
   ],
   "source": [
    "import numpy as np\n",
    "\n",
    "arr1 = np.array([1, 2, 3])\n",
    "arr2 = np.array([4, 5, 6])\n",
    "\n",
    "# Addition\n",
    "result_add = arr1 + arr2\n",
    "result_add\n",
    "\n",
    "# # Subtraction\n",
    "# result_sub = arr1 - arr2\n",
    "\n",
    "# # Multiplication\n",
    "# result_mul = arr1 * arr2\n",
    "\n",
    "# # Division\n",
    "# result_div = arr1 / arr2"
   ]
  },
  {
   "cell_type": "code",
   "execution_count": 204,
   "id": "36e33f81",
   "metadata": {
    "execution": {
     "iopub.execute_input": "2023-08-24T16:20:33.643233Z",
     "iopub.status.busy": "2023-08-24T16:20:33.642870Z",
     "iopub.status.idle": "2023-08-24T16:20:33.650247Z",
     "shell.execute_reply": "2023-08-24T16:20:33.649299Z"
    },
    "papermill": {
     "duration": 0.079184,
     "end_time": "2023-08-24T16:20:33.652436",
     "exception": false,
     "start_time": "2023-08-24T16:20:33.573252",
     "status": "completed"
    },
    "tags": []
   },
   "outputs": [
    {
     "data": {
      "text/plain": [
       "array([11, 12, 13])"
      ]
     },
     "execution_count": 204,
     "metadata": {},
     "output_type": "execute_result"
    }
   ],
   "source": [
    "arr = np.array([1, 2, 3])\n",
    "\n",
    "arr1  = np.array([10, 10, 10])\n",
    "arr + arr1"
   ]
  },
  {
   "cell_type": "code",
   "execution_count": 205,
   "id": "447b61c6",
   "metadata": {
    "execution": {
     "iopub.execute_input": "2023-08-24T16:20:33.802339Z",
     "iopub.status.busy": "2023-08-24T16:20:33.801385Z",
     "iopub.status.idle": "2023-08-24T16:20:33.809489Z",
     "shell.execute_reply": "2023-08-24T16:20:33.808267Z"
    },
    "papermill": {
     "duration": 0.086027,
     "end_time": "2023-08-24T16:20:33.811880",
     "exception": false,
     "start_time": "2023-08-24T16:20:33.725853",
     "status": "completed"
    },
    "tags": []
   },
   "outputs": [
    {
     "data": {
      "text/plain": [
       "array([11, 12, 13])"
      ]
     },
     "execution_count": 205,
     "metadata": {},
     "output_type": "execute_result"
    }
   ],
   "source": [
    "arr = np.array([1, 2, 3])\n",
    "arr + 10 "
   ]
  },
  {
   "cell_type": "code",
   "execution_count": null,
   "id": "70b31748",
   "metadata": {
    "papermill": {
     "duration": 0.066684,
     "end_time": "2023-08-24T16:20:33.957881",
     "exception": false,
     "start_time": "2023-08-24T16:20:33.891197",
     "status": "completed"
    },
    "tags": []
   },
   "outputs": [],
   "source": []
  },
  {
   "cell_type": "code",
   "execution_count": null,
   "id": "55400cfd",
   "metadata": {
    "papermill": {
     "duration": 0.069458,
     "end_time": "2023-08-24T16:20:34.097065",
     "exception": false,
     "start_time": "2023-08-24T16:20:34.027607",
     "status": "completed"
    },
    "tags": []
   },
   "outputs": [],
   "source": []
  },
  {
   "cell_type": "code",
   "execution_count": null,
   "id": "dd0685e3",
   "metadata": {
    "papermill": {
     "duration": 0.070194,
     "end_time": "2023-08-24T16:20:34.236030",
     "exception": false,
     "start_time": "2023-08-24T16:20:34.165836",
     "status": "completed"
    },
    "tags": []
   },
   "outputs": [],
   "source": []
  }
 ],
 "metadata": {
  "kernelspec": {
   "display_name": "Python 3",
   "language": "python",
   "name": "python3"
  },
  "language_info": {
   "codemirror_mode": {
    "name": "ipython",
    "version": 3
   },
   "file_extension": ".py",
   "mimetype": "text/x-python",
   "name": "python",
   "nbconvert_exporter": "python",
   "pygments_lexer": "ipython3",
   "version": "3.10.12"
  },
  "papermill": {
   "default_parameters": {},
   "duration": 40.552703,
   "end_time": "2023-08-24T16:20:34.924662",
   "environment_variables": {},
   "exception": null,
   "input_path": "__notebook__.ipynb",
   "output_path": "__notebook__.ipynb",
   "parameters": {},
   "start_time": "2023-08-24T16:19:54.371959",
   "version": "2.4.0"
  }
 },
 "nbformat": 4,
 "nbformat_minor": 5
}
