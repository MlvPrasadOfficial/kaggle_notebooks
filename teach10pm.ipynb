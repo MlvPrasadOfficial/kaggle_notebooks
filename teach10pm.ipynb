{
 "cells": [
  {
   "cell_type": "code",
   "execution_count": 1,
   "id": "4080afd2",
   "metadata": {
    "_cell_guid": "b1076dfc-b9ad-4769-8c92-a6c4dae69d19",
    "_uuid": "8f2839f25d086af736a60e9eeb907d3b93b6e0e5",
    "execution": {
     "iopub.execute_input": "2023-08-24T18:41:43.674970Z",
     "iopub.status.busy": "2023-08-24T18:41:43.674273Z",
     "iopub.status.idle": "2023-08-24T18:41:43.686809Z",
     "shell.execute_reply": "2023-08-24T18:41:43.685946Z"
    },
    "papermill": {
     "duration": 0.07628,
     "end_time": "2023-08-24T18:41:43.689276",
     "exception": false,
     "start_time": "2023-08-24T18:41:43.612996",
     "status": "completed"
    },
    "tags": []
   },
   "outputs": [
    {
     "name": "stdout",
     "output_type": "stream",
     "text": [
      "sharma is a good boy\n"
     ]
    }
   ],
   "source": [
    "# 0/p\n",
    "print(\"sharma is a good boy\")"
   ]
  },
  {
   "cell_type": "code",
   "execution_count": 2,
   "id": "dfb0b1da",
   "metadata": {
    "execution": {
     "iopub.execute_input": "2023-08-24T18:41:43.816918Z",
     "iopub.status.busy": "2023-08-24T18:41:43.815128Z",
     "iopub.status.idle": "2023-08-24T18:41:43.820160Z",
     "shell.execute_reply": "2023-08-24T18:41:43.819234Z"
    },
    "papermill": {
     "duration": 0.072796,
     "end_time": "2023-08-24T18:41:43.822203",
     "exception": false,
     "start_time": "2023-08-24T18:41:43.749407",
     "status": "completed"
    },
    "tags": []
   },
   "outputs": [],
   "source": [
    "# i/p\n",
    "\n",
    "# name = input()\n",
    "# print(name , \" is a good boy\")"
   ]
  },
  {
   "cell_type": "code",
   "execution_count": 3,
   "id": "553fb4c1",
   "metadata": {
    "execution": {
     "iopub.execute_input": "2023-08-24T18:41:43.945927Z",
     "iopub.status.busy": "2023-08-24T18:41:43.945663Z",
     "iopub.status.idle": "2023-08-24T18:41:43.950906Z",
     "shell.execute_reply": "2023-08-24T18:41:43.949972Z"
    },
    "papermill": {
     "duration": 0.068887,
     "end_time": "2023-08-24T18:41:43.953298",
     "exception": false,
     "start_time": "2023-08-24T18:41:43.884411",
     "status": "completed"
    },
    "tags": []
   },
   "outputs": [
    {
     "name": "stdout",
     "output_type": "stream",
     "text": [
      "yasmin\n",
      "----\n",
      "yasmin\n",
      "asha\n"
     ]
    }
   ],
   "source": [
    "name = \"yasmin\"\n",
    "\n",
    "print(name)\n",
    "print(\"----\")\n",
    "print(name)\n",
    "name = \"asha\" \n",
    "\n",
    "print(name)"
   ]
  },
  {
   "cell_type": "code",
   "execution_count": 4,
   "id": "9cccfbae",
   "metadata": {
    "execution": {
     "iopub.execute_input": "2023-08-24T18:41:44.077647Z",
     "iopub.status.busy": "2023-08-24T18:41:44.076760Z",
     "iopub.status.idle": "2023-08-24T18:41:44.084266Z",
     "shell.execute_reply": "2023-08-24T18:41:44.083229Z"
    },
    "papermill": {
     "duration": 0.072729,
     "end_time": "2023-08-24T18:41:44.086338",
     "exception": false,
     "start_time": "2023-08-24T18:41:44.013609",
     "status": "completed"
    },
    "tags": []
   },
   "outputs": [
    {
     "data": {
      "text/plain": [
       "int"
      ]
     },
     "execution_count": 4,
     "metadata": {},
     "output_type": "execute_result"
    }
   ],
   "source": [
    "a = 7\n",
    "\n",
    "type(a)\n"
   ]
  },
  {
   "cell_type": "code",
   "execution_count": 5,
   "id": "e752cb86",
   "metadata": {
    "execution": {
     "iopub.execute_input": "2023-08-24T18:41:44.209395Z",
     "iopub.status.busy": "2023-08-24T18:41:44.208495Z",
     "iopub.status.idle": "2023-08-24T18:41:44.214678Z",
     "shell.execute_reply": "2023-08-24T18:41:44.213797Z"
    },
    "papermill": {
     "duration": 0.067172,
     "end_time": "2023-08-24T18:41:44.216534",
     "exception": false,
     "start_time": "2023-08-24T18:41:44.149362",
     "status": "completed"
    },
    "tags": []
   },
   "outputs": [
    {
     "data": {
      "text/plain": [
       "float"
      ]
     },
     "execution_count": 5,
     "metadata": {},
     "output_type": "execute_result"
    }
   ],
   "source": [
    "b = 7.5\n",
    "\n",
    "type(b)"
   ]
  },
  {
   "cell_type": "code",
   "execution_count": 6,
   "id": "9df3b9af",
   "metadata": {
    "execution": {
     "iopub.execute_input": "2023-08-24T18:41:44.336594Z",
     "iopub.status.busy": "2023-08-24T18:41:44.335798Z",
     "iopub.status.idle": "2023-08-24T18:41:44.341697Z",
     "shell.execute_reply": "2023-08-24T18:41:44.340756Z"
    },
    "papermill": {
     "duration": 0.068164,
     "end_time": "2023-08-24T18:41:44.343619",
     "exception": false,
     "start_time": "2023-08-24T18:41:44.275455",
     "status": "completed"
    },
    "tags": []
   },
   "outputs": [
    {
     "data": {
      "text/plain": [
       "str"
      ]
     },
     "execution_count": 6,
     "metadata": {},
     "output_type": "execute_result"
    }
   ],
   "source": [
    "c = \"sharma\"\n",
    "type(c)"
   ]
  },
  {
   "cell_type": "code",
   "execution_count": 7,
   "id": "54b1ae29",
   "metadata": {
    "execution": {
     "iopub.execute_input": "2023-08-24T18:41:44.471840Z",
     "iopub.status.busy": "2023-08-24T18:41:44.471042Z",
     "iopub.status.idle": "2023-08-24T18:41:44.477539Z",
     "shell.execute_reply": "2023-08-24T18:41:44.476549Z"
    },
    "papermill": {
     "duration": 0.077021,
     "end_time": "2023-08-24T18:41:44.479823",
     "exception": false,
     "start_time": "2023-08-24T18:41:44.402802",
     "status": "completed"
    },
    "tags": []
   },
   "outputs": [
    {
     "data": {
      "text/plain": [
       "str"
      ]
     },
     "execution_count": 7,
     "metadata": {},
     "output_type": "execute_result"
    }
   ],
   "source": [
    "d = \"44-5-14\"\n",
    "\n",
    "type(d)"
   ]
  },
  {
   "cell_type": "code",
   "execution_count": 8,
   "id": "e44d9098",
   "metadata": {
    "execution": {
     "iopub.execute_input": "2023-08-24T18:41:44.618734Z",
     "iopub.status.busy": "2023-08-24T18:41:44.617334Z",
     "iopub.status.idle": "2023-08-24T18:41:44.624325Z",
     "shell.execute_reply": "2023-08-24T18:41:44.623240Z"
    },
    "papermill": {
     "duration": 0.077771,
     "end_time": "2023-08-24T18:41:44.626583",
     "exception": false,
     "start_time": "2023-08-24T18:41:44.548812",
     "status": "completed"
    },
    "tags": []
   },
   "outputs": [
    {
     "data": {
      "text/plain": [
       "str"
      ]
     },
     "execution_count": 8,
     "metadata": {},
     "output_type": "execute_result"
    }
   ],
   "source": [
    "e = \"19\"\n",
    "type(e)"
   ]
  },
  {
   "cell_type": "code",
   "execution_count": 9,
   "id": "c7b336b8",
   "metadata": {
    "execution": {
     "iopub.execute_input": "2023-08-24T18:41:44.754828Z",
     "iopub.status.busy": "2023-08-24T18:41:44.753138Z",
     "iopub.status.idle": "2023-08-24T18:41:44.760072Z",
     "shell.execute_reply": "2023-08-24T18:41:44.759108Z"
    },
    "papermill": {
     "duration": 0.070681,
     "end_time": "2023-08-24T18:41:44.762069",
     "exception": false,
     "start_time": "2023-08-24T18:41:44.691388",
     "status": "completed"
    },
    "tags": []
   },
   "outputs": [
    {
     "data": {
      "text/plain": [
       "int"
      ]
     },
     "execution_count": 9,
     "metadata": {},
     "output_type": "execute_result"
    }
   ],
   "source": [
    "f = 19\n",
    "type(f)"
   ]
  },
  {
   "cell_type": "code",
   "execution_count": 10,
   "id": "c1b55178",
   "metadata": {
    "execution": {
     "iopub.execute_input": "2023-08-24T18:41:44.887873Z",
     "iopub.status.busy": "2023-08-24T18:41:44.887158Z",
     "iopub.status.idle": "2023-08-24T18:41:44.892242Z",
     "shell.execute_reply": "2023-08-24T18:41:44.891357Z"
    },
    "papermill": {
     "duration": 0.06927,
     "end_time": "2023-08-24T18:41:44.894308",
     "exception": false,
     "start_time": "2023-08-24T18:41:44.825038",
     "status": "completed"
    },
    "tags": []
   },
   "outputs": [
    {
     "name": "stdout",
     "output_type": "stream",
     "text": [
      "<class 'int'>\n",
      "<class 'str'>\n"
     ]
    }
   ],
   "source": [
    "#type casting\n",
    "\n",
    "num = 19\n",
    "print(type(num))\n",
    "\n",
    "num = str(num)\n",
    "print(type(num))"
   ]
  },
  {
   "cell_type": "code",
   "execution_count": 11,
   "id": "381d3a77",
   "metadata": {
    "execution": {
     "iopub.execute_input": "2023-08-24T18:41:45.017344Z",
     "iopub.status.busy": "2023-08-24T18:41:45.016551Z",
     "iopub.status.idle": "2023-08-24T18:41:45.023185Z",
     "shell.execute_reply": "2023-08-24T18:41:45.022199Z"
    },
    "papermill": {
     "duration": 0.070593,
     "end_time": "2023-08-24T18:41:45.025324",
     "exception": false,
     "start_time": "2023-08-24T18:41:44.954731",
     "status": "completed"
    },
    "tags": []
   },
   "outputs": [
    {
     "name": "stdout",
     "output_type": "stream",
     "text": [
      "19 <class 'int'>\n",
      "19.0 <class 'float'>\n",
      "19.0 <class 'str'>\n"
     ]
    }
   ],
   "source": [
    "num = 19\n",
    "print(num, type(num))\n",
    "num = float(num) # 19.0\n",
    "print(num, type(num))\n",
    "num = str(num)\n",
    "print(num, type(num))"
   ]
  },
  {
   "cell_type": "code",
   "execution_count": 12,
   "id": "59efb1a7",
   "metadata": {
    "execution": {
     "iopub.execute_input": "2023-08-24T18:41:45.152498Z",
     "iopub.status.busy": "2023-08-24T18:41:45.152191Z",
     "iopub.status.idle": "2023-08-24T18:41:45.156108Z",
     "shell.execute_reply": "2023-08-24T18:41:45.155174Z"
    },
    "papermill": {
     "duration": 0.069353,
     "end_time": "2023-08-24T18:41:45.158085",
     "exception": false,
     "start_time": "2023-08-24T18:41:45.088732",
     "status": "completed"
    },
    "tags": []
   },
   "outputs": [],
   "source": [
    "# 3num = 19"
   ]
  },
  {
   "cell_type": "code",
   "execution_count": 13,
   "id": "1ad01869",
   "metadata": {
    "execution": {
     "iopub.execute_input": "2023-08-24T18:41:45.277149Z",
     "iopub.status.busy": "2023-08-24T18:41:45.276419Z",
     "iopub.status.idle": "2023-08-24T18:41:45.280554Z",
     "shell.execute_reply": "2023-08-24T18:41:45.279544Z"
    },
    "papermill": {
     "duration": 0.064849,
     "end_time": "2023-08-24T18:41:45.282465",
     "exception": false,
     "start_time": "2023-08-24T18:41:45.217616",
     "status": "completed"
    },
    "tags": []
   },
   "outputs": [],
   "source": [
    "mynameissharma = 19\n",
    "my_name_is_sharma = 20\n",
    "# myNameIsSharma"
   ]
  },
  {
   "cell_type": "code",
   "execution_count": 14,
   "id": "7b4888df",
   "metadata": {
    "execution": {
     "iopub.execute_input": "2023-08-24T18:41:45.402216Z",
     "iopub.status.busy": "2023-08-24T18:41:45.401443Z",
     "iopub.status.idle": "2023-08-24T18:41:45.406521Z",
     "shell.execute_reply": "2023-08-24T18:41:45.405515Z"
    },
    "papermill": {
     "duration": 0.066798,
     "end_time": "2023-08-24T18:41:45.408506",
     "exception": false,
     "start_time": "2023-08-24T18:41:45.341708",
     "status": "completed"
    },
    "tags": []
   },
   "outputs": [
    {
     "name": "stdout",
     "output_type": "stream",
     "text": [
      "9 __ 8\n"
     ]
    }
   ],
   "source": [
    "a = 9\n",
    "b = 8\n",
    "print(a, \"__\", b)"
   ]
  },
  {
   "cell_type": "code",
   "execution_count": 15,
   "id": "cc4c1c06",
   "metadata": {
    "execution": {
     "iopub.execute_input": "2023-08-24T18:41:45.531348Z",
     "iopub.status.busy": "2023-08-24T18:41:45.530451Z",
     "iopub.status.idle": "2023-08-24T18:41:45.536223Z",
     "shell.execute_reply": "2023-08-24T18:41:45.535033Z"
    },
    "papermill": {
     "duration": 0.068858,
     "end_time": "2023-08-24T18:41:45.538419",
     "exception": false,
     "start_time": "2023-08-24T18:41:45.469561",
     "status": "completed"
    },
    "tags": []
   },
   "outputs": [
    {
     "name": "stdout",
     "output_type": "stream",
     "text": [
      "9 __ 8\n"
     ]
    }
   ],
   "source": [
    "a, b = 9,8 \n",
    "print(a, \"__\", b)"
   ]
  },
  {
   "cell_type": "code",
   "execution_count": 16,
   "id": "2c5c01a0",
   "metadata": {
    "execution": {
     "iopub.execute_input": "2023-08-24T18:41:45.657702Z",
     "iopub.status.busy": "2023-08-24T18:41:45.656364Z",
     "iopub.status.idle": "2023-08-24T18:41:45.662520Z",
     "shell.execute_reply": "2023-08-24T18:41:45.661180Z"
    },
    "papermill": {
     "duration": 0.067172,
     "end_time": "2023-08-24T18:41:45.664570",
     "exception": false,
     "start_time": "2023-08-24T18:41:45.597398",
     "status": "completed"
    },
    "tags": []
   },
   "outputs": [
    {
     "name": "stdout",
     "output_type": "stream",
     "text": [
      "Orange\n",
      "Banana\n",
      "Cherry\n"
     ]
    }
   ],
   "source": [
    "x, y, z = \"Orange\", \"Banana\", \"Cherry\"\n",
    "print(x)\n",
    "print(y)\n",
    "print(z)"
   ]
  },
  {
   "cell_type": "code",
   "execution_count": 17,
   "id": "ea7a8466",
   "metadata": {
    "execution": {
     "iopub.execute_input": "2023-08-24T18:41:45.790979Z",
     "iopub.status.busy": "2023-08-24T18:41:45.790114Z",
     "iopub.status.idle": "2023-08-24T18:41:45.796293Z",
     "shell.execute_reply": "2023-08-24T18:41:45.795008Z"
    },
    "papermill": {
     "duration": 0.072031,
     "end_time": "2023-08-24T18:41:45.798400",
     "exception": false,
     "start_time": "2023-08-24T18:41:45.726369",
     "status": "completed"
    },
    "tags": []
   },
   "outputs": [
    {
     "name": "stdout",
     "output_type": "stream",
     "text": [
      "Orange\n",
      "Banana\n",
      "Cherry\n"
     ]
    }
   ],
   "source": [
    "x =  \"Orange\"\n",
    "y =  \"Banana\"\n",
    "z =  \"Cherry\"\n",
    "print(x)\n",
    "print(y)\n",
    "print(z)"
   ]
  },
  {
   "cell_type": "code",
   "execution_count": 18,
   "id": "2052fae6",
   "metadata": {
    "execution": {
     "iopub.execute_input": "2023-08-24T18:41:45.925168Z",
     "iopub.status.busy": "2023-08-24T18:41:45.924872Z",
     "iopub.status.idle": "2023-08-24T18:41:45.930392Z",
     "shell.execute_reply": "2023-08-24T18:41:45.929541Z"
    },
    "papermill": {
     "duration": 0.070593,
     "end_time": "2023-08-24T18:41:45.932400",
     "exception": false,
     "start_time": "2023-08-24T18:41:45.861807",
     "status": "completed"
    },
    "tags": []
   },
   "outputs": [
    {
     "data": {
      "text/plain": [
       "int"
      ]
     },
     "execution_count": 18,
     "metadata": {},
     "output_type": "execute_result"
    }
   ],
   "source": [
    "a  = 9 \n",
    "type(a)"
   ]
  },
  {
   "cell_type": "code",
   "execution_count": 19,
   "id": "a81e75da",
   "metadata": {
    "execution": {
     "iopub.execute_input": "2023-08-24T18:41:46.057798Z",
     "iopub.status.busy": "2023-08-24T18:41:46.057525Z",
     "iopub.status.idle": "2023-08-24T18:41:46.063102Z",
     "shell.execute_reply": "2023-08-24T18:41:46.062184Z"
    },
    "papermill": {
     "duration": 0.072398,
     "end_time": "2023-08-24T18:41:46.065084",
     "exception": false,
     "start_time": "2023-08-24T18:41:45.992686",
     "status": "completed"
    },
    "tags": []
   },
   "outputs": [
    {
     "data": {
      "text/plain": [
       "list"
      ]
     },
     "execution_count": 19,
     "metadata": {},
     "output_type": "execute_result"
    }
   ],
   "source": [
    "a = [9]\n",
    "type(a)\n"
   ]
  },
  {
   "cell_type": "code",
   "execution_count": 20,
   "id": "a649d5ae",
   "metadata": {
    "execution": {
     "iopub.execute_input": "2023-08-24T18:41:46.184745Z",
     "iopub.status.busy": "2023-08-24T18:41:46.184458Z",
     "iopub.status.idle": "2023-08-24T18:41:46.190655Z",
     "shell.execute_reply": "2023-08-24T18:41:46.189801Z"
    },
    "papermill": {
     "duration": 0.068034,
     "end_time": "2023-08-24T18:41:46.192596",
     "exception": false,
     "start_time": "2023-08-24T18:41:46.124562",
     "status": "completed"
    },
    "tags": []
   },
   "outputs": [
    {
     "data": {
      "text/plain": [
       "[20, 'sharma', 'prasad', 4, 45, 4543, 454354]"
      ]
     },
     "execution_count": 20,
     "metadata": {},
     "output_type": "execute_result"
    }
   ],
   "source": [
    "# property 1 \n",
    "# index positions\n",
    "\n",
    "\n",
    "a = [ 10,20,\"sharma\",\"prasad\",4,45,4543,454354] # 4\n",
    "a[1:8]"
   ]
  },
  {
   "cell_type": "markdown",
   "id": "f81d298a",
   "metadata": {
    "papermill": {
     "duration": 0.060263,
     "end_time": "2023-08-24T18:41:46.313667",
     "exception": false,
     "start_time": "2023-08-24T18:41:46.253404",
     "status": "completed"
    },
    "tags": []
   },
   "source": [
    "#### "
   ]
  },
  {
   "cell_type": "code",
   "execution_count": 21,
   "id": "95202585",
   "metadata": {
    "execution": {
     "iopub.execute_input": "2023-08-24T18:41:46.434406Z",
     "iopub.status.busy": "2023-08-24T18:41:46.433633Z",
     "iopub.status.idle": "2023-08-24T18:41:46.440000Z",
     "shell.execute_reply": "2023-08-24T18:41:46.439025Z"
    },
    "papermill": {
     "duration": 0.069453,
     "end_time": "2023-08-24T18:41:46.441976",
     "exception": false,
     "start_time": "2023-08-24T18:41:46.372523",
     "status": "completed"
    },
    "tags": []
   },
   "outputs": [
    {
     "data": {
      "text/plain": [
       "['sharma', 45]"
      ]
     },
     "execution_count": 21,
     "metadata": {},
     "output_type": "execute_result"
    }
   ],
   "source": [
    "a[2:7:3]"
   ]
  },
  {
   "cell_type": "code",
   "execution_count": 22,
   "id": "d0ddc042",
   "metadata": {
    "execution": {
     "iopub.execute_input": "2023-08-24T18:41:46.561768Z",
     "iopub.status.busy": "2023-08-24T18:41:46.561464Z",
     "iopub.status.idle": "2023-08-24T18:41:46.566686Z",
     "shell.execute_reply": "2023-08-24T18:41:46.565838Z"
    },
    "papermill": {
     "duration": 0.068009,
     "end_time": "2023-08-24T18:41:46.568894",
     "exception": false,
     "start_time": "2023-08-24T18:41:46.500885",
     "status": "completed"
    },
    "tags": []
   },
   "outputs": [
    {
     "name": "stdout",
     "output_type": "stream",
     "text": [
      "454354\n"
     ]
    }
   ],
   "source": [
    "# mutable\n",
    "a = [ 10,20,\"sharma\",\"prasad\",4,45,4543,454354]\n",
    "a[0] = \"anusha\"\n",
    "print(a[7])\n",
    "# b = 8\n",
    "# print(b)\n",
    "# c = [1,2]\n",
    "# print(c)"
   ]
  },
  {
   "cell_type": "code",
   "execution_count": 23,
   "id": "a1caf1e0",
   "metadata": {
    "execution": {
     "iopub.execute_input": "2023-08-24T18:41:46.689372Z",
     "iopub.status.busy": "2023-08-24T18:41:46.688841Z",
     "iopub.status.idle": "2023-08-24T18:41:46.696235Z",
     "shell.execute_reply": "2023-08-24T18:41:46.695276Z"
    },
    "papermill": {
     "duration": 0.069946,
     "end_time": "2023-08-24T18:41:46.698127",
     "exception": false,
     "start_time": "2023-08-24T18:41:46.628181",
     "status": "completed"
    },
    "tags": []
   },
   "outputs": [
    {
     "data": {
      "text/plain": [
       "[1, 2]"
      ]
     },
     "execution_count": 23,
     "metadata": {},
     "output_type": "execute_result"
    }
   ],
   "source": [
    "# mutable\n",
    "a = [ 10,20,\"sharma\",\"prasad\",4,45,4543,454354]\n",
    "a[0] = \"anusha\"\n",
    "a\n",
    "b = 8\n",
    "b\n",
    "c = [1,2]\n",
    "c"
   ]
  },
  {
   "cell_type": "code",
   "execution_count": 24,
   "id": "dcc88445",
   "metadata": {
    "execution": {
     "iopub.execute_input": "2023-08-24T18:41:46.824436Z",
     "iopub.status.busy": "2023-08-24T18:41:46.824132Z",
     "iopub.status.idle": "2023-08-24T18:41:46.829766Z",
     "shell.execute_reply": "2023-08-24T18:41:46.828833Z"
    },
    "papermill": {
     "duration": 0.074424,
     "end_time": "2023-08-24T18:41:46.832170",
     "exception": false,
     "start_time": "2023-08-24T18:41:46.757746",
     "status": "completed"
    },
    "tags": []
   },
   "outputs": [
    {
     "name": "stdout",
     "output_type": "stream",
     "text": [
      "8\n"
     ]
    }
   ],
   "source": [
    "a = [ 10,20,\"sharma\",\"prasad\",4,45,4543,454354]\n",
    "print(len(a))"
   ]
  },
  {
   "cell_type": "code",
   "execution_count": 25,
   "id": "3f9018b7",
   "metadata": {
    "execution": {
     "iopub.execute_input": "2023-08-24T18:41:46.956507Z",
     "iopub.status.busy": "2023-08-24T18:41:46.955729Z",
     "iopub.status.idle": "2023-08-24T18:41:46.962523Z",
     "shell.execute_reply": "2023-08-24T18:41:46.961547Z"
    },
    "papermill": {
     "duration": 0.071015,
     "end_time": "2023-08-24T18:41:46.964512",
     "exception": false,
     "start_time": "2023-08-24T18:41:46.893497",
     "status": "completed"
    },
    "tags": []
   },
   "outputs": [
    {
     "data": {
      "text/plain": [
       "tuple"
      ]
     },
     "execution_count": 25,
     "metadata": {},
     "output_type": "execute_result"
    }
   ],
   "source": [
    "a = ( 10,20,\"sharma\",\"prasad\",4,45,4543,454354)\n",
    "type(a)"
   ]
  },
  {
   "cell_type": "code",
   "execution_count": 26,
   "id": "c56f4e99",
   "metadata": {
    "execution": {
     "iopub.execute_input": "2023-08-24T18:41:47.089085Z",
     "iopub.status.busy": "2023-08-24T18:41:47.088811Z",
     "iopub.status.idle": "2023-08-24T18:41:47.092932Z",
     "shell.execute_reply": "2023-08-24T18:41:47.091974Z"
    },
    "papermill": {
     "duration": 0.070116,
     "end_time": "2023-08-24T18:41:47.094796",
     "exception": false,
     "start_time": "2023-08-24T18:41:47.024680",
     "status": "completed"
    },
    "tags": []
   },
   "outputs": [],
   "source": [
    "# a = ( 10,20,\"sharma\",\"prasad\",4,45,4543,454354)\n",
    "# a[7] = 10\n",
    "# a"
   ]
  },
  {
   "cell_type": "code",
   "execution_count": 27,
   "id": "8feb2c72",
   "metadata": {
    "execution": {
     "iopub.execute_input": "2023-08-24T18:41:47.218089Z",
     "iopub.status.busy": "2023-08-24T18:41:47.217821Z",
     "iopub.status.idle": "2023-08-24T18:41:47.223748Z",
     "shell.execute_reply": "2023-08-24T18:41:47.222883Z"
    },
    "papermill": {
     "duration": 0.068838,
     "end_time": "2023-08-24T18:41:47.226050",
     "exception": false,
     "start_time": "2023-08-24T18:41:47.157212",
     "status": "completed"
    },
    "tags": []
   },
   "outputs": [
    {
     "name": "stdout",
     "output_type": "stream",
     "text": [
      "(10, 20, 'sharma', 'prasad', 4, 45, 4543, 454354) <class 'tuple'>\n",
      "[1, 20, 'sharma', 'prasad', 4, 45, 4543, 454354] <class 'list'>\n",
      "(1, 20, 'sharma', 'prasad', 4, 45, 4543, 454354) <class 'tuple'>\n"
     ]
    }
   ],
   "source": [
    "a = ( 10,20,\"sharma\",\"prasad\",4,45,4543,454354)\n",
    "\n",
    "print(a, type(a))\n",
    "a = list(a)\n",
    "a[0]= 1\n",
    "print(a, type(a))\n",
    "a = tuple(a)\n",
    "print(a, type(a))"
   ]
  },
  {
   "cell_type": "code",
   "execution_count": 28,
   "id": "8ab6fb14",
   "metadata": {
    "execution": {
     "iopub.execute_input": "2023-08-24T18:41:47.346405Z",
     "iopub.status.busy": "2023-08-24T18:41:47.346145Z",
     "iopub.status.idle": "2023-08-24T18:41:47.350487Z",
     "shell.execute_reply": "2023-08-24T18:41:47.349540Z"
    },
    "papermill": {
     "duration": 0.066484,
     "end_time": "2023-08-24T18:41:47.352530",
     "exception": false,
     "start_time": "2023-08-24T18:41:47.286046",
     "status": "completed"
    },
    "tags": []
   },
   "outputs": [],
   "source": [
    "tupledetails = (\"c001\", \"asha\",\"7680896860\")\n",
    "listdetails = [90,80,100]\n"
   ]
  },
  {
   "cell_type": "code",
   "execution_count": 29,
   "id": "5962d85d",
   "metadata": {
    "execution": {
     "iopub.execute_input": "2023-08-24T18:41:47.474795Z",
     "iopub.status.busy": "2023-08-24T18:41:47.474009Z",
     "iopub.status.idle": "2023-08-24T18:41:47.481300Z",
     "shell.execute_reply": "2023-08-24T18:41:47.480183Z"
    },
    "papermill": {
     "duration": 0.071345,
     "end_time": "2023-08-24T18:41:47.483398",
     "exception": false,
     "start_time": "2023-08-24T18:41:47.412053",
     "status": "completed"
    },
    "tags": []
   },
   "outputs": [
    {
     "data": {
      "text/plain": [
       "{1, 2, 3, 4, 5, 6, 7}"
      ]
     },
     "execution_count": 29,
     "metadata": {},
     "output_type": "execute_result"
    }
   ],
   "source": [
    "a = {1,2,3,4,5,6,1,2,3,5,7}\n",
    "a"
   ]
  },
  {
   "cell_type": "code",
   "execution_count": 30,
   "id": "84754f50",
   "metadata": {
    "execution": {
     "iopub.execute_input": "2023-08-24T18:41:47.607248Z",
     "iopub.status.busy": "2023-08-24T18:41:47.606524Z",
     "iopub.status.idle": "2023-08-24T18:41:47.614222Z",
     "shell.execute_reply": "2023-08-24T18:41:47.613256Z"
    },
    "papermill": {
     "duration": 0.071816,
     "end_time": "2023-08-24T18:41:47.616158",
     "exception": false,
     "start_time": "2023-08-24T18:41:47.544342",
     "status": "completed"
    },
    "tags": []
   },
   "outputs": [
    {
     "data": {
      "text/plain": [
       "dict_items([('a', {'a.1': 2, 'a.2': [10, 20, 30]}), ('b', {'b.1': {'b.1.1': 4}}), ('c', {'c.1': 5, 'c.2': {'c.2.1': [6, 55]}})])"
      ]
     },
     "execution_count": 30,
     "metadata": {},
     "output_type": "execute_result"
    }
   ],
   "source": [
    "sha = { \"a\" : { \n",
    "            \"a.1\" : 2,\n",
    "            \"a.2\"  : [10,20,30]\n",
    "            }\n",
    "     ,\n",
    "     \n",
    "     \"b\" : { \n",
    "            \"b.1\" : {\n",
    "                     \"b.1.1\" : 4\n",
    "                    }\n",
    "           }\n",
    "     ,\n",
    "      \"c\"  : {\n",
    "             \"c.1\" : 5,\n",
    "             \"c.2\"  : {\n",
    "                         \"c.2.1\" : [6,55]\n",
    "                      }\n",
    "       }}\n",
    "\n",
    "\n",
    "# sha[\"c\"][\"c.2\"][\"c.2.1\"][0]\n",
    "sha.items()"
   ]
  },
  {
   "cell_type": "code",
   "execution_count": 31,
   "id": "58a61063",
   "metadata": {
    "execution": {
     "iopub.execute_input": "2023-08-24T18:41:47.737570Z",
     "iopub.status.busy": "2023-08-24T18:41:47.736725Z",
     "iopub.status.idle": "2023-08-24T18:41:47.743261Z",
     "shell.execute_reply": "2023-08-24T18:41:47.742199Z"
    },
    "papermill": {
     "duration": 0.069438,
     "end_time": "2023-08-24T18:41:47.745288",
     "exception": false,
     "start_time": "2023-08-24T18:41:47.675850",
     "status": "completed"
    },
    "tags": []
   },
   "outputs": [
    {
     "data": {
      "text/plain": [
       "[21, 2000, 43]"
      ]
     },
     "execution_count": 31,
     "metadata": {},
     "output_type": "execute_result"
    }
   ],
   "source": [
    "asha = [21,32,43]\n",
    "asha[1] = 2000\n",
    "asha\n"
   ]
  },
  {
   "cell_type": "code",
   "execution_count": 32,
   "id": "2039395b",
   "metadata": {
    "execution": {
     "iopub.execute_input": "2023-08-24T18:41:47.872500Z",
     "iopub.status.busy": "2023-08-24T18:41:47.871725Z",
     "iopub.status.idle": "2023-08-24T18:41:47.878424Z",
     "shell.execute_reply": "2023-08-24T18:41:47.877465Z"
    },
    "papermill": {
     "duration": 0.071167,
     "end_time": "2023-08-24T18:41:47.880403",
     "exception": false,
     "start_time": "2023-08-24T18:41:47.809236",
     "status": "completed"
    },
    "tags": []
   },
   "outputs": [
    {
     "data": {
      "text/plain": [
       "['apple', 'watermelon']"
      ]
     },
     "execution_count": 32,
     "metadata": {},
     "output_type": "execute_result"
    }
   ],
   "source": [
    "thislist = [\"apple\", \"banana\", \"cherry\"]\n",
    "# thislist[1:3] = [\"watermelon\",\"sharma\"]\n",
    "thislist[1:3]= [\"watermelon\"]\n",
    "thislist"
   ]
  },
  {
   "cell_type": "code",
   "execution_count": 33,
   "id": "cd91a9c3",
   "metadata": {
    "execution": {
     "iopub.execute_input": "2023-08-24T18:41:48.047022Z",
     "iopub.status.busy": "2023-08-24T18:41:48.046683Z",
     "iopub.status.idle": "2023-08-24T18:41:48.051579Z",
     "shell.execute_reply": "2023-08-24T18:41:48.050162Z"
    },
    "papermill": {
     "duration": 0.11345,
     "end_time": "2023-08-24T18:41:48.056365",
     "exception": false,
     "start_time": "2023-08-24T18:41:47.942915",
     "status": "completed"
    },
    "tags": []
   },
   "outputs": [],
   "source": [
    "# thislist = [\"apple\", \"banana\", \"cherry\"]\n",
    "# thislist[1:3] = 200\n",
    "# thislist"
   ]
  },
  {
   "cell_type": "code",
   "execution_count": 34,
   "id": "99741ea0",
   "metadata": {
    "execution": {
     "iopub.execute_input": "2023-08-24T18:41:48.182960Z",
     "iopub.status.busy": "2023-08-24T18:41:48.182662Z",
     "iopub.status.idle": "2023-08-24T18:41:48.189117Z",
     "shell.execute_reply": "2023-08-24T18:41:48.188229Z"
    },
    "papermill": {
     "duration": 0.070987,
     "end_time": "2023-08-24T18:41:48.191114",
     "exception": false,
     "start_time": "2023-08-24T18:41:48.120127",
     "status": "completed"
    },
    "tags": []
   },
   "outputs": [
    {
     "data": {
      "text/plain": [
       "['apple', 'watermelon', 'sah']"
      ]
     },
     "execution_count": 34,
     "metadata": {},
     "output_type": "execute_result"
    }
   ],
   "source": [
    "thislist = [\"apple\", \"banana\", \"cherry\"]\n",
    "thislist[1:3] = [\"watermelon\",\"sah\"]\n",
    "thislist"
   ]
  },
  {
   "cell_type": "code",
   "execution_count": null,
   "id": "64855421",
   "metadata": {
    "papermill": {
     "duration": 0.060271,
     "end_time": "2023-08-24T18:41:48.311377",
     "exception": false,
     "start_time": "2023-08-24T18:41:48.251106",
     "status": "completed"
    },
    "tags": []
   },
   "outputs": [],
   "source": []
  },
  {
   "cell_type": "code",
   "execution_count": null,
   "id": "66eb2f7e",
   "metadata": {
    "papermill": {
     "duration": 0.060418,
     "end_time": "2023-08-24T18:41:48.432315",
     "exception": false,
     "start_time": "2023-08-24T18:41:48.371897",
     "status": "completed"
    },
    "tags": []
   },
   "outputs": [],
   "source": []
  },
  {
   "cell_type": "code",
   "execution_count": 35,
   "id": "f6b39b64",
   "metadata": {
    "execution": {
     "iopub.execute_input": "2023-08-24T18:41:48.555818Z",
     "iopub.status.busy": "2023-08-24T18:41:48.554909Z",
     "iopub.status.idle": "2023-08-24T18:41:48.560906Z",
     "shell.execute_reply": "2023-08-24T18:41:48.559871Z"
    },
    "papermill": {
     "duration": 0.071347,
     "end_time": "2023-08-24T18:41:48.564118",
     "exception": false,
     "start_time": "2023-08-24T18:41:48.492771",
     "status": "completed"
    },
    "tags": []
   },
   "outputs": [
    {
     "name": "stdout",
     "output_type": "stream",
     "text": [
      "anusha\n",
      "yasmin\n",
      "anusha\n",
      "yasmin\n",
      "anusha\n",
      "yasmin\n",
      "anusha\n",
      "yasmin\n",
      "anusha\n",
      "yasmin\n",
      "sharma\n"
     ]
    }
   ],
   "source": [
    "for i in range(5) :\n",
    "    print(\"anusha\")\n",
    "    print(\"yasmin\")\n",
    "    \n",
    "print(\"sharma\")\n"
   ]
  },
  {
   "cell_type": "code",
   "execution_count": 36,
   "id": "e64ac7f1",
   "metadata": {
    "execution": {
     "iopub.execute_input": "2023-08-24T18:41:48.688213Z",
     "iopub.status.busy": "2023-08-24T18:41:48.687811Z",
     "iopub.status.idle": "2023-08-24T18:41:48.694343Z",
     "shell.execute_reply": "2023-08-24T18:41:48.692320Z"
    },
    "papermill": {
     "duration": 0.072303,
     "end_time": "2023-08-24T18:41:48.697546",
     "exception": false,
     "start_time": "2023-08-24T18:41:48.625243",
     "status": "completed"
    },
    "tags": []
   },
   "outputs": [
    {
     "name": "stdout",
     "output_type": "stream",
     "text": [
      "0\n",
      "1\n",
      "2\n",
      "3\n",
      "4\n"
     ]
    }
   ],
   "source": [
    "a = range(5)\n",
    "for i in a : \n",
    "    print(i)"
   ]
  },
  {
   "cell_type": "code",
   "execution_count": 37,
   "id": "3a507aae",
   "metadata": {
    "execution": {
     "iopub.execute_input": "2023-08-24T18:41:48.822984Z",
     "iopub.status.busy": "2023-08-24T18:41:48.822068Z",
     "iopub.status.idle": "2023-08-24T18:41:48.827168Z",
     "shell.execute_reply": "2023-08-24T18:41:48.826272Z"
    },
    "papermill": {
     "duration": 0.069353,
     "end_time": "2023-08-24T18:41:48.829390",
     "exception": false,
     "start_time": "2023-08-24T18:41:48.760037",
     "status": "completed"
    },
    "tags": []
   },
   "outputs": [
    {
     "name": "stdout",
     "output_type": "stream",
     "text": [
      "0\n",
      "1\n",
      "2\n",
      "3\n",
      "4\n"
     ]
    }
   ],
   "source": [
    "for i in range(5):\n",
    "    print(i)"
   ]
  },
  {
   "cell_type": "code",
   "execution_count": 38,
   "id": "1afb85a3",
   "metadata": {
    "execution": {
     "iopub.execute_input": "2023-08-24T18:41:48.960399Z",
     "iopub.status.busy": "2023-08-24T18:41:48.959877Z",
     "iopub.status.idle": "2023-08-24T18:41:48.967809Z",
     "shell.execute_reply": "2023-08-24T18:41:48.966718Z"
    },
    "papermill": {
     "duration": 0.079299,
     "end_time": "2023-08-24T18:41:48.970550",
     "exception": false,
     "start_time": "2023-08-24T18:41:48.891251",
     "status": "completed"
    },
    "tags": []
   },
   "outputs": [
    {
     "name": "stdout",
     "output_type": "stream",
     "text": [
      "0\n",
      "1\n",
      "2\n",
      "3\n",
      "4\n"
     ]
    }
   ],
   "source": [
    "for i in [0,1,2,3,4]:\n",
    "    print(i)"
   ]
  },
  {
   "cell_type": "code",
   "execution_count": 39,
   "id": "a61d2b4d",
   "metadata": {
    "execution": {
     "iopub.execute_input": "2023-08-24T18:41:49.095606Z",
     "iopub.status.busy": "2023-08-24T18:41:49.095029Z",
     "iopub.status.idle": "2023-08-24T18:41:49.101571Z",
     "shell.execute_reply": "2023-08-24T18:41:49.099916Z"
    },
    "papermill": {
     "duration": 0.071791,
     "end_time": "2023-08-24T18:41:49.103823",
     "exception": false,
     "start_time": "2023-08-24T18:41:49.032032",
     "status": "completed"
    },
    "tags": []
   },
   "outputs": [
    {
     "name": "stdout",
     "output_type": "stream",
     "text": [
      "3\n",
      "4\n",
      "5\n",
      "6\n",
      "7\n",
      "8\n"
     ]
    }
   ],
   "source": [
    "for i in range(3,9):\n",
    "    print(i)"
   ]
  },
  {
   "cell_type": "code",
   "execution_count": 40,
   "id": "c08d3b1c",
   "metadata": {
    "execution": {
     "iopub.execute_input": "2023-08-24T18:41:49.282066Z",
     "iopub.status.busy": "2023-08-24T18:41:49.281736Z",
     "iopub.status.idle": "2023-08-24T18:41:49.286614Z",
     "shell.execute_reply": "2023-08-24T18:41:49.285729Z"
    },
    "papermill": {
     "duration": 0.076742,
     "end_time": "2023-08-24T18:41:49.289225",
     "exception": false,
     "start_time": "2023-08-24T18:41:49.212483",
     "status": "completed"
    },
    "tags": []
   },
   "outputs": [
    {
     "name": "stdout",
     "output_type": "stream",
     "text": [
      "9\n",
      "11\n",
      "13\n",
      "15\n"
     ]
    }
   ],
   "source": [
    "for i  in range(9,16,2):\n",
    "    print(i)"
   ]
  },
  {
   "cell_type": "code",
   "execution_count": 41,
   "id": "812e2104",
   "metadata": {
    "execution": {
     "iopub.execute_input": "2023-08-24T18:41:49.413621Z",
     "iopub.status.busy": "2023-08-24T18:41:49.412855Z",
     "iopub.status.idle": "2023-08-24T18:41:49.417398Z",
     "shell.execute_reply": "2023-08-24T18:41:49.416442Z"
    },
    "papermill": {
     "duration": 0.069127,
     "end_time": "2023-08-24T18:41:49.419679",
     "exception": false,
     "start_time": "2023-08-24T18:41:49.350552",
     "status": "completed"
    },
    "tags": []
   },
   "outputs": [],
   "source": [
    "# for ( i = 0 , i < 5 , i ++) \n",
    "#             {\n",
    "\n",
    "#                 print(i)\n",
    "#             }\n",
    "    \n",
    "# print(\"anusha innocent \")"
   ]
  },
  {
   "cell_type": "code",
   "execution_count": 42,
   "id": "1ba835e8",
   "metadata": {
    "execution": {
     "iopub.execute_input": "2023-08-24T18:41:49.548511Z",
     "iopub.status.busy": "2023-08-24T18:41:49.547678Z",
     "iopub.status.idle": "2023-08-24T18:41:49.553577Z",
     "shell.execute_reply": "2023-08-24T18:41:49.552540Z"
    },
    "papermill": {
     "duration": 0.072302,
     "end_time": "2023-08-24T18:41:49.555662",
     "exception": false,
     "start_time": "2023-08-24T18:41:49.483360",
     "status": "completed"
    },
    "tags": []
   },
   "outputs": [
    {
     "name": "stdout",
     "output_type": "stream",
     "text": [
      "10\n",
      "20\n",
      "30\n"
     ]
    }
   ],
   "source": [
    "# step - 1\n",
    "a = [10,20,30]\n",
    "\n",
    "for i in a :\n",
    "    print(i)"
   ]
  },
  {
   "cell_type": "code",
   "execution_count": 43,
   "id": "9b160816",
   "metadata": {
    "execution": {
     "iopub.execute_input": "2023-08-24T18:41:49.687147Z",
     "iopub.status.busy": "2023-08-24T18:41:49.686318Z",
     "iopub.status.idle": "2023-08-24T18:41:49.692439Z",
     "shell.execute_reply": "2023-08-24T18:41:49.691084Z"
    },
    "papermill": {
     "duration": 0.074632,
     "end_time": "2023-08-24T18:41:49.694504",
     "exception": false,
     "start_time": "2023-08-24T18:41:49.619872",
     "status": "completed"
    },
    "tags": []
   },
   "outputs": [
    {
     "name": "stdout",
     "output_type": "stream",
     "text": [
      "rgrtgert\n",
      "134\n",
      "sharma\n"
     ]
    }
   ],
   "source": [
    "students = [\"rgrtgert\",134,\"sharma\"]\n",
    "for i in students :\n",
    "    print(i)"
   ]
  },
  {
   "cell_type": "code",
   "execution_count": 44,
   "id": "ff3906e0",
   "metadata": {
    "execution": {
     "iopub.execute_input": "2023-08-24T18:41:49.821977Z",
     "iopub.status.busy": "2023-08-24T18:41:49.821682Z",
     "iopub.status.idle": "2023-08-24T18:41:49.827251Z",
     "shell.execute_reply": "2023-08-24T18:41:49.826344Z"
    },
    "papermill": {
     "duration": 0.073184,
     "end_time": "2023-08-24T18:41:49.829646",
     "exception": false,
     "start_time": "2023-08-24T18:41:49.756462",
     "status": "completed"
    },
    "tags": []
   },
   "outputs": [
    {
     "name": "stdout",
     "output_type": "stream",
     "text": [
      "30\n",
      "20\n",
      "10\n"
     ]
    }
   ],
   "source": [
    "#step - 2\n",
    "a = [10,20,30]\n",
    "#for i in [0,1,2] :\n",
    "for i in range(len(a)-1,-1,-1) :# 0 1 2\n",
    "    print(a[i])"
   ]
  },
  {
   "cell_type": "code",
   "execution_count": 45,
   "id": "7e33fcb1",
   "metadata": {
    "execution": {
     "iopub.execute_input": "2023-08-24T18:41:49.959449Z",
     "iopub.status.busy": "2023-08-24T18:41:49.959163Z",
     "iopub.status.idle": "2023-08-24T18:41:49.965071Z",
     "shell.execute_reply": "2023-08-24T18:41:49.964122Z"
    },
    "papermill": {
     "duration": 0.075255,
     "end_time": "2023-08-24T18:41:49.967464",
     "exception": false,
     "start_time": "2023-08-24T18:41:49.892209",
     "status": "completed"
    },
    "tags": []
   },
   "outputs": [
    {
     "name": "stdout",
     "output_type": "stream",
     "text": [
      "rgrtgert\n",
      "134\n",
      "sharma\n"
     ]
    }
   ],
   "source": [
    "students = [\"rgrtgert\",134,\"sharma\"]\n",
    "\n",
    "\n",
    "for i in range(len(students)) :\n",
    "    print(students[i])"
   ]
  },
  {
   "cell_type": "code",
   "execution_count": 46,
   "id": "88e81869",
   "metadata": {
    "execution": {
     "iopub.execute_input": "2023-08-24T18:41:50.097590Z",
     "iopub.status.busy": "2023-08-24T18:41:50.097238Z",
     "iopub.status.idle": "2023-08-24T18:41:50.104715Z",
     "shell.execute_reply": "2023-08-24T18:41:50.103846Z"
    },
    "papermill": {
     "duration": 0.076478,
     "end_time": "2023-08-24T18:41:50.107364",
     "exception": false,
     "start_time": "2023-08-24T18:41:50.030886",
     "status": "completed"
    },
    "tags": []
   },
   "outputs": [
    {
     "name": "stdout",
     "output_type": "stream",
     "text": [
      "0 0 0\n",
      "0 0 1\n",
      "0 0 0\n",
      "0 0 1\n",
      "0 1 0\n",
      "0 1 1\n",
      "0 1 0\n",
      "0 1 1\n",
      "0 2 0\n",
      "0 2 1\n",
      "0 2 0\n",
      "0 2 1\n",
      "0 0\n",
      "0 1\n",
      "0 2\n",
      "0 3\n",
      "loop is done\n",
      "1 0 0\n",
      "1 0 1\n",
      "1 0 0\n",
      "1 0 1\n",
      "1 1 0\n",
      "1 1 1\n",
      "1 1 0\n",
      "1 1 1\n",
      "1 2 0\n",
      "1 2 1\n",
      "1 2 0\n",
      "1 2 1\n",
      "1 0\n",
      "1 1\n",
      "1 2\n",
      "1 3\n",
      "loop is done\n",
      "2 0 0\n",
      "2 0 1\n",
      "2 0 0\n",
      "2 0 1\n",
      "2 1 0\n",
      "2 1 1\n",
      "2 1 0\n",
      "2 1 1\n",
      "2 2 0\n",
      "2 2 1\n",
      "2 2 0\n",
      "2 2 1\n",
      "2 0\n",
      "2 1\n",
      "2 2\n",
      "2 3\n",
      "loop is done\n",
      "3 0 0\n",
      "3 0 1\n",
      "3 0 0\n",
      "3 0 1\n",
      "3 1 0\n",
      "3 1 1\n",
      "3 1 0\n",
      "3 1 1\n",
      "3 2 0\n",
      "3 2 1\n",
      "3 2 0\n",
      "3 2 1\n",
      "3 0\n",
      "3 1\n",
      "3 2\n",
      "3 3\n",
      "loop is done\n",
      "4 0 0\n",
      "4 0 1\n",
      "4 0 0\n",
      "4 0 1\n",
      "4 1 0\n",
      "4 1 1\n",
      "4 1 0\n",
      "4 1 1\n",
      "4 2 0\n",
      "4 2 1\n",
      "4 2 0\n",
      "4 2 1\n",
      "4 0\n",
      "4 1\n",
      "4 2\n",
      "4 3\n",
      "loop is done\n"
     ]
    }
   ],
   "source": [
    "for i  in range(5): # 1    \n",
    "    for j in range (3): # 1.1\n",
    "        for k in range(2) : # 1.1.1\n",
    "            print(i,j,k)\n",
    "        for l in range(2) : # 1.1.2\n",
    "            print(i,j,l)            \n",
    "    for m in range(4) : # 1.2\n",
    "        print(i,m)\n",
    "    print(\"loop is done\")"
   ]
  },
  {
   "cell_type": "code",
   "execution_count": 47,
   "id": "da8579e4",
   "metadata": {
    "execution": {
     "iopub.execute_input": "2023-08-24T18:41:50.240225Z",
     "iopub.status.busy": "2023-08-24T18:41:50.239946Z",
     "iopub.status.idle": "2023-08-24T18:41:50.243954Z",
     "shell.execute_reply": "2023-08-24T18:41:50.243019Z"
    },
    "papermill": {
     "duration": 0.069711,
     "end_time": "2023-08-24T18:41:50.246031",
     "exception": false,
     "start_time": "2023-08-24T18:41:50.176320",
     "status": "completed"
    },
    "tags": []
   },
   "outputs": [],
   "source": [
    "# * \n",
    "# * * \n",
    "# * * * \n",
    "# * * * * \n",
    "# * * * * * "
   ]
  },
  {
   "cell_type": "code",
   "execution_count": 48,
   "id": "625f47da",
   "metadata": {
    "execution": {
     "iopub.execute_input": "2023-08-24T18:41:50.370146Z",
     "iopub.status.busy": "2023-08-24T18:41:50.369880Z",
     "iopub.status.idle": "2023-08-24T18:41:50.374688Z",
     "shell.execute_reply": "2023-08-24T18:41:50.373841Z"
    },
    "papermill": {
     "duration": 0.069022,
     "end_time": "2023-08-24T18:41:50.377035",
     "exception": false,
     "start_time": "2023-08-24T18:41:50.308013",
     "status": "completed"
    },
    "tags": []
   },
   "outputs": [
    {
     "name": "stdout",
     "output_type": "stream",
     "text": [
      "* \n",
      "* * \n",
      "* * * \n",
      "* * * * \n",
      "* * * * * \n"
     ]
    }
   ],
   "source": [
    "for i in range(5) :\n",
    "    print(\"* \" * (int(i)+1))"
   ]
  },
  {
   "cell_type": "code",
   "execution_count": 49,
   "id": "c3b40ea6",
   "metadata": {
    "execution": {
     "iopub.execute_input": "2023-08-24T18:41:50.502869Z",
     "iopub.status.busy": "2023-08-24T18:41:50.502572Z",
     "iopub.status.idle": "2023-08-24T18:41:50.507025Z",
     "shell.execute_reply": "2023-08-24T18:41:50.505997Z"
    },
    "papermill": {
     "duration": 0.070611,
     "end_time": "2023-08-24T18:41:50.509296",
     "exception": false,
     "start_time": "2023-08-24T18:41:50.438685",
     "status": "completed"
    },
    "tags": []
   },
   "outputs": [],
   "source": [
    "# *\n",
    "# **\n",
    "# ***\n",
    "# ****\n",
    "# *****\n",
    "\n",
    "# *****\n",
    "# ****\n",
    "# ***\n",
    "# **\n",
    "# *"
   ]
  },
  {
   "cell_type": "code",
   "execution_count": 50,
   "id": "b35cf790",
   "metadata": {
    "execution": {
     "iopub.execute_input": "2023-08-24T18:41:50.641861Z",
     "iopub.status.busy": "2023-08-24T18:41:50.641570Z",
     "iopub.status.idle": "2023-08-24T18:41:50.647060Z",
     "shell.execute_reply": "2023-08-24T18:41:50.646147Z"
    },
    "papermill": {
     "duration": 0.073756,
     "end_time": "2023-08-24T18:41:50.649632",
     "exception": false,
     "start_time": "2023-08-24T18:41:50.575876",
     "status": "completed"
    },
    "tags": []
   },
   "outputs": [
    {
     "name": "stdout",
     "output_type": "stream",
     "text": [
      "*\n",
      "**\n",
      "***\n",
      "****\n",
      "*****\n",
      "*****\n",
      "****\n",
      "***\n",
      "**\n",
      "*\n"
     ]
    }
   ],
   "source": [
    "for i in range(5) :\n",
    "    print(\"*\" * (int(i)+1))\n",
    "for i in range(5) :\n",
    "    print(\"*\" * (5 - int(i)))"
   ]
  },
  {
   "cell_type": "code",
   "execution_count": 51,
   "id": "b6a586b3",
   "metadata": {
    "execution": {
     "iopub.execute_input": "2023-08-24T18:41:50.778192Z",
     "iopub.status.busy": "2023-08-24T18:41:50.777307Z",
     "iopub.status.idle": "2023-08-24T18:41:50.782941Z",
     "shell.execute_reply": "2023-08-24T18:41:50.781806Z"
    },
    "papermill": {
     "duration": 0.071196,
     "end_time": "2023-08-24T18:41:50.785125",
     "exception": false,
     "start_time": "2023-08-24T18:41:50.713929",
     "status": "completed"
    },
    "tags": []
   },
   "outputs": [],
   "source": [
    "if 10 < 5 :\n",
    "    print(\"yes\")"
   ]
  },
  {
   "cell_type": "code",
   "execution_count": 52,
   "id": "e99b26ef",
   "metadata": {
    "execution": {
     "iopub.execute_input": "2023-08-24T18:41:50.925287Z",
     "iopub.status.busy": "2023-08-24T18:41:50.924429Z",
     "iopub.status.idle": "2023-08-24T18:41:50.930592Z",
     "shell.execute_reply": "2023-08-24T18:41:50.929371Z"
    },
    "papermill": {
     "duration": 0.0774,
     "end_time": "2023-08-24T18:41:50.932691",
     "exception": false,
     "start_time": "2023-08-24T18:41:50.855291",
     "status": "completed"
    },
    "tags": []
   },
   "outputs": [
    {
     "name": "stdout",
     "output_type": "stream",
     "text": [
      "no\n"
     ]
    }
   ],
   "source": [
    "if 10 < 5 :\n",
    "    print(\"yes\")\n",
    "else :\n",
    "    print(\"no\")"
   ]
  },
  {
   "cell_type": "code",
   "execution_count": 53,
   "id": "428ed2d3",
   "metadata": {
    "execution": {
     "iopub.execute_input": "2023-08-24T18:41:51.059730Z",
     "iopub.status.busy": "2023-08-24T18:41:51.059434Z",
     "iopub.status.idle": "2023-08-24T18:41:51.067633Z",
     "shell.execute_reply": "2023-08-24T18:41:51.066761Z"
    },
    "papermill": {
     "duration": 0.073898,
     "end_time": "2023-08-24T18:41:51.069799",
     "exception": false,
     "start_time": "2023-08-24T18:41:50.995901",
     "status": "completed"
    },
    "tags": []
   },
   "outputs": [
    {
     "name": "stdout",
     "output_type": "stream",
     "text": [
      "passed\n"
     ]
    }
   ],
   "source": [
    "marks = 30\n",
    "\n",
    "if marks > 95 :\n",
    "    print(\"distinction\")\n",
    "    \n",
    "elif marks > 75 :\n",
    "    print(\"firstgrade\")\n",
    "elif marks > 50 :\n",
    "    print(\"secondgrade\")\n",
    "    \n",
    "else :\n",
    "    print(\"passed\")"
   ]
  },
  {
   "cell_type": "markdown",
   "id": "a5a0f3d2",
   "metadata": {
    "papermill": {
     "duration": 0.063118,
     "end_time": "2023-08-24T18:41:51.197566",
     "exception": false,
     "start_time": "2023-08-24T18:41:51.134448",
     "status": "completed"
    },
    "tags": []
   },
   "source": []
  },
  {
   "cell_type": "code",
   "execution_count": 54,
   "id": "ff89464b",
   "metadata": {
    "execution": {
     "iopub.execute_input": "2023-08-24T18:41:51.326630Z",
     "iopub.status.busy": "2023-08-24T18:41:51.325839Z",
     "iopub.status.idle": "2023-08-24T18:41:51.331541Z",
     "shell.execute_reply": "2023-08-24T18:41:51.330544Z"
    },
    "papermill": {
     "duration": 0.072256,
     "end_time": "2023-08-24T18:41:51.333602",
     "exception": false,
     "start_time": "2023-08-24T18:41:51.261346",
     "status": "completed"
    },
    "tags": []
   },
   "outputs": [
    {
     "name": "stdout",
     "output_type": "stream",
     "text": [
      "10\n",
      "9\n",
      "8\n",
      "7\n",
      "6\n"
     ]
    }
   ],
   "source": [
    "a  = 10 \n",
    "\n",
    "while a > 5 : # true 9\n",
    "    print(a) \n",
    "    a = a -  1"
   ]
  },
  {
   "cell_type": "code",
   "execution_count": 55,
   "id": "fbb7020c",
   "metadata": {
    "execution": {
     "iopub.execute_input": "2023-08-24T18:41:51.461790Z",
     "iopub.status.busy": "2023-08-24T18:41:51.461494Z",
     "iopub.status.idle": "2023-08-24T18:41:51.465397Z",
     "shell.execute_reply": "2023-08-24T18:41:51.464538Z"
    },
    "papermill": {
     "duration": 0.071334,
     "end_time": "2023-08-24T18:41:51.467448",
     "exception": false,
     "start_time": "2023-08-24T18:41:51.396114",
     "status": "completed"
    },
    "tags": []
   },
   "outputs": [],
   "source": [
    "# * * * * *\n",
    "# * * * * \n",
    "# * * * \n",
    "# * * \n",
    "# *"
   ]
  },
  {
   "cell_type": "code",
   "execution_count": 56,
   "id": "db14d2bc",
   "metadata": {
    "execution": {
     "iopub.execute_input": "2023-08-24T18:41:51.597212Z",
     "iopub.status.busy": "2023-08-24T18:41:51.596919Z",
     "iopub.status.idle": "2023-08-24T18:41:51.601815Z",
     "shell.execute_reply": "2023-08-24T18:41:51.600955Z"
    },
    "papermill": {
     "duration": 0.071543,
     "end_time": "2023-08-24T18:41:51.603953",
     "exception": false,
     "start_time": "2023-08-24T18:41:51.532410",
     "status": "completed"
    },
    "tags": []
   },
   "outputs": [
    {
     "name": "stdout",
     "output_type": "stream",
     "text": [
      "* * * * * \n",
      "* * * * \n",
      "* * * \n",
      "* * \n",
      "* \n"
     ]
    }
   ],
   "source": [
    "for i in range(5) :\n",
    "    print(\"* \" * (5-i))"
   ]
  },
  {
   "cell_type": "code",
   "execution_count": 57,
   "id": "b3c903f5",
   "metadata": {
    "execution": {
     "iopub.execute_input": "2023-08-24T18:41:51.729363Z",
     "iopub.status.busy": "2023-08-24T18:41:51.729103Z",
     "iopub.status.idle": "2023-08-24T18:41:51.732839Z",
     "shell.execute_reply": "2023-08-24T18:41:51.731931Z"
    },
    "papermill": {
     "duration": 0.068874,
     "end_time": "2023-08-24T18:41:51.734696",
     "exception": false,
     "start_time": "2023-08-24T18:41:51.665822",
     "status": "completed"
    },
    "tags": []
   },
   "outputs": [],
   "source": [
    "# *\n",
    "# **\n",
    "# ***\n",
    "# ****\n",
    "# *****"
   ]
  },
  {
   "cell_type": "code",
   "execution_count": 58,
   "id": "30a6ed34",
   "metadata": {
    "execution": {
     "iopub.execute_input": "2023-08-24T18:41:51.866128Z",
     "iopub.status.busy": "2023-08-24T18:41:51.865823Z",
     "iopub.status.idle": "2023-08-24T18:41:51.871028Z",
     "shell.execute_reply": "2023-08-24T18:41:51.870132Z"
    },
    "papermill": {
     "duration": 0.073566,
     "end_time": "2023-08-24T18:41:51.873349",
     "exception": false,
     "start_time": "2023-08-24T18:41:51.799783",
     "status": "completed"
    },
    "tags": []
   },
   "outputs": [
    {
     "name": "stdout",
     "output_type": "stream",
     "text": [
      "*\n",
      "**\n",
      "***\n",
      "****\n",
      "*****\n"
     ]
    }
   ],
   "source": [
    "for i in range(5) :\n",
    "    print(\"*\" * (int(i)+1))"
   ]
  },
  {
   "cell_type": "code",
   "execution_count": 59,
   "id": "9051a1aa",
   "metadata": {
    "execution": {
     "iopub.execute_input": "2023-08-24T18:41:52.003744Z",
     "iopub.status.busy": "2023-08-24T18:41:52.002913Z",
     "iopub.status.idle": "2023-08-24T18:41:52.007298Z",
     "shell.execute_reply": "2023-08-24T18:41:52.006264Z"
    },
    "papermill": {
     "duration": 0.069996,
     "end_time": "2023-08-24T18:41:52.009293",
     "exception": false,
     "start_time": "2023-08-24T18:41:51.939297",
     "status": "completed"
    },
    "tags": []
   },
   "outputs": [],
   "source": [
    "#         *\n",
    "#       **\n",
    "#     ***\n",
    "#   ****\n",
    "# *****"
   ]
  },
  {
   "cell_type": "code",
   "execution_count": 60,
   "id": "20c08a89",
   "metadata": {
    "execution": {
     "iopub.execute_input": "2023-08-24T18:41:52.141730Z",
     "iopub.status.busy": "2023-08-24T18:41:52.141047Z",
     "iopub.status.idle": "2023-08-24T18:41:52.147016Z",
     "shell.execute_reply": "2023-08-24T18:41:52.145807Z"
    },
    "papermill": {
     "duration": 0.075049,
     "end_time": "2023-08-24T18:41:52.148957",
     "exception": false,
     "start_time": "2023-08-24T18:41:52.073908",
     "status": "completed"
    },
    "tags": []
   },
   "outputs": [
    {
     "name": "stdout",
     "output_type": "stream",
     "text": [
      "           *\n",
      "         **\n",
      "       ***\n",
      "     ****\n",
      "   *****\n"
     ]
    }
   ],
   "source": [
    "for i in range(5) :\n",
    "    print(\" \"* ((5-i)*2),\"*\" * (int(i)+1))"
   ]
  },
  {
   "cell_type": "code",
   "execution_count": 61,
   "id": "72f093f3",
   "metadata": {
    "execution": {
     "iopub.execute_input": "2023-08-24T18:41:52.278093Z",
     "iopub.status.busy": "2023-08-24T18:41:52.277309Z",
     "iopub.status.idle": "2023-08-24T18:41:52.283090Z",
     "shell.execute_reply": "2023-08-24T18:41:52.281941Z"
    },
    "papermill": {
     "duration": 0.072749,
     "end_time": "2023-08-24T18:41:52.285156",
     "exception": false,
     "start_time": "2023-08-24T18:41:52.212407",
     "status": "completed"
    },
    "tags": []
   },
   "outputs": [
    {
     "name": "stdout",
     "output_type": "stream",
     "text": [
      "* * * * * \n",
      "* * * * \n",
      "* * * \n",
      "* * \n",
      "* * * \n"
     ]
    }
   ],
   "source": [
    "for i in range(4):\n",
    "    print(\"* \" * (5-i))\n",
    "print(\"* \"* 3)"
   ]
  },
  {
   "cell_type": "code",
   "execution_count": 62,
   "id": "351f6827",
   "metadata": {
    "execution": {
     "iopub.execute_input": "2023-08-24T18:41:52.414050Z",
     "iopub.status.busy": "2023-08-24T18:41:52.413774Z",
     "iopub.status.idle": "2023-08-24T18:41:52.417424Z",
     "shell.execute_reply": "2023-08-24T18:41:52.416593Z"
    },
    "papermill": {
     "duration": 0.069484,
     "end_time": "2023-08-24T18:41:52.419388",
     "exception": false,
     "start_time": "2023-08-24T18:41:52.349904",
     "status": "completed"
    },
    "tags": []
   },
   "outputs": [],
   "source": [
    "#     * \n",
    "#    **\n",
    "#   ***\n",
    "#  ****\n",
    "# *****"
   ]
  },
  {
   "cell_type": "code",
   "execution_count": 63,
   "id": "61b55f7c",
   "metadata": {
    "execution": {
     "iopub.execute_input": "2023-08-24T18:41:52.545267Z",
     "iopub.status.busy": "2023-08-24T18:41:52.544418Z",
     "iopub.status.idle": "2023-08-24T18:41:52.550333Z",
     "shell.execute_reply": "2023-08-24T18:41:52.549036Z"
    },
    "papermill": {
     "duration": 0.070729,
     "end_time": "2023-08-24T18:41:52.552272",
     "exception": false,
     "start_time": "2023-08-24T18:41:52.481543",
     "status": "completed"
    },
    "tags": []
   },
   "outputs": [
    {
     "name": "stdout",
     "output_type": "stream",
     "text": [
      "     *\n",
      "    **\n",
      "   ***\n",
      "  ****\n",
      " *****\n"
     ]
    }
   ],
   "source": [
    "for i in range(5):\n",
    "    print(\" \"* (4-int(i)),\"*\" * (i+1))"
   ]
  },
  {
   "cell_type": "code",
   "execution_count": 64,
   "id": "28d9c137",
   "metadata": {
    "execution": {
     "iopub.execute_input": "2023-08-24T18:41:52.682140Z",
     "iopub.status.busy": "2023-08-24T18:41:52.681340Z",
     "iopub.status.idle": "2023-08-24T18:41:52.685622Z",
     "shell.execute_reply": "2023-08-24T18:41:52.684795Z"
    },
    "papermill": {
     "duration": 0.072505,
     "end_time": "2023-08-24T18:41:52.687445",
     "exception": false,
     "start_time": "2023-08-24T18:41:52.614940",
     "status": "completed"
    },
    "tags": []
   },
   "outputs": [],
   "source": [
    "#        * \n",
    "#       * * \n",
    "#      * * * \n",
    "#     * * * * \n",
    "#    * * * * *"
   ]
  },
  {
   "cell_type": "code",
   "execution_count": 65,
   "id": "feaec35b",
   "metadata": {
    "execution": {
     "iopub.execute_input": "2023-08-24T18:41:52.817933Z",
     "iopub.status.busy": "2023-08-24T18:41:52.817128Z",
     "iopub.status.idle": "2023-08-24T18:41:52.822531Z",
     "shell.execute_reply": "2023-08-24T18:41:52.821661Z"
    },
    "papermill": {
     "duration": 0.074106,
     "end_time": "2023-08-24T18:41:52.824773",
     "exception": false,
     "start_time": "2023-08-24T18:41:52.750667",
     "status": "completed"
    },
    "tags": []
   },
   "outputs": [
    {
     "name": "stdout",
     "output_type": "stream",
     "text": [
      "        * \n",
      "       * * \n",
      "      * * * \n",
      "     * * * * \n",
      "    * * * * * \n"
     ]
    }
   ],
   "source": [
    "for i in range(5) :\n",
    "    print(\" \" * (7-int(i)),\"* \" * (int(i) + 1))"
   ]
  },
  {
   "cell_type": "code",
   "execution_count": 66,
   "id": "4e3e095e",
   "metadata": {
    "execution": {
     "iopub.execute_input": "2023-08-24T18:41:52.955820Z",
     "iopub.status.busy": "2023-08-24T18:41:52.955108Z",
     "iopub.status.idle": "2023-08-24T18:41:52.958996Z",
     "shell.execute_reply": "2023-08-24T18:41:52.958075Z"
    },
    "papermill": {
     "duration": 0.071051,
     "end_time": "2023-08-24T18:41:52.960990",
     "exception": false,
     "start_time": "2023-08-24T18:41:52.889939",
     "status": "completed"
    },
    "tags": []
   },
   "outputs": [],
   "source": [
    "#  * * * * *     \n",
    "#  * * * * * \n",
    "#   * * * * \n",
    "#    * * * \n",
    "#     * * \n",
    "#      * "
   ]
  },
  {
   "cell_type": "code",
   "execution_count": 67,
   "id": "f90521fe",
   "metadata": {
    "execution": {
     "iopub.execute_input": "2023-08-24T18:41:53.094109Z",
     "iopub.status.busy": "2023-08-24T18:41:53.093834Z",
     "iopub.status.idle": "2023-08-24T18:41:53.099180Z",
     "shell.execute_reply": "2023-08-24T18:41:53.098280Z"
    },
    "papermill": {
     "duration": 0.075881,
     "end_time": "2023-08-24T18:41:53.101465",
     "exception": false,
     "start_time": "2023-08-24T18:41:53.025584",
     "status": "completed"
    },
    "tags": []
   },
   "outputs": [
    {
     "name": "stdout",
     "output_type": "stream",
     "text": [
      "  * * * * * \n",
      "  * * * * * \n",
      "   * * * * \n",
      "    * * * \n",
      "     * * \n",
      "      * \n"
     ]
    }
   ],
   "source": [
    "print(\" \",\"* \"* 5)\n",
    "for i in range(5) :\n",
    "    print(\" \"* (int(i) +1),\"* \"* (5- int(i)))"
   ]
  },
  {
   "cell_type": "code",
   "execution_count": 68,
   "id": "d22b864a",
   "metadata": {
    "execution": {
     "iopub.execute_input": "2023-08-24T18:41:53.231350Z",
     "iopub.status.busy": "2023-08-24T18:41:53.231078Z",
     "iopub.status.idle": "2023-08-24T18:41:53.235860Z",
     "shell.execute_reply": "2023-08-24T18:41:53.235029Z"
    },
    "papermill": {
     "duration": 0.070812,
     "end_time": "2023-08-24T18:41:53.238047",
     "exception": false,
     "start_time": "2023-08-24T18:41:53.167235",
     "status": "completed"
    },
    "tags": []
   },
   "outputs": [
    {
     "name": "stdout",
     "output_type": "stream",
     "text": [
      "10\n",
      "9\n"
     ]
    }
   ],
   "source": [
    "a = 10\n",
    "\n",
    "while a > 1 :\n",
    "    print(a)\n",
    "    if a == 9 :\n",
    "        break\n",
    "    a = a - 1"
   ]
  },
  {
   "cell_type": "code",
   "execution_count": 69,
   "id": "8838fbf0",
   "metadata": {
    "execution": {
     "iopub.execute_input": "2023-08-24T18:41:53.362690Z",
     "iopub.status.busy": "2023-08-24T18:41:53.362420Z",
     "iopub.status.idle": "2023-08-24T18:41:53.366292Z",
     "shell.execute_reply": "2023-08-24T18:41:53.365417Z"
    },
    "papermill": {
     "duration": 0.068305,
     "end_time": "2023-08-24T18:41:53.368188",
     "exception": false,
     "start_time": "2023-08-24T18:41:53.299883",
     "status": "completed"
    },
    "tags": []
   },
   "outputs": [],
   "source": [
    "# day - 3"
   ]
  },
  {
   "cell_type": "code",
   "execution_count": 70,
   "id": "c1e51a8b",
   "metadata": {
    "execution": {
     "iopub.execute_input": "2023-08-24T18:41:53.511710Z",
     "iopub.status.busy": "2023-08-24T18:41:53.510874Z",
     "iopub.status.idle": "2023-08-24T18:41:53.517696Z",
     "shell.execute_reply": "2023-08-24T18:41:53.516232Z"
    },
    "papermill": {
     "duration": 0.081837,
     "end_time": "2023-08-24T18:41:53.519879",
     "exception": false,
     "start_time": "2023-08-24T18:41:53.438042",
     "status": "completed"
    },
    "tags": []
   },
   "outputs": [
    {
     "name": "stdout",
     "output_type": "stream",
     "text": [
      "        * \n",
      "       * * \n",
      "      * * * \n",
      "     * * * * \n",
      "    * * * * * \n"
     ]
    }
   ],
   "source": [
    "for i  in range(5) :\n",
    "    print(\" \" * (7 - int(i)), \"* \" * (int(i) + 1))"
   ]
  },
  {
   "cell_type": "code",
   "execution_count": 71,
   "id": "e25b3e91",
   "metadata": {
    "execution": {
     "iopub.execute_input": "2023-08-24T18:41:53.649440Z",
     "iopub.status.busy": "2023-08-24T18:41:53.648612Z",
     "iopub.status.idle": "2023-08-24T18:41:53.652885Z",
     "shell.execute_reply": "2023-08-24T18:41:53.652084Z"
    },
    "papermill": {
     "duration": 0.068636,
     "end_time": "2023-08-24T18:41:53.654793",
     "exception": false,
     "start_time": "2023-08-24T18:41:53.586157",
     "status": "completed"
    },
    "tags": []
   },
   "outputs": [],
   "source": [
    "#         * \n",
    "#        * *      \n",
    "#       * * * \n",
    "#      * * * * \n",
    "#     * * * * *"
   ]
  },
  {
   "cell_type": "code",
   "execution_count": 72,
   "id": "9b6f4cbe",
   "metadata": {
    "execution": {
     "iopub.execute_input": "2023-08-24T18:41:53.785861Z",
     "iopub.status.busy": "2023-08-24T18:41:53.785066Z",
     "iopub.status.idle": "2023-08-24T18:41:53.789357Z",
     "shell.execute_reply": "2023-08-24T18:41:53.788470Z"
    },
    "papermill": {
     "duration": 0.073436,
     "end_time": "2023-08-24T18:41:53.791351",
     "exception": false,
     "start_time": "2023-08-24T18:41:53.717915",
     "status": "completed"
    },
    "tags": []
   },
   "outputs": [],
   "source": [
    "# 1\n",
    "# 2 2\n",
    "# 3 3 3\n",
    "# 4 4 4 4\n",
    "# 5 5 5 5 5"
   ]
  },
  {
   "cell_type": "code",
   "execution_count": 73,
   "id": "b8ac15c9",
   "metadata": {
    "execution": {
     "iopub.execute_input": "2023-08-24T18:41:53.917984Z",
     "iopub.status.busy": "2023-08-24T18:41:53.917197Z",
     "iopub.status.idle": "2023-08-24T18:41:53.923351Z",
     "shell.execute_reply": "2023-08-24T18:41:53.921880Z"
    },
    "papermill": {
     "duration": 0.071707,
     "end_time": "2023-08-24T18:41:53.925402",
     "exception": false,
     "start_time": "2023-08-24T18:41:53.853695",
     "status": "completed"
    },
    "tags": []
   },
   "outputs": [
    {
     "name": "stdout",
     "output_type": "stream",
     "text": [
      "1 \n",
      "2 2 \n",
      "3 3 3 \n",
      "4 4 4 4 \n",
      "5 5 5 5 5 \n"
     ]
    }
   ],
   "source": [
    "for i in range(5) :\n",
    "    print((str(i+1)+ \" \") * (int(i)+1))"
   ]
  },
  {
   "cell_type": "code",
   "execution_count": 74,
   "id": "2cbeace4",
   "metadata": {
    "execution": {
     "iopub.execute_input": "2023-08-24T18:41:54.052098Z",
     "iopub.status.busy": "2023-08-24T18:41:54.051839Z",
     "iopub.status.idle": "2023-08-24T18:41:54.055655Z",
     "shell.execute_reply": "2023-08-24T18:41:54.054797Z"
    },
    "papermill": {
     "duration": 0.069079,
     "end_time": "2023-08-24T18:41:54.057771",
     "exception": false,
     "start_time": "2023-08-24T18:41:53.988692",
     "status": "completed"
    },
    "tags": []
   },
   "outputs": [],
   "source": [
    "# a\n",
    "# b b\n",
    "# c c c\n",
    "# d d d d\n",
    "# # e e e e e\n"
   ]
  },
  {
   "cell_type": "code",
   "execution_count": 75,
   "id": "09b15ce9",
   "metadata": {
    "execution": {
     "iopub.execute_input": "2023-08-24T18:41:54.193550Z",
     "iopub.status.busy": "2023-08-24T18:41:54.193209Z",
     "iopub.status.idle": "2023-08-24T18:41:54.199041Z",
     "shell.execute_reply": "2023-08-24T18:41:54.198121Z"
    },
    "papermill": {
     "duration": 0.078183,
     "end_time": "2023-08-24T18:41:54.201138",
     "exception": false,
     "start_time": "2023-08-24T18:41:54.122955",
     "status": "completed"
    },
    "tags": []
   },
   "outputs": [
    {
     "name": "stdout",
     "output_type": "stream",
     "text": [
      "a \n",
      "b b \n",
      "c c c \n",
      "d d d d \n",
      "e e e e e \n"
     ]
    }
   ],
   "source": [
    "anbhu = [\"a\",\"b\",\"c\",\"d\",\"e\"]\n",
    "for i in range(5) :\n",
    "    print((anbhu[i]+\" \") * (int(i)+1))"
   ]
  },
  {
   "cell_type": "code",
   "execution_count": 76,
   "id": "885f050e",
   "metadata": {
    "execution": {
     "iopub.execute_input": "2023-08-24T18:41:54.329165Z",
     "iopub.status.busy": "2023-08-24T18:41:54.328899Z",
     "iopub.status.idle": "2023-08-24T18:41:54.333777Z",
     "shell.execute_reply": "2023-08-24T18:41:54.332930Z"
    },
    "papermill": {
     "duration": 0.071656,
     "end_time": "2023-08-24T18:41:54.336055",
     "exception": false,
     "start_time": "2023-08-24T18:41:54.264399",
     "status": "completed"
    },
    "tags": []
   },
   "outputs": [
    {
     "name": "stdout",
     "output_type": "stream",
     "text": [
      "         *\n",
      "       **\n",
      "     ***\n",
      "   ****\n",
      " *****\n"
     ]
    }
   ],
   "source": [
    "for i in range(5) :\n",
    "    print(\" \" * (2* (4-int(i))), \"*\" * (int(i) + 1) )"
   ]
  },
  {
   "cell_type": "code",
   "execution_count": 77,
   "id": "79bd1dd2",
   "metadata": {
    "execution": {
     "iopub.execute_input": "2023-08-24T18:41:54.463083Z",
     "iopub.status.busy": "2023-08-24T18:41:54.462340Z",
     "iopub.status.idle": "2023-08-24T18:41:54.466639Z",
     "shell.execute_reply": "2023-08-24T18:41:54.465793Z"
    },
    "papermill": {
     "duration": 0.06954,
     "end_time": "2023-08-24T18:41:54.468596",
     "exception": false,
     "start_time": "2023-08-24T18:41:54.399056",
     "status": "completed"
    },
    "tags": []
   },
   "outputs": [],
   "source": [
    "# * * * * * \n",
    "# * * * * * \n",
    "#  * * * * \n",
    "#   * * * \n",
    "#    * * \n",
    "#     * "
   ]
  },
  {
   "cell_type": "code",
   "execution_count": 78,
   "id": "95a98a8a",
   "metadata": {
    "execution": {
     "iopub.execute_input": "2023-08-24T18:41:54.607134Z",
     "iopub.status.busy": "2023-08-24T18:41:54.606238Z",
     "iopub.status.idle": "2023-08-24T18:41:54.612912Z",
     "shell.execute_reply": "2023-08-24T18:41:54.611448Z"
    },
    "papermill": {
     "duration": 0.075574,
     "end_time": "2023-08-24T18:41:54.614968",
     "exception": false,
     "start_time": "2023-08-24T18:41:54.539394",
     "status": "completed"
    },
    "tags": []
   },
   "outputs": [
    {
     "name": "stdout",
     "output_type": "stream",
     "text": [
      " * * * * *\n",
      " * * * * * \n",
      "  * * * * \n",
      "   * * * \n",
      "    * * \n",
      "     * \n"
     ]
    }
   ],
   "source": [
    "print(\" *\"* 5)\n",
    "for i in range(5) :\n",
    "    print(\" \" * i, \"* \" * (5- int(i)))"
   ]
  },
  {
   "cell_type": "code",
   "execution_count": 79,
   "id": "20e13776",
   "metadata": {
    "execution": {
     "iopub.execute_input": "2023-08-24T18:41:54.748045Z",
     "iopub.status.busy": "2023-08-24T18:41:54.747209Z",
     "iopub.status.idle": "2023-08-24T18:41:54.751459Z",
     "shell.execute_reply": "2023-08-24T18:41:54.750497Z"
    },
    "papermill": {
     "duration": 0.071146,
     "end_time": "2023-08-24T18:41:54.753462",
     "exception": false,
     "start_time": "2023-08-24T18:41:54.682316",
     "status": "completed"
    },
    "tags": []
   },
   "outputs": [],
   "source": [
    "# 5 5 5 5 5 \n",
    "\n",
    "# 5 5 5 5 \n",
    "\n",
    "# 5 5 5 \n",
    "\n",
    "# 5 5 \n",
    "\n",
    "# 5"
   ]
  },
  {
   "cell_type": "code",
   "execution_count": 80,
   "id": "5695db97",
   "metadata": {
    "execution": {
     "iopub.execute_input": "2023-08-24T18:41:54.894631Z",
     "iopub.status.busy": "2023-08-24T18:41:54.893818Z",
     "iopub.status.idle": "2023-08-24T18:41:54.900156Z",
     "shell.execute_reply": "2023-08-24T18:41:54.898726Z"
    },
    "papermill": {
     "duration": 0.079831,
     "end_time": "2023-08-24T18:41:54.902280",
     "exception": false,
     "start_time": "2023-08-24T18:41:54.822449",
     "status": "completed"
    },
    "tags": []
   },
   "outputs": [
    {
     "name": "stdout",
     "output_type": "stream",
     "text": [
      "5 5 5 5 5 \n",
      "5 5 5 5 \n",
      "5 5 5 \n",
      "5 5 \n",
      "5 \n"
     ]
    }
   ],
   "source": [
    "for i in range(5) :\n",
    "    print(\"5 \" *( 5 - int(i)))"
   ]
  },
  {
   "cell_type": "code",
   "execution_count": 81,
   "id": "fa12fe43",
   "metadata": {
    "execution": {
     "iopub.execute_input": "2023-08-24T18:41:55.054801Z",
     "iopub.status.busy": "2023-08-24T18:41:55.053465Z",
     "iopub.status.idle": "2023-08-24T18:41:55.061266Z",
     "shell.execute_reply": "2023-08-24T18:41:55.060351Z"
    },
    "papermill": {
     "duration": 0.096259,
     "end_time": "2023-08-24T18:41:55.063294",
     "exception": false,
     "start_time": "2023-08-24T18:41:54.967035",
     "status": "completed"
    },
    "tags": []
   },
   "outputs": [
    {
     "name": "stdout",
     "output_type": "stream",
     "text": [
      "asha  is unqualified \n"
     ]
    }
   ],
   "source": [
    "m1 = 80\n",
    "m2 = 80\n",
    "name = \"asha\"\n",
    "\n",
    "if m1 > 85 and m2 > 85 :\n",
    "    print(name , \"is qualified\")\n",
    "else :\n",
    "    print(name , \" is unqualified \")"
   ]
  },
  {
   "cell_type": "code",
   "execution_count": 82,
   "id": "84bc324d",
   "metadata": {
    "execution": {
     "iopub.execute_input": "2023-08-24T18:41:55.254557Z",
     "iopub.status.busy": "2023-08-24T18:41:55.254145Z",
     "iopub.status.idle": "2023-08-24T18:41:55.262039Z",
     "shell.execute_reply": "2023-08-24T18:41:55.260849Z"
    },
    "papermill": {
     "duration": 0.100532,
     "end_time": "2023-08-24T18:41:55.265079",
     "exception": false,
     "start_time": "2023-08-24T18:41:55.164547",
     "status": "completed"
    },
    "tags": []
   },
   "outputs": [],
   "source": [
    "\n",
    "# print(\"start\")\n",
    "\n",
    "# m1 = int(input(\"enter m1 marks\"))\n",
    "# print(\"m1 done\")\n",
    "# m2 = int(input(\"enter m2 marks\"))\n",
    "# name = input()\n",
    "\n",
    "# if m1 > 85 and m2 > 85 :\n",
    "#     print(name , \"is qualified\")\n",
    "# else :\n",
    "#     print(name , \" is unqualified \")"
   ]
  },
  {
   "cell_type": "code",
   "execution_count": 83,
   "id": "71bfc3a3",
   "metadata": {
    "execution": {
     "iopub.execute_input": "2023-08-24T18:41:55.459319Z",
     "iopub.status.busy": "2023-08-24T18:41:55.458531Z",
     "iopub.status.idle": "2023-08-24T18:41:55.467244Z",
     "shell.execute_reply": "2023-08-24T18:41:55.466382Z"
    },
    "papermill": {
     "duration": 0.115479,
     "end_time": "2023-08-24T18:41:55.470899",
     "exception": false,
     "start_time": "2023-08-24T18:41:55.355420",
     "status": "completed"
    },
    "tags": []
   },
   "outputs": [
    {
     "name": "stdout",
     "output_type": "stream",
     "text": [
      "sharma is qualified\n"
     ]
    }
   ],
   "source": [
    "m1 = 90\n",
    "m2 = 95\n",
    "name = \"sharma\"\n",
    "\n",
    "if m1 > 85 and m2 > 85 :\n",
    "    print(name , \"is qualified\")\n",
    "else :\n",
    "    print(name , \" is unqualified \")"
   ]
  },
  {
   "cell_type": "code",
   "execution_count": 84,
   "id": "ff5edcd8",
   "metadata": {
    "execution": {
     "iopub.execute_input": "2023-08-24T18:41:55.653925Z",
     "iopub.status.busy": "2023-08-24T18:41:55.653447Z",
     "iopub.status.idle": "2023-08-24T18:41:55.666214Z",
     "shell.execute_reply": "2023-08-24T18:41:55.665304Z"
    },
    "papermill": {
     "duration": 0.106321,
     "end_time": "2023-08-24T18:41:55.670533",
     "exception": false,
     "start_time": "2023-08-24T18:41:55.564212",
     "status": "completed"
    },
    "tags": []
   },
   "outputs": [
    {
     "name": "stdout",
     "output_type": "stream",
     "text": [
      "student is qualified\n"
     ]
    }
   ],
   "source": [
    "# write a functin to check \n",
    "def check (m1= 0,m2 = 0,name = \"student\"):\n",
    "    \"\"\"\n",
    "    this is written by @mlv prasad\n",
    "    \"\"\"\n",
    "     \n",
    "    if m1 > 85 and m2 > 85 : # check marks\n",
    "        print(name , \"is qualified\")\n",
    "    else :\n",
    "        print(name, \"no qualified \")\n",
    "\n",
    "\n",
    "check(m1 =  90, m2  = 95)   \n",
    "\n"
   ]
  },
  {
   "cell_type": "code",
   "execution_count": 85,
   "id": "03b83b63",
   "metadata": {
    "execution": {
     "iopub.execute_input": "2023-08-24T18:41:55.857204Z",
     "iopub.status.busy": "2023-08-24T18:41:55.856842Z",
     "iopub.status.idle": "2023-08-24T18:41:55.861031Z",
     "shell.execute_reply": "2023-08-24T18:41:55.860078Z"
    },
    "papermill": {
     "duration": 0.100948,
     "end_time": "2023-08-24T18:41:55.865416",
     "exception": false,
     "start_time": "2023-08-24T18:41:55.764468",
     "status": "completed"
    },
    "tags": []
   },
   "outputs": [],
   "source": [
    "# yasmin\n",
    "# asha\n",
    "# sharma\n",
    "# anusha\n",
    "\n",
    "\n"
   ]
  },
  {
   "cell_type": "code",
   "execution_count": 86,
   "id": "03098e5d",
   "metadata": {
    "execution": {
     "iopub.execute_input": "2023-08-24T18:41:56.050833Z",
     "iopub.status.busy": "2023-08-24T18:41:56.050473Z",
     "iopub.status.idle": "2023-08-24T18:41:56.056260Z",
     "shell.execute_reply": "2023-08-24T18:41:56.055419Z"
    },
    "papermill": {
     "duration": 0.102937,
     "end_time": "2023-08-24T18:41:56.061638",
     "exception": false,
     "start_time": "2023-08-24T18:41:55.958701",
     "status": "completed"
    },
    "tags": []
   },
   "outputs": [
    {
     "data": {
      "text/plain": [
       "'\\nyasmin\\nasha\\nanusha\\nsharma\\n\\n'"
      ]
     },
     "execution_count": 86,
     "metadata": {},
     "output_type": "execute_result"
    }
   ],
   "source": [
    "\"\"\"\n",
    "yasmin\n",
    "asha\n",
    "anusha\n",
    "sharma\n",
    "\n",
    "\"\"\""
   ]
  },
  {
   "cell_type": "code",
   "execution_count": 87,
   "id": "c8aa64e0",
   "metadata": {
    "execution": {
     "iopub.execute_input": "2023-08-24T18:41:56.250636Z",
     "iopub.status.busy": "2023-08-24T18:41:56.250280Z",
     "iopub.status.idle": "2023-08-24T18:41:56.255249Z",
     "shell.execute_reply": "2023-08-24T18:41:56.254373Z"
    },
    "papermill": {
     "duration": 0.104029,
     "end_time": "2023-08-24T18:41:56.260902",
     "exception": false,
     "start_time": "2023-08-24T18:41:56.156873",
     "status": "completed"
    },
    "tags": []
   },
   "outputs": [
    {
     "name": "stdout",
     "output_type": "stream",
     "text": [
      "69\n",
      "69\n"
     ]
    }
   ],
   "source": [
    "print(str(6) + \"9\")\n",
    "print(\"6\" + \"9\")"
   ]
  },
  {
   "cell_type": "code",
   "execution_count": 88,
   "id": "40352430",
   "metadata": {
    "execution": {
     "iopub.execute_input": "2023-08-24T18:41:56.443984Z",
     "iopub.status.busy": "2023-08-24T18:41:56.443672Z",
     "iopub.status.idle": "2023-08-24T18:41:56.449306Z",
     "shell.execute_reply": "2023-08-24T18:41:56.448526Z"
    },
    "papermill": {
     "duration": 0.103134,
     "end_time": "2023-08-24T18:41:56.454663",
     "exception": false,
     "start_time": "2023-08-24T18:41:56.351529",
     "status": "completed"
    },
    "tags": []
   },
   "outputs": [
    {
     "name": "stdout",
     "output_type": "stream",
     "text": [
      "16\n",
      "90\n"
     ]
    }
   ],
   "source": [
    "ans = 9 \n",
    "\n",
    "def add (a,b) :\n",
    "    global ans\n",
    "    ans = a + b  \n",
    "    print(ans)\n",
    "    \n",
    "add(7,9) \n",
    "ans = 90 \n",
    "print(ans)\n",
    "    \n"
   ]
  },
  {
   "cell_type": "code",
   "execution_count": 89,
   "id": "b05c6dfa",
   "metadata": {
    "execution": {
     "iopub.execute_input": "2023-08-24T18:41:56.626189Z",
     "iopub.status.busy": "2023-08-24T18:41:56.625911Z",
     "iopub.status.idle": "2023-08-24T18:41:56.630890Z",
     "shell.execute_reply": "2023-08-24T18:41:56.630018Z"
    },
    "papermill": {
     "duration": 0.088665,
     "end_time": "2023-08-24T18:41:56.633408",
     "exception": false,
     "start_time": "2023-08-24T18:41:56.544743",
     "status": "completed"
    },
    "tags": []
   },
   "outputs": [
    {
     "name": "stdout",
     "output_type": "stream",
     "text": [
      "Python is fantastic\n"
     ]
    }
   ],
   "source": [
    "def myfunc():\n",
    "  global x\n",
    "  x = \"fantastic\"\n",
    "\n",
    "myfunc()\n",
    "\n",
    "print(\"Python is \" + x)"
   ]
  },
  {
   "cell_type": "code",
   "execution_count": 90,
   "id": "7e9b6da2",
   "metadata": {
    "execution": {
     "iopub.execute_input": "2023-08-24T18:41:56.763901Z",
     "iopub.status.busy": "2023-08-24T18:41:56.763254Z",
     "iopub.status.idle": "2023-08-24T18:41:56.768529Z",
     "shell.execute_reply": "2023-08-24T18:41:56.767652Z"
    },
    "papermill": {
     "duration": 0.072925,
     "end_time": "2023-08-24T18:41:56.771228",
     "exception": false,
     "start_time": "2023-08-24T18:41:56.698303",
     "status": "completed"
    },
    "tags": []
   },
   "outputs": [
    {
     "name": "stdout",
     "output_type": "stream",
     "text": [
      "Python is yasmin\n"
     ]
    }
   ],
   "source": [
    "x = \"awesome\"\n",
    "\n",
    "def myfunc():\n",
    "#   global x\n",
    "  x = \"fantastic\"\n",
    "    \n",
    "x = \"yasmin\"\n",
    "\n",
    "myfunc()\n",
    "\n",
    "print(\"Python is \" + x)"
   ]
  },
  {
   "cell_type": "code",
   "execution_count": 91,
   "id": "fce0e7a8",
   "metadata": {
    "execution": {
     "iopub.execute_input": "2023-08-24T18:41:56.912874Z",
     "iopub.status.busy": "2023-08-24T18:41:56.911882Z",
     "iopub.status.idle": "2023-08-24T18:41:56.916642Z",
     "shell.execute_reply": "2023-08-24T18:41:56.915664Z"
    },
    "papermill": {
     "duration": 0.078616,
     "end_time": "2023-08-24T18:41:56.918712",
     "exception": false,
     "start_time": "2023-08-24T18:41:56.840096",
     "status": "completed"
    },
    "tags": []
   },
   "outputs": [],
   "source": [
    "# a = 5 + 2j\n",
    "# real(a)"
   ]
  },
  {
   "cell_type": "code",
   "execution_count": 92,
   "id": "57f91968",
   "metadata": {
    "execution": {
     "iopub.execute_input": "2023-08-24T18:41:57.055077Z",
     "iopub.status.busy": "2023-08-24T18:41:57.054811Z",
     "iopub.status.idle": "2023-08-24T18:41:57.058564Z",
     "shell.execute_reply": "2023-08-24T18:41:57.057634Z"
    },
    "papermill": {
     "duration": 0.070694,
     "end_time": "2023-08-24T18:41:57.060508",
     "exception": false,
     "start_time": "2023-08-24T18:41:56.989814",
     "status": "completed"
    },
    "tags": []
   },
   "outputs": [],
   "source": [
    "# a = 5 + 2j\n",
    "# x = complex(a)\n",
    "# real(x)"
   ]
  },
  {
   "cell_type": "code",
   "execution_count": 93,
   "id": "8bd7b3d3",
   "metadata": {
    "execution": {
     "iopub.execute_input": "2023-08-24T18:41:57.196376Z",
     "iopub.status.busy": "2023-08-24T18:41:57.195634Z",
     "iopub.status.idle": "2023-08-24T18:41:57.201124Z",
     "shell.execute_reply": "2023-08-24T18:41:57.199889Z"
    },
    "papermill": {
     "duration": 0.07568,
     "end_time": "2023-08-24T18:41:57.203043",
     "exception": false,
     "start_time": "2023-08-24T18:41:57.127363",
     "status": "completed"
    },
    "tags": []
   },
   "outputs": [
    {
     "name": "stdout",
     "output_type": "stream",
     "text": [
      "3500000000000000.0\n"
     ]
    }
   ],
   "source": [
    "x = 35e14\n",
    "print(x)"
   ]
  },
  {
   "cell_type": "code",
   "execution_count": 94,
   "id": "a45396fd",
   "metadata": {
    "execution": {
     "iopub.execute_input": "2023-08-24T18:41:57.329835Z",
     "iopub.status.busy": "2023-08-24T18:41:57.329079Z",
     "iopub.status.idle": "2023-08-24T18:41:57.333768Z",
     "shell.execute_reply": "2023-08-24T18:41:57.332927Z"
    },
    "papermill": {
     "duration": 0.070088,
     "end_time": "2023-08-24T18:41:57.335805",
     "exception": false,
     "start_time": "2023-08-24T18:41:57.265717",
     "status": "completed"
    },
    "tags": []
   },
   "outputs": [
    {
     "name": "stdout",
     "output_type": "stream",
     "text": [
      "Lorem ipsum dolor sit amet,\n",
      "consectetur adipiscing elit,\n",
      "sed do eiusmod tempor incididunt\n",
      "ut labore et dolore magna aliqua.\n"
     ]
    }
   ],
   "source": [
    "a = \"\"\"Lorem ipsum dolor sit amet,\n",
    "consectetur adipiscing elit,\n",
    "sed do eiusmod tempor incididunt\n",
    "ut labore et dolore magna aliqua.\"\"\"\n",
    "print(a)"
   ]
  },
  {
   "cell_type": "code",
   "execution_count": 95,
   "id": "855c51bb",
   "metadata": {
    "execution": {
     "iopub.execute_input": "2023-08-24T18:41:57.463944Z",
     "iopub.status.busy": "2023-08-24T18:41:57.463190Z",
     "iopub.status.idle": "2023-08-24T18:41:57.467819Z",
     "shell.execute_reply": "2023-08-24T18:41:57.466983Z"
    },
    "papermill": {
     "duration": 0.071209,
     "end_time": "2023-08-24T18:41:57.469981",
     "exception": false,
     "start_time": "2023-08-24T18:41:57.398772",
     "status": "completed"
    },
    "tags": []
   },
   "outputs": [
    {
     "name": "stdout",
     "output_type": "stream",
     "text": [
      "Lorem ipsum dolor sit amet,consectetur adipiscing elit,sed do eiusmod tempor incididuntut labore et dolore magna aliqua.\n"
     ]
    }
   ],
   "source": [
    "a = \"Lorem ipsum dolor sit amet,consectetur adipiscing elit,sed do eiusmod tempor incididuntut labore et dolore magna aliqua.\"\n",
    "print(a)"
   ]
  },
  {
   "cell_type": "code",
   "execution_count": 96,
   "id": "4df05660",
   "metadata": {
    "execution": {
     "iopub.execute_input": "2023-08-24T18:41:57.598761Z",
     "iopub.status.busy": "2023-08-24T18:41:57.598018Z",
     "iopub.status.idle": "2023-08-24T18:41:57.603472Z",
     "shell.execute_reply": "2023-08-24T18:41:57.602219Z"
    },
    "papermill": {
     "duration": 0.071235,
     "end_time": "2023-08-24T18:41:57.605401",
     "exception": false,
     "start_time": "2023-08-24T18:41:57.534166",
     "status": "completed"
    },
    "tags": []
   },
   "outputs": [
    {
     "name": "stdout",
     "output_type": "stream",
     "text": [
      "13\n"
     ]
    }
   ],
   "source": [
    "a = \"Hello, World!\"\n",
    "print(len(a))"
   ]
  },
  {
   "cell_type": "code",
   "execution_count": 97,
   "id": "7a8f39e1",
   "metadata": {
    "execution": {
     "iopub.execute_input": "2023-08-24T18:41:57.734520Z",
     "iopub.status.busy": "2023-08-24T18:41:57.733653Z",
     "iopub.status.idle": "2023-08-24T18:41:57.739825Z",
     "shell.execute_reply": "2023-08-24T18:41:57.738873Z"
    },
    "papermill": {
     "duration": 0.073441,
     "end_time": "2023-08-24T18:41:57.741760",
     "exception": false,
     "start_time": "2023-08-24T18:41:57.668319",
     "status": "completed"
    },
    "tags": []
   },
   "outputs": [
    {
     "data": {
      "text/plain": [
       "'llo'"
      ]
     },
     "execution_count": 97,
     "metadata": {},
     "output_type": "execute_result"
    }
   ],
   "source": [
    "a = \"Hello, World!\"\n",
    "a[2:5]\n"
   ]
  },
  {
   "cell_type": "code",
   "execution_count": 98,
   "id": "6d19b5bd",
   "metadata": {
    "execution": {
     "iopub.execute_input": "2023-08-24T18:41:57.875447Z",
     "iopub.status.busy": "2023-08-24T18:41:57.874704Z",
     "iopub.status.idle": "2023-08-24T18:41:57.881314Z",
     "shell.execute_reply": "2023-08-24T18:41:57.880391Z"
    },
    "papermill": {
     "duration": 0.076879,
     "end_time": "2023-08-24T18:41:57.883258",
     "exception": false,
     "start_time": "2023-08-24T18:41:57.806379",
     "status": "completed"
    },
    "tags": []
   },
   "outputs": [
    {
     "data": {
      "text/plain": [
       "[3, 4, 5]"
      ]
     },
     "execution_count": 98,
     "metadata": {},
     "output_type": "execute_result"
    }
   ],
   "source": [
    "a = [1,2,3,4,5]\n",
    "a[2:5]"
   ]
  },
  {
   "cell_type": "code",
   "execution_count": 99,
   "id": "d9a21f73",
   "metadata": {
    "execution": {
     "iopub.execute_input": "2023-08-24T18:41:58.018704Z",
     "iopub.status.busy": "2023-08-24T18:41:58.017913Z",
     "iopub.status.idle": "2023-08-24T18:41:58.023896Z",
     "shell.execute_reply": "2023-08-24T18:41:58.022561Z"
    },
    "papermill": {
     "duration": 0.07633,
     "end_time": "2023-08-24T18:41:58.026410",
     "exception": false,
     "start_time": "2023-08-24T18:41:57.950080",
     "status": "completed"
    },
    "tags": []
   },
   "outputs": [
    {
     "name": "stdout",
     "output_type": "stream",
     "text": [
      "Hello\n"
     ]
    }
   ],
   "source": [
    "b = \"Hello, World!\"\n",
    "print(b[:5])"
   ]
  },
  {
   "cell_type": "code",
   "execution_count": 100,
   "id": "14fad9f8",
   "metadata": {
    "execution": {
     "iopub.execute_input": "2023-08-24T18:41:58.165470Z",
     "iopub.status.busy": "2023-08-24T18:41:58.164582Z",
     "iopub.status.idle": "2023-08-24T18:41:58.169924Z",
     "shell.execute_reply": "2023-08-24T18:41:58.168983Z"
    },
    "papermill": {
     "duration": 0.077823,
     "end_time": "2023-08-24T18:41:58.171955",
     "exception": false,
     "start_time": "2023-08-24T18:41:58.094132",
     "status": "completed"
    },
    "tags": []
   },
   "outputs": [
    {
     "name": "stdout",
     "output_type": "stream",
     "text": [
      "llo, World!\n"
     ]
    }
   ],
   "source": [
    "b = \"Hello, World!\"\n",
    "print(b[2:])"
   ]
  },
  {
   "cell_type": "code",
   "execution_count": 101,
   "id": "0ddcd6a2",
   "metadata": {
    "execution": {
     "iopub.execute_input": "2023-08-24T18:41:58.309740Z",
     "iopub.status.busy": "2023-08-24T18:41:58.308930Z",
     "iopub.status.idle": "2023-08-24T18:41:58.314109Z",
     "shell.execute_reply": "2023-08-24T18:41:58.313074Z"
    },
    "papermill": {
     "duration": 0.072671,
     "end_time": "2023-08-24T18:41:58.316027",
     "exception": false,
     "start_time": "2023-08-24T18:41:58.243356",
     "status": "completed"
    },
    "tags": []
   },
   "outputs": [
    {
     "name": "stdout",
     "output_type": "stream",
     "text": [
      "orl\n"
     ]
    }
   ],
   "source": [
    "b = \"Hello, World!\"\n",
    "print(b[-5:-2])"
   ]
  },
  {
   "cell_type": "code",
   "execution_count": 102,
   "id": "2204902a",
   "metadata": {
    "execution": {
     "iopub.execute_input": "2023-08-24T18:41:58.446060Z",
     "iopub.status.busy": "2023-08-24T18:41:58.445415Z",
     "iopub.status.idle": "2023-08-24T18:41:58.449994Z",
     "shell.execute_reply": "2023-08-24T18:41:58.449124Z"
    },
    "papermill": {
     "duration": 0.071237,
     "end_time": "2023-08-24T18:41:58.452450",
     "exception": false,
     "start_time": "2023-08-24T18:41:58.381213",
     "status": "completed"
    },
    "tags": []
   },
   "outputs": [
    {
     "name": "stdout",
     "output_type": "stream",
     "text": [
      "HELLO, WORLD!\n"
     ]
    }
   ],
   "source": [
    "a = \"Hello, World!\"\n",
    "print(a.upper())"
   ]
  },
  {
   "cell_type": "code",
   "execution_count": 103,
   "id": "f7746471",
   "metadata": {
    "execution": {
     "iopub.execute_input": "2023-08-24T18:41:58.582585Z",
     "iopub.status.busy": "2023-08-24T18:41:58.581879Z",
     "iopub.status.idle": "2023-08-24T18:41:58.586617Z",
     "shell.execute_reply": "2023-08-24T18:41:58.585690Z"
    },
    "papermill": {
     "duration": 0.073122,
     "end_time": "2023-08-24T18:41:58.589161",
     "exception": false,
     "start_time": "2023-08-24T18:41:58.516039",
     "status": "completed"
    },
    "tags": []
   },
   "outputs": [
    {
     "name": "stdout",
     "output_type": "stream",
     "text": [
      "hello, world!\n"
     ]
    }
   ],
   "source": [
    "a = \"Hello, World!\"\n",
    "print(a.lower())"
   ]
  },
  {
   "cell_type": "code",
   "execution_count": 104,
   "id": "65fd5a31",
   "metadata": {
    "execution": {
     "iopub.execute_input": "2023-08-24T18:41:58.724943Z",
     "iopub.status.busy": "2023-08-24T18:41:58.724214Z",
     "iopub.status.idle": "2023-08-24T18:41:58.730465Z",
     "shell.execute_reply": "2023-08-24T18:41:58.729498Z"
    },
    "papermill": {
     "duration": 0.07635,
     "end_time": "2023-08-24T18:41:58.732541",
     "exception": false,
     "start_time": "2023-08-24T18:41:58.656191",
     "status": "completed"
    },
    "tags": []
   },
   "outputs": [
    {
     "name": "stdout",
     "output_type": "stream",
     "text": [
      "Hello, World!\n"
     ]
    }
   ],
   "source": [
    "a = \" Hello, World! \"\n",
    "print(a.strip()) # returns \"Hello, World!\""
   ]
  },
  {
   "cell_type": "code",
   "execution_count": 105,
   "id": "40ceee72",
   "metadata": {
    "execution": {
     "iopub.execute_input": "2023-08-24T18:41:58.867789Z",
     "iopub.status.busy": "2023-08-24T18:41:58.866914Z",
     "iopub.status.idle": "2023-08-24T18:41:58.872326Z",
     "shell.execute_reply": "2023-08-24T18:41:58.871373Z"
    },
    "papermill": {
     "duration": 0.074059,
     "end_time": "2023-08-24T18:41:58.874307",
     "exception": false,
     "start_time": "2023-08-24T18:41:58.800248",
     "status": "completed"
    },
    "tags": []
   },
   "outputs": [
    {
     "name": "stdout",
     "output_type": "stream",
     "text": [
      "Jllo, World!\n"
     ]
    }
   ],
   "source": [
    "a = \"Hello, World!\"\n",
    "print(a.replace(\"He\", \"J\"))"
   ]
  },
  {
   "cell_type": "code",
   "execution_count": 106,
   "id": "219bc336",
   "metadata": {
    "execution": {
     "iopub.execute_input": "2023-08-24T18:41:59.012216Z",
     "iopub.status.busy": "2023-08-24T18:41:59.011935Z",
     "iopub.status.idle": "2023-08-24T18:41:59.016698Z",
     "shell.execute_reply": "2023-08-24T18:41:59.015766Z"
    },
    "papermill": {
     "duration": 0.079783,
     "end_time": "2023-08-24T18:41:59.018787",
     "exception": false,
     "start_time": "2023-08-24T18:41:58.939004",
     "status": "completed"
    },
    "tags": []
   },
   "outputs": [
    {
     "name": "stdout",
     "output_type": "stream",
     "text": [
      "['Hello,', 'World!', 'prasad!', 'sharma']\n"
     ]
    }
   ],
   "source": [
    "a = \"Hello, World! prasad! sharma\"\n",
    "print(a.split())"
   ]
  },
  {
   "cell_type": "code",
   "execution_count": 107,
   "id": "33100d74",
   "metadata": {
    "execution": {
     "iopub.execute_input": "2023-08-24T18:41:59.176800Z",
     "iopub.status.busy": "2023-08-24T18:41:59.176172Z",
     "iopub.status.idle": "2023-08-24T18:41:59.189528Z",
     "shell.execute_reply": "2023-08-24T18:41:59.188586Z"
    },
    "papermill": {
     "duration": 0.108772,
     "end_time": "2023-08-24T18:41:59.192770",
     "exception": false,
     "start_time": "2023-08-24T18:41:59.083998",
     "status": "completed"
    },
    "tags": []
   },
   "outputs": [
    {
     "data": {
      "text/plain": [
       "'anusha superstudent'"
      ]
     },
     "execution_count": 107,
     "metadata": {},
     "output_type": "execute_result"
    }
   ],
   "source": [
    "a = \"anusha\" +\" \"+ \"superstudent\"\n",
    "a"
   ]
  },
  {
   "cell_type": "code",
   "execution_count": 108,
   "id": "e9ec97e0",
   "metadata": {
    "execution": {
     "iopub.execute_input": "2023-08-24T18:41:59.343998Z",
     "iopub.status.busy": "2023-08-24T18:41:59.343672Z",
     "iopub.status.idle": "2023-08-24T18:41:59.349654Z",
     "shell.execute_reply": "2023-08-24T18:41:59.348779Z"
    },
    "papermill": {
     "duration": 0.076452,
     "end_time": "2023-08-24T18:41:59.351670",
     "exception": false,
     "start_time": "2023-08-24T18:41:59.275218",
     "status": "completed"
    },
    "tags": []
   },
   "outputs": [
    {
     "data": {
      "text/plain": [
       "15"
      ]
     },
     "execution_count": 108,
     "metadata": {},
     "output_type": "execute_result"
    }
   ],
   "source": [
    "b = 6 + 9\n",
    "b"
   ]
  },
  {
   "cell_type": "code",
   "execution_count": 109,
   "id": "dee0eb0d",
   "metadata": {
    "execution": {
     "iopub.execute_input": "2023-08-24T18:41:59.484864Z",
     "iopub.status.busy": "2023-08-24T18:41:59.484324Z",
     "iopub.status.idle": "2023-08-24T18:41:59.490339Z",
     "shell.execute_reply": "2023-08-24T18:41:59.489149Z"
    },
    "papermill": {
     "duration": 0.074225,
     "end_time": "2023-08-24T18:41:59.492312",
     "exception": false,
     "start_time": "2023-08-24T18:41:59.418087",
     "status": "completed"
    },
    "tags": []
   },
   "outputs": [
    {
     "name": "stdout",
     "output_type": "stream",
     "text": [
      "I want 3 pieces of item 567 for 49.95 dollars.\n"
     ]
    }
   ],
   "source": [
    "quantity = 3\n",
    "itemno = 567\n",
    "price = 49.95\n",
    "myorder = \"I want {} pieces of item {} for {} dollars.\"\n",
    "print(myorder.format(quantity, itemno, price))"
   ]
  },
  {
   "cell_type": "code",
   "execution_count": 110,
   "id": "39234351",
   "metadata": {
    "execution": {
     "iopub.execute_input": "2023-08-24T18:41:59.627282Z",
     "iopub.status.busy": "2023-08-24T18:41:59.626440Z",
     "iopub.status.idle": "2023-08-24T18:41:59.632860Z",
     "shell.execute_reply": "2023-08-24T18:41:59.631729Z"
    },
    "papermill": {
     "duration": 0.07624,
     "end_time": "2023-08-24T18:41:59.634824",
     "exception": false,
     "start_time": "2023-08-24T18:41:59.558584",
     "status": "completed"
    },
    "tags": []
   },
   "outputs": [
    {
     "name": "stdout",
     "output_type": "stream",
     "text": [
      "I want 3 pieces of item 567 for 49.95 dollars\n"
     ]
    }
   ],
   "source": [
    "quantity = 3\n",
    "itemno = 567\n",
    "price = 49.95\n",
    "ans = \"I want {} pieces of item {} for {} dollars\"\n",
    "print(ans.format(quantity, itemno,price))"
   ]
  },
  {
   "cell_type": "code",
   "execution_count": 111,
   "id": "b5ed026a",
   "metadata": {
    "execution": {
     "iopub.execute_input": "2023-08-24T18:41:59.769432Z",
     "iopub.status.busy": "2023-08-24T18:41:59.768653Z",
     "iopub.status.idle": "2023-08-24T18:41:59.774509Z",
     "shell.execute_reply": "2023-08-24T18:41:59.773248Z"
    },
    "papermill": {
     "duration": 0.075158,
     "end_time": "2023-08-24T18:41:59.776889",
     "exception": false,
     "start_time": "2023-08-24T18:41:59.701731",
     "status": "completed"
    },
    "tags": []
   },
   "outputs": [
    {
     "name": "stdout",
     "output_type": "stream",
     "text": [
      "i 4\\5\" aaa\n"
     ]
    }
   ],
   "source": [
    "print(\"i 4\\\\5\\\" aaa\")"
   ]
  },
  {
   "cell_type": "code",
   "execution_count": 112,
   "id": "f5bb7e57",
   "metadata": {
    "execution": {
     "iopub.execute_input": "2023-08-24T18:41:59.911926Z",
     "iopub.status.busy": "2023-08-24T18:41:59.911650Z",
     "iopub.status.idle": "2023-08-24T18:41:59.917343Z",
     "shell.execute_reply": "2023-08-24T18:41:59.916444Z"
    },
    "papermill": {
     "duration": 0.075082,
     "end_time": "2023-08-24T18:41:59.919376",
     "exception": false,
     "start_time": "2023-08-24T18:41:59.844294",
     "status": "completed"
    },
    "tags": []
   },
   "outputs": [
    {
     "data": {
      "text/plain": [
       "'YASMINKHAN'"
      ]
     },
     "execution_count": 112,
     "metadata": {},
     "output_type": "execute_result"
    }
   ],
   "source": [
    "a = \"YasminKhan\"\n",
    "a.upper()"
   ]
  },
  {
   "cell_type": "code",
   "execution_count": 113,
   "id": "e5c8cf52",
   "metadata": {
    "execution": {
     "iopub.execute_input": "2023-08-24T18:42:00.055138Z",
     "iopub.status.busy": "2023-08-24T18:42:00.053522Z",
     "iopub.status.idle": "2023-08-24T18:42:00.060198Z",
     "shell.execute_reply": "2023-08-24T18:42:00.059227Z"
    },
    "papermill": {
     "duration": 0.075051,
     "end_time": "2023-08-24T18:42:00.062300",
     "exception": false,
     "start_time": "2023-08-24T18:41:59.987249",
     "status": "completed"
    },
    "tags": []
   },
   "outputs": [
    {
     "data": {
      "text/plain": [
       "'Yasminkhan'"
      ]
     },
     "execution_count": 113,
     "metadata": {},
     "output_type": "execute_result"
    }
   ],
   "source": [
    "a = \"YasminKHan\"\n",
    "a.capitalize()"
   ]
  },
  {
   "cell_type": "code",
   "execution_count": 114,
   "id": "033043cc",
   "metadata": {
    "execution": {
     "iopub.execute_input": "2023-08-24T18:42:00.202923Z",
     "iopub.status.busy": "2023-08-24T18:42:00.202633Z",
     "iopub.status.idle": "2023-08-24T18:42:00.207181Z",
     "shell.execute_reply": "2023-08-24T18:42:00.206211Z"
    },
    "papermill": {
     "duration": 0.078132,
     "end_time": "2023-08-24T18:42:00.209242",
     "exception": false,
     "start_time": "2023-08-24T18:42:00.131110",
     "status": "completed"
    },
    "tags": []
   },
   "outputs": [],
   "source": [
    "a = \"YasminKHan\"\n",
    "# a.center()"
   ]
  },
  {
   "cell_type": "code",
   "execution_count": 115,
   "id": "7150fc68",
   "metadata": {
    "execution": {
     "iopub.execute_input": "2023-08-24T18:42:00.341265Z",
     "iopub.status.busy": "2023-08-24T18:42:00.340994Z",
     "iopub.status.idle": "2023-08-24T18:42:00.346744Z",
     "shell.execute_reply": "2023-08-24T18:42:00.345885Z"
    },
    "papermill": {
     "duration": 0.073463,
     "end_time": "2023-08-24T18:42:00.348695",
     "exception": false,
     "start_time": "2023-08-24T18:42:00.275232",
     "status": "completed"
    },
    "tags": []
   },
   "outputs": [
    {
     "data": {
      "text/plain": [
       "2"
      ]
     },
     "execution_count": 115,
     "metadata": {},
     "output_type": "execute_result"
    }
   ],
   "source": [
    "a = \"YasminKHan\"\n",
    "a.count(\"a\")"
   ]
  },
  {
   "cell_type": "code",
   "execution_count": 116,
   "id": "2e75ed7a",
   "metadata": {
    "execution": {
     "iopub.execute_input": "2023-08-24T18:42:00.479385Z",
     "iopub.status.busy": "2023-08-24T18:42:00.479129Z",
     "iopub.status.idle": "2023-08-24T18:42:00.484576Z",
     "shell.execute_reply": "2023-08-24T18:42:00.483728Z"
    },
    "papermill": {
     "duration": 0.072642,
     "end_time": "2023-08-24T18:42:00.486581",
     "exception": false,
     "start_time": "2023-08-24T18:42:00.413939",
     "status": "completed"
    },
    "tags": []
   },
   "outputs": [
    {
     "data": {
      "text/plain": [
       "True"
      ]
     },
     "execution_count": 116,
     "metadata": {},
     "output_type": "execute_result"
    }
   ],
   "source": [
    "a = \"YasminKhan\"\n",
    "a.endswith(\"Khan\")"
   ]
  },
  {
   "cell_type": "code",
   "execution_count": 117,
   "id": "e0d5d2bd",
   "metadata": {
    "execution": {
     "iopub.execute_input": "2023-08-24T18:42:00.618413Z",
     "iopub.status.busy": "2023-08-24T18:42:00.618158Z",
     "iopub.status.idle": "2023-08-24T18:42:00.625132Z",
     "shell.execute_reply": "2023-08-24T18:42:00.624226Z"
    },
    "papermill": {
     "duration": 0.074917,
     "end_time": "2023-08-24T18:42:00.627134",
     "exception": false,
     "start_time": "2023-08-24T18:42:00.552217",
     "status": "completed"
    },
    "tags": []
   },
   "outputs": [
    {
     "data": {
      "text/plain": [
       "5"
      ]
     },
     "execution_count": 117,
     "metadata": {},
     "output_type": "execute_result"
    }
   ],
   "source": [
    "a = \"YasminKhan\"\n",
    "a.index(\"n\")"
   ]
  },
  {
   "cell_type": "code",
   "execution_count": 118,
   "id": "7f99519e",
   "metadata": {
    "execution": {
     "iopub.execute_input": "2023-08-24T18:42:00.764630Z",
     "iopub.status.busy": "2023-08-24T18:42:00.764087Z",
     "iopub.status.idle": "2023-08-24T18:42:00.770659Z",
     "shell.execute_reply": "2023-08-24T18:42:00.769560Z"
    },
    "papermill": {
     "duration": 0.07854,
     "end_time": "2023-08-24T18:42:00.772731",
     "exception": false,
     "start_time": "2023-08-24T18:42:00.694191",
     "status": "completed"
    },
    "tags": []
   },
   "outputs": [
    {
     "name": "stdout",
     "output_type": "stream",
     "text": [
      "no\n",
      "no\n",
      "no\n",
      "yes\n",
      "no\n"
     ]
    }
   ],
   "source": [
    "ans = \"a12 3\"\n",
    "for i in ans :\n",
    "    if i.isspace():\n",
    "        print(\"yes\")\n",
    "    else :\n",
    "        print(\"no\")"
   ]
  },
  {
   "cell_type": "code",
   "execution_count": 119,
   "id": "0f2806ae",
   "metadata": {
    "execution": {
     "iopub.execute_input": "2023-08-24T18:42:00.910861Z",
     "iopub.status.busy": "2023-08-24T18:42:00.910581Z",
     "iopub.status.idle": "2023-08-24T18:42:00.916311Z",
     "shell.execute_reply": "2023-08-24T18:42:00.915401Z"
    },
    "papermill": {
     "duration": 0.07729,
     "end_time": "2023-08-24T18:42:00.918311",
     "exception": false,
     "start_time": "2023-08-24T18:42:00.841021",
     "status": "completed"
    },
    "tags": []
   },
   "outputs": [
    {
     "data": {
      "text/plain": [
       "['Thank you for the music', 'Welcome to the jungle']"
      ]
     },
     "execution_count": 119,
     "metadata": {},
     "output_type": "execute_result"
    }
   ],
   "source": [
    "txt = \"Thank you for the music\\nWelcome to the jungle\"\n",
    "txt.splitlines()"
   ]
  },
  {
   "cell_type": "code",
   "execution_count": 120,
   "id": "3b2261f0",
   "metadata": {
    "execution": {
     "iopub.execute_input": "2023-08-24T18:42:01.053735Z",
     "iopub.status.busy": "2023-08-24T18:42:01.052933Z",
     "iopub.status.idle": "2023-08-24T18:42:01.058769Z",
     "shell.execute_reply": "2023-08-24T18:42:01.057873Z"
    },
    "papermill": {
     "duration": 0.07482,
     "end_time": "2023-08-24T18:42:01.060726",
     "exception": false,
     "start_time": "2023-08-24T18:42:00.985906",
     "status": "completed"
    },
    "tags": []
   },
   "outputs": [
    {
     "data": {
      "text/plain": [
       "'YASMINkhan'"
      ]
     },
     "execution_count": 120,
     "metadata": {},
     "output_type": "execute_result"
    }
   ],
   "source": [
    "a = \"yasminKHAN\"\n",
    "a.swapcase()"
   ]
  },
  {
   "cell_type": "code",
   "execution_count": 121,
   "id": "507691b0",
   "metadata": {
    "execution": {
     "iopub.execute_input": "2023-08-24T18:42:01.198838Z",
     "iopub.status.busy": "2023-08-24T18:42:01.198544Z",
     "iopub.status.idle": "2023-08-24T18:42:01.203418Z",
     "shell.execute_reply": "2023-08-24T18:42:01.202614Z"
    },
    "papermill": {
     "duration": 0.076167,
     "end_time": "2023-08-24T18:42:01.205545",
     "exception": false,
     "start_time": "2023-08-24T18:42:01.129378",
     "status": "completed"
    },
    "tags": []
   },
   "outputs": [
    {
     "name": "stdout",
     "output_type": "stream",
     "text": [
      "Welcome To My World\n"
     ]
    }
   ],
   "source": [
    "txt = \"Welcome to my world\"\n",
    "\n",
    "x = txt.title()\n",
    "\n",
    "print(x)"
   ]
  },
  {
   "cell_type": "code",
   "execution_count": 122,
   "id": "15fbf91f",
   "metadata": {
    "execution": {
     "iopub.execute_input": "2023-08-24T18:42:01.339443Z",
     "iopub.status.busy": "2023-08-24T18:42:01.338678Z",
     "iopub.status.idle": "2023-08-24T18:42:01.343968Z",
     "shell.execute_reply": "2023-08-24T18:42:01.343081Z"
    },
    "papermill": {
     "duration": 0.073604,
     "end_time": "2023-08-24T18:42:01.345850",
     "exception": false,
     "start_time": "2023-08-24T18:42:01.272246",
     "status": "completed"
    },
    "tags": []
   },
   "outputs": [
    {
     "name": "stdout",
     "output_type": "stream",
     "text": [
      "00001\n"
     ]
    }
   ],
   "source": [
    "txt = \"1\"\n",
    "\n",
    "x = txt.zfill(5)\n",
    "\n",
    "print(x)"
   ]
  },
  {
   "cell_type": "code",
   "execution_count": 123,
   "id": "1d533237",
   "metadata": {
    "execution": {
     "iopub.execute_input": "2023-08-24T18:42:01.483187Z",
     "iopub.status.busy": "2023-08-24T18:42:01.482548Z",
     "iopub.status.idle": "2023-08-24T18:42:01.487383Z",
     "shell.execute_reply": "2023-08-24T18:42:01.486541Z"
    },
    "papermill": {
     "duration": 0.077517,
     "end_time": "2023-08-24T18:42:01.489879",
     "exception": false,
     "start_time": "2023-08-24T18:42:01.412362",
     "status": "completed"
    },
    "tags": []
   },
   "outputs": [
    {
     "name": "stdout",
     "output_type": "stream",
     "text": [
      "7\n"
     ]
    }
   ],
   "source": [
    "txt = \"Hello, welcome to my world.\"\n",
    "\n",
    "x = txt.index(\"welcom\")\n",
    "\n",
    "print(x)"
   ]
  },
  {
   "cell_type": "code",
   "execution_count": 124,
   "id": "5f61cdde",
   "metadata": {
    "execution": {
     "iopub.execute_input": "2023-08-24T18:42:01.624257Z",
     "iopub.status.busy": "2023-08-24T18:42:01.623509Z",
     "iopub.status.idle": "2023-08-24T18:42:01.627557Z",
     "shell.execute_reply": "2023-08-24T18:42:01.626653Z"
    },
    "papermill": {
     "duration": 0.073238,
     "end_time": "2023-08-24T18:42:01.629537",
     "exception": false,
     "start_time": "2023-08-24T18:42:01.556299",
     "status": "completed"
    },
    "tags": []
   },
   "outputs": [],
   "source": [
    "import pandas as pd"
   ]
  },
  {
   "cell_type": "code",
   "execution_count": 125,
   "id": "77590fd4",
   "metadata": {
    "execution": {
     "iopub.execute_input": "2023-08-24T18:42:01.763327Z",
     "iopub.status.busy": "2023-08-24T18:42:01.762603Z",
     "iopub.status.idle": "2023-08-24T18:42:01.768821Z",
     "shell.execute_reply": "2023-08-24T18:42:01.767920Z"
    },
    "papermill": {
     "duration": 0.074935,
     "end_time": "2023-08-24T18:42:01.771065",
     "exception": false,
     "start_time": "2023-08-24T18:42:01.696130",
     "status": "completed"
    },
    "tags": []
   },
   "outputs": [
    {
     "data": {
      "text/plain": [
       "'1**2**3**4**5'"
      ]
     },
     "execution_count": 125,
     "metadata": {},
     "output_type": "execute_result"
    }
   ],
   "source": [
    "a = (\"1\",\"2\",\"3\",\"4\",\"5\")\n",
    "ans = \"**\".join(a)\n",
    "ans"
   ]
  },
  {
   "cell_type": "code",
   "execution_count": 126,
   "id": "22cdec52",
   "metadata": {
    "execution": {
     "iopub.execute_input": "2023-08-24T18:42:01.909597Z",
     "iopub.status.busy": "2023-08-24T18:42:01.908121Z",
     "iopub.status.idle": "2023-08-24T18:42:01.913909Z",
     "shell.execute_reply": "2023-08-24T18:42:01.912688Z"
    },
    "papermill": {
     "duration": 0.0771,
     "end_time": "2023-08-24T18:42:01.915948",
     "exception": false,
     "start_time": "2023-08-24T18:42:01.838848",
     "status": "completed"
    },
    "tags": []
   },
   "outputs": [
    {
     "name": "stdout",
     "output_type": "stream",
     "text": [
      "True\n",
      "True\n"
     ]
    }
   ],
   "source": [
    "print(bool(\"a\"))\n",
    "print(bool(10))"
   ]
  },
  {
   "cell_type": "code",
   "execution_count": 127,
   "id": "a52bbc42",
   "metadata": {
    "execution": {
     "iopub.execute_input": "2023-08-24T18:42:02.053697Z",
     "iopub.status.busy": "2023-08-24T18:42:02.052913Z",
     "iopub.status.idle": "2023-08-24T18:42:02.059120Z",
     "shell.execute_reply": "2023-08-24T18:42:02.058182Z"
    },
    "papermill": {
     "duration": 0.076154,
     "end_time": "2023-08-24T18:42:02.061059",
     "exception": false,
     "start_time": "2023-08-24T18:42:01.984905",
     "status": "completed"
    },
    "tags": []
   },
   "outputs": [
    {
     "data": {
      "text/plain": [
       "25"
      ]
     },
     "execution_count": 127,
     "metadata": {},
     "output_type": "execute_result"
    }
   ],
   "source": [
    "5 ** 2"
   ]
  },
  {
   "cell_type": "code",
   "execution_count": 128,
   "id": "2ddf74f9",
   "metadata": {
    "execution": {
     "iopub.execute_input": "2023-08-24T18:42:02.202839Z",
     "iopub.status.busy": "2023-08-24T18:42:02.202046Z",
     "iopub.status.idle": "2023-08-24T18:42:02.208306Z",
     "shell.execute_reply": "2023-08-24T18:42:02.207334Z"
    },
    "papermill": {
     "duration": 0.079265,
     "end_time": "2023-08-24T18:42:02.210246",
     "exception": false,
     "start_time": "2023-08-24T18:42:02.130981",
     "status": "completed"
    },
    "tags": []
   },
   "outputs": [
    {
     "data": {
      "text/plain": [
       "3"
      ]
     },
     "execution_count": 128,
     "metadata": {},
     "output_type": "execute_result"
    }
   ],
   "source": [
    "7 // 2"
   ]
  },
  {
   "cell_type": "code",
   "execution_count": 129,
   "id": "9d64da18",
   "metadata": {
    "execution": {
     "iopub.execute_input": "2023-08-24T18:42:02.348438Z",
     "iopub.status.busy": "2023-08-24T18:42:02.347637Z",
     "iopub.status.idle": "2023-08-24T18:42:02.353855Z",
     "shell.execute_reply": "2023-08-24T18:42:02.353004Z"
    },
    "papermill": {
     "duration": 0.078786,
     "end_time": "2023-08-24T18:42:02.355762",
     "exception": false,
     "start_time": "2023-08-24T18:42:02.276976",
     "status": "completed"
    },
    "tags": []
   },
   "outputs": [
    {
     "data": {
      "text/plain": [
       "'/kaggle/working'"
      ]
     },
     "execution_count": 129,
     "metadata": {},
     "output_type": "execute_result"
    }
   ],
   "source": [
    "pwd"
   ]
  },
  {
   "cell_type": "markdown",
   "id": "d7e9cdf5",
   "metadata": {
    "execution": {
     "iopub.execute_input": "2023-08-19T18:06:32.653755Z",
     "iopub.status.busy": "2023-08-19T18:06:32.653333Z",
     "iopub.status.idle": "2023-08-19T18:06:32.857071Z",
     "shell.execute_reply": "2023-08-19T18:06:32.854898Z",
     "shell.execute_reply.started": "2023-08-19T18:06:32.653729Z"
    },
    "papermill": {
     "duration": 0.066145,
     "end_time": "2023-08-24T18:42:02.487973",
     "exception": false,
     "start_time": "2023-08-24T18:42:02.421828",
     "status": "completed"
    },
    "tags": []
   },
   "source": [
    "file = open(\"example.txt\", \"r\")\n",
    "content = file.read()\n",
    "print(content)\n",
    "file.close()"
   ]
  },
  {
   "cell_type": "code",
   "execution_count": 130,
   "id": "91e38ba5",
   "metadata": {
    "execution": {
     "iopub.execute_input": "2023-08-24T18:42:02.625238Z",
     "iopub.status.busy": "2023-08-24T18:42:02.624269Z",
     "iopub.status.idle": "2023-08-24T18:42:02.671621Z",
     "shell.execute_reply": "2023-08-24T18:42:02.670645Z"
    },
    "papermill": {
     "duration": 0.118698,
     "end_time": "2023-08-24T18:42:02.674131",
     "exception": false,
     "start_time": "2023-08-24T18:42:02.555433",
     "status": "completed"
    },
    "tags": []
   },
   "outputs": [
    {
     "data": {
      "text/html": [
       "<div>\n",
       "<style scoped>\n",
       "    .dataframe tbody tr th:only-of-type {\n",
       "        vertical-align: middle;\n",
       "    }\n",
       "\n",
       "    .dataframe tbody tr th {\n",
       "        vertical-align: top;\n",
       "    }\n",
       "\n",
       "    .dataframe thead th {\n",
       "        text-align: right;\n",
       "    }\n",
       "</style>\n",
       "<table border=\"1\" class=\"dataframe\">\n",
       "  <thead>\n",
       "    <tr style=\"text-align: right;\">\n",
       "      <th></th>\n",
       "      <th>No.</th>\n",
       "      <th>Company</th>\n",
       "      <th>Sector</th>\n",
       "      <th>Entry Valuation^^ ($B)</th>\n",
       "      <th>Valuation ($B)</th>\n",
       "      <th>Entry</th>\n",
       "      <th>Location</th>\n",
       "      <th>Select Investors</th>\n",
       "    </tr>\n",
       "  </thead>\n",
       "  <tbody>\n",
       "    <tr>\n",
       "      <th>0</th>\n",
       "      <td>1</td>\n",
       "      <td>InMobi</td>\n",
       "      <td>Adtech - Mobile Ads</td>\n",
       "      <td>1.00</td>\n",
       "      <td>1.00</td>\n",
       "      <td>Sep/2011</td>\n",
       "      <td>Bangalore/Singapore</td>\n",
       "      <td>KPCB, Sherpalo Ventures, SoftBank</td>\n",
       "    </tr>\n",
       "    <tr>\n",
       "      <th>1</th>\n",
       "      <td>2</td>\n",
       "      <td>Flipkart^</td>\n",
       "      <td>E-Commerce</td>\n",
       "      <td>1.00</td>\n",
       "      <td>37.60</td>\n",
       "      <td>Feb/2012</td>\n",
       "      <td>Bangalore/Singapore</td>\n",
       "      <td>Accel, Tiger Global, Naspers, SoftBank, Tencent</td>\n",
       "    </tr>\n",
       "    <tr>\n",
       "      <th>2</th>\n",
       "      <td>3</td>\n",
       "      <td>Mu Sigma</td>\n",
       "      <td>SaaS - Analytics</td>\n",
       "      <td>1.00</td>\n",
       "      <td>1.50</td>\n",
       "      <td>Feb/2013</td>\n",
       "      <td>Bangalore/Chicago</td>\n",
       "      <td>Accel, Sequoia Capital, General Atlantic</td>\n",
       "    </tr>\n",
       "    <tr>\n",
       "      <th>3</th>\n",
       "      <td>4</td>\n",
       "      <td>Snapdeal*</td>\n",
       "      <td>E-Commerce</td>\n",
       "      <td>1.80</td>\n",
       "      <td>2.40</td>\n",
       "      <td>Oct/2014</td>\n",
       "      <td>Delhi</td>\n",
       "      <td>Kalaari Capital, Nexus Ventures, Bessemer, Sof...</td>\n",
       "    </tr>\n",
       "    <tr>\n",
       "      <th>4</th>\n",
       "      <td>5</td>\n",
       "      <td>PayTM^</td>\n",
       "      <td>Fintech - Payments &amp; Wallet</td>\n",
       "      <td>1.70</td>\n",
       "      <td>16.00</td>\n",
       "      <td>Feb/2015</td>\n",
       "      <td>Noida</td>\n",
       "      <td>Saama Capital, Elevation Capital, Alibaba, Ber...</td>\n",
       "    </tr>\n",
       "    <tr>\n",
       "      <th>...</th>\n",
       "      <td>...</td>\n",
       "      <td>...</td>\n",
       "      <td>...</td>\n",
       "      <td>...</td>\n",
       "      <td>...</td>\n",
       "      <td>...</td>\n",
       "      <td>...</td>\n",
       "      <td>...</td>\n",
       "    </tr>\n",
       "    <tr>\n",
       "      <th>97</th>\n",
       "      <td>98</td>\n",
       "      <td>Purplle</td>\n",
       "      <td>E-Commerce - Personal Care &amp; Cosmetics</td>\n",
       "      <td>1.10</td>\n",
       "      <td>1.10</td>\n",
       "      <td>Jun/2022</td>\n",
       "      <td>Mumbai</td>\n",
       "      <td>JSW Ventures, IvyCap Ventures, Blume Ventures,...</td>\n",
       "    </tr>\n",
       "    <tr>\n",
       "      <th>98</th>\n",
       "      <td>99</td>\n",
       "      <td>Leadsquared</td>\n",
       "      <td>SaaS - CRM</td>\n",
       "      <td>1.00</td>\n",
       "      <td>1.00</td>\n",
       "      <td>Jun/2022</td>\n",
       "      <td>Bangalore</td>\n",
       "      <td>Stakeboat Capital, Gaja Capital, WestBridge</td>\n",
       "    </tr>\n",
       "    <tr>\n",
       "      <th>99</th>\n",
       "      <td>100</td>\n",
       "      <td>OneCard</td>\n",
       "      <td>Fintech - Credit Cards</td>\n",
       "      <td>1.30</td>\n",
       "      <td>1.30</td>\n",
       "      <td>Jul/2022</td>\n",
       "      <td>Pune</td>\n",
       "      <td>QED Investors, Matrix Partners India, Sequoia ...</td>\n",
       "    </tr>\n",
       "    <tr>\n",
       "      <th>100</th>\n",
       "      <td>101</td>\n",
       "      <td>Shiprocket</td>\n",
       "      <td>Aggregator - Logistics Services</td>\n",
       "      <td>1.23</td>\n",
       "      <td>1.23</td>\n",
       "      <td>Aug/2022</td>\n",
       "      <td>Delhi</td>\n",
       "      <td>Lightrock India, Info Edge, Tribe Capital, Tem...</td>\n",
       "    </tr>\n",
       "    <tr>\n",
       "      <th>101</th>\n",
       "      <td>102</td>\n",
       "      <td>Molbio Diagnostics</td>\n",
       "      <td>Healthtech - Diagnostics</td>\n",
       "      <td>1.53</td>\n",
       "      <td>1.53</td>\n",
       "      <td>Sep/2022</td>\n",
       "      <td>Goa</td>\n",
       "      <td>Temasek, Motilal Oswal</td>\n",
       "    </tr>\n",
       "  </tbody>\n",
       "</table>\n",
       "<p>102 rows × 8 columns</p>\n",
       "</div>"
      ],
      "text/plain": [
       "     No.             Company                                  Sector  \\\n",
       "0      1              InMobi                     Adtech - Mobile Ads   \n",
       "1      2           Flipkart^                              E-Commerce   \n",
       "2      3            Mu Sigma                        SaaS - Analytics   \n",
       "3      4           Snapdeal*                              E-Commerce   \n",
       "4      5              PayTM^             Fintech - Payments & Wallet   \n",
       "..   ...                 ...                                     ...   \n",
       "97    98             Purplle  E-Commerce - Personal Care & Cosmetics   \n",
       "98    99         Leadsquared                              SaaS - CRM   \n",
       "99   100             OneCard                  Fintech - Credit Cards   \n",
       "100  101          Shiprocket         Aggregator - Logistics Services   \n",
       "101  102  Molbio Diagnostics                Healthtech - Diagnostics   \n",
       "\n",
       "     Entry Valuation^^ ($B)  Valuation ($B)     Entry             Location  \\\n",
       "0                      1.00            1.00  Sep/2011  Bangalore/Singapore   \n",
       "1                      1.00           37.60  Feb/2012  Bangalore/Singapore   \n",
       "2                      1.00            1.50  Feb/2013    Bangalore/Chicago   \n",
       "3                      1.80            2.40  Oct/2014                Delhi   \n",
       "4                      1.70           16.00  Feb/2015                Noida   \n",
       "..                      ...             ...       ...                  ...   \n",
       "97                     1.10            1.10  Jun/2022               Mumbai   \n",
       "98                     1.00            1.00  Jun/2022            Bangalore   \n",
       "99                     1.30            1.30  Jul/2022                 Pune   \n",
       "100                    1.23            1.23  Aug/2022                Delhi   \n",
       "101                    1.53            1.53  Sep/2022                  Goa   \n",
       "\n",
       "                                      Select Investors  \n",
       "0                    KPCB, Sherpalo Ventures, SoftBank  \n",
       "1      Accel, Tiger Global, Naspers, SoftBank, Tencent  \n",
       "2             Accel, Sequoia Capital, General Atlantic  \n",
       "3    Kalaari Capital, Nexus Ventures, Bessemer, Sof...  \n",
       "4    Saama Capital, Elevation Capital, Alibaba, Ber...  \n",
       "..                                                 ...  \n",
       "97   JSW Ventures, IvyCap Ventures, Blume Ventures,...  \n",
       "98         Stakeboat Capital, Gaja Capital, WestBridge  \n",
       "99   QED Investors, Matrix Partners India, Sequoia ...  \n",
       "100  Lightrock India, Info Edge, Tribe Capital, Tem...  \n",
       "101                             Temasek, Motilal Oswal  \n",
       "\n",
       "[102 rows x 8 columns]"
      ]
     },
     "execution_count": 130,
     "metadata": {},
     "output_type": "execute_result"
    }
   ],
   "source": [
    "\n",
    "a = pd.read_csv(\"/kaggle/input/indian-unicorn-startups-2023-june-updated/Indian Unicorn startups 2023 updated.csv\")\n",
    "a"
   ]
  },
  {
   "cell_type": "code",
   "execution_count": 131,
   "id": "6ee12239",
   "metadata": {
    "execution": {
     "iopub.execute_input": "2023-08-24T18:42:02.821413Z",
     "iopub.status.busy": "2023-08-24T18:42:02.820619Z",
     "iopub.status.idle": "2023-08-24T18:42:02.827464Z",
     "shell.execute_reply": "2023-08-24T18:42:02.826538Z"
    },
    "papermill": {
     "duration": 0.081379,
     "end_time": "2023-08-24T18:42:02.829454",
     "exception": false,
     "start_time": "2023-08-24T18:42:02.748075",
     "status": "completed"
    },
    "tags": []
   },
   "outputs": [
    {
     "data": {
      "text/plain": [
       "[2, 3, 4, 5, 11]"
      ]
     },
     "execution_count": 131,
     "metadata": {},
     "output_type": "execute_result"
    }
   ],
   "source": [
    "numbers = [11, 2, 3, 4, 5]\n",
    "numbers.sort()\n",
    "numbers"
   ]
  },
  {
   "cell_type": "code",
   "execution_count": 132,
   "id": "a708d532",
   "metadata": {
    "execution": {
     "iopub.execute_input": "2023-08-24T18:42:02.978165Z",
     "iopub.status.busy": "2023-08-24T18:42:02.977345Z",
     "iopub.status.idle": "2023-08-24T18:42:02.984549Z",
     "shell.execute_reply": "2023-08-24T18:42:02.983501Z"
    },
    "papermill": {
     "duration": 0.082398,
     "end_time": "2023-08-24T18:42:02.986708",
     "exception": false,
     "start_time": "2023-08-24T18:42:02.904310",
     "status": "completed"
    },
    "tags": []
   },
   "outputs": [
    {
     "data": {
      "text/plain": [
       "[5, 4, 3, 2, 11]"
      ]
     },
     "execution_count": 132,
     "metadata": {},
     "output_type": "execute_result"
    }
   ],
   "source": [
    "numbers = [11, 2, 3, 4, 5]\n",
    "numbers.reverse()\n",
    "numbers"
   ]
  },
  {
   "cell_type": "code",
   "execution_count": 133,
   "id": "fac84907",
   "metadata": {
    "execution": {
     "iopub.execute_input": "2023-08-24T18:42:03.134992Z",
     "iopub.status.busy": "2023-08-24T18:42:03.134723Z",
     "iopub.status.idle": "2023-08-24T18:42:03.140137Z",
     "shell.execute_reply": "2023-08-24T18:42:03.138934Z"
    },
    "papermill": {
     "duration": 0.082034,
     "end_time": "2023-08-24T18:42:03.142593",
     "exception": false,
     "start_time": "2023-08-24T18:42:03.060559",
     "status": "completed"
    },
    "tags": []
   },
   "outputs": [
    {
     "name": "stdout",
     "output_type": "stream",
     "text": [
      "Local Name\n",
      "Local Name\n"
     ]
    }
   ],
   "source": [
    "name = \"Global Name\"\n",
    "\n",
    "def shadow_example():\n",
    "    global name\n",
    "    name = \"Local Name\"\n",
    "    print(name)\n",
    "\n",
    "shadow_example()  # Output: Local Name\n",
    "\n",
    "print(name)    "
   ]
  },
  {
   "cell_type": "code",
   "execution_count": 134,
   "id": "885ff1f9",
   "metadata": {
    "execution": {
     "iopub.execute_input": "2023-08-24T18:42:03.282640Z",
     "iopub.status.busy": "2023-08-24T18:42:03.281669Z",
     "iopub.status.idle": "2023-08-24T18:42:03.289256Z",
     "shell.execute_reply": "2023-08-24T18:42:03.287853Z"
    },
    "papermill": {
     "duration": 0.080072,
     "end_time": "2023-08-24T18:42:03.291446",
     "exception": false,
     "start_time": "2023-08-24T18:42:03.211374",
     "status": "completed"
    },
    "tags": []
   },
   "outputs": [
    {
     "name": "stdout",
     "output_type": "stream",
     "text": [
      "{1, 2, 3, 4, 5, 6} {3, 4} {1, 2}\n"
     ]
    }
   ],
   "source": [
    "set1 = {1, 2, 3, 4}\n",
    "set2 = {3, 4, 5, 6}\n",
    "\n",
    "union_set = set1.union(set2)\n",
    "intersection_set = set1.intersection(set2)\n",
    "difference_set = set1.difference(set2) \n",
    "print(union_set,intersection_set ,difference_set)"
   ]
  },
  {
   "cell_type": "code",
   "execution_count": 135,
   "id": "85f7d59b",
   "metadata": {
    "execution": {
     "iopub.execute_input": "2023-08-24T18:42:03.446008Z",
     "iopub.status.busy": "2023-08-24T18:42:03.444532Z",
     "iopub.status.idle": "2023-08-24T18:42:03.451383Z",
     "shell.execute_reply": "2023-08-24T18:42:03.450324Z"
    },
    "papermill": {
     "duration": 0.086333,
     "end_time": "2023-08-24T18:42:03.453632",
     "exception": false,
     "start_time": "2023-08-24T18:42:03.367299",
     "status": "completed"
    },
    "tags": []
   },
   "outputs": [
    {
     "data": {
      "text/plain": [
       "{1, 2}"
      ]
     },
     "execution_count": 135,
     "metadata": {},
     "output_type": "execute_result"
    }
   ],
   "source": [
    "a = {1,2}\n",
    "a"
   ]
  },
  {
   "cell_type": "code",
   "execution_count": 136,
   "id": "dca1d90c",
   "metadata": {
    "execution": {
     "iopub.execute_input": "2023-08-24T18:42:03.593925Z",
     "iopub.status.busy": "2023-08-24T18:42:03.593182Z",
     "iopub.status.idle": "2023-08-24T18:42:03.599699Z",
     "shell.execute_reply": "2023-08-24T18:42:03.598514Z"
    },
    "papermill": {
     "duration": 0.076928,
     "end_time": "2023-08-24T18:42:03.601562",
     "exception": false,
     "start_time": "2023-08-24T18:42:03.524634",
     "status": "completed"
    },
    "tags": []
   },
   "outputs": [
    {
     "name": "stdout",
     "output_type": "stream",
     "text": [
      "{1, 2, 3, 4, 5, 6} {3, 4} {5, 6}\n"
     ]
    }
   ],
   "source": [
    "set1 = {1, 2, 3, 4}\n",
    "set2 = {3, 4, 5, 6}\n",
    "\n",
    "union_set = set1.union(set2)\n",
    "intersection_set = set1.intersection(set2)\n",
    "difference_set = set2.difference(set1)\n",
    "print(union_set,intersection_set ,difference_set)"
   ]
  },
  {
   "cell_type": "code",
   "execution_count": 137,
   "id": "51945ce4",
   "metadata": {
    "execution": {
     "iopub.execute_input": "2023-08-24T18:42:03.740695Z",
     "iopub.status.busy": "2023-08-24T18:42:03.740216Z",
     "iopub.status.idle": "2023-08-24T18:42:03.748201Z",
     "shell.execute_reply": "2023-08-24T18:42:03.746335Z"
    },
    "papermill": {
     "duration": 0.081075,
     "end_time": "2023-08-24T18:42:03.750938",
     "exception": false,
     "start_time": "2023-08-24T18:42:03.669863",
     "status": "completed"
    },
    "tags": []
   },
   "outputs": [
    {
     "name": "stdout",
     "output_type": "stream",
     "text": [
      "        1 \n",
      "      2 1 2 \n",
      "    3 2 1 2 3 \n",
      "  4 3 2 1 2 3 4 \n",
      "5 4 3 2 1 2 3 4 5 \n"
     ]
    }
   ],
   "source": [
    "for i in range(5):\n",
    "    print(\" \"* (2*(4- int(i))),end=\"\")\n",
    "    for j in range(i+1,0,-1):\n",
    "        print(j,end= \" \")\n",
    "    for k in range (i):\n",
    "        print(k+2,end=\" \")\n",
    "    print()"
   ]
  },
  {
   "cell_type": "code",
   "execution_count": 138,
   "id": "b71e713b",
   "metadata": {
    "execution": {
     "iopub.execute_input": "2023-08-24T18:42:03.896313Z",
     "iopub.status.busy": "2023-08-24T18:42:03.895445Z",
     "iopub.status.idle": "2023-08-24T18:42:03.902114Z",
     "shell.execute_reply": "2023-08-24T18:42:03.901179Z"
    },
    "papermill": {
     "duration": 0.082984,
     "end_time": "2023-08-24T18:42:03.904227",
     "exception": false,
     "start_time": "2023-08-24T18:42:03.821243",
     "status": "completed"
    },
    "tags": []
   },
   "outputs": [
    {
     "data": {
      "text/plain": [
       "'i am &&a good &&boy'"
      ]
     },
     "execution_count": 138,
     "metadata": {},
     "output_type": "execute_result"
    }
   ],
   "source": [
    "a = \"i am ,a good ,boy\"\n",
    "b = a.split(',')\n",
    "\"&&\".join(b)"
   ]
  },
  {
   "cell_type": "code",
   "execution_count": null,
   "id": "a7081867",
   "metadata": {
    "papermill": {
     "duration": 0.068981,
     "end_time": "2023-08-24T18:42:04.045236",
     "exception": false,
     "start_time": "2023-08-24T18:42:03.976255",
     "status": "completed"
    },
    "tags": []
   },
   "outputs": [],
   "source": []
  },
  {
   "cell_type": "markdown",
   "id": "5f6734bd",
   "metadata": {
    "papermill": {
     "duration": 0.071918,
     "end_time": "2023-08-24T18:42:04.186996",
     "exception": false,
     "start_time": "2023-08-24T18:42:04.115078",
     "status": "completed"
    },
    "tags": []
   },
   "source": [
    "        1\n",
    "      2 1 2\n",
    "    3 2 1 2 3\n",
    "  4 3 2 1 2 3 4\n",
    "5 4 3 2 1 2 3 4 5 "
   ]
  },
  {
   "cell_type": "code",
   "execution_count": 139,
   "id": "c5a13570",
   "metadata": {
    "execution": {
     "iopub.execute_input": "2023-08-24T18:42:04.323759Z",
     "iopub.status.busy": "2023-08-24T18:42:04.322892Z",
     "iopub.status.idle": "2023-08-24T18:42:04.328548Z",
     "shell.execute_reply": "2023-08-24T18:42:04.327546Z"
    },
    "papermill": {
     "duration": 0.076649,
     "end_time": "2023-08-24T18:42:04.330607",
     "exception": false,
     "start_time": "2023-08-24T18:42:04.253958",
     "status": "completed"
    },
    "tags": []
   },
   "outputs": [
    {
     "name": "stdout",
     "output_type": "stream",
     "text": [
      "1\n",
      "2\n",
      "3\n",
      "4\n",
      "5\n"
     ]
    }
   ],
   "source": [
    "for i  in range(5):\n",
    "    print(i+1)"
   ]
  },
  {
   "cell_type": "code",
   "execution_count": 140,
   "id": "1be70edd",
   "metadata": {
    "execution": {
     "iopub.execute_input": "2023-08-24T18:42:04.469934Z",
     "iopub.status.busy": "2023-08-24T18:42:04.469625Z",
     "iopub.status.idle": "2023-08-24T18:42:04.474414Z",
     "shell.execute_reply": "2023-08-24T18:42:04.473560Z"
    },
    "papermill": {
     "duration": 0.078226,
     "end_time": "2023-08-24T18:42:04.476644",
     "exception": false,
     "start_time": "2023-08-24T18:42:04.398418",
     "status": "completed"
    },
    "tags": []
   },
   "outputs": [
    {
     "name": "stdout",
     "output_type": "stream",
     "text": [
      "5\n",
      "4\n",
      "3\n",
      "2\n",
      "1\n"
     ]
    }
   ],
   "source": [
    "for i in range(5,0,-1):\n",
    "    print(i)"
   ]
  },
  {
   "cell_type": "code",
   "execution_count": 141,
   "id": "e6f02cb4",
   "metadata": {
    "execution": {
     "iopub.execute_input": "2023-08-24T18:42:04.618423Z",
     "iopub.status.busy": "2023-08-24T18:42:04.618133Z",
     "iopub.status.idle": "2023-08-24T18:42:04.622976Z",
     "shell.execute_reply": "2023-08-24T18:42:04.622027Z"
    },
    "papermill": {
     "duration": 0.07889,
     "end_time": "2023-08-24T18:42:04.625393",
     "exception": false,
     "start_time": "2023-08-24T18:42:04.546503",
     "status": "completed"
    },
    "tags": []
   },
   "outputs": [
    {
     "name": "stdout",
     "output_type": "stream",
     "text": [
      "mlv\n"
     ]
    }
   ],
   "source": [
    "print(\"mlv\")"
   ]
  },
  {
   "cell_type": "code",
   "execution_count": 142,
   "id": "899dfde5",
   "metadata": {
    "execution": {
     "iopub.execute_input": "2023-08-24T18:42:04.770057Z",
     "iopub.status.busy": "2023-08-24T18:42:04.769202Z",
     "iopub.status.idle": "2023-08-24T18:42:04.775949Z",
     "shell.execute_reply": "2023-08-24T18:42:04.774984Z"
    },
    "papermill": {
     "duration": 0.080083,
     "end_time": "2023-08-24T18:42:04.778093",
     "exception": false,
     "start_time": "2023-08-24T18:42:04.698010",
     "status": "completed"
    },
    "tags": []
   },
   "outputs": [
    {
     "data": {
      "text/plain": [
       "'najar ahsa'"
      ]
     },
     "execution_count": 142,
     "metadata": {},
     "output_type": "execute_result"
    }
   ],
   "source": [
    "ans = \"asha rajan\"\n",
    "ans[::-1]"
   ]
  },
  {
   "cell_type": "code",
   "execution_count": 143,
   "id": "758df526",
   "metadata": {
    "execution": {
     "iopub.execute_input": "2023-08-24T18:42:04.926195Z",
     "iopub.status.busy": "2023-08-24T18:42:04.925245Z",
     "iopub.status.idle": "2023-08-24T18:42:04.931250Z",
     "shell.execute_reply": "2023-08-24T18:42:04.929894Z"
    },
    "papermill": {
     "duration": 0.086305,
     "end_time": "2023-08-24T18:42:04.933294",
     "exception": false,
     "start_time": "2023-08-24T18:42:04.846989",
     "status": "completed"
    },
    "tags": []
   },
   "outputs": [
    {
     "name": "stdout",
     "output_type": "stream",
     "text": [
      "0\n",
      "1\n",
      "2\n",
      "3\n",
      "4\n"
     ]
    }
   ],
   "source": [
    "for i in range(5):\n",
    "    print(i)"
   ]
  },
  {
   "cell_type": "code",
   "execution_count": 144,
   "id": "1a412389",
   "metadata": {
    "execution": {
     "iopub.execute_input": "2023-08-24T18:42:05.075502Z",
     "iopub.status.busy": "2023-08-24T18:42:05.074614Z",
     "iopub.status.idle": "2023-08-24T18:42:05.080491Z",
     "shell.execute_reply": "2023-08-24T18:42:05.079540Z"
    },
    "papermill": {
     "duration": 0.078946,
     "end_time": "2023-08-24T18:42:05.082468",
     "exception": false,
     "start_time": "2023-08-24T18:42:05.003522",
     "status": "completed"
    },
    "tags": []
   },
   "outputs": [
    {
     "name": "stdout",
     "output_type": "stream",
     "text": [
      "5\n",
      "4\n",
      "3\n",
      "2\n",
      "1\n"
     ]
    }
   ],
   "source": [
    "for i in range(5,0,-1) :\n",
    "    print(i)"
   ]
  },
  {
   "cell_type": "code",
   "execution_count": 145,
   "id": "3a754028",
   "metadata": {
    "execution": {
     "iopub.execute_input": "2023-08-24T18:42:05.223311Z",
     "iopub.status.busy": "2023-08-24T18:42:05.222576Z",
     "iopub.status.idle": "2023-08-24T18:42:05.229332Z",
     "shell.execute_reply": "2023-08-24T18:42:05.228187Z"
    },
    "papermill": {
     "duration": 0.078866,
     "end_time": "2023-08-24T18:42:05.231285",
     "exception": false,
     "start_time": "2023-08-24T18:42:05.152419",
     "status": "completed"
    },
    "tags": []
   },
   "outputs": [
    {
     "data": {
      "text/plain": [
       "15"
      ]
     },
     "execution_count": 145,
     "metadata": {},
     "output_type": "execute_result"
    }
   ],
   "source": [
    "def add (x,y) :  \n",
    "    return x + y\n",
    "add(7,8)"
   ]
  },
  {
   "cell_type": "code",
   "execution_count": 146,
   "id": "9bc2fff4",
   "metadata": {
    "execution": {
     "iopub.execute_input": "2023-08-24T18:42:05.373307Z",
     "iopub.status.busy": "2023-08-24T18:42:05.372995Z",
     "iopub.status.idle": "2023-08-24T18:42:05.378234Z",
     "shell.execute_reply": "2023-08-24T18:42:05.377313Z"
    },
    "papermill": {
     "duration": 0.081384,
     "end_time": "2023-08-24T18:42:05.380836",
     "exception": false,
     "start_time": "2023-08-24T18:42:05.299452",
     "status": "completed"
    },
    "tags": []
   },
   "outputs": [
    {
     "name": "stdout",
     "output_type": "stream",
     "text": [
      "15\n"
     ]
    }
   ],
   "source": [
    "add = lambda x,y  : x + y \n",
    "\n",
    "b = add(7,8)\n",
    "print(b)"
   ]
  },
  {
   "cell_type": "code",
   "execution_count": 147,
   "id": "fef8bc9c",
   "metadata": {
    "execution": {
     "iopub.execute_input": "2023-08-24T18:42:05.527123Z",
     "iopub.status.busy": "2023-08-24T18:42:05.526807Z",
     "iopub.status.idle": "2023-08-24T18:42:05.531980Z",
     "shell.execute_reply": "2023-08-24T18:42:05.531018Z"
    },
    "papermill": {
     "duration": 0.080648,
     "end_time": "2023-08-24T18:42:05.534546",
     "exception": false,
     "start_time": "2023-08-24T18:42:05.453898",
     "status": "completed"
    },
    "tags": []
   },
   "outputs": [
    {
     "name": "stdout",
     "output_type": "stream",
     "text": [
      "15\n"
     ]
    }
   ],
   "source": [
    "x = lambda a : a + 10\n",
    "print(x(5))"
   ]
  },
  {
   "cell_type": "code",
   "execution_count": 148,
   "id": "53a57f4e",
   "metadata": {
    "execution": {
     "iopub.execute_input": "2023-08-24T18:42:05.681280Z",
     "iopub.status.busy": "2023-08-24T18:42:05.680447Z",
     "iopub.status.idle": "2023-08-24T18:42:05.686954Z",
     "shell.execute_reply": "2023-08-24T18:42:05.685907Z"
    },
    "papermill": {
     "duration": 0.080029,
     "end_time": "2023-08-24T18:42:05.689016",
     "exception": false,
     "start_time": "2023-08-24T18:42:05.608987",
     "status": "completed"
    },
    "tags": []
   },
   "outputs": [
    {
     "data": {
      "text/plain": [
       "35"
      ]
     },
     "execution_count": 148,
     "metadata": {},
     "output_type": "execute_result"
    }
   ],
   "source": [
    "x = lambda a : a + 10\n",
    "x(25)"
   ]
  },
  {
   "cell_type": "code",
   "execution_count": 149,
   "id": "cfd4b458",
   "metadata": {
    "execution": {
     "iopub.execute_input": "2023-08-24T18:42:05.830825Z",
     "iopub.status.busy": "2023-08-24T18:42:05.829915Z",
     "iopub.status.idle": "2023-08-24T18:42:05.836643Z",
     "shell.execute_reply": "2023-08-24T18:42:05.835690Z"
    },
    "papermill": {
     "duration": 0.080664,
     "end_time": "2023-08-24T18:42:05.838579",
     "exception": false,
     "start_time": "2023-08-24T18:42:05.757915",
     "status": "completed"
    },
    "tags": []
   },
   "outputs": [
    {
     "data": {
      "text/plain": [
       "30"
      ]
     },
     "execution_count": 149,
     "metadata": {},
     "output_type": "execute_result"
    }
   ],
   "source": [
    "x = lambda a, b : a * b\n",
    "x(5, 6)"
   ]
  },
  {
   "cell_type": "code",
   "execution_count": 150,
   "id": "578f11c9",
   "metadata": {
    "execution": {
     "iopub.execute_input": "2023-08-24T18:42:05.986721Z",
     "iopub.status.busy": "2023-08-24T18:42:05.985845Z",
     "iopub.status.idle": "2023-08-24T18:42:05.991751Z",
     "shell.execute_reply": "2023-08-24T18:42:05.990515Z"
    },
    "papermill": {
     "duration": 0.081968,
     "end_time": "2023-08-24T18:42:05.993854",
     "exception": false,
     "start_time": "2023-08-24T18:42:05.911886",
     "status": "completed"
    },
    "tags": []
   },
   "outputs": [
    {
     "name": "stdout",
     "output_type": "stream",
     "text": [
      "13\n"
     ]
    }
   ],
   "source": [
    "x = lambda a, b, c : a + b + c\n",
    "print(x(5, 6, 2))"
   ]
  },
  {
   "cell_type": "code",
   "execution_count": 151,
   "id": "ed211bd7",
   "metadata": {
    "execution": {
     "iopub.execute_input": "2023-08-24T18:42:06.144066Z",
     "iopub.status.busy": "2023-08-24T18:42:06.143493Z",
     "iopub.status.idle": "2023-08-24T18:42:06.147490Z",
     "shell.execute_reply": "2023-08-24T18:42:06.146540Z"
    },
    "papermill": {
     "duration": 0.082871,
     "end_time": "2023-08-24T18:42:06.149470",
     "exception": false,
     "start_time": "2023-08-24T18:42:06.066599",
     "status": "completed"
    },
    "tags": []
   },
   "outputs": [],
   "source": [
    "# def myfunc(n):\n",
    "#   return lambda a : a * n\n",
    "\n",
    "# mydoubler = lambda a : a * 2 \n",
    "\n",
    "# print(mydoubler(11))"
   ]
  },
  {
   "cell_type": "code",
   "execution_count": 152,
   "id": "219078c6",
   "metadata": {
    "execution": {
     "iopub.execute_input": "2023-08-24T18:42:06.290664Z",
     "iopub.status.busy": "2023-08-24T18:42:06.289894Z",
     "iopub.status.idle": "2023-08-24T18:42:06.294241Z",
     "shell.execute_reply": "2023-08-24T18:42:06.293419Z"
    },
    "papermill": {
     "duration": 0.076304,
     "end_time": "2023-08-24T18:42:06.296124",
     "exception": false,
     "start_time": "2023-08-24T18:42:06.219820",
     "status": "completed"
    },
    "tags": []
   },
   "outputs": [],
   "source": [
    "# def myfunc(n):\n",
    "#   return lambda a : a * n\n",
    "\n",
    "# mydoubler = lambda a : a * 2\n",
    "\n",
    "# print(mydoubler(11))"
   ]
  },
  {
   "cell_type": "code",
   "execution_count": 153,
   "id": "fccc5728",
   "metadata": {
    "execution": {
     "iopub.execute_input": "2023-08-24T18:42:06.435932Z",
     "iopub.status.busy": "2023-08-24T18:42:06.435201Z",
     "iopub.status.idle": "2023-08-24T18:42:06.441454Z",
     "shell.execute_reply": "2023-08-24T18:42:06.440591Z"
    },
    "papermill": {
     "duration": 0.077844,
     "end_time": "2023-08-24T18:42:06.443435",
     "exception": false,
     "start_time": "2023-08-24T18:42:06.365591",
     "status": "completed"
    },
    "tags": []
   },
   "outputs": [
    {
     "name": "stdout",
     "output_type": "stream",
     "text": [
      "22\n"
     ]
    }
   ],
   "source": [
    "def myfunc(n):\n",
    "  return lambda a : a * n\n",
    "\n",
    "mydoubler = myfunc(2)\n",
    "\n",
    "print(mydoubler(11))"
   ]
  },
  {
   "cell_type": "code",
   "execution_count": 154,
   "id": "ad66c573",
   "metadata": {
    "execution": {
     "iopub.execute_input": "2023-08-24T18:42:06.585045Z",
     "iopub.status.busy": "2023-08-24T18:42:06.584245Z",
     "iopub.status.idle": "2023-08-24T18:42:06.588421Z",
     "shell.execute_reply": "2023-08-24T18:42:06.587501Z"
    },
    "papermill": {
     "duration": 0.07829,
     "end_time": "2023-08-24T18:42:06.590418",
     "exception": false,
     "start_time": "2023-08-24T18:42:06.512128",
     "status": "completed"
    },
    "tags": []
   },
   "outputs": [],
   "source": [
    "# def myfunc(n):\n",
    "#   return lambda a : a * n\n",
    "\n",
    "# mydoubler = lambda a : a * 2\n",
    "# mytripler = lambda a : a * 3\n",
    "\n",
    "# print(mydoubler(11))\n",
    "# print(mytripler(11))"
   ]
  },
  {
   "cell_type": "code",
   "execution_count": 155,
   "id": "f488eba9",
   "metadata": {
    "execution": {
     "iopub.execute_input": "2023-08-24T18:42:06.736230Z",
     "iopub.status.busy": "2023-08-24T18:42:06.735368Z",
     "iopub.status.idle": "2023-08-24T18:42:06.741289Z",
     "shell.execute_reply": "2023-08-24T18:42:06.740390Z"
    },
    "papermill": {
     "duration": 0.081712,
     "end_time": "2023-08-24T18:42:06.743745",
     "exception": false,
     "start_time": "2023-08-24T18:42:06.662033",
     "status": "completed"
    },
    "tags": []
   },
   "outputs": [
    {
     "name": "stdout",
     "output_type": "stream",
     "text": [
      "22\n",
      "33\n"
     ]
    }
   ],
   "source": [
    "def myfunc(n):\n",
    "  return lambda a : a * n\n",
    "\n",
    "mydoubler = myfunc(2)\n",
    "mytripler = myfunc(3)\n",
    "\n",
    "print(mydoubler(11))\n",
    "print(mytripler(11))\n"
   ]
  },
  {
   "cell_type": "code",
   "execution_count": 156,
   "id": "1985917b",
   "metadata": {
    "execution": {
     "iopub.execute_input": "2023-08-24T18:42:06.896760Z",
     "iopub.status.busy": "2023-08-24T18:42:06.894957Z",
     "iopub.status.idle": "2023-08-24T18:42:06.901140Z",
     "shell.execute_reply": "2023-08-24T18:42:06.900169Z"
    },
    "papermill": {
     "duration": 0.08578,
     "end_time": "2023-08-24T18:42:06.903403",
     "exception": false,
     "start_time": "2023-08-24T18:42:06.817623",
     "status": "completed"
    },
    "tags": []
   },
   "outputs": [],
   "source": [
    "class fashion():\n",
    "    design = \"pattern design by yasmin \"\n",
    "    designer = \"yasmin\"\n",
    "    def color(self,choosecolour) :\n",
    "        print(\"kurtha is in  \",choosecolour)\n",
    "   "
   ]
  },
  {
   "cell_type": "code",
   "execution_count": 157,
   "id": "c2f7cc40",
   "metadata": {
    "execution": {
     "iopub.execute_input": "2023-08-24T18:42:07.053413Z",
     "iopub.status.busy": "2023-08-24T18:42:07.053138Z",
     "iopub.status.idle": "2023-08-24T18:42:07.060080Z",
     "shell.execute_reply": "2023-08-24T18:42:07.058894Z"
    },
    "papermill": {
     "duration": 0.081662,
     "end_time": "2023-08-24T18:42:07.062105",
     "exception": false,
     "start_time": "2023-08-24T18:42:06.980443",
     "status": "completed"
    },
    "tags": []
   },
   "outputs": [
    {
     "name": "stdout",
     "output_type": "stream",
     "text": [
      "kurtha is in   red\n"
     ]
    },
    {
     "data": {
      "text/plain": [
       "'pattern design by yasmin '"
      ]
     },
     "execution_count": 157,
     "metadata": {},
     "output_type": "execute_result"
    }
   ],
   "source": [
    "anusha = fashion()\n",
    "anusha.color(\"red\")\n",
    "anusha.designer\n",
    "anusha.design"
   ]
  },
  {
   "cell_type": "code",
   "execution_count": 158,
   "id": "2a9ae15c",
   "metadata": {
    "execution": {
     "iopub.execute_input": "2023-08-24T18:42:07.211880Z",
     "iopub.status.busy": "2023-08-24T18:42:07.211577Z",
     "iopub.status.idle": "2023-08-24T18:42:07.215554Z",
     "shell.execute_reply": "2023-08-24T18:42:07.214667Z"
    },
    "papermill": {
     "duration": 0.0848,
     "end_time": "2023-08-24T18:42:07.217616",
     "exception": false,
     "start_time": "2023-08-24T18:42:07.132816",
     "status": "completed"
    },
    "tags": []
   },
   "outputs": [],
   "source": [
    "#anbhu = sharmahouse()\n",
    "#anbhu.style(\"red\")"
   ]
  },
  {
   "cell_type": "code",
   "execution_count": 159,
   "id": "0afab95f",
   "metadata": {
    "execution": {
     "iopub.execute_input": "2023-08-24T18:42:07.360632Z",
     "iopub.status.busy": "2023-08-24T18:42:07.359225Z",
     "iopub.status.idle": "2023-08-24T18:42:07.367970Z",
     "shell.execute_reply": "2023-08-24T18:42:07.367011Z"
    },
    "papermill": {
     "duration": 0.082437,
     "end_time": "2023-08-24T18:42:07.370330",
     "exception": false,
     "start_time": "2023-08-24T18:42:07.287893",
     "status": "completed"
    },
    "tags": []
   },
   "outputs": [
    {
     "data": {
      "text/plain": [
       "'italian'"
      ]
     },
     "execution_count": 159,
     "metadata": {},
     "output_type": "execute_result"
    }
   ],
   "source": [
    "class Sharmadesign :\n",
    "    design = \"italian\"\n",
    "    \n",
    "    def __init__(self, color, size):\n",
    "        self.style = color \n",
    "        self.area = size\n",
    "\n",
    "    def beauty(self):\n",
    "        print(\"my house is a \",self.style ,\" and \",self.area)\n",
    "\n",
    "anbhu = Sharmadesign(\"red\", 100)\n",
    "anusha = Sharmadesign(\"blue\", 30)\n",
    "\n",
    "anbhu.design = \"japanese\"\n",
    "del anbhu.design\n",
    "anbhu.design"
   ]
  },
  {
   "cell_type": "code",
   "execution_count": 160,
   "id": "84899249",
   "metadata": {
    "execution": {
     "iopub.execute_input": "2023-08-24T18:42:07.515826Z",
     "iopub.status.busy": "2023-08-24T18:42:07.515003Z",
     "iopub.status.idle": "2023-08-24T18:42:07.519788Z",
     "shell.execute_reply": "2023-08-24T18:42:07.518925Z"
    },
    "papermill": {
     "duration": 0.080018,
     "end_time": "2023-08-24T18:42:07.521750",
     "exception": false,
     "start_time": "2023-08-24T18:42:07.441732",
     "status": "completed"
    },
    "tags": []
   },
   "outputs": [],
   "source": [
    "for i in range(5):\n",
    "    pass\n"
   ]
  },
  {
   "cell_type": "code",
   "execution_count": 161,
   "id": "48ae2e72",
   "metadata": {
    "execution": {
     "iopub.execute_input": "2023-08-24T18:42:07.667928Z",
     "iopub.status.busy": "2023-08-24T18:42:07.667150Z",
     "iopub.status.idle": "2023-08-24T18:42:07.672183Z",
     "shell.execute_reply": "2023-08-24T18:42:07.671194Z"
    },
    "papermill": {
     "duration": 0.079471,
     "end_time": "2023-08-24T18:42:07.674374",
     "exception": false,
     "start_time": "2023-08-24T18:42:07.594903",
     "status": "completed"
    },
    "tags": []
   },
   "outputs": [],
   "source": [
    "class sharma :\n",
    "    def size() :\n",
    "        print(\"aa\") \n",
    "    def area() :\n",
    "        pass"
   ]
  },
  {
   "cell_type": "code",
   "execution_count": 162,
   "id": "d6afbec8",
   "metadata": {
    "execution": {
     "iopub.execute_input": "2023-08-24T18:42:07.816569Z",
     "iopub.status.busy": "2023-08-24T18:42:07.815647Z",
     "iopub.status.idle": "2023-08-24T18:42:07.821704Z",
     "shell.execute_reply": "2023-08-24T18:42:07.820425Z"
    },
    "papermill": {
     "duration": 0.079265,
     "end_time": "2023-08-24T18:42:07.823600",
     "exception": false,
     "start_time": "2023-08-24T18:42:07.744335",
     "status": "completed"
    },
    "tags": []
   },
   "outputs": [
    {
     "name": "stdout",
     "output_type": "stream",
     "text": [
      "Adult\n"
     ]
    }
   ],
   "source": [
    "age = 18\n",
    "status = \"Adult\" if age >= 18 else \"Minor\"\n",
    "print(status)  # Output: Adult"
   ]
  },
  {
   "cell_type": "code",
   "execution_count": 163,
   "id": "71cc73bf",
   "metadata": {
    "execution": {
     "iopub.execute_input": "2023-08-24T18:42:07.967216Z",
     "iopub.status.busy": "2023-08-24T18:42:07.965789Z",
     "iopub.status.idle": "2023-08-24T18:42:07.971886Z",
     "shell.execute_reply": "2023-08-24T18:42:07.970720Z"
    },
    "papermill": {
     "duration": 0.080628,
     "end_time": "2023-08-24T18:42:07.973844",
     "exception": false,
     "start_time": "2023-08-24T18:42:07.893216",
     "status": "completed"
    },
    "tags": []
   },
   "outputs": [
    {
     "name": "stdout",
     "output_type": "stream",
     "text": [
      "Adult\n"
     ]
    }
   ],
   "source": [
    "age = 18\n",
    "if age >=  18:\n",
    "    status = \"Adult\"\n",
    "else  :\n",
    "    status = \"Minor\"\n",
    "print(status)"
   ]
  },
  {
   "cell_type": "code",
   "execution_count": 164,
   "id": "1b81218a",
   "metadata": {
    "execution": {
     "iopub.execute_input": "2023-08-24T18:42:08.116405Z",
     "iopub.status.busy": "2023-08-24T18:42:08.115022Z",
     "iopub.status.idle": "2023-08-24T18:42:08.120970Z",
     "shell.execute_reply": "2023-08-24T18:42:08.119842Z"
    },
    "papermill": {
     "duration": 0.079317,
     "end_time": "2023-08-24T18:42:08.122882",
     "exception": false,
     "start_time": "2023-08-24T18:42:08.043565",
     "status": "completed"
    },
    "tags": []
   },
   "outputs": [
    {
     "name": "stdout",
     "output_type": "stream",
     "text": [
      "[16]\n"
     ]
    }
   ],
   "source": [
    "numbers = [1, 2, 3, 4, 5]\n",
    "squared = [i ** 2 for i in numbers if i > 3  if i < 5]\n",
    "print(squared)  "
   ]
  },
  {
   "cell_type": "code",
   "execution_count": 165,
   "id": "befcddf6",
   "metadata": {
    "execution": {
     "iopub.execute_input": "2023-08-24T18:42:08.270896Z",
     "iopub.status.busy": "2023-08-24T18:42:08.270317Z",
     "iopub.status.idle": "2023-08-24T18:42:08.277881Z",
     "shell.execute_reply": "2023-08-24T18:42:08.276912Z"
    },
    "papermill": {
     "duration": 0.08308,
     "end_time": "2023-08-24T18:42:08.279843",
     "exception": false,
     "start_time": "2023-08-24T18:42:08.196763",
     "status": "completed"
    },
    "tags": []
   },
   "outputs": [
    {
     "data": {
      "text/plain": [
       "[16]"
      ]
     },
     "execution_count": 165,
     "metadata": {},
     "output_type": "execute_result"
    }
   ],
   "source": [
    "numbers = [1, 2, 3, 4, 5]\n",
    "squared = []\n",
    "for i in numbers :\n",
    "    if i > 3 : \n",
    "        if i < 5 :\n",
    "            squared.append(i**2)\n",
    "squared\n",
    "    "
   ]
  },
  {
   "cell_type": "markdown",
   "id": "5f4e153a",
   "metadata": {
    "execution": {
     "iopub.execute_input": "2023-08-24T15:17:55.457068Z",
     "iopub.status.busy": "2023-08-24T15:17:55.456184Z"
    },
    "papermill": {
     "duration": 0.069561,
     "end_time": "2023-08-24T18:42:08.420347",
     "exception": false,
     "start_time": "2023-08-24T18:42:08.350786",
     "status": "completed"
    },
    "tags": []
   },
   "source": [
    "# def count_up_to(limit):\n",
    "    num = 1\n",
    "    while num <= limit:\n",
    "        yield num\n",
    "        num += 1\n",
    "\n",
    "numbers = count_up_to(1000000)\n",
    "for num in numbers:\n",
    "    print(num)  # Output: 1, 2, 3, 4, 5"
   ]
  },
  {
   "cell_type": "code",
   "execution_count": 166,
   "id": "2f30557f",
   "metadata": {
    "execution": {
     "iopub.execute_input": "2023-08-24T18:42:08.561733Z",
     "iopub.status.busy": "2023-08-24T18:42:08.560934Z",
     "iopub.status.idle": "2023-08-24T18:42:08.567929Z",
     "shell.execute_reply": "2023-08-24T18:42:08.566943Z"
    },
    "papermill": {
     "duration": 0.080245,
     "end_time": "2023-08-24T18:42:08.570366",
     "exception": false,
     "start_time": "2023-08-24T18:42:08.490121",
     "status": "completed"
    },
    "tags": []
   },
   "outputs": [
    {
     "data": {
      "text/plain": [
       "6"
      ]
     },
     "execution_count": 166,
     "metadata": {},
     "output_type": "execute_result"
    }
   ],
   "source": [
    "def count_up_to(limit):\n",
    "    num = 1\n",
    "    while num <= limit:\n",
    "        \n",
    "        num += 1\n",
    "    return num\n",
    "\n",
    "numbers = count_up_to(5)\n",
    "# for num in numbers:\n",
    "#     print(num)  # Output: 1, 2, 3, 4, 5\n",
    "numbers"
   ]
  },
  {
   "cell_type": "code",
   "execution_count": 167,
   "id": "251717a3",
   "metadata": {
    "execution": {
     "iopub.execute_input": "2023-08-24T18:42:08.712169Z",
     "iopub.status.busy": "2023-08-24T18:42:08.711905Z",
     "iopub.status.idle": "2023-08-24T18:42:08.717308Z",
     "shell.execute_reply": "2023-08-24T18:42:08.716347Z"
    },
    "papermill": {
     "duration": 0.081583,
     "end_time": "2023-08-24T18:42:08.720756",
     "exception": false,
     "start_time": "2023-08-24T18:42:08.639173",
     "status": "completed"
    },
    "tags": []
   },
   "outputs": [
    {
     "name": "stdout",
     "output_type": "stream",
     "text": [
      "3\n",
      "2\n",
      "1\n"
     ]
    }
   ],
   "source": [
    "def countdown(start):\n",
    "    while start > 0:\n",
    "        yield start\n",
    "        start -= 1\n",
    "\n",
    "count = countdown(3)\n",
    "for num in count:\n",
    "    print(num)  # Output: 3, 2, 1"
   ]
  },
  {
   "cell_type": "code",
   "execution_count": null,
   "id": "ee48daa8",
   "metadata": {
    "papermill": {
     "duration": 0.078399,
     "end_time": "2023-08-24T18:42:08.874547",
     "exception": false,
     "start_time": "2023-08-24T18:42:08.796148",
     "status": "completed"
    },
    "tags": []
   },
   "outputs": [],
   "source": []
  },
  {
   "cell_type": "code",
   "execution_count": 168,
   "id": "6ed524fa",
   "metadata": {
    "execution": {
     "iopub.execute_input": "2023-08-24T18:42:09.038020Z",
     "iopub.status.busy": "2023-08-24T18:42:09.037675Z",
     "iopub.status.idle": "2023-08-24T18:42:09.043028Z",
     "shell.execute_reply": "2023-08-24T18:42:09.042093Z"
    },
    "papermill": {
     "duration": 0.085052,
     "end_time": "2023-08-24T18:42:09.045523",
     "exception": false,
     "start_time": "2023-08-24T18:42:08.960471",
     "status": "completed"
    },
    "tags": []
   },
   "outputs": [
    {
     "name": "stdout",
     "output_type": "stream",
     "text": [
      "1\n",
      "4\n",
      "9\n",
      "16\n",
      "25\n"
     ]
    }
   ],
   "source": [
    "squares = (x ** 2 for x in range(1, 6))\n",
    "for square in squares:\n",
    "    print(square)  # Output: 1, 4, 9, 16, 25"
   ]
  },
  {
   "cell_type": "code",
   "execution_count": null,
   "id": "71280017",
   "metadata": {
    "papermill": {
     "duration": 0.133551,
     "end_time": "2023-08-24T18:42:09.251585",
     "exception": false,
     "start_time": "2023-08-24T18:42:09.118034",
     "status": "completed"
    },
    "tags": []
   },
   "outputs": [],
   "source": []
  },
  {
   "cell_type": "code",
   "execution_count": 169,
   "id": "bec7d880",
   "metadata": {
    "execution": {
     "iopub.execute_input": "2023-08-24T18:42:09.400089Z",
     "iopub.status.busy": "2023-08-24T18:42:09.399753Z",
     "iopub.status.idle": "2023-08-24T18:42:09.405810Z",
     "shell.execute_reply": "2023-08-24T18:42:09.404836Z"
    },
    "papermill": {
     "duration": 0.082341,
     "end_time": "2023-08-24T18:42:09.408496",
     "exception": false,
     "start_time": "2023-08-24T18:42:09.326155",
     "status": "completed"
    },
    "tags": []
   },
   "outputs": [
    {
     "name": "stdout",
     "output_type": "stream",
     "text": [
      "sharma\n",
      "35\n"
     ]
    }
   ],
   "source": [
    "class avs:\n",
    "    def __init__(self,name,age):\n",
    "        self.name = name\n",
    "        self.age = age\n",
    "        \n",
    "x =  avs(\"sharma\",35)\n",
    "print(x.name)\n",
    "print(x.age)"
   ]
  },
  {
   "cell_type": "code",
   "execution_count": 170,
   "id": "03ef79e1",
   "metadata": {
    "execution": {
     "iopub.execute_input": "2023-08-24T18:42:09.556010Z",
     "iopub.status.busy": "2023-08-24T18:42:09.555125Z",
     "iopub.status.idle": "2023-08-24T18:42:09.559773Z",
     "shell.execute_reply": "2023-08-24T18:42:09.558883Z"
    },
    "papermill": {
     "duration": 0.083616,
     "end_time": "2023-08-24T18:42:09.561859",
     "exception": false,
     "start_time": "2023-08-24T18:42:09.478243",
     "status": "completed"
    },
    "tags": []
   },
   "outputs": [],
   "source": [
    "# a = [10 ,15 ,17,20]\n",
    "\n",
    "# ans = list (filter(lambda x : x %2 , a ))\n",
    "# ans"
   ]
  },
  {
   "cell_type": "code",
   "execution_count": 171,
   "id": "8ca74464",
   "metadata": {
    "execution": {
     "iopub.execute_input": "2023-08-24T18:42:09.709961Z",
     "iopub.status.busy": "2023-08-24T18:42:09.709159Z",
     "iopub.status.idle": "2023-08-24T18:42:09.715607Z",
     "shell.execute_reply": "2023-08-24T18:42:09.714625Z"
    },
    "papermill": {
     "duration": 0.081019,
     "end_time": "2023-08-24T18:42:09.717604",
     "exception": false,
     "start_time": "2023-08-24T18:42:09.636585",
     "status": "completed"
    },
    "tags": []
   },
   "outputs": [
    {
     "data": {
      "text/plain": [
       "__main__.sharma"
      ]
     },
     "execution_count": 171,
     "metadata": {},
     "output_type": "execute_result"
    }
   ],
   "source": [
    "ans = [ 10, 20 , 30]\n",
    "\n",
    "sharma "
   ]
  },
  {
   "cell_type": "code",
   "execution_count": 172,
   "id": "b6037cfe",
   "metadata": {
    "execution": {
     "iopub.execute_input": "2023-08-24T18:42:09.864778Z",
     "iopub.status.busy": "2023-08-24T18:42:09.863966Z",
     "iopub.status.idle": "2023-08-24T18:42:09.870096Z",
     "shell.execute_reply": "2023-08-24T18:42:09.868864Z"
    },
    "papermill": {
     "duration": 0.08311,
     "end_time": "2023-08-24T18:42:09.872112",
     "exception": false,
     "start_time": "2023-08-24T18:42:09.789002",
     "status": "completed"
    },
    "tags": []
   },
   "outputs": [
    {
     "name": "stdout",
     "output_type": "stream",
     "text": [
      "yes\n"
     ]
    }
   ],
   "source": [
    "a = 10 \n",
    "\n",
    "\n",
    "if a > 5 :\n",
    "    print(\"yes\")\n",
    "else :\n",
    "    print(\"no\")"
   ]
  },
  {
   "cell_type": "code",
   "execution_count": 173,
   "id": "d143772a",
   "metadata": {
    "execution": {
     "iopub.execute_input": "2023-08-24T18:42:10.019591Z",
     "iopub.status.busy": "2023-08-24T18:42:10.018792Z",
     "iopub.status.idle": "2023-08-24T18:42:10.025230Z",
     "shell.execute_reply": "2023-08-24T18:42:10.024284Z"
    },
    "papermill": {
     "duration": 0.081468,
     "end_time": "2023-08-24T18:42:10.027277",
     "exception": false,
     "start_time": "2023-08-24T18:42:09.945809",
     "status": "completed"
    },
    "tags": []
   },
   "outputs": [
    {
     "data": {
      "text/plain": [
       "'yes'"
      ]
     },
     "execution_count": 173,
     "metadata": {},
     "output_type": "execute_result"
    }
   ],
   "source": [
    "a = 10\n",
    "sharma = \"yes\"  if a > 5 else  \"no\"\n",
    "sharma"
   ]
  },
  {
   "cell_type": "code",
   "execution_count": 174,
   "id": "6a8645f8",
   "metadata": {
    "execution": {
     "iopub.execute_input": "2023-08-24T18:42:10.177285Z",
     "iopub.status.busy": "2023-08-24T18:42:10.176371Z",
     "iopub.status.idle": "2023-08-24T18:42:10.182868Z",
     "shell.execute_reply": "2023-08-24T18:42:10.181906Z"
    },
    "papermill": {
     "duration": 0.085546,
     "end_time": "2023-08-24T18:42:10.184929",
     "exception": false,
     "start_time": "2023-08-24T18:42:10.099383",
     "status": "completed"
    },
    "tags": []
   },
   "outputs": [
    {
     "data": {
      "text/plain": [
       "30"
      ]
     },
     "execution_count": 174,
     "metadata": {},
     "output_type": "execute_result"
    }
   ],
   "source": [
    "anbhu = lambda x,y  :  x+ y\n",
    "anbhu(10,20)"
   ]
  },
  {
   "cell_type": "code",
   "execution_count": 175,
   "id": "4df349a5",
   "metadata": {
    "execution": {
     "iopub.execute_input": "2023-08-24T18:42:10.328457Z",
     "iopub.status.busy": "2023-08-24T18:42:10.327658Z",
     "iopub.status.idle": "2023-08-24T18:42:10.334633Z",
     "shell.execute_reply": "2023-08-24T18:42:10.333304Z"
    },
    "papermill": {
     "duration": 0.080614,
     "end_time": "2023-08-24T18:42:10.336603",
     "exception": false,
     "start_time": "2023-08-24T18:42:10.255989",
     "status": "completed"
    },
    "tags": []
   },
   "outputs": [
    {
     "name": "stdout",
     "output_type": "stream",
     "text": [
      "Original arrays:\n",
      "[1, 2, 3, 5, 7, 8, 9, 10]\n",
      "[1, 2, 4, 8, 9]\n",
      "\n",
      "Intersection of the said arrays:  [1, 2, 8, 9]\n"
     ]
    }
   ],
   "source": [
    "array_nums1 = [1, 2, 3, 5, 7, 8, 9, 10]\n",
    "array_nums2 = [1, 2, 4, 8, 9]\n",
    "print(\"Original arrays:\")\n",
    "print(array_nums1)\n",
    "print(array_nums2)\n",
    "result = list(filter(lambda x: x in array_nums1, array_nums2)) \n",
    "print (\"\\nIntersection of the said arrays: \",result)\n"
   ]
  },
  {
   "cell_type": "code",
   "execution_count": 176,
   "id": "169a23ca",
   "metadata": {
    "execution": {
     "iopub.execute_input": "2023-08-24T18:42:10.487390Z",
     "iopub.status.busy": "2023-08-24T18:42:10.487113Z",
     "iopub.status.idle": "2023-08-24T18:42:10.491186Z",
     "shell.execute_reply": "2023-08-24T18:42:10.490225Z"
    },
    "papermill": {
     "duration": 0.082739,
     "end_time": "2023-08-24T18:42:10.493274",
     "exception": false,
     "start_time": "2023-08-24T18:42:10.410535",
     "status": "completed"
    },
    "tags": []
   },
   "outputs": [],
   "source": [
    "# class myfunc():\n",
    "#     z = 300\n",
    "#     def myinnerfunc():\n",
    "#         print(z)\n",
    "#     myinnerfunc()\n",
    "\n",
    "# myfunc()\n"
   ]
  },
  {
   "cell_type": "code",
   "execution_count": 177,
   "id": "3a9e4901",
   "metadata": {
    "execution": {
     "iopub.execute_input": "2023-08-24T18:42:10.637026Z",
     "iopub.status.busy": "2023-08-24T18:42:10.636422Z",
     "iopub.status.idle": "2023-08-24T18:42:10.647406Z",
     "shell.execute_reply": "2023-08-24T18:42:10.646521Z"
    },
    "papermill": {
     "duration": 0.084256,
     "end_time": "2023-08-24T18:42:10.649323",
     "exception": false,
     "start_time": "2023-08-24T18:42:10.565067",
     "status": "completed"
    },
    "tags": []
   },
   "outputs": [
    {
     "data": {
      "text/plain": [
       "'2023 result is very good'"
      ]
     },
     "execution_count": 177,
     "metadata": {},
     "output_type": "execute_result"
    }
   ],
   "source": [
    "class exam :\n",
    "    sharmastd = 90\n",
    "    ashastd   = 80 \n",
    "    anushastd = 75\n",
    "    anbhustd = 90 \n",
    "    student =  [\"asha\",\"sharma\",\"anusha\",\"anbhu\"]\n",
    "    \n",
    "    def __init__ (self,given,studentname  ):\n",
    "        self.mlvmarks  = given\n",
    "        self.result = studentname + \"has got \" + str(self.mlvmarks)\n",
    "        self.studentname = studentname\n",
    "        self.student1 = [\"asha\",\"sharma\",\"anusha\",\"anbhu\"]\n",
    "        self.marks =   [80,90,75,90] \n",
    "        \n",
    "    def review(self,year) :\n",
    "        for i in range(len(self.student)) :\n",
    "            if self.student1[i] == self.studentname :                 \n",
    "                if self.mlvmarks >  self.marks[i] :\n",
    "                    return str(year) + \" result is very good\" \n",
    "                else :\n",
    "                    return str(year)  + \" result is rewrite exam\"\n",
    "                \n",
    "anusharesult = exam(80,\"anusha\")\n",
    "anusharesult.review(2023)\n",
    "\n",
    "# anbhuresult = exam(65,\"anbhu\")\n",
    "# print(anusharesult.mlvmarks,\" \",anusharesult.anushastd,\" \" ,anusharesult.result,\" \",anusharesult.review())\n",
    "# print(anbhuresult.mlvmarks,\" \",anbhuresult.anbhustd,\" \" ,anbhuresult.result,\" \",anbhuresult.review())"
   ]
  },
  {
   "cell_type": "code",
   "execution_count": 178,
   "id": "a82c635b",
   "metadata": {
    "execution": {
     "iopub.execute_input": "2023-08-24T18:42:10.794699Z",
     "iopub.status.busy": "2023-08-24T18:42:10.793823Z",
     "iopub.status.idle": "2023-08-24T18:42:10.798022Z",
     "shell.execute_reply": "2023-08-24T18:42:10.797220Z"
    },
    "papermill": {
     "duration": 0.079193,
     "end_time": "2023-08-24T18:42:10.799935",
     "exception": false,
     "start_time": "2023-08-24T18:42:10.720742",
     "status": "completed"
    },
    "tags": []
   },
   "outputs": [],
   "source": [
    "# def anbhu(self) :\n",
    "#         print(\"good girl\")\n",
    "# ans = self.anbhu()"
   ]
  },
  {
   "cell_type": "code",
   "execution_count": 179,
   "id": "bd0f18b5",
   "metadata": {
    "execution": {
     "iopub.execute_input": "2023-08-24T18:42:10.948067Z",
     "iopub.status.busy": "2023-08-24T18:42:10.947431Z",
     "iopub.status.idle": "2023-08-24T18:42:10.955740Z",
     "shell.execute_reply": "2023-08-24T18:42:10.954850Z"
    },
    "papermill": {
     "duration": 0.085554,
     "end_time": "2023-08-24T18:42:10.957603",
     "exception": false,
     "start_time": "2023-08-24T18:42:10.872049",
     "status": "completed"
    },
    "tags": []
   },
   "outputs": [
    {
     "data": {
      "text/plain": [
       "90"
      ]
     },
     "execution_count": 179,
     "metadata": {},
     "output_type": "execute_result"
    }
   ],
   "source": [
    "class area:\n",
    "    asha = 90\n",
    "\n",
    "    def __init__(self,l,b = 50):\n",
    "        self.length=l\n",
    "        self.breadth=b\n",
    "    def area_rec(self): \n",
    "        print('length='+str(self.length))\n",
    "        print('breadth='+str(self.breadth))\n",
    "    def display(self,aa):\n",
    "        print(self.length*self.breadth*aa)\n",
    "    def area_square(self,p,q):\n",
    "        print(p*q)\n",
    "# i1 = int(input()) \n",
    "# i2 = int(input())\n",
    "a=area(10)\n",
    "# a.area_rec()\n",
    "a.asha\n",
    "# a.display()"
   ]
  },
  {
   "cell_type": "code",
   "execution_count": 180,
   "id": "473315d3",
   "metadata": {
    "execution": {
     "iopub.execute_input": "2023-08-24T18:42:11.100669Z",
     "iopub.status.busy": "2023-08-24T18:42:11.099828Z",
     "iopub.status.idle": "2023-08-24T18:42:11.106841Z",
     "shell.execute_reply": "2023-08-24T18:42:11.105909Z"
    },
    "papermill": {
     "duration": 0.079981,
     "end_time": "2023-08-24T18:42:11.108768",
     "exception": false,
     "start_time": "2023-08-24T18:42:11.028787",
     "status": "completed"
    },
    "tags": []
   },
   "outputs": [
    {
     "data": {
      "text/plain": [
       "[1, 4, 9, 16]"
      ]
     },
     "execution_count": 180,
     "metadata": {},
     "output_type": "execute_result"
    }
   ],
   "source": [
    "ans = [1,2,3,4]\n",
    "\n",
    "a = [ i**2 for i in ans]\n",
    "a"
   ]
  },
  {
   "cell_type": "code",
   "execution_count": 181,
   "id": "9af43f3c",
   "metadata": {
    "execution": {
     "iopub.execute_input": "2023-08-24T18:42:11.259126Z",
     "iopub.status.busy": "2023-08-24T18:42:11.258855Z",
     "iopub.status.idle": "2023-08-24T18:42:11.265245Z",
     "shell.execute_reply": "2023-08-24T18:42:11.264364Z"
    },
    "papermill": {
     "duration": 0.082019,
     "end_time": "2023-08-24T18:42:11.267380",
     "exception": false,
     "start_time": "2023-08-24T18:42:11.185361",
     "status": "completed"
    },
    "tags": []
   },
   "outputs": [
    {
     "data": {
      "text/plain": [
       "[1, 4, 9, 16]"
      ]
     },
     "execution_count": 181,
     "metadata": {},
     "output_type": "execute_result"
    }
   ],
   "source": [
    "ans = [1,2,3,4]\n",
    "a = [i**2 for i in ans   ]\n",
    "\n",
    "\n",
    "a"
   ]
  },
  {
   "cell_type": "code",
   "execution_count": 182,
   "id": "e4e707bc",
   "metadata": {
    "execution": {
     "iopub.execute_input": "2023-08-24T18:42:11.412308Z",
     "iopub.status.busy": "2023-08-24T18:42:11.411592Z",
     "iopub.status.idle": "2023-08-24T18:42:11.418521Z",
     "shell.execute_reply": "2023-08-24T18:42:11.417552Z"
    },
    "papermill": {
     "duration": 0.08188,
     "end_time": "2023-08-24T18:42:11.420586",
     "exception": false,
     "start_time": "2023-08-24T18:42:11.338706",
     "status": "completed"
    },
    "tags": []
   },
   "outputs": [
    {
     "data": {
      "text/plain": [
       "{1: 1, 2: 4, 3: 9, 4: 16}"
      ]
     },
     "execution_count": 182,
     "metadata": {},
     "output_type": "execute_result"
    }
   ],
   "source": [
    "ans = [1,2,3,4]\n",
    "a = {  x : x**2 for x in ans}\n",
    "a"
   ]
  },
  {
   "cell_type": "code",
   "execution_count": 183,
   "id": "05c402fa",
   "metadata": {
    "execution": {
     "iopub.execute_input": "2023-08-24T18:42:11.574202Z",
     "iopub.status.busy": "2023-08-24T18:42:11.572711Z",
     "iopub.status.idle": "2023-08-24T18:42:11.577460Z",
     "shell.execute_reply": "2023-08-24T18:42:11.576626Z"
    },
    "papermill": {
     "duration": 0.083935,
     "end_time": "2023-08-24T18:42:11.579587",
     "exception": false,
     "start_time": "2023-08-24T18:42:11.495652",
     "status": "completed"
    },
    "tags": []
   },
   "outputs": [],
   "source": [
    "import numpy as np"
   ]
  },
  {
   "cell_type": "code",
   "execution_count": 184,
   "id": "aa73bce8",
   "metadata": {
    "execution": {
     "iopub.execute_input": "2023-08-24T18:42:11.728676Z",
     "iopub.status.busy": "2023-08-24T18:42:11.727806Z",
     "iopub.status.idle": "2023-08-24T18:42:11.734284Z",
     "shell.execute_reply": "2023-08-24T18:42:11.733333Z"
    },
    "papermill": {
     "duration": 0.083452,
     "end_time": "2023-08-24T18:42:11.736380",
     "exception": false,
     "start_time": "2023-08-24T18:42:11.652928",
     "status": "completed"
    },
    "tags": []
   },
   "outputs": [
    {
     "data": {
      "text/plain": [
       "[1, 2, 3]"
      ]
     },
     "execution_count": 184,
     "metadata": {},
     "output_type": "execute_result"
    }
   ],
   "source": [
    "a  = [1,2,3]\n",
    "a"
   ]
  },
  {
   "cell_type": "code",
   "execution_count": 185,
   "id": "5bf07e8a",
   "metadata": {
    "execution": {
     "iopub.execute_input": "2023-08-24T18:42:11.882708Z",
     "iopub.status.busy": "2023-08-24T18:42:11.881988Z",
     "iopub.status.idle": "2023-08-24T18:42:11.888507Z",
     "shell.execute_reply": "2023-08-24T18:42:11.887508Z"
    },
    "papermill": {
     "duration": 0.081168,
     "end_time": "2023-08-24T18:42:11.890398",
     "exception": false,
     "start_time": "2023-08-24T18:42:11.809230",
     "status": "completed"
    },
    "tags": []
   },
   "outputs": [
    {
     "data": {
      "text/plain": [
       "numpy.ndarray"
      ]
     },
     "execution_count": 185,
     "metadata": {},
     "output_type": "execute_result"
    }
   ],
   "source": [
    "b = np.array([1,2,3])\n",
    "type(b )"
   ]
  },
  {
   "cell_type": "code",
   "execution_count": 186,
   "id": "38a6d453",
   "metadata": {
    "execution": {
     "iopub.execute_input": "2023-08-24T18:42:12.041034Z",
     "iopub.status.busy": "2023-08-24T18:42:12.040275Z",
     "iopub.status.idle": "2023-08-24T18:42:12.045800Z",
     "shell.execute_reply": "2023-08-24T18:42:12.044680Z"
    },
    "papermill": {
     "duration": 0.082666,
     "end_time": "2023-08-24T18:42:12.047847",
     "exception": false,
     "start_time": "2023-08-24T18:42:11.965181",
     "status": "completed"
    },
    "tags": []
   },
   "outputs": [
    {
     "name": "stdout",
     "output_type": "stream",
     "text": [
      "1.23.5\n"
     ]
    }
   ],
   "source": [
    "print(np.__version__)"
   ]
  },
  {
   "cell_type": "code",
   "execution_count": 187,
   "id": "f66cabc0",
   "metadata": {
    "execution": {
     "iopub.execute_input": "2023-08-24T18:42:12.203288Z",
     "iopub.status.busy": "2023-08-24T18:42:12.202998Z",
     "iopub.status.idle": "2023-08-24T18:42:12.207581Z",
     "shell.execute_reply": "2023-08-24T18:42:12.206660Z"
    },
    "papermill": {
     "duration": 0.087032,
     "end_time": "2023-08-24T18:42:12.210157",
     "exception": false,
     "start_time": "2023-08-24T18:42:12.123125",
     "status": "completed"
    },
    "tags": []
   },
   "outputs": [
    {
     "name": "stdout",
     "output_type": "stream",
     "text": [
      "1.5.3\n"
     ]
    }
   ],
   "source": [
    "import pandas as pd\n",
    "print(pd.__version__)"
   ]
  },
  {
   "cell_type": "code",
   "execution_count": 188,
   "id": "ab6638af",
   "metadata": {
    "execution": {
     "iopub.execute_input": "2023-08-24T18:42:12.359252Z",
     "iopub.status.busy": "2023-08-24T18:42:12.357737Z",
     "iopub.status.idle": "2023-08-24T18:42:12.364990Z",
     "shell.execute_reply": "2023-08-24T18:42:12.363977Z"
    },
    "papermill": {
     "duration": 0.082084,
     "end_time": "2023-08-24T18:42:12.367161",
     "exception": false,
     "start_time": "2023-08-24T18:42:12.285077",
     "status": "completed"
    },
    "tags": []
   },
   "outputs": [
    {
     "data": {
      "text/plain": [
       "array([1, 2, 3, 4, 5])"
      ]
     },
     "execution_count": 188,
     "metadata": {},
     "output_type": "execute_result"
    }
   ],
   "source": [
    "\n",
    "list_data = [1, 2, 3, 4, 5]\n",
    "asha= np.array(list_data)\n",
    "asha"
   ]
  },
  {
   "cell_type": "code",
   "execution_count": 189,
   "id": "e322bf2e",
   "metadata": {
    "execution": {
     "iopub.execute_input": "2023-08-24T18:42:12.523726Z",
     "iopub.status.busy": "2023-08-24T18:42:12.522892Z",
     "iopub.status.idle": "2023-08-24T18:42:12.530124Z",
     "shell.execute_reply": "2023-08-24T18:42:12.529080Z"
    },
    "papermill": {
     "duration": 0.086008,
     "end_time": "2023-08-24T18:42:12.532757",
     "exception": false,
     "start_time": "2023-08-24T18:42:12.446749",
     "status": "completed"
    },
    "tags": []
   },
   "outputs": [
    {
     "data": {
      "text/plain": [
       "array([[0., 0., 0.],\n",
       "       [0., 0., 0.]])"
      ]
     },
     "execution_count": 189,
     "metadata": {},
     "output_type": "execute_result"
    }
   ],
   "source": [
    "zeros_array = np.zeros((2,3))\n",
    "zeros_array"
   ]
  },
  {
   "cell_type": "code",
   "execution_count": 190,
   "id": "d8c57b6d",
   "metadata": {
    "execution": {
     "iopub.execute_input": "2023-08-24T18:42:12.684363Z",
     "iopub.status.busy": "2023-08-24T18:42:12.683552Z",
     "iopub.status.idle": "2023-08-24T18:42:12.690875Z",
     "shell.execute_reply": "2023-08-24T18:42:12.689855Z"
    },
    "papermill": {
     "duration": 0.083473,
     "end_time": "2023-08-24T18:42:12.692983",
     "exception": false,
     "start_time": "2023-08-24T18:42:12.609510",
     "status": "completed"
    },
    "tags": []
   },
   "outputs": [
    {
     "data": {
      "text/plain": [
       "array([[60., 60., 60.],\n",
       "       [60., 60., 60.]])"
      ]
     },
     "execution_count": 190,
     "metadata": {},
     "output_type": "execute_result"
    }
   ],
   "source": [
    "# np.ones(): \n",
    "#Creates an array filled with ones.\n",
    "\n",
    "ones_array = 60 * np.ones((2, 3)) \n",
    "# creates a 2x3 array filled with ones\n",
    "ones_array"
   ]
  },
  {
   "cell_type": "code",
   "execution_count": 191,
   "id": "917dbfcb",
   "metadata": {
    "execution": {
     "iopub.execute_input": "2023-08-24T18:42:12.843130Z",
     "iopub.status.busy": "2023-08-24T18:42:12.842270Z",
     "iopub.status.idle": "2023-08-24T18:42:12.849225Z",
     "shell.execute_reply": "2023-08-24T18:42:12.848172Z"
    },
    "papermill": {
     "duration": 0.083165,
     "end_time": "2023-08-24T18:42:12.851349",
     "exception": false,
     "start_time": "2023-08-24T18:42:12.768184",
     "status": "completed"
    },
    "tags": []
   },
   "outputs": [
    {
     "data": {
      "text/plain": [
       "array([[60, 60, 60],\n",
       "       [60, 60, 60]])"
      ]
     },
     "execution_count": 191,
     "metadata": {},
     "output_type": "execute_result"
    }
   ],
   "source": [
    "constant_array = np.full((2, 3), 60)  \n",
    "constant_array "
   ]
  },
  {
   "cell_type": "code",
   "execution_count": 192,
   "id": "a4a3d4fb",
   "metadata": {
    "execution": {
     "iopub.execute_input": "2023-08-24T18:42:13.005373Z",
     "iopub.status.busy": "2023-08-24T18:42:13.004604Z",
     "iopub.status.idle": "2023-08-24T18:42:13.010960Z",
     "shell.execute_reply": "2023-08-24T18:42:13.009932Z"
    },
    "papermill": {
     "duration": 0.082733,
     "end_time": "2023-08-24T18:42:13.013039",
     "exception": false,
     "start_time": "2023-08-24T18:42:12.930306",
     "status": "completed"
    },
    "tags": []
   },
   "outputs": [
    {
     "data": {
      "text/plain": [
       "array([0, 2, 4, 6, 8])"
      ]
     },
     "execution_count": 192,
     "metadata": {},
     "output_type": "execute_result"
    }
   ],
   "source": [
    "range_array = np.arange(0, 10, 2) \n",
    "range_array"
   ]
  },
  {
   "cell_type": "code",
   "execution_count": 193,
   "id": "5a3c5d1b",
   "metadata": {
    "execution": {
     "iopub.execute_input": "2023-08-24T18:42:13.164064Z",
     "iopub.status.busy": "2023-08-24T18:42:13.163698Z",
     "iopub.status.idle": "2023-08-24T18:42:13.170878Z",
     "shell.execute_reply": "2023-08-24T18:42:13.169953Z"
    },
    "papermill": {
     "duration": 0.0863,
     "end_time": "2023-08-24T18:42:13.172919",
     "exception": false,
     "start_time": "2023-08-24T18:42:13.086619",
     "status": "completed"
    },
    "tags": []
   },
   "outputs": [
    {
     "data": {
      "text/plain": [
       "array([12., 14., 16., 18., 20., 22.])"
      ]
     },
     "execution_count": 193,
     "metadata": {},
     "output_type": "execute_result"
    }
   ],
   "source": [
    "linspace_array = np.linspace(12,22, 6) \n",
    "linspace_array"
   ]
  },
  {
   "cell_type": "code",
   "execution_count": 194,
   "id": "07971bbd",
   "metadata": {
    "execution": {
     "iopub.execute_input": "2023-08-24T18:42:13.325144Z",
     "iopub.status.busy": "2023-08-24T18:42:13.324415Z",
     "iopub.status.idle": "2023-08-24T18:42:13.330946Z",
     "shell.execute_reply": "2023-08-24T18:42:13.330019Z"
    },
    "papermill": {
     "duration": 0.083309,
     "end_time": "2023-08-24T18:42:13.333120",
     "exception": false,
     "start_time": "2023-08-24T18:42:13.249811",
     "status": "completed"
    },
    "tags": []
   },
   "outputs": [
    {
     "data": {
      "text/plain": [
       "array([[0.28187586, 0.96375039, 0.78950391],\n",
       "       [0.45187099, 0.36880842, 0.99360622],\n",
       "       [0.80796958, 0.44883462, 0.14996737]])"
      ]
     },
     "execution_count": 194,
     "metadata": {},
     "output_type": "execute_result"
    }
   ],
   "source": [
    "random_array =  np.random.rand(3, 3)\n",
    "random_array "
   ]
  },
  {
   "cell_type": "code",
   "execution_count": 195,
   "id": "96312b79",
   "metadata": {
    "execution": {
     "iopub.execute_input": "2023-08-24T18:42:13.489313Z",
     "iopub.status.busy": "2023-08-24T18:42:13.487901Z",
     "iopub.status.idle": "2023-08-24T18:42:13.495352Z",
     "shell.execute_reply": "2023-08-24T18:42:13.494281Z"
    },
    "papermill": {
     "duration": 0.085057,
     "end_time": "2023-08-24T18:42:13.497450",
     "exception": false,
     "start_time": "2023-08-24T18:42:13.412393",
     "status": "completed"
    },
    "tags": []
   },
   "outputs": [
    {
     "data": {
      "text/plain": [
       "array([[76, 75, 88],\n",
       "       [81, 84, 79],\n",
       "       [82, 80, 76]])"
      ]
     },
     "execution_count": 195,
     "metadata": {},
     "output_type": "execute_result"
    }
   ],
   "source": [
    "random_int_array = np.random.randint(70, 90, size=(3, 3)) \n",
    "random_int_array "
   ]
  },
  {
   "cell_type": "code",
   "execution_count": 196,
   "id": "b75263d9",
   "metadata": {
    "execution": {
     "iopub.execute_input": "2023-08-24T18:42:13.656441Z",
     "iopub.status.busy": "2023-08-24T18:42:13.655040Z",
     "iopub.status.idle": "2023-08-24T18:42:13.661889Z",
     "shell.execute_reply": "2023-08-24T18:42:13.660781Z"
    },
    "papermill": {
     "duration": 0.085711,
     "end_time": "2023-08-24T18:42:13.664042",
     "exception": false,
     "start_time": "2023-08-24T18:42:13.578331",
     "status": "completed"
    },
    "tags": []
   },
   "outputs": [
    {
     "data": {
      "text/plain": [
       "(1, 6)"
      ]
     },
     "execution_count": 196,
     "metadata": {},
     "output_type": "execute_result"
    }
   ],
   "source": [
    "arr = np.array([[1, 2, 3, 4, 5, 6]])\n",
    "arr.shape\n",
    "# new_arr = arr.reshape((2, 3))"
   ]
  },
  {
   "cell_type": "code",
   "execution_count": 197,
   "id": "7bbf79c2",
   "metadata": {
    "execution": {
     "iopub.execute_input": "2023-08-24T18:42:13.815700Z",
     "iopub.status.busy": "2023-08-24T18:42:13.814635Z",
     "iopub.status.idle": "2023-08-24T18:42:13.820777Z",
     "shell.execute_reply": "2023-08-24T18:42:13.819817Z"
    },
    "papermill": {
     "duration": 0.084284,
     "end_time": "2023-08-24T18:42:13.823791",
     "exception": false,
     "start_time": "2023-08-24T18:42:13.739507",
     "status": "completed"
    },
    "tags": []
   },
   "outputs": [
    {
     "name": "stdout",
     "output_type": "stream",
     "text": [
      "[[1 2 3 4 5 6]]\n"
     ]
    }
   ],
   "source": [
    "print(arr)"
   ]
  },
  {
   "cell_type": "code",
   "execution_count": 198,
   "id": "ad475829",
   "metadata": {
    "execution": {
     "iopub.execute_input": "2023-08-24T18:42:13.979111Z",
     "iopub.status.busy": "2023-08-24T18:42:13.978498Z",
     "iopub.status.idle": "2023-08-24T18:42:13.984920Z",
     "shell.execute_reply": "2023-08-24T18:42:13.983955Z"
    },
    "papermill": {
     "duration": 0.083887,
     "end_time": "2023-08-24T18:42:13.987094",
     "exception": false,
     "start_time": "2023-08-24T18:42:13.903207",
     "status": "completed"
    },
    "tags": []
   },
   "outputs": [
    {
     "data": {
      "text/plain": [
       "array([[1, 2, 3],\n",
       "       [4, 5, 6]])"
      ]
     },
     "execution_count": 198,
     "metadata": {},
     "output_type": "execute_result"
    }
   ],
   "source": [
    "arr.reshape(2,3)"
   ]
  },
  {
   "cell_type": "code",
   "execution_count": 199,
   "id": "4a4fd207",
   "metadata": {
    "execution": {
     "iopub.execute_input": "2023-08-24T18:42:14.146048Z",
     "iopub.status.busy": "2023-08-24T18:42:14.145727Z",
     "iopub.status.idle": "2023-08-24T18:42:14.152501Z",
     "shell.execute_reply": "2023-08-24T18:42:14.151458Z"
    },
    "papermill": {
     "duration": 0.090499,
     "end_time": "2023-08-24T18:42:14.155109",
     "exception": false,
     "start_time": "2023-08-24T18:42:14.064610",
     "status": "completed"
    },
    "tags": []
   },
   "outputs": [
    {
     "data": {
      "text/plain": [
       "array([[1, 2],\n",
       "       [3, 4],\n",
       "       [5, 6]])"
      ]
     },
     "execution_count": 199,
     "metadata": {},
     "output_type": "execute_result"
    }
   ],
   "source": [
    "arr.reshape(3,2)"
   ]
  },
  {
   "cell_type": "code",
   "execution_count": 200,
   "id": "8869e0d7",
   "metadata": {
    "execution": {
     "iopub.execute_input": "2023-08-24T18:42:14.321104Z",
     "iopub.status.busy": "2023-08-24T18:42:14.320298Z",
     "iopub.status.idle": "2023-08-24T18:42:14.326925Z",
     "shell.execute_reply": "2023-08-24T18:42:14.325962Z"
    },
    "papermill": {
     "duration": 0.087481,
     "end_time": "2023-08-24T18:42:14.329043",
     "exception": false,
     "start_time": "2023-08-24T18:42:14.241562",
     "status": "completed"
    },
    "tags": []
   },
   "outputs": [
    {
     "data": {
      "text/plain": [
       "2"
      ]
     },
     "execution_count": 200,
     "metadata": {},
     "output_type": "execute_result"
    }
   ],
   "source": [
    "#rr.reshape(3,2)\n",
    "arr.ndim"
   ]
  },
  {
   "cell_type": "code",
   "execution_count": 201,
   "id": "ad598605",
   "metadata": {
    "execution": {
     "iopub.execute_input": "2023-08-24T18:42:14.486911Z",
     "iopub.status.busy": "2023-08-24T18:42:14.486154Z",
     "iopub.status.idle": "2023-08-24T18:42:14.493059Z",
     "shell.execute_reply": "2023-08-24T18:42:14.491953Z"
    },
    "papermill": {
     "duration": 0.088052,
     "end_time": "2023-08-24T18:42:14.495418",
     "exception": false,
     "start_time": "2023-08-24T18:42:14.407366",
     "status": "completed"
    },
    "tags": []
   },
   "outputs": [
    {
     "data": {
      "text/plain": [
       "array([1, 2, 3])"
      ]
     },
     "execution_count": 201,
     "metadata": {},
     "output_type": "execute_result"
    }
   ],
   "source": [
    "arr = np.array([1, 2, 3])\n",
    "arr"
   ]
  },
  {
   "cell_type": "code",
   "execution_count": 202,
   "id": "aa706ba3",
   "metadata": {
    "execution": {
     "iopub.execute_input": "2023-08-24T18:42:14.652764Z",
     "iopub.status.busy": "2023-08-24T18:42:14.652391Z",
     "iopub.status.idle": "2023-08-24T18:42:14.659747Z",
     "shell.execute_reply": "2023-08-24T18:42:14.658731Z"
    },
    "papermill": {
     "duration": 0.087077,
     "end_time": "2023-08-24T18:42:14.662226",
     "exception": false,
     "start_time": "2023-08-24T18:42:14.575149",
     "status": "completed"
    },
    "tags": []
   },
   "outputs": [
    {
     "data": {
      "text/plain": [
       "array([1., 2., 3.])"
      ]
     },
     "execution_count": 202,
     "metadata": {},
     "output_type": "execute_result"
    }
   ],
   "source": [
    "arr = np.array([1, 2, 3], dtype=float) \n",
    "arr"
   ]
  },
  {
   "cell_type": "code",
   "execution_count": 203,
   "id": "37c47634",
   "metadata": {
    "execution": {
     "iopub.execute_input": "2023-08-24T18:42:14.834458Z",
     "iopub.status.busy": "2023-08-24T18:42:14.833540Z",
     "iopub.status.idle": "2023-08-24T18:42:14.842326Z",
     "shell.execute_reply": "2023-08-24T18:42:14.841281Z"
    },
    "papermill": {
     "duration": 0.094812,
     "end_time": "2023-08-24T18:42:14.844693",
     "exception": false,
     "start_time": "2023-08-24T18:42:14.749881",
     "status": "completed"
    },
    "tags": []
   },
   "outputs": [
    {
     "data": {
      "text/plain": [
       "array([5, 7, 9])"
      ]
     },
     "execution_count": 203,
     "metadata": {},
     "output_type": "execute_result"
    }
   ],
   "source": [
    "import numpy as np\n",
    "\n",
    "arr1 = np.array([1, 2, 3])\n",
    "arr2 = np.array([4, 5, 6])\n",
    "\n",
    "# Addition\n",
    "result_add = arr1 + arr2\n",
    "result_add\n",
    "\n",
    "# # Subtraction\n",
    "# result_sub = arr1 - arr2\n",
    "\n",
    "# # Multiplication\n",
    "# result_mul = arr1 * arr2\n",
    "\n",
    "# # Division\n",
    "# result_div = arr1 / arr2"
   ]
  },
  {
   "cell_type": "code",
   "execution_count": 204,
   "id": "afbb9c70",
   "metadata": {
    "execution": {
     "iopub.execute_input": "2023-08-24T18:42:15.006741Z",
     "iopub.status.busy": "2023-08-24T18:42:15.005955Z",
     "iopub.status.idle": "2023-08-24T18:42:15.013330Z",
     "shell.execute_reply": "2023-08-24T18:42:15.012307Z"
    },
    "papermill": {
     "duration": 0.087035,
     "end_time": "2023-08-24T18:42:15.015473",
     "exception": false,
     "start_time": "2023-08-24T18:42:14.928438",
     "status": "completed"
    },
    "tags": []
   },
   "outputs": [
    {
     "data": {
      "text/plain": [
       "array([11, 12, 13])"
      ]
     },
     "execution_count": 204,
     "metadata": {},
     "output_type": "execute_result"
    }
   ],
   "source": [
    "arr = np.array([1, 2, 3])\n",
    "\n",
    "arr1  = np.array([10, 10, 10])\n",
    "arr + arr1"
   ]
  },
  {
   "cell_type": "code",
   "execution_count": 205,
   "id": "26b44c40",
   "metadata": {
    "execution": {
     "iopub.execute_input": "2023-08-24T18:42:15.220805Z",
     "iopub.status.busy": "2023-08-24T18:42:15.220426Z",
     "iopub.status.idle": "2023-08-24T18:42:15.227369Z",
     "shell.execute_reply": "2023-08-24T18:42:15.226317Z"
    },
    "papermill": {
     "duration": 0.089665,
     "end_time": "2023-08-24T18:42:15.229431",
     "exception": false,
     "start_time": "2023-08-24T18:42:15.139766",
     "status": "completed"
    },
    "tags": []
   },
   "outputs": [
    {
     "data": {
      "text/plain": [
       "array([11, 12, 13])"
      ]
     },
     "execution_count": 205,
     "metadata": {},
     "output_type": "execute_result"
    }
   ],
   "source": [
    "arr = np.array([1, 2, 3])\n",
    "arr + 10 "
   ]
  },
  {
   "cell_type": "code",
   "execution_count": 206,
   "id": "be00ce53",
   "metadata": {
    "execution": {
     "iopub.execute_input": "2023-08-24T18:42:15.388280Z",
     "iopub.status.busy": "2023-08-24T18:42:15.387557Z",
     "iopub.status.idle": "2023-08-24T18:42:15.394626Z",
     "shell.execute_reply": "2023-08-24T18:42:15.393555Z"
    },
    "papermill": {
     "duration": 0.087175,
     "end_time": "2023-08-24T18:42:15.396889",
     "exception": false,
     "start_time": "2023-08-24T18:42:15.309714",
     "status": "completed"
    },
    "tags": []
   },
   "outputs": [
    {
     "data": {
      "text/plain": [
       "array([ 0,  1,  2,  3,  4,  5,  6,  7,  8,  9, 10, 11])"
      ]
     },
     "execution_count": 206,
     "metadata": {},
     "output_type": "execute_result"
    }
   ],
   "source": [
    "a = np.arange(12)\n",
    "a.reshape(3,4)\n",
    "a\n",
    "# a"
   ]
  },
  {
   "cell_type": "code",
   "execution_count": 207,
   "id": "6d5e95de",
   "metadata": {
    "execution": {
     "iopub.execute_input": "2023-08-24T18:42:15.559016Z",
     "iopub.status.busy": "2023-08-24T18:42:15.557562Z",
     "iopub.status.idle": "2023-08-24T18:42:15.565074Z",
     "shell.execute_reply": "2023-08-24T18:42:15.564047Z"
    },
    "papermill": {
     "duration": 0.087715,
     "end_time": "2023-08-24T18:42:15.567321",
     "exception": false,
     "start_time": "2023-08-24T18:42:15.479606",
     "status": "completed"
    },
    "tags": []
   },
   "outputs": [
    {
     "data": {
      "text/plain": [
       "array([ 0,  1,  2,  3,  4,  5,  6,  7,  8,  9, 10, 11])"
      ]
     },
     "execution_count": 207,
     "metadata": {},
     "output_type": "execute_result"
    }
   ],
   "source": [
    "a = np.arange(12).reshape(2,6)\n",
    "a.resize(6,2)\n",
    "a.flatten()"
   ]
  },
  {
   "cell_type": "code",
   "execution_count": 208,
   "id": "6380f5b6",
   "metadata": {
    "execution": {
     "iopub.execute_input": "2023-08-24T18:42:15.724418Z",
     "iopub.status.busy": "2023-08-24T18:42:15.722911Z",
     "iopub.status.idle": "2023-08-24T18:42:15.731163Z",
     "shell.execute_reply": "2023-08-24T18:42:15.729975Z"
    },
    "papermill": {
     "duration": 0.086719,
     "end_time": "2023-08-24T18:42:15.733647",
     "exception": false,
     "start_time": "2023-08-24T18:42:15.646928",
     "status": "completed"
    },
    "tags": []
   },
   "outputs": [
    {
     "data": {
      "text/plain": [
       "array([[10, 20, 30],\n",
       "       [40, 50, 60],\n",
       "       [70, 80, 90]])"
      ]
     },
     "execution_count": 208,
     "metadata": {},
     "output_type": "execute_result"
    }
   ],
   "source": [
    "sharma = [[10,20,30],[40,50,60],[70,80,90]]\n",
    "sharma = np.array(sharma)\n",
    "sharma"
   ]
  },
  {
   "cell_type": "code",
   "execution_count": 209,
   "id": "42524a55",
   "metadata": {
    "execution": {
     "iopub.execute_input": "2023-08-24T18:42:15.901096Z",
     "iopub.status.busy": "2023-08-24T18:42:15.900450Z",
     "iopub.status.idle": "2023-08-24T18:42:15.906267Z",
     "shell.execute_reply": "2023-08-24T18:42:15.905360Z"
    },
    "papermill": {
     "duration": 0.088412,
     "end_time": "2023-08-24T18:42:15.908683",
     "exception": false,
     "start_time": "2023-08-24T18:42:15.820271",
     "status": "completed"
    },
    "tags": []
   },
   "outputs": [
    {
     "data": {
      "text/plain": [
       "(3, 3)"
      ]
     },
     "execution_count": 209,
     "metadata": {},
     "output_type": "execute_result"
    }
   ],
   "source": [
    "sharma.shape"
   ]
  },
  {
   "cell_type": "code",
   "execution_count": 210,
   "id": "a2ea55ec",
   "metadata": {
    "execution": {
     "iopub.execute_input": "2023-08-24T18:42:16.074221Z",
     "iopub.status.busy": "2023-08-24T18:42:16.073668Z",
     "iopub.status.idle": "2023-08-24T18:42:16.080153Z",
     "shell.execute_reply": "2023-08-24T18:42:16.079241Z"
    },
    "papermill": {
     "duration": 0.092341,
     "end_time": "2023-08-24T18:42:16.082204",
     "exception": false,
     "start_time": "2023-08-24T18:42:15.989863",
     "status": "completed"
    },
    "tags": []
   },
   "outputs": [
    {
     "data": {
      "text/plain": [
       "array([10, 20, 30, 40, 50, 60, 70, 80, 90])"
      ]
     },
     "execution_count": 210,
     "metadata": {},
     "output_type": "execute_result"
    }
   ],
   "source": [
    "sharma.flatten()"
   ]
  },
  {
   "cell_type": "code",
   "execution_count": 211,
   "id": "bb9e5e13",
   "metadata": {
    "execution": {
     "iopub.execute_input": "2023-08-24T18:42:16.242703Z",
     "iopub.status.busy": "2023-08-24T18:42:16.242390Z",
     "iopub.status.idle": "2023-08-24T18:42:16.248587Z",
     "shell.execute_reply": "2023-08-24T18:42:16.247661Z"
    },
    "papermill": {
     "duration": 0.089703,
     "end_time": "2023-08-24T18:42:16.250867",
     "exception": false,
     "start_time": "2023-08-24T18:42:16.161164",
     "status": "completed"
    },
    "tags": []
   },
   "outputs": [
    {
     "data": {
      "text/plain": [
       "array([10, 20, 30, 40, 50, 60, 70, 80, 90])"
      ]
     },
     "execution_count": 211,
     "metadata": {},
     "output_type": "execute_result"
    }
   ],
   "source": [
    "prasad = sharma.flatten()\n",
    "prasad"
   ]
  },
  {
   "cell_type": "code",
   "execution_count": 212,
   "id": "1dc5f5ca",
   "metadata": {
    "execution": {
     "iopub.execute_input": "2023-08-24T18:42:16.413386Z",
     "iopub.status.busy": "2023-08-24T18:42:16.412677Z",
     "iopub.status.idle": "2023-08-24T18:42:16.419013Z",
     "shell.execute_reply": "2023-08-24T18:42:16.418078Z"
    },
    "papermill": {
     "duration": 0.086386,
     "end_time": "2023-08-24T18:42:16.421320",
     "exception": false,
     "start_time": "2023-08-24T18:42:16.334934",
     "status": "completed"
    },
    "tags": []
   },
   "outputs": [
    {
     "data": {
      "text/plain": [
       "array([[10, 20, 30],\n",
       "       [40, 50, 60],\n",
       "       [70, 80, 90]])"
      ]
     },
     "execution_count": 212,
     "metadata": {},
     "output_type": "execute_result"
    }
   ],
   "source": [
    "anbhu = prasad\n",
    "anbhu.resize(sharma.shape)\n",
    "anbhu"
   ]
  },
  {
   "cell_type": "code",
   "execution_count": 213,
   "id": "e23791c4",
   "metadata": {
    "execution": {
     "iopub.execute_input": "2023-08-24T18:42:16.580436Z",
     "iopub.status.busy": "2023-08-24T18:42:16.579615Z",
     "iopub.status.idle": "2023-08-24T18:42:16.587549Z",
     "shell.execute_reply": "2023-08-24T18:42:16.586555Z"
    },
    "papermill": {
     "duration": 0.087859,
     "end_time": "2023-08-24T18:42:16.589922",
     "exception": false,
     "start_time": "2023-08-24T18:42:16.502063",
     "status": "completed"
    },
    "tags": []
   },
   "outputs": [
    {
     "data": {
      "text/plain": [
       "array([[  4,   5,   6],\n",
       "       [ 90, 100, 110]])"
      ]
     },
     "execution_count": 213,
     "metadata": {},
     "output_type": "execute_result"
    }
   ],
   "source": [
    "import numpy as np\n",
    "\n",
    "arr1 = np.array([[1, 2, 3],[10,20,30]])\n",
    "arr2 = np.array([[4, 5, 6],[90,100,110]])\n",
    "arr2\n",
    "\n"
   ]
  },
  {
   "cell_type": "code",
   "execution_count": 214,
   "id": "ce7de164",
   "metadata": {
    "execution": {
     "iopub.execute_input": "2023-08-24T18:42:16.751753Z",
     "iopub.status.busy": "2023-08-24T18:42:16.751417Z",
     "iopub.status.idle": "2023-08-24T18:42:16.758285Z",
     "shell.execute_reply": "2023-08-24T18:42:16.757228Z"
    },
    "papermill": {
     "duration": 0.0864,
     "end_time": "2023-08-24T18:42:16.760472",
     "exception": false,
     "start_time": "2023-08-24T18:42:16.674072",
     "status": "completed"
    },
    "tags": []
   },
   "outputs": [
    {
     "data": {
      "text/plain": [
       "array([[  1,   2,   3,   4,   5,   6],\n",
       "       [ 10,  20,  30,  90, 100, 110]])"
      ]
     },
     "execution_count": 214,
     "metadata": {},
     "output_type": "execute_result"
    }
   ],
   "source": [
    "# Concatenate the arrays horizontally\n",
    "result_hstack = np.hstack((arr1, arr2))\n",
    "result_hstack \n"
   ]
  },
  {
   "cell_type": "code",
   "execution_count": 215,
   "id": "6f051973",
   "metadata": {
    "execution": {
     "iopub.execute_input": "2023-08-24T18:42:16.922255Z",
     "iopub.status.busy": "2023-08-24T18:42:16.921972Z",
     "iopub.status.idle": "2023-08-24T18:42:16.928440Z",
     "shell.execute_reply": "2023-08-24T18:42:16.927522Z"
    },
    "papermill": {
     "duration": 0.088614,
     "end_time": "2023-08-24T18:42:16.930578",
     "exception": false,
     "start_time": "2023-08-24T18:42:16.841964",
     "status": "completed"
    },
    "tags": []
   },
   "outputs": [
    {
     "data": {
      "text/plain": [
       "array([[  1,   2,   3],\n",
       "       [ 10,  20,  30],\n",
       "       [  4,   5,   6],\n",
       "       [ 90, 100, 110]])"
      ]
     },
     "execution_count": 215,
     "metadata": {},
     "output_type": "execute_result"
    }
   ],
   "source": [
    "\n",
    "# Concatenate the arrays vertically\n",
    "result_vstack = np.vstack((arr1, arr2))\n",
    "result_vstack \n"
   ]
  },
  {
   "cell_type": "code",
   "execution_count": 216,
   "id": "2cbd5148",
   "metadata": {
    "execution": {
     "iopub.execute_input": "2023-08-24T18:42:17.090233Z",
     "iopub.status.busy": "2023-08-24T18:42:17.089943Z",
     "iopub.status.idle": "2023-08-24T18:42:17.096159Z",
     "shell.execute_reply": "2023-08-24T18:42:17.095247Z"
    },
    "papermill": {
     "duration": 0.084525,
     "end_time": "2023-08-24T18:42:17.098346",
     "exception": false,
     "start_time": "2023-08-24T18:42:17.013821",
     "status": "completed"
    },
    "tags": []
   },
   "outputs": [
    {
     "data": {
      "text/plain": [
       "array([[  1,   2,   3],\n",
       "       [ 10,  20,  30],\n",
       "       [  4,   5,   6],\n",
       "       [ 90, 100, 110]])"
      ]
     },
     "execution_count": 216,
     "metadata": {},
     "output_type": "execute_result"
    }
   ],
   "source": [
    "\n",
    "# Concatenate the arrays along the first axis\n",
    "result_concat = np.concatenate((arr1, arr2))\n",
    "result_concat "
   ]
  },
  {
   "cell_type": "code",
   "execution_count": 217,
   "id": "29073241",
   "metadata": {
    "execution": {
     "iopub.execute_input": "2023-08-24T18:42:17.260559Z",
     "iopub.status.busy": "2023-08-24T18:42:17.260228Z",
     "iopub.status.idle": "2023-08-24T18:42:17.268955Z",
     "shell.execute_reply": "2023-08-24T18:42:17.268026Z"
    },
    "papermill": {
     "duration": 0.090344,
     "end_time": "2023-08-24T18:42:17.271111",
     "exception": false,
     "start_time": "2023-08-24T18:42:17.180767",
     "status": "completed"
    },
    "tags": []
   },
   "outputs": [
    {
     "data": {
      "text/plain": [
       "[array([[1, 2, 3],\n",
       "        [4, 5, 6]]),\n",
       " array([[ 7,  8,  9],\n",
       "        [10, 11, 12]]),\n",
       " array([[13, 14, 15],\n",
       "        [16, 17, 18]])]"
      ]
     },
     "execution_count": 217,
     "metadata": {},
     "output_type": "execute_result"
    }
   ],
   "source": [
    "import numpy as np\n",
    "\n",
    "arr = np.array([[1, 2, 3],[ 4, 5, 6],[7,8,9],[10,11,12],[13,14,15],[16,17,18]])\n",
    "\n",
    "# Split the array into three sub-arrays\n",
    "result_split = np.split(arr, 3)\n",
    "result_split \n"
   ]
  },
  {
   "cell_type": "code",
   "execution_count": 218,
   "id": "4228e56f",
   "metadata": {
    "execution": {
     "iopub.execute_input": "2023-08-24T18:42:17.426695Z",
     "iopub.status.busy": "2023-08-24T18:42:17.426408Z",
     "iopub.status.idle": "2023-08-24T18:42:17.432908Z",
     "shell.execute_reply": "2023-08-24T18:42:17.431946Z"
    },
    "papermill": {
     "duration": 0.083861,
     "end_time": "2023-08-24T18:42:17.434791",
     "exception": false,
     "start_time": "2023-08-24T18:42:17.350930",
     "status": "completed"
    },
    "tags": []
   },
   "outputs": [
    {
     "data": {
      "text/plain": [
       "[array([[1, 2, 3],\n",
       "        [4, 5, 6]]),\n",
       " array([[ 7,  8,  9],\n",
       "        [10, 11, 12]]),\n",
       " array([[13, 14, 15],\n",
       "        [16, 17, 18]])]"
      ]
     },
     "execution_count": 218,
     "metadata": {},
     "output_type": "execute_result"
    }
   ],
   "source": [
    "\n",
    "result_vsplit = np.vsplit(arr, 3)\n",
    "result_vsplit "
   ]
  },
  {
   "cell_type": "code",
   "execution_count": 219,
   "id": "2e2724ca",
   "metadata": {
    "execution": {
     "iopub.execute_input": "2023-08-24T18:42:17.592681Z",
     "iopub.status.busy": "2023-08-24T18:42:17.592377Z",
     "iopub.status.idle": "2023-08-24T18:42:17.598586Z",
     "shell.execute_reply": "2023-08-24T18:42:17.597742Z"
    },
    "papermill": {
     "duration": 0.085282,
     "end_time": "2023-08-24T18:42:17.600509",
     "exception": false,
     "start_time": "2023-08-24T18:42:17.515227",
     "status": "completed"
    },
    "tags": []
   },
   "outputs": [
    {
     "data": {
      "text/plain": [
       "[array([[ 1],\n",
       "        [ 4],\n",
       "        [ 7],\n",
       "        [10],\n",
       "        [13],\n",
       "        [16]]),\n",
       " array([[ 2],\n",
       "        [ 5],\n",
       "        [ 8],\n",
       "        [11],\n",
       "        [14],\n",
       "        [17]]),\n",
       " array([[ 3],\n",
       "        [ 6],\n",
       "        [ 9],\n",
       "        [12],\n",
       "        [15],\n",
       "        [18]])]"
      ]
     },
     "execution_count": 219,
     "metadata": {},
     "output_type": "execute_result"
    }
   ],
   "source": [
    "\n",
    "result_vsplit = np.hsplit(arr, 3)\n",
    "result_vsplit "
   ]
  },
  {
   "cell_type": "code",
   "execution_count": 220,
   "id": "41f4068c",
   "metadata": {
    "execution": {
     "iopub.execute_input": "2023-08-24T18:42:17.751779Z",
     "iopub.status.busy": "2023-08-24T18:42:17.750965Z",
     "iopub.status.idle": "2023-08-24T18:42:17.758293Z",
     "shell.execute_reply": "2023-08-24T18:42:17.757297Z"
    },
    "papermill": {
     "duration": 0.085385,
     "end_time": "2023-08-24T18:42:17.760461",
     "exception": false,
     "start_time": "2023-08-24T18:42:17.675076",
     "status": "completed"
    },
    "tags": []
   },
   "outputs": [
    {
     "data": {
      "text/plain": [
       "array([[ 7,  8,  9],\n",
       "       [10, 11, 12]])"
      ]
     },
     "execution_count": 220,
     "metadata": {},
     "output_type": "execute_result"
    }
   ],
   "source": [
    "a = np.array([[1,2,3],[4,5,6]])\n",
    "b = np.array([[7,8,9],[10,11,12]])\n",
    "a\n",
    "b"
   ]
  },
  {
   "cell_type": "code",
   "execution_count": 221,
   "id": "f4e34681",
   "metadata": {
    "execution": {
     "iopub.execute_input": "2023-08-24T18:42:17.919642Z",
     "iopub.status.busy": "2023-08-24T18:42:17.919345Z",
     "iopub.status.idle": "2023-08-24T18:42:17.925765Z",
     "shell.execute_reply": "2023-08-24T18:42:17.924781Z"
    },
    "papermill": {
     "duration": 0.088259,
     "end_time": "2023-08-24T18:42:17.928125",
     "exception": false,
     "start_time": "2023-08-24T18:42:17.839866",
     "status": "completed"
    },
    "tags": []
   },
   "outputs": [
    {
     "data": {
      "text/plain": [
       "array([[ 8, 10, 12],\n",
       "       [14, 16, 18]])"
      ]
     },
     "execution_count": 221,
     "metadata": {},
     "output_type": "execute_result"
    }
   ],
   "source": [
    "a + b"
   ]
  },
  {
   "cell_type": "code",
   "execution_count": 222,
   "id": "ed7f2596",
   "metadata": {
    "execution": {
     "iopub.execute_input": "2023-08-24T18:42:18.091731Z",
     "iopub.status.busy": "2023-08-24T18:42:18.090898Z",
     "iopub.status.idle": "2023-08-24T18:42:18.095488Z",
     "shell.execute_reply": "2023-08-24T18:42:18.094702Z"
    },
    "papermill": {
     "duration": 0.084433,
     "end_time": "2023-08-24T18:42:18.097353",
     "exception": false,
     "start_time": "2023-08-24T18:42:18.012920",
     "status": "completed"
    },
    "tags": []
   },
   "outputs": [],
   "source": [
    "c= np.array([[7,8,9]])"
   ]
  },
  {
   "cell_type": "code",
   "execution_count": 223,
   "id": "307b1aa4",
   "metadata": {
    "execution": {
     "iopub.execute_input": "2023-08-24T18:42:18.260800Z",
     "iopub.status.busy": "2023-08-24T18:42:18.260508Z",
     "iopub.status.idle": "2023-08-24T18:42:18.267377Z",
     "shell.execute_reply": "2023-08-24T18:42:18.266469Z"
    },
    "papermill": {
     "duration": 0.093295,
     "end_time": "2023-08-24T18:42:18.269687",
     "exception": false,
     "start_time": "2023-08-24T18:42:18.176392",
     "status": "completed"
    },
    "tags": []
   },
   "outputs": [
    {
     "data": {
      "text/plain": [
       "array([[5, 6, 7],\n",
       "       [6, 7, 8]])"
      ]
     },
     "execution_count": 223,
     "metadata": {},
     "output_type": "execute_result"
    }
   ],
   "source": [
    "arr1 = np.array([[1, 2, 3]])\n",
    "arr2 = np.array([[4], [5]])\n",
    "result1 = arr1 + arr2\n",
    "result1"
   ]
  },
  {
   "cell_type": "code",
   "execution_count": 224,
   "id": "588ee207",
   "metadata": {
    "execution": {
     "iopub.execute_input": "2023-08-24T18:42:18.430496Z",
     "iopub.status.busy": "2023-08-24T18:42:18.429679Z",
     "iopub.status.idle": "2023-08-24T18:42:18.436168Z",
     "shell.execute_reply": "2023-08-24T18:42:18.435199Z"
    },
    "papermill": {
     "duration": 0.088574,
     "end_time": "2023-08-24T18:42:18.438228",
     "exception": false,
     "start_time": "2023-08-24T18:42:18.349654",
     "status": "completed"
    },
    "tags": []
   },
   "outputs": [
    {
     "data": {
      "text/plain": [
       "(1, 3)"
      ]
     },
     "execution_count": 224,
     "metadata": {},
     "output_type": "execute_result"
    }
   ],
   "source": [
    "arr1.shape"
   ]
  },
  {
   "cell_type": "code",
   "execution_count": 225,
   "id": "9e3b8d66",
   "metadata": {
    "execution": {
     "iopub.execute_input": "2023-08-24T18:42:18.596672Z",
     "iopub.status.busy": "2023-08-24T18:42:18.595854Z",
     "iopub.status.idle": "2023-08-24T18:42:18.601845Z",
     "shell.execute_reply": "2023-08-24T18:42:18.600939Z"
    },
    "papermill": {
     "duration": 0.087504,
     "end_time": "2023-08-24T18:42:18.603912",
     "exception": false,
     "start_time": "2023-08-24T18:42:18.516408",
     "status": "completed"
    },
    "tags": []
   },
   "outputs": [
    {
     "data": {
      "text/plain": [
       "(2, 1)"
      ]
     },
     "execution_count": 225,
     "metadata": {},
     "output_type": "execute_result"
    }
   ],
   "source": [
    "arr2.shape"
   ]
  },
  {
   "cell_type": "code",
   "execution_count": 226,
   "id": "6d385ae0",
   "metadata": {
    "execution": {
     "iopub.execute_input": "2023-08-24T18:42:18.763241Z",
     "iopub.status.busy": "2023-08-24T18:42:18.762381Z",
     "iopub.status.idle": "2023-08-24T18:42:18.768468Z",
     "shell.execute_reply": "2023-08-24T18:42:18.767549Z"
    },
    "papermill": {
     "duration": 0.088125,
     "end_time": "2023-08-24T18:42:18.771260",
     "exception": false,
     "start_time": "2023-08-24T18:42:18.683135",
     "status": "completed"
    },
    "tags": []
   },
   "outputs": [
    {
     "name": "stdout",
     "output_type": "stream",
     "text": [
      "[[1 2 3]\n",
      " [4 5 6]]\n"
     ]
    }
   ],
   "source": [
    "import numpy as np\n",
    "\n",
    "arr1 = np.array([1, 2, 3])\n",
    "arr2 = np.array([4, 5, 6])\n",
    "stacked_arr = np.stack((arr1, arr2))\n",
    "print(stacked_arr)"
   ]
  },
  {
   "cell_type": "code",
   "execution_count": 227,
   "id": "862853cd",
   "metadata": {
    "execution": {
     "iopub.execute_input": "2023-08-24T18:42:18.937899Z",
     "iopub.status.busy": "2023-08-24T18:42:18.937594Z",
     "iopub.status.idle": "2023-08-24T18:42:18.943364Z",
     "shell.execute_reply": "2023-08-24T18:42:18.942492Z"
    },
    "papermill": {
     "duration": 0.090064,
     "end_time": "2023-08-24T18:42:18.945843",
     "exception": false,
     "start_time": "2023-08-24T18:42:18.855779",
     "status": "completed"
    },
    "tags": []
   },
   "outputs": [
    {
     "name": "stdout",
     "output_type": "stream",
     "text": [
      "[0 0 3 4 5]\n"
     ]
    }
   ],
   "source": [
    "import numpy as np\n",
    "\n",
    "arr = np.array([1, 2, 3, 4, 5])\n",
    "mask = np.where(arr > 2, arr, 0)\n",
    "print(mask)"
   ]
  },
  {
   "cell_type": "code",
   "execution_count": 228,
   "id": "2220b6a6",
   "metadata": {
    "execution": {
     "iopub.execute_input": "2023-08-24T18:42:19.116651Z",
     "iopub.status.busy": "2023-08-24T18:42:19.116326Z",
     "iopub.status.idle": "2023-08-24T18:42:19.121749Z",
     "shell.execute_reply": "2023-08-24T18:42:19.120896Z"
    },
    "papermill": {
     "duration": 0.085341,
     "end_time": "2023-08-24T18:42:19.123976",
     "exception": false,
     "start_time": "2023-08-24T18:42:19.038635",
     "status": "completed"
    },
    "tags": []
   },
   "outputs": [
    {
     "name": "stdout",
     "output_type": "stream",
     "text": [
      "[ True  True  True False]\n"
     ]
    }
   ],
   "source": [
    "import numpy as np\n",
    "\n",
    "arr1 = np.array([True, True, False, False])\n",
    "arr2 = np.array([True, False, True, False])\n",
    "result = np.logical_or(arr1, arr2)\n",
    "print(result)"
   ]
  },
  {
   "cell_type": "code",
   "execution_count": 229,
   "id": "1b8cc2a3",
   "metadata": {
    "execution": {
     "iopub.execute_input": "2023-08-24T18:42:19.327330Z",
     "iopub.status.busy": "2023-08-24T18:42:19.326991Z",
     "iopub.status.idle": "2023-08-24T18:42:19.332350Z",
     "shell.execute_reply": "2023-08-24T18:42:19.331438Z"
    },
    "papermill": {
     "duration": 0.086362,
     "end_time": "2023-08-24T18:42:19.334780",
     "exception": false,
     "start_time": "2023-08-24T18:42:19.248418",
     "status": "completed"
    },
    "tags": []
   },
   "outputs": [
    {
     "name": "stdout",
     "output_type": "stream",
     "text": [
      "[False False False  True  True]\n"
     ]
    }
   ],
   "source": [
    "arr = np.array([1, 2, 3, 4, 5])\n",
    "condition = arr > 3\n",
    "print(condition)"
   ]
  },
  {
   "cell_type": "code",
   "execution_count": 230,
   "id": "5fff140a",
   "metadata": {
    "execution": {
     "iopub.execute_input": "2023-08-24T18:42:19.497746Z",
     "iopub.status.busy": "2023-08-24T18:42:19.496787Z",
     "iopub.status.idle": "2023-08-24T18:42:19.503160Z",
     "shell.execute_reply": "2023-08-24T18:42:19.501962Z"
    },
    "papermill": {
     "duration": 0.092348,
     "end_time": "2023-08-24T18:42:19.505198",
     "exception": false,
     "start_time": "2023-08-24T18:42:19.412850",
     "status": "completed"
    },
    "tags": []
   },
   "outputs": [
    {
     "name": "stdout",
     "output_type": "stream",
     "text": [
      "[False False  True False False]\n"
     ]
    }
   ],
   "source": [
    "arr = np.array([1, 2, 3, 4, 5])\n",
    "boolean_arr = arr == 3\n",
    "print(boolean_arr)"
   ]
  },
  {
   "cell_type": "code",
   "execution_count": 231,
   "id": "f3757dfd",
   "metadata": {
    "execution": {
     "iopub.execute_input": "2023-08-24T18:42:19.662233Z",
     "iopub.status.busy": "2023-08-24T18:42:19.660803Z",
     "iopub.status.idle": "2023-08-24T18:42:19.667664Z",
     "shell.execute_reply": "2023-08-24T18:42:19.666359Z"
    },
    "papermill": {
     "duration": 0.087457,
     "end_time": "2023-08-24T18:42:19.670417",
     "exception": false,
     "start_time": "2023-08-24T18:42:19.582960",
     "status": "completed"
    },
    "tags": []
   },
   "outputs": [
    {
     "name": "stdout",
     "output_type": "stream",
     "text": [
      "[4 5]\n"
     ]
    }
   ],
   "source": [
    "import numpy as np\n",
    "\n",
    "arr = np.array([1, 2, 3, 4, 5])\n",
    "condition = arr > 3\n",
    "filtered_arr = arr[condition]\n",
    "print(filtered_arr)"
   ]
  },
  {
   "cell_type": "code",
   "execution_count": 232,
   "id": "b036f471",
   "metadata": {
    "execution": {
     "iopub.execute_input": "2023-08-24T18:42:19.835328Z",
     "iopub.status.busy": "2023-08-24T18:42:19.834988Z",
     "iopub.status.idle": "2023-08-24T18:42:19.841535Z",
     "shell.execute_reply": "2023-08-24T18:42:19.840565Z"
    },
    "papermill": {
     "duration": 0.08832,
     "end_time": "2023-08-24T18:42:19.844076",
     "exception": false,
     "start_time": "2023-08-24T18:42:19.755756",
     "status": "completed"
    },
    "tags": []
   },
   "outputs": [
    {
     "name": "stdout",
     "output_type": "stream",
     "text": [
      "[3 4]\n"
     ]
    }
   ],
   "source": [
    "import numpy as np\n",
    "\n",
    "arr = np.array([1, 2, 3, 4, 5])\n",
    "condition1 = arr > 2\n",
    "condition2 = arr < 5\n",
    "combined_condition = condition1 & condition2\n",
    "filtered_arr = arr[combined_condition]\n",
    "print(filtered_arr)"
   ]
  },
  {
   "cell_type": "code",
   "execution_count": 233,
   "id": "4116aa17",
   "metadata": {
    "execution": {
     "iopub.execute_input": "2023-08-24T18:42:20.010323Z",
     "iopub.status.busy": "2023-08-24T18:42:20.010023Z",
     "iopub.status.idle": "2023-08-24T18:42:20.015814Z",
     "shell.execute_reply": "2023-08-24T18:42:20.014856Z"
    },
    "papermill": {
     "duration": 0.092441,
     "end_time": "2023-08-24T18:42:20.018147",
     "exception": false,
     "start_time": "2023-08-24T18:42:19.925706",
     "status": "completed"
    },
    "tags": []
   },
   "outputs": [
    {
     "name": "stdout",
     "output_type": "stream",
     "text": [
      "[ True False False False]\n"
     ]
    }
   ],
   "source": [
    "import numpy as np\n",
    "\n",
    "mask1 = np.array([True, False, True, False])\n",
    "mask2 = np.array([True, True, False, False])\n",
    "combined_mask = mask1 & mask2\n",
    "print(combined_mask)"
   ]
  },
  {
   "cell_type": "code",
   "execution_count": 234,
   "id": "d48013d7",
   "metadata": {
    "execution": {
     "iopub.execute_input": "2023-08-24T18:42:20.176682Z",
     "iopub.status.busy": "2023-08-24T18:42:20.176382Z",
     "iopub.status.idle": "2023-08-24T18:42:20.181998Z",
     "shell.execute_reply": "2023-08-24T18:42:20.181163Z"
    },
    "papermill": {
     "duration": 0.088365,
     "end_time": "2023-08-24T18:42:20.184399",
     "exception": false,
     "start_time": "2023-08-24T18:42:20.096034",
     "status": "completed"
    },
    "tags": []
   },
   "outputs": [
    {
     "name": "stdout",
     "output_type": "stream",
     "text": [
      "[ True  True  True False]\n"
     ]
    }
   ],
   "source": [
    "import numpy as np\n",
    "\n",
    "mask1 = np.array([True, False, True, False])\n",
    "mask2 = np.array([True, True, False, False])\n",
    "combined_mask = mask1 | mask2\n",
    "print(combined_mask)"
   ]
  },
  {
   "cell_type": "code",
   "execution_count": 235,
   "id": "e288eea5",
   "metadata": {
    "execution": {
     "iopub.execute_input": "2023-08-24T18:42:20.388563Z",
     "iopub.status.busy": "2023-08-24T18:42:20.388188Z",
     "iopub.status.idle": "2023-08-24T18:42:20.394958Z",
     "shell.execute_reply": "2023-08-24T18:42:20.394045Z"
    },
    "papermill": {
     "duration": 0.087667,
     "end_time": "2023-08-24T18:42:20.397013",
     "exception": false,
     "start_time": "2023-08-24T18:42:20.309346",
     "status": "completed"
    },
    "tags": []
   },
   "outputs": [
    {
     "data": {
      "text/plain": [
       "array([False, False,  True,  True,  True])"
      ]
     },
     "execution_count": 235,
     "metadata": {},
     "output_type": "execute_result"
    }
   ],
   "source": [
    "import numpy as np\n",
    "\n",
    "arr1 = np.array([1, 2, 3, 4, 5])\n",
    "mask1 = arr1 > 2\n",
    "mask1\n"
   ]
  },
  {
   "cell_type": "code",
   "execution_count": 236,
   "id": "5f188dfc",
   "metadata": {
    "execution": {
     "iopub.execute_input": "2023-08-24T18:42:20.558900Z",
     "iopub.status.busy": "2023-08-24T18:42:20.558059Z",
     "iopub.status.idle": "2023-08-24T18:42:20.564881Z",
     "shell.execute_reply": "2023-08-24T18:42:20.563890Z"
    },
    "papermill": {
     "duration": 0.090493,
     "end_time": "2023-08-24T18:42:20.566886",
     "exception": false,
     "start_time": "2023-08-24T18:42:20.476393",
     "status": "completed"
    },
    "tags": []
   },
   "outputs": [
    {
     "data": {
      "text/plain": [
       "array([False,  True, False,  True, False])"
      ]
     },
     "execution_count": 236,
     "metadata": {},
     "output_type": "execute_result"
    }
   ],
   "source": [
    "mask2 = arr1 % 2 == 0\n",
    "mask2\n"
   ]
  },
  {
   "cell_type": "code",
   "execution_count": 237,
   "id": "5ed3abad",
   "metadata": {
    "execution": {
     "iopub.execute_input": "2023-08-24T18:42:20.724993Z",
     "iopub.status.busy": "2023-08-24T18:42:20.724197Z",
     "iopub.status.idle": "2023-08-24T18:42:20.730815Z",
     "shell.execute_reply": "2023-08-24T18:42:20.729780Z"
    },
    "papermill": {
     "duration": 0.087893,
     "end_time": "2023-08-24T18:42:20.732862",
     "exception": false,
     "start_time": "2023-08-24T18:42:20.644969",
     "status": "completed"
    },
    "tags": []
   },
   "outputs": [
    {
     "data": {
      "text/plain": [
       "array([False, False, False,  True, False])"
      ]
     },
     "execution_count": 237,
     "metadata": {},
     "output_type": "execute_result"
    }
   ],
   "source": [
    "combined_mask = mask1 & mask2\n",
    "combined_mask\n"
   ]
  },
  {
   "cell_type": "code",
   "execution_count": 238,
   "id": "5c25d814",
   "metadata": {
    "execution": {
     "iopub.execute_input": "2023-08-24T18:42:20.893522Z",
     "iopub.status.busy": "2023-08-24T18:42:20.892575Z",
     "iopub.status.idle": "2023-08-24T18:42:20.898346Z",
     "shell.execute_reply": "2023-08-24T18:42:20.897467Z"
    },
    "papermill": {
     "duration": 0.088234,
     "end_time": "2023-08-24T18:42:20.900473",
     "exception": false,
     "start_time": "2023-08-24T18:42:20.812239",
     "status": "completed"
    },
    "tags": []
   },
   "outputs": [
    {
     "name": "stdout",
     "output_type": "stream",
     "text": [
      "[4]\n"
     ]
    }
   ],
   "source": [
    "filtered_arr = arr[combined_mask]\n",
    "print(filtered_arr)"
   ]
  },
  {
   "cell_type": "code",
   "execution_count": 239,
   "id": "491230ea",
   "metadata": {
    "execution": {
     "iopub.execute_input": "2023-08-24T18:42:21.058865Z",
     "iopub.status.busy": "2023-08-24T18:42:21.058037Z",
     "iopub.status.idle": "2023-08-24T18:42:21.064947Z",
     "shell.execute_reply": "2023-08-24T18:42:21.063628Z"
    },
    "papermill": {
     "duration": 0.088744,
     "end_time": "2023-08-24T18:42:21.067094",
     "exception": false,
     "start_time": "2023-08-24T18:42:20.978350",
     "status": "completed"
    },
    "tags": []
   },
   "outputs": [
    {
     "name": "stdout",
     "output_type": "stream",
     "text": [
      "[[19 22]\n",
      " [43 50]]\n"
     ]
    }
   ],
   "source": [
    "import numpy as np\n",
    "\n",
    "matrix1 = np.array([[1, 2], [3, 4]])\n",
    "matrix2 = np.array([[5, 6], [7, 8]])\n",
    "\n",
    "result = np.dot(matrix1, matrix2)\n",
    "# Or, equivalently: result = matrix1 @ matrix2\n",
    "\n",
    "print(result)"
   ]
  },
  {
   "cell_type": "code",
   "execution_count": null,
   "id": "01880ed9",
   "metadata": {
    "papermill": {
     "duration": 0.079472,
     "end_time": "2023-08-24T18:42:21.229825",
     "exception": false,
     "start_time": "2023-08-24T18:42:21.150353",
     "status": "completed"
    },
    "tags": []
   },
   "outputs": [],
   "source": []
  }
 ],
 "metadata": {
  "kernelspec": {
   "display_name": "Python 3",
   "language": "python",
   "name": "python3"
  },
  "language_info": {
   "codemirror_mode": {
    "name": "ipython",
    "version": 3
   },
   "file_extension": ".py",
   "mimetype": "text/x-python",
   "name": "python",
   "nbconvert_exporter": "python",
   "pygments_lexer": "ipython3",
   "version": "3.10.12"
  },
  "papermill": {
   "default_parameters": {},
   "duration": 49.008568,
   "end_time": "2023-08-24T18:42:21.926946",
   "environment_variables": {},
   "exception": null,
   "input_path": "__notebook__.ipynb",
   "output_path": "__notebook__.ipynb",
   "parameters": {},
   "start_time": "2023-08-24T18:41:32.918378",
   "version": "2.4.0"
  }
 },
 "nbformat": 4,
 "nbformat_minor": 5
}
