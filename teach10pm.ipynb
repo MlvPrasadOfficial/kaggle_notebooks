{
 "cells": [
  {
   "cell_type": "code",
   "execution_count": 1,
   "id": "6b9ab959",
   "metadata": {
    "_cell_guid": "b1076dfc-b9ad-4769-8c92-a6c4dae69d19",
    "_uuid": "8f2839f25d086af736a60e9eeb907d3b93b6e0e5",
    "execution": {
     "iopub.execute_input": "2023-08-19T11:59:12.600428Z",
     "iopub.status.busy": "2023-08-19T11:59:12.599891Z",
     "iopub.status.idle": "2023-08-19T11:59:12.613872Z",
     "shell.execute_reply": "2023-08-19T11:59:12.613008Z"
    },
    "papermill": {
     "duration": 0.04693,
     "end_time": "2023-08-19T11:59:12.616447",
     "exception": false,
     "start_time": "2023-08-19T11:59:12.569517",
     "status": "completed"
    },
    "tags": []
   },
   "outputs": [
    {
     "name": "stdout",
     "output_type": "stream",
     "text": [
      "sharma is a good boy\n"
     ]
    }
   ],
   "source": [
    "# 0/p\n",
    "print(\"sharma is a good boy\")"
   ]
  },
  {
   "cell_type": "code",
   "execution_count": 2,
   "id": "9e5d6db6",
   "metadata": {
    "execution": {
     "iopub.execute_input": "2023-08-19T11:59:12.678793Z",
     "iopub.status.busy": "2023-08-19T11:59:12.678368Z",
     "iopub.status.idle": "2023-08-19T11:59:12.683281Z",
     "shell.execute_reply": "2023-08-19T11:59:12.682015Z"
    },
    "papermill": {
     "duration": 0.038922,
     "end_time": "2023-08-19T11:59:12.686071",
     "exception": false,
     "start_time": "2023-08-19T11:59:12.647149",
     "status": "completed"
    },
    "tags": []
   },
   "outputs": [],
   "source": [
    "# i/p\n",
    "\n",
    "# name = input()\n",
    "# print(name , \" is a good boy\")"
   ]
  },
  {
   "cell_type": "code",
   "execution_count": 3,
   "id": "1c1fba1e",
   "metadata": {
    "execution": {
     "iopub.execute_input": "2023-08-19T11:59:12.746406Z",
     "iopub.status.busy": "2023-08-19T11:59:12.745941Z",
     "iopub.status.idle": "2023-08-19T11:59:12.751418Z",
     "shell.execute_reply": "2023-08-19T11:59:12.750559Z"
    },
    "papermill": {
     "duration": 0.03824,
     "end_time": "2023-08-19T11:59:12.753822",
     "exception": false,
     "start_time": "2023-08-19T11:59:12.715582",
     "status": "completed"
    },
    "tags": []
   },
   "outputs": [
    {
     "name": "stdout",
     "output_type": "stream",
     "text": [
      "yasmin\n",
      "----\n",
      "yasmin\n",
      "asha\n"
     ]
    }
   ],
   "source": [
    "name = \"yasmin\"\n",
    "\n",
    "print(name)\n",
    "print(\"----\")\n",
    "print(name)\n",
    "name = \"asha\" \n",
    "\n",
    "print(name)"
   ]
  },
  {
   "cell_type": "code",
   "execution_count": 4,
   "id": "e17bfe4f",
   "metadata": {
    "execution": {
     "iopub.execute_input": "2023-08-19T11:59:12.814027Z",
     "iopub.status.busy": "2023-08-19T11:59:12.813602Z",
     "iopub.status.idle": "2023-08-19T11:59:12.821741Z",
     "shell.execute_reply": "2023-08-19T11:59:12.820618Z"
    },
    "papermill": {
     "duration": 0.040459,
     "end_time": "2023-08-19T11:59:12.823866",
     "exception": false,
     "start_time": "2023-08-19T11:59:12.783407",
     "status": "completed"
    },
    "tags": []
   },
   "outputs": [
    {
     "data": {
      "text/plain": [
       "int"
      ]
     },
     "execution_count": 4,
     "metadata": {},
     "output_type": "execute_result"
    }
   ],
   "source": [
    "a = 7\n",
    "\n",
    "type(a)\n"
   ]
  },
  {
   "cell_type": "code",
   "execution_count": 5,
   "id": "85facdf2",
   "metadata": {
    "execution": {
     "iopub.execute_input": "2023-08-19T11:59:12.884855Z",
     "iopub.status.busy": "2023-08-19T11:59:12.884370Z",
     "iopub.status.idle": "2023-08-19T11:59:12.891435Z",
     "shell.execute_reply": "2023-08-19T11:59:12.890342Z"
    },
    "papermill": {
     "duration": 0.041935,
     "end_time": "2023-08-19T11:59:12.893782",
     "exception": false,
     "start_time": "2023-08-19T11:59:12.851847",
     "status": "completed"
    },
    "tags": []
   },
   "outputs": [
    {
     "data": {
      "text/plain": [
       "float"
      ]
     },
     "execution_count": 5,
     "metadata": {},
     "output_type": "execute_result"
    }
   ],
   "source": [
    "b = 7.5\n",
    "\n",
    "type(b)"
   ]
  },
  {
   "cell_type": "code",
   "execution_count": 6,
   "id": "3f9d1a64",
   "metadata": {
    "execution": {
     "iopub.execute_input": "2023-08-19T11:59:12.955151Z",
     "iopub.status.busy": "2023-08-19T11:59:12.954635Z",
     "iopub.status.idle": "2023-08-19T11:59:12.962550Z",
     "shell.execute_reply": "2023-08-19T11:59:12.961124Z"
    },
    "papermill": {
     "duration": 0.042644,
     "end_time": "2023-08-19T11:59:12.965278",
     "exception": false,
     "start_time": "2023-08-19T11:59:12.922634",
     "status": "completed"
    },
    "tags": []
   },
   "outputs": [
    {
     "data": {
      "text/plain": [
       "str"
      ]
     },
     "execution_count": 6,
     "metadata": {},
     "output_type": "execute_result"
    }
   ],
   "source": [
    "c = \"sharma\"\n",
    "type(c)"
   ]
  },
  {
   "cell_type": "code",
   "execution_count": 7,
   "id": "40e7a704",
   "metadata": {
    "execution": {
     "iopub.execute_input": "2023-08-19T11:59:13.024916Z",
     "iopub.status.busy": "2023-08-19T11:59:13.024464Z",
     "iopub.status.idle": "2023-08-19T11:59:13.031632Z",
     "shell.execute_reply": "2023-08-19T11:59:13.030330Z"
    },
    "papermill": {
     "duration": 0.040383,
     "end_time": "2023-08-19T11:59:13.034068",
     "exception": false,
     "start_time": "2023-08-19T11:59:12.993685",
     "status": "completed"
    },
    "tags": []
   },
   "outputs": [
    {
     "data": {
      "text/plain": [
       "str"
      ]
     },
     "execution_count": 7,
     "metadata": {},
     "output_type": "execute_result"
    }
   ],
   "source": [
    "d = \"44-5-14\"\n",
    "\n",
    "type(d)"
   ]
  },
  {
   "cell_type": "code",
   "execution_count": 8,
   "id": "baa25b59",
   "metadata": {
    "execution": {
     "iopub.execute_input": "2023-08-19T11:59:13.090920Z",
     "iopub.status.busy": "2023-08-19T11:59:13.090506Z",
     "iopub.status.idle": "2023-08-19T11:59:13.098582Z",
     "shell.execute_reply": "2023-08-19T11:59:13.097257Z"
    },
    "papermill": {
     "duration": 0.039608,
     "end_time": "2023-08-19T11:59:13.101169",
     "exception": false,
     "start_time": "2023-08-19T11:59:13.061561",
     "status": "completed"
    },
    "tags": []
   },
   "outputs": [
    {
     "data": {
      "text/plain": [
       "str"
      ]
     },
     "execution_count": 8,
     "metadata": {},
     "output_type": "execute_result"
    }
   ],
   "source": [
    "e = \"19\"\n",
    "type(e)"
   ]
  },
  {
   "cell_type": "code",
   "execution_count": 9,
   "id": "3a79be17",
   "metadata": {
    "execution": {
     "iopub.execute_input": "2023-08-19T11:59:13.160029Z",
     "iopub.status.busy": "2023-08-19T11:59:13.159029Z",
     "iopub.status.idle": "2023-08-19T11:59:13.165495Z",
     "shell.execute_reply": "2023-08-19T11:59:13.164556Z"
    },
    "papermill": {
     "duration": 0.037723,
     "end_time": "2023-08-19T11:59:13.167476",
     "exception": false,
     "start_time": "2023-08-19T11:59:13.129753",
     "status": "completed"
    },
    "tags": []
   },
   "outputs": [
    {
     "data": {
      "text/plain": [
       "int"
      ]
     },
     "execution_count": 9,
     "metadata": {},
     "output_type": "execute_result"
    }
   ],
   "source": [
    "f = 19\n",
    "type(f)"
   ]
  },
  {
   "cell_type": "code",
   "execution_count": 10,
   "id": "56a2a941",
   "metadata": {
    "execution": {
     "iopub.execute_input": "2023-08-19T11:59:13.224636Z",
     "iopub.status.busy": "2023-08-19T11:59:13.224210Z",
     "iopub.status.idle": "2023-08-19T11:59:13.231391Z",
     "shell.execute_reply": "2023-08-19T11:59:13.229717Z"
    },
    "papermill": {
     "duration": 0.03899,
     "end_time": "2023-08-19T11:59:13.233803",
     "exception": false,
     "start_time": "2023-08-19T11:59:13.194813",
     "status": "completed"
    },
    "tags": []
   },
   "outputs": [
    {
     "name": "stdout",
     "output_type": "stream",
     "text": [
      "<class 'int'>\n",
      "<class 'str'>\n"
     ]
    }
   ],
   "source": [
    "#type casting\n",
    "\n",
    "num = 19\n",
    "print(type(num))\n",
    "\n",
    "num = str(num)\n",
    "print(type(num))"
   ]
  },
  {
   "cell_type": "code",
   "execution_count": 11,
   "id": "2ce5b322",
   "metadata": {
    "execution": {
     "iopub.execute_input": "2023-08-19T11:59:13.291898Z",
     "iopub.status.busy": "2023-08-19T11:59:13.291515Z",
     "iopub.status.idle": "2023-08-19T11:59:13.297256Z",
     "shell.execute_reply": "2023-08-19T11:59:13.296339Z"
    },
    "papermill": {
     "duration": 0.03877,
     "end_time": "2023-08-19T11:59:13.300343",
     "exception": false,
     "start_time": "2023-08-19T11:59:13.261573",
     "status": "completed"
    },
    "tags": []
   },
   "outputs": [
    {
     "name": "stdout",
     "output_type": "stream",
     "text": [
      "19 <class 'int'>\n",
      "19.0 <class 'float'>\n",
      "19.0 <class 'str'>\n"
     ]
    }
   ],
   "source": [
    "num = 19\n",
    "print(num, type(num))\n",
    "num = float(num) # 19.0\n",
    "print(num, type(num))\n",
    "num = str(num)\n",
    "print(num, type(num))"
   ]
  },
  {
   "cell_type": "code",
   "execution_count": 12,
   "id": "54df8b17",
   "metadata": {
    "execution": {
     "iopub.execute_input": "2023-08-19T11:59:13.362871Z",
     "iopub.status.busy": "2023-08-19T11:59:13.362445Z",
     "iopub.status.idle": "2023-08-19T11:59:13.367565Z",
     "shell.execute_reply": "2023-08-19T11:59:13.365932Z"
    },
    "papermill": {
     "duration": 0.040777,
     "end_time": "2023-08-19T11:59:13.370155",
     "exception": false,
     "start_time": "2023-08-19T11:59:13.329378",
     "status": "completed"
    },
    "tags": []
   },
   "outputs": [],
   "source": [
    "# 3num = 19"
   ]
  },
  {
   "cell_type": "code",
   "execution_count": 13,
   "id": "c8f35e7e",
   "metadata": {
    "execution": {
     "iopub.execute_input": "2023-08-19T11:59:13.430095Z",
     "iopub.status.busy": "2023-08-19T11:59:13.429621Z",
     "iopub.status.idle": "2023-08-19T11:59:13.435289Z",
     "shell.execute_reply": "2023-08-19T11:59:13.433743Z"
    },
    "papermill": {
     "duration": 0.0392,
     "end_time": "2023-08-19T11:59:13.438397",
     "exception": false,
     "start_time": "2023-08-19T11:59:13.399197",
     "status": "completed"
    },
    "tags": []
   },
   "outputs": [],
   "source": [
    "mynameissharma = 19\n",
    "my_name_is_sharma = 20\n",
    "# myNameIsSharma"
   ]
  },
  {
   "cell_type": "code",
   "execution_count": 14,
   "id": "10c5f4f0",
   "metadata": {
    "execution": {
     "iopub.execute_input": "2023-08-19T11:59:13.498024Z",
     "iopub.status.busy": "2023-08-19T11:59:13.497605Z",
     "iopub.status.idle": "2023-08-19T11:59:13.503766Z",
     "shell.execute_reply": "2023-08-19T11:59:13.502596Z"
    },
    "papermill": {
     "duration": 0.039526,
     "end_time": "2023-08-19T11:59:13.506737",
     "exception": false,
     "start_time": "2023-08-19T11:59:13.467211",
     "status": "completed"
    },
    "tags": []
   },
   "outputs": [
    {
     "name": "stdout",
     "output_type": "stream",
     "text": [
      "9 __ 8\n"
     ]
    }
   ],
   "source": [
    "a = 9\n",
    "b = 8\n",
    "print(a, \"__\", b)"
   ]
  },
  {
   "cell_type": "code",
   "execution_count": 15,
   "id": "e082aac3",
   "metadata": {
    "execution": {
     "iopub.execute_input": "2023-08-19T11:59:13.569124Z",
     "iopub.status.busy": "2023-08-19T11:59:13.568673Z",
     "iopub.status.idle": "2023-08-19T11:59:13.575522Z",
     "shell.execute_reply": "2023-08-19T11:59:13.574081Z"
    },
    "papermill": {
     "duration": 0.04386,
     "end_time": "2023-08-19T11:59:13.579259",
     "exception": false,
     "start_time": "2023-08-19T11:59:13.535399",
     "status": "completed"
    },
    "tags": []
   },
   "outputs": [
    {
     "name": "stdout",
     "output_type": "stream",
     "text": [
      "9 __ 8\n"
     ]
    }
   ],
   "source": [
    "a, b = 9,8 \n",
    "print(a, \"__\", b)"
   ]
  },
  {
   "cell_type": "code",
   "execution_count": 16,
   "id": "7b3095b3",
   "metadata": {
    "execution": {
     "iopub.execute_input": "2023-08-19T11:59:13.642701Z",
     "iopub.status.busy": "2023-08-19T11:59:13.642252Z",
     "iopub.status.idle": "2023-08-19T11:59:13.648809Z",
     "shell.execute_reply": "2023-08-19T11:59:13.647781Z"
    },
    "papermill": {
     "duration": 0.040236,
     "end_time": "2023-08-19T11:59:13.651314",
     "exception": false,
     "start_time": "2023-08-19T11:59:13.611078",
     "status": "completed"
    },
    "tags": []
   },
   "outputs": [
    {
     "name": "stdout",
     "output_type": "stream",
     "text": [
      "Orange\n",
      "Banana\n",
      "Cherry\n"
     ]
    }
   ],
   "source": [
    "x, y, z = \"Orange\", \"Banana\", \"Cherry\"\n",
    "print(x)\n",
    "print(y)\n",
    "print(z)"
   ]
  },
  {
   "cell_type": "code",
   "execution_count": 17,
   "id": "7a36547c",
   "metadata": {
    "execution": {
     "iopub.execute_input": "2023-08-19T11:59:13.712585Z",
     "iopub.status.busy": "2023-08-19T11:59:13.712150Z",
     "iopub.status.idle": "2023-08-19T11:59:13.717839Z",
     "shell.execute_reply": "2023-08-19T11:59:13.716826Z"
    },
    "papermill": {
     "duration": 0.042005,
     "end_time": "2023-08-19T11:59:13.720819",
     "exception": false,
     "start_time": "2023-08-19T11:59:13.678814",
     "status": "completed"
    },
    "tags": []
   },
   "outputs": [
    {
     "name": "stdout",
     "output_type": "stream",
     "text": [
      "Orange\n",
      "Banana\n",
      "Cherry\n"
     ]
    }
   ],
   "source": [
    "x =  \"Orange\"\n",
    "y =  \"Banana\"\n",
    "z =  \"Cherry\"\n",
    "print(x)\n",
    "print(y)\n",
    "print(z)"
   ]
  },
  {
   "cell_type": "code",
   "execution_count": 18,
   "id": "b54594f1",
   "metadata": {
    "execution": {
     "iopub.execute_input": "2023-08-19T11:59:13.784088Z",
     "iopub.status.busy": "2023-08-19T11:59:13.783648Z",
     "iopub.status.idle": "2023-08-19T11:59:13.790248Z",
     "shell.execute_reply": "2023-08-19T11:59:13.789060Z"
    },
    "papermill": {
     "duration": 0.04041,
     "end_time": "2023-08-19T11:59:13.792586",
     "exception": false,
     "start_time": "2023-08-19T11:59:13.752176",
     "status": "completed"
    },
    "tags": []
   },
   "outputs": [
    {
     "data": {
      "text/plain": [
       "int"
      ]
     },
     "execution_count": 18,
     "metadata": {},
     "output_type": "execute_result"
    }
   ],
   "source": [
    "a  = 9 \n",
    "type(a)"
   ]
  },
  {
   "cell_type": "code",
   "execution_count": 19,
   "id": "b46aeab3",
   "metadata": {
    "execution": {
     "iopub.execute_input": "2023-08-19T11:59:13.852919Z",
     "iopub.status.busy": "2023-08-19T11:59:13.852462Z",
     "iopub.status.idle": "2023-08-19T11:59:13.860692Z",
     "shell.execute_reply": "2023-08-19T11:59:13.859264Z"
    },
    "papermill": {
     "duration": 0.041623,
     "end_time": "2023-08-19T11:59:13.864047",
     "exception": false,
     "start_time": "2023-08-19T11:59:13.822424",
     "status": "completed"
    },
    "tags": []
   },
   "outputs": [
    {
     "data": {
      "text/plain": [
       "list"
      ]
     },
     "execution_count": 19,
     "metadata": {},
     "output_type": "execute_result"
    }
   ],
   "source": [
    "a = [9]\n",
    "type(a)\n"
   ]
  },
  {
   "cell_type": "code",
   "execution_count": 20,
   "id": "7e4a1d7c",
   "metadata": {
    "execution": {
     "iopub.execute_input": "2023-08-19T11:59:13.926770Z",
     "iopub.status.busy": "2023-08-19T11:59:13.926391Z",
     "iopub.status.idle": "2023-08-19T11:59:13.934433Z",
     "shell.execute_reply": "2023-08-19T11:59:13.932978Z"
    },
    "papermill": {
     "duration": 0.041502,
     "end_time": "2023-08-19T11:59:13.937011",
     "exception": false,
     "start_time": "2023-08-19T11:59:13.895509",
     "status": "completed"
    },
    "tags": []
   },
   "outputs": [
    {
     "data": {
      "text/plain": [
       "[20, 'sharma', 'prasad', 4, 45, 4543, 454354]"
      ]
     },
     "execution_count": 20,
     "metadata": {},
     "output_type": "execute_result"
    }
   ],
   "source": [
    "# property 1 \n",
    "# index positions\n",
    "\n",
    "\n",
    "a = [ 10,20,\"sharma\",\"prasad\",4,45,4543,454354] # 4\n",
    "a[1:8]"
   ]
  },
  {
   "cell_type": "markdown",
   "id": "18bc66ff",
   "metadata": {
    "papermill": {
     "duration": 0.027131,
     "end_time": "2023-08-19T11:59:13.992852",
     "exception": false,
     "start_time": "2023-08-19T11:59:13.965721",
     "status": "completed"
    },
    "tags": []
   },
   "source": [
    "#### "
   ]
  },
  {
   "cell_type": "code",
   "execution_count": 21,
   "id": "05fcbe89",
   "metadata": {
    "execution": {
     "iopub.execute_input": "2023-08-19T11:59:14.055439Z",
     "iopub.status.busy": "2023-08-19T11:59:14.055071Z",
     "iopub.status.idle": "2023-08-19T11:59:14.062811Z",
     "shell.execute_reply": "2023-08-19T11:59:14.061826Z"
    },
    "papermill": {
     "duration": 0.041897,
     "end_time": "2023-08-19T11:59:14.065242",
     "exception": false,
     "start_time": "2023-08-19T11:59:14.023345",
     "status": "completed"
    },
    "tags": []
   },
   "outputs": [
    {
     "data": {
      "text/plain": [
       "['sharma', 45]"
      ]
     },
     "execution_count": 21,
     "metadata": {},
     "output_type": "execute_result"
    }
   ],
   "source": [
    "a[2:7:3]"
   ]
  },
  {
   "cell_type": "code",
   "execution_count": 22,
   "id": "effbe6ff",
   "metadata": {
    "execution": {
     "iopub.execute_input": "2023-08-19T11:59:14.129253Z",
     "iopub.status.busy": "2023-08-19T11:59:14.128771Z",
     "iopub.status.idle": "2023-08-19T11:59:14.135913Z",
     "shell.execute_reply": "2023-08-19T11:59:14.134231Z"
    },
    "papermill": {
     "duration": 0.042476,
     "end_time": "2023-08-19T11:59:14.138041",
     "exception": false,
     "start_time": "2023-08-19T11:59:14.095565",
     "status": "completed"
    },
    "tags": []
   },
   "outputs": [
    {
     "name": "stdout",
     "output_type": "stream",
     "text": [
      "454354\n"
     ]
    }
   ],
   "source": [
    "# mutable\n",
    "a = [ 10,20,\"sharma\",\"prasad\",4,45,4543,454354]\n",
    "a[0] = \"anusha\"\n",
    "print(a[7])\n",
    "# b = 8\n",
    "# print(b)\n",
    "# c = [1,2]\n",
    "# print(c)"
   ]
  },
  {
   "cell_type": "code",
   "execution_count": 23,
   "id": "c86cb92e",
   "metadata": {
    "execution": {
     "iopub.execute_input": "2023-08-19T11:59:14.200193Z",
     "iopub.status.busy": "2023-08-19T11:59:14.199770Z",
     "iopub.status.idle": "2023-08-19T11:59:14.206708Z",
     "shell.execute_reply": "2023-08-19T11:59:14.205893Z"
    },
    "papermill": {
     "duration": 0.040009,
     "end_time": "2023-08-19T11:59:14.208496",
     "exception": false,
     "start_time": "2023-08-19T11:59:14.168487",
     "status": "completed"
    },
    "tags": []
   },
   "outputs": [
    {
     "data": {
      "text/plain": [
       "[1, 2]"
      ]
     },
     "execution_count": 23,
     "metadata": {},
     "output_type": "execute_result"
    }
   ],
   "source": [
    "# mutable\n",
    "a = [ 10,20,\"sharma\",\"prasad\",4,45,4543,454354]\n",
    "a[0] = \"anusha\"\n",
    "a\n",
    "b = 8\n",
    "b\n",
    "c = [1,2]\n",
    "c"
   ]
  },
  {
   "cell_type": "code",
   "execution_count": 24,
   "id": "953eb1a6",
   "metadata": {
    "execution": {
     "iopub.execute_input": "2023-08-19T11:59:14.270801Z",
     "iopub.status.busy": "2023-08-19T11:59:14.270299Z",
     "iopub.status.idle": "2023-08-19T11:59:14.276796Z",
     "shell.execute_reply": "2023-08-19T11:59:14.275740Z"
    },
    "papermill": {
     "duration": 0.041588,
     "end_time": "2023-08-19T11:59:14.279394",
     "exception": false,
     "start_time": "2023-08-19T11:59:14.237806",
     "status": "completed"
    },
    "tags": []
   },
   "outputs": [
    {
     "name": "stdout",
     "output_type": "stream",
     "text": [
      "8\n"
     ]
    }
   ],
   "source": [
    "a = [ 10,20,\"sharma\",\"prasad\",4,45,4543,454354]\n",
    "print(len(a))"
   ]
  },
  {
   "cell_type": "code",
   "execution_count": 25,
   "id": "0c3acfc7",
   "metadata": {
    "execution": {
     "iopub.execute_input": "2023-08-19T11:59:14.342754Z",
     "iopub.status.busy": "2023-08-19T11:59:14.341817Z",
     "iopub.status.idle": "2023-08-19T11:59:14.352223Z",
     "shell.execute_reply": "2023-08-19T11:59:14.350800Z"
    },
    "papermill": {
     "duration": 0.045411,
     "end_time": "2023-08-19T11:59:14.354338",
     "exception": false,
     "start_time": "2023-08-19T11:59:14.308927",
     "status": "completed"
    },
    "tags": []
   },
   "outputs": [
    {
     "data": {
      "text/plain": [
       "tuple"
      ]
     },
     "execution_count": 25,
     "metadata": {},
     "output_type": "execute_result"
    }
   ],
   "source": [
    "a = ( 10,20,\"sharma\",\"prasad\",4,45,4543,454354)\n",
    "type(a)"
   ]
  },
  {
   "cell_type": "code",
   "execution_count": 26,
   "id": "976eba9f",
   "metadata": {
    "execution": {
     "iopub.execute_input": "2023-08-19T11:59:14.418505Z",
     "iopub.status.busy": "2023-08-19T11:59:14.417751Z",
     "iopub.status.idle": "2023-08-19T11:59:14.423020Z",
     "shell.execute_reply": "2023-08-19T11:59:14.421656Z"
    },
    "papermill": {
     "duration": 0.041002,
     "end_time": "2023-08-19T11:59:14.426277",
     "exception": false,
     "start_time": "2023-08-19T11:59:14.385275",
     "status": "completed"
    },
    "tags": []
   },
   "outputs": [],
   "source": [
    "# a = ( 10,20,\"sharma\",\"prasad\",4,45,4543,454354)\n",
    "# a[7] = 10\n",
    "# a"
   ]
  },
  {
   "cell_type": "code",
   "execution_count": 27,
   "id": "b5e5a397",
   "metadata": {
    "execution": {
     "iopub.execute_input": "2023-08-19T11:59:14.490102Z",
     "iopub.status.busy": "2023-08-19T11:59:14.489671Z",
     "iopub.status.idle": "2023-08-19T11:59:14.497083Z",
     "shell.execute_reply": "2023-08-19T11:59:14.495297Z"
    },
    "papermill": {
     "duration": 0.043937,
     "end_time": "2023-08-19T11:59:14.500159",
     "exception": false,
     "start_time": "2023-08-19T11:59:14.456222",
     "status": "completed"
    },
    "tags": []
   },
   "outputs": [
    {
     "name": "stdout",
     "output_type": "stream",
     "text": [
      "(10, 20, 'sharma', 'prasad', 4, 45, 4543, 454354) <class 'tuple'>\n",
      "[1, 20, 'sharma', 'prasad', 4, 45, 4543, 454354] <class 'list'>\n",
      "(1, 20, 'sharma', 'prasad', 4, 45, 4543, 454354) <class 'tuple'>\n"
     ]
    }
   ],
   "source": [
    "a = ( 10,20,\"sharma\",\"prasad\",4,45,4543,454354)\n",
    "\n",
    "print(a, type(a))\n",
    "a = list(a)\n",
    "a[0]= 1\n",
    "print(a, type(a))\n",
    "a = tuple(a)\n",
    "print(a, type(a))"
   ]
  },
  {
   "cell_type": "code",
   "execution_count": 28,
   "id": "f7cdb8af",
   "metadata": {
    "execution": {
     "iopub.execute_input": "2023-08-19T11:59:14.560413Z",
     "iopub.status.busy": "2023-08-19T11:59:14.559994Z",
     "iopub.status.idle": "2023-08-19T11:59:14.565760Z",
     "shell.execute_reply": "2023-08-19T11:59:14.564167Z"
    },
    "papermill": {
     "duration": 0.039158,
     "end_time": "2023-08-19T11:59:14.568450",
     "exception": false,
     "start_time": "2023-08-19T11:59:14.529292",
     "status": "completed"
    },
    "tags": []
   },
   "outputs": [],
   "source": [
    "tupledetails = (\"c001\", \"asha\",\"7680896860\")\n",
    "listdetails = [90,80,100]\n"
   ]
  },
  {
   "cell_type": "code",
   "execution_count": 29,
   "id": "031beaae",
   "metadata": {
    "execution": {
     "iopub.execute_input": "2023-08-19T11:59:14.630790Z",
     "iopub.status.busy": "2023-08-19T11:59:14.630337Z",
     "iopub.status.idle": "2023-08-19T11:59:14.638988Z",
     "shell.execute_reply": "2023-08-19T11:59:14.637186Z"
    },
    "papermill": {
     "duration": 0.044584,
     "end_time": "2023-08-19T11:59:14.642277",
     "exception": false,
     "start_time": "2023-08-19T11:59:14.597693",
     "status": "completed"
    },
    "tags": []
   },
   "outputs": [
    {
     "data": {
      "text/plain": [
       "{1, 2, 3, 4, 5, 6, 7}"
      ]
     },
     "execution_count": 29,
     "metadata": {},
     "output_type": "execute_result"
    }
   ],
   "source": [
    "a = {1,2,3,4,5,6,1,2,3,5,7}\n",
    "a"
   ]
  },
  {
   "cell_type": "code",
   "execution_count": 30,
   "id": "270c8de7",
   "metadata": {
    "execution": {
     "iopub.execute_input": "2023-08-19T11:59:14.703795Z",
     "iopub.status.busy": "2023-08-19T11:59:14.703317Z",
     "iopub.status.idle": "2023-08-19T11:59:14.712353Z",
     "shell.execute_reply": "2023-08-19T11:59:14.711043Z"
    },
    "papermill": {
     "duration": 0.043224,
     "end_time": "2023-08-19T11:59:14.714693",
     "exception": false,
     "start_time": "2023-08-19T11:59:14.671469",
     "status": "completed"
    },
    "tags": []
   },
   "outputs": [
    {
     "data": {
      "text/plain": [
       "dict_items([('a', {'a.1': 2, 'a.2': [10, 20, 30]}), ('b', {'b.1': {'b.1.1': 4}}), ('c', {'c.1': 5, 'c.2': {'c.2.1': [6, 55]}})])"
      ]
     },
     "execution_count": 30,
     "metadata": {},
     "output_type": "execute_result"
    }
   ],
   "source": [
    "sha = { \"a\" : { \n",
    "            \"a.1\" : 2,\n",
    "            \"a.2\"  : [10,20,30]\n",
    "            }\n",
    "     ,\n",
    "     \n",
    "     \"b\" : { \n",
    "            \"b.1\" : {\n",
    "                     \"b.1.1\" : 4\n",
    "                    }\n",
    "           }\n",
    "     ,\n",
    "      \"c\"  : {\n",
    "             \"c.1\" : 5,\n",
    "             \"c.2\"  : {\n",
    "                         \"c.2.1\" : [6,55]\n",
    "                      }\n",
    "       }}\n",
    "\n",
    "\n",
    "# sha[\"c\"][\"c.2\"][\"c.2.1\"][0]\n",
    "sha.items()"
   ]
  },
  {
   "cell_type": "code",
   "execution_count": 31,
   "id": "3d2a8aba",
   "metadata": {
    "execution": {
     "iopub.execute_input": "2023-08-19T11:59:14.781304Z",
     "iopub.status.busy": "2023-08-19T11:59:14.780826Z",
     "iopub.status.idle": "2023-08-19T11:59:14.790319Z",
     "shell.execute_reply": "2023-08-19T11:59:14.788717Z"
    },
    "papermill": {
     "duration": 0.045793,
     "end_time": "2023-08-19T11:59:14.792972",
     "exception": false,
     "start_time": "2023-08-19T11:59:14.747179",
     "status": "completed"
    },
    "tags": []
   },
   "outputs": [
    {
     "data": {
      "text/plain": [
       "[21, 2000, 43]"
      ]
     },
     "execution_count": 31,
     "metadata": {},
     "output_type": "execute_result"
    }
   ],
   "source": [
    "asha = [21,32,43]\n",
    "asha[1] = 2000\n",
    "asha\n"
   ]
  },
  {
   "cell_type": "code",
   "execution_count": 32,
   "id": "bf6059ac",
   "metadata": {
    "execution": {
     "iopub.execute_input": "2023-08-19T11:59:14.859775Z",
     "iopub.status.busy": "2023-08-19T11:59:14.859094Z",
     "iopub.status.idle": "2023-08-19T11:59:14.868510Z",
     "shell.execute_reply": "2023-08-19T11:59:14.867070Z"
    },
    "papermill": {
     "duration": 0.045623,
     "end_time": "2023-08-19T11:59:14.871167",
     "exception": false,
     "start_time": "2023-08-19T11:59:14.825544",
     "status": "completed"
    },
    "tags": []
   },
   "outputs": [
    {
     "data": {
      "text/plain": [
       "['apple', 'watermelon']"
      ]
     },
     "execution_count": 32,
     "metadata": {},
     "output_type": "execute_result"
    }
   ],
   "source": [
    "thislist = [\"apple\", \"banana\", \"cherry\"]\n",
    "# thislist[1:3] = [\"watermelon\",\"sharma\"]\n",
    "thislist[1:3]= [\"watermelon\"]\n",
    "thislist"
   ]
  },
  {
   "cell_type": "code",
   "execution_count": 33,
   "id": "12417dd6",
   "metadata": {
    "execution": {
     "iopub.execute_input": "2023-08-19T11:59:14.937241Z",
     "iopub.status.busy": "2023-08-19T11:59:14.935932Z",
     "iopub.status.idle": "2023-08-19T11:59:14.941106Z",
     "shell.execute_reply": "2023-08-19T11:59:14.940152Z"
    },
    "papermill": {
     "duration": 0.041767,
     "end_time": "2023-08-19T11:59:14.943603",
     "exception": false,
     "start_time": "2023-08-19T11:59:14.901836",
     "status": "completed"
    },
    "tags": []
   },
   "outputs": [],
   "source": [
    "# thislist = [\"apple\", \"banana\", \"cherry\"]\n",
    "# thislist[1:3] = 200\n",
    "# thislist"
   ]
  },
  {
   "cell_type": "code",
   "execution_count": 34,
   "id": "d13624c1",
   "metadata": {
    "execution": {
     "iopub.execute_input": "2023-08-19T11:59:15.009374Z",
     "iopub.status.busy": "2023-08-19T11:59:15.008709Z",
     "iopub.status.idle": "2023-08-19T11:59:15.015833Z",
     "shell.execute_reply": "2023-08-19T11:59:15.015005Z"
    },
    "papermill": {
     "duration": 0.04441,
     "end_time": "2023-08-19T11:59:15.018670",
     "exception": false,
     "start_time": "2023-08-19T11:59:14.974260",
     "status": "completed"
    },
    "tags": []
   },
   "outputs": [
    {
     "data": {
      "text/plain": [
       "['apple', 'watermelon', 'sah']"
      ]
     },
     "execution_count": 34,
     "metadata": {},
     "output_type": "execute_result"
    }
   ],
   "source": [
    "thislist = [\"apple\", \"banana\", \"cherry\"]\n",
    "thislist[1:3] = [\"watermelon\",\"sah\"]\n",
    "thislist"
   ]
  },
  {
   "cell_type": "code",
   "execution_count": null,
   "id": "4d7157bc",
   "metadata": {
    "papermill": {
     "duration": 0.02873,
     "end_time": "2023-08-19T11:59:15.081946",
     "exception": false,
     "start_time": "2023-08-19T11:59:15.053216",
     "status": "completed"
    },
    "tags": []
   },
   "outputs": [],
   "source": []
  },
  {
   "cell_type": "code",
   "execution_count": null,
   "id": "585cf045",
   "metadata": {
    "papermill": {
     "duration": 0.032621,
     "end_time": "2023-08-19T11:59:15.144428",
     "exception": false,
     "start_time": "2023-08-19T11:59:15.111807",
     "status": "completed"
    },
    "tags": []
   },
   "outputs": [],
   "source": []
  },
  {
   "cell_type": "code",
   "execution_count": 35,
   "id": "7586b962",
   "metadata": {
    "execution": {
     "iopub.execute_input": "2023-08-19T11:59:15.210790Z",
     "iopub.status.busy": "2023-08-19T11:59:15.210321Z",
     "iopub.status.idle": "2023-08-19T11:59:15.217171Z",
     "shell.execute_reply": "2023-08-19T11:59:15.215720Z"
    },
    "papermill": {
     "duration": 0.04307,
     "end_time": "2023-08-19T11:59:15.219868",
     "exception": false,
     "start_time": "2023-08-19T11:59:15.176798",
     "status": "completed"
    },
    "tags": []
   },
   "outputs": [
    {
     "name": "stdout",
     "output_type": "stream",
     "text": [
      "anusha\n",
      "yasmin\n",
      "anusha\n",
      "yasmin\n",
      "anusha\n",
      "yasmin\n",
      "anusha\n",
      "yasmin\n",
      "anusha\n",
      "yasmin\n",
      "sharma\n"
     ]
    }
   ],
   "source": [
    "for i in range(5) :\n",
    "    print(\"anusha\")\n",
    "    print(\"yasmin\")\n",
    "    \n",
    "print(\"sharma\")\n"
   ]
  },
  {
   "cell_type": "code",
   "execution_count": 36,
   "id": "93c79616",
   "metadata": {
    "execution": {
     "iopub.execute_input": "2023-08-19T11:59:15.283944Z",
     "iopub.status.busy": "2023-08-19T11:59:15.283498Z",
     "iopub.status.idle": "2023-08-19T11:59:15.289093Z",
     "shell.execute_reply": "2023-08-19T11:59:15.288007Z"
    },
    "papermill": {
     "duration": 0.041181,
     "end_time": "2023-08-19T11:59:15.291397",
     "exception": false,
     "start_time": "2023-08-19T11:59:15.250216",
     "status": "completed"
    },
    "tags": []
   },
   "outputs": [
    {
     "name": "stdout",
     "output_type": "stream",
     "text": [
      "0\n",
      "1\n",
      "2\n",
      "3\n",
      "4\n"
     ]
    }
   ],
   "source": [
    "a = range(5)\n",
    "for i in a : \n",
    "    print(i)"
   ]
  },
  {
   "cell_type": "code",
   "execution_count": 37,
   "id": "7d38815b",
   "metadata": {
    "execution": {
     "iopub.execute_input": "2023-08-19T11:59:15.359103Z",
     "iopub.status.busy": "2023-08-19T11:59:15.358610Z",
     "iopub.status.idle": "2023-08-19T11:59:15.364279Z",
     "shell.execute_reply": "2023-08-19T11:59:15.363223Z"
    },
    "papermill": {
     "duration": 0.042852,
     "end_time": "2023-08-19T11:59:15.366489",
     "exception": false,
     "start_time": "2023-08-19T11:59:15.323637",
     "status": "completed"
    },
    "tags": []
   },
   "outputs": [
    {
     "name": "stdout",
     "output_type": "stream",
     "text": [
      "0\n",
      "1\n",
      "2\n",
      "3\n",
      "4\n"
     ]
    }
   ],
   "source": [
    "for i in range(5):\n",
    "    print(i)"
   ]
  },
  {
   "cell_type": "code",
   "execution_count": 38,
   "id": "10a86a81",
   "metadata": {
    "execution": {
     "iopub.execute_input": "2023-08-19T11:59:15.431382Z",
     "iopub.status.busy": "2023-08-19T11:59:15.430883Z",
     "iopub.status.idle": "2023-08-19T11:59:15.436869Z",
     "shell.execute_reply": "2023-08-19T11:59:15.435526Z"
    },
    "papermill": {
     "duration": 0.042215,
     "end_time": "2023-08-19T11:59:15.439743",
     "exception": false,
     "start_time": "2023-08-19T11:59:15.397528",
     "status": "completed"
    },
    "tags": []
   },
   "outputs": [
    {
     "name": "stdout",
     "output_type": "stream",
     "text": [
      "0\n",
      "1\n",
      "2\n",
      "3\n",
      "4\n"
     ]
    }
   ],
   "source": [
    "for i in [0,1,2,3,4]:\n",
    "    print(i)"
   ]
  },
  {
   "cell_type": "code",
   "execution_count": 39,
   "id": "df7daa97",
   "metadata": {
    "execution": {
     "iopub.execute_input": "2023-08-19T11:59:15.503112Z",
     "iopub.status.busy": "2023-08-19T11:59:15.502700Z",
     "iopub.status.idle": "2023-08-19T11:59:15.508740Z",
     "shell.execute_reply": "2023-08-19T11:59:15.507320Z"
    },
    "papermill": {
     "duration": 0.038815,
     "end_time": "2023-08-19T11:59:15.511028",
     "exception": false,
     "start_time": "2023-08-19T11:59:15.472213",
     "status": "completed"
    },
    "tags": []
   },
   "outputs": [
    {
     "name": "stdout",
     "output_type": "stream",
     "text": [
      "3\n",
      "4\n",
      "5\n",
      "6\n",
      "7\n",
      "8\n"
     ]
    }
   ],
   "source": [
    "for i in range(3,9):\n",
    "    print(i)"
   ]
  },
  {
   "cell_type": "code",
   "execution_count": 40,
   "id": "999b44ab",
   "metadata": {
    "execution": {
     "iopub.execute_input": "2023-08-19T11:59:15.574945Z",
     "iopub.status.busy": "2023-08-19T11:59:15.573874Z",
     "iopub.status.idle": "2023-08-19T11:59:15.580290Z",
     "shell.execute_reply": "2023-08-19T11:59:15.579163Z"
    },
    "papermill": {
     "duration": 0.041258,
     "end_time": "2023-08-19T11:59:15.582799",
     "exception": false,
     "start_time": "2023-08-19T11:59:15.541541",
     "status": "completed"
    },
    "tags": []
   },
   "outputs": [
    {
     "name": "stdout",
     "output_type": "stream",
     "text": [
      "9\n",
      "11\n",
      "13\n",
      "15\n"
     ]
    }
   ],
   "source": [
    "for i  in range(9,16,2):\n",
    "    print(i)"
   ]
  },
  {
   "cell_type": "code",
   "execution_count": 41,
   "id": "4e308092",
   "metadata": {
    "execution": {
     "iopub.execute_input": "2023-08-19T11:59:15.646294Z",
     "iopub.status.busy": "2023-08-19T11:59:15.645823Z",
     "iopub.status.idle": "2023-08-19T11:59:15.650397Z",
     "shell.execute_reply": "2023-08-19T11:59:15.649512Z"
    },
    "papermill": {
     "duration": 0.039292,
     "end_time": "2023-08-19T11:59:15.652411",
     "exception": false,
     "start_time": "2023-08-19T11:59:15.613119",
     "status": "completed"
    },
    "tags": []
   },
   "outputs": [],
   "source": [
    "# for ( i = 0 , i < 5 , i ++) \n",
    "#             {\n",
    "\n",
    "#                 print(i)\n",
    "#             }\n",
    "    \n",
    "# print(\"anusha innocent \")"
   ]
  },
  {
   "cell_type": "code",
   "execution_count": 42,
   "id": "3951c59f",
   "metadata": {
    "execution": {
     "iopub.execute_input": "2023-08-19T11:59:15.717464Z",
     "iopub.status.busy": "2023-08-19T11:59:15.717019Z",
     "iopub.status.idle": "2023-08-19T11:59:15.722668Z",
     "shell.execute_reply": "2023-08-19T11:59:15.721620Z"
    },
    "papermill": {
     "duration": 0.042014,
     "end_time": "2023-08-19T11:59:15.725034",
     "exception": false,
     "start_time": "2023-08-19T11:59:15.683020",
     "status": "completed"
    },
    "tags": []
   },
   "outputs": [
    {
     "name": "stdout",
     "output_type": "stream",
     "text": [
      "10\n",
      "20\n",
      "30\n"
     ]
    }
   ],
   "source": [
    "# step - 1\n",
    "a = [10,20,30]\n",
    "\n",
    "for i in a :\n",
    "    print(i)"
   ]
  },
  {
   "cell_type": "code",
   "execution_count": 43,
   "id": "ed9aae6c",
   "metadata": {
    "execution": {
     "iopub.execute_input": "2023-08-19T11:59:15.788067Z",
     "iopub.status.busy": "2023-08-19T11:59:15.787569Z",
     "iopub.status.idle": "2023-08-19T11:59:15.795061Z",
     "shell.execute_reply": "2023-08-19T11:59:15.793608Z"
    },
    "papermill": {
     "duration": 0.042241,
     "end_time": "2023-08-19T11:59:15.798053",
     "exception": false,
     "start_time": "2023-08-19T11:59:15.755812",
     "status": "completed"
    },
    "tags": []
   },
   "outputs": [
    {
     "name": "stdout",
     "output_type": "stream",
     "text": [
      "10\n",
      "20\n",
      "30\n"
     ]
    }
   ],
   "source": [
    "#step - 2\n",
    "a = [10,20,30]\n",
    "for i in range(len(a)) :# 0 1 2\n",
    "    print(a[i])"
   ]
  },
  {
   "cell_type": "code",
   "execution_count": 44,
   "id": "fc275e1b",
   "metadata": {
    "execution": {
     "iopub.execute_input": "2023-08-19T11:59:15.863191Z",
     "iopub.status.busy": "2023-08-19T11:59:15.862756Z",
     "iopub.status.idle": "2023-08-19T11:59:15.872157Z",
     "shell.execute_reply": "2023-08-19T11:59:15.870599Z"
    },
    "papermill": {
     "duration": 0.044017,
     "end_time": "2023-08-19T11:59:15.874904",
     "exception": false,
     "start_time": "2023-08-19T11:59:15.830887",
     "status": "completed"
    },
    "tags": []
   },
   "outputs": [
    {
     "name": "stdout",
     "output_type": "stream",
     "text": [
      "0 0 0\n",
      "0 0 1\n",
      "0 0 0\n",
      "0 0 1\n",
      "0 1 0\n",
      "0 1 1\n",
      "0 1 0\n",
      "0 1 1\n",
      "0 2 0\n",
      "0 2 1\n",
      "0 2 0\n",
      "0 2 1\n",
      "0 0\n",
      "0 1\n",
      "0 2\n",
      "0 3\n",
      "loop is done\n",
      "1 0 0\n",
      "1 0 1\n",
      "1 0 0\n",
      "1 0 1\n",
      "1 1 0\n",
      "1 1 1\n",
      "1 1 0\n",
      "1 1 1\n",
      "1 2 0\n",
      "1 2 1\n",
      "1 2 0\n",
      "1 2 1\n",
      "1 0\n",
      "1 1\n",
      "1 2\n",
      "1 3\n",
      "loop is done\n",
      "2 0 0\n",
      "2 0 1\n",
      "2 0 0\n",
      "2 0 1\n",
      "2 1 0\n",
      "2 1 1\n",
      "2 1 0\n",
      "2 1 1\n",
      "2 2 0\n",
      "2 2 1\n",
      "2 2 0\n",
      "2 2 1\n",
      "2 0\n",
      "2 1\n",
      "2 2\n",
      "2 3\n",
      "loop is done\n",
      "3 0 0\n",
      "3 0 1\n",
      "3 0 0\n",
      "3 0 1\n",
      "3 1 0\n",
      "3 1 1\n",
      "3 1 0\n",
      "3 1 1\n",
      "3 2 0\n",
      "3 2 1\n",
      "3 2 0\n",
      "3 2 1\n",
      "3 0\n",
      "3 1\n",
      "3 2\n",
      "3 3\n",
      "loop is done\n",
      "4 0 0\n",
      "4 0 1\n",
      "4 0 0\n",
      "4 0 1\n",
      "4 1 0\n",
      "4 1 1\n",
      "4 1 0\n",
      "4 1 1\n",
      "4 2 0\n",
      "4 2 1\n",
      "4 2 0\n",
      "4 2 1\n",
      "4 0\n",
      "4 1\n",
      "4 2\n",
      "4 3\n",
      "loop is done\n"
     ]
    }
   ],
   "source": [
    "for i  in range(5): # 1    \n",
    "    for j in range (3): # 1.1\n",
    "        for k in range(2) : # 1.1.1\n",
    "            print(i,j,k)\n",
    "        for l in range(2) : # 1.1.2\n",
    "            print(i,j,l)            \n",
    "    for m in range(4) : # 1.2\n",
    "        print(i,m)\n",
    "    print(\"loop is done\")"
   ]
  },
  {
   "cell_type": "code",
   "execution_count": 45,
   "id": "ac23b604",
   "metadata": {
    "execution": {
     "iopub.execute_input": "2023-08-19T11:59:15.936660Z",
     "iopub.status.busy": "2023-08-19T11:59:15.936291Z",
     "iopub.status.idle": "2023-08-19T11:59:15.941390Z",
     "shell.execute_reply": "2023-08-19T11:59:15.940175Z"
    },
    "papermill": {
     "duration": 0.038855,
     "end_time": "2023-08-19T11:59:15.943860",
     "exception": false,
     "start_time": "2023-08-19T11:59:15.905005",
     "status": "completed"
    },
    "tags": []
   },
   "outputs": [],
   "source": [
    "# * \n",
    "# * * \n",
    "# * * * \n",
    "# * * * * \n",
    "# * * * * * "
   ]
  },
  {
   "cell_type": "code",
   "execution_count": 46,
   "id": "5b9734f4",
   "metadata": {
    "execution": {
     "iopub.execute_input": "2023-08-19T11:59:16.008629Z",
     "iopub.status.busy": "2023-08-19T11:59:16.008136Z",
     "iopub.status.idle": "2023-08-19T11:59:16.014140Z",
     "shell.execute_reply": "2023-08-19T11:59:16.013021Z"
    },
    "papermill": {
     "duration": 0.043137,
     "end_time": "2023-08-19T11:59:16.017329",
     "exception": false,
     "start_time": "2023-08-19T11:59:15.974192",
     "status": "completed"
    },
    "tags": []
   },
   "outputs": [
    {
     "name": "stdout",
     "output_type": "stream",
     "text": [
      "* \n",
      "* * \n",
      "* * * \n",
      "* * * * \n",
      "* * * * * \n"
     ]
    }
   ],
   "source": [
    "for i in range(5) :\n",
    "    print(\"* \" * (int(i)+1))"
   ]
  },
  {
   "cell_type": "code",
   "execution_count": 47,
   "id": "87a75082",
   "metadata": {
    "execution": {
     "iopub.execute_input": "2023-08-19T11:59:16.083091Z",
     "iopub.status.busy": "2023-08-19T11:59:16.082664Z",
     "iopub.status.idle": "2023-08-19T11:59:16.087898Z",
     "shell.execute_reply": "2023-08-19T11:59:16.086383Z"
    },
    "papermill": {
     "duration": 0.04136,
     "end_time": "2023-08-19T11:59:16.090661",
     "exception": false,
     "start_time": "2023-08-19T11:59:16.049301",
     "status": "completed"
    },
    "tags": []
   },
   "outputs": [],
   "source": [
    "# *\n",
    "# **\n",
    "# ***\n",
    "# ****\n",
    "# *****\n",
    "\n",
    "# *****\n",
    "# ****\n",
    "# ***\n",
    "# **\n",
    "# *"
   ]
  },
  {
   "cell_type": "code",
   "execution_count": 48,
   "id": "7e12c518",
   "metadata": {
    "execution": {
     "iopub.execute_input": "2023-08-19T11:59:16.154997Z",
     "iopub.status.busy": "2023-08-19T11:59:16.153471Z",
     "iopub.status.idle": "2023-08-19T11:59:16.162369Z",
     "shell.execute_reply": "2023-08-19T11:59:16.160017Z"
    },
    "papermill": {
     "duration": 0.043872,
     "end_time": "2023-08-19T11:59:16.165252",
     "exception": false,
     "start_time": "2023-08-19T11:59:16.121380",
     "status": "completed"
    },
    "tags": []
   },
   "outputs": [
    {
     "name": "stdout",
     "output_type": "stream",
     "text": [
      "*\n",
      "**\n",
      "***\n",
      "****\n",
      "*****\n",
      "*****\n",
      "****\n",
      "***\n",
      "**\n",
      "*\n"
     ]
    }
   ],
   "source": [
    "for i in range(5) :\n",
    "    print(\"*\" * (int(i)+1))\n",
    "for i in range(5) :\n",
    "    print(\"*\" * (5 - int(i)))"
   ]
  },
  {
   "cell_type": "code",
   "execution_count": 49,
   "id": "2f92311d",
   "metadata": {
    "execution": {
     "iopub.execute_input": "2023-08-19T11:59:16.231772Z",
     "iopub.status.busy": "2023-08-19T11:59:16.231356Z",
     "iopub.status.idle": "2023-08-19T11:59:16.237513Z",
     "shell.execute_reply": "2023-08-19T11:59:16.235911Z"
    },
    "papermill": {
     "duration": 0.042306,
     "end_time": "2023-08-19T11:59:16.240024",
     "exception": false,
     "start_time": "2023-08-19T11:59:16.197718",
     "status": "completed"
    },
    "tags": []
   },
   "outputs": [],
   "source": [
    "if 10 < 5 :\n",
    "    print(\"yes\")"
   ]
  },
  {
   "cell_type": "code",
   "execution_count": 50,
   "id": "c7c09df4",
   "metadata": {
    "execution": {
     "iopub.execute_input": "2023-08-19T11:59:16.304547Z",
     "iopub.status.busy": "2023-08-19T11:59:16.304117Z",
     "iopub.status.idle": "2023-08-19T11:59:16.311312Z",
     "shell.execute_reply": "2023-08-19T11:59:16.309732Z"
    },
    "papermill": {
     "duration": 0.042872,
     "end_time": "2023-08-19T11:59:16.313755",
     "exception": false,
     "start_time": "2023-08-19T11:59:16.270883",
     "status": "completed"
    },
    "tags": []
   },
   "outputs": [
    {
     "name": "stdout",
     "output_type": "stream",
     "text": [
      "no\n"
     ]
    }
   ],
   "source": [
    "if 10 < 5 :\n",
    "    print(\"yes\")\n",
    "else :\n",
    "    print(\"no\")"
   ]
  },
  {
   "cell_type": "code",
   "execution_count": 51,
   "id": "88975417",
   "metadata": {
    "execution": {
     "iopub.execute_input": "2023-08-19T11:59:16.381258Z",
     "iopub.status.busy": "2023-08-19T11:59:16.380147Z",
     "iopub.status.idle": "2023-08-19T11:59:16.387059Z",
     "shell.execute_reply": "2023-08-19T11:59:16.386011Z"
    },
    "papermill": {
     "duration": 0.045413,
     "end_time": "2023-08-19T11:59:16.389998",
     "exception": false,
     "start_time": "2023-08-19T11:59:16.344585",
     "status": "completed"
    },
    "tags": []
   },
   "outputs": [
    {
     "name": "stdout",
     "output_type": "stream",
     "text": [
      "passed\n"
     ]
    }
   ],
   "source": [
    "marks = 30\n",
    "\n",
    "if marks > 95 :\n",
    "    print(\"distinction\")\n",
    "    \n",
    "elif marks > 75 :\n",
    "    print(\"firstgrade\")\n",
    "elif marks > 50 :\n",
    "    print(\"secondgrade\")\n",
    "    \n",
    "else :\n",
    "    print(\"passed\")"
   ]
  },
  {
   "cell_type": "markdown",
   "id": "a03b6b28",
   "metadata": {
    "papermill": {
     "duration": 0.029776,
     "end_time": "2023-08-19T11:59:16.452040",
     "exception": false,
     "start_time": "2023-08-19T11:59:16.422264",
     "status": "completed"
    },
    "tags": []
   },
   "source": []
  },
  {
   "cell_type": "code",
   "execution_count": 52,
   "id": "79dc8801",
   "metadata": {
    "execution": {
     "iopub.execute_input": "2023-08-19T11:59:16.516826Z",
     "iopub.status.busy": "2023-08-19T11:59:16.516357Z",
     "iopub.status.idle": "2023-08-19T11:59:16.521593Z",
     "shell.execute_reply": "2023-08-19T11:59:16.520623Z"
    },
    "papermill": {
     "duration": 0.040682,
     "end_time": "2023-08-19T11:59:16.524521",
     "exception": false,
     "start_time": "2023-08-19T11:59:16.483839",
     "status": "completed"
    },
    "tags": []
   },
   "outputs": [
    {
     "name": "stdout",
     "output_type": "stream",
     "text": [
      "10\n",
      "9\n",
      "8\n",
      "7\n",
      "6\n"
     ]
    }
   ],
   "source": [
    "a  = 10 \n",
    "\n",
    "while a > 5 : # true 9\n",
    "    print(a) \n",
    "    a = a -  1"
   ]
  },
  {
   "cell_type": "code",
   "execution_count": 53,
   "id": "d76cd536",
   "metadata": {
    "execution": {
     "iopub.execute_input": "2023-08-19T11:59:16.592020Z",
     "iopub.status.busy": "2023-08-19T11:59:16.591155Z",
     "iopub.status.idle": "2023-08-19T11:59:16.595411Z",
     "shell.execute_reply": "2023-08-19T11:59:16.594578Z"
    },
    "papermill": {
     "duration": 0.040993,
     "end_time": "2023-08-19T11:59:16.597660",
     "exception": false,
     "start_time": "2023-08-19T11:59:16.556667",
     "status": "completed"
    },
    "tags": []
   },
   "outputs": [],
   "source": [
    "# * * * * *\n",
    "# * * * * \n",
    "# * * * \n",
    "# * * \n",
    "# *"
   ]
  },
  {
   "cell_type": "code",
   "execution_count": 54,
   "id": "6aaf555d",
   "metadata": {
    "execution": {
     "iopub.execute_input": "2023-08-19T11:59:16.660979Z",
     "iopub.status.busy": "2023-08-19T11:59:16.660486Z",
     "iopub.status.idle": "2023-08-19T11:59:16.666431Z",
     "shell.execute_reply": "2023-08-19T11:59:16.664905Z"
    },
    "papermill": {
     "duration": 0.041423,
     "end_time": "2023-08-19T11:59:16.670120",
     "exception": false,
     "start_time": "2023-08-19T11:59:16.628697",
     "status": "completed"
    },
    "tags": []
   },
   "outputs": [
    {
     "name": "stdout",
     "output_type": "stream",
     "text": [
      "* * * * * \n",
      "* * * * \n",
      "* * * \n",
      "* * \n",
      "* \n"
     ]
    }
   ],
   "source": [
    "for i in range(5) :\n",
    "    print(\"* \" * (5-i))"
   ]
  },
  {
   "cell_type": "code",
   "execution_count": 55,
   "id": "be4bb1d2",
   "metadata": {
    "execution": {
     "iopub.execute_input": "2023-08-19T11:59:16.737858Z",
     "iopub.status.busy": "2023-08-19T11:59:16.737451Z",
     "iopub.status.idle": "2023-08-19T11:59:16.743130Z",
     "shell.execute_reply": "2023-08-19T11:59:16.741701Z"
    },
    "papermill": {
     "duration": 0.043188,
     "end_time": "2023-08-19T11:59:16.745486",
     "exception": false,
     "start_time": "2023-08-19T11:59:16.702298",
     "status": "completed"
    },
    "tags": []
   },
   "outputs": [],
   "source": [
    "# *\n",
    "# **\n",
    "# ***\n",
    "# ****\n",
    "# *****"
   ]
  },
  {
   "cell_type": "code",
   "execution_count": 56,
   "id": "d2047871",
   "metadata": {
    "execution": {
     "iopub.execute_input": "2023-08-19T11:59:16.810661Z",
     "iopub.status.busy": "2023-08-19T11:59:16.810220Z",
     "iopub.status.idle": "2023-08-19T11:59:16.816940Z",
     "shell.execute_reply": "2023-08-19T11:59:16.815582Z"
    },
    "papermill": {
     "duration": 0.041212,
     "end_time": "2023-08-19T11:59:16.819340",
     "exception": false,
     "start_time": "2023-08-19T11:59:16.778128",
     "status": "completed"
    },
    "tags": []
   },
   "outputs": [
    {
     "name": "stdout",
     "output_type": "stream",
     "text": [
      "*\n",
      "**\n",
      "***\n",
      "****\n",
      "*****\n"
     ]
    }
   ],
   "source": [
    "for i in range(5) :\n",
    "    print(\"*\" * (int(i)+1))"
   ]
  },
  {
   "cell_type": "code",
   "execution_count": 57,
   "id": "c09b89c6",
   "metadata": {
    "execution": {
     "iopub.execute_input": "2023-08-19T11:59:16.882865Z",
     "iopub.status.busy": "2023-08-19T11:59:16.882413Z",
     "iopub.status.idle": "2023-08-19T11:59:16.888356Z",
     "shell.execute_reply": "2023-08-19T11:59:16.886917Z"
    },
    "papermill": {
     "duration": 0.040774,
     "end_time": "2023-08-19T11:59:16.891260",
     "exception": false,
     "start_time": "2023-08-19T11:59:16.850486",
     "status": "completed"
    },
    "tags": []
   },
   "outputs": [],
   "source": [
    "#         *\n",
    "#       **\n",
    "#     ***\n",
    "#   ****\n",
    "# *****"
   ]
  },
  {
   "cell_type": "code",
   "execution_count": 58,
   "id": "1835ccfe",
   "metadata": {
    "execution": {
     "iopub.execute_input": "2023-08-19T11:59:16.956045Z",
     "iopub.status.busy": "2023-08-19T11:59:16.955579Z",
     "iopub.status.idle": "2023-08-19T11:59:16.962618Z",
     "shell.execute_reply": "2023-08-19T11:59:16.961494Z"
    },
    "papermill": {
     "duration": 0.042755,
     "end_time": "2023-08-19T11:59:16.964888",
     "exception": false,
     "start_time": "2023-08-19T11:59:16.922133",
     "status": "completed"
    },
    "tags": []
   },
   "outputs": [
    {
     "name": "stdout",
     "output_type": "stream",
     "text": [
      "           *\n",
      "         **\n",
      "       ***\n",
      "     ****\n",
      "   *****\n"
     ]
    }
   ],
   "source": [
    "for i in range(5) :\n",
    "    print(\" \"* ((5-i)*2),\"*\" * (int(i)+1))"
   ]
  },
  {
   "cell_type": "code",
   "execution_count": 59,
   "id": "27bfe66b",
   "metadata": {
    "execution": {
     "iopub.execute_input": "2023-08-19T11:59:17.030349Z",
     "iopub.status.busy": "2023-08-19T11:59:17.029989Z",
     "iopub.status.idle": "2023-08-19T11:59:17.036320Z",
     "shell.execute_reply": "2023-08-19T11:59:17.034900Z"
    },
    "papermill": {
     "duration": 0.04176,
     "end_time": "2023-08-19T11:59:17.038647",
     "exception": false,
     "start_time": "2023-08-19T11:59:16.996887",
     "status": "completed"
    },
    "tags": []
   },
   "outputs": [
    {
     "name": "stdout",
     "output_type": "stream",
     "text": [
      "* * * * * \n",
      "* * * * \n",
      "* * * \n",
      "* * \n",
      "* * * \n"
     ]
    }
   ],
   "source": [
    "for i in range(4):\n",
    "    print(\"* \" * (5-i))\n",
    "print(\"* \"* 3)"
   ]
  },
  {
   "cell_type": "code",
   "execution_count": 60,
   "id": "ba7fb55d",
   "metadata": {
    "execution": {
     "iopub.execute_input": "2023-08-19T11:59:17.102101Z",
     "iopub.status.busy": "2023-08-19T11:59:17.101683Z",
     "iopub.status.idle": "2023-08-19T11:59:17.107094Z",
     "shell.execute_reply": "2023-08-19T11:59:17.105438Z"
    },
    "papermill": {
     "duration": 0.039903,
     "end_time": "2023-08-19T11:59:17.109369",
     "exception": false,
     "start_time": "2023-08-19T11:59:17.069466",
     "status": "completed"
    },
    "tags": []
   },
   "outputs": [],
   "source": [
    "#     * \n",
    "#    **\n",
    "#   ***\n",
    "#  ****\n",
    "# *****"
   ]
  },
  {
   "cell_type": "code",
   "execution_count": 61,
   "id": "d42e1427",
   "metadata": {
    "execution": {
     "iopub.execute_input": "2023-08-19T11:59:17.173611Z",
     "iopub.status.busy": "2023-08-19T11:59:17.173201Z",
     "iopub.status.idle": "2023-08-19T11:59:17.179290Z",
     "shell.execute_reply": "2023-08-19T11:59:17.177985Z"
    },
    "papermill": {
     "duration": 0.041861,
     "end_time": "2023-08-19T11:59:17.182257",
     "exception": false,
     "start_time": "2023-08-19T11:59:17.140396",
     "status": "completed"
    },
    "tags": []
   },
   "outputs": [
    {
     "name": "stdout",
     "output_type": "stream",
     "text": [
      "     *\n",
      "    **\n",
      "   ***\n",
      "  ****\n",
      " *****\n"
     ]
    }
   ],
   "source": [
    "for i in range(5):\n",
    "    print(\" \"* (4-int(i)),\"*\" * (i+1))"
   ]
  },
  {
   "cell_type": "code",
   "execution_count": 62,
   "id": "d27603c9",
   "metadata": {
    "execution": {
     "iopub.execute_input": "2023-08-19T11:59:17.246680Z",
     "iopub.status.busy": "2023-08-19T11:59:17.246266Z",
     "iopub.status.idle": "2023-08-19T11:59:17.251973Z",
     "shell.execute_reply": "2023-08-19T11:59:17.250666Z"
    },
    "papermill": {
     "duration": 0.040331,
     "end_time": "2023-08-19T11:59:17.254203",
     "exception": false,
     "start_time": "2023-08-19T11:59:17.213872",
     "status": "completed"
    },
    "tags": []
   },
   "outputs": [],
   "source": [
    "#        * \n",
    "#       * * \n",
    "#      * * * \n",
    "#     * * * * \n",
    "#    * * * * *"
   ]
  },
  {
   "cell_type": "code",
   "execution_count": 63,
   "id": "ed2415dd",
   "metadata": {
    "execution": {
     "iopub.execute_input": "2023-08-19T11:59:17.317417Z",
     "iopub.status.busy": "2023-08-19T11:59:17.317021Z",
     "iopub.status.idle": "2023-08-19T11:59:17.324383Z",
     "shell.execute_reply": "2023-08-19T11:59:17.322708Z"
    },
    "papermill": {
     "duration": 0.042188,
     "end_time": "2023-08-19T11:59:17.326914",
     "exception": false,
     "start_time": "2023-08-19T11:59:17.284726",
     "status": "completed"
    },
    "tags": []
   },
   "outputs": [
    {
     "name": "stdout",
     "output_type": "stream",
     "text": [
      "        * \n",
      "       * * \n",
      "      * * * \n",
      "     * * * * \n",
      "    * * * * * \n"
     ]
    }
   ],
   "source": [
    "for i in range(5) :\n",
    "    print(\" \" * (7-int(i)),\"* \" * (int(i) + 1))"
   ]
  },
  {
   "cell_type": "code",
   "execution_count": 64,
   "id": "f0f7dce2",
   "metadata": {
    "execution": {
     "iopub.execute_input": "2023-08-19T11:59:17.393566Z",
     "iopub.status.busy": "2023-08-19T11:59:17.393104Z",
     "iopub.status.idle": "2023-08-19T11:59:17.397782Z",
     "shell.execute_reply": "2023-08-19T11:59:17.396735Z"
    },
    "papermill": {
     "duration": 0.042553,
     "end_time": "2023-08-19T11:59:17.400498",
     "exception": false,
     "start_time": "2023-08-19T11:59:17.357945",
     "status": "completed"
    },
    "tags": []
   },
   "outputs": [],
   "source": [
    "#  * * * * *     \n",
    "#  * * * * * \n",
    "#   * * * * \n",
    "#    * * * \n",
    "#     * * \n",
    "#      * "
   ]
  },
  {
   "cell_type": "code",
   "execution_count": 65,
   "id": "cf2eaa63",
   "metadata": {
    "execution": {
     "iopub.execute_input": "2023-08-19T11:59:17.466924Z",
     "iopub.status.busy": "2023-08-19T11:59:17.466515Z",
     "iopub.status.idle": "2023-08-19T11:59:17.473046Z",
     "shell.execute_reply": "2023-08-19T11:59:17.471569Z"
    },
    "papermill": {
     "duration": 0.042386,
     "end_time": "2023-08-19T11:59:17.475601",
     "exception": false,
     "start_time": "2023-08-19T11:59:17.433215",
     "status": "completed"
    },
    "tags": []
   },
   "outputs": [
    {
     "name": "stdout",
     "output_type": "stream",
     "text": [
      "  * * * * * \n",
      "  * * * * * \n",
      "   * * * * \n",
      "    * * * \n",
      "     * * \n",
      "      * \n"
     ]
    }
   ],
   "source": [
    "print(\" \",\"* \"* 5)\n",
    "for i in range(5) :\n",
    "    print(\" \"* (int(i) +1),\"* \"* (5- int(i)))"
   ]
  },
  {
   "cell_type": "code",
   "execution_count": 66,
   "id": "633f7d92",
   "metadata": {
    "execution": {
     "iopub.execute_input": "2023-08-19T11:59:17.541071Z",
     "iopub.status.busy": "2023-08-19T11:59:17.539825Z",
     "iopub.status.idle": "2023-08-19T11:59:17.547637Z",
     "shell.execute_reply": "2023-08-19T11:59:17.546229Z"
    },
    "papermill": {
     "duration": 0.042824,
     "end_time": "2023-08-19T11:59:17.549631",
     "exception": false,
     "start_time": "2023-08-19T11:59:17.506807",
     "status": "completed"
    },
    "tags": []
   },
   "outputs": [
    {
     "name": "stdout",
     "output_type": "stream",
     "text": [
      "10\n",
      "9\n"
     ]
    }
   ],
   "source": [
    "a = 10\n",
    "\n",
    "while a > 1 :\n",
    "    print(a)\n",
    "    if a == 9 :\n",
    "        break\n",
    "    a = a - 1"
   ]
  },
  {
   "cell_type": "code",
   "execution_count": 67,
   "id": "716040b0",
   "metadata": {
    "execution": {
     "iopub.execute_input": "2023-08-19T11:59:17.614795Z",
     "iopub.status.busy": "2023-08-19T11:59:17.613351Z",
     "iopub.status.idle": "2023-08-19T11:59:17.618982Z",
     "shell.execute_reply": "2023-08-19T11:59:17.618045Z"
    },
    "papermill": {
     "duration": 0.041051,
     "end_time": "2023-08-19T11:59:17.621519",
     "exception": false,
     "start_time": "2023-08-19T11:59:17.580468",
     "status": "completed"
    },
    "tags": []
   },
   "outputs": [],
   "source": [
    "# day - 3"
   ]
  },
  {
   "cell_type": "code",
   "execution_count": 68,
   "id": "92ab1e6f",
   "metadata": {
    "execution": {
     "iopub.execute_input": "2023-08-19T11:59:17.688085Z",
     "iopub.status.busy": "2023-08-19T11:59:17.686772Z",
     "iopub.status.idle": "2023-08-19T11:59:17.693083Z",
     "shell.execute_reply": "2023-08-19T11:59:17.692149Z"
    },
    "papermill": {
     "duration": 0.041265,
     "end_time": "2023-08-19T11:59:17.695494",
     "exception": false,
     "start_time": "2023-08-19T11:59:17.654229",
     "status": "completed"
    },
    "tags": []
   },
   "outputs": [
    {
     "name": "stdout",
     "output_type": "stream",
     "text": [
      "        * \n",
      "       * * \n",
      "      * * * \n",
      "     * * * * \n",
      "    * * * * * \n"
     ]
    }
   ],
   "source": [
    "for i  in range(5) :\n",
    "    print(\" \" * (7 - int(i)), \"* \" * (int(i) + 1))"
   ]
  },
  {
   "cell_type": "code",
   "execution_count": 69,
   "id": "aa4362ae",
   "metadata": {
    "execution": {
     "iopub.execute_input": "2023-08-19T11:59:17.762863Z",
     "iopub.status.busy": "2023-08-19T11:59:17.762452Z",
     "iopub.status.idle": "2023-08-19T11:59:17.766567Z",
     "shell.execute_reply": "2023-08-19T11:59:17.765479Z"
    },
    "papermill": {
     "duration": 0.042054,
     "end_time": "2023-08-19T11:59:17.768797",
     "exception": false,
     "start_time": "2023-08-19T11:59:17.726743",
     "status": "completed"
    },
    "tags": []
   },
   "outputs": [],
   "source": [
    "#         * \n",
    "#        * *      \n",
    "#       * * * \n",
    "#      * * * * \n",
    "#     * * * * *"
   ]
  },
  {
   "cell_type": "code",
   "execution_count": 70,
   "id": "838b271d",
   "metadata": {
    "execution": {
     "iopub.execute_input": "2023-08-19T11:59:17.833585Z",
     "iopub.status.busy": "2023-08-19T11:59:17.833170Z",
     "iopub.status.idle": "2023-08-19T11:59:17.838082Z",
     "shell.execute_reply": "2023-08-19T11:59:17.836728Z"
    },
    "papermill": {
     "duration": 0.039697,
     "end_time": "2023-08-19T11:59:17.840048",
     "exception": false,
     "start_time": "2023-08-19T11:59:17.800351",
     "status": "completed"
    },
    "tags": []
   },
   "outputs": [],
   "source": [
    "# 1\n",
    "# 2 2\n",
    "# 3 3 3\n",
    "# 4 4 4 4\n",
    "# 5 5 5 5 5"
   ]
  },
  {
   "cell_type": "code",
   "execution_count": 71,
   "id": "03d5679f",
   "metadata": {
    "execution": {
     "iopub.execute_input": "2023-08-19T11:59:17.904275Z",
     "iopub.status.busy": "2023-08-19T11:59:17.903752Z",
     "iopub.status.idle": "2023-08-19T11:59:17.909863Z",
     "shell.execute_reply": "2023-08-19T11:59:17.908926Z"
    },
    "papermill": {
     "duration": 0.041149,
     "end_time": "2023-08-19T11:59:17.912075",
     "exception": false,
     "start_time": "2023-08-19T11:59:17.870926",
     "status": "completed"
    },
    "tags": []
   },
   "outputs": [
    {
     "name": "stdout",
     "output_type": "stream",
     "text": [
      "1 \n",
      "2 2 \n",
      "3 3 3 \n",
      "4 4 4 4 \n",
      "5 5 5 5 5 \n"
     ]
    }
   ],
   "source": [
    "for i in range(5) :\n",
    "    print((str(i+1)+ \" \") * (int(i)+1))"
   ]
  },
  {
   "cell_type": "code",
   "execution_count": 72,
   "id": "26c3ec67",
   "metadata": {
    "execution": {
     "iopub.execute_input": "2023-08-19T11:59:17.978607Z",
     "iopub.status.busy": "2023-08-19T11:59:17.978139Z",
     "iopub.status.idle": "2023-08-19T11:59:17.983124Z",
     "shell.execute_reply": "2023-08-19T11:59:17.982010Z"
    },
    "papermill": {
     "duration": 0.042497,
     "end_time": "2023-08-19T11:59:17.985883",
     "exception": false,
     "start_time": "2023-08-19T11:59:17.943386",
     "status": "completed"
    },
    "tags": []
   },
   "outputs": [],
   "source": [
    "# a\n",
    "# b b\n",
    "# c c c\n",
    "# d d d d\n",
    "# # e e e e e\n"
   ]
  },
  {
   "cell_type": "code",
   "execution_count": 73,
   "id": "27033b55",
   "metadata": {
    "execution": {
     "iopub.execute_input": "2023-08-19T11:59:18.055267Z",
     "iopub.status.busy": "2023-08-19T11:59:18.054802Z",
     "iopub.status.idle": "2023-08-19T11:59:18.061720Z",
     "shell.execute_reply": "2023-08-19T11:59:18.060212Z"
    },
    "papermill": {
     "duration": 0.046196,
     "end_time": "2023-08-19T11:59:18.065214",
     "exception": false,
     "start_time": "2023-08-19T11:59:18.019018",
     "status": "completed"
    },
    "tags": []
   },
   "outputs": [
    {
     "name": "stdout",
     "output_type": "stream",
     "text": [
      "a \n",
      "b b \n",
      "c c c \n",
      "d d d d \n",
      "e e e e e \n"
     ]
    }
   ],
   "source": [
    "anbhu = [\"a\",\"b\",\"c\",\"d\",\"e\"]\n",
    "for i in range(5) :\n",
    "    print((anbhu[i]+\" \") * (int(i)+1))"
   ]
  },
  {
   "cell_type": "code",
   "execution_count": 74,
   "id": "b7b7147b",
   "metadata": {
    "execution": {
     "iopub.execute_input": "2023-08-19T11:59:18.131568Z",
     "iopub.status.busy": "2023-08-19T11:59:18.131121Z",
     "iopub.status.idle": "2023-08-19T11:59:18.137499Z",
     "shell.execute_reply": "2023-08-19T11:59:18.136345Z"
    },
    "papermill": {
     "duration": 0.042389,
     "end_time": "2023-08-19T11:59:18.139701",
     "exception": false,
     "start_time": "2023-08-19T11:59:18.097312",
     "status": "completed"
    },
    "tags": []
   },
   "outputs": [
    {
     "name": "stdout",
     "output_type": "stream",
     "text": [
      "         *\n",
      "       **\n",
      "     ***\n",
      "   ****\n",
      " *****\n"
     ]
    }
   ],
   "source": [
    "for i in range(5) :\n",
    "    print(\" \" * (2* (4-int(i))), \"*\" * (int(i) + 1) )"
   ]
  },
  {
   "cell_type": "code",
   "execution_count": 75,
   "id": "28c9d050",
   "metadata": {
    "execution": {
     "iopub.execute_input": "2023-08-19T11:59:18.208074Z",
     "iopub.status.busy": "2023-08-19T11:59:18.207578Z",
     "iopub.status.idle": "2023-08-19T11:59:18.212052Z",
     "shell.execute_reply": "2023-08-19T11:59:18.211160Z"
    },
    "papermill": {
     "duration": 0.041952,
     "end_time": "2023-08-19T11:59:18.214173",
     "exception": false,
     "start_time": "2023-08-19T11:59:18.172221",
     "status": "completed"
    },
    "tags": []
   },
   "outputs": [],
   "source": [
    "# * * * * * \n",
    "# * * * * * \n",
    "#  * * * * \n",
    "#   * * * \n",
    "#    * * \n",
    "#     * "
   ]
  },
  {
   "cell_type": "code",
   "execution_count": 76,
   "id": "87db66a1",
   "metadata": {
    "execution": {
     "iopub.execute_input": "2023-08-19T11:59:18.350631Z",
     "iopub.status.busy": "2023-08-19T11:59:18.350182Z",
     "iopub.status.idle": "2023-08-19T11:59:18.356665Z",
     "shell.execute_reply": "2023-08-19T11:59:18.355206Z"
    },
    "papermill": {
     "duration": 0.109435,
     "end_time": "2023-08-19T11:59:18.359272",
     "exception": false,
     "start_time": "2023-08-19T11:59:18.249837",
     "status": "completed"
    },
    "tags": []
   },
   "outputs": [
    {
     "name": "stdout",
     "output_type": "stream",
     "text": [
      " * * * * *\n",
      " * * * * * \n",
      "  * * * * \n",
      "   * * * \n",
      "    * * \n",
      "     * \n"
     ]
    }
   ],
   "source": [
    "print(\" *\"* 5)\n",
    "for i in range(5) :\n",
    "    print(\" \" * i, \"* \" * (5- int(i)))"
   ]
  },
  {
   "cell_type": "code",
   "execution_count": 77,
   "id": "21a0a3da",
   "metadata": {
    "execution": {
     "iopub.execute_input": "2023-08-19T11:59:18.431815Z",
     "iopub.status.busy": "2023-08-19T11:59:18.431361Z",
     "iopub.status.idle": "2023-08-19T11:59:18.438264Z",
     "shell.execute_reply": "2023-08-19T11:59:18.437012Z"
    },
    "papermill": {
     "duration": 0.04699,
     "end_time": "2023-08-19T11:59:18.440982",
     "exception": false,
     "start_time": "2023-08-19T11:59:18.393992",
     "status": "completed"
    },
    "tags": []
   },
   "outputs": [],
   "source": [
    "# 5 5 5 5 5 \n",
    "\n",
    "# 5 5 5 5 \n",
    "\n",
    "# 5 5 5 \n",
    "\n",
    "# 5 5 \n",
    "\n",
    "# 5"
   ]
  },
  {
   "cell_type": "code",
   "execution_count": 78,
   "id": "4e366b82",
   "metadata": {
    "execution": {
     "iopub.execute_input": "2023-08-19T11:59:18.506931Z",
     "iopub.status.busy": "2023-08-19T11:59:18.506536Z",
     "iopub.status.idle": "2023-08-19T11:59:18.512866Z",
     "shell.execute_reply": "2023-08-19T11:59:18.511281Z"
    },
    "papermill": {
     "duration": 0.04235,
     "end_time": "2023-08-19T11:59:18.515482",
     "exception": false,
     "start_time": "2023-08-19T11:59:18.473132",
     "status": "completed"
    },
    "tags": []
   },
   "outputs": [
    {
     "name": "stdout",
     "output_type": "stream",
     "text": [
      "5 5 5 5 5 \n",
      "5 5 5 5 \n",
      "5 5 5 \n",
      "5 5 \n",
      "5 \n"
     ]
    }
   ],
   "source": [
    "for i in range(5) :\n",
    "    print(\"5 \" *( 5 - int(i)))"
   ]
  },
  {
   "cell_type": "code",
   "execution_count": 79,
   "id": "e5a5d0db",
   "metadata": {
    "execution": {
     "iopub.execute_input": "2023-08-19T11:59:18.582117Z",
     "iopub.status.busy": "2023-08-19T11:59:18.581662Z",
     "iopub.status.idle": "2023-08-19T11:59:18.589157Z",
     "shell.execute_reply": "2023-08-19T11:59:18.587520Z"
    },
    "papermill": {
     "duration": 0.044463,
     "end_time": "2023-08-19T11:59:18.592518",
     "exception": false,
     "start_time": "2023-08-19T11:59:18.548055",
     "status": "completed"
    },
    "tags": []
   },
   "outputs": [
    {
     "name": "stdout",
     "output_type": "stream",
     "text": [
      "asha  is unqualified \n"
     ]
    }
   ],
   "source": [
    "m1 = 80\n",
    "m2 = 80\n",
    "name = \"asha\"\n",
    "\n",
    "if m1 > 85 and m2 > 85 :\n",
    "    print(name , \"is qualified\")\n",
    "else :\n",
    "    print(name , \" is unqualified \")"
   ]
  },
  {
   "cell_type": "code",
   "execution_count": 80,
   "id": "7dd23b73",
   "metadata": {
    "execution": {
     "iopub.execute_input": "2023-08-19T11:59:18.659163Z",
     "iopub.status.busy": "2023-08-19T11:59:18.658785Z",
     "iopub.status.idle": "2023-08-19T11:59:18.663638Z",
     "shell.execute_reply": "2023-08-19T11:59:18.662640Z"
    },
    "papermill": {
     "duration": 0.041134,
     "end_time": "2023-08-19T11:59:18.665692",
     "exception": false,
     "start_time": "2023-08-19T11:59:18.624558",
     "status": "completed"
    },
    "tags": []
   },
   "outputs": [],
   "source": [
    "\n",
    "# print(\"start\")\n",
    "\n",
    "# m1 = int(input(\"enter m1 marks\"))\n",
    "# print(\"m1 done\")\n",
    "# m2 = int(input(\"enter m2 marks\"))\n",
    "# name = input()\n",
    "\n",
    "# if m1 > 85 and m2 > 85 :\n",
    "#     print(name , \"is qualified\")\n",
    "# else :\n",
    "#     print(name , \" is unqualified \")"
   ]
  },
  {
   "cell_type": "code",
   "execution_count": 81,
   "id": "ea89d550",
   "metadata": {
    "execution": {
     "iopub.execute_input": "2023-08-19T11:59:18.733075Z",
     "iopub.status.busy": "2023-08-19T11:59:18.732258Z",
     "iopub.status.idle": "2023-08-19T11:59:18.738879Z",
     "shell.execute_reply": "2023-08-19T11:59:18.737222Z"
    },
    "papermill": {
     "duration": 0.044197,
     "end_time": "2023-08-19T11:59:18.742598",
     "exception": false,
     "start_time": "2023-08-19T11:59:18.698401",
     "status": "completed"
    },
    "tags": []
   },
   "outputs": [
    {
     "name": "stdout",
     "output_type": "stream",
     "text": [
      "sharma is qualified\n"
     ]
    }
   ],
   "source": [
    "m1 = 90\n",
    "m2 = 95\n",
    "name = \"sharma\"\n",
    "\n",
    "if m1 > 85 and m2 > 85 :\n",
    "    print(name , \"is qualified\")\n",
    "else :\n",
    "    print(name , \" is unqualified \")"
   ]
  },
  {
   "cell_type": "code",
   "execution_count": 82,
   "id": "203a28a8",
   "metadata": {
    "execution": {
     "iopub.execute_input": "2023-08-19T11:59:18.813809Z",
     "iopub.status.busy": "2023-08-19T11:59:18.813445Z",
     "iopub.status.idle": "2023-08-19T11:59:18.820882Z",
     "shell.execute_reply": "2023-08-19T11:59:18.819233Z"
    },
    "papermill": {
     "duration": 0.046574,
     "end_time": "2023-08-19T11:59:18.824301",
     "exception": false,
     "start_time": "2023-08-19T11:59:18.777727",
     "status": "completed"
    },
    "tags": []
   },
   "outputs": [
    {
     "name": "stdout",
     "output_type": "stream",
     "text": [
      "student is qualified\n"
     ]
    }
   ],
   "source": [
    "# write a functin to check \n",
    "def check (m1= 0,m2 = 0,name = \"student\"):\n",
    "    \"\"\"\n",
    "    this is written by @mlv prasad\n",
    "    \"\"\"\n",
    "     \n",
    "    if m1 > 85 and m2 > 85 : # check marks\n",
    "        print(name , \"is qualified\")\n",
    "    else :\n",
    "        print(name, \"no qualified \")\n",
    "\n",
    "\n",
    "check(m1 =  90, m2  = 95)   \n",
    "\n"
   ]
  },
  {
   "cell_type": "code",
   "execution_count": 83,
   "id": "45d0bb6c",
   "metadata": {
    "execution": {
     "iopub.execute_input": "2023-08-19T11:59:18.897168Z",
     "iopub.status.busy": "2023-08-19T11:59:18.896545Z",
     "iopub.status.idle": "2023-08-19T11:59:18.901887Z",
     "shell.execute_reply": "2023-08-19T11:59:18.900453Z"
    },
    "papermill": {
     "duration": 0.045464,
     "end_time": "2023-08-19T11:59:18.904697",
     "exception": false,
     "start_time": "2023-08-19T11:59:18.859233",
     "status": "completed"
    },
    "tags": []
   },
   "outputs": [],
   "source": [
    "# yasmin\n",
    "# asha\n",
    "# sharma\n",
    "# anusha\n",
    "\n",
    "\n"
   ]
  },
  {
   "cell_type": "code",
   "execution_count": 84,
   "id": "ea159b08",
   "metadata": {
    "execution": {
     "iopub.execute_input": "2023-08-19T11:59:18.971638Z",
     "iopub.status.busy": "2023-08-19T11:59:18.971221Z",
     "iopub.status.idle": "2023-08-19T11:59:18.979140Z",
     "shell.execute_reply": "2023-08-19T11:59:18.977946Z"
    },
    "papermill": {
     "duration": 0.043948,
     "end_time": "2023-08-19T11:59:18.981414",
     "exception": false,
     "start_time": "2023-08-19T11:59:18.937466",
     "status": "completed"
    },
    "tags": []
   },
   "outputs": [
    {
     "data": {
      "text/plain": [
       "'\\nyasmin\\nasha\\nanusha\\nsharma\\n\\n'"
      ]
     },
     "execution_count": 84,
     "metadata": {},
     "output_type": "execute_result"
    }
   ],
   "source": [
    "\"\"\"\n",
    "yasmin\n",
    "asha\n",
    "anusha\n",
    "sharma\n",
    "\n",
    "\"\"\""
   ]
  },
  {
   "cell_type": "code",
   "execution_count": 85,
   "id": "e5f30575",
   "metadata": {
    "execution": {
     "iopub.execute_input": "2023-08-19T11:59:19.049664Z",
     "iopub.status.busy": "2023-08-19T11:59:19.048905Z",
     "iopub.status.idle": "2023-08-19T11:59:19.054815Z",
     "shell.execute_reply": "2023-08-19T11:59:19.053682Z"
    },
    "papermill": {
     "duration": 0.04241,
     "end_time": "2023-08-19T11:59:19.057243",
     "exception": false,
     "start_time": "2023-08-19T11:59:19.014833",
     "status": "completed"
    },
    "tags": []
   },
   "outputs": [
    {
     "name": "stdout",
     "output_type": "stream",
     "text": [
      "69\n",
      "69\n"
     ]
    }
   ],
   "source": [
    "print(str(6) + \"9\")\n",
    "print(\"6\" + \"9\")"
   ]
  },
  {
   "cell_type": "code",
   "execution_count": 86,
   "id": "9d91a2dc",
   "metadata": {
    "execution": {
     "iopub.execute_input": "2023-08-19T11:59:19.125695Z",
     "iopub.status.busy": "2023-08-19T11:59:19.125319Z",
     "iopub.status.idle": "2023-08-19T11:59:19.132832Z",
     "shell.execute_reply": "2023-08-19T11:59:19.131041Z"
    },
    "papermill": {
     "duration": 0.04453,
     "end_time": "2023-08-19T11:59:19.135425",
     "exception": false,
     "start_time": "2023-08-19T11:59:19.090895",
     "status": "completed"
    },
    "tags": []
   },
   "outputs": [
    {
     "name": "stdout",
     "output_type": "stream",
     "text": [
      "16\n",
      "90\n"
     ]
    }
   ],
   "source": [
    "ans = 9 \n",
    "\n",
    "def add (a,b) :\n",
    "    global ans\n",
    "    ans = a + b  \n",
    "    print(ans)\n",
    "    \n",
    "add(7,9) \n",
    "ans = 90 \n",
    "print(ans)\n",
    "    \n"
   ]
  },
  {
   "cell_type": "code",
   "execution_count": 87,
   "id": "0c38f8d3",
   "metadata": {
    "execution": {
     "iopub.execute_input": "2023-08-19T11:59:19.202891Z",
     "iopub.status.busy": "2023-08-19T11:59:19.202483Z",
     "iopub.status.idle": "2023-08-19T11:59:19.209518Z",
     "shell.execute_reply": "2023-08-19T11:59:19.207937Z"
    },
    "papermill": {
     "duration": 0.043363,
     "end_time": "2023-08-19T11:59:19.211781",
     "exception": false,
     "start_time": "2023-08-19T11:59:19.168418",
     "status": "completed"
    },
    "tags": []
   },
   "outputs": [
    {
     "name": "stdout",
     "output_type": "stream",
     "text": [
      "Python is fantastic\n"
     ]
    }
   ],
   "source": [
    "def myfunc():\n",
    "  global x\n",
    "  x = \"fantastic\"\n",
    "\n",
    "myfunc()\n",
    "\n",
    "print(\"Python is \" + x)"
   ]
  },
  {
   "cell_type": "code",
   "execution_count": 88,
   "id": "38d9eff7",
   "metadata": {
    "execution": {
     "iopub.execute_input": "2023-08-19T11:59:19.279188Z",
     "iopub.status.busy": "2023-08-19T11:59:19.278726Z",
     "iopub.status.idle": "2023-08-19T11:59:19.285599Z",
     "shell.execute_reply": "2023-08-19T11:59:19.284370Z"
    },
    "papermill": {
     "duration": 0.042923,
     "end_time": "2023-08-19T11:59:19.288439",
     "exception": false,
     "start_time": "2023-08-19T11:59:19.245516",
     "status": "completed"
    },
    "tags": []
   },
   "outputs": [
    {
     "name": "stdout",
     "output_type": "stream",
     "text": [
      "Python is yasmin\n"
     ]
    }
   ],
   "source": [
    "x = \"awesome\"\n",
    "\n",
    "def myfunc():\n",
    "#   global x\n",
    "  x = \"fantastic\"\n",
    "    \n",
    "x = \"yasmin\"\n",
    "\n",
    "myfunc()\n",
    "\n",
    "print(\"Python is \" + x)"
   ]
  },
  {
   "cell_type": "code",
   "execution_count": 89,
   "id": "753fc857",
   "metadata": {
    "execution": {
     "iopub.execute_input": "2023-08-19T11:59:19.356612Z",
     "iopub.status.busy": "2023-08-19T11:59:19.356197Z",
     "iopub.status.idle": "2023-08-19T11:59:19.361214Z",
     "shell.execute_reply": "2023-08-19T11:59:19.359847Z"
    },
    "papermill": {
     "duration": 0.042623,
     "end_time": "2023-08-19T11:59:19.363430",
     "exception": false,
     "start_time": "2023-08-19T11:59:19.320807",
     "status": "completed"
    },
    "tags": []
   },
   "outputs": [],
   "source": [
    "# a = 5 + 2j\n",
    "# real(a)"
   ]
  },
  {
   "cell_type": "code",
   "execution_count": 90,
   "id": "99baeeeb",
   "metadata": {
    "execution": {
     "iopub.execute_input": "2023-08-19T11:59:19.432656Z",
     "iopub.status.busy": "2023-08-19T11:59:19.432253Z",
     "iopub.status.idle": "2023-08-19T11:59:19.436601Z",
     "shell.execute_reply": "2023-08-19T11:59:19.435666Z"
    },
    "papermill": {
     "duration": 0.042059,
     "end_time": "2023-08-19T11:59:19.439414",
     "exception": false,
     "start_time": "2023-08-19T11:59:19.397355",
     "status": "completed"
    },
    "tags": []
   },
   "outputs": [],
   "source": [
    "# a = 5 + 2j\n",
    "# x = complex(a)\n",
    "# real(x)"
   ]
  },
  {
   "cell_type": "code",
   "execution_count": 91,
   "id": "843b7d89",
   "metadata": {
    "execution": {
     "iopub.execute_input": "2023-08-19T11:59:19.508761Z",
     "iopub.status.busy": "2023-08-19T11:59:19.507788Z",
     "iopub.status.idle": "2023-08-19T11:59:19.513931Z",
     "shell.execute_reply": "2023-08-19T11:59:19.512721Z"
    },
    "papermill": {
     "duration": 0.044449,
     "end_time": "2023-08-19T11:59:19.516706",
     "exception": false,
     "start_time": "2023-08-19T11:59:19.472257",
     "status": "completed"
    },
    "tags": []
   },
   "outputs": [
    {
     "name": "stdout",
     "output_type": "stream",
     "text": [
      "3500000000000000.0\n"
     ]
    }
   ],
   "source": [
    "x = 35e14\n",
    "print(x)"
   ]
  },
  {
   "cell_type": "code",
   "execution_count": 92,
   "id": "d72a125e",
   "metadata": {
    "execution": {
     "iopub.execute_input": "2023-08-19T11:59:19.584042Z",
     "iopub.status.busy": "2023-08-19T11:59:19.583042Z",
     "iopub.status.idle": "2023-08-19T11:59:19.589152Z",
     "shell.execute_reply": "2023-08-19T11:59:19.588029Z"
    },
    "papermill": {
     "duration": 0.042415,
     "end_time": "2023-08-19T11:59:19.591840",
     "exception": false,
     "start_time": "2023-08-19T11:59:19.549425",
     "status": "completed"
    },
    "tags": []
   },
   "outputs": [
    {
     "name": "stdout",
     "output_type": "stream",
     "text": [
      "Lorem ipsum dolor sit amet,\n",
      "consectetur adipiscing elit,\n",
      "sed do eiusmod tempor incididunt\n",
      "ut labore et dolore magna aliqua.\n"
     ]
    }
   ],
   "source": [
    "a = \"\"\"Lorem ipsum dolor sit amet,\n",
    "consectetur adipiscing elit,\n",
    "sed do eiusmod tempor incididunt\n",
    "ut labore et dolore magna aliqua.\"\"\"\n",
    "print(a)"
   ]
  },
  {
   "cell_type": "code",
   "execution_count": 93,
   "id": "5f5e10f5",
   "metadata": {
    "execution": {
     "iopub.execute_input": "2023-08-19T11:59:19.659723Z",
     "iopub.status.busy": "2023-08-19T11:59:19.659264Z",
     "iopub.status.idle": "2023-08-19T11:59:19.665322Z",
     "shell.execute_reply": "2023-08-19T11:59:19.664036Z"
    },
    "papermill": {
     "duration": 0.043791,
     "end_time": "2023-08-19T11:59:19.667713",
     "exception": false,
     "start_time": "2023-08-19T11:59:19.623922",
     "status": "completed"
    },
    "tags": []
   },
   "outputs": [
    {
     "name": "stdout",
     "output_type": "stream",
     "text": [
      "Lorem ipsum dolor sit amet,consectetur adipiscing elit,sed do eiusmod tempor incididuntut labore et dolore magna aliqua.\n"
     ]
    }
   ],
   "source": [
    "a = \"Lorem ipsum dolor sit amet,consectetur adipiscing elit,sed do eiusmod tempor incididuntut labore et dolore magna aliqua.\"\n",
    "print(a)"
   ]
  },
  {
   "cell_type": "code",
   "execution_count": 94,
   "id": "aed0f70b",
   "metadata": {
    "execution": {
     "iopub.execute_input": "2023-08-19T11:59:19.737486Z",
     "iopub.status.busy": "2023-08-19T11:59:19.736934Z",
     "iopub.status.idle": "2023-08-19T11:59:19.744472Z",
     "shell.execute_reply": "2023-08-19T11:59:19.743084Z"
    },
    "papermill": {
     "duration": 0.046027,
     "end_time": "2023-08-19T11:59:19.747198",
     "exception": false,
     "start_time": "2023-08-19T11:59:19.701171",
     "status": "completed"
    },
    "tags": []
   },
   "outputs": [
    {
     "name": "stdout",
     "output_type": "stream",
     "text": [
      "13\n"
     ]
    }
   ],
   "source": [
    "a = \"Hello, World!\"\n",
    "print(len(a))"
   ]
  },
  {
   "cell_type": "code",
   "execution_count": 95,
   "id": "00b471c0",
   "metadata": {
    "execution": {
     "iopub.execute_input": "2023-08-19T11:59:19.820446Z",
     "iopub.status.busy": "2023-08-19T11:59:19.819968Z",
     "iopub.status.idle": "2023-08-19T11:59:19.827303Z",
     "shell.execute_reply": "2023-08-19T11:59:19.826216Z"
    },
    "papermill": {
     "duration": 0.047954,
     "end_time": "2023-08-19T11:59:19.830212",
     "exception": false,
     "start_time": "2023-08-19T11:59:19.782258",
     "status": "completed"
    },
    "tags": []
   },
   "outputs": [
    {
     "data": {
      "text/plain": [
       "'llo'"
      ]
     },
     "execution_count": 95,
     "metadata": {},
     "output_type": "execute_result"
    }
   ],
   "source": [
    "a = \"Hello, World!\"\n",
    "a[2:5]\n"
   ]
  },
  {
   "cell_type": "code",
   "execution_count": 96,
   "id": "d9453d18",
   "metadata": {
    "execution": {
     "iopub.execute_input": "2023-08-19T11:59:19.898379Z",
     "iopub.status.busy": "2023-08-19T11:59:19.897972Z",
     "iopub.status.idle": "2023-08-19T11:59:19.905861Z",
     "shell.execute_reply": "2023-08-19T11:59:19.904631Z"
    },
    "papermill": {
     "duration": 0.04438,
     "end_time": "2023-08-19T11:59:19.908143",
     "exception": false,
     "start_time": "2023-08-19T11:59:19.863763",
     "status": "completed"
    },
    "tags": []
   },
   "outputs": [
    {
     "data": {
      "text/plain": [
       "[3, 4, 5]"
      ]
     },
     "execution_count": 96,
     "metadata": {},
     "output_type": "execute_result"
    }
   ],
   "source": [
    "a = [1,2,3,4,5]\n",
    "a[2:5]"
   ]
  },
  {
   "cell_type": "code",
   "execution_count": 97,
   "id": "1973710e",
   "metadata": {
    "execution": {
     "iopub.execute_input": "2023-08-19T11:59:19.976007Z",
     "iopub.status.busy": "2023-08-19T11:59:19.975555Z",
     "iopub.status.idle": "2023-08-19T11:59:19.982020Z",
     "shell.execute_reply": "2023-08-19T11:59:19.980372Z"
    },
    "papermill": {
     "duration": 0.043199,
     "end_time": "2023-08-19T11:59:19.984453",
     "exception": false,
     "start_time": "2023-08-19T11:59:19.941254",
     "status": "completed"
    },
    "tags": []
   },
   "outputs": [
    {
     "name": "stdout",
     "output_type": "stream",
     "text": [
      "Hello\n"
     ]
    }
   ],
   "source": [
    "b = \"Hello, World!\"\n",
    "print(b[:5])"
   ]
  },
  {
   "cell_type": "code",
   "execution_count": 98,
   "id": "35c8cad6",
   "metadata": {
    "execution": {
     "iopub.execute_input": "2023-08-19T11:59:20.052691Z",
     "iopub.status.busy": "2023-08-19T11:59:20.052262Z",
     "iopub.status.idle": "2023-08-19T11:59:20.059167Z",
     "shell.execute_reply": "2023-08-19T11:59:20.057465Z"
    },
    "papermill": {
     "duration": 0.043938,
     "end_time": "2023-08-19T11:59:20.061641",
     "exception": false,
     "start_time": "2023-08-19T11:59:20.017703",
     "status": "completed"
    },
    "tags": []
   },
   "outputs": [
    {
     "name": "stdout",
     "output_type": "stream",
     "text": [
      "llo, World!\n"
     ]
    }
   ],
   "source": [
    "b = \"Hello, World!\"\n",
    "print(b[2:])"
   ]
  },
  {
   "cell_type": "code",
   "execution_count": 99,
   "id": "c0360582",
   "metadata": {
    "execution": {
     "iopub.execute_input": "2023-08-19T11:59:20.129687Z",
     "iopub.status.busy": "2023-08-19T11:59:20.129312Z",
     "iopub.status.idle": "2023-08-19T11:59:20.135708Z",
     "shell.execute_reply": "2023-08-19T11:59:20.134110Z"
    },
    "papermill": {
     "duration": 0.043955,
     "end_time": "2023-08-19T11:59:20.138488",
     "exception": false,
     "start_time": "2023-08-19T11:59:20.094533",
     "status": "completed"
    },
    "tags": []
   },
   "outputs": [
    {
     "name": "stdout",
     "output_type": "stream",
     "text": [
      "orl\n"
     ]
    }
   ],
   "source": [
    "b = \"Hello, World!\"\n",
    "print(b[-5:-2])"
   ]
  },
  {
   "cell_type": "code",
   "execution_count": 100,
   "id": "797f7523",
   "metadata": {
    "execution": {
     "iopub.execute_input": "2023-08-19T11:59:20.207829Z",
     "iopub.status.busy": "2023-08-19T11:59:20.207381Z",
     "iopub.status.idle": "2023-08-19T11:59:20.213650Z",
     "shell.execute_reply": "2023-08-19T11:59:20.212376Z"
    },
    "papermill": {
     "duration": 0.043417,
     "end_time": "2023-08-19T11:59:20.215811",
     "exception": false,
     "start_time": "2023-08-19T11:59:20.172394",
     "status": "completed"
    },
    "tags": []
   },
   "outputs": [
    {
     "name": "stdout",
     "output_type": "stream",
     "text": [
      "HELLO, WORLD!\n"
     ]
    }
   ],
   "source": [
    "a = \"Hello, World!\"\n",
    "print(a.upper())"
   ]
  },
  {
   "cell_type": "code",
   "execution_count": 101,
   "id": "6601b7ea",
   "metadata": {
    "execution": {
     "iopub.execute_input": "2023-08-19T11:59:20.287888Z",
     "iopub.status.busy": "2023-08-19T11:59:20.287502Z",
     "iopub.status.idle": "2023-08-19T11:59:20.293674Z",
     "shell.execute_reply": "2023-08-19T11:59:20.292309Z"
    },
    "papermill": {
     "duration": 0.046376,
     "end_time": "2023-08-19T11:59:20.295733",
     "exception": false,
     "start_time": "2023-08-19T11:59:20.249357",
     "status": "completed"
    },
    "tags": []
   },
   "outputs": [
    {
     "name": "stdout",
     "output_type": "stream",
     "text": [
      "hello, world!\n"
     ]
    }
   ],
   "source": [
    "a = \"Hello, World!\"\n",
    "print(a.lower())"
   ]
  },
  {
   "cell_type": "code",
   "execution_count": 102,
   "id": "36e58278",
   "metadata": {
    "execution": {
     "iopub.execute_input": "2023-08-19T11:59:20.365081Z",
     "iopub.status.busy": "2023-08-19T11:59:20.364524Z",
     "iopub.status.idle": "2023-08-19T11:59:20.373089Z",
     "shell.execute_reply": "2023-08-19T11:59:20.371095Z"
    },
    "papermill": {
     "duration": 0.04712,
     "end_time": "2023-08-19T11:59:20.376992",
     "exception": false,
     "start_time": "2023-08-19T11:59:20.329872",
     "status": "completed"
    },
    "tags": []
   },
   "outputs": [
    {
     "name": "stdout",
     "output_type": "stream",
     "text": [
      "Hello, World!\n"
     ]
    }
   ],
   "source": [
    "a = \" Hello, World! \"\n",
    "print(a.strip()) # returns \"Hello, World!\""
   ]
  },
  {
   "cell_type": "code",
   "execution_count": 103,
   "id": "abd654d1",
   "metadata": {
    "execution": {
     "iopub.execute_input": "2023-08-19T11:59:20.468457Z",
     "iopub.status.busy": "2023-08-19T11:59:20.468007Z",
     "iopub.status.idle": "2023-08-19T11:59:20.474538Z",
     "shell.execute_reply": "2023-08-19T11:59:20.473015Z"
    },
    "papermill": {
     "duration": 0.05529,
     "end_time": "2023-08-19T11:59:20.476934",
     "exception": false,
     "start_time": "2023-08-19T11:59:20.421644",
     "status": "completed"
    },
    "tags": []
   },
   "outputs": [
    {
     "name": "stdout",
     "output_type": "stream",
     "text": [
      "Jllo, World!\n"
     ]
    }
   ],
   "source": [
    "a = \"Hello, World!\"\n",
    "print(a.replace(\"He\", \"J\"))"
   ]
  },
  {
   "cell_type": "code",
   "execution_count": 104,
   "id": "df30a748",
   "metadata": {
    "execution": {
     "iopub.execute_input": "2023-08-19T11:59:20.546181Z",
     "iopub.status.busy": "2023-08-19T11:59:20.545732Z",
     "iopub.status.idle": "2023-08-19T11:59:20.552333Z",
     "shell.execute_reply": "2023-08-19T11:59:20.550885Z"
    },
    "papermill": {
     "duration": 0.043904,
     "end_time": "2023-08-19T11:59:20.555094",
     "exception": false,
     "start_time": "2023-08-19T11:59:20.511190",
     "status": "completed"
    },
    "tags": []
   },
   "outputs": [
    {
     "name": "stdout",
     "output_type": "stream",
     "text": [
      "['Hello,', 'World!', 'prasad!', 'sharma']\n"
     ]
    }
   ],
   "source": [
    "a = \"Hello, World! prasad! sharma\"\n",
    "print(a.split())"
   ]
  },
  {
   "cell_type": "code",
   "execution_count": 105,
   "id": "3817fc5f",
   "metadata": {
    "execution": {
     "iopub.execute_input": "2023-08-19T11:59:20.623657Z",
     "iopub.status.busy": "2023-08-19T11:59:20.623205Z",
     "iopub.status.idle": "2023-08-19T11:59:20.630735Z",
     "shell.execute_reply": "2023-08-19T11:59:20.629381Z"
    },
    "papermill": {
     "duration": 0.044455,
     "end_time": "2023-08-19T11:59:20.633519",
     "exception": false,
     "start_time": "2023-08-19T11:59:20.589064",
     "status": "completed"
    },
    "tags": []
   },
   "outputs": [
    {
     "data": {
      "text/plain": [
       "'anusha superstudent'"
      ]
     },
     "execution_count": 105,
     "metadata": {},
     "output_type": "execute_result"
    }
   ],
   "source": [
    "a = \"anusha\" +\" \"+ \"superstudent\"\n",
    "a"
   ]
  },
  {
   "cell_type": "code",
   "execution_count": 106,
   "id": "2a7511d6",
   "metadata": {
    "execution": {
     "iopub.execute_input": "2023-08-19T11:59:20.705548Z",
     "iopub.status.busy": "2023-08-19T11:59:20.705088Z",
     "iopub.status.idle": "2023-08-19T11:59:20.713348Z",
     "shell.execute_reply": "2023-08-19T11:59:20.711850Z"
    },
    "papermill": {
     "duration": 0.047046,
     "end_time": "2023-08-19T11:59:20.715877",
     "exception": false,
     "start_time": "2023-08-19T11:59:20.668831",
     "status": "completed"
    },
    "tags": []
   },
   "outputs": [
    {
     "data": {
      "text/plain": [
       "15"
      ]
     },
     "execution_count": 106,
     "metadata": {},
     "output_type": "execute_result"
    }
   ],
   "source": [
    "b = 6 + 9\n",
    "b"
   ]
  },
  {
   "cell_type": "code",
   "execution_count": 107,
   "id": "6a916d3f",
   "metadata": {
    "execution": {
     "iopub.execute_input": "2023-08-19T11:59:20.792375Z",
     "iopub.status.busy": "2023-08-19T11:59:20.791900Z",
     "iopub.status.idle": "2023-08-19T11:59:20.798644Z",
     "shell.execute_reply": "2023-08-19T11:59:20.797319Z"
    },
    "papermill": {
     "duration": 0.044537,
     "end_time": "2023-08-19T11:59:20.800981",
     "exception": false,
     "start_time": "2023-08-19T11:59:20.756444",
     "status": "completed"
    },
    "tags": []
   },
   "outputs": [
    {
     "name": "stdout",
     "output_type": "stream",
     "text": [
      "I want 3 pieces of item 567 for 49.95 dollars.\n"
     ]
    }
   ],
   "source": [
    "quantity = 3\n",
    "itemno = 567\n",
    "price = 49.95\n",
    "myorder = \"I want {} pieces of item {} for {} dollars.\"\n",
    "print(myorder.format(quantity, itemno, price))"
   ]
  },
  {
   "cell_type": "code",
   "execution_count": 108,
   "id": "cb5134e0",
   "metadata": {
    "execution": {
     "iopub.execute_input": "2023-08-19T11:59:20.875855Z",
     "iopub.status.busy": "2023-08-19T11:59:20.874785Z",
     "iopub.status.idle": "2023-08-19T11:59:20.881124Z",
     "shell.execute_reply": "2023-08-19T11:59:20.880076Z"
    },
    "papermill": {
     "duration": 0.046184,
     "end_time": "2023-08-19T11:59:20.883755",
     "exception": false,
     "start_time": "2023-08-19T11:59:20.837571",
     "status": "completed"
    },
    "tags": []
   },
   "outputs": [
    {
     "name": "stdout",
     "output_type": "stream",
     "text": [
      "I want 3 pieces of item 567 for 49.95 dollars\n"
     ]
    }
   ],
   "source": [
    "quantity = 3\n",
    "itemno = 567\n",
    "price = 49.95\n",
    "ans = \"I want {} pieces of item {} for {} dollars\"\n",
    "print(ans.format(quantity, itemno,price))"
   ]
  },
  {
   "cell_type": "code",
   "execution_count": 109,
   "id": "de564d76",
   "metadata": {
    "execution": {
     "iopub.execute_input": "2023-08-19T11:59:20.956211Z",
     "iopub.status.busy": "2023-08-19T11:59:20.955435Z",
     "iopub.status.idle": "2023-08-19T11:59:20.961008Z",
     "shell.execute_reply": "2023-08-19T11:59:20.959790Z"
    },
    "papermill": {
     "duration": 0.045471,
     "end_time": "2023-08-19T11:59:20.963729",
     "exception": false,
     "start_time": "2023-08-19T11:59:20.918258",
     "status": "completed"
    },
    "tags": []
   },
   "outputs": [
    {
     "name": "stdout",
     "output_type": "stream",
     "text": [
      "i 4\\5\" aaa\n"
     ]
    }
   ],
   "source": [
    "print(\"i 4\\\\5\\\" aaa\")"
   ]
  },
  {
   "cell_type": "code",
   "execution_count": 110,
   "id": "805c565b",
   "metadata": {
    "execution": {
     "iopub.execute_input": "2023-08-19T11:59:21.038808Z",
     "iopub.status.busy": "2023-08-19T11:59:21.038093Z",
     "iopub.status.idle": "2023-08-19T11:59:21.044346Z",
     "shell.execute_reply": "2023-08-19T11:59:21.043055Z"
    },
    "papermill": {
     "duration": 0.046372,
     "end_time": "2023-08-19T11:59:21.047543",
     "exception": false,
     "start_time": "2023-08-19T11:59:21.001171",
     "status": "completed"
    },
    "tags": []
   },
   "outputs": [
    {
     "data": {
      "text/plain": [
       "'YASMINKHAN'"
      ]
     },
     "execution_count": 110,
     "metadata": {},
     "output_type": "execute_result"
    }
   ],
   "source": [
    "a = \"YasminKhan\"\n",
    "a.upper()"
   ]
  },
  {
   "cell_type": "code",
   "execution_count": 111,
   "id": "6c1d28ff",
   "metadata": {
    "execution": {
     "iopub.execute_input": "2023-08-19T11:59:21.121034Z",
     "iopub.status.busy": "2023-08-19T11:59:21.120318Z",
     "iopub.status.idle": "2023-08-19T11:59:21.125796Z",
     "shell.execute_reply": "2023-08-19T11:59:21.125075Z"
    },
    "papermill": {
     "duration": 0.045273,
     "end_time": "2023-08-19T11:59:21.127904",
     "exception": false,
     "start_time": "2023-08-19T11:59:21.082631",
     "status": "completed"
    },
    "tags": []
   },
   "outputs": [
    {
     "data": {
      "text/plain": [
       "'Yasminkhan'"
      ]
     },
     "execution_count": 111,
     "metadata": {},
     "output_type": "execute_result"
    }
   ],
   "source": [
    "a = \"YasminKHan\"\n",
    "a.capitalize()"
   ]
  },
  {
   "cell_type": "code",
   "execution_count": 112,
   "id": "e9ad23a9",
   "metadata": {
    "execution": {
     "iopub.execute_input": "2023-08-19T11:59:21.202920Z",
     "iopub.status.busy": "2023-08-19T11:59:21.202219Z",
     "iopub.status.idle": "2023-08-19T11:59:21.206265Z",
     "shell.execute_reply": "2023-08-19T11:59:21.205465Z"
    },
    "papermill": {
     "duration": 0.044146,
     "end_time": "2023-08-19T11:59:21.208521",
     "exception": false,
     "start_time": "2023-08-19T11:59:21.164375",
     "status": "completed"
    },
    "tags": []
   },
   "outputs": [],
   "source": [
    "a = \"YasminKHan\"\n",
    "# a.center()"
   ]
  },
  {
   "cell_type": "code",
   "execution_count": 113,
   "id": "159bf9a8",
   "metadata": {
    "execution": {
     "iopub.execute_input": "2023-08-19T11:59:21.281921Z",
     "iopub.status.busy": "2023-08-19T11:59:21.281245Z",
     "iopub.status.idle": "2023-08-19T11:59:21.287601Z",
     "shell.execute_reply": "2023-08-19T11:59:21.286310Z"
    },
    "papermill": {
     "duration": 0.046118,
     "end_time": "2023-08-19T11:59:21.290189",
     "exception": false,
     "start_time": "2023-08-19T11:59:21.244071",
     "status": "completed"
    },
    "tags": []
   },
   "outputs": [
    {
     "data": {
      "text/plain": [
       "2"
      ]
     },
     "execution_count": 113,
     "metadata": {},
     "output_type": "execute_result"
    }
   ],
   "source": [
    "a = \"YasminKHan\"\n",
    "a.count(\"a\")"
   ]
  },
  {
   "cell_type": "code",
   "execution_count": 114,
   "id": "406c7c57",
   "metadata": {
    "execution": {
     "iopub.execute_input": "2023-08-19T11:59:21.365199Z",
     "iopub.status.busy": "2023-08-19T11:59:21.364697Z",
     "iopub.status.idle": "2023-08-19T11:59:21.373447Z",
     "shell.execute_reply": "2023-08-19T11:59:21.371976Z"
    },
    "papermill": {
     "duration": 0.04928,
     "end_time": "2023-08-19T11:59:21.376224",
     "exception": false,
     "start_time": "2023-08-19T11:59:21.326944",
     "status": "completed"
    },
    "tags": []
   },
   "outputs": [
    {
     "data": {
      "text/plain": [
       "True"
      ]
     },
     "execution_count": 114,
     "metadata": {},
     "output_type": "execute_result"
    }
   ],
   "source": [
    "a = \"YasminKhan\"\n",
    "a.endswith(\"Khan\")"
   ]
  },
  {
   "cell_type": "code",
   "execution_count": 115,
   "id": "ac88b8c4",
   "metadata": {
    "execution": {
     "iopub.execute_input": "2023-08-19T11:59:21.450149Z",
     "iopub.status.busy": "2023-08-19T11:59:21.448820Z",
     "iopub.status.idle": "2023-08-19T11:59:21.456400Z",
     "shell.execute_reply": "2023-08-19T11:59:21.455379Z"
    },
    "papermill": {
     "duration": 0.045541,
     "end_time": "2023-08-19T11:59:21.458359",
     "exception": false,
     "start_time": "2023-08-19T11:59:21.412818",
     "status": "completed"
    },
    "tags": []
   },
   "outputs": [
    {
     "data": {
      "text/plain": [
       "5"
      ]
     },
     "execution_count": 115,
     "metadata": {},
     "output_type": "execute_result"
    }
   ],
   "source": [
    "a = \"YasminKhan\"\n",
    "a.index(\"n\")"
   ]
  },
  {
   "cell_type": "code",
   "execution_count": 116,
   "id": "0924b3cf",
   "metadata": {
    "execution": {
     "iopub.execute_input": "2023-08-19T11:59:21.533247Z",
     "iopub.status.busy": "2023-08-19T11:59:21.532792Z",
     "iopub.status.idle": "2023-08-19T11:59:21.540401Z",
     "shell.execute_reply": "2023-08-19T11:59:21.538745Z"
    },
    "papermill": {
     "duration": 0.049636,
     "end_time": "2023-08-19T11:59:21.543154",
     "exception": false,
     "start_time": "2023-08-19T11:59:21.493518",
     "status": "completed"
    },
    "tags": []
   },
   "outputs": [
    {
     "name": "stdout",
     "output_type": "stream",
     "text": [
      "no\n",
      "no\n",
      "no\n",
      "yes\n",
      "no\n"
     ]
    }
   ],
   "source": [
    "ans = \"a12 3\"\n",
    "for i in ans :\n",
    "    if i.isspace():\n",
    "        print(\"yes\")\n",
    "    else :\n",
    "        print(\"no\")"
   ]
  },
  {
   "cell_type": "code",
   "execution_count": 117,
   "id": "10870be6",
   "metadata": {
    "execution": {
     "iopub.execute_input": "2023-08-19T11:59:21.615236Z",
     "iopub.status.busy": "2023-08-19T11:59:21.614807Z",
     "iopub.status.idle": "2023-08-19T11:59:21.621740Z",
     "shell.execute_reply": "2023-08-19T11:59:21.620722Z"
    },
    "papermill": {
     "duration": 0.045656,
     "end_time": "2023-08-19T11:59:21.623923",
     "exception": false,
     "start_time": "2023-08-19T11:59:21.578267",
     "status": "completed"
    },
    "tags": []
   },
   "outputs": [
    {
     "data": {
      "text/plain": [
       "['Thank you for the music', 'Welcome to the jungle']"
      ]
     },
     "execution_count": 117,
     "metadata": {},
     "output_type": "execute_result"
    }
   ],
   "source": [
    "txt = \"Thank you for the music\\nWelcome to the jungle\"\n",
    "txt.splitlines()"
   ]
  },
  {
   "cell_type": "code",
   "execution_count": 118,
   "id": "b78a97d4",
   "metadata": {
    "execution": {
     "iopub.execute_input": "2023-08-19T11:59:21.697350Z",
     "iopub.status.busy": "2023-08-19T11:59:21.696786Z",
     "iopub.status.idle": "2023-08-19T11:59:21.704210Z",
     "shell.execute_reply": "2023-08-19T11:59:21.703184Z"
    },
    "papermill": {
     "duration": 0.04678,
     "end_time": "2023-08-19T11:59:21.706483",
     "exception": false,
     "start_time": "2023-08-19T11:59:21.659703",
     "status": "completed"
    },
    "tags": []
   },
   "outputs": [
    {
     "data": {
      "text/plain": [
       "'YASMINkhan'"
      ]
     },
     "execution_count": 118,
     "metadata": {},
     "output_type": "execute_result"
    }
   ],
   "source": [
    "a = \"yasminKHAN\"\n",
    "a.swapcase()"
   ]
  },
  {
   "cell_type": "code",
   "execution_count": 119,
   "id": "486be2d3",
   "metadata": {
    "execution": {
     "iopub.execute_input": "2023-08-19T11:59:21.779383Z",
     "iopub.status.busy": "2023-08-19T11:59:21.778951Z",
     "iopub.status.idle": "2023-08-19T11:59:21.785964Z",
     "shell.execute_reply": "2023-08-19T11:59:21.784087Z"
    },
    "papermill": {
     "duration": 0.046298,
     "end_time": "2023-08-19T11:59:21.788386",
     "exception": false,
     "start_time": "2023-08-19T11:59:21.742088",
     "status": "completed"
    },
    "tags": []
   },
   "outputs": [
    {
     "name": "stdout",
     "output_type": "stream",
     "text": [
      "Welcome To My World\n"
     ]
    }
   ],
   "source": [
    "txt = \"Welcome to my world\"\n",
    "\n",
    "x = txt.title()\n",
    "\n",
    "print(x)"
   ]
  },
  {
   "cell_type": "code",
   "execution_count": 120,
   "id": "5e32098c",
   "metadata": {
    "execution": {
     "iopub.execute_input": "2023-08-19T11:59:21.863442Z",
     "iopub.status.busy": "2023-08-19T11:59:21.862867Z",
     "iopub.status.idle": "2023-08-19T11:59:21.869123Z",
     "shell.execute_reply": "2023-08-19T11:59:21.867698Z"
    },
    "papermill": {
     "duration": 0.0476,
     "end_time": "2023-08-19T11:59:21.872705",
     "exception": false,
     "start_time": "2023-08-19T11:59:21.825105",
     "status": "completed"
    },
    "tags": []
   },
   "outputs": [
    {
     "name": "stdout",
     "output_type": "stream",
     "text": [
      "00001\n"
     ]
    }
   ],
   "source": [
    "txt = \"1\"\n",
    "\n",
    "x = txt.zfill(5)\n",
    "\n",
    "print(x)"
   ]
  },
  {
   "cell_type": "code",
   "execution_count": 121,
   "id": "be7c2016",
   "metadata": {
    "execution": {
     "iopub.execute_input": "2023-08-19T11:59:21.949461Z",
     "iopub.status.busy": "2023-08-19T11:59:21.949046Z",
     "iopub.status.idle": "2023-08-19T11:59:21.955045Z",
     "shell.execute_reply": "2023-08-19T11:59:21.953523Z"
    },
    "papermill": {
     "duration": 0.046373,
     "end_time": "2023-08-19T11:59:21.957489",
     "exception": false,
     "start_time": "2023-08-19T11:59:21.911116",
     "status": "completed"
    },
    "tags": []
   },
   "outputs": [
    {
     "name": "stdout",
     "output_type": "stream",
     "text": [
      "7\n"
     ]
    }
   ],
   "source": [
    "txt = \"Hello, welcome to my world.\"\n",
    "\n",
    "x = txt.index(\"welcom\")\n",
    "\n",
    "print(x)"
   ]
  },
  {
   "cell_type": "code",
   "execution_count": 122,
   "id": "3dc4bd1d",
   "metadata": {
    "execution": {
     "iopub.execute_input": "2023-08-19T11:59:22.034431Z",
     "iopub.status.busy": "2023-08-19T11:59:22.033936Z",
     "iopub.status.idle": "2023-08-19T11:59:22.042123Z",
     "shell.execute_reply": "2023-08-19T11:59:22.040833Z"
    },
    "papermill": {
     "duration": 0.048218,
     "end_time": "2023-08-19T11:59:22.044309",
     "exception": false,
     "start_time": "2023-08-19T11:59:21.996091",
     "status": "completed"
    },
    "tags": []
   },
   "outputs": [
    {
     "data": {
      "text/plain": [
       "'1**2**3**4**5'"
      ]
     },
     "execution_count": 122,
     "metadata": {},
     "output_type": "execute_result"
    }
   ],
   "source": [
    "a = (\"1\",\"2\",\"3\",\"4\",\"5\")\n",
    "ans = \"**\".join(a)\n",
    "ans"
   ]
  },
  {
   "cell_type": "code",
   "execution_count": 123,
   "id": "46b60529",
   "metadata": {
    "execution": {
     "iopub.execute_input": "2023-08-19T11:59:22.118159Z",
     "iopub.status.busy": "2023-08-19T11:59:22.117723Z",
     "iopub.status.idle": "2023-08-19T11:59:22.124614Z",
     "shell.execute_reply": "2023-08-19T11:59:22.123213Z"
    },
    "papermill": {
     "duration": 0.047576,
     "end_time": "2023-08-19T11:59:22.127061",
     "exception": false,
     "start_time": "2023-08-19T11:59:22.079485",
     "status": "completed"
    },
    "tags": []
   },
   "outputs": [
    {
     "name": "stdout",
     "output_type": "stream",
     "text": [
      "True\n",
      "True\n"
     ]
    }
   ],
   "source": [
    "print(bool(\"a\"))\n",
    "print(bool(10))"
   ]
  },
  {
   "cell_type": "code",
   "execution_count": 124,
   "id": "a69c48ae",
   "metadata": {
    "execution": {
     "iopub.execute_input": "2023-08-19T11:59:22.198388Z",
     "iopub.status.busy": "2023-08-19T11:59:22.197934Z",
     "iopub.status.idle": "2023-08-19T11:59:22.205174Z",
     "shell.execute_reply": "2023-08-19T11:59:22.203930Z"
    },
    "papermill": {
     "duration": 0.045624,
     "end_time": "2023-08-19T11:59:22.207460",
     "exception": false,
     "start_time": "2023-08-19T11:59:22.161836",
     "status": "completed"
    },
    "tags": []
   },
   "outputs": [
    {
     "data": {
      "text/plain": [
       "25"
      ]
     },
     "execution_count": 124,
     "metadata": {},
     "output_type": "execute_result"
    }
   ],
   "source": [
    "5 ** 2"
   ]
  },
  {
   "cell_type": "code",
   "execution_count": 125,
   "id": "90fbd30f",
   "metadata": {
    "execution": {
     "iopub.execute_input": "2023-08-19T11:59:22.279994Z",
     "iopub.status.busy": "2023-08-19T11:59:22.279554Z",
     "iopub.status.idle": "2023-08-19T11:59:22.287870Z",
     "shell.execute_reply": "2023-08-19T11:59:22.286312Z"
    },
    "papermill": {
     "duration": 0.046878,
     "end_time": "2023-08-19T11:59:22.290319",
     "exception": false,
     "start_time": "2023-08-19T11:59:22.243441",
     "status": "completed"
    },
    "tags": []
   },
   "outputs": [
    {
     "data": {
      "text/plain": [
       "3"
      ]
     },
     "execution_count": 125,
     "metadata": {},
     "output_type": "execute_result"
    }
   ],
   "source": [
    "7 // 2"
   ]
  },
  {
   "cell_type": "code",
   "execution_count": null,
   "id": "2eae0a18",
   "metadata": {
    "papermill": {
     "duration": 0.03503,
     "end_time": "2023-08-19T11:59:22.361142",
     "exception": false,
     "start_time": "2023-08-19T11:59:22.326112",
     "status": "completed"
    },
    "tags": []
   },
   "outputs": [],
   "source": []
  },
  {
   "cell_type": "code",
   "execution_count": null,
   "id": "85135cd4",
   "metadata": {
    "papermill": {
     "duration": 0.034566,
     "end_time": "2023-08-19T11:59:22.434221",
     "exception": false,
     "start_time": "2023-08-19T11:59:22.399655",
     "status": "completed"
    },
    "tags": []
   },
   "outputs": [],
   "source": []
  },
  {
   "cell_type": "code",
   "execution_count": null,
   "id": "9719cd50",
   "metadata": {
    "papermill": {
     "duration": 0.036434,
     "end_time": "2023-08-19T11:59:22.507111",
     "exception": false,
     "start_time": "2023-08-19T11:59:22.470677",
     "status": "completed"
    },
    "tags": []
   },
   "outputs": [],
   "source": []
  },
  {
   "cell_type": "code",
   "execution_count": null,
   "id": "a3491835",
   "metadata": {
    "papermill": {
     "duration": 0.038064,
     "end_time": "2023-08-19T11:59:22.584368",
     "exception": false,
     "start_time": "2023-08-19T11:59:22.546304",
     "status": "completed"
    },
    "tags": []
   },
   "outputs": [],
   "source": []
  },
  {
   "cell_type": "code",
   "execution_count": null,
   "id": "86990fbd",
   "metadata": {
    "papermill": {
     "duration": 0.037562,
     "end_time": "2023-08-19T11:59:22.659801",
     "exception": false,
     "start_time": "2023-08-19T11:59:22.622239",
     "status": "completed"
    },
    "tags": []
   },
   "outputs": [],
   "source": []
  },
  {
   "cell_type": "code",
   "execution_count": null,
   "id": "dc8096d6",
   "metadata": {
    "papermill": {
     "duration": 0.038754,
     "end_time": "2023-08-19T11:59:22.737055",
     "exception": false,
     "start_time": "2023-08-19T11:59:22.698301",
     "status": "completed"
    },
    "tags": []
   },
   "outputs": [],
   "source": []
  },
  {
   "cell_type": "code",
   "execution_count": null,
   "id": "c957b9e4",
   "metadata": {
    "papermill": {
     "duration": 0.037386,
     "end_time": "2023-08-19T11:59:22.811549",
     "exception": false,
     "start_time": "2023-08-19T11:59:22.774163",
     "status": "completed"
    },
    "tags": []
   },
   "outputs": [],
   "source": []
  },
  {
   "cell_type": "code",
   "execution_count": null,
   "id": "c14afe70",
   "metadata": {
    "papermill": {
     "duration": 0.038569,
     "end_time": "2023-08-19T11:59:22.886304",
     "exception": false,
     "start_time": "2023-08-19T11:59:22.847735",
     "status": "completed"
    },
    "tags": []
   },
   "outputs": [],
   "source": []
  },
  {
   "cell_type": "code",
   "execution_count": null,
   "id": "6be0d3b4",
   "metadata": {
    "papermill": {
     "duration": 0.038816,
     "end_time": "2023-08-19T11:59:22.965210",
     "exception": false,
     "start_time": "2023-08-19T11:59:22.926394",
     "status": "completed"
    },
    "tags": []
   },
   "outputs": [],
   "source": []
  },
  {
   "cell_type": "code",
   "execution_count": null,
   "id": "d49ebea6",
   "metadata": {
    "papermill": {
     "duration": 0.039063,
     "end_time": "2023-08-19T11:59:23.041601",
     "exception": false,
     "start_time": "2023-08-19T11:59:23.002538",
     "status": "completed"
    },
    "tags": []
   },
   "outputs": [],
   "source": []
  }
 ],
 "metadata": {
  "kernelspec": {
   "display_name": "Python 3",
   "language": "python",
   "name": "python3"
  },
  "language_info": {
   "codemirror_mode": {
    "name": "ipython",
    "version": 3
   },
   "file_extension": ".py",
   "mimetype": "text/x-python",
   "name": "python",
   "nbconvert_exporter": "python",
   "pygments_lexer": "ipython3",
   "version": "3.10.12"
  },
  "papermill": {
   "default_parameters": {},
   "duration": 23.567869,
   "end_time": "2023-08-19T11:59:24.204877",
   "environment_variables": {},
   "exception": null,
   "input_path": "__notebook__.ipynb",
   "output_path": "__notebook__.ipynb",
   "parameters": {},
   "start_time": "2023-08-19T11:59:00.637008",
   "version": "2.4.0"
  }
 },
 "nbformat": 4,
 "nbformat_minor": 5
}
