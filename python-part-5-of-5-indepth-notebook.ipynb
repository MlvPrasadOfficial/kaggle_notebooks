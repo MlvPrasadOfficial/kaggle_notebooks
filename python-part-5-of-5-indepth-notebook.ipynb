{
 "cells": [
  {
   "cell_type": "markdown",
   "id": "80ba9ec0",
   "metadata": {
    "execution": {
     "iopub.execute_input": "2023-08-20T12:27:54.931813Z",
     "iopub.status.busy": "2023-08-20T12:27:54.930717Z",
     "iopub.status.idle": "2023-08-20T12:27:56.192412Z",
     "shell.execute_reply": "2023-08-20T12:27:56.191116Z",
     "shell.execute_reply.started": "2023-08-20T12:27:54.931770Z"
    },
    "papermill": {
     "duration": 0.033085,
     "end_time": "2023-08-20T12:45:50.769219",
     "exception": false,
     "start_time": "2023-08-20T12:45:50.736134",
     "status": "completed"
    },
    "tags": []
   },
   "source": [
    "![mlv prasad](https://github.com/MlvPrasadOfficial/pycharmkaggle/raw/master/Black%20and%20Ivory%20Modern%20Name%20YouTube%20Channel%20Art.png)\n"
   ]
  },
  {
   "cell_type": "markdown",
   "id": "68e0624d",
   "metadata": {
    "papermill": {
     "duration": 0.032368,
     "end_time": "2023-08-20T12:45:50.835229",
     "exception": false,
     "start_time": "2023-08-20T12:45:50.802861",
     "status": "completed"
    },
    "tags": []
   },
   "source": [
    "\n",
    "![mlv prasad](https://github.com/MlvPrasadOfficial/kaggle_notebooks/raw/main/CANVAPYTHON/N5.png)\n",
    "\n"
   ]
  },
  {
   "cell_type": "markdown",
   "id": "8e695cab",
   "metadata": {
    "papermill": {
     "duration": 0.034927,
     "end_time": "2023-08-20T12:45:50.901976",
     "exception": false,
     "start_time": "2023-08-20T12:45:50.867049",
     "status": "completed"
    },
    "tags": []
   },
   "source": [
    "<h1 align=\"left\"><font color='red'>PART 5 OF 5 </font></h1>\n"
   ]
  },
  {
   "cell_type": "markdown",
   "id": "7ade4529",
   "metadata": {
    "papermill": {
     "duration": 0.032101,
     "end_time": "2023-08-20T12:45:50.966032",
     "exception": false,
     "start_time": "2023-08-20T12:45:50.933931",
     "status": "completed"
    },
    "tags": []
   },
   "source": [
    "## 81. Writing Text Files\n",
    "\n",
    "## 82. Working with Binary Files\n",
    "\n",
    "## 83. Introduction to Error Handling\n",
    "\n",
    "## 84. Handling Exceptions with try and except\n",
    "\n",
    "## 85. Multiple except Clauses\n",
    "\n",
    "##  86. Handling Multiple Exception Types\n",
    "\n",
    "## 87. The else and finally Clauses\n",
    "\n",
    "## 88. Creating Custom Exceptions\n",
    "\n",
    "\n",
    "<h1 align=\"left\"><font color='red'> Object-Oriented Programming (OOP) Continued</font></h1>\n",
    "\n",
    "\n",
    " \n",
    "## 89. Introduction to Classes and Objects\n",
    "\n",
    "## 90. Class Attributes and Methods\n",
    "\n",
    "## 91. The __init__ Constructor\n",
    "\n",
    "## 92. Inheritance and Subclasses\n",
    "\n",
    "## 93. Method Overriding\n",
    "\n",
    "## 94. Instance vs. Class Attributes\n",
    "\n",
    "## 95. Introduction to Object-Oriented Programming\n",
    "\n",
    "## 96. Inheritance and Polymorphism\n",
    "\n",
    "## 97. Encapsulation and Access Modifiers\n",
    "\n",
    "## 98. Operator Overloading and Magic Methods\n",
    "\n",
    "## 99. Design Patterns in Python\n",
    "\n",
    "<h1 align=\"left\"><font color='red'>Conclusion</font></h1>\n",
    "\n",
    "## 100. Conclusion"
   ]
  },
  {
   "cell_type": "markdown",
   "id": "6aad177d",
   "metadata": {
    "papermill": {
     "duration": 0.033053,
     "end_time": "2023-08-20T12:45:51.031625",
     "exception": false,
     "start_time": "2023-08-20T12:45:50.998572",
     "status": "completed"
    },
    "tags": []
   },
   "source": [
    "\n",
    "<h1 align=\"left\"><font color='red'>81 </font></h1>"
   ]
  },
  {
   "cell_type": "markdown",
   "id": "052a70e7",
   "metadata": {
    "papermill": {
     "duration": 0.031561,
     "end_time": "2023-08-20T12:45:51.094864",
     "exception": false,
     "start_time": "2023-08-20T12:45:51.063303",
     "status": "completed"
    },
    "tags": []
   },
   "source": [
    "# Chapter 81: Writing Text Files\n",
    "\n",
    "#### In this chapter, we'll dive into writing text files in Python, exploring different methods to create and modify the content of text files.\n",
    "\n",
    "## Opening and Writing Text Files\n",
    "\n",
    "#### Text files can be opened using the `open()` function in write mode (`\"w\"`). You can then use various methods to write content to the file.\n",
    "\n",
    "## Example (Opening and Writing to a Text File):\n"
   ]
  },
  {
   "cell_type": "markdown",
   "id": "398b5b2b",
   "metadata": {
    "papermill": {
     "duration": 0.031758,
     "end_time": "2023-08-20T12:45:51.158337",
     "exception": false,
     "start_time": "2023-08-20T12:45:51.126579",
     "status": "completed"
    },
    "tags": []
   },
   "source": []
  },
  {
   "cell_type": "markdown",
   "id": "dc76ccbb",
   "metadata": {
    "papermill": {
     "duration": 0.031784,
     "end_time": "2023-08-20T12:45:51.222319",
     "exception": false,
     "start_time": "2023-08-20T12:45:51.190535",
     "status": "completed"
    },
    "tags": []
   },
   "source": [
    "```python\n",
    "\n",
    "\n",
    "file_path = \"output.txt\"\n",
    "\n",
    "with open(file_path, \"w\") as file:\n",
    "    file.write(\"Hello, world!\\n\")\n",
    "    file.write(\"This is a new line.\")\n",
    "```"
   ]
  },
  {
   "cell_type": "markdown",
   "id": "45935031",
   "metadata": {
    "papermill": {
     "duration": 0.031883,
     "end_time": "2023-08-20T12:45:51.287376",
     "exception": false,
     "start_time": "2023-08-20T12:45:51.255493",
     "status": "completed"
    },
    "tags": []
   },
   "source": [
    "## Writing Lines to a Text File\n",
    "#### you can write lines to a text file using the write() method. Remember to include newline characters \\n to separate lines.\n",
    "\n",
    "### Example (Writing Lines to a Text File):"
   ]
  },
  {
   "cell_type": "markdown",
   "id": "ad20e477",
   "metadata": {
    "papermill": {
     "duration": 0.031625,
     "end_time": "2023-08-20T12:45:51.351095",
     "exception": false,
     "start_time": "2023-08-20T12:45:51.319470",
     "status": "completed"
    },
    "tags": []
   },
   "source": [
    "```python\n",
    "file_path = \"output.txt\"\n",
    "\n",
    "lines = [\"Line 1\", \"Line 2\", \"Line 3\"]\n",
    "\n",
    "with open(file_path, \"w\") as file:\n",
    "    for line in lines:\n",
    "        file.write(line + \"\\n\")\n",
    "```"
   ]
  },
  {
   "cell_type": "markdown",
   "id": "b6877dd9",
   "metadata": {
    "papermill": {
     "duration": 0.032077,
     "end_time": "2023-08-20T12:45:51.415390",
     "exception": false,
     "start_time": "2023-08-20T12:45:51.383313",
     "status": "completed"
    },
    "tags": []
   },
   "source": [
    "## Appending to a Text File\n",
    "#### To add content to an existing file without overwriting, open the file in append mode (\"a\") and use the write() method.\n",
    "\n",
    "### Example (Appending to a Text File):"
   ]
  },
  {
   "cell_type": "markdown",
   "id": "5ef46ee1",
   "metadata": {
    "papermill": {
     "duration": 0.031957,
     "end_time": "2023-08-20T12:45:51.478908",
     "exception": false,
     "start_time": "2023-08-20T12:45:51.446951",
     "status": "completed"
    },
    "tags": []
   },
   "source": [
    "```python\n",
    "file_path = \"output.txt\"\n",
    "\n",
    "with open(file_path, \"a\") as file:\n",
    "    file.write(\"This is an appended line.\")\n",
    "```"
   ]
  },
  {
   "cell_type": "markdown",
   "id": "c2d206c7",
   "metadata": {
    "papermill": {
     "duration": 0.03226,
     "end_time": "2023-08-20T12:45:51.543682",
     "exception": false,
     "start_time": "2023-08-20T12:45:51.511422",
     "status": "completed"
    },
    "tags": []
   },
   "source": [
    "## Writing Formatted Data\n",
    "#### You can format data before writing to a file, such as converting numbers to strings.\n",
    "\n",
    "### Example (Writing Formatted Data):"
   ]
  },
  {
   "cell_type": "markdown",
   "id": "08d62bc6",
   "metadata": {
    "papermill": {
     "duration": 0.032156,
     "end_time": "2023-08-20T12:45:51.608062",
     "exception": false,
     "start_time": "2023-08-20T12:45:51.575906",
     "status": "completed"
    },
    "tags": []
   },
   "source": [
    "```python\n",
    "file_path = \"output.txt\"\n",
    "\n",
    "with open(file_path, \"w\") as file:\n",
    "    num = 42\n",
    "    formatted_num = f\"The answer is: {num}\"\n",
    "    file.write(formatted_num)\n",
    "```"
   ]
  },
  {
   "cell_type": "markdown",
   "id": "a3e70930",
   "metadata": {
    "papermill": {
     "duration": 0.032063,
     "end_time": "2023-08-20T12:45:51.672296",
     "exception": false,
     "start_time": "2023-08-20T12:45:51.640233",
     "status": "completed"
    },
    "tags": []
   },
   "source": [
    "## Conclusion\n",
    "#### Writing text files is an essential skill in Python for creating and modifying file content. Understanding various methods to write data to files gives you the flexibility to generate files with custom content and structures."
   ]
  },
  {
   "cell_type": "markdown",
   "id": "2a07ed79",
   "metadata": {
    "papermill": {
     "duration": 0.032063,
     "end_time": "2023-08-20T12:45:51.736970",
     "exception": false,
     "start_time": "2023-08-20T12:45:51.704907",
     "status": "completed"
    },
    "tags": []
   },
   "source": [
    "\n",
    "<h1 align=\"left\"><font color='red'>82 </font></h1>"
   ]
  },
  {
   "cell_type": "markdown",
   "id": "4f39f625",
   "metadata": {
    "papermill": {
     "duration": 0.031535,
     "end_time": "2023-08-20T12:45:51.800626",
     "exception": false,
     "start_time": "2023-08-20T12:45:51.769091",
     "status": "completed"
    },
    "tags": []
   },
   "source": [
    "# Chapter 82: Working with Binary Files\n",
    "\n",
    "#### In this chapter, we'll explore working with binary files in Python, understanding how to read and write binary data using different modes and techniques.\n",
    "\n",
    "## Basics of Binary Files\n",
    "\n",
    "#### Binary files contain non-textual data, such as images, audio, video, or serialized objects. They are handled differently from text files due to their varying formats.\n",
    "\n",
    "## Opening and Reading Binary Files\n",
    "\n",
    "#### Binary files can be opened using the `open()` function in binary read mode (`\"rb\"`). You can use methods like `read()`, `readline()`, or iterate over the file to read binary data.\n",
    "\n",
    "## Example (Opening and Reading a Binary File):\n"
   ]
  },
  {
   "cell_type": "markdown",
   "id": "3433cf40",
   "metadata": {
    "papermill": {
     "duration": 0.031247,
     "end_time": "2023-08-20T12:45:51.864017",
     "exception": false,
     "start_time": "2023-08-20T12:45:51.832770",
     "status": "completed"
    },
    "tags": []
   },
   "source": [
    "```python\n",
    "\n",
    "\n",
    "file_path = \"image.jpg\"\n",
    "\n",
    "with open(file_path, \"rb\") as file:\n",
    "    image_data = file.read()\n",
    "    # Process binary data\n",
    "```"
   ]
  },
  {
   "cell_type": "markdown",
   "id": "541bb3c0",
   "metadata": {
    "papermill": {
     "duration": 0.031228,
     "end_time": "2023-08-20T12:45:51.928951",
     "exception": false,
     "start_time": "2023-08-20T12:45:51.897723",
     "status": "completed"
    },
    "tags": []
   },
   "source": [
    "## Writing Binary Data\n",
    "#### Binary data can be written to a file using binary write mode (\"wb\") and the write() method. This is useful for creating or modifying binary files.\n",
    "\n",
    "### Example (Writing Binary Data):"
   ]
  },
  {
   "cell_type": "markdown",
   "id": "5d872bdb",
   "metadata": {
    "papermill": {
     "duration": 0.031699,
     "end_time": "2023-08-20T12:45:51.992252",
     "exception": false,
     "start_time": "2023-08-20T12:45:51.960553",
     "status": "completed"
    },
    "tags": []
   },
   "source": [
    "```python\n",
    "output_path = \"output.bin\"\n",
    "data = b'\\x00\\x01\\x02\\x03\\x04'\n",
    "\n",
    "with open(output_path, \"wb\") as file:\n",
    "    file.write(data)\n",
    "```"
   ]
  },
  {
   "cell_type": "markdown",
   "id": "63754a44",
   "metadata": {
    "papermill": {
     "duration": 0.031791,
     "end_time": "2023-08-20T12:45:52.057481",
     "exception": false,
     "start_time": "2023-08-20T12:45:52.025690",
     "status": "completed"
    },
    "tags": []
   },
   "source": [
    "## Appending to Binary Files\n",
    "#### To append binary data to an existing file, use binary append mode (\"ab\") and the write() method.\n",
    "\n",
    "### Example (Appending to a Binary File):"
   ]
  },
  {
   "cell_type": "markdown",
   "id": "e54583cf",
   "metadata": {
    "papermill": {
     "duration": 0.031783,
     "end_time": "2023-08-20T12:45:52.120655",
     "exception": false,
     "start_time": "2023-08-20T12:45:52.088872",
     "status": "completed"
    },
    "tags": []
   },
   "source": [
    "```python\n",
    "output_path = \"output.bin\"\n",
    "new_data = b'\\x05\\x06\\x07'\n",
    "\n",
    "with open(output_path, \"ab\") as file:\n",
    "    file.write(new_data)\n",
    "```"
   ]
  },
  {
   "cell_type": "markdown",
   "id": "3045c63c",
   "metadata": {
    "papermill": {
     "duration": 0.031779,
     "end_time": "2023-08-20T12:45:52.184332",
     "exception": false,
     "start_time": "2023-08-20T12:45:52.152553",
     "status": "completed"
    },
    "tags": []
   },
   "source": [
    "## Working with Structured Binary Data\n",
    "#### Binary data often has a specific structure defined by its format. The struct module is useful for packing and unpacking structured binary data.\n",
    "\n",
    "### Example (Working with Structured Binary Data):"
   ]
  },
  {
   "cell_type": "code",
   "execution_count": 1,
   "id": "6e87fab9",
   "metadata": {
    "execution": {
     "iopub.execute_input": "2023-08-20T12:45:52.252086Z",
     "iopub.status.busy": "2023-08-20T12:45:52.251640Z",
     "iopub.status.idle": "2023-08-20T12:45:52.265761Z",
     "shell.execute_reply": "2023-08-20T12:45:52.264841Z"
    },
    "papermill": {
     "duration": 0.051211,
     "end_time": "2023-08-20T12:45:52.268059",
     "exception": false,
     "start_time": "2023-08-20T12:45:52.216848",
     "status": "completed"
    },
    "tags": []
   },
   "outputs": [],
   "source": [
    "\n",
    "import struct\n",
    "\n",
    "data = struct.pack(\"2i 2f\", 42, 13, 3.14, 2.71)\n",
    "output_path = \"data.bin\"\n",
    "\n",
    "with open(output_path, \"wb\") as file:\n",
    "    file.write(data)\n",
    "\n",
    "with open(output_path, \"rb\") as file:\n",
    "    binary_data = file.read()\n",
    "    unpacked_data = struct.unpack(\"2i 2f\", binary_data)\n"
   ]
  },
  {
   "cell_type": "markdown",
   "id": "e025246d",
   "metadata": {
    "papermill": {
     "duration": 0.032461,
     "end_time": "2023-08-20T12:45:52.333251",
     "exception": false,
     "start_time": "2023-08-20T12:45:52.300790",
     "status": "completed"
    },
    "tags": []
   },
   "source": [
    "## Conclusion\n",
    "#### Working with binary files is essential for handling non-textual data, such as multimedia files or serialized objects. Understanding the different modes for opening, reading, and writing binary data enables you to manipulate binary files effectively."
   ]
  },
  {
   "cell_type": "markdown",
   "id": "1b8e4ada",
   "metadata": {
    "papermill": {
     "duration": 0.032237,
     "end_time": "2023-08-20T12:45:52.397793",
     "exception": false,
     "start_time": "2023-08-20T12:45:52.365556",
     "status": "completed"
    },
    "tags": []
   },
   "source": [
    "\n",
    "<h1 align=\"left\"><font color='red'>83 </font></h1>"
   ]
  },
  {
   "cell_type": "markdown",
   "id": "6883793f",
   "metadata": {
    "papermill": {
     "duration": 0.031473,
     "end_time": "2023-08-20T12:45:52.460842",
     "exception": false,
     "start_time": "2023-08-20T12:45:52.429369",
     "status": "completed"
    },
    "tags": []
   },
   "source": [
    "# Chapter 83: Introduction to Error Handling\n",
    "\n",
    "#### In this chapter, we'll explore the fundamental concepts of error handling in Python, understanding how exceptions work and how to handle them effectively.\n",
    "\n",
    "## Basics of Error Handling\n",
    "\n",
    "#### Error handling is a crucial aspect of programming that allows you to deal with unexpected situations or errors that may occur during program execution.\n",
    "\n",
    "## Exceptions and the `try`-`except` Block\n",
    "\n",
    "#### In Python, exceptions are raised when an error occurs. The `try`-`except` block is used to catch and handle exceptions gracefully.\n",
    "\n",
    "## Example (Handling Division by Zero):\n",
    "\n"
   ]
  },
  {
   "cell_type": "code",
   "execution_count": 2,
   "id": "21cb3e43",
   "metadata": {
    "execution": {
     "iopub.execute_input": "2023-08-20T12:45:52.525288Z",
     "iopub.status.busy": "2023-08-20T12:45:52.524960Z",
     "iopub.status.idle": "2023-08-20T12:45:52.530070Z",
     "shell.execute_reply": "2023-08-20T12:45:52.529238Z"
    },
    "papermill": {
     "duration": 0.040497,
     "end_time": "2023-08-20T12:45:52.532774",
     "exception": false,
     "start_time": "2023-08-20T12:45:52.492277",
     "status": "completed"
    },
    "tags": []
   },
   "outputs": [
    {
     "name": "stdout",
     "output_type": "stream",
     "text": [
      "Error: Division by zero\n"
     ]
    }
   ],
   "source": [
    "try:\n",
    "    result = 10 / 0\n",
    "except ZeroDivisionError:\n",
    "    print(\"Error: Division by zero\")"
   ]
  },
  {
   "cell_type": "markdown",
   "id": "2f7c5980",
   "metadata": {
    "papermill": {
     "duration": 0.032354,
     "end_time": "2023-08-20T12:45:52.597172",
     "exception": false,
     "start_time": "2023-08-20T12:45:52.564818",
     "status": "completed"
    },
    "tags": []
   },
   "source": [
    "## Handling Multiple Exceptions\n",
    "#### You can handle different types of exceptions using multiple except blocks or a single block with tuple-based exception handling.\n",
    "\n",
    "### Example (Handling Multiple Exceptions):"
   ]
  },
  {
   "cell_type": "code",
   "execution_count": 3,
   "id": "52e71713",
   "metadata": {
    "execution": {
     "iopub.execute_input": "2023-08-20T12:45:52.662978Z",
     "iopub.status.busy": "2023-08-20T12:45:52.662104Z",
     "iopub.status.idle": "2023-08-20T12:45:52.667391Z",
     "shell.execute_reply": "2023-08-20T12:45:52.666516Z"
    },
    "papermill": {
     "duration": 0.040559,
     "end_time": "2023-08-20T12:45:52.669679",
     "exception": false,
     "start_time": "2023-08-20T12:45:52.629120",
     "status": "completed"
    },
    "tags": []
   },
   "outputs": [
    {
     "name": "stdout",
     "output_type": "stream",
     "text": [
      "Error: Invalid value or type\n"
     ]
    }
   ],
   "source": [
    "try:\n",
    "    value = int(\"abc\")\n",
    "except (ValueError, TypeError):\n",
    "    print(\"Error: Invalid value or type\")\n"
   ]
  },
  {
   "cell_type": "markdown",
   "id": "216ace6d",
   "metadata": {
    "papermill": {
     "duration": 0.03423,
     "end_time": "2023-08-20T12:45:52.737334",
     "exception": false,
     "start_time": "2023-08-20T12:45:52.703104",
     "status": "completed"
    },
    "tags": []
   },
   "source": [
    "## The else and finally Clauses\n",
    "#### The else clause is executed if no exception occurs, and the finally clause is executed regardless of whether an exception occurs or not.\n",
    "\n",
    "### Example (Using else and finally):"
   ]
  },
  {
   "cell_type": "code",
   "execution_count": 4,
   "id": "ea8fbf81",
   "metadata": {
    "execution": {
     "iopub.execute_input": "2023-08-20T12:45:52.805699Z",
     "iopub.status.busy": "2023-08-20T12:45:52.805355Z",
     "iopub.status.idle": "2023-08-20T12:45:52.811022Z",
     "shell.execute_reply": "2023-08-20T12:45:52.810079Z"
    },
    "papermill": {
     "duration": 0.041953,
     "end_time": "2023-08-20T12:45:52.813522",
     "exception": false,
     "start_time": "2023-08-20T12:45:52.771569",
     "status": "completed"
    },
    "tags": []
   },
   "outputs": [
    {
     "name": "stdout",
     "output_type": "stream",
     "text": [
      "Result: 5.0\n",
      "Execution completed\n"
     ]
    }
   ],
   "source": [
    "try:\n",
    "    result = 10 / 2\n",
    "except ZeroDivisionError:\n",
    "    print(\"Error: Division by zero\")\n",
    "else:\n",
    "    print(\"Result:\", result)\n",
    "finally:\n",
    "    print(\"Execution completed\")\n"
   ]
  },
  {
   "cell_type": "markdown",
   "id": "326605c3",
   "metadata": {
    "papermill": {
     "duration": 0.034041,
     "end_time": "2023-08-20T12:45:52.880870",
     "exception": false,
     "start_time": "2023-08-20T12:45:52.846829",
     "status": "completed"
    },
    "tags": []
   },
   "source": [
    "## Raising Exceptions\n",
    "#### You can explicitly raise exceptions using the raise statement. This is useful for creating custom error messages or handling specific cases.\n",
    "\n",
    "### Example (Raising Exceptions):"
   ]
  },
  {
   "cell_type": "code",
   "execution_count": 5,
   "id": "d64ec2eb",
   "metadata": {
    "execution": {
     "iopub.execute_input": "2023-08-20T12:45:52.947879Z",
     "iopub.status.busy": "2023-08-20T12:45:52.947488Z",
     "iopub.status.idle": "2023-08-20T12:45:52.952598Z",
     "shell.execute_reply": "2023-08-20T12:45:52.951553Z"
    },
    "papermill": {
     "duration": 0.040966,
     "end_time": "2023-08-20T12:45:52.954677",
     "exception": false,
     "start_time": "2023-08-20T12:45:52.913711",
     "status": "completed"
    },
    "tags": []
   },
   "outputs": [],
   "source": [
    "def calculate_square_root(number):\n",
    "    if number < 0:\n",
    "        raise ValueError(\"Input must be non-negative\")\n",
    "    return math.sqrt(number)\n"
   ]
  },
  {
   "cell_type": "markdown",
   "id": "d9786d7d",
   "metadata": {
    "papermill": {
     "duration": 0.032724,
     "end_time": "2023-08-20T12:45:53.020218",
     "exception": false,
     "start_time": "2023-08-20T12:45:52.987494",
     "status": "completed"
    },
    "tags": []
   },
   "source": [
    "## Conclusion\n",
    "#### Error handling is a fundamental skill in Python programming that enables you to write robust and reliable code. Understanding how to handle exceptions gracefully using try-except blocks, else and finally clauses, and raising custom exceptions empowers you to create code that can handle unexpected situations effectively."
   ]
  },
  {
   "cell_type": "markdown",
   "id": "3bbfc3b9",
   "metadata": {
    "papermill": {
     "duration": 0.032774,
     "end_time": "2023-08-20T12:45:53.087127",
     "exception": false,
     "start_time": "2023-08-20T12:45:53.054353",
     "status": "completed"
    },
    "tags": []
   },
   "source": [
    "\n",
    "<h1 align=\"left\"><font color='red'>84 </font></h1>"
   ]
  },
  {
   "cell_type": "markdown",
   "id": "f41c3bbf",
   "metadata": {
    "papermill": {
     "duration": 0.032449,
     "end_time": "2023-08-20T12:45:53.151973",
     "exception": false,
     "start_time": "2023-08-20T12:45:53.119524",
     "status": "completed"
    },
    "tags": []
   },
   "source": [
    "# Chapter 84: Handling Exceptions with `try` and `except`\n",
    "\n",
    "#### In this chapter, we'll delve into handling exceptions in Python using the `try`-`except` block, understanding how to catch and handle different types of exceptions gracefully.\n",
    "\n",
    "## Using `try`-`except` Blocks\n",
    "\n",
    "#### The `try`-`except` block is used to catch exceptions and handle them gracefully. It prevents the program from crashing when an exception occurs.\n",
    "\n",
    "## Example (Handling File Not Found):\n"
   ]
  },
  {
   "cell_type": "code",
   "execution_count": 6,
   "id": "61b87a6f",
   "metadata": {
    "execution": {
     "iopub.execute_input": "2023-08-20T12:45:53.219528Z",
     "iopub.status.busy": "2023-08-20T12:45:53.218697Z",
     "iopub.status.idle": "2023-08-20T12:45:53.225066Z",
     "shell.execute_reply": "2023-08-20T12:45:53.224055Z"
    },
    "papermill": {
     "duration": 0.042568,
     "end_time": "2023-08-20T12:45:53.227181",
     "exception": false,
     "start_time": "2023-08-20T12:45:53.184613",
     "status": "completed"
    },
    "tags": []
   },
   "outputs": [
    {
     "name": "stdout",
     "output_type": "stream",
     "text": [
      "Error: File not found\n"
     ]
    }
   ],
   "source": [
    "\n",
    "\n",
    "try:\n",
    "    with open(\"nonexistent.txt\", \"r\") as file:\n",
    "        content = file.read()\n",
    "except FileNotFoundError:\n",
    "    print(\"Error: File not found\")"
   ]
  },
  {
   "cell_type": "markdown",
   "id": "782af48c",
   "metadata": {
    "papermill": {
     "duration": 0.032191,
     "end_time": "2023-08-20T12:45:53.292921",
     "exception": false,
     "start_time": "2023-08-20T12:45:53.260730",
     "status": "completed"
    },
    "tags": []
   },
   "source": [
    "## Catching Multiple Exception Types\n",
    "#### You can catch multiple types of exceptions using separate except blocks or a single block with tuple-based exception handling.\n",
    "\n",
    "### Example (Handling Multiple Exceptions):"
   ]
  },
  {
   "cell_type": "code",
   "execution_count": 7,
   "id": "93a59f2e",
   "metadata": {
    "execution": {
     "iopub.execute_input": "2023-08-20T12:45:53.360234Z",
     "iopub.status.busy": "2023-08-20T12:45:53.359262Z",
     "iopub.status.idle": "2023-08-20T12:45:53.365564Z",
     "shell.execute_reply": "2023-08-20T12:45:53.364249Z"
    },
    "papermill": {
     "duration": 0.04202,
     "end_time": "2023-08-20T12:45:53.367651",
     "exception": false,
     "start_time": "2023-08-20T12:45:53.325631",
     "status": "completed"
    },
    "tags": []
   },
   "outputs": [
    {
     "name": "stdout",
     "output_type": "stream",
     "text": [
      "Error: Invalid value\n"
     ]
    }
   ],
   "source": [
    "try:\n",
    "    value = int(\"abc\")\n",
    "except ValueError:\n",
    "    print(\"Error: Invalid value\")\n",
    "except TypeError:\n",
    "    print(\"Error: Type mismatch\")\n"
   ]
  },
  {
   "cell_type": "markdown",
   "id": "e3a2c614",
   "metadata": {
    "papermill": {
     "duration": 0.033168,
     "end_time": "2023-08-20T12:45:53.433699",
     "exception": false,
     "start_time": "2023-08-20T12:45:53.400531",
     "status": "completed"
    },
    "tags": []
   },
   "source": [
    "## The except Block with No Exception Type\n",
    "#### Using an except block without specifying an exception type catches all exceptions, which can be useful for logging or general error handling.\n",
    "\n",
    "### Example (Catching All Exceptions):"
   ]
  },
  {
   "cell_type": "code",
   "execution_count": 8,
   "id": "1020e60b",
   "metadata": {
    "execution": {
     "iopub.execute_input": "2023-08-20T12:45:53.505736Z",
     "iopub.status.busy": "2023-08-20T12:45:53.504979Z",
     "iopub.status.idle": "2023-08-20T12:45:53.511693Z",
     "shell.execute_reply": "2023-08-20T12:45:53.510634Z"
    },
    "papermill": {
     "duration": 0.045469,
     "end_time": "2023-08-20T12:45:53.513959",
     "exception": false,
     "start_time": "2023-08-20T12:45:53.468490",
     "status": "completed"
    },
    "tags": []
   },
   "outputs": [
    {
     "name": "stdout",
     "output_type": "stream",
     "text": [
      "An error occurred\n"
     ]
    }
   ],
   "source": [
    "try:\n",
    "    result = 10 / 0\n",
    "except:\n",
    "    print(\"An error occurred\")\n"
   ]
  },
  {
   "cell_type": "markdown",
   "id": "5d0e6041",
   "metadata": {
    "papermill": {
     "duration": 0.037273,
     "end_time": "2023-08-20T12:45:53.589501",
     "exception": false,
     "start_time": "2023-08-20T12:45:53.552228",
     "status": "completed"
    },
    "tags": []
   },
   "source": [
    "## Handling Specific Exception Instances\n",
    "#### You can catch specific instances of exceptions and access their attributes or information.\n",
    "\n",
    "### Example (Catching Specific Exception Instances):"
   ]
  },
  {
   "cell_type": "code",
   "execution_count": 9,
   "id": "60582a2c",
   "metadata": {
    "execution": {
     "iopub.execute_input": "2023-08-20T12:45:53.666537Z",
     "iopub.status.busy": "2023-08-20T12:45:53.665644Z",
     "iopub.status.idle": "2023-08-20T12:45:53.671616Z",
     "shell.execute_reply": "2023-08-20T12:45:53.670558Z"
    },
    "papermill": {
     "duration": 0.047866,
     "end_time": "2023-08-20T12:45:53.674598",
     "exception": false,
     "start_time": "2023-08-20T12:45:53.626732",
     "status": "completed"
    },
    "tags": []
   },
   "outputs": [
    {
     "name": "stdout",
     "output_type": "stream",
     "text": [
      "Error: division by zero\n"
     ]
    }
   ],
   "source": [
    "try:\n",
    "    result = 10 / 0\n",
    "except ZeroDivisionError as e:\n",
    "    print(f\"Error: {e}\")\n"
   ]
  },
  {
   "cell_type": "markdown",
   "id": "3b87d410",
   "metadata": {
    "papermill": {
     "duration": 0.033863,
     "end_time": "2023-08-20T12:45:53.743999",
     "exception": false,
     "start_time": "2023-08-20T12:45:53.710136",
     "status": "completed"
    },
    "tags": []
   },
   "source": [
    "## Nesting try-except Blocks\n",
    "#### You can nest multiple try-except blocks to handle exceptions at different levels of your program.\n",
    "\n",
    "### Example (Nesting try-except Blocks):"
   ]
  },
  {
   "cell_type": "code",
   "execution_count": 10,
   "id": "d66d4181",
   "metadata": {
    "execution": {
     "iopub.execute_input": "2023-08-20T12:45:53.811681Z",
     "iopub.status.busy": "2023-08-20T12:45:53.810847Z",
     "iopub.status.idle": "2023-08-20T12:45:53.817189Z",
     "shell.execute_reply": "2023-08-20T12:45:53.815945Z"
    },
    "papermill": {
     "duration": 0.042729,
     "end_time": "2023-08-20T12:45:53.819330",
     "exception": false,
     "start_time": "2023-08-20T12:45:53.776601",
     "status": "completed"
    },
    "tags": []
   },
   "outputs": [
    {
     "name": "stdout",
     "output_type": "stream",
     "text": [
      "Inner exception\n"
     ]
    }
   ],
   "source": [
    "try:\n",
    "    try:\n",
    "        value = int(\"abc\")\n",
    "    except ValueError:\n",
    "        print(\"Inner exception\")\n",
    "except:\n",
    "    print(\"Outer exception\")\n"
   ]
  },
  {
   "cell_type": "markdown",
   "id": "b1971513",
   "metadata": {
    "papermill": {
     "duration": 0.035876,
     "end_time": "2023-08-20T12:45:53.888674",
     "exception": false,
     "start_time": "2023-08-20T12:45:53.852798",
     "status": "completed"
    },
    "tags": []
   },
   "source": [
    "## Conclusion\n",
    "#### Using the try-except block is essential for robust error handling in Python, allowing your code to gracefully handle unexpected situations without crashing. Understanding how to catch and handle different types of exceptions, including specific instances, empowers you to create code that can recover from errors and continue functioning."
   ]
  },
  {
   "cell_type": "markdown",
   "id": "c9087217",
   "metadata": {
    "papermill": {
     "duration": 0.033936,
     "end_time": "2023-08-20T12:45:53.956691",
     "exception": false,
     "start_time": "2023-08-20T12:45:53.922755",
     "status": "completed"
    },
    "tags": []
   },
   "source": [
    "\n",
    "<h1 align=\"left\"><font color='red'>85 </font></h1>"
   ]
  },
  {
   "cell_type": "markdown",
   "id": "df24010d",
   "metadata": {
    "papermill": {
     "duration": 0.033493,
     "end_time": "2023-08-20T12:45:54.023106",
     "exception": false,
     "start_time": "2023-08-20T12:45:53.989613",
     "status": "completed"
    },
    "tags": []
   },
   "source": [
    "# Chapter 85: Multiple `except` Clauses\n",
    "\n",
    "#### In this chapter, we'll explore how to handle multiple types of exceptions using separate `except` clauses in Python, allowing for fine-grained error handling based on the specific exception type.\n",
    "\n",
    "## Handling Different Exception Types\n",
    "\n",
    "#### Python's exception hierarchy allows you to catch specific types of exceptions using separate `except` blocks, ensuring precise error handling.\n",
    "\n",
    "## Example (Handling Different Exception Types):\n",
    "\n"
   ]
  },
  {
   "cell_type": "code",
   "execution_count": 11,
   "id": "80e4d9ff",
   "metadata": {
    "execution": {
     "iopub.execute_input": "2023-08-20T12:45:54.092072Z",
     "iopub.status.busy": "2023-08-20T12:45:54.091715Z",
     "iopub.status.idle": "2023-08-20T12:45:54.096921Z",
     "shell.execute_reply": "2023-08-20T12:45:54.096028Z"
    },
    "papermill": {
     "duration": 0.041,
     "end_time": "2023-08-20T12:45:54.099246",
     "exception": false,
     "start_time": "2023-08-20T12:45:54.058246",
     "status": "completed"
    },
    "tags": []
   },
   "outputs": [
    {
     "name": "stdout",
     "output_type": "stream",
     "text": [
      "Error: Invalid value\n"
     ]
    }
   ],
   "source": [
    "\n",
    "try:\n",
    "    value = int(\"abc\")\n",
    "except ValueError:\n",
    "    print(\"Error: Invalid value\")\n",
    "except TypeError:\n",
    "    print(\"Error: Type mismatch\")"
   ]
  },
  {
   "cell_type": "markdown",
   "id": "3bb4c8f2",
   "metadata": {
    "papermill": {
     "duration": 0.032098,
     "end_time": "2023-08-20T12:45:54.163905",
     "exception": false,
     "start_time": "2023-08-20T12:45:54.131807",
     "status": "completed"
    },
    "tags": []
   },
   "source": [
    "## Order of except Clauses\n",
    "#### The order of except clauses matters. Python checks the except blocks from top to bottom and executes the first block that matches the raised exception.\n",
    "\n",
    "### Example (Order of except Clauses):"
   ]
  },
  {
   "cell_type": "code",
   "execution_count": 12,
   "id": "ed3ff4a9",
   "metadata": {
    "execution": {
     "iopub.execute_input": "2023-08-20T12:45:54.230702Z",
     "iopub.status.busy": "2023-08-20T12:45:54.230347Z",
     "iopub.status.idle": "2023-08-20T12:45:54.235738Z",
     "shell.execute_reply": "2023-08-20T12:45:54.234794Z"
    },
    "papermill": {
     "duration": 0.041922,
     "end_time": "2023-08-20T12:45:54.238063",
     "exception": false,
     "start_time": "2023-08-20T12:45:54.196141",
     "status": "completed"
    },
    "tags": []
   },
   "outputs": [
    {
     "name": "stdout",
     "output_type": "stream",
     "text": [
      "Error: Division by zero\n"
     ]
    }
   ],
   "source": [
    "try:\n",
    "    result = 10 / 0\n",
    "except ZeroDivisionError:\n",
    "    print(\"Error: Division by zero\")\n",
    "except ArithmeticError:\n",
    "    print(\"Error: Arithmetic error\")\n"
   ]
  },
  {
   "cell_type": "markdown",
   "id": "73f4040c",
   "metadata": {
    "papermill": {
     "duration": 0.032419,
     "end_time": "2023-08-20T12:45:54.302830",
     "exception": false,
     "start_time": "2023-08-20T12:45:54.270411",
     "status": "completed"
    },
    "tags": []
   },
   "source": [
    "## Exception Hierarchy\n",
    "#### Exceptions are organized in a hierarchy. Catching a base exception class will catch its derived exception classes as well.\n",
    "\n",
    "### Example (Exception Hierarchy):"
   ]
  },
  {
   "cell_type": "code",
   "execution_count": 13,
   "id": "bf226403",
   "metadata": {
    "execution": {
     "iopub.execute_input": "2023-08-20T12:45:54.370408Z",
     "iopub.status.busy": "2023-08-20T12:45:54.369558Z",
     "iopub.status.idle": "2023-08-20T12:45:54.375688Z",
     "shell.execute_reply": "2023-08-20T12:45:54.374260Z"
    },
    "papermill": {
     "duration": 0.042119,
     "end_time": "2023-08-20T12:45:54.377637",
     "exception": false,
     "start_time": "2023-08-20T12:45:54.335518",
     "status": "completed"
    },
    "tags": []
   },
   "outputs": [
    {
     "name": "stdout",
     "output_type": "stream",
     "text": [
      "Error: An exception occurred\n"
     ]
    }
   ],
   "source": [
    "try:\n",
    "    value = int(\"abc\")\n",
    "except Exception:\n",
    "    print(\"Error: An exception occurred\")\n"
   ]
  },
  {
   "cell_type": "markdown",
   "id": "25788b3a",
   "metadata": {
    "papermill": {
     "duration": 0.032803,
     "end_time": "2023-08-20T12:45:54.443753",
     "exception": false,
     "start_time": "2023-08-20T12:45:54.410950",
     "status": "completed"
    },
    "tags": []
   },
   "source": [
    "## Catching Specific Instances\n",
    "#### You can catch specific instances of exceptions to access their attributes or information.\n",
    "\n",
    "### Example (Catching Specific Instances):"
   ]
  },
  {
   "cell_type": "code",
   "execution_count": 14,
   "id": "aa40435c",
   "metadata": {
    "execution": {
     "iopub.execute_input": "2023-08-20T12:45:54.511749Z",
     "iopub.status.busy": "2023-08-20T12:45:54.510818Z",
     "iopub.status.idle": "2023-08-20T12:45:54.516553Z",
     "shell.execute_reply": "2023-08-20T12:45:54.515675Z"
    },
    "papermill": {
     "duration": 0.041904,
     "end_time": "2023-08-20T12:45:54.518641",
     "exception": false,
     "start_time": "2023-08-20T12:45:54.476737",
     "status": "completed"
    },
    "tags": []
   },
   "outputs": [
    {
     "name": "stdout",
     "output_type": "stream",
     "text": [
      "Error: division by zero\n"
     ]
    }
   ],
   "source": [
    "try:\n",
    "    result = 10 / 0\n",
    "except ZeroDivisionError as e:\n",
    "    print(f\"Error: {e}\")\n"
   ]
  },
  {
   "cell_type": "markdown",
   "id": "b6b4d351",
   "metadata": {
    "papermill": {
     "duration": 0.03308,
     "end_time": "2023-08-20T12:45:54.587572",
     "exception": false,
     "start_time": "2023-08-20T12:45:54.554492",
     "status": "completed"
    },
    "tags": []
   },
   "source": [
    "## Common Exception Types\n",
    "#### Python provides various built-in exception types for handling specific errors, such as ValueError, TypeError, FileNotFoundError, and more.\n",
    "\n",
    "### Example (Handling ValueError and TypeError):"
   ]
  },
  {
   "cell_type": "code",
   "execution_count": 15,
   "id": "72728698",
   "metadata": {
    "execution": {
     "iopub.execute_input": "2023-08-20T12:45:54.657493Z",
     "iopub.status.busy": "2023-08-20T12:45:54.656631Z",
     "iopub.status.idle": "2023-08-20T12:45:54.662832Z",
     "shell.execute_reply": "2023-08-20T12:45:54.661637Z"
    },
    "papermill": {
     "duration": 0.042227,
     "end_time": "2023-08-20T12:45:54.664851",
     "exception": false,
     "start_time": "2023-08-20T12:45:54.622624",
     "status": "completed"
    },
    "tags": []
   },
   "outputs": [
    {
     "name": "stdout",
     "output_type": "stream",
     "text": [
      "Error: Invalid value\n"
     ]
    }
   ],
   "source": [
    "try:\n",
    "    value = int(\"abc\")\n",
    "except ValueError:\n",
    "    print(\"Error: Invalid value\")\n",
    "except TypeError:\n",
    "    print(\"Error: Type mismatch\")\n"
   ]
  },
  {
   "cell_type": "markdown",
   "id": "d1a493b4",
   "metadata": {
    "papermill": {
     "duration": 0.033149,
     "end_time": "2023-08-20T12:45:54.731610",
     "exception": false,
     "start_time": "2023-08-20T12:45:54.698461",
     "status": "completed"
    },
    "tags": []
   },
   "source": [
    "## Conclusion\n",
    "#### Using multiple except clauses allows you to tailor your error handling to specific exception types, providing more accurate and meaningful error messages. Understanding the order of except clauses, the exception hierarchy, and catching specific instances empowers you to create code that can gracefully handle a variety of errors."
   ]
  },
  {
   "cell_type": "markdown",
   "id": "8f7d77b3",
   "metadata": {
    "papermill": {
     "duration": 0.032677,
     "end_time": "2023-08-20T12:45:54.797415",
     "exception": false,
     "start_time": "2023-08-20T12:45:54.764738",
     "status": "completed"
    },
    "tags": []
   },
   "source": [
    "\n",
    "<h1 align=\"left\"><font color='red'>86 </font></h1>"
   ]
  },
  {
   "cell_type": "markdown",
   "id": "8d1ee80a",
   "metadata": {
    "papermill": {
     "duration": 0.033022,
     "end_time": "2023-08-20T12:45:54.863350",
     "exception": false,
     "start_time": "2023-08-20T12:45:54.830328",
     "status": "completed"
    },
    "tags": []
   },
   "source": [
    "# Chapter 86: Handling Multiple Exception Types\n",
    "\n",
    "#### In this chapter, we'll explore how to handle multiple types of exceptions efficiently using a single `except` block with tuple-based exception handling in Python, allowing for concise and organized error handling.\n",
    "\n",
    "## Using a Single `except` Block\n",
    "\n",
    "#### Python allows you to handle multiple exception types using a single `except` block with tuple-based exception handling.\n",
    "\n",
    "## Example (Handling Multiple Exception Types):\n"
   ]
  },
  {
   "cell_type": "code",
   "execution_count": 16,
   "id": "8f4567d1",
   "metadata": {
    "execution": {
     "iopub.execute_input": "2023-08-20T12:45:54.937153Z",
     "iopub.status.busy": "2023-08-20T12:45:54.936244Z",
     "iopub.status.idle": "2023-08-20T12:45:54.941907Z",
     "shell.execute_reply": "2023-08-20T12:45:54.940968Z"
    },
    "papermill": {
     "duration": 0.041907,
     "end_time": "2023-08-20T12:45:54.943822",
     "exception": false,
     "start_time": "2023-08-20T12:45:54.901915",
     "status": "completed"
    },
    "tags": []
   },
   "outputs": [
    {
     "name": "stdout",
     "output_type": "stream",
     "text": [
      "Error: Invalid value or type\n"
     ]
    }
   ],
   "source": [
    "\n",
    "try:\n",
    "    value = int(\"abc\")\n",
    "except (ValueError, TypeError):\n",
    "    print(\"Error: Invalid value or type\")"
   ]
  },
  {
   "cell_type": "markdown",
   "id": "34b6964a",
   "metadata": {
    "papermill": {
     "duration": 0.033189,
     "end_time": "2023-08-20T12:45:55.009728",
     "exception": false,
     "start_time": "2023-08-20T12:45:54.976539",
     "status": "completed"
    },
    "tags": []
   },
   "source": [
    "## Benefits of Tuple-Based Exception Handling\n",
    "#### Tuple-based exception handling simplifies code and provides a clean way to handle different exception types together.\n",
    "\n",
    "### Example (Handling Different Exception Types):"
   ]
  },
  {
   "cell_type": "code",
   "execution_count": 17,
   "id": "30bf8732",
   "metadata": {
    "execution": {
     "iopub.execute_input": "2023-08-20T12:45:55.078082Z",
     "iopub.status.busy": "2023-08-20T12:45:55.077771Z",
     "iopub.status.idle": "2023-08-20T12:45:55.083053Z",
     "shell.execute_reply": "2023-08-20T12:45:55.082213Z"
    },
    "papermill": {
     "duration": 0.041791,
     "end_time": "2023-08-20T12:45:55.085376",
     "exception": false,
     "start_time": "2023-08-20T12:45:55.043585",
     "status": "completed"
    },
    "tags": []
   },
   "outputs": [
    {
     "name": "stdout",
     "output_type": "stream",
     "text": [
      "Error: Division or arithmetic error\n"
     ]
    }
   ],
   "source": [
    "try:\n",
    "    result = 10 / 0\n",
    "except (ZeroDivisionError, ArithmeticError):\n",
    "    print(\"Error: Division or arithmetic error\")\n"
   ]
  },
  {
   "cell_type": "markdown",
   "id": "a0e96ab4",
   "metadata": {
    "papermill": {
     "duration": 0.032857,
     "end_time": "2023-08-20T12:45:55.151280",
     "exception": false,
     "start_time": "2023-08-20T12:45:55.118423",
     "status": "completed"
    },
    "tags": []
   },
   "source": [
    "## Catching Common Exception Types\n",
    "#### Python provides various built-in exception types for handling specific errors, such as ValueError, TypeError, FileNotFoundError, and more.\n",
    "\n",
    "### Example (Handling Common Exception Types):"
   ]
  },
  {
   "cell_type": "code",
   "execution_count": 18,
   "id": "80f0fe56",
   "metadata": {
    "execution": {
     "iopub.execute_input": "2023-08-20T12:45:55.219754Z",
     "iopub.status.busy": "2023-08-20T12:45:55.218918Z",
     "iopub.status.idle": "2023-08-20T12:45:55.225201Z",
     "shell.execute_reply": "2023-08-20T12:45:55.223972Z"
    },
    "papermill": {
     "duration": 0.042691,
     "end_time": "2023-08-20T12:45:55.227166",
     "exception": false,
     "start_time": "2023-08-20T12:45:55.184475",
     "status": "completed"
    },
    "tags": []
   },
   "outputs": [
    {
     "name": "stdout",
     "output_type": "stream",
     "text": [
      "Error: Invalid value or type\n"
     ]
    }
   ],
   "source": [
    "try:\n",
    "    value = int(\"abc\")\n",
    "except (ValueError, TypeError):\n",
    "    print(\"Error: Invalid value or type\")\n",
    "except FileNotFoundError:\n",
    "    print(\"Error: File not found\")\n"
   ]
  },
  {
   "cell_type": "markdown",
   "id": "7abb3b1f",
   "metadata": {
    "papermill": {
     "duration": 0.033171,
     "end_time": "2023-08-20T12:45:55.294047",
     "exception": false,
     "start_time": "2023-08-20T12:45:55.260876",
     "status": "completed"
    },
    "tags": []
   },
   "source": [
    "## The except Block with No Exception Type\n",
    "#### Using an except block without specifying an exception type catches all exceptions, providing a catch-all for unexpected situations.\n",
    "\n",
    "### Example (Catching All Exceptions):"
   ]
  },
  {
   "cell_type": "code",
   "execution_count": 19,
   "id": "4ae64078",
   "metadata": {
    "execution": {
     "iopub.execute_input": "2023-08-20T12:45:55.363053Z",
     "iopub.status.busy": "2023-08-20T12:45:55.362096Z",
     "iopub.status.idle": "2023-08-20T12:45:55.367593Z",
     "shell.execute_reply": "2023-08-20T12:45:55.366683Z"
    },
    "papermill": {
     "duration": 0.042383,
     "end_time": "2023-08-20T12:45:55.369696",
     "exception": false,
     "start_time": "2023-08-20T12:45:55.327313",
     "status": "completed"
    },
    "tags": []
   },
   "outputs": [
    {
     "name": "stdout",
     "output_type": "stream",
     "text": [
      "An error occurred\n"
     ]
    }
   ],
   "source": [
    "try:\n",
    "    result = 10 / 0\n",
    "except:\n",
    "    print(\"An error occurred\")\n"
   ]
  },
  {
   "cell_type": "markdown",
   "id": "32c046b7",
   "metadata": {
    "papermill": {
     "duration": 0.032879,
     "end_time": "2023-08-20T12:45:55.435928",
     "exception": false,
     "start_time": "2023-08-20T12:45:55.403049",
     "status": "completed"
    },
    "tags": []
   },
   "source": [
    "## Conclusion\n",
    "#### Handling multiple exception types using a single except block with tuple-based exception handling simplifies and organizes your error handling code. Understanding how to catch common exception types and efficiently handle different scenarios empowers you to create code that can gracefully handle a variety of errors."
   ]
  },
  {
   "cell_type": "markdown",
   "id": "6b985bf9",
   "metadata": {
    "papermill": {
     "duration": 0.032984,
     "end_time": "2023-08-20T12:45:55.501845",
     "exception": false,
     "start_time": "2023-08-20T12:45:55.468861",
     "status": "completed"
    },
    "tags": []
   },
   "source": [
    "\n",
    "<h1 align=\"left\"><font color='red'>87 </font></h1>"
   ]
  },
  {
   "cell_type": "markdown",
   "id": "1b41d643",
   "metadata": {
    "papermill": {
     "duration": 0.033075,
     "end_time": "2023-08-20T12:45:55.568584",
     "exception": false,
     "start_time": "2023-08-20T12:45:55.535509",
     "status": "completed"
    },
    "tags": []
   },
   "source": [
    "# Chapter 87: The `else` and `finally` Clauses\n",
    "\n",
    "#### In this chapter, we'll explore the `else` and `finally` clauses in Python's `try`-`except` blocks, understanding their roles and how they contribute to clean error handling and resource management.\n",
    "\n",
    "## The `else` Clause\n",
    "\n",
    "### The `else` clause is executed when no exceptions occur in the `try` block. It is often used to define code that should run only when no exceptions are raised.\n",
    "\n",
    "## Example (Using the `else` Clause):\n",
    "\n"
   ]
  },
  {
   "cell_type": "code",
   "execution_count": 20,
   "id": "b61e07ae",
   "metadata": {
    "execution": {
     "iopub.execute_input": "2023-08-20T12:45:55.637236Z",
     "iopub.status.busy": "2023-08-20T12:45:55.636596Z",
     "iopub.status.idle": "2023-08-20T12:45:55.643045Z",
     "shell.execute_reply": "2023-08-20T12:45:55.641777Z"
    },
    "papermill": {
     "duration": 0.043055,
     "end_time": "2023-08-20T12:45:55.645047",
     "exception": false,
     "start_time": "2023-08-20T12:45:55.601992",
     "status": "completed"
    },
    "tags": []
   },
   "outputs": [
    {
     "name": "stdout",
     "output_type": "stream",
     "text": [
      "Result: 5.0\n"
     ]
    }
   ],
   "source": [
    "\n",
    "try:\n",
    "    result = 10 / 2\n",
    "except ZeroDivisionError:\n",
    "    print(\"Error: Division by zero\")\n",
    "else:\n",
    "    print(\"Result:\", result)"
   ]
  },
  {
   "cell_type": "markdown",
   "id": "ea012d5f",
   "metadata": {
    "papermill": {
     "duration": 0.03347,
     "end_time": "2023-08-20T12:45:55.711958",
     "exception": false,
     "start_time": "2023-08-20T12:45:55.678488",
     "status": "completed"
    },
    "tags": []
   },
   "source": [
    "## The finally Clause\n",
    "#### The finally clause is executed regardless of whether an exception occurred or not. It is used for clean-up operations, such as closing files or releasing resources.\n",
    "\n",
    "### Example (Using the finally Clause for Resource Cleanup):"
   ]
  },
  {
   "cell_type": "markdown",
   "id": "47e1b647",
   "metadata": {
    "papermill": {
     "duration": 0.034324,
     "end_time": "2023-08-20T12:45:55.779910",
     "exception": false,
     "start_time": "2023-08-20T12:45:55.745586",
     "status": "completed"
    },
    "tags": []
   },
   "source": [
    "```python\n",
    "file = None\n",
    "try:\n",
    "    file = open(\"data.txt\", \"r\")\n",
    "    content = file.read()\n",
    "except FileNotFoundError:\n",
    "    print(\"Error: File not found\")\n",
    "finally:\n",
    "    if file:\n",
    "        file.close()\n",
    " ```\n"
   ]
  },
  {
   "cell_type": "markdown",
   "id": "a6a9d9eb",
   "metadata": {
    "papermill": {
     "duration": 0.033191,
     "end_time": "2023-08-20T12:45:55.854333",
     "exception": false,
     "start_time": "2023-08-20T12:45:55.821142",
     "status": "completed"
    },
    "tags": []
   },
   "source": [
    "## Combining else and finally\n",
    "#### You can use both the else and finally clauses together in a try-except block to handle exceptions and ensure clean-up.\n",
    "\n",
    "### Example (Using Both else and finally):"
   ]
  },
  {
   "cell_type": "markdown",
   "id": "1b0ae356",
   "metadata": {
    "execution": {
     "iopub.execute_input": "2023-08-20T11:55:47.754182Z",
     "iopub.status.busy": "2023-08-20T11:55:47.753738Z",
     "iopub.status.idle": "2023-08-20T11:55:47.763015Z",
     "shell.execute_reply": "2023-08-20T11:55:47.761278Z",
     "shell.execute_reply.started": "2023-08-20T11:55:47.754151Z"
    },
    "papermill": {
     "duration": 0.035638,
     "end_time": "2023-08-20T12:45:55.923899",
     "exception": false,
     "start_time": "2023-08-20T12:45:55.888261",
     "status": "completed"
    },
    "tags": []
   },
   "source": [
    "```python\n",
    "try:\n",
    "    value = int(\"123\")\n",
    "except ValueError:\n",
    "    print(\"Error: Invalid value\")\n",
    "else:\n",
    "    print(\"Value:\", value)\n",
    "finally:\n",
    "    print(\"Clean-up complete\")\n",
    "```"
   ]
  },
  {
   "cell_type": "markdown",
   "id": "97a50878",
   "metadata": {
    "papermill": {
     "duration": 0.033498,
     "end_time": "2023-08-20T12:45:55.991084",
     "exception": false,
     "start_time": "2023-08-20T12:45:55.957586",
     "status": "completed"
    },
    "tags": []
   },
   "source": [
    "## Conclusion\n",
    "#### The else and finally clauses are valuable tools in error handling and resource management. Understanding how to use the else clause to define code that should run when no exceptions occur and using the finally clause for clean-up operations empowers you to create robust and well-structured code."
   ]
  },
  {
   "cell_type": "markdown",
   "id": "e67f27c8",
   "metadata": {
    "papermill": {
     "duration": 0.034939,
     "end_time": "2023-08-20T12:45:56.059798",
     "exception": false,
     "start_time": "2023-08-20T12:45:56.024859",
     "status": "completed"
    },
    "tags": []
   },
   "source": [
    "\n",
    "<h1 align=\"left\"><font color='red'>88 </font></h1>"
   ]
  },
  {
   "cell_type": "markdown",
   "id": "e0ae0909",
   "metadata": {
    "papermill": {
     "duration": 0.049181,
     "end_time": "2023-08-20T12:45:56.173636",
     "exception": false,
     "start_time": "2023-08-20T12:45:56.124455",
     "status": "completed"
    },
    "tags": []
   },
   "source": [
    "# Chapter 88: Creating Custom Exceptions\n",
    "\n",
    "#### In this chapter, we'll explore the concept of creating custom exceptions in Python, allowing you to define your own exception classes to handle specific error scenarios effectively.\n",
    "\n",
    "## Why Create Custom Exceptions?\n",
    "\n",
    "#### Creating custom exceptions helps improve code readability and maintainability by providing clear and descriptive error messages for specific situations.\n",
    "\n",
    "## Example (Creating a Custom Exception):\n"
   ]
  },
  {
   "cell_type": "code",
   "execution_count": 21,
   "id": "7ab75894",
   "metadata": {
    "execution": {
     "iopub.execute_input": "2023-08-20T12:45:56.253669Z",
     "iopub.status.busy": "2023-08-20T12:45:56.253330Z",
     "iopub.status.idle": "2023-08-20T12:45:56.259557Z",
     "shell.execute_reply": "2023-08-20T12:45:56.258657Z"
    },
    "papermill": {
     "duration": 0.044053,
     "end_time": "2023-08-20T12:45:56.262534",
     "exception": false,
     "start_time": "2023-08-20T12:45:56.218481",
     "status": "completed"
    },
    "tags": []
   },
   "outputs": [
    {
     "name": "stdout",
     "output_type": "stream",
     "text": [
      "Negative value not allowed: -10\n"
     ]
    }
   ],
   "source": [
    "\n",
    "class NegativeValueError(Exception):\n",
    "    def __init__(self, value):\n",
    "        self.value = value\n",
    "        super().__init__(f\"Negative value not allowed: {value}\")\n",
    "\n",
    "try:\n",
    "    amount = -10\n",
    "    if amount < 0:\n",
    "        raise NegativeValueError(amount)\n",
    "except NegativeValueError as e:\n",
    "    print(e)"
   ]
  },
  {
   "cell_type": "markdown",
   "id": "890e094f",
   "metadata": {
    "papermill": {
     "duration": 0.033275,
     "end_time": "2023-08-20T12:45:56.331522",
     "exception": false,
     "start_time": "2023-08-20T12:45:56.298247",
     "status": "completed"
    },
    "tags": []
   },
   "source": [
    "## Inheriting from Base Exception Classes\n",
    "#### Custom exceptions should inherit from existing base exception classes or subclasses like Exception. This ensures they behave correctly in exception hierarchies.\n",
    "\n",
    "### Example (Inheriting from Exception):"
   ]
  },
  {
   "cell_type": "code",
   "execution_count": 22,
   "id": "b86c4eeb",
   "metadata": {
    "execution": {
     "iopub.execute_input": "2023-08-20T12:45:56.401756Z",
     "iopub.status.busy": "2023-08-20T12:45:56.400823Z",
     "iopub.status.idle": "2023-08-20T12:45:56.406944Z",
     "shell.execute_reply": "2023-08-20T12:45:56.405721Z"
    },
    "papermill": {
     "duration": 0.042548,
     "end_time": "2023-08-20T12:45:56.409014",
     "exception": false,
     "start_time": "2023-08-20T12:45:56.366466",
     "status": "completed"
    },
    "tags": []
   },
   "outputs": [
    {
     "name": "stdout",
     "output_type": "stream",
     "text": [
      "This is a custom exception\n"
     ]
    }
   ],
   "source": [
    "\n",
    "class CustomError(Exception):\n",
    "    pass\n",
    "\n",
    "try:\n",
    "    raise CustomError(\"This is a custom exception\")\n",
    "except CustomError as e:\n",
    "    print(e)\n"
   ]
  },
  {
   "cell_type": "markdown",
   "id": "22ee1f4f",
   "metadata": {
    "papermill": {
     "duration": 0.033369,
     "end_time": "2023-08-20T12:45:56.475957",
     "exception": false,
     "start_time": "2023-08-20T12:45:56.442588",
     "status": "completed"
    },
    "tags": []
   },
   "source": [
    "## Adding Additional Information\n",
    "#### Custom exceptions can have additional attributes to provide more context about the error situation.\n",
    "\n",
    "### Example (Adding Additional Information):"
   ]
  },
  {
   "cell_type": "code",
   "execution_count": 23,
   "id": "913706f1",
   "metadata": {
    "execution": {
     "iopub.execute_input": "2023-08-20T12:45:56.545289Z",
     "iopub.status.busy": "2023-08-20T12:45:56.544308Z",
     "iopub.status.idle": "2023-08-20T12:45:56.551334Z",
     "shell.execute_reply": "2023-08-20T12:45:56.550440Z"
    },
    "papermill": {
     "duration": 0.044377,
     "end_time": "2023-08-20T12:45:56.553672",
     "exception": false,
     "start_time": "2023-08-20T12:45:56.509295",
     "status": "completed"
    },
    "tags": []
   },
   "outputs": [
    {
     "name": "stdout",
     "output_type": "stream",
     "text": [
      "[Errno None] None: 'missing.txt'\n"
     ]
    }
   ],
   "source": [
    "class FileNotFoundErrorWithTimestamp(FileNotFoundError):\n",
    "    def __init__(self, filename, timestamp):\n",
    "        self.filename = filename\n",
    "        self.timestamp = timestamp\n",
    "        super().__init__(f\"File not found: {filename} (Timestamp: {timestamp})\")\n",
    "\n",
    "try:\n",
    "    filename = \"missing.txt\"\n",
    "    timestamp = \"2023-08-15 10:00:00\"\n",
    "    raise FileNotFoundErrorWithTimestamp(filename, timestamp)\n",
    "except FileNotFoundErrorWithTimestamp as e:\n",
    "    print(e)\n"
   ]
  },
  {
   "cell_type": "markdown",
   "id": "37bea6d4",
   "metadata": {
    "papermill": {
     "duration": 0.033611,
     "end_time": "2023-08-20T12:45:56.620486",
     "exception": false,
     "start_time": "2023-08-20T12:45:56.586875",
     "status": "completed"
    },
    "tags": []
   },
   "source": [
    "## Conclusion\n",
    "#### Creating custom exceptions enhances code readability and provides targeted error messages for specific situations, improving the clarity of your code and helping with debugging and error handling. Understanding when and how to create custom exceptions empowers you to create more robust and user-friendly Python applications."
   ]
  },
  {
   "cell_type": "markdown",
   "id": "07a099f6",
   "metadata": {
    "papermill": {
     "duration": 0.034014,
     "end_time": "2023-08-20T12:45:56.688065",
     "exception": false,
     "start_time": "2023-08-20T12:45:56.654051",
     "status": "completed"
    },
    "tags": []
   },
   "source": [
    "\n",
    "<h1 align=\"left\"><font color='red'>89 </font></h1>"
   ]
  },
  {
   "cell_type": "markdown",
   "id": "ea7fd6e7",
   "metadata": {
    "papermill": {
     "duration": 0.034624,
     "end_time": "2023-08-20T12:45:56.757914",
     "exception": false,
     "start_time": "2023-08-20T12:45:56.723290",
     "status": "completed"
    },
    "tags": []
   },
   "source": [
    "# Chapter 89: Introduction to Classes and Objects\n",
    "\n",
    "#### In this chapter, we'll dive deeper into the world of object-oriented programming (OOP) by exploring the fundamental concepts of classes and objects in Python.\n",
    "\n",
    "## Understanding Classes and Objects\n",
    "\n",
    "#### In Python, a class is a blueprint for creating objects. An object is an instance of a class. Classes define the structure and behavior of objects.\n",
    "\n",
    "## Defining a Class\n",
    "\n",
    "#### To define a class, use the `class` keyword, followed by the class name and a colon. Class methods are defined within the class and can operate on the class's data (attributes).\n",
    "\n",
    "## Example (Defining a Class):\n",
    "\n"
   ]
  },
  {
   "cell_type": "code",
   "execution_count": 24,
   "id": "36b9bae1",
   "metadata": {
    "execution": {
     "iopub.execute_input": "2023-08-20T12:45:56.827076Z",
     "iopub.status.busy": "2023-08-20T12:45:56.826739Z",
     "iopub.status.idle": "2023-08-20T12:45:56.833072Z",
     "shell.execute_reply": "2023-08-20T12:45:56.832142Z"
    },
    "papermill": {
     "duration": 0.043724,
     "end_time": "2023-08-20T12:45:56.835363",
     "exception": false,
     "start_time": "2023-08-20T12:45:56.791639",
     "status": "completed"
    },
    "tags": []
   },
   "outputs": [
    {
     "name": "stdout",
     "output_type": "stream",
     "text": [
      "Hello, my name is Alice and I am 30 years old.\n"
     ]
    }
   ],
   "source": [
    "\n",
    "class Person:\n",
    "    def __init__(self, name, age):\n",
    "        self.name = name\n",
    "        self.age = age\n",
    "    \n",
    "    def greet(self):\n",
    "        print(f\"Hello, my name is {self.name} and I am {self.age} years old.\")\n",
    "\n",
    "# Creating an object (instance) of the Person class\n",
    "person1 = Person(\"Alice\", 30)\n",
    "\n",
    "# Calling the greet method on the object\n",
    "person1.greet()"
   ]
  },
  {
   "cell_type": "markdown",
   "id": "ceda211d",
   "metadata": {
    "papermill": {
     "duration": 0.034006,
     "end_time": "2023-08-20T12:45:56.902798",
     "exception": false,
     "start_time": "2023-08-20T12:45:56.868792",
     "status": "completed"
    },
    "tags": []
   },
   "source": [
    "## Attributes and Methods\n",
    "#### Attributes are data members that store values for an object. Methods are functions defined within a class that can operate on the object's data.\n",
    "\n",
    "### Example (Attributes and Methods):"
   ]
  },
  {
   "cell_type": "code",
   "execution_count": 25,
   "id": "6593840f",
   "metadata": {
    "execution": {
     "iopub.execute_input": "2023-08-20T12:45:56.976053Z",
     "iopub.status.busy": "2023-08-20T12:45:56.975045Z",
     "iopub.status.idle": "2023-08-20T12:45:56.982400Z",
     "shell.execute_reply": "2023-08-20T12:45:56.981481Z"
    },
    "papermill": {
     "duration": 0.045121,
     "end_time": "2023-08-20T12:45:56.984766",
     "exception": false,
     "start_time": "2023-08-20T12:45:56.939645",
     "status": "completed"
    },
    "tags": []
   },
   "outputs": [
    {
     "name": "stdout",
     "output_type": "stream",
     "text": [
      "Width: 5\n",
      "Height: 3\n",
      "Area: 15\n"
     ]
    }
   ],
   "source": [
    "class Rectangle:\n",
    "    def __init__(self, width, height):\n",
    "        self.width = width\n",
    "        self.height = height\n",
    "    \n",
    "    def area(self):\n",
    "        return self.width * self.height\n",
    "\n",
    "# Creating an object (instance) of the Rectangle class\n",
    "rect = Rectangle(5, 3)\n",
    "\n",
    "# Accessing attributes and calling methods\n",
    "print(\"Width:\", rect.width)\n",
    "print(\"Height:\", rect.height)\n",
    "print(\"Area:\", rect.area())\n"
   ]
  },
  {
   "cell_type": "markdown",
   "id": "bc67ff6b",
   "metadata": {
    "papermill": {
     "duration": 0.034807,
     "end_time": "2023-08-20T12:45:57.053997",
     "exception": false,
     "start_time": "2023-08-20T12:45:57.019190",
     "status": "completed"
    },
    "tags": []
   },
   "source": [
    "## Constructor (init method)\n",
    "#### The __init__ method is a special method called when an object is created from a class. It initializes the object's attributes.\n",
    "\n",
    "### Example (Constructor):"
   ]
  },
  {
   "cell_type": "code",
   "execution_count": 26,
   "id": "1aa03f7b",
   "metadata": {
    "execution": {
     "iopub.execute_input": "2023-08-20T12:45:57.126467Z",
     "iopub.status.busy": "2023-08-20T12:45:57.125611Z",
     "iopub.status.idle": "2023-08-20T12:45:57.132859Z",
     "shell.execute_reply": "2023-08-20T12:45:57.131621Z"
    },
    "papermill": {
     "duration": 0.046158,
     "end_time": "2023-08-20T12:45:57.134810",
     "exception": false,
     "start_time": "2023-08-20T12:45:57.088652",
     "status": "completed"
    },
    "tags": []
   },
   "outputs": [
    {
     "name": "stdout",
     "output_type": "stream",
     "text": [
      "Make: Toyota\n",
      "Model: Camry\n"
     ]
    }
   ],
   "source": [
    "class Car:\n",
    "    def __init__(self, make, model):\n",
    "        self.make = make\n",
    "        self.model = model\n",
    "\n",
    "# Creating an object (instance) of the Car class\n",
    "car1 = Car(\"Toyota\", \"Camry\")\n",
    "\n",
    "# Accessing attributes\n",
    "print(\"Make:\", car1.make)\n",
    "print(\"Model:\", car1.model)\n"
   ]
  },
  {
   "cell_type": "markdown",
   "id": "a44c76bc",
   "metadata": {
    "papermill": {
     "duration": 0.033855,
     "end_time": "2023-08-20T12:45:57.203106",
     "exception": false,
     "start_time": "2023-08-20T12:45:57.169251",
     "status": "completed"
    },
    "tags": []
   },
   "source": [
    "## Conclusion\n",
    "#### Understanding classes and objects is fundamental to object-oriented programming. Classes define the structure of objects, and objects are instances of classes. Attributes store data for objects, and methods define behavior. The "
   ]
  },
  {
   "cell_type": "markdown",
   "id": "393af199",
   "metadata": {
    "papermill": {
     "duration": 0.033794,
     "end_time": "2023-08-20T12:45:57.270735",
     "exception": false,
     "start_time": "2023-08-20T12:45:57.236941",
     "status": "completed"
    },
    "tags": []
   },
   "source": [
    "\n",
    "<h1 align=\"left\"><font color='red'>90 </font></h1>"
   ]
  },
  {
   "cell_type": "markdown",
   "id": "8bebf32c",
   "metadata": {
    "papermill": {
     "duration": 0.033806,
     "end_time": "2023-08-20T12:45:57.338039",
     "exception": false,
     "start_time": "2023-08-20T12:45:57.304233",
     "status": "completed"
    },
    "tags": []
   },
   "source": [
    "# Chapter 90: Class Attributes and Methods\n",
    "\n",
    "#### In this chapter, we'll explore the concepts of class-level attributes and methods in Python, understanding how they are defined and utilized to manage shared data and behaviors among all instances of a class.\n",
    "\n",
    "## Class Attributes\n",
    "\n",
    "#### Class attributes are attributes that are shared among all instances of a class. They are defined within the class but outside of any instance methods. Class attributes are accessed using the class name.\n",
    "\n",
    "## Example (Class Attributes):\n",
    "\n"
   ]
  },
  {
   "cell_type": "code",
   "execution_count": 27,
   "id": "8e0cc893",
   "metadata": {
    "execution": {
     "iopub.execute_input": "2023-08-20T12:45:57.407357Z",
     "iopub.status.busy": "2023-08-20T12:45:57.406570Z",
     "iopub.status.idle": "2023-08-20T12:45:57.413410Z",
     "shell.execute_reply": "2023-08-20T12:45:57.412373Z"
    },
    "papermill": {
     "duration": 0.04335,
     "end_time": "2023-08-20T12:45:57.415370",
     "exception": false,
     "start_time": "2023-08-20T12:45:57.372020",
     "status": "completed"
    },
    "tags": []
   },
   "outputs": [
    {
     "name": "stdout",
     "output_type": "stream",
     "text": [
      "Value of pi: 3.14159\n",
      "Radius of circle1: 5\n"
     ]
    }
   ],
   "source": [
    "\n",
    "class Circle:\n",
    "    pi = 3.14159\n",
    "    \n",
    "    def __init__(self, radius):\n",
    "        self.radius = radius\n",
    "    \n",
    "    def area(self):\n",
    "        return Circle.pi * self.radius * self.radius\n",
    "\n",
    "# Accessing a class attribute\n",
    "print(\"Value of pi:\", Circle.pi)\n",
    "\n",
    "# Creating objects and accessing instance attributes and methods\n",
    "circle1 = Circle(5)\n",
    "print(\"Radius of circle1:\", circle1.radius)"
   ]
  },
  {
   "cell_type": "markdown",
   "id": "cc7d4325",
   "metadata": {
    "papermill": {
     "duration": 0.033578,
     "end_time": "2023-08-20T12:45:57.482808",
     "exception": false,
     "start_time": "2023-08-20T12:45:57.449230",
     "status": "completed"
    },
    "tags": []
   },
   "source": [
    "## Class Methods\n",
    "#### Class methods are methods that are bound to the class and not the instance. They are defined using the @classmethod decorator. Class methods can access and modify class attributes.\n",
    "\n",
    "### Example (Class Methods):"
   ]
  },
  {
   "cell_type": "code",
   "execution_count": 28,
   "id": "1aefd406",
   "metadata": {
    "execution": {
     "iopub.execute_input": "2023-08-20T12:45:57.551927Z",
     "iopub.status.busy": "2023-08-20T12:45:57.551003Z",
     "iopub.status.idle": "2023-08-20T12:45:57.557249Z",
     "shell.execute_reply": "2023-08-20T12:45:57.556178Z"
    },
    "papermill": {
     "duration": 0.043114,
     "end_time": "2023-08-20T12:45:57.559283",
     "exception": false,
     "start_time": "2023-08-20T12:45:57.516169",
     "status": "completed"
    },
    "tags": []
   },
   "outputs": [
    {
     "name": "stdout",
     "output_type": "stream",
     "text": [
      "Square of 4: 16\n"
     ]
    }
   ],
   "source": [
    "class MathOperations:\n",
    "    @classmethod\n",
    "    def square(cls, num):\n",
    "        return num * num\n",
    "\n",
    "# Calling a class method\n",
    "result = MathOperations.square(4)\n",
    "print(\"Square of 4:\", result)\n"
   ]
  },
  {
   "cell_type": "markdown",
   "id": "6ef6fc3b",
   "metadata": {
    "papermill": {
     "duration": 0.035837,
     "end_time": "2023-08-20T12:45:57.629044",
     "exception": false,
     "start_time": "2023-08-20T12:45:57.593207",
     "status": "completed"
    },
    "tags": []
   },
   "source": [
    "## Class Attributes vs. Instance Attributes\n",
    "#### Class attributes are shared among all instances of a class, while instance attributes are specific to individual objects. Class methods operate on class-level data, while instance methods operate on instance-specific data.\n",
    "\n",
    "### Example (Class Attributes vs. Instance Attributes):"
   ]
  },
  {
   "cell_type": "code",
   "execution_count": 29,
   "id": "8e3c905c",
   "metadata": {
    "execution": {
     "iopub.execute_input": "2023-08-20T12:45:57.699559Z",
     "iopub.status.busy": "2023-08-20T12:45:57.698663Z",
     "iopub.status.idle": "2023-08-20T12:45:57.706219Z",
     "shell.execute_reply": "2023-08-20T12:45:57.705017Z"
    },
    "papermill": {
     "duration": 0.045395,
     "end_time": "2023-08-20T12:45:57.708240",
     "exception": false,
     "start_time": "2023-08-20T12:45:57.662845",
     "status": "completed"
    },
    "tags": []
   },
   "outputs": [
    {
     "name": "stdout",
     "output_type": "stream",
     "text": [
      "Total vehicles: 2\n",
      "Make of car1: Toyota\n",
      "Model of car2: Accord\n"
     ]
    }
   ],
   "source": [
    "class Vehicle:\n",
    "    total_vehicles = 0\n",
    "    \n",
    "    def __init__(self, make, model):\n",
    "        self.make = make\n",
    "        self.model = model\n",
    "        Vehicle.total_vehicles += 1\n",
    "\n",
    "# Creating objects and accessing class and instance attributes\n",
    "car1 = Vehicle(\"Toyota\", \"Camry\")\n",
    "car2 = Vehicle(\"Honda\", \"Accord\")\n",
    "print(\"Total vehicles:\", Vehicle.total_vehicles)\n",
    "print(\"Make of car1:\", car1.make)\n",
    "print(\"Model of car2:\", car2.model)\n"
   ]
  },
  {
   "cell_type": "markdown",
   "id": "8f96204f",
   "metadata": {
    "papermill": {
     "duration": 0.036506,
     "end_time": "2023-08-20T12:45:57.778691",
     "exception": false,
     "start_time": "2023-08-20T12:45:57.742185",
     "status": "completed"
    },
    "tags": []
   },
   "source": [
    "## Conclusion\n",
    "#### Class attributes and methods provide a way to manage shared data and behaviors at the class level. Class attributes are shared among all instances, and class methods operate on class-level data. Understanding the distinction between class and instance attributes/methods empowers you to design and structure your classes effectively."
   ]
  },
  {
   "cell_type": "markdown",
   "id": "7139843d",
   "metadata": {
    "papermill": {
     "duration": 0.03377,
     "end_time": "2023-08-20T12:45:57.846350",
     "exception": false,
     "start_time": "2023-08-20T12:45:57.812580",
     "status": "completed"
    },
    "tags": []
   },
   "source": [
    "\n",
    "<h1 align=\"left\"><font color='red'>91 </font></h1>"
   ]
  },
  {
   "cell_type": "markdown",
   "id": "ddcec6f6",
   "metadata": {
    "papermill": {
     "duration": 0.036034,
     "end_time": "2023-08-20T12:45:57.915964",
     "exception": false,
     "start_time": "2023-08-20T12:45:57.879930",
     "status": "completed"
    },
    "tags": []
   },
   "source": [
    "# Chapter 91: The `__init__` Constructor\n",
    "\n",
    "#### In this chapter, we'll take an in-depth look at the `__init__` method, which is a special method in Python classes responsible for initializing object attributes when an instance of the class is created.\n",
    "\n",
    "## Understanding the `__init__` Method\n",
    "\n",
    "#### The `__init__` method is a constructor method that gets automatically called when an object is created from a class. It initializes the object's attributes with provided values.\n",
    "\n",
    "## Example (Using the `__init__` Method):\n"
   ]
  },
  {
   "cell_type": "code",
   "execution_count": 30,
   "id": "57d51895",
   "metadata": {
    "execution": {
     "iopub.execute_input": "2023-08-20T12:45:57.989239Z",
     "iopub.status.busy": "2023-08-20T12:45:57.988908Z",
     "iopub.status.idle": "2023-08-20T12:45:57.994732Z",
     "shell.execute_reply": "2023-08-20T12:45:57.993870Z"
    },
    "papermill": {
     "duration": 0.04732,
     "end_time": "2023-08-20T12:45:57.996935",
     "exception": false,
     "start_time": "2023-08-20T12:45:57.949615",
     "status": "completed"
    },
    "tags": []
   },
   "outputs": [
    {
     "name": "stdout",
     "output_type": "stream",
     "text": [
      "Name: Alice\n",
      "Age: 30\n"
     ]
    }
   ],
   "source": [
    "class Person:\n",
    "    def __init__(self, name, age):\n",
    "        self.name = name\n",
    "        self.age = age\n",
    "\n",
    "# Creating an object (instance) of the Person class\n",
    "person1 = Person(\"Alice\", 30)\n",
    "\n",
    "# Accessing instance attributes\n",
    "print(\"Name:\", person1.name)\n",
    "print(\"Age:\", person1.age)"
   ]
  },
  {
   "cell_type": "markdown",
   "id": "a8ee05b3",
   "metadata": {
    "papermill": {
     "duration": 0.035504,
     "end_time": "2023-08-20T12:45:58.066256",
     "exception": false,
     "start_time": "2023-08-20T12:45:58.030752",
     "status": "completed"
    },
    "tags": []
   },
   "source": [
    "## Self Parameter\n",
    "#### The self parameter is a reference to the instance being created. It allows you to access and manipulate the object's attributes within the __init__ method.\n",
    "\n",
    "### Example (Using the self Parameter):"
   ]
  },
  {
   "cell_type": "code",
   "execution_count": 31,
   "id": "cf826804",
   "metadata": {
    "execution": {
     "iopub.execute_input": "2023-08-20T12:45:58.137556Z",
     "iopub.status.busy": "2023-08-20T12:45:58.136560Z",
     "iopub.status.idle": "2023-08-20T12:45:58.144215Z",
     "shell.execute_reply": "2023-08-20T12:45:58.142813Z"
    },
    "papermill": {
     "duration": 0.046141,
     "end_time": "2023-08-20T12:45:58.146263",
     "exception": false,
     "start_time": "2023-08-20T12:45:58.100122",
     "status": "completed"
    },
    "tags": []
   },
   "outputs": [
    {
     "name": "stdout",
     "output_type": "stream",
     "text": [
      "Title: The Python Book\n",
      "Author: John Smith\n"
     ]
    }
   ],
   "source": [
    "class Book:\n",
    "    def __init__(self, title, author):\n",
    "        self.title = title\n",
    "        self.author = author\n",
    "\n",
    "# Creating an object (instance) of the Book class\n",
    "book1 = Book(\"The Python Book\", \"John Smith\")\n",
    "\n",
    "# Accessing instance attributes\n",
    "print(\"Title:\", book1.title)\n",
    "print(\"Author:\", book1.author)\n"
   ]
  },
  {
   "cell_type": "markdown",
   "id": "4aa2e842",
   "metadata": {
    "papermill": {
     "duration": 0.034172,
     "end_time": "2023-08-20T12:45:58.218955",
     "exception": false,
     "start_time": "2023-08-20T12:45:58.184783",
     "status": "completed"
    },
    "tags": []
   },
   "source": [
    "## Default Values\n",
    "#### You can provide default values for attributes in the __init__ method. These values are used when an attribute is not explicitly provided during object creation.\n",
    "\n",
    "### Example (Using Default Values):"
   ]
  },
  {
   "cell_type": "code",
   "execution_count": 32,
   "id": "f6b488b1",
   "metadata": {
    "execution": {
     "iopub.execute_input": "2023-08-20T12:45:58.290456Z",
     "iopub.status.busy": "2023-08-20T12:45:58.289582Z",
     "iopub.status.idle": "2023-08-20T12:45:58.296509Z",
     "shell.execute_reply": "2023-08-20T12:45:58.295531Z"
    },
    "papermill": {
     "duration": 0.0452,
     "end_time": "2023-08-20T12:45:58.298608",
     "exception": false,
     "start_time": "2023-08-20T12:45:58.253408",
     "status": "completed"
    },
    "tags": []
   },
   "outputs": [
    {
     "name": "stdout",
     "output_type": "stream",
     "text": [
      "Width of rect1: 1\n",
      "Height of rect2: 3\n"
     ]
    }
   ],
   "source": [
    "class Rectangle:\n",
    "    def __init__(self, width=1, height=1):\n",
    "        self.width = width\n",
    "        self.height = height\n",
    "\n",
    "# Creating objects with and without specifying attribute values\n",
    "rect1 = Rectangle()\n",
    "rect2 = Rectangle(5, 3)\n",
    "\n",
    "# Accessing instance attributes\n",
    "print(\"Width of rect1:\", rect1.width)\n",
    "print(\"Height of rect2:\", rect2.height)\n"
   ]
  },
  {
   "cell_type": "markdown",
   "id": "f4092dd1",
   "metadata": {
    "papermill": {
     "duration": 0.034999,
     "end_time": "2023-08-20T12:45:58.367980",
     "exception": false,
     "start_time": "2023-08-20T12:45:58.332981",
     "status": "completed"
    },
    "tags": []
   },
   "source": [
    "## Conclusion\n",
    "#### The __init__ method is a crucial part of class definition in Python. It allows you to initialize object attributes with provided values during object creation. The self parameter is used to reference the instance being created, enabling attribute manipulation."
   ]
  },
  {
   "cell_type": "markdown",
   "id": "36d0f617",
   "metadata": {
    "papermill": {
     "duration": 0.034224,
     "end_time": "2023-08-20T12:45:58.436554",
     "exception": false,
     "start_time": "2023-08-20T12:45:58.402330",
     "status": "completed"
    },
    "tags": []
   },
   "source": [
    "\n",
    "<h1 align=\"left\"><font color='red'>92 </font></h1>\n"
   ]
  },
  {
   "cell_type": "markdown",
   "id": "6015aa4c",
   "metadata": {
    "papermill": {
     "duration": 0.035039,
     "end_time": "2023-08-20T12:45:58.505909",
     "exception": false,
     "start_time": "2023-08-20T12:45:58.470870",
     "status": "completed"
    },
    "tags": []
   },
   "source": [
    "# Chapter 92: Inheritance and Subclasses\n",
    "\n",
    "#### In this chapter, we'll delve into the concept of inheritance in object-oriented programming (OOP) using Python. Inheritance allows you to create subclasses that inherit attributes and methods from a parent (base) class.\n",
    "\n",
    "## Understanding Inheritance\n",
    "\n",
    "#### Inheritance is a fundamental OOP concept where a new class (subclass) is created based on an existing class (parent or base class). The subclass inherits the attributes and methods of the parent class and can also have its own unique attributes and methods.\n",
    "\n",
    "## Example (Using Inheritance):\n"
   ]
  },
  {
   "cell_type": "code",
   "execution_count": 33,
   "id": "2bdcd6a7",
   "metadata": {
    "execution": {
     "iopub.execute_input": "2023-08-20T12:45:58.577374Z",
     "iopub.status.busy": "2023-08-20T12:45:58.576466Z",
     "iopub.status.idle": "2023-08-20T12:45:58.584875Z",
     "shell.execute_reply": "2023-08-20T12:45:58.583654Z"
    },
    "papermill": {
     "duration": 0.046215,
     "end_time": "2023-08-20T12:45:58.586988",
     "exception": false,
     "start_time": "2023-08-20T12:45:58.540773",
     "status": "completed"
    },
    "tags": []
   },
   "outputs": [
    {
     "name": "stdout",
     "output_type": "stream",
     "text": [
      "Buddy says: Woof!\n",
      "Whiskers says: Meow!\n"
     ]
    }
   ],
   "source": [
    "class Animal:\n",
    "    def __init__(self, name):\n",
    "        self.name = name\n",
    "    \n",
    "    def speak(self):\n",
    "        pass  # Abstract method\n",
    "\n",
    "class Dog(Animal):\n",
    "    def speak(self):\n",
    "        return \"Woof!\"\n",
    "\n",
    "class Cat(Animal):\n",
    "    def speak(self):\n",
    "        return \"Meow!\"\n",
    "\n",
    "# Creating objects of subclass and invoking inherited methods\n",
    "dog = Dog(\"Buddy\")\n",
    "cat = Cat(\"Whiskers\")\n",
    "print(dog.name, \"says:\", dog.speak())\n",
    "print(cat.name, \"says:\", cat.speak())\n"
   ]
  },
  {
   "cell_type": "markdown",
   "id": "b4265478",
   "metadata": {
    "papermill": {
     "duration": 0.034078,
     "end_time": "2023-08-20T12:45:58.656114",
     "exception": false,
     "start_time": "2023-08-20T12:45:58.622036",
     "status": "completed"
    },
    "tags": []
   },
   "source": [
    "## Overriding Methods\n",
    "#### Subclasses can override (replace) methods inherited from the parent class. This allows you to customize behavior while retaining the structure of the parent class.\n",
    "\n",
    "### Example (Overriding Methods):"
   ]
  },
  {
   "cell_type": "code",
   "execution_count": 34,
   "id": "2a0434af",
   "metadata": {
    "execution": {
     "iopub.execute_input": "2023-08-20T12:45:58.727818Z",
     "iopub.status.busy": "2023-08-20T12:45:58.726943Z",
     "iopub.status.idle": "2023-08-20T12:45:58.734655Z",
     "shell.execute_reply": "2023-08-20T12:45:58.733552Z"
    },
    "papermill": {
     "duration": 0.04559,
     "end_time": "2023-08-20T12:45:58.736835",
     "exception": false,
     "start_time": "2023-08-20T12:45:58.691245",
     "status": "completed"
    },
    "tags": []
   },
   "outputs": [
    {
     "name": "stdout",
     "output_type": "stream",
     "text": [
      "Tweetie says: Chirp!\n"
     ]
    }
   ],
   "source": [
    "class Bird(Animal):\n",
    "    def speak(self):\n",
    "        return \"Chirp!\"\n",
    "\n",
    "# Creating an object of the Bird subclass\n",
    "bird = Bird(\"Tweetie\")\n",
    "print(bird.name, \"says:\", bird.speak())  # Overrides the speak method\n"
   ]
  },
  {
   "cell_type": "markdown",
   "id": "97159d77",
   "metadata": {
    "papermill": {
     "duration": 0.034974,
     "end_time": "2023-08-20T12:45:58.807092",
     "exception": false,
     "start_time": "2023-08-20T12:45:58.772118",
     "status": "completed"
    },
    "tags": []
   },
   "source": [
    "## Multiple Inheritance\n",
    "#### Python supports multiple inheritance, where a subclass can inherit from multiple parent classes. This allows for flexible class hierarchies and code reuse.\n",
    "\n",
    "### Example (Multiple Inheritance):"
   ]
  },
  {
   "cell_type": "code",
   "execution_count": 35,
   "id": "6f8800eb",
   "metadata": {
    "execution": {
     "iopub.execute_input": "2023-08-20T12:45:58.878633Z",
     "iopub.status.busy": "2023-08-20T12:45:58.878286Z",
     "iopub.status.idle": "2023-08-20T12:45:58.884371Z",
     "shell.execute_reply": "2023-08-20T12:45:58.883439Z"
    },
    "papermill": {
     "duration": 0.044605,
     "end_time": "2023-08-20T12:45:58.886570",
     "exception": false,
     "start_time": "2023-08-20T12:45:58.841965",
     "status": "completed"
    },
    "tags": []
   },
   "outputs": [
    {
     "name": "stdout",
     "output_type": "stream",
     "text": [
      "Bruce says: Woof!\n"
     ]
    }
   ],
   "source": [
    "class Mammal(Animal):\n",
    "    def speak(self):\n",
    "        return \"Mammal sound\"\n",
    "\n",
    "class Bat(Dog, Mammal):\n",
    "    pass\n",
    "\n",
    "# Creating an object of the Bat subclass\n",
    "bat = Bat(\"Bruce\")\n",
    "print(bat.name, \"says:\", bat.speak())  # Inherits from Dog and Mammal\n"
   ]
  },
  {
   "cell_type": "markdown",
   "id": "656d4906",
   "metadata": {
    "papermill": {
     "duration": 0.034527,
     "end_time": "2023-08-20T12:45:58.958877",
     "exception": false,
     "start_time": "2023-08-20T12:45:58.924350",
     "status": "completed"
    },
    "tags": []
   },
   "source": [
    "## Conclusion\n",
    "#### Inheritance is a powerful OOP concept that promotes code reuse and extensibility. Subclasses inherit attributes and methods from parent classes, allowing you to create specialized classes based on existing ones. Overriding methods in subclasses allows customization of behavior, and multiple inheritance provides flexibility in class design."
   ]
  },
  {
   "cell_type": "markdown",
   "id": "a4b369a3",
   "metadata": {
    "papermill": {
     "duration": 0.034907,
     "end_time": "2023-08-20T12:45:59.028553",
     "exception": false,
     "start_time": "2023-08-20T12:45:58.993646",
     "status": "completed"
    },
    "tags": []
   },
   "source": [
    "\n",
    "<h1 align=\"left\"><font color='red'>93 </font></h1>\n"
   ]
  },
  {
   "cell_type": "markdown",
   "id": "e9233392",
   "metadata": {
    "papermill": {
     "duration": 0.034527,
     "end_time": "2023-08-20T12:45:59.099244",
     "exception": false,
     "start_time": "2023-08-20T12:45:59.064717",
     "status": "completed"
    },
    "tags": []
   },
   "source": [
    "# Chapter 93: Method Overriding\n",
    "\n",
    "#### In this chapter, we'll explore the concept of method overriding in object-oriented programming (OOP) using Python. Method overriding allows a subclass to provide a different implementation for a method inherited from a parent class.\n",
    "\n",
    "## Understanding Method Overriding\n",
    "\n",
    "#### Method overriding is the process of redefining a method in a subclass that is already defined in its parent class. The overridden method in the subclass is called instead of the parent class method when invoked on an instance of the subclass.\n",
    "\n",
    "## Example (Method Overriding):\n"
   ]
  },
  {
   "cell_type": "code",
   "execution_count": 36,
   "id": "f6a6f3dd",
   "metadata": {
    "execution": {
     "iopub.execute_input": "2023-08-20T12:45:59.169889Z",
     "iopub.status.busy": "2023-08-20T12:45:59.168850Z",
     "iopub.status.idle": "2023-08-20T12:45:59.177612Z",
     "shell.execute_reply": "2023-08-20T12:45:59.176562Z"
    },
    "papermill": {
     "duration": 0.046213,
     "end_time": "2023-08-20T12:45:59.179550",
     "exception": false,
     "start_time": "2023-08-20T12:45:59.133337",
     "status": "completed"
    },
    "tags": []
   },
   "outputs": [
    {
     "name": "stdout",
     "output_type": "stream",
     "text": [
      "Area of circle: 78.53975\n",
      "Area of rectangle: 12\n"
     ]
    }
   ],
   "source": [
    "class Shape:\n",
    "    def area(self):\n",
    "        pass  # Abstract method\n",
    "\n",
    "class Circle(Shape):\n",
    "    def __init__(self, radius):\n",
    "        self.radius = radius\n",
    "    \n",
    "    def area(self):\n",
    "        return 3.14159 * self.radius * self.radius\n",
    "\n",
    "class Rectangle(Shape):\n",
    "    def __init__(self, width, height):\n",
    "        self.width = width\n",
    "        self.height = height\n",
    "    \n",
    "    def area(self):\n",
    "        return self.width * self.height\n",
    "\n",
    "# Creating objects and invoking overridden methods\n",
    "circle = Circle(5)\n",
    "rectangle = Rectangle(4, 3)\n",
    "print(\"Area of circle:\", circle.area())\n",
    "print(\"Area of rectangle:\", rectangle.area())"
   ]
  },
  {
   "cell_type": "markdown",
   "id": "46a5559a",
   "metadata": {
    "papermill": {
     "duration": 0.035538,
     "end_time": "2023-08-20T12:45:59.249709",
     "exception": false,
     "start_time": "2023-08-20T12:45:59.214171",
     "status": "completed"
    },
    "tags": []
   },
   "source": [
    "## Calling the Parent Class Method\n",
    "#### You can call the parent class method from within the overridden method using the super() function.\n",
    "\n",
    "### Example (Calling Parent Class Method):"
   ]
  },
  {
   "cell_type": "code",
   "execution_count": 37,
   "id": "cc402f29",
   "metadata": {
    "execution": {
     "iopub.execute_input": "2023-08-20T12:45:59.320590Z",
     "iopub.status.busy": "2023-08-20T12:45:59.320278Z",
     "iopub.status.idle": "2023-08-20T12:45:59.326293Z",
     "shell.execute_reply": "2023-08-20T12:45:59.325404Z"
    },
    "papermill": {
     "duration": 0.04427,
     "end_time": "2023-08-20T12:45:59.328579",
     "exception": false,
     "start_time": "2023-08-20T12:45:59.284309",
     "status": "completed"
    },
    "tags": []
   },
   "outputs": [
    {
     "name": "stdout",
     "output_type": "stream",
     "text": [
      "Area of square: 36\n",
      "Parent's area of square: 36\n"
     ]
    }
   ],
   "source": [
    "class Square(Rectangle):\n",
    "    def __init__(self, side):\n",
    "        super().__init__(side, side)\n",
    "\n",
    "# Creating an object of the Square subclass\n",
    "square = Square(6)\n",
    "print(\"Area of square:\", square.area())  # Calls overridden area method in Square\n",
    "print(\"Parent's area of square:\", super(Square, square).area())  # Calls parent's area method\n"
   ]
  },
  {
   "cell_type": "markdown",
   "id": "b661a608",
   "metadata": {
    "papermill": {
     "duration": 0.034531,
     "end_time": "2023-08-20T12:45:59.397374",
     "exception": false,
     "start_time": "2023-08-20T12:45:59.362843",
     "status": "completed"
    },
    "tags": []
   },
   "source": [
    "## Conclusion\n",
    "#### Method overriding allows subclasses to provide their own implementation for methods inherited from parent classes. This feature enables customization of behavior while maintaining a consistent interface. By calling the parent class method using super(), you can reuse and extend functionality from the parent class."
   ]
  },
  {
   "cell_type": "markdown",
   "id": "2295e369",
   "metadata": {
    "papermill": {
     "duration": 0.034979,
     "end_time": "2023-08-20T12:45:59.466878",
     "exception": false,
     "start_time": "2023-08-20T12:45:59.431899",
     "status": "completed"
    },
    "tags": []
   },
   "source": [
    "\n",
    "<h1 align=\"left\"><font color='red'>94 </font></h1>\n"
   ]
  },
  {
   "cell_type": "markdown",
   "id": "7a3f6e9e",
   "metadata": {
    "papermill": {
     "duration": 0.034383,
     "end_time": "2023-08-20T12:45:59.535700",
     "exception": false,
     "start_time": "2023-08-20T12:45:59.501317",
     "status": "completed"
    },
    "tags": []
   },
   "source": [
    "# Chapter 94: Instance vs. Class Attributes\n",
    "\n",
    "#### In this chapter, we'll explore the differences between instance and class attributes in Python classes. Understanding the distinction between these types of attributes is crucial for effective class design and object-oriented programming.\n",
    "\n",
    "## Instance Attributes\n",
    "\n",
    "#### Instance attributes are specific to individual objects (instances) of a class. They store data that is unique to each instance and can have different values for different instances.\n",
    "\n",
    "## Example (Instance Attributes):\n"
   ]
  },
  {
   "cell_type": "code",
   "execution_count": 38,
   "id": "84509a3b",
   "metadata": {
    "execution": {
     "iopub.execute_input": "2023-08-20T12:45:59.606150Z",
     "iopub.status.busy": "2023-08-20T12:45:59.605785Z",
     "iopub.status.idle": "2023-08-20T12:45:59.611684Z",
     "shell.execute_reply": "2023-08-20T12:45:59.610809Z"
    },
    "papermill": {
     "duration": 0.043917,
     "end_time": "2023-08-20T12:45:59.614137",
     "exception": false,
     "start_time": "2023-08-20T12:45:59.570220",
     "status": "completed"
    },
    "tags": []
   },
   "outputs": [
    {
     "name": "stdout",
     "output_type": "stream",
     "text": [
      "Name of person1: Alice\n",
      "Name of person2: Bob\n"
     ]
    }
   ],
   "source": [
    "\n",
    "class Person:\n",
    "    def __init__(self, name):\n",
    "        self.name = name\n",
    "\n",
    "# Creating objects with instance attributes\n",
    "person1 = Person(\"Alice\")\n",
    "person2 = Person(\"Bob\")\n",
    "print(\"Name of person1:\", person1.name)\n",
    "print(\"Name of person2:\", person2.name)"
   ]
  },
  {
   "cell_type": "markdown",
   "id": "e21e4f4e",
   "metadata": {
    "papermill": {
     "duration": 0.034523,
     "end_time": "2023-08-20T12:45:59.683260",
     "exception": false,
     "start_time": "2023-08-20T12:45:59.648737",
     "status": "completed"
    },
    "tags": []
   },
   "source": [
    "## Class Attributes\n",
    "#### Class attributes are shared among all instances of a class. They store data that is common to all instances and has the same value for every instance of the class.\n",
    "\n",
    "### Example (Class Attributes):"
   ]
  },
  {
   "cell_type": "code",
   "execution_count": 39,
   "id": "0f853f55",
   "metadata": {
    "execution": {
     "iopub.execute_input": "2023-08-20T12:45:59.753793Z",
     "iopub.status.busy": "2023-08-20T12:45:59.752960Z",
     "iopub.status.idle": "2023-08-20T12:45:59.760398Z",
     "shell.execute_reply": "2023-08-20T12:45:59.759366Z"
    },
    "papermill": {
     "duration": 0.044872,
     "end_time": "2023-08-20T12:45:59.762386",
     "exception": false,
     "start_time": "2023-08-20T12:45:59.717514",
     "status": "completed"
    },
    "tags": []
   },
   "outputs": [
    {
     "name": "stdout",
     "output_type": "stream",
     "text": [
      "Value of pi: 3.14159\n",
      "Area of circle1: 78.53975\n",
      "Area of circle2: 28.274309999999996\n"
     ]
    }
   ],
   "source": [
    "class Circle:\n",
    "    pi = 3.14159\n",
    "    \n",
    "    def __init__(self, radius):\n",
    "        self.radius = radius\n",
    "    \n",
    "    def area(self):\n",
    "        return Circle.pi * self.radius * self.radius\n",
    "\n",
    "# Accessing a class attribute\n",
    "print(\"Value of pi:\", Circle.pi)\n",
    "\n",
    "# Creating objects with instance attributes and using the class attribute\n",
    "circle1 = Circle(5)\n",
    "circle2 = Circle(3)\n",
    "print(\"Area of circle1:\", circle1.area())\n",
    "print(\"Area of circle2:\", circle2.area())\n"
   ]
  },
  {
   "cell_type": "markdown",
   "id": "e72c4c2b",
   "metadata": {
    "papermill": {
     "duration": 0.035002,
     "end_time": "2023-08-20T12:45:59.832129",
     "exception": false,
     "start_time": "2023-08-20T12:45:59.797127",
     "status": "completed"
    },
    "tags": []
   },
   "source": [
    "## Accessing Attributes\n",
    "#### Instance attributes are accessed using the self parameter within instance methods, while class attributes are accessed using the class name.\n",
    "\n",
    "### Example (Accessing Attributes):"
   ]
  },
  {
   "cell_type": "code",
   "execution_count": 40,
   "id": "730c1d26",
   "metadata": {
    "execution": {
     "iopub.execute_input": "2023-08-20T12:45:59.903836Z",
     "iopub.status.busy": "2023-08-20T12:45:59.902830Z",
     "iopub.status.idle": "2023-08-20T12:45:59.909665Z",
     "shell.execute_reply": "2023-08-20T12:45:59.908588Z"
    },
    "papermill": {
     "duration": 0.045016,
     "end_time": "2023-08-20T12:45:59.911680",
     "exception": false,
     "start_time": "2023-08-20T12:45:59.866664",
     "status": "completed"
    },
    "tags": []
   },
   "outputs": [
    {
     "name": "stdout",
     "output_type": "stream",
     "text": [
      "Make of car: Toyota\n",
      "Number of wheels: 4\n"
     ]
    }
   ],
   "source": [
    "class Car:\n",
    "    wheels = 4\n",
    "    \n",
    "    def __init__(self, make):\n",
    "        self.make = make\n",
    "\n",
    "# Accessing instance attribute\n",
    "car = Car(\"Toyota\")\n",
    "print(\"Make of car:\", car.make)\n",
    "\n",
    "# Accessing class attribute\n",
    "print(\"Number of wheels:\", Car.wheels)\n"
   ]
  },
  {
   "cell_type": "markdown",
   "id": "77945554",
   "metadata": {
    "papermill": {
     "duration": 0.034823,
     "end_time": "2023-08-20T12:45:59.985529",
     "exception": false,
     "start_time": "2023-08-20T12:45:59.950706",
     "status": "completed"
    },
    "tags": []
   },
   "source": [
    "## Conclusion\n",
    "#### Understanding the differences between instance and class attributes is essential for proper class design and data management. Instance attributes store unique data for each instance, while class attributes store shared data for all instances. Choosing the appropriate type of attribute based on your design requirements is crucial for creating effective and organized classes."
   ]
  },
  {
   "cell_type": "markdown",
   "id": "9dcccb56",
   "metadata": {
    "papermill": {
     "duration": 0.03603,
     "end_time": "2023-08-20T12:46:00.056351",
     "exception": false,
     "start_time": "2023-08-20T12:46:00.020321",
     "status": "completed"
    },
    "tags": []
   },
   "source": [
    "\n",
    "<h1 align=\"left\"><font color='red'>95</font></h1>\n"
   ]
  },
  {
   "cell_type": "markdown",
   "id": "3a323370",
   "metadata": {
    "papermill": {
     "duration": 0.035265,
     "end_time": "2023-08-20T12:46:00.125920",
     "exception": false,
     "start_time": "2023-08-20T12:46:00.090655",
     "status": "completed"
    },
    "tags": []
   },
   "source": [
    "# Chapter 95: Introduction to Object-Oriented Programming\n",
    "\n",
    "#### In this chapter, we'll provide an introduction to Object-Oriented Programming (OOP) and explore its core concepts using Python. OOP is a programming paradigm that organizes code into reusable and modular structures known as classes, promoting code reusability, maintainability, and extensibility.\n",
    "\n",
    "## Understanding OOP Concepts\n",
    "\n",
    "### Classes and Objects\n",
    "\n",
    "#### A class is a blueprint for creating objects that share common attributes and behaviors. Objects are instances of classes and represent real-world entities.\n"
   ]
  },
  {
   "cell_type": "code",
   "execution_count": 41,
   "id": "5f3af8c2",
   "metadata": {
    "execution": {
     "iopub.execute_input": "2023-08-20T12:46:00.196925Z",
     "iopub.status.busy": "2023-08-20T12:46:00.196570Z",
     "iopub.status.idle": "2023-08-20T12:46:00.202909Z",
     "shell.execute_reply": "2023-08-20T12:46:00.201925Z"
    },
    "papermill": {
     "duration": 0.04453,
     "end_time": "2023-08-20T12:46:00.205377",
     "exception": false,
     "start_time": "2023-08-20T12:46:00.160847",
     "status": "completed"
    },
    "tags": []
   },
   "outputs": [
    {
     "name": "stdout",
     "output_type": "stream",
     "text": [
      "Name: Alice\n",
      "Age: 30\n"
     ]
    }
   ],
   "source": [
    "\n",
    "\n",
    "class Person:\n",
    "    def __init__(self, name, age):\n",
    "        self.name = name\n",
    "        self.age = age\n",
    "\n",
    "# Creating an object (instance) of the Person class\n",
    "person = Person(\"Alice\", 30)\n",
    "print(\"Name:\", person.name)\n",
    "print(\"Age:\", person.age)"
   ]
  },
  {
   "cell_type": "markdown",
   "id": "042cf1f2",
   "metadata": {
    "papermill": {
     "duration": 0.034506,
     "end_time": "2023-08-20T12:46:00.275109",
     "exception": false,
     "start_time": "2023-08-20T12:46:00.240603",
     "status": "completed"
    },
    "tags": []
   },
   "source": [
    "## Encapsulation\n",
    "#### Encapsulation is the concept of bundling data (attributes) and methods (functions) that operate on the data within a single unit (class). It promotes data hiding and controlled access."
   ]
  },
  {
   "cell_type": "code",
   "execution_count": 42,
   "id": "f35dae63",
   "metadata": {
    "execution": {
     "iopub.execute_input": "2023-08-20T12:46:00.347130Z",
     "iopub.status.busy": "2023-08-20T12:46:00.346213Z",
     "iopub.status.idle": "2023-08-20T12:46:00.353841Z",
     "shell.execute_reply": "2023-08-20T12:46:00.352583Z"
    },
    "papermill": {
     "duration": 0.045629,
     "end_time": "2023-08-20T12:46:00.355885",
     "exception": false,
     "start_time": "2023-08-20T12:46:00.310256",
     "status": "completed"
    },
    "tags": []
   },
   "outputs": [
    {
     "name": "stdout",
     "output_type": "stream",
     "text": [
      "Initial balance: 1000\n",
      "Updated balance: 1500\n"
     ]
    }
   ],
   "source": [
    "class BankAccount:\n",
    "    def __init__(self, balance):\n",
    "        self.__balance = balance\n",
    "    \n",
    "    def get_balance(self):\n",
    "        return self.__balance\n",
    "    \n",
    "    def deposit(self, amount):\n",
    "        self.__balance += amount\n",
    "\n",
    "# Creating an object of the BankAccount class\n",
    "account = BankAccount(1000)\n",
    "print(\"Initial balance:\", account.get_balance())\n",
    "account.deposit(500)\n",
    "print(\"Updated balance:\", account.get_balance())\n"
   ]
  },
  {
   "cell_type": "markdown",
   "id": "110195a0",
   "metadata": {
    "papermill": {
     "duration": 0.034535,
     "end_time": "2023-08-20T12:46:00.425509",
     "exception": false,
     "start_time": "2023-08-20T12:46:00.390974",
     "status": "completed"
    },
    "tags": []
   },
   "source": [
    "## Inheritance\n",
    "#### Inheritance allows creating subclasses that inherit attributes and methods from a parent (base) class. It promotes code reuse and extensibility."
   ]
  },
  {
   "cell_type": "code",
   "execution_count": 43,
   "id": "84fdda8b",
   "metadata": {
    "execution": {
     "iopub.execute_input": "2023-08-20T12:46:00.496888Z",
     "iopub.status.busy": "2023-08-20T12:46:00.496045Z",
     "iopub.status.idle": "2023-08-20T12:46:00.503297Z",
     "shell.execute_reply": "2023-08-20T12:46:00.502050Z"
    },
    "papermill": {
     "duration": 0.044857,
     "end_time": "2023-08-20T12:46:00.505227",
     "exception": false,
     "start_time": "2023-08-20T12:46:00.460370",
     "status": "completed"
    },
    "tags": []
   },
   "outputs": [
    {
     "name": "stdout",
     "output_type": "stream",
     "text": [
      "Engine started\n",
      "Car is driving\n"
     ]
    }
   ],
   "source": [
    "class Vehicle:\n",
    "    def __init__(self, make):\n",
    "        self.make = make\n",
    "    \n",
    "    def start(self):\n",
    "        print(\"Engine started\")\n",
    "\n",
    "class Car(Vehicle):\n",
    "    def drive(self):\n",
    "        print(\"Car is driving\")\n",
    "\n",
    "# Creating objects of subclass and invoking methods\n",
    "car = Car(\"Toyota\")\n",
    "car.start()\n",
    "car.drive()\n"
   ]
  },
  {
   "cell_type": "markdown",
   "id": "218705b8",
   "metadata": {
    "papermill": {
     "duration": 0.03438,
     "end_time": "2023-08-20T12:46:00.575084",
     "exception": false,
     "start_time": "2023-08-20T12:46:00.540704",
     "status": "completed"
    },
    "tags": []
   },
   "source": [
    "## Polymorphism\n",
    "#### Polymorphism allows objects of different classes to be treated as objects of a common base class. It promotes flexible and dynamic behavior."
   ]
  },
  {
   "cell_type": "code",
   "execution_count": 44,
   "id": "e48d146b",
   "metadata": {
    "execution": {
     "iopub.execute_input": "2023-08-20T12:46:00.646711Z",
     "iopub.status.busy": "2023-08-20T12:46:00.646326Z",
     "iopub.status.idle": "2023-08-20T12:46:00.653286Z",
     "shell.execute_reply": "2023-08-20T12:46:00.652390Z"
    },
    "papermill": {
     "duration": 0.046219,
     "end_time": "2023-08-20T12:46:00.656171",
     "exception": false,
     "start_time": "2023-08-20T12:46:00.609952",
     "status": "completed"
    },
    "tags": []
   },
   "outputs": [
    {
     "name": "stdout",
     "output_type": "stream",
     "text": [
      "Area of circle: 78.53975\n",
      "Area of rectangle: 12\n"
     ]
    }
   ],
   "source": [
    "class Shape:\n",
    "    def area(self):\n",
    "        pass  # Abstract method\n",
    "\n",
    "class Circle(Shape):\n",
    "    def area(self, radius):\n",
    "        return 3.14159 * radius * radius\n",
    "\n",
    "class Rectangle(Shape):\n",
    "    def area(self, width, height):\n",
    "        return width * height\n",
    "\n",
    "# Using polymorphism to calculate areas\n",
    "circle = Circle()\n",
    "rectangle = Rectangle()\n",
    "print(\"Area of circle:\", circle.area(5))\n",
    "print(\"Area of rectangle:\", rectangle.area(4, 3))\n"
   ]
  },
  {
   "cell_type": "markdown",
   "id": "0c4cd467",
   "metadata": {
    "papermill": {
     "duration": 0.034573,
     "end_time": "2023-08-20T12:46:00.726310",
     "exception": false,
     "start_time": "2023-08-20T12:46:00.691737",
     "status": "completed"
    },
    "tags": []
   },
   "source": [
    "## Conclusion\n",
    "#### Object-Oriented Programming (OOP) is a powerful paradigm that enables structuring code around real-world entities and their relationships. Classes provide a blueprint for creating objects, encapsulation ensures data integrity, inheritance promotes code reuse, and polymorphism allows dynamic behavior."
   ]
  },
  {
   "cell_type": "markdown",
   "id": "b36e7420",
   "metadata": {
    "papermill": {
     "duration": 0.037978,
     "end_time": "2023-08-20T12:46:00.799108",
     "exception": false,
     "start_time": "2023-08-20T12:46:00.761130",
     "status": "completed"
    },
    "tags": []
   },
   "source": [
    "\n",
    "<h1 align=\"left\"><font color='red'>96 </font></h1>\n"
   ]
  },
  {
   "cell_type": "markdown",
   "id": "155bafa5",
   "metadata": {
    "papermill": {
     "duration": 0.034911,
     "end_time": "2023-08-20T12:46:00.874075",
     "exception": false,
     "start_time": "2023-08-20T12:46:00.839164",
     "status": "completed"
    },
    "tags": []
   },
   "source": [
    "# Chapter 96: Inheritance and Polymorphism\n",
    "\n",
    "#### In this chapter, we'll delve deeper into the concepts of inheritance and polymorphism in object-oriented programming (OOP) using Python. These concepts allow you to create hierarchies of classes, share code between classes, and achieve dynamic behavior through polymorphism.\n",
    "\n",
    "## Understanding Inheritance\n",
    "\n",
    "#### Inheritance is a fundamental OOP concept that enables the creation of subclasses that inherit attributes and methods from a parent (base) class. It promotes code reuse, extensibility, and the organization of related classes.\n",
    "\n",
    "## Example (Inheritance):\n"
   ]
  },
  {
   "cell_type": "code",
   "execution_count": 45,
   "id": "1087a3a5",
   "metadata": {
    "execution": {
     "iopub.execute_input": "2023-08-20T12:46:00.947591Z",
     "iopub.status.busy": "2023-08-20T12:46:00.947236Z",
     "iopub.status.idle": "2023-08-20T12:46:00.956102Z",
     "shell.execute_reply": "2023-08-20T12:46:00.955180Z"
    },
    "papermill": {
     "duration": 0.048904,
     "end_time": "2023-08-20T12:46:00.958137",
     "exception": false,
     "start_time": "2023-08-20T12:46:00.909233",
     "status": "completed"
    },
    "tags": []
   },
   "outputs": [
    {
     "name": "stdout",
     "output_type": "stream",
     "text": [
      "Dog says: Woof!\n",
      "Cat says: Meow!\n"
     ]
    }
   ],
   "source": [
    "\n",
    "class Animal:\n",
    "    def speak(self):\n",
    "        pass  # Abstract method\n",
    "\n",
    "class Dog(Animal):\n",
    "    def speak(self):\n",
    "        return \"Woof!\"\n",
    "\n",
    "class Cat(Animal):\n",
    "    def speak(self):\n",
    "        return \"Meow!\"\n",
    "\n",
    "# Creating objects of subclasses and invoking methods\n",
    "dog = Dog()\n",
    "cat = Cat()\n",
    "print(\"Dog says:\", dog.speak())\n",
    "print(\"Cat says:\", cat.speak())"
   ]
  },
  {
   "cell_type": "markdown",
   "id": "6356ef65",
   "metadata": {
    "papermill": {
     "duration": 0.034844,
     "end_time": "2023-08-20T12:46:01.027891",
     "exception": false,
     "start_time": "2023-08-20T12:46:00.993047",
     "status": "completed"
    },
    "tags": []
   },
   "source": [
    "## Understanding Polymorphism\n",
    "#### Polymorphism is the ability of objects of different classes to be treated as objects of a common base class. It allows objects to respond to the same method in a way that's specific to their individual class implementations.\n",
    "\n",
    "### Example (Polymorphism):"
   ]
  },
  {
   "cell_type": "code",
   "execution_count": 46,
   "id": "0fcf612f",
   "metadata": {
    "execution": {
     "iopub.execute_input": "2023-08-20T12:46:01.101419Z",
     "iopub.status.busy": "2023-08-20T12:46:01.100586Z",
     "iopub.status.idle": "2023-08-20T12:46:01.108519Z",
     "shell.execute_reply": "2023-08-20T12:46:01.107564Z"
    },
    "papermill": {
     "duration": 0.046845,
     "end_time": "2023-08-20T12:46:01.111254",
     "exception": false,
     "start_time": "2023-08-20T12:46:01.064409",
     "status": "completed"
    },
    "tags": []
   },
   "outputs": [
    {
     "name": "stdout",
     "output_type": "stream",
     "text": [
      "Area: 78.53975\n",
      "Area: 12\n"
     ]
    }
   ],
   "source": [
    "class Shape:\n",
    "    def area(self):\n",
    "        pass  # Abstract method\n",
    "\n",
    "class Circle(Shape):\n",
    "    def __init__(self, radius):\n",
    "        self.radius = radius\n",
    "    \n",
    "    def area(self):\n",
    "        return 3.14159 * self.radius * self.radius\n",
    "\n",
    "class Rectangle(Shape):\n",
    "    def __init__(self, width, height):\n",
    "        self.width = width\n",
    "        self.height = height\n",
    "    \n",
    "    def area(self):\n",
    "        return self.width * self.height\n",
    "\n",
    "# Using polymorphism to calculate areas of different shapes\n",
    "shapes = [Circle(5), Rectangle(4, 3)]\n",
    "for shape in shapes:\n",
    "    print(\"Area:\", shape.area())\n"
   ]
  },
  {
   "cell_type": "markdown",
   "id": "aeee66e4",
   "metadata": {
    "papermill": {
     "duration": 0.035155,
     "end_time": "2023-08-20T12:46:01.181588",
     "exception": false,
     "start_time": "2023-08-20T12:46:01.146433",
     "status": "completed"
    },
    "tags": []
   },
   "source": [
    "## Overriding and Extending\n",
    "#### Subclasses can override methods inherited from the parent class, providing their own implementation. They can also extend the functionality by adding new methods.\n",
    "\n",
    "### Example (Overriding and Extending):"
   ]
  },
  {
   "cell_type": "code",
   "execution_count": 47,
   "id": "12098a7d",
   "metadata": {
    "execution": {
     "iopub.execute_input": "2023-08-20T12:46:01.253848Z",
     "iopub.status.busy": "2023-08-20T12:46:01.253167Z",
     "iopub.status.idle": "2023-08-20T12:46:01.259738Z",
     "shell.execute_reply": "2023-08-20T12:46:01.258843Z"
    },
    "papermill": {
     "duration": 0.04606,
     "end_time": "2023-08-20T12:46:01.262842",
     "exception": false,
     "start_time": "2023-08-20T12:46:01.216782",
     "status": "completed"
    },
    "tags": []
   },
   "outputs": [
    {
     "name": "stdout",
     "output_type": "stream",
     "text": [
      "Engine started\n",
      "Car is driving\n",
      "Car stopped\n"
     ]
    }
   ],
   "source": [
    "class Vehicle:\n",
    "    def start(self):\n",
    "        print(\"Engine started\")\n",
    "\n",
    "class Car(Vehicle):\n",
    "    def drive(self):\n",
    "        print(\"Car is driving\")\n",
    "\n",
    "    def stop(self):\n",
    "        print(\"Car stopped\")\n",
    "\n",
    "# Creating an object of the Car class and invoking methods\n",
    "car = Car()\n",
    "car.start()\n",
    "car.drive()\n",
    "car.stop()\n"
   ]
  },
  {
   "cell_type": "markdown",
   "id": "f5b6a853",
   "metadata": {
    "papermill": {
     "duration": 0.035139,
     "end_time": "2023-08-20T12:46:01.333557",
     "exception": false,
     "start_time": "2023-08-20T12:46:01.298418",
     "status": "completed"
    },
    "tags": []
   },
   "source": [
    "## Conclusion\n",
    "#### Inheritance and polymorphism are essential concepts in OOP that allow you to create hierarchical class structures and achieve dynamic behavior. Inheritance promotes code reuse and extensibility, while polymorphism enables flexible interactions between objects."
   ]
  },
  {
   "cell_type": "markdown",
   "id": "783dbe7d",
   "metadata": {
    "papermill": {
     "duration": 0.035284,
     "end_time": "2023-08-20T12:46:01.404062",
     "exception": false,
     "start_time": "2023-08-20T12:46:01.368778",
     "status": "completed"
    },
    "tags": []
   },
   "source": [
    "\n",
    "<h1 align=\"left\"><font color='red'>97</font></h1>\n"
   ]
  },
  {
   "cell_type": "markdown",
   "id": "30ef2bc3",
   "metadata": {
    "papermill": {
     "duration": 0.034682,
     "end_time": "2023-08-20T12:46:01.474130",
     "exception": false,
     "start_time": "2023-08-20T12:46:01.439448",
     "status": "completed"
    },
    "tags": []
   },
   "source": [
    "# Chapter 97: Encapsulation and Access Modifiers\n",
    "\n",
    "#### In this chapter, we'll explore the concept of encapsulation in object-oriented programming (OOP) using Python. Encapsulation refers to the practice of bundling data (attributes) and methods (functions) that operate on the data within a single unit (class). We'll also discuss access modifiers that control the visibility of class members.\n",
    "\n",
    "## Understanding Encapsulation\n",
    "\n",
    "#### Encapsulation helps in achieving data hiding and controlled access. It allows you to hide the internal details of a class and expose only what is necessary for external interaction.\n",
    "\n",
    "## Example (Encapsulation):\n"
   ]
  },
  {
   "cell_type": "code",
   "execution_count": 48,
   "id": "41404dea",
   "metadata": {
    "execution": {
     "iopub.execute_input": "2023-08-20T12:46:01.545818Z",
     "iopub.status.busy": "2023-08-20T12:46:01.544968Z",
     "iopub.status.idle": "2023-08-20T12:46:01.552353Z",
     "shell.execute_reply": "2023-08-20T12:46:01.551459Z"
    },
    "papermill": {
     "duration": 0.045641,
     "end_time": "2023-08-20T12:46:01.554687",
     "exception": false,
     "start_time": "2023-08-20T12:46:01.509046",
     "status": "completed"
    },
    "tags": []
   },
   "outputs": [
    {
     "name": "stdout",
     "output_type": "stream",
     "text": [
      "Initial balance: 1000\n",
      "Updated balance: 1500\n"
     ]
    }
   ],
   "source": [
    "\n",
    "class BankAccount:\n",
    "    def __init__(self, account_number, balance):\n",
    "        self.__account_number = account_number\n",
    "        self.__balance = balance\n",
    "    \n",
    "    def get_balance(self):\n",
    "        return self.__balance\n",
    "    \n",
    "    def deposit(self, amount):\n",
    "        if amount > 0:\n",
    "            self.__balance += amount\n",
    "\n",
    "# Creating an object of the BankAccount class\n",
    "account = BankAccount(\"12345\", 1000)\n",
    "print(\"Initial balance:\", account.get_balance())\n",
    "\n",
    "# Attempting to access private attributes directly (will raise an error)\n",
    "# print(\"Account number:\", account.__account_number)\n",
    "\n",
    "# Depositing money using the deposit method\n",
    "account.deposit(500)\n",
    "print(\"Updated balance:\", account.get_balance())"
   ]
  },
  {
   "cell_type": "markdown",
   "id": "ba97f7f0",
   "metadata": {
    "papermill": {
     "duration": 0.037488,
     "end_time": "2023-08-20T12:46:01.628786",
     "exception": false,
     "start_time": "2023-08-20T12:46:01.591298",
     "status": "completed"
    },
    "tags": []
   },
   "source": [
    "## Access Modifiers (Visibility)\n",
    "#### Access modifiers determine the visibility and accessibility of class members. Python provides three access modifiers: public, private, and protected.\n",
    "\n",
    "## Public (Default):\n",
    "#### Class members without any access modifier are considered public and can be accessed from anywhere.\n",
    "\n",
    "## Private (__ prefix):\n",
    "#### Class members with a double underscore prefix are considered private and can only be accessed within the class.\n",
    "\n",
    "## Protected (_ prefix):\n",
    "#### Class members with a single underscore prefix are considered protected and can be accessed within the class and its subclasses.\n",
    "\n",
    "### Example (Access Modifiers):"
   ]
  },
  {
   "cell_type": "code",
   "execution_count": 49,
   "id": "32cfa340",
   "metadata": {
    "execution": {
     "iopub.execute_input": "2023-08-20T12:46:01.703461Z",
     "iopub.status.busy": "2023-08-20T12:46:01.702554Z",
     "iopub.status.idle": "2023-08-20T12:46:01.711408Z",
     "shell.execute_reply": "2023-08-20T12:46:01.710016Z"
    },
    "papermill": {
     "duration": 0.048645,
     "end_time": "2023-08-20T12:46:01.713625",
     "exception": false,
     "start_time": "2023-08-20T12:46:01.664980",
     "status": "completed"
    },
    "tags": []
   },
   "outputs": [
    {
     "name": "stdout",
     "output_type": "stream",
     "text": [
      "Name: Alice\n",
      "Age: 20\n",
      "Roll Number: 123\n",
      "Age: 22\n"
     ]
    }
   ],
   "source": [
    "class Student:\n",
    "    def __init__(self, name, age):\n",
    "        self.name = name           # Public attribute\n",
    "        self._age = age            # Protected attribute\n",
    "        self.__roll_number = 123   # Private attribute\n",
    "    \n",
    "    def display(self):\n",
    "        print(\"Name:\", self.name)\n",
    "        print(\"Age:\", self._age)\n",
    "        print(\"Roll Number:\", self.__roll_number)\n",
    "\n",
    "# Creating an object of the Student class\n",
    "student = Student(\"Alice\", 20)\n",
    "student.display()\n",
    "\n",
    "# Accessing protected attribute (within class and subclass)\n",
    "class GraduateStudent(Student):\n",
    "    def show_age(self):\n",
    "        print(\"Age:\", self._age)\n",
    "\n",
    "grad_student = GraduateStudent(\"Bob\", 22)\n",
    "grad_student.show_age()\n"
   ]
  },
  {
   "cell_type": "markdown",
   "id": "d96f0da4",
   "metadata": {
    "papermill": {
     "duration": 0.036955,
     "end_time": "2023-08-20T12:46:01.788078",
     "exception": false,
     "start_time": "2023-08-20T12:46:01.751123",
     "status": "completed"
    },
    "tags": []
   },
   "source": [
    "## Conclusion\n",
    "#### Encapsulation is a fundamental OOP principle that promotes data hiding and controlled access to class members. Access modifiers provide a way to define the visibility of attributes and methods within a class. By understanding encapsulation and access modifiers, you can create more secure and maintainable code."
   ]
  },
  {
   "cell_type": "markdown",
   "id": "51346641",
   "metadata": {
    "papermill": {
     "duration": 0.037233,
     "end_time": "2023-08-20T12:46:01.862780",
     "exception": false,
     "start_time": "2023-08-20T12:46:01.825547",
     "status": "completed"
    },
    "tags": []
   },
   "source": [
    "\n",
    "<h1 align=\"left\"><font color='red'>98 </font></h1>\n"
   ]
  },
  {
   "cell_type": "markdown",
   "id": "2d933f8c",
   "metadata": {
    "papermill": {
     "duration": 0.03929,
     "end_time": "2023-08-20T12:46:01.939395",
     "exception": false,
     "start_time": "2023-08-20T12:46:01.900105",
     "status": "completed"
    },
    "tags": []
   },
   "source": [
    "# Chapter 98: Operator Overloading and Magic Methods\n",
    "\n",
    "#### In this chapter, we'll explore the concept of operator overloading in object-oriented programming (OOP) using Python. Operator overloading allows you to define custom behavior for built-in operators (+, -, *, /, etc.) when used with objects of your own classes. We'll also delve into magic methods, which are special methods that control the behavior of operators and built-in functions for class instances.\n",
    "\n",
    "## Understanding Operator Overloading\n",
    "\n",
    "#### Operator overloading lets you define how operators work for objects of your class. You can customize their behavior to suit the context of your class.\n",
    "\n",
    "## Example (Operator Overloading):\n",
    "\n"
   ]
  },
  {
   "cell_type": "code",
   "execution_count": 50,
   "id": "3325393d",
   "metadata": {
    "execution": {
     "iopub.execute_input": "2023-08-20T12:46:02.017900Z",
     "iopub.status.busy": "2023-08-20T12:46:02.017555Z",
     "iopub.status.idle": "2023-08-20T12:46:02.024872Z",
     "shell.execute_reply": "2023-08-20T12:46:02.023989Z"
    },
    "papermill": {
     "duration": 0.048887,
     "end_time": "2023-08-20T12:46:02.027368",
     "exception": false,
     "start_time": "2023-08-20T12:46:01.978481",
     "status": "completed"
    },
    "tags": []
   },
   "outputs": [
    {
     "name": "stdout",
     "output_type": "stream",
     "text": [
      "v3 = (4, 6)\n"
     ]
    }
   ],
   "source": [
    "\n",
    "class Vector:\n",
    "    def __init__(self, x, y):\n",
    "        self.x = x\n",
    "        self.y = y\n",
    "    \n",
    "    def __add__(self, other):\n",
    "        new_x = self.x + other.x\n",
    "        new_y = self.y + other.y\n",
    "        return Vector(new_x, new_y)\n",
    "\n",
    "    def __str__(self):\n",
    "        return f\"({self.x}, {self.y})\"\n",
    "\n",
    "# Creating objects of the Vector class\n",
    "v1 = Vector(1, 2)\n",
    "v2 = Vector(3, 4)\n",
    "\n",
    "# Using the + operator with objects\n",
    "v3 = v1 + v2\n",
    "print(\"v3 =\", v3)"
   ]
  },
  {
   "cell_type": "markdown",
   "id": "60e12e7e",
   "metadata": {
    "papermill": {
     "duration": 0.037186,
     "end_time": "2023-08-20T12:46:02.104229",
     "exception": false,
     "start_time": "2023-08-20T12:46:02.067043",
     "status": "completed"
    },
    "tags": []
   },
   "source": [
    "## Understanding Magic Methods\n",
    "#### Magic methods are special methods in Python that start and end with double underscores (dunder). They allow you to define behavior for operators and built-in functions when used with instances of your class.\n",
    "\n",
    "### Example (Magic Methods):"
   ]
  },
  {
   "cell_type": "code",
   "execution_count": 51,
   "id": "c898181d",
   "metadata": {
    "execution": {
     "iopub.execute_input": "2023-08-20T12:46:02.180915Z",
     "iopub.status.busy": "2023-08-20T12:46:02.179935Z",
     "iopub.status.idle": "2023-08-20T12:46:02.188152Z",
     "shell.execute_reply": "2023-08-20T12:46:02.187232Z"
    },
    "papermill": {
     "duration": 0.047683,
     "end_time": "2023-08-20T12:46:02.190293",
     "exception": false,
     "start_time": "2023-08-20T12:46:02.142610",
     "status": "completed"
    },
    "tags": []
   },
   "outputs": [
    {
     "name": "stdout",
     "output_type": "stream",
     "text": [
      "c3 = 6 + 8i\n",
      "c1 = 2 + 3i\n"
     ]
    }
   ],
   "source": [
    "class ComplexNumber:\n",
    "    def __init__(self, real, imag):\n",
    "        self.real = real\n",
    "        self.imag = imag\n",
    "    \n",
    "    def __add__(self, other):\n",
    "        new_real = self.real + other.real\n",
    "        new_imag = self.imag + other.imag\n",
    "        return ComplexNumber(new_real, new_imag)\n",
    "    \n",
    "    def __str__(self):\n",
    "        return f\"{self.real} + {self.imag}i\"\n",
    "\n",
    "# Creating objects of the ComplexNumber class\n",
    "c1 = ComplexNumber(2, 3)\n",
    "c2 = ComplexNumber(4, 5)\n",
    "\n",
    "# Using the + operator and customizing behavior\n",
    "c3 = c1 + c2\n",
    "print(\"c3 =\", c3)\n",
    "\n",
    "# Using the str() function and customizing behavior\n",
    "print(\"c1 =\", str(c1))\n"
   ]
  },
  {
   "cell_type": "markdown",
   "id": "864994a0",
   "metadata": {
    "papermill": {
     "duration": 0.035563,
     "end_time": "2023-08-20T12:46:02.261867",
     "exception": false,
     "start_time": "2023-08-20T12:46:02.226304",
     "status": "completed"
    },
    "tags": []
   },
   "source": [
    "## Common Magic Methods\n",
    "### Here are some common magic methods and their purposes:\n",
    "\n",
    "#### __init__(self, ...): Constructor method.\n",
    "#### __str__(self): String representation of an object (used by str() and print()).\n",
    "#### __add__(self, other): Addition operation (+ operator).\n",
    "#### __sub__(self, other): Subtraction operation (- operator).\n",
    "#### __mul__(self, other): Multiplication operation (* operator).\n",
    "## Conclusion\n",
    "#### Operator overloading and magic methods provide a powerful way to customize the behavior of operators and built-in functions for your class instances. By implementing these methods, you can make your classes more intuitive and user-friendly."
   ]
  },
  {
   "cell_type": "markdown",
   "id": "580f3a72",
   "metadata": {
    "papermill": {
     "duration": 0.035458,
     "end_time": "2023-08-20T12:46:02.333899",
     "exception": false,
     "start_time": "2023-08-20T12:46:02.298441",
     "status": "completed"
    },
    "tags": []
   },
   "source": [
    "\n",
    "<h1 align=\"left\"><font color='red'>99 </font></h1>\n"
   ]
  },
  {
   "cell_type": "markdown",
   "id": "20729f59",
   "metadata": {
    "papermill": {
     "duration": 0.03959,
     "end_time": "2023-08-20T12:46:02.409876",
     "exception": false,
     "start_time": "2023-08-20T12:46:02.370286",
     "status": "completed"
    },
    "tags": []
   },
   "source": [
    "# Chapter 99: Design Patterns in Python\n",
    "\n",
    "#### In this chapter, we'll dive into the world of design patterns in Python. Design patterns are reusable solutions to common programming problems. By understanding and utilizing design patterns, you can create more maintainable, flexible, and efficient code.\n",
    "\n",
    "### Introduction to Design Patterns\n",
    "\n",
    "#### Design patterns provide standardized solutions for recurring problems in software design. They offer a common vocabulary and structure that developers can use to communicate and collaborate effectively.\n",
    "\n",
    "### Creational Patterns\n",
    "\n",
    "#### Creational design patterns focus on object creation mechanisms. They help manage object creation, composition, and representation. Some common creational patterns include:\n",
    "\n",
    "#### - Singleton: Ensures that a class has only one instance and provides a global point of access.\n",
    "#### - Factory Method: Creates objects without specifying the exact class of object that will be created.\n",
    "#### - Abstract Factory: Provides an interface for creating families of related or dependent objects.\n",
    "### - Builder: Separates the construction of a complex object from its representation.\n",
    "\n",
    "### Structural Patterns\n",
    "\n",
    "#### Structural design patterns describe relationships between objects and provide guidelines for assembling objects to form larger structures. Some common structural patterns include:\n",
    "\n",
    "#### - Adapter: Allows objects with incompatible interfaces to collaborate.\n",
    "#### - Decorator: Adds behavior to objects dynamically.\n",
    "#### - Facade: Provides a simplified interface to a set of interfaces in a subsystem.\n",
    "#### - Composite: Composes objects into tree structures to represent part-whole hierarchies.\n",
    "\n",
    "### Behavioral Patterns\n",
    "\n",
    "#### Behavioral design patterns focus on the interactions between objects and how they collaborate. They address communication, responsibilities, and control flow. Some common behavioral patterns include:\n",
    "\n",
    "#### - Observer: Defines a one-to-many dependency between objects so that when one object changes state, all its dependents are notified and updated automatically.\n",
    "#### - Strategy: Defines a family of algorithms, encapsulates each algorithm, and makes them interchangeable.\n",
    "#### - Command: Turns a request into a stand-alone object, allowing parameterization of clients with different requests.\n",
    "#### - State: Allows an object to change its behavior when its internal state changes.\n",
    "\n",
    "### Real-World Examples\n",
    "\n",
    "#### In this section, we'll implement various design patterns in Python using real-world scenarios. By applying design patterns to practical situations, you'll gain a deeper understanding of their benefits and usage.\n",
    "\n",
    "## Conclusion\n",
    "\n",
    "#### Design patterns are essential tools in a developer's toolkit, enabling the creation of more structured and maintainable code. By exploring creational, structural, and behavioral patterns, you'll be better equipped to design robust and flexible software systems.\n",
    "\n",
    "#### Feel free to experiment with design patterns in your Python projects and adapt them to your specific needs. Happy coding!"
   ]
  },
  {
   "cell_type": "markdown",
   "id": "06e316bb",
   "metadata": {
    "papermill": {
     "duration": 0.035058,
     "end_time": "2023-08-20T12:46:02.480544",
     "exception": false,
     "start_time": "2023-08-20T12:46:02.445486",
     "status": "completed"
    },
    "tags": []
   },
   "source": [
    "\n",
    "<h1 align=\"left\"><font color='red'>100</font></h1>\n"
   ]
  },
  {
   "cell_type": "markdown",
   "id": "dd706ec8",
   "metadata": {
    "papermill": {
     "duration": 0.035623,
     "end_time": "2023-08-20T12:46:02.551666",
     "exception": false,
     "start_time": "2023-08-20T12:46:02.516043",
     "status": "completed"
    },
    "tags": []
   },
   "source": [
    "# Chapter 100: Conclusion\n",
    "\n",
    "#### Congratulations on completing this comprehensive Python programming notebook! Over the course of 100 chapters, you've embarked on a journey through the fundamental concepts, advanced techniques, and practical applications of Python. Let's take a moment to reflect on what you've learned and achieved.\n",
    "\n",
    "### Your Python Journey\n",
    "\n",
    "#### From the very beginning, you've delved into the core fundamentals of Python, exploring its syntax, data types, control structures, and functions. You've gained a solid understanding of how to work with variables, handle input and output, and utilize operators and expressions to perform various computations.\n",
    "\n",
    "#### As you progressed, you learned about the power of object-oriented programming (OOP). You explored classes and objects, inheritance and polymorphism, encapsulation, and operator overloading. You've witnessed the magic of decorators, context managers, and advanced concepts like threading, multiprocessing, and regular expressions.\n",
    "\n",
    "#### Your journey also included exploring Python's standard libraries, file handling, error handling, and various tools for testing, debugging, and optimization. You dived into the world of web scraping, design patterns, and practical applications like date and time manipulation, JSON serialization, recursion, and more.\n",
    "\n",
    "### Real-World Applications\n",
    "\n",
    "#### Throughout this notebook, you've encountered real-world examples and scenarios that demonstrate how Python can be applied to various domains. From data manipulation and analysis to web development, automation, and scientific computing, Python's versatility has been showcased in numerous ways.\n",
    "\n",
    "### Continuation and Exploration\n",
    "\n",
    "#### Your journey with Python doesn't end here. Python is a dynamic and evolving language, with new libraries, frameworks, and tools constantly emerging. As you continue your programming journey, consider exploring areas like machine learning, artificial intelligence, web frameworks, and data science.\n",
    "\n",
    "#### Remember that practice is key. Apply the knowledge you've gained by working on projects that interest you. Experiment with different concepts, solve problems, and collaborate with the Python community to expand your skills and expertise.\n",
    "\n",
    "## Conclusion\n",
    "\n",
    "#### You've now completed an in-depth exploration of Python programming, covering its foundational concepts, advanced techniques, and practical applications. Armed with this knowledge, you're well-equipped to tackle a wide range of programming challenges and embark on exciting projects.\n",
    "\n",
    "#### Thank you for joining us on this Python journey. Your dedication and effort will undoubtedly lead to great achievements in the world of programming. Happy coding!\n",
    "\n",
    "\n",
    "\n",
    "#### Feel free to revisit any chapter or topic as needed, and remember that learning is a continuous process. Keep exploring, keep coding, and keep pushing the boundaries of what you can achieve with Python."
   ]
  },
  {
   "cell_type": "markdown",
   "id": "27627eca",
   "metadata": {
    "papermill": {
     "duration": 0.035718,
     "end_time": "2023-08-20T12:46:02.623005",
     "exception": false,
     "start_time": "2023-08-20T12:46:02.587287",
     "status": "completed"
    },
    "tags": []
   },
   "source": [
    "\n",
    "![mlv prasad](https://github.com/MlvPrasadOfficial/kaggle_notebooks/raw/main/CANVAPYTHON/P5.png)\n",
    "\n"
   ]
  }
 ],
 "metadata": {
  "kernelspec": {
   "display_name": "Python 3",
   "language": "python",
   "name": "python3"
  },
  "language_info": {
   "codemirror_mode": {
    "name": "ipython",
    "version": 3
   },
   "file_extension": ".py",
   "mimetype": "text/x-python",
   "name": "python",
   "nbconvert_exporter": "python",
   "pygments_lexer": "ipython3",
   "version": "3.10.12"
  },
  "papermill": {
   "default_parameters": {},
   "duration": 23.475548,
   "end_time": "2023-08-20T12:46:03.278354",
   "environment_variables": {},
   "exception": null,
   "input_path": "__notebook__.ipynb",
   "output_path": "__notebook__.ipynb",
   "parameters": {},
   "start_time": "2023-08-20T12:45:39.802806",
   "version": "2.4.0"
  }
 },
 "nbformat": 4,
 "nbformat_minor": 5
}
