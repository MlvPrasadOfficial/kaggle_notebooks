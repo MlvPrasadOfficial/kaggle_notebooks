{
 "cells": [
  {
   "cell_type": "code",
   "execution_count": null,
   "id": "51d4a047",
   "metadata": {
    "papermill": {
     "duration": 0.031352,
     "end_time": "2023-08-20T12:26:22.058775",
     "exception": false,
     "start_time": "2023-08-20T12:26:22.027423",
     "status": "completed"
    },
    "tags": []
   },
   "outputs": [],
   "source": []
  },
  {
   "cell_type": "markdown",
   "id": "e9bcec4f",
   "metadata": {
    "papermill": {
     "duration": 0.030735,
     "end_time": "2023-08-20T12:26:22.121528",
     "exception": false,
     "start_time": "2023-08-20T12:26:22.090793",
     "status": "completed"
    },
    "tags": []
   },
   "source": [
    "## 81. Writing Text Files\n",
    "\n",
    "## 82. Working with Binary Files\n",
    "\n",
    "## 83. Introduction to Error Handling\n",
    "\n",
    "## 84. Handling Exceptions with try and except\n",
    "\n",
    "## 85. Multiple except Clauses\n",
    "\n",
    "##  86. Handling Multiple Exception Types\n",
    "\n",
    "## 87. The else and finally Clauses\n",
    "\n",
    "## 88. Creating Custom Exceptions\n",
    "\n",
    " Object-Oriented Programming (OOP) Continued\n",
    " \n",
    "## 89. Introduction to Classes and Objects\n",
    "\n",
    "## 90. Class Attributes and Methods\n",
    "\n",
    "## 91. The __init__ Constructor\n",
    "\n",
    "## 92. Inheritance and Subclasses\n",
    "\n",
    "## 93. Method Overriding\n",
    "\n",
    "## 94. Instance vs. Class Attributes\n",
    "\n",
    "## 95. Introduction to Object-Oriented Programming\n",
    "\n",
    "## 96. Inheritance and Polymorphism\n",
    "\n",
    "## 97. Encapsulation and Access Modifiers\n",
    "\n",
    "## 98. Operator Overloading and Magic Methods\n",
    "\n",
    "## 99. Design Patterns in Python\n",
    "\n",
    "<h1 align=\"left\"><font color='red'>Conclusion</font></h1>\n",
    "\n",
    "## 100. Conclusion"
   ]
  },
  {
   "cell_type": "markdown",
   "id": "906ed6ca",
   "metadata": {
    "papermill": {
     "duration": 0.032096,
     "end_time": "2023-08-20T12:26:22.184057",
     "exception": false,
     "start_time": "2023-08-20T12:26:22.151961",
     "status": "completed"
    },
    "tags": []
   },
   "source": [
    "# Chapter 81: Writing Text Files\n",
    "\n",
    "#### In this chapter, we'll dive into writing text files in Python, exploring different methods to create and modify the content of text files.\n",
    "\n",
    "## Opening and Writing Text Files\n",
    "\n",
    "#### Text files can be opened using the `open()` function in write mode (`\"w\"`). You can then use various methods to write content to the file.\n",
    "\n",
    "## Example (Opening and Writing to a Text File):\n"
   ]
  },
  {
   "cell_type": "markdown",
   "id": "46faf95b",
   "metadata": {
    "papermill": {
     "duration": 0.030159,
     "end_time": "2023-08-20T12:26:22.244103",
     "exception": false,
     "start_time": "2023-08-20T12:26:22.213944",
     "status": "completed"
    },
    "tags": []
   },
   "source": []
  },
  {
   "cell_type": "markdown",
   "id": "c4b52c5b",
   "metadata": {
    "papermill": {
     "duration": 0.030273,
     "end_time": "2023-08-20T12:26:22.305046",
     "exception": false,
     "start_time": "2023-08-20T12:26:22.274773",
     "status": "completed"
    },
    "tags": []
   },
   "source": [
    "```python\n",
    "\n",
    "\n",
    "file_path = \"output.txt\"\n",
    "\n",
    "with open(file_path, \"w\") as file:\n",
    "    file.write(\"Hello, world!\\n\")\n",
    "    file.write(\"This is a new line.\")\n",
    "```"
   ]
  },
  {
   "cell_type": "markdown",
   "id": "36a6861d",
   "metadata": {
    "papermill": {
     "duration": 0.030836,
     "end_time": "2023-08-20T12:26:22.367056",
     "exception": false,
     "start_time": "2023-08-20T12:26:22.336220",
     "status": "completed"
    },
    "tags": []
   },
   "source": [
    "## Writing Lines to a Text File\n",
    "#### you can write lines to a text file using the write() method. Remember to include newline characters \\n to separate lines.\n",
    "\n",
    "### Example (Writing Lines to a Text File):"
   ]
  },
  {
   "cell_type": "markdown",
   "id": "c994f58a",
   "metadata": {
    "papermill": {
     "duration": 0.029668,
     "end_time": "2023-08-20T12:26:22.426776",
     "exception": false,
     "start_time": "2023-08-20T12:26:22.397108",
     "status": "completed"
    },
    "tags": []
   },
   "source": [
    "```python\n",
    "file_path = \"output.txt\"\n",
    "\n",
    "lines = [\"Line 1\", \"Line 2\", \"Line 3\"]\n",
    "\n",
    "with open(file_path, \"w\") as file:\n",
    "    for line in lines:\n",
    "        file.write(line + \"\\n\")\n",
    "```"
   ]
  },
  {
   "cell_type": "markdown",
   "id": "20688dbe",
   "metadata": {
    "papermill": {
     "duration": 0.031085,
     "end_time": "2023-08-20T12:26:22.488311",
     "exception": false,
     "start_time": "2023-08-20T12:26:22.457226",
     "status": "completed"
    },
    "tags": []
   },
   "source": [
    "## Appending to a Text File\n",
    "#### To add content to an existing file without overwriting, open the file in append mode (\"a\") and use the write() method.\n",
    "\n",
    "### Example (Appending to a Text File):"
   ]
  },
  {
   "cell_type": "markdown",
   "id": "755b6065",
   "metadata": {
    "papermill": {
     "duration": 0.030384,
     "end_time": "2023-08-20T12:26:22.547604",
     "exception": false,
     "start_time": "2023-08-20T12:26:22.517220",
     "status": "completed"
    },
    "tags": []
   },
   "source": [
    "```python\n",
    "file_path = \"output.txt\"\n",
    "\n",
    "with open(file_path, \"a\") as file:\n",
    "    file.write(\"This is an appended line.\")\n",
    "```"
   ]
  },
  {
   "cell_type": "markdown",
   "id": "0cd0ffe8",
   "metadata": {
    "papermill": {
     "duration": 0.029802,
     "end_time": "2023-08-20T12:26:22.609440",
     "exception": false,
     "start_time": "2023-08-20T12:26:22.579638",
     "status": "completed"
    },
    "tags": []
   },
   "source": [
    "## Writing Formatted Data\n",
    "#### You can format data before writing to a file, such as converting numbers to strings.\n",
    "\n",
    "### Example (Writing Formatted Data):"
   ]
  },
  {
   "cell_type": "markdown",
   "id": "c7eada66",
   "metadata": {
    "papermill": {
     "duration": 0.032969,
     "end_time": "2023-08-20T12:26:22.672321",
     "exception": false,
     "start_time": "2023-08-20T12:26:22.639352",
     "status": "completed"
    },
    "tags": []
   },
   "source": [
    "```python\n",
    "file_path = \"output.txt\"\n",
    "\n",
    "with open(file_path, \"w\") as file:\n",
    "    num = 42\n",
    "    formatted_num = f\"The answer is: {num}\"\n",
    "    file.write(formatted_num)\n",
    "```"
   ]
  },
  {
   "cell_type": "markdown",
   "id": "521a90e6",
   "metadata": {
    "papermill": {
     "duration": 0.029482,
     "end_time": "2023-08-20T12:26:22.732422",
     "exception": false,
     "start_time": "2023-08-20T12:26:22.702940",
     "status": "completed"
    },
    "tags": []
   },
   "source": [
    "## Conclusion\n",
    "#### Writing text files is an essential skill in Python for creating and modifying file content. Understanding various methods to write data to files gives you the flexibility to generate files with custom content and structures."
   ]
  },
  {
   "cell_type": "markdown",
   "id": "a0156c9a",
   "metadata": {
    "papermill": {
     "duration": 0.030192,
     "end_time": "2023-08-20T12:26:22.792957",
     "exception": false,
     "start_time": "2023-08-20T12:26:22.762765",
     "status": "completed"
    },
    "tags": []
   },
   "source": [
    "# Chapter 82: Working with Binary Files\n",
    "\n",
    "#### In this chapter, we'll explore working with binary files in Python, understanding how to read and write binary data using different modes and techniques.\n",
    "\n",
    "## Basics of Binary Files\n",
    "\n",
    "#### Binary files contain non-textual data, such as images, audio, video, or serialized objects. They are handled differently from text files due to their varying formats.\n",
    "\n",
    "## Opening and Reading Binary Files\n",
    "\n",
    "#### Binary files can be opened using the `open()` function in binary read mode (`\"rb\"`). You can use methods like `read()`, `readline()`, or iterate over the file to read binary data.\n",
    "\n",
    "## Example (Opening and Reading a Binary File):\n"
   ]
  },
  {
   "cell_type": "markdown",
   "id": "df5f6e5c",
   "metadata": {
    "papermill": {
     "duration": 0.0306,
     "end_time": "2023-08-20T12:26:22.854562",
     "exception": false,
     "start_time": "2023-08-20T12:26:22.823962",
     "status": "completed"
    },
    "tags": []
   },
   "source": [
    "```python\n",
    "\n",
    "\n",
    "file_path = \"image.jpg\"\n",
    "\n",
    "with open(file_path, \"rb\") as file:\n",
    "    image_data = file.read()\n",
    "    # Process binary data\n",
    "```"
   ]
  },
  {
   "cell_type": "markdown",
   "id": "003a49d4",
   "metadata": {
    "papermill": {
     "duration": 0.031762,
     "end_time": "2023-08-20T12:26:22.918449",
     "exception": false,
     "start_time": "2023-08-20T12:26:22.886687",
     "status": "completed"
    },
    "tags": []
   },
   "source": [
    "## Writing Binary Data\n",
    "#### Binary data can be written to a file using binary write mode (\"wb\") and the write() method. This is useful for creating or modifying binary files.\n",
    "\n",
    "### Example (Writing Binary Data):"
   ]
  },
  {
   "cell_type": "markdown",
   "id": "5b3e3ee0",
   "metadata": {
    "papermill": {
     "duration": 0.030693,
     "end_time": "2023-08-20T12:26:22.981375",
     "exception": false,
     "start_time": "2023-08-20T12:26:22.950682",
     "status": "completed"
    },
    "tags": []
   },
   "source": [
    "```python\n",
    "output_path = \"output.bin\"\n",
    "data = b'\\x00\\x01\\x02\\x03\\x04'\n",
    "\n",
    "with open(output_path, \"wb\") as file:\n",
    "    file.write(data)\n",
    "```"
   ]
  },
  {
   "cell_type": "markdown",
   "id": "db5f3c82",
   "metadata": {
    "papermill": {
     "duration": 0.030068,
     "end_time": "2023-08-20T12:26:23.042428",
     "exception": false,
     "start_time": "2023-08-20T12:26:23.012360",
     "status": "completed"
    },
    "tags": []
   },
   "source": [
    "## Appending to Binary Files\n",
    "#### To append binary data to an existing file, use binary append mode (\"ab\") and the write() method.\n",
    "\n",
    "### Example (Appending to a Binary File):"
   ]
  },
  {
   "cell_type": "markdown",
   "id": "4d886c59",
   "metadata": {
    "papermill": {
     "duration": 0.030359,
     "end_time": "2023-08-20T12:26:23.103431",
     "exception": false,
     "start_time": "2023-08-20T12:26:23.073072",
     "status": "completed"
    },
    "tags": []
   },
   "source": [
    "```python\n",
    "output_path = \"output.bin\"\n",
    "new_data = b'\\x05\\x06\\x07'\n",
    "\n",
    "with open(output_path, \"ab\") as file:\n",
    "    file.write(new_data)\n",
    "```"
   ]
  },
  {
   "cell_type": "markdown",
   "id": "9504d5e5",
   "metadata": {
    "papermill": {
     "duration": 0.030044,
     "end_time": "2023-08-20T12:26:23.164353",
     "exception": false,
     "start_time": "2023-08-20T12:26:23.134309",
     "status": "completed"
    },
    "tags": []
   },
   "source": [
    "## Working with Structured Binary Data\n",
    "#### Binary data often has a specific structure defined by its format. The struct module is useful for packing and unpacking structured binary data.\n",
    "\n",
    "### Example (Working with Structured Binary Data):"
   ]
  },
  {
   "cell_type": "code",
   "execution_count": 1,
   "id": "4f65f74b",
   "metadata": {
    "execution": {
     "iopub.execute_input": "2023-08-20T12:26:23.227817Z",
     "iopub.status.busy": "2023-08-20T12:26:23.227390Z",
     "iopub.status.idle": "2023-08-20T12:26:23.241632Z",
     "shell.execute_reply": "2023-08-20T12:26:23.240704Z"
    },
    "papermill": {
     "duration": 0.04777,
     "end_time": "2023-08-20T12:26:23.243724",
     "exception": false,
     "start_time": "2023-08-20T12:26:23.195954",
     "status": "completed"
    },
    "tags": []
   },
   "outputs": [],
   "source": [
    "\n",
    "import struct\n",
    "\n",
    "data = struct.pack(\"2i 2f\", 42, 13, 3.14, 2.71)\n",
    "output_path = \"data.bin\"\n",
    "\n",
    "with open(output_path, \"wb\") as file:\n",
    "    file.write(data)\n",
    "\n",
    "with open(output_path, \"rb\") as file:\n",
    "    binary_data = file.read()\n",
    "    unpacked_data = struct.unpack(\"2i 2f\", binary_data)\n"
   ]
  },
  {
   "cell_type": "markdown",
   "id": "2c3f42db",
   "metadata": {
    "papermill": {
     "duration": 0.030597,
     "end_time": "2023-08-20T12:26:23.304790",
     "exception": false,
     "start_time": "2023-08-20T12:26:23.274193",
     "status": "completed"
    },
    "tags": []
   },
   "source": [
    "## Conclusion\n",
    "#### Working with binary files is essential for handling non-textual data, such as multimedia files or serialized objects. Understanding the different modes for opening, reading, and writing binary data enables you to manipulate binary files effectively."
   ]
  },
  {
   "cell_type": "markdown",
   "id": "d53c7ba7",
   "metadata": {
    "papermill": {
     "duration": 0.029152,
     "end_time": "2023-08-20T12:26:23.365659",
     "exception": false,
     "start_time": "2023-08-20T12:26:23.336507",
     "status": "completed"
    },
    "tags": []
   },
   "source": [
    "# Chapter 83: Introduction to Error Handling\n",
    "\n",
    "#### In this chapter, we'll explore the fundamental concepts of error handling in Python, understanding how exceptions work and how to handle them effectively.\n",
    "\n",
    "## Basics of Error Handling\n",
    "\n",
    "#### Error handling is a crucial aspect of programming that allows you to deal with unexpected situations or errors that may occur during program execution.\n",
    "\n",
    "## Exceptions and the `try`-`except` Block\n",
    "\n",
    "#### In Python, exceptions are raised when an error occurs. The `try`-`except` block is used to catch and handle exceptions gracefully.\n",
    "\n",
    "## Example (Handling Division by Zero):\n",
    "\n"
   ]
  },
  {
   "cell_type": "code",
   "execution_count": 2,
   "id": "c7cca2fb",
   "metadata": {
    "execution": {
     "iopub.execute_input": "2023-08-20T12:26:23.429628Z",
     "iopub.status.busy": "2023-08-20T12:26:23.428658Z",
     "iopub.status.idle": "2023-08-20T12:26:23.434977Z",
     "shell.execute_reply": "2023-08-20T12:26:23.433919Z"
    },
    "papermill": {
     "duration": 0.041032,
     "end_time": "2023-08-20T12:26:23.437387",
     "exception": false,
     "start_time": "2023-08-20T12:26:23.396355",
     "status": "completed"
    },
    "tags": []
   },
   "outputs": [
    {
     "name": "stdout",
     "output_type": "stream",
     "text": [
      "Error: Division by zero\n"
     ]
    }
   ],
   "source": [
    "try:\n",
    "    result = 10 / 0\n",
    "except ZeroDivisionError:\n",
    "    print(\"Error: Division by zero\")"
   ]
  },
  {
   "cell_type": "markdown",
   "id": "3473a035",
   "metadata": {
    "papermill": {
     "duration": 0.031246,
     "end_time": "2023-08-20T12:26:23.500859",
     "exception": false,
     "start_time": "2023-08-20T12:26:23.469613",
     "status": "completed"
    },
    "tags": []
   },
   "source": [
    "## Handling Multiple Exceptions\n",
    "#### You can handle different types of exceptions using multiple except blocks or a single block with tuple-based exception handling.\n",
    "\n",
    "### Example (Handling Multiple Exceptions):"
   ]
  },
  {
   "cell_type": "code",
   "execution_count": 3,
   "id": "acc01ab7",
   "metadata": {
    "execution": {
     "iopub.execute_input": "2023-08-20T12:26:23.564953Z",
     "iopub.status.busy": "2023-08-20T12:26:23.563977Z",
     "iopub.status.idle": "2023-08-20T12:26:23.570585Z",
     "shell.execute_reply": "2023-08-20T12:26:23.569182Z"
    },
    "papermill": {
     "duration": 0.041196,
     "end_time": "2023-08-20T12:26:23.572704",
     "exception": false,
     "start_time": "2023-08-20T12:26:23.531508",
     "status": "completed"
    },
    "tags": []
   },
   "outputs": [
    {
     "name": "stdout",
     "output_type": "stream",
     "text": [
      "Error: Invalid value or type\n"
     ]
    }
   ],
   "source": [
    "try:\n",
    "    value = int(\"abc\")\n",
    "except (ValueError, TypeError):\n",
    "    print(\"Error: Invalid value or type\")\n"
   ]
  },
  {
   "cell_type": "markdown",
   "id": "264b179d",
   "metadata": {
    "papermill": {
     "duration": 0.029713,
     "end_time": "2023-08-20T12:26:23.632046",
     "exception": false,
     "start_time": "2023-08-20T12:26:23.602333",
     "status": "completed"
    },
    "tags": []
   },
   "source": [
    "## The else and finally Clauses\n",
    "#### The else clause is executed if no exception occurs, and the finally clause is executed regardless of whether an exception occurs or not.\n",
    "\n",
    "### Example (Using else and finally):"
   ]
  },
  {
   "cell_type": "code",
   "execution_count": 4,
   "id": "7ab41b24",
   "metadata": {
    "execution": {
     "iopub.execute_input": "2023-08-20T12:26:23.693462Z",
     "iopub.status.busy": "2023-08-20T12:26:23.691871Z",
     "iopub.status.idle": "2023-08-20T12:26:23.698453Z",
     "shell.execute_reply": "2023-08-20T12:26:23.697266Z"
    },
    "papermill": {
     "duration": 0.039568,
     "end_time": "2023-08-20T12:26:23.700724",
     "exception": false,
     "start_time": "2023-08-20T12:26:23.661156",
     "status": "completed"
    },
    "tags": []
   },
   "outputs": [
    {
     "name": "stdout",
     "output_type": "stream",
     "text": [
      "Result: 5.0\n",
      "Execution completed\n"
     ]
    }
   ],
   "source": [
    "try:\n",
    "    result = 10 / 2\n",
    "except ZeroDivisionError:\n",
    "    print(\"Error: Division by zero\")\n",
    "else:\n",
    "    print(\"Result:\", result)\n",
    "finally:\n",
    "    print(\"Execution completed\")\n"
   ]
  },
  {
   "cell_type": "markdown",
   "id": "4226169d",
   "metadata": {
    "papermill": {
     "duration": 0.030343,
     "end_time": "2023-08-20T12:26:23.760969",
     "exception": false,
     "start_time": "2023-08-20T12:26:23.730626",
     "status": "completed"
    },
    "tags": []
   },
   "source": [
    "## Raising Exceptions\n",
    "#### You can explicitly raise exceptions using the raise statement. This is useful for creating custom error messages or handling specific cases.\n",
    "\n",
    "### Example (Raising Exceptions):"
   ]
  },
  {
   "cell_type": "code",
   "execution_count": 5,
   "id": "fedcee84",
   "metadata": {
    "execution": {
     "iopub.execute_input": "2023-08-20T12:26:23.824920Z",
     "iopub.status.busy": "2023-08-20T12:26:23.823926Z",
     "iopub.status.idle": "2023-08-20T12:26:23.829473Z",
     "shell.execute_reply": "2023-08-20T12:26:23.828522Z"
    },
    "papermill": {
     "duration": 0.039883,
     "end_time": "2023-08-20T12:26:23.831521",
     "exception": false,
     "start_time": "2023-08-20T12:26:23.791638",
     "status": "completed"
    },
    "tags": []
   },
   "outputs": [],
   "source": [
    "def calculate_square_root(number):\n",
    "    if number < 0:\n",
    "        raise ValueError(\"Input must be non-negative\")\n",
    "    return math.sqrt(number)\n"
   ]
  },
  {
   "cell_type": "markdown",
   "id": "34fff63f",
   "metadata": {
    "papermill": {
     "duration": 0.029862,
     "end_time": "2023-08-20T12:26:23.891466",
     "exception": false,
     "start_time": "2023-08-20T12:26:23.861604",
     "status": "completed"
    },
    "tags": []
   },
   "source": [
    "## Conclusion\n",
    "#### Error handling is a fundamental skill in Python programming that enables you to write robust and reliable code. Understanding how to handle exceptions gracefully using try-except blocks, else and finally clauses, and raising custom exceptions empowers you to create code that can handle unexpected situations effectively."
   ]
  },
  {
   "cell_type": "markdown",
   "id": "0c6c15c7",
   "metadata": {
    "papermill": {
     "duration": 0.029351,
     "end_time": "2023-08-20T12:26:23.950612",
     "exception": false,
     "start_time": "2023-08-20T12:26:23.921261",
     "status": "completed"
    },
    "tags": []
   },
   "source": [
    "# Chapter 84: Handling Exceptions with `try` and `except`\n",
    "\n",
    "#### In this chapter, we'll delve into handling exceptions in Python using the `try`-`except` block, understanding how to catch and handle different types of exceptions gracefully.\n",
    "\n",
    "## Using `try`-`except` Blocks\n",
    "\n",
    "#### The `try`-`except` block is used to catch exceptions and handle them gracefully. It prevents the program from crashing when an exception occurs.\n",
    "\n",
    "## Example (Handling File Not Found):\n"
   ]
  },
  {
   "cell_type": "code",
   "execution_count": 6,
   "id": "bfeed642",
   "metadata": {
    "execution": {
     "iopub.execute_input": "2023-08-20T12:26:24.013110Z",
     "iopub.status.busy": "2023-08-20T12:26:24.012130Z",
     "iopub.status.idle": "2023-08-20T12:26:24.019053Z",
     "shell.execute_reply": "2023-08-20T12:26:24.017755Z"
    },
    "papermill": {
     "duration": 0.040665,
     "end_time": "2023-08-20T12:26:24.021354",
     "exception": false,
     "start_time": "2023-08-20T12:26:23.980689",
     "status": "completed"
    },
    "tags": []
   },
   "outputs": [
    {
     "name": "stdout",
     "output_type": "stream",
     "text": [
      "Error: File not found\n"
     ]
    }
   ],
   "source": [
    "\n",
    "\n",
    "try:\n",
    "    with open(\"nonexistent.txt\", \"r\") as file:\n",
    "        content = file.read()\n",
    "except FileNotFoundError:\n",
    "    print(\"Error: File not found\")"
   ]
  },
  {
   "cell_type": "markdown",
   "id": "93725dc4",
   "metadata": {
    "papermill": {
     "duration": 0.030758,
     "end_time": "2023-08-20T12:26:24.081207",
     "exception": false,
     "start_time": "2023-08-20T12:26:24.050449",
     "status": "completed"
    },
    "tags": []
   },
   "source": [
    "## Catching Multiple Exception Types\n",
    "#### You can catch multiple types of exceptions using separate except blocks or a single block with tuple-based exception handling.\n",
    "\n",
    "### Example (Handling Multiple Exceptions):"
   ]
  },
  {
   "cell_type": "code",
   "execution_count": 7,
   "id": "d01d6fc8",
   "metadata": {
    "execution": {
     "iopub.execute_input": "2023-08-20T12:26:24.144178Z",
     "iopub.status.busy": "2023-08-20T12:26:24.143788Z",
     "iopub.status.idle": "2023-08-20T12:26:24.149671Z",
     "shell.execute_reply": "2023-08-20T12:26:24.148663Z"
    },
    "papermill": {
     "duration": 0.040878,
     "end_time": "2023-08-20T12:26:24.152448",
     "exception": false,
     "start_time": "2023-08-20T12:26:24.111570",
     "status": "completed"
    },
    "tags": []
   },
   "outputs": [
    {
     "name": "stdout",
     "output_type": "stream",
     "text": [
      "Error: Invalid value\n"
     ]
    }
   ],
   "source": [
    "try:\n",
    "    value = int(\"abc\")\n",
    "except ValueError:\n",
    "    print(\"Error: Invalid value\")\n",
    "except TypeError:\n",
    "    print(\"Error: Type mismatch\")\n"
   ]
  },
  {
   "cell_type": "markdown",
   "id": "efab85e5",
   "metadata": {
    "papermill": {
     "duration": 0.031554,
     "end_time": "2023-08-20T12:26:24.216499",
     "exception": false,
     "start_time": "2023-08-20T12:26:24.184945",
     "status": "completed"
    },
    "tags": []
   },
   "source": [
    "## The except Block with No Exception Type\n",
    "#### Using an except block without specifying an exception type catches all exceptions, which can be useful for logging or general error handling.\n",
    "\n",
    "### Example (Catching All Exceptions):"
   ]
  },
  {
   "cell_type": "code",
   "execution_count": 8,
   "id": "bf66924f",
   "metadata": {
    "execution": {
     "iopub.execute_input": "2023-08-20T12:26:24.277486Z",
     "iopub.status.busy": "2023-08-20T12:26:24.276650Z",
     "iopub.status.idle": "2023-08-20T12:26:24.282397Z",
     "shell.execute_reply": "2023-08-20T12:26:24.281505Z"
    },
    "papermill": {
     "duration": 0.038701,
     "end_time": "2023-08-20T12:26:24.284705",
     "exception": false,
     "start_time": "2023-08-20T12:26:24.246004",
     "status": "completed"
    },
    "tags": []
   },
   "outputs": [
    {
     "name": "stdout",
     "output_type": "stream",
     "text": [
      "An error occurred\n"
     ]
    }
   ],
   "source": [
    "try:\n",
    "    result = 10 / 0\n",
    "except:\n",
    "    print(\"An error occurred\")\n"
   ]
  },
  {
   "cell_type": "markdown",
   "id": "ea876818",
   "metadata": {
    "papermill": {
     "duration": 0.0313,
     "end_time": "2023-08-20T12:26:24.346059",
     "exception": false,
     "start_time": "2023-08-20T12:26:24.314759",
     "status": "completed"
    },
    "tags": []
   },
   "source": [
    "## Handling Specific Exception Instances\n",
    "#### You can catch specific instances of exceptions and access their attributes or information.\n",
    "\n",
    "### Example (Catching Specific Exception Instances):"
   ]
  },
  {
   "cell_type": "code",
   "execution_count": 9,
   "id": "8ec15c25",
   "metadata": {
    "execution": {
     "iopub.execute_input": "2023-08-20T12:26:24.408660Z",
     "iopub.status.busy": "2023-08-20T12:26:24.407725Z",
     "iopub.status.idle": "2023-08-20T12:26:24.413995Z",
     "shell.execute_reply": "2023-08-20T12:26:24.412616Z"
    },
    "papermill": {
     "duration": 0.03958,
     "end_time": "2023-08-20T12:26:24.416102",
     "exception": false,
     "start_time": "2023-08-20T12:26:24.376522",
     "status": "completed"
    },
    "tags": []
   },
   "outputs": [
    {
     "name": "stdout",
     "output_type": "stream",
     "text": [
      "Error: division by zero\n"
     ]
    }
   ],
   "source": [
    "try:\n",
    "    result = 10 / 0\n",
    "except ZeroDivisionError as e:\n",
    "    print(f\"Error: {e}\")\n"
   ]
  },
  {
   "cell_type": "markdown",
   "id": "7f3fc85d",
   "metadata": {
    "papermill": {
     "duration": 0.030593,
     "end_time": "2023-08-20T12:26:24.478133",
     "exception": false,
     "start_time": "2023-08-20T12:26:24.447540",
     "status": "completed"
    },
    "tags": []
   },
   "source": [
    "## Nesting try-except Blocks\n",
    "#### You can nest multiple try-except blocks to handle exceptions at different levels of your program.\n",
    "\n",
    "### Example (Nesting try-except Blocks):"
   ]
  },
  {
   "cell_type": "code",
   "execution_count": 10,
   "id": "7922c170",
   "metadata": {
    "execution": {
     "iopub.execute_input": "2023-08-20T12:26:24.540899Z",
     "iopub.status.busy": "2023-08-20T12:26:24.539901Z",
     "iopub.status.idle": "2023-08-20T12:26:24.546194Z",
     "shell.execute_reply": "2023-08-20T12:26:24.545268Z"
    },
    "papermill": {
     "duration": 0.039887,
     "end_time": "2023-08-20T12:26:24.548543",
     "exception": false,
     "start_time": "2023-08-20T12:26:24.508656",
     "status": "completed"
    },
    "tags": []
   },
   "outputs": [
    {
     "name": "stdout",
     "output_type": "stream",
     "text": [
      "Inner exception\n"
     ]
    }
   ],
   "source": [
    "try:\n",
    "    try:\n",
    "        value = int(\"abc\")\n",
    "    except ValueError:\n",
    "        print(\"Inner exception\")\n",
    "except:\n",
    "    print(\"Outer exception\")\n"
   ]
  },
  {
   "cell_type": "markdown",
   "id": "555e966f",
   "metadata": {
    "papermill": {
     "duration": 0.031156,
     "end_time": "2023-08-20T12:26:24.611935",
     "exception": false,
     "start_time": "2023-08-20T12:26:24.580779",
     "status": "completed"
    },
    "tags": []
   },
   "source": [
    "## Conclusion\n",
    "#### Using the try-except block is essential for robust error handling in Python, allowing your code to gracefully handle unexpected situations without crashing. Understanding how to catch and handle different types of exceptions, including specific instances, empowers you to create code that can recover from errors and continue functioning."
   ]
  },
  {
   "cell_type": "markdown",
   "id": "7e9a6b9b",
   "metadata": {
    "papermill": {
     "duration": 0.031124,
     "end_time": "2023-08-20T12:26:24.675733",
     "exception": false,
     "start_time": "2023-08-20T12:26:24.644609",
     "status": "completed"
    },
    "tags": []
   },
   "source": [
    "# Chapter 85: Multiple `except` Clauses\n",
    "\n",
    "#### In this chapter, we'll explore how to handle multiple types of exceptions using separate `except` clauses in Python, allowing for fine-grained error handling based on the specific exception type.\n",
    "\n",
    "## Handling Different Exception Types\n",
    "\n",
    "#### Python's exception hierarchy allows you to catch specific types of exceptions using separate `except` blocks, ensuring precise error handling.\n",
    "\n",
    "## Example (Handling Different Exception Types):\n",
    "\n"
   ]
  },
  {
   "cell_type": "code",
   "execution_count": 11,
   "id": "ce2345a6",
   "metadata": {
    "execution": {
     "iopub.execute_input": "2023-08-20T12:26:24.741192Z",
     "iopub.status.busy": "2023-08-20T12:26:24.740142Z",
     "iopub.status.idle": "2023-08-20T12:26:24.747364Z",
     "shell.execute_reply": "2023-08-20T12:26:24.745951Z"
    },
    "papermill": {
     "duration": 0.041569,
     "end_time": "2023-08-20T12:26:24.749572",
     "exception": false,
     "start_time": "2023-08-20T12:26:24.708003",
     "status": "completed"
    },
    "tags": []
   },
   "outputs": [
    {
     "name": "stdout",
     "output_type": "stream",
     "text": [
      "Error: Invalid value\n"
     ]
    }
   ],
   "source": [
    "\n",
    "try:\n",
    "    value = int(\"abc\")\n",
    "except ValueError:\n",
    "    print(\"Error: Invalid value\")\n",
    "except TypeError:\n",
    "    print(\"Error: Type mismatch\")"
   ]
  },
  {
   "cell_type": "markdown",
   "id": "65d21cb1",
   "metadata": {
    "papermill": {
     "duration": 0.031587,
     "end_time": "2023-08-20T12:26:24.812334",
     "exception": false,
     "start_time": "2023-08-20T12:26:24.780747",
     "status": "completed"
    },
    "tags": []
   },
   "source": [
    "## Order of except Clauses\n",
    "#### The order of except clauses matters. Python checks the except blocks from top to bottom and executes the first block that matches the raised exception.\n",
    "\n",
    "### Example (Order of except Clauses):"
   ]
  },
  {
   "cell_type": "code",
   "execution_count": 12,
   "id": "f6fdefef",
   "metadata": {
    "execution": {
     "iopub.execute_input": "2023-08-20T12:26:24.876585Z",
     "iopub.status.busy": "2023-08-20T12:26:24.875720Z",
     "iopub.status.idle": "2023-08-20T12:26:24.883019Z",
     "shell.execute_reply": "2023-08-20T12:26:24.881637Z"
    },
    "papermill": {
     "duration": 0.042158,
     "end_time": "2023-08-20T12:26:24.885303",
     "exception": false,
     "start_time": "2023-08-20T12:26:24.843145",
     "status": "completed"
    },
    "tags": []
   },
   "outputs": [
    {
     "name": "stdout",
     "output_type": "stream",
     "text": [
      "Error: Division by zero\n"
     ]
    }
   ],
   "source": [
    "try:\n",
    "    result = 10 / 0\n",
    "except ZeroDivisionError:\n",
    "    print(\"Error: Division by zero\")\n",
    "except ArithmeticError:\n",
    "    print(\"Error: Arithmetic error\")\n"
   ]
  },
  {
   "cell_type": "markdown",
   "id": "4c8efa13",
   "metadata": {
    "papermill": {
     "duration": 0.030597,
     "end_time": "2023-08-20T12:26:24.947281",
     "exception": false,
     "start_time": "2023-08-20T12:26:24.916684",
     "status": "completed"
    },
    "tags": []
   },
   "source": [
    "## Exception Hierarchy\n",
    "#### Exceptions are organized in a hierarchy. Catching a base exception class will catch its derived exception classes as well.\n",
    "\n",
    "### Example (Exception Hierarchy):"
   ]
  },
  {
   "cell_type": "code",
   "execution_count": 13,
   "id": "ff674afa",
   "metadata": {
    "execution": {
     "iopub.execute_input": "2023-08-20T12:26:25.011373Z",
     "iopub.status.busy": "2023-08-20T12:26:25.011002Z",
     "iopub.status.idle": "2023-08-20T12:26:25.016230Z",
     "shell.execute_reply": "2023-08-20T12:26:25.015338Z"
    },
    "papermill": {
     "duration": 0.041053,
     "end_time": "2023-08-20T12:26:25.019148",
     "exception": false,
     "start_time": "2023-08-20T12:26:24.978095",
     "status": "completed"
    },
    "tags": []
   },
   "outputs": [
    {
     "name": "stdout",
     "output_type": "stream",
     "text": [
      "Error: An exception occurred\n"
     ]
    }
   ],
   "source": [
    "try:\n",
    "    value = int(\"abc\")\n",
    "except Exception:\n",
    "    print(\"Error: An exception occurred\")\n"
   ]
  },
  {
   "cell_type": "markdown",
   "id": "489cae33",
   "metadata": {
    "papermill": {
     "duration": 0.03122,
     "end_time": "2023-08-20T12:26:25.081306",
     "exception": false,
     "start_time": "2023-08-20T12:26:25.050086",
     "status": "completed"
    },
    "tags": []
   },
   "source": [
    "## Catching Specific Instances\n",
    "#### You can catch specific instances of exceptions to access their attributes or information.\n",
    "\n",
    "### Example (Catching Specific Instances):"
   ]
  },
  {
   "cell_type": "code",
   "execution_count": 14,
   "id": "d38c76d9",
   "metadata": {
    "execution": {
     "iopub.execute_input": "2023-08-20T12:26:25.147735Z",
     "iopub.status.busy": "2023-08-20T12:26:25.146723Z",
     "iopub.status.idle": "2023-08-20T12:26:25.153139Z",
     "shell.execute_reply": "2023-08-20T12:26:25.151945Z"
    },
    "papermill": {
     "duration": 0.042281,
     "end_time": "2023-08-20T12:26:25.155373",
     "exception": false,
     "start_time": "2023-08-20T12:26:25.113092",
     "status": "completed"
    },
    "tags": []
   },
   "outputs": [
    {
     "name": "stdout",
     "output_type": "stream",
     "text": [
      "Error: division by zero\n"
     ]
    }
   ],
   "source": [
    "try:\n",
    "    result = 10 / 0\n",
    "except ZeroDivisionError as e:\n",
    "    print(f\"Error: {e}\")\n"
   ]
  },
  {
   "cell_type": "markdown",
   "id": "0d2113b0",
   "metadata": {
    "papermill": {
     "duration": 0.033921,
     "end_time": "2023-08-20T12:26:25.220541",
     "exception": false,
     "start_time": "2023-08-20T12:26:25.186620",
     "status": "completed"
    },
    "tags": []
   },
   "source": [
    "## Common Exception Types\n",
    "#### Python provides various built-in exception types for handling specific errors, such as ValueError, TypeError, FileNotFoundError, and more.\n",
    "\n",
    "### Example (Handling ValueError and TypeError):"
   ]
  },
  {
   "cell_type": "code",
   "execution_count": 15,
   "id": "b19b6d10",
   "metadata": {
    "execution": {
     "iopub.execute_input": "2023-08-20T12:26:25.283950Z",
     "iopub.status.busy": "2023-08-20T12:26:25.283597Z",
     "iopub.status.idle": "2023-08-20T12:26:25.289474Z",
     "shell.execute_reply": "2023-08-20T12:26:25.288433Z"
    },
    "papermill": {
     "duration": 0.040578,
     "end_time": "2023-08-20T12:26:25.291867",
     "exception": false,
     "start_time": "2023-08-20T12:26:25.251289",
     "status": "completed"
    },
    "tags": []
   },
   "outputs": [
    {
     "name": "stdout",
     "output_type": "stream",
     "text": [
      "Error: Invalid value\n"
     ]
    }
   ],
   "source": [
    "try:\n",
    "    value = int(\"abc\")\n",
    "except ValueError:\n",
    "    print(\"Error: Invalid value\")\n",
    "except TypeError:\n",
    "    print(\"Error: Type mismatch\")\n"
   ]
  },
  {
   "cell_type": "markdown",
   "id": "80831a1c",
   "metadata": {
    "papermill": {
     "duration": 0.032891,
     "end_time": "2023-08-20T12:26:25.356689",
     "exception": false,
     "start_time": "2023-08-20T12:26:25.323798",
     "status": "completed"
    },
    "tags": []
   },
   "source": [
    "## Conclusion\n",
    "#### Using multiple except clauses allows you to tailor your error handling to specific exception types, providing more accurate and meaningful error messages. Understanding the order of except clauses, the exception hierarchy, and catching specific instances empowers you to create code that can gracefully handle a variety of errors."
   ]
  },
  {
   "cell_type": "markdown",
   "id": "602e307a",
   "metadata": {
    "papermill": {
     "duration": 0.030937,
     "end_time": "2023-08-20T12:26:25.419609",
     "exception": false,
     "start_time": "2023-08-20T12:26:25.388672",
     "status": "completed"
    },
    "tags": []
   },
   "source": [
    "# Chapter 86: Handling Multiple Exception Types\n",
    "\n",
    "#### In this chapter, we'll explore how to handle multiple types of exceptions efficiently using a single `except` block with tuple-based exception handling in Python, allowing for concise and organized error handling.\n",
    "\n",
    "## Using a Single `except` Block\n",
    "\n",
    "#### Python allows you to handle multiple exception types using a single `except` block with tuple-based exception handling.\n",
    "\n",
    "## Example (Handling Multiple Exception Types):\n"
   ]
  },
  {
   "cell_type": "code",
   "execution_count": 16,
   "id": "5a912c69",
   "metadata": {
    "execution": {
     "iopub.execute_input": "2023-08-20T12:26:25.486661Z",
     "iopub.status.busy": "2023-08-20T12:26:25.485490Z",
     "iopub.status.idle": "2023-08-20T12:26:25.491929Z",
     "shell.execute_reply": "2023-08-20T12:26:25.490879Z"
    },
    "papermill": {
     "duration": 0.042385,
     "end_time": "2023-08-20T12:26:25.494288",
     "exception": false,
     "start_time": "2023-08-20T12:26:25.451903",
     "status": "completed"
    },
    "tags": []
   },
   "outputs": [
    {
     "name": "stdout",
     "output_type": "stream",
     "text": [
      "Error: Invalid value or type\n"
     ]
    }
   ],
   "source": [
    "\n",
    "try:\n",
    "    value = int(\"abc\")\n",
    "except (ValueError, TypeError):\n",
    "    print(\"Error: Invalid value or type\")"
   ]
  },
  {
   "cell_type": "markdown",
   "id": "194b4a03",
   "metadata": {
    "papermill": {
     "duration": 0.033328,
     "end_time": "2023-08-20T12:26:25.559289",
     "exception": false,
     "start_time": "2023-08-20T12:26:25.525961",
     "status": "completed"
    },
    "tags": []
   },
   "source": [
    "## Benefits of Tuple-Based Exception Handling\n",
    "#### Tuple-based exception handling simplifies code and provides a clean way to handle different exception types together.\n",
    "\n",
    "### Example (Handling Different Exception Types):"
   ]
  },
  {
   "cell_type": "code",
   "execution_count": 17,
   "id": "837a948d",
   "metadata": {
    "execution": {
     "iopub.execute_input": "2023-08-20T12:26:25.625333Z",
     "iopub.status.busy": "2023-08-20T12:26:25.624926Z",
     "iopub.status.idle": "2023-08-20T12:26:25.630640Z",
     "shell.execute_reply": "2023-08-20T12:26:25.629668Z"
    },
    "papermill": {
     "duration": 0.04109,
     "end_time": "2023-08-20T12:26:25.633244",
     "exception": false,
     "start_time": "2023-08-20T12:26:25.592154",
     "status": "completed"
    },
    "tags": []
   },
   "outputs": [
    {
     "name": "stdout",
     "output_type": "stream",
     "text": [
      "Error: Division or arithmetic error\n"
     ]
    }
   ],
   "source": [
    "try:\n",
    "    result = 10 / 0\n",
    "except (ZeroDivisionError, ArithmeticError):\n",
    "    print(\"Error: Division or arithmetic error\")\n"
   ]
  },
  {
   "cell_type": "markdown",
   "id": "84a79275",
   "metadata": {
    "papermill": {
     "duration": 0.031104,
     "end_time": "2023-08-20T12:26:25.696171",
     "exception": false,
     "start_time": "2023-08-20T12:26:25.665067",
     "status": "completed"
    },
    "tags": []
   },
   "source": [
    "## Catching Common Exception Types\n",
    "#### Python provides various built-in exception types for handling specific errors, such as ValueError, TypeError, FileNotFoundError, and more.\n",
    "\n",
    "### Example (Handling Common Exception Types):"
   ]
  },
  {
   "cell_type": "code",
   "execution_count": 18,
   "id": "2b08c563",
   "metadata": {
    "execution": {
     "iopub.execute_input": "2023-08-20T12:26:25.762833Z",
     "iopub.status.busy": "2023-08-20T12:26:25.762472Z",
     "iopub.status.idle": "2023-08-20T12:26:25.768546Z",
     "shell.execute_reply": "2023-08-20T12:26:25.767506Z"
    },
    "papermill": {
     "duration": 0.044848,
     "end_time": "2023-08-20T12:26:25.771480",
     "exception": false,
     "start_time": "2023-08-20T12:26:25.726632",
     "status": "completed"
    },
    "tags": []
   },
   "outputs": [
    {
     "name": "stdout",
     "output_type": "stream",
     "text": [
      "Error: Invalid value or type\n"
     ]
    }
   ],
   "source": [
    "try:\n",
    "    value = int(\"abc\")\n",
    "except (ValueError, TypeError):\n",
    "    print(\"Error: Invalid value or type\")\n",
    "except FileNotFoundError:\n",
    "    print(\"Error: File not found\")\n"
   ]
  },
  {
   "cell_type": "markdown",
   "id": "b689c4ba",
   "metadata": {
    "papermill": {
     "duration": 0.029846,
     "end_time": "2023-08-20T12:26:25.833822",
     "exception": false,
     "start_time": "2023-08-20T12:26:25.803976",
     "status": "completed"
    },
    "tags": []
   },
   "source": [
    "## The except Block with No Exception Type\n",
    "#### Using an except block without specifying an exception type catches all exceptions, providing a catch-all for unexpected situations.\n",
    "\n",
    "### Example (Catching All Exceptions):"
   ]
  },
  {
   "cell_type": "code",
   "execution_count": 19,
   "id": "aa2a3ee1",
   "metadata": {
    "execution": {
     "iopub.execute_input": "2023-08-20T12:26:25.898169Z",
     "iopub.status.busy": "2023-08-20T12:26:25.897197Z",
     "iopub.status.idle": "2023-08-20T12:26:25.903088Z",
     "shell.execute_reply": "2023-08-20T12:26:25.902134Z"
    },
    "papermill": {
     "duration": 0.040122,
     "end_time": "2023-08-20T12:26:25.905407",
     "exception": false,
     "start_time": "2023-08-20T12:26:25.865285",
     "status": "completed"
    },
    "tags": []
   },
   "outputs": [
    {
     "name": "stdout",
     "output_type": "stream",
     "text": [
      "An error occurred\n"
     ]
    }
   ],
   "source": [
    "try:\n",
    "    result = 10 / 0\n",
    "except:\n",
    "    print(\"An error occurred\")\n"
   ]
  },
  {
   "cell_type": "markdown",
   "id": "d0ed4e4e",
   "metadata": {
    "papermill": {
     "duration": 0.031583,
     "end_time": "2023-08-20T12:26:25.968050",
     "exception": false,
     "start_time": "2023-08-20T12:26:25.936467",
     "status": "completed"
    },
    "tags": []
   },
   "source": [
    "## Conclusion\n",
    "#### Handling multiple exception types using a single except block with tuple-based exception handling simplifies and organizes your error handling code. Understanding how to catch common exception types and efficiently handle different scenarios empowers you to create code that can gracefully handle a variety of errors."
   ]
  },
  {
   "cell_type": "markdown",
   "id": "9077d06f",
   "metadata": {
    "papermill": {
     "duration": 0.032539,
     "end_time": "2023-08-20T12:26:26.031310",
     "exception": false,
     "start_time": "2023-08-20T12:26:25.998771",
     "status": "completed"
    },
    "tags": []
   },
   "source": [
    "# Chapter 87: The `else` and `finally` Clauses\n",
    "\n",
    "#### In this chapter, we'll explore the `else` and `finally` clauses in Python's `try`-`except` blocks, understanding their roles and how they contribute to clean error handling and resource management.\n",
    "\n",
    "## The `else` Clause\n",
    "\n",
    "### The `else` clause is executed when no exceptions occur in the `try` block. It is often used to define code that should run only when no exceptions are raised.\n",
    "\n",
    "## Example (Using the `else` Clause):\n",
    "\n"
   ]
  },
  {
   "cell_type": "code",
   "execution_count": 20,
   "id": "2a75118b",
   "metadata": {
    "execution": {
     "iopub.execute_input": "2023-08-20T12:26:26.097014Z",
     "iopub.status.busy": "2023-08-20T12:26:26.096182Z",
     "iopub.status.idle": "2023-08-20T12:26:26.101992Z",
     "shell.execute_reply": "2023-08-20T12:26:26.101008Z"
    },
    "papermill": {
     "duration": 0.042263,
     "end_time": "2023-08-20T12:26:26.105182",
     "exception": false,
     "start_time": "2023-08-20T12:26:26.062919",
     "status": "completed"
    },
    "tags": []
   },
   "outputs": [
    {
     "name": "stdout",
     "output_type": "stream",
     "text": [
      "Result: 5.0\n"
     ]
    }
   ],
   "source": [
    "\n",
    "try:\n",
    "    result = 10 / 2\n",
    "except ZeroDivisionError:\n",
    "    print(\"Error: Division by zero\")\n",
    "else:\n",
    "    print(\"Result:\", result)"
   ]
  },
  {
   "cell_type": "markdown",
   "id": "5728515a",
   "metadata": {
    "papermill": {
     "duration": 0.031194,
     "end_time": "2023-08-20T12:26:26.167691",
     "exception": false,
     "start_time": "2023-08-20T12:26:26.136497",
     "status": "completed"
    },
    "tags": []
   },
   "source": [
    "## The finally Clause\n",
    "#### The finally clause is executed regardless of whether an exception occurred or not. It is used for clean-up operations, such as closing files or releasing resources.\n",
    "\n",
    "### Example (Using the finally Clause for Resource Cleanup):"
   ]
  },
  {
   "cell_type": "markdown",
   "id": "df66e07c",
   "metadata": {
    "papermill": {
     "duration": 0.030875,
     "end_time": "2023-08-20T12:26:26.232540",
     "exception": false,
     "start_time": "2023-08-20T12:26:26.201665",
     "status": "completed"
    },
    "tags": []
   },
   "source": [
    "```python\n",
    "file = None\n",
    "try:\n",
    "    file = open(\"data.txt\", \"r\")\n",
    "    content = file.read()\n",
    "except FileNotFoundError:\n",
    "    print(\"Error: File not found\")\n",
    "finally:\n",
    "    if file:\n",
    "        file.close()\n",
    " ```\n"
   ]
  },
  {
   "cell_type": "markdown",
   "id": "b8135d1d",
   "metadata": {
    "papermill": {
     "duration": 0.03236,
     "end_time": "2023-08-20T12:26:26.296403",
     "exception": false,
     "start_time": "2023-08-20T12:26:26.264043",
     "status": "completed"
    },
    "tags": []
   },
   "source": [
    "## Combining else and finally\n",
    "#### You can use both the else and finally clauses together in a try-except block to handle exceptions and ensure clean-up.\n",
    "\n",
    "### Example (Using Both else and finally):"
   ]
  },
  {
   "cell_type": "markdown",
   "id": "b00e7dbe",
   "metadata": {
    "execution": {
     "iopub.execute_input": "2023-08-20T11:55:47.754182Z",
     "iopub.status.busy": "2023-08-20T11:55:47.753738Z",
     "iopub.status.idle": "2023-08-20T11:55:47.763015Z",
     "shell.execute_reply": "2023-08-20T11:55:47.761278Z",
     "shell.execute_reply.started": "2023-08-20T11:55:47.754151Z"
    },
    "papermill": {
     "duration": 0.032295,
     "end_time": "2023-08-20T12:26:26.361135",
     "exception": false,
     "start_time": "2023-08-20T12:26:26.328840",
     "status": "completed"
    },
    "tags": []
   },
   "source": [
    "```python\n",
    "try:\n",
    "    value = int(\"123\")\n",
    "except ValueError:\n",
    "    print(\"Error: Invalid value\")\n",
    "else:\n",
    "    print(\"Value:\", value)\n",
    "finally:\n",
    "    print(\"Clean-up complete\")\n",
    "```"
   ]
  },
  {
   "cell_type": "markdown",
   "id": "84375411",
   "metadata": {
    "papermill": {
     "duration": 0.030157,
     "end_time": "2023-08-20T12:26:26.421897",
     "exception": false,
     "start_time": "2023-08-20T12:26:26.391740",
     "status": "completed"
    },
    "tags": []
   },
   "source": [
    "## Conclusion\n",
    "#### The else and finally clauses are valuable tools in error handling and resource management. Understanding how to use the else clause to define code that should run when no exceptions occur and using the finally clause for clean-up operations empowers you to create robust and well-structured code."
   ]
  },
  {
   "cell_type": "markdown",
   "id": "ce9c7812",
   "metadata": {
    "papermill": {
     "duration": 0.031167,
     "end_time": "2023-08-20T12:26:26.483956",
     "exception": false,
     "start_time": "2023-08-20T12:26:26.452789",
     "status": "completed"
    },
    "tags": []
   },
   "source": [
    "# Chapter 88: Creating Custom Exceptions\n",
    "\n",
    "#### In this chapter, we'll explore the concept of creating custom exceptions in Python, allowing you to define your own exception classes to handle specific error scenarios effectively.\n",
    "\n",
    "## Why Create Custom Exceptions?\n",
    "\n",
    "#### Creating custom exceptions helps improve code readability and maintainability by providing clear and descriptive error messages for specific situations.\n",
    "\n",
    "## Example (Creating a Custom Exception):\n"
   ]
  },
  {
   "cell_type": "code",
   "execution_count": 21,
   "id": "a562a2c3",
   "metadata": {
    "execution": {
     "iopub.execute_input": "2023-08-20T12:26:26.547349Z",
     "iopub.status.busy": "2023-08-20T12:26:26.546966Z",
     "iopub.status.idle": "2023-08-20T12:26:26.553668Z",
     "shell.execute_reply": "2023-08-20T12:26:26.552768Z"
    },
    "papermill": {
     "duration": 0.042189,
     "end_time": "2023-08-20T12:26:26.556307",
     "exception": false,
     "start_time": "2023-08-20T12:26:26.514118",
     "status": "completed"
    },
    "tags": []
   },
   "outputs": [
    {
     "name": "stdout",
     "output_type": "stream",
     "text": [
      "Negative value not allowed: -10\n"
     ]
    }
   ],
   "source": [
    "\n",
    "class NegativeValueError(Exception):\n",
    "    def __init__(self, value):\n",
    "        self.value = value\n",
    "        super().__init__(f\"Negative value not allowed: {value}\")\n",
    "\n",
    "try:\n",
    "    amount = -10\n",
    "    if amount < 0:\n",
    "        raise NegativeValueError(amount)\n",
    "except NegativeValueError as e:\n",
    "    print(e)"
   ]
  },
  {
   "cell_type": "markdown",
   "id": "837c340c",
   "metadata": {
    "papermill": {
     "duration": 0.031011,
     "end_time": "2023-08-20T12:26:26.619105",
     "exception": false,
     "start_time": "2023-08-20T12:26:26.588094",
     "status": "completed"
    },
    "tags": []
   },
   "source": [
    "## Inheriting from Base Exception Classes\n",
    "#### Custom exceptions should inherit from existing base exception classes or subclasses like Exception. This ensures they behave correctly in exception hierarchies.\n",
    "\n",
    "### Example (Inheriting from Exception):"
   ]
  },
  {
   "cell_type": "code",
   "execution_count": 22,
   "id": "05bcb2ab",
   "metadata": {
    "execution": {
     "iopub.execute_input": "2023-08-20T12:26:26.685441Z",
     "iopub.status.busy": "2023-08-20T12:26:26.684387Z",
     "iopub.status.idle": "2023-08-20T12:26:26.690834Z",
     "shell.execute_reply": "2023-08-20T12:26:26.689793Z"
    },
    "papermill": {
     "duration": 0.041541,
     "end_time": "2023-08-20T12:26:26.693463",
     "exception": false,
     "start_time": "2023-08-20T12:26:26.651922",
     "status": "completed"
    },
    "tags": []
   },
   "outputs": [
    {
     "name": "stdout",
     "output_type": "stream",
     "text": [
      "This is a custom exception\n"
     ]
    }
   ],
   "source": [
    "\n",
    "class CustomError(Exception):\n",
    "    pass\n",
    "\n",
    "try:\n",
    "    raise CustomError(\"This is a custom exception\")\n",
    "except CustomError as e:\n",
    "    print(e)\n"
   ]
  },
  {
   "cell_type": "markdown",
   "id": "853977b1",
   "metadata": {
    "papermill": {
     "duration": 0.030517,
     "end_time": "2023-08-20T12:26:26.755330",
     "exception": false,
     "start_time": "2023-08-20T12:26:26.724813",
     "status": "completed"
    },
    "tags": []
   },
   "source": [
    "## Adding Additional Information\n",
    "#### Custom exceptions can have additional attributes to provide more context about the error situation.\n",
    "\n",
    "### Example (Adding Additional Information):"
   ]
  },
  {
   "cell_type": "code",
   "execution_count": 23,
   "id": "2072b6af",
   "metadata": {
    "execution": {
     "iopub.execute_input": "2023-08-20T12:26:26.819012Z",
     "iopub.status.busy": "2023-08-20T12:26:26.818199Z",
     "iopub.status.idle": "2023-08-20T12:26:26.825073Z",
     "shell.execute_reply": "2023-08-20T12:26:26.824110Z"
    },
    "papermill": {
     "duration": 0.041232,
     "end_time": "2023-08-20T12:26:26.827404",
     "exception": false,
     "start_time": "2023-08-20T12:26:26.786172",
     "status": "completed"
    },
    "tags": []
   },
   "outputs": [
    {
     "name": "stdout",
     "output_type": "stream",
     "text": [
      "[Errno None] None: 'missing.txt'\n"
     ]
    }
   ],
   "source": [
    "class FileNotFoundErrorWithTimestamp(FileNotFoundError):\n",
    "    def __init__(self, filename, timestamp):\n",
    "        self.filename = filename\n",
    "        self.timestamp = timestamp\n",
    "        super().__init__(f\"File not found: {filename} (Timestamp: {timestamp})\")\n",
    "\n",
    "try:\n",
    "    filename = \"missing.txt\"\n",
    "    timestamp = \"2023-08-15 10:00:00\"\n",
    "    raise FileNotFoundErrorWithTimestamp(filename, timestamp)\n",
    "except FileNotFoundErrorWithTimestamp as e:\n",
    "    print(e)\n"
   ]
  },
  {
   "cell_type": "markdown",
   "id": "e7ab7fc7",
   "metadata": {
    "papermill": {
     "duration": 0.030831,
     "end_time": "2023-08-20T12:26:26.890622",
     "exception": false,
     "start_time": "2023-08-20T12:26:26.859791",
     "status": "completed"
    },
    "tags": []
   },
   "source": [
    "## Conclusion\n",
    "#### Creating custom exceptions enhances code readability and provides targeted error messages for specific situations, improving the clarity of your code and helping with debugging and error handling. Understanding when and how to create custom exceptions empowers you to create more robust and user-friendly Python applications."
   ]
  },
  {
   "cell_type": "markdown",
   "id": "c0c49c9b",
   "metadata": {
    "papermill": {
     "duration": 0.032719,
     "end_time": "2023-08-20T12:26:26.954321",
     "exception": false,
     "start_time": "2023-08-20T12:26:26.921602",
     "status": "completed"
    },
    "tags": []
   },
   "source": [
    "# Chapter 89: Introduction to Classes and Objects\n",
    "\n",
    "#### In this chapter, we'll dive deeper into the world of object-oriented programming (OOP) by exploring the fundamental concepts of classes and objects in Python.\n",
    "\n",
    "## Understanding Classes and Objects\n",
    "\n",
    "#### In Python, a class is a blueprint for creating objects. An object is an instance of a class. Classes define the structure and behavior of objects.\n",
    "\n",
    "## Defining a Class\n",
    "\n",
    "#### To define a class, use the `class` keyword, followed by the class name and a colon. Class methods are defined within the class and can operate on the class's data (attributes).\n",
    "\n",
    "## Example (Defining a Class):\n",
    "\n"
   ]
  },
  {
   "cell_type": "code",
   "execution_count": 24,
   "id": "eb455c7e",
   "metadata": {
    "execution": {
     "iopub.execute_input": "2023-08-20T12:26:27.018333Z",
     "iopub.status.busy": "2023-08-20T12:26:27.017305Z",
     "iopub.status.idle": "2023-08-20T12:26:27.025480Z",
     "shell.execute_reply": "2023-08-20T12:26:27.024392Z"
    },
    "papermill": {
     "duration": 0.042046,
     "end_time": "2023-08-20T12:26:27.027482",
     "exception": false,
     "start_time": "2023-08-20T12:26:26.985436",
     "status": "completed"
    },
    "tags": []
   },
   "outputs": [
    {
     "name": "stdout",
     "output_type": "stream",
     "text": [
      "Hello, my name is Alice and I am 30 years old.\n"
     ]
    }
   ],
   "source": [
    "\n",
    "class Person:\n",
    "    def __init__(self, name, age):\n",
    "        self.name = name\n",
    "        self.age = age\n",
    "    \n",
    "    def greet(self):\n",
    "        print(f\"Hello, my name is {self.name} and I am {self.age} years old.\")\n",
    "\n",
    "# Creating an object (instance) of the Person class\n",
    "person1 = Person(\"Alice\", 30)\n",
    "\n",
    "# Calling the greet method on the object\n",
    "person1.greet()"
   ]
  },
  {
   "cell_type": "markdown",
   "id": "39d0ca8f",
   "metadata": {
    "papermill": {
     "duration": 0.039643,
     "end_time": "2023-08-20T12:26:27.098479",
     "exception": false,
     "start_time": "2023-08-20T12:26:27.058836",
     "status": "completed"
    },
    "tags": []
   },
   "source": [
    "## Attributes and Methods\n",
    "#### Attributes are data members that store values for an object. Methods are functions defined within a class that can operate on the object's data.\n",
    "\n",
    "### Example (Attributes and Methods):"
   ]
  },
  {
   "cell_type": "code",
   "execution_count": 25,
   "id": "fdc3dce4",
   "metadata": {
    "execution": {
     "iopub.execute_input": "2023-08-20T12:26:27.168139Z",
     "iopub.status.busy": "2023-08-20T12:26:27.167048Z",
     "iopub.status.idle": "2023-08-20T12:26:27.174907Z",
     "shell.execute_reply": "2023-08-20T12:26:27.173881Z"
    },
    "papermill": {
     "duration": 0.043878,
     "end_time": "2023-08-20T12:26:27.176891",
     "exception": false,
     "start_time": "2023-08-20T12:26:27.133013",
     "status": "completed"
    },
    "tags": []
   },
   "outputs": [
    {
     "name": "stdout",
     "output_type": "stream",
     "text": [
      "Width: 5\n",
      "Height: 3\n",
      "Area: 15\n"
     ]
    }
   ],
   "source": [
    "class Rectangle:\n",
    "    def __init__(self, width, height):\n",
    "        self.width = width\n",
    "        self.height = height\n",
    "    \n",
    "    def area(self):\n",
    "        return self.width * self.height\n",
    "\n",
    "# Creating an object (instance) of the Rectangle class\n",
    "rect = Rectangle(5, 3)\n",
    "\n",
    "# Accessing attributes and calling methods\n",
    "print(\"Width:\", rect.width)\n",
    "print(\"Height:\", rect.height)\n",
    "print(\"Area:\", rect.area())\n"
   ]
  },
  {
   "cell_type": "markdown",
   "id": "86e5fea2",
   "metadata": {
    "papermill": {
     "duration": 0.031222,
     "end_time": "2023-08-20T12:26:27.244190",
     "exception": false,
     "start_time": "2023-08-20T12:26:27.212968",
     "status": "completed"
    },
    "tags": []
   },
   "source": [
    "## Constructor (init method)\n",
    "#### The __init__ method is a special method called when an object is created from a class. It initializes the object's attributes.\n",
    "\n",
    "### Example (Constructor):"
   ]
  },
  {
   "cell_type": "code",
   "execution_count": 26,
   "id": "a1895f3e",
   "metadata": {
    "execution": {
     "iopub.execute_input": "2023-08-20T12:26:27.319275Z",
     "iopub.status.busy": "2023-08-20T12:26:27.318873Z",
     "iopub.status.idle": "2023-08-20T12:26:27.326181Z",
     "shell.execute_reply": "2023-08-20T12:26:27.324763Z"
    },
    "papermill": {
     "duration": 0.050489,
     "end_time": "2023-08-20T12:26:27.333741",
     "exception": false,
     "start_time": "2023-08-20T12:26:27.283252",
     "status": "completed"
    },
    "tags": []
   },
   "outputs": [
    {
     "name": "stdout",
     "output_type": "stream",
     "text": [
      "Make: Toyota\n",
      "Model: Camry\n"
     ]
    }
   ],
   "source": [
    "class Car:\n",
    "    def __init__(self, make, model):\n",
    "        self.make = make\n",
    "        self.model = model\n",
    "\n",
    "# Creating an object (instance) of the Car class\n",
    "car1 = Car(\"Toyota\", \"Camry\")\n",
    "\n",
    "# Accessing attributes\n",
    "print(\"Make:\", car1.make)\n",
    "print(\"Model:\", car1.model)\n"
   ]
  },
  {
   "cell_type": "markdown",
   "id": "83603e07",
   "metadata": {
    "papermill": {
     "duration": 0.046344,
     "end_time": "2023-08-20T12:26:27.439730",
     "exception": false,
     "start_time": "2023-08-20T12:26:27.393386",
     "status": "completed"
    },
    "tags": []
   },
   "source": [
    "## Conclusion\n",
    "#### Understanding classes and objects is fundamental to object-oriented programming. Classes define the structure of objects, and objects are instances of classes. Attributes store data for objects, and methods define behavior. The "
   ]
  },
  {
   "cell_type": "markdown",
   "id": "fc5d2d34",
   "metadata": {
    "papermill": {
     "duration": 0.030668,
     "end_time": "2023-08-20T12:26:27.502131",
     "exception": false,
     "start_time": "2023-08-20T12:26:27.471463",
     "status": "completed"
    },
    "tags": []
   },
   "source": [
    "# Chapter 90: Class Attributes and Methods\n",
    "\n",
    "#### In this chapter, we'll explore the concepts of class-level attributes and methods in Python, understanding how they are defined and utilized to manage shared data and behaviors among all instances of a class.\n",
    "\n",
    "## Class Attributes\n",
    "\n",
    "#### Class attributes are attributes that are shared among all instances of a class. They are defined within the class but outside of any instance methods. Class attributes are accessed using the class name.\n",
    "\n",
    "## Example (Class Attributes):\n",
    "\n"
   ]
  },
  {
   "cell_type": "code",
   "execution_count": 27,
   "id": "bf077000",
   "metadata": {
    "execution": {
     "iopub.execute_input": "2023-08-20T12:26:27.570024Z",
     "iopub.status.busy": "2023-08-20T12:26:27.569659Z",
     "iopub.status.idle": "2023-08-20T12:26:27.576352Z",
     "shell.execute_reply": "2023-08-20T12:26:27.575420Z"
    },
    "papermill": {
     "duration": 0.042932,
     "end_time": "2023-08-20T12:26:27.578999",
     "exception": false,
     "start_time": "2023-08-20T12:26:27.536067",
     "status": "completed"
    },
    "tags": []
   },
   "outputs": [
    {
     "name": "stdout",
     "output_type": "stream",
     "text": [
      "Value of pi: 3.14159\n",
      "Radius of circle1: 5\n"
     ]
    }
   ],
   "source": [
    "\n",
    "class Circle:\n",
    "    pi = 3.14159\n",
    "    \n",
    "    def __init__(self, radius):\n",
    "        self.radius = radius\n",
    "    \n",
    "    def area(self):\n",
    "        return Circle.pi * self.radius * self.radius\n",
    "\n",
    "# Accessing a class attribute\n",
    "print(\"Value of pi:\", Circle.pi)\n",
    "\n",
    "# Creating objects and accessing instance attributes and methods\n",
    "circle1 = Circle(5)\n",
    "print(\"Radius of circle1:\", circle1.radius)"
   ]
  },
  {
   "cell_type": "markdown",
   "id": "ce58fc6a",
   "metadata": {
    "papermill": {
     "duration": 0.031026,
     "end_time": "2023-08-20T12:26:27.640767",
     "exception": false,
     "start_time": "2023-08-20T12:26:27.609741",
     "status": "completed"
    },
    "tags": []
   },
   "source": [
    "## Class Methods\n",
    "#### Class methods are methods that are bound to the class and not the instance. They are defined using the @classmethod decorator. Class methods can access and modify class attributes.\n",
    "\n",
    "### Example (Class Methods):"
   ]
  },
  {
   "cell_type": "code",
   "execution_count": 28,
   "id": "45df642b",
   "metadata": {
    "execution": {
     "iopub.execute_input": "2023-08-20T12:26:27.705766Z",
     "iopub.status.busy": "2023-08-20T12:26:27.704814Z",
     "iopub.status.idle": "2023-08-20T12:26:27.710866Z",
     "shell.execute_reply": "2023-08-20T12:26:27.709920Z"
    },
    "papermill": {
     "duration": 0.04124,
     "end_time": "2023-08-20T12:26:27.712965",
     "exception": false,
     "start_time": "2023-08-20T12:26:27.671725",
     "status": "completed"
    },
    "tags": []
   },
   "outputs": [
    {
     "name": "stdout",
     "output_type": "stream",
     "text": [
      "Square of 4: 16\n"
     ]
    }
   ],
   "source": [
    "class MathOperations:\n",
    "    @classmethod\n",
    "    def square(cls, num):\n",
    "        return num * num\n",
    "\n",
    "# Calling a class method\n",
    "result = MathOperations.square(4)\n",
    "print(\"Square of 4:\", result)\n"
   ]
  },
  {
   "cell_type": "markdown",
   "id": "619e2bdf",
   "metadata": {
    "papermill": {
     "duration": 0.030962,
     "end_time": "2023-08-20T12:26:27.775804",
     "exception": false,
     "start_time": "2023-08-20T12:26:27.744842",
     "status": "completed"
    },
    "tags": []
   },
   "source": [
    "## Class Attributes vs. Instance Attributes\n",
    "#### Class attributes are shared among all instances of a class, while instance attributes are specific to individual objects. Class methods operate on class-level data, while instance methods operate on instance-specific data.\n",
    "\n",
    "### Example (Class Attributes vs. Instance Attributes):"
   ]
  },
  {
   "cell_type": "code",
   "execution_count": 29,
   "id": "3e2def10",
   "metadata": {
    "execution": {
     "iopub.execute_input": "2023-08-20T12:26:27.840519Z",
     "iopub.status.busy": "2023-08-20T12:26:27.839582Z",
     "iopub.status.idle": "2023-08-20T12:26:27.846825Z",
     "shell.execute_reply": "2023-08-20T12:26:27.845915Z"
    },
    "papermill": {
     "duration": 0.042129,
     "end_time": "2023-08-20T12:26:27.848878",
     "exception": false,
     "start_time": "2023-08-20T12:26:27.806749",
     "status": "completed"
    },
    "tags": []
   },
   "outputs": [
    {
     "name": "stdout",
     "output_type": "stream",
     "text": [
      "Total vehicles: 2\n",
      "Make of car1: Toyota\n",
      "Model of car2: Accord\n"
     ]
    }
   ],
   "source": [
    "class Vehicle:\n",
    "    total_vehicles = 0\n",
    "    \n",
    "    def __init__(self, make, model):\n",
    "        self.make = make\n",
    "        self.model = model\n",
    "        Vehicle.total_vehicles += 1\n",
    "\n",
    "# Creating objects and accessing class and instance attributes\n",
    "car1 = Vehicle(\"Toyota\", \"Camry\")\n",
    "car2 = Vehicle(\"Honda\", \"Accord\")\n",
    "print(\"Total vehicles:\", Vehicle.total_vehicles)\n",
    "print(\"Make of car1:\", car1.make)\n",
    "print(\"Model of car2:\", car2.model)\n"
   ]
  },
  {
   "cell_type": "markdown",
   "id": "c8c6e6fc",
   "metadata": {
    "papermill": {
     "duration": 0.032832,
     "end_time": "2023-08-20T12:26:27.913457",
     "exception": false,
     "start_time": "2023-08-20T12:26:27.880625",
     "status": "completed"
    },
    "tags": []
   },
   "source": [
    "## Conclusion\n",
    "#### Class attributes and methods provide a way to manage shared data and behaviors at the class level. Class attributes are shared among all instances, and class methods operate on class-level data. Understanding the distinction between class and instance attributes/methods empowers you to design and structure your classes effectively."
   ]
  },
  {
   "cell_type": "markdown",
   "id": "b960bfa2",
   "metadata": {
    "papermill": {
     "duration": 0.036233,
     "end_time": "2023-08-20T12:26:27.984129",
     "exception": false,
     "start_time": "2023-08-20T12:26:27.947896",
     "status": "completed"
    },
    "tags": []
   },
   "source": [
    "# Chapter 91: The `__init__` Constructor\n",
    "\n",
    "#### In this chapter, we'll take an in-depth look at the `__init__` method, which is a special method in Python classes responsible for initializing object attributes when an instance of the class is created.\n",
    "\n",
    "## Understanding the `__init__` Method\n",
    "\n",
    "#### The `__init__` method is a constructor method that gets automatically called when an object is created from a class. It initializes the object's attributes with provided values.\n",
    "\n",
    "## Example (Using the `__init__` Method):\n"
   ]
  },
  {
   "cell_type": "code",
   "execution_count": 30,
   "id": "550d78b7",
   "metadata": {
    "execution": {
     "iopub.execute_input": "2023-08-20T12:26:28.052131Z",
     "iopub.status.busy": "2023-08-20T12:26:28.051491Z",
     "iopub.status.idle": "2023-08-20T12:26:28.057701Z",
     "shell.execute_reply": "2023-08-20T12:26:28.056771Z"
    },
    "papermill": {
     "duration": 0.041296,
     "end_time": "2023-08-20T12:26:28.060476",
     "exception": false,
     "start_time": "2023-08-20T12:26:28.019180",
     "status": "completed"
    },
    "tags": []
   },
   "outputs": [
    {
     "name": "stdout",
     "output_type": "stream",
     "text": [
      "Name: Alice\n",
      "Age: 30\n"
     ]
    }
   ],
   "source": [
    "class Person:\n",
    "    def __init__(self, name, age):\n",
    "        self.name = name\n",
    "        self.age = age\n",
    "\n",
    "# Creating an object (instance) of the Person class\n",
    "person1 = Person(\"Alice\", 30)\n",
    "\n",
    "# Accessing instance attributes\n",
    "print(\"Name:\", person1.name)\n",
    "print(\"Age:\", person1.age)"
   ]
  },
  {
   "cell_type": "markdown",
   "id": "f563bd5d",
   "metadata": {
    "papermill": {
     "duration": 0.031111,
     "end_time": "2023-08-20T12:26:28.122821",
     "exception": false,
     "start_time": "2023-08-20T12:26:28.091710",
     "status": "completed"
    },
    "tags": []
   },
   "source": [
    "## Self Parameter\n",
    "#### The self parameter is a reference to the instance being created. It allows you to access and manipulate the object's attributes within the __init__ method.\n",
    "\n",
    "### Example (Using the self Parameter):"
   ]
  },
  {
   "cell_type": "code",
   "execution_count": 31,
   "id": "ebbeffd3",
   "metadata": {
    "execution": {
     "iopub.execute_input": "2023-08-20T12:26:28.187246Z",
     "iopub.status.busy": "2023-08-20T12:26:28.186885Z",
     "iopub.status.idle": "2023-08-20T12:26:28.193226Z",
     "shell.execute_reply": "2023-08-20T12:26:28.192294Z"
    },
    "papermill": {
     "duration": 0.042033,
     "end_time": "2023-08-20T12:26:28.195635",
     "exception": false,
     "start_time": "2023-08-20T12:26:28.153602",
     "status": "completed"
    },
    "tags": []
   },
   "outputs": [
    {
     "name": "stdout",
     "output_type": "stream",
     "text": [
      "Title: The Python Book\n",
      "Author: John Smith\n"
     ]
    }
   ],
   "source": [
    "class Book:\n",
    "    def __init__(self, title, author):\n",
    "        self.title = title\n",
    "        self.author = author\n",
    "\n",
    "# Creating an object (instance) of the Book class\n",
    "book1 = Book(\"The Python Book\", \"John Smith\")\n",
    "\n",
    "# Accessing instance attributes\n",
    "print(\"Title:\", book1.title)\n",
    "print(\"Author:\", book1.author)\n"
   ]
  },
  {
   "cell_type": "markdown",
   "id": "7c8d3698",
   "metadata": {
    "papermill": {
     "duration": 0.032274,
     "end_time": "2023-08-20T12:26:28.261120",
     "exception": false,
     "start_time": "2023-08-20T12:26:28.228846",
     "status": "completed"
    },
    "tags": []
   },
   "source": [
    "## Default Values\n",
    "#### You can provide default values for attributes in the __init__ method. These values are used when an attribute is not explicitly provided during object creation.\n",
    "\n",
    "### Example (Using Default Values):"
   ]
  },
  {
   "cell_type": "code",
   "execution_count": 32,
   "id": "d096c729",
   "metadata": {
    "execution": {
     "iopub.execute_input": "2023-08-20T12:26:28.327780Z",
     "iopub.status.busy": "2023-08-20T12:26:28.326909Z",
     "iopub.status.idle": "2023-08-20T12:26:28.333972Z",
     "shell.execute_reply": "2023-08-20T12:26:28.333050Z"
    },
    "papermill": {
     "duration": 0.042204,
     "end_time": "2023-08-20T12:26:28.336112",
     "exception": false,
     "start_time": "2023-08-20T12:26:28.293908",
     "status": "completed"
    },
    "tags": []
   },
   "outputs": [
    {
     "name": "stdout",
     "output_type": "stream",
     "text": [
      "Width of rect1: 1\n",
      "Height of rect2: 3\n"
     ]
    }
   ],
   "source": [
    "class Rectangle:\n",
    "    def __init__(self, width=1, height=1):\n",
    "        self.width = width\n",
    "        self.height = height\n",
    "\n",
    "# Creating objects with and without specifying attribute values\n",
    "rect1 = Rectangle()\n",
    "rect2 = Rectangle(5, 3)\n",
    "\n",
    "# Accessing instance attributes\n",
    "print(\"Width of rect1:\", rect1.width)\n",
    "print(\"Height of rect2:\", rect2.height)\n"
   ]
  },
  {
   "cell_type": "markdown",
   "id": "35beb430",
   "metadata": {
    "papermill": {
     "duration": 0.031975,
     "end_time": "2023-08-20T12:26:28.401735",
     "exception": false,
     "start_time": "2023-08-20T12:26:28.369760",
     "status": "completed"
    },
    "tags": []
   },
   "source": [
    "## Conclusion\n",
    "#### The __init__ method is a crucial part of class definition in Python. It allows you to initialize object attributes with provided values during object creation. The self parameter is used to reference the instance being created, enabling attribute manipulation."
   ]
  },
  {
   "cell_type": "markdown",
   "id": "9ac44616",
   "metadata": {
    "papermill": {
     "duration": 0.033496,
     "end_time": "2023-08-20T12:26:28.467829",
     "exception": false,
     "start_time": "2023-08-20T12:26:28.434333",
     "status": "completed"
    },
    "tags": []
   },
   "source": [
    "# Chapter 92: Inheritance and Subclasses\n",
    "\n",
    "#### In this chapter, we'll delve into the concept of inheritance in object-oriented programming (OOP) using Python. Inheritance allows you to create subclasses that inherit attributes and methods from a parent (base) class.\n",
    "\n",
    "## Understanding Inheritance\n",
    "\n",
    "#### Inheritance is a fundamental OOP concept where a new class (subclass) is created based on an existing class (parent or base class). The subclass inherits the attributes and methods of the parent class and can also have its own unique attributes and methods.\n",
    "\n",
    "## Example (Using Inheritance):\n"
   ]
  },
  {
   "cell_type": "code",
   "execution_count": 33,
   "id": "8f4d7e97",
   "metadata": {
    "execution": {
     "iopub.execute_input": "2023-08-20T12:26:28.534663Z",
     "iopub.status.busy": "2023-08-20T12:26:28.534008Z",
     "iopub.status.idle": "2023-08-20T12:26:28.542649Z",
     "shell.execute_reply": "2023-08-20T12:26:28.541276Z"
    },
    "papermill": {
     "duration": 0.043859,
     "end_time": "2023-08-20T12:26:28.544798",
     "exception": false,
     "start_time": "2023-08-20T12:26:28.500939",
     "status": "completed"
    },
    "tags": []
   },
   "outputs": [
    {
     "name": "stdout",
     "output_type": "stream",
     "text": [
      "Buddy says: Woof!\n",
      "Whiskers says: Meow!\n"
     ]
    }
   ],
   "source": [
    "class Animal:\n",
    "    def __init__(self, name):\n",
    "        self.name = name\n",
    "    \n",
    "    def speak(self):\n",
    "        pass  # Abstract method\n",
    "\n",
    "class Dog(Animal):\n",
    "    def speak(self):\n",
    "        return \"Woof!\"\n",
    "\n",
    "class Cat(Animal):\n",
    "    def speak(self):\n",
    "        return \"Meow!\"\n",
    "\n",
    "# Creating objects of subclass and invoking inherited methods\n",
    "dog = Dog(\"Buddy\")\n",
    "cat = Cat(\"Whiskers\")\n",
    "print(dog.name, \"says:\", dog.speak())\n",
    "print(cat.name, \"says:\", cat.speak())\n"
   ]
  },
  {
   "cell_type": "markdown",
   "id": "d8b9001f",
   "metadata": {
    "papermill": {
     "duration": 0.031209,
     "end_time": "2023-08-20T12:26:28.609558",
     "exception": false,
     "start_time": "2023-08-20T12:26:28.578349",
     "status": "completed"
    },
    "tags": []
   },
   "source": [
    "## Overriding Methods\n",
    "#### Subclasses can override (replace) methods inherited from the parent class. This allows you to customize behavior while retaining the structure of the parent class.\n",
    "\n",
    "### Example (Overriding Methods):"
   ]
  },
  {
   "cell_type": "code",
   "execution_count": 34,
   "id": "d47f855b",
   "metadata": {
    "execution": {
     "iopub.execute_input": "2023-08-20T12:26:28.674141Z",
     "iopub.status.busy": "2023-08-20T12:26:28.672599Z",
     "iopub.status.idle": "2023-08-20T12:26:28.679025Z",
     "shell.execute_reply": "2023-08-20T12:26:28.677955Z"
    },
    "papermill": {
     "duration": 0.040955,
     "end_time": "2023-08-20T12:26:28.681199",
     "exception": false,
     "start_time": "2023-08-20T12:26:28.640244",
     "status": "completed"
    },
    "tags": []
   },
   "outputs": [
    {
     "name": "stdout",
     "output_type": "stream",
     "text": [
      "Tweetie says: Chirp!\n"
     ]
    }
   ],
   "source": [
    "class Bird(Animal):\n",
    "    def speak(self):\n",
    "        return \"Chirp!\"\n",
    "\n",
    "# Creating an object of the Bird subclass\n",
    "bird = Bird(\"Tweetie\")\n",
    "print(bird.name, \"says:\", bird.speak())  # Overrides the speak method\n"
   ]
  },
  {
   "cell_type": "markdown",
   "id": "dd7b06ed",
   "metadata": {
    "papermill": {
     "duration": 0.031321,
     "end_time": "2023-08-20T12:26:28.744189",
     "exception": false,
     "start_time": "2023-08-20T12:26:28.712868",
     "status": "completed"
    },
    "tags": []
   },
   "source": [
    "## Multiple Inheritance\n",
    "#### Python supports multiple inheritance, where a subclass can inherit from multiple parent classes. This allows for flexible class hierarchies and code reuse.\n",
    "\n",
    "### Example (Multiple Inheritance):"
   ]
  },
  {
   "cell_type": "code",
   "execution_count": 35,
   "id": "b4a89660",
   "metadata": {
    "execution": {
     "iopub.execute_input": "2023-08-20T12:26:28.811224Z",
     "iopub.status.busy": "2023-08-20T12:26:28.810188Z",
     "iopub.status.idle": "2023-08-20T12:26:28.817644Z",
     "shell.execute_reply": "2023-08-20T12:26:28.816257Z"
    },
    "papermill": {
     "duration": 0.042994,
     "end_time": "2023-08-20T12:26:28.819984",
     "exception": false,
     "start_time": "2023-08-20T12:26:28.776990",
     "status": "completed"
    },
    "tags": []
   },
   "outputs": [
    {
     "name": "stdout",
     "output_type": "stream",
     "text": [
      "Bruce says: Woof!\n"
     ]
    }
   ],
   "source": [
    "class Mammal(Animal):\n",
    "    def speak(self):\n",
    "        return \"Mammal sound\"\n",
    "\n",
    "class Bat(Dog, Mammal):\n",
    "    pass\n",
    "\n",
    "# Creating an object of the Bat subclass\n",
    "bat = Bat(\"Bruce\")\n",
    "print(bat.name, \"says:\", bat.speak())  # Inherits from Dog and Mammal\n"
   ]
  },
  {
   "cell_type": "markdown",
   "id": "4f834eb1",
   "metadata": {
    "papermill": {
     "duration": 0.032555,
     "end_time": "2023-08-20T12:26:28.884487",
     "exception": false,
     "start_time": "2023-08-20T12:26:28.851932",
     "status": "completed"
    },
    "tags": []
   },
   "source": [
    "## Conclusion\n",
    "#### Inheritance is a powerful OOP concept that promotes code reuse and extensibility. Subclasses inherit attributes and methods from parent classes, allowing you to create specialized classes based on existing ones. Overriding methods in subclasses allows customization of behavior, and multiple inheritance provides flexibility in class design."
   ]
  },
  {
   "cell_type": "markdown",
   "id": "b48df513",
   "metadata": {
    "papermill": {
     "duration": 0.032429,
     "end_time": "2023-08-20T12:26:28.948680",
     "exception": false,
     "start_time": "2023-08-20T12:26:28.916251",
     "status": "completed"
    },
    "tags": []
   },
   "source": [
    "# Chapter 93: Method Overriding\n",
    "\n",
    "#### In this chapter, we'll explore the concept of method overriding in object-oriented programming (OOP) using Python. Method overriding allows a subclass to provide a different implementation for a method inherited from a parent class.\n",
    "\n",
    "## Understanding Method Overriding\n",
    "\n",
    "#### Method overriding is the process of redefining a method in a subclass that is already defined in its parent class. The overridden method in the subclass is called instead of the parent class method when invoked on an instance of the subclass.\n",
    "\n",
    "## Example (Method Overriding):\n"
   ]
  },
  {
   "cell_type": "code",
   "execution_count": 36,
   "id": "2de4bf13",
   "metadata": {
    "execution": {
     "iopub.execute_input": "2023-08-20T12:26:29.017580Z",
     "iopub.status.busy": "2023-08-20T12:26:29.017184Z",
     "iopub.status.idle": "2023-08-20T12:26:29.025667Z",
     "shell.execute_reply": "2023-08-20T12:26:29.024679Z"
    },
    "papermill": {
     "duration": 0.045844,
     "end_time": "2023-08-20T12:26:29.028144",
     "exception": false,
     "start_time": "2023-08-20T12:26:28.982300",
     "status": "completed"
    },
    "tags": []
   },
   "outputs": [
    {
     "name": "stdout",
     "output_type": "stream",
     "text": [
      "Area of circle: 78.53975\n",
      "Area of rectangle: 12\n"
     ]
    }
   ],
   "source": [
    "class Shape:\n",
    "    def area(self):\n",
    "        pass  # Abstract method\n",
    "\n",
    "class Circle(Shape):\n",
    "    def __init__(self, radius):\n",
    "        self.radius = radius\n",
    "    \n",
    "    def area(self):\n",
    "        return 3.14159 * self.radius * self.radius\n",
    "\n",
    "class Rectangle(Shape):\n",
    "    def __init__(self, width, height):\n",
    "        self.width = width\n",
    "        self.height = height\n",
    "    \n",
    "    def area(self):\n",
    "        return self.width * self.height\n",
    "\n",
    "# Creating objects and invoking overridden methods\n",
    "circle = Circle(5)\n",
    "rectangle = Rectangle(4, 3)\n",
    "print(\"Area of circle:\", circle.area())\n",
    "print(\"Area of rectangle:\", rectangle.area())"
   ]
  },
  {
   "cell_type": "markdown",
   "id": "1469d802",
   "metadata": {
    "papermill": {
     "duration": 0.032242,
     "end_time": "2023-08-20T12:26:29.092538",
     "exception": false,
     "start_time": "2023-08-20T12:26:29.060296",
     "status": "completed"
    },
    "tags": []
   },
   "source": [
    "## Calling the Parent Class Method\n",
    "#### You can call the parent class method from within the overridden method using the super() function.\n",
    "\n",
    "### Example (Calling Parent Class Method):"
   ]
  },
  {
   "cell_type": "code",
   "execution_count": 37,
   "id": "952f6a97",
   "metadata": {
    "execution": {
     "iopub.execute_input": "2023-08-20T12:26:29.161653Z",
     "iopub.status.busy": "2023-08-20T12:26:29.159915Z",
     "iopub.status.idle": "2023-08-20T12:26:29.167842Z",
     "shell.execute_reply": "2023-08-20T12:26:29.166528Z"
    },
    "papermill": {
     "duration": 0.045613,
     "end_time": "2023-08-20T12:26:29.170164",
     "exception": false,
     "start_time": "2023-08-20T12:26:29.124551",
     "status": "completed"
    },
    "tags": []
   },
   "outputs": [
    {
     "name": "stdout",
     "output_type": "stream",
     "text": [
      "Area of square: 36\n",
      "Parent's area of square: 36\n"
     ]
    }
   ],
   "source": [
    "class Square(Rectangle):\n",
    "    def __init__(self, side):\n",
    "        super().__init__(side, side)\n",
    "\n",
    "# Creating an object of the Square subclass\n",
    "square = Square(6)\n",
    "print(\"Area of square:\", square.area())  # Calls overridden area method in Square\n",
    "print(\"Parent's area of square:\", super(Square, square).area())  # Calls parent's area method\n"
   ]
  },
  {
   "cell_type": "markdown",
   "id": "d2a91c22",
   "metadata": {
    "papermill": {
     "duration": 0.037475,
     "end_time": "2023-08-20T12:26:29.242567",
     "exception": false,
     "start_time": "2023-08-20T12:26:29.205092",
     "status": "completed"
    },
    "tags": []
   },
   "source": [
    "## Conclusion\n",
    "#### Method overriding allows subclasses to provide their own implementation for methods inherited from parent classes. This feature enables customization of behavior while maintaining a consistent interface. By calling the parent class method using super(), you can reuse and extend functionality from the parent class."
   ]
  },
  {
   "cell_type": "markdown",
   "id": "62cac514",
   "metadata": {
    "papermill": {
     "duration": 0.034558,
     "end_time": "2023-08-20T12:26:29.311886",
     "exception": false,
     "start_time": "2023-08-20T12:26:29.277328",
     "status": "completed"
    },
    "tags": []
   },
   "source": [
    "# Chapter 94: Instance vs. Class Attributes\n",
    "\n",
    "#### In this chapter, we'll explore the differences between instance and class attributes in Python classes. Understanding the distinction between these types of attributes is crucial for effective class design and object-oriented programming.\n",
    "\n",
    "## Instance Attributes\n",
    "\n",
    "#### Instance attributes are specific to individual objects (instances) of a class. They store data that is unique to each instance and can have different values for different instances.\n",
    "\n",
    "## Example (Instance Attributes):\n"
   ]
  },
  {
   "cell_type": "code",
   "execution_count": 38,
   "id": "a7b7dd81",
   "metadata": {
    "execution": {
     "iopub.execute_input": "2023-08-20T12:26:29.378568Z",
     "iopub.status.busy": "2023-08-20T12:26:29.378224Z",
     "iopub.status.idle": "2023-08-20T12:26:29.384147Z",
     "shell.execute_reply": "2023-08-20T12:26:29.383275Z"
    },
    "papermill": {
     "duration": 0.040936,
     "end_time": "2023-08-20T12:26:29.386703",
     "exception": false,
     "start_time": "2023-08-20T12:26:29.345767",
     "status": "completed"
    },
    "tags": []
   },
   "outputs": [
    {
     "name": "stdout",
     "output_type": "stream",
     "text": [
      "Name of person1: Alice\n",
      "Name of person2: Bob\n"
     ]
    }
   ],
   "source": [
    "\n",
    "class Person:\n",
    "    def __init__(self, name):\n",
    "        self.name = name\n",
    "\n",
    "# Creating objects with instance attributes\n",
    "person1 = Person(\"Alice\")\n",
    "person2 = Person(\"Bob\")\n",
    "print(\"Name of person1:\", person1.name)\n",
    "print(\"Name of person2:\", person2.name)"
   ]
  },
  {
   "cell_type": "markdown",
   "id": "88d3b01e",
   "metadata": {
    "papermill": {
     "duration": 0.031891,
     "end_time": "2023-08-20T12:26:29.450426",
     "exception": false,
     "start_time": "2023-08-20T12:26:29.418535",
     "status": "completed"
    },
    "tags": []
   },
   "source": [
    "## Class Attributes\n",
    "#### Class attributes are shared among all instances of a class. They store data that is common to all instances and has the same value for every instance of the class.\n",
    "\n",
    "### Example (Class Attributes):"
   ]
  },
  {
   "cell_type": "code",
   "execution_count": 39,
   "id": "c85763c2",
   "metadata": {
    "execution": {
     "iopub.execute_input": "2023-08-20T12:26:29.518043Z",
     "iopub.status.busy": "2023-08-20T12:26:29.516405Z",
     "iopub.status.idle": "2023-08-20T12:26:29.524277Z",
     "shell.execute_reply": "2023-08-20T12:26:29.523278Z"
    },
    "papermill": {
     "duration": 0.043843,
     "end_time": "2023-08-20T12:26:29.526439",
     "exception": false,
     "start_time": "2023-08-20T12:26:29.482596",
     "status": "completed"
    },
    "tags": []
   },
   "outputs": [
    {
     "name": "stdout",
     "output_type": "stream",
     "text": [
      "Value of pi: 3.14159\n",
      "Area of circle1: 78.53975\n",
      "Area of circle2: 28.274309999999996\n"
     ]
    }
   ],
   "source": [
    "class Circle:\n",
    "    pi = 3.14159\n",
    "    \n",
    "    def __init__(self, radius):\n",
    "        self.radius = radius\n",
    "    \n",
    "    def area(self):\n",
    "        return Circle.pi * self.radius * self.radius\n",
    "\n",
    "# Accessing a class attribute\n",
    "print(\"Value of pi:\", Circle.pi)\n",
    "\n",
    "# Creating objects with instance attributes and using the class attribute\n",
    "circle1 = Circle(5)\n",
    "circle2 = Circle(3)\n",
    "print(\"Area of circle1:\", circle1.area())\n",
    "print(\"Area of circle2:\", circle2.area())\n"
   ]
  },
  {
   "cell_type": "markdown",
   "id": "6a7e4820",
   "metadata": {
    "papermill": {
     "duration": 0.032832,
     "end_time": "2023-08-20T12:26:29.591349",
     "exception": false,
     "start_time": "2023-08-20T12:26:29.558517",
     "status": "completed"
    },
    "tags": []
   },
   "source": [
    "## Accessing Attributes\n",
    "#### Instance attributes are accessed using the self parameter within instance methods, while class attributes are accessed using the class name.\n",
    "\n",
    "### Example (Accessing Attributes):"
   ]
  },
  {
   "cell_type": "code",
   "execution_count": 40,
   "id": "cecba927",
   "metadata": {
    "execution": {
     "iopub.execute_input": "2023-08-20T12:26:29.656822Z",
     "iopub.status.busy": "2023-08-20T12:26:29.655900Z",
     "iopub.status.idle": "2023-08-20T12:26:29.663140Z",
     "shell.execute_reply": "2023-08-20T12:26:29.661789Z"
    },
    "papermill": {
     "duration": 0.042538,
     "end_time": "2023-08-20T12:26:29.665247",
     "exception": false,
     "start_time": "2023-08-20T12:26:29.622709",
     "status": "completed"
    },
    "tags": []
   },
   "outputs": [
    {
     "name": "stdout",
     "output_type": "stream",
     "text": [
      "Make of car: Toyota\n",
      "Number of wheels: 4\n"
     ]
    }
   ],
   "source": [
    "class Car:\n",
    "    wheels = 4\n",
    "    \n",
    "    def __init__(self, make):\n",
    "        self.make = make\n",
    "\n",
    "# Accessing instance attribute\n",
    "car = Car(\"Toyota\")\n",
    "print(\"Make of car:\", car.make)\n",
    "\n",
    "# Accessing class attribute\n",
    "print(\"Number of wheels:\", Car.wheels)\n"
   ]
  },
  {
   "cell_type": "markdown",
   "id": "a5785007",
   "metadata": {
    "papermill": {
     "duration": 0.032289,
     "end_time": "2023-08-20T12:26:29.730749",
     "exception": false,
     "start_time": "2023-08-20T12:26:29.698460",
     "status": "completed"
    },
    "tags": []
   },
   "source": [
    "## Conclusion\n",
    "#### Understanding the differences between instance and class attributes is essential for proper class design and data management. Instance attributes store unique data for each instance, while class attributes store shared data for all instances. Choosing the appropriate type of attribute based on your design requirements is crucial for creating effective and organized classes."
   ]
  },
  {
   "cell_type": "markdown",
   "id": "8e3ce546",
   "metadata": {
    "papermill": {
     "duration": 0.032377,
     "end_time": "2023-08-20T12:26:29.795723",
     "exception": false,
     "start_time": "2023-08-20T12:26:29.763346",
     "status": "completed"
    },
    "tags": []
   },
   "source": [
    "# Chapter 95: Introduction to Object-Oriented Programming\n",
    "\n",
    "#### In this chapter, we'll provide an introduction to Object-Oriented Programming (OOP) and explore its core concepts using Python. OOP is a programming paradigm that organizes code into reusable and modular structures known as classes, promoting code reusability, maintainability, and extensibility.\n",
    "\n",
    "## Understanding OOP Concepts\n",
    "\n",
    "### Classes and Objects\n",
    "\n",
    "#### A class is a blueprint for creating objects that share common attributes and behaviors. Objects are instances of classes and represent real-world entities.\n"
   ]
  },
  {
   "cell_type": "code",
   "execution_count": 41,
   "id": "e1695aa7",
   "metadata": {
    "execution": {
     "iopub.execute_input": "2023-08-20T12:26:29.862232Z",
     "iopub.status.busy": "2023-08-20T12:26:29.861084Z",
     "iopub.status.idle": "2023-08-20T12:26:29.867901Z",
     "shell.execute_reply": "2023-08-20T12:26:29.866858Z"
    },
    "papermill": {
     "duration": 0.042468,
     "end_time": "2023-08-20T12:26:29.869900",
     "exception": false,
     "start_time": "2023-08-20T12:26:29.827432",
     "status": "completed"
    },
    "tags": []
   },
   "outputs": [
    {
     "name": "stdout",
     "output_type": "stream",
     "text": [
      "Name: Alice\n",
      "Age: 30\n"
     ]
    }
   ],
   "source": [
    "\n",
    "\n",
    "class Person:\n",
    "    def __init__(self, name, age):\n",
    "        self.name = name\n",
    "        self.age = age\n",
    "\n",
    "# Creating an object (instance) of the Person class\n",
    "person = Person(\"Alice\", 30)\n",
    "print(\"Name:\", person.name)\n",
    "print(\"Age:\", person.age)"
   ]
  },
  {
   "cell_type": "markdown",
   "id": "e7542814",
   "metadata": {
    "papermill": {
     "duration": 0.033008,
     "end_time": "2023-08-20T12:26:29.935023",
     "exception": false,
     "start_time": "2023-08-20T12:26:29.902015",
     "status": "completed"
    },
    "tags": []
   },
   "source": [
    "## Encapsulation\n",
    "#### Encapsulation is the concept of bundling data (attributes) and methods (functions) that operate on the data within a single unit (class). It promotes data hiding and controlled access."
   ]
  },
  {
   "cell_type": "code",
   "execution_count": 42,
   "id": "89965caa",
   "metadata": {
    "execution": {
     "iopub.execute_input": "2023-08-20T12:26:30.001095Z",
     "iopub.status.busy": "2023-08-20T12:26:29.999933Z",
     "iopub.status.idle": "2023-08-20T12:26:30.007838Z",
     "shell.execute_reply": "2023-08-20T12:26:30.006532Z"
    },
    "papermill": {
     "duration": 0.043089,
     "end_time": "2023-08-20T12:26:30.009795",
     "exception": false,
     "start_time": "2023-08-20T12:26:29.966706",
     "status": "completed"
    },
    "tags": []
   },
   "outputs": [
    {
     "name": "stdout",
     "output_type": "stream",
     "text": [
      "Initial balance: 1000\n",
      "Updated balance: 1500\n"
     ]
    }
   ],
   "source": [
    "class BankAccount:\n",
    "    def __init__(self, balance):\n",
    "        self.__balance = balance\n",
    "    \n",
    "    def get_balance(self):\n",
    "        return self.__balance\n",
    "    \n",
    "    def deposit(self, amount):\n",
    "        self.__balance += amount\n",
    "\n",
    "# Creating an object of the BankAccount class\n",
    "account = BankAccount(1000)\n",
    "print(\"Initial balance:\", account.get_balance())\n",
    "account.deposit(500)\n",
    "print(\"Updated balance:\", account.get_balance())\n"
   ]
  },
  {
   "cell_type": "markdown",
   "id": "d19832f6",
   "metadata": {
    "papermill": {
     "duration": 0.03178,
     "end_time": "2023-08-20T12:26:30.073132",
     "exception": false,
     "start_time": "2023-08-20T12:26:30.041352",
     "status": "completed"
    },
    "tags": []
   },
   "source": [
    "## Inheritance\n",
    "#### Inheritance allows creating subclasses that inherit attributes and methods from a parent (base) class. It promotes code reuse and extensibility."
   ]
  },
  {
   "cell_type": "code",
   "execution_count": 43,
   "id": "0bc34b0b",
   "metadata": {
    "execution": {
     "iopub.execute_input": "2023-08-20T12:26:30.138100Z",
     "iopub.status.busy": "2023-08-20T12:26:30.137764Z",
     "iopub.status.idle": "2023-08-20T12:26:30.143988Z",
     "shell.execute_reply": "2023-08-20T12:26:30.143112Z"
    },
    "papermill": {
     "duration": 0.041343,
     "end_time": "2023-08-20T12:26:30.146361",
     "exception": false,
     "start_time": "2023-08-20T12:26:30.105018",
     "status": "completed"
    },
    "tags": []
   },
   "outputs": [
    {
     "name": "stdout",
     "output_type": "stream",
     "text": [
      "Engine started\n",
      "Car is driving\n"
     ]
    }
   ],
   "source": [
    "class Vehicle:\n",
    "    def __init__(self, make):\n",
    "        self.make = make\n",
    "    \n",
    "    def start(self):\n",
    "        print(\"Engine started\")\n",
    "\n",
    "class Car(Vehicle):\n",
    "    def drive(self):\n",
    "        print(\"Car is driving\")\n",
    "\n",
    "# Creating objects of subclass and invoking methods\n",
    "car = Car(\"Toyota\")\n",
    "car.start()\n",
    "car.drive()\n"
   ]
  },
  {
   "cell_type": "markdown",
   "id": "b8c5c179",
   "metadata": {
    "papermill": {
     "duration": 0.033039,
     "end_time": "2023-08-20T12:26:30.211987",
     "exception": false,
     "start_time": "2023-08-20T12:26:30.178948",
     "status": "completed"
    },
    "tags": []
   },
   "source": [
    "## Polymorphism\n",
    "#### Polymorphism allows objects of different classes to be treated as objects of a common base class. It promotes flexible and dynamic behavior."
   ]
  },
  {
   "cell_type": "code",
   "execution_count": 44,
   "id": "bbaa2b73",
   "metadata": {
    "execution": {
     "iopub.execute_input": "2023-08-20T12:26:30.283725Z",
     "iopub.status.busy": "2023-08-20T12:26:30.283379Z",
     "iopub.status.idle": "2023-08-20T12:26:30.290838Z",
     "shell.execute_reply": "2023-08-20T12:26:30.289935Z"
    },
    "papermill": {
     "duration": 0.044716,
     "end_time": "2023-08-20T12:26:30.293371",
     "exception": false,
     "start_time": "2023-08-20T12:26:30.248655",
     "status": "completed"
    },
    "tags": []
   },
   "outputs": [
    {
     "name": "stdout",
     "output_type": "stream",
     "text": [
      "Area of circle: 78.53975\n",
      "Area of rectangle: 12\n"
     ]
    }
   ],
   "source": [
    "class Shape:\n",
    "    def area(self):\n",
    "        pass  # Abstract method\n",
    "\n",
    "class Circle(Shape):\n",
    "    def area(self, radius):\n",
    "        return 3.14159 * radius * radius\n",
    "\n",
    "class Rectangle(Shape):\n",
    "    def area(self, width, height):\n",
    "        return width * height\n",
    "\n",
    "# Using polymorphism to calculate areas\n",
    "circle = Circle()\n",
    "rectangle = Rectangle()\n",
    "print(\"Area of circle:\", circle.area(5))\n",
    "print(\"Area of rectangle:\", rectangle.area(4, 3))\n"
   ]
  },
  {
   "cell_type": "markdown",
   "id": "ffe30b09",
   "metadata": {
    "papermill": {
     "duration": 0.035884,
     "end_time": "2023-08-20T12:26:30.363446",
     "exception": false,
     "start_time": "2023-08-20T12:26:30.327562",
     "status": "completed"
    },
    "tags": []
   },
   "source": [
    "## Conclusion\n",
    "#### Object-Oriented Programming (OOP) is a powerful paradigm that enables structuring code around real-world entities and their relationships. Classes provide a blueprint for creating objects, encapsulation ensures data integrity, inheritance promotes code reuse, and polymorphism allows dynamic behavior."
   ]
  },
  {
   "cell_type": "markdown",
   "id": "3a5f49d7",
   "metadata": {
    "papermill": {
     "duration": 0.033099,
     "end_time": "2023-08-20T12:26:30.429500",
     "exception": false,
     "start_time": "2023-08-20T12:26:30.396401",
     "status": "completed"
    },
    "tags": []
   },
   "source": [
    "# Chapter 96: Inheritance and Polymorphism\n",
    "\n",
    "#### In this chapter, we'll delve deeper into the concepts of inheritance and polymorphism in object-oriented programming (OOP) using Python. These concepts allow you to create hierarchies of classes, share code between classes, and achieve dynamic behavior through polymorphism.\n",
    "\n",
    "## Understanding Inheritance\n",
    "\n",
    "#### Inheritance is a fundamental OOP concept that enables the creation of subclasses that inherit attributes and methods from a parent (base) class. It promotes code reuse, extensibility, and the organization of related classes.\n",
    "\n",
    "## Example (Inheritance):\n"
   ]
  },
  {
   "cell_type": "code",
   "execution_count": 45,
   "id": "8c9ed23e",
   "metadata": {
    "execution": {
     "iopub.execute_input": "2023-08-20T12:26:30.497979Z",
     "iopub.status.busy": "2023-08-20T12:26:30.497048Z",
     "iopub.status.idle": "2023-08-20T12:26:30.505176Z",
     "shell.execute_reply": "2023-08-20T12:26:30.504097Z"
    },
    "papermill": {
     "duration": 0.044328,
     "end_time": "2023-08-20T12:26:30.507223",
     "exception": false,
     "start_time": "2023-08-20T12:26:30.462895",
     "status": "completed"
    },
    "tags": []
   },
   "outputs": [
    {
     "name": "stdout",
     "output_type": "stream",
     "text": [
      "Dog says: Woof!\n",
      "Cat says: Meow!\n"
     ]
    }
   ],
   "source": [
    "\n",
    "class Animal:\n",
    "    def speak(self):\n",
    "        pass  # Abstract method\n",
    "\n",
    "class Dog(Animal):\n",
    "    def speak(self):\n",
    "        return \"Woof!\"\n",
    "\n",
    "class Cat(Animal):\n",
    "    def speak(self):\n",
    "        return \"Meow!\"\n",
    "\n",
    "# Creating objects of subclasses and invoking methods\n",
    "dog = Dog()\n",
    "cat = Cat()\n",
    "print(\"Dog says:\", dog.speak())\n",
    "print(\"Cat says:\", cat.speak())"
   ]
  },
  {
   "cell_type": "markdown",
   "id": "ded31fdb",
   "metadata": {
    "papermill": {
     "duration": 0.033758,
     "end_time": "2023-08-20T12:26:30.573782",
     "exception": false,
     "start_time": "2023-08-20T12:26:30.540024",
     "status": "completed"
    },
    "tags": []
   },
   "source": [
    "## Understanding Polymorphism\n",
    "#### Polymorphism is the ability of objects of different classes to be treated as objects of a common base class. It allows objects to respond to the same method in a way that's specific to their individual class implementations.\n",
    "\n",
    "### Example (Polymorphism):"
   ]
  },
  {
   "cell_type": "code",
   "execution_count": 46,
   "id": "a5850d82",
   "metadata": {
    "execution": {
     "iopub.execute_input": "2023-08-20T12:26:30.643433Z",
     "iopub.status.busy": "2023-08-20T12:26:30.642533Z",
     "iopub.status.idle": "2023-08-20T12:26:30.651700Z",
     "shell.execute_reply": "2023-08-20T12:26:30.650238Z"
    },
    "papermill": {
     "duration": 0.045372,
     "end_time": "2023-08-20T12:26:30.653707",
     "exception": false,
     "start_time": "2023-08-20T12:26:30.608335",
     "status": "completed"
    },
    "tags": []
   },
   "outputs": [
    {
     "name": "stdout",
     "output_type": "stream",
     "text": [
      "Area: 78.53975\n",
      "Area: 12\n"
     ]
    }
   ],
   "source": [
    "class Shape:\n",
    "    def area(self):\n",
    "        pass  # Abstract method\n",
    "\n",
    "class Circle(Shape):\n",
    "    def __init__(self, radius):\n",
    "        self.radius = radius\n",
    "    \n",
    "    def area(self):\n",
    "        return 3.14159 * self.radius * self.radius\n",
    "\n",
    "class Rectangle(Shape):\n",
    "    def __init__(self, width, height):\n",
    "        self.width = width\n",
    "        self.height = height\n",
    "    \n",
    "    def area(self):\n",
    "        return self.width * self.height\n",
    "\n",
    "# Using polymorphism to calculate areas of different shapes\n",
    "shapes = [Circle(5), Rectangle(4, 3)]\n",
    "for shape in shapes:\n",
    "    print(\"Area:\", shape.area())\n"
   ]
  },
  {
   "cell_type": "markdown",
   "id": "69e4d90a",
   "metadata": {
    "papermill": {
     "duration": 0.031724,
     "end_time": "2023-08-20T12:26:30.718001",
     "exception": false,
     "start_time": "2023-08-20T12:26:30.686277",
     "status": "completed"
    },
    "tags": []
   },
   "source": [
    "## Overriding and Extending\n",
    "#### Subclasses can override methods inherited from the parent class, providing their own implementation. They can also extend the functionality by adding new methods.\n",
    "\n",
    "### Example (Overriding and Extending):"
   ]
  },
  {
   "cell_type": "code",
   "execution_count": 47,
   "id": "d7b22d88",
   "metadata": {
    "execution": {
     "iopub.execute_input": "2023-08-20T12:26:30.784456Z",
     "iopub.status.busy": "2023-08-20T12:26:30.783585Z",
     "iopub.status.idle": "2023-08-20T12:26:30.791942Z",
     "shell.execute_reply": "2023-08-20T12:26:30.790540Z"
    },
    "papermill": {
     "duration": 0.044073,
     "end_time": "2023-08-20T12:26:30.794172",
     "exception": false,
     "start_time": "2023-08-20T12:26:30.750099",
     "status": "completed"
    },
    "tags": []
   },
   "outputs": [
    {
     "name": "stdout",
     "output_type": "stream",
     "text": [
      "Engine started\n",
      "Car is driving\n",
      "Car stopped\n"
     ]
    }
   ],
   "source": [
    "class Vehicle:\n",
    "    def start(self):\n",
    "        print(\"Engine started\")\n",
    "\n",
    "class Car(Vehicle):\n",
    "    def drive(self):\n",
    "        print(\"Car is driving\")\n",
    "\n",
    "    def stop(self):\n",
    "        print(\"Car stopped\")\n",
    "\n",
    "# Creating an object of the Car class and invoking methods\n",
    "car = Car()\n",
    "car.start()\n",
    "car.drive()\n",
    "car.stop()\n"
   ]
  },
  {
   "cell_type": "markdown",
   "id": "4bcb854a",
   "metadata": {
    "papermill": {
     "duration": 0.033318,
     "end_time": "2023-08-20T12:26:30.860489",
     "exception": false,
     "start_time": "2023-08-20T12:26:30.827171",
     "status": "completed"
    },
    "tags": []
   },
   "source": [
    "## Conclusion\n",
    "#### Inheritance and polymorphism are essential concepts in OOP that allow you to create hierarchical class structures and achieve dynamic behavior. Inheritance promotes code reuse and extensibility, while polymorphism enables flexible interactions between objects."
   ]
  },
  {
   "cell_type": "markdown",
   "id": "b4acac21",
   "metadata": {
    "papermill": {
     "duration": 0.033112,
     "end_time": "2023-08-20T12:26:30.925833",
     "exception": false,
     "start_time": "2023-08-20T12:26:30.892721",
     "status": "completed"
    },
    "tags": []
   },
   "source": [
    "# Chapter 97: Encapsulation and Access Modifiers\n",
    "\n",
    "#### In this chapter, we'll explore the concept of encapsulation in object-oriented programming (OOP) using Python. Encapsulation refers to the practice of bundling data (attributes) and methods (functions) that operate on the data within a single unit (class). We'll also discuss access modifiers that control the visibility of class members.\n",
    "\n",
    "## Understanding Encapsulation\n",
    "\n",
    "#### Encapsulation helps in achieving data hiding and controlled access. It allows you to hide the internal details of a class and expose only what is necessary for external interaction.\n",
    "\n",
    "## Example (Encapsulation):\n"
   ]
  },
  {
   "cell_type": "code",
   "execution_count": 48,
   "id": "f73c2834",
   "metadata": {
    "execution": {
     "iopub.execute_input": "2023-08-20T12:26:30.993655Z",
     "iopub.status.busy": "2023-08-20T12:26:30.992630Z",
     "iopub.status.idle": "2023-08-20T12:26:31.001312Z",
     "shell.execute_reply": "2023-08-20T12:26:31.000049Z"
    },
    "papermill": {
     "duration": 0.045193,
     "end_time": "2023-08-20T12:26:31.003325",
     "exception": false,
     "start_time": "2023-08-20T12:26:30.958132",
     "status": "completed"
    },
    "tags": []
   },
   "outputs": [
    {
     "name": "stdout",
     "output_type": "stream",
     "text": [
      "Initial balance: 1000\n",
      "Updated balance: 1500\n"
     ]
    }
   ],
   "source": [
    "\n",
    "class BankAccount:\n",
    "    def __init__(self, account_number, balance):\n",
    "        self.__account_number = account_number\n",
    "        self.__balance = balance\n",
    "    \n",
    "    def get_balance(self):\n",
    "        return self.__balance\n",
    "    \n",
    "    def deposit(self, amount):\n",
    "        if amount > 0:\n",
    "            self.__balance += amount\n",
    "\n",
    "# Creating an object of the BankAccount class\n",
    "account = BankAccount(\"12345\", 1000)\n",
    "print(\"Initial balance:\", account.get_balance())\n",
    "\n",
    "# Attempting to access private attributes directly (will raise an error)\n",
    "# print(\"Account number:\", account.__account_number)\n",
    "\n",
    "# Depositing money using the deposit method\n",
    "account.deposit(500)\n",
    "print(\"Updated balance:\", account.get_balance())"
   ]
  },
  {
   "cell_type": "markdown",
   "id": "7efa3af5",
   "metadata": {
    "papermill": {
     "duration": 0.033309,
     "end_time": "2023-08-20T12:26:31.069561",
     "exception": false,
     "start_time": "2023-08-20T12:26:31.036252",
     "status": "completed"
    },
    "tags": []
   },
   "source": [
    "## Access Modifiers (Visibility)\n",
    "#### Access modifiers determine the visibility and accessibility of class members. Python provides three access modifiers: public, private, and protected.\n",
    "\n",
    "## Public (Default):\n",
    "#### Class members without any access modifier are considered public and can be accessed from anywhere.\n",
    "\n",
    "## Private (__ prefix):\n",
    "#### Class members with a double underscore prefix are considered private and can only be accessed within the class.\n",
    "\n",
    "## Protected (_ prefix):\n",
    "#### Class members with a single underscore prefix are considered protected and can be accessed within the class and its subclasses.\n",
    "\n",
    "### Example (Access Modifiers):"
   ]
  },
  {
   "cell_type": "code",
   "execution_count": 49,
   "id": "5f5d82c7",
   "metadata": {
    "execution": {
     "iopub.execute_input": "2023-08-20T12:26:31.138691Z",
     "iopub.status.busy": "2023-08-20T12:26:31.137723Z",
     "iopub.status.idle": "2023-08-20T12:26:31.147254Z",
     "shell.execute_reply": "2023-08-20T12:26:31.145847Z"
    },
    "papermill": {
     "duration": 0.046682,
     "end_time": "2023-08-20T12:26:31.149340",
     "exception": false,
     "start_time": "2023-08-20T12:26:31.102658",
     "status": "completed"
    },
    "tags": []
   },
   "outputs": [
    {
     "name": "stdout",
     "output_type": "stream",
     "text": [
      "Name: Alice\n",
      "Age: 20\n",
      "Roll Number: 123\n",
      "Age: 22\n"
     ]
    }
   ],
   "source": [
    "class Student:\n",
    "    def __init__(self, name, age):\n",
    "        self.name = name           # Public attribute\n",
    "        self._age = age            # Protected attribute\n",
    "        self.__roll_number = 123   # Private attribute\n",
    "    \n",
    "    def display(self):\n",
    "        print(\"Name:\", self.name)\n",
    "        print(\"Age:\", self._age)\n",
    "        print(\"Roll Number:\", self.__roll_number)\n",
    "\n",
    "# Creating an object of the Student class\n",
    "student = Student(\"Alice\", 20)\n",
    "student.display()\n",
    "\n",
    "# Accessing protected attribute (within class and subclass)\n",
    "class GraduateStudent(Student):\n",
    "    def show_age(self):\n",
    "        print(\"Age:\", self._age)\n",
    "\n",
    "grad_student = GraduateStudent(\"Bob\", 22)\n",
    "grad_student.show_age()\n"
   ]
  },
  {
   "cell_type": "markdown",
   "id": "2aa23896",
   "metadata": {
    "papermill": {
     "duration": 0.032612,
     "end_time": "2023-08-20T12:26:31.215358",
     "exception": false,
     "start_time": "2023-08-20T12:26:31.182746",
     "status": "completed"
    },
    "tags": []
   },
   "source": [
    "## Conclusion\n",
    "#### Encapsulation is a fundamental OOP principle that promotes data hiding and controlled access to class members. Access modifiers provide a way to define the visibility of attributes and methods within a class. By understanding encapsulation and access modifiers, you can create more secure and maintainable code."
   ]
  },
  {
   "cell_type": "markdown",
   "id": "18d1e327",
   "metadata": {
    "papermill": {
     "duration": 0.032809,
     "end_time": "2023-08-20T12:26:31.282365",
     "exception": false,
     "start_time": "2023-08-20T12:26:31.249556",
     "status": "completed"
    },
    "tags": []
   },
   "source": [
    "# Chapter 98: Operator Overloading and Magic Methods\n",
    "\n",
    "#### In this chapter, we'll explore the concept of operator overloading in object-oriented programming (OOP) using Python. Operator overloading allows you to define custom behavior for built-in operators (+, -, *, /, etc.) when used with objects of your own classes. We'll also delve into magic methods, which are special methods that control the behavior of operators and built-in functions for class instances.\n",
    "\n",
    "## Understanding Operator Overloading\n",
    "\n",
    "#### Operator overloading lets you define how operators work for objects of your class. You can customize their behavior to suit the context of your class.\n",
    "\n",
    "## Example (Operator Overloading):\n",
    "\n"
   ]
  },
  {
   "cell_type": "code",
   "execution_count": 50,
   "id": "b2b07cd1",
   "metadata": {
    "execution": {
     "iopub.execute_input": "2023-08-20T12:26:31.352831Z",
     "iopub.status.busy": "2023-08-20T12:26:31.351896Z",
     "iopub.status.idle": "2023-08-20T12:26:31.360151Z",
     "shell.execute_reply": "2023-08-20T12:26:31.358994Z"
    },
    "papermill": {
     "duration": 0.046058,
     "end_time": "2023-08-20T12:26:31.362153",
     "exception": false,
     "start_time": "2023-08-20T12:26:31.316095",
     "status": "completed"
    },
    "tags": []
   },
   "outputs": [
    {
     "name": "stdout",
     "output_type": "stream",
     "text": [
      "v3 = (4, 6)\n"
     ]
    }
   ],
   "source": [
    "\n",
    "class Vector:\n",
    "    def __init__(self, x, y):\n",
    "        self.x = x\n",
    "        self.y = y\n",
    "    \n",
    "    def __add__(self, other):\n",
    "        new_x = self.x + other.x\n",
    "        new_y = self.y + other.y\n",
    "        return Vector(new_x, new_y)\n",
    "\n",
    "    def __str__(self):\n",
    "        return f\"({self.x}, {self.y})\"\n",
    "\n",
    "# Creating objects of the Vector class\n",
    "v1 = Vector(1, 2)\n",
    "v2 = Vector(3, 4)\n",
    "\n",
    "# Using the + operator with objects\n",
    "v3 = v1 + v2\n",
    "print(\"v3 =\", v3)"
   ]
  },
  {
   "cell_type": "markdown",
   "id": "7b8f000e",
   "metadata": {
    "papermill": {
     "duration": 0.034567,
     "end_time": "2023-08-20T12:26:31.430283",
     "exception": false,
     "start_time": "2023-08-20T12:26:31.395716",
     "status": "completed"
    },
    "tags": []
   },
   "source": [
    "## Understanding Magic Methods\n",
    "#### Magic methods are special methods in Python that start and end with double underscores (dunder). They allow you to define behavior for operators and built-in functions when used with instances of your class.\n",
    "\n",
    "### Example (Magic Methods):"
   ]
  },
  {
   "cell_type": "code",
   "execution_count": 51,
   "id": "b1283a9b",
   "metadata": {
    "execution": {
     "iopub.execute_input": "2023-08-20T12:26:31.500944Z",
     "iopub.status.busy": "2023-08-20T12:26:31.499957Z",
     "iopub.status.idle": "2023-08-20T12:26:31.509293Z",
     "shell.execute_reply": "2023-08-20T12:26:31.507853Z"
    },
    "papermill": {
     "duration": 0.047234,
     "end_time": "2023-08-20T12:26:31.512028",
     "exception": false,
     "start_time": "2023-08-20T12:26:31.464794",
     "status": "completed"
    },
    "tags": []
   },
   "outputs": [
    {
     "name": "stdout",
     "output_type": "stream",
     "text": [
      "c3 = 6 + 8i\n",
      "c1 = 2 + 3i\n"
     ]
    }
   ],
   "source": [
    "class ComplexNumber:\n",
    "    def __init__(self, real, imag):\n",
    "        self.real = real\n",
    "        self.imag = imag\n",
    "    \n",
    "    def __add__(self, other):\n",
    "        new_real = self.real + other.real\n",
    "        new_imag = self.imag + other.imag\n",
    "        return ComplexNumber(new_real, new_imag)\n",
    "    \n",
    "    def __str__(self):\n",
    "        return f\"{self.real} + {self.imag}i\"\n",
    "\n",
    "# Creating objects of the ComplexNumber class\n",
    "c1 = ComplexNumber(2, 3)\n",
    "c2 = ComplexNumber(4, 5)\n",
    "\n",
    "# Using the + operator and customizing behavior\n",
    "c3 = c1 + c2\n",
    "print(\"c3 =\", c3)\n",
    "\n",
    "# Using the str() function and customizing behavior\n",
    "print(\"c1 =\", str(c1))\n"
   ]
  },
  {
   "cell_type": "markdown",
   "id": "3bd25c87",
   "metadata": {
    "papermill": {
     "duration": 0.036004,
     "end_time": "2023-08-20T12:26:31.583611",
     "exception": false,
     "start_time": "2023-08-20T12:26:31.547607",
     "status": "completed"
    },
    "tags": []
   },
   "source": [
    "## Common Magic Methods\n",
    "### Here are some common magic methods and their purposes:\n",
    "\n",
    "#### __init__(self, ...): Constructor method.\n",
    "#### __str__(self): String representation of an object (used by str() and print()).\n",
    "#### __add__(self, other): Addition operation (+ operator).\n",
    "#### __sub__(self, other): Subtraction operation (- operator).\n",
    "#### __mul__(self, other): Multiplication operation (* operator).\n",
    "## Conclusion\n",
    "#### Operator overloading and magic methods provide a powerful way to customize the behavior of operators and built-in functions for your class instances. By implementing these methods, you can make your classes more intuitive and user-friendly."
   ]
  },
  {
   "cell_type": "markdown",
   "id": "ef01d693",
   "metadata": {
    "papermill": {
     "duration": 0.036708,
     "end_time": "2023-08-20T12:26:31.656565",
     "exception": false,
     "start_time": "2023-08-20T12:26:31.619857",
     "status": "completed"
    },
    "tags": []
   },
   "source": [
    "# Chapter 99: Design Patterns in Python\n",
    "\n",
    "#### In this chapter, we'll dive into the world of design patterns in Python. Design patterns are reusable solutions to common programming problems. By understanding and utilizing design patterns, you can create more maintainable, flexible, and efficient code.\n",
    "\n",
    "### Introduction to Design Patterns\n",
    "\n",
    "#### Design patterns provide standardized solutions for recurring problems in software design. They offer a common vocabulary and structure that developers can use to communicate and collaborate effectively.\n",
    "\n",
    "### Creational Patterns\n",
    "\n",
    "#### Creational design patterns focus on object creation mechanisms. They help manage object creation, composition, and representation. Some common creational patterns include:\n",
    "\n",
    "#### - Singleton: Ensures that a class has only one instance and provides a global point of access.\n",
    "#### - Factory Method: Creates objects without specifying the exact class of object that will be created.\n",
    "#### - Abstract Factory: Provides an interface for creating families of related or dependent objects.\n",
    "### - Builder: Separates the construction of a complex object from its representation.\n",
    "\n",
    "### Structural Patterns\n",
    "\n",
    "#### Structural design patterns describe relationships between objects and provide guidelines for assembling objects to form larger structures. Some common structural patterns include:\n",
    "\n",
    "#### - Adapter: Allows objects with incompatible interfaces to collaborate.\n",
    "#### - Decorator: Adds behavior to objects dynamically.\n",
    "#### - Facade: Provides a simplified interface to a set of interfaces in a subsystem.\n",
    "#### - Composite: Composes objects into tree structures to represent part-whole hierarchies.\n",
    "\n",
    "### Behavioral Patterns\n",
    "\n",
    "#### Behavioral design patterns focus on the interactions between objects and how they collaborate. They address communication, responsibilities, and control flow. Some common behavioral patterns include:\n",
    "\n",
    "#### - Observer: Defines a one-to-many dependency between objects so that when one object changes state, all its dependents are notified and updated automatically.\n",
    "#### - Strategy: Defines a family of algorithms, encapsulates each algorithm, and makes them interchangeable.\n",
    "#### - Command: Turns a request into a stand-alone object, allowing parameterization of clients with different requests.\n",
    "#### - State: Allows an object to change its behavior when its internal state changes.\n",
    "\n",
    "### Real-World Examples\n",
    "\n",
    "#### In this section, we'll implement various design patterns in Python using real-world scenarios. By applying design patterns to practical situations, you'll gain a deeper understanding of their benefits and usage.\n",
    "\n",
    "## Conclusion\n",
    "\n",
    "#### Design patterns are essential tools in a developer's toolkit, enabling the creation of more structured and maintainable code. By exploring creational, structural, and behavioral patterns, you'll be better equipped to design robust and flexible software systems.\n",
    "\n",
    "#### Feel free to experiment with design patterns in your Python projects and adapt them to your specific needs. Happy coding!"
   ]
  },
  {
   "cell_type": "markdown",
   "id": "22526153",
   "metadata": {
    "papermill": {
     "duration": 0.036416,
     "end_time": "2023-08-20T12:26:31.730553",
     "exception": false,
     "start_time": "2023-08-20T12:26:31.694137",
     "status": "completed"
    },
    "tags": []
   },
   "source": [
    "# Chapter 100: Conclusion\n",
    "\n",
    "#### Congratulations on completing this comprehensive Python programming notebook! Over the course of 100 chapters, you've embarked on a journey through the fundamental concepts, advanced techniques, and practical applications of Python. Let's take a moment to reflect on what you've learned and achieved.\n",
    "\n",
    "### Your Python Journey\n",
    "\n",
    "#### From the very beginning, you've delved into the core fundamentals of Python, exploring its syntax, data types, control structures, and functions. You've gained a solid understanding of how to work with variables, handle input and output, and utilize operators and expressions to perform various computations.\n",
    "\n",
    "#### As you progressed, you learned about the power of object-oriented programming (OOP). You explored classes and objects, inheritance and polymorphism, encapsulation, and operator overloading. You've witnessed the magic of decorators, context managers, and advanced concepts like threading, multiprocessing, and regular expressions.\n",
    "\n",
    "#### Your journey also included exploring Python's standard libraries, file handling, error handling, and various tools for testing, debugging, and optimization. You dived into the world of web scraping, design patterns, and practical applications like date and time manipulation, JSON serialization, recursion, and more.\n",
    "\n",
    "### Real-World Applications\n",
    "\n",
    "#### Throughout this notebook, you've encountered real-world examples and scenarios that demonstrate how Python can be applied to various domains. From data manipulation and analysis to web development, automation, and scientific computing, Python's versatility has been showcased in numerous ways.\n",
    "\n",
    "### Continuation and Exploration\n",
    "\n",
    "#### Your journey with Python doesn't end here. Python is a dynamic and evolving language, with new libraries, frameworks, and tools constantly emerging. As you continue your programming journey, consider exploring areas like machine learning, artificial intelligence, web frameworks, and data science.\n",
    "\n",
    "#### Remember that practice is key. Apply the knowledge you've gained by working on projects that interest you. Experiment with different concepts, solve problems, and collaborate with the Python community to expand your skills and expertise.\n",
    "\n",
    "## Conclusion\n",
    "\n",
    "#### You've now completed an in-depth exploration of Python programming, covering its foundational concepts, advanced techniques, and practical applications. Armed with this knowledge, you're well-equipped to tackle a wide range of programming challenges and embark on exciting projects.\n",
    "\n",
    "#### Thank you for joining us on this Python journey. Your dedication and effort will undoubtedly lead to great achievements in the world of programming. Happy coding!\n",
    "\n",
    "\n",
    "\n",
    "#### Feel free to revisit any chapter or topic as needed, and remember that learning is a continuous process. Keep exploring, keep coding, and keep pushing the boundaries of what you can achieve with Python."
   ]
  }
 ],
 "metadata": {
  "kernelspec": {
   "display_name": "Python 3",
   "language": "python",
   "name": "python3"
  },
  "language_info": {
   "codemirror_mode": {
    "name": "ipython",
    "version": 3
   },
   "file_extension": ".py",
   "mimetype": "text/x-python",
   "name": "python",
   "nbconvert_exporter": "python",
   "pygments_lexer": "ipython3",
   "version": "3.10.12"
  },
  "papermill": {
   "default_parameters": {},
   "duration": 21.231215,
   "end_time": "2023-08-20T12:26:32.385139",
   "environment_variables": {},
   "exception": null,
   "input_path": "__notebook__.ipynb",
   "output_path": "__notebook__.ipynb",
   "parameters": {},
   "start_time": "2023-08-20T12:26:11.153924",
   "version": "2.4.0"
  }
 },
 "nbformat": 4,
 "nbformat_minor": 5
}
